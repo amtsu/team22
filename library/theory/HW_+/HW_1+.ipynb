{
 "cells": [
  {
   "cell_type": "markdown",
   "id": "5cc41d4e",
   "metadata": {},
   "source": [
    "# Дополнительное домашнее задание № 1"
   ]
  },
  {
   "cell_type": "markdown",
   "id": "751f9ff2",
   "metadata": {},
   "source": [
    "## Это домашнее задание вы можете проверить сами запустив после поля с функцией поле с тестами."
   ]
  },
  {
   "cell_type": "markdown",
   "id": "c0a8c02c",
   "metadata": {},
   "source": [
    "### Внимание!!!\n",
    "### Обязательно прочтите инструкцию в файле README.txt !\n",
    "### Не меняйте название функции и поле с тестами, иначе тесты будут работать некорректно !\n",
    "### Ниже приведен пример работы функции с тестами:\n",
    "#### ↓ ↓ ↓ ↓ ↓ ↓ ↓ ↓ ↓ ↓ ↓ ↓ ↓ ↓ ↓ ↓ ↓ ↓ ↓ ↓ ↓ ↓ ↓ ↓ ↓ ↓ ↓ ↓ "
   ]
  },
  {
   "cell_type": "code",
<<<<<<< HEAD
   "execution_count": 3,
=======
   "execution_count": 1,
>>>>>>> fcfc32944a2f6cf8ea33d3d81a31084080218afb
   "id": "a8f703c2",
   "metadata": {},
   "outputs": [],
   "source": [
    "import pytest\n",
    "import ipytest\n",
    "ipytest.autoconfig() #  Это поле лучше не трогать! "
   ]
  },
  {
   "cell_type": "code",
<<<<<<< HEAD
   "execution_count": 4,
=======
   "execution_count": 2,
>>>>>>> fcfc32944a2f6cf8ea33d3d81a31084080218afb
   "id": "934b8fcd",
   "metadata": {},
   "outputs": [],
   "source": [
    "def slojeniye(a, b): # Это поле с функцией. Не меняйте её название!\n",
    "    return a + b"
   ]
  },
  {
   "cell_type": "code",
<<<<<<< HEAD
   "execution_count": 5,
=======
   "execution_count": 3,
>>>>>>> fcfc32944a2f6cf8ea33d3d81a31084080218afb
   "id": "63516937",
   "metadata": {},
   "outputs": [
    {
     "name": "stdout",
     "output_type": "stream",
     "text": [
      "\u001b[32m.\u001b[0m\u001b[32m.\u001b[0m\u001b[32m                                                                                           [100%]\u001b[0m\n",
<<<<<<< HEAD
      "\u001b[32m\u001b[32m\u001b[1m2 passed\u001b[0m\u001b[32m in 0.02s\u001b[0m\u001b[0m\n"
=======
      "\u001b[32m\u001b[32m\u001b[1m2 passed\u001b[0m\u001b[32m in 0.01s\u001b[0m\u001b[0m\n"
>>>>>>> fcfc32944a2f6cf8ea33d3d81a31084080218afb
     ]
    }
   ],
   "source": [
    "%%ipytest \n",
    "\n",
    "# Это поле с тестами\n",
    "\n",
    "def test_happy_pass():\n",
    "    \"\"\"Этот тест проверяет обычное сложение числа 1 и 1, в результате получаем 2\"\"\"\n",
    "    assert slojeniye(1, 1) == 2 \n",
    "    \n",
    "def test_slojeniye_otrizatelnogo_chisla():\n",
    "    \"\"\"Этот тест для проверки сложения отрицательного числа\"\"\"\n",
    "    assert slojeniye(3, -2) == 1\n",
    "    \n",
    "# Если тесты выполняются без ошибок, то вы увидите << [100%] >> зеленого цвета и ниже будет \n",
    "# написано количество тестов которые были выполнены и время за которое они выполнились"
   ]
  },
  {
   "cell_type": "code",
<<<<<<< HEAD
   "execution_count": 6,
=======
   "execution_count": 4,
>>>>>>> fcfc32944a2f6cf8ea33d3d81a31084080218afb
   "id": "26d29749",
   "metadata": {},
   "outputs": [
    {
     "name": "stdout",
     "output_type": "stream",
     "text": [
      "\u001b[32m.\u001b[0m\u001b[31mF\u001b[0m\u001b[31m                                                                                           [100%]\u001b[0m\n",
      "============================================= FAILURES =============================================\n",
      "\u001b[31m\u001b[1m_________________________________________ test_ne_prohodit _________________________________________\u001b[0m\n",
      "\n",
      "    \u001b[94mdef\u001b[39;49;00m \u001b[92mtest_ne_prohodit\u001b[39;49;00m():\n",
      "        \u001b[33m\"\"\"Этот тест сработает неправильно для того что бы показать вам как выглядит зафэйленный тест\u001b[39;49;00m\n",
      "    \u001b[33m    * сейчас он не сработает из за ошибки в тесте (5 + 5 != 666),\u001b[39;49;00m\n",
      "    \u001b[33m    но обычно тесты фэйлятся из за ошибки в проверяемом коде *\u001b[39;49;00m\n",
      "    \u001b[33m\u001b[39;49;00m\n",
      "    \u001b[33m    (если очень хочется, можете написать его потом правильно, что бы он вам не мозолил глаза :))\"\"\"\u001b[39;49;00m\n",
      "    \n",
      ">       \u001b[94massert\u001b[39;49;00m slojeniye(\u001b[94m5\u001b[39;49;00m, \u001b[94m5\u001b[39;49;00m) == \u001b[94m666\u001b[39;49;00m\n",
      "\u001b[1m\u001b[31mE       assert 10 == 666\u001b[0m\n",
      "\u001b[1m\u001b[31mE        +  where 10 = slojeniye(5, 5)\u001b[0m\n",
      "\n",
<<<<<<< HEAD
      "\u001b[1m\u001b[31m/tmp/ipykernel_3001915/3426222471.py\u001b[0m:12: AssertionError\n",
      "\u001b[36m\u001b[1m===================================== short test summary info ======================================\u001b[0m\n",
      "\u001b[31mFAILED\u001b[0m t_d0c094eaeacd4ebabbb47dae141327d7.py::\u001b[1mtest_ne_prohodit\u001b[0m - assert 10 == 666\n",
      "\u001b[31m\u001b[31m\u001b[1m1 failed\u001b[0m, \u001b[32m1 passed\u001b[0m\u001b[31m in 0.10s\u001b[0m\u001b[0m\n"
=======
      "\u001b[1m\u001b[31m/tmp/ipykernel_3012288/3426222471.py\u001b[0m:12: AssertionError\n",
      "\u001b[36m\u001b[1m===================================== short test summary info ======================================\u001b[0m\n",
      "\u001b[31mFAILED\u001b[0m t_07e250aaa0dc40218419e962230df51a.py::\u001b[1mtest_ne_prohodit\u001b[0m - assert 10 == 666\n",
      "\u001b[31m\u001b[31m\u001b[1m1 failed\u001b[0m, \u001b[32m1 passed\u001b[0m\u001b[31m in 0.12s\u001b[0m\u001b[0m\n"
>>>>>>> fcfc32944a2f6cf8ea33d3d81a31084080218afb
     ]
    }
   ],
   "source": [
    "%%ipytest\n",
    "\n",
    "def test_prohodit():\n",
    "    \"\"\"Этот сработает правильно\"\"\"\n",
    "    assert slojeniye(5, 5) == 10\n",
    "    \n",
    "def test_ne_prohodit():\n",
    "    \"\"\"Этот тест сработает неправильно для того что бы показать вам как выглядит зафэйленный тест\n",
    "    * сейчас он не сработает из за ошибки в тесте (5 + 5 != 666), \n",
    "    но обычно тесты фэйлятся из за ошибки в проверяемом коде *\n",
    "    \n",
    "    (если очень хочется, можете написать его потом правильно, что бы он вам не мозолил глаза :))\"\"\"\n",
    "    \n",
    "    assert slojeniye(5, 5) == 666"
   ]
  },
  {
   "cell_type": "markdown",
   "id": "14da4065",
   "metadata": {},
   "source": [
    "# Задание 1\n",
    "## Этот код не выполняется должным образом. Попытайтесь понять, почему."
   ]
  },
  {
   "cell_type": "code",
<<<<<<< HEAD
   "execution_count": 7,
=======
   "execution_count": 5,
>>>>>>> fcfc32944a2f6cf8ea33d3d81a31084080218afb
   "id": "76c2ef1b",
   "metadata": {},
   "outputs": [],
   "source": [
    "def multiply(a, b):\n",
    "    a * b"
   ]
  },
  {
   "cell_type": "code",
<<<<<<< HEAD
   "execution_count": 8,
=======
   "execution_count": 6,
>>>>>>> fcfc32944a2f6cf8ea33d3d81a31084080218afb
   "id": "e3a428d1",
   "metadata": {},
   "outputs": [
    {
     "name": "stdout",
     "output_type": "stream",
     "text": [
      "\u001b[31mF\u001b[0m\u001b[31m                                                                                            [100%]\u001b[0m\n",
      "============================================= FAILURES =============================================\n",
      "\u001b[31m\u001b[1m__________________________________________ test_multiply ___________________________________________\u001b[0m\n",
      "\n",
      "    \u001b[94mdef\u001b[39;49;00m \u001b[92mtest_multiply\u001b[39;49;00m():\n",
      ">       \u001b[94massert\u001b[39;49;00m multiply(\u001b[94m2\u001b[39;49;00m, \u001b[94m2\u001b[39;49;00m) == \u001b[94m4\u001b[39;49;00m\n",
      "\u001b[1m\u001b[31mE       assert None == 4\u001b[0m\n",
      "\u001b[1m\u001b[31mE        +  where None = multiply(2, 2)\u001b[0m\n",
      "\n",
<<<<<<< HEAD
      "\u001b[1m\u001b[31m/tmp/ipykernel_3001915/4294570518.py\u001b[0m:2: AssertionError\n",
      "\u001b[36m\u001b[1m===================================== short test summary info ======================================\u001b[0m\n",
      "\u001b[31mFAILED\u001b[0m t_d0c094eaeacd4ebabbb47dae141327d7.py::\u001b[1mtest_multiply\u001b[0m - assert None == 4\n",
=======
      "\u001b[1m\u001b[31m/tmp/ipykernel_3012288/4294570518.py\u001b[0m:2: AssertionError\n",
      "\u001b[36m\u001b[1m===================================== short test summary info ======================================\u001b[0m\n",
      "\u001b[31mFAILED\u001b[0m t_07e250aaa0dc40218419e962230df51a.py::\u001b[1mtest_multiply\u001b[0m - assert None == 4\n",
>>>>>>> fcfc32944a2f6cf8ea33d3d81a31084080218afb
      "\u001b[31m\u001b[31m\u001b[1m1 failed\u001b[0m\u001b[31m in 0.01s\u001b[0m\u001b[0m\n"
     ]
    }
   ],
   "source": [
    "%%ipytest \n",
    "\n",
    "def test_multiply():\n",
    "    assert multiply(2, 2) == 4"
   ]
  },
  {
   "cell_type": "markdown",
   "id": "eed0f2d8",
   "metadata": {},
   "source": [
    "# Задание 2\n",
    "## Создайте функцию, которая принимает целое число в качестве аргумента и возвращает «Четное» для четных чисел или «Нечетное» для нечетных чисел."
   ]
  },
  {
   "cell_type": "code",
<<<<<<< HEAD
   "execution_count": 9,
=======
   "execution_count": 7,
>>>>>>> fcfc32944a2f6cf8ea33d3d81a31084080218afb
   "id": "6b9da6be",
   "metadata": {},
   "outputs": [
    {
     "ename": "IndentationError",
     "evalue": "expected an indented block (1805954722.py, line 2)",
     "output_type": "error",
     "traceback": [
<<<<<<< HEAD
      "\u001b[0;36m  Cell \u001b[0;32mIn [9], line 2\u001b[0;36m\u001b[0m\n\u001b[0;31m    \u001b[0m\n\u001b[0m    ^\u001b[0m\n\u001b[0;31mIndentationError\u001b[0m\u001b[0;31m:\u001b[0m expected an indented block\n"
=======
      "\u001b[0;36m  Cell \u001b[0;32mIn [7], line 2\u001b[0;36m\u001b[0m\n\u001b[0;31m    \u001b[0m\n\u001b[0m    ^\u001b[0m\n\u001b[0;31mIndentationError\u001b[0m\u001b[0;31m:\u001b[0m expected an indented block\n"
>>>>>>> fcfc32944a2f6cf8ea33d3d81a31084080218afb
     ]
    }
   ],
   "source": [
    "def even_or_odd(number):\n",
    "    "
   ]
  },
  {
   "cell_type": "code",
<<<<<<< HEAD
   "execution_count": 10,
=======
   "execution_count": 8,
>>>>>>> fcfc32944a2f6cf8ea33d3d81a31084080218afb
   "id": "c84df517",
   "metadata": {},
   "outputs": [
    {
     "name": "stdout",
     "output_type": "stream",
     "text": [
      "\u001b[31mF\u001b[0m\u001b[31mF\u001b[0m\u001b[31mF\u001b[0m\u001b[31mF\u001b[0m\u001b[31mF\u001b[0m\u001b[31mF\u001b[0m\u001b[31mF\u001b[0m\u001b[31mF\u001b[0m\u001b[31mF\u001b[0m\u001b[31mF\u001b[0m\u001b[31m                                                                                   [100%]\u001b[0m\n",
      "============================================= FAILURES =============================================\n",
      "\u001b[31m\u001b[1m__________________________________________ test_e_or_o_1 ___________________________________________\u001b[0m\n",
      "\n",
      "    \u001b[94mdef\u001b[39;49;00m \u001b[92mtest_e_or_o_1\u001b[39;49;00m():\n",
      ">       \u001b[94massert\u001b[39;49;00m even_or_odd(\u001b[94m2\u001b[39;49;00m) == \u001b[33m\"\u001b[39;49;00m\u001b[33mЧетное\u001b[39;49;00m\u001b[33m\"\u001b[39;49;00m\n",
      "\u001b[1m\u001b[31mE       NameError: name 'even_or_odd' is not defined\u001b[0m\n",
      "\n",
<<<<<<< HEAD
      "\u001b[1m\u001b[31m/tmp/ipykernel_3001915/2705141259.py\u001b[0m:2: NameError\n",
=======
      "\u001b[1m\u001b[31m/tmp/ipykernel_3012288/2705141259.py\u001b[0m:2: NameError\n",
>>>>>>> fcfc32944a2f6cf8ea33d3d81a31084080218afb
      "\u001b[31m\u001b[1m__________________________________________ test_e_or_o_2 ___________________________________________\u001b[0m\n",
      "\n",
      "    \u001b[94mdef\u001b[39;49;00m \u001b[92mtest_e_or_o_2\u001b[39;49;00m():\n",
      ">       \u001b[94massert\u001b[39;49;00m even_or_odd(\u001b[94m1\u001b[39;49;00m) == \u001b[33m\"\u001b[39;49;00m\u001b[33mНечетное\u001b[39;49;00m\u001b[33m\"\u001b[39;49;00m\n",
      "\u001b[1m\u001b[31mE       NameError: name 'even_or_odd' is not defined\u001b[0m\n",
      "\n",
<<<<<<< HEAD
      "\u001b[1m\u001b[31m/tmp/ipykernel_3001915/2705141259.py\u001b[0m:5: NameError\n",
=======
      "\u001b[1m\u001b[31m/tmp/ipykernel_3012288/2705141259.py\u001b[0m:5: NameError\n",
>>>>>>> fcfc32944a2f6cf8ea33d3d81a31084080218afb
      "\u001b[31m\u001b[1m__________________________________________ test_e_or_o_3 ___________________________________________\u001b[0m\n",
      "\n",
      "    \u001b[94mdef\u001b[39;49;00m \u001b[92mtest_e_or_o_3\u001b[39;49;00m():\n",
      ">       \u001b[94massert\u001b[39;49;00m even_or_odd(\u001b[94m0\u001b[39;49;00m) == \u001b[33m\"\u001b[39;49;00m\u001b[33mЧетное\u001b[39;49;00m\u001b[33m\"\u001b[39;49;00m\n",
      "\u001b[1m\u001b[31mE       NameError: name 'even_or_odd' is not defined\u001b[0m\n",
      "\n",
<<<<<<< HEAD
      "\u001b[1m\u001b[31m/tmp/ipykernel_3001915/2705141259.py\u001b[0m:8: NameError\n",
=======
      "\u001b[1m\u001b[31m/tmp/ipykernel_3012288/2705141259.py\u001b[0m:8: NameError\n",
>>>>>>> fcfc32944a2f6cf8ea33d3d81a31084080218afb
      "\u001b[31m\u001b[1m__________________________________________ test_e_or_o_4 ___________________________________________\u001b[0m\n",
      "\n",
      "    \u001b[94mdef\u001b[39;49;00m \u001b[92mtest_e_or_o_4\u001b[39;49;00m():\n",
      ">       \u001b[94massert\u001b[39;49;00m even_or_odd(\u001b[94m1545452\u001b[39;49;00m) == \u001b[33m\"\u001b[39;49;00m\u001b[33mЧетное\u001b[39;49;00m\u001b[33m\"\u001b[39;49;00m\n",
      "\u001b[1m\u001b[31mE       NameError: name 'even_or_odd' is not defined\u001b[0m\n",
      "\n",
<<<<<<< HEAD
      "\u001b[1m\u001b[31m/tmp/ipykernel_3001915/2705141259.py\u001b[0m:11: NameError\n",
=======
      "\u001b[1m\u001b[31m/tmp/ipykernel_3012288/2705141259.py\u001b[0m:11: NameError\n",
>>>>>>> fcfc32944a2f6cf8ea33d3d81a31084080218afb
      "\u001b[31m\u001b[1m__________________________________________ test_e_or_o_5 ___________________________________________\u001b[0m\n",
      "\n",
      "    \u001b[94mdef\u001b[39;49;00m \u001b[92mtest_e_or_o_5\u001b[39;49;00m():\n",
      ">       \u001b[94massert\u001b[39;49;00m even_or_odd(\u001b[94m7\u001b[39;49;00m) == \u001b[33m\"\u001b[39;49;00m\u001b[33mНечетное\u001b[39;49;00m\u001b[33m\"\u001b[39;49;00m\n",
      "\u001b[1m\u001b[31mE       NameError: name 'even_or_odd' is not defined\u001b[0m\n",
      "\n",
<<<<<<< HEAD
      "\u001b[1m\u001b[31m/tmp/ipykernel_3001915/2705141259.py\u001b[0m:14: NameError\n",
=======
      "\u001b[1m\u001b[31m/tmp/ipykernel_3012288/2705141259.py\u001b[0m:14: NameError\n",
>>>>>>> fcfc32944a2f6cf8ea33d3d81a31084080218afb
      "\u001b[31m\u001b[1m__________________________________________ test_e_or_o_6 ___________________________________________\u001b[0m\n",
      "\n",
      "    \u001b[94mdef\u001b[39;49;00m \u001b[92mtest_e_or_o_6\u001b[39;49;00m():\n",
      ">       \u001b[94massert\u001b[39;49;00m even_or_odd(\u001b[94m78\u001b[39;49;00m) == \u001b[33m\"\u001b[39;49;00m\u001b[33mЧетное\u001b[39;49;00m\u001b[33m\"\u001b[39;49;00m\n",
      "\u001b[1m\u001b[31mE       NameError: name 'even_or_odd' is not defined\u001b[0m\n",
      "\n",
<<<<<<< HEAD
      "\u001b[1m\u001b[31m/tmp/ipykernel_3001915/2705141259.py\u001b[0m:17: NameError\n",
=======
      "\u001b[1m\u001b[31m/tmp/ipykernel_3012288/2705141259.py\u001b[0m:17: NameError\n",
>>>>>>> fcfc32944a2f6cf8ea33d3d81a31084080218afb
      "\u001b[31m\u001b[1m__________________________________________ test_e_or_o_7 ___________________________________________\u001b[0m\n",
      "\n",
      "    \u001b[94mdef\u001b[39;49;00m \u001b[92mtest_e_or_o_7\u001b[39;49;00m():\n",
      ">       \u001b[94massert\u001b[39;49;00m even_or_odd(\u001b[94m74156741\u001b[39;49;00m) == \u001b[33m\"\u001b[39;49;00m\u001b[33mНечетное\u001b[39;49;00m\u001b[33m\"\u001b[39;49;00m\n",
      "\u001b[1m\u001b[31mE       NameError: name 'even_or_odd' is not defined\u001b[0m\n",
      "\n",
<<<<<<< HEAD
      "\u001b[1m\u001b[31m/tmp/ipykernel_3001915/2705141259.py\u001b[0m:20: NameError\n",
=======
      "\u001b[1m\u001b[31m/tmp/ipykernel_3012288/2705141259.py\u001b[0m:20: NameError\n",
>>>>>>> fcfc32944a2f6cf8ea33d3d81a31084080218afb
      "\u001b[31m\u001b[1m__________________________________________ test_e_or_o_8 ___________________________________________\u001b[0m\n",
      "\n",
      "    \u001b[94mdef\u001b[39;49;00m \u001b[92mtest_e_or_o_8\u001b[39;49;00m():\n",
      ">       \u001b[94massert\u001b[39;49;00m even_or_odd(\u001b[94m100000\u001b[39;49;00m) == \u001b[33m\"\u001b[39;49;00m\u001b[33mЧетное\u001b[39;49;00m\u001b[33m\"\u001b[39;49;00m\n",
      "\u001b[1m\u001b[31mE       NameError: name 'even_or_odd' is not defined\u001b[0m\n",
      "\n",
<<<<<<< HEAD
      "\u001b[1m\u001b[31m/tmp/ipykernel_3001915/2705141259.py\u001b[0m:23: NameError\n",
=======
      "\u001b[1m\u001b[31m/tmp/ipykernel_3012288/2705141259.py\u001b[0m:23: NameError\n",
>>>>>>> fcfc32944a2f6cf8ea33d3d81a31084080218afb
      "\u001b[31m\u001b[1m__________________________________________ test_e_or_o_9 ___________________________________________\u001b[0m\n",
      "\n",
      "    \u001b[94mdef\u001b[39;49;00m \u001b[92mtest_e_or_o_9\u001b[39;49;00m():\n",
      ">       \u001b[94massert\u001b[39;49;00m even_or_odd(-\u001b[94m123\u001b[39;49;00m) == \u001b[33m\"\u001b[39;49;00m\u001b[33mНечетное\u001b[39;49;00m\u001b[33m\"\u001b[39;49;00m\n",
      "\u001b[1m\u001b[31mE       NameError: name 'even_or_odd' is not defined\u001b[0m\n",
      "\n",
<<<<<<< HEAD
      "\u001b[1m\u001b[31m/tmp/ipykernel_3001915/2705141259.py\u001b[0m:26: NameError\n",
=======
      "\u001b[1m\u001b[31m/tmp/ipykernel_3012288/2705141259.py\u001b[0m:26: NameError\n",
>>>>>>> fcfc32944a2f6cf8ea33d3d81a31084080218afb
      "\u001b[31m\u001b[1m__________________________________________ test_e_or_o_10 __________________________________________\u001b[0m\n",
      "\n",
      "    \u001b[94mdef\u001b[39;49;00m \u001b[92mtest_e_or_o_10\u001b[39;49;00m():\n",
      ">       \u001b[94massert\u001b[39;49;00m even_or_odd(-\u001b[94m456\u001b[39;49;00m) == \u001b[33m\"\u001b[39;49;00m\u001b[33mЧетное\u001b[39;49;00m\u001b[33m\"\u001b[39;49;00m\n",
      "\u001b[1m\u001b[31mE       NameError: name 'even_or_odd' is not defined\u001b[0m\n",
      "\n",
<<<<<<< HEAD
      "\u001b[1m\u001b[31m/tmp/ipykernel_3001915/2705141259.py\u001b[0m:29: NameError\n",
      "\u001b[36m\u001b[1m===================================== short test summary info ======================================\u001b[0m\n",
      "\u001b[31mFAILED\u001b[0m t_d0c094eaeacd4ebabbb47dae141327d7.py::\u001b[1mtest_e_or_o_1\u001b[0m - NameError: name 'even_or_odd' is not defined\n",
      "\u001b[31mFAILED\u001b[0m t_d0c094eaeacd4ebabbb47dae141327d7.py::\u001b[1mtest_e_or_o_2\u001b[0m - NameError: name 'even_or_odd' is not defined\n",
      "\u001b[31mFAILED\u001b[0m t_d0c094eaeacd4ebabbb47dae141327d7.py::\u001b[1mtest_e_or_o_3\u001b[0m - NameError: name 'even_or_odd' is not defined\n",
      "\u001b[31mFAILED\u001b[0m t_d0c094eaeacd4ebabbb47dae141327d7.py::\u001b[1mtest_e_or_o_4\u001b[0m - NameError: name 'even_or_odd' is not defined\n",
      "\u001b[31mFAILED\u001b[0m t_d0c094eaeacd4ebabbb47dae141327d7.py::\u001b[1mtest_e_or_o_5\u001b[0m - NameError: name 'even_or_odd' is not defined\n",
      "\u001b[31mFAILED\u001b[0m t_d0c094eaeacd4ebabbb47dae141327d7.py::\u001b[1mtest_e_or_o_6\u001b[0m - NameError: name 'even_or_odd' is not defined\n",
      "\u001b[31mFAILED\u001b[0m t_d0c094eaeacd4ebabbb47dae141327d7.py::\u001b[1mtest_e_or_o_7\u001b[0m - NameError: name 'even_or_odd' is not defined\n",
      "\u001b[31mFAILED\u001b[0m t_d0c094eaeacd4ebabbb47dae141327d7.py::\u001b[1mtest_e_or_o_8\u001b[0m - NameError: name 'even_or_odd' is not defined\n",
      "\u001b[31mFAILED\u001b[0m t_d0c094eaeacd4ebabbb47dae141327d7.py::\u001b[1mtest_e_or_o_9\u001b[0m - NameError: name 'even_or_odd' is not defined\n",
      "\u001b[31mFAILED\u001b[0m t_d0c094eaeacd4ebabbb47dae141327d7.py::\u001b[1mtest_e_or_o_10\u001b[0m - NameError: name 'even_or_odd' is not defined\n",
=======
      "\u001b[1m\u001b[31m/tmp/ipykernel_3012288/2705141259.py\u001b[0m:29: NameError\n",
      "\u001b[36m\u001b[1m===================================== short test summary info ======================================\u001b[0m\n",
      "\u001b[31mFAILED\u001b[0m t_07e250aaa0dc40218419e962230df51a.py::\u001b[1mtest_e_or_o_1\u001b[0m - NameError: name 'even_or_odd' is not defined\n",
      "\u001b[31mFAILED\u001b[0m t_07e250aaa0dc40218419e962230df51a.py::\u001b[1mtest_e_or_o_2\u001b[0m - NameError: name 'even_or_odd' is not defined\n",
      "\u001b[31mFAILED\u001b[0m t_07e250aaa0dc40218419e962230df51a.py::\u001b[1mtest_e_or_o_3\u001b[0m - NameError: name 'even_or_odd' is not defined\n",
      "\u001b[31mFAILED\u001b[0m t_07e250aaa0dc40218419e962230df51a.py::\u001b[1mtest_e_or_o_4\u001b[0m - NameError: name 'even_or_odd' is not defined\n",
      "\u001b[31mFAILED\u001b[0m t_07e250aaa0dc40218419e962230df51a.py::\u001b[1mtest_e_or_o_5\u001b[0m - NameError: name 'even_or_odd' is not defined\n",
      "\u001b[31mFAILED\u001b[0m t_07e250aaa0dc40218419e962230df51a.py::\u001b[1mtest_e_or_o_6\u001b[0m - NameError: name 'even_or_odd' is not defined\n",
      "\u001b[31mFAILED\u001b[0m t_07e250aaa0dc40218419e962230df51a.py::\u001b[1mtest_e_or_o_7\u001b[0m - NameError: name 'even_or_odd' is not defined\n",
      "\u001b[31mFAILED\u001b[0m t_07e250aaa0dc40218419e962230df51a.py::\u001b[1mtest_e_or_o_8\u001b[0m - NameError: name 'even_or_odd' is not defined\n",
      "\u001b[31mFAILED\u001b[0m t_07e250aaa0dc40218419e962230df51a.py::\u001b[1mtest_e_or_o_9\u001b[0m - NameError: name 'even_or_odd' is not defined\n",
      "\u001b[31mFAILED\u001b[0m t_07e250aaa0dc40218419e962230df51a.py::\u001b[1mtest_e_or_o_10\u001b[0m - NameError: name 'even_or_odd' is not defined\n",
>>>>>>> fcfc32944a2f6cf8ea33d3d81a31084080218afb
      "\u001b[31m\u001b[31m\u001b[1m10 failed\u001b[0m\u001b[31m in 0.06s\u001b[0m\u001b[0m\n"
     ]
    }
   ],
   "source": [
    "%%ipytest\n",
    "\n",
    "def test_e_or_o_1():\n",
    "    assert even_or_odd(2) == \"Четное\"\n",
    "    \n",
    "def test_e_or_o_2():\n",
    "    assert even_or_odd(1) == \"Нечетное\"\n",
    "    \n",
    "def test_e_or_o_3():\n",
    "    assert even_or_odd(0) == \"Четное\"\n",
    "    \n",
    "def test_e_or_o_4():\n",
    "    assert even_or_odd(1545452) == \"Четное\"\n",
    "    \n",
    "def test_e_or_o_5():\n",
    "    assert even_or_odd(7) == \"Нечетное\"\n",
    "\n",
    "def test_e_or_o_6():\n",
    "    assert even_or_odd(78) == \"Четное\"\n",
    "\n",
    "def test_e_or_o_7():\n",
    "    assert even_or_odd(74156741) == \"Нечетное\"\n",
    "    \n",
    "def test_e_or_o_8():\n",
    "    assert even_or_odd(100000) == \"Четное\"\n",
    "    \n",
    "def test_e_or_o_9():\n",
    "    assert even_or_odd(-123) == \"Нечетное\"\n",
    "    \n",
    "def test_e_or_o_10():\n",
    "    assert even_or_odd(-456) == \"Четное\""
   ]
  },
  {
   "cell_type": "markdown",
   "id": "d81d68fa",
   "metadata": {},
   "source": [
    "# Задание 3\n",
    "## Преобразовать число в перевернутый список цифр\n",
    "## Вводится будут случайные неотрицательные числа, вы должны вернуть цифры этого числа в списке в обратном порядке."
   ]
  },
  {
   "cell_type": "code",
<<<<<<< HEAD
   "execution_count": 11,
=======
   "execution_count": 9,
>>>>>>> fcfc32944a2f6cf8ea33d3d81a31084080218afb
   "id": "6682722a",
   "metadata": {},
   "outputs": [
    {
     "ename": "IndentationError",
     "evalue": "expected an indented block (1923681912.py, line 2)",
     "output_type": "error",
     "traceback": [
<<<<<<< HEAD
      "\u001b[0;36m  Cell \u001b[0;32mIn [11], line 2\u001b[0;36m\u001b[0m\n\u001b[0;31m    \u001b[0m\n\u001b[0m    ^\u001b[0m\n\u001b[0;31mIndentationError\u001b[0m\u001b[0;31m:\u001b[0m expected an indented block\n"
=======
      "\u001b[0;36m  Cell \u001b[0;32mIn [9], line 2\u001b[0;36m\u001b[0m\n\u001b[0;31m    \u001b[0m\n\u001b[0m    ^\u001b[0m\n\u001b[0;31mIndentationError\u001b[0m\u001b[0;31m:\u001b[0m expected an indented block\n"
>>>>>>> fcfc32944a2f6cf8ea33d3d81a31084080218afb
     ]
    }
   ],
   "source": [
    "def digitize(n):\n",
    "    "
   ]
  },
  {
   "cell_type": "code",
<<<<<<< HEAD
   "execution_count": 12,
=======
   "execution_count": 10,
>>>>>>> fcfc32944a2f6cf8ea33d3d81a31084080218afb
   "id": "d97c31e0",
   "metadata": {},
   "outputs": [
    {
     "name": "stdout",
     "output_type": "stream",
     "text": [
      "\u001b[31mF\u001b[0m\u001b[31mF\u001b[0m\u001b[31mF\u001b[0m\u001b[31mF\u001b[0m\u001b[31mF\u001b[0m\u001b[31mF\u001b[0m\u001b[31m                                                                                       [100%]\u001b[0m\n",
      "============================================= FAILURES =============================================\n",
      "\u001b[31m\u001b[1m_________________________________________ test_digitize_1 __________________________________________\u001b[0m\n",
      "\n",
      "    \u001b[94mdef\u001b[39;49;00m \u001b[92mtest_digitize_1\u001b[39;49;00m():\n",
      ">       \u001b[94massert\u001b[39;49;00m digitize(\u001b[94m35231\u001b[39;49;00m) == [\u001b[94m1\u001b[39;49;00m,\u001b[94m3\u001b[39;49;00m,\u001b[94m2\u001b[39;49;00m,\u001b[94m5\u001b[39;49;00m,\u001b[94m3\u001b[39;49;00m]\n",
      "\u001b[1m\u001b[31mE       NameError: name 'digitize' is not defined\u001b[0m\n",
      "\n",
<<<<<<< HEAD
      "\u001b[1m\u001b[31m/tmp/ipykernel_3001915/1690331182.py\u001b[0m:2: NameError\n",
=======
      "\u001b[1m\u001b[31m/tmp/ipykernel_3012288/1690331182.py\u001b[0m:2: NameError\n",
>>>>>>> fcfc32944a2f6cf8ea33d3d81a31084080218afb
      "\u001b[31m\u001b[1m_________________________________________ test_digitize_2 __________________________________________\u001b[0m\n",
      "\n",
      "    \u001b[94mdef\u001b[39;49;00m \u001b[92mtest_digitize_2\u001b[39;49;00m():\n",
      ">       \u001b[94massert\u001b[39;49;00m digitize(\u001b[94m0\u001b[39;49;00m) == [\u001b[94m0\u001b[39;49;00m]\n",
      "\u001b[1m\u001b[31mE       NameError: name 'digitize' is not defined\u001b[0m\n",
      "\n",
<<<<<<< HEAD
      "\u001b[1m\u001b[31m/tmp/ipykernel_3001915/1690331182.py\u001b[0m:5: NameError\n",
=======
      "\u001b[1m\u001b[31m/tmp/ipykernel_3012288/1690331182.py\u001b[0m:5: NameError\n",
>>>>>>> fcfc32944a2f6cf8ea33d3d81a31084080218afb
      "\u001b[31m\u001b[1m_________________________________________ test_digitize_3 __________________________________________\u001b[0m\n",
      "\n",
      "    \u001b[94mdef\u001b[39;49;00m \u001b[92mtest_digitize_3\u001b[39;49;00m():\n",
      ">       \u001b[94massert\u001b[39;49;00m digitize(\u001b[94m23582357\u001b[39;49;00m) == [\u001b[94m7\u001b[39;49;00m,\u001b[94m5\u001b[39;49;00m,\u001b[94m3\u001b[39;49;00m,\u001b[94m2\u001b[39;49;00m,\u001b[94m8\u001b[39;49;00m,\u001b[94m5\u001b[39;49;00m,\u001b[94m3\u001b[39;49;00m,\u001b[94m2\u001b[39;49;00m]\n",
      "\u001b[1m\u001b[31mE       NameError: name 'digitize' is not defined\u001b[0m\n",
      "\n",
<<<<<<< HEAD
      "\u001b[1m\u001b[31m/tmp/ipykernel_3001915/1690331182.py\u001b[0m:8: NameError\n",
=======
      "\u001b[1m\u001b[31m/tmp/ipykernel_3012288/1690331182.py\u001b[0m:8: NameError\n",
>>>>>>> fcfc32944a2f6cf8ea33d3d81a31084080218afb
      "\u001b[31m\u001b[1m_________________________________________ test_digitize_4 __________________________________________\u001b[0m\n",
      "\n",
      "    \u001b[94mdef\u001b[39;49;00m \u001b[92mtest_digitize_4\u001b[39;49;00m():\n",
      ">       \u001b[94massert\u001b[39;49;00m digitize(\u001b[94m984764738\u001b[39;49;00m) == [\u001b[94m8\u001b[39;49;00m,\u001b[94m3\u001b[39;49;00m,\u001b[94m7\u001b[39;49;00m,\u001b[94m4\u001b[39;49;00m,\u001b[94m6\u001b[39;49;00m,\u001b[94m7\u001b[39;49;00m,\u001b[94m4\u001b[39;49;00m,\u001b[94m8\u001b[39;49;00m,\u001b[94m9\u001b[39;49;00m]\n",
      "\u001b[1m\u001b[31mE       NameError: name 'digitize' is not defined\u001b[0m\n",
      "\n",
<<<<<<< HEAD
      "\u001b[1m\u001b[31m/tmp/ipykernel_3001915/1690331182.py\u001b[0m:11: NameError\n",
=======
      "\u001b[1m\u001b[31m/tmp/ipykernel_3012288/1690331182.py\u001b[0m:11: NameError\n",
>>>>>>> fcfc32944a2f6cf8ea33d3d81a31084080218afb
      "\u001b[31m\u001b[1m_________________________________________ test_digitize_5 __________________________________________\u001b[0m\n",
      "\n",
      "    \u001b[94mdef\u001b[39;49;00m \u001b[92mtest_digitize_5\u001b[39;49;00m():\n",
      ">       \u001b[94massert\u001b[39;49;00m digitize(\u001b[94m45762893920\u001b[39;49;00m) == [\u001b[94m0\u001b[39;49;00m,\u001b[94m2\u001b[39;49;00m,\u001b[94m9\u001b[39;49;00m,\u001b[94m3\u001b[39;49;00m,\u001b[94m9\u001b[39;49;00m,\u001b[94m8\u001b[39;49;00m,\u001b[94m2\u001b[39;49;00m,\u001b[94m6\u001b[39;49;00m,\u001b[94m7\u001b[39;49;00m,\u001b[94m5\u001b[39;49;00m,\u001b[94m4\u001b[39;49;00m]\n",
      "\u001b[1m\u001b[31mE       NameError: name 'digitize' is not defined\u001b[0m\n",
      "\n",
<<<<<<< HEAD
      "\u001b[1m\u001b[31m/tmp/ipykernel_3001915/1690331182.py\u001b[0m:14: NameError\n",
=======
      "\u001b[1m\u001b[31m/tmp/ipykernel_3012288/1690331182.py\u001b[0m:14: NameError\n",
>>>>>>> fcfc32944a2f6cf8ea33d3d81a31084080218afb
      "\u001b[31m\u001b[1m_________________________________________ test_digitize_6 __________________________________________\u001b[0m\n",
      "\n",
      "    \u001b[94mdef\u001b[39;49;00m \u001b[92mtest_digitize_6\u001b[39;49;00m():\n",
      ">       \u001b[94massert\u001b[39;49;00m digitize(\u001b[94m548702838394\u001b[39;49;00m) == [\u001b[94m4\u001b[39;49;00m,\u001b[94m9\u001b[39;49;00m,\u001b[94m3\u001b[39;49;00m,\u001b[94m8\u001b[39;49;00m,\u001b[94m3\u001b[39;49;00m,\u001b[94m8\u001b[39;49;00m,\u001b[94m2\u001b[39;49;00m,\u001b[94m0\u001b[39;49;00m,\u001b[94m7\u001b[39;49;00m,\u001b[94m8\u001b[39;49;00m,\u001b[94m4\u001b[39;49;00m,\u001b[94m5\u001b[39;49;00m]\n",
      "\u001b[1m\u001b[31mE       NameError: name 'digitize' is not defined\u001b[0m\n",
      "\n",
<<<<<<< HEAD
      "\u001b[1m\u001b[31m/tmp/ipykernel_3001915/1690331182.py\u001b[0m:17: NameError\n",
      "\u001b[36m\u001b[1m===================================== short test summary info ======================================\u001b[0m\n",
      "\u001b[31mFAILED\u001b[0m t_d0c094eaeacd4ebabbb47dae141327d7.py::\u001b[1mtest_digitize_1\u001b[0m - NameError: name 'digitize' is not defined\n",
      "\u001b[31mFAILED\u001b[0m t_d0c094eaeacd4ebabbb47dae141327d7.py::\u001b[1mtest_digitize_2\u001b[0m - NameError: name 'digitize' is not defined\n",
      "\u001b[31mFAILED\u001b[0m t_d0c094eaeacd4ebabbb47dae141327d7.py::\u001b[1mtest_digitize_3\u001b[0m - NameError: name 'digitize' is not defined\n",
      "\u001b[31mFAILED\u001b[0m t_d0c094eaeacd4ebabbb47dae141327d7.py::\u001b[1mtest_digitize_4\u001b[0m - NameError: name 'digitize' is not defined\n",
      "\u001b[31mFAILED\u001b[0m t_d0c094eaeacd4ebabbb47dae141327d7.py::\u001b[1mtest_digitize_5\u001b[0m - NameError: name 'digitize' is not defined\n",
      "\u001b[31mFAILED\u001b[0m t_d0c094eaeacd4ebabbb47dae141327d7.py::\u001b[1mtest_digitize_6\u001b[0m - NameError: name 'digitize' is not defined\n",
      "\u001b[31m\u001b[31m\u001b[1m6 failed\u001b[0m\u001b[31m in 0.04s\u001b[0m\u001b[0m\n"
=======
      "\u001b[1m\u001b[31m/tmp/ipykernel_3012288/1690331182.py\u001b[0m:17: NameError\n",
      "\u001b[36m\u001b[1m===================================== short test summary info ======================================\u001b[0m\n",
      "\u001b[31mFAILED\u001b[0m t_07e250aaa0dc40218419e962230df51a.py::\u001b[1mtest_digitize_1\u001b[0m - NameError: name 'digitize' is not defined\n",
      "\u001b[31mFAILED\u001b[0m t_07e250aaa0dc40218419e962230df51a.py::\u001b[1mtest_digitize_2\u001b[0m - NameError: name 'digitize' is not defined\n",
      "\u001b[31mFAILED\u001b[0m t_07e250aaa0dc40218419e962230df51a.py::\u001b[1mtest_digitize_3\u001b[0m - NameError: name 'digitize' is not defined\n",
      "\u001b[31mFAILED\u001b[0m t_07e250aaa0dc40218419e962230df51a.py::\u001b[1mtest_digitize_4\u001b[0m - NameError: name 'digitize' is not defined\n",
      "\u001b[31mFAILED\u001b[0m t_07e250aaa0dc40218419e962230df51a.py::\u001b[1mtest_digitize_5\u001b[0m - NameError: name 'digitize' is not defined\n",
      "\u001b[31mFAILED\u001b[0m t_07e250aaa0dc40218419e962230df51a.py::\u001b[1mtest_digitize_6\u001b[0m - NameError: name 'digitize' is not defined\n",
      "\u001b[31m\u001b[31m\u001b[1m6 failed\u001b[0m\u001b[31m in 0.03s\u001b[0m\u001b[0m\n"
>>>>>>> fcfc32944a2f6cf8ea33d3d81a31084080218afb
     ]
    }
   ],
   "source": [
    "%%ipytest\n",
    "\n",
    "def test_digitize_1():\n",
    "    assert digitize(35231) == [1,3,2,5,3]\n",
    "\n",
    "def test_digitize_2():\n",
    "    assert digitize(0) == [0]\n",
    "    \n",
    "def test_digitize_3():\n",
    "    assert digitize(23582357) == [7,5,3,2,8,5,3,2]\n",
    "    \n",
    "def test_digitize_4():\n",
    "    assert digitize(984764738) == [8,3,7,4,6,7,4,8,9]\n",
    "    \n",
    "def test_digitize_5():\n",
    "    assert digitize(45762893920) == [0,2,9,3,9,8,2,6,7,5,4]\n",
    "    \n",
    "def test_digitize_6():\n",
    "    assert digitize(548702838394) == [4,9,3,8,3,8,2,0,7,8,4,5]"
   ]
  },
  {
   "cell_type": "markdown",
   "id": "ecd93286",
   "metadata": {},
   "source": [
    "# Задание 4\n",
    "## Завершите функцию, которая принимает строку и переворачивает каждое слово в строке. Все пробелы в строке должны быть сохранены."
   ]
  },
  {
   "cell_type": "code",
<<<<<<< HEAD
   "execution_count": 13,
   "id": "10a7b6d8",
   "metadata": {},
   "outputs": [],
=======
   "execution_count": 11,
   "id": "10a7b6d8",
   "metadata": {},
   "outputs": [
    {
     "ename": "IndentationError",
     "evalue": "expected an indented block (1011003639.py, line 2)",
     "output_type": "error",
     "traceback": [
      "\u001b[0;36m  Cell \u001b[0;32mIn [11], line 2\u001b[0;36m\u001b[0m\n\u001b[0;31m    \u001b[0m\n\u001b[0m    ^\u001b[0m\n\u001b[0;31mIndentationError\u001b[0m\u001b[0;31m:\u001b[0m expected an indented block\n"
     ]
    }
   ],
>>>>>>> fcfc32944a2f6cf8ea33d3d81a31084080218afb
   "source": [
    "def reverse_words(text):\n",
    "    "
   ]
  },
  {
   "cell_type": "code",
<<<<<<< HEAD
   "execution_count": 14,
=======
   "execution_count": 12,
>>>>>>> fcfc32944a2f6cf8ea33d3d81a31084080218afb
   "id": "801aa2b6",
   "metadata": {},
   "outputs": [
    {
     "name": "stdout",
     "output_type": "stream",
     "text": [
<<<<<<< HEAD
      "\u001b[32m.\u001b[0m\u001b[32m.\u001b[0m\u001b[32m.\u001b[0m\u001b[32m.\u001b[0m\u001b[32m                                                                                         [100%]\u001b[0m\n",
      "\u001b[32m\u001b[32m\u001b[1m4 passed\u001b[0m\u001b[32m in 0.02s\u001b[0m\u001b[0m\n"
=======
      "\u001b[31mF\u001b[0m\u001b[31mF\u001b[0m\u001b[31mF\u001b[0m\u001b[31mF\u001b[0m\u001b[31m                                                                                         [100%]\u001b[0m\n",
      "============================================= FAILURES =============================================\n",
      "\u001b[31m\u001b[1m_______________________________________ test_reverse_words_1 _______________________________________\u001b[0m\n",
      "\n",
      "    \u001b[94mdef\u001b[39;49;00m \u001b[92mtest_reverse_words_1\u001b[39;49;00m():\n",
      ">       \u001b[94massert\u001b[39;49;00m reverse_words(\u001b[33m\"\u001b[39;49;00m\u001b[33mapple\u001b[39;49;00m\u001b[33m\"\u001b[39;49;00m) == \u001b[33m\"\u001b[39;49;00m\u001b[33melppa\u001b[39;49;00m\u001b[33m\"\u001b[39;49;00m\n",
      "\u001b[1m\u001b[31mE       NameError: name 'reverse_words' is not defined\u001b[0m\n",
      "\n",
      "\u001b[1m\u001b[31m/tmp/ipykernel_3012288/2963879356.py\u001b[0m:2: NameError\n",
      "\u001b[31m\u001b[1m_______________________________________ test_reverse_words_2 _______________________________________\u001b[0m\n",
      "\n",
      "    \u001b[94mdef\u001b[39;49;00m \u001b[92mtest_reverse_words_2\u001b[39;49;00m():\n",
      ">       \u001b[94massert\u001b[39;49;00m reverse_words(\u001b[33m\"\u001b[39;49;00m\u001b[33mThe quick brown fox jumps over the lazy dog.\u001b[39;49;00m\u001b[33m\"\u001b[39;49;00m) == \u001b[33m\"\u001b[39;49;00m\u001b[33mehT kciuq nworb xof spmuj revo eht yzal .god\u001b[39;49;00m\u001b[33m\"\u001b[39;49;00m\n",
      "\u001b[1m\u001b[31mE       NameError: name 'reverse_words' is not defined\u001b[0m\n",
      "\n",
      "\u001b[1m\u001b[31m/tmp/ipykernel_3012288/2963879356.py\u001b[0m:5: NameError\n",
      "\u001b[31m\u001b[1m_______________________________________ test_reverse_words_3 _______________________________________\u001b[0m\n",
      "\n",
      "    \u001b[94mdef\u001b[39;49;00m \u001b[92mtest_reverse_words_3\u001b[39;49;00m():\n",
      ">       \u001b[94massert\u001b[39;49;00m reverse_words(\u001b[33m\"\u001b[39;49;00m\u001b[33ma b c d\u001b[39;49;00m\u001b[33m\"\u001b[39;49;00m) == \u001b[33m\"\u001b[39;49;00m\u001b[33ma b c d\u001b[39;49;00m\u001b[33m\"\u001b[39;49;00m\n",
      "\u001b[1m\u001b[31mE       NameError: name 'reverse_words' is not defined\u001b[0m\n",
      "\n",
      "\u001b[1m\u001b[31m/tmp/ipykernel_3012288/2963879356.py\u001b[0m:8: NameError\n",
      "\u001b[31m\u001b[1m_______________________________________ test_reverse_words_4 _______________________________________\u001b[0m\n",
      "\n",
      "    \u001b[94mdef\u001b[39;49;00m \u001b[92mtest_reverse_words_4\u001b[39;49;00m():\n",
      ">       \u001b[94massert\u001b[39;49;00m reverse_words(\u001b[33m\"\u001b[39;49;00m\u001b[33mdouble  spaced  words\u001b[39;49;00m\u001b[33m\"\u001b[39;49;00m) == \u001b[33m\"\u001b[39;49;00m\u001b[33melbuod  decaps  sdrow\u001b[39;49;00m\u001b[33m\"\u001b[39;49;00m\n",
      "\u001b[1m\u001b[31mE       NameError: name 'reverse_words' is not defined\u001b[0m\n",
      "\n",
      "\u001b[1m\u001b[31m/tmp/ipykernel_3012288/2963879356.py\u001b[0m:11: NameError\n",
      "\u001b[36m\u001b[1m===================================== short test summary info ======================================\u001b[0m\n",
      "\u001b[31mFAILED\u001b[0m t_07e250aaa0dc40218419e962230df51a.py::\u001b[1mtest_reverse_words_1\u001b[0m - NameError: name 'reverse_words' is not defined\n",
      "\u001b[31mFAILED\u001b[0m t_07e250aaa0dc40218419e962230df51a.py::\u001b[1mtest_reverse_words_2\u001b[0m - NameError: name 'reverse_words' is not defined\n",
      "\u001b[31mFAILED\u001b[0m t_07e250aaa0dc40218419e962230df51a.py::\u001b[1mtest_reverse_words_3\u001b[0m - NameError: name 'reverse_words' is not defined\n",
      "\u001b[31mFAILED\u001b[0m t_07e250aaa0dc40218419e962230df51a.py::\u001b[1mtest_reverse_words_4\u001b[0m - NameError: name 'reverse_words' is not defined\n",
      "\u001b[31m\u001b[31m\u001b[1m4 failed\u001b[0m\u001b[31m in 0.02s\u001b[0m\u001b[0m\n"
>>>>>>> fcfc32944a2f6cf8ea33d3d81a31084080218afb
     ]
    }
   ],
   "source": [
    "%%ipytest\n",
    "\n",
    "def test_reverse_words_1():\n",
    "    assert reverse_words(\"apple\") == \"elppa\"\n",
    "    \n",
    "def test_reverse_words_2():\n",
    "    assert reverse_words(\"The quick brown fox jumps over the lazy dog.\") == \"ehT kciuq nworb xof spmuj revo eht yzal .god\"\n",
    "    \n",
    "def test_reverse_words_3():\n",
    "    assert reverse_words(\"a b c d\") == \"a b c d\"\n",
    "    \n",
    "def test_reverse_words_4():\n",
    "    assert reverse_words(\"double  spaced  words\") == \"elbuod  decaps  sdrow\""
   ]
  },
  {
   "cell_type": "markdown",
   "id": "84d548f5",
   "metadata": {},
   "source": [
    "# Задание 5\n",
    "## На вход функции будет введена строка. Ваша задача — вернуть средний символ строки. Если длина слова нечетная, вернуть средний символ. Если длина слова четная, верните 2 средних символа."
   ]
  },
  {
   "cell_type": "code",
<<<<<<< HEAD
   "execution_count": 15,
   "id": "ed01dd3a",
   "metadata": {},
   "outputs": [],
=======
   "execution_count": 13,
   "id": "ed01dd3a",
   "metadata": {},
   "outputs": [
    {
     "ename": "IndentationError",
     "evalue": "expected an indented block (4267204812.py, line 2)",
     "output_type": "error",
     "traceback": [
      "\u001b[0;36m  Cell \u001b[0;32mIn [13], line 2\u001b[0;36m\u001b[0m\n\u001b[0;31m    \u001b[0m\n\u001b[0m    ^\u001b[0m\n\u001b[0;31mIndentationError\u001b[0m\u001b[0;31m:\u001b[0m expected an indented block\n"
     ]
    }
   ],
>>>>>>> fcfc32944a2f6cf8ea33d3d81a31084080218afb
   "source": [
    "def get_middle(s):\n",
    "    "
   ]
  },
  {
   "cell_type": "code",
<<<<<<< HEAD
   "execution_count": 16,
=======
   "execution_count": 14,
>>>>>>> fcfc32944a2f6cf8ea33d3d81a31084080218afb
   "id": "3682ed7c",
   "metadata": {},
   "outputs": [
    {
     "name": "stdout",
     "output_type": "stream",
     "text": [
<<<<<<< HEAD
      "\u001b[32m.\u001b[0m\u001b[32m.\u001b[0m\u001b[32m.\u001b[0m\u001b[32m.\u001b[0m\u001b[32m.\u001b[0m\u001b[32m                                                                                        [100%]\u001b[0m\n",
      "\u001b[32m\u001b[32m\u001b[1m5 passed\u001b[0m\u001b[32m in 0.02s\u001b[0m\u001b[0m\n"
=======
      "\u001b[31mF\u001b[0m\u001b[31mF\u001b[0m\u001b[31mF\u001b[0m\u001b[31mF\u001b[0m\u001b[31mF\u001b[0m\u001b[31m                                                                                        [100%]\u001b[0m\n",
      "============================================= FAILURES =============================================\n",
      "\u001b[31m\u001b[1m________________________________________ test_get_middle_1 _________________________________________\u001b[0m\n",
      "\n",
      "    \u001b[94mdef\u001b[39;49;00m \u001b[92mtest_get_middle_1\u001b[39;49;00m():\n",
      ">       \u001b[94massert\u001b[39;49;00m get_middle(\u001b[33m\"\u001b[39;49;00m\u001b[33mtesting\u001b[39;49;00m\u001b[33m\"\u001b[39;49;00m) == \u001b[33m\"\u001b[39;49;00m\u001b[33mt\u001b[39;49;00m\u001b[33m\"\u001b[39;49;00m\n",
      "\u001b[1m\u001b[31mE       NameError: name 'get_middle' is not defined\u001b[0m\n",
      "\n",
      "\u001b[1m\u001b[31m/tmp/ipykernel_3012288/319729995.py\u001b[0m:2: NameError\n",
      "\u001b[31m\u001b[1m________________________________________ test_get_middle_2 _________________________________________\u001b[0m\n",
      "\n",
      "    \u001b[94mdef\u001b[39;49;00m \u001b[92mtest_get_middle_2\u001b[39;49;00m():\n",
      ">       \u001b[94massert\u001b[39;49;00m get_middle(\u001b[33m\"\u001b[39;49;00m\u001b[33mtest\u001b[39;49;00m\u001b[33m\"\u001b[39;49;00m) == \u001b[33m\"\u001b[39;49;00m\u001b[33mes\u001b[39;49;00m\u001b[33m\"\u001b[39;49;00m\n",
      "\u001b[1m\u001b[31mE       NameError: name 'get_middle' is not defined\u001b[0m\n",
      "\n",
      "\u001b[1m\u001b[31m/tmp/ipykernel_3012288/319729995.py\u001b[0m:5: NameError\n",
      "\u001b[31m\u001b[1m________________________________________ test_get_middle_3 _________________________________________\u001b[0m\n",
      "\n",
      "    \u001b[94mdef\u001b[39;49;00m \u001b[92mtest_get_middle_3\u001b[39;49;00m():\n",
      ">       \u001b[94massert\u001b[39;49;00m get_middle(\u001b[33m\"\u001b[39;49;00m\u001b[33mmiddle\u001b[39;49;00m\u001b[33m\"\u001b[39;49;00m) == \u001b[33m\"\u001b[39;49;00m\u001b[33mdd\u001b[39;49;00m\u001b[33m\"\u001b[39;49;00m\n",
      "\u001b[1m\u001b[31mE       NameError: name 'get_middle' is not defined\u001b[0m\n",
      "\n",
      "\u001b[1m\u001b[31m/tmp/ipykernel_3012288/319729995.py\u001b[0m:8: NameError\n",
      "\u001b[31m\u001b[1m________________________________________ test_get_middle_4 _________________________________________\u001b[0m\n",
      "\n",
      "    \u001b[94mdef\u001b[39;49;00m \u001b[92mtest_get_middle_4\u001b[39;49;00m():\n",
      ">       \u001b[94massert\u001b[39;49;00m get_middle(\u001b[33m\"\u001b[39;49;00m\u001b[33mA\u001b[39;49;00m\u001b[33m\"\u001b[39;49;00m) == \u001b[33m\"\u001b[39;49;00m\u001b[33mA\u001b[39;49;00m\u001b[33m\"\u001b[39;49;00m\n",
      "\u001b[1m\u001b[31mE       NameError: name 'get_middle' is not defined\u001b[0m\n",
      "\n",
      "\u001b[1m\u001b[31m/tmp/ipykernel_3012288/319729995.py\u001b[0m:11: NameError\n",
      "\u001b[31m\u001b[1m________________________________________ test_get_middle_5 _________________________________________\u001b[0m\n",
      "\n",
      "    \u001b[94mdef\u001b[39;49;00m \u001b[92mtest_get_middle_5\u001b[39;49;00m():\n",
      ">       \u001b[94massert\u001b[39;49;00m get_middle(\u001b[33m\"\u001b[39;49;00m\u001b[33mof\u001b[39;49;00m\u001b[33m\"\u001b[39;49;00m) == \u001b[33m\"\u001b[39;49;00m\u001b[33mof\u001b[39;49;00m\u001b[33m\"\u001b[39;49;00m\n",
      "\u001b[1m\u001b[31mE       NameError: name 'get_middle' is not defined\u001b[0m\n",
      "\n",
      "\u001b[1m\u001b[31m/tmp/ipykernel_3012288/319729995.py\u001b[0m:14: NameError\n",
      "\u001b[36m\u001b[1m===================================== short test summary info ======================================\u001b[0m\n",
      "\u001b[31mFAILED\u001b[0m t_07e250aaa0dc40218419e962230df51a.py::\u001b[1mtest_get_middle_1\u001b[0m - NameError: name 'get_middle' is not defined\n",
      "\u001b[31mFAILED\u001b[0m t_07e250aaa0dc40218419e962230df51a.py::\u001b[1mtest_get_middle_2\u001b[0m - NameError: name 'get_middle' is not defined\n",
      "\u001b[31mFAILED\u001b[0m t_07e250aaa0dc40218419e962230df51a.py::\u001b[1mtest_get_middle_3\u001b[0m - NameError: name 'get_middle' is not defined\n",
      "\u001b[31mFAILED\u001b[0m t_07e250aaa0dc40218419e962230df51a.py::\u001b[1mtest_get_middle_4\u001b[0m - NameError: name 'get_middle' is not defined\n",
      "\u001b[31mFAILED\u001b[0m t_07e250aaa0dc40218419e962230df51a.py::\u001b[1mtest_get_middle_5\u001b[0m - NameError: name 'get_middle' is not defined\n",
      "\u001b[31m\u001b[31m\u001b[1m5 failed\u001b[0m\u001b[31m in 0.02s\u001b[0m\u001b[0m\n"
>>>>>>> fcfc32944a2f6cf8ea33d3d81a31084080218afb
     ]
    }
   ],
   "source": [
    "%%ipytest\n",
    "\n",
    "def test_get_middle_1():\n",
    "    assert get_middle(\"testing\") == \"t\"\n",
    "    \n",
    "def test_get_middle_2():\n",
    "    assert get_middle(\"test\") == \"es\"\n",
    "    \n",
    "def test_get_middle_3():\n",
    "    assert get_middle(\"middle\") == \"dd\"\n",
    "    \n",
    "def test_get_middle_4():\n",
    "    assert get_middle(\"A\") == \"A\"\n",
    "    \n",
    "def test_get_middle_5():\n",
    "    assert get_middle(\"of\") == \"of\""
   ]
<<<<<<< HEAD
=======
  },
  {
   "cell_type": "code",
   "execution_count": null,
   "id": "e097f80f",
   "metadata": {},
   "outputs": [],
   "source": []
>>>>>>> fcfc32944a2f6cf8ea33d3d81a31084080218afb
  }
 ],
 "metadata": {
  "kernelspec": {
   "display_name": "Python 3 (ipykernel)",
   "language": "python",
   "name": "python3"
  },
  "language_info": {
   "codemirror_mode": {
    "name": "ipython",
    "version": 3
   },
   "file_extension": ".py",
   "mimetype": "text/x-python",
   "name": "python",
   "nbconvert_exporter": "python",
   "pygments_lexer": "ipython3",
   "version": "3.9.7"
  }
 },
 "nbformat": 4,
 "nbformat_minor": 5
}
