{
 "cells": [
  {
   "cell_type": "markdown",
   "id": "b6534814-1ee6-4322-88f2-5e25862d3167",
   "metadata": {},
   "source": [
    "<h3>Итераторы, генераторы, декораторы</h3>"
   ]
  },
  {
   "cell_type": "markdown",
   "id": "f66e3e91-641e-4482-ae93-79127ecf49d1",
   "metadata": {},
   "source": [
    "<h4>Часть первая, итераторы</h4>"
   ]
  },
  {
   "cell_type": "markdown",
   "id": "851c26c0-e4d5-4630-804b-d9ff005ea542",
   "metadata": {},
   "source": [
    "Итератор — это паттерн проектирования, который даёт возможность последовательно обходить элементы составных объектов, не раскрывая их внутреннего представления."
   ]
  },
  {
   "cell_type": "markdown",
   "id": "a1819cdc-6369-4ae3-a578-67298ee47e32",
   "metadata": {},
   "source": [
    "В чем проблема, зачем он нужен?\n",
    "Коллекции — самая распространённая структура данных, которую вы можете встретить в программировании. \n",
    "Это набор объектов, собранный в одну кучу по каким-то критериям. Способы хранения элементов могут быть различные, но для всех коллекций самая очевидная задача - обеспечить обход всех ее элементов, например:"
   ]
  },
  {
   "cell_type": "code",
   "execution_count": 1,
   "id": "91ee57fe-9aff-493a-b352-024f3ebb393e",
   "metadata": {},
   "outputs": [],
   "source": [
    "separator = \"-\"*50 # помните, как это работает?"
   ]
  },
  {
   "cell_type": "code",
   "execution_count": 2,
   "id": "e6f6684e-160c-4f5c-b252-4f28aadf9c32",
   "metadata": {},
   "outputs": [
    {
     "name": "stdout",
     "output_type": "stream",
     "text": [
      "0\n",
      "2\n",
      "34\n",
      "48\n",
      "11\n"
     ]
    }
   ],
   "source": [
    "#обход списка\n",
    "a_list = [0,2,34,48,11]\n",
    "a_list_lenght = len(a_list)\n",
    "i = 0\n",
    "while i < a_list_lenght:\n",
    "    print(a_list[i])\n",
    "    i = i + 1"
   ]
  },
  {
   "cell_type": "code",
   "execution_count": 3,
   "id": "5813e968-488b-4b48-8989-2586fd2a48d9",
   "metadata": {},
   "outputs": [
    {
     "name": "stdout",
     "output_type": "stream",
     "text": [
      "a_dict={'one': 1, 'two': 2, 'dozen': 12, '2': 40}\n",
      "a_dict_lenght=4\n",
      "--------------------------------------------------\n",
      "Ошибка: 0\n",
      "--------------------------------------------------\n"
     ]
    }
   ],
   "source": [
    "#обход словаря\n",
    "a_dict = {\"one\":1, \"two\":2, \"dozen\":12, \"2\":40}\n",
    "print(f\"{a_dict=}\")\n",
    "a_dict_lenght = len(a_dict)\n",
    "print(f\"{a_dict_lenght=}\")\n",
    "print(separator)\n",
    "try:\n",
    "    i = 0\n",
    "    while i < a_dict_lenght:\n",
    "        print(a_dict[i])\n",
    "        i = i + 1\n",
    "except KeyError as e:\n",
    "    print(f\"Ошибка: {str(e)}\")  \n",
    "print(separator)\n",
    "# что же делать, преобразовать в список? но как?\n",
    "#почему вообще так получилось?\n",
    "#for element in a_dict.items():\n",
    "#    print(element)\n",
    "#dir(a_dict)"
   ]
  },
  {
   "cell_type": "code",
   "execution_count": 4,
   "id": "d96f7c0e-ea5b-431d-87d7-8e6bf175224e",
   "metadata": {},
   "outputs": [
    {
     "name": "stdout",
     "output_type": "stream",
     "text": [
      "type(a_dict.keys()) = <class 'dict_keys'>\n",
      "a_dict.keys() = dict_keys(['one', 'two', 'dozen', '2'])\n"
     ]
    }
   ],
   "source": [
    "print(f\"{type(a_dict.keys()) = }\")\n",
    "print(f\"{a_dict.keys() = }\")\n",
    "#print(a_dict.keys()[0])"
   ]
  },
  {
   "cell_type": "code",
   "execution_count": 5,
   "id": "ddc37196-3496-44cf-b743-496cf0b9fcdc",
   "metadata": {},
   "outputs": [
    {
     "name": "stdout",
     "output_type": "stream",
     "text": [
      "a_dict = {'one': 1, 'two': 2, 'dozen': 12, '2': 40}\n",
      "--------------------------------------------------\n",
      "('2', 40)\n",
      "('dozen', 12)\n",
      "('two', 2)\n",
      "('one', 1)\n",
      "a_dict={}\n",
      "tmp_dict={'2': 40, 'dozen': 12, 'two': 2, 'one': 1}\n",
      "--------------------------------------------------\n",
      "a_dict={'one': 1, 'two': 2, 'dozen': 12, '2': 40}\n",
      "tmp_dict={}\n"
     ]
    }
   ],
   "source": [
    "print(f\"{a_dict = }\")\n",
    "print(separator)\n",
    "tmp_dict = {}\n",
    "while a_dict:\n",
    "    current = a_dict.popitem()\n",
    "    print(current)\n",
    "    tmp_dict.update({current[0]:current[1]})    \n",
    "print(f\"{a_dict=}\")\n",
    "print(f\"{tmp_dict=}\")\n",
    "print(separator)\n",
    "while tmp_dict:\n",
    "    current = tmp_dict.popitem()\n",
    "    a_dict.update({current[0]:current[1]})\n",
    "print(f\"{a_dict=}\")\n",
    "print(f\"{tmp_dict=}\")\n",
    "    "
   ]
  },
  {
   "cell_type": "markdown",
   "id": "8d3aea0d-692d-44a9-80db-1296c311c238",
   "metadata": {},
   "source": [
    " Идея паттерна Итератор состоит в том, чтобы вынести механизм обхода коллекции из самой коллекции в отдельную сущность. В питоне такие сущности обычно называются *_iterator (и не только в питоне)"
   ]
  },
  {
   "cell_type": "code",
   "execution_count": 6,
   "id": "29db20fa-3ba6-406a-bd76-d69649e070a0",
   "metadata": {},
   "outputs": [
    {
     "name": "stdout",
     "output_type": "stream",
     "text": [
      "type(a_list)=<class 'list'>\n",
      "type(a_list_iter)=<class 'list_iterator'>\n",
      "--------------------------------------------------\n",
      "a_list=[0, 2, 34, 48, 11]\n",
      "a_list_iter=<list_iterator object at 0x7fe4a0459ff0>\n"
     ]
    }
   ],
   "source": [
    "separator = \"-\"*50 # помните, как это работает?\n",
    "a_list = [0,2,34,48,11] # создал простой список\n",
    "a_list_iter = iter(a_list) #создал итератор по этому списку\n",
    "print(f\"{type(a_list)=}\",f\"{type(a_list_iter)=}\",sep='\\n') # распечатал типы\n",
    "print(separator)\n",
    "print(f\"{a_list=}\",f\"{a_list_iter=}\",sep = '\\n') #распечатал значения"
   ]
  },
  {
   "cell_type": "code",
   "execution_count": 7,
   "id": "ee461565-7810-4363-ab77-5446f1873d74",
   "metadata": {},
   "outputs": [],
   "source": [
    "#dir(a_list)\n",
    "#dir(a_list_iter)\n",
    "#an_int = 5\n",
    "#t=iter(an_int)"
   ]
  },
  {
   "cell_type": "code",
   "execution_count": 8,
   "id": "cb0a2457-82f7-45de-a828-b615167f0dd3",
   "metadata": {},
   "outputs": [
    {
     "name": "stdout",
     "output_type": "stream",
     "text": [
      "попробую распечатать итератор\n",
      "0\n",
      "2\n",
      "34\n",
      "48\n",
      "11\n",
      "попробую распечатать сам список\n",
      "--------------------------------------------------\n",
      "0\n",
      "2\n",
      "34\n",
      "48\n",
      "11\n",
      "--------------------------------------------------\n",
      "попробую распечатать итератор второй раз\n",
      "--------------------------------------------------\n",
      "попробую распечатать сам список второй раз\n",
      "0\n",
      "2\n",
      "34\n",
      "48\n",
      "11\n",
      "--------------------------------------------------\n"
     ]
    }
   ],
   "source": [
    "a_list_iter = iter(a_list) #создал итератор по этому списку\n",
    "print(\"попробую распечатать итератор\")\n",
    "for element in a_list_iter:\n",
    "    print(element)\n",
    "print(\"попробую распечатать сам список\")   \n",
    "print(separator)\n",
    "for element in iter(a_list):\n",
    "    print(element)\n",
    "print(separator)\n",
    "print(\"попробую распечатать итератор второй раз\")\n",
    "for element in a_list_iter:\n",
    "    print(element)\n",
    "print(separator)\n",
    "print(\"попробую распечатать сам список второй раз\")\n",
    "for element in iter(a_list):\n",
    "    print(element)\n",
    "print(separator)"
   ]
  },
  {
   "cell_type": "code",
   "execution_count": 9,
   "id": "4b2c84dd-ae14-4e53-bef6-286637eae804",
   "metadata": {},
   "outputs": [
    {
     "name": "stdout",
     "output_type": "stream",
     "text": [
      "Список, доступ по индексу:\n",
      "a_list[2]=34\n",
      "--------------------------------------------------\n",
      "Итератор, доступ по индексу:\n",
      "Ошибка: 'list_iterator' object is not subscriptable\n"
     ]
    }
   ],
   "source": [
    "#доступ по индексу\n",
    "print(\"Список, доступ по индексу:\")\n",
    "print(f\"{a_list[2]=}\")\n",
    "print(separator)\n",
    "print(\"Итератор, доступ по индексу:\")   \n",
    "a_list_iter = iter(a_list) #создал итератор по этому списку\n",
    "try:\n",
    "    print(f\"{a_list_iter[2]=}\")\n",
    "except TypeError as e:\n",
    "    print(f\"Ошибка: {str(e)}\")\n"
   ]
  },
  {
   "cell_type": "code",
   "execution_count": 10,
   "id": "a42d823a-2e73-44e9-9e2e-370bd87e8e70",
   "metadata": {},
   "outputs": [],
   "source": [
    "#что же под капотом у итераторов? Пишем свой цикл for"
   ]
  },
  {
   "cell_type": "code",
   "execution_count": 15,
   "id": "f5caf57d-7dcc-4cea-bf2d-2be6e8f22f7d",
   "metadata": {},
   "outputs": [
    {
     "name": "stdout",
     "output_type": "stream",
     "text": [
      "a_list_iter=<list_iterator object at 0x7fe4a045a830>\n",
      "next(a_list_iter)=0\n",
      "next(a_list_iter)=2\n",
      "next(a_list_iter)=34\n",
      "next(a_list_iter)=48\n",
      "next(a_list_iter)=11\n"
     ]
    }
   ],
   "source": [
    "#next\n",
    "a_list_iter = iter(a_list) #создал итератор по этому списку\n",
    "print(f\"{a_list_iter=}\")\n",
    "print(f\"{next(a_list_iter)=}\")\n",
    "print(f\"{next(a_list_iter)=}\")\n",
    "print(f\"{next(a_list_iter)=}\")\n",
    "print(f\"{next(a_list_iter)=}\")\n",
    "print(f\"{next(a_list_iter)=}\")\n",
    "#print(f\"{next(a_list_iter)=}\")\n"
   ]
  },
  {
   "cell_type": "code",
   "execution_count": 17,
   "id": "2b2a43b3-1814-4fb9-8ddd-e2946a688f3e",
   "metadata": {},
   "outputs": [
    {
     "name": "stdout",
     "output_type": "stream",
     "text": [
      "0\n",
      "2\n",
      "34\n",
      "48\n",
      "11\n"
     ]
    }
   ],
   "source": [
    "a_list_iter = iter(a_list) \n",
    "for item in a_list_iter:\n",
    "    print(item)"
   ]
  },
  {
   "cell_type": "code",
   "execution_count": 13,
   "id": "981e4150-7883-4005-9c2a-db74e8162889",
   "metadata": {},
   "outputs": [
    {
     "name": "stdout",
     "output_type": "stream",
     "text": [
      "--------------------------------------------------\n",
      "0\n",
      "2\n",
      "34\n",
      "48\n",
      "11\n",
      "--------------------------------------------------\n",
      "0\n",
      "2\n",
      "34\n",
      "48\n",
      "11\n",
      "--------------------------------------------------\n",
      "[]\n",
      "[0, 2, 34, 48, 11]\n"
     ]
    }
   ],
   "source": [
    "a_new_list = []\n",
    "def a_foo_my(element):\n",
    "    a_new_list.append(element)\n",
    "\n",
    "def my_for_loop(collection_iterator, action=0):\n",
    "    while True:\n",
    "        try:\n",
    "            tsugi = next(collection_iterator)\n",
    "            if action:\n",
    "                action(tsugi)\n",
    "        except StopIteration:\n",
    "            break\n",
    "a_list_iter = iter(a_list) #создал итератор по этому списку\n",
    "my_for_loop(a_list_iter)\n",
    "print(separator)\n",
    "a_list_iter = iter(a_list) \n",
    "my_for_loop(a_list_iter, print)\n",
    "print(separator)\n",
    "\n",
    "for element in a_list:\n",
    "    print(element)\n",
    "\n",
    "print(separator)\n",
    "print(a_new_list)\n",
    "a_list_iter = iter(a_list) \n",
    "my_for_loop(a_list_iter, a_foo_my)\n",
    "print(a_new_list)\n",
    "\n",
    "a_new_list = []\n",
    "for elem in a_list:\n",
    "    a_new_list.append(elem)\n",
    "\n",
    "\n"
   ]
  },
  {
   "cell_type": "code",
   "execution_count": 14,
   "id": "c4842ceb-3df6-4510-b5e3-31b5dc88f02d",
   "metadata": {},
   "outputs": [
    {
     "name": "stdout",
     "output_type": "stream",
     "text": [
      "4 -- 0\n",
      "4 -- 6\n"
     ]
    }
   ],
   "source": [
    "def a_foo(x, y = 0): # неявно заданные параметры функции. y - задается неявно\n",
    "    print(x,y, sep=\" -- \")\n",
    "\n",
    "a_foo(4)\n",
    "a_foo(4,6)"
   ]
  },
  {
   "cell_type": "markdown",
   "id": "3f4ea0da-41d1-42d8-a894-330624a7b652",
   "metadata": {},
   "source": [
    "<h4>Часть вторая, range</h4>"
   ]
  },
  {
   "cell_type": "code",
   "execution_count": 15,
   "id": "09987e64-78dc-495d-b822-60c067ad7ffe",
   "metadata": {},
   "outputs": [
    {
     "name": "stdout",
     "output_type": "stream",
     "text": [
      "type(range(0))=<class 'range'>\n",
      "type(iter(range(0)))=<class 'range_iterator'>\n"
     ]
    }
   ],
   "source": [
    "#range(s, s, s) - кто помнит правило трех s?\n",
    "print(f\"{type(range(0))=}\")\n",
    "print(f\"{type(iter(range(0)))=}\")"
   ]
  },
  {
   "cell_type": "code",
   "execution_count": 16,
   "id": "194de000-ae1a-4b6c-b7da-01b615ca1374",
   "metadata": {},
   "outputs": [
    {
     "name": "stdout",
     "output_type": "stream",
     "text": [
      "next(r_iter) = 0\n",
      "next(r_iter) = 2\n",
      "next(r_iter) = 4\n",
      "0\n",
      "2\n",
      "4\n",
      "6\n",
      "8\n"
     ]
    }
   ],
   "source": [
    "r_iter = iter(range(0,10,2))\n",
    "print(f\"{next(r_iter) = }\")\n",
    "print(f\"{next(r_iter) = }\")\n",
    "print(f\"{next(r_iter) = }\")\n",
    "\n",
    "for i in range(0,10,2):\n",
    "    print(i)"
   ]
  },
  {
   "cell_type": "markdown",
   "id": "82c299d9-0b05-483e-8e10-c054516bad8c",
   "metadata": {},
   "source": [
    "<h4>Часть третья, генераторы</h4>"
   ]
  },
  {
   "cell_type": "code",
   "execution_count": 17,
   "id": "6de5e15d-2a17-4d45-9a48-ec0ec453978c",
   "metadata": {},
   "outputs": [
    {
     "name": "stdout",
     "output_type": "stream",
     "text": [
      "я первый!\n"
     ]
    }
   ],
   "source": [
    "#yield - с чем тебя едят?\n",
    "def a_return_foo():\n",
    "    return(\"я первый!\")    \n",
    "    return(\"я второй!\") \n",
    "    return(\"я третий!\")\n",
    "print(a_return_foo())\n",
    "#print(next(a_return_foo()))\n",
    "#print(a_return_foo())\n",
    "\n",
    "#foo = a_return_foo \n",
    "#print(foo())\n",
    "#print(foo())\n",
    "#print(foo())"
   ]
  },
  {
   "cell_type": "code",
   "execution_count": 19,
   "id": "de04db89-7734-448d-85ed-42fd2a376c39",
   "metadata": {},
   "outputs": [
    {
     "name": "stdout",
     "output_type": "stream",
     "text": [
      "<generator object a_yield_foo at 0x7fe4a0393220>\n",
      "я первый!\n",
      "я второй!\n",
      "я третий!\n"
     ]
    }
   ],
   "source": [
    "def a_yield_foo():\n",
    "    yield \"я первый!\"    \n",
    "    yield \"я второй!\" \n",
    "    yield \"я третий!\"\n",
    "#a_yield_foo()\n",
    "print(a_yield_foo())\n",
    "#print(next(iter(a_yield_foo())))\n",
    "#print(next(a_yield_foo()))\n",
    "#print(a_yield_foo())\n",
    "#print(a_return_foo())\n",
    "foo = iter(a_yield_foo()) \n",
    "print(next(foo))\n",
    "print(next(foo))\n",
    "print(next(foo))\n",
    "#print(next(foo))\n",
    "\n",
    "def a_foo_1():\n",
    "    result = []\n",
    "    for i in range(5):\n",
    "        result.append(i)\n",
    "    return result"
   ]
  },
  {
   "cell_type": "code",
   "execution_count": 20,
   "id": "edeb91d4-5e68-4df6-8dc3-27c0d42828e7",
   "metadata": {},
   "outputs": [
    {
     "name": "stdout",
     "output_type": "stream",
     "text": [
      "[0, 1, 2, 3, 4]\n",
      "sum=10\n",
      "<class 'generator'>\n",
      "sum=20\n",
      "--------------------------------------------------\n",
      "<class 'function'>\n",
      "<class 'generator'>\n",
      "--------------------------------------------------\n",
      "<class 'function'>\n",
      "<class 'list'>\n"
     ]
    }
   ],
   "source": [
    "def a_foo_1():\n",
    "    result = []\n",
    "    for i in range(5):\n",
    "        result.append(i)\n",
    "    return result\n",
    "tmp_list = a_foo_1()\n",
    "print(tmp_list)\n",
    "sum = 0\n",
    "for element in a_foo_1():\n",
    "    sum = sum + element\n",
    "print(f\"{sum=}\")\n",
    "\n",
    "def a_foo_2():\n",
    "    for i in range(5):\n",
    "        yield (i)\n",
    "sum = 0\n",
    "tmp_gen = a_foo_2()\n",
    "print(type(tmp_gen))\n",
    "for element in a_foo_2():\n",
    "    sum = sum + element\n",
    "\n",
    "tmp_gen = a_foo_2()\n",
    "iter_tmp_gen = iter(tmp_gen)\n",
    "\n",
    "for element in iter_tmp_gen:\n",
    "    sum = sum + element\n",
    "\n",
    "print(f\"{sum=}\")\n",
    "print(separator)\n",
    "print(type(a_foo_2))\n",
    "print(type(a_foo_2()))\n",
    "print(separator)\n",
    "print(type(a_foo_1))\n",
    "print(type(a_foo_1()))"
   ]
  },
  {
   "cell_type": "code",
   "execution_count": 21,
   "id": "dd9a21bc-8fb4-437c-8948-a38bc5a7e3c7",
   "metadata": {},
   "outputs": [
    {
     "name": "stdout",
     "output_type": "stream",
     "text": [
      "<generator object a_foo_2 at 0x7fe4a03934c0>\n",
      "<generator object a_foo_2 at 0x7fe4a03934c0>\n",
      "1\n",
      "2\n",
      "3\n"
     ]
    }
   ],
   "source": [
    "def a_foo_2():\n",
    "    for i in range(5):\n",
    "        yield (i)\n",
    "tmp_gen = a_foo_2()\n",
    "print(tmp_gen)\n",
    "iter_tmp_gen = iter(tmp_gen)\n",
    "print(iter_tmp_gen)\n",
    "\n",
    "list1 = [1,2,3]\n",
    "iter(list1)\n",
    "for i in list1:\n",
    "    print(i)"
   ]
  },
  {
   "cell_type": "code",
   "execution_count": 30,
   "id": "b5074a2c-cf98-4427-80fb-a5dfe38d0c51",
   "metadata": {},
   "outputs": [
    {
     "name": "stdout",
     "output_type": "stream",
     "text": [
      "Ошибка: 'int' object is not iterable\n"
     ]
    }
   ],
   "source": [
    "int_v = 1\n",
    "try:\n",
    "    iter_int_v = iter(int_v)\n",
    "    for i in int_v:\n",
    "        print(i)\n",
    "except TypeError as e:\n",
    "    print(f\"Ошибка: {str(e)}\")"
   ]
  },
  {
   "cell_type": "code",
   "execution_count": 31,
   "id": "d9408a05-7b37-49db-ae9c-7b9c039c68c2",
   "metadata": {},
   "outputs": [
    {
     "name": "stdout",
     "output_type": "stream",
     "text": [
      "type(some_generator)=<class 'generator'>\n"
     ]
    }
   ],
   "source": [
    "some_generator = (i for i in range(10))\n",
    "print(f\"{type(some_generator)=}\")"
   ]
  },
  {
   "cell_type": "markdown",
   "id": "7d57fe24-5318-4114-9212-a2f8c10aa4a7",
   "metadata": {},
   "source": [
    "<h2>Тут закончили</h2>"
   ]
  },
  {
   "cell_type": "code",
   "execution_count": 33,
   "id": "1b867464-2376-4caf-bb89-2f3c229ba8f7",
   "metadata": {},
   "outputs": [
    {
     "name": "stdout",
     "output_type": "stream",
     "text": [
      "[10, 20, 30, 1, 11, 100]\n"
     ]
    }
   ],
   "source": [
    "items = [\"10\", \"20\", \"30\", \"1\", \"11\", \"100\"]\n",
    "\n",
    "int_items = []\n",
    "for item in iter(items):\n",
    "    int_items.append(int(item))\n",
    "print(int_items)"
   ]
  },
  {
   "cell_type": "code",
   "execution_count": 34,
   "id": "0c0369ce-e1e0-497b-be05-4897eee5fec5",
   "metadata": {},
   "outputs": [
    {
     "name": "stdout",
     "output_type": "stream",
     "text": [
      "type(items_gen)=<class 'generator'>\n",
      "int_items=[]\n",
      "int_items=[10, 20, 30, 1, 11, 100]\n"
     ]
    }
   ],
   "source": [
    "# то же самое но с генератором\n",
    "items = [\"10\", \"20\", \"30\", \"1\", \"11\", \"100\"]\n",
    "def get_int_items_generator(a_list):\n",
    "    for element in a_list:\n",
    "        yield int(element)\n",
    "        \n",
    "items_gen = get_int_items_generator(items)\n",
    "print(f\"{type(items_gen)=}\")\n",
    "int_items = []\n",
    "print(f\"{int_items=}\")\n",
    "while True:\n",
    "    try:\n",
    "        int_items.append(next(items_gen))\n",
    "    except StopIteration:\n",
    "        break\n",
    "print(f\"{int_items=}\")"
   ]
  },
  {
   "cell_type": "markdown",
   "id": "b8b10630-dac1-4ef2-9c85-7a411b953c24",
   "metadata": {},
   "source": [
    "<h4>Часть 4, генераторные выражения (comprehensions)</h4>"
   ]
  },
  {
   "cell_type": "code",
   "execution_count": 35,
   "id": "982367b8-e751-4c61-b490-c46cfdb256e9",
   "metadata": {},
   "outputs": [
    {
     "name": "stdout",
     "output_type": "stream",
     "text": [
      "a_list=[10, 20, 30, 1, 11, 100]\n"
     ]
    }
   ],
   "source": [
    "#comprehensions\n",
    "a_list = list(get_int_items_generator(items))\n",
    "print(f\"{a_list=}\")"
   ]
  },
  {
   "cell_type": "code",
   "execution_count": 36,
   "id": "4b36f478-3450-4715-8e37-43cd25ac2c1d",
   "metadata": {},
   "outputs": [
    {
     "name": "stdout",
     "output_type": "stream",
     "text": [
      "a_list=[0, 1, 2, 3, 4, 5, 6, 7, 8, 9]\n"
     ]
    }
   ],
   "source": [
    "a_list = list(elem for elem in range(10))\n",
    "print(f\"{a_list=}\")"
   ]
  },
  {
   "cell_type": "code",
   "execution_count": 37,
   "id": "133e64ab-0d38-4961-8851-b2f607c73980",
   "metadata": {},
   "outputs": [
    {
     "name": "stdout",
     "output_type": "stream",
     "text": [
      "a_list=[0, 1, 2, 3, 4, 5, 6, 7, 8, 9]\n"
     ]
    }
   ],
   "source": [
    "a_list = [elem for elem in range(10)]\n",
    "print(f\"{a_list=}\")"
   ]
  },
  {
   "cell_type": "code",
   "execution_count": 38,
   "id": "da945e9c-026c-4a87-bc95-45dc5454eb3b",
   "metadata": {},
   "outputs": [
    {
     "name": "stdout",
     "output_type": "stream",
     "text": [
      "a_list=[10, 20, 30, 1, 11, 100]\n"
     ]
    }
   ],
   "source": [
    "a_list = [elem for elem in get_int_items_generator(items)]\n",
    "print(f\"{a_list=}\")"
   ]
  },
  {
   "cell_type": "code",
   "execution_count": 39,
   "id": "40c7bcdf-5232-417a-96a6-8c4f09ac1c55",
   "metadata": {},
   "outputs": [
    {
     "name": "stdout",
     "output_type": "stream",
     "text": [
      "a_list=['30', '60', '90', '3', '33', '300']\n"
     ]
    }
   ],
   "source": [
    "def stringify(data):\n",
    "    return str(data)\n",
    "a_list = [stringify(elem*3) for elem in get_int_items_generator(items)]\n",
    "print(f\"{a_list=}\")"
   ]
  },
  {
   "cell_type": "code",
   "execution_count": 40,
   "id": "c9c781ae-87ec-465b-a6ca-05d0aa0e79f1",
   "metadata": {},
   "outputs": [
    {
     "name": "stdout",
     "output_type": "stream",
     "text": [
      "{'first': {'item': 3, 'data': 'a_first_data'}, 'second': {'item': 3, 'data': 'a_second_data'}, 'third': {'item': 15, 'data': 'a_third_data'}}\n",
      "collected_unique_items=0\n"
     ]
    }
   ],
   "source": [
    "a_dict = {\n",
    "    \"first\": {\n",
    "        \"item\": 3,\n",
    "        \"data\": \"a_first_data\"\n",
    "    },\n",
    "    \"second\": {\n",
    "        \"item\": 3,\n",
    "        \"data\": \"a_second_data\"\n",
    "    },\n",
    "    \"third\": {\n",
    "        \"item\": 15,\n",
    "        \"data\": \"a_third_data\"\n",
    "    },\n",
    "    }\n",
    "print(a_dict)\n",
    "collected_unique_items = 0# как собрать все уникальные значения по ключу item из списка \n",
    "print(f\"{collected_unique_items=}\")"
   ]
  },
  {
   "cell_type": "markdown",
   "id": "41578228-4a33-4441-9a33-5f575a5f23d7",
   "metadata": {},
   "source": [
    "<h4>Часть 5, декораторы</h4>"
   ]
  },
  {
   "cell_type": "code",
   "execution_count": 41,
   "id": "e08f98f1-3dd0-45f6-83a4-980736b9cbed",
   "metadata": {},
   "outputs": [
    {
     "name": "stdout",
     "output_type": "stream",
     "text": [
      "всем Привет\n"
     ]
    }
   ],
   "source": [
    "def say_hi():\n",
    "    return 'всем Привет'\n",
    "print(say_hi())"
   ]
  },
  {
   "cell_type": "code",
   "execution_count": 42,
   "id": "258cff01-f818-45d6-9f8b-5098c2412dbe",
   "metadata": {},
   "outputs": [],
   "source": [
    "def uppercase_decorator(function): # декоратор это функция, которая принимает на вход функцию, и возвращает обратно тоже функцию\n",
    "    def wrapper(): # внутри функции мы определим ещё одну функцию, которую и вернем\n",
    "        func = function() # теперь вызовем исходную функцию, переданную нам как параметр\n",
    "        make_uppercase = func.upper()  # проделаем с результатом какие-то действия\n",
    "        return make_uppercase # и вернем результат. \n",
    "    return wrapper"
   ]
  },
  {
   "cell_type": "code",
   "execution_count": 43,
   "id": "9ebd9b9f-e7f6-47b3-b73f-4b7cb9bbadda",
   "metadata": {},
   "outputs": [
    {
     "name": "stdout",
     "output_type": "stream",
     "text": [
      "ВСЕМ ПРИВЕТ\n"
     ]
    }
   ],
   "source": [
    "@uppercase_decorator # как объявить декоратор при создании новой функции\n",
    "def say_hi():\n",
    "    return 'Всем Привет'\n",
    "print(say_hi())#вывод - нихера (а в третьем питоне заработало)"
   ]
  },
  {
   "cell_type": "code",
   "execution_count": 44,
   "id": "c29d9e9b-24be-446b-bbc4-bbb3b98185e4",
   "metadata": {},
   "outputs": [
    {
     "name": "stdout",
     "output_type": "stream",
     "text": [
      "ВСЕМ ПРИВЕТ\n"
     ]
    }
   ],
   "source": [
    "say_hi = uppercase_decorator(say_hi)  # а так можно применить декоратор к уже готовой \n",
    "print(say_hi())"
   ]
  },
  {
   "cell_type": "code",
   "execution_count": 45,
   "id": "12eb91c1-e1e4-4c82-a771-135819515b2e",
   "metadata": {},
   "outputs": [
    {
     "name": "stdout",
     "output_type": "stream",
     "text": [
      "Исходный синус: 0.8660254037844387\n",
      "Декорированный синус: -0.4999999999999998 (теперь он косинус, должен быть около 0.5)\n",
      "Вернули обратно синус: 0.8660254037844387\n"
     ]
    }
   ],
   "source": [
    "#можно делать разные приколы, например заменить синус на косинус\n",
    "import math\n",
    "from math import sin\n",
    "from math import cos\n",
    "arg = 2.*math.pi/(180)*60\n",
    "print('Исходный синус: %s' % (sin(arg)))\n",
    "def to_cos_decorator(function):\n",
    "    def wrapper(*args):\n",
    "        return cos(*args)\n",
    "    return wrapper\n",
    "sin = to_cos_decorator(sin)\n",
    "print('Декорированный синус: %s (теперь он косинус, должен быть около 0.5)' % (sin(arg))) # синус теперь косинус, чудненько\n",
    "sin = math.sin # вернем синус на место\n",
    "print('Вернули обратно синус: %s' % (sin(arg)))"
   ]
  },
  {
   "cell_type": "code",
   "execution_count": 48,
   "id": "3c119b45-370c-46cb-906c-f70d40400bf0",
   "metadata": {},
   "outputs": [
    {
     "name": "stdout",
     "output_type": "stream",
     "text": [
      "Ошибка: 'str' object is not callable\n",
      "fuckupper\n"
     ]
    }
   ],
   "source": [
    "# посмотрим, что будет, если декоратор вернёт не функцию\n",
    "def fukken_decorator(function):\n",
    "    def wrapper(*args):\n",
    "        return args[0]\n",
    "    return 'fuckupper'\n",
    "#    return wrapper\n",
    "\n",
    "@fukken_decorator\n",
    "def f_func(value):\n",
    "    print(value)\n",
    "    return value\n",
    "try:\n",
    "    print(f_func('shit')) # так уже не работает\n",
    "except TypeError as e:\n",
    "    print(f\"Ошибка: {str(e)}\")\n",
    "print(f_func) # функция превратилась в строку\n",
    "# усложненная запись f_func = 'fuckupper' получается"
   ]
  },
  {
   "cell_type": "markdown",
   "id": "47887051-327c-47b7-997b-e1c549c359db",
   "metadata": {},
   "source": [
    "\n",
    "в общем, в абсолютности этих утверждений я сомневаюсь, но в целом тут написано всё верно<br>\n",
    "https://habr.com/ru/post/560572/<br>\n",
    "Мифы декораторов<br>\n",
    "\n",
    "    - Декораторы удобны. Думаю, с этим мы уже разобрались.\n",
    "\n",
    "    - В декораторы нужно передавать функции. Передавать можно не только функции, но и любые callable объекты. \n",
    "    Это такие объекты, у которых определён дандер метод (магический метод) __call__. \n",
    "    Этот метод отвечает за операции, которые будут произведены при вызове объекта \n",
    "    (когда вы ставите скобочки после имени объекта: object()). Вместо функции может быть метод или класс.\n",
    "\n",
    "    - Декораторы - это функции. И опять: это может быть любой callable объект.\n",
    "\n",
    "    - Декоратор возвращает функцию. Декоратор может возвращать что угодно. \n",
    "    Стоит лишь помнить, что если декоратор возвращает не callable объект, то вызывать его не получится.\n"
   ]
  },
  {
   "cell_type": "code",
   "execution_count": 34,
   "id": "06b5037b-4e89-4dc5-a004-d8d0fb1c37c7",
   "metadata": {},
   "outputs": [
    {
     "name": "stdout",
     "output_type": "stream",
     "text": [
      "--------------------------------------------------\n",
      "Выполняем декоратор\n",
      "Выходим из декоратора\n",
      "--------------------------------------------------\n",
      "Выполняем wrapper\n",
      "Выполняем a_foo\n",
      "Вошли в a_foo\n",
      "Вышли из a_foo\n",
      "Выходим из wrapper\n"
     ]
    }
   ],
   "source": [
    "# как работает декоратор и в какой последовательности всё вызывается\n",
    "def a_decorator(wrapped_func):\n",
    "    print(\"Выполняем декоратор\")\n",
    "    def wrapper():\n",
    "        print('Выполняем wrapper')\n",
    "        print(f'Выполняем {wrapped_func.__name__}')\n",
    "        wrapped_func()\n",
    "        print('Выходим из wrapper')\n",
    "    print(\"Выходим из декоратора\")    \n",
    "    return wrapper\n",
    "print(separator)\n",
    "@a_decorator\n",
    "def a_foo():\n",
    "    print(\"Вошли в a_foo\")\n",
    "    print(\"Вышли из a_foo\")\n",
    "print(separator)\n",
    "a_foo()"
   ]
  }
 ],
 "metadata": {
  "kernelspec": {
   "display_name": "Python 3 (ipykernel)",
   "language": "python",
   "name": "python3"
  },
  "language_info": {
   "codemirror_mode": {
    "name": "ipython",
    "version": 3
   },
   "file_extension": ".py",
   "mimetype": "text/x-python",
   "name": "python",
   "nbconvert_exporter": "python",
   "pygments_lexer": "ipython3",
   "version": "3.10.10"
  }
 },
 "nbformat": 4,
 "nbformat_minor": 5
}
