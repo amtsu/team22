{
 "cells": [
  {
   "cell_type": "code",
   "execution_count": null,
   "id": "2ec56407-d874-4dde-9433-2ff8d7bc3eb0",
   "metadata": {},
   "outputs": [],
   "source": [
    "create table Purchases(name varchar(20), date date,price varchar(10))\n",
    "insert into Purchases (name, price,date) values('pasta', '120', '2000-01-01')\n",
    "insert into Purchases (name, price,date) values('disc', '200', '2000-01-01')\n",
    "insert into Purchases (name, price,date) values('milk', '50', '2000-01-05')\n",
    "insert into Purchases (name, price,date) values('milk', '50', '2000-01-10')\n",
    "insert into Purchases (name, price,date) values('milk', '50', '2000-01-15')\n",
    "alter table Purchases add type varchar(15)\n",
    "update Purchases set type = 'tehno' where name= \"disc\"\n",
    "update Purchases set type = 'restoran' where name= \"pasta\"\n",
    "update Purchases set type = 'magazin' where name= \"milk\"\n",
    "\n",
    "select type, sum(price) from Purchases group by type\n",
    "create table table2 (type2 varchar(15),colour varchar(20))\n",
    "insert into  table2 (type2,colour) values ('tehno','blue')\n",
    "insert into  table2 (type2,colour) values ('restoran','black')\n",
    "insert into  table2 (type2,colour) values ('magazin','yellow')"
   ]
  },
  {
   "cell_type": "code",
   "execution_count": 1,
   "id": "6727af44-d321-48a1-a30c-9988ad58fb29",
   "metadata": {},
   "outputs": [],
   "source": [
    "import sqlite3\n",
    "connection = sqlite3.connect('db.sqlite3')\n",
    "cursor = connection.cursor()"
   ]
  },
  {
   "cell_type": "code",
   "execution_count": 2,
   "id": "530ad341-5915-4ea6-a201-cb68087b4e32",
   "metadata": {},
   "outputs": [
    {
     "data": {
      "text/plain": [
       "[]"
      ]
     },
     "execution_count": 2,
     "metadata": {},
     "output_type": "execute_result"
    }
   ],
   "source": [
    "cursor.execute(\"\")\n",
    "cursor.fetchall()"
   ]
  },
  {
   "cell_type": "code",
   "execution_count": 3,
   "id": "e69c9844-a21d-4bee-ada4-9cb1f4851dee",
   "metadata": {},
   "outputs": [
    {
     "data": {
      "text/plain": [
       "<sqlite3.Cursor at 0x7f4b09f9b6c0>"
      ]
     },
     "execution_count": 3,
     "metadata": {},
     "output_type": "execute_result"
    }
   ],
   "source": [
    "cursor.execute(\"create table Purchases(name varchar(20), date date,price int)\")"
   ]
  },
  {
   "cell_type": "code",
   "execution_count": 4,
   "id": "738a5870-6464-459e-9928-ecb62641e387",
   "metadata": {},
   "outputs": [
    {
     "data": {
      "text/plain": [
       "<sqlite3.Cursor at 0x7f4b09f9b6c0>"
      ]
     },
     "execution_count": 4,
     "metadata": {},
     "output_type": "execute_result"
    }
   ],
   "source": [
    "cursor.execute(\"insert into Purchases (name, price,date) values('pasta', 120, '2000-01-01')\")"
   ]
  },
  {
   "cell_type": "code",
   "execution_count": 5,
   "id": "6c186b4f-9ccb-4331-a3d0-e21afede7da2",
   "metadata": {},
   "outputs": [
    {
     "data": {
      "text/plain": [
       "<sqlite3.Cursor at 0x7f4b09f9b6c0>"
      ]
     },
     "execution_count": 5,
     "metadata": {},
     "output_type": "execute_result"
    }
   ],
   "source": [
    "cursor.execute(\"insert into Purchases (name, price,date) values('disc', 200, '2000-01-01')\")\n",
    "cursor.execute(\"insert into Purchases (name, price,date) values('milk', 50, '2000-01-05')\")\n",
    "cursor.execute(\"insert into Purchases (name, price,date) values('milk', 50, '2000-01-10')\")\n",
    "cursor.execute(\"insert into Purchases (name, price,date) values('milk', 50, '2000-01-15')\")\n",
    "\n"
   ]
  },
  {
   "cell_type": "code",
   "execution_count": 6,
   "id": "f0890158-9988-4b01-b068-bf9bba0708b8",
   "metadata": {},
   "outputs": [
    {
     "data": {
      "text/plain": [
       "<sqlite3.Cursor at 0x7f4b09f9b6c0>"
      ]
     },
     "execution_count": 6,
     "metadata": {},
     "output_type": "execute_result"
    }
   ],
   "source": [
    "cursor.execute(\"alter table Purchases add type varchar(15)\")\n",
    "cursor.execute(\"\")\n",
    "cursor.execute(\"\")"
   ]
  },
  {
   "cell_type": "code",
   "execution_count": 7,
   "id": "e89c1909-d11c-4839-b6fe-903ddceae75a",
   "metadata": {},
   "outputs": [
    {
     "data": {
      "text/plain": [
       "<sqlite3.Cursor at 0x7f4b09f9b6c0>"
      ]
     },
     "execution_count": 7,
     "metadata": {},
     "output_type": "execute_result"
    }
   ],
   "source": [
    "\n",
    "\n",
    "cursor.execute(\"update Purchases set type = 'tehno' where name= 'disc'\")\n",
    "cursor.execute(\"update Purchases set type = 'restoran' where name= \\\"pasta\\\"\")\n",
    "cursor.execute(\"update Purchases set type = 'magazin' where name= \\\"milk\\\"\")"
   ]
  },
  {
   "cell_type": "code",
   "execution_count": 8,
   "id": "f5fba6a2-b9e7-44b8-bb3c-a70e0dbb69ef",
   "metadata": {},
   "outputs": [
    {
     "data": {
      "text/plain": [
       "[('restoran', 120),\n",
       " ('tehno', 200),\n",
       " ('magazin', 50),\n",
       " ('magazin', 50),\n",
       " ('magazin', 50)]"
      ]
     },
     "execution_count": 8,
     "metadata": {},
     "output_type": "execute_result"
    }
   ],
   "source": [
    "cursor.execute(\"select type, price from Purchases\")\n",
    "cursor.fetchall()"
   ]
  },
  {
   "cell_type": "code",
   "execution_count": 10,
   "id": "9a9e94fd-e8db-4cdc-8f51-33a1464a1162",
   "metadata": {},
   "outputs": [
    {
     "data": {
      "text/plain": [
       "[('magazin', 150), ('restoran', 120), ('tehno', 200)]"
      ]
     },
     "execution_count": 10,
     "metadata": {},
     "output_type": "execute_result"
    }
   ],
   "source": [
    "cursor.execute(\"select type, sum(price) from Purchases group by type\")\n",
    "cursor.fetchall()"
   ]
  },
  {
   "cell_type": "code",
   "execution_count": 12,
   "id": "e74d2ca7-96ea-4de9-9ca4-d0a50369d8a1",
   "metadata": {},
   "outputs": [
    {
     "ename": "IndentationError",
     "evalue": "unindent does not match any outer indentation level (<tokenize>, line 8)",
     "output_type": "error",
     "traceback": [
      "\u001b[0;36m  File \u001b[0;32m<tokenize>:8\u001b[0;36m\u001b[0m\n\u001b[0;31m    FROM copied\u001b[0m\n\u001b[0m    ^\u001b[0m\n\u001b[0;31mIndentationError\u001b[0m\u001b[0;31m:\u001b[0m unindent does not match any outer indentation level\n"
     ]
    }
   ],
   "source": [
    "SELECT \n",
    "            id, \n",
    "            title,\n",
    "            price_sale,  \n",
    "            LEAD(price_sale,1,0) OVER (PARTITION BY title, url ORDER BY  title, id desc ) AS prev_price_sale,  \n",
    "            price_sale - LEAD(price_sale,1,0) OVER (PARTITION BY title, url  ORDER BY title, id desc ) AS diff,\n",
    "            ROW_NUMBER() OVER(PARTITION BY title, url ORDER BY id desc) AS row_number\n",
    "        FROM copied\n",
    "        where datetime_create >= \"{d.date()}\"\n",
    "            and price_sale>100\n",
    "        ORDER BY title, id  desc\n",
    "        LIMIT 100"
   ]
  },
  {
   "cell_type": "code",
   "execution_count": 14,
   "id": "97ab3f8a-0385-4285-812a-0c46ce041dc0",
   "metadata": {},
   "outputs": [
    {
     "data": {
      "text/plain": [
       "[('magazin', 'milk', 50, 1),\n",
       " ('magazin', 'milk', 50, 2),\n",
       " ('magazin', 'milk', 50, 3),\n",
       " ('restoran', 'pasta', 120, 1),\n",
       " ('tehno', 'disc', 200, 1)]"
      ]
     },
     "execution_count": 14,
     "metadata": {},
     "output_type": "execute_result"
    }
   ],
   "source": [
    "cursor.execute(\"\"\"\n",
    "select \n",
    "    type,\n",
    "    name,\n",
    "    price,\n",
    "    ROW_NUMBER() OVER(PARTITION BY type ORDER BY price desc) AS row_number\n",
    "    \n",
    "from Purchases\n",
    "\"\"\")\n",
    "cursor.fetchall()"
   ]
  },
  {
   "cell_type": "code",
   "execution_count": 15,
   "id": "84b99563-cd6d-41f6-a9c1-e4ad48784843",
   "metadata": {},
   "outputs": [
    {
     "data": {
      "text/plain": [
       "<sqlite3.Cursor at 0x7f4b09f9b6c0>"
      ]
     },
     "execution_count": 15,
     "metadata": {},
     "output_type": "execute_result"
    }
   ],
   "source": [
    "cursor.execute(\"insert into Purchases (name, price,date, type) values('orange', 450, '2000-01-25','magazin')\")"
   ]
  },
  {
   "cell_type": "code",
   "execution_count": 16,
   "id": "dc983a1a-04ec-402b-84fe-ce628c8ba223",
   "metadata": {},
   "outputs": [
    {
     "data": {
      "text/plain": [
       "[('pasta', '2000-01-01', 120, 'restoran'),\n",
       " ('disc', '2000-01-01', 200, 'tehno'),\n",
       " ('milk', '2000-01-05', 50, 'magazin'),\n",
       " ('milk', '2000-01-10', 50, 'magazin'),\n",
       " ('milk', '2000-01-15', 50, 'magazin'),\n",
       " ('orange', '2000-01-25', 450, 'magazin')]"
      ]
     },
     "execution_count": 16,
     "metadata": {},
     "output_type": "execute_result"
    }
   ],
   "source": [
    "cursor.execute(\"select * from Purchases\")\n",
    "cursor.fetchall()"
   ]
  },
  {
   "cell_type": "code",
   "execution_count": 17,
   "id": "ef8d3f03-d460-40c5-a808-5f2b77eb8216",
   "metadata": {},
   "outputs": [
    {
     "data": {
      "text/plain": [
       "[('magazin', 'milk', 50, 2),\n",
       " ('magazin', 'milk', 50, 3),\n",
       " ('magazin', 'milk', 50, 4),\n",
       " ('restoran', 'pasta', 120, 1),\n",
       " ('tehno', 'disc', 200, 1),\n",
       " ('magazin', 'orange', 450, 1)]"
      ]
     },
     "execution_count": 17,
     "metadata": {},
     "output_type": "execute_result"
    }
   ],
   "source": [
    "cursor.execute(\"\"\"\n",
    "select \n",
    "    type,\n",
    "    name,\n",
    "    price,\n",
    "    ROW_NUMBER() OVER(PARTITION BY type ORDER BY price desc) AS row_number\n",
    "    \n",
    "from Purchases\n",
    "order by price asc\n",
    "\"\"\")\n",
    "cursor.fetchall()"
   ]
  },
  {
   "cell_type": "code",
   "execution_count": 18,
   "id": "c94b66a8-b511-4f6b-aa21-273b722e89dc",
   "metadata": {},
   "outputs": [
    {
     "data": {
      "text/plain": [
       "[('magazin', 'milk', 50, 1),\n",
       " ('magazin', 'milk', 50, 2),\n",
       " ('magazin', 'milk', 50, 3),\n",
       " ('restoran', 'pasta', 120, 1),\n",
       " ('tehno', 'disc', 200, 1),\n",
       " ('magazin', 'orange', 450, 1)]"
      ]
     },
     "execution_count": 18,
     "metadata": {},
     "output_type": "execute_result"
    }
   ],
   "source": [
    "cursor.execute(\"\"\"\n",
    "select \n",
    "    type,\n",
    "    name,\n",
    "    price,\n",
    "    ROW_NUMBER() OVER(PARTITION BY type, price ORDER BY price desc) AS row_number\n",
    "    \n",
    "from Purchases\n",
    "order by price asc\n",
    "\"\"\")\n",
    "cursor.fetchall()"
   ]
  },
  {
   "cell_type": "code",
   "execution_count": 19,
   "id": "7273a3f8-c6b5-4473-a248-e66db36eec1e",
   "metadata": {},
   "outputs": [
    {
     "data": {
      "text/plain": [
       "<sqlite3.Cursor at 0x7f4b09f9b6c0>"
      ]
     },
     "execution_count": 19,
     "metadata": {},
     "output_type": "execute_result"
    }
   ],
   "source": [
    "cursor.execute(\"insert into Purchases (name, price,date, type) values('pasta', 120, '2000-01-25','cafe')\")"
   ]
  },
  {
   "cell_type": "code",
   "execution_count": 22,
   "id": "9dc11ec6-7b25-4ebd-a46d-fbd239a5ea79",
   "metadata": {},
   "outputs": [
    {
     "data": {
      "text/plain": [
       "<sqlite3.Cursor at 0x7f4b09f9b6c0>"
      ]
     },
     "execution_count": 22,
     "metadata": {},
     "output_type": "execute_result"
    }
   ],
   "source": [
    "cursor.execute(\"insert into Purchases (name, price,date, type) values('juce', 220, '2000-01-25','cafe')\")"
   ]
  },
  {
   "cell_type": "code",
   "execution_count": 23,
   "id": "16b6846b-fbbd-4254-be39-5b9692f0007e",
   "metadata": {},
   "outputs": [
    {
     "data": {
      "text/plain": [
       "[('pasta', '2000-01-01', 120, 'restoran'),\n",
       " ('disc', '2000-01-01', 200, 'tehno'),\n",
       " ('milk', '2000-01-05', 50, 'magazin'),\n",
       " ('milk', '2000-01-10', 50, 'magazin'),\n",
       " ('milk', '2000-01-15', 50, 'magazin'),\n",
       " ('orange', '2000-01-25', 450, 'magazin'),\n",
       " ('pasta', '2000-01-25', 120, 'cafe'),\n",
       " ('juce', '2000-01-25', 220, 'cafe')]"
      ]
     },
     "execution_count": 23,
     "metadata": {},
     "output_type": "execute_result"
    }
   ],
   "source": [
    "cursor.execute(\"select * from Purchases\")\n",
    "cursor.fetchall()"
   ]
  },
  {
   "cell_type": "code",
   "execution_count": 24,
   "id": "df1979d7-8047-4199-b38d-01b59321b3de",
   "metadata": {},
   "outputs": [
    {
     "data": {
      "text/plain": [
       "[('magazin', 'milk', 50, 1),\n",
       " ('magazin', 'milk', 50, 2),\n",
       " ('magazin', 'milk', 50, 3),\n",
       " ('cafe', 'pasta', 120, 1),\n",
       " ('restoran', 'pasta', 120, 1),\n",
       " ('tehno', 'disc', 200, 1),\n",
       " ('cafe', 'juce', 220, 1),\n",
       " ('magazin', 'orange', 450, 1)]"
      ]
     },
     "execution_count": 24,
     "metadata": {},
     "output_type": "execute_result"
    }
   ],
   "source": [
    "cursor.execute(\"\"\"\n",
    "select \n",
    "    type,\n",
    "    name,\n",
    "    price,\n",
    "    ROW_NUMBER() OVER(PARTITION BY type, price ORDER BY price desc) AS row_number\n",
    "    \n",
    "from Purchases\n",
    "order by price asc\n",
    "\"\"\")\n",
    "cursor.fetchall()"
   ]
  },
  {
   "cell_type": "code",
   "execution_count": 27,
   "id": "9118caae-e09a-49af-8900-249a839ea448",
   "metadata": {},
   "outputs": [
    {
     "data": {
      "text/plain": [
       "[('cafe', 'juce', 220, 1),\n",
       " ('cafe', 'pasta', 120, 2),\n",
       " ('magazin', 'orange', 450, 1),\n",
       " ('magazin', 'milk', 50, 2),\n",
       " ('magazin', 'milk', 50, 3),\n",
       " ('magazin', 'milk', 50, 4),\n",
       " ('restoran', 'pasta', 120, 1),\n",
       " ('tehno', 'disc', 200, 1)]"
      ]
     },
     "execution_count": 27,
     "metadata": {},
     "output_type": "execute_result"
    }
   ],
   "source": [
    "cursor.execute(\"\"\"\n",
    "select \n",
    "    type,\n",
    "    name,\n",
    "    price,\n",
    "    ROW_NUMBER() OVER(PARTITION BY type ORDER BY price desc) AS row_number\n",
    "    \n",
    "from Purchases\n",
    "--order by price asc\n",
    "\"\"\")\n",
    "cursor.fetchall()"
   ]
  },
  {
   "cell_type": "code",
   "execution_count": 28,
   "id": "42512291-9b0e-4c49-8ce6-f2c162927cbc",
   "metadata": {},
   "outputs": [
    {
     "data": {
      "text/plain": [
       "[('cafe', 'juce', 220, 1, 120),\n",
       " ('cafe', 'pasta', 120, 2, 0),\n",
       " ('magazin', 'orange', 450, 1, 50),\n",
       " ('magazin', 'milk', 50, 2, 50),\n",
       " ('magazin', 'milk', 50, 3, 50),\n",
       " ('magazin', 'milk', 50, 4, 0),\n",
       " ('restoran', 'pasta', 120, 1, 0),\n",
       " ('tehno', 'disc', 200, 1, 0)]"
      ]
     },
     "execution_count": 28,
     "metadata": {},
     "output_type": "execute_result"
    }
   ],
   "source": [
    "#LEAD(price_sale,1,0) OVER (PARTITION BY title, url ORDER BY  title, id desc ) AS prev_price_sale,  \n",
    "cursor.execute(\"\"\"\n",
    "select \n",
    "    type,\n",
    "    name,\n",
    "    price,\n",
    "    ROW_NUMBER() OVER(PARTITION BY type ORDER BY price desc) AS row_number,\n",
    "    LEAD(price,1,0) OVER (PARTITION BY type ORDER BY price desc ) AS price_next  \n",
    "    \n",
    "from Purchases\n",
    "--order by price asc\n",
    "\"\"\")\n",
    "cursor.fetchall()"
   ]
  },
  {
   "cell_type": "code",
   "execution_count": 29,
   "id": "70630c78-60f7-4f03-b6ab-bd43f5572267",
   "metadata": {},
   "outputs": [
    {
     "data": {
      "text/plain": [
       "<sqlite3.Cursor at 0x7f4b09f9b6c0>"
      ]
     },
     "execution_count": 29,
     "metadata": {},
     "output_type": "execute_result"
    }
   ],
   "source": [
    "cursor.execute(\"insert into Purchases (name, price,date, type) values('milk', 52, '2000-01-26','magazin')\")"
   ]
  },
  {
   "cell_type": "code",
   "execution_count": 30,
   "id": "7126ac23-340c-4a12-8f7e-779f0cbfa810",
   "metadata": {},
   "outputs": [
    {
     "data": {
      "text/plain": [
       "[('pasta', '2000-01-01', 120, 'restoran'),\n",
       " ('disc', '2000-01-01', 200, 'tehno'),\n",
       " ('milk', '2000-01-05', 50, 'magazin'),\n",
       " ('milk', '2000-01-10', 50, 'magazin'),\n",
       " ('milk', '2000-01-15', 50, 'magazin'),\n",
       " ('orange', '2000-01-25', 450, 'magazin'),\n",
       " ('pasta', '2000-01-25', 120, 'cafe'),\n",
       " ('juce', '2000-01-25', 220, 'cafe'),\n",
       " ('milk', '2000-01-26', 52, 'magazin')]"
      ]
     },
     "execution_count": 30,
     "metadata": {},
     "output_type": "execute_result"
    }
   ],
   "source": [
    "cursor.execute(\"select * from Purchases\")\n",
    "cursor.fetchall()\n"
   ]
  },
  {
   "cell_type": "code",
   "execution_count": 37,
   "id": "aff08de0-87e5-42eb-987c-f9eabba7f276",
   "metadata": {},
   "outputs": [
    {
     "data": {
      "text/plain": [
       "[('tehno', 'disc', 200, 0, 200, 1, '2000-01-01'),\n",
       " ('cafe', 'juce', 220, 0, 220, 2, '2000-01-25'),\n",
       " ('magazin', 'milk', 50, 50, 0, 1, '2000-01-05'),\n",
       " ('magazin', 'milk', 50, 50, 0, 2, '2000-01-10'),\n",
       " ('magazin', 'milk', 50, 52, -2, 3, '2000-01-15'),\n",
       " ('magazin', 'milk', 52, 0, 52, 4, '2000-01-26'),\n",
       " ('magazin', 'orange', 450, 0, 450, 5, '2000-01-25'),\n",
       " ('restoran', 'pasta', 120, 120, 0, 1, '2000-01-01'),\n",
       " ('cafe', 'pasta', 120, 0, 120, 1, '2000-01-25')]"
      ]
     },
     "execution_count": 37,
     "metadata": {},
     "output_type": "execute_result"
    }
   ],
   "source": [
    "cursor.execute(\"\"\"\n",
    "select \n",
    "    type,\n",
    "    name,\n",
    "    price,\n",
    "    LEAD(price,1,0) OVER (PARTITION BY name ORDER BY date asc ) AS price_next ,\n",
    "    price - LEAD(price,1,0) OVER (PARTITION BY name ORDER BY date asc ) AS price_diff,\n",
    "    ROW_NUMBER() OVER(PARTITION BY type ORDER BY price asc) AS row_number,\n",
    "    date\n",
    "    \n",
    "from Purchases\n",
    "--order by price asc\n",
    "\"\"\")\n",
    "cursor.fetchall()"
   ]
  },
  {
   "cell_type": "code",
   "execution_count": 45,
   "id": "1138d3ce-d822-4964-aaae-a3d204747c52",
   "metadata": {},
   "outputs": [
    {
     "data": {
      "text/plain": [
       "[('disc', 'tehno', 200.0),\n",
       " ('juce', 'cafe', 220.0),\n",
       " ('milk', 'magazin', 50.5),\n",
       " ('orange', 'magazin', 450.0),\n",
       " ('pasta', 'cafe', 120.0),\n",
       " ('pasta', 'restoran', 120.0)]"
      ]
     },
     "execution_count": 45,
     "metadata": {},
     "output_type": "execute_result"
    }
   ],
   "source": [
    "cursor.execute(\"\"\"\n",
    "select \n",
    "   \n",
    "    name,\n",
    "    type,\n",
    "    avg(price)\n",
    "    \n",
    "from Purchases\n",
    "group by name, type\n",
    "\"\"\")\n",
    "cursor.fetchall()"
   ]
  },
  {
   "cell_type": "code",
   "execution_count": 43,
   "id": "91edfebc-268a-476e-a85a-9e66ad3b0ab2",
   "metadata": {},
   "outputs": [
    {
     "name": "stderr",
     "output_type": "stream",
     "text": [
      "/tmp/ipykernel_1245950/4080736814.py:1: DeprecationWarning: \n",
      "Pyarrow will become a required dependency of pandas in the next major release of pandas (pandas 3.0),\n",
      "(to allow more performant data types, such as the Arrow string type, and better interoperability with other libraries)\n",
      "but was not found to be installed on your system.\n",
      "If this would cause problems for you,\n",
      "please provide us feedback at https://github.com/pandas-dev/pandas/issues/54466\n",
      "        \n",
      "  import pandas as pd\n"
     ]
    }
   ],
   "source": [
    "import pandas as pd\n",
    "import matplotlib.pyplot as plt\n",
    "\n",
    "# Сброс ограничений на количество выводимых рядов\n",
    "pd.set_option('display.max_rows', None)\n",
    " \n",
    "# Сброс ограничений на число столбцов\n",
    "pd.set_option('display.max_columns', None)\n",
    " \n",
    "# Сброс ограничений на количество символов в записи\n",
    "pd.set_option('display.max_colwidth', None)"
   ]
  },
  {
   "cell_type": "code",
   "execution_count": 54,
   "id": "68f2b704-2913-4aaa-a670-2d40d3a3453d",
   "metadata": {},
   "outputs": [],
   "source": [
    "cursor.execute(\"\"\"select name, price,date, type from Purchases where name = 'milk'\"\"\")\n",
    "\n",
    "df = pd.DataFrame(cursor.fetchall(), columns=[\n",
    "   \"name\", \"price\",\"date\", \"type\"\n",
    "])\n"
   ]
  },
  {
   "cell_type": "code",
   "execution_count": 55,
   "id": "492a662b-3b6f-40f2-81f9-2d5d1443763f",
   "metadata": {},
   "outputs": [
    {
     "data": {
      "text/html": [
       "<div>\n",
       "<style scoped>\n",
       "    .dataframe tbody tr th:only-of-type {\n",
       "        vertical-align: middle;\n",
       "    }\n",
       "\n",
       "    .dataframe tbody tr th {\n",
       "        vertical-align: top;\n",
       "    }\n",
       "\n",
       "    .dataframe thead th {\n",
       "        text-align: right;\n",
       "    }\n",
       "</style>\n",
       "<table border=\"1\" class=\"dataframe\">\n",
       "  <thead>\n",
       "    <tr style=\"text-align: right;\">\n",
       "      <th></th>\n",
       "      <th>name</th>\n",
       "      <th>price</th>\n",
       "      <th>date</th>\n",
       "      <th>type</th>\n",
       "    </tr>\n",
       "  </thead>\n",
       "  <tbody>\n",
       "    <tr>\n",
       "      <th>0</th>\n",
       "      <td>milk</td>\n",
       "      <td>50</td>\n",
       "      <td>2000-01-05</td>\n",
       "      <td>magazin</td>\n",
       "    </tr>\n",
       "    <tr>\n",
       "      <th>1</th>\n",
       "      <td>milk</td>\n",
       "      <td>50</td>\n",
       "      <td>2000-01-10</td>\n",
       "      <td>magazin</td>\n",
       "    </tr>\n",
       "    <tr>\n",
       "      <th>2</th>\n",
       "      <td>milk</td>\n",
       "      <td>50</td>\n",
       "      <td>2000-01-15</td>\n",
       "      <td>magazin</td>\n",
       "    </tr>\n",
       "    <tr>\n",
       "      <th>3</th>\n",
       "      <td>milk</td>\n",
       "      <td>52</td>\n",
       "      <td>2000-01-26</td>\n",
       "      <td>magazin</td>\n",
       "    </tr>\n",
       "  </tbody>\n",
       "</table>\n",
       "</div>"
      ],
      "text/plain": [
       "   name  price        date     type\n",
       "0  milk     50  2000-01-05  magazin\n",
       "1  milk     50  2000-01-10  magazin\n",
       "2  milk     50  2000-01-15  magazin\n",
       "3  milk     52  2000-01-26  magazin"
      ]
     },
     "execution_count": 55,
     "metadata": {},
     "output_type": "execute_result"
    }
   ],
   "source": [
    "df"
   ]
  },
  {
   "cell_type": "code",
   "execution_count": 50,
   "id": "c80590db-192b-49d7-8908-25468167422a",
   "metadata": {},
   "outputs": [],
   "source": []
  },
  {
   "cell_type": "code",
   "execution_count": 57,
   "id": "97b4a478-61b6-43e0-bfcd-7090f2fc9164",
   "metadata": {},
   "outputs": [
    {
     "data": {
      "text/plain": [
       "<matplotlib.collections.PathCollection at 0x7f4ac7966b60>"
      ]
     },
     "execution_count": 57,
     "metadata": {},
     "output_type": "execute_result"
    },
    {
     "data": {
      "image/png": "[encoded data removed]",
      "text/plain": [
       "<Figure size 400x200 with 1 Axes>"
      ]
     },
     "metadata": {},
     "output_type": "display_data"
    }
   ],
   "source": [
    "plt.figure(figsize=(4,2))\n",
    "plt.scatter(df[\"date\"],df[\"price\"], alpha=1)\n",
    "#plt.xlabel(\"apartment_area\")\n",
    "#plt.ylabel(\"price_sale\")"
   ]
  },
  {
   "cell_type": "code",
   "execution_count": 60,
   "id": "d764664b-cc66-494c-a0a2-9adb3244c04a",
   "metadata": {},
   "outputs": [],
   "source": [
    "plt.style.use('ggplot')"
   ]
  },
  {
   "cell_type": "code",
   "execution_count": 61,
   "id": "0676e9bf-c8af-4d84-a1c0-d78e283b2190",
   "metadata": {},
   "outputs": [
    {
     "data": {
      "text/plain": [
       "<matplotlib.collections.PathCollection at 0x7f4ac7abb190>"
      ]
     },
     "execution_count": 61,
     "metadata": {},
     "output_type": "execute_result"
    },
    {
     "data": {
      "image/png": "[encoded data removed]",
      "text/plain": [
       "<Figure size 400x200 with 1 Axes>"
      ]
     },
     "metadata": {},
     "output_type": "display_data"
    }
   ],
   "source": [
    "plt.figure(figsize=(4,2))\n",
    "plt.scatter((1,2,3,4,5),(1, 2, 3, 2,1), alpha=1)"
   ]
  },
  {
   "cell_type": "code",
   "execution_count": 62,
   "id": "2fe32afc-1ddf-429e-8b55-7604246e595f",
   "metadata": {},
   "outputs": [
    {
     "data": {
      "text/plain": [
       "[<matplotlib.lines.Line2D at 0x7f4ac5462830>]"
      ]
     },
     "execution_count": 62,
     "metadata": {},
     "output_type": "execute_result"
    },
    {
     "data": {
      "image/png": "[encoded data removed]",
      "text/plain": [
       "<Figure size 400x200 with 1 Axes>"
      ]
     },
     "metadata": {},
     "output_type": "display_data"
    }
   ],
   "source": [
    "plt.figure(figsize=(4,2))\n",
    "plt.plot((1,2,3,4,5),(1, 2, 3, 2,1), alpha=1)"
   ]
  },
  {
   "cell_type": "code",
   "execution_count": null,
   "id": "7a32ad0e-f791-460c-81fb-6005f09fb38b",
   "metadata": {},
   "outputs": [],
   "source": []
  }
 ],
 "metadata": {
  "kernelspec": {
   "display_name": "Python 3 (ipykernel)",
   "language": "python",
   "name": "python3"
  },
  "language_info": {
   "codemirror_mode": {
    "name": "ipython",
    "version": 3
   },
   "file_extension": ".py",
   "mimetype": "text/x-python",
   "name": "python",
   "nbconvert_exporter": "python",
   "pygments_lexer": "ipython3",
   "version": "3.10.10"
  }
 },
 "nbformat": 4,
 "nbformat_minor": 5
}
