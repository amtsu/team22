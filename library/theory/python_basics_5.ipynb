{
 "cells": [
  {
   "cell_type": "markdown",
   "id": "888c2458",
   "metadata": {},
   "source": [
    "# SQL"
   ]
  },
  {
   "cell_type": "markdown",
   "id": "87830816",
   "metadata": {},
   "source": [
    "### *Важный момент что результатом каждого запроса является таблица."
   ]
  },
  {
   "cell_type": "code",
   "execution_count": null,
   "id": "f0a99af9",
   "metadata": {},
   "outputs": [],
   "source": [
    "# структурированные данные\n",
    "['vasy', 'pety']\n",
    "{\n",
    "    'name': 'Alex',\n",
    "    'year': 2000\n",
    "}\n",
    "\n",
    "[\n",
    "    {\n",
    "      'name': 'Alex',\n",
    "      'year': 2000  \n",
    "    },\n",
    "    {\n",
    "       'name': 'Vity',\n",
    "       'year': 1998\n",
    "    },\n",
    "]\n",
    "\n",
    "Релязонные базы данных"
   ]
  },
  {
   "cell_type": "code",
   "execution_count": null,
   "id": "953e4a36",
   "metadata": {},
   "outputs": [],
   "source": [
    "#  SQL \n",
    "Создание тбалиц \n",
    "create table\n",
    "Модификация записей в таблице\n",
    "update\n",
    "Удаление записей из ьаблицы\n",
    "delete\n",
    "выборка записей из таблиц\n",
    "select\n"
   ]
  },
  {
   "cell_type": "code",
   "execution_count": 1,
   "id": "74fc9bc9",
   "metadata": {},
   "outputs": [
    {
     "name": "stdout",
     "output_type": "stream",
     "text": [
      "База данных создана и успешно подключена к SQLite\n",
      "Версия базы данных SQLite:  [('3.36.0',)]\n",
      "Соединение с SQLite закрыто\n"
     ]
    }
   ],
   "source": [
    "import sqlite3\n",
    "\n",
    "try:\n",
    "    sqlite_connection = sqlite3.connect('sqlite_python.db')\n",
    "    cursor = sqlite_connection.cursor()\n",
    "    print(\"База данных создана и успешно подключена к SQLite\")\n",
    "\n",
    "    sqlite_select_query = \"select sqlite_version();\"\n",
    "    cursor.execute(sqlite_select_query)\n",
    "    record = cursor.fetchall()\n",
    "    print(\"Версия базы данных SQLite: \", record)\n",
    "    cursor.close()\n",
    "\n",
    "except sqlite3.Error as error:\n",
    "    print(\"Ошибка при подключении к sqlite\", error)\n",
    "finally:\n",
    "    if (sqlite_connection):\n",
    "        sqlite_connection.close()\n",
    "        print(\"Соединение с SQLite закрыто\")"
   ]
  },
  {
   "cell_type": "code",
   "execution_count": 2,
   "id": "1afac5aa",
   "metadata": {},
   "outputs": [],
   "source": [
    "import sqlite3"
   ]
  },
  {
   "cell_type": "code",
   "execution_count": 3,
   "id": "4d1e3260",
   "metadata": {},
   "outputs": [
    {
     "name": "stdout",
     "output_type": "stream",
     "text": [
      "База данных создана и успешно подключена к SQLite\n"
     ]
    }
   ],
   "source": [
    "sqlite_connection = sqlite3.connect('db/sqlite_python.db')\n",
    "cursor = sqlite_connection.cursor()\n",
    "print(\"База данных создана и успешно подключена к SQLite\")\n",
    "\n",
    "\n"
   ]
  },
  {
   "cell_type": "code",
   "execution_count": 5,
   "id": "6248f4ad",
   "metadata": {},
   "outputs": [
    {
     "data": {
      "text/plain": [
       "<sqlite3.Cursor at 0x7f031c352880>"
      ]
     },
     "execution_count": 5,
     "metadata": {},
     "output_type": "execute_result"
    }
   ],
   "source": [
    "#  теефорнный спправочник\n",
    "# имя, грод, дата рожения, телефон\n",
    "int, str\n",
    "\n",
    "sql_create_table = \"create table Phone_Book(name varchar(20), city varchar(10), year date, phone_number  varchar(15))\"\n",
    "cursor.execute(sql_create_table)"
   ]
  },
  {
   "cell_type": "code",
   "execution_count": 6,
   "id": "76aed628",
   "metadata": {},
   "outputs": [
    {
     "data": {
      "text/plain": [
       "[]"
      ]
     },
     "execution_count": 6,
     "metadata": {},
     "output_type": "execute_result"
    }
   ],
   "source": [
    "cursor.fetchall()"
   ]
  },
  {
   "cell_type": "code",
   "execution_count": 11,
   "id": "06e2362a",
   "metadata": {},
   "outputs": [
    {
     "ename": "OperationalError",
     "evalue": "near \"schema\": syntax error",
     "output_type": "error",
     "traceback": [
      "\u001b[0;31m---------------------------------------------------------------------------\u001b[0m",
      "\u001b[0;31mOperationalError\u001b[0m                          Traceback (most recent call last)",
      "Cell \u001b[0;32mIn [11], line 1\u001b[0m\n\u001b[0;32m----> 1\u001b[0m \u001b[43mcursor\u001b[49m\u001b[38;5;241;43m.\u001b[39;49m\u001b[43mexecute\u001b[49m\u001b[43m(\u001b[49m\u001b[38;5;124;43m\"\u001b[39;49m\u001b[38;5;124;43mschema\u001b[39;49m\u001b[38;5;124;43m\"\u001b[39;49m\u001b[43m)\u001b[49m\n\u001b[1;32m      2\u001b[0m cursor\u001b[38;5;241m.\u001b[39mfetchall()\n",
      "\u001b[0;31mOperationalError\u001b[0m: near \"schema\": syntax error"
     ]
    }
   ],
   "source": [
    "cursor.execute(\"schema\")\n",
    "cursor.fetchall()"
   ]
  },
  {
   "cell_type": "code",
   "execution_count": 12,
   "id": "6bfa7ff9",
   "metadata": {},
   "outputs": [
    {
     "data": {
      "text/plain": [
       "[]"
      ]
     },
     "execution_count": 12,
     "metadata": {},
     "output_type": "execute_result"
    }
   ],
   "source": [
    "cursor.execute(\"select * from Phone_Book\")\n",
    "cursor.fetchall()"
   ]
  },
  {
   "cell_type": "code",
   "execution_count": 18,
   "id": "b6ccc506",
   "metadata": {},
   "outputs": [
    {
     "ename": "OperationalError",
     "evalue": "no such table: Phone_Book",
     "output_type": "error",
     "traceback": [
      "\u001b[0;31m---------------------------------------------------------------------------\u001b[0m",
      "\u001b[0;31mOperationalError\u001b[0m                          Traceback (most recent call last)",
      "Cell \u001b[0;32mIn [18], line 1\u001b[0m\n\u001b[0;32m----> 1\u001b[0m \u001b[43mcursor\u001b[49m\u001b[38;5;241;43m.\u001b[39;49m\u001b[43mexecute\u001b[49m\u001b[43m(\u001b[49m\u001b[38;5;124;43m\"\u001b[39;49m\u001b[38;5;124;43minsert into Phone_Book(name, city, year, phone_number) values(\u001b[39;49m\u001b[38;5;124;43m'\u001b[39;49m\u001b[38;5;124;43mAlex\u001b[39;49m\u001b[38;5;124;43m'\u001b[39;49m\u001b[38;5;124;43m, \u001b[39;49m\u001b[38;5;124;43m'\u001b[39;49m\u001b[38;5;124;43mMoscow\u001b[39;49m\u001b[38;5;124;43m'\u001b[39;49m\u001b[38;5;124;43m, \u001b[39;49m\u001b[38;5;124;43m'\u001b[39;49m\u001b[38;5;124;43m2000-01-01\u001b[39;49m\u001b[38;5;124;43m'\u001b[39;49m\u001b[38;5;124;43m, \u001b[39;49m\u001b[38;5;124;43m'\u001b[39;49m\u001b[38;5;124;43m89165554433\u001b[39;49m\u001b[38;5;124;43m'\u001b[39;49m\u001b[38;5;124;43m)\u001b[39;49m\u001b[38;5;124;43m\"\u001b[39;49m\u001b[43m)\u001b[49m\n\u001b[1;32m      2\u001b[0m cursor\u001b[38;5;241m.\u001b[39mfetchall()\n",
      "\u001b[0;31mOperationalError\u001b[0m: no such table: Phone_Book"
     ]
    }
   ],
   "source": [
    "cursor.execute(\"insert into Phone_Book(name, city, year, phone_number) values('Alex', 'Moscow', '2000-01-01', '89165554433')\")\n",
    "cursor.fetchall()"
   ]
  },
  {
   "cell_type": "code",
   "execution_count": 19,
   "id": "84a77d6b",
   "metadata": {},
   "outputs": [
    {
     "ename": "OperationalError",
     "evalue": "no such table: Phone_Book",
     "output_type": "error",
     "traceback": [
      "\u001b[0;31m---------------------------------------------------------------------------\u001b[0m",
      "\u001b[0;31mOperationalError\u001b[0m                          Traceback (most recent call last)",
      "Cell \u001b[0;32mIn [19], line 1\u001b[0m\n\u001b[0;32m----> 1\u001b[0m \u001b[43mcursor\u001b[49m\u001b[38;5;241;43m.\u001b[39;49m\u001b[43mexecute\u001b[49m\u001b[43m(\u001b[49m\u001b[38;5;124;43m\"\u001b[39;49m\u001b[38;5;124;43mselect * from Phone_Book\u001b[39;49m\u001b[38;5;124;43m\"\u001b[39;49m\u001b[43m)\u001b[49m\n\u001b[1;32m      2\u001b[0m cursor\u001b[38;5;241m.\u001b[39mfetchall()\n",
      "\u001b[0;31mOperationalError\u001b[0m: no such table: Phone_Book"
     ]
    }
   ],
   "source": [
    "cursor.execute(\"select * from Phone_Book\")\n",
    "cursor.fetchall()"
   ]
  },
  {
   "cell_type": "code",
   "execution_count": 15,
   "id": "18fc695a",
   "metadata": {},
   "outputs": [
    {
     "data": {
      "text/plain": [
       "[]"
      ]
     },
     "execution_count": 15,
     "metadata": {},
     "output_type": "execute_result"
    }
   ],
   "source": [
    "cursor.execute(\"insert into Phone_Book(name, city, year, phone_number) values('Vasy', 'Moscow', '1999-11-22', '89165551234')\")\n",
    "cursor.fetchall()"
   ]
  },
  {
   "cell_type": "code",
   "execution_count": 16,
   "id": "46cc1df8",
   "metadata": {},
   "outputs": [
    {
     "data": {
      "text/plain": [
       "[]"
      ]
     },
     "execution_count": 16,
     "metadata": {},
     "output_type": "execute_result"
    }
   ],
   "source": [
    "cursor.execute(\"insert into Phone_Book(name, city, year, phone_number) values('Mike', 'SPB', '1998-01-02', '89165551235')\")\n",
    "cursor.fetchall()"
   ]
  },
  {
   "cell_type": "code",
   "execution_count": 4,
   "id": "8407efa9",
   "metadata": {},
   "outputs": [
    {
     "data": {
      "text/plain": [
       "[('Alex', 'Moscow', '2000-01-01', '89165554433'),\n",
       " ('Vasy', 'Moscow', '1999-11-22', '89165551234'),\n",
       " ('Mike', 'SPB', '1998-01-02', '89165551235')]"
      ]
     },
     "execution_count": 4,
     "metadata": {},
     "output_type": "execute_result"
    }
   ],
   "source": [
    "cursor.execute(\"select * from Phone_Book\")\n",
    "cursor.fetchall()"
   ]
  },
  {
   "cell_type": "code",
   "execution_count": 18,
   "id": "d074677b",
   "metadata": {},
   "outputs": [],
   "source": [
    "sqlite_connection.commit()"
   ]
  },
  {
   "cell_type": "code",
   "execution_count": 5,
   "id": "a9648431",
   "metadata": {},
   "outputs": [
    {
     "data": {
      "text/plain": [
       "[('Alex', 'Moscow', '2000-01-01', '89165554433'),\n",
       " ('Vasy', 'Moscow', '1999-11-22', '89165551234')]"
      ]
     },
     "execution_count": 5,
     "metadata": {},
     "output_type": "execute_result"
    }
   ],
   "source": [
    "cursor.execute(\"select * from Phone_Book where city = 'Moscow'\")\n",
    "cursor.fetchall()"
   ]
  },
  {
   "cell_type": "code",
   "execution_count": 6,
   "id": "5a1b9184",
   "metadata": {},
   "outputs": [
    {
     "data": {
      "text/plain": [
       "[('Alex', 'Moscow', '2000-01-01', '89165554433'),\n",
       " ('Vasy', 'Moscow', '1999-11-22', '89165551234')]"
      ]
     },
     "execution_count": 6,
     "metadata": {},
     "output_type": "execute_result"
    }
   ],
   "source": [
    "cursor.execute(\"select * from Phone_Book where city like 'Mos%'\")\n",
    "cursor.fetchall()"
   ]
  },
  {
   "cell_type": "code",
   "execution_count": 7,
   "id": "9641cfad",
   "metadata": {},
   "outputs": [
    {
     "data": {
      "text/plain": [
       "[('Alex', '2000-01-01'), ('Vasy', '1999-11-22')]"
      ]
     },
     "execution_count": 7,
     "metadata": {},
     "output_type": "execute_result"
    }
   ],
   "source": [
    "cursor.execute(\"select name, year from Phone_Book where city like 'Mos%'\")\n",
    "cursor.fetchall()"
   ]
  },
  {
   "cell_type": "code",
   "execution_count": 8,
   "id": "b152d1b7",
   "metadata": {},
   "outputs": [
    {
     "data": {
      "text/plain": [
       "[(2,)]"
      ]
     },
     "execution_count": 8,
     "metadata": {},
     "output_type": "execute_result"
    }
   ],
   "source": [
    "cursor.execute(\"select count(*)  from Phone_Book where city like 'Mos%'\")\n",
    "cursor.fetchall()"
   ]
  },
  {
   "cell_type": "code",
   "execution_count": 12,
   "id": "fa706fde",
   "metadata": {},
   "outputs": [
    {
     "data": {
      "text/plain": [
       "[('Alex', '2000-01-01'), ('Vasy', '1999-11-22')]"
      ]
     },
     "execution_count": 12,
     "metadata": {},
     "output_type": "execute_result"
    }
   ],
   "source": [
    "cursor.execute(\"select name, year from Phone_Book where city like 'Mos%' order by name asc\")\n",
    "cursor.fetchall()"
   ]
  },
  {
   "cell_type": "code",
   "execution_count": 13,
   "id": "d97f4d19",
   "metadata": {},
   "outputs": [
    {
     "data": {
      "text/plain": [
       "[('Vasy', '1999-11-22'), ('Alex', '2000-01-01')]"
      ]
     },
     "execution_count": 13,
     "metadata": {},
     "output_type": "execute_result"
    }
   ],
   "source": [
    "cursor.execute(\"select name, year from Phone_Book where city like 'Mos%' order by name desc\")\n",
    "cursor.fetchall()"
   ]
  },
  {
   "cell_type": "code",
   "execution_count": 14,
   "id": "823c2fcc",
   "metadata": {},
   "outputs": [
    {
     "data": {
      "text/plain": [
       "[('Vasy', '1999-11-22')]"
      ]
     },
     "execution_count": 14,
     "metadata": {},
     "output_type": "execute_result"
    }
   ],
   "source": [
    "cursor.execute(\"select name, year from Phone_Book where city like 'Mos%' order by name desc limit 1\")\n",
    "cursor.fetchall()"
   ]
  },
  {
   "cell_type": "code",
   "execution_count": 15,
   "id": "822a90d9",
   "metadata": {},
   "outputs": [
    {
     "data": {
      "text/plain": [
       "[('Alex', '2000-01-01')]"
      ]
     },
     "execution_count": 15,
     "metadata": {},
     "output_type": "execute_result"
    }
   ],
   "source": [
    "cursor.execute(\"select name, year from Phone_Book where city like 'Mos%' order by name desc limit 1, 2\")\n",
    "cursor.fetchall()"
   ]
  },
  {
   "cell_type": "code",
   "execution_count": 16,
   "id": "20048040",
   "metadata": {},
   "outputs": [
    {
     "data": {
      "text/plain": [
       "[('Mike', '1998-01-02')]"
      ]
     },
     "execution_count": 16,
     "metadata": {},
     "output_type": "execute_result"
    }
   ],
   "source": [
    "cursor.execute(\"select name, year from Phone_Book order by name desc limit 1, 1\")\n",
    "cursor.fetchall()"
   ]
  },
  {
   "cell_type": "code",
   "execution_count": null,
   "id": "da3c2f83",
   "metadata": {},
   "outputs": [],
   "source": [
    "cursor.execute(\"alter table Phone_Book add income \")\n",
    "cursor.fetchall()"
   ]
  },
  {
   "cell_type": "code",
   "execution_count": null,
   "id": "286e9095",
   "metadata": {},
   "outputs": [],
   "source": []
  },
  {
   "cell_type": "markdown",
   "id": "f62af175",
   "metadata": {},
   "source": [
    "#HW \n",
    "- Реализовать на python базу данных по персоналу с двумя таблицами из занятия.\n",
    "- Заполнить ее данными.\n",
    "- Написать select который вернет таблицу содержащую названия отделов, среднюю зарплату в отдел, отсортированных по убыванию средне зп.\n",
    "- Добавить в первый отдел еще одно сотрудника с ЗП 1000 и посмотреть как изменится результат."
   ]
  },
  {
   "cell_type": "code",
   "execution_count": 1,
   "id": "f237b2ef",
   "metadata": {},
   "outputs": [
    {
     "name": "stdout",
     "output_type": "stream",
     "text": [
      "База данных создана и успешно подключена к SQLite\n"
     ]
    }
   ],
   "source": [
    "import sqlite3\n",
    "sqlite_connection = sqlite3.connect('db/sqlite_python.db')\n",
    "cursor = sqlite_connection.cursor()\n",
    "print(\"База данных создана и успешно подключена к SQLite\")"
   ]
  },
  {
   "cell_type": "code",
   "execution_count": 2,
   "id": "cfaec50f",
   "metadata": {},
   "outputs": [],
   "source": [
    "#cursor.execute(\"select name, year from Phone_Book order by name desc limit 1, 1\")"
   ]
  },
  {
   "cell_type": "code",
   "execution_count": 3,
   "id": "01500835",
   "metadata": {},
   "outputs": [
    {
     "ename": "SyntaxError",
     "evalue": "invalid syntax (4068654095.py, line 1)",
     "output_type": "error",
     "traceback": [
      "\u001b[0;36m  Cell \u001b[0;32mIn [3], line 1\u001b[0;36m\u001b[0m\n\u001b[0;31m    Сотрудники\temployees\u001b[0m\n\u001b[0m              \t^\u001b[0m\n\u001b[0;31mSyntaxError\u001b[0m\u001b[0;31m:\u001b[0m invalid syntax\n"
     ]
    }
   ],
   "source": [
    "\tСотрудники\temployees\t\t\n",
    "id\tname\tsurename\tdepartment_id\tsalary\n",
    "1\tИван\tИванов\t1\t5000\n",
    "2\tСвета\tСидорова\t1\t4500\n",
    "3\tИлья\tМакаров\t2\t4500\n",
    "4\tМарина\tФедорова\t2\t6000\n",
    "5\tВадим\tИльин\t3\t7000\n",
    "6\tИлья\tФилатов\t4\t5500\n",
    "7\tМарина\tСидорова\t2\t9000\n",
    "8\tВадим\tИльин\t3\t7000"
   ]
  },
  {
   "cell_type": "code",
   "execution_count": 4,
   "id": "a694b720",
   "metadata": {},
   "outputs": [
    {
     "ename": "SyntaxError",
     "evalue": "invalid syntax (1395909487.py, line 1)",
     "output_type": "error",
     "traceback": [
      "\u001b[0;36m  Cell \u001b[0;32mIn [4], line 1\u001b[0;36m\u001b[0m\n\u001b[0;31m    Отделы\tdepartment\u001b[0m\n\u001b[0m          \t^\u001b[0m\n\u001b[0;31mSyntaxError\u001b[0m\u001b[0;31m:\u001b[0m invalid syntax\n"
     ]
    }
   ],
   "source": [
    "\tОтделы\tdepartment\n",
    "id\tname\t\n",
    "1\tМаркетинг\t\n",
    "2\tПродажи\t\n",
    "3\tБухгалтерия\t\n",
    "4\t\t"
   ]
  },
  {
   "cell_type": "code",
   "execution_count": 5,
   "id": "e9a2c9e7",
   "metadata": {},
   "outputs": [
    {
     "data": {
      "text/plain": [
       "<sqlite3.Cursor at 0x7f95fab28340>"
      ]
     },
     "execution_count": 5,
     "metadata": {},
     "output_type": "execute_result"
    }
   ],
   "source": [
    "sql_create_table = \"create table Employees(id INTEGER, name varchar(20), surename varchar(20), department_id INTEGER, salary INTEGER)\"\n",
    "cursor.execute(sql_create_table)"
   ]
  },
  {
   "cell_type": "code",
   "execution_count": 6,
   "id": "8d654bc6",
   "metadata": {},
   "outputs": [
    {
     "data": {
      "text/plain": [
       "[]"
      ]
     },
     "execution_count": 6,
     "metadata": {},
     "output_type": "execute_result"
    }
   ],
   "source": [
    "cursor.execute(\"insert into Employees(id, name, surename, department_id, salary) values(1, 'Иван', 'Иванов', 1, 5000)\")\n",
    "cursor.fetchall()"
   ]
  },
  {
   "cell_type": "code",
   "execution_count": 7,
   "id": "cc817123",
   "metadata": {},
   "outputs": [
    {
     "data": {
      "text/plain": [
       "[('Иван', 'Иванов')]"
      ]
     },
     "execution_count": 7,
     "metadata": {},
     "output_type": "execute_result"
    }
   ],
   "source": [
    "cursor.execute(\"select name, surename from Employees\")\n",
    "cursor.fetchall()"
   ]
  },
  {
   "cell_type": "code",
   "execution_count": 8,
   "id": "23fbf759",
   "metadata": {},
   "outputs": [
    {
     "data": {
      "text/plain": [
       "[]"
      ]
     },
     "execution_count": 8,
     "metadata": {},
     "output_type": "execute_result"
    }
   ],
   "source": [
    "cursor.execute(\"insert into Employees(id, name, surename, department_id, salary) values(2, 'Света', 'Сидорова', 1, 4500)\")\n",
    "cursor.fetchall()"
   ]
  },
  {
   "cell_type": "code",
   "execution_count": 9,
   "id": "2c7fa115",
   "metadata": {},
   "outputs": [
    {
     "data": {
      "text/plain": [
       "[('Иван', 'Иванов'), ('Света', 'Сидорова')]"
      ]
     },
     "execution_count": 9,
     "metadata": {},
     "output_type": "execute_result"
    }
   ],
   "source": [
    "cursor.execute(\"select name, surename from Employees\")\n",
    "cursor.fetchall()"
   ]
  },
  {
   "cell_type": "code",
   "execution_count": 10,
   "id": "13617196",
   "metadata": {},
   "outputs": [
    {
     "data": {
      "text/plain": [
       "[]"
      ]
     },
     "execution_count": 10,
     "metadata": {},
     "output_type": "execute_result"
    }
   ],
   "source": [
    "cursor.execute(\"\"\"\n",
    "    insert into Employees(id, name, surename, department_id, salary) \n",
    "        values\n",
    "        (3, 'Илья', 'Макаров', 2, 4500),\n",
    "        (4, 'Марина', 'Федорова', 2, 6000),\n",
    "        (5, 'Вадим', 'Ильин', 3, 7000),\n",
    "        (6, 'Илья', 'Филатов', 4, 5500)\n",
    "\"\"\")\n",
    "cursor.fetchall()"
   ]
  },
  {
   "cell_type": "code",
   "execution_count": 11,
   "id": "bb4b21a4",
   "metadata": {},
   "outputs": [
    {
     "data": {
      "text/plain": [
       "[(1, 'Иван', 'Иванов', 1, 5000),\n",
       " (2, 'Света', 'Сидорова', 1, 4500),\n",
       " (3, 'Илья', 'Макаров', 2, 4500),\n",
       " (4, 'Марина', 'Федорова', 2, 6000),\n",
       " (5, 'Вадим', 'Ильин', 3, 7000),\n",
       " (6, 'Илья', 'Филатов', 4, 5500)]"
      ]
     },
     "execution_count": 11,
     "metadata": {},
     "output_type": "execute_result"
    }
   ],
   "source": [
    "cursor.execute(\"select * from Employees\")\n",
    "cursor.fetchall()"
   ]
  },
  {
   "cell_type": "code",
   "execution_count": 12,
   "id": "94ba5b10",
   "metadata": {},
   "outputs": [],
   "source": [
    "# надо заполнить таблицу с отделами"
   ]
  },
  {
   "cell_type": "code",
   "execution_count": 14,
   "id": "323156b1",
   "metadata": {},
   "outputs": [
    {
     "data": {
      "text/plain": [
       "[]"
      ]
     },
     "execution_count": 14,
     "metadata": {},
     "output_type": "execute_result"
    }
   ],
   "source": [
    "cursor.execute(\"create table Departments(id INTEGER, name varchar(30))\")\n",
    "cursor.fetchall()"
   ]
  },
  {
   "cell_type": "code",
   "execution_count": 15,
   "id": "8e701883",
   "metadata": {},
   "outputs": [
    {
     "data": {
      "text/plain": [
       "<sqlite3.Cursor at 0x7f95fab28340>"
      ]
     },
     "execution_count": 15,
     "metadata": {},
     "output_type": "execute_result"
    }
   ],
   "source": [
    "cursor.execute(\"insert into Departments(id, name) values(1,'Маркетинг')\")"
   ]
  },
  {
   "cell_type": "code",
   "execution_count": 16,
   "id": "c778d52a",
   "metadata": {},
   "outputs": [
    {
     "data": {
      "text/plain": [
       "<sqlite3.Cursor at 0x7f95fab28340>"
      ]
     },
     "execution_count": 16,
     "metadata": {},
     "output_type": "execute_result"
    }
   ],
   "source": [
    "cursor.execute(\"select * from Departments\")"
   ]
  },
  {
   "cell_type": "code",
   "execution_count": 17,
   "id": "18350af1",
   "metadata": {},
   "outputs": [
    {
     "data": {
      "text/plain": [
       "[(1, 'Маркетинг')]"
      ]
     },
     "execution_count": 17,
     "metadata": {},
     "output_type": "execute_result"
    }
   ],
   "source": [
    "cursor.fetchall()"
   ]
  },
  {
   "cell_type": "code",
   "execution_count": 19,
   "id": "9b34faa1",
   "metadata": {},
   "outputs": [
    {
     "data": {
      "text/plain": [
       "<sqlite3.Cursor at 0x7f95fab28340>"
      ]
     },
     "execution_count": 19,
     "metadata": {},
     "output_type": "execute_result"
    }
   ],
   "source": [
    "cursor.execute(\"insert into Departments(id, name) values(2,'Продажи')\")\n",
    "cursor.execute(\"insert into Departments(id, name) values(3,'Бухгалтерия')\")"
   ]
  },
  {
   "cell_type": "code",
   "execution_count": 21,
   "id": "5870eedc",
   "metadata": {},
   "outputs": [
    {
     "data": {
      "text/plain": [
       "[(1, 'Маркетинг'), (2, 'Продажи'), (3, 'Бухгалтерия')]"
      ]
     },
     "execution_count": 21,
     "metadata": {},
     "output_type": "execute_result"
    }
   ],
   "source": [
    "cursor.execute(\"select * from Departments\")\n",
    "cursor.fetchall()"
   ]
  },
  {
   "cell_type": "code",
   "execution_count": 23,
   "id": "e5dacfd3",
   "metadata": {},
   "outputs": [],
   "source": [
    "# как вывести имена всех пользователей ЗП которых больше 5500 "
   ]
  },
  {
   "cell_type": "code",
   "execution_count": 27,
   "id": "d2ab9abe",
   "metadata": {},
   "outputs": [
    {
     "data": {
      "text/plain": [
       "[('Марина', 6000), ('Вадим', 7000), ('Илья', 5500)]"
      ]
     },
     "execution_count": 27,
     "metadata": {},
     "output_type": "execute_result"
    }
   ],
   "source": [
    "cursor.execute(\"select name, salary from Employees where salary >= 5500\")\n",
    "cursor.fetchall()"
   ]
  },
  {
   "cell_type": "code",
   "execution_count": 28,
   "id": "b0ece629",
   "metadata": {},
   "outputs": [
    {
     "data": {
      "text/plain": [
       "[(3, 'Илья', 'Макаров', 2, 4500), (6, 'Илья', 'Филатов', 4, 5500)]"
      ]
     },
     "execution_count": 28,
     "metadata": {},
     "output_type": "execute_result"
    }
   ],
   "source": [
    "cursor.execute(\"select * from Employees where name like 'Ил%'\")\n",
    "cursor.fetchall()"
   ]
  },
  {
   "cell_type": "code",
   "execution_count": 31,
   "id": "5c76ad7d",
   "metadata": {},
   "outputs": [
    {
     "data": {
      "text/plain": [
       "[(3, 'Илья', 'Макаров', 2, 4500), (6, 'Илья', 'Филатов', 4, 5500)]"
      ]
     },
     "execution_count": 31,
     "metadata": {},
     "output_type": "execute_result"
    }
   ],
   "source": [
    "cursor.execute(\"select * from Employees where name = 'Илья'\")\n",
    "cursor.fetchall()"
   ]
  },
  {
   "cell_type": "code",
   "execution_count": 34,
   "id": "a2e0b110",
   "metadata": {},
   "outputs": [
    {
     "data": {
      "text/plain": [
       "[(1, 'Иван', 'Иванов', 1, 5000),\n",
       " (2, 'Света', 'Сидорова', 1, 4500),\n",
       " (4, 'Марина', 'Федорова', 2, 6000),\n",
       " (5, 'Вадим', 'Ильин', 3, 7000)]"
      ]
     },
     "execution_count": 34,
     "metadata": {},
     "output_type": "execute_result"
    }
   ],
   "source": [
    "cursor.execute(\"select * from Employees where name like '%а%'\")\n",
    "cursor.fetchall()"
   ]
  },
  {
   "cell_type": "code",
   "execution_count": 38,
   "id": "674638b3",
   "metadata": {},
   "outputs": [
    {
     "data": {
      "text/plain": [
       "[(2,)]"
      ]
     },
     "execution_count": 38,
     "metadata": {},
     "output_type": "execute_result"
    }
   ],
   "source": [
    "cursor.execute(\"select count(*) from Employees where name = 'Илья'\")\n",
    "cursor.fetchall()"
   ]
  },
  {
   "cell_type": "code",
   "execution_count": 39,
   "id": "573268f3",
   "metadata": {},
   "outputs": [
    {
     "data": {
      "text/plain": [
       "[(32500,)]"
      ]
     },
     "execution_count": 39,
     "metadata": {},
     "output_type": "execute_result"
    }
   ],
   "source": [
    "cursor.execute(\"select sum(salary) from Employees\")\n",
    "cursor.fetchall()"
   ]
  },
  {
   "cell_type": "code",
   "execution_count": 41,
   "id": "d5bdb300",
   "metadata": {},
   "outputs": [
    {
     "data": {
      "text/plain": [
       "[(5416.666666666667,)]"
      ]
     },
     "execution_count": 41,
     "metadata": {},
     "output_type": "execute_result"
    }
   ],
   "source": [
    "cursor.execute(\"select avg(salary) from Employees\")\n",
    "cursor.fetchall()"
   ]
  },
  {
   "cell_type": "code",
   "execution_count": 42,
   "id": "9ede8964",
   "metadata": {},
   "outputs": [
    {
     "data": {
      "text/plain": [
       "[(5000.0,)]"
      ]
     },
     "execution_count": 42,
     "metadata": {},
     "output_type": "execute_result"
    }
   ],
   "source": [
    "cursor.execute(\"select avg(salary) from Employees where name = 'Илья'\")\n",
    "cursor.fetchall()"
   ]
  },
  {
   "cell_type": "code",
   "execution_count": 44,
   "id": "058415ab",
   "metadata": {},
   "outputs": [
    {
     "data": {
      "text/plain": [
       "[(3, 'Илья', 'Макаров', 2, 4500), (6, 'Илья', 'Филатов', 4, 5500)]"
      ]
     },
     "execution_count": 44,
     "metadata": {},
     "output_type": "execute_result"
    }
   ],
   "source": [
    "cursor.execute(\"select * from Employees where name = 'Илья'\")\n",
    "cursor.fetchall()"
   ]
  },
  {
   "cell_type": "code",
   "execution_count": 45,
   "id": "dbda8887",
   "metadata": {},
   "outputs": [
    {
     "data": {
      "text/plain": [
       "<sqlite3.Cursor at 0x7f95fab28340>"
      ]
     },
     "execution_count": 45,
     "metadata": {},
     "output_type": "execute_result"
    }
   ],
   "source": [
    "cursor.execute(\"alter table Employees add city varchar(15)\")"
   ]
  },
  {
   "cell_type": "code",
   "execution_count": 46,
   "id": "fd8ef0b4",
   "metadata": {},
   "outputs": [
    {
     "data": {
      "text/plain": [
       "[(1, 'Иван', 'Иванов', 1, 5000, None),\n",
       " (2, 'Света', 'Сидорова', 1, 4500, None),\n",
       " (3, 'Илья', 'Макаров', 2, 4500, None),\n",
       " (4, 'Марина', 'Федорова', 2, 6000, None),\n",
       " (5, 'Вадим', 'Ильин', 3, 7000, None),\n",
       " (6, 'Илья', 'Филатов', 4, 5500, None)]"
      ]
     },
     "execution_count": 46,
     "metadata": {},
     "output_type": "execute_result"
    }
   ],
   "source": [
    "cursor.execute(\"select * from Employees\")\n",
    "cursor.fetchall()"
   ]
  },
  {
   "cell_type": "code",
   "execution_count": 49,
   "id": "ee326591",
   "metadata": {},
   "outputs": [
    {
     "data": {
      "text/plain": [
       "<sqlite3.Cursor at 0x7f95fab28340>"
      ]
     },
     "execution_count": 49,
     "metadata": {},
     "output_type": "execute_result"
    }
   ],
   "source": [
    "cursor.execute(\"update Employees set city = 'Moscow' where id = 1\")"
   ]
  },
  {
   "cell_type": "code",
   "execution_count": 50,
   "id": "c846bebc",
   "metadata": {},
   "outputs": [
    {
     "data": {
      "text/plain": [
       "[(1, 'Иван', 'Иванов', 1, 5000, 'Moscow'),\n",
       " (2, 'Света', 'Сидорова', 1, 4500, None),\n",
       " (3, 'Илья', 'Макаров', 2, 4500, None),\n",
       " (4, 'Марина', 'Федорова', 2, 6000, None),\n",
       " (5, 'Вадим', 'Ильин', 3, 7000, None),\n",
       " (6, 'Илья', 'Филатов', 4, 5500, None)]"
      ]
     },
     "execution_count": 50,
     "metadata": {},
     "output_type": "execute_result"
    }
   ],
   "source": [
    "cursor.execute(\"select * from Employees\")\n",
    "cursor.fetchall()"
   ]
  },
  {
   "cell_type": "code",
   "execution_count": 51,
   "id": "b9f51b92",
   "metadata": {},
   "outputs": [
    {
     "data": {
      "text/plain": [
       "<sqlite3.Cursor at 0x7f95fab28340>"
      ]
     },
     "execution_count": 51,
     "metadata": {},
     "output_type": "execute_result"
    }
   ],
   "source": [
    "cursor.execute(\"update Employees set city = 'Moscow1234567890Moscow' where id = 2\")"
   ]
  },
  {
   "cell_type": "code",
   "execution_count": 52,
   "id": "ef07b4b8",
   "metadata": {},
   "outputs": [
    {
     "data": {
      "text/plain": [
       "[(1, 'Иван', 'Иванов', 1, 5000, 'Moscow'),\n",
       " (2, 'Света', 'Сидорова', 1, 4500, 'Moscow1234567890Moscow'),\n",
       " (3, 'Илья', 'Макаров', 2, 4500, None),\n",
       " (4, 'Марина', 'Федорова', 2, 6000, None),\n",
       " (5, 'Вадим', 'Ильин', 3, 7000, None),\n",
       " (6, 'Илья', 'Филатов', 4, 5500, None)]"
      ]
     },
     "execution_count": 52,
     "metadata": {},
     "output_type": "execute_result"
    }
   ],
   "source": [
    "cursor.execute(\"select * from Employees\")\n",
    "cursor.fetchall()"
   ]
  },
  {
   "cell_type": "code",
   "execution_count": 53,
   "id": "c19088c9",
   "metadata": {},
   "outputs": [],
   "source": [
    "sqlite_connection.commit()"
   ]
  },
  {
   "cell_type": "code",
   "execution_count": 2,
   "id": "9e5b7111",
   "metadata": {},
   "outputs": [
    {
     "data": {
      "text/plain": [
       "[(1, 'Иван', 'Иванов', 1, 5000, 'Moscow'),\n",
       " (2, 'Света', 'Сидорова', 1, 4500, 'Moscow1234567890Moscow'),\n",
       " (3, 'Илья', 'Макаров', 2, 4500, None),\n",
       " (4, 'Марина', 'Федорова', 2, 6000, None),\n",
       " (5, 'Вадим', 'Ильин', 3, 7000, None),\n",
       " (6, 'Илья', 'Филатов', 4, 5500, None)]"
      ]
     },
     "execution_count": 2,
     "metadata": {},
     "output_type": "execute_result"
    }
   ],
   "source": [
    "cursor.execute(\"select * from Employees\")\n",
    "cursor.fetchall()"
   ]
  },
  {
   "cell_type": "code",
   "execution_count": 3,
   "id": "9a939cf9",
   "metadata": {},
   "outputs": [
    {
     "data": {
      "text/plain": [
       "[(1, 'Иван', 'Иванов', 1, 5000, 'Moscow'),\n",
       " (5, 'Вадим', 'Ильин', 3, 7000, None),\n",
       " (3, 'Илья', 'Макаров', 2, 4500, None),\n",
       " (2, 'Света', 'Сидорова', 1, 4500, 'Moscow1234567890Moscow'),\n",
       " (4, 'Марина', 'Федорова', 2, 6000, None),\n",
       " (6, 'Илья', 'Филатов', 4, 5500, None)]"
      ]
     },
     "execution_count": 3,
     "metadata": {},
     "output_type": "execute_result"
    }
   ],
   "source": [
    "# отсортровать по фаилилиям\n",
    "cursor.execute(\"select * from Employees order by surename asc\")\n",
    "cursor.fetchall()"
   ]
  },
  {
   "cell_type": "code",
   "execution_count": 4,
   "id": "dccfbc98",
   "metadata": {},
   "outputs": [
    {
     "data": {
      "text/plain": [
       "[(6, 'Илья', 'Филатов', 4, 5500, None),\n",
       " (4, 'Марина', 'Федорова', 2, 6000, None),\n",
       " (2, 'Света', 'Сидорова', 1, 4500, 'Moscow1234567890Moscow'),\n",
       " (3, 'Илья', 'Макаров', 2, 4500, None),\n",
       " (5, 'Вадим', 'Ильин', 3, 7000, None),\n",
       " (1, 'Иван', 'Иванов', 1, 5000, 'Moscow')]"
      ]
     },
     "execution_count": 4,
     "metadata": {},
     "output_type": "execute_result"
    }
   ],
   "source": [
    "# отсортровать по фаилили убывание\n",
    "cursor.execute(\"select * from Employees order by surename desc\")\n",
    "cursor.fetchall()"
   ]
  },
  {
   "cell_type": "code",
   "execution_count": 7,
   "id": "7ed7ce98",
   "metadata": {},
   "outputs": [
    {
     "data": {
      "text/plain": [
       "[('Света', 4500, 'Сидорова'), ('Илья', 4500, 'Макаров')]"
      ]
     },
     "execution_count": 7,
     "metadata": {},
     "output_type": "execute_result"
    }
   ],
   "source": [
    "# отсортровать по фаилили убывание  с зп меньше 5000\n",
    "cursor.execute(\"select name, salary, surename from Employees where salary < 5000 order by surename desc\")\n",
    "cursor.fetchall()"
   ]
  },
  {
   "cell_type": "code",
   "execution_count": 8,
   "id": "8adbc717",
   "metadata": {},
   "outputs": [],
   "source": [
    "# обедиенения "
   ]
  },
  {
   "cell_type": "code",
   "execution_count": 9,
   "id": "5598a3f7",
   "metadata": {},
   "outputs": [
    {
     "data": {
      "text/plain": [
       "[('Иван', 'Иванов', 1),\n",
       " ('Света', 'Сидорова', 1),\n",
       " ('Илья', 'Макаров', 2),\n",
       " ('Марина', 'Федорова', 2),\n",
       " ('Вадим', 'Ильин', 3),\n",
       " ('Илья', 'Филатов', 4)]"
      ]
     },
     "execution_count": 9,
     "metadata": {},
     "output_type": "execute_result"
    }
   ],
   "source": [
    "# отсортровать по фаилили убывание  с зп меньше 5000\n",
    "cursor.execute(\"select name, surename, department_id from Employees \")\n",
    "cursor.fetchall()"
   ]
  },
  {
   "cell_type": "code",
   "execution_count": 11,
   "id": "4eb15681",
   "metadata": {},
   "outputs": [
    {
     "data": {
      "text/plain": [
       "[('Иван', 'Иванов', 'Маркетинг'),\n",
       " ('Света', 'Сидорова', 'Маркетинг'),\n",
       " ('Илья', 'Макаров', 'Продажи'),\n",
       " ('Марина', 'Федорова', 'Продажи'),\n",
       " ('Вадим', 'Ильин', 'Бухгалтерия')]"
      ]
     },
     "execution_count": 11,
     "metadata": {},
     "output_type": "execute_result"
    }
   ],
   "source": [
    "cursor.execute(\"\"\"\n",
    "select \n",
    "    Employees.name, Employees.surename, Departments.name\n",
    "from \n",
    "    Employees \n",
    "    join Departments \n",
    "    on Employees.department_id = Departments.id\n",
    "\"\"\")\n",
    "cursor.fetchall()"
   ]
  },
  {
   "cell_type": "code",
   "execution_count": 12,
   "id": "9ae6cb77",
   "metadata": {},
   "outputs": [
    {
     "data": {
      "text/plain": [
       "<sqlite3.Cursor at 0x7f8215983030>"
      ]
     },
     "execution_count": 12,
     "metadata": {},
     "output_type": "execute_result"
    }
   ],
   "source": [
    "cursor.execute(\"insert into Departments(id) values(4)\")\n",
    "cursor.execute(\"insert into Departments(id) values(5)\")"
   ]
  },
  {
   "cell_type": "code",
   "execution_count": 13,
   "id": "6ffcbc3f",
   "metadata": {},
   "outputs": [
    {
     "data": {
      "text/plain": [
       "[('Иван', 'Иванов', 'Маркетинг'),\n",
       " ('Света', 'Сидорова', 'Маркетинг'),\n",
       " ('Илья', 'Макаров', 'Продажи'),\n",
       " ('Марина', 'Федорова', 'Продажи'),\n",
       " ('Вадим', 'Ильин', 'Бухгалтерия'),\n",
       " ('Илья', 'Филатов', None)]"
      ]
     },
     "execution_count": 13,
     "metadata": {},
     "output_type": "execute_result"
    }
   ],
   "source": [
    "cursor.execute(\"\"\"\n",
    "select \n",
    "    Employees.name, Employees.surename, Departments.name\n",
    "from \n",
    "    Departments\n",
    "    join\n",
    "    Employees \n",
    "    on Employees.department_id = Departments.id\n",
    "\"\"\")\n",
    "cursor.fetchall()"
   ]
  },
  {
   "cell_type": "code",
   "execution_count": 17,
   "id": "8b76dd92",
   "metadata": {},
   "outputs": [
    {
     "data": {
      "text/plain": [
       "[('Иван', 'Иванов', 'Маркетинг', 1),\n",
       " ('Света', 'Сидорова', 'Маркетинг', 1),\n",
       " ('Илья', 'Макаров', 'Продажи', 2),\n",
       " ('Марина', 'Федорова', 'Продажи', 2),\n",
       " ('Вадим', 'Ильин', 'Бухгалтерия', 3),\n",
       " ('Илья', 'Филатов', None, 4),\n",
       " (None, None, None, 5)]"
      ]
     },
     "execution_count": 17,
     "metadata": {},
     "output_type": "execute_result"
    }
   ],
   "source": [
    "cursor.execute(\"\"\"\n",
    "select \n",
    "    Employees.name, Employees.surename, Departments.name, Departments.id\n",
    "from \n",
    "    Departments\n",
    "    left join \n",
    "    Employees \n",
    "    on Employees.department_id = Departments.id\n",
    "\"\"\")\n",
    "cursor.fetchall()"
   ]
  },
  {
   "cell_type": "code",
   "execution_count": 19,
   "id": "9195176b",
   "metadata": {},
   "outputs": [
    {
     "data": {
      "text/plain": [
       "[(1, 'Маркетинг', 1, 'Иван', 'Иванов', 1, 5000, 'Moscow'),\n",
       " (1, 'Маркетинг', 2, 'Света', 'Сидорова', 1, 4500, 'Moscow1234567890Moscow'),\n",
       " (1, 'Маркетинг', 3, 'Илья', 'Макаров', 2, 4500, None),\n",
       " (1, 'Маркетинг', 4, 'Марина', 'Федорова', 2, 6000, None),\n",
       " (1, 'Маркетинг', 5, 'Вадим', 'Ильин', 3, 7000, None),\n",
       " (1, 'Маркетинг', 6, 'Илья', 'Филатов', 4, 5500, None),\n",
       " (2, 'Продажи', 1, 'Иван', 'Иванов', 1, 5000, 'Moscow'),\n",
       " (2, 'Продажи', 2, 'Света', 'Сидорова', 1, 4500, 'Moscow1234567890Moscow'),\n",
       " (2, 'Продажи', 3, 'Илья', 'Макаров', 2, 4500, None),\n",
       " (2, 'Продажи', 4, 'Марина', 'Федорова', 2, 6000, None),\n",
       " (2, 'Продажи', 5, 'Вадим', 'Ильин', 3, 7000, None),\n",
       " (2, 'Продажи', 6, 'Илья', 'Филатов', 4, 5500, None),\n",
       " (3, 'Бухгалтерия', 1, 'Иван', 'Иванов', 1, 5000, 'Moscow'),\n",
       " (3, 'Бухгалтерия', 2, 'Света', 'Сидорова', 1, 4500, 'Moscow1234567890Moscow'),\n",
       " (3, 'Бухгалтерия', 3, 'Илья', 'Макаров', 2, 4500, None),\n",
       " (3, 'Бухгалтерия', 4, 'Марина', 'Федорова', 2, 6000, None),\n",
       " (3, 'Бухгалтерия', 5, 'Вадим', 'Ильин', 3, 7000, None),\n",
       " (3, 'Бухгалтерия', 6, 'Илья', 'Филатов', 4, 5500, None),\n",
       " (4, None, 1, 'Иван', 'Иванов', 1, 5000, 'Moscow'),\n",
       " (4, None, 2, 'Света', 'Сидорова', 1, 4500, 'Moscow1234567890Moscow'),\n",
       " (4, None, 3, 'Илья', 'Макаров', 2, 4500, None),\n",
       " (4, None, 4, 'Марина', 'Федорова', 2, 6000, None),\n",
       " (4, None, 5, 'Вадим', 'Ильин', 3, 7000, None),\n",
       " (4, None, 6, 'Илья', 'Филатов', 4, 5500, None),\n",
       " (5, None, 1, 'Иван', 'Иванов', 1, 5000, 'Moscow'),\n",
       " (5, None, 2, 'Света', 'Сидорова', 1, 4500, 'Moscow1234567890Moscow'),\n",
       " (5, None, 3, 'Илья', 'Макаров', 2, 4500, None),\n",
       " (5, None, 4, 'Марина', 'Федорова', 2, 6000, None),\n",
       " (5, None, 5, 'Вадим', 'Ильин', 3, 7000, None),\n",
       " (5, None, 6, 'Илья', 'Филатов', 4, 5500, None)]"
      ]
     },
     "execution_count": 19,
     "metadata": {},
     "output_type": "execute_result"
    }
   ],
   "source": [
    "cursor.execute(\"\"\"\n",
    "select \n",
    "    *\n",
    "from \n",
    "    Departments\n",
    "    join\n",
    "    Employees \n",
    "\"\"\")\n",
    "cursor.fetchall()"
   ]
  },
  {
   "cell_type": "code",
   "execution_count": 20,
   "id": "982c7c80",
   "metadata": {},
   "outputs": [],
   "source": [
    "cursor.execute(\"\"\"\n",
    "select \n",
    "    Employees.name, Employees.surename, Departments.name\n",
    "from \n",
    "    Departments\n",
    "    join\n",
    "    Employees \n",
    "    on Employees.department_id = Departments.id\n",
    "\"\"\")\n",
    "a = cursor.fetchall()"
   ]
  },
  {
   "cell_type": "code",
   "execution_count": 25,
   "id": "0969beae",
   "metadata": {},
   "outputs": [],
   "source": [
    "b = []\n",
    "for k in a:\n",
    "    b.append({\n",
    "        'name': k[0],\n",
    "        'sur': k[1],\n",
    "    })"
   ]
  },
  {
   "cell_type": "code",
   "execution_count": 26,
   "id": "b26a71bb",
   "metadata": {},
   "outputs": [
    {
     "data": {
      "text/plain": [
       "[{'name': 'Иван', 'sur': 'Иванов'},\n",
       " {'name': 'Света', 'sur': 'Сидорова'},\n",
       " {'name': 'Илья', 'sur': 'Макаров'},\n",
       " {'name': 'Марина', 'sur': 'Федорова'},\n",
       " {'name': 'Вадим', 'sur': 'Ильин'},\n",
       " {'name': 'Илья', 'sur': 'Филатов'}]"
      ]
     },
     "execution_count": 26,
     "metadata": {},
     "output_type": "execute_result"
    }
   ],
   "source": [
    "b"
   ]
  },
  {
   "cell_type": "code",
   "execution_count": 29,
   "id": "db2ae442",
   "metadata": {},
   "outputs": [
    {
     "data": {
      "text/plain": [
       "[(2, 4500), (1, 5000), (1, 5500), (1, 6000), (1, 7000)]"
      ]
     },
     "execution_count": 29,
     "metadata": {},
     "output_type": "execute_result"
    }
   ],
   "source": [
    "# посчитать сколько сотрудников получают ощниакоыую зрпаплату\n",
    "cursor.execute(\"\"\"\n",
    "select \n",
    "    count(*), salary\n",
    "from \n",
    "    Employees \n",
    "group by\n",
    "    salary\n",
    "\"\"\")\n",
    "cursor.fetchall()"
   ]
  },
  {
   "cell_type": "code",
   "execution_count": 32,
   "id": "74f62c0c",
   "metadata": {},
   "outputs": [
    {
     "data": {
      "text/plain": [
       "[(7000, 7000.0, 7000, 'Вадим'),\n",
       " (5000, 5000.0, 5000, 'Иван'),\n",
       " (5500, 5000.0, 4500, 'Илья'),\n",
       " (6000, 6000.0, 6000, 'Марина'),\n",
       " (4500, 4500.0, 4500, 'Света')]"
      ]
     },
     "execution_count": 32,
     "metadata": {},
     "output_type": "execute_result"
    }
   ],
   "source": [
    "cursor.execute(\"\"\"\n",
    "select \n",
    "    max(salary), avg(salary), min(salary), name\n",
    "from \n",
    "    Employees \n",
    "group by\n",
    "    name\n",
    "\"\"\")\n",
    "cursor.fetchall()"
   ]
  },
  {
   "cell_type": "code",
   "execution_count": null,
   "id": "54140344",
   "metadata": {},
   "outputs": [],
   "source": []
  },
  {
   "cell_type": "code",
   "execution_count": null,
   "id": "ee62144f",
   "metadata": {},
   "outputs": [],
   "source": []
  },
  {
   "cell_type": "code",
   "execution_count": null,
   "id": "95cdbd06",
   "metadata": {},
   "outputs": [],
   "source": []
  },
  {
   "cell_type": "markdown",
   "id": "b664c4f6",
   "metadata": {},
   "source": [
    "стандартные типы данных;\n",
    "\n",
    "простые и вложенные запросы;\n",
    "\n",
    "соединения и изменения данных в таблице;\n",
    "\n",
    "проектирование схемы БД;\n",
    "\n",
    "хранимые процедуры;\n",
    "\n",
    "агрегатные и оконные функции;\n",
    "\n",
    "древовидные структуры и рекурсивные запросы;\n",
    "\n",
    "транзакции;\n",
    "\n",
    "оптимизация запросов;\n",
    "\n",
    "модули расширения."
   ]
  },
  {
   "cell_type": "code",
   "execution_count": 1,
   "id": "5771bde8",
   "metadata": {},
   "outputs": [],
   "source": [
    "import sqlite3\n",
    "from datetime import datetime, timedelta\n"
   ]
  },
  {
   "cell_type": "code",
   "execution_count": 2,
   "id": "d16f5ff4",
   "metadata": {},
   "outputs": [],
   "source": [
    "connection = sqlite3.connect('/home/jupyter-amtsu/project/price_alert/db.sqlite3')\n",
    "cursor = connection.cursor()"
   ]
  },
  {
   "cell_type": "code",
   "execution_count": 3,
   "id": "f480ce37",
   "metadata": {},
   "outputs": [
    {
     "data": {
      "text/plain": [
       "[('django_migrations',),\n",
       " ('sqlite_sequence',),\n",
       " ('auth_group_permissions',),\n",
       " ('auth_user_groups',),\n",
       " ('auth_user_user_permissions',),\n",
       " ('django_admin_log',),\n",
       " ('django_content_type',),\n",
       " ('auth_permission',),\n",
       " ('auth_group',),\n",
       " ('auth_user',),\n",
       " ('django_session',),\n",
       " ('person_person',),\n",
       " ('person_check',),\n",
       " ('products_history',)]"
      ]
     },
     "execution_count": 3,
     "metadata": {},
     "output_type": "execute_result"
    }
   ],
   "source": [
    "cursor.execute(\"SELECT name FROM sqlite_master WHERE type='table';\")\n",
    "cursor.fetchall()"
   ]
  },
  {
   "cell_type": "code",
   "execution_count": 4,
   "id": "eccc1650",
   "metadata": {},
   "outputs": [
    {
     "data": {
      "text/plain": [
       "[('CREATE TABLE \"products_history\" (\"id\" integer NOT NULL PRIMARY KEY AUTOINCREMENT, \"datetime_create\" datetime NULL, \"description\" varchar(10000) NULL, \"params\" varchar(10000) NULL, \"price\" decimal NULL, \"task\" varchar(200) NULL, \"title\" varchar(200) NULL, \"worker\" varchar(200) NULL, \"price_sale\" decimal NULL, \"quantity\" integer NULL, \"brand\" varchar(1000) NULL, \"brand_url\" varchar(1000) NULL, \"canonical_url\" varchar(1000) NULL, \"category\" varchar(1000) NULL, \"category_url\" varchar(1000) NULL, \"count_comments\" integer NULL, \"count_how_much_buy\" integer NULL, \"count_likes\" integer NULL, \"count_photo\" integer NULL, \"count_questions\" integer NULL, \"count_stars_1\" integer NULL, \"count_stars_2\" integer NULL, \"count_stars_3\" integer NULL, \"count_stars_4\" integer NULL, \"count_stars_5\" integer NULL, \"count_stars_all\" integer NULL, \"day_to_delivery\" integer NULL, \"img_url\" varchar(1000) NULL, \"score\" decimal NULL, \"seller\" varchar(1000) NULL, \"seller_url\" varchar(1000) NULL, \"sku\" varchar(1000) NULL, \"source_url\" varchar(1000) NULL, \"url\" varchar(1000) NULL, \"urls_other_products_on_the_page\" varchar(10000) NULL, \"apartment_address\" varchar(200) NULL, \"apartment_area\" decimal NULL, \"apartment_ceilingheight\" decimal NULL, \"apartment_completion_quarter\" integer NULL, \"apartment_completion_year\" integer NULL, \"apartment_floor\" integer NULL, \"apartment_floors_total\" integer NULL, \"apartment_location_lat\" decimal NULL, \"apartment_ppm\" integer NULL, \"apartment_room\" integer NULL, \"apartment_location_lon\" decimal NULL)',)]"
      ]
     },
     "execution_count": 4,
     "metadata": {},
     "output_type": "execute_result"
    }
   ],
   "source": [
    "cursor.execute(\"SELECT sql FROM sqlite_master WHERE name='products_history' \")\n",
    "cursor.fetchall()"
   ]
  },
  {
   "cell_type": "code",
   "execution_count": 5,
   "id": "b1517f01",
   "metadata": {},
   "outputs": [],
   "source": [
    "connection_mini = sqlite3.connect('/home/jupyter-amtsu/db_mini.sqlite3')\n",
    "cursor_mini = connection_mini.cursor()\n",
    "\n",
    "\n"
   ]
  },
  {
   "cell_type": "code",
   "execution_count": 16,
   "id": "5bdb8864",
   "metadata": {},
   "outputs": [
    {
     "data": {
      "text/plain": [
       "<sqlite3.Cursor at 0x7fae284d7c00>"
      ]
     },
     "execution_count": 16,
     "metadata": {},
     "output_type": "execute_result"
    }
   ],
   "source": [
    "sql_create_table = 'create table products_history(\"id\" integer NOT NULL PRIMARY KEY AUTOINCREMENT, \"datetime_create\" datetime NULL, \"title\" varchar(200) NULL, \"price_sale\" decimal NULL, \"url\" varchar(1000) NULL)'\n",
    "cursor_mini.execute(sql_create_table)"
   ]
  },
  {
   "cell_type": "code",
   "execution_count": 8,
   "id": "c563a5f8",
   "metadata": {},
   "outputs": [],
   "source": [
    "connection_mini.commit()"
   ]
  },
  {
   "cell_type": "code",
   "execution_count": 6,
   "id": "28b46436",
   "metadata": {},
   "outputs": [],
   "source": [
    "q = f\"\"\"\n",
    "        SELECT \n",
    "            id, \n",
    "            title,\n",
    "            url,\n",
    "            price_sale,\n",
    "            datetime_create\n",
    "        FROM products_history\n",
    "        where url like '%auchan%'\n",
    "        LIMIT 100000\n",
    "\"\"\"\n",
    "cursor.execute(q)\n",
    "for i in cursor.fetchall():\n",
    "    #print(i)\n",
    "    title = i[1].replace(\"'\",\"\") if i[1] else ''\n",
    "    #print(title)\n",
    "    cursor_mini.execute(f\"insert into products_history(id, title, url, price_sale, datetime_create) values('{i[0]}', '{title}', '{i[2]}', '{i[3]}', '{i[4]}')\")\n"
   ]
  },
  {
   "cell_type": "code",
   "execution_count": 32,
   "id": "ef81cae8",
   "metadata": {},
   "outputs": [
    {
     "data": {
      "text/plain": [
       "<sqlite3.Cursor at 0x7f59ec414d50>"
      ]
     },
     "execution_count": 32,
     "metadata": {},
     "output_type": "execute_result"
    }
   ],
   "source": [
    "cursor_mini.execute(f\"delete from products_history\")"
   ]
  },
  {
   "cell_type": "code",
   "execution_count": 7,
   "id": "0c6b2d0f",
   "metadata": {},
   "outputs": [
    {
     "data": {
      "text/plain": [
       "[(651800,\n",
       "  'Щипцы унивесальные  «Мультидом» длина, 24см',\n",
       "  'https://www.auchan.ru/product/shchipcy-univ-dlina-24sm',\n",
       "  129.95,\n",
       "  '2022-12-14 00:47:12.519029'),\n",
       " (651799,\n",
       "  'Бутылочка «Пома» с ручками с силиконовой соской со средним потоком с 4 мес., 125 мл',\n",
       "  'https://www.auchan.ru/product/butylochka-poma-s-ruchkami-s-silikonovoy-soskoy-so-srednim-potokom-s-4-mes-125-ml',\n",
       "  159.99,\n",
       "  '2022-12-14 00:47:12.509917')]"
      ]
     },
     "execution_count": 7,
     "metadata": {},
     "output_type": "execute_result"
    }
   ],
   "source": [
    "cursor_mini.execute(\"select id, title, url, price_sale, datetime_create from products_history order by id desc limit 2\")\n",
    "cursor_mini.fetchall()"
   ]
  },
  {
   "cell_type": "code",
   "execution_count": null,
   "id": "e82b20cb",
   "metadata": {},
   "outputs": [],
   "source": []
  },
  {
   "cell_type": "code",
   "execution_count": null,
   "id": "1b9e839c",
   "metadata": {},
   "outputs": [],
   "source": []
  },
  {
   "cell_type": "code",
   "execution_count": null,
   "id": "b8064848",
   "metadata": {},
   "outputs": [],
   "source": []
  },
  {
   "cell_type": "code",
   "execution_count": null,
   "id": "0e77e305",
   "metadata": {},
   "outputs": [],
   "source": []
  },
  {
   "cell_type": "code",
   "execution_count": 11,
   "id": "de8c3751",
   "metadata": {},
   "outputs": [
    {
     "name": "stdout",
     "output_type": "stream",
     "text": [
      "(10553391, '\"КЕШЬЮ\". Шоколад молочный c кусочками соленого кешью. 100г', 139.99, 0, 139.99, 1)\n",
      "(10468595, '\"КЕШЬЮ\". Шоколад молочный c кусочками соленого кешью. 100г', 139.99, 0, 139.99, 1)\n",
      "(10553436, '\"ЦЕЛЬНЫЙ МИНДАЛЬ\". Шоколад темный с цельным миндалем 100гр RITTER SPORT', 139.99, 0, 139.99, 1)\n",
      "(10468640, '\"ЦЕЛЬНЫЙ МИНДАЛЬ\". Шоколад темный с цельным миндалем 100гр RITTER SPORT', 139.99, 0, 139.99, 1)\n",
      "(10542966, '100 заданий для малышей 2+', 509.99, 509.99, 0.0, 1)\n",
      "(10425667, '100 заданий для малышей 2+', 509.99, 0, 509.99, 2)\n",
      "(10542971, '100 заданий для малышей 3+', 509.99, 509.99, 0.0, 1)\n",
      "(10425666, '100 заданий для малышей 3+', 509.99, 0, 509.99, 2)\n",
      "(10540788, '100 заданий для малышей 4+', 423.99, 423.99, 0.0, 1)\n",
      "(10423549, '100 заданий для малышей 4+', 423.99, 0, 423.99, 2)\n",
      "(10538996, '100 многоразовых наклеек для малышей, Ефремова Е.', 371.99, 371.99, 0.0, 1)\n",
      "(10421811, '100 многоразовых наклеек для малышей, Ефремова Е.', 371.99, 0, 371.99, 2)\n",
      "(10543097, '11/22/63, Кинг С.', 519.99, 0, 519.99, 1)\n",
      "(10535132, '11/22/63, Кинг С.', 285.99, 285.99, 0.0, 1)\n",
      "(10418037, '11/22/63, Кинг С.', 285.99, 0, 285.99, 2)\n",
      "(10429123, '12 правил жизни: противоядие от хаоса, Питерсон Джордан', 783.99, 0, 783.99, 1)\n",
      "(10528846, '120 дней Содома, Маркиз де Сад', 198.99, 198.99, 0.0, 1)\n",
      "(10411896, '120 дней Содома, Маркиз де Сад', 198.99, 0, 198.99, 2)\n",
      "(10531811, '1984, Оруэлл Д.', 231.99, 231.99, 0.0, 1)\n",
      "(10414790, '1984, Оруэлл Д.', 231.99, 0, 231.99, 2)\n",
      "(10534037, '1984, Оруэлл Дж.', 263.99, 263.99, 0.0, 1)\n",
      "(10532559, '1984, Оруэлл Дж.', 242.99, 242.99, 0.0, 1)\n",
      "(10526687, '1984, Оруэлл Дж.', 173.99, 173.99, 0.0, 1)\n",
      "(10416961, '1984, Оруэлл Дж.', 263.99, 0, 263.99, 2)\n",
      "(10415525, '1984, Оруэлл Дж.', 242.99, 0, 242.99, 2)\n",
      "(10409796, '1984, Оруэлл Дж.', 173.99, 0, 173.99, 2)\n",
      "(10534520, '1984. Скотный двор, Оруэлл Дж.', 272.99, 272.99, 0.0, 1)\n",
      "(10526330, '1984. Скотный двор, Оруэлл Дж.', 169.99, 169.99, 0.0, 1)\n",
      "(10417429, '1984. Скотный двор, Оруэлл Дж.', 272.99, 0, 272.99, 2)\n",
      "(10409443, '1984. Скотный двор, Оруэлл Дж.', 169.99, 0, 169.99, 2)\n",
      "(10532473, '20 простых опытов с детьми дома. Наука на кухне, Медведева Т., Пошивай В.', 240.99, 0, 240.99, 1)\n",
      "(10537145, '365 заданий круглый год. Методика раннего развития, Жукова М. А.', 323.95, 323.95, 0.0, 1)\n",
      "(10420017, '365 заданий круглый год. Методика раннего развития, Жукова М. А.', 323.95, 0, 323.95, 2)\n",
      "(10544978, '365 стихов для детского сада', 631.99, 631.99, 0.0, 1)\n",
      "(10427571, '365 стихов для детского сада', 631.99, 0, 631.99, 2)\n",
      "(10523249, '555 заданий для дошколят', 145.99, 145.99, 0.0, 1)\n",
      "(10406335, '555 заданий для дошколят', 145.99, 0, 145.99, 2)\n",
      "(10553519, 'ARIEL Авт СМС порошк. Color 1,5кг', 249.99, 0, 249.99, 1)\n",
      "(10468723, 'ARIEL Авт СМС порошк. Color 1,5кг', 249.99, 0, 249.99, 1)\n",
      "(10552830, 'ARIEL СМС АР.МАСЛА ШИ жидк.1,3л', 449.99, 0, 449.99, 1)\n",
      "(10552795, 'ARIEL Сред.COLOR моющ.жид.1,3л', 449.99, 0, 449.99, 1)\n",
      "(10553457, 'ASSAND Чай КЕНИЙСКИЙ черный байховый пак.100х2г', 214.99, 0, 214.99, 1)\n",
      "(10468661, 'ASSAND Чай КЕНИЙСКИЙ черный байховый пак.100х2г', 214.99, 0, 214.99, 1)\n",
      "(10537521, 'Anime Art. Красавицы Поднебесной. Книга для творчества в стиле аниме и манга', 331.99, 0, 331.99, 1)\n",
      "(10543106, \"Assassin's Creed Династия Том 1, Сюй С., Чжан С.\", 519.99, 519.99, 0.0, 1)\n",
      "(10425804, \"Assassin's Creed Династия Том 1, Сюй С., Чжан С.\", 519.99, 0, 519.99, 2)\n",
      "(10543957, \"Assassin's Creed Династия Том 2, Сюй С., Чжан\", 575.99, 0, 575.99, 1)\n",
      "(10494637, 'Axiom BAGGAGE STRAPS', 261, 261, 0, 1)\n",
      "(10486152, 'Axiom BAGGAGE STRAPS', 261, 261, 0, 1)\n",
      "(10480949, 'Axiom BAGGAGE STRAPS', 261, 261, 0, 1)\n",
      "(10474504, 'Axiom BAGGAGE STRAPS', 261, 261, 0, 1)\n",
      "(10459436, 'Axiom BAGGAGE STRAPS', 261, 0, 261, 2)\n",
      "(10450951, 'Axiom BAGGAGE STRAPS', 261, 0, 261, 2)\n",
      "(10445747, 'Axiom BAGGAGE STRAPS', 261, 0, 261, 2)\n",
      "(10439301, 'Axiom BAGGAGE STRAPS', 261, 0, 261, 2)\n",
      "(10495417, 'Axiom ELASTIC CARGO NET', 485, 485, 0, 1)\n",
      "(10460216, 'Axiom ELASTIC CARGO NET', 485, 0, 485, 2)\n",
      "(10537623, 'BB-Крем Novosvit Гиалуроновый SPF 18, 30 мл', 335.99, 373.99, -38.0, 1)\n",
      "(10421869, 'BB-Крем Novosvit Гиалуроновый SPF 18, 30 мл', 373.99, 0, 373.99, 2)\n",
      "(10529463, 'BB-крем Fennel тон натуральный, 30 мл', 199.99, 199.99, 0.0, 1)\n",
      "(10412516, 'BB-крем Fennel тон натуральный, 30 мл', 199.99, 0, 199.99, 2)\n",
      "(10544717, 'BTS. Все, что вы хотели знать, Маккензи М.', 606.99, 606.99, 0.0, 1)\n",
      "(10427345, 'BTS. Все, что вы хотели знать, Маккензи М.', 606.99, 0, 606.99, 2)\n",
      "(10553325, 'BUSHIDO Red Katana Кофе молотый 227г.', 399.99, 0, 399.99, 1)\n",
      "(10468529, 'BUSHIDO Red Katana Кофе молотый 227г.', 399.99, 0, 399.99, 1)\n",
      "(10553326, 'BUSHIDO Sensei Кофе в зернах 227г.', 399.99, 0, 399.99, 1)\n",
      "(10468530, 'BUSHIDO Sensei Кофе в зернах 227г.', 399.99, 0, 399.99, 1)\n",
      "(10481018, 'Bakoda U.R.A. Tool', 293, 293, 0, 1)\n",
      "(10445816, 'Bakoda U.R.A. Tool', 293, 0, 293, 2)\n",
      "(10480920, 'Bakoda Мультиключ Holy Moy', 234, 234, 0, 1)\n",
      "(10445718, 'Bakoda Мультиключ Holy Moy', 234, 0, 234, 2)\n",
      "(10481019, 'Bakoda Отвертка Mciver Driver', 293, 293, 0, 1)\n",
      "(10474564, 'Bakoda Отвертка Mciver Driver', 293, 293, 0, 1)\n",
      "(10445817, 'Bakoda Отвертка Mciver Driver', 293, 0, 293, 2)\n",
      "(10439361, 'Bakoda Отвертка Mciver Driver', 293, 0, 293, 2)\n",
      "(10480945, 'Bakoda Отвертка URA Tool', 254, 254, 0, 1)\n",
      "(10474500, 'Bakoda Отвертка URA Tool', 254, 254, 0, 1)\n",
      "(10445743, 'Bakoda Отвертка URA Tool', 254, 0, 254, 2)\n",
      "(10439297, 'Bakoda Отвертка URA Tool', 254, 0, 254, 2)\n",
      "(10480943, 'Bakoda Отвёртка Pocket Tool', 254, 254, 0, 1)\n",
      "(10445741, 'Bakoda Отвёртка Pocket Tool', 254, 0, 254, 2)\n",
      "(10480880, 'Bakoda Отвёртка Survivor Driver', 196, 196, 0, 1)\n",
      "(10445678, 'Bakoda Отвёртка Survivor Driver', 196, 0, 196, 2)\n",
      "(10481743, 'Bataleon AIRBACK HB MOUNTING T-NUT (ATOM)', 838, 838, 0, 1)\n",
      "(10446541, 'Bataleon AIRBACK HB MOUNTING T-NUT (ATOM)', 838, 0, 838, 2)\n",
      "(10484076, 'Bataleon AIRBACK HIGHBACK', 6380, 6380, 0, 1)\n",
      "(10448875, 'Bataleon AIRBACK HIGHBACK', 6380, 0, 6380, 2)\n",
      "(10483979, 'Bataleon FULLBACK NYLON HIGHBACK M/XL', 5973, 5973, 0, 1)\n",
      "(10448778, 'Bataleon FULLBACK NYLON HIGHBACK M/XL', 5973, 0, 5973, 2)\n",
      "(10483981, 'Bataleon PERFORATED NYLON FULLBACK HIGHBACK M/XL', 5973, 5973, 0, 1)\n",
      "(10448780, 'Bataleon PERFORATED NYLON FULLBACK HIGHBACK M/XL', 5973, 0, 5973, 2)\n",
      "(10483503, 'Bataleon QUARTERBACK HIGHBACK M/XL', 4207, 4207, 0, 1)\n",
      "(10448301, 'Bataleon QUARTERBACK HIGHBACK M/XL', 4207, 0, 4207, 2)\n",
      "(10483504, 'Bataleon QUARTERBACK HIGHBACK S', 4207, 4207, 0, 1)\n",
      "(10448302, 'Bataleon QUARTERBACK HIGHBACK S', 4207, 0, 4207, 2)\n",
      "(10483458, 'Bataleon UNDERWRAP 2DEG. FOOTBED EVA + RUBBER L/XL', 4069, 4069, 0, 1)\n",
      "(10448256, 'Bataleon UNDERWRAP 2DEG. FOOTBED EVA + RUBBER L/XL', 4069, 0, 4069, 2)\n",
      "(10483459, 'Bataleon UNDERWRAP 2DEG. FOOTBED EVA + RUBBER M/L', 4069, 4069, 0, 1)\n",
      "(10448257, 'Bataleon UNDERWRAP 2DEG. FOOTBED EVA + RUBBER M/L', 4069, 0, 4069, 2)\n",
      "(10483591, 'Bataleon UNDERWRAP 2DEG.FOOTBED DURACUSH L/XL', 4501, 4501, 0, 1)\n",
      "count all diff = 100\n"
     ]
    }
   ],
   "source": [
    "# Находим позиции, цена по кототорым изменилась по сравнению с ценой за передыдущий день.\n",
    "days_before = 1\n",
    "d = datetime.today() - timedelta(days=days_before)\n",
    "\n",
    "connection = sqlite3.connect('/home/jupyter-amtsu/project/price_alert/db.sqlite3')\n",
    "cursor = connection.cursor()\n",
    "q = f\"\"\"\n",
    "        SELECT \n",
    "            id, \n",
    "            title,\n",
    "            price_sale,  \n",
    "            LEAD(price_sale,1,0) OVER (PARTITION BY title, url ORDER BY  title, id desc ) AS prev_price_sale,  \n",
    "            price_sale - LEAD(price_sale,1,0) OVER (PARTITION BY title, url  ORDER BY title, id desc ) AS diff,\n",
    "            ROW_NUMBER() OVER(PARTITION BY title, url ORDER BY id desc) AS row_number\n",
    "        FROM products_history\n",
    "        where datetime_create >= \"{d.date()}\"\n",
    "            and price_sale>100\n",
    "        ORDER BY title, id  desc\n",
    "        LIMIT 100\n",
    "\"\"\"\n",
    "cursor.execute(q)\n",
    "count = 0\n",
    "for i in cursor.fetchall():\n",
    "    \n",
    "    print(i)\n",
    "    count += 1\n",
    "print('count all diff =', count)"
   ]
  },
  {
   "cell_type": "code",
   "execution_count": 16,
   "id": "bac2a6e4",
   "metadata": {},
   "outputs": [
    {
     "name": "stdout",
     "output_type": "stream",
     "text": [
      "(10553391, '\"КЕШЬЮ\". Шоколад молочный c кусочками соленого кешью. 100г', 'https://5ka.ru/api/v2/special_offers/42402/', 139.99, '2023-04-19 01:16:22.919059', 0, 139.99, 1)\n",
      "(10468595, '\"КЕШЬЮ\". Шоколад молочный c кусочками соленого кешью. 100г', 'https://5ka.ru/api/v2/special_offers/42201/', 139.99, '2023-04-18 01:14:53.744283', 0, 139.99, 1)\n",
      "(10553436, '\"ЦЕЛЬНЫЙ МИНДАЛЬ\". Шоколад темный с цельным миндалем 100гр RITTER SPORT', 'https://5ka.ru/api/v2/special_offers/42470/', 139.99, '2023-04-19 01:16:23.962502', 0, 139.99, 1)\n",
      "(10468640, '\"ЦЕЛЬНЫЙ МИНДАЛЬ\". Шоколад темный с цельным миндалем 100гр RITTER SPORT', 'https://5ka.ru/api/v2/special_offers/42269/', 139.99, '2023-04-18 01:14:54.821485', 0, 139.99, 1)\n",
      "(10542966, '100 заданий для малышей 2+', 'https://www.auchan.ru/product/kn-100-zadaniy-dlya-malyshey-2', 509.99, '2023-04-19 01:11:43.837586', 509.99, 0.0, 1)\n",
      "(10425667, '100 заданий для малышей 2+', 'https://www.auchan.ru/product/kn-100-zadaniy-dlya-malyshey-2', 509.99, '2023-04-18 00:25:26.983456', 0, 509.99, 2)\n",
      "(10542971, '100 заданий для малышей 3+', 'https://www.auchan.ru/product/kn-100-zadaniy-dlya-malyshey-3', 509.99, '2023-04-19 01:11:43.923800', 509.99, 0.0, 1)\n",
      "(10425666, '100 заданий для малышей 3+', 'https://www.auchan.ru/product/kn-100-zadaniy-dlya-malyshey-3', 509.99, '2023-04-18 00:25:26.930968', 0, 509.99, 2)\n",
      "(10540788, '100 заданий для малышей 4+', 'https://www.auchan.ru/product/kn-100-zadaniy-dlya-malyshey-4', 423.99, '2023-04-19 01:10:50.440930', 423.99, 0.0, 1)\n",
      "(10423549, '100 заданий для малышей 4+', 'https://www.auchan.ru/product/kn-100-zadaniy-dlya-malyshey-4', 423.99, '2023-04-18 00:24:33.864026', 0, 423.99, 2)\n",
      "(10538996, '100 многоразовых наклеек для малышей, Ефремова Е.', 'https://www.auchan.ru/product/kn-100-mnogor-nakl-d-mal-v-ass', 371.99, '2023-04-19 01:10:07.323352', 371.99, 0.0, 1)\n",
      "(10421811, '100 многоразовых наклеек для малышей, Ефремова Е.', 'https://www.auchan.ru/product/kn-100-mnogor-nakl-d-mal-v-ass', 371.99, '2023-04-18 00:23:49.963594', 0, 371.99, 2)\n",
      "(10543097, '11/22/63, Кинг С.', 'https://www.auchan.ru/product/11-22-63-king-s', 519.99, '2023-04-19 01:11:46.915139', 0, 519.99, 1)\n",
      "(10535132, '11/22/63, Кинг С.', 'https://www.auchan.ru/product/kn-m-king-11-22-63', 285.99, '2023-04-19 01:08:30.976612', 285.99, 0.0, 1)\n",
      "(10418037, '11/22/63, Кинг С.', 'https://www.auchan.ru/product/kn-m-king-11-22-63', 285.99, '2023-04-18 00:22:15.315612', 0, 285.99, 2)\n",
      "(10429123, '12 правил жизни: противоядие от хаоса, Питерсон Джордан', 'https://www.auchan.ru/product/kn-12-pravil-zhizni', 783.99, '2023-04-18 00:26:53.806949', 0, 783.99, 1)\n",
      "(10528846, '120 дней Содома, Маркиз де Сад', 'https://www.auchan.ru/product/kn-eks-de-sad-120-dney-sodoma', 198.99, '2023-04-19 01:05:53.057578', 198.99, 0.0, 1)\n",
      "(10411896, '120 дней Содома, Маркиз де Сад', 'https://www.auchan.ru/product/kn-eks-de-sad-120-dney-sodoma', 198.99, '2023-04-18 00:19:39.685253', 0, 198.99, 2)\n",
      "(10531811, '1984, Оруэлл Д.', 'https://www.auchan.ru/product/kn-eksk-klas-d-oruell-1984', 231.99, '2023-04-19 01:07:08.627810', 231.99, 0.0, 1)\n",
      "(10414790, '1984, Оруэлл Д.', 'https://www.auchan.ru/product/kn-eksk-klas-d-oruell-1984', 231.99, '2023-04-18 00:20:52.309920', 0, 231.99, 2)\n",
      "(10534037, '1984, Оруэлл Дж.', 'https://www.auchan.ru/product/kn-kk-oruell-1984', 263.99, '2023-04-19 01:08:04.253802', 263.99, 0.0, 1)\n",
      "(10532559, '1984, Оруэлл Дж.', 'https://www.auchan.ru/product/kn-pocket-1984', 242.99, '2023-04-19 01:07:27.705023', 242.99, 0.0, 1)\n",
      "(10526687, '1984, Оруэлл Дж.', 'https://www.auchan.ru/product/kniga-oruell-1984', 173.99, '2023-04-19 01:04:58.900038', 173.99, 0.0, 1)\n",
      "(10416961, '1984, Оруэлл Дж.', 'https://www.auchan.ru/product/kn-kk-oruell-1984', 263.99, '2023-04-18 00:21:47.684002', 0, 263.99, 2)\n",
      "(10415525, '1984, Оруэлл Дж.', 'https://www.auchan.ru/product/kn-pocket-1984', 242.99, '2023-04-18 00:21:10.598337', 0, 242.99, 2)\n",
      "(10409796, '1984, Оруэлл Дж.', 'https://www.auchan.ru/product/kniga-oruell-1984', 173.99, '2023-04-18 00:18:47.784209', 0, 173.99, 2)\n",
      "(10534520, '1984. Скотный двор, Оруэлл Дж.', 'https://www.auchan.ru/product/kn-oruell-1984-skotnyy-dvor', 272.99, '2023-04-19 01:08:16.477199', 272.99, 0.0, 1)\n",
      "(10526330, '1984. Скотный двор, Оруэлл Дж.', 'https://www.auchan.ru/product/kn-kis-oruell-1984-skotn-dvor', 169.99, '2023-04-19 01:04:50.127770', 169.99, 0.0, 1)\n",
      "(10417429, '1984. Скотный двор, Оруэлл Дж.', 'https://www.auchan.ru/product/kn-oruell-1984-skotnyy-dvor', 272.99, '2023-04-18 00:21:59.204595', 0, 272.99, 2)\n",
      "(10409443, '1984. Скотный двор, Оруэлл Дж.', 'https://www.auchan.ru/product/kn-kis-oruell-1984-skotn-dvor', 169.99, '2023-04-18 00:18:38.744109', 0, 169.99, 2)\n",
      "(10532473, '20 простых опытов с детьми дома. Наука на кухне, Медведева Т., Пошивай В.', 'https://www.auchan.ru/product/kn-20-prost-opytov-s-detmi', 240.99, '2023-04-19 01:07:25.570998', 0, 240.99, 1)\n",
      "(10537145, '365 заданий круглый год. Методика раннего развития, Жукова М. А.', 'https://www.auchan.ru/product/umka-365-zadaniy-zhukova', 323.95, '2023-04-19 01:09:22.360322', 323.95, 0.0, 1)\n",
      "(10420017, '365 заданий круглый год. Методика раннего развития, Жукова М. А.', 'https://www.auchan.ru/product/umka-365-zadaniy-zhukova', 323.95, '2023-04-18 00:23:04.556804', 0, 323.95, 2)\n",
      "(10544978, '365 стихов для детского сада', 'https://www.auchan.ru/product/365-stihov-dlya-detskogo-sada', 631.99, '2023-04-19 01:12:33.487028', 631.99, 0.0, 1)\n",
      "(10427571, '365 стихов для детского сада', 'https://www.auchan.ru/product/365-stihov-dlya-detskogo-sada', 631.99, '2023-04-18 00:26:14.000463', 0, 631.99, 2)\n",
      "(10523249, '555 заданий для дошколят', 'https://www.auchan.ru/product/kn-555-zadaniy-d-doshkolyat-v-as', 145.99, '2023-04-19 01:03:33.941766', 145.99, 0.0, 1)\n",
      "(10406335, '555 заданий для дошколят', 'https://www.auchan.ru/product/kn-555-zadaniy-d-doshkolyat-v-as', 145.99, '2023-04-18 00:17:23.716733', 0, 145.99, 2)\n",
      "(10553519, 'ARIEL Авт СМС порошк. Color 1,5кг', 'https://5ka.ru/api/v2/special_offers/42635/', 249.99, '2023-04-19 01:16:25.927551', 0, 249.99, 1)\n",
      "(10468723, 'ARIEL Авт СМС порошк. Color 1,5кг', 'https://5ka.ru/api/v2/special_offers/42434/', 249.99, '2023-04-18 01:14:56.790719', 0, 249.99, 1)\n",
      "(10552830, 'ARIEL СМС АР.МАСЛА ШИ жидк.1,3л', 'https://5ka.ru/api/v2/special_offers/21528/', 449.99, '2023-04-19 01:16:09.556079', 0, 449.99, 1)\n",
      "(10552795, 'ARIEL Сред.COLOR моющ.жид.1,3л', 'https://5ka.ru/api/v2/special_offers/21489/', 449.99, '2023-04-19 01:16:08.710043', 0, 449.99, 1)\n",
      "(10553457, 'ASSAND Чай КЕНИЙСКИЙ черный байховый пак.100х2г', 'https://5ka.ru/api/v2/special_offers/42518/', 214.99, '2023-04-19 01:16:24.468246', 0, 214.99, 1)\n",
      "(10468661, 'ASSAND Чай КЕНИЙСКИЙ черный байховый пак.100х2г', 'https://5ka.ru/api/v2/special_offers/42317/', 214.99, '2023-04-18 01:14:55.325059', 0, 214.99, 1)\n",
      "(10537521, 'Anime Art. Красавицы Поднебесной. Книга для творчества в стиле аниме и манга', 'https://www.auchan.ru/product/kn-anime-art-krasav-podnebesn', 331.99, '2023-04-19 01:09:31.675410', 0, 331.99, 1)\n",
      "(10543106, \"Assassin's Creed Династия Том 1, Сюй С., Чжан С.\", 'https://www.auchan.ru/product/kn-assassin-creed-dinastiya-t-1', 519.99, '2023-04-19 01:11:47.139162', 519.99, 0.0, 1)\n",
      "(10425804, \"Assassin's Creed Династия Том 1, Сюй С., Чжан С.\", 'https://www.auchan.ru/product/kn-assassin-creed-dinastiya-t-1', 519.99, '2023-04-18 00:25:30.168617', 0, 519.99, 2)\n",
      "(10543957, \"Assassin's Creed Династия Том 2, Сюй С., Чжан\", 'https://www.auchan.ru/product/kn-assassins-creed-dinastiya-t2', 575.99, '2023-04-19 01:12:07.994388', 0, 575.99, 1)\n",
      "(10494637, 'Axiom BAGGAGE STRAPS', 'https://trial-sport.ru/goods/51516/2145960.html', 261, '2023-04-19 00:48:23.928107', 261, 0, 1)\n",
      "(10486152, 'Axiom BAGGAGE STRAPS', 'https://trial-sport.ru/goods/51528/2145960.html', 261, '2023-04-19 00:44:52.428740', 261, 0, 1)\n",
      "(10480949, 'Axiom BAGGAGE STRAPS', 'https://trial-sport.ru/goods/51526/2145960.html', 261, '2023-04-19 00:42:45.518474', 261, 0, 1)\n",
      "(10474504, 'Axiom BAGGAGE STRAPS', 'https://trial-sport.ru/goods/51527/2145960.html', 261, '2023-04-19 00:40:04.681684', 261, 0, 1)\n",
      "(10459436, 'Axiom BAGGAGE STRAPS', 'https://trial-sport.ru/goods/51516/2145960.html', 261, '2023-04-18 01:11:00.063185', 0, 261, 2)\n",
      "(10450951, 'Axiom BAGGAGE STRAPS', 'https://trial-sport.ru/goods/51528/2145960.html', 261, '2023-04-18 01:07:31.211205', 0, 261, 2)\n",
      "(10445747, 'Axiom BAGGAGE STRAPS', 'https://trial-sport.ru/goods/51526/2145960.html', 261, '2023-04-18 01:05:21.140331', 0, 261, 2)\n",
      "(10439301, 'Axiom BAGGAGE STRAPS', 'https://trial-sport.ru/goods/51527/2145960.html', 261, '2023-04-18 01:02:39.953331', 0, 261, 2)\n",
      "(10495417, 'Axiom ELASTIC CARGO NET', 'https://trial-sport.ru/goods/51516/2145929.html', 485, '2023-04-19 00:48:43.326508', 485, 0, 1)\n",
      "(10460216, 'Axiom ELASTIC CARGO NET', 'https://trial-sport.ru/goods/51516/2145929.html', 485, '2023-04-18 01:11:19.066200', 0, 485, 2)\n",
      "(10537623, 'BB-Крем Novosvit Гиалуроновый SPF 18, 30 мл', 'https://www.auchan.ru/product/gialur-vv-krem-spf18-30ml-ns', 335.99, '2023-04-19 01:09:34.147694', 373.99, -38.0, 1)\n",
      "(10421869, 'BB-Крем Novosvit Гиалуроновый SPF 18, 30 мл', 'https://www.auchan.ru/product/gialur-vv-krem-spf18-30ml-ns', 373.99, '2023-04-18 00:23:51.464475', 0, 373.99, 2)\n",
      "(10529463, 'BB-крем Fennel тон натуральный, 30 мл', 'https://www.auchan.ru/product/bb-krem-fennel-ton-naturalnyy-30-ml', 199.99, '2023-04-19 01:06:08.765844', 199.99, 0.0, 1)\n",
      "(10412516, 'BB-крем Fennel тон натуральный, 30 мл', 'https://www.auchan.ru/product/bb-krem-fennel-ton-naturalnyy-30-ml', 199.99, '2023-04-18 00:19:55.003833', 0, 199.99, 2)\n",
      "(10544717, 'BTS. Все, что вы хотели знать, Маккензи М.', 'https://www.auchan.ru/product/kn-bts-vse-chto-hoteli-znat', 606.99, '2023-04-19 01:12:27.131626', 606.99, 0.0, 1)\n",
      "(10427345, 'BTS. Все, что вы хотели знать, Маккензи М.', 'https://www.auchan.ru/product/kn-bts-vse-chto-hoteli-znat', 606.99, '2023-04-18 00:26:08.141850', 0, 606.99, 2)\n",
      "(10553325, 'BUSHIDO Red Katana Кофе молотый 227г.', 'https://5ka.ru/api/v2/special_offers/42309/', 399.99, '2023-04-19 01:16:21.353875', 0, 399.99, 1)\n",
      "(10468529, 'BUSHIDO Red Katana Кофе молотый 227г.', 'https://5ka.ru/api/v2/special_offers/42108/', 399.99, '2023-04-18 01:14:52.177850', 0, 399.99, 1)\n",
      "(10553326, 'BUSHIDO Sensei Кофе в зернах 227г.', 'https://5ka.ru/api/v2/special_offers/42310/', 399.99, '2023-04-19 01:16:21.361900', 0, 399.99, 1)\n",
      "(10468530, 'BUSHIDO Sensei Кофе в зернах 227г.', 'https://5ka.ru/api/v2/special_offers/42109/', 399.99, '2023-04-18 01:14:52.185789', 0, 399.99, 1)\n",
      "(10481018, 'Bakoda U.R.A. Tool', 'https://trial-sport.ru/goods/51526/255318.html', 293, '2023-04-19 00:42:47.344063', 293, 0, 1)\n",
      "(10445816, 'Bakoda U.R.A. Tool', 'https://trial-sport.ru/goods/51526/255318.html', 293, '2023-04-18 01:05:22.827228', 0, 293, 2)\n",
      "(10480920, 'Bakoda Мультиключ Holy Moy', 'https://trial-sport.ru/goods/51526/1009469.html', 234, '2023-04-19 00:42:44.750940', 234, 0, 1)\n",
      "(10445718, 'Bakoda Мультиключ Holy Moy', 'https://trial-sport.ru/goods/51526/1009469.html', 234, '2023-04-18 01:05:20.408614', 0, 234, 2)\n",
      "(10481019, 'Bakoda Отвертка Mciver Driver', 'https://trial-sport.ru/goods/51526/1012427.html', 293, '2023-04-19 00:42:47.355603', 293, 0, 1)\n",
      "(10474564, 'Bakoda Отвертка Mciver Driver', 'https://trial-sport.ru/goods/51527/1012427.html', 293, '2023-04-19 00:40:06.180290', 293, 0, 1)\n",
      "(10445817, 'Bakoda Отвертка Mciver Driver', 'https://trial-sport.ru/goods/51526/1012427.html', 293, '2023-04-18 01:05:22.836761', 0, 293, 2)\n",
      "(10439361, 'Bakoda Отвертка Mciver Driver', 'https://trial-sport.ru/goods/51527/1012427.html', 293, '2023-04-18 01:02:41.444959', 0, 293, 2)\n",
      "(10480945, 'Bakoda Отвертка URA Tool', 'https://trial-sport.ru/goods/51526/1012423.html', 254, '2023-04-19 00:42:45.387852', 254, 0, 1)\n",
      "(10474500, 'Bakoda Отвертка URA Tool', 'https://trial-sport.ru/goods/51527/1012423.html', 254, '2023-04-19 00:40:04.599787', 254, 0, 1)\n",
      "(10445743, 'Bakoda Отвертка URA Tool', 'https://trial-sport.ru/goods/51526/1012423.html', 254, '2023-04-18 01:05:21.015794', 0, 254, 2)\n",
      "(10439297, 'Bakoda Отвертка URA Tool', 'https://trial-sport.ru/goods/51527/1012423.html', 254, '2023-04-18 01:02:39.872240', 0, 254, 2)\n",
      "(10480943, 'Bakoda Отвёртка Pocket Tool', 'https://trial-sport.ru/goods/51526/1114325.html', 254, '2023-04-19 00:42:45.360445', 254, 0, 1)\n",
      "(10445741, 'Bakoda Отвёртка Pocket Tool', 'https://trial-sport.ru/goods/51526/1114325.html', 254, '2023-04-18 01:05:20.998725', 0, 254, 2)\n",
      "(10480880, 'Bakoda Отвёртка Survivor Driver', 'https://trial-sport.ru/goods/51526/1114321.html', 196, '2023-04-19 00:42:43.780796', 196, 0, 1)\n",
      "(10445678, 'Bakoda Отвёртка Survivor Driver', 'https://trial-sport.ru/goods/51526/1114321.html', 196, '2023-04-18 01:05:19.399251', 0, 196, 2)\n",
      "(10481743, 'Bataleon AIRBACK HB MOUNTING T-NUT (ATOM)', 'https://trial-sport.ru/goods/51526/2665509.html', 838, '2023-04-19 00:43:05.334642', 838, 0, 1)\n",
      "(10446541, 'Bataleon AIRBACK HB MOUNTING T-NUT (ATOM)', 'https://trial-sport.ru/goods/51526/2665509.html', 838, '2023-04-18 01:05:40.655623', 0, 838, 2)\n",
      "(10484076, 'Bataleon AIRBACK HIGHBACK', 'https://trial-sport.ru/goods/51526/2665489.html', 6380, '2023-04-19 00:44:02.641746', 6380, 0, 1)\n",
      "(10448875, 'Bataleon AIRBACK HIGHBACK', 'https://trial-sport.ru/goods/51526/2665489.html', 6380, '2023-04-18 01:06:38.491134', 0, 6380, 2)\n",
      "(10483979, 'Bataleon FULLBACK NYLON HIGHBACK M/XL', 'https://trial-sport.ru/goods/51526/2665495.html', 5973, '2023-04-19 00:44:00.200379', 5973, 0, 1)\n",
      "(10448778, 'Bataleon FULLBACK NYLON HIGHBACK M/XL', 'https://trial-sport.ru/goods/51526/2665495.html', 5973, '2023-04-18 01:06:36.066801', 0, 5973, 2)\n",
      "(10483981, 'Bataleon PERFORATED NYLON FULLBACK HIGHBACK M/XL', 'https://trial-sport.ru/goods/51526/2665491.html', 5973, '2023-04-19 00:44:00.221367', 5973, 0, 1)\n",
      "(10448780, 'Bataleon PERFORATED NYLON FULLBACK HIGHBACK M/XL', 'https://trial-sport.ru/goods/51526/2665491.html', 5973, '2023-04-18 01:06:36.132995', 0, 5973, 2)\n",
      "(10483503, 'Bataleon QUARTERBACK HIGHBACK M/XL', 'https://trial-sport.ru/goods/51526/2665499.html', 4207, '2023-04-19 00:43:48.059067', 4207, 0, 1)\n",
      "(10448301, 'Bataleon QUARTERBACK HIGHBACK M/XL', 'https://trial-sport.ru/goods/51526/2665499.html', 4207, '2023-04-18 01:06:23.945749', 0, 4207, 2)\n",
      "(10483504, 'Bataleon QUARTERBACK HIGHBACK S', 'https://trial-sport.ru/goods/51526/2665501.html', 4207, '2023-04-19 00:43:48.067606', 4207, 0, 1)\n",
      "(10448302, 'Bataleon QUARTERBACK HIGHBACK S', 'https://trial-sport.ru/goods/51526/2665501.html', 4207, '2023-04-18 01:06:23.958571', 0, 4207, 2)\n",
      "(10483458, 'Bataleon UNDERWRAP 2DEG. FOOTBED EVA + RUBBER L/XL', 'https://trial-sport.ru/goods/51526/2665481.html', 4069, '2023-04-19 00:43:47.000156', 4069, 0, 1)\n",
      "(10448256, 'Bataleon UNDERWRAP 2DEG. FOOTBED EVA + RUBBER L/XL', 'https://trial-sport.ru/goods/51526/2665481.html', 4069, '2023-04-18 01:06:22.812517', 0, 4069, 2)\n",
      "(10483459, 'Bataleon UNDERWRAP 2DEG. FOOTBED EVA + RUBBER M/L', 'https://trial-sport.ru/goods/51526/2665483.html', 4069, '2023-04-19 00:43:47.008779', 4069, 0, 1)\n",
      "(10448257, 'Bataleon UNDERWRAP 2DEG. FOOTBED EVA + RUBBER M/L', 'https://trial-sport.ru/goods/51526/2665483.html', 4069, '2023-04-18 01:06:22.822773', 0, 4069, 2)\n",
      "(10483591, 'Bataleon UNDERWRAP 2DEG.FOOTBED DURACUSH L/XL', 'https://trial-sport.ru/goods/51526/2665485.html', 4501, '2023-04-19 00:43:50.214121', 4501, 0, 1)\n",
      "count all diff = 100\n"
     ]
    }
   ],
   "source": [
    "# Находим позиции, цена по кототорым изменилась по сравнению с ценой за передыдущий день.\n",
    "days_before = 1\n",
    "d = datetime.today() - timedelta(days=days_before)\n",
    "\n",
    "connection = sqlite3.connect('/home/jupyter-amtsu/project/price_alert/db.sqlite3')\n",
    "cursor = connection.cursor()\n",
    "q = f\"\"\"\n",
    "        SELECT \n",
    "            id, \n",
    "            title,\n",
    "            url,\n",
    "            price_sale,\n",
    "            datetime_create,\n",
    "            LEAD(price_sale,1,0) OVER (PARTITION BY title, url ORDER BY  title, id desc ) AS prev_price_sale,  \n",
    "            price_sale - LEAD(price_sale,1,0) OVER (PARTITION BY title, url  ORDER BY title, id desc ) AS diff,\n",
    "            ROW_NUMBER() OVER(PARTITION BY title, url ORDER BY title, id desc) AS row_number\n",
    "        FROM products_history\n",
    "        where datetime_create >= \"{d.date()}\"\n",
    "            and price_sale>100\n",
    "        ORDER BY title, id  desc\n",
    "        LIMIT 100\n",
    "\"\"\"\n",
    "cursor.execute(q)\n",
    "count = 0\n",
    "for i in cursor.fetchall():\n",
    "    print(i)\n",
    "    count += 1\n",
    "print('count all diff =', count)"
   ]
  },
  {
   "cell_type": "code",
   "execution_count": 9,
   "id": "2e29258d",
   "metadata": {},
   "outputs": [
    {
     "name": "stdout",
     "output_type": "stream",
     "text": [
      "(10521145, 'Колбаса растительная «Окраина» Оливье, 300 г', 129, 307.99, -178.99, -139.0, 1)\n",
      "(10546930, 'Конфеты «Бабаевский» Москва вечерняя, вес', 822, 1779.99, -957.99, -117.0, 1)\n",
      "(10528853, 'Грудинка варено-копченая «Черный кабан» в карамельной корочке, 350 г', 199, 417.99, -218.99, -110.0, 1)\n",
      "(10528861, 'Сардельки свиные «Ближние Горки» ГОСТ, 580 г', 199, 397.99, -198.99, -100.0, 1)\n",
      "(10523592, 'Кулич АШАН Майский премиум, 500 г', 149.9, 299.9, -149.99999999999997, -100.0, 1)\n",
      "(10544280, 'Баринок «Рублевский» Боровицкий (0,2-0,5 кг), 1 упаковка ~ 0,3 кг', 599, 1171.99, -572.99, -96.0, 1)\n",
      "(10528881, 'Ветчина «Вязанка» Запекуша c cочным окороком, 420 г', 199, 383.99, -184.99, -93.0, 1)\n",
      "(10525131, 'Колготки Innamore Microtulle miele 4', 159.95, 299.99, -140.04000000000002, -88.0, 1)\n",
      "(10525109, 'Колготки Innamore Microtulle miele 2', 159.95, 299.99, -140.04000000000002, -88.0, 1)\n",
      "(10528862, 'Ветчина «Черкизово» Нежная из индейки, 450 г', 199, 372.99, -173.99, -87.0, 1)\n",
      "(10547441, 'Конфеты Reber Mozart Kugeln марципановые в шоколаде, 240 г', 899.95, 1626.99, -727.04, -81.0, 1)\n",
      "(10521144, 'Сосиски «Царицыно» Итальянские с моцареллой, 275 г', 129, 230.99, -101.99000000000001, -79.0, 1)\n",
      "(10535792, 'Сыр Galbani Буррата 50% БЗМЖ, 200 г', 299, 517.99, -218.99, -73.0, 1)\n",
      "(10529177, 'Молоко сгущенное «Кореновское» с сахаром 0,2% БЗМЖ, 1,25 кг', 199.95, 344.99, -145.04000000000002, -73.0, 1)\n",
      "(10537995, 'Конфеты «Красный октябрь» Восточный грильяж, вес', 347, 584.99, -237.99, -69.0, 1)\n",
      "(10542463, 'Глазной мускул говяжий «Мясо Есть» охлажденный, (1,2-1,7 кг), 1 упаковка ~ 1,5 кг', 499, 829.99, -330.99, -66.0, 1)\n",
      "(10542449, 'Колбаса варено-копченая «Окраина» Сервелат Ореховый (0,2-0,5 кг), 1 упаковка ~ 0,3 кг', 499, 807.99, -308.99, -62.0, 1)\n",
      "(10543387, 'Настойка «Царская» кедровая на травах горькая Россия, 0,5 л', 539.99, 858.99, -319.0, -59.0, 1)\n",
      "(10551024, 'Виски Jack Daniel’s Tennessee Apple США, 0,7 л', 2070.99, 3251.99, -1181.0, -57.0, 1)\n",
      "(10528879, 'Сосиски «Ближние Горки» с сыром, 450 г', 199, 309.99, -110.99000000000001, -56.0, 1)\n",
      "(10534303, 'Филе куриное «Моссельпром» без кожи охлажденное (1,1 - 1,4 кг), 1 упаковка ~ 1,2 кг', 269, 405.99, -136.99, -51.0, 1)\n",
      "(10546042, 'Шарики рисовые «ЕМ» в белой и розовой глазури, вес', 715, 1072.99, -357.99, -50.0, 1)\n",
      "(10531211, 'Напиток растительный Take a Bite Barista Миндальный 1,5%, 1 л', 223.99, 334.99, -111.0, -50.0, 1)\n",
      "(10549469, 'Кофе растворимый Nescafe GOLD, 500 г', 1337.49, 1962.49, -625.0, -47.0, 1)\n",
      "(10541975, 'Арахис GOOD FOOD жареный, вес', 476, 689.99, -213.99, -45.0, 1)\n",
      "(10531461, 'Крыло цыпленка-бройлера «Петелинка» охлажденное (0,8 - 1,1 кг), 1 упаковка ~ 0,9 кг', 229, 331.99, -102.99000000000001, -45.0, 1)\n",
      "(10540408, 'Мороженое Monterra Кокос-шоколад БЗМЖ, 263 г', 407.99, 582.99, -175.0, -43.0, 1)\n",
      "(10540401, 'Мороженое Monterra Печенье с карамелью БЗМЖ, 298 г', 407.99, 582.99, -175.0, -43.0, 1)\n",
      "(10535780, 'Ветчина «Ближние Горки» из окорока, 500 г', 299, 421.99, -122.99000000000001, -41.0, 1)\n",
      "(10532846, 'Филе цыплят-бройлеров «Латифа» Нежное, вес', 249, 351.99, -102.99000000000001, -41.0, 1)\n",
      "(10542590, 'Эмаль Panzer Универсальная молотковая серебристая, 800 мл', 499.95, 699.99, -200.04000000000002, -40.0, 1)\n",
      "(10548273, 'Абрикос сушеный без косточки, вес', 1000, 1387.99, -387.99, -39.0, 1)\n",
      "(10544769, 'Конфеты Bonjour Konti с кремовой начинкой, вес', 613, 852.99, -239.99, -39.0, 1)\n",
      "(10543905, 'Конфеты Konti Belissimo со вкусом кокоса, вес', 570, 792.99, -222.99, -39.0, 1)\n",
      "(10543080, 'Грудинка телячья на кости «МЯСО ЕСТЬ!», вес', 519, 712.99, -193.99, -37.0, 1)\n",
      "(10546664, 'Шея телячья «Мясо Есть» без кости охлажденная, (1-1,5 кг), 1 упаковка ~ 1,3 кг', 799, 1082.99, -283.99, -36.0, 1)\n",
      "(10540626, 'Конфеты суфле «АККОНД» Птица Зимолюбка, вес', 417, 565.99, -148.99, -36.0, 1)\n",
      "(10544709, 'Десерт «АККОНД» Птица дивная, вес', 606, 817.99, -211.99, -35.0, 1)\n",
      "(10543658, 'Десерт «АККОНД» Муссвиль с маршмеллоу, вес', 556, 750.99, -194.99, -35.0, 1)\n",
      "(10535847, 'Шейка «Рублевский» варено-копченая, 300 г', 299, 404.99, -105.99000000000001, -35.0, 1)\n",
      "(10541290, 'Изюм GOOD FOOD Thompson jumbo, вес', 447, 596.99, -149.99, -34.0, 1)\n",
      "(10550771, 'Виски Jameson Coffee Ирландия, 0,7 л', 1899.99, 2498.99, -598.9999999999998, -32.0, 1)\n",
      "(10550759, 'Виски Jameson Orange Ирландия, 0,7 л', 1899.99, 2498.99, -598.9999999999998, -32.0, 1)\n",
      "(10549794, 'Смесь сухая молочная Nestle NAN Тройной комфорт от колик и запоров с рождения БЗМЖ, 800 г', 1438.49, 1898.49, -460.0, -32.0, 1)\n",
      "(10540291, 'Колбаса сырокопченая «Черкизово» Сальчичон Премиум, 350 г', 403.49, 533.49, -130.0, -32.0, 1)\n",
      "(10548050, 'Смесь сухая молочная NAN 3 Supreme молочко с олигосахаридами для защиты от инфекций 0-12 мес. БЗМЖ, 400 г', 999.49, 1299.49, -300.0, -30.0, 1)\n",
      "(10544321, 'Кофе молотый Egoiste Noir, 250 г', 599.49, 771.49, -172.0, -29.0, 1)\n",
      "(10551028, 'Кофе в зернах Lebo Gold, 1 кг', 2075.99, 2658.99, -583.0, -28.0, 1)\n",
      "(10545716, 'Торт «У Палыча» Киевский, 500 г', 699.9, 892.99, -193.09000000000003, -28.0, 1)\n",
      "(10544681, 'Цукаты ананаса гранулы 3-5 мм, вес', 602, 761.99, -159.99, -27.0, 1)\n",
      "(10541558, 'Арахис дробленый 2-5 мм, вес', 457, 579.99, -122.99000000000001, -27.0, 1)\n",
      "(10547219, 'Водка «Белая Березка» Россия, 1 л', 868.49, 1093.49, -225.0, -26.0, 1)\n",
      "(10546749, 'Джин Green Baboon с ароматом черной смородины Россия, 0,5 л', 799.99, 1004.99, -205.0, -26.0, 1)\n",
      "(10547618, 'Кофе растворимый Egoiste Special сублимированный с молотым, 100 г', 919.49, 1140.49, -221.0, -24.0, 1)\n",
      "(10489919, 'Туристический стул Eurotrail ELBA', 7834, 9687, -1853, -23.0, 1)\n",
      "(10548051, 'Смесь сухая безлактозная NAN с рождения при непереносимости лактозы и диарее БЗМЖ, 400 г', 999.49, 1199.49, -200.0, -20.0, 1)\n",
      "(10545562, 'Джин Barrister Orange Россия, 0,5 л', 686.99, 825.99, -139.0, -20.0, 1)\n",
      "(10546442, 'Букет «Новая Голландия» Роза, 11 шт', 766.99, 900.99, -134.0, -17.0, 1)\n",
      "(10544909, 'Изюм GOOD FOOD Голден, вес', 626, 727.99, -101.99000000000001, -16.0, 1)\n",
      "(10552476, 'Триммер бензиновый «Сибртех» КС-3000Н 962555', 8290, 9533.99, -1243.9899999999998, -15.0, 1)\n",
      "(10552472, 'Триммер бензиновый «Сибртех» КС-1800Н 962515', 8090, 9268.99, -1178.9899999999998, -15.0, 1)\n",
      "(10550462, 'Ликер Monin, Liqueur de Cafe Франция, 0,7 л', 1706.99, 1938.99, -232.0, -14.0, 1)\n",
      "(10550408, 'Смесь сухая молочная Nutrilon Premium 3 с 12 мес. БЗМЖ, 1.2 кг', 1699.49, 1861.99, -162.5, -10.0, 1)\n",
      "(10550407, 'Смесь сухая молочная Nutrilon Premium Junior 4 от 18 мес. БЗМЖ, 1.2 кг', 1699.49, 1861.99, -162.5, -10.0, 1)\n",
      "(10551474, 'Таблетки для посудомоечных машин бесфосфатные Synergetic, без запаха, 100 шт', 2569.99, 2799.99, -230.0, -9.0, 1)\n",
      "(10550112, 'Кофе растворимый Jacobs Gold, 500 г', 1548.49, 1684.49, -136.0, -9.0, 1)\n",
      "(10550111, 'Кофе растворимый Jacobs Monarch сублимированный, 500 г', 1548.49, 1684.49, -136.0, -9.0, 1)\n",
      "(10549207, 'Водка Danzka Германия, 0,7 л', 1263.99, 1365.99, -102.0, -8.0, 1)\n",
      "count all diff = 68\n"
     ]
    }
   ],
   "source": [
    "# Находим позиции, цена по кототорым изменилась по сравнению с ценой за передыдущий день.\n",
    "days_before = 1\n",
    "d = datetime.today() - timedelta(days=days_before)\n",
    "\n",
    "connection = sqlite3.connect('/home/jupyter-amtsu/project/price_alert/db.sqlite3')\n",
    "cursor = connection.cursor()\n",
    "q = f\"\"\"\n",
    "    WITH sales_numbered AS (\n",
    "        SELECT \n",
    "            id, \n",
    "            title,\n",
    "            price_sale,  \n",
    "            LEAD(price_sale,1,0) OVER (PARTITION BY title, url ORDER BY  title, id desc ) AS prev_price_sale,  \n",
    "            price_sale - LEAD(price_sale,1,0) OVER (PARTITION BY title, url  ORDER BY title, id desc ) AS diff,\n",
    "            ROW_NUMBER() OVER(PARTITION BY title, url ORDER BY id desc) AS row_number\n",
    "        FROM products_history\n",
    "        where datetime_create >= \"{d.date()}\"\n",
    "            and price_sale>100\n",
    "        ORDER BY id desc\n",
    "        LIMIT 1000000\n",
    "    )\n",
    "    SELECT \n",
    "        id, \n",
    "        title,\n",
    "        price_sale,  \n",
    "        prev_price_sale,\n",
    "        diff,\n",
    "        ROUND(100 * diff / price_sale) as per,\n",
    "        row_number\n",
    "    FROM sales_numbered\n",
    "    WHERE row_number = 1 and diff !=0 and diff != price_sale and (diff + prev_price_sale) != 0\n",
    "    and diff < -100\n",
    "    Order by per;\n",
    "\n",
    "\"\"\"\n",
    "cursor.execute(q)\n",
    "count = 0\n",
    "for i in cursor.fetchall():\n",
    "    print(i)\n",
    "    count += 1\n",
    "print('count all diff =', count)"
   ]
  },
  {
   "cell_type": "code",
   "execution_count": null,
   "id": "ff1127d3",
   "metadata": {},
   "outputs": [],
   "source": []
  },
  {
   "cell_type": "code",
   "execution_count": null,
   "id": "ea4c87d0",
   "metadata": {},
   "outputs": [],
   "source": []
  },
  {
   "cell_type": "code",
   "execution_count": 8,
   "id": "bc5064f5",
   "metadata": {},
   "outputs": [],
   "source": [
    "# work 240422"
   ]
  },
  {
   "cell_type": "code",
   "execution_count": null,
   "id": "9666bd85",
   "metadata": {},
   "outputs": [],
   "source": []
  },
  {
   "cell_type": "code",
   "execution_count": null,
   "id": "dc6db9d9",
   "metadata": {},
   "outputs": [],
   "source": [
    "!cp /tmp/db_mini.sqlite3 ~/"
   ]
  },
  {
   "cell_type": "code",
   "execution_count": 2,
   "id": "a465d16a",
   "metadata": {},
   "outputs": [],
   "source": [
    "import sqlite3\n",
    "from datetime import datetime, timedelta\n"
   ]
  },
  {
   "cell_type": "code",
   "execution_count": 3,
   "id": "41af9596",
   "metadata": {},
   "outputs": [],
   "source": [
    "connection = sqlite3.connect('/tmp/db_mini.sqlite3')\n",
    "cursor = connection.cursor()"
   ]
  },
  {
   "cell_type": "code",
   "execution_count": 4,
   "id": "1020d6d4",
   "metadata": {},
   "outputs": [
    {
     "data": {
      "text/plain": [
       "[('products_history',), ('sqlite_sequence',)]"
      ]
     },
     "execution_count": 4,
     "metadata": {},
     "output_type": "execute_result"
    }
   ],
   "source": [
    "cursor.execute(\"SELECT name FROM sqlite_master WHERE type='table';\")\n",
    "cursor.fetchall()"
   ]
  },
  {
   "cell_type": "code",
   "execution_count": 5,
   "id": "5f8f0933",
   "metadata": {},
   "outputs": [
    {
     "data": {
      "text/plain": [
       "[('CREATE TABLE products_history(\"id\" integer NOT NULL PRIMARY KEY AUTOINCREMENT, \"datetime_create\" datetime NULL, \"title\" varchar(200) NULL, \"price_sale\" decimal NULL, \"url\" varchar(1000) NULL)',)]"
      ]
     },
     "execution_count": 5,
     "metadata": {},
     "output_type": "execute_result"
    }
   ],
   "source": [
    "#\n",
    "cursor.execute(\"SELECT sql FROM sqlite_master WHERE name='products_history' \")\n",
    "cursor.fetchall()"
   ]
  },
  {
   "cell_type": "code",
   "execution_count": 7,
   "id": "b2d06038",
   "metadata": {},
   "outputs": [
    {
     "data": {
      "text/plain": [
       "[(2870,\n",
       "  '2022-12-06 15:35:11.590625',\n",
       "  'Игрушка-конструктор COGO Боевой корабль',\n",
       "  2817.99,\n",
       "  'https://www.auchan.ru/product/konstruktor-760-det')]"
      ]
     },
     "execution_count": 7,
     "metadata": {},
     "output_type": "execute_result"
    }
   ],
   "source": [
    "# достать первые 10 записей из таблицы products_history\n",
    "cursor.execute(\"select * from products_history limit 1\")\n",
    "cursor.fetchall()"
   ]
  },
  {
   "cell_type": "code",
   "execution_count": 10,
   "id": "4312dcb9",
   "metadata": {},
   "outputs": [
    {
     "data": {
      "text/plain": [
       "[(7172,\n",
       "  '2022-12-06 15:38:37.435727',\n",
       "  '#Топ-рецепты say7, Скрипкина А.Ю.',\n",
       "  538.99,\n",
       "  'https://www.auchan.ru/product/top-recepty-say7-skripkina-a-yu')]"
      ]
     },
     "execution_count": 10,
     "metadata": {},
     "output_type": "execute_result"
    }
   ],
   "source": [
    "cursor.execute(\"select * from products_history order by title limit 1\")\n",
    "cursor.fetchall()"
   ]
  },
  {
   "cell_type": "code",
   "execution_count": 12,
   "id": "fb0c899e",
   "metadata": {},
   "outputs": [
    {
     "data": {
      "text/plain": [
       "[(2870,\n",
       "  '2022-12-06 15:35:11.590625',\n",
       "  'Игрушка-конструктор COGO Боевой корабль',\n",
       "  2817.99,\n",
       "  'https://www.auchan.ru/product/konstruktor-760-det')]"
      ]
     },
     "execution_count": 12,
     "metadata": {},
     "output_type": "execute_result"
    }
   ],
   "source": [
    "# досать 5 товаров цена на которые больше 100 рублей\n",
    "cursor.execute(\"select * from products_history where price_sale > 100 limit 1\")\n",
    "cursor.fetchall()"
   ]
  },
  {
   "cell_type": "code",
   "execution_count": 14,
   "id": "720957d9",
   "metadata": {},
   "outputs": [
    {
     "data": {
      "text/plain": [
       "[(2874,\n",
       "  '2022-12-06 15:35:11.671310',\n",
       "  'Средство для купания детское Play&Bath МимиМишки 3 в 1 Шампунь Гель Пена Кола, 200 мл',\n",
       "  241.99,\n",
       "  'https://www.auchan.ru/product/sredstvo-dlya-kupaniya-play-bath-mimimishki-3-v-1-shampun-gel-pena-kola-200-ml')]"
      ]
     },
     "execution_count": 14,
     "metadata": {},
     "output_type": "execute_result"
    }
   ],
   "source": [
    "# достать 5 товаров цена на которые больше 100 рублей но меньше 1000\n",
    "cursor.execute(\"select * from products_history where price_sale  BETWEEN 100 AND 1000 limit 1\")\n",
    "cursor.fetchall()"
   ]
  },
  {
   "cell_type": "code",
   "execution_count": 17,
   "id": "ee902cfa",
   "metadata": {},
   "outputs": [
    {
     "data": {
      "text/plain": [
       "[(2874,\n",
       "  '2022-12-06 15:35:11.671310',\n",
       "  'Средство для купания детское Play&Bath МимиМишки 3 в 1 Шампунь Гель Пена Кола, 200 мл',\n",
       "  241.99,\n",
       "  'https://www.auchan.ru/product/sredstvo-dlya-kupaniya-play-bath-mimimishki-3-v-1-shampun-gel-pena-kola-200-ml')]"
      ]
     },
     "execution_count": 17,
     "metadata": {},
     "output_type": "execute_result"
    }
   ],
   "source": [
    "# достать 5 товаров цена на которые больше 100 рублей но меньше 1000\n",
    "cursor.execute(\"select * from products_history where  price_sale > 100 and price_sale < 1000 limit 1\")\n",
    "cursor.fetchall()"
   ]
  },
  {
   "cell_type": "code",
   "execution_count": 18,
   "id": "fc37427b",
   "metadata": {},
   "outputs": [
    {
     "data": {
      "text/plain": [
       "[(100000,)]"
      ]
     },
     "execution_count": 18,
     "metadata": {},
     "output_type": "execute_result"
    }
   ],
   "source": [
    "# посчитать сколько товаров\n",
    "cursor.execute(\"select count() from products_history\")\n",
    "cursor.fetchall()"
   ]
  },
  {
   "cell_type": "code",
   "execution_count": 32,
   "id": "236f66a4",
   "metadata": {},
   "outputs": [
    {
     "data": {
      "text/plain": [
       "[(0,)]"
      ]
     },
     "execution_count": 32,
     "metadata": {},
     "output_type": "execute_result"
    }
   ],
   "source": [
    "# посчитать сколько товаров у котрых есть огурец\n",
    "cursor.execute(\"select count() from products_history where title = 'огурец'\")\n",
    "cursor.fetchall()"
   ]
  },
  {
   "cell_type": "code",
   "execution_count": 31,
   "id": "be83b4dd",
   "metadata": {},
   "outputs": [
    {
     "data": {
      "text/plain": [
       "[(0,)]"
      ]
     },
     "execution_count": 31,
     "metadata": {},
     "output_type": "execute_result"
    }
   ],
   "source": [
    "cursor.execute(\"select count() from products_history where title = '%огурец%'\")\n",
    "cursor.fetchall()"
   ]
  },
  {
   "cell_type": "code",
   "execution_count": 30,
   "id": "b1b3332c",
   "metadata": {},
   "outputs": [
    {
     "data": {
      "text/plain": [
       "[(13,)]"
      ]
     },
     "execution_count": 30,
     "metadata": {},
     "output_type": "execute_result"
    }
   ],
   "source": [
    "cursor.execute(\"select count() from products_history where title like '%огурец%'\")\n",
    "cursor.fetchall()"
   ]
  },
  {
   "cell_type": "code",
   "execution_count": 34,
   "id": "75efffac",
   "metadata": {},
   "outputs": [
    {
     "data": {
      "text/plain": [
       "[(4607,\n",
       "  '2022-12-06 15:37:34.961248',\n",
       "  'Овощное ассорти огурец перец томат (0,8-1,2 кг), 1 упаковка ~ 1 кг',\n",
       "  219.99,\n",
       "  'https://www.auchan.ru/product/assorti_ov_ogpertom_ves_fas')]"
      ]
     },
     "execution_count": 34,
     "metadata": {},
     "output_type": "execute_result"
    }
   ],
   "source": [
    "cursor.execute(\"select * from products_history where title like '%огурец%' limit 1\")\n",
    "cursor.fetchall()"
   ]
  },
  {
   "cell_type": "code",
   "execution_count": null,
   "id": "68fdf0c1",
   "metadata": {},
   "outputs": [],
   "source": [
    "#40 запросво разных напсиать"
   ]
  }
 ],
 "metadata": {
  "kernelspec": {
   "display_name": "Python 3 (ipykernel)",
   "language": "python",
   "name": "python3"
  },
  "language_info": {
   "codemirror_mode": {
    "name": "ipython",
    "version": 3
   },
   "file_extension": ".py",
   "mimetype": "text/x-python",
   "name": "python",
   "nbconvert_exporter": "python",
   "pygments_lexer": "ipython3",
   "version": "3.9.7"
  }
 },
 "nbformat": 4,
 "nbformat_minor": 5
}
