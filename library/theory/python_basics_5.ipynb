{
 "cells": [
  {
   "cell_type": "code",
   "execution_count": null,
   "id": "f0a99af9",
   "metadata": {},
   "outputs": [],
   "source": [
    "# структурированные данные\n",
    "['vasy', 'pety']\n",
    "{\n",
    "    'name': 'Alex',\n",
    "    'year': 2000\n",
    "}\n",
    "\n",
    "[\n",
    "    {\n",
    "      'name': 'Alex',\n",
    "      'year': 2000  \n",
    "    },\n",
    "    {\n",
    "       'name': 'Vity',\n",
    "       'year': 1998\n",
    "    },\n",
    "]\n",
    "\n",
    "Релязонные базы данных"
   ]
  },
  {
   "cell_type": "code",
   "execution_count": null,
   "id": "953e4a36",
   "metadata": {},
   "outputs": [],
   "source": [
    "#  SQL \n",
    "Создание тбалиц \n",
    "create table\n",
    "Модификация записей в таблице\n",
    "update\n",
    "Удаление записей из ьаблицы\n",
    "delete\n",
    "выборка записей из таблиц\n",
    "select\n"
   ]
  },
  {
   "cell_type": "code",
   "execution_count": 1,
   "id": "74fc9bc9",
   "metadata": {},
   "outputs": [
    {
     "name": "stdout",
     "output_type": "stream",
     "text": [
      "База данных создана и успешно подключена к SQLite\n",
      "Версия базы данных SQLite:  [('3.36.0',)]\n",
      "Соединение с SQLite закрыто\n"
     ]
    }
   ],
   "source": [
    "import sqlite3\n",
    "\n",
    "try:\n",
    "    sqlite_connection = sqlite3.connect('sqlite_python.db')\n",
    "    cursor = sqlite_connection.cursor()\n",
    "    print(\"База данных создана и успешно подключена к SQLite\")\n",
    "\n",
    "    sqlite_select_query = \"select sqlite_version();\"\n",
    "    cursor.execute(sqlite_select_query)\n",
    "    record = cursor.fetchall()\n",
    "    print(\"Версия базы данных SQLite: \", record)\n",
    "    cursor.close()\n",
    "\n",
    "except sqlite3.Error as error:\n",
    "    print(\"Ошибка при подключении к sqlite\", error)\n",
    "finally:\n",
    "    if (sqlite_connection):\n",
    "        sqlite_connection.close()\n",
    "        print(\"Соединение с SQLite закрыто\")"
   ]
  },
  {
   "cell_type": "code",
   "execution_count": 2,
   "id": "1afac5aa",
   "metadata": {},
   "outputs": [],
   "source": [
    "import sqlite3"
   ]
  },
  {
   "cell_type": "code",
   "execution_count": 3,
   "id": "4d1e3260",
   "metadata": {},
   "outputs": [
    {
     "name": "stdout",
     "output_type": "stream",
     "text": [
      "База данных создана и успешно подключена к SQLite\n"
     ]
    }
   ],
   "source": [
    "sqlite_connection = sqlite3.connect('db/sqlite_python.db')\n",
    "cursor = sqlite_connection.cursor()\n",
    "print(\"База данных создана и успешно подключена к SQLite\")\n",
    "\n",
    "\n"
   ]
  },
  {
   "cell_type": "code",
   "execution_count": 5,
   "id": "6248f4ad",
   "metadata": {},
   "outputs": [
    {
     "data": {
      "text/plain": [
       "<sqlite3.Cursor at 0x7f031c352880>"
      ]
     },
     "execution_count": 5,
     "metadata": {},
     "output_type": "execute_result"
    }
   ],
   "source": [
    "#  теефорнный спправочник\n",
    "# имя, грод, дата рожения, телефон\n",
    "int, str\n",
    "\n",
    "sql_create_table = \"create table Phone_Book(name varchar(20), city varchar(10), year date, phone_number  varchar(15))\"\n",
    "cursor.execute(sql_create_table)"
   ]
  },
  {
   "cell_type": "code",
   "execution_count": 6,
   "id": "76aed628",
   "metadata": {},
   "outputs": [
    {
     "data": {
      "text/plain": [
       "[]"
      ]
     },
     "execution_count": 6,
     "metadata": {},
     "output_type": "execute_result"
    }
   ],
   "source": [
    "cursor.fetchall()"
   ]
  },
  {
   "cell_type": "code",
   "execution_count": 11,
   "id": "06e2362a",
   "metadata": {},
   "outputs": [
    {
     "ename": "OperationalError",
     "evalue": "near \"schema\": syntax error",
     "output_type": "error",
     "traceback": [
      "\u001b[0;31m---------------------------------------------------------------------------\u001b[0m",
      "\u001b[0;31mOperationalError\u001b[0m                          Traceback (most recent call last)",
      "Cell \u001b[0;32mIn [11], line 1\u001b[0m\n\u001b[0;32m----> 1\u001b[0m \u001b[43mcursor\u001b[49m\u001b[38;5;241;43m.\u001b[39;49m\u001b[43mexecute\u001b[49m\u001b[43m(\u001b[49m\u001b[38;5;124;43m\"\u001b[39;49m\u001b[38;5;124;43mschema\u001b[39;49m\u001b[38;5;124;43m\"\u001b[39;49m\u001b[43m)\u001b[49m\n\u001b[1;32m      2\u001b[0m cursor\u001b[38;5;241m.\u001b[39mfetchall()\n",
      "\u001b[0;31mOperationalError\u001b[0m: near \"schema\": syntax error"
     ]
    }
   ],
   "source": [
    "cursor.execute(\"schema\")\n",
    "cursor.fetchall()"
   ]
  },
  {
   "cell_type": "code",
   "execution_count": 12,
   "id": "6bfa7ff9",
   "metadata": {},
   "outputs": [
    {
     "data": {
      "text/plain": [
       "[]"
      ]
     },
     "execution_count": 12,
     "metadata": {},
     "output_type": "execute_result"
    }
   ],
   "source": [
    "cursor.execute(\"select * from Phone_Book\")\n",
    "cursor.fetchall()"
   ]
  },
  {
   "cell_type": "code",
   "execution_count": 13,
   "id": "b6ccc506",
   "metadata": {},
   "outputs": [
    {
     "data": {
      "text/plain": [
       "[]"
      ]
     },
     "execution_count": 13,
     "metadata": {},
     "output_type": "execute_result"
    }
   ],
   "source": [
    "cursor.execute(\"insert into Phone_Book(name, city, year, phone_number) values('Alex', 'Moscow', '2000-01-01', '89165554433')\")\n",
    "cursor.fetchall()"
   ]
  },
  {
   "cell_type": "code",
   "execution_count": 14,
   "id": "84a77d6b",
   "metadata": {},
   "outputs": [
    {
     "data": {
      "text/plain": [
       "[('Alex', 'Moscow', '2000-01-01', '89165554433')]"
      ]
     },
     "execution_count": 14,
     "metadata": {},
     "output_type": "execute_result"
    }
   ],
   "source": [
    "cursor.execute(\"select * from Phone_Book\")\n",
    "cursor.fetchall()"
   ]
  },
  {
   "cell_type": "code",
   "execution_count": 15,
   "id": "18fc695a",
   "metadata": {},
   "outputs": [
    {
     "data": {
      "text/plain": [
       "[]"
      ]
     },
     "execution_count": 15,
     "metadata": {},
     "output_type": "execute_result"
    }
   ],
   "source": [
    "cursor.execute(\"insert into Phone_Book(name, city, year, phone_number) values('Vasy', 'Moscow', '1999-11-22', '89165551234')\")\n",
    "cursor.fetchall()"
   ]
  },
  {
   "cell_type": "code",
   "execution_count": 16,
   "id": "46cc1df8",
   "metadata": {},
   "outputs": [
    {
     "data": {
      "text/plain": [
       "[]"
      ]
     },
     "execution_count": 16,
     "metadata": {},
     "output_type": "execute_result"
    }
   ],
   "source": [
    "cursor.execute(\"insert into Phone_Book(name, city, year, phone_number) values('Mike', 'SPB', '1998-01-02', '89165551235')\")\n",
    "cursor.fetchall()"
   ]
  },
  {
   "cell_type": "code",
   "execution_count": 4,
   "id": "8407efa9",
   "metadata": {},
   "outputs": [
    {
     "data": {
      "text/plain": [
       "[('Alex', 'Moscow', '2000-01-01', '89165554433'),\n",
       " ('Vasy', 'Moscow', '1999-11-22', '89165551234'),\n",
       " ('Mike', 'SPB', '1998-01-02', '89165551235')]"
      ]
     },
     "execution_count": 4,
     "metadata": {},
     "output_type": "execute_result"
    }
   ],
   "source": [
    "cursor.execute(\"select * from Phone_Book\")\n",
    "cursor.fetchall()"
   ]
  },
  {
   "cell_type": "code",
   "execution_count": 18,
   "id": "d074677b",
   "metadata": {},
   "outputs": [],
   "source": [
    "sqlite_connection.commit()"
   ]
  },
  {
   "cell_type": "code",
   "execution_count": 5,
   "id": "a9648431",
   "metadata": {},
   "outputs": [
    {
     "data": {
      "text/plain": [
       "[('Alex', 'Moscow', '2000-01-01', '89165554433'),\n",
       " ('Vasy', 'Moscow', '1999-11-22', '89165551234')]"
      ]
     },
     "execution_count": 5,
     "metadata": {},
     "output_type": "execute_result"
    }
   ],
   "source": [
    "cursor.execute(\"select * from Phone_Book where city = 'Moscow'\")\n",
    "cursor.fetchall()"
   ]
  },
  {
   "cell_type": "code",
   "execution_count": 6,
   "id": "5a1b9184",
   "metadata": {},
   "outputs": [
    {
     "data": {
      "text/plain": [
       "[('Alex', 'Moscow', '2000-01-01', '89165554433'),\n",
       " ('Vasy', 'Moscow', '1999-11-22', '89165551234')]"
      ]
     },
     "execution_count": 6,
     "metadata": {},
     "output_type": "execute_result"
    }
   ],
   "source": [
    "cursor.execute(\"select * from Phone_Book where city like 'Mos%'\")\n",
    "cursor.fetchall()"
   ]
  },
  {
   "cell_type": "code",
   "execution_count": 7,
   "id": "9641cfad",
   "metadata": {},
   "outputs": [
    {
     "data": {
      "text/plain": [
       "[('Alex', '2000-01-01'), ('Vasy', '1999-11-22')]"
      ]
     },
     "execution_count": 7,
     "metadata": {},
     "output_type": "execute_result"
    }
   ],
   "source": [
    "cursor.execute(\"select name, year from Phone_Book where city like 'Mos%'\")\n",
    "cursor.fetchall()"
   ]
  },
  {
   "cell_type": "code",
   "execution_count": 8,
   "id": "b152d1b7",
   "metadata": {},
   "outputs": [
    {
     "data": {
      "text/plain": [
       "[(2,)]"
      ]
     },
     "execution_count": 8,
     "metadata": {},
     "output_type": "execute_result"
    }
   ],
   "source": [
    "cursor.execute(\"select count(*)  from Phone_Book where city like 'Mos%'\")\n",
    "cursor.fetchall()"
   ]
  },
  {
   "cell_type": "code",
   "execution_count": 12,
   "id": "fa706fde",
   "metadata": {},
   "outputs": [
    {
     "data": {
      "text/plain": [
       "[('Alex', '2000-01-01'), ('Vasy', '1999-11-22')]"
      ]
     },
     "execution_count": 12,
     "metadata": {},
     "output_type": "execute_result"
    }
   ],
   "source": [
    "cursor.execute(\"select name, year from Phone_Book where city like 'Mos%' order by name asc\")\n",
    "cursor.fetchall()"
   ]
  },
  {
   "cell_type": "code",
   "execution_count": 13,
   "id": "d97f4d19",
   "metadata": {},
   "outputs": [
    {
     "data": {
      "text/plain": [
       "[('Vasy', '1999-11-22'), ('Alex', '2000-01-01')]"
      ]
     },
     "execution_count": 13,
     "metadata": {},
     "output_type": "execute_result"
    }
   ],
   "source": [
    "cursor.execute(\"select name, year from Phone_Book where city like 'Mos%' order by name desc\")\n",
    "cursor.fetchall()"
   ]
  },
  {
   "cell_type": "code",
   "execution_count": 14,
   "id": "823c2fcc",
   "metadata": {},
   "outputs": [
    {
     "data": {
      "text/plain": [
       "[('Vasy', '1999-11-22')]"
      ]
     },
     "execution_count": 14,
     "metadata": {},
     "output_type": "execute_result"
    }
   ],
   "source": [
    "cursor.execute(\"select name, year from Phone_Book where city like 'Mos%' order by name desc limit 1\")\n",
    "cursor.fetchall()"
   ]
  },
  {
   "cell_type": "code",
   "execution_count": 15,
   "id": "822a90d9",
   "metadata": {},
   "outputs": [
    {
     "data": {
      "text/plain": [
       "[('Alex', '2000-01-01')]"
      ]
     },
     "execution_count": 15,
     "metadata": {},
     "output_type": "execute_result"
    }
   ],
   "source": [
    "cursor.execute(\"select name, year from Phone_Book where city like 'Mos%' order by name desc limit 1, 2\")\n",
    "cursor.fetchall()"
   ]
  },
  {
   "cell_type": "code",
   "execution_count": 16,
   "id": "20048040",
   "metadata": {},
   "outputs": [
    {
     "data": {
      "text/plain": [
       "[('Mike', '1998-01-02')]"
      ]
     },
     "execution_count": 16,
     "metadata": {},
     "output_type": "execute_result"
    }
   ],
   "source": [
    "cursor.execute(\"select name, year from Phone_Book order by name desc limit 1, 1\")\n",
    "cursor.fetchall()"
   ]
  },
  {
   "cell_type": "code",
   "execution_count": null,
   "id": "da3c2f83",
   "metadata": {},
   "outputs": [],
   "source": [
    "cursor.execute(\"alter table Phone_Book add income \")\n",
    "cursor.fetchall()"
   ]
  },
  {
   "cell_type": "code",
   "execution_count": null,
   "id": "286e9095",
   "metadata": {},
   "outputs": [],
   "source": []
  },
  {
   "cell_type": "markdown",
   "id": "f62af175",
   "metadata": {},
   "source": [
    "#HW \n",
    "- Реализовать на python базу данных по персоналу с двумя таблицами из занятия.\n",
    "- Заполнить ее данными.\n",
    "- Написать select который вернет таблицу содержащую названия отделов, среднюю зарплату в отдел, отсортированных по убыванию средне зп.\n",
    "- Добавить в первый отдел еще одно сотрудника с ЗП 1000 и посмотреть как изменится результат."
   ]
  },
  {
   "cell_type": "code",
   "execution_count": 1,
   "id": "f237b2ef",
   "metadata": {},
   "outputs": [
    {
     "name": "stdout",
     "output_type": "stream",
     "text": [
      "База данных создана и успешно подключена к SQLite\n"
     ]
    }
   ],
   "source": [
    "import sqlite3\n",
    "sqlite_connection = sqlite3.connect('db/sqlite_python.db')\n",
    "cursor = sqlite_connection.cursor()\n",
    "print(\"База данных создана и успешно подключена к SQLite\")"
   ]
  },
  {
   "cell_type": "code",
   "execution_count": 2,
   "id": "cfaec50f",
   "metadata": {},
   "outputs": [],
   "source": [
    "#cursor.execute(\"select name, year from Phone_Book order by name desc limit 1, 1\")"
   ]
  },
  {
   "cell_type": "code",
   "execution_count": 3,
   "id": "01500835",
   "metadata": {},
   "outputs": [
    {
     "ename": "SyntaxError",
     "evalue": "invalid syntax (4068654095.py, line 1)",
     "output_type": "error",
     "traceback": [
      "\u001b[0;36m  Cell \u001b[0;32mIn [3], line 1\u001b[0;36m\u001b[0m\n\u001b[0;31m    Сотрудники\temployees\u001b[0m\n\u001b[0m              \t^\u001b[0m\n\u001b[0;31mSyntaxError\u001b[0m\u001b[0;31m:\u001b[0m invalid syntax\n"
     ]
    }
   ],
   "source": [
    "\tСотрудники\temployees\t\t\n",
    "id\tname\tsurename\tdepartment_id\tsalary\n",
    "1\tИван\tИванов\t1\t5000\n",
    "2\tСвета\tСидорова\t1\t4500\n",
    "3\tИлья\tМакаров\t2\t4500\n",
    "4\tМарина\tФедорова\t2\t6000\n",
    "5\tВадим\tИльин\t3\t7000\n",
    "6\tИлья\tФилатов\t4\t5500\n",
    "7\tМарина\tСидорова\t2\t9000\n",
    "8\tВадим\tИльин\t3\t7000"
   ]
  },
  {
   "cell_type": "code",
   "execution_count": 4,
   "id": "a694b720",
   "metadata": {},
   "outputs": [
    {
     "ename": "SyntaxError",
     "evalue": "invalid syntax (1395909487.py, line 1)",
     "output_type": "error",
     "traceback": [
      "\u001b[0;36m  Cell \u001b[0;32mIn [4], line 1\u001b[0;36m\u001b[0m\n\u001b[0;31m    Отделы\tdepartment\u001b[0m\n\u001b[0m          \t^\u001b[0m\n\u001b[0;31mSyntaxError\u001b[0m\u001b[0;31m:\u001b[0m invalid syntax\n"
     ]
    }
   ],
   "source": [
    "\tОтделы\tdepartment\n",
    "id\tname\t\n",
    "1\tМаркетинг\t\n",
    "2\tПродажи\t\n",
    "3\tБухгалтерия\t\n",
    "4\t\t"
   ]
  },
  {
   "cell_type": "code",
   "execution_count": 5,
   "id": "e9a2c9e7",
   "metadata": {},
   "outputs": [
    {
     "data": {
      "text/plain": [
       "<sqlite3.Cursor at 0x7f95fab28340>"
      ]
     },
     "execution_count": 5,
     "metadata": {},
     "output_type": "execute_result"
    }
   ],
   "source": [
    "sql_create_table = \"create table Employees(id INTEGER, name varchar(20), surename varchar(20), department_id INTEGER, salary INTEGER)\"\n",
    "cursor.execute(sql_create_table)"
   ]
  },
  {
   "cell_type": "code",
   "execution_count": 6,
   "id": "8d654bc6",
   "metadata": {},
   "outputs": [
    {
     "data": {
      "text/plain": [
       "[]"
      ]
     },
     "execution_count": 6,
     "metadata": {},
     "output_type": "execute_result"
    }
   ],
   "source": [
    "cursor.execute(\"insert into Employees(id, name, surename, department_id, salary) values(1, 'Иван', 'Иванов', 1, 5000)\")\n",
    "cursor.fetchall()"
   ]
  },
  {
   "cell_type": "code",
   "execution_count": 7,
   "id": "cc817123",
   "metadata": {},
   "outputs": [
    {
     "data": {
      "text/plain": [
       "[('Иван', 'Иванов')]"
      ]
     },
     "execution_count": 7,
     "metadata": {},
     "output_type": "execute_result"
    }
   ],
   "source": [
    "cursor.execute(\"select name, surename from Employees\")\n",
    "cursor.fetchall()"
   ]
  },
  {
   "cell_type": "code",
   "execution_count": 8,
   "id": "23fbf759",
   "metadata": {},
   "outputs": [
    {
     "data": {
      "text/plain": [
       "[]"
      ]
     },
     "execution_count": 8,
     "metadata": {},
     "output_type": "execute_result"
    }
   ],
   "source": [
    "cursor.execute(\"insert into Employees(id, name, surename, department_id, salary) values(2, 'Света', 'Сидорова', 1, 4500)\")\n",
    "cursor.fetchall()"
   ]
  },
  {
   "cell_type": "code",
   "execution_count": 9,
   "id": "2c7fa115",
   "metadata": {},
   "outputs": [
    {
     "data": {
      "text/plain": [
       "[('Иван', 'Иванов'), ('Света', 'Сидорова')]"
      ]
     },
     "execution_count": 9,
     "metadata": {},
     "output_type": "execute_result"
    }
   ],
   "source": [
    "cursor.execute(\"select name, surename from Employees\")\n",
    "cursor.fetchall()"
   ]
  },
  {
   "cell_type": "code",
   "execution_count": 10,
   "id": "13617196",
   "metadata": {},
   "outputs": [
    {
     "data": {
      "text/plain": [
       "[]"
      ]
     },
     "execution_count": 10,
     "metadata": {},
     "output_type": "execute_result"
    }
   ],
   "source": [
    "cursor.execute(\"\"\"\n",
    "    insert into Employees(id, name, surename, department_id, salary) \n",
    "        values\n",
    "        (3, 'Илья', 'Макаров', 2, 4500),\n",
    "        (4, 'Марина', 'Федорова', 2, 6000),\n",
    "        (5, 'Вадим', 'Ильин', 3, 7000),\n",
    "        (6, 'Илья', 'Филатов', 4, 5500)\n",
    "\"\"\")\n",
    "cursor.fetchall()"
   ]
  },
  {
   "cell_type": "code",
   "execution_count": 11,
   "id": "bb4b21a4",
   "metadata": {},
   "outputs": [
    {
     "data": {
      "text/plain": [
       "[(1, 'Иван', 'Иванов', 1, 5000),\n",
       " (2, 'Света', 'Сидорова', 1, 4500),\n",
       " (3, 'Илья', 'Макаров', 2, 4500),\n",
       " (4, 'Марина', 'Федорова', 2, 6000),\n",
       " (5, 'Вадим', 'Ильин', 3, 7000),\n",
       " (6, 'Илья', 'Филатов', 4, 5500)]"
      ]
     },
     "execution_count": 11,
     "metadata": {},
     "output_type": "execute_result"
    }
   ],
   "source": [
    "cursor.execute(\"select * from Employees\")\n",
    "cursor.fetchall()"
   ]
  },
  {
   "cell_type": "code",
   "execution_count": 12,
   "id": "94ba5b10",
   "metadata": {},
   "outputs": [],
   "source": [
    "# надо заполнить таблицу с отделами"
   ]
  },
  {
   "cell_type": "code",
   "execution_count": 14,
   "id": "323156b1",
   "metadata": {},
   "outputs": [
    {
     "data": {
      "text/plain": [
       "[]"
      ]
     },
     "execution_count": 14,
     "metadata": {},
     "output_type": "execute_result"
    }
   ],
   "source": [
    "cursor.execute(\"create table Departments(id INTEGER, name varchar(30))\")\n",
    "cursor.fetchall()"
   ]
  },
  {
   "cell_type": "code",
   "execution_count": 15,
   "id": "8e701883",
   "metadata": {},
   "outputs": [
    {
     "data": {
      "text/plain": [
       "<sqlite3.Cursor at 0x7f95fab28340>"
      ]
     },
     "execution_count": 15,
     "metadata": {},
     "output_type": "execute_result"
    }
   ],
   "source": [
    "cursor.execute(\"insert into Departments(id, name) values(1,'Маркетинг')\")"
   ]
  },
  {
   "cell_type": "code",
   "execution_count": 16,
   "id": "c778d52a",
   "metadata": {},
   "outputs": [
    {
     "data": {
      "text/plain": [
       "<sqlite3.Cursor at 0x7f95fab28340>"
      ]
     },
     "execution_count": 16,
     "metadata": {},
     "output_type": "execute_result"
    }
   ],
   "source": [
    "cursor.execute(\"select * from Departments\")"
   ]
  },
  {
   "cell_type": "code",
   "execution_count": 17,
   "id": "18350af1",
   "metadata": {},
   "outputs": [
    {
     "data": {
      "text/plain": [
       "[(1, 'Маркетинг')]"
      ]
     },
     "execution_count": 17,
     "metadata": {},
     "output_type": "execute_result"
    }
   ],
   "source": [
    "cursor.fetchall()"
   ]
  },
  {
   "cell_type": "code",
   "execution_count": 19,
   "id": "9b34faa1",
   "metadata": {},
   "outputs": [
    {
     "data": {
      "text/plain": [
       "<sqlite3.Cursor at 0x7f95fab28340>"
      ]
     },
     "execution_count": 19,
     "metadata": {},
     "output_type": "execute_result"
    }
   ],
   "source": [
    "cursor.execute(\"insert into Departments(id, name) values(2,'Продажи')\")\n",
    "cursor.execute(\"insert into Departments(id, name) values(3,'Бухгалтерия')\")"
   ]
  },
  {
   "cell_type": "code",
   "execution_count": 21,
   "id": "5870eedc",
   "metadata": {},
   "outputs": [
    {
     "data": {
      "text/plain": [
       "[(1, 'Маркетинг'), (2, 'Продажи'), (3, 'Бухгалтерия')]"
      ]
     },
     "execution_count": 21,
     "metadata": {},
     "output_type": "execute_result"
    }
   ],
   "source": [
    "cursor.execute(\"select * from Departments\")\n",
    "cursor.fetchall()"
   ]
  },
  {
   "cell_type": "code",
   "execution_count": 23,
   "id": "e5dacfd3",
   "metadata": {},
   "outputs": [],
   "source": [
    "# как вывести имена всех пользователей ЗП которых больше 5500 "
   ]
  },
  {
   "cell_type": "code",
   "execution_count": 27,
   "id": "d2ab9abe",
   "metadata": {},
   "outputs": [
    {
     "data": {
      "text/plain": [
       "[('Марина', 6000), ('Вадим', 7000), ('Илья', 5500)]"
      ]
     },
     "execution_count": 27,
     "metadata": {},
     "output_type": "execute_result"
    }
   ],
   "source": [
    "cursor.execute(\"select name, salary from Employees where salary >= 5500\")\n",
    "cursor.fetchall()"
   ]
  },
  {
   "cell_type": "code",
   "execution_count": 28,
   "id": "b0ece629",
   "metadata": {},
   "outputs": [
    {
     "data": {
      "text/plain": [
       "[(3, 'Илья', 'Макаров', 2, 4500), (6, 'Илья', 'Филатов', 4, 5500)]"
      ]
     },
     "execution_count": 28,
     "metadata": {},
     "output_type": "execute_result"
    }
   ],
   "source": [
    "cursor.execute(\"select * from Employees where name like 'Ил%'\")\n",
    "cursor.fetchall()"
   ]
  },
  {
   "cell_type": "code",
   "execution_count": 31,
   "id": "5c76ad7d",
   "metadata": {},
   "outputs": [
    {
     "data": {
      "text/plain": [
       "[(3, 'Илья', 'Макаров', 2, 4500), (6, 'Илья', 'Филатов', 4, 5500)]"
      ]
     },
     "execution_count": 31,
     "metadata": {},
     "output_type": "execute_result"
    }
   ],
   "source": [
    "cursor.execute(\"select * from Employees where name = 'Илья'\")\n",
    "cursor.fetchall()"
   ]
  },
  {
   "cell_type": "code",
   "execution_count": 34,
   "id": "a2e0b110",
   "metadata": {},
   "outputs": [
    {
     "data": {
      "text/plain": [
       "[(1, 'Иван', 'Иванов', 1, 5000),\n",
       " (2, 'Света', 'Сидорова', 1, 4500),\n",
       " (4, 'Марина', 'Федорова', 2, 6000),\n",
       " (5, 'Вадим', 'Ильин', 3, 7000)]"
      ]
     },
     "execution_count": 34,
     "metadata": {},
     "output_type": "execute_result"
    }
   ],
   "source": [
    "cursor.execute(\"select * from Employees where name like '%а%'\")\n",
    "cursor.fetchall()"
   ]
  },
  {
   "cell_type": "code",
   "execution_count": 38,
   "id": "674638b3",
   "metadata": {},
   "outputs": [
    {
     "data": {
      "text/plain": [
       "[(2,)]"
      ]
     },
     "execution_count": 38,
     "metadata": {},
     "output_type": "execute_result"
    }
   ],
   "source": [
    "cursor.execute(\"select count(*) from Employees where name = 'Илья'\")\n",
    "cursor.fetchall()"
   ]
  },
  {
   "cell_type": "code",
   "execution_count": 39,
   "id": "573268f3",
   "metadata": {},
   "outputs": [
    {
     "data": {
      "text/plain": [
       "[(32500,)]"
      ]
     },
     "execution_count": 39,
     "metadata": {},
     "output_type": "execute_result"
    }
   ],
   "source": [
    "cursor.execute(\"select sum(salary) from Employees\")\n",
    "cursor.fetchall()"
   ]
  },
  {
   "cell_type": "code",
   "execution_count": 41,
   "id": "d5bdb300",
   "metadata": {},
   "outputs": [
    {
     "data": {
      "text/plain": [
       "[(5416.666666666667,)]"
      ]
     },
     "execution_count": 41,
     "metadata": {},
     "output_type": "execute_result"
    }
   ],
   "source": [
    "cursor.execute(\"select avg(salary) from Employees\")\n",
    "cursor.fetchall()"
   ]
  },
  {
   "cell_type": "code",
   "execution_count": 42,
   "id": "9ede8964",
   "metadata": {},
   "outputs": [
    {
     "data": {
      "text/plain": [
       "[(5000.0,)]"
      ]
     },
     "execution_count": 42,
     "metadata": {},
     "output_type": "execute_result"
    }
   ],
   "source": [
    "cursor.execute(\"select avg(salary) from Employees where name = 'Илья'\")\n",
    "cursor.fetchall()"
   ]
  },
  {
   "cell_type": "code",
   "execution_count": 44,
   "id": "058415ab",
   "metadata": {},
   "outputs": [
    {
     "data": {
      "text/plain": [
       "[(3, 'Илья', 'Макаров', 2, 4500), (6, 'Илья', 'Филатов', 4, 5500)]"
      ]
     },
     "execution_count": 44,
     "metadata": {},
     "output_type": "execute_result"
    }
   ],
   "source": [
    "cursor.execute(\"select * from Employees where name = 'Илья'\")\n",
    "cursor.fetchall()"
   ]
  },
  {
   "cell_type": "code",
   "execution_count": 45,
   "id": "dbda8887",
   "metadata": {},
   "outputs": [
    {
     "data": {
      "text/plain": [
       "<sqlite3.Cursor at 0x7f95fab28340>"
      ]
     },
     "execution_count": 45,
     "metadata": {},
     "output_type": "execute_result"
    }
   ],
   "source": [
    "cursor.execute(\"alter table Employees add city varchar(15)\")"
   ]
  },
  {
   "cell_type": "code",
   "execution_count": 46,
   "id": "fd8ef0b4",
   "metadata": {},
   "outputs": [
    {
     "data": {
      "text/plain": [
       "[(1, 'Иван', 'Иванов', 1, 5000, None),\n",
       " (2, 'Света', 'Сидорова', 1, 4500, None),\n",
       " (3, 'Илья', 'Макаров', 2, 4500, None),\n",
       " (4, 'Марина', 'Федорова', 2, 6000, None),\n",
       " (5, 'Вадим', 'Ильин', 3, 7000, None),\n",
       " (6, 'Илья', 'Филатов', 4, 5500, None)]"
      ]
     },
     "execution_count": 46,
     "metadata": {},
     "output_type": "execute_result"
    }
   ],
   "source": [
    "cursor.execute(\"select * from Employees\")\n",
    "cursor.fetchall()"
   ]
  },
  {
   "cell_type": "code",
   "execution_count": 49,
   "id": "ee326591",
   "metadata": {},
   "outputs": [
    {
     "data": {
      "text/plain": [
       "<sqlite3.Cursor at 0x7f95fab28340>"
      ]
     },
     "execution_count": 49,
     "metadata": {},
     "output_type": "execute_result"
    }
   ],
   "source": [
    "cursor.execute(\"update Employees set city = 'Moscow' where id = 1\")"
   ]
  },
  {
   "cell_type": "code",
   "execution_count": 50,
   "id": "c846bebc",
   "metadata": {},
   "outputs": [
    {
     "data": {
      "text/plain": [
       "[(1, 'Иван', 'Иванов', 1, 5000, 'Moscow'),\n",
       " (2, 'Света', 'Сидорова', 1, 4500, None),\n",
       " (3, 'Илья', 'Макаров', 2, 4500, None),\n",
       " (4, 'Марина', 'Федорова', 2, 6000, None),\n",
       " (5, 'Вадим', 'Ильин', 3, 7000, None),\n",
       " (6, 'Илья', 'Филатов', 4, 5500, None)]"
      ]
     },
     "execution_count": 50,
     "metadata": {},
     "output_type": "execute_result"
    }
   ],
   "source": [
    "cursor.execute(\"select * from Employees\")\n",
    "cursor.fetchall()"
   ]
  },
  {
   "cell_type": "code",
   "execution_count": 51,
   "id": "b9f51b92",
   "metadata": {},
   "outputs": [
    {
     "data": {
      "text/plain": [
       "<sqlite3.Cursor at 0x7f95fab28340>"
      ]
     },
     "execution_count": 51,
     "metadata": {},
     "output_type": "execute_result"
    }
   ],
   "source": [
    "cursor.execute(\"update Employees set city = 'Moscow1234567890Moscow' where id = 2\")"
   ]
  },
  {
   "cell_type": "code",
   "execution_count": 52,
   "id": "ef07b4b8",
   "metadata": {},
   "outputs": [
    {
     "data": {
      "text/plain": [
       "[(1, 'Иван', 'Иванов', 1, 5000, 'Moscow'),\n",
       " (2, 'Света', 'Сидорова', 1, 4500, 'Moscow1234567890Moscow'),\n",
       " (3, 'Илья', 'Макаров', 2, 4500, None),\n",
       " (4, 'Марина', 'Федорова', 2, 6000, None),\n",
       " (5, 'Вадим', 'Ильин', 3, 7000, None),\n",
       " (6, 'Илья', 'Филатов', 4, 5500, None)]"
      ]
     },
     "execution_count": 52,
     "metadata": {},
     "output_type": "execute_result"
    }
   ],
   "source": [
    "cursor.execute(\"select * from Employees\")\n",
    "cursor.fetchall()"
   ]
  },
  {
   "cell_type": "code",
   "execution_count": 53,
   "id": "c19088c9",
   "metadata": {},
   "outputs": [],
   "source": [
    "sqlite_connection.commit()"
   ]
  },
  {
   "cell_type": "code",
   "execution_count": 2,
   "id": "9e5b7111",
   "metadata": {},
   "outputs": [
    {
     "data": {
      "text/plain": [
       "[(1, 'Иван', 'Иванов', 1, 5000, 'Moscow'),\n",
       " (2, 'Света', 'Сидорова', 1, 4500, 'Moscow1234567890Moscow'),\n",
       " (3, 'Илья', 'Макаров', 2, 4500, None),\n",
       " (4, 'Марина', 'Федорова', 2, 6000, None),\n",
       " (5, 'Вадим', 'Ильин', 3, 7000, None),\n",
       " (6, 'Илья', 'Филатов', 4, 5500, None)]"
      ]
     },
     "execution_count": 2,
     "metadata": {},
     "output_type": "execute_result"
    }
   ],
   "source": [
    "cursor.execute(\"select * from Employees\")\n",
    "cursor.fetchall()"
   ]
  },
  {
   "cell_type": "code",
   "execution_count": 3,
   "id": "9a939cf9",
   "metadata": {},
   "outputs": [
    {
     "data": {
      "text/plain": [
       "[(1, 'Иван', 'Иванов', 1, 5000, 'Moscow'),\n",
       " (5, 'Вадим', 'Ильин', 3, 7000, None),\n",
       " (3, 'Илья', 'Макаров', 2, 4500, None),\n",
       " (2, 'Света', 'Сидорова', 1, 4500, 'Moscow1234567890Moscow'),\n",
       " (4, 'Марина', 'Федорова', 2, 6000, None),\n",
       " (6, 'Илья', 'Филатов', 4, 5500, None)]"
      ]
     },
     "execution_count": 3,
     "metadata": {},
     "output_type": "execute_result"
    }
   ],
   "source": [
    "# отсортровать по фаилилиям\n",
    "cursor.execute(\"select * from Employees order by surename asc\")\n",
    "cursor.fetchall()"
   ]
  },
  {
   "cell_type": "code",
   "execution_count": 4,
   "id": "dccfbc98",
   "metadata": {},
   "outputs": [
    {
     "data": {
      "text/plain": [
       "[(6, 'Илья', 'Филатов', 4, 5500, None),\n",
       " (4, 'Марина', 'Федорова', 2, 6000, None),\n",
       " (2, 'Света', 'Сидорова', 1, 4500, 'Moscow1234567890Moscow'),\n",
       " (3, 'Илья', 'Макаров', 2, 4500, None),\n",
       " (5, 'Вадим', 'Ильин', 3, 7000, None),\n",
       " (1, 'Иван', 'Иванов', 1, 5000, 'Moscow')]"
      ]
     },
     "execution_count": 4,
     "metadata": {},
     "output_type": "execute_result"
    }
   ],
   "source": [
    "# отсортровать по фаилили убывание\n",
    "cursor.execute(\"select * from Employees order by surename desc\")\n",
    "cursor.fetchall()"
   ]
  },
  {
   "cell_type": "code",
   "execution_count": 7,
   "id": "7ed7ce98",
   "metadata": {},
   "outputs": [
    {
     "data": {
      "text/plain": [
       "[('Света', 4500, 'Сидорова'), ('Илья', 4500, 'Макаров')]"
      ]
     },
     "execution_count": 7,
     "metadata": {},
     "output_type": "execute_result"
    }
   ],
   "source": [
    "# отсортровать по фаилили убывание  с зп меньше 5000\n",
    "cursor.execute(\"select name, salary, surename from Employees where salary < 5000 order by surename desc\")\n",
    "cursor.fetchall()"
   ]
  },
  {
   "cell_type": "code",
   "execution_count": 8,
   "id": "8adbc717",
   "metadata": {},
   "outputs": [],
   "source": [
    "# обедиенения "
   ]
  },
  {
   "cell_type": "code",
   "execution_count": 9,
   "id": "5598a3f7",
   "metadata": {},
   "outputs": [
    {
     "data": {
      "text/plain": [
       "[('Иван', 'Иванов', 1),\n",
       " ('Света', 'Сидорова', 1),\n",
       " ('Илья', 'Макаров', 2),\n",
       " ('Марина', 'Федорова', 2),\n",
       " ('Вадим', 'Ильин', 3),\n",
       " ('Илья', 'Филатов', 4)]"
      ]
     },
     "execution_count": 9,
     "metadata": {},
     "output_type": "execute_result"
    }
   ],
   "source": [
    "# отсортровать по фаилили убывание  с зп меньше 5000\n",
    "cursor.execute(\"select name, surename, department_id from Employees \")\n",
    "cursor.fetchall()"
   ]
  },
  {
   "cell_type": "code",
   "execution_count": 11,
   "id": "4eb15681",
   "metadata": {},
   "outputs": [
    {
     "data": {
      "text/plain": [
       "[('Иван', 'Иванов', 'Маркетинг'),\n",
       " ('Света', 'Сидорова', 'Маркетинг'),\n",
       " ('Илья', 'Макаров', 'Продажи'),\n",
       " ('Марина', 'Федорова', 'Продажи'),\n",
       " ('Вадим', 'Ильин', 'Бухгалтерия')]"
      ]
     },
     "execution_count": 11,
     "metadata": {},
     "output_type": "execute_result"
    }
   ],
   "source": [
    "cursor.execute(\"\"\"\n",
    "select \n",
    "    Employees.name, Employees.surename, Departments.name\n",
    "from \n",
    "    Employees \n",
    "    join Departments \n",
    "    on Employees.department_id = Departments.id\n",
    "\"\"\")\n",
    "cursor.fetchall()"
   ]
  },
  {
   "cell_type": "code",
   "execution_count": 12,
   "id": "9ae6cb77",
   "metadata": {},
   "outputs": [
    {
     "data": {
      "text/plain": [
       "<sqlite3.Cursor at 0x7f8215983030>"
      ]
     },
     "execution_count": 12,
     "metadata": {},
     "output_type": "execute_result"
    }
   ],
   "source": [
    "cursor.execute(\"insert into Departments(id) values(4)\")\n",
    "cursor.execute(\"insert into Departments(id) values(5)\")"
   ]
  },
  {
   "cell_type": "code",
   "execution_count": 13,
   "id": "6ffcbc3f",
   "metadata": {},
   "outputs": [
    {
     "data": {
      "text/plain": [
       "[('Иван', 'Иванов', 'Маркетинг'),\n",
       " ('Света', 'Сидорова', 'Маркетинг'),\n",
       " ('Илья', 'Макаров', 'Продажи'),\n",
       " ('Марина', 'Федорова', 'Продажи'),\n",
       " ('Вадим', 'Ильин', 'Бухгалтерия'),\n",
       " ('Илья', 'Филатов', None)]"
      ]
     },
     "execution_count": 13,
     "metadata": {},
     "output_type": "execute_result"
    }
   ],
   "source": [
    "cursor.execute(\"\"\"\n",
    "select \n",
    "    Employees.name, Employees.surename, Departments.name\n",
    "from \n",
    "    Departments\n",
    "    join\n",
    "    Employees \n",
    "    on Employees.department_id = Departments.id\n",
    "\"\"\")\n",
    "cursor.fetchall()"
   ]
  },
  {
   "cell_type": "code",
   "execution_count": 17,
   "id": "8b76dd92",
   "metadata": {},
   "outputs": [
    {
     "data": {
      "text/plain": [
       "[('Иван', 'Иванов', 'Маркетинг', 1),\n",
       " ('Света', 'Сидорова', 'Маркетинг', 1),\n",
       " ('Илья', 'Макаров', 'Продажи', 2),\n",
       " ('Марина', 'Федорова', 'Продажи', 2),\n",
       " ('Вадим', 'Ильин', 'Бухгалтерия', 3),\n",
       " ('Илья', 'Филатов', None, 4),\n",
       " (None, None, None, 5)]"
      ]
     },
     "execution_count": 17,
     "metadata": {},
     "output_type": "execute_result"
    }
   ],
   "source": [
    "cursor.execute(\"\"\"\n",
    "select \n",
    "    Employees.name, Employees.surename, Departments.name, Departments.id\n",
    "from \n",
    "    Departments\n",
    "    left join \n",
    "    Employees \n",
    "    on Employees.department_id = Departments.id\n",
    "\"\"\")\n",
    "cursor.fetchall()"
   ]
  },
  {
   "cell_type": "code",
   "execution_count": 19,
   "id": "9195176b",
   "metadata": {},
   "outputs": [
    {
     "data": {
      "text/plain": [
       "[(1, 'Маркетинг', 1, 'Иван', 'Иванов', 1, 5000, 'Moscow'),\n",
       " (1, 'Маркетинг', 2, 'Света', 'Сидорова', 1, 4500, 'Moscow1234567890Moscow'),\n",
       " (1, 'Маркетинг', 3, 'Илья', 'Макаров', 2, 4500, None),\n",
       " (1, 'Маркетинг', 4, 'Марина', 'Федорова', 2, 6000, None),\n",
       " (1, 'Маркетинг', 5, 'Вадим', 'Ильин', 3, 7000, None),\n",
       " (1, 'Маркетинг', 6, 'Илья', 'Филатов', 4, 5500, None),\n",
       " (2, 'Продажи', 1, 'Иван', 'Иванов', 1, 5000, 'Moscow'),\n",
       " (2, 'Продажи', 2, 'Света', 'Сидорова', 1, 4500, 'Moscow1234567890Moscow'),\n",
       " (2, 'Продажи', 3, 'Илья', 'Макаров', 2, 4500, None),\n",
       " (2, 'Продажи', 4, 'Марина', 'Федорова', 2, 6000, None),\n",
       " (2, 'Продажи', 5, 'Вадим', 'Ильин', 3, 7000, None),\n",
       " (2, 'Продажи', 6, 'Илья', 'Филатов', 4, 5500, None),\n",
       " (3, 'Бухгалтерия', 1, 'Иван', 'Иванов', 1, 5000, 'Moscow'),\n",
       " (3, 'Бухгалтерия', 2, 'Света', 'Сидорова', 1, 4500, 'Moscow1234567890Moscow'),\n",
       " (3, 'Бухгалтерия', 3, 'Илья', 'Макаров', 2, 4500, None),\n",
       " (3, 'Бухгалтерия', 4, 'Марина', 'Федорова', 2, 6000, None),\n",
       " (3, 'Бухгалтерия', 5, 'Вадим', 'Ильин', 3, 7000, None),\n",
       " (3, 'Бухгалтерия', 6, 'Илья', 'Филатов', 4, 5500, None),\n",
       " (4, None, 1, 'Иван', 'Иванов', 1, 5000, 'Moscow'),\n",
       " (4, None, 2, 'Света', 'Сидорова', 1, 4500, 'Moscow1234567890Moscow'),\n",
       " (4, None, 3, 'Илья', 'Макаров', 2, 4500, None),\n",
       " (4, None, 4, 'Марина', 'Федорова', 2, 6000, None),\n",
       " (4, None, 5, 'Вадим', 'Ильин', 3, 7000, None),\n",
       " (4, None, 6, 'Илья', 'Филатов', 4, 5500, None),\n",
       " (5, None, 1, 'Иван', 'Иванов', 1, 5000, 'Moscow'),\n",
       " (5, None, 2, 'Света', 'Сидорова', 1, 4500, 'Moscow1234567890Moscow'),\n",
       " (5, None, 3, 'Илья', 'Макаров', 2, 4500, None),\n",
       " (5, None, 4, 'Марина', 'Федорова', 2, 6000, None),\n",
       " (5, None, 5, 'Вадим', 'Ильин', 3, 7000, None),\n",
       " (5, None, 6, 'Илья', 'Филатов', 4, 5500, None)]"
      ]
     },
     "execution_count": 19,
     "metadata": {},
     "output_type": "execute_result"
    }
   ],
   "source": [
    "cursor.execute(\"\"\"\n",
    "select \n",
    "    *\n",
    "from \n",
    "    Departments\n",
    "    join\n",
    "    Employees \n",
    "\"\"\")\n",
    "cursor.fetchall()"
   ]
  },
  {
   "cell_type": "code",
   "execution_count": 20,
   "id": "982c7c80",
   "metadata": {},
   "outputs": [],
   "source": [
    "cursor.execute(\"\"\"\n",
    "select \n",
    "    Employees.name, Employees.surename, Departments.name\n",
    "from \n",
    "    Departments\n",
    "    join\n",
    "    Employees \n",
    "    on Employees.department_id = Departments.id\n",
    "\"\"\")\n",
    "a = cursor.fetchall()"
   ]
  },
  {
   "cell_type": "code",
   "execution_count": 25,
   "id": "0969beae",
   "metadata": {},
   "outputs": [],
   "source": [
    "b = []\n",
    "for k in a:\n",
    "    b.append({\n",
    "        'name': k[0],\n",
    "        'sur': k[1],\n",
    "    })"
   ]
  },
  {
   "cell_type": "code",
   "execution_count": 26,
   "id": "b26a71bb",
   "metadata": {},
   "outputs": [
    {
     "data": {
      "text/plain": [
       "[{'name': 'Иван', 'sur': 'Иванов'},\n",
       " {'name': 'Света', 'sur': 'Сидорова'},\n",
       " {'name': 'Илья', 'sur': 'Макаров'},\n",
       " {'name': 'Марина', 'sur': 'Федорова'},\n",
       " {'name': 'Вадим', 'sur': 'Ильин'},\n",
       " {'name': 'Илья', 'sur': 'Филатов'}]"
      ]
     },
     "execution_count": 26,
     "metadata": {},
     "output_type": "execute_result"
    }
   ],
   "source": [
    "b"
   ]
  },
  {
   "cell_type": "code",
   "execution_count": 29,
   "id": "db2ae442",
   "metadata": {},
   "outputs": [
    {
     "data": {
      "text/plain": [
       "[(2, 4500), (1, 5000), (1, 5500), (1, 6000), (1, 7000)]"
      ]
     },
     "execution_count": 29,
     "metadata": {},
     "output_type": "execute_result"
    }
   ],
   "source": [
    "# посчитать сколько сотрудников получают ощниакоыую зрпаплату\n",
    "cursor.execute(\"\"\"\n",
    "select \n",
    "    count(*), salary\n",
    "from \n",
    "    Employees \n",
    "group by\n",
    "    salary\n",
    "\"\"\")\n",
    "cursor.fetchall()"
   ]
  },
  {
   "cell_type": "code",
   "execution_count": 32,
   "id": "74f62c0c",
   "metadata": {},
   "outputs": [
    {
     "data": {
      "text/plain": [
       "[(7000, 7000.0, 7000, 'Вадим'),\n",
       " (5000, 5000.0, 5000, 'Иван'),\n",
       " (5500, 5000.0, 4500, 'Илья'),\n",
       " (6000, 6000.0, 6000, 'Марина'),\n",
       " (4500, 4500.0, 4500, 'Света')]"
      ]
     },
     "execution_count": 32,
     "metadata": {},
     "output_type": "execute_result"
    }
   ],
   "source": [
    "cursor.execute(\"\"\"\n",
    "select \n",
    "    max(salary), avg(salary), min(salary), name\n",
    "from \n",
    "    Employees \n",
    "group by\n",
    "    name\n",
    "\"\"\")\n",
    "cursor.fetchall()"
   ]
  },
  {
   "cell_type": "code",
   "execution_count": null,
   "id": "54140344",
   "metadata": {},
   "outputs": [],
   "source": []
  }
 ],
 "metadata": {
  "kernelspec": {
   "display_name": "Python 3 (ipykernel)",
   "language": "python",
   "name": "python3"
  },
  "language_info": {
   "codemirror_mode": {
    "name": "ipython",
    "version": 3
   },
   "file_extension": ".py",
   "mimetype": "text/x-python",
   "name": "python",
   "nbconvert_exporter": "python",
   "pygments_lexer": "ipython3",
   "version": "3.9.7"
  }
 },
 "nbformat": 4,
 "nbformat_minor": 5
}
