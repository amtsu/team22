{
 "cells": [
  {
   "cell_type": "code",
   "execution_count": null,
   "metadata": {},
   "outputs": [],
   "source": [
    "#собес"
   ]
  },
  {
   "cell_type": "code",
   "execution_count": null,
   "metadata": {},
   "outputs": [],
   "source": [
    "# В чем разница между модулем и пакетом в Python?\n",
    "# модуль фаийл коьторый содержит код питон\n",
    "# пакет это пака с модулями питона"
   ]
  },
  {
   "cell_type": "code",
   "execution_count": null,
   "metadata": {},
   "outputs": [],
   "source": [
    "# Какие встроенные типы даттых доступны в Python?\n",
    "# int\n",
    "# float\n",
    "# str\n",
    "# bool\n",
    "# complex\n",
    "# list\n",
    "# tuple\n",
    "# dict"
   ]
  },
  {
   "cell_type": "code",
   "execution_count": null,
   "metadata": {},
   "outputs": [],
   "source": [
    "# Что такое лямбда-функция в Python?\n",
    "# lambda - не именнованая функция.\n",
    "new_func = lambda x : x ** 2\n",
    "new_func(4)\n",
    "# map filter reduce"
   ]
  },
  {
   "cell_type": "code",
   "execution_count": null,
   "metadata": {},
   "outputs": [],
   "source": [
    "# Что означает пространство имен?\n",
    "# локальноя оборалсть видимости\n",
    "# модуля\n",
    "# глобпальная\n",
    "# ...\n",
    "def f1(x):\n",
    "    global dd\n",
    "    dd = \n",
    "    print('---', dd)\n",
    "f1(3)\n",
    "print(dd)\n",
    "\n"
   ]
  },
  {
   "cell_type": "code",
   "execution_count": null,
   "metadata": {},
   "outputs": [],
   "source": [
    "dd = [1,2,3,4,5]"
   ]
  },
  {
   "cell_type": "code",
   "execution_count": null,
   "metadata": {},
   "outputs": [],
   "source": [
    "def f2(x):\n",
    "    print(dd)\n",
    "    #global dd\n",
    "    dd = 122\n",
    "    print('---', dd)\n",
    "    return dd\n",
    "f2(3)"
   ]
  },
  {
   "cell_type": "code",
   "execution_count": null,
   "metadata": {},
   "outputs": [],
   "source": [
    "dd"
   ]
  },
  {
   "cell_type": "code",
   "execution_count": null,
   "metadata": {},
   "outputs": [],
   "source": []
  },
  {
   "cell_type": "code",
   "execution_count": null,
   "metadata": {},
   "outputs": [],
   "source": [
    "# Объясните разницу между списком и кортежем?\n",
    "# списки редактируем и меняем, коретежи нельзя менять. \n",
    "# множество соедрит уни кальные эелементы\n",
    "list_1 = [1,2]\n",
    "list_1.append(3)\n",
    "print(list_1)\n",
    "c = (1,2,4)\n",
    "print(c)\n",
    "#c.append(5)\n",
    "set_1 = set([1,2,3,3,3,3])\n",
    "set_1.add(4)\n",
    "print(set_1)\n",
    "#dir(list_1)"
   ]
  },
  {
   "cell_type": "code",
   "execution_count": null,
   "metadata": {},
   "outputs": [],
   "source": [
    "# Чем отличается pickling от unpickling?\n",
    "# сохранение и загрузка люых обектов в питоне на диск и с диска"
   ]
  },
  {
   "cell_type": "code",
   "execution_count": null,
   "metadata": {},
   "outputs": [],
   "source": [
    "# Что такое декораторы в Python?\n",
    "# декократ это йфункцци котрая модифиуирует другею функцию"
   ]
  },
  {
   "cell_type": "code",
   "execution_count": null,
   "metadata": {},
   "outputs": [],
   "source": [
    "# Разница между генераторами и итераторами?\n",
    "range(10)\n",
    "# итреатор -  объект котрый поддерживает протокол итереации \n",
    "# генератоор  это итератор котрый создает обекты на лету"
   ]
  },
  {
   "cell_type": "code",
   "execution_count": null,
   "metadata": {},
   "outputs": [],
   "source": [
    "# Как преобразовать число в строку?\n",
    "x = 123\n",
    "s = str(x)\n",
    "s"
   ]
  },
  {
   "cell_type": "code",
   "execution_count": null,
   "metadata": {},
   "outputs": [],
   "source": [
    "# Как используется оператор // в Python? \n",
    "d = 11 // 4\n",
    "d"
   ]
  },
  {
   "cell_type": "code",
   "execution_count": null,
   "metadata": {},
   "outputs": [],
   "source": [
    "# Как используется оператор % в Python? \n",
    "e = 11 % 4\n",
    "e"
   ]
  },
  {
   "cell_type": "code",
   "execution_count": null,
   "metadata": {},
   "outputs": [],
   "source": [
    "# Что такое функция range() и каковы ее параметры?\n",
    "# генерартор списка чисел с опрееделнным шоагом\n",
    "#range(s, s, s)\n",
    "#start, stop, step\n",
    "range(0, 10, 3)"
   ]
  },
  {
   "cell_type": "code",
   "execution_count": null,
   "metadata": {},
   "outputs": [],
   "source": [
    "# Как используется %s?\n",
    "st_1 = \"%s lala %s\" % (1,2)\n",
    "print(type(st_1))\n",
    "print(st_1)"
   ]
  },
  {
   "cell_type": "code",
   "execution_count": null,
   "metadata": {},
   "outputs": [],
   "source": [
    "# Обязательно ли функция Python должна возвращать значение?\n",
    "# нет не обязательно\n",
    "\n",
    "# функции и процедуры"
   ]
  },
  {
   "cell_type": "code",
   "execution_count": null,
   "metadata": {},
   "outputs": [],
   "source": [
    "# Есть ли в Python функция main()?\n",
    "# -- Проверит как работает main в python3"
   ]
  },
  {
   "cell_type": "code",
   "execution_count": null,
   "metadata": {},
   "outputs": [],
   "source": [
    "# Что такое GIL?\n"
   ]
  },
  {
   "cell_type": "code",
   "execution_count": null,
   "metadata": {},
   "outputs": [],
   "source": [
    "# Как изменить тип данных списка? (4)\n",
    "list_2 = [\"a1\",\"d1\",\"c1\",\"l2\"]\n",
    "print(list_2)\n",
    "print(set(list_2))\n",
    "print('__'.join(list_2))\n",
    "#print(dict(list_2))\n",
    "print(tuple(list_2))\n",
    "\n",
    "',_hello_,'.join(list_2)"
   ]
  },
  {
   "cell_type": "code",
   "execution_count": null,
   "metadata": {},
   "outputs": [],
   "source": [
    "# Что такое PYTHONPATH?\n",
    "echo $PYTHONPATH\n",
    "export PYTHONPATH='/home/amtsurkov/github/team22/users/amtsurkov/lesson_19'\n",
    "export PYTHONPATH=$PYTHONPATH':/home/amtsurkov/github/team22/users/amtsurkov/lesson_14'\n",
    "export PYTHONPATH='/home/amtsurkov/github/team22/users/amtsurkov/lesson_14:/home/amtsurkov/github/team22/users/amtsurkov/lesson_19'"
   ]
  },
  {
   "cell_type": "code",
   "execution_count": null,
   "metadata": {},
   "outputs": [],
   "source": [
    "# Чувствителен ли Python к регистру?\n",
    "f = 1\n",
    "#F "
   ]
  },
  {
   "cell_type": "code",
   "execution_count": null,
   "metadata": {},
   "outputs": [],
   "source": [
    "# Объясните использование функций help() и dir().\n",
    "#help(dict) - выводит документаци\n",
    "#dir(dict) - выводит методы и параметры модуля"
   ]
  },
  {
   "cell_type": "code",
   "execution_count": null,
   "metadata": {},
   "outputs": [],
   "source": [
    "# Объясните, что означает «self» в Python.\n",
    "# когнвенци приняттая в питоне для обозначения обекта в его методе, чтобы внути метода обращаться к  параметрам обекта."
   ]
  },
  {
   "cell_type": "code",
   "execution_count": null,
   "metadata": {},
   "outputs": [],
   "source": [
    "# Что такое PEP 8\n",
    "# свод правил по написанию питон кода\n",
    "def g():\n",
    " c = 1\n",
    " return c\n",
    "\n",
    "def k():\n",
    "   g = 2\n",
    "   return g\n",
    "\n",
    "d = 2\n",
    "print(g())\n",
    "print(k())"
   ]
  },
  {
   "cell_type": "code",
   "execution_count": null,
   "metadata": {},
   "outputs": [],
   "source": [
    "# List и Tuples – зачем нужны и какие отличия?"
   ]
  },
  {
   "cell_type": "code",
   "execution_count": null,
   "metadata": {},
   "outputs": [],
   "source": [
    "# Что такое pass в Python?\n",
    "if d < 1:\n",
    "    pass\n",
    "else:\n",
    "    print(3)\n",
    "    \n",
    "if d >= 1:\n",
    "    print(3)\n",
    "    \n",
    "class Me():\n",
    "    pass"
   ]
  },
  {
   "cell_type": "code",
   "execution_count": null,
   "metadata": {},
   "outputs": [],
   "source": [
    "# Отрицательное значение индексов в Python\n",
    "d = ['a', 'b', 'c']\n",
    "      0,   1,   2\n",
    "     -3,  -2,  -1\n",
    "d[-3]"
   ]
  },
  {
   "cell_type": "code",
   "execution_count": null,
   "metadata": {},
   "outputs": [],
   "source": [
    "# Срезы в Python\n",
    "d = ['a', 'b', 'c', 'd']\n",
    "print(d[1:2])\n",
    "print(d[1:3])\n",
    "print(d[1:])\n",
    "print(d[:])"
   ]
  },
  {
   "cell_type": "code",
   "execution_count": null,
   "metadata": {},
   "outputs": [],
   "source": [
    "def funk1(e):\n",
    "    e_new = e[:]\n",
    "    \n",
    "    e_new = []\n",
    "    e_new.extend(e)\n",
    "    \n",
    "    e_new[1]='f'\n",
    "    \n",
    "funk1(d)\n",
    "d"
   ]
  },
  {
   "cell_type": "code",
   "execution_count": null,
   "metadata": {},
   "outputs": [],
   "source": [
    "#help(list)\n",
    "g = [1,2,'3']\n",
    "d.extend(g)\n",
    "d"
   ]
  },
  {
   "cell_type": "code",
   "execution_count": null,
   "metadata": {},
   "outputs": [],
   "source": [
    "g"
   ]
  },
  {
   "cell_type": "code",
   "execution_count": null,
   "metadata": {},
   "outputs": [],
   "source": [
    "# copy и deepcopy в чем разница?\n",
    "new_list = [\n",
    "    1,\n",
    "    g,\n",
    "    {\n",
    "        'k1': 1,\n",
    "        'k2': 2,\n",
    "    },\n",
    "    'stroka simvolov'\n",
    "]"
   ]
  },
  {
   "cell_type": "code",
   "execution_count": null,
   "metadata": {},
   "outputs": [],
   "source": [
    "import copy\n",
    "\n",
    "new_list_2 = copy.copy(new_list)\n",
    "\n",
    "[1, [1, 2, '3'], {'k1': 1, 'k2': 2}, 'stroka simvolov']\n",
    "[1, *, *, 'stroka simvolov']"
   ]
  },
  {
   "cell_type": "code",
   "execution_count": null,
   "metadata": {},
   "outputs": [],
   "source": [
    "new_list_2"
   ]
  },
  {
   "cell_type": "code",
   "execution_count": null,
   "metadata": {},
   "outputs": [],
   "source": [
    "new_list"
   ]
  },
  {
   "cell_type": "code",
   "execution_count": null,
   "metadata": {},
   "outputs": [],
   "source": [
    "new_list_2[0] = 2\n",
    "print(new_list_2)\n",
    "print(new_list)"
   ]
  },
  {
   "cell_type": "code",
   "execution_count": null,
   "metadata": {},
   "outputs": [],
   "source": [
    "new_list_2[1][1] = 100\n",
    "print(new_list_2)\n",
    "print(new_list)\n",
    "#[2, [1, 100, '3'], {'k1': 1, 'k2': 2}, 'stroka simvolov']\n",
    "#[1, [1, 2, '3'], {'k1': 1, 'k2': 2}, 'stroka simvolov']"
   ]
  },
  {
   "cell_type": "code",
   "execution_count": null,
   "metadata": {},
   "outputs": [],
   "source": [
    "id(new_list_2[1])"
   ]
  },
  {
   "cell_type": "code",
   "execution_count": null,
   "metadata": {},
   "outputs": [],
   "source": [
    "id(new_list[1])"
   ]
  },
  {
   "cell_type": "code",
   "execution_count": null,
   "metadata": {},
   "outputs": [],
   "source": []
  },
  {
   "cell_type": "code",
   "execution_count": null,
   "metadata": {},
   "outputs": [],
   "source": [
    "new_list_3 = copy.deepcopy(new_list)"
   ]
  },
  {
   "cell_type": "code",
   "execution_count": null,
   "metadata": {},
   "outputs": [],
   "source": [
    "new_list_3[1][1] = 400\n",
    "print(new_list_3)\n",
    "print(new_list)"
   ]
  },
  {
   "cell_type": "code",
   "execution_count": null,
   "metadata": {},
   "outputs": [],
   "source": [
    "id(new_list_3[1])"
   ]
  },
  {
   "cell_type": "code",
   "execution_count": null,
   "metadata": {},
   "outputs": [],
   "source": [
    "id(new_list[1])"
   ]
  },
  {
   "cell_type": "code",
   "execution_count": null,
   "metadata": {},
   "outputs": [],
   "source": [
    "jjj = g"
   ]
  },
  {
   "cell_type": "code",
   "execution_count": null,
   "metadata": {},
   "outputs": [],
   "source": [
    "print(id(jjj))\n",
    "print(id(g))"
   ]
  },
  {
   "cell_type": "code",
   "execution_count": null,
   "metadata": {},
   "outputs": [],
   "source": []
  },
  {
   "cell_type": "code",
   "execution_count": null,
   "metadata": {},
   "outputs": [],
   "source": [
    "# Как делается перегрузка операторов в Python?"
   ]
  },
  {
   "cell_type": "code",
   "execution_count": null,
   "metadata": {},
   "outputs": [],
   "source": [
    "# Как передаются аргументы – значения или ссылка?\n",
    "def h(d):\n",
    "    d[0] = 3\n",
    "    \n",
    "k = '222'\n",
    "#h(k)\n",
    "print(k)\n",
    "\n",
    "sl = [1,2]\n",
    "h(sl)\n",
    "print(sl)\n",
    "\n",
    "h([2,3])"
   ]
  },
  {
   "cell_type": "code",
   "execution_count": null,
   "metadata": {},
   "outputs": [],
   "source": [
    "# Что такое *args и **kwargs?\n",
    "print(1,2,3,4)\n",
    "\n",
    "def hh(*args):\n",
    "    for i in args:\n",
    "        #print(i)\n",
    "        j = i  \n",
    "        print(j)\n",
    "        \n",
    "hh(1,2)"
   ]
  },
  {
   "cell_type": "code",
   "execution_count": null,
   "metadata": {},
   "outputs": [],
   "source": [
    "def vau(chislo, **kwargs):\n",
    "    print('chislo =', chislo)\n",
    "    for k in kwargs.keys():\n",
    "        print('key = ',k, ' vlaue=', kwargs[k])\n",
    "    print(type(kwargs))\n",
    "    print(kwargs)\n",
    "\n",
    "vau(1, param =1, vova='mujilk')"
   ]
  },
  {
   "cell_type": "code",
   "execution_count": null,
   "metadata": {},
   "outputs": [],
   "source": [
    "# Используются ли в python спецификаторы доступа?\n",
    "__ - правет\n",
    "_ - протекте"
   ]
  },
  {
   "cell_type": "code",
   "execution_count": null,
   "metadata": {},
   "outputs": [],
   "source": [
    "class New():\n",
    "    def __init__(self):\n",
    "        self._protect = 1\n",
    "        self.__privet = 2\n",
    "        \n",
    "    def count(self):\n",
    "        print(self._protect)\n",
    "        print(self.__privet)\n",
    "        \n",
    "class NewNew2(New):\n",
    "    pass\n",
    "\n",
    "    def count(self):\n",
    "        print(self._protect)\n",
    "        #print(self.__privet)\n",
    "\n",
    "new_1 = New()\n",
    "new_new_2 = NewNew2()\n",
    "\n",
    "new_1.count()\n",
    "new_new_2.count()"
   ]
  },
  {
   "cell_type": "code",
   "execution_count": null,
   "metadata": {},
   "outputs": [],
   "source": []
  }
 ],
 "metadata": {
  "kernelspec": {
   "display_name": "Python 3 (ipykernel)",
   "language": "python",
   "name": "python3"
  },
  "language_info": {
   "codemirror_mode": {
    "name": "ipython",
    "version": 3
   },
   "file_extension": ".py",
   "mimetype": "text/x-python",
   "name": "python",
   "nbconvert_exporter": "python",
   "pygments_lexer": "ipython3",
   "version": "3.9.7"
  }
 },
 "nbformat": 4,
 "nbformat_minor": 2
}
