{
 "cells": [
  {
   "cell_type": "markdown",
   "id": "71d1e152-b1b3-47ed-a5c5-900b83cff5b3",
   "metadata": {},
   "source": [
    "# Nginx"
   ]
  },
  {
   "cell_type": "markdown",
   "id": "722c3398-416c-4d0a-9565-8c104669e359",
   "metadata": {},
   "source": [
    "cd /home/jupyter-amtsu/github/team22/library/theory/nginx_exemple"
   ]
  },
  {
   "cell_type": "code",
   "execution_count": null,
   "id": "23456cc7-24a7-41da-8455-b73162571e29",
   "metadata": {},
   "outputs": [],
   "source": []
  },
  {
   "cell_type": "markdown",
   "id": "bfaa8cc2-306a-4d77-906d-f4c5a1203978",
   "metadata": {},
   "source": [
    "# Запустим свой простой сервер с счетчиком запросов"
   ]
  },
  {
   "cell_type": "markdown",
   "id": "6a8660f6-9d2d-47eb-9c26-bd1d11305b7c",
   "metadata": {},
   "source": [
    "cd /home/jupyter-amtsu/github/team22/library/theory/flask_app_example"
   ]
  },
  {
   "cell_type": "markdown",
   "id": "2951f3c1-4c9a-4185-bb02-64d91572761a",
   "metadata": {},
   "source": [
    "#docker build -t flask_app_example ."
   ]
  },
  {
   "cell_type": "markdown",
   "id": "0359e9ef-35a2-4a2f-aa4c-31b335e0ee74",
   "metadata": {},
   "source": [
    "docker-compose up"
   ]
  },
  {
   "cell_type": "markdown",
   "id": "df152e50-58c4-4a5c-857b-2607f414ad71",
   "metadata": {},
   "source": [
    "docker ps"
   ]
  },
  {
   "cell_type": "markdown",
   "id": "eb0b46b6-613a-43df-9a79-d23f7d31666b",
   "metadata": {},
   "source": [
    "docker images"
   ]
  },
  {
   "cell_type": "markdown",
   "id": "621cfa7f-dfd0-4df3-9c74-8356621af03a",
   "metadata": {},
   "source": [
    "pwd"
   ]
  },
  {
   "cell_type": "code",
   "execution_count": null,
   "id": "3e7f16ca-9e72-4ac3-84a4-5a7bede10ee2",
   "metadata": {},
   "outputs": [],
   "source": []
  },
  {
   "cell_type": "markdown",
   "id": "e85e9166-229a-43a7-b306-ee73298804ed",
   "metadata": {},
   "source": [
    "# CHROME"
   ]
  },
  {
   "cell_type": "markdown",
   "id": "9e818a80-45ed-4f6c-acf0-5929a2007ec4",
   "metadata": {},
   "source": [
    "http://absda.ru:15000/"
   ]
  },
  {
   "cell_type": "code",
   "execution_count": null,
   "id": "4a5c896f-6f79-4b7c-8e0b-b6dd9e65e526",
   "metadata": {},
   "outputs": [],
   "source": []
  },
  {
   "cell_type": "markdown",
   "id": "92cf2bf8-b9bd-4d2d-8ac8-45bdf0ddc193",
   "metadata": {},
   "source": [
    "# CURL"
   ]
  },
  {
   "cell_type": "code",
   "execution_count": 11,
   "id": "c5e18100-6714-45b2-9145-92674deae51a",
   "metadata": {},
   "outputs": [
    {
     "name": "stdout",
     "output_type": "stream",
     "text": [
      "<br>AAEltsov\n",
      "<br>AAKesareva\n",
      "<br>ADBukreev\n",
      "<br>ADKazdym\n",
      "<br>Aldnoa19\n",
      "<br>ALZharin\n",
      "<br>AMAbduhanov\n",
      "<br>amtsu\n",
      "<br>andreev-aleksey\n",
      "<br>andreev-alexander\n",
      "<br>Andreyvolodinpro\n",
      "<br>Andromary\n",
      "<br>AndVlIv\n",
      "<br>AnnaMargolina\n",
      "<br>AnnMorozova676\n",
      "<br>anton-kuvalda\n",
      "<br>Anzhela-Volodina\n",
      "<br>arisova\n",
      "<br>AVGorbatenko\n",
      "<br>boberushka\n",
      "<br>cipperOK\n",
      "<br>deep4ik\n",
      "<br>dimer404\n",
      "<br>DN151991\n",
      "<br>drrryfox\n",
      "<br>EANabatov\n",
      "<br>EAWolkov\n",
      "<br>ekaterinacu\n",
      "<br>ERSaliev\n",
      "<br>find-y\n",
      "<br>il-62\n",
      "<br>irsalieva\n",
      "<br>IRSalieva\n",
      "<br>isergy\n",
      "<br>JATashpulatov\n",
      "<br>Jetfriday\n",
      "<br>jutkaris\n",
      "<br>koshakm5\n",
      "<br>mari-grisha\n",
      "<br>Mcroosh\n",
      "<br>misterdx\n",
      "<br>okorch\n",
      "<br>Optovik0\n",
      "<br>p1em4g\n",
      "<br>ParnishkaTony\n",
      "<br>ptdltt\n",
      "<br>PterOculus\n",
      "<br>Re-gi-na\n",
      "<br>RomanTarasov91\n",
      "<br>ruslanyunusov\n",
      "<br>ruslan-yusupov-open\n",
      "<br>SAMalcev\n",
      "<br>ScherbakovaTA\n",
      "<br>Sergey-1990\n",
      "<br>Slash3086\n",
      "<br>StasGri\n",
      "<br>SVAlekseyeva\n",
      "<br>ValliTim\n",
      "<br>theRate\n",
      "<br>VeraYohanga\n",
      "<br>VladimirVBykov\n",
      "<br>vssachenko\n",
      "<br>Rikacom\n"
     ]
    }
   ],
   "source": [
    "!curl http://absda.ru:15000/team22/users/base/team.html"
   ]
  },
  {
   "cell_type": "code",
   "execution_count": 26,
   "id": "ed4e66d6-e9ce-401f-b7ba-2e810e2a4c7d",
   "metadata": {},
   "outputs": [
    {
     "name": "stdout",
     "output_type": "stream",
     "text": [
      "This Compose/Flask demo has been viewed b'13' time(s)."
     ]
    }
   ],
   "source": [
    "!curl 127.0.0.1:15000"
   ]
  },
  {
   "cell_type": "code",
   "execution_count": 27,
   "id": "742a5950-b875-44b5-8285-f178e364b46a",
   "metadata": {},
   "outputs": [
    {
     "name": "stdout",
     "output_type": "stream",
     "text": [
      "*   Trying 127.0.0.1:15000...\n",
      "* TCP_NODELAY set\n",
      "* Connected to 127.0.0.1 (127.0.0.1) port 15000 (#0)\n",
      "> GET / HTTP/1.1\n",
      "> Host: 127.0.0.1:15000\n",
      "> User-Agent: curl/7.68.0\n",
      "> Accept: */*\n",
      "> \n",
      "* Mark bundle as not supporting multiuse\n",
      "< HTTP/1.1 200 OK\n",
      "< Server: Werkzeug/3.0.3 Python/3.12.3\n",
      "< Date: Wed, 12 Jun 2024 15:54:51 GMT\n",
      "< Content-Type: text/html; charset=utf-8\n",
      "< Content-Length: 54\n",
      "< Connection: close\n",
      "< \n",
      "* Closing connection 0\n",
      "This Compose/Flask demo has been viewed b'14' time(s)."
     ]
    }
   ],
   "source": [
    "!curl -v 127.0.0.1:15000"
   ]
  },
  {
   "cell_type": "code",
   "execution_count": null,
   "id": "af237a93-e6de-4e45-bbf6-ccd387784f73",
   "metadata": {},
   "outputs": [],
   "source": []
  },
  {
   "cell_type": "markdown",
   "id": "2a1669d8-71ac-450b-aff4-98480a531441",
   "metadata": {},
   "source": [
    "# Telnet"
   ]
  },
  {
   "cell_type": "markdown",
   "id": "4cec2667-6b8f-4101-bef0-64bec31603b8",
   "metadata": {},
   "source": [
    "telnet 127.0.0.1 15000"
   ]
  },
  {
   "cell_type": "markdown",
   "id": "6113acb3-a271-483b-bebb-978413cdd5c3",
   "metadata": {},
   "source": [
    "GET / HTTP/1.1"
   ]
  },
  {
   "cell_type": "markdown",
   "id": "b6c70436-5fa3-4c4b-b8ab-b12d6a8bdca0",
   "metadata": {},
   "source": [
    "User-Agent: curl/7.19.7 (x86_64-redhat-linux-gnu) libcurl/7.19.7 NSS/3.14.0.0 zlib/1.2.3 libidn/1.18 libssh2/1.4.2"
   ]
  },
  {
   "cell_type": "markdown",
   "id": "0609ef67-7469-4fc3-b78e-a03506a39cb2",
   "metadata": {},
   "source": [
    "Host: absda.ru"
   ]
  },
  {
   "cell_type": "markdown",
   "id": "385b5dc9-9792-47ed-b39c-c443d5302253",
   "metadata": {},
   "source": [
    "Accept: */*"
   ]
  },
  {
   "cell_type": "markdown",
   "id": "66eab809-7f97-40fc-b73f-3aa30662ece3",
   "metadata": {},
   "source": [
    "* 2 Enter - ввести 2 перевода строки"
   ]
  },
  {
   "cell_type": "code",
   "execution_count": null,
   "id": "35a439cf-f8aa-4b06-a6c7-762b0b111914",
   "metadata": {},
   "outputs": [],
   "source": []
  },
  {
   "cell_type": "markdown",
   "id": "a8394c20-58d8-4a98-b6c2-639283c194f0",
   "metadata": {},
   "source": [
    "# Задача"
   ]
  },
  {
   "cell_type": "markdown",
   "id": "313b3b13-b077-45ec-b0b7-c67de175d71f",
   "metadata": {},
   "source": [
    "* пришлите полные пути к папкам с вашими html страницами и логин из гит репозитория\n",
    "* попробуйте получить созданные вами станицы 3-мя способами (Бараузер, curl, telnet) по урлу http://absda.ru:15000/team22/users/ВАШ_ГИТ_ЛОГИ/ВАШ_ФАИЛ_С_РЕЗЮМЕ.html\n",
    "* внести сслыку на свою страницу с именем в фаил library/streams/2024/team.html\n",
    "* пройдите на страницу http://absda.ru:15000/team22/users/base/team.html и попробуйте перейти по ссылке\n",
    "  "
   ]
  },
  {
   "cell_type": "code",
   "execution_count": null,
   "id": "328ec185-6ff3-406d-8e04-431cb882920d",
   "metadata": {},
   "outputs": [],
   "source": []
  },
  {
   "cell_type": "markdown",
   "id": "9628fa7a-8a59-4356-9dbb-1f53a7b830d8",
   "metadata": {},
   "source": [
    "# Пробуем получить данные из внешеного источника"
   ]
  },
  {
   "cell_type": "code",
   "execution_count": 9,
   "id": "07686035-948a-4bfb-bd09-16df6e9f3d26",
   "metadata": {},
   "outputs": [
    {
     "ename": "SyntaxError",
     "evalue": "invalid syntax (4022094903.py, line 1)",
     "output_type": "error",
     "traceback": [
      "\u001b[0;36m  Cell \u001b[0;32mIn[9], line 1\u001b[0;36m\u001b[0m\n\u001b[0;31m    теперь можем поробовать перейти к разбору автоматическому\u001b[0m\n\u001b[0m           ^\u001b[0m\n\u001b[0;31mSyntaxError\u001b[0m\u001b[0;31m:\u001b[0m invalid syntax\n"
     ]
    }
   ],
   "source": [
    "теперь можем поробовать перейти к разбору автоматическому"
   ]
  },
  {
   "cell_type": "code",
   "execution_count": 4,
   "id": "eea7fd3e-8bef-4796-9704-72d6c7f6892f",
   "metadata": {},
   "outputs": [],
   "source": [
    "import re\n",
    "import urllib.request\n",
    "import urllib\n",
    "from bs4 import BeautifulSoup\n",
    "import json\n",
    "\n",
    "import time\n",
    "from pprint import pprint  # type: ignore"
   ]
  },
  {
   "cell_type": "code",
   "execution_count": 5,
   "id": "ff91b609-f4a7-4500-b5ec-93fc7d1b66d1",
   "metadata": {},
   "outputs": [],
   "source": [
    "#import openapi_client  # type: ignore\n",
    "#from openapi_client.apis.tags import history_api  # type: ignore\n",
    "#from openapi_client.model.history import History  # type: ignore\n",
    "#from openapi_client.model.paginated_history_list import PaginatedHistoryList  # type: ignore\n",
    "#from openapi_client.model.patched_history import PatchedHistory  # type: ignore"
   ]
  },
  {
   "cell_type": "code",
   "execution_count": 8,
   "id": "2a49a09a-244c-4745-976f-d7b8e8ec783d",
   "metadata": {},
   "outputs": [
    {
     "ename": "IndentationError",
     "evalue": "expected an indented block after class definition on line 33 (4055966137.py, line 34)",
     "output_type": "error",
     "traceback": [
      "\u001b[0;36m  Cell \u001b[0;32mIn[8], line 34\u001b[0;36m\u001b[0m\n\u001b[0;31m    self.__soup = BeautifulSoup(text_page, features=\"html.parser\")\u001b[0m\n\u001b[0m    ^\u001b[0m\n\u001b[0;31mIndentationError\u001b[0m\u001b[0;31m:\u001b[0m expected an indented block after class definition on line 33\n"
     ]
    }
   ],
   "source": [
    "\n",
    "\n",
    "\n",
    "        list_price_data = self.__soup.findAll(\"div\", class_=\"prices_for_popup\")\n",
    "        list_reports_data = list_price_data[0].find_all(\"div\", class_=\"price\")\n",
    "        element_1 = list_reports_data[0]\n",
    "\n",
    "        list_price_data = self.__soup.findAll(\"div\", class_=\"prices_for_popup\")\n",
    "        list_reports_data = list_price_data[0].find_all(\"div\", class_=\"price\")\n",
    "\n",
    "        price_bad = price_bad.replace(\"\\u2009\", \"\")  # ' '\n",
    "        price_bad = price_bad.replace(\"\\u20bd\", \"\")  # '₽'\n",
    "        price_bad = price_bad.replace(\" \", \"\")  # ' '\n",
    "\n",
    "        assert text.isnumeric()\n",
    "        int(text)\n",
    "\n",
    "        list_price_data = self.__soup.findAll(\"div\", class_=\"prices_for_popup\")\n",
    "        list_reports_data = list_price_data[0].find_all(\n",
    "            \"div\", class_=\"price price_disc\"\n",
    "        )\n",
    "        element_1 = list_reports_data[0]\n",
    "\n",
    "        list_price_data = self.__soup.findAll(\"div\", class_=\"prices_for_popup\")\n",
    "        list_reports_data = list_price_data[0].find_all(\n",
    "            \"div\", class_=\"price price_disc\"\n",
    "        )\n",
    "\n",
    "\n",
    "        list_reports_data = self.__soup.findAll(\"h2\")\n",
    "        element_1 = list_reports_data[0]\n",
    "  \n",
    "\n",
    "        list_reports_data = self.__soup.findAll(\"div\", class_=\"bread\")\n",
    "\n",
    "class OnePageProcessor:\n",
    "        self.__soup = BeautifulSoup(text_page, features=\"html.parser\")\n",
    "        self.__url = url\n",
    "        \n",
    "        [\n",
    "            {\n",
    "                \"title\": TitleElement(self.__soup).get(),\n",
    "                \"price\": PriceElement(self.__soup).get(),\n",
    "                \"price_sale\": PriceSaleElement(self.__soup).get(),\n",
    "                \"brand\": BrandElement(self.__soup).get(),\n",
    "                \"brand_url\": BrandUrlElement(self.__soup).get(),\n",
    "                \"image_url\": ImageUrlElement(self.__soup).get(),\n",
    "                \"url\": self.__url,\n",
    "                \"source_url\": self.__url,\n",
    "            }\n",
    "        ]\n",
    "\n",
    "\n",
    "class ListPageProcessor:\n",
    " \n",
    "        self.__soup = BeautifulSoup(text_page, features=\"html.parser\")\n",
    " \n",
    "        l = []\n",
    "        list_data = self.__soup.findAll(\"div\", class_=\"d-flat-list\")\n",
    "        for i in list_data:\n",
    "            d = i.find_all(\"a\", class_=\"d-flat-list__link\")\n",
    "            if not len(d):\n",
    "                continue \n",
    "            url = d[0][\"href\"]\n",
    "            title = ''\n",
    "            \n",
    "\n",
    "            d = i.find_all(\"div\", class_=\"d-flat-list__item _item3\")\n",
    "            if not len(d):\n",
    "                continue \n",
    "            #project = d[0].text\n",
    "            #kvartal = d[0].find_all(\"small\")[0].text\n",
    "            kvartal = d[0].small.extract().text\n",
    "            kvartal = kvartal.replace('\\n', '')\n",
    "\n",
    "            project = d[0].text\n",
    "            project = project.replace('\\n', '')\n",
    "            project = project.rstrip()\n",
    "      \n",
    "            source_url = self.__url\n",
    "            ee = {\n",
    "                    \n",
    "                    \"source_url\": source_url,\n",
    "                    #\"url\": url,\n",
    "                    \"url\": \"https://donstroy.moscow\" + url,\n",
    "                    \"price\": price,\n",
    "                    \"price_sale\": price_sale,\n",
    "                    \"quantity\": 1,\n",
    "                    \"datetime_create\": \"1970-01-01T00:00:00.00Z\",\n",
    "                    \"brand\": \"donstroy.moscow\",\n",
    "                    \"brand_url\": \"donstroy.moscow\",\n",
    "                    \"category\": \"Новостройки\",\n",
    "                    \"image_url\": image_plan,\n",
    "                    \"source_url\": source_url,\n",
    "                    \"apartment_area\": area,\n",
    "                    \"apartment_floor\": int(floor),\n",
    "                }\n",
    "\n",
    "\n",
    "            if floors:\n",
    "                ee[\"apartment_floors_total\"] = int(floors)\n",
    "            else:\n",
    "                print(\"not have floors_total in =\", source_url)\n",
    "                ee[\"apartment_floors_total\"] = None\n",
    "            l.append(ee)\n",
    "\n",
    "        return l\n",
    "\n",
    "\n",
    "    \n",
    "        for url in self.__url_list:\n",
    "            for i in range(1, 140):\n",
    "                r_url = url + str(i)\n",
    "                print(r_url)\n",
    "                req = urllib.request.Request(r_url)\n",
    "                req.add_header('user-agent', 'curl/8.4.0')\n",
    "                response = urllib.request.urlopen(req)\n",
    "                self.__page = response.read()\n",
    "                self.__list_page_processor = ListPageProcessor(self.__page, r_url)\n",
    "                for object_params in self.__list_page_processor.list_dict():\n",
    "                     self.__list_dict.append(object_params)\n"
   ]
  },
  {
   "cell_type": "code",
   "execution_count": null,
   "id": "df507607-f490-4c71-93af-e4cec469ef95",
   "metadata": {},
   "outputs": [],
   "source": []
  }
 ],
 "metadata": {
  "kernelspec": {
   "display_name": "Python 3 (ipykernel)",
   "language": "python",
   "name": "python3"
  },
  "language_info": {
   "codemirror_mode": {
    "name": "ipython",
    "version": 3
   },
   "file_extension": ".py",
   "mimetype": "text/x-python",
   "name": "python",
   "nbconvert_exporter": "python",
   "pygments_lexer": "ipython3",
   "version": "3.10.10"
  }
 },
 "nbformat": 4,
 "nbformat_minor": 5
}
