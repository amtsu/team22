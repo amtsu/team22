{
 "cells": [
  {
   "cell_type": "markdown",
   "id": "97a50bc9-6d62-4b7e-9107-f995ef57d82e",
   "metadata": {},
   "source": [
    "<ul>\n",
    "<li><a href=\"https://dzen.ru/b/ZO-SfCH-zAEt5yXU\"> коротко про ipython-sql</a>\n",
    "<li><a href=\"https://uproger.com/vypolnenie-sql-neposredstvenno-v-jupyter-notebook-s-pomoshhyu-ipython-sql/\">вторая ссылка, тоже коротко про ipython-sql</a>\n",
    "</ul>"
   ]
  },
  {
   "cell_type": "code",
   "execution_count": 13,
   "id": "088c8f54-bcf3-4446-a5a4-1deceb2fe9a2",
   "metadata": {},
   "outputs": [],
   "source": [
    "# это нужно сделать 1 раз - установить ipython-sql\n",
    "#!pip install ipython-sql"
   ]
  },
  {
   "cell_type": "code",
   "execution_count": 14,
   "id": "7a43b0e8-15ea-41a6-bd89-025cb7048c9a",
   "metadata": {},
   "outputs": [],
   "source": [
    "# ставлю релоад вместо лоад чтобы можно было перезапускать весь ноутбук. комментарий на отдельной строчке, по другому не надо\n",
    "%reload_ext sql \n",
    "%config SqlMagic.displaycon = False\n",
    "%config SqlMagic.feedback = False"
   ]
  },
  {
   "cell_type": "code",
   "execution_count": 15,
   "id": "bf0ee9dc-171f-4412-8ecc-e03fec473aef",
   "metadata": {},
   "outputs": [],
   "source": [
    "%sql sqlite:////home/synchronize_data/price_analytics/24.db.copied\n",
    "#%sql sqlite:///24.db.copied"
   ]
  },
  {
   "cell_type": "code",
   "execution_count": 16,
   "id": "f69004ff-11e7-4ff3-8859-1b9e20e440cc",
   "metadata": {},
   "outputs": [
    {
     "data": {
      "text/html": [
       "<table>\n",
       "    <thead>\n",
       "        <tr>\n",
       "            <th>id</th>\n",
       "            <th>title</th>\n",
       "            <th>price</th>\n",
       "            <th>price_sale</th>\n",
       "            <th>datetime_create</th>\n",
       "            <th>category</th>\n",
       "            <th>brand</th>\n",
       "            <th>url</th>\n",
       "            <th>apartment_area</th>\n",
       "            <th>apartment_floor</th>\n",
       "            <th>apartment_floors_total</th>\n",
       "            <th>apartment_room</th>\n",
       "            <th>apartment_ppm</th>\n",
       "        </tr>\n",
       "    </thead>\n",
       "    <tbody>\n",
       "        <tr>\n",
       "            <td>598</td>\n",
       "            <td>Причальный Bосток 29 65.3 Причальный пр., д. 8 55.76018,37.517482</td>\n",
       "            <td>37527037</td>\n",
       "            <td>26268925</td>\n",
       "            <td>2022-12-05 13:38:36.641439</td>\n",
       "            <td>Новостройки</td>\n",
       "            <td>level.ru</td>\n",
       "            <td>url_example</td>\n",
       "            <td>None</td>\n",
       "            <td>None</td>\n",
       "            <td>None</td>\n",
       "            <td>None</td>\n",
       "            <td>None</td>\n",
       "        </tr>\n",
       "        <tr>\n",
       "            <td>599</td>\n",
       "            <td>Саввинская 17 17 4 82.5  55.734600731695195,37.565715889000494</td>\n",
       "            <td>202359478</td>\n",
       "            <td>202359478</td>\n",
       "            <td>2022-12-05 13:38:36.652957</td>\n",
       "            <td>Новостройки</td>\n",
       "            <td>level.ru</td>\n",
       "            <td>url_example</td>\n",
       "            <td>None</td>\n",
       "            <td>None</td>\n",
       "            <td>None</td>\n",
       "            <td>None</td>\n",
       "            <td>None</td>\n",
       "        </tr>\n",
       "    </tbody>\n",
       "</table>"
      ],
      "text/plain": [
       "[(598, 'Причальный Bосток 29 65.3 Причальный пр., д. 8 55.76018,37.517482', 37527037, 26268925, '2022-12-05 13:38:36.641439', 'Новостройки', 'level.ru', 'url_example', None, None, None, None, None),\n",
       " (599, 'Саввинская 17 17 4 82.5  55.734600731695195,37.565715889000494', 202359478, 202359478, '2022-12-05 13:38:36.652957', 'Новостройки', 'level.ru', 'url_example', None, None, None, None, None)]"
      ]
     },
     "execution_count": 16,
     "metadata": {},
     "output_type": "execute_result"
    }
   ],
   "source": [
    "#далее можно вот так писать sql запросы и даже передавать результаты их выполнения в переменные - смотрите по ссылке вверху этого ноутбука\n",
    "%sql SELECT * from copied WHERE id<600"
   ]
  },
  {
   "cell_type": "code",
   "execution_count": null,
   "id": "197a02ea-a25c-4e43-a2e0-b06abc3bf7d5",
   "metadata": {},
   "outputs": [],
   "source": []
  },
  {
   "cell_type": "code",
   "execution_count": null,
   "id": "50de53f8-8fa5-4a27-8db0-4f299656fc47",
   "metadata": {},
   "outputs": [],
   "source": []
  }
 ],
 "metadata": {
  "kernelspec": {
   "display_name": "Python 3 (ipykernel)",
   "language": "python",
   "name": "python3"
  },
  "language_info": {
   "codemirror_mode": {
    "name": "ipython",
    "version": 3
   },
   "file_extension": ".py",
   "mimetype": "text/x-python",
   "name": "python",
   "nbconvert_exporter": "python",
   "pygments_lexer": "ipython3",
   "version": "3.10.10"
  }
 },
 "nbformat": 4,
 "nbformat_minor": 5
}
