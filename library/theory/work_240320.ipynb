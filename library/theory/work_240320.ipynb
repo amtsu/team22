{
 "cells": [
  {
   "cell_type": "markdown",
   "id": "06454804-ecbe-4ec4-b720-942a2bc219c4",
   "metadata": {},
   "source": []
  },
  {
   "cell_type": "code",
   "execution_count": 11,
   "id": "29a8aa39-9d76-4df5-961d-58433adf7a91",
   "metadata": {},
   "outputs": [],
   "source": [
    "fruts = ['apple', 'orange', 'lemon']"
   ]
  },
  {
   "cell_type": "code",
   "execution_count": 12,
   "id": "6dfbe6d5-800f-4549-bfb1-d51b8017b6d6",
   "metadata": {
    "scrolled": true
   },
   "outputs": [
    {
     "name": "stdout",
     "output_type": "stream",
     "text": [
      "apple\n",
      "orange\n",
      "lemon\n"
     ]
    }
   ],
   "source": [
    "for frut in fruts:\n",
    "    print(frut)"
   ]
  },
  {
   "cell_type": "code",
   "execution_count": 13,
   "id": "c9c30c06-faf5-4ea4-8309-8aba67cc2129",
   "metadata": {},
   "outputs": [
    {
     "name": "stdout",
     "output_type": "stream",
     "text": [
      "яблоко есть\n"
     ]
    }
   ],
   "source": [
    "for frut in fruts:\n",
    "    if frut == 'apple':\n",
    "        print('яблоко есть')"
   ]
  },
  {
   "cell_type": "code",
   "execution_count": 14,
   "id": "f5095e26-5aff-4588-83a5-bc91e4e51121",
   "metadata": {},
   "outputs": [],
   "source": [
    "fruts2 = ['гранат', 'груша', 'orange', 'lemon']"
   ]
  },
  {
   "cell_type": "code",
   "execution_count": 15,
   "id": "330c4940-7649-4b73-8659-a239bf0d3689",
   "metadata": {},
   "outputs": [],
   "source": [
    "for frut in fruts2:\n",
    "    if frut == 'apple':\n",
    "        print('яблоко есть')"
   ]
  },
  {
   "cell_type": "code",
   "execution_count": 26,
   "id": "e95df8a6-6457-47d6-8b52-58420bddb0d7",
   "metadata": {},
   "outputs": [],
   "source": [
    "fruts3 = ['гранат', 'груша', 'orange', 'lemon','apple','apple']"
   ]
  },
  {
   "cell_type": "code",
   "execution_count": 30,
   "id": "21e4a3d1-5bcd-4f2a-a219-b299a90b955f",
   "metadata": {},
   "outputs": [
    {
     "name": "stdout",
     "output_type": "stream",
     "text": [
      "яблоко есть\n",
      "яблоко есть\n",
      "яблоко есть\n"
     ]
    }
   ],
   "source": [
    "def fruts_x(spisok):\n",
    "    #spisok = []\n",
    "    for frut in spisok:\n",
    "        if frut == 'apple':\n",
    "            #print(frut)\n",
    "            print('яблоко есть')\n",
    "\n",
    "fruts_x(fruts)\n",
    "fruts_x(fruts2)\n",
    "fruts_x(fruts3)"
   ]
  },
  {
   "cell_type": "code",
   "execution_count": 32,
   "id": "04a3f8bf-8cc9-4b37-ab17-308430628978",
   "metadata": {},
   "outputs": [
    {
     "name": "stdout",
     "output_type": "stream",
     "text": [
      "яблоко есть\n",
      "---\n",
      "---\n"
     ]
    },
    {
     "data": {
      "text/plain": [
       "0"
      ]
     },
     "execution_count": 32,
     "metadata": {},
     "output_type": "execute_result"
    }
   ],
   "source": [
    "# написать функцию котрая врзращает 1 елит в корзине есть яблок и 0 если в корхине нет яблок\n",
    "# Вся задача - напечать яблоко есть если в крозине есть яблоки\n",
    "\n",
    "# Проговрить названеи функции\n",
    "\n",
    "# Сделать 2 функцию\n",
    "\n",
    "\n",
    "def fruts_x(spisok):\n",
    "    for frut in spisok:\n",
    "        if frut == 'apple':\n",
    "            print('яблоко есть')\n",
    "            return 1\n",
    "        else:\n",
    "            return 0\n",
    "    \n",
    "fruts_x(fruts)\n",
    "print('---')\n",
    "fruts_x(fruts2)\n",
    "print('---')\n",
    "fruts_x(fruts3)"
   ]
  },
  {
   "cell_type": "code",
   "execution_count": 37,
   "id": "1daad2ba-0277-4ab3-873e-c94f2b8691f4",
   "metadata": {},
   "outputs": [
    {
     "name": "stdout",
     "output_type": "stream",
     "text": [
      "яблоко есть\n",
      "---\n",
      "---\n",
      "яблоко есть\n",
      "---\n",
      "---\n"
     ]
    },
    {
     "data": {
      "text/plain": [
       "1"
      ]
     },
     "execution_count": 37,
     "metadata": {},
     "output_type": "execute_result"
    }
   ],
   "source": [
    "fruts = ['apple', 'orange', 'lemon']\n",
    "fruts2 = ['гранат', 'груша', 'orange', 'lemon']\n",
    "fruts3 = ['гранат', 'груша', 'orange', 'lemon','apple','apple']\n",
    "\n",
    "def fruts_x(spisok):\n",
    "    for frut in spisok:\n",
    "        if frut == 'apple':\n",
    "            return 1\n",
    "    return 0\n",
    "\n",
    "def fruts_y(x):\n",
    "    if fruts_x(x) == 1:\n",
    "        print('яблоко есть')\n",
    "\n",
    "fruts_y(fruts)\n",
    "print('---')\n",
    "fruts_y(fruts2)\n",
    "print('---')\n",
    "fruts_y(fruts3)\n",
    "\n",
    "\n",
    "fruts_x(fruts)\n",
    "print('---')\n",
    "fruts_x(fruts2)\n",
    "print('---')\n",
    "fruts_x(fruts3)"
   ]
  },
  {
   "cell_type": "code",
   "execution_count": 40,
   "id": "2aee31f2-2891-4cb7-a784-ebcfea9ab6b6",
   "metadata": {},
   "outputs": [
    {
     "name": "stdout",
     "output_type": "stream",
     "text": [
      "яблоко есть\n",
      "---\n",
      "---\n",
      "яблоко есть\n"
     ]
    },
    {
     "data": {
      "text/plain": [
       "True"
      ]
     },
     "execution_count": 40,
     "metadata": {},
     "output_type": "execute_result"
    }
   ],
   "source": [
    "#is_apple (is-number)\n",
    "#has_\n",
    "#apple_search()\n",
    "#find_apple()\n",
    "\n",
    "def has_apple_basket(basket):\n",
    "    for frut in basket:\n",
    "        if frut == 'apple':\n",
    "            print('яблоко есть')\n",
    "            return True\n",
    "    return False\n",
    "    \n",
    "has_apple_basket(fruts)\n",
    "print('---')\n",
    "has_apple_basket(fruts2)\n",
    "print('---')\n",
    "has_apple_basket(fruts3)"
   ]
  },
  {
   "cell_type": "code",
   "execution_count": 38,
   "id": "826b8566-7357-4057-be85-f9f932c90b87",
   "metadata": {},
   "outputs": [],
   "source": [
    "# статсика покупо"
   ]
  },
  {
   "cell_type": "code",
   "execution_count": 70,
   "id": "adb5c92a-a895-46c0-a0af-4ce579ef108f",
   "metadata": {},
   "outputs": [],
   "source": [
    "purchases = {\n",
    "    'iphone 12': 1000,\n",
    "    'чехол': 10,\n",
    "    'cofe': 1,\n",
    "}\n"
   ]
  },
  {
   "cell_type": "code",
   "execution_count": 42,
   "id": "f35cae37-7b0a-4237-b536-938f842c4676",
   "metadata": {},
   "outputs": [],
   "source": [
    "# посчитать общую сумму наших трат"
   ]
  },
  {
   "cell_type": "code",
   "execution_count": 61,
   "id": "34b90e61-3c5a-4568-9fd7-abf341e9c879",
   "metadata": {},
   "outputs": [],
   "source": [
    "def sum_purchases(purchases):\n",
    "    sum = 0\n",
    "    for key in purchases.values():\n",
    "        #print(sum)\n",
    "        #print(key)\n",
    "        sum = sum + key\n",
    "    return sum\n",
    "\n",
    "sum_purchases(purchases)\n",
    "\n",
    "def test_sum_purchases():\n",
    "    purchases = {\n",
    "        'iphone 12': 1000,\n",
    "        'чехол': 10,\n",
    "        'cofe': 1,\n",
    "    }\n",
    "    assert sum_purchases(purchases) == 1011\n",
    "\n",
    "test_sum_purchases()\n",
    "\n",
    "def test_sum_purchases_2():\n",
    "    purchases = {\n",
    "        'apple': 1,\n",
    "        'lemon': 1,\n",
    "    }\n",
    "    assert sum_purchases(purchases) == 2\n",
    "\n",
    "test_sum_purchases_2()\n",
    "\n",
    "def test_sum_purchases_3():\n",
    "    purchases = {\n",
    "        'apple': -1,\n",
    "        'lemon': -1,\n",
    "    }\n",
    "    assert sum_purchases(purchases) == -2\n",
    "\n",
    "test_sum_purchases_3()\n",
    "\n",
    "def test_sum_purchases_4():\n",
    "    purchases = {\n",
    "    }\n",
    "    assert sum_purchases(purchases) == 0\n",
    "\n",
    "test_sum_purchases_4()"
   ]
  },
  {
   "cell_type": "code",
   "execution_count": 65,
   "id": "ee3de329-99e4-46c3-be1e-ca1fe5cbfa03",
   "metadata": {},
   "outputs": [],
   "source": [
    "def mean_purchases(purchases):\n",
    "    sum = 0\n",
    "    counter = 0\n",
    "    for key in purchases.values():\n",
    "        sum = sum + key\n",
    "        counter += 1\n",
    "    return sum / counter\n",
    "\n",
    "def test_mean_purchases():\n",
    "    purchases = {\n",
    "        'iphone 12': 1000,\n",
    "        'чехол': 10,\n",
    "        'cofe': 1,\n",
    "    }\n",
    "    assert mean_purchases(purchases) == 337\n",
    "\n",
    "test_mean_purchases()"
   ]
  },
  {
   "cell_type": "code",
   "execution_count": 94,
   "id": "73a6d625-2069-4638-8cab-2a55aec5a127",
   "metadata": {},
   "outputs": [
    {
     "data": {
      "text/plain": [
       "'iphone 12'"
      ]
     },
     "execution_count": 94,
     "metadata": {},
     "output_type": "execute_result"
    }
   ],
   "source": [
    "def most_expensive_purchase(purchases):\n",
    "    return max(purchases, key=purchases.get)\n",
    "\n",
    "most_expensive_purchase(purchases)\n"
   ]
  },
  {
   "cell_type": "code",
   "execution_count": 96,
   "id": "02e312ed-f08f-4f46-935c-e3b2123fbfe6",
   "metadata": {},
   "outputs": [
    {
     "data": {
      "text/plain": [
       "'iphone 12'"
      ]
     },
     "execution_count": 96,
     "metadata": {},
     "output_type": "execute_result"
    }
   ],
   "source": [
    "def most_expensive_purchase(purchases):\n",
    "    max_value = None\n",
    "    for item, value in purchases.items():\n",
    "        if max_value is None or value > max_value:\n",
    "            max_value = value\n",
    "            max_item = item\n",
    "    return max_item\n",
    "\n",
    "most_expensive_purchase(purchases)"
   ]
  },
  {
   "cell_type": "code",
   "execution_count": 66,
   "id": "72f63cbf-532e-4f3a-aa66-8265e250ecc4",
   "metadata": {},
   "outputs": [],
   "source": [
    "# максимальная стоимость покупки"
   ]
  },
  {
   "cell_type": "code",
   "execution_count": 71,
   "id": "08c76ea9-3ca5-4043-8862-c1e4105cb7ec",
   "metadata": {},
   "outputs": [
    {
     "name": "stdout",
     "output_type": "stream",
     "text": [
      "1000\n"
     ]
    }
   ],
   "source": [
    "def max_purchases(dict):\n",
    "    x = 0\n",
    "    for key in dict.values():\n",
    "        if x < key:\n",
    "            x = key\n",
    "    return x\n",
    "\n",
    "print(max_purchases(purchases))"
   ]
  },
  {
   "cell_type": "code",
   "execution_count": 72,
   "id": "e93f3be8-500d-47a6-97a9-823b9886658e",
   "metadata": {},
   "outputs": [],
   "source": [
    "# вохрачщает самую дрогую покупу "
   ]
  },
  {
   "cell_type": "code",
   "execution_count": 73,
   "id": "52921ab9-3d3b-4dee-80b2-d25f8c5bf2e8",
   "metadata": {},
   "outputs": [
    {
     "data": {
      "text/plain": [
       "'iphone 12'"
      ]
     },
     "execution_count": 73,
     "metadata": {},
     "output_type": "execute_result"
    }
   ],
   "source": [
    "def expensiv_purchas(dict):\n",
    "    max_value = 0\n",
    "    for key, value in dict.items():\n",
    "        if max_value < value:\n",
    "            max_value = value\n",
    "\n",
    "    for key, value in dict.items():\n",
    "        if value == max_value:\n",
    "            return key\n",
    "\n",
    "expensiv_purchas(purchases)"
   ]
  },
  {
   "cell_type": "code",
   "execution_count": 79,
   "id": "2bb11092-77eb-400f-af8d-b2c46bf25493",
   "metadata": {},
   "outputs": [
    {
     "name": "stdout",
     "output_type": "stream",
     "text": [
      "iphone 12\n"
     ]
    }
   ],
   "source": [
    "def expensiv_purchas(dict):\n",
    "    max_value = 0\n",
    "    max_p = ''\n",
    "    for key, value in dict.items():\n",
    "        if max_value < value:\n",
    "            max_value = value\n",
    "            max_p = key\n",
    "\n",
    "    return max_p\n",
    "    \n",
    "print(expensiv_purchas(purchases))"
   ]
  },
  {
   "cell_type": "code",
   "execution_count": 81,
   "id": "1b9609f0-44cf-4414-bca3-84246a8e2f67",
   "metadata": {},
   "outputs": [
    {
     "data": {
      "text/plain": [
       "['iphone 12', 'samsung']"
      ]
     },
     "execution_count": 81,
     "metadata": {},
     "output_type": "execute_result"
    }
   ],
   "source": [
    "purchases = {\n",
    "    'iphone 12': 1000,\n",
    "    'samsung': 1000,\n",
    "    'чехол': 10,\n",
    "    'cofe': 1,\n",
    "}\n",
    "\n",
    "\n",
    "def expensiv_purchas(dict):\n",
    "    max_value = 0\n",
    "    for key, value in dict.items():\n",
    "        if max_value < value:\n",
    "            max_value = value\n",
    "\n",
    "    max_p = []\n",
    "    for key, value in dict.items():\n",
    "        if value == max_value:\n",
    "            max_p.append(key)\n",
    "    return max_p\n",
    "\n",
    "expensiv_purchas(purchases)"
   ]
  },
  {
   "cell_type": "code",
   "execution_count": 82,
   "id": "d2a5926b-dcee-495a-8161-7ec45bfae791",
   "metadata": {},
   "outputs": [
    {
     "name": "stdout",
     "output_type": "stream",
     "text": [
      "ВСЁ ГЛАЗЕЛ НА НИХ\n",
      "САКУРЫ ЦВЕТЫ, ПОКА\n",
      "ШЕЮ НЕ СВЕЛО\n"
     ]
    }
   ],
   "source": [
    "\n",
    "a_haiku = [\"Всё глазел на них\",\n",
    "\"Сакуры цветы, пока\",\n",
    "\"Шею не свело\"]\n",
    "\n",
    "\n",
    "\n",
    "\n",
    "def print_haiku_upper(haiku):\n",
    "    for line in haiku:\n",
    "        line = line.upper()\n",
    "        print(line)\n",
    "\n",
    "print_haiku_upper(a_haiku)"
   ]
  },
  {
   "cell_type": "code",
   "execution_count": 88,
   "id": "29248a2e-fe2e-4434-a831-2dfe7f8aec99",
   "metadata": {},
   "outputs": [],
   "source": [
    "def print_haiku_upper(haiku):\n",
    "    hai = []\n",
    "    for line in haiku:\n",
    "        line = line.upper()\n",
    "        hai.append(line)\n",
    "    return hai\n",
    "\n",
    "def test_print_haiku_upper():\n",
    "    a_haiku = [\"Всё глазел на них\",\n",
    "        \"Сакуры цветы, пока\",\n",
    "        \"Шею не свело\"]\n",
    "\n",
    "    result = ['ВСЁ ГЛАЗЕЛ НА НИХ',\n",
    "        'САКУРЫ ЦВЕТЫ, ПОКА',\n",
    "        'ШЕЮ НЕ СВЕЛО']\n",
    "    assert print_haiku_upper(a_haiku) == result\n",
    "\n",
    "test_print_haiku_upper()"
   ]
  },
  {
   "cell_type": "code",
   "execution_count": 92,
   "id": "196adc33-53df-48b9-82ae-d6c1a8e25457",
   "metadata": {},
   "outputs": [
    {
     "name": "stdout",
     "output_type": "stream",
     "text": [
      "\u001b[31m Всё глазел на них\n",
      "\u001b[31m Сакуры цветы, пока\n",
      "\u001b[31m Шею не свело\n"
     ]
    }
   ],
   "source": [
    "a_haiku = [\"Всё глазел на них\",\n",
    "\"Сакуры цветы, пока\",\n",
    "\"Шею не свело\"]\n",
    "\n",
    "def print_haiku_red(haiku):\n",
    "    color_text = []\n",
    "    for line in haiku:\n",
    "        color_text.append( (\"\\033[31m {}\", line))\n",
    "    return color_text\n",
    "\n",
    "def clor(a_haiku):\n",
    "    for i in print_haiku_red(a_haiku):\n",
    "        print(i[0] .format(i[1]))\n",
    "\n",
    "clor(a_haiku)\n",
    "#print_haiku_red(a_haiku)\n",
    "\n",
    "\n",
    "def test_print_haiku_upper():\n",
    "    a_haiku = [\"Всё глазел на них\",\n",
    "        \"Сакуры цветы, пока\",\n",
    "        \"Шею не свело\"]\n",
    "\n",
    "    result = ['ВСЁ ГЛАЗЕЛ НА НИХ',\n",
    "        'САКУРЫ ЦВЕТЫ, ПОКА',\n",
    "        'ШЕЮ НЕ СВЕЛО']\n",
    "    assert print_haiku_upper(a_haiku) == result\n",
    "\n",
    "test_print_haiku_upper()"
   ]
  },
  {
   "cell_type": "code",
   "execution_count": null,
   "id": "fbeb12dd-cc92-4dad-b37a-b11d3eb432e0",
   "metadata": {},
   "outputs": [],
   "source": []
  }
 ],
 "metadata": {
  "kernelspec": {
   "display_name": "Python 3 (ipykernel)",
   "language": "python",
   "name": "python3"
  },
  "language_info": {
   "codemirror_mode": {
    "name": "ipython",
    "version": 3
   },
   "file_extension": ".py",
   "mimetype": "text/x-python",
   "name": "python",
   "nbconvert_exporter": "python",
   "pygments_lexer": "ipython3",
   "version": "3.10.10"
  }
 },
 "nbformat": 4,
 "nbformat_minor": 5
}
