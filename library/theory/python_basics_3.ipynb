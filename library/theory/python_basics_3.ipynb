{
 "cells": [
  {
   "cell_type": "markdown",
   "metadata": {},
   "source": [
    "# Функции"
   ]
  },
  {
   "cell_type": "markdown",
   "metadata": {},
   "source": [
    "Мы ранее рассматривали циклы, то есть наборы операторов, выполняемые повторно несколько раз до достижения некоторого условия остановки. \n",
    "\n",
    "a = [1,2,6,9,12]  \n",
    "print(a[0])  \n",
    "print(a[1])  \n",
    "print(a[2])  \n",
    "print(a[3])  \n",
    "print(a[4])  \n",
    "\n",
    "в цикле  \n",
    "a = [1,2,6,9,12]  \n",
    "for i in a:  \n",
    "  print(i)  \n",
    "\n",
    "\n",
    "Это позволяет избежать дублирования кода.\n",
    "\n",
    "Но что, если какие-то повторяющиеся действия нужно выполнить не циклически, а в разных местах программы?"
   ]
  },
  {
   "cell_type": "markdown",
   "metadata": {},
   "source": [
    "Например, предположим, что нам нужно просуммировать все элементы двух списков list1 и list2. Мы можем реализовать это с помощью двух одинаковых алгоритмов."
   ]
  },
  {
   "cell_type": "code",
   "execution_count": 3,
   "metadata": {},
   "outputs": [
    {
     "name": "stdout",
     "output_type": "stream",
     "text": [
      "10\n",
      "26\n"
     ]
    }
   ],
   "source": [
    "list1 = [1,2,3,4]\n",
    "summ = 0\n",
    "for x in list1:\n",
    "    summ = summ + x\n",
    "print(summ)\n",
    "\n",
    "list2 = [5,6,7,8]\n",
    "summ = 0\n",
    "for x in list2:\n",
    "    summ = summ + x\n",
    "print(summ)"
   ]
  },
  {
   "cell_type": "markdown",
   "metadata": {},
   "source": [
    "- Но рациональнее оформить повторяющийся фрагмент кода в виде функции, а суммируемый список передавать ей в качестве аргумента.\n",
    "- Плюсы такого подхода:\n",
    " - отсутствует дублирование кода;\n",
    " - в случае изменения алгоритма суммирования нужно внести изменение только в одном месте кода;\n",
    " - логически понятная организация кода."
   ]
  },
  {
   "cell_type": "code",
   "execution_count": 4,
   "metadata": {},
   "outputs": [
    {
     "name": "stdout",
     "output_type": "stream",
     "text": [
      "10\n",
      "summ_l_2 = 26\n"
     ]
    }
   ],
   "source": [
    "def sum_of_list(some_list):\n",
    "    summ = 0\n",
    "    for x in some_list:\n",
    "        summ = summ + x\n",
    "    #print(summ)\n",
    "    return summ\n",
    "\n",
    "list1 = [1,2,3,4]\n",
    "list2 = [5,6,7,8]\n",
    "\n",
    "print(sum_of_list(list1))\n",
    "\n",
    "summ_list_2 = sum_of_list(list2)\n",
    "print(\"summ_l_2 =\", summ_list_2)\n",
    "\n",
    "#j = summ_list_2 * 10\n",
    "#print(j)"
   ]
  },
  {
   "cell_type": "markdown",
   "metadata": {},
   "source": [
    "# не явное поведенеи"
   ]
  },
  {
   "cell_type": "code",
   "execution_count": 35,
   "metadata": {},
   "outputs": [
    {
     "name": "stdout",
     "output_type": "stream",
     "text": [
      "2\n",
      "[1, 2, 4]\n"
     ]
    }
   ],
   "source": [
    "def h(list_new):\n",
    "    # НЕ ЯВНОЕ ПОВЕДЕНИЕ\n",
    "    list_new[2] += 1\n",
    "    pass\n",
    "    return list_new[1]\n",
    "\n",
    "l2 = [1,2,3]\n",
    "k = h(l2)\n",
    "print(k)\n",
    "print(l2)"
   ]
  },
  {
   "cell_type": "code",
   "execution_count": 34,
   "metadata": {},
   "outputs": [
    {
     "name": "stdout",
     "output_type": "stream",
     "text": [
      "2\n",
      "[1, 2, 3]\n",
      "[1, 2, 4]\n"
     ]
    }
   ],
   "source": [
    "def h(list_new):\n",
    "    # НЕ ЯВНОЕ ПОВЕДЕНИЕ\n",
    "    list_new[2] += 1\n",
    "    pass\n",
    "    return list_new[1]\n",
    "\n",
    "def h_good(list_new):\n",
    "    # явное поведение\n",
    "    list_new_2 = list_new[:]\n",
    "    list_new_2[2] += 1\n",
    "    return list_new[1], list_new_2\n",
    "\n",
    "l2 = [1,2,3]\n",
    "k, l3 = h_good(l2)\n",
    "print(k)\n",
    "print(l2)\n",
    "print(l3)"
   ]
  },
  {
   "cell_type": "code",
   "execution_count": null,
   "metadata": {},
   "outputs": [],
   "source": []
  },
  {
   "cell_type": "markdown",
   "metadata": {},
   "source": [
    "- И так что же такое функции в программировании?\n",
    "- Функция – это автономный участок кода, выполняющий некоторые действия и возвращающий результат вычислений.\n",
    "- Мы уже сталкивались с функциями. Например, len() – функция, подсчитывающая длину списка или строки."
   ]
  },
  {
   "cell_type": "code",
   "execution_count": 6,
   "metadata": {},
   "outputs": [
    {
     "name": "stdout",
     "output_type": "stream",
     "text": [
      "4\n"
     ]
    }
   ],
   "source": [
    "print(len(list1))"
   ]
  },
  {
   "cell_type": "markdown",
   "metadata": {},
   "source": [
    "- Функции в программировании похожи на функции в математике. Математические функции обозначаются следующим образом, например: f(x)=x^2\n",
    "- Соответствующую функцию в программе Python можно определить с помощью следующего синтаксиса:\n",
    " - def f(x):  \n",
    "   -    return x ** 2  \n",
    " - где:  \n",
    "    def - ключевое слова которое говорит питону что дальше идет описание функции  \n",
    "    f - имя функции  \n",
    "    x - аргумент, указывается в крглых скобках после имени функции  \n",
    "    ' ' - отсуп после описания функции означет что идущий ниже код принадлежит данной функции  \n",
    "    return - оператор вощварта значения\n"
   ]
  },
  {
   "cell_type": "markdown",
   "metadata": {},
   "source": [
    "- Ключевое слово def (от англ. define) сообщает Python, что начинается определение функции.  \n",
    "- После def указывается имя функции; имя функции должно отвечать тем же правилам, что и имена переменных.\n",
    "После имени функции указываются круглые скобки, в которых перечисляются параметры. После скобок ставится двоеточие, а новая строка начинается с отступа. Любой код с отступом после двоеточия является телом функции. Возвращаемое значение обозначается ключевым словом return.  \n",
    "- В нашем примере мы определили функцию, которая возводит переданный аргумент в квадрат."
   ]
  },
  {
   "cell_type": "markdown",
   "metadata": {},
   "source": [
    "Определенная таким образом функция сохраняется под именем f.\n",
    "- Ее можно вызывать многократно в любом месте программы и передавать любые аргументы. Для этого нужно напсиать имя функции и указать в крглых скобках с какими параметрами ее вызвать чтобы она отработал. \n",
    "- Сейчас вызовим функцию f с параметром 4\n",
    " - f(4) "
   ]
  },
  {
   "cell_type": "code",
   "execution_count": 7,
   "metadata": {},
   "outputs": [
    {
     "data": {
      "text/plain": [
       "16"
      ]
     },
     "execution_count": 7,
     "metadata": {},
     "output_type": "execute_result"
    }
   ],
   "source": [
    "def f(x):  \n",
    "    return x ** 2 \n",
    "f(4)"
   ]
  },
  {
   "cell_type": "code",
   "execution_count": 8,
   "metadata": {},
   "outputs": [
    {
     "name": "stdout",
     "output_type": "stream",
     "text": [
      "1\n",
      "4\n",
      "9\n"
     ]
    }
   ],
   "source": [
    "for k in [1,2,3]:\n",
    "    print(f(k))"
   ]
  },
  {
   "cell_type": "code",
   "execution_count": 9,
   "metadata": {},
   "outputs": [
    {
     "name": "stdout",
     "output_type": "stream",
     "text": [
      "169\n"
     ]
    }
   ],
   "source": [
    "n = 10\n",
    "if f(n) + f(2 * n) > 100:\n",
    "    print(f(n + 3))"
   ]
  },
  {
   "cell_type": "markdown",
   "metadata": {},
   "source": [
    "Чтобы определить функцию, не требующую параметров, нужно оставить круглые скобки пустыми.\n",
    "- Вызов такой функции также производится с пустыми скобками."
   ]
  },
  {
   "cell_type": "code",
   "execution_count": 16,
   "metadata": {},
   "outputs": [
    {
     "name": "stdout",
     "output_type": "stream",
     "text": [
      "hello\n"
     ]
    }
   ],
   "source": [
    "def tell_hello():\n",
    "    print(\"hello\")\n",
    "\n",
    "tell_hello()"
   ]
  },
  {
   "cell_type": "code",
   "execution_count": 13,
   "metadata": {},
   "outputs": [
    {
     "name": "stdout",
     "output_type": "stream",
     "text": [
      "hello\n"
     ]
    }
   ],
   "source": [
    "tell_hello()"
   ]
  },
  {
   "cell_type": "markdown",
   "metadata": {},
   "source": [
    "Чтобы определить функцию, которая принимает больше одного параметра, нужно отделить каждый параметр в скобках запятой."
   ]
  },
  {
   "cell_type": "code",
   "execution_count": 17,
   "metadata": {},
   "outputs": [],
   "source": [
    "def sum_three(x, y, z):\n",
    "    return x + y + z"
   ]
  },
  {
   "cell_type": "code",
   "execution_count": 18,
   "metadata": {},
   "outputs": [
    {
     "name": "stdout",
     "output_type": "stream",
     "text": [
      "6\n"
     ]
    }
   ],
   "source": [
    "s = sum_three(1, 2, 3)\n",
    "print(s)"
   ]
  },
  {
   "cell_type": "markdown",
   "metadata": {},
   "source": [
    "Число переданных при вызове функции параметров должно совпадать с числом аргументов функции. Если они не совпадают, будет выведено сообщение об ошибке."
   ]
  },
  {
   "cell_type": "code",
   "execution_count": 19,
   "metadata": {},
   "outputs": [
    {
     "ename": "TypeError",
     "evalue": "f() missing 1 required positional argument: 'x'",
     "output_type": "error",
     "traceback": [
      "\u001b[0;31m---------------------------------------------------------------------------\u001b[0m",
      "\u001b[0;31mTypeError\u001b[0m                                 Traceback (most recent call last)",
      "Cell \u001b[0;32mIn[19], line 2\u001b[0m\n\u001b[1;32m      1\u001b[0m \u001b[38;5;66;03m# 0 вместо 1\u001b[39;00m\n\u001b[0;32m----> 2\u001b[0m \u001b[43mf\u001b[49m\u001b[43m(\u001b[49m\u001b[43m)\u001b[49m\n",
      "\u001b[0;31mTypeError\u001b[0m: f() missing 1 required positional argument: 'x'"
     ]
    }
   ],
   "source": [
    "# 0 вместо 1\n",
    "f()"
   ]
  },
  {
   "cell_type": "code",
   "execution_count": 20,
   "metadata": {},
   "outputs": [
    {
     "ename": "TypeError",
     "evalue": "f() takes 1 positional argument but 2 were given",
     "output_type": "error",
     "traceback": [
      "\u001b[0;31m---------------------------------------------------------------------------\u001b[0m",
      "\u001b[0;31mTypeError\u001b[0m                                 Traceback (most recent call last)",
      "Cell \u001b[0;32mIn[20], line 2\u001b[0m\n\u001b[1;32m      1\u001b[0m \u001b[38;5;66;03m# 2 вместо 1\u001b[39;00m\n\u001b[0;32m----> 2\u001b[0m \u001b[43mf\u001b[49m\u001b[43m(\u001b[49m\u001b[38;5;241;43m1\u001b[39;49m\u001b[43m,\u001b[49m\u001b[43m \u001b[49m\u001b[38;5;241;43m2\u001b[39;49m\u001b[43m)\u001b[49m\n",
      "\u001b[0;31mTypeError\u001b[0m: f() takes 1 positional argument but 2 were given"
     ]
    }
   ],
   "source": [
    "# 2 вместо 1\n",
    "f(1, 2)"
   ]
  },
  {
   "cell_type": "markdown",
   "metadata": {},
   "source": [
    "Функция не обязана содержать инструкцию return. Если функции нечего возвращать, она возвращает специальное значение None (пустая ссылка, пустое значение)."
   ]
  },
  {
   "cell_type": "code",
   "execution_count": 21,
   "metadata": {},
   "outputs": [
    {
     "name": "stdout",
     "output_type": "stream",
     "text": [
      "None\n"
     ]
    }
   ],
   "source": [
    "def calculate_nothing(x, y):\n",
    "    x = 4\n",
    "    u = 5\n",
    "#    return None\n",
    "    \n",
    "print(calculate_nothing(1, 4))"
   ]
  },
  {
   "cell_type": "markdown",
   "metadata": {},
   "source": [
    "Функция может вернуть несколько значений. В этом случае возвращаемые значения перечисляются через запятую, а результат работы функции помещается в кортеж.\n",
    "- Пример: функция принимает в качестве аргумента число n и возвращает четыре значения: n, n2, n3, n4."
   ]
  },
  {
   "cell_type": "code",
   "execution_count": null,
   "metadata": {},
   "outputs": [],
   "source": [
    "def powers(n):\n",
    "    return n, n ** 2, n ** 3, n ** 4\n",
    "\n",
    "print(powers(2))"
   ]
  },
  {
   "cell_type": "markdown",
   "metadata": {},
   "source": [
    "# Упражнения"
   ]
  },
  {
   "cell_type": "markdown",
   "metadata": {},
   "source": [
    "Написать функцию, которая превращает любую переданную ей строку в такую же строку, записанную два раза."
   ]
  },
  {
   "cell_type": "code",
   "execution_count": null,
   "metadata": {},
   "outputs": [],
   "source": [
    "def double_string(string):\n",
    "    return string * 2\n",
    "\n",
    "print(double_string(\"asdf\"))"
   ]
  },
  {
   "cell_type": "markdown",
   "metadata": {},
   "source": [
    "Сделать в предыдущей задаче так, чтобы два повторения строки разделялись пробелами."
   ]
  },
  {
   "cell_type": "code",
   "execution_count": null,
   "metadata": {},
   "outputs": [],
   "source": [
    "def double_string(string):\n",
    "    return string + \" \" + string\n",
    "\n",
    "#print(double_string(\"asdf\"), end=\", \")\n",
    "print(double_string(\"asdf\"))"
   ]
  },
  {
   "cell_type": "code",
   "execution_count": null,
   "metadata": {},
   "outputs": [],
   "source": [
    "def double_string(string):\n",
    "    return ' '.join([string]*2)\n",
    "\n",
    "st = double_string(\"asdf\")\n",
    "print(st)\n",
    "list_new = st.split('sd')\n",
    "print(list_new)"
   ]
  },
  {
   "cell_type": "code",
   "execution_count": null,
   "metadata": {},
   "outputs": [],
   "source": []
  },
  {
   "cell_type": "markdown",
   "metadata": {},
   "source": [
    "Реализовать функцию, вычисляющую сумму квадратов двух переданных ей аргументов."
   ]
  },
  {
   "cell_type": "code",
   "execution_count": null,
   "metadata": {},
   "outputs": [],
   "source": [
    "def a(x, y):\n",
    "    return x**2 + y**2\n",
    "\n",
    "print(a(1,2))"
   ]
  },
  {
   "cell_type": "markdown",
   "metadata": {},
   "source": [
    "Реализовать функцию, вычисляющую длину гипотенузы прямоугольного треугольника. Параметры – длины катетов."
   ]
  },
  {
   "cell_type": "code",
   "execution_count": 11,
   "metadata": {},
   "outputs": [
    {
     "name": "stdout",
     "output_type": "stream",
     "text": [
      "5.0\n"
     ]
    }
   ],
   "source": [
    "#katit_1 = float(input())\n",
    "#katit_2 = float(input())\n",
    "\n",
    "katit_1 = 3\n",
    "katit_2 = 4\n",
    "\n",
    "#gip = 0\n",
    "def gipotinuza(katit_temp_1, katit_temp_2):\n",
    "    gip = (katit_temp_1**2 + katit_temp_2**2)**0.5\n",
    "    return gip\n",
    "\n",
    "gip = gipotinuza(katit_1, katit_2)\n",
    "\n",
    "print(gip)"
   ]
  },
  {
   "cell_type": "markdown",
   "metadata": {},
   "source": [
    "Перепешите функцию из предыдущего задания используя следующие воодные:\n",
    "- Указание: для вычисления квадратного корня можно возвести число в степень 0,5.\n",
    "- Можно использовать функцию, написанную в предыдущей задаче."
   ]
  },
  {
   "cell_type": "code",
   "execution_count": null,
   "metadata": {},
   "outputs": [],
   "source": [
    "#"
   ]
  },
  {
   "cell_type": "markdown",
   "metadata": {},
   "source": [
    "Написать функцию arithmetic, принимающую 3 аргумента: первые два - числа, третий - операция, которая должна быть произведена над ними вохзращать результат операции.\n",
    "- Если третий аргумент равен ‘+’, сложить их; ‘—’ -вычесть; ‘*’ — умножить; ‘/’ — разделить. В остальных случаях вернуть строку \"Неизвестная операция\".\n",
    "- Ожидаемый результат:"
   ]
  },
  {
   "cell_type": "code",
   "execution_count": 29,
   "metadata": {},
   "outputs": [
    {
     "data": {
      "text/plain": [
       "0.5"
      ]
     },
     "execution_count": 29,
     "metadata": {},
     "output_type": "execute_result"
    }
   ],
   "source": [
    "#a = 1\n",
    "#b = 2\n",
    "#c = '+','-','*', '/'\n",
    "def arithmetic(a, b, c):\n",
    "    if c == '+':\n",
    "        d = a + b\n",
    "    elif c == '-':\n",
    "        d = a - b\n",
    "    elif c == '*':\n",
    "        d = a * b\n",
    "    elif c == '/':\n",
    "        d = a / b\n",
    "    else:\n",
    "        d = 'dont now'\n",
    "        \n",
    "    return d\n",
    "\n",
    "arithmetic(1,2,'/')"
   ]
  },
  {
   "cell_type": "markdown",
   "metadata": {},
   "source": [
    "Написать функцию square_parameters, принимающую 1 аргумент — сторону квадрата, и возвращающую 3 значения: периметр квадрата, площадь квадрата и диагональ квадрата."
   ]
  },
  {
   "cell_type": "code",
   "execution_count": 30,
   "metadata": {},
   "outputs": [
    {
     "name": "stdout",
     "output_type": "stream",
     "text": [
      "(20, 25, 7.0710678118654755)\n"
     ]
    }
   ],
   "source": [
    "def square_parameters(arg):\n",
    "    if arg > 0:\n",
    "        perim = 4 * arg\n",
    "        sq = arg ** 2\n",
    "        diag = (arg ** 2 + arg ** 2) ** 0.5\n",
    "        return perim, sq, diag\n",
    "    else:\n",
    "        print('у нас не квадрат а точка')\n",
    "\n",
    "a = 5\n",
    "print(square_parameters(a))"
   ]
  },
  {
   "cell_type": "markdown",
   "metadata": {},
   "source": [
    "Написать функцию is_prime, принимающую 1 аргумент — число, и определяющее, простое оно или составное.\n",
    "- Простые числа делятся без остатка только на 1 и на самого себя. Если число делится без остатка на какое-то другое число, то оно составное."
   ]
  },
  {
   "cell_type": "code",
   "execution_count": null,
   "metadata": {},
   "outputs": [],
   "source": [
    "#"
   ]
  },
  {
   "cell_type": "markdown",
   "metadata": {},
   "source": [
    "Написать функцию is_palindrome, принимающую 1 аргумент — строку (без пробелов, строчные буквы), и определяющее, является ли она палиндромом, т.е. читается одинаково слева направо и справа налево. Если да, вернуть True, иначе False."
   ]
  },
  {
   "cell_type": "code",
   "execution_count": null,
   "metadata": {},
   "outputs": [],
   "source": [
    "#"
   ]
  },
  {
   "cell_type": "markdown",
   "metadata": {},
   "source": [
    "Как решить предыдущую задачу с помощью срезов?"
   ]
  },
  {
   "cell_type": "code",
   "execution_count": null,
   "metadata": {},
   "outputs": [],
   "source": [
    "#"
   ]
  },
  {
   "cell_type": "markdown",
   "metadata": {},
   "source": [
    "Как решить предыдущую задачу если сразу вернуть результат?"
   ]
  },
  {
   "cell_type": "code",
   "execution_count": null,
   "metadata": {},
   "outputs": [],
   "source": [
    "#"
   ]
  },
  {
   "cell_type": "markdown",
   "metadata": {},
   "source": [
    "Усовершенствовать предыдущую функцию, чтобы проверяемая строка могла содержать пробелы, а также прописные и строчные буквы.\n",
    "- Кидал в зубра арбуз Владик"
   ]
  },
  {
   "cell_type": "code",
   "execution_count": null,
   "metadata": {},
   "outputs": [],
   "source": []
  },
  {
   "cell_type": "markdown",
   "metadata": {},
   "source": [
    "Написать функцию которая возводит число в 3тью степень."
   ]
  },
  {
   "cell_type": "code",
   "execution_count": null,
   "metadata": {},
   "outputs": [],
   "source": []
  },
  {
   "cell_type": "markdown",
   "metadata": {},
   "source": [
    "Написать функцию которая возводит в кватрат ( проверить для числа 3 и -3 результаты) Что думает про тесты?"
   ]
  },
  {
   "cell_type": "code",
   "execution_count": null,
   "metadata": {},
   "outputs": [],
   "source": []
  },
  {
   "cell_type": "markdown",
   "metadata": {},
   "source": [
    "Написать функцию котороая принимает строку и число, и обрезает строку:\n",
    "- до указаннрой длинны если длина строки менье числа\n",
    "- удваивает строку, если длина строки равна числу\n",
    "- если больше то берет остаток от деления числа на строку и обрезает до этой длины"
   ]
  },
  {
   "cell_type": "code",
   "execution_count": null,
   "metadata": {},
   "outputs": [],
   "source": []
  },
  {
   "cell_type": "code",
   "execution_count": null,
   "metadata": {},
   "outputs": [],
   "source": []
  },
  {
   "cell_type": "code",
   "execution_count": null,
   "metadata": {},
   "outputs": [],
   "source": []
  },
  {
   "cell_type": "markdown",
   "metadata": {},
   "source": [
    "Написать функцию которая возводит число в 3тью степень."
   ]
  },
  {
   "cell_type": "code",
   "execution_count": null,
   "metadata": {},
   "outputs": [],
   "source": []
  },
  {
   "cell_type": "markdown",
   "metadata": {},
   "source": [
    "Написать функцию которая возводит в кватрат ( проверить для числа 3 и -3 результаты) Что думает про тесты?"
   ]
  },
  {
   "cell_type": "code",
   "execution_count": null,
   "metadata": {},
   "outputs": [],
   "source": []
  },
  {
   "cell_type": "markdown",
   "metadata": {},
   "source": [
    "Написать функцию котороая принимает строку и число, и обрезает строку:\n",
    "- до указаннрой длинны если длина строки менье числа\n",
    "- удваивает строку, если длина строки равна числу\n",
    "- если больше то берет остаток от деления числа на строку и обрезает до этой длины"
   ]
  },
  {
   "cell_type": "code",
   "execution_count": null,
   "metadata": {},
   "outputs": [],
   "source": []
  },
  {
   "cell_type": "code",
   "execution_count": null,
   "metadata": {},
   "outputs": [],
   "source": []
  },
  {
   "cell_type": "code",
   "execution_count": null,
   "metadata": {},
   "outputs": [],
   "source": []
  },
  {
   "cell_type": "markdown",
   "metadata": {},
   "source": [
    "# функции которая вызывает функцимю"
   ]
  },
  {
   "cell_type": "code",
   "execution_count": 1,
   "metadata": {},
   "outputs": [
    {
     "data": {
      "text/plain": [
       "'a a,b b,c c'"
      ]
     },
     "execution_count": 1,
     "metadata": {},
     "output_type": "execute_result"
    }
   ],
   "source": [
    "def double_string(string):\n",
    "    return ' '.join([string]*2)\n",
    "\n",
    "def join_3(str1, str2, str3):\n",
    "    return ','.join([double_string(str1),  double_string(str2), double_string(str3)])\n",
    "\n",
    "join_3('a','b','c')"
   ]
  },
  {
   "cell_type": "code",
   "execution_count": 3,
   "metadata": {},
   "outputs": [],
   "source": []
  },
  {
   "cell_type": "code",
   "execution_count": 6,
   "metadata": {},
   "outputs": [
    {
     "name": "stdout",
     "output_type": "stream",
     "text": [
      "5 4\n",
      "1 2\n",
      "1 2\n"
     ]
    },
    {
     "data": {
      "text/plain": [
       "6"
      ]
     },
     "execution_count": 6,
     "metadata": {},
     "output_type": "execute_result"
    }
   ],
   "source": [
    "dlina_t = 5\n",
    "shirina_t = 4\n",
    "\n",
    "def sqred(dlina_t, shirina_t):\n",
    "    return dlina_t * shirina_t\n",
    "\n",
    "def obem(dlina, shirina, visota):\n",
    "    return sqred(dlina, shirina) * visota\n",
    "\n",
    "obem(1,2,3)"
   ]
  },
  {
   "cell_type": "code",
   "execution_count": 7,
   "metadata": {},
   "outputs": [
    {
     "name": "stdout",
     "output_type": "stream",
     "text": [
      "5 4\n",
      "1 2\n",
      "6 9\n",
      "1 2\n"
     ]
    },
    {
     "data": {
      "text/plain": [
       "2"
      ]
     },
     "execution_count": 7,
     "metadata": {},
     "output_type": "execute_result"
    }
   ],
   "source": []
  },
  {
   "cell_type": "markdown",
   "metadata": {},
   "source": [
    "# Вложенные функции"
   ]
  },
  {
   "cell_type": "code",
   "execution_count": null,
   "metadata": {},
   "outputs": [],
   "source": [
    "def join_3(str1, str2, str3):\n",
    "    def double_string(string):\n",
    "        return ' '.join([string]*2)\n",
    "    return ','.join([double_string(str1),  double_string(str2), double_string(str3)])\n",
    "\n",
    "for i in range(3):\n",
    "    print(join_3('a','b','c'))"
   ]
  },
  {
   "cell_type": "markdown",
   "metadata": {},
   "source": [
    "# Рекурсии"
   ]
  },
  {
   "cell_type": "markdown",
   "metadata": {},
   "source": [
    " Рекурсия — определение, описание, изображение какого-либо объекта или процесса внутри самого этого объекта или процесса, то есть ситуация, когда объект является частью самого себя. Термин «рекурсия» используется в различных специальных областях знаний — от лингвистики до логики, но наиболее широкое применение находит в математике и информатике."
   ]
  },
  {
   "cell_type": "code",
   "execution_count": 8,
   "metadata": {},
   "outputs": [],
   "source": [
    "# Зеркала в лифте\n",
    "# матрешка\n",
    "# чтобы понять рекурсию нуюно понять рекурсию"
   ]
  },
  {
   "cell_type": "code",
   "execution_count": 10,
   "metadata": {},
   "outputs": [],
   "source": [
    "def factorial(n):\n",
    "    if n == 0:\n",
    "        return 1\n",
    "    else:\n",
    "        return n * factorial(n - 1)"
   ]
  },
  {
   "cell_type": "code",
   "execution_count": 11,
   "metadata": {},
   "outputs": [
    {
     "data": {
      "text/plain": [
       "24"
      ]
     },
     "execution_count": 11,
     "metadata": {},
     "output_type": "execute_result"
    }
   ],
   "source": [
    "factorial(4)\n",
    "# 4 * 3 * 2 * 1"
   ]
  },
  {
   "cell_type": "markdown",
   "metadata": {},
   "source": [
    "### Хвостовая рекурсия"
   ]
  },
  {
   "cell_type": "code",
   "execution_count": null,
   "metadata": {},
   "outputs": [],
   "source": []
  },
  {
   "cell_type": "code",
   "execution_count": null,
   "metadata": {},
   "outputs": [],
   "source": []
  },
  {
   "cell_type": "markdown",
   "metadata": {},
   "source": [
    "# Исключения в языках программирования"
   ]
  },
  {
   "cell_type": "markdown",
   "metadata": {},
   "source": [
    "Исключениями (exceptions) в языках программирования называют проблемы, возникающие в ходе выполнения программы. Типичными примерами исключений являются деление на ноль, невозможность считать данные из файла (устройства), отсутствие доступной памяти, обращение к неинициализированной переменной или функции и т.д.. Для обработки таких ситуаций в языках программирования, как правило, предусматривается специальный механизм, который называется обработка исключений (exception handling)."
   ]
  },
  {
   "cell_type": "markdown",
   "metadata": {},
   "source": [
    "Ошибки и исключения в Python\n",
    "- В Python выделяют два различных вида ошибок: синтаксические ошибки и исключения.\n",
    "- Синтаксические ошибки возникают в случае, если программа написана с нарушениями требований Python к синтаксису. Определяются они в процессе работы интерпретатора."
   ]
  },
  {
   "cell_type": "code",
   "execution_count": 12,
   "metadata": {},
   "outputs": [
    {
     "ename": "SyntaxError",
     "evalue": "invalid syntax (3922265901.py, line 1)",
     "output_type": "error",
     "traceback": [
      "\u001b[0;36m  Cell \u001b[0;32mIn[12], line 1\u001b[0;36m\u001b[0m\n\u001b[0;31m    while True print(\"Hello\")\u001b[0m\n\u001b[0m               ^\u001b[0m\n\u001b[0;31mSyntaxError\u001b[0m\u001b[0;31m:\u001b[0m invalid syntax\n"
     ]
    }
   ],
   "source": [
    "while True print(\"Hello\")"
   ]
  },
  {
   "cell_type": "markdown",
   "metadata": {},
   "source": [
    "Исключения в Python\n",
    "- Второй вид ошибок – это исключения. Они возникают в случае, если синтаксически программа корректна, но в процессе выполнения возникает ошибка (деление на ноль, вызов неопределенной функции и т.п.).\n",
    "- Пример исключения - ZeroDivisionError, которое возникает при попытке деления на 0."
   ]
  },
  {
   "cell_type": "code",
   "execution_count": 13,
   "metadata": {},
   "outputs": [
    {
     "ename": "ZeroDivisionError",
     "evalue": "division by zero",
     "output_type": "error",
     "traceback": [
      "\u001b[0;31m---------------------------------------------------------------------------\u001b[0m",
      "\u001b[0;31mZeroDivisionError\u001b[0m                         Traceback (most recent call last)",
      "Cell \u001b[0;32mIn[13], line 1\u001b[0m\n\u001b[0;32m----> 1\u001b[0m \u001b[38;5;241;43m100\u001b[39;49m\u001b[43m \u001b[49m\u001b[38;5;241;43m/\u001b[39;49m\u001b[43m \u001b[49m\u001b[38;5;241;43m0\u001b[39;49m\n",
      "\u001b[0;31mZeroDivisionError\u001b[0m: division by zero"
     ]
    }
   ],
   "source": [
    "100 / 0"
   ]
  },
  {
   "cell_type": "markdown",
   "metadata": {},
   "source": [
    "- В случае исключения работа программы останавливается."
   ]
  },
  {
   "cell_type": "markdown",
   "metadata": {},
   "source": [
    "# Упражнение"
   ]
  },
  {
   "cell_type": "markdown",
   "metadata": {},
   "source": [
    "Создать телефонный справочник на основе словаря Python."
   ]
  },
  {
   "cell_type": "code",
   "execution_count": 14,
   "metadata": {},
   "outputs": [],
   "source": [
    "phone = {'Petya': '01', 'Vova': '02'}"
   ]
  },
  {
   "cell_type": "markdown",
   "metadata": {},
   "source": [
    "Попробовать найти в этом справочнике несуществующее имя. Исследовать полученное исключение."
   ]
  },
  {
   "cell_type": "code",
   "execution_count": 15,
   "metadata": {},
   "outputs": [
    {
     "data": {
      "text/plain": [
       "'01'"
      ]
     },
     "execution_count": 15,
     "metadata": {},
     "output_type": "execute_result"
    }
   ],
   "source": [
    "phone['Petya']"
   ]
  },
  {
   "cell_type": "code",
   "execution_count": 16,
   "metadata": {},
   "outputs": [
    {
     "ename": "KeyError",
     "evalue": "'Kate'",
     "output_type": "error",
     "traceback": [
      "\u001b[0;31m---------------------------------------------------------------------------\u001b[0m",
      "\u001b[0;31mKeyError\u001b[0m                                  Traceback (most recent call last)",
      "Cell \u001b[0;32mIn[16], line 1\u001b[0m\n\u001b[0;32m----> 1\u001b[0m \u001b[43mphone\u001b[49m\u001b[43m[\u001b[49m\u001b[38;5;124;43m'\u001b[39;49m\u001b[38;5;124;43mKate\u001b[39;49m\u001b[38;5;124;43m'\u001b[39;49m\u001b[43m]\u001b[49m\n",
      "\u001b[0;31mKeyError\u001b[0m: 'Kate'"
     ]
    }
   ],
   "source": [
    "phone['Kate']"
   ]
  },
  {
   "cell_type": "markdown",
   "metadata": {},
   "source": [
    "# Обработка исключений"
   ]
  },
  {
   "cell_type": "markdown",
   "metadata": {},
   "source": [
    "- Конечный пользователь программы не должен видеть сообщений об ошибках и диагностических сообщений.\n",
    "- Обработка исключений нужна для того, чтобы приложение не завершалось аварийно каждый раз, когда возникает исключение. Для этого блок кода, в котором возможно появление исключительной ситуации, необходимо поместить во внутрь синтаксической конструкции  \n",
    "try ... except.\n",
    "- В простейшем случае обработчик исключений может быть определен следующим образом."
   ]
  },
  {
   "cell_type": "code",
   "execution_count": 20,
   "metadata": {},
   "outputs": [
    {
     "name": "stdout",
     "output_type": "stream",
     "text": [
      "Нельзя делить на ноль\n"
     ]
    }
   ],
   "source": [
    "try:\n",
    "    100 / 0\n",
    "    print('ok')\n",
    "except:\n",
    "    print(\"Нельзя делить на ноль\")"
   ]
  },
  {
   "cell_type": "markdown",
   "metadata": {},
   "source": [
    "Однако такой способ обработки (с оператором except без параметров) не рекомендуется использовать на практике. Причина заключается в том, что нет способа разграничить различные типы исключений."
   ]
  },
  {
   "cell_type": "code",
   "execution_count": null,
   "metadata": {},
   "outputs": [],
   "source": []
  },
  {
   "cell_type": "code",
   "execution_count": 21,
   "metadata": {},
   "outputs": [
    {
     "name": "stdout",
     "output_type": "stream",
     "text": [
      "Нельзя делить на ноль\n"
     ]
    }
   ],
   "source": [
    "try:\n",
    "    x = [4, 2, 8]\n",
    "    x[10]\n",
    "    1 / 0\n",
    "except:\n",
    "    print(\"Нельзя делить на ноль\")"
   ]
  },
  {
   "cell_type": "markdown",
   "metadata": {},
   "source": [
    "### На самом деле произошел IndexError"
   ]
  },
  {
   "cell_type": "code",
   "execution_count": null,
   "metadata": {},
   "outputs": [],
   "source": [
    "x = [4, 2, 8]\n",
    "x[10]\n",
    "1 / 0"
   ]
  },
  {
   "cell_type": "markdown",
   "metadata": {},
   "source": [
    "# Типы исключений\n",
    "- Python имеет встроенное разграничение типов ошибок и позволяет определять свой обработчик для каждого типа ошибки, которая может возникнуть в теле ветки try."
   ]
  },
  {
   "cell_type": "code",
   "execution_count": 26,
   "metadata": {},
   "outputs": [],
   "source": [
    "try:\n",
    "    x = [4, 2, 8]\n",
    "    x[10]\n",
    "    1 / 0\n",
    "except IndexError:\n",
    "    print(\"Выход за пределы массива\")\n",
    "except ZeroDivisionError:\n",
    "    print(\"Нельзя делить на ноль\")"
   ]
  },
  {
   "cell_type": "markdown",
   "metadata": {},
   "source": [
    "- Если в теле try исключения не возникает, то тело ветки except не выполняется."
   ]
  },
  {
   "cell_type": "markdown",
   "metadata": {},
   "source": [
    " Несколько исключений можно сгруппировать в одну ветку и обработать совместно. Также объект пойманного исключения можно присвоить переменной при помощи оператора as:"
   ]
  },
  {
   "cell_type": "code",
   "execution_count": 31,
   "metadata": {},
   "outputs": [
    {
     "name": "stdout",
     "output_type": "stream",
     "text": [
      "Ошибка\n",
      "<class 'TypeError'>\n",
      "'str' object does not support item assignment\n"
     ]
    }
   ],
   "source": [
    "try:\n",
    "    \"abc\"[1] = \"d\"\n",
    "    [4,2,8][10]\n",
    "    1 / 0\n",
    "except (IndexError, ZeroDivisionError, TypeError) as exception:\n",
    "    print(\"Ошибка\")\n",
    "    print(exception.__class__)\n",
    "    print(exception)\n",
    "    #dddd = exception.__class__"
   ]
  },
  {
   "cell_type": "code",
   "execution_count": 34,
   "metadata": {},
   "outputs": [
    {
     "name": "stdout",
     "output_type": "stream",
     "text": [
      "Ошибка\n",
      "<class 'TypeError'>\n",
      "'str' object does not support item assignment\n"
     ]
    }
   ],
   "source": [
    "try:\n",
    "    \"abc\"[1] = \"d\"\n",
    "    [4,2,8][10]\n",
    "    1 / 0\n",
    "except Exception as  exception:\n",
    "    print(\"Ошибка\")\n",
    "    print(exception.__class__)\n",
    "    print(exception)\n",
    "    #dddd = exception.__class__"
   ]
  },
  {
   "cell_type": "code",
   "execution_count": 28,
   "metadata": {},
   "outputs": [
    {
     "ename": "TypeError",
     "evalue": "'str' object does not support item assignment",
     "output_type": "error",
     "traceback": [
      "\u001b[0;31m---------------------------------------------------------------------------\u001b[0m",
      "\u001b[0;31mTypeError\u001b[0m                                 Traceback (most recent call last)",
      "Cell \u001b[0;32mIn[28], line 1\u001b[0m\n\u001b[0;32m----> 1\u001b[0m \u001b[38;5;124;43m\"\u001b[39;49m\u001b[38;5;124;43mabc\u001b[39;49m\u001b[38;5;124;43m\"\u001b[39;49m\u001b[43m[\u001b[49m\u001b[38;5;241;43m1\u001b[39;49m\u001b[43m]\u001b[49m \u001b[38;5;241m=\u001b[39m \u001b[38;5;124m\"\u001b[39m\u001b[38;5;124md\u001b[39m\u001b[38;5;124m\"\u001b[39m\n",
      "\u001b[0;31mTypeError\u001b[0m: 'str' object does not support item assignment"
     ]
    }
   ],
   "source": [
    "\"abc\"[1] = \"d\""
   ]
  },
  {
   "cell_type": "markdown",
   "metadata": {},
   "source": [
    "# Упражнение"
   ]
  },
  {
   "cell_type": "markdown",
   "metadata": {},
   "source": [
    "- Реализовать телефонный справочник, который выводит сообщение «Такого имени нет» при попытке найти несуществующее имя.\n",
    "- Ввод имени пользователем реализуется функцией input()."
   ]
  },
  {
   "cell_type": "code",
   "execution_count": 37,
   "metadata": {},
   "outputs": [
    {
     "name": "stdin",
     "output_type": "stream",
     "text": [
      "введите значение 33\n"
     ]
    },
    {
     "name": "stdout",
     "output_type": "stream",
     "text": [
      "333333\n"
     ]
    }
   ],
   "source": [
    "a1 = input('введите значение')\n",
    "print(a1 * 3)"
   ]
  },
  {
   "cell_type": "code",
   "execution_count": 38,
   "metadata": {},
   "outputs": [
    {
     "name": "stdout",
     "output_type": "stream",
     "text": [
      "33\n"
     ]
    }
   ],
   "source": [
    "print(a1)"
   ]
  },
  {
   "cell_type": "code",
   "execution_count": 39,
   "metadata": {},
   "outputs": [
    {
     "name": "stdin",
     "output_type": "stream",
     "text": [
      "введите имя 333\n"
     ]
    },
    {
     "name": "stdout",
     "output_type": "stream",
     "text": [
      "Такого имени нет\n"
     ]
    }
   ],
   "source": [
    "d = {'Petya': '01', 'Vasya': '02'}\n",
    "name = input('введите имя')\n",
    "\n",
    "try:\n",
    "    print(d[name])\n",
    "except KeyError:\n",
    "    print('Такого имени нет')"
   ]
  },
  {
   "cell_type": "code",
   "execution_count": null,
   "metadata": {},
   "outputs": [],
   "source": [
    "print(d[name])"
   ]
  },
  {
   "cell_type": "code",
   "execution_count": 44,
   "metadata": {},
   "outputs": [
    {
     "name": "stdin",
     "output_type": "stream",
     "text": [
      "введите имя ddd\n"
     ]
    },
    {
     "name": "stdout",
     "output_type": "stream",
     "text": [
      "None\n"
     ]
    }
   ],
   "source": [
    "# пример как работать без исключений с словарме\n",
    "d = {'Petya': '01', 'Vasya': '02'}\n",
    "name = input('введите имя')\n",
    "\n",
    "print(d.get(name))"
   ]
  },
  {
   "cell_type": "markdown",
   "metadata": {},
   "source": [
    "# Типы исключений\n",
    "Все возможные типы исключений Python организованы в виде иерархии. Ряд исключений (SystemExit, KeyboardInterrupt, GeneratorExit) являются системными, т.е. их не рекомендуется обрабатывать. Остальные исключения наследуют от класса Exception, их можно обрабатывать в своих программах. На диаграмме показаны наиболее употребительные типы исключений."
   ]
  },
  {
   "attachments": {
    "%D0%A1%D0%BD%D0%B8%D0%BC%D0%BE%D0%BA%20%D1%8D%D0%BA%D1%80%D0%B0%D0%BD%D0%B0%202023-01-25%20%D0%B2%2017.27.08.png": {
     "image/png": "[encoded data removed]"
    }
   },
   "cell_type": "markdown",
   "metadata": {},
   "source": [
    "![%D0%A1%D0%BD%D0%B8%D0%BC%D0%BE%D0%BA%20%D1%8D%D0%BA%D1%80%D0%B0%D0%BD%D0%B0%202023-01-25%20%D0%B2%2017.27.08.png](attachment:%D0%A1%D0%BD%D0%B8%D0%BC%D0%BE%D0%BA%20%D1%8D%D0%BA%D1%80%D0%B0%D0%BD%D0%B0%202023-01-25%20%D0%B2%2017.27.08.png)"
   ]
  },
  {
   "cell_type": "markdown",
   "metadata": {},
   "source": [
    "# Операторы finally и else"
   ]
  },
  {
   "cell_type": "markdown",
   "metadata": {},
   "source": [
    "У оператора обработки исключений, кроме except, могут быть еще опциональные ветки finally и else.\n",
    "- Тело finally выполняется всегда, независимо от того, выполнялись ли блоки except в ответ на возникшие исключения или нет.\n",
    "- Тело else сработает, если исключений в try не было, т. е. не было переходов на блоки except.  \n",
    "\n",
    "В реальных приложениях ветка finally полезна для освобождения внешних ресурсов (таких как файлы или сетевые соединения), независимо от того, было ли использование ресурса успешным."
   ]
  },
  {
   "cell_type": "code",
   "execution_count": 46,
   "metadata": {},
   "outputs": [
    {
     "name": "stdin",
     "output_type": "stream",
     "text": [
      "Введите целое число:  уууу\n"
     ]
    },
    {
     "name": "stdout",
     "output_type": "stream",
     "text": [
      "Вы ввели не целое число\n",
      "Закончили программу\n",
      "ok\n"
     ]
    }
   ],
   "source": [
    "try:\n",
    "    n = input('Введите целое число: ')\n",
    "    n = int(n)\n",
    "except ValueError:\n",
    "    print('Вы ввели не целое число')\n",
    "else: # выполняется если в блоке трай не возникло исключений\n",
    "    print('Вы ввели целое число')\n",
    "finally: # выполняется в любом случае\n",
    "    print('Закончили программу')   \n",
    "print('ok')"
   ]
  },
  {
   "cell_type": "code",
   "execution_count": 48,
   "metadata": {},
   "outputs": [
    {
     "name": "stdin",
     "output_type": "stream",
     "text": [
      "Введите целое число:  ававаа\n"
     ]
    },
    {
     "ename": "ValueError",
     "evalue": "invalid literal for int() with base 10: 'ававаа'",
     "output_type": "error",
     "traceback": [
      "\u001b[0;31m---------------------------------------------------------------------------\u001b[0m",
      "\u001b[0;31mValueError\u001b[0m                                Traceback (most recent call last)",
      "Cell \u001b[0;32mIn[48], line 2\u001b[0m\n\u001b[1;32m      1\u001b[0m n \u001b[38;5;241m=\u001b[39m \u001b[38;5;28minput\u001b[39m(\u001b[38;5;124m'\u001b[39m\u001b[38;5;124mВведите целое число: \u001b[39m\u001b[38;5;124m'\u001b[39m)\n\u001b[0;32m----> 2\u001b[0m n \u001b[38;5;241m=\u001b[39m \u001b[38;5;28;43mint\u001b[39;49m\u001b[43m(\u001b[49m\u001b[43mn\u001b[49m\u001b[43m)\u001b[49m\n\u001b[1;32m      3\u001b[0m \u001b[38;5;28mprint\u001b[39m(\u001b[38;5;124m'\u001b[39m\u001b[38;5;124mok\u001b[39m\u001b[38;5;124m'\u001b[39m)\n",
      "\u001b[0;31mValueError\u001b[0m: invalid literal for int() with base 10: 'ававаа'"
     ]
    }
   ],
   "source": [
    "n = input('Введите целое число: ')\n",
    "n = int(n)\n",
    "print('ok')"
   ]
  },
  {
   "cell_type": "code",
   "execution_count": null,
   "metadata": {},
   "outputs": [],
   "source": []
  },
  {
   "cell_type": "markdown",
   "metadata": {},
   "source": [
    "# Упражнение"
   ]
  },
  {
   "cell_type": "markdown",
   "metadata": {},
   "source": [
    "Реализовать телефонный справочник, который выводит сообщение «Такого имени нет» при попытке найти несуществующее имя и в любом случае в завершении выводит сообщение «Конец работы программы.»"
   ]
  },
  {
   "cell_type": "code",
   "execution_count": null,
   "metadata": {},
   "outputs": [],
   "source": [
    "d = {'Petya': '01', 'Vasya': '02'}\n",
    "name = input('введите имя')\n",
    "\n",
    "try:\n",
    "    print(d[name])\n",
    "except KeyError:\n",
    "    print('Такого имени нет')\n",
    "finally:\n",
    "    print('Конец работы программы.')"
   ]
  },
  {
   "cell_type": "markdown",
   "metadata": {},
   "source": [
    "- Реализовать функцию safe_divide, которая принимает от пользователя два целых или вещественных числа и делит одно на другое. Предусмотреть обработку ошибки, возникающей при делении на 0.\n",
    "- Ввод числа пользователем реализуется функцией input().\n",
    "- Синтаксис преобразования типов:  \n",
    "    a = float(input(\"Делимое:\"))"
   ]
  },
  {
   "cell_type": "code",
   "execution_count": null,
   "metadata": {},
   "outputs": [],
   "source": [
    "a = float(input(\"Делимое:\"))\n",
    "b = float(input(\"Делитель:\"))\n",
    "\n",
    "try:\n",
    "    print(a / b)\n",
    "except ZeroDivisionError:\n",
    "    print('на ноль делить нельзя')\n"
   ]
  },
  {
   "cell_type": "code",
   "execution_count": null,
   "metadata": {},
   "outputs": [],
   "source": [
    "111 / 0"
   ]
  },
  {
   "cell_type": "markdown",
   "metadata": {},
   "source": [
    "Доработать функцию safe_divide, чтобы она также обрабатывала ошибки, возникающие при вводе нечисловых символов.\n",
    "\n",
    "подсказка\n",
    "\n",
    "\n",
    "- Чтобы проверить, какая ошибка возникает при вводе нечисловых символов, нужно воспроизвести эту ситуацию и посмотреть на класс ошибки в сообщении интерпретатора Python (обычно выделяется красным шрифтом).\n"
   ]
  },
  {
   "cell_type": "code",
   "execution_count": null,
   "metadata": {},
   "outputs": [],
   "source": [
    "a = float(input(\"Делимое:\"))\n",
    "b = float(input(\"Делитель:\"))\n",
    "\n",
    "try:\n",
    "    print(a / b)\n",
    "except ZeroDivisionError:\n",
    "    print('на ноль делить нельзя')\n",
    "except ValueError:\n",
    "    print('доступны только числа')"
   ]
  },
  {
   "cell_type": "code",
   "execution_count": null,
   "metadata": {},
   "outputs": [],
   "source": [
    "try:\n",
    "    a = float(input(\"Делимое:\"))\n",
    "    b = float(input(\"Делитель:\"))\n",
    "\n",
    "    print(a / b)\n",
    "except ZeroDivisionError:\n",
    "    print('на ноль делить нельзя')\n",
    "except ValueError:\n",
    "    print('доступны только числа')"
   ]
  },
  {
   "cell_type": "code",
   "execution_count": null,
   "metadata": {},
   "outputs": [],
   "source": [
    "x = input(\"Делимое:\")\n",
    "y = input(\"Делитель:\")\n",
    "\n",
    "if x.isdigit() and y.isdigit():\n",
    "    if int(y) != 0:\n",
    "        print(int(x) / int(y))\n",
    "    else:\n",
    "        print('на ноль делить нельзя')\n",
    "else:\n",
    "    print('доступны только числа')"
   ]
  },
  {
   "cell_type": "code",
   "execution_count": null,
   "metadata": {},
   "outputs": [],
   "source": []
  },
  {
   "cell_type": "markdown",
   "metadata": {},
   "source": [
    "# Вызов исключений"
   ]
  },
  {
   "cell_type": "markdown",
   "metadata": {},
   "source": [
    "Оператор raise позволяет в любой момент вызвать исключение указанного типа. Например:"
   ]
  },
  {
   "cell_type": "code",
   "execution_count": 49,
   "metadata": {},
   "outputs": [
    {
     "ename": "NameError",
     "evalue": "My artem EX",
     "output_type": "error",
     "traceback": [
      "\u001b[0;31m---------------------------------------------------------------------------\u001b[0m",
      "\u001b[0;31mNameError\u001b[0m                                 Traceback (most recent call last)",
      "Cell \u001b[0;32mIn[49], line 1\u001b[0m\n\u001b[0;32m----> 1\u001b[0m \u001b[38;5;28;01mraise\u001b[39;00m \u001b[38;5;167;01mNameError\u001b[39;00m(\u001b[38;5;124m'\u001b[39m\u001b[38;5;124mMy artem EX\u001b[39m\u001b[38;5;124m'\u001b[39m)\n",
      "\u001b[0;31mNameError\u001b[0m: My artem EX"
     ]
    }
   ],
   "source": [
    "raise NameError('My artem EX')"
   ]
  },
  {
   "cell_type": "markdown",
   "metadata": {},
   "source": [
    "- Это полезно в процессе отладки программ, чтобы искусственно не вызывать ситуации, приводящие к исключениям.\n",
    "- Также с помощью этой инструкции можно вызывать пользовательские исключения."
   ]
  },
  {
   "cell_type": "markdown",
   "metadata": {},
   "source": [
    "# Пользовательские исключения"
   ]
  },
  {
   "cell_type": "markdown",
   "metadata": {},
   "source": [
    "В программах можно создавать свои собственные типы исключений путем создания новых классов исключений. Для этого можно использовать следующий синтаксис."
   ]
  },
  {
   "cell_type": "code",
   "execution_count": 51,
   "metadata": {},
   "outputs": [],
   "source": [
    "class MyExNew(Exception):\n",
    "    pass"
   ]
  },
  {
   "cell_type": "markdown",
   "metadata": {},
   "source": [
    "Затем можно выхвать это исключение в нужном месте"
   ]
  },
  {
   "cell_type": "code",
   "execution_count": 52,
   "metadata": {},
   "outputs": [
    {
     "ename": "MyExNew",
     "evalue": "test erroe",
     "output_type": "error",
     "traceback": [
      "\u001b[0;31m---------------------------------------------------------------------------\u001b[0m",
      "\u001b[0;31mMyExNew\u001b[0m                                   Traceback (most recent call last)",
      "Cell \u001b[0;32mIn[52], line 3\u001b[0m\n\u001b[1;32m      1\u001b[0m error \u001b[38;5;241m=\u001b[39m \u001b[38;5;28;01mTrue\u001b[39;00m\n\u001b[1;32m      2\u001b[0m \u001b[38;5;28;01mif\u001b[39;00m error:\n\u001b[0;32m----> 3\u001b[0m     \u001b[38;5;28;01mraise\u001b[39;00m MyExNew(\u001b[38;5;124m\"\u001b[39m\u001b[38;5;124mtest erroe\u001b[39m\u001b[38;5;124m\"\u001b[39m)\n",
      "\u001b[0;31mMyExNew\u001b[0m: test erroe"
     ]
    }
   ],
   "source": [
    "error = True\n",
    "if error:\n",
    "    raise MyExNew(\"test erroe\")"
   ]
  },
  {
   "cell_type": "markdown",
   "metadata": {},
   "source": [
    "# Упражнение"
   ]
  },
  {
   "cell_type": "markdown",
   "metadata": {},
   "source": [
    "- Разработать интерактивный калькулятор: пользователь вводит формулу вида «12 + 8» или «15 - 10», программа вычисляет результат. Достаточно предусмотреть только сложение и вычитание. Предполагается, что первый операнд, знак операции и второй операнд обязательно должны быть разделены пробелами.\n",
    "- Программа должна выводить сообщения об ошибках, если введена неверная формула или нечисловые символы.\n",
    "- Ожидаемый результат и часть решения:"
   ]
  },
  {
   "cell_type": "code",
   "execution_count": null,
   "metadata": {},
   "outputs": [],
   "source": [
    "formula = input(\"формулу:\")\n",
    "check = formula.split(' ')\n",
    "if len(check) != 3:\n",
    "    print('не верная формула')\n",
    "    \n",
    "d = {\n",
    "    '+': check[0] + check[2],\n",
    "    '-': check[0] - check[2],\n",
    "}\n",
    "\n",
    "try:\n",
    "    #if check[1].get('+'):\n",
    "    if d.get(check[1], False):\n",
    "        pass\n",
    "\n",
    "    #if check[0] and check[2]:\n",
    "except:\n",
    "    pass\n",
    "    "
   ]
  },
  {
   "cell_type": "code",
   "execution_count": null,
   "metadata": {},
   "outputs": [],
   "source": [
    "# \"23 + 19\"\n",
    "# \"1021 - 5\"\n",
    "formula = input(\"формулу:\")\n",
    "check = formula.split(' ')\n",
    "\n",
    "#if len(check) != 3:\n",
    "#    print('не верная формула')\n",
    "    \n",
    "if check[0]"
   ]
  },
  {
   "cell_type": "code",
   "execution_count": null,
   "metadata": {},
   "outputs": [],
   "source": [
    "# песвдо код\n",
    "# на входе у нас строка\n",
    "formula = input(\"формулу:\")\n",
    "# хотим строку разбить на 3 элемента и поожить их в список\n",
    "check = formula.split(' ')\n",
    "# хотим понять что за опреация и соврештить опрацию\n",
    "# сравнить 2 эщлмент в списке с конртной оперцией ( + или -)\n",
    "if check[1] == '+':\n",
    "    print(int(check[0]) + int(check[2]))\n",
    "elif check[1] == '-':\n",
    "    print(int(check[0]) - int(check[2]))\n",
    "# далее взят 1 и 3 элеменыт из списка и в запсиммоить от той ветки котрую мы выбрали реализовать соответвуюеще действие(не забыть преобращовать в числа)\n",
    "# вывести результат операции"
   ]
  },
  {
   "cell_type": "code",
   "execution_count": null,
   "metadata": {},
   "outputs": [],
   "source": [
    "# песвдо код\n",
    "# на входе у нас строка\n",
    "formula = input(\"формулу:\")\n",
    "# хотим строку разбить на 3 элемента и поожить их в список\n",
    "check = formula.split(' ')\n",
    "# хотим понять что за опреация и соврештить опрацию\n",
    "# сравнить 2 эщлмент в списке с конртной оперцией ( + или -)\n",
    "if check[1] == '+':\n",
    "    print(int(check[0]) + int(check[2]))\n",
    "elif check[1] == '-':\n",
    "    print(int(check[0]) - int(check[2]))\n",
    "# далее взят 1 и 3 элеменыт из списка и в запсиммоить от той ветки котрую мы выбрали реализовать соответвуюеще действие(не забыть преобращовать в числа)\n",
    "# вывести результат операции"
   ]
  },
  {
   "cell_type": "code",
   "execution_count": null,
   "metadata": {},
   "outputs": [],
   "source": []
  },
  {
   "cell_type": "code",
   "execution_count": null,
   "metadata": {},
   "outputs": [],
   "source": []
  },
  {
   "cell_type": "markdown",
   "metadata": {},
   "source": [
    "Доработать предыдущую программу, чтобы она распознавала операторы деления (/) и умножения (*), а также выводила сообщение в случае деления на 0.\n"
   ]
  },
  {
   "cell_type": "code",
   "execution_count": null,
   "metadata": {},
   "outputs": [],
   "source": []
  },
  {
   "cell_type": "markdown",
   "metadata": {},
   "source": [
    "# Assert"
   ]
  },
  {
   "cell_type": "markdown",
   "metadata": {},
   "source": [
    "- Оператор assert – это встроенный оператор или ключевое слово в Python, используемое для отладки кода. Это своего рода проверка, которая исследует функциональность вашего кода.\n",
    "\n",
    "- Оператор assert работает как логическое выражение, проверяя, является ли заданное условие истинным или ложным. Если условие истинно, то ничего не происходит и выполняется следующая строка кода. Если же условие ложно, оператор assert останавливает выполнение программы и выдает ошибку. В этом случае assert работает как ключевое слово raise и выводит исключение. Исключение, вызванное оператором assert, также называется AssertionError."
   ]
  },
  {
   "cell_type": "code",
   "execution_count": 3,
   "metadata": {},
   "outputs": [
    {
     "ename": "AssertionError",
     "evalue": "The divisor is zero",
     "output_type": "error",
     "traceback": [
      "\u001b[0;31m---------------------------------------------------------------------------\u001b[0m",
      "\u001b[0;31mAssertionError\u001b[0m                            Traceback (most recent call last)",
      "Cell \u001b[0;32mIn[3], line 3\u001b[0m\n\u001b[1;32m      1\u001b[0m num1 \u001b[38;5;241m=\u001b[39m \u001b[38;5;241m10\u001b[39m\n\u001b[1;32m      2\u001b[0m num2 \u001b[38;5;241m=\u001b[39m \u001b[38;5;241m0\u001b[39m\n\u001b[0;32m----> 3\u001b[0m \u001b[38;5;28;01massert\u001b[39;00m num2 \u001b[38;5;241m!=\u001b[39m \u001b[38;5;241m0\u001b[39m, \u001b[38;5;124m\"\u001b[39m\u001b[38;5;124mThe divisor is zero\u001b[39m\u001b[38;5;124m\"\u001b[39m\n\u001b[1;32m      4\u001b[0m \u001b[38;5;28mprint\u001b[39m(\u001b[38;5;124m\"\u001b[39m\u001b[38;5;124mThe result is:\u001b[39m\u001b[38;5;124m\"\u001b[39m, num1\u001b[38;5;241m/\u001b[39mnum2)\n",
      "\u001b[0;31mAssertionError\u001b[0m: The divisor is zero"
     ]
    }
   ],
   "source": [
    "num1 = 10\n",
    "num2 = 0\n",
    "assert num2 != 0, \"The divisor is zero\"\n",
    "print(\"The result is:\", num1/num2)"
   ]
  },
  {
   "cell_type": "code",
   "execution_count": null,
   "metadata": {},
   "outputs": [],
   "source": [
    "\n"
   ]
  },
  {
   "cell_type": "markdown",
   "metadata": {},
   "source": [
    "# Тесты\n",
    "- создаем метод\n",
    "- создаем тест\n",
    "- вызваем тест\n",
    "- pytest?"
   ]
  },
  {
   "cell_type": "markdown",
   "metadata": {},
   "source": [
    "- пример по вычислению текущего состояния счета \n",
    "- пример вычилсения максимума"
   ]
  },
  {
   "cell_type": "code",
   "execution_count": null,
   "metadata": {},
   "outputs": [],
   "source": [
    "Tdd"
   ]
  },
  {
   "cell_type": "code",
   "execution_count": 58,
   "metadata": {},
   "outputs": [],
   "source": [
    "def factorial(n):\n",
    "    if n == 0:\n",
    "        return 1\n",
    "    else:\n",
    "        return n * factorial(n - 1)"
   ]
  },
  {
   "cell_type": "code",
   "execution_count": 89,
   "metadata": {},
   "outputs": [],
   "source": [
    "def factorial(n): # переоптимизировали\n",
    "    if n == 2:\n",
    "        return 1 # забыл пренести 2\n",
    "    else:\n",
    "        return n * factorial(n - 1)"
   ]
  },
  {
   "cell_type": "code",
   "execution_count": 80,
   "metadata": {},
   "outputs": [
    {
     "data": {
      "text/plain": [
       "360"
      ]
     },
     "execution_count": 80,
     "metadata": {},
     "output_type": "execute_result"
    }
   ],
   "source": [
    "#for i in range(10000000):\n",
    "#    if nizkouriv_funk(i) == factorial(i):\n",
    "#        print('ok')"
   ]
  },
  {
   "cell_type": "code",
   "execution_count": 88,
   "metadata": {},
   "outputs": [],
   "source": [
    "if factorial(1) == 1:\n",
    "    print('Ok')"
   ]
  },
  {
   "cell_type": "code",
   "execution_count": 85,
   "metadata": {},
   "outputs": [
    {
     "name": "stdout",
     "output_type": "stream",
     "text": [
      "Ok\n"
     ]
    }
   ],
   "source": [
    "if factorial(4) == 24:\n",
    "    print('Ok')"
   ]
  },
  {
   "cell_type": "code",
   "execution_count": 86,
   "metadata": {},
   "outputs": [
    {
     "name": "stdout",
     "output_type": "stream",
     "text": [
      "Ok\n"
     ]
    }
   ],
   "source": [
    "if factorial(5) == 120:\n",
    "    print('Ok')"
   ]
  },
  {
   "cell_type": "code",
   "execution_count": 87,
   "metadata": {},
   "outputs": [],
   "source": [
    "if factorial(6) == 360:\n",
    "    print('Ok')"
   ]
  },
  {
   "cell_type": "code",
   "execution_count": 92,
   "metadata": {},
   "outputs": [],
   "source": [
    "#assert factorial(6) == 360, \"err\""
   ]
  },
  {
   "cell_type": "code",
   "execution_count": 93,
   "metadata": {},
   "outputs": [],
   "source": [
    "#assert factorial(6) == 210, \"err\""
   ]
  },
  {
   "cell_type": "code",
   "execution_count": 83,
   "metadata": {},
   "outputs": [],
   "source": [
    "def factorial(n):\n",
    "    if n == 4:\n",
    "        return 24\n",
    "    if n == 5:\n",
    "        return 120"
   ]
  },
  {
   "cell_type": "markdown",
   "metadata": {},
   "source": [
    "# Хотим реализоватть функцию посика индекса элемента в списке (TDD)"
   ]
  },
  {
   "cell_type": "code",
   "execution_count": 50,
   "metadata": {},
   "outputs": [],
   "source": [
    "# #Функция принимает значение элемента и вохращает идекс элемента в списке\n",
    "# def index_search(znach, massiv): \n",
    "#     # ваш код\n",
    "#     index = 2\n",
    "#     if znach == 'Vasya':\n",
    "#         index = 0\n",
    "#     return index  \n",
    "\n",
    "def index_search(znach, massiv): \n",
    "    # я хочу послдоватльно перебрать все лементы списка с первго лэемента по последний \n",
    "    #  сравнить каждый элемт списка с значеним котрое я ищу\n",
    "    # и если это знавчени совпает с элеметом ихз псика вренуть его индекс\n",
    "\n",
    "    # for e in massiv:\n",
    "    #     if e == znach:\n",
    "    #         # я долэен вернукть индекс этого элемента\n",
    "\n",
    "    # for i in range(len(massiv)):\n",
    "    #     if massiv[i] == znach:\n",
    "    #         return i\n",
    "\n",
    "    for i, e in enumerate(massiv):\n",
    "        if e == znach:\n",
    "            return i\n",
    "\n",
    "    \n",
    "    return None"
   ]
  },
  {
   "cell_type": "code",
   "execution_count": 54,
   "metadata": {},
   "outputs": [],
   "source": [
    "# list_name =  ['Vasya', 'Misha', 'Petya']\n",
    "# znach_1 = 'Petya'\n",
    "# index_1 = index_search(znach_1, list_name)\n",
    "# if index_1 == 2:\n",
    "#     print('ok')\n",
    "# else:\n",
    "#     print('not')\n",
    "\n",
    "# znach_2 = 'Vasya'\n",
    "# index_2 = index_search(znach_2, list_name)\n",
    "# if index_2 == 0:\n",
    "#     print('ok')\n",
    "# else:\n",
    "#     print('not')\n",
    "\n",
    "list_name =  ['Vasya', 'Misha', 'Petya']\n",
    "znach_1 = 'Petya'\n",
    "index_1 = index_search(znach_1, list_name)\n",
    "assert index_1 == 2\n",
    "\n",
    "znach_2 = 'Vasya'\n",
    "index_2 = index_search(znach_2, list_name)\n",
    "assert index_2 == 0"
   ]
  },
  {
   "cell_type": "code",
   "execution_count": 52,
   "metadata": {},
   "outputs": [
    {
     "name": "stdout",
     "output_type": "stream",
     "text": [
      "ok\n"
     ]
    }
   ],
   "source": [
    "list_name =  ['Moscow', 'SPB', 'Kazan']\n",
    "znach_1 = 'SPB'\n",
    "index_1 = index_search(znach_1, list_name)\n",
    "if index_1 == 1:\n",
    "    print('ok')\n",
    "else:\n",
    "    print('not')"
   ]
  },
  {
   "cell_type": "code",
   "execution_count": 48,
   "metadata": {},
   "outputs": [
    {
     "name": "stdout",
     "output_type": "stream",
     "text": [
      "ok\n"
     ]
    }
   ],
   "source": [
    "list_name =  ['Moscow', 'SPB', 'Kazan']\n",
    "znach_1 = 'Kiev'\n",
    "index_1 = index_search(znach_1, list_name)\n",
    "if index_1 == None:\n",
    "    print('ok')\n",
    "else:\n",
    "    print('not')"
   ]
  },
  {
   "cell_type": "code",
   "execution_count": null,
   "metadata": {},
   "outputs": [],
   "source": []
  },
  {
   "cell_type": "code",
   "execution_count": null,
   "metadata": {},
   "outputs": [],
   "source": []
  },
  {
   "cell_type": "code",
   "execution_count": null,
   "metadata": {},
   "outputs": [],
   "source": []
  },
  {
   "cell_type": "code",
   "execution_count": null,
   "metadata": {},
   "outputs": [],
   "source": []
  },
  {
   "cell_type": "code",
   "execution_count": null,
   "metadata": {
    "scrolled": true
   },
   "outputs": [],
   "source": [
    "list_name = ['Vasya', 'Misha', 'Petya']\n",
    "#                0        1      2\n",
    "\n",
    "def find_element(element, list_elemnts):\n",
    "    \"\"\"функцию посика индекса элемента в списке\"\"\"\n",
    "    \n",
    "    #if element == 'Misha':\n",
    "    #    return 1\n",
    "    #elif element == 'Petya':\n",
    "    #    return 2\n",
    "    \n",
    "    #return list_elemnts.index(element)\n",
    "    \n",
    "    i = 0\n",
    "    for e in list_elemnts:\n",
    "        if e == element:\n",
    "            return i\n",
    "        i += 1\n",
    "        \n",
    "#print(list_name[1])\n",
    "#print(find_element('Misha', list_name))\n",
    "\n",
    "# test 1\n",
    "if find_element('Misha', list_name) == 1 :\n",
    "    print('Ok 1')\n",
    "else:\n",
    "    print('Error 1')\n",
    "    \n",
    "    \n",
    "# test 2  \n",
    "if find_element('Petya', list_name) == 2 :\n",
    "    print('Ok 2')\n",
    "else:\n",
    "    print('Error 2')\n",
    "    \n",
    "\n",
    "list_surname = ['Ivanov', 'Sidorov']    \n",
    "\n",
    "# test 3   Пример того когда при. разработке теста соверщили ошибку\n",
    "if find_element('Sidorov', list_surname) == 2 :\n",
    "    print('Ok 3')\n",
    "else:\n",
    "    print('Error 3')\n",
    "    \n",
    "    \n",
    "# test 4 \n",
    "if find_element('Sidorov', list_surname) == 1 :\n",
    "    print('Ok 4')\n",
    "else:\n",
    "    print('Error 4')\n",
    "    \n",
    "    \n",
    "print(find_element('Artem', list_surname))"
   ]
  },
  {
   "cell_type": "code",
   "execution_count": null,
   "metadata": {},
   "outputs": [],
   "source": []
  },
  {
   "cell_type": "code",
   "execution_count": null,
   "metadata": {},
   "outputs": [],
   "source": [
    "# Хотим реализоватть функцию посика индекса элемента в списке\n",
    "\n",
    "def find_elenemt(element, lists):\n",
    "    k = 0\n",
    "    if element == 'Misha':\n",
    "        return -1\n",
    "    \n",
    "    for i in lists:\n",
    "        if element == i:\n",
    "            return k\n",
    "        #else:\n",
    "        #    return -1\n",
    "        k += 1\n",
    "        \n",
    "    return "
   ]
  },
  {
   "cell_type": "code",
   "execution_count": null,
   "metadata": {},
   "outputs": [],
   "source": [
    "# 1 когда функция замкнута\n",
    "def sum(x, y):\n",
    "    return x + y\n",
    "\n",
    "# 2\n",
    "def lennn(list_new: list) -> int:\n",
    "    return list_new.len()\n",
    "\n",
    "# 3 find_elenemt может вренуть или чилос если в списке есть элиеент или None если ент в спике элемнта\n",
    "\n",
    "# 4 find_elenemt(element, lists) -> code_error, int \n",
    "    # есть элемент\n",
    "    # code_error = 0\n",
    "    # int = 3\n",
    "    # code_error = 1 (нет элемент)\n",
    "    # int = None\n",
    "    \n",
    "# 5 икслючений\n",
    "    # \n",
    "    \n",
    "# 6 что возращать    \n",
    "'asdfg'.find('df1')"
   ]
  },
  {
   "cell_type": "code",
   "execution_count": null,
   "metadata": {},
   "outputs": [],
   "source": [
    "# реализуем тест для проверки функции find_elenemt\n",
    "# вводить не прпавилельрные значения не списко и переменную а две констаны\n",
    "# применять крайние значения \n",
    "#   проверям чтобы ответом был первый элемнт списк и чтбы ответом был последний эелемнт списка\n",
    "# искать переменную которй точно нет в спике (Alex)\n",
    "# рассмотреть спсико в котором один элемент\n",
    "# пустой список\n",
    "# пустое занчение\n",
    "\n",
    "# Основное поведение данной функции необзодимо для толго чтобы проверить есть ли эелемнт в списке и ск камим индексом\n",
    "# или проверит отсутсвие эемента в списке\n",
    "#   1) если нет элемента в списке выводить ошибку\n",
    "#   2) чтобы функуии возращили оди нтип перенмных\n",
    "#   3) -1 \n",
    "#   4) error_code, value\n",
    "#   5) exeption\n",
    "#   6) None\n",
    "\n",
    "\n",
    "for i in list1: #мы занем что чезе всего мы  единц в списк ебольше\n",
    "    if i == 20:\n",
    "        pass\n",
    "    elif i == 2:\n",
    "        pass\n",
    "    elif i == 3:\n",
    "        pass\n",
    "    ...    \n",
    "    elif i == 1:"
   ]
  },
  {
   "cell_type": "code",
   "execution_count": null,
   "metadata": {},
   "outputs": [],
   "source": [
    "# Хотим реализоватть функцию посика индекса элемента в списке\n",
    "\n",
    "def find_elenemt(element, lists):\n",
    "    k = 0\n",
    "    for i in lists:\n",
    "        if element == i:\n",
    "            return k\n",
    "        k += 1\n",
    "    return -1"
   ]
  },
  {
   "cell_type": "code",
   "execution_count": null,
   "metadata": {},
   "outputs": [],
   "source": [
    "# первый тест на наличе Petya\n",
    "index_petya = find_elenemt('Petya', ['Vast', 'Petya', 'Misha', 'Vova'])\n",
    "if index_petya != 1:\n",
    "    # исключения надо проговорить\n",
    "    assert False, \"Error in find Petya\""
   ]
  },
  {
   "cell_type": "code",
   "execution_count": null,
   "metadata": {},
   "outputs": [],
   "source": [
    "# первый тест на наличе Petya\n",
    "index_petya = find_elenemt('Petya', ['Vast', 'Petya', 'Misha', 'Vova'])\n",
    "assert index_petya == 1, \"Error in find Petya\""
   ]
  },
  {
   "cell_type": "code",
   "execution_count": null,
   "metadata": {},
   "outputs": [],
   "source": [
    "# вторй тест на наличе Kolya\n",
    "index_petya = find_elenemt('Kolya', ['Vast', 'Kolya', 'Misha', 'Vova'])\n",
    "if index_petya != 1:\n",
    "    # исключения надо проговорить\n",
    "    assert False"
   ]
  },
  {
   "cell_type": "code",
   "execution_count": null,
   "metadata": {},
   "outputs": [],
   "source": [
    "# теретий тест на наличе Misha\n",
    "index_petya = find_elenemt('Misha', ['Vast', 'Kolya', 'Misha', 'Vova'])\n",
    "if index_petya != 2:\n",
    "    # исключения надо проговорить\n",
    "    assert False"
   ]
  },
  {
   "cell_type": "code",
   "execution_count": null,
   "metadata": {},
   "outputs": [],
   "source": [
    "# 4 тест на наличе Misha\n",
    "index_petya = find_elenemt('Misha', ['Vast', 'Kolya', 'Vova'])\n",
    "if index_petya != -1:\n",
    "    # исключения надо проговорить\n",
    "    assert False"
   ]
  },
  {
   "cell_type": "code",
   "execution_count": null,
   "metadata": {},
   "outputs": [],
   "source": []
  },
  {
   "cell_type": "code",
   "execution_count": null,
   "metadata": {},
   "outputs": [],
   "source": [
    "# передставим тестты ввиде функций"
   ]
  },
  {
   "cell_type": "code",
   "execution_count": null,
   "metadata": {},
   "outputs": [],
   "source": [
    "def test_1():\n",
    "    # первый тест на наличе Petya\n",
    "    index_petya = find_elenemt('Petya', ['Vast', 'Petya', 'Misha', 'Vova'])\n",
    "    if index_petya != 1:\n",
    "        # исключения надо проговорить\n",
    "        assert False"
   ]
  },
  {
   "cell_type": "code",
   "execution_count": null,
   "metadata": {},
   "outputs": [],
   "source": [
    "def test_2():\n",
    "    # вторй тест на наличе Kolya\n",
    "    index_petya = find_elenemt('Kolya', ['Vast', 'Kolya', 'Misha', 'Vova'])\n",
    "    if index_petya != 1:\n",
    "        # исключения надо проговорить\n",
    "        assert False"
   ]
  },
  {
   "cell_type": "code",
   "execution_count": null,
   "metadata": {},
   "outputs": [],
   "source": [
    "def test_3():\n",
    "    # теретий тест на наличе Misha\n",
    "    index_petya = find_elenemt('Misha', ['Vast', 'Kolya', 'Misha', 'Vova'])\n",
    "    if index_petya != 2:\n",
    "        # исключения надо проговорить\n",
    "        assert False"
   ]
  },
  {
   "cell_type": "code",
   "execution_count": null,
   "metadata": {},
   "outputs": [],
   "source": [
    "def test_4():\n",
    "    # 4 тест на наличе Misha\n",
    "    index_petya = find_elenemt('Misha', ['Vast', 'Kolya', 'Vova'])\n",
    "    if index_petya != -1:\n",
    "        # исключения надо проговорить\n",
    "        assert False"
   ]
  },
  {
   "cell_type": "code",
   "execution_count": null,
   "metadata": {},
   "outputs": [],
   "source": [
    "def test_all():\n",
    "    test_1()\n",
    "    test_2()\n",
    "    test_3()\n",
    "    test_4()\n",
    "    print('all test good')"
   ]
  },
  {
   "cell_type": "code",
   "execution_count": null,
   "metadata": {},
   "outputs": [],
   "source": [
    "test_all()"
   ]
  },
  {
   "cell_type": "code",
   "execution_count": null,
   "metadata": {},
   "outputs": [],
   "source": []
  },
  {
   "cell_type": "code",
   "execution_count": null,
   "metadata": {},
   "outputs": [],
   "source": [
    "def test_new():\n",
    "    # первый тест на наличе Petya\n",
    "    res = {\n",
    "        'input': ['Petya', 'Kolya', 'Misha'],\n",
    "        'output': [1,1,2]\n",
    "        'd'\n",
    "    }\n",
    "    \n",
    "    for i range(3):\n",
    "        x = res['input'][i]\n",
    "        y = res['output'][i]\n",
    "    \n",
    "        index_petya = find_elenemt(x, ['Vast', 'Petya', 'Misha', 'Vova'])\n",
    "        if index_petya != y:\n",
    "            # исключения надо проговорить\n",
    "            assert False"
   ]
  },
  {
   "cell_type": "code",
   "execution_count": null,
   "metadata": {},
   "outputs": [],
   "source": []
  },
  {
   "cell_type": "markdown",
   "metadata": {},
   "source": [
    "# Фаил *.py"
   ]
  },
  {
   "cell_type": "markdown",
   "metadata": {},
   "source": [
    "Файлы PY создаются для сохранения скриптов или других программных файлов, которые были написаны на языке программирования Python. Такие файлы PY можно легко открывать и редактировать с помощью любого текстового редактора. При этом рекомендуется использовать тот текстовый редактор, который выделяет синтаксис."
   ]
  },
  {
   "cell_type": "code",
   "execution_count": null,
   "metadata": {},
   "outputs": [],
   "source": []
  },
  {
   "cell_type": "code",
   "execution_count": 55,
   "metadata": {},
   "outputs": [
    {
     "ename": "NameError",
     "evalue": "name 'index_search_2' is not defined",
     "output_type": "error",
     "traceback": [
      "\u001b[0;31m---------------------------------------------------------------------------\u001b[0m",
      "\u001b[0;31mNameError\u001b[0m                                 Traceback (most recent call last)",
      "Cell \u001b[0;32mIn[55], line 1\u001b[0m\n\u001b[0;32m----> 1\u001b[0m \u001b[43mindex_search_2\u001b[49m(\u001b[38;5;124m'\u001b[39m\u001b[38;5;124mSPB\u001b[39m\u001b[38;5;124m'\u001b[39m,[\u001b[38;5;124m'\u001b[39m\u001b[38;5;124mMSK\u001b[39m\u001b[38;5;124m'\u001b[39m, \u001b[38;5;124m'\u001b[39m\u001b[38;5;124mSPB\u001b[39m\u001b[38;5;124m'\u001b[39m])\n",
      "\u001b[0;31mNameError\u001b[0m: name 'index_search_2' is not defined"
     ]
    }
   ],
   "source": [
    "index_search_2('SPB',['MSK', 'SPB'])"
   ]
  },
  {
   "cell_type": "code",
   "execution_count": 2,
   "metadata": {},
   "outputs": [],
   "source": [
    "from func_for_list import *"
   ]
  },
  {
   "cell_type": "code",
   "execution_count": 3,
   "metadata": {},
   "outputs": [
    {
     "data": {
      "text/plain": [
       "1"
      ]
     },
     "execution_count": 3,
     "metadata": {},
     "output_type": "execute_result"
    }
   ],
   "source": [
    "index_search_2('SPB',['MSK', 'SPB'])"
   ]
  },
  {
   "cell_type": "code",
   "execution_count": 4,
   "metadata": {},
   "outputs": [
    {
     "data": {
      "text/plain": [
       "0"
      ]
     },
     "execution_count": 4,
     "metadata": {},
     "output_type": "execute_result"
    }
   ],
   "source": [
    "index_search_2('MSK',['MSK', 'SPB'])"
   ]
  },
  {
   "cell_type": "code",
   "execution_count": 5,
   "metadata": {},
   "outputs": [],
   "source": [
    "index_search_2('Kazan',['MSK', 'SPB'])"
   ]
  },
  {
   "cell_type": "code",
   "execution_count": 6,
   "metadata": {},
   "outputs": [
    {
     "data": {
      "text/plain": [
       "6"
      ]
     },
     "execution_count": 6,
     "metadata": {},
     "output_type": "execute_result"
    }
   ],
   "source": [
    "sum_2_number(4, 2)"
   ]
  },
  {
   "cell_type": "code",
   "execution_count": 7,
   "metadata": {},
   "outputs": [],
   "source": [
    "# КАК ЗАПСКТИТЬ В ФАЙЛЕ ПАЙ\n"
   ]
  },
  {
   "cell_type": "markdown",
   "metadata": {},
   "source": [
    "# Модули\n",
    "\n",
    "Модуль с функуиями  \n",
    "\n",
    "Создаем фаил с тестами(тесты не идут в продакшен)  \n",
    "from file_func import *  \n",
    "\n",
    "def test_func1_operation():  \n",
    "    pass  \n",
    "    pass  \n",
    "\n",
    "def test_func1_value():  \n",
    "    pass  \n",
    "    pass  \n",
    "\n",
    "def test_func1_negative_case():\n",
    "    pass\n",
    "    \n",
    "if __name__ == '__main__':  \n",
    "    test_func1_operation()  \n",
    "    test_func1_value()\n",
    "    test_func1_negative_case()\n",
    "    print('Good')  \n"
   ]
  },
  {
   "cell_type": "code",
   "execution_count": 6,
   "metadata": {},
   "outputs": [],
   "source": [
    "# Pytest, unittest, nose, behave"
   ]
  },
  {
   "cell_type": "code",
   "execution_count": 7,
   "metadata": {},
   "outputs": [],
   "source": [
    "# установка модулей pip install pytest"
   ]
  },
  {
   "cell_type": "code",
   "execution_count": 9,
   "metadata": {},
   "outputs": [],
   "source": [
    "# запустить в консоли pytest\n",
    "# pytest tests.py:test_func1_operation"
   ]
  },
  {
   "cell_type": "code",
   "execution_count": 12,
   "metadata": {},
   "outputs": [],
   "source": [
    "#import pytest\n",
    "\n",
    "#@pytest.fixture()\n",
    "#def same_const():\n",
    "\n",
    "#def test_func1_negative_case(same_const):\n",
    "#    params = same_const"
   ]
  },
  {
   "cell_type": "code",
   "execution_count": 11,
   "metadata": {},
   "outputs": [],
   "source": [
    "# pip install pytest-cov"
   ]
  },
  {
   "cell_type": "code",
   "execution_count": null,
   "metadata": {},
   "outputs": [],
   "source": []
  }
 ],
 "metadata": {
  "kernelspec": {
   "display_name": "Python 3 (ipykernel)",
   "language": "python",
   "name": "python3"
  },
  "language_info": {
   "codemirror_mode": {
    "name": "ipython",
    "version": 3
   },
   "file_extension": ".py",
   "mimetype": "text/x-python",
   "name": "python",
   "nbconvert_exporter": "python",
   "pygments_lexer": "ipython3",
   "version": "3.10.10"
  }
 },
 "nbformat": 4,
 "nbformat_minor": 4
}
