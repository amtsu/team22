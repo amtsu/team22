{
 "cells": [
  {
   "cell_type": "markdown",
   "id": "117217f7-c9b6-4ce2-8747-0cec925bb3e2",
   "metadata": {},
   "source": [
    "\n",
    "urllib - это встроенная в Python библиотека, которая предоставляет набор модулей для работы с URL, отправки HTTP-запросов, обработки ответов и даже загрузки файлов. Она является  мощным инструментом для  программистов, работающих с веб-контентом. \n",
    "\n",
    "**Зачем изучать urllib?**\n",
    "\n",
    "Знание urllib  необходимо  для  решения  широкого  спектра задач:\n",
    "\n",
    "* **Веб-скрепинг:** получение и анализ данных с веб-сайтов.\n",
    "* **Работа с API:**  получение данных из веб-сервисов, взаимодействие с внешними системами.\n",
    "* **Автоматизация задач:**  загрузка файлов, отправка форм, взаимодействие с веб-приложениями. \n",
    "\n",
    "**Особенности работы с веб-данными:**\n",
    "\n",
    "Работа с веб-данными требует  особого внимания к  форматам данных, кодировке, а также  к  безопасности.  urllib  предоставляет  инструменты  для  эффективной  и  безопасной  работы  с  веб-контентом.\n",
    "\n",
    "**Модуль urllib.request **\n",
    "\n",
    "Этот модуль  –  основа  для  работы  с  веб-данными  в  Python.  Давайте  рассмотрим  ключевые  функции:\n",
    "\n",
    "* **Открытие URL:** \n",
    "    *  Функция urlopen()  позволяет открыть  URL  и получить  доступ  к  его  содержимому.  \n",
    "    *  С  ее  помощью  можно  обрабатывать  разные  типы  URL,  включая  HTTP,  HTTPS  и  FTP.\n",
    "* **Обработка ответа:** \n",
    "    *  urlopen()  возвращает  объект,  который  предоставляет  информацию  о  статус-коде  (успешность  запроса),  заголовках  и  содержимом  страницы. \n",
    "* **HTTP-запросы:** \n",
    "    *  urllib.request  поддерживает  все  основные  методы  HTTP:  GET,  POST,  PUT  и  DELETE. \n",
    "    *  Вы  можете  отправлять  параметры  через  GET  и  POST  запросы,  а  также  использовать  заголовки  для  дополнительной  информации.\n",
    "* **Обработка ошибок:**\n",
    "    *  При  возникновении  ошибок  в  процессе  работы  с  URL  (например,  недоступность  сайта  или  ошибка  HTTP-запроса),  возникают  исключения  urllib.error.\n",
    "    *  URLError  означает  общую  ошибку  при  обработке  URL,  а  HTTPError  связана  с  ошибками  в  HTTP-запросе.\n",
    "* **Примеры использования:**\n",
    "\n",
    "    *  Получение  данных  с  веб-страницы: "
   ]
  },
  {
   "cell_type": "code",
   "execution_count": 62,
   "id": "d9c1a15e-e797-4b0c-9b0e-17f2e6b20927",
   "metadata": {
    "scrolled": true
   },
   "outputs": [
    {
     "name": "stdout",
     "output_type": "stream",
     "text": [
      "ov\n",
      "<b\n"
     ]
    }
   ],
   "source": [
    "from urllib.request import urlopen\n",
    "\n",
    "response = urlopen(\"http://absda.ru:15000/team22/users/base/team.html\")\n",
    "html = response.read().decode(\"utf-8\")\n",
    "print(html[10:15]) \n"
   ]
  },
  {
   "cell_type": "code",
   "execution_count": 47,
   "id": "e6a3c57f-20f6-4b36-a5ab-ac331633e6af",
   "metadata": {
    "scrolled": true
   },
   "outputs": [
    {
     "name": "stdout",
     "output_type": "stream",
     "text": [
      "﻿<!DOCTYPE html>\n",
      "\n",
      "<html lang=\"ru\">\n",
      "\n",
      "<head>\n",
      "    \n",
      "<meta charset=\"UTF-8\">\n",
      "    \n",
      "<meta name=\"viewport\" content=\"width=device-width, initial-scale=1.0\">\n",
      "    \n",
      "<title>Резюме Непочатый Антон</title>\n",
      "    \n",
      "<style>\n",
      "        \n",
      "body {\n",
      "font-family: Arial, sans-serif; background-color: #f2f2f2; margin: 0; padding: 0;}.container {\n",
      "max-width: 800px;\n",
      "            margin: 20px auto;\n",
      "            background-color: #fff;\n",
      "            padding: 20px;\n",
      "            border-radius: 8px;\n",
      "            box-shadow: 0 0 10px rgba(0, 0, 0, 0.1);\n",
      "        }\n",
      "        .header {\n",
      "            text-align: center;\n",
      "            border-bottom: 2px solid #eee;\n",
      "            padding-bottom: 20px;\n",
      "        }\n",
      "        .header h1 {\n",
      "            margin: 0;\n",
      "            font-size: 26px;\n",
      "            color: #333;\n",
      "        }\n",
      "        .header p {\n",
      "            margin: 5px 0;\n",
      "            color: #666;\n",
      "        }\n",
      "        .section {\n",
      "            margin-top: 20px;\n",
      "        }\n",
      "        .section h2 {\n",
      "            font-size: 20px;\n",
      "            margin-bottom: 10px;\n",
      "            color: #333;\n",
      "        }\n",
      "        .section p, .section ul {\n",
      "            margin: 0 0 10px;\n",
      "        }\n",
      "        .section ul {\n",
      "            list-style: none;\n",
      "            padding: 0;\n",
      "        }\n",
      "        .section ul li {\n",
      "            padding: 5px 0;}.section ul li strong {display: block;color: #333;}.section ul li em {color: #666;}</style>\n",
      "\n",
      "</head>\n",
      "\n",
      "<body>\n",
      "    \n",
      "<div class=\"container\">\n",
      "        \n",
      "<div class=\"header\">\n",
      "            \n",
      "<h1>Непочатый Антон</h1>\n",
      "            \n",
      "<p>Телефон: +995 551-100-500</p>\n",
      "<p>Email: kuvaldabikes@gmail.com</p>\n",
      "            \n",
      "<p>Город: Москва</p>\n",
      "        \n",
      "</div>\n",
      "        \n",
      "<div class=\"section\">\n",
      "            \n",
      "<h2>Цель</h2>\n",
      "            \n",
      "<p>Дратути, Я хотел бы войти в ИТ</p>\n",
      "        \n",
      "</div>\n",
      "        <div class=\"section\">\n",
      "            \n",
      "<h2>Опыт работы</h2>\n",
      "            \n",
      "<ul>\n",
      "                \n",
      "<li>\n",
      "                    \n",
      "<strong>ФГУП НАМИ, Москва</strong>\n",
      "                    \n",
      "<em>Ведущий инженер-конструктор, Январь 2020 - Сентябрь 2022</em>\n",
      "                    \n",
      "<p>Разработка электромотика</p>\n",
      "                \n",
      "</li>\n",
      "                \n",
      "<li>\n",
      "                    \n",
      "<strong>Миландр СМ, Москва</strong>\n",
      "                    \n",
      "<em>Ведущий инженер-конструктор, Июнь 2018 - Январь 2020</em>\n",
      "                    \n",
      "<p>Разработка электромотика</p>\n",
      "                \n",
      "</li>\n",
      "            \n",
      "</ul>\n",
      "        \n",
      "</div>\n",
      "        <div class=\"section\">\n",
      "            \n",
      "<h2>Образование</h2>\n",
      "            \n",
      "<ul>\n",
      "                <li>\n",
      "                    \n",
      "<strong>Московский Авиационный Институт</strong>\n",
      "                    \n",
      "<em>Специалист, Авиационные двигатели и энергетические установки, Сентябрь 2010 - Июнь 2015</em>\n",
      "                \n",
      "</li>\n",
      "            </ul>\n",
      "        </div>\n",
      "        <div class=\"section\">\n",
      "            \n",
      "<h2>Навыки</h2>\n",
      "            <ul>\n",
      "                \n",
      "<li>NX, ANSYS, SolidWorks, Fusion 360, OnShape</li>\n",
      "                \n",
      "<li>Teamcenter</li>\n",
      " \n",
      "<li>---------------</li>\n",
      "               \n",
      "<li>Однако, надеюсь тут скоро будут:</li>\n",
      "                \n",
      "<li>Python, SQL</li>\n",
      "                \n",
      "<li>Git, Docker</li>\n",
      "            \n",
      "</ul>\n",
      "        \n",
      "</div>\n",
      "        <div class=\"section\">\n",
      "            \n",
      "<h2>Дополнительная информация</h2>\n",
      "            \n",
      "<p>Английский B1, Немецкий учу в DuoLingvo, ВУ категории B, играю на басухе и просто гитаре, катаюсь на велосипеде.</p>\n",
      "        \n",
      "</div>\n",
      "    \n",
      "</div>\n",
      "\n",
      "</body>\n",
      "\n",
      "</html>\n",
      "\n"
     ]
    }
   ],
   "source": [
    "from urllib.request import urlopen\n",
    "\n",
    "with urlopen(\"http://absda.ru:15000/team22/users/anton-kuvalda/Anton_kuvalda.Resume4.html\") as response:\n",
    "    html = response.read().decode(\"utf-8\")\n",
    "    print(html) \n"
   ]
  },
  {
   "cell_type": "markdown",
   "id": "309085d5-68cb-4127-a8fe-370db3707a7e",
   "metadata": {},
   "source": [
    " *  Отправка  запросов  к  API:"
   ]
  },
  {
   "cell_type": "code",
   "execution_count": 26,
   "id": "1a91f66e-51e8-47fe-998a-ab2787ad612c",
   "metadata": {
    "scrolled": true
   },
   "outputs": [
    {
     "name": "stdout",
     "output_type": "stream",
     "text": [
      "<br>AAEltsov\n",
      "<br>AAKesareva\n",
      "<br>ADBukreev\n",
      "<br>ADKazdym\n",
      "<br>Aldnoa19\n",
      "<br>ALZharin\n",
      "<br>AMAbduhanov\n",
      "<br>amtsu\n",
      "<br>andreev-aleksey\n",
      "<br>andreev-alexander\n",
      "<br>Andreyvolodinpro\n",
      "<br><a href=\"/team22/users/andromary/index.html\">Andromary</a>\n",
      "<br>AndVlIv\n",
      "<br><a href=\"/team22/users/annamargolina/cv.html\"> AnnaMargolina</a>\n",
      "<br>AnnMorozova676\n",
      "<br><a href=\"/team22/users/anton-kuvalda/Anton_kuvalda.Resume4.html\">anton-kuvalda</a>\n",
      "<br>Anzhela-Volodina\n",
      "<br><a href=\"/team22/users/aaarisova/ArisovaA_zarplata_ru.html\">arisova</a>\n",
      "<br>AVGorbatenko\n",
      "<br>boberushka\n",
      "<br>cipperOK\n",
      "<br>deep4ik\n",
      "<br>dimer404\n",
      "<br>DN151991\n",
      "<br>drrryfox\n",
      "<br>EANabatov\n",
      "<br>EAWolkov\n",
      "<br>ekaterinacu\n",
      "<br>ERSaliev\n",
      "<br>find-y\n",
      "<br>il-62\n",
      "<br>irsalieva\n",
      "<br>IRSalieva\n",
      "<br>isergy\n",
      "<br>JATashpulatov\n",
      "<br>Jetfriday\n",
      "<br>jutkaris\n",
      "<br>koshakm5\n",
      "<br>mari-grisha\n",
      "<br>Mcroosh\n",
      "<br>misterdx\n",
      "<br>okorch\n",
      "<br>Optovik0\n",
      "<br>p1em4g\n",
      "<br>ParnishkaTony\n",
      "<br>ptdltt\n",
      "<br>PterOculus\n",
      "<br><a href=\"/team22/users/re-gi-na/about_me.html\">re-gi-na</a>\n",
      "<br><a href=\"/team22/users/romantarasov91/aboutmeee.html\">RomanTarasov91</a>\n",
      "<br>ruslanyunusov\n",
      "<br>ruslan-yusupov-open\n",
      "<br>SAMalcev\n",
      "<br>ScherbakovaTA\n",
      "<br>Sergey-1990\n",
      "<br>Slash3086\n",
      "<br>StasGri\n",
      "<br>SVAlekseyeva\n",
      "<br>ValliTim\n",
      "<br><a href=\"/team22/users/aemareev/about.html\">theRate</a>\n",
      "<br>VeraYohanga\n",
      "<br>VladimirVBykov\n",
      "<br>vssachenko\n",
      "<br>Rikacom\n",
      "\n"
     ]
    }
   ],
   "source": [
    "import urllib.parse\n",
    "\n",
    "url = \"http://absda.ru:15000/team22/users/base/team.html\"\n",
    "params = {\"key1\": \"value1\", \"key2\": \"value2\"}\n",
    "encoded_params = urllib.parse.urlencode(params)\n",
    "full_url = url + \"?\" + encoded_params\n",
    "\n",
    "with urlopen(full_url) as response:\n",
    "    data = response.read().decode(\"utf-8\")\n",
    "    print(data) \n"
   ]
  },
  {
   "cell_type": "markdown",
   "id": "ca0e46f3-8454-4810-a3fa-5186c029f44c",
   "metadata": {},
   "source": [
    "*  Скачивание  файлов: "
   ]
  },
  {
   "cell_type": "code",
   "execution_count": 48,
   "id": "0f0035a8-1946-4c1b-b59f-74d4d58e720b",
   "metadata": {},
   "outputs": [
    {
     "name": "stdout",
     "output_type": "stream",
     "text": [
      "/home/jupyter-amtsu/github/team22/library/theory\n"
     ]
    }
   ],
   "source": [
    "!pwd"
   ]
  },
  {
   "cell_type": "code",
   "execution_count": 52,
   "id": "f2aa03d6-f228-40dc-a5d9-068504548261",
   "metadata": {},
   "outputs": [
    {
     "name": "stdout",
     "output_type": "stream",
     "text": [
      "-rw-r--r--  1 jupyter-amtsu jupyter-amtsu    1315 Jun 26 20:37 file.zip\n",
      "-rw-r--r--  1 jupyter-amtsu jupyter-amtsu    4568 Jan 24 17:55 hw_file_phonebook.ipynb\n"
     ]
    }
   ],
   "source": [
    "!ls -la | grep file"
   ]
  },
  {
   "cell_type": "code",
   "execution_count": 51,
   "id": "53711a1f-fd47-4a6c-a91d-dcb210741048",
   "metadata": {},
   "outputs": [
    {
     "data": {
      "text/plain": [
       "('file.zip', <http.client.HTTPMessage at 0x7f6503e24070>)"
      ]
     },
     "execution_count": 51,
     "metadata": {},
     "output_type": "execute_result"
    }
   ],
   "source": [
    "from urllib.request import urlretrieve\n",
    "\n",
    "urlretrieve(\"http://absda.ru:15000/team22/users/base/team.html\", \"file.zip\")\n"
   ]
  },
  {
   "cell_type": "markdown",
   "id": "20ce2614-8478-4fc0-a443-73c4eb66e7cb",
   "metadata": {},
   "source": [
    "\n",
    "**Дополнительные функции:**\n",
    "\n",
    "* **urlretrieve():** Скачивание файлов по URL-адресу, с возможностью сохранения в указанный файл.\n",
    "* **urlencode():** Кодирование данных для передачи в URL (например, параметров GET-запросов).\n",
    "\n",
    "**Модуль urllib.parse **\n",
    "\n",
    "Этот модуль  предоставляет  инструменты  для  анализа  и  обработки  URL:\n",
    "\n",
    "* **Разбор URL:** \n",
    "    *  Функция  urlparse()  разбивает  URL  на  компоненты:  схему,  хост,  порт,  путь,  параметры  и  фрагмент.\n",
    "    *  Это  позволяет  извлечь  нужную  информацию  из  URL  и  использовать  ее  в  дальнейшей  работе.\n",
    "* **Объединение URL:** \n",
    "    *  Функция  urljoin()  позволяет  создать  абсолютный  URL  из  относительного  URL  и  основного  URL.\n",
    "* **Кодирование и декодирование URL:** \n",
    "    *  Функции  quote(),  unquote(),  quote_plus()  и  u\n",
    "nquote_plus()  предназначены  для  преобразования  символов  в  URL-кодированный  формат  и  обратно.\n"
   ]
  },
  {
   "cell_type": "code",
   "execution_count": 53,
   "id": "5d1455c0-c425-471d-968f-3fe5fb4e50b7",
   "metadata": {},
   "outputs": [
    {
     "name": "stdout",
     "output_type": "stream",
     "text": [
      "http\n",
      "absda.ru:15000\n",
      "/team22/users/base/team.html\n"
     ]
    }
   ],
   "source": [
    "\n",
    "from urllib.parse import urlparse\n",
    "\n",
    "url = \"http://absda.ru:15000/team22/users/base/team.html\"\n",
    "parsed_url = urlparse(url)\n",
    "print(parsed_url.scheme)  # выведет \"https\"\n",
    "print(parsed_url.netloc) \n",
    "print(parsed_url.path)  # выведет \"/path/to/file\""
   ]
  },
  {
   "cell_type": "markdown",
   "id": "f0987c2b-9c99-4301-9c1c-c3a59d46b512",
   "metadata": {},
   "source": [
    "*  Объединение  URL:"
   ]
  },
  {
   "cell_type": "code",
   "execution_count": 54,
   "id": "82a7e587-8783-4eb5-a779-65819b2e9af6",
   "metadata": {
    "scrolled": true
   },
   "outputs": [
    {
     "name": "stdout",
     "output_type": "stream",
     "text": [
      "http://absda.ru:15000/path/to/file\n"
     ]
    }
   ],
   "source": [
    "from urllib.parse import urljoin\n",
    "\n",
    "base_url = \"http://absda.ru:15000/team22/users/base/team.html\"\n",
    "relative_url = \"/path/to/file\"\n",
    "full_url = urljoin(base_url, relative_url)\n",
    "print(full_url) "
   ]
  },
  {
   "cell_type": "markdown",
   "id": "c38629b8-f09e-40e8-b0ae-2525333009b8",
   "metadata": {},
   "source": [
    "\n",
    "*  Кодирование  URL:"
   ]
  },
  {
   "cell_type": "code",
   "execution_count": 32,
   "id": "46a2c5fc-674b-4bf6-82e5-bd0a1ec8eb07",
   "metadata": {},
   "outputs": [
    {
     "name": "stdout",
     "output_type": "stream",
     "text": [
      "http://absda.ru:15000/team22/users/base/team.html%3Fquery%3D%D0%9F%D1%80%D0%B8%D0%B2%D0%B5%D1%82%2C%20%D0%BC%D0%B8%D1%80%21\n"
     ]
    }
   ],
   "source": [
    "from urllib.parse import quote\n",
    "\n",
    "url = \"http://absda.ru:15000/team22/users/base/team.html?query=Привет, мир!\"\n",
    "encoded_url = quote(url, safe=\"/:\")\n",
    "print(encoded_url)  # выведет \"https://www.example.com/search?query=%D0%9F%D1%80%D0%B8%D0%B2%D0%B5%D1%82%2C%20%D0%BC%D0%B8%D1%80!\""
   ]
  },
  {
   "cell_type": "markdown",
   "id": "56b45021-5a46-4fe6-8595-6cf3363c834b",
   "metadata": {},
   "source": [
    "### Разбор URL\n",
    "\n",
    "**urllib.parse** - это модуль, который позволяет нам работать с URL-адресами на более глубоком уровне.  С его помощью мы можем анализировать, изменять и создавать URL-адреса.\n",
    "\n",
    "**Функция urlparse()**: \n",
    "\n",
    "Эта функция разбивает URL на составляющие части:\n",
    "\n",
    "* **Схема:**  Протокол, используемый для доступа к ресурсу (например, http или https).\n",
    "* **Хост:** Доменное имя или IP-адрес сервера, на котором находится ресурс.\n",
    "* **Порт:** Номер порта, используемого для подключения.\n",
    "* **Путь:** Часть URL, указывающая на конкретный ресурс на сервере.\n",
    "* **Параметры:** Параметры запроса, передаваемые в виде пары ключ-значение.\n",
    "* **Фрагмент:**  Часть URL, которая идет после символа #.\n",
    "\n",
    "**Пример:**"
   ]
  },
  {
   "cell_type": "code",
   "execution_count": 59,
   "id": "6445aebe-b883-4786-9025-175bc3383293",
   "metadata": {},
   "outputs": [
    {
     "name": "stdout",
     "output_type": "stream",
     "text": [
      "http\n",
      "absda.ru:15000\n",
      "/team22/users/base/team\n",
      "absda.ru\n",
      "15000\n",
      "\n",
      "fragment\n"
     ]
    }
   ],
   "source": [
    "from urllib.parse import urlparse\n",
    "\n",
    "url = \"http://absda.ru:15000/team22/users/base/team?param1=value1&param2=value2#fragment\"\n",
    "parsed_url = urlparse(url)\n",
    "\n",
    "print(parsed_url.scheme)  # выведет \"http\"\n",
    "print(parsed_url.netloc)  # выведет \n",
    "print(parsed_url.path)  # выведет \"/path/to/file\"\n",
    "print(parsed_url.hostname)\n",
    "\n",
    "print(parsed_url.port)\n",
    "print(parsed_url.params)  # выведет \"param1=value1&param2=value2\"\n",
    "print(parsed_url.fragment)  # выведет \"fragment\" \n"
   ]
  },
  {
   "cell_type": "markdown",
   "id": "b047b81f-7c35-44f0-98a4-94470f2c5549",
   "metadata": {},
   "source": [
    "\n",
    "**Примеры использования:**\n",
    "\n",
    "* **Анализ URL:** Вы можете использовать urlparse()  для  извлечения  конкретной  информации  из  URL,  например,  доменного  имени  или  пути  к  файлу. \n",
    "* **Извлечение информации из URL:** Вы можете  использовать  urlparse()  для  получения  параметров  запроса  или  других  данных,  закодированных  в  URL.\n",
    "\n",
    "### Объединение URL\n",
    "\n",
    "**Функция urljoin()**:\n",
    "\n",
    "Эта функция позволяет создавать  абсолютный  URL  из  относительного  URL  и  основного  URL.  \n",
    "\n",
    "**Пример:**"
   ]
  },
  {
   "cell_type": "code",
   "execution_count": 38,
   "id": "a538c1d7-fac0-449a-85a8-cd5cd0870301",
   "metadata": {},
   "outputs": [
    {
     "name": "stdout",
     "output_type": "stream",
     "text": [
      "http://absda.ru:15000/path/to/file\n"
     ]
    }
   ],
   "source": [
    "from urllib.parse import urljoin\n",
    "\n",
    "base_url = \"http://absda.ru:15000/team22/users/base/team.html\"\n",
    "relative_url = \"/path/to/file\"\n",
    "full_url = urljoin(base_url, relative_url)\n",
    "print(full_url)  # выведет \"http://absda.ru:15000/path/to/file\"\n",
    "\n"
   ]
  },
  {
   "cell_type": "markdown",
   "id": "1b626136-76bb-4cbc-9c76-386fde5dcd26",
   "metadata": {},
   "source": [
    "\n",
    "\n",
    "**Примеры использования:**\n",
    "\n",
    "* **Создание абсолютных URL:**  Если  у  вас  есть  относительный  URL  и  базовый  URL,  вы  можете  использовать  urljoin()  для  создания  полного  абсолютного  URL.\n",
    "* **Работа с относительными ссылками:**  При  обработке  HTML-кода  часто  встречаются  относительные  ссылки.  urljoin()  позволяет  преобразовать  их  в  абсолютные  ссылки  относительно  текущего  URL.\n",
    "\n",
    "### Кодирование и декодирование URL\n",
    "\n",
    "**Функции:**\n",
    "\n",
    "* **quote()**:  Преобразует  символы  в  URL-кодированный  формат.\n",
    "* **unquote()**:  Декодирует  URL-кодированные  символы  обратно  в  исходный  формат.\n",
    "* **quote_plus()**:  Подобно  quote(),  но  заменяет  пробелы  символом  +. \n",
    "* **unquote_plus()**:  Декодирует  символы  обратно  в  исходный  формат,  заменяя  +  на  пробелы.\n",
    "\n",
    "**Пример:**"
   ]
  },
  {
   "cell_type": "code",
   "execution_count": 40,
   "id": "82f1af1a-1284-4715-9818-ec3ff4f460b8",
   "metadata": {},
   "outputs": [
    {
     "name": "stdout",
     "output_type": "stream",
     "text": [
      "http://absda.ru:15000/team22/users/base/team%3Fquery%3D%D0%9F%D1%80%D0%B8%D0%B2%D0%B5%D1%82%2C%20%D0%BC%D0%B8%D1%80%21\n",
      "http://absda.ru:15000/team22/users/base/team?query=Привет, мир!\n"
     ]
    }
   ],
   "source": [
    "from urllib.parse import quote, unquote\n",
    "\n",
    "url = \"http://absda.ru:15000/team22/users/base/team?query=Привет, мир!\"\n",
    "encoded_url = quote(url, safe=\"/:\")\n",
    "print(encoded_url)  \n",
    "\n",
    "decoded_url = unquote(encoded_url)\n",
    "print(decoded_url)  "
   ]
  },
  {
   "cell_type": "markdown",
   "id": "27697f23-c5c7-4f4b-bb8c-6d77d0795469",
   "metadata": {},
   "source": [
    "\n",
    "\n",
    "**Примеры использования:**\n",
    "\n",
    "* **Подготовка URL к передаче:**  При  отправке  запросов  к  серверу  через  GET-метод  важно  правильно  кодировать  символы  в  URL.  \n",
    "* **Обработка данных из URL:**  При  получении  данных  из  URL  могут  встречаться  URL-кодированные  символы.  unquote()  помогает  преобразовать  их  в  читаемый  формат.\n",
    "\n",
    "## Модуль urllib.error\n",
    "\n",
    "### Описание исключений\n",
    "\n",
    "**urllib.error**  –  это  модуль,  содержащий  классы  исключений,  которые  возникают  при  ошибках  в  работе  с  URL.  \n",
    "\n",
    "**Основные исключения:**\n",
    "\n",
    "* **URLError**:  Общая  ошибка  при  обработке  URL.  \n",
    "* **HTTPError**:  Ошибка  HTTP-запроса. \n",
    "\n",
    "*\\\n",
    "m\") as response:\n",
    "        html = response.read().decode(\"utf-8\")\n",
    "        print(html)\n",
    "except URLError as e:\n",
    "    print(\"Ошибка при открытии URL:\", e.reason)\n",
    "except HTTPError as e:\n",
    "    print(\"Ошибка HTTP:\", e.code, e.reason)\n",
    "```\n",
    "\n",
    "**Логирование ошибок:**\n",
    "\n",
    "```python\n",
    "import logging\n",
    "\n",
    "logging.basicConfig(level=logging.ERROR)\n",
    "\n",
    "try:\n",
    "    with urlopen(\"https://www.example.com\") as response:\n",
    "        html = response.read().decode(\"utf-8\")\n",
    "        print(html)\n",
    "except URLError as e:\n",
    "    logging.error(\"Ошибка при открытии URL: %s\", e.reason)\n",
    "except HTTPError as e:\n",
    "    logging.error(\"Ошибка HTTP: %s %s\", e.code, e.reason)\n",
    "```\n",
    "\n",
    "**Важно:**  Правильная  обработка  исключений  `urllib.error`  обеспечивает  устойчивость  ваших  программ  к  ошибкам  при  работе  с  веб-данными.\n",
    "\n",
    "## Примеры и практические задачи\n",
    "\n",
    "### Веб-скрепинг\n",
    "\n",
    "* **Получение данных с веб-страницы:** Используйте  `urllib.request`  для  скачивания  HTML-кода  веб-страницы.\n",
    "* **Парсинг HTML-кода:**  Используйте  библиотеку  `BeautifulSoup`  для  анализа  HTML-кода  и  извлечения  нужной  информации. \n",
    "\n",
    "**Пример:**"
   ]
  },
  {
   "cell_type": "code",
   "execution_count": 82,
   "id": "2dd5e4c5-f345-4364-9f8b-4fe3a3db3f1c",
   "metadata": {},
   "outputs": [
    {
     "name": "stdout",
     "output_type": "stream",
     "text": [
      "Andromary\n",
      " AnnaMargolina\n",
      "anton-kuvalda\n",
      "arisova\n",
      "re-gi-na\n",
      "RomanTarasov91\n",
      "theRate\n",
      "<class 'bs4.element.Tag'>\n",
      "<a href=\"/team22/users/andromary/index.html\">Andromary</a>\n",
      "<class 'bs4.element.Tag'>\n",
      "<a href=\"/team22/users/annamargolina/cv.html\"> AnnaMargolina</a>\n",
      "<class 'bs4.element.Tag'>\n",
      "<a href=\"/team22/users/anton-kuvalda/Anton_kuvalda.Resume4.html\">anton-kuvalda</a>\n",
      "<class 'bs4.element.Tag'>\n",
      "<a href=\"/team22/users/aaarisova/ArisovaA_zarplata_ru.html\">arisova</a>\n",
      "<class 'bs4.element.Tag'>\n",
      "<a href=\"/team22/users/re-gi-na/about_me.html\">re-gi-na</a>\n",
      "<class 'bs4.element.Tag'>\n",
      "<a href=\"/team22/users/romantarasov91/aboutmeee.html\">RomanTarasov91</a>\n",
      "<class 'bs4.element.Tag'>\n",
      "<a href=\"/team22/users/aemareev/about.html\">theRate</a>\n"
     ]
    }
   ],
   "source": [
    "\n",
    "from urllib.request import urlopen\n",
    "from bs4 import BeautifulSoup\n",
    "\n",
    "url = \"http://absda.ru:15000/team22/users/base/team.html\"\n",
    "\n",
    "response = urlopen(url)\n",
    "html = response.read().decode(\"utf-8\")\n",
    "\n",
    "soup = BeautifulSoup(html, 'html.parser')\n",
    "\n",
    "# Найдите все заголовки a\n",
    "h1_tags = soup.find_all('a')\n",
    "\n",
    "# Выведите текст заголовков\n",
    "for h1 in h1_tags:\n",
    "    print(h1.text) \n",
    "\n",
    "for h1 in h1_tags:\n",
    "    print(type(h1))\n",
    "    print(h1) "
   ]
  },
  {
   "cell_type": "code",
   "execution_count": 90,
   "id": "94b44f88-83c3-4fe1-9a91-7bc2200e66c8",
   "metadata": {},
   "outputs": [
    {
     "data": {
      "text/plain": [
       "<a href=\"/team22/users/andromary/index.html\">Andromary</a>"
      ]
     },
     "execution_count": 90,
     "metadata": {},
     "output_type": "execute_result"
    }
   ],
   "source": []
  },
  {
   "cell_type": "code",
   "execution_count": 83,
   "id": "26d22f24-43b9-43a2-a837-d23e63216c83",
   "metadata": {},
   "outputs": [
    {
     "data": {
      "text/plain": [
       "['Andromary',\n",
       " ' AnnaMargolina',\n",
       " 'anton-kuvalda',\n",
       " 'arisova',\n",
       " 're-gi-na',\n",
       " 'RomanTarasov91',\n",
       " 'theRate']"
      ]
     },
     "execution_count": 83,
     "metadata": {},
     "output_type": "execute_result"
    }
   ],
   "source": [
    "import re\n",
    "url = \"http://absda.ru:15000/team22/users/base/team.html\"\n",
    "\n",
    "response = urlopen(url)\n",
    "html = response.read().decode(\"utf-8\")\n",
    "match = re.findall(r\".*>(.*)<\", html)\n",
    "\n",
    "match"
   ]
  },
  {
   "cell_type": "markdown",
   "id": "d5351b8a-8b97-4533-956e-f8a9fe92f70b",
   "metadata": {},
   "source": [
    "\n",
    "### Работа с API\n",
    "\n",
    "* **Отправка запросов к API:**  Используйте  `urllib.request`  для  отправки  HTTP-запросов  к  API.\n",
    "* **Получение данных в формате JSON:**  Используйте  модуль  `json`  для  преобразования  ответа  API  в  формат  Python.\n",
    "\n",
    "**Пример:**\n",
    "\n",
    "```python"
   ]
  },
  {
   "cell_type": "code",
   "execution_count": null,
   "id": "efd5ac74-a111-426d-bc33-4c0171c72e5e",
   "metadata": {},
   "outputs": [],
   "source": [
    "#Создадим"
   ]
  },
  {
   "cell_type": "code",
   "execution_count": 10,
   "id": "0e07c3cf-01b8-4f0a-8491-7acd883ed3f7",
   "metadata": {},
   "outputs": [
    {
     "name": "stdout",
     "output_type": "stream",
     "text": [
      "{\"pk\":45426613,\"title\":\"test\",\"quantity\":30,\"price\":\"100.00\",\"price_sale\":null,\"datetime_create\":\"2024-07-03T17:15:07.649912Z\",\"score\":null,\"count_comments\":null,\"count_likes\":null,\"count_stars_all\":null,\"count_stars_1\":null,\"count_stars_2\":null,\"count_stars_3\":null,\"count_stars_4\":null,\"count_stars_5\":null,\"count_how_much_buy\":null,\"count_questions\":null,\"count_photo\":null,\"category\":null,\"category_url\":null,\"brand\":null,\"brand_url\":null,\"day_to_delivery\":null,\"sku\":null,\"url\":null,\"canonical_url\":null,\"img_url\":null,\"description\":null,\"params\":null,\"seller\":null,\"seller_url\":null,\"source_url\":null,\"urls_other_products_on_the_page\":null,\"worker\":null,\"task\":null,\"apartment_area\":null,\"apartment_completion_quarter\":null,\"apartment_completion_year\":null,\"apartment_floor\":null,\"apartment_floors_total\":null,\"apartment_ceilingheight\":null,\"apartment_room\":null,\"apartment_ppm\":null,\"apartment_address\":null,\"apartment_location_lat\":null,\"apartment_location_lon\":null}"
     ]
    }
   ],
   "source": [
    "!curl -X POST -H \"Content-Type: application/json\" -d '{ \"title\": \"test\", \"quantity\": 30, \"price\": \"100\" }' http://absrent.ru:8000/history/"
   ]
  },
  {
   "cell_type": "code",
   "execution_count": null,
   "id": "09379b66-9ec2-4935-8b9d-4d0d4d4f3854",
   "metadata": {},
   "outputs": [],
   "source": [
    "#Посмотрим"
   ]
  },
  {
   "cell_type": "code",
   "execution_count": 15,
   "id": "7fb3dfca-2caa-4c56-8245-c10c93f511ab",
   "metadata": {
    "scrolled": true
   },
   "outputs": [
    {
     "name": "stdout",
     "output_type": "stream",
     "text": [
      "b'{\"pk\":45426613,\"title\":\"test\",\"quantity\":30,\"price\":\"100.00\",\"price_sale\":null,\"datetime_create\":\"2024-07-03T17:15:07.649912Z\",\"score\":null,\"count_comments\":null,\"count_likes\":null,\"count_stars_all\":null,\"count_stars_1\":null,\"count_stars_2\":null,\"count_stars_3\":null,\"count_stars_4\":null,\"count_stars_5\":null,\"count_how_much_buy\":null,\"count_questions\":null,\"count_photo\":null,\"category\":null,\"category_url\":null,\"brand\":null,\"brand_url\":null,\"day_to_delivery\":null,\"sku\":null,\"url\":null,\"canonical_url\":null,\"img_url\":null,\"description\":null,\"params\":null,\"seller\":null,\"seller_url\":null,\"source_url\":null,\"urls_other_products_on_the_page\":null,\"worker\":null,\"task\":null,\"apartment_area\":null,\"apartment_completion_quarter\":null,\"apartment_completion_year\":null,\"apartment_floor\":null,\"apartment_floors_total\":null,\"apartment_ceilingheight\":null,\"apartment_room\":null,\"apartment_ppm\":null,\"apartment_address\":null,\"apartment_location_lat\":null,\"apartment_location_lon\":null}'\n",
      "{'pk': 45426613, 'title': 'test', 'quantity': 30, 'price': '100.00', 'price_sale': None, 'datetime_create': '2024-07-03T17:15:07.649912Z', 'score': None, 'count_comments': None, 'count_likes': None, 'count_stars_all': None, 'count_stars_1': None, 'count_stars_2': None, 'count_stars_3': None, 'count_stars_4': None, 'count_stars_5': None, 'count_how_much_buy': None, 'count_questions': None, 'count_photo': None, 'category': None, 'category_url': None, 'brand': None, 'brand_url': None, 'day_to_delivery': None, 'sku': None, 'url': None, 'canonical_url': None, 'img_url': None, 'description': None, 'params': None, 'seller': None, 'seller_url': None, 'source_url': None, 'urls_other_products_on_the_page': None, 'worker': None, 'task': None, 'apartment_area': None, 'apartment_completion_quarter': None, 'apartment_completion_year': None, 'apartment_floor': None, 'apartment_floors_total': None, 'apartment_ceilingheight': None, 'apartment_room': None, 'apartment_ppm': None, 'apartment_address': None, 'apartment_location_lat': None, 'apartment_location_lon': None}\n",
      "test\n",
      "dict_keys(['pk', 'title', 'quantity', 'price', 'price_sale', 'datetime_create', 'score', 'count_comments', 'count_likes', 'count_stars_all', 'count_stars_1', 'count_stars_2', 'count_stars_3', 'count_stars_4', 'count_stars_5', 'count_how_much_buy', 'count_questions', 'count_photo', 'category', 'category_url', 'brand', 'brand_url', 'day_to_delivery', 'sku', 'url', 'canonical_url', 'img_url', 'description', 'params', 'seller', 'seller_url', 'source_url', 'urls_other_products_on_the_page', 'worker', 'task', 'apartment_area', 'apartment_completion_quarter', 'apartment_completion_year', 'apartment_floor', 'apartment_floors_total', 'apartment_ceilingheight', 'apartment_room', 'apartment_ppm', 'apartment_address', 'apartment_location_lat', 'apartment_location_lon'])\n",
      "<class 'dict'>\n"
     ]
    }
   ],
   "source": [
    "\n",
    "import urllib.parse\n",
    "import json\n",
    "from urllib.request import urlopen\n",
    "\n",
    "#url = \"http://absrent.ru:8000/history/12225\"\n",
    "url = \"http://absrent.ru:8000/history/45426613\"\n",
    "\n",
    "#params = {\"key1\": \"value1\", \"key2\": \"value2\"}\n",
    "#encoded_params = urllib.parse.urlencode(params)\n",
    "#full_url = url + \"?\" + encoded_params\n",
    "\n",
    "response = urlopen(url)\n",
    "data = response.read()\n",
    "print(data)\n",
    "json_data = json.loads(data)\n",
    "\n",
    "# Выведите данные из JSON-ответа\n",
    "print(json_data) \n",
    "print(json_data['title'])\n",
    "print(json_data.keys())\n",
    "print(type(json_data))"
   ]
  },
  {
   "cell_type": "code",
   "execution_count": 9,
   "id": "6c1073ec-248f-4cb2-aac0-534d01eec5e9",
   "metadata": {},
   "outputs": [],
   "source": [
    "# Ссылка для открытия в браузере"
   ]
  },
  {
   "cell_type": "markdown",
   "id": "296f668b-8ce0-4e47-a74a-9a5365502f77",
   "metadata": {},
   "source": [
    "http://absrent.ru:8000/history/45426612/"
   ]
  },
  {
   "cell_type": "code",
   "execution_count": null,
   "id": "9be5255c-dbc1-4453-8226-dce28ca9f12a",
   "metadata": {},
   "outputs": [],
   "source": []
  },
  {
   "cell_type": "code",
   "execution_count": null,
   "id": "c18c1270-babe-4988-b2ee-3c54d4653206",
   "metadata": {},
   "outputs": [],
   "source": []
  },
  {
   "cell_type": "markdown",
   "id": "44c1562e-f783-478a-b549-d63f4cb7f309",
   "metadata": {},
   "source": [
    "\n",
    "### Скачать файл\n",
    "\n",
    "* **Загрузка файла по URL-адресу:**  Используйте  `urllib.request.urlretrieve()`  для  скачивания  файла  по  URL.\n",
    "* **Сохранение файла на диск:**  Укажите  путь  к  файлу,  в  который  будет  сохранен  скачанный  контент.\n",
    "\n",
    "**Пример:**\n",
    "\n",
    "```python\n",
    "from urllib.request import urlretrieve\n",
    "\n",
    "url = \"https://www.example.com/file.zip\"\n",
    "filename = \"file.zip\"\n",
    "\n",
    "urlretrieve(url, filename)\n",
    "print(f\"Файл {filename} скачан.\") \n",
    "```\n",
    "\n",
    "## Дополнительные материалы \n",
    "\n",
    "### Другие модули для работы с HTTP\n",
    "\n",
    "* **`requests`**:  Более  продвинутая  библиотека  для  работы  с  HTTP-запросами,  предоставляющая  более  удобный  синтаксис  и  дополнительные  возможности.\n",
    "* **`aiohttp`**:  Асинхронная  библиотека  для  работы  с  HTTP-запросами,  позволяющая  увеличить  производительность  приложений,  особенно  при  обработке  большого  количества  запросов.\n",
    "\n",
    "### Рекомендации по безопасности\n",
    "\n",
    "* **Использование `urllib.request` для безопасной работы с веб-сайтами:**  `urllib.request`  предоставляет  инструменты  для  безопасной  работы  с  веб-сайтами,  например,  проверку  SSL-сертификатов.\n",
    "* **Предотвращение CSRF и XSS атак:**  Следуйте  принципам  безопасного  кодирования  и  используйте  подходящие  методы  защиты  от  CSRF  и  XSS  атак.\n",
    "* **Использование VPN для анонимности:**  VPN  может  помочь  сохранить  анонимность  при  работе  с  веб-сайтами  и  API."
   ]
  },
  {
   "cell_type": "raw",
   "id": "a0bb7980-f463-42f4-8fd7-5c76416abd61",
   "metadata": {},
   "source": [
    "https://github.com/scrapy/scrapy"
   ]
  },
  {
   "cell_type": "code",
   "execution_count": null,
   "id": "fd7a45b0-7ec4-437d-ad3c-a4d320990951",
   "metadata": {},
   "outputs": [],
   "source": []
  }
 ],
 "metadata": {
  "kernelspec": {
   "display_name": "Python 3 (ipykernel)",
   "language": "python",
   "name": "python3"
  },
  "language_info": {
   "codemirror_mode": {
    "name": "ipython",
    "version": 3
   },
   "file_extension": ".py",
   "mimetype": "text/x-python",
   "name": "python",
   "nbconvert_exporter": "python",
   "pygments_lexer": "ipython3",
   "version": "3.10.10"
  }
 },
 "nbformat": 4,
 "nbformat_minor": 5
}
