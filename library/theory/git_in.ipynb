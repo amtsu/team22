{
 "cells": [
  {
   "cell_type": "markdown",
   "id": "b6b41679",
   "metadata": {},
   "source": [
    "# GIT"
   ]
  },
  {
   "cell_type": "markdown",
   "id": "9b177c42",
   "metadata": {},
   "source": [
    "Git это система  управления исходным кодом.  \n",
    "Которая обеспечиваете командую разработку программного обеспечения.  \n",
    "\n",
    "Представьте, что вы играете в компьютерную игру. По мере прохождения миссий происходит сохранение контрольных точек. Даже если выключить компьютер и зайти в приложение через несколько дней или месяцев, прогресс не потеряется. В любой момент можно выбрать контрольную точку и пройти миссию заново.\n",
    "\n",
    "<img src=\"https://static.insales-cdn.com/files/1/935/15549351/original/1_7d628edbb9cbcf75d9da97d8a8a506ec.png\">\n",
    "\n",
    "Система контроля версий работает по аналогии с сохранениями игры она хранит все версии проекта и обеспечивает к ним доступ.\n",
    "\n",
    "Самой популярной системой контроля версий является Git,  и занимает порядка 90% рынка, поэтому мы не будем подробно останавливаться на альтернативных решениях и рассмотрим  только его."
   ]
  },
  {
   "cell_type": "markdown",
   "id": "1787f013-c95e-4da7-a392-826af87f090d",
   "metadata": {},
   "source": [
    "# Зачем\n",
    "- иметь несколько версий кода\n",
    " - позволяет вернуться к старой версии кода (версия которая была утром, или год назад)\n",
    "   - можно поменять версию котрая в проде и выкатить при том не трогая текущую, которая уже ушла далеко вперед\n",
    " - видеть разницу между разными версиями кода\n",
    " - сохраняет историю изменений\n",
    "    - видит что было изменено, кем и в какое время\n",
    " - совместно работать на одном проекте(объединяя измения)\n",
    " - удобный подход к просмотру внесенных изменений\n",
    " - возможность втвеления и слияния\n",
    "    - разрешение конфликтов"
   ]
  },
  {
   "cell_type": "markdown",
   "id": "4060a463",
   "metadata": {},
   "source": [
    "Словарь:\n",
    "1. Репозиторий. Каталог, в котором хранится файловая система проекта. Часто для каждого проекта создаётся отдельный репозиторий. Существуют локальные и удалённые репозитории. В первом осуществляется работа над проектом на компьютере, а второй выступает в роли хранилища.\n",
    "2. Ветка. Дочерняя версия основного репозитория. Она входит в его состав, но не влияет на работу. После того, как разработчики закончат работу над новой функцией или исправят все баги, можно совместить дочерний и родительский репозитории(в нашем случае ветка main).\n",
    "3. Коммит. Операция позволяет зафиксировать текущее состояние проекта. После выполнения команды через консоль или использования браузерной версии Git, новая версия добавляется в репозиторий.\n",
    "4. Форк. Копия репозитория, которую можно использовать для изменения исходного кода без отправки изменений в основной репозиторий. Форки часто применяют для open-source проектов, когда любой разработчик может собрать свой проект на основе готового ядра.\n",
    "5. Пул и пуш. Первая операция позволяет выкачивать содержимое репозитория на компьютер, а вторая отправляет измененные файлы на сервер.\n",
    "6. Мастер(main). Основная ветка репозитория, в которой хранится ядро проекта. В неё добавляют изменения только после тщательного тестирования.\n",
    "7. Кодревью. Процесс проверки кода на соответствие техническому заданию или требованиям внутри команды. Когда один разработчик хочет добавить свой код в ядро, остальные члены команды проверяют его и если проблем нет, происходит обновление главной ветки.\n"
   ]
  },
  {
   "cell_type": "markdown",
   "id": "b0ed6b27-e6ac-46f0-9d71-1a7ea2da0e8d",
   "metadata": {},
   "source": [
    "## Ветки\n",
    "<img src=\"https://wac-cdn.atlassian.com/dam/jcr:7afd8460-b7bf-4c42-b997-4f5cf24f21e8/01%20Branch-2%20kopiera.png?cdnVersion=690\">"
   ]
  },
  {
   "cell_type": "markdown",
   "id": "26cb32a5",
   "metadata": {},
   "source": [
    "Система контроля версий — полезный инструмент, который нужен не только программистам, работающим в команде. Он пригодится и самостоятельным разработчикам для удобного хранения данных проекта. Если что-то пойдёт не так, в любой момент можно вернуться к контрольной точке и начать заново."
   ]
  },
  {
   "cell_type": "markdown",
   "id": "5b77f6fa-cdaa-4933-af6e-b05e493f6444",
   "metadata": {},
   "source": [
    "# Как \n",
    "- локально\n",
    "- github\n",
    "- gitlab\n",
    "- bitbucket"
   ]
  },
  {
   "cell_type": "markdown",
   "id": "0fbe439e",
   "metadata": {},
   "source": [
    "# Рассмотрим пример работы:"
   ]
  },
  {
   "cell_type": "markdown",
   "id": "e6c4df72-e8a6-4fa6-8386-68c9955277f4",
   "metadata": {},
   "source": [
    "До вливания первых изменний вам надо сообщить git ваш емаил и имя. Добавим инфоормацию о себе:\n",
    "- git config --global user.email \"you@example.com\"\n",
    "- git config --global user.name \"Your Name\""
   ]
  },
  {
   "cell_type": "markdown",
   "id": "79c4b9fe-1cd1-42fe-af25-b45572ce3d8e",
   "metadata": {},
   "source": [
    "чтобы посмотреть текущие значения:\n",
    "- git config --global user.email\n",
    "- git config --global user.name "
   ]
  },
  {
   "cell_type": "markdown",
   "id": "74bc58a2-8480-4223-b314-ee546efc0fcc",
   "metadata": {},
   "source": [
    "# Переключаиться на ветку main\n",
    "- - git checkout main\n",
    "- забоавть все измениения из с удаленгногь репозитория из текущей ветки\n",
    "- - git pull"
   ]
  },
  {
   "cell_type": "markdown",
   "id": "4ea9fbee-2c0c-47ad-9d0c-192d83950186",
   "metadata": {},
   "source": [
    "#  Создаем новую ветку, вносим изменния, пушим на сервер\n",
    "- Заходим в папку с репощиторие \n",
    "- - cd github/team22\n",
    "- - Создаю новую ветку у которой название будет ваш логин и описание проводимых вами рищмений\n",
    "- - - git branch amtsurkov_home_work_1\n",
    "- - Переключаюсь на эту ветку\n",
    "- - - git checkout amtsurkov_home_work_1\n",
    "- - перейтии в паку users и в не создать свою паку\n",
    "- - - cd users\n",
    "- - создать папку с таким же названием как у вас логи т.е. если у меня логин amtsurkov то я создаю папку\n",
    "- - - mkdir amtsurkov\n",
    "- - перехожу в эту папку\n",
    "- - - cd amtsurkov/\n",
    "- - создаю в ней фаил README.md\n",
    "- - - touch README.md\n",
    "- - записываю в это фаил содержимое директории\n",
    "- - - pwd > README.md\n",
    "- - веренмся в передыдущую директори/\n",
    "- - cd ../..\n",
    "- - смотрю какие файл у меня изменились\n",
    "- - - git status\n",
    "- - смотрю что в них поменялось\n",
    "- - - git diff\n",
    "- - добавляю появившийся(изменившиеся) файл к коммиту\n",
    "- - - git add users/amtsurkov/README.md\n",
    "\n",
    "- - создаем коммит\n",
    "- - - git commit -m 'описание того то что вы сделали в этом изменении на английском'\n",
    "- - отправляме измения в удаленный репозиторий YOU_LOGIN надо заменить на ваше название ветки(оно у вас было как логи)\n",
    "- - - git push --set-upstream origin YOU_LOGIN"
   ]
  },
  {
   "cell_type": "markdown",
   "id": "6131f822-5d5c-40e9-91a2-cbb9e34472be",
   "metadata": {},
   "source": [
    "# Длалее \n",
    "- создать пул реквест\n",
    "- указать ревьюеров\n",
    "- дожаться фитбека\n",
    "- дажждаться вливания измений в ветку main\n",
    "- переключиться в своем репозитории на ветку main\n",
    "- забрать свежие измения\n"
   ]
  },
  {
   "cell_type": "markdown",
   "id": "aa153f24-5485-4e70-88a2-43d23aaea0ff",
   "metadata": {},
   "source": [
    "# Упражнения"
   ]
  },
  {
   "cell_type": "markdown",
   "id": "31b30676",
   "metadata": {},
   "source": [
    "git clone # клонирование репозитория"
   ]
  },
  {
   "cell_type": "markdown",
   "id": "aabfa668",
   "metadata": {},
   "source": [
    "Обновляем main ветку.  \n",
    "Для этого нужно перейти. В папку с развернтум репозиторием."
   ]
  },
  {
   "cell_type": "code",
   "execution_count": 2,
   "id": "5bd0d3e7",
   "metadata": {},
   "outputs": [
    {
     "data": {
      "text/plain": [
       "'/home/jupyter-amtsu/github/team22/library/theory'"
      ]
     },
     "execution_count": 2,
     "metadata": {},
     "output_type": "execute_result"
    }
   ],
   "source": [
    "pwd"
   ]
  },
  {
   "cell_type": "code",
   "execution_count": 3,
   "id": "091d0c5b",
   "metadata": {},
   "outputs": [
    {
     "name": "stdout",
     "output_type": "stream",
     "text": [
      "/home/jupyter-amtsu/github/team22\n"
     ]
    }
   ],
   "source": [
    "cd ~/github/team22"
   ]
  },
  {
   "cell_type": "code",
   "execution_count": 4,
   "id": "eb486c38",
   "metadata": {},
   "outputs": [
    {
     "data": {
      "text/plain": [
       "'/home/jupyter-amtsu/github/team22'"
      ]
     },
     "execution_count": 4,
     "metadata": {},
     "output_type": "execute_result"
    }
   ],
   "source": [
    "pwd"
   ]
  },
  {
   "cell_type": "code",
   "execution_count": null,
   "id": "4842dc30",
   "metadata": {},
   "outputs": [],
   "source": [
    "#Посмотреть текущую ветку"
   ]
  },
  {
   "cell_type": "markdown",
   "id": "10889feb",
   "metadata": {},
   "source": [
    "Переключаемся на main"
   ]
  },
  {
   "cell_type": "code",
   "execution_count": 14,
   "id": "b9eb858f",
   "metadata": {},
   "outputs": [
    {
     "name": "stdout",
     "output_type": "stream",
     "text": [
      "Already on 'main'\r\n",
      "Your branch is behind 'origin/main' by 7 commits, and can be fast-forwarded.\r\n",
      "  (use \"git pull\" to update your local branch)\r\n"
     ]
    }
   ],
   "source": [
    "!git checkout main"
   ]
  },
  {
   "cell_type": "markdown",
   "id": "60cde36e",
   "metadata": {},
   "source": [
    "Забираем последние изменения из main"
   ]
  },
  {
   "cell_type": "code",
   "execution_count": 15,
   "id": "fb5c9b58",
   "metadata": {},
   "outputs": [
    {
     "name": "stdout",
     "output_type": "stream",
     "text": [
      "Updating faccc35..1a7fff5\n",
      "Fast-forward\n",
      " library/theory/git_base.ipynb                      |  852 \u001b[32m+++\u001b[m\n",
      " library/theory/python_basics_2.ipynb               | 1360 \u001b[31m----\u001b[m\n",
      " users/ADKazdym/a1.txt                              |   10 \u001b[32m+\u001b[m\n",
      " users/alzharin/homework_1.ipynb                    |  953 \u001b[32m+++\u001b[m\n",
      " users/alzharin/homework_2.ipynb                    | 1505 \u001b[32m++++\u001b[m\n",
      " users/amtsurkov/a1.txt                             |   40 \u001b[32m+\u001b[m\n",
      " users/amtsurkov/lesson_25/lesson_25.ipynb          |  271 \u001b[32m+\u001b[m\u001b[31m-\u001b[m\n",
      " users/andreev-aleksey/lesson_03/git_base.ipynb     |  852 \u001b[32m+++\u001b[m\n",
      " .../andreev-alexander/lesson_01/introduction.ipynb |  426 \u001b[32m++\u001b[m\n",
      " .../andreev-alexander/lesson_01/type_integer.ipynb |  301 \u001b[32m+\u001b[m\n",
      " users/andreev-alexander/lesson_01/type_list.ipynb  |  966 \u001b[32m+++\u001b[m\n",
      " .../andreev-alexander/lesson_01/type_string.ipynb  | 1271 \u001b[32m++++\u001b[m\n",
      " users/andreev-alexander/lesson_01/variables.ipynb  |  710 \u001b[32m++\u001b[m\n",
      " .../lesson_02/python_basics_2.ipynb                | 7971 \u001b[32m++++++++++++++++++++\u001b[m\n",
      " users/andreev-alexander/lesson_03/git_base.ipynb   |    0\n",
      " .../lesson_15_HW_web_prices.ipynb                  |   10 \u001b[32m+\u001b[m\u001b[31m-\u001b[m\n",
      " .../lesson_15_HW_web_prices/test_web_check.ipynb   |   79 \u001b[32m+\u001b[m\u001b[31m-\u001b[m\n",
      " .../lesson_15_HW_web_prices/web_check.py           |   24 \u001b[32m+\u001b[m\u001b[31m-\u001b[m\n",
      " .../changes_mypy_black.diff                        |  147 \u001b[32m+\u001b[m\n",
      " .../lesson_23_HW_mypy_black_pylint/web_check_v2.py |  121 \u001b[32m+\u001b[m\n",
      " 20 files changed, 16340 insertions(+), 1529 deletions(-)\n",
      " create mode 100644 library/theory/git_base.ipynb\n",
      " create mode 100644 users/ADKazdym/a1.txt\n",
      " create mode 100644 users/alzharin/homework_1.ipynb\n",
      " create mode 100644 users/alzharin/homework_2.ipynb\n",
      " create mode 100644 users/amtsurkov/a1.txt\n",
      " create mode 100644 users/andreev-aleksey/lesson_03/git_base.ipynb\n",
      " create mode 100644 users/andreev-alexander/lesson_01/introduction.ipynb\n",
      " create mode 100644 users/andreev-alexander/lesson_01/type_integer.ipynb\n",
      " create mode 100644 users/andreev-alexander/lesson_01/type_list.ipynb\n",
      " create mode 100644 users/andreev-alexander/lesson_01/type_string.ipynb\n",
      " create mode 100644 users/andreev-alexander/lesson_01/variables.ipynb\n",
      " create mode 100644 users/andreev-alexander/lesson_02/python_basics_2.ipynb\n",
      " create mode 100644 users/andreev-alexander/lesson_03/git_base.ipynb\n",
      " create mode 100644 users/mvandreeva/lesson_23_HW_mypy_black_pylint/changes_mypy_black.diff\n",
      " create mode 100644 users/mvandreeva/lesson_23_HW_mypy_black_pylint/web_check_v2.py\n"
     ]
    }
   ],
   "source": [
    "!git pull"
   ]
  },
  {
   "cell_type": "markdown",
   "id": "d321553c",
   "metadata": {},
   "source": [
    "Далее создаем ветку под новю задачу.  \n",
    "В нашем случае это код решаемых примеров, значит назёме новую ветку  home_work_1_amtsurkov"
   ]
  },
  {
   "cell_type": "code",
   "execution_count": 1,
   "id": "4a5288cd",
   "metadata": {},
   "outputs": [],
   "source": [
    "!git branch lesson_4"
   ]
  },
  {
   "cell_type": "markdown",
   "id": "3e287f26",
   "metadata": {},
   "source": [
    "После создания ветки нужно на нее переключится"
   ]
  },
  {
   "cell_type": "code",
   "execution_count": 2,
   "id": "7655dc32",
   "metadata": {},
   "outputs": [
    {
     "name": "stdout",
     "output_type": "stream",
     "text": [
      "  add_comment\u001b[m\r\n",
      "  fix_test\u001b[m\r\n",
      "  home_work_1_amtsurkov\u001b[m\r\n",
      "  lessen_23\u001b[m\r\n",
      "  lesson_20\u001b[m\r\n",
      "  lesson_22\u001b[m\r\n",
      "  lesson_4\u001b[m\r\n",
      "* \u001b[32mmain\u001b[m\r\n",
      "  mypy_black_pylint\u001b[m\r\n"
     ]
    }
   ],
   "source": [
    "!git branch"
   ]
  },
  {
   "cell_type": "code",
   "execution_count": 3,
   "id": "3ec39a39",
   "metadata": {},
   "outputs": [
    {
     "name": "stdout",
     "output_type": "stream",
     "text": [
      "M\tlibrary/theory/git_base.ipynb\r\n",
      "Switched to branch 'lesson_4'\r\n"
     ]
    }
   ],
   "source": [
    "!git checkout lesson_4"
   ]
  },
  {
   "cell_type": "markdown",
   "id": "4a204d14",
   "metadata": {},
   "source": [
    "Теперь мы готовы к написанию кода  \n",
    "Першли в свою проектную папку users/amtsurkov"
   ]
  },
  {
   "cell_type": "code",
   "execution_count": 36,
   "id": "3daaadf0",
   "metadata": {},
   "outputs": [
    {
     "name": "stdout",
     "output_type": "stream",
     "text": [
      "/home/jupyter-amtsu/github/team22/users/amtsurkov\n"
     ]
    }
   ],
   "source": [
    "cd users/amtsurkov/"
   ]
  },
  {
   "cell_type": "markdown",
   "id": "6fd0db38",
   "metadata": {},
   "source": [
    "Сделали новая фаил  \n",
    "Внесли изменения(отправим в фаил содержиммой домашней диерутори)"
   ]
  },
  {
   "cell_type": "code",
   "execution_count": 37,
   "id": "3d504d49",
   "metadata": {},
   "outputs": [],
   "source": [
    "ls -la ~ > a1.txt"
   ]
  },
  {
   "cell_type": "markdown",
   "id": "1cc9b279",
   "metadata": {},
   "source": [
    "Проверим что фаил появился"
   ]
  },
  {
   "cell_type": "code",
   "execution_count": 38,
   "id": "242e2cd8",
   "metadata": {},
   "outputs": [
    {
     "name": "stdout",
     "output_type": "stream",
     "text": [
      "-rw-r--r-- 1 jupyter-amtsu jupyter-amtsu 2298 Jan 15 13:26 a1.txt\r\n"
     ]
    }
   ],
   "source": [
    "ls -la a1.txt"
   ]
  },
  {
   "cell_type": "markdown",
   "id": "9e09f68b",
   "metadata": {},
   "source": [
    "Создали еще фаил  \n",
    "Отправим туда вывод команды uname"
   ]
  },
  {
   "cell_type": "code",
   "execution_count": 39,
   "id": "8dab8cc0",
   "metadata": {},
   "outputs": [],
   "source": [
    "!uname > a2.txt"
   ]
  },
  {
   "cell_type": "code",
   "execution_count": 40,
   "id": "00392b33",
   "metadata": {},
   "outputs": [
    {
     "name": "stdout",
     "output_type": "stream",
     "text": [
      "-rw-r--r-- 1 jupyter-amtsu jupyter-amtsu 6 Jan 15 13:27 a2.txt\r\n"
     ]
    }
   ],
   "source": [
    "ls -la a2.txt"
   ]
  },
  {
   "cell_type": "markdown",
   "id": "8475507c",
   "metadata": {},
   "source": [
    "Получили работающий код.  \n",
    "Чтобы потом иметь возможность откатиться к этому состоянию мы решаем сохраниться.  \n",
    "Для этого нужно указать изменения в каких  фалах  нам интересны для сохаранения.  \n",
    "Для того чтобы посмотреть какие фалы подверглись изменениям нужно вести команду"
   ]
  },
  {
   "cell_type": "code",
   "execution_count": 41,
   "id": "66d7d390",
   "metadata": {},
   "outputs": [
    {
     "name": "stdout",
     "output_type": "stream",
     "text": [
      "On branch home_work_1_amtsurkov\r\n",
      "Untracked files:\r\n",
      "  (use \"git add <file>...\" to include in what will be committed)\r\n",
      "\t\u001b[31m../../library/theory/Untitled.ipynb\u001b[m\r\n",
      "\t\u001b[31m../../library/theory/python_basics_2.ipynb.invalid\u001b[m\r\n",
      "\t\u001b[31m../../library/theory/python_basics_221221-1721.ipynb\u001b[m\r\n",
      "\t\u001b[31m../../tatus\u001b[m\r\n",
      "\t\u001b[31ma1.txt\u001b[m\r\n",
      "\t\u001b[31ma2.txt\u001b[m\r\n",
      "\t\u001b[31mlesson_21/Untitled.ipynb\u001b[m\r\n",
      "\t\u001b[31mlesson_21/Untitled1.ipynb\u001b[m\r\n",
      "\t\u001b[31mlesson_21/tree/\u001b[m\r\n",
      "\t\u001b[31mlesson_21/trialsport_fresh.json\u001b[m\r\n",
      "\t\u001b[31mlesson_22/dags/111\u001b[m\r\n",
      "\t\u001b[31mlesson_22/dags/index.html?sorting=price_asc\u001b[m\r\n",
      "\t\u001b[31mlesson_22/dags/test.db\u001b[m\r\n",
      "\t\u001b[31mlesson_22/dags/test.db-journal\u001b[m\r\n",
      "\t\u001b[31mlesson_22/dags/test.txt\u001b[m\r\n",
      "\t\u001b[31mlesson_22/dags/trialsport_fresh.json\u001b[m\r\n",
      "\t\u001b[31mlesson_23/Untitled.ipynb\u001b[m\r\n",
      "\t\u001b[31mlesson_23/kate.py\u001b[m\r\n",
      "\t\u001b[31mlesson_26/\u001b[m\r\n",
      "\r\n",
      "nothing added to commit but untracked files present (use \"git add\" to track)\r\n"
     ]
    }
   ],
   "source": [
    "!git status"
   ]
  },
  {
   "cell_type": "markdown",
   "id": "aadf6ca6",
   "metadata": {},
   "source": [
    "К примеру по нашей логике нам важен только Фили a1.txt  \n",
    "Тогда мы сначала добавляем этот фаил к коммиту"
   ]
  },
  {
   "cell_type": "code",
   "execution_count": 43,
   "id": "2b0c71db",
   "metadata": {},
   "outputs": [],
   "source": [
    "!git add a1.txt"
   ]
  },
  {
   "cell_type": "code",
   "execution_count": 44,
   "id": "52440fed",
   "metadata": {},
   "outputs": [
    {
     "name": "stdout",
     "output_type": "stream",
     "text": [
      "On branch home_work_1_amtsurkov\r\n",
      "Changes to be committed:\r\n",
      "  (use \"git restore --staged <file>...\" to unstage)\r\n",
      "\t\u001b[32mnew file:   a1.txt\u001b[m\r\n",
      "\r\n",
      "Untracked files:\r\n",
      "  (use \"git add <file>...\" to include in what will be committed)\r\n",
      "\t\u001b[31m../../library/theory/Untitled.ipynb\u001b[m\r\n",
      "\t\u001b[31m../../library/theory/python_basics_2.ipynb.invalid\u001b[m\r\n",
      "\t\u001b[31m../../library/theory/python_basics_221221-1721.ipynb\u001b[m\r\n",
      "\t\u001b[31m../../tatus\u001b[m\r\n",
      "\t\u001b[31ma2.txt\u001b[m\r\n",
      "\t\u001b[31mlesson_21/Untitled.ipynb\u001b[m\r\n",
      "\t\u001b[31mlesson_21/Untitled1.ipynb\u001b[m\r\n",
      "\t\u001b[31mlesson_21/tree/\u001b[m\r\n",
      "\t\u001b[31mlesson_21/trialsport_fresh.json\u001b[m\r\n",
      "\t\u001b[31mlesson_22/dags/111\u001b[m\r\n",
      "\t\u001b[31mlesson_22/dags/index.html?sorting=price_asc\u001b[m\r\n",
      "\t\u001b[31mlesson_22/dags/test.db\u001b[m\r\n",
      "\t\u001b[31mlesson_22/dags/test.db-journal\u001b[m\r\n",
      "\t\u001b[31mlesson_22/dags/test.txt\u001b[m\r\n",
      "\t\u001b[31mlesson_22/dags/trialsport_fresh.json\u001b[m\r\n",
      "\t\u001b[31mlesson_23/Untitled.ipynb\u001b[m\r\n",
      "\t\u001b[31mlesson_23/kate.py\u001b[m\r\n",
      "\t\u001b[31mlesson_26/\u001b[m\r\n",
      "\r\n"
     ]
    }
   ],
   "source": [
    "!git status"
   ]
  },
  {
   "cell_type": "markdown",
   "id": "88e5ed9d",
   "metadata": {},
   "source": [
    "И теперь сохраняя "
   ]
  },
  {
   "cell_type": "code",
   "execution_count": 45,
   "id": "ee1f282c",
   "metadata": {},
   "outputs": [
    {
     "name": "stdout",
     "output_type": "stream",
     "text": [
      "[home_work_1_amtsurkov 29b76d6] save dir content\r\n",
      " Committer: amtsu <jupyter-amtsu@vm6.template>\r\n",
      "Your name and email address were configured automatically based\r\n",
      "on your username and hostname. Please check that they are accurate.\r\n",
      "You can suppress this message by setting them explicitly:\r\n",
      "\r\n",
      "    git config --global user.name \"Your Name\"\r\n",
      "    git config --global user.email you@example.com\r\n",
      "\r\n",
      "After doing this, you may fix the identity used for this commit with:\r\n",
      "\r\n",
      "    git commit --amend --reset-author\r\n",
      "\r\n",
      " 1 file changed, 30 insertions(+)\r\n",
      " create mode 100644 users/amtsurkov/a1.txt\r\n"
     ]
    }
   ],
   "source": [
    "!git commit -m 'save dir content'"
   ]
  },
  {
   "cell_type": "markdown",
   "id": "1f952f7a",
   "metadata": {},
   "source": [
    "-m ключ команды укрывающий что комментарии будет идти в кавычках   'my first commit' -  зарь указывает коротко что вы хотели добиться этим комиком. \n",
    "Крайне делительно писать в повелительной форме.  \n",
    "К примеру :  Исправить ошибку с типами  \n",
    "Или: Сохранить данные в фаил"
   ]
  },
  {
   "cell_type": "code",
   "execution_count": 46,
   "id": "926f8633",
   "metadata": {},
   "outputs": [],
   "source": [
    "#!git config --global user.name \"amtsurkov\"\n",
    "#!git config --global user.email artemtsurkov@mail.ru"
   ]
  },
  {
   "cell_type": "markdown",
   "id": "33683ad5",
   "metadata": {},
   "source": [
    "Теперь вы можете выбрать что вам делать дальше, продолжить разработку  данной ветки,  или создать новую ветку от main или от какой-то другой, или вы готовы поделиться своей ротой с коллегами и тогда находясь в этой  ветке вам надо  засушить ее в удаленный репозиторий  на GitHub\n",
    "\n",
    "Для этого выполните команду git push\n",
    "Если такой ветки в удалённом репозитории еще нет(это первый пуш этой ветки то вам нужно выполнить это команду)"
   ]
  },
  {
   "cell_type": "code",
   "execution_count": null,
   "id": "4d13605f",
   "metadata": {},
   "outputs": [],
   "source": []
  },
  {
   "cell_type": "code",
   "execution_count": 52,
   "id": "8790eaf4",
   "metadata": {},
   "outputs": [],
   "source": [
    "ls -la /home/jupyter-amtsu/github/team22/users/amtsurkov/ > a1.txt"
   ]
  },
  {
   "cell_type": "code",
   "execution_count": 53,
   "id": "9d3d54a0",
   "metadata": {},
   "outputs": [
    {
     "name": "stdout",
     "output_type": "stream",
     "text": [
      "On branch home_work_1_amtsurkov\r\n",
      "Changes not staged for commit:\r\n",
      "  (use \"git add <file>...\" to update what will be committed)\r\n",
      "  (use \"git restore <file>...\" to discard changes in working directory)\r\n",
      "\t\u001b[31mmodified:   a1.txt\u001b[m\r\n",
      "\r\n",
      "Untracked files:\r\n",
      "  (use \"git add <file>...\" to include in what will be committed)\r\n",
      "\t\u001b[31m../../library/theory/Untitled.ipynb\u001b[m\r\n",
      "\t\u001b[31m../../library/theory/python_basics_2.ipynb.invalid\u001b[m\r\n",
      "\t\u001b[31m../../library/theory/python_basics_221221-1721.ipynb\u001b[m\r\n",
      "\t\u001b[31m../../tatus\u001b[m\r\n",
      "\t\u001b[31ma2.txt\u001b[m\r\n",
      "\t\u001b[31mlesson_21/Untitled.ipynb\u001b[m\r\n",
      "\t\u001b[31mlesson_21/Untitled1.ipynb\u001b[m\r\n",
      "\t\u001b[31mlesson_21/tree/\u001b[m\r\n",
      "\t\u001b[31mlesson_21/trialsport_fresh.json\u001b[m\r\n",
      "\t\u001b[31mlesson_22/dags/111\u001b[m\r\n",
      "\t\u001b[31mlesson_22/dags/index.html?sorting=price_asc\u001b[m\r\n",
      "\t\u001b[31mlesson_22/dags/test.db\u001b[m\r\n",
      "\t\u001b[31mlesson_22/dags/test.db-journal\u001b[m\r\n",
      "\t\u001b[31mlesson_22/dags/test.txt\u001b[m\r\n",
      "\t\u001b[31mlesson_22/dags/trialsport_fresh.json\u001b[m\r\n",
      "\t\u001b[31mlesson_23/Untitled.ipynb\u001b[m\r\n",
      "\t\u001b[31mlesson_23/kate.py\u001b[m\r\n",
      "\t\u001b[31mlesson_26/\u001b[m\r\n",
      "\r\n",
      "no changes added to commit (use \"git add\" and/or \"git commit -a\")\r\n"
     ]
    }
   ],
   "source": [
    "!git status"
   ]
  },
  {
   "cell_type": "code",
   "execution_count": 54,
   "id": "b7dd01cb",
   "metadata": {},
   "outputs": [
    {
     "name": "stdout",
     "output_type": "stream",
     "text": [
      "\u001b[1mdiff --git a/users/amtsurkov/a1.txt b/users/amtsurkov/a1.txt\u001b[m\r\n",
      "\u001b[1mindex c4dc774..486de2a 100644\u001b[m\r\n",
      "\u001b[1m--- a/users/amtsurkov/a1.txt\u001b[m\r\n",
      "\u001b[1m+++ b/users/amtsurkov/a1.txt\u001b[m\r\n",
      "\u001b[36m@@ -1,30 +1,40 @@\u001b[m\r\n",
      "\u001b[31m-total 284\u001b[m\r\n",
      "\u001b[31m-drwxr-x--- 16 jupyter-amtsu jupyter-amtsu  4096 Jan 12 11:51 \u001b[0m\u001b[01;34m.\u001b[0m/\u001b[m\r\n",
      "\u001b[31m-drwxr-xr-x 31 root          root           4096 Jan 14 17:40 \u001b[01;34m..\u001b[0m/\u001b[m\r\n",
      "\u001b[31m--rw-------  1 jupyter-amtsu jupyter-amtsu 85602 Jan 13 19:42 .bash_history\u001b[m\r\n",
      "\u001b[31m--rw-r--r--  1 jupyter-amtsu jupyter-amtsu   220 Feb 25  2020 .bash_logout\u001b[m\r\n",
      "\u001b[31m--rw-r--r--  1 jupyter-amtsu jupyter-amtsu  3771 Feb 25  2020 .bashrc\u001b[m\r\n",
      "\u001b[31m-drwxr-xr-x  9 jupyter-amtsu jupyter-amtsu  4096 Dec 18 18:44 \u001b[01;34m.cache\u001b[0m/\u001b[m\r\n",
      "\u001b[31m-drwx------  4 jupyter-amtsu jupyter-amtsu  4096 Dec 18 18:42 \u001b[01;34m.config\u001b[0m/\u001b[m\r\n",
      "\u001b[31m-drwxr-xr-x  2 jupyter-amtsu jupyter-amtsu  4096 Dec  6 15:35 \u001b[01;34m.cookiecutter_replay\u001b[0m/\u001b[m\r\n",
      "\u001b[31m-drwxr-xr-x  3 jupyter-amtsu jupyter-amtsu  4096 Dec  6 15:35 \u001b[01;34m.cookiecutters\u001b[0m/\u001b[m\r\n",
      "\u001b[31m--rw-r--r--  1 jupyter-amtsu jupyter-amtsu    21 Nov 22 16:37 .gitconfig\u001b[m\r\n",
      "\u001b[31m-drwxr-xr-x  3 jupyter-amtsu jupyter-amtsu  4096 Nov 19 20:16 \u001b[01;34mgithub\u001b[0m/\u001b[m\r\n",
      "\u001b[31m-drwxr-xr-x  2 jupyter-amtsu jupyter-amtsu  4096 Dec 25 12:17 \u001b[01;34m.ipynb_checkpoints\u001b[0m/\u001b[m\r\n",
      "\u001b[31m-drwxr-xr-x  3 jupyter-amtsu jupyter-amtsu  4096 Nov 19 20:38 \u001b[01;34m.ipython\u001b[0m/\u001b[m\r\n",
      "\u001b[31m-drwxr-xr-x  3 jupyter-amtsu jupyter-amtsu  4096 Nov 19 20:54 \u001b[01;34m.jupyter\u001b[0m/\u001b[m\r\n",
      "\u001b[31m--rw-------  1 jupyter-amtsu jupyter-amtsu    78 Dec 24 10:31 .lesshst\u001b[m\r\n",
      "\u001b[31m-drwxr-xr-x  6 jupyter-amtsu jupyter-amtsu  4096 Dec  3 20:41 \u001b[01;34m.local\u001b[0m/\u001b[m\r\n",
      "\u001b[31m-drwxr-xr-x 14 jupyter-amtsu jupyter-amtsu  4096 Nov 20 22:32 \u001b[01;34mold_home\u001b[0m/\u001b[m\r\n",
      "\u001b[31m--rw-r--r--  1 jupyter-amtsu jupyter-amtsu   838 Nov 26 17:00 .profile\u001b[m\r\n",
      "\u001b[31m-drwxr-xr-x 10 jupyter-amtsu jupyter-amtsu  4096 Dec  6 15:34 \u001b[01;34mproject\u001b[0m/\u001b[m\r\n",
      "\u001b[31m--rw-------  1 jupyter-amtsu jupyter-amtsu  3100 Dec 11 15:34 .python_history\u001b[m\r\n",
      "\u001b[31m-drwx------  3 jupyter-amtsu jupyter-amtsu  4096 Nov 19 20:22 \u001b[01;34m.ssh\u001b[0m/\u001b[m\r\n",
      "\u001b[31m-drwxr-xr-x  5 jupyter-amtsu jupyter-amtsu  4096 Jan 13 18:53 \u001b[01;34mtemp_delete\u001b[0m/\u001b[m\r\n",
      "\u001b[31m--rw-r--r--  1 jupyter-amtsu jupyter-amtsu 21842 Nov 27 16:56 temp_delete_1\u001b[m\r\n",
      "\u001b[31m--rw-r--r--  1 jupyter-amtsu jupyter-amtsu  5686 Dec 24 12:06 Untitled1.ipynb\u001b[m\r\n",
      "\u001b[31m--rw-r--r--  1 jupyter-amtsu jupyter-amtsu  6152 Jan 12 11:51 Untitled2.ipynb\u001b[m\r\n",
      "\u001b[31m--rw-r--r--  1 jupyter-amtsu jupyter-amtsu 26924 Dec 24 12:33 Untitled.ipynb\u001b[m\r\n",
      "\u001b[31m-drwxr-xr-x  2 jupyter-amtsu jupyter-amtsu  4096 Nov 22 16:17 \u001b[01;34m.vim\u001b[0m/\u001b[m\r\n",
      "\u001b[31m--rw-------  1 jupyter-amtsu jupyter-amtsu 33313 Jan 11 21:01 .viminfo\u001b[m\r\n",
      "\u001b[31m--rw-r--r--  1 jupyter-amtsu jupyter-amtsu   168 Dec 24 10:36 .wget-hsts\u001b[m\r\n",
      "\u001b[32m+\u001b[m\u001b[32mtotal 504\u001b[m\r\n",
      "\u001b[32m+\u001b[m\u001b[32mdrwxr-xr-x 24 jupyter-amtsu jupyter-amtsu   4096 Jan 15 13:09 \u001b[0m\u001b[01;34m.\u001b[0m/\u001b[m\r\n",
      "\u001b[32m+\u001b[m\u001b[32mdrwxr-xr-x 15 jupyter-amtsu jupyter-amtsu   4096 Dec 27 21:43 \u001b[01;34m..\u001b[0m/\u001b[m\r\n",
      "\u001b[32m+\u001b[m\u001b[32m-rw-r--r--  1 jupyter-amtsu jupyter-amtsu      0 Jan 15 13:33 a1.txt\u001b[m\r\n",
      "\u001b[32m+\u001b[m\u001b[32m-rw-r--r--  1 jupyter-amtsu jupyter-amtsu      6 Jan 15 13:27 a2.txt\u001b[m\r\n",
      "\u001b[32m+\u001b[m\u001b[32mdrwxr-xr-x  2 jupyter-amtsu jupyter-amtsu   4096 Dec 24 16:13 \u001b[01;34m.ipynb_checkpoints\u001b[0m/\u001b[m\r\n",
      "\u001b[32m+\u001b[m\u001b[32mdrwxr-xr-x  4 jupyter-amtsu jupyter-amtsu   4096 Dec  5 16:03 \u001b[01;34mlesson_10\u001b[0m/\u001b[m\r\n",
      "\u001b[32m+\u001b[m\u001b[32mdrwxr-xr-x  4 jupyter-amtsu jupyter-amtsu   4096 Dec  5 16:03 \u001b[01;34mlesson_11\u001b[0m/\u001b[m\r\n",
      "\u001b[32m+\u001b[m\u001b[32mdrwxr-xr-x  3 jupyter-amtsu jupyter-amtsu   4096 Dec  5 16:03 \u001b[01;34mlesson_12\u001b[0m/\u001b[m\r\n",
      "\u001b[32m+\u001b[m\u001b[32mdrwxr-xr-x  3 jupyter-amtsu jupyter-amtsu   4096 Dec  5 16:03 \u001b[01;34mlesson_13\u001b[0m/\u001b[m\r\n",
      "\u001b[32m+\u001b[m\u001b[32mdrwxr-xr-x  3 jupyter-amtsu jupyter-amtsu   4096 Dec  5 16:03 \u001b[01;34mlesson_14\u001b[0m/\u001b[m\r\n",
      "\u001b[32m+\u001b[m\u001b[32mdrwxr-xr-x  3 jupyter-amtsu jupyter-amtsu   4096 Dec 19 19:53 \u001b[01;34mlesson_15\u001b[0m/\u001b[m\r\n",
      "\u001b[32m+\u001b[m\u001b[32mdrwxr-xr-x  3 jupyter-amtsu jupyter-amtsu   4096 Nov 22 13:26 \u001b[01;34mlesson_16\u001b[0m/\u001b[m\r\n",
      "\u001b[32m+\u001b[m\u001b[32mdrwxr-xr-x  3 jupyter-amtsu jupyter-amtsu   4096 Nov 22 13:24 \u001b[01;34mlesson_17\u001b[0m/\u001b[m\r\n",
      "\u001b[32m+\u001b[m\u001b[32mdrwxr-xr-x  3 jupyter-amtsu jupyter-amtsu   4096 Nov 19 22:06 \u001b[01;34mlesson_18\u001b[0m/\u001b[m\r\n",
      "\u001b[32m+\u001b[m\u001b[32mdrwxr-xr-x  3 jupyter-amtsu jupyter-amtsu   4096 Nov 24 18:59 \u001b[01;34mlesson_19\u001b[0m/\u001b[m\r\n",
      "\u001b[32m+\u001b[m\u001b[32mdrwxr-xr-x  2 jupyter-amtsu jupyter-amtsu   4096 Nov 20 19:54 \u001b[01;34mlesson_19_2\u001b[0m/\u001b[m\r\n",
      "\u001b[32m+\u001b[m\u001b[32m-rw-r--r--  1 jupyter-amtsu jupyter-amtsu  25634 Dec 27 14:58 lesson_1.ipynb\u001b[m\r\n",
      "\u001b[32m+\u001b[m\u001b[32m-rw-r--r--  1 jupyter-amtsu jupyter-amtsu   5455 Nov 19 22:30 lesson_1_work_1.ipynb\u001b[m\r\n",
      "\u001b[32m+\u001b[m\u001b[32m-rw-r--r--  1 jupyter-amtsu jupyter-amtsu   9742 Nov 19 20:16 lesson_1_work_1_v2.ipynb\u001b[m\r\n",
      "\u001b[32m+\u001b[m\u001b[32m-rw-r--r--  1 jupyter-amtsu jupyter-amtsu   9753 Dec 24 16:13 lesson_1_work_1_v3.ipynb\u001b[m\r\n",
      "\u001b[32m+\u001b[m\u001b[32mdrwxr-xr-x  2 jupyter-amtsu jupyter-amtsu   4096 Nov 20 19:56 \u001b[01;34mlesson_20\u001b[0m/\u001b[m\r\n",
      "\u001b[32m+\u001b[m\u001b[32mdrwxr-xr-x  8 jupyter-amtsu jupyter-amtsu   4096 Nov 27 18:48 \u001b[01;34mlesson_21\u001b[0m/\u001b[m\r\n",
      "\u001b[32m+\u001b[m\u001b[32mdrwxr-xr-x  7 jupyter-amtsu jupyter-amtsu   4096 Dec 11 15:45 \u001b[01;34mlesson_22\u001b[0m/\u001b[m\r\n",
      "\u001b[32m+\u001b[m\u001b[32mdrwxr-xr-x  4 jupyter-amtsu jupyter-amtsu   4096 Dec 14 20:44 \u001b[01;34mlesson_23\u001b[0m/\u001b[m\r\n",
      "\u001b[32m+\u001b[m\u001b[32mdrwxr-xr-x  3 jupyter-amtsu jupyter-amtsu   4096 Dec 25 20:34 \u001b[01;34mlesson_24\u001b[0m/\u001b[m\r\n",
      "\u001b[32m+\u001b[m\u001b[32mdrwxr-xr-x  3 jupyter-amtsu jupyter-amtsu   4096 Jan 12 14:51 \u001b[01;34mlesson_25\u001b[0m/\u001b[m\r\n",
      "\u001b[32m+\u001b[m\u001b[32mdrwxr-xr-x  3 jupyter-amtsu jupyter-amtsu   4096 Dec 25 20:07 \u001b[01;34mlesson_26\u001b[0m/\u001b[m\r\n",
      "\u001b[32m+\u001b[m\u001b[32m-rw-r--r--  1 jupyter-amtsu jupyter-amtsu  19064 Jan 11 14:47 lesson_2.ipynb\u001b[m\r\n",
      "\u001b[32m+\u001b[m\u001b[32m-rw-r--r--  1 jupyter-amtsu jupyter-amtsu 227054 Jan 11 14:49 lesson_3.ipynb\u001b[m\r\n",
      "\u001b[32m+\u001b[m\u001b[32mdrwxr-xr-x  3 jupyter-amtsu jupyter-amtsu   4096 Nov 19 20:16 \u001b[01;34mlesson_6\u001b[0m/\u001b[m\r\n",
      "\u001b[32m+\u001b[m\u001b[32m-rw-r--r--  1 jupyter-amtsu jupyter-amtsu  39865 Nov 19 22:30 lesson_6.ipynb\u001b[m\r\n",
      "\u001b[32m+\u001b[m\u001b[32mdrwxr-xr-x  2 jupyter-amtsu jupyter-amtsu   4096 Nov 19 20:16 \u001b[01;34mlesson_6_v2\u001b[0m/\u001b[m\r\n",
      "\u001b[32m+\u001b[m\u001b[32m-rw-r--r--  1 jupyter-amtsu jupyter-amtsu   2170 Dec 19 19:38 lesson_6_work.ipynb\u001b[m\r\n",
      "\u001b[32m+\u001b[m\u001b[32m-rw-r--r--  1 jupyter-amtsu jupyter-amtsu  27958 Dec 19 19:42 lesson_7.ipynb\u001b[m\r\n",
      "\u001b[32m+\u001b[m\u001b[32m-rw-r--r--  1 jupyter-amtsu jupyter-amtsu  11826 Nov 24 20:23 lesson_8.ipynb\u001b[m\r\n",
      "\u001b[32m+\u001b[m\u001b[32mdrwxr-xr-x  2 jupyter-amtsu jupyter-amtsu   4096 Nov 19 20:16 \u001b[01;34mlesson_9\u001b[0m/\u001b[m\r\n",
      "\u001b[32m+\u001b[m\u001b[32m-rw-r--r--  1 jupyter-amtsu jupyter-amtsu   1495 Dec 19 19:38 lesson_9_1.ipynb\u001b[m\r\n",
      "\u001b[32m+\u001b[m\u001b[32m-rw-r--r--  1 jupyter-amtsu jupyter-amtsu  11584 Dec 19 19:38 lesson_9.ipynb\u001b[m\r\n",
      "\u001b[32m+\u001b[m\u001b[32m-rw-r--r--  1 jupyter-amtsu jupyter-amtsu      0 Nov 19 20:16 README.md\u001b[m\r\n"
     ]
    }
   ],
   "source": [
    "!git diff"
   ]
  },
  {
   "cell_type": "code",
   "execution_count": 55,
   "id": "00b8bb00",
   "metadata": {},
   "outputs": [],
   "source": [
    "!git add a1.txt"
   ]
  },
  {
   "cell_type": "code",
   "execution_count": 56,
   "id": "8b3340f5",
   "metadata": {},
   "outputs": [
    {
     "name": "stdout",
     "output_type": "stream",
     "text": [
      "[home_work_1_amtsurkov faa18e8] change dir\r\n",
      " Committer: amtsu <jupyter-amtsu@vm6.template>\r\n",
      "Your name and email address were configured automatically based\r\n",
      "on your username and hostname. Please check that they are accurate.\r\n",
      "You can suppress this message by setting them explicitly:\r\n",
      "\r\n",
      "    git config --global user.name \"Your Name\"\r\n",
      "    git config --global user.email you@example.com\r\n",
      "\r\n",
      "After doing this, you may fix the identity used for this commit with:\r\n",
      "\r\n",
      "    git commit --amend --reset-author\r\n",
      "\r\n",
      " 1 file changed, 40 insertions(+), 30 deletions(-)\r\n",
      " rewrite users/amtsurkov/a1.txt (100%)\r\n"
     ]
    }
   ],
   "source": [
    "!git commit -m 'change dir'"
   ]
  },
  {
   "cell_type": "markdown",
   "id": "9259aae1",
   "metadata": {},
   "source": [
    "!git push"
   ]
  },
  {
   "cell_type": "code",
   "execution_count": 59,
   "id": "943ad530",
   "metadata": {},
   "outputs": [
    {
     "name": "stdout",
     "output_type": "stream",
     "text": [
      "Enumerating objects: 13, done.\n",
      "Counting objects: 100% (13/13), done.\n",
      "Delta compression using up to 2 threads\n",
      "Compressing objects: 100% (10/10), done.\n",
      "Writing objects: 100% (10/10), 1.77 KiB | 1.77 MiB/s, done.\n",
      "Total 10 (delta 6), reused 0 (delta 0)\n",
      "remote: Resolving deltas: 100% (6/6), completed with 3 local objects.\u001b[K\n",
      "remote: \n",
      "remote: Create a pull request for 'home_work_1_amtsurkov' on GitHub by visiting:\u001b[K\n",
      "remote:      https://github.com/amtsu/team22/pull/new/home_work_1_amtsurkov\u001b[K\n",
      "remote: \n",
      "To github.com:amtsu/team22.git\n",
      " * [new branch]      home_work_1_amtsurkov -> home_work_1_amtsurkov\n",
      "Branch 'home_work_1_amtsurkov' set up to track remote branch 'home_work_1_amtsurkov' from 'origin'.\n"
     ]
    }
   ],
   "source": [
    "!git push --set-upstream origin home_work_1_amtsurkov"
   ]
  },
  {
   "cell_type": "code",
   "execution_count": null,
   "id": "d5170146",
   "metadata": {},
   "outputs": [],
   "source": []
  },
  {
   "cell_type": "markdown",
   "id": "ecf01583",
   "metadata": {},
   "source": [
    "### Все ваша ветка в удалённом репозитории. \n",
    "\n",
    "Следующим шагом, мы хотим влить ветку в основную main \n",
    "Но так как в main находится рабочий код ее для начала нужно проверить остальным членам команды. \n",
    "\n",
    "Мы с вами разделимся на 5 чтобы вы указывали 5 человек для проверки. После того как они посмотрят ваш код и одобрят и если в нем не будет конфликтов и ошибок. ТО его можно будет слить в основную ветку.\n",
    "\n",
    "Теперь у каждого задача попробовать пройти данный путь сами. Чтобы в результате вашей работы все ваши файлы с работами появились в удаленном репозитории. И получилось большое количество МР.  В ревьюирах добавьте меня, и еще 4 человек 2-х что выше вас в списке и двух что ниже(список считаем закольцованным).\n",
    "\n",
    "Если возникнут вопросы, пишите их в общий чат. Тех хе кто все  знает  и умеет работа ь с гит просьба подключаться и отвечать на вопросы по мере возможности."
   ]
  },
  {
   "cell_type": "code",
   "execution_count": null,
   "id": "2ce11f87",
   "metadata": {},
   "outputs": [],
   "source": []
  },
  {
   "cell_type": "markdown",
   "id": "52838e7f",
   "metadata": {},
   "source": [
    "# Rebase"
   ]
  },
  {
   "cell_type": "markdown",
   "id": "0fd2957e",
   "metadata": {},
   "source": [
    "Что делать если ваш коллега добавил новый функционал и влил его в мастер, пока вы делаи свою задачу. И вам хочется проверить что ваши измениия не сломатся с учетом новых функций, или вы хотите начать испольщовать их.  \n",
    "Тогда вам надо обновить вашу ветку. Есть два способа merge и rebase.  \n",
    "Мы с вами сейчас расмотрим rebase так как после него история МР становится линейной и с ней проще работать.  \n",
    "\n",
    "Для того чтобы воспольщоваться rebase вам неободимо сделать следубщее:  \n",
    "- закомитить все текщие измения в вашей ветке\n",
    " - git add\n",
    " - git commit\n",
    "- запушить их в ужакленный репози торий(чтобы иметь возможность восстановить)\n",
    " - git push\n",
    "- переключиться на main (так как там появились исправления)\n",
    " - git checkout main\n",
    "- обновть main\n",
    " - git pull\n",
    "- переклбючиться обратно на вашу ветку\n",
    " - git checkout \n",
    "- выполнить ребейз\n",
    " - git rebase main\n",
    "- запушить с флагом -f (он перезаписывает историю измений и с ним нужно быть очень осторожным)\n",
    " - git push -f\n",
    " \n",
    "Учесть что при rebase возможны конфликты"
   ]
  },
  {
   "cell_type": "code",
   "execution_count": null,
   "id": "a6072576",
   "metadata": {},
   "outputs": [],
   "source": []
  },
  {
   "cell_type": "markdown",
   "id": "fcce2df0",
   "metadata": {},
   "source": [
    "### История комитов с цветной подсветкой и построением дерева\n",
    "git log --oneline --decorate --graph --all"
   ]
  },
  {
   "cell_type": "code",
   "execution_count": null,
   "id": "46bf4fad",
   "metadata": {},
   "outputs": [],
   "source": []
  }
 ],
 "metadata": {
  "kernelspec": {
   "display_name": "Python 3 (ipykernel)",
   "language": "python",
   "name": "python3"
  },
  "language_info": {
   "codemirror_mode": {
    "name": "ipython",
    "version": 3
   },
   "file_extension": ".py",
   "mimetype": "text/x-python",
   "name": "python",
   "nbconvert_exporter": "python",
   "pygments_lexer": "ipython3",
   "version": "3.11.6"
  }
 },
 "nbformat": 4,
 "nbformat_minor": 5
}
