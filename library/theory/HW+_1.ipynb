{
 "cells": [
  {
   "cell_type": "markdown",
   "id": "b7e7a4c0",
   "metadata": {},
   "source": [
    "# Дополнительное домашнее задание № 1"
   ]
  },
  {
   "cell_type": "markdown",
   "id": "8aaaff36",
   "metadata": {},
   "source": [
    "Эта функция не работает. Доработайте ее, что бы она функционировала корректно.\n",
    "\n"
   ]
  },
  {
   "cell_type": "code",
   "execution_count": 71,
   "id": "9ae4560b",
   "metadata": {},
   "outputs": [],
   "source": [
    "def multiply(a, b): # Не меняйте название функции, иначе тесты не будут работать.\n",
    "    return a * b"
   ]
  },
  {
   "cell_type": "code",
   "execution_count": 27,
   "id": "a01f5d71",
   "metadata": {},
   "outputs": [
    {
     "name": "stdout",
     "output_type": "stream",
     "text": [
      "Не работает :(\n"
     ]
    }
   ],
   "source": [
    "def test_happy_pass(): # Не забудьте запустить блок функции перед запуском теста\n",
    "    if multiply(2, 3) == 6:\n",
    "        print(\"Тест пройден.\\nВы молодец!\")\n",
    "    else:\n",
    "        print(\"Не работает :(\")\n",
    "test_happy_pass()"
   ]
  },
  {
   "cell_type": "code",
   "execution_count": 74,
   "id": "589f2d90",
   "metadata": {},
   "outputs": [
    {
     "name": "stdout",
     "output_type": "stream",
     "text": [
      "True\n"
     ]
    }
   ],
   "source": [
    "import pytest\n",
    "#@pytest.mark.parametrize(\"a, b\", (())\n",
    "def test_1():\n",
    "    return multiply(2, 3) == 6\n",
    "print(test_1())"
   ]
  },
  {
   "cell_type": "markdown",
   "id": "28928597",
   "metadata": {},
   "source": [
    "Напишите функцию, которая принимает список чисел и возвращает сумму чисел. Числа могут быть отрицательными или десятичными. Если список не содержит чисел, вы должны вернуть 0. В списке будут содержаться только числа.\n",
    "    \n",
    "    Пример:\n",
    "\n",
    "    Ввод: [1, 5.2, 4, 0, -1]   Вывод: 9,2\n",
    "\n",
    "    Ввод: [ ]                  Вывод: 0\n",
    "\n",
    "    Ввод: [-2,398]             Вывод: -2,398"
   ]
  },
  {
   "cell_type": "code",
   "execution_count": 53,
   "id": "8339eda0",
   "metadata": {},
   "outputs": [],
   "source": [
    "def sum_array(a):\n",
    "     return 0"
   ]
  },
  {
   "cell_type": "code",
   "execution_count": 61,
   "id": "f48e58ad",
   "metadata": {},
   "outputs": [
    {
     "name": "stdout",
     "output_type": "stream",
     "text": [
      "Тест 1 не пройден :(\n",
      "Тест 1 не пройден :(\n",
      "Тест 1 не пройден :(\n",
      "Тест 1 не пройден :(\n",
      "5\n"
     ]
    }
   ],
   "source": [
    "def tests():\n",
    "    test_count = 1\n",
    "    fault = f\"Тест {test_count} не пройден :(\"\n",
    "    if sum_array([]) != 0:\n",
    "        print(fault)\n",
    "    test_count = test_count + 1\n",
    "    if sum_array([1, 2, 3]) != 6:\n",
    "        print(fault)\n",
    "    test_count += 1\n",
    "    if sum_array([1.1, 2.2, 3.3]) != 6.6:\n",
    "        print(fault)\n",
    "    test_count += 1\n",
    "    if sum_array([4, 5, 6]) != 15:\n",
    "        print(fault)\n",
    "    test_count += 1\n",
    "    if sum_array(range(101)) != 5050:\n",
    "        print(fault)\n",
    "    else:\n",
    "        print(\"Тест пройден.\\nВы молодец!\")\n",
    "    print(test_count)\n",
    "tests()"
   ]
  },
  {
   "cell_type": "code",
   "execution_count": null,
   "id": "cda83b91",
   "metadata": {},
   "outputs": [],
   "source": []
  },
  {
   "cell_type": "code",
   "execution_count": null,
   "id": "62966e1e",
   "metadata": {},
   "outputs": [],
   "source": []
  }
 ],
 "metadata": {
  "kernelspec": {
   "display_name": "Python 3 (ipykernel)",
   "language": "python",
   "name": "python3"
  },
  "language_info": {
   "codemirror_mode": {
    "name": "ipython",
    "version": 3
   },
   "file_extension": ".py",
   "mimetype": "text/x-python",
   "name": "python",
   "nbconvert_exporter": "python",
   "pygments_lexer": "ipython3",
   "version": "3.9.7"
  }
 },
 "nbformat": 4,
 "nbformat_minor": 5
}
