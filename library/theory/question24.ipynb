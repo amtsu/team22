{
 "cells": [
  {
   "cell_type": "markdown",
   "id": "d8fbda95-20f8-41a9-9c11-08f2479ef297",
   "metadata": {},
   "source": [
    "**1.  Что такое Python?**"
   ]
  },
  {
   "cell_type": "markdown",
   "id": "f2137c75-0c10-48da-91c3-29acaf52ed0f",
   "metadata": {},
   "source": [
    "*   **Ответ:** Python - это высокоуровневый, интерпретируемый язык программирования общего назначения, известный своей простотой и читабельностью."
   ]
  },
  {
   "cell_type": "markdown",
   "id": "fdb65d55-d7ca-44f8-a6fb-daf5d200301f",
   "metadata": {},
   "source": [
    "**2.  Каковы преимущества Python?**"
   ]
  },
  {
   "cell_type": "markdown",
   "id": "7443e6bc-43d6-4b3b-839f-de341dea818e",
   "metadata": {},
   "source": [
    "*   **Ответ:**  Простой и легко изучаемый, интерпретируемый, кроссплатформенный, богатый стандартными библиотеками, открытый исходный код, поддержка ООП,  широко используется в различных областях."
   ]
  },
  {
   "cell_type": "markdown",
   "id": "524337d0-7220-4522-a218-0a420901fb48",
   "metadata": {},
   "source": [
    "**3.  Что такое интерпретатор Python?**"
   ]
  },
  {
   "cell_type": "markdown",
   "id": "7b7fb87f-710e-4d80-81a5-07b14f6415de",
   "metadata": {},
   "source": [
    "*   **Ответ:** Интерпретатор Python - это программа, которая выполняет код Python построчно, переводя его в машинный код."
   ]
  },
  {
   "cell_type": "markdown",
   "id": "2707d84a-d402-49a2-b0e8-5a0648800f71",
   "metadata": {},
   "source": [
    "**4.  Как запустить Python-скрипт?**"
   ]
  },
  {
   "cell_type": "markdown",
   "id": "13d8c3ed-e2b8-443c-8109-e8f05d046255",
   "metadata": {},
   "source": [
    "*   **Ответ:**  В командной строке:  `python имя_файла.py`. "
   ]
  },
  {
   "cell_type": "markdown",
   "id": "4885b4e8-5e1b-4ee5-912b-daac6bb8f09d",
   "metadata": {},
   "source": [
    "**5.  Что такое переменная в Python?**"
   ]
  },
  {
   "cell_type": "markdown",
   "id": "f5562a5c-8bcf-4cf0-af3e-e1931b8e840f",
   "metadata": {},
   "source": [
    "*   **Ответ:**  Переменная - это имя, которое связывается с данными (значением). "
   ]
  },
  {
   "cell_type": "markdown",
   "id": "bf9a2a01-b16f-4984-a03b-78b3f5b83958",
   "metadata": {},
   "source": [
    "**6.  Какие типы данных есть в Python?**"
   ]
  },
  {
   "cell_type": "markdown",
   "id": "8321a796-b469-41f3-876e-65217990612c",
   "metadata": {},
   "source": [
    "*   **Ответ:** Основные типы данных: int, float, str, bool, list, tuple, dict, set."
   ]
  },
  {
   "cell_type": "markdown",
   "id": "d6b0e59b-4132-4d15-a3ef-2da750b598a2",
   "metadata": {},
   "source": [
    "**7.  Как определить тип данных переменной?**"
   ]
  },
  {
   "cell_type": "markdown",
   "id": "600d05ca-7b30-4f31-b91e-927bbf181753",
   "metadata": {},
   "source": [
    "*   **Ответ:**  `type(имя_переменной)`"
   ]
  },
  {
   "cell_type": "markdown",
   "id": "9b68af12-ed19-42a0-a7cc-6d24dbb8b2fd",
   "metadata": {},
   "source": [
    "**8.  Как выполнить арифметические операции в Python?**"
   ]
  },
  {
   "cell_type": "markdown",
   "id": "e1b17511-405c-4f77-8fa2-fab02e444a02",
   "metadata": {},
   "source": [
    "*   **Ответ:**  +, -, *, /, %, //, **"
   ]
  },
  {
   "cell_type": "markdown",
   "id": "63c77524-95ce-4bc4-b601-5269f797845d",
   "metadata": {},
   "source": [
    "**9.  Что такое операторы сравнения в Python?**"
   ]
  },
  {
   "cell_type": "markdown",
   "id": "547edde6-7aa9-4f6d-b995-822808f30d6f",
   "metadata": {},
   "source": [
    "*   **Ответ:**  ==, !=, >, <, >=, <="
   ]
  },
  {
   "cell_type": "markdown",
   "id": "5cdc045a-8156-4313-9908-b3c50aa7f645",
   "metadata": {},
   "source": [
    "**10. Что такое логические операторы в Python?**"
   ]
  },
  {
   "cell_type": "markdown",
   "id": "c03523ae-f09e-410d-9eb6-6e0e8dd00f08",
   "metadata": {},
   "source": [
    "*   **Ответ:**  and, or, not"
   ]
  },
  {
   "cell_type": "markdown",
   "id": "70c8bc83-5c77-4496-9467-4c2da7fa7792",
   "metadata": {},
   "source": [
    "**11. Как использовать условный оператор if-else в Python?**"
   ]
  },
  {
   "cell_type": "markdown",
   "id": "36fa1ec2-cceb-4914-903b-eca172668e7f",
   "metadata": {},
   "source": [
    "\n",
    "    if условие:\n",
    "        # код, который выполнится, если условие истинно\n",
    "    else:\n",
    "        # код, который выполнится, если условие ложно"
   ]
  },
  {
   "cell_type": "markdown",
   "id": "f1ab609c-305b-49c7-b6b9-c02a235b5821",
   "metadata": {},
   "source": [
    "12. Как использовать циклы for и while в Python?"
   ]
  },
  {
   "cell_type": "markdown",
   "id": "9bf9adc5-6056-4739-bc6a-666cfc69fc4a",
   "metadata": {},
   "source": [
    "    # Цикл for\n",
    "    for элемент in итерируемый_объект:\n",
    "        # код, который выполнится для каждого элемента\n",
    "    \n",
    "    # Цикл while\n",
    "    while условие:\n",
    "        # код, который выполнится, пока условие истинно"
   ]
  },
  {
   "cell_type": "markdown",
   "id": "dabd72f4-a4c3-4444-bf93-96779d9cf815",
   "metadata": {},
   "source": [
    "13. Что такое список (list) в Python?"
   ]
  },
  {
   "cell_type": "markdown",
   "id": "94846da7-e095-4ae8-946e-be7963fd4084",
   "metadata": {},
   "source": [
    "•  Ответ: Список - упорядоченная изменяемая коллекция элементов. "
   ]
  },
  {
   "cell_type": "markdown",
   "id": "54370d1a-1163-4ad7-89b0-5d714f724dc0",
   "metadata": {},
   "source": [
    "14. Как создать список?"
   ]
  },
  {
   "cell_type": "markdown",
   "id": "2c429dc6-d65d-4058-892e-38854d06d83e",
   "metadata": {},
   "source": [
    "•  Ответ: список = [элемент1, элемент2, ...]"
   ]
  },
  {
   "cell_type": "markdown",
   "id": "807a93e8-ef44-4a71-851d-6457d78a772a",
   "metadata": {},
   "source": [
    "15. Как получить доступ к элементам списка?"
   ]
  },
  {
   "cell_type": "markdown",
   "id": "193a9587-2d93-4e3f-8262-94d39f6ecb81",
   "metadata": {},
   "source": [
    "•  Ответ: список[индекс]"
   ]
  },
  {
   "cell_type": "code",
   "execution_count": 2,
   "id": "857deae6-5d9d-4671-a31c-ea3dacafd7dc",
   "metadata": {},
   "outputs": [],
   "source": [
    "#help(list)"
   ]
  },
  {
   "cell_type": "markdown",
   "id": "351ada27-8d87-4e23-8f22-5b068e4bd59c",
   "metadata": {},
   "source": [
    "16. Как добавить элемент в список?"
   ]
  },
  {
   "cell_type": "markdown",
   "id": "5550d8bb-2fd0-4ec0-b581-0b38c43f4bb1",
   "metadata": {},
   "source": [
    "•  Ответ: список.append(элемент)"
   ]
  },
  {
   "cell_type": "markdown",
   "id": "d12c65e2-d043-4565-a8b2-1854e1c713fd",
   "metadata": {},
   "source": [
    "17. Как удалить элемент из списка?"
   ]
  },
  {
   "cell_type": "markdown",
   "id": "74cb4e24-4f17-412e-86cc-62dbab7e7016",
   "metadata": {},
   "source": [
    "•  Ответ: список.remove(элемент) или del список[индекс]"
   ]
  },
  {
   "cell_type": "markdown",
   "id": "2a646e85-529d-43a1-85ae-1cdf8fa0f924",
   "metadata": {},
   "source": [
    "18. Что такое кортеж (tuple) в Python?"
   ]
  },
  {
   "cell_type": "markdown",
   "id": "d725d3da-1484-4aaa-bc6b-bd2d1d31cefb",
   "metadata": {},
   "source": [
    "•  Ответ: Кортеж - упорядоченная неизменяемая коллекция элементов. "
   ]
  },
  {
   "cell_type": "markdown",
   "id": "0b0d1d7b-4cac-404e-b1cc-a5a858503efb",
   "metadata": {},
   "source": [
    "19. Как создать кортеж?"
   ]
  },
  {
   "cell_type": "markdown",
   "id": "0b90bd69-8534-4268-9fe0-3d00a19540da",
   "metadata": {},
   "source": [
    "•  Ответ: кортеж = (элемент1, элемент2, ...)"
   ]
  },
  {
   "cell_type": "markdown",
   "id": "9d8754a5-ad89-4834-aef7-85bb8ccb35c6",
   "metadata": {},
   "source": [
    "20. Как получить доступ к элементам кортежа?"
   ]
  },
  {
   "cell_type": "markdown",
   "id": "9b05cbff-76c7-4e18-967b-7787f18574fa",
   "metadata": {},
   "source": [
    "•  Ответ: кортеж[индекс]"
   ]
  },
  {
   "cell_type": "markdown",
   "id": "a2e7d02a-2157-4e22-b0a2-3dd02ac499f8",
   "metadata": {},
   "source": [
    "21. Что такое словарь (dictionary) в Python?"
   ]
  },
  {
   "cell_type": "markdown",
   "id": "2c385551-739d-41b8-94e8-8024aec1762d",
   "metadata": {},
   "source": [
    "•  Ответ: Словарь - неупорядоченная коллекция пар ключ-значение."
   ]
  },
  {
   "cell_type": "markdown",
   "id": "595d6934-7c5d-4f04-84ad-6ac0e6d3b3fc",
   "metadata": {},
   "source": [
    "22. Как создать словарь?"
   ]
  },
  {
   "cell_type": "markdown",
   "id": "4d6b0a02-6765-4bed-95af-1d131c93a9a5",
   "metadata": {},
   "source": [
    "•  Ответ: словарь = {ключ1: значение1, ключ2: значение2, ...}"
   ]
  },
  {
   "cell_type": "markdown",
   "id": "55fd0268-7465-4b44-a9c2-41d04105f43a",
   "metadata": {},
   "source": [
    "23. Как получить доступ к значениям словаря?"
   ]
  },
  {
   "cell_type": "markdown",
   "id": "e36cdd53-7ce2-4135-a565-6cef8f46bb37",
   "metadata": {},
   "source": [
    "•  Ответ: словарь[ключ]"
   ]
  },
  {
   "cell_type": "markdown",
   "id": "46f68dfc-2bda-4bdd-ace9-27ca166bc762",
   "metadata": {},
   "source": [
    "24. Как добавить пару ключ-значение в словарь?"
   ]
  },
  {
   "cell_type": "markdown",
   "id": "395bd91b-8b4e-4ca0-9bbb-60fe5d582fec",
   "metadata": {},
   "source": [
    "•  Ответ: словарь[ключ] = значение"
   ]
  },
  {
   "cell_type": "markdown",
   "id": "6493b8c7-529f-43b8-9e9c-705233ffca2b",
   "metadata": {},
   "source": [
    "25. Как удалить пару ключ-значение из словаря?"
   ]
  },
  {
   "cell_type": "markdown",
   "id": "d9e897b1-312a-40be-be9a-1a6c72d38fe8",
   "metadata": {},
   "source": [
    "•  Ответ: del словарь[ключ]"
   ]
  },
  {
   "cell_type": "markdown",
   "id": "ce557cbb-d49c-44c3-ac44-dc3b83fa9332",
   "metadata": {},
   "source": [
    "26. Что такое множество (set) в Python?"
   ]
  },
  {
   "cell_type": "markdown",
   "id": "a035de1a-ec69-43f9-9fb9-55cf8457372e",
   "metadata": {},
   "source": [
    "•  Ответ: Множество - неупорядоченная коллекция уникальных элементов."
   ]
  },
  {
   "cell_type": "markdown",
   "id": "0b7b48b7-198c-418a-947c-889a8b7e7aee",
   "metadata": {},
   "source": [
    "27. Как создать множество?"
   ]
  },
  {
   "cell_type": "markdown",
   "id": "709ca73f-441e-4619-87ed-e1a22972af34",
   "metadata": {},
   "source": [
    "•  Ответ: множество = {элемент1, элемент2, ...}"
   ]
  },
  {
   "cell_type": "markdown",
   "id": "865d9bc8-82f3-4c4e-ae18-4bc115644c4a",
   "metadata": {},
   "source": [
    "28. Как добавить элемент в множество?"
   ]
  },
  {
   "cell_type": "markdown",
   "id": "ac56f6c3-4526-4c79-9c95-9524e3ba800b",
   "metadata": {},
   "source": [
    "•  Ответ: множество.add(элемент)"
   ]
  },
  {
   "cell_type": "markdown",
   "id": "1c16c4db-a93f-42a4-bc9e-c881e4d207a4",
   "metadata": {},
   "source": [
    "29. Как удалить элемент из множества?"
   ]
  },
  {
   "cell_type": "markdown",
   "id": "254fa6fd-f71b-4b46-89a5-dec94671b333",
   "metadata": {},
   "source": [
    "•  Ответ: множество.remove(элемент)"
   ]
  },
  {
   "cell_type": "markdown",
   "id": "ae82e25d-0368-432c-8e2e-3a21a4800017",
   "metadata": {},
   "source": [
    "30. Что такое функция в Python?"
   ]
  },
  {
   "cell_type": "markdown",
   "id": "191bafc6-51a6-4ea5-853e-45d4c19aec22",
   "metadata": {},
   "source": [
    "•  Ответ: Функция - блок кода, который выполняет определенную задачу и может быть вызван многократно."
   ]
  },
  {
   "cell_type": "markdown",
   "id": "470308e9-08aa-44fc-9481-bbd4dafecf8d",
   "metadata": {},
   "source": [
    "31. Как определить функцию?"
   ]
  },
  {
   "cell_type": "markdown",
   "id": "f125ec38-4098-497e-be20-ba19cebe9afe",
   "metadata": {},
   "source": [
    "def имя_функции(аргументы):\n",
    "        # код функции\n",
    "        return значение"
   ]
  },
  {
   "cell_type": "markdown",
   "id": "0f6c067b-073c-4827-8cc9-93479733370a",
   "metadata": {},
   "source": [
    "32. Как вызвать функцию?"
   ]
  },
  {
   "cell_type": "markdown",
   "id": "a135bdb2-36f6-40b2-a00c-cad9abefc2b6",
   "metadata": {},
   "source": [
    "•  Ответ: имя_функции(аргументы)"
   ]
  },
  {
   "cell_type": "markdown",
   "id": "19179fea-94e6-4bfb-a27d-9310cbe7d3a9",
   "metadata": {},
   "source": [
    "33. Что такое аргументы функции?"
   ]
  },
  {
   "cell_type": "markdown",
   "id": "e2696b99-aedc-4007-9395-a9ef86902e18",
   "metadata": {},
   "source": [
    "•  Ответ: Аргументы - это данные, которые передаются функции при ее вызове."
   ]
  },
  {
   "cell_type": "markdown",
   "id": "1832dffe-2e82-4c6d-b0e9-7f1fc0146dda",
   "metadata": {},
   "source": [
    "34. Что такое возвращаемое значение функции?"
   ]
  },
  {
   "cell_type": "markdown",
   "id": "f1d285a0-93f6-4c82-bd6a-563c4e9a9299",
   "metadata": {},
   "source": [
    "•  Ответ: Возвращаемое значение - это результат, который функция возвращает после выполнения."
   ]
  },
  {
   "cell_type": "markdown",
   "id": "45f0cc37-fa2d-4896-81bc-27cdfe9b8daa",
   "metadata": {},
   "source": [
    "35. Как использовать рекурсивные функции?"
   ]
  },
  {
   "cell_type": "markdown",
   "id": "850f8ae6-3710-4a6c-876c-4156f93d6da7",
   "metadata": {},
   "source": [
    "•  Ответ: Рекурсивная функция - это функция, которая вызывает саму себя."
   ]
  },
  {
   "cell_type": "markdown",
   "id": "95dd1bfb-a3ed-4a42-a2ed-1c45020d7b40",
   "metadata": {},
   "source": [
    "36. Что такое модуль в Python?"
   ]
  },
  {
   "cell_type": "markdown",
   "id": "20c3f6c7-9325-432e-84a1-2456fca85174",
   "metadata": {},
   "source": [
    "•  Ответ: Модуль - это файл, содержащий код Python."
   ]
  },
  {
   "cell_type": "markdown",
   "id": "07942faa-5d10-4a4b-857b-150f88c5e31e",
   "metadata": {},
   "source": [
    "37. Как импортировать модуль?"
   ]
  },
  {
   "cell_type": "markdown",
   "id": "abc3cd5b-a476-4559-8b8e-9661c7178982",
   "metadata": {},
   "source": [
    "•  Ответ: import имя_модуля"
   ]
  },
  {
   "cell_type": "markdown",
   "id": "1e585010-ddd1-44b6-ae9c-c4c3442b3250",
   "metadata": {},
   "source": [
    "38. Как использовать атрибуты модуля?"
   ]
  },
  {
   "cell_type": "markdown",
   "id": "25808ae4-71e6-45f3-ab46-afd263cb533f",
   "metadata": {},
   "source": [
    "•  Ответ: имя_модуля.имя_атрибута"
   ]
  },
  {
   "cell_type": "markdown",
   "id": "706bf0dc-33e4-4007-9251-ad5e0edfea28",
   "metadata": {},
   "source": [
    "39. Что такое пакет в Python?"
   ]
  },
  {
   "cell_type": "markdown",
   "id": "61b51dbd-a371-4e0d-a399-1ccbb6896130",
   "metadata": {},
   "source": [
    "•  Ответ: Пакет - это набор модулей, объединенных в единую структуру."
   ]
  },
  {
   "cell_type": "markdown",
   "id": "82288934-7d5d-447b-9258-e27aee0d811d",
   "metadata": {},
   "source": [
    "40. Как импортировать пакет?"
   ]
  },
  {
   "cell_type": "markdown",
   "id": "439cc1b3-f051-4cc1-9abf-ff37e771810b",
   "metadata": {},
   "source": [
    "•  Ответ: from имя_пакета import имя_модуля"
   ]
  },
  {
   "cell_type": "markdown",
   "id": "f6d2eb9a-55fb-4e68-9dd8-76897dcfa569",
   "metadata": {},
   "source": [
    "41. Что такое класс в Python?"
   ]
  },
  {
   "cell_type": "markdown",
   "id": "ffa85f5c-4107-4015-855f-c23eaf5e3ae2",
   "metadata": {},
   "source": [
    "•  Ответ: Класс - это шаблон для создания объектов."
   ]
  },
  {
   "cell_type": "markdown",
   "id": "e8ad9aca-9c96-457d-9050-afd8e6cc3d63",
   "metadata": {},
   "source": [
    "42. Как определить класс?"
   ]
  },
  {
   "cell_type": "markdown",
   "id": "3f5caf79-005f-429a-bc7b-dc8eb335507c",
   "metadata": {},
   "source": [
    "    class ИмяКласса:\n",
    "        # атрибуты класса\n",
    "        # методы класса"
   ]
  },
  {
   "cell_type": "markdown",
   "id": "f9fb7d65-251e-415d-91f5-ef45b2fcf119",
   "metadata": {},
   "source": [
    "43. Что такое объект в Python?"
   ]
  },
  {
   "cell_type": "markdown",
   "id": "aa9a8cd3-f1f2-4a25-be03-8e6f0c029c4c",
   "metadata": {},
   "source": [
    "•  Ответ: Объект - это экземпляр класса."
   ]
  },
  {
   "cell_type": "markdown",
   "id": "896d0b0b-bafe-462d-a4bd-ccf133ea02aa",
   "metadata": {},
   "source": [
    "44. Как создать объект?"
   ]
  },
  {
   "cell_type": "markdown",
   "id": "ecf62746-2229-4ea9-af4f-c74c370035a6",
   "metadata": {},
   "source": [
    "•  Ответ: объект = ИмяКласса()"
   ]
  },
  {
   "cell_type": "markdown",
   "id": "09e068eb-6f2e-401a-b6c1-bee6bcdd9483",
   "metadata": {},
   "source": [
    "45. Что такое атрибуты класса?"
   ]
  },
  {
   "cell_type": "markdown",
   "id": "a538fac0-fddd-479b-ad75-3d056a60fb81",
   "metadata": {},
   "source": [
    "•  Ответ: Атрибуты - это переменные, которые хранят данные, связанные с классом или объектом."
   ]
  },
  {
   "cell_type": "markdown",
   "id": "3aa5e6e2-8eae-46b8-926e-14555d130fd6",
   "metadata": {},
   "source": [
    "46. Как получить доступ к атрибутам объекта?"
   ]
  },
  {
   "cell_type": "markdown",
   "id": "13ab40e6-43ba-45c2-955c-c1f9da02c1e2",
   "metadata": {},
   "source": [
    "•  Ответ: объект.имя_атрибута"
   ]
  },
  {
   "cell_type": "markdown",
   "id": "b23547ca-9802-4c1e-ae94-18f83681f51c",
   "metadata": {},
   "source": [
    "47. Что такое методы класса?"
   ]
  },
  {
   "cell_type": "markdown",
   "id": "1b5814e4-a857-4461-aa84-b6f14bb87615",
   "metadata": {},
   "source": [
    "•  Ответ: Методы - это функции, которые определены внутри класса и работают с атрибутами класса или объекта."
   ]
  },
  {
   "cell_type": "markdown",
   "id": "287431a7-cfeb-4f2f-b84c-5635d8146103",
   "metadata": {},
   "source": [
    "48. Как вызвать метод объекта?"
   ]
  },
  {
   "cell_type": "markdown",
   "id": "e89460a6-dfbe-4c5a-9d2b-4f110a22b664",
   "metadata": {},
   "source": [
    "•  Ответ: объект.имя_метода(аргументы)"
   ]
  },
  {
   "cell_type": "markdown",
   "id": "bf187737-9743-43d0-a096-dad8df3f8598",
   "metadata": {},
   "source": [
    "49. Что такое конструктор класса?"
   ]
  },
  {
   "cell_type": "markdown",
   "id": "8c2dc6ae-eaff-413b-954c-d9c9a3ed96ec",
   "metadata": {},
   "source": [
    "•  Ответ: Конструктор - это специальный метод класса, который вызывается при создании объекта."
   ]
  },
  {
   "cell_type": "markdown",
   "id": "0663b3b7-af0b-4930-9ad4-fa423c2c272a",
   "metadata": {},
   "source": [
    "50. Как определить конструктор?"
   ]
  },
  {
   "cell_type": "markdown",
   "id": "59c644dc-b557-4761-98df-c163a52378dd",
   "metadata": {},
   "source": [
    "•  Ответ: def __init__(self, аргументы):"
   ]
  },
  {
   "cell_type": "markdown",
   "id": "49a5df74-359a-4d37-9672-605e5dfd4bbc",
   "metadata": {},
   "source": [
    "51. Что такое наследование в Python?"
   ]
  },
  {
   "cell_type": "markdown",
   "id": "a4bdf340-8e94-4767-9894-4bbe5303d83c",
   "metadata": {},
   "source": [
    "•  Ответ: Наследование - это механизм, который позволяет создавать новые классы на основе уже существующих."
   ]
  },
  {
   "cell_type": "markdown",
   "id": "730b7950-b8b6-4b56-b548-77bbf1c31cd8",
   "metadata": {},
   "source": [
    "52. Как реализовать наследование?"
   ]
  },
  {
   "cell_type": "markdown",
   "id": "99e6bc95-67db-4189-87a3-eb3c1173c9b9",
   "metadata": {},
   "source": [
    "•  Ответ: class НовыйКласс(РодительскийКласс):"
   ]
  },
  {
   "cell_type": "markdown",
   "id": "59ec0f9e-9a24-40e1-b7ed-7ce775557a7e",
   "metadata": {},
   "source": [
    "53. Что такое полиморфизм в Python?"
   ]
  },
  {
   "cell_type": "markdown",
   "id": "36f17607-4c64-41d2-9a0b-1878a30dd582",
   "metadata": {},
   "source": [
    "•  Ответ: Полиморфизм - это способность одного и того же кода работать с объектами разных типов."
   ]
  },
  {
   "cell_type": "markdown",
   "id": "a8865bc0-3bc0-4c54-8cab-8a5bf2c07d41",
   "metadata": {},
   "source": [
    "54. Как реализовать полиморфизм?"
   ]
  },
  {
   "cell_type": "markdown",
   "id": "37860c84-94ab-43bf-8ebb-f6083871fded",
   "metadata": {},
   "source": [
    "•  Ответ: Использование переопределения методов."
   ]
  },
  {
   "cell_type": "markdown",
   "id": "3e8ddcda-ead7-46ce-8187-4fe4a7c46a67",
   "metadata": {},
   "source": [
    "55. Что такое абстрактный класс в Python?"
   ]
  },
  {
   "cell_type": "markdown",
   "id": "6b6ffbed-97ad-469d-88c5-79f1d1b8a7d6",
   "metadata": {},
   "source": [
    "•  Ответ: Абстрактный класс - это класс, который нельзя создавать, но можно использовать в качестве основы для других классов."
   ]
  },
  {
   "cell_type": "markdown",
   "id": "c4807bf2-02f3-44d0-855b-e0c866be6c6d",
   "metadata": {},
   "source": [
    "56. Как определить абстрактный класс?"
   ]
  },
  {
   "cell_type": "markdown",
   "id": "650fb1a1-edad-4f4c-814a-2d10b2a48c6e",
   "metadata": {},
   "source": [
    "•  Ответ: Использование модуля abc и декоратора @abstractmethod."
   ]
  },
  {
   "cell_type": "markdown",
   "id": "02d166f0-29b1-464e-8c34-42af19b3938d",
   "metadata": {},
   "source": [
    "57. Что такое исключение в Python?"
   ]
  },
  {
   "cell_type": "markdown",
   "id": "75ee116d-bc0a-432a-9e8e-30eb647163dd",
   "metadata": {},
   "source": [
    "•  Ответ: Исключение - это ошибка, которая возникает во время выполнения программы."
   ]
  },
  {
   "cell_type": "markdown",
   "id": "f944dd6a-835d-4939-b41d-f0191a4d92b2",
   "metadata": {},
   "source": [
    "58. Как обрабатывать исключения?"
   ]
  },
  {
   "cell_type": "markdown",
   "id": "34275b14-adcf-468b-9b15-b3d2df2cb992",
   "metadata": {},
   "source": [
    "•  Ответ: Использование блока try-except."
   ]
  },
  {
   "cell_type": "markdown",
   "id": "0478b033-4e9b-4e37-8287-02b0d3340ebf",
   "metadata": {},
   "source": [
    "59. Какие типы исключений есть в Python?"
   ]
  },
  {
   "cell_type": "markdown",
   "id": "c26b6a3d-0141-4873-8ebf-5e777047faf4",
   "metadata": {},
   "source": [
    "•  Ответ: ZeroDivisionError, ValueError, TypeError, IndexError, NameError, FileNotFoundError, etc."
   ]
  },
  {
   "cell_type": "markdown",
   "id": "20cf7887-2a3b-4f90-a139-ac2bae373343",
   "metadata": {},
   "source": [
    "60. Как генерировать исключение?"
   ]
  },
  {
   "cell_type": "markdown",
   "id": "dcde3bbb-5a61-4a20-b484-8a3274252ae9",
   "metadata": {},
   "source": [
    "•  Ответ: Использование оператора raise."
   ]
  },
  {
   "cell_type": "markdown",
   "id": "e08131fb-7d2a-4c02-9b3e-9c7753668de7",
   "metadata": {},
   "source": [
    "61. Что такое обработка файлов в Python?"
   ]
  },
  {
   "cell_type": "markdown",
   "id": "7c4c951c-ac4a-42ee-8758-615b2b045492",
   "metadata": {},
   "source": [
    "•  Ответ: Обработка файлов - это процесс чтения, записи и манипулирования данными в файлах."
   ]
  },
  {
   "cell_type": "markdown",
   "id": "b87bfbf5-fb72-42e5-b9a5-f9fa1e475aaf",
   "metadata": {},
   "source": [
    "62. Как открыть файл для чтения?"
   ]
  },
  {
   "cell_type": "markdown",
   "id": "16e2c8b8-8383-404c-a96f-f83a379237f3",
   "metadata": {},
   "source": [
    "•  Ответ: файл = open(\"имя_файла.txt\", \"r\")"
   ]
  },
  {
   "cell_type": "markdown",
   "id": "2774c2b3-ca50-416e-9f4d-52ff7c5ace35",
   "metadata": {},
   "source": [
    "63. Как открыть файл для записи?"
   ]
  },
  {
   "cell_type": "markdown",
   "id": "8e0ed2d1-cab6-4199-acc5-951dba3f8cd3",
   "metadata": {},
   "source": [
    "•  Ответ: файл = open(\"имя_файла.txt\", \"w\")"
   ]
  },
  {
   "cell_type": "markdown",
   "id": "e956837e-3f7a-465a-bf54-c5685e39176c",
   "metadata": {},
   "source": [
    "64. Как читать данные из файла?"
   ]
  },
  {
   "cell_type": "markdown",
   "id": "a6d15f20-dc43-4a63-945d-560f703b9507",
   "metadata": {},
   "source": [
    "•  Ответ: файл.read() или файл.readline()"
   ]
  },
  {
   "cell_type": "markdown",
   "id": "5f6d388c-f40f-4a46-a595-95cdd3a3112a",
   "metadata": {},
   "source": [
    "65. Как записывать данные в файл?"
   ]
  },
  {
   "cell_type": "markdown",
   "id": "4d254d00-9241-4a4d-8763-e7db19645e7e",
   "metadata": {},
   "source": [
    "•  Ответ: файл.write(\"данные\")"
   ]
  },
  {
   "cell_type": "markdown",
   "id": "36b86303-6251-4a1e-9017-44bb7d233c9a",
   "metadata": {},
   "source": [
    "66. Как закрыть файл?"
   ]
  },
  {
   "cell_type": "markdown",
   "id": "c493d457-f9dd-4b02-903a-b55b75c465bc",
   "metadata": {},
   "source": [
    "•  Ответ: файл.close()"
   ]
  },
  {
   "cell_type": "markdown",
   "id": "b74856f4-56ba-48b7-82ce-1ab5656358a0",
   "metadata": {},
   "source": [
    "67. Что такое модуль os в Python?"
   ]
  },
  {
   "cell_type": "markdown",
   "id": "41ff53c3-f929-4cbc-ad74-6b214a874637",
   "metadata": {},
   "source": [
    "•  Ответ: Модуль os предоставляет функции для работы с операционной системой."
   ]
  },
  {
   "cell_type": "markdown",
   "id": "b9c6e7da-d7d8-4078-8332-5be06ac1f39a",
   "metadata": {},
   "source": [
    "68. Как получить текущую директорию?"
   ]
  },
  {
   "cell_type": "markdown",
   "id": "1717863e-cbbe-4e29-864e-79be12779d86",
   "metadata": {},
   "source": [
    "•  Ответ: os.getcwd()"
   ]
  },
  {
   "cell_type": "markdown",
   "id": "41b920de-de5f-4bee-af47-939dfef3d882",
   "metadata": {},
   "source": [
    "69. Как создать директорию?"
   ]
  },
  {
   "cell_type": "markdown",
   "id": "8b47d34a-5435-49f9-90e6-ede87c983231",
   "metadata": {},
   "source": [
    "•  Ответ: os.mkdir(\"имя_директории\")"
   ]
  },
  {
   "cell_type": "markdown",
   "id": "5256f72d-cced-41d0-90d2-a9c1a3462806",
   "metadata": {},
   "source": [
    "70. Как удалить директорию?"
   ]
  },
  {
   "cell_type": "markdown",
   "id": "10c24e7a-c833-4f1e-bbb3-526a8b941d2d",
   "metadata": {},
   "source": [
    "•  Ответ: os.rmdir(\"имя_директории\")"
   ]
  },
  {
   "cell_type": "markdown",
   "id": "bd3959b7-624a-4bbb-847c-4fdbbbc249e7",
   "metadata": {},
   "source": [
    "71. Что такое модуль sys в Python?"
   ]
  },
  {
   "cell_type": "markdown",
   "id": "44826999-1fde-4d9c-a594-ca3072431df3",
   "metadata": {},
   "source": [
    "•  Ответ: Модуль sys предоставляет доступ к системным переменным и функциям."
   ]
  },
  {
   "cell_type": "markdown",
   "id": "27dfe12a-d8fc-41c6-a259-220eb483f6ad",
   "metadata": {},
   "source": [
    "72. Как получить список аргументов командной строки?"
   ]
  },
  {
   "cell_type": "markdown",
   "id": "02db6270-4a21-4cc7-8745-108d7cbc9873",
   "metadata": {},
   "source": [
    "•  Ответ: sys.argv"
   ]
  },
  {
   "cell_type": "markdown",
   "id": "1a11a590-bc3d-4262-b546-22546386a870",
   "metadata": {},
   "source": [
    "73. Как выйти из программы?"
   ]
  },
  {
   "cell_type": "markdown",
   "id": "2364031c-624f-4224-9ba3-e79e542aae56",
   "metadata": {},
   "source": [
    "•  Ответ: sys.exit()"
   ]
  },
  {
   "cell_type": "markdown",
   "id": "1b23f08e-3b9b-4e3a-8c5c-b45071b6e46e",
   "metadata": {},
   "source": [
    "74. Что такое модуль datetime в Python?"
   ]
  },
  {
   "cell_type": "markdown",
   "id": "561879a6-1554-4c97-aabf-6e06a3d0386b",
   "metadata": {},
   "source": [
    "•  Ответ: Модуль datetime предоставляет функции для работы с датами и временем."
   ]
  },
  {
   "cell_type": "markdown",
   "id": "20ed1b1c-97dd-4b98-97ad-72dd720dc039",
   "metadata": {},
   "source": [
    "75. Как получить текущую дату и время?"
   ]
  },
  {
   "cell_type": "markdown",
   "id": "ecf7c069-2166-4e76-b841-a3c0576e1650",
   "metadata": {},
   "source": [
    "•  Ответ: datetime.datetime.now()"
   ]
  },
  {
   "cell_type": "markdown",
   "id": "9330266f-4d8b-44d0-831b-a110fa8f042f",
   "metadata": {},
   "source": [
    "76. Как форматировать дату и время?"
   ]
  },
  {
   "cell_type": "markdown",
   "id": "9ab348c8-241e-428b-98cd-dcde5276ad47",
   "metadata": {},
   "source": [
    "•  Ответ: Использование метода\n",
    "звлечения части последовательности (например, списка, кортежа или строки)."
   ]
  },
  {
   "cell_type": "markdown",
   "id": "ca294c15-cdec-415a-9579-a69cc6f9240c",
   "metadata": {},
   "source": [
    "**82. Как использовать срезы?**"
   ]
  },
  {
   "cell_type": "markdown",
   "id": "eb6ead23-5eeb-45bf-a5ff-e49f396d65ea",
   "metadata": {},
   "source": [
    "*   **Ответ:**  `последовательность[начало:конец:шаг]`"
   ]
  },
  {
   "cell_type": "markdown",
   "id": "8deac252-da42-46eb-a8e6-481feca24a0b",
   "metadata": {},
   "source": [
    "**83. Что такое генераторы в Python?**"
   ]
  },
  {
   "cell_type": "markdown",
   "id": "54679b99-f27f-4f25-ad8b-2aba189ab7a6",
   "metadata": {},
   "source": [
    "*   **Ответ:**  Генераторы - это функции, которые возвращают итератор, позволяющий генерировать значения по запросу."
   ]
  },
  {
   "cell_type": "markdown",
   "id": "78718d7e-c1b7-4c34-8511-b368e2dc7931",
   "metadata": {},
   "source": [
    "**84. Как определить генератор?**"
   ]
  },
  {
   "cell_type": "markdown",
   "id": "04827383-269b-4fa8-a181-0a5ec9d332ea",
   "metadata": {},
   "source": [
    "*   **Ответ:**  Использование ключевого слова `yield`."
   ]
  },
  {
   "cell_type": "markdown",
   "id": "c46de3d6-5092-495a-9620-b33456bf971c",
   "metadata": {},
   "source": [
    "**85. Что такое итератор в Python?**"
   ]
  },
  {
   "cell_type": "markdown",
   "id": "bde74a28-892c-4c8f-8654-1891ad63ed75",
   "metadata": {},
   "source": [
    "*   **Ответ:**  Итератор - это объект, который предоставляет возможность последовательно перебирать элементы."
   ]
  },
  {
   "cell_type": "markdown",
   "id": "3f6c02b1-b56d-444f-9fdc-9d0d92a6ca03",
   "metadata": {},
   "source": [
    "**86. Как создать итератор?**"
   ]
  },
  {
   "cell_type": "markdown",
   "id": "d06e7810-732b-4480-a9a2-c18db3cf2dcc",
   "metadata": {},
   "source": [
    "*   **Ответ:**  Использование функции `iter()`."
   ]
  },
  {
   "cell_type": "markdown",
   "id": "6401fdc6-8e13-4b4d-87c7-019fc4768f98",
   "metadata": {},
   "source": [
    "**87. Как использовать итератор?**"
   ]
  },
  {
   "cell_type": "markdown",
   "id": "0663323f-bb76-422e-b51b-2c2a1c63e68b",
   "metadata": {},
   "source": [
    "*   **Ответ:**  Использование функции `next()`."
   ]
  },
  {
   "cell_type": "markdown",
   "id": "95521f5e-9f8a-4e25-98bf-0b4a0ce608f8",
   "metadata": {},
   "source": [
    "**88. Что такое декораторы в Python?**"
   ]
  },
  {
   "cell_type": "markdown",
   "id": "55685b3e-329f-42dd-8589-96e08b04154b",
   "metadata": {},
   "source": [
    "*   **Ответ:**  Декораторы - это функции, которые принимают другую функцию в качестве аргумента и возвращают новую функцию, которая расширяет функциональность исходной функции."
   ]
  },
  {
   "cell_type": "markdown",
   "id": "28e360aa-80d4-4e65-8db3-1ee040bac97e",
   "metadata": {},
   "source": [
    "**89. Как определить декоратор?**"
   ]
  },
  {
   "cell_type": "markdown",
   "id": "42beb506-0dc1-4722-94e2-b00ba896a76c",
   "metadata": {},
   "source": [
    "*   **Ответ:**  Использование символа `@` перед декоратором."
   ]
  },
  {
   "cell_type": "markdown",
   "id": "1db08464-d8af-4c9b-be13-8e55fccd7e66",
   "metadata": {},
   "source": [
    "**90. Как использовать декоратор?**"
   ]
  },
  {
   "cell_type": "markdown",
   "id": "05560d4c-a256-4edf-87d0-af3a5a198767",
   "metadata": {},
   "source": [
    "*   **Ответ:**  `@декоратор` перед функцией."
   ]
  },
  {
   "cell_type": "markdown",
   "id": "601e6bf1-3a09-46ed-968c-dbdb7d6d469d",
   "metadata": {},
   "source": [
    "**91. Что такое лямбда-функции в Python?**"
   ]
  },
  {
   "cell_type": "markdown",
   "id": "3b7d9297-7d50-4374-bac8-b16bacc9658a",
   "metadata": {},
   "source": [
    "*   **Ответ:**  Лямбда-функции - это анонимные функции, которые можно определить на одной строке."
   ]
  },
  {
   "cell_type": "markdown",
   "id": "c493248d-7976-4f59-9742-d2d451c5b0de",
   "metadata": {},
   "source": [
    "**92. Как определить лямбда-функцию?**"
   ]
  },
  {
   "cell_type": "markdown",
   "id": "8a08496c-bb6e-405c-bb2f-ed62597fa494",
   "metadata": {},
   "source": [
    "*   **Ответ:**  `lambda аргументы: выражение`"
   ]
  },
  {
   "cell_type": "markdown",
   "id": "a7da96dd-b523-447e-8393-daecfe615010",
   "metadata": {},
   "source": [
    "**93. Как использовать лямбда-функцию?**"
   ]
  },
  {
   "cell_type": "markdown",
   "id": "3ca2683e-cfcd-4d0b-8590-c45c88c78134",
   "metadata": {},
   "source": [
    "*   **Ответ:**  `имя_переменной = lambda аргументы: выражение`"
   ]
  },
  {
   "cell_type": "markdown",
   "id": "83fd6105-edfb-4afd-9c0f-a7904addc379",
   "metadata": {},
   "source": []
  },
  {
   "cell_type": "markdown",
   "id": "8c0e3ce4-80fb-458a-ac88-e9a9b0f5933e",
   "metadata": {},
   "source": []
  },
  {
   "cell_type": "markdown",
   "id": "aa4292dd-a922-4061-8dac-e843b7bd35e1",
   "metadata": {},
   "source": []
  },
  {
   "cell_type": "code",
   "execution_count": null,
   "id": "0301a1bf-bbec-4bc0-9c7a-b998b3dbe154",
   "metadata": {},
   "outputs": [],
   "source": []
  },
  {
   "cell_type": "code",
   "execution_count": null,
   "id": "68880338-19cc-4007-9c84-b0244960b25b",
   "metadata": {},
   "outputs": [],
   "source": []
  },
  {
   "cell_type": "code",
   "execution_count": null,
   "id": "2af1bd0e-d2c0-44a3-ac0c-dc4d45ecc820",
   "metadata": {},
   "outputs": [],
   "source": []
  },
  {
   "cell_type": "code",
   "execution_count": null,
   "id": "0cfcbe69-80fe-40b9-af7a-925a5ae09337",
   "metadata": {},
   "outputs": [],
   "source": []
  },
  {
   "cell_type": "code",
   "execution_count": null,
   "id": "d9f654d5-d55f-4610-b11d-bbcd8a8dcb39",
   "metadata": {},
   "outputs": [],
   "source": []
  },
  {
   "cell_type": "code",
   "execution_count": null,
   "id": "8733fea6-8d9b-4e5c-b0cc-d6fb550b67e5",
   "metadata": {},
   "outputs": [],
   "source": []
  },
  {
   "cell_type": "code",
   "execution_count": null,
   "id": "f637a51f-297f-4ad6-ace7-f68dd0b93b56",
   "metadata": {},
   "outputs": [],
   "source": []
  },
  {
   "cell_type": "code",
   "execution_count": null,
   "id": "a24436c9-e417-43df-863d-5bcf71e65e76",
   "metadata": {},
   "outputs": [],
   "source": []
  },
  {
   "cell_type": "code",
   "execution_count": null,
   "id": "dc08b8b3-fc05-4bfa-8d59-6e09362048cf",
   "metadata": {},
   "outputs": [],
   "source": []
  },
  {
   "cell_type": "code",
   "execution_count": null,
   "id": "9749a884-732e-4e7c-8dcc-56e4dfd66ad5",
   "metadata": {},
   "outputs": [],
   "source": []
  },
  {
   "cell_type": "code",
   "execution_count": null,
   "id": "93de78a4-a92c-475b-b6ee-a27ae7fc1242",
   "metadata": {},
   "outputs": [],
   "source": []
  },
  {
   "cell_type": "code",
   "execution_count": null,
   "id": "a5daaecf-15bf-4f89-a29a-170d58e5d699",
   "metadata": {},
   "outputs": [],
   "source": []
  },
  {
   "cell_type": "code",
   "execution_count": null,
   "id": "11f5375d-b7f3-427f-a941-21abfd8d661b",
   "metadata": {},
   "outputs": [],
   "source": []
  }
 ],
 "metadata": {
  "kernelspec": {
   "display_name": "Python 3 (ipykernel)",
   "language": "python",
   "name": "python3"
  },
  "language_info": {
   "codemirror_mode": {
    "name": "ipython",
    "version": 3
   },
   "file_extension": ".py",
   "mimetype": "text/x-python",
   "name": "python",
   "nbconvert_exporter": "python",
   "pygments_lexer": "ipython3",
   "version": "3.10.10"
  }
 },
 "nbformat": 4,
 "nbformat_minor": 5
}
