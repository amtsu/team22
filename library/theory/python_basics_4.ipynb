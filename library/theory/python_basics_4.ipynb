{
 "cells": [
  {
   "cell_type": "markdown",
   "metadata": {},
   "source": [
    "- Тестирование ноутубков"
   ]
  },
  {
   "cell_type": "markdown",
   "metadata": {},
   "source": [
    "- ребайз"
   ]
  },
  {
   "cell_type": "code",
   "execution_count": null,
   "metadata": {},
   "outputs": [],
   "source": []
  },
  {
   "cell_type": "code",
   "execution_count": null,
   "metadata": {},
   "outputs": [],
   "source": []
  },
  {
   "cell_type": "markdown",
   "metadata": {},
   "source": [
    "# mypy black pylint  \n",
    "(price_bad: str) -> str:"
   ]
  },
  {
   "cell_type": "markdown",
   "metadata": {},
   "source": [
    "mypy имя_файл.py  \n",
    "black имя_файл.py  \n",
    "pylint имя_файл.py "
   ]
  },
  {
   "cell_type": "code",
   "execution_count": 1,
   "metadata": {},
   "outputs": [],
   "source": [
    "d = 1"
   ]
  },
  {
   "cell_type": "code",
   "execution_count": 2,
   "metadata": {},
   "outputs": [],
   "source": [
    "d = 'ddd'"
   ]
  },
  {
   "cell_type": "code",
   "execution_count": null,
   "metadata": {},
   "outputs": [],
   "source": [
    "int d = 1;"
   ]
  },
  {
   "cell_type": "code",
   "execution_count": null,
   "metadata": {},
   "outputs": [],
   "source": [
    "d = \"ffff\" ERORR"
   ]
  },
  {
   "cell_type": "code",
   "execution_count": 4,
   "metadata": {},
   "outputs": [],
   "source": [
    "def sum_2_numbers(number_1, number_2):\n",
    "    s = number_1 + number_2\n",
    "    return s"
   ]
  },
  {
   "cell_type": "code",
   "execution_count": 5,
   "metadata": {},
   "outputs": [
    {
     "data": {
      "text/plain": [
       "3"
      ]
     },
     "execution_count": 5,
     "metadata": {},
     "output_type": "execute_result"
    }
   ],
   "source": [
    "sum_2_numbers(1,2)"
   ]
  },
  {
   "cell_type": "code",
   "execution_count": 6,
   "metadata": {},
   "outputs": [
    {
     "ename": "TypeError",
     "evalue": "unsupported operand type(s) for +: 'int' and 'str'",
     "output_type": "error",
     "traceback": [
      "\u001b[0;31m---------------------------------------------------------------------------\u001b[0m",
      "\u001b[0;31mTypeError\u001b[0m                                 Traceback (most recent call last)",
      "Cell \u001b[0;32mIn [6], line 1\u001b[0m\n\u001b[0;32m----> 1\u001b[0m \u001b[43msum_2_numbers\u001b[49m\u001b[43m(\u001b[49m\u001b[38;5;241;43m1\u001b[39;49m\u001b[43m,\u001b[49m\u001b[43m \u001b[49m\u001b[38;5;124;43m'\u001b[39;49m\u001b[38;5;124;43msss\u001b[39;49m\u001b[38;5;124;43m'\u001b[39;49m\u001b[43m)\u001b[49m\n",
      "Cell \u001b[0;32mIn [4], line 2\u001b[0m, in \u001b[0;36msum_2_numbers\u001b[0;34m(number_1, number_2)\u001b[0m\n\u001b[1;32m      1\u001b[0m \u001b[38;5;28;01mdef\u001b[39;00m \u001b[38;5;21msum_2_numbers\u001b[39m(number_1, number_2):\n\u001b[0;32m----> 2\u001b[0m     s \u001b[38;5;241m=\u001b[39m \u001b[43mnumber_1\u001b[49m\u001b[43m \u001b[49m\u001b[38;5;241;43m+\u001b[39;49m\u001b[43m \u001b[49m\u001b[43mnumber_2\u001b[49m\n\u001b[1;32m      3\u001b[0m     \u001b[38;5;28;01mreturn\u001b[39;00m s\n",
      "\u001b[0;31mTypeError\u001b[0m: unsupported operand type(s) for +: 'int' and 'str'"
     ]
    }
   ],
   "source": [
    "sum_2_numbers(1, 'sss')"
   ]
  },
  {
   "cell_type": "code",
   "execution_count": null,
   "metadata": {},
   "outputs": [],
   "source": [
    "def sum_2_numbers(number_1 : int, number_2 : int) -> int:\n",
    "    s = number_1 + number_2\n",
    "    return s"
   ]
  },
  {
   "cell_type": "code",
   "execution_count": null,
   "metadata": {},
   "outputs": [],
   "source": [
    "def sum_2_numbers(number_1 : int, number_2 : int) -> str:\n",
    "    s = number_1 + number_2\n",
    "    if s > 10:\n",
    "        return None\n",
    "    return str(s)"
   ]
  },
  {
   "cell_type": "code",
   "execution_count": null,
   "metadata": {},
   "outputs": [],
   "source": []
  },
  {
   "cell_type": "code",
   "execution_count": null,
   "metadata": {},
   "outputs": [],
   "source": [
    "#/home/jupyter-amtsu/github/team22/users/amtsurkov/lesson_4_group_2"
   ]
  },
  {
   "cell_type": "code",
   "execution_count": null,
   "metadata": {},
   "outputs": [],
   "source": []
  },
  {
   "cell_type": "markdown",
   "metadata": {},
   "source": [
    "# Какие вопроcы у вас взникают когда вы видете перед собой новый код?"
   ]
  },
  {
   "cell_type": "markdown",
   "metadata": {},
   "source": [
    "- как он работает? (не рекомендовано)\n",
    "- смотришь ничгео не понятно\n",
    "- почему имено так написано(сделано)?\n",
    "- ищем знакомые слова и затем пытаемся понять что код делает?\n",
    "- открываем пай тутор\n",
    "- как упростиь?\n",
    "- для чего это код?\n",
    "- что он делает?"
   ]
  },
  {
   "cell_type": "code",
   "execution_count": null,
   "metadata": {},
   "outputs": [],
   "source": []
  },
  {
   "cell_type": "code",
   "execution_count": null,
   "metadata": {},
   "outputs": [],
   "source": []
  },
  {
   "cell_type": "code",
   "execution_count": null,
   "metadata": {},
   "outputs": [],
   "source": []
  },
  {
   "cell_type": "code",
   "execution_count": null,
   "metadata": {},
   "outputs": [],
   "source": []
  },
  {
   "cell_type": "code",
   "execution_count": null,
   "metadata": {},
   "outputs": [],
   "source": []
  },
  {
   "cell_type": "code",
   "execution_count": null,
   "metadata": {},
   "outputs": [],
   "source": []
  },
  {
   "cell_type": "code",
   "execution_count": null,
   "metadata": {},
   "outputs": [],
   "source": []
  },
  {
   "cell_type": "code",
   "execution_count": null,
   "metadata": {},
   "outputs": [],
   "source": []
  },
  {
   "cell_type": "code",
   "execution_count": null,
   "metadata": {},
   "outputs": [],
   "source": []
  },
  {
   "cell_type": "code",
   "execution_count": null,
   "metadata": {},
   "outputs": [],
   "source": []
  },
  {
   "cell_type": "code",
   "execution_count": null,
   "metadata": {},
   "outputs": [],
   "source": []
  },
  {
   "cell_type": "code",
   "execution_count": null,
   "metadata": {},
   "outputs": [],
   "source": []
  },
  {
   "cell_type": "code",
   "execution_count": null,
   "metadata": {},
   "outputs": [],
   "source": []
  },
  {
   "cell_type": "code",
   "execution_count": null,
   "metadata": {},
   "outputs": [],
   "source": []
  },
  {
   "cell_type": "code",
   "execution_count": null,
   "metadata": {},
   "outputs": [],
   "source": []
  },
  {
   "cell_type": "markdown",
   "metadata": {},
   "source": [
    "# Что это такое?\n",
    "# Зачем то?\n",
    "# Почему сделано так?"
   ]
  },
  {
   "cell_type": "raw",
   "metadata": {},
   "source": [
    "\n",
    "Про функции\n",
    "Когда хотите написать функцию сначаа задайте себе вопрос \n",
    "- для чего она нужна?\n",
    "- что она будет возращать?\n",
    "- из чего(т.е. какие переменные ей нужны для того чтобы сормировать финальный результат)?  \n",
    "\n",
    "Этого уже достаточно чтобы написать сигнатур функции с описанием(название, какие параметры принимает, что возращает):\n",
    "def calculate_sum_3_numbers(number_1 : int, number_2 : int, number_3 : int) -> int:  \n",
    "    \"\"\"  \n",
    "    функция которая вычисляет сумму 3-х чисел  \n",
    "    \"\"\"  \n",
    "    return sum_3_numbers  \n",
    "    \n",
    "- опишите как она будет формировать финальный результа(добавьте псевдо код)?\n",
    "\n",
    "def calculate_sum_3_numbers(number_1 : int, number_2 : int, number_3 : int) -> int:  \n",
    "    \"\"\"  \n",
    "    функция которая вычисляет сумму 3-х чисел и возращает этот резульат  \n",
    "    \"\"\"  \n",
    "    # применю оперетор сложения к 3 числам и схраню результат в переменную\n",
    "    return sum_3_numbers  \n",
    "    \n",
    "- реализуйте функцию\n",
    "\n",
    "def calculate_sum_3_numbers(number_1 : int, number_2 : int, number_3 : int) -> int:  \n",
    "    \"\"\"  \n",
    "    функция которая вычисляет сумму 3-х чисел и возращает этот резульат  \n",
    "    \"\"\"  \n",
    "    # применю оперетор сложения к 3 числам и сохраню результат в переменную\n",
    "    sum_3_numbers = number_1 + number_2 + number_3\n",
    "    return sum_3_numbers  \n",
    "\n",
    "Коментарий в коде желательно должен отвечать на вопрос ПОЧЕМУ(и отражать контекст принятия решения), в нашем случае он отвечает на вопрос КАК - \"рименю оперетор сложения к 3 числам и сохраню результат в переменную\"  но в данном случае это приемлемо так как он повился из псевдо кода.\n",
    "Сам код является ответом на вопрос КАК, а вот коментарий почему мы выбрали это решение его нет. Т.е. коментарии отвечающие на вопрос почему привносят в код что то новое, что может помочь в понимание самого кода.\n",
    "\n",
    "    \n",
    "- напишите тесты\n",
    "def test_calculate_sum_3_numbers_1():\n",
    "    assert calculate_sum_3_numbers(1,2,3) == 6\n",
    "\n",
    "def test_calculate_sum_3_numbers_2():\n",
    "    assert calculate_sum_3_numbers(2,3,4) == 9"
   ]
  },
  {
   "cell_type": "markdown",
   "metadata": {},
   "source": [
    "https://stackoverflow.blog/2021/12/23/best-practices-for-writing-code-comments/\n"
   ]
  },
  {
   "cell_type": "code",
   "execution_count": null,
   "metadata": {},
   "outputs": [],
   "source": []
  },
  {
   "cell_type": "code",
   "execution_count": null,
   "metadata": {},
   "outputs": [],
   "source": []
  },
  {
   "cell_type": "markdown",
   "metadata": {},
   "source": [
    "# Парадигмы\n",
    "- имереативное\n",
    "- процедурное\n",
    "- функциональное(декларативное) чистые функции(без состояний - есть вход есть выход без модификации)\n",
    "- структурное(последовательность команд, ветвление, цикл, процедуры/функции, блоки кода - чтобы исключить goto) \n",
    "- ооп\n",
    "\n",
    "Мультипарадигмальные"
   ]
  },
  {
   "cell_type": "markdown",
   "metadata": {},
   "source": [
    "# Введение в объектно-ориентированное программирование."
   ]
  },
  {
   "cell_type": "markdown",
   "metadata": {},
   "source": [
    "# ЗАЧЕМ ?"
   ]
  },
  {
   "cell_type": "markdown",
   "metadata": {},
   "source": [
    "### Что такое ООП\n",
    "- Объектно-ориентированное программирование - это парадигма программирования, согласно которой информация, обрабатываемая ЭВМ, представляет собой совокупность объектов, которые являются экземплярами классов, которые в свою очередь находятся в некоторой иерархии. \n",
    "\n",
    "Объект – это структура, соответствующая объекту реального мира, его свойствам и поведению."
   ]
  },
  {
   "cell_type": "markdown",
   "metadata": {},
   "source": [
    "### Классы и их иерархия\n",
    "- Класс – это пользовательский тип данных, объединяющий данные и методы их обработки. Классы могут наследовать данные и методы других классов, стоящих выше в иерархии наследования.\n",
    "- Объектом называется конкретный экземпляр класса.\n",
    "- Иерархическая структура классов проста для понимания и используется нами\n",
    "интуитивно.\n",
    "- Пример иерархии классов:\n",
    " - Класс «Живой организм» - наиболее общее название любого представителя биосферы.\n",
    " - Класс «Животное» - подкласс класса «Живой организм». Животные наследуют все свойства живых организмов (клеточное строение, биохимию клеток, способность размножаться и т.д.) и имеют собственные свойства (способность двигаться и питаться органическими веществами)\n",
    " - Класс «Млекопитающее» - подкласс класса «Животное». Млекопитающие наследуют все свойства животных и имеют собственные свойства (кормление новорожденных молоком, четыре конечности и т.д.)\n",
    " - «Кот» – биологический вид, подкласс класса «Млекопитающее». Наследует все свойства млекопитающих и имеет всеми узнаваемую внешность и свой генотип.\n",
    " - Конкретный кот (Мурзик) - это объект, представитель или экземпляр класса «Кот»."
   ]
  },
  {
   "cell_type": "code",
   "execution_count": 2,
   "metadata": {},
   "outputs": [],
   "source": [
    "#Поспорить на тему наслевования и иеерарзии"
   ]
  },
  {
   "cell_type": "markdown",
   "metadata": {},
   "source": [
    "### Классы и объекты\n",
    "Объект объединяет в себе:\n",
    "- описывающие его данные (атрибуты)\n",
    "- средства обработки этих данных (методы)\n",
    "\n",
    "\n",
    "Классы объектов являются «шаблонами», определяющими наборы свойств, методов и событий, по которым создаются объекты."
   ]
  },
  {
   "cell_type": "markdown",
   "metadata": {},
   "source": [
    "- Объект, созданный по шаблону класса, является экземпляром класса и наследует весь набор атрибутов и методов данного класса.\n",
    "- Каждый экземпляр класса имеет ссылку (указатель), по которой его можно извлечь из памяти.\n",
    "- Различные экземпляры одного класса обладают одинаковым набором атрибутов и методов, однако значения атрибутов у них могут отличаться."
   ]
  },
  {
   "cell_type": "markdown",
   "metadata": {},
   "source": [
    "Три основных пиринципа\n",
    "\n",
    "- инкасуляция\n",
    "- наслдеование - (копозиция)\n",
    "- полиморфизм  \n",
    "\n",
    "и дополнение\n",
    "\n",
    "- абстракция\n",
    "- обмен сообщениями\n",
    "- \"сокрытие\""
   ]
  },
  {
   "cell_type": "code",
   "execution_count": null,
   "metadata": {},
   "outputs": [],
   "source": [
    "x = 10\n",
    "#....\n",
    "x = x + 2\n",
    "\n",
    "kot_vaskya = Kot('Vasyka')"
   ]
  },
  {
   "cell_type": "markdown",
   "metadata": {},
   "source": [
    "### Наследование\n",
    "- Наследованием называется возможность порождать один класс от другого с сохранением всех свойств и методов класса- предка (прародителя, иногда его называют суперклассом) и добавляя, при необходимости, новые свойства и методы. Набор классов, связанных отношением наследования, называют иерархией. Наследование призвано отобразить иерархичность реального мира."
   ]
  },
  {
   "cell_type": "markdown",
   "metadata": {},
   "source": [
    "### Примеры классов: \n",
    "числовые переменные, строки, списки, словари и т.д. в Python являются объектами, а соответствующие типы данных – классами:"
   ]
  },
  {
   "cell_type": "code",
   "execution_count": 3,
   "metadata": {},
   "outputs": [
    {
     "name": "stdout",
     "output_type": "stream",
     "text": [
      "<class 'list'>\n"
     ]
    }
   ],
   "source": [
    "a = list()\n",
    "print(type(a))"
   ]
  },
  {
   "cell_type": "code",
   "execution_count": null,
   "metadata": {},
   "outputs": [],
   "source": []
  },
  {
   "cell_type": "markdown",
   "metadata": {},
   "source": [
    "Как создать новый класс?\n",
    "- Классы в языке Python создаются с помощью инструкции class(). При исполнении инструкции class создается новый класс с указанным именем.\n",
    "- Основное назначение класса – это создавать объекты нового типа по заданному образцу.\n",
    "- Переменные внутри классов называются атрибутами, а функции внутри классов – методами. Все экземпляры класса наследуют его атрибуты и методы."
   ]
  },
  {
   "cell_type": "markdown",
   "metadata": {},
   "source": [
    "- Классы могут быть связаны отношением наследования. Класс- наследник сохраняет свойства, атрибуты и методы класса-предка, добавляя , при необходимости, свои. Более того, любой метод может быть полностью переопределен в классе-наследнике.\n",
    "- У каждого класса есть метод, называемый конструктором, автоматически вызываемый при создании нового объекта. Конструктор обозначается как функция со специальным именем __init__()."
   ]
  },
  {
   "cell_type": "markdown",
   "metadata": {},
   "source": [
    "### Пример создания класса\n",
    "- Определим свой собственный класс, представляющий прямоугольник на плоскости. Назовем его Rectangle.\n",
    "- Атрибутами будем считать 4 величины: координаты левой нижней вершины, ширину и высоту. Доступ к атрибутам производится через указатель текущего объекта self.\n",
    "- Можно определить метод square() для вычисления площади."
   ]
  },
  {
   "cell_type": "markdown",
   "metadata": {},
   "source": [
    "# Пример создания класса"
   ]
  },
  {
   "cell_type": "code",
   "execution_count": 1,
   "metadata": {},
   "outputs": [],
   "source": [
    "class Rectangle:\n",
    "    \"\"\"\n",
    "    Прямоуголник\n",
    "    \"\"\"\n",
    "    \n",
    "    def __init__(self, x, y, w, h):\n",
    "        self.x = x\n",
    "        self.y = y\n",
    "        self.w = w\n",
    "        self.h = h\n",
    "        \n",
    "    def square(self):\n",
    "        \"\"\"\n",
    "        Calculate square rectangle\n",
    "        \n",
    "        text text text\n",
    "        text text text\n",
    "        text text text\n",
    "        text text text\n",
    "        \"\"\"\n",
    "        return self.w * self.h\n",
    "            \n",
    "    def intersection(self, elem):\n",
    "        x, y = elem.get_x(), elem.get_y()\n",
    "        w, h = elem.get_w(), elem.get_h()\n",
    " \n",
    "        if ((x >= self.x + self.w) or (y >= self.y + self.h) or\n",
    "                (self.x >= x + w) or (self.y >= y + h)):\n",
    "            return\n",
    "        else:\n",
    "            other = Rectangle(0, 0, 0, 0)\n",
    "            other.x = max(self.x, x)\n",
    "            other.w = min(self.w, x + w) - other.x\n",
    "            other.y = max(self.y, y)\n",
    "            other.h = min(self.h, y + h) - other.y\n",
    "            return other\n",
    " \n",
    "    def get_y(self):\n",
    "        return self.y\n",
    " \n",
    "    def get_x(self):\n",
    "        return self.x\n",
    " \n",
    "    def get_w(self):\n",
    "        return self.w\n",
    " \n",
    "    def get_h(self):\n",
    "        return self.h\n",
    "    \n",
    "    #def __repr__(self):\n",
    "    #    return \"Rect = \" + str(w) + \" \" + str(h)"
   ]
  },
  {
   "cell_type": "code",
   "execution_count": 2,
   "metadata": {},
   "outputs": [],
   "source": [
    "# Созадем объект класса Rectangle\n",
    "rect = Rectangle(1,2,3,2)"
   ]
  },
  {
   "cell_type": "code",
   "execution_count": 3,
   "metadata": {},
   "outputs": [
    {
     "data": {
      "text/plain": [
       "<__main__.Rectangle at 0x7f4f4c69bfd0>"
      ]
     },
     "execution_count": 3,
     "metadata": {},
     "output_type": "execute_result"
    }
   ],
   "source": [
    "# объект с ижентификатором\n",
    "rect"
   ]
  },
  {
   "cell_type": "code",
   "execution_count": null,
   "metadata": {},
   "outputs": [],
   "source": []
  },
  {
   "cell_type": "code",
   "execution_count": 4,
   "metadata": {},
   "outputs": [
    {
     "name": "stdout",
     "output_type": "stream",
     "text": [
      "6\n",
      "6\n"
     ]
    }
   ],
   "source": [
    "# вызываем метод вычисления площади\n",
    "print(rect.square())\n",
    "\n",
    "# 10000\n",
    "print(rect.square())"
   ]
  },
  {
   "cell_type": "markdown",
   "metadata": {},
   "source": [
    "### Создать 500 прямоугольников как с ними работать - хороший пример для чего нужны класы"
   ]
  },
  {
   "cell_type": "code",
   "execution_count": null,
   "metadata": {},
   "outputs": [],
   "source": [
    "# rect.square()\n",
    "# синонимы\n",
    "# square(rect)"
   ]
  },
  {
   "cell_type": "code",
   "execution_count": 9,
   "metadata": {},
   "outputs": [
    {
     "name": "stdout",
     "output_type": "stream",
     "text": [
      "6\n",
      "20\n"
     ]
    }
   ],
   "source": [
    "def square(w, h):\n",
    "    return w * h\n",
    "\n",
    "x = 1\n",
    "y = 2\n",
    "w = 3\n",
    "h = 2\n",
    "\n",
    "print(square(w, h))\n",
    "\n",
    "# 10000\n",
    "w = 10\n",
    "# 10000\n",
    "\n",
    "print(square(w, h))"
   ]
  },
  {
   "cell_type": "code",
   "execution_count": 6,
   "metadata": {},
   "outputs": [],
   "source": [
    "#help(Rectangle)"
   ]
  },
  {
   "cell_type": "code",
   "execution_count": 4,
   "metadata": {},
   "outputs": [
    {
     "name": "stdout",
     "output_type": "stream",
     "text": [
      "Help on class Rectangle in module __main__:\n",
      "\n",
      "class Rectangle(builtins.object)\n",
      " |  Rectangle(x, y, w, h)\n",
      " |  \n",
      " |  Прямоуголник\n",
      " |  \n",
      " |  Methods defined here:\n",
      " |  \n",
      " |  __init__(self, x, y, w, h)\n",
      " |      Initialize self.  See help(type(self)) for accurate signature.\n",
      " |  \n",
      " |  get_h(self)\n",
      " |  \n",
      " |  get_w(self)\n",
      " |  \n",
      " |  get_x(self)\n",
      " |  \n",
      " |  get_y(self)\n",
      " |  \n",
      " |  intersection(self, elem)\n",
      " |  \n",
      " |  square(self)\n",
      " |      Calculate square rectangle\n",
      " |      \n",
      " |      text text text\n",
      " |      text text text\n",
      " |      text text text\n",
      " |      text text text\n",
      " |  \n",
      " |  ----------------------------------------------------------------------\n",
      " |  Data descriptors defined here:\n",
      " |  \n",
      " |  __dict__\n",
      " |      dictionary for instance variables (if defined)\n",
      " |  \n",
      " |  __weakref__\n",
      " |      list of weak references to the object (if defined)\n",
      "\n"
     ]
    },
    {
     "data": {
      "text/plain": [
       "['__class__',\n",
       " '__delattr__',\n",
       " '__dict__',\n",
       " '__dir__',\n",
       " '__doc__',\n",
       " '__eq__',\n",
       " '__format__',\n",
       " '__ge__',\n",
       " '__getattribute__',\n",
       " '__gt__',\n",
       " '__hash__',\n",
       " '__init__',\n",
       " '__init_subclass__',\n",
       " '__le__',\n",
       " '__lt__',\n",
       " '__module__',\n",
       " '__ne__',\n",
       " '__new__',\n",
       " '__reduce__',\n",
       " '__reduce_ex__',\n",
       " '__repr__',\n",
       " '__setattr__',\n",
       " '__sizeof__',\n",
       " '__str__',\n",
       " '__subclasshook__',\n",
       " '__weakref__',\n",
       " 'get_h',\n",
       " 'get_w',\n",
       " 'get_x',\n",
       " 'get_y',\n",
       " 'intersection',\n",
       " 'square']"
      ]
     },
     "execution_count": 4,
     "metadata": {},
     "output_type": "execute_result"
    }
   ],
   "source": [
    "# 1 как узнать какие методы есть у класса\n",
    "help(Rectangle)\n",
    "dir(Rectangle)"
   ]
  },
  {
   "cell_type": "code",
   "execution_count": null,
   "metadata": {},
   "outputs": [],
   "source": [
    "# у меня есть задач и как узнать какие поздоы и с помощью каких класов есть\n"
   ]
  },
  {
   "cell_type": "markdown",
   "metadata": {},
   "source": [
    "# Пример наследование"
   ]
  },
  {
   "cell_type": "code",
   "execution_count": 5,
   "metadata": {},
   "outputs": [],
   "source": [
    "class Car():\n",
    "    type_s = 'Car'\n",
    "    \n",
    "    def __init__(self):\n",
    "        self.__number = 1\n",
    "        \n",
    "    def count_wheel(self):\n",
    "        return 4\n",
    "    \n",
    "    def drive(self):\n",
    "        return f'{self.type_s}: edu edu'"
   ]
  },
  {
   "cell_type": "code",
   "execution_count": 6,
   "metadata": {},
   "outputs": [
    {
     "name": "stdout",
     "output_type": "stream",
     "text": [
      "Car: edu edu\n",
      "4\n"
     ]
    }
   ],
   "source": [
    "car_1 = Car()\n",
    "print(car_1.drive())\n",
    "print(car_1.count_wheel())"
   ]
  },
  {
   "cell_type": "code",
   "execution_count": 8,
   "metadata": {},
   "outputs": [],
   "source": [
    "class Bus(Car):\n",
    "    type_s = 'Bus'\n",
    "    \n",
    "    def count_wheel(self):\n",
    "        return 6"
   ]
  },
  {
   "cell_type": "code",
   "execution_count": 9,
   "metadata": {},
   "outputs": [
    {
     "name": "stdout",
     "output_type": "stream",
     "text": [
      "Bus: edu edu\n",
      "6\n"
     ]
    }
   ],
   "source": [
    "bus_2 = Bus()\n",
    "#bus_2.drive()\n",
    "print(bus_2.drive())\n",
    "print(bus_2.count_wheel())"
   ]
  },
  {
   "cell_type": "code",
   "execution_count": 27,
   "metadata": {},
   "outputs": [
    {
     "name": "stdout",
     "output_type": "stream",
     "text": [
      "4\n"
     ]
    }
   ],
   "source": [
    "print(car_1.count_wheel())"
   ]
  },
  {
   "cell_type": "code",
   "execution_count": 28,
   "metadata": {},
   "outputs": [
    {
     "name": "stdout",
     "output_type": "stream",
     "text": [
      "4\n"
     ]
    }
   ],
   "source": [
    "car_44 = Car()\n",
    "print(car_44.count_wheel())"
   ]
  },
  {
   "cell_type": "code",
   "execution_count": null,
   "metadata": {},
   "outputs": [],
   "source": []
  },
  {
   "cell_type": "code",
   "execution_count": 44,
   "metadata": {},
   "outputs": [],
   "source": [
    "# 007 car\n",
    "# затеряться в толпе\n",
    "#    для этого машина должна менять цвет\n",
    "\n",
    "class Car007(Car):\n",
    "    def __init__(self):\n",
    "        self.__number = 1\n",
    "        self.__color = \"black\"\n",
    "        \n",
    "    def change_color(self, new_color):\n",
    "        self.__color = new_color\n",
    "        \n",
    "    def see(self):\n",
    "        print(self.__color)    \n",
    "        \n",
    "        \n",
    "# затеряться в толпе\n",
    "#    для этого машина должна менять цвет\n",
    "\n",
    "class Car01(Car):\n",
    "    def __init__(self):\n",
    "        self.__number = 1\n",
    "        \n",
    "    def count_wheel(self):\n",
    "        return 8\n",
    "    \n",
    "class Car02(Car007):        \n",
    "    def count_wheel(self):\n",
    "        return 28"
   ]
  },
  {
   "cell_type": "code",
   "execution_count": 45,
   "metadata": {},
   "outputs": [
    {
     "name": "stdout",
     "output_type": "stream",
     "text": [
      "28\n",
      "black\n"
     ]
    }
   ],
   "source": [
    "crayze_car = Car02()\n",
    "print(crayze_car.count_wheel())\n",
    "crayze_car.see()"
   ]
  },
  {
   "cell_type": "code",
   "execution_count": null,
   "metadata": {},
   "outputs": [],
   "source": [
    "#SOLID"
   ]
  },
  {
   "cell_type": "code",
   "execution_count": null,
   "metadata": {},
   "outputs": [],
   "source": [
    "#фабрич немето , фабрикак клсао, Породждающие паттрены"
   ]
  },
  {
   "cell_type": "code",
   "execution_count": 48,
   "metadata": {},
   "outputs": [],
   "source": [
    "class Zavod_LADA():\n",
    "    def create_car_for_JAMES_BOND(self):\n",
    "        car = Car007()\n",
    "        return car\n",
    "    \n",
    "zavod_lada_tolyti = Zavod_LADA()"
   ]
  },
  {
   "cell_type": "code",
   "execution_count": 49,
   "metadata": {},
   "outputs": [],
   "source": [
    "car_1_bond = Car007()\n",
    "car_2_bond = Car007()\n",
    "\n",
    "\n",
    "car_1_bond_s = zavod_lada_tolyti.create_car_for_JAMES_BOND()\n",
    "car_2_bond_s = zavod_lada_tolyti.create_car_for_JAMES_BOND()"
   ]
  },
  {
   "cell_type": "code",
   "execution_count": 35,
   "metadata": {},
   "outputs": [
    {
     "name": "stdout",
     "output_type": "stream",
     "text": [
      "black\n"
     ]
    }
   ],
   "source": [
    "car_1_bond.see()"
   ]
  },
  {
   "cell_type": "code",
   "execution_count": 36,
   "metadata": {},
   "outputs": [],
   "source": [
    "car_1_bond.change_color(\"red\")"
   ]
  },
  {
   "cell_type": "code",
   "execution_count": 37,
   "metadata": {},
   "outputs": [
    {
     "name": "stdout",
     "output_type": "stream",
     "text": [
      "red\n"
     ]
    }
   ],
   "source": [
    "car_1_bond.see()"
   ]
  },
  {
   "cell_type": "code",
   "execution_count": 38,
   "metadata": {},
   "outputs": [
    {
     "name": "stdout",
     "output_type": "stream",
     "text": [
      "black\n"
     ]
    }
   ],
   "source": [
    "car_2_bond.see()"
   ]
  },
  {
   "cell_type": "code",
   "execution_count": 40,
   "metadata": {},
   "outputs": [
    {
     "data": {
      "text/plain": [
       "4"
      ]
     },
     "execution_count": 40,
     "metadata": {},
     "output_type": "execute_result"
    }
   ],
   "source": [
    "car_1_bond.count_wheel()"
   ]
  },
  {
   "cell_type": "code",
   "execution_count": null,
   "metadata": {},
   "outputs": [],
   "source": []
  },
  {
   "cell_type": "code",
   "execution_count": 29,
   "metadata": {},
   "outputs": [
    {
     "ename": "IndentationError",
     "evalue": "expected an indented block (4240297984.py, line 4)",
     "output_type": "error",
     "traceback": [
      "\u001b[0;36m  Cell \u001b[0;32mIn [29], line 4\u001b[0;36m\u001b[0m\n\u001b[0;31m    def add_phone_\u001b[0m\n\u001b[0m    ^\u001b[0m\n\u001b[0;31mIndentationError\u001b[0m\u001b[0;31m:\u001b[0m expected an indented block\n"
     ]
    }
   ],
   "source": [
    "# методы работы с теелефоном\n",
    "class Telefon():\n",
    "    def call():\n",
    "    def add_phone_\n",
    "        \n",
    "    позвонить + + + +\n",
    "    добавить телефонный номер\n",
    "    отправить смс + \n",
    "    зарядить телеофон +\n",
    "    сфоткать на телефон\n",
    "        \n",
    "    включить +  + \n",
    "    заблокировать + + \n",
    "    потерять +\n",
    "    разбить\n",
    "    \n",
    "    перезагрузить\n",
    "    добавить приложение\n",
    "    выключить звук\n",
    "    \n",
    "    зайти в интернет\n",
    "    проверить почту +\n",
    "    создать задачу в клендаре\n",
    "    отсканиить КУР код"
   ]
  },
  {
   "cell_type": "code",
   "execution_count": null,
   "metadata": {},
   "outputs": [],
   "source": [
    "# добавить работу с цветом."
   ]
  },
  {
   "cell_type": "code",
   "execution_count": 9,
   "metadata": {},
   "outputs": [],
   "source": [
    "# Реализовать класа описывающий работту тратктора.\n",
    "#- ехать \n",
    "#- коппаит \n",
    "#- завести двигать\n",
    "#- колеса (два больших + два мальеникх)\n",
    "#- грузоподемность\n",
    "#- цвет\n",
    "#- год вырпуска\n",
    "#- мощность\n",
    "\n",
    "class Trakto():\n",
    "    def __init__(self, x0, y0, color):\n",
    "        self.__x = x0\n",
    "        self.__y = y0\n",
    "        self.__v = 0\n",
    "        self.__color = color\n",
    "        \n",
    "    def move(self, v, x, y): # ехать\n",
    "        print(f\"Move trakor {self.__color} from {self.__x}, {self.__y} to {x}, {y}\")\n",
    "        self.__x = x\n",
    "        self.__y = y\n",
    "        \n",
    "    def plugin(self):\n",
    "        print('plugin')\n",
    "        \n",
    "\n",
    "trakor_1 = Trakto(10, 10, 'red')\n",
    "trakor_2 = Trakto(10, 10, 'green')"
   ]
  },
  {
   "cell_type": "code",
   "execution_count": 10,
   "metadata": {},
   "outputs": [
    {
     "name": "stdout",
     "output_type": "stream",
     "text": [
      "Move trakor red from 10, 10 to 45, 3\n",
      "Move trakor green from 10, 10 to 13, 70\n"
     ]
    }
   ],
   "source": [
    "#45, 3\n",
    "#13, 70\n",
    "trakor_1.move(10, 45, 3)\n",
    "trakor_2.move(10, 13, 70)\n"
   ]
  },
  {
   "cell_type": "code",
   "execution_count": 11,
   "metadata": {},
   "outputs": [
    {
     "name": "stdout",
     "output_type": "stream",
     "text": [
      "plugin\n"
     ]
    }
   ],
   "source": [
    "trakor_1.plugin()"
   ]
  },
  {
   "cell_type": "markdown",
   "metadata": {},
   "source": [
    "# Итераторы"
   ]
  },
  {
   "cell_type": "markdown",
   "metadata": {},
   "source": [
    "- Во многих современных языках программирования используют такие сущности как итераторы. Основное их назначение – это упрощение навигации по элементам объекта, который, как правило, представляет собой некоторую коллекцию (список, словарь и т.п.).\n",
    "- В Python тоже есть поддержка итераторов. Итератор представляет собой перечислитель, который для данной коллекции выдает следующий элемент либо вызывает исключение StopIteration, если элементов больше нет.\n",
    "- Итерируемый объект - это объект, представляющий собой некоторую коллекцию элементов, которую можно перебирать в цикле. Этот объект имеет методы __iter__() и __next__(). Итерационные контексты в Python (цикл for, оператор in) при участии в них некоторого объекта пытаются определить, есть ли у него метод __iter__(), который должен вернуть объект итератора, и применяют метод __next__() полученного объекта для обхода его элементов."
   ]
  },
  {
   "cell_type": "markdown",
   "metadata": {},
   "source": [
    "- Итерируемыми являются многие встроенные типы – списки, строки, кортежи, словари, множества, range и т.д.."
   ]
  },
  {
   "cell_type": "code",
   "execution_count": 12,
   "metadata": {},
   "outputs": [
    {
     "name": "stdout",
     "output_type": "stream",
     "text": [
      "1\n",
      "2\n",
      "6\n",
      "7\n",
      "10\n"
     ]
    }
   ],
   "source": [
    "for x in [1,2,6,7,10]:\n",
    "    print(x)"
   ]
  },
  {
   "cell_type": "markdown",
   "metadata": {},
   "source": [
    "- Пример итерируемого объекта – объект класса range. Его можно использовать в контексте цикла."
   ]
  },
  {
   "cell_type": "code",
   "execution_count": 13,
   "metadata": {},
   "outputs": [
    {
     "name": "stdout",
     "output_type": "stream",
     "text": [
      "0\n",
      "1\n",
      "2\n",
      "3\n"
     ]
    }
   ],
   "source": [
    "for x in range(4):\n",
    "    print(x)"
   ]
  },
  {
   "cell_type": "code",
   "execution_count": 14,
   "metadata": {},
   "outputs": [
    {
     "name": "stdout",
     "output_type": "stream",
     "text": [
      "r\n",
      "a\n",
      "n\n",
      "g\n",
      "e\n",
      "(\n",
      "4\n",
      ")\n"
     ]
    }
   ],
   "source": [
    "for x in \"range(4)\":\n",
    "    print(x)"
   ]
  },
  {
   "cell_type": "code",
   "execution_count": 17,
   "metadata": {},
   "outputs": [
    {
     "name": "stdout",
     "output_type": "stream",
     "text": [
      "range(0, 5)\n",
      "<class 'range'>\n",
      "<range_iterator object at 0x7f0380316c60>\n",
      "<class 'range_iterator'>\n",
      "0\n",
      "1\n",
      "2\n",
      "3\n",
      "4\n"
     ]
    },
    {
     "ename": "StopIteration",
     "evalue": "",
     "output_type": "error",
     "traceback": [
      "\u001b[0;31m---------------------------------------------------------------------------\u001b[0m",
      "\u001b[0;31mStopIteration\u001b[0m                             Traceback (most recent call last)",
      "Cell \u001b[0;32mIn [17], line 10\u001b[0m\n\u001b[1;32m      7\u001b[0m \u001b[38;5;28mprint\u001b[39m(\u001b[38;5;28mtype\u001b[39m(iterator))\n\u001b[1;32m      9\u001b[0m \u001b[38;5;28;01mwhile\u001b[39;00m \u001b[38;5;241m1\u001b[39m:\n\u001b[0;32m---> 10\u001b[0m     \u001b[38;5;28mprint\u001b[39m(\u001b[43miterator\u001b[49m\u001b[38;5;241;43m.\u001b[39;49m\u001b[38;5;21;43m__next__\u001b[39;49m\u001b[43m(\u001b[49m\u001b[43m)\u001b[49m)\n",
      "\u001b[0;31mStopIteration\u001b[0m: "
     ]
    }
   ],
   "source": [
    "r = range(5)\n",
    "print(r)\n",
    "print(type(r))\n",
    "\n",
    "iterator = r.__iter__()\n",
    "print(iterator)\n",
    "print(type(iterator))\n",
    "\n",
    "while 1:\n",
    "    print(iterator.__next__())"
   ]
  },
  {
   "cell_type": "code",
   "execution_count": 20,
   "metadata": {},
   "outputs": [],
   "source": [
    "#dir(iterator)"
   ]
  },
  {
   "cell_type": "code",
   "execution_count": 21,
   "metadata": {},
   "outputs": [],
   "source": [
    "#r = range(5)\n",
    "#r.____()"
   ]
  },
  {
   "cell_type": "markdown",
   "metadata": {},
   "source": [
    "Как видим итерация закончилась вызовом исключения"
   ]
  },
  {
   "cell_type": "markdown",
   "metadata": {},
   "source": [
    "Можно исследовать работу итератора, напрямую вызывая его методы __iter__() и __next__(). Как мы видим, итерирование заканчивается вызовом исключения StopIteration."
   ]
  },
  {
   "cell_type": "code",
   "execution_count": 16,
   "metadata": {},
   "outputs": [
    {
     "name": "stdout",
     "output_type": "stream",
     "text": [
      "1\n",
      "2\n",
      "3\n",
      "4\n"
     ]
    },
    {
     "ename": "StopIteration",
     "evalue": "",
     "output_type": "error",
     "traceback": [
      "\u001b[0;31m---------------------------------------------------------------------------\u001b[0m",
      "\u001b[0;31mStopIteration\u001b[0m                             Traceback (most recent call last)",
      "Cell \u001b[0;32mIn [16], line 7\u001b[0m\n\u001b[1;32m      5\u001b[0m \u001b[38;5;28mprint\u001b[39m(iterator\u001b[38;5;241m.\u001b[39m\u001b[38;5;21m__next__\u001b[39m())\n\u001b[1;32m      6\u001b[0m \u001b[38;5;28mprint\u001b[39m(iterator\u001b[38;5;241m.\u001b[39m\u001b[38;5;21m__next__\u001b[39m())\n\u001b[0;32m----> 7\u001b[0m \u001b[38;5;28mprint\u001b[39m(\u001b[43miterator\u001b[49m\u001b[38;5;241;43m.\u001b[39;49m\u001b[38;5;21;43m__next__\u001b[39;49m\u001b[43m(\u001b[49m\u001b[43m)\u001b[49m)\n\u001b[1;32m      8\u001b[0m \u001b[38;5;28mprint\u001b[39m(iterator\u001b[38;5;241m.\u001b[39m\u001b[38;5;21m__next__\u001b[39m())\n",
      "\u001b[0;31mStopIteration\u001b[0m: "
     ]
    }
   ],
   "source": [
    "my_list = [1,2,3,4]\n",
    "iterator = my_list.__iter__() # или iter(my_list)\n",
    "print(iterator.__next__()) # или next(iterator)\n",
    "print(iterator.__next__())\n",
    "print(iterator.__next__())\n",
    "print(iterator.__next__())\n",
    "print(iterator.__next__())\n",
    "print(iterator.__next__())"
   ]
  },
  {
   "cell_type": "markdown",
   "metadata": {},
   "source": [
    "- Для того, чтобы объект стал итерабельным, необходимо в его классе реализовать методы __iter__() и __next__(), причем __next__() должен вызывать исключение StopIteration, чтобы не было бесконечного цикла.\n",
    "- Пример: реализуем класс Vector с итератором для перебора его координат. Метод __iter__() может возвращать сам объект (self), поскольку именно в нем содержится реализация __next__()."
   ]
  },
  {
   "cell_type": "code",
   "execution_count": 16,
   "metadata": {},
   "outputs": [],
   "source": [
    "class Vector:\n",
    "    def __init__(self, values):\n",
    "        self.values = values\n",
    "        self.position = -1\n",
    "        \n",
    "    def __iter__(self):\n",
    "        return self\n",
    "    \n",
    "    def __next__(self):\n",
    "        self.position += 1\n",
    "        if self.position == len(self.values):\n",
    "            raise StopIteration\n",
    "        return self.values[self.position]"
   ]
  },
  {
   "cell_type": "markdown",
   "metadata": {},
   "source": [
    "- Результат: созданный нами объект класса Vector можно использовать внутри цикла for."
   ]
  },
  {
   "cell_type": "code",
   "execution_count": 23,
   "metadata": {},
   "outputs": [],
   "source": [
    "vect = Vector([3,5,7,-4,2])"
   ]
  },
  {
   "cell_type": "code",
   "execution_count": 24,
   "metadata": {},
   "outputs": [
    {
     "name": "stdout",
     "output_type": "stream",
     "text": [
      "3\n",
      "5\n",
      "7\n",
      "-4\n",
      "2\n"
     ]
    }
   ],
   "source": [
    "for el in vect:\n",
    "    print(el)"
   ]
  },
  {
   "cell_type": "code",
   "execution_count": 19,
   "metadata": {},
   "outputs": [],
   "source": [
    "#vect = Vector(\"qwerty\")\n",
    "#for el in vect:\n",
    "#    print(el)"
   ]
  },
  {
   "cell_type": "markdown",
   "metadata": {},
   "source": [
    "# Упражнение\n",
    "- Создать итератор, который будет возвращать заданное количество единиц.\n",
    "- Ожидаемый результат:   \n",
    "Ones(4)  \n",
    "1  \n",
    "1  \n",
    "1  \n",
    "1  "
   ]
  },
  {
   "cell_type": "code",
   "execution_count": 9,
   "metadata": {},
   "outputs": [
    {
     "name": "stdout",
     "output_type": "stream",
     "text": [
      "ADKazdym\n"
     ]
    }
   ],
   "source": [
    "print(\"ADKazdym\")\n",
    "class Ones():\n",
    "    def __init__(self, values):\n",
    "        self.__values = values     \n",
    "        self.__base_values = values\n",
    "         \n",
    "    def __iter__(self):\n",
    "        # возразщать обект итератор - у котрого есть метод next, который выбрасывает исключечние стоп итерайшен когда зхаканичваются данные\n",
    "        return self\n",
    "        \n",
    "    def __next__(self):\n",
    "        # метод next, который выбрасывает исключечние стоп итерайшен когда зхаканичваются данные\n",
    "        self.__values -= 1\n",
    "        #self.__values = self.__values - 1\n",
    "        \n",
    "        # если  self.__values рпавен нулю то выдать стоп итреатил\n",
    "        if self.__values <= -1:\n",
    "            print('stop')\n",
    "            self.__values = self.__base_values \n",
    "            raise StopIteration\n",
    "        return 1\n",
    "\n",
    "\n",
    "ones = Ones(6)\n"
   ]
  },
  {
   "cell_type": "code",
   "execution_count": 10,
   "metadata": {},
   "outputs": [
    {
     "name": "stdout",
     "output_type": "stream",
     "text": [
      "1\n",
      "1\n",
      "1\n",
      "1\n",
      "1\n",
      "1\n",
      "stop\n"
     ]
    }
   ],
   "source": [
    "for el in ones:\n",
    "    print(el)\n",
    "    \n"
   ]
  },
  {
   "cell_type": "code",
   "execution_count": 11,
   "metadata": {},
   "outputs": [
    {
     "name": "stdout",
     "output_type": "stream",
     "text": [
      "1\n",
      "1\n",
      "1\n",
      "1\n",
      "1\n",
      "1\n",
      "stop\n"
     ]
    }
   ],
   "source": [
    "for el in ones:\n",
    "    print(el)\n",
    "    \n"
   ]
  },
  {
   "cell_type": "code",
   "execution_count": null,
   "metadata": {},
   "outputs": [],
   "source": []
  },
  {
   "cell_type": "markdown",
   "metadata": {},
   "source": [
    "Замечание. Всю последовательность можно сразу превратить в список при помощи функции list():"
   ]
  },
  {
   "cell_type": "code",
   "execution_count": 12,
   "metadata": {},
   "outputs": [
    {
     "name": "stdout",
     "output_type": "stream",
     "text": [
      "stop\n"
     ]
    },
    {
     "data": {
      "text/plain": [
       "[1, 1, 1, 1, 1, 1]"
      ]
     },
     "execution_count": 12,
     "metadata": {},
     "output_type": "execute_result"
    }
   ],
   "source": [
    "list(ones)"
   ]
  },
  {
   "cell_type": "markdown",
   "metadata": {},
   "source": [
    "- Создать итератор, который будет возвращать символы переданной ему строки, по одному символу за итерацию."
   ]
  },
  {
   "cell_type": "code",
   "execution_count": 2,
   "metadata": {},
   "outputs": [
    {
     "name": "stdout",
     "output_type": "stream",
     "text": [
      "q\n",
      "w\n",
      "e\n",
      "r\n",
      "t\n",
      "y\n"
     ]
    }
   ],
   "source": [
    "class Twice:\n",
    "    def __init__(self, values):\n",
    "        self.values = values\n",
    "        self.position = -1\n",
    "\n",
    "    def __iter__(self):\n",
    "        return self\n",
    "\n",
    "    def __next__(self):\n",
    "        self.position += 1\n",
    "        if self.position == len(self.values):\n",
    "            raise StopIteration\n",
    "        return self.values[self.position]\n",
    "\n",
    "twice = Twice(\"qwerty\")\n",
    "for i in twice:\n",
    "    print(i)"
   ]
  },
  {
   "cell_type": "code",
   "execution_count": null,
   "metadata": {},
   "outputs": [],
   "source": [
    "#vect = Vector(\"qwerty\")\n",
    "#for el in vect:\n",
    "#    print(el)"
   ]
  },
  {
   "cell_type": "markdown",
   "metadata": {},
   "source": [
    "- Создать итератор, который будет возвращать следующую числовую последовательность:\n",
    "1/1, -1/3, 1/5, -1/7, 1/9, -1/11..."
   ]
  },
  {
   "cell_type": "code",
   "execution_count": null,
   "metadata": {},
   "outputs": [],
   "source": []
  },
  {
   "cell_type": "markdown",
   "metadata": {},
   "source": [
    "- Доработать предыдущее задание так, чтобы итератор возвращал не члены последовательности, а их суммы от первого до n-го:  \n",
    "1/1,  \n",
    "1/1 -1/3,  \n",
    "1/1 -1/3 +1/5,  "
   ]
  },
  {
   "cell_type": "code",
   "execution_count": null,
   "metadata": {},
   "outputs": [],
   "source": [
    "\n"
   ]
  },
  {
   "cell_type": "markdown",
   "metadata": {},
   "source": [
    "Замечание. Справедлива следующая формула (ряд Лейбница):  \n",
    "1/1 -1/3 +1/5 + ... = Sum( -1**n / (2n + 1) ) = Pi/4"
   ]
  },
  {
   "cell_type": "markdown",
   "metadata": {},
   "source": [
    "Доработать предыдущее решение, чтобы итератор выдавал приближения числа π."
   ]
  },
  {
   "cell_type": "code",
   "execution_count": null,
   "metadata": {},
   "outputs": [],
   "source": []
  },
  {
   "cell_type": "markdown",
   "metadata": {},
   "source": [
    "Создать итератор, который будет возвращать последовательность факториалов натуральных чисел:   \n",
    "1! = 1  \n",
    "2! = 1 * 2 = 2  \n",
    "3! = 1 * 2 * 3 = 6  \n",
    "..."
   ]
  },
  {
   "attachments": {
    "%D0%A1%D0%BD%D0%B8%D0%BC%D0%BE%D0%BA%20%D1%8D%D0%BA%D1%80%D0%B0%D0%BD%D0%B0%202023-03-08%20%D0%B2%2021.45.51.png": {
     "image/png": "[encoded data removed]"
    }
   },
   "cell_type": "markdown",
   "metadata": {},
   "source": [
    "\n",
    "![%D0%A1%D0%BD%D0%B8%D0%BC%D0%BE%D0%BA%20%D1%8D%D0%BA%D1%80%D0%B0%D0%BD%D0%B0%202023-03-08%20%D0%B2%2021.45.51.png](attachment:%D0%A1%D0%BD%D0%B8%D0%BC%D0%BE%D0%BA%20%D1%8D%D0%BA%D1%80%D0%B0%D0%BD%D0%B0%202023-03-08%20%D0%B2%2021.45.51.png)"
   ]
  },
  {
   "cell_type": "code",
   "execution_count": null,
   "metadata": {},
   "outputs": [],
   "source": [
    "# Хороший пример от Сергея\n",
    "\n",
    "\n",
    "print(\"sivanov\")\n",
    "class SIvanovPhone:\n",
    "\"\"\"\n",
    "немного перегруженный класс сотового телефона\n",
    "\"\"\"\n",
    "    def __init__(self, number:str, operator):\n",
    "        self.__own_number = number\n",
    "        self.__operator = operator\n",
    "        self.__input_number = \"\"\n",
    "        self.__call_active = False\n",
    "        self.__call_number_entered = False\n",
    "        operator.register_phone_number(self)\n",
    "        self.__list_sms = []\n",
    "        \n",
    "    def input_number(self, input_number:str):\n",
    "        if(len(input_number)):\n",
    "            self.__input_number = input_number\n",
    "            self.__call_number_entered = True\n",
    "    \n",
    "    def make_call(self):\n",
    "        if(self.__call_number_entered):\n",
    "            print(f\"trying to make a call to {self.__input_number}\")\n",
    "            foreign_phone = self.__operator.get_phone_by_number(self.__input_number)\n",
    "            if(foreign_phone):\n",
    "                foreign_phone.ring() # TODO вот это нужно перенести в оператора\n",
    "                self.__call_active = True\n",
    "        else:\n",
    "            print(\"please enter a number to call\")\n",
    "    \n",
    "    def ring(self):\n",
    "        print(f\"{self.__own_number} ringing\")\n",
    "    \n",
    "    def answer_call(self):\n",
    "        print(f\"answering to incoming call\")\n",
    "        self.__call_active = true\n",
    "    \n",
    "    def end_call(self):\n",
    "        if(self.__call_active):\n",
    "            print(f\"hanging out {self.__input_number}\")\n",
    "    \n",
    "    def __str__(self):\n",
    "        return f\"My number is {self.__own_number}, can call to {self.__input_number}\" \n",
    "    \n",
    "    def get_unique_id(self):\n",
    "        return self.__own_number\n",
    "    \n",
    "    def send_sms(self, text:str):\n",
    "        print(f\"{self.__own_number} sending sms with text '{text}' to {self.__input_number}\")\n",
    "        self.__operator.send_sms_to(self.__input_number, text)\n",
    "        return\n",
    "    \n",
    "    def receive_sms(self, sms_text:str):\n",
    "        print(f\"{self.__own_number} received text: {sms_text}\")\n",
    "        self.__list_sms.append(sms_text)\n",
    "    \n",
    "    def print_sms(self):\n",
    "        print(self.__list_sms)\n",
    "\n",
    "\n",
    "class sivanov_cellular_operator:\n",
    "    \"\"\"\n",
    "    на коленке написанный класс сотового оператора\n",
    "    \"\"\"\n",
    "    def __init__(self):\n",
    "        self.__registered_numbers = {}\n",
    "    \n",
    "    def register_phone_number(self, phone:SIvanovPhone):\n",
    "        self.__registered_numbers[phone.get_unique_id()] = phone\n",
    "    \n",
    "    def __repr__(self):\n",
    "        return self.__registered_numbers\n",
    "    \n",
    "    def __str__(self):\n",
    "        all_numbers = \"\"\n",
    "        for number in self.__registered_numbers:\n",
    "            all_numbers += number + \", \"\n",
    "        return all_numbers \n",
    "    \n",
    "    def get_phone_by_number(self, number:str):\n",
    "        if number in self.__registered_numbers:\n",
    "            return self.__registered_numbers[number] \n",
    "        else:\n",
    "            return None\n",
    "    \n",
    "    def send_sms_to(self, number:str, text:str):\n",
    "        if number in self.__registered_numbers:\n",
    "            receiver = self.__registered_numbers[number]\n",
    "            receiver.receive_sms(text)\n",
    "            \n",
    "def sivanov_calling():\n",
    "    beeline = sivanov_cellular_operator()\n",
    "    a_phone = SIvanovPhone(\"8910444\",beeline)\n",
    "    a_second_phone = SIvanovPhone(\"8910555\",beeline)\n",
    "    b_phone = SIvanovPhone(\"11111\",beeline)\n",
    "    print(beeline)\n",
    "    print(a_phone)\n",
    "    print(a_second_phone)\n",
    "    a_phone.make_call()\n",
    "    a_phone.end_call()\n",
    "    a_phone.input_number(\"8910555\")\n",
    "    print(a_phone)\n",
    "    a_phone.make_call()\n",
    "    a_phone.end_call()\n",
    "    a_phone.send_sms(\"lol!!\")\n",
    "    \n",
    "    print('===')\n",
    "    a_phone.print_sms()\n",
    "    a_second_phone.print_sms()\n",
    "    b_phone.print_sms()\n",
    "    \n",
    "sivanov_calling()  \n",
    "        "
   ]
  },
  {
   "cell_type": "code",
   "execution_count": null,
   "metadata": {},
   "outputs": [],
   "source": []
  },
  {
   "cell_type": "code",
   "execution_count": null,
   "metadata": {},
   "outputs": [],
   "source": []
  },
  {
   "cell_type": "code",
   "execution_count": null,
   "metadata": {},
   "outputs": [],
   "source": []
  },
  {
   "cell_type": "markdown",
   "metadata": {},
   "source": [
    "# Модули"
   ]
  },
  {
   "cell_type": "markdown",
   "metadata": {},
   "source": [
    "- Модуль в Python – это файл с расширением .py. Модули предназначены для того, чтобы в них хранить часто используемые функции, классы, константы и т.п.\n",
    "- Большое количество функций стандартной библиотеки Python и сторонних разработок реализовано в виде модулей. Для работы с модулем его необходимо импортировать."
   ]
  },
  {
   "cell_type": "markdown",
   "metadata": {},
   "source": [
    "# Импорт модуля"
   ]
  },
  {
   "cell_type": "markdown",
   "metadata": {},
   "source": [
    "- Самый простой способ импортировать модуль:  \n",
    "    import имя_модуля\n",
    "- Примечание: расширение .py при импорте не указывается.\n",
    "- После этого становятся доступными все функции, определенные в данном модуле.\n",
    "- Синтаксис вызова функции из импортированного модуля:  \n",
    "     имя_модуля.имя_функции"
   ]
  },
  {
   "cell_type": "code",
   "execution_count": null,
   "metadata": {},
   "outputs": [],
   "source": [
    "import math\n",
    "math.factorial(5)"
   ]
  },
  {
   "cell_type": "markdown",
   "metadata": {},
   "source": [
    "За один раз можно импортировать сразу несколько модулей, для этого их нужно перечислить через запятую после инструкции import:\n",
    "import имя_модуля1, имя_модуля2"
   ]
  },
  {
   "cell_type": "code",
   "execution_count": null,
   "metadata": {},
   "outputs": [],
   "source": [
    "import math, datetime\n",
    "print(math.cos(math.pi/4))\n",
    "print(datetime.date(2017, 3, 21))"
   ]
  },
  {
   "cell_type": "markdown",
   "metadata": {},
   "source": [
    "# Упражнение"
   ]
  },
  {
   "cell_type": "markdown",
   "metadata": {},
   "source": [
    "Создать модуль simplemath.py и реализовать в нём арифметические операции (add, sub, mul, div)."
   ]
  },
  {
   "cell_type": "code",
   "execution_count": null,
   "metadata": {},
   "outputs": [],
   "source": []
  },
  {
   "cell_type": "markdown",
   "metadata": {},
   "source": [
    "Импортировать модуль simplemath.py в блокнот Jupyter Notebook и сделать несколько арифметических вычислений с использованием модуля."
   ]
  },
  {
   "cell_type": "code",
   "execution_count": null,
   "metadata": {},
   "outputs": [],
   "source": []
  },
  {
   "cell_type": "markdown",
   "metadata": {},
   "source": [
    "### Замечание. При внесении изменений в код модуля нужно перезапускать среду выполнения Jupyter (кнопка  restart the kernel , меню Kernel -> Restart или меню Среда выполнения -> Перезапустить среду выполнения)."
   ]
  },
  {
   "cell_type": "code",
   "execution_count": null,
   "metadata": {},
   "outputs": [],
   "source": []
  },
  {
   "cell_type": "markdown",
   "metadata": {},
   "source": [
    "При помощи функции help() мы можем получить документацию по любому подключенному модулю."
   ]
  },
  {
   "cell_type": "code",
   "execution_count": null,
   "metadata": {},
   "outputs": [],
   "source": []
  },
  {
   "cell_type": "markdown",
   "metadata": {},
   "source": [
    "При помощи команды dir() мы можем посмотреть, какие имена функций объявлены в модуле."
   ]
  },
  {
   "cell_type": "code",
   "execution_count": null,
   "metadata": {},
   "outputs": [],
   "source": []
  },
  {
   "cell_type": "markdown",
   "metadata": {},
   "source": [
    "- Модулю при импорте можно присвоить псевдоним. После этого функции из модуля можно вызывать, используя псевдоним вместо имени модуля.\n",
    "- Этот подход используется, поскольку имена модулей могут быть длинными."
   ]
  },
  {
   "cell_type": "code",
   "execution_count": null,
   "metadata": {},
   "outputs": [],
   "source": [
    "import math as m\n",
    "m.sin(m.pi/3)"
   ]
  },
  {
   "cell_type": "markdown",
   "metadata": {},
   "source": [
    "# Упражнение"
   ]
  },
  {
   "cell_type": "markdown",
   "metadata": {},
   "source": [
    "Импортировать модуль simplemath.py в блокнот Jupyter Notebook с использованием псевдонима sm и сделать несколько арифметических вычислений с использованием модуля."
   ]
  },
  {
   "cell_type": "code",
   "execution_count": null,
   "metadata": {},
   "outputs": [],
   "source": []
  },
  {
   "cell_type": "markdown",
   "metadata": {},
   "source": [
    "# Импорт модуля"
   ]
  },
  {
   "cell_type": "markdown",
   "metadata": {},
   "source": [
    "- При использовании вышеперечисленных подходов при вызове функции из импортированного модуля всегда нужно указывать имя модуля (или псевдоним). Избежать этого можно, используя конструкцию from ... import ...\n"
   ]
  },
  {
   "cell_type": "code",
   "execution_count": null,
   "metadata": {},
   "outputs": [],
   "source": [
    "from math import cos\n",
    "cos(3.14)"
   ]
  },
  {
   "cell_type": "markdown",
   "metadata": {},
   "source": [
    "- При этом импортируется только конкретный объект (в нашем примере функция cos), остальные функции будут недоступны. Для имортирования нескольких функций из модуля можно перечислить их имена через запятую."
   ]
  },
  {
   "cell_type": "code",
   "execution_count": null,
   "metadata": {},
   "outputs": [],
   "source": [
    "from math import cos, sin, pi"
   ]
  },
  {
   "cell_type": "code",
   "execution_count": null,
   "metadata": {},
   "outputs": [],
   "source": [
    "sin(pi/3)"
   ]
  },
  {
   "cell_type": "markdown",
   "metadata": {},
   "source": [
    "# Упражнение"
   ]
  },
  {
   "cell_type": "markdown",
   "metadata": {},
   "source": [
    "Импортировать модуль simplemath.py в блокнот Jupyter Notebook с помощью from ... import .... и сделать несколько арифметических вычислений с использованием модуля."
   ]
  },
  {
   "cell_type": "code",
   "execution_count": null,
   "metadata": {},
   "outputs": [],
   "source": []
  },
  {
   "cell_type": "markdown",
   "metadata": {},
   "source": [
    "Если необходимо импортировать все функции, классы и т.п. из модуля (без использования имени модуля), то можно использовать следующую инструкцию:\n",
    "   from имя_модуля import *"
   ]
  },
  {
   "cell_type": "code",
   "execution_count": null,
   "metadata": {},
   "outputs": [],
   "source": []
  },
  {
   "cell_type": "markdown",
   "metadata": {},
   "source": [
    "При совпадении имен функций с уже существующими, функция из модуля заменит собой ранее определенную функцию. Поэтому такой способ импорта следует использовать лишь в крайних случаях."
   ]
  },
  {
   "cell_type": "code",
   "execution_count": null,
   "metadata": {},
   "outputs": [],
   "source": [
    "def add(x, y):\n",
    "    print(x, y)\n",
    "    \n",
    "add(4,5)\n",
    "\n",
    "from simplemath.py import *\n",
    "\n",
    "add(4,5)"
   ]
  },
  {
   "cell_type": "code",
   "execution_count": null,
   "metadata": {},
   "outputs": [],
   "source": []
  },
  {
   "cell_type": "markdown",
   "metadata": {},
   "source": [
    "#  Установка сторонних модулей"
   ]
  },
  {
   "cell_type": "code",
   "execution_count": null,
   "metadata": {},
   "outputs": [],
   "source": [
    "!pip install pytest"
   ]
  },
  {
   "cell_type": "code",
   "execution_count": null,
   "metadata": {},
   "outputs": [],
   "source": [
    "!pip install nbmake"
   ]
  },
  {
   "cell_type": "code",
   "execution_count": null,
   "metadata": {},
   "outputs": [],
   "source": [
    "pytest --collect-only --nbmake"
   ]
  },
  {
   "cell_type": "code",
   "execution_count": null,
   "metadata": {},
   "outputs": [],
   "source": [
    "pytest  --nbmake "
   ]
  },
  {
   "cell_type": "code",
   "execution_count": null,
   "metadata": {},
   "outputs": [],
   "source": []
  },
  {
   "cell_type": "code",
   "execution_count": null,
   "metadata": {},
   "outputs": [],
   "source": []
  },
  {
   "cell_type": "markdown",
   "metadata": {},
   "source": [
    "# MAIN"
   ]
  },
  {
   "cell_type": "code",
   "execution_count": null,
   "metadata": {},
   "outputs": [],
   "source": [
    "def q2():\n",
    "    x = 24\n",
    "    x_2 = x * x\n",
    "    print(x_2)\n",
    "    \n",
    "    \n",
    "if __name__ == '__main__':\n",
    "    q2()"
   ]
  },
  {
   "cell_type": "code",
   "execution_count": null,
   "metadata": {},
   "outputs": [],
   "source": []
  },
  {
   "cell_type": "code",
   "execution_count": null,
   "metadata": {},
   "outputs": [],
   "source": []
  },
  {
   "cell_type": "code",
   "execution_count": null,
   "metadata": {},
   "outputs": [],
   "source": []
  },
  {
   "cell_type": "code",
   "execution_count": null,
   "metadata": {},
   "outputs": [],
   "source": []
  },
  {
   "cell_type": "code",
   "execution_count": null,
   "metadata": {},
   "outputs": [],
   "source": []
  },
  {
   "cell_type": "code",
   "execution_count": null,
   "metadata": {},
   "outputs": [],
   "source": []
  },
  {
   "cell_type": "markdown",
   "metadata": {},
   "source": [
    "# Pytest"
   ]
  },
  {
   "cell_type": "markdown",
   "metadata": {},
   "source": [
    "Требования к названиям  \n",
    "Есть требования к наименованию тестовых файлов и директорий, чтобы Pytest автоматически мог их найти.  \n",
    "\n",
    "Имя файла должно начинаться с ”test” или заканчиваться “test.py”.  \n",
    "Имена функций и переменных должны быть написаны в нижнем регистре, а слова должны быть разделены подчеркиванием. При этом имя тестовой функции должно начинаться с “test_”, например “test_skillfactory”.  "
   ]
  },
  {
   "cell_type": "markdown",
   "metadata": {},
   "source": [
    "Запуск тестов  \n",
    "Чтобы просмотреть, какие тесты будут выполняться, не запуская их, и проверить правильность выбора опций, можно использовать:\n",
    "- pytest —collect-only\n",
    "\n",
    "Расширенный отчет по ошибкам\n",
    "- pytest -v\n",
    "\n",
    "Остановка после первого упавшего теста\n",
    "- pytest -x\n",
    "\n",
    "Чтобы выполнить все тесты в каталоге tests:\n",
    "- pytest tests\n",
    "\n",
    "Если для команды выше не указать каталог, по умолчанию Pytest будет работать в текущем каталоге. Например:\n",
    "- pytest\n",
    "\n",
    "В качестве аргументов можно указать отдельные файлы и даже функции:\n",
    "- pytest test.py #запустит все тесты из файла test.py\n",
    "- pytest test.py::test_func #запустит функцию test_func из файла test.py  "
   ]
  },
  {
   "cell_type": "markdown",
   "metadata": {},
   "source": [
    "### но для запуска тестов надо создать фаил .py"
   ]
  },
  {
   "cell_type": "code",
   "execution_count": null,
   "metadata": {},
   "outputs": [],
   "source": []
  },
  {
   "cell_type": "code",
   "execution_count": null,
   "metadata": {},
   "outputs": [],
   "source": []
  },
  {
   "cell_type": "code",
   "execution_count": null,
   "metadata": {},
   "outputs": [],
   "source": []
  },
  {
   "cell_type": "code",
   "execution_count": null,
   "metadata": {},
   "outputs": [],
   "source": []
  },
  {
   "cell_type": "markdown",
   "metadata": {},
   "source": [
    "# Что такое ООП"
   ]
  },
  {
   "cell_type": "code",
   "execution_count": null,
   "metadata": {},
   "outputs": [],
   "source": []
  },
  {
   "cell_type": "code",
   "execution_count": null,
   "metadata": {},
   "outputs": [],
   "source": []
  },
  {
   "cell_type": "code",
   "execution_count": null,
   "metadata": {},
   "outputs": [],
   "source": []
  },
  {
   "cell_type": "code",
   "execution_count": null,
   "metadata": {},
   "outputs": [],
   "source": []
  },
  {
   "cell_type": "code",
   "execution_count": null,
   "metadata": {},
   "outputs": [],
   "source": [
    "# фикстуры"
   ]
  },
  {
   "cell_type": "code",
   "execution_count": null,
   "metadata": {},
   "outputs": [],
   "source": [
    "@pytest.fixture()\n",
    "def read_from_flie_responce():\n",
    "    text = ''\n",
    "    with open('download/test.html','r') as response:\n",
    "        text = response.read() \n",
    "    return text\n",
    "\n",
    "def test_page(read_from_flie_responce):\n",
    "    p = read_from_flie_responce\n",
    "    assert p.list_dict() == [\n",
    "        {\n",
    "            \"title\": '---',\n",
    "        },\n",
    "    ]"
   ]
  },
  {
   "cell_type": "code",
   "execution_count": null,
   "metadata": {},
   "outputs": [],
   "source": []
  },
  {
   "cell_type": "code",
   "execution_count": null,
   "metadata": {},
   "outputs": [],
   "source": []
  },
  {
   "cell_type": "markdown",
   "metadata": {},
   "source": [
    "# lambda, map, filter, reduce"
   ]
  },
  {
   "cell_type": "code",
   "execution_count": null,
   "metadata": {},
   "outputs": [],
   "source": []
  },
  {
   "cell_type": "markdown",
   "metadata": {},
   "source": [
    "# Работа с фалами"
   ]
  },
  {
   "cell_type": "code",
   "execution_count": null,
   "metadata": {},
   "outputs": [],
   "source": [
    "file_descition = open('1.txt', 'r')\n",
    "p1 = file_descition.read(5)\n",
    "p1\n",
    "p2 = file_descition.read(5)\n",
    "p2\n",
    "p3 = file_descition.read(5)\n",
    "p3\n",
    "p4 = file_descition.read(5)\n",
    "p4\n",
    "file_descition.close()\n",
    "\n",
    "#Hello world\n",
    "file_descition_2 = open('1.txt', 'r')\n",
    "p1 = file_descition_2.read(1)\n",
    "p1\n",
    "p2 = file_descition_2.read(6)\n",
    "p1\n",
    "p2\n",
    "\n",
    "#Hello w<!>orld\n",
    "file_descition_2.seek(3)\n",
    "#Hel<!>lo world\n",
    "p3 = file_descition_2.read(6)\n",
    "#Hello wor<!>ld\n",
    "p3\n",
    "\n",
    "#Hello world\n",
    "help(file_descition_2)\n",
    "\n",
    "file_descition_2.tell()\n",
    "file_descition_2.seek(0)\n",
    "\n",
    "p4 = file_descition_2.read(3)\n",
    "p4\n",
    "\n",
    "#Hello world\n",
    "#wor\n",
    "file_descition_2.close()\n",
    "\n",
    "# записиь в фаил\n",
    "file_write = open('2.txt', 'w')\n",
    "file_write.write('la la la')\n",
    "file_write.write('la la la')\n",
    "file_write.write('la la la'*1000)\n",
    "file_write.close()\n",
    "\n",
    "\n",
    "file_write = open('3.txt', 'w')\n",
    "file_write.write('la la la')\n",
    "file_write.close()\n",
    "\n",
    "!cat 3.txt\n",
    "text = 'lesson 6'\n",
    "\n",
    "list_1 = [1,2,3,4]\n",
    "number = 17\n",
    "file_write = open('4.txt', 'w')\n",
    "file_write.write(text)\n",
    "\n",
    "file_write.write(number)\n",
    "file_write.write(list_1)\n",
    "file_write.close()\n",
    "\n",
    "file_read = open('lesson_6/4.txt', 'r')\n",
    "line = file_read.readline()\n",
    "line\n",
    "\n",
    "\n",
    "file_write = open('5.txt', 'w')\n",
    "line_1 = 'open file '\n",
    "for i in range(100):\n",
    "    file_write.write(line_1)\n",
    "    file_write.write(str(i))\n",
    "    \n",
    "file_write.close()\n",
    "!cat 5.txt\n",
    "file_read = open('5.txt', 'r')\n",
    "for i in range(10):\n",
    "    print(i, file_read.read(5) )\n",
    "file_read.close()"
   ]
  },
  {
   "cell_type": "code",
   "execution_count": null,
   "metadata": {},
   "outputs": [],
   "source": []
  },
  {
   "cell_type": "markdown",
   "metadata": {},
   "source": [
    "# импортируем библиотеку\n",
    "import pickle"
   ]
  },
  {
   "cell_type": "code",
   "execution_count": null,
   "metadata": {},
   "outputs": [],
   "source": []
  },
  {
   "cell_type": "code",
   "execution_count": null,
   "metadata": {},
   "outputs": [],
   "source": []
  },
  {
   "cell_type": "code",
   "execution_count": null,
   "metadata": {},
   "outputs": [],
   "source": []
  },
  {
   "cell_type": "code",
   "execution_count": null,
   "metadata": {},
   "outputs": [],
   "source": []
  },
  {
   "cell_type": "code",
   "execution_count": null,
   "metadata": {},
   "outputs": [],
   "source": []
  },
  {
   "cell_type": "code",
   "execution_count": null,
   "metadata": {},
   "outputs": [],
   "source": []
  },
  {
   "cell_type": "code",
   "execution_count": null,
   "metadata": {},
   "outputs": [],
   "source": [
    "# Проверьте, есть ли в спсике дублирующиеся элементы. "
   ]
  },
  {
   "cell_type": "code",
   "execution_count": null,
   "metadata": {},
   "outputs": [],
   "source": []
  },
  {
   "cell_type": "markdown",
   "metadata": {},
   "source": [
    "Аккуратно работаем с сторками"
   ]
  },
  {
   "cell_type": "code",
   "execution_count": null,
   "metadata": {},
   "outputs": [],
   "source": [
    "s = 'abcd'\n",
    "list(s)"
   ]
  },
  {
   "cell_type": "code",
   "execution_count": null,
   "metadata": {},
   "outputs": [],
   "source": [
    "s = 'abcd'\n",
    "l = list([s])\n",
    "l"
   ]
  },
  {
   "cell_type": "code",
   "execution_count": null,
   "metadata": {},
   "outputs": [],
   "source": []
  },
  {
   "cell_type": "code",
   "execution_count": null,
   "metadata": {},
   "outputs": [],
   "source": []
  },
  {
   "cell_type": "code",
   "execution_count": null,
   "metadata": {},
   "outputs": [],
   "source": []
  },
  {
   "cell_type": "code",
   "execution_count": null,
   "metadata": {},
   "outputs": [],
   "source": []
  },
  {
   "cell_type": "code",
   "execution_count": null,
   "metadata": {},
   "outputs": [],
   "source": []
  },
  {
   "cell_type": "code",
   "execution_count": null,
   "metadata": {},
   "outputs": [],
   "source": []
  },
  {
   "cell_type": "code",
   "execution_count": null,
   "metadata": {},
   "outputs": [],
   "source": []
  },
  {
   "cell_type": "code",
   "execution_count": null,
   "metadata": {},
   "outputs": [],
   "source": []
  },
  {
   "cell_type": "code",
   "execution_count": null,
   "metadata": {},
   "outputs": [],
   "source": [
    "\"a\" in s"
   ]
  },
  {
   "cell_type": "code",
   "execution_count": null,
   "metadata": {},
   "outputs": [],
   "source": [
    "\"a\" in l"
   ]
  },
  {
   "cell_type": "code",
   "execution_count": null,
   "metadata": {},
   "outputs": [],
   "source": [
    "\"abcd\" in l"
   ]
  },
  {
   "cell_type": "code",
   "execution_count": null,
   "metadata": {},
   "outputs": [],
   "source": []
  },
  {
   "cell_type": "code",
   "execution_count": null,
   "metadata": {},
   "outputs": [],
   "source": []
  },
  {
   "cell_type": "code",
   "execution_count": null,
   "metadata": {},
   "outputs": [],
   "source": [
    "'a' in ['a', 'b', 'c', 'd']"
   ]
  },
  {
   "cell_type": "code",
   "execution_count": null,
   "metadata": {},
   "outputs": [],
   "source": [
    "3 in list('1234567')"
   ]
  },
  {
   "cell_type": "code",
   "execution_count": null,
   "metadata": {},
   "outputs": [],
   "source": [
    "x = 3\n",
    "x > 5 and x < 2"
   ]
  },
  {
   "cell_type": "code",
   "execution_count": null,
   "metadata": {},
   "outputs": [],
   "source": [
    "3 in list('1234567') or 3 in [1,2,3,4,5,6,7]"
   ]
  },
  {
   "cell_type": "code",
   "execution_count": null,
   "metadata": {},
   "outputs": [],
   "source": [
    "x = 3\n",
    "x not in [1, 2, 3, 4, 5, 6]"
   ]
  },
  {
   "cell_type": "code",
   "execution_count": null,
   "metadata": {},
   "outputs": [],
   "source": [
    "bool(1)"
   ]
  },
  {
   "cell_type": "code",
   "execution_count": null,
   "metadata": {},
   "outputs": [],
   "source": [
    "bool(0)"
   ]
  },
  {
   "cell_type": "code",
   "execution_count": null,
   "metadata": {},
   "outputs": [],
   "source": [
    "bool('')"
   ]
  },
  {
   "cell_type": "code",
   "execution_count": null,
   "metadata": {},
   "outputs": [],
   "source": [
    "bool([])"
   ]
  },
  {
   "cell_type": "code",
   "execution_count": null,
   "metadata": {},
   "outputs": [],
   "source": [
    "int('3' * 5)"
   ]
  },
  {
   "cell_type": "code",
   "execution_count": null,
   "metadata": {},
   "outputs": [],
   "source": []
  },
  {
   "cell_type": "code",
   "execution_count": null,
   "metadata": {},
   "outputs": [],
   "source": []
  },
  {
   "cell_type": "code",
   "execution_count": null,
   "metadata": {},
   "outputs": [],
   "source": []
  },
  {
   "cell_type": "code",
   "execution_count": null,
   "metadata": {},
   "outputs": [],
   "source": []
  },
  {
   "cell_type": "markdown",
   "metadata": {},
   "source": [
    "### Стандартные функции языка\n",
    "\n",
    "Функции - это маленькие программки, которые умеют выполнять какую-то операцию \n",
    "\n",
    "Функции вызываются следующим образом, после имени функции следуют круглые скобки, в которых указываются аргументы (над каким объектом будет выполнена операция) и параметры (с какими условиями)"
   ]
  },
  {
   "cell_type": "markdown",
   "metadata": {},
   "source": [
    "### print()\n",
    "Функция для вывода содержимого на экран. \n",
    "**Обязательно**: передать хотя бы какой-то объект, который нужно напечатать."
   ]
  },
  {
   "cell_type": "markdown",
   "metadata": {},
   "source": [
    "Посчитать количетсво птроаченых денег ва месц\n",
    "суум ввсех чеков"
   ]
  },
  {
   "cell_type": "code",
   "execution_count": null,
   "metadata": {},
   "outputs": [],
   "source": [
    "print(\"Hello, world Ivan!\")"
   ]
  },
  {
   "cell_type": "code",
   "execution_count": null,
   "metadata": {},
   "outputs": [],
   "source": [
    "print(10001)"
   ]
  },
  {
   "cell_type": "code",
   "execution_count": null,
   "metadata": {},
   "outputs": [],
   "source": [
    "j = 1\n",
    "h = 2\n",
    "k = h + j\n",
    "print(k)\n",
    "h2 = \"home\"\n",
    "print(h2)"
   ]
  },
  {
   "cell_type": "code",
   "execution_count": null,
   "metadata": {},
   "outputs": [],
   "source": [
    "print(5)"
   ]
  },
  {
   "cell_type": "code",
   "execution_count": null,
   "metadata": {},
   "outputs": [],
   "source": [
    "print('Работаем с числами', 5, 'и', 2)\n",
    "print(5 + 2)\n",
    "print(5 - 2)\n",
    "print(5 * 2)"
   ]
  },
  {
   "cell_type": "code",
   "execution_count": null,
   "metadata": {},
   "outputs": [],
   "source": [
    "print('Целочисленное деление:', 5 // 2)\n",
    "print('Остаток от деления:', 5 % 2)"
   ]
  },
  {
   "cell_type": "markdown",
   "metadata": {},
   "source": []
  },
  {
   "cell_type": "markdown",
   "metadata": {},
   "source": [
    "### Переменные и типы переменных\n",
    "\n",
    "Результаты операций и манипуляций иногда нужно сохранять, поэтому мы определяем переменные - именованные объекты, которым присваиваем значения. "
   ]
  },
  {
   "cell_type": "code",
   "execution_count": null,
   "metadata": {},
   "outputs": [],
   "source": [
    "savings_2017 = 2000\n",
    "savings_2016 = 1800\n",
    "increase = ((2000 - 1800) / 180) * 100"
   ]
  },
  {
   "cell_type": "code",
   "execution_count": null,
   "metadata": {},
   "outputs": [],
   "source": [
    "# Вывести на печать % роста накоплений\n",
    "# round() - функция округления числа\n",
    "print(increase)"
   ]
  },
  {
   "cell_type": "code",
   "execution_count": null,
   "metadata": {},
   "outputs": [],
   "source": [
    "savings_2017 = savings_2016"
   ]
  },
  {
   "cell_type": "code",
   "execution_count": null,
   "metadata": {},
   "outputs": [],
   "source": [
    "savings_2017"
   ]
  },
  {
   "cell_type": "markdown",
   "metadata": {},
   "source": [
    "### Типы переменных\n",
    "\n",
    "- int: целое число\n",
    "- float: число с дробной частью\n",
    "- str: текст\n",
    "- bool: логическая переменная"
   ]
  },
  {
   "cell_type": "markdown",
   "metadata": {},
   "source": [
    "### Логические выражения\n",
    "\n",
    "По аналогии с арифметическими выражениями существуют логические выражения, которые могут быть истинными или ложными. Простое логическое выражение имеет вид \n",
    "\n",
    "<арифметическое выражение> <знак сравнения> <арифметическое выражение>.  \n",
    "\n",
    "<center> \n",
    "    <table>\n",
    "        <tr>\n",
    "            <th>Логическое выражение </th>\n",
    "            <th> Значение </th>\n",
    "        </tr> \n",
    "        <tr><td>&lt;</td><td> Меньше</td></tr>\n",
    "        <tr><td>&gt;</td><td> Больше</td></tr>\n",
    "        <tr><td>&lt;=</td><td> Меньше или равно</td></tr>\n",
    "        <tr><td>&gt;=</td><td> Больше или равно</td></tr>\n",
    "        <tr><td>==</td><td> Равно </td></tr>\n",
    "        <tr><td>!=</td><td> Не равно</td></tr>\n",
    "    </table>\n",
    "</center>"
   ]
  },
  {
   "cell_type": "code",
   "execution_count": null,
   "metadata": {},
   "outputs": [],
   "source": [
    "10 > 33\n",
    "#True = srvni_bolsh(10,3)"
   ]
  },
  {
   "cell_type": "code",
   "execution_count": null,
   "metadata": {},
   "outputs": [],
   "source": [
    "x = 1 > 2\n",
    "print(type(x)) # узнаем тип переменной\n",
    "print(x)\n",
    "print(int(x)) # приводим переменную к типу int\n"
   ]
  },
  {
   "cell_type": "code",
   "execution_count": null,
   "metadata": {},
   "outputs": [],
   "source": [
    "str1 = \"1000\"\n",
    "\n",
    "print(str1 + \"10\")\n",
    "print(int(str1) + int(\"10\"))\n",
    "print(int(str1) + 10)\n",
    "int(str1) + 10"
   ]
  },
  {
   "cell_type": "markdown",
   "metadata": {},
   "source": [
    "### Условный оператор\n",
    "\n",
    "Наиболее частое применение логические выражения находят в условных операторах.\n",
    "\n",
    "Синтаксис в питоне: \n",
    "**if** условие:\n",
    "    команда\n",
    "**else**: \n",
    "    команда"
   ]
  },
  {
   "cell_type": "code",
   "execution_count": null,
   "metadata": {},
   "outputs": [],
   "source": [
    "\n",
    "x = 15\n",
    "y = 7\n",
    "# количество услови бесконечно НО\n",
    "if (x > y and x > 30 and y < 12) or y > 6:\n",
    "    print('x больше y')\n",
    "    print(x - y)\n",
    "else:\n",
    "    print(' ')\n",
    "    print('y не меньше, чем x')"
   ]
  },
  {
   "cell_type": "markdown",
   "metadata": {},
   "source": [
    "### Пример: заменяем сложное усдовие на функцию для улучшения читаемости"
   ]
  },
  {
   "cell_type": "code",
   "execution_count": null,
   "metadata": {},
   "outputs": [],
   "source": [
    "def is_calculte_sum_manth(x, y):\n",
    "     return (xsssd > ywd and xewdewd > 30 and home_may_fgamaly < 12) or y>6\n",
    "    \n",
    "x = 15\n",
    "y = 7\n",
    "# количество услови бесконечно НО\n",
    "if is_calculte_sum_manth(x, y):\n",
    "    print('x больше y')\n",
    "    print(x - y)\n",
    "else:\n",
    "    print(' ')\n",
    "    print('y не меньше, чем x')"
   ]
  },
  {
   "cell_type": "markdown",
   "metadata": {},
   "source": [
    "### Функция range(n)\n",
    "\n",
    "Функция создает объект, внутри которого содержится последовательность чисел в заданных диапазонах (start, stop). Число stop не включается в итоговую последовательность. \n",
    "Ее синтаксис:\n",
    "- range(start, stop)"
   ]
  },
  {
   "cell_type": "code",
   "execution_count": null,
   "metadata": {
    "scrolled": true
   },
   "outputs": [],
   "source": [
    "g = range(5)\n",
    "print(range(5))\n",
    "\n",
    "# запсутить нтрепритаро локалаьно "
   ]
  },
  {
   "cell_type": "code",
   "execution_count": null,
   "metadata": {},
   "outputs": [],
   "source": [
    "print(range(5))\n",
    "print(list(range(2, 7)))"
   ]
  },
  {
   "cell_type": "markdown",
   "metadata": {},
   "source": [
    "Цикл for позволяет поочередно перебрать элементы.\n",
    "\n",
    "Ее синтаксис: \n",
    "**for** i **in** диапазон изменений i:\n",
    "     команда"
   ]
  },
  {
   "cell_type": "code",
   "execution_count": null,
   "metadata": {},
   "outputs": [],
   "source": [
    "n = 5\n",
    "for i in range(1,6):\n",
    "    print(i)"
   ]
  },
  {
   "cell_type": "code",
   "execution_count": null,
   "metadata": {},
   "outputs": [],
   "source": []
  },
  {
   "cell_type": "code",
   "execution_count": null,
   "metadata": {},
   "outputs": [],
   "source": [
    "for color in ['red', 'green', 'yellow']:\n",
    "    print(color)"
   ]
  },
  {
   "cell_type": "code",
   "execution_count": null,
   "metadata": {
    "scrolled": true
   },
   "outputs": [],
   "source": [
    "list_color = ['red', 'green', 'yellow']\n",
    "list_color.append('pink')\n",
    "list_color.append('blue')\n",
    "\n",
    "for color in list_color:\n",
    "    print(color + ' color ' + color )\n",
    "\n"
   ]
  },
  {
   "cell_type": "code",
   "execution_count": null,
   "metadata": {},
   "outputs": [],
   "source": [
    "print(list_color)"
   ]
  },
  {
   "cell_type": "code",
   "execution_count": null,
   "metadata": {},
   "outputs": [],
   "source": [
    "i = 10\n",
    "while i > 2:\n",
    "    print (i)\n",
    "    i = i - 1\n",
    "    print(i)\n",
    "    print('next')\n",
    "print('finish')"
   ]
  },
  {
   "cell_type": "markdown",
   "metadata": {},
   "source": [
    "### Написание функций\n",
    "\n",
    "Если какие-то операции надо повторять из раза в раз и нет готовых функций, то можно создать свою. \n",
    "\n",
    "Синтаксис: \n",
    "**def** название функции(список аргументов):\n",
    "    команды\n",
    "     **return** результат выполнения функции"
   ]
  },
  {
   "cell_type": "code",
   "execution_count": null,
   "metadata": {},
   "outputs": [],
   "source": [
    "def calc(number1, number2):\n",
    "    result = number1 * number2 + number1 + number2\n",
    "    print(result)\n",
    "    return result\n",
    "    \n",
    "\n",
    "def calc_2():\n",
    "    return 2\n",
    "    \n",
    "number1 = 10\n",
    "number2 = 20\n",
    "new_1 = calc(number1, number2)\n",
    "print(new_1)"
   ]
  },
  {
   "cell_type": "code",
   "execution_count": null,
   "metadata": {},
   "outputs": [],
   "source": [
    "def calc(x1, x2):\n",
    "    result = x1 * x2 + x1 + x2\n",
    "    #print(result)\n",
    "    print(x1)\n",
    "    print(x2)\n",
    "    if x1 > 2:\n",
    "        return result\n",
    "    else:\n",
    "        return 11\n",
    "    return None\n",
    "\n",
    "def calc_2():\n",
    "    return 2\n",
    "  \n",
    "#print(x1)\n",
    "    \n",
    "number1 = 10\n",
    "number2 = 20\n",
    "number3 = 30\n",
    "new_1 = calc(number1, number2)\n",
    "#new_1 = calc(10, 20)\n",
    "\n",
    "print(new_1)"
   ]
  },
  {
   "cell_type": "code",
   "execution_count": null,
   "metadata": {},
   "outputs": [],
   "source": [
    "#План выкопать яму\n"
   ]
  },
  {
   "cell_type": "markdown",
   "metadata": {},
   "source": [
    "### **Задание A**\n",
    "\n",
    "Напишите функцию, которая перебирает числа от 1 до 15 (включительно) и возвращает список из чисел кратных 3."
   ]
  },
  {
   "cell_type": "code",
   "execution_count": null,
   "metadata": {},
   "outputs": [],
   "source": [
    "d = 'ddd'"
   ]
  },
  {
   "cell_type": "code",
   "execution_count": null,
   "metadata": {},
   "outputs": [],
   "source": [
    "print(d)"
   ]
  },
  {
   "cell_type": "code",
   "execution_count": null,
   "metadata": {},
   "outputs": [],
   "source": [
    "s = 1\n",
    "k = s + 6"
   ]
  },
  {
   "cell_type": "code",
   "execution_count": null,
   "metadata": {},
   "outputs": [],
   "source": [
    "print(k)"
   ]
  },
  {
   "cell_type": "code",
   "execution_count": null,
   "metadata": {},
   "outputs": [],
   "source": [
    "!ls"
   ]
  },
  {
   "cell_type": "code",
   "execution_count": null,
   "metadata": {},
   "outputs": [],
   "source": [
    "# путь к текущй деректори"
   ]
  },
  {
   "cell_type": "code",
   "execution_count": null,
   "metadata": {
    "scrolled": true
   },
   "outputs": [],
   "source": [
    "!pwd"
   ]
  },
  {
   "cell_type": "code",
   "execution_count": null,
   "metadata": {},
   "outputs": [],
   "source": [
    "!ls"
   ]
  },
  {
   "cell_type": "code",
   "execution_count": null,
   "metadata": {},
   "outputs": [],
   "source": [
    "!ls -la"
   ]
  },
  {
   "cell_type": "code",
   "execution_count": null,
   "metadata": {},
   "outputs": [],
   "source": [
    "!pwd"
   ]
  },
  {
   "cell_type": "code",
   "execution_count": null,
   "metadata": {},
   "outputs": [],
   "source": [
    "!cp /home/test22/lesson_1.ipynb lesson_1_1.ipynb"
   ]
  },
  {
   "cell_type": "code",
   "execution_count": null,
   "metadata": {},
   "outputs": [],
   "source": [
    "!ls -la"
   ]
  },
  {
   "cell_type": "code",
   "execution_count": null,
   "metadata": {},
   "outputs": [],
   "source": []
  }
 ],
 "metadata": {
  "kernelspec": {
   "display_name": "Python 3 (ipykernel)",
   "language": "python",
   "name": "python3"
  },
  "language_info": {
   "codemirror_mode": {
    "name": "ipython",
    "version": 3
   },
   "file_extension": ".py",
   "mimetype": "text/x-python",
   "name": "python",
   "nbconvert_exporter": "python",
   "pygments_lexer": "ipython3",
   "version": "3.9.7"
  }
 },
 "nbformat": 4,
 "nbformat_minor": 2
}
