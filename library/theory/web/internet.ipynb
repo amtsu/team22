{
 "cells": [
  {
   "cell_type": "markdown",
   "id": "54cabac4",
   "metadata": {},
   "source": [
    "# Internet"
   ]
  },
  {
   "cell_type": "markdown",
   "id": "1d75b928",
   "metadata": {},
   "source": [
    "### interconnected networks - связанные сети"
   ]
  },
  {
   "cell_type": "markdown",
   "id": "4d995933",
   "metadata": {},
   "source": [
    "<img src=\"https://www.rayonline.ru/wp-content/uploads/2022/05/internet-foto-2.jpg\">"
   ]
  },
  {
   "cell_type": "markdown",
   "id": "df6f00c2",
   "metadata": {},
   "source": [
    "- военные  \n",
    "- хабы, сичи, роутеры  \n",
    "- пакеты(данные, адресс отправителя, получателя)   Почта - письма\n",
    "- mac(уникальный), ip(выдется), DNS  \n",
    "- хосты  \n",
    "- регламенты, 4 уровня TCP/IP, 7 уровеней OSI  \n",
    "- TCP/IP  \n",
    "- Прикладной(Application Layer)\tнапр., HTTP, RTSP, FTP, DNS, SHH,  - как программа общаться  \n",
    "- Транспортный (Transport Layer) напр., TCP, UDP, SCTP, DCCP - поддержка доставики, сохраненеи последовательности  \n",
    "- Сетевой (Межсетевой) (Network Layer) Для TCP/IP это IP - взхаимодействие между сетями, порт\n",
    "- Уровень сетевого доступа (Канальный) (Link Layer) Ethernet, IEEE 802.11, WLAN, SLIP, Token Ring, ATM и MPLS, физическая среда и принципы кодирования информации, T1, E1 - физическая передача сигналов по сети  \n",
    "- сверху вниз и снизу вверх  \n",
    "- программа в момент исполненеия процесс  \n",
    "- socket асбтракция ОС (протокол транспортый, локальный порт, локальный ip, удаленный порт, удаленный ip)  "
   ]
  },
  {
   "cell_type": "markdown",
   "id": "ea8cbb1f",
   "metadata": {},
   "source": [
    "- nat\n",
    "- vpn"
   ]
  },
  {
   "cell_type": "markdown",
   "id": "f440ab78",
   "metadata": {},
   "source": [
    "traceroute facebook.com"
   ]
  },
  {
   "cell_type": "markdown",
   "id": "a15e762b",
   "metadata": {},
   "source": [
    "- у нас есть собсвтеный вп и можно подклчбюаться"
   ]
  },
  {
   "cell_type": "markdown",
   "id": "3593bbb4",
   "metadata": {},
   "source": [
    "Размебер пример прикладного протокола\n",
    "- HTTP ( методы - get, post, put, head, delete, ...)"
   ]
  },
  {
   "cell_type": "markdown",
   "id": "93303bd7",
   "metadata": {},
   "source": [
    "html - язык раметтки текстов "
   ]
  },
  {
   "cell_type": "markdown",
   "id": "dbec5641",
   "metadata": {},
   "source": [
    "- сформирвоать страницу "
   ]
  },
  {
   "cell_type": "markdown",
   "id": "952c8cf6",
   "metadata": {},
   "source": [
    "чтобы у вас страничк открылась на редактрование надо изменить view на edit\n",
    "Пример:\n",
    "https://absrent.ru:18443/user/amtsu/view/github/team22/library/theory/web/page.html\n",
    "https://absrent.ru:18443/user/amtsu/edit/github/team22/library/theory/web/page.html"
   ]
  },
  {
   "cell_type": "code",
   "execution_count": null,
   "id": "b977ace6",
   "metadata": {},
   "outputs": [],
   "source": []
  }
 ],
 "metadata": {
  "kernelspec": {
   "display_name": "Python 3 (ipykernel)",
   "language": "python",
   "name": "python3"
  },
  "language_info": {
   "codemirror_mode": {
    "name": "ipython",
    "version": 3
   },
   "file_extension": ".py",
   "mimetype": "text/x-python",
   "name": "python",
   "nbconvert_exporter": "python",
   "pygments_lexer": "ipython3",
   "version": "3.9.7"
  }
 },
 "nbformat": 4,
 "nbformat_minor": 5
}
