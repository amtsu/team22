{
 "cells": [
  {
   "cell_type": "markdown",
   "id": "c59568fa-e98f-48ea-bc2e-1fd7009588d9",
   "metadata": {},
   "source": [
    "## Регулярные выражения в Python"
   ]
  },
  {
   "cell_type": "markdown",
   "id": "8fa64556-9960-44c2-972a-c97ac35071e1",
   "metadata": {},
   "source": [
    "Введение\n",
    "\n",
    "Регулярные выражения (regex) - это мощный инструмент для поиска, извлечения и манипулирования текстом. Они представляют собой шаблоны, которые описывают определённые комбинации символов. В Python для работы с regex используется модуль re.\n",
    "\n",
    "Базовые элементы regex\n",
    "\n",
    "* Точка (.): Соответствует любому символу.\n",
    "* Звездочка (*): Соответствует 0 или более повторений предшествующего символа или группы.\n",
    "* Плюс (+): Соответствует 1 или более повторений предшествующего символа или группы.\n",
    "* Вопрос (?): Соответствует 0 или 1 повторению предшествующего символа или группы.\n",
    "* Квадратные скобки ([...]): Определяют набор символов, из которых выбирается один.\n",
    "* Скобки ( ): Группируют символы или группы.\n",
    "* Вертикальная черта (|): Указывает на выбор между двумя или более вариантами.\n",
    "* Символ перевода строки (\\n): Соответствует символу перевода строки.\n",
    "* Специальные символы: \\\\d (цифры), \\\\w (буквы и цифры), \\\\s (пробельные символы).\n"
   ]
  },
  {
   "cell_type": "markdown",
   "id": "5736106e-ca27-4f5a-a481-e97d32100890",
   "metadata": {},
   "source": [
    "Пример 1: Проверка телефонного номера"
   ]
  },
  {
   "cell_type": "code",
   "execution_count": 28,
   "id": "45f8eace-37e2-4c5e-aef0-efa70b81e4e5",
   "metadata": {},
   "outputs": [
    {
     "name": "stdout",
     "output_type": "stream",
     "text": [
      "Телефонный номер верен\n"
     ]
    },
    {
     "data": {
      "text/plain": [
       "re.Match"
      ]
     },
     "execution_count": 28,
     "metadata": {},
     "output_type": "execute_result"
    }
   ],
   "source": [
    "import re\n",
    "\n",
    "phone_number = \"+7-800-555-35-35\"\n",
    "pattern = r\"\\+\\d{1}-\\d{3}-\\d{3}-\\d{2}-\\d{2}\"\n",
    "\n",
    "match = re.search(pattern, phone_number)\n",
    "\n",
    "if match:\n",
    "    print(\"Телефонный номер верен\")\n",
    "else:\n",
    "    print(\"Неверный формат телефонного номера\")\n"
   ]
  },
  {
   "cell_type": "markdown",
   "id": "4cd7d1ce-2f40-4a21-ab15-68fd4dad3e13",
   "metadata": {},
   "source": [
    "\n",
    "В данном примере мы используем шаблон \\d{3}-\\d{3}-\\d{3}-\\d{2}-\\d{2}, который соответствует номеру телефона с кодом города, номером и номером абонента, разделенным тире. Функция re.search() ищет вхождение шаблона в строке. Если соответствие найдено, match не будет None и мы выведем сообщение \"Телефонный номер верен\"."
   ]
  },
  {
   "cell_type": "markdown",
   "id": "61982be9-c731-400b-a0fd-65b8d7666135",
   "metadata": {},
   "source": [
    "Пример 2: Извлечение электронных адресов"
   ]
  },
  {
   "cell_type": "code",
   "execution_count": 42,
   "id": "2743975c-3830-4a6e-90c4-440397aa8b6b",
   "metadata": {},
   "outputs": [
    {
     "name": "stdout",
     "output_type": "stream",
     "text": [
      "Найденные электронные адреса: ['my.email@example.com']\n"
     ]
    }
   ],
   "source": [
    "import re\n",
    "\n",
    "text = \"Свяжитесь со мной по адресу: my.email@example.com, или по номеру телефона: 8-800-555-35-35\"\n",
    "\n",
    "emails = re.findall(r\"[a-zA-Z0-9._%+-]+@[a-zA-Z0-9.-]+\\.[a-zA-Z]{2,}\", text)\n",
    "\n",
    "print(f\"Найденные электронные адреса: {emails}\")\n"
   ]
  },
  {
   "cell_type": "markdown",
   "id": "28c337f1-a110-4bd4-9012-0f8b20ccf95c",
   "metadata": {},
   "source": [
    "\n",
    "В этом примере мы используем шаблон [a-zA-Z0-9._%+-]+@[a-zA-Z0-9.-]+\\.[a-zA-Z]{2,} для поиска электронных адресов. re.findall() возвращает список всех найденных соответствий шаблону в тексте.\n"
   ]
  },
  {
   "cell_type": "code",
   "execution_count": 23,
   "id": "b733d931-df7d-4801-8685-c8576531e423",
   "metadata": {},
   "outputs": [
    {
     "name": "stdout",
     "output_type": "stream",
     "text": [
      "Найденные электронные адреса: ['kuvaldabikes@gmail.com']\n"
     ]
    }
   ],
   "source": [
    "stroka = \"\"\"\n",
    "<!DOCTYPE html>\n",
    "\n",
    "<html lang=\"ru\">\n",
    "\n",
    "<head>\n",
    "    \n",
    "<meta charset=\"UTF-8\">\n",
    "    \n",
    "<meta name=\"viewport\" content=\"width=device-width, initial-scale=1.0\">\n",
    "    \n",
    "<title>Резюме Непочатый Антон</title>\n",
    "    \n",
    "<style>\n",
    "        \n",
    "body {\n",
    "font-family: Arial, sans-serif; background-color: #f2f2f2; margin: 0; padding: 0;}.container {\n",
    "max-width: 800px;\n",
    "            margin: 20px auto;\n",
    "            background-color: #fff;\n",
    "            padding: 20px;\n",
    "            border-radius: 8px;\n",
    "            box-shadow: 0 0 10px rgba(0, 0, 0, 0.1);\n",
    "        }\n",
    "        .header {\n",
    "            text-align: center;\n",
    "            border-bottom: 2px solid #eee;\n",
    "            padding-bottom: 20px;\n",
    "        }\n",
    "        .header h1 {\n",
    "            margin: 0;\n",
    "            font-size: 26px;\n",
    "            color: #333;\n",
    "        }\n",
    "        .header p {\n",
    "            margin: 5px 0;\n",
    "            color: #666;\n",
    "        }\n",
    "        .section {\n",
    "            margin-top: 20px;\n",
    "        }\n",
    "        .section h2 {\n",
    "            font-size: 20px;\n",
    "            margin-bottom: 10px;\n",
    "            color: #333;\n",
    "        }\n",
    "        .section p, .section ul {\n",
    "            margin: 0 0 10px;\n",
    "        }\n",
    "        .section ul {\n",
    "            list-style: none;\n",
    "            padding: 0;\n",
    "        }\n",
    "        .section ul li {\n",
    "            padding: 5px 0;}.section ul li strong {display: block;color: #333;}.section ul li em {color: #666;}</style>\n",
    "\n",
    "</head>\n",
    "\n",
    "<body>\n",
    "    \n",
    "<div class=\"container\">\n",
    "        \n",
    "<div class=\"header\">\n",
    "            \n",
    "<h1>Непочатый Антон</h1>\n",
    "            \n",
    "<p>Телефон: +995 551-100-500</p>\n",
    "<p>Email: kuvaldabikes@gmail.com</p>\n",
    "            \n",
    "<p>Город: Москва</p>\n",
    "        \n",
    "</div>\n",
    "        \n",
    "<div class=\"section\">\n",
    "            \n",
    "<h2>Цель</h2>\n",
    "            \n",
    "<p>Дратути, Я хотел бы войти в ИТ</p>\n",
    "        \n",
    "</div>\n",
    "        <div class=\"section\">\n",
    "            \n",
    "<h2>Опыт работы</h2>\n",
    "            \n",
    "<ul>\n",
    "                \n",
    "<li>\n",
    "                    \n",
    "<strong>ФГУП НАМИ, Москва</strong>\n",
    "                    \n",
    "<em>Ведущий инженер-конструктор, Январь 2020 - Сентябрь 2022</em>\n",
    "                    \n",
    "<p>Разработка электромотика</p>\n",
    "                \n",
    "</li>\n",
    "                \n",
    "<li>\n",
    "                    \n",
    "<strong>Миландр СМ, Москва</strong>\n",
    "                    \n",
    "<em>Ведущий инженер-конструктор, Июнь 2018 - Январь 2020</em>\n",
    "                    \n",
    "<p>Разработка электромотика</p>\n",
    "                \n",
    "</li>\n",
    "            \n",
    "</ul>\n",
    "        \n",
    "</div>\n",
    "        <div class=\"section\">\n",
    "            \n",
    "<h2>Образование</h2>\n",
    "            \n",
    "<ul>\n",
    "                <li>\n",
    "                    \n",
    "<strong>Московский Авиационный Институт</strong>\n",
    "                    \n",
    "<em>Специалист, Авиационные двигатели и энергетические установки, Сентябрь 2010 - Июнь 2015</em>\n",
    "                \n",
    "</li>\n",
    "            </ul>\n",
    "        </div>\n",
    "        <div class=\"section\">\n",
    "            \n",
    "<h2>Навыки</h2>\n",
    "            <ul>\n",
    "                \n",
    "<li>NX, ANSYS, SolidWorks, Fusion 360, OnShape</li>\n",
    "                \n",
    "<li>Teamcenter</li>\n",
    " \n",
    "<li>---------------</li>\n",
    "               \n",
    "<li>Однако, надеюсь тут скоро будут:</li>\n",
    "                \n",
    "<li>Python, SQL</li>\n",
    "                \n",
    "<li>Git, Docker</li>\n",
    "            \n",
    "</ul>\n",
    "        \n",
    "</div>\n",
    "        <div class=\"section\">\n",
    "            \n",
    "<h2>Дополнительная информация</h2>\n",
    "            \n",
    "<p>Английский B1, Немецкий учу в DuoLingvo, ВУ категории B, играю на басухе и просто гитаре, катаюсь на велосипеде.</p>\n",
    "        \n",
    "</div>\n",
    "    \n",
    "</div>\n",
    "\n",
    "</body>\n",
    "\n",
    "</html>\n",
    "\"\"\"\n",
    "emails = re.findall(r\"[a-zA-Z0-9._%+-]+@[a-zA-Z0-9.-]+\\.[a-zA-Z]{2,}\", stroka)\n",
    "\n",
    "print(f\"Найденные электронные адреса: {emails}\")"
   ]
  },
  {
   "cell_type": "markdown",
   "id": "cab36eee-f319-4841-abee-93953576d9eb",
   "metadata": {},
   "source": [
    "Пример 3: Замена текста\n"
   ]
  },
  {
   "cell_type": "code",
   "execution_count": 25,
   "id": "8439c95b-f791-417f-ac9b-7e70db3b19ce",
   "metadata": {},
   "outputs": [
    {
     "name": "stdout",
     "output_type": "stream",
     "text": [
      "Измененный текст: Python How are you today?\n"
     ]
    }
   ],
   "source": [
    "import re\n",
    "\n",
    "text = \"Hello, world! How are you today?\"\n",
    "new_text = re.sub(r\"world\", \"Python\", text)\n",
    "#new_text = re.sub(r\".*\\!\", \"Python\", text)\n",
    "print(f\"Измененный текст: {new_text}\")\n"
   ]
  },
  {
   "cell_type": "markdown",
   "id": "871d6ce6-3fe8-4baf-bc48-c6605c4aa595",
   "metadata": {},
   "source": [
    "\n",
    "re.sub() позволяет заменять все вхождения шаблона в тексте на новую строку.\n",
    "\n"
   ]
  },
  {
   "cell_type": "markdown",
   "id": "9cc0ec5d-f80d-495d-9445-ca605d018283",
   "metadata": {},
   "source": [
    "Группировка и захват\n",
    "\n",
    "Используя скобки (), можно группировать части шаблона и извлекать их значения."
   ]
  },
  {
   "cell_type": "code",
   "execution_count": 31,
   "id": "4970d361-5ff1-4536-9f05-150987a09154",
   "metadata": {},
   "outputs": [
    {
     "name": "stdout",
     "output_type": "stream",
     "text": [
      "Первое слово: The\n",
      "Второе слово: quick\n"
     ]
    }
   ],
   "source": [
    "import re\n",
    "\n",
    "text = \"The quick brown fox jumps over the lazy dog.\"\n",
    "match = re.search(r\"(\\w+) (\\w+)\", text)\n",
    "\n",
    "if match:\n",
    "    print(f\"Первое слово: {match.group(1)}\")\n",
    "    print(f\"Второе слово: {match.group(2)}\")\n"
   ]
  },
  {
   "cell_type": "markdown",
   "id": "953c7804-22ce-4b8d-9708-c12d7e5262ff",
   "metadata": {},
   "source": [
    "В этом примере мы группируем слова \"quick\" и \"brown\", и можем получить доступ к их значениям через match.group(1) и match.group(2).\n"
   ]
  },
  {
   "cell_type": "code",
   "execution_count": null,
   "id": "33f0a63d-4ac5-4466-a8f4-7c076fcb515f",
   "metadata": {},
   "outputs": [],
   "source": []
  },
  {
   "cell_type": "markdown",
   "id": "5b93670e-dfa5-45e0-bda3-ef3271dd1284",
   "metadata": {},
   "source": [
    "Использование метасимволов\n",
    "\n",
    "Существует множество метасимволов, которые упрощают построение шаблонов:\n",
    "\n",
    "* \\d:  Соответствует любому десятичному числу (0-9).\n",
    "* \\w: Соответствует любому буквенно-цифровому символу или подчеркиванию (_).\n",
    "* \\s: Соответствует любому пробельному символу (пробел, табуляция, перевод строки).\n",
    "* \\b: Соответствует границе слова."
   ]
  },
  {
   "cell_type": "code",
   "execution_count": 34,
   "id": "eef9a86b-c088-4acb-b3b3-02d96e6e2227",
   "metadata": {},
   "outputs": [
    {
     "name": "stdout",
     "output_type": "stream",
     "text": [
      "Найден телефонный номер:  123-456-7890\n"
     ]
    }
   ],
   "source": [
    "import re\n",
    "\n",
    "text = \"tel 123-456-7890\"\n",
    "match = re.search(r\"\\b\\d{3}-\\d{3}-\\d{4}\\b\", text)\n",
    "\n",
    "if match:\n",
    "    print(\"Найден телефонный номер: \", match.group(0))\n"
   ]
  },
  {
   "cell_type": "markdown",
   "id": "29188bca-21bc-4860-8b7c-178abaecd05b",
   "metadata": {},
   "source": [
    "\n",
    "Этот пример демонстрирует использование \\b для поиска телефонного номера, окруженного границами слов."
   ]
  },
  {
   "cell_type": "code",
   "execution_count": null,
   "id": "0a6d7f6d-2be1-4c14-af80-b43ee1005eeb",
   "metadata": {},
   "outputs": [],
   "source": []
  },
  {
   "cell_type": "markdown",
   "id": "cc22ff22-66ea-4224-b025-31bb8af4e073",
   "metadata": {},
   "source": [
    "  Квантификаторы\n",
    "\n",
    "Квантификаторы позволяют указывать количество повторений символа или группы:\n",
    "\n",
    "* *: 0 или более повторений.\n",
    "* +: 1 или более повторений.\n",
    "* ?: 0 или 1 повторение.\n",
    "* {n}: Точно n повторений.\n",
    "* {n,}: n или более повторений.\n",
    "* {n, m}: от n до m повторений."
   ]
  },
  {
   "cell_type": "code",
   "execution_count": 11,
   "id": "0d17eb83-6c6f-42e6-b6fb-82ee1c5db27b",
   "metadata": {},
   "outputs": [
    {
     "name": "stdout",
     "output_type": "stream",
     "text": [
      "Найдено: oooo\n"
     ]
    }
   ],
   "source": [
    "import re\n",
    "\n",
    "text = \"Helloooo world!\"\n",
    "match = re.search(r\"o{2,}\", text)\n",
    "\n",
    "if match:\n",
    "    print(\"Найдено:\", match.group(0))\n"
   ]
  },
  {
   "cell_type": "markdown",
   "id": "69843f82-f0d5-418f-b237-e98205ab46e4",
   "metadata": {},
   "source": [
    "Этот пример демонстрирует поиск последовательности из 2 или более \"o\".\n"
   ]
  },
  {
   "cell_type": "code",
   "execution_count": null,
   "id": "2b2f0d04-693d-4537-a7a1-df3625ee055d",
   "metadata": {},
   "outputs": [],
   "source": []
  },
  {
   "cell_type": "markdown",
   "id": "a706f936-d689-4fbb-8033-b1b1e226402f",
   "metadata": {},
   "source": [
    "  Атрибуты регексов\n",
    "\n",
    "Модуль re предоставляет множество атрибутов для работы с регексами:\n",
    "\n",
    "* re.IGNORECASE: Игнорирует регистр символов.\n",
    "* re.MULTILINE:  Рассматривает строку как многострочную.\n",
    "* re.DOTALL: Точка (.) соответствует любому символу, включая перевод строки.\n"
   ]
  },
  {
   "cell_type": "code",
   "execution_count": 13,
   "id": "61466f92-c92f-48a5-8366-e879880eba65",
   "metadata": {},
   "outputs": [
    {
     "name": "stdout",
     "output_type": "stream",
     "text": [
      "Найдено: Hello\n",
      "world\n"
     ]
    }
   ],
   "source": [
    "import re\n",
    "\n",
    "text = \"Hello\\nworld!\"\n",
    "match = re.search(r\"Hello.*world\", text, re.DOTALL)\n",
    "\n",
    "if match:\n",
    "    print(\"Найдено:\", match.group(0))\n"
   ]
  },
  {
   "cell_type": "code",
   "execution_count": null,
   "id": "9c82af7d-af03-421f-a867-166be21050e0",
   "metadata": {},
   "outputs": [],
   "source": []
  },
  {
   "cell_type": "markdown",
   "id": "953b2145-2f1b-455c-909e-9ed4ebcb4df5",
   "metadata": {},
   "source": [
    "  Дополнительные возможности\n",
    "\n",
    "* re.findall(): Возвращает список всех найденных соответствий шаблону в тексте.\n",
    "* re.sub(): Заменяет все вхождения шаблона в тексте на новую строку.\n",
    "* re.split(): Разбивает строку на список подстрок по найденным вхождениям шаблона.\n",
    "* re.compile(): Компилирует регулярное выражение для многократного использования.\n"
   ]
  },
  {
   "cell_type": "code",
   "execution_count": null,
   "id": "df121fc3-54b5-4100-8fe0-efcf6d3481c2",
   "metadata": {},
   "outputs": [],
   "source": []
  },
  {
   "cell_type": "markdown",
   "id": "36bb0474-1f31-4bd3-a379-f37cce0f152d",
   "metadata": {},
   "source": [
    "\n",
    "\n",
    "Регулярные выражения – это мощный инструмент для работы с текстом. Понимание их синтаксиса и возможностей позволит вам эффективно выполнять различные задачи, такие как валидация данных, поиск и замена текста, извлечение информации и многое другое."
   ]
  },
  {
   "cell_type": "code",
   "execution_count": null,
   "id": "f5de2732-2914-4295-8405-e72dbef0af43",
   "metadata": {},
   "outputs": [],
   "source": []
  }
 ],
 "metadata": {
  "kernelspec": {
   "display_name": "Python 3 (ipykernel)",
   "language": "python",
   "name": "python3"
  },
  "language_info": {
   "codemirror_mode": {
    "name": "ipython",
    "version": 3
   },
   "file_extension": ".py",
   "mimetype": "text/x-python",
   "name": "python",
   "nbconvert_exporter": "python",
   "pygments_lexer": "ipython3",
   "version": "3.10.10"
  }
 },
 "nbformat": 4,
 "nbformat_minor": 5
}
