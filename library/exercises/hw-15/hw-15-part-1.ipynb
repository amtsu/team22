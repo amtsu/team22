{
 "cells": [
  {
   "cell_type": "markdown",
   "id": "79fa4784-0258-4749-853b-829508f91ec2",
   "metadata": {},
   "source": [
    "# Создайте"
   ]
  },
  {
   "cell_type": "markdown",
   "id": "939eef77-38d2-48da-a248-4ee08ef8559c",
   "metadata": {},
   "source": [
    "1. На основе данных о посещаемости и выполенных заданиях создать список элементов. Где каждый элемент содержит следующие значения: github имя пользователя, дату занятия, номер заняти, присутсвовал ли на занятии, процент выполенния задания к занятию. "
   ]
  },
  {
   "cell_type": "code",
   "execution_count": null,
   "id": "da0b3353-3e97-48fb-b633-f3728079d76f",
   "metadata": {},
   "outputs": [],
   "source": []
  }
 ],
 "metadata": {
  "kernelspec": {
   "display_name": "Python 3 (ipykernel)",
   "language": "python",
   "name": "python3"
  },
  "language_info": {
   "codemirror_mode": {
    "name": "ipython",
    "version": 3
   },
   "file_extension": ".py",
   "mimetype": "text/x-python",
   "name": "python",
   "nbconvert_exporter": "python",
   "pygments_lexer": "ipython3",
   "version": "3.10.10"
  }
 },
 "nbformat": 4,
 "nbformat_minor": 5
}
