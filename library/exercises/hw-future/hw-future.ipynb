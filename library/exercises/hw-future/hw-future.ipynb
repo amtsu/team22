{
 "cells": [
  {
   "cell_type": "markdown",
   "id": "5a914aa6-4296-4a4d-8e59-99e2a84e9b97",
   "metadata": {},
   "source": [
    "# Задачи которые нужны всем вам для обучения, так что если кто то готов взяться и сделать это для всех на наших серверах, то это будет просто великолепно и он подучит от всех + 100 в карму )"
   ]
  },
  {
   "cell_type": "markdown",
   "id": "37479913-89de-4629-827c-c1ad295af811",
   "metadata": {},
   "source": [
    "Почистить базу размеров в 60 гигов от дублей, чтобы использовать ее домашней работе  \n",
    "Добавить плагин по нативной работе с sql в юпитер ноутбуки  \n",
    "Развернуть супер сет настроить на использование наших бд  \n",
    "Развернуть кластер К8S  \n",
    "Развернуть airflow  на кластрее к8s  \n",
    "поднять и настроить IAM  \n",
    "Поднять и настроить постгрес на работу с роевой моделью IAM  \n",
    "... "
   ]
  },
  {
   "cell_type": "code",
   "execution_count": null,
   "id": "f9440b04-bee9-478b-9a2e-aed4b3be3f78",
   "metadata": {},
   "outputs": [],
   "source": []
  }
 ],
 "metadata": {
  "kernelspec": {
   "display_name": "Python 3 (ipykernel)",
   "language": "python",
   "name": "python3"
  },
  "language_info": {
   "codemirror_mode": {
    "name": "ipython",
    "version": 3
   },
   "file_extension": ".py",
   "mimetype": "text/x-python",
   "name": "python",
   "nbconvert_exporter": "python",
   "pygments_lexer": "ipython3",
   "version": "3.10.10"
  }
 },
 "nbformat": 4,
 "nbformat_minor": 5
}
