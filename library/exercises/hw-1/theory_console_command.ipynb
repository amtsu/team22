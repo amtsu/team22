{
 "cells": [
  {
   "cell_type": "markdown",
   "metadata": {
    "id": "5KKY05xofTfQ"
   },
   "source": [
    "<img src=\"https://serverspace.ru/wp-content/uploads/2020/01/66_fhs.png\">"
   ]
  },
  {
   "cell_type": "markdown",
   "metadata": {
    "editable": true,
    "id": "gErDVUhdfTfQ",
    "slideshow": {
     "slide_type": ""
    },
    "tags": []
   },
   "source": [
    "# Командная строка        \n",
    "- консольные команды\n",
    "- файловая система (/ и root  ~ нет дисков C, D, ...)\n",
    "- работа с файлами в консоли\n",
    "- папка(директория)\n",
    "\n",
    "\n"
   ]
  },
  {
   "cell_type": "markdown",
   "metadata": {
    "id": "C4dqYtNjR4tI"
   },
   "source": [
    "Зачем уметь работать в консоли и знать команды:\n",
    "- доступ на сервера осуществляется в основном с помощью консоли\n",
    "- на серверах вам может понадобиться запускать разные приложения, изменять файлы конфигов программ, анализировать логи программ, осуществлять контроль ресурсов доступных на сервере, таких как процессор, память, диск, сеть, гпу"
   ]
  },
  {
   "cell_type": "markdown",
   "metadata": {
    "id": "C4dqYtNjR4tI"
   },
   "source": [
    "Зачем уметь работать в консоли и знать команды:\n",
    "- доступ на сервера осуществляется в основном с помощью консоли\n",
    "- на серверах вам может понадобиться запускать разные приложения, изменять файлы конфигов программ, анализировать логи программ, осуществлять контроль ресурсов доступных на сервере, таких как процессор, память, диск, сеть, гпу"
   ]
  },
  {
   "cell_type": "markdown",
   "metadata": {
    "id": "C4dqYtNjR4tI"
   },
   "source": [
    "Зачем уметь работать в консоли и знать команды:\n",
    "- доступ на сервера осуществляется в основном с помощью консоли\n",
    "- на серверах вам может понадобиться запускать разные приложения, изменять файлы конфигов программ, анализировать логи программ, осуществлять контроль ресурсов доступных на сервере, таких как процессор, память, диск, сеть, гпу"
   ]
  },
  {
   "cell_type": "markdown",
   "metadata": {
    "id": "EmklGX227V8C"
   },
   "source": [
    "Команды по группам"
   ]
  },
  {
   "cell_type": "markdown",
   "metadata": {
    "id": "TvNuzMwF7Zzs"
   },
   "source": [
    "Дерево каталогов и перемещение по дереву:  \n",
    "\n",
    "- ls  \n",
    "посмотреть содержимое текущей директории(папки)\n",
    "\n",
    "- ls -la  \n",
    "расширенный вывод\n",
    "\n",
    "- pwd  \n",
    "посмотреть текущий путь\n",
    "\n",
    "- cd /etc\n",
    "изменение рабочего каталога (перейти в папку /etc)\n",
    "\n",
    "- cd ..  \n",
    "поднять на директорию выше вверх по дереву\n",
    "\n",
    "- cd -  \n",
    "перейти в предыдущий рабочий каталог ( если вы были в /home, затем выполнили несколько команд и потом перешли в /usr/src, то введя команду cd /home вы веренетесь назад в каталог /home)\n",
    "\n",
    "- .  \n",
    "так обозначается текущий каталог\n",
    "\n",
    "- /  \n",
    "это корень деерева каталогов(аналог \"мой компьютер в виндоус\")\n",
    "\n",
    "- ~  \n",
    "обозначение домашнего каталога для вашего пользователя"
   ]
  },
  {
   "cell_type": "markdown",
   "metadata": {
    "id": "fvDWnrGw_N8M"
   },
   "source": [
    "<div style=\"background-color:pink;\">\n",
    "Задание:  \n",
    "\n",
    " - Выведите путь к каталогу в котором сейчас находитесь(он также называется рабочий каталог)\n",
    " - Выведите какие файлы в нем содержатся\n",
    " - Выведите содержимое корня\n",
    " - Перейдите в папку(директорию) /home\n",
    " - Выведите содержимое папки с информацией о размере файлов и дате их последней модификации\n",
    "</div>"
   ]
  },
  {
   "cell_type": "markdown",
   "metadata": {
    "id": "bM54CrZE9Z6x"
   },
   "source": [
    "Базовые команды по работе с файлами и директориями по их созданию, и размещению на файловой системе\n",
    "\n",
    "- `mkdir github`  \n",
    "для создания директории(папки) с именем github в текущем рабочем каталоге (обратите внимание что большие и маленькие буквы это разные символы и одноверемнно в одном месте могут быть 2 папки TeSt и test)\n",
    "\n",
    "- `touch empty.txt`  \n",
    "создать пустой empty.txt\n",
    "\n",
    "- `cp empty.txt copy_empty.txt`  \n",
    "скопировать empty.txt в файл с новым именем copy_empty.txt\n",
    "\n",
    "- `cp empty.txt github/copy_empty.txt`  \n",
    "скопировать empty.txt в файл в папке github с именем copy_empty.txt\n",
    "\n",
    "- `cp -r github test/last`  \n",
    "скопировать папку с ее содержимым в папку test с новым именем для копируемой папки last\n",
    "\n",
    "- `mv copy_empty.txt copy_2_empty.txt`  \n",
    "перемещение файлов, а если в рамках одной папки то это аналог переименованию\n",
    "\n",
    "- `mv copy_2_empty.txt new/copy_2_empty.txt`\n",
    "перемещение файла в папку new\n",
    "\n",
    "- `rm empty.txt`  \n",
    "удалить файл empty.txt\n",
    "\n",
    "- `rm -r github`\n",
    "удалить папку с всем содержимым\n",
    "\n",
    "- `rm -rf github`\n",
    "удалить папку с всем содержимым без подтверждений удаления каждого файла\n"
   ]
  },
  {
   "cell_type": "markdown",
   "metadata": {
    "id": "jhccXZpwBxKE"
   },
   "source": [
    "<div style=\"background-color:pink;\">\n",
    "Задание:\n",
    "    \n",
    "- создайте папку с именем home_work_1\n",
    "- создайте в папке home_work_1 файл с именем file_1\n",
    "- создайте в папке home_work_1 папку work_dir\n",
    "- скопируйте файл file_1 в папку work_dir чтобы в папке он появился с новым именем file_1_copy\n",
    "- скопируйте папку work_dir(находящуюся в папке home_work_1) с всем ее содержимым в папку work_dir_new (чтобы она появилась в папке home_work_1)\n",
    "- переименуйте фаил file_1_copy в file_1_new_name\n",
    "- удалите file_1_new_name\n",
    "- удалите папку work_dir_new\n",
    "</div>"
   ]
  },
  {
   "cell_type": "markdown",
   "metadata": {
    "id": "qwPMofYbfLJR"
   },
   "source": [
    "Полезные команды\n",
    "\n",
    "- `echo 'test 1 2 3'`  \n",
    "выводит на экран строку 'test 1 2 3' (текст выведется без ковычек)\n",
    "\n",
    "- `history` - показывает последние введенные команды (историю команд)\n",
    "- нажатие клавиш вверх вниз подставляет команды из истории команд\n",
    "- таб - нажатие кнопки Tab приводит к автоматическому завершению ввода команды, если такое возможно\n",
    "- history | grep \"mkdir\" выводит из истории ввода команд только строки, содержащие \"mkdir\"\n",
    "- ctrl + r\n",
    "- \tлево\n",
    "history  \n",
    "!1 - выводит команду №1 из списка history\n",
    "!n - выводит команду №n из списка history\n",
    "!1:p - показать команду №1 из списка history\n",
    "!n:p - показать команду №n из списка history\n"
   ]
  },
  {
   "cell_type": "markdown",
   "metadata": {
    "id": "K5kqrp0pUIEI"
   },
   "source": [
    "Консольные редакторы\n",
    "\n",
    "vi (или vim) - текстовые редакторы\n",
    "\n",
    "- `vi file1`  \n",
    "откроет файл file1 для того, чтобы внести в файл изменения, сейчас редактор находится в режиме ввода команд\n",
    "\n",
    "- для того, чтобы что добавить текст в файл, нужно перейти в режим \"вставки\", для этого нажать i, и можно вводить текст\n",
    "\n",
    "- после внесния измений надо сохранить изменения в файле и выйти из редактора, для этого нажмите esc (это позволит выйти из режима редактирования/\"вставки\" и войти в режим ввода команд), введите :, затем wq и нажмите \"Enter\"\n",
    "\n",
    "- если не хотите сохранять изменения нажмите esc, введите :, затем q! и \"Enter\"\n",
    " \n",
    "`nano`  \n",
    "- еще один редактор\n",
    "\n",
    "`mcedit`\n",
    "- редактор файлового менеджера mc\n",
    "mc - графический файловый менеджер, можно в нем редактировать файлы, просматривать каталоги, перемещать удалять файлы."
   ]
  },
  {
   "cell_type": "markdown",
   "metadata": {
    "id": "hbbSX6mBZTfA"
   },
   "source": [
    "<div style=\"background-color:pink;\">\n",
    "Задание:\n",
    "\n",
    "- создайте текстовый файл file1 и добавьте в этот файл 3 строки: \n",
    "<code>\n",
    "hello world  \n",
    "Hi  \n",
    "2000 + 11\n",
    "</code> \n",
    "- создайте текстовый файл file2 и добавьте в этот файл 4 строки: \n",
    "<code>\n",
    "::1 - - [20/Jan/2024:12:14:04 +0000] \"GET /empty.test HTTP/1.1\" 200 0 \"-\" \"curl/7.29.0\" \"-\" 0.000 \n",
    "::1 - - [20/Jan/2024:12:14:04 +0000] \"GET /1mb.test HTTP/1.1\" 200 1048576 \"-\" \"curl/7.29.0\" \"-\" 0.000 \n",
    "::1 - - [20/Jan/2024:12:14:07 +0000] \"GET /10mb.test HTTP/1.1\" 200 10485760 \"-\" \"curl/7.29.0\" \"-\" 2.063 \n",
    "::1 - - [20/Jan/2024:12:15:10 +0000] \"GET /100mb.test HTTP/1.1\" 200 104857600 \"-\" \"curl/7.29.0\" \"-\" 47.318\n",
    "</code> "
   ]
  },
  {
   "cell_type": "markdown",
   "metadata": {
    "id": "hbbSX6mBZTfA"
   },
   "source": [
    "<div style=\"background-color:pink;\">\n",
    "Задание:\n",
    "\n",
    "- создайте текстовый файл file1 и добавьте в этот файл 3 строки: \n",
    "<code>\n",
    "hello world  \n",
    "Hi  \n",
    "2000 + 11\n",
    "</code> \n",
    "- создайте текстовый файл file2 и добавьте в этот файл 4 строки: \n",
    "<code>\n",
    "::1 - - [20/Jan/2024:12:14:04 +0000] \"GET /empty.test HTTP/1.1\" 200 0 \"-\" \"curl/7.29.0\" \"-\" 0.000 \n",
    "::1 - - [20/Jan/2024:12:14:04 +0000] \"GET /1mb.test HTTP/1.1\" 200 1048576 \"-\" \"curl/7.29.0\" \"-\" 0.000 \n",
    "::1 - - [20/Jan/2024:12:14:07 +0000] \"GET /10mb.test HTTP/1.1\" 200 10485760 \"-\" \"curl/7.29.0\" \"-\" 2.063 \n",
    "::1 - - [20/Jan/2024:12:15:10 +0000] \"GET /100mb.test HTTP/1.1\" 200 104857600 \"-\" \"curl/7.29.0\" \"-\" 47.318\n",
    "</code> "
   ]
  },
  {
   "cell_type": "markdown",
   "metadata": {
    "id": "g6xSpqHaOgh0"
   },
   "source": [
    "Вывод содержимого файлов\n",
    "\n",
    "- cat file1  \n",
    "вывод содержимого файла file1 в консоль\n",
    "\n",
    "- head file1  \n",
    "вывод первых 10 строчек файла file1 в консоль\n",
    "\n",
    "- tail -n3 file2  \n",
    "вывод последних 3(можно указать любое число) строчек файла file2 в консоль\n",
    "\n",
    "- tail -f file1  \n",
    "Запускает процесс вывода последних строчек файла в консоль, если в этот момент любая другая программа что то запишет в файл, то содержимое файла выведется на экран(очень полезно для анализа логов) чтобы выйти из режима нажмите ctrl + c\n",
    "\n",
    "- less file1  \n",
    "выводит на экран файл не целиком а частями, можно использовать стрелки вверх и вниз чтобы перемещаться по файлу, или нажать пробел чтобы оторбазить следующую страницу, чтобы выйти из этого режима нажмите q"
   ]
  },
  {
   "cell_type": "markdown",
   "metadata": {
    "id": "-6OLM6kBqWUL"
   },
   "source": [
    "<div style=\"background-color:pink;\">\n",
    "Задание:\n",
    "\n",
    "- выведите на экран содержимое file1\n",
    "- выведите первые 2 строки file1\n",
    "- выведите последние 2 строки file1"
   ]
  },
  {
   "cell_type": "markdown",
   "metadata": {
    "id": "k_Uhr5Q9PUYq"
   },
   "source": [
    "Фильтрация и сортировка вывода содержимого файлов, поиск файлов\n",
    "\n",
    "- `find /home/ -name \"*d12*\"`  \n",
    ">искать все файлы в подпапках папки /home/ у которых в названии присутствует d12 ( * означает любые число любых символов )\n",
    "\n",
    "- `grep 'NOV' file1`  \n",
    ">выводить на экран строчки из файла file1, только те которые содержат подстроку NOV\n",
    "\n",
    "- `grep -rni 'NOV' home_work_1`  \n",
    ">вывести на экран все строчки, содержащие 'NOV' из всех файлов, которые содержатся в всех папках и подпапках папки home_work_1\n",
    "\n",
    "- `awk -F' ' '{print $1 ,$3}' home_work_1/test.txt`  \n",
    ">команда разобьет каждую строку файла home_work_1/test.txt по пробелам и выведет 1 и 3 элемент каждой строки  \n",
    "\n",
    "- `sort file1`  \n",
    ">сортирует все строчки файла file1 и выводит их на экран\n",
    "\n",
    "- `uniq -c file1`  \n",
    ">выводит на экран уникальные строчки из файла file1 с указанием числа повторяющихся строк, учитываются только соседние одинаковые строчки\n",
    "\n",
    "- `diff file1 file2`  \n",
    ">сравнивает два файла и выводит различие в файлах\n",
    "\n",
    "- `wc -l file1`  \n",
    ">выводит на экран число строк в файле file1"
   ]
  },
  {
   "cell_type": "markdown",
   "metadata": {
    "id": "6x47TMpar4jC"
   },
   "source": [
    "<div style=\"background-color:pink;\">\n",
    "Задание:\n",
    "    \n",
    "- найдите файлы, содержащие 'fil' в названии в папке /home\n",
    "- выведите только размеры файлов в вашей директории\n",
    "- найдите строки в файлах из вашей домашней директории, которые содержат подстроку GET"
   ]
  },
  {
   "cell_type": "markdown",
   "metadata": {
    "id": "DGQGKCkrRWg4"
   },
   "source": [
    "Пренаправление ввода вывода\n",
    "\n",
    "- `ls -la > save_ls_la`\n",
    "сохраняет вывод команды ls -la в фаил save_ls_la (все содердимое файла перезапишится данными вывода команды ls -la)\n",
    "\n",
    "- `ls -la >> save_ls_la`  \n",
    "в данном случае вывод комнады ls -la добавится в конец файла save_ls_la, и содержимое файла расширится новыми данными\n",
    "\n",
    "- `echo 'test 1 2 3' > save_echo`\n",
    "запишет в файл save_echo строку 'test 1 2 3'\n",
    "\n",
    "- `sort < save_ls_la`  \n",
    "подаст содержимое файла save_ls_la на вход команды sort, команда sort отсортирует полученные данные и выведет результат на экран"
   ]
  },
  {
   "cell_type": "markdown",
   "metadata": {
    "id": "N4HWA-0FtrBE"
   },
   "source": [
    "<div style=\"background-color:pink;\">\n",
    "Задание:\n",
    "    \n",
    "- сохраните в файл все части URI полученные на предыдущем шаге"
   ]
  },
  {
   "cell_type": "markdown",
   "metadata": {
    "id": "HQVbQCS_BxQo"
   },
   "source": [
    "Организация последовательности выполнения команд:\n",
    "\n",
    "- `;`  \n",
    "разделитель используется когда нужно выполнить все команды подряд, не смотря на то, успешно они выполнятся или нет.  \n",
    "pwd; ls -la; cd test  \n",
    "данная последовательность команд сначала выполнит команду pwd выведет на экран путь к рабочему каталогу, затем выполнит команду ls -la выведет на экран содержимое рабочего каталога, и уже потом будет выполнен переход в папку cd test\n",
    "\n",
    "- `&&`  \n",
    "если команды объеденены таким образом, то последующая команда выполнится только при условии что предыдущая выполнилась успешно\n",
    "\n",
    "- `||`  \n",
    "в данном случае следующая команда выподнится только если предыдущая команда завершилась ошибкой"
   ]
  },
  {
   "cell_type": "markdown",
   "metadata": {
    "id": "nrpmtK9yuXzI"
   },
   "source": [
    "<div style=\"background-color:pink;\">\n",
    "Задание:\n",
    "\n",
    "- выполните команды   \n",
    "`ls -la && rm test123 && pwd` \n",
    "и \n",
    "`ls -la; rm test123; pwd`  \n",
    "и объясните разницу в их работе"
   ]
  },
  {
   "cell_type": "markdown",
   "metadata": {
    "id": "ek_bxEnvdU6a"
   },
   "source": [
    "Перенаправление вывода команд, т.е. вывод одной команды направляем на вход другой команды\n",
    "\n",
    "- `|`  \n",
    "ls -la | grep Jan | sort  \n",
    "сначала выполнится команда ls -la и вместо того чтобы выводить на экран, её вывод будет перенаправлен на вход команды grep, в свою очередь команда grep возьмет поданные ей данные, выберет в них все строки содержащие Jan и отправит их на вход команде sort, и вот уже команда sort возьмет все строки с предыдущего шага, отсортирует их и выведет на экран  \n",
    "`ls -la | awk '{print $6}' | sort | uniq -c`\n"
   ]
  },
  {
   "cell_type": "markdown",
   "metadata": {
    "id": "qhsyJev2t6NW"
   },
   "source": [
    "<div style=\"background-color:pink;\">\n",
    "Задание:\n",
    "\n",
    "- найдите строки в файлах из домашней директории, которые содеражат подстроку GET, выведите только часть URI(/empty.test  - это то что находится между GET и HTTP) в найденых файлах и отсортируйте их по возрастанию\n",
    "- посчитай сколько получилось таких частей URI"
   ]
  },
  {
   "cell_type": "markdown",
   "metadata": {
    "id": "RGI015GHe1cf"
   },
   "source": [
    "Переменные окружения\n",
    "\n",
    "- env  \n",
    "выводит все переменные окружения\n",
    "\n",
    "- echo $PATH  \n",
    "выводит значение переменной PATH - в ней содержатся все пути по которым ищется команда, которую вы ввели в консоли, если в данных папках нет указанной команды то выдается ошибка\n",
    "\n",
    "- echo $<имя переменной окружения> - выводит значение заданной переменной окружения"
   ]
  },
  {
   "cell_type": "markdown",
   "metadata": {
    "id": "7V_0Xrl-uyOi"
   },
   "source": [
    "<div style=\"background-color:pink;\">\n",
    "Задание:\n",
    "\n",
    "- выведите все параметры переменных окружения, которые содержат символ А"
   ]
  },
  {
   "cell_type": "markdown",
   "metadata": {
    "id": "QCfEfYRvhCdf"
   },
   "source": [
    "Разные команды:\n",
    "\n",
    "- `clear` \n",
    "очистить экран\n",
    "\n",
    "- `man ls` \n",
    "показывает документацию по команде ls (можно передать любую другую)\n",
    "\n",
    "- `#` \n",
    "любой текст в строке, стоящий после решетки, считается комментарием и не учитывается при выполнении команды\n",
    "\n"
   ]
  },
  {
   "cell_type": "markdown",
   "metadata": {
    "id": "6pKxlNlPL6A8"
   },
   "source": [
    "Получение страниц с веб ресурсов\n",
    "\n",
    "- curl https://finance.rambler.ru/currencies/USD/ -o test.html  \n",
    "данной командой получаем содержимое страницы https://finance.rambler.ru/currencies/USD/ и сохраняем ее в фаил\n",
    "\n",
    "- wget https://finance.rambler.ru/currencies/USD/    "
   ]
  },
  {
   "cell_type": "markdown",
   "metadata": {
    "id": "Iqbl5vtOu5yM"
   },
   "source": [
    "<div style=\"background-color:pink;\">\n",
    "Задание:\n",
    "\n",
    "- получить информацию по текущему курсу долларов и евро относительно рубля с сайта https://finance.rambler.ru/currencies/ и вывести ее на экран\n",
    "\n",
    "- получить самую последнюю дату изменения файла в вашей домашней директории"
   ]
  },
  {
   "cell_type": "markdown",
   "metadata": {
    "id": "Fo3i-oDnL6Dh"
   },
   "source": [
    "Доступ на удаленный сервер\n",
    "\n",
    "- ssh user@test.ru\n",
    "\n",
    "- scp temp user@test.ru:temp  \n",
    "копирует локальный файл на удаленный сервер"
   ]
  },
  {
   "cell_type": "code",
   "execution_count": 1,
   "metadata": {},
   "outputs": [
    {
     "ename": "NameError",
     "evalue": "name 'STOP' is not defined",
     "output_type": "error",
     "traceback": [
      "\u001b[0;31m---------------------------------------------------------------------------\u001b[0m",
      "\u001b[0;31mNameError\u001b[0m                                 Traceback (most recent call last)",
      "Cell \u001b[0;32mIn[1], line 1\u001b[0m\n\u001b[0;32m----> 1\u001b[0m \u001b[43mSTOP\u001b[49m\n",
      "\u001b[0;31mNameError\u001b[0m: name 'STOP' is not defined"
     ]
    }
   ],
   "source": [
    "STOP"
   ]
  },
  {
   "cell_type": "markdown",
   "metadata": {
    "id": "eLZaOrX9L6HG"
   },
   "source": [
    "Создание и распаковка архивов\n",
    "\n",
    "- tar -cvf archive.tar file1  \n",
    "\n",
    "- tar -xvf archive.tar  \n",
    "\n",
    "\n",
    "- gzip file1\tсжимает файл 'file1'  \n",
    "- gunzip file1.gz\tразжимает файл 'file1.gz'  "
   ]
  },
  {
   "cell_type": "markdown",
   "metadata": {
    "id": "gD5UB8fbm_fO"
   },
   "source": [
    "Информация о системе\n",
    "\n",
    "- free -mt\n",
    "- df -h\n",
    "- du -h -s /*\n",
    "- du -h -s /*/  "
   ]
  },
  {
   "cell_type": "markdown",
   "metadata": {
    "id": "ocpQuATxL6NS"
   },
   "source": [
    "Работа с процессами\n",
    "\n",
    "- ps -Af | grep 1234\n",
    "- ps -axuww\n",
    "- top  \n",
    "h\tlоad average\n",
    "z\t1/5/15 minut  \n",
    "shit + v\tколичество работающих процессов и количество процессов, находящихся в воемени  \n",
    "\n",
    "- htop  \n",
    " ctrl + c\n",
    "\n",
    "- kill  \n",
    "- kill -9  \n",
    "- killall -s 9  \n",
    "название процесса"
   ]
  },
  {
   "cell_type": "markdown",
   "metadata": {
    "id": "dtyfIyWjL6QW"
   },
   "source": [
    "Информация о системы\n",
    "\n",
    "- uname -r  \n",
    "- who  \n",
    "- w  \n",
    "- whoami  \n",
    "- uptime   \n",
    "- uptime  -p  \n",
    "- uptime -s  "
   ]
  },
  {
   "cell_type": "markdown",
   "metadata": {
    "id": "2P4g3hNnntw_"
   },
   "source": [
    "Сеть\n",
    "\n",
    "ip\n",
    "\tifconfig\n",
    "ip a\n",
    "\n",
    "netstat -nlp\n",
    "\tоткрытые порты\n"
   ]
  },
  {
   "cell_type": "markdown",
   "metadata": {
    "id": "ul1v2LuPn9MP"
   },
   "source": [
    "sudo\n",
    "\n",
    "- sudo apt install mc\n",
    "установка mc\n",
    "\n"
   ]
  },
  {
   "cell_type": "markdown",
   "metadata": {
    "id": "PREEpuJro79S"
   },
   "source": [
    "работа с правами\n",
    "\n",
    "- chmode\n",
    "- chown"
   ]
  },
  {
   "cell_type": "markdown",
   "metadata": {
    "id": "RB163DCZpJ6m"
   },
   "source": [
    "- sed  \n",
    "заменят одну подстроку другой  \n",
    "sed 's/ello/ii/' file1"
   ]
  },
  {
   "cell_type": "markdown",
   "metadata": {
    "id": "ZzPZPn7ZpU3W"
   },
   "source": [
    "- cron\n",
    "запуск фоновых задач"
   ]
  },
  {
   "cell_type": "markdown",
   "metadata": {
    "id": "lZUnVv9dfTfR"
   },
   "source": [
    "# Добавить популярные консольные команды"
   ]
  },
  {
   "cell_type": "markdown",
   "metadata": {
    "id": "YhEUl-n-fTfR"
   },
   "source": [
    "### Если используете команды консоли в юпитер ноутбуке то в почти всегда ставьте !  перед командой. Сейчас для вас есть только одно исключение когда хотите сменить текущюу папку (cd)."
   ]
  },
  {
   "cell_type": "markdown",
   "metadata": {
    "id": "1kc3-6ktfTfR"
   },
   "source": [
    "Примеры работы команд"
   ]
  },
  {
   "cell_type": "code",
   "execution_count": 1,
   "metadata": {
    "id": "_eLe8Co0fTfR",
    "outputId": "aa987a0a-cac0-44b0-ac97-a511bbb48a2e",
    "scrolled": true
   },
   "outputs": [
    {
     "name": "stdout",
     "output_type": "stream",
     "text": [
      "/home/jovyan\n"
     ]
    }
   ],
   "source": [
    "cd ~"
   ]
  },
  {
   "cell_type": "code",
   "execution_count": 2,
   "metadata": {
    "id": "hqi69GtzfTfR",
    "outputId": "497b41e7-a326-431e-9daf-5c8964a021c1"
   },
   "outputs": [
    {
     "name": "stdout",
     "output_type": "stream",
     "text": [
      " 1\t\t avlotsmanov\t LECTURE2\t    t\n",
      " 11\t\t cur_uds\t mari_grisha\t    test2001\n",
      " 20102024\t cur_usd\t MI\t\t    test.file\n",
      " aabogachev\t dptimofeev\t mvandreeva\t    test.html\n",
      " AArisova\t eanabatov\t nsMashin\t   'Untitled Folder'\n",
      " AAVolodin\t eavolkov\t oekorchevaya\t   'Untitled Folder 1'\n",
      " ADKazdym\t empty\t\t papka\t\t   'Untitled Folder 2'\n",
      " aemareev\t file_1\t\t ReginaMarfenkova  'Untitled Folder 3'\n",
      " agvolodina\t group_1_hw\t rnyunusov\t    Untitled.ipynb\n",
      " AMAbdyukhanov\t home_work_1\t rstarasov\t    untitled.jl\n",
      " amtsurkov\t HW1\t\t ryusupov\t    untitled.py\n",
      " andivanchenko\t irsalieva\t saivanov\t    vpetrov\n",
      " Anton_Kuvalda\t jatashpulatov\t samaltsev\t    vvbykov\n",
      " aomargolina\t kaanikin\t scherbakovata\t    work\n"
     ]
    }
   ],
   "source": [
    "!ls"
   ]
  },
  {
   "cell_type": "code",
   "execution_count": 3,
   "metadata": {
    "id": "qlLIMg2qfTfR",
    "outputId": "4be180e4-ff8b-4f53-fac0-dc6d8d571f8a"
   },
   "outputs": [
    {
     "name": "stdout",
     "output_type": "stream",
     "text": [
      "total 4408\n",
      "drwsrws---  1 jovyan users    4096 Jan 23 21:43  .\n",
      "drwxr-xr-x  1 root   root     4096 Oct 20 01:46  ..\n",
      "-rw-r--r--  1 jovyan users     317 Jan 20 08:32  1\n",
      "-rw-r--r--  1 jovyan users      30 Jan 21 16:41  11\n",
      "-rw-r--r--  1 jovyan users       0 Jan 20 08:05  20102024\n",
      "drwxr-sr-x  5 jovyan users    4096 Jan 23 18:31  aabogachev\n",
      "drwxr-sr-x  4 jovyan users    4096 Jan 23 12:08  AArisova\n",
      "drwxr-sr-x  5 jovyan users    4096 Jan 23 16:23  AAVolodin\n",
      "drwxr-sr-x  5 jovyan users    4096 Jan 23 20:39  ADKazdym\n",
      "drwxr-sr-x  4 jovyan users    4096 Jan 22 16:31  aemareev\n",
      "drwxr-sr-x  4 jovyan users    4096 Jan 21 10:04  agvolodina\n",
      "drwxr-sr-x  2 jovyan users    4096 Jan 20 07:50  AMAbdyukhanov\n",
      "drwxr-sr-x 14 jovyan users    4096 Jan 22 11:35  amtsurkov\n",
      "drwxr-sr-x  5 jovyan users    4096 Jan 23 21:15  andivanchenko\n",
      "drwxr-sr-x  4 jovyan users    4096 Jan 20 14:44  Anton_Kuvalda\n",
      "drwxr-sr-x  5 jovyan users    4096 Jan 22 17:49  aomargolina\n",
      "drwxr-sr-x  7 jovyan users    4096 Jan 23 22:48  avlotsmanov\n",
      "-rw-r--r--  1 jovyan users   18644 Jan 23 15:42  .bash_git\n",
      "-rw-rw-r--  1 jovyan users     220 Jan  6  2022  .bash_logout\n",
      "-rw-rw-r--  1 jovyan users    4065 Jan 23 18:56  .bashrc\n",
      "drwsrwsr-x  1 jovyan users    4096 Jan 22 14:16  .cache\n",
      "drwsrwsr-x  1 jovyan users    4096 Oct 20 01:50  .conda\n",
      "drwsrwsr-x  1 jovyan users    4096 Jan 20 06:24  .config\n",
      "-rw-r--r--  1 jovyan users 1398421 Jan 20 08:19  cur_uds\n",
      "-rw-r--r--  1 jovyan users 1398421 Jan 20 08:28  cur_usd\n",
      "drwxr-sr-x  5 jovyan users    4096 Jan 23 12:22  dptimofeev\n",
      "drwxr-sr-x  3 jovyan users    4096 Jan 20 07:50  eanabatov\n",
      "drwxr-sr-x  2 jovyan users    4096 Jan 20 07:58  eavolkov\n",
      "-rw-r--r--  1 jovyan users       0 Jan 23 18:50  empty\n",
      "drwxr-sr-x  2 jovyan users    4096 Jan 23 21:43  file_1\n",
      "-rw-r--r--  1 jovyan users   18644 Jan 23 18:55  .git-prompt.sh\n",
      "drwxr-sr-x  8 jovyan users    4096 Jan 23 18:13  group_1_hw\n",
      "drwxr-sr-x  2 jovyan users    4096 Jan 23 21:43  home_work_1\n",
      "drwxr-sr-x  3 jovyan users    4096 Jan 23 23:43  HW1\n",
      "drwxr-sr-x  2 jovyan users    4096 Jan 23 20:49  .ipynb_checkpoints\n",
      "drwxr-sr-x  3 jovyan users    4096 Jan 20 06:30  .ipython\n",
      "drwxr-sr-x  4 jovyan users    4096 Jan 20 07:50  irsalieva\n",
      "drwxr-sr-x  5 jovyan users    4096 Jan 22 11:11  jatashpulatov\n",
      "drwsrws---  1 jovyan users    4096 Jan 20 07:04  .jupyter\n",
      "drwxr-sr-x  4 jovyan users    4096 Jan 20 10:41  kaanikin\n",
      "drwxr-sr-x  3 jovyan users    4096 Jan 23 22:48  LECTURE2\n",
      "-rw-------  1 jovyan users      65 Jan 22 19:20  .lesshst\n",
      "drwxr-sr-x  3 jovyan users    4096 Jan 20 06:22  .local\n",
      "drwxr-sr-x  4 jovyan users    4096 Jan 22 15:09  mari_grisha\n",
      "drwxr-sr-x  2 jovyan users    4096 Jan 22 11:41  MI\n",
      "drwxr-sr-x  4 jovyan users    4096 Jan 21 09:23  mvandreeva\n",
      "-rw-r--r--  1 jovyan users      90 Jan 23 15:33  .nanorc\n",
      "drwsrwsr-x  1 jovyan users    4096 Oct 20 01:50  .npm\n",
      "drwxr-sr-x  3 jovyan users    4096 Jan 23 15:07  nsMashin\n",
      "drwxr-sr-x  4 jovyan users    4096 Jan 20 18:16  oekorchevaya\n",
      "drwxr-sr-x  2 jovyan users    4096 Jan 23 18:50  papka\n",
      "-rw-rw-r--  1 jovyan users     807 Jan  6  2022  .profile\n",
      "drwxr-sr-x  5 jovyan users    4096 Jan 23 17:35  ReginaMarfenkova\n",
      "drwxr-sr-x  3 jovyan users    4096 Jan 20 16:33  rnyunusov\n",
      "drwxr-sr-x  5 jovyan users    4096 Jan 23 21:05  rstarasov\n",
      "drwxr-sr-x  3 jovyan users    4096 Jan 22 14:01  ryusupov\n",
      "drwxr-sr-x  3 jovyan users    4096 Jan 23 15:26  saivanov\n",
      "drwxr-sr-x  4 jovyan users    4096 Jan 21 21:30  samaltsev\n",
      "drwxr-sr-x  4 jovyan users    4096 Jan 23 21:56  scherbakovata\n",
      "drwx--S---  2 jovyan users    4096 Jan 20 12:29  .ssh\n",
      "-rw-r--r--  1 jovyan users       0 Jan 20 07:13  t\n",
      "-rw-r--r--  1 jovyan users       0 Jan 20 08:38  test2001\n",
      "-rw-r--r--  1 jovyan users       0 Jan 20 07:15  test.file\n",
      "-rw-r--r--  1 jovyan users 1398421 Jan 20 08:32  test.html\n",
      "drwxr-sr-x  3 jovyan users    4096 Jan 20 10:33 'Untitled Folder'\n",
      "drwxr-sr-x  2 jovyan users    4096 Jan 20 07:51 'Untitled Folder 1'\n",
      "drwxr-sr-x  2 jovyan users    4096 Jan 20 08:35 'Untitled Folder 2'\n",
      "drwxr-sr-x  2 jovyan users    4096 Jan 23 20:42 'Untitled Folder 3'\n",
      "-rw-r--r--  1 jovyan users      72 Jan 20 09:05  Untitled.ipynb\n",
      "-rw-r--r--  1 jovyan users       0 Jan 23 20:49  untitled.jl\n",
      "-rw-r--r--  1 jovyan users       0 Jan 20 09:14  untitled.py\n",
      "drwxr-sr-x  6 jovyan users    4096 Jan 22 19:22  vpetrov\n",
      "drwxr-sr-x  5 jovyan users    4096 Jan 23 20:25  vvbykov\n",
      "-rw-rw-r--  1 jovyan users     171 Oct 20 01:46  .wget-hsts\n",
      "drwsrwsr-x  2 jovyan users    4096 Oct 20 01:46  work\n"
     ]
    }
   ],
   "source": [
    "!ls -la"
   ]
  },
  {
   "cell_type": "code",
   "execution_count": 4,
   "metadata": {
    "id": "HHDYXGTLfTfS"
   },
   "outputs": [],
   "source": [
    "!mkdir test_for_delete_1"
   ]
  },
  {
   "cell_type": "code",
   "execution_count": 5,
   "metadata": {
    "id": "bt4hdeVOfTfS",
    "outputId": "8e8016a5-3fc6-4c1e-ce42-df81254a522e"
   },
   "outputs": [
    {
     "name": "stdout",
     "output_type": "stream",
     "text": [
      "/home/jovyan\n"
     ]
    }
   ],
   "source": [
    "!pwd"
   ]
  },
  {
   "cell_type": "code",
   "execution_count": 6,
   "metadata": {
    "id": "xa26O4wyfTfS"
   },
   "outputs": [],
   "source": [
    "!cd test_for_delete_1"
   ]
  },
  {
   "cell_type": "code",
   "execution_count": 7,
   "metadata": {
    "id": "o-5akrFGfTfS",
    "outputId": "f282a49d-186e-4f7f-cecc-24c4e584f1af"
   },
   "outputs": [
    {
     "name": "stdout",
     "output_type": "stream",
     "text": [
      "/home/jovyan\n"
     ]
    }
   ],
   "source": [
    "!pwd"
   ]
  },
  {
   "cell_type": "code",
   "execution_count": 8,
   "metadata": {
    "id": "7ZUfOhY0fTfS"
   },
   "outputs": [],
   "source": [
    "#но если убрать !"
   ]
  },
  {
   "cell_type": "code",
   "execution_count": 9,
   "metadata": {
    "id": "1QMyFdtdfTfS",
    "outputId": "6b79ad4d-59c3-4b68-a182-0082ddb58803"
   },
   "outputs": [
    {
     "name": "stdout",
     "output_type": "stream",
     "text": [
      "/home/jovyan/test_for_delete_1\n"
     ]
    }
   ],
   "source": [
    "cd test_for_delete_1"
   ]
  },
  {
   "cell_type": "code",
   "execution_count": 10,
   "metadata": {
    "id": "UpsbKGFDfTfT",
    "outputId": "e7ff86ea-bdb6-4591-f708-bd30dbdbd5ae"
   },
   "outputs": [
    {
     "name": "stdout",
     "output_type": "stream",
     "text": [
      "/home/jovyan/test_for_delete_1\n"
     ]
    }
   ],
   "source": [
    "!pwd"
   ]
  },
  {
   "cell_type": "code",
   "execution_count": 11,
   "metadata": {
    "id": "-PstFW4mfTfT",
    "outputId": "9ddad05e-90b0-4373-db30-06d2a4cc045e"
   },
   "outputs": [
    {
     "name": "stdout",
     "output_type": "stream",
     "text": [
      "cat: /home/jovyan/github/team22/README.md: No such file or directory\n"
     ]
    }
   ],
   "source": [
    "!cat ~/github/team22/README.md"
   ]
  },
  {
   "cell_type": "code",
   "execution_count": 12,
   "metadata": {
    "id": "Q4AK23lAfTfT"
   },
   "outputs": [],
   "source": [
    "!touch empty.txt"
   ]
  },
  {
   "cell_type": "code",
   "execution_count": 13,
   "metadata": {
    "id": "tl_glrHffTfT",
    "outputId": "64270f86-d3e6-4e63-c92c-e65c48fec9df"
   },
   "outputs": [
    {
     "name": "stdout",
     "output_type": "stream",
     "text": [
      "empty.txt\n"
     ]
    }
   ],
   "source": [
    "!ls"
   ]
  },
  {
   "cell_type": "code",
   "execution_count": 14,
   "metadata": {
    "id": "wq3PxsyFfTfT"
   },
   "outputs": [],
   "source": [
    "!cp empty.txt copy_empty.txt"
   ]
  },
  {
   "cell_type": "code",
   "execution_count": 15,
   "metadata": {
    "id": "tBf8qzNLfTfT",
    "outputId": "b7fdd1dd-3430-4595-a6a3-482b77d91606"
   },
   "outputs": [
    {
     "name": "stdout",
     "output_type": "stream",
     "text": [
      "copy_empty.txt\tempty.txt\n"
     ]
    }
   ],
   "source": [
    "!ls"
   ]
  },
  {
   "cell_type": "code",
   "execution_count": 16,
   "metadata": {
    "id": "AO3hTd4ZfTfT"
   },
   "outputs": [],
   "source": [
    "!rm empty.txt"
   ]
  },
  {
   "cell_type": "code",
   "execution_count": 17,
   "metadata": {
    "id": "roe_8rE5fTfU",
    "outputId": "292a334c-2b44-40e1-d858-6c74d9eea34d"
   },
   "outputs": [
    {
     "name": "stdout",
     "output_type": "stream",
     "text": [
      "copy_empty.txt\n"
     ]
    }
   ],
   "source": [
    "!ls"
   ]
  },
  {
   "cell_type": "code",
   "execution_count": 18,
   "metadata": {
    "id": "_uQC_CaqfTfU"
   },
   "outputs": [],
   "source": [
    "!mv copy_empty.txt copy_2_empty.txt"
   ]
  },
  {
   "cell_type": "code",
   "execution_count": 19,
   "metadata": {
    "id": "SDCJTrJwfTfU"
   },
   "outputs": [],
   "source": [
    "!mkdir new"
   ]
  },
  {
   "cell_type": "markdown",
   "metadata": {
    "id": "ehgKeRlbfTfU"
   },
   "source": [
    "!mv copy_2_empty.txt new/copy_2_empty.txt"
   ]
  },
  {
   "cell_type": "code",
   "execution_count": 20,
   "metadata": {
    "id": "3iez_JazfTfU",
    "outputId": "34d0bba0-5eb5-48da-95b0-0b061da458ba"
   },
   "outputs": [
    {
     "name": "stdout",
     "output_type": "stream",
     "text": [
      "copy_2_empty.txt  new\n"
     ]
    }
   ],
   "source": [
    "!ls"
   ]
  },
  {
   "cell_type": "code",
   "execution_count": 21,
   "metadata": {
    "id": "_7jwGALcfTfU",
    "outputId": "2be961fb-1a90-4dff-9e14-25bd4de0b852"
   },
   "outputs": [],
   "source": [
    "!ls new/"
   ]
  },
  {
   "cell_type": "code",
   "execution_count": null,
   "metadata": {},
   "outputs": [],
   "source": []
  }
 ],
 "metadata": {
  "colab": {
   "provenance": []
  },
  "kernelspec": {
   "display_name": "Python 3 (ipykernel)",
   "language": "python",
   "name": "python3"
  },
  "language_info": {
   "codemirror_mode": {
    "name": "ipython",
    "version": 3
   },
   "file_extension": ".py",
   "mimetype": "text/x-python",
   "name": "python",
   "nbconvert_exporter": "python",
   "pygments_lexer": "ipython3",
   "version": "3.10.10"
  }
 },
 "nbformat": 4,
 "nbformat_minor": 4
}
