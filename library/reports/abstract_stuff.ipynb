{
 "cells": [
  {
   "cell_type": "code",
   "execution_count": 1,
   "id": "61e2e735",
   "metadata": {},
   "outputs": [],
   "source": [
    "#работа с абстрактными классами\n",
    "from abc import ABCMeta, abstractmethod "
   ]
  },
  {
   "cell_type": "code",
   "execution_count": 2,
   "id": "39b2d0dc",
   "metadata": {},
   "outputs": [],
   "source": [
    "# описание класса \"птица\"\n",
    "# что мы можем получить от \"птицы\"? Название и размер крыльев, например. \n",
    "# Ещё наверное она может ходить\n",
    "class Bird(metaclass=ABCMeta):\n",
    "    #название\n",
    "    @abstractmethod\n",
    "    def name(self):\n",
    "        pass\n",
    "    #размах крыльев\n",
    "    @abstractmethod\n",
    "    def wingspan(self):\n",
    "        pass\n",
    "    #идти\n",
    "    @abstractmethod\n",
    "    def walk(self):\n",
    "        pass\n",
    "    pass\n"
   ]
  },
  {
   "cell_type": "code",
   "execution_count": 3,
   "id": "5ef41bcf",
   "metadata": {},
   "outputs": [],
   "source": [
    "# описание \"летающая птица\"\n",
    "# она умеет (внимание!) летать\n",
    "class FlyingBird(Bird):\n",
    "    #лететь\n",
    "    @abstractmethod\n",
    "    def fly(self, direction):\n",
    "        pass"
   ]
  },
  {
   "cell_type": "code",
   "execution_count": 4,
   "id": "b3d1734f",
   "metadata": {},
   "outputs": [],
   "source": [
    "# класс не летающие водоплавающие птицы\n",
    "#умеют плавать\n",
    "class NonFlyingWaterfowl(Bird):\n",
    "    #плыть\n",
    "    @abstractmethod\n",
    "    def swim(self, where):\n",
    "        pass\n",
    "    pass"
   ]
  },
  {
   "cell_type": "code",
   "execution_count": 5,
   "id": "280cebfb",
   "metadata": {},
   "outputs": [],
   "source": [
    "# класс водоплавающие и летающие птицы\n",
    "#умеют плавать и летать\n",
    "class FlyingAndWaterfowl(FlyingBird):\n",
    "    #плыть\n",
    "    @abstractmethod\n",
    "    def swim(self, where):\n",
    "        pass\n",
    "    pass"
   ]
  },
  {
   "cell_type": "code",
   "execution_count": 6,
   "id": "f6851990",
   "metadata": {},
   "outputs": [],
   "source": [
    "#Класс \"утка\"\n",
    "class Duck(FlyingAndWaterfowl):\n",
    "    pass"
   ]
  },
  {
   "cell_type": "code",
   "execution_count": 7,
   "id": "18375d2b",
   "metadata": {},
   "outputs": [],
   "source": [
    "#Класс \"страус\"\n",
    "class Ostrich(Bird):\n",
    "    pass"
   ]
  },
  {
   "cell_type": "code",
   "execution_count": 8,
   "id": "d25097da",
   "metadata": {},
   "outputs": [],
   "source": [
    "#Класс \"снегирь\"\n",
    "class Bullfinch(FlyingBird):\n",
    "    pass"
   ]
  },
  {
   "cell_type": "code",
   "execution_count": 9,
   "id": "2fe2a182",
   "metadata": {},
   "outputs": [],
   "source": [
    "#Класс \"пингвин\"\n",
    "class Penguin(NonFlyingWaterfowl):\n",
    "    pass"
   ]
  },
  {
   "cell_type": "code",
   "execution_count": 11,
   "id": "c4950123",
   "metadata": {},
   "outputs": [
    {
     "ename": "TypeError",
     "evalue": "Can't instantiate abstract class Duck with abstract methods fly, name, swim, walk, wingspan",
     "output_type": "error",
     "traceback": [
      "\u001b[0;31m---------------------------------------------------------------------------\u001b[0m",
      "\u001b[0;31mTypeError\u001b[0m                                 Traceback (most recent call last)",
      "Cell \u001b[0;32mIn [11], line 1\u001b[0m\n\u001b[0;32m----> 1\u001b[0m flock_of_birds \u001b[38;5;241m=\u001b[39m [\u001b[43mDuck\u001b[49m\u001b[43m(\u001b[49m\u001b[43m)\u001b[49m, Ostrich(), Bullfinch(), Penguin() ]\n",
      "\u001b[0;31mTypeError\u001b[0m: Can't instantiate abstract class Duck with abstract methods fly, name, swim, walk, wingspan"
     ]
    }
   ],
   "source": [
    "flock_of_birds = [Duck(), Ostrich(), Bullfinch(), Penguin() ]"
   ]
  },
  {
   "cell_type": "code",
   "execution_count": null,
   "id": "c12d0d36",
   "metadata": {},
   "outputs": [],
   "source": []
  }
 ],
 "metadata": {
  "kernelspec": {
   "display_name": "Python 3 (ipykernel)",
   "language": "python",
   "name": "python3"
  },
  "language_info": {
   "codemirror_mode": {
    "name": "ipython",
    "version": 3
   },
   "file_extension": ".py",
   "mimetype": "text/x-python",
   "name": "python",
   "nbconvert_exporter": "python",
   "pygments_lexer": "ipython3",
   "version": "3.9.7"
  }
 },
 "nbformat": 4,
 "nbformat_minor": 5
}
