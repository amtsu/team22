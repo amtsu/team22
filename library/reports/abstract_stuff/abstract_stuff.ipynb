{
 "cells": [
  {
   "cell_type": "code",
   "execution_count": 1,
   "id": "61e2e735",
   "metadata": {},
   "outputs": [],
   "source": [
    "#работа с абстрактными классами\n",
    "from abc import ABCMeta, abstractmethod \n",
    "# абстракции\n",
    "#http://www.python.org/dev/peps/pep-3119/\n",
    "#https://habr.com/ru/post/72757/\n",
    "# утиная типизация\n",
    "#https://ru.wikipedia.org/wiki/%D0%A3%D1%82%D0%B8%D0%BD%D0%B0%D1%8F_%D1%82%D0%B8%D0%BF%D0%B8%D0%B7%D0%B0%D1%86%D0%B8%D1%8F"
   ]
  },
  {
   "cell_type": "code",
   "execution_count": 2,
   "id": "39b2d0dc",
   "metadata": {},
   "outputs": [],
   "source": [
    "# описание класса \"птица\"\n",
    "# что мы можем получить от \"птицы\"? Название и размер крыльев, например. \n",
    "# Ещё наверное она может ходить\n",
    "class Bird(metaclass=ABCMeta):\n",
    "    def __init__(self):\n",
    "        print('i am a bird!')\n",
    "        return None\n",
    "    #название\n",
    "    @abstractmethod\n",
    "    def name(self):\n",
    "        pass\n",
    "    #размах крыльев\n",
    "    @abstractmethod\n",
    "    def wingspan(self):\n",
    "        pass\n",
    "    #идти\n",
    "    #@abstractmethod\n",
    "    #def walk(self, direction):\n",
    "    #    pass\n",
    "    pass\n"
   ]
  },
  {
   "cell_type": "markdown",
   "id": "bf7f23ab",
   "metadata": {},
   "source": [
    "Implementation: The @abstractmethod decorator sets the function attribute __isabstractmethod__ to the value True. The ABCMeta.__new__ method computes the type attribute __abstractmethods__ as the set of all method names that have an __isabstractmethod__ attribute whose value is true. It does this by combining the __abstractmethods__ attributes of the base classes, adding the names of all methods in the new class dict that have a true __isabstractmethod__ attribute, and removing the names of all methods in the new class dict that don’t have a true __isabstractmethod__ attribute. If the resulting __abstractmethods__ set is non-empty, the class is considered abstract, and attempts to instantiate it will raise TypeError. (If this were implemented in CPython, an internal flag Py_TPFLAGS_ABSTRACT could be used to speed up this check [6].)"
   ]
  },
  {
   "cell_type": "code",
   "execution_count": 3,
   "id": "5ef41bcf",
   "metadata": {},
   "outputs": [],
   "source": [
    "# описание \"летающая птица\"\n",
    "# она умеет (внимание!) летать\n",
    "class FlyingBird(Bird):\n",
    "    def __init__(self):\n",
    "        print('a flying bird!')\n",
    "        return None\n",
    "    #лететь\n",
    "    @abstractmethod\n",
    "    def fly(self, direction: str):\n",
    "        pass"
   ]
  },
  {
   "cell_type": "code",
   "execution_count": 4,
   "id": "b3d1734f",
   "metadata": {},
   "outputs": [],
   "source": [
    "# класс не летающие водоплавающие птицы\n",
    "#умеют плавать\n",
    "class NonFlyingWaterfowl(Bird):\n",
    "    def __init__(self):\n",
    "        print('can swim but can not fly')\n",
    "        return None\n",
    "    #плыть\n",
    "    @abstractmethod\n",
    "    def swim(self, underwater:bool):\n",
    "        pass\n",
    "    pass"
   ]
  },
  {
   "cell_type": "code",
   "execution_count": 5,
   "id": "280cebfb",
   "metadata": {},
   "outputs": [],
   "source": [
    "# класс водоплавающие и летающие птицы\n",
    "#умеют плавать и летать\n",
    "class FlyingAndWaterfowl(FlyingBird):\n",
    "    def __init__(self):\n",
    "        print('can fly and also can swim!')\n",
    "        return None\n",
    "    #плыть\n",
    "    @abstractmethod\n",
    "    def swim(self, where):\n",
    "        pass\n",
    "    pass"
   ]
  },
  {
   "cell_type": "code",
   "execution_count": 6,
   "id": "f6851990",
   "metadata": {},
   "outputs": [],
   "source": [
    "#Класс \"утка\"\n",
    "class Duck(FlyingAndWaterfowl):\n",
    "    def __init__(self, name:str, wingspan:int):\n",
    "        self.__name = name\n",
    "        self.__wingspan = wingspan\n",
    "        return None\n",
    "   # def fly(self):\n",
    "   #     print('%s: i`m flying!' % self.__name)\n",
    "   #     return None\n",
    "   # def fly(self, direction):\n",
    "   #     print('%s: i`m flying to %s!' % (self.__name, self.__direction))\n",
    "   #     return None\n",
    "   # def name(self):\n",
    "   #     return self.__name\n",
    "   # def swim(self):\n",
    "   #     print('%s: i`m swimming!' % self.__name)\n",
    "   # def walk(self):\n",
    "   #     print('%s: i`m walking!' % self.__name)\n",
    "   #     return None\n",
    "   # def wingspan(self):\n",
    "    #    return self.__wingspan\n",
    "    \n",
    "    pass "
   ]
  },
  {
   "cell_type": "code",
   "execution_count": 7,
   "id": "18375d2b",
   "metadata": {},
   "outputs": [],
   "source": [
    "#Класс \"страус\"\n",
    "class Ostrich(Bird):\n",
    "    pass"
   ]
  },
  {
   "cell_type": "code",
   "execution_count": 8,
   "id": "d25097da",
   "metadata": {},
   "outputs": [],
   "source": [
    "#Класс \"снегирь\"\n",
    "class Bullfinch(FlyingBird):\n",
    "    pass"
   ]
  },
  {
   "cell_type": "code",
   "execution_count": 9,
   "id": "2fe2a182",
   "metadata": {},
   "outputs": [],
   "source": [
    "#Класс \"пингвин\"\n",
    "class Penguin(NonFlyingWaterfowl):\n",
    "    pass"
   ]
  },
  {
   "cell_type": "code",
   "execution_count": 10,
   "id": "c4950123",
   "metadata": {},
   "outputs": [],
   "source": [
    "#flock_of_birds = [Duck('Маляр', 10), Ostrich(), Bullfinch(), Penguin() ]"
   ]
  },
  {
   "cell_type": "code",
   "execution_count": 11,
   "id": "c12d0d36",
   "metadata": {},
   "outputs": [],
   "source": [
    "#Класс \"утка\"\n",
    "class Duck(FlyingAndWaterfowl):\n",
    "    def __init__(self, name, wingspan):\n",
    "        self.__name = name\n",
    "        self.__wingspan = wingspan\n",
    "        print('i`m a %s' % (self.__name))\n",
    "        #super().__init__()\n",
    "        return None\n",
    "    #def fly(self):\n",
    "    #    print('%s: i`m flying wherewere i want!' % self.__name)\n",
    "    #    return None\n",
    "    def fly(self, direction):\n",
    "        return('%s: i`m flying to %s!' % (self.__name, direction))\n",
    "    def name(self):\n",
    "        return self.__name\n",
    "    def swim(self):\n",
    "        return('%s: i`m swimming!' % self.__name)\n",
    "    def walk(self, direction):\n",
    "        return('%s: i`m walking to %s' % (self.__name,direction) )\n",
    "    def wingspan(self):\n",
    "        return self.__wingspan\n",
    "    \n",
    "    pass "
   ]
  },
  {
   "cell_type": "code",
   "execution_count": 12,
   "id": "a9b8ea82",
   "metadata": {},
   "outputs": [],
   "source": [
    "#Класс \"страус\"\n",
    "class Ostrich(Bird):\n",
    "    def __init__(self, name, wingspan):\n",
    "        self.__name = name\n",
    "        self.__wingspan = wingspan\n",
    "        print('i`m a %s' % (self.__name))\n",
    "        #super().__init__()\n",
    "        return None\n",
    "    def fly(self):\n",
    "        return('%s: i`m unable to fly!' % (self.__name))\n",
    "    def name(self):\n",
    "        return self.__name\n",
    "    def swim(self):\n",
    "        return('%s: i`m swimming!' % self.__name)\n",
    "    def walk(self, direction):\n",
    "        return('%s: i`m walking to %s' % (self.__name,direction) )\n",
    "    def wingspan(self):\n",
    "        return self.__wingspan\n",
    "    pass"
   ]
  },
  {
   "cell_type": "code",
   "execution_count": 13,
   "id": "bdc273ab",
   "metadata": {},
   "outputs": [],
   "source": [
    "#Класс \"снегирь\"\n",
    "class Bullfinch(FlyingBird):\n",
    "    def __init__(self, name, wingspan):\n",
    "        self.__name = name\n",
    "        self.__wingspan = wingspan\n",
    "        print('i`m a %s' % (self.__name))\n",
    "        return None\n",
    "    def fly(self, direction):\n",
    "        return ('%s: i`m flying to %s!' % (self.__name, direction))\n",
    "    def name(self):\n",
    "        return self.__name\n",
    "    def swim(self):\n",
    "        return('%s: i`m swimming!' % self.__name)\n",
    "    def walk(self, direction):\n",
    "        return('%s: i`m walking to %s' % (self.__name,direction) )\n",
    "    def wingspan(self):\n",
    "        return self.__wingspan\n",
    "    pass"
   ]
  },
  {
   "cell_type": "code",
   "execution_count": 14,
   "id": "e1409723",
   "metadata": {},
   "outputs": [],
   "source": [
    "#Класс \"пингвин\"\n",
    "class Penguin(NonFlyingWaterfowl):\n",
    "    def __init__(self, name, wingspan):\n",
    "        self.__name = name\n",
    "        self.__wingspan = wingspan\n",
    "        print('i`m a %s' % (self.__name))\n",
    "        return None\n",
    "    def fly(self, direction):\n",
    "        print('%s: i`m unable to fly!' % (self.__name))\n",
    "        return None\n",
    "    def name(self):\n",
    "        return self.__name\n",
    "    def swim(self):\n",
    "        return('%s: i`m swimming!' % self.__name)\n",
    "    def walk(self, direction):\n",
    "        return('%s: i`m walking to %s' % (self.__name,direction) )\n",
    "    def wingspan(self):\n",
    "        return self.__wingspan\n",
    "    pass"
   ]
  },
  {
   "cell_type": "code",
   "execution_count": 15,
   "id": "e1af9ff6",
   "metadata": {},
   "outputs": [
    {
     "name": "stdout",
     "output_type": "stream",
     "text": [
      "i`m a Утка Маляр\n",
      "i`m a Страус Петя\n",
      "i`m a Снегирь Сергей\n",
      "i`m a Пингвин Рико\n"
     ]
    }
   ],
   "source": [
    "flock_of_birds = [Duck('Утка Маляр', 10), Ostrich('Страус Петя', 1), Bullfinch('Снегирь Сергей', 4), Penguin('Пингвин Рико', 8) ]"
   ]
  },
  {
   "cell_type": "code",
   "execution_count": 16,
   "id": "7134df71",
   "metadata": {},
   "outputs": [
    {
     "name": "stdout",
     "output_type": "stream",
     "text": [
      "Проверим, кто у нас тут птица:\n",
      "<__main__.Duck object at 0x7fda9076bfd0> is a Bird? True\n",
      "<__main__.Ostrich object at 0x7fda9076b070> is a Bird? True\n",
      "<__main__.Bullfinch object at 0x7fda9076b580> is a Bird? True\n",
      "<__main__.Penguin object at 0x7fda9075e4c0> is a Bird? True\n",
      "Проверим, кто тут может летать:\n",
      "<__main__.Duck object at 0x7fda9076bfd0> is a FlyingBird? True\n",
      "<__main__.Ostrich object at 0x7fda9076b070> is a FlyingBird? False\n",
      "<__main__.Bullfinch object at 0x7fda9076b580> is a FlyingBird? True\n",
      "<__main__.Penguin object at 0x7fda9075e4c0> is a FlyingBird? False\n",
      "Проверим, кто тут может плавать, но не летает:\n",
      "<__main__.Duck object at 0x7fda9076bfd0> is a Waterfowl? False\n",
      "<__main__.Ostrich object at 0x7fda9076b070> is a Waterfowl? False\n",
      "<__main__.Bullfinch object at 0x7fda9076b580> is a Waterfowl? False\n",
      "<__main__.Penguin object at 0x7fda9075e4c0> is a Waterfowl? True\n",
      "Проверим, кто тут может летать и плавать:\n",
      "<__main__.Duck object at 0x7fda9076bfd0> is a Fying Waterfowl? True\n",
      "<__main__.Ostrich object at 0x7fda9076b070> is a Fying Waterfowl? False\n",
      "<__main__.Bullfinch object at 0x7fda9076b580> is a Fying Waterfowl? False\n",
      "<__main__.Penguin object at 0x7fda9075e4c0> is a Fying Waterfowl? False\n"
     ]
    }
   ],
   "source": [
    "print('Проверим, кто у нас тут птица:')\n",
    "for bird in flock_of_birds:\n",
    "    print('%s is a Bird? %s' %(str(bird),str(isinstance(bird, Bird))) )\n",
    "    #https://pythonz.net/references/named/isinstance/ - подробнее про isinstance\n",
    "print('Проверим, кто тут может летать:')\n",
    "for bird in flock_of_birds:\n",
    "    print('%s is a FlyingBird? %s' %(str(bird),str(isinstance(bird, FlyingBird))) )\n",
    "print('Проверим, кто тут может плавать, но не летает:')\n",
    "for bird in flock_of_birds:\n",
    "    print('%s is a Waterfowl? %s' %(str(bird),str(isinstance(bird, NonFlyingWaterfowl))) )\n",
    "print('Проверим, кто тут может летать и плавать:')\n",
    "for bird in flock_of_birds:\n",
    "    print('%s is a Fying Waterfowl? %s' %(str(bird),str(isinstance(bird, FlyingAndWaterfowl))) )\n"
   ]
  },
  {
   "cell_type": "code",
   "execution_count": 22,
   "id": "0d6293d6",
   "metadata": {},
   "outputs": [
    {
     "name": "stdout",
     "output_type": "stream",
     "text": [
      "попробуем теперь заставить птиц что-то делать:\n",
      "Наша птичка: Утка Маляр\n",
      "Её размах крыльев: 10\n",
      "Утка Маляр: i`m flying to бар!\n",
      "Утка Маляр: i`m flying to озеро!\n",
      "Утка Маляр: i`m swimming!\n",
      "Наша птичка: Страус Петя\n",
      "Её размах крыльев: 1\n",
      "Наша птичка: Снегирь Сергей\n",
      "Её размах крыльев: 4\n",
      "Снегирь Сергей: i`m flying to бар!\n",
      "Наша птичка: Пингвин Рико\n",
      "Её размах крыльев: 8\n",
      "Пингвин Рико: i`m swimming!\n"
     ]
    }
   ],
   "source": [
    "print('попробуем теперь заставить птиц что-то делать:')\n",
    "for bird in flock_of_birds:\n",
    "    if(isinstance(bird, Bird)):\n",
    "        print('Наша птичка: %s' %(bird.name()))\n",
    "        print('Её размах крыльев: %d' %(bird.wingspan()))\n",
    "        #print(bird.walk('рестик'))\n",
    "    if(isinstance(bird, NonFlyingWaterfowl)):\n",
    "        print(bird.swim())\n",
    "    if(isinstance(bird, FlyingBird)):\n",
    "        print(bird.fly('бар')) \n",
    "    if(isinstance(bird, FlyingAndWaterfowl)):\n",
    "        print(bird.fly('озеро'))\n",
    "        print(bird.swim())\n",
    "        "
   ]
  },
  {
   "cell_type": "code",
   "execution_count": 18,
   "id": "86406613",
   "metadata": {},
   "outputs": [],
   "source": [
    "class Test(metaclass=ABCMeta):\n",
    "    @abstractmethod\n",
    "    def foo(self):\n",
    "        pass\n",
    "    @abstractmethod\n",
    "    def foo_par(self, parameter:bool):\n",
    "        pass\n",
    "    pass"
   ]
  },
  {
   "cell_type": "code",
   "execution_count": 19,
   "id": "4aca0e9a",
   "metadata": {},
   "outputs": [],
   "source": [
    "class TestChild(Test):\n",
    "    def __init__(self):\n",
    "        return None\n",
    "    def foo(self):\n",
    "        print('foo')\n",
    "        return None\n",
    "    def foo_par(self):\n",
    "        print('foo_par')\n",
    "        return True\n",
    "    pass"
   ]
  },
  {
   "cell_type": "code",
   "execution_count": 20,
   "id": "d365d174",
   "metadata": {},
   "outputs": [
    {
     "name": "stdout",
     "output_type": "stream",
     "text": [
      "foo\n",
      "foo_par\n"
     ]
    },
    {
     "data": {
      "text/plain": [
       "True"
      ]
     },
     "execution_count": 20,
     "metadata": {},
     "output_type": "execute_result"
    }
   ],
   "source": [
    "t = TestChild()\n",
    "t.foo()\n",
    "t.foo_par()"
   ]
  },
  {
   "cell_type": "code",
   "execution_count": null,
   "id": "bca0b53d",
   "metadata": {},
   "outputs": [],
   "source": []
  },
  {
   "cell_type": "code",
   "execution_count": null,
   "id": "6dee64de",
   "metadata": {},
   "outputs": [],
   "source": []
  }
 ],
 "metadata": {
  "kernelspec": {
   "display_name": "Python 3 (ipykernel)",
   "language": "python",
   "name": "python3"
  },
  "language_info": {
   "codemirror_mode": {
    "name": "ipython",
    "version": 3
   },
   "file_extension": ".py",
   "mimetype": "text/x-python",
   "name": "python",
   "nbconvert_exporter": "python",
   "pygments_lexer": "ipython3",
   "version": "3.9.7"
  }
 },
 "nbformat": 4,
 "nbformat_minor": 5
}
