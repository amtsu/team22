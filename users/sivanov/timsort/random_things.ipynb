{
 "cells": [
  {
   "cell_type": "code",
   "execution_count": 2,
   "metadata": {},
   "outputs": [],
   "source": [
    "#работа с псевдослучайными числами в пайтон\n",
    "import random"
   ]
  },
  {
   "cell_type": "code",
   "execution_count": null,
   "metadata": {},
   "outputs": [
    {
     "name": "stdout",
     "output_type": "stream",
     "text": [
      "0.303272584527\n"
     ]
    }
   ],
   "source": [
    "# https://python-scripts.com/random\n",
    "# этот блок при каждом вызове выдаст разное  значение\n",
    "rint = random.random()\n",
    "print(rint)"
   ]
  },
  {
   "cell_type": "code",
   "execution_count": 4,
   "metadata": {},
   "outputs": [
    {
     "name": "stdout",
     "output_type": "stream",
     "text": [
      "0.488669870663\n"
     ]
    }
   ],
   "source": [
    "# а этот блок будет все время выдавать одинаковое псевдослучайное значение\n",
    "random.seed(54321)\n",
    "# random.seed([X], version=2) - инициализация генератора случайных \n",
    "# чисел. Если X не указан, \n",
    "# используется системное время.\n",
    "rint = random.random() # вернёт 0.488669870663\n",
    "print(rint)"
   ]
  },
  {
   "cell_type": "code",
   "execution_count": 5,
   "metadata": {},
   "outputs": [
    {
     "data": {
      "text/plain": [
       "99"
      ]
     },
     "execution_count": 5,
     "metadata": {},
     "output_type": "execute_result"
    }
   ],
   "source": [
    "# random.randint(A, B) - случайное целое число N, A ≤ N ≤ B.\n",
    "random.randint(1,100)"
   ]
  },
  {
   "cell_type": "code",
   "execution_count": 7,
   "metadata": {},
   "outputs": [],
   "source": [
    "# функция возвращает список псевдослучайными чисел из\n",
    "# диапазона от 1 до count; длина списка равна count\n",
    "# параметр fixed позволяет создавать одинаковый\n",
    "# список от запуска к запуску ( при fixed =True) \n",
    "# или разные от запуска к запуску (fixed = False\n",
    "def generate_random_list(count,fixed=False):\n",
    "    listRezult=[]\n",
    "    if fixed:\n",
    "        random.seed(15432)\n",
    "    else:\n",
    "        random.seed()\n",
    "    for i in range(0,count):\n",
    "        listRezult.append(random.randint(0, count)) \n",
    "    return listRezult"
   ]
  },
  {
   "cell_type": "code",
   "execution_count": 9,
   "metadata": {},
   "outputs": [
    {
     "name": "stdout",
     "output_type": "stream",
     "text": [
      "a random filled list\n",
      "[8, 10, 8, 7, 2, 6, 7, 6, 0, 5]\n",
      "another different random filled list\n",
      "[7, 1, 2, 4, 3, 0, 6, 9, 1, 2]\n",
      "The random filled list\n",
      "[10, 6, 4, 0, 7, 4, 5, 4, 1, 8]\n",
      "The same random filled list as previius\n",
      "[10, 6, 4, 0, 7, 4, 5, 4, 1, 8]\n",
      "returned list size is 125\n"
     ]
    }
   ],
   "source": [
    "#проверим, как работает\n",
    "print('a random filled list')\n",
    "print(generate_random_list(10,False))\n",
    "print('another different random filled list') \n",
    "print(generate_random_list(10,False))\n",
    "print('The random filled list')\n",
    "print(generate_random_list(10,True))\n",
    "print('The same random filled list as previius') \n",
    "print(generate_random_list(10,True))\n",
    "\n",
    "#проверим, правильного ли размера создаётся список\n",
    "print('returned list size is ' + str(len(generate_random_list(125))))"
   ]
  },
  {
   "cell_type": "code",
   "execution_count": 10,
   "metadata": {},
   "outputs": [
    {
     "name": "stdout",
     "output_type": "stream",
     "text": [
      "[4, 2, 6, 1, 3, 5, 5]\n",
      "[1, 2, 3, 4, 5, 5, 6]\n"
     ]
    }
   ],
   "source": [
    "# сортировка списков\n",
    "# https://www.w3schools.com/python/ref_list_sort.asp\n",
    "testList = [4,2,6,1,3,5,5] \n",
    "print(testList) \n",
    "testList.sort()\n",
    "print(testList)"
   ]
  },
  {
   "cell_type": "code",
   "execution_count": 11,
   "metadata": {},
   "outputs": [
    {
     "name": "stdout",
     "output_type": "stream",
     "text": [
      "[192, 111, 76, 14, 142, 82, 100, 84, 21, 154, 133, 156, 45, 65, 106, 65, 68, 64, 135, 94, 120, 53, 173, 84, 135, 37, 125, 200, 121, 47, 57, 24, 156, 60, 1, 34, 87, 112, 16, 83, 100, 56, 21, 28, 57, 69, 81, 49, 58, 164, 196, 131, 31, 57, 50, 83, 105, 137, 62, 51, 112, 89, 81, 171, 127, 25, 133, 81, 12, 160, 113, 0, 132, 193, 70, 116, 159, 45, 60, 78, 40, 65, 90, 0, 85, 84, 129, 84, 93, 140, 143, 61, 104, 149, 129, 119, 119, 161, 67, 99, 4, 149, 138, 162, 198, 28, 94, 114, 134, 100, 23, 7, 193, 37, 117, 50, 104, 126, 23, 153, 7, 190, 52, 47, 42, 27, 198, 161, 55, 64, 151, 115, 99, 57, 99, 191, 180, 139, 146, 175, 190, 182, 72, 177, 82, 141, 96, 58, 86, 112, 28, 32, 185, 157, 14, 143, 82, 124, 135, 112, 35, 117, 27, 18, 27, 81, 70, 171, 165, 5, 7, 76, 196, 2, 125, 15, 173, 47, 86, 101, 118, 96, 103, 36, 145, 154, 8, 196, 182, 38, 137, 108, 93, 84, 123, 63, 129, 196, 20, 174]\n",
      "[0, 0, 1, 2, 4, 5, 7, 7, 7, 8, 12, 14, 14, 15, 16, 18, 20, 21, 21, 23, 23, 24, 25, 27, 27, 27, 28, 28, 28, 31, 32, 34, 35, 36, 37, 37, 38, 40, 42, 45, 45, 47, 47, 47, 49, 50, 50, 51, 52, 53, 55, 56, 57, 57, 57, 57, 58, 58, 60, 60, 61, 62, 63, 64, 64, 65, 65, 65, 67, 68, 69, 70, 70, 72, 76, 76, 78, 81, 81, 81, 81, 82, 82, 82, 83, 83, 84, 84, 84, 84, 84, 85, 86, 86, 87, 89, 90, 93, 93, 94, 94, 96, 96, 99, 99, 99, 100, 100, 100, 101, 103, 104, 104, 105, 106, 108, 111, 112, 112, 112, 112, 113, 114, 115, 116, 117, 117, 118, 119, 119, 120, 121, 123, 124, 125, 125, 126, 127, 129, 129, 129, 131, 132, 133, 133, 134, 135, 135, 135, 137, 137, 138, 139, 140, 141, 142, 143, 143, 145, 146, 149, 149, 151, 153, 154, 154, 156, 156, 157, 159, 160, 161, 161, 162, 164, 165, 171, 171, 173, 173, 174, 175, 177, 180, 182, 182, 185, 190, 190, 191, 192, 193, 193, 196, 196, 196, 196, 198, 198, 200]\n"
     ]
    }
   ],
   "source": [
    " #создаем список, заполненный случайными числами\n",
    "someRandomList = generate_random_list(200, True)\n",
    "print(someRandomList) \n",
    "# сортируем созданный список \n",
    "someRandomList.sort()\n",
    "print(someRandomList)\n",
    "#print(generate_random_list(20,True).sort()) Так скорее всего сработало бы в плюсах, но не в питоне\n",
    "\n",
    "\n"
   ]
  },
  {
   "cell_type": "code",
   "execution_count": null,
   "metadata": {},
   "outputs": [],
   "source": []
  },
  {
   "cell_type": "code",
   "execution_count": null,
   "metadata": {},
   "outputs": [],
   "source": []
  }
 ],
 "metadata": {
  "kernelspec": {
   "display_name": "Python 2",
   "language": "python",
   "name": "python2"
  },
  "language_info": {
   "codemirror_mode": {
    "name": "ipython",
    "version": 2
   },
   "file_extension": ".py",
   "mimetype": "text/x-python",
   "name": "python",
   "nbconvert_exporter": "python",
   "pygments_lexer": "ipython2",
   "version": "2.7.12"
  }
 },
 "nbformat": 4,
 "nbformat_minor": 2
}
