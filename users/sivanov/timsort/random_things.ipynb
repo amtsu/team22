{
 "cells": [
  {
   "cell_type": "code",
   "execution_count": 27,
   "metadata": {},
   "outputs": [],
   "source": [
    "#работа с псевдослучайными числами в пайтон\n",
    "import random"
   ]
  },
  {
   "cell_type": "code",
   "execution_count": 28,
   "metadata": {},
   "outputs": [
    {
     "name": "stdout",
     "output_type": "stream",
     "text": [
      "0.535459374439\n"
     ]
    }
   ],
   "source": [
    "# https://python-scripts.com/random\n",
    "# этот блок при каждом вызове выдаст разное  значение\n",
    "rint = random.random()\n",
    "print(rint)"
   ]
  },
  {
   "cell_type": "code",
   "execution_count": 29,
   "metadata": {},
   "outputs": [
    {
     "name": "stdout",
     "output_type": "stream",
     "text": [
      "0.488669870663\n"
     ]
    }
   ],
   "source": [
    "# а этот блок будет все время выдавать одинаковое псевдослучайное значение\n",
    "random.seed(54321)\n",
    "# random.seed([X], version=2) - инициализация генератора случайных \n",
    "# чисел. Если X не указан, \n",
    "# используется системное время.\n",
    "rint = random.random() # вернёт 0.488669870663\n",
    "print(rint)"
   ]
  },
  {
   "cell_type": "code",
   "execution_count": 30,
   "metadata": {},
   "outputs": [
    {
     "data": {
      "text/plain": [
       "99"
      ]
     },
     "execution_count": 30,
     "metadata": {},
     "output_type": "execute_result"
    }
   ],
   "source": [
    "# random.randint(A, B) - случайное целое число N, A ≤ N ≤ B.\n",
    "random.randint(1,100)"
   ]
  },
  {
   "cell_type": "code",
   "execution_count": 31,
   "metadata": {},
   "outputs": [],
   "source": [
    "# функция возвращает список псевдослучайными чисел из\n",
    "# диапазона от 1 до count; длина списка равна count\n",
    "# параметр fixed позволяет создавать одинаковый\n",
    "# список от запуска к запуску ( при fixed =True) \n",
    "# или разные от запуска к запуску (fixed = False\n",
    "def generate_random_list(count,fixed=False):\n",
    "    listRezult=[]\n",
    "    if fixed:\n",
    "        random.seed(15432)\n",
    "    else:\n",
    "        random.seed()\n",
    "    for i in range(0,count):\n",
    "        listRezult.append(random.randint(0, count)) \n",
    "    return listRezult\n",
    "\n",
    "def generate_special_random_list(count,fixed=False):\n",
    "    listRezult=[]\n",
    "    if fixed:\n",
    "        random.seed(15432)\n",
    "    else:\n",
    "        random.seed()\n",
    "    for i in range(0,count):\n",
    "        curvalue = random.randint(0, count)\n",
    "        listRezult.append(curvalue)\n",
    "        fakeminrun = random.randint(5, 8)\n",
    "        for i in range(0,fakeminrun):\n",
    "            curvalue += 1\n",
    "            listRezult.append(curvalue) \n",
    "    return listRezult"
   ]
  },
  {
   "cell_type": "code",
   "execution_count": 32,
   "metadata": {},
   "outputs": [
    {
     "name": "stdout",
     "output_type": "stream",
     "text": [
      "a random filled list\n",
      "[4, 5, 9, 9, 5, 6, 4, 7, 2, 5]\n",
      "another different random filled list\n",
      "[0, 4, 2, 9, 7, 2, 2, 6, 0, 1]\n",
      "The random filled list\n",
      "[10, 6, 4, 0, 7, 4, 5, 4, 1, 8]\n",
      "The same random filled list as previius\n",
      "[10, 6, 4, 0, 7, 4, 5, 4, 1, 8]\n",
      "returned list size is 125\n"
     ]
    }
   ],
   "source": [
    "#проверим, как работает\n",
    "print('a random filled list')\n",
    "print(generate_random_list(10,False))\n",
    "print('another different random filled list') \n",
    "print(generate_random_list(10,False))\n",
    "print('The random filled list')\n",
    "print(generate_random_list(10,True))\n",
    "print('The same random filled list as previius') \n",
    "print(generate_random_list(10,True))\n",
    "\n",
    "#проверим, правильного ли размера создаётся список\n",
    "print('returned list size is ' + str(len(generate_random_list(125))))"
   ]
  },
  {
   "cell_type": "code",
   "execution_count": 43,
   "metadata": {},
   "outputs": [
    {
     "name": "stdout",
     "output_type": "stream",
     "text": [
      "[4, 2, 6, 1, 3, 5, 5]\n",
      "[1, 2, 3, 4, 5, 5, 6]\n"
     ]
    }
   ],
   "source": [
    "# сортировка списков\n",
    "# https://www.w3schools.com/python/ref_list_sort.asp\n",
    "testList = [4,2,6,1,3,5,5] \n",
    "print(testList) \n",
    "testList.sort()\n",
    "print(testList)"
   ]
  },
  {
   "cell_type": "code",
   "execution_count": 44,
   "metadata": {},
   "outputs": [
    {
     "name": "stdout",
     "output_type": "stream",
     "text": [
      "200000\n",
      "225053\n"
     ]
    }
   ],
   "source": [
    " #создаем список, заполненный случайными числами\n",
    "someRandomList = generate_random_list(200000, True)\n",
    "print(len(someRandomList))\n",
    "someRandomList2 = generate_special_random_list(30000, True)\n",
    "print(len(someRandomList2))"
   ]
  },
  {
   "cell_type": "code",
   "execution_count": 45,
   "metadata": {},
   "outputs": [
    {
     "name": "stdout",
     "output_type": "stream",
     "text": [
      "CPU times: user 0 ns, sys: 0 ns, total: 0 ns\n",
      "Wall time: 3.1 µs\n"
     ]
    }
   ],
   "source": [
    "%time\n",
    "someRandomList.sort()"
   ]
  },
  {
   "cell_type": "code",
   "execution_count": 46,
   "metadata": {},
   "outputs": [
    {
     "name": "stdout",
     "output_type": "stream",
     "text": [
      "CPU times: user 0 ns, sys: 0 ns, total: 0 ns\n",
      "Wall time: 3.81 µs\n"
     ]
    }
   ],
   "source": [
    "%time\n",
    "someRandomList2.sort()"
   ]
  },
  {
   "cell_type": "code",
   "execution_count": 48,
   "metadata": {},
   "outputs": [],
   "source": [
    " #создаем список, заполненный случайными числами\n",
    "someRandomList = generate_random_list(200000, True)\n",
    "print(len(someRandomList))\n",
    "someRandomList2 = generate_special_random_list(30000, True)\n",
    "print(len(someRandomList2))"
   ]
  },
  {
   "cell_type": "code",
   "execution_count": 52,
   "metadata": {},
   "outputs": [
    {
     "ename": "NameError",
     "evalue": "global name 'someRandomList' is not defined",
     "output_type": "error",
     "traceback": [
      "\u001b[0;31m------------------------------------------\u001b[0m",
      "\u001b[0;31mNameError\u001b[0mTraceback (most recent call last)",
      "\u001b[0;32m<ipython-input-52-8178c98acffe>\u001b[0m in \u001b[0;36m<module>\u001b[0;34m()\u001b[0m\n\u001b[1;32m      2\u001b[0m \u001b[0msomeRandomList\u001b[0m\u001b[0;34m.\u001b[0m\u001b[0msort\u001b[0m\u001b[0;34m(\u001b[0m\u001b[0;34m)\u001b[0m\u001b[0;34m\u001b[0m\u001b[0m\n\u001b[1;32m      3\u001b[0m \"\"\"\n\u001b[0;32m----> 4\u001b[0;31m \u001b[0melapsed_time\u001b[0m \u001b[0;34m=\u001b[0m \u001b[0mtimeit\u001b[0m\u001b[0;34m.\u001b[0m\u001b[0mtimeit\u001b[0m\u001b[0;34m(\u001b[0m\u001b[0mcode_to_test\u001b[0m\u001b[0;34m,\u001b[0m \u001b[0mnumber\u001b[0m\u001b[0;34m=\u001b[0m\u001b[0;36m100\u001b[0m\u001b[0;34m)\u001b[0m\u001b[0;34m/\u001b[0m\u001b[0;36m100\u001b[0m\u001b[0;34m\u001b[0m\u001b[0m\n\u001b[0m\u001b[1;32m      5\u001b[0m \u001b[0;32mprint\u001b[0m\u001b[0;34m(\u001b[0m\u001b[0melapsed_time\u001b[0m\u001b[0;34m)\u001b[0m\u001b[0;34m\u001b[0m\u001b[0m\n",
      "\u001b[0;32m/usr/lib/python2.7/timeit.pyc\u001b[0m in \u001b[0;36mtimeit\u001b[0;34m(stmt, setup, timer, number)\u001b[0m\n\u001b[1;32m    235\u001b[0m            number=default_number):\n\u001b[1;32m    236\u001b[0m     \u001b[0;34m\"\"\"Convenience function to create Timer object and call timeit method.\"\"\"\u001b[0m\u001b[0;34m\u001b[0m\u001b[0m\n\u001b[0;32m--> 237\u001b[0;31m     \u001b[0;32mreturn\u001b[0m \u001b[0mTimer\u001b[0m\u001b[0;34m(\u001b[0m\u001b[0mstmt\u001b[0m\u001b[0;34m,\u001b[0m \u001b[0msetup\u001b[0m\u001b[0;34m,\u001b[0m \u001b[0mtimer\u001b[0m\u001b[0;34m)\u001b[0m\u001b[0;34m.\u001b[0m\u001b[0mtimeit\u001b[0m\u001b[0;34m(\u001b[0m\u001b[0mnumber\u001b[0m\u001b[0;34m)\u001b[0m\u001b[0;34m\u001b[0m\u001b[0m\n\u001b[0m\u001b[1;32m    238\u001b[0m \u001b[0;34m\u001b[0m\u001b[0m\n\u001b[1;32m    239\u001b[0m def repeat(stmt=\"pass\", setup=\"pass\", timer=default_timer,\n",
      "\u001b[0;32m/usr/lib/python2.7/timeit.pyc\u001b[0m in \u001b[0;36mtimeit\u001b[0;34m(self, number)\u001b[0m\n\u001b[1;32m    200\u001b[0m         \u001b[0mgc\u001b[0m\u001b[0;34m.\u001b[0m\u001b[0mdisable\u001b[0m\u001b[0;34m(\u001b[0m\u001b[0;34m)\u001b[0m\u001b[0;34m\u001b[0m\u001b[0m\n\u001b[1;32m    201\u001b[0m         \u001b[0;32mtry\u001b[0m\u001b[0;34m:\u001b[0m\u001b[0;34m\u001b[0m\u001b[0m\n\u001b[0;32m--> 202\u001b[0;31m             \u001b[0mtiming\u001b[0m \u001b[0;34m=\u001b[0m \u001b[0mself\u001b[0m\u001b[0;34m.\u001b[0m\u001b[0minner\u001b[0m\u001b[0;34m(\u001b[0m\u001b[0mit\u001b[0m\u001b[0;34m,\u001b[0m \u001b[0mself\u001b[0m\u001b[0;34m.\u001b[0m\u001b[0mtimer\u001b[0m\u001b[0;34m)\u001b[0m\u001b[0;34m\u001b[0m\u001b[0m\n\u001b[0m\u001b[1;32m    203\u001b[0m         \u001b[0;32mfinally\u001b[0m\u001b[0;34m:\u001b[0m\u001b[0;34m\u001b[0m\u001b[0m\n\u001b[1;32m    204\u001b[0m             \u001b[0;32mif\u001b[0m \u001b[0mgcold\u001b[0m\u001b[0;34m:\u001b[0m\u001b[0;34m\u001b[0m\u001b[0m\n",
      "\u001b[0;32m/usr/lib/python2.7/timeit.pyc\u001b[0m in \u001b[0;36minner\u001b[0;34m(_it, _timer)\u001b[0m\n",
      "\u001b[0;31mNameError\u001b[0m: global name 'someRandomList' is not defined"
     ]
    }
   ],
   "source": [
    "import time\n",
    "start_time = time.time()\n"
   ]
  },
  {
   "cell_type": "code",
   "execution_count": null,
   "metadata": {},
   "outputs": [],
   "source": []
  }
 ],
 "metadata": {
  "kernelspec": {
   "display_name": "Python 2",
   "language": "python",
   "name": "python2"
  },
  "language_info": {
   "codemirror_mode": {
    "name": "ipython",
    "version": 2
   },
   "file_extension": ".py",
   "mimetype": "text/x-python",
   "name": "python",
   "nbconvert_exporter": "python",
   "pygments_lexer": "ipython2",
   "version": "2.7.12"
  }
 },
 "nbformat": 4,
 "nbformat_minor": 2
}
