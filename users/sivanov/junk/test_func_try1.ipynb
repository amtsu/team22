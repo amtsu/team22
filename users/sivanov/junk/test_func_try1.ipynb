{
 "cells": [
  {
   "cell_type": "code",
   "execution_count": null,
   "metadata": {},
   "outputs": [],
   "source": [
    "# попытка замутить удобство при тестировании, основанное на вызове функций и приколах выполнения питона через питон"
   ]
  },
  {
   "cell_type": "code",
   "execution_count": 29,
   "metadata": {},
   "outputs": [],
   "source": [
    "def test0():\n",
    "    return 'done'\n",
    "def test1():\n",
    "    return 'done'\n",
    "def test2():\n",
    "    return 'not done'\n",
    "def test3():\n",
    "    return 'done'\n",
    "def test4():\n",
    "    return 'not done'\n",
    "def test5():\n",
    "    return 'done'"
   ]
  },
  {
   "cell_type": "code",
   "execution_count": 30,
   "metadata": {},
   "outputs": [
    {
     "name": "stdout",
     "output_type": "stream",
     "text": [
      "('Sum =', 15)\n"
     ]
    }
   ],
   "source": [
    "# пример из https://www.programiz.com/python-programming/methods/built-in/exec\n",
    "program = 'a = 5\\nb=10\\nprint(\"Sum =\", a+b)'\n",
    "exec(program)"
   ]
  },
  {
   "cell_type": "code",
   "execution_count": 31,
   "metadata": {},
   "outputs": [
    {
     "name": "stdout",
     "output_type": "stream",
     "text": [
      "done\n",
      "done\n",
      "результат вызова теста: done\n"
     ]
    }
   ],
   "source": [
    "#проверим как это в моем случае должно быть\n",
    "print(test5())\n",
    "exec('test5()')\n",
    "exec('print(test5())')\n",
    "exec('tmpstr = test5()')\n",
    "print('результат вызова теста: ' + tmpstr)"
   ]
  },
  {
   "cell_type": "code",
   "execution_count": 32,
   "metadata": {},
   "outputs": [],
   "source": [
    "# что можно сделать для тестирования:\n",
    "def do_all_tests(test_func_pattern, test_func_count):\n",
    "    i=0\n",
    "    while(i < test_func_count):\n",
    "        exec('tmpstr ='+test_func_pattern+str(i)+'()')\n",
    "        print('результат выполнения теста #'+str(i)+': ' + tmpstr)\n",
    "        i += 1\n",
    "    return"
   ]
  },
  {
   "cell_type": "code",
   "execution_count": 33,
   "metadata": {},
   "outputs": [
    {
     "name": "stdout",
     "output_type": "stream",
     "text": [
      "результат выполнения теста #0: done\n",
      "результат выполнения теста #1: done\n",
      "результат выполнения теста #2: not done\n",
      "результат выполнения теста #3: done\n",
      "результат выполнения теста #4: not done\n",
      "результат выполнения теста #5: done\n"
     ]
    }
   ],
   "source": [
    "do_all_tests('test',6)"
   ]
  },
  {
   "cell_type": "code",
   "execution_count": null,
   "metadata": {},
   "outputs": [],
   "source": []
  }
 ],
 "metadata": {
  "kernelspec": {
   "display_name": "Python 2",
   "language": "python",
   "name": "python2"
  },
  "language_info": {
   "codemirror_mode": {
    "name": "ipython",
    "version": 2
   },
   "file_extension": ".py",
   "mimetype": "text/x-python",
   "name": "python",
   "nbconvert_exporter": "python",
   "pygments_lexer": "ipython2",
   "version": "2.7.12"
  }
 },
 "nbformat": 4,
 "nbformat_minor": 2
}
