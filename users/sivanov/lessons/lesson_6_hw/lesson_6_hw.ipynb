{
 "cells": [
  {
   "cell_type": "markdown",
   "metadata": {},
   "source": [
    "# Задание 1\n",
    "Создайте простой тектосвый фаил \"in.txt\".\n",
    "Добавьие в него свои дела следующим образом. На каждой строчке одно дело.\n",
    "\n",
    "Пример:\n",
    "Помыть посуду\n",
    "Убраться\n",
    "Поработать\n",
    "Позвонить\n",
    "Убраться\n",
    "\n",
    "Далее напишить программу которая читает этот фаил. Находит в нем повторяющиеся дела. И записывает повторяющиеся дела в другой фаил \"out.txt\".\n",
    "\n",
    "Напишите тесты для проверки вашей программы.\n",
    "\n",
    "\n",
    "# Задание 2\n",
    "Создайте простой тектосвый фаил \"in.txt\".\n",
    "Добавьие в него свои траты следующим образом. На каждой строчке одно поуупка.\n",
    "\n",
    "Пример:\n",
    "-100\n",
    "-200\n",
    "-44000\n",
    "-55\n",
    "100000\n",
    "-79\n",
    "\n",
    "Далее напишить программу которая читает этот фаил. Суммирует все траты. И записывает сумму в другой фаил \"out.txt\".\n",
    "\n",
    "Напишите тесты для проверки вашей программы."
   ]
  },
  {
   "cell_type": "code",
   "execution_count": 1,
   "metadata": {},
   "outputs": [],
   "source": [
    "#сначала нужно понять, как писать в этом случае тесты\n",
    "#!export PYTHONIOENCODING=utf8 # так делать не стоит наверное, вообще нужно обсудить"
   ]
  },
  {
   "cell_type": "code",
   "execution_count": 81,
   "metadata": {},
   "outputs": [
    {
     "name": "stdout",
     "output_type": "stream",
     "text": [
      "/home/sivanov/lessons/lesson_6_hw\r\n"
     ]
    }
   ],
   "source": [
    "!pwd"
   ]
  },
  {
   "cell_type": "code",
   "execution_count": 82,
   "metadata": {},
   "outputs": [],
   "source": [
    "#cd .."
   ]
  },
  {
   "cell_type": "code",
   "execution_count": 83,
   "metadata": {},
   "outputs": [
    {
     "name": "stdout",
     "output_type": "stream",
     "text": [
      "mkdir: cannot create directory 'tmp': File exists\r\n"
     ]
    }
   ],
   "source": [
    "!mkdir tmp"
   ]
  },
  {
   "cell_type": "code",
   "execution_count": 84,
   "metadata": {},
   "outputs": [
    {
     "name": "stdout",
     "output_type": "stream",
     "text": [
      "/home/sivanov/lessons/lesson_6_hw/tmp\n"
     ]
    }
   ],
   "source": [
    "cd tmp"
   ]
  },
  {
   "cell_type": "code",
   "execution_count": 85,
   "metadata": {},
   "outputs": [
    {
     "name": "stdout",
     "output_type": "stream",
     "text": [
      "in.txt\t\t   mymoneyrecords.pyc\t\t   test_make_input_file\n",
      "mylistdata.py\t   out.txt\n",
      "mymoneyrecords.py  test_find_dupies_in_input_file\n",
      "OK\n",
      "ne ok\n"
     ]
    }
   ],
   "source": [
    "!ls\n",
    "!touch file1.txt\n",
    "!pwd > file1.txt\n",
    "!touch file2.txt\n",
    "!touch file3.txt\n",
    "#--------------------------------\n",
    "rez2 = !diff file2.txt file3.txt\n",
    "if(rez2 == []):\n",
    "    print(\"OK\") #this\n",
    "else:\n",
    "    print('ne ok')\n",
    "#---------------------------\n",
    "rez2 = !diff file1.txt file2.txt\n",
    "if(rez2 == []):\n",
    "    print(\"OK\")\n",
    "else:\n",
    "    print('ne ok') #this\n",
    "#отлично, макет показывает, что можно сравнивать файлы через diff и в зависимости от результата проверять, правильно ли\n",
    "#создался файл или нет. поехали. "
   ]
  },
  {
   "cell_type": "code",
   "execution_count": 86,
   "metadata": {},
   "outputs": [
    {
     "name": "stdout",
     "output_type": "stream",
     "text": [
      "/home/sivanov/lessons/lesson_6_hw\n"
     ]
    }
   ],
   "source": [
    "cd .."
   ]
  },
  {
   "cell_type": "code",
   "execution_count": 87,
   "metadata": {},
   "outputs": [],
   "source": [
    "!rm -r tmp"
   ]
  },
  {
   "cell_type": "code",
   "execution_count": 88,
   "metadata": {},
   "outputs": [],
   "source": [
    "!mkdir tmp"
   ]
  },
  {
   "cell_type": "code",
   "execution_count": 89,
   "metadata": {},
   "outputs": [],
   "source": [
    "!cp -a -R ~/github/team22/users/sivanov/lessons/lesson_6_hw/test_find_dupies_in_input_file/ tmp/test_find_dupies_in_input_file/\n",
    "!cp -a -R ~/github/team22/users/sivanov/lessons/lesson_6_hw/test_make_input_file/ tmp/test_make_input_file/\n",
    "!cp -a -R /home/sivanov/github/team22/users/sivanov/lessons/lesson_6_hw/test_calc_total_spending/ tmp/test_calc_total_spending/\n",
    "!cp -a -R /home/sivanov/github/team22/users/sivanov/lessons/lesson_6_hw/mylistdata.py tmp/mylistdata.py\n",
    "!cp -a -R /home/sivanov/github/team22/users/sivanov/lessons/lesson_6_hw/mymoneyrecords.py tmp/mymoneyrecords.py"
   ]
  },
  {
   "cell_type": "code",
   "execution_count": 90,
   "metadata": {},
   "outputs": [
    {
     "name": "stdout",
     "output_type": "stream",
     "text": [
      "/home/sivanov/lessons/lesson_6_hw/tmp\n"
     ]
    }
   ],
   "source": [
    "cd tmp"
   ]
  },
  {
   "cell_type": "code",
   "execution_count": 91,
   "metadata": {},
   "outputs": [],
   "source": [
    "#поехали первое задание\n",
    "import mylistdata\n",
    "#создать экземпляр хранилища\n",
    "datastorage = mylistdata.MyListData()\n",
    "#напечатать исходные списки\n",
    "datastorage.add_action('buy bread','5-3-2022','5-3-2022')\n",
    "#datastorage.print_lists()\n",
    "#забрать списки из хранилища\n",
    "todo = datastorage.TODO\n",
    "timetobedone = datastorage.TIMETOBEDONE\n",
    "timedone = datastorage.TIMEDONE\n",
    "#---------------------------------------------------------------------------------\n",
    "# эта штука тоже пригодится\n",
    "def sprint(some_list, delimiter=u'\\n'):\n",
    "    Out = '' \n",
    "    for item in some_list:\n",
    "        Out += unicode(item) + delimiter\n",
    "    print(Out.rstrip(delimiter)) \n",
    "    return None\n",
    "#----------------------------------------------------------------------------------\n",
    "#и вот это тоже пригодится\n",
    "#найти все одинаковые действия\n",
    "def find_all_of_the_same_actions(actionlist, uniqactions, uniqcount, allowprint=1):\n",
    "    for action in actionlist:\n",
    "        i=0\n",
    "        while i < len(uniqactions):\n",
    "            if action == uniqactions[i]:\n",
    "                uniqcount[i] = uniqcount[i] + 1\n",
    "                break\n",
    "            i=i+1\n",
    "        if i == len(uniqactions):\n",
    "            uniqactions.append(action)\n",
    "            uniqcount.append(1)  \n",
    "    if allowprint ==1:\n",
    "        for i in range(0, len(uniqactions)):\n",
    "             print('действие \"' + uniqactions[i]+ '\" было выполнено ' + str(uniqcount[i]) + ' раз')\n",
    "    return None\n",
    "#------------------------------------------------------------------------\n",
    "# замена !cat filename для файла с русскими буквами изза мать его юникода\n",
    "def print_contents_of_the_file(filename):\n",
    "    f = open(filename, 'r') # открыть файл\n",
    "    for line in f: #построчно читаем и преобразовываем\n",
    "        data = line.rstrip('\\n') # отказываемся от лишних пробелов и переводов строки\n",
    "                     # сомнительная операция, но всё же\n",
    "        print(data.decode('utf-8')) # конвертируем byte str в unicode и печатаем строку. \n",
    "                                    #print сам добавит перевод строки\n",
    "    return None\n",
    "\n"
   ]
  },
  {
   "cell_type": "code",
   "execution_count": 92,
   "metadata": {},
   "outputs": [],
   "source": [
    "# создать входной файл\n",
    "def make_input_file(filename, inputstringlist):\n",
    "    cin = file(filename,\"w\")\n",
    "    for element in inputstringlist:\n",
    "        cin.write(unicode(element).encode('utf-8')+'\\n') # byte str\n",
    "    cin.close()\n",
    "    return None\n",
    "#выполнить обработку файла\n",
    "#читает файл infilename построчно и записывает в outfilename только уникальные из них (повторы строк удаляет)\n",
    "def find_dupies_in_input_file(infilename, outfilename):\n",
    "    #открываем файл на чтение\n",
    "    f = open(infilename, 'r')\n",
    "    #модным образом читаем его построчно\n",
    "    l = [line.strip().decode('utf-8') for line in f] #list of unicode\n",
    "    #закрываем файл\n",
    "    f.close()\n",
    "    #вызываем функцию поиска дупликатов\n",
    "    result = []\n",
    "    tmp=[]\n",
    "    find_all_of_the_same_actions(l,result, tmp, 0)\n",
    "    #открываем файл на запись\n",
    "    out = open(outfilename, \"w\")\n",
    "    #пишем туда построчно\n",
    "    for line in result:\n",
    "        out.write(line.encode('utf-8') + '\\n') # byte str\n",
    "    #закрываем файл\n",
    "    out.close()\n",
    "    return\n",
    "    "
   ]
  },
  {
   "cell_type": "code",
   "execution_count": 93,
   "metadata": {},
   "outputs": [
    {
     "name": "stdout",
     "output_type": "stream",
     "text": [
      "action1\n",
      "action2\n",
      "action2\n",
      "---\n",
      "action1\n",
      "action2\n"
     ]
    }
   ],
   "source": [
    "# тут и без комментов понятно\n",
    "make_input_file('in.txt',['action1', 'action2','action2' ])\n",
    "print_contents_of_the_file('in.txt')\n",
    "print ('---')\n",
    "find_dupies_in_input_file('in.txt', 'out.txt')\n",
    "print_contents_of_the_file('out.txt')"
   ]
  },
  {
   "cell_type": "code",
   "execution_count": 94,
   "metadata": {},
   "outputs": [
    {
     "name": "stdout",
     "output_type": "stream",
     "text": [
      "test 1: OK\n",
      "\n",
      "test 2: OK\n",
      "\n",
      "test 3: OK\n",
      "\n",
      "test 4: OK\n",
      "\n",
      "test 5: OK\n",
      "\n"
     ]
    }
   ],
   "source": [
    "# тесты для функции make_input_file\n",
    "def test_1_make_input_file():\n",
    "    make_input_file(\"in.txt\",['action1','action2','action2' ])\n",
    "    rez2 = !diff in.txt test_make_input_file/testdata1.txt\n",
    "    if(rez2 == []):\n",
    "        print(\"test 1: OK\")\n",
    "    else:\n",
    "        print('test 1: ERROR')\n",
    "        return rez2\n",
    "    return ''\n",
    "def test_2_make_input_file():\n",
    "    make_input_file(\"in.txt\",['action1','action1','action1','action2','action2','action1','action1'])\n",
    "    rez2 = !diff in.txt test_make_input_file/testdata2.txt\n",
    "    if(rez2 == []):\n",
    "        print(\"test 2: OK\")\n",
    "    else:\n",
    "        print('test 2: ERROR')\n",
    "        return rez2\n",
    "    return ''\n",
    "def test_3_make_input_file():\n",
    "    make_input_file(\"in.txt\",[])\n",
    "    rez2 = !diff in.txt test_make_input_file/testdata3.txt\n",
    "    if(rez2 == []):\n",
    "        print(\"test 3: OK\")\n",
    "    else:\n",
    "        print('test 3: ERROR')\n",
    "        return rez2\n",
    "    return ''\n",
    "def test_4_make_input_file():\n",
    "    make_input_file(\"in.txt\",[''])\n",
    "    rez2 = !diff in.txt test_make_input_file/testdata4.txt\n",
    "    if(rez2 == []):\n",
    "        print(\"test 4: OK\")\n",
    "    else:\n",
    "        print('test 4: ERROR')\n",
    "        return rez2\n",
    "    return ''\n",
    "def test_5_make_input_file(): # запись числовых данных для задания 2\n",
    "    make_input_file(\"in.txt\",[1,2,300,-200])\n",
    "    rez2 = !diff in.txt test_make_input_file/testdata5.txt\n",
    "    if(rez2 == []):\n",
    "        print(\"test 5: OK\")\n",
    "    else:\n",
    "        print('test 5: ERROR')\n",
    "        return rez2\n",
    "    return ''\n",
    "# запуск тестов для для функции make_input_file\n",
    "sprint(test_1_make_input_file())\n",
    "sprint(test_2_make_input_file())\n",
    "sprint(test_3_make_input_file())\n",
    "sprint(test_4_make_input_file())\n",
    "sprint(test_5_make_input_file())"
   ]
  },
  {
   "cell_type": "code",
   "execution_count": 95,
   "metadata": {},
   "outputs": [
    {
     "name": "stdout",
     "output_type": "stream",
     "text": [
      "test 1: OK\n",
      "\n",
      "test 2: OK\n",
      "\n",
      "test 3: OK\n",
      "\n",
      "test 4: OK\n",
      "\n"
     ]
    }
   ],
   "source": [
    "# тесты для функции find_dupies_in_input_file\n",
    "def test_1_find_dupies_in_input_file(): #action1, action2\n",
    "    find_dupies_in_input_file('test_make_input_file/testdata1.txt','out.txt')\n",
    "    rez2 = !diff out.txt test_find_dupies_in_input_file/testdata1.txt\n",
    "    if(rez2 == []):\n",
    "        print(\"test 1: OK\")\n",
    "    else:\n",
    "        print('test 1: ERROR')\n",
    "        return rez2\n",
    "    return ''\n",
    "def test_2_find_dupies_in_input_file():#action1, action2\n",
    "    find_dupies_in_input_file('test_make_input_file/testdata2.txt','out.txt')\n",
    "    rez2 = !diff out.txt test_find_dupies_in_input_file/testdata1.txt\n",
    "    if(rez2 == []):\n",
    "        print(\"test 2: OK\")\n",
    "    else:\n",
    "        print('test 2: ERROR')\n",
    "        return rez2\n",
    "    return ''\n",
    "def test_3_find_dupies_in_input_file():#empty file\n",
    "    find_dupies_in_input_file('test_make_input_file/testdata3.txt','out.txt')\n",
    "    rez2 = !diff out.txt test_make_input_file/testdata3.txt\n",
    "    if(rez2 == []):\n",
    "        print(\"test 3: OK\")\n",
    "    else:\n",
    "        print('test 3: ERROR')\n",
    "        return rez2\n",
    "    return ''\n",
    "def test_4_find_dupies_in_input_file():#file with an empty string\n",
    "    find_dupies_in_input_file('test_make_input_file/testdata4.txt','out.txt')\n",
    "    rez2 = !diff out.txt test_make_input_file/testdata4.txt\n",
    "    if(rez2 == []):\n",
    "        print(\"test 4: OK\")\n",
    "    else:\n",
    "        print('test 4: ERROR')\n",
    "        return rez2\n",
    "    return ''\n",
    "# запуск тестов для функции find_dupies_in_input_file\n",
    "sprint(test_1_find_dupies_in_input_file())\n",
    "sprint(test_2_find_dupies_in_input_file())\n",
    "sprint(test_3_find_dupies_in_input_file())\n",
    "sprint(test_4_find_dupies_in_input_file())"
   ]
  },
  {
   "cell_type": "code",
   "execution_count": 96,
   "metadata": {},
   "outputs": [
    {
     "name": "stdout",
     "output_type": "stream",
     "text": [
      "купить хлеб\n",
      "помыть полы\n",
      "дернуть\n",
      "промыть полы\n",
      "промыть полы\n",
      "промыть полы\n",
      "промыть полы\n",
      "промыть полы\n",
      "промыть полы\n",
      "купить хлеб\n",
      "купить хлеб\n",
      "купить хлеб\n",
      "купить хлеб\n",
      "купить хлеб\n",
      "купить хлеб\n",
      "дернуть\n",
      "дернуть\n",
      "дернуть\n",
      "дернуть\n",
      "дернуть\n",
      "дернуть\n",
      "дернуть\n",
      "buy bread\n",
      "---\n",
      "купить хлеб\n",
      "помыть полы\n",
      "дернуть\n",
      "промыть полы\n",
      "buy bread\n"
     ]
    }
   ],
   "source": [
    "#по-простому работает, прогоним на сложных данных\n",
    "sprint(todo)\n",
    "make_input_file(\"in.txt\",todo)\n",
    "print('---')\n",
    "find_dupies_in_input_file(\"in.txt\", \"out.txt\")\n",
    "print_contents_of_the_file('out.txt')"
   ]
  },
  {
   "cell_type": "markdown",
   "metadata": {},
   "source": [
    "Создайте простой текстовый файл \"in.txt\". Добавьте в него свои траты следующим образом: на каждой строчке одно покупка.\n",
    "\n",
    "Пример: \n",
    "-100 \n",
    "-200 \n",
    "-44000 \n",
    "-55 \n",
    "100000 \n",
    "-79\n",
    "\n",
    "Далее напишить программу которая читает этот файл, суммирует все траты и записывает сумму в другой файл \"out.txt\".\n",
    "\n",
    "Напишите тесты для проверки вашей программы."
   ]
  },
  {
   "cell_type": "code",
   "execution_count": 97,
   "metadata": {},
   "outputs": [
    {
     "name": "stdout",
     "output_type": "stream",
     "text": [
      "-50\n",
      "-20\n",
      "500\n",
      "-60\n",
      "-7\n",
      "-90\n",
      "-698\n",
      "4500\n",
      "-7\n",
      "-90\n",
      "-90\n",
      "-120\n",
      "-600\n",
      "300\n",
      "1\n",
      "1\n",
      "1\n",
      "1\n",
      "1\n",
      "-90\n",
      "-91\n",
      "-92\n"
     ]
    }
   ],
   "source": [
    "#задание2\n",
    "import mymoneyrecords\n",
    "bank = mymoneyrecords.MyMoneyRecords()\n",
    "moneyrecords = bank.VALUES\n",
    "desc4moneyrecords= bank.DESC\n",
    "sprint(moneyrecords)"
   ]
  },
  {
   "cell_type": "code",
   "execution_count": 98,
   "metadata": {},
   "outputs": [
    {
     "name": "stdout",
     "output_type": "stream",
     "text": [
      "-50\n",
      "-20\n",
      "500\n",
      "-60\n",
      "-7\n",
      "-90\n",
      "-698\n",
      "4500\n",
      "-7\n",
      "-90\n",
      "-90\n",
      "-120\n",
      "-600\n",
      "300\n",
      "1\n",
      "1\n",
      "1\n",
      "1\n",
      "1\n",
      "-90\n",
      "-91\n",
      "-92\n"
     ]
    }
   ],
   "source": [
    "#если бы файл можно было сделать двоичным, я бы попробовал писать в него числа всякие\n",
    "#но по условию задачи он текстовый, значит make_input_file из первого задания подойдет для формирования входного файла\n",
    "#к несчастью, исходный список это числа, а у чисел нет encode\n",
    "# возвращаюсь, дописываю тест и вперед\n",
    "make_input_file('in.txt',moneyrecords)\n",
    "print_contents_of_the_file('in.txt') # работает"
   ]
  },
  {
   "cell_type": "code",
   "execution_count": 99,
   "metadata": {},
   "outputs": [],
   "source": [
    "# функция, которая читает файл и суммирует всё что там есть\n",
    "# потому что мне лень писать тесты для функции, выходом которой являеся файл.\n",
    "#это геморойно\n",
    "def calc_total_spending(infilename):\n",
    "     #открываем файл на чтение\n",
    "    f = open(infilename, 'r')\n",
    "    #инициализируем сумму\n",
    "    total_spending = 0.0\n",
    "    for line in f:\n",
    "        total_spending += float(line.strip())\n",
    "    f.close()\n",
    "    return total_spending\n",
    "    \n"
   ]
  },
  {
   "cell_type": "code",
   "execution_count": 100,
   "metadata": {},
   "outputs": [
    {
     "data": {
      "text/plain": [
       "u'/home/sivanov/lessons/lesson_6_hw/tmp'"
      ]
     },
     "execution_count": 100,
     "metadata": {},
     "output_type": "execute_result"
    }
   ],
   "source": [
    "pwd"
   ]
  },
  {
   "cell_type": "code",
   "execution_count": 101,
   "metadata": {},
   "outputs": [
    {
     "name": "stdout",
     "output_type": "stream",
     "text": [
      "test 1: OK\n",
      "test 3: OK\n",
      "test 4: OK\n",
      "test 5: OK\n"
     ]
    }
   ],
   "source": [
    "#тесты для функции calc_total_spending\n",
    "def test_calc_total_spending(infile,rezult,test_number,accuracy=0.0001): \n",
    "    rez2 =calc_total_spending(infile)\n",
    "    if(abs(rez2 - rezult)<accuracy):\n",
    "        print('test '+test_number+': OK')\n",
    "    else:\n",
    "        print('test %s: ERROR, the rezult is %s instead of %s' % (test_number,rez2,rezult)) \n",
    "    return None\n",
    "# запуск тестов для функции find_dupies_in_input_file\n",
    "test_calc_total_spending('test_calc_total_spending/testdata1.txt',0.0,'1')#empty file\n",
    "#test_calc_total_spending('test_calc_total_spending/testdata2.txt',0.0,'2')# пустые строки не для нас #empty string in a file\n",
    "test_calc_total_spending('test_calc_total_spending/testdata3.txt',21,'3')# 1 + 2 + 3 + 4 + 5 + 6 = 21\n",
    "test_calc_total_spending('test_calc_total_spending/testdata4.txt', 0.01 ,'4') # -1 -2 -1.25 + 1.26 + 1 + 2\n",
    "test_calc_total_spending('test_calc_total_spending/testdata5.txt',0,'5') # 0.+ 0. + 0. + 0.0 + 0."
   ]
  },
  {
   "cell_type": "code",
   "execution_count": 102,
   "metadata": {},
   "outputs": [],
   "source": [
    "# функция, которая читает файл и суммирует всё что там есть и пишет результат в другой файл\n",
    "def calc_total_spending_and_write_it_to_file(infilename,outfilename):\n",
    "    out = open(outfilename, 'w')\n",
    "    out.write(str(calc_total_spending(infilename))+'\\n') # так как в выводе число, можно преобразовать сразу в str\n",
    "                                                         # после числа перевод на новую строчку, чтобы воспользоваться\n",
    "                                                         # make_input_file для задания результата\n",
    "    out.close()\n",
    "    return None"
   ]
  },
  {
   "cell_type": "code",
   "execution_count": 103,
   "metadata": {},
   "outputs": [
    {
     "name": "stdout",
     "output_type": "stream",
     "text": [
      "test 1: OK\n",
      "\n",
      "test 2: OK\n",
      "\n"
     ]
    }
   ],
   "source": [
    "# ладно, два тестика\n",
    "def test_1_calc_total_spending_and_write_it_to_file(): #21\n",
    "    make_input_file('test_calc_total_spending/testdata3out.txt',[21.0])\n",
    "    calc_total_spending_and_write_it_to_file('test_calc_total_spending/testdata3.txt','out.txt')\n",
    "    rez2 = !diff out.txt test_calc_total_spending/testdata3out.txt\n",
    "    if(rez2 == []):\n",
    "        print(\"test 1: OK\")\n",
    "    else:\n",
    "        print('test 1: ERROR')\n",
    "        return rez2\n",
    "    return ''\n",
    "def test_2_calc_total_spending_and_write_it_to_file(): #0.01  прикольно, обрезанный вывод\n",
    "    make_input_file('test_calc_total_spending/testdata4out.txt',[0.01])\n",
    "    calc_total_spending_and_write_it_to_file('test_calc_total_spending/testdata4.txt','out.txt')\n",
    "    rez2 = !diff out.txt test_calc_total_spending/testdata4out.txt\n",
    "    if(rez2 == []):\n",
    "        print(\"test 2: OK\")\n",
    "    else:\n",
    "        print('test 2: ERROR')\n",
    "        return rez2\n",
    "    return ''\n",
    "sprint(test_1_calc_total_spending_and_write_it_to_file())\n",
    "sprint(test_2_calc_total_spending_and_write_it_to_file())"
   ]
  },
  {
   "cell_type": "code",
   "execution_count": 104,
   "metadata": {},
   "outputs": [
    {
     "name": "stdout",
     "output_type": "stream",
     "text": [
      "-50\n",
      "-20\n",
      "500\n",
      "-60\n",
      "-7\n",
      "-90\n",
      "-698\n",
      "4500\n",
      "-7\n",
      "-90\n",
      "-90\n",
      "-120\n",
      "-600\n",
      "300\n",
      "1\n",
      "1\n",
      "1\n",
      "1\n",
      "1\n",
      "-90\n",
      "-91\n",
      "-92\n",
      "----\n",
      "3200.0\n"
     ]
    }
   ],
   "source": [
    "# ну и собственно само задание\n",
    "make_input_file('in.txt',moneyrecords)\n",
    "print_contents_of_the_file('in.txt') # работает\n",
    "print('----')\n",
    "calc_total_spending_and_write_it_to_file('in.txt','out.txt')\n",
    "print_contents_of_the_file('out.txt')"
   ]
  },
  {
   "cell_type": "code",
   "execution_count": 105,
   "metadata": {},
   "outputs": [
    {
     "name": "stdout",
     "output_type": "stream",
     "text": [
      "/home/sivanov/lessons/lesson_6_hw\n"
     ]
    }
   ],
   "source": [
    "cd .."
   ]
  },
  {
   "cell_type": "code",
   "execution_count": 106,
   "metadata": {},
   "outputs": [],
   "source": [
    "rm -r tmp"
   ]
  },
  {
   "cell_type": "code",
   "execution_count": null,
   "metadata": {},
   "outputs": [],
   "source": [
    "#далее там всякие эксперименты"
   ]
  },
  {
   "cell_type": "code",
   "execution_count": 213,
   "metadata": {},
   "outputs": [
    {
     "data": {
      "text/plain": [
       "'ascii'"
      ]
     },
     "execution_count": 213,
     "metadata": {},
     "output_type": "execute_result"
    }
   ],
   "source": [
    "# разборки с кодировкой\n",
    "# дальше там фигня всякая\n",
    "from sys import getdefaultencoding\n",
    "getdefaultencoding()"
   ]
  },
  {
   "cell_type": "code",
   "execution_count": 157,
   "metadata": {},
   "outputs": [
    {
     "name": "stdout",
     "output_type": "stream",
     "text": [
      "кот cat\n",
      "1  cat\n",
      "2 ??? cat\n",
      "3 кот cat\n",
      "4 &#1082;&#1086;&#1090; cat\n",
      "5 \\u043a\\u043e\\u0442 cat\n"
     ]
    }
   ],
   "source": [
    "my_string = u'кот cat'\n",
    "\n",
    "type(my_string)  # unicode\n",
    "\n",
    "#my_string.encode()\n",
    "    # UnicodeDecodeError\n",
    "print(my_string)\n",
    "astring1 = my_string.encode(errors='ignore')\n",
    "    # u' cat'\n",
    "\n",
    "astring2 = my_string.encode(errors='replace')  \n",
    "    # u'??? cat'\n",
    "\n",
    "astring3 = my_string.encode('utf-8')  \n",
    "    # '\\xd0\\xba\\xd0\\xbe\\xd1\\x82 cat'\n",
    "\n",
    "astring4 = my_string.encode(errors='xmlcharrefreplace')\n",
    "    # 'кот cat'\n",
    "\n",
    "astring5 = my_string.encode(errors='backslashreplace')\n",
    "    # '\\\\u043a\\\\u043e\\\\u0442 cat'\n",
    "print('1 '+ astring1)\n",
    "print('2 '+ astring2)\n",
    "print('3 '+ astring3)\n",
    "print('4 '+ astring4)\n",
    "print('5 '+ astring5)"
   ]
  },
  {
   "cell_type": "code",
   "execution_count": 158,
   "metadata": {},
   "outputs": [],
   "source": [
    "#перепрыгнул проблему, продолжаю стирадать юникодом"
   ]
  },
  {
   "cell_type": "code",
   "execution_count": 162,
   "metadata": {},
   "outputs": [],
   "source": [
    "#import sys\n",
    "#sys.getdefaultencoding()\n",
    "# 'ascii'"
   ]
  },
  {
   "cell_type": "code",
   "execution_count": 163,
   "metadata": {},
   "outputs": [],
   "source": [
    "#крутая инфа по теме была в \n",
    "#https://nedbatchelder.com/text/unipain.html\n",
    "#"
   ]
  },
  {
   "cell_type": "code",
   "execution_count": null,
   "metadata": {},
   "outputs": [],
   "source": [
    "# всё гениальное\n",
    "#s.decode(encoding)\n",
    "#<type 'str'> to <type 'unicode'>\n",
    "#u.encode(encoding)\n",
    "#<type 'unicode'> to <type 'str'>\n",
    "# запись в файл только байты, то есть byte str\n",
    "\n",
    "\n"
   ]
  }
 ],
 "metadata": {
  "kernelspec": {
   "display_name": "Python 2",
   "language": "python",
   "name": "python2"
  },
  "language_info": {
   "codemirror_mode": {
    "name": "ipython",
    "version": 2
   },
   "file_extension": ".py",
   "mimetype": "text/x-python",
   "name": "python",
   "nbconvert_exporter": "python",
   "pygments_lexer": "ipython2",
   "version": "2.7.12"
  }
 },
 "nbformat": 4,
 "nbformat_minor": 2
}
