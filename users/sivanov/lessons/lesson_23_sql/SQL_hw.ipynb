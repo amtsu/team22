{
 "cells": [
  {
   "cell_type": "markdown",
   "id": "8512c2f8",
   "metadata": {},
   "source": [
    "Добрый день.<br>\n",
    "Задание по sql:<br>\n",
    "Нужно проанализировать информацию по продуктам. Представим что мы покупатели и наша цель выбрать подходящий момент для покупки, или мы продавец и нам надо понимать когда стоит повысить цену а когда ее снижать. Для этого нужно:<br>\n",
    "<ul>\n",
    "<li>Понять среднюю цену на продукт в конкретном магазине, посмотреть как цена и остатки  меняются в зависимости от даты обновления.\n",
    "\n",
    "<li>Для получения информации по цене надо построить таблицу содержащую следующие столбцы:<ol> <li>название товара,<li> магазин, <li>дата, <li>цена. </ol>\n",
    "\n",
    "<li>Чтобы понять как быстро раскупают товары можно построить таблицу обратив внимание на столбец с остатками.\n",
    "\n",
    "<li>Далее может добавить несколько покупателей, к ним добавить их траты. \n",
    "<li>И проанализировать:<ol> <li>какой самый частый товар покупают, <li>сколько в среднем каждый пользователь тратит на покупки, <li>среднюю цену покупки.</ol> \n",
    "<li>Вывести в одну таблицу сколько пользователь потратил в 1-ом квартале 22,  2-ом квартале 22,  3-ом квартале 22,  4-ом квартале 22.\n",
    "    </ul>"
   ]
  },
  {
   "cell_type": "markdown",
   "id": "b1555fc1",
   "metadata": {},
   "source": []
  },
  {
   "cell_type": "markdown",
   "id": "ae1f0d23",
   "metadata": {},
   "source": [
    "    #request = message.text\n",
    "    #request = request.replace(\"/sql\", \"\")\n",
    "    #request = request.strip()\n",
    "    #request = request.lower()\n",
    "    #if (request != \"\") and (\"drop\" not in request) and (\"alter\" not in request):\n",
    "        # process message\n",
    "        with sqlite3.connect(superhomosecret.DBFILEPATH) as connection:\n",
    "            cursor = connection.cursor()\n",
    "            try:\n",
    "                cursor.execute(request)\n",
    "                request_result = cursor.fetchall()\n",
    "            except:\n",
    "                request_result = \"bad request\"\n",
    "    else:\n",
    "        request_result = \"drop or alter is not allowed\"\n",
    "    await message.reply(request_result[-4000:])"
   ]
  },
  {
   "cell_type": "code",
   "execution_count": 18,
   "id": "5a813a7a",
   "metadata": {},
   "outputs": [],
   "source": [
    "import sqlite3\n",
    "def do_request(sqldata:str):\n",
    "    with sqlite3.connect('/tmp/sql_dump/db.sqlite3') as connection:\n",
    "        cursor = connection.cursor()\n",
    "        try:\n",
    "            cursor.execute(sqldata)\n",
    "            request_result = cursor.fetchall()\n",
    "        except sqlite3.DatabaseError as dberr:\n",
    "            request_result = dberr.args\n",
    "        print(request_result)"
   ]
  },
  {
   "cell_type": "code",
   "execution_count": 19,
   "id": "9092f3e3",
   "metadata": {},
   "outputs": [
    {
     "name": "stdout",
     "output_type": "stream",
     "text": [
      "[('Мичуринский 2 27 39.8 Озерная ул., вл. 7 55.687726,37.471704', 19647884), ('Южнопортовая 1 31 68.7 ул. Южнопортовая, вл.28-28а 55.705727,37.696445', 24214830), ('Мичуринский 6 15 86.9 Озерная ул., вл. 7 55.687726,37.471704', 44826261)]\n"
     ]
    }
   ],
   "source": [
    "do_request(\"\"\"\n",
    "select title, price\n",
    "from products_history \n",
    "where id in (1991, 1992, 1993 )\n",
    "\"\"\")"
   ]
  },
  {
   "cell_type": "code",
   "execution_count": null,
   "id": "14567dd1",
   "metadata": {},
   "outputs": [],
   "source": []
  }
 ],
 "metadata": {
  "kernelspec": {
   "display_name": "Python 3 (ipykernel)",
   "language": "python",
   "name": "python3"
  },
  "language_info": {
   "codemirror_mode": {
    "name": "ipython",
    "version": 3
   },
   "file_extension": ".py",
   "mimetype": "text/x-python",
   "name": "python",
   "nbconvert_exporter": "python",
   "pygments_lexer": "ipython3",
   "version": "3.9.7"
  }
 },
 "nbformat": 4,
 "nbformat_minor": 5
}
