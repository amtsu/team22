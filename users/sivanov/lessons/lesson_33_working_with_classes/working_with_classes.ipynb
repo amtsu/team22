{
 "cells": [
  {
   "cell_type": "code",
   "execution_count": null,
   "id": "80aae2c2",
   "metadata": {},
   "outputs": [],
   "source": [
    "# работа с классами"
   ]
  },
  {
   "cell_type": "code",
   "execution_count": 28,
   "id": "1ce2beda",
   "metadata": {},
   "outputs": [],
   "source": [
    "from typing import List\n",
    "from typing import Any\n",
    "from typing import Tuple"
   ]
  },
  {
   "cell_type": "code",
   "execution_count": null,
   "id": "cd3e29c7",
   "metadata": {},
   "outputs": [],
   "source": []
  },
  {
   "cell_type": "code",
   "execution_count": 41,
   "id": "f38bfc07",
   "metadata": {},
   "outputs": [],
   "source": [
    "# ===================================================================================\n",
    "class UltraStripper:\n",
    "    \"\"\"\n",
    "    удалить заданные символы из списка символов,формируемого при создании\n",
    "    \"\"\"\n",
    "\n",
    "    def __init__(self, trash_to_remove: Tuple[Any]) -> None:\n",
    "        \"\"\"\n",
    "        типа конструктор.\n",
    "        класс инициализируется списком, содержащим в себе всё что нужно будет\n",
    "        потом удалять\n",
    "        \"\"\"\n",
    "        self.__trash_to_remove = trash_to_remove\n",
    "\n",
    "    def __str__(self):\n",
    "        \"\"\"\n",
    "        конвертер UltraStripper в строку, ну, вроде того\n",
    "        \"\"\"\n",
    "        return \"str:\" + (\",\").join(self.__trash_to_remove)\n",
    "\n",
    "    def __repr__(self):\n",
    "        \"\"\"\n",
    "        повторяет __str__, зачем-то был нужен когда отлаживался\n",
    "        \"\"\"\n",
    "        return \"repr:\" + self.__str__()\n",
    "\n",
    "    def __call__(self, input_data: str) -> str:\n",
    "        \"\"\"\n",
    "        превращает объект класса UltraStripper в callable\n",
    "        \"\"\"\n",
    "        return self.__do_damage(input_data)\n",
    "    def do_cleaning(self, input_data: str) -> str:\n",
    "        \"\"\"\n",
    "        очищает данные\n",
    "        \"\"\"\n",
    "        return self.__do_damage(input_data)\n",
    "        \n",
    "    def __do_damage(self, input_data: str) -> str:\n",
    "        \"\"\"\n",
    "        скрытый метод, делающий всю работу по очистке входной строки от нежелательной\n",
    "        информации, в соответствии с данными, которыми класс был инициализирован\n",
    "        \"\"\"\n",
    "        result = input_data\n",
    "        for item in self.__trash_to_remove:\n",
    "            result = result.replace(item, \"\")\n",
    "        return result.strip()\n"
   ]
  },
  {
   "cell_type": "code",
   "execution_count": 40,
   "id": "11b862e4",
   "metadata": {},
   "outputs": [
    {
     "name": "stdout",
     "output_type": "stream",
     "text": [
      "str:i, ,got,apples\n"
     ]
    },
    {
     "data": {
      "text/plain": [
       "repr:str:i, ,got,apples"
      ]
     },
     "execution_count": 40,
     "metadata": {},
     "output_type": "execute_result"
    }
   ],
   "source": [
    "#dir(UltraStripper)\n",
    "#UltraStripper.__dir__()\n",
    "apples_stripper = UltraStripper((\"i\",\" \",\"got\",\"apples\"))\n",
    "print(apples_stripper)\n",
    "apples_stripper"
   ]
  },
  {
   "cell_type": "code",
   "execution_count": 42,
   "id": "7f537f65",
   "metadata": {},
   "outputs": [
    {
     "name": "stdout",
     "output_type": "stream",
     "text": [
      "34\n",
      "34\n",
      "65.4\n"
     ]
    }
   ],
   "source": [
    "raw_data = \"i got 34 apples\"\n",
    "apples_stripper = UltraStripper((\"i\",\" \",\"got\",\"apples\"))\n",
    "\n",
    "\n",
    "clean_data = apples_stripper(raw_data)\n",
    "print(clean_data)\n",
    "\n",
    "clean_data = apples_stripper.do_cleaning(raw_data)\n",
    "print(clean_data)\n",
    "\n",
    "\n",
    "raw_data_2 = \"i got 65.4 apples\"\n",
    "clean_data_2 = apples_stripper(raw_data_2)\n",
    "print(clean_data_2)"
   ]
  }
 ],
 "metadata": {
  "kernelspec": {
   "display_name": "Python 3 (ipykernel)",
   "language": "python",
   "name": "python3"
  },
  "language_info": {
   "codemirror_mode": {
    "name": "ipython",
    "version": 3
   },
   "file_extension": ".py",
   "mimetype": "text/x-python",
   "name": "python",
   "nbconvert_exporter": "python",
   "pygments_lexer": "ipython3",
   "version": "3.9.7"
  }
 },
 "nbformat": 4,
 "nbformat_minor": 5
}
