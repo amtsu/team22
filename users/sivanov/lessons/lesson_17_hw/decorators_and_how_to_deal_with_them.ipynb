{
 "cells": [
  {
   "cell_type": "code",
   "execution_count": 40,
   "metadata": {},
   "outputs": [],
   "source": [
    "# примерчики всякие.\n",
    "# вот отсюда https://skillbox.ru/media/code/gotovimsya_k_sobesedovaniyu_chto_takoe_dekoratory_v_python/\n"
   ]
  },
  {
   "cell_type": "code",
   "execution_count": 41,
   "metadata": {},
   "outputs": [
    {
     "name": "stdout",
     "output_type": "stream",
     "text": [
      "всем Привет\n"
     ]
    }
   ],
   "source": [
    "def say_hi():\n",
    "    return 'всем Привет'\n",
    "print(say_hi())"
   ]
  },
  {
   "cell_type": "code",
   "execution_count": 42,
   "metadata": {},
   "outputs": [],
   "source": [
    "def uppercase_decorator(function): # декоратор это функция, которая принимает на вход функцию, и возвращает обратно тоже функцию\n",
    "    def wrapper(): # внутри функции мы определим ещё одну функцию, которую и вернем\n",
    "        func = function() # теперь вызовем исходную функцию, переданную нам как параметр\n",
    "        make_uppercase = func.upper()  # проделаем с результатом какие-то действия\n",
    "        return make_uppercase # и вернем результат. \n",
    "    return wrapper"
   ]
  },
  {
   "cell_type": "code",
   "execution_count": 45,
   "metadata": {},
   "outputs": [
    {
     "name": "stdout",
     "output_type": "stream",
     "text": [
      "ВСЕМ ПРИВЕТ\n"
     ]
    }
   ],
   "source": [
    "@uppercase_decorator # как объявить декоратор при создании новой функции\n",
    "def say_hi():\n",
    "    return 'Всем Привет'\n",
    "print(say_hi())#вывод - нихера (а в третьем питоне заработало)"
   ]
  },
  {
   "cell_type": "code",
   "execution_count": 46,
   "metadata": {},
   "outputs": [
    {
     "name": "stdout",
     "output_type": "stream",
     "text": [
      "ВСЕМ ПРИВЕТ\n"
     ]
    }
   ],
   "source": [
    "say_hi = uppercase_decorator(say_hi)  # а так можно применить декоратор к уже готовой \n",
    "print(say_hi())"
   ]
  },
  {
   "cell_type": "code",
   "execution_count": 47,
   "metadata": {},
   "outputs": [
    {
     "name": "stdout",
     "output_type": "stream",
     "text": [
      "всем Привет\n",
      "ВСЕМ ПРИВЕТ\n"
     ]
    }
   ],
   "source": [
    "def say_hi2():\n",
    "    return u'всем Привет' #вернул юникод\n",
    "print(say_hi2())\n",
    "say_hi2 = uppercase_decorator(say_hi2)\n",
    "print(say_hi2()) # с юникодом заработало"
   ]
  },
  {
   "cell_type": "code",
   "execution_count": 48,
   "metadata": {},
   "outputs": [
    {
     "name": "stdout",
     "output_type": "stream",
     "text": [
      "Исходный синус: 0.8660254037844387\n",
      "Декорированный синус: -0.4999999999999998 (теперь он косинус, должен быть около 0.5)\n",
      "Вернули обратно синус: 0.8660254037844387\n"
     ]
    }
   ],
   "source": [
    "#можно делать разные приколы, например заменить синус на косинус\n",
    "import math\n",
    "from math import sin\n",
    "from math import cos\n",
    "arg = 2.*math.pi/(180)*60\n",
    "print('Исходный синус: %s' % (sin(arg)))\n",
    "def to_cos_decorator(function):\n",
    "    def wrapper(*args):\n",
    "        return cos(*args)\n",
    "    return wrapper\n",
    "sin = to_cos_decorator(sin)\n",
    "print('Декорированный синус: %s (теперь он косинус, должен быть около 0.5)' % (sin(arg))) # синус теперь косинус, чудненько\n",
    "sin = math.sin # вернем синус на место\n",
    "print('Вернули обратно синус: %s' % (sin(arg)))"
   ]
  },
  {
   "cell_type": "markdown",
   "metadata": {},
   "source": [
    "\n",
    "в общем, в абсолютности этих утверждений я сомневаюсь, но в целом тут написано всё верно<br>\n",
    "https://habr.com/ru/post/560572/<br>\n",
    "Мифы декораторов<br>\n",
    "\n",
    "    - Декораторы удобны. Думаю, с этим мы уже разобрались.\n",
    "\n",
    "    - В декораторы нужно передавать функции. Передавать можно не только функции, но и любые callable объекты. \n",
    "    Это такие объекты, у которых определён дандер метод (магический метод) __call__. \n",
    "    Этот метод отвечает за операции, которые будут произведены при вызове объекта \n",
    "    (когда вы ставите скобочки после имени объекта: object()). Вместо функции может быть метод или класс.\n",
    "\n",
    "    - Декораторы - это функции. И опять: это может быть любой callable объект.\n",
    "\n",
    "    - Декоратор возвращает функцию. Декоратор может возвращать что угодно. \n",
    "    Стоит лишь помнить, что если декоратор возвращает не callable объект, то вызывать его не получится.\n"
   ]
  },
  {
   "cell_type": "code",
   "execution_count": 49,
   "metadata": {},
   "outputs": [
    {
     "name": "stdout",
     "output_type": "stream",
     "text": [
      "fuckupper\n"
     ]
    }
   ],
   "source": [
    "# посмотрим, что будет, если декоратор вернёт не функцию\n",
    "def fukken_decorator(function):\n",
    "    def wrapper(*args):\n",
    "        return args[0]\n",
    "    return 'fuckupper'\n",
    "#    return wrapper\n",
    "\n",
    "@fukken_decorator\n",
    "def f_func(value):\n",
    "    print(value)\n",
    "    return value\n",
    "#print(f_func('shit')) # так уже не работает\n",
    "print(f_func) # функция превратилась в строку\n",
    "# усложненная запись f_func = 'fuckupper' получается"
   ]
  },
  {
   "cell_type": "code",
   "execution_count": 50,
   "metadata": {},
   "outputs": [
    {
     "name": "stdout",
     "output_type": "stream",
     "text": [
      "-------------1-------------\n",
      "-------------2-------------\n",
      "some class's __init__ called\n",
      "-------------3-------------\n",
      "some class's __init__ called\n",
      "some_class's __str__  called\n",
      "-------------4-------------\n",
      "some class's __init__ called\n",
      "-------------5-------------\n",
      "some_class's a_method called with parameter a_value\n",
      "-------------6-------------\n",
      "<class 'method'>\n",
      "ucase_decorator do the trick\n",
      "SOME_CLASS'S A_METHOD CALLED WITH PARAMETER A_VALUE (decorated)\n",
      "<class 'function'>\n",
      "-------------7-------------\n",
      "some class's __init__ called\n",
      "some_class's a_method called with parameter a_value\n",
      "-------------8-------------\n",
      "some_class called!\n",
      "-------------9-------------\n",
      "<class '__main__.some_class'>\n",
      "ucase_decorator do the trick\n",
      "<class 'function'>\n",
      "SOME_CLASS CALLED! (decorated)\n",
      "some class's __init__ called\n",
      "['__call__', '__class__', '__delattr__', '__dict__', '__dir__', '__doc__', '__eq__', '__format__', '__ge__', '__getattribute__', '__gt__', '__hash__', '__init__', '__init_subclass__', '__le__', '__lt__', '__module__', '__ne__', '__new__', '__reduce__', '__reduce_ex__', '__repr__', '__setattr__', '__sizeof__', '__str__', '__subclasshook__', '__weakref__', 'a_method']\n",
      "<class '__main__.some_class'>\n",
      "some_class called!\n",
      "some_class's a_method called with parameter a_value\n",
      "-------------10-------------\n",
      "some class's __init__ called\n",
      "ucase_decorator do the trick\n",
      "['__annotations__', '__call__', '__class__', '__closure__', '__code__', '__defaults__', '__delattr__', '__dict__', '__dir__', '__doc__', '__eq__', '__format__', '__ge__', '__get__', '__getattribute__', '__globals__', '__gt__', '__hash__', '__init__', '__init_subclass__', '__kwdefaults__', '__le__', '__lt__', '__module__', '__name__', '__ne__', '__new__', '__qualname__', '__reduce__', '__reduce_ex__', '__repr__', '__setattr__', '__sizeof__', '__str__', '__subclasshook__']\n",
      "<class 'function'>\n",
      "SOME_CLASS CALLED! (decorated)\n"
     ]
    }
   ],
   "source": [
    "#проверка как это работает с методами класса\n",
    "def ucase_decorator(function): # декоратор это функция, которая принимает на вход функцию, и возвращает обратно тоже функцию\n",
    "    print('ucase_decorator do the trick')\n",
    "    def wrapper(*args): # внутри функции мы определим ещё одну функцию, которую и вернем\n",
    "        #print ('wrapper for %s called' % (function.__name__)) # ай-ай обращение к \"приватному\" полю # и для классов не работает\n",
    "        func = function(*args) # теперь вызовем исходную функцию, переданную нам как параметр\n",
    "        make_uppercase = func.upper() + ' (decorated)'  # проделаем с результатом какие-то действия\n",
    "        return make_uppercase # и вернем результат. \n",
    "    return wrapper\n",
    "class some_class:\n",
    "    def __init__(self):\n",
    "        print('some class\\'s __init__ called')\n",
    "        return None # так надо\n",
    "    def __str__(self):\n",
    "        return 'some_class\\'s __str__  called'\n",
    "    def __call__(self):\n",
    "        return 'some_class called!'\n",
    "    def a_method(self,a_parameter):\n",
    "        return('some_class\\'s a_method called with parameter %s' % (a_parameter))\n",
    "    pass\n",
    "r = (i for i in range(1,100)) # генератор для одной фичи ниже (просто хочу порядковые номера разделителей)\n",
    "print('-------------%d-------------' % (next(r)))\n",
    "a_class = some_class # скопировал ОПИСАНИЕ класса (случайно)\n",
    "print('-------------%d-------------' % (next(r)))\n",
    "a_class()\n",
    "print('-------------%d-------------' % (next(r)))\n",
    "print(a_class()) # создали объект ()\n",
    "print('-------------%d-------------' % (next(r)))\n",
    "a_class = some_class() # создали объект\n",
    "print('-------------%d-------------' % (next(r)))\n",
    "print(a_class.a_method('a_value'))\n",
    "print('-------------%d-------------' % (next(r)))\n",
    "print(type(a_class.a_method))\n",
    "a_class.a_method = ucase_decorator(a_class.a_method)\n",
    "print(a_class.a_method(u'a_value'))# декорнули метод класса\n",
    "print(type(a_class.a_method))\n",
    "print('-------------%d-------------' % (next(r)))\n",
    "a_class.a_method = some_class().a_method\n",
    "print(a_class.a_method(u'a_value'))# починили метод класса\n",
    "print('-------------%d-------------' % (next(r)))\n",
    "print(a_class()) # класс как callable\n",
    "print('-------------%d-------------' % (next(r)))\n",
    "print(type(a_class)) # сначала a_class был объектом\n",
    "a_class = ucase_decorator(a_class) # зашибись, сработал без 'u'\n",
    "print(type(a_class)) # потом он стал простой функцией, после декорирования\n",
    "print(a_class())\n",
    "#r = (i for i in range(1,100))\n",
    "a_class = some_class() # создали класс\n",
    "print(dir(a_class)) # его состав \n",
    "print(type(a_class)) # его тип (instance)\n",
    "print(a_class())\n",
    "print(a_class.a_method('a_value'))\n",
    "print('-------------%d-------------' % (next(r)))\n",
    "a_class = ucase_decorator(some_class()) # задекорировали класс в функцию при создании (это возможно, так как у класса есть метод __call__)\n",
    "print(dir(a_class))# его состав\n",
    "print(type(a_class))# его тип (function)\n",
    "print(a_class())\n",
    "#print(a_class.a_method('a_value')) #херушки\n"
   ]
  },
  {
   "cell_type": "code",
   "execution_count": 51,
   "metadata": {},
   "outputs": [
    {
     "name": "stdout",
     "output_type": "stream",
     "text": [
      "ucase_decorator do the trick\n",
      "ucase_decorator do the trick\n",
      "ucase_decorator do the trick\n",
      "-------------1-------------\n",
      "-------------2-------------\n",
      "some class's __init__ (undecoratable) called\n",
      "-------------3-------------\n",
      "some class's __init__ (undecoratable) called\n",
      "SOME_CLASS'S __STR__ CALLED (decorated)\n",
      "-------------4-------------\n",
      "some class's __init__ (undecoratable) called\n",
      "-------------5-------------\n",
      "SOME_CLASS'S A_METHOD CALLED WITH PARAMETER A_VALUE (decorated)\n",
      "-------------6-------------\n",
      "декорнули метод класса (ещё раз, дважды декорированный метод)\n",
      "ucase_decorator do the trick\n",
      "SOME_CLASS'S A_METHOD CALLED WITH PARAMETER A_VALUE (DECORATED) (decorated)\n",
      "-------------7-------------\n",
      "починили метод класса (вернули в однократно декорированный вид)\n",
      "some class's __init__ (undecoratable) called\n",
      "SOME_CLASS'S A_METHOD CALLED WITH PARAMETER A_VALUE (decorated)\n",
      "-------------8-------------\n",
      "SOME_CLASS'S __CALL__ CALLED! (decorated)\n",
      "-------------9-------------\n",
      "<class '__main__.some_class'>\n",
      "ucase_decorator do the trick\n",
      "<class 'function'>\n",
      "SOME_CLASS'S __CALL__ CALLED! (DECORATED) (decorated)\n"
     ]
    }
   ],
   "source": [
    "#проверка как это работает с методами класса (часть 2)\n",
    "def ucase_decorator(function): # декоратор это функция, которая принимает на вход функцию, и возвращает обратно тоже функцию\n",
    "    print('ucase_decorator do the trick')\n",
    "    def wrapper(*args): # внутри функции мы определим ещё одну функцию, которую и вернем\n",
    "        #print ('wrapper for %s called' % (function.__name__)) # ай-ай обращение к \"приватному\" полю # и для классов не работает\n",
    "        func = function(*args) # теперь вызовем исходную функцию, переданную нам как параметр\n",
    "        make_uppercase = func.upper() + ' (decorated)'  # проделаем с результатом какие-то действия\n",
    "        return make_uppercase # и вернем результат. \n",
    "    return wrapper\n",
    "class some_class:\n",
    "    def __init__(self):\n",
    "        print('some class\\'s __init__ (undecoratable) called')\n",
    "        return None # так надо\n",
    "    @ucase_decorator\n",
    "    def __str__(self):\n",
    "        return 'some_class\\'s __str__ called'\n",
    "    @ucase_decorator\n",
    "    def __call__(self):\n",
    "        return 'some_class\\'s __call__ called!'\n",
    "    @ucase_decorator\n",
    "    def a_method(self,a_parameter):\n",
    "        return('some_class\\'s a_method called with parameter %s' % (a_parameter))\n",
    "    pass\n",
    "r = (i for i in range(1,100)) # генератор для одной фичи ниже (просто хочу порядковые номера разделителей)\n",
    "print('-------------%d-------------' % (next(r)))\n",
    "a_class = some_class # скопировал ОПИСАНИЕ класса (случайно)\n",
    "print('-------------%d-------------' % (next(r)))\n",
    "a_class()\n",
    "print('-------------%d-------------' % (next(r)))\n",
    "print(a_class()) # создали объект ()\n",
    "print('-------------%d-------------' % (next(r)))\n",
    "a_class = some_class() # создали объект\n",
    "print('-------------%d-------------' % (next(r)))\n",
    "print(a_class.a_method('a_value'))\n",
    "print('-------------%d-------------' % (next(r)))\n",
    "print('декорнули метод класса (ещё раз, дважды декорированный метод)')\n",
    "a_class.a_method = ucase_decorator(a_class.a_method)\n",
    "print(a_class.a_method(u'a_value'))# декорнули метод класса\n",
    "print('-------------%d-------------' % (next(r)))\n",
    "print('починили метод класса (вернули в однократно декорированный вид)')\n",
    "a_class.a_method = some_class().a_method\n",
    "print(a_class.a_method(u'a_value'))# починили метод класса\n",
    "print('-------------%d-------------' % (next(r)))\n",
    "print(a_class()) # класс как callable\n",
    "print('-------------%d-------------' % (next(r)))\n",
    "print(type(a_class)) # сначала a_class был объектом\n",
    "a_class = ucase_decorator(a_class) # зашибись, сработал без 'u'\n",
    "print(type(a_class)) # потом он стал простой функцией, после декорирования\n",
    "print(a_class())"
   ]
  },
  {
   "cell_type": "code",
   "execution_count": 12,
   "metadata": {},
   "outputs": [],
   "source": [
    "# и тут возникает вопрос, какие нахер методы и члены у функции. ответ очевиден, функции это тоже объекты\n",
    "# поэтому разумнее декорировать всё в какой-то класс, а не в функцию."
   ]
  },
  {
   "cell_type": "code",
   "execution_count": 54,
   "metadata": {},
   "outputs": [
    {
     "name": "stdout",
     "output_type": "stream",
     "text": [
      "-------------1-------------\n",
      "-------------2-------------\n",
      "some class's __init__ called\n",
      "-------------3-------------\n",
      "some class's __init__ called\n",
      "some_class's __str__  called\n",
      "-------------4-------------\n",
      "some class's __init__ called\n",
      "-------------5-------------\n",
      "some_class's a_method called with parameter a_value\n",
      "-------------6-------------\n",
      "<class 'method'>\n",
      "ucase_decorator do the trick\n",
      "SOME_CLASS'S A_METHOD CALLED WITH PARAMETER A_VALUE decorated\n",
      "<class '__main__.ucase_c_decorator'>\n",
      "-------------7-------------\n",
      "some class's __init__ called\n",
      "some_class's a_method called with parameter a_value\n",
      "-------------8-------------\n",
      "some_class called!\n",
      "-------------9-------------\n",
      "<class '__main__.some_class'>\n",
      "ucase_decorator do the trick\n",
      "<class '__main__.ucase_c_decorator'>\n",
      "SOME_CLASS CALLED! decorated\n"
     ]
    }
   ],
   "source": [
    "#проверка как это работает с классом - декоратором\n",
    "class ucase_c_decorator: # декоратор это класс, которая инициализируется функцией, и возвращает обратно класс\n",
    "    def __init__(self, something):\n",
    "        self.__base_something = something\n",
    "        print('ucase_decorator do the trick')\n",
    "        return\n",
    "    def __call__(self,*args): # вcего-то изменений ('это не сложно, говорили они')\n",
    "        #print ('wrapper for %s called' % (function.__name__)) # ай-ай обращение к \"приватному\" полю # и для классов не работает\n",
    "        something = self.__base_something(*args) # теперь вызовем исходную функцию, переданную нам как параметр\n",
    "        make_uppercase = something.upper() + ' decorated' # проделаем с результатом какие-то действия\n",
    "        return make_uppercase # и вернем результат.\n",
    "    pass\n",
    "class some_class:\n",
    "    def __init__(self):\n",
    "        print('some class\\'s __init__ called')\n",
    "        return None # так надо\n",
    "    def __str__(self):\n",
    "        return 'some_class\\'s __str__  called'\n",
    "    def __call__(self):\n",
    "        return 'some_class called!'\n",
    "    def a_method(self,a_parameter):\n",
    "        return('some_class\\'s a_method called with parameter %s' % (a_parameter))\n",
    "    pass\n",
    "r = (i for i in range(1,100)) # генератор для одной фичи ниже (просто хочу порядковые номера разделителей)\n",
    "print('-------------%d-------------' % (next(r)))\n",
    "a_class = some_class # скопировал ОПИСАНИЕ класса (случайно)\n",
    "print('-------------%d-------------' % (next(r)))\n",
    "a_class()\n",
    "print('-------------%d-------------' % (next(r)))\n",
    "print(a_class()) # создали объект ()\n",
    "print('-------------%d-------------' % (next(r)))\n",
    "a_class = some_class() # создали объект\n",
    "print('-------------%d-------------' % (next(r)))\n",
    "print(a_class.a_method('a_value'))\n",
    "print('-------------%d-------------' % (next(r)))\n",
    "print(type(a_class.a_method))\n",
    "a_class.a_method = ucase_c_decorator(a_class.a_method)\n",
    "print(a_class.a_method(u'a_value'))# декорнули метод класса\n",
    "print(type(a_class.a_method))\n",
    "print('-------------%d-------------' % (next(r)))\n",
    "a_class.a_method = some_class().a_method\n",
    "print(a_class.a_method(u'a_value'))# починили метод класса\n",
    "print('-------------%d-------------' % (next(r)))\n",
    "print(a_class()) # класс как callable\n",
    "print('-------------%d-------------' % (next(r)))\n",
    "print(type(a_class)) # сначала a_class был объектом\n",
    "a_class = ucase_c_decorator(a_class) # зашибись, сработал без 'u'\n",
    "print(type(a_class)) # потом он стал простой функцией, после декорирования\n",
    "print(a_class())\n",
    "#print(a_class.a_method()) # больше нет такого метода, сменился тип"
   ]
  },
  {
   "cell_type": "code",
   "execution_count": 55,
   "metadata": {},
   "outputs": [
    {
     "name": "stdout",
     "output_type": "stream",
     "text": [
      "some class's __init__ called\n",
      "['__call__', '__class__', '__delattr__', '__dict__', '__dir__', '__doc__', '__eq__', '__format__', '__ge__', '__getattribute__', '__gt__', '__hash__', '__init__', '__init_subclass__', '__le__', '__lt__', '__module__', '__ne__', '__new__', '__reduce__', '__reduce_ex__', '__repr__', '__setattr__', '__sizeof__', '__str__', '__subclasshook__', '__weakref__', 'a_method']\n",
      "<class '__main__.some_class'>\n",
      "some_class called!\n",
      "some_class's a_method called with parameter a_value\n",
      "-------------1-------------\n",
      "some class's __init__ called\n",
      "ucase_decorator do the trick\n",
      "['__call__', '__class__', '__delattr__', '__dict__', '__dir__', '__doc__', '__eq__', '__format__', '__ge__', '__getattribute__', '__gt__', '__hash__', '__init__', '__init_subclass__', '__le__', '__lt__', '__module__', '__ne__', '__new__', '__reduce__', '__reduce_ex__', '__repr__', '__setattr__', '__sizeof__', '__str__', '__subclasshook__', '__weakref__', '_ucase_c_decorator__base_something']\n",
      "<class '__main__.ucase_c_decorator'>\n",
      "SOME_CLASS CALLED! decorated\n"
     ]
    }
   ],
   "source": [
    "r = (i for i in range(1,100))\n",
    "a_class = some_class() # создали класс\n",
    "print(dir(a_class)) # его состав \n",
    "print(type(a_class)) # его тип (instance)\n",
    "print(a_class())\n",
    "print(a_class.a_method('a_value'))\n",
    "print('-------------%d-------------' % (next(r)))\n",
    "a_class = ucase_c_decorator(some_class()) # задекорировали класс в функцию при создании (это возможно, так как у класса есть метод __call__)\n",
    "print(dir(a_class))# его состав\n",
    "print(type(a_class))# его тип (function)\n",
    "print(a_class())\n",
    "#print(a_class.a_method('a_value')) #ве ещё херушки, что в целом очевидно"
   ]
  },
  {
   "cell_type": "code",
   "execution_count": 56,
   "metadata": {},
   "outputs": [
    {
     "name": "stdout",
     "output_type": "stream",
     "text": [
      "-------------1-------------\n",
      "SOME_CLASS'S A_METHOD CALLED WITH PARAMETER A_VALUE (decorated)\n",
      "SOME_CLASS'S A_SECOND_METHOD CALLED WITH PARAMETER A_VALUE (decorated)\n",
      "SOME_CLASS CALLED! (decorated)\n",
      "SOME_CLASS'S __STR__  CALLED (decorated)\n",
      "-------------2-------------\n",
      "some undecorated class's a_method called with parameter a_value\n",
      "SOME UNDECORATED CLASS'S A_METHOD CALLED WITH PARAMETER A_VALUE (decorated)\n",
      "-------------3-------------\n",
      "SOME UNDECORATED CLASS CALLED! (decorated)\n",
      "SOME UNDECORATED CLASS'S __STR__  CALLED (decorated)\n"
     ]
    }
   ],
   "source": [
    "#что-то перестало получаться, начал читать https://tirinox.ru/class-decorator/ \n",
    "# и https://tirinox.ru/parametric-decorator/\n",
    "#проверка как это работает с классом - декоратором часть 2\n",
    "class ucase_c_decorator: # декоратор это класс, которая инициализируется классом, и возвращает обратно класс\n",
    "    #--------------------------------------------------------------------\n",
    "    #метод, который собственно и будет декорировать. \n",
    "    def decorate (self,function):\n",
    "        def wrapper( *args, **kwargs):\n",
    "            something = function(*args, **kwargs)\n",
    "            make_uppercase = something.upper() + ' (decorated)'  # проделаем с результатом какие-то действия\n",
    "            return make_uppercase # и вернем результат.\n",
    "        return wrapper\n",
    "    #--------------------------------------------------------------------\n",
    "    def __init__(self, something):   \n",
    "        class NewCls(): # для этого класса - wrapper`a переименовываю self в NewCls_self, \n",
    "                        # чтобы не было конфликта с self из ucase_c_decorator.__init__()\n",
    "            \n",
    "            def __init__(NewCls_self, *args, **kwargs):\n",
    "                NewCls_self._obj = something(*args, **kwargs)\n",
    "                \n",
    "            def __getattribute__(NewCls_self, attribute_name):\n",
    "                try:            \n",
    "                    # тут дальше интересный прикол с рекурсией,\n",
    "                    # но вот так вот получается более объявнимо, без super()\n",
    "                    # https://stackoverflow.com/questions/371753/how-do-i-implement-getattribute-without-an-infinite-recursion-error\n",
    "                    x = object.__getattribute__(NewCls_self,attribute_name)                                                                                                         \n",
    "                except AttributeError:\n",
    "                    # x = object.__getattribute__(NewCls_self,attribute_name) не нашел нужный атрибут\n",
    "                    pass\n",
    "                else:\n",
    "                    #выполнится для x = object.__getattribute__(NewCls_self,attribute_name)\n",
    "                    return x\n",
    "                # вот теперь мы точно знаем что аттрибут есть s\n",
    "                attr = NewCls_self._obj.__getattribute__(attribute_name)\n",
    "                # метод ли он?\n",
    "                if isinstance(attr, type(NewCls_self.__init__)):\n",
    "                # да, декорировать\n",
    "                    #print(attribute_name)\n",
    "                    return self.decorate(attr) # self из ucase_c_decorator.__init__()\n",
    "                else:\n",
    "                # не метод, что-то другое\n",
    "                    return attr\n",
    "            # вывод на печать   (похоже на костыль), просто по другому похоже никак  \n",
    "            def __str__(NewCls_self):\n",
    "                return self.decorate(NewCls_self._obj.__str__)()\n",
    "            \n",
    "            def __call__(NewCls_self):\n",
    "                return self.decorate(NewCls_self._obj)()\n",
    "            # вот так можно сломать код, определяющий нужный атрибут, и не декорировать a_method, например\n",
    "            #def a_method(NewCls_self,a_parameter):\n",
    "            #    return('some_class\\'s a_method called with parameter %s' % (a_parameter)) \n",
    "            pass\n",
    "        self.__base_something = something     \n",
    "        self.__new_something = NewCls()        \n",
    "        return None\n",
    "    #--------------------------------------------------------------------\n",
    "    def __call__(self): # вcего-то изменений ('это не сложно, говорили они') \n",
    "        return self.__new_something\n",
    "    pass\n",
    "#===================================================================================================================\n",
    "@ucase_c_decorator\n",
    "class some_class:\n",
    "    def __init__(self):\n",
    "        return None # так надо\n",
    "    def __str__(self):\n",
    "        return 'some_class\\'s __str__  called'\n",
    "    def __call__(self):\n",
    "        return u'some_class called!'\n",
    "    def a_method(self,a_parameter):\n",
    "        return('some_class\\'s a_method called with parameter %s' % (a_parameter))\n",
    "    def a_second_method(self,a_parameter):\n",
    "        return('some_class\\'s a_second_method called with parameter %s' % (a_parameter))\n",
    "    pass\n",
    "#==========================================================================================\n",
    "class some_undecorated_class:\n",
    "    def __init__(self):\n",
    "        return None # так надо\n",
    "    def __str__(self):\n",
    "        return 'some undecorated class\\'s __str__  called'\n",
    "    def __call__(self):\n",
    "        return u'some undecorated class called!'\n",
    "    def a_method(self,a_parameter):\n",
    "        return('some undecorated class\\'s a_method called with parameter %s' % (a_parameter))\n",
    "    pass\n",
    "#==================================================================================================================\n",
    "r = (i for i in range(1,100)) # генератор для одной фичи ниже (просто хочу порядковые номера разделителей)\n",
    "print('-------------%d-------------' % (next(r)))\n",
    "a_class = some_class() # создали объект\n",
    "print(a_class.a_method('a_value'))\n",
    "print(a_class.a_second_method('a_value'))\n",
    "print(a_class()) # !!!! теперь прокатит! (но нужно отдельно писать NewCls.__call__) так не прокатит теперь, потому что для такого неявного вызова не вызывается __getattribute__\n",
    "#print(a_class.__call__()) # а так - можно, но ощущения не те.\n",
    "#print('-------------%d-------------' % (next(r)))\n",
    "print(a_class) # вот это вообще адова конструкция\n",
    "#print(dir(a_class))\n",
    "#print(dir(a_class._obj))\n",
    "print('-------------%d-------------' % (next(r)))\n",
    "an_undecorated_class = some_undecorated_class\n",
    "#print(type(an_undecorated_class))\n",
    "#print(an_undecorated_class)\n",
    "print(an_undecorated_class().a_method(u'a_value'))# \n",
    "the_decorated_class = ucase_c_decorator(an_undecorated_class)\n",
    "print(the_decorated_class().a_method(u'a_value'))# нужно было просто расслабиться, и всё пришло само\n",
    "print('-------------%d-------------' % (next(r)))\n",
    "the_decorated_instance = the_decorated_class()\n",
    "print(the_decorated_instance())  # так прокатит\n",
    "print(the_decorated_instance) # __str__, написанный отдельно."
   ]
  },
  {
   "cell_type": "code",
   "execution_count": null,
   "metadata": {},
   "outputs": [],
   "source": []
  },
  {
   "cell_type": "code",
   "execution_count": null,
   "metadata": {},
   "outputs": [],
   "source": []
  }
 ],
 "metadata": {
  "kernelspec": {
   "display_name": "Python 3 (ipykernel)",
   "language": "python",
   "name": "python3"
  },
  "language_info": {
   "codemirror_mode": {
    "name": "ipython",
    "version": 3
   },
   "file_extension": ".py",
   "mimetype": "text/x-python",
   "name": "python",
   "nbconvert_exporter": "python",
   "pygments_lexer": "ipython3",
   "version": "3.9.7"
  }
 },
 "nbformat": 4,
 "nbformat_minor": 2
}
