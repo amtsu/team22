{
 "cells": [
  {
   "cell_type": "code",
   "execution_count": null,
   "metadata": {},
   "outputs": [],
   "source": [
    "# примерчики всякие.\n",
    "# вот отсюда https://skillbox.ru/media/code/gotovimsya_k_sobesedovaniyu_chto_takoe_dekoratory_v_python/\n"
   ]
  },
  {
   "cell_type": "code",
   "execution_count": 17,
   "metadata": {},
   "outputs": [
    {
     "name": "stdout",
     "output_type": "stream",
     "text": [
      "всем Привет\n"
     ]
    }
   ],
   "source": [
    "def say_hi():\n",
    "    return 'всем Привет'\n",
    "print(say_hi())"
   ]
  },
  {
   "cell_type": "code",
   "execution_count": 18,
   "metadata": {},
   "outputs": [],
   "source": [
    "def uppercase_decorator(function): # декоратор это функция, которая принимает на вход функцию, и возвращает обратно тоже функцию\n",
    "    def wrapper(): # внутри функции мы определим ещё одну функцию, которую и вернем\n",
    "        func = function() # теперь вызовем исходную функцию, переданную нам как параметр\n",
    "        make_uppercase = func.upper()  # проделаем с результатом какие-то действия\n",
    "        return make_uppercase # и вернем результат. \n",
    "    return wrapper"
   ]
  },
  {
   "cell_type": "code",
   "execution_count": 19,
   "metadata": {},
   "outputs": [
    {
     "name": "stdout",
     "output_type": "stream",
     "text": [
      "Всем Привет\n"
     ]
    }
   ],
   "source": [
    "@uppercase_decorator # как объявить декоратор при создании новой функции\n",
    "def say_hi():\n",
    "    return 'Всем Привет'\n",
    "print(say_hi())#вывод - нихера"
   ]
  },
  {
   "cell_type": "code",
   "execution_count": 20,
   "metadata": {},
   "outputs": [
    {
     "name": "stdout",
     "output_type": "stream",
     "text": [
      "Всем Привет\n"
     ]
    }
   ],
   "source": [
    "say_hi = uppercase_decorator(say_hi)  # а так можно применить декоратор к уже готовой \n",
    "print(say_hi())"
   ]
  },
  {
   "cell_type": "code",
   "execution_count": 22,
   "metadata": {},
   "outputs": [
    {
     "name": "stdout",
     "output_type": "stream",
     "text": [
      "всем Привет\n",
      "ВСЕМ ПРИВЕТ\n"
     ]
    }
   ],
   "source": [
    "def say_hi2():\n",
    "    return u'всем Привет' #вернул юникод\n",
    "print(say_hi2())\n",
    "say_hi2 = uppercase_decorator(say_hi2)\n",
    "print(say_hi2()) # с юникодом заработало"
   ]
  },
  {
   "cell_type": "code",
   "execution_count": 35,
   "metadata": {},
   "outputs": [
    {
     "name": "stdout",
     "output_type": "stream",
     "text": [
      "Исходный синус: 0.866025403784\n",
      "Декорированный синус: -0.5 (теперь он косинус, должен быть около 0.5)\n",
      "Вернули обратно синус: 0.866025403784\n"
     ]
    }
   ],
   "source": [
    "#можно делать разные приколы, например заменить синус на косинус\n",
    "import math\n",
    "from math import sin\n",
    "from math import cos\n",
    "arg = 2.*math.pi/(180)*60\n",
    "print('Исходный синус: %s' % (sin(arg)))\n",
    "def to_cos_decorator(function):\n",
    "    def wrapper(*args):\n",
    "        return cos(*args)\n",
    "    return wrapper\n",
    "sin = to_cos_decorator(sin)\n",
    "print('Декорированный синус: %s (теперь он косинус, должен быть около 0.5)' % (sin(arg))) # синус теперь косинус, чудненько\n",
    "sin = math.sin # вернем синус на место\n",
    "print('Вернули обратно синус: %s' % (sin(arg)))"
   ]
  },
  {
   "cell_type": "code",
   "execution_count": null,
   "metadata": {},
   "outputs": [],
   "source": [
    "\"\"\"\n",
    "https://habr.com/ru/post/560572/\n",
    "Мифы декораторов\n",
    "\n",
    "    - Декораторы удобны. Думаю, с этим мы уже разобрались.\n",
    "\n",
    "    - В декораторы нужно передавать функции. Передавать можно не только функции, но и любые callable объекты. \n",
    "    Это такие объекты, у которых определён дандер метод (магический метод) __call__. \n",
    "    Этот метод отвечает за операции, которые будут произведены при вызове объекта \n",
    "    (когда вы ставите скобочки после имени объекта: object()). Вместо функции может быть метод или класс.\n",
    "\n",
    "    - Декораторы - это функции. И опять: это может быть любой callable объект.\n",
    "\n",
    "    Декоратор возвращает функцию. Декоратор может возвращать что угодно. \n",
    "    Стоит лишь помнить, что если декоратор возвращает не callable объект, то вызывать его не получится.\n",
    "\"\"\""
   ]
  },
  {
   "cell_type": "code",
   "execution_count": 42,
   "metadata": {},
   "outputs": [
    {
     "name": "stdout",
     "output_type": "stream",
     "text": [
      "fuckupper\n"
     ]
    }
   ],
   "source": [
    "# посмотрим, что будет, если декоратор вернёт не функцию\n",
    "def fukken_decorator(function):\n",
    "    def wrapper(*args):\n",
    "        return args[0]\n",
    "    return 'fuckupper'\n",
    "#    return wrapper\n",
    "\n",
    "@fukken_decorator\n",
    "def f_func(value):\n",
    "    print(value)\n",
    "    return value\n",
    "#print(f_func('shit')) # так уже не работает\n",
    "print(f_func) # функция превратилась в строку\n",
    "# усложненная запись f_func = 'fuckupper' получается"
   ]
  },
  {
   "cell_type": "code",
   "execution_count": 108,
   "metadata": {},
   "outputs": [
    {
     "name": "stdout",
     "output_type": "stream",
     "text": [
      "-------------1-------------\n",
      "-------------2-------------\n",
      "some class's __init__ called\n",
      "-------------3-------------\n",
      "some class's __init__ called\n",
      "some_class's __str__  called\n",
      "-------------4-------------\n",
      "some class's __init__ called\n",
      "-------------5-------------\n",
      "some_class's a_method called with parameter a_value\n",
      "-------------6-------------\n",
      "ucase_decorator do the trick\n",
      "SOME_CLASS'S A_METHOD CALLED WITH PARAMETER A_VALUE\n",
      "-------------7-------------\n",
      "some class's __init__ called\n",
      "some_class's a_method called with parameter a_value\n",
      "-------------8-------------\n",
      "some_class called!\n",
      "-------------9-------------\n",
      "<type 'instance'>\n",
      "ucase_decorator do the trick\n",
      "<type 'function'>\n",
      "SOME_CLASS CALLED!\n"
     ]
    }
   ],
   "source": [
    "#проверка как это работает с методами класса\n",
    "def ucase_decorator(function): # декоратор это функция, которая принимает на вход функцию, и возвращает обратно тоже функцию\n",
    "    print('ucase_decorator do the trick')\n",
    "    def wrapper(*args): # внутри функции мы определим ещё одну функцию, которую и вернем\n",
    "        #print ('wrapper for %s called' % (function.__name__)) # ай-ай обращение к \"приватному\" полю # и для классов не работает\n",
    "        func = function(*args) # теперь вызовем исходную функцию, переданную нам как параметр\n",
    "        make_uppercase = func.upper()  # проделаем с результатом какие-то действия\n",
    "        return make_uppercase # и вернем результат. \n",
    "    return wrapper\n",
    "class some_class:\n",
    "    def __init__(self):\n",
    "        print('some class\\'s __init__ called')\n",
    "        return None # так надо\n",
    "    def __str__(self):\n",
    "        return 'some_class\\'s __str__  called'\n",
    "    def __call__(self):\n",
    "        return 'some_class called!'\n",
    "    def a_method(self,a_parameter):\n",
    "        return('some_class\\'s a_method called with parameter %s' % (a_parameter))\n",
    "    pass\n",
    "r = (i for i in range(1,100)) # генератор для одной фичи ниже (просто хочу порядковые номера разделителей)\n",
    "print('-------------%d-------------' % (next(r)))\n",
    "a_class = some_class # скопировал ОПИСАНИЕ класса (случайно)\n",
    "print('-------------%d-------------' % (next(r)))\n",
    "a_class()\n",
    "print('-------------%d-------------' % (next(r)))\n",
    "print(a_class()) # создали объект ()\n",
    "print('-------------%d-------------' % (next(r)))\n",
    "a_class = some_class() # создали объект\n",
    "print('-------------%d-------------' % (next(r)))\n",
    "print(a_class.a_method('a_value'))\n",
    "print('-------------%d-------------' % (next(r)))\n",
    "a_class.a_method = ucase_decorator(a_class.a_method)\n",
    "print(a_class.a_method(u'a_value'))# декорнули метод класса\n",
    "print('-------------%d-------------' % (next(r)))\n",
    "a_class.a_method = some_class().a_method\n",
    "print(a_class.a_method(u'a_value'))# починили метод класса\n",
    "print('-------------%d-------------' % (next(r)))\n",
    "print(a_class()) # класс как callable\n",
    "print('-------------%d-------------' % (next(r)))\n",
    "print(type(a_class)) # сначала a_class был объектом\n",
    "a_class = ucase_decorator(a_class) # зашибись, сработал без 'u'\n",
    "print(type(a_class)) # потом он стал простой функцией, после декорирования\n",
    "print(a_class())"
   ]
  },
  {
   "cell_type": "code",
   "execution_count": 109,
   "metadata": {},
   "outputs": [
    {
     "name": "stdout",
     "output_type": "stream",
     "text": [
      "some class's __init__ called\n",
      "['__call__', '__doc__', '__init__', '__module__', '__str__', 'a_method']\n",
      "<type 'instance'>\n",
      "some_class called!\n",
      "some_class's a_method called with parameter a_value\n",
      "-------------1-------------\n",
      "some class's __init__ called\n",
      "ucase_decorator do the trick\n",
      "['__call__', '__class__', '__closure__', '__code__', '__defaults__', '__delattr__', '__dict__', '__doc__', '__format__', '__get__', '__getattribute__', '__globals__', '__hash__', '__init__', '__module__', '__name__', '__new__', '__reduce__', '__reduce_ex__', '__repr__', '__setattr__', '__sizeof__', '__str__', '__subclasshook__', 'func_closure', 'func_code', 'func_defaults', 'func_dict', 'func_doc', 'func_globals', 'func_name']\n",
      "<type 'function'>\n",
      "SOME_CLASS CALLED!\n"
     ]
    }
   ],
   "source": [
    "r = (i for i in range(1,100))\n",
    "a_class = some_class() # создали класс\n",
    "print(dir(a_class)) # его состав \n",
    "print(type(a_class)) # его тип (instance)\n",
    "print(a_class())\n",
    "print(a_class.a_method('a_value'))\n",
    "print('-------------%d-------------' % (next(r)))\n",
    "a_class = ucase_decorator(some_class()) # задекорировали класс в функцию при создании (это возможно, так как у класса есть метод __call__)\n",
    "print(dir(a_class))# его состав\n",
    "print(type(a_class))# его тип (function)\n",
    "print(a_class())\n",
    "#print(a_class.a_method('a_value')) #херушки\n"
   ]
  },
  {
   "cell_type": "code",
   "execution_count": 110,
   "metadata": {},
   "outputs": [],
   "source": [
    "# и тут возникает вопрос, какие нахер методы и члены у функции. ответ очевиден, функции это тоже объекты\n",
    "# поэтому разумнее декорировать всё в какой-то класс, а не в функцию."
   ]
  },
  {
   "cell_type": "code",
   "execution_count": 129,
   "metadata": {},
   "outputs": [
    {
     "name": "stdout",
     "output_type": "stream",
     "text": [
      "-------------1-------------\n",
      "-------------2-------------\n",
      "some class's __init__ called\n",
      "-------------3-------------\n",
      "some class's __init__ called\n",
      "some_class's __str__  called\n",
      "-------------4-------------\n",
      "some class's __init__ called\n",
      "-------------5-------------\n",
      "some_class's a_method called with parameter a_value\n",
      "-------------6-------------\n",
      "ucase_decorator do the trick\n",
      "SOME_CLASS'S A_METHOD CALLED WITH PARAMETER A_VALUE\n",
      "-------------7-------------\n",
      "some class's __init__ called\n",
      "some_class's a_method called with parameter a_value\n",
      "-------------8-------------\n",
      "some_class called!\n",
      "-------------9-------------\n",
      "<type 'instance'>\n",
      "ucase_decorator do the trick\n",
      "<type 'instance'>\n",
      "SOME_CLASS CALLED!\n"
     ]
    }
   ],
   "source": [
    "#проверка как это работает с классом - декоратором\n",
    "class ucase_c_decorator: # декоратор это класс, которая инициализируется функцией, и возвращает обратно класс\n",
    "    def __init__(self, something):\n",
    "        self.__base_something = something\n",
    "        print('ucase_decorator do the trick')\n",
    "        return\n",
    "    def __call__(self,*args): # вcего-то изменений ('это не сложно, говорили они')\n",
    "        #print ('wrapper for %s called' % (function.__name__)) # ай-ай обращение к \"приватному\" полю # и для классов не работает\n",
    "        something = self.__base_something(*args) # теперь вызовем исходную функцию, переданную нам как параметр\n",
    "        make_uppercase = something.upper()  # проделаем с результатом какие-то действия\n",
    "        return make_uppercase # и вернем результат.\n",
    "    pass\n",
    "class some_class:\n",
    "    def __init__(self):\n",
    "        print('some class\\'s __init__ called')\n",
    "        return None # так надо\n",
    "    def __str__(self):\n",
    "        return 'some_class\\'s __str__  called'\n",
    "    def __call__(self):\n",
    "        return 'some_class called!'\n",
    "    def a_method(self,a_parameter):\n",
    "        return('some_class\\'s a_method called with parameter %s' % (a_parameter))\n",
    "    pass\n",
    "r = (i for i in range(1,100)) # генератор для одной фичи ниже (просто хочу порядковые номера разделителей)\n",
    "print('-------------%d-------------' % (next(r)))\n",
    "a_class = some_class # скопировал ОПИСАНИЕ класса (случайно)\n",
    "print('-------------%d-------------' % (next(r)))\n",
    "a_class()\n",
    "print('-------------%d-------------' % (next(r)))\n",
    "print(a_class()) # создали объект ()\n",
    "print('-------------%d-------------' % (next(r)))\n",
    "a_class = some_class() # создали объект\n",
    "print('-------------%d-------------' % (next(r)))\n",
    "print(a_class.a_method('a_value'))\n",
    "print('-------------%d-------------' % (next(r)))\n",
    "a_class.a_method = ucase_c_decorator(a_class.a_method)\n",
    "print(a_class.a_method(u'a_value'))# декорнули метод класса\n",
    "print('-------------%d-------------' % (next(r)))\n",
    "a_class.a_method = some_class().a_method\n",
    "print(a_class.a_method(u'a_value'))# починили метод класса\n",
    "print('-------------%d-------------' % (next(r)))\n",
    "print(a_class()) # класс как callable\n",
    "print('-------------%d-------------' % (next(r)))\n",
    "print(type(a_class)) # сначала a_class был объектом\n",
    "a_class = ucase_c_decorator(a_class) # зашибись, сработал без 'u'\n",
    "print(type(a_class)) # потом он стал простой функцией, после декорирования\n",
    "print(a_class())"
   ]
  },
  {
   "cell_type": "code",
   "execution_count": 130,
   "metadata": {},
   "outputs": [
    {
     "name": "stdout",
     "output_type": "stream",
     "text": [
      "some class's __init__ called\n",
      "['__call__', '__doc__', '__init__', '__module__', '__str__', 'a_method']\n",
      "<type 'instance'>\n",
      "some_class called!\n",
      "some_class's a_method called with parameter a_value\n",
      "-------------1-------------\n",
      "some class's __init__ called\n",
      "ucase_decorator do the trick\n",
      "['__call__', '__doc__', '__init__', '__module__', '_ucase_c_decorator__base_something']\n",
      "<type 'instance'>\n",
      "SOME_CLASS CALLED!\n"
     ]
    }
   ],
   "source": [
    "r = (i for i in range(1,100))\n",
    "a_class = some_class() # создали класс\n",
    "print(dir(a_class)) # его состав \n",
    "print(type(a_class)) # его тип (instance)\n",
    "print(a_class())\n",
    "print(a_class.a_method('a_value'))\n",
    "print('-------------%d-------------' % (next(r)))\n",
    "a_class = ucase_c_decorator(some_class()) # задекорировали класс в функцию при создании (это возможно, так как у класса есть метод __call__)\n",
    "print(dir(a_class))# его состав\n",
    "print(type(a_class))# его тип (function)\n",
    "print(a_class())\n",
    "#print(a_class.a_method('a_value')) #ве ещё херушки, что в целом очевидно"
   ]
  },
  {
   "cell_type": "code",
   "execution_count": 141,
   "metadata": {},
   "outputs": [
    {
     "name": "stdout",
     "output_type": "stream",
     "text": [
      "ucase_decorator do the trick\n",
      "-------------1-------------\n",
      "-------------2-------------\n",
      "some class's __init__ called\n"
     ]
    },
    {
     "ename": "AttributeError",
     "evalue": "some_class instance has no attribute 'upper'",
     "output_type": "error",
     "traceback": [
      "\u001b[0;31m---------------------------------------------------------------------------\u001b[0m",
      "\u001b[0;31mAttributeError\u001b[0m                            Traceback (most recent call last)",
      "\u001b[0;32m<ipython-input-141-131f16457a72>\u001b[0m in \u001b[0;36m<module>\u001b[0;34m()\u001b[0m\n\u001b[1;32m     28\u001b[0m \u001b[0ma_class\u001b[0m \u001b[0;34m=\u001b[0m \u001b[0msome_class\u001b[0m \u001b[0;31m# скопировал ОПИСАНИЕ класса (случайно)\u001b[0m\u001b[0;34m\u001b[0m\u001b[0m\n\u001b[1;32m     29\u001b[0m \u001b[0;32mprint\u001b[0m\u001b[0;34m(\u001b[0m\u001b[0;34m'-------------%d-------------'\u001b[0m \u001b[0;34m%\u001b[0m \u001b[0;34m(\u001b[0m\u001b[0mnext\u001b[0m\u001b[0;34m(\u001b[0m\u001b[0mr\u001b[0m\u001b[0;34m)\u001b[0m\u001b[0;34m)\u001b[0m\u001b[0;34m)\u001b[0m\u001b[0;34m\u001b[0m\u001b[0m\n\u001b[0;32m---> 30\u001b[0;31m \u001b[0ma_class\u001b[0m\u001b[0;34m(\u001b[0m\u001b[0;34m)\u001b[0m\u001b[0;34m\u001b[0m\u001b[0m\n\u001b[0m\u001b[1;32m     31\u001b[0m \u001b[0;32mprint\u001b[0m\u001b[0;34m(\u001b[0m\u001b[0;34m'-------------%d-------------'\u001b[0m \u001b[0;34m%\u001b[0m \u001b[0;34m(\u001b[0m\u001b[0mnext\u001b[0m\u001b[0;34m(\u001b[0m\u001b[0mr\u001b[0m\u001b[0;34m)\u001b[0m\u001b[0;34m)\u001b[0m\u001b[0;34m)\u001b[0m\u001b[0;34m\u001b[0m\u001b[0m\n\u001b[1;32m     32\u001b[0m \u001b[0;31m#print(a_class()) # создали объект ()\u001b[0m\u001b[0;34m\u001b[0m\u001b[0;34m\u001b[0m\u001b[0m\n",
      "\u001b[0;32m<ipython-input-141-131f16457a72>\u001b[0m in \u001b[0;36m__call__\u001b[0;34m(self, *args)\u001b[0m\n\u001b[1;32m      8\u001b[0m         \u001b[0;31m#print ('wrapper for %s called' % (function.__name__)) # ай-ай обращение к \"приватному\" полю # и для классов не работает\u001b[0m\u001b[0;34m\u001b[0m\u001b[0;34m\u001b[0m\u001b[0m\n\u001b[1;32m      9\u001b[0m         \u001b[0msomething\u001b[0m \u001b[0;34m=\u001b[0m \u001b[0mself\u001b[0m\u001b[0;34m.\u001b[0m\u001b[0m__base_something\u001b[0m\u001b[0;34m(\u001b[0m\u001b[0;34m*\u001b[0m\u001b[0margs\u001b[0m\u001b[0;34m)\u001b[0m \u001b[0;31m# теперь вызовем исходную функцию, переданную нам как параметр\u001b[0m\u001b[0;34m\u001b[0m\u001b[0m\n\u001b[0;32m---> 10\u001b[0;31m         \u001b[0mmake_uppercase\u001b[0m \u001b[0;34m=\u001b[0m \u001b[0msomething\u001b[0m\u001b[0;34m.\u001b[0m\u001b[0mupper\u001b[0m\u001b[0;34m(\u001b[0m\u001b[0;34m)\u001b[0m  \u001b[0;31m# проделаем с результатом какие-то действия\u001b[0m\u001b[0;34m\u001b[0m\u001b[0m\n\u001b[0m\u001b[1;32m     11\u001b[0m         \u001b[0;32mreturn\u001b[0m \u001b[0mmake_uppercase\u001b[0m \u001b[0;31m# и вернем результат.\u001b[0m\u001b[0;34m\u001b[0m\u001b[0m\n\u001b[1;32m     12\u001b[0m     \u001b[0;32mpass\u001b[0m\u001b[0;34m\u001b[0m\u001b[0m\n",
      "\u001b[0;31mAttributeError\u001b[0m: some_class instance has no attribute 'upper'"
     ]
    }
   ],
   "source": [
    "#проверка как это работает с классом - декоратором часть 2\n",
    "class ucase_c_decorator: # декоратор это класс, которая инициализируется функцией, и возвращает обратно класс\n",
    "    def __init__(self, something):\n",
    "        self.__base_something = something\n",
    "        print('ucase_decorator do the trick')\n",
    "        return\n",
    "    def __call__(self,*args): # вcего-то изменений ('это не сложно, говорили они')\n",
    "        #print ('wrapper for %s called' % (function.__name__)) # ай-ай обращение к \"приватному\" полю # и для классов не работает\n",
    "        something = self.__base_something(*args) # теперь вызовем исходную функцию, переданную нам как параметр\n",
    "        make_uppercase = something.upper()  # проделаем с результатом какие-то действия\n",
    "        return make_uppercase # и вернем результат.\n",
    "    pass\n",
    "@ucase_c_decorator\n",
    "class some_class:\n",
    "    def __init__(self):\n",
    "        print('some class\\'s __init__ called')\n",
    "        return None # так надо\n",
    "    def __str__(self):\n",
    "        return 'some_class\\'s __str__  called'\n",
    "    def __call__(self):\n",
    "        print('some class\\'s __call__ called')\n",
    "        return u'some_class called!'\n",
    "    def a_method(self,a_parameter):\n",
    "        return('some_class\\'s a_method called with parameter %s' % (a_parameter))\n",
    "    pass\n",
    "r = (i for i in range(1,100)) # генератор для одной фичи ниже (просто хочу порядковые номера разделителей)\n",
    "print('-------------%d-------------' % (next(r)))\n",
    "a_class = some_class # скопировал ОПИСАНИЕ класса (случайно)\n",
    "print('-------------%d-------------' % (next(r)))\n",
    "a_class()\n",
    "print('-------------%d-------------' % (next(r)))\n",
    "#print(a_class()) # создали объект ()\n",
    "print('-------------%d-------------' % (next(r)))\n",
    "#a_class = some_class() # создали объект\n",
    "print('-------------%d-------------' % (next(r)))\n",
    "#print(a_class.a_method('a_value'))\n",
    "print('-------------%d-------------' % (next(r)))\n",
    "#a_class.a_method = ucase_c_decorator(a_class.a_method)\n",
    "#print(a_class.a_method(u'a_value'))# декорнули метод класса\n",
    "print('-------------%d-------------' % (next(r)))\n",
    "#a_class.a_method = some_class().a_method\n",
    "#print(a_class.a_method(u'a_value'))# починили метод класса\n",
    "print('-------------%d-------------' % (next(r)))\n",
    "#print(a_class()) # класс как callable\n",
    "print('-------------%d-------------' % (next(r)))\n",
    "#print(type(a_class)) # сначала a_class был объектом\n",
    "#a_class = ucase_c_decorator(a_class) # зашибись, сработал без 'u'\n",
    "#print(type(a_class)) # потом он стал простой функцией, после декорирования\n",
    "#print(a_class())"
   ]
  },
  {
   "cell_type": "code",
   "execution_count": null,
   "metadata": {},
   "outputs": [],
   "source": []
  }
 ],
 "metadata": {
  "kernelspec": {
   "display_name": "Python 2",
   "language": "python",
   "name": "python2"
  },
  "language_info": {
   "codemirror_mode": {
    "name": "ipython",
    "version": 2
   },
   "file_extension": ".py",
   "mimetype": "text/x-python",
   "name": "python",
   "nbconvert_exporter": "python",
   "pygments_lexer": "ipython2",
   "version": "2.7.12"
  }
 },
 "nbformat": 4,
 "nbformat_minor": 2
}
