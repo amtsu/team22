{
 "cells": [
  {
   "cell_type": "markdown",
   "metadata": {},
   "source": [
    "<h4>Печать информации о объектах класса</h4>\n",
    "<p><a href=\"https://proproprogs.ru/python_oop/magicheskie-metody-str-repr-len-abs\">https://proproprogs.ru/python_oop/magicheskie-metody-str-repr-len-abs</a> - инфа по теме </p>\n",
    "<p> для вывода информации о объекте класса существуют методы __str__() и __repr__()\n",
    "    <ul>\n",
    "        <li> __str__() вызывется при печати информации об объекте с помощью print() или при преобразовании объекта в строку при помощи str() - это 'чистовой' метод, с которым будут работать пользователи данного класса\n",
    "        <li> __repr__() вызывается при печати отладочной информации, когда мы просто пишем variable_name или пытаемся вывести какую-то структуру данных, содержащую объекты нашего класса. В этот метод можно выводить разную полезную для программиста информацию.\n",
    "    </ul>\n",
    "</p>"
   ]
  },
  {
   "cell_type": "code",
   "execution_count": 1,
   "metadata": {},
   "outputs": [],
   "source": [
    "#опишем класс для тестирования способов исследования данных методов\n",
    "class PrintTesting:\n",
    "    # описание метода str\n",
    "    def __str__(self):\n",
    "        return '__str__ () method called!'\n",
    "    # описание метода repr\n",
    "    def __repr__(self):\n",
    "        return '__repr__() method called!'\n",
    "    pass"
   ]
  },
  {
   "cell_type": "code",
   "execution_count": 2,
   "metadata": {},
   "outputs": [],
   "source": [
    "pTest = PrintTesting()"
   ]
  },
  {
   "cell_type": "code",
   "execution_count": 3,
   "metadata": {},
   "outputs": [
    {
     "data": {
      "text/plain": [
       "__repr__() method called!"
      ]
     },
     "execution_count": 3,
     "metadata": {},
     "output_type": "execute_result"
    }
   ],
   "source": [
    "pTest"
   ]
  },
  {
   "cell_type": "code",
   "execution_count": 4,
   "metadata": {},
   "outputs": [
    {
     "name": "stdout",
     "output_type": "stream",
     "text": [
      "__str__ () method called!\n"
     ]
    }
   ],
   "source": [
    "print(pTest)"
   ]
  },
  {
   "cell_type": "code",
   "execution_count": 11,
   "metadata": {},
   "outputs": [
    {
     "data": {
      "text/plain": [
       "'__str__ () method called!'"
      ]
     },
     "execution_count": 11,
     "metadata": {},
     "output_type": "execute_result"
    }
   ],
   "source": [
    "str(pTest)"
   ]
  },
  {
   "cell_type": "code",
   "execution_count": 6,
   "metadata": {},
   "outputs": [],
   "source": [
    "pTest_list = []\n",
    "pTest_list.append(PrintTesting()) # добавим в список 1 объект класса PrintTesting"
   ]
  },
  {
   "cell_type": "code",
   "execution_count": 7,
   "metadata": {},
   "outputs": [
    {
     "data": {
      "text/plain": [
       "[__repr__() method called!]"
      ]
     },
     "execution_count": 7,
     "metadata": {},
     "output_type": "execute_result"
    }
   ],
   "source": [
    "pTest_list  # просмот отладочной информации о pTest_list, для его членов вызывается __repr__(), логично"
   ]
  },
  {
   "cell_type": "code",
   "execution_count": 9,
   "metadata": {},
   "outputs": [
    {
     "name": "stdout",
     "output_type": "stream",
     "text": [
      "[__repr__() method called!]\n"
     ]
    }
   ],
   "source": [
    "print(pTest_list) # печать списка командой print(), для его членов вызывается __repr__() вместо __str__(), \n",
    "#неочевидно (??), нужно запомнить. возможно, это поведение как-то настраивается"
   ]
  },
  {
   "cell_type": "code",
   "execution_count": 10,
   "metadata": {},
   "outputs": [
    {
     "name": "stdout",
     "output_type": "stream",
     "text": [
      "__str__ () method called!\n"
     ]
    }
   ],
   "source": [
    "for item in pTest_list:  # печатаем объекты командой print(), вызывается __str__(), очевидно\n",
    "    print(item)"
   ]
  },
  {
   "cell_type": "code",
   "execution_count": 14,
   "metadata": {},
   "outputs": [],
   "source": [
    "pStrTest_list = []\n",
    "pStrTest_list.append(str(pTest))"
   ]
  },
  {
   "cell_type": "code",
   "execution_count": 15,
   "metadata": {},
   "outputs": [
    {
     "data": {
      "text/plain": [
       "['__str__ () method called!']"
      ]
     },
     "execution_count": 15,
     "metadata": {},
     "output_type": "execute_result"
    }
   ],
   "source": [
    "pStrTest_list  # список содержит одну строку, которая является результатом, выдаваемым __str__()\n",
    "#список в качестве элемента содержит СТРОКУ а не ОБЪЕКТ"
   ]
  },
  {
   "cell_type": "code",
   "execution_count": null,
   "metadata": {},
   "outputs": [],
   "source": []
  }
 ],
 "metadata": {
  "kernelspec": {
   "display_name": "Python 2",
   "language": "python",
   "name": "python2"
  },
  "language_info": {
   "codemirror_mode": {
    "name": "ipython",
    "version": 2
   },
   "file_extension": ".py",
   "mimetype": "text/x-python",
   "name": "python",
   "nbconvert_exporter": "python",
   "pygments_lexer": "ipython2",
   "version": "2.7.12"
  }
 },
 "nbformat": 4,
 "nbformat_minor": 2
}
