{
 "cells": [
  {
   "cell_type": "markdown",
   "metadata": {},
   "source": [
    "<h2>Задание:</h2>\n",
    "<p>\n",
    "Добрый день, уже через 4,5 часа начнется наше 11 занятие.\n",
    "Этого времени должно хватить, чтобы вспомнить как мы на 9 занятии пробовали сохранять данные в файлы и потом их оттуда доставать. И сделать следующую задачу. \n",
    "На первых уроках мы пробовали работать с списками дел и трат.\n",
    "Теперь вам надо реализовать следующее: </p>\n",
    "<ol>\n",
    "<li> создать новую ветку\n",
    "<li> сохранить ваши созданные списки в файл ( формат выбирайте сами)\n",
    "<li> загрузить их из файла\n",
    "<li> добавить несколько новых трат и дела в эти списки\n",
    "<li> применить к ним все функции которые вы делали для работы с этими списками \n",
    "<li> сохранить в файлы расширенные списки(с вашими новыми элементами назад в файлы)\n",
    "<li> добавить изменения в коммит, закомитить, запушить ветку, создать пул реквест\n",
    "</ol>"
   ]
  },
  {
   "cell_type": "markdown",
   "metadata": {},
   "source": [
    "<h3> План </h3>\n",
    "<ol>\n",
    "    <li> Научиться создавать виртуальное окружение\n",
    "    <li> Научиться создавать, устанавливать и работать с пакетом python\n",
    "    <li> Переделать классы для дел и трат, чтобы ими было удобнее пользоваться\n",
    "</ol>"
   ]
  },
  {
   "cell_type": "code",
   "execution_count": 1,
   "metadata": {},
   "outputs": [
    {
     "name": "stdout",
     "output_type": "stream",
     "text": [
      "Python 2.7.12\r\n"
     ]
    }
   ],
   "source": [
    "!python --version"
   ]
  },
  {
   "cell_type": "code",
   "execution_count": 2,
   "metadata": {},
   "outputs": [
    {
     "name": "stdout",
     "output_type": "stream",
     "text": [
      "pip 20.3.4 from /usr/local/lib/python2.7/dist-packages/pip (python 2.7)\r\n"
     ]
    }
   ],
   "source": [
    "!pip --version"
   ]
  },
  {
   "cell_type": "code",
   "execution_count": 3,
   "metadata": {},
   "outputs": [
    {
     "name": "stdout",
     "output_type": "stream",
     "text": [
      "/bin/sh: 1: virtualenv: not found\r\n"
     ]
    }
   ],
   "source": [
    "!virtualenv --version"
   ]
  },
  {
   "cell_type": "code",
   "execution_count": 5,
   "metadata": {},
   "outputs": [
    {
     "name": "stdout",
     "output_type": "stream",
     "text": [
      "/usr/bin/python: No module named venv\r\n"
     ]
    }
   ],
   "source": [
    "!python -m venv venv_sivanov"
   ]
  },
  {
   "cell_type": "code",
   "execution_count": 6,
   "metadata": {},
   "outputs": [],
   "source": [
    "# проблема №1 - virtualenv почему-то не работает."
   ]
  },
  {
   "cell_type": "markdown",
   "metadata": {},
   "source": [
    "<h4> Справка по командам:</h4>\n",
    "<ul>\n",
    "    <li><i>source venv_sivanov/bin/activate</i> - активация виртуального окружения\n",
    "    <li><i>pip freeze > filename.freeze</i> -  сохранение списка установленных пакетов в файл\n",
    "    <li><i>pip install -f filename.freeze</i> - установка пакетов из сохраненного списка  \n",
    "    <li><i>deactivate</i> - закончить работу с виртуальным окружением \n",
    "</ul>\n",
    "\n",
    "<a href=\"https://docs.python-guide.org/dev/virtualenvs/\">https://docs.python-guide.org/dev/virtualenvs/</a> - ссылка на статью на данную тему.<br>\n",
    "<a href=\"https://pythonist.ru/virtualnye-okruzheniya-python-i-instrumenty-dlya-upravleniya-imi/\">https://pythonist.ru/virtualnye-okruzheniya-python-i-instrumenty-dlya-upravleniya-imi/</a> - ещё ссылка"
   ]
  },
  {
   "cell_type": "code",
   "execution_count": null,
   "metadata": {},
   "outputs": [],
   "source": []
  }
 ],
 "metadata": {
  "kernelspec": {
   "display_name": "Python 2",
   "language": "python",
   "name": "python2"
  },
  "language_info": {
   "codemirror_mode": {
    "name": "ipython",
    "version": 2
   },
   "file_extension": ".py",
   "mimetype": "text/x-python",
   "name": "python",
   "nbconvert_exporter": "python",
   "pygments_lexer": "ipython2",
   "version": "2.7.12"
  }
 },
 "nbformat": 4,
 "nbformat_minor": 2
}
