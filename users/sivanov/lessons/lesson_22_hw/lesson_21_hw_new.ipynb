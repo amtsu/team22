{
 "cells": [
  {
   "cell_type": "markdown",
   "metadata": {},
   "source": [
    "Задание: вычленить цену 2 товаров из 5 различных сайтов и отправить на почту если она меньше заданной (3000) или больше заданной "
   ]
  },
  {
   "cell_type": "code",
   "execution_count": 1,
   "metadata": {},
   "outputs": [],
   "source": [
    "#from mailstuff.basemail import base_mail\n",
    "#mailto = base_mail(u'sivanov@101katok.ru',u'localhost')\n",
    "#mailto\n",
    "#sent = mailto(u'isergy@mail.ru',u'from_jupyter','hello')\n",
    "#print(sent)"
   ]
  },
  {
   "cell_type": "code",
   "execution_count": 2,
   "metadata": {},
   "outputs": [],
   "source": [
    "#from mailstuff.mailto import mail_to\n",
    "#mail_to_isergy = mail_to('isergy@mail.ru')\n",
    "#print(mail_to_isergy)\n",
    "#mail_to_isergy('hui2','hui3')"
   ]
  },
  {
   "cell_type": "markdown",
   "metadata": {},
   "source": [
    "с почтой пока ок, нужно теперь разобраться со страничками\n",
    "https://220-volt.ru\n",
    "https://sportmaster.ru\n",
    "https://splav.ru - педики\n",
    "https://leroymerlin.ru\n",
    "https://i-uley.pro/"
   ]
  },
  {
   "cell_type": "code",
   "execution_count": 3,
   "metadata": {},
   "outputs": [],
   "source": [
    "#import urllib\n",
    "#dir(urllib)"
   ]
  },
  {
   "cell_type": "code",
   "execution_count": null,
   "metadata": {},
   "outputs": [],
   "source": []
  },
  {
   "cell_type": "code",
   "execution_count": 4,
   "metadata": {},
   "outputs": [
    {
     "name": "stdout",
     "output_type": "stream",
     "text": [
      "Ищем <span class='price_value'>. под номером 0\n"
     ]
    }
   ],
   "source": [
    "from parsers.getdatafrom import product_info\n",
    "from parsers.getdatafrom import ultra_strip\n",
    "superstripper = ultra_strip([u\" \",u\"\\u20bd\",u\"\\xa0\"])\n",
    "#smara1 = product_info(\"https://sport-marafon.ru/catalog/gamaki/gamak-eno-doublenest-print-tie-dye-red/\",{\"catalog-detail__price\":(\"div\", 0, superstripper)})\n",
    "#print(smara1)\n",
    "iuley1 = product_info(\"https://i-uley.pro/catalog/uley_dadana/uley-12-ram-1-korpus-2-magazina-setchatoe-dno-komplekt/\",{\"price_value\":(\"span\", 0, superstripper)})\n",
    "print(iuley1)\n",
    "#smara1.load_page()\n",
    "iuley1.load_page()\n"
   ]
  },
  {
   "cell_type": "code",
   "execution_count": 5,
   "metadata": {},
   "outputs": [
    {
     "name": "stdout",
     "output_type": "stream",
     "text": [
      "_getitemvalues_, <span class=price_value>\n",
      "[<span class=\"price_value\">5 290</span>, <span class=\"price_value\">5 490</span>]\n",
      "5290\n",
      "{'price_value': '5290'}\n"
     ]
    }
   ],
   "source": [
    "#print(smara1.get_all())\n",
    "print(iuley1.get_all())"
   ]
  },
  {
   "cell_type": "code",
   "execution_count": 6,
   "metadata": {},
   "outputs": [],
   "source": [
    "#remove_whitespaces = ultra_strip([\" \"])\n",
    "#print(remove_whitespaces(\" i like  white spaces\"))\n",
    "#remove_ws = ultra_strip([\"w\",\"s\"])\n",
    "#print(remove_ws(remove_whitespaces(\" i like  white spaces\")))"
   ]
  },
  {
   "cell_type": "code",
   "execution_count": 7,
   "metadata": {},
   "outputs": [],
   "source": [
    "#splav1 = get_data_from(\"https://www.splav.ru/products/dzhinsy-splav-preriya-sinie/\",\"product__info-price\",\"span\")\n",
    "#splav2 = get_data_from(\"https://www.splav.ru/products/bryuki-splav-phobos-softshell-serye/\",\"product__info-price\",\"span\")"
   ]
  },
  {
   "cell_type": "code",
   "execution_count": 8,
   "metadata": {},
   "outputs": [],
   "source": [
    "# получаем данные о каждом товаре"
   ]
  },
  {
   "cell_type": "code",
   "execution_count": 9,
   "metadata": {},
   "outputs": [],
   "source": [
    "#smara1 = get_data_from(\"https://sport-marafon.ru/catalog/gamaki/gamak-eno-doublenest-print-tie-dye-red/\",\"catalog-detail__price\",\"div\")\n",
    "#smara2 = get_data_from(\"https://sport-marafon.ru/catalog/turisticheskie-palatki/palatka-alexika-rondo-2-plus-green/\",\"catalog-detail__price\",\"div\")"
   ]
  },
  {
   "cell_type": "code",
   "execution_count": 10,
   "metadata": {},
   "outputs": [],
   "source": [
    "#i220v1 = get_data_from(\"https://www.220-volt.ru/catalog-53881/\",\"text-lg\",\"span\")\n",
    "#i220v2 = get_data_from(\"https://www.220-volt.ru/catalog-666458/\",\"text-lg\",\"span\")"
   ]
  },
  {
   "cell_type": "code",
   "execution_count": 11,
   "metadata": {},
   "outputs": [],
   "source": [
    "#iuley1 = get_data_from(\"https://i-uley.pro/catalog/uley_dadana/uley-12-ram-1-korpus-2-magazina-setchatoe-dno-komplekt/\",\"price_value\",\"span\")\n",
    "#iuley2 = get_data_from(\"https://i-uley.pro/catalog/pchelopakety/pchelopaket_4_ramki_karnika/\",\"price_value\",\"span\")"
   ]
  },
  {
   "cell_type": "code",
   "execution_count": 12,
   "metadata": {},
   "outputs": [],
   "source": [
    "#sportmaster1 = get_data_from(\"https://www.sportmaster.ru/product/26595100299/\", \"sm-amount__value\",\"span\")\n",
    "#sportmaster2 = get_data_from(\"https://www.sportmaster.ru/product/26507260299/\", \"sm-amount__value\",\"span\")"
   ]
  },
  {
   "cell_type": "code",
   "execution_count": 13,
   "metadata": {},
   "outputs": [],
   "source": [
    "#site_list = []\n",
    "#site_list.append(splav1)\n",
    "#site_list.append(splav2)\n",
    "#site_list.append(smara1)\n",
    "#site_list.append(smara2)\n",
    "#site_list.append(i220v1)\n",
    "#site_list.append(i220v2)\n",
    "#site_list.append(iuley1)\n",
    "#site_list.append(iuley2)\n",
    "#site_list.append(sportmaster1)\n",
    "#site_list.append(sportmaster2)\n",
    "#посмотрим как работает\n",
    "#for item in site_list:\n",
    "#    print(item)\n",
    "#    print(item())"
   ]
  },
  {
   "cell_type": "code",
   "execution_count": 14,
   "metadata": {},
   "outputs": [],
   "source": [
    "#чистим данные"
   ]
  },
  {
   "cell_type": "code",
   "execution_count": 15,
   "metadata": {},
   "outputs": [],
   "source": [
    "#get_first = preprocess_data(0)\n",
    "#get_sec = preprocess_data(1)\n",
    "#list_dirty_prices = []\n",
    "#list_dirty_prices.append([u'sm1',get_first(smara1())])\n",
    "#list_dirty_prices.append([u'sm2',get_first(smara2())])\n",
    "#list_dirty_prices.append([u'220v1',get_first(i220v1())])\n",
    "#list_dirty_prices.append([u'220v2',get_first(i220v2())])\n",
    "#list_dirty_prices.append([u'iuley1',get_first(iuley1())])\n",
    "#list_dirty_prices.append([u'iuley2',get_first(iuley2())])\n",
    "#list_dirty_prices.append([u'sportm1',get_sec(sportmaster1())])\n",
    "#list_dirty_prices.append([u'sportm2',get_sec(sportmaster2())])\n",
    "#for item in list_dirty_prices:\n",
    "#    print((',').join(item))"
   ]
  },
  {
   "cell_type": "code",
   "execution_count": 16,
   "metadata": {},
   "outputs": [],
   "source": [
    "#superstripper = ultra_strip([u\" \",u\"\\u20bd\",u\"\\xa0\"])\n",
    "#list_clean_prices = []\n",
    "#for item in list_dirty_prices:\n",
    "#    list_clean_prices.append([item[0],int(superstripper(item[1]))])\n",
    "#for item in list_clean_prices:\n",
    "#    print(item)"
   ]
  },
  {
   "cell_type": "code",
   "execution_count": 17,
   "metadata": {},
   "outputs": [],
   "source": [
    "#Компонуем почту и отправляем\n",
    "#message = u\"\"\n",
    "#for item in list_clean_prices:\n",
    "#    if(item[1] < 5000):\n",
    "#        message += \"Price is down: \"+item[0]+\" now costs \"+str(item[1])+\"\\n\"\n",
    "#print(message)\n",
    "#print(str(message.encode(\"utf-8\")))\n",
    "#if not(message == \"\"):\n",
    "#    mail_to_isergy = mail_to('isergy@mail.ru')\n",
    "#    mail_to_isergy(\"Внимание: Цена опустилась!!\", message) "
   ]
  },
  {
   "cell_type": "code",
   "execution_count": 1,
   "metadata": {},
   "outputs": [
    {
     "name": "stdout",
     "output_type": "stream",
     "text": [
      "trsprt1.json\n",
      "parse_uley1.json\n",
      "parse_220v2.json\n",
      "parse_220v1.json\n",
      "ctlnk1.json\n",
      "parse_smstr2.json\n",
      "metrocc1.json\n",
      "parse_uley2.json\n",
      "parse_smara2.json\n",
      "parse_smara1.json\n",
      ".ipynb_checkpoints\n",
      "parse_tkturin1.json\n",
      "parse_smstr1.json\n",
      "parse_tkturin2.json\n"
     ]
    }
   ],
   "source": [
    "# тест для получения списка файлов из каталога\n",
    "import pathlib\n",
    "example_dir = './parsers/json/'\n",
    "dir = pathlib.Path(example_dir)\n",
    "for file in dir.iterdir():\n",
    "    print(file.name)"
   ]
  },
  {
   "cell_type": "code",
   "execution_count": 7,
   "metadata": {},
   "outputs": [
    {
     "ename": "TypeError",
     "evalue": "'PosixPath' object is not callable",
     "output_type": "error",
     "traceback": [
      "\u001b[0;31m---------------------------------------------------------------------------\u001b[0m",
      "\u001b[0;31mTypeError\u001b[0m                                 Traceback (most recent call last)",
      "Cell \u001b[0;32mIn [7], line 4\u001b[0m\n\u001b[1;32m      2\u001b[0m example_dir \u001b[38;5;241m=\u001b[39m \u001b[38;5;124m'\u001b[39m\u001b[38;5;124m./parsers/json/\u001b[39m\u001b[38;5;124m'\u001b[39m\n\u001b[1;32m      3\u001b[0m \u001b[38;5;28;01mwith\u001b[39;00m os\u001b[38;5;241m.\u001b[39mscandir(example_dir) \u001b[38;5;28;01mas\u001b[39;00m files:\n\u001b[0;32m----> 4\u001b[0m     \u001b[38;5;28mprint\u001b[39m(\u001b[38;5;28;43mdir\u001b[39;49m\u001b[43m(\u001b[49m\u001b[43mfiles\u001b[49m\u001b[43m)\u001b[49m)\n\u001b[1;32m      5\u001b[0m     files \u001b[38;5;241m=\u001b[39m [file\u001b[38;5;241m.\u001b[39mname \u001b[38;5;28;01mfor\u001b[39;00m file \u001b[38;5;129;01min\u001b[39;00m files \u001b[38;5;28;01mif\u001b[39;00m file\u001b[38;5;241m.\u001b[39mis_file() \u001b[38;5;129;01mand\u001b[39;00m file\u001b[38;5;241m.\u001b[39mname\u001b[38;5;241m.\u001b[39mstartswith(\u001b[38;5;124m'\u001b[39m\u001b[38;5;124mparse_\u001b[39m\u001b[38;5;124m'\u001b[39m)]\n\u001b[1;32m      6\u001b[0m \u001b[38;5;28mprint\u001b[39m(files)\n",
      "\u001b[0;31mTypeError\u001b[0m: 'PosixPath' object is not callable"
     ]
    }
   ],
   "source": [
    "import os\n",
    "example_dir = './parsers/json/'\n",
    "with os.scandir(example_dir) as files:\n",
    "    print((files))\n",
    "    files = [file.name for file in files if file.is_file() and file.name.startswith('parse_')]\n",
    "print(files)"
   ]
  },
  {
   "cell_type": "code",
   "execution_count": null,
   "metadata": {},
   "outputs": [],
   "source": []
  }
 ],
 "metadata": {
  "kernelspec": {
   "display_name": "Python 3 (ipykernel)",
   "language": "python",
   "name": "python3"
  },
  "language_info": {
   "codemirror_mode": {
    "name": "ipython",
    "version": 3
   },
   "file_extension": ".py",
   "mimetype": "text/x-python",
   "name": "python",
   "nbconvert_exporter": "python",
   "pygments_lexer": "ipython3",
   "version": "3.9.7"
  }
 },
 "nbformat": 4,
 "nbformat_minor": 2
}
