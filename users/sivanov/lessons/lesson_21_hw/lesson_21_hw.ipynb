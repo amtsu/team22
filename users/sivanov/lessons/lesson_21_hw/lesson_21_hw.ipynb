{
 "cells": [
  {
   "cell_type": "markdown",
   "metadata": {},
   "source": [
    "Задание: вычленить цену 2 товаров из 5 различных сайтов и отправить на почту если она меньше заданной (3000) или больше заданной "
   ]
  },
  {
   "cell_type": "code",
   "execution_count": 1,
   "metadata": {},
   "outputs": [],
   "source": [
    "#from mailstuff.basemail import base_mail\n",
    "#mailto = base_mail(u'sivanov@101katok.ru',u'localhost')\n",
    "#mailto\n",
    "#sent = mailto(u'isergy@mail.ru',u'from_jupyter','hello')\n",
    "#print(sent)"
   ]
  },
  {
   "cell_type": "code",
   "execution_count": 2,
   "metadata": {},
   "outputs": [],
   "source": [
    "#from mailstuff.mailto import mail_to\n",
    "#mail_to_isergy = mail_to('isergy@mail.ru')\n",
    "#print(mail_to_isergy)\n",
    "#mail_to_isergy('hui2','hui3')"
   ]
  },
  {
   "cell_type": "markdown",
   "metadata": {},
   "source": [
    "с почтой пока ок, нужно теперь разобраться со страничками\n",
    "https://220-volt.ru\n",
    "https://sportmaster.ru\n",
    "https://splav.ru - педики\n",
    "https://leroymerlin.ru\n",
    "https://i-uley.pro/"
   ]
  },
  {
   "cell_type": "code",
   "execution_count": 3,
   "metadata": {},
   "outputs": [],
   "source": [
    "#import urllib\n",
    "#dir(urllib)"
   ]
  },
  {
   "cell_type": "code",
   "execution_count": 4,
   "metadata": {},
   "outputs": [],
   "source": [
    "from parsers.getdatafrom import get_data_from\n",
    "from parsers.getdatafrom import ultra_strip\n",
    "from parsers.getdatafrom import preprocess_data\n",
    "#from parsers.mailto import mail_to"
   ]
  },
  {
   "cell_type": "code",
   "execution_count": 5,
   "metadata": {},
   "outputs": [],
   "source": [
    "#remove_whitespaces = ultra_strip([\" \"])\n",
    "#print(remove_whitespaces(\" i like  white spaces\"))\n",
    "#remove_ws = ultra_strip([\"w\",\"s\"])\n",
    "#print(remove_ws(remove_whitespaces(\" i like  white spaces\")))"
   ]
  },
  {
   "cell_type": "code",
   "execution_count": 6,
   "metadata": {},
   "outputs": [],
   "source": [
    "#splav1 = get_data_from(\"https://www.splav.ru/products/dzhinsy-splav-preriya-sinie/\",\"product__info-price\",\"span\")\n",
    "#splav2 = get_data_from(\"https://www.splav.ru/products/bryuki-splav-phobos-softshell-serye/\",\"product__info-price\",\"span\")"
   ]
  },
  {
   "cell_type": "code",
   "execution_count": 7,
   "metadata": {},
   "outputs": [],
   "source": [
    "# получаем данные о каждом товаре"
   ]
  },
  {
   "cell_type": "code",
   "execution_count": 8,
   "metadata": {},
   "outputs": [],
   "source": [
    "smara1 = get_data_from(\"https://sport-marafon.ru/catalog/gamaki/gamak-eno-doublenest-print-tie-dye-red/\",\"catalog-detail__price\",\"div\")\n",
    "smara2 = get_data_from(\"https://sport-marafon.ru/catalog/turisticheskie-palatki/palatka-alexika-rondo-2-plus-green/\",\"catalog-detail__price\",\"div\")"
   ]
  },
  {
   "cell_type": "code",
   "execution_count": 9,
   "metadata": {},
   "outputs": [],
   "source": [
    "i220v1 = get_data_from(\"https://www.220-volt.ru/catalog-53881/\",\"text-lg\",\"span\")\n",
    "i220v2 = get_data_from(\"https://www.220-volt.ru/catalog-666458/\",\"text-lg\",\"span\")"
   ]
  },
  {
   "cell_type": "code",
   "execution_count": 10,
   "metadata": {},
   "outputs": [],
   "source": [
    "iuley1 = get_data_from(\"https://i-uley.pro/catalog/uley_dadana/uley-12-ram-1-korpus-2-magazina-setchatoe-dno-komplekt/\",\"price_value\",\"span\")\n",
    "iuley2 = get_data_from(\"https://i-uley.pro/catalog/pchelopakety/pchelopaket_4_ramki_karnika/\",\"price_value\",\"span\")"
   ]
  },
  {
   "cell_type": "code",
   "execution_count": 11,
   "metadata": {},
   "outputs": [],
   "source": [
    "sportmaster1 = get_data_from(\"https://www.sportmaster.ru/product/26595100299/\", \"sm-amount__value\",\"span\")\n",
    "sportmaster2 = get_data_from(\"https://www.sportmaster.ru/product/26507260299/\", \"sm-amount__value\",\"span\")"
   ]
  },
  {
   "cell_type": "code",
   "execution_count": 12,
   "metadata": {},
   "outputs": [],
   "source": [
    "#site_list = []\n",
    "#site_list.append(splav1)\n",
    "#site_list.append(splav2)\n",
    "#site_list.append(smara1)\n",
    "#site_list.append(smara2)\n",
    "#site_list.append(i220v1)\n",
    "#site_list.append(i220v2)\n",
    "#site_list.append(iuley1)\n",
    "#site_list.append(iuley2)\n",
    "#site_list.append(sportmaster1)\n",
    "#site_list.append(sportmaster2)\n",
    "#посмотрим как работает\n",
    "#for item in site_list:\n",
    "#    print(item)\n",
    "#    print(item())"
   ]
  },
  {
   "cell_type": "code",
   "execution_count": 13,
   "metadata": {},
   "outputs": [],
   "source": [
    "#чистим данные"
   ]
  },
  {
   "cell_type": "code",
   "execution_count": 14,
   "metadata": {},
   "outputs": [
    {
     "name": "stdout",
     "output_type": "stream",
     "text": [
      "sm1,6 500 ₽\n",
      "sm2,35 120 ₽\n",
      "220v1,8 560\n",
      "220v2,3 790\n",
      "iuley1,5 290\n",
      "iuley2,4 590\n",
      "sportm1,6 999 ₽\n",
      "sportm2,5 999 ₽\n"
     ]
    }
   ],
   "source": [
    "get_first = preprocess_data(0)\n",
    "get_sec = preprocess_data(1)\n",
    "list_dirty_prices = []\n",
    "list_dirty_prices.append([u'sm1',get_first(smara1())])\n",
    "list_dirty_prices.append([u'sm2',get_first(smara2())])\n",
    "list_dirty_prices.append([u'220v1',get_first(i220v1())])\n",
    "list_dirty_prices.append([u'220v2',get_first(i220v2())])\n",
    "list_dirty_prices.append([u'iuley1',get_first(iuley1())])\n",
    "list_dirty_prices.append([u'iuley2',get_first(iuley2())])\n",
    "list_dirty_prices.append([u'sportm1',get_sec(sportmaster1())])\n",
    "list_dirty_prices.append([u'sportm2',get_sec(sportmaster2())])\n",
    "for item in list_dirty_prices:\n",
    "    print((',').join(item))"
   ]
  },
  {
   "cell_type": "code",
   "execution_count": 17,
   "metadata": {},
   "outputs": [
    {
     "name": "stdout",
     "output_type": "stream",
     "text": [
      "['sm1', 6500]\n",
      "['sm2', 35120]\n",
      "['220v1', 8560]\n",
      "['220v2', 3790]\n",
      "['iuley1', 5290]\n",
      "['iuley2', 4590]\n",
      "['sportm1', 6999]\n",
      "['sportm2', 5999]\n"
     ]
    }
   ],
   "source": [
    "superstripper = ultra_strip([u\" \",u\"\\u20bd\",u\"\\xa0\"])\n",
    "list_clean_prices = []\n",
    "for item in list_dirty_prices:\n",
    "    list_clean_prices.append([item[0],int(superstripper(item[1]))])\n",
    "for item in list_clean_prices:\n",
    "    print(item)"
   ]
  },
  {
   "cell_type": "code",
   "execution_count": 16,
   "metadata": {},
   "outputs": [
    {
     "name": "stdout",
     "output_type": "stream",
     "text": [
      "Price is down: 220v2 now costs 3790\n",
      "Price is down: iuley2 now costs 4590\n",
      "\n"
     ]
    }
   ],
   "source": [
    "#Компонуем почту и отправляем\n",
    "message = u\"\"\n",
    "for item in list_clean_prices:\n",
    "    if(item[1] < 5000):\n",
    "        message += \"Price is down: \"+item[0]+\" now costs \"+str(item[1])+\"\\n\"\n",
    "print(message)\n",
    "#print(str(message.encode(\"utf-8\")))\n",
    "#if not(message == \"\"):\n",
    "#    mail_to_isergy = mail_to('isergy@mail.ru')\n",
    "#    mail_to_isergy(\"Внимание: Цена опустилась!!\", message) "
   ]
  },
  {
   "cell_type": "code",
   "execution_count": null,
   "metadata": {},
   "outputs": [],
   "source": []
  }
 ],
 "metadata": {
  "kernelspec": {
   "display_name": "Python 3 (ipykernel)",
   "language": "python",
   "name": "python3"
  },
  "language_info": {
   "codemirror_mode": {
    "name": "ipython",
    "version": 3
   },
   "file_extension": ".py",
   "mimetype": "text/x-python",
   "name": "python",
   "nbconvert_exporter": "python",
   "pygments_lexer": "ipython3",
   "version": "3.9.7"
  }
 },
 "nbformat": 4,
 "nbformat_minor": 2
}
