{
 "cells": [
  {
   "cell_type": "code",
   "execution_count": 53,
   "metadata": {},
   "outputs": [],
   "source": [
    "class test_ancestor:\n",
    "    staticlistofentities = []\n",
    "    def __init__(self):\n",
    "        test_ancestor.staticlistofentities.append(self)\n",
    "        return\n",
    "    @staticmethod\n",
    "    def resetlistofentities():\n",
    "        test_ancestor.staticlistofentities = []\n",
    "        return\n",
    "    pass\n",
    "#test_ancestor.staticlistofentities = staticmethod(test_ancestor.staticlistofentities) "
   ]
  },
  {
   "cell_type": "code",
   "execution_count": 54,
   "metadata": {},
   "outputs": [],
   "source": [
    "class test(test_ancestor):\n",
    "    def print_count_of_entities(self):\n",
    "        #print('если вызвать через self')\n",
    "        #print(self.staticlistofentities)\n",
    "        print('если вызвать через класс родителя')\n",
    "        print(test_ancestor.staticlistofentities)\n",
    "    pass"
   ]
  },
  {
   "cell_type": "code",
   "execution_count": 57,
   "metadata": {},
   "outputs": [
    {
     "name": "stdout",
     "output_type": "stream",
     "text": [
      "если вызвать через класс родителя\n",
      "[<__main__.test instance at 0x7f3ca8f99368>, <__main__.test instance at 0x7f3ca8f99098>, <__main__.test instance at 0x7f3ca8f7fc20>]\n"
     ]
    }
   ],
   "source": [
    "test_ancestor.resetlistofentities()\n",
    "test1 = test()\n",
    "#test1.print_count_of_entities()\n",
    "test2 = test()\n",
    "test3 = test()\n",
    "#test1.print_count_of_entities()\n",
    "test_ancestor.staticlistofentities[0].print_count_of_entities()"
   ]
  },
  {
   "cell_type": "code",
   "execution_count": 56,
   "metadata": {},
   "outputs": [
    {
     "name": "stdout",
     "output_type": "stream",
     "text": [
      "This is a random class.\n",
      "This class will print random text.\n"
     ]
    }
   ],
   "source": [
    "# пример создания статического метода из https://www.delftstack.com/ru/howto/python/static-class-variable-in-python/\n",
    "class StaticVar:    \n",
    "    @staticmethod\n",
    "    def random(text):        \n",
    "        print(text)\n",
    "        print(\"This class will print random text.\")\n",
    "        return\n",
    "#StaticVar.random = staticmethod(StaticVar.random)\n",
    "StaticVar.random(\"This is a random class.\")\n"
   ]
  },
  {
   "cell_type": "code",
   "execution_count": 21,
   "metadata": {},
   "outputs": [
    {
     "name": "stdout",
     "output_type": "stream",
     "text": [
      "2\n",
      "5\n"
     ]
    }
   ],
   "source": [
    "#пример из https://pythonru.com/uroki/prisvoenie-tipa-peremennoj-uroki-po-python-dlja-nachinajushhih\n",
    "class MyClass:\n",
    "    static_var = 2\n",
    "    pass\n",
    "print (MyClass.static_var) #2\n",
    "MyClass.static_var = 5\n",
    "print ( MyClass.static_var ) #5"
   ]
  },
  {
   "cell_type": "code",
   "execution_count": null,
   "metadata": {},
   "outputs": [],
   "source": []
  }
 ],
 "metadata": {
  "kernelspec": {
   "display_name": "Python 2",
   "language": "python",
   "name": "python2"
  },
  "language_info": {
   "codemirror_mode": {
    "name": "ipython",
    "version": 2
   },
   "file_extension": ".py",
   "mimetype": "text/x-python",
   "name": "python",
   "nbconvert_exporter": "python",
   "pygments_lexer": "ipython2",
   "version": "2.7.12"
  }
 },
 "nbformat": 4,
 "nbformat_minor": 2
}
