{
 "cells": [
  {
   "cell_type": "markdown",
   "id": "bdda8c75-105b-4f24-8862-673bcc68f447",
   "metadata": {},
   "source": [
    "Домашнее задание №4. \n",
    "Списки и операции с ними."
   ]
  },
  {
   "cell_type": "markdown",
   "id": "de36547c-88dd-4997-a12c-cdeb1e9e6ac8",
   "metadata": {},
   "source": [
    "Задание 1.\n",
    "выполните следующий код\n",
    "<code>\n",
    "list_one = [1, 2, 3, 4, 5, 6, 9]\n",
    "list_two = [1, 2, 3, 4, 5, 6, 9]\n",
    "list_two.append(789)\n",
    "print(list_one, list_two, sep='\\n') \n",
    "</code>\n",
    "затем выполните код \n",
    "<code>\n",
    "list_one = [1, 2, 3, 4, 5, 6, 9]\n",
    "list_two = list_one\n",
    "list_two.append(789)\n",
    "print(list_one, list_two, sep='\\n')     \n",
    "</code>\n",
    "запишите объяснения разницы в выполнении кода в переменную difference_explanation и выведите ее на экран"
   ]
  },
  {
   "cell_type": "code",
   "execution_count": 1,
   "id": "680d9e95-a34c-4f6c-8693-3a72207219b5",
   "metadata": {},
   "outputs": [
    {
     "name": "stdout",
     "output_type": "stream",
     "text": [
      "[1, 2, 3, 4, 5, 6, 9]\n",
      "[1, 2, 3, 4, 5, 6, 9, 789]\n"
     ]
    }
   ],
   "source": [
    "list_one = [1, 2, 3, 4, 5, 6, 9]\n",
    "list_two = [1, 2, 3, 4, 5, 6, 9]\n",
    "list_two.append(789)\n",
    "print(list_one, list_two, sep='\\n') "
   ]
  },
  {
   "cell_type": "code",
   "execution_count": 3,
   "id": "a1b4d850-49f2-4884-8352-8c95d4fde785",
   "metadata": {},
   "outputs": [
    {
     "name": "stdout",
     "output_type": "stream",
     "text": [
      "[1, 2, 3, 4, 5, 6, 9, 789]\n",
      "[1, 2, 3, 4, 5, 6, 9, 789]\n"
     ]
    }
   ],
   "source": [
    "list_one = [1, 2, 3, 4, 5, 6, 9]\n",
    "list_two = list_one\n",
    "list_two.append(789)\n",
    "print(list_one, list_two, sep='\\n')"
   ]
  },
  {
   "cell_type": "code",
   "execution_count": 1,
   "id": "e28001e4-97b4-4f41-983f-28b60ff865a8",
   "metadata": {},
   "outputs": [],
   "source": [
    "difference_explanation = \"В первом случае число 789 подставляется в значение list_two, значение list_one остается без изменения, потому что это два разных значения. Во втором же случае число 789 подставляется в оба значения,т.к. одно значение вытекает из другого.\""
   ]
  },
  {
   "cell_type": "code",
   "execution_count": 2,
   "id": "21175535-3fdb-4049-9c56-c49ae0237b62",
   "metadata": {},
   "outputs": [
    {
     "name": "stdout",
     "output_type": "stream",
     "text": [
      "В первом случае число 789 подставляется в значение list_two, значение list_one остается без изменения, потому что это два разных значения. Во втором же случае число 789 подставляется в оба значения,т.к. одно значение вытекает из другого.\n"
     ]
    }
   ],
   "source": [
    "print(difference_explanation)"
   ]
  },
  {
   "cell_type": "markdown",
   "id": "9062939d-6f44-44cf-9b28-5854ebeb1594",
   "metadata": {},
   "source": [
    "Задание 2.\n",
    "Задайте переменную a_poem типа строка, со следующим содержимым:\n",
    "<code>\n",
    "За стеклом лежал Питон,\n",
    "Большой и толстый, как батон.\n",
    "Вверх пополз,\n",
    "Затем вернулся,\n",
    "Круглым бубликом свернулся.\n",
    "</code>\n",
    "- Создайте переменную a_list типа список, заполнив ее содержимым строки a_poem так, чтобы каждый символ строки a_poem стал отдельным элементом списка a_list\n",
    "- Создайте переменную another_list типа список, заполнив ее содержимым строки a_poem так, чтобы каждое слово строки a_poem стал отдельным элементом списка another_list. Знаки препинания прилипнут к словам, не страшно.\n",
    "- Выведите на экран элементы и их количество для списков a_list и another_list.\n",
    "- Создайте переменную one_more_list типа список, каждым элементом которой является отдельная строка строфы из a_poem. Выведите на экран элементы one_more_list и их количество."
   ]
  },
  {
   "cell_type": "code",
   "execution_count": 6,
   "id": "ac243f9a-2a7a-49aa-b58b-993fea424ec4",
   "metadata": {},
   "outputs": [],
   "source": [
    "a_poem = ''' За стеклом лежал Питон,\n",
    "Большой и толстый, как батон.\n",
    "Вверх пополз,\n",
    "Затем вернулся,\n",
    "Круглым бубликом свернулся. '''\n"
   ]
  },
  {
   "cell_type": "code",
   "execution_count": 8,
   "id": "d4273f09-4c53-4f3f-8830-fea604f04164",
   "metadata": {},
   "outputs": [],
   "source": [
    "a_list = a_poem"
   ]
  },
  {
   "cell_type": "code",
   "execution_count": 16,
   "id": "09d47b49-1e32-439c-a300-800fbe1554ba",
   "metadata": {},
   "outputs": [
    {
     "data": {
      "text/plain": [
       "[' ',\n",
       " 'З',\n",
       " 'а',\n",
       " ' ',\n",
       " 'с',\n",
       " 'т',\n",
       " 'е',\n",
       " 'к',\n",
       " 'л',\n",
       " 'о',\n",
       " 'м',\n",
       " ' ',\n",
       " 'л',\n",
       " 'е',\n",
       " 'ж',\n",
       " 'а',\n",
       " 'л',\n",
       " ' ',\n",
       " 'П',\n",
       " 'и',\n",
       " 'т',\n",
       " 'о',\n",
       " 'н',\n",
       " ',',\n",
       " '\\n',\n",
       " 'Б',\n",
       " 'о',\n",
       " 'л',\n",
       " 'ь',\n",
       " 'ш',\n",
       " 'о',\n",
       " 'й',\n",
       " ' ',\n",
       " 'и',\n",
       " ' ',\n",
       " 'т',\n",
       " 'о',\n",
       " 'л',\n",
       " 'с',\n",
       " 'т',\n",
       " 'ы',\n",
       " 'й',\n",
       " ',',\n",
       " ' ',\n",
       " 'к',\n",
       " 'а',\n",
       " 'к',\n",
       " ' ',\n",
       " 'б',\n",
       " 'а',\n",
       " 'т',\n",
       " 'о',\n",
       " 'н',\n",
       " '.',\n",
       " '\\n',\n",
       " 'В',\n",
       " 'в',\n",
       " 'е',\n",
       " 'р',\n",
       " 'х',\n",
       " ' ',\n",
       " 'п',\n",
       " 'о',\n",
       " 'п',\n",
       " 'о',\n",
       " 'л',\n",
       " 'з',\n",
       " ',',\n",
       " '\\n',\n",
       " 'З',\n",
       " 'а',\n",
       " 'т',\n",
       " 'е',\n",
       " 'м',\n",
       " ' ',\n",
       " 'в',\n",
       " 'е',\n",
       " 'р',\n",
       " 'н',\n",
       " 'у',\n",
       " 'л',\n",
       " 'с',\n",
       " 'я',\n",
       " ',',\n",
       " '\\n',\n",
       " 'К',\n",
       " 'р',\n",
       " 'у',\n",
       " 'г',\n",
       " 'л',\n",
       " 'ы',\n",
       " 'м',\n",
       " ' ',\n",
       " 'б',\n",
       " 'у',\n",
       " 'б',\n",
       " 'л',\n",
       " 'и',\n",
       " 'к',\n",
       " 'о',\n",
       " 'м',\n",
       " ' ',\n",
       " 'с',\n",
       " 'в',\n",
       " 'е',\n",
       " 'р',\n",
       " 'н',\n",
       " 'у',\n",
       " 'л',\n",
       " 'с',\n",
       " 'я',\n",
       " '.',\n",
       " ' ']"
      ]
     },
     "execution_count": 16,
     "metadata": {},
     "output_type": "execute_result"
    }
   ],
   "source": [
    "list(a_list)"
   ]
  },
  {
   "cell_type": "code",
   "execution_count": 39,
   "id": "506b776f-325a-4e45-aea5-45a4f571eba0",
   "metadata": {},
   "outputs": [],
   "source": [
    "another_list = a_poem.split()"
   ]
  },
  {
   "cell_type": "code",
   "execution_count": 40,
   "id": "48e83820-6902-4368-bb94-bc1fd5af0508",
   "metadata": {},
   "outputs": [
    {
     "data": {
      "text/plain": [
       "['За',\n",
       " 'стеклом',\n",
       " 'лежал',\n",
       " 'Питон,',\n",
       " 'Большой',\n",
       " 'и',\n",
       " 'толстый,',\n",
       " 'как',\n",
       " 'батон.',\n",
       " 'Вверх',\n",
       " 'пополз,',\n",
       " 'Затем',\n",
       " 'вернулся,',\n",
       " 'Круглым',\n",
       " 'бубликом',\n",
       " 'свернулся.']"
      ]
     },
     "execution_count": 40,
     "metadata": {},
     "output_type": "execute_result"
    }
   ],
   "source": [
    "another_list"
   ]
  },
  {
   "cell_type": "code",
   "execution_count": 24,
   "id": "8cb13242-21fa-4c20-b656-86f11d86d197",
   "metadata": {},
   "outputs": [
    {
     "data": {
      "text/plain": [
       "113"
      ]
     },
     "execution_count": 24,
     "metadata": {},
     "output_type": "execute_result"
    }
   ],
   "source": [
    "len(a_list)"
   ]
  },
  {
   "cell_type": "code",
   "execution_count": 41,
   "id": "57aa76bb-9e0b-404c-ae2d-83e24898816e",
   "metadata": {},
   "outputs": [
    {
     "data": {
      "text/plain": [
       "16"
      ]
     },
     "execution_count": 41,
     "metadata": {},
     "output_type": "execute_result"
    }
   ],
   "source": [
    "len(another_list)"
   ]
  },
  {
   "cell_type": "code",
   "execution_count": 32,
   "id": "71b26e81-91a0-4f31-ba2c-e7da64ee549a",
   "metadata": {},
   "outputs": [],
   "source": [
    "one_more_list = a_poem.split('\\n')"
   ]
  },
  {
   "cell_type": "code",
   "execution_count": 33,
   "id": "68cf9a0a-04b3-497d-aa77-1b1af001dfe1",
   "metadata": {},
   "outputs": [
    {
     "name": "stdout",
     "output_type": "stream",
     "text": [
      "[' За стеклом лежал Питон,', 'Большой и толстый, как батон.', 'Вверх пополз,', 'Затем вернулся,', 'Круглым бубликом свернулся. ']\n"
     ]
    },
    {
     "data": {
      "text/plain": [
       "5"
      ]
     },
     "execution_count": 33,
     "metadata": {},
     "output_type": "execute_result"
    }
   ],
   "source": [
    "print(one_more_list) \n",
    "len(one_more_list)"
   ]
  },
  {
   "cell_type": "markdown",
   "id": "2b39f64c-c7d4-4eb5-907e-d0d9f598c33f",
   "metadata": {},
   "source": [
    "Задание 3.\n",
    "- Создайте список solyanka_list, в качестве его элементов добавьте значения каждого из известных вам типов данных python.\n",
    "- Выведите на экран содержимое списка solyanka_list.\n",
    "- Посчитайте количество элементов списка solyanka_list.\n",
    "- Выведите на экран тип пятого от начала списка элемента.\n",
    "- Добавьте в конец списка solyanka_list элемент типа \"список\" из одного элемента\n",
    "- Выведите на экран тип последнего элемента списка solyanka_list "
   ]
  },
  {
   "cell_type": "code",
   "execution_count": 3,
   "id": "1317a98b-5c29-4cb5-b0cf-9dc94a030f08",
   "metadata": {},
   "outputs": [],
   "source": [
    "solynka_list = [\"string\", 10, [14, 0.5], 1.5, (1, 2, 3, 4), False, {1,2,3}, \"Vasya\", {\"Petya\":12345}]"
   ]
  },
  {
   "cell_type": "code",
   "execution_count": 4,
   "id": "a33fcc72-e208-4c49-94bf-af88c26f0413",
   "metadata": {},
   "outputs": [
    {
     "name": "stdout",
     "output_type": "stream",
     "text": [
      "['string', 10, [14, 0.5], 1.5, (1, 2, 3, 4), False, {1, 2, 3}, 'Vasya', {'Petya': 12345}]\n"
     ]
    }
   ],
   "source": [
    "print(solynka_list)"
   ]
  },
  {
   "cell_type": "code",
   "execution_count": 42,
   "id": "c6ffb20e-9128-48d8-9163-74a579da0d9c",
   "metadata": {},
   "outputs": [
    {
     "data": {
      "text/plain": [
       "9"
      ]
     },
     "execution_count": 42,
     "metadata": {},
     "output_type": "execute_result"
    }
   ],
   "source": [
    "len(solynka_list)"
   ]
  },
  {
   "cell_type": "code",
   "execution_count": 54,
   "id": "d1add6c3-e6dd-4312-b162-6a4525719786",
   "metadata": {},
   "outputs": [
    {
     "data": {
      "text/plain": [
       "bool"
      ]
     },
     "execution_count": 54,
     "metadata": {},
     "output_type": "execute_result"
    }
   ],
   "source": [
    "type(solynka_list[5])"
   ]
  },
  {
   "cell_type": "code",
   "execution_count": 52,
   "id": "6c3f57b4-d455-4ebc-84e7-6a00be8119c2",
   "metadata": {},
   "outputs": [],
   "source": [
    "solynka_list.append([90])"
   ]
  },
  {
   "cell_type": "code",
   "execution_count": 55,
   "id": "4c4bd7d7-6fa1-49b1-b9b0-17dec9ecbdd1",
   "metadata": {},
   "outputs": [
    {
     "data": {
      "text/plain": [
       "list"
      ]
     },
     "execution_count": 55,
     "metadata": {},
     "output_type": "execute_result"
    }
   ],
   "source": [
    "type(solynka_list [-1])"
   ]
  },
  {
   "cell_type": "markdown",
   "id": "1c3f95c6-cd6a-4ce5-b70b-654e896551fa",
   "metadata": {},
   "source": [
    "Задание 4.\n",
    "Дана последовательности чисел Фибоначчи из нескольких элементов:\n",
    "<code>\n",
    "0, 1, 1, 2, 3, 5, 8, 13, 21, 34, 55, 89, 144, 233, 377, 610, 987, 1597, 2584, 4181, 6765, 10946, 17711\n",
    "</code>\n",
    "- Создайте список fibonacci_list, элементами которого будут числа Фибонначи из задания.\n",
    "- Посчитайте и выведите на экран, сколько чисел Фибоначчи в последовательности из задания\n",
    "- Посчитайте и выведите на экран, сколько раз число 1 входит в заданную последовательность Фибоначчи.\n",
    "- Проверьте и выведите на экран результат, является ли число 21 числом Фибоначчи. Число 33? Число 987? число 9999?\n",
    "использование оператора if возможно, но не является необходимым\n"
   ]
  },
  {
   "cell_type": "code",
   "execution_count": 95,
   "id": "ea8bb03d-b06c-4f60-af8a-dcf862bc80d0",
   "metadata": {},
   "outputs": [],
   "source": [
    "fibonacci_list = (0, 1, 1, 2, 3, 5, 8, 13, 21, 34, 55, 89, 144, 233, 377, 610, 987, 1597, 2584, 4181, 6765, 10946, 17711)"
   ]
  },
  {
   "cell_type": "code",
   "execution_count": 96,
   "id": "d9bfe436-e955-4d4d-98c5-99d4ba02c224",
   "metadata": {},
   "outputs": [
    {
     "data": {
      "text/plain": [
       "23"
      ]
     },
     "execution_count": 96,
     "metadata": {},
     "output_type": "execute_result"
    }
   ],
   "source": [
    "len(fibonacci_list)"
   ]
  },
  {
   "cell_type": "code",
   "execution_count": 58,
   "id": "26005cd2-88f7-42f4-aa26-68063d62da74",
   "metadata": {},
   "outputs": [
    {
     "data": {
      "text/plain": [
       "2"
      ]
     },
     "execution_count": 58,
     "metadata": {},
     "output_type": "execute_result"
    }
   ],
   "source": [
    "fibonacci_list.count"
   ]
  },
  {
   "cell_type": "code",
   "execution_count": 97,
   "id": "e9ddd8a2-c6a2-4f4f-b925-a0f38295903a",
   "metadata": {},
   "outputs": [
    {
     "data": {
      "text/plain": [
       "True"
      ]
     },
     "execution_count": 97,
     "metadata": {},
     "output_type": "execute_result"
    }
   ],
   "source": [
    "21 in fibonacci_list"
   ]
  },
  {
   "cell_type": "code",
   "execution_count": 98,
   "id": "3e054b08-4a64-4f67-a28c-f1c322e06b33",
   "metadata": {},
   "outputs": [
    {
     "data": {
      "text/plain": [
       "False"
      ]
     },
     "execution_count": 98,
     "metadata": {},
     "output_type": "execute_result"
    }
   ],
   "source": [
    "33 in fibonacci_list"
   ]
  },
  {
   "cell_type": "code",
   "execution_count": 99,
   "id": "ff10c2a0-2faf-451c-8a24-c8ef2cdea336",
   "metadata": {},
   "outputs": [
    {
     "data": {
      "text/plain": [
       "False"
      ]
     },
     "execution_count": 99,
     "metadata": {},
     "output_type": "execute_result"
    }
   ],
   "source": [
    "978 in fibonacci_list"
   ]
  },
  {
   "cell_type": "code",
   "execution_count": 100,
   "id": "5933ad95-3b48-41ed-9921-9d2186b9cf02",
   "metadata": {},
   "outputs": [
    {
     "data": {
      "text/plain": [
       "False"
      ]
     },
     "execution_count": 100,
     "metadata": {},
     "output_type": "execute_result"
    }
   ],
   "source": [
    "9999 in fibonacci_list"
   ]
  },
  {
   "cell_type": "markdown",
   "id": "dcdad8af-7eb3-4141-9ddf-fe563743c56b",
   "metadata": {},
   "source": [
    "Задание 5.\n",
    "Задайте переменную a_list типа \"список\" со следующим содержимым:\n",
    "<code>\n",
    "1,2,5,4,3,6\n",
    "</code>\n",
    "- выведите содержимое a_list на экран\n",
    "- поменяйте местами третий и пятый элементы a_list и выведите результат на экран"
   ]
  },
  {
   "cell_type": "code",
   "execution_count": 6,
   "id": "7810bbf9-d4a5-44c1-b73c-db4ce6d26a20",
   "metadata": {},
   "outputs": [],
   "source": [
    "a_list = [1,2,5,4,3,6]"
   ]
  },
  {
   "cell_type": "code",
   "execution_count": 7,
   "id": "70acd54a-9f51-485a-9a35-c3e717ae95c7",
   "metadata": {},
   "outputs": [
    {
     "name": "stdout",
     "output_type": "stream",
     "text": [
      "[1, 2, 3, 4, 5, 6]\n"
     ]
    }
   ],
   "source": [
    "a_list[2], a_list[4] = a_list[4], a_list[2]\n",
    "print(a_list)"
   ]
  },
  {
   "cell_type": "markdown",
   "id": "15144689-623a-43a5-80ca-0483f66017a1",
   "metadata": {},
   "source": [
    "Задание 6.\n",
    "    Кто-то перепутал строчки в стихотворении, хорошо что они были пронумерованы.\n",
    "<code>\n",
    "    (2, \"тот большего добьётся,\" )\n",
    "    (5, \"Кто умирал, тот знает, что живёт.\")\n",
    "    (1, \"Кто битым жизнью был,\" )\n",
    "    (3, \"Пуд соли съевший выше ценит мёд.\")\n",
    "    (4, \"Кто слёзы лил, тот искренней смеётся,\") \n",
    "</code>\n",
    "    выведите на экран строки Омара Хайама в правильном порядке, используя список."
   ]
  },
  {
   "cell_type": "code",
   "execution_count": 121,
   "id": "e85d1901-5856-41e1-bfb8-382e8489f86b",
   "metadata": {},
   "outputs": [],
   "source": [
    "l = [(2, \"тот большего добьётся,\" ),\n",
    "      (5, \"Кто умирал, тот знает, что живёт.\"),\n",
    "      (1, \"Кто битым жизнью был,\" ),\n",
    "      (3, \"Пуд соли съевший выше ценит мёд.\"),\n",
    "      (4, \"Кто слёзы лил, тот искренней смеётся,\")]"
   ]
  },
  {
   "cell_type": "code",
   "execution_count": 131,
   "id": "9208c947-c7d0-4245-89cf-e5575d21b9f2",
   "metadata": {},
   "outputs": [
    {
     "data": {
      "text/plain": [
       "[(1, 'Кто битым жизнью был,'),\n",
       " (2, 'тот большего добьётся,'),\n",
       " (3, 'Пуд соли съевший выше ценит мёд.'),\n",
       " (4, 'Кто слёзы лил, тот искренней смеётся,'),\n",
       " (5, 'Кто умирал, тот знает, что живёт.')]"
      ]
     },
     "execution_count": 131,
     "metadata": {},
     "output_type": "execute_result"
    }
   ],
   "source": [
    "l.sort()\n",
    "l"
   ]
  },
  {
   "cell_type": "markdown",
   "id": "d1eaace5-016a-4564-b189-33876e6c0e20",
   "metadata": {},
   "source": [
    "Задание 7.\n",
    "<code>\n",
    "Кто битым за дедлайн был,\n",
    "тот больше не сольется.\n",
    "Пуд багов съевший, выше ценит чистый код.\n",
    "Кто дошик ел, тот рейтинг ценит свой.\n",
    "Кто крашился, тот знает, что живой.\n",
    "</code>\n",
    "В данном задании после каждой операции выводите на экран содержимое true_story_list и количество его элементов.\n",
    "- Создайте переменную true_story_list типа список, занесите в неё третью строку из стихотворения выше.\n",
    "- Добавьте четвертую строку в конец списка true_story_list.\n",
    "- Создайте переменную true_story_slice типа список, занесите в неё четвертую и пятую строки из стихотворения выше. Добавьте содержимое true_story_slice как один последний элемент списка true_story_list.\n",
    "- Очистите весь список true_story_slice, выведите его содержимое на экран.\n",
    "- Добавьте первую строку из стихотворение в начало списка true_story_list\n",
    "- Удалите из true_story_list все элементы.\n",
    "- Удалите последний элемент списка true_story_list\n",
    "- Добавьте вторым элементом списка true_story_list вторую строчку стихотворения\n",
    "- Создайте переменную true_story_tail типа список, занесите в него пятую строку стихотворения дважды. Скопируйте элементы списка true_story_tail в конец списка true_story_list.\n",
    "- Удалите 5 элемент списка true_story_list.\n",
    "- *Выведите список true_story_list красиво в виде стихотворения. (кажется, это ещё не проходили, но попробовать стоит)"
   ]
  },
  {
   "cell_type": "code",
   "execution_count": 147,
   "id": "f022d5b0-5d91-4662-9bf2-6bc20fb1b269",
   "metadata": {},
   "outputs": [],
   "source": [
    "poem = '''Кто битым за дедлайн был,\n",
    "тот больше не сольется.\n",
    "Пуд багов съевший, выше ценит чистый код.\n",
    "Кто дошик ел, тот рейтинг ценит свой.\n",
    "Кто крашился, тот знает, что живой.'''"
   ]
  },
  {
   "cell_type": "code",
   "execution_count": 148,
   "id": "8e6e0d3b-bbdb-4825-8d32-cb1448f35f5b",
   "metadata": {},
   "outputs": [],
   "source": [
    "poem_list = poem.split('\\n')"
   ]
  },
  {
   "cell_type": "code",
   "execution_count": 149,
   "id": "cd7c375d-9383-4874-9fc6-59631ddeb432",
   "metadata": {},
   "outputs": [
    {
     "data": {
      "text/plain": [
       "['Кто битым за дедлайн был,',\n",
       " 'тот больше не сольется.',\n",
       " 'Пуд багов съевший, выше ценит чистый код.',\n",
       " 'Кто дошик ел, тот рейтинг ценит свой.',\n",
       " 'Кто крашился, тот знает, что живой.']"
      ]
     },
     "execution_count": 149,
     "metadata": {},
     "output_type": "execute_result"
    }
   ],
   "source": [
    "poem_list"
   ]
  },
  {
   "cell_type": "code",
   "execution_count": 150,
   "id": "d5ff4305-710e-4c99-b14c-b7a2a8cb0488",
   "metadata": {},
   "outputs": [],
   "source": [
    "true_story_list = [poem_list[2]]"
   ]
  },
  {
   "cell_type": "code",
   "execution_count": 151,
   "id": "166ad957-eb00-48fb-aa74-5f1aaa561edc",
   "metadata": {},
   "outputs": [
    {
     "data": {
      "text/plain": [
       "['Пуд багов съевший, выше ценит чистый код.']"
      ]
     },
     "execution_count": 151,
     "metadata": {},
     "output_type": "execute_result"
    }
   ],
   "source": [
    "true_story_list"
   ]
  },
  {
   "cell_type": "code",
   "execution_count": 152,
   "id": "11d99fbe-e9dd-4e27-bfdd-2b8420d7c413",
   "metadata": {},
   "outputs": [],
   "source": [
    "true_story_list = [\"Пуд багов съевший, выше ценит чистый код.\"]"
   ]
  },
  {
   "cell_type": "code",
   "execution_count": 153,
   "id": "3f39f9f6-72d7-45c4-80a6-654c93bbf1ce",
   "metadata": {},
   "outputs": [
    {
     "data": {
      "text/plain": [
       "['Пуд багов съевший, выше ценит чистый код.']"
      ]
     },
     "execution_count": 153,
     "metadata": {},
     "output_type": "execute_result"
    }
   ],
   "source": [
    "true_story_list"
   ]
  },
  {
   "cell_type": "code",
   "execution_count": 154,
   "id": "5ac19529-e4e1-4ab2-8b0b-38347b49a6b8",
   "metadata": {},
   "outputs": [
    {
     "data": {
      "text/plain": [
       "1"
      ]
     },
     "execution_count": 154,
     "metadata": {},
     "output_type": "execute_result"
    }
   ],
   "source": [
    "len(true_story_list)"
   ]
  },
  {
   "cell_type": "code",
   "execution_count": 155,
   "id": "4acae2d8-2693-4b53-accf-f5a88a7552cf",
   "metadata": {},
   "outputs": [],
   "source": [
    "true_story_list.append(poem_list[3])"
   ]
  },
  {
   "cell_type": "code",
   "execution_count": 156,
   "id": "2ac81cea-4590-431d-83bc-a0ac3943f305",
   "metadata": {},
   "outputs": [
    {
     "data": {
      "text/plain": [
       "['Пуд багов съевший, выше ценит чистый код.',\n",
       " 'Кто дошик ел, тот рейтинг ценит свой.']"
      ]
     },
     "execution_count": 156,
     "metadata": {},
     "output_type": "execute_result"
    }
   ],
   "source": [
    "true_story_list"
   ]
  },
  {
   "cell_type": "code",
   "execution_count": 157,
   "id": "6dbffac8-9d24-4d1a-8e3c-5bed40b22fb1",
   "metadata": {},
   "outputs": [
    {
     "data": {
      "text/plain": [
       "2"
      ]
     },
     "execution_count": 157,
     "metadata": {},
     "output_type": "execute_result"
    }
   ],
   "source": [
    "len(true_story_list)"
   ]
  },
  {
   "cell_type": "code",
   "execution_count": 158,
   "id": "6b668e27-4087-43b2-902d-d25659f5c236",
   "metadata": {},
   "outputs": [],
   "source": [
    "true_story_slice = poem_list[3:5]"
   ]
  },
  {
   "cell_type": "code",
   "execution_count": 159,
   "id": "94bfdc41-a1aa-4d0d-b1f6-5636151b825b",
   "metadata": {},
   "outputs": [
    {
     "data": {
      "text/plain": [
       "['Кто дошик ел, тот рейтинг ценит свой.',\n",
       " 'Кто крашился, тот знает, что живой.']"
      ]
     },
     "execution_count": 159,
     "metadata": {},
     "output_type": "execute_result"
    }
   ],
   "source": [
    "true_story_slice"
   ]
  },
  {
   "cell_type": "code",
   "execution_count": 160,
   "id": "99b45a6f-878c-4c5d-9d30-3cc1c8c9acda",
   "metadata": {},
   "outputs": [],
   "source": [
    "true_story_list.append(true_story_slice)"
   ]
  },
  {
   "cell_type": "code",
   "execution_count": 161,
   "id": "53713eb6-7b64-46a8-aa24-689ed1a10cef",
   "metadata": {},
   "outputs": [
    {
     "data": {
      "text/plain": [
       "['Пуд багов съевший, выше ценит чистый код.',\n",
       " 'Кто дошик ел, тот рейтинг ценит свой.',\n",
       " ['Кто дошик ел, тот рейтинг ценит свой.',\n",
       "  'Кто крашился, тот знает, что живой.']]"
      ]
     },
     "execution_count": 161,
     "metadata": {},
     "output_type": "execute_result"
    }
   ],
   "source": [
    "true_story_list"
   ]
  },
  {
   "cell_type": "code",
   "execution_count": 162,
   "id": "3aebc0e7-559d-43e1-a9b9-5b16481716b9",
   "metadata": {},
   "outputs": [
    {
     "data": {
      "text/plain": [
       "3"
      ]
     },
     "execution_count": 162,
     "metadata": {},
     "output_type": "execute_result"
    }
   ],
   "source": [
    "len(true_story_list)"
   ]
  },
  {
   "cell_type": "code",
   "execution_count": 172,
   "id": "a808e4d2-09ed-42b2-a072-cbe0f22e49d5",
   "metadata": {},
   "outputs": [],
   "source": [
    "true_story_slice.clear()"
   ]
  },
  {
   "cell_type": "code",
   "execution_count": 173,
   "id": "aa3466fe-fefe-497c-a553-57066a0876ac",
   "metadata": {},
   "outputs": [
    {
     "data": {
      "text/plain": [
       "[]"
      ]
     },
     "execution_count": 173,
     "metadata": {},
     "output_type": "execute_result"
    }
   ],
   "source": [
    "true_story_slice"
   ]
  },
  {
   "cell_type": "code",
   "execution_count": 177,
   "id": "eedd2bc7-b65a-4ff3-8d12-d438792ad5f1",
   "metadata": {},
   "outputs": [],
   "source": [
    "true_story_list.insert(0, \"Кто битым за дедлайн был,\")"
   ]
  },
  {
   "cell_type": "code",
   "execution_count": 190,
   "id": "ad489173-fd72-46b3-8233-231035523427",
   "metadata": {},
   "outputs": [
    {
     "data": {
      "text/plain": [
       "['Кто битым за дедлайн был,',\n",
       " 'Пуд багов съевший, выше ценит чистый код.',\n",
       " 'Кто дошик ел, тот рейтинг ценит свой.',\n",
       " []]"
      ]
     },
     "execution_count": 190,
     "metadata": {},
     "output_type": "execute_result"
    }
   ],
   "source": [
    "true_story_list"
   ]
  },
  {
   "cell_type": "code",
   "execution_count": 191,
   "id": "cf2c4f3e-45c3-4f27-9a80-876618f5ea4b",
   "metadata": {},
   "outputs": [
    {
     "data": {
      "text/plain": [
       "4"
      ]
     },
     "execution_count": 191,
     "metadata": {},
     "output_type": "execute_result"
    }
   ],
   "source": [
    "len(true_story_list)"
   ]
  },
  {
   "cell_type": "code",
   "execution_count": 192,
   "id": "149d583b-5a02-465f-9de9-2ef085f9af2b",
   "metadata": {},
   "outputs": [],
   "source": [
    "del true_story_list[-1]"
   ]
  },
  {
   "cell_type": "code",
   "execution_count": 193,
   "id": "2dea9a57-f66b-45fe-b466-dc79de8d42a5",
   "metadata": {},
   "outputs": [
    {
     "data": {
      "text/plain": [
       "['Кто битым за дедлайн был,',\n",
       " 'Пуд багов съевший, выше ценит чистый код.',\n",
       " 'Кто дошик ел, тот рейтинг ценит свой.']"
      ]
     },
     "execution_count": 193,
     "metadata": {},
     "output_type": "execute_result"
    }
   ],
   "source": [
    "true_story_list"
   ]
  },
  {
   "cell_type": "code",
   "execution_count": 194,
   "id": "ccfc3727-13bb-4e45-bc54-dd010bd271dc",
   "metadata": {},
   "outputs": [
    {
     "data": {
      "text/plain": [
       "3"
      ]
     },
     "execution_count": 194,
     "metadata": {},
     "output_type": "execute_result"
    }
   ],
   "source": [
    "len(true_story_list)"
   ]
  },
  {
   "cell_type": "code",
   "execution_count": 195,
   "id": "11dc8cfc-c23f-43e5-ba7f-effe063de2bf",
   "metadata": {},
   "outputs": [],
   "source": [
    "true_story_list.insert(1, 'тот больше не сольется.')"
   ]
  },
  {
   "cell_type": "code",
   "execution_count": 196,
   "id": "c8583898-7b05-47c6-9cf9-8e5e66a53528",
   "metadata": {},
   "outputs": [
    {
     "data": {
      "text/plain": [
       "['Кто битым за дедлайн был,',\n",
       " 'тот больше не сольется.',\n",
       " 'Пуд багов съевший, выше ценит чистый код.',\n",
       " 'Кто дошик ел, тот рейтинг ценит свой.']"
      ]
     },
     "execution_count": 196,
     "metadata": {},
     "output_type": "execute_result"
    }
   ],
   "source": [
    "true_story_list"
   ]
  },
  {
   "cell_type": "code",
   "execution_count": 197,
   "id": "a6fcb57f-2125-4998-a88f-69555006bbc8",
   "metadata": {},
   "outputs": [
    {
     "data": {
      "text/plain": [
       "4"
      ]
     },
     "execution_count": 197,
     "metadata": {},
     "output_type": "execute_result"
    }
   ],
   "source": [
    "len(true_story_list)"
   ]
  },
  {
   "cell_type": "code",
   "execution_count": 198,
   "id": "beb00f8a-d19c-465e-b57a-0ecb3eb8f28d",
   "metadata": {},
   "outputs": [],
   "source": [
    "true_story_tail = ['Кто крашился, тот знает, что живой.', 'Кто крашился, тот знает, что живой.']"
   ]
  },
  {
   "cell_type": "code",
   "execution_count": 199,
   "id": "76f09489-fe9d-41db-a38d-867ee2835792",
   "metadata": {},
   "outputs": [],
   "source": [
    "true_story_list.extend(true_story_tail)"
   ]
  },
  {
   "cell_type": "code",
   "execution_count": 200,
   "id": "1f9a4dd3-97c4-49f7-8462-f8b07a4e380a",
   "metadata": {},
   "outputs": [
    {
     "data": {
      "text/plain": [
       "['Кто битым за дедлайн был,',\n",
       " 'тот больше не сольется.',\n",
       " 'Пуд багов съевший, выше ценит чистый код.',\n",
       " 'Кто дошик ел, тот рейтинг ценит свой.',\n",
       " 'Кто крашился, тот знает, что живой.',\n",
       " 'Кто крашился, тот знает, что живой.']"
      ]
     },
     "execution_count": 200,
     "metadata": {},
     "output_type": "execute_result"
    }
   ],
   "source": [
    "true_story_list"
   ]
  },
  {
   "cell_type": "code",
   "execution_count": 201,
   "id": "76e73ed0-7858-411b-9aba-ec21e6ecc173",
   "metadata": {},
   "outputs": [
    {
     "data": {
      "text/plain": [
       "6"
      ]
     },
     "execution_count": 201,
     "metadata": {},
     "output_type": "execute_result"
    }
   ],
   "source": [
    "len(true_story_list)"
   ]
  },
  {
   "cell_type": "code",
   "execution_count": 202,
   "id": "4576314c-30e0-435f-8e3d-fc427e3b500b",
   "metadata": {},
   "outputs": [],
   "source": [
    "del true_story_list[4]"
   ]
  },
  {
   "cell_type": "code",
   "execution_count": 203,
   "id": "5c81abc7-3c77-426b-b17e-7f04f90521d3",
   "metadata": {},
   "outputs": [
    {
     "data": {
      "text/plain": [
       "['Кто битым за дедлайн был,',\n",
       " 'тот больше не сольется.',\n",
       " 'Пуд багов съевший, выше ценит чистый код.',\n",
       " 'Кто дошик ел, тот рейтинг ценит свой.',\n",
       " 'Кто крашился, тот знает, что живой.']"
      ]
     },
     "execution_count": 203,
     "metadata": {},
     "output_type": "execute_result"
    }
   ],
   "source": [
    "true_story_list"
   ]
  },
  {
   "cell_type": "code",
   "execution_count": 204,
   "id": "2f7bb576-2ea0-4a1f-b709-02b3dee188e9",
   "metadata": {},
   "outputs": [
    {
     "data": {
      "text/plain": [
       "5"
      ]
     },
     "execution_count": 204,
     "metadata": {},
     "output_type": "execute_result"
    }
   ],
   "source": [
    "len(true_story_list)"
   ]
  },
  {
   "cell_type": "code",
   "execution_count": 209,
   "id": "15502059-8f54-4fd4-a8dd-a221389f7ab2",
   "metadata": {},
   "outputs": [
    {
     "name": "stdout",
     "output_type": "stream",
     "text": [
      "Кто битым за дедлайн был,\n",
      " тот больше не сольется.\n",
      " Пуд багов съевший, выше ценит чистый код.\n",
      " Кто дошик ел, тот рейтинг ценит свой.\n",
      " Кто крашился, тот знает, что живой.\n",
      "\n"
     ]
    }
   ],
   "source": [
    "print(*[item + '\\n' for item in true_story_list])"
   ]
  },
  {
   "cell_type": "markdown",
   "id": "c1abfad7-cd4a-4ae6-8fad-7c7c401c3e2d",
   "metadata": {},
   "source": [
    "#  test"
   ]
  },
  {
   "cell_type": "code",
   "execution_count": null,
   "id": "a9cb44df-af56-4cb5-8e6f-73ed88649776",
   "metadata": {},
   "outputs": [],
   "source": []
  },
  {
   "cell_type": "code",
   "execution_count": null,
   "id": "79141109-487d-4aba-ab77-f059c8b42942",
   "metadata": {},
   "outputs": [],
   "source": []
  }
 ],
 "metadata": {
  "kernelspec": {
   "display_name": "Python 3 (ipykernel)",
   "language": "python",
   "name": "python3"
  },
  "language_info": {
   "codemirror_mode": {
    "name": "ipython",
    "version": 3
   },
   "file_extension": ".py",
   "mimetype": "text/x-python",
   "name": "python",
   "nbconvert_exporter": "python",
   "pygments_lexer": "ipython3",
   "version": "3.10.10"
  }
 },
 "nbformat": 4,
 "nbformat_minor": 5
}
