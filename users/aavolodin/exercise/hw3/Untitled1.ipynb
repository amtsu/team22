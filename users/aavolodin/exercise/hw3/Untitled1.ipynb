{
 "cells": [
  {
   "cell_type": "code",
   "execution_count": 9,
   "id": "2821fc54-be67-4879-842e-830f46fce9df",
   "metadata": {
    "editable": true,
    "slideshow": {
     "slide_type": ""
    },
    "tags": []
   },
   "outputs": [
    {
     "data": {
      "text/plain": [
       "80"
      ]
     },
     "execution_count": 9,
     "metadata": {},
     "output_type": "execute_result"
    }
   ],
   "source": [
    "10*(5+3)"
   ]
  },
  {
   "cell_type": "code",
   "execution_count": 2,
   "id": "bbb5f098-2420-4563-a80e-984649862f7c",
   "metadata": {},
   "outputs": [
    {
     "data": {
      "text/plain": [
       "7.0"
      ]
     },
     "execution_count": 2,
     "metadata": {},
     "output_type": "execute_result"
    }
   ],
   "source": [
    "(20-6)/2"
   ]
  },
  {
   "cell_type": "code",
   "execution_count": 3,
   "id": "ba4d92f1-2991-4284-8aaf-08f8939057cf",
   "metadata": {},
   "outputs": [
    {
     "data": {
      "text/plain": [
       "32"
      ]
     },
     "execution_count": 3,
     "metadata": {},
     "output_type": "execute_result"
    }
   ],
   "source": [
    "2**5"
   ]
  },
  {
   "cell_type": "code",
   "execution_count": 4,
   "id": "ad95e546-0b90-4dd9-adaf-ec529194535b",
   "metadata": {},
   "outputs": [
    {
     "data": {
      "text/plain": [
       "6"
      ]
     },
     "execution_count": 4,
     "metadata": {},
     "output_type": "execute_result"
    }
   ],
   "source": [
    "25//4"
   ]
  },
  {
   "cell_type": "code",
   "execution_count": 1,
   "id": "c97c2289-43b3-4bda-94c5-b825716f5071",
   "metadata": {
    "scrolled": true
   },
   "outputs": [
    {
     "data": {
      "text/plain": [
       "1"
      ]
     },
     "execution_count": 1,
     "metadata": {},
     "output_type": "execute_result"
    }
   ],
   "source": [
    "25%4"
   ]
  },
  {
   "cell_type": "code",
   "execution_count": 9,
   "id": "fea17e94-3503-421a-8ae8-c1f9220b0e90",
   "metadata": {
    "scrolled": true
   },
   "outputs": [
    {
     "data": {
      "text/plain": [
       "-0.14000000000000012"
      ]
     },
     "execution_count": 9,
     "metadata": {},
     "output_type": "execute_result"
    }
   ],
   "source": [
    "-3.14%-3"
   ]
  },
  {
   "cell_type": "code",
   "execution_count": 6,
   "id": "14237e3b-9ce0-45e6-8d1c-d1c1f523f01a",
   "metadata": {},
   "outputs": [],
   "source": [
    "number = -3.14"
   ]
  },
  {
   "cell_type": "code",
   "execution_count": 20,
   "id": "343339d5-8e62-4983-a1e1-207caf9df192",
   "metadata": {},
   "outputs": [
    {
     "data": {
      "text/plain": [
       "-3"
      ]
     },
     "execution_count": 20,
     "metadata": {},
     "output_type": "execute_result"
    }
   ],
   "source": [
    "int(-3.14)"
   ]
  },
  {
   "cell_type": "code",
   "execution_count": 34,
   "id": "ba255e32-d3f3-444f-b04e-07091e1c4316",
   "metadata": {},
   "outputs": [
    {
     "name": "stdout",
     "output_type": "stream",
     "text": [
      "-0.14\n"
     ]
    }
   ],
   "source": [
    "from decimal import Decimal\n",
    "numb = -3.14\n",
    "decim = Decimal(str(numb))\n",
    "print(decim - decim.to_integral_exact())"
   ]
  },
  {
   "cell_type": "code",
   "execution_count": 30,
   "id": "f963eb17-4c4a-4d35-9e86-53e840096838",
   "metadata": {},
   "outputs": [
    {
     "data": {
      "text/plain": [
       "-0.14"
      ]
     },
     "execution_count": 30,
     "metadata": {},
     "output_type": "execute_result"
    }
   ],
   "source": [
    "a = -3.14\n",
    "b = a - int(a)\n",
    "\n",
    "round (b, 2)"
   ]
  },
  {
   "cell_type": "code",
   "execution_count": 5,
   "id": "bbe9d771-f41b-45b6-a6c9-28800c7cebaa",
   "metadata": {},
   "outputs": [
    {
     "name": "stdout",
     "output_type": "stream",
     "text": [
      "35\n"
     ]
    }
   ],
   "source": [
    "a = 5\n",
    "b = 7\n",
    "s = a*b\n",
    "\n",
    "print(s)"
   ]
  },
  {
   "cell_type": "code",
   "execution_count": 12,
   "id": "16d0eaf4-e058-4afb-aec7-d30263f87aa5",
   "metadata": {},
   "outputs": [
    {
     "name": "stdout",
     "output_type": "stream",
     "text": [
      "146\n"
     ]
    }
   ],
   "source": [
    "a1 = 3.5\n",
    "b1 = 6.4\n",
    "a2 = 3.4\n",
    "b2 = 4\n",
    "h = 3.1\n",
    "S3 = 11\n",
    "\n",
    "BTU = (a1*b1*h)+(a2*b2*h)+(S3*h)\n",
    "print(round(BTU))"
   ]
  },
  {
   "cell_type": "code",
   "execution_count": 63,
   "id": "ed6f33c4-58cb-4e30-889f-c24db0f465dc",
   "metadata": {},
   "outputs": [
    {
     "name": "stdout",
     "output_type": "stream",
     "text": [
      "Дискриминант D = 81\n",
      "x1 =  2.0\n",
      "x2 =  -2.5\n"
     ]
    }
   ],
   "source": [
    "a = 2\n",
    "b = 1\n",
    "c = -10\n",
    "d = b ** 2 - 4 * a * c\n",
    "print('Дискриминант D =',d)\n",
    "\n",
    "if d > 0:\n",
    "     x1 = (-b + math.sqrt(d)) / (2 * a)\n",
    "     x2 = (-b - math.sqrt(d)) / (2 * a)\n",
    "     print ('x1 = ', x1)\n",
    "     print ('x2 = ', x2)\n",
    "elif d == O:\n",
    "     x = -b / (2*a)\n",
    "     print(x)\n",
    "else:\n",
    "    print('Корней нет')\n"
   ]
  },
  {
   "cell_type": "code",
   "execution_count": 62,
   "id": "e3587c02-e265-4d74-8b9e-7897ca8b38c2",
   "metadata": {},
   "outputs": [
    {
     "data": {
      "text/plain": [
       "'Hello,world!'"
      ]
     },
     "execution_count": 62,
     "metadata": {},
     "output_type": "execute_result"
    }
   ],
   "source": [
    " \"hello,\".capitalize() + \"world!\"\n"
   ]
  },
  {
   "cell_type": "code",
   "execution_count": 67,
   "id": "d311fa15-d825-4e9e-86c4-30065301bee1",
   "metadata": {},
   "outputs": [
    {
     "data": {
      "text/plain": [
       "12"
      ]
     },
     "execution_count": 67,
     "metadata": {},
     "output_type": "execute_result"
    }
   ],
   "source": [
    "len(\"Hello,world!\")"
   ]
  },
  {
   "cell_type": "code",
   "execution_count": 12,
   "id": "fa38c3dc-fb8b-4140-a1c5-6870d1af2cfa",
   "metadata": {},
   "outputs": [
    {
     "name": "stdout",
     "output_type": "stream",
     "text": [
      "lalalalalalalalalalalalalalalalalalalalalalalalala\n"
     ]
    }
   ],
   "source": [
    "print('la' * 25)"
   ]
  },
  {
   "cell_type": "code",
   "execution_count": 72,
   "id": "e0f2c355-8d0d-48a2-b869-e1a4eb584b6e",
   "metadata": {},
   "outputs": [],
   "source": [
    "numbers = [1, 2, 3, 4, 5]"
   ]
  },
  {
   "cell_type": "code",
   "execution_count": 73,
   "id": "3d321a2a-c065-4752-87e1-d9b5bb3822f3",
   "metadata": {},
   "outputs": [
    {
     "data": {
      "text/plain": [
       "'[1, hi, 3, 4, 5]'"
      ]
     },
     "execution_count": 73,
     "metadata": {},
     "output_type": "execute_result"
    }
   ],
   "source": [
    "\"[1, 2, 3, 4, 5]\".replace(\"2\", \"hi\")"
   ]
  },
  {
   "cell_type": "code",
   "execution_count": 74,
   "id": "a0a4a4e4-cfde-480a-8379-e35d73fc66c5",
   "metadata": {},
   "outputs": [],
   "source": [
    "numbers[4] = [8, 6 ,4]"
   ]
  },
  {
   "cell_type": "code",
   "execution_count": 75,
   "id": "19c7ad9d-646d-431b-818e-69a92e099537",
   "metadata": {},
   "outputs": [
    {
     "data": {
      "text/plain": [
       "[1, 2, 3, 4, [8, 6, 4]]"
      ]
     },
     "execution_count": 75,
     "metadata": {},
     "output_type": "execute_result"
    }
   ],
   "source": [
    "numbers"
   ]
  },
  {
   "cell_type": "code",
   "execution_count": 55,
   "id": "4e7d347b-6ee6-44fb-a76c-0206cf0be2d7",
   "metadata": {},
   "outputs": [
    {
     "data": {
      "text/plain": [
       "(4, 5, 6, 7)"
      ]
     },
     "execution_count": 55,
     "metadata": {},
     "output_type": "execute_result"
    }
   ],
   "source": [
    " (1, 2, 3, 4, 5, 6, 7, 8, 9, 10)[3:7]"
   ]
  }
 ],
 "metadata": {
  "kernelspec": {
   "display_name": "Python 3 (ipykernel)",
   "language": "python",
   "name": "python3"
  },
  "language_info": {
   "codemirror_mode": {
    "name": "ipython",
    "version": 3
   },
   "file_extension": ".py",
   "mimetype": "text/x-python",
   "name": "python",
   "nbconvert_exporter": "python",
   "pygments_lexer": "ipython3",
   "version": "3.10.10"
  }
 },
 "nbformat": 4,
 "nbformat_minor": 5
}
