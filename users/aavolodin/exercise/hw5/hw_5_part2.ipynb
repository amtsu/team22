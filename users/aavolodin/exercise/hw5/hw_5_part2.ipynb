{
 "cells": [
  {
   "cell_type": "raw",
   "id": "d38912b4-5a7a-4a83-bebc-fc5895ab73ef",
   "metadata": {},
   "source": [
    "# Создайте словарь person с ключами \"name\", \"age\" и \"city\" с вашими данными."
   ]
  },
  {
   "cell_type": "code",
   "execution_count": 11,
   "id": "f3388b71-8181-4254-bec8-4a63bb888d07",
   "metadata": {},
   "outputs": [
    {
     "data": {
      "text/plain": [
       "{'name': 'Andrey', 'age': '30', 'city': 'Saransk'}"
      ]
     },
     "execution_count": 11,
     "metadata": {},
     "output_type": "execute_result"
    }
   ],
   "source": [
    "person = {\n",
    "    \"name\": \"Andrey\",\n",
    "    \"age\":  \"30\",\n",
    "    \"city\": \"Saransk\"\n",
    "}\n",
    "person"
   ]
  },
  {
   "cell_type": "raw",
   "id": "76ef5f70-4ba3-400c-9710-3586339876b7",
   "metadata": {},
   "source": [
    "# Добавьте в словарь новый ключ \"email\" со значением вашего электронного адреса."
   ]
  },
  {
   "cell_type": "code",
   "execution_count": 12,
   "id": "534ca391-f878-467a-ac9a-7b29048db84c",
   "metadata": {},
   "outputs": [
    {
     "data": {
      "text/plain": [
       "{'name': 'Andrey',\n",
       " 'age': '30',\n",
       " 'city': 'Saransk',\n",
       " 'email': 'a.volodin@mail.ru'}"
      ]
     },
     "execution_count": 12,
     "metadata": {},
     "output_type": "execute_result"
    }
   ],
   "source": [
    "person[\"email\"] = \"a.volodin@mail.ru\"\n",
    "person"
   ]
  },
  {
   "cell_type": "raw",
   "id": "6f776c95-4f44-4477-9903-54fbe7032f85",
   "metadata": {},
   "source": [
    "# Удалите ключ \"city\" из словаря."
   ]
  },
  {
   "cell_type": "code",
   "execution_count": 13,
   "id": "cd3812c3-47c5-422f-bb82-3c92af5600f4",
   "metadata": {},
   "outputs": [
    {
     "data": {
      "text/plain": [
       "{'name': 'Andrey', 'age': '30', 'email': 'a.volodin@mail.ru'}"
      ]
     },
     "execution_count": 13,
     "metadata": {},
     "output_type": "execute_result"
    }
   ],
   "source": [
    "del person [\"city\"]\n",
    "person"
   ]
  },
  {
   "cell_type": "raw",
   "id": "94fca8fc-3e38-468d-b9d8-02f6118c16c6",
   "metadata": {},
   "source": [
    "# Создайте словарь inventory с товарами \"яблоко\": 5, \"банан\": 10, \"апельсин\": 7."
   ]
  },
  {
   "cell_type": "code",
   "execution_count": 24,
   "id": "985b412a-5e2d-4622-a1b0-7e990aa74c74",
   "metadata": {},
   "outputs": [
    {
     "data": {
      "text/plain": [
       "{'яблоко': '5', 'банан': '10', 'апельсин': '7'}"
      ]
     },
     "execution_count": 24,
     "metadata": {},
     "output_type": "execute_result"
    }
   ],
   "source": [
    "inventory = {\n",
    "    \"яблоко\": \"5\",\n",
    "    \"банан\": \"10\",\n",
    "    \"апельсин\": \"7\"\n",
    "}\n",
    "inventory"
   ]
  },
  {
   "cell_type": "raw",
   "id": "bb0199bb-c071-4b03-a800-276962a18a47",
   "metadata": {},
   "source": [
    "# Увеличьте количество \"бананов\" в инвентаре на 3."
   ]
  },
  {
   "cell_type": "code",
   "execution_count": 26,
   "id": "7cb1ec8d-a4f2-45f9-9ba0-215fbe97bf0a",
   "metadata": {},
   "outputs": [
    {
     "data": {
      "text/plain": [
       "{'яблоко': '5', 'банан': 13, 'апельсин': '7'}"
      ]
     },
     "execution_count": 26,
     "metadata": {},
     "output_type": "execute_result"
    }
   ],
   "source": [
    "inventory[\"банан\"] =13\n",
    "inventory"
   ]
  },
  {
   "cell_type": "raw",
   "id": "fc8d606f-4071-4694-8fb5-9d1054a2a33e",
   "metadata": {},
   "source": [
    "# Создайте новый словарь prices, где цена для каждого продукта задана {\"яблоко\": 1.5, \"банан\": 2, \"апельсин\": 1.2}."
   ]
  },
  {
   "cell_type": "code",
   "execution_count": 28,
   "id": "8f932b8e-c8b7-4a4c-8819-72aee44b6869",
   "metadata": {},
   "outputs": [
    {
     "data": {
      "text/plain": [
       "{'яблоко': '1.5', 'банан': '2', 'апельсин': '1.2'}"
      ]
     },
     "execution_count": 28,
     "metadata": {},
     "output_type": "execute_result"
    }
   ],
   "source": [
    "prices = {\n",
    "    \"яблоко\": \"1.5\",\n",
    "    \"банан\": \"2\",\n",
    "    \"апельсин\": \"1.2\"\n",
    "}\n",
    "prices"
   ]
  },
  {
   "cell_type": "raw",
   "id": "64be196a-4ff1-4def-b09e-98a246a33571",
   "metadata": {},
   "source": [
    "# Создайте словарь students с данными о студентах {\"Иванов\": 22, \"Петрова\": 13, \"Сидоров\": 23}."
   ]
  },
  {
   "cell_type": "code",
   "execution_count": 31,
   "id": "6fc4d1e8-bdd8-46b1-ad3b-220b62f58f28",
   "metadata": {},
   "outputs": [
    {
     "data": {
      "text/plain": [
       "{'Иванов': 22, 'Петрова': 13, 'Сидоров': 23}"
      ]
     },
     "execution_count": 31,
     "metadata": {},
     "output_type": "execute_result"
    }
   ],
   "source": [
    "students = {\"Иванов\": 22, \"Петрова\": 13, \"Сидоров\": 23}\n",
    "students"
   ]
  },
  {
   "cell_type": "raw",
   "id": "01b4654a-2f23-4341-8141-89bab4f1ec12",
   "metadata": {},
   "source": [
    "# Добавьте нового студента \"Смирнова\" возрастом 20 лет в словарь"
   ]
  },
  {
   "cell_type": "code",
   "execution_count": 33,
   "id": "86ebc984-d89e-4823-b5dc-eadab55541ff",
   "metadata": {},
   "outputs": [
    {
     "data": {
      "text/plain": [
       "{'Иванов': 22, 'Петрова': 13, 'Сидоров': 23, 'Смирнов': 20}"
      ]
     },
     "execution_count": 33,
     "metadata": {},
     "output_type": "execute_result"
    }
   ],
   "source": [
    "students[\"Смирнов\"]=20\n",
    "students"
   ]
  },
  {
   "cell_type": "raw",
   "id": "23929745-1044-4568-926e-de9ee9594b67",
   "metadata": {},
   "source": [
    "# Удалите студента \"Петрова\" из словаря."
   ]
  },
  {
   "cell_type": "code",
   "execution_count": 35,
   "id": "f7186793-6a56-4bb1-b7a2-6900cd7cefd1",
   "metadata": {},
   "outputs": [
    {
     "data": {
      "text/plain": [
       "{'Иванов': 22, 'Сидоров': 23, 'Смирнов': 20}"
      ]
     },
     "execution_count": 35,
     "metadata": {},
     "output_type": "execute_result"
    }
   ],
   "source": [
    "del students['Петрова']\n",
    "students"
   ]
  }
 ],
 "metadata": {
  "kernelspec": {
   "display_name": "Python 3 (ipykernel)",
   "language": "python",
   "name": "python3"
  },
  "language_info": {
   "codemirror_mode": {
    "name": "ipython",
    "version": 3
   },
   "file_extension": ".py",
   "mimetype": "text/x-python",
   "name": "python",
   "nbconvert_exporter": "python",
   "pygments_lexer": "ipython3",
   "version": "3.10.10"
  }
 },
 "nbformat": 4,
 "nbformat_minor": 5
}
