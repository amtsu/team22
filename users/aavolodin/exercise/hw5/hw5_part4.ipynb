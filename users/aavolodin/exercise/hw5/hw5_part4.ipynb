{
 "cells": [
  {
   "cell_type": "code",
   "execution_count": null,
   "id": "e1112b91-0e18-432c-9ca8-77437312c400",
   "metadata": {},
   "outputs": [],
   "source": [
    "Напишите цикл for, который выводит все элементы множества set1."
   ]
  },
  {
   "cell_type": "code",
   "execution_count": 2,
   "id": "d007ec2b-223b-48d4-a4c1-cd901357edd0",
   "metadata": {},
   "outputs": [
    {
     "name": "stdout",
     "output_type": "stream",
     "text": [
      "1\n",
      "2\n",
      "3\n",
      "4\n",
      "5\n"
     ]
    }
   ],
   "source": [
    "set1 = {1, 2, 3, 4, 5}\n",
    "for i in set1:\n",
    "         print(i)"
   ]
  },
  {
   "cell_type": "markdown",
   "id": "90f29aa6-8cb3-4ed7-9233-169d527d3f96",
   "metadata": {},
   "source": [
    "Напишите цикл while, который выводит квадраты чисел от 1 до 5."
   ]
  },
  {
   "cell_type": "code",
   "execution_count": 6,
   "id": "45b2c407-3b6c-448c-afbb-75fe320e597f",
   "metadata": {},
   "outputs": [
    {
     "name": "stdout",
     "output_type": "stream",
     "text": [
      "1\n",
      "4\n",
      "9\n",
      "16\n",
      "25\n"
     ]
    }
   ],
   "source": [
    "i = 1\n",
    "while i <= 5:\n",
    "    print(i**2)\n",
    "    i = i + 1"
   ]
  },
  {
   "cell_type": "markdown",
   "id": "08943743-3a4f-4cf9-ae73-520e7590ec19",
   "metadata": {},
   "source": [
    "Напишите цикл for, который перебирает все ключи словаря fruits_quantity и выводит каждый товар."
   ]
  },
  {
   "cell_type": "code",
   "execution_count": 1,
   "id": "389466de-45f4-484c-94d0-f7840dccb7ac",
   "metadata": {},
   "outputs": [
    {
     "name": "stdout",
     "output_type": "stream",
     "text": [
      "яблоко\n",
      "банан\n",
      "апельсин\n"
     ]
    }
   ],
   "source": [
    "fruits_quantity =  {\"яблоко\": 5, \"банан\": 10, \"апельсин\": 7}\n",
    "for k in fruits_quantity:\n",
    "    print(k)"
   ]
  },
  {
   "cell_type": "markdown",
   "id": "3e06dee8-68d8-4d0e-b05c-6313ef60c604",
   "metadata": {},
   "source": [
    "Выведите сообщение \"%название фрукта% - дорогой товар\" для фруктов из fruit_prices, цена которых превышает 1.5, подставив вместо %название фрукта% название соответствующих \"дорогих\" фруктов"
   ]
  },
  {
   "cell_type": "code",
   "execution_count": 2,
   "id": "fad8e642-f155-49b0-a364-44b05e74cf66",
   "metadata": {},
   "outputs": [
    {
     "name": "stdout",
     "output_type": "stream",
     "text": [
      " яблоко приемлемая цена\n",
      " банан дорогой товар\n",
      " апельсин приемлемая цена\n"
     ]
    }
   ],
   "source": [
    "fruits_prices = {\n",
    "    \"яблоко\": \"1.5\",\n",
    "    \"банан\": \"2\",\n",
    "    \"апельсин\": \"1.2\"\n",
    "}\n",
    "for name , price in fruits_prices.items():\n",
    "       if price > '1.5':\n",
    "            print(f' {name} дорогой товар')\n",
    "       elif price <= '1.5':\n",
    "            print(f' {name} приемлемая цена')"
   ]
  },
  {
   "cell_type": "markdown",
   "id": "8342952f-26a2-46f8-8368-b6f5c781df07",
   "metadata": {},
   "source": [
    "Посчитайте стоимость всех фруктов, имеющихся в наличии"
   ]
  },
  {
   "cell_type": "code",
   "execution_count": 4,
   "id": "47736b72-d7a1-439b-9462-f1a6d2299220",
   "metadata": {},
   "outputs": [
    {
     "name": "stdout",
     "output_type": "stream",
     "text": [
      "35.9\n"
     ]
    }
   ],
   "source": [
    "fruits_quantity =  {\"яблоко\": 5, \"банан\": 10, \"апельсин\": 7}\n",
    "fruits_prices = {\"яблоко\": 1.5, \"банан\": 2, \"апельсин\": 1.2}\n",
    "fruits_all = []\n",
    "for k in fruits_quantity:\n",
    "    summa = fruits_prices[k]*fruits_quantity[k]\n",
    "    fruits_all.append(summa)\n",
    "print (sum(fruits_all))"
   ]
  },
  {
   "cell_type": "markdown",
   "id": "57d78f1c-f3f0-4f45-b853-e705856e881f",
   "metadata": {},
   "source": [
    "Используя цикл for, выведите всех студентов и их возраст из словаря students.v"
   ]
  },
  {
   "cell_type": "code",
   "execution_count": 9,
   "id": "0b9e091e-0b15-42d2-a42a-22a7a5c4f613",
   "metadata": {},
   "outputs": [
    {
     "name": "stdout",
     "output_type": "stream",
     "text": [
      "Иванов - 22\n",
      "Петрова - 13\n",
      "Сидоров - 23\n"
     ]
    }
   ],
   "source": [
    "students = {\"Иванов\": 22, \"Петрова\": 13, \"Сидоров\": 23}\n",
    "for k in students.keys():\n",
    "    print (k, '-', students[k])\n"
   ]
  },
  {
   "cell_type": "code",
   "execution_count": null,
   "id": "ac083189-7ceb-4aa9-9066-332ad2d15afd",
   "metadata": {},
   "outputs": [],
   "source": []
  }
 ],
 "metadata": {
  "kernelspec": {
   "display_name": "Python 3 (ipykernel)",
   "language": "python",
   "name": "python3"
  },
  "language_info": {
   "codemirror_mode": {
    "name": "ipython",
    "version": 3
   },
   "file_extension": ".py",
   "mimetype": "text/x-python",
   "name": "python",
   "nbconvert_exporter": "python",
   "pygments_lexer": "ipython3",
   "version": "3.10.10"
  }
 },
 "nbformat": 4,
 "nbformat_minor": 5
}
