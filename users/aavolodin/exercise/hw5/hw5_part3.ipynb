{
 "cells": [
  {
   "cell_type": "code",
   "execution_count": null,
   "id": "89d43613-97a8-453c-97a6-b571d4dce717",
   "metadata": {},
   "outputs": [],
   "source": [
    "Условные операторы \n",
    "На основе значения возраста из словаря person, выведите сообщение \"Совершеннолетний\" или \"Несовершеннолетний\"."
   ]
  },
  {
   "cell_type": "code",
   "execution_count": 1,
   "id": "46925fcf-ee71-4bcc-90e8-6ec4e7920408",
   "metadata": {},
   "outputs": [
    {
     "data": {
      "text/plain": [
       "{'name': 'Andrey', 'age': '30', 'city': 'Saransk'}"
      ]
     },
     "execution_count": 1,
     "metadata": {},
     "output_type": "execute_result"
    }
   ],
   "source": [
    "person = {\n",
    "    \"name\": \"Andrey\",\n",
    "    \"age\":  \"30\",\n",
    "    \"city\": \"Saransk\"\n",
    "}\n",
    "person"
   ]
  },
  {
   "cell_type": "code",
   "execution_count": 5,
   "id": "96a3c426-4496-4bc9-b52b-82c0d0f56b45",
   "metadata": {},
   "outputs": [
    {
     "name": "stdout",
     "output_type": "stream",
     "text": [
      "Совершеннолетний\n"
     ]
    }
   ],
   "source": [
    "person = \"30\"\n",
    "if person >= \"18\":\n",
    "    print(\"Совершеннолетний\")\n",
    "else:\n",
    "    print(\"Несовершеннолетний\")"
   ]
  },
  {
   "cell_type": "code",
   "execution_count": null,
   "id": "c89a4b23-618d-41be-94e3-f39d539caf63",
   "metadata": {},
   "outputs": [],
   "source": [
    " Сравните длину множества set1 с другим множеством set2 и выведите сообщение о том, какое из множеств больше."
   ]
  },
  {
   "cell_type": "code",
   "execution_count": 11,
   "id": "17f01533-e48d-419d-b7aa-247c4677b5bb",
   "metadata": {},
   "outputs": [
    {
     "name": "stdout",
     "output_type": "stream",
     "text": [
      "set1 = set2\n"
     ]
    }
   ],
   "source": [
    "set1 = {1, 2, 3, 4, 5}\n",
    "set2 = {4, 5, 6, 7, 8}\n",
    "\n",
    "if set1 > set2:\n",
    "    print(\"set1 > set2\")\n",
    "elif set1 < set2:\n",
    "    print(\"set2 > set1\")\n",
    "else:\n",
    "    print(\"set1 = set2\")"
   ]
  },
  {
   "cell_type": "code",
   "execution_count": null,
   "id": "5b32c240-c6f6-4c68-ae5e-156d476b979f",
   "metadata": {},
   "outputs": [],
   "source": [
    " Напишите условие, которое проверяет, есть ли \"груша\" в словаре inventory, и если нет, добавляет \"грушу\" с количеством 3."
   ]
  },
  {
   "cell_type": "code",
   "execution_count": 17,
   "id": "03092a0d-6fe6-475d-919a-3748a7a766eb",
   "metadata": {},
   "outputs": [],
   "source": [
    "inventory = {\n",
    "    \"яблоко\": \"5\",\n",
    "    \"банан\": \"10\",\n",
    "    \"апельсин\": \"7\"\n",
    "}\n",
    "if \"груша\" in inventory:\n",
    "    print(\"Есть\")\n",
    "else: \n",
    "    inventory[\"груша\"] = '3'\n",
    "    print(inventory)"
   ]
  },
  {
   "cell_type": "markdown",
   "id": "7250ff54-737f-4f1a-ae1f-71a7798a14bb",
   "metadata": {},
   "source": [
    "Выведите сообщение \"Дорогой товар\" для продуктов, цена которых превышает 1.5."
   ]
  },
  {
   "cell_type": "code",
   "execution_count": 20,
   "id": "fe1647c1-45db-4db8-affa-27c8e31908fb",
   "metadata": {},
   "outputs": [
    {
     "name": "stdout",
     "output_type": "stream",
     "text": [
      " яблоко приемлемая цена\n",
      " банан дорогой товар\n",
      " апельсин приемлемая цена\n"
     ]
    }
   ],
   "source": [
    "prices = {\n",
    "    \"яблоко\": \"1.5\",\n",
    "    \"банан\": \"2\",\n",
    "    \"апельсин\": \"1.2\"\n",
    "}\n",
    "for name , price in prices.items():\n",
    "       if price > '1.5':\n",
    "            print(f' {name} дорогой товар')\n",
    "       elif price <= '1.5':\n",
    "            print(f' {name} приемлемая цена')"
   ]
  },
  {
   "cell_type": "markdown",
   "id": "016dd88a-dce3-4dc7-8328-7ccd6c7639ca",
   "metadata": {},
   "source": [
    "Задайте словарь Seven11 с таким содержанием {\"яйца\": 40, \"батон хлеба\" : 20}\n",
    "\t  Жена отправляет мужа-программиста в севенэлевен:\n",
    "\t — Купи батон хлеба, если будут яйца — возьми десяток.\n",
    "\tВыведите на экран, сколько хлеба купил муж-программист, и сколько хлеба и яиц осталось в магазине."
   ]
  },
  {
   "cell_type": "code",
   "execution_count": 45,
   "id": "8cf84bc9-12b6-4f05-9af1-dcce9e0451f8",
   "metadata": {},
   "outputs": [],
   "source": [
    "Seven11 = {\"яйца\": 40, \"батон хлеба\" : 20}"
   ]
  },
  {
   "cell_type": "code",
   "execution_count": 46,
   "id": "852b1ead-ddad-435a-9386-4d17f08348bd",
   "metadata": {},
   "outputs": [
    {
     "name": "stdout",
     "output_type": "stream",
     "text": [
      "купил 1 хлеб, осталось 19\n",
      "купил 10 яиц, осталось 30\n"
     ]
    }
   ],
   "source": [
    "if 'яйца' in Seven11 and 'батон хлеба' in Seven11:\n",
    "    Seven11['яйца']= Seven11['яйца']-10\n",
    "    Seven11['батон хлеба']= Seven11['батон хлеба']-1\n",
    "    print('купил 1 хлеб, осталось', Seven11['батон хлеба'])\n",
    "    print('купил 10 яиц, осталось', Seven11['яйца'])\n",
    "else:\n",
    "    print('хлеба или яиц нет')"
   ]
  },
  {
   "cell_type": "code",
   "execution_count": null,
   "id": "edfcff1a-f70e-4db1-8a8f-3b8a09f045f8",
   "metadata": {},
   "outputs": [],
   "source": [
    " Напишите условие, которое проверяет возраст студента \"Иванова\" и выводит сообщение \"Совершеннолетний\" или \"Несовершеннолетний\"."
   ]
  },
  {
   "cell_type": "code",
   "execution_count": 40,
   "id": "6b4ed22e-5347-4bf7-89ec-2c22273f64e9",
   "metadata": {},
   "outputs": [],
   "source": [
    "students = {\"Иванов\": 22, \"Петрова\": 13, \"Сидоров\": 23}"
   ]
  },
  {
   "cell_type": "code",
   "execution_count": 42,
   "id": "405a7b67-899c-4ef4-97d1-b5f7ec4c1041",
   "metadata": {},
   "outputs": [
    {
     "name": "stdout",
     "output_type": "stream",
     "text": [
      "Совершеннолетний\n"
     ]
    }
   ],
   "source": [
    "students = \"Иванов\"\n",
    "if students >= \"18\":\n",
    "    print(\"Совершеннолетний\")\n",
    "else:\n",
    "    print(\"Несовершеннолетний\")"
   ]
  },
  {
   "cell_type": "code",
   "execution_count": null,
   "id": "2ea17bda-af37-4f06-b22a-940085083b30",
   "metadata": {},
   "outputs": [],
   "source": []
  }
 ],
 "metadata": {
  "kernelspec": {
   "display_name": "Python 3 (ipykernel)",
   "language": "python",
   "name": "python3"
  },
  "language_info": {
   "codemirror_mode": {
    "name": "ipython",
    "version": 3
   },
   "file_extension": ".py",
   "mimetype": "text/x-python",
   "name": "python",
   "nbconvert_exporter": "python",
   "pygments_lexer": "ipython3",
   "version": "3.10.10"
  }
 },
 "nbformat": 4,
 "nbformat_minor": 5
}
