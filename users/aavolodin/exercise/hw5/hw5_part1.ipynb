{
 "cells": [
  {
   "cell_type": "raw",
   "id": "700c6cc3-0a8d-43a5-ba8e-f1b490371e04",
   "metadata": {},
   "source": [
    "# Создайте множество set1 из целых чисел: 1, 2, 3, 4, 5."
   ]
  },
  {
   "cell_type": "code",
   "execution_count": 30,
   "id": "285ccd3d-cd5a-4cd8-859f-6498ee95259f",
   "metadata": {},
   "outputs": [],
   "source": [
    "set1 = {1, 2, 3, 4, 5}"
   ]
  },
  {
   "cell_type": "raw",
   "id": "e1fef824-14f5-46e0-89b6-d04c3d73af42",
   "metadata": {},
   "source": [
    "# Добавьте в это множество элемент 6."
   ]
  },
  {
   "cell_type": "code",
   "execution_count": 31,
   "id": "53216376-fc51-4f34-b33e-85448da605e6",
   "metadata": {},
   "outputs": [
    {
     "data": {
      "text/plain": [
       "{1, 2, 3, 4, 5, 6}"
      ]
     },
     "execution_count": 31,
     "metadata": {},
     "output_type": "execute_result"
    }
   ],
   "source": [
    "set1.add(6)\n",
    "set1"
   ]
  },
  {
   "cell_type": "raw",
   "id": "144ff87c-414d-465a-a7f8-09ed7509021b",
   "metadata": {},
   "source": [
    "#Удалите элемент 2 из множества."
   ]
  },
  {
   "cell_type": "code",
   "execution_count": 33,
   "id": "6b6c3337-1968-43d3-a0e0-8b35c15ee16d",
   "metadata": {},
   "outputs": [
    {
     "data": {
      "text/plain": [
       "{1, 3, 4, 5, 6}"
      ]
     },
     "execution_count": 33,
     "metadata": {},
     "output_type": "execute_result"
    }
   ],
   "source": [
    "set1.remove(2)\n",
    "set1"
   ]
  },
  {
   "cell_type": "raw",
   "id": "79f48117-0ca8-4ef0-8374-06f4b9ae1ff2",
   "metadata": {},
   "source": [
    "# Проверьте, содержит ли множество элемент 3."
   ]
  },
  {
   "cell_type": "code",
   "execution_count": 34,
   "id": "7f3448c3-959a-4434-806f-1cf3e2160b2a",
   "metadata": {},
   "outputs": [
    {
     "data": {
      "text/plain": [
       "True"
      ]
     },
     "execution_count": 34,
     "metadata": {},
     "output_type": "execute_result"
    }
   ],
   "source": [
    "3 in set1"
   ]
  },
  {
   "cell_type": "raw",
   "id": "fd122b3e-cfef-4759-9422-6c62c90708ef",
   "metadata": {},
   "source": [
    "# Создайте второе множество set2 с элементами 4, 5, 6, 7, 8."
   ]
  },
  {
   "cell_type": "code",
   "execution_count": 35,
   "id": "3640871d-bdd3-46c5-a895-18704f5404a6",
   "metadata": {},
   "outputs": [],
   "source": [
    "set2 = {4, 5, 6, 7, 8}"
   ]
  },
  {
   "cell_type": "raw",
   "id": "c3e216a8-6d62-4286-a49b-de8bfe202c64",
   "metadata": {},
   "source": [
    "# Найдите объединение множеств set1 и set2."
   ]
  },
  {
   "cell_type": "code",
   "execution_count": 36,
   "id": "ee06ae9a-92ce-4f22-93c7-fd4797c4ff32",
   "metadata": {},
   "outputs": [
    {
     "data": {
      "text/plain": [
       "{1, 3, 4, 5, 6, 7, 8}"
      ]
     },
     "execution_count": 36,
     "metadata": {},
     "output_type": "execute_result"
    }
   ],
   "source": [
    "set1.union(set2)"
   ]
  },
  {
   "cell_type": "raw",
   "id": "e2996216-8c58-4267-86bc-b7a480d084d7",
   "metadata": {},
   "source": [
    "# Найдите разность множеств set1 и set2."
   ]
  },
  {
   "cell_type": "code",
   "execution_count": 41,
   "id": "3d264940-bab1-48b6-a9ec-3f607fd34b05",
   "metadata": {},
   "outputs": [
    {
     "data": {
      "text/plain": [
       "{1, 3}"
      ]
     },
     "execution_count": 41,
     "metadata": {},
     "output_type": "execute_result"
    }
   ],
   "source": [
    "set1-set2"
   ]
  },
  {
   "cell_type": "raw",
   "id": "4e6b5d80-ae57-47dc-b37d-3020d303fd44",
   "metadata": {},
   "source": [
    "# Создайте два множества set1 и set2, содержащие цвета радуги: \"красный\", \"оранжевый\", \"желтый\", \"зеленый\", \"голубой\", \"синий\", \"фиолетовый\" и  \"оранжевый\", \"зеленый\", \"голубой\", \"синий\", \"Мальвиновый\"."
   ]
  },
  {
   "cell_type": "code",
   "execution_count": 48,
   "id": "159530c7-5842-4942-9f36-3997ebc38b06",
   "metadata": {},
   "outputs": [],
   "source": [
    "set1 = {\"красный\", \"оранжевый\", \"желтый\", \"зеленый\", \"голубой\", \"синий\", \"фиолетовый\"}\n",
    "set2 = {\"оранжевый\", \"зеленый\", \"голубой\", \"синий\", \"Мальвиновый\"}"
   ]
  },
  {
   "cell_type": "raw",
   "id": "6b5923b8-c7a0-4ec7-9e25-49e08d75bfa9",
   "metadata": {},
   "source": [
    "# Найдите пересечение множеств set1 и set2."
   ]
  },
  {
   "cell_type": "code",
   "execution_count": 50,
   "id": "03048a5c-aacb-4d60-8dd0-8ad67442ce11",
   "metadata": {},
   "outputs": [
    {
     "data": {
      "text/plain": [
       "{'голубой', 'зеленый', 'оранжевый', 'синий'}"
      ]
     },
     "execution_count": 50,
     "metadata": {},
     "output_type": "execute_result"
    }
   ],
   "source": [
    "set1.intersection(set2)"
   ]
  },
  {
   "cell_type": "raw",
   "id": "2aa49a16-2e53-4664-bd25-e2152ed34ccf",
   "metadata": {},
   "source": [
    "# Объедините множества set1 и set2 и сохраните результат в новое множество rainbow_colors."
   ]
  },
  {
   "cell_type": "code",
   "execution_count": 53,
   "id": "a93adcad-c9e0-477e-97a2-8c44844d7108",
   "metadata": {},
   "outputs": [],
   "source": [
    "raindow_colors = set1|set2"
   ]
  },
  {
   "cell_type": "code",
   "execution_count": 54,
   "id": "8977d958-77be-41d6-8947-8b62c27a5f7f",
   "metadata": {},
   "outputs": [
    {
     "name": "stdout",
     "output_type": "stream",
     "text": [
      "{'фиолетовый', 'зеленый', 'голубой', 'синий', 'желтый', 'красный', 'оранжевый', 'Мальвиновый'}\n"
     ]
    }
   ],
   "source": [
    "print(raindow_colors)"
   ]
  }
 ],
 "metadata": {
  "kernelspec": {
   "display_name": "Python 3 (ipykernel)",
   "language": "python",
   "name": "python3"
  },
  "language_info": {
   "codemirror_mode": {
    "name": "ipython",
    "version": 3
   },
   "file_extension": ".py",
   "mimetype": "text/x-python",
   "name": "python",
   "nbconvert_exporter": "python",
   "pygments_lexer": "ipython3",
   "version": "3.10.10"
  }
 },
 "nbformat": 4,
 "nbformat_minor": 5
}
