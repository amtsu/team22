{
 "cells": [
  {
   "cell_type": "markdown",
   "id": "8c0c376f-bbda-4ad4-8dbe-08fc40b3fa7a",
   "metadata": {},
   "source": [
    "Множества"
   ]
  },
  {
   "cell_type": "markdown",
   "id": "ab4eb8eb-3ac9-4fa1-95c0-5ca6bb001c22",
   "metadata": {},
   "source": [
    "1. Создайте функции set_union и set_difference для операций объединения и разности множеств.\n",
    "     - Функции должны принимать два множества и возвращать соответствующий результат."
   ]
  },
  {
   "cell_type": "code",
   "execution_count": 5,
   "id": "16ca61b2-ef03-4562-8769-74ec59301d0e",
   "metadata": {},
   "outputs": [],
   "source": [
    "set1 = {1, 2, 3, 4, 5}\n",
    "set2 = {4, 5, 6, 7, 8}"
   ]
  },
  {
   "cell_type": "code",
   "execution_count": 8,
   "id": "c6c05744-4958-4872-a65f-6eecb9f3dca2",
   "metadata": {},
   "outputs": [
    {
     "name": "stdout",
     "output_type": "stream",
     "text": [
      "{1, 2, 3, 4, 5, 6, 7, 8}\n"
     ]
    }
   ],
   "source": [
    "def set_union(set1, set2):\n",
    "     new_set = set1|set2\n",
    "     return new_set\n",
    "print(set_union(set1, set2))"
   ]
  },
  {
   "cell_type": "code",
   "execution_count": 9,
   "id": "b155f90a-f785-48df-9ba2-a359cc02b23b",
   "metadata": {},
   "outputs": [
    {
     "name": "stdout",
     "output_type": "stream",
     "text": [
      "{1, 2, 3}\n"
     ]
    }
   ],
   "source": [
    "def set_difference(set1, set2):\n",
    "    new_set = set1 - set2\n",
    "    return new_set\n",
    "    print(new_set)\n",
    "print(set_difference(set1, set2))"
   ]
  },
  {
   "cell_type": "markdown",
   "id": "fe5cb924-11b4-4547-9a76-743bc7873b34",
   "metadata": {},
   "source": [
    "2. Создайте функцию is_subset для проверки, является ли одно множество подмножеством другого."
   ]
  },
  {
   "cell_type": "code",
   "execution_count": 29,
   "id": "4534ede3-74f3-4b02-9e3b-afcdacb4f078",
   "metadata": {},
   "outputs": [
    {
     "name": "stdout",
     "output_type": "stream",
     "text": [
      "True\n"
     ]
    }
   ],
   "source": [
    "def is_subset(one_subset, two_subset):\n",
    "    result = one_subset.issubset(two_subset)\n",
    "    return result\n",
    "set1 = { 4, 5}\n",
    "set2 = {4, 5, 6, 7, 8}\n",
    "subset = is_subset(set1, set2)\n",
    "print(subset)"
   ]
  },
  {
   "cell_type": "markdown",
   "id": "ced8869e-a37c-4dc5-9c0e-c82b1ecebdfd",
   "metadata": {},
   "source": [
    "3. Создайте функцию для объединения нескольких множеств."
   ]
  },
  {
   "cell_type": "code",
   "execution_count": 33,
   "id": "e1c57b58-dce0-4582-a7af-dab9f1af672b",
   "metadata": {},
   "outputs": [
    {
     "name": "stdout",
     "output_type": "stream",
     "text": [
      "{4, 5, 6, 7, 8, 500, 123, 700}\n"
     ]
    }
   ],
   "source": [
    "set3 = {500, 700, 123}    \n",
    "def set_union1(set1, set2, set3):\n",
    "     new_set2 = set1|set2|set3\n",
    "     return new_set2\n",
    "\n",
    "print(set_union1(set1, set2, set3))"
   ]
  },
  {
   "cell_type": "markdown",
   "id": "005ca249-b495-4ef6-ac4a-c1edfb059f29",
   "metadata": {},
   "source": [
    "4. Создайте функцию для удаления конкретного элемента из множества."
   ]
  },
  {
   "cell_type": "code",
   "execution_count": 59,
   "id": "1027a0df-764b-456c-8324-68f4cb509c9d",
   "metadata": {},
   "outputs": [
    {
     "name": "stdout",
     "output_type": "stream",
     "text": [
      "{123, 500}\n"
     ]
    }
   ],
   "source": [
    "def element_del(set3, a):\n",
    "        set3.discard(a)\n",
    "        return set3\n",
    "    \n",
    "print(element_del(set3, 700))"
   ]
  },
  {
   "cell_type": "markdown",
   "id": "fb72b726-4f71-42d1-8c4d-d41dde3f56c0",
   "metadata": {},
   "source": [
    "5. Создайте функцию для поиска пересечения нескольких множеств."
   ]
  },
  {
   "cell_type": "code",
   "execution_count": 21,
   "id": "3c2d9d1d-4556-4b70-acbd-f4519615bfad",
   "metadata": {},
   "outputs": [
    {
     "name": "stdout",
     "output_type": "stream",
     "text": [
      "Пересечение множеств: {1, 2, 3}\n"
     ]
    }
   ],
   "source": [
    "def i(set1, set2, set3):\n",
    "        result = (set1&set2&set3)\n",
    "        return result\n",
    "intersection = i(set1, set2, set3)\n",
    "print(\"Пересечение множеств:\", intersection)"
   ]
  },
  {
   "cell_type": "code",
   "execution_count": null,
   "id": "a38ee28c-900b-4df4-845c-ff3d18faef5d",
   "metadata": {},
   "outputs": [],
   "source": [
    "6. Создайте функцию для проверки на равенство двух множеств."
   ]
  },
  {
   "cell_type": "code",
   "execution_count": 20,
   "id": "b66166d4-85d5-4834-8e2e-2925fd081f82",
   "metadata": {},
   "outputs": [
    {
     "name": "stdout",
     "output_type": "stream",
     "text": [
      "set1 и set2 равны: True\n",
      "set1 и set3 равны: False\n"
     ]
    }
   ],
   "source": [
    "def kej (set1, set2):\n",
    "    return set1 == set2\n",
    "\n",
    "set1 = {1, 2, 3}\n",
    "set2 = {3, 2, 1}\n",
    "set3 = {1, 2, 3, 4}\n",
    "\n",
    "print(\"set1 и set2 равны:\", kej(set1, set2))\n",
    "print(\"set1 и set3 равны:\", kej(set1, set3))"
   ]
  },
  {
   "cell_type": "markdown",
   "id": "a66a9813-336f-4321-88fb-80824e5f60a4",
   "metadata": {},
   "source": [
    "7. Создайте функцию для нахождения объединения трех множеств."
   ]
  },
  {
   "cell_type": "code",
   "execution_count": 72,
   "id": "53da0a6e-3a23-4bf7-8b05-9a0323add9e4",
   "metadata": {},
   "outputs": [
    {
     "name": "stdout",
     "output_type": "stream",
     "text": [
      "Объединение трех множеств: {1, 2, 3, 4, 5, 6, 7, 8, 500, 123, 700}\n"
     ]
    }
   ],
   "source": [
    "def find_union(set1, set2, set3):\n",
    "    return set1.union(set2, set3)\n",
    "\n",
    "set1 = {1, 2, 3, 4, 5}\n",
    "set2 = {4, 5, 6, 7, 8}\n",
    "set3 = {500, 700, 123}    \n",
    "\n",
    "union_set = find_union(set1, set2, set3)\n",
    "print(\"Объединение трех множеств:\", union_set)"
   ]
  },
  {
   "cell_type": "markdown",
   "id": "ea19bcac-0ed9-4462-b324-c4269160913e",
   "metadata": {},
   "source": [
    "8. Создайте функцию для проверки, являются ли два множества дизъюнктными (не имеют общих элементов)."
   ]
  },
  {
   "cell_type": "code",
   "execution_count": 5,
   "id": "7152f42b-ff25-4b27-b638-3d2b43568cad",
   "metadata": {},
   "outputs": [
    {
     "name": "stdout",
     "output_type": "stream",
     "text": [
      "Множества являются дизъюнктными.\n"
     ]
    }
   ],
   "source": [
    "def dis(set1, set2):\n",
    "    return set1.isdisjoint(set2)\n",
    "\n",
    "set1 = {1, 2, 3, 4, 5}\n",
    "set2 = { 6, 7, 8}\n",
    "\n",
    "result = dis(set1, set2)\n",
    "\n",
    "if result:\n",
    "    print(\"Множества являются дизъюнктными.\")\n",
    "else:\n",
    "    print(\"Множества имеют общие элементы.\")"
   ]
  },
  {
   "cell_type": "markdown",
   "id": "3c901487-205e-436f-95db-cf59c64ebe9c",
   "metadata": {},
   "source": [
    "9. Создайте функцию для нахождения разности двух множеств."
   ]
  },
  {
   "cell_type": "code",
   "execution_count": 11,
   "id": "0869dc9f-43df-4e7a-b194-aa7202812cae",
   "metadata": {},
   "outputs": [
    {
     "name": "stdout",
     "output_type": "stream",
     "text": [
      "{1, 2, 3}\n"
     ]
    }
   ],
   "source": [
    "def k(set1, set2):\n",
    "    return set1 - set2\n",
    "set1 = {1, 2, 3, 4, 5}\n",
    "set2 = {4, 5, 6, 7, 8}\n",
    "\n",
    "result = k(set1, set2)\n",
    "print(result)"
   ]
  },
  {
   "cell_type": "markdown",
   "id": "ea86dcb5-d1c2-4510-9c8f-ee67277625f1",
   "metadata": {},
   "source": [
    "10. Создайте функцию для определения симметрической разности двух множеств."
   ]
  },
  {
   "cell_type": "code",
   "execution_count": 16,
   "id": "a1423fce-9501-438f-867e-25ac7db198a6",
   "metadata": {},
   "outputs": [
    {
     "name": "stdout",
     "output_type": "stream",
     "text": [
      "{1, 2, 3, 6, 7, 8}\n"
     ]
    }
   ],
   "source": [
    "def symmetric(set1, set2):\n",
    "    return set1.symmetric_difference(set2)\n",
    "\n",
    "set1 = {1, 2, 3, 4, 5}\n",
    "set2 = {4, 5, 6, 7, 8}\n",
    "\n",
    "result = symmetric(set1, set2)\n",
    "print(result)"
   ]
  },
  {
   "cell_type": "markdown",
   "id": "c8f0a767-3881-4767-b509-3992c891ef61",
   "metadata": {},
   "source": [
    "11. Создайте функцию create_set для создания множества с заданными элементами.\n",
    "   - Функция должна принимать переменное количество аргументов и возвращать новое множество."
   ]
  },
  {
   "cell_type": "code",
   "execution_count": 18,
   "id": "39c9cc56-d0e4-49fb-a49b-3dac3efd7c4b",
   "metadata": {},
   "outputs": [
    {
     "name": "stdout",
     "output_type": "stream",
     "text": [
      "{1, 2, 3, 4, 5, 'laa'}\n"
     ]
    }
   ],
   "source": [
    "def create_set(*args):\n",
    "    return set(args)\n",
    "\n",
    "new_set = create_set(1, 2, 3, 4, 5, 'laa')\n",
    "print(new_set)"
   ]
  },
  {
   "cell_type": "markdown",
   "id": "c4ce6900-5d85-4e74-9d70-4ed2b2abbff5",
   "metadata": {},
   "source": [
    "СЛОВАРИ"
   ]
  },
  {
   "cell_type": "markdown",
   "id": "30321ca9-d941-4e47-b43d-540df2a74d81",
   "metadata": {},
   "source": [
    "1. Создайте функцию create_dictionary для создания словаря с заданными ключами и значениями.\n",
    "   - Функция должна принимать словарь в формате ключ-значение и возвращать созданный словарь."
   ]
  },
  {
   "cell_type": "code",
   "execution_count": 23,
   "id": "d10851d3-53e9-4de5-b6de-e86520674ec3",
   "metadata": {},
   "outputs": [
    {
     "name": "stdout",
     "output_type": "stream",
     "text": [
      "{'name': 'Ivan', 'age': 26, 'city': 'Samara'}\n"
     ]
    }
   ],
   "source": [
    "def create_dictionary(**kwargs):\n",
    "    return kwargs\n",
    "\n",
    "new_dict = create_dictionary(name='Ivan', age=26, city='Samara')\n",
    "print(new_dict)"
   ]
  },
  {
   "cell_type": "markdown",
   "id": "0984da43-3952-4558-800f-d34c47937f85",
   "metadata": {},
   "source": [
    "2. Напишите функции add_student и remove_student для добавления и удаления студентов из словаря.\n",
    "   - Функции должны принимать словарь студентов и соответствующие данные для добавления и удаления."
   ]
  },
  {
   "cell_type": "code",
   "execution_count": 40,
   "id": "1cf61f7c-2cf3-4e5e-980e-a51081344c12",
   "metadata": {},
   "outputs": [
    {
     "name": "stdout",
     "output_type": "stream",
     "text": [
      "{'anna': 20, 'misha': 22, 'sasha': 21}\n"
     ]
    }
   ],
   "source": [
    "student = { 'anna': 20, 'misha': 22}\n",
    "def add_student (dict_student, name, age):\n",
    "    dict_student[name] = age\n",
    "    return dict_student\n",
    "print (add_student(student, 'sasha', 21))"
   ]
  },
  {
   "cell_type": "code",
   "execution_count": 41,
   "id": "34276189-d54d-4ad6-999b-a5ef98d4c215",
   "metadata": {},
   "outputs": [
    {
     "name": "stdout",
     "output_type": "stream",
     "text": [
      "{'misha': 22, 'sasha': 21}\n"
     ]
    }
   ],
   "source": [
    "def remove_student (dict_student, name):\n",
    "    student.pop(name)\n",
    "    return dict_student\n",
    "print (remove_student(student, 'anna'))"
   ]
  },
  {
   "cell_type": "markdown",
   "id": "20170eab-70e9-438f-840c-75e64d0c9cc1",
   "metadata": {},
   "source": [
    "3. Напишите функции add_fruit и remove_fruit для добавления и удаления фруктов, их количества и стоимости в списки fruits_quantity и fruits_prices.\n",
    "   - Функции должны принимать словари и соответствующие данные для добавления и удаления."
   ]
  },
  {
   "cell_type": "code",
   "execution_count": 1,
   "id": "5e52d6c8-598f-4a2e-815f-78f81b0c895f",
   "metadata": {},
   "outputs": [
    {
     "name": "stdout",
     "output_type": "stream",
     "text": [
      "{'яблоко': 5, 'банан': 10, 'апльсин': 7, 'виноград': 12}\n",
      "{'яблоко': 1.5, 'банан': 2, 'апельсин': 1.2, 'виноград': 2.0}\n",
      "{'яблоко': 5, 'апльсин': 7, 'виноград': 12}\n",
      "{'яблоко': 1.5, 'апельсин': 1.2, 'виноград': 2.0}\n"
     ]
    }
   ],
   "source": [
    "def add_fruit(fruits_quantity, fruits_prices, fruit_name, quantity, price):\n",
    "    if fruit_name in fruits_quantity:\n",
    "        print(f\"{fruit_name} already exists in the dictionary.\")\n",
    "    else:\n",
    "        fruits_quantity[fruit_name] = quantity\n",
    "        fruits_prices[fruit_name] = price\n",
    "\n",
    "def remove_fruit(fruits_quantity, fruits_prices, fruit_name):\n",
    "    if fruit_name in fruits_quantity:\n",
    "        del fruits_quantity[fruit_name]\n",
    "        del fruits_prices[fruit_name]\n",
    "    else:\n",
    "        print(f\"{fruit_name} not found in the dictionary.\")\n",
    "\n",
    "fruits_quantity = { \"яблоко\": 5,\"банан\": 10, \"апльсин\": 7}   \n",
    "fruits_prices = prices = { \"яблоко\": 1.5,\"банан\": 2, \"апельсин\": 1.2}\n",
    "\n",
    "add_fruit(fruits_quantity, fruits_prices, 'виноград', 12, 2.0)\n",
    "print(fruits_quantity)\n",
    "print(fruits_prices)\n",
    "\n",
    "remove_fruit(fruits_quantity, fruits_prices, 'банан')\n",
    "print(fruits_quantity)\n",
    "print(fruits_prices)\n"
   ]
  },
  {
   "cell_type": "markdown",
   "id": "f0aba65c-1cd4-4c27-a7a5-06185dea41fa",
   "metadata": {},
   "source": [
    "4. Создайте функцию для объединения двух словарей."
   ]
  },
  {
   "cell_type": "code",
   "execution_count": 2,
   "id": "f597d0b0-7af8-4552-be99-0ace5ea12f8f",
   "metadata": {},
   "outputs": [
    {
     "name": "stdout",
     "output_type": "stream",
     "text": [
      "{'a': 1, 'b': 2, 'c': 3, 'd': 4}\n"
     ]
    }
   ],
   "source": [
    "def unification(a,b):\n",
    "    unification = a|b\n",
    "    return unification\n",
    "\n",
    "a = {'a': 1, 'b': 2}\n",
    "b = {'c': 3, 'd': 4}\n",
    "unification = unification(a, b)\n",
    "print(unification)"
   ]
  },
  {
   "cell_type": "markdown",
   "id": "1a4dd223-aade-4151-827f-e62b4a6f01b5",
   "metadata": {},
   "source": [
    "5. Создайте функцию для удаления элемента из словаря по заданному ключу."
   ]
  },
  {
   "cell_type": "code",
   "execution_count": 6,
   "id": "80fa225b-946c-4f24-838e-8817bcc6e647",
   "metadata": {},
   "outputs": [
    {
     "name": "stdout",
     "output_type": "stream",
     "text": [
      "Элемент с ключом 'b' успешно удален из словаря.\n",
      "{'a': 1, 'c': 3}\n"
     ]
    }
   ],
   "source": [
    "def del_dict(dictionary, key):\n",
    "    if key in dictionary:\n",
    "        del dictionary[key]\n",
    "        print(f\"Элемент с ключом '{key}' успешно удален из словаря.\")\n",
    "    else:\n",
    "        print(f\"Элемент с ключом '{key}' не найден в словаре.\")\n",
    "\n",
    "my_dict = {'a': 1, 'b': 2, 'c': 3}\n",
    "del_dict(my_dict, 'b')\n",
    "print(my_dict)"
   ]
  },
  {
   "cell_type": "markdown",
   "id": "a966035c-81b0-4e39-b01b-5f9330d48980",
   "metadata": {},
   "source": [
    "6. Создайте функцию для переворачивания значений и ключей в словаре (принимает на вход словарь, возвращает другой словарь, ключами которого являются значения входного словаря, а значениями - ключи."
   ]
  },
  {
   "cell_type": "code",
   "execution_count": 10,
   "id": "514f0a37-c060-40d7-9ce5-91f09f900d3e",
   "metadata": {},
   "outputs": [
    {
     "name": "stdout",
     "output_type": "stream",
     "text": [
      "{1: 'a', 2: 'b', 3: 'c'}\n"
     ]
    }
   ],
   "source": [
    "def dict_shift (dict1):\n",
    "    new_dict = {}\n",
    "    for k,v in dict1.items():\n",
    "        new_dict[v] = k\n",
    "    return new_dict\n",
    "dict1 = {'a': 1, 'b': 2, 'c': 3}\n",
    "print(dict_shift(dict1))"
   ]
  },
  {
   "cell_type": "markdown",
   "id": "66229bf4-d3cd-4429-a1bb-1c597f7497d0",
   "metadata": {},
   "source": [
    "7. Создайте функцию для сортировки словаря по ключам в обратном порядке."
   ]
  },
  {
   "cell_type": "code",
   "execution_count": 14,
   "id": "9af1877b-8e2c-466b-a59c-6b24ac3b6b36",
   "metadata": {},
   "outputs": [
    {
     "name": "stdout",
     "output_type": "stream",
     "text": [
      "{'c': 3, 'b': 2, 'a': 1}\n"
     ]
    }
   ],
   "source": [
    "def dict_sorting(dict1):\n",
    "    return dict(sorted(dict1.items(), reverse=True))\n",
    "dict1 = {'a': 1, 'b': 2, 'c': 3}\n",
    "print(dict_sorting(dict1))"
   ]
  },
  {
   "cell_type": "markdown",
   "id": "bc3aee03-a937-4545-a7ef-f79eda132f88",
   "metadata": {},
   "source": [
    "8. Создайте функцию возвращающую наибольшее значение элемента словаря."
   ]
  },
  {
   "cell_type": "code",
   "execution_count": 42,
   "id": "75d8298f-b62d-4d7c-96fc-f7f90cd1b37a",
   "metadata": {},
   "outputs": [
    {
     "name": "stdout",
     "output_type": "stream",
     "text": [
      "('c', 15)\n"
     ]
    }
   ],
   "source": [
    "def max_element(dict):\n",
    "    max_value = max(dict.items())\n",
    "    return max_value\n",
    "\n",
    "dict = {'a': 10, 'b': 5, 'c': 15}\n",
    "max_value = max_element(dict)\n",
    "print(max_value)"
   ]
  },
  {
   "cell_type": "markdown",
   "id": "f25a1ac5-a9a8-4337-b3df-9fa399ed90a3",
   "metadata": {},
   "source": [
    "9.Создайте функцию для поиска наибольшего значения в словаре."
   ]
  },
  {
   "cell_type": "code",
   "execution_count": 43,
   "id": "ea7f53e2-478f-467b-a279-494f0f955f26",
   "metadata": {},
   "outputs": [
    {
     "name": "stdout",
     "output_type": "stream",
     "text": [
      "15\n"
     ]
    }
   ],
   "source": [
    "def max_element(dict):\n",
    "    max_value = max(dict.values())\n",
    "    return max_value\n",
    "\n",
    "dict = {'a': 10, 'b': 5, 'c': 15}\n",
    "max_value = max_element(dict)\n",
    "print(max_value)"
   ]
  },
  {
   "cell_type": "markdown",
   "id": "2655f77a-e17b-4672-aba4-dbe207218db0",
   "metadata": {},
   "source": [
    "Условия и цыклы"
   ]
  },
  {
   "cell_type": "markdown",
   "id": "b4dd6434-075a-493a-911b-bf9e78ee1965",
   "metadata": {},
   "source": [
    "1. Создайте функцию check_fruit_price для проверки стоимости фрукта и вывода соответствующего сообщения.\n",
    "   - Функция должна принимать словарь цен на фрукты и название фрукта, а затем выводить сообщение \"дорогой товар\", если цена фрукта больше 1.5."
   ]
  },
  {
   "cell_type": "code",
   "execution_count": 81,
   "id": "f7477a33-f26a-4fd6-8eb8-2531ad02f6f4",
   "metadata": {},
   "outputs": [
    {
     "name": "stdout",
     "output_type": "stream",
     "text": [
      "банан - дорогой товар\n"
     ]
    }
   ],
   "source": [
    "def check_fruit_price(dict_prices,name_fruit):\n",
    "    if dict_prices[name_fruit] > 1.5:\n",
    "         print(name_fruit, \"- дорогой товар\")\n",
    "    else: print(name_fruit, \"- приемлимая цена\")\n",
    "    \n",
    "prices = {\"яблоко\": 1.5, \"банан\": 2,\"апельсин\": 1.2} \n",
    "check_fruit_price(prices,\"банан\")"
   ]
  },
  {
   "cell_type": "markdown",
   "id": "597e7d1c-cefa-47e2-9592-0234e4c0b9de",
   "metadata": {},
   "source": [
    "2.Создайте функцию check_age для проверки возраста студента и вывода соответствующего сообщения.\n",
    "   - Функция должна принимать словарь студентов и имя студента, а затем выводить сообщение о совершеннолетии или несовершеннолетии."
   ]
  },
  {
   "cell_type": "code",
   "execution_count": 80,
   "id": "12a4e4f7-bc51-4ce5-9d73-7478f1eb6afc",
   "metadata": {},
   "outputs": [
    {
     "name": "stdout",
     "output_type": "stream",
     "text": [
      "Несовершеннолетний\n"
     ]
    }
   ],
   "source": [
    "def check_age(name,age):\n",
    "    if name [age]>= 18:\n",
    "         print(\"Совершеннолетний\")\n",
    "    else:\n",
    "         print(\"Несовершеннолетний\")\n",
    "students = {\"Иванов\": 22, \"Петрова\": 13, \"Сидоров\": 23}        \n",
    "check_age(students, \"Петрова\")"
   ]
  },
  {
   "cell_type": "markdown",
   "id": "2bd9353f-4f54-47ae-9773-3b204a5a7d77",
   "metadata": {},
   "source": [
    "3. Создайте функцию compare_sets_length, которая сравнивает длину двух множеств и выводит информацию о  том, какое из множеств длиннее.\n",
    "   - Функция должна принимать два множества и выводить соответствующее сообщение."
   ]
  },
  {
   "cell_type": "code",
   "execution_count": 82,
   "id": "1b1413ab-4d9f-4fff-aebd-4a0a015fc8f5",
   "metadata": {},
   "outputs": [
    {
     "name": "stdout",
     "output_type": "stream",
     "text": [
      "set1 длиннее set2\n"
     ]
    }
   ],
   "source": [
    "def compare_sets_length(set1, set2):\n",
    "    if len(set1) > len(set2):\n",
    "        print(\"set1 длиннее set2\")\n",
    "    elif len(set1) < len(set2):\n",
    "        print(\"set2 длиннее set1\")\n",
    "    else:\n",
    "        print(\"Оба множества имеют одинаковую длину\")\n",
    "set1 = {1, 2, 3, 4, 5}\n",
    "set2 = {1, 2, 3}\n",
    "compare_sets_length(set1, set2)"
   ]
  },
  {
   "cell_type": "markdown",
   "id": "d89da19a-a680-4891-ba8c-15ab3ce8c08a",
   "metadata": {},
   "source": [
    "4. Создайте функцию для определения четности или нечетности числа."
   ]
  },
  {
   "cell_type": "code",
   "execution_count": 41,
   "id": "d8b5aa4a-e5d7-4306-b6e2-c12120d298e2",
   "metadata": {},
   "outputs": [
    {
     "name": "stdin",
     "output_type": "stream",
     "text": [
      " 6\n"
     ]
    },
    {
     "name": "stdout",
     "output_type": "stream",
     "text": [
      "Четное число\n"
     ]
    }
   ],
   "source": [
    "def proverka(chot):\n",
    "    if chot % 2 == 0:\n",
    "        print(\"Четное число\")\n",
    "    else: \n",
    "        print(\"Нечетное число\")\n",
    "a=int(input())\n",
    "proverka(a)"
   ]
  },
  {
   "cell_type": "markdown",
   "id": "f505419c-27d1-441b-8d6a-62f702e4322b",
   "metadata": {},
   "source": [
    "5. Создайте функцию для определения високосного года. Функция должна принимать на вход год в виде числа и возвращать строку \"високосный\" или \"обычный\""
   ]
  },
  {
   "cell_type": "code",
   "execution_count": 99,
   "id": "72724e6c-23e0-41e6-b017-80cd08031c51",
   "metadata": {},
   "outputs": [
    {
     "name": "stdin",
     "output_type": "stream",
     "text": [
      " 2000\n"
     ]
    },
    {
     "name": "stdout",
     "output_type": "stream",
     "text": [
      "високосный\n"
     ]
    }
   ],
   "source": [
    "def leap_ear(i):\n",
    "    if (i % 4 == 0 and i % 100 == 0) or i % 400 != 0:\n",
    "        print(\"високосный\")\n",
    "    else:\n",
    "        print(\"обычный\")\n",
    "i = int(input())\n",
    "leap_ear(i)"
   ]
  },
  {
   "cell_type": "markdown",
   "id": "758f0590-681b-4427-892c-8703a289839e",
   "metadata": {},
   "source": [
    "6. Создайте функцию для определения типа треугольника по длинам сторон (принимает длины сторон, возвращает \"остроугольный, прямоугольный, тупоугольный или не треугольник\")."
   ]
  },
  {
   "cell_type": "code",
   "execution_count": 8,
   "id": "43c1d8fd-2b44-44f1-b26d-22c7ab1d9af7",
   "metadata": {},
   "outputs": [
    {
     "name": "stdin",
     "output_type": "stream",
     "text": [
      " 1\n",
      " 2\n",
      " 3\n"
     ]
    },
    {
     "name": "stdout",
     "output_type": "stream",
     "text": [
      "не треугольник\n"
     ]
    }
   ],
   "source": [
    "def opredil(a,b,c):\n",
    "    if (a + b > c) and (c + b > a) and (a + c > b):\n",
    "        if (a*a + b*b == c*c) or (a*a + c*c == b*b) or (c*c + b*b == a*a):\n",
    "            print(\"прямоугольный\")\n",
    "        elif (a*a + b*b > c*c) or (a*a + c*c > b*b) or (c*c + b*b > a*a):\n",
    "            print(\"тупоугольный\")\n",
    "        elif (a*a + b*b < c*c) or (a*a + c*c < b*b) or (c*c + b*b < a*a):\n",
    "            print(\"остроугольный\")\n",
    "    else:\n",
    "        print(\"не треугольник\")\n",
    "\n",
    "a = int(input())\n",
    "b = int(input())\n",
    "c = int(input())\n",
    "opredil(a,b,c)"
   ]
  },
  {
   "cell_type": "markdown",
   "id": "853ace03-b39c-41b5-a4f9-aeda94420870",
   "metadata": {},
   "source": [
    "7. Создайте функцию для проверки, является ли строка палиндромом."
   ]
  },
  {
   "cell_type": "code",
   "execution_count": 49,
   "id": "e110beeb-deae-4e2f-81d7-92ff48fcca23",
   "metadata": {},
   "outputs": [
    {
     "name": "stdin",
     "output_type": "stream",
     "text": [
      " anna\n"
     ]
    },
    {
     "name": "stdout",
     "output_type": "stream",
     "text": [
      "палиндром\n"
     ]
    }
   ],
   "source": [
    "def proverka(k):   \n",
    "    if k == k[::-1]:\n",
    "        print ('палиндром')\n",
    "    else:\n",
    "        print ('не палиндром')\n",
    "k = input()\n",
    "proverka(k)"
   ]
  },
  {
   "cell_type": "markdown",
   "id": "48a725d2-d3f7-4182-a40e-fb73729c225e",
   "metadata": {},
   "source": [
    "8. Создайте функцию для определения времени суток по введенному времени ( принимает текущее время в формате часы, минуты, возвращает утро, день, вечер, ночь)."
   ]
  },
  {
   "cell_type": "code",
   "execution_count": null,
   "id": "1dfbde6e-c9aa-4bd9-905e-f81396e5ab98",
   "metadata": {},
   "outputs": [],
   "source": []
  },
  {
   "cell_type": "markdown",
   "id": "7addd323-7a95-464c-83d3-3e9f267687da",
   "metadata": {},
   "source": [
    "9. Создайте функцию, которая определяет, является ли введенное число простым."
   ]
  },
  {
   "cell_type": "code",
   "execution_count": 24,
   "id": "52d1b18a-7980-4952-8a12-2c48be52e65c",
   "metadata": {},
   "outputs": [
    {
     "name": "stdin",
     "output_type": "stream",
     "text": [
      " 4\n"
     ]
    },
    {
     "data": {
      "text/plain": [
       "'составное число'"
      ]
     },
     "execution_count": 24,
     "metadata": {},
     "output_type": "execute_result"
    }
   ],
   "source": [
    "def simple(g):\n",
    "    if g <= 1:\n",
    "        return 'составное число'\n",
    "    for i in range(2, g):\n",
    "        if g % i == 0:\n",
    "            return 'составное число'\n",
    "    return 'простое число'\n",
    "g = int(input())\n",
    "simple(g)"
   ]
  },
  {
   "cell_type": "markdown",
   "id": "d4cae6b4-ae40-45c6-85f8-44cce6b05141",
   "metadata": {},
   "source": [
    "10. Создайте функцию для проверки входящей строки на наличие только буквенных символов."
   ]
  },
  {
   "cell_type": "code",
   "execution_count": 27,
   "id": "4f552d5b-703b-4ffe-882b-4aa372d32262",
   "metadata": {},
   "outputs": [
    {
     "name": "stdin",
     "output_type": "stream",
     "text": [
      " sde5e5\n"
     ]
    },
    {
     "name": "stdout",
     "output_type": "stream",
     "text": [
      "False\n"
     ]
    }
   ],
   "source": [
    "def check_string(string):\n",
    "    ab = 'abcdefghijklmnopqrstuvwxyz'\n",
    "    return all([x.lower() in ab for x in string])\n",
    "res = check_string(input())\n",
    "print(res)\n"
   ]
  },
  {
   "cell_type": "markdown",
   "id": "f1899527-aa44-49a7-b15a-3288579ab875",
   "metadata": {},
   "source": [
    "11. Создайте функцию, которая определяет, является ли введенная дата корректной (дата вводится в виде трех чисел, день, месяц, год. Корректной датой считается существующая комбинация этих трех чисел)."
   ]
  },
  {
   "cell_type": "code",
   "execution_count": 51,
   "id": "ed6e7280-514a-468c-bb29-a8c395f21326",
   "metadata": {},
   "outputs": [
    {
     "data": {
      "text/plain": [
       "'Дата введена некорректно'"
      ]
     },
     "execution_count": 51,
     "metadata": {},
     "output_type": "execute_result"
    }
   ],
   "source": [
    "def correct_date(input_date):\n",
    "    try:\n",
    "        datetime.strptime(input_date, '%Y-%m-%d')\n",
    "        return \"Дата введена корректно\"\n",
    "    except ValueError:     \n",
    "        return \"Дата введена некорректно\"\n",
    "correct_date('2024-02-30')            "
   ]
  },
  {
   "cell_type": "markdown",
   "id": "80ef5201-81a2-41ab-97a3-a997e32948f6",
   "metadata": {},
   "source": [
    "12. Создайте функцию, которая определяет, является ли введенное число палиндромом."
   ]
  },
  {
   "cell_type": "code",
   "execution_count": 50,
   "id": "c7f04e52-f8ac-408b-9989-48b21947f9a7",
   "metadata": {},
   "outputs": [
    {
     "name": "stdin",
     "output_type": "stream",
     "text": [
      " 121\n"
     ]
    },
    {
     "name": "stdout",
     "output_type": "stream",
     "text": [
      "палиндром\n"
     ]
    }
   ],
   "source": [
    "def palindrom(f):\n",
    "    if f == f[::-1]:\n",
    "        print(\"палиндром\")\n",
    "    else:\n",
    "        print(\"не палиндром\")\n",
    "f = input()\n",
    "palindrom(f)    "
   ]
  },
  {
   "cell_type": "markdown",
   "id": "d983e766-7583-461a-b802-50dead085479",
   "metadata": {},
   "source": [
    "13. Создайте функцию для определения дня недели по введенному номеру дня (1 - Понедельник, 2 - Вторник и т.д.)."
   ]
  },
  {
   "cell_type": "code",
   "execution_count": 32,
   "id": "47dd92ef-ca04-403e-ac34-72cfd83df3a4",
   "metadata": {},
   "outputs": [
    {
     "name": "stdin",
     "output_type": "stream",
     "text": [
      " 1\n"
     ]
    },
    {
     "data": {
      "text/plain": [
       "'понедельник'"
      ]
     },
     "execution_count": 32,
     "metadata": {},
     "output_type": "execute_result"
    }
   ],
   "source": [
    "def weekday():\n",
    "    res = [\"понедельник\", \"вторник\", \"среда\", \"четверг\", \"пятница\", \"суббота\", \"воскресенье\"]\n",
    "    return res[n-1]\n",
    "n = int(input()) \n",
    "weekday()"
   ]
  },
  {
   "cell_type": "markdown",
   "id": "f86d745c-a089-4722-82c7-7d5fb745a867",
   "metadata": {},
   "source": [
    "14. Создайте функцию print_fruits_info для вывода информации о количестве и стоимости фруктов из словарей.\n",
    "   - Функция должна принимать словари с информацией \"фрукт:количество\" и \"фрукт:цена\" и выводить для каждого фрукта его стоимость и количество."
   ]
  },
  {
   "cell_type": "code",
   "execution_count": null,
   "id": "c0ce9eb0-6a18-46dd-882a-4fea2c195ad7",
   "metadata": {},
   "outputs": [],
   "source": []
  },
  {
   "cell_type": "markdown",
   "id": "0ea919e7-c545-461c-93ca-2d150719d30f",
   "metadata": {},
   "source": [
    "15. Создайте функцию print_squares_while, которая использует цикл while для вывода квадратов чисел от 1 до 5."
   ]
  },
  {
   "cell_type": "code",
   "execution_count": 13,
   "id": "fdedfc1f-ee0c-4648-95c0-9157d5f31bb3",
   "metadata": {},
   "outputs": [
    {
     "name": "stdin",
     "output_type": "stream",
     "text": [
      "Введите число 1\n"
     ]
    },
    {
     "name": "stdout",
     "output_type": "stream",
     "text": [
      "1\n",
      "4\n",
      "9\n",
      "16\n",
      "25\n"
     ]
    }
   ],
   "source": [
    "def print_squares_while(i):\n",
    "    while i <= 5:\n",
    "        print (i * i)\n",
    "        i += 1\n",
    "i=int(input(\"Введите число\"))  \n",
    "print_squares_while(i)"
   ]
  },
  {
   "cell_type": "markdown",
   "id": "263ef851-2173-4ec0-8ec5-b558f996969a",
   "metadata": {},
   "source": [
    "16. Создайте функцию для вывода факториала заданного числа."
   ]
  },
  {
   "cell_type": "code",
   "execution_count": 22,
   "id": "fb3145ed-8941-43e6-8810-0317a0e0fd0c",
   "metadata": {},
   "outputs": [
    {
     "name": "stdin",
     "output_type": "stream",
     "text": [
      "Введите число 5\n"
     ]
    },
    {
     "data": {
      "text/plain": [
       "120"
      ]
     },
     "execution_count": 22,
     "metadata": {},
     "output_type": "execute_result"
    }
   ],
   "source": [
    "def factorial(q):\n",
    "    if q == 0:\n",
    "        return 1\n",
    "    else:    \n",
    "        return q * factorial(q - 1)\n",
    "q=int(input(\"Введите число\"))    \n",
    "factorial(q)"
   ]
  },
  {
   "cell_type": "markdown",
   "id": "a280ec1e-191e-43f7-824f-19b6714e6a22",
   "metadata": {},
   "source": [
    "17. Создайте функцию для поиска суммы чисел в заданном диапазоне (принимает на вход два числа, возвращает сумму чисел находящихся между ними, включительно.)"
   ]
  },
  {
   "cell_type": "code",
   "execution_count": 43,
   "id": "a787b214-31ba-416b-8910-c6b0b2dc371f",
   "metadata": {},
   "outputs": [
    {
     "name": "stdin",
     "output_type": "stream",
     "text": [
      "Введите 1-е число 2\n",
      "Введите 2-е число 5\n"
     ]
    },
    {
     "data": {
      "text/plain": [
       "14"
      ]
     },
     "execution_count": 43,
     "metadata": {},
     "output_type": "execute_result"
    }
   ],
   "source": [
    "def sum_problem(a, b):\n",
    "    return (a + b) * (abs(a - b) + 1) // 2\n",
    "a=int(input(\"Введите 1-е число\")) \n",
    "b=int(input(\"Введите 2-е число\")) \n",
    "sum_problem(a, b)    "
   ]
  },
  {
   "cell_type": "markdown",
   "id": "589a5770-a9d9-4099-87fb-24eb7c2b387f",
   "metadata": {},
   "source": [
    "18. Создайте функцию для генерации и вывода всех простых чисел до заданного числа."
   ]
  },
  {
   "cell_type": "code",
   "execution_count": 67,
   "id": "98433acf-6d72-40b1-9495-347ac330ce55",
   "metadata": {},
   "outputs": [
    {
     "name": "stdin",
     "output_type": "stream",
     "text": [
      "Введите 1-е число 1\n",
      "Введите 2-е число 20\n"
     ]
    },
    {
     "name": "stdout",
     "output_type": "stream",
     "text": [
      "2\n",
      "3\n",
      "5\n",
      "7\n",
      "11\n",
      "13\n",
      "17\n",
      "19\n"
     ]
    }
   ],
   "source": [
    "num1=int(input(\"Введите 1-е число\"))\n",
    "num2=int(input(\"Введите 2-е число\")) \n",
    "\n",
    "for number in range(num1, num2 + 1): \n",
    "    if number > 1: \n",
    "        for i in range(2, number): \n",
    "            if(number % i) == 0: \n",
    "                break \n",
    "        else: \n",
    "            print(number)"
   ]
  },
  {
   "cell_type": "markdown",
   "id": "4aae5757-dcf7-4d05-9af8-0b52e0bb3850",
   "metadata": {},
   "source": [
    "19. Создайте функцию для проверки строки на палиндромность без учёта регистра и знаков препинания."
   ]
  },
  {
   "cell_type": "code",
   "execution_count": 77,
   "id": "1249eff7-1e3e-47b6-bd07-cf5ac79efc7a",
   "metadata": {},
   "outputs": [
    {
     "name": "stdin",
     "output_type": "stream",
     "text": [
      " sdgs;s\n"
     ]
    },
    {
     "data": {
      "text/plain": [
       "'не палиндром'"
      ]
     },
     "execution_count": 77,
     "metadata": {},
     "output_type": "execute_result"
    }
   ],
   "source": [
    "def isPalindrome(s): \n",
    "    rev = ''.join(reversed(s)) \n",
    "    if (s == rev): \n",
    "        return \"палиндром\"\n",
    "    return \"не палиндром\"\n",
    "\n",
    "s = input() \n",
    "isPalindrome(s)"
   ]
  },
  {
   "cell_type": "markdown",
   "id": "8e925469-ec0e-4e44-b0b3-3329e4ec707c",
   "metadata": {},
   "source": [
    "20. Создайте функцию для поиска наибольшего общего делителя (НОД) двух чисел."
   ]
  },
  {
   "cell_type": "code",
   "execution_count": 80,
   "id": "2ec04b88-d555-4eb6-95f1-b6bc73a39121",
   "metadata": {},
   "outputs": [
    {
     "name": "stdin",
     "output_type": "stream",
     "text": [
      "Введите первое число: 2\n",
      "Введите второе число: 20\n"
     ]
    },
    {
     "name": "stdout",
     "output_type": "stream",
     "text": [
      "НОД: \n",
      "2\n"
     ]
    }
   ],
   "source": [
    "def gcd(a, b):\n",
    "    if (b == 0):\n",
    "        return a\n",
    "    else:\n",
    "        return gcd(b, a % b)\n",
    "a = int(input(\"Введите первое число:\"))\n",
    "b = int(input(\"Введите второе число:\"))\n",
    "GCD = gcd(a, b)\n",
    "print(\"НОД: \")\n",
    "print(GCD)"
   ]
  },
  {
   "cell_type": "markdown",
   "id": "150ca1c1-db20-462b-89b7-00ce30032872",
   "metadata": {},
   "source": [
    "21. Создайте функцию print_students для вывода информации о студентах из словаря.\n",
    "   - Функция должна принимать словарь студентов и выводить их имена и возраст."
   ]
  },
  {
   "cell_type": "code",
   "execution_count": 85,
   "id": "f6d700be-5ff2-46fb-9566-cf5eca48e5db",
   "metadata": {},
   "outputs": [
    {
     "data": {
      "text/plain": [
       "dict_items([('anna', 20), ('misha', 22)])"
      ]
     },
     "execution_count": 85,
     "metadata": {},
     "output_type": "execute_result"
    }
   ],
   "source": [
    "student = { 'anna': 20, 'misha': 22}\n",
    "def students_info(l):\n",
    "    return l.items()\n",
    "students_info(student)"
   ]
  },
  {
   "cell_type": "markdown",
   "id": "0353d925-d0c6-4ca2-bdfb-90e11be8c7a4",
   "metadata": {},
   "source": [
    "22.Создайте функцию get_value_from_user, принимающую на вход одно число (\"порог\"), и запрашивающую у пользователя ввод числа до тех пор, пока он не введет число выше \"порога\"."
   ]
  },
  {
   "cell_type": "code",
   "execution_count": null,
   "id": "a3e7365f-0ddd-4c54-a004-85b4b34865f2",
   "metadata": {},
   "outputs": [],
   "source": [
    "def  get_value_from_user(num5,num6):\n",
    "    if \n"
   ]
  },
  {
   "cell_type": "markdown",
   "id": "3dd1edfc-6954-42e7-bf14-90412c31382a",
   "metadata": {},
   "source": [
    "Общие\n"
   ]
  },
  {
   "cell_type": "markdown",
   "id": "b3e96f22-0804-49f2-a064-2b3eba0084f1",
   "metadata": {},
   "source": [
    "1. Создайте функцию, которая будет запрашивать у пользователя его возраст.\n",
    "   - Если возраст меньше 18 лет, программа должна выводить сообщение о том, что пользователь несовершеннолетний.\n",
    "   - Если возраст от 18 до 65 лет, программа должна выводить сообщение о том, что пользователь взрослый.\n",
    "   - Если возраст больше 65 лет, программа должна выводить сообщение о том, что пользователь пенсионер."
   ]
  },
  {
   "cell_type": "code",
   "execution_count": 97,
   "id": "93f5339e-97c4-4b9a-a860-bb6ecc98fa1e",
   "metadata": {},
   "outputs": [
    {
     "name": "stdin",
     "output_type": "stream",
     "text": [
      "Введите ваш возраст 23\n"
     ]
    },
    {
     "data": {
      "text/plain": [
       "'Взрослый'"
      ]
     },
     "execution_count": 97,
     "metadata": {},
     "output_type": "execute_result"
    }
   ],
   "source": [
    "age = int(input(\"Введите ваш возраст\"))\n",
    "def whoAreYou(age):\n",
    "    if (age > 60):\n",
    "        return 'Пенсионер'\n",
    "    if (age > 18):\n",
    "        return 'Взрослый'\n",
    "    if (age > 12):\n",
    "        return 'Несовершеннолетний'\n",
    "    return 'Ребенок'\n",
    "\n",
    "whoAreYou(age)"
   ]
  },
  {
   "cell_type": "markdown",
   "id": "5cf25dd0-1fe7-4bf2-afdc-968c3e1ba6ec",
   "metadata": {},
   "source": [
    "2. Создайте функцию, которая будет проверять введенную пользователем строку на наличие повторяющихся символов.\n",
    "   - Если такие символы найдены, программа должна выводить их перечень и количество повторов для каждого."
   ]
  },
  {
   "cell_type": "code",
   "execution_count": 100,
   "id": "d3b628cf-3879-44b6-8de6-d9d4fb090f0c",
   "metadata": {},
   "outputs": [
    {
     "name": "stdout",
     "output_type": "stream",
     "text": [
      "а: 2\n",
      "л: 2\n",
      "и: 1\n",
      "г: 1\n",
      "т: 1\n",
      "о: 1\n",
      "р: 1\n"
     ]
    }
   ],
   "source": [
    "word = \"аллигатор\"\n",
    "seen = \"\"\n",
    "for c in word:\n",
    "    if c not in seen:\n",
    "        print(f\"{c}: {word.count(c)}\")\n",
    "        seen += c\n"
   ]
  },
  {
   "cell_type": "code",
   "execution_count": null,
   "id": "1061758c-4baf-42be-8939-ef4b355510d6",
   "metadata": {},
   "outputs": [],
   "source": []
  }
 ],
 "metadata": {
  "kernelspec": {
   "display_name": "Python 3 (ipykernel)",
   "language": "python",
   "name": "python3"
  },
  "language_info": {
   "codemirror_mode": {
    "name": "ipython",
    "version": 3
   },
   "file_extension": ".py",
   "mimetype": "text/x-python",
   "name": "python",
   "nbconvert_exporter": "python",
   "pygments_lexer": "ipython3",
   "version": "3.10.10"
  }
 },
 "nbformat": 4,
 "nbformat_minor": 5
}
