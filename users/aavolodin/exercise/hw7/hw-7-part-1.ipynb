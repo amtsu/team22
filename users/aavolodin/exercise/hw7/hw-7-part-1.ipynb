{
 "cells": [
  {
   "cell_type": "markdown",
   "id": "60d60ab7-f77e-4fb9-ac63-856dfc605f3b",
   "metadata": {},
   "source": [
    "<h1>Функции, циклы, условные операторы </h1>"
   ]
  },
  {
   "cell_type": "code",
   "execution_count": 6,
   "id": "27be4249-58a1-470b-9113-843386a9848b",
   "metadata": {},
   "outputs": [
    {
     "name": "stdout",
     "output_type": "stream",
     "text": [
      "1\n",
      "2\n",
      "3\n",
      "4\n",
      "5\n",
      "6\n",
      "7\n",
      "8\n",
      "9\n",
      "==============================\n",
      "1\n",
      "2\n",
      "3\n",
      "4\n",
      "5\n",
      "6\n",
      "7\n",
      "8\n",
      "9\n",
      "10\n",
      "11\n",
      "12\n",
      "==============================\n",
      "1\n",
      "2\n",
      "3\n",
      "4\n",
      "5\n",
      "6\n",
      "7\n",
      "8\n",
      "==============================\n",
      "1\n",
      "5\n",
      "9\n",
      "2\n",
      "6\n",
      "10\n",
      "==============================\n",
      "1\n",
      "2\n",
      "3\n",
      "==============================\n"
     ]
    }
   ],
   "source": [
    "'''\n",
    "Задание 1. Написать функцию для вывода двумерной матрицы по столбцам, \n",
    "не используя индексацию (с помощью [] или любым другим способом получения\n",
    "элемента по заданному индексу).\n",
    "Функция должна принимать на вход список и ничего не возвращать\n",
    "'''\n",
    "def print_matrix(matrix):\n",
    "    '''\n",
    "    это функция, печатающая двумерный список matrix по столбцам\n",
    "    '''\n",
    "    new_matrix = []\n",
    "    for i in zip(*matrix):\n",
    "        for k in i:\n",
    "            print(k)        \n",
    "\n",
    "#проверка        \n",
    "matrix1 = [[1,4,7,],[2,5,8,],[3,6,9,]]\n",
    "matrix2 = [[1,4,7,10],[2,5,8,11],[3,6,9,12]]\n",
    "matrix3 = [[1,3,5,7],[2,4,6,8],]\n",
    "matrix4 = [[1,2,],[5,6,],[9,10,]]\n",
    "matrix5 = [[1,2,3],]\n",
    "matrix6 = []\n",
    "\n",
    "print_matrix(matrix1)\n",
    "print(\"=\"*30)\n",
    "print_matrix(matrix2)\n",
    "print(\"=\"*30)\n",
    "print_matrix(matrix3)\n",
    "print(\"=\"*30)\n",
    "print_matrix(matrix4)\n",
    "print(\"=\"*30)\n",
    "print_matrix(matrix5)\n",
    "print(\"=\"*30)\n",
    "print_matrix(matrix6)\n"
   ]
  },
  {
   "cell_type": "code",
   "execution_count": 7,
   "id": "f90963ba-c3e6-406c-9ec5-d9b71d933ff1",
   "metadata": {},
   "outputs": [
    {
     "name": "stdout",
     "output_type": "stream",
     "text": [
      "10\n",
      "9\n",
      "8\n",
      "7\n",
      "6\n",
      "5\n",
      "4\n",
      "3\n",
      "2\n",
      "1\n"
     ]
    }
   ],
   "source": [
    "'''\n",
    "Задание 2. Напишите функцию, вызывающую саму себя 10 раз;\n",
    "функция должна вызываться как ten_times() и ничего не возвращать;\n",
    "'''\n",
    "def ten_times(x):\n",
    "    if x<11:\n",
    "       ten_times(x+1)  \n",
    "       print(x)\n",
    "#проверка\n",
    "ten_times(1)"
   ]
  },
  {
   "cell_type": "code",
   "execution_count": 48,
   "id": "1af4f462-ce19-4746-afa9-e20fb12257d8",
   "metadata": {},
   "outputs": [
    {
     "name": "stdout",
     "output_type": "stream",
     "text": [
      "ВСЁ ГЛАЗЕЛ НА НИХ\n",
      "САКУРЫ ЦВЕТЫ, ПОКА\n",
      "ШЕЮ НЕ СВЕЛО\n",
      "\n",
      "  ё  л  е  н  н  \n",
      "  к  ы  в  ы  п  а\n",
      "  ю  е  в  о\n",
      "\n",
      "\u001b[91mВсё глазел на них\u001b[0m\n",
      "\u001b[91mСакуры цветы, пока\u001b[0m\n",
      "\u001b[91mШею не свело\u001b[0m\n"
     ]
    }
   ],
   "source": [
    "'''\n",
    "Задание 3.\n",
    "'''\n",
    "# дан отрывок кода\n",
    "a_haiku = [\"Всё глазел на них\",\n",
    "\"Сакуры цветы, пока\",\n",
    "\"Шею не свело\"]\n",
    "\n",
    "def print_haiku(haiku, transform_func=None):\n",
    "    for line in haiku:\n",
    "        if transform_func:\n",
    "            line = transform_func(line)\n",
    "        print(line)\n",
    "'''\n",
    "Модифицируйте функцию print_haiku таким образом, чтобы можно было \n",
    "выполнять произвольное преобразование над выводом строк.\n",
    "Посторайтесь сильно не менять код print_haiku()\n",
    "Выведите с помощью модифицированной функции print_haiku все строки хайку :\n",
    " - заглавными буквами\n",
    " - только каждый третий символ строк\n",
    " - красным цветом (https://habr.com/ru/sandbox/158854/, первый раздел)\n",
    "'''\n",
    "\n",
    "def transform_uppercase(line):\n",
    "    return line.upper()\n",
    "\n",
    "def transform_third_char(line):\n",
    "    transformed_line = ''\n",
    "    for i, char in enumerate(line):\n",
    "        if (i + 1) % 3 == 0:\n",
    "            transformed_line += char\n",
    "        else:\n",
    "            transformed_line += ' '\n",
    "    return transformed_line\n",
    "\n",
    "def transform_red_color(line):\n",
    "    return f\"\\033[91m{line}\\033[0m\" \n",
    "\n",
    "print_haiku(a_haiku, transform_func=transform_uppercase)\n",
    "print()\n",
    "print_haiku(a_haiku, transform_func=transform_third_char)\n",
    "print()\n",
    "print_haiku(a_haiku, transform_func=transform_red_color)\n"
   ]
  },
  {
   "cell_type": "code",
   "execution_count": 40,
   "id": "2942ff5e-80a1-4245-aad6-3aca355745ad",
   "metadata": {},
   "outputs": [
    {
     "name": "stdout",
     "output_type": "stream",
     "text": [
      "Возможные действия:\n",
      "1 - вывод хайку заглавными буквами\n",
      "2 - вывод только третьих символов каждой строки хайку\n",
      "3 - вывод хайку красным цветом\n",
      "Введите номер действия или q для выхода:\n"
     ]
    },
    {
     "name": "stdin",
     "output_type": "stream",
     "text": [
      " 1\n"
     ]
    },
    {
     "name": "stdout",
     "output_type": "stream",
     "text": [
      "ВСЁ ГЛАЗЕЛ НА НИХ\n",
      "САКУРЫ ЦВЕТЫ, ПОКА\n",
      "ШЕЮ НЕ СВЕЛО\n",
      "Возможные действия:\n",
      "1 - вывод хайку заглавными буквами\n",
      "2 - вывод только третьих символов каждой строки хайку\n",
      "3 - вывод хайку красным цветом\n",
      "Введите номер действия или q для выхода:\n"
     ]
    },
    {
     "name": "stdin",
     "output_type": "stream",
     "text": [
      " 4\n"
     ]
    },
    {
     "name": "stdout",
     "output_type": "stream",
     "text": [
      "Некорректный ввод. Пожалуйста, введите номер действия или q для выхода.\n",
      "Возможные действия:\n",
      "1 - вывод хайку заглавными буквами\n",
      "2 - вывод только третьих символов каждой строки хайку\n",
      "3 - вывод хайку красным цветом\n",
      "Введите номер действия или q для выхода:\n"
     ]
    },
    {
     "name": "stdin",
     "output_type": "stream",
     "text": [
      " 5\n"
     ]
    },
    {
     "name": "stdout",
     "output_type": "stream",
     "text": [
      "Некорректный ввод. Пожалуйста, введите номер действия или q для выхода.\n",
      "Возможные действия:\n",
      "1 - вывод хайку заглавными буквами\n",
      "2 - вывод только третьих символов каждой строки хайку\n",
      "3 - вывод хайку красным цветом\n",
      "Введите номер действия или q для выхода:\n"
     ]
    },
    {
     "name": "stdin",
     "output_type": "stream",
     "text": [
      " 3\n"
     ]
    },
    {
     "name": "stdout",
     "output_type": "stream",
     "text": [
      "\u001b[91mВсё глазел на них\u001b[0m\n",
      "\u001b[91mСакуры цветы, пока\u001b[0m\n",
      "\u001b[91mШею не свело\u001b[0m\n",
      "Возможные действия:\n",
      "1 - вывод хайку заглавными буквами\n",
      "2 - вывод только третьих символов каждой строки хайку\n",
      "3 - вывод хайку красным цветом\n",
      "Введите номер действия или q для выхода:\n"
     ]
    },
    {
     "name": "stdin",
     "output_type": "stream",
     "text": [
      " 2\n"
     ]
    },
    {
     "name": "stdout",
     "output_type": "stream",
     "text": [
      "  ё  л  е  н  н  \n",
      "  к  ы  в  ы  п  а\n",
      "  ю  е  в  о\n",
      "Возможные действия:\n",
      "1 - вывод хайку заглавными буквами\n",
      "2 - вывод только третьих символов каждой строки хайку\n",
      "3 - вывод хайку красным цветом\n",
      "Введите номер действия или q для выхода:\n"
     ]
    },
    {
     "name": "stdin",
     "output_type": "stream",
     "text": [
      " 1\n"
     ]
    },
    {
     "name": "stdout",
     "output_type": "stream",
     "text": [
      "ВСЁ ГЛАЗЕЛ НА НИХ\n",
      "САКУРЫ ЦВЕТЫ, ПОКА\n",
      "ШЕЮ НЕ СВЕЛО\n",
      "Возможные действия:\n",
      "1 - вывод хайку заглавными буквами\n",
      "2 - вывод только третьих символов каждой строки хайку\n",
      "3 - вывод хайку красным цветом\n",
      "Введите номер действия или q для выхода:\n"
     ]
    },
    {
     "name": "stdin",
     "output_type": "stream",
     "text": [
      " q\n"
     ]
    }
   ],
   "source": [
    "'''\n",
    "Задание 4. Напишите простой пользовательский интерфейс к заданию 3.\n",
    "Пользователю должно выдаваться сообщение о возможностях вывода (меню), и приглашение на ввод\n",
    "идентификатора действия или символа `q` для выхода, например:\n",
    "\n",
    "Возможные действия:\n",
    "1 - вывод хайку заглавными буквами\n",
    "2 - вывод только третьих символов каждой строки хайку\n",
    "3 - вывод хайку красным цветом\n",
    "Введите номер действия или q для выхода: \n",
    "\n",
    "После ввода идентификатора действия, необходимо выполнить соответствующее действие \n",
    "и снова вывести меню с запросом на ввод. в случае некорректного идентификатора действия \n",
    "вывести соответствующее сообщение и снова вывести меню. После ввода q завершить работу с\n",
    "простым пользовательским интрефейсом\n",
    "\n",
    "'''\n",
    "def print_haiku(haiku, transform_func=None):\n",
    "    for line in haiku:\n",
    "        if transform_func:\n",
    "            line = transform_func(line)\n",
    "        print(line)\n",
    "\n",
    "def transform_uppercase(line):\n",
    "    return line.upper()\n",
    "\n",
    "\n",
    "def transform_third_char(line):\n",
    "    transformed_line = ''\n",
    "    for i, char in enumerate(line):\n",
    "        if (i + 1) % 3 == 0:\n",
    "            transformed_line += char\n",
    "        else:\n",
    "            transformed_line += ' '\n",
    "    return transformed_line\n",
    "\n",
    "def transform_red_color(line):\n",
    "    return f\"\\033[91m{line}\\033[0m\" \n",
    "\n",
    "a_haiku = [\n",
    "    \"Всё глазел на них\",\n",
    "    \"Сакуры цветы, пока\",\n",
    "    \"Шею не свело\"\n",
    "]\n",
    "\n",
    "while True:\n",
    "    print(\"Возможные действия:\")\n",
    "    print(\"1 - вывод хайку заглавными буквами\")\n",
    "    print(\"2 - вывод только третьих символов каждой строки хайку\")\n",
    "    print(\"3 - вывод хайку красным цветом\")\n",
    "    print(\"Введите номер действия или q для выхода:\")\n",
    "\n",
    "    user_input = input()\n",
    "\n",
    "    if user_input == 'q':\n",
    "        break\n",
    "    elif user_input == '1':\n",
    "        print_haiku(a_haiku, transform_func=transform_uppercase)\n",
    "    elif user_input == '2':\n",
    "        print_haiku(a_haiku, transform_func=transform_third_char)\n",
    "    elif user_input == '3':\n",
    "        print_haiku(a_haiku, transform_func=transform_red_color)\n",
    "    else:\n",
    "        print(\"Некорректный ввод. Пожалуйста, введите номер действия или q для выхода.\")\n",
    "\n"
   ]
  },
  {
   "cell_type": "code",
   "execution_count": null,
   "id": "1de803b6-b90d-4710-bc57-71d0960bbeee",
   "metadata": {},
   "outputs": [
    {
     "name": "stdout",
     "output_type": "stream",
     "text": [
      "Возможные действия:\n",
      "1 - вывод хайку заглавными буквами\n",
      "2 - вывод только третьих символов каждой строки хайку\n",
      "3 - вывод хайку красным цветом\n",
      "4 - вывод каждого слова в строке различным цветом\n",
      "5 - вывод в каждой строке второго слова жирным шрифтом\n",
      "6 - вывод маленькими буквами синим цветом\n",
      "Введите номер действия или q для выхода:\n"
     ]
    },
    {
     "name": "stdin",
     "output_type": "stream",
     "text": [
      " 6\n"
     ]
    },
    {
     "name": "stdout",
     "output_type": "stream",
     "text": [
      "\u001b[34mвсё глазел на них\u001b[0m\n",
      "\u001b[34mсакуры цветы, пока\u001b[0m\n",
      "\u001b[34mшею не свело\u001b[0m\n",
      "Возможные действия:\n",
      "1 - вывод хайку заглавными буквами\n",
      "2 - вывод только третьих символов каждой строки хайку\n",
      "3 - вывод хайку красным цветом\n",
      "4 - вывод каждого слова в строке различным цветом\n",
      "5 - вывод в каждой строке второго слова жирным шрифтом\n",
      "6 - вывод маленькими буквами синим цветом\n",
      "Введите номер действия или q для выхода:\n"
     ]
    }
   ],
   "source": [
    "'''\n",
    "Задание 5.\n",
    "Дополните функционал задания 3 одним из следующих способов вывода хайку:\n",
    "- каждое слово в строке различным цветом,\n",
    "- в каждой строке второе слово жирным шрифтом,\n",
    "- маленькими буквами синим цветом,\n",
    "при этом текст функции print_haiku() меняться не должен. Если такая доработка потребует\n",
    "его изменения, пересмотрите дизайн функции print_haiku(), чтобы расширение функионала вывода\n",
    "не требовало изменения print_haiku()\n",
    "Добавьте в интерфейс, созданный в задании 4 созданный новый способ вывода. Оцените объем и \n",
    "удобство модификации, при необходимости пересмотрите дизайн кода интерфейса для упрощения его \n",
    "изменекния.\n",
    "\n",
    "'''\n",
    "def print_haiku(haiku, transform_func=None):\n",
    "    for line in haiku:\n",
    "        if transform_func:\n",
    "            line = transform_func(line)\n",
    "        print(line)\n",
    "\n",
    "def transform_uppercase(line):\n",
    "    return line.upper()\n",
    "\n",
    "\n",
    "def transform_third_char(line):\n",
    "    transformed_line = ''\n",
    "    for i, char in enumerate(line):\n",
    "        if (i + 1) % 3 == 0:\n",
    "            transformed_line += char\n",
    "        else:\n",
    "            transformed_line += ' '\n",
    "    return transformed_line\n",
    "\n",
    "def transform_red_color(line):\n",
    "    return f\"\\033[91m{line}\\033[0m\" \n",
    "\n",
    "def transform_different_color(line):\n",
    "        return ' '.join([\"\\033[\" + str(31 + k) +\"m{}\\033[0m\".format(v) for k,v in enumerate(line.split(' '))]) \n",
    "    \n",
    "def transform_bold(line):\n",
    "        return ' '.join([\"\\033[1m{}\\033[0m\".format(v) if k ==1 else v for k,v in enumerate(line.split(' '))]) \n",
    "\n",
    "def transform_blue(line):\n",
    "        return f\"\\033[34m{line.lower()}\\033[0m\"\n",
    "\n",
    "a_haiku = [\n",
    "    \"Всё глазел на них\",\n",
    "    \"Сакуры цветы, пока\",\n",
    "    \"Шею не свело\"\n",
    "]\n",
    "\n",
    "while True:\n",
    "    print(\"Возможные действия:\")\n",
    "    print(\"1 - вывод хайку заглавными буквами\")\n",
    "    print(\"2 - вывод только третьих символов каждой строки хайку\")\n",
    "    print(\"3 - вывод хайку красным цветом\")\n",
    "    print(\"4 - вывод каждого слова в строке различным цветом\")\n",
    "    print(\"5 - вывод в каждой строке второго слова жирным шрифтом\")\n",
    "    print(\"6 - вывод маленькими буквами синим цветом\")\n",
    "    print(\"Введите номер действия или q для выхода:\")\n",
    "\n",
    "    user_input = input()\n",
    "\n",
    "    if user_input == 'q':\n",
    "        break\n",
    "    elif user_input == '1':\n",
    "        print_haiku(a_haiku, transform_func=transform_uppercase)\n",
    "    elif user_input == '2':\n",
    "        print_haiku(a_haiku, transform_func=transform_third_char)\n",
    "    elif user_input == '3':\n",
    "        print_haiku(a_haiku, transform_func=transform_red_color)\n",
    "    elif user_input == '4':\n",
    "        print_haiku(a_haiku, transform_func=transform_different_color)\n",
    "    elif user_input == '5':\n",
    "        print_haiku(a_haiku, transform_func=transform_bold)  \n",
    "    elif user_input == '6':\n",
    "        print_haiku(a_haiku, transform_func=transform_blue)  \n",
    "    else:\n",
    "        print(\"Некорректный ввод. Пожалуйста, введите номер действия или q для выхода.\")\n",
    "\n",
    "\n",
    "\n",
    "   \n",
    "    \n"
   ]
  },
  {
   "cell_type": "markdown",
   "id": "c890a06e-64d3-43a8-8814-dccdbef04d99",
   "metadata": {},
   "source": [
    "#### "
   ]
  },
  {
   "cell_type": "code",
   "execution_count": null,
   "id": "59384c88-226f-4fcb-9429-efe9370bb84f",
   "metadata": {},
   "outputs": [],
   "source": []
  }
 ],
 "metadata": {
  "kernelspec": {
   "display_name": "Python 3 (ipykernel)",
   "language": "python",
   "name": "python3"
  },
  "language_info": {
   "codemirror_mode": {
    "name": "ipython",
    "version": 3
   },
   "file_extension": ".py",
   "mimetype": "text/x-python",
   "name": "python",
   "nbconvert_exporter": "python",
   "pygments_lexer": "ipython3",
   "version": "3.10.10"
  }
 },
 "nbformat": 4,
 "nbformat_minor": 5
}
