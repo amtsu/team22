{
 "cells": [
  {
   "cell_type": "markdown",
   "id": "148a67cf-f3d5-4175-898e-a2201786ac66",
   "metadata": {},
   "source": [
    "# Создайте классы"
   ]
  },
  {
   "cell_type": "markdown",
   "id": "23644a8e-64cf-44a7-b736-1140e424d556",
   "metadata": {},
   "source": [
    "1. Создайте класс Car, который представляет автомобиль. У него должны быть атрибуты для хранения модели, года выпуска, цвета, количества дверей и текущей скорости. Добавьте методы которые возвращают год, марку, цвет и текущую скорость автомобиля."
   ]
  },
  {
   "cell_type": "code",
   "execution_count": 148,
   "id": "02a9c62d-0572-4385-a9e8-d1714a784a00",
   "metadata": {},
   "outputs": [
    {
     "name": "stdout",
     "output_type": "stream",
     "text": [
      "\n",
      "Модель - Almera Classik\n",
      "Год выпуска - 2007\n",
      "Количество дверей - 4\n",
      "Цвет - серебряный\n",
      "Максимальная скорость - 240 km/h\n"
     ]
    }
   ],
   "source": [
    "class Car:\n",
    "    def __init__(self, model, year, doors, colour, speed ):\n",
    "        self.model = model\n",
    "        self.year = year\n",
    "        self.doors = doors  \n",
    "        self.colour = colour\n",
    "        self.speed = speed\n",
    "    \n",
    "    def getmake (self):\n",
    "        return  self.model\n",
    "    \n",
    "    def getyear (self):\n",
    "        return  self.year\n",
    "   \n",
    "    def getcolour (self):\n",
    "        return  self.colour  \n",
    "   \n",
    "    def getspeed (self):\n",
    "        return  self.speed \n",
    "\n",
    "my_car = Car( \"Almera Classik\", 2007, 4, \"серебряный\", \"240 km/h\" )\n",
    "print(f'\\nМодель - {my_car.model}'\n",
    "      f'\\nГод выпуска - {my_car.year}'\n",
    "      f'\\nКоличество дверей - {my_car.doors}'\n",
    "      f'\\nЦвет - {my_car.colour}' \n",
    "      f'\\nМаксимальная скорость - {my_car.speed}'\n",
    "       )"
   ]
  },
  {
   "cell_type": "markdown",
   "id": "c43d2bd0-de35-4b4d-a61c-c80515a4e778",
   "metadata": {},
   "source": [
    "2. Создайте класс Student, который представляет студент. У него должны быть атрибуты для хранения имени, фамилии, возраста, адреса и список оценок."
   ]
  },
  {
   "cell_type": "code",
   "execution_count": 149,
   "id": "2c5b0146-752b-43e9-bc7c-21d86e9e053a",
   "metadata": {},
   "outputs": [
    {
     "name": "stdout",
     "output_type": "stream",
     "text": [
      "\n",
      "Имя - Семен\n",
      "Фамилия - Иванов\n",
      "Возраст - 21\n",
      "Адрес - г. Москва ул. Белинского 4\n",
      "Оценки - [4, 5]\n"
     ]
    }
   ],
   "source": [
    "class Student:\n",
    "    def __init__(self, first_name, last_name, age, address,):\n",
    "        self.first_name = first_name\n",
    "        self.last_name = last_name\n",
    "        self.age = age\n",
    "        self.address = address\n",
    "        self.grades = []\n",
    "\n",
    "    def add_grade(self, grade):\n",
    "        self.grades.append(grade)\n",
    "        return self.grades\n",
    "\n",
    "student1 = Student(\"Семен\", \"Иванов\", 21, \"г. Москва ул. Белинского 4\")\n",
    "student1.add_grade(4)\n",
    "student1.add_grade(5)\n",
    "\n",
    "print(f'\\nИмя - {student1.first_name}'\n",
    "      f'\\nФамилия - {student1.last_name}'\n",
    "      f'\\nВозраст - {student1.age}'\n",
    "      f'\\nАдрес - {student1.address}'\n",
    "      f'\\nОценки - {student1.grades}'\n",
    "       )"
   ]
  },
  {
   "cell_type": "markdown",
   "id": "77f19efc-3227-4401-8f11-f3cac3c068dd",
   "metadata": {},
   "source": [
    "3. Создайте класс Book, который представляет книгу. У него должны быть атрибуты для хранения названия, автора, количества страниц и издательства. Добавьте методы для установки и получения этих атрибутов."
   ]
  },
  {
   "cell_type": "code",
   "execution_count": 154,
   "id": "cedb312d-899a-482a-96ef-da7dc7e44878",
   "metadata": {},
   "outputs": [
    {
     "name": "stdout",
     "output_type": "stream",
     "text": [
      "\n",
      "Название - Метро 2033,\n",
      "Автор - Д. Глуховский\n",
      "Количество страниц - 544\n",
      "Издательство - Эксмо\n"
     ]
    }
   ],
   "source": [
    "class Book:\n",
    "    def __init__(self, name, title, number_of_pages, publishing_house):\n",
    "        self.name = name\n",
    "        self.title = title\n",
    "        self.number_of_pages = number_of_pages\n",
    "        self.publishing_house = publishing_house\n",
    "\n",
    "    def set_name(self, name):\n",
    "        self.name = name\n",
    "\n",
    "    def get_name(self):\n",
    "        return self.name\n",
    "\n",
    "    def set_title(self, title):\n",
    "        self.title =title\n",
    "\n",
    "    def get_title(self):\n",
    "        return self.title\n",
    "\n",
    "    def set_number_of_pages(self, number_of_pages):\n",
    "        self.number_of_pages = number_of_pages\n",
    "\n",
    "    def get_number_of_pages(self):\n",
    "        return self.number_of_pages\n",
    "\n",
    "    def set_publishing_house(self, publishing_house):\n",
    "        self.publishing_house = publishing_house\n",
    "\n",
    "    def get_publishing_house(self):\n",
    "        return self.publishing_house\n",
    "\n",
    "my_book = Book( \"Метро 2033\", \"Д. Глуховский\", 544, \"Эксмо\")\n",
    "print(f'\\nНазвание - {my_Book.get_name()},'\n",
    "      f'\\nАвтор - {my_Book.get_title()}'\n",
    "      f'\\nКоличество страниц - {my_Book.get_number_of_pages()}'\n",
    "      f'\\nИздательство - {my_Book.get_publishing_house()}' \n",
    "       )"
   ]
  },
  {
   "cell_type": "markdown",
   "id": "c0262c46-df82-43aa-bb2c-728c1ba9bbd0",
   "metadata": {},
   "source": [
    "4. Создайте класс ShoppingCart, который представляет корзину покупок. У него должен быть атрибут для хранения списка товаров. Добавьте методы для добавления, удаления, отображения товаров в корзине и вычиckbnt стоимости всей корзины."
   ]
  },
  {
   "cell_type": "code",
   "execution_count": 1,
   "id": "90c8e38b-445f-476d-84cc-c7e5d28fef1c",
   "metadata": {},
   "outputs": [
    {
     "name": "stdout",
     "output_type": "stream",
     "text": [
      "Сумма товаров в корзине: 1120\n",
      "{'бананы': 760, 'малина': 360}\n"
     ]
    }
   ],
   "source": [
    "class ShoppingCart:\n",
    "    def __init__ (self, shoping_list ={}):\n",
    "        self.shopping_list = shoping_list\n",
    "    \n",
    "    def add(self, product, priese):\n",
    "        self.shopping_list[product] = priese\n",
    "        return self.shopping_list\n",
    "    \n",
    "    def remove(self, product):\n",
    "        self.shopping_list.pop(product)\n",
    "        \n",
    "    def sum_price(self):\n",
    "        total_price = sum(self.shopping_list.values())\n",
    "        return total_price  \n",
    "\n",
    "cart = ShoppingCart()\n",
    "cart.add(\"яблоки\", 140)\n",
    "cart.add(\"бананы\", 760)\n",
    "cart.add(\"малина\", 360)\n",
    "cart.remove(\"яблоки\")\n",
    "total_price = cart.sum_price()\n",
    "print(\"Сумма товаров в корзине:\", total_price)\n",
    "print(cart.shopping_list)"
   ]
  },
  {
   "cell_type": "markdown",
   "id": "432cf6e3-ca93-43e4-9a48-e59bb4d6abd8",
   "metadata": {},
   "source": [
    "5. Создайте класс Circle, который представляет круг. У него должен быть атрибут для хранения радиуса и цвета. Добавьте методы для вычисления площади и периметра круга."
   ]
  },
  {
   "cell_type": "code",
   "execution_count": 42,
   "id": "5b7ce743-e242-49a6-9fba-6f72239b043f",
   "metadata": {},
   "outputs": [
    {
     "name": "stdout",
     "output_type": "stream",
     "text": [
      "Площадь круга - 28.26\n",
      "Периметр круга - 25.12\n"
     ]
    }
   ],
   "source": [
    "class Circle:\n",
    "    def __init__ (self, radius, color):\n",
    "        self.radius = radius\n",
    "        self.color = color\n",
    "\n",
    "    def calculate_area(self, radius):\n",
    "        return 3.14 * (radius ** 2)\n",
    "\n",
    "    def calculate_perimeter(self,radius):\n",
    "        return 2 * 3.14 * radius\n",
    "\n",
    "circle1 = Circle(3, 'red')\n",
    "circle2 = Circle(4, 'black')\n",
    "print(\"Площадь круга -\",circle1.calculate_area(3))\n",
    "print(\"Периметр круга -\",circle2.calculate_perimeter(4))"
   ]
  },
  {
   "cell_type": "markdown",
   "id": "5ecd4418-059e-4fe8-a125-da74ce98fefd",
   "metadata": {},
   "source": [
    "6. Создайте класс Point, который представляет точку в двумерном пространстве. У него должны быть атрибуты для хранения координат x и y. Добавьте методы для вычисления расстояния между двумя точками."
   ]
  },
  {
   "cell_type": "code",
   "execution_count": 43,
   "id": "c020e803-3f7e-4cac-a0a5-f513d9d3cc6f",
   "metadata": {},
   "outputs": [
    {
     "name": "stdout",
     "output_type": "stream",
     "text": [
      "Расстояние между точками -  5.0\n"
     ]
    }
   ],
   "source": [
    "class Point:\n",
    "    def __init__(self, x, y):\n",
    "        self.x = x\n",
    "        self.y = y\n",
    "        \n",
    "    def dist(self, point):\n",
    "        distance = ((self.x - point.x)**2 + (self.y - point.y)**2)**0.5\n",
    "        return distance\n",
    "\n",
    "point1 = Point(1, 2)\n",
    "point2 = Point(4, 6)\n",
    "distance = point1.dist(point2)\n",
    "print(\"Расстояние между точками - \", distance)\n"
   ]
  },
  {
   "cell_type": "markdown",
   "id": "2db5f269-f0d3-4ddf-ac39-8475e74c5653",
   "metadata": {},
   "source": [
    "7. Создайте класс Triangle, который представляет треугольник. У него должны быть атрибуты длины сторон. Добавьте методы для вычисления перимера треугольника и методы вычисления типа треугольника ( равностороннйи, павнобедренный, прямоуголный или разносторонний)."
   ]
  },
  {
   "cell_type": "code",
   "execution_count": 57,
   "id": "e7cc7557-d4c1-49e1-b601-e5810edbc5ec",
   "metadata": {},
   "outputs": [
    {
     "name": "stdout",
     "output_type": "stream",
     "text": [
      "Прямоугольный\n",
      "Равносторонний\n"
     ]
    }
   ],
   "source": [
    "class Triangle:\n",
    "    def __init__(self, a, b, c):\n",
    "        self.a = a\n",
    "        self.b = b\n",
    "        self.c = c\n",
    "\n",
    "    def perimeter(self):\n",
    "        return self.a + self.b + self.c\n",
    "\n",
    "    def triangle_type(self):\n",
    "        if self.a == self.b == self.c:\n",
    "            return \"Равносторонний\"\n",
    "        elif self.a == self.b or self.a == self.c or self.b == self.c:\n",
    "            return \"Равнобедренный\"\n",
    "        elif self.a**2 + self.b**2 == self.c**2 or self.a**2 + self.c**2 == self.b**2 or self.b**2 + self.c**2 == self.a**2:\n",
    "            return \"Прямоугольный\"\n",
    "        else:\n",
    "            return \"Разносторонний\"\n",
    "\n",
    "triangle1 = Triangle(3, 4, 5)\n",
    "print(triangle1.triangle_type())  \n",
    "\n",
    "triangle2 = Triangle(5, 5, 5)\n",
    "print(triangle2.triangle_type())  "
   ]
  },
  {
   "cell_type": "markdown",
   "id": "8d07e3e4-f1f7-410a-bbe7-dbcf5e2d8ee7",
   "metadata": {},
   "source": [
    "8. Создайте класс BankAccount, который представляет банковский счет. У него должны быть атрибуты для хранения номера счета, имени владельца и баланса. Добавьте методы для внесения и снятия денег со счета."
   ]
  },
  {
   "cell_type": "code",
   "execution_count": 152,
   "id": "ab16f277-a22d-4a95-bd00-c8479abc8c81",
   "metadata": {},
   "outputs": [
    {
     "name": "stdout",
     "output_type": "stream",
     "text": [
      "Баланс: 1000 руб\n",
      "Зачислено: 700 руб\n",
      "Зачислено: 2400 руб\n",
      "Со счета снято: 500 руб\n",
      "Со счета снято: 300 руб\n",
      "Со счета снято: 900 руб\n"
     ]
    }
   ],
   "source": [
    "class BankAccount:\n",
    "  \n",
    "    def __init__(self, name, number, sum):\n",
    "        self.account_number = number\n",
    "        self.balance = sum\n",
    "        print(f\"Баланс: {sum} руб\")\n",
    "     \n",
    "    def add(self, sum):\n",
    "        self.balance = self.balance + sum\n",
    "        print(f\"Зачислено: {sum} руб\")\n",
    "         \n",
    "    def withdraw(self, sum):\n",
    "        if self.balance >= sum: \n",
    "            self.balance = self.balance - sum\n",
    "            print(f\"Со счета снято: {sum} руб\")\n",
    "        else:\n",
    "            print(\"Недостаточно средств на счете\")\n",
    "\n",
    "abc1 = BankAccount(\"Иванов\",\"12345657\", 1000)\n",
    "abc1.add(700)\n",
    "abc1.add(2400)\n",
    "abc1.withdraw(500)\n",
    "abc1.withdraw(300)\n",
    "abc1.withdraw(900)"
   ]
  },
  {
   "cell_type": "markdown",
   "id": "2d849ca5-a527-41cc-9ebf-705f76799e49",
   "metadata": {},
   "source": [
    "9. Создайте класс Date, который представляет дату. У него должны быть атрибуты для хранения дня, месяца и года. Добавьте методы для сравнения двух дат и вычисления разницы между ними."
   ]
  },
  {
   "cell_type": "code",
   "execution_count": 107,
   "id": "b9544d12-d847-4117-80f7-ed1c70c0e217",
   "metadata": {},
   "outputs": [
    {
     "name": "stdout",
     "output_type": "stream",
     "text": [
      "Разница между датами: 8803\n"
     ]
    }
   ],
   "source": [
    "class Date:\n",
    "    def __init__(self, year, month, day):\n",
    "        self.day = day\n",
    "        self.month = month\n",
    "        self.year = year\n",
    "        self.__date = datetime(year, month, day)\n",
    "\n",
    "    def compare(self, other_date):\n",
    "        diff = self.__date - other_date.__date\n",
    "        #print(other_date.__date)\n",
    "        return abs(diff.days)\n",
    "        \n",
    "date1 = Date(2024,5,20)\n",
    "date2 = Date(2000,4,13)\n",
    "\n",
    "print(\"Разница между датами:\", date1.compare(date2))\n"
   ]
  },
  {
   "cell_type": "markdown",
   "id": "1c196431-3d1f-472f-aedb-8627caa8a05c",
   "metadata": {},
   "source": [
    "# Оформите каждый класс в отдельный модуль и напишиет на эти классы тесты."
   ]
  }
 ],
 "metadata": {
  "kernelspec": {
   "display_name": "Python 3 (ipykernel)",
   "language": "python",
   "name": "python3"
  },
  "language_info": {
   "codemirror_mode": {
    "name": "ipython",
    "version": 3
   },
   "file_extension": ".py",
   "mimetype": "text/x-python",
   "name": "python",
   "nbconvert_exporter": "python",
   "pygments_lexer": "ipython3",
   "version": "3.10.10"
  }
 },
 "nbformat": 4,
 "nbformat_minor": 5
}
