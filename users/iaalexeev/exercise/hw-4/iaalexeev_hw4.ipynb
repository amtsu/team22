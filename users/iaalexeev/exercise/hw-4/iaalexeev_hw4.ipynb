{
 "cells": [
  {
   "cell_type": "markdown",
   "id": "e996e72e-fa6d-45aa-b73e-fb5ac11ec63b",
   "metadata": {},
   "source": [
    "Домашнее задание №4. Списки и операции с ними.\n",
    "\n",
    "Задание 1. выполните следующий код \n",
    "list_one = [1, 2, 3, 4, 5, 6, 9]\n",
    "list_two = [1, 2, 3, 4, 5, 6, 9]\n",
    "list_two.append(789)\n",
    "print(list_one, list_two, sep='\\n')\n",
    "затем выполните код \n",
    "list_one = [1, 2, 3, 4, 5, 6, 9]\n",
    "list_two = list_one\n",
    "list_two.append(789)\n",
    "print(list_one, list_two, sep='\\n')\n",
    "\n",
    "запишите объяснения разницы в выполнении кода в переменную difference_explanation и выведите ее на экран"
   ]
  },
  {
   "cell_type": "code",
   "execution_count": 1,
   "id": "1907bf63-a2a8-4e08-8088-31ffddf5ab88",
   "metadata": {},
   "outputs": [
    {
     "name": "stdout",
     "output_type": "stream",
     "text": [
      "[1, 2, 3, 4, 5, 6, 9]\n",
      "[1, 2, 3, 4, 5, 6, 9, 789]\n"
     ]
    }
   ],
   "source": [
    "list_one = [1, 2, 3, 4, 5, 6, 9]\n",
    "list_two = [1, 2, 3, 4, 5, 6, 9]\n",
    "list_two.append(789)\n",
    "print(list_one, list_two, sep='\\n')"
   ]
  },
  {
   "cell_type": "code",
   "execution_count": 2,
   "id": "ea6fffa9-7f12-4d6c-9ab4-94ec155a5f6f",
   "metadata": {},
   "outputs": [
    {
     "name": "stdout",
     "output_type": "stream",
     "text": [
      "[1, 2, 3, 4, 5, 6, 9, 789]\n",
      "[1, 2, 3, 4, 5, 6, 9, 789]\n"
     ]
    }
   ],
   "source": [
    "list_one = [1, 2, 3, 4, 5, 6, 9]\n",
    "list_two = list_one\n",
    "list_two.append(789)\n",
    "print(list_one, list_two, sep='\\n')"
   ]
  },
  {
   "cell_type": "code",
   "execution_count": 3,
   "id": "01f0378d-6529-4884-9f5e-33303215df90",
   "metadata": {},
   "outputs": [
    {
     "name": "stdout",
     "output_type": "stream",
     "text": [
      "В первом случае мы добавили 789 в list_two. Во втором list_two ссылается к list_one, а не копирует, поэтому при вызове append 789 добавилась в list_one, а вызывая list_two мы обращаемся к list_one\n"
     ]
    }
   ],
   "source": [
    "difference_explanation = 'В первом случае мы добавили 789 в list_two. Во втором list_two ссылается к list_one, а не копирует, поэтому при вызове append 789 добавилась в list_one, а вызывая list_two мы обращаемся к list_one'\n",
    "print(difference_explanation)"
   ]
  },
  {
   "cell_type": "markdown",
   "id": "d91e7867-7fac-454c-9d0f-387d21026466",
   "metadata": {},
   "source": [
    "Задание 2. Задайте переменную a_poem типа строка, со следующим содержимым: \n",
    "За стеклом лежал Питон,\n",
    "Большой и толстый, как батон.\n",
    "Вверх пополз,\n",
    "Затем вернулся,\n",
    "Круглым бубликом свернулся.\n",
    "\n",
    "Создайте переменную a_list типа список, заполнив ее содержимым строки a_poem так, чтобы каждый символ строки a_poem стал отдельным элементом списка a_list\n",
    "Создайте переменную another_list типа список, заполнив ее содержимым строки a_poem так, чтобы каждое слово строки a_poem стал отдельным элементом списка another_list. Знаки препинания прилипнут к словам, не страшно.\n",
    "Выведите на экран элементы и их количество для списков a_list и another_list.\n",
    "Создайте переменную one_more_list типа список, каждым элементом которой является отдельная строка строфы из a_poem. Выведите на экран элементы one_more_list и их количество."
   ]
  },
  {
   "cell_type": "code",
   "execution_count": 14,
   "id": "9d0212b1-5723-462a-b690-a6f5ba385e50",
   "metadata": {},
   "outputs": [
    {
     "name": "stdout",
     "output_type": "stream",
     "text": [
      "['За', 'стеклом', 'лежал', 'Питон,', 'Большой', 'и', 'толстый,', 'как', 'батон.', 'Вверх', 'пополз,', 'Затем', 'вернулся,', 'Круглым', 'бубликом', 'свернулся'] \n",
      " количетство элементов:  16\n",
      "['З', 'а', 'с', 'т', 'е', 'к', 'л', 'о', 'м', 'л', 'е', 'ж', 'а', 'л', 'П', 'и', 'т', 'о', 'н', ',', 'Б', 'о', 'л', 'ь', 'ш', 'о', 'й', 'и', 'т', 'о', 'л', 'с', 'т', 'ы', 'й', ',', 'к', 'а', 'к', 'б', 'а', 'т', 'о', 'н', '.', 'В', 'в', 'е', 'р', 'х', 'п', 'о', 'п', 'о', 'л', 'з', ',', 'З', 'а', 'т', 'е', 'м', 'в', 'е', 'р', 'н', 'у', 'л', 'с', 'я', ',', 'К', 'р', 'у', 'г', 'л', 'ы', 'м', 'б', 'у', 'б', 'л', 'и', 'к', 'о', 'м', 'с', 'в', 'е', 'р', 'н', 'у', 'л', 'с', 'я'] \n",
      " количетство элементов: 95\n",
      "['За стеклом лежал Питон', ' Большой и толстый', ' как батон. Вверх пополз', ' Затем вернулся', ' Круглым бубликом свернулся'] \n",
      " количетство элементов: 5\n"
     ]
    }
   ],
   "source": [
    "a_poem='За стеклом лежал Питон, Большой и толстый, как батон. Вверх пополз, Затем вернулся, Круглым бубликом свернулся'\n",
    "a_list=list(a_poem.replace(' ',''))\n",
    "another_list=a_poem.split()\n",
    "one_more_list=a_poem.split(',')\n",
    "print(f'{another_list} \\n количетство элементов:  {len(another_list)}')\n",
    "print(f'{a_list} \\n количетство элементов: {len(a_list)}')\n",
    "print(f'{one_more_list} \\n количетство элементов: {len(one_more_list)}')\n",
    "\n",
    "        \n",
    "        "
   ]
  },
  {
   "cell_type": "markdown",
   "id": "0a50fd8e-62af-4d63-9cc9-7016da35017a",
   "metadata": {},
   "source": [
    "Задание 3.\n",
    "\n",
    "Создайте список solyanka_list, в качестве его элементов добавьте значения каждого из известных вам типов данных python.\n",
    "Выведите на экран содержимое списка solyanka_list.\n",
    "Посчитайте количество элементов списка solyanka_list.\n",
    "Выведите на экран тип пятого от начала списка элемента.\n",
    "Добавьте в конец списка solyanka_list элемент типа \"список\" из одного элемента\n",
    "Выведите на экран тип последнего элемента списка solyanka_list"
   ]
  },
  {
   "cell_type": "code",
   "execution_count": 18,
   "id": "5e66e0ae-49ad-48ea-8897-af215e93e31f",
   "metadata": {},
   "outputs": [
    {
     "name": "stdout",
     "output_type": "stream",
     "text": [
      "['словарь', 'список', 'множество', 'строка', 'логические', 'плавающая запятая', 'кортеж', 'целое число', ['элемент']]\n",
      "9\n",
      "кортеж\n",
      "<class 'list'>\n"
     ]
    }
   ],
   "source": [
    "solyanka_list=['словарь','список','множество','строка','логические','плавающая запятая','кортеж','целое число']\n",
    "solyanka_list.append(['элемент'])\n",
    "print(solyanka_list)\n",
    "print(len(solyanka_list))\n",
    "print(solyanka_list[6])\n",
    "print(type(solyanka_list[8]))"
   ]
  },
  {
   "cell_type": "markdown",
   "id": "a88b31a3-e7b0-48b2-820e-f20e48c2e884",
   "metadata": {},
   "source": [
    "\n",
    "Задание 4. Дана последовательности чисел Фибоначчи из нескольких элементов: \n",
    "0, 1, 1, 2, 3, 5, 8, 13, 21, 34, 55, 89, 144, 233, 377, 610, 987, 1597, 2584, 4181, 6765, 10946, 17711\n",
    "\n",
    "Создайте список fibonacci_list, элементами которого будут числа Фибонначи из задания.\n",
    "Посчитайте и выведите на экран, сколько чисел Фибоначчи в последовательности из задания\n",
    "Посчитайте и выведите на экран, сколько раз число 1 входит в заданную последовательность Фибоначчи.\n",
    "Проверьте и выведите на экран результат, является ли число 21 числом Фибоначчи. Число 33? Число 987? число 9999? использование оператора if возможно, но не является необходимым"
   ]
  },
  {
   "cell_type": "code",
   "execution_count": 26,
   "id": "36368628-4854-4496-9220-4531661bf022",
   "metadata": {},
   "outputs": [
    {
     "name": "stdout",
     "output_type": "stream",
     "text": [
      "2\n",
      "23\n",
      " число 1 является числом Фибоначии\n",
      " число 1 является числом Фибоначии\n",
      " число 987 является числом Фибоначии\n"
     ]
    }
   ],
   "source": [
    "fibonacci_list=[0, 1, 1, 2, 3, 5, 8, 13, 21, 34, 55, 89, 144, 233, 377, 610, 987, 1597, 2584, 4181, 6765, 10946, 17711]\n",
    "print(count)\n",
    "print(len(fibonacci_list))\n",
    "count = 0\n",
    "for item in fibonacci_list: \n",
    "    if item == 1:\n",
    "        count += 1\n",
    "for items in fibonacci_list:\n",
    "   if items==1 or items==33 or items==987 or items==9999: #в голову лезет только if XD \n",
    "       print(f' число {items} является числом Фибоначии')\n"
   ]
  },
  {
   "cell_type": "markdown",
   "id": "1ab11d92-dc9e-45b7-a578-7bee45e6f367",
   "metadata": {},
   "source": [
    "Задание 5. Задайте переменную a_list типа \"список\" со следующим содержимым: \n",
    "1,2,5,4,3,6\n",
    "\n",
    "выведите содержимое a_list на экран\n",
    "поменяйте местами третий и пятый элементы a_list и выведите результат на экран"
   ]
  },
  {
   "cell_type": "code",
   "execution_count": 37,
   "id": "1a857103-7489-41ca-aaad-243b8a3bee82",
   "metadata": {},
   "outputs": [
    {
     "name": "stdout",
     "output_type": "stream",
     "text": [
      "[1, 2, 5, 4, 3, 6]\n",
      "[1, 2, 5, 1, 3, 2]\n"
     ]
    }
   ],
   "source": [
    "a_list=[1,2,5,4,3,6]\n",
    "print(a_list)\n",
    "a_list[3]=a_list[0] # кажется все же не то\n",
    "a_list[5]=a_list[1]\n",
    "print(a_list)"
   ]
  },
  {
   "cell_type": "markdown",
   "id": "ec4a6925-06cc-46ec-af25-f15dfecc9cee",
   "metadata": {},
   "source": [
    "Задание 6. Кто-то перепутал строчки в стихотворении, хорошо что они были пронумерованы. \n",
    "(2, \"тот большего добьётся,\" )\n",
    "(5, \"Кто умирал, тот знает, что живёт.\")\n",
    "(1, \"Кто битым жизнью был,\" )\n",
    "(3, \"Пуд соли съевший выше ценит мёд.\")\n",
    "(4, \"Кто слёзы лил, тот искренней смеётся,\")\n",
    "выведите на экран строки Омара Хайама в правильном порядке, используя список."
   ]
  },
  {
   "cell_type": "code",
   "execution_count": 89,
   "id": "1fb5c99f-2d74-41a8-9079-7283dc8a5bac",
   "metadata": {},
   "outputs": [
    {
     "name": "stdout",
     "output_type": "stream",
     "text": [
      "Кто битым жизнью был,\n",
      "тот большего добьётся,\n",
      "Пуд соли съевший выше ценит мёд.\n",
      "Кто слёзы лил, тот искренней смеётся,\n",
      "Кто умирал, тот знает, что живёт.\n"
     ]
    }
   ],
   "source": [
    "poem=[2 , \"тот большего добьётся,\" , \n",
    "      5 , \"Кто умирал, тот знает, что живёт.\" , \n",
    "      1 , \"Кто битым жизнью был,\" , \n",
    "      3 , \"Пуд соли съевший выше ценит мёд.\", \n",
    "      4 , \"Кто слёзы лил, тот искренней смеётся,\"]\n",
    "for element in poem:\n",
    "    if element==1:\n",
    "        num_1=poem.index(1)\n",
    "        print(poem[num_1+1])\n",
    "for element in poem:   \n",
    "    if element==2:\n",
    "        num_2=poem.index(2)\n",
    "        print(poem[num_2+1])\n",
    "for element in poem:         \n",
    "    if element==3:\n",
    "        num_3=poem.index(3)\n",
    "        print(poem[num_3+1])\n",
    "for element in poem: \n",
    "    if element==4:\n",
    "        num_4=poem.index(4)\n",
    "        print(poem[num_4+1])\n",
    "for element in poem: \n",
    "    if element==5:\n",
    "        num_5=poem.index(5)\n",
    "        print(poem[num_5+1])\n",
    "        \n",
    "   \n",
    "    \n",
    "        \n",
    "        \n"
   ]
  },
  {
   "cell_type": "markdown",
   "id": "38dc857d-63b9-472b-bd88-6c121ad9c056",
   "metadata": {},
   "source": [
    "Задание 7. \n",
    "Кто битым за дедлайн был,\n",
    "тот больше не сольется.\n",
    "Пуд багов съевший, выше ценит чистый код.\n",
    "Кто дошик ел, тот рейтинг ценит свой.\n",
    "Кто крашился, тот знает, что живой.\n",
    "В данном задании после каждой операции выводите на экран содержимое true_story_list и количество его элементов.\n",
    "\n",
    "Создайте переменную true_story_list типа список, занесите в неё третью строку из стихотворения выше.\n",
    "Добавьте четвертую строку в конец списка true_story_list.\n",
    "Создайте переменную true_story_slice типа список, занесите в неё четвертую и пятую строки из стихотворения выше. Добавьте содержимое true_story_slice как один последний элемент списка true_story_list.\n",
    "Очистите весь список true_story_slice, выведите его содержимое на экран.\n",
    "Добавьте первую строку из стихотворение в начало списка true_story_list\n",
    "Удалите из true_story_list все элементы.\n",
    "Удалите последний элемент списка true_story_list\n",
    "Добавьте вторым элементом списка true_story_list вторую строчку стихотворения\n",
    "Создайте переменную true_story_tail типа список, занесите в него пятую строку стихотворения дважды. Скопируйте элементы списка true_story_tail в конец списка true_story_list.\n",
    "Удалите 5 элемент списка true_story_list.\n",
    "*Выведите список true_story_list красиво в виде стихотворения. (кажется, это ещё не проходили, но попробовать стоит)"
   ]
  },
  {
   "cell_type": "code",
   "execution_count": 132,
   "id": "95b78cc1-704a-41dd-83c4-a7db9eec4851",
   "metadata": {},
   "outputs": [
    {
     "name": "stdout",
     "output_type": "stream",
     "text": [
      "1\n",
      "2\n",
      "3\n",
      "0\n",
      "[]\n",
      "1\n",
      "0\n",
      "2\n",
      "3\n",
      " \n",
      "тот больше не сольется.\n",
      "[['Кто крашился, тот знает, что живой.Кто крашился, тот знает, что живой.']]\n"
     ]
    }
   ],
   "source": [
    "true_story_list=['Пуд багов съевший, выше ценит чистый код.']\n",
    "print(len(true_story_list))\n",
    "true_story_list.append('Кто дошик ел, тот рейтинг ценит свой.')\n",
    "print(len(true_story_list))\n",
    "true_story_slice=['Кто дошик ел, тот рейтинг ценит свой.',\n",
    "                'Кто крашился, тот знает, что живой.']\n",
    "true_story_list.append(true_story_slice)\n",
    "print(len(true_story_list))\n",
    "true_story_list.clear()\n",
    "print(len(true_story_list))\n",
    "print(true_story_list)\n",
    "true_story_list.append('Пуд багов съевший, выше ценит чистый код.')\n",
    "print(len(true_story_list))\n",
    "true_story_list.pop() \n",
    "print(len(true_story_list))\n",
    "true_story_list=[' ','тот больше не сольется.']\n",
    "print(len(true_story_list))\n",
    "true_story_tail=[]\n",
    "true_story_tail.append(2* 'Кто крашился, тот знает, что живой.')\n",
    "true_story_list.append(true_story_tail)\n",
    "print(len(true_story_list))\n",
    "#true_story_list.pop(5) если бы элементов было бы 5\n",
    "for poem in true_story_list:\n",
    "    print(poem)"
   ]
  },
  {
   "cell_type": "code",
   "execution_count": null,
   "id": "5bb82b45-be4d-465c-bd92-77f9b11d745d",
   "metadata": {},
   "outputs": [],
   "source": []
  }
 ],
 "metadata": {
  "kernelspec": {
   "display_name": "Python 3 (ipykernel)",
   "language": "python",
   "name": "python3"
  },
  "language_info": {
   "codemirror_mode": {
    "name": "ipython",
    "version": 3
   },
   "file_extension": ".py",
   "mimetype": "text/x-python",
   "name": "python",
   "nbconvert_exporter": "python",
   "pygments_lexer": "ipython3",
   "version": "3.10.10"
  }
 },
 "nbformat": 4,
 "nbformat_minor": 5
}
