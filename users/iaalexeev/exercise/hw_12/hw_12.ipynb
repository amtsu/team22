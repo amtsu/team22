{
 "cells": [
  {
   "cell_type": "markdown",
   "id": "738de1f9-0b60-42e5-89a8-3df72d001ce0",
   "metadata": {},
   "source": [
    "Классы\n",
    "\n",
    "Создайте класс Car, который представляет автомобиль. У него должны быть атрибуты для хранения модели, года выпуска, цвета, количества дверей и текущей скорости. Добавьте методы которые возвращают год, марку, цвет и текущую скорость автомобиля.\n",
    "\n",
    "Расширьте класс автомобиль, реализовав метод ускорения автомоиля на 5 км в час. И метод остановки автомобиля."
   ]
  },
  {
   "cell_type": "code",
   "execution_count": 219,
   "id": "ccd081f1-eea0-428c-8b1f-19efc1907027",
   "metadata": {},
   "outputs": [
    {
     "name": "stdout",
     "output_type": "stream",
     "text": [
      "  Модель: Nissan Micra\n",
      "  Год выпуска: 1999 \n",
      "  Количество дверей: 5\n",
      "изменение скорости на 10 км/ч Скрость: 140 км/ч\n",
      "изменение скорости на 13 км/ч Скрость: 143 км/ч\n",
      "мы взлетаем\n",
      "изменение скорости на -120 км/ч Скрость: 10 км/ч\n",
      "стоим\n",
      "изменение скорости на 10 км/ч Скрость: 10 км/ч\n"
     ]
    }
   ],
   "source": [
    "class Car:\n",
    "    def __init__(self,model,date,color,doors,speed):\n",
    "        self.model=model\n",
    "        self.date=date\n",
    "        self.color=color\n",
    "        self.doors=doors\n",
    "        self.speed=speed \n",
    "\n",
    "    def info(self):\n",
    "        print(f'  Модель: {self.model}\\n  Год выпуска: {self.date} \\n  Количество дверей: {self.doors}')\n",
    "\n",
    "    def boost(self,boost_up):\n",
    "        if type(boost_up) != int:\n",
    "            raise ValueError('скорость это число')\n",
    "        result=self.speed+boost_up\n",
    "        if result>200:\n",
    "            print('мы взлетаем')\n",
    "        elif self.speed+boost_up==0 or result<0:\n",
    "            print('машина остановилась')\n",
    "\n",
    "        else:\n",
    "            print(f'изменение скорости на {boost_up} км/ч Скрость: {result} км/ч')\n",
    "\n",
    "    def stop(self):\n",
    "        self.speed=0\n",
    "        print('стоим')\n",
    "\n",
    "    \n",
    "Nissan=Car('Nissan Micra',1999,'yellow',5,130)        \n",
    "Nissan.info()\n",
    "Nissan.boost(10)\n",
    "Nissan.boost(13)\n",
    "Nissan.boost(100)\n",
    "Nissan.boost(-120)\n",
    "Nissan.stop()\n",
    "Nissan.boost(10)"
   ]
  },
  {
   "cell_type": "markdown",
   "id": "249a2fbf-a877-460d-8ee2-a83262193497",
   "metadata": {},
   "source": [
    "Создайте класс Student, который представляет студент. У него должны быть атрибуты для хранения имени, фамилии, возраста, адреса и список оценок.\n",
    "\n",
    "Расширьте класс Student, создав метод добавления новой оценки и метод вычисления среднего бала."
   ]
  },
  {
   "cell_type": "code",
   "execution_count": 253,
   "id": "160799b5-054a-4067-b257-10c6e82823ca",
   "metadata": {},
   "outputs": [
    {
     "name": "stdout",
     "output_type": "stream",
     "text": [
      "Средний балл: 3.5\n",
      "Все оценки: [2, 4, 5, 3]\n"
     ]
    }
   ],
   "source": [
    "class Student:\n",
    "\n",
    "    def __init__(self,name,surname,age,adress):\n",
    "        self.name=name\n",
    "        self.surname=surname\n",
    "        self.age=age\n",
    "        self.adress=adress\n",
    "        self.scores=[] \n",
    "\n",
    "    def new_score(self,score):\n",
    "        self.scores.append(score)\n",
    "\n",
    "    def result(self):\n",
    "        total=sum(self.scores)/(len(self.scores))\n",
    "        print(f'Средний балл: {total}')\n",
    "        print(f'Все оценки: {self.scores}')\n",
    "               \n",
    "        \n",
    "         \n",
    "Ivan=Student('Ivan','Alexeev',24, 'Students.St 43/2')\n",
    "\n",
    "Ivan.new_score(2)\n",
    "Ivan.new_score(4)\n",
    "Ivan.new_score(5)\n",
    "Ivan.new_score(3)\n",
    "Ivan.result()"
   ]
  },
  {
   "cell_type": "markdown",
   "id": "c2fec40e-fc6a-4e00-818c-02b3e852fca0",
   "metadata": {},
   "source": [
    "Создайте класс Book, который представляет книгу. У него должны быть атрибуты для хранения названия, автора, количества страниц и издательства. Добавьте методы для установки и получения этих атрибутов."
   ]
  },
  {
   "cell_type": "code",
   "execution_count": 186,
   "id": "bfb70afc-4abd-4239-a768-d1859dec5624",
   "metadata": {},
   "outputs": [
    {
     "name": "stdout",
     "output_type": "stream",
     "text": [
      " Название книги: Python Theory \n",
      " Издатель: God \n",
      " Издательство: Goods \n",
      " Кол-во страниц: 15000\n"
     ]
    }
   ],
   "source": [
    "class Book:\n",
    "\n",
    "    def __init__(self,name,author,pages,manufact):\n",
    "        self.name=name\n",
    "        self.author=author\n",
    "        self.pages=pages\n",
    "        self.manufact=manufact\n",
    "\n",
    "        if type(self.name)!=str or type(self.author)!=str or type(self.manufact)!=str:\n",
    "            print('введите имя или издателя в виде строки')\n",
    "        elif type(self.pages)!=int:\n",
    "            print('введите кол-во страниц ввиде числа')\n",
    "            \n",
    "    def books_info(self):\n",
    "        return f' Название книги: {self.name} \\n Издатель: {self.author} \\n Издательство: {self.manufact} \\n Кол-во страниц: {self.pages}'\n",
    "\n",
    "First_Book=Book('Python Theory','God',15000,'Goods')\n",
    "\n",
    "print(First_Book.books_info())\n",
    "    "
   ]
  },
  {
   "cell_type": "markdown",
   "id": "7ba40e5e-80eb-4d8f-90b0-0cefd73555fd",
   "metadata": {},
   "source": [
    "Создайте класс ShoppingCart, который представляет корзину покупок. У него должен быть атрибут для хранения списка товаров. Добавьте методы для добавления, удаления, отображения товаров в корзине и вычесления стоимости всей корзины."
   ]
  },
  {
   "cell_type": "code",
   "execution_count": 177,
   "id": "6ef2299b-712d-4b29-910b-2de0c7a9183d",
   "metadata": {},
   "outputs": [
    {
     "name": "stdout",
     "output_type": "stream",
     "text": [
      "('apple', 46) ('orange', 80) ('coca-cola', 110) ('dobraya-cola', 100)\n",
      "('orange', 80) ('coca-cola', 110) ('dobraya-cola', 100)\n",
      "Общая стоимость: 290\n"
     ]
    }
   ],
   "source": [
    "class ShoppingCart:\n",
    "\n",
    "    def __init__(self): \n",
    "        self.items = []\n",
    "\n",
    "    def add_item(self, name, price): \n",
    "        if type(name)!=str:\n",
    "            raise ValueError('введите имя корректно')\n",
    "        elif type(price)!= int and type(price)!= float:\n",
    "            raise ValueError('ввидет цену ввиде числа')\n",
    "        item =(name, price) \n",
    "        self.items.append(item)\n",
    "\n",
    "\n",
    "    def print(self):\n",
    "        print(*(self.items))\n",
    "\n",
    "    def remove_item(self, item_name): \n",
    "        for item in self.items: \n",
    "            if item[0] == item_name: \n",
    "                self.items.remove(item) \n",
    "                break\n",
    "            else:\n",
    "                raise ValueError('ошибка продукта')\n",
    "\n",
    "    def calculate_total(self): \n",
    "        total = 0 \n",
    "        for item in self.items: \n",
    "            total += item[1] \n",
    "        print(f'Общая стоимость: {total}')\n",
    "\n",
    "cart = ShoppingCart()\n",
    "\n",
    "cart.add_item('apple' , 46)\n",
    "cart.add_item('orange' , 80)\n",
    "cart.add_item('coca-cola' , 110)\n",
    "cart.add_item('dobraya-cola' , 100)\n",
    "cart.print()\n",
    "\n",
    "cart.remove_item('apple')\n",
    "cart.print()\n",
    "cart.calculate_total()\n"
   ]
  },
  {
   "cell_type": "markdown",
   "id": "c0f686f5-152b-4b9b-a81c-b4d371100d06",
   "metadata": {},
   "source": [
    "Создайте класс Circle, который представляет круг. У него должен быть атрибут для хранения радиуса и цвета. Добавьте методы для вычисления площади и периметра круга."
   ]
  },
  {
   "cell_type": "code",
   "execution_count": 223,
   "id": "05ffbe73-ae2b-4259-afe0-c596aeb4379c",
   "metadata": {},
   "outputs": [
    {
     "name": "stdout",
     "output_type": "stream",
     "text": [
      " 11309.73\n",
      " 376.99\n"
     ]
    }
   ],
   "source": [
    "from math import pi \n",
    "\n",
    "class Circle:\n",
    "    radius = 60\n",
    "    color = 'yellow'\n",
    "\n",
    "    @classmethod\n",
    "    def square(cls):\n",
    "        result=pi * (cls.radius**2)\n",
    "        print(f' {result:.2f}')\n",
    "    \n",
    "    @classmethod\n",
    "    def perimeter(cls):\n",
    "        result= 2*pi * cls.radius\n",
    "        print(f' {result:.2f}')\n",
    "        \n",
    "\n",
    "Circle.square()\n",
    "Circle.perimeter()\n",
    "        "
   ]
  },
  {
   "cell_type": "markdown",
   "id": "6f93c4d1-9116-4119-8a5f-a3bee47ef0b0",
   "metadata": {},
   "source": [
    "Создайте класс Point, который представляет точку в двумерном пространстве. У него должны быть атрибуты для хранения координат x и y. Добавьте методы для вычисления расстояния между двумя точками."
   ]
  },
  {
   "cell_type": "code",
   "execution_count": 100,
   "id": "1a71b75d-9e00-4052-b4ba-aeef7d132edf",
   "metadata": {},
   "outputs": [
    {
     "name": "stdout",
     "output_type": "stream",
     "text": [
      "1.4\n"
     ]
    }
   ],
   "source": [
    "from math import sqrt as s\n",
    "class Point:\n",
    "\n",
    "    def __init__(self,x,y):\n",
    "        self.x=x\n",
    "        self.y=y\n",
    "\n",
    "    def length (self):\n",
    "        x1y1=list(self.x)\n",
    "        x2y2=list(self.y)\n",
    "        try:\n",
    "            x1=int(x1y1[0])\n",
    "            y1=int(x1y1[2])\n",
    "            x2=int(x2y2[0])\n",
    "            y2=int(x2y2[2])\n",
    "            \n",
    "        except ValueError:\n",
    "            print('введите число')\n",
    "\n",
    "        x1=int(x1y1[0])\n",
    "        y1=int(x1y1[2])\n",
    "        x2=int(x2y2[0])\n",
    "        y2=int(x2y2[2])\n",
    "\n",
    "          \n",
    "        d=s(((x2-x1) ** 2) + ((y2-y1) ** 2))\n",
    "        print(f'{d:.1f}')\n",
    "a = Point('7,8','8,9')\n",
    "a.length()"
   ]
  },
  {
   "cell_type": "markdown",
   "id": "7e828aa1-e7b7-4701-b755-1878138ee904",
   "metadata": {},
   "source": [
    "Создайте класс Triangle, который представляет треугольник. У него должны быть атрибуты длины сторон. Добавьте методы для вычисления перимера треугольника и методы вычисления типа треугольника ( равностороннйи, павнобедренный, прямоуголный или разносторонний)."
   ]
  },
  {
   "cell_type": "code",
   "execution_count": 6,
   "id": "bfafed4c-abe8-4c27-b443-1484ea262239",
   "metadata": {
    "scrolled": true
   },
   "outputs": [
    {
     "name": "stdout",
     "output_type": "stream",
     "text": [
      "Периметр треугольника: 33\n",
      "разносторонний\n",
      "Периметр треугольника: 12\n",
      "не треугольник\n"
     ]
    }
   ],
   "source": [
    "class Triangle:\n",
    "\n",
    "    def __init__(self,a,b,c):\n",
    "        self.a=a\n",
    "        self.b=b\n",
    "        self.c=c\n",
    "\n",
    "    def perimeter(self):\n",
    "        print(f'Периметр треугольника: {self.a+self.b+self.c}')\n",
    "\n",
    "    def info(self):\n",
    "\n",
    "        all=[self.a,self.b,self.c]\n",
    "        sort_all=sorted(all)\n",
    "        \n",
    "        if self.a + self.b <= self.c or self.a + self.c <= self.b or self.b + self.c <= self.a:\n",
    "            print('не треугольник')\n",
    "        elif self.a != self.b and self.a != self.c and self.b != self.c:\n",
    "            print ('разносторонний')\n",
    "        elif self.a==self.b==self.c:\n",
    "            print('равносторонний')\n",
    "        elif self.a == self.b or self.a==self.c or self.b == self.c:\n",
    "            print('равнобедренный')\n",
    "        elif (sort_all[0])**2 == (sort_all[1])**2 + (sort_all[2])**2:\n",
    "            print('прямоугольный')\n",
    "            \n",
    "        \n",
    "\n",
    "tr = Triangle(14,10,9)\n",
    "tr_2= Triangle(1,10,1)\n",
    "\n",
    "tr.perimeter()\n",
    "tr.info()\n",
    "tr_2.perimeter()\n",
    "tr_2.info()"
   ]
  },
  {
   "cell_type": "markdown",
   "id": "23a477e8-59d4-44c0-a9b4-bde2a160f886",
   "metadata": {},
   "source": [
    "Создайте класс BankAccount, который представляет банковский счет. У него должны быть атрибуты для хранения номера счета, имени владельца и баланса. Добавьте методы для внесения и снятия денег со счета."
   ]
  },
  {
   "cell_type": "code",
   "execution_count": 185,
   "id": "fc260b15-33d2-413f-ae9c-e975d3238eca",
   "metadata": {},
   "outputs": [
    {
     "name": "stdout",
     "output_type": "stream",
     "text": [
      "{126436423: {'Ivan': 10000}}\n",
      "{6436437247: {'Peter': 50000}}\n",
      "{126436423: {'Ivan': 28000}}\n",
      "{126436423: {'Ivan': 31000}}\n",
      "{126436423: {'Ivan': 32000}}\n",
      "{126436423: {'Ivan': 22000}}\n"
     ]
    }
   ],
   "source": [
    "class BankAccount:\n",
    "    def __init__(self,number,name,balance):\n",
    "        self.array={}\n",
    "        self.number=number\n",
    "        self.name=name\n",
    "        self.balance=balance\n",
    "\n",
    "    def add_account (self):\n",
    "        self.array.update({self.number:{self.name:self.balance}})\n",
    "        print(self.array)\n",
    "    \n",
    "    def add_money(self,money):\n",
    "        total=self.array[self.number][self.name]\n",
    "        result=total+money\n",
    "        self.array[self.number][self.name]=result\n",
    "        if money == 0:\n",
    "            raise ValueError ('надо внести хоть что-то')\n",
    "        print(self.array)\n",
    "\n",
    "    def del_money(self,del_money):\n",
    "\n",
    "        total=self.array[self.number][self.name]\n",
    "        result=total-del_money\n",
    "        self.array[self.number][self.name]=result\n",
    "        if del_money > total:\n",
    "            raise ValueError ('у тебя слишком мало денег')\n",
    "        print(self.array)\n",
    "        \n",
    "Ivan=BankAccount(126436423,'Ivan',10000)\n",
    "Peter=BankAccount(6436437247,'Peter',50000)\n",
    "\n",
    "Ivan.add_account()\n",
    "Peter.add_account()\n",
    "Ivan.add_money(18000)\n",
    "Ivan.add_money(3000)\n",
    "Ivan.add_money(1000)\n",
    "Ivan.del_money(10000)\n",
    "\n"
   ]
  },
  {
   "cell_type": "markdown",
   "id": "e91895ad-bc70-44d4-bf38-6a090746f3d4",
   "metadata": {},
   "source": [
    "Создайте класс Date, который представляет дату. У него должны быть атрибуты для хранения дня, месяца и года. Добавьте методы для сравнения двух дат и вычисления разницы между ними."
   ]
  },
  {
   "cell_type": "code",
   "execution_count": 155,
   "id": "c542066f-7b68-4415-bbc3-4a9368af53c2",
   "metadata": {},
   "outputs": [
    {
     "name": "stdout",
     "output_type": "stream",
     "text": [
      "368\n",
      "6\n"
     ]
    }
   ],
   "source": [
    "from datetime import datetime\n",
    "\n",
    "class Date:\n",
    "\n",
    "    def __init__(self,first_date,second_date):\n",
    "        self.first_date=first_date\n",
    "        self.second_date=second_date\n",
    "\n",
    "    def delta(self):\n",
    "\n",
    "        delta = self.second_date - self.first_date\n",
    "        print(delta.days)\n",
    "\n",
    "\n",
    "\n",
    "c=Date(date(2020, 10, 2),date(2021, 10, 5))\n",
    "d=Date(date(2020, 10, 2),date(2020, 10, 8))\n",
    "\n",
    "c.delta()\n",
    "d.delta()\n"
   ]
  },
  {
   "cell_type": "markdown",
   "id": "5d27b906-4a0e-41c1-aec8-68106b0668d1",
   "metadata": {},
   "source": [
    "Создайте класс Shape для представления различных геометрических фигур(круг, прямоугольник треугольник). Реализуйте в нем методы вчисления площали и периметра."
   ]
  },
  {
   "cell_type": "code",
   "execution_count": 1,
   "id": "64cb07a7-53d7-4b1c-8c77-1bb5c39d4e2a",
   "metadata": {},
   "outputs": [
    {
     "name": "stdout",
     "output_type": "stream",
     "text": [
      "Треугольник равнобедренный\n",
      "Площадь: 1.23\n",
      "Периметр: 5.30\n",
      "не квадрат и не прямоугольник\n",
      "вычеслений не будет\n",
      "Прямоугольник\n",
      "Площадь: 6 \n",
      "Периметр: 10\n",
      "Это круг\n",
      "Площадь: 58.09 \n",
      "Периметр: 27.02\n"
     ]
    }
   ],
   "source": [
    "from math import sqrt , pi\n",
    "class Shape:\n",
    "\n",
    "    def __init__(self,type):\n",
    "        self.type=type\n",
    "\n",
    "    def math(self,a=None,b=None,c=None,d=None):\n",
    "        if self.type == 'треугольник':\n",
    "            self.triangle(a,b,c)\n",
    "        elif self.type == 'прямоугольник':\n",
    "            self.quad(a,b,c,d)\n",
    "        elif self.type=='круг':\n",
    "            self.circle(a)\n",
    "\n",
    "    \n",
    "    def triangle (self,a,b,c):\n",
    "        if type(a)!=int or type(b)!=int or type(c)!=int:\n",
    "            if type(a)!=float and type(b)!=float and type(c)!=float:\n",
    "                raise ValueError('введите число')\n",
    "\n",
    "        elif a<=0 or b<=0 or c<=0:\n",
    "            raise ValueError('число не может быть отрицательным')\n",
    "        \n",
    "        all=[a,b,c]\n",
    "        sort_all=sorted(all)\n",
    "        \n",
    "        if a + b <= c or a + c <= b or b + c <= a:\n",
    "            print('не треугольник')\n",
    "            print('вычеслений не будет')\n",
    "        elif a != b and a != c and b != c:\n",
    "            print ('Треугольник разносторонний')\n",
    "            p=(a+b+c)/2\n",
    "            P=2*p\n",
    "            S = sqrt(p*(p - a)*(p - b)*(p - c))\n",
    "            print(f'Площадь: {S:.2f}\\nПериметр: {P:.2f}')\n",
    "        elif a==b==c:\n",
    "            print('Тругольник равносторонний')\n",
    "            S = sqrt(3/(4*(a**2)))\n",
    "            P=a*3\n",
    "            print(f'Площадь: {S:.2f}\\nПериметр: {P:.2f}')\n",
    "        elif a==b or a==c or b==c:\n",
    "            print('Треугольник равнобедренный')\n",
    "            p=(a+b+c)/2\n",
    "            P=2*p\n",
    "            S = sqrt(p*(p - a)*(p - b)*(p - c))\n",
    "            print(f'Площадь: {S:.2f}\\nПериметр: {P:.2f}')\n",
    "        elif (sort_all[2])**2 == (sort_all[1])**2 + (sort_all[0])**2:\n",
    "            print('Треугольник прямоугольный')\n",
    "            S = (sort_all[0]*sort_all[1])/2  \n",
    "            P=sum(all)\n",
    "            print(f'Площадь: {S:.2f}\\nПериметр: {P:.2f}')\n",
    "\n",
    "    \n",
    "    def quad(self,a,b,c,d):\n",
    "        if type(a)!=int and type(b)!=int and type(c)!=int and type(d)!=int: \n",
    "            if type(a)!=float and type(b)!=float and type(c)!=float and type(d)!=float:\n",
    "                raise ValueError('введите число')\n",
    "\n",
    "        elif a<=0 or b<=0 or c<=0 or d<=0:\n",
    "            raise ValueError('число не может быть отрицательным')\n",
    "        all=[a,b,c,d]\n",
    "        sort_all=sorted(all)\n",
    "        if a*4==a+b+c+d:\n",
    "            print('Это квадрат, а не прямоугольник')\n",
    "            print(f'Площадь: {a*2} \\nПериметр: {a*4}')\n",
    "        elif sort_all[0]==sort_all[1] and sort_all[2]==sort_all[3]:\n",
    "            print('Прямоугольник')\n",
    "            print(f'Площадь: {sort_all[0]*sort_all[3]} \\nПериметр: {sum(all)}')\n",
    "\n",
    "        else:\n",
    "            print('не квадрат и не прямоугольник')\n",
    "            print('вычеслений не будет')\n",
    "    \n",
    "    def circle(self,radius):\n",
    "        if type(radius)!=int:\n",
    "            if type(radius)!=float:\n",
    "                raise ValueError('введите число')\n",
    "\n",
    "        elif radius<=0:\n",
    "            raise ValueError('число не может быть отрицательным')\n",
    "        print('Это круг')\n",
    "        S = pi * (radius**2)\n",
    "        P = 2 * pi * radius\n",
    "        print(f'Площадь: {S:.2f} \\nПериметр: {P:.2f}')\n",
    "            \n",
    "            \n",
    "\n",
    "tr=Shape('треугольник')\n",
    "tr.math(2,2,1.3)\n",
    "tr=Shape('прямоугольник')\n",
    "tr.math(2,2,2.4,2)\n",
    "tr=Shape('прямоугольник')\n",
    "tr.math(2,3,3,2)\n",
    "tr=Shape('круг')\n",
    "tr.math(4.3)"
   ]
  },
  {
   "cell_type": "markdown",
   "id": "12cd08d9-da60-4708-9eab-1db5389386fe",
   "metadata": {},
   "source": [
    "Создайте класс Triangle, который представляет треугольник. У него должны быть атрибуты длины сторон. Добавьте методы для вычисления перимера треугольника и методы вычисления типа треугольника ( равностороннйи, павнобедренный, прямоуголный или разносторонний). Изменить ранее написнаны классы геометрических фигур так чтобы они были наслдниками класса Shape"
   ]
  },
  {
   "cell_type": "code",
   "execution_count": 19,
   "id": "82952714-a7d9-495e-8b31-6d8e18aaba30",
   "metadata": {},
   "outputs": [
    {
     "name": "stdout",
     "output_type": "stream",
     "text": [
      "Треугольник равнобедренный\n",
      "Площадь: 5.56\n",
      "Периметр: 11.00\n"
     ]
    }
   ],
   "source": [
    "class Triangle(Shape):\n",
    "    def __init__(self):\n",
    "        self.type='треугольник'\n",
    "\n",
    "f=Triangle()\n",
    "f.math(3,4,4)"
   ]
  },
  {
   "cell_type": "markdown",
   "id": "bbba2ccd-b670-49cf-afab-54e885cfc273",
   "metadata": {},
   "source": [
    "Создайьте класс для учета студентов в учебном заведении. Реализуйте методы добавления нового студента(указав имя, возраст, ...), отчисление студента из учебного завдения и вывод списка всех студентов."
   ]
  },
  {
   "cell_type": "code",
   "execution_count": 6,
   "id": "da1558f0-cfce-4b86-af1c-1983af4b84a6",
   "metadata": {},
   "outputs": [
    {
     "name": "stdout",
     "output_type": "stream",
     "text": [
      "Оценки Alexeev: [2, 4]\n",
      "Ivan Alexeev 24 Students.St 43/2\n",
      "Vasilisa Raketova 28 Storozhevaya.St 43/2\n"
     ]
    }
   ],
   "source": [
    "class School:\n",
    "    all_students={}\n",
    "    students_scores={}\n",
    "    score=[]\n",
    "    @classmethod\n",
    "    def add_students(cls,name,surname,age,adress):\n",
    "        info=[name,surname,age,adress]\n",
    "        #information={surname : info}\n",
    "        cls.all_students.update({surname : info})\n",
    "        \n",
    "    @classmethod\n",
    "    def del_students(cls,surname):\n",
    "        if surname not in cls.all_students:\n",
    "            raise ValueError ('такого студента нет')\n",
    "        else:\n",
    "            del cls.all_students[surname]\n",
    "    @classmethod\n",
    "    def info(cls):\n",
    "        for a in cls.all_students.values():\n",
    "            print(*a)\n",
    "\n",
    "    @classmethod\n",
    "    def studets_score(cls,surname,new_score):\n",
    "        #score=[]\n",
    "        cls.score.append(new_score)\n",
    "        cls.students_scores.update({surname:cls.score})\n",
    "\n",
    "    @classmethod\n",
    "    def info_score(cls,surname):\n",
    "        print(f'Оценки {surname}: {cls.students_scores[surname]}')\n",
    "        \n",
    "\n",
    "\n",
    "\n",
    "\n",
    "School.add_students('Ivan','Alexeev',24, 'Students.St 43/2')\n",
    "School.add_students('Egor','Ivanov',20, 'Students.St 45/2')\n",
    "School.add_students('Vasilisa','Raketova',28, 'Storozhevaya.St 43/2')\n",
    "School.del_students('Ivanov')\n",
    "School.studets_score('Alexeev',2)\n",
    "School.studets_score('Alexeev',4)\n",
    "School.info_score('Alexeev')\n",
    "School.info()"
   ]
  },
  {
   "cell_type": "markdown",
   "id": "4bf8fa81-cd55-4d60-9e23-0a000162441f",
   "metadata": {},
   "source": [
    "Измените класс учебного заведния чтобы они внутри себя для хранния информации о студентах использовал класс Student."
   ]
  },
  {
   "cell_type": "code",
   "execution_count": 15,
   "id": "016e0640-0ed0-4aa3-9952-54d02c0fb1e5",
   "metadata": {},
   "outputs": [
    {
     "name": "stdout",
     "output_type": "stream",
     "text": [
      "Оценки Alexeev: [2, 4]\n",
      "Ivan Alexeev 24 Students.St 43/2\n",
      "Igor Tarasov 21 Students.St 47/2\n",
      "Vasilisa Raketova 28 Storozhevaya.St 43/2\n"
     ]
    }
   ],
   "source": [
    "class Student(School):\n",
    "    all_students={}\n",
    "    students_scores={}\n",
    "    score=[]\n",
    "    def __init__(self,name,surname,age,adress):\n",
    "        self.name=name\n",
    "        self.surname=surname\n",
    "        self.age=age\n",
    "        self.adress=adress\n",
    "        self.scores=[] \n",
    "\n",
    "    def new_score(self,score):\n",
    "        self.scores.append(score)\n",
    "\n",
    "    def result(self):\n",
    "        total=sum(self.scores)/(len(self.scores))\n",
    "        print(f'Средний балл: {total}')\n",
    "        print(f'Все оценки: {self.scores}')\n",
    "               \n",
    "        \n",
    "         \n",
    "\n",
    "\n",
    "Student.add_students('Ivan','Alexeev',24, 'Students.St 43/2')\n",
    "Student.add_students('Egor','Ivanov',20, 'Students.St 45/2')\n",
    "Student.add_students('Igor','Tarasov',21, 'Students.St 47/2')\n",
    "Student.add_students('Vasilisa','Raketova',28, 'Storozhevaya.St 43/2')\n",
    "Student.del_students('Ivanov')\n",
    "Student.studets_score('Alexeev',2)\n",
    "Student.studets_score('Alexeev',4)\n",
    "Student.info_score('Alexeev')\n",
    "Student.info()"
   ]
  },
  {
   "cell_type": "markdown",
   "id": "1da30541-5c3e-4324-ae8d-4a5a80648549",
   "metadata": {},
   "source": [
    "Создайте класс Polygon, который представляет многоугольник. У него должен быть атрибут для хранения списка вершин. Добавьте методы для вычисления площади и периметра многоугольника"
   ]
  },
  {
   "cell_type": "code",
   "execution_count": 3,
   "id": "4f6289ae-51cc-495c-8508-71cd08959b9e",
   "metadata": {},
   "outputs": [
    {
     "name": "stdout",
     "output_type": "stream",
     "text": [
      "Периметр 77.2\n"
     ]
    }
   ],
   "source": [
    "from math import sqrt as s\n",
    "class Polygon:\n",
    "\n",
    "    def __init__(self):\n",
    "        self.vert=[]\n",
    "\n",
    "    def perimeter(self,*args):\n",
    "        perimeter=0\n",
    "        for i in args:\n",
    "           self.vert.append(i)\n",
    "        \n",
    "        for point in range(len(self.vert)-1):\n",
    "\n",
    "            x1y1=list(self.vert[point])\n",
    "            x2y2=list(self.vert[point+1])\n",
    "            x1=int(x1y1[0])\n",
    "            y1=int(x1y1[1])\n",
    "            x2=int(x2y2[0])\n",
    "            y2=int(x2y2[1])\n",
    "            way=s(((x2-x1) ** 2) + ((y2-y1) ** 2))\n",
    "       \n",
    "            perimeter+=way\n",
    "        print(f'Периметр {perimeter:.1f}')\n",
    "\n",
    "#вернусь позже и решу нормально когда догоню дз , сейчас какой-то треш , но периметр ищет))\n",
    "\n",
    "\n",
    "\n",
    "\n",
    "first=Polygon()\n",
    "first.perimeter((1,2),(4,6),(7,8),(8,9),(10,1),(30,7),(-5,-8))"
   ]
  },
  {
   "cell_type": "markdown",
   "id": "f300cf4e-d450-45be-929a-3cc946bfba2f",
   "metadata": {},
   "source": [
    "Созлдайте класс для работы с матрицами. Который будет представлять матрицы и поддреживать основные операции сложение, вычитание умножение транспонирование. Затем добавьте методы для вычисления определителя матрицы и вычисления обраной матрицы."
   ]
  },
  {
   "cell_type": "code",
   "execution_count": 81,
   "id": "12f43047-1eb6-4834-9e7c-9c32fee30067",
   "metadata": {},
   "outputs": [
    {
     "name": "stdout",
     "output_type": "stream",
     "text": [
      "сложение: [[10, 10, 10], [10, 10, 10], [10, 10, 10]]\n",
      "вычитание: [[-8, -6, -4], [-2, 0, 2], [4, 6, 8]]\n",
      "умножение: [[9, 16, 21], [24, 25, 24], [21, 16, 9]]\n",
      "Умножение на число: [[15, 18, 21], [21, 24, 27], [18, 9, 3]]\n",
      "транспонирование: [[5, 7, 6], [6, 8, 3], [7, 9, 1]]\n"
     ]
    }
   ],
   "source": [
    "#класс без numpy, без обратной матрицы \n",
    "matrix1 = [[1, 2, 3], [4, 5, 6],[7, 8, 9]] \n",
    "matrix2 = [[10, 8, 7], [6, 5, 4], [3, 2, 2]] \n",
    "\n",
    "class Matrix:\n",
    "    def __init__(self,matrix_1,matrix_2=None):\n",
    "        self.matrix_1=matrix_1\n",
    "        self.matrix_2=matrix_2\n",
    "\n",
    "    #сложение матриц\n",
    "    def summa(self):\n",
    "        if len(self.matrix_1)!=len(self.matrix_2):\n",
    "            raise ValueError('матрицы разной длины')\n",
    "        result = [[0, 0, 0], [0, 0, 0], [0, 0, 0]]\n",
    "        for a in range(len(self.matrix_1)):\n",
    "            for b in range(len(self.matrix_2[0])):\n",
    "               result[a][b] = self.matrix_1[a][b] + self.matrix_2[a][b]\n",
    "        print(f'сложение: {result}')\n",
    "\n",
    "\n",
    "    def subtract(self):\n",
    "        if len(self.matrix_1)!=len(self.matrix_2):\n",
    "            raise ValueError('матрицы разной длины')\n",
    "        result = [[0, 0, 0], [0, 0, 0], [0, 0, 0]]\n",
    "        for a in range(len(self.matrix_1)):\n",
    "            for b in range(len(self.matrix_1[0])):\n",
    "                result[a][b] = self.matrix_1[a][b] - self.matrix_2[a][b]\n",
    "        print(f'вычитание: {result}')\n",
    "\n",
    "    def transport(self):\n",
    "        result = [[0, 0, 0], [0, 0, 0], [0, 0, 0]]\n",
    "        for a in range(len(self.matrix_1)):\n",
    "            for b in range(len(self.matrix_1[0])):\n",
    "                result[a][b] = self.matrix_1[b][a]\n",
    "        print(f'транспонирование: {result}')\n",
    "\n",
    "    def multi_matrix(self):\n",
    "        if len(self.matrix_1)!=len(self.matrix_2):\n",
    "            raise ValueError('матрицы разной длины')\n",
    "        result = [[0, 0, 0], [0, 0, 0], [0, 0, 0]]\n",
    "        for a in range(len(self.matrix_1)):\n",
    "            for b in range(len(self.matrix_1[0])):\n",
    "                result[a][b] = self.matrix_1[a][b] * self.matrix_2[a][b]\n",
    "        print(f'умножение: {result}')\n",
    "\n",
    "    def multi_on_int(self,integer):\n",
    "        if type(integer)!= int:\n",
    "            raise ValueError ('введите число ,а не то что вы там ввели')\n",
    "        for a in range(len(self.matrix_1)):\n",
    "            for b in range(len(self.matrix_1[0])):\n",
    "                result[a][b] = self.matrix_1[a][b] * integer\n",
    "        print(f'Умножение на число: {result}')\n",
    "\n",
    "matrix_first = Matrix([[1, 2, 3], [4, 5, 6], [7, 8, 9]],[[9, 8, 7], [6, 5, 4],[3,2,1]]) \n",
    "matrix_second = Matrix([[5,6,7],[7,8,9],[6,3,1]])\n",
    "matrix_first.summa()\n",
    "matrix_first.subtract()\n",
    "matrix_first.multi_matrix()\n",
    "matrix_second.multi_on_int(3)\n",
    "matrix_second.transport()"
   ]
  },
  {
   "cell_type": "code",
   "execution_count": null,
   "id": "010ecaf8-7d85-43a3-8c46-56bcd33f9d95",
   "metadata": {},
   "outputs": [],
   "source": [
    "import numpy as np \n",
    "\n",
    "class Matrix:\n",
    "\n",
    "    def __init__(self,matrix_1,matrix_2=None):\n",
    "        self.matrix_1=np.array(matrix_1)\n",
    "        self.matrix_2=np.array(matrix_2)\n",
    "        \n",
    "\n",
    "    #сложение матриц\n",
    "    def summa(self):\n",
    "       if len(self.matrix_1)!=len(self.matrix_2):\n",
    "            raise ValueError('матрицы разной длины')\n",
    "       result = np.add(self.matrix_1, self.matrix_2)\n",
    "       print(f'Сумма: {result}')\n",
    "\n",
    "    # вычитание матриц \n",
    "    def subtract(self):\n",
    "        if len(self.matrix_1)!=len(self.matrix_2):\n",
    "            raise ValueError('матрицы разной длины')\n",
    "        result = np.subtract(self.matrix_1, self.matrix_2) \n",
    "        print(f'Вычитание: {result}')\n",
    "\n",
    "    # умножение матрицы на число \n",
    "    def multi_on_int(self,integer):\n",
    "        if type(integer)!= int:\n",
    "            raise ValueError ('введите число ,а не то что вы там ввели')\n",
    "       \n",
    "        result = self.matrix_1 * integer\n",
    "        print(f'Умножение на число: {result}')\n",
    "    # умножение двух матриц \n",
    "    def multi_matrix(self):\n",
    "       if len(self.matrix_1)!=len(self.matrix_2):\n",
    "            raise ValueError('матрицы разной длины')\n",
    "       result = self.matrix_1 @ self.matrix_2\n",
    "       print(f'Умножение двух матриц: {result}')\n",
    "\n",
    "    #транспонирование\n",
    "    def transport(self):\n",
    "        result = self.matrix_1.T\n",
    "        print(f'Транспонированная матрица: {result}')\n",
    "\n",
    "    #вычеселние определителя матрицы \n",
    "    def reverse_info(self):\n",
    "        determinant = np.linalg.det(self.matrix_1)\n",
    "        if determinant == 0:\n",
    "            print(\"У этой матрицы нет обратной\")\n",
    "        else:\n",
    "            print(f'у этой матрицы есть обратная. \\nОпределитель матрицы: {determinant:.1f}')\n",
    "\n",
    "    #вычисление обратной матрицы \n",
    "    def reverse(self):\n",
    "        result = np.linalg.inv(self.matrix_1) \n",
    "        print(f'Обратная матрица: {result}')\n",
    "\n",
    "\n",
    "\n",
    "\n",
    "matrix_first = Matrix([[1, 2, 3], [4, 5, 6], [7, 8, 9]],[[9, 8, 7], [6, 5, 4],[3,2,1]]) \n",
    "matrix_second = Matrix([[5,6,7],[7,8,9],[6,3,1]])\n",
    "matrix_first.summa()\n",
    "matrix_first.subtract()\n",
    "matrix_first.multi_matrix()\n",
    "matrix_second.reverse_info()\n",
    "matrix_second.reverse()\n",
    "matrix_second.multi_on_int(3)\n",
    "matrix_second.transport()"
   ]
  },
  {
   "cell_type": "markdown",
   "id": "135ca15a-1873-42fa-8ecd-38551a3aa348",
   "metadata": {},
   "source": [
    "Разарботайте классы Warehouse Product Order для управления складскими запасами. Реализуйте функцонал по добавлению и списанию остатков, учету остатокво на складе и формированию заказа."
   ]
  },
  {
   "cell_type": "code",
   "execution_count": 286,
   "id": "67cdcda3-ea24-4ef6-af77-5453db6b1462",
   "metadata": {},
   "outputs": [],
   "source": [
    "#слишком много if else......\n",
    "#это надо допилить когда всех догоню \n",
    "class Warehouse: #общий класс с работой с продукатми на складе \n",
    "    ware_house={}\n",
    "    basket={}\n",
    "#PRODUCT +    \n",
    "    @classmethod #добавляет продукт на склад\n",
    "    def add_product(cls,product,count):\n",
    "        cls.ware_house.update({product : count})\n",
    "#PRODUCT  +      \n",
    "    @classmethod\n",
    "    def warehouse_info(cls): #показывает обстановку на складе\n",
    "        if len(cls.ware_house)==0:\n",
    "            print('склад пуст')\n",
    "        else:\n",
    "            for product , count in cls.ware_house.items():\n",
    "                print(f'Продукт: {product} | Количество: {count}')\n",
    "#PRODUCT + \n",
    "    @classmethod #убирает продукт со склада\n",
    "    def delete_product(cls,product):\n",
    "        if product in cls.ware_house:\n",
    "            del cls.ware_house[product]\n",
    "        else:\n",
    "            raise ValueError('такого продукта нет на складе')\n",
    "#PRODUCT +\n",
    "    @classmethod # меняет количество товаров на складе\n",
    "    def counter(cls,product,count):\n",
    "        if cls.ware_house[product]+count<=0:\n",
    "            cls.ware_house[product]=0\n",
    "        elif product in cls.ware_house:\n",
    "            new_count=(cls.ware_house[product] + count)\n",
    "            cls.ware_house[product]=new_count\n",
    "        else:\n",
    "            raise ValueError('такого продукта нет на складе')\n",
    "#ORDER +\n",
    "    @classmethod # составляет заказ и кладет продукты в корзину (убирая купленное со склада)\n",
    "    def order_product(cls,product,count):\n",
    "        if count<=0:\n",
    "            raise ValueError('количество продуктов должно быть больше нуля')\n",
    "        elif product in cls.ware_house:\n",
    "            new_count=(cls.ware_house[product] - count)\n",
    "            cls.ware_house[product]=new_count\n",
    "            cls.basket[product]=count   \n",
    "        else:\n",
    "            raise ValueError('такого продукта нет на складе')\n",
    "#ORDER + \n",
    "    @classmethod # просто красиво показывает корзину\n",
    "    def basket_info(cls):\n",
    "        if len(cls.basket)==0:\n",
    "            print('корзина пуста')\n",
    "        else:\n",
    "           for a , b in cls.basket.items():\n",
    "               print(f'В корзине: {a} {b} шт')\n",
    "        \n",
    "#ORDER +\n",
    "    @classmethod #очистка корзины\n",
    "    def clear_basket(cls,product=None,count=None):    \n",
    "            if product!=None and count!=None and product in cls.basket:\n",
    "               if count>0 and cls.basket[product] - count>=0:\n",
    "                   new_count=(cls.basket[product] - count)\n",
    "                   cls.basket[product]=new_count\n",
    "               else:\n",
    "                   raise ValueError('проверьте количество товара или наличие товара в корзине')\n",
    "            elif product!=None and product in cls.basket:\n",
    "                del cls.basket [product]\n",
    "            elif product==None and count==None:\n",
    "                cls.basket.clear()  \n",
    "            else:\n",
    "                raise ValueError('проверьте количество товара или наличие товара в корзине')\n",
    "#ДИЧЬ \n",
    "    @classmethod\n",
    "    def herosima(cls): #уничтожение всех данных \n",
    "        cls.basket.clear()\n",
    "        cls.ware_house.clear()\n",
    "\n",
    "class Product:\n",
    "    def add_product(self,product,count):\n",
    "        Warehouse.add_product(product,count)\n",
    "    def info(self):\n",
    "        Warehouse.warehouse_info()\n",
    "    def delete(self,product):\n",
    "        Warehouse.delete_product(product)\n",
    "    def changer(self,product,count):\n",
    "        Warehouse.counter(product,count)\n",
    "\n",
    "class Order: #работа с заказами \n",
    "    def order_info(self): # показывает что в корзине \n",
    "        Warehouse.basket_info()\n",
    "    def add_product(self,product,count): #добавление продукта в корзину\n",
    "        Warehouse.order_product(product,count)\n",
    "    def remove_product(self,product=None,count=None): #управление продуктами в корзине\n",
    "        Warehouse.clear_basket(product,count)"
   ]
  }
 ],
 "metadata": {
  "kernelspec": {
   "display_name": "Python 3 (ipykernel)",
   "language": "python",
   "name": "python3"
  },
  "language_info": {
   "codemirror_mode": {
    "name": "ipython",
    "version": 3
   },
   "file_extension": ".py",
   "mimetype": "text/x-python",
   "name": "python",
   "nbconvert_exporter": "python",
   "pygments_lexer": "ipython3",
   "version": "3.10.10"
  }
 },
 "nbformat": 4,
 "nbformat_minor": 5
}
