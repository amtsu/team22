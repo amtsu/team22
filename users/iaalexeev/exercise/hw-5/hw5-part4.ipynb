{
 "cells": [
  {
   "cell_type": "markdown",
   "id": "ebe9816d-41ea-4e68-9582-0d2b104056e1",
   "metadata": {},
   "source": [
    "Циклы \n",
    "\n",
    "Напишите цикл for, который выводит все элементы множества set1.\n",
    "Напишите цикл while, который выводит квадраты чисел от 1 до 5.\n",
    "Напишите цикл for, который перебирает все ключи словаря fruits_quantity и выводит каждый товар.\n",
    "Выведите сообщение \"%название фрукта% - дорогой товар\" для фруктов из fruit_prices, цена которых превышает 1.5, подставив вместо %название фрукта% название соответствующих \"дорогих\" фруктов\n",
    "Посчитайте стоимость всех фруктов, имеющихся в наличии\n",
    "Используя цикл for, выведите всех студентов и их возраст из словаря students."
   ]
  },
  {
   "cell_type": "code",
   "execution_count": 3,
   "id": "32c9dc27-4cf3-468c-a797-c2954b60292d",
   "metadata": {},
   "outputs": [
    {
     "name": "stdout",
     "output_type": "stream",
     "text": [
      "{1, 2, 3, 4, 5, 7, 8, 9, 10}\n"
     ]
    }
   ],
   "source": [
    "set_1={1,2,3,4,5,7,8,9,10}\n",
    "set_2=set()\n",
    "for i in set_1:\n",
    "    set_2.add(i)\n",
    "print(set_2)\n",
    "    "
   ]
  },
  {
   "cell_type": "code",
   "execution_count": 7,
   "id": "2a023c1e-1479-4bb2-b7be-cf9b6052bfbd",
   "metadata": {},
   "outputs": [
    {
     "name": "stdout",
     "output_type": "stream",
     "text": [
      "1\n",
      "4\n",
      "9\n",
      "16\n",
      "25\n"
     ]
    }
   ],
   "source": [
    "a=1\n",
    "while a<6:\n",
    "    print(a**2)\n",
    "    a +=1"
   ]
  },
  {
   "cell_type": "code",
   "execution_count": 10,
   "id": "0c1dd3c7-26c6-4ea7-aafc-55147238591b",
   "metadata": {},
   "outputs": [
    {
     "name": "stdout",
     "output_type": "stream",
     "text": [
      "яблоко\n",
      "банан\n",
      "апельсин\n"
     ]
    }
   ],
   "source": [
    "fruits_quantity={\"яблоко\": 5, \"банан\": 10, \"апельсин\": 7}\n",
    "for key in fruits_quantity.keys():\n",
    "    print(key)"
   ]
  },
  {
   "cell_type": "code",
   "execution_count": 17,
   "id": "195505c0-bcc4-449d-9d82-27067dbdf337",
   "metadata": {},
   "outputs": [
    {
     "name": "stdout",
     "output_type": "stream",
     "text": [
      " яблоко дорогой товар\n",
      " банан дорогой товар\n",
      " апельсин дорогой товар\n",
      "24.2\n"
     ]
    }
   ],
   "source": [
    "fruits_prices={\"яблоко\": 5, \"банан\": 10, \"апельсин\": 7, \"груша\":1, \"морковь\":1.2}\n",
    "total=0\n",
    "for name , price in fruits_prices.items():\n",
    "    total+=price\n",
    "    if price > 1.5:\n",
    "        print(f' {name} дорогой товар')\n",
    "print(total)"
   ]
  },
  {
   "cell_type": "code",
   "execution_count": 18,
   "id": "4206d2c7-b1c0-4fac-971e-c7d10d15d2b0",
   "metadata": {},
   "outputs": [
    {
     "name": "stdout",
     "output_type": "stream",
     "text": [
      " фамилия: Иванов возраст 22\n",
      " фамилия: Петрова возраст 13\n",
      " фамилия: Сидоров возраст 23\n"
     ]
    }
   ],
   "source": [
    "students={\"Иванов\": 22, \"Петрова\": 13, \"Сидоров\": 23}\n",
    "for name , age in students.items():\n",
    "    print(f' фамилия: {name} возраст {age}')"
   ]
  },
  {
   "cell_type": "code",
   "execution_count": null,
   "id": "c0a0dc40-1b99-41cc-90a3-3396cd35540b",
   "metadata": {},
   "outputs": [],
   "source": []
  }
 ],
 "metadata": {
  "kernelspec": {
   "display_name": "Python 3 (ipykernel)",
   "language": "python",
   "name": "python3"
  },
  "language_info": {
   "codemirror_mode": {
    "name": "ipython",
    "version": 3
   },
   "file_extension": ".py",
   "mimetype": "text/x-python",
   "name": "python",
   "nbconvert_exporter": "python",
   "pygments_lexer": "ipython3",
   "version": "3.10.10"
  }
 },
 "nbformat": 4,
 "nbformat_minor": 5
}
