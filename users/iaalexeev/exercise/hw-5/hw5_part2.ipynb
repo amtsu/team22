{
 "cells": [
  {
   "cell_type": "markdown",
   "id": "3f982a48-d160-4f6b-8c7a-27293fd0db57",
   "metadata": {},
   "source": [
    "Словари\n",
    "Создайте словарь person с ключами \"name\", \"age\" и \"city\" с вашими данными.\n",
    "Добавьте в словарь person новый ключ \"email\" со значением вашего электронного адреса.\n",
    "Удалите ключ \"city\" из словаря.\n",
    "Создайте словарь fruits_quantity с товарами \"яблоко\": 5, \"банан\": 10, \"апельсин\": 7.\n",
    "Увеличьте количество \"бананов\" в инвентаре на 3.\n",
    "Создайте новый словарь fruits_prices, где цена для каждого продукта задана {\"яблоко\": 1.5, \"банан\": 2, \"апельсин\": 1.2}.\n",
    "Посчитайте стоимость всех фруктов, имеющихся в наличии\n",
    "Удалите \"Томат\" из словаря fruits_prices.\n",
    "Создайте словарь students с данными о студентах {\"Иванов\": 22, \"Петрова\": 13, \"Сидоров\": 23}.\n",
    "Добавьте нового студента \"Смирнова\" возрастом 20 лет в словарь.\n",
    "Удалите студента \"Петрова\" из словаря."
   ]
  },
  {
   "cell_type": "code",
   "execution_count": 38,
   "id": "2cd9116c-d46e-4d2a-82bc-f42bd3075e8d",
   "metadata": {},
   "outputs": [
    {
     "name": "stdout",
     "output_type": "stream",
     "text": [
      "стоимость всех фруктов 4.7\n"
     ]
    }
   ],
   "source": [
    "person={'name' : 'Ivan' , 'age' : 23 , 'city' : 'Moscow'}\n",
    "person['email']='a.ioannis131@gmail.com'\n",
    "del person['city']\n",
    "fruits_quantity={'яблоко': 5, 'банан': 10, 'апельсин': 7}\n",
    "fruits_quantity['банан']=13\n",
    "fruits_prices={'яблоко': 1.5, 'банан': 2, 'апельсин': 1.2}\n",
    "total=0\n",
    "for price in fruits_prices.values():\n",
    "    total+=price\n",
    "print(f'стоимость всех фруктов {total}')\n",
    "fruits_prices.pop('Томат' , 'томата нет') # удаляет элемент, если элемента нет возвращает значение по умолчанию \n",
    "students={'Иванов': 22, 'Петрова': 13, 'Сидоров': 23}\n",
    "students['Смирнов']= 20\n",
    "del students['Петрова']"
   ]
  }
 ],
 "metadata": {
  "kernelspec": {
   "display_name": "Python 3 (ipykernel)",
   "language": "python",
   "name": "python3"
  },
  "language_info": {
   "codemirror_mode": {
    "name": "ipython",
    "version": 3
   },
   "file_extension": ".py",
   "mimetype": "text/x-python",
   "name": "python",
   "nbconvert_exporter": "python",
   "pygments_lexer": "ipython3",
   "version": "3.10.10"
  }
 },
 "nbformat": 4,
 "nbformat_minor": 5
}
