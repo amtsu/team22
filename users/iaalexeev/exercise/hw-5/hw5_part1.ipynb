{
 "cells": [
  {
   "cell_type": "markdown",
   "id": "2f76fd12-537d-4041-a5c0-a058d66d4f7a",
   "metadata": {},
   "source": [
    "Множества "
   ]
  },
  {
   "cell_type": "code",
   "execution_count": 11,
   "id": "93ab1274-60f9-44a5-8f92-0c2c7cb246ed",
   "metadata": {},
   "outputs": [
    {
     "name": "stdout",
     "output_type": "stream",
     "text": [
      "True\n",
      "{4, 5, 6}\n",
      "{1, 3}\n",
      "{'оранжевый', 'зеленый', 'синий', 'голубой'}\n",
      "{'фиолетовый', 'Мальвиновый', 'зеленый', 'синий', 'голубой', 'красный', 'оранжевый', 'желтый'}\n"
     ]
    }
   ],
   "source": [
    "set_1={1,2,3,4,5} \n",
    "set_1.add(6) \n",
    "set_1.remove(2) \n",
    "print(3 in set_1) \n",
    "set_2={4,5,6,7,8} \n",
    "print(set_1 & set_2) \n",
    "print(set_1 - set_2) \n",
    "set_3={\"красный\", \"оранжевый\", \"желтый\", \"зеленый\", \"голубой\", \"синий\", \"фиолетовый\"}\n",
    "set_4={\"оранжевый\", \"зеленый\", \"голубой\", \"синий\", \"Мальвиновый\"} \n",
    "print(set_3 & set_4) \n",
    "rainbow_colors=set_3.union(set_4)\n",
    "print(rainbow_colors)\n",
    "\n",
    "\n"
   ]
  }
 ],
 "metadata": {
  "kernelspec": {
   "display_name": "Python 3 (ipykernel)",
   "language": "python",
   "name": "python3"
  },
  "language_info": {
   "codemirror_mode": {
    "name": "ipython",
    "version": 3
   },
   "file_extension": ".py",
   "mimetype": "text/x-python",
   "name": "python",
   "nbconvert_exporter": "python",
   "pygments_lexer": "ipython3",
   "version": "3.10.10"
  }
 },
 "nbformat": 4,
 "nbformat_minor": 5
}
