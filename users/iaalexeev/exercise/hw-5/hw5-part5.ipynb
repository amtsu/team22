{
 "cells": [
  {
   "cell_type": "markdown",
   "id": "fb61a57c-5d3d-4151-b47d-4c1482424911",
   "metadata": {},
   "source": [
    "Множества\n",
    "\n",
    "Создайте функции set_union и set_difference для операций объединения и разности множеств.\n",
    "   - Функции должны принимать два множества и возвращать соответствующий результат.\n",
    "Создайте функцию is_subset для проверки, является ли одно множество подмножеством другого.\n",
    "Создайте функцию для объединения нескольких множеств.\n",
    "Создайте функцию для удаления конкретного элемента из множества.\n",
    "Создайте функцию для поиска пересечения нескольких множеств.\n",
    "Создайте функцию для проверки на равенство двух множеств.\n",
    "Создайте функцию для нахождения объединения трех множеств.\n",
    "Создайте функцию для проверки, являются ли два множества дизъюнктными (не имеют общих элементов).\n",
    "Создайте функцию для нахождения разности двух множеств.\n",
    "Создайте функцию для определения симметрической разности двух множеств.\n",
    "Создайте функцию create_set для создания множества с заданными элементами.\n",
    "   - Функция должна принимать переменное количество аргументов и возвращать новое множество."
   ]
  },
  {
   "cell_type": "code",
   "execution_count": 9,
   "id": "d7bd4e7b-1f4d-4f46-a787-042dfec74f06",
   "metadata": {},
   "outputs": [
    {
     "name": "stdout",
     "output_type": "stream",
     "text": [
      "{1, 2, 3, 4, 5, 6, 7, 8, 9, 10, 12, 14, 16, 18, 20}\n"
     ]
    }
   ],
   "source": [
    "set_1={1,2,3,4,5,6,7,8,9,10}\n",
    "set_2={2,4,6,8,10,12,14,16,18,20}\n",
    "\n",
    "def set_union (set_1 , set_2):\n",
    "    union_result=set_1.union(set_2)\n",
    "    return union_result\n",
    "\n",
    "print (set_union (set_1,set_2))"
   ]
  },
  {
   "cell_type": "code",
   "execution_count": 13,
   "id": "5fc58f72-a9a6-49db-b1a0-a356d44748a0",
   "metadata": {},
   "outputs": [
    {
     "name": "stdout",
     "output_type": "stream",
     "text": [
      "{1, 3, 5, 7, 9}\n"
     ]
    }
   ],
   "source": [
    "set_3={1,2,3,4,5,6,7,8,9,10}\n",
    "set_4={2,4,6,8,10,12,14,16,18,20}\n",
    "def set_difference (set_3 , set_4):\n",
    "    difference_result=set_3.difference(set_4)\n",
    "    return difference_result\n",
    "\n",
    "print (set_difference (set_3,set_4))"
   ]
  },
  {
   "cell_type": "code",
   "execution_count": 23,
   "id": "1820b59e-06a7-4d1e-9d4b-bcfab2627619",
   "metadata": {},
   "outputs": [
    {
     "name": "stdout",
     "output_type": "stream",
     "text": [
      "True\n"
     ]
    }
   ],
   "source": [
    "set_1={1,2,3,4,5,6,7,8,9,10}\n",
    "set_2={2,4,6,8,10,12,14,16,18,20,1,3,5,7,9}\n",
    "def sets (set_1 , set_2):\n",
    "    for set_in_1 in set_1:\n",
    "        if set_in_1 not in set_2:\n",
    "            return False       \n",
    "        else:\n",
    "            return True \n",
    "\n",
    "print (sets (set_1 , set_2))\n",
    "\n",
    "\n",
    "\n"
   ]
  },
  {
   "cell_type": "code",
   "execution_count": 26,
   "id": "801bc19c-fc53-473a-a7a5-d15e382357ab",
   "metadata": {},
   "outputs": [
    {
     "name": "stdout",
     "output_type": "stream",
     "text": [
      "{1, 2, 3, 4, 5, 6, 7, 8, 9, 10, 11, 12, 13, 14, 15, 16, 17, 18, 19, 20}\n"
     ]
    }
   ],
   "source": [
    "set_1={1,2,3,4,5,6,7,8,9,10}\n",
    "set_2={2,4,6,8,10,12,14,16,18,20}\n",
    "set_3={11,13,15,17,19}\n",
    "set_4=set_1.union(set_3,set_4)\n",
    "print(set_4)"
   ]
  },
  {
   "cell_type": "code",
   "execution_count": 34,
   "id": "161dabda-965d-4156-af91-222d2385e8fe",
   "metadata": {},
   "outputs": [
    {
     "name": "stdout",
     "output_type": "stream",
     "text": [
      "{1, 2, 4, 5, 6, 7, 8, 9, 10}\n"
     ]
    }
   ],
   "source": [
    "set_1={1,2,3,4,5,6,7,8,9,10}\n",
    "def rem_set (set_1,item):\n",
    "    set_1.remove(item)\n",
    "    print(set_1)\n",
    "rem_set (set_1,3)"
   ]
  },
  {
   "cell_type": "code",
   "execution_count": 38,
   "id": "17e4db08-80c0-4647-816b-ad015867e49f",
   "metadata": {},
   "outputs": [
    {
     "name": "stdout",
     "output_type": "stream",
     "text": [
      "{8, 10}\n"
     ]
    }
   ],
   "source": [
    "set_1={1,2,3,4,5,6,7,8,9,10}\n",
    "set_2={2,4,6,8,10,12,14,16,18,20}\n",
    "set_3={8,9,10}\n",
    "\n",
    "def intersection_set (set_1,set_2,set_3):\n",
    "    new_set=set_1.intersection(set_2,set_3)\n",
    "    return new_set\n",
    "\n",
    "print(intersection_set(set_1,set_2,set_3))"
   ]
  },
  {
   "cell_type": "code",
   "execution_count": 42,
   "id": "b37bf628-5004-42c6-b5e3-5e2308a15ae9",
   "metadata": {},
   "outputs": [
    {
     "name": "stdout",
     "output_type": "stream",
     "text": [
      "множества равны\n",
      "множества не равны\n"
     ]
    }
   ],
   "source": [
    "set_1={1,2,3,4,5,6,7,8,9,10}\n",
    "set_2={1,2,3,4,5,6,7,8,9,10}\n",
    "set_3={2,4,6,8,10,12,14,16,18,20}\n",
    "def equal (set_eq_1,set_eq_2):\n",
    "    if set_eq_1 == set_eq_2:\n",
    "        print ('множества равны')\n",
    "    else:\n",
    "        print ('множества не равны')\n",
    "\n",
    "equal (set_1,set_2)\n",
    "equal (set_1,set_3)\n"
   ]
  },
  {
   "cell_type": "code",
   "execution_count": 43,
   "id": "bf89fc47-0ed5-4f1e-8209-2688460f2e8c",
   "metadata": {},
   "outputs": [
    {
     "name": "stdout",
     "output_type": "stream",
     "text": [
      "{8, 10}\n"
     ]
    }
   ],
   "source": [
    "set_1={1,2,3,4,5,6,7,8,9,10}\n",
    "set_2={2,4,6,8,10,12,14,16,18,20}\n",
    "set_3={8,9,10}\n",
    "\n",
    "def intersection_set (set_1,set_2,set_3):\n",
    "    new_set=set_1.intersection(set_2,set_3)\n",
    "    return new_set\n",
    "\n",
    "print(intersection_set(set_1,set_2,set_3))"
   ]
  },
  {
   "cell_type": "code",
   "execution_count": 49,
   "id": "411b5ed6-6d7b-4d9f-a653-b664e7931bbc",
   "metadata": {},
   "outputs": [
    {
     "name": "stdout",
     "output_type": "stream",
     "text": [
      "True\n"
     ]
    }
   ],
   "source": [
    "set_1={1,2,3,4,5,6,7,8,9,10}\n",
    "set_3={2,4,6,8,10,12,14,16,18,20}\n",
    "set_2={21,22,23,24,25,26,27,28,29,30}\n",
    "def joint (set_1,set_2):\n",
    "    result=set_1.isdisjoint(set_2)\n",
    "    return result\n",
    "\n",
    "print (joint (set_1,set_2))"
   ]
  },
  {
   "cell_type": "code",
   "execution_count": 64,
   "id": "3af0dbfe-bfed-4b86-a2fc-7e6c345681b2",
   "metadata": {},
   "outputs": [
    {
     "name": "stdout",
     "output_type": "stream",
     "text": [
      "{1, 3, 5, 7, 9, 12, 14, 16, 18, 20}\n"
     ]
    }
   ],
   "source": [
    "set_1={1,2,3,4,5,6,7,8,9,10}\n",
    "set_2={2,4,6,8,10,12,14,16,18,20}\n",
    "def diff (set_1,set_2):\n",
    "    result_1=set_2-set_1\n",
    "    result_2=set_1-set_2\n",
    "    result=result_1.union(result_2)   \n",
    "    return result\n",
    "\n",
    "print (diff (set_1,set_2))"
   ]
  },
  {
   "cell_type": "code",
   "execution_count": 67,
   "id": "d2bb7d9c-674d-4e7b-9aab-3567e65a6d9d",
   "metadata": {},
   "outputs": [
    {
     "name": "stdout",
     "output_type": "stream",
     "text": [
      "{1, 3, 5, 7, 9, 12, 14, 16, 18, 20}\n"
     ]
    }
   ],
   "source": [
    "set_1={1,2,3,4,5,6,7,8,9,10}\n",
    "set_2={2,4,6,8,10,12,14,16,18,20}\n",
    "print(set_1.symmetric_difference(set_2))"
   ]
  },
  {
   "cell_type": "code",
   "execution_count": 9,
   "id": "d12cdc33-4755-4b96-8165-b53c8bd0027b",
   "metadata": {},
   "outputs": [
    {
     "name": "stdout",
     "output_type": "stream",
     "text": [
      "{4, 5, 7, 8, 9}\n"
     ]
    }
   ],
   "source": [
    "def create_set (a,b,c,d,e):\n",
    "    new_set=set()\n",
    "    new_set.update([a,b,c,d,e])\n",
    "    return new_set\n",
    "\n",
    "print (create_set (4,5,7,8,9))"
   ]
  },
  {
   "cell_type": "markdown",
   "id": "33f4c17e-4f07-4c4e-bf1e-3e39a99d871a",
   "metadata": {},
   "source": [
    "Словари\n",
    "\n",
    "Создайте функцию create_dictionary для создания словаря с заданными ключами и значениями.\n",
    "   - Функция должна принимать словарь в формате ключ-значение и возвращать созданный словарь.\n",
    "Напишите функции add_student и remove_student для добавления и удаления студентов из словаря.\n",
    "   - Функции должны принимать словарь студентов и соответствующие данные для добавления и удаления.\n",
    "Напишите функции add_fruit и remove_fruit для добавления и удаления фруктов, их количества и стоимости в списки fruits_quantity и fruits_prices.\n",
    "   - Функции должны принимать словари и соответствующие данные для добавления и удаления.\n",
    "Создайте функцию для объединения двух словарей.\n",
    "Создайте функцию для удаления элемента из словаря по заданному ключу.\n",
    "Создайте функцию для переворачивания значений и ключей в словаре (принимает на вход словарь, возвращает другой словарь, ключами которого являются значения входного словаря, а значениями - ключи.\n",
    "Создайте функцию для сортировки словаря по ключам в обратном порядке.\n",
    "Создайте функцию возвращающую наибольшее значение элемента словаря.\n",
    "Создайте функцию для поиска наибольшего значения в словаре.\n"
   ]
  },
  {
   "cell_type": "code",
   "execution_count": 21,
   "id": "34d244f8-95e3-4a48-a476-f4f1afe5e0af",
   "metadata": {},
   "outputs": [
    {
     "name": "stdout",
     "output_type": "stream",
     "text": [
      "{'Вася': 'Питер', 'Ваня': 'Москва'}\n"
     ]
    }
   ],
   "source": [
    "new_dict={}\n",
    "def create_dictionary (key,value):\n",
    "    new_dict[key]=value\n",
    "    return new_dict\n",
    "create_dictionary('Вася','Питер')\n",
    "print (create_dictionary('Ваня','Москва'))\n",
    "    "
   ]
  },
  {
   "cell_type": "code",
   "execution_count": 84,
   "id": "61bcd02f-6cd2-4e45-ba68-d232107f324c",
   "metadata": {},
   "outputs": [
    {
     "name": "stdout",
     "output_type": "stream",
     "text": [
      "{'Саша': '1 курс', 'Эдик': '3 курс', 'Ваня': '10 курс'}\n"
     ]
    }
   ],
   "source": [
    "students={\"Саша\" : \"1 курс\" , \"Мага\" : \"2 курс\" , \"Эдик\" : \"3 курс\"}\n",
    "def add_student (key,value):\n",
    "    students[key]= value\n",
    "    return students\n",
    "def remove_student(key):\n",
    "    del students[key]\n",
    "remove_student(\"Мага\")\n",
    "print(add_student (\"Ваня\", \"10 курс\"))"
   ]
  },
  {
   "cell_type": "code",
   "execution_count": 54,
   "id": "9a694e71-862c-4062-aa67-af9bf0111476",
   "metadata": {},
   "outputs": [],
   "source": [
    "fruits = {}\n",
    "def add_fruit (key):\n",
    "    fruits[key]= None\n",
    "    return fruits\n",
    "def remove_fruit(key):\n",
    "    del fruits [key]\n",
    "def add_price_count(key,price,count):\n",
    "    fruits[key]= {price : count}\n",
    "    return fruits\n",
    "add_fruit(\"Груша\")\n",
    "add_fruit(\"Яблоко\")\n",
    "add_price_count(\"Груша\" , \"10$\" , \"5\")\n",
    "add_price_count(\"Яблоко\" , \"2$\" , \"15\") # да и вообще все это можно в одну огромную функцию объединить \n",
    "fruits_quantity=[]\n",
    "fruits_prices=[]\n",
    "\n",
    "def quantity_price ():\n",
    "    price_quantity={}\n",
    "    for name in fruits.keys():\n",
    "        price_quantity.update(fruits[name])\n",
    "    for price , count in price_quantity.items():\n",
    "        fruits_quantity.append(count)\n",
    "        fruits_prices.append(price)\n",
    "        \n",
    "\n",
    "quantity_price ()\n",
    "    \n",
    "\n"
   ]
  },
  {
   "cell_type": "code",
   "execution_count": 59,
   "id": "9b876460-7563-4308-ba4b-5cc55d77cb17",
   "metadata": {},
   "outputs": [],
   "source": [
    "students_sharaga={\"Саша\" : \"1 курс\" , \"Мага\" : \"2 курс\" }\n",
    "students_unik={\"Эдик\" : \"3 курс\", \"Петр первый\" : \"карабельный курс\"}\n",
    "students_sharaga.update(students_unik)\n"
   ]
  },
  {
   "cell_type": "code",
   "execution_count": 62,
   "id": "d4fb2d8d-fd85-49a8-a440-3acd4c13112b",
   "metadata": {},
   "outputs": [],
   "source": [
    "students_sharaga={\"Саша\" : \"1 курс\" , \"Мага\" : \"2 курс\" }\n",
    "def remove_key(key):\n",
    "    del students_sharaga [key]\n",
    "remove_key(\"Саша\")\n"
   ]
  },
  {
   "cell_type": "code",
   "execution_count": 81,
   "id": "67fc52e5-9415-4a4c-ae51-9a4e651e28de",
   "metadata": {},
   "outputs": [],
   "source": [
    "slovarik={\"key_1\" : \"val_1\" , \"key_2\" : \"val_2\"}\n",
    "def shuffle (dicti):\n",
    "    new_slovarik={}\n",
    "    for a , b in dicti.items():\n",
    "        new_slovarik[b]=[a]\n",
    "    return new_slovarik\n",
    "        \n",
    "    "
   ]
  },
  {
   "cell_type": "code",
   "execution_count": null,
   "id": "f837f0c3-ed35-433d-a539-81a35fcdae50",
   "metadata": {},
   "outputs": [],
   "source": [
    "slovar={3 : 5 , 6 : 6, 15 : 4}\n",
    "rev={}\n",
    "for key in sorted(reversed(slovar) , reverse=True): \n",
    "    new={key : slovar[key]} \n",
    "    rev.update(new)\n",
    "# ошибка 'list' object is not callable, но в VScode все работает\n",
    "print (rev) # Вывод: {15: 4, 6: 6, 3: 5}\n"
   ]
  },
  {
   "cell_type": "code",
   "execution_count": 87,
   "id": "456d5779-1bb6-4e5c-8a6d-fbfb5e336b77",
   "metadata": {},
   "outputs": [
    {
     "name": "stdout",
     "output_type": "stream",
     "text": [
      "40\n"
     ]
    }
   ],
   "source": [
    "slovar={3 : 5 , 6 : 6, 15 : 40}\n",
    "def max_value (dct):\n",
    "    return max(dct.values())\n",
    "\n",
    "print (max_value(slovar))"
   ]
  },
  {
   "cell_type": "code",
   "execution_count": 88,
   "id": "f677631d-8068-4e88-8eae-2eb1da0d130f",
   "metadata": {},
   "outputs": [
    {
     "name": "stdout",
     "output_type": "stream",
     "text": [
      "15\n"
     ]
    }
   ],
   "source": [
    "slovar={3 : 5 , 6 : 6, 15 : 40}\n",
    "def max_key (dct):\n",
    "    return max(dct.keys())\n",
    "\n",
    "print (max_key(slovar))"
   ]
  },
  {
   "cell_type": "markdown",
   "id": "498e8aac-4400-48fa-9796-9b04b67eef5d",
   "metadata": {},
   "source": [
    "Условия и цыклы\n",
    "\n",
    "Создайте функцию check_fruit_price для проверки стоимости фрукта и вывода соответствующего сообщения.\n",
    "   - Функция должна принимать словарь цен на фрукты и название фрукта, а затем выводить сообщение \"дорогой товар\", если цена фрукта больше 1.5.\n",
    "Создайте функцию check_age для проверки возраста студента и вывода соответствующего сообщения.\n",
    "   - Функция должна принимать словарь студентов и имя студента, а затем выводить сообщение о совершеннолетии или несовершеннолетии.\n",
    "Создайте функцию compare_sets_length, которая сравнивает длину двух множеств и выводит информацию о  том, какое из множеств длиннее.\n",
    "   - Функция должна принимать два множества и выводить соответствующее сообщение.\n",
    "Создайте функцию для определения четности или нечетности числа.\n",
    "Создайте функцию для определения високосного года. Функция должна принимать на вход год в виде числа и возвращать строку \"високосный\" или \"обычный\"\n",
    "Создайте функцию для определения типа треугольника по длинам сторон (принимает длины сторон, возвращает \"остроугольный, прямоугольный, тупоугольный или не треугольник\").\n",
    "Создайте функцию для проверки, является ли строка палиндромом.\n",
    "Создайте функцию для определения времени суток по введенному времени ( принимает текущее время в формате часы, минуты, возвращает утро, день, вечер, ночь).\n",
    "Создайте функцию, которая определяет, является ли введенное число простым.\n",
    "Создайте функцию для проверки входящей строки на наличие только буквенных символов.\n",
    "Создайте функцию, которая определяет, является ли введенная дата корректной (дата вводится в виде трех чисел, день, месяц, год. Корректной датой считается существующая комбинация этих трех чисел).\n",
    "Создайте функцию, которая определяет, является ли введенное число палиндромом.\n",
    "Создайте функцию для определения дня недели по введенному номеру дня (1 - Понедельник, 2 - Вторник и т.д.).\n",
    "Создайте функцию print_fruits_info для вывода информации о количестве и стоимости фруктов из словарей.\n",
    "   - Функция должна принимать словари с информацией \"фрукт:количество\" и \"фрукт:цена\" и выводить для каждого фрукта его стоимость и количество.\n",
    "Создайте функцию print_squares_while, которая использует цикл while для вывода квадратов чисел от 1 до 5.\n",
    "Создайте функцию для вывода факториала заданного числа.\n",
    "Создайте функцию для поиска суммы чисел в заданном диапазоне (принимает на вход два числа, возвращает сумму чисел находящихся между ними, включительно.)\n",
    "Создайте функцию для генерации и вывода всех простых чисел до заданного числа.\n",
    "Создайте функцию для проверки строки на палиндромность без учёта регистра и знаков препинания.\n",
    "Создайте функцию для поиска наибольшего общего делителя (НОД) двух чисел.\n",
    "Создайте функцию print_students для вывода информации о студентах из словаря.\n",
    "   - Функция должна принимать словарь студентов и выводить их имена и возраст.\n",
    "Создайте функцию get_value_from_user, принимающую на вход одно число (\"порог\"), и запрашивающую у пользователя ввод числа до тех пор, пока он не введет число выше \"порога\".\n"
   ]
  },
  {
   "cell_type": "code",
   "execution_count": 90,
   "id": "1dcd3ca9-0c43-4eef-9fca-e60dc8d4a8ad",
   "metadata": {},
   "outputs": [
    {
     "name": "stdout",
     "output_type": "stream",
     "text": [
      " яблоко дорогой товар\n",
      " банан дорогой товар\n",
      " апельсин дорогой товар\n"
     ]
    }
   ],
   "source": [
    "fruits_prices={\"яблоко\": 5, \"банан\": 10, \"апельсин\": 7, \"груша\":1, \"морковь\":1.2}\n",
    "def check_fruit_price (dict):\n",
    "    for name , price in dict.items():\n",
    "        if price > 1.5:\n",
    "            print(f' {name} дорогой товар')\n",
    "check_fruit_price (fruits_prices)"
   ]
  },
  {
   "cell_type": "code",
   "execution_count": 92,
   "id": "3b2d32c4-79ad-4761-b5dd-b34e7fd57b27",
   "metadata": {},
   "outputs": [
    {
     "name": "stdout",
     "output_type": "stream",
     "text": [
      "совершеннолтений\n",
      "несовершеннолетний\n"
     ]
    }
   ],
   "source": [
    "students={\"Паша\" : 5 , \"Ваня\" : 23 , \"Коля\" : 18}\n",
    "def check_age (dict,name):\n",
    "    if dict[name] >= 18:\n",
    "        return \"совершеннолтений\"\n",
    "    else:\n",
    "        return \"несовершеннолетний\"\n",
    "\n",
    "print (check_age(students, \"Ваня\"))\n",
    "print (check_age(students, \"Паша\"))"
   ]
  },
  {
   "cell_type": "code",
   "execution_count": 95,
   "id": "f287f2e1-89bf-400e-8504-ccfaf6a0a5a5",
   "metadata": {},
   "outputs": [
    {
     "name": "stdout",
     "output_type": "stream",
     "text": [
      "второе больше\n",
      "они равны\n"
     ]
    }
   ],
   "source": [
    "set_1={1,2,3,4,5,6,7}\n",
    "set_2={1,2,3,4,5,6,7,8,9,10}\n",
    "set_3={1,2,3,4,5,6,7}\n",
    "def compare_sets_length (set_1,set_2):\n",
    "    if len(set_1) > len(set_2):\n",
    "        return \"первое больше\"\n",
    "    elif len(set_1) < len(set_2):\n",
    "        return \"второе больше\"\n",
    "\n",
    "    else:\n",
    "        return \"они равны\"\n",
    "print(compare_sets_length(set_1,set_2))\n",
    "print(compare_sets_length(set_1,set_3))   "
   ]
  },
  {
   "cell_type": "code",
   "execution_count": 112,
   "id": "7a3dbdd3-32ea-471a-b7fd-5f6bc69d74de",
   "metadata": {},
   "outputs": [
    {
     "name": "stdout",
     "output_type": "stream",
     "text": [
      "нечетеное\n",
      "четное\n"
     ]
    }
   ],
   "source": [
    "def quatro (num):\n",
    "    result=num%2\n",
    "    if result == 0:\n",
    "        return \"четное\"\n",
    "    else:\n",
    "        return \"нечетеное\"\n",
    "\n",
    "print (quatro(9877))\n",
    "print (quatro(6))"
   ]
  },
  {
   "cell_type": "code",
   "execution_count": 174,
   "id": "be2e32c6-1d90-4ec6-aca0-278b87d40ddb",
   "metadata": {},
   "outputs": [
    {
     "name": "stdout",
     "output_type": "stream",
     "text": [
      "обычный год\n",
      "29\n"
     ]
    }
   ],
   "source": [
    "def year (num):\n",
    "    result=num%4\n",
    "    tail=[]\n",
    "    for element in str(num):\n",
    "        tail.append(element)\n",
    "    if (tail[-1] == \"0\" and tail[-2] == \"0\") or (tail[-1] == \"4\" and tail[-2] == \"0\"):\n",
    "        return \"обычный год\"\n",
    "    elif result == 0:\n",
    "        return \"високосный\"\n",
    "    else:\n",
    "        return \"обычный год\"\n",
    "print (year(2004))\n",
    "print (year(1912))"
   ]
  },
  {
   "cell_type": "code",
   "execution_count": 187,
   "id": "8342c3fd-4c9d-4fd2-9ec5-904032953741",
   "metadata": {},
   "outputs": [
    {
     "name": "stdout",
     "output_type": "stream",
     "text": [
      "прямоугольный\n"
     ]
    }
   ],
   "source": [
    "def classify_triangle_angle(a, b, c):\n",
    "  if a + b > c and a + c > b and b + c > a: # честно списанная формула\n",
    "    if c ** 2 == a ** 2 + b ** 2:\n",
    "      return \"прямоугольный\"\n",
    "    elif c ** 2 < a ** 2 + b ** 2:\n",
    "      return \"остроугольный\"\n",
    "    else:\n",
    "      return \"тупоугольный\"\n",
    "  else:\n",
    "    return \"не треугольник\"\n",
    "\n",
    "print (classify_triangle_angle(3, 4, 5))"
   ]
  },
  {
   "cell_type": "code",
   "execution_count": 108,
   "id": "f81d9e5a-829f-419f-8651-29f651417aea",
   "metadata": {},
   "outputs": [
    {
     "name": "stdout",
     "output_type": "stream",
     "text": [
      "палиндром\n"
     ]
    }
   ],
   "source": [
    "def polindrom (string):\n",
    "    if string == string[::-1]:\n",
    "        return \"палиндром\"\n",
    "    else:\n",
    "        return \"просто слово\"\n",
    "print(polindrom(\"мадам\"))"
   ]
  },
  {
   "cell_type": "code",
   "execution_count": 6,
   "id": "f87f79af-603d-4eb7-bb6b-789ed7ebbe55",
   "metadata": {},
   "outputs": [
    {
     "name": "stdout",
     "output_type": "stream",
     "text": [
      "ночь\n"
     ]
    }
   ],
   "source": [
    "def time (today):\n",
    "    for hour , min in today.items():\n",
    "        if 12 > hour >= 5:\n",
    "            return \"утро\"\n",
    "        elif 12 <= hour < 19:\n",
    "            return \"день\"\n",
    "        elif 19<= hour < 23:\n",
    "            return \"вечер\"\n",
    "        else:\n",
    "            return \"ночь\"\n",
    "\n",
    "times={ 1 : 56 }\n",
    "print(time(times))"
   ]
  },
  {
   "cell_type": "code",
   "execution_count": 10,
   "id": "a1cad6d9-d9f5-41f9-9a51-d7c70ece5592",
   "metadata": {},
   "outputs": [
    {
     "name": "stdout",
     "output_type": "stream",
     "text": [
      "сложное\n",
      "простое\n"
     ]
    }
   ],
   "source": [
    "def natural (number):\n",
    "    i=1\n",
    "    result=[]\n",
    "    while i<=number:\n",
    "        if number%i==0:\n",
    "            result.append(i)\n",
    "        i+=1\n",
    "    if len(result) == 2:\n",
    "        print(\"простое\")\n",
    "    else:\n",
    "        print(\"сложное\")\n",
    "\n",
    "natural(30)\n",
    "natural(2803)"
   ]
  },
  {
   "cell_type": "code",
   "execution_count": 109,
   "id": "c107dd7a-ffb3-47f1-a676-b3ae238d3998",
   "metadata": {},
   "outputs": [
    {
     "name": "stdout",
     "output_type": "stream",
     "text": [
      "числа есть\n",
      "чисел нет\n"
     ]
    }
   ],
   "source": [
    "def alpha (string):\n",
    "    test=list(string)\n",
    "    result_test=[]\n",
    "    for i in test:\n",
    "        if i.isnumeric(): # ищет число в элементе строки\n",
    "            result_test.append(i)\n",
    "    if len(result_test) == 0:\n",
    "        print(\"чисел нет\")\n",
    "    else:\n",
    "        print(\"числа есть\")\n",
    "        \n",
    "\n",
    "alpha(\"тут есть 8 и это число\")\n",
    "alpha(\"а тут чисел нет\")"
   ]
  },
  {
   "cell_type": "markdown",
   "id": "d14797ed-0921-45f6-8252-e0c91e80e9f4",
   "metadata": {},
   "source": [
    "Создайте функцию, которая определяет, является ли введенная дата корректной (дата вводится в виде трех чисел, день, месяц, год. Корректной датой считается существующая комбинация этих трех чисел)."
   ]
  },
  {
   "cell_type": "code",
   "execution_count": 184,
   "id": "65c54381-95b8-4bae-82e4-968e4c0e1daa",
   "metadata": {},
   "outputs": [
    {
     "name": "stdout",
     "output_type": "stream",
     "text": [
      "все ок\n"
     ]
    }
   ],
   "source": [
    "def feb (num): # выясняем высокосный ли год\n",
    "    result=num%4\n",
    "    tail=[]\n",
    "    for element in str(num):\n",
    "        tail.append(element)\n",
    "    if (tail[-1] == \"0\" and tail[-2] == \"0\") or (tail[-1] == \"4\" and tail[-2] == \"0\"):\n",
    "        return 28 #обычный год\n",
    "    elif result == 0:\n",
    "        return 29 # високосный год\n",
    "    else:\n",
    "        return 28\n",
    "def date_today (datas):\n",
    "    result=datas.split()\n",
    "    day = int(result[0])\n",
    "    month = int(result[1])\n",
    "    year = int(result[2])\n",
    "    feb_day= feb (year) # перменная чтобы узнать сколько дней в феврале в этом году\n",
    "    if day==0 or day>31 or month == 0 or month >12:\n",
    "        return \"неверно\"\n",
    "    elif (month == 4 or month == 6 or month == 9 or month == 11) and day >30:\n",
    "        return \"неверно\"\n",
    "    elif month == 2 and day > feb_day:\n",
    "        return \"неверно\"\n",
    "    else:\n",
    "        return \"все ок\"\n",
    "today=\"29 2 2024\"\n",
    "print(date_today(today))"
   ]
  },
  {
   "cell_type": "code",
   "execution_count": 186,
   "id": "573e0791-fdd5-4d09-bded-43574bbbac4d",
   "metadata": {},
   "outputs": [
    {
     "name": "stdout",
     "output_type": "stream",
     "text": [
      "палиндром\n"
     ]
    }
   ],
   "source": [
    "def polindrom (string):\n",
    "    if string == string[::-1]:\n",
    "        return \"палиндром\"\n",
    "    else:\n",
    "        return \"просто число\"\n",
    "print(polindrom(\"12321\"))"
   ]
  },
  {
   "cell_type": "code",
   "execution_count": 195,
   "id": "91526450-6cbe-4c8a-8567-324da4e98f71",
   "metadata": {},
   "outputs": [
    {
     "name": "stdout",
     "output_type": "stream",
     "text": [
      "Пятница\n"
     ]
    }
   ],
   "source": [
    "wheek={1:'Понедельник', 2:'Вторник', 3:'Среда', 4:'Четверг', 5:'Пятница', 6:'Суббота', 7:'Воскресенье'}\n",
    "def days (num):\n",
    "    day=wheek[num]\n",
    "    return day\n",
    "\n",
    "print (days(5))\n",
    "        "
   ]
  },
  {
   "cell_type": "code",
   "execution_count": 197,
   "id": "f1b6a9c6-73d4-4fc9-8b22-b8350af4fca0",
   "metadata": {},
   "outputs": [
    {
     "name": "stdout",
     "output_type": "stream",
     "text": [
      "Цена: 17 , количество: 40\n"
     ]
    }
   ],
   "source": [
    "fruit_price= {\"Яблоко\" : 15 , \"Груша\" : 17 , \"Дыня торпеда\" : 100}\n",
    "fruit_count= {\"Яблоко\" : 30 , \"Груша\" : 40 , \"Дыня торпеда\" : 5}\n",
    "def print_fruits_info (name):\n",
    "    price = fruit_price[name]\n",
    "    count = fruit_count[name]\n",
    "    return f'Цена: {price} , количество: {count}'\n",
    "print (print_fruits_info(\"Груша\"))\n",
    "    "
   ]
  },
  {
   "cell_type": "code",
   "execution_count": 198,
   "id": "6f15a5e5-0a0e-4e55-89dc-6aae588a72ed",
   "metadata": {},
   "outputs": [
    {
     "name": "stdout",
     "output_type": "stream",
     "text": [
      "1\n",
      "4\n",
      "9\n",
      "16\n",
      "25\n"
     ]
    }
   ],
   "source": [
    "def print_squares_while ():\n",
    "    num=1\n",
    "    while num <= 5:\n",
    "        result=num**2\n",
    "        num+=1\n",
    "        print(result)\n",
    "print_squares_while()"
   ]
  },
  {
   "cell_type": "code",
   "execution_count": 202,
   "id": "984335f4-5b7f-43c1-9c20-084a6e886cc5",
   "metadata": {},
   "outputs": [
    {
     "name": "stdout",
     "output_type": "stream",
     "text": [
      "355687428096000\n"
     ]
    }
   ],
   "source": [
    "def factorial (num):\n",
    "    result = 1\n",
    "    for i in range(1, num + 1):\n",
    "        result *= i\n",
    "    return result\n",
    "print(factorial(17))\n"
   ]
  },
  {
   "cell_type": "code",
   "execution_count": 214,
   "id": "baccddff-59c5-4993-9a3d-3162ebb86f4f",
   "metadata": {},
   "outputs": [
    {
     "name": "stdout",
     "output_type": "stream",
     "text": [
      "28\n"
     ]
    }
   ],
   "source": [
    "def sum (num_1,num_2):\n",
    "    result=0+num_2\n",
    "    for i in range(num_1,num_2):\n",
    "        result+=i\n",
    "    return result\n",
    "\n",
    "print(sum(1,7))"
   ]
  },
  {
   "cell_type": "code",
   "execution_count": 228,
   "id": "68bda5b7-24a3-4a79-a41f-4279606e8cab",
   "metadata": {},
   "outputs": [
    {
     "name": "stdout",
     "output_type": "stream",
     "text": [
      "2\n",
      "3\n",
      "5\n",
      "7\n"
     ]
    }
   ],
   "source": [
    "def simple (num):\n",
    "    for number in range(1,num):\n",
    "        i=1\n",
    "        result=[]\n",
    "        while i<=number:\n",
    "            if number%i==0:\n",
    "                result.append(i)\n",
    "            i+=1\n",
    "        if len(result) == 2:\n",
    "             print(number)\n",
    "        \n",
    "        else:\n",
    "            None\n",
    "simple(9)"
   ]
  },
  {
   "cell_type": "code",
   "execution_count": 250,
   "id": "317f21fc-ae27-4af3-ab38-f100d56d6a47",
   "metadata": {},
   "outputs": [
    {
     "data": {
      "text/plain": [
       "'палиндром'"
      ]
     },
     "execution_count": 250,
     "metadata": {},
     "output_type": "execute_result"
    }
   ],
   "source": [
    "#def polindrom (string):\n",
    " #   string.replace(\",\",\"\") \n",
    "#Метод translate в Python используется для замены определенных символов в строке. \n",
    "#Этот метод требует таблицу перевода символов, которую можно создать с помощью функции maketrans.\n",
    "#maketrans создает таблицу перевода символов,\n",
    "#которая затем используется методом translate для удаления знаков препинания из строки.\n",
    "import string\n",
    "def polindrom (strings):\n",
    "    table = str.maketrans(\"\", \"\", string.punctuation) \n",
    "    result = strings.translate(table)\n",
    "    result_2=result.replace(\" \",\"\")\n",
    "    result_3=result_2.lower()\n",
    "    if result_3 == result_3[::-1]:\n",
    "        return \"палиндром\"\n",
    "    else:\n",
    "        return \"просто слово\"\n",
    "polindrom(\"Ма?дам!Ма!Да!м\")"
   ]
  },
  {
   "cell_type": "code",
   "execution_count": 251,
   "id": "0909e92f-8397-401a-aa14-1ff15ffbb4c2",
   "metadata": {},
   "outputs": [
    {
     "name": "stdout",
     "output_type": "stream",
     "text": [
      "25\n"
     ]
    }
   ],
   "source": [
    "def maximum (num_1,num_2):\n",
    "    i_1=1\n",
    "    result_1=set()\n",
    "    while i_1<=num_1:\n",
    "        if num_1%i_1==0:\n",
    "            result_1.add(i_1)\n",
    "        i_1+=1\n",
    "    i_2=1\n",
    "    result_2=set()\n",
    "    while i_2<=num_2:\n",
    "        if num_2%i_2==0:\n",
    "            result_2.add(i_2)\n",
    "        i_2+=1\n",
    "    result=result_1 & result_2\n",
    "    print(max(result))\n",
    "\n",
    "maximum(125,300)"
   ]
  },
  {
   "cell_type": "code",
   "execution_count": 253,
   "id": "b551024f-e0ca-416b-be4e-3458f6361829",
   "metadata": {},
   "outputs": [
    {
     "name": "stdout",
     "output_type": "stream",
     "text": [
      "Ivan is 15yo\n",
      "Pavel is 20yo\n",
      "Andrey is 24yo\n"
     ]
    }
   ],
   "source": [
    "students={\"Ivan\" : 15 , \"Pavel\" : 20 , \"Andrey\" : 24}\n",
    "def print_students(dict):\n",
    "    for name , city in dict.items():\n",
    "        print(f'{name} is {city}yo')\n",
    "print_students(students)\n",
    "    "
   ]
  },
  {
   "cell_type": "code",
   "execution_count": 275,
   "id": "e60b4335-07bb-4e0d-a8a6-05457b2827df",
   "metadata": {},
   "outputs": [
    {
     "name": "stdin",
     "output_type": "stream",
     "text": [
      "лимит:  25\n",
      "Угадайте число: 23\n",
      "Повторите попытку: 23\n",
      "Повторите попытку: 25\n"
     ]
    },
    {
     "name": "stdout",
     "output_type": "stream",
     "text": [
      "Вы угадали\n"
     ]
    }
   ],
   "source": [
    "limit=int(input(\"лимит: \"))\n",
    "number=int(input(\"Угадайте число:\"))\n",
    "while number<limit:\n",
    "    number=int(input(\"Повторите попытку:\"))\n",
    "    if number>=limit:\n",
    "        print(\"Вы угадали\")"
   ]
  },
  {
   "cell_type": "markdown",
   "id": "850f7ab6-d07b-4701-b120-c27f2f9d3042",
   "metadata": {},
   "source": [
    "Общие\n",
    "\n",
    "Создайте функцию, которая будет запрашивать у пользователя его возраст.\n",
    "   - Если возраст меньше 18 лет, программа должна выводить сообщение о том, что пользователь несовершеннолетний.\n",
    "   - Если возраст от 18 до 65 лет, программа должна выводить сообщение о том, что пользователь взрослый.\n",
    "   - Если возраст больше 65 лет, программа должна выводить сообщение о том, что пользователь пенсионер.\n",
    "\n",
    "Создайте функцию, которая будет проверять введенную пользователем строку на наличие повторяющихся символов.\n",
    "   - Если такие символы найдены, программа должна выводить их перечень и количество повторов для каждого."
   ]
  },
  {
   "cell_type": "code",
   "execution_count": 283,
   "id": "022a69e6-a1d6-4338-88ba-5753fee2a6fd",
   "metadata": {},
   "outputs": [
    {
     "name": "stdin",
     "output_type": "stream",
     "text": [
      "Напишите ваш возраст  23\n"
     ]
    },
    {
     "name": "stdout",
     "output_type": "stream",
     "text": [
      "взрослый\n"
     ]
    }
   ],
   "source": [
    "yo=int(input('Напишите ваш возраст '))\n",
    "if yo < 18:\n",
    "    print(\"несовершеннолетний\")\n",
    "elif 18 <= yo < 65:\n",
    "    print(\"взрослый\")\n",
    "else:\n",
    "    print(\"пенсонер\")"
   ]
  },
  {
   "cell_type": "code",
   "execution_count": 302,
   "id": "89851829-89a8-4a54-93f3-a88a118d2118",
   "metadata": {},
   "outputs": [
    {
     "name": "stdin",
     "output_type": "stream",
     "text": [
      " вертолет\n"
     ]
    },
    {
     "name": "stdout",
     "output_type": "stream",
     "text": [
      "в: 1\n",
      "е: 2\n",
      "р: 1\n",
      "т: 2\n",
      "о: 1\n",
      "л: 1\n"
     ]
    }
   ],
   "source": [
    "word = input() # удачно подсмотрено в инете \n",
    "spisok = \"\"\n",
    "\n",
    "for copy in word:\n",
    "    if copy not in spisok:\n",
    "        print(f\"{copy}: {word.count(copy)}\")\n",
    "        spisok += copy\n",
    "        "
   ]
  }
 ],
 "metadata": {
  "kernelspec": {
   "display_name": "Python 3 (ipykernel)",
   "language": "python",
   "name": "python3"
  },
  "language_info": {
   "codemirror_mode": {
    "name": "ipython",
    "version": 3
   },
   "file_extension": ".py",
   "mimetype": "text/x-python",
   "name": "python",
   "nbconvert_exporter": "python",
   "pygments_lexer": "ipython3",
   "version": "3.10.10"
  }
 },
 "nbformat": 4,
 "nbformat_minor": 5
}
