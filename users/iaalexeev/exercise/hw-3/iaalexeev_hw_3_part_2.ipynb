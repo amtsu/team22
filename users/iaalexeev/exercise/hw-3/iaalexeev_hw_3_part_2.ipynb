{
 "cells": [
  {
   "cell_type": "markdown",
   "id": "98f79fd0-842d-4afc-9a8d-857f4af0487b",
   "metadata": {},
   "source": [
    "Вычислить результат следующих операций:\n",
    "10 * (5 + 3)\n",
    "(20 - 6) / 2\n",
    "2 ** 5 (возведение 2 в 5-ю степень)\n",
    "25 // 4 (целая часть от деления)\n",
    "25 % 4 (остаток от деления)"
   ]
  },
  {
   "cell_type": "code",
   "execution_count": 2,
   "id": "8c226925-cf7d-4fd5-a763-e6333a311d1e",
   "metadata": {},
   "outputs": [
    {
     "name": "stdout",
     "output_type": "stream",
     "text": [
      "80\n"
     ]
    }
   ],
   "source": [
    "a=10*(5+3)\n",
    "print(a)"
   ]
  },
  {
   "cell_type": "code",
   "execution_count": 3,
   "id": "6b30954f-3fa5-424c-9b17-242729a5bf68",
   "metadata": {},
   "outputs": [
    {
     "name": "stdout",
     "output_type": "stream",
     "text": [
      "7.0\n"
     ]
    }
   ],
   "source": [
    "b=(20 - 6) / 2\n",
    "print(b)"
   ]
  },
  {
   "cell_type": "code",
   "execution_count": 4,
   "id": "63c3bf37-b97c-440c-9566-9c6fec03f7e7",
   "metadata": {},
   "outputs": [
    {
     "name": "stdout",
     "output_type": "stream",
     "text": [
      "32\n"
     ]
    }
   ],
   "source": [
    "c=2 ** 5\n",
    "print(c)"
   ]
  },
  {
   "cell_type": "code",
   "execution_count": 5,
   "id": "7cfa2280-0347-4647-ae65-6363c8c98b71",
   "metadata": {},
   "outputs": [
    {
     "name": "stdout",
     "output_type": "stream",
     "text": [
      "6\n"
     ]
    }
   ],
   "source": [
    "d=25 // 4\n",
    "print(d)"
   ]
  },
  {
   "cell_type": "code",
   "execution_count": 6,
   "id": "a57ccd5c-ba93-46ab-956b-d461f500c92a",
   "metadata": {},
   "outputs": [
    {
     "name": "stdout",
     "output_type": "stream",
     "text": [
      "1\n"
     ]
    }
   ],
   "source": [
    "b=25 % 4\n",
    "print(b)"
   ]
  },
  {
   "cell_type": "markdown",
   "id": "6b86958e-1f71-482c-8e8b-64d869053be7",
   "metadata": {},
   "source": [
    "Дано дробное число:\n",
    "number = -3.14\n",
    "Выполнить следующие операции:\n",
    "Округлите число до целого.\n",
    "Возьмите остаток числа."
   ]
  },
  {
   "cell_type": "code",
   "execution_count": 7,
   "id": "70e56b25-c275-437a-be97-77f3dab60e84",
   "metadata": {},
   "outputs": [
    {
     "name": "stdout",
     "output_type": "stream",
     "text": [
      "-3\n"
     ]
    }
   ],
   "source": [
    "number = -3.14\n",
    "new_number=round(number)\n",
    "print(new_number)"
   ]
  },
  {
   "cell_type": "code",
   "execution_count": 8,
   "id": "4e6a8d66-94db-4b7d-8d07-ed6312af6e5b",
   "metadata": {},
   "outputs": [
    {
     "name": "stdout",
     "output_type": "stream",
     "text": [
      "-14\n"
     ]
    }
   ],
   "source": [
    "rem = -(314%100)\n",
    "print(rem)"
   ]
  },
  {
   "cell_type": "markdown",
   "id": "a53fa6ab-b3f3-450f-8bf2-2058b9937b27",
   "metadata": {},
   "source": [
    "Даны стороны прямоугольника: a = 5, b = 7.\n",
    "Вычислить площадь прямоугольника и вывести результат на экран"
   ]
  },
  {
   "cell_type": "code",
   "execution_count": 9,
   "id": "fbdc3cfb-90c1-42ba-b7c6-f654d94911b6",
   "metadata": {},
   "outputs": [
    {
     "name": "stdout",
     "output_type": "stream",
     "text": [
      "35\n"
     ]
    }
   ],
   "source": [
    "a=5\n",
    "b=7\n",
    "sq=a*b\n",
    "print(sq)"
   ]
  },
  {
   "cell_type": "markdown",
   "id": "b5a6d816-f98a-432a-a1c4-bf77c03ffc09",
   "metadata": {},
   "source": [
    "На какой объем воздуха должен быть расчитан кондиционер, если с его помощью хотят охлаждать квартиру в которой размер гостинной 3.5 на 6.4 метра, спальни 3.4 на 4 метра и площадь не жилой части 11 метров. При том что высота потолков 3,1 метр."
   ]
  },
  {
   "cell_type": "code",
   "execution_count": 13,
   "id": "1ab7a8c3-c8b4-421f-8de8-c516b336b826",
   "metadata": {},
   "outputs": [
    {
     "name": "stdout",
     "output_type": "stream",
     "text": [
      "Кондиционер должен быть расчитан на объем: 145.7 метров квадратных\n"
     ]
    }
   ],
   "source": [
    "height = 3.1\n",
    "liv_1 = 3.5\n",
    "liv_2 = 6.4\n",
    "bed_1 = 3.4\n",
    "bed_2 = 4\n",
    "sq_room = 11\n",
    "am_room = sq_room * height\n",
    "am_bed = bed_1 * bed_2 * height\n",
    "am_liv = liv_1 * liv_2 * height\n",
    "full=am_room + am_bed + am_liv\n",
    "print (f'Кондиционер должен быть расчитан на объем: {full} метров квадратных')\n"
   ]
  },
  {
   "cell_type": "markdown",
   "id": "5cf87f29-db21-4f45-9263-b8a7842520a5",
   "metadata": {},
   "source": [
    "Дано квадратное уравнение вида ax^2 + bx + c = 0.\n",
    "Найти его решения, используя формулу дискриминанта.\n",
    "a номер текущего месяца\n",
    "b номер вашей группы\n",
    "c минус десять (-10)"
   ]
  },
  {
   "cell_type": "code",
   "execution_count": 20,
   "id": "16fe2498-1ec6-4ef4-a2b1-f1ee708c31c7",
   "metadata": {},
   "outputs": [
    {
     "name": "stdout",
     "output_type": "stream",
     "text": [
      " Х1 = -3.449 X2 = 1.449\n"
     ]
    }
   ],
   "source": [
    "import math\n",
    "dis = 4**2 - 4*2*(-10)\n",
    "x_1 = (-4 - math.sqrt(96))/4\n",
    "x_2 = (-4 + math.sqrt(96))/4\n",
    "print (f' Х1 = {x_1:0.3f} X2 = {x_2:0.3f}')"
   ]
  },
  {
   "cell_type": "markdown",
   "id": "695e264e-02c4-4d3c-9467-d2d3bd1d57ed",
   "metadata": {},
   "source": [
    "Даны строки:\n",
    "string1 = \"hello, \"\n",
    "string2 = \"world!\"\n",
    "Объединить строки string1 и string2 и результат вывести на экран так чтобы первая буква в предложении стала заглавной."
   ]
  },
  {
   "cell_type": "code",
   "execution_count": 26,
   "id": "90082095-a1f0-4118-982e-5b0d04d2cecc",
   "metadata": {},
   "outputs": [
    {
     "name": "stdout",
     "output_type": "stream",
     "text": [
      "Hello, world!\n",
      "Длина строки: 13 символов\n"
     ]
    }
   ],
   "source": [
    "string1 = \"hello, \"\n",
    "string2 = \"world!\"\n",
    "str=string1 + string2\n",
    "print(str.capitalize())\n",
    "print(f'Длина строки: {len(str)} символов')"
   ]
  },
  {
   "cell_type": "markdown",
   "id": "177b8ccb-1b81-46bb-8230-34e3b0bb5c91",
   "metadata": {},
   "source": [
    "Выведите на экран строку la 25 раз."
   ]
  },
  {
   "cell_type": "code",
   "execution_count": 27,
   "id": "c38c00f4-c6ee-4273-96a6-57ba137a35db",
   "metadata": {},
   "outputs": [
    {
     "name": "stdout",
     "output_type": "stream",
     "text": [
      "lalalalalalalalalalalalalalalalalalalalalalalalala\n"
     ]
    }
   ],
   "source": [
    "la='la'\n",
    "print (25 * la)"
   ]
  },
  {
   "cell_type": "markdown",
   "id": "3101199d-d821-4d85-9e85-7d19ca9c68bf",
   "metadata": {},
   "source": [
    "Дан список чисел:\n",
    "numbers = [1, 2, 3, 4, 5]\n",
    "Выполнить следующие операции:\n",
    "1. Измените число 2 на строку \"hi\" \n",
    "2. Выведите значение, находящееся на позиции 2.\n",
    "3. Изменить значение на позиции 4 на список из 3 элементов [8, 6, 4].\n",
    "Результаты вывести на экран."
   ]
  },
  {
   "cell_type": "code",
   "execution_count": 35,
   "id": "87547c07-1e5c-4351-98da-564432fbb3e3",
   "metadata": {},
   "outputs": [
    {
     "name": "stdout",
     "output_type": "stream",
     "text": [
      "[1, 'hi', 2, 3, 4, 5]\n",
      "[1, [8, 6, 6], 'hi', 2, 3, 4, 5]\n"
     ]
    }
   ],
   "source": [
    "numbers = [1, 2, 3, 4, 5]\n",
    "numbers.insert(1,'hi')\n",
    "print (numbers)\n",
    "numbers.insert(1,[8,6,6])\n",
    "print(numbers)\n"
   ]
  },
  {
   "cell_type": "markdown",
   "id": "96dd717d-9cb6-4013-aff1-f8e36dd94724",
   "metadata": {},
   "source": [
    "Дан список чисел:\n",
    "numbers = [1, 2, 3, 4, 5, 6, 7, 8, 9, 10]\n",
    "Извлеките подсписок с 3-го по 7-й элемент включительно."
   ]
  },
  {
   "cell_type": "code",
   "execution_count": 37,
   "id": "4f67859c-a621-498c-ae95-1a192d9121de",
   "metadata": {},
   "outputs": [
    {
     "name": "stdout",
     "output_type": "stream",
     "text": [
      "[4, 5, 6, 7, 8]\n"
     ]
    }
   ],
   "source": [
    "numbers = [1, 2, 3, 4, 5, 6, 7, 8, 9, 10]\n",
    "print(numbers[3:8])"
   ]
  },
  {
   "cell_type": "code",
   "execution_count": null,
   "id": "f9f29ae3-be1d-4267-80b1-77d3e0dd4bf2",
   "metadata": {},
   "outputs": [],
   "source": []
  }
 ],
 "metadata": {
  "kernelspec": {
   "display_name": "Python 3 (ipykernel)",
   "language": "python",
   "name": "python3"
  },
  "language_info": {
   "codemirror_mode": {
    "name": "ipython",
    "version": 3
   },
   "file_extension": ".py",
   "mimetype": "text/x-python",
   "name": "python",
   "nbconvert_exporter": "python",
   "pygments_lexer": "ipython3",
   "version": "3.10.10"
  }
 },
 "nbformat": 4,
 "nbformat_minor": 5
}
