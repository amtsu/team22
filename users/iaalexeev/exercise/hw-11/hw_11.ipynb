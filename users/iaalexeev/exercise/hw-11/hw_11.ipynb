{
 "cells": [
  {
   "cell_type": "markdown",
   "id": "ff0d3459-c630-44db-98e8-1a500ba7bf38",
   "metadata": {},
   "source": [
    "Кодировка Unicode\n",
    "\n",
    "Вывести английский алфавит в строку (подсказка - в английском алфавите 26 букв)"
   ]
  },
  {
   "cell_type": "code",
   "execution_count": 37,
   "id": "9a57c6ae-a739-4f33-9b7d-7d1944ffbcef",
   "metadata": {},
   "outputs": [
    {
     "name": "stdout",
     "output_type": "stream",
     "text": [
      "a b c d e f g h i j k l m n o p q r s t u v w x y z\n"
     ]
    }
   ],
   "source": [
    "print(*([chr(i) for i in range(97, 123)]))"
   ]
  },
  {
   "cell_type": "markdown",
   "id": "1cbc03d3-4275-4f98-b746-57448c19d58e",
   "metadata": {},
   "source": [
    "Cгенерировать все возможные комбинации строчных букв английского алфавита длиной два символа. Выведите сочетания для каждой буквы на 1 месте на отдельной строке."
   ]
  },
  {
   "cell_type": "code",
   "execution_count": 59,
   "id": "0ecc695c-bac2-4229-b5d6-829e96742af6",
   "metadata": {},
   "outputs": [
    {
     "name": "stdout",
     "output_type": "stream",
     "text": [
      "aa ab ac ad ae af ag ah ai aj ak al am an ao ap aq ar as at au av aw ax ay az\n",
      "ba bb bc bd be bf bg bh bi bj bk bl bm bn bo bp bq br bs bt bu bv bw bx by bz\n",
      "ca cb cc cd ce cf cg ch ci cj ck cl cm cn co cp cq cr cs ct cu cv cw cx cy cz\n",
      "da db dc dd de df dg dh di dj dk dl dm dn do dp dq dr ds dt du dv dw dx dy dz\n",
      "ea eb ec ed ee ef eg eh ei ej ek el em en eo ep eq er es et eu ev ew ex ey ez\n",
      "fa fb fc fd fe ff fg fh fi fj fk fl fm fn fo fp fq fr fs ft fu fv fw fx fy fz\n",
      "ga gb gc gd ge gf gg gh gi gj gk gl gm gn go gp gq gr gs gt gu gv gw gx gy gz\n",
      "ha hb hc hd he hf hg hh hi hj hk hl hm hn ho hp hq hr hs ht hu hv hw hx hy hz\n",
      "ia ib ic id ie if ig ih ii ij ik il im in io ip iq ir is it iu iv iw ix iy iz\n",
      "ja jb jc jd je jf jg jh ji jj jk jl jm jn jo jp jq jr js jt ju jv jw jx jy jz\n",
      "ka kb kc kd ke kf kg kh ki kj kk kl km kn ko kp kq kr ks kt ku kv kw kx ky kz\n",
      "la lb lc ld le lf lg lh li lj lk ll lm ln lo lp lq lr ls lt lu lv lw lx ly lz\n",
      "ma mb mc md me mf mg mh mi mj mk ml mm mn mo mp mq mr ms mt mu mv mw mx my mz\n",
      "na nb nc nd ne nf ng nh ni nj nk nl nm nn no np nq nr ns nt nu nv nw nx ny nz\n",
      "oa ob oc od oe of og oh oi oj ok ol om on oo op oq or os ot ou ov ow ox oy oz\n",
      "pa pb pc pd pe pf pg ph pi pj pk pl pm pn po pp pq pr ps pt pu pv pw px py pz\n",
      "qa qb qc qd qe qf qg qh qi qj qk ql qm qn qo qp qq qr qs qt qu qv qw qx qy qz\n",
      "ra rb rc rd re rf rg rh ri rj rk rl rm rn ro rp rq rr rs rt ru rv rw rx ry rz\n",
      "sa sb sc sd se sf sg sh si sj sk sl sm sn so sp sq sr ss st su sv sw sx sy sz\n",
      "ta tb tc td te tf tg th ti tj tk tl tm tn to tp tq tr ts tt tu tv tw tx ty tz\n",
      "ua ub uc ud ue uf ug uh ui uj uk ul um un uo up uq ur us ut uu uv uw ux uy uz\n",
      "va vb vc vd ve vf vg vh vi vj vk vl vm vn vo vp vq vr vs vt vu vv vw vx vy vz\n",
      "wa wb wc wd we wf wg wh wi wj wk wl wm wn wo wp wq wr ws wt wu wv ww wx wy wz\n",
      "xa xb xc xd xe xf xg xh xi xj xk xl xm xn xo xp xq xr xs xt xu xv xw xx xy xz\n",
      "ya yb yc yd ye yf yg yh yi yj yk yl ym yn yo yp yq yr ys yt yu yv yw yx yy yz\n",
      "za zb zc zd ze zf zg zh zi zj zk zl zm zn zo zp zq zr zs zt zu zv zw zx zy zz\n"
     ]
    }
   ],
   "source": [
    "for first in range(97,123):\n",
    "        for second in range(97,123):\n",
    "            alpha.append(chr(first)+chr(second))\n",
    "        print (*alpha)\n",
    "        alpha.clear()"
   ]
  },
  {
   "cell_type": "code",
   "execution_count": null,
   "id": "5c09f7d2-2f0b-45e7-a6c2-68a0bffe8161",
   "metadata": {},
   "outputs": [],
   "source": [
    "def english ():\n",
    "    alpha = []\n",
    "    for first in range(97, 123):\n",
    "        for second in range(97, 123):\n",
    "            alpha.append(chr(first) + chr(second))\n",
    "            if chr(first) + chr(second) == 'mf':\n",
    "                break\n",
    "        print (*alpha)\n",
    "        if chr(first) + chr(second) =='mf':\n",
    "            break\n",
    "\n",
    "        alpha.clear()\n",
    "\n",
    "english()"
   ]
  },
  {
   "cell_type": "markdown",
   "id": "6e6829a5-1083-4d22-8600-2ddfc673e760",
   "metadata": {},
   "source": [
    "Cгенерировать все возможные комбинации строчных букв английского алфавита длиной два символа, но не выводить комбинации с одинаковыми буквами («aa», «bb» и т. д.):"
   ]
  },
  {
   "cell_type": "code",
   "execution_count": 80,
   "id": "506ea49d-f689-42a8-9bd3-05d767368f78",
   "metadata": {},
   "outputs": [
    {
     "name": "stdout",
     "output_type": "stream",
     "text": [
      "ab ac ad ae af ag ah ai aj ak al am an ao ap aq ar as at au av aw ax ay az\n",
      "ba bc bd be bf bg bh bi bj bk bl bm bn bo bp bq br bs bt bu bv bw bx by bz\n",
      "ca cb cd ce cf cg ch ci cj ck cl cm cn co cp cq cr cs ct cu cv cw cx cy cz\n",
      "da db dc de df dg dh di dj dk dl dm dn do dp dq dr ds dt du dv dw dx dy dz\n",
      "ea eb ec ed ef eg eh ei ej ek el em en eo ep eq er es et eu ev ew ex ey ez\n",
      "fa fb fc fd fe fg fh fi fj fk fl fm fn fo fp fq fr fs ft fu fv fw fx fy fz\n",
      "ga gb gc gd ge gf gh gi gj gk gl gm gn go gp gq gr gs gt gu gv gw gx gy gz\n",
      "ha hb hc hd he hf hg hi hj hk hl hm hn ho hp hq hr hs ht hu hv hw hx hy hz\n",
      "ia ib ic id ie if ig ih ij ik il im in io ip iq ir is it iu iv iw ix iy iz\n",
      "ja jb jc jd je jf jg jh ji jk jl jm jn jo jp jq jr js jt ju jv jw jx jy jz\n",
      "ka kb kc kd ke kf kg kh ki kj kl km kn ko kp kq kr ks kt ku kv kw kx ky kz\n",
      "la lb lc ld le lf lg lh li lj lk lm ln lo lp lq lr ls lt lu lv lw lx ly lz\n",
      "ma mb mc md me mf mg mh mi mj mk ml mn mo mp mq mr ms mt mu mv mw mx my mz\n",
      "na nb nc nd ne nf ng nh ni nj nk nl nm no np nq nr ns nt nu nv nw nx ny nz\n",
      "oa ob oc od oe of og oh oi oj ok ol om on op oq or os ot ou ov ow ox oy oz\n",
      "pa pb pc pd pe pf pg ph pi pj pk pl pm pn po pq pr ps pt pu pv pw px py pz\n",
      "qa qb qc qd qe qf qg qh qi qj qk ql qm qn qo qp qr qs qt qu qv qw qx qy qz\n",
      "ra rb rc rd re rf rg rh ri rj rk rl rm rn ro rp rq rs rt ru rv rw rx ry rz\n",
      "sa sb sc sd se sf sg sh si sj sk sl sm sn so sp sq sr st su sv sw sx sy sz\n",
      "ta tb tc td te tf tg th ti tj tk tl tm tn to tp tq tr ts tu tv tw tx ty tz\n",
      "ua ub uc ud ue uf ug uh ui uj uk ul um un uo up uq ur us ut uv uw ux uy uz\n",
      "va vb vc vd ve vf vg vh vi vj vk vl vm vn vo vp vq vr vs vt vu vw vx vy vz\n",
      "wa wb wc wd we wf wg wh wi wj wk wl wm wn wo wp wq wr ws wt wu wv wx wy wz\n",
      "xa xb xc xd xe xf xg xh xi xj xk xl xm xn xo xp xq xr xs xt xu xv xw xy xz\n",
      "ya yb yc yd ye yf yg yh yi yj yk yl ym yn yo yp yq yr ys yt yu yv yw yx yz\n",
      "za zb zc zd ze zf zg zh zi zj zk zl zm zn zo zp zq zr zs zt zu zv zw zx zy\n"
     ]
    }
   ],
   "source": [
    "def english():\n",
    "    alpha=[]\n",
    "    for first in range(97,123):\n",
    "        first_alpha=chr(first)\n",
    "        for second in range(97,123):\n",
    "            second_alpha=chr(second)\n",
    "            if not second_alpha == first_alpha:\n",
    "                alpha.append(first_alpha+second_alpha)\n",
    "        print(*alpha)\n",
    "        alpha.clear() \n",
    "\n",
    "english()"
   ]
  },
  {
   "cell_type": "markdown",
   "id": "b9c593e9-c826-4c9a-82e8-700a45d4e01d",
   "metadata": {},
   "source": [
    "Напишите две функции: caesar_crypt(key) одна будет шифровать введенный ей через input() текст шифром Цезаря. Другая расшифровывать caesar_decrypt(key). Аргумент функций - цифра сдвига для кодировки."
   ]
  },
  {
   "cell_type": "code",
   "execution_count": 24,
   "id": "275d3048-eafb-4977-bf73-a00ebe539976",
   "metadata": {},
   "outputs": [
    {
     "name": "stdin",
     "output_type": "stream",
     "text": [
      "1 - расшифоровка , 2 - шифровка 2\n",
      "Введите сдвиг кодировки: 50\n",
      "введите текст:  eeeee\n"
     ]
    },
    {
     "name": "stdout",
     "output_type": "stream",
     "text": [
      "\n"
     ]
    }
   ],
   "source": [
    "def caesar_crypt(key,text):\n",
    "    #spl_txt=list(text)\n",
    "    total=[]\n",
    "    for a in list(text):\n",
    "        uni_ord=ord(a)\n",
    "        total.append(chr(uni_ord+int(key)))\n",
    "    print(''.join(total))\n",
    "    \n",
    "\n",
    "def caesar_decrypt(key,text):\n",
    "    total=[]\n",
    "    for a in list(text):\n",
    "        uni_ord=ord(a)\n",
    "        total.append(chr(uni_ord-int(key)))\n",
    "    print(''.join(total))\n",
    "\n",
    "b=input('1 - расшифоровка , 2 - шифровка')\n",
    "key=input('Введите сдвиг кодировки:') \n",
    "text=input('введите текст: ')\n",
    "if int(b) == 2:\n",
    "    caesar_crypt(key,text)\n",
    "elif int(b) == 1:\n",
    "    caesar_decrypt(key,text)\n",
    "    \n"
   ]
  },
  {
   "cell_type": "markdown",
   "id": "7c4f7b5c-e9a7-4918-92c3-5081ce021143",
   "metadata": {},
   "source": [
    " f-string\n",
    "Вывести трегуольник паскаля в красивом виде. В этом треугольнике на вершине и по бокам стоят единицы. Каждое число равно сумме двух расположенных над ним чисел. Строки треугольника симметричны относительно вертикальной оси. (не использовать многострочное форматирование)"
   ]
  },
  {
   "cell_type": "code",
   "execution_count": 28,
   "id": "6cdfff48-f870-4e4b-94a7-7f52305683b0",
   "metadata": {},
   "outputs": [
    {
     "name": "stdout",
     "output_type": "stream",
     "text": [
      "                             1\n",
      "                           1   1\n",
      "                         1   2   1\n",
      "                       1   3   3   1\n",
      "                     1   4   6   4   1\n",
      "                   1   5  10  10   5   1\n",
      "\n"
     ]
    }
   ],
   "source": [
    "print(f'''{1:>30}\n",
    "{1:>28}{1:>4}\n",
    "{1:>26}{2:>4}{1:>4}\n",
    "{1:>24}{3:>4}{3:>4}{1:>4}\n",
    "{1:>22}{4:>4}{6:>4}{4:>4}{1:>4}\n",
    "{1:>20}{5:>4}{10:>4}{10:>4}{5:>4}{1:>4}\n",
    "''')"
   ]
  },
  {
   "cell_type": "code",
   "execution_count": 237,
   "id": "8ac6c4db-b705-4380-af4e-1ffd1bc07ac1",
   "metadata": {},
   "outputs": [],
   "source": [
    "#Возьмите массив двухбуквенных сочетаний из задания 1.2 и запишите построчно этот массив в file1.txt\n",
    "with open ('alpha.txt', 'w+') as file:\n",
    "    alpha=[]\n",
    "    for first in range(97,123):\n",
    "        for second in range(97,123):\n",
    "            alpha.append(chr(first)+chr(second))\n",
    "        print (*alpha , file=file)\n",
    "        alpha.clear()\n",
    "    "
   ]
  },
  {
   "cell_type": "code",
   "execution_count": 161,
   "id": "3b2dd963-a3c6-4b9d-846b-c983335d4d8d",
   "metadata": {},
   "outputs": [
    {
     "name": "stdin",
     "output_type": "stream",
     "text": [
      "Количество:  7\n"
     ]
    },
    {
     "name": "stdout",
     "output_type": "stream",
     "text": [
      "ta tb tc td te tf tg th ti tj tk tl tm tn to tp tq tr ts tt tu tv tw tx ty tz\n",
      " ua ub uc ud ue uf ug uh ui uj uk ul um un uo up uq ur us ut uu uv uw ux uy uz\n",
      " va vb vc vd ve vf vg vh vi vj vk vl vm vn vo vp vq vr vs vt vu vv vw vx vy vz\n",
      " wa wb wc wd we wf wg wh wi wj wk wl wm wn wo wp wq wr ws wt wu wv ww wx wy wz\n",
      " xa xb xc xd xe xf xg xh xi xj xk xl xm xn xo xp xq xr xs xt xu xv xw xx xy xz\n",
      " ya yb yc yd ye yf yg yh yi yj yk yl ym yn yo yp yq yr ys yt yu yv yw yx yy yz\n",
      " za zb zc zd ze zf zg zh zi zj zk zl zm zn zo zp zq zr zs zt zu zv zw zx zy zz\n",
      "\n"
     ]
    }
   ],
   "source": [
    "# выводить на печать построчно последние строки в количестве lines\n",
    "def bugulma (lines,file):\n",
    "    if lines <0:\n",
    "        raise Exception('вы ввели отрицательное число, ввидите положительное')\n",
    "    elif lines >26:\n",
    "        raise Exception('вы ввели слишком большое число, число не должно превышать 26')     \n",
    "    with open (file , 'r') as file:\n",
    "        strings=file.readlines()\n",
    "        print(*(strings[-lines:]))\n",
    "\n",
    "\n",
    "bugulma( int(input('Количество: ')) , 'alpha.txt' )\n",
    "\n"
   ]
  },
  {
   "cell_type": "markdown",
   "id": "288fa50a-f660-431f-8e39-4cf6e88f2956",
   "metadata": {},
   "source": [
    "Напишите функцию longest_words(file), которая выводит слово, имеющее максимальную длину (или список слов, если таковых несколько)."
   ]
  },
  {
   "cell_type": "code",
   "execution_count": 157,
   "id": "da59d8ad-065d-4b10-9259-20ca877eb860",
   "metadata": {},
   "outputs": [],
   "source": [
    "#тут я создал файл, в котором будут эти самые слова\n",
    "with open('words.txt','w+') as file:\n",
    "    words=['яблоко','киви','банана','фейхуа','картофель']\n",
    "    for word in words:\n",
    "        file.write(word +'\\n')\n",
    "    "
   ]
  },
  {
   "cell_type": "code",
   "execution_count": 217,
   "id": "5b2c9f17-3c14-45d9-b742-9489315f2497",
   "metadata": {},
   "outputs": [
    {
     "name": "stdout",
     "output_type": "stream",
     "text": [
      "картофель\n",
      "\n"
     ]
    }
   ],
   "source": [
    "def longest_words(files):\n",
    "    with open(files ,'r') as file:\n",
    "        element=file.readlines()\n",
    "        longest_word = max(element, key=len)\n",
    "        print(longest_word)\n",
    "            \n",
    "longest_words('words.txt')\n"
   ]
  },
  {
   "cell_type": "markdown",
   "id": "df9ee46e-58eb-4b6e-9ac0-d8c2b752ed8f",
   "metadata": {},
   "source": [
    "Напишите функцию file_even_odd(file), которая будет принимать файл, считывать его построчно и запишисывать в file2n1.txt только нечетные строки, а в file2n.txt только четные"
   ]
  },
  {
   "cell_type": "code",
   "execution_count": 281,
   "id": "40bc5869-87e0-4b5b-9323-afce3f01f836",
   "metadata": {},
   "outputs": [],
   "source": [
    "def file_even_odd():\n",
    "    with open('file2n1.txt','w+') as file_1 , open('file2n.txt','w+') as file_2 , open('alpha.txt','r') as file_main:\n",
    "        element=file_main.readlines()\n",
    "        for a in range(0,26):\n",
    "            if a%2==0:\n",
    "                file_1.write(str(a) + ' ' + 'строка:' + ' ' + element[a])\n",
    "            else:\n",
    "                file_2.write(str(a) + ' ' + 'строка:' + ' ' + element[a])\n",
    "\n",
    "\n",
    "file_even_odd()       "
   ]
  },
  {
   "cell_type": "markdown",
   "id": "13deb1e0-48c7-4f00-a819-ec9302a0202a",
   "metadata": {},
   "source": [
    "Напишите функцию file_merge(file_1, file_2), которая будет принимать на вход два файла и выводить из них строки поочерди (то есть в начале 1 строка 1 файла, потом 1 строка 2 файла и тд)"
   ]
  },
  {
   "cell_type": "code",
   "execution_count": 284,
   "id": "103e6d13-cc64-4bb9-b3c8-82826a37da58",
   "metadata": {},
   "outputs": [
    {
     "name": "stdout",
     "output_type": "stream",
     "text": [
      "0 строка: aa ab ac ad ae af ag ah ai aj ak al am an ao ap aq ar as at au av aw ax ay az\n",
      "\n",
      "1 строка: ba bb bc bd be bf bg bh bi bj bk bl bm bn bo bp bq br bs bt bu bv bw bx by bz\n",
      "\n",
      "2 строка: ca cb cc cd ce cf cg ch ci cj ck cl cm cn co cp cq cr cs ct cu cv cw cx cy cz\n",
      "\n",
      "3 строка: da db dc dd de df dg dh di dj dk dl dm dn do dp dq dr ds dt du dv dw dx dy dz\n",
      "\n",
      "4 строка: ea eb ec ed ee ef eg eh ei ej ek el em en eo ep eq er es et eu ev ew ex ey ez\n",
      "\n",
      "5 строка: fa fb fc fd fe ff fg fh fi fj fk fl fm fn fo fp fq fr fs ft fu fv fw fx fy fz\n",
      "\n",
      "6 строка: ga gb gc gd ge gf gg gh gi gj gk gl gm gn go gp gq gr gs gt gu gv gw gx gy gz\n",
      "\n",
      "7 строка: ha hb hc hd he hf hg hh hi hj hk hl hm hn ho hp hq hr hs ht hu hv hw hx hy hz\n",
      "\n",
      "8 строка: ia ib ic id ie if ig ih ii ij ik il im in io ip iq ir is it iu iv iw ix iy iz\n",
      "\n",
      "9 строка: ja jb jc jd je jf jg jh ji jj jk jl jm jn jo jp jq jr js jt ju jv jw jx jy jz\n",
      "\n",
      "10 строка: ka kb kc kd ke kf kg kh ki kj kk kl km kn ko kp kq kr ks kt ku kv kw kx ky kz\n",
      "\n",
      "11 строка: la lb lc ld le lf lg lh li lj lk ll lm ln lo lp lq lr ls lt lu lv lw lx ly lz\n",
      "\n",
      "12 строка: ma mb mc md me mf mg mh mi mj mk ml mm mn mo mp mq mr ms mt mu mv mw mx my mz\n",
      "\n",
      "13 строка: na nb nc nd ne nf ng nh ni nj nk nl nm nn no np nq nr ns nt nu nv nw nx ny nz\n",
      "\n",
      "14 строка: oa ob oc od oe of og oh oi oj ok ol om on oo op oq or os ot ou ov ow ox oy oz\n",
      "\n",
      "15 строка: pa pb pc pd pe pf pg ph pi pj pk pl pm pn po pp pq pr ps pt pu pv pw px py pz\n",
      "\n",
      "16 строка: qa qb qc qd qe qf qg qh qi qj qk ql qm qn qo qp qq qr qs qt qu qv qw qx qy qz\n",
      "\n",
      "17 строка: ra rb rc rd re rf rg rh ri rj rk rl rm rn ro rp rq rr rs rt ru rv rw rx ry rz\n",
      "\n",
      "18 строка: sa sb sc sd se sf sg sh si sj sk sl sm sn so sp sq sr ss st su sv sw sx sy sz\n",
      "\n",
      "19 строка: ta tb tc td te tf tg th ti tj tk tl tm tn to tp tq tr ts tt tu tv tw tx ty tz\n",
      "\n",
      "20 строка: ua ub uc ud ue uf ug uh ui uj uk ul um un uo up uq ur us ut uu uv uw ux uy uz\n",
      "\n",
      "21 строка: va vb vc vd ve vf vg vh vi vj vk vl vm vn vo vp vq vr vs vt vu vv vw vx vy vz\n",
      "\n",
      "22 строка: wa wb wc wd we wf wg wh wi wj wk wl wm wn wo wp wq wr ws wt wu wv ww wx wy wz\n",
      "\n",
      "23 строка: xa xb xc xd xe xf xg xh xi xj xk xl xm xn xo xp xq xr xs xt xu xv xw xx xy xz\n",
      "\n",
      "24 строка: ya yb yc yd ye yf yg yh yi yj yk yl ym yn yo yp yq yr ys yt yu yv yw yx yy yz\n",
      "\n",
      "25 строка: za zb zc zd ze zf zg zh zi zj zk zl zm zn zo zp zq zr zs zt zu zv zw zx zy zz\n",
      "\n"
     ]
    }
   ],
   "source": [
    "def file_merge(file_1, file_2):\n",
    "    with open(file_1 , 'r') as file_a , open(file_2 , 'r') as file_b:\n",
    "        strings_a=file_a.readlines()\n",
    "        strings_b=file_b.readlines()\n",
    "        for a in range(0,13):\n",
    "            print(strings_a[a])\n",
    "            print(strings_b[a])\n",
    "\n",
    "file_merge('file2n1.txt','file2n.txt')\n",
    "        "
   ]
  },
  {
   "cell_type": "markdown",
   "id": "dfa50648-1c1b-471a-a222-b30f574caf73",
   "metadata": {},
   "source": [
    "4. Итераторы Генераторы\n",
    "   Выполните ячейку и объясните результат выполнения. Потом поправьте чтобы сработали оба принта."
   ]
  },
  {
   "cell_type": "code",
   "execution_count": 51,
   "id": "18e09976-6ffe-4d10-b6bf-a7652b3e121a",
   "metadata": {},
   "outputs": [
    {
     "name": "stdout",
     "output_type": "stream",
     "text": [
      "Все пары кортежей - []\n",
      "Хочу вывести первую пару - (1, 3)\n"
     ]
    }
   ],
   "source": [
    "# работает 1 принт\n",
    "a = [1,2,3] \n",
    "b = [3,2,1]\n",
    "ab = zip(a,b)\n",
    "ac=iter(list(ab))\n",
    "print(f'Все пары кортежей - {list(ab)}') \n",
    "print(f'Хочу вывести первую пару - {next(ac)}')"
   ]
  },
  {
   "cell_type": "code",
   "execution_count": 52,
   "id": "37ae24a0-2387-4157-acf1-384b7cabf59b",
   "metadata": {},
   "outputs": [
    {
     "name": "stdout",
     "output_type": "stream",
     "text": [
      "Все пары кортежей - [(1, 3), (2, 2), (3, 1)]\n",
      "Хочу вывести первую пару - (1, 3)\n"
     ]
    }
   ],
   "source": [
    "#работает 2 принта \n",
    "a = [1,2,3] # первый список\n",
    "b = [3,2,1] # второй список \n",
    "ab = zip(a,b) # обьединение двух списков\n",
    "am = zip(a,b) # вторая переменна для объеденения \n",
    "ac=iter(list(am)) # создаем итератор \n",
    "print(f'Все пары кортежей - {list(ab)}') # вывод двух списков вместе\n",
    "print(f'Хочу вывести первую пару - {next(ac)}') # запускаем 1 итерацию\n",
    "\n",
    "# выше приведены попытки кода, я не совсем понял почему не работает первый вариант, \n",
    "# здесь проблема в динамической типизации?"
   ]
  },
  {
   "cell_type": "markdown",
   "id": "2577e9d4-9ead-4f36-ac66-c1052934402a",
   "metadata": {},
   "source": [
    "Возьмите из 1.1 массив с английским алфавитом, и выведите первые 5 элементов с помощью next()"
   ]
  },
  {
   "cell_type": "code",
   "execution_count": 58,
   "id": "d06b6866-a1a2-49c9-a209-ac9b40084b90",
   "metadata": {},
   "outputs": [
    {
     "name": "stdout",
     "output_type": "stream",
     "text": [
      "a\n",
      "b\n",
      "c\n",
      "d\n",
      "e\n"
     ]
    }
   ],
   "source": [
    "array=([chr(i) for i in range(97, 123)])\n",
    "iter_array=iter(array)\n",
    "for _ in range(0,5):\n",
    "    print(next(iter_array))"
   ]
  },
  {
   "cell_type": "markdown",
   "id": "9afd5b3e-6764-4961-bd10-caaf23f257a7",
   "metadata": {},
   "source": [
    "Проверить функции list(), open(), zip(), - является ли то, что они выдают итератором"
   ]
  },
  {
   "cell_type": "code",
   "execution_count": 16,
   "id": "49b2cbc2-705d-4253-9f81-3cad2991ad21",
   "metadata": {},
   "outputs": [
    {
     "name": "stdout",
     "output_type": "stream",
     "text": [
      "True\n",
      "True\n",
      "True\n",
      "False\n"
     ]
    }
   ],
   "source": [
    "a=['a','b','c']\n",
    "\n",
    "print(hasattr(a, '__iter__'))\n",
    "print(hasattr(zip(),'__iter__'))\n",
    "print(hasattr(open('alpha.txt'),'__iter__'))\n",
    "print(hasattr(int(),'__iter__'))\n"
   ]
  },
  {
   "cell_type": "markdown",
   "id": "9f1416d3-cccf-423c-beb6-99fae7c6bd9a",
   "metadata": {},
   "source": [
    "Как мы проверили в задание 4.4 функция open тоже реализует протокл итератора. Возьмите файл с двухбуквенными сочетаниями из задания 3.1 и выведите все его строки с помощью итератора"
   ]
  },
  {
   "cell_type": "code",
   "execution_count": 8,
   "id": "bc4b99cc-e1f4-4935-b2c9-884b99a50700",
   "metadata": {},
   "outputs": [
    {
     "name": "stdout",
     "output_type": "stream",
     "text": [
      "aa ab ac ad ae af ag ah ai aj ak al am an ao ap aq ar as at au av aw ax ay az\n",
      "\n",
      "ba bb bc bd be bf bg bh bi bj bk bl bm bn bo bp bq br bs bt bu bv bw bx by bz\n",
      "\n",
      "ca cb cc cd ce cf cg ch ci cj ck cl cm cn co cp cq cr cs ct cu cv cw cx cy cz\n",
      "\n",
      "da db dc dd de df dg dh di dj dk dl dm dn do dp dq dr ds dt du dv dw dx dy dz\n",
      "\n",
      "ea eb ec ed ee ef eg eh ei ej ek el em en eo ep eq er es et eu ev ew ex ey ez\n",
      "\n",
      "fa fb fc fd fe ff fg fh fi fj fk fl fm fn fo fp fq fr fs ft fu fv fw fx fy fz\n",
      "\n",
      "ga gb gc gd ge gf gg gh gi gj gk gl gm gn go gp gq gr gs gt gu gv gw gx gy gz\n",
      "\n",
      "ha hb hc hd he hf hg hh hi hj hk hl hm hn ho hp hq hr hs ht hu hv hw hx hy hz\n",
      "\n",
      "ia ib ic id ie if ig ih ii ij ik il im in io ip iq ir is it iu iv iw ix iy iz\n",
      "\n",
      "ja jb jc jd je jf jg jh ji jj jk jl jm jn jo jp jq jr js jt ju jv jw jx jy jz\n",
      "\n",
      "ka kb kc kd ke kf kg kh ki kj kk kl km kn ko kp kq kr ks kt ku kv kw kx ky kz\n",
      "\n",
      "la lb lc ld le lf lg lh li lj lk ll lm ln lo lp lq lr ls lt lu lv lw lx ly lz\n",
      "\n",
      "ma mb mc md me mf mg mh mi mj mk ml mm mn mo mp mq mr ms mt mu mv mw mx my mz\n",
      "\n",
      "na nb nc nd ne nf ng nh ni nj nk nl nm nn no np nq nr ns nt nu nv nw nx ny nz\n",
      "\n",
      "oa ob oc od oe of og oh oi oj ok ol om on oo op oq or os ot ou ov ow ox oy oz\n",
      "\n",
      "pa pb pc pd pe pf pg ph pi pj pk pl pm pn po pp pq pr ps pt pu pv pw px py pz\n",
      "\n",
      "qa qb qc qd qe qf qg qh qi qj qk ql qm qn qo qp qq qr qs qt qu qv qw qx qy qz\n",
      "\n",
      "ra rb rc rd re rf rg rh ri rj rk rl rm rn ro rp rq rr rs rt ru rv rw rx ry rz\n",
      "\n",
      "sa sb sc sd se sf sg sh si sj sk sl sm sn so sp sq sr ss st su sv sw sx sy sz\n",
      "\n",
      "ta tb tc td te tf tg th ti tj tk tl tm tn to tp tq tr ts tt tu tv tw tx ty tz\n",
      "\n",
      "ua ub uc ud ue uf ug uh ui uj uk ul um un uo up uq ur us ut uu uv uw ux uy uz\n",
      "\n",
      "va vb vc vd ve vf vg vh vi vj vk vl vm vn vo vp vq vr vs vt vu vv vw vx vy vz\n",
      "\n",
      "wa wb wc wd we wf wg wh wi wj wk wl wm wn wo wp wq wr ws wt wu wv ww wx wy wz\n",
      "\n",
      "xa xb xc xd xe xf xg xh xi xj xk xl xm xn xo xp xq xr xs xt xu xv xw xx xy xz\n",
      "\n",
      "ya yb yc yd ye yf yg yh yi yj yk yl ym yn yo yp yq yr ys yt yu yv yw yx yy yz\n",
      "\n",
      "za zb zc zd ze zf zg zh zi zj zk zl zm zn zo zp zq zr zs zt zu zv zw zx zy zz\n",
      "\n"
     ]
    }
   ],
   "source": [
    "with open('alpha.txt','r') as file:\n",
    "    array=file.readlines()\n",
    "    a=iter(array)\n",
    "    for _ in range(0,26):\n",
    "       print(next(a))"
   ]
  },
  {
   "cell_type": "markdown",
   "id": "fe9983f1-3eb0-4d7e-930c-35966f6dc1cf",
   "metadata": {},
   "source": [
    "Объяснить, чем отличается ячейка-раз от ячеек два, три, четыре и что за магия там происходит"
   ]
  },
  {
   "cell_type": "code",
   "execution_count": 31,
   "id": "263a553d-e8f9-4142-9b2b-f41b71ebc9f9",
   "metadata": {},
   "outputs": [
    {
     "name": "stdout",
     "output_type": "stream",
     "text": [
      "True\n",
      "[1, 4, 9, 16, 25]\n",
      "True\n",
      "[1, 4, 9, 16, 25]\n"
     ]
    }
   ],
   "source": [
    "#ячейка-раз\n",
    "numbers = [1,2,3,4,5]\n",
    "squared_numbers = [number**2 for number in numbers]\n",
    "print(4 in squared_numbers)\n",
    "print(squared_numbers)\n",
    "print(4 in squared_numbers)\n",
    "print(squared_numbers)"
   ]
  },
  {
   "cell_type": "markdown",
   "id": "45b6466c-6efc-4655-a749-cfaf5b51797c",
   "metadata": {},
   "source": [
    "возводим в квадрат в цикле массив чисел, проверяем есть ли в нем 4"
   ]
  },
  {
   "cell_type": "code",
   "execution_count": 38,
   "id": "fb69ae55-2965-41d8-983a-4ba798a3fa5a",
   "metadata": {},
   "outputs": [
    {
     "name": "stdout",
     "output_type": "stream",
     "text": [
      "True\n",
      "False\n",
      "<class 'generator'>\n"
     ]
    }
   ],
   "source": [
    "#ячейка-два\n",
    "numbers = [1,2,3,4,5]\n",
    "squared_numbers = (number**2 for number in numbers)\n",
    "print(4 in squared_numbers)\n",
    "print(4 in squared_numbers)\n",
    "print(type(squared_numbers))\n"
   ]
  },
  {
   "cell_type": "markdown",
   "id": "0b5fa397-c51a-4312-9687-4495d5a7d6df",
   "metadata": {},
   "source": [
    "в первом принте, при проверке на вхождение, перебираются все значения итератора , соотвественно во втором принт итератор уже пустой"
   ]
  },
  {
   "cell_type": "code",
   "execution_count": 36,
   "id": "1219f2f5-05fc-4056-9dae-dbb63a083daa",
   "metadata": {},
   "outputs": [
    {
     "name": "stdout",
     "output_type": "stream",
     "text": [
      "1 4 9 16 25\n",
      "1 4 9 16 25\n"
     ]
    }
   ],
   "source": [
    "#ячейка-три\n",
    "numbers = [1,2,3,4,5]\n",
    "squared_numbers = (number**2 for number in numbers)\n",
    "print(*squared_numbers)\n",
    "#squared_numbers = (number**2 for number in numbers)\n",
    "print(*squared_numbers)"
   ]
  },
  {
   "cell_type": "markdown",
   "id": "6052ad9a-c271-4563-bac1-f38bded0e483",
   "metadata": {},
   "source": [
    "тут такая же логика, во втором принте генератор пустой , если добавить еще строку с генератором между принатами, то все будет работать"
   ]
  },
  {
   "cell_type": "code",
   "execution_count": 37,
   "id": "7874f204-d538-4088-a82b-d5b6f7a71439",
   "metadata": {},
   "outputs": [
    {
     "name": "stdout",
     "output_type": "stream",
     "text": [
      "True\n",
      "9 16 25\n"
     ]
    }
   ],
   "source": [
    "#ячейка-четыре\n",
    "numbers = [1,2,3,4,5]\n",
    "squared_numbers = (number**2 for number in numbers)\n",
    "print(4 in squared_numbers)\n",
    "print(*squared_numbers)"
   ]
  },
  {
   "cell_type": "markdown",
   "id": "56a6f1e2-f957-4903-9150-b93847e9e2f2",
   "metadata": {},
   "source": [
    "1 и 2 уже были перебраны, остались 3 , 4 и 5 "
   ]
  },
  {
   "cell_type": "markdown",
   "id": "c377c81c-1edd-4fe6-86f6-98c71051f6d3",
   "metadata": {},
   "source": [
    "Создайте массив alph - из букв английского алфавита(можно взять из задания 1.1), возьмите массив с числами из задания 5.3.\n",
    "Напишите функцию которая принимает на вход два массива и выдает третий с сочетаниями букв и их номеров (a1, b2 и тд) (склеивайте массивы с помощью zip)"
   ]
  },
  {
   "cell_type": "code",
   "execution_count": 51,
   "id": "b39c96c1-f126-4b7b-aa28-b25ab8d74e96",
   "metadata": {},
   "outputs": [
    {
     "name": "stdout",
     "output_type": "stream",
     "text": [
      "('a', 1) ('b', 2) ('c', 3) ('d', 4) ('e', 5)\n"
     ]
    }
   ],
   "source": [
    "alph=[chr(i) for i in range(97, 123)]\n",
    "numbers = [1,2,3,4,5]\n",
    "print(*(list(zip(alph , numbers))))"
   ]
  },
  {
   "cell_type": "markdown",
   "id": "47dad1f7-e737-4f5c-b3e7-58bf75b28725",
   "metadata": {},
   "source": [
    "List comprehenshion"
   ]
  },
  {
   "cell_type": "markdown",
   "id": "4c46fb9f-307c-45d6-a1f9-ecd10ec5c07c",
   "metadata": {},
   "source": [
    "Cформировать список из квадратов целых чисел от 0 до N - обычными циклами и условиями"
   ]
  },
  {
   "cell_type": "code",
   "execution_count": 57,
   "id": "7a104ef5-24a1-4393-8617-30e2995cda85",
   "metadata": {},
   "outputs": [
    {
     "name": "stdout",
     "output_type": "stream",
     "text": [
      "0 1 4 9 16 25 36 49 64 81 100 121 144 169 196 225 256 289 324 361 400 441 484 529 576 625 676 729 784 841 900 961 1024 1089 1156 1225 1296 1369 1444 1521 1600 1681 1764 1849 1936 2025 2116 2209 2304 2401 2500 2601 2704 2809 2916 3025 3136 3249 3364 3481 3600 3721 3844 3969 4096 4225 4356 4489 4624 4761 4900 5041 5184 5329 5476 5625 5776 5929 6084 6241 6400 6561 6724 6889 7056 7225 7396 7569 7744 7921 8100 8281 8464 8649 8836 9025 9216 9409 9604 9801 10000\n"
     ]
    }
   ],
   "source": [
    "b=[]\n",
    "for a in range(0,101):\n",
    "    b.append(a*a)\n",
    "print(*b)\n"
   ]
  },
  {
   "cell_type": "markdown",
   "id": "fed5b9e3-38b7-481d-948d-c5197a6b1844",
   "metadata": {},
   "source": [
    "Cформировать список из квадратов целых чисел от 0 до N - с помощью list-comprehenshion"
   ]
  },
  {
   "cell_type": "code",
   "execution_count": 63,
   "id": "b0db39d7-2e30-4c2b-bdc4-9fe10d160ffd",
   "metadata": {},
   "outputs": [
    {
     "name": "stdout",
     "output_type": "stream",
     "text": [
      "[0, 1, 4, 9, 16, 25, 36, 49, 64, 81, 100, 121, 144, 169, 196, 225, 256, 289, 324, 361, 400, 441, 484, 529, 576, 625, 676, 729, 784, 841, 900, 961, 1024, 1089, 1156, 1225, 1296, 1369, 1444, 1521, 1600, 1681, 1764, 1849, 1936, 2025, 2116, 2209, 2304, 2401, 2500, 2601, 2704, 2809, 2916, 3025, 3136, 3249, 3364, 3481, 3600, 3721, 3844, 3969, 4096, 4225, 4356, 4489, 4624, 4761, 4900, 5041, 5184, 5329, 5476, 5625, 5776, 5929, 6084, 6241, 6400, 6561, 6724, 6889, 7056, 7225, 7396, 7569, 7744, 7921, 8100, 8281, 8464, 8649, 8836, 9025, 9216, 9409, 9604, 9801, 10000]\n"
     ]
    }
   ],
   "source": [
    "print([a*a for a in range(0,101)])"
   ]
  },
  {
   "cell_type": "markdown",
   "id": "7e9efdb6-647d-4494-b7b8-550e20e1c072",
   "metadata": {},
   "source": [
    "Cформировать список из чисел от 1 до 26 с помощью генератора массивов"
   ]
  },
  {
   "cell_type": "code",
   "execution_count": 31,
   "id": "ebc00139-231f-47f9-b776-942dfbd8366a",
   "metadata": {},
   "outputs": [
    {
     "name": "stdout",
     "output_type": "stream",
     "text": [
      "1 2 3 4 5 6 7 8 9 10 11 12 13 14 15 16 17 18 19 20 21 22 23 24 25 26\n"
     ]
    }
   ],
   "source": [
    "print(*(a for a in range (1,27)))"
   ]
  },
  {
   "cell_type": "markdown",
   "id": "4df91204-7262-4dc8-bcf5-9884826e4542",
   "metadata": {},
   "source": [
    "Cформировать список из квадратов целых чисел от 0 до N, только если эти значения являются четными - с помощью list-comprehenshion"
   ]
  },
  {
   "cell_type": "code",
   "execution_count": 37,
   "id": "730aec81-ddb4-4970-8eb6-fab784c7f883",
   "metadata": {},
   "outputs": [
    {
     "name": "stdout",
     "output_type": "stream",
     "text": [
      "2 4 6 8 10 12 14 16 18 20 22 24 26 28\n"
     ]
    }
   ],
   "source": [
    "print(*[a for a in range (1,30) if a%2==0])"
   ]
  },
  {
   "cell_type": "markdown",
   "id": "5cf013b4-1f61-4a7a-b045-16bf8b51c173",
   "metadata": {},
   "source": [
    "Программа должна считывать первую строку с целым числом X. А потом должна запросить у пользователя X раз ввести целое число. На выходе напечатать список , в котором будут только числа, значение которых больше среднего арифметического всех введённых чисел. (Считывание производить с помощью list comprehension)"
   ]
  },
  {
   "cell_type": "code",
   "execution_count": 23,
   "id": "24d5ab02-a61e-4f81-80c2-6e58744ab05f",
   "metadata": {},
   "outputs": [
    {
     "name": "stdin",
     "output_type": "stream",
     "text": [
      "кол-во 5\n",
      "число 1 13\n",
      "число 2 12\n",
      "число 3 15\n",
      "число 4 16\n",
      "число 5 17\n"
     ]
    },
    {
     "name": "stdout",
     "output_type": "stream",
     "text": [
      "список [13, 12, 15, 16, 17]\n",
      "среднее [15, 16, 17]\n"
     ]
    }
   ],
   "source": [
    "x=int(input('кол-во'))\n",
    "array = [ int(input(f'число {a+1}')) for a in range(0,x)]\n",
    "total=sum(array)/len(array)\n",
    "print(f'список {array}')\n",
    "print(f'среднее {[b for b in array if b>total]}')\n"
   ]
  },
  {
   "cell_type": "markdown",
   "id": "a7807e9b-3dc2-4c9b-a274-daffc4cb44c4",
   "metadata": {},
   "source": [
    "На вход подаются два числа через пробел, обозначающие размеры матрицы (m - количество строк, n - количество столбцов). Создать матрицу m на n, заполненую нулями. Сделать красивый вывод матрицы"
   ]
  },
  {
   "cell_type": "code",
   "execution_count": 65,
   "id": "c5eae2e7-1c3e-4af5-8ada-d431577e795d",
   "metadata": {},
   "outputs": [
    {
     "name": "stdin",
     "output_type": "stream",
     "text": [
      " 10 10\n"
     ]
    },
    {
     "name": "stdout",
     "output_type": "stream",
     "text": [
      "0 0 0 0 0 0 0 0 0 0\n",
      "0 0 0 0 0 0 0 0 0 0\n",
      "0 0 0 0 0 0 0 0 0 0\n",
      "0 0 0 0 0 0 0 0 0 0\n",
      "0 0 0 0 0 0 0 0 0 0\n",
      "0 0 0 0 0 0 0 0 0 0\n",
      "0 0 0 0 0 0 0 0 0 0\n",
      "0 0 0 0 0 0 0 0 0 0\n",
      "0 0 0 0 0 0 0 0 0 0\n",
      "0 0 0 0 0 0 0 0 0 0\n"
     ]
    }
   ],
   "source": [
    "array = input()\n",
    "m,n=array.split()\n",
    "\n",
    "for _ in range(0,int(m)):\n",
    "    m_list=[]\n",
    "\n",
    "    m_list.append(0)\n",
    "    for _ in range(1,int(n)):\n",
    "\n",
    "        n_list=[]\n",
    "        n_list.append(0)\n",
    "        m_list.append(*n_list)\n",
    "    print(*m_list)"
   ]
  },
  {
   "cell_type": "markdown",
   "id": "4cf98552-361e-4231-a01a-e70b7b74236f",
   "metadata": {},
   "source": [
    "На вход подаются два числа через пробел, обозначающие размеры матрицы (m - количество строк, n - количество столбцов). Создать матрицу m на n, заполненую координатами элементов матрицы. (те для первого элемента это будет (0,0) , для второго (0,1) и так далее) Сделать красивый вывод матрицы."
   ]
  },
  {
   "cell_type": "code",
   "execution_count": 62,
   "id": "32ad04d2-d1d3-4297-b1b4-4da0b9229f6a",
   "metadata": {},
   "outputs": [
    {
     "name": "stdin",
     "output_type": "stream",
     "text": [
      " 6 8\n"
     ]
    },
    {
     "name": "stdout",
     "output_type": "stream",
     "text": [
      "[0, 0] [0, 1] [0, 2] [0, 3] [0, 4] [0, 5] [0, 6] [0, 7] [0, 8]\n",
      "[1, 0] [1, 1] [1, 2] [1, 3] [1, 4] [1, 5] [1, 6] [1, 7] [1, 8]\n",
      "[2, 0] [2, 1] [2, 2] [2, 3] [2, 4] [2, 5] [2, 6] [2, 7] [2, 8]\n",
      "[3, 0] [3, 1] [3, 2] [3, 3] [3, 4] [3, 5] [3, 6] [3, 7] [3, 8]\n",
      "[4, 0] [4, 1] [4, 2] [4, 3] [4, 4] [4, 5] [4, 6] [4, 7] [4, 8]\n",
      "[5, 0] [5, 1] [5, 2] [5, 3] [5, 4] [5, 5] [5, 6] [5, 7] [5, 8]\n",
      "[6, 0] [6, 1] [6, 2] [6, 3] [6, 4] [6, 5] [6, 6] [6, 7] [6, 8]\n"
     ]
    }
   ],
   "source": [
    "array = input()\n",
    "m,n=array.split()\n",
    "\n",
    "for a in range(0,int(m)+1):\n",
    "    c=[]\n",
    "    for b in range(0,int(n)+1):\n",
    "        r=[]\n",
    "        r.append(a)\n",
    "        r.append(b)\n",
    "        c.append(r)\n",
    "    print(*c)\n",
    "\n",
    "    "
   ]
  },
  {
   "cell_type": "markdown",
   "id": "1764d412-6434-4cf1-baff-658cebc29b19",
   "metadata": {},
   "source": [
    "Используя list comprehension, выберите из списка строки и добавьте их в первый массив; int, float во второй; в переменной my_list оставьте элементы, которые не вошли в первые два."
   ]
  },
  {
   "cell_type": "code",
   "execution_count": 52,
   "id": "349722d7-d80e-4893-a853-3bb9e69d2584",
   "metadata": {},
   "outputs": [
    {
     "name": "stdout",
     "output_type": "stream",
     "text": [
      "['Hello', 'World', 'Python', 'OpenAI', 'Artificial', 'Intelligence', 'Machine', 'Learning', 'Data', 'Science', 'Computer', 'Programming']\n",
      "[42, 3.14, 2.71, 100, -3.0, -123, 0.007, 987654, 3.14159, -987, 0.123, 123456, 2.71828]\n",
      "[True, [1, 2, 3], {'key': 'value'}, False, [4, 5, 6], {'foo': 'bar'}, {'a': 1, 'b': 2}, True, [7, 8, 9], {'x': 10, 'y': 20}, False, [10, 20, 30], [11, 22, 33], {'alpha': 0, 'beta': 1}, True, [55, 66, 77]]\n"
     ]
    }
   ],
   "source": [
    "my_list = [42, \"Hello\", 3.14, True , [1, 2, 3], {\"key\": \"value\"}, None, \"World\", 2.71, False, [4, 5, 6], {\"foo\": \"bar\"}, \"Python\", 100, -3.0, \"OpenAI\", {\"a\": 1, \"b\": 2}, True, [7, 8, 9], \"Artificial\", -123, 0.007, \"Intelligence\", {\"x\": 10, \"y\": 20}, False, [10, 20, 30], \"Machine\", 987654, 3.14159, \"Learning\", [11, 22, 33], \"Data\", -987, 0.123, \"Science\", {\"alpha\": 0, \"beta\": 1}, True, [55, 66, 77], \"Computer\", 123456, 2.71828, \"Programming\"]\n",
    "\n",
    "\n",
    "first_array=[ a for a in my_list if type(a)==str]\n",
    "\n",
    "second_array=[ a for a in my_list if type(a)==float or type(a)==int]\n",
    "\n",
    "els_array=[ a for a in my_list if type(a)==bool or type(a)==dict or type(a)==list ]\n",
    "\n",
    "\n",
    "print(first_array)\n",
    "print(second_array)\n",
    "print(els_array)\n",
    "\n",
    "\n",
    "\n"
   ]
  },
  {
   "cell_type": "markdown",
   "id": "90f8bb98-480a-4bcb-b64d-c077e857e534",
   "metadata": {},
   "source": [
    "Напишите в одну строку( один print) вывод списка из квадратов целых чисел от 0 до 20, каждое число должно быть в фигурных скобках, между числами должна быть двойная кавычка"
   ]
  },
  {
   "cell_type": "code",
   "execution_count": 5,
   "id": "dd45bf84-1034-4487-8792-26b91e576e85",
   "metadata": {},
   "outputs": [
    {
     "name": "stdout",
     "output_type": "stream",
     "text": [
      "['0', '1', '4', '9', '16', '25', '36', '49', '64', '81', '100', '121', '144', '169', '196', '225', '256', '289', '324', '361']\n"
     ]
    }
   ],
   "source": [
    "print([f'{a*a}' for a in range (0,20)])"
   ]
  }
 ],
 "metadata": {
  "kernelspec": {
   "display_name": "Python 3 (ipykernel)",
   "language": "python",
   "name": "python3"
  },
  "language_info": {
   "codemirror_mode": {
    "name": "ipython",
    "version": 3
   },
   "file_extension": ".py",
   "mimetype": "text/x-python",
   "name": "python",
   "nbconvert_exporter": "python",
   "pygments_lexer": "ipython3",
   "version": "3.10.10"
  }
 },
 "nbformat": 4,
 "nbformat_minor": 5
}
