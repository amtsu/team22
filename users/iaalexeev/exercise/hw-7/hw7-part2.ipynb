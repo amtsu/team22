{
 "cells": [
  {
   "cell_type": "markdown",
   "id": "dff1e6fd-4139-4f3b-bf3d-bb3120447426",
   "metadata": {},
   "source": [
    "Упражнения 1\n",
    "1. Любимые вещи\n",
    "Создайте список своих любимых развлечений и сохраните его в переменной games. Теперь создайте список любимых лакомств, сохранив его в переменной foods. Объедините два этих списка, сохранив результат в переменной favorites, и напечатайте значение этой переменной."
   ]
  },
  {
   "cell_type": "code",
   "execution_count": 4,
   "id": "17d6428d-0a51-4084-9a34-acc110c61469",
   "metadata": {},
   "outputs": [
    {
     "name": "stdout",
     "output_type": "stream",
     "text": [
      "['MTB', 'playstation', 'cooking', 'NISSAN MICRA K11', 'beer', 'snacks', 'lasagna']\n"
     ]
    }
   ],
   "source": [
    "games=['MTB','playstation','cooking','NISSAN MICRA K11']\n",
    "foods=['beer','snacks','lasagna']\n",
    "favorites=games + foods\n",
    "print(favorites)"
   ]
  },
  {
   "cell_type": "markdown",
   "id": "9057a2ba-2140-4208-a139-1fd4464db5fb",
   "metadata": {},
   "source": [
    "2. Подсчет воинов\n",
    "Есть 3 дома, на крыше каждого из которых прячутся по 25 ниндзя, и есть 2 туннеля, в каждом из которых скрывается по 40 самураев. Сколько всего воинов решили устроить заварушку? (Ответ можно найти, введя в оболочке Python арифметическое выражение.)"
   ]
  },
  {
   "cell_type": "code",
   "execution_count": 5,
   "id": "25753231-9ab6-4473-9924-d93a5e2bdad6",
   "metadata": {},
   "outputs": [
    {
     "name": "stdout",
     "output_type": "stream",
     "text": [
      "155\n"
     ]
    }
   ],
   "source": [
    "house=3\n",
    "roof=25\n",
    "tunnel=2\n",
    "in_tunnel=40\n",
    "ninjago=(house*roof)+(tunnel*in_tunnel)\n",
    "print(ninjago)"
   ]
  },
  {
   "cell_type": "markdown",
   "id": "257f3c72-f29a-47ec-9177-1c9f27b0b251",
   "metadata": {},
   "source": [
    "3. Приветствие\n",
    "Создайте две переменные: пусть одна хранит ваше имя, а другая фамилию. Теперь с помощью строки с метками %s напечатайте приветствие вроде такого: «Привет, Брандо Икетт!»."
   ]
  },
  {
   "cell_type": "code",
   "execution_count": 14,
   "id": "a92fe440-71cf-47df-b05a-da2b8c5c76eb",
   "metadata": {},
   "outputs": [
    {
     "name": "stdout",
     "output_type": "stream",
     "text": [
      "Привет, Брандо Икетт\n",
      "Привет, Брандо Икетт\n"
     ]
    }
   ],
   "source": [
    "name = 'Брандо'\n",
    "sur='Икетт'\n",
    "print(\"Привет, %s %s\" % (name,sur))\n",
    "print(f'Привет, {name} {sur}') #так проще наверное"
   ]
  },
  {
   "cell_type": "markdown",
   "id": "28691852-6483-420b-8a90-ee9ae501d2ce",
   "metadata": {},
   "source": [
    "1. Вы богаты?\n",
    "Как думаете, что делает этот код? Сначала попробуйте в этом разобраться, не вводя код в оболочку Python, а затем проверьте свой ответ.\n",
    "\n",
    "money = 2000 \n",
    "if money > 1000: \n",
    "    print(\"Я богат!\") \n",
    "else: \n",
    "    print(\"Я не богат!\") \n",
    "    print(\"Может, когда-нибудь потом...\")\n",
    "\n",
    "оценивает значение money, в данном слуачаем 2000 больше 1000\n",
    "вывод: я богат \n"
   ]
  },
  {
   "cell_type": "code",
   "execution_count": 15,
   "id": "37ba1ed1-b519-4008-b1ca-f44f748544e7",
   "metadata": {},
   "outputs": [
    {
     "name": "stdout",
     "output_type": "stream",
     "text": [
      "Я богат!\n"
     ]
    }
   ],
   "source": [
    "money = 2000 \n",
    "if money > 1000: \n",
    "    print(\"Я богат!\") \n",
    "else: \n",
    "    print(\"Я не богат!\") \n",
    "    print(\"Может, когда-нибудь потом...\")\n"
   ]
  },
  {
   "cell_type": "markdown",
   "id": "98131038-09fe-4c9f-abde-c018633f9c03",
   "metadata": {},
   "source": [
    "2. Бисквитики!\n",
    "Создайте конструкцию if, которая проверяет, действительно ли количество бисквитов (которое задано в переменной twinkies) меньше 100 или больше 500. Если это условие выполняется, пусть ваша программа напечатает сообщение «Слишком мало или слишком много»"
   ]
  },
  {
   "cell_type": "code",
   "execution_count": 20,
   "id": "5f071e4d-5166-40b8-9386-906ee627f47f",
   "metadata": {},
   "outputs": [
    {
     "name": "stdout",
     "output_type": "stream",
     "text": [
      "ZINGERS\n"
     ]
    }
   ],
   "source": [
    "twinkies=499\n",
    "if twinkies > 500:\n",
    "    print('слишком много')\n",
    "elif twinkies < 100:\n",
    "    print('cлишком мало')\n",
    "else:\n",
    "    print ('ZINGERS')"
   ]
  },
  {
   "cell_type": "markdown",
   "id": "6b6de8c1-6952-4df5-8434-e230ef92e10f",
   "metadata": {},
   "source": [
    "3. Подходящая сумма\n",
    "Создайте конструкцию if, которая проверяет, соответствует ли заданная в переменной money сумма денег диапазону значений от 100 до 500 или диапазону значений от 1000 до 5000."
   ]
  },
  {
   "cell_type": "code",
   "execution_count": 34,
   "id": "a1a8e643-dfd3-4738-98cd-b160065db20f",
   "metadata": {},
   "outputs": [
    {
     "name": "stdout",
     "output_type": "stream",
     "text": [
      "денег хватит\n"
     ]
    }
   ],
   "source": [
    "if 100 < money < 500:\n",
    "    print('денег маловато')\n",
    "elif 1000 < money < 5000:\n",
    "    print('денег хватит')\n",
    "else:\n",
    "    print('деньги есть')\n",
    "money=3000"
   ]
  },
  {
   "cell_type": "markdown",
   "id": "4e875789-3b42-4c0e-8ac1-982c50d2f792",
   "metadata": {},
   "source": [
    "4. Я одолею этих ниндзя!\n",
    "Создайте конструкцию if, которая печатает строку «Их слишком много», если количество ниндзя (заданное в переменной ninjas) меньше 50, печатает «Будет непросто, но я с ними разделаюсь», если это количество меньше 30, и печатает «Я одолею этих ниндзя!», если количество меньше 10. Проверьте, как ваш код работает с таким значением:\n",
    "\n",
    "ninjas = 5"
   ]
  },
  {
   "cell_type": "code",
   "execution_count": 71,
   "id": "dba294b7-bff9-4184-ac0b-7b6b0672b735",
   "metadata": {},
   "outputs": [
    {
     "name": "stdout",
     "output_type": "stream",
     "text": [
      "Я одолею этих ниндзя!\n"
     ]
    }
   ],
   "source": [
    "ninjas = 5\n",
    "if ninjas < 10:\n",
    "    print('Я одолею этих ниндзя!')\n",
    "elif ninjas < 30:\n",
    "    print('Будет непросто, но я с ними разделаюсь')\n",
    "else:\n",
    "    ninjas < 50\n",
    "    print('Их слишком много')"
   ]
  },
  {
   "cell_type": "markdown",
   "id": "b6a886d6-89c0-4d5a-be36-65835ee63049",
   "metadata": {},
   "source": [
    "1. Цикл с приветом\n",
    "Как вы считаете, что делает эта программа? Сперва придумайте вариант ответа, а потом запустите код и проверьте, угадали ли вы.\n",
    "\n",
    "for x in range(0, 20): print('привет %s' % x) if x < 9: break"
   ]
  },
  {
   "cell_type": "markdown",
   "id": "b6a819c6-c7ea-46be-b90b-e22c9215b682",
   "metadata": {},
   "source": [
    "выведется привет 19 раз "
   ]
  },
  {
   "cell_type": "code",
   "execution_count": 3,
   "id": "69bf806b-4511-4799-ad7c-55d4cc751f88",
   "metadata": {},
   "outputs": [
    {
     "name": "stdout",
     "output_type": "stream",
     "text": [
      "привет 0\n"
     ]
    }
   ],
   "source": [
    "for x in range(0, 20): \n",
    "    print('привет %s' % x) \n",
    "    if x < 9: break\n"
   ]
  },
  {
   "cell_type": "markdown",
   "id": "a10b7bd1-4b46-408f-b61c-ae01db0d9a34",
   "metadata": {},
   "source": [
    "и почему так?)"
   ]
  },
  {
   "cell_type": "markdown",
   "id": "86c15516-9a83-4430-b4c6-231a4160695f",
   "metadata": {},
   "source": [
    "Создайте цикл, который печатает четные числа до тех пор, пока не выведет ваш возраст. Если ваш возраст — нечетное число, создайте цикл, который печатает нечетные числа до совпадения с возрастом. Программа должна выводить на экран нечто подобное:\n",
    "\n",
    "2 4 6 8 10 12 14"
   ]
  },
  {
   "cell_type": "code",
   "execution_count": 18,
   "id": "6a23f0e3-6578-4694-a128-1f0a680fbbfb",
   "metadata": {},
   "outputs": [
    {
     "name": "stdout",
     "output_type": "stream",
     "text": [
      "[1, 3, 5, 7, 9, 11, 13, 15, 17, 19, 21, 23]\n"
     ]
    }
   ],
   "source": [
    "name=[]\n",
    "for x in range (0,100):\n",
    "    if x-2==23:\n",
    "        break \n",
    "    elif x%2!=0:\n",
    "        name.append(x)\n",
    "print(name)\n",
    "\n",
    "    "
   ]
  },
  {
   "cell_type": "markdown",
   "id": "419b01c6-018c-4a90-802b-d5f9e76c7896",
   "metadata": {},
   "source": [
    "Создайте список с пятью разными ингредиентами для бутерброда, наподобие:\n",
    "\n",
    "ingredients = ['слизни', 'пиявки', 'катышки изпупка гориллы', 'брови гусеницы', 'пальцы многоножки']\n",
    "\n",
    "Теперь создайте цикл, который печатает список ингредиентов с нумерацией:\n",
    "\n",
    "1 слизни 2 пиявки 3 катышки изпупка гориллы 4 брови гусеницы 5 пальцы многоножки"
   ]
  },
  {
   "cell_type": "code",
   "execution_count": 25,
   "id": "1837c549-36de-41da-8231-fb6913915f5b",
   "metadata": {},
   "outputs": [
    {
     "name": "stdout",
     "output_type": "stream",
     "text": [
      " 1 слизни\n",
      " 2 пиявки\n",
      " 3 катышки изпупка гориллы\n",
      " 4 брови гусеницы\n",
      " 5 пальцы многоножки\n"
     ]
    }
   ],
   "source": [
    "ingredients = ['слизни', 'пиявки', 'катышки изпупка гориллы', 'брови гусеницы', 'пальцы многоножки']\n",
    "n=0\n",
    "for i in ingredients:\n",
    "    n+=1\n",
    "    print(f' {n} {i}')"
   ]
  },
  {
   "cell_type": "markdown",
   "id": "bc678a75-d972-4b06-89b0-a9f3caea3023",
   "metadata": {},
   "source": [
    "Если бы вы сейчас были на Луне, ваш вес составил бы 16,5 процентов от земного. Чтобы узнать, сколько это, умножьте свой земной вес на 0,165.\n",
    "\n",
    "Если бы каждый год в течение следующих 15 лет вы прибавляли по одному килограмму веса, каким бы оказался ваш лунный вес в каждый из ежегодных визитов на Луну вплоть до 15-го года? Напишите программу, которая с помощью цикла for печатает на экране ваш лунный\n",
    "\n",
    "вес в каждом году."
   ]
  },
  {
   "cell_type": "code",
   "execution_count": 31,
   "id": "f3d8785a-af3f-4df6-9041-8490bccc47e1",
   "metadata": {},
   "outputs": [
    {
     "name": "stdout",
     "output_type": "stream",
     "text": [
      " 18.15\n",
      " 18.32\n",
      " 18.48\n",
      " 18.64\n",
      " 18.81\n",
      " 18.98\n",
      " 19.14\n",
      " 19.30\n",
      " 19.47\n",
      " 19.64\n",
      " 19.80\n",
      " 19.96\n",
      " 20.13\n",
      " 20.30\n",
      " 20.46\n"
     ]
    }
   ],
   "source": [
    "weight = 110\n",
    "PROCENT = 0.165\n",
    "\n",
    "for year in range (1,16):\n",
    "    moon_weight = weight * PROCENT\n",
    "    print (f' {moon_weight:0.2f}')\n",
    "    weight+=1\n"
   ]
  },
  {
   "cell_type": "markdown",
   "id": "afb22258-81da-41a6-a41c-4698e2e53aad",
   "metadata": {},
   "source": [
    "Одним из предыдущих заданий было создание цикла for для расчета вашего веса на Луне в течение 15 лет. Этот цикл можно оформить в виде функции. Создайте функцию, которая принимает начальный вес и величину, на которую вес увеличивается каждый год. Вызывать эту новую функцию нужно будет примерно так:\n",
    "\n",
    "moon_weight(30, 0.25)"
   ]
  },
  {
   "cell_type": "code",
   "execution_count": 40,
   "id": "7e4802a0-ef25-498f-a7b9-db07cc4b69bc",
   "metadata": {},
   "outputs": [
    {
     "name": "stdout",
     "output_type": "stream",
     "text": [
      " 4.95\n",
      " 4.99\n",
      " 5.03\n",
      " 5.07\n",
      " 5.12\n",
      " 5.16\n",
      " 5.20\n",
      " 5.24\n",
      " 5.28\n",
      " 5.32\n",
      " 5.36\n",
      " 5.40\n",
      " 5.45\n",
      " 5.49\n",
      " 5.53\n"
     ]
    }
   ],
   "source": [
    "def moon_weight (weight , plus):\n",
    "    PROCENT = 0.165\n",
    "    for year in range (1,16):\n",
    "        moon_weight = weight * PROCENT\n",
    "        print (f' {moon_weight:0.2f}')\n",
    "        weight+=plus\n",
    "\n",
    "moon_weight(30, 0.25)\n",
    "    "
   ]
  },
  {
   "cell_type": "markdown",
   "id": "f1188fe3-1563-43b8-aa3d-105b0cce1b3c",
   "metadata": {},
   "source": [
    "Измените функцию из предыдущего задания так, чтобы с ее помощью можно было рассчитывать вес для разного количества лет, например 5 или 20 лет. Пусть эта функция принимает три аргумента: начальный вес, прибавку веса в год и количество лет:\n",
    "\n",
    "  moon_weight(90, 0.25, 5)"
   ]
  },
  {
   "cell_type": "code",
   "execution_count": 42,
   "id": "9335ac53-4e84-4885-8d47-3ae5e8c6a7ef",
   "metadata": {},
   "outputs": [
    {
     "name": "stdout",
     "output_type": "stream",
     "text": [
      " 14.85\n",
      " 14.89\n",
      " 14.93\n",
      " 14.97\n",
      " 15.02\n"
     ]
    }
   ],
   "source": [
    "def moon_weight (weight , plus , year):\n",
    "    PROCENT = 0.165\n",
    "    for year in range (1,year+1):\n",
    "        moon_weight = weight * PROCENT\n",
    "        print (f' {moon_weight:0.2f}')\n",
    "        weight+=plus\n",
    "\n",
    "moon_weight(90, 0.25, 5)"
   ]
  },
  {
   "cell_type": "code",
   "execution_count": null,
   "id": "8a6f88ea-b2e1-4971-9c39-32c360370f84",
   "metadata": {},
   "outputs": [],
   "source": []
  }
 ],
 "metadata": {
  "kernelspec": {
   "display_name": "Python 3 (ipykernel)",
   "language": "python",
   "name": "python3"
  },
  "language_info": {
   "codemirror_mode": {
    "name": "ipython",
    "version": 3
   },
   "file_extension": ".py",
   "mimetype": "text/x-python",
   "name": "python",
   "nbconvert_exporter": "python",
   "pygments_lexer": "ipython3",
   "version": "3.10.10"
  }
 },
 "nbformat": 4,
 "nbformat_minor": 5
}
