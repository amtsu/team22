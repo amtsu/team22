{
 "cells": [
  {
   "cell_type": "code",
   "execution_count": 8,
   "id": "2f7661cd-2982-431a-8343-86f6a7b42043",
   "metadata": {},
   "outputs": [
    {
     "name": "stdout",
     "output_type": "stream",
     "text": [
      "1\n",
      "4\n",
      "7\n",
      "2\n",
      "5\n",
      "8\n",
      "3\n",
      "6\n",
      "9\n",
      "==============================\n",
      "1\n",
      "4\n",
      "7\n",
      "10\n",
      "2\n",
      "5\n",
      "8\n",
      "11\n",
      "3\n",
      "6\n",
      "9\n",
      "12\n",
      "==============================\n",
      "1\n",
      "3\n",
      "5\n",
      "7\n",
      "2\n",
      "4\n",
      "6\n",
      "8\n",
      "==============================\n",
      "1\n",
      "2\n",
      "5\n",
      "6\n",
      "9\n",
      "10\n",
      "==============================\n",
      "1\n",
      "2\n",
      "3\n",
      "==============================\n"
     ]
    }
   ],
   "source": [
    "def print_matrix(matrix):\n",
    "    for first_num in matrix:\n",
    "        for second_num in first_num:\n",
    "            print(second_num)\n",
    "\n",
    "\n",
    "#проверка\n",
    "matrix1 = [[1,4,7,],[2,5,8,],[3,6,9,]]\n",
    "matrix2 = [[1,4,7,10],[2,5,8,11],[3,6,9,12]]\n",
    "matrix3 = [[1,3,5,7],[2,4,6,8],]\n",
    "matrix4 = [[1,2,],[5,6,],[9,10,]]\n",
    "matrix5 = [[1,2,3],]\n",
    "matrix6 = []\n",
    "print_matrix(matrix1)\n",
    "print(\"=\"*30)\n",
    "print_matrix(matrix2)\n",
    "print(\"=\"*30)\n",
    "print_matrix(matrix3)\n",
    "print(\"=\"*30)\n",
    "print_matrix(matrix4)\n",
    "print(\"=\"*30)\n",
    "print_matrix(matrix5)\n",
    "print(\"=\"*30)\n",
    "print_matrix(matrix6)"
   ]
  },
  {
   "cell_type": "code",
   "execution_count": 32,
   "id": "cca94e11-ac57-49c6-b7d6-649007d80061",
   "metadata": {},
   "outputs": [
    {
     "name": "stdout",
     "output_type": "stream",
     "text": [
      "1\n",
      "2\n",
      "3\n",
      "4\n",
      "5\n",
      "6\n",
      "7\n",
      "8\n",
      "9\n",
      "10\n"
     ]
    }
   ],
   "source": [
    "def ten_times():\n",
    "    pass\n",
    "\n",
    "\n",
    "count=0\n",
    "\n",
    "\n",
    "for _ in range(10):\n",
    "    count+=1\n",
    "    print(count)\n",
    "    ten_times()\n",
    "    "
   ]
  },
  {
   "cell_type": "code",
   "execution_count": 173,
   "id": "45b424d5-ed88-4ea9-9d6f-d6d1f30969d9",
   "metadata": {},
   "outputs": [
    {
     "name": "stdout",
     "output_type": "stream",
     "text": [
      "ВСЁ ГЛАЗЕЛ НА НИХ\n",
      "Вгзни\n",
      "САКУРЫ ЦВЕТЫ, ПОКА\n",
      "Суцтпа\n",
      "ШЕЮ НЕ СВЕЛО\n",
      "Шнво\n",
      "\u001b[31m['Всё глазел на них', 'Сакуры цветы, пока', 'Шею не свело']\u001b[0m\n"
     ]
    }
   ],
   "source": [
    "a_haiku = [\"Всё глазел на них\",\n",
    "\"Сакуры цветы, пока\",\n",
    "\"Шею не свело\"]\n",
    "\n",
    "def print_haiku(haiku):\n",
    "    for line in haiku:\n",
    "        print(str.upper(line))\n",
    "        new_line=line.replace(' ','')\n",
    "        print(new_line[::3])\n",
    "    print(\"\\033[31m{}\\033[0m\".format(haiku))\n",
    "\n",
    "\n",
    "print_haiku(a_haiku)"
   ]
  },
  {
   "cell_type": "code",
   "execution_count": 66,
   "id": "adb719e3-7f86-472e-8c6b-f86c883e1e3d",
   "metadata": {},
   "outputs": [
    {
     "name": "stdin",
     "output_type": "stream",
     "text": [
      "Введите идентификатор: 1\n"
     ]
    },
    {
     "name": "stdout",
     "output_type": "stream",
     "text": [
      "Действие какое-то\n"
     ]
    },
    {
     "name": "stdin",
     "output_type": "stream",
     "text": [
      "Выход?: нет\n",
      "Введите идентификатор: 2\n"
     ]
    }
   ],
   "source": [
    "\n",
    "number=input(\"Введите идентификатор:\")\n",
    "command=['q','1','нет']\n",
    "while number not in command:\n",
    "    number=input(\"Повторите попытку:\")\n",
    "if number=='q':\n",
    "    print(\"Конец\")\n",
    "else:\n",
    "    number=='1'\n",
    "    print('Действие какое-то')\n",
    "    quit=input(\"Выход?:\")\n",
    "    if quit == 'q':\n",
    "        print('Конец')\n",
    "    elif quit == 'нет':\n",
    "        number=input(\"Введите идентификатор:\")  #и тут я сломался \n",
    "    else:\n",
    "        while quit not in command:\n",
    "            quit=input(\"Еще раз:\")\n",
    "            if quit == 'q':\n",
    "                print('Конец')\n",
    "\n",
    "    "
   ]
  },
  {
   "cell_type": "code",
   "execution_count": 169,
   "id": "57e79fc5-385d-4365-8b4e-dbeea13b69c9",
   "metadata": {},
   "outputs": [
    {
     "name": "stdout",
     "output_type": "stream",
     "text": [
      "ВСЁ ГЛАЗЕЛ НА НИХ\n",
      "Вгзни\n",
      "\u001b[35m['Всё глазел на них', 'Сакуры цветы, пока', 'Шею не свело']\u001b[0m\n",
      "САКУРЫ ЦВЕТЫ, ПОКА\n",
      "Суцтпа\n",
      "\u001b[35m['Всё глазел на них', 'Сакуры цветы, пока', 'Шею не свело']\u001b[0m\n",
      "ШЕЮ НЕ СВЕЛО\n",
      "Шнво\n",
      "\u001b[35m['Всё глазел на них', 'Сакуры цветы, пока', 'Шею не свело']\u001b[0m\n",
      "\u001b[36mВсё глазел на них\u001b[0m\n",
      "\u001b[32mСакуры цветы, пока\u001b[0m\n",
      "\u001b[31mШею не свело\u001b[0m\n",
      "Всё \u001b[1mглазел\u001b[0m на них\n",
      "Сакуры\u001b[1m цветы\u001b[0m, пока\n",
      "Шею \u001b[1mне\u001b[0m свело\n",
      "Всё \u001b[34mглазел\u001b[0m на них\n",
      "Сакуры\u001b[34m цветы\u001b[0m, пока\n",
      "Шею \u001b[34mне\u001b[0m свело\n"
     ]
    }
   ],
   "source": [
    "a_haiku = [\"Всё глазел на них\",\n",
    "\"Сакуры цветы, пока\",\n",
    "\"Шею не свело\"]\n",
    "def print_haiku(haiku):\n",
    "    for line in haiku:\n",
    "        print(str.upper(line))\n",
    "        new_line=line.replace(' ','')\n",
    "        print(new_line[::3])\n",
    "        print(\"\\033[35m{}\\033[0m\".format(haiku))\n",
    "    a,b,c=haiku\n",
    "    print(\"\\033[36m{}\\033[0m\".format(a))\n",
    "    print(\"\\033[32m{}\\033[0m\".format(b))\n",
    "    print(\"\\033[31m{}\\033[0m\".format(c))\n",
    "    up_a=a.replace(a[4:10],\"\\033[1m{}\\033[0m\".format(a[4:10]))\n",
    "    up_b=b.replace(b[6:12],\"\\033[1m{}\\033[0m\".format(b[6:12]))\n",
    "    up_c=c.replace(c[4:6],\"\\033[1m{}\\033[0m\".format(c[4:6]))\n",
    "    print(up_a)\n",
    "    print(up_b)\n",
    "    print(up_c)\n",
    "    color_a=a.replace(a[4:10],\"\\033[34m{}\\033[0m\".format(a[4:10]))\n",
    "    color_b=b.replace(b[6:12],\"\\033[34m{}\\033[0m\".format(b[6:12]))\n",
    "    color_c=c.replace(c[4:6],\"\\033[34m{}\\033[0m\".format(c[4:6]))\n",
    "    print(color_a)\n",
    "    print(color_b)\n",
    "    print(color_c)\n",
    "    \n",
    "\n",
    "print_haiku(a_haiku)"
   ]
  },
  {
   "cell_type": "code",
   "execution_count": null,
   "id": "a0e0e1a5-bd88-4689-9514-6b88748fcab1",
   "metadata": {},
   "outputs": [],
   "source": []
  },
  {
   "cell_type": "code",
   "execution_count": null,
   "id": "a042b41f-9540-4378-b22a-653edef0ba46",
   "metadata": {},
   "outputs": [],
   "source": []
  }
 ],
 "metadata": {
  "kernelspec": {
   "display_name": "Python 3 (ipykernel)",
   "language": "python",
   "name": "python3"
  },
  "language_info": {
   "codemirror_mode": {
    "name": "ipython",
    "version": 3
   },
   "file_extension": ".py",
   "mimetype": "text/x-python",
   "name": "python",
   "nbconvert_exporter": "python",
   "pygments_lexer": "ipython3",
   "version": "3.10.10"
  }
 },
 "nbformat": 4,
 "nbformat_minor": 5
}
