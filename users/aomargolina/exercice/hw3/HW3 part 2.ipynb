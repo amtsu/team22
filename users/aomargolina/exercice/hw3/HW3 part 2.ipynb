{
 "cells": [
  {
   "cell_type": "code",
   "execution_count": 1,
   "id": "22bfc561-c713-4fc7-a630-3af5bb89ae26",
   "metadata": {},
   "outputs": [
    {
     "data": {
      "text/plain": [
       "80"
      ]
     },
     "execution_count": 1,
     "metadata": {},
     "output_type": "execute_result"
    }
   ],
   "source": [
    "10 * (5 + 3)"
   ]
  },
  {
   "cell_type": "code",
   "execution_count": 2,
   "id": "06a70596-7682-4519-b71a-8572470eff2b",
   "metadata": {},
   "outputs": [
    {
     "data": {
      "text/plain": [
       "7.0"
      ]
     },
     "execution_count": 2,
     "metadata": {},
     "output_type": "execute_result"
    }
   ],
   "source": [
    "(20 - 6) / 2"
   ]
  },
  {
   "cell_type": "code",
   "execution_count": 3,
   "id": "864806f5-12f8-4b0d-8fe1-955495232474",
   "metadata": {},
   "outputs": [
    {
     "data": {
      "text/plain": [
       "32"
      ]
     },
     "execution_count": 3,
     "metadata": {},
     "output_type": "execute_result"
    }
   ],
   "source": [
    "2 ** 5"
   ]
  },
  {
   "cell_type": "code",
   "execution_count": 4,
   "id": "24abef69-1b05-4e48-adb9-59f4a7d596d8",
   "metadata": {},
   "outputs": [
    {
     "data": {
      "text/plain": [
       "6"
      ]
     },
     "execution_count": 4,
     "metadata": {},
     "output_type": "execute_result"
    }
   ],
   "source": [
    "25 // 4"
   ]
  },
  {
   "cell_type": "code",
   "execution_count": 5,
   "id": "c403fff2-511a-452b-89e2-fbee3b28d709",
   "metadata": {},
   "outputs": [
    {
     "data": {
      "text/plain": [
       "1"
      ]
     },
     "execution_count": 5,
     "metadata": {},
     "output_type": "execute_result"
    }
   ],
   "source": [
    "25 % 4"
   ]
  },
  {
   "cell_type": "code",
   "execution_count": 13,
   "id": "929d48f0-a9fc-4a48-a67a-26e3c7e14642",
   "metadata": {
    "scrolled": true
   },
   "outputs": [
    {
     "data": {
      "text/plain": [
       "96.86"
      ]
     },
     "execution_count": 13,
     "metadata": {},
     "output_type": "execute_result"
    }
   ],
   "source": [
    "number = -3.14\n",
    "int(number)\n",
    "number % 100"
   ]
  },
  {
   "cell_type": "code",
   "execution_count": 10,
   "id": "05895fe5-3ad2-447b-89ec-648bd89aa9f8",
   "metadata": {},
   "outputs": [
    {
     "data": {
      "text/plain": [
       "-3"
      ]
     },
     "execution_count": 10,
     "metadata": {},
     "output_type": "execute_result"
    }
   ],
   "source": [
    "int(number)"
   ]
  },
  {
   "cell_type": "code",
   "execution_count": 14,
   "id": "0e21f4c8-bdcb-42fc-890a-8bb3f71457f1",
   "metadata": {},
   "outputs": [
    {
     "data": {
      "text/plain": [
       "-3.14"
      ]
     },
     "execution_count": 14,
     "metadata": {},
     "output_type": "execute_result"
    }
   ],
   "source": [
    "number"
   ]
  },
  {
   "cell_type": "code",
   "execution_count": 15,
   "id": "d6d143c5-4720-47ac-8f8a-b904c8099ad5",
   "metadata": {},
   "outputs": [
    {
     "data": {
      "text/plain": [
       "6.859999999999999"
      ]
     },
     "execution_count": 15,
     "metadata": {},
     "output_type": "execute_result"
    }
   ],
   "source": [
    "number % 10"
   ]
  },
  {
   "cell_type": "code",
   "execution_count": 16,
   "id": "3ab2aa53-01b6-45db-a0e0-e05a015191ef",
   "metadata": {},
   "outputs": [
    {
     "data": {
      "text/plain": [
       "-4.0"
      ]
     },
     "execution_count": 16,
     "metadata": {},
     "output_type": "execute_result"
    }
   ],
   "source": [
    "-3.14 // 1"
   ]
  },
  {
   "cell_type": "code",
   "execution_count": 17,
   "id": "0fa402e4-bf74-41b7-90b8-91cf809090fb",
   "metadata": {},
   "outputs": [
    {
     "data": {
      "text/plain": [
       "6.859999999999999"
      ]
     },
     "execution_count": 17,
     "metadata": {},
     "output_type": "execute_result"
    }
   ],
   "source": [
    "-3.14 % 10"
   ]
  },
  {
   "cell_type": "code",
   "execution_count": 18,
   "id": "d084cf2e-67df-4317-bbe4-0ae8c51b021e",
   "metadata": {},
   "outputs": [
    {
     "data": {
      "text/plain": [
       "3.14"
      ]
     },
     "execution_count": 18,
     "metadata": {},
     "output_type": "execute_result"
    }
   ],
   "source": [
    "3.14 % 10"
   ]
  },
  {
   "cell_type": "code",
   "execution_count": 19,
   "id": "6a0415b8-9dfd-4b4e-a879-66d8b73cb5e6",
   "metadata": {},
   "outputs": [
    {
     "data": {
      "text/plain": [
       "7"
      ]
     },
     "execution_count": 19,
     "metadata": {},
     "output_type": "execute_result"
    }
   ],
   "source": [
    "-3 % 10"
   ]
  },
  {
   "cell_type": "code",
   "execution_count": 20,
   "id": "4c20b879-afab-4b56-bb38-9fa437a606b7",
   "metadata": {},
   "outputs": [
    {
     "data": {
      "text/plain": [
       "35"
      ]
     },
     "execution_count": 20,
     "metadata": {},
     "output_type": "execute_result"
    }
   ],
   "source": [
    "a = 5\n",
    "b = 7\n",
    "a * b"
   ]
  },
  {
   "cell_type": "code",
   "execution_count": 21,
   "id": "2271f0be-1667-4249-a508-9a9e81be9788",
   "metadata": {},
   "outputs": [],
   "source": [
    " #3.5 на 6.4 метра, спальни 3.4 на 4 метра и площадь не жилой части 11 метров. При том что высота потолков 3,1 метр.\n"
   ]
  },
  {
   "cell_type": "code",
   "execution_count": 23,
   "id": "8cefa020-1257-4869-a365-48ea6bf0af17",
   "metadata": {},
   "outputs": [
    {
     "data": {
      "text/plain": [
       "144.46"
      ]
     },
     "execution_count": 23,
     "metadata": {},
     "output_type": "execute_result"
    }
   ],
   "source": [
    "(3.5 * 6.4 + 3.3 * 4 + 11) * 3.1"
   ]
  },
  {
   "cell_type": "code",
   "execution_count": 26,
   "id": "1cbbcd4d-7984-44e4-bde3-89fbdb3d9c5d",
   "metadata": {},
   "outputs": [],
   "source": [
    "#Дано квадратное уравнение вида ax^2 + bx + c = 0.\n",
    "#Найти его решения, используя формулу дискриминанта.\n",
    "#a номер текущего месяца\n",
    "#b номер вашей группы\n",
    "#c минус десять (-10)'''"
   ]
  },
  {
   "cell_type": "code",
   "execution_count": 29,
   "id": "f63d7010-f22f-41b2-8059-a523f1ec48e4",
   "metadata": {},
   "outputs": [],
   "source": [
    "D = 6 ** 2 - 4 * 2 * (-10)"
   ]
  },
  {
   "cell_type": "code",
   "execution_count": 30,
   "id": "7014e3ed-bb2f-4faf-a963-c8809a561008",
   "metadata": {},
   "outputs": [
    {
     "data": {
      "text/plain": [
       "116"
      ]
     },
     "execution_count": 30,
     "metadata": {},
     "output_type": "execute_result"
    }
   ],
   "source": [
    "D"
   ]
  },
  {
   "cell_type": "code",
   "execution_count": 37,
   "id": "1dddcca0-35fe-4a09-8f8e-5bff28c2c827",
   "metadata": {},
   "outputs": [],
   "source": [
    "x1 = (-6 + D ** 0.5) / (2 * 2)"
   ]
  },
  {
   "cell_type": "code",
   "execution_count": 38,
   "id": "af498770-7673-48d3-b2eb-ca91397db423",
   "metadata": {},
   "outputs": [
    {
     "data": {
      "text/plain": [
       "1.1925824035672519"
      ]
     },
     "execution_count": 38,
     "metadata": {},
     "output_type": "execute_result"
    }
   ],
   "source": [
    "x1"
   ]
  },
  {
   "cell_type": "code",
   "execution_count": 39,
   "id": "2b0f1c3b-f529-4135-b993-542d46892973",
   "metadata": {},
   "outputs": [
    {
     "data": {
      "text/plain": [
       "-4.192582403567252"
      ]
     },
     "execution_count": 39,
     "metadata": {},
     "output_type": "execute_result"
    }
   ],
   "source": [
    "x2 = (-6 - D ** 0.5) / (2 * 2)\n",
    "x2"
   ]
  },
  {
   "cell_type": "code",
   "execution_count": 42,
   "id": "7f5af48a-879f-4bd1-acc3-d6b5c17d78c3",
   "metadata": {},
   "outputs": [
    {
     "data": {
      "text/plain": [
       "-1.7763568394002505e-15"
      ]
     },
     "execution_count": 42,
     "metadata": {},
     "output_type": "execute_result"
    }
   ],
   "source": [
    "2 * 1.1925824035672519 ** 2 + 6 * 1.1925824035672519 - 10"
   ]
  },
  {
   "cell_type": "code",
   "execution_count": 41,
   "id": "7d904e64-a845-4df3-8441-5fbf3ed6cad3",
   "metadata": {},
   "outputs": [
    {
     "data": {
      "text/plain": [
       "10.770329614269007"
      ]
     },
     "execution_count": 41,
     "metadata": {},
     "output_type": "execute_result"
    }
   ],
   "source": [
    "116 ** 0.5"
   ]
  },
  {
   "cell_type": "code",
   "execution_count": 43,
   "id": "1c9bf0b2-1b15-4a5b-8c33-46c340ffb3b5",
   "metadata": {},
   "outputs": [
    {
     "data": {
      "text/plain": [
       "1.4222527892982435"
      ]
     },
     "execution_count": 43,
     "metadata": {},
     "output_type": "execute_result"
    }
   ],
   "source": [
    "1.1925824035672519 ** 2"
   ]
  },
  {
   "cell_type": "code",
   "execution_count": 44,
   "id": "c636e4e2-3bfc-42bb-bd12-d32ed9dab7b0",
   "metadata": {},
   "outputs": [
    {
     "data": {
      "text/plain": [
       "2.844505578596487"
      ]
     },
     "execution_count": 44,
     "metadata": {},
     "output_type": "execute_result"
    }
   ],
   "source": [
    "1.4222527892982435 * 2"
   ]
  },
  {
   "cell_type": "code",
   "execution_count": 45,
   "id": "0abf4ac6-6d1d-4929-bece-76c39a169eea",
   "metadata": {},
   "outputs": [
    {
     "data": {
      "text/plain": [
       "7.155494421403511"
      ]
     },
     "execution_count": 45,
     "metadata": {},
     "output_type": "execute_result"
    }
   ],
   "source": [
    "6 * 1.1925824035672519"
   ]
  },
  {
   "cell_type": "code",
   "execution_count": 48,
   "id": "ee5e7fc6-2a1c-4006-be25-f19ccd653fff",
   "metadata": {},
   "outputs": [
    {
     "data": {
      "text/plain": [
       "9.999999999999998"
      ]
     },
     "execution_count": 48,
     "metadata": {},
     "output_type": "execute_result"
    }
   ],
   "source": [
    "2.844505578596487 + 7.155494421403511"
   ]
  },
  {
   "cell_type": "code",
   "execution_count": 54,
   "id": "bae42257-8715-4e47-9d19-5d70b23416f9",
   "metadata": {},
   "outputs": [],
   "source": [
    "string1 = \"hello, \"\n",
    "string2 = \"world!\"\n",
    "str = (string1 + string2)"
   ]
  },
  {
   "cell_type": "code",
   "execution_count": 62,
   "id": "0f9007bd-ec59-4d42-999f-5cedb084e923",
   "metadata": {},
   "outputs": [
    {
     "data": {
      "text/plain": [
       "'Hello, world!'"
      ]
     },
     "execution_count": 62,
     "metadata": {},
     "output_type": "execute_result"
    }
   ],
   "source": [
    "str.capitalize()"
   ]
  },
  {
   "cell_type": "code",
   "execution_count": 65,
   "id": "af14a3ae-3bf3-44c5-864c-4ee9c7b1a7b8",
   "metadata": {},
   "outputs": [
    {
     "data": {
      "text/plain": [
       "13"
      ]
     },
     "execution_count": 65,
     "metadata": {},
     "output_type": "execute_result"
    }
   ],
   "source": [
    "len(str)"
   ]
  },
  {
   "cell_type": "code",
   "execution_count": 68,
   "id": "6a9f2a9e-2344-4fea-b6c0-2180bafe92e6",
   "metadata": {},
   "outputs": [
    {
     "data": {
      "text/plain": [
       "'lalalalalalalalalalalalalalalalalalalalalalalalala'"
      ]
     },
     "execution_count": 68,
     "metadata": {},
     "output_type": "execute_result"
    }
   ],
   "source": [
    "'la' * 25"
   ]
  },
  {
   "cell_type": "code",
   "execution_count": 69,
   "id": "3f7a3e11-fd88-4fd7-a67b-a923316b6e75",
   "metadata": {},
   "outputs": [],
   "source": [
    "#enter = '''Дан список чисел:\n",
    "#numbers = [1, 2, 3, 4, 5]\n",
    "#Выполнить следующие операции:\n",
    "#1. Измените число 2 на строку \"hi\" \n",
    "#2. Выведите значение, находящееся на позиции 2.\n",
    "#3. Изменить значение на позиции 4 на список из 3 элементов [8, 6, 4].\n",
    "#Результаты вывести на экран'''"
   ]
  },
  {
   "cell_type": "code",
   "execution_count": 72,
   "id": "2f81ebcf-3207-4b5d-a2de-365763a42cda",
   "metadata": {},
   "outputs": [],
   "source": [
    "numbers = [1, 2, 3, 4, 5]\n",
    "numbers[1] = 'hi'"
   ]
  },
  {
   "cell_type": "code",
   "execution_count": 73,
   "id": "c195c7aa-d539-4d75-8e04-bc427aff1cc6",
   "metadata": {},
   "outputs": [
    {
     "data": {
      "text/plain": [
       "[1, 'hi', 3, 4, 5]"
      ]
     },
     "execution_count": 73,
     "metadata": {},
     "output_type": "execute_result"
    }
   ],
   "source": [
    "numbers"
   ]
  },
  {
   "cell_type": "code",
   "execution_count": 74,
   "id": "63fe459c-27b4-4d3f-8b11-246e1ea8bdec",
   "metadata": {},
   "outputs": [
    {
     "data": {
      "text/plain": [
       "3"
      ]
     },
     "execution_count": 74,
     "metadata": {},
     "output_type": "execute_result"
    }
   ],
   "source": [
    "numbers[2]"
   ]
  },
  {
   "cell_type": "code",
   "execution_count": 75,
   "id": "07e6c827-97e7-4cde-b369-e7197ab9e2c5",
   "metadata": {},
   "outputs": [],
   "source": [
    "numbers[4] = [8, 6, 4]"
   ]
  },
  {
   "cell_type": "code",
   "execution_count": 76,
   "id": "c60bfe5f-53db-4fee-bd72-c035202fafde",
   "metadata": {},
   "outputs": [
    {
     "data": {
      "text/plain": [
       "[1, 'hi', 3, 4, [8, 6, 4]]"
      ]
     },
     "execution_count": 76,
     "metadata": {},
     "output_type": "execute_result"
    }
   ],
   "source": [
    "numbers"
   ]
  },
  {
   "cell_type": "code",
   "execution_count": 77,
   "id": "94ddf652-dfa5-452d-b298-5337ab2167f6",
   "metadata": {},
   "outputs": [],
   "source": [
    "numbers = [1, 2, 3, 4, 5, 6, 7, 8, 9, 10]"
   ]
  },
  {
   "cell_type": "code",
   "execution_count": 78,
   "id": "7b114b17-aee5-4ed3-8558-96d0dfd9d385",
   "metadata": {},
   "outputs": [
    {
     "data": {
      "text/plain": [
       "[1, 2, 3, 4, 5, 6, 7, 8, 9, 10]"
      ]
     },
     "execution_count": 78,
     "metadata": {},
     "output_type": "execute_result"
    }
   ],
   "source": [
    "numbers"
   ]
  },
  {
   "cell_type": "code",
   "execution_count": 80,
   "id": "37c37805-552c-43dd-992d-0b262f37f539",
   "metadata": {},
   "outputs": [
    {
     "data": {
      "text/plain": [
       "[4, 5, 6, 7, 8]"
      ]
     },
     "execution_count": 80,
     "metadata": {},
     "output_type": "execute_result"
    }
   ],
   "source": [
    "numbers [3:8]"
   ]
  },
  {
   "cell_type": "code",
   "execution_count": null,
   "id": "403c5f44-a116-446d-a7d7-6fc89187d530",
   "metadata": {},
   "outputs": [],
   "source": []
  }
 ],
 "metadata": {
  "kernelspec": {
   "display_name": "Python 3 (ipykernel)",
   "language": "python",
   "name": "python3"
  },
  "language_info": {
   "codemirror_mode": {
    "name": "ipython",
    "version": 3
   },
   "file_extension": ".py",
   "mimetype": "text/x-python",
   "name": "python",
   "nbconvert_exporter": "python",
   "pygments_lexer": "ipython3",
   "version": "3.10.10"
  }
 },
 "nbformat": 4,
 "nbformat_minor": 5
}
