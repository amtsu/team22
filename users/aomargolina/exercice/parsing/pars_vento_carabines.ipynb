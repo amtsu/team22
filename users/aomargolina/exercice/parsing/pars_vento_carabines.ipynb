{
 "cells": [
  {
   "cell_type": "code",
   "execution_count": null,
   "id": "9a9cb0a4-9f7d-4291-b704-a9fa95e06c92",
   "metadata": {},
   "outputs": [],
   "source": [
    "http://vento.ru/catalog/alpinistskoe_snaryazhenie/kaski/"
   ]
  },
  {
   "cell_type": "code",
   "execution_count": 1,
   "id": "68c86aff-e322-4233-9f30-ce5148e6c9c2",
   "metadata": {},
   "outputs": [],
   "source": [
    "import requests\n",
    "from bs4 import BeautifulSoup\n",
    "import re\n",
    "import urllib\n",
    "from urllib.request import urlopen"
   ]
  },
  {
   "cell_type": "code",
   "execution_count": 2,
   "id": "19648944-3517-456c-b227-7a0269b5d901",
   "metadata": {},
   "outputs": [
    {
     "name": "stdout",
     "output_type": "stream",
     "text": [
      "Полная обвязка \"Детская универсальная\", размер 1 Цвет Голубой \n",
      "4 330 ₽\n",
      "Поясная беседка \"Xenon\" Размер S \n",
      "4 990 ₽\n",
      "Альпинистская беседка Argon F женская \n",
      "5 260 ₽\n",
      "Беседка \"Поясная детская\"\n",
      "2 390 ₽\n",
      "Обвязка \"Грудная модифицированная детская\"\n",
      "1 990 ₽\n",
      "Полная обвязка Универсальная Модифицированная\n",
      "4 590 ₽\n",
      "Поясная беседка Спелео\n",
      "2 670 ₽\n",
      "Поясная беседка Люкс\n",
      "3 100 ₽\n",
      "Поясная беседка Высота 004\n",
      "1 490 ₽\n",
      "Грудная обвязка Высота 001\n",
      "1 590 ₽\n",
      "Грудная обвязка модифицированная\n",
      "2 650 ₽\n",
      "Грудная обвязка бабочка регулируемая\n",
      "1 940 ₽\n",
      "Поясная беседка Стандарт\n",
      "2 190 ₽\n",
      "Грудная обвязка \"Бабочка\"\n",
      "690 ₽\n",
      "Альпинистская беседка Argon TOXIC \n",
      "4 920 ₽\n",
      "Поясная беседка Высота 008\n",
      "3 990 ₽\n",
      "Поясная беседка Высота 005\n",
      "1 990 ₽\n",
      "Грудная обвязка Высота 003\n",
      "990 ₽\n",
      "**************************************************\n",
      "Полная обвязка «Универсальная Стандарт»\n",
      "3 150 ₽\n",
      "Альпинистская беседка Krypton\n",
      "7 870 ₽\n",
      "Детская скалолазная беседка «Маугли»\n",
      "4 940 ₽\n",
      "Поясная беседка Panda\n",
      "Цена у менеджера\n",
      "**************************************************\n"
     ]
    }
   ],
   "source": [
    "for i in range(2):\n",
    "    url = \"http://vento.ru/catalog/alpinistskoe_snaryazhenie/strakhovochnye_sistemy_sportivnye_obvyazki/?PAGEN_1=\" + str(i+1)\n",
    "    response = urlopen(url)\n",
    "    html = response.read().decode(\"utf-8\")\n",
    "    soup = BeautifulSoup(html, 'html.parser')\n",
    "    items = soup.find_all('div', {'class': 'product-item'})\n",
    "    for item in items:\n",
    "        carabiner = item.find('a', {'class': 'product-item-image-wrapper'})\n",
    "        price = item.find('span', {'class': 'product-item-price-current'})\n",
    "        print(carabiner['title'])\n",
    "        print(price.text.strip())\n",
    "    print('*'*50)\n",
    "    "
   ]
  },
  {
   "cell_type": "code",
   "execution_count": null,
   "id": "a03fd84f-3ad6-4323-a951-f7c5ec1bb200",
   "metadata": {},
   "outputs": [],
   "source": []
  }
 ],
 "metadata": {
  "kernelspec": {
   "display_name": "Python 3 (ipykernel)",
   "language": "python",
   "name": "python3"
  },
  "language_info": {
   "codemirror_mode": {
    "name": "ipython",
    "version": 3
   },
   "file_extension": ".py",
   "mimetype": "text/x-python",
   "name": "python",
   "nbconvert_exporter": "python",
   "pygments_lexer": "ipython3",
   "version": "3.10.10"
  }
 },
 "nbformat": 4,
 "nbformat_minor": 5
}
