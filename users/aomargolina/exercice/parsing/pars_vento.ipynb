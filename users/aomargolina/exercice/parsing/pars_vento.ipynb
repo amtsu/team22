{
 "cells": [
  {
   "cell_type": "code",
   "execution_count": 1,
   "id": "dbf4c6be-461e-4d11-8c0f-77f8de961d06",
   "metadata": {},
   "outputs": [],
   "source": [
    "import requests\n",
    "from bs4 import BeautifulSoup\n",
    "import re\n",
    "import urllib\n",
    "from urllib.request import urlopen"
   ]
  },
  {
   "cell_type": "code",
   "execution_count": 2,
   "id": "52d14206-b35c-426d-bdd6-122ade006aab",
   "metadata": {},
   "outputs": [
    {
     "name": "stdout",
     "output_type": "stream",
     "text": [
      "Карабин \"Стальной Овал\" с байонетной муфтой\n",
      "1 190 ₽\n",
      "Карабин \"Ozone автомат\" с байонетной муфтой triple-lock \n",
      "1 390 ₽\n",
      "Карабин \"Ozone\" с прямой защелкой\n",
      "1 090 ₽\n",
      "Карабин «Chlorum» с муфтой keylock 24kN\n",
      "990 ₽\n",
      "Карабин вспомогательный \"Мини с вертлюгом\" с байонетной муфтой\n",
      "750 ₽\n",
      "Карабин \"Titanium автомат\" с байонетной муфтой triple-lock\n",
      "1 590 ₽\n",
      "Карабин \"Titanium\" с муфтой keylock\n",
      "1 390 ₽\n",
      "Карабин \"Helium\" с резьбовой муфтой\n",
      "1 490 ₽\n",
      "Карабин \"Titanium\" с резьбовой муфтой пином черный\n",
      "1 590 ₽\n",
      "Карабин \"Titanium\" с байонетной муфтой (оранжевый)\n",
      "1 390 ₽\n",
      "Карабин \"ГУСЬ автомат\" со сдвижной муфтой\n",
      "1 650 ₽\n",
      "Карабин ВЫСОТА 513 овал\n",
      "490 ₽\n",
      "Карабин \"Высота 512\" трапеция\n",
      "900 ₽\n",
      "Карабин «Oxygen» с гнутой защелкой keylock\n",
      "890 ₽\n",
      "Карабин \"Oxygen\" с муфтой \n",
      "990 ₽\n",
      "Карабин \"Ozone\" с байонетной муфтой\n",
      "1 390 ₽\n",
      "Карабин \"Ozone\" с муфтой \n",
      "1 290 ₽\n",
      "Карабин вспомогательный \"Мини\" с байонетной муфтой\n",
      "650 ₽\n",
      "**************************************************\n",
      "Карабин вспомогательный \"Мини\" с муфтой\n",
      "550 ₽\n",
      "Анкерное устройство «Карабин Парковый»\n",
      "3 040 ₽\n",
      "Карабин-рапид \"Dеlta 6\" нержавеющая сталь\n",
      "340 ₽\n",
      "Карабин «Гусь» с байонетной муфтой\n",
      "1 290 ₽\n",
      "Карабин «Гусь» с резьбовой муфтой\n",
      "1 190 ₽\n",
      "Карабин-рапид \"Dеlta 10 ss\" нж\n",
      "990 ₽\n",
      "Карабин «Chlorum автомат» с байонетной муфтой keylock\n",
      "1 190 ₽\n",
      "Карабин-рапид \"Вспомогательный 6мм\" стальной овальный, цинк\n",
      "90 ₽\n",
      "Карабин \"Овал\" с байонетной муфтой красный\n",
      "1 090 ₽\n",
      "Карабин «Oxygen» с прямой защелкой keylock\n",
      "890 ₽\n",
      "Карабин Скалолазный Oxygen  со скобой\n",
      "Цена у менеджера\n",
      "Карабин \"Скалолазный стальной\"\n",
      "Цена у менеджера\n",
      "Карабин «Light» со скобой, серый\n",
      "850 ₽\n",
      "Карабин вспомогательный \"Мини\"\n",
      "450 ₽\n",
      "Карабин \"Овал\" с муфтой красный\n",
      "990 ₽\n",
      "**************************************************\n"
     ]
    }
   ],
   "source": [
    "for i in range(2):\n",
    "    url = \"http://vento.ru/catalog/alpinistskoe_snaryazhenie/karabiny/\" + '?PAGEN_1=' + str(i+1)\n",
    "    response = urlopen(url)\n",
    "    html = response.read().decode(\"utf-8\")\n",
    "    soup = BeautifulSoup(html, 'html.parser')\n",
    "    items = soup.find_all('div', {'class': 'product-item'})\n",
    "    for item in items:\n",
    "        carabiner = item.find('a', {'class': 'product-item-image-wrapper'})\n",
    "        price = item.find('span', {'class': 'product-item-price-current'})\n",
    "        print(carabiner['title'])\n",
    "        print(price.text.strip())\n",
    "    print('*'*50)\n",
    "    "
   ]
  },
  {
   "cell_type": "code",
   "execution_count": null,
   "id": "6fe7cdb0-823f-453a-8673-e3b446efb01f",
   "metadata": {},
   "outputs": [],
   "source": []
  }
 ],
 "metadata": {
  "kernelspec": {
   "display_name": "Python 3 (ipykernel)",
   "language": "python",
   "name": "python3"
  },
  "language_info": {
   "codemirror_mode": {
    "name": "ipython",
    "version": 3
   },
   "file_extension": ".py",
   "mimetype": "text/x-python",
   "name": "python",
   "nbconvert_exporter": "python",
   "pygments_lexer": "ipython3",
   "version": "3.10.10"
  }
 },
 "nbformat": 4,
 "nbformat_minor": 5
}
