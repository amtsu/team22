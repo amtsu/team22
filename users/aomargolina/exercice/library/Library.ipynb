{
 "cells": [
  {
   "cell_type": "code",
   "execution_count": 1,
   "id": "86daa083-af19-4008-ab1a-e76e2d90cbdc",
   "metadata": {},
   "outputs": [],
   "source": [
    "class Book:\n",
    "    \n",
    "    def __init__(self, name, author, pages):\n",
    "        self.name = name\n",
    "        self.author = author\n",
    "        self.pages = pages\n",
    "         \n",
    "    #def count_pages(self):\n",
    "        #return self.pages    \n",
    "\n",
    "       \n",
    "#класс библиотека\n",
    "class Library():\n",
    "    \n",
    "    def __init__(self):\n",
    "        self.books = []\n",
    "       \n",
    "    def add_book(self, book):\n",
    "        self.books.append(book)\n",
    "    \n",
    "    def total_books(self):\n",
    "        return len(self.books)   \n",
    "\n",
    "    def avg_pages(self):\n",
    "        all_pages = []\n",
    "        for book in self.books:\n",
    "            all_pages.append(book.pages)\n",
    "        avg_pages = sum(all_pages) / self.total_books()\n",
    "        return avg_pages"
   ]
  },
  {
   "cell_type": "code",
   "execution_count": 2,
   "id": "a8aeeef0-cb36-414c-8631-b26d3855f81a",
   "metadata": {},
   "outputs": [],
   "source": [
    "def test_total_book():\n",
    "    book1 = Book('Name', 'Pushkin', 300)\n",
    "    book2 = Book('Name2', 'Tolstoi', 330)\n",
    "    books = [book1, book2]\n",
    "    \n",
    "    lib1 = Library()\n",
    "    lib1.add_book(book1)    \n",
    "    lib1.add_book(book2) \n",
    "        \n",
    "    assert lib1.total_books() == 2\n",
    "    \n",
    "test_total_book()"
   ]
  },
  {
   "cell_type": "code",
   "execution_count": 3,
   "id": "b18a86b8-f443-401d-9424-132d481b7828",
   "metadata": {},
   "outputs": [],
   "source": [
    " def test_avg_pages():\n",
    "    book1 = Book('Name', 'Pushkin', 300)\n",
    "    book2 = Book('Name2','Tolstoi', 330)\n",
    "    \n",
    "    lib1 = Library()\n",
    "    lib1.add_book(book1)    \n",
    "    lib1.add_book(book2) \n",
    "        \n",
    "    assert lib1.avg_pages() == 315\n",
    "     \n",
    "test_avg_pages()"
   ]
  },
  {
   "cell_type": "code",
   "execution_count": null,
   "id": "86602467-40bb-4e53-98a8-b924343b8a3a",
   "metadata": {},
   "outputs": [],
   "source": []
  },
  {
   "cell_type": "code",
   "execution_count": null,
   "id": "5f733828-6cdc-4306-948f-107f5a1d4457",
   "metadata": {},
   "outputs": [],
   "source": []
  },
  {
   "cell_type": "code",
   "execution_count": null,
   "id": "9a312001-311d-4c8e-93bd-61805e03875a",
   "metadata": {},
   "outputs": [],
   "source": []
  },
  {
   "cell_type": "code",
   "execution_count": null,
   "id": "4fccd3e2-2dda-40f7-b18e-cdf22042cdbb",
   "metadata": {},
   "outputs": [],
   "source": []
  },
  {
   "cell_type": "code",
   "execution_count": null,
   "id": "508b7756-987e-4e8f-93c3-dcf0a1c2d07b",
   "metadata": {},
   "outputs": [],
   "source": [
    "# 12 мая\n",
    "\n",
    "#поиск книг в библиотеке по названию,по автору, по жанру\n",
    "#организовать возможность учеты выдачи книг пользователю\n",
    "#выдача книг, не больше 5 книг на руки\n",
    "\n"
   ]
  }
 ],
 "metadata": {
  "kernelspec": {
   "display_name": "Python 3 (ipykernel)",
   "language": "python",
   "name": "python3"
  },
  "language_info": {
   "codemirror_mode": {
    "name": "ipython",
    "version": 3
   },
   "file_extension": ".py",
   "mimetype": "text/x-python",
   "name": "python",
   "nbconvert_exporter": "python",
   "pygments_lexer": "ipython3",
   "version": "3.10.10"
  }
 },
 "nbformat": 4,
 "nbformat_minor": 5
}
