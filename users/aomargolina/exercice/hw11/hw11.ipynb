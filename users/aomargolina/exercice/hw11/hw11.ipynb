{
 "cells": [
  {
   "cell_type": "code",
   "execution_count": null,
   "id": "65a86934-cc70-41d4-969f-92754538b37d",
   "metadata": {},
   "outputs": [],
   "source": [
    "Вывести английский алфавит в строку (подсказка - в английском алфавите 26 букв)\n",
    "\n"
   ]
  },
  {
   "cell_type": "code",
   "execution_count": 3,
   "id": "1eb7d448-94b8-4d37-b518-fd5b60ef7a03",
   "metadata": {},
   "outputs": [
    {
     "name": "stdout",
     "output_type": "stream",
     "text": [
      "abcdefghijklmnopqrstuvwxyz"
     ]
    }
   ],
   "source": [
    "for i in range(97, 123):\n",
    "    print(chr(i), end='')\n",
    "\n"
   ]
  },
  {
   "cell_type": "code",
   "execution_count": null,
   "id": "44b6f4ec-7248-4693-95db-e016b78ed6f3",
   "metadata": {},
   "outputs": [],
   "source": [
    "Cгенерировать все возможные комбинации строчных букв английского алфавита длиной два символа. \n",
    "Выведите сочетания для каждой буквы на 1 месте на отдельной строке.\n"
   ]
  },
  {
   "cell_type": "code",
   "execution_count": 28,
   "id": "d79e687d-d8c5-4586-abc8-07cb50df5821",
   "metadata": {},
   "outputs": [
    {
     "name": "stdout",
     "output_type": "stream",
     "text": [
      "aa ab ac ad ae af ag ah ai aj ak al am an ao ap aq ar as at au av aw ax ay az \n",
      "ba bb bc bd be bf bg bh bi bj bk bl bm bn bo bp bq br bs bt bu bv bw bx by bz \n",
      "ca cb cc cd ce cf cg ch ci cj ck cl cm cn co cp cq cr cs ct cu cv cw cx cy cz \n",
      "da db dc dd de df dg dh di dj dk dl dm dn do dp dq dr ds dt du dv dw dx dy dz \n",
      "ea eb ec ed ee ef eg eh ei ej ek el em en eo ep eq er es et eu ev ew ex ey ez \n",
      "fa fb fc fd fe ff fg fh fi fj fk fl fm fn fo fp fq fr fs ft fu fv fw fx fy fz \n",
      "ga gb gc gd ge gf gg gh gi gj gk gl gm gn go gp gq gr gs gt gu gv gw gx gy gz \n",
      "ha hb hc hd he hf hg hh hi hj hk hl hm hn ho hp hq hr hs ht hu hv hw hx hy hz \n",
      "ia ib ic id ie if ig ih ii ij ik il im in io ip iq ir is it iu iv iw ix iy iz \n",
      "ja jb jc jd je jf jg jh ji jj jk jl jm jn jo jp jq jr js jt ju jv jw jx jy jz \n",
      "ka kb kc kd ke kf kg kh ki kj kk kl km kn ko kp kq kr ks kt ku kv kw kx ky kz \n",
      "la lb lc ld le lf lg lh li lj lk ll lm ln lo lp lq lr ls lt lu lv lw lx ly lz \n",
      "ma mb mc md me mf mg mh mi mj mk ml mm mn mo mp mq mr ms mt mu mv mw mx my mz \n",
      "na nb nc nd ne nf ng nh ni nj nk nl nm nn no np nq nr ns nt nu nv nw nx ny nz \n",
      "oa ob oc od oe of og oh oi oj ok ol om on oo op oq or os ot ou ov ow ox oy oz \n",
      "pa pb pc pd pe pf pg ph pi pj pk pl pm pn po pp pq pr ps pt pu pv pw px py pz \n",
      "qa qb qc qd qe qf qg qh qi qj qk ql qm qn qo qp qq qr qs qt qu qv qw qx qy qz \n",
      "ra rb rc rd re rf rg rh ri rj rk rl rm rn ro rp rq rr rs rt ru rv rw rx ry rz \n",
      "sa sb sc sd se sf sg sh si sj sk sl sm sn so sp sq sr ss st su sv sw sx sy sz \n",
      "ta tb tc td te tf tg th ti tj tk tl tm tn to tp tq tr ts tt tu tv tw tx ty tz \n",
      "ua ub uc ud ue uf ug uh ui uj uk ul um un uo up uq ur us ut uu uv uw ux uy uz \n",
      "va vb vc vd ve vf vg vh vi vj vk vl vm vn vo vp vq vr vs vt vu vv vw vx vy vz \n",
      "wa wb wc wd we wf wg wh wi wj wk wl wm wn wo wp wq wr ws wt wu wv ww wx wy wz \n",
      "xa xb xc xd xe xf xg xh xi xj xk xl xm xn xo xp xq xr xs xt xu xv xw xx xy xz \n",
      "ya yb yc yd ye yf yg yh yi yj yk yl ym yn yo yp yq yr ys yt yu yv yw yx yy yz \n",
      "za zb zc zd ze zf zg zh zi zj zk zl zm zn zo zp zq zr zs zt zu zv zw zx zy zz \n"
     ]
    }
   ],
   "source": [
    "#тут решение комбинации двух символов\n",
    "#пример: 1 строка aa ab ...\n",
    "#пример: 2 строка ba bb ...\n",
    "for i in range(97, 123):\n",
    "    for j in range(97, 123):\n",
    "        print(chr(i) + chr(j), end=' ')\n",
    "    print('')\n",
    "            "
   ]
  },
  {
   "cell_type": "code",
   "execution_count": 1,
   "id": "28a57a89-9d31-4d3f-bdec-cbb912c81ed9",
   "metadata": {},
   "outputs": [],
   "source": [
    "#тест"
   ]
  },
  {
   "cell_type": "code",
   "execution_count": null,
   "id": "44d50664-f8f3-4b01-837e-e3e22edd56dd",
   "metadata": {},
   "outputs": [],
   "source": [
    "Cгенерировать последовательно двухбуквенные строки по алфавиту до строки «mf».\n"
   ]
  },
  {
   "cell_type": "code",
   "execution_count": 35,
   "id": "38e8b7d5-e272-40ae-aad8-690a1d70fd6e",
   "metadata": {},
   "outputs": [
    {
     "name": "stdout",
     "output_type": "stream",
     "text": [
      "aa ab ac ad ae af ag ah ai aj ak al am an ao ap aq ar as at au av aw ax ay az \n",
      "ba bb bc bd be bf bg bh bi bj bk bl bm bn bo bp bq br bs bt bu bv bw bx by bz \n",
      "ca cb cc cd ce cf cg ch ci cj ck cl cm cn co cp cq cr cs ct cu cv cw cx cy cz \n",
      "da db dc dd de df dg dh di dj dk dl dm dn do dp dq dr ds dt du dv dw dx dy dz \n",
      "ea eb ec ed ee ef eg eh ei ej ek el em en eo ep eq er es et eu ev ew ex ey ez \n",
      "fa fb fc fd fe ff fg fh fi fj fk fl fm fn fo fp fq fr fs ft fu fv fw fx fy fz \n",
      "ga gb gc gd ge gf gg gh gi gj gk gl gm gn go gp gq gr gs gt gu gv gw gx gy gz \n",
      "ha hb hc hd he hf hg hh hi hj hk hl hm hn ho hp hq hr hs ht hu hv hw hx hy hz \n",
      "ia ib ic id ie if ig ih ii ij ik il im in io ip iq ir is it iu iv iw ix iy iz \n",
      "ja jb jc jd je jf jg jh ji jj jk jl jm jn jo jp jq jr js jt ju jv jw jx jy jz \n",
      "ka kb kc kd ke kf kg kh ki kj kk kl km kn ko kp kq kr ks kt ku kv kw kx ky kz \n",
      "la lb lc ld le lf lg lh li lj lk ll lm ln lo lp lq lr ls lt lu lv lw lx ly lz \n",
      "ma mb mc md me mf "
     ]
    }
   ],
   "source": [
    "#тут решение комбинации двух символов до mf\n",
    "for i in range(97, 109):\n",
    "    for j in range(97, 123):\n",
    "        print(chr(i) + chr(j), end=' ')\n",
    "    print('')\n",
    "\n",
    "for j in range(97, 103):\n",
    "    print(chr(109) + chr(j), end=' ')\n",
    "        \n",
    "\n"
   ]
  },
  {
   "cell_type": "code",
   "execution_count": null,
   "id": "f2d6cd02-cc3e-490e-90ec-5757537db303",
   "metadata": {},
   "outputs": [],
   "source": [
    "Cгенерировать все возможные комбинации строчных букв английского алфавита длиной два символа, \n",
    "но не выводить комбинации с одинаковыми буквами («aa», «bb» и т. д.):\n"
   ]
  },
  {
   "cell_type": "code",
   "execution_count": 38,
   "id": "8921a329-2bc3-4319-995d-8832c5b3c243",
   "metadata": {},
   "outputs": [
    {
     "name": "stdout",
     "output_type": "stream",
     "text": [
      "ab ac ad ae af ag ah ai aj ak al am an ao ap aq ar as at au av aw ax ay az \n",
      "ba bc bd be bf bg bh bi bj bk bl bm bn bo bp bq br bs bt bu bv bw bx by bz \n",
      "ca cb cd ce cf cg ch ci cj ck cl cm cn co cp cq cr cs ct cu cv cw cx cy cz \n",
      "da db dc de df dg dh di dj dk dl dm dn do dp dq dr ds dt du dv dw dx dy dz \n",
      "ea eb ec ed ef eg eh ei ej ek el em en eo ep eq er es et eu ev ew ex ey ez \n",
      "fa fb fc fd fe fg fh fi fj fk fl fm fn fo fp fq fr fs ft fu fv fw fx fy fz \n",
      "ga gb gc gd ge gf gh gi gj gk gl gm gn go gp gq gr gs gt gu gv gw gx gy gz \n",
      "ha hb hc hd he hf hg hi hj hk hl hm hn ho hp hq hr hs ht hu hv hw hx hy hz \n",
      "ia ib ic id ie if ig ih ij ik il im in io ip iq ir is it iu iv iw ix iy iz \n",
      "ja jb jc jd je jf jg jh ji jk jl jm jn jo jp jq jr js jt ju jv jw jx jy jz \n",
      "ka kb kc kd ke kf kg kh ki kj kl km kn ko kp kq kr ks kt ku kv kw kx ky kz \n",
      "la lb lc ld le lf lg lh li lj lk lm ln lo lp lq lr ls lt lu lv lw lx ly lz \n",
      "ma mb mc md me mf mg mh mi mj mk ml mn mo mp mq mr ms mt mu mv mw mx my mz \n",
      "na nb nc nd ne nf ng nh ni nj nk nl nm no np nq nr ns nt nu nv nw nx ny nz \n",
      "oa ob oc od oe of og oh oi oj ok ol om on op oq or os ot ou ov ow ox oy oz \n",
      "pa pb pc pd pe pf pg ph pi pj pk pl pm pn po pq pr ps pt pu pv pw px py pz \n",
      "qa qb qc qd qe qf qg qh qi qj qk ql qm qn qo qp qr qs qt qu qv qw qx qy qz \n",
      "ra rb rc rd re rf rg rh ri rj rk rl rm rn ro rp rq rs rt ru rv rw rx ry rz \n",
      "sa sb sc sd se sf sg sh si sj sk sl sm sn so sp sq sr st su sv sw sx sy sz \n",
      "ta tb tc td te tf tg th ti tj tk tl tm tn to tp tq tr ts tu tv tw tx ty tz \n",
      "ua ub uc ud ue uf ug uh ui uj uk ul um un uo up uq ur us ut uv uw ux uy uz \n",
      "va vb vc vd ve vf vg vh vi vj vk vl vm vn vo vp vq vr vs vt vu vw vx vy vz \n",
      "wa wb wc wd we wf wg wh wi wj wk wl wm wn wo wp wq wr ws wt wu wv wx wy wz \n",
      "xa xb xc xd xe xf xg xh xi xj xk xl xm xn xo xp xq xr xs xt xu xv xw xy xz \n",
      "ya yb yc yd ye yf yg yh yi yj yk yl ym yn yo yp yq yr ys yt yu yv yw yx yz \n",
      "za zb zc zd ze zf zg zh zi zj zk zl zm zn zo zp zq zr zs zt zu zv zw zx zy \n"
     ]
    }
   ],
   "source": [
    "#тут решение комбинации двух символов без дублей\n",
    "for i in range(97, 123):\n",
    "    for j in range(97, 123):\n",
    "        if i != j:\n",
    "            print(chr(i) + chr(j), end=' ')\n",
    "    print('')"
   ]
  },
  {
   "cell_type": "code",
   "execution_count": 1,
   "id": "71d694b0-eb95-49be-bfec-2050c203aa3d",
   "metadata": {},
   "outputs": [
    {
     "data": {
      "text/plain": [
       "'Напишите две функции: caesar_crypt(key) одна будет шифровать введенный ей через input() текст шифром Цезаря.\\nДругая расшифровывать caesar_decrypt(key). Аргумент функций - цифра сдвига для кодировки.\\nШифр Цeзаря (шифр сдвига, код Цезаря) – такой простой вид шифрования текста, при котором все символы в тексте заменяются символами, \\nсдвинутыми по алфавиту на правее или левее на постоянное количество позиций. \\nНапример, при сдвиге на 1 буква А заменяется на Б, Б на В и т.д'"
      ]
     },
     "execution_count": 1,
     "metadata": {},
     "output_type": "execute_result"
    }
   ],
   "source": [
    "'''Напишите две функции: caesar_crypt(key) одна будет шифровать введенный ей через input() текст шифром Цезаря.\n",
    "Другая расшифровывать caesar_decrypt(key). Аргумент функций - цифра сдвига для кодировки.\n",
    "\n",
    "Шифр Цeзаря (шифр сдвига, код Цезаря) – такой простой вид шифрования текста, при котором все символы в тексте заменяются символами, \n",
    "сдвинутыми по алфавиту на правее или левее на постоянное количество позиций. \n",
    "Например, при сдвиге на 1 буква А заменяется на Б, Б на В и т.д'''\n",
    "\n"
   ]
  },
  {
   "cell_type": "code",
   "execution_count": 2,
   "id": "dfbccf22-9e0a-4dd0-a662-e18aa0d6cca7",
   "metadata": {},
   "outputs": [],
   "source": [
    "#тут решение шифр цезар"
   ]
  },
  {
   "cell_type": "code",
   "execution_count": 55,
   "id": "f8f08af5-689d-4328-88c4-22fb1b63f5fb",
   "metadata": {},
   "outputs": [
    {
     "name": "stdin",
     "output_type": "stream",
     "text": [
      " aabbcc\n"
     ]
    },
    {
     "name": "stdout",
     "output_type": "stream",
     "text": [
      "bbccdd\n"
     ]
    },
    {
     "name": "stdin",
     "output_type": "stream",
     "text": [
      " aa-bb+cc!\n"
     ]
    },
    {
     "name": "stdout",
     "output_type": "stream",
     "text": [
      "bb.cc,dd\"\n"
     ]
    }
   ],
   "source": [
    "#мое решение\n",
    "def caesar_crypt(key):\n",
    "    text = input()\n",
    "    text_list = list(text)\n",
    "    new_text = []\n",
    "    for i in text_list:\n",
    "        new_text.append(chr(ord(i) + 1))\n",
    "    print(''.join(new_text))\n",
    "\n",
    "caesar_crypt(1)\n",
    "caesar_crypt(2)"
   ]
  },
  {
   "cell_type": "code",
   "execution_count": 11,
   "id": "88dd95b4-aceb-4f6c-b04b-1b18a221785f",
   "metadata": {},
   "outputs": [
    {
     "data": {
      "text/plain": [
       "'bbb!ccc!ddd'"
      ]
     },
     "execution_count": 11,
     "metadata": {},
     "output_type": "execute_result"
    }
   ],
   "source": [
    "#решение профи (Егора)\n",
    "\"\".join(chr(ord(i) + 1) for i in \"aaa bbb ccc\")"
   ]
  },
  {
   "cell_type": "code",
   "execution_count": 23,
   "id": "f461b608-84cf-4ed5-b8e5-c155b2e91209",
   "metadata": {},
   "outputs": [],
   "source": [
    "def caesar_decrypt(key):\n",
    "    text = input()\n",
    "    text_list = list(text)\n",
    "    new_text = []\n",
    "    for i in text_list:\n",
    "        new_text.append(chr(ord(i) - key))\n",
    "    print(''.join(new_text))"
   ]
  },
  {
   "cell_type": "code",
   "execution_count": 28,
   "id": "a791d72b-5455-4a09-8c83-e3241e460cec",
   "metadata": {},
   "outputs": [
    {
     "name": "stdin",
     "output_type": "stream",
     "text": [
      " bbb\n"
     ]
    },
    {
     "name": "stdout",
     "output_type": "stream",
     "text": [
      "aaa\n"
     ]
    },
    {
     "name": "stdin",
     "output_type": "stream",
     "text": [
      " ccc\n"
     ]
    },
    {
     "name": "stdout",
     "output_type": "stream",
     "text": [
      "aaa\n"
     ]
    }
   ],
   "source": [
    "caesar_decrypt(1)\n",
    "caesar_decrypt(2)"
   ]
  },
  {
   "cell_type": "raw",
   "id": "407c85e8-4390-485c-a78e-7aacb5ddb861",
   "metadata": {},
   "source": [
    "2. f-string\n",
    "   Чтобы задать f-строку, необходимо поставить букву f перед открывающей кавычкой строки. Далее f-строка записывается как единое целое, с учётом правил её форматирования, и закрывается соответствующей кавычкой\n",
    "\n",
    "Немного теории можно прочитать на нашей wiki - https://github.com/amtsu/team22/wiki/Python:-Вывод-данных-в-консоль\n",
    "\n",
    "\n",
    "   "
   ]
  },
  {
   "cell_type": "code",
   "execution_count": 33,
   "id": "8dc89dcf-d97f-44b4-8393-0f964e45c0f3",
   "metadata": {},
   "outputs": [
    {
     "name": "stdout",
     "output_type": "stream",
     "text": [
      "Добрый день, Пользователь.\n"
     ]
    }
   ],
   "source": [
    "#пример\n",
    "name = \"Пользователь\"\n",
    "print(f\"Добрый день, {name}.\")"
   ]
  },
  {
   "cell_type": "raw",
   "id": "4120a1c3-b878-4f6d-97f8-31187a75b239",
   "metadata": {},
   "source": [
    "Вывести трегуольник паскаля в красивом виде. В этом треугольнике на вершине и по бокам стоят единицы. Каждое число равно сумме двух расположенных над ним чисел. Строки треугольника симметричны относительно вертикальной оси. (не использовать многострочное форматирование)\n",
    "\n"
   ]
  },
  {
   "cell_type": "code",
   "execution_count": 76,
   "id": "e3a70885-c6ca-4247-ae66-78e327f455d7",
   "metadata": {},
   "outputs": [
    {
     "name": "stdout",
     "output_type": "stream",
     "text": [
      "['      ', 1]\n",
      "['     ', 1, 1]\n",
      "['    ', 1, 1, 1]\n",
      "['   ', 1, 1, 1, 1]\n",
      "['  ', 1, 1, 1, 1, 1]\n",
      "[' ', 1, 1, 1, 1, 1, 1]\n",
      "['', 1, 1, 1, 1, 1, 1, 1]\n"
     ]
    }
   ],
   "source": [
    "n = 6\n",
    "trg = []\n",
    "for i in range (0, n+1):\n",
    "    row = [1] * (i+1)\n",
    "    row = [' ' * (n - i)] + row\n",
    "    #for j in range (i+1):\n",
    "       # if j != 0 and j != i:\n",
    "            #row[j] = trg[i - 1][j - 1] + trg[i - 1][j]\n",
    "    trg.append(row)\n",
    "    \n",
    "    \n",
    "print (*trg,sep='\\n')\n",
    "    "
   ]
  },
  {
   "cell_type": "code",
   "execution_count": 77,
   "id": "1db092d7-3427-4861-8552-0f1208d6ad4d",
   "metadata": {},
   "outputs": [
    {
     "name": "stdout",
     "output_type": "stream",
     "text": [
      "                       [1]                        \n",
      "                      [1, 1]                      \n",
      "                    [1, 2, 1]                     \n",
      "                   [1, 3, 3, 1]                   \n",
      "                 [1, 4, 6, 4, 1]                  \n",
      "               [1, 5, 10, 10, 5, 1]               \n",
      "             [1, 6, 15, 20, 15, 6, 1]             \n",
      "           [1, 7, 21, 35, 35, 21, 7, 1]           \n",
      "         [1, 8, 28, 56, 70, 56, 28, 8, 1]         \n",
      "      [1, 9, 36, 84, 126, 126, 84, 36, 9, 1]      \n"
     ]
    }
   ],
   "source": [
    "def current_row(n):\n",
    "    row=list()\n",
    "    for i in range(n):\n",
    "        if i==0 or i==n-1:\n",
    "            row.append(1)\n",
    "        else:\n",
    "            c_row=current_row(n-1)\n",
    "            row.append(c_row[i-1]+c_row[i])\n",
    "    return row\n",
    "\n",
    "def triangle(m):\n",
    "    result=list()\n",
    "    for i in range(m):\n",
    "        result.append(current_row(i+1))\n",
    "    ### beautify\n",
    "    for j in result:\n",
    "        print(\"{:^50s}\".format(str(j)))\n",
    "triangle(10)"
   ]
  },
  {
   "cell_type": "code",
   "execution_count": null,
   "id": "6aa916f5-c9fa-4315-a3bb-1ee8c7649525",
   "metadata": {},
   "outputs": [],
   "source": [
    "Напишите функцию file_merge(file_1, file_2), которая будет принимать на вход два файла \n",
    "и выводить из них строки поочерди \n",
    "(то есть в начале 1 строка 1 файла, потом 1 строка 2 файла и тд)"
   ]
  },
  {
   "cell_type": "code",
   "execution_count": null,
   "id": "fb7c8dc9-d9fa-4357-baca-133dad139a5d",
   "metadata": {},
   "outputs": [],
   "source": [
    "file = open('languages.txt', 'r', encoding='utf-8')\n",
    "\n",
    "line = file.readline()         # считываем первую строку\n",
    "\n",
    "while line != '':              # пока не конец файла\n",
    "    print(line.strip())        # обрабатываем считанную строку\n",
    "    line = file.readline()     # читаем новую строку\n",
    "\n",
    "file.close()"
   ]
  },
  {
   "cell_type": "code",
   "execution_count": null,
   "id": "b5d6537f-a6ec-4c99-b708-a40c522cd921",
   "metadata": {},
   "outputs": [],
   "source": []
  },
  {
   "cell_type": "code",
   "execution_count": 1,
   "id": "22007d09-2e26-475a-b6d4-8e01426792d9",
   "metadata": {},
   "outputs": [
    {
     "name": "stdout",
     "output_type": "stream",
     "text": [
      "True\n",
      "1 4 9 16 25\n",
      "True\n",
      "1 4 9 16 25\n"
     ]
    }
   ],
   "source": [
    "#ячейка-раз\n",
    "numbers = [1,2,3,4,5]\n",
    "squared_numbers = [number**2 for number in numbers]\n",
    "print(4 in squared_numbers)\n",
    "print(*squared_numbers)\n",
    "print(4 in squared_numbers)\n",
    "print(*squared_numbers)"
   ]
  },
  {
   "cell_type": "code",
   "execution_count": null,
   "id": "115a842a-0513-4ddf-b961-a335ddb50010",
   "metadata": {},
   "outputs": [],
   "source": []
  },
  {
   "cell_type": "code",
   "execution_count": 3,
   "id": "2663e34b-5fb1-4906-ba5e-e58eade0c963",
   "metadata": {},
   "outputs": [
    {
     "name": "stdout",
     "output_type": "stream",
     "text": [
      "<generator object <genexpr> at 0x7fc21c2b3680>\n",
      "True\n",
      "False\n"
     ]
    }
   ],
   "source": [
    "#ячейка-два\n",
    "numbers = [1,2,3,4,5]\n",
    "squared_numbers = (number**2 for number in numbers)\n",
    "print(squared_numbers)\n",
    "print(4 in squared_numbers)\n",
    "print(4 in squared_numbers)"
   ]
  },
  {
   "cell_type": "code",
   "execution_count": null,
   "id": "be69b56b-4f47-447f-8461-43c6d95b7a34",
   "metadata": {},
   "outputs": [],
   "source": [
    "#ячейка-три\n",
    "numbers = [1,2,3,4,5]\n",
    "squared_numbers = (number**2 for number in numbers)\n",
    "print(*squared_numbers)\n",
    "print(*squared_numbers)\n",
    "1 4 9 16 25"
   ]
  },
  {
   "cell_type": "code",
   "execution_count": null,
   "id": "1c944c33-1045-4491-abbe-88866b387ee7",
   "metadata": {},
   "outputs": [],
   "source": [
    "#ячейка-четыре\n",
    "numbers = [1,2,3,4,5]\n",
    "squared_numbers = (number**2 for number in numbers)\n",
    "print(4 in squared_numbers)\n",
    "print(*squared_numbers)"
   ]
  }
 ],
 "metadata": {
  "kernelspec": {
   "display_name": "Python 3 (ipykernel)",
   "language": "python",
   "name": "python3"
  },
  "language_info": {
   "codemirror_mode": {
    "name": "ipython",
    "version": 3
   },
   "file_extension": ".py",
   "mimetype": "text/x-python",
   "name": "python",
   "nbconvert_exporter": "python",
   "pygments_lexer": "ipython3",
   "version": "3.10.10"
  }
 },
 "nbformat": 4,
 "nbformat_minor": 5
}
