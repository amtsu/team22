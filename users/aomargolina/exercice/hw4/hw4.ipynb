{
 "cells": [
  {
   "cell_type": "code",
   "execution_count": 4,
   "id": "e68a11b8-fe45-4b09-b38c-063bf570c03d",
   "metadata": {},
   "outputs": [
    {
     "name": "stdout",
     "output_type": "stream",
     "text": [
      "[1, 2, 3, 4, 5, 6, 9]\n",
      "[1, 2, 3, 4, 5, 6, 9, 789]\n"
     ]
    }
   ],
   "source": [
    "list_one = [1, 2, 3, 4, 5, 6, 9]\n",
    "list_two = [1, 2, 3, 4, 5, 6, 9]\n",
    "list_two.append(789)\n",
    "print(list_one, list_two, sep='\\n')"
   ]
  },
  {
   "cell_type": "code",
   "execution_count": 5,
   "id": "6fe96487-592f-45db-a66c-29bc3e3618a5",
   "metadata": {},
   "outputs": [
    {
     "name": "stdout",
     "output_type": "stream",
     "text": [
      "[1, 2, 3, 4, 5, 6, 9, 789]\n",
      "[1, 2, 3, 4, 5, 6, 9, 789]\n"
     ]
    }
   ],
   "source": [
    "list_one = [1, 2, 3, 4, 5, 6, 9]\n",
    "list_two = list_one\n",
    "list_two.append(789)\n",
    "print(list_one, list_two, sep='\\n')"
   ]
  },
  {
   "cell_type": "code",
   "execution_count": 1,
   "id": "cc505688-7dbb-403f-a3e6-9efe99deeefa",
   "metadata": {},
   "outputs": [
    {
     "name": "stdout",
     "output_type": "stream",
     "text": [
      "в первом случае мы создаем два разных списка и изменяем только второй; \n",
      "во втором варианте мы создаем один список и два разных указателя на него, поэтому при изменении одного - изменяется и второй)\n"
     ]
    }
   ],
   "source": [
    "difference_explanation = '''в первом случае мы создаем два разных списка и изменяем только второй; \n",
    "во втором варианте мы создаем один список и два разных указателя на него, поэтому при изменении одного - изменяется и второй)'''\n",
    "print (difference_explanation)\n"
   ]
  },
  {
   "cell_type": "code",
   "execution_count": null,
   "id": "26a07d25-b49f-42d1-b11c-fe3eeae0503d",
   "metadata": {},
   "outputs": [],
   "source": [
    "Задание 2. Задайте переменную a_poem типа строка, со следующим содержимым: \n",
    "За стеклом лежал Питон,\n",
    "Большой и толстый, как батон.\n",
    "Вверх пополз,\n",
    "Затем вернулся,\n",
    "Круглым бубликом свернулся.\n",
    "\n",
    "Создайте переменную a_list типа список, заполнив ее содержимым строки a_poem так, чтобы каждый символ строки a_poem стал отдельным элементом списка a_list\n",
    "Создайте переменную another_list типа список, заполнив ее содержимым строки a_poem так, чтобы каждое слово строки a_poem стал отдельным элементом списка another_list. Знаки препинания прилипнут к словам, не страшно.\n",
    "Выведите на экран элементы и их количество для списков a_list и another_list.\n",
    "Создайте переменную one_more_list типа список, каждым элементом которой является отдельная строка строфы из a_poem. Выведите на экран элементы one_more_list и их количество.\n"
   ]
  },
  {
   "cell_type": "code",
   "execution_count": 78,
   "id": "ef1acab9-631b-43a1-95fc-48b21558120f",
   "metadata": {},
   "outputs": [],
   "source": [
    "a_poem = '''За стеклом лежал Питон,\n",
    "Большой и толстый, как батон.\n",
    "Вверх пополз,\n",
    "Затем вернулся,\n",
    "Круглым бубликом свернулся.'''"
   ]
  },
  {
   "cell_type": "code",
   "execution_count": 79,
   "id": "84738fc4-861e-4304-8f63-a08fd25973d1",
   "metadata": {},
   "outputs": [
    {
     "data": {
      "text/plain": [
       "str"
      ]
     },
     "execution_count": 79,
     "metadata": {},
     "output_type": "execute_result"
    }
   ],
   "source": [
    "type (a_poem)"
   ]
  },
  {
   "cell_type": "code",
   "execution_count": 82,
   "id": "00631be3-4bb9-403a-a241-c175c28e3179",
   "metadata": {},
   "outputs": [
    {
     "name": "stdout",
     "output_type": "stream",
     "text": [
      "За стеклом лежал Питон,\n",
      "Большой и толстый, как батон.\n",
      "Вверх пополз,\n",
      "Затем вернулся,\n",
      "Круглым бубликом свернулся.\n"
     ]
    }
   ],
   "source": [
    "print(a_poem)"
   ]
  },
  {
   "cell_type": "code",
   "execution_count": 80,
   "id": "0737cb6d-388f-4e88-88c1-e7a71d19c5b3",
   "metadata": {},
   "outputs": [],
   "source": [
    "#Создайте переменную another_list типа список, заполнив ее содержимым строки a_poem так, чтобы каждое слово строки a_poem стал отдельным элементом списка another_list. Знаки препинания прилипнут к словам, не страшно."
   ]
  },
  {
   "cell_type": "code",
   "execution_count": 83,
   "id": "a105d41b-108f-41ab-aca6-bb81acebd4b0",
   "metadata": {},
   "outputs": [],
   "source": [
    "a_list = list(a_poem)"
   ]
  },
  {
   "cell_type": "code",
   "execution_count": 84,
   "id": "8b582131-6118-42c9-b27e-55b5d5f98502",
   "metadata": {},
   "outputs": [
    {
     "name": "stdout",
     "output_type": "stream",
     "text": [
      "['З', 'а', ' ', 'с', 'т', 'е', 'к', 'л', 'о', 'м', ' ', 'л', 'е', 'ж', 'а', 'л', ' ', 'П', 'и', 'т', 'о', 'н', ',', '\\n', 'Б', 'о', 'л', 'ь', 'ш', 'о', 'й', ' ', 'и', ' ', 'т', 'о', 'л', 'с', 'т', 'ы', 'й', ',', ' ', 'к', 'а', 'к', ' ', 'б', 'а', 'т', 'о', 'н', '.', '\\n', 'В', 'в', 'е', 'р', 'х', ' ', 'п', 'о', 'п', 'о', 'л', 'з', ',', '\\n', 'З', 'а', 'т', 'е', 'м', ' ', 'в', 'е', 'р', 'н', 'у', 'л', 'с', 'я', ',', '\\n', 'К', 'р', 'у', 'г', 'л', 'ы', 'м', ' ', 'б', 'у', 'б', 'л', 'и', 'к', 'о', 'м', ' ', 'с', 'в', 'е', 'р', 'н', 'у', 'л', 'с', 'я', '.']\n"
     ]
    }
   ],
   "source": [
    "print(a_list)"
   ]
  },
  {
   "cell_type": "code",
   "execution_count": null,
   "id": "3b1e1b2a-13ee-4f04-bc14-bad29de65674",
   "metadata": {},
   "outputs": [],
   "source": [
    "#Создайте переменную another_list типа список, заполнив ее содержимым строки a_poem так, чтобы каждое слово строки a_poem стал отдельным элементом списка another_list. Знаки препинания прилипнут к словам, не страшно."
   ]
  },
  {
   "cell_type": "code",
   "execution_count": 31,
   "id": "33690e02-4e5e-42d6-8114-b0836922525d",
   "metadata": {},
   "outputs": [],
   "source": [
    "another_list = a_poem.replace('\\n', '').split(' ')"
   ]
  },
  {
   "cell_type": "code",
   "execution_count": 32,
   "id": "5a5bcbb9-0f94-4bc7-b585-ecf37f5cac51",
   "metadata": {},
   "outputs": [
    {
     "name": "stdout",
     "output_type": "stream",
     "text": [
      "['За', 'стеклом', 'лежал', 'Питон,Большой', 'и', 'толстый,', 'как', 'батон.Вверх', 'пополз,Затем', 'вернулся,Круглым', 'бубликом', 'свернулся.']\n"
     ]
    }
   ],
   "source": [
    "print (another_list)"
   ]
  },
  {
   "cell_type": "code",
   "execution_count": 33,
   "id": "bd6d30f5-afbd-4d79-913d-cf2a17b95c93",
   "metadata": {},
   "outputs": [],
   "source": [
    "#import re\n",
    "#another_list = re.split('\\n| ',a_poem)\n",
    "#print (another_list)"
   ]
  },
  {
   "cell_type": "code",
   "execution_count": 34,
   "id": "26b87c31-c57d-4774-9ec6-c9366616c711",
   "metadata": {},
   "outputs": [],
   "source": [
    "#Выведите на экран элементы и их количество для списков a_list и another_list.\n"
   ]
  },
  {
   "cell_type": "code",
   "execution_count": 35,
   "id": "37b3b9c6-5423-4250-be1f-9b88371f3e01",
   "metadata": {},
   "outputs": [
    {
     "name": "stdout",
     "output_type": "stream",
     "text": [
      "['З', 'а', ' ', 'с', 'т', 'е', 'к', 'л', 'о', 'м', ' ', 'л', 'е', 'ж', 'а', 'л', ' ', 'П', 'и', 'т', 'о', 'н', ',', '\\n', 'Б', 'о', 'л', 'ь', 'ш', 'о', 'й', ' ', 'и', ' ', 'т', 'о', 'л', 'с', 'т', 'ы', 'й', ',', ' ', 'к', 'а', 'к', ' ', 'б', 'а', 'т', 'о', 'н', '.', '\\n', 'В', 'в', 'е', 'р', 'х', ' ', 'п', 'о', 'п', 'о', 'л', 'з', ',', '\\n', 'З', 'а', 'т', 'е', 'м', ' ', 'в', 'е', 'р', 'н', 'у', 'л', 'с', 'я', ',', '\\n', 'К', 'р', 'у', 'г', 'л', 'ы', 'м', ' ', 'б', 'у', 'б', 'л', 'и', 'к', 'о', 'м', ' ', 'с', 'в', 'е', 'р', 'н', 'у', 'л', 'с', 'я', '.']\n",
      "111\n",
      "['За', 'стеклом', 'лежал', 'Питон,Большой', 'и', 'толстый,', 'как', 'батон.Вверх', 'пополз,Затем', 'вернулся,Круглым', 'бубликом', 'свернулся.']\n"
     ]
    },
    {
     "data": {
      "text/plain": [
       "12"
      ]
     },
     "execution_count": 35,
     "metadata": {},
     "output_type": "execute_result"
    }
   ],
   "source": [
    "print(a_list)\n",
    "len_a_list = len(a_list)\n",
    "print(len_a_list)\n",
    "print(another_list)\n",
    "len(another_list)"
   ]
  },
  {
   "cell_type": "code",
   "execution_count": null,
   "id": "dcd5cbe0-0e1e-496e-82ff-7825226f6730",
   "metadata": {},
   "outputs": [],
   "source": [
    "#Создайте переменную one_more_list типа список, каждым элементом которой является отдельная строка строфы из a_poem. Выведите на экран элементы one_more_list и их количество."
   ]
  },
  {
   "cell_type": "code",
   "execution_count": 42,
   "id": "0bdce811-f07c-439b-8dd1-53c4aa97122c",
   "metadata": {},
   "outputs": [
    {
     "name": "stdout",
     "output_type": "stream",
     "text": [
      "['За стеклом лежал Питон,', 'Большой и толстый, как батон.', 'Вверх пополз,', 'Затем вернулся,', 'Круглым бубликом свернулся.']\n"
     ]
    },
    {
     "data": {
      "text/plain": [
       "5"
      ]
     },
     "execution_count": 42,
     "metadata": {},
     "output_type": "execute_result"
    }
   ],
   "source": [
    "one_more_list = a_poem.split('\\n')\n",
    "print(one_more_list)\n",
    "len(one_more_list)"
   ]
  },
  {
   "cell_type": "code",
   "execution_count": null,
   "id": "47b4c8ed-09e4-4f8c-996e-b3e777840145",
   "metadata": {},
   "outputs": [],
   "source": [
    "Задание 3.\n",
    "\n",
    "Создайте список solyanka_list, в качестве его элементов добавьте значения каждого из известных вам типов данных python.\n",
    "Выведите на экран содержимое списка solyanka_list.\n",
    "Посчитайте количество элементов списка solyanka_list.\n",
    "Выведите на экран тип пятого от начала списка элемента.\n",
    "Добавьте в конец списка solyanka_list элемент типа \"список\" из одного элемента\n",
    "Выведите на экран тип последнего элемента списка solyanka_list"
   ]
  },
  {
   "cell_type": "code",
   "execution_count": 14,
   "id": "f4efba7e-986a-4af0-9686-330a5ce57ce2",
   "metadata": {},
   "outputs": [],
   "source": [
    "solyanka_list = ['str', 10, 1.5, [2,3, 'apple'], (4, 5, 'cat'), {1,2,'set'}, {1: \"str\", \"page\": 22}, True]"
   ]
  },
  {
   "cell_type": "code",
   "execution_count": null,
   "id": "7bb12c9d-3726-4922-8d62-61bb7edcda87",
   "metadata": {},
   "outputs": [],
   "source": [
    "#Выведите на экран содержимое списка solyanka_list."
   ]
  },
  {
   "cell_type": "code",
   "execution_count": 15,
   "id": "95cebaee-7a11-425d-9a32-3c6445fbf267",
   "metadata": {},
   "outputs": [
    {
     "name": "stdout",
     "output_type": "stream",
     "text": [
      "['str', 10, 1.5, [2, 3, 'apple'], (4, 5, 'cat'), {1, 2, 'set'}, {1: 'str', 'page': 22}, True]\n"
     ]
    }
   ],
   "source": [
    "print(solyanka_list)"
   ]
  },
  {
   "cell_type": "code",
   "execution_count": null,
   "id": "5d5d6784-dd72-43cb-9fdb-120d0ee02c5e",
   "metadata": {},
   "outputs": [],
   "source": [
    "#Посчитайте количество элементов списка solyanka_list."
   ]
  },
  {
   "cell_type": "code",
   "execution_count": 16,
   "id": "8bf490cb-89a2-4bf2-aae4-46e9946432ad",
   "metadata": {},
   "outputs": [
    {
     "data": {
      "text/plain": [
       "8"
      ]
     },
     "execution_count": 16,
     "metadata": {},
     "output_type": "execute_result"
    }
   ],
   "source": [
    "len(solyanka_list)"
   ]
  },
  {
   "cell_type": "code",
   "execution_count": null,
   "id": "ae985bb7-6e0c-4a2e-93c4-a64374805efc",
   "metadata": {},
   "outputs": [],
   "source": [
    "#Выведите на экран тип пятого от начала списка элемента."
   ]
  },
  {
   "cell_type": "code",
   "execution_count": 17,
   "id": "27d8667a-043c-44ef-bfd9-01b6fa8d3003",
   "metadata": {},
   "outputs": [
    {
     "data": {
      "text/plain": [
       "tuple"
      ]
     },
     "execution_count": 17,
     "metadata": {},
     "output_type": "execute_result"
    }
   ],
   "source": [
    "type(solyanka_list[4])"
   ]
  },
  {
   "cell_type": "code",
   "execution_count": null,
   "id": "2535e470-5ebf-4b49-97f5-01bf55354bf5",
   "metadata": {},
   "outputs": [],
   "source": [
    "#Добавьте в конец списка solyanka_list элемент типа \"список\" из одного элемента"
   ]
  },
  {
   "cell_type": "code",
   "execution_count": 18,
   "id": "aeccfb87-d56e-497e-992b-7bbe5913a463",
   "metadata": {},
   "outputs": [],
   "source": [
    "solyanka_list.append(['элемент'])"
   ]
  },
  {
   "cell_type": "code",
   "execution_count": 19,
   "id": "f6583d63-32bb-48e7-9060-7219dde99793",
   "metadata": {},
   "outputs": [
    {
     "name": "stdout",
     "output_type": "stream",
     "text": [
      "['str', 10, 1.5, [2, 3, 'apple'], (4, 5, 'cat'), {1, 2, 'set'}, {1: 'str', 'page': 22}, True, ['элемент']]\n"
     ]
    }
   ],
   "source": [
    "print(solyanka_list)"
   ]
  },
  {
   "cell_type": "code",
   "execution_count": null,
   "id": "e591136d-5dea-489f-a2d0-40d6789abd42",
   "metadata": {},
   "outputs": [],
   "source": [
    "#Выведите на экран тип последнего элемента списка solyanka_list"
   ]
  },
  {
   "cell_type": "code",
   "execution_count": 23,
   "id": "9810e062-5e57-4f3e-b1f1-84c8612967d3",
   "metadata": {},
   "outputs": [
    {
     "name": "stdout",
     "output_type": "stream",
     "text": [
      "<class 'list'>\n"
     ]
    }
   ],
   "source": [
    "print(type(solyanka_list[-1]))"
   ]
  },
  {
   "cell_type": "code",
   "execution_count": null,
   "id": "7d6ff201-4c62-4b6a-bf39-6c62274cd447",
   "metadata": {},
   "outputs": [],
   "source": [
    "Задание 4. Дана последовательности чисел Фибоначчи из нескольких элементов: \n",
    "0, 1, 1, 2, 3, 5, 8, 13, 21, 34, 55, 89, 144, 233, 377, 610, 987, 1597, 2584, 4181, 6765, 10946, 17711\n",
    "\n",
    "Создайте список fibonacci_list, элементами которого будут числа Фибонначи из задания.\n",
    "Посчитайте и выведите на экран, сколько чисел Фибоначчи в последовательности из задания\n",
    "Посчитайте и выведите на экран, сколько раз число 1 входит в заданную последовательность Фибоначчи.\n",
    "Проверьте и выведите на экран результат, является ли число 21 числом Фибоначчи. Число 33? Число 987? число 9999? использование оператора if возможно, но не является необходимым"
   ]
  },
  {
   "cell_type": "code",
   "execution_count": 105,
   "id": "9eb77b6d-7f3e-41c5-ac0e-85658bcea5e2",
   "metadata": {},
   "outputs": [],
   "source": [
    "#Создайте список fibonacci_list, элементами которого будут числа Фибонначи из задания."
   ]
  },
  {
   "cell_type": "code",
   "execution_count": 24,
   "id": "f7b2d282-043e-4382-87b9-5fd5c0ce1603",
   "metadata": {},
   "outputs": [],
   "source": [
    "fibonacci_list = [0, 1, 1, 2, 3, 5, 8, 13, 21, 34, 55, 89, 144, 233, 377, 610, 987, 1597, 2584, 4181, 6765, 10946, 17711]"
   ]
  },
  {
   "cell_type": "code",
   "execution_count": 25,
   "id": "3f769262-a845-43ca-ba12-76a586157765",
   "metadata": {},
   "outputs": [
    {
     "name": "stdout",
     "output_type": "stream",
     "text": [
      "[0, 1, 1, 2, 3, 5, 8, 13, 21, 34, 55, 89, 144, 233, 377, 610, 987, 1597, 2584, 4181, 6765, 10946, 17711]\n"
     ]
    }
   ],
   "source": [
    "print(fibonacci_list)"
   ]
  },
  {
   "cell_type": "code",
   "execution_count": 26,
   "id": "e149d819-9d1a-438f-ac3b-955e089af1d8",
   "metadata": {},
   "outputs": [],
   "source": [
    "#Посчитайте и выведите на экран, сколько чисел Фибоначчи в последовательности из задания"
   ]
  },
  {
   "cell_type": "code",
   "execution_count": 27,
   "id": "fa55f697-6a41-4648-a193-e7fd19aab2bd",
   "metadata": {},
   "outputs": [
    {
     "data": {
      "text/plain": [
       "23"
      ]
     },
     "execution_count": 27,
     "metadata": {},
     "output_type": "execute_result"
    }
   ],
   "source": [
    "len(fibonacci_list)"
   ]
  },
  {
   "cell_type": "code",
   "execution_count": 28,
   "id": "56a9d5e3-3833-41ff-a965-40f091a86858",
   "metadata": {},
   "outputs": [],
   "source": [
    "#Посчитайте и выведите на экран, сколько раз число 1 входит в заданную последовательность Фибоначчи."
   ]
  },
  {
   "cell_type": "code",
   "execution_count": 29,
   "id": "34f0a2b7-ef7f-4f03-94e6-fcaa997d6e10",
   "metadata": {},
   "outputs": [
    {
     "data": {
      "text/plain": [
       "2"
      ]
     },
     "execution_count": 29,
     "metadata": {},
     "output_type": "execute_result"
    }
   ],
   "source": [
    "fibonacci_list.count(1)"
   ]
  },
  {
   "cell_type": "code",
   "execution_count": 30,
   "id": "c6507041-fc12-4148-9526-434f87ae1294",
   "metadata": {},
   "outputs": [],
   "source": [
    "#Проверьте и выведите на экран результат, является ли число 21 числом Фибоначчи. Число 33? Число 987? число 9999? использование оператора if возможно, но не является необходимым"
   ]
  },
  {
   "cell_type": "code",
   "execution_count": 37,
   "id": "4f8d32ea-3518-4ecd-a9b1-1349e9e4f6ba",
   "metadata": {},
   "outputs": [
    {
     "name": "stdout",
     "output_type": "stream",
     "text": [
      "Число 21 в списке\n"
     ]
    }
   ],
   "source": [
    "a = 21 in fibonacci_list\n",
    "print (\"Число 21 \" + (\"\" if 21 in fibonacci_list else \"не\") + \"в списке\")"
   ]
  },
  {
   "cell_type": "code",
   "execution_count": 39,
   "id": "8102bd73-c705-478a-8522-f8fbcf3838e9",
   "metadata": {},
   "outputs": [
    {
     "name": "stdout",
     "output_type": "stream",
     "text": [
      "Число 33 не в списке\n"
     ]
    }
   ],
   "source": [
    "33 in fibonacci_list\n",
    "print (\"Число 33 \" + (\"\" if 33 in fibonacci_list else \"не \") + \"в списке\")"
   ]
  },
  {
   "cell_type": "code",
   "execution_count": 42,
   "id": "8bbc4acc-3358-4ce5-8f9a-3feee38bd793",
   "metadata": {},
   "outputs": [
    {
     "name": "stdout",
     "output_type": "stream",
     "text": [
      "True\n",
      "Число 987 в списке\n"
     ]
    }
   ],
   "source": [
    "print(987 in fibonacci_list)\n",
    "print (\"Число 987 \" + (\"\" if 987 in fibonacci_list else \"не \") + \"в списке\")"
   ]
  },
  {
   "cell_type": "code",
   "execution_count": 43,
   "id": "2f3f6f25-34c4-46f4-b263-f8b760f7ffe4",
   "metadata": {},
   "outputs": [
    {
     "name": "stdout",
     "output_type": "stream",
     "text": [
      "Число 9999 не в списке\n"
     ]
    }
   ],
   "source": [
    "print (\"Число 9999 \" + (\"\" if 9999 in fibonacci_list else \"не \") + \"в списке\")"
   ]
  },
  {
   "cell_type": "code",
   "execution_count": null,
   "id": "0bb7c422-8b9c-48c0-9985-4a562b09fbff",
   "metadata": {},
   "outputs": [],
   "source": [
    "Задание 5. Задайте переменную a_list типа \"список\" со следующим содержимым: \n",
    "1,2,5,4,3,6\n",
    "\n",
    "выведите содержимое a_list на экран\n",
    "поменяйте местами третий и пятый элементы a_list и выведите результат на экран"
   ]
  },
  {
   "cell_type": "code",
   "execution_count": null,
   "id": "94621b0a-1464-4222-bee6-ff34a918aa53",
   "metadata": {},
   "outputs": [],
   "source": [
    "#Задайте переменную a_list типа \"список\" со следующим содержимым: \n",
    "1,2,5,4,3,6\n"
   ]
  },
  {
   "cell_type": "code",
   "execution_count": 59,
   "id": "3aba18fe-4172-4694-85f0-a67c891dbc1c",
   "metadata": {},
   "outputs": [],
   "source": [
    "a_list = [1,2,3,4,5,6]"
   ]
  },
  {
   "cell_type": "code",
   "execution_count": 46,
   "id": "8517e1f4-45d6-4ae4-96e0-02f5e0ac23c8",
   "metadata": {},
   "outputs": [],
   "source": [
    "#выведите содержимое a_list на экран"
   ]
  },
  {
   "cell_type": "code",
   "execution_count": 60,
   "id": "63e3c75c-4a25-47d9-8b01-8afd5bbb9134",
   "metadata": {},
   "outputs": [
    {
     "name": "stdout",
     "output_type": "stream",
     "text": [
      "[1, 2, 3, 4, 5, 6]\n"
     ]
    }
   ],
   "source": [
    "print(a_list)"
   ]
  },
  {
   "cell_type": "code",
   "execution_count": 48,
   "id": "8ffe6c6a-5cbd-4d87-8813-ef26f1d3d53e",
   "metadata": {},
   "outputs": [],
   "source": [
    "#поменяйте местами третий и пятый элементы a_list и выведите результат на экран\n",
    "#мой вариант"
   ]
  },
  {
   "cell_type": "code",
   "execution_count": 49,
   "id": "63de944c-bd82-4837-a26b-0ff516d38b76",
   "metadata": {},
   "outputs": [],
   "source": [
    "new_element = a_list[2]"
   ]
  },
  {
   "cell_type": "code",
   "execution_count": 50,
   "id": "c26013da-daeb-46cd-aa71-636d81412a33",
   "metadata": {},
   "outputs": [],
   "source": [
    "a_list[2] = a_list[4]"
   ]
  },
  {
   "cell_type": "code",
   "execution_count": 51,
   "id": "a6a48016-a900-4cb7-8d82-8df96d1b408e",
   "metadata": {},
   "outputs": [],
   "source": [
    "a_list[4] = new_element"
   ]
  },
  {
   "cell_type": "code",
   "execution_count": 52,
   "id": "d0049552-7d73-4377-af09-eb74e35a858b",
   "metadata": {},
   "outputs": [
    {
     "data": {
      "text/plain": [
       "[1, 2, 3, 4, 5, 6]"
      ]
     },
     "execution_count": 52,
     "metadata": {},
     "output_type": "execute_result"
    }
   ],
   "source": [
    "a_list"
   ]
  },
  {
   "cell_type": "code",
   "execution_count": null,
   "id": "762fedb1-cc17-40d4-b4e4-fe765297fd3c",
   "metadata": {},
   "outputs": [],
   "source": [
    "#вариант Руслана со встречи с группой"
   ]
  },
  {
   "cell_type": "code",
   "execution_count": 65,
   "id": "9996150b-049b-46b4-a17e-3940b3534b33",
   "metadata": {},
   "outputs": [],
   "source": [
    "a_list = [1,2,5,4,3,6]"
   ]
  },
  {
   "cell_type": "code",
   "execution_count": 117,
   "id": "5ffbf0f2-3d9d-48e9-9678-fe6bc4d9f914",
   "metadata": {},
   "outputs": [],
   "source": [
    "a_list[2], a_list[4] = a_list[4], a_list[2]"
   ]
  },
  {
   "cell_type": "code",
   "execution_count": null,
   "id": "6b26db63-8215-45d8-bb22-2f565be64685",
   "metadata": {
    "scrolled": true
   },
   "outputs": [],
   "source": [
    "Задание 6. Кто-то перепутал строчки в стихотворении, хорошо что они были пронумерованы. \n",
    "(2, \"тот большего добьётся,\" )\n",
    "(5, \"Кто умирал, тот знает, что живёт.\")\n",
    "(1, \"Кто битым жизнью был,\" )\n",
    "(3, \"Пуд соли съевший выше ценит мёд.\")\n",
    "(4, \"Кто слёзы лил, тот искренней смеётся,\")\n",
    "выведите на экран строки Омара Хайама в правильном порядке, используя список."
   ]
  },
  {
   "cell_type": "code",
   "execution_count": 119,
   "id": "74c499fb-ad49-4c9a-bfdc-278faa177ffd",
   "metadata": {},
   "outputs": [],
   "source": [
    "list_poem = ('''(2, \"тот большего добьётся,\" )\n",
    "(5, \"Кто умирал, тот знает, что живёт.\")\n",
    "(1, \"Кто битым жизнью был,\" )\n",
    "(3, \"Пуд соли съевший выше ценит мёд.\")\n",
    "(4, \"Кто слёзы лил, тот искренней смеётся,\")''').split('\\n')"
   ]
  },
  {
   "cell_type": "code",
   "execution_count": 120,
   "id": "ac01b155-21de-48c8-af72-205ce4f89f53",
   "metadata": {},
   "outputs": [
    {
     "data": {
      "text/plain": [
       "['(2, \"тот большего добьётся,\" )',\n",
       " '(5, \"Кто умирал, тот знает, что живёт.\")',\n",
       " '(1, \"Кто битым жизнью был,\" )',\n",
       " '(3, \"Пуд соли съевший выше ценит мёд.\")',\n",
       " '(4, \"Кто слёзы лил, тот искренней смеётся,\")']"
      ]
     },
     "execution_count": 120,
     "metadata": {},
     "output_type": "execute_result"
    }
   ],
   "source": [
    "list_poem"
   ]
  },
  {
   "cell_type": "code",
   "execution_count": 121,
   "id": "8f533c1e-ecda-467b-aabe-ffa29b22861b",
   "metadata": {},
   "outputs": [],
   "source": [
    "list_poem.sort()"
   ]
  },
  {
   "cell_type": "code",
   "execution_count": 122,
   "id": "a8d351c3-e589-4f3b-9343-4df29ae5a18e",
   "metadata": {},
   "outputs": [
    {
     "data": {
      "text/plain": [
       "['(1, \"Кто битым жизнью был,\" )',\n",
       " '(2, \"тот большего добьётся,\" )',\n",
       " '(3, \"Пуд соли съевший выше ценит мёд.\")',\n",
       " '(4, \"Кто слёзы лил, тот искренней смеётся,\")',\n",
       " '(5, \"Кто умирал, тот знает, что живёт.\")']"
      ]
     },
     "execution_count": 122,
     "metadata": {},
     "output_type": "execute_result"
    }
   ],
   "source": [
    "list_poem"
   ]
  },
  {
   "cell_type": "code",
   "execution_count": null,
   "id": "029fd8bf-e5c9-48a2-8c9d-7ac5b8a59b06",
   "metadata": {},
   "outputs": [],
   "source": [
    "Задание 7. \n",
    "Кто битым за дедлайн был,\n",
    "тот больше не сольется.\n",
    "Пуд багов съевший, выше ценит чистый код.\n",
    "Кто дошик ел, тот рейтинг ценит свой.\n",
    "Кто крашился, тот знает, что живой.\n",
    "В данном задании после каждой операции выводите на экран содержимое true_story_list и количество его элементов.\n",
    "\n",
    "Создайте переменную true_story_list типа список, занесите в неё третью строку из стихотворения выше.\n",
    "Добавьте четвертую строку в конец списка true_story_list.\n",
    "Создайте переменную true_story_slice типа список, занесите в неё четвертую и пятую строки из стихотворения выше. Добавьте содержимое true_story_slice как один последний элемент списка true_story_list.\n",
    "Очистите весь список true_story_slice, выведите его содержимое на экран.\n",
    "Добавьте первую строку из стихотворение в начало списка true_story_list\n",
    "Удалите из true_story_list все элементы.\n",
    "Удалите последний элемент списка true_story_list\n",
    "Добавьте вторым элементом списка true_story_list вторую строчку стихотворения\n",
    "Создайте переменную true_story_tail типа список, занесите в него пятую строку стихотворения дважды. Скопируйте элементы списка true_story_tail в конец списка true_story_list.\n",
    "Удалите 5 элемент списка true_story_list.\n",
    "*Выведите список true_story_list красиво в виде стихотворения. (кажется, это ещё не проходили, но попробовать стоит)"
   ]
  },
  {
   "cell_type": "code",
   "execution_count": null,
   "id": "7a8f6892-7f0c-4373-8c35-51e44047c036",
   "metadata": {},
   "outputs": [],
   "source": [
    "#Создайте переменную true_story_list типа список, занесите в неё третью строку из стихотворения выше."
   ]
  },
  {
   "cell_type": "code",
   "execution_count": 45,
   "id": "bfd9e004-2619-42ef-979c-e7b9754e31c0",
   "metadata": {},
   "outputs": [],
   "source": [
    "true_story_list = ['Пуд багов съевший, выше ценит чистый код.']"
   ]
  },
  {
   "cell_type": "code",
   "execution_count": 46,
   "id": "10b5a346-6ce3-4662-a5d5-481d5fbe63f6",
   "metadata": {},
   "outputs": [],
   "source": [
    "#Добавьте четвертую строку в конец списка true_story_list."
   ]
  },
  {
   "cell_type": "code",
   "execution_count": 47,
   "id": "6d404af2-8d20-4328-8dab-09056a6bd971",
   "metadata": {},
   "outputs": [],
   "source": [
    "true_story_list.append('Кто дошик ел, тот рейтинг ценит свой.')"
   ]
  },
  {
   "cell_type": "code",
   "execution_count": 48,
   "id": "aade3af8-b740-4578-b4e9-a1043e99d1cd",
   "metadata": {},
   "outputs": [
    {
     "data": {
      "text/plain": [
       "['Пуд багов съевший, выше ценит чистый код.',\n",
       " 'Кто дошик ел, тот рейтинг ценит свой.']"
      ]
     },
     "execution_count": 48,
     "metadata": {},
     "output_type": "execute_result"
    }
   ],
   "source": [
    "true_story_list"
   ]
  },
  {
   "cell_type": "code",
   "execution_count": 49,
   "id": "9c4e4148-59ba-473e-b7e1-463fe12a0802",
   "metadata": {},
   "outputs": [],
   "source": [
    "#Создайте переменную true_story_slice типа список, занесите в неё четвертую и пятую строки из стихотворения выше.\n",
    "#Добавьте содержимое true_story_slice как один последний элемент списка true_story_list.\n"
   ]
  },
  {
   "cell_type": "code",
   "execution_count": 50,
   "id": "5a4d6913-08d1-4bed-8abb-28b73796d632",
   "metadata": {},
   "outputs": [],
   "source": [
    "true_story_slice = '''Кто дошик ел, тот рейтинг ценит свой.\n",
    "Кто крашился, тот знает, что живой.'''.split('\\n')"
   ]
  },
  {
   "cell_type": "code",
   "execution_count": 51,
   "id": "0931b992-393e-4991-8c96-6e703d04659b",
   "metadata": {},
   "outputs": [
    {
     "data": {
      "text/plain": [
       "['Кто дошик ел, тот рейтинг ценит свой.',\n",
       " 'Кто крашился, тот знает, что живой.']"
      ]
     },
     "execution_count": 51,
     "metadata": {},
     "output_type": "execute_result"
    }
   ],
   "source": [
    "true_story_slice"
   ]
  },
  {
   "cell_type": "code",
   "execution_count": 52,
   "id": "e3a27f70-6f58-4fd1-a950-ea634ec8e42f",
   "metadata": {},
   "outputs": [],
   "source": [
    "true_story_list.append(true_story_slice)"
   ]
  },
  {
   "cell_type": "code",
   "execution_count": 53,
   "id": "883a719b-1a15-4a0d-b0d5-892b4f28d946",
   "metadata": {},
   "outputs": [
    {
     "data": {
      "text/plain": [
       "['Пуд багов съевший, выше ценит чистый код.',\n",
       " 'Кто дошик ел, тот рейтинг ценит свой.',\n",
       " ['Кто дошик ел, тот рейтинг ценит свой.',\n",
       "  'Кто крашился, тот знает, что живой.']]"
      ]
     },
     "execution_count": 53,
     "metadata": {},
     "output_type": "execute_result"
    }
   ],
   "source": [
    "true_story_list"
   ]
  },
  {
   "cell_type": "code",
   "execution_count": 54,
   "id": "21934d57-8394-47de-a2e9-b246414103a7",
   "metadata": {},
   "outputs": [
    {
     "data": {
      "text/plain": [
       "['Кто дошик ел, тот рейтинг ценит свой.',\n",
       " 'Кто крашился, тот знает, что живой.']"
      ]
     },
     "execution_count": 54,
     "metadata": {},
     "output_type": "execute_result"
    }
   ],
   "source": [
    "true_story_list[-1]"
   ]
  },
  {
   "cell_type": "code",
   "execution_count": 55,
   "id": "387c9fd5-1db1-447d-a884-cad6faff8f3f",
   "metadata": {},
   "outputs": [],
   "source": [
    "#Очистите весь список true_story_slice, выведите его содержимое на экран.\n"
   ]
  },
  {
   "cell_type": "code",
   "execution_count": 56,
   "id": "e5993988-be4d-40b2-b757-a8dcef1d4507",
   "metadata": {},
   "outputs": [],
   "source": [
    "true_story_slice.clear()"
   ]
  },
  {
   "cell_type": "code",
   "execution_count": 57,
   "id": "674b6127-99bc-463b-ba73-87661e3c8ef9",
   "metadata": {},
   "outputs": [
    {
     "data": {
      "text/plain": [
       "[]"
      ]
     },
     "execution_count": 57,
     "metadata": {},
     "output_type": "execute_result"
    }
   ],
   "source": [
    "true_story_slice"
   ]
  },
  {
   "cell_type": "code",
   "execution_count": 58,
   "id": "ef61b4a0-f7c3-4504-82ee-c361f012a8a4",
   "metadata": {},
   "outputs": [],
   "source": [
    "#Добавьте первую строку из стихотворение в начало списка true_story_list\n"
   ]
  },
  {
   "cell_type": "code",
   "execution_count": 59,
   "id": "96d7164b-ae05-4626-a67c-279943284319",
   "metadata": {},
   "outputs": [],
   "source": [
    "true_story_list.insert(0, 'Кто битым за дедлайн был,')"
   ]
  },
  {
   "cell_type": "code",
   "execution_count": 60,
   "id": "7a48e72c-3351-48e7-8281-4221125ca71c",
   "metadata": {},
   "outputs": [
    {
     "data": {
      "text/plain": [
       "['Кто битым за дедлайн был,',\n",
       " 'Пуд багов съевший, выше ценит чистый код.',\n",
       " 'Кто дошик ел, тот рейтинг ценит свой.',\n",
       " []]"
      ]
     },
     "execution_count": 60,
     "metadata": {},
     "output_type": "execute_result"
    }
   ],
   "source": [
    "true_story_list"
   ]
  },
  {
   "cell_type": "code",
   "execution_count": 61,
   "id": "da65c784-1468-4c1e-9fb7-86c00c2c47b8",
   "metadata": {},
   "outputs": [],
   "source": [
    "#Удалите из true_story_list все элементы - решили,что данный пункт лишний\n"
   ]
  },
  {
   "cell_type": "code",
   "execution_count": 62,
   "id": "8a6589f8-066c-43ad-959a-90e9f7c15b47",
   "metadata": {},
   "outputs": [],
   "source": [
    "#Удалите последний элемент списка true_story_list\n"
   ]
  },
  {
   "cell_type": "code",
   "execution_count": 63,
   "id": "19dca97d-701e-4f50-aaba-f3047add7a21",
   "metadata": {},
   "outputs": [
    {
     "data": {
      "text/plain": [
       "['Кто битым за дедлайн был,',\n",
       " 'Пуд багов съевший, выше ценит чистый код.',\n",
       " 'Кто дошик ел, тот рейтинг ценит свой.']"
      ]
     },
     "execution_count": 63,
     "metadata": {},
     "output_type": "execute_result"
    }
   ],
   "source": [
    "true_story_list.pop()\n",
    "true_story_list"
   ]
  },
  {
   "cell_type": "code",
   "execution_count": 64,
   "id": "75afd030-1fb9-49c2-8c7f-f231c415b8c6",
   "metadata": {},
   "outputs": [],
   "source": [
    "#Добавьте вторым элементом списка true_story_list вторую строчку стихотворения"
   ]
  },
  {
   "cell_type": "code",
   "execution_count": 65,
   "id": "f066f1d0-cfcf-4aa0-8d6b-e665b21b33c1",
   "metadata": {},
   "outputs": [],
   "source": [
    "true_story_list.insert(1, 'тот больше не сольется.')"
   ]
  },
  {
   "cell_type": "code",
   "execution_count": 66,
   "id": "bb867e95-8de4-4a44-adcb-d4f7f05a2e55",
   "metadata": {},
   "outputs": [
    {
     "data": {
      "text/plain": [
       "['Кто битым за дедлайн был,',\n",
       " 'тот больше не сольется.',\n",
       " 'Пуд багов съевший, выше ценит чистый код.',\n",
       " 'Кто дошик ел, тот рейтинг ценит свой.']"
      ]
     },
     "execution_count": 66,
     "metadata": {},
     "output_type": "execute_result"
    }
   ],
   "source": [
    "true_story_list"
   ]
  },
  {
   "cell_type": "code",
   "execution_count": 67,
   "id": "cea03d3b-a024-4e9e-a7db-47b46da69666",
   "metadata": {},
   "outputs": [],
   "source": [
    "#Создайте переменную true_story_tail типа список, занесите в него пятую строку стихотворения дважды.\n",
    "#Скопируйте элементы списка true_story_tail в конец списка true_story_list.\n"
   ]
  },
  {
   "cell_type": "code",
   "execution_count": 68,
   "id": "0573390b-965f-413f-9524-90274b861362",
   "metadata": {},
   "outputs": [
    {
     "data": {
      "text/plain": [
       "['Кто крашился, тот знает, что живой.', 'Кто крашился, тот знает, что живой.']"
      ]
     },
     "execution_count": 68,
     "metadata": {},
     "output_type": "execute_result"
    }
   ],
   "source": [
    "true_story_tail = ['Кто крашился, тот знает, что живой.']\n",
    "true_story_tail\n",
    "true_story_tail = true_story_tail * 2\n",
    "true_story_tail"
   ]
  },
  {
   "cell_type": "code",
   "execution_count": 69,
   "id": "2168ad82-9b61-4e73-b504-18f0482b55fe",
   "metadata": {},
   "outputs": [],
   "source": [
    "true_story_list.extend(true_story_tail)"
   ]
  },
  {
   "cell_type": "code",
   "execution_count": 70,
   "id": "4d0ab913-104d-491f-8ec3-38ce89ee85a7",
   "metadata": {},
   "outputs": [
    {
     "data": {
      "text/plain": [
       "['Кто битым за дедлайн был,',\n",
       " 'тот больше не сольется.',\n",
       " 'Пуд багов съевший, выше ценит чистый код.',\n",
       " 'Кто дошик ел, тот рейтинг ценит свой.',\n",
       " 'Кто крашился, тот знает, что живой.',\n",
       " 'Кто крашился, тот знает, что живой.']"
      ]
     },
     "execution_count": 70,
     "metadata": {},
     "output_type": "execute_result"
    }
   ],
   "source": [
    "true_story_list"
   ]
  },
  {
   "cell_type": "code",
   "execution_count": 29,
   "id": "b1a46e39-ed4a-4792-8082-127faf95b84c",
   "metadata": {},
   "outputs": [],
   "source": [
    "#Удалите 5 элемент списка true_story_list."
   ]
  },
  {
   "cell_type": "code",
   "execution_count": 72,
   "id": "b30961f9-d14f-480d-9182-c9aa4bbc4804",
   "metadata": {},
   "outputs": [
    {
     "data": {
      "text/plain": [
       "'Кто крашился, тот знает, что живой.'"
      ]
     },
     "execution_count": 72,
     "metadata": {},
     "output_type": "execute_result"
    }
   ],
   "source": [
    "true_story_list.pop(4)\n"
   ]
  },
  {
   "cell_type": "code",
   "execution_count": 73,
   "id": "f2e109ef-a96d-4f6b-9545-e26220d3078c",
   "metadata": {},
   "outputs": [
    {
     "data": {
      "text/plain": [
       "['Кто битым за дедлайн был,',\n",
       " 'тот больше не сольется.',\n",
       " 'Пуд багов съевший, выше ценит чистый код.',\n",
       " 'Кто дошик ел, тот рейтинг ценит свой.',\n",
       " 'Кто крашился, тот знает, что живой.']"
      ]
     },
     "execution_count": 73,
     "metadata": {},
     "output_type": "execute_result"
    }
   ],
   "source": [
    "true_story_list"
   ]
  },
  {
   "cell_type": "code",
   "execution_count": null,
   "id": "360e0ab4-282a-43c1-ab88-be3b347eb4f8",
   "metadata": {},
   "outputs": [],
   "source": [
    "#*Выведите список true_story_list красиво в виде стихотворения. (кажется, это ещё не проходили, но попробовать стоит)\n",
    "\n"
   ]
  },
  {
   "cell_type": "code",
   "execution_count": 74,
   "id": "6b1aa175-9f4e-438d-84b1-0567fca147a0",
   "metadata": {},
   "outputs": [
    {
     "name": "stdout",
     "output_type": "stream",
     "text": [
      "['Кто битым за дедлайн был,', 'тот больше не сольется.', 'Пуд багов съевший, выше ценит чистый код.', 'Кто дошик ел, тот рейтинг ценит свой.', 'Кто крашился, тот знает, что живой.']\n"
     ]
    }
   ],
   "source": [
    "print(true_story_list)"
   ]
  },
  {
   "cell_type": "code",
   "execution_count": 77,
   "id": "527998a0-def4-4b81-bf8b-96491b114df6",
   "metadata": {},
   "outputs": [
    {
     "name": "stdout",
     "output_type": "stream",
     "text": [
      "Кто битым за дедлайн был,\n",
      "тот больше не сольется.\n",
      "Пуд багов съевший, выше ценит чистый код.\n",
      "Кто дошик ел, тот рейтинг ценит свой.\n",
      "Кто крашился, тот знает, что живой.\n"
     ]
    }
   ],
   "source": [
    "print('\\n'.join(true_story_list))"
   ]
  },
  {
   "cell_type": "code",
   "execution_count": null,
   "id": "a9715680-4412-4fc5-b19c-87477c4b8e85",
   "metadata": {},
   "outputs": [],
   "source": []
  }
 ],
 "metadata": {
  "kernelspec": {
   "display_name": "Python 3 (ipykernel)",
   "language": "python",
   "name": "python3"
  },
  "language_info": {
   "codemirror_mode": {
    "name": "ipython",
    "version": 3
   },
   "file_extension": ".py",
   "mimetype": "text/x-python",
   "name": "python",
   "nbconvert_exporter": "python",
   "pygments_lexer": "ipython3",
   "version": "3.10.10"
  }
 },
 "nbformat": 4,
 "nbformat_minor": 5
}
