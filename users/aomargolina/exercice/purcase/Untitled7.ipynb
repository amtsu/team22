{
 "cells": [
  {
   "cell_type": "code",
   "execution_count": null,
   "id": "65fb51af-23f6-4b54-9c58-704e034da803",
   "metadata": {},
   "outputs": [],
   "source": [
    "def purchase(name_product, price_product):\n",
    "    purchase_dict = {name_product: price_product}\n",
    "    return purchase_dict\n",
    "    \n",
    "\n",
    "def test_purchase():\n",
    "    name_1 = 'egg'\n",
    "    price_1 = 23\n",
    "    expected = purchase_dict(name_product, price_product)\n",
    "    assert expected == {'egg': 23}\n",
    "\n",
    "\n",
    "def add_purchase(purchase_dict, product, price):\n",
    "    purchase_dict[product] = price\n",
    "    return purchase_dict\n",
    "    \n",
    "\n",
    "def test_add_purchase():\n",
    "    purchase_dict = {'egg': 23}\n",
    "    result = add_purchase(purchase_dict, 'milk', 10)\n",
    "    assert result == {'egg': 23, 'milk': 10}\n",
    "\n",
    "\n",
    "def total_product(purchase_dict):\n",
    "    sum_products = 0\n",
    "    for k,v in purchase_dict.items():\n",
    "        sum_products += v\n",
    "    return sum_products\n",
    "    \n",
    "\n",
    "def test_total_product():\n",
    "    my_purchase_dict = {'egg': 23, 'milk': 10}\n",
    "    result = total_product(my_purchase_dict)\n",
    "    assert result == 33"
   ]
  }
 ],
 "metadata": {
  "kernelspec": {
   "display_name": "Python 3 (ipykernel)",
   "language": "python",
   "name": "python3"
  },
  "language_info": {
   "codemirror_mode": {
    "name": "ipython",
    "version": 3
   },
   "file_extension": ".py",
   "mimetype": "text/x-python",
   "name": "python",
   "nbconvert_exporter": "python",
   "pygments_lexer": "ipython3",
   "version": "3.10.10"
  }
 },
 "nbformat": 4,
 "nbformat_minor": 5
}
