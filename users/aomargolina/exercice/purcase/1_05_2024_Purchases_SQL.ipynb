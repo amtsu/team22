{
 "cells": [
  {
   "cell_type": "code",
   "execution_count": 1,
   "id": "ffb11955-5e8f-442f-8000-5f21a301a708",
   "metadata": {},
   "outputs": [],
   "source": [
    "import sqlite3"
   ]
  },
  {
   "cell_type": "code",
   "execution_count": 2,
   "id": "68801445-cb14-4254-9674-052a7741c68e",
   "metadata": {},
   "outputs": [
    {
     "name": "stdout",
     "output_type": "stream",
     "text": [
      "База данных создана и успешно подключена к SQLite\n"
     ]
    }
   ],
   "source": [
    "sqlite_connection = sqlite3.connect('sqlite_python_1_05.db')\n",
    "cursor = sqlite_connection.cursor()\n",
    "print(\"База данных создана и успешно подключена к SQLite\")"
   ]
  },
  {
   "cell_type": "code",
   "execution_count": 4,
   "id": "8c9433e7-3afb-4ff7-86ed-59abce6b52f7",
   "metadata": {},
   "outputs": [
    {
     "data": {
      "text/plain": [
       "<sqlite3.Cursor at 0x7f0e0a08efc0>"
      ]
     },
     "execution_count": 4,
     "metadata": {},
     "output_type": "execute_result"
    }
   ],
   "source": [
    "sql_table = \"create table Purchases (name varchar(20), date date, price varchar(10))\"\n",
    "cursor.execute(sql_table)"
   ]
  },
  {
   "cell_type": "code",
   "execution_count": 5,
   "id": "879020c0-e285-45e8-8954-0415cc8a65ac",
   "metadata": {},
   "outputs": [
    {
     "data": {
      "text/plain": [
       "[]"
      ]
     },
     "execution_count": 5,
     "metadata": {},
     "output_type": "execute_result"
    }
   ],
   "source": [
    "cursor.fetchall()"
   ]
  },
  {
   "cell_type": "code",
   "execution_count": 6,
   "id": "fa873a67-d50a-4edb-af97-7465d8bb31b9",
   "metadata": {},
   "outputs": [
    {
     "data": {
      "text/plain": [
       "<sqlite3.Cursor at 0x7f0e0a08efc0>"
      ]
     },
     "execution_count": 6,
     "metadata": {},
     "output_type": "execute_result"
    }
   ],
   "source": [
    "cursor.execute(\"insert into Purchases(name, date, price) values ('salat', 2024-04-30, '300')\")"
   ]
  },
  {
   "cell_type": "code",
   "execution_count": 7,
   "id": "df3cdc10-90d8-4351-bcc5-3f4fec49f577",
   "metadata": {},
   "outputs": [
    {
     "data": {
      "text/plain": [
       "<sqlite3.Cursor at 0x7f0e0a08efc0>"
      ]
     },
     "execution_count": 7,
     "metadata": {},
     "output_type": "execute_result"
    }
   ],
   "source": [
    "cursor.execute(\"insert into Purchases(name, date, price) values  ('phone', 2024-05-01, '3000')\")\n",
    "cursor.execute(\"insert into Purchases (name, date, price) values  ('orange', 2024-05-01, '150')\")"
   ]
  },
  {
   "cell_type": "code",
   "execution_count": 8,
   "id": "a13e6a15-7344-4c1e-b36e-1bbbccc99773",
   "metadata": {},
   "outputs": [
    {
     "data": {
      "text/plain": [
       "[]"
      ]
     },
     "execution_count": 8,
     "metadata": {},
     "output_type": "execute_result"
    }
   ],
   "source": [
    "cursor.fetchall()"
   ]
  },
  {
   "cell_type": "code",
   "execution_count": 11,
   "id": "e8d0a13c-3979-4f9a-af68-bc2751847dd2",
   "metadata": {},
   "outputs": [
    {
     "data": {
      "text/plain": [
       "[('salat', 1990, '300'), ('phone', 2018, '3000'), ('orange', 2018, '150')]"
      ]
     },
     "execution_count": 11,
     "metadata": {},
     "output_type": "execute_result"
    }
   ],
   "source": [
    "cursor.execute(\"select * from Purchases\")\n",
    "cursor.fetchall()"
   ]
  },
  {
   "cell_type": "code",
   "execution_count": 12,
   "id": "42fec11e-42bb-45bb-87de-47b6e3ea72e2",
   "metadata": {},
   "outputs": [
    {
     "data": {
      "text/plain": [
       "[('salat', 1990, '300', None),\n",
       " ('phone', 2018, '3000', None),\n",
       " ('orange', 2018, '150', None)]"
      ]
     },
     "execution_count": 12,
     "metadata": {},
     "output_type": "execute_result"
    }
   ],
   "source": [
    "cursor.execute(\"Alter table Purchases add type varchar (20)\")\n",
    "cursor.execute(\"select * from Purchases\")\n",
    "cursor.fetchall()"
   ]
  },
  {
   "cell_type": "code",
   "execution_count": 16,
   "id": "1f8521d0-c9cc-41df-b26e-df8ed39b6b62",
   "metadata": {},
   "outputs": [
    {
     "data": {
      "text/plain": [
       "[('salat', 1990, '300', 'restaurant'),\n",
       " ('phone', 2018, '3000', 'technika'),\n",
       " ('orange', 2018, '150', 'product')]"
      ]
     },
     "execution_count": 16,
     "metadata": {},
     "output_type": "execute_result"
    }
   ],
   "source": [
    "cursor.execute(\"Update Purchases set type = 'restaurant' where name = 'salat'\")\n",
    "cursor.execute(\"Update Purchases set type = 'product' where name = 'orange'\")\n",
    "cursor.execute(\"update Purchases set type = 'technika' where name = 'phone'\")\n",
    "cursor.execute(\"select * from Purchases\")\n",
    " "
   ]
  },
  {
   "cell_type": "code",
   "execution_count": 18,
   "id": "965c2dc2-905d-47d9-b4fa-0bb89a15c588",
   "metadata": {},
   "outputs": [
    {
     "data": {
      "text/plain": [
       "[('product', 150), ('restaurant', 300), ('technika', 3000)]"
      ]
     },
     "execution_count": 18,
     "metadata": {},
     "output_type": "execute_result"
    }
   ],
   "source": [
    "cursor.execute(\"select type, sum(price) from Purchases group by type\")\n",
    "cursor.fetchall()\n"
   ]
  },
  {
   "cell_type": "code",
   "execution_count": 20,
   "id": "316ae6c8-5575-4edf-a097-e0460eee260b",
   "metadata": {},
   "outputs": [
    {
     "data": {
      "text/plain": [
       "<sqlite3.Cursor at 0x7f0e0a08efc0>"
      ]
     },
     "execution_count": 20,
     "metadata": {},
     "output_type": "execute_result"
    }
   ],
   "source": [
    "cursor.execute(\"create table Purchases_color (type varchar(20), color varchar(10))\")\n",
    "cursor.execute(\"insert into Purchases_color(type, color) values ('restaurant', 'green')\")\n",
    "cursor.execute(\"insert into Purchases_color (type,color) values ('product', 'red')\")\n",
    "cursor.execute(\"insert into Purchases_color(type, color) values ('technika', 'blue')\")\n"
   ]
  },
  {
   "cell_type": "code",
   "execution_count": 47,
   "id": "06ad0949-0ed5-4e3e-b57c-68600f730df4",
   "metadata": {},
   "outputs": [
    {
     "data": {
      "text/plain": [
       "[('cafe', 300), ('product', 250), ('technika', 3000)]"
      ]
     },
     "execution_count": 47,
     "metadata": {},
     "output_type": "execute_result"
    }
   ],
   "source": [
    "cursor.execute(\"\"\"\n",
    "select\n",
    "    Purchases_color.type, sum(price)\n",
    "from\n",
    "    Purchases\n",
    "    join Purchases_color\n",
    "    on Purchases.type = Purchases_color.type \n",
    "group by Purchases_color.type\n",
    "\"\"\")\n",
    "cursor.fetchall()\n"
   ]
  },
  {
   "cell_type": "code",
   "execution_count": 33,
   "id": "d53801c0-4dfd-44b1-8277-dc4620acaf6e",
   "metadata": {},
   "outputs": [
    {
     "data": {
      "text/plain": [
       "[('salat', 1990, '300', 'restaurant'),\n",
       " ('phone', 2018, '3000', 'technika'),\n",
       " ('orange', 2018, '150', 'product'),\n",
       " ('apple', 2018, '100', 'product')]"
      ]
     },
     "execution_count": 33,
     "metadata": {},
     "output_type": "execute_result"
    }
   ],
   "source": [
    "cursor.execute(\"insert into Purchases (name, date, price, type) values  ('apple', 2024-05-01, '100', 'product')\")\n",
    "cursor.execute(\"select * from Purchases\")\n",
    "cursor.fetchall()"
   ]
  },
  {
   "cell_type": "code",
   "execution_count": 46,
   "id": "e6908c68-5d3b-453c-8091-240f64657301",
   "metadata": {},
   "outputs": [
    {
     "data": {
      "text/plain": [
       "[('cafe', 300), ('product', 250), ('technika', 3000)]"
      ]
     },
     "execution_count": 46,
     "metadata": {},
     "output_type": "execute_result"
    }
   ],
   "source": [
    "cursor.execute(\"\"\"\n",
    "select\n",
    "    Purchases_color.type, sum(price)\n",
    "from\n",
    "    Purchases\n",
    "    join Purchases_color\n",
    "    on Purchases.type = Purchases_color.type \n",
    "group by Purchases_color.type\n",
    "\"\"\")\n",
    "cursor.fetchall()"
   ]
  },
  {
   "cell_type": "code",
   "execution_count": 36,
   "id": "308eeb40-8479-45fe-aebf-6294eacb3710",
   "metadata": {},
   "outputs": [
    {
     "data": {
      "text/plain": [
       "[('salat', 1990, '300', 'cafe'),\n",
       " ('phone', 2018, '3000', 'technika'),\n",
       " ('orange', 2018, '150', 'product'),\n",
       " ('apple', 2018, '100', 'product')]"
      ]
     },
     "execution_count": 36,
     "metadata": {},
     "output_type": "execute_result"
    }
   ],
   "source": [
    "cursor.execute(\"Update Purchases set type = 'cafe' where type = 'restaurant'\")\n",
    "cursor.execute(\"select * from Purchases\")\n",
    "cursor.fetchall()"
   ]
  },
  {
   "cell_type": "code",
   "execution_count": 45,
   "id": "35df8b9a-e229-43ba-af83-7ad46b3886a2",
   "metadata": {},
   "outputs": [
    {
     "data": {
      "text/plain": [
       "[('cafe', 'green'), ('product', 'red'), ('technika', 'blue')]"
      ]
     },
     "execution_count": 45,
     "metadata": {},
     "output_type": "execute_result"
    }
   ],
   "source": [
    "cursor.execute(\"Update Purchases_color set type = 'cafe' where type = 'restaurant'\")\n",
    "cursor.execute(\"select * from Purchases_color\")\n",
    "cursor.fetchall()"
   ]
  },
  {
   "cell_type": "code",
   "execution_count": 38,
   "id": "7153adc1-5690-4c03-900e-29fe8e669fef",
   "metadata": {},
   "outputs": [],
   "source": [
    "sqlite_connection.commit()"
   ]
  },
  {
   "cell_type": "code",
   "execution_count": null,
   "id": "85c58818-a55f-4b8e-819a-3e867d302546",
   "metadata": {},
   "outputs": [],
   "source": []
  },
  {
   "cell_type": "code",
   "execution_count": null,
   "id": "b4375516-5f9a-4567-9073-97804d55860d",
   "metadata": {},
   "outputs": [],
   "source": [
    "create table Purchases (name varchar(20), date date), price varchar(10))\n",
    "\n",
    "insert into Purchases(name, date, price) values ('salat', 2024-04-30, '300')\n",
    "insert into Purchases (name, date, price) values  ('orange', 2024-05-01, '150')\n",
    "insert into Purchases(name, date, price) values  ('phone', 2024-05-01, '3000')\n",
    "\n",
    "Alter table Purchases add type varchar (20)\n",
    "\n",
    "Update Purchases set type = restaurant where name = 'salat'\n",
    "Update Purchases set type = product where name = 'orange'\n",
    "Update Purchases set type = technika where name = 'phone'\n",
    "\n",
    "select type, sum(price) from Purchases group by type\n",
    "\n",
    "\n",
    "create table Purchases_color (type varchar(20), color varchar(10))\n",
    "\n",
    "insert into Purchases_color(type, color) values ('restaurant', 'green')\n",
    "insert into Purchases_color (type,color) values ('product', 'red')\n",
    "insert into Purchases_color(type, color) values ('technika', 'blue')\n",
    "\n",
    "select\n",
    "    Purchases.type, sum(price) \n",
    "from\n",
    "    Purchases\n",
    "    join Purchases_color\n",
    "    on Purchases.type = Purchases_color.type\n",
    "group by Purchases_color.type\n",
    "\n",
    "\n",
    "\n",
    "\n",
    "select Purchases_w_color.purchase, sum(price)\n",
    "    from  Purchases join Purchases_w_color on Purchases.purchase = Purchases_w_color.purchase group by Purchases_w_color.purchase\n"
   ]
  },
  {
   "cell_type": "code",
   "execution_count": null,
   "id": "9b8abcae-b75b-458a-8d1f-1b54681a08f3",
   "metadata": {},
   "outputs": [],
   "source": [
    "#текст для проверки коммитов"
   ]
  }
 ],
 "metadata": {
  "kernelspec": {
   "display_name": "Python 3 (ipykernel)",
   "language": "python",
   "name": "python3"
  },
  "language_info": {
   "codemirror_mode": {
    "name": "ipython",
    "version": 3
   },
   "file_extension": ".py",
   "mimetype": "text/x-python",
   "name": "python",
   "nbconvert_exporter": "python",
   "pygments_lexer": "ipython3",
   "version": "3.10.10"
  }
 },
 "nbformat": 4,
 "nbformat_minor": 5
}
