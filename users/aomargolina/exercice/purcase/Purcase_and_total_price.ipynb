{
 "cells": [
  {
   "cell_type": "code",
   "execution_count": 3,
   "id": "9dc0b436-c24e-4351-b8e8-c692b7fb3831",
   "metadata": {},
   "outputs": [],
   "source": [
    "def add_price_list(purcase, price):\n",
    "\tpurcase.append(price)\n",
    "\treturn purcase\n"
   ]
  },
  {
   "cell_type": "code",
   "execution_count": 4,
   "id": "5ad2e7ae-fa92-42c5-b28c-dd50b30a0291",
   "metadata": {},
   "outputs": [],
   "source": [
    "#общая сумма трат\n",
    "def total_price(p):\n",
    "\ttotal = 0\n",
    "\tfor i in range(len(p)):\n",
    "\t\ttotal = total + p[i]\n",
    "\treturn total"
   ]
  },
  {
   "cell_type": "code",
   "execution_count": 5,
   "id": "ed1daa82-b59e-4b7b-bb19-6eebaf09368b",
   "metadata": {},
   "outputs": [],
   "source": [
    "def test_purchase():\n",
    "\tprice = 5\n",
    "\tprice1 = 52\n",
    "\tprice2 = 3\n",
    "\texpected = [5, 52, 3]\n",
    "\n",
    "\tpurcase = list()\n",
    "\tpurcase = add_price_list(purcase, price)\n",
    "\tpurcase = add_price_list(purcase, price1)\n",
    "\tpurcase = add_price_list(purcase, price2)\n",
    "\tif expected == purcase:\n",
    "\t\tprint('OK')\n",
    "\telse:\n",
    "\t\tprint('NOT')\n",
    "\n",
    "\n",
    "\n"
   ]
  },
  {
   "cell_type": "code",
   "execution_count": 6,
   "id": "3a469998-ed3c-4d0b-9161-02e2503f3e6f",
   "metadata": {},
   "outputs": [],
   "source": [
    "def test_total_purcase():\n",
    "\tpurcase = [5, 52, 3]\n",
    "\texpected = 60\n",
    "\ttotal = total_price(purcase)\n",
    "\tif expected == total:\n",
    "\t\tprint('OK')\n",
    "\telse:\n",
    "\t\tprint('not OK')\n",
    "\n",
    "\n"
   ]
  },
  {
   "cell_type": "code",
   "execution_count": 7,
   "id": "94a9dc12-15db-48c6-bc95-0b1d55d0e922",
   "metadata": {},
   "outputs": [
    {
     "name": "stdout",
     "output_type": "stream",
     "text": [
      "OK\n",
      "OK\n"
     ]
    }
   ],
   "source": [
    "test_purchase()\n",
    "test_total_purcase()"
   ]
  },
  {
   "cell_type": "code",
   "execution_count": null,
   "id": "180b7c33-6237-4cdf-85b6-5d9bd3f143c9",
   "metadata": {},
   "outputs": [],
   "source": []
  }
 ],
 "metadata": {
  "kernelspec": {
   "display_name": "Python 3 (ipykernel)",
   "language": "python",
   "name": "python3"
  },
  "language_info": {
   "codemirror_mode": {
    "name": "ipython",
    "version": 3
   },
   "file_extension": ".py",
   "mimetype": "text/x-python",
   "name": "python",
   "nbconvert_exporter": "python",
   "pygments_lexer": "ipython3",
   "version": "3.10.10"
  }
 },
 "nbformat": 4,
 "nbformat_minor": 5
}
