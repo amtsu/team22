{
 "cells": [
  {
   "cell_type": "code",
   "execution_count": null,
   "id": "9f8b89b2-3c22-46c3-9cfc-7a8bba675c4e",
   "metadata": {},
   "outputs": [],
   "source": [
    "#Anna Margolina\n",
    "#Создать БД и сделать курсор\n",
    "#создать таблицу с покупками - 3 столбца - название продукта, стоимость, дата покупки\n",
    "#название которое дублируется\n",
    "#отфильтровать товары больше какой-то цены\n",
    "#вывести максимаоьную стоимость\n",
    "#подсчитать количество записей в таблицу\n",
    "#сгруппировать по полю значение и вывести среднюю цену по полю Price"
   ]
  },
  {
   "cell_type": "code",
   "execution_count": 4,
   "id": "727613c6-91d8-41bd-a90d-5cc16b233b0b",
   "metadata": {},
   "outputs": [],
   "source": [
    "import sqlite3\n",
    "sqlite_connection = sqlite3.connect('DataBase/sqlite_python.db')\n",
    "cursor = sqlite_connection.cursor()\n",
    "\n",
    "\n"
   ]
  },
  {
   "cell_type": "code",
   "execution_count": 7,
   "id": "60e4360e-fa34-42bd-a9c1-cee4285af8cc",
   "metadata": {},
   "outputs": [
    {
     "data": {
      "text/plain": [
       "<sqlite3.Cursor at 0x7fa16410fac0>"
      ]
     },
     "execution_count": 7,
     "metadata": {},
     "output_type": "execute_result"
    }
   ],
   "source": [
    "sql_table = \"create table pourcase1(Product varchar(20), Price int, PurchaseData date)\"\n",
    "cursor.execute(sql_table)"
   ]
  },
  {
   "cell_type": "code",
   "execution_count": 8,
   "id": "d7e3e36d-82d4-4496-a26a-a210db23f2cc",
   "metadata": {},
   "outputs": [
    {
     "data": {
      "text/plain": [
       "[]"
      ]
     },
     "execution_count": 8,
     "metadata": {},
     "output_type": "execute_result"
    }
   ],
   "source": [
    "cursor.execute(\"insert into pourcase1(Product, Price, PurchaseData) values ('Orange', 10, '2024-04-28')\")\n",
    "cursor.fetchall()"
   ]
  },
  {
   "cell_type": "code",
   "execution_count": 9,
   "id": "87dc166f-85d2-4aad-8708-651155a45a43",
   "metadata": {},
   "outputs": [
    {
     "data": {
      "text/plain": [
       "[]"
      ]
     },
     "execution_count": 9,
     "metadata": {},
     "output_type": "execute_result"
    }
   ],
   "source": [
    "cursor.execute(\"insert into pourcase1(Product, Price, PurchaseData) values ('Apple', 5, '2024-04-27')\")\n",
    "cursor.fetchall()\n"
   ]
  },
  {
   "cell_type": "code",
   "execution_count": 10,
   "id": "57054883-ebcb-4fec-bc9b-47e5cbdcee32",
   "metadata": {},
   "outputs": [
    {
     "data": {
      "text/plain": [
       "[]"
      ]
     },
     "execution_count": 10,
     "metadata": {},
     "output_type": "execute_result"
    }
   ],
   "source": [
    "cursor.execute(\"insert into pourcase1(Product, Price, PurchaseData) values ('Apple', 7, '2024-04-26')\")\n",
    "cursor.fetchall()\n"
   ]
  },
  {
   "cell_type": "code",
   "execution_count": null,
   "id": "70f8cdb1-cb4b-4ae7-b0a4-e3818a476dd3",
   "metadata": {},
   "outputs": [],
   "source": []
  },
  {
   "cell_type": "code",
   "execution_count": 11,
   "id": "a48d1fe7-141d-41e7-8c4c-a610c5d32e26",
   "metadata": {},
   "outputs": [
    {
     "data": {
      "text/plain": [
       "[('Orange', 10, '2024-04-28'),\n",
       " ('Apple', 5, '2024-04-27'),\n",
       " ('Apple', 7, '2024-04-26')]"
      ]
     },
     "execution_count": 11,
     "metadata": {},
     "output_type": "execute_result"
    }
   ],
   "source": [
    "cursor.execute(\"select * from pourcase1\")\n",
    "cursor.fetchall()"
   ]
  },
  {
   "cell_type": "code",
   "execution_count": 12,
   "id": "46c654f9-ff10-435f-bcaa-eb238fa0e92b",
   "metadata": {},
   "outputs": [
    {
     "data": {
      "text/plain": [
       "[('Apple', 5, '2024-04-27'), ('Apple', 7, '2024-04-26')]"
      ]
     },
     "execution_count": 12,
     "metadata": {},
     "output_type": "execute_result"
    }
   ],
   "source": [
    "cursor.execute(\"select * from pourcase1 where Product = 'Apple'\")\n",
    "cursor.fetchall()"
   ]
  },
  {
   "cell_type": "code",
   "execution_count": 13,
   "id": "938bedf2-d115-42bd-8908-ac61ef7c8dc8",
   "metadata": {},
   "outputs": [
    {
     "data": {
      "text/plain": [
       "[('Orange', 10, '2024-04-28')]"
      ]
     },
     "execution_count": 13,
     "metadata": {},
     "output_type": "execute_result"
    }
   ],
   "source": [
    "cursor.execute(\"select * from Pourcase1 where Price >= 8\")\n",
    "cursor.fetchall()"
   ]
  },
  {
   "cell_type": "code",
   "execution_count": 14,
   "id": "0c8e5a34-d4ea-4c89-9ab4-3908ad075407",
   "metadata": {},
   "outputs": [
    {
     "data": {
      "text/plain": [
       "[('Orange', 10, '2024-04-28'),\n",
       " ('Apple', 5, '2024-04-27'),\n",
       " ('Apple', 7, '2024-04-26')]"
      ]
     },
     "execution_count": 14,
     "metadata": {},
     "output_type": "execute_result"
    }
   ],
   "source": [
    "cursor.execute(\"select * from Pourcase1\")\n",
    "cursor.fetchall()"
   ]
  },
  {
   "cell_type": "code",
   "execution_count": 15,
   "id": "021993c7-dbc9-4bce-b550-8bdd6b45afce",
   "metadata": {},
   "outputs": [
    {
     "data": {
      "text/plain": [
       "[(10,)]"
      ]
     },
     "execution_count": 15,
     "metadata": {},
     "output_type": "execute_result"
    }
   ],
   "source": [
    "cursor.execute(\"select max(price) from Pourcase1\")\n",
    "cursor.fetchall()"
   ]
  },
  {
   "cell_type": "code",
   "execution_count": 19,
   "id": "f26a19db-36da-4daa-b870-4f954a4878d1",
   "metadata": {},
   "outputs": [
    {
     "data": {
      "text/plain": [
       "[(3,)]"
      ]
     },
     "execution_count": 19,
     "metadata": {},
     "output_type": "execute_result"
    }
   ],
   "source": [
    "cursor.execute(\"select count(*) from Pourcase1\")\n",
    "cursor.fetchall()"
   ]
  },
  {
   "cell_type": "code",
   "execution_count": 16,
   "id": "37d5b676-9ed2-40d3-8b09-5d754449fab0",
   "metadata": {},
   "outputs": [
    {
     "data": {
      "text/plain": [
       "[(5, 1), (7, 1), (10, 1)]"
      ]
     },
     "execution_count": 16,
     "metadata": {},
     "output_type": "execute_result"
    }
   ],
   "source": [
    "cursor.execute(\"select price, count(*) from Pourcase1 group by price\")\n",
    "cursor.fetchall()"
   ]
  },
  {
   "cell_type": "code",
   "execution_count": 18,
   "id": "61ac7c1a-a257-4cd1-86e7-1595dc7a6486",
   "metadata": {},
   "outputs": [
    {
     "data": {
      "text/plain": [
       "[(5.0,), (7.0,), (10.0,)]"
      ]
     },
     "execution_count": 18,
     "metadata": {},
     "output_type": "execute_result"
    }
   ],
   "source": [
    "cursor.execute(\"select avg(price) from Pourcase1 group by price\")\n",
    "cursor.fetchall()"
   ]
  },
  {
   "cell_type": "code",
   "execution_count": 20,
   "id": "7776ccc8-8fe8-4b2e-b590-ec7813997dbe",
   "metadata": {},
   "outputs": [
    {
     "data": {
      "text/plain": [
       "[(6.0,), (10.0,)]"
      ]
     },
     "execution_count": 20,
     "metadata": {},
     "output_type": "execute_result"
    }
   ],
   "source": [
    "cursor.execute(\"select avg(price) from Pourcase1 group by Product\")\n",
    "cursor.fetchall()"
   ]
  },
  {
   "cell_type": "code",
   "execution_count": 24,
   "id": "02d788a6-3dd3-46c4-92f2-df45a575bddf",
   "metadata": {},
   "outputs": [
    {
     "ename": "OperationalError",
     "evalue": "near \"(\": syntax error",
     "output_type": "error",
     "traceback": [
      "\u001b[0;31m---------------------------------------------------------------------------\u001b[0m",
      "\u001b[0;31mOperationalError\u001b[0m                          Traceback (most recent call last)",
      "Cell \u001b[0;32mIn[24], line 1\u001b[0m\n\u001b[0;32m----> 1\u001b[0m \u001b[43mcursor\u001b[49m\u001b[38;5;241;43m.\u001b[39;49m\u001b[43mexecute\u001b[49m\u001b[43m(\u001b[49m\u001b[38;5;124;43m\"\u001b[39;49m\u001b[38;5;124;43mselect Apple avg(price) from Pourcase1 group by Product\u001b[39;49m\u001b[38;5;124;43m\"\u001b[39;49m\u001b[43m)\u001b[49m\n\u001b[1;32m      2\u001b[0m cursor\u001b[38;5;241m.\u001b[39mfetchall()\n",
      "\u001b[0;31mOperationalError\u001b[0m: near \"(\": syntax error"
     ]
    }
   ],
   "source": []
  },
  {
   "cell_type": "code",
   "execution_count": 22,
   "id": "7f196f36-4f8d-4845-955c-09e57860d95e",
   "metadata": {},
   "outputs": [
    {
     "data": {
      "text/plain": [
       "[(6.0,)]"
      ]
     },
     "execution_count": 22,
     "metadata": {},
     "output_type": "execute_result"
    }
   ],
   "source": [
    "cursor.execute(\"select avg(price) from Pourcase1 where Product = 'Apple'\")\n",
    "cursor.fetchall()"
   ]
  },
  {
   "cell_type": "code",
   "execution_count": null,
   "id": "6f76c5ca-4770-4847-887c-5fa937ce5d7a",
   "metadata": {},
   "outputs": [],
   "source": []
  }
 ],
 "metadata": {
  "kernelspec": {
   "display_name": "Python 3 (ipykernel)",
   "language": "python",
   "name": "python3"
  },
  "language_info": {
   "codemirror_mode": {
    "name": "ipython",
    "version": 3
   },
   "file_extension": ".py",
   "mimetype": "text/x-python",
   "name": "python",
   "nbconvert_exporter": "python",
   "pygments_lexer": "ipython3",
   "version": "3.10.10"
  }
 },
 "nbformat": 4,
 "nbformat_minor": 5
}
