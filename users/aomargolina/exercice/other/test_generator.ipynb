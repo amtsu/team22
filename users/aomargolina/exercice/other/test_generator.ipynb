{
 "cells": [
  {
   "cell_type": "code",
   "execution_count": 2,
   "id": "82d0054c-73c8-4815-a4d9-f050e75eb6e6",
   "metadata": {},
   "outputs": [
    {
     "name": "stdout",
     "output_type": "stream",
     "text": [
      "я первый!\n",
      "я первый!\n",
      "я первый!\n"
     ]
    }
   ],
   "source": [
    "def a_return_foo():\n",
    "    return(\"я первый!\")    \n",
    "    return(\"я второй!\") \n",
    "    return(\"я третий!\")\n",
    "print(a_return_foo())\n",
    "#print(next(a_return_foo()))\n",
    "#print(a_return_foo())\n",
    "\n",
    "foo = a_return_foo \n",
    "print(foo())\n",
    "print(foo())\n",
    "#print(foo())"
   ]
  },
  {
   "cell_type": "code",
   "execution_count": 4,
   "id": "77e4abe8-dab4-446f-86a2-5f746e16a65a",
   "metadata": {},
   "outputs": [
    {
     "name": "stdout",
     "output_type": "stream",
     "text": [
      "<generator object a_yield_foo at 0x7fb4a7e83920>\n",
      "<generator object a_yield_foo at 0x7fb4a7e83920>\n",
      "я первый!\n",
      "я первый!\n",
      "я второй!\n"
     ]
    }
   ],
   "source": [
    "def a_yield_foo():\n",
    "    yield \"я первый!\"    \n",
    "    yield \"я второй!\" \n",
    "    yield \"я третий!\"\n",
    "#a_yield_foo()\n",
    "print(a_yield_foo())\n",
    "print(next(a_yield_foo()))\n",
    "print(next(a_yield_foo()))\n",
    "#print(a_yield_foo())\n",
    "#print(a_return_foo())\n",
    "foo = a_yield_foo() \n",
    "print(next(foo))\n",
    "print(next(foo))"
   ]
  },
  {
   "cell_type": "code",
   "execution_count": 5,
   "id": "b5fff7a7-92d9-468e-9a7c-703b5e3fe81a",
   "metadata": {},
   "outputs": [
    {
     "name": "stdout",
     "output_type": "stream",
     "text": [
      "type(items_gen)=<class 'generator'>\n",
      "int_items=[]\n",
      "int_items=[10, 20, 30, 1, 11, 100]\n"
     ]
    }
   ],
   "source": [
    "# то же самое но с генератором\n",
    "items = [\"10\", \"20\", \"30\", \"1\", \"11\", \"100\"]\n",
    "def get_int_items_generator(a_list):\n",
    "    for element in a_list:\n",
    "        yield int(element)\n",
    "items_gen = get_int_items_generator(items)\n",
    "print(f\"{type(items_gen)=}\")\n",
    "int_items = []\n",
    "print(f\"{int_items=}\")\n",
    "while True:\n",
    "    try:\n",
    "        int_items.append(next(items_gen))\n",
    "    except StopIteration:\n",
    "        break\n",
    "print(f\"{int_items=}\")"
   ]
  },
  {
   "cell_type": "code",
   "execution_count": null,
   "id": "682b9b26-b9b4-43fc-9e61-b78a91d06059",
   "metadata": {},
   "outputs": [],
   "source": []
  }
 ],
 "metadata": {
  "kernelspec": {
   "display_name": "Python 3 (ipykernel)",
   "language": "python",
   "name": "python3"
  },
  "language_info": {
   "codemirror_mode": {
    "name": "ipython",
    "version": 3
   },
   "file_extension": ".py",
   "mimetype": "text/x-python",
   "name": "python",
   "nbconvert_exporter": "python",
   "pygments_lexer": "ipython3",
   "version": "3.10.10"
  }
 },
 "nbformat": 4,
 "nbformat_minor": 5
}
