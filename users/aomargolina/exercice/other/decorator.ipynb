{
 "cells": [
  {
   "cell_type": "code",
   "execution_count": 1,
   "id": "d5bce316-fbaa-4858-94d6-995159e007b2",
   "metadata": {},
   "outputs": [],
   "source": [
    "def start_finish(func):\n",
    "    def func2(*args):\n",
    "        print('start')\n",
    "        func(*args)\n",
    "        print('finish')\n",
    "    return func2\n",
    "\n",
    "    "
   ]
  },
  {
   "cell_type": "code",
   "execution_count": 2,
   "id": "99fe5872-a56a-4abb-ad75-619d017ad558",
   "metadata": {},
   "outputs": [],
   "source": [
    "@start_finish\n",
    "def func_print(*args):\n",
    "    print(1)"
   ]
  },
  {
   "cell_type": "code",
   "execution_count": 3,
   "id": "363ae1e6-23ca-451e-98e5-a339aabefc41",
   "metadata": {},
   "outputs": [
    {
     "name": "stdout",
     "output_type": "stream",
     "text": [
      "start\n",
      "1\n",
      "finish\n"
     ]
    }
   ],
   "source": [
    "func_print(1)"
   ]
  },
  {
   "cell_type": "code",
   "execution_count": null,
   "id": "f0c0975a-3bbe-4acd-a5bf-8d2f3f1e7a5f",
   "metadata": {},
   "outputs": [],
   "source": []
  }
 ],
 "metadata": {
  "kernelspec": {
   "display_name": "Python 3 (ipykernel)",
   "language": "python",
   "name": "python3"
  },
  "language_info": {
   "codemirror_mode": {
    "name": "ipython",
    "version": 3
   },
   "file_extension": ".py",
   "mimetype": "text/x-python",
   "name": "python",
   "nbconvert_exporter": "python",
   "pygments_lexer": "ipython3",
   "version": "3.10.10"
  }
 },
 "nbformat": 4,
 "nbformat_minor": 5
}
