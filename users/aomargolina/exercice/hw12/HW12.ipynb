{
 "cells": [
  {
   "cell_type": "code",
   "execution_count": null,
   "id": "599e50b4-7b93-4373-b3e2-c7da86b9c7dd",
   "metadata": {},
   "outputs": [],
   "source": [
    "'''12.1Создайте класс Car, который представляет автомобиль. \n",
    "У него должны быть атрибуты для хранения модели, года выпуска, цвета, количества\n",
    "дверей и текущей скорости.\n",
    "Добавьте методы которые возвращают год, марку, цвет и текущую скорость автомобиля.\n",
    "12.2 Расширьте класс автомобиль, реализовав метод ускорения автомоиля на 5 км в час. \n",
    "И метод остановки автомобиля.'''"
   ]
  },
  {
   "cell_type": "code",
   "execution_count": 28,
   "id": "c6f97dfd-2024-4a98-bbcf-2351c3e359c7",
   "metadata": {},
   "outputs": [],
   "source": [
    "class Car:\n",
    "    def __init__(self, model, year, color, doors, speed):\n",
    "        self.model = model\n",
    "        self.year = year\n",
    "        self.color = color\n",
    "        self.doors = doors\n",
    "        self.speed = speed\n",
    "        \n",
    "    def car_year(self):\n",
    "        return self.year \n",
    "\n",
    "    def car_model(self):\n",
    "        return self.model\n",
    "    \n",
    "    def car_color(self):\n",
    "        return self.color\n",
    "    \n",
    "    def current_speed(self):\n",
    "        return self.speed \n",
    "\n",
    "    def acceleration(self):\n",
    "        new_speed = self.speed + 5\n",
    "        return new_speed\n",
    "    \n",
    "    def stop(self):\n",
    "        stop = self.speed - self.speed \n",
    "        #stop = 0\n",
    "        return stop\n",
    "        \n",
    "        "
   ]
  },
  {
   "cell_type": "code",
   "execution_count": 20,
   "id": "1944a98d-af59-4239-b146-b4016654ed63",
   "metadata": {},
   "outputs": [
    {
     "data": {
      "text/plain": [
       "2010"
      ]
     },
     "execution_count": 20,
     "metadata": {},
     "output_type": "execute_result"
    }
   ],
   "source": [
    "car1 = Car('mazda', 2010, 'white', 4, 100)\n",
    "car1.car_year()"
   ]
  },
  {
   "cell_type": "code",
   "execution_count": 3,
   "id": "9bb53cc3-e8ac-4461-91ca-61b96d14c58c",
   "metadata": {},
   "outputs": [],
   "source": [
    "def test_car():\n",
    "    car1 = Car('mazda', 2010, 'white', 4, 100)\n",
    "    assert car1.model == 'mazda'\n",
    "    assert car1.year == 2010\n",
    "\n",
    "test_car()\n",
    "    "
   ]
  },
  {
   "cell_type": "code",
   "execution_count": 21,
   "id": "aa598c13-223b-45f7-aae1-07d8a0ad190f",
   "metadata": {},
   "outputs": [
    {
     "name": "stdout",
     "output_type": "stream",
     "text": [
      "100\n"
     ]
    }
   ],
   "source": [
    "car1 = Car('mazda', 2010, 'white', 4, 100)\n",
    "print (car1.speed)"
   ]
  },
  {
   "cell_type": "code",
   "execution_count": 22,
   "id": "0e5857b0-69e4-4f67-a813-be1d234d671a",
   "metadata": {},
   "outputs": [
    {
     "name": "stdout",
     "output_type": "stream",
     "text": [
      "100\n"
     ]
    }
   ],
   "source": [
    "print(car1.current_speed())\n"
   ]
  },
  {
   "cell_type": "code",
   "execution_count": 23,
   "id": "8b3c84cb-356d-40c0-80e5-e183bad83777",
   "metadata": {},
   "outputs": [],
   "source": [
    "def test_acceleration():\n",
    "    car1 = Car('mazda', 2010, 'white', 4, 100)\n",
    "    assert car1.acceleration() == 105\n",
    "\n",
    "test_acceleration()"
   ]
  },
  {
   "cell_type": "code",
   "execution_count": 29,
   "id": "ed837727-01f1-4d22-9400-4f5c727b5113",
   "metadata": {},
   "outputs": [],
   "source": [
    "def test_stop():\n",
    "    car1 = Car('mazda', 2010, 'white', 4, 100)\n",
    "    assert car1.stop() == 0\n",
    "\n",
    "test_stop()"
   ]
  },
  {
   "cell_type": "code",
   "execution_count": null,
   "id": "4e12b78c-2cf0-4e00-bfa9-761dcf65139b",
   "metadata": {},
   "outputs": [],
   "source": [
    "2.1Создайте класс Student, который представляет студент. \n",
    "У него должны быть атрибуты для хранения имени, фамилии, возраста, адреса и список оценок.\n",
    "\n",
    "2.2Расширьте класс Student, создав метод добавления новой оценки и метод вычисления среднего бала."
   ]
  },
  {
   "cell_type": "code",
   "execution_count": 49,
   "id": "b8710f40-43fb-4af2-ac62-837b1b3f08fb",
   "metadata": {},
   "outputs": [],
   "source": [
    "class Student:\n",
    "    def __init__(self, name, surname, age, adress, marks_list):\n",
    "        self.name = name\n",
    "        self.surname = surname\n",
    "        self.age = age\n",
    "        self.adress = adress\n",
    "        self.marks_list = marks_list\n",
    "\n",
    "    def add_mark(self, mark):\n",
    "        self.marks_list.append(mark)\n",
    "\n",
    "    def avg_mark(self):\n",
    "        sum = 0\n",
    "        for i in marks_list:\n",
    "            sum = sum + i\n",
    "        avg = sum / len(marks_list)"
   ]
  },
  {
   "cell_type": "code",
   "execution_count": 57,
   "id": "74bece1b-9866-4bd9-b463-a67c12a9b80b",
   "metadata": {},
   "outputs": [
    {
     "name": "stdout",
     "output_type": "stream",
     "text": [
      "[1, 3, 5]\n"
     ]
    },
    {
     "ename": "NameError",
     "evalue": "name 'self' is not defined",
     "output_type": "error",
     "traceback": [
      "\u001b[0;31m---------------------------------------------------------------------------\u001b[0m",
      "\u001b[0;31mNameError\u001b[0m                                 Traceback (most recent call last)",
      "Cell \u001b[0;32mIn[57], line 3\u001b[0m\n\u001b[1;32m      1\u001b[0m S1 \u001b[38;5;241m=\u001b[39m Student(\u001b[38;5;124m'\u001b[39m\u001b[38;5;124mAnna\u001b[39m\u001b[38;5;124m'\u001b[39m, \u001b[38;5;124m'\u001b[39m\u001b[38;5;124mMargolina\u001b[39m\u001b[38;5;124m'\u001b[39m, \u001b[38;5;241m28\u001b[39m, \u001b[38;5;124m'\u001b[39m\u001b[38;5;124mMoscow\u001b[39m\u001b[38;5;124m'\u001b[39m, [\u001b[38;5;241m1\u001b[39m,\u001b[38;5;241m3\u001b[39m,\u001b[38;5;241m5\u001b[39m])\n\u001b[1;32m      2\u001b[0m \u001b[38;5;28mprint\u001b[39m (S1\u001b[38;5;241m.\u001b[39mmarks_list)\n\u001b[0;32m----> 3\u001b[0m \u001b[38;5;28;43mself\u001b[39;49m\u001b[38;5;241m.\u001b[39madd_mark(\u001b[38;5;241m5\u001b[39m)\n\u001b[1;32m      4\u001b[0m \u001b[38;5;28mprint\u001b[39m (S1\u001b[38;5;241m.\u001b[39mmarks_list)\n",
      "\u001b[0;31mNameError\u001b[0m: name 'self' is not defined"
     ]
    }
   ],
   "source": [
    "S1 = Student('Anna', 'Margolina', 28, 'Moscow', [1,3,5])\n",
    "print (S1.marks_list)\n",
    "self.add_mark(5)\n",
    "print (S1.marks_list)"
   ]
  },
  {
   "cell_type": "code",
   "execution_count": 52,
   "id": "be9c743f-aa60-45f5-8890-920d52ca8ea3",
   "metadata": {},
   "outputs": [
    {
     "ename": "AssertionError",
     "evalue": "",
     "output_type": "error",
     "traceback": [
      "\u001b[0;31m---------------------------------------------------------------------------\u001b[0m",
      "\u001b[0;31mAssertionError\u001b[0m                            Traceback (most recent call last)",
      "Cell \u001b[0;32mIn[52], line 5\u001b[0m\n\u001b[1;32m      2\u001b[0m     S1 \u001b[38;5;241m=\u001b[39m Student(\u001b[38;5;124m'\u001b[39m\u001b[38;5;124mAnna\u001b[39m\u001b[38;5;124m'\u001b[39m, \u001b[38;5;124m'\u001b[39m\u001b[38;5;124mMargolina\u001b[39m\u001b[38;5;124m'\u001b[39m, \u001b[38;5;241m28\u001b[39m, \u001b[38;5;124m'\u001b[39m\u001b[38;5;124mMoscow\u001b[39m\u001b[38;5;124m'\u001b[39m, [\u001b[38;5;241m1\u001b[39m,\u001b[38;5;241m3\u001b[39m,\u001b[38;5;241m5\u001b[39m])\n\u001b[1;32m      3\u001b[0m     \u001b[38;5;28;01massert\u001b[39;00m S1\u001b[38;5;241m.\u001b[39madd_mark(\u001b[38;5;241m5\u001b[39m) \u001b[38;5;241m==\u001b[39m [\u001b[38;5;241m1\u001b[39m,\u001b[38;5;241m3\u001b[39m,\u001b[38;5;241m5\u001b[39m,\u001b[38;5;241m5\u001b[39m]\n\u001b[0;32m----> 5\u001b[0m \u001b[43mtest_add_marks\u001b[49m\u001b[43m(\u001b[49m\u001b[43m)\u001b[49m\n",
      "Cell \u001b[0;32mIn[52], line 3\u001b[0m, in \u001b[0;36mtest_add_marks\u001b[0;34m()\u001b[0m\n\u001b[1;32m      1\u001b[0m \u001b[38;5;28;01mdef\u001b[39;00m \u001b[38;5;21mtest_add_marks\u001b[39m():\n\u001b[1;32m      2\u001b[0m     S1 \u001b[38;5;241m=\u001b[39m Student(\u001b[38;5;124m'\u001b[39m\u001b[38;5;124mAnna\u001b[39m\u001b[38;5;124m'\u001b[39m, \u001b[38;5;124m'\u001b[39m\u001b[38;5;124mMargolina\u001b[39m\u001b[38;5;124m'\u001b[39m, \u001b[38;5;241m28\u001b[39m, \u001b[38;5;124m'\u001b[39m\u001b[38;5;124mMoscow\u001b[39m\u001b[38;5;124m'\u001b[39m, [\u001b[38;5;241m1\u001b[39m,\u001b[38;5;241m3\u001b[39m,\u001b[38;5;241m5\u001b[39m])\n\u001b[0;32m----> 3\u001b[0m     \u001b[38;5;28;01massert\u001b[39;00m S1\u001b[38;5;241m.\u001b[39madd_mark(\u001b[38;5;241m5\u001b[39m) \u001b[38;5;241m==\u001b[39m [\u001b[38;5;241m1\u001b[39m,\u001b[38;5;241m3\u001b[39m,\u001b[38;5;241m5\u001b[39m,\u001b[38;5;241m5\u001b[39m]\n",
      "\u001b[0;31mAssertionError\u001b[0m: "
     ]
    }
   ],
   "source": [
    "def test_add_marks():\n",
    "    S1 = Student('Anna', 'Margolina', 28, 'Moscow', [1,3,5])\n",
    "    print \n",
    "    assert self.add_mark(5) == [1,3,5,5]\n",
    "\n",
    "test_add_marks()\n"
   ]
  },
  {
   "cell_type": "code",
   "execution_count": null,
   "id": "22cece64-61a9-4d61-8307-cf40c2dd812b",
   "metadata": {},
   "outputs": [],
   "source": []
  }
 ],
 "metadata": {
  "kernelspec": {
   "display_name": "Python 3 (ipykernel)",
   "language": "python",
   "name": "python3"
  },
  "language_info": {
   "codemirror_mode": {
    "name": "ipython",
    "version": 3
   },
   "file_extension": ".py",
   "mimetype": "text/x-python",
   "name": "python",
   "nbconvert_exporter": "python",
   "pygments_lexer": "ipython3",
   "version": "3.10.10"
  }
 },
 "nbformat": 4,
 "nbformat_minor": 5
}
