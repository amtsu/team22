{
 "cells": [
  {
   "cell_type": "code",
   "execution_count": 1,
   "id": "7c5d349e-d80f-4092-842e-e6e55ca1347b",
   "metadata": {},
   "outputs": [],
   "source": [
    "class Car():\n",
    "    type_s = 'Car'\n",
    "    \n",
    "    def __init__(self):\n",
    "        self.__number = 1\n",
    "        \n",
    "    def count_wheel(self):\n",
    "        return 4\n",
    "    \n",
    "    def drive(self):\n",
    "        return f'{self.type_s}: edu edu'"
   ]
  },
  {
   "cell_type": "code",
   "execution_count": 2,
   "id": "e78c13ee-0f20-4fdd-bb55-58bbbc850e38",
   "metadata": {},
   "outputs": [
    {
     "name": "stdout",
     "output_type": "stream",
     "text": [
      "Car: edu edu\n",
      "4\n"
     ]
    }
   ],
   "source": [
    "car_1 = Car()\n",
    "print(car_1.drive())\n",
    "print(car_1.count_wheel())"
   ]
  },
  {
   "cell_type": "code",
   "execution_count": 3,
   "id": "ac9b0e11-1ee0-489c-8a17-93186b9ebda8",
   "metadata": {},
   "outputs": [],
   "source": [
    "class Bus(Car):\n",
    "    type_s = 'Bus'\n",
    "    \n",
    "    def count_wheel(self):\n",
    "        return 6"
   ]
  },
  {
   "cell_type": "code",
   "execution_count": 4,
   "id": "c7fb9bab-33c9-43b4-b405-322bebaea6d3",
   "metadata": {},
   "outputs": [
    {
     "name": "stdout",
     "output_type": "stream",
     "text": [
      "Bus: edu edu\n",
      "6\n"
     ]
    }
   ],
   "source": [
    "\n",
    "bus_2 = Bus()\n",
    "#bus_2.drive()\n",
    "print(bus_2.drive())\n",
    "print(bus_2.count_wheel())"
   ]
  },
  {
   "cell_type": "code",
   "execution_count": 13,
   "id": "746990af-aa85-45e7-8f40-f4e55bb88aff",
   "metadata": {},
   "outputs": [
    {
     "ename": "NameError",
     "evalue": "name 'r' is not defined",
     "output_type": "error",
     "traceback": [
      "\u001b[0;31m---------------------------------------------------------------------------\u001b[0m",
      "\u001b[0;31mNameError\u001b[0m                                 Traceback (most recent call last)",
      "Cell \u001b[0;32mIn[13], line 12\u001b[0m\n\u001b[1;32m      9\u001b[0m         \u001b[38;5;28mself\u001b[39m\u001b[38;5;241m.\u001b[39mleinght \u001b[38;5;241m=\u001b[39m \u001b[38;5;241m2\u001b[39m \u001b[38;5;241m*\u001b[39m \u001b[38;5;241m3.14\u001b[39m \u001b[38;5;241m*\u001b[39m r\n\u001b[1;32m     11\u001b[0m sphera1 \u001b[38;5;241m=\u001b[39m sphera(\u001b[38;5;241m2\u001b[39m)\n\u001b[0;32m---> 12\u001b[0m \u001b[43msphera1\u001b[49m\u001b[38;5;241;43m.\u001b[39;49m\u001b[43msquare\u001b[49m\u001b[43m(\u001b[49m\u001b[43m)\u001b[49m\n",
      "Cell \u001b[0;32mIn[13], line 6\u001b[0m, in \u001b[0;36msphera.square\u001b[0;34m(self)\u001b[0m\n\u001b[1;32m      5\u001b[0m \u001b[38;5;28;01mdef\u001b[39;00m \u001b[38;5;21msquare\u001b[39m(\u001b[38;5;28mself\u001b[39m):\n\u001b[0;32m----> 6\u001b[0m     \u001b[38;5;28mself\u001b[39m\u001b[38;5;241m.\u001b[39msquare \u001b[38;5;241m=\u001b[39m \u001b[38;5;241m3.14\u001b[39m \u001b[38;5;241m*\u001b[39m \u001b[43mr\u001b[49m \u001b[38;5;241m*\u001b[39m\u001b[38;5;241m*\u001b[39m \u001b[38;5;241m2\u001b[39m\n",
      "\u001b[0;31mNameError\u001b[0m: name 'r' is not defined"
     ]
    }
   ],
   "source": [
    "class sphera():\n",
    "    def __init__(self, r):\n",
    "        self.r = r\n",
    "    \n",
    "    def square(self):\n",
    "        self.square = 3.14 * r ** 2\n",
    "        \n",
    "    def leinght(self):\n",
    "        self.leinght = 2 * 3.14 * r\n",
    "\n",
    "sphera1 = sphera(2)\n",
    "sphera1.square()\n"
   ]
  },
  {
   "cell_type": "code",
   "execution_count": 14,
   "id": "1864b26e-0277-4c95-8879-d4f81f3be619",
   "metadata": {},
   "outputs": [
    {
     "ename": "NameError",
     "evalue": "name 'r' is not defined",
     "output_type": "error",
     "traceback": [
      "\u001b[0;31m---------------------------------------------------------------------------\u001b[0m",
      "\u001b[0;31mNameError\u001b[0m                                 Traceback (most recent call last)",
      "Cell \u001b[0;32mIn[14], line 12\u001b[0m\n\u001b[1;32m      9\u001b[0m         \u001b[38;5;28mself\u001b[39m\u001b[38;5;241m.\u001b[39ml \u001b[38;5;241m=\u001b[39m \u001b[38;5;241m2\u001b[39m \u001b[38;5;241m*\u001b[39m \u001b[38;5;241m3.14\u001b[39m \u001b[38;5;241m*\u001b[39m r\n\u001b[1;32m     11\u001b[0m sphera1 \u001b[38;5;241m=\u001b[39m sphera(\u001b[38;5;241m2\u001b[39m)\n\u001b[0;32m---> 12\u001b[0m \u001b[43msphera1\u001b[49m\u001b[38;5;241;43m.\u001b[39;49m\u001b[43msquare\u001b[49m\u001b[43m(\u001b[49m\u001b[43m)\u001b[49m\n\u001b[1;32m     13\u001b[0m sphera1\u001b[38;5;241m.\u001b[39mleinght()\n",
      "Cell \u001b[0;32mIn[13], line 6\u001b[0m, in \u001b[0;36msphera.square\u001b[0;34m(self)\u001b[0m\n\u001b[1;32m      5\u001b[0m \u001b[38;5;28;01mdef\u001b[39;00m \u001b[38;5;21msquare\u001b[39m(\u001b[38;5;28mself\u001b[39m):\n\u001b[0;32m----> 6\u001b[0m     \u001b[38;5;28mself\u001b[39m\u001b[38;5;241m.\u001b[39msquare \u001b[38;5;241m=\u001b[39m \u001b[38;5;241m3.14\u001b[39m \u001b[38;5;241m*\u001b[39m \u001b[43mr\u001b[49m \u001b[38;5;241m*\u001b[39m\u001b[38;5;241m*\u001b[39m \u001b[38;5;241m2\u001b[39m\n",
      "\u001b[0;31mNameError\u001b[0m: name 'r' is not defined"
     ]
    }
   ],
   "source": [
    "class Sphera():\n",
    "    def __init__(self, r):\n",
    "        self.r = r\n",
    "    \n",
    "    def square(self):\n",
    "        self.sq = 3.14 * r ** 4\n",
    "        \n",
    "    def leinght(self):\n",
    "        self.l = 2 * 3.14 * r\n",
    "\n",
    "sphera1 = sphera(2)\n",
    "sphera1.square()\n",
    "sphera1.leinght()"
   ]
  },
  {
   "cell_type": "code",
   "execution_count": 29,
   "id": "0bde8e47-2ff4-4cf2-98e2-f061dd45cf49",
   "metadata": {},
   "outputs": [
    {
     "name": "stdout",
     "output_type": "stream",
     "text": [
      "50.24 25.12\n",
      "314.0 62.800000000000004\n"
     ]
    }
   ],
   "source": [
    "class Sphera:\n",
    "    def __init__(self, r):\n",
    "        self.r = r\n",
    "    \n",
    "    def square(self):\n",
    "        return 4 * 3.14 * self.r ** 2\n",
    "        \n",
    "    def leinght(self):\n",
    "       return 4 * 3.14 * self.r\n",
    "\n",
    "sphera1 = Sphera(2)\n",
    "res1 = sphera1.square()\n",
    "res2 = sphera1.leinght()\n",
    "print(res1, res2)\n",
    "\n",
    "sphera2 = Sphera(5)\n",
    "res3 = sphera2.square()\n",
    "res4 = sphera2.leinght()\n",
    "\n",
    "print(res3, res4)"
   ]
  },
  {
   "cell_type": "code",
   "execution_count": 17,
   "id": "c8b824de-805e-4e6c-922b-50a7ffca1b97",
   "metadata": {},
   "outputs": [
    {
     "name": "stdout",
     "output_type": "stream",
     "text": [
      "50.26544 314.159\n"
     ]
    }
   ],
   "source": [
    "PI = 3.14159\n",
    "\n",
    "class Sphere:\n",
    "    def __init__(self, r):\n",
    "        self.r = r\n",
    "        \n",
    "    def area(self):\n",
    "        return 4 * PI * self.r ** 2\n",
    "    \n",
    "sphere1 = Sphere(2)\n",
    "sphere2 = Sphere(5)\n",
    "\n",
    "area1 = sphere1.area()\n",
    "area2 = sphere2.area()\n",
    "\n",
    "print(area1, area2)"
   ]
  },
  {
   "cell_type": "code",
   "execution_count": null,
   "id": "d78b315d-53bd-4295-8169-37c590651ca0",
   "metadata": {},
   "outputs": [],
   "source": [
    "#Аня Марголина\n",
    "class SewingMachine:\n",
    "    def __init__(self, weihgt, color):\n",
    "        self.weight = weight\n",
    "        self.color = color\n",
    "        \n",
    "    def x_type_of_sew(self, x):\n",
    "        self.x = type_of_sew\n",
    "        \n",
    "    def y_type_of_sew(self, y):\n",
    "        self.y = type_of_sew\n",
    " \n",
    "SM_x = SewingMachine(5, \"white\")\n",
    "\n",
    "TS = SM_x.x_type_of_sew()\n"
   ]
  }
 ],
 "metadata": {
  "kernelspec": {
   "display_name": "Python 3 (ipykernel)",
   "language": "python",
   "name": "python3"
  },
  "language_info": {
   "codemirror_mode": {
    "name": "ipython",
    "version": 3
   },
   "file_extension": ".py",
   "mimetype": "text/x-python",
   "name": "python",
   "nbconvert_exporter": "python",
   "pygments_lexer": "ipython3",
   "version": "3.10.10"
  }
 },
 "nbformat": 4,
 "nbformat_minor": 5
}
