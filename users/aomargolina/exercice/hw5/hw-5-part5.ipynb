{
 "cells": [
  {
   "cell_type": "markdown",
   "id": "e5e7b6e6-df34-44d4-8dce-ad5dbff8958b",
   "metadata": {},
   "source": [
    "# Часть 5 - Функции\n",
    "\n",
    "## Множества\n"
   ]
  },
  {
   "cell_type": "markdown",
   "id": "ebc29429-f37b-48f2-9e28-293ea449f065",
   "metadata": {},
   "source": [
    "1. Создайте функции **set_union** и **set_difference** для операций объединения и разности множеств.\n",
    "   - Функции должны принимать два множества и возвращать соответствующий результат.\n",
    "     \n"
   ]
  },
  {
   "cell_type": "code",
   "execution_count": 1,
   "id": "a681b23a-0dd9-4d8f-843d-8a6c588230f0",
   "metadata": {},
   "outputs": [
    {
     "name": "stdout",
     "output_type": "stream",
     "text": [
      "{0, 1, 2, 3}\n",
      "{3}\n"
     ]
    }
   ],
   "source": [
    "def set_union(set1, set2):\n",
    "    res = set1.union(set2)\n",
    "    return(res)\n",
    "\n",
    "def set_difference(set1, set2):\n",
    "    res = set1.difference(set2)\n",
    "    return(res)\n",
    "\n",
    "set1 = {1, 2, 3}\n",
    "set2 = {0, 1, 2}\n",
    "print(set_union(set1,set2))\n",
    "print(set_difference(set1, set2))"
   ]
  },
  {
   "cell_type": "markdown",
   "id": "d684e5fc-2d58-4a2f-93d9-3e20e8b17b3b",
   "metadata": {},
   "source": [
    "2. Создайте функцию **is_subset** для проверки, является ли одно множество подмножеством другого.\n"
   ]
  },
  {
   "cell_type": "code",
   "execution_count": 2,
   "id": "e162ba2e-00f9-4ce4-abfc-686fb803a7d5",
   "metadata": {},
   "outputs": [
    {
     "name": "stdout",
     "output_type": "stream",
     "text": [
      "True\n"
     ]
    }
   ],
   "source": [
    "def is_subset(set1, set2):\n",
    "    return(s1.issubset(s2))\n",
    "#print(first_three_planets.issubset(solar_system)) \n",
    "s1 = {'1'}\n",
    "s2 = {'1', '2', '3'}\n",
    "\n",
    "print(is_subset(s1, s2))"
   ]
  },
  {
   "cell_type": "markdown",
   "id": "9e205e46-bcf9-42e5-a63d-4a4c48e66a24",
   "metadata": {},
   "source": [
    "3. Создайте функцию для объединения нескольких множеств."
   ]
  },
  {
   "cell_type": "code",
   "execution_count": 3,
   "id": "9106acb5-4a99-447e-89a0-d093ada14cc9",
   "metadata": {},
   "outputs": [],
   "source": [
    "def sets_union1(*sets):\n",
    "    result_set = set()\n",
    "    for current_set in sets:\n",
    "        res = result_set.union(current_set)\n",
    "        #result_set = result_set | current_set\n",
    "    "
   ]
  },
  {
   "cell_type": "code",
   "execution_count": 4,
   "id": "f084d545-84df-48c6-b87b-fd87e4c129c1",
   "metadata": {},
   "outputs": [
    {
     "data": {
      "text/plain": [
       "{1, 2, 3, 4, 5, 6, 7}"
      ]
     },
     "execution_count": 4,
     "metadata": {},
     "output_type": "execute_result"
    }
   ],
   "source": [
    "def union(set1, *sets):\n",
    "  return set1.union(*sets)\n",
    "\n",
    "a = {1,2,3,4}\n",
    "b = {4,5,6}\n",
    "c = {7,4,1}\n",
    "union(a,b,c)"
   ]
  },
  {
   "cell_type": "markdown",
   "id": "b5060f5e-5dce-4cef-8f97-c0d2dcee5d83",
   "metadata": {},
   "source": [
    "4. Создайте функцию для удаления конкретного элемента из множества.\n"
   ]
  },
  {
   "cell_type": "code",
   "execution_count": 5,
   "id": "9da1ec6a-24fd-49bc-829e-dc4ad63398fc",
   "metadata": {},
   "outputs": [],
   "source": [
    "def del_element(s, n):\n",
    "    s.remove(n)\n",
    "    return(s)\n",
    "\n"
   ]
  },
  {
   "cell_type": "code",
   "execution_count": 6,
   "id": "b70335b4-2842-4f76-b740-f220c51eff9e",
   "metadata": {},
   "outputs": [
    {
     "data": {
      "text/plain": [
       "{0, 1, 3, 4}"
      ]
     },
     "execution_count": 6,
     "metadata": {},
     "output_type": "execute_result"
    }
   ],
   "source": [
    "set_test = {0,1,2,3,4}\n",
    "del_element(set_test, 2)"
   ]
  },
  {
   "cell_type": "markdown",
   "id": "c5107c2e-93ce-4683-bf80-150b07b38384",
   "metadata": {},
   "source": [
    "5. Создайте функцию для поиска пересечения нескольких множеств.\n"
   ]
  },
  {
   "cell_type": "code",
   "execution_count": 7,
   "id": "bd99a8a6-b0c0-4e2d-b804-289eb3205be0",
   "metadata": {},
   "outputs": [],
   "source": [
    "def set_inter(set_1, *sets):\n",
    "    intset = set_1\n",
    "    for n in sets:\n",
    "        intset = intset & n\n",
    "    return(intset)"
   ]
  },
  {
   "cell_type": "code",
   "execution_count": 8,
   "id": "0dbabac8-200e-4b38-9454-5c48dee4f3f2",
   "metadata": {},
   "outputs": [
    {
     "data": {
      "text/plain": [
       "{2}"
      ]
     },
     "execution_count": 8,
     "metadata": {},
     "output_type": "execute_result"
    }
   ],
   "source": [
    "set_1 = {1,2,3}\n",
    "set_2 = {2,3,4}\n",
    "set_3 = {2,4,6}\n",
    "set_inter(set_1, set_2, set_3)"
   ]
  },
  {
   "cell_type": "markdown",
   "id": "1574ecbc-cc0f-48ca-8769-3986d78ca5ef",
   "metadata": {},
   "source": [
    "6. Создайте функцию для проверки на равенство двух множеств.\n"
   ]
  },
  {
   "cell_type": "code",
   "execution_count": 9,
   "id": "b2eacdd0-a8bd-41b1-a82e-599a2c4078fc",
   "metadata": {},
   "outputs": [],
   "source": [
    "def is_equal(s_1, s_2):\n",
    "    intset = s_1 & s_2\n",
    "    if intset == s_1:\n",
    "        return('sets are equal')\n",
    "    else:\n",
    "        return(\"sets aren't equal\")"
   ]
  },
  {
   "cell_type": "code",
   "execution_count": 10,
   "id": "4bf45b97-4b06-487d-b92e-d6c32a5fe13d",
   "metadata": {},
   "outputs": [
    {
     "name": "stdout",
     "output_type": "stream",
     "text": [
      "sets are equal\n",
      "sets aren't equal\n"
     ]
    }
   ],
   "source": [
    "s_1 = {1,2,3}\n",
    "s_2 = {1,2,3}\n",
    "print(is_equal(s_1, s_2))\n",
    "\n",
    "s_1 = {1,2,3}\n",
    "s_2 = {2,3,4}\n",
    "print(is_equal(s_1, s_2))"
   ]
  },
  {
   "cell_type": "markdown",
   "id": "f3a5f1f2-6905-43cf-abd0-9f96586770d7",
   "metadata": {},
   "source": [
    "7. Создайте функцию для нахождения объединения трех множеств.\n"
   ]
  },
  {
   "cell_type": "code",
   "execution_count": 11,
   "id": "dce6891e-bba6-4310-82bc-d6031e5742f9",
   "metadata": {},
   "outputs": [],
   "source": [
    "def set_union_3(s1,s2,s3):\n",
    "    temp = s1.union(s2)\n",
    "    res = temp.union(s3)\n",
    "    return(res)\n",
    "    "
   ]
  },
  {
   "cell_type": "code",
   "execution_count": 12,
   "id": "ef59edd7-2c32-4a83-a78a-5cc67b44e617",
   "metadata": {},
   "outputs": [],
   "source": [
    "def set_union_test(s1,s2,s3):\n",
    "    res = s1.union(s2,s3)\n",
    "    return(res)"
   ]
  },
  {
   "cell_type": "code",
   "execution_count": 13,
   "id": "95f7dfa8-0d0c-46ac-9543-e1ab76b34e82",
   "metadata": {},
   "outputs": [
    {
     "name": "stdout",
     "output_type": "stream",
     "text": [
      "{1, 2, 3, 4, 5, 6, 7, 8, 9}\n",
      "{1, 2, 'c', 4, 5, 'b', 8, 7, 'a'}\n"
     ]
    }
   ],
   "source": [
    "s1 = {1,2,3}\n",
    "s2 = {4,5,6}\n",
    "s3 = {7,8,9}\n",
    "print(set_union_3(s1,s2,s3))\n",
    "\n",
    "s1 = {1,2, 'a'}\n",
    "s2 = {4,5,'b'}\n",
    "s3 = {7,8,'c'}\n",
    "print(set_union_test(s1, s2, s3))\n"
   ]
  },
  {
   "cell_type": "markdown",
   "id": "5ffb8044-0ec8-408a-b2e9-9c42e3d3c79d",
   "metadata": {},
   "source": [
    "8. Создайте функцию для проверки, являются ли два множества дизъюнктными (не имеют общих элементов).\n"
   ]
  },
  {
   "cell_type": "code",
   "execution_count": 14,
   "id": "4ecc877c-ee47-4b9d-b424-bd86e2ee2ff0",
   "metadata": {},
   "outputs": [],
   "source": [
    "def is_dis(s_1, s_2):\n",
    "    intset = s_1 & s_2\n",
    "    if intset == set():\n",
    "        return(\"sets haven't equal elements\")\n",
    "    else:\n",
    "        return(\"sets have equal elements\")\n",
    "              "
   ]
  },
  {
   "cell_type": "code",
   "execution_count": 15,
   "id": "73ccb0bb-0077-4178-965b-6be4b8393a53",
   "metadata": {},
   "outputs": [
    {
     "name": "stdout",
     "output_type": "stream",
     "text": [
      "sets haven't equal elements\n"
     ]
    }
   ],
   "source": [
    "s_1 = {1,2,3}\n",
    "s_2 = {5,6,4}\n",
    "print(is_dis(s_1, s_2))"
   ]
  },
  {
   "cell_type": "markdown",
   "id": "43a849db-49c8-4c6b-a015-fba7c097d05d",
   "metadata": {},
   "source": [
    "9. Создайте функцию для нахождения разности двух множеств.\n"
   ]
  },
  {
   "cell_type": "code",
   "execution_count": 16,
   "id": "e3ebff96-4e42-42c0-b56c-e35c1ee0fbda",
   "metadata": {},
   "outputs": [],
   "source": [
    "def set_difference(set1, set2):\n",
    "    res = set1.difference(set2)\n",
    "    return(res)"
   ]
  },
  {
   "cell_type": "code",
   "execution_count": 17,
   "id": "db21d7f9-84a4-4b38-ad43-957cf2745b1a",
   "metadata": {},
   "outputs": [
    {
     "name": "stdout",
     "output_type": "stream",
     "text": [
      "{1, 2, 7}\n"
     ]
    }
   ],
   "source": [
    "s_1 = {1,2,3,7}\n",
    "s_2 = {5,6,4,3}\n",
    "print(set_difference(s_1, s_2))"
   ]
  },
  {
   "cell_type": "markdown",
   "id": "a3344764-fe59-4820-a488-87b0c86c7b69",
   "metadata": {},
   "source": [
    "10. Создайте функцию для определения симметрической разности двух множеств.\n"
   ]
  },
  {
   "cell_type": "code",
   "execution_count": 18,
   "id": "f736350b-a8d6-4e84-8d1b-e366ebe3b72c",
   "metadata": {},
   "outputs": [],
   "source": [
    "def simmetric_set(s1, s2):\n",
    "    sim_set = s1.symmetric_difference(s2)"
   ]
  },
  {
   "cell_type": "markdown",
   "id": "52e92a87-2a7b-4634-a258-f28848c3de46",
   "metadata": {},
   "source": [
    "11. Создайте функцию **create_set** для создания множества с заданными элементами.\n",
    "   - Функция должна принимать переменное количество аргументов и возвращать новое множество.\n"
   ]
  },
  {
   "cell_type": "code",
   "execution_count": 19,
   "id": "d27ec175-7226-467b-a278-b2b667e60a42",
   "metadata": {},
   "outputs": [],
   "source": [
    "def create_set(*args):\n",
    "    return set(args)"
   ]
  },
  {
   "cell_type": "code",
   "execution_count": 20,
   "id": "0abba126-4d13-4d6c-b30b-ac0fff2d1183",
   "metadata": {},
   "outputs": [
    {
     "data": {
      "text/plain": [
       "{1, 2, 3}"
      ]
     },
     "execution_count": 20,
     "metadata": {},
     "output_type": "execute_result"
    }
   ],
   "source": [
    "create_set(1, 2, 3)"
   ]
  },
  {
   "cell_type": "markdown",
   "id": "d2f1bbce-9bcf-4746-98f3-c844458fb444",
   "metadata": {},
   "source": [
    "## Словари"
   ]
  },
  {
   "cell_type": "markdown",
   "id": "afd4ab39-39e7-4e4e-b8c7-481676305aa5",
   "metadata": {},
   "source": [
    "1. Создайте функцию **create_dictionary** для создания словаря с заданными ключами и значениями.\n",
    "   - Функция должна принимать словарь в формате ключ-значение и возвращать созданный словарь."
   ]
  },
  {
   "cell_type": "code",
   "execution_count": 21,
   "id": "5cea8acd-c749-40b8-b983-2dfd35e116c2",
   "metadata": {},
   "outputs": [],
   "source": [
    "def create_dictionary(**args):\n",
    "    return args"
   ]
  },
  {
   "cell_type": "code",
   "execution_count": 22,
   "id": "3920e3cb-ce57-421b-a343-e0d004b5b201",
   "metadata": {},
   "outputs": [
    {
     "name": "stdout",
     "output_type": "stream",
     "text": [
      "{'name': 'Anna', 'age': '28', 'city': 'Moscow'}\n"
     ]
    }
   ],
   "source": [
    "print(create_dictionary(name='Anna', age='28', city='Moscow'))"
   ]
  },
  {
   "cell_type": "markdown",
   "id": "d1650ef0-449b-4793-960b-2dd5307bfa6a",
   "metadata": {},
   "source": [
    "2. Напишите функции add_student и remove_student для добавления и удаления студентов из словаря.\n",
    "   - Функции должны принимать словарь студентов и соответствующие данные для добавления и удаления."
   ]
  },
  {
   "cell_type": "code",
   "execution_count": 23,
   "id": "fa56fb0a-f396-47fe-8d18-3406cb02d1be",
   "metadata": {},
   "outputs": [],
   "source": [
    "def add_student(dict_student, name, age):\n",
    "    dict_student[name] = age"
   ]
  },
  {
   "cell_type": "code",
   "execution_count": 24,
   "id": "ce565cc4-5ba9-430b-ae99-fe6204be34de",
   "metadata": {},
   "outputs": [
    {
     "name": "stdout",
     "output_type": "stream",
     "text": [
      "{'Иванов': 22, 'Петрова': 13, 'Сидоров': 23, 'Смирнова': 24}\n"
     ]
    }
   ],
   "source": [
    "students = {\"Иванов\": 22, \"Петрова\": 13, \"Сидоров\": 23}\n",
    "add_student(students, 'Смирнова', 24)\n",
    "print(students)\n",
    "\n",
    "\n",
    "\n",
    "# students = add_student(students, Смирнова, 25)\n",
    "# #students[\"Смирнова\"] = (20)\n",
    "# students"
   ]
  },
  {
   "cell_type": "code",
   "execution_count": 25,
   "id": "2ad2b74a-0d9a-4dee-83a7-5cc7dd8ce70d",
   "metadata": {},
   "outputs": [],
   "source": [
    "def remove_student(dict_student, name):\n",
    "    del dict_student[name]"
   ]
  },
  {
   "cell_type": "code",
   "execution_count": 26,
   "id": "421f985c-33dd-4cb9-b79e-2d5ea2d2e803",
   "metadata": {},
   "outputs": [
    {
     "data": {
      "text/plain": [
       "{'Иванов': 22, 'Сидоров': 23, 'Смирнова': 24}"
      ]
     },
     "execution_count": 26,
     "metadata": {},
     "output_type": "execute_result"
    }
   ],
   "source": [
    "remove_student(students, \"Петрова\")\n",
    "students"
   ]
  },
  {
   "cell_type": "markdown",
   "id": "61696b5a-096d-4557-a0b0-0f72b0f9a869",
   "metadata": {},
   "source": [
    "3. Напишите функции **add_fruit** и **remove_fruit** для добавления и удаления фруктов, их количества и стоимости в списки fruits_quantity и fruits_prices.\n",
    "   - Функции должны принимать словари и соответствующие данные для добавления и удаления."
   ]
  },
  {
   "cell_type": "code",
   "execution_count": 27,
   "id": "7e599200-57fa-47d1-a30a-b671bb5b658f",
   "metadata": {},
   "outputs": [],
   "source": [
    "def add_fruit(fruits_quantity, fruits_prices, name, quant, price):\n",
    "    fruits_quantity[name] = quant\n",
    "    fruits_prices[name] = price"
   ]
  },
  {
   "cell_type": "code",
   "execution_count": 56,
   "id": "5725afbd-4434-41a9-8e4b-da0aa2570615",
   "metadata": {},
   "outputs": [],
   "source": [
    "fruits_quantity = {\n",
    "    \"яблоко\": 5,\n",
    "    \"банан\": 10,\n",
    "    \"апельсин\": 7\n",
    "}"
   ]
  },
  {
   "cell_type": "code",
   "execution_count": 57,
   "id": "718a87d1-e3d1-4880-b9eb-513448b3d803",
   "metadata": {},
   "outputs": [],
   "source": [
    "fruits_prices = {\n",
    "    \"яблоко\": 1.5,\n",
    "    \"банан\": 2,\n",
    "    \"апельсин\": 1.2\n",
    "}"
   ]
  },
  {
   "cell_type": "code",
   "execution_count": 30,
   "id": "5d961da2-7ae3-45b4-ad54-8e8fdd39b1f9",
   "metadata": {},
   "outputs": [
    {
     "name": "stdout",
     "output_type": "stream",
     "text": [
      "{'яблоко': 5, 'банан': 10, 'апельсин': 7, 'мандарин': 5}\n",
      "{'яблоко': 1.5, 'банан': 2, 'апельсин': 1.2, 'мандарин': 10}\n"
     ]
    }
   ],
   "source": [
    "add_fruit(fruits_quantity, fruits_prices, 'мандарин', 5, 10)\n",
    "print(fruits_quantity)\n",
    "print(fruits_prices)"
   ]
  },
  {
   "cell_type": "code",
   "execution_count": 31,
   "id": "c89966ae-0b3c-430f-b429-775574f553ee",
   "metadata": {},
   "outputs": [],
   "source": [
    "def remove_fruit(fruits_quantity, fruits_prices, name):\n",
    "    if not(name in fruits_quantity and name in fruits_prices):\n",
    "        print('такого фрукта нет')\n",
    "    else:\n",
    "        del fruits_quantity[name]\n",
    "        del fruits_prices[name]"
   ]
  },
  {
   "cell_type": "code",
   "execution_count": 32,
   "id": "bd343b83-d3ae-4c50-b2b4-f0c7c09fabc1",
   "metadata": {},
   "outputs": [],
   "source": [
    "def remove_fruit_best(fruits_quantity, fruits_prices, name):\n",
    "    if name in fruits_quantity and name in fruits_prices:\n",
    "        del fruits_quantity[name]\n",
    "        del fruits_prices[name]\n",
    "    else:\n",
    "         print('такого фрукта нет')  "
   ]
  },
  {
   "cell_type": "code",
   "execution_count": 33,
   "id": "32fe0902-e6cb-44f6-8f22-b98b7a8610e3",
   "metadata": {},
   "outputs": [
    {
     "name": "stdout",
     "output_type": "stream",
     "text": [
      "такого фрукта нет\n",
      "{'яблоко': 5, 'банан': 10, 'апельсин': 7, 'мандарин': 5}\n",
      "{'яблоко': 1.5, 'банан': 2, 'апельсин': 1.2, 'мандарин': 10}\n",
      "такого фрукта нет\n",
      "{'яблоко': 5, 'апельсин': 7, 'мандарин': 5}\n",
      "{'яблоко': 1.5, 'апельсин': 1.2, 'мандарин': 10}\n"
     ]
    }
   ],
   "source": [
    "remove_fruit(fruits_quantity, fruits_prices, 'fh,ep')\n",
    "print(fruits_quantity)\n",
    "print(fruits_prices)\n",
    "remove_fruit_best(fruits_quantity, fruits_prices, 'арбуз')\n",
    "remove_fruit_best(fruits_quantity, fruits_prices, 'банан')\n",
    "print(fruits_quantity)\n",
    "print(fruits_prices)"
   ]
  },
  {
   "cell_type": "markdown",
   "id": "6b57614f-432e-428e-90aa-72fe4384ed88",
   "metadata": {},
   "source": [
    "    \n",
    "4. Создайте функцию для объединения двух словарей."
   ]
  },
  {
   "cell_type": "code",
   "execution_count": 34,
   "id": "a63a6d3d-55eb-4948-943a-4c61758ec41e",
   "metadata": {},
   "outputs": [],
   "source": [
    "def dict_union(dict1, dict2):\n",
    "    dict1.update(dict2)\n",
    "    return dict1"
   ]
  },
  {
   "cell_type": "code",
   "execution_count": 35,
   "id": "1d23d9c2-8590-4db8-8b4c-e0b0b0a48bbf",
   "metadata": {},
   "outputs": [
    {
     "data": {
      "text/plain": [
       "{'яблоко': 5, 'банан': 10, 'апельсин': 1.2, 'абрикос': 1.5, 'мандарин': 2}"
      ]
     },
     "execution_count": 35,
     "metadata": {},
     "output_type": "execute_result"
    }
   ],
   "source": [
    "fruits_quantity = {\n",
    "    \"яблоко\": 5,\n",
    "    \"банан\": 10,\n",
    "    \"апельсин\": 7\n",
    "}\n",
    "fruits_prices = {\n",
    "    \"абрикос\": 1.5,\n",
    "    \"мандарин\": 2,\n",
    "    \"апельсин\": 1.2\n",
    "}\n",
    "dict_union(fruits_quantity, fruits_prices)"
   ]
  },
  {
   "cell_type": "markdown",
   "id": "d47c1db5-b79b-43c6-aab4-2c1a227a7b06",
   "metadata": {},
   "source": [
    "5. Создайте функцию для удаления элемента из словаря по заданному ключу."
   ]
  },
  {
   "cell_type": "code",
   "execution_count": 36,
   "id": "408f503f-e3c7-4056-81b6-2306c75c82a4",
   "metadata": {},
   "outputs": [],
   "source": [
    "def remove_fruit_key(dict1, name):\n",
    "        del dict1[name]\n",
    "       "
   ]
  },
  {
   "cell_type": "code",
   "execution_count": 37,
   "id": "2d75f731-8b6a-46c7-b83e-b3326860afab",
   "metadata": {},
   "outputs": [
    {
     "name": "stdout",
     "output_type": "stream",
     "text": [
      "{'яблоко': 5, 'апельсин': 7}\n"
     ]
    }
   ],
   "source": [
    "fruits_quantity = {\n",
    "    \"яблоко\": 5,\n",
    "    \"банан\": 10,\n",
    "    \"апельсин\": 7\n",
    "}\n",
    "\n",
    "remove_fruit_key(fruits_quantity, 'банан')\n",
    "print(fruits_quantity)"
   ]
  },
  {
   "cell_type": "markdown",
   "id": "f609f228-21af-42cb-9714-2c723f37f5eb",
   "metadata": {},
   "source": [
    "6. Создайте функцию для переворачивания значений и ключей в словаре (принимает на вход словарь, возвращает другой словарь, ключами которого являются значения входного словаря, а значениями - ключи."
   ]
  },
  {
   "cell_type": "code",
   "execution_count": 38,
   "id": "fd90196c-2438-4eeb-8beb-cad200064044",
   "metadata": {},
   "outputs": [
    {
     "name": "stdout",
     "output_type": "stream",
     "text": [
      "{'яблоко': 5, 'апельсин': 7}\n"
     ]
    },
    {
     "data": {
      "text/plain": [
       "{5: 'яблоко', 7: 'апельсин'}"
      ]
     },
     "execution_count": 38,
     "metadata": {},
     "output_type": "execute_result"
    }
   ],
   "source": [
    "print(fruits_quantity)\n",
    "\n",
    "def kwchange(dict1):\n",
    "    dict2 = {}\n",
    "    for k, v in dict1.items():\n",
    "        dict2[v] = k\n",
    "    return dict2\n",
    "\n",
    "kwchange(fruits_quantity)"
   ]
  },
  {
   "cell_type": "markdown",
   "id": "a1eda518-9d0c-4a7f-bb33-cb02ff3d36d4",
   "metadata": {},
   "source": [
    "7. Создайте функцию для сортировки словаря по ключам в обратном порядке."
   ]
  },
  {
   "cell_type": "code",
   "execution_count": 39,
   "id": "bc08daef-a563-4cd2-a43c-38c202a1d45e",
   "metadata": {},
   "outputs": [],
   "source": [
    "def dict_sort(dict1):\n",
    "    sort_dict = sorted(dict1.items(), reverse = True)\n",
    "    return(sort_dict)"
   ]
  },
  {
   "cell_type": "code",
   "execution_count": 40,
   "id": "9153fdb6-f3e0-4789-9d19-99b97c592f0d",
   "metadata": {},
   "outputs": [
    {
     "name": "stdout",
     "output_type": "stream",
     "text": [
      "{'яблоко': 5, 'банан': 10, 'апельсин': 7}\n",
      "[('яблоко', 5), ('банан', 10), ('апельсин', 7)]\n"
     ]
    }
   ],
   "source": [
    "fruits_quantity = {\n",
    "    \"яблоко\": 5,\n",
    "    \"банан\": 10,\n",
    "    \"апельсин\": 7\n",
    "}\n",
    "print(fruits_quantity)\n",
    "\n",
    "print(dict_sort(fruits_quantity))\n"
   ]
  },
  {
   "cell_type": "code",
   "execution_count": 41,
   "id": "34c589af-8722-41bb-88b1-1825a0b86dbb",
   "metadata": {},
   "outputs": [
    {
     "name": "stdout",
     "output_type": "stream",
     "text": [
      "{'яблоко': 5, 'банан': 10, 'апельсин': 7}\n",
      "{'апельсин': 7, 'банан': 10, 'яблоко': 5}\n",
      "{'яблоко': 5, 'банан': 10, 'апельсин': 7}\n"
     ]
    }
   ],
   "source": [
    "print(fruits_quantity)\n",
    "\n",
    "print(dict(sorted(fruits_quantity.items()))) \n",
    "print(dict(sorted(fruits_quantity.items(), reverse = True))) \n"
   ]
  },
  {
   "cell_type": "markdown",
   "id": "1f94e9ec-e6c8-4814-90bf-ddc3229aaa8b",
   "metadata": {},
   "source": [
    "8.  Создайте функцию возвращающую наибольшее значение элемента словаря."
   ]
  },
  {
   "cell_type": "code",
   "execution_count": 42,
   "id": "940daac1-62c3-4b77-899a-bbaf9d4c5978",
   "metadata": {},
   "outputs": [],
   "source": [
    "def dict_max(d):\n",
    "    res = max(d.values())\n",
    "    return res"
   ]
  },
  {
   "cell_type": "code",
   "execution_count": 43,
   "id": "07e57499-5bd5-4d12-b0c6-934388af799e",
   "metadata": {},
   "outputs": [
    {
     "data": {
      "text/plain": [
       "10"
      ]
     },
     "execution_count": 43,
     "metadata": {},
     "output_type": "execute_result"
    }
   ],
   "source": [
    "fruits_quantity = {\n",
    "    \"яблоко\": 5,\n",
    "    \"банан\": 10,\n",
    "    \"апельсин\": 7\n",
    "}\n",
    "\n",
    "dict_max(fruits_quantity)"
   ]
  },
  {
   "cell_type": "code",
   "execution_count": 44,
   "id": "3684d4e9-498e-413b-96a4-c93dd6218c6a",
   "metadata": {},
   "outputs": [],
   "source": [
    "def dict_max1(d):\n",
    "    result = float('-inf')\n",
    "    for v in d.values():\n",
    "        if v > result:\n",
    "            result = v\n",
    "    return result\n",
    "    "
   ]
  },
  {
   "cell_type": "code",
   "execution_count": 45,
   "id": "f1a69353-191b-4ebb-b491-a5263cbabe01",
   "metadata": {},
   "outputs": [
    {
     "data": {
      "text/plain": [
       "10"
      ]
     },
     "execution_count": 45,
     "metadata": {},
     "output_type": "execute_result"
    }
   ],
   "source": [
    "fruits_quantity = {\n",
    "    \"яблоко\": 5,\n",
    "    \"банан\": 10,\n",
    "    \"апельсин\": 7\n",
    "}\n",
    "\n",
    "dict_max1(fruits_quantity)"
   ]
  },
  {
   "cell_type": "markdown",
   "id": "ffc2af8c-1c88-42a6-9973-67176b30b8a9",
   "metadata": {},
   "source": [
    "9. Создайте функцию для поиска наибольшего значения в словаре."
   ]
  },
  {
   "cell_type": "code",
   "execution_count": 46,
   "id": "08f03bb7-63de-439c-a043-9b056992cae2",
   "metadata": {},
   "outputs": [],
   "source": [
    "def dict_max1(d):\n",
    "    result = float('-inf') # решение GPT чата\n",
    "    for v in d.values():\n",
    "        if v > result:\n",
    "            result = v\n",
    "    return result\n",
    "    "
   ]
  },
  {
   "cell_type": "code",
   "execution_count": 47,
   "id": "f0faf0c1-c166-466a-89d0-c6ebf0f0503f",
   "metadata": {},
   "outputs": [
    {
     "data": {
      "text/plain": [
       "10"
      ]
     },
     "execution_count": 47,
     "metadata": {},
     "output_type": "execute_result"
    }
   ],
   "source": [
    "fruits_quantity = {\n",
    "    \"яблоко\": 5,\n",
    "    \"банан\": 10,\n",
    "    \"апельсин\": 7\n",
    "}\n",
    "\n",
    "dict_max1(fruits_quantity)"
   ]
  },
  {
   "cell_type": "code",
   "execution_count": 48,
   "id": "e5693cd5-c546-4544-ab30-1820cebf853a",
   "metadata": {},
   "outputs": [],
   "source": [
    "\n",
    "# функция для нахождения минимального значения\n",
    "def dict_min(d):\n",
    "    result = float('inf') # решение GPT чата\n",
    "    for v in d.values():\n",
    "        if v < result:\n",
    "            result = v\n",
    "    return result\n",
    "    "
   ]
  },
  {
   "cell_type": "code",
   "execution_count": 49,
   "id": "695c6063-15c2-4d2b-9dff-5f014c614a7f",
   "metadata": {},
   "outputs": [
    {
     "data": {
      "text/plain": [
       "5"
      ]
     },
     "execution_count": 49,
     "metadata": {},
     "output_type": "execute_result"
    }
   ],
   "source": [
    "fruits_quantity = {\n",
    "    \"яблоко\": 5,\n",
    "    \"банан\": 10,\n",
    "    \"апельсин\": 7\n",
    "}\n",
    "\n",
    "dict_min(fruits_quantity)"
   ]
  },
  {
   "cell_type": "markdown",
   "id": "0b854077-79e9-4213-8bf9-91796b237695",
   "metadata": {},
   "source": [
    "## Условия и циклы"
   ]
  },
  {
   "cell_type": "markdown",
   "id": "119cf9f7-e390-4f4a-9d9d-2d345a7e4030",
   "metadata": {},
   "source": [
    "1. Создайте функцию **check_fruit_price** для проверки стоимости фрукта и вывода соответствующего сообщения.\n",
    "   - Функция должна принимать словарь цен на фрукты и название фрукта, а затем выводить сообщение \"дорогой товар\", если цена фрукта больше 1.5."
   ]
  },
  {
   "cell_type": "code",
   "execution_count": 50,
   "id": "c1c09497-f536-4dbd-8331-5298da095ab3",
   "metadata": {},
   "outputs": [],
   "source": [
    "def check_fruit_price(dict_price, fruit):\n",
    "    if dict_price[fruit] > 1.5:\n",
    "        print (\"дорогой товар\")"
   ]
  },
  {
   "cell_type": "code",
   "execution_count": 51,
   "id": "3a4b9f87-7f96-422a-b9d9-80d8fae2f6fe",
   "metadata": {},
   "outputs": [
    {
     "name": "stdout",
     "output_type": "stream",
     "text": [
      "дорогой товар\n"
     ]
    }
   ],
   "source": [
    "fruits_quantity = {\n",
    "    \"яблоко\": 5,\n",
    "    \"банан\": 10,\n",
    "    \"апельсин\": 7,\n",
    "    \"слива\": 1\n",
    "}\n",
    "\n",
    "check_fruit_price(fruits_quantity, \"апельсин\")"
   ]
  },
  {
   "cell_type": "markdown",
   "id": "25a662b1-4bb9-4fbe-9dba-7f1794af8208",
   "metadata": {},
   "source": [
    "2. Создайте функцию check_age для проверки возраста студента и вывода соответствующего сообщения.\n",
    "   - Функция должна принимать словарь студентов и имя студента, а затем выводить сообщение о совершеннолетии или несовершеннолетии."
   ]
  },
  {
   "cell_type": "code",
   "execution_count": 52,
   "id": "0b33880a-73da-4af8-954f-67dc1f84e655",
   "metadata": {},
   "outputs": [],
   "source": [
    "def check_age(dict_student, name): \n",
    "    if dict_student[name] >= 18:\n",
    "        print (name + ' совершеннолетний')\n",
    "    else:\n",
    "        print (name + ' несовершеннолетний')\n"
   ]
  },
  {
   "cell_type": "code",
   "execution_count": 53,
   "id": "af0e85f7-14d7-4936-9f8b-467b7f2f20fb",
   "metadata": {},
   "outputs": [
    {
     "name": "stdout",
     "output_type": "stream",
     "text": [
      "Иванов совершеннолетний\n",
      "Петров несовершеннолетний\n"
     ]
    }
   ],
   "source": [
    "students = {\"Иванов\": 22, \"Петров\": 13, \"Сидоров\": 23}\n",
    "check_age(students, \"Иванов\")\n",
    "check_age(students, \"Петров\")\n"
   ]
  },
  {
   "cell_type": "markdown",
   "id": "eaa6f99e-8786-4b77-8a3d-e9d1e2aaca24",
   "metadata": {},
   "source": [
    "3. Создайте функцию **compare_sets_length**, которая сравнивает длину двух множеств и выводит информацию о  том, какое из множеств длиннее.\n",
    "   - Функция должна принимать два множества и выводить соответствующее сообщение."
   ]
  },
  {
   "cell_type": "code",
   "execution_count": 54,
   "id": "aa912c54-18ff-42d3-916c-f5998b234e0b",
   "metadata": {},
   "outputs": [],
   "source": [
    "#m = 123\n",
    "#'m is {n}'.format(n = m)"
   ]
  },
  {
   "cell_type": "code",
   "execution_count": 55,
   "id": "411e1b8a-82e0-4b02-9067-cf64a2682479",
   "metadata": {},
   "outputs": [],
   "source": [
    "def compare_sets_length(set1, set2):\n",
    "    if len(set1) > len(set2):\n",
    "        print ('set1 is longer than set2')\n",
    "    elif len(set1) < len(set2):\n",
    "        print ('set2 is longer than set1')\n",
    "    else:\n",
    "        print (\"set1 is equal with set2\")"
   ]
  },
  {
   "cell_type": "code",
   "execution_count": 56,
   "id": "850b0305-f160-4518-bdaa-bd5ffecf141d",
   "metadata": {},
   "outputs": [
    {
     "name": "stdout",
     "output_type": "stream",
     "text": [
      "set2 is longer than set1\n",
      "-------------------\n",
      "set1 is equal with set2\n",
      "-------------------\n",
      "set1 is longer than set2\n"
     ]
    }
   ],
   "source": [
    "a = {1,2,3,4,5} \n",
    "b = {1,2,3,4,5,6,7} \n",
    "c = {1,2,3,4,5} \n",
    "\n",
    "compare_sets_length(a, b)\n",
    "print('-------------------')\n",
    "compare_sets_length(a, c)\n",
    "print('-------------------')\n",
    "compare_sets_length(b, c)"
   ]
  },
  {
   "cell_type": "markdown",
   "id": "672eadf2-c873-4a63-81e9-350d6f551658",
   "metadata": {},
   "source": [
    "4. Создайте функцию для определения четности или нечетности числа."
   ]
  },
  {
   "cell_type": "code",
   "execution_count": 57,
   "id": "d256fe8f-4321-4695-ba84-a502e78c5fba",
   "metadata": {},
   "outputs": [],
   "source": [
    "def is_even(number):\n",
    "    if number % 2 == 0:\n",
    "        return (\"number is even\")\n",
    "    else:\n",
    "        return (\"number isn't even\")\n",
    "    "
   ]
  },
  {
   "cell_type": "code",
   "execution_count": 58,
   "id": "3943e377-74d1-442c-9b15-0550134ade35",
   "metadata": {},
   "outputs": [
    {
     "name": "stdout",
     "output_type": "stream",
     "text": [
      "number is even\n"
     ]
    }
   ],
   "source": [
    "print(is_even(24))"
   ]
  },
  {
   "cell_type": "markdown",
   "id": "425e16c4-bc07-4cd4-ab4d-0260a766c86b",
   "metadata": {},
   "source": [
    "5. Создайте функцию для определения високосного года. Функция должна принимать на вход год в виде числа и возвращать строку \"високосный\" или \"обычный\""
   ]
  },
  {
   "cell_type": "code",
   "execution_count": 9,
   "id": "6ad0b0ac-4862-499d-8545-d0076197889a",
   "metadata": {},
   "outputs": [],
   "source": [
    "def is_year_leap(year):\n",
    "    if year % 400 == 0 and year % 100 == 0:\n",
    "        return 'This year is leap'\n",
    "    elif year % 4 == 0 and year % 100 != 0:\n",
    "        return 'This year is leap'\n",
    "    else:\n",
    "        return \"This year isn't leap\""
   ]
  },
  {
   "cell_type": "code",
   "execution_count": 10,
   "id": "5879f499-edd8-4812-8992-28a5d22173cd",
   "metadata": {},
   "outputs": [
    {
     "name": "stdout",
     "output_type": "stream",
     "text": [
      "This year isn't leap\n",
      "This year is leap\n"
     ]
    }
   ],
   "source": [
    "print(is_year_leap(2100))\n",
    "print(is_year_leap(2024))\n"
   ]
  },
  {
   "cell_type": "markdown",
   "id": "7bb8b1c9-fc2d-4195-bfa6-1c6eee2e4400",
   "metadata": {},
   "source": [
    "6. Создайте функцию для определения типа треугольника по длинам сторон (принимает длины сторон, возвращает \"остроугольный, прямоугольный, тупоугольный или не треугольник\")."
   ]
  },
  {
   "cell_type": "code",
   "execution_count": 12,
   "id": "379ac74a-f8cf-4e8b-a7e0-7edec94eb982",
   "metadata": {},
   "outputs": [],
   "source": [
    "def which_triangle(a, b, c):\n",
    "    if a > 0 and b > 0 and c > 0:\n",
    "        if a ** 2 == (b + c) ** 2 or b ** 2 == (a + c) ** 2 or c ** 2 == (a + b) ** 2:\n",
    "            return (\"it is right triangle\")\n",
    "        if (a ** 2 > ((b + c) ** 2)) or (b ** 2 > ((a + c)) ** 2) or(c ** 2 > ((a + b) ** 2)):\n",
    "            return (\"it is obtuse triangle\")\n",
    "        if a ** 2 < ((b + c) ** 2) or b ** 2 < ((a + c) ** 2) or c ** 2 < ((a + b) ** 2):\n",
    "            return (\"it is acute-angle triangle\")\n",
    "    else:\n",
    "        return (\"It isn't triangol\")\n",
    "    \n",
    "\n",
    "\n",
    "#obtuse - тупоугольный\n",
    "#right - прямоугольный\n",
    "#acute-angled - остроугольный"
   ]
  },
  {
   "cell_type": "code",
   "execution_count": 15,
   "id": "cdb8e8fb-f751-419c-b2e0-3cc8e0c748c2",
   "metadata": {},
   "outputs": [
    {
     "name": "stdout",
     "output_type": "stream",
     "text": [
      "it is obtuse triangle\n"
     ]
    }
   ],
   "source": [
    "print(which_triangle(1, 1, 8))"
   ]
  },
  {
   "cell_type": "code",
   "execution_count": null,
   "id": "a8166cfe-233f-4485-a9aa-52335f25b79d",
   "metadata": {},
   "outputs": [],
   "source": [
    "#def which_triangle_test(*args):\n",
    "  ##  k = 0\n",
    "   # for i in args:\n",
    "    #    k += 1\n",
    "  #  if k == 3:\n",
    "     #   if aargs > 0 and bargs > 0 and cargs > 0:  "
   ]
  },
  {
   "cell_type": "markdown",
   "id": "6ab1b749-bac8-45e0-872e-a290fa76ac1b",
   "metadata": {},
   "source": [
    "7. Создайте функцию для проверки, является ли строка палиндромом."
   ]
  },
  {
   "cell_type": "code",
   "execution_count": 73,
   "id": "ab27f9b7-e0fb-447e-a8b3-caaf180f96ea",
   "metadata": {},
   "outputs": [
    {
     "data": {
      "text/plain": [
       "'Yes'"
      ]
     },
     "execution_count": 73,
     "metadata": {},
     "output_type": "execute_result"
    }
   ],
   "source": [
    "def is_polyndrom(text):\n",
    "    r_text = text[::-1]\n",
    "    if text == r_text:\n",
    "        return('Yes')\n",
    "    else:\n",
    "        return('No')\n",
    "\n",
    "text = \"anna\"\n",
    "is_polyndrom(text)"
   ]
  },
  {
   "cell_type": "code",
   "execution_count": 72,
   "id": "c9511d22-752a-4a2d-96dd-72a9245e7548",
   "metadata": {},
   "outputs": [
    {
     "data": {
      "text/plain": [
       "'Yes'"
      ]
     },
     "execution_count": 72,
     "metadata": {},
     "output_type": "execute_result"
    }
   ],
   "source": [
    "def is_polyndrom(text):\n",
    "    r_text = ''.join(reversed(text))\n",
    "    if text == r_text:\n",
    "        return('Yes')\n",
    "    else:\n",
    "        return('No')\n",
    "\n",
    "text = \"anna anna\"\n",
    "is_polyndrom(text)"
   ]
  },
  {
   "cell_type": "markdown",
   "id": "046f869c-8e44-4f65-bc01-6d7efa7abf9b",
   "metadata": {},
   "source": [
    "8. Создайте функцию для определения времени суток по введенному времени ( принимает текущее время в формате часы, минуты, возвращает утро, день, вечер, ночь)."
   ]
  },
  {
   "cell_type": "code",
   "execution_count": 85,
   "id": "08399224-c343-40fb-bebd-da4241f80678",
   "metadata": {},
   "outputs": [
    {
     "data": {
      "text/plain": [
       "'evening'"
      ]
     },
     "execution_count": 85,
     "metadata": {},
     "output_type": "execute_result"
    }
   ],
   "source": [
    "def time_of_day(h, m):\n",
    "    if  0 <= m <= 60:\n",
    "        if 0 <= h < 6:\n",
    "            return 'night'\n",
    "        if 6 <= h < 12:\n",
    "            return 'morning'\n",
    "        elif 12 <= h < 18:\n",
    "            return 'day'\n",
    "        else:\n",
    "            return 'evening'\n",
    "\n",
    "\n",
    "time_of_day(23, 5)"
   ]
  },
  {
   "cell_type": "markdown",
   "id": "3fc2ca39-2831-49b0-8f07-0ff468f31719",
   "metadata": {},
   "source": [
    "9. Создайте функцию, которая определяет, является ли введенное число простым."
   ]
  },
  {
   "cell_type": "code",
   "execution_count": 2,
   "id": "83c20a20-9201-4d47-b9f6-8b6055e3cd41",
   "metadata": {},
   "outputs": [],
   "source": [
    "def is_prime(n):\n",
    "    if n <= 1:\n",
    "        return ('num isn\"t prime')\n",
    "    else:\n",
    "        d = 2\n",
    "        while n % d != 0:\n",
    "            d += 1\n",
    "        if d == n:\n",
    "            return ('num is prime')\n",
    "        else:\n",
    "            return ('num isn\"t prime')"
   ]
  },
  {
   "cell_type": "code",
   "execution_count": 3,
   "id": "54342947-2a04-47d7-9678-9897ac19b1c7",
   "metadata": {},
   "outputs": [
    {
     "data": {
      "text/plain": [
       "'num is prime'"
      ]
     },
     "execution_count": 3,
     "metadata": {},
     "output_type": "execute_result"
    }
   ],
   "source": [
    "print(is_prime(13))"
   ]
  },
  {
   "cell_type": "code",
   "execution_count": 4,
   "id": "220184ed-f9f5-41de-aa5d-53ac5435484c",
   "metadata": {},
   "outputs": [
    {
     "data": {
      "text/plain": [
       "'num isn\"t prime'"
      ]
     },
     "execution_count": 4,
     "metadata": {},
     "output_type": "execute_result"
    }
   ],
   "source": [
    "print(is_prime(4))"
   ]
  },
  {
   "cell_type": "markdown",
   "id": "a38ec9f4-ee92-40fa-8774-85d05d45d093",
   "metadata": {},
   "source": [
    "10. Создайте функцию для проверки входящей строки на наличие только буквенных символов."
   ]
  },
  {
   "cell_type": "code",
   "execution_count": 18,
   "id": "e0e1a614-f1c7-43f3-aaa8-19616b84415a",
   "metadata": {},
   "outputs": [],
   "source": [
    "def check_line(line):\n",
    "    if line.isalpha():\n",
    "        return True\n",
    "    else:\n",
    "        return False\n"
   ]
  },
  {
   "cell_type": "code",
   "execution_count": 24,
   "id": "40df31a4-a751-4f88-a546-678ddcfd4e56",
   "metadata": {},
   "outputs": [
    {
     "name": "stdout",
     "output_type": "stream",
     "text": [
      "False\n",
      "True\n"
     ]
    }
   ],
   "source": [
    "line1 = '1q2w3e4r'\n",
    "line2 = 'pojhbjhytr'\n",
    "print(check_line(line1))\n",
    "print(check_line(line2))"
   ]
  },
  {
   "cell_type": "markdown",
   "id": "c0d15d83-cd03-492a-92f7-56cbc4c1c4c0",
   "metadata": {},
   "source": [
    "11. Создайте функцию, которая определяет, является ли введенная дата корректной (дата вводится в виде трех чисел, день, месяц, год. Корректной датой считается существующая комбинация этих трех чисел)."
   ]
  },
  {
   "cell_type": "code",
   "execution_count": null,
   "id": "b346fe48-965b-41ed-ba44-bd4fb69be4d7",
   "metadata": {},
   "outputs": [],
   "source": [
    "!!!!!!!!!!!!!!!!!!!!!!!!!!!!!!!!!!!!!!!!!!!!!!!!!"
   ]
  },
  {
   "cell_type": "code",
   "execution_count": 37,
   "id": "509cd4d3-2692-4841-950c-9415d3f1b97a",
   "metadata": {},
   "outputs": [
    {
     "name": "stdout",
     "output_type": "stream",
     "text": [
      "321\n"
     ]
    }
   ],
   "source": [
    "if 1<=13<=12: print(123)\n",
    "else: print(321)"
   ]
  },
  {
   "cell_type": "code",
   "execution_count": 53,
   "id": "2b8cead3-beb6-4a7a-95e1-28a556d95cff",
   "metadata": {},
   "outputs": [
    {
     "name": "stdout",
     "output_type": "stream",
     "text": [
      "not OK\n",
      "OK\n",
      "not OK\n",
      "OK\n"
     ]
    }
   ],
   "source": [
    "def check_data(day, month, year):\n",
    "    if day < 1 or day > 31:\n",
    "        return ('not OK')\n",
    "    short_month = [4,6,9,11]\n",
    "    longmonth = [1,3,5,7,8,10,12]\n",
    "    if year >= 0:\n",
    "        if 1 <= month <= 12:\n",
    "            if month == 2:\n",
    "                if is_year_leap(year) == 'This year is leap':\n",
    "                    if 1 <= day <= 29:\n",
    "                        return ('OK')\n",
    "                else: return ('not OK')\n",
    "            elif month in short_month:\n",
    "                if 1 <= day <= 30:\n",
    "                    return ('OK')       \n",
    "            elif month in longmonth:\n",
    "                    return ('OK')  \n",
    "        else: return ('not OK')\n",
    "    else:\n",
    "        return ('not OK')\n",
    "        \n",
    "print(check_data(13, 13, 2023))\n",
    "print(check_data(13, 12, 2023))\n",
    "print(check_data(29, 2, 2023))\n",
    "print(check_data(29, 2, 2024))"
   ]
  },
  {
   "cell_type": "code",
   "execution_count": 47,
   "id": "a5cad4c5-2c0b-44e6-9d5d-8c62e058fb49",
   "metadata": {},
   "outputs": [
    {
     "name": "stdout",
     "output_type": "stream",
     "text": [
      "False\n",
      "True\n",
      "False\n",
      "True\n"
     ]
    }
   ],
   "source": [
    "#Решение Руслана\n",
    "def is_valid_date(y, m, d):\n",
    "    import datetime\n",
    "    try:\n",
    "        dt = datetime.date(int(y), int(m), int(d))\n",
    "        return True\n",
    "    except:\n",
    "        return False\n",
    "\n",
    "print(is_valid_date(2023, 13, 13))\n",
    "print(is_valid_date(2023, 12, 13))\n",
    "print(is_valid_date(2023, 2, 29))\n",
    "print(is_valid_date(2024, 2, 29))"
   ]
  },
  {
   "cell_type": "code",
   "execution_count": 54,
   "id": "3d3c4f15-3edf-48fd-98ee-6f44d0916537",
   "metadata": {},
   "outputs": [
    {
     "name": "stdout",
     "output_type": "stream",
     "text": [
      "not OK\n"
     ]
    }
   ],
   "source": [
    "print(check_data(36, 12, 2024))"
   ]
  },
  {
   "cell_type": "code",
   "execution_count": null,
   "id": "adbbea39-04fb-4f47-96d0-59d25aa65495",
   "metadata": {},
   "outputs": [],
   "source": [
    "В Январе, Марте, Мае, Июле, Августе, Октябре и Декабре - 31 день\n",
    ". В Апреле, Июне, Сентябре и Ноябре - 30 дней. В Феврале - 28 дней, но если год високосный - 29 дне"
   ]
  },
  {
   "cell_type": "code",
   "execution_count": null,
   "id": "e5fda4f3-6841-4a44-9450-bca8358fe6e7",
   "metadata": {},
   "outputs": [],
   "source": [
    "#Решения чата GPT\n",
    "def is_valid_date(day, month, year):\n",
    "    try:\n",
    "        import datetime\n",
    "        datetime.datetime(year, month, day)\n",
    "        return True\n",
    "    except ValueError:\n",
    "        return False\n",
    "\n",
    "# Пример использования:\n",
    "day = 15\n",
    "month = 4\n",
    "year = 2024\n",
    "\n",
    "if is_valid_date(day, month, year):\n",
    "    print(f\"{day}.{month}.{year} - корректная дата.\")\n",
    "else:\n",
    "    print(f\"{day}.{month}.{year} - некорректная дата.\")"
   ]
  },
  {
   "cell_type": "markdown",
   "id": "04b5c0ad-f0f3-4e07-b5cf-f728a5940234",
   "metadata": {},
   "source": [
    "12. Создайте функцию, которая определяет, является ли введенное число палиндромом."
   ]
  },
  {
   "cell_type": "code",
   "execution_count": 36,
   "id": "38d2c51c-eb90-4223-b3f5-d9ad4244ac06",
   "metadata": {},
   "outputs": [
    {
     "name": "stdout",
     "output_type": "stream",
     "text": [
      "No\n",
      "Yes\n"
     ]
    }
   ],
   "source": [
    "def is_polyndrom(text):\n",
    "    text = str(text)\n",
    "    r_text = ''.join(reversed(text))\n",
    "    if text == r_text:\n",
    "        return('Yes')\n",
    "    else:\n",
    "        return('No')\n",
    "\n",
    "text = \"12341\"\n",
    "print(is_polyndrom(text))\n",
    "print(is_polyndrom(\"123321\"))"
   ]
  },
  {
   "cell_type": "markdown",
   "id": "060504e0-9ca3-4823-a96f-b88ae9d4ea5b",
   "metadata": {},
   "source": [
    "13. Создайте функцию для определения дня недели по введенному номеру дня (1 - Понедельник, 2 - Вторник и т.д.)."
   ]
  },
  {
   "cell_type": "code",
   "execution_count": 26,
   "id": "5b3b7a17-bdb4-49cd-a1a9-a8b85fc022c1",
   "metadata": {},
   "outputs": [],
   "source": [
    "def day_of_week(n):\n",
    "    week = ['Понедельник', 'Вторник', 'Среда','Четверг','Пятница','Суббота','Воскресенье']\n",
    "    return week[n-1]"
   ]
  },
  {
   "cell_type": "code",
   "execution_count": 27,
   "id": "b908edd1-33ae-4fda-b3cf-40323852345b",
   "metadata": {},
   "outputs": [
    {
     "name": "stdout",
     "output_type": "stream",
     "text": [
      "Понедельник\n",
      "Вторник\n",
      "Воскресенье\n"
     ]
    }
   ],
   "source": [
    "print(day_of_week(1))\n",
    "print(day_of_week(2))\n",
    "print(day_of_week(7))"
   ]
  },
  {
   "cell_type": "markdown",
   "id": "be16171b-5031-4c46-9a1e-4be1cad838eb",
   "metadata": {},
   "source": [
    "14. Создайте функцию **print_fruits_info** для вывода информации о количестве и стоимости фруктов из словарей.\n",
    "   - Функция должна принимать словари с информацией \"фрукт:количество\" и \"фрукт:цена\" и выводить для каждого фрукта его стоимость и количество."
   ]
  },
  {
   "cell_type": "code",
   "execution_count": 66,
   "id": "1e51771b-6aa9-4338-bf01-7aa7a55dd2ce",
   "metadata": {},
   "outputs": [
    {
     "name": "stdout",
     "output_type": "stream",
     "text": [
      "яблоко --- 5 шт --- 1.5 р/шт\n",
      "банан --- 10 шт --- 2 р/шт\n",
      "апельсин --- 7 шт --- 1.2 р/шт\n"
     ]
    }
   ],
   "source": [
    "def print_fruits_info(dict_quantity, dict_price):\n",
    "    for key in fruits_quantity:\n",
    "        print(f'{key} --- {fruits_quantity[key]} шт --- {fruits_prices[key]} р/шт')\n",
    "\n",
    "fruits_quantity = {\"яблоко\": 5, \"банан\": 10, \"апельсин\": 7}\n",
    "fruits_prices = {\"яблоко\": 1.5, \"банан\": 2, \"апельсин\": 1.2}\n",
    "\n",
    "print_fruits_info(fruits_quantity, fruits_prices)    "
   ]
  },
  {
   "cell_type": "code",
   "execution_count": 65,
   "id": "ece83025-42c4-475e-8f9a-4509dd65e1df",
   "metadata": {},
   "outputs": [
    {
     "name": "stdout",
     "output_type": "stream",
     "text": [
      "яблоко 5 1.5\n",
      "банан 10 2\n",
      "апельсин 7 1.2\n"
     ]
    }
   ],
   "source": [
    "def print_fruits_info(dict_quantity, dict_price):\n",
    "    for key in fruits_quantity:\n",
    "        print(key, fruits_quantity[key], fruits_prices[key])\n",
    "\n",
    "fruits_quantity = {\"яблоко\": 5, \"банан\": 10, \"апельсин\": 7}\n",
    "fruits_prices = {\"яблоко\": 1.5, \"банан\": 2, \"апельсин\": 1.2}\n",
    "\n",
    "print_fruits_info(fruits_quantity, fruits_prices)    "
   ]
  },
  {
   "cell_type": "markdown",
   "id": "37f7285a-6f68-4d64-94f0-612334340d78",
   "metadata": {},
   "source": [
    "15. Создайте функцию **print_squares_while**, которая использует цикл while для вывода квадратов чисел от 1 до 5."
   ]
  },
  {
   "cell_type": "code",
   "execution_count": 88,
   "id": "2d9277ac-d855-4a12-961c-fd640b90f09b",
   "metadata": {},
   "outputs": [
    {
     "name": "stdout",
     "output_type": "stream",
     "text": [
      "1\n",
      "4\n",
      "9\n",
      "16\n",
      "25\n"
     ]
    }
   ],
   "source": [
    "def print_squares_while():\n",
    "    i = 1\n",
    "    while i <= 5:\n",
    "        print (i ** 2)\n",
    "        i += 1\n",
    "\n",
    "print_squares_while()"
   ]
  },
  {
   "cell_type": "markdown",
   "id": "b7fe6aa8-6703-4476-b358-0159bf94d2b0",
   "metadata": {},
   "source": [
    "16. Создайте функцию для вывода факториала заданного числа."
   ]
  },
  {
   "cell_type": "code",
   "execution_count": 8,
   "id": "ceb0cb29-a790-44d0-9a4f-c3ea8f436322",
   "metadata": {},
   "outputs": [],
   "source": [
    "def factorial(n):\n",
    "    res = 1\n",
    "    if n < 0:\n",
    "        return ('No Factorial')\n",
    "    elif n == 0:\n",
    "       return res\n",
    "    else:\n",
    "        for i in range (1, n+1):\n",
    "            res = res * i\n",
    "        return res"
   ]
  },
  {
   "cell_type": "code",
   "execution_count": 9,
   "id": "1e1ff641-248e-4afe-8d9e-3f90791df72b",
   "metadata": {},
   "outputs": [
    {
     "name": "stdout",
     "output_type": "stream",
     "text": [
      "1\n",
      "No Factorial\n",
      "6\n"
     ]
    }
   ],
   "source": [
    "print(factorial(0))\n",
    "print(factorial(-1))\n",
    "print(factorial(3))"
   ]
  },
  {
   "cell_type": "markdown",
   "id": "fc0a7ad4-3835-47e3-944e-150fbe136c05",
   "metadata": {},
   "source": [
    "17. Создайте функцию для поиска суммы чисел в заданном диапазоне (принимает на вход два числа, возвращает сумму чисел находящихся между ними, включительно.)"
   ]
  },
  {
   "cell_type": "code",
   "execution_count": 12,
   "id": "ecbf6b2f-9eeb-48de-a533-6f73c8c908a2",
   "metadata": {},
   "outputs": [],
   "source": [
    "def find_sum(a, b):\n",
    "    res = 0\n",
    "    for i in range(a, b+1):\n",
    "        res = res + i\n",
    "    return res"
   ]
  },
  {
   "cell_type": "code",
   "execution_count": 17,
   "id": "0072a9f1-cb72-41f6-bd28-cdbc4883fed4",
   "metadata": {},
   "outputs": [
    {
     "data": {
      "text/plain": [
       "8"
      ]
     },
     "execution_count": 17,
     "metadata": {},
     "output_type": "execute_result"
    }
   ],
   "source": [
    "find_sum(-3,5)\n"
   ]
  },
  {
   "cell_type": "markdown",
   "id": "801e74f3-b32c-4022-9ac5-b948ad32c486",
   "metadata": {},
   "source": [
    "18. Создайте функцию для генерации и вывода всех простых чисел до заданного числа."
   ]
  },
  {
   "cell_type": "code",
   "execution_count": 33,
   "id": "dd34370b-02e3-4116-bc8e-d47caafd36ef",
   "metadata": {},
   "outputs": [],
   "source": [
    "def sum_prime_numbers(n):\n",
    "    res = 0\n",
    "    def is_prime(n):\n",
    "        if n <= 1:\n",
    "            return ('no result')\n",
    "        else:\n",
    "            d = 2\n",
    "            while n % d != 0:\n",
    "                d += 1\n",
    "            if d == n:\n",
    "                return (1)\n",
    "            else:\n",
    "                return ('no result')\n",
    "    if n > 1:\n",
    "        for i in range (2, n+1):\n",
    "            if is_prime(i) == 1:\n",
    "                res = res + i\n",
    "    else:\n",
    "        res = 'no simple numbers'\n",
    "    return res"
   ]
  },
  {
   "cell_type": "code",
   "execution_count": 40,
   "id": "becb472d-bf90-4b5b-841c-d7d51ba24964",
   "metadata": {},
   "outputs": [
    {
     "name": "stdout",
     "output_type": "stream",
     "text": [
      "10\n",
      "no simple numbers\n",
      "no simple numbers\n",
      "41\n"
     ]
    }
   ],
   "source": [
    "print(sum_prime_numbers(5))\n",
    "print(sum_prime_numbers(-1))\n",
    "print(sum_prime_numbers(0))\n",
    "print(sum_prime_numbers(13))"
   ]
  },
  {
   "cell_type": "markdown",
   "id": "31804032-0d13-44a9-b3ce-b34c4165324c",
   "metadata": {},
   "source": [
    "19. Создайте функцию для проверки строки на палиндромность без учёта регистра и знаков препинания."
   ]
  },
  {
   "cell_type": "code",
   "execution_count": 70,
   "id": "aadde7e1-1595-4dcb-b3b2-68844012e706",
   "metadata": {},
   "outputs": [
    {
     "name": "stdout",
     "output_type": "stream",
     "text": [
      "True\n",
      "False\n"
     ]
    }
   ],
   "source": [
    "def str_palindrome(text):\n",
    "    r_text = ''\n",
    "    for a in text:\n",
    "        if a.isalnum():\n",
    "            r_text += a.lower()\n",
    "    return r_text == r_text[::-1]\n",
    "\n",
    "print(str_palindrome('Madam! AdAm'))\n",
    "print(str_palindrome('Madam, Elen'))"
   ]
  },
  {
   "cell_type": "markdown",
   "id": "ebae7aa3-94f2-49f1-91a8-d43eee321208",
   "metadata": {},
   "source": [
    "20. Создайте функцию для поиска наибольшего общего делителя (НОД) двух чисел."
   ]
  },
  {
   "cell_type": "code",
   "execution_count": null,
   "id": "18bce3a6-e4b0-426b-8855-10b78f7a88b9",
   "metadata": {},
   "outputs": [],
   "source": [
    "#решение можно писать тут"
   ]
  },
  {
   "cell_type": "markdown",
   "id": "3b0b5eaf-c67a-424c-911d-c44922b0aee2",
   "metadata": {},
   "source": [
    "21. Создайте функцию print_students для вывода информации о студентах из словаря.\n",
    "   - Функция должна принимать словарь студентов и выводить их имена и возраст."
   ]
  },
  {
   "cell_type": "code",
   "execution_count": null,
   "id": "eec802e5-d594-4f5d-8b24-9b11cd73b07f",
   "metadata": {},
   "outputs": [],
   "source": [
    "#решение можно писать тут"
   ]
  },
  {
   "cell_type": "markdown",
   "id": "6c0cda34-d327-497b-8462-dc38a5b21bd8",
   "metadata": {},
   "source": [
    "22. Создайте функцию get_value_from_user, принимающую на вход одно число (\"порог\"), и запрашивающую у пользователя ввод числа до тех пор, пока он не введет число выше \"порога\"."
   ]
  },
  {
   "cell_type": "code",
   "execution_count": 12,
   "id": "41a7c3cb-8717-44d2-8c32-78f14ad7b08d",
   "metadata": {},
   "outputs": [],
   "source": [
    "def get_value_from_user(n):\n",
    "    a = int(input())\n",
    "    if a <= n:\n",
    "        a = int(input())"
   ]
  },
  {
   "cell_type": "code",
   "execution_count": 13,
   "id": "86c71c53-df9f-4eea-8db1-ed3fb2dee6c2",
   "metadata": {},
   "outputs": [
    {
     "name": "stdin",
     "output_type": "stream",
     "text": [
      " 1\n",
      " 2\n"
     ]
    }
   ],
   "source": [
    "get_value_from_user(4)"
   ]
  },
  {
   "cell_type": "markdown",
   "id": "4c2596f8-e06f-49fa-972e-19d61f17e95c",
   "metadata": {},
   "source": [
    "## Общие "
   ]
  },
  {
   "cell_type": "markdown",
   "id": "29905a77-19ef-470a-9785-edcc052b5a03",
   "metadata": {},
   "source": [
    "1. Создайте функцию, которая будет запрашивать у пользователя его возраст.\n",
    "   - Если возраст меньше 18 лет, программа должна выводить сообщение о том, что пользователь несовершеннолетний.\n",
    "   - Если возраст от 18 до 65 лет, программа должна выводить сообщение о том, что пользователь взрослый.\n",
    "   - Если возраст больше 65 лет, программа должна выводить сообщение о том, что пользователь пенсионер."
   ]
  },
  {
   "cell_type": "code",
   "execution_count": null,
   "id": "97357f0a-6a24-495b-8db6-c7a6b99b6c12",
   "metadata": {},
   "outputs": [],
   "source": [
    "def what_age():\n",
    "    print (\"Введите возраст\")\n",
    "    age = int(float(input()))\n",
    "    if age < 18:\n",
    "        print (\"пользователь несовершеннолетний\")\n",
    "    elif 18 <= age < 65:\n",
    "        print('пользователь взрослый')\n",
    "    else:\n",
    "        print (\"пользователь пенсионер\")"
   ]
  },
  {
   "cell_type": "code",
   "execution_count": null,
   "id": "c9c8c932-a794-418e-ba4c-ac7daf397ec9",
   "metadata": {},
   "outputs": [],
   "source": [
    "what_age()"
   ]
  },
  {
   "cell_type": "markdown",
   "id": "e49629de-0a92-4c65-af5e-2fbdb18128f7",
   "metadata": {},
   "source": [
    "2. Создайте функцию, которая будет проверять введенную пользователем строку на наличие повторяющихся символов.\n",
    "   - Если такие символы найдены, программа должна выводить их перечень и количество повторов для каждого."
   ]
  },
  {
   "cell_type": "code",
   "execution_count": null,
   "id": "78f7a3d5-8a2f-445b-94fb-d4e416d4d0f5",
   "metadata": {},
   "outputs": [],
   "source": [
    "#решение можно писать тут"
   ]
  }
 ],
 "metadata": {
  "kernelspec": {
   "display_name": "Python 3 (ipykernel)",
   "language": "python",
   "name": "python3"
  },
  "language_info": {
   "codemirror_mode": {
    "name": "ipython",
    "version": 3
   },
   "file_extension": ".py",
   "mimetype": "text/x-python",
   "name": "python",
   "nbconvert_exporter": "python",
   "pygments_lexer": "ipython3",
   "version": "3.10.10"
  }
 },
 "nbformat": 4,
 "nbformat_minor": 5
}
