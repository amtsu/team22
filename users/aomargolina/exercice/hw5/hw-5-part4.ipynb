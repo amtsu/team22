{
 "cells": [
  {
   "cell_type": "markdown",
   "id": "8727cf2d-3ef8-4e10-a773-dc8c62f46167",
   "metadata": {},
   "source": [
    "# Часть 4. Циклы "
   ]
  },
  {
   "cell_type": "markdown",
   "id": "0cc79b02-4f14-4afc-a9da-5679d5aad696",
   "metadata": {},
   "source": [
    "1. Напишите цикл for, который выводит все элементы множества **set1**.\n"
   ]
  },
  {
   "cell_type": "code",
   "execution_count": 1,
   "id": "485d5070-7027-4180-865b-ccb18955c731",
   "metadata": {},
   "outputs": [],
   "source": [
    "set1 = {1,2,3,4,5} "
   ]
  },
  {
   "cell_type": "code",
   "execution_count": 2,
   "id": "e6709032-140c-4ebe-b63b-211c948c0f78",
   "metadata": {},
   "outputs": [
    {
     "name": "stdout",
     "output_type": "stream",
     "text": [
      "1\n",
      "2\n",
      "3\n",
      "4\n",
      "5\n"
     ]
    }
   ],
   "source": [
    "for i in set1:\n",
    "    print(i)"
   ]
  },
  {
   "cell_type": "markdown",
   "id": "b11f675d-0fc2-4fa6-ab63-5bc90fedd0e9",
   "metadata": {},
   "source": [
    "2. Напишите цикл while, который выводит квадраты чисел от 1 до 5.\n"
   ]
  },
  {
   "cell_type": "code",
   "execution_count": 3,
   "id": "52196b4f-7639-4bf6-b33f-3edbde3d1fc8",
   "metadata": {},
   "outputs": [
    {
     "name": "stdout",
     "output_type": "stream",
     "text": [
      "1\n",
      "4\n",
      "9\n",
      "16\n",
      "25\n"
     ]
    }
   ],
   "source": [
    "i = 1\n",
    "while i <= 5:\n",
    "    print(i ** 2)\n",
    "    i += 1"
   ]
  },
  {
   "cell_type": "markdown",
   "id": "08006861-c85e-4bca-9046-38464ccf582a",
   "metadata": {},
   "source": [
    "3. Напишите цикл for, который перебирает все записи из словаря **fruits_quantity** и выводит информацию о количестве каждого фрукта.\n"
   ]
  },
  {
   "cell_type": "code",
   "execution_count": 4,
   "id": "672863d7-f318-408c-9936-152115c5a844",
   "metadata": {},
   "outputs": [
    {
     "data": {
      "text/plain": [
       "{'яблоко': 5, 'банан': 10, 'апельсин': 7}"
      ]
     },
     "execution_count": 4,
     "metadata": {},
     "output_type": "execute_result"
    }
   ],
   "source": [
    "fruits_quantity = {\n",
    "    \"яблоко\": 5,\n",
    "    \"банан\": 10,\n",
    "    \"апельсин\": 7\n",
    "}\n",
    "fruits_quantity"
   ]
  },
  {
   "cell_type": "code",
   "execution_count": 5,
   "id": "d156e778-7e8d-41d4-91b4-7e4bd4b2ae82",
   "metadata": {},
   "outputs": [
    {
     "name": "stdout",
     "output_type": "stream",
     "text": [
      "яблоко 5\n",
      "банан 10\n",
      "апельсин 7\n"
     ]
    }
   ],
   "source": [
    "for k, v in fruits_quantity.items():\n",
    "    print(k, v)\n",
    "    "
   ]
  },
  {
   "cell_type": "markdown",
   "id": "bf60f6c9-bc04-4116-a3e9-464233a4c5d1",
   "metadata": {},
   "source": [
    "4. Выведите сообщение \"%название фрукта% - дорогой товар\" для фруктов из **fruit_prices**, цена которых превышает 1.5, подставив вместо %название фрукта% название соответствующих \"дорогих\" фруктов"
   ]
  },
  {
   "cell_type": "code",
   "execution_count": 6,
   "id": "b28298bb-0a96-4344-9dfb-d25aa46ec8e2",
   "metadata": {},
   "outputs": [],
   "source": [
    "fruits_prices = {\n",
    "    \"яблоко\": 1.5,\n",
    "    \"банан\": 2,\n",
    "    \"апельсин\": 1.2\n",
    "}"
   ]
  },
  {
   "cell_type": "code",
   "execution_count": 7,
   "id": "6a3214f3-00ef-4931-8ae9-5e1647f9c6b9",
   "metadata": {},
   "outputs": [
    {
     "name": "stdout",
     "output_type": "stream",
     "text": [
      "банан - дорогой товар\n"
     ]
    }
   ],
   "source": [
    "for k, v in fruits_prices.items():\n",
    "    if v > 1.5:\n",
    "        print (k + ' - дорогой товар') "
   ]
  },
  {
   "cell_type": "markdown",
   "id": "fbc87167-02af-40c3-a0d9-d0b7a29a93e5",
   "metadata": {},
   "source": [
    " 5. Посчитайте стоимость всех фруктов, имеющихся в наличии"
   ]
  },
  {
   "cell_type": "code",
   "execution_count": 8,
   "id": "ff0b55a3-35b0-466b-969f-26b484cecb9d",
   "metadata": {},
   "outputs": [
    {
     "name": "stdout",
     "output_type": "stream",
     "text": [
      "Сумма всех фруктов равна 35.9\n"
     ]
    }
   ],
   "source": [
    "#Мое первое решение\n",
    "prices = []\n",
    "sum_all = 0\n",
    "i = 0\n",
    "for v in fruits_quantity.values():\n",
    "    prices.append(v)\n",
    "prices\n",
    "for p in fruits_prices.values():\n",
    "        sum_all = sum_all + p * prices[i]\n",
    "        i += 1\n",
    "print(f'Сумма всех фруктов равна {sum_all}')\n"
   ]
  },
  {
   "cell_type": "code",
   "execution_count": 9,
   "id": "2d899e83-10d5-4cf8-be34-191e13b9bfda",
   "metadata": {},
   "outputs": [
    {
     "name": "stdout",
     "output_type": "stream",
     "text": [
      "The cost of all fruits is 35.9\n"
     ]
    }
   ],
   "source": [
    "#Подсмотренное решение\n",
    "total = 0.0\n",
    "for key in fruits_prices.keys():\n",
    "    total = total + fruits_prices[key] * fruits_quantity[key]\n",
    "print(f\"The cost of all fruits is {total}\")"
   ]
  },
  {
   "cell_type": "code",
   "execution_count": 10,
   "id": "f681b461-8fe9-4806-b5a3-66abd8c9b277",
   "metadata": {},
   "outputs": [
    {
     "data": {
      "text/plain": [
       "6"
      ]
     },
     "execution_count": 10,
     "metadata": {},
     "output_type": "execute_result"
    }
   ],
   "source": [
    "sum([1, 2, 3])"
   ]
  },
  {
   "cell_type": "code",
   "execution_count": 11,
   "id": "14e440fa-ad3b-485d-8f8d-784277da165b",
   "metadata": {},
   "outputs": [
    {
     "data": {
      "text/plain": [
       "35.9"
      ]
     },
     "execution_count": 11,
     "metadata": {},
     "output_type": "execute_result"
    }
   ],
   "source": [
    "#Решение, подсказанное профессилоналом\n",
    "sum([fruits_prices[k] * fruits_quantity[k] for k in fruits_prices.keys()])"
   ]
  },
  {
   "cell_type": "code",
   "execution_count": 14,
   "id": "906787c9-090a-445d-9ba0-30d47e062eb6",
   "metadata": {},
   "outputs": [
    {
     "name": "stdout",
     "output_type": "stream",
     "text": [
      "Total price is 35.9\n"
     ]
    }
   ],
   "source": [
    "print(f'Total price is {sum([fruits_prices[k] * fruits_quantity[k] for k in fruits_prices.keys()])}')"
   ]
  },
  {
   "cell_type": "markdown",
   "id": "dbf8baf6-ca73-4ee4-8594-e2e0441be351",
   "metadata": {},
   "source": [
    "6. Используя цикл for, выведите всех студентов и их возраст из словаря students."
   ]
  },
  {
   "cell_type": "code",
   "execution_count": 12,
   "id": "a6aedd83-5a81-4bd7-8e59-dc9b1c3cbde2",
   "metadata": {},
   "outputs": [],
   "source": [
    "students = {\"Иванов\": 22, \"Петрова\": 13, \"Сидоров\": 23}"
   ]
  },
  {
   "cell_type": "code",
   "execution_count": 13,
   "id": "1de78a26-fcdb-463b-9260-e7c14c54ff27",
   "metadata": {},
   "outputs": [
    {
     "name": "stdout",
     "output_type": "stream",
     "text": [
      "Иванов 22\n",
      "Петрова 13\n",
      "Сидоров 23\n"
     ]
    }
   ],
   "source": [
    "for k, v in students.items():\n",
    "    print(k, v)"
   ]
  },
  {
   "cell_type": "code",
   "execution_count": null,
   "id": "577b5d62-2f71-434c-adb2-c6b1dd50709c",
   "metadata": {},
   "outputs": [],
   "source": []
  },
  {
   "cell_type": "code",
   "execution_count": null,
   "id": "1c58d8c8-7d5a-4706-9b29-11d93c1c11f1",
   "metadata": {},
   "outputs": [],
   "source": []
  }
 ],
 "metadata": {
  "kernelspec": {
   "display_name": "Python 3 (ipykernel)",
   "language": "python",
   "name": "python3"
  },
  "language_info": {
   "codemirror_mode": {
    "name": "ipython",
    "version": 3
   },
   "file_extension": ".py",
   "mimetype": "text/x-python",
   "name": "python",
   "nbconvert_exporter": "python",
   "pygments_lexer": "ipython3",
   "version": "3.10.10"
  }
 },
 "nbformat": 4,
 "nbformat_minor": 5
}
