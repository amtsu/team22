{
 "cells": [
  {
   "cell_type": "code",
   "execution_count": 18,
   "id": "279d8f7a",
   "metadata": {},
   "outputs": [],
   "source": [
    "import pickle\n",
    "\n",
    "phonebook = [\n",
    "        {'namber': '89011053322',\n",
    "          'name': 'Valentina',\n",
    "          'city': 'Moscow'},\n",
    "        \n",
    "         {'namber': '89050115584',\n",
    "          'name': 'Konstantin',\n",
    "          'city': 'Bar'},\n",
    "        \n",
    "         {'namber': '89165550541',\n",
    "          'name': 'Andrey',\n",
    "          'city': 'Malaga'},\n",
    "]\n",
    "\n",
    "book = open('practic_2_pickle_1.txt', 'wb')\n",
    "pickle.dump(phonebook, book)\n",
    "book.close()"
   ]
  },
  {
   "cell_type": "code",
   "execution_count": 19,
   "id": "247f6dff",
   "metadata": {},
   "outputs": [
    {
     "name": "stdout",
     "output_type": "stream",
     "text": [
      "[{'namber': '89011053322', 'name': 'Valentina', 'city': 'Moscow'}, {'namber': '89050115584', 'name': 'Konstantin', 'city': 'Bar'}, {'namber': '89165550541', 'name': 'Andrey', 'city': 'Malaga'}]\n"
     ]
    }
   ],
   "source": [
    "book = open('practic_2_pickle_1.txt', 'rb')\n",
    "from_file = pickle.load(book)\n",
    "print(from_file)\n",
    "book.close()"
   ]
  },
  {
   "cell_type": "code",
   "execution_count": 20,
   "id": "6252e6c3",
   "metadata": {},
   "outputs": [],
   "source": [
    "a = {'namber': '890110555',\n",
    "          'name': 'Anton',\n",
    "          'city': 'Bar'}\n",
    "\n",
    "from_file.append(a)\n",
    "\n",
    "book = open('practic_2_pickle_2.txt', 'wb')\n",
    "pickle.dump(from_file, book)\n",
    "book.close()"
   ]
  },
  {
   "cell_type": "code",
   "execution_count": 21,
   "id": "17bc3caf",
   "metadata": {},
   "outputs": [
    {
     "name": "stdout",
     "output_type": "stream",
     "text": [
      "[{'namber': '89011053322', 'name': 'Valentina', 'city': 'Moscow'}, {'namber': '89050115584', 'name': 'Konstantin', 'city': 'Bar'}, {'namber': '89165550541', 'name': 'Andrey', 'city': 'Malaga'}, {'namber': '890110555', 'name': 'Anton', 'city': 'Bar'}]\n"
     ]
    }
   ],
   "source": [
    "book = open('practic_2_pickle_2.txt', 'rb')\n",
    "from_file = pickle.load(book)\n",
    "print(from_file)\n",
    "book.close()"
   ]
  },
  {
   "cell_type": "code",
   "execution_count": null,
   "id": "f154ad55",
   "metadata": {},
   "outputs": [],
   "source": []
  }
 ],
 "metadata": {
  "kernelspec": {
   "display_name": "Python 3 (ipykernel)",
   "language": "python",
   "name": "python3"
  },
  "language_info": {
   "codemirror_mode": {
    "name": "ipython",
    "version": 3
   },
   "file_extension": ".py",
   "mimetype": "text/x-python",
   "name": "python",
   "nbconvert_exporter": "python",
   "pygments_lexer": "ipython3",
   "version": "3.9.7"
  }
 },
 "nbformat": 4,
 "nbformat_minor": 5
}
