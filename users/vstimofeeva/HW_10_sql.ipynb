{
 "cells": [
  {
   "cell_type": "code",
   "execution_count": 1,
   "id": "cdea6234",
   "metadata": {},
   "outputs": [
    {
     "name": "stdout",
     "output_type": "stream",
     "text": [
      "/home/jupyter-vallitim/github/team22/users/vstimofeeva\r\n"
     ]
    }
   ],
   "source": [
    "!pwd"
   ]
  },
  {
   "cell_type": "code",
   "execution_count": 10,
   "id": "7237e54c",
   "metadata": {},
   "outputs": [],
   "source": [
    "!cp /tmp/db_mini.sqlite3 ~/github/team22/users/vstimofeeva"
   ]
  },
  {
   "cell_type": "code",
   "execution_count": 1,
   "id": "8e3520be",
   "metadata": {},
   "outputs": [],
   "source": [
    "import sqlite3\n",
    "from datetime import datetime, timedelta"
   ]
  },
  {
   "cell_type": "code",
   "execution_count": 2,
   "id": "ef497384",
   "metadata": {},
   "outputs": [],
   "source": [
    "connect = sqlite3.connect('db_mini.sqlite3')\n",
    "cursor = connect.cursor()"
   ]
  },
  {
   "cell_type": "code",
   "execution_count": 3,
   "id": "04a63e0a",
   "metadata": {},
   "outputs": [
    {
     "data": {
      "text/plain": [
       "[('products_history',), ('sqlite_sequence',)]"
      ]
     },
     "execution_count": 3,
     "metadata": {},
     "output_type": "execute_result"
    }
   ],
   "source": [
    "cursor.execute('''SELECT name FROM sqlite_master WHERE type = 'table' ''')\n",
    "cursor.fetchall()"
   ]
  },
  {
   "cell_type": "code",
   "execution_count": 4,
   "id": "3dfd1ea2",
   "metadata": {},
   "outputs": [
    {
     "data": {
      "text/plain": [
       "[('CREATE TABLE products_history(\"id\" integer NOT NULL PRIMARY KEY AUTOINCREMENT, \"datetime_create\" datetime NULL, \"title\" varchar(200) NULL, \"price_sale\" decimal NULL, \"url\" varchar(1000) NULL)',)]"
      ]
     },
     "execution_count": 4,
     "metadata": {},
     "output_type": "execute_result"
    }
   ],
   "source": [
    "cursor.execute('''SELECT sql FROM sqlite_master WHERE name = 'products_history' ''')\n",
    "cursor.fetchall()"
   ]
  },
  {
   "cell_type": "code",
   "execution_count": 46,
   "id": "baaed10f",
   "metadata": {},
   "outputs": [
    {
     "data": {
      "text/plain": [
       "[('Масло сливочное «Любимое молоко» Крестьянское 72,5%, 1 кг',),\n",
       " ('Каша овсяная «Добряк» Ассорти клубника яблоко молоко, 190 г',),\n",
       " ('Плавленый продукт «Морек» молокосодержащий со вкусом бекона, 160 г',),\n",
       " ('Плавленый продукт «Морек» молокосодержащий со вкусом бекона, 160 г',),\n",
       " ('Плавленый продукт «Морек» молокосодержащий со вкусом бекона, 160 г',),\n",
       " ('Шоколад Royal Forest Coconut Vegan Bar Кокосовое молоко, 50 г',),\n",
       " ('Шоколад Royal Forest Coconut Vegan Bar Кокосовое молоко, 50 г',),\n",
       " ('Шоколад Royal Forest Coconut Vegan Bar Кокосовое молоко, 50 г',),\n",
       " ('Крем-гель для душа LION Thailand Shokubutsu Monogotari Вишня с молоком, 500 мл',),\n",
       " ('Каша овсяная «Добряк» Ассорти клубника яблоко молоко, 190 г',)]"
      ]
     },
     "execution_count": 46,
     "metadata": {},
     "output_type": "execute_result"
    }
   ],
   "source": [
    "#1. вывести названия товаров в которые содержат слова молоко и стоимостью больше 50 рублей\n",
    "\n",
    "cursor.execute('''SELECT title FROM products_history \n",
    "WHERE title like '%молоко%' and price_sale > 50\n",
    "LIMIT 10''')\n",
    "cursor.fetchall()"
   ]
  },
  {
   "cell_type": "code",
   "execution_count": 12,
   "id": "598bfe99",
   "metadata": {},
   "outputs": [
    {
     "data": {
      "text/plain": [
       "[(100000,)]"
      ]
     },
     "execution_count": 12,
     "metadata": {},
     "output_type": "execute_result"
    }
   ],
   "source": [
    "#2. посчитать общее количество товарных позиций\n",
    "\n",
    "cursor.execute('''SELECT count() FROM products_history''')\n",
    "cursor.fetchall()"
   ]
  },
  {
   "cell_type": "code",
   "execution_count": 26,
   "id": "bcace1e2",
   "metadata": {},
   "outputs": [
    {
     "data": {
      "text/plain": [
       "[(3,)]"
      ]
     },
     "execution_count": 26,
     "metadata": {},
     "output_type": "execute_result"
    }
   ],
   "source": [
    "#3. посчитать количество товаров когда товаром является молоко размером 1 литр\n",
    "#'1 литр' не нашлось. По примеру товаров выше, вбила 1 л\n",
    "\n",
    "cursor.execute('''SELECT count() FROM products_history WHERE title like '%молоко%' and title like '%1 л%' ''')\n",
    "cursor.fetchall()"
   ]
  },
  {
   "cell_type": "code",
   "execution_count": 39,
   "id": "5583b683",
   "metadata": {},
   "outputs": [
    {
     "data": {
      "text/plain": [
       "[(15.300000000000002,)]"
      ]
     },
     "execution_count": 39,
     "metadata": {},
     "output_type": "execute_result"
    }
   ],
   "source": [
    "#4. посчитать среднюю стоимость литрового пакет молока\n",
    "\n",
    "cursor.execute('''SELECT avg(price_sale) FROM products_history \n",
    "WHERE title like '%молоко%' and title like '%1 л%' ''')\n",
    "cursor.fetchall()"
   ]
  },
  {
   "cell_type": "code",
   "execution_count": null,
   "id": "5e714dc9",
   "metadata": {},
   "outputs": [],
   "source": [
    "#5. в одном запросе вывести среднюю стоимость для пакетов молока 1 литр 950 и 900 миллилитров "
   ]
  },
  {
   "cell_type": "code",
   "execution_count": 45,
   "id": "58f3506d",
   "metadata": {},
   "outputs": [
    {
     "data": {
      "text/plain": [
       "[('Холодильник Ascoli ACDG571WE', 79999.99),\n",
       " ('Холодильник Ascoli ACDG571WE', 79999.99),\n",
       " ('Холодильник Ascoli ACDG571WE', 79999.99),\n",
       " ('Холодильник Ascoli ACDG571WE', 79999.99),\n",
       " ('Холодильник Ascoli ACDG571WE', 79999.99),\n",
       " ('Холодильник Ascoli ACDG571WE', 79999.99),\n",
       " ('Холодильник Ascoli ACDG571WE', 79999.99),\n",
       " ('Холодильник Ascoli ACDG571WE', 79999.99),\n",
       " ('Холодильник Ascoli ACDG571WE', 79999.99),\n",
       " ('Холодильник Ascoli ACDG571WE', 79999.99)]"
      ]
     },
     "execution_count": 45,
     "metadata": {},
     "output_type": "execute_result"
    }
   ],
   "source": [
    "#6. Выбрать 50 товаров, цена которых больше 50'000 и отсортировать по убыванию по цене.\n",
    "\n",
    "cursor.execute('''SELECT title, price_sale FROM products_history \n",
    "WHERE price_sale > 50000 ORDER BY price_sale DESC\n",
    "LIMIT 10''')\n",
    "cursor.fetchall()"
   ]
  },
  {
   "cell_type": "code",
   "execution_count": 47,
   "id": "05bf205b",
   "metadata": {},
   "outputs": [],
   "source": [
    "#7. Изменить все названия в которых есть слово \"Вино\" в столбце \"title\" на \"Винишко\".\n"
   ]
  },
  {
   "cell_type": "code",
   "execution_count": 10,
   "id": "c393fc25",
   "metadata": {},
   "outputs": [
    {
     "data": {
      "text/plain": [
       "[]"
      ]
     },
     "execution_count": 10,
     "metadata": {},
     "output_type": "execute_result"
    }
   ],
   "source": [
    "cursor.execute('''UPDATE products_history \n",
    "SET title = 'Винишко'\n",
    "WHERE title like '%Вино%' ''')\n",
    "cursor.fetchall()\n",
    "\n",
    "#Меняю название."
   ]
  },
  {
   "cell_type": "code",
   "execution_count": 42,
   "id": "fdb02731",
   "metadata": {},
   "outputs": [
    {
     "data": {
      "text/plain": [
       "[('Винишко', 4300.99),\n",
       " ('Винишко', 4300.99),\n",
       " ('Винишко', 498.99),\n",
       " ('Винишко', 3870.99),\n",
       " ('Винишко', 498.99),\n",
       " ('Винишко', 4300.99),\n",
       " ('Винишко', 498.99),\n",
       " ('Винишко', 3870.99),\n",
       " ('Винишко', 498.99),\n",
       " ('Винишко', 3870.99)]"
      ]
     },
     "execution_count": 42,
     "metadata": {},
     "output_type": "execute_result"
    }
   ],
   "source": [
    "cursor.execute('''SELECT title, price_sale FROM products_history \n",
    "WHERE title like '%Винишко%' \n",
    "LIMIT 10''')\n",
    "cursor.fetchall()\n",
    "\n",
    "\n",
    "#Проверяю поменялось ли. Скажу честно, не совсем такой результат я ожидала, но всё получилось."
   ]
  },
  {
   "cell_type": "code",
   "execution_count": 16,
   "id": "4cba2cd4",
   "metadata": {},
   "outputs": [
    {
     "data": {
      "text/plain": [
       "[(120660.45000000007,)]"
      ]
     },
     "execution_count": 16,
     "metadata": {},
     "output_type": "execute_result"
    }
   ],
   "source": [
    "#8. Посчитать сумму стоимости товаров с id от 2877 до 2922.\n",
    "\n",
    "cursor.execute('''SELECT sum(price_sale) FROM products_history \n",
    "WHERE id BETWEEN 2877 and 2922 ''')\n",
    "cursor.fetchall()"
   ]
  },
  {
   "cell_type": "code",
   "execution_count": 13,
   "id": "6d0434a6",
   "metadata": {},
   "outputs": [
    {
     "data": {
      "text/plain": [
       "[]"
      ]
     },
     "execution_count": 13,
     "metadata": {},
     "output_type": "execute_result"
    }
   ],
   "source": [
    "#9. Добавить столбец \"Количество товаров в магазине\".\n",
    "\n",
    "cursor.execute('''ALTER TABLE products_history ADD COLUMN 'namber of items' int''')\n",
    "cursor.fetchall()"
   ]
  },
  {
   "cell_type": "code",
   "execution_count": 14,
   "id": "1c907429",
   "metadata": {},
   "outputs": [
    {
     "data": {
      "text/plain": [
       "[('CREATE TABLE products_history(\"id\" integer NOT NULL PRIMARY KEY AUTOINCREMENT, \"datetime_create\" datetime NULL, \"title\" varchar(200) NULL, \"price_sale\" decimal NULL, \"url\" varchar(1000) NULL, \\'namber of items\\' int)',)]"
      ]
     },
     "execution_count": 14,
     "metadata": {},
     "output_type": "execute_result"
    }
   ],
   "source": [
    "#Проверила добавлися ли. Выглядит странно.\n",
    "\n",
    "cursor.execute('''SELECT sql FROM sqlite_master WHERE name = 'products_history' ''')\n",
    "cursor.fetchall()"
   ]
  },
  {
   "cell_type": "code",
   "execution_count": 22,
   "id": "aba77583",
   "metadata": {},
   "outputs": [
    {
     "data": {
      "text/plain": [
       "[]"
      ]
     },
     "execution_count": 22,
     "metadata": {},
     "output_type": "execute_result"
    }
   ],
   "source": [
    "#Далее при попытке добавить данные в этот столбец выдаёт ошибку. \n",
    "#В названии нельзя писать несколько слов раздельно.\n",
    "#Переименовала столбец, соединив все слова в названии с помощью нижнего подчеркивания.\n",
    "\n",
    "cursor.execute('''ALTER TABLE products_history RENAME COLUMN 'namber of items' to 'namber_of_items' ''')\n",
    "cursor.fetchall()"
   ]
  },
  {
   "cell_type": "code",
   "execution_count": 23,
   "id": "b523ec41",
   "metadata": {},
   "outputs": [
    {
     "data": {
      "text/plain": [
       "[('CREATE TABLE products_history(\"id\" integer NOT NULL PRIMARY KEY AUTOINCREMENT, \"datetime_create\" datetime NULL, \"title\" varchar(200) NULL, \"price_sale\" decimal NULL, \"url\" varchar(1000) NULL, \"namber_of_items\" int)',)]"
      ]
     },
     "execution_count": 23,
     "metadata": {},
     "output_type": "execute_result"
    }
   ],
   "source": [
    "#Проверила. ok\n",
    "\n",
    "cursor.execute('''SELECT sql FROM sqlite_master WHERE name = 'products_history' ''')\n",
    "cursor.fetchall()"
   ]
  },
  {
   "cell_type": "code",
   "execution_count": 24,
   "id": "ee988ef9",
   "metadata": {},
   "outputs": [
    {
     "data": {
      "text/plain": [
       "[]"
      ]
     },
     "execution_count": 24,
     "metadata": {},
     "output_type": "execute_result"
    }
   ],
   "source": [
    "#Добавила в новый столбец namber_of_items kоличество пo id.\n",
    "\n",
    "cursor.execute('''UPDATE products_history \n",
    "SET namber_of_items = 50 \n",
    "WHERE id = 2877''')\n",
    "cursor.fetchall()"
   ]
  },
  {
   "cell_type": "code",
   "execution_count": 25,
   "id": "483acfed",
   "metadata": {},
   "outputs": [
    {
     "data": {
      "text/plain": [
       "[(2877,\n",
       "  '2022-12-06 15:35:11.739773',\n",
       "  'Альбом для рисования Hatber А4, 48 л',\n",
       "  112.99,\n",
       "  'https://www.auchan.ru/product/alb-d-ris-48l-a4-perf-spiral',\n",
       "  50)]"
      ]
     },
     "execution_count": 25,
     "metadata": {},
     "output_type": "execute_result"
    }
   ],
   "source": [
    "#Проверила. ok\n",
    "\n",
    "cursor.execute('''SELECT * FROM products_history\n",
    "WHERE id = 2877''')\n",
    "cursor.fetchall()"
   ]
  },
  {
   "cell_type": "code",
   "execution_count": 33,
   "id": "f4d6f16d",
   "metadata": {},
   "outputs": [
    {
     "data": {
      "text/plain": [
       "[(668,)]"
      ]
     },
     "execution_count": 33,
     "metadata": {},
     "output_type": "execute_result"
    }
   ],
   "source": [
    "#10. Посчитать количество товаров в названиях которых есть \"Лыжный комплект\" и \"Игрушка для собак\".\n",
    "\n",
    "cursor.execute('''SELECT count() FROM products_history \n",
    "WHERE title like \"%Лыжный комплект%\" or title like \"%Игрушка для собак%\" ''')\n",
    "cursor.fetchall()"
   ]
  },
  {
   "cell_type": "code",
   "execution_count": 36,
   "id": "c5b7d417",
   "metadata": {},
   "outputs": [
    {
     "data": {
      "text/plain": [
       "[(76.21333333333334,)]"
      ]
     },
     "execution_count": 36,
     "metadata": {},
     "output_type": "execute_result"
    }
   ],
   "source": [
    "#11. вывести среднюю стоимость товаров типа виски\n",
    "\n",
    "cursor.execute('''SELECT avg(price_sale) FROM products_history \n",
    "WHERE title like \"%виски%\" ''')\n",
    "cursor.fetchall()"
   ]
  },
  {
   "cell_type": "code",
   "execution_count": null,
   "id": "1e02daa8",
   "metadata": {},
   "outputs": [],
   "source": [
    "#12. вывести товары совпадающие по типу"
   ]
  },
  {
   "cell_type": "code",
   "execution_count": null,
   "id": "6f859008",
   "metadata": {},
   "outputs": [],
   "source": [
    "#13. вывести товары весом меньше 50г"
   ]
  },
  {
   "cell_type": "code",
   "execution_count": 41,
   "id": "48b24b3e",
   "metadata": {},
   "outputs": [
    {
     "data": {
      "text/plain": [
       "[(11674,\n",
       "  '2022-12-06 15:40:29.293773',\n",
       "  'Обложка «Пластэк-XXI век», 212х350 мм (мин. 10 шт.)',\n",
       "  0.95,\n",
       "  'https://www.auchan.ru/product/oblozhka-plastek-xxi-vek-212h350-mm',\n",
       "  None),\n",
       " (21272,\n",
       "  '2022-12-06 16:39:17.307964',\n",
       "  'Обложка «Пластэк-XXI век», 212х350 мм (мин. 10 шт.)',\n",
       "  0.95,\n",
       "  'https://www.auchan.ru/product/oblozhka-plastek-xxi-vek-212h350-mm',\n",
       "  None),\n",
       " (304559,\n",
       "  '2022-12-09 00:04:10.317129',\n",
       "  'Семена Морковь «Удачные семена» Королева осени, 2 г',\n",
       "  0.95,\n",
       "  'https://www.auchan.ru/product/semena-morkov-udachnye-semena-koroleva-oseni-2-g',\n",
       "  None),\n",
       " (5802,\n",
       "  '2022-12-06 15:38:03.958477',\n",
       "  'Календарь 2022 «Атберг98» Государственная символика квартальный',\n",
       "  1,\n",
       "  'https://www.auchan.ru/product/k-r-2022-3bl-kvart-gos-simv',\n",
       "  None),\n",
       " (15402,\n",
       "  '2022-12-06 16:36:53.390825',\n",
       "  'Календарь 2022 «Атберг98» Государственная символика квартальный',\n",
       "  1,\n",
       "  'https://www.auchan.ru/product/k-r-2022-3bl-kvart-gos-simv',\n",
       "  None),\n",
       " (74427,\n",
       "  '2022-12-07 00:14:57.363301',\n",
       "  'Календарь 2022 «Атберг98» Государственная символика квартальный',\n",
       "  1,\n",
       "  'https://www.auchan.ru/product/k-r-2022-3bl-kvart-gos-simv',\n",
       "  None),\n",
       " (80276,\n",
       "  '2022-12-07 00:17:16.828117',\n",
       "  'Семена Перец сладкий «Поиск» Белозерка, 0,25 г',\n",
       "  1,\n",
       "  'https://www.auchan.ru/product/perec-sl-belozerka-0-25gr-oi',\n",
       "  None),\n",
       " (132466,\n",
       "  '2022-12-07 07:33:08.961966',\n",
       "  'Календарь 2022 «Атберг98» Государственная символика квартальный',\n",
       "  1,\n",
       "  'https://www.auchan.ru/product/k-r-2022-3bl-kvart-gos-simv',\n",
       "  None),\n",
       " (283784,\n",
       "  '2022-12-08 01:08:40.817713',\n",
       "  'Наклейка автомобильная Golden Snail Ребенок, 15х18 см',\n",
       "  1,\n",
       "  'https://www.auchan.ru/product/nakleyka-avtomobilnaya-golden-snail-rebenok-15h18-sm',\n",
       "  None),\n",
       " (284674,\n",
       "  '2022-12-08 01:09:01.803589',\n",
       "  'Календарь 2022 «Атберг98» Государственная символика квартальный',\n",
       "  1,\n",
       "  'https://www.auchan.ru/product/k-r-2022-3bl-kvart-gos-simv',\n",
       "  None)]"
      ]
     },
     "execution_count": 41,
     "metadata": {},
     "output_type": "execute_result"
    }
   ],
   "source": [
    "#14. упорядочить товары по цене\n",
    "#Поставлю лимит 20. Если его убрать, то покажет все товары из списка, а их 10000\n",
    "\n",
    "cursor.execute('''SELECT * FROM products_history \n",
    "ORDER BY price_sale\n",
    "LIMIT 10''')\n",
    "cursor.fetchall()"
   ]
  },
  {
   "cell_type": "code",
   "execution_count": 40,
   "id": "69fa2855",
   "metadata": {},
   "outputs": [
    {
     "data": {
      "text/plain": [
       "[(79999.99,)]"
      ]
     },
     "execution_count": 40,
     "metadata": {},
     "output_type": "execute_result"
    }
   ],
   "source": [
    "#15. вывести 5 самых дорогих и самых дешевых товара.\n",
    "#Надо подумать. Завтра уже\n",
    "\n",
    "cursor.execute('''SELECT max(price_sale) FROM products_history ''')\n",
    "cursor.fetchall()"
   ]
  },
  {
   "cell_type": "code",
   "execution_count": null,
   "id": "0c0fa70c",
   "metadata": {},
   "outputs": [],
   "source": []
  }
 ],
 "metadata": {
  "kernelspec": {
   "display_name": "Python 3 (ipykernel)",
   "language": "python",
   "name": "python3"
  },
  "language_info": {
   "codemirror_mode": {
    "name": "ipython",
    "version": 3
   },
   "file_extension": ".py",
   "mimetype": "text/x-python",
   "name": "python",
   "nbconvert_exporter": "python",
   "pygments_lexer": "ipython3",
   "version": "3.9.7"
  }
 },
 "nbformat": 4,
 "nbformat_minor": 5
}
