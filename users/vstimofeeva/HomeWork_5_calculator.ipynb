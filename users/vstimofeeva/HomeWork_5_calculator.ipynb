{
 "cells": [
  {
   "cell_type": "code",
   "execution_count": null,
   "id": "0a38dec6",
   "metadata": {},
   "outputs": [],
   "source": [
    "#На входе у нас строка\n",
    "#строку разбить на 3 элемента и положить в список\n",
    "#понять что за операция и совершить операцию\n",
    "#сравнить 2 элемент в списке с конкретной операцией (+ или -)\n",
    "#взять 1 и 3 элемент и в зависимости от той ветки, которую мы выбрали, реализовать соответствующее действие"
   ]
  },
  {
   "cell_type": "code",
   "execution_count": 4,
   "id": "aa5d45aa",
   "metadata": {},
   "outputs": [
    {
     "name": "stdout",
     "output_type": "stream",
     "text": [
      "enter an example:7+9\n",
      "7+9\n"
     ]
    }
   ],
   "source": [
    "calculator = input('enter an example:')\n",
    "print(calculator)"
   ]
  },
  {
   "cell_type": "code",
   "execution_count": null,
   "id": "73c98adc",
   "metadata": {},
   "outputs": [],
   "source": []
  },
  {
   "cell_type": "code",
   "execution_count": null,
   "id": "190b286e",
   "metadata": {},
   "outputs": [],
   "source": []
  },
  {
   "cell_type": "code",
   "execution_count": null,
   "id": "385805f6",
   "metadata": {},
   "outputs": [],
   "source": []
  }
 ],
 "metadata": {
  "kernelspec": {
   "display_name": "Python 3 (ipykernel)",
   "language": "python",
   "name": "python3"
  },
  "language_info": {
   "codemirror_mode": {
    "name": "ipython",
    "version": 3
   },
   "file_extension": ".py",
   "mimetype": "text/x-python",
   "name": "python",
   "nbconvert_exporter": "python",
   "pygments_lexer": "ipython3",
   "version": "3.9.7"
  }
 },
 "nbformat": 4,
 "nbformat_minor": 5
}
