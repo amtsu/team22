{
 "cells": [
  {
   "cell_type": "markdown",
   "id": "a34f27c7-758a-43e9-9750-3ee83f757be4",
   "metadata": {},
   "source": [
    "# Patr I"
   ]
  },
  {
   "cell_type": "markdown",
   "id": "06782fce-bb62-4839-987a-b5b144cd01f5",
   "metadata": {},
   "source": [
    "## Множества \n",
    "\n",
    "- Создайте множество set1 из целых чисел: 1, 2, 3, 4, 5.\n",
    "- Добавьте в это множество элемент 6.\n",
    "- Удалите элемент 2 из множества.\n",
    "- Проверьте, содержит ли множество элемент 3.\n",
    "- Создайте второе множество set2 с элементами 4, 5, 6, 7, 8.\n",
    "- Найдите объединение множеств set1 и set2.\n",
    "- Найдите разность множеств set1 и set2.\n",
    "- Создайте два множества set1 и set2, содержащие цвета радуги: \"красный\", \"оранжевый\", \"желтый\", \"зеленый\", \"голубой\", \"синий\", \"фиолетовый\" и  \"оранжевый\", \"зеленый\", \"голубой\", \"синий\", \"Мальвиновый\".\n",
    "- Найдите пересечение множеств set1 и set2.\n",
    "- Объедините множества set1 и set2 и сохраните результат в новое множество rainbow_colors."
   ]
  },
  {
   "cell_type": "code",
   "execution_count": 13,
   "id": "a09c922e-48f1-4d4a-a397-935f72939e0b",
   "metadata": {},
   "outputs": [
    {
     "name": "stdout",
     "output_type": "stream",
     "text": [
      "{1, 2, 3, 4, 5}\n",
      "{1, 2, 3, 4, 5, 6}\n",
      "{1, 3, 4, 5, 6}\n",
      "True\n",
      "{4, 5, 6, 7, 8}\n",
      "{4, 5, 6}\n",
      "{1, 3, 7, 8}\n",
      "{'синий', 'оранжевый', 'зеленый', 'голубой'}\n",
      "{'синий', 'желтый', 'голубой', 'зеленый', 'оранжевый', 'красный', 'Мальвиновый', 'фиолетовый'}\n"
     ]
    }
   ],
   "source": [
    "set1 = set((1, 2, 3, 4, 5))\n",
    "print(set1)\n",
    "set1.add(6)\n",
    "print(set1)\n",
    "set1.remove(2)\n",
    "print(set1)\n",
    "print(3 in set1)\n",
    "set2 = {4, 5, 6, 7, 8}\n",
    "print(set2)\n",
    "intersection = set1 & set2\n",
    "print(intersection)\n",
    "symmetric_difference = set1 ^ set2\n",
    "print(symmetric_difference)\n",
    "set1 = {\"красный\", \"оранжевый\", \"желтый\", \"зеленый\", \"голубой\", \"синий\", \"фиолетовый\"}\n",
    "set2 = {\"оранжевый\", \"зеленый\", \"голубой\", \"синий\", \"Мальвиновый\"}\n",
    "intersection = set1.intersection(set2)\n",
    "print(intersection)\n",
    "rainbow_colors = set1|set2\n",
    "print(rainbow_colors)"
   ]
  },
  {
   "cell_type": "markdown",
   "id": "f37a20cc-c2af-4c3e-a417-f73630b44ae2",
   "metadata": {},
   "source": [
    "## Словари\n",
    "\n",
    "- Создайте словарь person с ключами \"name\", \"age\" и \"city\" с вашими данными.\n",
    "- Добавьте в словарь новый ключ \"email\" со значением вашего электронного адреса.\n",
    "- Удалите ключ \"city\" из словаря.\n",
    "- Создайте словарь inventory с товарами \"яблоко\": 5, \"банан\": 10, \"апельсин\": 7.\n",
    "- Увеличьте количество \"бананов\" в инвентаре на 3.\n",
    "- Сoздайте новый словарь prices, где цена для каждого продукта задана {\"яблоко\": 1.5, \"банан\": 2, \"апельсин\": 1.2}.\n",
    "- Создайте словарь students с данными о студентах {\"Иванов\": 22, \"Петрова\": 21, \"Сидоров\": 23}.\n",
    "- Добавьте нового студента \"Смирнова\" возрастом 20 лет в словарь.\n",
    "- Удалите студента \"Петрова\" из словаря."
   ]
  },
  {
   "cell_type": "code",
   "execution_count": 14,
   "id": "4be3ee6c-39b0-46ec-9dd5-8890ab2b15bd",
   "metadata": {},
   "outputs": [
    {
     "name": "stdout",
     "output_type": "stream",
     "text": [
      "{'name': 'Valentina', 'age': 35, 'city': 'Moscov', 'emale': 'Valli@mail.ru'}\n",
      "{'name': 'Valentina', 'age': 35, 'emale': 'Valli@mail.ru'}\n",
      "{'яблоко': 5, 'банан': 13, 'апельсин': 7}\n",
      "{'Иванов': 22, 'Петрова': 21, 'Сидоров': 23, 'Смирнова': 20}\n",
      "{'Иванов': 22, 'Сидоров': 23, 'Смирнова': 20}\n"
     ]
    }
   ],
   "source": [
    "person = {\n",
    "    'name' : 'Valentina',\n",
    "    'age' : 35,\n",
    "    'city' : 'Moscov'\n",
    "}\n",
    "person['emale'] = 'Valli@mail.ru'\n",
    "print(person)\n",
    "del person['city']\n",
    "print(person)\n",
    "\n",
    "inventory = {\n",
    "    \"яблоко\" : 5,\n",
    "    \"банан\" : 10,\n",
    "    \"апельсин\" : 7\n",
    "}\n",
    "inventory[\"банан\"] = (inventory[\"банан\"] + 3)\n",
    "print(inventory)\n",
    "\n",
    "prices = {\n",
    "    \"яблоко\" : 1.5,\n",
    "    \"банан\" : 2,\n",
    "    \"апельсин\" : 1.2\n",
    "}\n",
    "\n",
    "students = {\n",
    "    \"Иванов\" : 22,\n",
    "    \"Петрова\" : 21,\n",
    "    \"Сидоров\" : 23\n",
    "}\n",
    "students[\"Смирнова\"] = 20\n",
    "print(students)\n",
    "del students[\"Петрова\"]\n",
    "print(students)"
   ]
  },
  {
   "cell_type": "markdown",
   "id": "ace59ca0-bfe4-4c8d-b3d7-ba043b3141a9",
   "metadata": {},
   "source": [
    "## Условные операторы \n",
    "\n",
    "- На основе значения возраста из словаря person, выведите сообщение \"Совершеннолетний\" или \"Несовершеннолетний\".\n",
    "- Сравните длину множества set1 с другим множеством set2 и выведите сообщение о том, какое из множеств больше.\n",
    "- Напишите условие, которое проверяет, есть ли \"груша\" в словаре inventory, и если нет, добавляет \"грушу\" с количеством 3.\n",
    "- Выведите сообщение \"Дорогой товар\" для продуктов, цена которых превышает 1.5.\n",
    "- Напишите условие, которое проверяет возраст студента \"Иванова\" и выводит сообщение \"Совершеннолетний\" или \"Несовершеннолетний\"."
   ]
  },
  {
   "cell_type": "code",
   "execution_count": 15,
   "id": "1fe26fe3-c09e-49a8-9d5b-4cea168b737d",
   "metadata": {},
   "outputs": [
    {
     "name": "stdout",
     "output_type": "stream",
     "text": [
      "Совершеннолетний\n",
      "set1 больше set2\n",
      "{'яблоко': 5, 'банан': 13, 'апельсин': 7, 'груша': '3'}\n",
      "Дорогой товар\n",
      "Нет в списке\n"
     ]
    }
   ],
   "source": [
    "if person['age'] > 18:\n",
    "    print(\"Совершеннолетний\")\n",
    "else:\n",
    "    print( \"Несовершеннолетний\")\n",
    "\n",
    "if len(set1) > len(set2):\n",
    "    print('set1 больше set2')\n",
    "else:\n",
    "    print('set2 больше set1')\n",
    "\n",
    "if \"груша\" in inventory:\n",
    "    pass\n",
    "else:\n",
    "    inventory[\"груша\"] = '3'\n",
    "print(inventory)\n",
    "\n",
    "if prices[\"яблоко\"] > 1.5 or prices[\"банан\"] > 1.5 or prices[\"апельсин\"] > 1.5:\n",
    "    print(\"Дорогой товар\")\n",
    "\n",
    "if 'Ивановa' not in students:\n",
    "    print(\"Нет в списке\")\n",
    "elif students['Ивановa'] > 18:\n",
    "    print(\"Совершеннолетний\")\n",
    "else:\n",
    "    students['Ивановa'] < 18\n",
    "    print( \"Несовершеннолетний\")"
   ]
  },
  {
   "cell_type": "markdown",
   "id": "f8cf74cd-3fdc-41a3-bcae-32fc15e6e85f",
   "metadata": {},
   "source": [
    "## Циклы \n",
    "\n",
    "- Напишите цикл for, который выводит все элементы множества set1.\n",
    "- Напишите цикл while, который выводит квадраты чисел от 1 до 5.\n",
    "- Напишите цикл for, который перебирает все ключи словаря inventory и выводит каждый товар.\n",
    "- Используя цикл for, выведите всех студентов и их возраст из словаря students."
   ]
  },
  {
   "cell_type": "code",
   "execution_count": 16,
   "id": "8ac6b3ee-d3cf-4078-8a71-e63982658cbc",
   "metadata": {},
   "outputs": [
    {
     "name": "stdout",
     "output_type": "stream",
     "text": [
      "синий\n",
      "оранжевый\n",
      "красный\n",
      "желтый\n",
      "голубой\n",
      "зеленый\n",
      "фиолетовый\n",
      "1\n",
      "4\n",
      "9\n",
      "16\n",
      "25\n",
      "яблоко\n",
      "банан\n",
      "апельсин\n",
      "груша\n",
      "Иванов : 22\n",
      "Сидоров : 23\n",
      "Смирнова : 20\n"
     ]
    }
   ],
   "source": [
    "for element in set1:\n",
    "    print(element)\n",
    "\n",
    "namber = 0\n",
    "while namber < 5:\n",
    "    namber = namber + 1\n",
    "    print(namber ** 2)\n",
    "\n",
    "for key in inventory:\n",
    "    print(key)\n",
    "#в задании выше добавляли грушу\n",
    "\n",
    "for key in students:\n",
    "    print(key, ':', students[key])"
   ]
  }
 ],
 "metadata": {
  "kernelspec": {
   "display_name": "Python 3 (ipykernel)",
   "language": "python",
   "name": "python3"
  },
  "language_info": {
   "codemirror_mode": {
    "name": "ipython",
    "version": 3
   },
   "file_extension": ".py",
   "mimetype": "text/x-python",
   "name": "python",
   "nbconvert_exporter": "python",
   "pygments_lexer": "ipython3",
   "version": "3.10.10"
  }
 },
 "nbformat": 4,
 "nbformat_minor": 5
}
