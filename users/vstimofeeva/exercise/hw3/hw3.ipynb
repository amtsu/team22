{
 "cells": [
  {
   "cell_type": "markdown",
   "id": "3895f018-312a-4bd8-a994-975a3fde1e7a",
   "metadata": {},
   "source": [
    "Вычислить результат следующих операций:"
   ]
  },
  {
   "cell_type": "code",
   "execution_count": 1,
   "id": "4f108320-9598-42ec-852b-44a70e0d977a",
   "metadata": {},
   "outputs": [
    {
     "data": {
      "text/plain": [
       "80"
      ]
     },
     "execution_count": 1,
     "metadata": {},
     "output_type": "execute_result"
    }
   ],
   "source": [
    "10 * (5 + 3)"
   ]
  },
  {
   "cell_type": "code",
   "execution_count": 2,
   "id": "1576776c-ec0e-4587-88ec-f08448ca3e3c",
   "metadata": {},
   "outputs": [
    {
     "data": {
      "text/plain": [
       "7.0"
      ]
     },
     "execution_count": 2,
     "metadata": {},
     "output_type": "execute_result"
    }
   ],
   "source": [
    "(20 - 6) / 2"
   ]
  },
  {
   "cell_type": "code",
   "execution_count": 3,
   "id": "f55d98df-1173-4adc-954c-7c808d2d3ac9",
   "metadata": {},
   "outputs": [
    {
     "data": {
      "text/plain": [
       "32"
      ]
     },
     "execution_count": 3,
     "metadata": {},
     "output_type": "execute_result"
    }
   ],
   "source": [
    "2 ** 5"
   ]
  },
  {
   "cell_type": "code",
   "execution_count": 4,
   "id": "cdbe361e-605a-475c-88d4-7660d5f78ec0",
   "metadata": {},
   "outputs": [
    {
     "data": {
      "text/plain": [
       "6"
      ]
     },
     "execution_count": 4,
     "metadata": {},
     "output_type": "execute_result"
    }
   ],
   "source": [
    "25 // 4"
   ]
  },
  {
   "cell_type": "code",
   "execution_count": 5,
   "id": "da168b61-d280-4e29-8547-1cc1d3865214",
   "metadata": {},
   "outputs": [
    {
     "data": {
      "text/plain": [
       "1"
      ]
     },
     "execution_count": 5,
     "metadata": {},
     "output_type": "execute_result"
    }
   ],
   "source": [
    "25 % 4"
   ]
  },
  {
   "cell_type": "markdown",
   "id": "f891ada6-5063-4df2-be49-91a1ccf88e6a",
   "metadata": {},
   "source": [
    "Дано дробное число:\n",
    "number = -3.14\n",
    "Выполнить следующие операции:\n",
    "- Округлите число до целого.\n",
    "- Возьмите остаток числа."
   ]
  },
  {
   "cell_type": "code",
   "execution_count": 2,
   "id": "624cb430-5493-448d-aaf6-d3bcad409239",
   "metadata": {},
   "outputs": [
    {
     "data": {
      "text/plain": [
       "-3"
      ]
     },
     "execution_count": 2,
     "metadata": {},
     "output_type": "execute_result"
    }
   ],
   "source": [
    "number = -3.14\n",
    "round(number)"
   ]
  },
  {
   "cell_type": "code",
   "execution_count": 3,
   "id": "0bf75c8e-80fd-46a2-b12c-f9e38999342a",
   "metadata": {},
   "outputs": [
    {
     "name": "stdout",
     "output_type": "stream",
     "text": [
      "-0.14000000000000012\n"
     ]
    }
   ],
   "source": [
    "ostatok = number - round(number)\n",
    "print(ostatok)"
   ]
  },
  {
   "cell_type": "markdown",
   "id": "f570b70c-4dd6-4067-b576-03ed84ecf99e",
   "metadata": {},
   "source": [
    "Даны стороны прямоугольника: a = 5, b = 7.\n",
    "- Вычислить площадь прямоугольника и вывести результат на экран."
   ]
  },
  {
   "cell_type": "code",
   "execution_count": 5,
   "id": "593dbcfb-69a5-4e8f-a0b6-ba355c0d299e",
   "metadata": {},
   "outputs": [
    {
     "name": "stdout",
     "output_type": "stream",
     "text": [
      "35\n"
     ]
    }
   ],
   "source": [
    "a = 5\n",
    "b = 7\n",
    "s = a * b\n",
    "print(s)"
   ]
  },
  {
   "cell_type": "markdown",
   "id": "589fb0bb-8130-408d-9deb-8f57de0dc3d7",
   "metadata": {},
   "source": [
    "Hа какой объем воздуха должен быть расчитан кондиционер, если с его помощью хотят охлаждать квартиру в которой\n",
    "- размер гостинной 3.5 на 6.4 метра, \n",
    "- спальни 3.4 на 4 метра и \n",
    "- площадь не жилой части 11 метров.\n",
    "- При том что высота потолков 3,1 метр."
   ]
  },
  {
   "cell_type": "code",
   "execution_count": 7,
   "id": "70e36453-9d11-4cd8-a45a-8fad6333830e",
   "metadata": {},
   "outputs": [
    {
     "name": "stdout",
     "output_type": "stream",
     "text": [
      "145.70000000000002\n"
     ]
    }
   ],
   "source": [
    "#v = a * b * c\n",
    "living_room = 3.5 * 6.4 * 3.1\n",
    "bedroom_room = 3.4 * 4 * 3.1\n",
    "not_a_living_room = 11 * 3.1\n",
    "\n",
    "v_all = living_room + bedroom_room + not_a_living_room\n",
    "print(v_all)"
   ]
  },
  {
   "cell_type": "markdown",
   "id": "d4382618-8f18-4847-abe9-bbfdf008bc7c",
   "metadata": {},
   "source": [
    "Дано квадратное уравнение вида ax^2 + bx + c = 0.\n",
    "- Найти его решения, используя формулу дискриминанта.\n",
    "- a номер текущего месяца\n",
    "- b номер вашей группы\n",
    "- c минус десять (-10)"
   ]
  },
  {
   "cell_type": "code",
   "execution_count": 4,
   "id": "433f9d69-772f-4212-b0c8-577ceb31f6ad",
   "metadata": {},
   "outputs": [],
   "source": [
    "# ax^2 + bx + c = 0\n",
    "a = 2\n",
    "b = 4\n",
    "c = -10\n",
    "\n",
    "#я без понятия как это решать."
   ]
  },
  {
   "cell_type": "code",
   "execution_count": 6,
   "id": "094cc728-63e6-4db5-941e-21c82461efec",
   "metadata": {},
   "outputs": [
    {
     "name": "stdout",
     "output_type": "stream",
     "text": [
      "96\n"
     ]
    }
   ],
   "source": [
    "D = b * b -4 * a * c\n",
    "#x1 = (-b + sqrt(D))/(2*a)\n",
    "#x1 = (-b + sqrt(D))/(2*a)\n",
    "print(D)"
   ]
  },
  {
   "cell_type": "markdown",
   "id": "7dbd2cc9-eef3-4680-8717-1b598d1742a3",
   "metadata": {},
   "source": [
    "Даны строки:\n",
    "- string1 = \"hello, \"\n",
    "- string2 = \"world!\"\n",
    "- Объединить строки string1 и string2\n",
    "- результат вывести на экран так чтобы первая буква в предложении стала заглавной."
   ]
  },
  {
   "cell_type": "code",
   "execution_count": 36,
   "id": "1ca53194-d4d7-427a-9cb4-a736bb911700",
   "metadata": {},
   "outputs": [
    {
     "name": "stdout",
     "output_type": "stream",
     "text": [
      "Hello, world!\n"
     ]
    }
   ],
   "source": [
    "string1 = \"hello, \"\n",
    "string2 = \"world!\"\n",
    "result = (string1 + string2).capitalize()\n",
    "print(result)"
   ]
  },
  {
   "cell_type": "markdown",
   "id": "ae012cab-c369-4f90-904d-3c676eadacff",
   "metadata": {},
   "source": [
    "Сколько символов было в предыдущей строке?"
   ]
  },
  {
   "cell_type": "code",
   "execution_count": 37,
   "id": "10e13599-edb7-4d7a-bd14-7b515c042561",
   "metadata": {},
   "outputs": [
    {
     "name": "stdout",
     "output_type": "stream",
     "text": [
      "13\n"
     ]
    }
   ],
   "source": [
    "print(len(result))"
   ]
  },
  {
   "cell_type": "markdown",
   "id": "707072b1-c810-4857-92e7-f6a637f83489",
   "metadata": {},
   "source": [
    "Выведите на экран строку la 25 раз."
   ]
  },
  {
   "cell_type": "code",
   "execution_count": 22,
   "id": "511045ed-f167-4134-942a-e19c496284b8",
   "metadata": {},
   "outputs": [
    {
     "data": {
      "text/plain": [
       "'lalalalalalalalalalalalalalalalalalalalalalalalala'"
      ]
     },
     "execution_count": 22,
     "metadata": {},
     "output_type": "execute_result"
    }
   ],
   "source": [
    "'la' * 25"
   ]
  },
  {
   "cell_type": "markdown",
   "id": "e9f3e4e3-13b9-4997-a0ec-37bd712725e0",
   "metadata": {},
   "source": [
    "Дан список чисел:\n",
    "- numbers = [1, 2, 3, 4, 5]\n",
    "- Выполнить следующие операции:\n",
    "1. Измените число 2 на строку \"hi\" \n",
    "2. Выведите значение, находящееся на позиции 2.\n",
    "3. Изменить значение на позиции 4 на список из 3 элементов [8, 6, 4].\n",
    "Результаты вывести на экран."
   ]
  },
  {
   "cell_type": "code",
   "execution_count": 18,
   "id": "a261b6f3-632c-408b-b827-4719796e2ac1",
   "metadata": {},
   "outputs": [
    {
     "name": "stdout",
     "output_type": "stream",
     "text": [
      "[1, 'hi', 3, 4, 5]\n"
     ]
    }
   ],
   "source": [
    "numbers = [1,2,3,4,5]\n",
    "numbers[1] = 'hi'\n",
    "print(numbers)\n",
    "#заменила число 2"
   ]
  },
  {
   "cell_type": "code",
   "execution_count": 19,
   "id": "b5720d67-c9d7-4487-8da8-f945d881088e",
   "metadata": {},
   "outputs": [
    {
     "name": "stdout",
     "output_type": "stream",
     "text": [
      "hi\n"
     ]
    }
   ],
   "source": [
    "print(numbers[1])\n",
    "#вывела то, что на позиции 2.\n",
    "#что означает 'позиция'? Второй по счёту или под индексом 2? "
   ]
  },
  {
   "cell_type": "code",
   "execution_count": 20,
   "id": "48f29171-cc57-4b5d-b19f-73206bc3bdfe",
   "metadata": {},
   "outputs": [
    {
     "name": "stdout",
     "output_type": "stream",
     "text": [
      "[1, 'hi', 3, [8, 6, 4], 5]\n"
     ]
    }
   ],
   "source": [
    "numbers[3] = [8,6,4]\n",
    "print(numbers)"
   ]
  },
  {
   "cell_type": "markdown",
   "id": "efc75ca7-14c2-40ac-9d8f-76f4efc6a9f3",
   "metadata": {},
   "source": [
    "Дан список чисел:\n",
    "- numbers = [1, 2, 3, 4, 5, 6, 7, 8, 9, 10]\n",
    "- Извлеките подсписок с 3-го по 7-й элемент включительно."
   ]
  },
  {
   "cell_type": "code",
   "execution_count": 10,
   "id": "21e7ad9b-b23a-4bc2-99b9-94c4d9ec1787",
   "metadata": {},
   "outputs": [
    {
     "name": "stdout",
     "output_type": "stream",
     "text": [
      "[3, 4, 5, 6, 7, 8]\n"
     ]
    }
   ],
   "source": [
    "numbers = [1, 2, 3, 4, 5, 6, 7, 8, 9, 10]\n",
    "print(numbers[2:8])"
   ]
  }
 ],
 "metadata": {
  "kernelspec": {
   "display_name": "Python 3 (ipykernel)",
   "language": "python",
   "name": "python3"
  },
  "language_info": {
   "codemirror_mode": {
    "name": "ipython",
    "version": 3
   },
   "file_extension": ".py",
   "mimetype": "text/x-python",
   "name": "python",
   "nbconvert_exporter": "python",
   "pygments_lexer": "ipython3",
   "version": "3.10.10"
  }
 },
 "nbformat": 4,
 "nbformat_minor": 5
}
