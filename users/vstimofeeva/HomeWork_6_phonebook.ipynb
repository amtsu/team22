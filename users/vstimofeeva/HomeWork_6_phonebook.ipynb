{
 "cells": [
  {
   "cell_type": "code",
   "execution_count": 9,
   "id": "71cf092a",
   "metadata": {},
   "outputs": [],
   "source": [
    "phonebook = [\n",
    "        {'namber': '89011053322',\n",
    "          'name': 'Valentina',\n",
    "          'city': 'Moscow'},\n",
    "        \n",
    "         {'namber': '89050115584',\n",
    "          'name': 'Konstantin',\n",
    "          'city': 'Bar'},\n",
    "        \n",
    "         {'namber': '89165550541',\n",
    "          'name': 'Andrey',\n",
    "          'city': 'Malaga'},\n",
    "]"
   ]
  },
  {
   "cell_type": "code",
   "execution_count": null,
   "id": "fe959da0",
   "metadata": {},
   "outputs": [],
   "source": []
  },
  {
   "cell_type": "markdown",
   "id": "631c1cb0",
   "metadata": {},
   "source": [
    "1. добавить новый контакт в телефонный справочник"
   ]
  },
  {
   "cell_type": "code",
   "execution_count": 10,
   "id": "a606181b",
   "metadata": {},
   "outputs": [
    {
     "name": "stdout",
     "output_type": "stream",
     "text": [
      "[{'namber': '89011053322', 'name': 'Valentina', 'city': 'Moscow'}, {'namber': '89050115584', 'name': 'Konstantin', 'city': 'Bar'}, {'namber': '89165550541', 'name': 'Andrey', 'city': 'Malaga'}, {'namber': '81055567392', 'name': 'Victoria', 'city': 'Malaga'}]\n"
     ]
    }
   ],
   "source": [
    "def new_contact(telephone_book, name, city, namber):\n",
    "    new_element = {'namber': namber,\n",
    "                   'name': name,\n",
    "                   'city': city}\n",
    "    telephone_book.append(new_element) \n",
    "    return phonebook\n",
    "print(new_contact(phonebook, 'Victoria', 'Malaga', '81055567392'))"
   ]
  },
  {
   "cell_type": "markdown",
   "id": "3e409b9e",
   "metadata": {},
   "source": [
    "2. добавить новое значение в контакт"
   ]
  },
  {
   "cell_type": "code",
   "execution_count": 11,
   "id": "67f0623d",
   "metadata": {},
   "outputs": [
    {
     "name": "stdout",
     "output_type": "stream",
     "text": [
      "[{'namber': '89011053322', 'name': 'Valentina', 'city': 'Moscow'}, {'namber': '89050115584', 'name': 'Konstantin', 'city': 'Bar', 'age': 100}, {'namber': '89165550541', 'name': 'Andrey', 'city': 'Malaga'}, {'namber': '81055567392', 'name': 'Victoria', 'city': 'Malaga'}]\n"
     ]
    }
   ],
   "source": [
    "def new_value_in_contacts(telephone_book, name, new_key, new_value):\n",
    "    for contact in telephone_book:\n",
    "        if contact['name'] == name:\n",
    "            contact[new_key] = new_value\n",
    "    return telephone_book\n",
    "print(new_value_in_contacts(phonebook, 'Konstantin', 'age', 100))"
   ]
  },
  {
   "cell_type": "markdown",
   "id": "26b904d9",
   "metadata": {},
   "source": [
    "3. сортировать по имени"
   ]
  },
  {
   "cell_type": "code",
   "execution_count": 19,
   "id": "318f124c",
   "metadata": {},
   "outputs": [
    {
     "name": "stdout",
     "output_type": "stream",
     "text": [
      "[{'namber': '89165550541', 'name': 'Andrey', 'city': 'Malaga'}, {'namber': '89050115584', 'name': 'Konstantin', 'city': 'Bar', 'age': 100}, {'namber': '89011053322', 'name': 'Valentina', 'city': 'Moscow'}, {'namber': '81055567392', 'name': 'Victoria', 'city': 'Malaga'}]\n"
     ]
    }
   ],
   "source": [
    "def alphabetical_sorting(telephone_book):\n",
    "    new_list = sorted(telephone_book, key = lambda el: el['name'])\n",
    "    return new_list\n",
    "print(alphabetical_sorting(phonebook))"
   ]
  },
  {
   "cell_type": "markdown",
   "id": "b8b461cf",
   "metadata": {},
   "source": [
    "4. выдать номер телефона по буквам в имени"
   ]
  },
  {
   "cell_type": "code",
   "execution_count": 60,
   "id": "e5b9896c",
   "metadata": {},
   "outputs": [
    {
     "name": "stdout",
     "output_type": "stream",
     "text": [
      "['89011053322', '81055567392']\n"
     ]
    }
   ],
   "source": [
    "def namber_by_letters(telephone_book, letters):\n",
    "    new_list = []\n",
    "    for contact in telephone_book:\n",
    "        if letters.lower() in contact['name'].lower():\n",
    "            new_list.append(contact['namber'])       \n",
    "    return new_list\n",
    "print(namber_by_letters(phonebook, 'V'))"
   ]
  },
  {
   "cell_type": "markdown",
   "id": "1f24e928",
   "metadata": {},
   "source": [
    "5. поиск по имени и выдать все данные"
   ]
  },
  {
   "cell_type": "code",
   "execution_count": 61,
   "id": "3ed5aa75",
   "metadata": {},
   "outputs": [
    {
     "name": "stdout",
     "output_type": "stream",
     "text": [
      "[{'namber': '89050115584', 'name': 'Konstantin', 'city': 'Bar', 'age': 100}]\n"
     ]
    }
   ],
   "source": [
    "def all_information_by_name(telephone_book, name):\n",
    "    new_list = []\n",
    "    for contact in telephone_book:\n",
    "        if contact['name'].lower() == name.lower():\n",
    "            new_list.append(contact)\n",
    "    return new_list\n",
    "print(all_information_by_name(phonebook, 'Konstantin'))"
   ]
  },
  {
   "cell_type": "markdown",
   "id": "2a79db00",
   "metadata": {},
   "source": [
    "6. поиск по городу и выдать номер телефона и имя"
   ]
  },
  {
   "cell_type": "code",
   "execution_count": 69,
   "id": "cc1c9b61",
   "metadata": {},
   "outputs": [
    {
     "name": "stdout",
     "output_type": "stream",
     "text": [
      "[{'name': 'Andrey', 'namber': '89165550541'}, {'name': 'Victoria', 'namber': '81055567392'}]\n"
     ]
    }
   ],
   "source": [
    "def city_search(telephone_book, city):\n",
    "    new_list = []\n",
    "    for contact in telephone_book:\n",
    "        if contact['city'].lower() == city.lower():\n",
    "            new_list.append({'name' : contact['name'],\n",
    "                             'namber' : contact['namber']})\n",
    "    return new_list\n",
    "print(city_search(phonebook, 'Malaga'))"
   ]
  },
  {
   "cell_type": "code",
   "execution_count": null,
   "id": "e075e515",
   "metadata": {},
   "outputs": [],
   "source": []
  }
 ],
 "metadata": {
  "kernelspec": {
   "display_name": "Python 3 (ipykernel)",
   "language": "python",
   "name": "python3"
  },
  "language_info": {
   "codemirror_mode": {
    "name": "ipython",
    "version": 3
   },
   "file_extension": ".py",
   "mimetype": "text/x-python",
   "name": "python",
   "nbconvert_exporter": "python",
   "pygments_lexer": "ipython3",
   "version": "3.9.7"
  }
 },
 "nbformat": 4,
 "nbformat_minor": 5
}
