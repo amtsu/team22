total 40
drwxr-x---  7 jupyter-vallitim jupyter-vallitim 4096 Jan 24 17:40 [0m[01;34m.[0m/
drwxr-xr-x 33 root             root             4096 Jan 24 17:30 [01;34m..[0m/
-rw-r--r--  1 jupyter-vallitim jupyter-vallitim  220 Feb 25  2020 .bash_logout
-rw-r--r--  1 jupyter-vallitim jupyter-vallitim 3771 Feb 25  2020 .bashrc
drwxr-xr-x  3 jupyter-vallitim jupyter-vallitim 4096 Jan 24 17:30 [01;34m.cache[0m/
drwxr-xr-x  4 jupyter-vallitim jupyter-vallitim 4096 Jan 24 18:33 [01;34mgithub[0m/
drwxr-xr-x  3 jupyter-vallitim jupyter-vallitim 4096 Jan 24 17:52 [01;34m.ipython[0m/
drwxr-xr-x  3 jupyter-vallitim jupyter-vallitim 4096 Jan 24 17:30 [01;34m.local[0m/
-rw-r--r--  1 jupyter-vallitim jupyter-vallitim  807 Feb 25  2020 .profile
drwx------  2 jupyter-vallitim jupyter-vallitim 4096 Jan 24 17:40 [01;34m.ssh[0m/
