total 12
drwxr-xr-x  2 jupyter-vallitim jupyter-vallitim 4096 Jan 24 20:49 [0m[01;34m.[0m/
drwxr-xr-x 18 jupyter-vallitim jupyter-vallitim 4096 Jan 24 21:02 [01;34m..[0m/
-rw-r--r--  1 jupyter-vallitim jupyter-vallitim    0 Jan 24 21:06 HomeWork_1.ipynb
-rw-r--r--  1 jupyter-vallitim jupyter-vallitim   50 Jan 24 17:42 README.md
