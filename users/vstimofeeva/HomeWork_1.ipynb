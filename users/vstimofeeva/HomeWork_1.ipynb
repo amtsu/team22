{
 "cells": [
  {
   "cell_type": "markdown",
   "id": "ba03843d",
   "metadata": {},
   "source": [
    "## 1"
   ]
  },
  {
   "cell_type": "code",
   "execution_count": null,
   "id": "969f3639",
   "metadata": {},
   "outputs": [],
   "source": []
  },
  {
   "cell_type": "markdown",
   "id": "54ba1122",
   "metadata": {},
   "source": [
    "### что такое программа?"
   ]
  },
  {
   "cell_type": "markdown",
   "id": "69885bc8",
   "metadata": {},
   "source": [
    "Программа (Program) — это набор команд, инструкций в виде кода, который запакован в исполняемый файла/ы."
   ]
  },
  {
   "cell_type": "markdown",
   "id": "07a16a9d",
   "metadata": {},
   "source": [
    "### зачем нужны программы?"
   ]
  },
  {
   "cell_type": "markdown",
   "id": "b94be097",
   "metadata": {},
   "source": [
    "Создается для выполнения определенный функций и задач на определенном устройстве и операционной системе.\n",
    "Программы позволяют выполнять поставленные задачи перед пользователем и обеспечивают правильную работу подключенных устройств."
   ]
  },
  {
   "cell_type": "markdown",
   "id": "89ec805a",
   "metadata": {},
   "source": [
    "### зачем нужен язык программирования?"
   ]
  },
  {
   "cell_type": "markdown",
   "id": "10826e2d",
   "metadata": {},
   "source": [
    "Коммуникация между машиной и человеком посредством простого и понятного кода."
   ]
  },
  {
   "cell_type": "markdown",
   "id": "e2407886",
   "metadata": {},
   "source": [
    "### что могу программы?"
   ]
  },
  {
   "cell_type": "markdown",
   "id": "49619374",
   "metadata": {},
   "source": [
    "Условно области, где применяются языки программирования, можно разделить на две большие группы:\n",
    "\n",
    "Бизнес — разработка программ, которые помогают решать конкретные проблемы людей. Например, программист может создать для продуктового магазина сервис по доставке.\n",
    "\n",
    "Развлечение — языки программирования используются для создания развлекательных приложений и игр."
   ]
  },
  {
   "cell_type": "markdown",
   "id": "d44cefdf",
   "metadata": {},
   "source": [
    "### из чего состоят программы?"
   ]
  },
  {
   "cell_type": "markdown",
   "id": "5d4cd4b6",
   "metadata": {},
   "source": [
    "Программа состоит из набора инструкций"
   ]
  },
  {
   "cell_type": "markdown",
   "id": "173691de",
   "metadata": {},
   "source": [
    "## 2"
   ]
  },
  {
   "cell_type": "code",
   "execution_count": 1,
   "id": "a2e15d55",
   "metadata": {},
   "outputs": [
    {
     "name": "stdout",
     "output_type": "stream",
     "text": [
      "34\n"
     ]
    }
   ],
   "source": [
    "#сложите 13 и 22\n",
    "a = 12 + 22\n",
    "print(a)"
   ]
  },
  {
   "cell_type": "code",
   "execution_count": 2,
   "id": "79666619",
   "metadata": {},
   "outputs": [
    {
     "name": "stdout",
     "output_type": "stream",
     "text": [
      "217\n"
     ]
    }
   ],
   "source": [
    "#перемножте 31 и 7\n",
    "b = 31 * 7\n",
    "print(b)"
   ]
  },
  {
   "cell_type": "code",
   "execution_count": 3,
   "id": "2fe12ca3",
   "metadata": {},
   "outputs": [
    {
     "name": "stdout",
     "output_type": "stream",
     "text": [
      "4138\n"
     ]
    }
   ],
   "source": [
    "#найдите целую часть от деления 132423 на 32\n",
    "c = 132423 // 32\n",
    "print(c)"
   ]
  },
  {
   "cell_type": "code",
   "execution_count": 4,
   "id": "5dbbb6b6",
   "metadata": {},
   "outputs": [
    {
     "name": "stdout",
     "output_type": "stream",
     "text": [
      "31\n"
     ]
    }
   ],
   "source": [
    "#найдите остаток от деления 23423 на 43\n",
    "d = 23423 % 43\n",
    "print(d)"
   ]
  },
  {
   "cell_type": "code",
   "execution_count": 5,
   "id": "576d3abc",
   "metadata": {},
   "outputs": [
    {
     "name": "stdout",
     "output_type": "stream",
     "text": [
      "625\n"
     ]
    }
   ],
   "source": [
    "#возвеите в 4 стень число 5\n",
    "e = 5 ** 4\n",
    "print(e)"
   ]
  },
  {
   "cell_type": "markdown",
   "id": "822b23a4",
   "metadata": {},
   "source": [
    "## 3"
   ]
  },
  {
   "cell_type": "markdown",
   "id": "7e345d9a",
   "metadata": {},
   "source": [
    "#### зачем нужны переменные"
   ]
  },
  {
   "cell_type": "markdown",
   "id": "15eb4ad5",
   "metadata": {},
   "source": [
    "Переменные – это символическое имя, которое является ссылкой или указателем на объект. Переменные используются для обозначения объектов этим именем."
   ]
  },
  {
   "cell_type": "markdown",
   "id": "fc326131",
   "metadata": {},
   "source": [
    "#### зачем нужно имя у переменной"
   ]
  },
  {
   "cell_type": "markdown",
   "id": "abc07f26",
   "metadata": {},
   "source": [
    "Имя переменной используется для того, чтобы сослаться на сохраненное значение в компьютерной программе."
   ]
  },
  {
   "cell_type": "markdown",
   "id": "7ddc4b97",
   "metadata": {},
   "source": [
    "#### как узнать тип переменной"
   ]
  },
  {
   "cell_type": "markdown",
   "id": "786f816c",
   "metadata": {},
   "source": [
    "tupe()"
   ]
  },
  {
   "cell_type": "code",
   "execution_count": 11,
   "id": "39269870",
   "metadata": {},
   "outputs": [
    {
     "data": {
      "text/plain": [
       "int"
      ]
     },
     "execution_count": 11,
     "metadata": {},
     "output_type": "execute_result"
    }
   ],
   "source": [
    "a = 150\n",
    "type(a)"
   ]
  },
  {
   "cell_type": "markdown",
   "id": "213669ca",
   "metadata": {},
   "source": [
    "#### можно ли преобразовать строк в число? И если да то в каких случаях?"
   ]
  },
  {
   "cell_type": "markdown",
   "id": "2dca60f3",
   "metadata": {},
   "source": [
    "Строки можно преобразовать в числа с помощью методов int() и float()"
   ]
  },
  {
   "cell_type": "code",
   "execution_count": 5,
   "id": "e5b7b101",
   "metadata": {},
   "outputs": [
    {
     "name": "stdout",
     "output_type": "stream",
     "text": [
      "155\n"
     ]
    }
   ],
   "source": [
    "stroka = '150'\n",
    "a = 5 + int(stroka)\n",
    "print(a)"
   ]
  },
  {
   "cell_type": "markdown",
   "id": "bbd9583b",
   "metadata": {},
   "source": [
    "#### можно ли преобразовать число в строку? И если да то в каких случаях?"
   ]
  },
  {
   "cell_type": "markdown",
   "id": "e9b1b604",
   "metadata": {},
   "source": [
    "Чтобы конвертировать число в строку, используют метод str()."
   ]
  },
  {
   "cell_type": "code",
   "execution_count": 10,
   "id": "8215ffb5",
   "metadata": {},
   "outputs": [
    {
     "name": "stdout",
     "output_type": "stream",
     "text": [
      "150 cat in bag.\n"
     ]
    }
   ],
   "source": [
    "chislo = 150\n",
    "kol_cat = str(chislo) + ' ' + 'cat in bag.'\n",
    "print(kol_cat)"
   ]
  },
  {
   "cell_type": "markdown",
   "id": "c64cafb0",
   "metadata": {},
   "source": [
    "## 4"
   ]
  },
  {
   "cell_type": "markdown",
   "id": "661b698b",
   "metadata": {},
   "source": [
    "#### Пусть дана фраза \"i love to travel\". Напишите код для вычисление:"
   ]
  },
  {
   "cell_type": "code",
   "execution_count": 4,
   "id": "dfcba812",
   "metadata": {},
   "outputs": [
    {
     "name": "stdout",
     "output_type": "stream",
     "text": [
      "t\n"
     ]
    }
   ],
   "source": [
    "#какой индекс будет у первой буквы t\n",
    "#7. Пробелы тоже учитываем.\n",
    "ferst_t = \"i love to travel\"\n",
    "print(ferst_t[7])"
   ]
  },
  {
   "cell_type": "code",
   "execution_count": 6,
   "id": "3b47c7c1",
   "metadata": {},
   "outputs": [
    {
     "name": "stdout",
     "output_type": "stream",
     "text": [
      "r\n"
     ]
    }
   ],
   "source": [
    "#какой индекс будет у буквы r\n",
    "#11.\n",
    "index_r = \"i love to travel\"\n",
    "print(index_r[11])"
   ]
  },
  {
   "cell_type": "code",
   "execution_count": 18,
   "id": "ee7b6f0b",
   "metadata": {},
   "outputs": [
    {
     "name": "stdout",
     "output_type": "stream",
     "text": [
      "love \n"
     ]
    }
   ],
   "source": [
    "#как вывести из строки слова с 2 по 6 индекс\n",
    "#пишу по 7, так как показывает 6 индекс последним\n",
    "stroka = \"i love to travel\"\n",
    "print(stroka[2:7])\n"
   ]
  },
  {
   "cell_type": "code",
   "execution_count": 19,
   "id": "dcd65a47",
   "metadata": {},
   "outputs": [
    {
     "name": "stdout",
     "output_type": "stream",
     "text": [
      "to\n"
     ]
    }
   ],
   "source": [
    "#какой какие индексы нужно указать в срезе чтобы вывести to\n",
    "stroka = \"i love to travel\"\n",
    "print(stroka[7:9])"
   ]
  },
  {
   "cell_type": "code",
   "execution_count": 17,
   "id": "18a3b417",
   "metadata": {},
   "outputs": [
    {
     "name": "stdout",
     "output_type": "stream",
     "text": [
      "i love to traveli love to traveli love to traveli love to traveli love to travel\n"
     ]
    }
   ],
   "source": [
    "#что будет если строку умножить на число 5\n",
    "\n",
    "#Строка напечатается 5 раз подряд.\n",
    "stroka = \"i love to travel\"\n",
    "print(stroka*5)"
   ]
  },
  {
   "cell_type": "code",
   "execution_count": 15,
   "id": "d1415e06",
   "metadata": {},
   "outputs": [
    {
     "data": {
      "text/plain": [
       "False"
      ]
     },
     "execution_count": 15,
     "metadata": {},
     "output_type": "execute_result"
    }
   ],
   "source": [
    "#как понять содержит ли наша строка подстроку ral\n",
    "stroka = \"i love to travel\"\n",
    "'ral' in stroka"
   ]
  },
  {
   "cell_type": "code",
   "execution_count": 16,
   "id": "04a171ea",
   "metadata": {},
   "outputs": [
    {
     "data": {
      "text/plain": [
       "7"
      ]
     },
     "execution_count": 16,
     "metadata": {},
     "output_type": "execute_result"
    }
   ],
   "source": [
    "#с какого индекса начинается подстрока to\n",
    "stroka = \"i love to travel\"\n",
    "stroka.find('to')"
   ]
  },
  {
   "cell_type": "code",
   "execution_count": 20,
   "id": "9a9ad826",
   "metadata": {},
   "outputs": [
    {
     "name": "stdout",
     "output_type": "stream",
     "text": [
      "16\n"
     ]
    }
   ],
   "source": [
    "#какая длину строки\n",
    "stroka = \"i love to travel\"\n",
    "print(len(stroka))"
   ]
  },
  {
   "cell_type": "code",
   "execution_count": 22,
   "id": "aefdeab6",
   "metadata": {},
   "outputs": [
    {
     "data": {
      "text/plain": [
       "'I love to travel'"
      ]
     },
     "execution_count": 22,
     "metadata": {},
     "output_type": "execute_result"
    }
   ],
   "source": [
    "#измените первый символ в строке на заглавный\n",
    "#указываем, что на что меняем\n",
    "stroka = \"i love to travel\"\n",
    "stroka.replace('i', 'I')"
   ]
  },
  {
   "cell_type": "code",
   "execution_count": 26,
   "id": "9ccd25d4",
   "metadata": {},
   "outputs": [
    {
     "name": "stdout",
     "output_type": "stream",
     "text": [
      "I love to travel. Hello!\n"
     ]
    }
   ],
   "source": [
    "#прибавьте к строке строку \" Hello!\"\n",
    "stroka = \"I love to travel.\"\n",
    "plus =  \" Hello!\"\n",
    "itog = stroka + plus\n",
    "print(itog)"
   ]
  },
  {
   "cell_type": "code",
   "execution_count": null,
   "id": "5260558a",
   "metadata": {},
   "outputs": [],
   "source": []
  }
 ],
 "metadata": {
  "kernelspec": {
   "display_name": "Python 3 (ipykernel)",
   "language": "python",
   "name": "python3"
  },
  "language_info": {
   "codemirror_mode": {
    "name": "ipython",
    "version": 3
   },
   "file_extension": ".py",
   "mimetype": "text/x-python",
   "name": "python",
   "nbconvert_exporter": "python",
   "pygments_lexer": "ipython3",
   "version": "3.9.7"
  }
 },
 "nbformat": 4,
 "nbformat_minor": 5
}
