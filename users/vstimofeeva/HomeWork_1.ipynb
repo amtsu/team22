{
 "cells": [
  {
   "cell_type": "markdown",
   "id": "ba03843d",
   "metadata": {},
   "source": [
    "### что такое программа?"
   ]
  },
  {
   "cell_type": "markdown",
   "id": "69885bc8",
   "metadata": {},
   "source": [
    "Программа (Program) — это набор команд, инструкций в виде кода, который запакован в исполняемый файла/ы."
   ]
  },
  {
   "cell_type": "markdown",
   "id": "07a16a9d",
   "metadata": {},
   "source": [
    "### зачем нужны программы?"
   ]
  },
  {
   "cell_type": "markdown",
   "id": "b94be097",
   "metadata": {},
   "source": [
    "Создается для выполнения определенный функций и задач на определенном устройстве и операционной системе.\n",
    "Программы позволяют выполнять поставленные задачи перед пользователем и обеспечивают правильную работу подключенных устройств."
   ]
  },
  {
   "cell_type": "markdown",
   "id": "89ec805a",
   "metadata": {},
   "source": [
    "### зачем нужен язык программирования?"
   ]
  },
  {
   "cell_type": "markdown",
   "id": "10826e2d",
   "metadata": {},
   "source": [
    "Коммуникация между машиной и человеком посредством простого и понятного кода."
   ]
  },
  {
   "cell_type": "markdown",
   "id": "e2407886",
   "metadata": {},
   "source": [
    "### что могу программы?"
   ]
  },
  {
   "cell_type": "markdown",
   "id": "49619374",
   "metadata": {},
   "source": [
    "Условно области, где применяются языки программирования, можно разделить на две большие группы:\n",
    "\n",
    "Бизнес — разработка программ, которые помогают решать конкретные проблемы людей. Например, программист может создать для продуктового магазина сервис по доставке.\n",
    "\n",
    "Развлечение — языки программирования используются для создания развлекательных приложений и игр."
   ]
  },
  {
   "cell_type": "markdown",
   "id": "d44cefdf",
   "metadata": {},
   "source": [
    "### из чего состоят программы?"
   ]
  },
  {
   "cell_type": "markdown",
   "id": "5d4cd4b6",
   "metadata": {},
   "source": [
    "Программа состоит из набора инструкций"
   ]
  }
 ],
 "metadata": {
  "kernelspec": {
   "display_name": "Python 3 (ipykernel)",
   "language": "python",
   "name": "python3"
  },
  "language_info": {
   "codemirror_mode": {
    "name": "ipython",
    "version": 3
   },
   "file_extension": ".py",
   "mimetype": "text/x-python",
   "name": "python",
   "nbconvert_exporter": "python",
   "pygments_lexer": "ipython3",
   "version": "3.9.7"
  }
 },
 "nbformat": 4,
 "nbformat_minor": 5
}
