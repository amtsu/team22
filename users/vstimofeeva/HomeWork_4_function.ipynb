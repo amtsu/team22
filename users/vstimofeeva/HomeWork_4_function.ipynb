{
 "cells": [
  {
   "cell_type": "markdown",
   "id": "1bd096f5",
   "metadata": {},
   "source": [
    "1. Написать функцию, которая превращает любую переданную ей строку в такую же строку, записанную два раза."
   ]
  },
  {
   "cell_type": "code",
   "execution_count": 5,
   "id": "acd02ef2",
   "metadata": {},
   "outputs": [
    {
     "data": {
      "text/plain": [
       "'ogoogo'"
      ]
     },
     "execution_count": 5,
     "metadata": {},
     "output_type": "execute_result"
    }
   ],
   "source": [
    "def dublicate(stroka):\n",
    "    a = stroka * 2\n",
    "    return(a)\n",
    "\n",
    "dublicate('ogo')"
   ]
  },
  {
   "cell_type": "code",
   "execution_count": 6,
   "id": "a4b32de0",
   "metadata": {},
   "outputs": [
    {
     "name": "stdout",
     "output_type": "stream",
     "text": [
      "ogoogo\n"
     ]
    }
   ],
   "source": [
    "def dublicate(stroka):\n",
    "    a = stroka * 2\n",
    "    return(a)\n",
    "\n",
    "print(dublicate('ogo'))"
   ]
  },
  {
   "cell_type": "markdown",
   "id": "abf1b691",
   "metadata": {},
   "source": [
    "2. Сделать в предыдущей задаче так, чтобы два повторения строки разделялись пробелами."
   ]
  },
  {
   "cell_type": "code",
   "execution_count": 3,
   "id": "14a64aa0",
   "metadata": {},
   "outputs": [
    {
     "data": {
      "text/plain": [
       "'ogo ogo'"
      ]
     },
     "execution_count": 3,
     "metadata": {},
     "output_type": "execute_result"
    }
   ],
   "source": [
    "def dublicate(stroka):\n",
    "    a = stroka + ' ' + stroka\n",
    "    return(a)\n",
    "dublicate('ogo')"
   ]
  },
  {
   "cell_type": "markdown",
   "id": "8149b207",
   "metadata": {},
   "source": [
    "3. Реализовать функцию, вычисляющую сумму квадратов двух переданных ей аргументов."
   ]
  },
  {
   "cell_type": "code",
   "execution_count": 4,
   "id": "8aeb8cc9",
   "metadata": {},
   "outputs": [
    {
     "data": {
      "text/plain": [
       "13"
      ]
     },
     "execution_count": 4,
     "metadata": {},
     "output_type": "execute_result"
    }
   ],
   "source": [
    "def summa_2(a, b):\n",
    "    c = a**2 + b**2\n",
    "    return(c)\n",
    "summa_2(2,3)"
   ]
  },
  {
   "cell_type": "markdown",
   "id": "0b82e28f",
   "metadata": {},
   "source": [
    "4. Реализовать функцию, вычисляющую длину гипотенузы прямоугольного треугольника. Параметры – длины катетов."
   ]
  },
  {
   "cell_type": "code",
   "execution_count": 5,
   "id": "d0dff315",
   "metadata": {},
   "outputs": [
    {
     "data": {
      "text/plain": [
       "10.0"
      ]
     },
     "execution_count": 5,
     "metadata": {},
     "output_type": "execute_result"
    }
   ],
   "source": [
    "def lenght(a, b):\n",
    "    c = (a**2 + b**2)/2\n",
    "    return(c)\n",
    "lenght(2,4)"
   ]
  },
  {
   "cell_type": "markdown",
   "id": "d1fadb82",
   "metadata": {},
   "source": [
    "5. Написать функцию arithmetic, принимающую 3 аргумента:\n",
    "    первые два - числа, третий - операция, которая должна быть произведена над ними.\n",
    "\n",
    "Если третий аргумент равен ‘+’, сложить их; ‘—’ -вычесть; ‘*’ — умножить; ‘/’ — разделить. \n",
    "В остальных случаях вернуть строку \"Неизвестная операция\".\n",
    "Ожидаемый результат:"
   ]
  },
  {
   "cell_type": "code",
   "execution_count": 11,
   "id": "6615ac54",
   "metadata": {},
   "outputs": [
    {
     "data": {
      "text/plain": [
       "45"
      ]
     },
     "execution_count": 11,
     "metadata": {},
     "output_type": "execute_result"
    }
   ],
   "source": [
    "def arithmetic(a, b, action):\n",
    "    if action == '+':\n",
    "        c = a + b\n",
    "    elif action == '-':\n",
    "        c = a - b\n",
    "    elif action == '*':\n",
    "        c = a * b\n",
    "    elif action == '/':\n",
    "        c = a / b\n",
    "    else:\n",
    "        c = 'Неизвестная операция'\n",
    "    return(c)\n",
    "arithmetic(5,9,'*')"
   ]
  },
  {
   "cell_type": "markdown",
   "id": "b6b37d12",
   "metadata": {},
   "source": [
    "6. Написать функцию square_parameters, принимающую 1 аргумент — сторону квадрата,\n",
    "и возвращающую 3 значения: периметр квадрата, площадь квадрата и диагональ квадрата."
   ]
  },
  {
   "cell_type": "code",
   "execution_count": 19,
   "id": "1cebd1b6",
   "metadata": {},
   "outputs": [
    {
     "data": {
      "text/plain": [
       "(25, 20, 7.0710678118654755)"
      ]
     },
     "execution_count": 19,
     "metadata": {},
     "output_type": "execute_result"
    }
   ],
   "source": [
    "def square_parameters(side):\n",
    "    square = side**2\n",
    "    perimetr = 4 * side\n",
    "    diagonal = (side**2 * 2)**0.5\n",
    "    return(square, perimetr, diagonal)\n",
    "square_parameters(5)"
   ]
  },
  {
   "cell_type": "markdown",
   "id": "6d212cb1",
   "metadata": {},
   "source": [
    "7. Написать функцию is_prime, принимающую 1 аргумент — число, и определяющее, простое оно или составное.\n",
    "\n",
    "Простые числа делятся без остатка только на 1 и на самого себя. Если число делится без\n",
    "остатка на какое-то другое число, то оно составное."
   ]
  },
  {
   "cell_type": "code",
   "execution_count": 70,
   "id": "a1f93ec4",
   "metadata": {},
   "outputs": [
    {
     "data": {
      "text/plain": [
       "'составное'"
      ]
     },
     "execution_count": 70,
     "metadata": {},
     "output_type": "execute_result"
    }
   ],
   "source": [
    "def is_prime(namber):\n",
    "    spisok = [1, 2, 3, 4, 5, 6, 7, 8, 9, namber]\n",
    "    spisok_2 = []\n",
    "    for n in spisok:\n",
    "        if namber % n == 0:\n",
    "            spisok_2.append(n)\n",
    "        if len(spisok_2) > 3:\n",
    "            c = ('составное')\n",
    "        else:\n",
    "            c = ('простое')\n",
    "    return(c)\n",
    "is_prime(6)"
   ]
  },
  {
   "cell_type": "code",
   "execution_count": null,
   "id": "889ad166",
   "metadata": {},
   "outputs": [],
   "source": [
    "# Простое число делится на себя и на 1\n",
    "# Составное число имеет 3 больше делителей\n",
    "# Берем список делителей\n",
    "# Должны перебать все элементы списка\n",
    "# Деление нашего числа на число из ряда равно нулю больше, чем в трех случаях\n",
    "# Все числа при делении на x = 0 складываем в отдельный списо\n",
    "# В последнем действии считаешь количество чисел в получившемся списке,\n",
    "# если их больше трех - простое, если меньше - составное"
   ]
  },
  {
   "cell_type": "markdown",
   "id": "94a5ac3d",
   "metadata": {},
   "source": [
    "8. Написать функцию is_palindrome, принимающую 1 аргумент — строку (без пробелов, строчные буквы),\n",
    "и определяющее, является ли она палиндромом, т.е. читается одинаково слева направо и справа налево.\n",
    "Если да, вернуть True, иначе False."
   ]
  },
  {
   "cell_type": "code",
   "execution_count": null,
   "id": "0206dd39",
   "metadata": {},
   "outputs": [],
   "source": [
    "#1 аргумент — строку (без пробелов, строчные буквы)\n",
    "#является ли она палиндромом\n",
    "#Если да, вернуть True, иначе False\n"
   ]
  },
  {
   "cell_type": "code",
   "execution_count": 15,
   "id": "e2baa8a5",
   "metadata": {},
   "outputs": [
    {
     "data": {
      "text/plain": [
       "'False'"
      ]
     },
     "execution_count": 15,
     "metadata": {},
     "output_type": "execute_result"
    }
   ],
   "source": [
    "def is_palindrome(stroka):\n",
    "    words = ''.join(reversed(stroka))\n",
    "    if stroka == words:\n",
    "        c = 'True'\n",
    "    else:\n",
    "        c = 'False'\n",
    "    return(c)\n",
    "is_palindrome('adhsa')"
   ]
  },
  {
   "cell_type": "code",
   "execution_count": 1,
   "id": "a53326e7",
   "metadata": {},
   "outputs": [
    {
     "data": {
      "text/plain": [
       "'False'"
      ]
     },
     "execution_count": 1,
     "metadata": {},
     "output_type": "execute_result"
    }
   ],
   "source": [
    "def is_palindrome(stroka):\n",
    "    text = list(stroka) \n",
    "    text_2 = list(stroka)\n",
    "    text_2.reverse()\n",
    "    for ind in range(len(text)):\n",
    "        if text[ind] != text_2[ind]:\n",
    "            c = 'False'\n",
    "            break\n",
    "        else:\n",
    "            c = 'True'\n",
    "    return(c)\n",
    "is_palindrome('dlvvggld')"
   ]
  },
  {
   "cell_type": "code",
   "execution_count": 13,
   "id": "f23930c7",
   "metadata": {},
   "outputs": [
    {
     "name": "stdout",
     "output_type": "stream",
     "text": [
      "['h', 't', 'r', 'n', 'x']\n",
      "['x', 'n', 'r', 't', 'h']\n"
     ]
    }
   ],
   "source": [
    "    stroka = 'htrnx'\n",
    "    text = list(stroka) \n",
    "    text_2 = list(stroka)\n",
    "    text_2.reverse()\n",
    "    print(text)\n",
    "    print(text_2)"
   ]
  },
  {
   "cell_type": "code",
   "execution_count": null,
   "id": "5325c0f1",
   "metadata": {},
   "outputs": [],
   "source": []
  },
  {
   "cell_type": "markdown",
   "id": "228333dc",
   "metadata": {},
   "source": [
    "9. Как решить предыдущую задачу с помощью срезов?"
   ]
  },
  {
   "cell_type": "code",
   "execution_count": 12,
   "id": "d35646f6",
   "metadata": {},
   "outputs": [
    {
     "data": {
      "text/plain": [
       "'False'"
      ]
     },
     "execution_count": 12,
     "metadata": {},
     "output_type": "execute_result"
    }
   ],
   "source": [
    "def is_palindrome(stroka):\n",
    "    if stroka[:] == stroka[::-1]:\n",
    "        c = 'True'\n",
    "    else:\n",
    "        c = 'False'\n",
    "    return(c)\n",
    "is_palindrome('составное')\n",
    "    "
   ]
  },
  {
   "cell_type": "code",
   "execution_count": 6,
   "id": "77c27fe8",
   "metadata": {},
   "outputs": [
    {
     "name": "stdout",
     "output_type": "stream",
     "text": [
      "['с', 'о', 'с', 'т', 'а', 'в', 'н', 'о', 'е']\n",
      "['е', 'о', 'н', 'в', 'а', 'т', 'с', 'о', 'с']\n"
     ]
    }
   ],
   "source": [
    "#work check\n",
    "a = 'составное'\n",
    "print(b[:])\n",
    "print(b[::-1])"
   ]
  },
  {
   "cell_type": "markdown",
   "id": "03420ed5",
   "metadata": {},
   "source": [
    "10. Как решить предыдущую задачу если сразу вернуть результат?"
   ]
  },
  {
   "cell_type": "code",
   "execution_count": null,
   "id": "ddbe5130",
   "metadata": {},
   "outputs": [],
   "source": [
    "#incomprehensible task!!!"
   ]
  },
  {
   "cell_type": "markdown",
   "id": "93772256",
   "metadata": {},
   "source": [
    "11. Усовершенствовать предыдущую функцию, чтобы проверяемая строка могла содержать пробелы,\n",
    "а также прописные и строчные буквы.\n",
    "\n",
    "Кидал в зубра арбуз Вадик."
   ]
  },
  {
   "cell_type": "code",
   "execution_count": 27,
   "id": "0cbf47df",
   "metadata": {},
   "outputs": [
    {
     "data": {
      "text/plain": [
       "'True'"
      ]
     },
     "execution_count": 27,
     "metadata": {},
     "output_type": "execute_result"
    }
   ],
   "source": [
    "def is_palindrome(stroka):\n",
    "    text = stroka.replace(' ','').lower()\n",
    "    if text[:] == text[::-1]:\n",
    "        c = 'True'\n",
    "    else:\n",
    "        c = 'False'\n",
    "    return(c)\n",
    "is_palindrome('Кидал в зубра арбуз Вадик')"
   ]
  },
  {
   "cell_type": "code",
   "execution_count": 28,
   "id": "be1b3c54",
   "metadata": {},
   "outputs": [
    {
     "name": "stdout",
     "output_type": "stream",
     "text": [
      "кидалвзубраарбузвадик\n"
     ]
    }
   ],
   "source": [
    "#naiti i ydalit probeli\n",
    "#vse bukvi cdelat ctrichnimi\n",
    "\n",
    "#work check\n",
    "a = 'Кидал в зубра арбуз Вадик'\n",
    "s = a.replace(' ','').lower()\n",
    "print(s)"
   ]
  }
 ],
 "metadata": {
  "kernelspec": {
   "display_name": "Python 3 (ipykernel)",
   "language": "python",
   "name": "python3"
  },
  "language_info": {
   "codemirror_mode": {
    "name": "ipython",
    "version": 3
   },
   "file_extension": ".py",
   "mimetype": "text/x-python",
   "name": "python",
   "nbconvert_exporter": "python",
   "pygments_lexer": "ipython3",
   "version": "3.9.7"
  }
 },
 "nbformat": 4,
 "nbformat_minor": 5
}
