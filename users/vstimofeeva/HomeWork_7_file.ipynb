{
 "cells": [
  {
   "cell_type": "markdown",
   "id": "56258090",
   "metadata": {},
   "source": [
    "## wey 1"
   ]
  },
  {
   "cell_type": "code",
   "execution_count": 1,
   "id": "6cf32dbd",
   "metadata": {},
   "outputs": [
    {
     "name": "stdout",
     "output_type": "stream",
     "text": [
      "Misha Vovan Anakentiy\n"
     ]
    }
   ],
   "source": [
    "file = open('lesson_10.txt', 'r')\n",
    "new = file.readline()\n",
    "print(new)\n",
    "file.close()"
   ]
  },
  {
   "cell_type": "code",
   "execution_count": 5,
   "id": "138a5535",
   "metadata": {},
   "outputs": [],
   "source": [
    "fale = open('lesson_10.txt', 'a')\n",
    "fale.write(' Petya')\n",
    "file.close()"
   ]
  },
  {
   "cell_type": "code",
   "execution_count": 6,
   "id": "bad3e34f",
   "metadata": {},
   "outputs": [
    {
     "name": "stdout",
     "output_type": "stream",
     "text": [
      "Misha Vovan Anakentiy Petya\n"
     ]
    }
   ],
   "source": [
    "file = open('lesson_10.txt', 'r')\n",
    "new = file.readline()\n",
    "print(new)\n",
    "file.close()"
   ]
  },
  {
   "cell_type": "markdown",
   "id": "9876d406",
   "metadata": {},
   "source": [
    "## wey 2"
   ]
  },
  {
   "cell_type": "code",
   "execution_count": 7,
   "id": "d0b24f4d",
   "metadata": {},
   "outputs": [
    {
     "name": "stdout",
     "output_type": "stream",
     "text": [
      "Misha Vovan Anakentiy\n"
     ]
    }
   ],
   "source": [
    "file = open('lesson_11.txt', 'r')\n",
    "new = file.readline()\n",
    "print(new)\n",
    "file.close()"
   ]
  },
  {
   "cell_type": "code",
   "execution_count": 15,
   "id": "e78a3f58",
   "metadata": {},
   "outputs": [],
   "source": [
    "file = open('lesson_11.txt', 'w')\n",
    "new = file.write('Misha Vovan Anakentiy Petya')\n",
    "file.close()"
   ]
  },
  {
   "cell_type": "code",
   "execution_count": 16,
   "id": "dad4522c",
   "metadata": {},
   "outputs": [
    {
     "name": "stdout",
     "output_type": "stream",
     "text": [
      "Misha Vovan Anakentiy Petya\n"
     ]
    }
   ],
   "source": [
    "file = open('lesson_11.txt', 'r')\n",
    "new = file.readline()\n",
    "print(new)\n",
    "file.close()"
   ]
  },
  {
   "cell_type": "markdown",
   "id": "301523a7",
   "metadata": {},
   "source": [
    "## wey 3"
   ]
  },
  {
   "cell_type": "code",
   "execution_count": 4,
   "id": "6bb406a6",
   "metadata": {},
   "outputs": [
    {
     "name": "stdout",
     "output_type": "stream",
     "text": [
      "size = 21\n"
     ]
    }
   ],
   "source": [
    "import os\n",
    "\n",
    "file = '12.txt'\n",
    "file_size = os.path.getsize(file)\n",
    "print(f'size = {file_size}')"
   ]
  },
  {
   "cell_type": "code",
   "execution_count": 5,
   "id": "c0887965",
   "metadata": {},
   "outputs": [
    {
     "name": "stdout",
     "output_type": "stream",
     "text": [
      "6\n"
     ]
    }
   ],
   "source": [
    "file = open('12.txt', 'r')\n",
    "new_file = file.read(21)\n",
    "new_file2 = new_file + ' Petya)'\n",
    "file = open('12.txt', 'w')\n",
    "\n",
    "file.close()"
   ]
  },
  {
   "cell_type": "markdown",
   "id": "27b6bcc8",
   "metadata": {},
   "source": [
    "## wey 4"
   ]
  },
  {
   "cell_type": "code",
   "execution_count": 1,
   "id": "9995a07d",
   "metadata": {},
   "outputs": [],
   "source": [
    "file = open('12.txt', 'r')\n",
    "new = file.readline()\n",
    "file.close()"
   ]
  },
  {
   "cell_type": "code",
   "execution_count": 7,
   "id": "feca8174",
   "metadata": {},
   "outputs": [],
   "source": [
    "new = new + ' Petya'"
   ]
  },
  {
   "cell_type": "code",
   "execution_count": 8,
   "id": "3dbe2261",
   "metadata": {},
   "outputs": [],
   "source": [
    "file = open('12.txt', 'w')\n",
    "file.write(new)\n",
    "file.close()"
   ]
  },
  {
   "cell_type": "code",
   "execution_count": 9,
   "id": "e25291e2",
   "metadata": {},
   "outputs": [
    {
     "name": "stdout",
     "output_type": "stream",
     "text": [
      "Misha Vovan Anakentiy Petya\n"
     ]
    }
   ],
   "source": [
    "file = open('12.txt', 'r')\n",
    "new2 = file.readline()\n",
    "print(new2)\n",
    "file.close()"
   ]
  },
  {
   "cell_type": "code",
   "execution_count": null,
   "id": "288321e8",
   "metadata": {},
   "outputs": [],
   "source": []
  }
 ],
 "metadata": {
  "kernelspec": {
   "display_name": "Python 3 (ipykernel)",
   "language": "python",
   "name": "python3"
  },
  "language_info": {
   "codemirror_mode": {
    "name": "ipython",
    "version": 3
   },
   "file_extension": ".py",
   "mimetype": "text/x-python",
   "name": "python",
   "nbconvert_exporter": "python",
   "pygments_lexer": "ipython3",
   "version": "3.9.7"
  }
 },
 "nbformat": 4,
 "nbformat_minor": 5
}
