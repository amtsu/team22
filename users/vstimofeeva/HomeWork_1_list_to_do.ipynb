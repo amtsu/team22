{
 "cells": [
  {
   "cell_type": "markdown",
   "id": "9e0d28d2",
   "metadata": {},
   "source": [
    "# №1\n",
    "### Задание: создайте список дел."
   ]
  },
  {
   "cell_type": "code",
   "execution_count": 1,
   "id": "1ae2f10c",
   "metadata": {},
   "outputs": [],
   "source": [
    "name_delo = ['горные лыжи', 'самолёт в Стамбул', 'Принцевы острова', 'Босфорский залив', 'самолёт в Москву', 'стоматолог Димы', 'школа Димы', 'школа Димы', 'школа Димы', 'пилатес', 'учёба it', 'школа Димы', 'школа Димы',  'др Вари', 'школа Димы', 'школа Димы', 'школа Димы', 'пилатес',  'учёба it', 'школа Димы', 'школа Димы', 'стрижка Димы',]\n",
    "date_1 = ['05-01-2023', '07-01-2023', '9-01-2023', '10-01-2023', '12-01-2023', '14-01-2023', '16-01-2023', '17-01-2023', '18-01-2023', '18-01-2023', '18-01-2023', '19-01-2023', '20-01-2023', '22-01-2023', '23-01-2023', '24-01-2023', '25-01-2023', '25-01-2023', '25-01-2023', '26-01-2023', '27-01-2023', '27-01-2023']\n",
    "date_2 = ['06-01-2023', '07-01-2023', '9-01-2023', 'None', '12-01-2023', '14-01-2023', '16-01-2023', '17-01-2023', '18-01-2023', '18-01-2023', '18-01-2023', '19-01-2023', '20-01-2023', '22-01-2023', '23-01-2023', '24-01-2023', 'None', '01-02-2023', '28-01-2023', 'None', 'None', '27-01-2023']\n"
   ]
  },
  {
   "cell_type": "code",
   "execution_count": 2,
   "id": "6531dc0d",
   "metadata": {},
   "outputs": [
    {
     "name": "stdout",
     "output_type": "stream",
     "text": [
      "22\n"
     ]
    }
   ],
   "source": [
    "#Нужно посчитать общее количество дел в списке\n",
    "print(len(name_delo))"
   ]
  },
  {
   "cell_type": "code",
   "execution_count": 3,
   "id": "6572156e",
   "metadata": {},
   "outputs": [
    {
     "name": "stdout",
     "output_type": "stream",
     "text": [
      "['горные лыжи', 'самолёт в Стамбул', 'Принцевы острова', 'Босфорский залив', 'самолёт в Москву', 'стоматолог Димы', 'школа Димы', 'школа Димы', 'школа Димы', 'пилатес', 'учёба it', 'школа Димы', 'школа Димы', 'др Вари', 'школа Димы', 'школа Димы', 'школа Димы', 'пилатес', 'учёба it', 'школа Димы', 'школа Димы', 'стрижка Димы']\n"
     ]
    }
   ],
   "source": [
    "#Напечатать все дела\n",
    "print(name_delo)"
   ]
  },
  {
   "cell_type": "code",
   "execution_count": 4,
   "id": "de6eb506",
   "metadata": {},
   "outputs": [
    {
     "name": "stdout",
     "output_type": "stream",
     "text": [
      "самолёт в Стамбул самолёт в Москву\n"
     ]
    }
   ],
   "source": [
    "#Напечатать только 2 и 5 дело\n",
    "print(name_delo[1], name_delo[4])"
   ]
  },
  {
   "cell_type": "code",
   "execution_count": 5,
   "id": "8a141195",
   "metadata": {},
   "outputs": [
    {
     "name": "stdout",
     "output_type": "stream",
     "text": [
      "YES\n",
      "YES\n",
      "YES\n",
      "YES\n",
      "YES\n",
      "YES\n",
      "YES\n",
      "YES\n",
      "YES\n",
      "YES\n"
     ]
    }
   ],
   "source": [
    "#Сравнить каждое дело из списка с строкой “buy bread” и если оно совпадает то напечатать YES\n",
    "for my_delo in name_delo:\n",
    "    if my_delo == 'школа Димы':\n",
    "        print('YES')"
   ]
  },
  {
   "cell_type": "code",
   "execution_count": 6,
   "id": "57cd320e",
   "metadata": {
    "scrolled": true
   },
   "outputs": [
    {
     "name": "stdout",
     "output_type": "stream",
     "text": [
      "11\n",
      "17\n",
      "16\n",
      "16\n",
      "16\n",
      "15\n",
      "10\n",
      "10\n",
      "10\n",
      "7\n",
      "8\n",
      "10\n",
      "10\n",
      "7\n",
      "10\n",
      "10\n",
      "10\n",
      "7\n",
      "8\n",
      "10\n",
      "10\n",
      "12\n"
     ]
    }
   ],
   "source": [
    "#Если каждое дело из списка ваших дела написано на английском и является строкой то вывести длину\n",
    "# - каждой из этих строк\n",
    "for my_delo in name_delo:\n",
    "      print(len(my_delo))"
   ]
  },
  {
   "cell_type": "code",
   "execution_count": 7,
   "id": "a15d2bcc",
   "metadata": {},
   "outputs": [
    {
     "name": "stdout",
     "output_type": "stream",
     "text": [
      "YES\n",
      "YES\n",
      "YES\n",
      "YES\n",
      "YES\n",
      "YES\n",
      "YES\n"
     ]
    }
   ],
   "source": [
    "\n",
    "\n",
    "#Напечатать yes если длина строки в которой записано дело больше 10\n",
    "for my_delo in name_delo:\n",
    "    if len(my_delo) > 10:\n",
    "        print('YES')"
   ]
  },
  {
   "cell_type": "code",
   "execution_count": 13,
   "id": "2e207eed",
   "metadata": {},
   "outputs": [
    {
     "name": "stdout",
     "output_type": "stream",
     "text": [
      "горные лыжи\n",
      "Принцевы острова\n",
      "самолёт в Москву\n",
      "школа Димы\n",
      "школа Димы\n",
      "учёба it\n",
      "школа Димы\n",
      "школа Димы\n",
      "школа Димы\n",
      "учёба it\n",
      "школа Димы\n"
     ]
    }
   ],
   "source": [
    "#Напечатать дела индекс которых в списке делится без остатка на 2\n",
    "for my_delo in range(len(name_delo)):\n",
    "    if my_delo % 2 == 0:\n",
    "        print(name_delo[my_delo])\n",
    "        \n",
    "        \n",
    "        \n",
    "#получили индекс. надо понять как разделить на два"
   ]
  },
  {
   "cell_type": "code",
   "execution_count": 9,
   "id": "5694399b",
   "metadata": {},
   "outputs": [
    {
     "name": "stdout",
     "output_type": "stream",
     "text": [
      "самолёт в Стамбул самолёт в Москву\n"
     ]
    }
   ],
   "source": [
    "#Напечатать дело с индексом 1 и 4 из списка запланированных дел\n",
    "print(name_delo[1], name_delo[4])"
   ]
  },
  {
   "cell_type": "code",
   "execution_count": 42,
   "id": "c774ed03",
   "metadata": {},
   "outputs": [
    {
     "name": "stdout",
     "output_type": "stream",
     "text": [
      "1\n",
      "2\n",
      "4\n",
      "5\n",
      "6\n",
      "7\n",
      "8\n",
      "9\n",
      "10\n",
      "11\n",
      "12\n",
      "13\n",
      "14\n",
      "15\n",
      "21\n"
     ]
    }
   ],
   "source": [
    "#Hапечатать те индексы у которых значения в списке запланированных дат и списке реализованных дат равны друг другу\n",
    "for povtor in range(len(date_1)):\n",
    "    if date_1[povtor] == date_2[povtor]:\n",
    "        print(povtor)\n",
    "\n",
    "\n",
    "#перебрать по иледексам и сравнить между собой два списка.  "
   ]
  },
  {
   "cell_type": "code",
   "execution_count": 43,
   "id": "64e2ccd7",
   "metadata": {},
   "outputs": [
    {
     "name": "stdout",
     "output_type": "stream",
     "text": [
      "самолёт в Стамбул\n",
      "Принцевы острова\n",
      "самолёт в Москву\n",
      "стоматолог Димы\n",
      "школа Димы\n",
      "школа Димы\n",
      "школа Димы\n",
      "пилатес\n",
      "учёба it\n",
      "школа Димы\n",
      "школа Димы\n",
      "др Вари\n",
      "школа Димы\n",
      "школа Димы\n",
      "стрижка Димы\n"
     ]
    }
   ],
   "source": [
    "#Вывести только те дела которые вы сделали в тот же день в который их запланировали\n",
    "for povtor in range(len(name_delo)):\n",
    "    if date_1[povtor] == date_2[povtor]:\n",
    "        print(name_delo[povtor])"
   ]
  },
  {
   "cell_type": "code",
   "execution_count": 15,
   "id": "8e3f96d3",
   "metadata": {},
   "outputs": [],
   "source": [
    "name_delo = ['горные лыжи', 'самолёт в Стамбул', 'Принцевы острова', 'Босфорский залив', 'самолёт в Москву', 'стоматолог Димы', 'школа Димы', 'школа Димы', 'школа Димы', 'пилатес', 'учёба it', 'школа Димы', 'школа Димы',  'др Вари', 'школа Димы', 'школа Димы', 'школа Димы', 'пилатес',  'учёба it', 'школа Димы', 'школа Димы', 'стрижка Димы',]\n",
    "date_1 = ['05-01-2023', '07-01-2023', '9-01-2023', '10-01-2023', '12-01-2023', '14-01-2023', '16-01-2023', '17-01-2023', '18-01-2023', '18-01-2023', '18-01-2023', '19-01-2023', '20-01-2023', '22-01-2023', '23-01-2023', '24-01-2023', '25-01-2023', '25-01-2023', '25-01-2023', '26-01-2023', '27-01-2023', '27-01-2023']\n",
    "date_2 = ['06-01-2023', '07-01-2023', '9-01-2023', 'None', '12-01-2023', '14-01-2023', '16-01-2023', '17-01-2023', '18-01-2023', '18-01-2023', '18-01-2023', '19-01-2023', '20-01-2023', '22-01-2023', '23-01-2023', '24-01-2023', 'None', '01-02-2023', '28-01-2023', 'None', 'None', '27-01-2023']\n"
   ]
  },
  {
   "cell_type": "code",
   "execution_count": 20,
   "id": "8513f598",
   "metadata": {},
   "outputs": [
    {
     "name": "stdout",
     "output_type": "stream",
     "text": [
      "['горные лыжи', 'самолёт в Стамбул', 'Принцевы острова', 'Босфорский залив', 'самолёт в Москву', 'стоматолог Димы', 'школа Димы', 'пилатес', 'учёба it', 'др Вари', 'стрижка Димы']\n",
      "горные лыжи 1\n",
      "самолёт в Стамбул 1\n",
      "Принцевы острова 1\n",
      "Босфорский залив 1\n",
      "самолёт в Москву 1\n",
      "стоматолог Димы 1\n",
      "школа Димы 10\n",
      "пилатес 2\n",
      "учёба it 2\n",
      "др Вари 1\n",
      "стрижка Димы 1\n"
     ]
    }
   ],
   "source": [
    "#Посчитать сколько дел у вас было одинаковых ( т.е. если есть запись “купить хлеб” 28-08-2022 и\n",
    "# - “купить хлеб” 14-08-2022то финально нужно вывести “купить хлеб”\n",
    "#(можно сделать 2 варианта без использования словарей и с испольщованием словарям)\n",
    "unik_spisok = []\n",
    "for my_delo in name_delo:\n",
    "    if my_delo not in unik_spisok:\n",
    "        unik_spisok.append(my_delo)\n",
    "\n",
    "print(unik_spisok)\n",
    "\n",
    "for unik_delo in unik_spisok:\n",
    "    count = 0\n",
    "    for delo in name_delo:\n",
    "        if delo == unik_delo:\n",
    "            count += 1\n",
    "    print(unik_delo, count)\n",
    "\n",
    "#есть два списка нужно сравнить"
   ]
  },
  {
   "cell_type": "code",
   "execution_count": 27,
   "id": "274505d4",
   "metadata": {},
   "outputs": [
    {
     "name": "stdout",
     "output_type": "stream",
     "text": [
      "{'горные лыжи': 0, 'самолёт в Стамбул': 0, 'Принцевы острова': 0, 'Босфорский залив': 0, 'самолёт в Москву': 0, 'стоматолог Димы': 0, 'школа Димы': 0, 'пилатес': 0, 'учёба it': 0, 'др Вари': 0, 'стрижка Димы': 0}\n",
      "____________\n",
      "{'горные лыжи': 1, 'самолёт в Стамбул': 1, 'Принцевы острова': 1, 'Босфорский залив': 1, 'самолёт в Москву': 1, 'стоматолог Димы': 1, 'школа Димы': 10, 'пилатес': 2, 'учёба it': 2, 'др Вари': 1, 'стрижка Димы': 1}\n"
     ]
    }
   ],
   "source": [
    "#словари\n",
    "\n",
    "my_slovar = dict.fromkeys(name_delo, 0)\n",
    "print(my_slovar)\n",
    "print('____________')\n",
    "\n",
    "for delo in name_delo:\n",
    "    if delo in my_slovar:\n",
    "        my_slovar[delo] += 1\n",
    "print(my_slovar)\n",
    "    "
   ]
  },
  {
   "cell_type": "code",
   "execution_count": 53,
   "id": "e7525cc8",
   "metadata": {},
   "outputs": [
    {
     "data": {
      "text/plain": [
       "Counter({'горные лыжи': 1,\n",
       "         'самолёт в Стамбул': 1,\n",
       "         'Принцевы острова': 1,\n",
       "         'Босфорский залив': 1,\n",
       "         'самолёт в Москву': 1,\n",
       "         'стоматолог Димы': 1,\n",
       "         'школа Димы': 10,\n",
       "         'пилатес': 2,\n",
       "         'учёба it': 2,\n",
       "         'др Вари': 1,\n",
       "         'стрижка Димы': 1})"
      ]
     },
     "execution_count": 53,
     "metadata": {},
     "output_type": "execute_result"
    }
   ],
   "source": [
    "from collections import Counter\n",
    "delo = Counter(name_delo)\n",
    "delo"
   ]
  },
  {
   "cell_type": "markdown",
   "id": "77b8de73",
   "metadata": {},
   "source": [
    "# №2"
   ]
  },
  {
   "cell_type": "markdown",
   "id": "ce0e5447",
   "metadata": {},
   "source": [
    "Задание: создайте список расхдов и доходов.\n",
    "Пример списка доходов и расходов\n",
    "\n",
    "Рекомендуемый размер списка 22 элемента.\n",
    "добавить к списку еще 2 действия\n",
    "посчитать сколько всего действий в вашем списке"
   ]
  },
  {
   "cell_type": "code",
   "execution_count": 1,
   "id": "6ce6ac33",
   "metadata": {},
   "outputs": [],
   "source": [
    "opisanie = ['еда', 'еда', 'стоматолог', 'съёмка', 'еда', 'еда', 'аптека', 'еда', 'проездной', 'веломир', 'еда', 'аптека', 'еда', 'стрижка', 'еда', 'еда', 'аптека', 'творчество', 'оплата школы', 'оплата кружков', 'еда', 'зарплата', ]\n",
    "summa = [ -800, -295, -4500, 8000, -75, -155, -269, -300, -250, -3950, -462, -481, -343, -800, -566, -1185, -431, -1324, -25000, -6000, -994, 100000, ]\n",
    "date = ['13-01-2023', '14-01-2023', '14-01-2023', '15-01-2023', '16-01-2023', '17-01-2023', '17-01-2023', '18-01-2023', '19-01-2023', '19-01-2023', '21-01-2023', '22-01-2023', '24-01-2023', '25-01-2023', '26-01-2023', '27-01-2023', '27-01-2023', '27-01-2023', '29-01-2023', '29-01-2023', '29-01-2023', '30-01-2023']\n",
    "nomer = ['1', '2', '3', '4', '5', '6', '7', '8', '9', '10', '11', '12', '13', '14', '15', '16', '17', '18', '19', '20', '21', '22', '23', '24', ]\n"
   ]
  },
  {
   "cell_type": "code",
   "execution_count": 2,
   "id": "ac7125c9",
   "metadata": {},
   "outputs": [],
   "source": [
    "opisanie.extend(['творчество', 'еда'])\n",
    "summa.extend([-800, -230])\n",
    "date.extend(['31-01-2023', '31-01-2023'])"
   ]
  },
  {
   "cell_type": "code",
   "execution_count": 3,
   "id": "b916d158",
   "metadata": {},
   "outputs": [
    {
     "name": "stdout",
     "output_type": "stream",
     "text": [
      "24\n"
     ]
    }
   ],
   "source": [
    "print(len(opisanie))"
   ]
  },
  {
   "cell_type": "code",
   "execution_count": 4,
   "id": "2c5a1370",
   "metadata": {},
   "outputs": [
    {
     "name": "stdout",
     "output_type": "stream",
     "text": [
      "['еда', 'еда', 'стоматолог', 'съёмка', 'еда', 'еда', 'аптека', 'еда', 'проездной', 'веломир', 'еда', 'аптека', 'еда', 'стрижка', 'еда', 'еда', 'аптека', 'творчество', 'оплата школы', 'оплата кружков', 'еда', 'зарплата', 'творчество', 'еда']\n"
     ]
    }
   ],
   "source": [
    "print(opisanie)"
   ]
  },
  {
   "cell_type": "code",
   "execution_count": 5,
   "id": "d6d48d7a",
   "metadata": {},
   "outputs": [
    {
     "name": "stdout",
     "output_type": "stream",
     "text": [
      "-49210\n"
     ]
    }
   ],
   "source": [
    "#посчитайте сколько всего вы потратили за все время\n",
    "potpacheno = []\n",
    "for chislo in summa:\n",
    "    if chislo < 0:\n",
    "        potpacheno.append(chislo)\n",
    "print(sum(potpacheno))"
   ]
  },
  {
   "cell_type": "code",
   "execution_count": 19,
   "id": "7bd3bfc4",
   "metadata": {},
   "outputs": [
    {
     "name": "stdout",
     "output_type": "stream",
     "text": [
      "6\n"
     ]
    }
   ],
   "source": [
    "#посчитать сколько трат было меньше 300 рублей\n",
    "potpacheno = []\n",
    "for chislo in summa:\n",
    "    if chislo > -300 and chislo < 0:\n",
    "        potpacheno.append(chislo)\n",
    "print(len(potpacheno))"
   ]
  },
  {
   "cell_type": "code",
   "execution_count": 7,
   "id": "43599e36",
   "metadata": {},
   "outputs": [
    {
     "name": "stdout",
     "output_type": "stream",
     "text": [
      "-25000\n"
     ]
    }
   ],
   "source": [
    "#посчитать сколько сумму трат которые были больше 10000 рублей\n",
    "summs_bolee_10K = 0\n",
    "for chislo in summa:\n",
    "    if chislo < -10000:\n",
    "        summs_bolee_10K += chislo\n",
    "print(summs_bolee_10K)"
   ]
  },
  {
   "cell_type": "code",
   "execution_count": 24,
   "id": "11ff6cec",
   "metadata": {},
   "outputs": [
    {
     "name": "stdout",
     "output_type": "stream",
     "text": [
      "[-25000]\n"
     ]
    }
   ],
   "source": [
    "#вариант_2\n",
    "potpacheno = []\n",
    "for chislo in summa:\n",
    "    if chislo < -10000:\n",
    "        potpacheno.append(chislo)\n",
    "print(potpacheno)"
   ]
  },
  {
   "cell_type": "code",
   "execution_count": 31,
   "id": "b53e8684",
   "metadata": {},
   "outputs": [
    {
     "name": "stdout",
     "output_type": "stream",
     "text": [
      "1\n",
      "3\n",
      "10\n",
      "11\n",
      "12\n",
      "13\n",
      "14\n",
      "15\n",
      "16\n",
      "17\n",
      "18\n",
      "20\n",
      "21\n",
      "23\n"
     ]
    }
   ],
   "source": [
    "#выдать номера трат которые находятся в диапазоне между 300 и 10000 рублей\n",
    "#for chislo in summa:\n",
    "    #if chislo < -300 and chislo > -10000:\n",
    "       # print(chislo)\n",
    "    \n",
    "#сделала выборку. далее надо выбрать из списка номера. по индексу\n",
    "for chislo in range(len(summa)):\n",
    "    if summa[chislo] < -300 and summa[chislo] > -10000:\n",
    "        print(nomer[chislo])   \n"
   ]
  },
  {
   "cell_type": "code",
   "execution_count": 27,
   "id": "d5f68a2a",
   "metadata": {},
   "outputs": [
    {
     "name": "stdout",
     "output_type": "stream",
     "text": [
      "-75\n"
     ]
    }
   ],
   "source": [
    "#выбрать из списка на втором шаге самую минимальную трату\n",
    "spisok_trat = []\n",
    "for chislo in summa:\n",
    "    if chislo <= 0:\n",
    "        spisok_trat.append(chislo)\n",
    "print(max(spisok_trat))\n",
    "\n",
    "#задание не корректно налисано"
   ]
  },
  {
   "cell_type": "code",
   "execution_count": 11,
   "id": "42c4102e",
   "metadata": {},
   "outputs": [
    {
     "name": "stdout",
     "output_type": "stream",
     "text": [
      "-47636\n"
     ]
    }
   ],
   "source": [
    "#посчитать сколько трат было меньше 300 рублей\n",
    "spisok_trat = []\n",
    "for chislo in summa:\n",
    "    if chislo < -300:\n",
    "        spisok_trat.append(chislo)\n",
    "print(sum(spisok_trat))"
   ]
  },
  {
   "cell_type": "code",
   "execution_count": 12,
   "id": "fa0bc8a6",
   "metadata": {},
   "outputs": [
    {
     "name": "stdout",
     "output_type": "stream",
     "text": [
      "8000\n",
      "100000\n"
     ]
    }
   ],
   "source": [
    "#посчитайте сколько заработали за все время\n",
    "count = 0\n",
    "for chislo in summa:\n",
    "    if chislo > 0:\n",
    "        count =+ chislo\n",
    "        print(count)\n",
    "#print(count)       \n",
    "#почему то 100, то 8 и 100?"
   ]
  },
  {
   "cell_type": "code",
   "execution_count": 13,
   "id": "1a4b7580",
   "metadata": {},
   "outputs": [
    {
     "name": "stdout",
     "output_type": "stream",
     "text": [
      "108000\n"
     ]
    }
   ],
   "source": [
    "zarabotok = []\n",
    "for chislo in summa:\n",
    "    if chislo > 0:\n",
    "        zarabotok.append(chislo)\n",
    "print(sum(zarabotok))"
   ]
  },
  {
   "cell_type": "code",
   "execution_count": 13,
   "id": "32f06c5a",
   "metadata": {},
   "outputs": [
    {
     "name": "stdout",
     "output_type": "stream",
     "text": [
      "['еда', 'стоматолог', 'съёмка', 'аптека', 'проездной', 'веломир', 'стрижка', 'творчество', 'оплата школы', 'оплата кружков', 'зарплата']\n",
      "еда 11\n",
      "стоматолог 1\n",
      "съёмка 1\n",
      "аптека 3\n",
      "проездной 1\n",
      "веломир 1\n",
      "стрижка 1\n",
      "творчество 2\n",
      "оплата школы 1\n",
      "оплата кружков 1\n",
      "зарплата 1\n"
     ]
    }
   ],
   "source": [
    "#посчитайте какие самые частые у вас траты(можно попробовать с использованием словарей)\n",
    "unik_spisok_trat = []\n",
    "for traty in opisanie:\n",
    "    if traty not in unik_spisok_trat:\n",
    "        unik_spisok_trat.append(traty)\n",
    "print(unik_spisok_trat)\n",
    "\n",
    "for unik_traty in unik_spisok_trat:\n",
    "    count = 0\n",
    "    for all_traty in opisanie:\n",
    "        if unik_traty == all_traty:\n",
    "            count += 1\n",
    "    print(unik_traty, count)\n"
   ]
  },
  {
   "cell_type": "code",
   "execution_count": 15,
   "id": "34ba7861",
   "metadata": {},
   "outputs": [
    {
     "name": "stdout",
     "output_type": "stream",
     "text": [
      "['еда', 'еда', 'стоматолог', 'съёмка', 'еда', 'еда', 'аптека', 'еда', 'проездной', 'веломир', 'еда', 'аптека', 'еда', 'стрижка', 'еда', 'еда', 'аптека', 'творчество', 'оплата школы', 'оплата кружков', 'еда', 'зарплата', 'творчество', 'еда', 'аптека', 'еда', 'проездной']\n"
     ]
    }
   ],
   "source": [
    "#добавить к списку еще 3 действия\n",
    "opisanie.extend(['аптека', 'еда', 'проездной'])\n",
    "print(opisanie)"
   ]
  },
  {
   "cell_type": "code",
   "execution_count": 16,
   "id": "8ff79d80",
   "metadata": {},
   "outputs": [
    {
     "name": "stdout",
     "output_type": "stream",
     "text": [
      "-25000\n"
     ]
    }
   ],
   "source": [
    "#Найти максимальную трату\n",
    "print(min(summa))"
   ]
  },
  {
   "cell_type": "code",
   "execution_count": 17,
   "id": "c941a031",
   "metadata": {},
   "outputs": [
    {
     "name": "stdout",
     "output_type": "stream",
     "text": [
      "8000\n"
     ]
    }
   ],
   "source": [
    "#Найти минимальный доход\n",
    "spisok_dohoda = []\n",
    "for chislo in summa:\n",
    "    if chislo > 0:\n",
    "        spisok_dohoda.append(chislo)\n",
    "print(min(spisok_dohoda))"
   ]
  },
  {
   "cell_type": "code",
   "execution_count": 18,
   "id": "6c420682",
   "metadata": {},
   "outputs": [
    {
     "name": "stdout",
     "output_type": "stream",
     "text": [
      "-2236.818181818182\n"
     ]
    }
   ],
   "source": [
    "#Посчитать среднюю стоимость ваших трат\n",
    "spisok_trat = []\n",
    "for chislo in summa:\n",
    "    if chislo < 0:\n",
    "        spisok_trat.append(chislo)\n",
    "print(sum(spisok_trat) / len(spisok_trat)) \n"
   ]
  },
  {
   "cell_type": "code",
   "execution_count": null,
   "id": "badfd28e",
   "metadata": {},
   "outputs": [],
   "source": []
  }
 ],
 "metadata": {
  "kernelspec": {
   "display_name": "Python 3 (ipykernel)",
   "language": "python",
   "name": "python3"
  },
  "language_info": {
   "codemirror_mode": {
    "name": "ipython",
    "version": 3
   },
   "file_extension": ".py",
   "mimetype": "text/x-python",
   "name": "python",
   "nbconvert_exporter": "python",
   "pygments_lexer": "ipython3",
   "version": "3.9.7"
  }
 },
 "nbformat": 4,
 "nbformat_minor": 5
}
