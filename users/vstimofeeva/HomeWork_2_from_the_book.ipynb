{
 "cells": [
  {
   "cell_type": "markdown",
   "id": "3e0209e6",
   "metadata": {},
   "source": [
    "## часть один"
   ]
  },
  {
   "cell_type": "code",
   "execution_count": 13,
   "id": "4c8b3862",
   "metadata": {},
   "outputs": [
    {
     "data": {
      "text/plain": [
       "70.0"
      ]
     },
     "execution_count": 13,
     "metadata": {},
     "output_type": "execute_result"
    }
   ],
   "source": [
    "((5 + 30) * 20) / 10"
   ]
  },
  {
   "cell_type": "code",
   "execution_count": 2,
   "id": "5a5911c5",
   "metadata": {},
   "outputs": [
    {
     "data": {
      "text/plain": [
       "65.0"
      ]
     },
     "execution_count": 2,
     "metadata": {},
     "output_type": "execute_result"
    }
   ],
   "source": [
    "5 + 30 * 20 / 10"
   ]
  },
  {
   "cell_type": "code",
   "execution_count": 3,
   "id": "03aa8383",
   "metadata": {},
   "outputs": [
    {
     "name": "stdout",
     "output_type": "stream",
     "text": [
      "200\n"
     ]
    }
   ],
   "source": [
    "fred = 200\n",
    "john = fred\n",
    "print(john)"
   ]
  },
  {
   "cell_type": "code",
   "execution_count": 4,
   "id": "e67767c4",
   "metadata": {},
   "outputs": [
    {
     "data": {
      "text/plain": [
       "3514"
      ]
     },
     "execution_count": 4,
     "metadata": {},
     "output_type": "execute_result"
    }
   ],
   "source": [
    "20 + 10 * 365 - 3 * 52"
   ]
  },
  {
   "cell_type": "code",
   "execution_count": 5,
   "id": "80ba0683",
   "metadata": {},
   "outputs": [
    {
     "data": {
      "text/plain": [
       "3514"
      ]
     },
     "execution_count": 5,
     "metadata": {},
     "output_type": "execute_result"
    }
   ],
   "source": [
    "found_coins = 20\n",
    "magic_coins = 10\n",
    "stolen_coins = 3\n",
    "found_coins + magic_coins * 365 - stolen_coins * 52"
   ]
  },
  {
   "cell_type": "code",
   "execution_count": 7,
   "id": "b2c4dcd3",
   "metadata": {},
   "outputs": [
    {
     "name": "stdout",
     "output_type": "stream",
     "text": [
      "Что едят на полдник динозавры? ТиРекс-кекс!\n"
     ]
    }
   ],
   "source": [
    "fred = 'Что едят на полдник динозавры? ТиРекс-кекс!'\n",
    "print(fred)"
   ]
  },
  {
   "cell_type": "code",
   "execution_count": 8,
   "id": "e2df1b92",
   "metadata": {},
   "outputs": [
    {
     "name": "stdout",
     "output_type": "stream",
     "text": [
      "Мой счет: 1000 очков\n"
     ]
    }
   ],
   "source": [
    "myscore = 1000\n",
    "message = 'Мой счет: %s очков'\n",
    "print(message % myscore)"
   ]
  },
  {
   "cell_type": "code",
   "execution_count": 9,
   "id": "bb0a4ebc",
   "metadata": {},
   "outputs": [
    {
     "name": "stdout",
     "output_type": "stream",
     "text": [
      "Коленка: приспособление для поиска мебели втемноте\n",
      "Лодыжка: приспособление для поиска мебели втемноте\n"
     ]
    }
   ],
   "source": [
    "joke_text = '%s: приспособление для поиска мебели втемноте'\n",
    "bodypart1 = 'Коленка'\n",
    "bodypart2 = 'Лодыжка'\n",
    "print(joke_text % bodypart1) \n",
    "print(joke_text % bodypart2)"
   ]
  },
  {
   "cell_type": "code",
   "execution_count": 10,
   "id": "4b8a1d56",
   "metadata": {},
   "outputs": [
    {
     "name": "stdout",
     "output_type": "stream",
     "text": [
      "Что сказало число 0 числу 8? Славный поясок!\n"
     ]
    }
   ],
   "source": [
    "nums = 'Что сказало число %s числу %s? Славный поясок!'\n",
    "print(nums % (0, 8))"
   ]
  },
  {
   "cell_type": "code",
   "execution_count": 11,
   "id": "c402e20c",
   "metadata": {},
   "outputs": [
    {
     "name": "stdout",
     "output_type": "stream",
     "text": [
      "aaaaaaaaaa\n"
     ]
    }
   ],
   "source": [
    "print(10 * 'a')"
   ]
  },
  {
   "cell_type": "code",
   "execution_count": 12,
   "id": "3a1d6746",
   "metadata": {},
   "outputs": [
    {
     "name": "stdout",
     "output_type": "stream",
     "text": [
      "глаз тритона\n"
     ]
    }
   ],
   "source": [
    "wizard_list = ['паучьи лапки', 'жабий палец', 'глаз тритона', 'крыло летучей мыши', 'жир слизня', 'перхоть змеи']\n",
    "print(wizard_list[2])"
   ]
  },
  {
   "cell_type": "code",
   "execution_count": 13,
   "id": "f5b8b6eb",
   "metadata": {},
   "outputs": [
    {
     "name": "stdout",
     "output_type": "stream",
     "text": [
      "['паучьи лапки', 'жабий палец', 'язык улитки', 'крыло летучей мыши', 'жир слизня', 'перхоть змеи']\n"
     ]
    }
   ],
   "source": [
    "wizard_list[2] = 'язык улитки'\n",
    "print(wizard_list)"
   ]
  },
  {
   "cell_type": "code",
   "execution_count": 14,
   "id": "e6aeddf9",
   "metadata": {},
   "outputs": [
    {
     "name": "stdout",
     "output_type": "stream",
     "text": [
      "['язык улитки', 'крыло летучей мыши', 'жир слизня']\n"
     ]
    }
   ],
   "source": [
    "print(wizard_list[2:5])"
   ]
  },
  {
   "cell_type": "code",
   "execution_count": null,
   "id": "b1f2efaa",
   "metadata": {},
   "outputs": [],
   "source": [
    "numbers_and_strings = [7, 'раз', 'отпей', 1, 'раз', 'отъешь']\n",
    "print(numbers_and_strings)"
   ]
  },
  {
   "cell_type": "code",
   "execution_count": 15,
   "id": "1ef8544a",
   "metadata": {},
   "outputs": [
    {
     "name": "stdout",
     "output_type": "stream",
     "text": [
      "[[1, 2, 3, 4, 5], ['хватит', 'циферки', 'считать']]\n"
     ]
    }
   ],
   "source": [
    "numbers = [1, 2, 3, 4, 5]\n",
    "strings = ['хватит', 'циферки', 'считать']\n",
    "mylist = [numbers, strings]\n",
    "print(mylist)"
   ]
  },
  {
   "cell_type": "code",
   "execution_count": 16,
   "id": "3e33b2fd",
   "metadata": {},
   "outputs": [
    {
     "name": "stdout",
     "output_type": "stream",
     "text": [
      "['паучьи лапки', 'жабий палец', 'язык улитки', 'крыло летучей мыши', 'жир слизня', 'перхоть змеи', 'медвежий коготь']\n"
     ]
    }
   ],
   "source": [
    "wizard_list.append('медвежий коготь')\n",
    "print(wizard_list)"
   ]
  },
  {
   "cell_type": "code",
   "execution_count": 17,
   "id": "6ccd11f8",
   "metadata": {},
   "outputs": [
    {
     "name": "stdout",
     "output_type": "stream",
     "text": [
      "['паучьи лапки', 'жабий палец', 'язык улитки', 'крыло летучей мыши', 'жир слизня', 'перхоть змеи', 'медвежий коготь', 'мандрагора', 'болиголов', 'болотный газ']\n"
     ]
    }
   ],
   "source": [
    "wizard_list.append('мандрагора') \n",
    "wizard_list.append('болиголов')\n",
    "wizard_list.append('болотный газ') \n",
    "print(wizard_list)"
   ]
  },
  {
   "cell_type": "code",
   "execution_count": 18,
   "id": "90c136b7",
   "metadata": {},
   "outputs": [
    {
     "name": "stdout",
     "output_type": "stream",
     "text": [
      "['паучьи лапки', 'жабий палец', 'язык улитки', 'крыло летучей мыши', 'жир слизня', 'медвежий коготь', 'мандрагора', 'болиголов', 'болотный газ']\n"
     ]
    }
   ],
   "source": [
    "del wizard_list[5]\n",
    "print(wizard_list)"
   ]
  },
  {
   "cell_type": "code",
   "execution_count": 19,
   "id": "3a10f90c",
   "metadata": {},
   "outputs": [
    {
     "name": "stdout",
     "output_type": "stream",
     "text": [
      "['паучьи лапки', 'жабий палец', 'язык улитки', 'крыло летучей мыши', 'жир слизня', 'медвежий коготь']\n"
     ]
    }
   ],
   "source": [
    "del wizard_list[8]\n",
    "del wizard_list[7]\n",
    "del wizard_list[6]\n",
    "print(wizard_list)"
   ]
  },
  {
   "cell_type": "code",
   "execution_count": 20,
   "id": "acc77baa",
   "metadata": {},
   "outputs": [
    {
     "name": "stdout",
     "output_type": "stream",
     "text": [
      "[1, 2, 3, 4, 5, 'я', 'забрался', 'под', 'кровать']\n"
     ]
    }
   ],
   "source": [
    "list1 = [1, 2, 3, 4, 5]\n",
    "list2 = ['я', 'забрался', 'под', 'кровать']\n",
    "print(list1 + list2)"
   ]
  },
  {
   "cell_type": "code",
   "execution_count": 21,
   "id": "d5e2ce28",
   "metadata": {},
   "outputs": [
    {
     "name": "stdout",
     "output_type": "stream",
     "text": [
      "[1, 2, 1, 2, 1, 2, 1, 2, 1, 2]\n"
     ]
    }
   ],
   "source": [
    "list1 = [1, 2]\n",
    "print(list1 * 5)"
   ]
  },
  {
   "cell_type": "code",
   "execution_count": 24,
   "id": "51084201",
   "metadata": {},
   "outputs": [
    {
     "name": "stdout",
     "output_type": "stream",
     "text": [
      "['Ральф Уильямс, Футбол', 'Майкл Типпетт, Баскетбол', 'Эдвард Элгар, Бейсбол', 'Ребекка Кларк, Нетбол', 'Этель Смит, Бадминтон', 'Фрэнк Бридж, Регби']\n"
     ]
    }
   ],
   "source": [
    "favorite_sports = ['Ральф Уильямс, Футбол', \n",
    "'Майкл Типпетт, Баскетбол',\n",
    "'Эдвард Элгар, Бейсбол',\n",
    "'Ребекка Кларк, Нетбол', \n",
    "'Этель Смит, Бадминтон', 'Фрэнк Бридж, Регби']\n",
    "print(favorite_sports)"
   ]
  },
  {
   "cell_type": "code",
   "execution_count": 25,
   "id": "70aa3e79",
   "metadata": {},
   "outputs": [
    {
     "name": "stdout",
     "output_type": "stream",
     "text": [
      "Нетбол\n"
     ]
    }
   ],
   "source": [
    "favorite_sports = {'Ральф Уильямс': 'Футбол', 'Майкл Типпетт': 'Баскетбол',\n",
    "'Эдвард Элгар': 'Бейсбол',\n",
    "'Ребекка Кларк': 'Нетбол', \n",
    "'Этель Смит': 'Бадминтон', 'Фрэнк Бридж': 'Регби'} \n",
    "\n",
    "print(favorite_sports['Ребекка Кларк'])"
   ]
  },
  {
   "cell_type": "code",
   "execution_count": 26,
   "id": "c9d7bfb3",
   "metadata": {},
   "outputs": [
    {
     "name": "stdout",
     "output_type": "stream",
     "text": [
      "{'Ральф Уильямс': 'Футбол', 'Майкл Типпетт': 'Баскетбол', 'Эдвард Элгар': 'Бейсбол', 'Ребекка Кларк': 'Нетбол', 'Фрэнк Бридж': 'Регби'}\n"
     ]
    }
   ],
   "source": [
    "del favorite_sports['Этель Смит']\n",
    "print(favorite_sports)"
   ]
  },
  {
   "cell_type": "code",
   "execution_count": 27,
   "id": "8ed3e4d9",
   "metadata": {},
   "outputs": [
    {
     "name": "stdout",
     "output_type": "stream",
     "text": [
      "{'Ральф Уильямс': 'Хоккей нальду', 'Майкл Типпетт': 'Баскетбол', 'Эдвард Элгар': 'Бейсбол', 'Ребекка Кларк': 'Нетбол', 'Фрэнк Бридж': 'Регби'}\n"
     ]
    }
   ],
   "source": [
    "favorite_sports['Ральф Уильямс'] = 'Хоккей нальду'\n",
    "print(favorite_sports)"
   ]
  },
  {
   "cell_type": "code",
   "execution_count": 1,
   "id": "7c24375d",
   "metadata": {},
   "outputs": [],
   "source": [
    "age = 13\n",
    "if age > 20:\n",
    "    print('Как-то вы староваты!')"
   ]
  },
  {
   "cell_type": "code",
   "execution_count": 2,
   "id": "1fc72fd8",
   "metadata": {},
   "outputs": [],
   "source": [
    "age = 10\n",
    "if age > 10:\n",
    "    print('Вы слишком стары для моих шуток!')"
   ]
  },
  {
   "cell_type": "code",
   "execution_count": 3,
   "id": "b2ae8ebe",
   "metadata": {},
   "outputs": [
    {
     "name": "stdout",
     "output_type": "stream",
     "text": [
      "Тсс! Это секрет.\n"
     ]
    }
   ],
   "source": [
    "age = 8\n",
    "if age == 12:\n",
    "    print(\"Свинья шлепнулась в грязь!\")\n",
    "else:\n",
    "    print(\"Тсс! Это секрет.\")"
   ]
  },
  {
   "cell_type": "code",
   "execution_count": 4,
   "id": "0540bb31",
   "metadata": {},
   "outputs": [
    {
     "name": "stdout",
     "output_type": "stream",
     "text": [
      "Что сказал 0 числу 8?\n",
      "Привет, ребята!\n"
     ]
    }
   ],
   "source": [
    "age = 12\n",
    "if age == 10:\n",
    "    print(\"Что выйдет, если клюква наденет штаны?\")\n",
    "    print(\"Брюква!\")\n",
    "elif age == 11:\n",
    "    print(\"Что сказала зеленая виноградина синей виноградине?\")\n",
    "    print(\"Дыши! Дыши!\") \n",
    "elif age == 12:\n",
    "    print(\"Что сказал 0 числу 8?\")\n",
    "    print(\"Привет, ребята!\")\n",
    "elif age == 13:\n",
    "    print(\"Что такое: напотолке сидит ихохочет?\")\n",
    "    print(\"Муха-хохотуха!\") \n",
    "else: \n",
    "    print(\"Что-что?\")"
   ]
  },
  {
   "cell_type": "code",
   "execution_count": 32,
   "id": "035ab4f8",
   "metadata": {},
   "outputs": [
    {
     "name": "stdout",
     "output_type": "stream",
     "text": [
      "13 + 49 + 84 + 155 + 97: что получится? Головная боль!\n"
     ]
    }
   ],
   "source": [
    "if age == 10 or age == 11 or age == 12 or age == 13:\n",
    "    print('13 + 49 + 84 + 155 + 97: что получится? Головная боль!') \n",
    "else: \n",
    "    print('Что-что?')"
   ]
  },
  {
   "cell_type": "code",
   "execution_count": 33,
   "id": "4c37a95c",
   "metadata": {},
   "outputs": [
    {
     "name": "stdout",
     "output_type": "stream",
     "text": [
      "13 + 49 + 84 + 155 + 97: что получится? Головная боль!\n"
     ]
    }
   ],
   "source": [
    "if age >= 10 and age <= 13:\n",
    "    print('13 + 49 + 84 + 155 + 97: что получится? Головная боль!') \n",
    "else: \n",
    "    print('Что-что?')"
   ]
  },
  {
   "cell_type": "code",
   "execution_count": 34,
   "id": "73f596d3",
   "metadata": {},
   "outputs": [
    {
     "name": "stdout",
     "output_type": "stream",
     "text": [
      "None\n"
     ]
    }
   ],
   "source": [
    "myval = None\n",
    "print(myval)"
   ]
  },
  {
   "cell_type": "code",
   "execution_count": 35,
   "id": "2291e82a",
   "metadata": {},
   "outputs": [
    {
     "name": "stdout",
     "output_type": "stream",
     "text": [
      "В переменной myval ничего нет\n"
     ]
    }
   ],
   "source": [
    "myval = None\n",
    "if myval == None:\n",
    "    print(\"В переменной myval ничего нет\")"
   ]
  },
  {
   "cell_type": "code",
   "execution_count": 36,
   "id": "700f5c9b",
   "metadata": {},
   "outputs": [
    {
     "name": "stdout",
     "output_type": "stream",
     "text": [
      "Как лучше всего общаться смонстром?\n",
      "Издалека!\n"
     ]
    }
   ],
   "source": [
    "age = 10\n",
    "if age == 10:\n",
    "    print(\"Как лучше всего общаться смонстром?\") \n",
    "    print(\"Издалека!\")"
   ]
  },
  {
   "cell_type": "code",
   "execution_count": 37,
   "id": "2a3bfb23",
   "metadata": {},
   "outputs": [],
   "source": [
    "age = '10'\n",
    "if age == 10:\n",
    "    print(\"Как лучше всего общаться смонстром?\")\n",
    "    print(\"Издалека!\") "
   ]
  },
  {
   "cell_type": "code",
   "execution_count": 38,
   "id": "cc7ef8db",
   "metadata": {},
   "outputs": [],
   "source": [
    "age = '10'\n",
    "converted_age = int(age)"
   ]
  },
  {
   "cell_type": "code",
   "execution_count": null,
   "id": "742d8c2b",
   "metadata": {},
   "outputs": [],
   "source": [
    "age = 10 \n",
    "converted_age = str(age)"
   ]
  },
  {
   "cell_type": "code",
   "execution_count": 39,
   "id": "f1774e88",
   "metadata": {},
   "outputs": [
    {
     "name": "stdout",
     "output_type": "stream",
     "text": [
      "Как лучше всего общаться смонстром?\n",
      "Издалека!\n"
     ]
    }
   ],
   "source": [
    "if converted_age == 10:\n",
    "    print(\"Как лучше всего общаться смонстром?\")\n",
    "    print(\"Издалека!\")"
   ]
  },
  {
   "cell_type": "code",
   "execution_count": 40,
   "id": "c90c16cd",
   "metadata": {},
   "outputs": [
    {
     "ename": "ValueError",
     "evalue": "invalid literal for int() with base 10: '10.5'",
     "output_type": "error",
     "traceback": [
      "\u001b[0;31m---------------------------------------------------------------------------\u001b[0m",
      "\u001b[0;31mValueError\u001b[0m                                Traceback (most recent call last)",
      "Cell \u001b[0;32mIn [40], line 2\u001b[0m\n\u001b[1;32m      1\u001b[0m age \u001b[38;5;241m=\u001b[39m \u001b[38;5;124m'\u001b[39m\u001b[38;5;124m10.5\u001b[39m\u001b[38;5;124m'\u001b[39m\n\u001b[0;32m----> 2\u001b[0m converted_age \u001b[38;5;241m=\u001b[39m \u001b[38;5;28;43mint\u001b[39;49m\u001b[43m(\u001b[49m\u001b[43mage\u001b[49m\u001b[43m)\u001b[49m\n",
      "\u001b[0;31mValueError\u001b[0m: invalid literal for int() with base 10: '10.5'"
     ]
    }
   ],
   "source": [
    "age = '10.5'\n",
    "converted_age = int(age)"
   ]
  },
  {
   "cell_type": "code",
   "execution_count": 41,
   "id": "9869ddb6",
   "metadata": {},
   "outputs": [
    {
     "name": "stdout",
     "output_type": "stream",
     "text": [
      "10.5\n"
     ]
    }
   ],
   "source": [
    "age = '10.5'\n",
    "converted_age = float(age)\n",
    "print(converted_age)"
   ]
  },
  {
   "cell_type": "code",
   "execution_count": 42,
   "id": "ddf3374d",
   "metadata": {},
   "outputs": [
    {
     "ename": "ValueError",
     "evalue": "invalid literal for int() with base 10: 'десять'",
     "output_type": "error",
     "traceback": [
      "\u001b[0;31m---------------------------------------------------------------------------\u001b[0m",
      "\u001b[0;31mValueError\u001b[0m                                Traceback (most recent call last)",
      "Cell \u001b[0;32mIn [42], line 2\u001b[0m\n\u001b[1;32m      1\u001b[0m age \u001b[38;5;241m=\u001b[39m \u001b[38;5;124m'\u001b[39m\u001b[38;5;124mдесять\u001b[39m\u001b[38;5;124m'\u001b[39m\n\u001b[0;32m----> 2\u001b[0m converted_age \u001b[38;5;241m=\u001b[39m \u001b[38;5;28;43mint\u001b[39;49m\u001b[43m(\u001b[49m\u001b[43mage\u001b[49m\u001b[43m)\u001b[49m\n",
      "\u001b[0;31mValueError\u001b[0m: invalid literal for int() with base 10: 'десять'"
     ]
    }
   ],
   "source": [
    "age = 'десять'\n",
    "converted_age = int(age)"
   ]
  },
  {
   "cell_type": "code",
   "execution_count": 43,
   "id": "0cb7167a",
   "metadata": {},
   "outputs": [
    {
     "name": "stdout",
     "output_type": "stream",
     "text": [
      "привет\n",
      "привет\n",
      "привет\n",
      "привет\n",
      "привет\n"
     ]
    }
   ],
   "source": [
    "for x in range(0, 5): \n",
    "    print('привет')"
   ]
  },
  {
   "cell_type": "code",
   "execution_count": 44,
   "id": "4868e85a",
   "metadata": {},
   "outputs": [
    {
     "name": "stdout",
     "output_type": "stream",
     "text": [
      "[10, 11, 12, 13, 14, 15, 16, 17, 18, 19]\n"
     ]
    }
   ],
   "source": [
    "print(list(range(10, 20)))"
   ]
  },
  {
   "cell_type": "code",
   "execution_count": 45,
   "id": "a0226326",
   "metadata": {},
   "outputs": [
    {
     "name": "stdout",
     "output_type": "stream",
     "text": [
      "привет 0\n",
      "привет 1\n",
      "привет 2\n",
      "привет 3\n",
      "привет 4\n"
     ]
    }
   ],
   "source": [
    "for x in range(0, 5):\n",
    "    print('привет %s' % x)\n"
   ]
  },
  {
   "cell_type": "code",
   "execution_count": 47,
   "id": "c75f794b",
   "metadata": {},
   "outputs": [
    {
     "name": "stdout",
     "output_type": "stream",
     "text": [
      "паучьи лапки\n",
      "жабий палец\n",
      "язык улитки\n",
      "крыло летучей мыши\n",
      "жир слизня\n",
      "медвежий коготь\n"
     ]
    }
   ],
   "source": [
    "wizard_list = ['паучьи лапки', 'жабий палец', 'язык улитки', 'крыло летучей мыши', 'жир слизня', 'медвежий коготь'] \n",
    "for i in wizard_list:\n",
    "    print(i)"
   ]
  },
  {
   "cell_type": "code",
   "execution_count": 48,
   "id": "7039ffd3",
   "metadata": {},
   "outputs": [
    {
     "name": "stdout",
     "output_type": "stream",
     "text": [
      "огромные\n",
      "огромные\n",
      "волосатые\n",
      "штаны\n",
      "волосатые\n",
      "огромные\n",
      "волосатые\n",
      "штаны\n",
      "штаны\n",
      "огромные\n",
      "волосатые\n",
      "штаны\n"
     ]
    }
   ],
   "source": [
    "hugehairypants = ['огромные', 'волосатые', 'штаны']\n",
    "for i in hugehairypants:\n",
    "    print(i)\n",
    "    for j in hugehairypants:\n",
    "        print(j)"
   ]
  },
  {
   "cell_type": "code",
   "execution_count": 5,
   "id": "58e96f42",
   "metadata": {},
   "outputs": [
    {
     "name": "stdout",
     "output_type": "stream",
     "text": [
      "Неделя 1 = 87\n",
      "Неделя 2 = 154\n",
      "Неделя 3 = 221\n",
      "Неделя 4 = 288\n"
     ]
    }
   ],
   "source": [
    "found_coins = 20\n",
    "magic_coins = 70\n",
    "stolen_coins = 3\n",
    "coins = found_coins\n",
    "for week in range(1, 5):\n",
    "        coins = coins + magic_coins - stolen_coins\n",
    "        print('Неделя %s = %s' % (week, coins))"
   ]
  },
  {
   "cell_type": "code",
   "execution_count": 6,
   "id": "2f8a2428",
   "metadata": {},
   "outputs": [
    {
     "name": "stdout",
     "output_type": "stream",
     "text": [
      "46 81\n",
      "47 82\n",
      "48 83\n",
      "49 84\n",
      "50 85\n"
     ]
    }
   ],
   "source": [
    "x = 45\n",
    "y = 80\n",
    "while x < 50 and y < 100: \n",
    "    x=x+ 1\n",
    "    y=y+ 1 \n",
    "    print(x, y)"
   ]
  },
  {
   "cell_type": "code",
   "execution_count": 7,
   "id": "0262994f",
   "metadata": {},
   "outputs": [
    {
     "name": "stdout",
     "output_type": "stream",
     "text": [
      "привет 0\n"
     ]
    }
   ],
   "source": [
    "for x in range(0, 20):\n",
    "    print('привет %s' % x)\n",
    "    if x < 9:\n",
    "        break"
   ]
  },
  {
   "cell_type": "code",
   "execution_count": 8,
   "id": "c8626d2d",
   "metadata": {},
   "outputs": [
    {
     "name": "stdout",
     "output_type": "stream",
     "text": [
      "Привет, Мэри\n"
     ]
    }
   ],
   "source": [
    "def testfunc(myname):\n",
    "              print('Привет, %s' % myname)\n",
    "testfunc('Мэри')"
   ]
  },
  {
   "cell_type": "code",
   "execution_count": 9,
   "id": "a11b6e12",
   "metadata": {},
   "outputs": [
    {
     "name": "stdout",
     "output_type": "stream",
     "text": [
      "Привет, Мэри Смит\n"
     ]
    }
   ],
   "source": [
    "def testfunc(fname, lname):\n",
    "              print('Привет, %s %s' % (fname, lname))\n",
    "testfunc('Мэри', 'Смит')"
   ]
  },
  {
   "cell_type": "code",
   "execution_count": 10,
   "id": "3026f0ab",
   "metadata": {},
   "outputs": [
    {
     "name": "stdout",
     "output_type": "stream",
     "text": [
      "15\n"
     ]
    }
   ],
   "source": [
    "def savings(pocket_money, paper_route, spending):\n",
    "              return pocket_money + paper_route - spending\n",
    "print(savings(10, 10, 5))"
   ]
  },
  {
   "cell_type": "code",
   "execution_count": 11,
   "id": "d430a504",
   "metadata": {},
   "outputs": [
    {
     "name": "stdout",
     "output_type": "stream",
     "text": [
      "Thu Mar  9 17:09:09 2023\n"
     ]
    }
   ],
   "source": [
    "import time\n",
    "print(time.asctime())"
   ]
  },
  {
   "cell_type": "markdown",
   "id": "435f9728",
   "metadata": {},
   "source": [
    "## часть два"
   ]
  },
  {
   "cell_type": "markdown",
   "id": "d24853bb",
   "metadata": {},
   "source": [
    "1. Любимые вещи \n",
    "\n",
    "Создайте список своих любимых развлечений и сохраните его в переменной games.\n",
    "Теперь создайте список любимых лакомств, сохранив его в переменной foods.\n",
    "Объедините два этих списка, сохранив результат в переменной favorites, и напечатайте значение этой переменной."
   ]
  },
  {
   "cell_type": "code",
   "execution_count": 2,
   "id": "65ad88f2",
   "metadata": {},
   "outputs": [
    {
     "name": "stdout",
     "output_type": "stream",
     "text": [
      "['читать', 'рисовать', 'кушать', 'глпдить кота', 'смотреть фильм', 'апельсин', 'мороженное', 'помидор', 'куриное иле', 'омлет']\n"
     ]
    }
   ],
   "source": [
    "games = ['читать',  'рисовать', 'кушать', 'глпдить кота', 'смотреть фильм']\n",
    "food = ['апельсин', 'мороженное', 'помидор', 'куриное иле', 'омлет']\n",
    "favorites = games + food\n",
    "print(favorites)"
   ]
  },
  {
   "cell_type": "markdown",
   "id": "5340a290",
   "metadata": {},
   "source": [
    "2. Подсчет воинов \n",
    "\n",
    "Есть 3 дома, на крыше каждого из которых прячутся по 25 ниндзя,\n",
    "и есть 2 туннеля, в каждом из которых скрывается по 40 самураев.\n",
    "Сколько все- го воинов решили устроить заварушку?\n",
    "(Ответ можно найти, введя в обо- лочке Python арифметическое выражение.)"
   ]
  },
  {
   "cell_type": "code",
   "execution_count": 3,
   "id": "f07d3afb",
   "metadata": {},
   "outputs": [
    {
     "name": "stdout",
     "output_type": "stream",
     "text": [
      "155\n"
     ]
    }
   ],
   "source": [
    "dom = 25 * 3\n",
    "tonel = 40 * 2\n",
    "all_voin = dom + tonel\n",
    "print(all_voin)"
   ]
  },
  {
   "cell_type": "markdown",
   "id": "96c892fc",
   "metadata": {},
   "source": [
    "3. Приветствие \n",
    "\n",
    "Создайте две переменные: пусть одна хранит ваше имя, а другая фамилию.\n",
    "Теперь с помощью строки с метками %s напечатайте приветствие вроде такого: «Привет, Брандо Икетт!»."
   ]
  },
  {
   "cell_type": "code",
   "execution_count": 6,
   "id": "7ea0895c",
   "metadata": {},
   "outputs": [
    {
     "name": "stdout",
     "output_type": "stream",
     "text": [
      "Hello, Valentina Timofeeva.\n"
     ]
    }
   ],
   "source": [
    "name = 'Valentina'\n",
    "next_name = 'Timofeeva'\n",
    "text = 'Hello, %s %s.'\n",
    "print(text % (name, next_name))"
   ]
  },
  {
   "cell_type": "markdown",
   "id": "56cc50ee",
   "metadata": {},
   "source": [
    "4. Вы богаты? \n",
    "\n",
    "Решите эти задачи, используя конструкции if и условия. \n",
    "Как думаете, что делает этот код? Сначала попробуйте в этом разобраться,\n",
    "не вводя код в оболочку Python, а затем проверьте свой ответ."
   ]
  },
  {
   "cell_type": "code",
   "execution_count": 8,
   "id": "993267b0",
   "metadata": {},
   "outputs": [
    {
     "name": "stdout",
     "output_type": "stream",
     "text": [
      "Я богат!\n"
     ]
    }
   ],
   "source": [
    "money = 2000\n",
    "if money > 1000: \n",
    "    print(\"Я богат!\")\n",
    "else:\n",
    "    print(\"Я не богат!\")\n",
    "    print(\"Может, когда-нибудь потом...\")"
   ]
  },
  {
   "cell_type": "markdown",
   "id": "807646e5",
   "metadata": {},
   "source": [
    "5. Бисквитики! \n",
    "\n",
    "Создайте конструкцию if, которая проверяет, действительно ли количество бисквитов\n",
    "(которое задано в переменной twinkies) меньше 100 или больше 500.\n",
    "Если это условие выполняется, пусть ваша программа напечатает сообщение «Слишком мало или слишком много»."
   ]
  },
  {
   "cell_type": "code",
   "execution_count": 10,
   "id": "ae29889b",
   "metadata": {},
   "outputs": [
    {
     "name": "stdout",
     "output_type": "stream",
     "text": [
      "слишком много\n"
     ]
    }
   ],
   "source": [
    "twinkies = 600\n",
    "if twinkies < 100:\n",
    "    print('Слишком мало')\n",
    "elif twinkies > 500:\n",
    "    print('слишком много')"
   ]
  },
  {
   "cell_type": "markdown",
   "id": "5ff4dc1b",
   "metadata": {},
   "source": [
    "6. Подходящая сумма \n",
    "\n",
    "Создайте конструкцию if, которая проверяет, соответствует ли заданная в переменной money сумма денег\n",
    "диапазону значений от 100 до 500 или диапазону значений от 1000 до 5000."
   ]
  },
  {
   "cell_type": "code",
   "execution_count": 13,
   "id": "e0d656ed",
   "metadata": {},
   "outputs": [
    {
     "name": "stdout",
     "output_type": "stream",
     "text": [
      "yes\n"
     ]
    }
   ],
   "source": [
    "money = 2500\n",
    "if money > 100 and money < 500 or money > 1000 and money < 5000:\n",
    "    print('yes')\n"
   ]
  },
  {
   "cell_type": "markdown",
   "id": "59720f49",
   "metadata": {},
   "source": [
    "7. Я одолею этих ниндзя! \n",
    "\n",
    "Создайте конструкцию if, которая печатает строку «Их слишком много»,\n",
    "если количество ниндзя (заданное в переменной ninjas) меньше 50,\n",
    "печатает «Будет непросто, но я с ними разделаюсь», если это количество меньше 30,\n",
    "и печатает «Я одолею этих ниндзя!», если количество мень- ше 10.\n",
    "Проверьте, как ваш код работает с таким значением: \n",
    "\n",
    "ninjas = 5"
   ]
  },
  {
   "cell_type": "code",
   "execution_count": 8,
   "id": "5187bc45",
   "metadata": {},
   "outputs": [
    {
     "name": "stdout",
     "output_type": "stream",
     "text": [
      "мне конец!\n"
     ]
    }
   ],
   "source": [
    "ninjas = 60\n",
    "if ninjas < 10:\n",
    "        print('Я одолею этих ниндзя!')\n",
    "elif ninjas < 30:\n",
    "        print('Будет непросто, но я с ними разделаюсь.')\n",
    "elif ninjas < 50:\n",
    "    print('Их слишком много')\n",
    "else:\n",
    "    print('мне конец!')"
   ]
  },
  {
   "cell_type": "markdown",
   "id": "b7795077",
   "metadata": {},
   "source": [
    "8. Цикл с приветом \n",
    "\n",
    "Как вы считаете, что делает эта программа?\n",
    "Сперва придумайте вариант ответа, а потом запустите код и проверьте, угадали ли вы."
   ]
  },
  {
   "cell_type": "code",
   "execution_count": 13,
   "id": "918915c2",
   "metadata": {},
   "outputs": [
    {
     "name": "stdout",
     "output_type": "stream",
     "text": [
      "привет 0\n"
     ]
    }
   ],
   "source": [
    "for x in range(0, 20):\n",
    "    print('привет %s' % x)\n",
    "    if x < 9:\n",
    "        break\n",
    "#от 0 до 8 напечатает: привет 0, привет 1 и тд\n",
    "#точно, забыла про остановку цикла при условии больше 9"
   ]
  },
  {
   "cell_type": "code",
   "execution_count": null,
   "id": "b38201c5",
   "metadata": {},
   "outputs": [],
   "source": []
  },
  {
   "cell_type": "markdown",
   "id": "c79bdb0e",
   "metadata": {},
   "source": [
    "9. Четные числа \n",
    "\n",
    "Создайте цикл, который печатает четные числа до тех пор, пока не выведет ваш возраст.\n",
    "Если ваш возраст — нечетное число, создайте цикл, ко- торый печатает нечетные числа до совпадения с возрастом.\n",
    "Программа должна выводить на экран нечто подобное: \n",
    "\n",
    "2 4 6 8 10 12 14"
   ]
  },
  {
   "cell_type": "code",
   "execution_count": 26,
   "id": "be27103c",
   "metadata": {},
   "outputs": [
    {
     "name": "stdout",
     "output_type": "stream",
     "text": [
      "2\n",
      "4\n",
      "6\n",
      "8\n",
      "10\n",
      "12\n",
      "14\n",
      "16\n",
      "18\n",
      "20\n",
      "22\n",
      "24\n",
      "26\n",
      "28\n",
      "30\n",
      "32\n",
      "34\n"
     ]
    }
   ],
   "source": [
    "x = 0\n",
    "while x < 34:\n",
    "    x = x + 2\n",
    "    print(x)"
   ]
  },
  {
   "cell_type": "markdown",
   "id": "6682be28",
   "metadata": {},
   "source": [
    "10. Пять любимых ингредиентов \n",
    "\n",
    "Создайте список с пятью разными ингредиентами для бутерброда, наподобие:\n",
    "\n",
    "ingredients = ['слизни', 'пиявки', 'катышки изпупка гориллы', 'брови гусеницы', 'пальцы многоножки'].\n",
    "\n",
    "Теперь создайте цикл, который печатает список ингредиентов с нумерацией: \n",
    "\n",
    "1 слизни\n",
    "2 пиявки\n",
    "3 катышки изпупка гориллы \n",
    "4 брови гусеницы\n",
    "5 пальцы многоножки"
   ]
  },
  {
   "cell_type": "code",
   "execution_count": 11,
   "id": "72175ecd",
   "metadata": {},
   "outputs": [
    {
     "name": "stdout",
     "output_type": "stream",
     "text": [
      "1 апельсин\n",
      "2 огурец\n",
      "3 помидор\n",
      "4 куриное филе\n",
      "5 омлет\n"
     ]
    }
   ],
   "source": [
    "ingredients = ['апельсин', 'огурец', 'помидор', 'куриное филе', 'омлет']\n",
    "count = 0\n",
    "for inf in ingredients:\n",
    "    count += 1\n",
    "    print(count, inf)"
   ]
  },
  {
   "cell_type": "markdown",
   "id": "5fec0a6b",
   "metadata": {},
   "source": [
    "11. Ваш лунный вес \n",
    "\n",
    "Если бы вы сейчас были на Луне, ваш вес составил бы 16,5 процентов от земного.\n",
    "Чтобы узнать, сколько это, умножьте свой земной вес на 0,165. \n",
    "Если бы каждый год в течение следующих 15 лет вы прибавляли по одному килограмму веса\n",
    "каким бы оказался ваш лунныи вес в каждыи из ежегодных визитов на Луну вплоть до 15-го года? Напишите программу, которая с помощью цикла for печатает на экране ваш лунныи \n",
    "вес в каждом году."
   ]
  },
  {
   "cell_type": "code",
   "execution_count": 14,
   "id": "32e10f4f",
   "metadata": {},
   "outputs": [
    {
     "name": "stdout",
     "output_type": "stream",
     "text": [
      "мой лунный вес в 2024 году = 9.075000000000001\n",
      "мой лунный вес в 2025 году = 9.24\n",
      "мой лунный вес в 2026 году = 9.405000000000001\n",
      "мой лунный вес в 2027 году = 9.57\n",
      "мой лунный вес в 2028 году = 9.735000000000001\n",
      "мой лунный вес в 2029 году = 9.9\n",
      "мой лунный вес в 2030 году = 10.065000000000001\n",
      "мой лунный вес в 2031 году = 10.23\n",
      "мой лунный вес в 2032 году = 10.395000000000001\n",
      "мой лунный вес в 2033 году = 10.56\n",
      "мой лунный вес в 2034 году = 10.725\n",
      "мой лунный вес в 2035 году = 10.89\n",
      "мой лунный вес в 2036 году = 11.055\n",
      "мой лунный вес в 2037 году = 11.22\n",
      "мой лунный вес в 2038 году = 11.385\n"
     ]
    }
   ],
   "source": [
    "#1\n",
    "moy_ves = 55\n",
    "count = 2023\n",
    "for ves in range(moy_ves, 70):\n",
    "        ves_na_lune = ves * 0.165\n",
    "        count += 1\n",
    "        print(f'мой лунный вес в {count} году = {ves_na_lune}')"
   ]
  },
  {
   "cell_type": "code",
   "execution_count": 3,
   "id": "489914b5",
   "metadata": {},
   "outputs": [
    {
     "name": "stdout",
     "output_type": "stream",
     "text": [
      "2023 9.075000000000001\n",
      "2024 9.24\n",
      "2025 9.405000000000001\n",
      "2026 9.57\n",
      "2027 9.735000000000001\n",
      "2028 9.9\n",
      "2029 10.065000000000001\n",
      "2030 10.23\n",
      "2031 10.395000000000001\n",
      "2032 10.56\n",
      "2033 10.725\n",
      "2034 10.89\n",
      "2035 11.055\n",
      "2036 11.22\n",
      "2037 11.385\n"
     ]
    }
   ],
   "source": [
    "#2\n",
    "moy_ves = 55\n",
    "god_start = 2023\n",
    "kol_let = 15\n",
    "\n",
    "for year in range(god_start,god_start + kol_let):\n",
    "    ves_na_lune = moy_ves * 0.165\n",
    "    moy_ves +=1\n",
    "    print(year, ves_na_lune)"
   ]
  },
  {
   "cell_type": "code",
   "execution_count": 11,
   "id": "3cd0f82d",
   "metadata": {},
   "outputs": [
    {
     "name": "stdout",
     "output_type": "stream",
     "text": [
      "9.075000000000001\n",
      "9.24\n",
      "9.405000000000001\n",
      "9.57\n",
      "9.735000000000001\n",
      "9.9\n",
      "10.065000000000001\n",
      "10.23\n",
      "10.395000000000001\n",
      "10.56\n",
      "10.725\n",
      "10.89\n",
      "11.055\n",
      "11.22\n",
      "11.385\n"
     ]
    }
   ],
   "source": [
    "moy_ves = 55\n",
    "\n",
    "for years in range(15):\n",
    "    ves_na_lune = moy_ves * 0.165\n",
    "    moy_ves +=1\n",
    "    print(ves_na_lune)"
   ]
  },
  {
   "cell_type": "markdown",
   "id": "6dafcb2b",
   "metadata": {},
   "source": [
    "12. Функция лунного веса \n",
    "\n",
    "Одним из задани к главе 6 было создание цикла for для расчета вашего веса на Луне в течение 15 лет.\n",
    "Этот цикл можно оформить в виде функции.\n",
    "Создате функцию, которая принимает начальны вес и величину, на которую вес увеличивается кажды год.\n",
    "Вызывать эту новую функцию нужно будет примерно так: \n",
    "\n",
    "    moon_weight(30, 0.25)\n"
   ]
  },
  {
   "cell_type": "code",
   "execution_count": 12,
   "id": "66a58ebb",
   "metadata": {},
   "outputs": [
    {
     "data": {
      "text/plain": [
       "[9.075000000000001,\n",
       " 9.24,\n",
       " 9.405000000000001,\n",
       " 9.57,\n",
       " 9.735000000000001,\n",
       " 9.9,\n",
       " 10.065000000000001,\n",
       " 10.23,\n",
       " 10.395000000000001,\n",
       " 10.56,\n",
       " 10.725,\n",
       " 10.89,\n",
       " 11.055,\n",
       " 11.22,\n",
       " 11.385]"
      ]
     },
     "execution_count": 12,
     "metadata": {},
     "output_type": "execute_result"
    }
   ],
   "source": [
    "def moon_weight(ves, pribavka):\n",
    "    lunniy_ves = []\n",
    "    for year in range(15):\n",
    "        ves_na_lune = ves * 0.165\n",
    "        ves += pribavka\n",
    "        lunniy_ves.append(ves_na_lune)\n",
    "    \n",
    "    return(lunniy_ves)\n",
    "\n",
    "moon_weight(55, 1)\n",
    "    "
   ]
  },
  {
   "cell_type": "markdown",
   "id": "93a693f3",
   "metadata": {},
   "source": [
    "13. Функция лунного веса и количество лет \n",
    "\n",
    "Измените функцию из предыдущего задания так, чтобы с ее помощью можно было рассчитывать вес для разного количества\n",
    "лет, например 5 или 20 лет. Пусть эта функция принимает три аргумента: начальны вес, прибавку веса в год \n",
    "и количество лет: \n",
    "\n",
    "      moon_weight(90, 0.25, 5)"
   ]
  },
  {
   "cell_type": "code",
   "execution_count": 2,
   "id": "f04c5fd7",
   "metadata": {},
   "outputs": [
    {
     "data": {
      "text/plain": [
       "[11.55,\n",
       " 11.6325,\n",
       " 11.715,\n",
       " 11.797500000000001,\n",
       " 11.88,\n",
       " 11.9625,\n",
       " 12.045,\n",
       " 12.127500000000001,\n",
       " 12.21,\n",
       " 12.2925]"
      ]
     },
     "execution_count": 2,
     "metadata": {},
     "output_type": "execute_result"
    }
   ],
   "source": [
    "def moon_weight(ves, pribavka, kol_let):\n",
    "    lunniy_ves = []\n",
    "    for year in range(kol_let):\n",
    "        ves_na_lune = ves * 0.165\n",
    "        ves += pribavka\n",
    "        lunniy_ves.append(ves_na_lune)\n",
    "    \n",
    "    return(lunniy_ves)\n",
    "\n",
    "moon_weight(70, 0.5, 10)"
   ]
  },
  {
   "cell_type": "code",
   "execution_count": null,
   "id": "de96833e",
   "metadata": {},
   "outputs": [],
   "source": []
  },
  {
   "cell_type": "code",
   "execution_count": null,
   "id": "3f40a663",
   "metadata": {},
   "outputs": [],
   "source": []
  }
 ],
 "metadata": {
  "kernelspec": {
   "display_name": "Python 3 (ipykernel)",
   "language": "python",
   "name": "python3"
  },
  "language_info": {
   "codemirror_mode": {
    "name": "ipython",
    "version": 3
   },
   "file_extension": ".py",
   "mimetype": "text/x-python",
   "name": "python",
   "nbconvert_exporter": "python",
   "pygments_lexer": "ipython3",
   "version": "3.9.7"
  }
 },
 "nbformat": 4,
 "nbformat_minor": 5
}
