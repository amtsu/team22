{
 "cells": [
  {
   "cell_type": "markdown",
   "id": "a25a84a7",
   "metadata": {},
   "source": [
    "#### 1. Реализовать на python базу данных по персоналу с двумя таблицами из занятия.  \n"
   ]
  },
  {
   "cell_type": "code",
   "execution_count": 20,
   "id": "ff74cb7b",
   "metadata": {},
   "outputs": [],
   "source": [
    "import sqlite3"
   ]
  },
  {
   "cell_type": "code",
   "execution_count": 21,
   "id": "877cdf35",
   "metadata": {},
   "outputs": [],
   "source": [
    "#connect - соединение. Передаю имя базы данных, с коротой устанавливаю соединение. Сейчас сoздаю новый файл.\n",
    "connect = sqlite3.connect('it.db')\n",
    "\n",
    "#cursor - отправляет команды в sql.\n",
    "cursor = connect.cursor()"
   ]
  },
  {
   "cell_type": "code",
   "execution_count": 22,
   "id": "82b99a10",
   "metadata": {},
   "outputs": [
    {
     "data": {
      "text/plain": [
       "<sqlite3.Cursor at 0x7fc4a4184260>"
      ]
     },
     "execution_count": 22,
     "metadata": {},
     "output_type": "execute_result"
    }
   ],
   "source": [
    "#Создаю первую таблицу, в которой хронятся соедующие данные:id, имя, фамилия, офис, отдел, зп, телефон.\n",
    "create_table_1 = '''create table employee\n",
    "(id integer, name varchar(20), sername varchar(20), ofice varchar(20), departament integer, salary integer, \n",
    "phone varchar(20))'''\n",
    "cursor.execute(create_table_1)"
   ]
  },
  {
   "cell_type": "code",
   "execution_count": 23,
   "id": "436356e1",
   "metadata": {},
   "outputs": [],
   "source": [
    "#cursor.execute - выполнение команды. B скобках передаю имя компнды, в качестве параметра."
   ]
  },
  {
   "cell_type": "code",
   "execution_count": 24,
   "id": "2fb632ec",
   "metadata": {},
   "outputs": [
    {
     "data": {
      "text/plain": [
       "<sqlite3.Cursor at 0x7fc4a4184260>"
      ]
     },
     "execution_count": 24,
     "metadata": {},
     "output_type": "execute_result"
    }
   ],
   "source": [
    "#Создаю втoрую таблицу, в которой хронятся соедующие данные: id, название отделa, номер отдела.\n",
    "create_table_2 = '''create table depart\n",
    "(id integer, name_departamnt varchar(20), namber_departament integer)'''\n",
    "cursor.execute(create_table_2)"
   ]
  },
  {
   "cell_type": "markdown",
   "id": "3043d665",
   "metadata": {},
   "source": [
    "#### 2. Заполнить ее данными."
   ]
  },
  {
   "cell_type": "code",
   "execution_count": 25,
   "id": "3feb550f",
   "metadata": {},
   "outputs": [
    {
     "data": {
      "text/plain": [
       "<sqlite3.Cursor at 0x7fc4a4184260>"
      ]
     },
     "execution_count": 25,
     "metadata": {},
     "output_type": "execute_result"
    }
   ],
   "source": [
    "#Добавила один контакт в таблицу employee.\n",
    "cursor.execute('''insert into employee\n",
    "(id, name, sername, ofice, departament, salary, phone) \n",
    "values \n",
    "('1', 'Nikolay', 'Bobov', 'lubynka', '2', '55000', '8-925-225-74-11')''')"
   ]
  },
  {
   "cell_type": "code",
   "execution_count": 26,
   "id": "45e59b51",
   "metadata": {},
   "outputs": [
    {
     "data": {
      "text/plain": [
       "[(1, 'Nikolay', 'Bobov', 'lubynka', 2, 55000, '8-925-225-74-11')]"
      ]
     },
     "execution_count": 26,
     "metadata": {},
     "output_type": "execute_result"
    }
   ],
   "source": [
    "#Распечатала все контакты и данные из таблицы employee.\n",
    "cursor.execute('''select * from employee''')\n",
    "cursor.fetchall()"
   ]
  },
  {
   "cell_type": "code",
   "execution_count": 27,
   "id": "849f999a",
   "metadata": {},
   "outputs": [],
   "source": [
    "people = [(2, 'Valentina', 'Timofeeva', 'polyanka', 4, 100000, '8-905-222-88-22'),\n",
    "          (3, 'Irina', 'Grin', 'taganskaya', 3, 40000, '8-915-694-74-03'),\n",
    "          (4, 'Konstantin', 'Timofeev', 'polyanka', 4, 250000, '8-916-067-93-47'),\n",
    "          (5, 'Olga', 'Rogova', 'taganskaya', 2, 55000, '8-977-799-02-78'),\n",
    "          (6, 'Anna', 'Volkova', 'lubynka', 3, 37000, '8-925-289-00-14'),\n",
    "          (7, 'Elena', 'Komkova', 'taganskaya', 1, 88000, '8-905-227-97-40'),\n",
    "         ]"
   ]
  },
  {
   "cell_type": "code",
   "execution_count": 28,
   "id": "a899a3aa",
   "metadata": {},
   "outputs": [
    {
     "data": {
      "text/plain": [
       "<sqlite3.Cursor at 0x7fc4a4184260>"
      ]
     },
     "execution_count": 28,
     "metadata": {},
     "output_type": "execute_result"
    }
   ],
   "source": [
    "#Добавила сразу несколько  контактов в таблицу employee.\n",
    "cursor.executemany('''insert into employee\n",
    "(id, name, sername, ofice, departament, salary, phone) \n",
    "values \n",
    "(?, ?, ?, ?, ?, ?, ?)''', people)"
   ]
  },
  {
   "cell_type": "code",
   "execution_count": 29,
   "id": "52012e58",
   "metadata": {},
   "outputs": [
    {
     "data": {
      "text/plain": [
       "[(1, 'Nikolay', 'Bobov', 'lubynka', 2, 55000, '8-925-225-74-11'),\n",
       " (2, 'Valentina', 'Timofeeva', 'polyanka', 4, 100000, '8-905-222-88-22'),\n",
       " (3, 'Irina', 'Grin', 'taganskaya', 3, 40000, '8-915-694-74-03'),\n",
       " (4, 'Konstantin', 'Timofeev', 'polyanka', 4, 250000, '8-916-067-93-47'),\n",
       " (5, 'Olga', 'Rogova', 'taganskaya', 2, 55000, '8-977-799-02-78'),\n",
       " (6, 'Anna', 'Volkova', 'lubynka', 3, 37000, '8-925-289-00-14'),\n",
       " (7, 'Elena', 'Komkova', 'taganskaya', 1, 88000, '8-905-227-97-40')]"
      ]
     },
     "execution_count": 29,
     "metadata": {},
     "output_type": "execute_result"
    }
   ],
   "source": [
    "#Распечатала все контакты и данные из таблицы employee.\n",
    "cursor.execute('''select * from employee''')\n",
    "cursor.fetchall()"
   ]
  },
  {
   "cell_type": "code",
   "execution_count": 30,
   "id": "ae004341",
   "metadata": {},
   "outputs": [],
   "source": [
    "#Добавила сразу несколько  контактов в таблицу depart.\n",
    "name_departament = [\n",
    "    (1, 'frontend', '1'),\n",
    "    (2, 'backend', '2'),\n",
    "    (3, 'UX/UI', '3'),\n",
    "    (4, 'DevOps', '4')\n",
    "]"
   ]
  },
  {
   "cell_type": "code",
   "execution_count": 31,
   "id": "5fea9261",
   "metadata": {},
   "outputs": [
    {
     "data": {
      "text/plain": [
       "<sqlite3.Cursor at 0x7fc4a4184260>"
      ]
     },
     "execution_count": 31,
     "metadata": {},
     "output_type": "execute_result"
    }
   ],
   "source": [
    "cursor.executemany('''insert into depart\n",
    "(id, name_departamnt, namber_departament)\n",
    "values\n",
    "(?, ?, ?)''', name_departament)\n"
   ]
  },
  {
   "cell_type": "markdown",
   "id": "30d99c12",
   "metadata": {},
   "source": [
    "#### 3. Написать select который вернет таблицу содержащую названия отделов, среднюю зарплату в отдел, отсортированных по убыванию средне зп.\n"
   ]
  },
  {
   "cell_type": "code",
   "execution_count": 32,
   "id": "6bab52a2",
   "metadata": {},
   "outputs": [
    {
     "data": {
      "text/plain": [
       "[(1,\n",
       "  'Nikolay',\n",
       "  'Bobov',\n",
       "  'lubynka',\n",
       "  2,\n",
       "  55000,\n",
       "  '8-925-225-74-11',\n",
       "  2,\n",
       "  'backend',\n",
       "  2),\n",
       " (2,\n",
       "  'Valentina',\n",
       "  'Timofeeva',\n",
       "  'polyanka',\n",
       "  4,\n",
       "  100000,\n",
       "  '8-905-222-88-22',\n",
       "  4,\n",
       "  'DevOps',\n",
       "  4),\n",
       " (3,\n",
       "  'Irina',\n",
       "  'Grin',\n",
       "  'taganskaya',\n",
       "  3,\n",
       "  40000,\n",
       "  '8-915-694-74-03',\n",
       "  3,\n",
       "  'UX/UI',\n",
       "  3),\n",
       " (4,\n",
       "  'Konstantin',\n",
       "  'Timofeev',\n",
       "  'polyanka',\n",
       "  4,\n",
       "  250000,\n",
       "  '8-916-067-93-47',\n",
       "  4,\n",
       "  'DevOps',\n",
       "  4),\n",
       " (5,\n",
       "  'Olga',\n",
       "  'Rogova',\n",
       "  'taganskaya',\n",
       "  2,\n",
       "  55000,\n",
       "  '8-977-799-02-78',\n",
       "  2,\n",
       "  'backend',\n",
       "  2),\n",
       " (6, 'Anna', 'Volkova', 'lubynka', 3, 37000, '8-925-289-00-14', 3, 'UX/UI', 3),\n",
       " (7,\n",
       "  'Elena',\n",
       "  'Komkova',\n",
       "  'taganskaya',\n",
       "  1,\n",
       "  88000,\n",
       "  '8-905-227-97-40',\n",
       "  1,\n",
       "  'frontend',\n",
       "  1)]"
      ]
     },
     "execution_count": 32,
     "metadata": {},
     "output_type": "execute_result"
    }
   ],
   "source": [
    "cursor.execute('''select * from employee\n",
    "join depart on employee.departament = depart.namber_departament''')\n",
    "cursor.fetchall()"
   ]
  },
  {
   "cell_type": "code",
   "execution_count": null,
   "id": "c7e38165",
   "metadata": {},
   "outputs": [],
   "source": [
    "#Выбираем название департамента, зарплату (avg - это среднее значение) в таблице employee.\n",
    "#Склеиваем 2 таблицы что куда добавить в условиях.\n",
    "#Групируем по имени департамента и сортируем по убыванию (desc)."
   ]
  },
  {
   "cell_type": "code",
   "execution_count": 49,
   "id": "b6a727cd",
   "metadata": {},
   "outputs": [
    {
     "data": {
      "text/plain": [
       "[('DevOps', 175000.0),\n",
       " ('frontend', 88000.0),\n",
       " ('backend', 55000.0),\n",
       " ('UX/UI', 38500.0)]"
      ]
     },
     "execution_count": 49,
     "metadata": {},
     "output_type": "execute_result"
    }
   ],
   "source": [
    "cursor.execute('''select name_departamnt, avg(salary) from employee\n",
    "join depart on employee.departament = depart.namber_departament\n",
    "group by name_departamnt\n",
    "order by salary desc''')\n",
    "cursor.fetchall()"
   ]
  },
  {
   "cell_type": "markdown",
   "id": "4b4a2ef9",
   "metadata": {},
   "source": [
    "#### 4. Добавить в первый отдел еще одно сотрудника с ЗП 1000 и посмотреть как изменится результат."
   ]
  },
  {
   "cell_type": "code",
   "execution_count": 50,
   "id": "6aa89a0e",
   "metadata": {},
   "outputs": [
    {
     "data": {
      "text/plain": [
       "<sqlite3.Cursor at 0x7fc4a4184260>"
      ]
     },
     "execution_count": 50,
     "metadata": {},
     "output_type": "execute_result"
    }
   ],
   "source": [
    "cursor.execute('''insert into employee\n",
    "(id, name, sername, ofice, departament, salary, phone) \n",
    "values \n",
    "('8', 'Oleg', 'Goc', 'lubynka', '1', '30000', '8-925-011-74-33')''')"
   ]
  },
  {
   "cell_type": "code",
   "execution_count": 51,
   "id": "fa4ef242",
   "metadata": {},
   "outputs": [
    {
     "data": {
      "text/plain": [
       "[('DevOps', 175000.0),\n",
       " ('frontend', 59000.0),\n",
       " ('backend', 55000.0),\n",
       " ('UX/UI', 38500.0)]"
      ]
     },
     "execution_count": 51,
     "metadata": {},
     "output_type": "execute_result"
    }
   ],
   "source": [
    "cursor.execute('''select name_departamnt, avg(salary) from employee\n",
    "join depart on employee.departament = depart.namber_departament\n",
    "group by name_departamnt\n",
    "order by salary desc''')\n",
    "cursor.fetchall()"
   ]
  },
  {
   "cell_type": "code",
   "execution_count": null,
   "id": "e74a3e6b",
   "metadata": {},
   "outputs": [],
   "source": []
  }
 ],
 "metadata": {
  "kernelspec": {
   "display_name": "Python 3 (ipykernel)",
   "language": "python",
   "name": "python3"
  },
  "language_info": {
   "codemirror_mode": {
    "name": "ipython",
    "version": 3
   },
   "file_extension": ".py",
   "mimetype": "text/x-python",
   "name": "python",
   "nbconvert_exporter": "python",
   "pygments_lexer": "ipython3",
   "version": "3.9.7"
  }
 },
 "nbformat": 4,
 "nbformat_minor": 5
}
