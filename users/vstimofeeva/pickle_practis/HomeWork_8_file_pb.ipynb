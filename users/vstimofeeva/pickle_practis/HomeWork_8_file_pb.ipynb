{
 "cells": [
  {
   "cell_type": "code",
   "execution_count": 88,
   "id": "bd3792a6",
   "metadata": {},
   "outputs": [],
   "source": [
    "phone_book = [\n",
    "    {\n",
    "        'phone': '+79165556688',\n",
    "        'city': 'Moscow',\n",
    "        'name': 'Artem',\n",
    "        'year': 1982,\n",
    "        'hobby': ['sport', 'programming']\n",
    "    },\n",
    "    {\n",
    "        'phone': '+79165780362',\n",
    "        'city': 'Berlin',\n",
    "        'name': 'Victoria',\n",
    "        'year': 2003,\n",
    "        'hobby': ['read', 'programming']\n",
    "    },\n",
    "    {\n",
    "        'phone': '+79058940173',\n",
    "        'city': 'Budva',\n",
    "        'name': 'Konstantin',\n",
    "        'year': 1982,\n",
    "        'hobby': ['downhill', 'programming']\n",
    "    },\n",
    "    {\n",
    "        'phone': '+79051058815',\n",
    "        'city': 'Moscow',\n",
    "        'name': 'Valentina',\n",
    "        'year': 1988,\n",
    "        'hobby': ['cook', 'programming']\n",
    "    },\n",
    "]"
   ]
  },
  {
   "cell_type": "markdown",
   "id": "a5dbceb8",
   "metadata": {},
   "source": [
    "#### 1. Сохранить в файл с помощью функций библиотеки pickle."
   ]
  },
  {
   "cell_type": "code",
   "execution_count": 89,
   "id": "edb168a7",
   "metadata": {},
   "outputs": [],
   "source": [
    "import pickle\n",
    "\n",
    "with open('hw_1.txt', 'wb') as p_b:\n",
    "    add_phone_book = pickle.dump(phone_book, p_b)\n"
   ]
  },
  {
   "cell_type": "markdown",
   "id": "87771f5e",
   "metadata": {},
   "source": [
    "#### 2. Загрузить телефонный справочник который лежит в файле \"название_файла\""
   ]
  },
  {
   "cell_type": "code",
   "execution_count": 90,
   "id": "7d058224",
   "metadata": {},
   "outputs": [
    {
     "name": "stdout",
     "output_type": "stream",
     "text": [
      "[{'phone': '+79165556688', 'city': 'Moscow', 'name': 'Artem', 'year': 1982, 'hobby': ['sport', 'programming']}, {'phone': '+79165780362', 'city': 'Berlin', 'name': 'Victoria', 'year': 2003, 'hobby': ['read', 'programming']}, {'phone': '+79058940173', 'city': 'Budva', 'name': 'Konstantin', 'year': 1982, 'hobby': ['downhill', 'programming']}, {'phone': '+79051058815', 'city': 'Moscow', 'name': 'Valentina', 'year': 1988, 'hobby': ['cook', 'programming']}]\n"
     ]
    }
   ],
   "source": [
    "with open('hw_1.txt', 'rb') as p_b:\n",
    "    add_phone_book = pickle.load(p_b)\n",
    "print(add_phone_book)"
   ]
  },
  {
   "cell_type": "markdown",
   "id": "91227a4f",
   "metadata": {},
   "source": [
    "#### 3. Найти все контакты в справочнике у котого есть хобби программирование и кто старже 22 лет. Для этого нужно будет написать функции."
   ]
  },
  {
   "cell_type": "code",
   "execution_count": 91,
   "id": "a222a797",
   "metadata": {},
   "outputs": [
    {
     "name": "stdout",
     "output_type": "stream",
     "text": [
      "[{'name': 'Artem', 'nphone': '+79165556688'}, {'name': 'Konstantin', 'nphone': '+79058940173'}, {'name': 'Valentina', 'nphone': '+79051058815'}]\n"
     ]
    }
   ],
   "source": [
    "def hobby_proger(ph_book):\n",
    "    import datetime\n",
    "    year_now = datetime.datetime.now().year\n",
    "    new_list = []\n",
    "    for element in ph_book:\n",
    "        if year_now - element['year'] >= 22:\n",
    "            for el in element['hobby']:\n",
    "                if el == 'programming':\n",
    "                    new_list.append({'name' : element['name'],\n",
    "                                     'nphone' : element['phone']})\n",
    "    return(new_list)\n",
    "print(hobby_proger(add_phone_book))"
   ]
  },
  {
   "cell_type": "markdown",
   "id": "e496b75c",
   "metadata": {},
   "source": [
    "#### 4. Затем добавить в справочник еще один контакт: Программист Вася +7916-222-33-44 27лет."
   ]
  },
  {
   "cell_type": "code",
   "execution_count": 92,
   "id": "a15750e7",
   "metadata": {},
   "outputs": [
    {
     "name": "stdout",
     "output_type": "stream",
     "text": [
      "1996\n"
     ]
    }
   ],
   "source": [
    "'''\n",
    "Посчитаю год рождения, чтобы по красоте всё было.\n",
    "'''\n",
    "import datetime\n",
    "year_now = datetime.datetime.now().year\n",
    "\n",
    "year = year_now - 27\n",
    "print(year)"
   ]
  },
  {
   "cell_type": "code",
   "execution_count": 93,
   "id": "fe4c8cb4",
   "metadata": {},
   "outputs": [],
   "source": [
    "'''\n",
    "Новый контакт, чтобы добавить. Города нет, ну нет и ладно.\n",
    "'''\n",
    "new_contact_for_pb = {\n",
    "        'phone': '+79162223344',\n",
    "        'name': 'Vasya',\n",
    "        'year': 1996,\n",
    "        'hobby': 'programming'\n",
    "    },"
   ]
  },
  {
   "cell_type": "code",
   "execution_count": 101,
   "id": "f4705c11",
   "metadata": {},
   "outputs": [
    {
     "name": "stdout",
     "output_type": "stream",
     "text": [
      "[{'phone': '+79165556688', 'city': 'Moscow', 'name': 'Artem', 'year': 1982, 'hobby': ['sport', 'programming']}, {'phone': '+79165780362', 'city': 'Berlin', 'name': 'Victoria', 'year': 2003, 'hobby': ['read', 'programming']}, {'phone': '+79058940173', 'city': 'Budva', 'name': 'Konstantin', 'year': 1982, 'hobby': ['downhill', 'programming']}, {'phone': '+79051058815', 'city': 'Moscow', 'name': 'Valentina', 'year': 1988, 'hobby': ['cook', 'programming']}, {'phone': '+79162223344', 'name': 'Vasya', 'year': 1996, 'hobby': 'programming'}, {'phone': '+79162223344', 'name': 'Vasya', 'year': 1996, 'hobby': 'programming'}, {'phone': '+79162223344', 'name': 'Vasya', 'year': 1996, 'hobby': 'programming'}]\n"
     ]
    }
   ],
   "source": [
    "'''\n",
    "Попробовала дозаписать с помощью 'append'.\n",
    "Не работает. Выдаёт старый список контактов.\n",
    "Почитала. Так не работает. Значит запишу с помощью функции.\n",
    "'''\n",
    "\n",
    "def new_contacts(telephone_book, phone, name, year, hobby):\n",
    "    import datetime\n",
    "    year_now = datetime.datetime.now().year\n",
    "    year_final = year_now - year  \n",
    "    new_element = {\n",
    "        'phone': phone,\n",
    "        'name': name,\n",
    "        'year': year_final,\n",
    "        'hobby': hobby\n",
    "    }\n",
    "    telephone_book.append(new_element) \n",
    "    return telephone_book\n",
    "print(new_contacts(add_phone_book, '+79162223344', 'Vasya', 27 , 'programming'))"
   ]
  },
  {
   "cell_type": "code",
   "execution_count": 104,
   "id": "31ae83ba",
   "metadata": {},
   "outputs": [],
   "source": [
    "with open('hw_1.txt', 'wb') as p_b:\n",
    "    add_phone_book = pickle.dump(add_phone_book, p_b)"
   ]
  },
  {
   "cell_type": "markdown",
   "id": "6867dc7d",
   "metadata": {},
   "source": [
    "#### 5. Проверить что вернет функция из 2 шага."
   ]
  },
  {
   "cell_type": "code",
   "execution_count": 105,
   "id": "147c7abc",
   "metadata": {},
   "outputs": [
    {
     "name": "stdout",
     "output_type": "stream",
     "text": [
      "[{'phone': '+79165556688', 'city': 'Moscow', 'name': 'Artem', 'year': 1982, 'hobby': ['sport', 'programming']}, {'phone': '+79165780362', 'city': 'Berlin', 'name': 'Victoria', 'year': 2003, 'hobby': ['read', 'programming']}, {'phone': '+79058940173', 'city': 'Budva', 'name': 'Konstantin', 'year': 1982, 'hobby': ['downhill', 'programming']}, {'phone': '+79051058815', 'city': 'Moscow', 'name': 'Valentina', 'year': 1988, 'hobby': ['cook', 'programming']}, {'phone': '+79162223344', 'name': 'Vasya', 'year': 1996, 'hobby': 'programming'}, {'phone': '+79162223344', 'name': 'Vasya', 'year': 1996, 'hobby': 'programming'}, {'phone': '+79162223344', 'name': 'Vasya', 'year': 1996, 'hobby': 'programming'}]\n"
     ]
    }
   ],
   "source": [
    "with open('hw_1.txt', 'rb') as p_b:\n",
    "    add_phone_book = pickle.load(p_b)\n",
    "print(add_phone_book)"
   ]
  },
  {
   "cell_type": "markdown",
   "id": "e632698a",
   "metadata": {},
   "source": [
    "#### 6. Вывести весь список контактов отсортированный по возратсу."
   ]
  },
  {
   "cell_type": "code",
   "execution_count": 117,
   "id": "26f67ff1",
   "metadata": {},
   "outputs": [],
   "source": [
    "def sorted_by_year(date, people_age):\n",
    "    finish_list = sorted(date, key = lambda el: el['year'])\n",
    "    return(finish_list)\n",
    "finish_sorted = sorted_by_year(add_phone_book, ['year'])"
   ]
  },
  {
   "cell_type": "markdown",
   "id": "ff7c3fe6",
   "metadata": {},
   "source": [
    "#### 7. Сохранить изменния справочника на диск."
   ]
  },
  {
   "cell_type": "code",
   "execution_count": 118,
   "id": "ec8ee2c9",
   "metadata": {},
   "outputs": [],
   "source": [
    "with open('hw_1.txt', 'wb') as p_b:\n",
    "    add_phone_book = pickle.dump(finish_sorted, p_b)"
   ]
  },
  {
   "cell_type": "code",
   "execution_count": 119,
   "id": "7513799d",
   "metadata": {},
   "outputs": [
    {
     "name": "stdout",
     "output_type": "stream",
     "text": [
      "[{'phone': '+79165556688', 'city': 'Moscow', 'name': 'Artem', 'year': 1982, 'hobby': ['sport', 'programming']}, {'phone': '+79058940173', 'city': 'Budva', 'name': 'Konstantin', 'year': 1982, 'hobby': ['downhill', 'programming']}, {'phone': '+79051058815', 'city': 'Moscow', 'name': 'Valentina', 'year': 1988, 'hobby': ['cook', 'programming']}, {'phone': '+79162223344', 'name': 'Vasya', 'year': 1996, 'hobby': 'programming'}, {'phone': '+79162223344', 'name': 'Vasya', 'year': 1996, 'hobby': 'programming'}, {'phone': '+79162223344', 'name': 'Vasya', 'year': 1996, 'hobby': 'programming'}, {'phone': '+79165780362', 'city': 'Berlin', 'name': 'Victoria', 'year': 2003, 'hobby': ['read', 'programming']}]\n"
     ]
    }
   ],
   "source": [
    "with open('hw_1.txt', 'rb') as p_b:\n",
    "    add_phone_book = pickle.load(p_b)\n",
    "print(add_phone_book)"
   ]
  }
 ],
 "metadata": {
  "kernelspec": {
   "display_name": "Python 3 (ipykernel)",
   "language": "python",
   "name": "python3"
  },
  "language_info": {
   "codemirror_mode": {
    "name": "ipython",
    "version": 3
   },
   "file_extension": ".py",
   "mimetype": "text/x-python",
   "name": "python",
   "nbconvert_exporter": "python",
   "pygments_lexer": "ipython3",
   "version": "3.9.7"
  }
 },
 "nbformat": 4,
 "nbformat_minor": 5
}
