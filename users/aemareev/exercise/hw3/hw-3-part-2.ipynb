{
 "cells": [
  {
   "cell_type": "markdown",
   "id": "a24b734f-666e-4539-920d-946239dede5d",
   "metadata": {},
   "source": [
    "Прошли математику и строки.\n",
    "\n",
    "Вторая часть задания решите используя язык питон.\n",
    "\n",
    "Вычислить результат следующих операций:\n",
    "10 * (5 + 3)\n",
    "(20 - 6) / 2\n",
    "2 ** 5 (возведение 2 в 5-ю степень)\n",
    "25 // 4 (целая часть от деления)\n",
    "25 % 4 (остаток от деления)"
   ]
  },
  {
   "cell_type": "code",
   "execution_count": 5,
   "id": "66fc81b5-6030-45f2-ad30-fe155b1c0197",
   "metadata": {},
   "outputs": [
    {
     "name": "stdout",
     "output_type": "stream",
     "text": [
      "10 * (5 + 3) = 80\n"
     ]
    }
   ],
   "source": [
    "print(f'10 * (5 + 3) = {10 * (5 + 3)}')"
   ]
  },
  {
   "cell_type": "code",
   "execution_count": 6,
   "id": "eea3ea0f-3c3c-47e0-ab8a-f61f3fcf6894",
   "metadata": {},
   "outputs": [
    {
     "name": "stdout",
     "output_type": "stream",
     "text": [
      "(20 - 6) / 2 = 7.0\n"
     ]
    }
   ],
   "source": [
    "print(f'(20 - 6) / 2 = {(20 - 6) / 2}')"
   ]
  },
  {
   "cell_type": "code",
   "execution_count": 7,
   "id": "3bdd6423-4c66-41a0-8034-5adf9ed98ff0",
   "metadata": {},
   "outputs": [
    {
     "name": "stdout",
     "output_type": "stream",
     "text": [
      "2 ^ 5 = 32\n"
     ]
    }
   ],
   "source": [
    "print(f'2 ^ 5 = {2 ** 5}')"
   ]
  },
  {
   "cell_type": "code",
   "execution_count": 8,
   "id": "3b52d175-b2a1-49c8-a55b-186c66256904",
   "metadata": {},
   "outputs": [
    {
     "name": "stdout",
     "output_type": "stream",
     "text": [
      "25 // 4 = 6 (целая часть от деления)\n"
     ]
    }
   ],
   "source": [
    "print(f'25 // 4 = {25 // 4} (целая часть от деления)')"
   ]
  },
  {
   "cell_type": "code",
   "execution_count": 9,
   "id": "2f9b3fa6-c9f4-43d6-9ef7-049e9aa57ee0",
   "metadata": {},
   "outputs": [
    {
     "name": "stdout",
     "output_type": "stream",
     "text": [
      "25 % 4 = 1 (остаток от деления)\n"
     ]
    }
   ],
   "source": [
    "print(f'25 % 4 = {25 % 4} (остаток от деления)')"
   ]
  },
  {
   "cell_type": "markdown",
   "id": "b3b5384a-394a-4d75-a3b1-ef005ef8d103",
   "metadata": {},
   "source": [
    "Дано дробное число:\n",
    "number = -3.14\n",
    "Выполнить следующие операции:\n",
    "Округлите число до целого.\n",
    "Возьмите остаток числа."
   ]
  },
  {
   "cell_type": "code",
   "execution_count": 12,
   "id": "1e80fad3-b934-4453-b489-1b84f615e366",
   "metadata": {},
   "outputs": [
    {
     "name": "stdout",
     "output_type": "stream",
     "text": [
      "Округление числа -3.14 до целого. Результат: -3\n",
      "Остаток числа равен -0.14\n"
     ]
    }
   ],
   "source": [
    "number = -3.14\n",
    "print(f'Округление числа -3.14 до целого. Результат: {round(number)}')\n",
    "print(f'Остаток числа равен {round(number - round(number), 2)}')"
   ]
  },
  {
   "cell_type": "markdown",
   "id": "9fc749e9-3ce5-42da-b1e0-b9b9550d13b2",
   "metadata": {},
   "source": [
    "Даны стороны прямоугольника: a = 5, b = 7.\n",
    "Вычислить площадь прямоугольника и вывести результат на экран."
   ]
  },
  {
   "cell_type": "code",
   "execution_count": 13,
   "id": "7880d334-a017-44d0-a738-7e2837a9ab92",
   "metadata": {},
   "outputs": [
    {
     "name": "stdout",
     "output_type": "stream",
     "text": [
      "Площадь прямоугольника со сторонами 5 и 7 равна 35\n"
     ]
    }
   ],
   "source": [
    "a, b = 5, 7\n",
    "print(f'Площадь прямоугольника со сторонами 5 и 7 равна {5 * 7}')"
   ]
  },
  {
   "cell_type": "markdown",
   "id": "8870e152-a895-49a5-8612-878576e9e1af",
   "metadata": {},
   "source": [
    "На какой объем воздуха должен быть расчитан кондиционер, если с его помощью хотят охлаждать квартиру в которой размер гостинной 3.5 на 6.4 метра, спальни 3.4 на 4 метра и площадь не жилой части 11 метров. При том что высота потолков 3,1 метр."
   ]
  },
  {
   "cell_type": "code",
   "execution_count": 15,
   "id": "8c70a812-88a7-4d75-8e23-e6219df52e19",
   "metadata": {},
   "outputs": [
    {
     "name": "stdout",
     "output_type": "stream",
     "text": [
      "Кондиционер должен быть расчитан на 145.7 м^3\n"
     ]
    }
   ],
   "source": [
    "h = 3.1\n",
    "v_living_room = 3.5 * 6.4 * h\n",
    "v_bedroom = 3.4 * 4 * h\n",
    "v_other = 11 * h\n",
    "v_sum = v_living_room + v_bedroom + v_other\n",
    "print(f'Кондиционер должен быть расчитан на {round(v_sum, 1)} м^3')"
   ]
  },
  {
   "cell_type": "markdown",
   "id": "0fcf2b05-49ca-4a76-b540-e2c4769f9877",
   "metadata": {},
   "source": [
    "Дано квадратное уравнение вида ax^2 + bx + c = 0.\n",
    "Найти его решения, используя формулу дискриминанта.\n",
    "a номер текущего месяца\n",
    "b номер вашей группы\n",
    "c минус десять (-10)"
   ]
  },
  {
   "cell_type": "code",
   "execution_count": 18,
   "id": "6a0eae94-fd4e-49a8-b3f9-b45f84b53e81",
   "metadata": {},
   "outputs": [
    {
     "name": "stdout",
     "output_type": "stream",
     "text": [
      "Корни уравнения 6.43 и -12.43\n"
     ]
    }
   ],
   "source": [
    "a, b, c = 2, 3, -10\n",
    "d = b ** 2 - 4 * a * c\n",
    "x1 = (-b + d ** 0.5) / 2 * a\n",
    "x2 = (-b - d ** 0.5) / 2 * a\n",
    "print(f'Корни уравнения {round(x1, 2)} и {round(x2, 2)}')"
   ]
  },
  {
   "cell_type": "markdown",
   "id": "1d49ef50-1c8b-4c53-9319-1f9e5edfa4b3",
   "metadata": {},
   "source": [
    "Даны строки:\n",
    "string1 = \"hello, \"\n",
    "string2 = \"world!\"\n",
    "Объединить строки string1 и string2 и результат вывести на экран так чтобы первая буква в предложении стала заглавной."
   ]
  },
  {
   "cell_type": "code",
   "execution_count": 24,
   "id": "9f7cd0a7-13b2-4bb0-86c8-9bd77f6d07fa",
   "metadata": {},
   "outputs": [
    {
     "name": "stdout",
     "output_type": "stream",
     "text": [
      "Hello, world!\n"
     ]
    }
   ],
   "source": [
    "string1 = \"hello, \"\n",
    "string2 = \"world!\"\n",
    "print((string1 + string2).capitalize())"
   ]
  },
  {
   "cell_type": "markdown",
   "id": "1e61328e-1a7d-45aa-ae65-28dba5f18e92",
   "metadata": {},
   "source": [
    "Сколько символов было в предыдущей строке?"
   ]
  },
  {
   "cell_type": "code",
   "execution_count": 26,
   "id": "0954aa37-80e9-44c4-a9f4-1221e6a3546e",
   "metadata": {},
   "outputs": [
    {
     "name": "stdout",
     "output_type": "stream",
     "text": [
      "В предыдущей строке было 13 символов\n"
     ]
    }
   ],
   "source": [
    "print(f'В предыдущей строке было {len(string1 + string2)} символов')"
   ]
  },
  {
   "cell_type": "markdown",
   "id": "2e167b10-3a38-4a72-9985-a7bda343c5da",
   "metadata": {},
   "source": [
    "Выведите на экран строку la 25 раз."
   ]
  },
  {
   "cell_type": "code",
   "execution_count": 27,
   "id": "bd9170e7-7aee-4614-92da-eb08c52f6f9f",
   "metadata": {},
   "outputs": [
    {
     "name": "stdout",
     "output_type": "stream",
     "text": [
      "lalalalalalalalalalalalalalalalalalalalalalalalala\n"
     ]
    }
   ],
   "source": [
    "print('la' * 25)"
   ]
  },
  {
   "cell_type": "markdown",
   "id": "eb457816-16a8-4de4-986f-8ad54d552140",
   "metadata": {},
   "source": [
    "Дан список чисел:\n",
    "numbers = [1, 2, 3, 4, 5]\n",
    "Выполнить следующие операции:\n",
    "1. Измените число 2 на строку \"hi\" \n",
    "2. Выведите значение, находящееся на позиции 2.\n",
    "3. Изменить значение на позиции 4 на список из 3 элементов [8, 6, 4].\n",
    "Результаты вывести на экран."
   ]
  },
  {
   "cell_type": "code",
   "execution_count": 30,
   "id": "29603f88-0cef-440c-8c40-7402cb0e8776",
   "metadata": {},
   "outputs": [
    {
     "name": "stdout",
     "output_type": "stream",
     "text": [
      "На позиции 2 находится: hi\n",
      "Итоговый список: [1, 'hi', 3, [8, 6, 4], 5]\n"
     ]
    }
   ],
   "source": [
    "numbers = [1, 2, 3, 4, 5]\n",
    "numbers[1] = 'hi'\n",
    "print(f'На позиции 2 находится: {numbers[1]}')\n",
    "numbers[3] = [8, 6, 4]\n",
    "print(f'Итоговый список: {numbers}')"
   ]
  },
  {
   "cell_type": "markdown",
   "id": "f79eb4c3-f337-47e6-8140-7898d1a5efca",
   "metadata": {},
   "source": [
    "Дан список чисел:\n",
    "numbers = [1, 2, 3, 4, 5, 6, 7, 8, 9, 10]\n",
    "Извлеките подсписок с 3-го по 7-й элемент включительно."
   ]
  },
  {
   "cell_type": "code",
   "execution_count": 31,
   "id": "23b450ce-9a72-41ce-a7ed-ccfb17027014",
   "metadata": {},
   "outputs": [
    {
     "name": "stdout",
     "output_type": "stream",
     "text": [
      "Требуемый подсписок: [3, 4, 5, 6, 7]\n"
     ]
    }
   ],
   "source": [
    "numbers = [1, 2, 3, 4, 5, 6, 7, 8, 9, 10]\n",
    "print(f'Требуемый подсписок: {numbers[2:7]}')"
   ]
  }
 ],
 "metadata": {
  "kernelspec": {
   "display_name": "Python 3 (ipykernel)",
   "language": "python",
   "name": "python3"
  },
  "language_info": {
   "codemirror_mode": {
    "name": "ipython",
    "version": 3
   },
   "file_extension": ".py",
   "mimetype": "text/x-python",
   "name": "python",
   "nbconvert_exporter": "python",
   "pygments_lexer": "ipython3",
   "version": "3.10.10"
  }
 },
 "nbformat": 4,
 "nbformat_minor": 5
}
