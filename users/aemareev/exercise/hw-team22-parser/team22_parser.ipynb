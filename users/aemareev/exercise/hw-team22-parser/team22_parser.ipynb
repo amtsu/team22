{
 "cells": [
  {
   "cell_type": "markdown",
   "id": "e0dd9b73-3b59-429d-8ebf-3c24d49bc2d0",
   "metadata": {},
   "source": [
    "# Team22 parser\n",
    "### Забирает с персональных страничек ФИО, телефоны и имэйлы и возвращает структурированный словарь."
   ]
  },
  {
   "cell_type": "code",
   "execution_count": 1,
   "id": "3e955614-693d-4199-83ad-05406d12db2f",
   "metadata": {},
   "outputs": [
    {
     "name": "stdout",
     "output_type": "stream",
     "text": [
      "('Andromary', {'link': 'http://absda.ru:15000/team22/users/andromary/index.html'})\n",
      "('AndVlIv', {'link': 'http://absda.ru:15000/team22/users/andvliv/my_page.html', 'name': 'Andrey Ivanchenko'})\n",
      "('AnnaMargolina', {'link': 'http://absda.ru:15000/team22/users/annamargolina/cv.html'})\n",
      "('anton-kuvalda', {'link': 'http://absda.ru:15000/team22/users/anton-kuvalda/Anton_kuvalda.Resume4.html', 'name': 'Резюме Непочатый Антон', 'emails': ['kuvaldabikes@gmail.com']})\n",
      "('arisova', {'link': 'http://absda.ru:15000/team22/users/aaarisova/ArisovaA_zarplata_ru.html', 'emails': ['anna.arisova@example.com']})\n",
      "('re-gi-na', {'link': 'http://absda.ru:15000/team22/users/re-gi-na/about_me.html', 'emails': ['hogo88@mail.ru']})\n",
      "('RomanTarasov91', {'link': 'http://absda.ru:15000/team22/users/romantarasov91/aboutmeee.html', 'name': 'Тарасов Роман Сергеевич', 'phones': ['+79264790084'], 'emails': ['kenn-nni@yandex.ru', 'RomanTarasov91@yandex.ru']})\n",
      "('Slash3086', {'link': 'http://absda.ru:15000/team22/users/slash3086/kaanikin_resume.html', 'name': 'Аникин Константин', 'emails': ['kostia.anikin@gmail.com']})\n",
      "('theRate', {'link': 'http://absda.ru:15000/team22/users/aemareev/about.html', 'name': 'Alexander Mareyev', 'phones': ['+79104406969'], 'emails': ['aemareev@gmail.com']})\n"
     ]
    }
   ],
   "source": [
    "import re\n",
    "import requests\n",
    "from bs4 import BeautifulSoup\n",
    "\n",
    "\n",
    "class Team22Parser:\n",
    "    \"\"\"\n",
    "    Класс для получения ФИО, номеров телефонов и адресов электронной почты с сайта\n",
    "    http://absda.ru:15000/team22/users/base/team.html\n",
    "    \"\"\"\n",
    "    SRC_URL = 'http://absda.ru:15000/team22/users/base/team.html'\n",
    "    BASE_URL = 'http://absda.ru:15000'\n",
    "\n",
    "    @staticmethod\n",
    "    def get_soup(url: str) -> BeautifulSoup:\n",
    "        \"\"\"\n",
    "        Метод делает из веб-страницы и возвращает объект BeautifulSoup для дальнейшего разбора.\n",
    "        \"\"\"\n",
    "        return BeautifulSoup(requests.get(url).content, 'lxml')\n",
    "\n",
    "    @staticmethod\n",
    "    def check_text_for_name(input_string: str) -> bool:\n",
    "        \"\"\"\n",
    "        Метод проверяет, может ли строка быть ФИО.\n",
    "        \"\"\"\n",
    "        words = input_string.split()\n",
    "        count = len([word for word in words if word.istitle()])\n",
    "\n",
    "        if len(words) == 2 or len(words) == 3:\n",
    "            if count == len(words):\n",
    "                return True\n",
    "            else:\n",
    "                return False\n",
    "        else:\n",
    "            return False\n",
    "\n",
    "    @classmethod\n",
    "    def get_data(cls) -> dict:\n",
    "        \"\"\"\n",
    "        Метод возвращает словарь с полученными данными.\n",
    "        \"\"\"\n",
    "        data_dict = {item.text: {'link': cls.BASE_URL + item.get('href')} for item in\n",
    "                     cls.get_soup(cls.SRC_URL).find_all('a')}\n",
    "\n",
    "        for name, value in data_dict.items():\n",
    "            html = str(cls.get_soup(value['link']))\n",
    "\n",
    "            text_list = re.findall(r'>(.*)<', html)\n",
    "            for text in text_list:\n",
    "                if cls.check_text_for_name(text):\n",
    "                    data_dict[name]['name'] = text\n",
    "                    break\n",
    "\n",
    "            phone_pattern = re.compile(r'\\+?\\d[( -]?\\d{3}[) -]?\\d{3}[ -]?\\d{2}[ -]?\\d{2}')\n",
    "            phones = re.findall(phone_pattern, html)\n",
    "            clear_phones = set()\n",
    "            for n, phone in enumerate(phones):\n",
    "                if phone[0] == '8' or phone[:2] == '+7':\n",
    "                    clear_phones.add('+7' + ''.join(num for num in phone if num.isdigit())[-10:])\n",
    "            if clear_phones:\n",
    "                data_dict[name]['phones'] = list(clear_phones)\n",
    "\n",
    "            email_pattern = r'[a-zA-Z0-9_.+-]+@[a-zA-Z0-9-]+\\.[a-zA-Z0-9-.]+'\n",
    "            emails = set(re.findall(email_pattern, html))\n",
    "            if emails:\n",
    "                data_dict[name]['emails'] = list(emails)\n",
    "\n",
    "        return data_dict\n",
    "\n",
    "\n",
    "print(*Team22Parser.get_data().items(), sep='\\n')"
   ]
  }
 ],
 "metadata": {
  "kernelspec": {
   "display_name": "Python 3 (ipykernel)",
   "language": "python",
   "name": "python3"
  },
  "language_info": {
   "codemirror_mode": {
    "name": "ipython",
    "version": 3
   },
   "file_extension": ".py",
   "mimetype": "text/x-python",
   "name": "python",
   "nbconvert_exporter": "python",
   "pygments_lexer": "ipython3",
   "version": "3.10.10"
  }
 },
 "nbformat": 4,
 "nbformat_minor": 5
}
