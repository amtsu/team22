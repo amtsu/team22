{
 "cells": [
  {
   "cell_type": "markdown",
   "id": "ef8c1d772546cb58",
   "metadata": {},
   "source": [
    "### Сортировка списков"
   ]
  },
  {
   "cell_type": "markdown",
   "id": "41c848f20b9b94a6",
   "metadata": {},
   "source": [
    "1) Выучить наизусть сортировку пузырьком и быструю сортировку.\n",
    "2) Реализовать дополнительно 2 любые сортировки кроме вышеуказанных. Написать тесты на эти функции.\n",
    "3) Создать список из 10000 случайных чисел с плавающей запятой.\n",
    "4) Замерить и вывести время выполнения, пузырьком, быстрой сортировки, ваших 2 сортировок и встроенной сортировки python.\n",
    "5) Создать список из 20000 случайных чисел с плавающей запятой. Сравните как изменилось время выполнения. \n",
    "(если на вашем компьютере это выполняется слишком долго больше минуты или не хватает памяти возьмите меньшее число элементов, например 2000 / 4000)\n",
    "6) Сделайте выводы по результатам, они достаточно интересные. Если будут вопросы спросите преподавателя."
   ]
  },
  {
   "cell_type": "code",
   "execution_count": 3,
   "id": "62046c3e-30b8-4f97-abab-a040620c574c",
   "metadata": {},
   "outputs": [],
   "source": [
    "import random, time\n",
    "\n",
    "def timer(func):\n",
    "    def wrapper(*args, **kwargs):\n",
    "        start_time = time.time()\n",
    "        result = func(*args, **kwargs)\n",
    "        finish_time = time.time()\n",
    "        print(f\"Время на выполнение {func.__name__}: {finish_time - start_time} с\")\n",
    "        return result\n",
    "    return wrapper\n",
    "\n",
    "\n",
    "test_list_10k = [random.random() for _ in range(10000)]\n",
    "test_list_20k = [random.random() for _ in range(20000)]"
   ]
  },
  {
   "cell_type": "code",
   "execution_count": 17,
   "id": "61624143-134d-4b09-8599-04f8cf0a419e",
   "metadata": {},
   "outputs": [
    {
     "name": "stdout",
     "output_type": "stream",
     "text": [
      "Время на выполнение bubble_sort: 1.1920928955078125e-05 с\n"
     ]
    }
   ],
   "source": [
    "# сортировка пузырьком\n",
    "@timer\n",
    "def bubble_sort(arr):\n",
    "    def swap(i, j):\n",
    "        arr[i], arr[j] = arr[j], arr[i]\n",
    "\n",
    "    n = len(arr)\n",
    "    swapped = True\n",
    "\n",
    "    x = -1\n",
    "    while swapped:\n",
    "        swapped = False\n",
    "        x = x + 1\n",
    "        for i in range(1, n - x):\n",
    "            if arr[i - 1] > arr[i]:  # если элементы стоят в неправильном порядке,\n",
    "                swap(i - 1, i)  # то меняем их местами, пока не отсортируем arr\n",
    "                swapped = True\n",
    "\n",
    "\n",
    "test_arr = [-7, 16, 3, -2, -2, 1, 0, 14, 5]\n",
    "bubble_sort(test_arr)\n",
    "assert test_arr == [-7, -2, -2, 0, 1, 3, 5, 14, 16]"
   ]
  },
  {
   "cell_type": "code",
   "execution_count": 12,
   "id": "8851963c-2a7f-4373-863c-e69e11999ddb",
   "metadata": {},
   "outputs": [],
   "source": [
    "# быстрая сортировка\n",
    "\n",
    "def quick_sort(arr):\n",
    "    if len(arr) <= 1:\n",
    "        return arr\n",
    "    else:\n",
    "        q = random.choice(arr)\n",
    "\n",
    "    lw_arr = [n for n in arr if n < q]\n",
    "    eq_arr = [q] * arr.count(q)\n",
    "    hi_arr = [n for n in arr if n > q]\n",
    "\n",
    "    return quick_sort(lw_arr) + eq_arr + quick_sort(hi_arr)\n",
    "\n",
    "\n",
    "test_arr = [-7, 16, 3, -2, -2, 1, 0, 14, 5]\n",
    "test_arr = quick_sort(test_arr)\n",
    "assert test_arr == [-7, -2, -2, 0, 1, 3, 5, 14, 16]"
   ]
  },
  {
   "cell_type": "code",
   "execution_count": 13,
   "id": "e1be1839-bff9-4c26-9b36-5962084416bf",
   "metadata": {},
   "outputs": [],
   "source": [
    "# сортировка слиянием\n",
    "\n",
    "def merge_sort(arr):\n",
    "    def merge(left, right, merged):\n",
    "        left_cursor, right_cursor = 0, 0\n",
    "        while left_cursor < len(left) and right_cursor < len(right):\n",
    "\n",
    "            # Сортируем каждый и помещаем в результат\n",
    "            if left[left_cursor] <= right[right_cursor]:\n",
    "                merged[left_cursor + right_cursor] = left[left_cursor]\n",
    "                left_cursor += 1\n",
    "            else:\n",
    "                merged[left_cursor + right_cursor] = right[right_cursor]\n",
    "                right_cursor += 1\n",
    "\n",
    "        for left_cursor in range(left_cursor, len(left)):\n",
    "            merged[left_cursor + right_cursor] = left[left_cursor]\n",
    "\n",
    "        for right_cursor in range(right_cursor, len(right)):\n",
    "            merged[left_cursor + right_cursor] = right[right_cursor]\n",
    "\n",
    "        return merged\n",
    "\n",
    "    # Последнее разделение массива\n",
    "    if len(arr) <= 1:\n",
    "        return arr\n",
    "    mid = len(arr) // 2\n",
    "    # Выполняем merge_sort рекурсивно с двух сторон\n",
    "    left_arr, right_arr = merge_sort(arr[:mid]), merge_sort(arr[mid:])\n",
    "\n",
    "    # Объединяем стороны вместе\n",
    "    return merge(left_arr, right_arr, arr.copy())\n",
    "\n",
    "\n",
    "test_arr = [-7, 16, 3, -2, -2, 1, 0, 14, 5]\n",
    "test_arr = merge_sort(test_arr)\n",
    "assert test_arr == [-7, -2, -2, 0, 1, 3, 5, 14, 16]"
   ]
  },
  {
   "cell_type": "code",
   "execution_count": 24,
   "id": "c4d3369c-e7d3-4821-9984-918a4812ae1c",
   "metadata": {},
   "outputs": [
    {
     "name": "stdout",
     "output_type": "stream",
     "text": [
      "Время на выполнение selection_sort: 9.059906005859375e-06 с\n"
     ]
    }
   ],
   "source": [
    "# сортировка выбором\n",
    "@timer\n",
    "def selection_sort(arr):        \n",
    "    for i in range(len(arr)):\n",
    "        minimum = i\n",
    "        \n",
    "        for j in range(i + 1, len(arr)):\n",
    "            # находим наименьшее значение\n",
    "            if arr[j] < arr[minimum]:\n",
    "                minimum = j\n",
    "\n",
    "        # помещаем его перед отсортированным концом массива\n",
    "        arr[minimum], arr[i] = arr[i], arr[minimum]\n",
    "            \n",
    "    return arr\n",
    "\n",
    "\n",
    "test_arr = [-7, 16, 3, -2, -2, 1, 0, 14, 5]\n",
    "test_arr = selection_sort(test_arr)\n",
    "assert test_arr == [-7, -2, -2, 0, 1, 3, 5, 14, 16]"
   ]
  },
  {
   "cell_type": "code",
   "execution_count": 31,
   "id": "ca7adaf0-d6da-445f-ac73-d00c006bae7f",
   "metadata": {},
   "outputs": [
    {
     "name": "stdout",
     "output_type": "stream",
     "text": [
      "Время на выполнение bubble_sort: 6.947316646575928 с\n",
      "Время на выполнение bubble_sort: 28.578600645065308 с\n"
     ]
    }
   ],
   "source": [
    "# проверяем сортировку пузырьком на 10 и 20 тысячах случайных чисел\n",
    "test_list_10k = [random.random() for _ in range(10000)]\n",
    "test_list_20k = [random.random() for _ in range(20000)]\n",
    "\n",
    "bubble_sort(test_list_10k)\n",
    "bubble_sort(test_list_20k)"
   ]
  },
  {
   "cell_type": "markdown",
   "id": "67613647-0117-4997-aff5-3a35060ad9b6",
   "metadata": {},
   "source": [
    "Вывод по сортировке пузырьком: при увеличении входных данных в 2 раза, время выполнения увеличилось в 4 раза, что говорит нам о реальной асимптотике O(n^2)."
   ]
  },
  {
   "cell_type": "code",
   "execution_count": 26,
   "id": "dcb5354b-04f3-4d7d-a40f-cdd185e315e4",
   "metadata": {},
   "outputs": [
    {
     "name": "stdout",
     "output_type": "stream",
     "text": [
      "Время на выполнение selection_sort: 2.7757441997528076 с\n",
      "Время на выполнение selection_sort: 10.851823091506958 с\n",
      "Сортировка закончена!\n"
     ]
    }
   ],
   "source": [
    "# проверяем сортировку выбором на 10 и 20 тысячах случайных чисел\n",
    "test_list_10k = [random.random() for _ in range(10000)]\n",
    "test_list_20k = [random.random() for _ in range(20000)]\n",
    "\n",
    "selection_sort(test_list_10k)\n",
    "selection_sort(test_list_20k)\n",
    "print(\"Сортировка закончена!\")"
   ]
  },
  {
   "cell_type": "markdown",
   "id": "89d11788-dc14-4aef-9bd3-e0399e2e6131",
   "metadata": {},
   "source": [
    "Вывод по сортировке выбором: при увеличении входных данных в 2 раза, время выполнения увеличилось в 4 раза, что говорит нам о реальной асимптотике O(n^2). Но скорость выполнения алгоритма в 2-3 раза выше, чем при сортировке пузырьком."
   ]
  },
  {
   "cell_type": "code",
   "execution_count": 30,
   "id": "93f2edd1-5d90-4454-9fea-b2f725038fb1",
   "metadata": {},
   "outputs": [
    {
     "name": "stdout",
     "output_type": "stream",
     "text": [
      "Время на выполнение merge_sort: 0.028386592864990234 с\n",
      "Время на выполнение merge_sort: 0.06009554862976074 с\n"
     ]
    }
   ],
   "source": [
    "# проверяем сортировку слиянием на 10 и 20 тысячах случайных чисел\n",
    "test_list_10k = [random.random() for _ in range(10000)]\n",
    "test_list_20k = [random.random() for _ in range(20000)]\n",
    "\n",
    "start_time = time.time()\n",
    "merge_sort(test_list_10k)\n",
    "finish_time = time.time()\n",
    "print(f\"Время на выполнение {merge_sort.__name__}: {finish_time - start_time} с\")\n",
    "\n",
    "start_time = time.time()\n",
    "merge_sort(test_list_20k)\n",
    "finish_time = time.time()\n",
    "print(f\"Время на выполнение {merge_sort.__name__}: {finish_time - start_time} с\")"
   ]
  },
  {
   "cell_type": "markdown",
   "id": "d16124ce-d97a-478a-8d7d-bd8872b77f41",
   "metadata": {},
   "source": [
    "Вывод по сортировке слиянием: при увеличении входных данных в 2 раза, время выполнения увеличилось в 2 раза, что говорит нам о реальной асимптотике O(n). При этом скорость выполнения алгоритма несоизмеримо быстрее, чем у сортировки пузырьком или выбором."
   ]
  },
  {
   "cell_type": "code",
   "execution_count": 32,
   "id": "2e3e721d-6e11-45e5-a4f0-12fc037719b3",
   "metadata": {},
   "outputs": [
    {
     "name": "stdout",
     "output_type": "stream",
     "text": [
      "Время на выполнение quick_sort: 0.035451412200927734 с\n",
      "Время на выполнение quick_sort: 0.04287838935852051 с\n"
     ]
    }
   ],
   "source": [
    "# проверяем быструю сортировку на 10 и 20 тысячах случайных чисел\n",
    "test_list_10k = [random.random() for _ in range(10000)]\n",
    "test_list_20k = [random.random() for _ in range(20000)]\n",
    "\n",
    "start_time = time.time()\n",
    "quick_sort(test_list_10k)\n",
    "finish_time = time.time()\n",
    "print(f\"Время на выполнение {quick_sort.__name__}: {finish_time - start_time} с\")\n",
    "\n",
    "start_time = time.time()\n",
    "quick_sort(test_list_20k)\n",
    "finish_time = time.time()\n",
    "print(f\"Время на выполнение {quick_sort.__name__}: {finish_time - start_time} с\")"
   ]
  },
  {
   "cell_type": "markdown",
   "id": "4e362795-e5a5-4735-aabb-36ad23eea54c",
   "metadata": {},
   "source": [
    "Вывод по быстрой сортировке: при увеличении входных данных в 2 раза, время выполнения увеличилось незначительно, что говорит нам о реальной асимптотике O(log(n)). При этом скорость выполнения алгоритма несоизмеримо быстрее, чем у сортировки пузырьком или выбором. Если сравнить результаты с сортировкой слиянием, то получается, что на 10к данных быстрее сортировка слиянием, а на 20к быстрее уже быстрая сортировка."
   ]
  },
  {
   "cell_type": "code",
   "execution_count": 34,
   "id": "7b6cf6f1-8874-4c79-bce2-55f44d84bdd0",
   "metadata": {},
   "outputs": [
    {
     "name": "stdout",
     "output_type": "stream",
     "text": [
      "Время на выполнение встроенной сортировкой Python: 0.0015671253204345703 с\n",
      "Время на выполнение встроенной сортировкой Python: 0.002961397171020508 с\n"
     ]
    }
   ],
   "source": [
    "# проверяем встроенный метод сортировки на 10 и 20 тысячах случайных чисел\n",
    "test_list_10k = [random.random() for _ in range(10000)]\n",
    "test_list_20k = [random.random() for _ in range(20000)]\n",
    "\n",
    "start_time = time.time()\n",
    "test_list_10k.sort()\n",
    "finish_time = time.time()\n",
    "print(f\"Время на выполнение встроенной сортировкой Python: {finish_time - start_time} с\")\n",
    "\n",
    "start_time = time.time()\n",
    "test_list_20k.sort()\n",
    "finish_time = time.time()\n",
    "print(f\"Время на выполнение встроенной сортировкой Python: {finish_time - start_time} с\")"
   ]
  },
  {
   "cell_type": "markdown",
   "id": "f78ac4b8-8ddc-46b3-b43e-362f96b25a99",
   "metadata": {},
   "source": [
    "Вывод: используйте только встроенную сортировку Python, потому что она написана на плюсах!"
   ]
  }
 ],
 "metadata": {
  "kernelspec": {
   "display_name": "Python 3 (ipykernel)",
   "language": "python",
   "name": "python3"
  },
  "language_info": {
   "codemirror_mode": {
    "name": "ipython",
    "version": 3
   },
   "file_extension": ".py",
   "mimetype": "text/x-python",
   "name": "python",
   "nbconvert_exporter": "python",
   "pygments_lexer": "ipython3",
   "version": "3.10.10"
  }
 },
 "nbformat": 4,
 "nbformat_minor": 5
}
