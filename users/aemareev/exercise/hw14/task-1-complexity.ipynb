{
 "cells": [
  {
   "cell_type": "markdown",
   "id": "ac94897bc01b610f",
   "metadata": {},
   "source": [
    "### Сложность алгоритмов\n",
    "\n",
    "    Определите асимптотическую сложность данной программы O(...).\n",
    "    Предложите способы уменьшения асимптотической сложности, если возможно.\n",
    "    Сложность методов встроенных структур данных python, поищите в интернете."
   ]
  },
  {
   "cell_type": "code",
   "execution_count": null,
   "id": "ed417262caef05ea",
   "metadata": {},
   "outputs": [],
   "source": [
    "# 1) Сосчитать количество уникальных элементов в списке\n",
    "\n",
    "def count_unique(values):\n",
    "    unique = set()\n",
    "    for value in values:\n",
    "        unique.add(value)\n",
    "    return len(unique)\n"
   ]
  },
  {
   "cell_type": "code",
   "execution_count": null,
   "id": "a6edbb14bed302da",
   "metadata": {},
   "outputs": [],
   "source": [
    "# Сложность O(n)\n",
    "def count_unique(values):\n",
    "    unique = set(values)\n",
    "    return len(unique)"
   ]
  },
  {
   "cell_type": "code",
   "execution_count": null,
   "id": "58cc1efadd17f96f",
   "metadata": {},
   "outputs": [],
   "source": [
    "# 2) Найти дубликаты в списке\n",
    "\n",
    "def find_duplicates(arr):\n",
    "    duplicates = []\n",
    "    for i in range(len(arr)):\n",
    "        for j in range(i + 1, len(arr)):\n",
    "            if arr[i] == arr[j] and arr[i] not in duplicates:\n",
    "                duplicates.append(arr[i])\n",
    "    return duplicates\n"
   ]
  },
  {
   "cell_type": "code",
   "execution_count": null,
   "id": "c325182fbc756c60",
   "metadata": {},
   "outputs": [],
   "source": [
    "# В примере сложность O(n^2)\n",
    "# Решение за O(n)\n",
    "def find_duplicates(arr):\n",
    "    temp_set = set()\n",
    "    duplicates = set()\n",
    "    for el in arr:\n",
    "        if el in temp_set:\n",
    "            duplicates.add(el)\n",
    "        else:\n",
    "            temp_set.add(el)\n",
    "    return duplicates"
   ]
  },
  {
   "cell_type": "code",
   "execution_count": null,
   "id": "e11789817f8436c8",
   "metadata": {},
   "outputs": [],
   "source": [
    "# 3) Найти тройки чисел, которые в сумме дают ноль\n",
    "def find_triplets(arr):\n",
    "    n = len(arr)\n",
    "    triplets = []\n",
    "    for i in range(n):\n",
    "        for j in range(i + 1, n):\n",
    "            for k in range(j + 1, n):\n",
    "                if arr[i] + arr[j] + arr[k] == 0:\n",
    "                    triplet = sorted([arr[i], arr[j], arr[k]])\n",
    "                    if triplet not in triplets:\n",
    "                        triplets.append(triplet)\n",
    "    return triplets"
   ]
  },
  {
   "cell_type": "code",
   "execution_count": null,
   "id": "4822e9c98411816c",
   "metadata": {},
   "outputs": [],
   "source": [
    "# В примере сложность O(n^3)\n",
    "# Решение за O(n^2)\n",
    "def three_for_zero(arr: list):\n",
    "    arr.sort()\n",
    "    n = len(arr)\n",
    "    result = set()\n",
    "    for i in range(n - 1):\n",
    "        left = i + 1\n",
    "        right = n - 1\n",
    "        while left != right:\n",
    "            if arr[i] + arr[left] + arr[right] > 0:\n",
    "                right -= 1\n",
    "            elif arr[i] + arr[left] + arr[right] < 0:\n",
    "                left += 1\n",
    "            else:\n",
    "                result.add((arr[i], arr[left], arr[right]))\n",
    "                left += 1\n",
    "\n",
    "    return result"
   ]
  },
  {
   "cell_type": "code",
   "execution_count": null,
   "id": "8abe6982df6615e2",
   "metadata": {},
   "outputs": [],
   "source": [
    "# вычисления числа Фибоначчи\n",
    "def fibonacci(n):\n",
    "    if n <= 1:\n",
    "        return n\n",
    "    else:\n",
    "        return fibonacci(n-1) + fibonacci(n-2)"
   ]
  },
  {
   "cell_type": "code",
   "execution_count": null,
   "id": "528bd6e72508e16f",
   "metadata": {},
   "outputs": [],
   "source": [
    "# В примере сложность O(2^n) и -память\n",
    "# Решение за O(n)\n",
    "def fibonacci(n):\n",
    "    result = [0, 1]\n",
    "    for i in range(2, n + 1):\n",
    "        result.append(result[i - 1] + result[i - 2])\n",
    "    return result[n]"
   ]
  }
 ],
 "metadata": {
  "kernelspec": {
   "display_name": "Python 3 (ipykernel)",
   "language": "python",
   "name": "python3"
  },
  "language_info": {
   "codemirror_mode": {
    "name": "ipython",
    "version": 3
   },
   "file_extension": ".py",
   "mimetype": "text/x-python",
   "name": "python",
   "nbconvert_exporter": "python",
   "pygments_lexer": "ipython3",
   "version": "3.10.10"
  }
 },
 "nbformat": 4,
 "nbformat_minor": 5
}
