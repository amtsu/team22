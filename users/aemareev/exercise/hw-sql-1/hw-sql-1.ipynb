{
 "cells": [
  {
   "cell_type": "markdown",
   "id": "ad735e6d-f3ea-41ad-af96-31bcb35388d8",
   "metadata": {},
   "source": [
    "# SQL"
   ]
  },
  {
   "cell_type": "markdown",
   "id": "d9daefc1-b83c-4c1a-b8a1-962a4247ff8d",
   "metadata": {},
   "source": [
    "Для анализа дан небольшой фаил размеров в 240 Мб содержащий только информацию о новостройках. Содержит срезы на каждый день(кроме дней поломок - простоя сервиса) Т.е. есть по каждому обекту есть информация за каждый день. Подучатеся в год(365 дней) информация об обект дублируется 365 раз.\n",
    "Учтите что сложный селект может работать не быстро."
   ]
  },
  {
   "cell_type": "markdown",
   "id": "f290d893-c83b-430b-a821-759c7a9e062d",
   "metadata": {},
   "source": [
    "Для анализа использовать фаил с базой /home/synchronize_data/price_analytics/24.db.copied"
   ]
  },
  {
   "cell_type": "code",
   "execution_count": 1,
   "id": "7c9f9a58-9cdc-481c-b296-550d18f5dc9a",
   "metadata": {},
   "outputs": [
    {
     "name": "stdout",
     "output_type": "stream",
     "text": [
      "-rw-r--r-- 1 synchronize_data synchronize_data 264585216 Jun 11 09:08 /home/synchronize_data/price_analytics/24.db.copied\n"
     ]
    }
   ],
   "source": [
    "!ls -la /home/synchronize_data/price_analytics/24.db.copied"
   ]
  },
  {
   "cell_type": "markdown",
   "id": "7697b022-d2ce-43b6-ab30-f63107fd46ef",
   "metadata": {},
   "source": [
    "# Пример использования: задача вывести самую дорогую квартиру из имеющихся."
   ]
  },
  {
   "cell_type": "markdown",
   "id": "ab4a29ae-3c05-4e51-b079-9d2f8040b7a5",
   "metadata": {},
   "source": [
    "Запустите следующие 6 строчек, они должны отработать корректно."
   ]
  },
  {
   "cell_type": "code",
   "execution_count": 2,
   "id": "2f19a55a-ad2b-40c5-b33a-4ff94b0aaac2",
   "metadata": {},
   "outputs": [],
   "source": [
    "import matplotlib.pyplot as plt\n",
    "import sqlite3\n",
    "import json"
   ]
  },
  {
   "cell_type": "code",
   "execution_count": 3,
   "id": "58a22a56-9b2a-4bb3-aebb-4cdc127088c3",
   "metadata": {},
   "outputs": [],
   "source": [
    "connection = sqlite3.connect('/home/synchronize_data/price_analytics/24.db.copied')\n",
    "cursor = connection.cursor()"
   ]
  },
  {
   "cell_type": "markdown",
   "id": "00e2515d-6736-46ad-8d5b-7b9b6ad0acb6",
   "metadata": {},
   "source": [
    "Поля рекомендованные:\n",
    "            id,\n",
    "            \"title\",\n",
    "            \"price\",\n",
    "            \"price_sale\",\n",
    "            date(datetime_create) as date,\n",
    "            \"brand\",\n",
    "            \"apartment_area\",\n",
    "            \"apartment_floor\",\n",
    "            \"apartment_floors_total\",\n",
    "            \"apartment_room\",\n",
    "            \"apartment_ppm\""
   ]
  },
  {
   "cell_type": "code",
   "execution_count": 4,
   "id": "032f49e4-7990-46ce-a94e-c5492e646635",
   "metadata": {},
   "outputs": [
    {
     "data": {
      "text/plain": [
       "<sqlite3.Cursor at 0x7fb097fc8c40>"
      ]
     },
     "execution_count": 4,
     "metadata": {},
     "output_type": "execute_result"
    }
   ],
   "source": [
    "cursor.execute(\"\"\"\n",
    "SELECT \n",
    "    *\n",
    "FROM copied\n",
    "where \n",
    "    category = \"Новостройки\" \n",
    "    or category = \"Реновация\"\n",
    "ORDER BY price desc\n",
    "LIMIT 1\n",
    "\"\"\")"
   ]
  },
  {
   "cell_type": "code",
   "execution_count": 5,
   "id": "849df813-48b7-4e85-a356-0820d3977141",
   "metadata": {},
   "outputs": [],
   "source": [
    "flat = cursor.fetchall()"
   ]
  },
  {
   "cell_type": "code",
   "execution_count": 6,
   "id": "58d9a66d-4cb6-4322-9f50-6a5f9e1130df",
   "metadata": {},
   "outputs": [
    {
     "data": {
      "text/plain": [
       "[(44871689,\n",
       "  'Саввинская 27 | 27 | 2 | 340.9 | Саввинская 27 | 55.730824,37.557959 | 1',\n",
       "  847419076,\n",
       "  847419076,\n",
       "  '2024-06-02 06:13:37.130681',\n",
       "  'Новостройки',\n",
       "  'level.ru',\n",
       "  'https://level.ru/old/sav27/apartment/6room/5-1/',\n",
       "  340.9,\n",
       "  2,\n",
       "  6,\n",
       "  6,\n",
       "  2485829)]"
      ]
     },
     "execution_count": 6,
     "metadata": {},
     "output_type": "execute_result"
    }
   ],
   "source": [
    "flat"
   ]
  },
  {
   "cell_type": "code",
   "execution_count": 7,
   "id": "3b283350-4be2-4365-b8b5-ab6cff508de0",
   "metadata": {},
   "outputs": [],
   "source": [
    "%reload_ext sql \n",
    "%config SqlMagic.displaycon = False\n",
    "%config SqlMagic.feedback = False"
   ]
  },
  {
   "cell_type": "code",
   "execution_count": 8,
   "id": "c4001ef0-a52d-4d05-9099-cd741711a6b7",
   "metadata": {},
   "outputs": [],
   "source": [
    "%sql sqlite:////home/synchronize_data/price_analytics/24.db.copied\n",
    "#%sql sqlite:///24.db.copied"
   ]
  },
  {
   "cell_type": "code",
   "execution_count": 9,
   "id": "bb99f935-1400-46a2-8cb6-e64e2fe51ad2",
   "metadata": {},
   "outputs": [
    {
     "data": {
      "text/html": [
       "<table>\n",
       "    <thead>\n",
       "        <tr>\n",
       "            <th>id</th>\n",
       "            <th>title</th>\n",
       "            <th>price</th>\n",
       "            <th>price_sale</th>\n",
       "            <th>datetime_create</th>\n",
       "            <th>category</th>\n",
       "            <th>brand</th>\n",
       "            <th>url</th>\n",
       "            <th>apartment_area</th>\n",
       "            <th>apartment_floor</th>\n",
       "            <th>apartment_floors_total</th>\n",
       "            <th>apartment_room</th>\n",
       "            <th>apartment_ppm</th>\n",
       "        </tr>\n",
       "    </thead>\n",
       "    <tbody>\n",
       "        <tr>\n",
       "            <td>598</td>\n",
       "            <td>Причальный Bосток 29 65.3 Причальный пр., д. 8 55.76018,37.517482</td>\n",
       "            <td>37527037</td>\n",
       "            <td>26268925</td>\n",
       "            <td>2022-12-05 13:38:36.641439</td>\n",
       "            <td>Новостройки</td>\n",
       "            <td>level.ru</td>\n",
       "            <td>url_example</td>\n",
       "            <td>None</td>\n",
       "            <td>None</td>\n",
       "            <td>None</td>\n",
       "            <td>None</td>\n",
       "            <td>None</td>\n",
       "        </tr>\n",
       "        <tr>\n",
       "            <td>599</td>\n",
       "            <td>Саввинская 17 17 4 82.5  55.734600731695195,37.565715889000494</td>\n",
       "            <td>202359478</td>\n",
       "            <td>202359478</td>\n",
       "            <td>2022-12-05 13:38:36.652957</td>\n",
       "            <td>Новостройки</td>\n",
       "            <td>level.ru</td>\n",
       "            <td>url_example</td>\n",
       "            <td>None</td>\n",
       "            <td>None</td>\n",
       "            <td>None</td>\n",
       "            <td>None</td>\n",
       "            <td>None</td>\n",
       "        </tr>\n",
       "    </tbody>\n",
       "</table>"
      ],
      "text/plain": [
       "[(598, 'Причальный Bосток 29 65.3 Причальный пр., д. 8 55.76018,37.517482', 37527037, 26268925, '2022-12-05 13:38:36.641439', 'Новостройки', 'level.ru', 'url_example', None, None, None, None, None),\n",
       " (599, 'Саввинская 17 17 4 82.5  55.734600731695195,37.565715889000494', 202359478, 202359478, '2022-12-05 13:38:36.652957', 'Новостройки', 'level.ru', 'url_example', None, None, None, None, None)]"
      ]
     },
     "execution_count": 9,
     "metadata": {},
     "output_type": "execute_result"
    }
   ],
   "source": [
    "#далее можно вот так писать sql запросы и даже передавать результаты их выполнения в переменные - смотрите по ссылке вверху этого ноутбука\n",
    "%sql SELECT * from copied WHERE id<600"
   ]
  },
  {
   "cell_type": "markdown",
   "id": "7e73832c-7c8c-4773-9d74-2e6be5c5eb58",
   "metadata": {},
   "source": [
    "# Задачи:"
   ]
  },
  {
   "cell_type": "code",
   "execution_count": 10,
   "id": "fc61724a-4aac-4fe2-8983-1751746082a7",
   "metadata": {},
   "outputs": [
    {
     "data": {
      "text/html": [
       "<table>\n",
       "    <thead>\n",
       "        <tr>\n",
       "            <th>name</th>\n",
       "        </tr>\n",
       "    </thead>\n",
       "    <tbody>\n",
       "        <tr>\n",
       "            <td>copied</td>\n",
       "        </tr>\n",
       "    </tbody>\n",
       "</table>"
      ],
      "text/plain": [
       "[('copied',)]"
      ]
     },
     "execution_count": 10,
     "metadata": {},
     "output_type": "execute_result"
    }
   ],
   "source": [
    "%%sql\n",
    "SELECT name FROM sqlite_master WHERE type='table'"
   ]
  },
  {
   "cell_type": "markdown",
   "id": "ce78507f-af7a-4c5b-9e10-eed65ca16061",
   "metadata": {},
   "source": [
    "Выведите список новостроек в порядке убывания количества доступных к покупке квартир."
   ]
  },
  {
   "cell_type": "code",
   "execution_count": 42,
   "id": "a38a87fb-f395-48bc-9c03-4a868b763a23",
   "metadata": {},
   "outputs": [
    {
     "data": {
      "text/html": [
       "<table>\n",
       "    <thead>\n",
       "        <tr>\n",
       "            <th>brand</th>\n",
       "            <th>count</th>\n",
       "        </tr>\n",
       "    </thead>\n",
       "    <tbody>\n",
       "        <tr>\n",
       "            <td>gk-osnova.ru</td>\n",
       "            <td>2028</td>\n",
       "        </tr>\n",
       "        <tr>\n",
       "            <td>level.ru</td>\n",
       "            <td>1104</td>\n",
       "        </tr>\n",
       "        <tr>\n",
       "            <td>donstroy.moscow</td>\n",
       "            <td>1071</td>\n",
       "        </tr>\n",
       "    </tbody>\n",
       "</table>"
      ],
      "text/plain": [
       "[('gk-osnova.ru', 2028), ('level.ru', 1104), ('donstroy.moscow', 1071)]"
      ]
     },
     "execution_count": 42,
     "metadata": {},
     "output_type": "execute_result"
    }
   ],
   "source": [
    "%%sql\n",
    "SELECT brand, COUNT(DISTINCT title) as count\n",
    "FROM copied\n",
    "WHERE datetime_create like \"2024-06-10%\"\n",
    "GROUP BY brand\n",
    "ORDER BY count DESC\n",
    "LIMIT 10"
   ]
  },
  {
   "cell_type": "markdown",
   "id": "a0f62b71-c5ab-4677-9a94-f959cc36379b",
   "metadata": {},
   "source": [
    "Найдите среднюю цену квадратного метра по всем новостройкам  "
   ]
  },
  {
   "cell_type": "code",
   "execution_count": 56,
   "id": "dcb4254c-84b4-4728-af06-a3e941cacc77",
   "metadata": {},
   "outputs": [
    {
     "data": {
      "text/html": [
       "<table>\n",
       "    <thead>\n",
       "        <tr>\n",
       "            <th>apartment_ppm_total</th>\n",
       "        </tr>\n",
       "    </thead>\n",
       "    <tbody>\n",
       "        <tr>\n",
       "            <td>386852.0</td>\n",
       "        </tr>\n",
       "    </tbody>\n",
       "</table>"
      ],
      "text/plain": [
       "[(386852.0,)]"
      ]
     },
     "execution_count": 56,
     "metadata": {},
     "output_type": "execute_result"
    }
   ],
   "source": [
    "%%sql\n",
    "SELECT ROUND(AVG(apartment_ppm)) as apartment_ppm_total\n",
    "FROM copied\n",
    "WHERE datetime_create like \"2024-06-10%\" and apartment_ppm > 0\n",
    "LIMIT 10"
   ]
  },
  {
   "cell_type": "markdown",
   "id": "97e0cd58-f4da-4cc4-be46-a31cf6efb2f1",
   "metadata": {},
   "source": [
    "Выведите список новостроек в порядке убывания общего количества квартир.  "
   ]
  },
  {
   "cell_type": "code",
   "execution_count": 61,
   "id": "c7dc8291-1a8e-4d1c-9317-ee8f0d9cf741",
   "metadata": {},
   "outputs": [
    {
     "data": {
      "text/html": [
       "<table>\n",
       "    <thead>\n",
       "        <tr>\n",
       "            <th>brand</th>\n",
       "            <th>count</th>\n",
       "        </tr>\n",
       "    </thead>\n",
       "    <tbody>\n",
       "        <tr>\n",
       "            <td>level.ru</td>\n",
       "            <td>12459</td>\n",
       "        </tr>\n",
       "        <tr>\n",
       "            <td>donstroy.moscow</td>\n",
       "            <td>5920</td>\n",
       "        </tr>\n",
       "        <tr>\n",
       "            <td>gk-osnova.ru</td>\n",
       "            <td>2973</td>\n",
       "        </tr>\n",
       "        <tr>\n",
       "            <td>fr.mos.ru</td>\n",
       "            <td>2533</td>\n",
       "        </tr>\n",
       "        <tr>\n",
       "            <td>Capital Group</td>\n",
       "            <td>48</td>\n",
       "        </tr>\n",
       "        <tr>\n",
       "            <td>Галс-Девелопмент</td>\n",
       "            <td>2</td>\n",
       "        </tr>\n",
       "    </tbody>\n",
       "</table>"
      ],
      "text/plain": [
       "[('level.ru', 12459),\n",
       " ('donstroy.moscow', 5920),\n",
       " ('gk-osnova.ru', 2973),\n",
       " ('fr.mos.ru', 2533),\n",
       " ('Capital Group', 48),\n",
       " ('Галс-Девелопмент', 2)]"
      ]
     },
     "execution_count": 61,
     "metadata": {},
     "output_type": "execute_result"
    }
   ],
   "source": [
    "%%sql\n",
    "SELECT brand, COUNT(DISTINCT title) as count\n",
    "FROM copied\n",
    "GROUP BY brand\n",
    "ORDER BY count DESC\n",
    "LIMIT 10"
   ]
  },
  {
   "cell_type": "markdown",
   "id": "54643c98-ef8a-430c-b1b5-1ef4bdd2b512",
   "metadata": {},
   "source": [
    "Найдите среднюю площадь квартир в новостройках с количеством комнат больше 3  "
   ]
  },
  {
   "cell_type": "code",
   "execution_count": 65,
   "id": "fadc311e-9d0a-48f0-a461-e0ee403b9fc1",
   "metadata": {},
   "outputs": [
    {
     "data": {
      "text/html": [
       "<table>\n",
       "    <thead>\n",
       "        <tr>\n",
       "            <th>apartment_ppm_total</th>\n",
       "        </tr>\n",
       "    </thead>\n",
       "    <tbody>\n",
       "        <tr>\n",
       "            <td>532762.0</td>\n",
       "        </tr>\n",
       "    </tbody>\n",
       "</table>"
      ],
      "text/plain": [
       "[(532762.0,)]"
      ]
     },
     "execution_count": 65,
     "metadata": {},
     "output_type": "execute_result"
    }
   ],
   "source": [
    "%%sql\n",
    "SELECT ROUND(AVG(apartment_ppm)) as apartment_ppm_total\n",
    "FROM copied\n",
    "WHERE datetime_create like \"2024-06-10%\" and apartment_ppm > 0 and apartment_room > 3\n",
    "LIMIT 10"
   ]
  },
  {
   "cell_type": "markdown",
   "id": "f895698b-3e50-4b2b-ba05-99c8777a9d75",
   "metadata": {},
   "source": [
    "Найдите среднюю цену квадратного метра по всем новостройкам на конкретный день.  "
   ]
  },
  {
   "cell_type": "code",
   "execution_count": 66,
   "id": "ed9b319d-702f-4f0d-9dd1-dadec6e58771",
   "metadata": {},
   "outputs": [
    {
     "data": {
      "text/html": [
       "<table>\n",
       "    <thead>\n",
       "        <tr>\n",
       "            <th>apartment_ppm_total</th>\n",
       "        </tr>\n",
       "    </thead>\n",
       "    <tbody>\n",
       "        <tr>\n",
       "            <td>441790.0</td>\n",
       "        </tr>\n",
       "    </tbody>\n",
       "</table>"
      ],
      "text/plain": [
       "[(441790.0,)]"
      ]
     },
     "execution_count": 66,
     "metadata": {},
     "output_type": "execute_result"
    }
   ],
   "source": [
    "%%sql\n",
    "SELECT ROUND(AVG(apartment_ppm)) as apartment_ppm_total\n",
    "FROM copied\n",
    "WHERE datetime_create like \"2023-06-10%\" and apartment_ppm > 0\n",
    "LIMIT 10"
   ]
  },
  {
   "cell_type": "markdown",
   "id": "c9df5b7b-f465-41a2-9f2d-2a1bb819159c",
   "metadata": {},
   "source": [
    "Найдите среднюю цену за квадратный метр в новостройках с количеством этажей больше 15."
   ]
  },
  {
   "cell_type": "code",
   "execution_count": 67,
   "id": "f21d3b97-b789-4d9c-b4c6-6b68ed228732",
   "metadata": {},
   "outputs": [
    {
     "data": {
      "text/html": [
       "<table>\n",
       "    <thead>\n",
       "        <tr>\n",
       "            <th>apartment_ppm_total</th>\n",
       "        </tr>\n",
       "    </thead>\n",
       "    <tbody>\n",
       "        <tr>\n",
       "            <td>453861.0</td>\n",
       "        </tr>\n",
       "    </tbody>\n",
       "</table>"
      ],
      "text/plain": [
       "[(453861.0,)]"
      ]
     },
     "execution_count": 67,
     "metadata": {},
     "output_type": "execute_result"
    }
   ],
   "source": [
    "%%sql\n",
    "SELECT ROUND(AVG(apartment_ppm)) as apartment_ppm_total\n",
    "FROM copied\n",
    "WHERE datetime_create like \"2024-06-10%\" and apartment_floors_total > 15\n",
    "LIMIT 10"
   ]
  },
  {
   "cell_type": "markdown",
   "id": "fb7ad901-de35-4d44-b782-a987f92a8377",
   "metadata": {},
   "source": [
    "Найти все новостройки которые появились в 2023 году  "
   ]
  },
  {
   "cell_type": "code",
   "execution_count": 84,
   "id": "b6a3c99b-0e2e-491f-acc9-5c37607ba9f1",
   "metadata": {},
   "outputs": [
    {
     "data": {
      "text/html": [
       "<table>\n",
       "    <thead>\n",
       "        <tr>\n",
       "            <th>title</th>\n",
       "        </tr>\n",
       "    </thead>\n",
       "    <tbody>\n",
       "        <tr>\n",
       "            <td>Павелецкая Сити 6 9 23.6 ул. Дубининская, д. 59-69 55.71962004653103,37.63727228350035</td>\n",
       "        </tr>\n",
       "        <tr>\n",
       "            <td>Стрешнево Восток 16 21.5 Волоколамское ш., д. 81, корп. 2 55.82495356307498,37.411886931513436</td>\n",
       "        </tr>\n",
       "        <tr>\n",
       "            <td>Академическая 1 9 25.4 Профсоюзная ул., д. 2/22 55.687477,37.572378</td>\n",
       "        </tr>\n",
       "        <tr>\n",
       "            <td>Причальный Юг 14 22.1 Причальный пр., д. 8 55.76018,37.517482</td>\n",
       "        </tr>\n",
       "        <tr>\n",
       "            <td>Причальный Bосток 25 65.4 Причальный пр., д. 8 55.76018,37.517482</td>\n",
       "        </tr>\n",
       "        <tr>\n",
       "            <td>Причальный Bосток 27 65.3 Причальный пр., д. 8 55.76018,37.517482</td>\n",
       "        </tr>\n",
       "        <tr>\n",
       "            <td>Нагатинская В 11 56.0 г. Москва, Нагатинская набережная, уч. 10А 55.682432,37.637749</td>\n",
       "        </tr>\n",
       "        <tr>\n",
       "            <td>Нагатинская D 9 45.2 г. Москва, Нагатинская набережная, уч. 10А 55.682432,37.637749</td>\n",
       "        </tr>\n",
       "        <tr>\n",
       "            <td>Павелецкая Сити 7 4 62.7 ул. Дубининская, д. 59-69 55.71962004653103,37.63727228350035</td>\n",
       "        </tr>\n",
       "        <tr>\n",
       "            <td>Павелецкая Сити 9 17 78.9 ул. Дубининская, д. 59-69 55.71962004653103,37.63727228350035</td>\n",
       "        </tr>\n",
       "    </tbody>\n",
       "</table>"
      ],
      "text/plain": [
       "[('Павелецкая Сити 6 9 23.6 ул. Дубининская, д. 59-69 55.71962004653103,37.63727228350035',),\n",
       " ('Стрешнево Восток 16 21.5 Волоколамское ш., д. 81, корп. 2 55.82495356307498,37.411886931513436',),\n",
       " ('Академическая 1 9 25.4 Профсоюзная ул., д. 2/22 55.687477,37.572378',),\n",
       " ('Причальный Юг 14 22.1 Причальный пр., д. 8 55.76018,37.517482',),\n",
       " ('Причальный Bосток 25 65.4 Причальный пр., д. 8 55.76018,37.517482',),\n",
       " ('Причальный Bосток 27 65.3 Причальный пр., д. 8 55.76018,37.517482',),\n",
       " ('Нагатинская В 11 56.0 г. Москва, Нагатинская набережная, уч. 10А 55.682432,37.637749',),\n",
       " ('Нагатинская D 9 45.2 г. Москва, Нагатинская набережная, уч. 10А 55.682432,37.637749',),\n",
       " ('Павелецкая Сити 7 4 62.7 ул. Дубининская, д. 59-69 55.71962004653103,37.63727228350035',),\n",
       " ('Павелецкая Сити 9 17 78.9 ул. Дубининская, д. 59-69 55.71962004653103,37.63727228350035',)]"
      ]
     },
     "execution_count": 84,
     "metadata": {},
     "output_type": "execute_result"
    }
   ],
   "source": [
    "%%sql\n",
    "SELECT DISTINCT title\n",
    "FROM copied\n",
    "WHERE datetime_create like \"2023%\" and title not in (\n",
    "    SELECT title\n",
    "    FROM copied\n",
    "    WHERE datetime_create like \"2022-12-31%\"\n",
    ")\n",
    "LIMIT 10"
   ]
  },
  {
   "cell_type": "markdown",
   "id": "71cf968e-f47c-4ae6-90ed-09ba4042c06c",
   "metadata": {},
   "source": [
    "Найти все новостройки которые имеют больше 50 квартир  "
   ]
  },
  {
   "cell_type": "code",
   "execution_count": 97,
   "id": "3eb9e2d0-d92e-45fa-ba14-2897ea39d310",
   "metadata": {},
   "outputs": [
    {
     "data": {
      "text/html": [
       "<table>\n",
       "    <thead>\n",
       "        <tr>\n",
       "            <th>brand</th>\n",
       "            <th>count</th>\n",
       "        </tr>\n",
       "    </thead>\n",
       "    <tbody>\n",
       "        <tr>\n",
       "            <td>level.ru</td>\n",
       "            <td>12459</td>\n",
       "        </tr>\n",
       "        <tr>\n",
       "            <td>donstroy.moscow</td>\n",
       "            <td>5920</td>\n",
       "        </tr>\n",
       "        <tr>\n",
       "            <td>gk-osnova.ru</td>\n",
       "            <td>2973</td>\n",
       "        </tr>\n",
       "        <tr>\n",
       "            <td>fr.mos.ru</td>\n",
       "            <td>2533</td>\n",
       "        </tr>\n",
       "    </tbody>\n",
       "</table>"
      ],
      "text/plain": [
       "[('level.ru', 12459),\n",
       " ('donstroy.moscow', 5920),\n",
       " ('gk-osnova.ru', 2973),\n",
       " ('fr.mos.ru', 2533)]"
      ]
     },
     "execution_count": 97,
     "metadata": {},
     "output_type": "execute_result"
    }
   ],
   "source": [
    "%%sql\n",
    "SELECT brand, COUNT(DISTINCT title) as count\n",
    "FROM copied\n",
    "GROUP BY brand\n",
    "HAVING count > 50\n",
    "ORDER BY count DESC\n",
    "LIMIT 10"
   ]
  },
  {
   "cell_type": "markdown",
   "id": "1cac8b36-3e27-4453-a9e5-cd0f6a5f0709",
   "metadata": {},
   "source": [
    "Найдите максимальную и минимальную цену среди всех новостроек  "
   ]
  },
  {
   "cell_type": "code",
   "execution_count": 99,
   "id": "7358f245-6004-4110-9546-91db6e269b95",
   "metadata": {},
   "outputs": [
    {
     "data": {
      "text/html": [
       "<table>\n",
       "    <thead>\n",
       "        <tr>\n",
       "            <th>MIN(price_sale)</th>\n",
       "            <th>MAX(price_sale)</th>\n",
       "        </tr>\n",
       "    </thead>\n",
       "    <tbody>\n",
       "        <tr>\n",
       "            <td>551000</td>\n",
       "            <td>847419076</td>\n",
       "        </tr>\n",
       "    </tbody>\n",
       "</table>"
      ],
      "text/plain": [
       "[(551000, 847419076)]"
      ]
     },
     "execution_count": 99,
     "metadata": {},
     "output_type": "execute_result"
    }
   ],
   "source": [
    "%%sql\n",
    "SELECT MIN(price_sale), MAX(price_sale)\n",
    "FROM copied\n",
    "WHERE price_sale > 0\n",
    "LIMIT 10"
   ]
  },
  {
   "cell_type": "markdown",
   "id": "9b91d744-b65b-43a4-b3c4-9fa3767b93f2",
   "metadata": {},
   "source": [
    "Найти все новостройки в которых есть квартиры площадью больше 100 кв метров  "
   ]
  },
  {
   "cell_type": "code",
   "execution_count": 101,
   "id": "9203faac-fb6f-4eb8-a730-f2903fe4ce6d",
   "metadata": {},
   "outputs": [
    {
     "data": {
      "text/html": [
       "<table>\n",
       "    <thead>\n",
       "        <tr>\n",
       "            <th>title</th>\n",
       "            <th>apartment_area</th>\n",
       "        </tr>\n",
       "    </thead>\n",
       "    <tbody>\n",
       "        <tr>\n",
       "            <td>Саввинская 27 27 2 137.5 Саввинская 27 55.730669,37.557942</td>\n",
       "            <td>137.5</td>\n",
       "        </tr>\n",
       "        <tr>\n",
       "            <td>Саввинская 27 27 3 139.5 Саввинская 27 55.730669,37.557942</td>\n",
       "            <td>139.5</td>\n",
       "        </tr>\n",
       "        <tr>\n",
       "            <td>Саввинская 17 17 4 110.5  55.734600731695195,37.565715889000494</td>\n",
       "            <td>110.5</td>\n",
       "        </tr>\n",
       "        <tr>\n",
       "            <td>Саввинская 27 27 6 189.9 Саввинская 27 55.730669,37.557942</td>\n",
       "            <td>189.9</td>\n",
       "        </tr>\n",
       "        <tr>\n",
       "            <td>Мичуринский 6 15 112.3 Озерная ул., вл. 7 55.687726,37.471704</td>\n",
       "            <td>112.3</td>\n",
       "        </tr>\n",
       "        <tr>\n",
       "            <td>Мичуринский 5 36 178.0 Озерная ул., вл. 7 55.687726,37.471704</td>\n",
       "            <td>178</td>\n",
       "        </tr>\n",
       "        <tr>\n",
       "            <td>Мичуринский 5 36 245.5 Озерная ул., вл. 7 55.687726,37.471704</td>\n",
       "            <td>245.5</td>\n",
       "        </tr>\n",
       "        <tr>\n",
       "            <td>Мичуринский 6 18 112.3 Озерная ул., вл. 7 55.687726,37.471704</td>\n",
       "            <td>112.3</td>\n",
       "        </tr>\n",
       "        <tr>\n",
       "            <td>Мичуринский 5 36 185.9 Озерная ул., вл. 7 55.687726,37.471704</td>\n",
       "            <td>185.9</td>\n",
       "        </tr>\n",
       "        <tr>\n",
       "            <td>Мичуринский 4 44 249.1 Озерная ул., вл. 7 55.687726,37.471704</td>\n",
       "            <td>249.1</td>\n",
       "        </tr>\n",
       "    </tbody>\n",
       "</table>"
      ],
      "text/plain": [
       "[('Саввинская 27 27 2 137.5 Саввинская 27 55.730669,37.557942', 137.5),\n",
       " ('Саввинская 27 27 3 139.5 Саввинская 27 55.730669,37.557942', 139.5),\n",
       " ('Саввинская 17 17 4 110.5  55.734600731695195,37.565715889000494', 110.5),\n",
       " ('Саввинская 27 27 6 189.9 Саввинская 27 55.730669,37.557942', 189.9),\n",
       " ('Мичуринский 6 15 112.3 Озерная ул., вл. 7 55.687726,37.471704', 112.3),\n",
       " ('Мичуринский 5 36 178.0 Озерная ул., вл. 7 55.687726,37.471704', 178),\n",
       " ('Мичуринский 5 36 245.5 Озерная ул., вл. 7 55.687726,37.471704', 245.5),\n",
       " ('Мичуринский 6 18 112.3 Озерная ул., вл. 7 55.687726,37.471704', 112.3),\n",
       " ('Мичуринский 5 36 185.9 Озерная ул., вл. 7 55.687726,37.471704', 185.9),\n",
       " ('Мичуринский 4 44 249.1 Озерная ул., вл. 7 55.687726,37.471704', 249.1)]"
      ]
     },
     "execution_count": 101,
     "metadata": {},
     "output_type": "execute_result"
    }
   ],
   "source": [
    "%%sql\n",
    "SELECT DISTINCT title, apartment_area\n",
    "FROM copied\n",
    "WHERE apartment_area > 100\n",
    "LIMIT 10"
   ]
  },
  {
   "cell_type": "markdown",
   "id": "78e2fcfa-3791-4c36-ae91-c98e7b275a8f",
   "metadata": {},
   "source": [
    "Найти новостройки котрые были построекны застройщщиком Донстрой  "
   ]
  },
  {
   "cell_type": "code",
   "execution_count": 103,
   "id": "02fc27c8-99ae-46e6-a89a-7f36cd19b8c5",
   "metadata": {},
   "outputs": [
    {
     "data": {
      "text/html": [
       "<table>\n",
       "    <thead>\n",
       "        <tr>\n",
       "            <th>title</th>\n",
       "            <th>brand</th>\n",
       "        </tr>\n",
       "    </thead>\n",
       "    <tbody>\n",
       "        <tr>\n",
       "            <td>Символ Независимость Корпус 19, 2 секц 4 27.1</td>\n",
       "            <td>donstroy.moscow</td>\n",
       "        </tr>\n",
       "        <tr>\n",
       "            <td>Символ Независимость Корпус 19, 2 секц 3 28.3</td>\n",
       "            <td>donstroy.moscow</td>\n",
       "        </tr>\n",
       "        <tr>\n",
       "            <td>Символ Независимость Корпус 19, 2 секц 3 29.9</td>\n",
       "            <td>donstroy.moscow</td>\n",
       "        </tr>\n",
       "        <tr>\n",
       "            <td>Символ Независимость Корпус 19, 2 секц 5 27.1</td>\n",
       "            <td>donstroy.moscow</td>\n",
       "        </tr>\n",
       "        <tr>\n",
       "            <td>Символ Независимость Корпус 19, 2 секц 5 29.4</td>\n",
       "            <td>donstroy.moscow</td>\n",
       "        </tr>\n",
       "        <tr>\n",
       "            <td>Символ Независимость Корпус 19, 2 секц 5 28.3</td>\n",
       "            <td>donstroy.moscow</td>\n",
       "        </tr>\n",
       "        <tr>\n",
       "            <td>Символ Независимость Корпус 19, 2 секц 4 29.9</td>\n",
       "            <td>donstroy.moscow</td>\n",
       "        </tr>\n",
       "        <tr>\n",
       "            <td>Символ Независимость Корпус 19, 2 секц 5 29.9</td>\n",
       "            <td>donstroy.moscow</td>\n",
       "        </tr>\n",
       "        <tr>\n",
       "            <td>Символ Независимость Корпус 19, 2 секц 5 31.4</td>\n",
       "            <td>donstroy.moscow</td>\n",
       "        </tr>\n",
       "        <tr>\n",
       "            <td>Символ Независимость Корпус 19, 2 секц 11 35.9</td>\n",
       "            <td>donstroy.moscow</td>\n",
       "        </tr>\n",
       "    </tbody>\n",
       "</table>"
      ],
      "text/plain": [
       "[('Символ Независимость Корпус 19, 2 секц 4 27.1', 'donstroy.moscow'),\n",
       " ('Символ Независимость Корпус 19, 2 секц 3 28.3', 'donstroy.moscow'),\n",
       " ('Символ Независимость Корпус 19, 2 секц 3 29.9', 'donstroy.moscow'),\n",
       " ('Символ Независимость Корпус 19, 2 секц 5 27.1', 'donstroy.moscow'),\n",
       " ('Символ Независимость Корпус 19, 2 секц 5 29.4', 'donstroy.moscow'),\n",
       " ('Символ Независимость Корпус 19, 2 секц 5 28.3', 'donstroy.moscow'),\n",
       " ('Символ Независимость Корпус 19, 2 секц 4 29.9', 'donstroy.moscow'),\n",
       " ('Символ Независимость Корпус 19, 2 секц 5 29.9', 'donstroy.moscow'),\n",
       " ('Символ Независимость Корпус 19, 2 секц 5 31.4', 'donstroy.moscow'),\n",
       " ('Символ Независимость Корпус 19, 2 секц 11 35.9', 'donstroy.moscow')]"
      ]
     },
     "execution_count": 103,
     "metadata": {},
     "output_type": "execute_result"
    }
   ],
   "source": [
    "%%sql\n",
    "SELECT DISTINCT title, brand\n",
    "FROM copied\n",
    "WHERE brand = 'donstroy.moscow'\n",
    "LIMIT 10"
   ]
  },
  {
   "cell_type": "markdown",
   "id": "4b2bd6e0-1cf8-4d8d-9753-76986220d5e7",
   "metadata": {},
   "source": [
    "Найти всех застройщиков которые построили более 5 новостроек в 2023 году  "
   ]
  },
  {
   "cell_type": "code",
   "execution_count": 106,
   "id": "c9090190-ddde-46ff-8b4b-be46ba03329d",
   "metadata": {},
   "outputs": [
    {
     "data": {
      "text/html": [
       "<table>\n",
       "    <thead>\n",
       "        <tr>\n",
       "            <th>brand</th>\n",
       "            <th>count</th>\n",
       "        </tr>\n",
       "    </thead>\n",
       "    <tbody>\n",
       "        <tr>\n",
       "            <td>level.ru</td>\n",
       "            <td>5397</td>\n",
       "        </tr>\n",
       "        <tr>\n",
       "            <td>fr.mos.ru</td>\n",
       "            <td>2220</td>\n",
       "        </tr>\n",
       "        <tr>\n",
       "            <td>Capital Group</td>\n",
       "            <td>48</td>\n",
       "        </tr>\n",
       "    </tbody>\n",
       "</table>"
      ],
      "text/plain": [
       "[('level.ru', 5397), ('fr.mos.ru', 2220), ('Capital Group', 48)]"
      ]
     },
     "execution_count": 106,
     "metadata": {},
     "output_type": "execute_result"
    }
   ],
   "source": [
    "%%sql\n",
    "SELECT brand, COUNT(DISTINCT title) as count\n",
    "FROM copied\n",
    "WHERE datetime_create like \"2023%\" and title not in (\n",
    "    SELECT title\n",
    "    FROM copied\n",
    "    WHERE datetime_create like \"2022-12-31%\"\n",
    ")\n",
    "GROUP BY brand\n",
    "HAVING count > 5\n",
    "ORDER BY count DESC\n",
    "LIMIT 10"
   ]
  },
  {
   "cell_type": "markdown",
   "id": "dd799038-3e1b-4400-a975-dde5c87905b6",
   "metadata": {},
   "source": [
    "Вывести список жилых комплексов с наибольшим количеством проданных квартир за последние 3 месяца. Вывести количество проданных квартир и процент от общего количества квартир этого комплекса"
   ]
  },
  {
   "cell_type": "markdown",
   "id": "e31d528b-8f5f-4104-9473-6c0bc211cd23",
   "metadata": {},
   "source": [
    "# Задачи с обогащением:"
   ]
  },
  {
   "cell_type": "markdown",
   "id": "7e3b57ee-1275-4708-ae38-b724716478bb",
   "metadata": {},
   "source": [
    "Построить месячный график количества продаж новостроек за последний год.  "
   ]
  },
  {
   "cell_type": "markdown",
   "id": "231a9dd3-9684-43d0-9fc0-2dbc0b498866",
   "metadata": {},
   "source": [
    "Выведите список новостроек в западном районе.  "
   ]
  },
  {
   "cell_type": "markdown",
   "id": "60f70f15-2e88-4362-9d9e-8f198d4e9be9",
   "metadata": {},
   "source": [
    "Найти все новостройки в ЗАО и СЗАО которые имеют больше 10 этажей  "
   ]
  },
  {
   "cell_type": "markdown",
   "id": "4d19d15d-9598-43f1-87f0-c62eb2ba4995",
   "metadata": {},
   "source": [
    "Найти самый популярный размер квартир в каждом округе Москвы, и посчитать количеств продаж каждого размера ( сейчас за размер принимаем количество комнат)  "
   ]
  },
  {
   "cell_type": "markdown",
   "id": "077f8aff-3359-438d-a50c-a4798a7dc322",
   "metadata": {},
   "source": [
    "Найти все новостройки в пределах заданного радиуса от опеределнного места. И определить расстояние от каждой новостройки до заданного места, распределив их по возрастанию расстояния до заданного места.  "
   ]
  },
  {
   "cell_type": "markdown",
   "id": "fafe1d96-a107-445f-b19d-9bf210e3da79",
   "metadata": {},
   "source": [
    "Построить график средней стоимости квадратного метра по месяцам, начиная с q2 2023 по q2 2024  "
   ]
  },
  {
   "cell_type": "markdown",
   "id": "c904eafa-c796-4159-b006-f12c70bb6e93",
   "metadata": {},
   "source": [
    "Найти все новостройки в которых есть квартиры с видом на определенный объект ( например парк, реку, останкинскую телебашню, москва сити или другую достопримечательность)."
   ]
  },
  {
   "cell_type": "markdown",
   "id": "b65252e0-61c4-4bbb-aca6-848502e3e1b7",
   "metadata": {},
   "source": [
    "Показать информацию о количестве квартир с таким видом их средние площади и стоимости.  "
   ]
  },
  {
   "cell_type": "markdown",
   "id": "a31e6145-72f0-47b9-9353-c575a8c7744d",
   "metadata": {},
   "source": [
    "Вывести список жилых комплексов с наибольшей разницей между стоимостью квартир в них и среденей стоимостью квартир в районе. Рассчитать процентное отклонение цены каждой квартиры от средней цены по району.  "
   ]
  },
  {
   "cell_type": "markdown",
   "id": "4d32e9fb-5ae6-4025-8327-1a66c2d5c41c",
   "metadata": {},
   "source": [
    "Начиная с 2023 года, построить несколько графиков по месяцам : стоимости кв метра квартир, курса доллара(сколько рублей за один доллар), ключевой ставки, уровень безработиц, численность населения в городе, среднее количество детей в семье, количество сделок по ипотеке, количество сделок по льготным ипотечным программам,  "
   ]
  },
  {
   "cell_type": "markdown",
   "id": "1715089b-1fae-471f-8156-b541121ee8b0",
   "metadata": {},
   "source": [
    "Найти все новостройки информация о которых появилась в 2023 году имеют рейтинг выше среднего по городу. Вывести список этих новостроек, среднее, минимальное и максимальное количество этажей в них, в разрезе типа квартир ( тип это количество комнат ) с количеством квартир.  "
   ]
  },
  {
   "cell_type": "markdown",
   "id": "818827eb-ece9-496e-a31c-b41883d2a9e0",
   "metadata": {},
   "source": [
    "Вывести весь жк квартиры в которых были введены в эксплуатацию с чистовой отделкой в 2024 году  "
   ]
  },
  {
   "cell_type": "markdown",
   "id": "5cc6a272-1d32-4e36-8454-3640a424deb8",
   "metadata": {},
   "source": [
    "вывести список жк бизнес класса в ВАО города Москвы района Измайлово, ключи от которых владельцы получили в 2023  "
   ]
  },
  {
   "cell_type": "markdown",
   "id": "e283cc9c-01b9-4654-a8fe-8f3cfb3d15eb",
   "metadata": {},
   "source": [
    "Выведите жк где соотношение количества квартир к количеств парковочных мест меньше 2.5  "
   ]
  },
  {
   "cell_type": "markdown",
   "id": "116cf34d-f843-4976-8296-c7d0e12f162c",
   "metadata": {},
   "source": [
    "Введите количество квартир в кирпичных домах города Москвы  "
   ]
  },
  {
   "cell_type": "markdown",
   "id": "ad867adb-aad6-4ed2-ac17-7d1b6f42c253",
   "metadata": {},
   "source": [
    "Определите среднее время оживания лита в домах застройщика level  "
   ]
  },
  {
   "cell_type": "markdown",
   "id": "22402979-4fe2-4e1e-83d6-343148d9c06f",
   "metadata": {},
   "source": [
    "Выведите список жк от которых до ближайшей станции метро 10 минут пешком  "
   ]
  },
  {
   "cell_type": "markdown",
   "id": "23e5c53b-f3bb-45eb-b9ed-48b1bc13d96e",
   "metadata": {},
   "source": [
    "Выведите общее число объектов застройщиков которые больше 20 лет на рынке, и при качестве объектов выше среднего."
   ]
  },
  {
   "cell_type": "markdown",
   "id": "d0af18a6-704e-48d4-9874-7cb90f6285c3",
   "metadata": {},
   "source": [
    "# Задачи на подумать и предложить"
   ]
  },
  {
   "cell_type": "markdown",
   "id": "2e2792b6-1054-4640-bedd-b2979feb0ebc",
   "metadata": {},
   "source": [
    "Выдвинуть 10 гипотез и проверить их на основе данных ( если данных не хватает то добавить данными из интернета)  "
   ]
  },
  {
   "cell_type": "markdown",
   "id": "6fb39df5-c232-48aa-9cc3-1cfa99806ad6",
   "metadata": {},
   "source": [
    "Гипотеза 1 - стоимость квартиры зависит от площади  "
   ]
  },
  {
   "cell_type": "markdown",
   "id": "27e5cffc-da18-4295-be4a-6b24f5ea344d",
   "metadata": {},
   "source": [
    "Гипотеза 2 - стоимость квартиры зависит от расстояния до центра города  "
   ]
  },
  {
   "cell_type": "markdown",
   "id": "457a3b4b-c058-4e38-99e2-bb51d4fdd3dc",
   "metadata": {},
   "source": [
    "Гипотеза 3 -  "
   ]
  }
 ],
 "metadata": {
  "kernelspec": {
   "display_name": "Python 3 (ipykernel)",
   "language": "python",
   "name": "python3"
  },
  "language_info": {
   "codemirror_mode": {
    "name": "ipython",
    "version": 3
   },
   "file_extension": ".py",
   "mimetype": "text/x-python",
   "name": "python",
   "nbconvert_exporter": "python",
   "pygments_lexer": "ipython3",
   "version": "3.10.10"
  }
 },
 "nbformat": 4,
 "nbformat_minor": 5
}
