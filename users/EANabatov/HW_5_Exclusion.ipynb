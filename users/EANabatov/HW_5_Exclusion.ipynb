{
 "cells": [
  {
   "cell_type": "markdown",
   "metadata": {},
   "source": [
    "# Упражнение - исключения"
   ]
  },
  {
   "cell_type": "markdown",
   "metadata": {},
   "source": [
    "Создать телефонный справочник на основе словаря Python."
   ]
  },
  {
   "cell_type": "code",
   "execution_count": null,
   "metadata": {},
   "outputs": [],
   "source": [
    "dictionary = {\n",
    "    \"Alex\" : 8_915_356_6547,\n",
    "    \"John\" : 8_912_456_3456,\n",
    "    \"Cops\" : 911,\n",
    "    \"DnKr\" : 7_007_007_7777,\n",
    "}"
   ]
  },
  {
   "cell_type": "markdown",
   "metadata": {},
   "source": [
    "Попробовать найти в этом справочнике несуществующее имя. Исследовать полученное исключение."
   ]
  },
  {
   "cell_type": "code",
   "execution_count": null,
   "metadata": {},
   "outputs": [],
   "source": [
    "x = input('введите значение ')\n",
    "dictionary.get(x)"
   ]
  },
  {
   "cell_type": "markdown",
   "metadata": {},
   "source": [
    "- Реализовать телефонный справочник, который выводит сообщение «Такого имени нет» при попытке найти несуществующее имя.\n",
    "- Ввод имени пользователем реализуется функцией input()."
   ]
  },
  {
   "cell_type": "code",
   "execution_count": 48,
   "metadata": {},
   "outputs": [],
   "source": [
    "#input('введите значение')"
   ]
  },
  {
   "cell_type": "code",
   "execution_count": 56,
   "metadata": {},
   "outputs": [
    {
     "ename": "SyntaxError",
     "evalue": "unexpected EOF while parsing (3963748640.py, line 5)",
     "output_type": "error",
     "traceback": [
      "\u001b[0;36m  Cell \u001b[0;32mIn [56], line 5\u001b[0;36m\u001b[0m\n\u001b[0;31m    \u001b[0m\n\u001b[0m    ^\u001b[0m\n\u001b[0;31mSyntaxError\u001b[0m\u001b[0;31m:\u001b[0m unexpected EOF while parsing\n"
     ]
    }
   ],
   "source": [
    "try:\n",
    "    input('введите значение ')\n",
    "    \n",
    "    print(dictionary.get(input))\n",
    "\n"
   ]
  },
  {
   "cell_type": "markdown",
   "metadata": {},
   "source": [
    "Реализовать телефонный справочник, который выводит сообщение «Такого имени нет» при попытке найти несуществующее имя и в любом случае в завершении выводит сообщение «Конец работы программы.»"
   ]
  },
  {
   "cell_type": "code",
   "execution_count": null,
   "metadata": {},
   "outputs": [],
   "source": []
  },
  {
   "cell_type": "markdown",
   "metadata": {},
   "source": [
    "- Реализовать функцию safe_divide, которая принимает от пользователя два целых или вещественных числа и делит одно на другое. Предусмотреть обработку ошибки, возникающей при делении на 0.\n",
    "- Ввод числа пользователем реализуется функцией input().\n",
    "- Синтаксис преобразования типов:  \n",
    "    a = float(input(\"Делимое:\"))"
   ]
  },
  {
   "cell_type": "code",
   "execution_count": null,
   "metadata": {},
   "outputs": [],
   "source": []
  },
  {
   "cell_type": "markdown",
   "metadata": {},
   "source": [
    "Доработать функцию safe_divide, чтобы она также обрабатывала ошибки, возникающие при вводе нечисловых символов.\n",
    "\n",
    "подсказка\n",
    "\n",
    "\n",
    "- Чтобы проверить, какая ошибка возникает при вводе нечисловых символов, нужно воспроизвести эту ситуацию и посмотреть на класс ошибки в сообщении интерпретатора Python (обычно выделяется красным шрифтом).\n"
   ]
  },
  {
   "cell_type": "code",
   "execution_count": null,
   "metadata": {},
   "outputs": [],
   "source": []
  },
  {
   "cell_type": "markdown",
   "metadata": {},
   "source": [
    "- Разработать интерактивный калькулятор: пользователь вводит формулу вида «12 + 8» или «15 - 10», программа вычисляет результат. Достаточно предусмотреть только сложение и вычитание. Предполагается, что первый операнд, знак операции и второй операнд обязательно должны быть разделены пробелами.\n",
    "- Программа должна выводить сообщения об ошибках, если введена неверная формула или нечисловые символы.\n",
    "- Ожидаемый результат и часть решения:"
   ]
  },
  {
   "cell_type": "code",
   "execution_count": null,
   "metadata": {},
   "outputs": [],
   "source": []
  },
  {
   "cell_type": "markdown",
   "metadata": {},
   "source": [
    "Доработать предыдущую программу, чтобы она распознавала операторы деления (/) и умножения (*), а также выводила сообщение в случае деления на 0.\n"
   ]
  },
  {
   "cell_type": "code",
   "execution_count": null,
   "metadata": {},
   "outputs": [],
   "source": []
  }
 ],
 "metadata": {
  "kernelspec": {
   "display_name": "Python 3 (ipykernel)",
   "language": "python",
   "name": "python3"
  },
  "language_info": {
   "codemirror_mode": {
    "name": "ipython",
    "version": 3
   },
   "file_extension": ".py",
   "mimetype": "text/x-python",
   "name": "python",
   "nbconvert_exporter": "python",
   "pygments_lexer": "ipython3",
   "version": "3.9.7"
  }
 },
 "nbformat": 4,
 "nbformat_minor": 2
}
