{
 "cells": [
  {
   "cell_type": "markdown",
   "id": "6cf56431",
   "metadata": {},
   "source": [
    "# Первая часть домашнего задания по SQL"
   ]
  },
  {
   "cell_type": "markdown",
   "id": "541da7ac",
   "metadata": {},
   "source": [
    "## Реализовать на python базу данных по персоналу с двумя таблицами из занятия. Заполнить ее данными.\n"
   ]
  },
  {
   "cell_type": "code",
   "execution_count": 2,
   "id": "a1bd1f96",
   "metadata": {},
   "outputs": [],
   "source": [
    "import sqlite3\n"
   ]
  },
  {
   "cell_type": "code",
   "execution_count": 3,
   "id": "d96296ca",
   "metadata": {},
   "outputs": [
    {
     "name": "stdout",
     "output_type": "stream",
     "text": [
      "База данных создана\n"
     ]
    }
   ],
   "source": [
    "sqlite_connection = sqlite3.connect(\"sql_workers.db\")\n",
    "cursor = sqlite_connection.cursor()\n",
    "print(\"База данных создана\")"
   ]
  },
  {
   "cell_type": "code",
   "execution_count": 4,
   "id": "d3bb4237",
   "metadata": {},
   "outputs": [
    {
     "data": {
      "text/plain": [
       "<sqlite3.Cursor at 0x7f2a5840a650>"
      ]
     },
     "execution_count": 4,
     "metadata": {},
     "output_type": "execute_result"
    }
   ],
   "source": [
    "sql_create_table_workers = \"create table Workers(id int, name varchar(20), surname varchar(20), department_id int, salary int)\"\n",
    "cursor.execute(sql_create_table_workers)"
   ]
  },
  {
   "cell_type": "code",
   "execution_count": 5,
   "id": "9d7bd5f9",
   "metadata": {},
   "outputs": [
    {
     "data": {
      "text/plain": [
       "[]"
      ]
     },
     "execution_count": 5,
     "metadata": {},
     "output_type": "execute_result"
    }
   ],
   "source": [
    "cursor.fetchall()"
   ]
  },
  {
   "cell_type": "code",
   "execution_count": 6,
   "id": "f2c99eec",
   "metadata": {},
   "outputs": [
    {
     "data": {
      "text/plain": [
       "[]"
      ]
     },
     "execution_count": 6,
     "metadata": {},
     "output_type": "execute_result"
    }
   ],
   "source": [
    "cursor.execute(\"\"\"\n",
    "insert into Workers(id, name, surname, department_id, salary)\n",
    "values\n",
    "(1, \"Иван\", \"Иванов\", 1, 5000),\n",
    "(2, \"Светлана\", \"Сидорова\", 1, 4500),\n",
    "(3, \"Илья\", \"Макаров\", 2, 4500),\n",
    "(4, \"Марина\", \"Федорова\", 2, 6000),\n",
    "(5, \"Вадим\", \"Ильин\", 3, 7000),\n",
    "(6, \"Илья\", \"Филатов\", 4, 5500),\n",
    "(7, \"Марина\", \"Сидорова\", 2, 9000),\n",
    "(8, \"Вадим\", \"Ильин\", 3, 7000)\n",
    "\"\"\")\n",
    "cursor.fetchall()"
   ]
  },
  {
   "cell_type": "code",
   "execution_count": 8,
   "id": "fc977ce1",
   "metadata": {},
   "outputs": [
    {
     "data": {
      "text/plain": [
       "[(1, 'Иван', 'Иванов', 1, 5000),\n",
       " (2, 'Светлана', 'Сидорова', 1, 4500),\n",
       " (3, 'Илья', 'Макаров', 2, 4500),\n",
       " (4, 'Марина', 'Федорова', 2, 6000),\n",
       " (5, 'Вадим', 'Ильин', 3, 7000),\n",
       " (6, 'Илья', 'Филатов', 4, 5500),\n",
       " (7, 'Марина', 'Сидорова', 2, 9000),\n",
       " (8, 'Вадим', 'Ильин', 3, 7000)]"
      ]
     },
     "execution_count": 8,
     "metadata": {},
     "output_type": "execute_result"
    }
   ],
   "source": [
    "cursor.execute(\"select * from Workers\")\n",
    "cursor.fetchall()"
   ]
  },
  {
   "cell_type": "code",
   "execution_count": 9,
   "id": "c7cfa559",
   "metadata": {},
   "outputs": [
    {
     "data": {
      "text/plain": [
       "<sqlite3.Cursor at 0x7f2a5840a650>"
      ]
     },
     "execution_count": 9,
     "metadata": {},
     "output_type": "execute_result"
    }
   ],
   "source": [
    "sql_create_table_department = \"create table Department(id int, name varchar(20))\"\n",
    "cursor.execute(sql_create_table_department)"
   ]
  },
  {
   "cell_type": "code",
   "execution_count": 13,
   "id": "9cc8edaf",
   "metadata": {},
   "outputs": [
    {
     "data": {
      "text/plain": [
       "[]"
      ]
     },
     "execution_count": 13,
     "metadata": {},
     "output_type": "execute_result"
    }
   ],
   "source": [
    "cursor.execute(\"\"\"\n",
    "insert into Department(id, name) \n",
    "values\n",
    "(1, \"Маркетинг\"),\n",
    "(2, \"Продажи\"),\n",
    "(3, \"Бухгалтерия\")\n",
    "\"\"\")\n",
    "cursor.fetchall()"
   ]
  },
  {
   "cell_type": "code",
   "execution_count": 14,
   "id": "567233da",
   "metadata": {},
   "outputs": [
    {
     "data": {
      "text/plain": [
       "[(1, 'Маркетинг'), (2, 'Продажи'), (3, 'Бухгалтерия')]"
      ]
     },
     "execution_count": 14,
     "metadata": {},
     "output_type": "execute_result"
    }
   ],
   "source": [
    "cursor.execute(\"select * from Department\")\n",
    "cursor.fetchall()"
   ]
  },
  {
   "cell_type": "markdown",
   "id": "13096336",
   "metadata": {},
   "source": [
    "## Написать select который вернет таблицу содержащую названия отделов, среднюю зарплату в отдел, отсортированных по убыванию средне зп.\n"
   ]
  },
  {
   "cell_type": "code",
   "execution_count": 17,
   "id": "645f9d2a",
   "metadata": {},
   "outputs": [
    {
     "data": {
      "text/plain": [
       "[('Бухгалтерия', 7000.0), ('Продажи', 6500.0), ('Маркетинг', 4750.0)]"
      ]
     },
     "execution_count": 17,
     "metadata": {},
     "output_type": "execute_result"
    }
   ],
   "source": [
    "cursor.execute(\"\"\"\n",
    "select Department.name as \"Департамент\", avg(salary)\n",
    "from Workers\n",
    "join Department on Workers.department_id = Department.id\n",
    "group by department_id\n",
    "order by avg(salary) desc\n",
    "\"\"\")\n",
    "cursor.fetchall()"
   ]
  },
  {
   "cell_type": "markdown",
   "id": "891441a9",
   "metadata": {},
   "source": [
    "## Добавить в первый отдел еще одно сотрудника с ЗП 1000 и посмотреть как изменится результат."
   ]
  },
  {
   "cell_type": "code",
   "execution_count": 18,
   "id": "116a2d6b",
   "metadata": {},
   "outputs": [
    {
     "data": {
      "text/plain": [
       "[]"
      ]
     },
     "execution_count": 18,
     "metadata": {},
     "output_type": "execute_result"
    }
   ],
   "source": [
    "cursor.execute(\"\"\"\n",
    "insert into Workers(id, name, surname, department_id, salary)\n",
    "values\n",
    "(9, \"Марк\", \"Иванов\", 1, 1000)\n",
    "\"\"\")\n",
    "cursor.fetchall()"
   ]
  },
  {
   "cell_type": "code",
   "execution_count": 19,
   "id": "a2d74e54",
   "metadata": {},
   "outputs": [
    {
     "data": {
      "text/plain": [
       "[('Бухгалтерия', 7000.0), ('Продажи', 6500.0), ('Маркетинг', 3500.0)]"
      ]
     },
     "execution_count": 19,
     "metadata": {},
     "output_type": "execute_result"
    }
   ],
   "source": [
    "cursor.execute(\"\"\"select Department.name as \"Департамент\", avg(salary)\n",
    "from Workers\n",
    "join Department on Workers.department_id = Department.id\n",
    "group by department_id\n",
    "order by avg(salary) desc\n",
    "\"\"\")\n",
    "cursor.fetchall()"
   ]
  },
  {
   "cell_type": "code",
   "execution_count": 20,
   "id": "4401a83f",
   "metadata": {},
   "outputs": [],
   "source": [
    "sqlite_connection.close()"
   ]
  },
  {
   "cell_type": "code",
   "execution_count": null,
   "id": "1e54e345",
   "metadata": {},
   "outputs": [],
   "source": []
  }
 ],
 "metadata": {
  "kernelspec": {
   "display_name": "Python 3 (ipykernel)",
   "language": "python",
   "name": "python3"
  },
  "language_info": {
   "codemirror_mode": {
    "name": "ipython",
    "version": 3
   },
   "file_extension": ".py",
   "mimetype": "text/x-python",
   "name": "python",
   "nbconvert_exporter": "python",
   "pygments_lexer": "ipython3",
   "version": "3.9.7"
  }
 },
 "nbformat": 4,
 "nbformat_minor": 5
}
