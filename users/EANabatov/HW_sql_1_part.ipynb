{
 "cells": [
  {
   "cell_type": "markdown",
   "id": "0693a4a4",
   "metadata": {},
   "source": [
    "# Первая часть домашнего задания по SQL"
   ]
  },
  {
   "cell_type": "markdown",
   "id": "ed089721",
   "metadata": {},
   "source": [
    "## Реализовать на python базу данных по персоналу с двумя таблицами из занятия.\n"
   ]
  },
  {
   "cell_type": "code",
   "execution_count": null,
   "id": "813fffef",
   "metadata": {},
   "outputs": [],
   "source": []
  },
  {
   "cell_type": "markdown",
   "id": "f57b7656",
   "metadata": {},
   "source": [
    "## Заполнить ее данными.\n"
   ]
  },
  {
   "cell_type": "code",
   "execution_count": null,
   "id": "059229bb",
   "metadata": {},
   "outputs": [],
   "source": []
  },
  {
   "cell_type": "markdown",
   "id": "d61725b7",
   "metadata": {},
   "source": [
    "## Написать select который вернет таблицу содержащую названия отделов, среднюю зарплату в отдел, отсортированных по убыванию средне зп.\n"
   ]
  },
  {
   "cell_type": "code",
   "execution_count": null,
   "id": "ca4e1b23",
   "metadata": {},
   "outputs": [],
   "source": []
  },
  {
   "cell_type": "markdown",
   "id": "6fd9121d",
   "metadata": {},
   "source": [
    "## Добавить в первый отдел еще одно сотрудника с ЗП 1000 и посмотреть как изменится результат."
   ]
  },
  {
   "cell_type": "code",
   "execution_count": null,
   "id": "99b5e8a6",
   "metadata": {},
   "outputs": [],
   "source": []
  },
  {
   "cell_type": "code",
   "execution_count": null,
   "id": "90238851",
   "metadata": {},
   "outputs": [],
   "source": []
  }
 ],
 "metadata": {
  "kernelspec": {
   "display_name": "Python 3 (ipykernel)",
   "language": "python",
   "name": "python3"
  },
  "language_info": {
   "codemirror_mode": {
    "name": "ipython",
    "version": 3
   },
   "file_extension": ".py",
   "mimetype": "text/x-python",
   "name": "python",
   "nbconvert_exporter": "python",
   "pygments_lexer": "ipython3",
   "version": "3.9.7"
  }
 },
 "nbformat": 4,
 "nbformat_minor": 5
}
