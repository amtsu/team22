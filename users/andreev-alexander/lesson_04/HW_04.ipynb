{
 "cells": [
  {
   "cell_type": "markdown",
   "metadata": {},
   "source": [
    "# Упражнения"
   ]
  },
  {
   "cell_type": "markdown",
   "metadata": {},
   "source": [
    "Написать функцию, которая превращает любую переданную ей строку в такую же строку, записанную два раза."
   ]
  },
  {
   "cell_type": "code",
   "execution_count": 24,
   "metadata": {},
   "outputs": [
    {
     "name": "stdout",
     "output_type": "stream",
     "text": [
      "asdfasdf\n"
     ]
    }
   ],
   "source": [
    "def double_string(string):\n",
    "    return string * 2\n",
    "\n",
    "print(double_string(\"asdf\"))"
   ]
  },
  {
   "cell_type": "markdown",
   "metadata": {},
   "source": [
    "Сделать в предыдущей задаче так, чтобы два повторения строки разделялись пробелами."
   ]
  },
  {
   "cell_type": "code",
   "execution_count": 22,
   "metadata": {},
   "outputs": [
    {
     "name": "stdout",
     "output_type": "stream",
     "text": [
      "asdf asdf\n"
     ]
    }
   ],
   "source": [
    "def double_string(string):\n",
    "    return string + \" \" + string\n",
    "\n",
    "#print(double_string(\"asdf\"), end=\", \")\n",
    "print(double_string(\"asdf\"))"
   ]
  },
  {
   "cell_type": "code",
   "execution_count": 29,
   "metadata": {},
   "outputs": [
    {
     "name": "stdout",
     "output_type": "stream",
     "text": [
      "asdf asdf\n",
      "['a', 'f a', 'f']\n"
     ]
    }
   ],
   "source": [
    "def double_string(string):\n",
    "    return ' '.join([string]*2)\n",
    "\n",
    "st = double_string(\"asdf\")\n",
    "print(st)\n",
    "list_new = st.split('sd')\n",
    "print(list_new)"
   ]
  },
  {
   "cell_type": "code",
   "execution_count": null,
   "metadata": {},
   "outputs": [],
   "source": []
  },
  {
   "cell_type": "markdown",
   "metadata": {},
   "source": [
    "Реализовать функцию, вычисляющую сумму квадратов двух переданных ей аргументов."
   ]
  },
  {
   "cell_type": "code",
   "execution_count": 31,
   "metadata": {},
   "outputs": [
    {
     "name": "stdout",
     "output_type": "stream",
     "text": [
      "5\n"
     ]
    }
   ],
   "source": [
    "def a(x, y):\n",
    "    return x**2 + y**2\n",
    "\n",
    "print(a(1,2))"
   ]
  },
  {
   "cell_type": "markdown",
   "metadata": {},
   "source": [
    "Реализовать функцию, вычисляющую длину гипотенузы прямоугольного треугольника. Параметры – длины катетов."
   ]
  },
  {
   "cell_type": "code",
   "execution_count": 2,
   "metadata": {},
   "outputs": [],
   "source": [
    "#plan_time_take = 15 min\n",
    "#fact_time_take = 45 min\n",
    "#diff = 30 min\n",
    "#percent_fact_plan = 33%\n",
    "\n",
    "import math\n",
    "\n",
    "\n",
    "def get_hypotenuse_length(cathet_one: int | float, cathet_two: int | float) -> int | float:\n",
    "    \"\"\"Рассчитывается длина гипотенузы прямоугольного треугольника.\"\"\"\n",
    "    # Если любой из катетов меньше или равен 0\n",
    "    if not cathet_one >= 1 and cathet_two >= 1:\n",
    "        raise ValueError(\"Катет должен быть больше 0\")\n",
    "    return math.sqrt(cathet_one**2 + cathet_two**2) \n"
   ]
  },
  {
   "cell_type": "code",
   "execution_count": 1,
   "metadata": {},
   "outputs": [
    {
     "ename": "ModuleNotFoundError",
     "evalue": "No module named 'pytest'",
     "output_type": "error",
     "traceback": [
      "\u001b[0;31m---------------------------------------------------------------------------\u001b[0m",
      "\u001b[0;31mModuleNotFoundError\u001b[0m                       Traceback (most recent call last)",
      "Cell \u001b[0;32mIn [1], line 2\u001b[0m\n\u001b[1;32m      1\u001b[0m \u001b[38;5;66;03m#test\u001b[39;00m\n\u001b[0;32m----> 2\u001b[0m \u001b[38;5;28;01mimport\u001b[39;00m \u001b[38;5;21;01mpytest\u001b[39;00m\n\u001b[1;32m      4\u001b[0m \u001b[38;5;28;01mfrom\u001b[39;00m \u001b[38;5;21;01mHW_functions\u001b[39;00m \u001b[38;5;28;01mimport\u001b[39;00m get_hypotenuse_length\n\u001b[1;32m      7\u001b[0m test_cases_math \u001b[38;5;241m=\u001b[39m [\n\u001b[1;32m      8\u001b[0m     (\u001b[38;5;241m2\u001b[39m, \u001b[38;5;241m3\u001b[39m, \u001b[38;5;241m3.605551275463989\u001b[39m),\n\u001b[1;32m      9\u001b[0m     (\u001b[38;5;241m12\u001b[39m, \u001b[38;5;241m33\u001b[39m, \u001b[38;5;241m35.11409973215888\u001b[39m)\n\u001b[1;32m     10\u001b[0m ]\n",
      "\u001b[0;31mModuleNotFoundError\u001b[0m: No module named 'pytest'"
     ]
    }
   ],
   "source": [
    "#test\n",
    "import pytest\n",
    "\n",
    "from HW_functions import get_hypotenuse_length\n",
    "\n",
    "\n",
    "test_cases_math = [\n",
    "    (2, 3, 3.605551275463989),\n",
    "    (12, 33, 35.11409973215888)\n",
    "]\n",
    "\n",
    "@pytest.mark.parametrize(\"cathet_one, cathet_two, expected\", test_cases_math)\n",
    "def test_math(cathet_one, cathet_two, expected):\n",
    "    \"\"\"Проверяется, что математика считается верно.\"\"\"\n",
    "    result = get_hypotenuse_length(cathet_one, cathet_two)\n",
    "    assert result == expected\n",
    "\n",
    "\n",
    "test_cases_value_error = [\n",
    "    (0, 2),\n",
    "    (-1, 3)\n",
    "]\n",
    "\n",
    "@pytest.mark.parametrize(\"cathet_one, cathet_two\", test_cases_value_error)\n",
    "def test_cathet_is_great_or_equal_one(cathet_one, cathet_two):\n",
    "    \"\"\"Проверяется, что, если сторона треугольника <= 0,\n",
    "    то вызывается исключение ValueError.\"\"\"\n",
    "    with pytest.raises(ValueError):\n",
    "        get_hypotenuse_length(cathet_one, cathet_two)\n",
    "\n",
    "\n",
    "def test_cathet_is_string_return_typeerror():\n",
    "    \"\"\"Проверяется, что, если аргумент функции не число, \n",
    "    то вызывается исключение TypeError из пакета math.\"\"\"\n",
    "    with pytest.raises(TypeError):\n",
    "        get_hypotenuse_length(\"12321\", 2)\n"
   ]
  },
  {
   "cell_type": "markdown",
   "metadata": {},
   "source": [
    "Перепешите функцию из предыдущего задания используя следующие воодные:\n",
    "- Указание: для вычисления квадратного корня можно возвести число в степень 0,5.\n",
    "- Можно использовать функцию, написанную в предыдущей задаче."
   ]
  },
  {
   "cell_type": "code",
   "execution_count": null,
   "metadata": {},
   "outputs": [],
   "source": [
    "#plan_time_take = 25 min\n",
    "#fact_time_take = 5 min\n",
    "#diff = -20 min\n",
    "#percent_fact_plan = 500%\n",
    "\n",
    "def get_hypotenuse_length_2(cathet_one: int | float, cathet_two: int | float) -> int | float:\n",
    "    \"\"\"Рассчитывается длина гипотенузы прямоугольного треугольника\n",
    "    с возведением в степень 0.5, вместо взятия корня.\"\"\"\n",
    "    # Если любой из катетов меньше или равен 0\n",
    "    if not cathet_one >= 1 and cathet_two >= 1:\n",
    "        raise ValueError(\"Катет должен быть больше 0\")\n",
    "    return (cathet_one**2 + cathet_two**2)**0.5 \n"
   ]
  },
  {
   "cell_type": "code",
   "execution_count": null,
   "metadata": {},
   "outputs": [],
   "source": [
    "#test\n",
    "import pytest\n",
    "\n",
    "from HW_functions import get_hypotenuse_length_2\n",
    "\n",
    "\n",
    "test_cases_math = [\n",
    "    (2, 3, 3.605551275463989),\n",
    "    (12, 33, 35.11409973215888)\n",
    "]\n",
    "\n",
    "@pytest.mark.parametrize(\"cathet_one, cathet_two, expected\", test_cases_math)\n",
    "def test_math(cathet_one, cathet_two, expected):\n",
    "    \"\"\"Проверяется, что математика считается верно.\"\"\"\n",
    "    result = get_hypotenuse_length_2(cathet_one, cathet_two)\n",
    "    assert result == expected\n",
    "\n",
    "\n",
    "test_cases_value_error = [\n",
    "    (0, 2),\n",
    "    (-1, 3)\n",
    "]\n",
    "\n",
    "@pytest.mark.parametrize(\"cathet_one, cathet_two\", test_cases_value_error)\n",
    "def test_cathet_is_great_or_equal_one(cathet_one, cathet_two):\n",
    "    \"\"\"Проверяется, что сторона, если сторона треугольника <= 0,\n",
    "    то вызывается исключение ValueError.\"\"\"\n",
    "    with pytest.raises(ValueError):\n",
    "        get_hypotenuse_length_2(cathet_one, cathet_two)\n",
    "\n",
    "\n",
    "def test_cathet_is_string_return_typeerror():\n",
    "    \"\"\"Проверяется, что аргумент функции не число,\n",
    "    то вызывается исключение TypeError из пакета math.\"\"\"\n",
    "    with pytest.raises(TypeError):\n",
    "        get_hypotenuse_length_2(\"12321\", 2)\n"
   ]
  },
  {
   "cell_type": "markdown",
   "metadata": {},
   "source": [
    "Написать функцию arithmetic, принимающую 3 аргумента: первые два - числа, третий - операция, которая должна быть произведена над ними.\n",
    "- Если третий аргумент равен ‘+’, сложить их; ‘—’ -вычесть; ‘*’ — умножить; ‘/’ — разделить. В остальных случаях вернуть строку \"Неизвестная операция\".\n",
    "- Ожидаемый результат:"
   ]
  },
  {
   "cell_type": "code",
   "execution_count": null,
   "metadata": {},
   "outputs": [],
   "source": [
    "#plan_time_take = 25 min\n",
    "#fact_time_take = 30 min\n",
    "#diff = 5 min\n",
    "#percent_fact_plan = 83%\n",
    "def arithmetic(num_one: int | float, num_two: int | float, operator: str) -> int | float:\n",
    "    \"\"\"Производится четыре арифметические операции: сложение, вычетание,\n",
    "    умножение и деление.\"\"\"\n",
    "\n",
    "    arithmetic_action = {\n",
    "        \"+\": (num_one + num_two),\n",
    "        \"-\": (num_one - num_two),\n",
    "        \"*\": (num_one * num_two),\n",
    "        \"/\": (num_one / num_two)\n",
    "    }\n",
    "\n",
    "    return arithmetic_action[operator]\n"
   ]
  },
  {
   "cell_type": "code",
   "execution_count": null,
   "metadata": {},
   "outputs": [],
   "source": [
    "#test\n",
    "import pytest\n",
    "\n",
    "from HW_functions import arithmetic\n",
    "\n",
    "\n",
    "test_cases_math = [\n",
    "    (2, 3, \"+\", 5),\n",
    "    (2, 3, \"-\", -1),\n",
    "    (2, 3, \"*\", 6),\n",
    "    (6, 3, \"/\", 2),     \n",
    "    (6, 3.5, \"+\", 9.5)   \n",
    "]\n",
    "\n",
    "@pytest.mark.parametrize(\"num_one, num_two, operator, expected\", test_cases_math)\n",
    "def test_math(num_one, num_two, operator, expected):\n",
    "    \"\"\"Проверяется, что математика считается верно.\"\"\"\n",
    "    assert arithmetic(num_one, num_two, operator) == expected\n",
    "\n",
    "def test_operator_not_math():\n",
    "    \"\"\"Проверяется, operator является одним из валидных\n",
    "    арифметических операторов. Если нет, то вызывается исключение KeyError.\"\"\"\n",
    "    with pytest.raises(KeyError):\n",
    "        arithmetic(2, 2, \"not_math_operator\")\n",
    "\n",
    "def test_params_not_digits():\n",
    "    \"\"\"Проверяется, что параметры функции числа. Если нет, то вызывается\n",
    "    исключение TypeError.\"\"\"\n",
    "    with pytest.raises(TypeError):\n",
    "        arithmetic(\"25\", 5, \"/\")\n",
    "\n",
    "def test_zero_division():\n",
    "    \"\"\"Проверяется, что при делении на 0 вызывается\n",
    "    исключение ZeroDivisionError.\"\"\"\n",
    "    with pytest.raises(ZeroDivisionError):\n",
    "        arithmetic(25, 0, \"/\")\n"
   ]
  },
  {
   "cell_type": "markdown",
   "metadata": {},
   "source": [
    "Написать функцию square_parameters, принимающую 1 аргумент — сторону квадрата, и возвращающую 3 значения: периметр квадрата, площадь квадрата и диагональ квадрата."
   ]
  },
  {
   "cell_type": "code",
   "execution_count": null,
   "metadata": {},
   "outputs": [],
   "source": [
    "#plan_time_take = 20 min\n",
    "#fact_time_take = 27\n",
    "#diff = 7 min\n",
    "#percent_fact_plan = 74%\n",
    "def square_parameters(side_length: int | float) -> list[int | float]:\n",
    "    \"\"\"Функция считает периметр, площадь и диагональ квадрата.\"\"\"\n",
    "    # Если сторона квадрата меньше или равна 0\n",
    "    if not side_length >= 1:\n",
    "        raise ValueError(\"Длина должна быть больше 0\")\n",
    "    perimeter = side_length * 4\n",
    "    square_are = side_length**2\n",
    "    diagonal = math.sqrt(2) * side_length\n",
    "    return [perimeter, square_are, diagonal]\n"
   ]
  },
  {
   "cell_type": "code",
   "execution_count": null,
   "metadata": {},
   "outputs": [],
   "source": [
    "#test\n",
    "import pytest\n",
    "\n",
    "from HW_functions import square_parameters\n",
    "\n",
    "\n",
    "test_cases_math = [\n",
    "    (2, 8, 4, 2.8284271247461903),\n",
    "    (1.2, 4.8, 1.44, 1.697056274847714)     \n",
    "]\n",
    "\n",
    "@pytest.mark.parametrize(\"side_length, perimeter, square_are, diagonal\", test_cases_math)\n",
    "def test_math(side_length, perimeter, square_are, diagonal):\n",
    "    \"\"\"Проверяется, что математика считается верно.\"\"\"\n",
    "    assert square_parameters(side_length) == [perimeter, square_are, diagonal]\n",
    "\n",
    "def test_cathet_is_great_or_equal_one():\n",
    "    \"\"\"Проверяется, что, если сторона квадрата <= 0,\n",
    "    то вызывается исключение ValueError.\"\"\"\n",
    "    with pytest.raises(ValueError):\n",
    "        square_parameters(0)\n",
    "\n",
    "def test_side_length_is_string_return_typeerror():\n",
    "    \"\"\"Проверяется, что, если аргумент функции не число, \n",
    "    то вызывается исключение TypeError из пакета math.\"\"\"\n",
    "    with pytest.raises(TypeError):\n",
    "        square_parameters(\"12321\")\n"
   ]
  },
  {
   "cell_type": "markdown",
   "metadata": {},
   "source": [
    "Написать функцию is_prime, принимающую 1 аргумент — число, и определяющее, простое оно или составное.\n",
    "- Простые числа делятся без остатка только на 1 и на самого себя. Если число делится без остатка на какое-то другое число, то оно составное."
   ]
  },
  {
   "cell_type": "code",
   "execution_count": null,
   "metadata": {},
   "outputs": [],
   "source": [
    "#plan_time_take = 20 min\n",
    "#fact_time_take = \n",
    "# не понял как сделать правильно"
   ]
  },
  {
   "cell_type": "markdown",
   "metadata": {},
   "source": [
    "Написать функцию is_palindrome, принимающую 1 аргумент — строку (без пробелов, строчные буквы), и определяющее, является ли она палиндромом, т.е. читается одинаково слева направо и справа налево. Если да, вернуть True, иначе False."
   ]
  },
  {
   "cell_type": "code",
   "execution_count": null,
   "metadata": {},
   "outputs": [],
   "source": [
    "#plan_time_take = 30 min\n",
    "#fact_time_take = 35 min\n",
    "#diff = 5 min\n",
    "#percent_fact_plan = 86%\n",
    "def is_palindrome(input_string: str) -> bool:\n",
    "    if \" \" in input_string:\n",
    "        raise ValueError(\"Не должно быть пробелов\")\n",
    "    for letter in input_string:\n",
    "        if letter.isupper():\n",
    "            raise ValueError(\"Все буквы должны быть маленькими\")\n",
    "    if input_string == input_string[::-1]:\n",
    "        return True\n",
    "    return False"
   ]
  },
  {
   "cell_type": "code",
   "execution_count": null,
   "metadata": {},
   "outputs": [],
   "source": [
    "#test\n",
    "import pytest\n",
    "\n",
    "from HW_functions import is_palindrome\n",
    "\n",
    "\n",
    "def test_str_with_space_return_value_error():\n",
    "    \"\"\"Проверяется, что строка не содержит пробелов,\n",
    "    иначе вызывается исключение.\"\"\"\n",
    "    with pytest.raises(ValueError):\n",
    "        is_palindrome(\"string with space\")\n",
    "\n",
    "def test_str_with_upper_letter_return_value_error():\n",
    "    \"\"\"Проверяется, что строка не содержит заглавных букв,\n",
    "    иначе вызывается исключение.\"\"\"\n",
    "    with pytest.raises(ValueError):\n",
    "        is_palindrome(\"stringWithCapitalLetter\")\n",
    "\n",
    "def test_return_true():\n",
    "    \"\"\"Проверяется, что функция возвращает True, если\n",
    "    строка - палиндром.\"\"\"\n",
    "    assert is_palindrome(\"abccba\")\n",
    "\n",
    "def test_return_false():\n",
    "    \"\"\"Проверяется, что функция возвращает False, если\n",
    "    строка - не палиндром.\"\"\"\n",
    "    assert is_palindrome(\"aabbb\") == False\n"
   ]
  },
  {
   "cell_type": "markdown",
   "metadata": {},
   "source": [
    "Как решить предыдущую задачу с помощью срезов?"
   ]
  },
  {
   "cell_type": "code",
   "execution_count": null,
   "metadata": {},
   "outputs": [],
   "source": [
    "#plan_time_take = 15 min\n",
    "#fact_time_take = 0\n",
    "# Решил сразу с помощью среза."
   ]
  },
  {
   "cell_type": "markdown",
   "metadata": {},
   "source": [
    "Как решить предыдущую задачу если сразу вернуть результат?"
   ]
  },
  {
   "cell_type": "code",
   "execution_count": null,
   "metadata": {},
   "outputs": [],
   "source": [
    "#plan_time_take = 20 min\n",
    "#fact_time_take = 0\n",
    "# Не понял, что значит \"Сразу вернуть результат\"."
   ]
  },
  {
   "cell_type": "markdown",
   "metadata": {},
   "source": [
    "Усовершенствовать предыдущую функцию, чтобы проверяемая строка могла содержать пробелы, а также прописные и строчные буквы.\n",
    "- Кидал в зубра арбуз Вадик"
   ]
  },
  {
   "cell_type": "code",
   "execution_count": null,
   "metadata": {},
   "outputs": [],
   "source": [
    "#plan_time_take = 20 min\n",
    "#fact_time_take = 11 min\n",
    "#diff = -9 min\n",
    "#percent_fact_plan = 181%\n",
    "def is_palindrome_string(input_string: str) -> bool:\n",
    "    \"\"\"Возвращает True, если строка палиндром, False - если нет.\"\"\"\n",
    "    result_string = input_string.lower().replace(\" \", \"\")\n",
    "    if result_string == result_string[::-1]:\n",
    "        return True\n",
    "    return False\n"
   ]
  },
  {
   "cell_type": "code",
   "execution_count": null,
   "metadata": {},
   "outputs": [],
   "source": [
    "#test\n",
    "import pytest\n",
    "\n",
    "from HW_functions import is_palindrome_string\n",
    "\n",
    "\n",
    "def test_is_palindrome():\n",
    "    assert is_palindrome_string(\"Кидал в зубра арбуз Владик\")\n"
   ]
  }
 ],
 "metadata": {
  "kernelspec": {
   "display_name": "Python 3 (ipykernel)",
   "language": "python",
   "name": "python3"
  },
  "language_info": {
   "codemirror_mode": {
    "name": "ipython",
    "version": 3
   },
   "file_extension": ".py",
   "mimetype": "text/x-python",
   "name": "python",
   "nbconvert_exporter": "python",
   "pygments_lexer": "ipython3",
   "version": "3.9.7"
  }
 },
 "nbformat": 4,
 "nbformat_minor": 2
}
