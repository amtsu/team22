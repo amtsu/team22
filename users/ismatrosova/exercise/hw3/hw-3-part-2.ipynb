{
 "cells": [
  {
   "cell_type": "markdown",
   "id": "dd7a642d-ef54-4f9a-b4b2-831e70ca6b62",
   "metadata": {},
   "source": [
    "Вычислить результат следующих операций: <br>\n",
    "10 * (5 + 3)<br>\n",
    "(20 - 6) / 2<br>\n",
    "2 ** 5 (возведение 2 в 5-ю степень)<br>\n",
    "25 // 4 (целая часть от деления)<br>\n",
    "25 % 4 (остаток от деления)<br>"
   ]
  },
  {
   "cell_type": "code",
   "execution_count": 1,
   "id": "ebfbbd6b-5426-424f-ac20-e4151f64a563",
   "metadata": {},
   "outputs": [
    {
     "name": "stdout",
     "output_type": "stream",
     "text": [
      "80\n",
      "7.0\n",
      "32\n",
      "6\n",
      "1\n"
     ]
    }
   ],
   "source": [
    "multiplication = 10*(5+3)\n",
    "print(multiplication)\n",
    "\n",
    "print((20 - 6) / 2)\n",
    "\n",
    "print(2 ** 5)\n",
    "\n",
    "print(25 // 4)\n",
    "\n",
    "print(25 % 4)\n"
   ]
  },
  {
   "cell_type": "markdown",
   "id": "cdb0bee6-e810-451a-a4f6-619174f7b3a0",
   "metadata": {},
   "source": [
    "Дано дробное число:<br>\n",
    "number = -3.14<br>\n",
    "Выполнить следующие операции:<br>\n",
    "Округлите число до целого.<br>\n",
    "Возьмите остаток числа.<br>"
   ]
  },
  {
   "cell_type": "code",
   "execution_count": 2,
   "id": "c120ea96-a281-4f8c-b72a-936f4e8d6151",
   "metadata": {},
   "outputs": [
    {
     "name": "stdout",
     "output_type": "stream",
     "text": [
      "округление до целого как в програмировании -3\n",
      "округление до целого как в школе -3\n",
      "остаток числа -0.14\n"
     ]
    }
   ],
   "source": [
    "number = -3.14\n",
    "print('округление до целого как в програмировании', int(number))\n",
    "print('округление до целого как в школе', round(number))\n",
    "\n",
    "print('остаток числа', \"%.2f\"%(number-int(number)))"
   ]
  },
  {
   "cell_type": "markdown",
   "id": "e0084c6a-0ad5-4c92-96aa-6479f16f1170",
   "metadata": {},
   "source": [
    "Даны стороны прямоугольника: a = 5, b = 7. <br>\n",
    "Вычислть площадь прямоугольника и вывести результат на экран.<br>"
   ]
  },
  {
   "cell_type": "code",
   "execution_count": 3,
   "id": "653b8e73-9920-4f31-99a2-b626dfb3d819",
   "metadata": {},
   "outputs": [
    {
     "name": "stdout",
     "output_type": "stream",
     "text": [
      "35\n"
     ]
    }
   ],
   "source": [
    "a = 5\n",
    "b = 7\n",
    "S = a*b\n",
    "print(S)"
   ]
  },
  {
   "cell_type": "markdown",
   "id": "c185a9ba-28a2-4aed-8d9f-73ea512d5129",
   "metadata": {},
   "source": [
    "На какой объем воздуха должен быть расчитан кондиционер, если с его помощью хотят охлаждать квартиру в которой размер гостинной 3.5 на 6.4 метра, спальни 3.4 на 4 метра и площадь не жилой части 11 метров. При том что высота потолков 3,1 метр."
   ]
  },
  {
   "cell_type": "code",
   "execution_count": 4,
   "id": "d53c7a72-ec57-4205-af09-4d3a64699acb",
   "metadata": {},
   "outputs": [
    {
     "data": {
      "text/plain": [
       "145.7"
      ]
     },
     "execution_count": 4,
     "metadata": {},
     "output_type": "execute_result"
    }
   ],
   "source": [
    "round((3.5*6.4+3.4*4+11)*3.1,1)"
   ]
  },
  {
   "cell_type": "markdown",
   "id": "1231eaee-c049-47d5-9d26-46725bb3a43a",
   "metadata": {},
   "source": [
    "Дано квадратное уравнение вида ax^2 + bx + c = 0.<br>\n",
    "Найти его решения, используя формулу дискриминанта.<br>\n",
    "a номер текущего месяца<br>\n",
    "b номер вашей группы<br>\n",
    "c минус десять (-10)<br>"
   ]
  },
  {
   "cell_type": "code",
   "execution_count": 5,
   "id": "eef8b200-ef0f-4864-a720-e63b2479319b",
   "metadata": {},
   "outputs": [
    {
     "name": "stdout",
     "output_type": "stream",
     "text": [
      "дискриминант = 129\n",
      "корень1 = 1.09 корень2 = -4.59\n"
     ]
    }
   ],
   "source": [
    "a=2\n",
    "b=7\n",
    "c=-10\n",
    "D = b**2-4*a*c\n",
    "print('дискриминант =', D)\n",
    "if D>0 :\n",
    "    print('корень1 =', round((-b + D ** (0.5))/(2*a),2), 'корень2 =', round((-b - D ** (0.5))/(2*a),2))\n",
    "else:\n",
    "    if D==0:\n",
    "        print('корень =', (-b)/(2*a))\n",
    "    else:\n",
    "        print('кореней нет')\n",
    " "
   ]
  },
  {
   "cell_type": "markdown",
   "id": "db5c9439-3fd0-4144-b239-cc178cfefcf6",
   "metadata": {},
   "source": [
    "Даны строки:<br>\n",
    "string1 = \"hello, \"<br>\n",
    "string2 = \"world!\"<br>\n",
    "Объединить строки string1 и string2 и результат вывести на экран так чтобы первая буква в предложении стала заглавной.<br>"
   ]
  },
  {
   "cell_type": "code",
   "execution_count": 6,
   "id": "4207abf8-44d3-4abb-a5f0-400237e451ed",
   "metadata": {},
   "outputs": [
    {
     "name": "stdout",
     "output_type": "stream",
     "text": [
      "Hello, world!\n"
     ]
    }
   ],
   "source": [
    "string1 = \"hello, \"\n",
    "string2 = \"world!\"\n",
    "str3 = (string1 + string2).capitalize()\n",
    "print(str3)"
   ]
  },
  {
   "cell_type": "markdown",
   "id": "fea0c45a-014e-4725-b391-2fab5183cedb",
   "metadata": {},
   "source": [
    "Сколько символов было в предыдущей строке?"
   ]
  },
  {
   "cell_type": "code",
   "execution_count": 7,
   "id": "245d438e-a22d-466b-8917-9404c6b83001",
   "metadata": {},
   "outputs": [
    {
     "data": {
      "text/plain": [
       "13"
      ]
     },
     "execution_count": 7,
     "metadata": {},
     "output_type": "execute_result"
    }
   ],
   "source": [
    "len(str3)"
   ]
  },
  {
   "cell_type": "markdown",
   "id": "e4569e8a-66ba-4620-a775-8a0f42211fdd",
   "metadata": {},
   "source": [
    "Выведите на экран строку la 25 раз."
   ]
  },
  {
   "cell_type": "code",
   "execution_count": 8,
   "id": "d6627957-5e66-4394-b346-88305ef4403d",
   "metadata": {},
   "outputs": [
    {
     "name": "stdout",
     "output_type": "stream",
     "text": [
      "1 La\n",
      "2 La\n",
      "3 La\n",
      "4 La\n",
      "5 La\n",
      "6 La\n",
      "7 La\n",
      "8 La\n",
      "9 La\n",
      "10 La\n",
      "11 La\n",
      "12 La\n",
      "13 La\n",
      "14 La\n",
      "15 La\n",
      "16 La\n",
      "17 La\n",
      "18 La\n",
      "19 La\n",
      "20 La\n",
      "21 La\n",
      "22 La\n",
      "23 La\n",
      "24 La\n",
      "25 La\n",
      "\n",
      "\n",
      "\n",
      "la la la la la la la la la la la la la la la la la la la la la la la la \n"
     ]
    }
   ],
   "source": [
    "la = \"La\"\n",
    "for x in range(25):\n",
    "    print(x+1,la)\n",
    "print(\"\\n\\n\")\n",
    "print(\"la \"*24)"
   ]
  },
  {
   "cell_type": "markdown",
   "id": "f1b4cf12-30b3-4de6-bd6d-f7681443ab92",
   "metadata": {},
   "source": [
    "Дан список чисел: <br>\n",
    "numbers = [1, 2, 3, 4, 5] <br>\n",
    "Выполнить следующие операции: <br>\n",
    "1. Измените число 2 на строку \"hi\"  <br>\n",
    "2. Выведите значение, находящееся на позиции 2. <br>\n",
    "3. Изменить значение на позиции 4 на список из 3 элементов [8, 6, 4]. <br>\n",
    "Результаты вывести на экран.<br>"
   ]
  },
  {
   "cell_type": "code",
   "execution_count": 9,
   "id": "ecc82715-78a1-4dd8-9ca1-5bcd606cb4d9",
   "metadata": {},
   "outputs": [
    {
     "name": "stdout",
     "output_type": "stream",
     "text": [
      "[1, 2, 3, 4, 5]\n",
      "[1, 'hi', 3, 4, 5]\n",
      "число на позиции 2 это hi\n",
      "[1, 'hi', 3, [8, 6, 4], 5]\n"
     ]
    }
   ],
   "source": [
    "numbers = [1, 2, 3, 4, 5] \n",
    "print (numbers)\n",
    "\n",
    "numbers[1] = \"hi\"\n",
    "print (numbers)\n",
    "\n",
    "print (\"число на позиции 2 это\", numbers[1])\n",
    "\n",
    "numbers[3] = [8, 6, 4]\n",
    "print (numbers)"
   ]
  },
  {
   "cell_type": "markdown",
   "id": "bd8c5b05-89d7-4bef-89e4-fc0adde84c60",
   "metadata": {},
   "source": [
    "Дан список чисел: <br>\n",
    "numbers = [1, 2, 3, 4, 5, 6, 7, 8, 9, 10] <br>\n",
    "Извлеките подсписок с 3-го по 7-й элемент включительно. <br>"
   ]
  },
  {
   "cell_type": "code",
   "execution_count": 10,
   "id": "9c7effa7-7234-422f-a3aa-b7d0d5a79b44",
   "metadata": {},
   "outputs": [
    {
     "name": "stdout",
     "output_type": "stream",
     "text": [
      "[2, 3, 4, 5, 6, 7]\n"
     ]
    }
   ],
   "source": [
    "numbers = [1, 2, 3, 4, 5, 6, 7, 8, 9, 10]\n",
    "print(numbers[2-1:7-1+1])"
   ]
  },
  {
   "cell_type": "code",
   "execution_count": null,
   "id": "ff760279-f7f3-4696-ab59-a8446f8b8127",
   "metadata": {},
   "outputs": [],
   "source": []
  }
 ],
 "metadata": {
  "kernelspec": {
   "display_name": "Python 3 (ipykernel)",
   "language": "python",
   "name": "python3"
  },
  "language_info": {
   "codemirror_mode": {
    "name": "ipython",
    "version": 3
   },
   "file_extension": ".py",
   "mimetype": "text/x-python",
   "name": "python",
   "nbconvert_exporter": "python",
   "pygments_lexer": "ipython3",
   "version": "3.10.10"
  }
 },
 "nbformat": 4,
 "nbformat_minor": 5
}
