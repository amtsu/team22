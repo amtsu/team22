{
 "cells": [
  {
   "cell_type": "markdown",
   "metadata": {
    "id": "5KKY05xofTfQ"
   },
   "source": [
    "<img src=\"https://serverspace.ru/wp-content/uploads/2020/01/66_fhs.png\">"
   ]
  },
  {
   "cell_type": "markdown",
   "metadata": {
    "editable": true,
    "id": "gErDVUhdfTfQ",
    "slideshow": {
     "slide_type": ""
    },
    "tags": []
   },
   "source": [
    "# Командная строка        \n",
    "- консольные команды\n",
    "- файловая система (/ и root  ~ нет дисков C, D, ...)\n",
    "- работа с файлами в консоли\n",
    "- папка(директория)\n",
    "\n",
    "\n"
   ]
  },
  {
   "cell_type": "markdown",
   "metadata": {
    "id": "C4dqYtNjR4tI"
   },
   "source": [
    "Зачем уметь работать в консоли и знать команды:\n",
    "- доступ на сервера осуществляется в основном с помощью консоли\n",
    "- на серверах вам может понадобиться запускать разные приложения, изменять файлы конфигов программ, анализировать логи программ, осуществлять контроль ресурсов доступных на сервере, таких как процессор, память, диск, сеть, гпу"
   ]
  },
  {
   "cell_type": "markdown",
   "metadata": {
    "id": "C4dqYtNjR4tI"
   },
   "source": [
    "Зачем уметь работать в консоли и знать команды:\n",
    "- доступ на сервера осуществляется в основном с помощью консоли\n",
    "- на серверах вам может понадобиться запускать разные приложения, изменять файлы конфигов программ, анализировать логи программ, осуществлять контроль ресурсов доступных на сервере, таких как процессор, память, диск, сеть, гпу"
   ]
  },
  {
   "cell_type": "markdown",
   "metadata": {
    "id": "C4dqYtNjR4tI"
   },
   "source": [
    "Зачем уметь работать в консоли и знать команды:\n",
    "- доступ на сервера осуществляется в основном с помощью консоли\n",
    "- на серверах вам может понадобиться запускать разные приложения, изменять файлы конфигов программ, анализировать логи программ, осуществлять контроль ресурсов доступных на сервере, таких как процессор, память, диск, сеть, гпу"
   ]
  },
  {
   "cell_type": "markdown",
   "metadata": {
    "id": "EmklGX227V8C"
   },
   "source": [
    "Команды по группам"
   ]
  },
  {
   "cell_type": "markdown",
   "metadata": {
    "id": "TvNuzMwF7Zzs"
   },
   "source": [
    "Дерево каталогов и перемещение по дереву:  \n",
    "\n",
    "- ls  \n",
    "посмотреть содержимое текущей директории(папки)\n",
    "\n",
    "- ls -la  \n",
    "расширенный вывод\n",
    "\n",
    "- pwd  \n",
    "посмотреть текущий путь\n",
    "\n",
    "- cd /etc\n",
    "изменение рабочего каталога (перейти в папку /etc)\n",
    "\n",
    "- cd ..  \n",
    "поднять на директорию выше вверх по дереву\n",
    "\n",
    "- cd -  \n",
    "перейти в предыдущий рабочий каталог ( если вы были в /home, затем выполнили несколько команд и потом перешли в /usr/src, то введя команду cd /home вы веренетесь назад в каталог /home)\n",
    "\n",
    "- .  \n",
    "так обозначается текущий каталог\n",
    "\n",
    "- /  \n",
    "это корень деерева каталогов(аналог \"мой компьютер в виндоус\")\n",
    "\n",
    "- ~  \n",
    "обозначение домашнего каталога для вашего пользователя"
   ]
  },
  {
   "cell_type": "markdown",
   "metadata": {
    "id": "fvDWnrGw_N8M"
   },
   "source": [
    "<div style=\"background-color:pink;\">\n",
    "Задание:  \n",
    "\n",
    " - Выведите путь к каталогу в котором сейчас находитесь(он также называется рабочий каталог)\n",
    " - Выведите какие файлы в нем содержатся\n",
    " - Выведите содержимое корня\n",
    " - Перейдите в папку(директорию) /home\n",
    " - Выведите содержимое папки с информацией о размере файлов и дате их последней модификации\n",
    "</div>"
   ]
  },
  {
   "cell_type": "code",
   "execution_count": 1,
   "metadata": {},
   "outputs": [
    {
     "name": "stdout",
     "output_type": "stream",
     "text": [
      "/home/jupyter-rikacom/github/team22/users/ismatrosova/exercise/hw1\n"
     ]
    }
   ],
   "source": [
    "!pwd"
   ]
  },
  {
   "cell_type": "code",
   "execution_count": 2,
   "metadata": {},
   "outputs": [
    {
     "name": "stdout",
     "output_type": "stream",
     "text": [
      "home_work_1  theory_console_command.ipynb\n"
     ]
    }
   ],
   "source": [
    "!ls"
   ]
  },
  {
   "cell_type": "code",
   "execution_count": 3,
   "metadata": {},
   "outputs": [
    {
     "name": "stdout",
     "output_type": "stream",
     "text": [
      "\u001b[0m\u001b[01;34mgithub\u001b[0m/\n"
     ]
    }
   ],
   "source": [
    "ls ~"
   ]
  },
  {
   "cell_type": "code",
   "execution_count": 4,
   "metadata": {},
   "outputs": [
    {
     "name": "stdout",
     "output_type": "stream",
     "text": [
      "/home/jupyter-rikacom\n"
     ]
    },
    {
     "name": "stderr",
     "output_type": "stream",
     "text": [
      "/opt/tljh/user/lib/python3.10/site-packages/IPython/core/magics/osm.py:393: UserWarning: using bookmarks requires you to install the `pickleshare` library.\n",
      "  bkms = self.shell.db.get('bookmarks', {})\n",
      "/opt/tljh/user/lib/python3.10/site-packages/IPython/core/magics/osm.py:417: UserWarning: using dhist requires you to install the `pickleshare` library.\n",
      "  self.shell.db['dhist'] = compress_dhist(dhist)[-100:]\n"
     ]
    }
   ],
   "source": [
    "cd ~"
   ]
  },
  {
   "cell_type": "code",
   "execution_count": 5,
   "metadata": {},
   "outputs": [
    {
     "name": "stdout",
     "output_type": "stream",
     "text": [
      "/home\n"
     ]
    }
   ],
   "source": [
    "cd .."
   ]
  },
  {
   "cell_type": "code",
   "execution_count": 6,
   "metadata": {},
   "outputs": [
    {
     "name": "stdout",
     "output_type": "stream",
     "text": [
      "total 180\n",
      "drwxr-xr-x 45 root                             root                             4096 Feb 13 22:15 .\n",
      "drwxr-xr-x 20 root                             root                             4096 Apr 14  2023 ..\n",
      "drwxr-x---  8 jupyter-adkazdym                 jupyter-adkazdym                 4096 Feb  6 14:47 jupyter-adkazdym\n",
      "drwxr-x---  5 jupyter-adminartem               jupyter-adminartem               4096 Jan 24 15:25 jupyter-adminartem\n",
      "drwxr-x---  9 jupyter-aldnoa19                 jupyter-aldnoa19                 4096 Feb 12 17:07 jupyter-aldnoa19\n",
      "drwxr-x---  8 jupyter-amabduhanov              jupyter-amabduhanov              4096 Feb  6 23:30 jupyter-amabduhanov\n",
      "drwxr-x--- 13 jupyter-amtsu                    jupyter-amtsu                    4096 Feb 16 11:14 jupyter-amtsu\n",
      "drwxr-x---  8 jupyter-andreyvolodinpro         jupyter-andreyvolodinpro         4096 Feb  4 18:58 jupyter-andreyvolodinpro\n",
      "drwxr-x---  8 jupyter-andromary                jupyter-andromary                4096 Feb  9 23:13 jupyter-andromary\n",
      "drwxr-x---  9 jupyter-andvliv                  jupyter-andvliv                  4096 Feb 12 14:46 jupyter-andvliv\n",
      "drwxr-x---  9 jupyter-annamargolina            jupyter-annamargolina            4096 Feb 12 13:00 jupyter-annamargolina\n",
      "drwxr-x---  8 jupyter-annmorozova676           jupyter-annmorozova676           4096 Feb 14 23:05 jupyter-annmorozova676\n",
      "drwxr-x---  8 jupyter-anton-kuvalda            jupyter-anton-kuvalda            4096 Feb 11 21:53 jupyter-anton-kuvalda\n",
      "drwxr-x---  9 jupyter-anzhela-volodina         jupyter-anzhela-volodina         4096 Feb  6 20:27 jupyter-anzhela-volodina\n",
      "drwxr-x--- 10 jupyter-arisova                  jupyter-arisova                  4096 Feb 13 18:15 jupyter-arisova\n",
      "drwxr-x---  5 jupyter-atronarx                 jupyter-atronarx                 4096 Feb 13 19:27 jupyter-atronarx\n",
      "drwxr-x--- 10 jupyter-eanabatov                jupyter-eanabatov                4096 Feb  9 13:15 jupyter-eanabatov\n",
      "drwxr-x---  8 jupyter-eawolkov                 jupyter-eawolkov                 4096 Jan 30 21:44 jupyter-eawolkov\n",
      "drwxr-x--- 10 jupyter-find-y                   jupyter-find-y                   4096 Jan 31 20:57 jupyter-find-y\n",
      "drwxr-x---  7 jupyter-il-62                    jupyter-il-62                    4096 Feb 13 11:56 jupyter-il-62\n",
      "drwxr-x---  7 jupyter-irsalieva                jupyter-irsalieva                4096 Feb  7 04:04 jupyter-irsalieva\n",
      "drwxr-x--- 11 jupyter-isergy                   jupyter-isergy                   4096 Feb 16 09:07 jupyter-isergy\n",
      "drwxr-x--- 10 jupyter-jatashpulatov            jupyter-jatashpulatov            4096 Feb 10 10:06 jupyter-jatashpulatov\n",
      "drwxr-x---  6 jupyter-jetfriday                jupyter-jetfriday                4096 Feb  5 22:48 jupyter-jetfriday\n",
      "drwxr-x---  7 jupyter-jutkaris                 jupyter-jutkaris                 4096 Feb  8 18:01 jupyter-jutkaris\n",
      "drwxr-x---  8 jupyter-koshakm5                 jupyter-koshakm5                 4096 Feb 12 12:58 jupyter-koshakm5\n",
      "drwxr-x--- 13 jupyter-misterdx                 jupyter-misterdx                 4096 Feb 15 13:27 jupyter-misterdx\n",
      "drwxr-x---  8 jupyter-okorch                   jupyter-okorch                   4096 Feb  4 14:36 jupyter-okorch\n",
      "drwxr-x--- 10 jupyter-ptdltt                   jupyter-ptdltt                   4096 Feb 13 04:19 jupyter-ptdltt\n",
      "drwxr-x---  8 jupyter-pteroculus               jupyter-pteroculus               4096 Feb 12 20:25 jupyter-pteroculus\n",
      "drwxr-x---  7 jupyter-re-gi-na                 jupyter-re-gi-na                 4096 Feb  8 14:55 jupyter-re-gi-na\n",
      "drwxr-x---  9 jupyter-rikacom                  jupyter-rikacom                  4096 Feb 14 15:59 jupyter-rikacom\n",
      "drwxr-x--- 10 jupyter-romantarasov91           jupyter-romantarasov91           4096 Feb 15 10:57 jupyter-romantarasov91\n",
      "drwxr-x---  8 jupyter-ruslanyunusov            jupyter-ruslanyunusov            4096 Feb 11 19:34 jupyter-ruslanyunusov\n",
      "drwxr-x---  8 jupyter-ruslan-yusupov-ope-0498f jupyter-ruslan-yusupov-ope-0498f 4096 Feb  7 02:32 jupyter-ruslan-yusupov-ope-0498f\n",
      "drwxr-x---  9 jupyter-samalcev                 jupyter-samalcev                 4096 Feb 16 03:19 jupyter-samalcev\n",
      "drwxr-x--- 10 jupyter-scherbakovata            jupyter-scherbakovata            4096 Feb 14 02:36 jupyter-scherbakovata\n",
      "drwxr-x---  8 jupyter-sergey-1990              jupyter-sergey-1990              4096 Feb 13 13:33 jupyter-sergey-1990\n",
      "drwxr-x---  9 jupyter-slash3086                jupyter-slash3086                4096 Feb 15 18:31 jupyter-slash3086\n",
      "drwxr-x---  8 jupyter-therate                  jupyter-therate                  4096 Feb  5 15:37 jupyter-therate\n",
      "drwxr-x--- 10 jupyter-vallitim                 jupyter-vallitim                 4096 Feb  6 17:49 jupyter-vallitim\n",
      "drwxr-x---  8 jupyter-verayohanga              jupyter-verayohanga              4096 Feb  9 16:43 jupyter-verayohanga\n",
      "drwxr-x---  9 jupyter-vladimirvbykov           jupyter-vladimirvbykov           4096 Feb 14 17:32 jupyter-vladimirvbykov\n",
      "drwxr-x---  7 jupyter-vssachenko               jupyter-vssachenko               4096 Feb  5 21:20 jupyter-vssachenko\n",
      "drwxr-xr-x  5 synchronize_data                 synchronize_data                 4096 Feb 11 10:56 synchronize_data\n"
     ]
    }
   ],
   "source": [
    "!ls -la"
   ]
  },
  {
   "cell_type": "markdown",
   "metadata": {
    "id": "bM54CrZE9Z6x"
   },
   "source": [
    "Базовые команды по работе с файлами и директориями по их созданию, и размещению на файловой системе\n",
    "\n",
    "- `mkdir github`  \n",
    "для создания директории(папки) с именем github в текущем рабочем каталоге (обратите внимание что большие и маленькие буквы это разные символы и одноверемнно в одном месте могут быть 2 папки TeSt и test)\n",
    "\n",
    "- `touch empty.txt`  \n",
    "создать пустой empty.txt\n",
    "\n",
    "- `cp empty.txt copy_empty.txt`  \n",
    "скопировать empty.txt в файл с новым именем copy_empty.txt\n",
    "\n",
    "- `cp empty.txt github/copy_empty.txt`  \n",
    "скопировать empty.txt в файл в папке github с именем copy_empty.txt\n",
    "\n",
    "- `cp -r github test/last`  \n",
    "скопировать папку с ее содержимым в папку test с новым именем для копируемой папки last\n",
    "\n",
    "- `mv copy_empty.txt copy_2_empty.txt`  \n",
    "перемещение файлов, а если в рамках одной папки то это аналог переименованию\n",
    "\n",
    "- `mv copy_2_empty.txt new/copy_2_empty.txt`\n",
    "перемещение файла в папку new\n",
    "\n",
    "- `rm empty.txt`  \n",
    "удалить файл empty.txt\n",
    "\n",
    "- `rm -r github`\n",
    "удалить папку с всем содержимым\n",
    "\n",
    "- `rm -rf github`\n",
    "удалить папку с всем содержимым без подтверждений удаления каждого файла\n"
   ]
  },
  {
   "cell_type": "markdown",
   "metadata": {
    "id": "jhccXZpwBxKE"
   },
   "source": [
    "<div style=\"background-color:pink;\">\n",
    "Задание:\n",
    "    \n",
    "- создайте папку с именем home_work_1\n",
    "- создайте в папке home_work_1 файл с именем file_1\n",
    "- создайте в папке home_work_1 папку work_dir\n",
    "- скопируйте файл file_1 в папку work_dir чтобы в папке он появился с новым именем file_1_copy\n",
    "- скопируйте папку work_dir(находящуюся в папке home_work_1) с всем ее содержимым в папку work_dir_new (чтобы она появилась в папке home_work_1)\n",
    "- переименуйте фаил file_1_copy в file_1_new_name\n",
    "- удалите file_1_new_name\n",
    "- удалите папку work_dir_new\n",
    "</div>"
   ]
  },
  {
   "cell_type": "code",
   "execution_count": 14,
   "metadata": {},
   "outputs": [
    {
     "name": "stdout",
     "output_type": "stream",
     "text": [
      "/home/jupyter-rikacom/github/team22/users/ismatrosova/exercise/hw1\n"
     ]
    }
   ],
   "source": [
    "cd ~/github/team22/users/ismatrosova/exercise/hw1"
   ]
  },
  {
   "cell_type": "code",
   "execution_count": 8,
   "metadata": {},
   "outputs": [
    {
     "name": "stdout",
     "output_type": "stream",
     "text": [
      "mkdir: cannot create directory ‘home_work_1’: File exists\n"
     ]
    }
   ],
   "source": [
    "!mkdir home_work_1"
   ]
  },
  {
   "cell_type": "code",
   "execution_count": 15,
   "metadata": {},
   "outputs": [
    {
     "name": "stdout",
     "output_type": "stream",
     "text": [
      "/home/jupyter-rikacom/github/team22/users/ismatrosova/exercise/hw1/home_work_1\n"
     ]
    }
   ],
   "source": [
    "cd home_work_1"
   ]
  },
  {
   "cell_type": "code",
   "execution_count": 10,
   "metadata": {},
   "outputs": [],
   "source": [
    "#!nano file_1.txt"
   ]
  },
  {
   "cell_type": "code",
   "execution_count": 11,
   "metadata": {},
   "outputs": [
    {
     "name": "stdout",
     "output_type": "stream",
     "text": [
      "mkdir: cannot create directory ‘work_dir’: File exists\n"
     ]
    }
   ],
   "source": [
    "!mkdir work_dir"
   ]
  },
  {
   "cell_type": "code",
   "execution_count": 16,
   "metadata": {},
   "outputs": [
    {
     "name": "stdout",
     "output_type": "stream",
     "text": [
      "file_1.txt  work_dir\n"
     ]
    }
   ],
   "source": [
    "!ls"
   ]
  },
  {
   "cell_type": "code",
   "execution_count": 19,
   "metadata": {},
   "outputs": [],
   "source": [
    "!cp file_1.txt work_dir/file_1_copy.txt"
   ]
  },
  {
   "cell_type": "code",
   "execution_count": 18,
   "metadata": {},
   "outputs": [
    {
     "name": "stdout",
     "output_type": "stream",
     "text": [
      "/home/jupyter-rikacom/github/team22/users/ismatrosova/exercise/hw1/home_work_1\n"
     ]
    }
   ],
   "source": [
    "!pwd"
   ]
  },
  {
   "cell_type": "code",
   "execution_count": 20,
   "metadata": {},
   "outputs": [],
   "source": [
    "!cp -r work_dir work_dir_new"
   ]
  },
  {
   "cell_type": "code",
   "execution_count": 21,
   "metadata": {},
   "outputs": [
    {
     "name": "stdout",
     "output_type": "stream",
     "text": [
      "/home/jupyter-rikacom/github/team22/users/ismatrosova/exercise/hw1/home_work_1/work_dir\n"
     ]
    }
   ],
   "source": [
    "cd work_dir"
   ]
  },
  {
   "cell_type": "code",
   "execution_count": 23,
   "metadata": {},
   "outputs": [],
   "source": [
    "mv file_1_copy.txt file_1_new_name.txt"
   ]
  },
  {
   "cell_type": "code",
   "execution_count": 24,
   "metadata": {},
   "outputs": [],
   "source": [
    "!rm file_1_new_name.txt"
   ]
  },
  {
   "cell_type": "markdown",
   "metadata": {},
   "source": [
    "!!!переименовала и удалила файл в work_dir, поэтому удалю work_dir"
   ]
  },
  {
   "cell_type": "code",
   "execution_count": 26,
   "metadata": {},
   "outputs": [
    {
     "name": "stdout",
     "output_type": "stream",
     "text": [
      "/home/jupyter-rikacom/github/team22/users/ismatrosova/exercise/hw1/home_work_1\n"
     ]
    }
   ],
   "source": [
    "cd .."
   ]
  },
  {
   "cell_type": "code",
   "execution_count": 28,
   "metadata": {},
   "outputs": [],
   "source": [
    "!rm -r work_dir"
   ]
  },
  {
   "cell_type": "markdown",
   "metadata": {
    "id": "qwPMofYbfLJR"
   },
   "source": [
    "Полезные команды\n",
    "\n",
    "- `echo 'test 1 2 3'`  \n",
    "выводит на экран строку 'test 1 2 3' (текст выведется без ковычек)\n",
    "\n",
    "- `history` - показывает последние введенные команды (историю команд)\n",
    "- нажатие клавиш вверх вниз подставляет команды из истории команд\n",
    "- таб - нажатие кнопки Tab приводит к автоматическому завершению ввода команды, если такое возможно\n",
    "- history | grep \"mkdir\" выводит из истории ввода команд только строки, содержащие \"mkdir\"\n",
    "- ctrl + r\n",
    "- \tлево\n",
    "history  \n",
    "!1 - выводит команду №1 из списка history\n",
    "!n - выводит команду №n из списка history\n",
    "!1:p - показать команду №1 из списка history\n",
    "!n:p - показать команду №n из списка history\n"
   ]
  },
  {
   "cell_type": "markdown",
   "metadata": {
    "id": "K5kqrp0pUIEI"
   },
   "source": [
    "Консольные редакторы\n",
    "\n",
    "vi (или vim) - текстовые редакторы\n",
    "\n",
    "- `vi file1`  \n",
    "откроет файл file1 для того, чтобы внести в файл изменения, сейчас редактор находится в режиме ввода команд\n",
    "\n",
    "- для того, чтобы что добавить текст в файл, нужно перейти в режим \"вставки\", для этого нажать i, и можно вводить текст\n",
    "\n",
    "- после внесния измений надо сохранить изменения в файле и выйти из редактора, для этого нажмите esc (это позволит выйти из режима редактирования/\"вставки\" и войти в режим ввода команд), введите :, затем wq и нажмите \"Enter\"\n",
    "\n",
    "- если не хотите сохранять изменения нажмите esc, введите :, затем q! и \"Enter\"\n",
    " \n",
    "`nano`  \n",
    "- еще один редактор\n",
    "\n",
    "`mcedit`\n",
    "- редактор файлового менеджера mc\n",
    "mc - графический файловый менеджер, можно в нем редактировать файлы, просматривать каталоги, перемещать удалять файлы."
   ]
  },
  {
   "cell_type": "markdown",
   "metadata": {
    "id": "hbbSX6mBZTfA"
   },
   "source": [
    "<div style=\"background-color:pink;\">\n",
    "Задание:\n",
    "\n",
    "- создайте текстовый файл file1 и добавьте в этот файл 3 строки: \n",
    "<code>\n",
    "hello world  \n",
    "Hi  \n",
    "2000 + 11\n",
    "</code> \n",
    "- создайте текстовый файл file2 и добавьте в этот файл 4 строки: \n",
    "<code>\n",
    "::1 - - [20/Jan/2024:12:14:04 +0000] \"GET /empty.test HTTP/1.1\" 200 0 \"-\" \"curl/7.29.0\" \"-\" 0.000 \n",
    "::1 - - [20/Jan/2024:12:14:04 +0000] \"GET /1mb.test HTTP/1.1\" 200 1048576 \"-\" \"curl/7.29.0\" \"-\" 0.000 \n",
    "::1 - - [20/Jan/2024:12:14:07 +0000] \"GET /10mb.test HTTP/1.1\" 200 10485760 \"-\" \"curl/7.29.0\" \"-\" 2.063 \n",
    "::1 - - [20/Jan/2024:12:15:10 +0000] \"GET /100mb.test HTTP/1.1\" 200 104857600 \"-\" \"curl/7.29.0\" \"-\" 47.318\n",
    "</code> "
   ]
  },
  {
   "cell_type": "markdown",
   "metadata": {},
   "source": [
    "  141  nano file1\n",
    "  142  nano file2\n",
    "  143  fg\n",
    "  144  history"
   ]
  },
  {
   "cell_type": "markdown",
   "metadata": {
    "id": "g6xSpqHaOgh0"
   },
   "source": [
    "Вывод содержимого файлов\n",
    "\n",
    "- cat file1  \n",
    "вывод содержимого файла file1 в консоль\n",
    "\n",
    "- head file1  \n",
    "вывод первых 10 строчек файла file1 в консоль\n",
    "\n",
    "- tail -n3 file2  \n",
    "вывод последних 3(можно указать любое число) строчек файла file2 в консоль\n",
    "\n",
    "- tail -f file1  \n",
    "Запускает процесс вывода последних строчек файла в консоль, если в этот момент любая другая программа что то запишет в файл, то содержимое файла выведется на экран(очень полезно для анализа логов) чтобы выйти из режима нажмите ctrl + c\n",
    "\n",
    "- less file1  \n",
    "выводит на экран файл не целиком а частями, можно использовать стрелки вверх и вниз чтобы перемещаться по файлу, или нажать пробел чтобы оторбазить следующую страницу, чтобы выйти из этого режима нажмите q"
   ]
  },
  {
   "cell_type": "markdown",
   "metadata": {
    "id": "-6OLM6kBqWUL"
   },
   "source": [
    "<div style=\"background-color:pink;\">\n",
    "Задание:\n",
    "\n",
    "- выведите на экран содержимое file1\n",
    "- выведите первые 2 строки file1\n",
    "- выведите последние 2 строки file1"
   ]
  },
  {
   "cell_type": "markdown",
   "metadata": {},
   "source": [
    "└─ $ ▶ cat file1\n",
    "hello world  \n",
    "Hi  \n",
    "2000 + 11\n",
    "\n",
    "\n",
    "└─ $ ▶ head -2 file1\n",
    "hello world  \n",
    "Hi  \n",
    "\n",
    "└─ $ ▶ tail -n2 file1\n",
    "Hi  \n",
    "2000 + 11"
   ]
  },
  {
   "cell_type": "markdown",
   "metadata": {
    "id": "k_Uhr5Q9PUYq"
   },
   "source": [
    "Фильтрация и сортировка вывода содержимого файлов, поиск файлов\n",
    "\n",
    "- `find /home/ -name \"*d12*\"`  \n",
    ">искать все файлы в подпапках папки /home/ у которых в названии присутствует d12 ( * означает любые число любых символов )\n",
    "\n",
    "- `grep 'NOV' file1`  \n",
    ">выводить на экран строчки из файла file1, только те которые содержат подстроку NOV\n",
    "\n",
    "- `grep -rni 'NOV' home_work_1`  \n",
    ">вывести на экран все строчки, содержащие 'NOV' из всех файлов, которые содержатся в всех папках и подпапках папки home_work_1\n",
    "\n",
    "- `awk -F' ' '{print $1 ,$3}' home_work_1/test.txt`  \n",
    ">команда разобьет каждую строку файла home_work_1/test.txt по пробелам и выведет 1 и 3 элемент каждой строки  \n",
    "\n",
    "- `sort file1`  \n",
    ">сортирует все строчки файла file1 и выводит их на экран\n",
    "\n",
    "- `uniq -c file1`  \n",
    ">выводит на экран уникальные строчки из файла file1 с указанием числа повторяющихся строк, учитываются только соседние одинаковые строчки\n",
    "\n",
    "- `diff file1 file2`  \n",
    ">сравнивает два файла и выводит различие в файлах\n",
    "\n",
    "- `wc -l file1`  \n",
    ">выводит на экран число строк в файле file1"
   ]
  },
  {
   "cell_type": "markdown",
   "metadata": {
    "id": "6x47TMpar4jC"
   },
   "source": [
    "<div style=\"background-color:pink;\">\n",
    "Задание:\n",
    "    \n",
    "- найдите файлы, содержащие 'fil' в названии в папке /home\n",
    "- выведите только размеры файлов в вашей директории\n",
    "- найдите строки в файлах из вашей домашней директории, которые содержат подстроку GET"
   ]
  },
  {
   "cell_type": "code",
   "execution_count": null,
   "metadata": {},
   "outputs": [],
   "source": [
    "find /home/ -name \"*fil*\"\n",
    "find home_work_1 -type f -printf '%p %s\\n' | column -t\n",
    "grep -rni 'GET' github"
   ]
  },
  {
   "cell_type": "markdown",
   "metadata": {
    "id": "DGQGKCkrRWg4"
   },
   "source": [
    "Пренаправление ввода вывода\n",
    "\n",
    "- `ls -la > save_ls_la`\n",
    "сохраняет вывод команды ls -la в фаил save_ls_la (все содердимое файла перезапишится данными вывода команды ls -la)\n",
    "\n",
    "- `ls -la >> save_ls_la`  \n",
    "в данном случае вывод комнады ls -la добавится в конец файла save_ls_la, и содержимое файла расширится новыми данными\n",
    "\n",
    "- `echo 'test 1 2 3' > save_echo`\n",
    "запишет в файл save_echo строку 'test 1 2 3'\n",
    "\n",
    "- `sort < save_ls_la`  \n",
    "подаст содержимое файла save_ls_la на вход команды sort, команда sort отсортирует полученные данные и выведет результат на экран"
   ]
  },
  {
   "cell_type": "markdown",
   "metadata": {
    "id": "N4HWA-0FtrBE"
   },
   "source": [
    "<div style=\"background-color:pink;\">\n",
    "Задание:\n",
    "    \n",
    "- сохраните в файл все части URI полученные на предыдущем шаге"
   ]
  },
  {
   "cell_type": "markdown",
   "metadata": {},
   "source": [
    "└─ $ ▶ find home_work_1 -type f -printf '%p %s\\n' | column -t >> savefile"
   ]
  },
  {
   "cell_type": "markdown",
   "metadata": {
    "id": "HQVbQCS_BxQo"
   },
   "source": [
    "Организация последовательности выполнения команд:\n",
    "\n",
    "- `;`  \n",
    "разделитель используется когда нужно выполнить все команды подряд, не смотря на то, успешно они выполнятся или нет.  \n",
    "pwd; ls -la; cd test  \n",
    "данная последовательность команд сначала выполнит команду pwd выведет на экран путь к рабочему каталогу, затем выполнит команду ls -la выведет на экран содержимое рабочего каталога, и уже потом будет выполнен переход в папку cd test\n",
    "\n",
    "- `&&`  \n",
    "если команды объеденены таким образом, то последующая команда выполнится только при условии что предыдущая выполнилась успешно\n",
    "\n",
    "- `||`  \n",
    "в данном случае следующая команда выподнится только если предыдущая команда завершилась ошибкой"
   ]
  },
  {
   "cell_type": "markdown",
   "metadata": {
    "id": "nrpmtK9yuXzI"
   },
   "source": [
    "<div style=\"background-color:pink;\">\n",
    "Задание:\n",
    "\n",
    "- выполните команды   \n",
    "`ls -la && rm test123 && pwd` \n",
    "и \n",
    "`ls -la; rm test123; pwd`  \n",
    "и объясните разницу в их работе"
   ]
  },
  {
   "cell_type": "markdown",
   "metadata": {},
   "source": [
    "└─ $ ▶ ls -la && rm test123 && pwd\n",
    "total 68\n",
    "drwxr-xr-x 4 jupyter-rikacom jupyter-rikacom  4096 Feb 16 14:24 .\n",
    "drwxr-xr-x 5 jupyter-rikacom jupyter-rikacom  4096 Feb 15 16:59 ..\n",
    "drwxr-xr-x 4 jupyter-rikacom jupyter-rikacom  4096 Feb 16 14:23 home_work_1\n",
    "drwxr-xr-x 2 jupyter-rikacom jupyter-rikacom  4096 Feb 16 14:23 .ipynb_checkpoints\n",
    "-rw-r--r-- 1 jupyter-rikacom jupyter-rikacom   398 Feb 16 14:23 savefile\n",
    "-rw-r--r-- 1 jupyter-rikacom jupyter-rikacom 45896 Feb 16 14:24 theory_console_command.ipynb\n",
    "rm: cannot remove 'test123': No such file or directory\n",
    "jupyter-rikacom @ malvina82 ~/github/team22/users/ismatrosova/exercise/hw1 (ismatrosova-hw-1)\n",
    "└─ $ ▶ ls -la; rm test123; pwd\n",
    "total 68\n",
    "drwxr-xr-x 4 jupyter-rikacom jupyter-rikacom  4096 Feb 16 14:24 .\n",
    "drwxr-xr-x 5 jupyter-rikacom jupyter-rikacom  4096 Feb 15 16:59 ..\n",
    "drwxr-xr-x 4 jupyter-rikacom jupyter-rikacom  4096 Feb 16 14:23 home_work_1\n",
    "drwxr-xr-x 2 jupyter-rikacom jupyter-rikacom  4096 Feb 16 14:23 .ipynb_checkpoints\n",
    "-rw-r--r-- 1 jupyter-rikacom jupyter-rikacom   398 Feb 16 14:23 savefile\n",
    "-rw-r--r-- 1 jupyter-rikacom jupyter-rikacom 45896 Feb 16 14:24 theory_console_command.ipynb\n",
    "rm: cannot remove 'test123': No such file or directory\n",
    "/home/jupyter-rikacom/github/team22/users/ismatrosova/exercise/hw1\n",
    "\n",
    "в первом случае произошел провал удаления файла, поэтому слежующая pwd команда не выполнилась\n",
    "во втором случае все команды \"попытались\" выполнились"
   ]
  },
  {
   "cell_type": "markdown",
   "metadata": {
    "id": "ek_bxEnvdU6a"
   },
   "source": [
    "Перенаправление вывода команд, т.е. вывод одной команды направляем на вход другой команды\n",
    "\n",
    "- `|`  \n",
    "ls -la | grep Jan | sort  \n",
    "сначала выполнится команда ls -la и вместо того чтобы выводить на экран, её вывод будет перенаправлен на вход команды grep, в свою очередь команда grep возьмет поданные ей данные, выберет в них все строки содержащие Jan и отправит их на вход команде sort, и вот уже команда sort возьмет все строки с предыдущего шага, отсортирует их и выведет на экран  \n",
    "`ls -la | awk '{print $6}' | sort | uniq -c`\n"
   ]
  },
  {
   "cell_type": "markdown",
   "metadata": {
    "id": "qhsyJev2t6NW"
   },
   "source": [
    "<div style=\"background-color:pink;\">\n",
    "Задание:\n",
    "\n",
    "- найдите строки в файлах из домашней директории, которые содеражат подстроку GET, выведите только часть URI(/empty.test  - это то что находится между GET и HTTP) в найденых файлах и отсортируйте их по возрастанию\n",
    "- посчитай сколько получилось таких частей URI"
   ]
  },
  {
   "cell_type": "markdown",
   "metadata": {
    "id": "RGI015GHe1cf"
   },
   "source": [
    "Переменные окружения\n",
    "\n",
    "- env  \n",
    "выводит все переменные окружения\n",
    "\n",
    "- echo $PATH  \n",
    "выводит значение переменной PATH - в ней содержатся все пути по которым ищется команда, которую вы ввели в консоли, если в данных папках нет указанной команды то выдается ошибка\n",
    "\n",
    "- echo $<имя переменной окружения> - выводит значение заданной переменной окружения"
   ]
  },
  {
   "cell_type": "markdown",
   "metadata": {
    "id": "7V_0Xrl-uyOi"
   },
   "source": [
    "<div style=\"background-color:pink;\">\n",
    "Задание:\n",
    "\n",
    "- выведите все параметры переменных окружения, которые содержат символ А"
   ]
  },
  {
   "cell_type": "code",
   "execution_count": 30,
   "metadata": {},
   "outputs": [
    {
     "name": "stdout",
     "output_type": "stream",
     "text": [
      "\n"
     ]
    }
   ],
   "source": [
    "!echo $A"
   ]
  },
  {
   "cell_type": "markdown",
   "metadata": {
    "id": "QCfEfYRvhCdf"
   },
   "source": [
    "Разные команды:\n",
    "\n",
    "- `clear` \n",
    "очистить экран\n",
    "\n",
    "- `man ls` \n",
    "показывает документацию по команде ls (можно передать любую другую)\n",
    "\n",
    "- `#` \n",
    "любой текст в строке, стоящий после решетки, считается комментарием и не учитывается при выполнении команды\n",
    "\n"
   ]
  },
  {
   "cell_type": "markdown",
   "metadata": {
    "id": "6pKxlNlPL6A8"
   },
   "source": [
    "Получение страниц с веб ресурсов\n",
    "\n",
    "- curl https://finance.rambler.ru/currencies/USD/ -o test.html  \n",
    "данной командой получаем содержимое страницы https://finance.rambler.ru/currencies/USD/ и сохраняем ее в фаил\n",
    "\n",
    "- wget https://finance.rambler.ru/currencies/USD/    "
   ]
  },
  {
   "cell_type": "markdown",
   "metadata": {
    "id": "Iqbl5vtOu5yM"
   },
   "source": [
    "<div style=\"background-color:pink;\">\n",
    "Задание:\n",
    "\n",
    "- получить информацию по текущему курсу долларов и евро относительно рубля с сайта https://finance.rambler.ru/currencies/ и вывести ее на экран\n",
    "\n",
    "- получить самую последнюю дату изменения файла в вашей домашней директории"
   ]
  },
  {
   "cell_type": "markdown",
   "metadata": {
    "id": "Fo3i-oDnL6Dh"
   },
   "source": [
    "Доступ на удаленный сервер\n",
    "\n",
    "- ssh user@test.ru\n",
    "\n",
    "- scp temp user@test.ru:temp  \n",
    "копирует локальный файл на удаленный сервер"
   ]
  },
  {
   "cell_type": "code",
   "execution_count": 13,
   "metadata": {},
   "outputs": [
    {
     "ename": "NameError",
     "evalue": "name 'STOP' is not defined",
     "output_type": "error",
     "traceback": [
      "\u001b[0;31m---------------------------------------------------------------------------\u001b[0m",
      "\u001b[0;31mNameError\u001b[0m                                 Traceback (most recent call last)",
      "Cell \u001b[0;32mIn[13], line 1\u001b[0m\n\u001b[0;32m----> 1\u001b[0m \u001b[43mSTOP\u001b[49m\n",
      "\u001b[0;31mNameError\u001b[0m: name 'STOP' is not defined"
     ]
    }
   ],
   "source": [
    "STOP"
   ]
  },
  {
   "cell_type": "markdown",
   "metadata": {
    "id": "eLZaOrX9L6HG"
   },
   "source": [
    "Создание и распаковка архивов\n",
    "\n",
    "- tar -cvf archive.tar file1  \n",
    "\n",
    "- tar -xvf archive.tar  \n",
    "\n",
    "\n",
    "- gzip file1\tсжимает файл 'file1'  \n",
    "- gunzip file1.gz\tразжимает файл 'file1.gz'  "
   ]
  },
  {
   "cell_type": "markdown",
   "metadata": {
    "id": "gD5UB8fbm_fO"
   },
   "source": [
    "Информация о системе\n",
    "\n",
    "- free -mt\n",
    "- df -h\n",
    "- du -h -s /*\n",
    "- du -h -s /*/  "
   ]
  },
  {
   "cell_type": "markdown",
   "metadata": {
    "id": "ocpQuATxL6NS"
   },
   "source": [
    "Работа с процессами\n",
    "\n",
    "- ps -Af | grep 1234\n",
    "- ps -axuww\n",
    "- top  \n",
    "h\tlоad average\n",
    "z\t1/5/15 minut  \n",
    "shit + v\tколичество работающих процессов и количество процессов, находящихся в воемени  \n",
    "\n",
    "- htop  \n",
    " ctrl + c\n",
    "\n",
    "- kill  \n",
    "- kill -9  \n",
    "- killall -s 9  \n",
    "название процесса"
   ]
  },
  {
   "cell_type": "markdown",
   "metadata": {
    "id": "dtyfIyWjL6QW"
   },
   "source": [
    "Информация о системы\n",
    "\n",
    "- uname -r  \n",
    "- who  \n",
    "- w  \n",
    "- whoami  \n",
    "- uptime   \n",
    "- uptime  -p  \n",
    "- uptime -s  "
   ]
  },
  {
   "cell_type": "markdown",
   "metadata": {
    "id": "2P4g3hNnntw_"
   },
   "source": [
    "Сеть\n",
    "\n",
    "ip\n",
    "\tifconfig\n",
    "ip a\n",
    "\n",
    "netstat -nlp\n",
    "\tоткрытые порты\n"
   ]
  },
  {
   "cell_type": "markdown",
   "metadata": {
    "id": "ul1v2LuPn9MP"
   },
   "source": [
    "sudo\n",
    "\n",
    "- sudo apt install mc\n",
    "установка mc\n",
    "\n"
   ]
  },
  {
   "cell_type": "markdown",
   "metadata": {
    "id": "PREEpuJro79S"
   },
   "source": [
    "работа с правами\n",
    "\n",
    "- chmode\n",
    "- chown"
   ]
  },
  {
   "cell_type": "markdown",
   "metadata": {
    "id": "RB163DCZpJ6m"
   },
   "source": [
    "- sed  \n",
    "заменят одну подстроку другой  \n",
    "sed 's/ello/ii/' file1"
   ]
  },
  {
   "cell_type": "markdown",
   "metadata": {
    "id": "ZzPZPn7ZpU3W"
   },
   "source": [
    "- cron\n",
    "запуск фоновых задач"
   ]
  },
  {
   "cell_type": "markdown",
   "metadata": {
    "id": "lZUnVv9dfTfR"
   },
   "source": [
    "# Добавить популярные консольные команды"
   ]
  },
  {
   "cell_type": "markdown",
   "metadata": {
    "id": "YhEUl-n-fTfR"
   },
   "source": [
    "### Если используете команды консоли в юпитер ноутбуке то в почти всегда ставьте !  перед командой. Сейчас для вас есть только одно исключение когда хотите сменить текущюу папку (cd)."
   ]
  },
  {
   "cell_type": "markdown",
   "metadata": {
    "id": "1kc3-6ktfTfR"
   },
   "source": [
    "Примеры работы команд"
   ]
  },
  {
   "cell_type": "code",
   "execution_count": null,
   "metadata": {
    "id": "_eLe8Co0fTfR",
    "outputId": "aa987a0a-cac0-44b0-ac97-a511bbb48a2e",
    "scrolled": true
   },
   "outputs": [],
   "source": [
    "cd ~"
   ]
  },
  {
   "cell_type": "code",
   "execution_count": null,
   "metadata": {
    "id": "hqi69GtzfTfR",
    "outputId": "497b41e7-a326-431e-9daf-5c8964a021c1"
   },
   "outputs": [],
   "source": [
    "!ls"
   ]
  },
  {
   "cell_type": "code",
   "execution_count": null,
   "metadata": {
    "id": "qlLIMg2qfTfR",
    "outputId": "4be180e4-ff8b-4f53-fac0-dc6d8d571f8a"
   },
   "outputs": [],
   "source": [
    "!ls -la"
   ]
  },
  {
   "cell_type": "code",
   "execution_count": null,
   "metadata": {
    "id": "HHDYXGTLfTfS"
   },
   "outputs": [],
   "source": [
    "!mkdir test_for_delete_1"
   ]
  },
  {
   "cell_type": "code",
   "execution_count": null,
   "metadata": {
    "id": "bt4hdeVOfTfS",
    "outputId": "8e8016a5-3fc6-4c1e-ce42-df81254a522e"
   },
   "outputs": [],
   "source": [
    "!pwd"
   ]
  },
  {
   "cell_type": "code",
   "execution_count": null,
   "metadata": {
    "id": "xa26O4wyfTfS"
   },
   "outputs": [],
   "source": [
    "!cd test_for_delete_1"
   ]
  },
  {
   "cell_type": "code",
   "execution_count": null,
   "metadata": {
    "id": "o-5akrFGfTfS",
    "outputId": "f282a49d-186e-4f7f-cecc-24c4e584f1af"
   },
   "outputs": [],
   "source": [
    "!pwd"
   ]
  },
  {
   "cell_type": "code",
   "execution_count": null,
   "metadata": {
    "id": "7ZUfOhY0fTfS"
   },
   "outputs": [],
   "source": [
    "#но если убрать !"
   ]
  },
  {
   "cell_type": "code",
   "execution_count": null,
   "metadata": {
    "id": "1QMyFdtdfTfS",
    "outputId": "6b79ad4d-59c3-4b68-a182-0082ddb58803"
   },
   "outputs": [],
   "source": [
    "cd test_for_delete_1"
   ]
  },
  {
   "cell_type": "code",
   "execution_count": null,
   "metadata": {
    "id": "UpsbKGFDfTfT",
    "outputId": "e7ff86ea-bdb6-4591-f708-bd30dbdbd5ae"
   },
   "outputs": [],
   "source": [
    "!pwd"
   ]
  },
  {
   "cell_type": "code",
   "execution_count": null,
   "metadata": {
    "id": "-PstFW4mfTfT",
    "outputId": "9ddad05e-90b0-4373-db30-06d2a4cc045e"
   },
   "outputs": [],
   "source": [
    "!cat ~/github/team22/README.md"
   ]
  },
  {
   "cell_type": "code",
   "execution_count": null,
   "metadata": {
    "id": "Q4AK23lAfTfT"
   },
   "outputs": [],
   "source": [
    "!touch empty.txt"
   ]
  },
  {
   "cell_type": "code",
   "execution_count": null,
   "metadata": {
    "id": "tl_glrHffTfT",
    "outputId": "64270f86-d3e6-4e63-c92c-e65c48fec9df"
   },
   "outputs": [],
   "source": [
    "!ls"
   ]
  },
  {
   "cell_type": "code",
   "execution_count": null,
   "metadata": {
    "id": "wq3PxsyFfTfT"
   },
   "outputs": [],
   "source": [
    "!cp empty.txt copy_empty.txt"
   ]
  },
  {
   "cell_type": "code",
   "execution_count": null,
   "metadata": {
    "id": "tBf8qzNLfTfT",
    "outputId": "b7fdd1dd-3430-4595-a6a3-482b77d91606"
   },
   "outputs": [],
   "source": [
    "!ls"
   ]
  },
  {
   "cell_type": "code",
   "execution_count": null,
   "metadata": {
    "id": "AO3hTd4ZfTfT"
   },
   "outputs": [],
   "source": [
    "!rm empty.txt"
   ]
  },
  {
   "cell_type": "code",
   "execution_count": null,
   "metadata": {
    "id": "roe_8rE5fTfU",
    "outputId": "292a334c-2b44-40e1-d858-6c74d9eea34d"
   },
   "outputs": [],
   "source": [
    "!ls"
   ]
  },
  {
   "cell_type": "code",
   "execution_count": null,
   "metadata": {
    "id": "_uQC_CaqfTfU"
   },
   "outputs": [],
   "source": [
    "!mv copy_empty.txt copy_2_empty.txt"
   ]
  },
  {
   "cell_type": "code",
   "execution_count": null,
   "metadata": {
    "id": "SDCJTrJwfTfU"
   },
   "outputs": [],
   "source": [
    "!mkdir new"
   ]
  },
  {
   "cell_type": "markdown",
   "metadata": {
    "id": "ehgKeRlbfTfU"
   },
   "source": [
    "!mv copy_2_empty.txt new/copy_2_empty.txt"
   ]
  },
  {
   "cell_type": "code",
   "execution_count": null,
   "metadata": {
    "id": "3iez_JazfTfU",
    "outputId": "34d0bba0-5eb5-48da-95b0-0b061da458ba"
   },
   "outputs": [],
   "source": [
    "!ls"
   ]
  },
  {
   "cell_type": "code",
   "execution_count": null,
   "metadata": {
    "id": "_7jwGALcfTfU",
    "outputId": "2be961fb-1a90-4dff-9e14-25bd4de0b852"
   },
   "outputs": [],
   "source": [
    "!ls new/"
   ]
  },
  {
   "cell_type": "code",
   "execution_count": null,
   "metadata": {},
   "outputs": [],
   "source": []
  }
 ],
 "metadata": {
  "colab": {
   "provenance": []
  },
  "kernelspec": {
   "display_name": "Python 3 (ipykernel)",
   "language": "python",
   "name": "python3"
  },
  "language_info": {
   "codemirror_mode": {
    "name": "ipython",
    "version": 3
   },
   "file_extension": ".py",
   "mimetype": "text/x-python",
   "name": "python",
   "nbconvert_exporter": "python",
   "pygments_lexer": "ipython3",
   "version": "3.10.10"
  }
 },
 "nbformat": 4,
 "nbformat_minor": 4
}
