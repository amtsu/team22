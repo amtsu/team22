{
 "cells": [
  {
   "cell_type": "markdown",
   "id": "148a67cf-f3d5-4175-898e-a2201786ac66",
   "metadata": {},
   "source": [
    "# Создайте классы"
   ]
  },
  {
   "cell_type": "markdown",
   "id": "23644a8e-64cf-44a7-b736-1140e424d556",
   "metadata": {},
   "source": [
    "1. Создайте класс Car, который представляет автомобиль. У него должны быть атрибуты для хранения модели, года выпуска, цвета, количества дверей и текущей скорости. Добавьте методы которые возвращают год, марку, цвет и текущую скорость автомобиля."
   ]
  },
  {
   "cell_type": "code",
   "execution_count": 1,
   "id": "6b7f07a6-13fb-4703-ad11-b7e6b659b2fa",
   "metadata": {},
   "outputs": [],
   "source": [
    "class Car():\n",
    "    def __init__(self, model, year, color, number_doors, speed):\n",
    "        self.model = model\n",
    "        self.year = year\n",
    "        self.color = color\n",
    "        self.doors = number_doors\n",
    "        self.speed = speed\n",
    "        \n",
    "    def get_model(self):\n",
    "        return self.model\n",
    "\n",
    "    def get_year(self):\n",
    "        return self.year \n",
    "    \n",
    "    def get_color(self):\n",
    "        return self.color  \n",
    "    \n",
    "    def get_speed(self):\n",
    "        return self.speed"
   ]
  },
  {
   "cell_type": "code",
   "execution_count": 4,
   "id": "c2a21eeb-0d25-43fe-9eee-2633d6d31418",
   "metadata": {},
   "outputs": [
    {
     "name": "stdout",
     "output_type": "stream",
     "text": [
      "pink\n",
      "CarPro\n",
      "250\n",
      "2024\n"
     ]
    }
   ],
   "source": [
    "objectMyCar = Car(\"CarPro\", 2024, \"pink\", 4, 250)\n",
    "print(objectMyCar.get_color())\n",
    "print(objectMyCar.get_model())\n",
    "print(objectMyCar.get_speed())\n",
    "print(objectMyCar.get_year())"
   ]
  },
  {
   "cell_type": "code",
   "execution_count": 8,
   "id": "dee6af86-db00-4d07-bc4b-8f41fa088d4d",
   "metadata": {},
   "outputs": [],
   "source": [
    "def test_Car_get_model():\n",
    "    MyCar = Car(\"CarMax\", 2023, \"black\", 4, 290)\n",
    "    expected = \"CarMax\"\n",
    "    assert MyCar.get_model() == expected, \"неправильно определили модель\"\n",
    "\n",
    "test_Car_get_model()"
   ]
  },
  {
   "cell_type": "markdown",
   "id": "c43d2bd0-de35-4b4d-a61c-c80515a4e778",
   "metadata": {},
   "source": [
    "2. Создайте класс Student, который представляет студент. У него должны быть атрибуты для хранения имени, фамилии, возраста, адреса и список оценок."
   ]
  },
  {
   "cell_type": "code",
   "execution_count": 10,
   "id": "79a9e278-e494-4e9c-88dd-fafae515092a",
   "metadata": {},
   "outputs": [],
   "source": [
    "class Student():\n",
    "    def __init__(self, name, second_name, age, address, marks_list):\n",
    "        self.name = name\n",
    "        self.second_name = second_name\n",
    "        self.age = age\n",
    "        self.address = address\n",
    "        self.marks_list = marks_list"
   ]
  },
  {
   "cell_type": "markdown",
   "id": "77f19efc-3227-4401-8f11-f3cac3c068dd",
   "metadata": {},
   "source": [
    "3. Создайте класс Book, который представляет книгу. У него должны быть атрибуты для хранения названия, автора, количества страниц и издательства. Добавьте методы для установки и получения этих атрибутов."
   ]
  },
  {
   "cell_type": "code",
   "execution_count": 15,
   "id": "37dfbf68-5824-414b-abe0-f79d5c195ec2",
   "metadata": {},
   "outputs": [],
   "source": [
    "class Book():\n",
    "    def __init__(self, name, author, number_pages, publisher):\n",
    "        self.name = name\n",
    "        self.author = author\n",
    "        self.number_pages = number_pages\n",
    "        self.publisher = publisher\n",
    "        \n",
    "    def get_name(self):\n",
    "        return self.name\n",
    "\n",
    "    def get_author(self):\n",
    "        return self.author \n",
    "    \n",
    "    def get_number_pages(self):\n",
    "        return self.number_pages  \n",
    "    \n",
    "    def get_publisher(self):\n",
    "        return self.publisher\n",
    "\n",
    "    def set_name(self,name):\n",
    "        self.name = name\n",
    "\n",
    "    def set_author(self,author):\n",
    "        self.author = author \n",
    "    \n",
    "    def set_number_pages(self,number_pages):\n",
    "        self.number_pages = number_pages  \n",
    "    \n",
    "    def set_publisher(self,publisher):\n",
    "        self.publisher = publisher"
   ]
  },
  {
   "cell_type": "code",
   "execution_count": 16,
   "id": "10951875-ad97-4243-823e-9786777cc255",
   "metadata": {},
   "outputs": [],
   "source": [
    "def test_Book_get_name():\n",
    "    MyBook = Book(\"Утенок\", \"Бель К.\", 550, \"Миф\")\n",
    "    expected = \"Утенок\"\n",
    "    assert MyBook.get_name() == expected, \"неправильно определили название книги\"\n",
    "\n",
    "test_Book_get_name()"
   ]
  },
  {
   "cell_type": "code",
   "execution_count": 26,
   "id": "02d8fb70-b511-4e3f-8207-ca25f20017ca",
   "metadata": {},
   "outputs": [],
   "source": [
    "def test_Book_set_author():\n",
    "    MyBook = Book(\"-\", \"-\", 2, \"-\")\n",
    "    expected = \"Бель К.\"\n",
    "    MyBook.set_author(expected)\n",
    "    assert MyBook.get_author() == expected, \"неправильно определили автора книги\"\n",
    "\n",
    "test_Book_set_author()"
   ]
  },
  {
   "cell_type": "markdown",
   "id": "c0262c46-df82-43aa-bb2c-728c1ba9bbd0",
   "metadata": {},
   "source": [
    "4. Создайте класс ShoppingCart, который представляет корзину покупок. У него должен быть атрибут для хранения списка товаров. Добавьте методы для добавления, удаления, отображения товаров в корзине и вычиckbnt стоимости всей корзины."
   ]
  },
  {
   "cell_type": "code",
   "execution_count": 36,
   "id": "01171cd8-86af-4260-8a43-ce46bc934101",
   "metadata": {},
   "outputs": [],
   "source": [
    "class ShoppingCart():\n",
    "    def __init__(self, basket_goods = {}):\n",
    "        self.basket_goods = basket_goods\n",
    "\n",
    "    def add_basket_goods(self, name, price):\n",
    "        self.basket_goods[name] = price\n",
    "        return self.basket_goods \n",
    "\n",
    "    def del_basket_goods(self, name):\n",
    "        if self.basket_goods.get(name):\n",
    "            self.basket_goods.pop(name)\n",
    "            print(\"Товар %s удален\" % name)\n",
    "        return self.basket_goods \n",
    "        \n",
    "    def get_basket_goods(self,):\n",
    "        for key, value in self.basket_goods.items():\n",
    "            print(key,value)\n",
    "        return self.basket_goods \n",
    "    \n",
    "    def sum_price_basket_goods(self,):\n",
    "        price = 0\n",
    "        for value in self.basket_goods.values():\n",
    "            price += value\n",
    "        return price"
   ]
  },
  {
   "cell_type": "code",
   "execution_count": 37,
   "id": "0eda3149-469a-4221-90b5-8c5e34d12d68",
   "metadata": {},
   "outputs": [
    {
     "name": "stdout",
     "output_type": "stream",
     "text": [
      "{'яблоко': 5, 'банан': 13, 'апельсин': 7, 'груша': 3, 'кукла': 50}\n",
      "{'яблоко': 5, 'банан': 13, 'апельсин': 7, 'груша': 3, 'кукла': 50}\n",
      "Товар банан удален\n",
      "{'яблоко': 5, 'апельсин': 7, 'груша': 3, 'кукла': 50}\n",
      "яблоко 5\n",
      "апельсин 7\n",
      "груша 3\n",
      "кукла 50\n",
      "{'яблоко': 5, 'апельсин': 7, 'груша': 3, 'кукла': 50}\n",
      "65\n"
     ]
    }
   ],
   "source": [
    "myShoppingCart = ShoppingCart({'яблоко': 5, 'банан': 13, 'апельсин': 7, 'груша': 3})\n",
    "\n",
    "print (myShoppingCart.add_basket_goods(\"кукла\", 50))\n",
    "print (myShoppingCart.del_basket_goods(\"мишка\"))\n",
    "print (myShoppingCart.del_basket_goods(\"банан\"))\n",
    "print (myShoppingCart.get_basket_goods())\n",
    "print (myShoppingCart.sum_price_basket_goods())"
   ]
  },
  {
   "cell_type": "markdown",
   "id": "432cf6e3-ca93-43e4-9a48-e59bb4d6abd8",
   "metadata": {},
   "source": [
    "5. Создайте класс Circle, который представляет круг. У него должен быть атрибут для хранения радиуса и цвета. Добавьте методы для вычисления площади и периметра круга."
   ]
  },
  {
   "cell_type": "code",
   "execution_count": 46,
   "id": "9e4014a9-d00c-471f-8b34-c85da7564380",
   "metadata": {},
   "outputs": [],
   "source": [
    "class Circle():\n",
    "    \n",
    "    def __init__(self, radius, color):\n",
    "        self.radius = radius\n",
    "        self.color = color\n",
    "    \n",
    "    def area(self):\n",
    "        area_Circle=2*3.14*(self.radius**2)\n",
    "        return area_Circle\n",
    "\n",
    "    def perimeter(self):\n",
    "        perimeter_Circle=2*3.14*self.radius\n",
    "        return perimeter_Circle"
   ]
  },
  {
   "cell_type": "code",
   "execution_count": 49,
   "id": "c51d6b03-d9fc-4f0f-ad94-2ea8a9a30ae7",
   "metadata": {},
   "outputs": [
    {
     "name": "stdout",
     "output_type": "stream",
     "text": [
      "56.52\n",
      "18.84\n"
     ]
    }
   ],
   "source": [
    "myCircle = Circle(3, \"black\")\n",
    "print (myCircle.area())\n",
    "print (myCircle.perimeter())"
   ]
  },
  {
   "cell_type": "markdown",
   "id": "5ecd4418-059e-4fe8-a125-da74ce98fefd",
   "metadata": {},
   "source": [
    "6. Создайте класс Point, который представляет точку в двумерном пространстве. У него должны быть атрибуты для хранения координат x и y. Добавьте методы для вычисления расстояния между двумя точками."
   ]
  },
  {
   "cell_type": "code",
   "execution_count": 52,
   "id": "3b6031e2-ae8f-464f-ae96-b503b2931048",
   "metadata": {},
   "outputs": [],
   "source": [
    "from math import sqrt\n",
    "class Point:\n",
    "\n",
    "    def __init__(self, x, y):\n",
    "        self.x = x\n",
    "        self.y = y\n",
    "\n",
    "    def calculate_distance(self,other_Point):\n",
    "        distance = sqrt((self.x - other_Point.x)**2 + (self.y - other_Point.y)**2)            \n",
    "        return distance"
   ]
  },
  {
   "cell_type": "code",
   "execution_count": 53,
   "id": "1bcfba1b-da53-43f6-b565-6e4276685f1d",
   "metadata": {},
   "outputs": [
    {
     "name": "stdout",
     "output_type": "stream",
     "text": [
      "2.8284271247461903\n"
     ]
    }
   ],
   "source": [
    "myPoint = Point(3,7)\n",
    "print (myPoint.calculate_distance(Point(5,9)))"
   ]
  },
  {
   "cell_type": "markdown",
   "id": "2db5f269-f0d3-4ddf-ac39-8475e74c5653",
   "metadata": {},
   "source": [
    "7. Создайте класс Triangle, который представляет треугольник. У него должны быть атрибуты длины сторон. Добавьте методы для вычисления перимера треугольника и методы вычисления типа треугольника ( равностороннйи, павнобедренный, прямоуголный или разносторонний)."
   ]
  },
  {
   "cell_type": "code",
   "execution_count": 2,
   "id": "1d3567da-4114-4055-bd07-b4ac373ca8c9",
   "metadata": {},
   "outputs": [],
   "source": [
    "class Triangle():\n",
    "    \n",
    "    def __init__(self, a, b, c):\n",
    "        self.a = a\n",
    "        self.b = b\n",
    "        self.c = c\n",
    "    \n",
    "    def perimeter(self):\n",
    "        perimeter_triangle=self.a+self.b+self.c \n",
    "        return perimeter_triangle\n",
    "\n",
    "    def get_type_triangle(self):\n",
    "        list_lengths = [self.a, self.b, self.c]\n",
    "        list_lengths.sort()\n",
    "        if list_lengths[0] + list_lengths[1] <= list_lengths[2]:\n",
    "            result = \"не треугольник\"\n",
    "        elif self.a == self.b and self.b == self.c:\n",
    "            result = \"равносторонний\"\n",
    "        elif self.a == self.b or self.b == self.c or self.a == self.c:\n",
    "            result = \"равнобедренный\"\n",
    "        elif list_lengths[0] ** 2 + list_lengths[1] ** 2 == list_lengths[2] ** 2:\n",
    "            result = \"прямоугольный\"\n",
    "        else:\n",
    "            result = \"разносторонний\"\n",
    "        return result"
   ]
  },
  {
   "cell_type": "code",
   "execution_count": 8,
   "id": "133fb281-f976-4adc-b26f-a8385bd00728",
   "metadata": {},
   "outputs": [
    {
     "name": "stdout",
     "output_type": "stream",
     "text": [
      "60\n",
      "не треугольник\n"
     ]
    }
   ],
   "source": [
    "myTriangle = Triangle(5, 5, 50)\n",
    "print (myTriangle.perimeter())\n",
    "print (myTriangle.get_type_triangle())"
   ]
  },
  {
   "cell_type": "markdown",
   "id": "8d07e3e4-f1f7-410a-bbe7-dbcf5e2d8ee7",
   "metadata": {},
   "source": [
    "8. Создайте класс BankAccount, который представляет банковский счет. У него должны быть атрибуты для хранения номера счета, имени владельца и баланса. Добавьте методы для внесения и снятия денег со счета."
   ]
  },
  {
   "cell_type": "code",
   "execution_count": 12,
   "id": "c6a4d48f-890f-45e6-a5fb-e930d360b041",
   "metadata": {},
   "outputs": [],
   "source": [
    "class BankAccount():\n",
    "    \n",
    "    def __init__(self, account_number, holder_name, card_balance):\n",
    "        self.account_number = int(account_number)\n",
    "        self.holder_name = str(holder_name)\n",
    "        self.card_balance = float(card_balance)\n",
    "\n",
    "    def put_money(self, money):\n",
    "        self.card_balance += money\n",
    "        return self.card_balance\n",
    "\n",
    "    def withdraw_money(self, money):\n",
    "        if self.card_balance >= float(money):\n",
    "            self.card_balance -= float(money)\n",
    "            return self.card_balance\n",
    "        else:\n",
    "            return 'Ошибка. Запрашиваемая сумма больше вашего баланса на счету'"
   ]
  },
  {
   "cell_type": "code",
   "execution_count": 15,
   "id": "566789e5-f2cb-463a-a3c0-17bfccac8acb",
   "metadata": {},
   "outputs": [
    {
     "name": "stdout",
     "output_type": "stream",
     "text": [
      "5050.0\n",
      "Ошибка. Запрашиваемая сумма больше вашего баланса на счету\n",
      "4750.0\n"
     ]
    }
   ],
   "source": [
    "myBankAccount = BankAccount(3748965, 'Irina', 5000)\n",
    "print (myBankAccount.put_money(50))\n",
    "print (myBankAccount.withdraw_money(7000))\n",
    "print (myBankAccount.withdraw_money(300))"
   ]
  },
  {
   "cell_type": "markdown",
   "id": "2d849ca5-a527-41cc-9ebf-705f76799e49",
   "metadata": {},
   "source": [
    "9. Создайте класс Date, который представляет дату. У него должны быть атрибуты для хранения дня, месяца и года. Добавьте методы для сравнения двух дат и вычисления разницы между ними."
   ]
  },
  {
   "cell_type": "code",
   "execution_count": 24,
   "id": "d93bbd7c-5d5f-43a2-be6f-3a432c73b212",
   "metadata": {},
   "outputs": [],
   "source": [
    "from datetime import datetime\n",
    "\n",
    "\n",
    "class Date:\n",
    "    def __init__(self, year, month, day):\n",
    "        self.year = year\n",
    "        self.month = month\n",
    "        self.day = day\n",
    "        self.date = datetime(year, month, day)\n",
    "\n",
    "    def compare_days(self,other):\n",
    "        return (self.date - other.date).days\n",
    "\n",
    "    # определяем поведение оператораминус для класса Date\n",
    "    def __sub__(self,other):\n",
    "        return (self.date - other.date).days\n",
    "\n",
    "    def __lt__(self, other):  #использ для определения поведения при сравнении объектов с помощью оператора <\n",
    "        if self.year < other.year:\n",
    "            return True\n",
    "        elif self.year == other.year:\n",
    "            if self.month < other.month:\n",
    "                return True\n",
    "            elif self.month == other.month:\n",
    "                return self.day < other.day\n",
    "        return False"
   ]
  },
  {
   "cell_type": "code",
   "execution_count": 27,
   "id": "686a3fd3-ecb5-423a-bc79-76449fa3df58",
   "metadata": {},
   "outputs": [
    {
     "name": "stdout",
     "output_type": "stream",
     "text": [
      "365\n",
      "365\n",
      "True\n",
      "False\n",
      "False\n"
     ]
    }
   ],
   "source": [
    "date1 = Date (2000, 1, 11)\n",
    "date2 = Date (1999, 1, 11)\n",
    "\n",
    "print(date1.compare_days(date2))\n",
    "print(date1-date2)\n",
    "\n",
    "print(date1>date2)\n",
    "print(date1<date2)\n",
    "print(date1==date2)"
   ]
  },
  {
   "cell_type": "markdown",
   "id": "1c196431-3d1f-472f-aedb-8627caa8a05c",
   "metadata": {},
   "source": [
    "# Оформите каждый класс в отдельный модуль и напишиет на эти классы тесты."
   ]
  },
  {
   "cell_type": "code",
   "execution_count": null,
   "id": "ee03bcad-9c0c-4a93-be63-f7c7bea3348d",
   "metadata": {},
   "outputs": [],
   "source": []
  }
 ],
 "metadata": {
  "kernelspec": {
   "display_name": "Python 3 (ipykernel)",
   "language": "python",
   "name": "python3"
  },
  "language_info": {
   "codemirror_mode": {
    "name": "ipython",
    "version": 3
   },
   "file_extension": ".py",
   "mimetype": "text/x-python",
   "name": "python",
   "nbconvert_exporter": "python",
   "pygments_lexer": "ipython3",
   "version": "3.10.10"
  }
 },
 "nbformat": 4,
 "nbformat_minor": 5
}
