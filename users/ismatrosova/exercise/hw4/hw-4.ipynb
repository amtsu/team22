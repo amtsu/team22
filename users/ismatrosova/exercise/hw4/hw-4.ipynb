{
 "cells": [
  {
   "cell_type": "markdown",
   "id": "bdda8c75-105b-4f24-8862-673bcc68f447",
   "metadata": {},
   "source": [
    "Домашнее задание №4. \n",
    "Списки и операции с ними."
   ]
  },
  {
   "cell_type": "markdown",
   "id": "de36547c-88dd-4997-a12c-cdeb1e9e6ac8",
   "metadata": {},
   "source": [
    "Задание 1.\n",
    "выполните следующий код\n",
    "<code>\n",
    "list_one = [1, 2, 3, 4, 5, 6, 9]\n",
    "list_two = [1, 2, 3, 4, 5, 6, 9]\n",
    "list_two.append(789)\n",
    "print(list_one, list_two, sep='\\n') \n",
    "</code>\n",
    "затем выполните код \n",
    "<code>\n",
    "list_one = [1, 2, 3, 4, 5, 6, 9]\n",
    "list_two = list_one\n",
    "list_two.append(789)\n",
    "print(list_one, list_two, sep='\\n')     \n",
    "</code>\n",
    "запишите объяснения разницы в выполнении кода в переменную difference_explanation и выведите ее на экран"
   ]
  },
  {
   "cell_type": "code",
   "execution_count": 1,
   "id": "680d9e95-a34c-4f6c-8693-3a72207219b5",
   "metadata": {},
   "outputs": [
    {
     "name": "stdout",
     "output_type": "stream",
     "text": [
      "[1, 2, 3, 4, 5, 6, 9]\n",
      "[1, 2, 3, 4, 5, 6, 9, 789]\n"
     ]
    }
   ],
   "source": [
    "#решение можно писать тут\n",
    "list_one = [1, 2, 3, 4, 5, 6, 9] # список1\n",
    "list_two = [1, 2, 3, 4, 5, 6, 9] # список2\n",
    "list_two.append(789) # к списку2 добавили элемент 789\n",
    "print(list_one, list_two, sep='\\n')"
   ]
  },
  {
   "cell_type": "code",
   "execution_count": 2,
   "id": "dfd3271d-9963-4961-8492-cb8f9e898165",
   "metadata": {},
   "outputs": [
    {
     "name": "stdout",
     "output_type": "stream",
     "text": [
      "[1, 2, 3, 4, 5, 6, 9, 789]\n",
      "[1, 2, 3, 4, 5, 6, 9, 789]\n"
     ]
    }
   ],
   "source": [
    "list_one = [1, 2, 3, 4, 5, 6, 9] # список1\n",
    "list_two = list_one # присваеваем к списку2 содержимое списка1. Они указывают на одну память.\n",
    "list_two.append(789) # через список2 в ту память добавляем элемент 789\n",
    "print(list_one, list_two, sep='\\n') # выводим два списка, у которых общая память"
   ]
  },
  {
   "cell_type": "markdown",
   "id": "9062939d-6f44-44cf-9b28-5854ebeb1594",
   "metadata": {},
   "source": [
    "Задание 2.\n",
    "Задайте переменную a_poem типа строка, со следующим содержимым:\n",
    "<code>\n",
    "За стеклом лежал Питон,\n",
    "Большой и толстый, как батон.\n",
    "Вверх пополз,\n",
    "Затем вернулся,\n",
    "Круглым бубликом свернулся.\n",
    "</code>\n",
    "- Создайте переменную a_list типа список, заполнив ее содержимым строки a_poem так, чтобы каждый символ строки a_poem стал отдельным элементом списка a_list\n",
    "- Создайте переменную another_list типа список, заполнив ее содержимым строки a_poem так, чтобы каждое слово строки a_poem стал отдельным элементом списка another_list. Знаки препинания прилипнут к словам, не страшно.\n",
    "- Выведите на экран элементы и их количество для списков a_list и another_list.\n",
    "- Создайте переменную one_more_list типа список, каждым элементом которой является отдельная строка строфы из a_poem. Выведите на экран элементы one_more_list и их количество."
   ]
  },
  {
   "cell_type": "code",
   "execution_count": 3,
   "id": "ac243f9a-2a7a-49aa-b58b-993fea424ec4",
   "metadata": {},
   "outputs": [
    {
     "name": "stdout",
     "output_type": "stream",
     "text": [
      "За стеклом лежал Питон,\n",
      "Большой и толстый, как батон.\n",
      "Вверх пополз,\n",
      "Затем вернулся,\n",
      "Круглым бубликом свернулся.\n"
     ]
    }
   ],
   "source": [
    "#решение можно писать тут\n",
    "a_poem = '''За стеклом лежал Питон,\n",
    "Большой и толстый, как батон.\n",
    "Вверх пополз,\n",
    "Затем вернулся,\n",
    "Круглым бубликом свернулся.'''\n",
    "print(a_poem)"
   ]
  },
  {
   "cell_type": "code",
   "execution_count": 4,
   "id": "fb46fc5a-c07b-477f-9891-718f4a13e0c3",
   "metadata": {},
   "outputs": [
    {
     "name": "stdout",
     "output_type": "stream",
     "text": [
      "111 ['З', 'а', ' ', 'с', 'т', 'е', 'к', 'л', 'о', 'м', ' ', 'л', 'е', 'ж', 'а', 'л', ' ', 'П', 'и', 'т', 'о', 'н', ',', '\\n', 'Б', 'о', 'л', 'ь', 'ш', 'о', 'й', ' ', 'и', ' ', 'т', 'о', 'л', 'с', 'т', 'ы', 'й', ',', ' ', 'к', 'а', 'к', ' ', 'б', 'а', 'т', 'о', 'н', '.', '\\n', 'В', 'в', 'е', 'р', 'х', ' ', 'п', 'о', 'п', 'о', 'л', 'з', ',', '\\n', 'З', 'а', 'т', 'е', 'м', ' ', 'в', 'е', 'р', 'н', 'у', 'л', 'с', 'я', ',', '\\n', 'К', 'р', 'у', 'г', 'л', 'ы', 'м', ' ', 'б', 'у', 'б', 'л', 'и', 'к', 'о', 'м', ' ', 'с', 'в', 'е', 'р', 'н', 'у', 'л', 'с', 'я', '.']\n"
     ]
    }
   ],
   "source": [
    "a_list = list(a_poem)\n",
    "\n",
    "print(len(a_list), a_list)"
   ]
  },
  {
   "cell_type": "code",
   "execution_count": 5,
   "id": "1de27a56-8a62-4763-bfb0-47250300025b",
   "metadata": {},
   "outputs": [
    {
     "name": "stdout",
     "output_type": "stream",
     "text": [
      "16 ['За', 'стеклом', 'лежал', 'Питон,', 'Большой', 'и', 'толстый,', 'как', 'батон.', 'Вверх', 'пополз,', 'Затем', 'вернулся,', 'Круглым', 'бубликом', 'свернулся.']\n"
     ]
    }
   ],
   "source": [
    "another_list = a_poem.split()\n",
    "print(len(another_list), another_list)"
   ]
  },
  {
   "cell_type": "code",
   "execution_count": 6,
   "id": "52339f66-b9c3-41ed-ba84-7cf32d0f519c",
   "metadata": {},
   "outputs": [
    {
     "name": "stdout",
     "output_type": "stream",
     "text": [
      "5 ['За стеклом лежал Питон,', 'Большой и толстый, как батон.', 'Вверх пополз,', 'Затем вернулся,', 'Круглым бубликом свернулся.']\n"
     ]
    }
   ],
   "source": [
    "one_more_list = a_poem.split(\"\\n\")\n",
    "print(len(one_more_list), one_more_list)"
   ]
  },
  {
   "cell_type": "markdown",
   "id": "2b39f64c-c7d4-4eb5-907e-d0d9f598c33f",
   "metadata": {},
   "source": [
    "Задание 3.\n",
    "- Создайте список solyanka_list, в качестве его элементов добавьте значения каждого из известных вам типов данных python.\n",
    "- Выведите на экран содержимое списка solyanka_list.\n",
    "- Посчитайте количество элементов списка solyanka_list.\n",
    "- Выведите на экран тип пятого от начала списка элемента.\n",
    "- Добавьте в конец списка solyanka_list элемент типа \"список\" из одного элемента\n",
    "- Выведите на экран тип последнего элемента списка solyanka_list "
   ]
  },
  {
   "cell_type": "code",
   "execution_count": 7,
   "id": "1317a98b-5c29-4cb5-b0cf-9dc94a030f08",
   "metadata": {},
   "outputs": [
    {
     "name": "stdout",
     "output_type": "stream",
     "text": [
      "[100, 55.5, 'Point', [1, 5, 3, 'abc'], (1, 5, 3, 'abc'), {1, 3, 5, 'abc'}, {1: 'str', 2: 'bar'}, True]\n",
      "8\n",
      "<class 'tuple'>\n",
      "[100, 55.5, 'Point', [1, 5, 3, 'abc'], (1, 5, 3, 'abc'), {1, 3, 5, 'abc'}, {1: 'str', 2: 'bar'}, True, ['66666']]\n",
      "<class 'list'>\n"
     ]
    }
   ],
   "source": [
    "#решение можно писать тут\n",
    "''' это многострочный коментарий?\n",
    "    Число целое (int): 100\n",
    "    Число вещественное (float): 55.5\n",
    "    Число комплексные\n",
    "    Строка (str): \"Point\"\n",
    "    Список (list): [1, 5, 3, \"abc\"]\n",
    "    Кортеж (tuple): (1, 5, 3, \"abc\")\n",
    "    Множество (set): {1, 5, 3, \"abc\"}\n",
    "    Словарь (dict): {1: \"str\", 2: \"bar\"}\n",
    "    Логический (bool): True, False\n",
    "'''\n",
    "\n",
    "solyanka_list = [100, 55.5 , \"Point\", [1, 5, 3, \"abc\"], (1, 5, 3, \"abc\"), {1, 5, 3, \"abc\"}, {1: \"str\", 2: \"bar\"}, True]\n",
    "print(solyanka_list)\n",
    "print(len(solyanka_list))\n",
    "print(type(solyanka_list[4]))\n",
    "solyanka_list.append([\"66666\"])\n",
    "print(solyanka_list)\n",
    "print(type(solyanka_list[-1]))"
   ]
  },
  {
   "cell_type": "markdown",
   "id": "1c3f95c6-cd6a-4ce5-b70b-654e896551fa",
   "metadata": {},
   "source": [
    "Задание 4.\n",
    "Дана последовательности чисел Фибоначчи из нескольких элементов:\n",
    "<code>\n",
    "0, 1, 1, 2, 3, 5, 8, 13, 21, 34, 55, 89, 144, 233, 377, 610, 987, 1597, 2584, 4181, 6765, 10946, 17711\n",
    "</code>\n",
    "- Создайте список fibonacci_list, элементами которого будут числа Фибонначи из задания.\n",
    "- Посчитайте и выведите на экран, сколько чисел Фибоначчи в последовательности из задания\n",
    "- Посчитайте и выведите на экран, сколько раз число 1 входит в заданную последовательность Фибоначчи.\n",
    "- Проверьте и выведите на экран результат, является ли число 21 числом Фибоначчи. Число 33? Число 987? число 9999?\n",
    "использование оператора if возможно, но не является необходимым\n"
   ]
  },
  {
   "cell_type": "code",
   "execution_count": 8,
   "id": "ea8bb03d-b06c-4f60-af8a-dcf862bc80d0",
   "metadata": {},
   "outputs": [
    {
     "name": "stdout",
     "output_type": "stream",
     "text": [
      "23\n",
      "True\n",
      "False\n",
      "True\n",
      "False\n"
     ]
    }
   ],
   "source": [
    "#решение можно писать тут\n",
    "fibonacci_list = [0, 1, 1, 2, 3, 5, 8, 13, 21, 34, 55, 89, 144, 233, 377, 610, 987, 1597, 2584, 4181, 6765, 10946, 17711]\n",
    "print(len(fibonacci_list))\n",
    "fibonacci_list.count(1)\n",
    "\n",
    "print(21 in fibonacci_list)\n",
    "print(33 in fibonacci_list)\n",
    "print(987 in fibonacci_list)\n",
    "print(9999 in fibonacci_list)"
   ]
  },
  {
   "cell_type": "markdown",
   "id": "dcdad8af-7eb3-4141-9ddf-fe563743c56b",
   "metadata": {},
   "source": [
    "Задание 5.\n",
    "Задайте переменную a_list типа \"список\" со следующим содержимым:\n",
    "<code>\n",
    "1,2,5,4,3,6\n",
    "</code>\n",
    "- выведите содержимое a_list на экран\n",
    "- поменяйте местами третий и пятый элементы a_list и выведите результат на экран"
   ]
  },
  {
   "cell_type": "code",
   "execution_count": 9,
   "id": "bda69f95-b8b5-4129-b0cb-d4ccbedc60c7",
   "metadata": {},
   "outputs": [
    {
     "name": "stdout",
     "output_type": "stream",
     "text": [
      "[1, 2, 5, 4, 3, 6]\n",
      "[1, 2, 3, 4, 5, 6]\n"
     ]
    }
   ],
   "source": [
    "#решение можно писать тут\n",
    "a_list = [1,2,5,4,3,6]\n",
    "print(a_list)\n",
    "temp = a_list[4]\n",
    "a_list[4] = a_list[2]\n",
    "a_list[2] = temp\n",
    "print(a_list)"
   ]
  },
  {
   "cell_type": "markdown",
   "id": "15144689-623a-43a5-80ca-0483f66017a1",
   "metadata": {},
   "source": [
    "Задание 6.\n",
    "    Кто-то перепутал строчки в стихотворении, хорошо что они были пронумерованы.\n",
    "<code>\n",
    "    (2, \"тот большего добьётся,\" )\n",
    "    (5, \"Кто умирал, тот знает, что живёт.\")\n",
    "    (1, \"Кто битым жизнью был,\" )\n",
    "    (3, \"Пуд соли съевший выше ценит мёд.\")\n",
    "    (4, \"Кто слёзы лил, тот искренней смеётся,\") \n",
    "</code>\n",
    "    выведите на экран строки Омара Хайама в правильном порядке, используя список."
   ]
  },
  {
   "cell_type": "code",
   "execution_count": 10,
   "id": "e85d1901-5856-41e1-bfb8-382e8489f86b",
   "metadata": {},
   "outputs": [
    {
     "name": "stdout",
     "output_type": "stream",
     "text": [
      "<class 'str'>\n",
      "(2, \"тот большего добьётся,\" )\n",
      "(5, \"Кто умирал, тот знает, что живёт.\")\n",
      "(1, \"Кто битым жизнью был,\" )\n",
      "(3, \"Пуд соли съевший выше ценит мёд.\")\n",
      "(4, \"Кто слёзы лил, тот искренней смеётся,\")\n",
      "<class 'list'>\n",
      "['(2, \"тот большего добьётся,\" )', '(5, \"Кто умирал, тот знает, что живёт.\")', '(1, \"Кто битым жизнью был,\" )', '(3, \"Пуд соли съевший выше ценит мёд.\")', '(4, \"Кто слёзы лил, тот искренней смеётся,\")']\n",
      "\n",
      "\n",
      "['(1, \"Кто битым жизнью был,\" )', '(2, \"тот большего добьётся,\" )', '(3, \"Пуд соли съевший выше ценит мёд.\")', '(4, \"Кто слёзы лил, тот искренней смеётся,\")', '(5, \"Кто умирал, тот знает, что живёт.\")']\n"
     ]
    }
   ],
   "source": [
    "#решение можно писать тут\n",
    "str = '''(2, \"тот большего добьётся,\" )\n",
    "(5, \"Кто умирал, тот знает, что живёт.\")\n",
    "(1, \"Кто битым жизнью был,\" )\n",
    "(3, \"Пуд соли съевший выше ценит мёд.\")\n",
    "(4, \"Кто слёзы лил, тот искренней смеётся,\")'''\n",
    "print(type(str))\n",
    "print(str)\n",
    "\n",
    "strlist = str.split('\\n')\n",
    "print(type(strlist))\n",
    "print(strlist)\n",
    "\n",
    "strlist.sort()\n",
    "print('\\n')\n",
    "print(strlist)\n",
    "\n",
    "\n",
    "#sorted(str)"
   ]
  },
  {
   "cell_type": "markdown",
   "id": "d1eaace5-016a-4564-b189-33876e6c0e20",
   "metadata": {},
   "source": [
    "Задание 7.\n",
    "<code>\n",
    "Кто битым за дедлайн был,\n",
    "тот больше не сольется.\n",
    "Пуд багов съевший, выше ценит чистый код.\n",
    "Кто дошик ел, тот рейтинг ценит свой.\n",
    "Кто крашился, тот знает, что живой.\n",
    "</code>\n",
    "В данном задании после каждой операции выводите на экран содержимое true_story_list и количество его элементов.\n",
    "- Создайте переменную true_story_list типа список, занесите в неё третью строку из стихотворения выше.\n",
    "- Добавьте четвертую строку в конец списка true_story_list.\n",
    "- Создайте переменную true_story_slice типа список, занесите в неё четвертую и пятую строки из стихотворения выше. Добавьте содержимое true_story_slice как один последний элемент списка true_story_list.\n",
    "- Очистите весь список true_story_slice, выведите его содержимое на экран.\n",
    "- Добавьте первую строку из стихотворение в начало списка true_story_list\n",
    "- Удалите из true_story_list все элементы.\n",
    "- Удалите последний элемент списка true_story_list\n",
    "- Добавьте вторым элементом списка true_story_list вторую строчку стихотворения\n",
    "- Создайте переменную true_story_tail типа список, занесите в него пятую строку стихотворения дважды. Скопируйте элементы списка true_story_tail в конец списка true_story_list.\n",
    "- Удалите 5 элемент списка true_story_list.\n",
    "- *Выведите список true_story_list красиво в виде стихотворения. (кажется, это ещё не проходили, но попробовать стоит)"
   ]
  },
  {
   "cell_type": "code",
   "execution_count": 11,
   "id": "f022d5b0-5d91-4662-9bf2-6bc20fb1b269",
   "metadata": {},
   "outputs": [
    {
     "name": "stdout",
     "output_type": "stream",
     "text": [
      "<class 'list'> \n",
      " ['Пуд багов съевший, выше ценит чистый код.'] \n",
      " 1\n"
     ]
    }
   ],
   "source": [
    "#Создайте переменную true_story_list типа список, занесите в неё третью строку из стихотворения выше.\n",
    "story='''Кто битым за дедлайн был,\n",
    "тот больше не сольется.\n",
    "Пуд багов съевший, выше ценит чистый код.\n",
    "Кто дошик ел, тот рейтинг ценит свой.\n",
    "Кто крашился, тот знает, что живой.'''\n",
    "true_story = story.split('\\n')\n",
    "\n",
    "true_story_list = []\n",
    "true_story_list.append(true_story[2])\n",
    "print(type(true_story_list), '\\n', true_story_list, '\\n', len(true_story_list))"
   ]
  },
  {
   "cell_type": "code",
   "execution_count": 12,
   "id": "bed6e1c0-0beb-48d0-ac77-dc6775cb2bf9",
   "metadata": {},
   "outputs": [
    {
     "name": "stdout",
     "output_type": "stream",
     "text": [
      "<class 'list'> \n",
      " ['Пуд багов съевший, выше ценит чистый код.', 'Кто дошик ел, тот рейтинг ценит свой.'] \n",
      " 2\n"
     ]
    }
   ],
   "source": [
    "#Добавьте четвертую строку в конец списка true_story_list.\n",
    "true_story_list.append(true_story[3])\n",
    "print(type(true_story_list), '\\n', true_story_list, '\\n', len(true_story_list))"
   ]
  },
  {
   "cell_type": "code",
   "execution_count": 13,
   "id": "f666fd70-b574-4cda-9041-6a36776353ce",
   "metadata": {},
   "outputs": [
    {
     "name": "stdout",
     "output_type": "stream",
     "text": [
      "<class 'list'> \n",
      " ['Пуд багов съевший, выше ценит чистый код.', 'Кто дошик ел, тот рейтинг ценит свой.', ['Кто дошик ел, тот рейтинг ценит свой.', 'Кто крашился, тот знает, что живой.']] \n",
      " 3\n"
     ]
    }
   ],
   "source": [
    "#Создайте переменную true_story_slice типа список, занесите в неё четвертую и пятую строки из стихотворения выше. Добавьте содержимое true_story_slice как один последний элемент списка true_story_list.\n",
    "true_story_slice = []\n",
    "true_story_slice.append(true_story[3])\n",
    "true_story_slice.append(true_story[4])\n",
    "true_story_list.append(true_story_slice)\n",
    "print(type(true_story_list), '\\n', true_story_list, '\\n', len(true_story_list))"
   ]
  },
  {
   "cell_type": "code",
   "execution_count": 14,
   "id": "5932bbcf-e948-48c1-baed-f296cdbf52f9",
   "metadata": {},
   "outputs": [
    {
     "name": "stdout",
     "output_type": "stream",
     "text": [
      "<class 'list'> \n",
      " [] \n",
      " 0\n"
     ]
    }
   ],
   "source": [
    "#Очистите весь список true_story_slice, выведите его содержимое на экран.\n",
    "true_story_slice.clear()\n",
    "print(type(true_story_slice), '\\n', true_story_slice, '\\n', len(true_story_slice))"
   ]
  },
  {
   "cell_type": "code",
   "execution_count": 15,
   "id": "84e030cb-8f93-40ef-be3e-a98d08ed3da7",
   "metadata": {},
   "outputs": [
    {
     "name": "stdout",
     "output_type": "stream",
     "text": [
      "<class 'list'> \n",
      " ['Кто битым за дедлайн был,', 'Пуд багов съевший, выше ценит чистый код.', 'Кто дошик ел, тот рейтинг ценит свой.', []] \n",
      " 4\n"
     ]
    }
   ],
   "source": [
    "#Добавьте первую строку из стихотворение в начало списка true_story_list\n",
    "true_story_list.insert(0,true_story[0])\n",
    "print(type(true_story_list), '\\n', true_story_list, '\\n', len(true_story_list))\n",
    "#[] - остаток true_story_slice, копируется все по ссылке"
   ]
  },
  {
   "cell_type": "code",
   "execution_count": 16,
   "id": "1a4ad65d-6ad9-4fb2-8694-24ab04ba37df",
   "metadata": {},
   "outputs": [],
   "source": [
    "#Удалите из true_story_list все элементы.\n",
    "#true_story_list.clear()\n",
    "#print(type(true_story_list), '\\n', true_story_list, '\\n', len(true_story_list))"
   ]
  },
  {
   "cell_type": "code",
   "execution_count": 17,
   "id": "d60752ba-df4e-4638-8b57-92a9820b2cc6",
   "metadata": {},
   "outputs": [
    {
     "name": "stdout",
     "output_type": "stream",
     "text": [
      "<class 'list'> \n",
      " ['Кто битым за дедлайн был,', 'Пуд багов съевший, выше ценит чистый код.', 'Кто дошик ел, тот рейтинг ценит свой.'] \n",
      " 3\n"
     ]
    }
   ],
   "source": [
    "#Удалите последний элемент списка true_story_list\n",
    "del true_story_list [-1]\n",
    "print(type(true_story_list), '\\n', true_story_list, '\\n', len(true_story_list))"
   ]
  },
  {
   "cell_type": "code",
   "execution_count": 18,
   "id": "44f69835-ef55-4168-b945-18a30e5265e0",
   "metadata": {},
   "outputs": [
    {
     "name": "stdout",
     "output_type": "stream",
     "text": [
      "<class 'list'> \n",
      " ['Кто битым за дедлайн был,', 'тот больше не сольется.', 'Пуд багов съевший, выше ценит чистый код.', 'Кто дошик ел, тот рейтинг ценит свой.'] \n",
      " 4\n"
     ]
    }
   ],
   "source": [
    "#Добавьте вторым элементом списка true_story_list вторую строчку стихотворения\n",
    "true_story_list.insert(1,true_story[1])\n",
    "print(type(true_story_list), '\\n', true_story_list, '\\n', len(true_story_list))"
   ]
  },
  {
   "cell_type": "code",
   "execution_count": 19,
   "id": "82af839b-fd47-448e-922c-a16817859521",
   "metadata": {},
   "outputs": [
    {
     "name": "stdout",
     "output_type": "stream",
     "text": [
      "<class 'list'> \n",
      " ['Кто крашился, тот знает, что живой.', 'Кто крашился, тот знает, что живой.'] \n",
      " 2\n",
      "<class 'list'> \n",
      " ['Кто битым за дедлайн был,', 'тот больше не сольется.', 'Пуд багов съевший, выше ценит чистый код.', 'Кто дошик ел, тот рейтинг ценит свой.', 'Кто крашился, тот знает, что живой.', 'Кто крашился, тот знает, что живой.'] \n",
      " 6\n"
     ]
    }
   ],
   "source": [
    "#Создайте переменную true_story_tail типа список, занесите в него пятую строку стихотворения дважды. Скопируйте элементы списка true_story_tail в конец списка true_story_list.\n",
    "true_story_tail = []\n",
    "true_story_tail.append(true_story[4])\n",
    "true_story_tail.append(true_story[4])\n",
    "print(type(true_story_tail), '\\n', true_story_tail, '\\n', len(true_story_tail))\n",
    "true_story_list.extend(true_story_tail)\n",
    "print(type(true_story_list), '\\n', true_story_list, '\\n', len(true_story_list))"
   ]
  },
  {
   "cell_type": "code",
   "execution_count": 20,
   "id": "125ef96c-9b2c-4de8-b201-2f243927024c",
   "metadata": {},
   "outputs": [
    {
     "name": "stdout",
     "output_type": "stream",
     "text": [
      "<class 'list'> \n",
      " ['Кто битым за дедлайн был,', 'тот больше не сольется.', 'Пуд багов съевший, выше ценит чистый код.', 'Кто дошик ел, тот рейтинг ценит свой.', 'Кто крашился, тот знает, что живой.'] \n",
      " 5\n"
     ]
    }
   ],
   "source": [
    "del true_story_list [4]\n",
    "print(type(true_story_list), '\\n', true_story_list, '\\n', len(true_story_list))"
   ]
  },
  {
   "cell_type": "code",
   "execution_count": 21,
   "id": "130ccae2-bd5c-4ed1-8f8e-73e46ed5f4d8",
   "metadata": {},
   "outputs": [
    {
     "name": "stdout",
     "output_type": "stream",
     "text": [
      "Кто битым за дедлайн был,\n",
      "тот больше не сольется.\n",
      "Пуд багов съевший, выше ценит чистый код.\n",
      "Кто дошик ел, тот рейтинг ценит свой.\n",
      "Кто крашился, тот знает, что живой.\n"
     ]
    }
   ],
   "source": [
    "stix = '\\n'.join(true_story_list)\n",
    "print(stix)"
   ]
  },
  {
   "cell_type": "markdown",
   "id": "c1abfad7-cd4a-4ae6-8fad-7c7c401c3e2d",
   "metadata": {},
   "source": [
    "#  test"
   ]
  },
  {
   "cell_type": "code",
   "execution_count": null,
   "id": "79141109-487d-4aba-ab77-f059c8b42942",
   "metadata": {},
   "outputs": [],
   "source": []
  },
  {
   "cell_type": "code",
   "execution_count": null,
   "id": "59bc2ca0-ca5e-4b8a-999b-96f1cbb5a856",
   "metadata": {},
   "outputs": [],
   "source": [
    "\n"
   ]
  }
 ],
 "metadata": {
  "kernelspec": {
   "display_name": "Python 3 (ipykernel)",
   "language": "python",
   "name": "python3"
  },
  "language_info": {
   "codemirror_mode": {
    "name": "ipython",
    "version": 3
   },
   "file_extension": ".py",
   "mimetype": "text/x-python",
   "name": "python",
   "nbconvert_exporter": "python",
   "pygments_lexer": "ipython3",
   "version": "3.10.10"
  }
 },
 "nbformat": 4,
 "nbformat_minor": 5
}
