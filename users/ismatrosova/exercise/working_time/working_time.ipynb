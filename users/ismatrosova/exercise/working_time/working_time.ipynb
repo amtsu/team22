{
 "cells": [
  {
   "cell_type": "code",
   "execution_count": 3,
   "id": "e1bb9101-5f70-4e36-add3-ceb96f3d67e1",
   "metadata": {},
   "outputs": [],
   "source": [
    "\"\"\"Сообщение скопираваное с телеграмма\n",
    "\n",
    "\n",
    "Всем привет. \n",
    "Сегодня Артём ставил сначала одну задачу для всех, и мы параллельно писали код. Кто справлялся быстрее, он ему докидывал следующую.\n",
    "\n",
    "Задача 1:\n",
    "Создать список дел. У каждого дела будет описание и приоритет от А (высокое) до С (низкое). Вывести самое приоритетное для вас дело\n",
    "\n",
    "Дополнение_1, кто справился:\n",
    "Написать тест к задаче 1\n",
    "\n",
    "Доп_2:\n",
    "Написать тест, если нет задачи с приоритетом “а”.\n",
    "\n",
    "Доп_3 (но не всем):\n",
    "Сделать тест, если а, в, с дела не по порядку, а в разноброс и проверить его. В случае неуспеха дорабатываем функции.\n",
    "\n",
    "Все наши работы должны быть выложены сегодня по адресу: \n",
    "\n",
    "https://github.com/amtsu/team22/tree/main/library/working_time/wt240331.py\n",
    "\n",
    "\n",
    "А это уже домой подумать: \n",
    "\n",
    "в списке нет дел с приоритетом 'а' тест\n",
    "дело\n",
    "    название\n",
    "    приорите\n",
    "    время запланированное\n",
    "    время до которого сделать дело\n",
    "\"\"\"\n",
    "pass"
   ]
  },
  {
   "cell_type": "code",
   "execution_count": 5,
   "id": "08fb0bcb-4ae0-49f8-a87b-5e78107ec31f",
   "metadata": {},
   "outputs": [],
   "source": [
    "def out_priority_task (list_task):\n",
    "    #list_task = {\"a\":\"breakfast\", \"b\":\"lunch\", \"c\":\"dinner\"}\n",
    "    list_priority=[\"a\",\"b\",\"c\",\"d\",\"e\",\"f\",\"g\",\"h\",\"i\",\"j\" \"k\",\"l\",\"m\",\"n\",\"o\",\"p\",\"q\",\"r\",\"s\",\"t\",\"u\",\"v\",\"w\",\"x\",\"y\",\"z\"]\n",
    "    for priority in list_priority:    # priority = a b c d e ...\n",
    "        if list_task.get(priority):\n",
    "            return list_task[priority]\n",
    "    return None"
   ]
  },
  {
   "cell_type": "code",
   "execution_count": 6,
   "id": "4b066ba1-b3a5-4649-9e83-b63257d00457",
   "metadata": {},
   "outputs": [
    {
     "data": {
      "text/plain": [
       "'breakfast'"
      ]
     },
     "execution_count": 6,
     "metadata": {},
     "output_type": "execute_result"
    }
   ],
   "source": [
    "list_task = {\"a\":\"breakfast\", \"b\":\"lunch\", \"c\":\"dinner\"}\n",
    "out_priority_task(list_task)"
   ]
  },
  {
   "cell_type": "code",
   "execution_count": 7,
   "id": "4dd22849-0455-4b4b-84ae-ff01f84f13fe",
   "metadata": {},
   "outputs": [
    {
     "data": {
      "text/plain": [
       "'lunch'"
      ]
     },
     "execution_count": 7,
     "metadata": {},
     "output_type": "execute_result"
    }
   ],
   "source": [
    "list_task = {\"b\":\"lunch\", \"c\":\"dinner\"}\n",
    "out_priority_task(list_task)"
   ]
  },
  {
   "cell_type": "code",
   "execution_count": 8,
   "id": "9e527bfb-6dae-4b79-96d8-ad42073edaa2",
   "metadata": {},
   "outputs": [
    {
     "data": {
      "text/plain": [
       "'breakfast'"
      ]
     },
     "execution_count": 8,
     "metadata": {},
     "output_type": "execute_result"
    }
   ],
   "source": [
    "list_task = {\"b\":\"lunch\", \"c\":\"dinner\",\"a\":\"breakfast\",}\n",
    "out_priority_task(list_task)"
   ]
  }
 ],
 "metadata": {
  "kernelspec": {
   "display_name": "Python 3 (ipykernel)",
   "language": "python",
   "name": "python3"
  },
  "language_info": {
   "codemirror_mode": {
    "name": "ipython",
    "version": 3
   },
   "file_extension": ".py",
   "mimetype": "text/x-python",
   "name": "python",
   "nbconvert_exporter": "python",
   "pygments_lexer": "ipython3",
   "version": "3.10.10"
  }
 },
 "nbformat": 4,
 "nbformat_minor": 5
}
