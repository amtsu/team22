{
 "cells": [
  {
   "cell_type": "code",
   "execution_count": 1,
   "id": "c8763fc9-9320-42d9-90d9-d4a6dd228268",
   "metadata": {},
   "outputs": [],
   "source": [
    "class TaskBook():\n",
    "    def __init__(self):\n",
    "        self.sum_number_pages = 0\n",
    "        self.average_number_book = 0\n",
    "        self.sum_number_page = 0\n",
    "        self.spisok_book = []\n",
    "\n",
    "    def set_book(self, masiv):\n",
    "        self.spisok_book.append(masiv)\n",
    "\n",
    "    def out_book(self):\n",
    "        for spisok in self.spisok_book:\n",
    "            print (spisok)\n",
    "\n",
    "    def SumNumberPages(self):\n",
    "        for spisok in self.spisok_book:\n",
    "            self.sum_number_pages += spisok[2]\n",
    "        return self.sum_number_pages\n",
    "\n",
    "    def AverageNumberPages(self):\n",
    "        for spisok in self.spisok_book:\n",
    "            self.sum_number_pages += spisok[2]\n",
    "            self.average_number_book += 1\n",
    "        self.average_number_boo = self.sum_number_pages/self.average_number_book\n",
    "        return self.average_number_boo"
   ]
  },
  {
   "cell_type": "code",
   "execution_count": 2,
   "id": "53b37543-d9d5-44a2-9422-3ae2cebeff66",
   "metadata": {},
   "outputs": [],
   "source": [
    "objectMyTaskBook = TaskBook()\n",
    "objectMyTaskBook.set_book([\"книга1\",\"автор1\", 100])\n",
    "objectMyTaskBook.set_book([\"книга2\",\"автор2\", 200])\n",
    "objectMyTaskBook.set_book([\"книга3\",\"автор3\", 300])"
   ]
  },
  {
   "cell_type": "code",
   "execution_count": 3,
   "id": "711e1de2-b0f4-413b-a25b-30e0429d3fbc",
   "metadata": {},
   "outputs": [
    {
     "name": "stdout",
     "output_type": "stream",
     "text": [
      "['книга1', 'автор1', 100]\n",
      "['книга2', 'автор2', 200]\n",
      "['книга3', 'автор3', 300]\n"
     ]
    }
   ],
   "source": [
    "objectMyTaskBook.out_book()"
   ]
  },
  {
   "cell_type": "code",
   "execution_count": 4,
   "id": "bf5ce24a-b666-4556-ab2c-d3e2482bd304",
   "metadata": {},
   "outputs": [
    {
     "name": "stdout",
     "output_type": "stream",
     "text": [
      "600\n"
     ]
    }
   ],
   "source": [
    "print(objectMyTaskBook.SumNumberPages())"
   ]
  },
  {
   "cell_type": "code",
   "execution_count": 5,
   "id": "5d795d73-9d84-4e3d-ae90-16ed7839fba2",
   "metadata": {},
   "outputs": [
    {
     "name": "stdout",
     "output_type": "stream",
     "text": [
      "400.0\n"
     ]
    }
   ],
   "source": [
    "print(objectMyTaskBook.AverageNumberPages())"
   ]
  },
  {
   "cell_type": "code",
   "execution_count": 9,
   "id": "1980e87f-7410-4c76-9269-19efabafdeb2",
   "metadata": {},
   "outputs": [],
   "source": [
    "def test_SumNumberPages_1():\n",
    "    input = TaskBook()\n",
    "    input.set_book([\"книга1\",\"автор1\", 100])\n",
    "    input.set_book([\"книга2\",\"автор2\", 750])\n",
    "    expected = 850\n",
    "    assert input.SumNumberPages() == expected, 'неправильно суммировали страницы книг'\n",
    "\n",
    "test_SumNumberPages_1()"
   ]
  },
  {
   "cell_type": "code",
   "execution_count": 10,
   "id": "6b297604-b30d-4a78-a6a5-5bad67495a49",
   "metadata": {},
   "outputs": [],
   "source": [
    "def test_AverageNumberPages_1():\n",
    "    input = TaskBook()\n",
    "    input.set_book([\"книга1\",\"автор1\", 80])\n",
    "    input.set_book([\"книга2\",\"автор2\", 800])\n",
    "    expected = 440\n",
    "    assert input.AverageNumberPages() == expected, 'неправильно нашли среднее арифм страниц книг'\n",
    "\n",
    "test_AverageNumberPages_1()"
   ]
  },
  {
   "cell_type": "code",
   "execution_count": 11,
   "id": "5dd83eac-e6de-49a1-ad1c-a6cbbaa81265",
   "metadata": {},
   "outputs": [],
   "source": [
    "def test_SumNumberPages_2():\n",
    "    input = ([\"книга1\",\"автор1\", 100],[\"книга2\",\"автор2\", 750],)\n",
    "    expected = 850\n",
    "    library = TaskBook()\n",
    "    for book in input:\n",
    "         library.set_book(book)\n",
    "    assert library.SumNumberPages() == expected, 'неправильно суммировали страницы книг'\n",
    "\n",
    "test_SumNumberPages_2()"
   ]
  },
  {
   "cell_type": "code",
   "execution_count": null,
   "id": "d6cb0a6e-29cc-4fc4-a1a0-5ec5bc98d937",
   "metadata": {},
   "outputs": [],
   "source": []
  }
 ],
 "metadata": {
  "kernelspec": {
   "display_name": "Python 3 (ipykernel)",
   "language": "python",
   "name": "python3"
  },
  "language_info": {
   "codemirror_mode": {
    "name": "ipython",
    "version": 3
   },
   "file_extension": ".py",
   "mimetype": "text/x-python",
   "name": "python",
   "nbconvert_exporter": "python",
   "pygments_lexer": "ipython3",
   "version": "3.10.10"
  }
 },
 "nbformat": 4,
 "nbformat_minor": 5
}
