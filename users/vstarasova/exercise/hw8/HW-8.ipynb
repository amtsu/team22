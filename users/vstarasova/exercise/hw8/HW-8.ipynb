{
 "cells": [
  {
   "cell_type": "code",
   "execution_count": 3,
   "id": "6d66f728-b5c2-4cf0-ad7c-a1f88c69371d",
   "metadata": {},
   "outputs": [],
   "source": [
    "def triangle_type(a: float, b: float, c: float) -> str:\n",
    "    \"\"\"\n",
    "    Функция, определяющая тип треугольника по длинам его сторон\n",
    "    \"\"\"\n",
    "    result = \"не треугольник\"\n",
    "    triangle_exist = (a < (b + c)) and (b < (a + c)) and (c < (a + b))\n",
    "    if triangle_exist:\n",
    "        sides = [a, b, c]\n",
    "        sides.sort()\n",
    "        acuteTriangle = (sides[0]**2 + sides[1]**2) > sides[2]**2\n",
    "        obtuseTriangle = (sides[0]**2 + sides[1]**2) < sides[2]**2\n",
    "        rightTriangle = abs((sides[0]**2 + sides[1]**2) - sides[2]**2) <= 0.01\n",
    "\n",
    "        if acuteTriangle:\n",
    "            result = \"остроугольный\"\n",
    "        elif obtuseTriangle:\n",
    "            result = \"тупоугольный\"\n",
    "        elif rightTriangle:\n",
    "            result  = \"прямоугольный\"\n",
    "    return result"
   ]
  },
  {
   "cell_type": "code",
   "execution_count": 6,
   "id": "7afc2e98-de25-4c2f-b665-a8895a0a6dd9",
   "metadata": {},
   "outputs": [],
   "source": [
    "def test_acute():\n",
    "    \"\"\"\n",
    "    тестируем остроугольность треугольника\n",
    "    \"\"\"\n",
    "    input = [12,12,5] # такие стороны у остроугольного треугольника \n",
    "    #input = [9,5,6] # такие стороны у остроугольного треугольника \n",
    "    expected =  \"остроугольный\"\n",
    "    assert expected == triangle_type(*input)\n",
    "test_acute()"
   ]
  },
  {
   "cell_type": "code",
   "execution_count": 7,
   "id": "26bc903a-5526-4f91-86ce-795f39b24f08",
   "metadata": {},
   "outputs": [],
   "source": [
    "def test_obtuse():\n",
    "    '''\n",
    "    тестируем тупоугольность\n",
    "    '''\n",
    "    input = [9,5,6]\n",
    "    expected = 'тупоугольный'\n",
    "    assert expected == triangle_type(*input)"
   ]
  },
  {
   "cell_type": "code",
   "execution_count": 4,
   "id": "77918061-96f2-4e7c-b890-41508bbd88a0",
   "metadata": {},
   "outputs": [],
   "source": [
    "test_obtuse()"
   ]
  },
  {
   "cell_type": "code",
   "execution_count": 8,
   "id": "979eb92c-01a9-47ce-a4a1-2c2409c44ecf",
   "metadata": {},
   "outputs": [],
   "source": [
    "def test_right():\n",
    "    '''\n",
    "    тестируем прямоугольность\n",
    "    '''\n",
    "    input = [3,4,5]\n",
    "    expected = 'прямоугольный'\n",
    "    assert expected == triangle_type(*input)"
   ]
  },
  {
   "cell_type": "code",
   "execution_count": 6,
   "id": "621ff2e9-7cab-43d1-8a86-395a8e2b9bda",
   "metadata": {},
   "outputs": [],
   "source": [
    "test_right()"
   ]
  },
  {
   "cell_type": "code",
   "execution_count": 9,
   "id": "a1116e47-77f4-4262-b4de-b70ec009d78e",
   "metadata": {},
   "outputs": [],
   "source": [
    "def test_not_triangle():\n",
    "    '''\n",
    "    тестируем ввод строковых данных\n",
    "    '''\n",
    "    input = ['что-то', 'ss', 'ss']\n",
    "    expected = 'не треугольник'\n",
    "    assert expected == triangle_type(*input)"
   ]
  },
  {
   "cell_type": "code",
   "execution_count": 8,
   "id": "45aad5d5-03cb-4151-a80c-815323414272",
   "metadata": {},
   "outputs": [],
   "source": [
    "test_not_triangle()"
   ]
  },
  {
   "cell_type": "code",
   "execution_count": 10,
   "id": "cb382030-e58f-4222-bb08-1ca4637d547b",
   "metadata": {},
   "outputs": [],
   "source": [
    "def test_not_triangle2():\n",
    "    '''\n",
    "    тестируем ввод отрицательных сторон\n",
    "    '''\n",
    "    input = [-2, -3, 7]\n",
    "    expected = 'не треугольник'\n",
    "    assert expected == triangle_type(*input)"
   ]
  },
  {
   "cell_type": "code",
   "execution_count": 10,
   "id": "d8adf93b-4a42-473c-b9a5-fc9916397468",
   "metadata": {},
   "outputs": [],
   "source": [
    "test_not_triangle2()"
   ]
  },
  {
   "cell_type": "code",
   "execution_count": 11,
   "id": "60eefa7d-7dd9-4f8c-9b14-73f68712fac2",
   "metadata": {},
   "outputs": [],
   "source": [
    "def test_three_units():\n",
    "    '''\n",
    "    тестируем ввод единиц числами\n",
    "    '''\n",
    "    input = [1,1,1]\n",
    "    expected = 'остроугольный'\n",
    "    assert expected == triangle_type(*input)"
   ]
  },
  {
   "cell_type": "code",
   "execution_count": 50,
   "id": "2269ecb6-259d-4f64-95d3-212a3b8bbd90",
   "metadata": {},
   "outputs": [],
   "source": [
    "test_three_units()"
   ]
  },
  {
   "cell_type": "code",
   "execution_count": 12,
   "id": "8d37c614-1d57-4c77-bee1-2187e6eb16ce",
   "metadata": {},
   "outputs": [],
   "source": [
    "def test_str():\n",
    "    \"\"\"\n",
    "    тестируем входные данные типа str\n",
    "    \"\"\"\n",
    "    input = ['4', '2', '6']\n",
    "    expected = 'не треугольник'\n",
    "    #expected = 'остроугольный'\n",
    "    assert expected == triangle_type(*input)\n",
    "    \n",
    "test_str()"
   ]
  },
  {
   "cell_type": "code",
   "execution_count": 23,
   "id": "a9d5424d-ba57-444f-83af-76ba5ae4bfda",
   "metadata": {},
   "outputs": [
    {
     "name": "stdout",
     "output_type": "stream",
     "text": [
      "True\n",
      "True\n"
     ]
    }
   ],
   "source": [
    "'''\n",
    "В этой ячейке я по-всякому экспериментирую с вводом чисел в виде текста в попытке понять почему же единицы такие особенные\n",
    "'''\n",
    "\n",
    "input1 = ['4', '6', '6']\n",
    "input2 = ['1','1','1']\n",
    "a1 = input1[0]\n",
    "b1 = input1[1]\n",
    "c1 = input1[2]\n",
    "print(a1 < (b1 + c1))\n",
    "\n",
    "a2 = input2[0]\n",
    "b2 = input2[1]\n",
    "c2 = input2[2]\n",
    "print(a2 < (b2 + c2))\n",
    "#print(a**2)\n",
    "#print(input[0]+input[1])"
   ]
  },
  {
   "cell_type": "code",
   "execution_count": 13,
   "id": "bafbe7f9-5c10-4008-831a-bc4773389838",
   "metadata": {},
   "outputs": [],
   "source": [
    "def test_three_units_str():\n",
    "    '''\n",
    "    тестируем ввод единиц строками\n",
    "    '''\n",
    "    input = ['1','1','1']\n",
    "    #input = ['4', '6', '6']\n",
    "    expected = 'не треугольник'\n",
    "    #expected = 'остроугольный'\n",
    "    assert expected == triangle_type(*input)\n"
   ]
  },
  {
   "cell_type": "code",
   "execution_count": 14,
   "id": "1694d79d-ed60-4b80-a4b6-97480a728f71",
   "metadata": {},
   "outputs": [
    {
     "ename": "TypeError",
     "evalue": "unsupported operand type(s) for ** or pow(): 'str' and 'int'",
     "output_type": "error",
     "traceback": [
      "\u001b[0;31m---------------------------------------------------------------------------\u001b[0m",
      "\u001b[0;31mTypeError\u001b[0m                                 Traceback (most recent call last)",
      "Cell \u001b[0;32mIn[14], line 1\u001b[0m\n\u001b[0;32m----> 1\u001b[0m \u001b[43mtest_three_units_str\u001b[49m\u001b[43m(\u001b[49m\u001b[43m)\u001b[49m\n",
      "Cell \u001b[0;32mIn[13], line 9\u001b[0m, in \u001b[0;36mtest_three_units_str\u001b[0;34m()\u001b[0m\n\u001b[1;32m      7\u001b[0m expected \u001b[38;5;241m=\u001b[39m \u001b[38;5;124m'\u001b[39m\u001b[38;5;124mне треугольник\u001b[39m\u001b[38;5;124m'\u001b[39m\n\u001b[1;32m      8\u001b[0m \u001b[38;5;66;03m#expected = 'остроугольный'\u001b[39;00m\n\u001b[0;32m----> 9\u001b[0m \u001b[38;5;28;01massert\u001b[39;00m expected \u001b[38;5;241m==\u001b[39m \u001b[43mtriangle_type\u001b[49m\u001b[43m(\u001b[49m\u001b[38;5;241;43m*\u001b[39;49m\u001b[38;5;28;43minput\u001b[39;49m\u001b[43m)\u001b[49m\n",
      "Cell \u001b[0;32mIn[3], line 10\u001b[0m, in \u001b[0;36mtriangle_type\u001b[0;34m(a, b, c)\u001b[0m\n\u001b[1;32m      8\u001b[0m sides \u001b[38;5;241m=\u001b[39m [a, b, c]\n\u001b[1;32m      9\u001b[0m sides\u001b[38;5;241m.\u001b[39msort()\n\u001b[0;32m---> 10\u001b[0m acuteTriangle \u001b[38;5;241m=\u001b[39m (\u001b[43msides\u001b[49m\u001b[43m[\u001b[49m\u001b[38;5;241;43m0\u001b[39;49m\u001b[43m]\u001b[49m\u001b[38;5;241;43m*\u001b[39;49m\u001b[38;5;241;43m*\u001b[39;49m\u001b[38;5;241;43m2\u001b[39;49m \u001b[38;5;241m+\u001b[39m sides[\u001b[38;5;241m1\u001b[39m]\u001b[38;5;241m*\u001b[39m\u001b[38;5;241m*\u001b[39m\u001b[38;5;241m2\u001b[39m) \u001b[38;5;241m>\u001b[39m sides[\u001b[38;5;241m2\u001b[39m]\u001b[38;5;241m*\u001b[39m\u001b[38;5;241m*\u001b[39m\u001b[38;5;241m2\u001b[39m\n\u001b[1;32m     11\u001b[0m obtuseTriangle \u001b[38;5;241m=\u001b[39m (sides[\u001b[38;5;241m0\u001b[39m]\u001b[38;5;241m*\u001b[39m\u001b[38;5;241m*\u001b[39m\u001b[38;5;241m2\u001b[39m \u001b[38;5;241m+\u001b[39m sides[\u001b[38;5;241m1\u001b[39m]\u001b[38;5;241m*\u001b[39m\u001b[38;5;241m*\u001b[39m\u001b[38;5;241m2\u001b[39m) \u001b[38;5;241m<\u001b[39m sides[\u001b[38;5;241m2\u001b[39m]\u001b[38;5;241m*\u001b[39m\u001b[38;5;241m*\u001b[39m\u001b[38;5;241m2\u001b[39m\n\u001b[1;32m     12\u001b[0m rightTriangle \u001b[38;5;241m=\u001b[39m \u001b[38;5;28mabs\u001b[39m((sides[\u001b[38;5;241m0\u001b[39m]\u001b[38;5;241m*\u001b[39m\u001b[38;5;241m*\u001b[39m\u001b[38;5;241m2\u001b[39m \u001b[38;5;241m+\u001b[39m sides[\u001b[38;5;241m1\u001b[39m]\u001b[38;5;241m*\u001b[39m\u001b[38;5;241m*\u001b[39m\u001b[38;5;241m2\u001b[39m) \u001b[38;5;241m-\u001b[39m sides[\u001b[38;5;241m2\u001b[39m]\u001b[38;5;241m*\u001b[39m\u001b[38;5;241m*\u001b[39m\u001b[38;5;241m2\u001b[39m) \u001b[38;5;241m<\u001b[39m\u001b[38;5;241m=\u001b[39m \u001b[38;5;241m0.01\u001b[39m\n",
      "\u001b[0;31mTypeError\u001b[0m: unsupported operand type(s) for ** or pow(): 'str' and 'int'"
     ]
    }
   ],
   "source": [
    "test_three_units_str()"
   ]
  },
  {
   "cell_type": "code",
   "execution_count": null,
   "id": "c32848ba-2ccc-473e-ba23-fa83ef72f144",
   "metadata": {},
   "outputs": [],
   "source": []
  },
  {
   "cell_type": "code",
   "execution_count": 18,
   "id": "5550335b-3881-412c-a8d6-d5f619123357",
   "metadata": {},
   "outputs": [],
   "source": [
    "def test_all_tests(tests_set):\n",
    "    '''\n",
    "    функция вызывает все написанные тесты и считает количество выполненных и проваленных\n",
    "    '''\n",
    "    tests_ok = 0 #счетчик успешных тестов\n",
    "    tests_failed = 0 #счетчик неуспешных тестов\n",
    "    for i in tests_set:\n",
    "        try:\n",
    "            i()\n",
    "            tests_ok = tests_ok+1\n",
    "            print('Тест', i.__name__, 'пройден')\n",
    "        except AssertionError:\n",
    "            tests_failed = tests_failed + 1\n",
    "            print('Тест', i.__name__, 'НЕ пройден')\n",
    "    print('Пройдено тестов', tests_ok)\n",
    "    print('Не пройдено тестов', tests_failed)\n"
   ]
  },
  {
   "cell_type": "code",
   "execution_count": 19,
   "id": "2559efb9-f979-4b4e-b471-da0e840c675d",
   "metadata": {},
   "outputs": [
    {
     "name": "stdout",
     "output_type": "stream",
     "text": [
      "Тест test_acute пройден\n",
      "Тест test_obtuse пройден\n",
      "Тест test_right пройден\n",
      "Тест test_not_triangle пройден\n",
      "Тест test_not_triangle2 пройден\n",
      "Тест test_three_units пройден\n",
      "Пройдено тестов 6\n",
      "Не пройдено тестов 0\n"
     ]
    }
   ],
   "source": [
    "#tests_set = [test_acute, test_obtuse, test_right, test_not_triangle, test_not_triangle2, test_three_units, test_three_units_str, test_str]\n",
    "\n",
    "# набор тестов без этих невнятных строковых единиц\n",
    "tests_set = [test_acute, test_obtuse, test_right, test_not_triangle, test_not_triangle2, test_three_units]\n",
    "\n",
    "test_all_tests(tests_set)"
   ]
  },
  {
   "cell_type": "code",
   "execution_count": null,
   "id": "41e7cb7e-1792-4544-bb69-db9d17b2972a",
   "metadata": {},
   "outputs": [],
   "source": []
  },
  {
   "cell_type": "code",
   "execution_count": null,
   "id": "8036be97-f680-4234-9137-b2137150b039",
   "metadata": {
    "scrolled": true
   },
   "outputs": [],
   "source": []
  },
  {
   "cell_type": "code",
   "execution_count": null,
   "id": "9fe1e891-5563-45d6-aeb1-314966c9341e",
   "metadata": {},
   "outputs": [],
   "source": []
  }
 ],
 "metadata": {
  "kernelspec": {
   "display_name": "Python 3 (ipykernel)",
   "language": "python",
   "name": "python3"
  },
  "language_info": {
   "codemirror_mode": {
    "name": "ipython",
    "version": 3
   },
   "file_extension": ".py",
   "mimetype": "text/x-python",
   "name": "python",
   "nbconvert_exporter": "python",
   "pygments_lexer": "ipython3",
   "version": "3.10.10"
  }
 },
 "nbformat": 4,
 "nbformat_minor": 5
}
