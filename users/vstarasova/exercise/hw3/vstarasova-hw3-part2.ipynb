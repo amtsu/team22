{
 "cells": [
  {
   "cell_type": "code",
   "execution_count": 3,
   "id": "5a1bc1c4-e40b-468f-a2e3-07666ba773f9",
   "metadata": {},
   "outputs": [
    {
     "name": "stdout",
     "output_type": "stream",
     "text": [
      "10 * (5 + 3) равно 80\n",
      "(20 - 6) / 2 равно 7.0\n",
      "2 ** 5 равно 32\n",
      "25 // 4 равно 6\n",
      "25  % 4 равно 1\n"
     ]
    }
   ],
   "source": [
    "print(\"10 * (5 + 3) равно \"+str((10 * (5 + 3))))\n",
    "print(\"(20 - 6) / 2 равно \"+str(((20 - 6) / 2)))\n",
    "print(\"2 ** 5 равно \"+str((2 ** 5)))\n",
    "print(\"25 // 4 равно \"+ str((25 // 4)))\n",
    "print(\"25  % 4 равно \"+ str((25  % 4)))"
   ]
  },
  {
   "cell_type": "code",
   "execution_count": 9,
   "id": "be39fe14-6d72-464f-b7b7-1c52054f4b3f",
   "metadata": {},
   "outputs": [
    {
     "name": "stdout",
     "output_type": "stream",
     "text": [
      "-3\n",
      "14\n"
     ]
    }
   ],
   "source": [
    "number = -3.14\n",
    "print(round(number))\n",
    "print(round(abs(number)*100)-300)"
   ]
  },
  {
   "cell_type": "code",
   "execution_count": 12,
   "id": "5b36528a-c682-490f-a646-299e357def88",
   "metadata": {},
   "outputs": [
    {
     "name": "stdout",
     "output_type": "stream",
     "text": [
      "площадь прямоугольника равна 35\n"
     ]
    }
   ],
   "source": [
    "a = 5\n",
    "b = 7.\n",
    "print(\"площадь прямоугольника равна \"+str(round(a*b)))"
   ]
  },
  {
   "cell_type": "code",
   "execution_count": 13,
   "id": "865449fa-ec34-42ea-aa54-e516db5d5998",
   "metadata": {},
   "outputs": [
    {
     "name": "stdout",
     "output_type": "stream",
     "text": [
      "122.6\n"
     ]
    }
   ],
   "source": [
    "print(round((3.5*6.4*3.1+3.4*4*3.1+11),1))\n"
   ]
  },
  {
   "cell_type": "code",
   "execution_count": 15,
   "id": "b6e486e6-9b36-4afb-949c-ef719f222665",
   "metadata": {},
   "outputs": [
    {
     "name": "stdout",
     "output_type": "stream",
     "text": [
      "Корни уравнения ax^2 + bx + c = 0 при а=2, b=2, c=-10 равны:1.79128784747792 и -2.79128784747792\n"
     ]
    }
   ],
   "source": [
    "a = 2\n",
    "b = 2\n",
    "c = -10\n",
    "D = b**2 - 4*a*c\n",
    "x1 = (b*(-1)+D**(0.5))/(a*2)\n",
    "x2 = (b*(-1)-D**(0.5))/(a*2)\n",
    "print(\"Корни уравнения ax^2 + bx + c = 0 при а=2, b=2, c=-10 равны:\"+str(x1)+\" и \"+str(x2))"
   ]
  },
  {
   "cell_type": "code",
   "execution_count": 16,
   "id": "3f752788-460b-4888-a6e3-56455abff4eb",
   "metadata": {},
   "outputs": [
    {
     "name": "stdout",
     "output_type": "stream",
     "text": [
      "Hello, world!\n"
     ]
    }
   ],
   "source": [
    "string1 = \"hello, \"\n",
    "string2 = \"world!\"\n",
    "print(string1.title()+string2)\n"
   ]
  },
  {
   "cell_type": "code",
   "execution_count": 17,
   "id": "6e89940c-f86c-449d-8a03-e67fa1a0e684",
   "metadata": {},
   "outputs": [
    {
     "name": "stdout",
     "output_type": "stream",
     "text": [
      "13\n"
     ]
    }
   ],
   "source": [
    "print(len(string1.title()+string2))\n"
   ]
  },
  {
   "cell_type": "code",
   "execution_count": 18,
   "id": "a147349f-f854-4612-af21-3ce9c7a414d7",
   "metadata": {},
   "outputs": [
    {
     "name": "stdout",
     "output_type": "stream",
     "text": [
      "lalalalalalalalalalalalalalalalalalalalalalalalala\n"
     ]
    }
   ],
   "source": [
    "string3 = \"la\"\n",
    "print(string3*25)"
   ]
  },
  {
   "cell_type": "code",
   "execution_count": 19,
   "id": "a029d3ad-9e90-40be-ae3f-58f80e6e4eee",
   "metadata": {},
   "outputs": [
    {
     "name": "stdout",
     "output_type": "stream",
     "text": [
      "[1, 2, 'hi', 4, 5]\n",
      "[1, 2, 'hi', 4, [8, 6, 4]]\n"
     ]
    }
   ],
   "source": [
    "numbers = [1, 2, 3, 4, 5]\n",
    "numbers[2] = \"hi\" \n",
    "print(numbers)\n",
    "numbers[4] = [8, 6, 4]\n",
    "print(numbers)"
   ]
  },
  {
   "cell_type": "code",
   "execution_count": 20,
   "id": "a0383d8c-32b5-437d-8093-6d51ccd1abd9",
   "metadata": {},
   "outputs": [
    {
     "name": "stdout",
     "output_type": "stream",
     "text": [
      "Извлеките подсписок с 3-го по 7-й элемент включительно\n",
      "4 5 6 7 8\n"
     ]
    }
   ],
   "source": [
    "numbers = [1, 2, 3, 4, 5, 6, 7, 8, 9, 10]\n",
    "print(\"Извлеките подсписок с 3-го по 7-й элемент включительно\")\n",
    "print(numbers[3],numbers[4],numbers[5],numbers[6],numbers[7])"
   ]
  },
  {
   "cell_type": "code",
   "execution_count": null,
   "id": "d9f93fcb-cca6-431a-be42-4a266c1eb6b7",
   "metadata": {},
   "outputs": [],
   "source": []
  },
  {
   "cell_type": "code",
   "execution_count": null,
   "id": "e35888d3-8059-4671-b1a3-67020d548d29",
   "metadata": {},
   "outputs": [],
   "source": []
  }
 ],
 "metadata": {
  "kernelspec": {
   "display_name": "Python 3 (ipykernel)",
   "language": "python",
   "name": "python3"
  },
  "language_info": {
   "codemirror_mode": {
    "name": "ipython",
    "version": 3
   },
   "file_extension": ".py",
   "mimetype": "text/x-python",
   "name": "python",
   "nbconvert_exporter": "python",
   "pygments_lexer": "ipython3",
   "version": "3.10.10"
  }
 },
 "nbformat": 4,
 "nbformat_minor": 5
}
