{
 "cells": [
  {
   "cell_type": "markdown",
   "id": "60d60ab7-f77e-4fb9-ac63-856dfc605f3b",
   "metadata": {},
   "source": [
    "<h1>Функции, циклы, условные операторы </h1>"
   ]
  },
  {
   "cell_type": "code",
   "execution_count": 29,
   "id": "27be4249-58a1-470b-9113-843386a9848b",
   "metadata": {},
   "outputs": [
    {
     "name": "stdout",
     "output_type": "stream",
     "text": [
      "1\n",
      "2\n",
      "3\n",
      "4\n",
      "5\n",
      "6\n",
      "7\n",
      "8\n",
      "9\n",
      "==============================\n",
      "1\n",
      "2\n",
      "3\n",
      "4\n",
      "5\n",
      "6\n",
      "7\n",
      "8\n",
      "9\n",
      "10\n",
      "11\n",
      "12\n",
      "==============================\n",
      "1\n",
      "2\n",
      "3\n",
      "4\n",
      "5\n",
      "6\n",
      "7\n",
      "8\n",
      "==============================\n",
      "1\n",
      "5\n",
      "9\n",
      "2\n",
      "6\n",
      "10\n",
      "==============================\n",
      "1\n",
      "2\n",
      "3\n",
      "==============================\n"
     ]
    }
   ],
   "source": [
    "'''\n",
    "Задание 1. Написать функцию для вывода двумерной матрицы по столбцам, \n",
    "не используя индексацию (с помощью [] или любым другим способом получения\n",
    "элемента по заданному индексу).\n",
    "Функция должна принимать на вход список и ничего не возвращать\n",
    "'''\n",
    "def print_matrix(matrix):\n",
    "    '''\n",
    "    это функция, печатающая двумерный список matrix по столбцам\n",
    "    '''\n",
    "    for column in zip(*matrix):\n",
    "        for lines in column:\n",
    "            print(lines)\n",
    "#проверка        \n",
    "matrix1 = [[1,4,7,],[2,5,8,],[3,6,9,]]\n",
    "matrix2 = [[1,4,7,10],[2,5,8,11],[3,6,9,12]]\n",
    "matrix3 = [[1,3,5,7],[2,4,6,8],]\n",
    "matrix4 = [[1,2,],[5,6,],[9,10,]]\n",
    "matrix5 = [[1,2,3],]\n",
    "matrix6 = []\n",
    "\n",
    "print_matrix(matrix1)\n",
    "print(\"=\"*30)\n",
    "print_matrix(matrix2)\n",
    "print(\"=\"*30)\n",
    "print_matrix(matrix3)\n",
    "print(\"=\"*30)\n",
    "print_matrix(matrix4)\n",
    "print(\"=\"*30)\n",
    "print_matrix(matrix5)\n",
    "print(\"=\"*30)\n",
    "print_matrix(matrix6)"
   ]
  },
  {
   "cell_type": "code",
   "execution_count": null,
   "id": "e3ab6d42-39ca-480c-ab9a-2b951abdd780",
   "metadata": {},
   "outputs": [],
   "source": []
  },
  {
   "cell_type": "code",
   "execution_count": null,
   "id": "f90963ba-c3e6-406c-9ec5-d9b71d933ff1",
   "metadata": {},
   "outputs": [],
   "source": [
    "'''\n",
    "Задание 2. Напишите функцию, вызывающую саму себя 10 раз;\n",
    "функция должна вызываться как ten_times() и ничего не возвращать;\n",
    "'''\n",
    "def ten_times(n):\n",
    "    if n == 1:\n",
    "        break\n",
    "    ten_times(n-1)\n",
    "#проверка\n",
    "ten_times(10)"
   ]
  },
  {
   "cell_type": "code",
   "execution_count": null,
   "id": "b5bc6f9c-b98b-44d6-87e2-8b2c1d68893d",
   "metadata": {},
   "outputs": [],
   "source": [
    "'''\n",
    "Задание 3.\n",
    "'''\n",
    "# дан отрывок кода\n",
    "a_haiku = [\"Всё глазел на них\",\n",
    "\"Сакуры цветы, пока\",\n",
    "\"Шею не свело\"]\n",
    "\n",
    "def print_haiku(haiku):\n",
    "    for line in haiku:\n",
    "        print(line)\n",
    "\n",
    "print_haiku(a_haiku)\n",
    "\n",
    "'''\n",
    "Модифицируйте функцию print_haiku таким образом, чтобы можно было \n",
    "выполнять произвольное преобразование над выводом строк.\n",
    "Посторайтесь сильно не менять код print_haiku()\n",
    "Выведите с помощью модифицированной функции print_haiku все строки хайку :\n",
    " - заглавными буквами\n",
    " - только каждый третий символ строк\n",
    " - красным цветом (https://habr.com/ru/sandbox/158854/, первый раздел)\n"
   ]
  },
  {
   "cell_type": "code",
   "execution_count": 6,
   "id": "6866cd9d-ac32-45cc-abea-0e575d35cf9c",
   "metadata": {},
   "outputs": [
    {
     "name": "stdout",
     "output_type": "stream",
     "text": [
      "ВСЁ ГЛАЗЕЛ НА НИХ\n",
      "САКУРЫ ЦВЕТЫ, ПОКА\n",
      "ШЕЮ НЕ СВЕЛО\n"
     ]
    }
   ],
   "source": [
    "a_haiku = [\"Всё глазел на них\",\n",
    "\"Сакуры цветы, пока\",\n",
    "\"Шею не свело\"]\n",
    "\n",
    "def print_haiku_capital(haiku):\n",
    "    for line in haiku:\n",
    "        print(line.upper())\n",
    "\n",
    "print_haiku_capital(a_haiku)"
   ]
  },
  {
   "cell_type": "code",
   "execution_count": 12,
   "id": "43e11d38-3aee-4ef9-b832-fda7b72fe795",
   "metadata": {},
   "outputs": [
    {
     "name": "stdout",
     "output_type": "stream",
     "text": [
      "ёленн\n",
      "кывыпа\n",
      "юево\n"
     ]
    }
   ],
   "source": [
    "a_haiku = [\"Всё глазел на них\",\n",
    "\"Сакуры цветы, пока\",\n",
    "\"Шею не свело\"]\n",
    "\n",
    "def print_haiku_3th(haiku):\n",
    "    for line in haiku:\n",
    "        print(line[2::3])\n",
    "\n",
    "print_haiku_3th(a_haiku)"
   ]
  },
  {
   "cell_type": "code",
   "execution_count": 14,
   "id": "fc7b5b94-687b-4bd3-b29b-80721aca5808",
   "metadata": {},
   "outputs": [
    {
     "name": "stdout",
     "output_type": "stream",
     "text": [
      "\u001b[31mВсё глазел на них\n",
      "\u001b[31mСакуры цветы, пока\n",
      "\u001b[31mШею не свело\n"
     ]
    }
   ],
   "source": [
    "a_haiku = [\"Всё глазел на них\",\n",
    "\"Сакуры цветы, пока\",\n",
    "\"Шею не свело\"]\n",
    "\n",
    "def print_haiku_red(haiku):\n",
    "    for line in haiku:\n",
    "        print(\"\\033[31m{}\".format(line))\n",
    "\n",
    "print_haiku_red(a_haiku)"
   ]
  },
  {
   "cell_type": "code",
   "execution_count": 9,
   "id": "0d259e04-6270-4604-9b96-992f51f311ca",
   "metadata": {},
   "outputs": [
    {
     "name": "stdout",
     "output_type": "stream",
     "text": [
      "<class 'str'>\n",
      "<class 'str'>\n",
      "<class 'str'>\n"
     ]
    }
   ],
   "source": [
    "a_haiku = [\"Всё глазел на них\",\n",
    "\"Сакуры цветы, пока\",\n",
    "\"Шею не свело\"]\n",
    "for line in a_haiku:\n",
    "    print(type(line))\n"
   ]
  },
  {
   "cell_type": "code",
   "execution_count": null,
   "id": "2942ff5e-80a1-4245-aad6-3aca355745ad",
   "metadata": {},
   "outputs": [],
   "source": [
    "'''\n",
    "Задание 4. Напишите простой пользовательский интерфейс к заданию 3.\n",
    "Пользователю должно выдаваться сообщение о возможностях вывода (меню), и приглашение на ввод\n",
    "идентификатора действия или символа `q` для выхода, например:\n",
    "\n",
    "Возможные действия:\n",
    "1 - вывод хайку заглавными буквами\n",
    "2 - вывод только третьих символов каждой строки хайку\n",
    "3 - вывод хайку красным цветом\n",
    "Введите номер действия или q для выхода: \n",
    "\n",
    "После ввода идентификатора действия, необходимо выполнить соответствующее действие \n",
    "и снова вывести меню с запросом на ввод. в случае некорректного идентификатора действия \n",
    "вывести соответствующее сообщение и снова вывести меню. После ввода q завершить работу с\n",
    "простым пользовательским интрефейсом\n",
    "\n",
    "'''"
   ]
  },
  {
   "cell_type": "code",
   "execution_count": 21,
   "id": "b6b2c261-6c67-4299-b7d9-038f60286f2b",
   "metadata": {},
   "outputs": [
    {
     "name": "stdout",
     "output_type": "stream",
     "text": [
      "Что вы хотите сделать? Введите одно из трех значений\n",
      "Возможные действия:\n",
      "1 - вывод хайку заглавными буквами\n",
      "2 - вывод только третьих символов каждой строки хайку\n",
      "3 - вывод хайку красным цветом\n",
      "Введите номер действия или q для выхода\n"
     ]
    },
    {
     "name": "stdin",
     "output_type": "stream",
     "text": [
      " hg\n"
     ]
    },
    {
     "name": "stdout",
     "output_type": "stream",
     "text": [
      "некорректный идентификатор\n"
     ]
    }
   ],
   "source": [
    "a_haiku = [\"Всё глазел на них\",\n",
    "\"Сакуры цветы, пока\",\n",
    "\"Шею не свело\"]\n",
    "\n",
    "def print_haiku_capital(haiku):\n",
    "    for line in haiku:\n",
    "        print(line.upper())\n",
    "\n",
    "def print_haiku_3th(haiku):\n",
    "    for line in haiku:\n",
    "        print(line[2::3])\n",
    "\n",
    "def print_haiku_red(haiku):\n",
    "    for line in haiku:\n",
    "        print(\"\\033[31m{}\".format(line))\n",
    "\n",
    "print('Что вы хотите сделать? Введите одно из трех значений')\n",
    "print('Возможные действия:\\n1 - вывод хайку заглавными буквами\\n2 - вывод только третьих символов каждой строки хайку\\n3 - вывод хайку красным цветом\\nВведите номер действия или q для выхода')\n",
    "\n",
    "user_answer = input()\n",
    "\n",
    "if user_answer == '1':\n",
    "    print_haiku_capital(a_haiku)\n",
    "elif user_answer == '2':\n",
    "    print_haiku_3th(a_haiku)\n",
    "elif user_answer == '3':\n",
    "    print_haiku_red(a_haiku)\n",
    "elif user_answer == 'q':\n",
    "    print('до встречи!')\n",
    "else:\n",
    "    print('некорректный идентификатор')\n",
    "#print_haiku_capital(a_haiku)\n"
   ]
  },
  {
   "cell_type": "code",
   "execution_count": null,
   "id": "1de803b6-b90d-4710-bc57-71d0960bbeee",
   "metadata": {},
   "outputs": [],
   "source": [
    "'''\n",
    "Задание 5.\n",
    "Дополните функционал задания 3 одним из следующих способов вывода хайку:\n",
    "- каждое слово в строке различным цветом,\n",
    "- в каждой строке второе слово жирным шрифтом,\n",
    "- маленькими буквами синим цветом,\n",
    "при этом текст функции print_haiku() меняться не должен. Если такая доработка потребует\n",
    "его изменения, пересмотрите дизайн функции print_haiku(), чтобы расширение функионала вывода\n",
    "не требовало изменения print_haiku()\n",
    "Добавьте в интерфейс, созданный в задании 4 созданный новый способ вывода. Оцените объем и \n",
    "удобство модификации, при необходимости пересмотрите дизайн кода интерфейса для упрощения его \n",
    "изменекния.\n",
    "\n",
    "'''"
   ]
  },
  {
   "cell_type": "code",
   "execution_count": 24,
   "id": "28b5f728-56fe-4f4a-ab71-073adf1669a8",
   "metadata": {},
   "outputs": [
    {
     "name": "stdout",
     "output_type": "stream",
     "text": [
      "\u001b[34mвсё глазел на них\n"
     ]
    }
   ],
   "source": [
    "a_haiku = [\"Всё глазел на них\",\n",
    "\"Сакуры цветы, пока\",\n",
    "\"Шею не свело\"]\n",
    "\n",
    "def print_haiku(haiku):\n",
    "    for line in haiku:\n",
    "        return line\n",
    "\n",
    "print(\"\\033[34m{}\".format(print_haiku(a_haiku).lower()))"
   ]
  },
  {
   "cell_type": "code",
   "execution_count": 25,
   "id": "0ba191a9-ce89-485c-ad3d-16ad1faa582d",
   "metadata": {},
   "outputs": [
    {
     "name": "stdout",
     "output_type": "stream",
     "text": [
      "Что вы хотите сделать? Введите одно из трех значений\n",
      "Возможные действия:\n",
      "1 - вывод хайку заглавными буквами\n",
      "2 - вывод только третьих символов каждой строки хайку\n",
      "3 - вывод хайку красным цветом\n",
      "4 - вывод хайку маленькими буквами синим цветом\n",
      "Введите номер действия или q для выхода\n"
     ]
    },
    {
     "name": "stdin",
     "output_type": "stream",
     "text": [
      " 4\n"
     ]
    },
    {
     "name": "stdout",
     "output_type": "stream",
     "text": [
      "\u001b[34mвсё глазел на них\n"
     ]
    }
   ],
   "source": [
    "a_haiku = [\"Всё глазел на них\",\n",
    "\"Сакуры цветы, пока\",\n",
    "\"Шею не свело\"]\n",
    "\n",
    "def print_haiku_capital(haiku):\n",
    "    for line in haiku:\n",
    "        print(line.upper())\n",
    "\n",
    "def print_haiku_3th(haiku):\n",
    "    for line in haiku:\n",
    "        print(line[2::3])\n",
    "\n",
    "def print_haiku_red(haiku):\n",
    "    for line in haiku:\n",
    "        print(\"\\033[31m{}\".format(line))\n",
    "\n",
    "print('Что вы хотите сделать? Введите одно из трех значений')\n",
    "print('Возможные действия:')\n",
    "print('1 - вывод хайку заглавными буквами')\n",
    "print('2 - вывод только третьих символов каждой строки хайку')\n",
    "print('3 - вывод хайку красным цветом')\n",
    "print('4 - вывод хайку маленькими буквами синим цветом')\n",
    "print('Введите номер действия или q для выхода')\n",
    "\n",
    "user_answer = input()\n",
    "\n",
    "if user_answer == '1':\n",
    "    print_haiku_capital(a_haiku)\n",
    "elif user_answer == '2':\n",
    "    print_haiku_3th(a_haiku)\n",
    "elif user_answer == '3':\n",
    "    print_haiku_red(a_haiku)\n",
    "elif user_answer == '4':\n",
    "    print(\"\\033[34m{}\".format(print_haiku(a_haiku).lower()))\n",
    "elif user_answer == 'q':\n",
    "    print('до встречи!')\n",
    "else:\n",
    "    print('некорректный идентификатор')"
   ]
  }
 ],
 "metadata": {
  "kernelspec": {
   "display_name": "Python 3 (ipykernel)",
   "language": "python",
   "name": "python3"
  },
  "language_info": {
   "codemirror_mode": {
    "name": "ipython",
    "version": 3
   },
   "file_extension": ".py",
   "mimetype": "text/x-python",
   "name": "python",
   "nbconvert_exporter": "python",
   "pygments_lexer": "ipython3",
   "version": "3.10.10"
  }
 },
 "nbformat": 4,
 "nbformat_minor": 5
}
