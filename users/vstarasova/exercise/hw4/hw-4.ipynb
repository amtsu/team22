{
 "cells": [
  {
   "cell_type": "code",
   "execution_count": 1,
   "id": "57d18381-f931-48b8-a0ea-54b43ded6f02",
   "metadata": {},
   "outputs": [
    {
     "name": "stdout",
     "output_type": "stream",
     "text": [
      "[1, 2, 3, 4, 5, 6, 9]\n",
      "[1, 2, 3, 4, 5, 6, 9, 789]\n"
     ]
    }
   ],
   "source": [
    "list_one = [1, 2, 3, 4, 5, 6, 9]\n",
    "list_two = [1, 2, 3, 4, 5, 6, 9]\n",
    "list_two.append(789)\n",
    "print(list_one, list_two, sep='\\n')"
   ]
  },
  {
   "cell_type": "code",
   "execution_count": 14,
   "id": "f6977669-6b2d-480f-a063-abf0a7781f69",
   "metadata": {},
   "outputs": [
    {
     "name": "stdout",
     "output_type": "stream",
     "text": [
      "[1, 2, 3, 4, 5, 6, 9, 789]\n",
      "[1, 2, 3, 4, 5, 6, 9, 789]\n",
      "В первом случае у нас два списка как два отдельных объекта (ссылаются на разные ячейки памяти).\n",
      "Изменяя одно, второе не меняется.\n",
      "Во втором случае оба объекта - две ссылки на одну ячейку памяти.\n",
      "Изменяя один объект, мы изменяем значение ячейки, и значит второй объект тоже.\n"
     ]
    }
   ],
   "source": [
    "list_one = [1, 2, 3, 4, 5, 6, 9]\n",
    "list_two = list_one\n",
    "list_two.append(789)\n",
    "print(list_one, list_two, sep='\\n')\n",
    "\n",
    "difference_explanation = 'В первом случае у нас два списка как два отдельных объекта (ссылаются на разные ячейки памяти).\\nИзменяя одно, второе не меняется.\\nВо втором случае оба объекта - две ссылки на одну ячейку памяти.\\nИзменяя один объект, мы изменяем значение ячейки, и значит второй объект тоже.'\n",
    "print(difference_explanation)"
   ]
  },
  {
   "cell_type": "code",
   "execution_count": 3,
   "id": "9c0e0958-d86e-4779-a165-1f5326c59f8e",
   "metadata": {},
   "outputs": [
    {
     "name": "stdout",
     "output_type": "stream",
     "text": [
      "11 10\n"
     ]
    }
   ],
   "source": [
    "a = 10\n",
    "b = 10\n",
    "a = a+1\n",
    "print(a,b)"
   ]
  },
  {
   "cell_type": "code",
   "execution_count": 4,
   "id": "d0140fe6-658d-413c-8dbb-ede91444b993",
   "metadata": {},
   "outputs": [
    {
     "name": "stdout",
     "output_type": "stream",
     "text": [
      "10 11\n"
     ]
    }
   ],
   "source": [
    "a = 10\n",
    "b = a\n",
    "b = b+1\n",
    "print(a,b)"
   ]
  },
  {
   "cell_type": "code",
   "execution_count": 6,
   "id": "9dfae446-6142-4e57-9c2d-91b906016ca5",
   "metadata": {},
   "outputs": [
    {
     "name": "stdout",
     "output_type": "stream",
     "text": [
      "За стеклом лежал Питон,\n",
      "Большой и толстый, как батон.\n",
      "Вверх пополз,\n",
      "Затем вернулся,\n",
      "Круглым бубликом свернулся.\n"
     ]
    }
   ],
   "source": [
    "a_poem = 'За стеклом лежал Питон,\\nБольшой и толстый, как батон.\\nВверх пополз,\\nЗатем вернулся,\\nКруглым бубликом свернулся.'\n",
    "print(a_poem)"
   ]
  },
  {
   "cell_type": "code",
   "execution_count": 7,
   "id": "4f84b034-8f2a-4516-9ab8-a5563af733b7",
   "metadata": {},
   "outputs": [
    {
     "name": "stdout",
     "output_type": "stream",
     "text": [
      "['З', 'а', ' ', 'с', 'т', 'е', 'к', 'л', 'о', 'м', ' ', 'л', 'е', 'ж', 'а', 'л', ' ', 'П', 'и', 'т', 'о', 'н', ',', '\\n', 'Б', 'о', 'л', 'ь', 'ш', 'о', 'й', ' ', 'и', ' ', 'т', 'о', 'л', 'с', 'т', 'ы', 'й', ',', ' ', 'к', 'а', 'к', ' ', 'б', 'а', 'т', 'о', 'н', '.', '\\n', 'В', 'в', 'е', 'р', 'х', ' ', 'п', 'о', 'п', 'о', 'л', 'з', ',', '\\n', 'З', 'а', 'т', 'е', 'м', ' ', 'в', 'е', 'р', 'н', 'у', 'л', 'с', 'я', ',', '\\n', 'К', 'р', 'у', 'г', 'л', 'ы', 'м', ' ', 'б', 'у', 'б', 'л', 'и', 'к', 'о', 'м', ' ', 'с', 'в', 'е', 'р', 'н', 'у', 'л', 'с', 'я', '.']\n"
     ]
    }
   ],
   "source": [
    "a_list = list(a_poem)\n",
    "print(a_list)"
   ]
  },
  {
   "cell_type": "code",
   "execution_count": 11,
   "id": "53cb1676-c044-4430-9180-2abd69cd6b7f",
   "metadata": {},
   "outputs": [
    {
     "name": "stdout",
     "output_type": "stream",
     "text": [
      "<class 'list'>\n",
      "['За', 'стеклом', 'лежал', 'Питон,', 'Большой', 'и', 'толстый,', 'как', 'батон.', 'Вверх', 'пополз,', 'Затем', 'вернулся,', 'Круглым', 'бубликом', 'свернулся.']\n",
      "длина a_list равна  111\n",
      "длина another_list равна  16\n"
     ]
    }
   ],
   "source": [
    "another_list = a_poem.split()\n",
    "print(type(another_list))\n",
    "print(another_list)\n",
    "print('длина a_list равна ', len(a_list))\n",
    "print('длина another_list равна ', len(another_list))\n"
   ]
  },
  {
   "cell_type": "code",
   "execution_count": 12,
   "id": "10cfadfa-3d37-457e-8804-085eef7acb57",
   "metadata": {},
   "outputs": [
    {
     "name": "stdout",
     "output_type": "stream",
     "text": [
      "['За стеклом лежал Питон,', 'Большой и толстый, как батон.', 'Вверх пополз,', 'Затем вернулся,', 'Круглым бубликом свернулся.']\n",
      "длина one_more_list равна  5\n"
     ]
    }
   ],
   "source": [
    "one_more_list = a_poem.split('\\n')\n",
    "print(one_more_list)\n",
    "print('длина one_more_list равна ', len(one_more_list))"
   ]
  },
  {
   "cell_type": "code",
   "execution_count": 19,
   "id": "639444c5-1bc9-496a-95e0-069573e7a65d",
   "metadata": {},
   "outputs": [
    {
     "name": "stdout",
     "output_type": "stream",
     "text": [
      "[-8, 0.8, True, 'строка', ['список'], {'неизменяемое множество'}, {'словарь': 'похож', 'на': 'json'}]\n",
      "длина solyanka_list равна  7\n",
      "<class 'list'>\n",
      "<class 'list'>\n"
     ]
    }
   ],
   "source": [
    "solyanka_list = [-8, 0.8, True, 'строка', ['список'], {'неизменяемое множество'}, {'словарь':'похож','на':'json'}]\n",
    "print(solyanka_list)\n",
    "print('длина solyanka_list равна ', len(solyanka_list))\n",
    "print(type(solyanka_list[4]))\n",
    "solyanka_list.append(['элемент'])\n",
    "print(type(solyanka_list[-1]))"
   ]
  },
  {
   "cell_type": "code",
   "execution_count": 24,
   "id": "13f7b806-5fb9-40ad-9355-296dd7c17631",
   "metadata": {},
   "outputs": [
    {
     "name": "stdout",
     "output_type": "stream",
     "text": [
      "длина fibonacci_list равна  23\n",
      "количество элементов со значением 1 равно  2\n",
      "Число 21 является числом Фибоначи\n",
      "Число 33 не является числом Фибоначи\n",
      "Число 987 является числом Фибоначи\n",
      "Число 999 не является числом Фибоначи\n"
     ]
    }
   ],
   "source": [
    "fibonacci_list = [0, 1, 1, 2, 3, 5, 8, 13, 21, 34, 55, 89, 144, 233, 377, 610, 987, 1597, 2584, 4181, 6765, 10946, 17711]\n",
    "print('длина fibonacci_list равна ', len(fibonacci_list))\n",
    "print('количество элементов со значением 1 равно ', fibonacci_list.count(1))\n",
    "for i in (21, 33, 987, 999):\n",
    "    try:\n",
    "        item = i\n",
    "        index = fibonacci_list.index(item)\n",
    "        print(f\"Число {item} является числом Фибоначи\")\n",
    "    except ValueError:\n",
    "        print(f\"Число {item} не является числом Фибоначи\")"
   ]
  },
  {
   "cell_type": "code",
   "execution_count": 27,
   "id": "cbdad32e-4402-4189-bd97-6c62267e3e3b",
   "metadata": {},
   "outputs": [
    {
     "name": "stdout",
     "output_type": "stream",
     "text": [
      "[1, 2, 5, 4, 3, 6]\n",
      "[1, 2, 3, 4, 5, 6]\n"
     ]
    }
   ],
   "source": [
    "a_list2 = [1,2,5,4,3,6]\n",
    "print(a_list2)\n",
    "a3 = a_list2[2]\n",
    "a5 = a_list2[4]\n",
    "a_list2[2] = a5\n",
    "a_list2[4] = a3\n",
    "print(a_list2)"
   ]
  },
  {
   "cell_type": "code",
   "execution_count": 1,
   "id": "2e25dded-7732-47f5-8da3-597b78ec8fa7",
   "metadata": {},
   "outputs": [
    {
     "name": "stdout",
     "output_type": "stream",
     "text": [
      "[(2, 'тот большего добьётся,'), (5, 'Кто умирал, тот знает, что живёт.'), (1, 'Кто битым жизнью был,'), (3, 'Пуд соли съевший выше ценит мёд.'), (4, 'Кто слёзы лил, тот искренней смеётся,')]\n",
      "[(1, 'Кто битым жизнью был,'), (2, 'тот большего добьётся,'), (3, 'Пуд соли съевший выше ценит мёд.'), (4, 'Кто слёзы лил, тот искренней смеётся,'), (5, 'Кто умирал, тот знает, что живёт.')]\n"
     ]
    }
   ],
   "source": [
    "!!! не поняла\n",
    "\n",
    "a_poem2 = [(2, \"тот большего добьётся,\" ),(5, \"Кто умирал, тот знает, что живёт.\"),(1, \"Кто битым жизнью был,\" ),(3, \"Пуд соли съевший выше ценит мёд.\"),(4, \"Кто слёзы лил, тот искренней смеётся,\")]\n",
    "print(a_poem2)\n",
    "#another_list2 = a_poem2.split('\\n')\n",
    "#print(another_list2)\n",
    "#def sortBySecondSym(inputStr):\n",
    "#        return inputStr[2]\n",
    "#print(another_list2.sort(key=sortBySecondSym))\n",
    "\n",
    "#print(another_list2.sort(key=lambda x: x[1])) \n",
    "\n",
    "#print(type(len(another_list2)))\n",
    "\n",
    "#for i in range(len(another_list2)):\n",
    "#    another_list2.remove('(')\n",
    "#    another_list2.remove(')')\n",
    "#print(another_list2.sort())\n",
    "sorted_poem = sorted(a_poem2)\n",
    "print(sorted_poem)\n"
   ]
  },
  {
   "cell_type": "code",
   "execution_count": 20,
   "id": "7b5bb1ae-8e6c-4545-a2b3-e3899d8bc465",
   "metadata": {},
   "outputs": [
    {
     "name": "stdout",
     "output_type": "stream",
     "text": [
      "Задание 7\n",
      "['Пуд багов съевший, выше ценит чистый код.']\n",
      "длина true_story_list равна  1\n",
      "['Пуд багов съевший, выше ценит чистый код.', 'Кто дошик ел, тот рейтинг ценит свой.']\n",
      "длина true_story_list равна  2\n",
      "['Пуд багов съевший, выше ценит чистый код.', 'Кто дошик ел, тот рейтинг ценит свой.', ['Кто дошик ел, тот рейтинг ценит свой.', 'Кто крашился, тот знает, что живой.']]\n",
      "длина true_story_list равна  3\n",
      "['Пуд багов съевший, выше ценит чистый код.', 'Кто дошик ел, тот рейтинг ценит свой.', []]\n",
      "[]\n",
      "длина true_story_list равна  3\n",
      "['Кто битым за дедлайн был,', 'Пуд багов съевший, выше ценит чистый код.', 'Кто дошик ел, тот рейтинг ценит свой.', []]\n",
      "длина true_story_list равна  4\n",
      "['Кто битым за дедлайн был,', 'Пуд багов съевший, выше ценит чистый код.', 'Кто дошик ел, тот рейтинг ценит свой.']\n",
      "длина true_story_list равна  3\n",
      "['Кто битым за дедлайн был,', 'тот больше не сольется.', 'Пуд багов съевший, выше ценит чистый код.', 'Кто дошик ел, тот рейтинг ценит свой.']\n",
      "длина true_story_list равна  4\n",
      "['Кто битым за дедлайн был,', 'тот больше не сольется.', 'Пуд багов съевший, выше ценит чистый код.', 'Кто дошик ел, тот рейтинг ценит свой.', 'Кто крашился, тот знает, что живой', 'Кто крашился, тот знает, что живой']\n",
      "длина true_story_list равна  6\n",
      "['Кто битым за дедлайн был,', 'тот больше не сольется.', 'Пуд багов съевший, выше ценит чистый код.', 'Кто дошик ел, тот рейтинг ценит свой.', 'Кто крашился, тот знает, что живой']\n",
      "длина true_story_list равна  5\n",
      "Кто битым за дедлайн был,\n",
      "тот больше не сольется.\n",
      "Пуд багов съевший, выше ценит чистый код.\n",
      "Кто дошик ел, тот рейтинг ценит свой.\n",
      "Кто крашился, тот знает, что живой\n"
     ]
    }
   ],
   "source": [
    "print('Задание 7')\n",
    "\n",
    "true_story_list = ['Пуд багов съевший, выше ценит чистый код.']\n",
    "print(true_story_list )\n",
    "print('длина true_story_list равна ', len(true_story_list))\n",
    "\n",
    "true_story_list.append('Кто дошик ел, тот рейтинг ценит свой.')\n",
    "print(true_story_list )\n",
    "print('длина true_story_list равна ', len(true_story_list))\n",
    "\n",
    "true_story_slice = ['Кто дошик ел, тот рейтинг ценит свой.', 'Кто крашился, тот знает, что живой.']\n",
    "true_story_list.append(true_story_slice)\n",
    "print(true_story_list )\n",
    "print('длина true_story_list равна ', len(true_story_list))\n",
    "\n",
    "true_story_slice.clear()\n",
    "print(true_story_list )\n",
    "print(true_story_slice)\n",
    "print('длина true_story_list равна ', len(true_story_list))\n",
    "\n",
    "true_story_list.insert(0,'Кто битым за дедлайн был,')\n",
    "print(true_story_list )\n",
    "print('длина true_story_list равна ', len(true_story_list))\n",
    "\n",
    "#true_story_list.clear()\n",
    "#print(true_story_list )\n",
    "#print('длина true_story_list равна ', len(true_story_list))\n",
    "\n",
    "true_story_list.pop(-1)\n",
    "print(true_story_list )\n",
    "print('длина true_story_list равна ', len(true_story_list))\n",
    "\n",
    "true_story_list.insert(1,'тот больше не сольется.')\n",
    "print(true_story_list )\n",
    "print('длина true_story_list равна ', len(true_story_list))\n",
    "\n",
    "true_story_tail = ['Кто крашился, тот знает, что живой', 'Кто крашился, тот знает, что живой']\n",
    "true_story_list.append(true_story_tail[0])\n",
    "true_story_list.append(true_story_tail[1])\n",
    "print(true_story_list )\n",
    "print('длина true_story_list равна ', len(true_story_list))\n",
    "\n",
    "true_story_list.pop(4)\n",
    "print(true_story_list )\n",
    "print('длина true_story_list равна ', len(true_story_list))\n",
    "\n",
    "for i in range(0, len(true_story_list)):\n",
    "    print(true_story_list[i])"
   ]
  }
 ],
 "metadata": {
  "kernelspec": {
   "display_name": "Python 3 (ipykernel)",
   "language": "python",
   "name": "python3"
  },
  "language_info": {
   "codemirror_mode": {
    "name": "ipython",
    "version": 3
   },
   "file_extension": ".py",
   "mimetype": "text/x-python",
   "name": "python",
   "nbconvert_exporter": "python",
   "pygments_lexer": "ipython3",
   "version": "3.10.10"
  }
 },
 "nbformat": 4,
 "nbformat_minor": 5
}
