{
 "cells": [
  {
   "cell_type": "markdown",
   "id": "a1850caa-4b10-43fe-a8cf-6607941a96aa",
   "metadata": {},
   "source": [
    "# Часть 1. Множества \n"
   ]
  },
  {
   "cell_type": "markdown",
   "id": "c0f0525a-3b70-4947-8c87-8e43bb8f3024",
   "metadata": {},
   "source": [
    "1. Создайте множество **set1** из целых чисел: 1, 2, 3, 4, 5.\n"
   ]
  },
  {
   "cell_type": "code",
   "execution_count": 12,
   "id": "423a97aa-ee5a-4421-8ccf-16d9dcb1b5ea",
   "metadata": {},
   "outputs": [],
   "source": [
    "set1 = {1, 2, 3, 4, 5}"
   ]
  },
  {
   "cell_type": "markdown",
   "id": "558268bc-73f0-4cf1-8fcc-b8ecc7182ae9",
   "metadata": {},
   "source": [
    "2. Добавьте в это множество элемент 6.\n"
   ]
  },
  {
   "cell_type": "code",
   "execution_count": 13,
   "id": "17313f2a-6525-4e64-8fca-43d48d76492f",
   "metadata": {},
   "outputs": [
    {
     "name": "stdout",
     "output_type": "stream",
     "text": [
      "{1, 2, 3, 4, 5, 6}\n"
     ]
    }
   ],
   "source": [
    "set1.add(6)\n",
    "print(set1)"
   ]
  },
  {
   "cell_type": "markdown",
   "id": "3909c160-fddb-4fda-8c56-63a6e0392ad7",
   "metadata": {},
   "source": [
    "3. Удалите элемент 2 из множества.\n"
   ]
  },
  {
   "cell_type": "code",
   "execution_count": 14,
   "id": "7ae2e268-2d6f-4321-a0fb-5561a745d047",
   "metadata": {},
   "outputs": [
    {
     "name": "stdout",
     "output_type": "stream",
     "text": [
      "{1, 3, 4, 5, 6}\n"
     ]
    }
   ],
   "source": [
    "set1.remove(2)\n",
    "print(set1)"
   ]
  },
  {
   "cell_type": "markdown",
   "id": "162a7095-c591-4892-b763-fe76635fde90",
   "metadata": {},
   "source": [
    "4. Проверьте, содержит ли множество элемент 3.\n"
   ]
  },
  {
   "cell_type": "code",
   "execution_count": 15,
   "id": "cab6f1d4-26fb-4065-b8a4-944395d3805e",
   "metadata": {},
   "outputs": [
    {
     "data": {
      "text/plain": [
       "True"
      ]
     },
     "execution_count": 15,
     "metadata": {},
     "output_type": "execute_result"
    }
   ],
   "source": [
    "3 in set1"
   ]
  },
  {
   "cell_type": "markdown",
   "id": "73190ab8-b652-4061-bc9f-c47515fe681e",
   "metadata": {},
   "source": [
    "5. Создайте второе множество **set2** с элементами 4, 5, 6, 7, 8.\n"
   ]
  },
  {
   "cell_type": "code",
   "execution_count": 16,
   "id": "12e059b2-c8fc-4490-8252-8edaa247cb35",
   "metadata": {},
   "outputs": [],
   "source": [
    "set2 = {4, 5, 6, 7, 8}"
   ]
  },
  {
   "cell_type": "markdown",
   "id": "3ad31069-26d0-411f-bcd7-b753856f6bd0",
   "metadata": {},
   "source": [
    "6. Найдите объединение множеств **set1** и **set2**.\n"
   ]
  },
  {
   "cell_type": "code",
   "execution_count": 17,
   "id": "e2a3340e-45f0-4fdb-bab9-56d5a1e109c3",
   "metadata": {},
   "outputs": [
    {
     "name": "stdout",
     "output_type": "stream",
     "text": [
      "{1, 3, 4, 5, 6, 7, 8}\n"
     ]
    }
   ],
   "source": [
    "set3 = set1|set2\n",
    "print(set3)"
   ]
  },
  {
   "cell_type": "markdown",
   "id": "c30d10c9-7fdb-426b-8657-1118326987d0",
   "metadata": {},
   "source": [
    "7. Найдите разность множеств **set1** и **set2**.\n"
   ]
  },
  {
   "cell_type": "code",
   "execution_count": 21,
   "id": "1213f5d8-5914-4715-8402-f64e62bc0238",
   "metadata": {},
   "outputs": [
    {
     "name": "stdout",
     "output_type": "stream",
     "text": [
      "set1-set2 равна  {1, 3}\n",
      "set2-set1 равна  {8, 7}\n"
     ]
    }
   ],
   "source": [
    "print('set1-set2 равна ',(set1-set2))\n",
    "print('set2-set1 равна ',(set2-set1))\n"
   ]
  },
  {
   "cell_type": "markdown",
   "id": "50855226-2ee2-46ec-b236-13ff9d974eec",
   "metadata": {},
   "source": [
    "8. Создайте два множества:\n",
    " **set1** , содержащие цвета: \"красный\", \"оранжевый\", \"желтый\", \"зеленый\", \"голубой\",\n",
    "   и **set2**, содержащее цвета \"оранжевый\", \"желтый\", \"синий\", \"фиолетовый\", \"Мальвиновый\"."
   ]
  },
  {
   "cell_type": "code",
   "execution_count": 4,
   "id": "3102c92c-48c3-4aa7-bd47-037009cb05d3",
   "metadata": {},
   "outputs": [],
   "source": [
    "set1 = {\"красный\", \"оранжевый\", \"желтый\", \"зеленый\", \"голубой\"}\n",
    "set2 = {\"оранжевый\", \"желтый\", \"синий\", \"фиолетовый\", \"Мальвиновый\"}\n"
   ]
  },
  {
   "cell_type": "markdown",
   "id": "c4a8970f-59b1-4ae3-a291-abaa4dbfc1af",
   "metadata": {},
   "source": [
    "9. Найдите пересечение множеств **set1** и **set2**.\n"
   ]
  },
  {
   "cell_type": "code",
   "execution_count": 23,
   "id": "a0a49969-4a8b-4679-a60e-a8fbd8b5f480",
   "metadata": {},
   "outputs": [
    {
     "name": "stdout",
     "output_type": "stream",
     "text": [
      "{'желтый', 'оранжевый'}\n"
     ]
    }
   ],
   "source": [
    "set3 = set1&set2\n",
    "print(set3)"
   ]
  },
  {
   "cell_type": "markdown",
   "id": "ab8eb385-fe71-4aa8-a0b1-3cac1fd208eb",
   "metadata": {},
   "source": [
    "10. Объедините множества **set1** и **set2** и сохраните результат в новое множество **rainbow_colors**."
   ]
  },
  {
   "cell_type": "code",
   "execution_count": 24,
   "id": "07c8a944-5fe0-4875-9c35-dc2e8bc3efed",
   "metadata": {},
   "outputs": [
    {
     "name": "stdout",
     "output_type": "stream",
     "text": [
      "{'синий', 'зеленый', 'голубой', 'желтый', 'оранжевый', 'Мальвиновый', 'фиолетовый', 'красный'}\n"
     ]
    }
   ],
   "source": [
    "rainbow_colors = set1|set2\n",
    "print(rainbow_colors)"
   ]
  },
  {
   "cell_type": "markdown",
   "id": "b537fffb-1897-4d78-958c-b6ad453c0d24",
   "metadata": {},
   "source": [
    "# Часть 2. Словари"
   ]
  },
  {
   "cell_type": "markdown",
   "id": "47a7ed34-fd76-49c1-9411-8dd148cc296e",
   "metadata": {},
   "source": [
    "1. Создайте словарь **person** с ключами \"name\", \"age\" и \"city\" с вашими данными."
   ]
  },
  {
   "cell_type": "code",
   "execution_count": 25,
   "id": "b43e31f8-fc54-447e-94a1-3423d137a79a",
   "metadata": {},
   "outputs": [],
   "source": [
    "person = {'name': 'Vera', 'age': '35', 'city': 'Nerezinovsk'}"
   ]
  },
  {
   "cell_type": "markdown",
   "id": "a8132d21-d7d4-4632-9583-ac6f504b5fcc",
   "metadata": {},
   "source": [
    "2. Добавьте в словарь **person**  новый ключ \"e-mail\" со значением вашего электронного адреса."
   ]
  },
  {
   "cell_type": "code",
   "execution_count": 27,
   "id": "8283df3b-e08c-4981-b6fe-1ebed04cd91b",
   "metadata": {},
   "outputs": [],
   "source": [
    "person['e-mail'] = 'email@email.com'"
   ]
  },
  {
   "cell_type": "markdown",
   "id": "09898bee-007c-493a-b682-4212c7ba1f22",
   "metadata": {},
   "source": [
    "3. Удалите ключ \"city\" из словаря **person** .\n"
   ]
  },
  {
   "cell_type": "code",
   "execution_count": 28,
   "id": "5bf7aaed-2a30-445c-a676-d3016917cc2a",
   "metadata": {},
   "outputs": [
    {
     "data": {
      "text/plain": [
       "'Nerezinovsk'"
      ]
     },
     "execution_count": 28,
     "metadata": {},
     "output_type": "execute_result"
    }
   ],
   "source": [
    "person.pop('city')"
   ]
  },
  {
   "cell_type": "markdown",
   "id": "eee442d7-c4d5-4ed6-947a-fa34db472e34",
   "metadata": {},
   "source": [
    "4. Создайте словарь **fruits_quantity**, содержащий количество различных фруктов: {\"яблоко\": 5, \"банан\": 10, \"апельсин\": 7}."
   ]
  },
  {
   "cell_type": "code",
   "execution_count": 1,
   "id": "b03fb582-853b-427d-96b2-9138be9ad474",
   "metadata": {},
   "outputs": [],
   "source": [
    "fruits_quantity = {\"яблоко\": 5, \"банан\": 10, \"апельсин\": 7}"
   ]
  },
  {
   "cell_type": "markdown",
   "id": "e3372dce-5661-4a42-9904-19923e542d48",
   "metadata": {},
   "source": [
    "5. в словаре fruits_quantity увеличьте количество \"бананов\" на 3."
   ]
  },
  {
   "cell_type": "code",
   "execution_count": 33,
   "id": "dfdc4743-a7e5-44e0-83a4-ae4e8e8635dd",
   "metadata": {},
   "outputs": [
    {
     "name": "stdout",
     "output_type": "stream",
     "text": [
      "{'яблоко': 5, 'банан': 13, 'апельсин': 7}\n"
     ]
    }
   ],
   "source": [
    "fruits_quantity[\"банан\"] = fruits_quantity[\"банан\"] + 3\n",
    "print(fruits_quantity)"
   ]
  },
  {
   "cell_type": "markdown",
   "id": "1901a74c-3f78-4e9d-96ea-3c389683d35d",
   "metadata": {},
   "source": [
    "6. Создайте новый словарь **fruits_prices**, где заданы цены одного фрукта для всех фруктов {\"яблоко\": 1.5, \"банан\": 2, \"апельсин\": 1.2}."
   ]
  },
  {
   "cell_type": "code",
   "execution_count": 5,
   "id": "4470415d-2180-4af5-ba8a-132809d5f309",
   "metadata": {},
   "outputs": [],
   "source": [
    "fruits_prices = {\"яблоко\": 1.5, \"банан\": 2, \"апельсин\": 1.2}"
   ]
  },
  {
   "cell_type": "markdown",
   "id": "9f33e0a5-3798-4483-9bd8-7fea2db81a73",
   "metadata": {},
   "source": [
    "7.* Посчитайте стоимость всех фруктов, имеющихся в наличии\n"
   ]
  },
  {
   "cell_type": "code",
   "execution_count": 35,
   "id": "e0c2ca7d-7d27-46d8-be5f-26e054b795d9",
   "metadata": {},
   "outputs": [
    {
     "name": "stdout",
     "output_type": "stream",
     "text": [
      "41.9\n"
     ]
    }
   ],
   "source": [
    "sum = fruits_quantity[\"банан\"]*fruits_prices[\"банан\"]+fruits_quantity[\"яблоко\"]*fruits_prices[\"яблоко\"]+fruits_quantity[\"апельсин\"]*fruits_prices[\"апельсин\"]\n",
    "print(sum)"
   ]
  },
  {
   "cell_type": "markdown",
   "id": "afca6bd4-0a58-4911-b435-85c2889aad97",
   "metadata": {},
   "source": [
    "8. Удалите \"Томат\" из словаря fruits_prices."
   ]
  },
  {
   "cell_type": "code",
   "execution_count": 36,
   "id": "c6a28d1e-2fa5-4b63-9a0d-89604ab5924f",
   "metadata": {},
   "outputs": [
    {
     "ename": "KeyError",
     "evalue": "'Томат'",
     "output_type": "error",
     "traceback": [
      "\u001b[0;31m---------------------------------------------------------------------------\u001b[0m",
      "\u001b[0;31mKeyError\u001b[0m                                  Traceback (most recent call last)",
      "Cell \u001b[0;32mIn[36], line 1\u001b[0m\n\u001b[0;32m----> 1\u001b[0m \u001b[43mfruits_prices\u001b[49m\u001b[38;5;241;43m.\u001b[39;49m\u001b[43mpop\u001b[49m\u001b[43m(\u001b[49m\u001b[38;5;124;43m\"\u001b[39;49m\u001b[38;5;124;43mТомат\u001b[39;49m\u001b[38;5;124;43m\"\u001b[39;49m\u001b[43m)\u001b[49m\n",
      "\u001b[0;31mKeyError\u001b[0m: 'Томат'"
     ]
    }
   ],
   "source": [
    "#код закомменчен потому что выпадает в ошибку - насколько я поняла, так и должно быть\n",
    "#fruits_prices.pop(\"Томат\")"
   ]
  },
  {
   "cell_type": "markdown",
   "id": "a4649447-0461-4999-9b88-2bec055d6481",
   "metadata": {},
   "source": [
    "9. Создайте словарь students с данными о студентах {\"Иванов\": 22, \"Петрова\": 13, \"Сидоров\": 23}."
   ]
  },
  {
   "cell_type": "code",
   "execution_count": 12,
   "id": "4c974d34-6b8a-4d01-ae2f-695fa45dc2a0",
   "metadata": {},
   "outputs": [],
   "source": [
    "students = {\"Иванов\": 22, \"Петрова\": 13, \"Сидоров\": 23}"
   ]
  },
  {
   "cell_type": "markdown",
   "id": "bf5aefc5-5509-41ff-984e-77088ba8626e",
   "metadata": {},
   "source": [
    "10. Добавьте нового студента \"Смирнова\" возрастом 20 лет в словарь."
   ]
  },
  {
   "cell_type": "code",
   "execution_count": 38,
   "id": "6d2a8899-f596-4eb1-b9d9-7afa2fbf9835",
   "metadata": {},
   "outputs": [],
   "source": [
    "students[\"Смирнов\"] = 20"
   ]
  },
  {
   "cell_type": "markdown",
   "id": "d3bbb12b-a690-426d-be4e-ac14bd461e0e",
   "metadata": {},
   "source": [
    "11. Удалите студента \"Петрова\" из словаря."
   ]
  },
  {
   "cell_type": "code",
   "execution_count": 39,
   "id": "14685ac6-f780-40d3-ba93-1b6b1508c71a",
   "metadata": {},
   "outputs": [
    {
     "data": {
      "text/plain": [
       "13"
      ]
     },
     "execution_count": 39,
     "metadata": {},
     "output_type": "execute_result"
    }
   ],
   "source": [
    "students.pop(\"Петрова\")"
   ]
  },
  {
   "cell_type": "markdown",
   "id": "3a3e511c-8c3e-4496-8555-39c324dfa7ca",
   "metadata": {},
   "source": [
    "# Часть 3. Условные операторы\n"
   ]
  },
  {
   "cell_type": "markdown",
   "id": "b445e525-2eb4-47b7-96b2-b73dcfb5123d",
   "metadata": {},
   "source": [
    "1. На основе значения возраста из словаря **person** из предыдущей части, выведите сообщение \"Совершеннолетний\" или \"Несовершеннолетний\".\n"
   ]
  },
  {
   "cell_type": "code",
   "execution_count": 47,
   "id": "1d0324dd-f959-4f32-b05d-e0f9817d3d8a",
   "metadata": {},
   "outputs": [
    {
     "name": "stdout",
     "output_type": "stream",
     "text": [
      "Cовершеннолетний\n"
     ]
    }
   ],
   "source": [
    "# person = {'name': 'Vera', 'age': '35', 'city': 'Nerezinovsk'}\n",
    "if int(person['age'])<18:\n",
    "    print(\"Несовершеннолетний\")\n",
    "else:\n",
    "    print(\"Cовершеннолетний\")"
   ]
  },
  {
   "cell_type": "markdown",
   "id": "5d15e061-d387-4097-a483-9b3cacac6796",
   "metadata": {},
   "source": [
    "2. Сравните размер множества **set1** с размером множеством **set2** и выведите сообщение о том, какое из множеств больше.\n"
   ]
  },
  {
   "cell_type": "code",
   "execution_count": 40,
   "id": "3592aa35-885d-4fee-a9fa-d814e24c597d",
   "metadata": {},
   "outputs": [
    {
     "name": "stdout",
     "output_type": "stream",
     "text": [
      "Множество set2 больше set1\n"
     ]
    }
   ],
   "source": [
    "if set1>set2:\n",
    "    print('Множество set1 больше set2')\n",
    "else:\n",
    "    print('Множество set2 больше set1')"
   ]
  },
  {
   "cell_type": "markdown",
   "id": "c2fd9e2b-b030-4653-acf0-2809ec1a43d4",
   "metadata": {},
   "source": [
    "3. Проверьте, есть ли  \"груша\" в словаре **fruits_quantity**, и если нет, добавьте \"грушу\" с количеством 3."
   ]
  },
  {
   "cell_type": "code",
   "execution_count": 43,
   "id": "d286e015-2d36-449d-a41c-c71869ee2363",
   "metadata": {},
   "outputs": [
    {
     "name": "stdout",
     "output_type": "stream",
     "text": [
      "Груша уже есть\n"
     ]
    }
   ],
   "source": [
    "if (\"груша\" in fruits_quantity != 0):\n",
    "    print('Груша уже есть')\n",
    "else:\n",
    "    fruits_quantity[\"груша\"] = 3\n",
    "    print('Добавили 3 груши')"
   ]
  },
  {
   "cell_type": "markdown",
   "id": "757051db-9f0b-4356-9430-9e5fee39647e",
   "metadata": {},
   "source": [
    "4. Если банан дороже яблока, но дешевле апельсина, задайте количество бананов равным 15."
   ]
  },
  {
   "cell_type": "code",
   "execution_count": 44,
   "id": "068dbbea-5984-4ac2-a353-4e9d06e18a92",
   "metadata": {},
   "outputs": [],
   "source": [
    "if fruits_prices[\"банан\"]>fruits_prices[\"апельсин\"]:\n",
    "    fruits_quantity[\"банан\"] = 15"
   ]
  },
  {
   "cell_type": "markdown",
   "id": "d8bdcc84-7064-4a77-b959-49e6157aa90c",
   "metadata": {},
   "source": [
    "5. Задайте словарь Seven11 с таким содержанием {\"яйца\": 40, \"батон хлеба\" : 20}  \n",
    "  Жена отправляет мужа-программиста в севенэлевен:  \n",
    " — Купи батон хлеба, если будут яйца — возьми десяток.  \n",
    "Выведите на экран, сколько хлеба купил муж-программист, и сколько хлеба и яиц осталось в магазине."
   ]
  },
  {
   "cell_type": "code",
   "execution_count": 48,
   "id": "c6a7a1b3-58a9-4d18-a549-38190301c2ed",
   "metadata": {},
   "outputs": [
    {
     "name": "stdout",
     "output_type": "stream",
     "text": [
      "Куплено батонов:  10\n",
      "Осталось:  {'яйца': 40, 'батон хлеба': 10}\n"
     ]
    }
   ],
   "source": [
    "Seven11 = {\"яйца\": 40, \"батон хлеба\" : 20}\n",
    "if Seven11[\"яйца\"]>0:\n",
    "    print('Куплено батонов: ', 10)\n",
    "    Seven11['батон хлеба'] = Seven11['батон хлеба'] - 10\n",
    "    print('Осталось: ', Seven11)\n",
    "else:\n",
    "    print('Куплено батонов: ', 1)\n",
    "    Seven11['батон хлеба'] = Seven11['батон хлеба'] - 10\n",
    "    print('Осталось: ', Seven11)\n"
   ]
  },
  {
   "cell_type": "markdown",
   "id": "a8202eb3-04e4-4c9b-bc37-d93a5eef3e13",
   "metadata": {},
   "source": [
    "6. Напишите условие, которое проверяет возраст студента \"Иванова\" и выводит сообщение \"Совершеннолетний\" или \"Несовершеннолетний\"."
   ]
  },
  {
   "cell_type": "code",
   "execution_count": 49,
   "id": "831eb710-b3ff-4825-985d-e53f1b35aa34",
   "metadata": {},
   "outputs": [
    {
     "name": "stdout",
     "output_type": "stream",
     "text": [
      "Cовершеннолетний\n"
     ]
    }
   ],
   "source": [
    "if int(students['Иванов'])<18:\n",
    "    print(\"Несовершеннолетний\")\n",
    "else:\n",
    "    print(\"Cовершеннолетний\")"
   ]
  },
  {
   "cell_type": "markdown",
   "id": "8727cf2d-3ef8-4e10-a773-dc8c62f46167",
   "metadata": {},
   "source": [
    "# Часть 4. Циклы "
   ]
  },
  {
   "cell_type": "markdown",
   "id": "0cc79b02-4f14-4afc-a9da-5679d5aad696",
   "metadata": {},
   "source": [
    "1. Напишите цикл for, который выводит все элементы множества **set1**.\n"
   ]
  },
  {
   "cell_type": "code",
   "execution_count": 12,
   "id": "e6709032-140c-4ebe-b63b-211c948c0f78",
   "metadata": {},
   "outputs": [
    {
     "name": "stdout",
     "output_type": "stream",
     "text": [
      "голубой\n",
      "оранжевый\n",
      "красный\n",
      "желтый\n",
      "зеленый\n"
     ]
    }
   ],
   "source": [
    "for i in set1:\n",
    "    print(i)\n"
   ]
  },
  {
   "cell_type": "markdown",
   "id": "b11f675d-0fc2-4fa6-ab63-5bc90fedd0e9",
   "metadata": {},
   "source": [
    "2. Напишите цикл while, который выводит квадраты чисел от 1 до 5.\n"
   ]
  },
  {
   "cell_type": "code",
   "execution_count": 16,
   "id": "52196b4f-7639-4bf6-b33f-3edbde3d1fc8",
   "metadata": {},
   "outputs": [
    {
     "name": "stdout",
     "output_type": "stream",
     "text": [
      "1\n",
      "4\n",
      "9\n",
      "16\n",
      "25\n"
     ]
    }
   ],
   "source": [
    "i=1\n",
    "while i<6:\n",
    "    print(i**2)\n",
    "    i=i+1\n"
   ]
  },
  {
   "cell_type": "markdown",
   "id": "08006861-c85e-4bca-9046-38464ccf582a",
   "metadata": {},
   "source": [
    "3. Напишите цикл for, который перебирает все записи из словаря **fruits_quantity** и выводит информацию о количестве каждого фрукта.\n"
   ]
  },
  {
   "cell_type": "code",
   "execution_count": 4,
   "id": "d156e778-7e8d-41d4-91b4-7e4bd4b2ae82",
   "metadata": {},
   "outputs": [
    {
     "name": "stdout",
     "output_type": "stream",
     "text": [
      "яблоко -> 5\n",
      "банан -> 10\n",
      "апельсин -> 7\n"
     ]
    }
   ],
   "source": [
    "#fruits_quantity = {\"яблоко\": 5, \"банан\": 10, \"апельсин\": 7}\n",
    "for i in fruits_quantity.keys():\n",
    "    print(i, '->', fruits_quantity[i])"
   ]
  },
  {
   "cell_type": "markdown",
   "id": "bf60f6c9-bc04-4116-a3e9-464233a4c5d1",
   "metadata": {},
   "source": [
    "4. Выведите сообщение \"%название фрукта% - дорогой товар\" для фруктов из **fruit_prices**, цена которых превышает 1.5, подставив вместо %название фрукта% название соответствующих \"дорогих\" фруктов"
   ]
  },
  {
   "cell_type": "code",
   "execution_count": 10,
   "id": "b28298bb-0a96-4344-9dfb-d25aa46ec8e2",
   "metadata": {},
   "outputs": [
    {
     "name": "stdout",
     "output_type": "stream",
     "text": [
      "банан   - дорогой товар\n"
     ]
    }
   ],
   "source": [
    "#fruits_prices = {\"яблоко\": 1.5, \"банан\": 2, \"апельсин\": 1.2}\n",
    "for i in fruits_prices:\n",
    "    if fruits_prices[i]>1.5:\n",
    "        print(i, '  - дорогой товар')"
   ]
  },
  {
   "cell_type": "markdown",
   "id": "fbc87167-02af-40c3-a0d9-d0b7a29a93e5",
   "metadata": {},
   "source": [
    " 5. Посчитайте стоимость всех фруктов, имеющихся в наличии"
   ]
  },
  {
   "cell_type": "code",
   "execution_count": 11,
   "id": "ff0b55a3-35b0-466b-969f-26b484cecb9d",
   "metadata": {},
   "outputs": [
    {
     "name": "stdout",
     "output_type": "stream",
     "text": [
      "4.7\n"
     ]
    }
   ],
   "source": [
    "sum = 0\n",
    "for i in fruits_prices:\n",
    "    sum = sum+fruits_prices[i]\n",
    "print(sum)"
   ]
  },
  {
   "cell_type": "markdown",
   "id": "dbf8baf6-ca73-4ee4-8594-e2e0441be351",
   "metadata": {},
   "source": [
    "6. Используя цикл for, выведите всех студентов и их возраст из словаря students."
   ]
  },
  {
   "cell_type": "code",
   "execution_count": 13,
   "id": "54edea6a-f321-4bb7-8fc7-30fc4be4ce32",
   "metadata": {},
   "outputs": [
    {
     "name": "stdout",
     "output_type": "stream",
     "text": [
      "Иванов  -  22 лет\n",
      "Петрова  -  13 лет\n",
      "Сидоров  -  23 лет\n"
     ]
    }
   ],
   "source": [
    "#students = {\"Иванов\": 22, \"Петрова\": 13, \"Сидоров\": 23}\n",
    "for i in students:\n",
    "    print(i, ' - ',students[i],'лет')"
   ]
  },
  {
   "cell_type": "markdown",
   "id": "e5e7b6e6-df34-44d4-8dce-ad5dbff8958b",
   "metadata": {},
   "source": [
    "# Часть 5 - Функции\n",
    "\n",
    "## Множества\n"
   ]
  },
  {
   "cell_type": "markdown",
   "id": "ebc29429-f37b-48f2-9e28-293ea449f065",
   "metadata": {},
   "source": [
    "1. Создайте функции **set_union** и **set_difference** для операций объединения и разности множеств.\n",
    "   - Функции должны принимать два множества и возвращать соответствующий результат.\n"
   ]
  },
  {
   "cell_type": "code",
   "execution_count": 14,
   "id": "a681b23a-0dd9-4d8f-843d-8a6c588230f0",
   "metadata": {},
   "outputs": [
    {
     "name": "stdout",
     "output_type": "stream",
     "text": [
      "{'4', '5', '2', '6', '3', '1'}\n",
      "{'1', '2'}\n"
     ]
    }
   ],
   "source": [
    "def set_union(set1, set2):\n",
    "    return set1|set2\n",
    "\n",
    "def set_difference(set1, set2):\n",
    "    return set1-set2\n",
    "\n",
    "a = set('1234')\n",
    "b = set('3456')\n",
    "\n",
    "print(set_union(a,b))\n",
    "print(set_difference(a,b))"
   ]
  },
  {
   "cell_type": "markdown",
   "id": "d684e5fc-2d58-4a2f-93d9-3e20e8b17b3b",
   "metadata": {},
   "source": [
    "2. Создайте функцию **is_subset** для проверки, является ли одно множество подмножеством другого.\n"
   ]
  },
  {
   "cell_type": "code",
   "execution_count": 28,
   "id": "c380ecc0-e207-4ee2-b9fb-d7386c0056e8",
   "metadata": {},
   "outputs": [
    {
     "name": "stdout",
     "output_type": "stream",
     "text": [
      "Ни одно множество не является подмножеством другого\n"
     ]
    }
   ],
   "source": [
    "def is_subset(set1, set2):\n",
    "    if set1.issuperset(set2):\n",
    "       print('Множество 2 входит в множество 1')\n",
    "    elif set2.issuperset(set1):\n",
    "        print('Множество 1 входит в множество 2')\n",
    "    else:\n",
    "        print('Ни одно множество не является подмножеством другого')\n",
    "\n",
    "a = set('tt')\n",
    "b = set('agavahargava')\n",
    "\n",
    "is_subset(a,b)"
   ]
  },
  {
   "cell_type": "markdown",
   "id": "9e205e46-bcf9-42e5-a63d-4a4c48e66a24",
   "metadata": {},
   "source": [
    "3. Создайте функцию для объединения нескольких множеств."
   ]
  },
  {
   "cell_type": "code",
   "execution_count": 2,
   "id": "e595f37e-527a-4827-af91-a2b31ef4a477",
   "metadata": {},
   "outputs": [
    {
     "name": "stdout",
     "output_type": "stream",
     "text": [
      "{1, 2, 3, 4, 5, 7, 8, 9}\n"
     ]
    }
   ],
   "source": [
    "def setunion(*args):\n",
    "    a = set()\n",
    "    for i in args:\n",
    "        a = a.union(i)\n",
    "    return a\n",
    "\n",
    "b = {1, 2, 3}\n",
    "c = {4, 5, 7}\n",
    "d = {8, 5, 9}\n",
    "\n",
    "\n",
    "print(setunion(b,c,d))\n"
   ]
  },
  {
   "cell_type": "markdown",
   "id": "b5060f5e-5dce-4cef-8f97-c0d2dcee5d83",
   "metadata": {},
   "source": [
    "4. Создайте функцию для удаления конкретного элемента из множества.\n"
   ]
  },
  {
   "cell_type": "code",
   "execution_count": 7,
   "id": "9da1ec6a-24fd-49bc-829e-dc4ad63398fc",
   "metadata": {},
   "outputs": [
    {
     "name": "stdout",
     "output_type": "stream",
     "text": [
      "{1, 2}\n"
     ]
    }
   ],
   "source": [
    "a = 3\n",
    "def remove_union(x):\n",
    "    if a in x:\n",
    "        b = x.discard(a)\n",
    "    return b\n",
    "\n",
    "x = {1, 2, 3}\n",
    "remove_union(x)\n",
    "print(x)\n"
   ]
  },
  {
   "cell_type": "markdown",
   "id": "c5107c2e-93ce-4683-bf80-150b07b38384",
   "metadata": {},
   "source": [
    "5. Создайте функцию для поиска пересечения нескольких множеств.\n"
   ]
  },
  {
   "cell_type": "code",
   "execution_count": 13,
   "id": "bd99a8a6-b0c0-4e2d-b804-289eb3205be0",
   "metadata": {},
   "outputs": [
    {
     "name": "stdout",
     "output_type": "stream",
     "text": [
      "{4, 5}\n"
     ]
    }
   ],
   "source": [
    "def set_intersection(*args):\n",
    "    L = args[0]\n",
    "    for i in args:\n",
    "        L = i.intersection(L)\n",
    "    return L\n",
    "\n",
    "b = {1, 2, 3, 4, 5}\n",
    "c = {4, 5, 7}\n",
    "d = {8, 5, 9, 4, 5}\n",
    "\n",
    "\n",
    "print(set_intersection(b,c,d))\n"
   ]
  },
  {
   "cell_type": "markdown",
   "id": "1574ecbc-cc0f-48ca-8769-3986d78ca5ef",
   "metadata": {},
   "source": [
    "6. Создайте функцию для проверки на равенство двух множеств.\n"
   ]
  },
  {
   "cell_type": "code",
   "execution_count": 18,
   "id": "b2eacdd0-a8bd-41b1-a82e-599a2c4078fc",
   "metadata": {},
   "outputs": [
    {
     "name": "stdout",
     "output_type": "stream",
     "text": [
      "множества равны\n",
      "None\n"
     ]
    }
   ],
   "source": [
    "# Решение 1 - рабочее, но неоптимальное\n",
    "def set_equality(*args):\n",
    "    a = args[1]\n",
    "    for i in args:\n",
    "        if i == a:\n",
    "            print('множества равны')\n",
    "            break\n",
    "        else:\n",
    "            print('множества НЕ равны')\n",
    "            break\n",
    "b = {4, 5, 7}\n",
    "c = {4, 5, 7}\n",
    "print(set_equality(b,c))\n",
    "\n",
    "# Решение 2 - оптимальное\n",
    "\n",
    "def set_equality2(set1, set2):\n",
    "    if set1 == set2:\n",
    "        print('множества равны')\n",
    "    else:\n",
    "        print('множества НЕ равны')"
   ]
  },
  {
   "cell_type": "markdown",
   "id": "f3a5f1f2-6905-43cf-abd0-9f96586770d7",
   "metadata": {},
   "source": [
    "7. Создайте функцию для нахождения объединения трех множеств.\n"
   ]
  },
  {
   "cell_type": "code",
   "execution_count": 20,
   "id": "dce6891e-bba6-4310-82bc-d6031e5742f9",
   "metadata": {},
   "outputs": [
    {
     "name": "stdout",
     "output_type": "stream",
     "text": [
      "{1, 2, 3, 4, 5, 7, 8, 9}\n"
     ]
    }
   ],
   "source": [
    "def setunion(set1, set2, set3):\n",
    "    set_union = set1|set2|set3\n",
    "    return set_union\n",
    "set1 = {1, 2, 3}\n",
    "set2 = {4, 5, 7}\n",
    "set3 = {8, 5, 9}\n",
    "print(setunion(set1, set2, set3))"
   ]
  },
  {
   "cell_type": "markdown",
   "id": "5ffb8044-0ec8-408a-b2e9-9c42e3d3c79d",
   "metadata": {},
   "source": [
    "8. Создайте функцию для проверки, являются ли два множества дизъюнктными (не имеют общих элементов).\n"
   ]
  },
  {
   "cell_type": "code",
   "execution_count": 32,
   "id": "4ecc877c-ee47-4b9d-b424-bd86e2ee2ff0",
   "metadata": {},
   "outputs": [
    {
     "name": "stdout",
     "output_type": "stream",
     "text": [
      "множества НЕ дизъюнктные\n"
     ]
    }
   ],
   "source": [
    "def set_disjunction(set1, set2):\n",
    "    if not set1&set2:\n",
    "        print('множества дизъюнктные')\n",
    "    else:\n",
    "        print('множества НЕ дизъюнктные')\n",
    "    \n",
    "set1 = {1, 4, 3}\n",
    "set2 = {4, 5, 7}\n",
    "\n",
    "set_disjunction(set1, set2)"
   ]
  },
  {
   "cell_type": "markdown",
   "id": "43a849db-49c8-4c6b-a015-fba7c097d05d",
   "metadata": {},
   "source": [
    "9. Создайте функцию для нахождения разности двух множеств.\n"
   ]
  },
  {
   "cell_type": "code",
   "execution_count": 39,
   "id": "e3ebff96-4e42-42c0-b56c-e35c1ee0fbda",
   "metadata": {},
   "outputs": [
    {
     "data": {
      "text/plain": [
       "{1, 3, 9}"
      ]
     },
     "execution_count": 39,
     "metadata": {},
     "output_type": "execute_result"
    }
   ],
   "source": [
    "def set_difference(set1, set2):\n",
    "    if len(set1)>len(set2):\n",
    "        return(set1-set2)\n",
    "    else:\n",
    "        return(set2-set1)\n",
    "    \n",
    "set2 = {1, 4, 3, 7, 9}\n",
    "set1 = {4, 5, 7}\n",
    "\n",
    "set_difference(set1, set2)"
   ]
  },
  {
   "cell_type": "markdown",
   "id": "a3344764-fe59-4820-a488-87b0c86c7b69",
   "metadata": {},
   "source": [
    "10. Создайте функцию для определения симметрической разности двух множеств.\n"
   ]
  },
  {
   "cell_type": "code",
   "execution_count": 40,
   "id": "f736350b-a8d6-4e84-8d1b-e366ebe3b72c",
   "metadata": {},
   "outputs": [
    {
     "data": {
      "text/plain": [
       "{1, 3, 5, 9}"
      ]
     },
     "execution_count": 40,
     "metadata": {},
     "output_type": "execute_result"
    }
   ],
   "source": [
    "def set_symmetric_difference(set1, set2):\n",
    "    return set1^set2\n",
    "    \n",
    "set2 = {1, 4, 3, 7, 9}\n",
    "set1 = {4, 5, 7}\n",
    "\n",
    "set_symmetric_difference(set1, set2)"
   ]
  },
  {
   "cell_type": "markdown",
   "id": "52e92a87-2a7b-4634-a258-f28848c3de46",
   "metadata": {},
   "source": [
    "11. Создайте функцию **create_set** для создания множества с заданными элементами.\n",
    "   - Функция должна принимать переменное количество аргументов и возвращать новое множество."
   ]
  },
  {
   "cell_type": "code",
   "execution_count": 42,
   "id": "d27ec175-7226-467b-a278-b2b667e60a42",
   "metadata": {},
   "outputs": [
    {
     "name": "stdout",
     "output_type": "stream",
     "text": [
      "{1, 2, 3, 6, 8}\n"
     ]
    }
   ],
   "source": [
    "def create_set(*args):\n",
    "    set0 = set()\n",
    "    for i in args:\n",
    "        set0.add(i)\n",
    "    return(set0)\n",
    "\n",
    "print(create_set(1,2,3,6,8,8))"
   ]
  },
  {
   "cell_type": "markdown",
   "id": "d2f1bbce-9bcf-4746-98f3-c844458fb444",
   "metadata": {},
   "source": [
    "## Словари"
   ]
  },
  {
   "cell_type": "markdown",
   "id": "afd4ab39-39e7-4e4e-b8c7-481676305aa5",
   "metadata": {},
   "source": [
    "1. Создайте функцию **create_dictionary** для создания словаря с заданными ключами и значениями.\n",
    "   - Функция должна принимать словарь в формате ключ-значение и возвращать созданный словарь."
   ]
  },
  {
   "cell_type": "code",
   "execution_count": 2,
   "id": "5cea8acd-c749-40b8-b983-2dfd35e116c2",
   "metadata": {},
   "outputs": [
    {
     "data": {
      "text/plain": [
       "{'dict1': 100, 'dict2': 200, 'dict3': 300}"
      ]
     },
     "execution_count": 2,
     "metadata": {},
     "output_type": "execute_result"
    }
   ],
   "source": [
    "def create_dictionary(*dict):\n",
    "    d = {}\n",
    "    for key, value in dict:\n",
    "        d[key] = value\n",
    "    return d\n",
    "\n",
    "create_dictionary(('dict1',100),('dict2',200),('dict3',300))"
   ]
  },
  {
   "cell_type": "markdown",
   "id": "d1650ef0-449b-4793-960b-2dd5307bfa6a",
   "metadata": {},
   "source": [
    "2. Напишите функции add_student и remove_student для добавления и удаления студентов из словаря.\n",
    "   - Функции должны принимать словарь студентов и соответствующие данные для добавления и удаления."
   ]
  },
  {
   "cell_type": "code",
   "execution_count": 6,
   "id": "fa56fb0a-f396-47fe-8d18-3406cb02d1be",
   "metadata": {},
   "outputs": [
    {
     "name": "stdout",
     "output_type": "stream",
     "text": [
      "{'key1': 'item1'}\n"
     ]
    }
   ],
   "source": [
    "def add_student(dict,key,item):\n",
    "    dict[key] = item\n",
    "    return dict\n",
    "a = dict()\n",
    "b = 'key1'\n",
    "c = 'item1'\n",
    "print(add_student(a,b,c))"
   ]
  },
  {
   "cell_type": "code",
   "execution_count": 10,
   "id": "2dbedfa2-c411-41c6-8f1a-155ede1c9487",
   "metadata": {},
   "outputs": [
    {
     "name": "stdout",
     "output_type": "stream",
     "text": [
      "{'Vasya': 1, 'Lera': 3}\n"
     ]
    }
   ],
   "source": [
    "def remove_student(dict,key):\n",
    "    dict.pop(key)\n",
    "    return dict\n",
    "a = {'Vasya': 1, 'Petya': 2, 'Lera': 3}\n",
    "b = 'Petya'\n",
    "\n",
    "print(remove_student(a,b))"
   ]
  },
  {
   "cell_type": "markdown",
   "id": "61696b5a-096d-4557-a0b0-0f72b0f9a869",
   "metadata": {},
   "source": [
    "3. Напишите функции **add_fruit** и **remove_fruit** для добавления и удаления фруктов, их количества и стоимости в списки fruits_quantity и fruits_prices.\n",
    "   - Функции должны принимать словари и соответствующие данные для добавления и удаления."
   ]
  },
  {
   "cell_type": "code",
   "execution_count": 13,
   "id": "7e599200-57fa-47d1-a30a-b671bb5b658f",
   "metadata": {},
   "outputs": [
    {
     "name": "stdout",
     "output_type": "stream",
     "text": [
      "({'яблоко': 5, 'банан': 10, 'апельсин': 7, 'виноград': 100}, {'яблоко': 1.5, 'банан': 2, 'апельсин': 1.2, 'виноград': 12})\n"
     ]
    }
   ],
   "source": [
    "def add_fruit(dict1,dict2,fruit,quantity,price):\n",
    "    dict1[fruit] = quantity\n",
    "    dict2[fruit] = price\n",
    "    return dict1, dict2\n",
    "fruits_quantity = {\"яблоко\": 5, \"банан\": 10, \"апельсин\": 7}\n",
    "fruits_prices = {\"яблоко\": 1.5, \"банан\": 2, \"апельсин\": 1.2}\n",
    "fruit = 'виноград'\n",
    "quantity = 100\n",
    "price = 12\n",
    "\n",
    "print(add_fruit(fruits_quantity,fruits_prices,fruit,quantity,price))"
   ]
  },
  {
   "cell_type": "markdown",
   "id": "6b57614f-432e-428e-90aa-72fe4384ed88",
   "metadata": {},
   "source": [
    "    \n",
    "4. Создайте функцию для объединения двух словарей."
   ]
  },
  {
   "cell_type": "code",
   "execution_count": 15,
   "id": "a63a6d3d-55eb-4948-943a-4c61758ec41e",
   "metadata": {},
   "outputs": [
    {
     "name": "stdout",
     "output_type": "stream",
     "text": [
      "{'a': 1, 'b': 3, 'c': 4}\n"
     ]
    }
   ],
   "source": [
    "def merge_dict(dictionary1,dictionary2):\n",
    "    merged_dictionary = {**dictionary1, **dictionary2}\n",
    "    return merged_dictionary\n",
    "\n",
    "dictionary1 = {'a': 1, 'b': 2}\n",
    "dictionary2 = {'b': 3, 'c': 4}\n",
    "print(merge_dict(dictionary1,dictionary2))\n"
   ]
  },
  {
   "cell_type": "markdown",
   "id": "d47c1db5-b79b-43c6-aab4-2c1a227a7b06",
   "metadata": {},
   "source": [
    "5. Создайте функцию для удаления элемента из словаря по заданному ключу."
   ]
  },
  {
   "cell_type": "code",
   "execution_count": 16,
   "id": "580948a9-d772-461a-88c9-20893b44481d",
   "metadata": {},
   "outputs": [
    {
     "name": "stdout",
     "output_type": "stream",
     "text": [
      "{'Vasya': 1, 'Lera': 3}\n"
     ]
    }
   ],
   "source": [
    "def remove_item(dict,key):\n",
    "    dict.pop(key)\n",
    "    return dict\n",
    "a = {'Vasya': 1, 'Petya': 2, 'Lera': 3}\n",
    "b = 'Petya'\n",
    "\n",
    "print(remove_student(a,b))"
   ]
  },
  {
   "cell_type": "markdown",
   "id": "f609f228-21af-42cb-9714-2c723f37f5eb",
   "metadata": {},
   "source": [
    "6. Создайте функцию для переворачивания значений и ключей в словаре (принимает на вход словарь, возвращает другой словарь, ключами которого являются значения входного словаря, а значениями - ключи."
   ]
  },
  {
   "cell_type": "code",
   "execution_count": 26,
   "id": "fd90196c-2438-4eeb-8beb-cad200064044",
   "metadata": {},
   "outputs": [
    {
     "name": "stdout",
     "output_type": "stream",
     "text": [
      "{1: 'Vasya', 2: 'Petya', 3: 'Lera'}\n"
     ]
    }
   ],
   "source": [
    "def takeover(dict):\n",
    "    for i in dict.keys():\n",
    "        a = dict[i]\n",
    "        b = i\n",
    "        dict[a] = dict.pop(i)\n",
    "        dict[a] = b\n",
    "    return dict\n",
    "dict = {'Vasya': 1, 'Petya': 2, 'Lera': 3}\n",
    "print(takeover(dict))"
   ]
  },
  {
   "cell_type": "markdown",
   "id": "a1eda518-9d0c-4a7f-bb33-cb02ff3d36d4",
   "metadata": {},
   "source": [
    "7. Создайте функцию для сортировки словаря по ключам в обратном порядке."
   ]
  },
  {
   "cell_type": "code",
   "execution_count": 28,
   "id": "9153fdb6-f3e0-4789-9d19-99b97c592f0d",
   "metadata": {},
   "outputs": [
    {
     "name": "stdout",
     "output_type": "stream",
     "text": [
      "[('Vasya', 1), ('Petya', 2), ('Lera', 3), ('Anya', 8)]\n"
     ]
    }
   ],
   "source": [
    "def sort_dict(dict):\n",
    "    sorted_dict = sorted(dict.items(), reverse=True)\n",
    "    return sorted_dict\n",
    "dict = {'Anya': 8, 'Vasya': 1, 'Petya': 2, 'Lera': 3}\n",
    "print(sort_dict(dict))\n",
    "\n",
    "#sorted_people = sorted(people.items(), key=lambda item: item[1], reverse=True)\n"
   ]
  },
  {
   "cell_type": "markdown",
   "id": "1f94e9ec-e6c8-4814-90bf-ddc3229aaa8b",
   "metadata": {},
   "source": [
    "8.  Создайте функцию возвращающую наибольшее значение элемента словаря."
   ]
  },
  {
   "cell_type": "code",
   "execution_count": 32,
   "id": "3684d4e9-498e-413b-96a4-c93dd6218c6a",
   "metadata": {},
   "outputs": [
    {
     "name": "stdout",
     "output_type": "stream",
     "text": [
      "8\n"
     ]
    }
   ],
   "source": [
    "def max_item_dict(dict):\n",
    "    max = 0\n",
    "    for i in dict.keys():\n",
    "        next_item = dict[i]\n",
    "        if next_item > max:\n",
    "            max = next_item\n",
    "    return max\n",
    "\n",
    "dict = {'Anya': 8, 'Vasya': 1, 'Petya': 2, 'Lera': 3}\n",
    "print(max_item_dict(dict))"
   ]
  },
  {
   "cell_type": "markdown",
   "id": "ffc2af8c-1c88-42a6-9973-67176b30b8a9",
   "metadata": {},
   "source": [
    "9. Создайте функцию для поиска наибольшего значения в словаре."
   ]
  },
  {
   "cell_type": "code",
   "execution_count": 1,
   "id": "08f03bb7-63de-439c-a043-9b056992cae2",
   "metadata": {},
   "outputs": [
    {
     "name": "stdout",
     "output_type": "stream",
     "text": [
      "8\n"
     ]
    }
   ],
   "source": [
    "def max_item_dict(dict):\n",
    "    max = 0\n",
    "    for i in dict.keys():\n",
    "        next_item = dict[i]\n",
    "        if next_item > max:\n",
    "            max = next_item\n",
    "    return max\n",
    "\n",
    "dict = {'Anya': 8, 'Vasya': 1, 'Petya': 2, 'Lera': 3}\n",
    "print(max_item_dict(dict))"
   ]
  },
  {
   "cell_type": "markdown",
   "id": "0b854077-79e9-4213-8bf9-91796b237695",
   "metadata": {},
   "source": [
    "## Условия и циклы"
   ]
  },
  {
   "cell_type": "markdown",
   "id": "119cf9f7-e390-4f4a-9d9d-2d345a7e4030",
   "metadata": {},
   "source": [
    "1. Создайте функцию **check_fruit_price** для проверки стоимости фрукта и вывода соответствующего сообщения.\n",
    "   - Функция должна принимать словарь цен на фрукты и название фрукта, а затем выводить сообщение \"дорогой товар\", если цена фрукта больше 1.5."
   ]
  },
  {
   "cell_type": "code",
   "execution_count": 3,
   "id": "c1c09497-f536-4dbd-8331-5298da095ab3",
   "metadata": {},
   "outputs": [],
   "source": [
    "def check_fruit_price(fruits_prices,fruit):\n",
    "    if fruits_prices[fruit] > 1.5:\n",
    "        print('дорогой товар')\n",
    "\n",
    "fruits_prices = {\"яблоко\": 1.5, \"банан\": 2, \"апельсин\": 1.2}\n",
    "fruit = 'яблоко'\n",
    "check_fruit_price(fruits_prices,fruit)"
   ]
  },
  {
   "cell_type": "markdown",
   "id": "25a662b1-4bb9-4fbe-9dba-7f1794af8208",
   "metadata": {},
   "source": [
    "2. Создайте функцию check_age для проверки возраста студента и вывода соответствующего сообщения.\n",
    "   - Функция должна принимать словарь студентов и имя студента, а затем выводить сообщение о совершеннолетии или несовершеннолетии."
   ]
  },
  {
   "cell_type": "code",
   "execution_count": 5,
   "id": "0b33880a-73da-4af8-954f-67dc1f84e655",
   "metadata": {},
   "outputs": [
    {
     "name": "stdout",
     "output_type": "stream",
     "text": [
      "Совершеннолетний\n"
     ]
    }
   ],
   "source": [
    "def check_age(students,student):\n",
    "    if students[student] > 18:\n",
    "        print('Совершеннолетний')\n",
    "    else:\n",
    "        print('НЕсовершеннолетний')\n",
    "\n",
    "students = {\"Иванов\": 22, \"Петрова\": 13, \"Сидоров\": 23}\n",
    "student = 'Иванов'\n",
    "check_age(students,student)"
   ]
  },
  {
   "cell_type": "markdown",
   "id": "eaa6f99e-8786-4b77-8a3d-e9d1e2aaca24",
   "metadata": {},
   "source": [
    "3. Создайте функцию **compare_sets_length**, которая сравнивает длину двух множеств и выводит информацию о  том, какое из множеств длиннее.\n",
    "   - Функция должна принимать два множества и выводить соответствующее сообщение."
   ]
  },
  {
   "cell_type": "code",
   "execution_count": 6,
   "id": "411e1b8a-82e0-4b02-9067-cf64a2682479",
   "metadata": {},
   "outputs": [
    {
     "name": "stdout",
     "output_type": "stream",
     "text": [
      "2 множество больше 1\n"
     ]
    }
   ],
   "source": [
    "def compare_sets_length(set1, set2):\n",
    "    if len(set1)>len(set2):\n",
    "        print('1 множество больше 2')\n",
    "    else:\n",
    "        print('2 множество больше 1')\n",
    "    \n",
    "set2 = {1, 4, 3, 7, 9}\n",
    "set1 = {4, 5, 7}\n",
    "\n",
    "compare_sets_length(set1, set2)"
   ]
  },
  {
   "cell_type": "markdown",
   "id": "672eadf2-c873-4a63-81e9-350d6f551658",
   "metadata": {},
   "source": [
    "4. Создайте функцию для определения четности или нечетности числа."
   ]
  },
  {
   "cell_type": "code",
   "execution_count": 7,
   "id": "d256fe8f-4321-4695-ba84-a502e78c5fba",
   "metadata": {},
   "outputs": [
    {
     "name": "stdout",
     "output_type": "stream",
     "text": [
      "Число нечетное\n",
      "Число четное\n"
     ]
    }
   ],
   "source": [
    "def numner_parity(number):\n",
    "    if number % 2 == 0:\n",
    "        print('Число четное')\n",
    "    else:\n",
    "        print('Число нечетное')\n",
    "number1 = 13\n",
    "number2 = 200\n",
    "\n",
    "numner_parity(number1)\n",
    "numner_parity(number2)"
   ]
  },
  {
   "cell_type": "markdown",
   "id": "425e16c4-bc07-4cd4-ab4d-0260a766c86b",
   "metadata": {},
   "source": [
    "5. Создайте функцию для определения високосного года. Функция должна принимать на вход год в виде числа и возвращать строку \"високосный\" или \"обычный\""
   ]
  },
  {
   "cell_type": "code",
   "execution_count": 11,
   "id": "6ad0b0ac-4862-499d-8545-d0076197889a",
   "metadata": {},
   "outputs": [
    {
     "name": "stdout",
     "output_type": "stream",
     "text": [
      "НЕ високосный\n"
     ]
    }
   ],
   "source": [
    "def leap_year(year):\n",
    "    if year % 4 > 0:\n",
    "        print ('Не високосный')\n",
    "    elif year%4 ==0 and year % 100 > 0:\n",
    "        print ('Високосный')\n",
    "    elif year%100 ==0 and year % 400 > 0:\n",
    "        print ('НЕ високосный')\n",
    "    elif year%100 ==0 and year % 400 == 0:\n",
    "        print ('Високосный')"
   ]
  },
  {
   "cell_type": "code",
   "execution_count": null,
   "id": "1567cfb5-babc-4156-8744-242854db19c9",
   "metadata": {},
   "outputs": [],
   "source": [
    "year = 1700\n",
    "leap_year(year)"
   ]
  },
  {
   "cell_type": "markdown",
   "id": "7bb8b1c9-fc2d-4195-bfa6-1c6eee2e4400",
   "metadata": {},
   "source": [
    "6. Создайте функцию для определения типа треугольника по длинам сторон (принимает длины сторон, возвращает \"остроугольный, прямоугольный, тупоугольный или не треугольник\")."
   ]
  },
  {
   "cell_type": "code",
   "execution_count": 12,
   "id": "379ac74a-f8cf-4e8b-a7e0-7edec94eb982",
   "metadata": {},
   "outputs": [
    {
     "name": "stdout",
     "output_type": "stream",
     "text": [
      "Тупоугольный\n"
     ]
    }
   ],
   "source": [
    "def triangle_type(a,b,c):\n",
    "    sorted_sides = [a, b, c]\n",
    "    sorted_sides.sort()\n",
    "    a, b, c =  sorted_sides[0], sorted_sides[1], sorted_sides[2]\n",
    "    if (a**2 + b**2) < c**2:\n",
    "        print('Тупоугольный')\n",
    "    elif (a**2 + b**2) == c**2:\n",
    "        print('Прямoугольный')\n",
    "    elif (a**2 + b**2) > c**2:\n",
    "        print('Остроугольный')\n",
    "    else:\n",
    "        print('Это не треугольник')\n",
    "    \n",
    "    # if a==b or b==c or a==c:\n",
    "    #     print ('Равнобедренный')\n",
    "    # elif a==b==с:\n",
    "    #     print ('Равносторонний')\n",
    "    # elif not a==b and not b==c and not a==c:\n",
    "    #     print ('Разносторонний')\n",
    "    # elif a+b==c or b+c==a or a+c==b:\n",
    "    #     print ('Это не треугольник')"
   ]
  },
  {
   "cell_type": "code",
   "execution_count": null,
   "id": "0d907dd1-8965-4c2b-a318-be2aaa3acffb",
   "metadata": {},
   "outputs": [],
   "source": [
    "a = 10\n",
    "b = 20\n",
    "c = 12\n",
    "triangle_type(a,b,c)"
   ]
  },
  {
   "cell_type": "markdown",
   "id": "6ab1b749-bac8-45e0-872e-a290fa76ac1b",
   "metadata": {},
   "source": [
    "7. Создайте функцию для проверки, является ли строка палиндромом."
   ]
  },
  {
   "cell_type": "code",
   "execution_count": 18,
   "id": "ab27f9b7-e0fb-447e-a8b3-caaf180f96ea",
   "metadata": {},
   "outputs": [
    {
     "name": "stdout",
     "output_type": "stream",
     "text": [
      "арозаупаланалапуазора\n",
      "['а', 'р', 'о', 'з', 'а', 'у', 'п', 'а', 'л', 'а', 'н', 'а', 'л', 'а', 'п', 'у', 'а', 'з', 'о', 'р', 'а']\n",
      "['а', 'р', 'о', 'з', 'а', 'у', 'п', 'а', 'л', 'а', 'н', 'а', 'л', 'а', 'п', 'у', 'а', 'з', 'о', 'р', 'а']\n",
      "Палиндром\n"
     ]
    }
   ],
   "source": [
    "def string_palindrome(s):\n",
    "    s.lower()\n",
    "    s = s.replace(' ', '')\n",
    "    print(s)\n",
    "    l = list(s)\n",
    "    print(l)\n",
    "    r = l[::-1]\n",
    "    print(r)\n",
    "    if l == r:\n",
    "        print('Палиндром')\n",
    "    else:\n",
    "        print('Не палиндром')"
   ]
  },
  {
   "cell_type": "code",
   "execution_count": null,
   "id": "67004a20-70dd-4bc3-9b23-006ecf8ed9af",
   "metadata": {},
   "outputs": [],
   "source": [
    "s = 'а роза упала на лапу азора'\n",
    "string_palindrome(s)"
   ]
  },
  {
   "cell_type": "markdown",
   "id": "046f869c-8e44-4f65-bc01-6d7efa7abf9b",
   "metadata": {},
   "source": [
    "8. Создайте функцию для определения времени суток по введенному времени ( принимает текущее время в формате часы, минуты, возвращает утро, день, вечер, ночь)."
   ]
  },
  {
   "cell_type": "code",
   "execution_count": 23,
   "id": "08399224-c343-40fb-bebd-da4241f80678",
   "metadata": {},
   "outputs": [
    {
     "name": "stdout",
     "output_type": "stream",
     "text": [
      "Данные цифры не являются временем\n"
     ]
    }
   ],
   "source": [
    "def times_of_day(h,m):\n",
    "    if h>=0 and h<=5 and m>=0 and m<=59:\n",
    "        print('Night')\n",
    "    elif h>=6 and h<=11 and m>=0 and m<=59:\n",
    "        print('Morning')\n",
    "    elif h>=12 and h<=17 and m>=0 and m<=59:\n",
    "        print('Day')\n",
    "    elif h>=18 and h<=23 and m>=0 and m<=59:\n",
    "        print('Evening')\n",
    "    else:\n",
    "        print('Данные цифры не являются временем')"
   ]
  },
  {
   "cell_type": "code",
   "execution_count": null,
   "id": "f9954e8b-f23a-4e4e-93c5-4122d99316f8",
   "metadata": {},
   "outputs": [],
   "source": [
    "h = 25\n",
    "m = 11\n",
    "times_of_day(h,m)"
   ]
  },
  {
   "cell_type": "markdown",
   "id": "3fc2ca39-2831-49b0-8f07-0ff468f31719",
   "metadata": {},
   "source": [
    "9. Создайте функцию, которая определяет, является ли введенное число простым."
   ]
  },
  {
   "cell_type": "code",
   "execution_count": 1,
   "id": "83c20a20-9201-4d47-b9f6-8b6055e3cd41",
   "metadata": {},
   "outputs": [],
   "source": [
    "def prime_number(num):\n",
    "    s = 0\n",
    "    for i in range (2,num):\n",
    "        if num%i == 0:\n",
    "            s = s+1\n",
    "            a = 'не является простым числом'\n",
    "            return a \n",
    "            break\n",
    "    if s == 0:\n",
    "        print('является простым числом')"
   ]
  },
  {
   "cell_type": "code",
   "execution_count": 2,
   "id": "73e2681f-f002-45d4-a0b5-b420b2ab312e",
   "metadata": {},
   "outputs": [
    {
     "name": "stdout",
     "output_type": "stream",
     "text": [
      "является простым числом\n",
      "None\n"
     ]
    }
   ],
   "source": [
    "print(prime_number(7))"
   ]
  },
  {
   "cell_type": "markdown",
   "id": "a38ec9f4-ee92-40fa-8774-85d05d45d093",
   "metadata": {},
   "source": [
    "10. Создайте функцию для проверки входящей строки на наличие только буквенных символов."
   ]
  },
  {
   "cell_type": "code",
   "execution_count": 55,
   "id": "e0e1a614-f1c7-43f3-aaa8-19616b84415a",
   "metadata": {},
   "outputs": [],
   "source": [
    "def only_letters(line):\n",
    "    \n",
    "    if line.isalpha():\n",
    "        return True\n",
    "    else:\n",
    "        return False"
   ]
  },
  {
   "cell_type": "code",
   "execution_count": null,
   "id": "4f526adc-de52-493e-91ee-6f85a7e77c8e",
   "metadata": {},
   "outputs": [],
   "source": [
    "line1 = '1q2w3e4r'\n",
    "line2 = 'poiuytr'\n",
    "print('Строка line1 -', is_letter(line1),'\\nСтрока line2 -', is_letter(line2))"
   ]
  },
  {
   "cell_type": "markdown",
   "id": "c0d15d83-cd03-492a-92f7-56cbc4c1c4c0",
   "metadata": {},
   "source": [
    "11. Создайте функцию, которая определяет, является ли введенная дата корректной (дата вводится в виде трех чисел, день, месяц, год. Корректной датой считается существующая комбинация этих трех чисел)."
   ]
  },
  {
   "cell_type": "code",
   "execution_count": 56,
   "id": "52f40113-d902-4e56-8455-96cc9c545351",
   "metadata": {},
   "outputs": [],
   "source": [
    "def check_correct_date(is_date):\n",
    "    '''\n",
    "    Ввод даты в формате дд.мм.ггг\n",
    "    True - дата корректная, False - некорректная.\n",
    "    '''\n",
    "    day, month, year = map(int, is_date.split('.'))\n",
    "    if (1 <= month <= 12) and (1 <= day <= 31):\n",
    "        \n",
    "        if (month in [1, 3, 5, 7, 8, 10, 12]) and (day <= 31):\n",
    "            return True\n",
    "            \n",
    "        elif (month in [4, 6, 9, 11]) and (day <= 30):\n",
    "            return True\n",
    "            \n",
    "        elif (month == 2):\n",
    "            if (day <= 29 and (year % 4 == 0 and (year % 100 != 0 or year % 400 == 0))) or (day <= 28):\n",
    "                return True\n",
    "            else:\n",
    "                return False\n",
    "        else:\n",
    "            return False\n",
    "    else:\n",
    "        return False"
   ]
  },
  {
   "cell_type": "code",
   "execution_count": null,
   "id": "22617e78-af30-482e-b4ce-e367ea34618d",
   "metadata": {},
   "outputs": [],
   "source": [
    "check_correct_date(28.04.1990)"
   ]
  },
  {
   "cell_type": "markdown",
   "id": "04b5c0ad-f0f3-4e07-b5cf-f728a5940234",
   "metadata": {},
   "source": [
    "12. Создайте функцию, которая определяет, является ли введенное число палиндромом."
   ]
  },
  {
   "cell_type": "code",
   "execution_count": 10,
   "id": "38d2c51c-eb90-4223-b3f5-d9ad4244ac06",
   "metadata": {},
   "outputs": [],
   "source": [
    "def pallindrom(number):\n",
    "    number = str(number)\n",
    "    number2 = number[::-1]\n",
    "    if number2 == number:\n",
    "        print('Число ',number,'является палиндромом')\n",
    "    else:\n",
    "        print('Число ',number,' НЕ является палиндромом')"
   ]
  },
  {
   "cell_type": "code",
   "execution_count": 9,
   "id": "ab4499eb-beb7-45eb-b697-c7b204cd2429",
   "metadata": {},
   "outputs": [
    {
     "name": "stdout",
     "output_type": "stream",
     "text": [
      "Число  333 является паллиндромом\n"
     ]
    }
   ],
   "source": [
    "pallindrom(333)"
   ]
  },
  {
   "cell_type": "markdown",
   "id": "060504e0-9ca3-4823-a96f-b88ae9d4ea5b",
   "metadata": {},
   "source": [
    "13. Создайте функцию для определения дня недели по введенному номеру дня (1 - Понедельник, 2 - Вторник и т.д.)."
   ]
  },
  {
   "cell_type": "code",
   "execution_count": 12,
   "id": "5b3b7a17-bdb4-49cd-a1a9-a8b85fc022c1",
   "metadata": {},
   "outputs": [],
   "source": [
    "def day_of_week(n):\n",
    "    days = {1 : 'Понедельник',\n",
    "           2 : 'Вторник',\n",
    "           3 : 'Среда',\n",
    "           4 : 'Четверг',\n",
    "           5 : 'Пятница',\n",
    "           6 : 'Суббота',\n",
    "           7 : 'Воскресенье'}\n",
    "    return days[n]"
   ]
  },
  {
   "cell_type": "code",
   "execution_count": 13,
   "id": "0d4a458c-b91a-450f-b541-fe9d24e1ff66",
   "metadata": {},
   "outputs": [
    {
     "data": {
      "text/plain": [
       "'Воскресенье'"
      ]
     },
     "execution_count": 13,
     "metadata": {},
     "output_type": "execute_result"
    }
   ],
   "source": [
    "day_of_week(7)"
   ]
  },
  {
   "cell_type": "markdown",
   "id": "be16171b-5031-4c46-9a1e-4be1cad838eb",
   "metadata": {},
   "source": [
    "14. Создайте функцию **print_fruits_info** для вывода информации о количестве и стоимости фруктов из словарей.\n",
    "   - Функция должна принимать словари с информацией \"фрукт:количество\" и \"фрукт:цена\" и выводить для каждого фрукта его стоимость и количество."
   ]
  },
  {
   "cell_type": "code",
   "execution_count": 20,
   "id": "1e51771b-6aa9-4338-bf01-7aa7a55dd2ce",
   "metadata": {},
   "outputs": [],
   "source": [
    "def print_fruits_info(fruit_quantity, fruit_price):\n",
    "    print('Фрукт  цена  количество')\n",
    "    for i in fruit_quantity.keys():\n",
    "        print(i,fruit_price[i],fruit_quantity[i])\n",
    "    return"
   ]
  },
  {
   "cell_type": "code",
   "execution_count": 21,
   "id": "eebfe6ca-658b-4379-b747-5709584c9cc0",
   "metadata": {},
   "outputs": [
    {
     "name": "stdout",
     "output_type": "stream",
     "text": [
      "Фрукт  цена  количество\n",
      "Фейхоа 3 100\n",
      "Яблоко 4 200\n",
      "Папайя 5 300\n"
     ]
    }
   ],
   "source": [
    "fruit_quantity = {\n",
    "    'Фейхоа' : 100,\n",
    "    'Яблоко' : 200,\n",
    "    'Папайя' : 300,\n",
    "}\n",
    "fruit_price = {\n",
    "    'Фейхоа' : 3,\n",
    "    'Яблоко' : 4,\n",
    "    'Папайя' : 5,\n",
    "}\n",
    "print_fruits_info(fruit_quantity, fruit_price)"
   ]
  },
  {
   "cell_type": "markdown",
   "id": "37f7285a-6f68-4d64-94f0-612334340d78",
   "metadata": {},
   "source": [
    "15. Создайте функцию **print_squares_while**, которая использует цикл while для вывода квадратов чисел от 1 до 5."
   ]
  },
  {
   "cell_type": "code",
   "execution_count": 22,
   "id": "2d9277ac-d855-4a12-961c-fd640b90f09b",
   "metadata": {},
   "outputs": [],
   "source": [
    "def print_squares_while():\n",
    "    number = 1\n",
    "    while number <= 5:\n",
    "        print(f'{number}² = {number**2}')\n",
    "        number += 1 "
   ]
  },
  {
   "cell_type": "code",
   "execution_count": 23,
   "id": "cb812f3b-b08d-49b5-93d0-0a86839d398c",
   "metadata": {},
   "outputs": [
    {
     "name": "stdout",
     "output_type": "stream",
     "text": [
      "1² = 1\n",
      "2² = 4\n",
      "3² = 9\n",
      "4² = 16\n",
      "5² = 25\n"
     ]
    }
   ],
   "source": [
    "print_squares_while()"
   ]
  },
  {
   "cell_type": "code",
   "execution_count": 25,
   "id": "8bc44e88-30d8-4fb7-bdf9-b9a90faa0242",
   "metadata": {},
   "outputs": [
    {
     "name": "stdout",
     "output_type": "stream",
     "text": [
      "Число а равно 7, квадрат от а равно 49\n"
     ]
    }
   ],
   "source": [
    "'''\n",
    "a = 7\n",
    "print(f'Число а равно {a}, квадрат от а равно {a**2}')"
   ]
  },
  {
   "cell_type": "markdown",
   "id": "b7fe6aa8-6703-4476-b358-0159bf94d2b0",
   "metadata": {},
   "source": [
    "16. Создайте функцию для вывода факториала заданного числа."
   ]
  },
  {
   "cell_type": "code",
   "execution_count": 61,
   "id": "ceb0cb29-a790-44d0-9a4f-c3ea8f436322",
   "metadata": {},
   "outputs": [],
   "source": [
    "def factorial(n):\n",
    "    if n == 0:\n",
    "        return 1\n",
    "    else: \n",
    "        return n * factorial(n-1)"
   ]
  },
  {
   "cell_type": "markdown",
   "id": "fc0a7ad4-3835-47e3-944e-150fbe136c05",
   "metadata": {},
   "source": [
    "17. Создайте функцию для поиска суммы чисел в заданном диапазоне (принимает на вход два числа, возвращает сумму чисел находящихся между ними, включительно.)"
   ]
  },
  {
   "cell_type": "code",
   "execution_count": 62,
   "id": "ecbf6b2f-9eeb-48de-a533-6f73c8c908a2",
   "metadata": {},
   "outputs": [],
   "source": [
    "def range_sum(num1, num2):\n",
    "    n = num2 - num1 + 1\n",
    "    return (2*num1 + (n-1))*n/2"
   ]
  },
  {
   "cell_type": "markdown",
   "id": "801e74f3-b32c-4022-9ac5-b948ad32c486",
   "metadata": {},
   "source": [
    "18. Создайте функцию для генерации и вывода всех простых чисел до заданного числа."
   ]
  },
  {
   "cell_type": "code",
   "execution_count": 27,
   "id": "dd34370b-02e3-4116-bc8e-d47caafd36ef",
   "metadata": {},
   "outputs": [],
   "source": [
    "def prime_numbers(num):\n",
    "    prime_numbers = []\n",
    "    for n in range(2, num):\n",
    "        for d in range(2, n):\n",
    "            if n % d == 0:\n",
    "                break\n",
    "        else:\n",
    "            prime_numbers.append(n)\n",
    "    print(f'Простые числа до {num}: {prime_numbers}')\n",
    "    return"
   ]
  },
  {
   "cell_type": "code",
   "execution_count": 28,
   "id": "e14add32-2005-45b7-86c7-e2c11abd2045",
   "metadata": {},
   "outputs": [
    {
     "name": "stdout",
     "output_type": "stream",
     "text": [
      "Простые числа до 100: [2, 3, 5, 7, 11, 13, 17, 19, 23, 29, 31, 37, 41, 43, 47, 53, 59, 61, 67, 71, 73, 79, 83, 89, 97]\n"
     ]
    }
   ],
   "source": [
    "prime_numbers(100)"
   ]
  },
  {
   "cell_type": "markdown",
   "id": "31804032-0d13-44a9-b3ce-b34c4165324c",
   "metadata": {},
   "source": [
    "19. Создайте функцию для проверки строки на палиндромность без учёта регистра и знаков препинания."
   ]
  },
  {
   "cell_type": "code",
   "execution_count": 64,
   "id": "1267b89e-9d9c-449a-914e-f7317db8a970",
   "metadata": {},
   "outputs": [],
   "source": [
    "def string_palindrome(s):\n",
    "    s.lower()\n",
    "    for i in (' ', ',', '.', ':', ';', '!', '?', '(', ')'):\n",
    "        if i in s:\n",
    "           s = s.replace(i, '')\n",
    "    print(s)\n",
    "    l = list(s)\n",
    "    print(l)\n",
    "    r = l[::-1]\n",
    "    print(r)\n",
    "    if l == r:\n",
    "        print('Палиндром')\n",
    "    else:\n",
    "        print('Не палиндром')"
   ]
  },
  {
   "cell_type": "markdown",
   "id": "ebae7aa3-94f2-49f1-91a8-d43eee321208",
   "metadata": {},
   "source": [
    "20. Создайте функцию для поиска наибольшего общего делителя (НОД) двух чисел."
   ]
  },
  {
   "cell_type": "code",
   "execution_count": 1,
   "id": "18bce3a6-e4b0-426b-8855-10b78f7a88b9",
   "metadata": {},
   "outputs": [
    {
     "name": "stdin",
     "output_type": "stream",
     "text": [
      " Введите первое число:  45\n",
      " Введите второе число:  14\n"
     ]
    },
    {
     "name": "stdout",
     "output_type": "stream",
     "text": [
      "НОД: \n",
      "1\n"
     ]
    }
   ],
   "source": [
    "def GCD_Loop( a, b): \n",
    "    if a > b:  \n",
    "        temp = b \n",
    "    else: \n",
    "        temp = a \n",
    "    for i in range(1, temp + 1): \n",
    "        if(( a % i == 0) and(b % i == 0 )): \n",
    "            gcd = i \n",
    "    return gcd \n",
    "x = int(input(\" Введите первое число: \") ) \n",
    "y = int(input(\" Введите второе число: \"))  \n",
    "num = GCD_Loop(x, y)  \n",
    "print(\"НОД: \") \n",
    "print(num) "
   ]
  },
  {
   "cell_type": "markdown",
   "id": "3b0b5eaf-c67a-424c-911d-c44922b0aee2",
   "metadata": {},
   "source": [
    "21. Создайте функцию print_students для вывода информации о студентах из словаря.\n",
    "   - Функция должна принимать словарь студентов и выводить их имена и возраст."
   ]
  },
  {
   "cell_type": "code",
   "execution_count": 19,
   "id": "eec802e5-d594-4f5d-8b24-9b11cd73b07f",
   "metadata": {},
   "outputs": [],
   "source": [
    "def print_students(nameage):\n",
    "    for key, value in nameage.items():\n",
    "        print('Имя:возраст', key, ':', value)"
   ]
  },
  {
   "cell_type": "code",
   "execution_count": 20,
   "id": "96b077d7-4bd1-4c02-8584-f297a81f782e",
   "metadata": {},
   "outputs": [
    {
     "name": "stdout",
     "output_type": "stream",
     "text": [
      "Имя:возраст Иванов : 22\n",
      "Имя:возраст Петрова : 13\n",
      "Имя:возраст Сидоров : 23\n"
     ]
    }
   ],
   "source": [
    "nameage = {\"Иванов\": 22, \"Петрова\": 13, \"Сидоров\": 23}\n",
    "print_students(nameage)"
   ]
  },
  {
   "cell_type": "markdown",
   "id": "6c0cda34-d327-497b-8462-dc38a5b21bd8",
   "metadata": {},
   "source": [
    "22. Создайте функцию get_value_from_user, принимающую на вход одно число (\"порог\"), и запрашивающую у пользователя ввод числа до тех пор, пока он не введет число выше \"порога\"."
   ]
  },
  {
   "cell_type": "code",
   "execution_count": 23,
   "id": "41a7c3cb-8717-44d2-8c32-78f14ad7b08d",
   "metadata": {},
   "outputs": [],
   "source": [
    "def get_value_from_user():\n",
    "    print('Введите число-порог')\n",
    "    porog = int(input())\n",
    "    print('Введите число для сравнения')\n",
    "    i = int(input())\n",
    "    if i > porog or i == porog:\n",
    "        print('Число больше или равно порогу')\n",
    "    else:\n",
    "        while i <= porog:\n",
    "            print('Введите число для сравнения')\n",
    "            i = int(input())\n",
    "            if i > porog or i == porog:\n",
    "                print('Число больше или равно порогу')\n",
    "        "
   ]
  },
  {
   "cell_type": "code",
   "execution_count": 26,
   "id": "dfa0df10-8c95-495f-8136-517d0f13ef5a",
   "metadata": {},
   "outputs": [
    {
     "name": "stdout",
     "output_type": "stream",
     "text": [
      "Введите число-порог\n"
     ]
    },
    {
     "name": "stdin",
     "output_type": "stream",
     "text": [
      " -38\n"
     ]
    },
    {
     "name": "stdout",
     "output_type": "stream",
     "text": [
      "Введите число для сравнения\n"
     ]
    },
    {
     "name": "stdin",
     "output_type": "stream",
     "text": [
      " 34\n"
     ]
    },
    {
     "name": "stdout",
     "output_type": "stream",
     "text": [
      "Число больше или равно порогу\n"
     ]
    }
   ],
   "source": [
    "get_value_from_user()"
   ]
  },
  {
   "cell_type": "markdown",
   "id": "4c2596f8-e06f-49fa-972e-19d61f17e95c",
   "metadata": {},
   "source": [
    "## Общие "
   ]
  },
  {
   "cell_type": "markdown",
   "id": "29905a77-19ef-470a-9785-edcc052b5a03",
   "metadata": {},
   "source": [
    "1. Создайте функцию, которая будет запрашивать у пользователя его возраст.\n",
    "   - Если возраст меньше 18 лет, программа должна выводить сообщение о том, что пользователь несовершеннолетний.\n",
    "   - Если возраст от 18 до 65 лет, программа должна выводить сообщение о том, что пользователь взрослый.\n",
    "   - Если возраст больше 65 лет, программа должна выводить сообщение о том, что пользователь пенсионер."
   ]
  },
  {
   "cell_type": "code",
   "execution_count": 28,
   "id": "97357f0a-6a24-495b-8db6-c7a6b99b6c12",
   "metadata": {},
   "outputs": [],
   "source": [
    "def age():\n",
    "    print('Введите ваш возраст')\n",
    "    age = int(input())\n",
    "    if age <= 0 or age > 100:\n",
    "        print('Так не бывает')\n",
    "    elif age < 18:\n",
    "        print('Вы несовершеннолетний')\n",
    "    elif age >= 18 and age <=65 :\n",
    "        print('Вы взрослый')\n",
    "    else:\n",
    "        print('Вы пенсионер')\n",
    "            "
   ]
  },
  {
   "cell_type": "code",
   "execution_count": 32,
   "id": "1ae5ef5d-f02e-477b-81e1-899bf6ef02af",
   "metadata": {},
   "outputs": [
    {
     "name": "stdout",
     "output_type": "stream",
     "text": [
      "Введите ваш возраст\n"
     ]
    },
    {
     "name": "stdin",
     "output_type": "stream",
     "text": [
      " 89\n"
     ]
    },
    {
     "name": "stdout",
     "output_type": "stream",
     "text": [
      "Вы пенсионер\n"
     ]
    }
   ],
   "source": [
    "age()"
   ]
  },
  {
   "cell_type": "markdown",
   "id": "e49629de-0a92-4c65-af5e-2fbdb18128f7",
   "metadata": {},
   "source": [
    "2. Создайте функцию, которая будет проверять введенную пользователем строку на наличие повторяющихся символов.\n",
    "   - Если такие символы найдены, программа должна выводить их перечень и количество повторов для каждого."
   ]
  },
  {
   "cell_type": "code",
   "execution_count": 67,
   "id": "78f7a3d5-8a2f-445b-94fb-d4e416d4d0f5",
   "metadata": {},
   "outputs": [],
   "source": [
    "def double_symbols(stroka):\n",
    "    result = []\n",
    "    s = list(stroka.lower())\n",
    "    s.sort()\n",
    "    for i in range(len(s)-1):\n",
    "        if s[i] == s[i+1] and s[i] not in result:\n",
    "            result.append(s[i])\n",
    "    \n",
    "    return result"
   ]
  },
  {
   "cell_type": "code",
   "execution_count": null,
   "id": "1956629b-9852-4f7e-ac29-60cea65bcf2b",
   "metadata": {},
   "outputs": [],
   "source": []
  }
 ],
 "metadata": {
  "kernelspec": {
   "display_name": "Python 3 (ipykernel)",
   "language": "python",
   "name": "python3"
  },
  "language_info": {
   "codemirror_mode": {
    "name": "ipython",
    "version": 3
   },
   "file_extension": ".py",
   "mimetype": "text/x-python",
   "name": "python",
   "nbconvert_exporter": "python",
   "pygments_lexer": "ipython3",
   "version": "3.10.10"
  }
 },
 "nbformat": 4,
 "nbformat_minor": 5
}
