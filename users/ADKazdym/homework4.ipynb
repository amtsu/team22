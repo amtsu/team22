{
 "cells": [
  {
   "cell_type": "markdown",
   "id": "2393dfcb",
   "metadata": {},
   "source": [
    "Упражнения\n",
    "\n",
    "\n",
    "\n",
    "\n",
    "\n",
    "#\n",
    "\n",
    "#\n",
    "Написать функцию square_parameters, принимающую 1 аргумент — сторону квадрата, и возвращающую 3 значения: периметр квадрата, площадь квадрата и диагональ квадрата.\n",
    "займет 20 минут\n",
    "#\n",
    "Написать функцию is_prime, принимающую 1 аргумент — число, и определяющее, простое оно или составное.\n",
    "\n",
    "Простые числа делятся без остатка только на 1 и на самого себя. Если число делится без остатка на какое-то другое число, то оно составное.\n",
    "займет 20 минут\n",
    "#\n",
    "Написать функцию is_palindrome, принимающую 1 аргумент — строку (без пробелов, строчные буквы), и определяющее, является ли она палиндромом, т.е. читается одинаково слева направо и справа налево. Если да, вернуть True, иначе False.\n",
    "займет 20 минут\n",
    "#\n",
    "Как решить предыдущую задачу с помощью срезов?\n",
    "займет 15 минут\n",
    "#\n",
    "Как решить предыдущую задачу если сразу вернуть результат?\n",
    "займет 15 минут\n",
    "#\n",
    "Усовершенствовать предыдущую функцию, чтобы проверяемая строка могла содержать пробелы, а также прописные и строчные буквы.\n",
    "\n",
    "Кидал в зубра арбуз Вадик\n",
    "\n",
    "займет 20 минут"
   ]
  },
  {
   "cell_type": "markdown",
   "id": "909f2f5f",
   "metadata": {},
   "source": [
    "Написать функцию, которая превращает любую переданную ей строку в такую же строку, записанную два раза.\n",
    "\n",
    "займет 10 минут\n"
   ]
  },
  {
   "cell_type": "code",
   "execution_count": 1,
   "id": "6b64b348",
   "metadata": {},
   "outputs": [
    {
     "name": "stdout",
     "output_type": "stream",
     "text": [
      "asdfasdf\n"
     ]
    }
   ],
   "source": [
    "def double_string(string):\n",
    "    return string * 2\n",
    "\n",
    "print(double_string(\"asdf\"))"
   ]
  },
  {
   "cell_type": "markdown",
   "id": "bab3268f",
   "metadata": {},
   "source": [
    "Сделать в предыдущей задаче так, чтобы два повторения строки разделялись пробелами.\n",
    "\n",
    "займет 10 минут\n"
   ]
  },
  {
   "cell_type": "code",
   "execution_count": 2,
   "id": "4304ea78",
   "metadata": {},
   "outputs": [
    {
     "name": "stdout",
     "output_type": "stream",
     "text": [
      "asdf asdf\n"
     ]
    }
   ],
   "source": [
    "def double_string(string):\n",
    "    return string + \" \" + string\n",
    "\n",
    "#print(double_string(\"asdf\"), end=\", \")\n",
    "print(double_string(\"asdf\"))"
   ]
  },
  {
   "cell_type": "markdown",
   "id": "915b3fd5",
   "metadata": {},
   "source": [
    "Реализовать функцию, вычисляющую сумму квадратов двух переданных ей аргументов.\n",
    "\n",
    "займет 20 минут"
   ]
  },
  {
   "cell_type": "code",
   "execution_count": 3,
   "id": "ee8f3a8c",
   "metadata": {},
   "outputs": [
    {
     "name": "stdout",
     "output_type": "stream",
     "text": [
      "5\n"
     ]
    }
   ],
   "source": [
    "def a(x, y):\n",
    "    return x**2 + y**2\n",
    "\n",
    "print(a(1,2))"
   ]
  },
  {
   "cell_type": "markdown",
   "id": "72eb010b",
   "metadata": {},
   "source": [
    "Реализовать функцию, вычисляющую длину гипотенузы прямоугольного треугольника. Параметры – длины катетов.\n",
    "\n",
    "займет 20 минут"
   ]
  },
  {
   "cell_type": "code",
   "execution_count": 5,
   "id": "e0efe792",
   "metadata": {},
   "outputs": [
    {
     "name": "stdout",
     "output_type": "stream",
     "text": [
      "10.0\n"
     ]
    }
   ],
   "source": [
    "def c(a,b):\n",
    "    return (a**2 + b**2)**0.5\n",
    "print (c(6,8))"
   ]
  },
  {
   "cell_type": "markdown",
   "id": "926c418b",
   "metadata": {},
   "source": [
    "Перепешите функцию из предыдущего задания используя следующие воодные:\n",
    "\n",
    "Указание: для вычисления квадратного корня можно возвести число в степень 0,5.\n",
    "Можно использовать функцию, написанную в предыдущей задаче.\n",
    "#и так решил через возведение в 0.5\n",
    "\n",
    "займет 15 минут"
   ]
  },
  {
   "cell_type": "markdown",
   "id": "e41e90d5",
   "metadata": {},
   "source": [
    "Написать функцию arithmetic, принимающую 3 аргумента: первые два - числа, третий - операция, которая должна быть произведена над ними.\n",
    "\n",
    "Если третий аргумент равен ‘+’, сложить их; ‘—’ -вычесть; ‘*’ — умножить; ‘/’ — разделить. В остальных случаях вернуть строку \"Неизвестная операция\".\n",
    "Ожидаемый результат:\n",
    "\n",
    "займет 20 минут"
   ]
  },
  {
   "cell_type": "code",
   "execution_count": 1,
   "id": "10b85288",
   "metadata": {},
   "outputs": [
    {
     "data": {
      "text/plain": [
       "'/home/jupyter-adkazdym/github/team22/users/ADKazdym'"
      ]
     },
     "execution_count": 1,
     "metadata": {},
     "output_type": "execute_result"
    }
   ],
   "source": [
    "pwd"
   ]
  },
  {
   "cell_type": "code",
   "execution_count": 2,
   "id": "6b58476c",
   "metadata": {},
   "outputs": [
    {
     "name": "stdout",
     "output_type": "stream",
     "text": [
      "/home/jupyter-adkazdym/github/team22\n"
     ]
    }
   ],
   "source": [
    "cd ~/github/team22"
   ]
  },
  {
   "cell_type": "code",
   "execution_count": 4,
   "id": "49b8a685",
   "metadata": {},
   "outputs": [
    {
     "name": "stdout",
     "output_type": "stream",
     "text": [
      "error: Your local changes to the following files would be overwritten by checkout:\r\n",
      "\tusers/ADKazdym/homework_spiski.ipynb\r\n",
      "Please commit your changes or stash them before you switch branches.\r\n",
      "Aborting\r\n"
     ]
    }
   ],
   "source": [
    "!git checkout main"
   ]
  },
  {
   "cell_type": "code",
   "execution_count": 5,
   "id": "c9832918",
   "metadata": {},
   "outputs": [
    {
     "name": "stdout",
     "output_type": "stream",
     "text": [
      "error: Your local changes to the following files would be overwritten by checkout:\r\n",
      "\tusers/ADKazdym/homework_spiski.ipynb\r\n",
      "Please commit your changes or stash them before you switch branches.\r\n",
      "Aborting\r\n"
     ]
    }
   ],
   "source": [
    "!git checkout main"
   ]
  },
  {
   "cell_type": "code",
   "execution_count": 6,
   "id": "d0b4488b",
   "metadata": {},
   "outputs": [
    {
     "name": "stdout",
     "output_type": "stream",
     "text": [
      "remote: Enumerating objects: 155, done.\u001b[K\n",
      "remote: Counting objects: 100% (155/155), done.\u001b[K\n",
      "remote: Compressing objects: 100% (81/81), done.\u001b[K\n",
      "remote: Total 155 (delta 83), reused 129 (delta 65), pack-reused 0\u001b[K\n",
      "Receiving objects: 100% (155/155), 547.33 KiB | 1.60 MiB/s, done.\n",
      "Resolving deltas: 100% (83/83), completed with 27 local objects.\n",
      "From github.com:amtsu/team22\n",
      "   4ed884a..ebb53a0  home_work_1_amtsurkov  -> origin/home_work_1_amtsurkov\n",
      " * [new branch]      home_work_1_samaltsev  -> origin/home_work_1_samaltsev\n",
      " * [new branch]      home_work_2_vssachenko -> origin/home_work_2_vssachenko\n",
      " * [new branch]      homework_1_AndVlIv     -> origin/homework_1_AndVlIv\n",
      " * [new branch]      homework_2_asneyman    -> origin/homework_2_asneyman\n",
      " * [new branch]      lesson_4               -> origin/lesson_4\n",
      "   faccc35..1a7fff5  main                   -> origin/main\n",
      " * [new branch]      mvandreeva_lesson_21_HW_web_parsing_update -> origin/mvandreeva_lesson_21_HW_web_parsing_update\n",
      "   6b2cc8c..382bae2  sivanov_bot            -> origin/sivanov_bot\n",
      " * [new branch]      sivanov_dag            -> origin/sivanov_dag\n",
      " * [new branch]      sivanov_sql            -> origin/sivanov_sql\n",
      "Already up to date.\n"
     ]
    }
   ],
   "source": [
    "!git pull"
   ]
  },
  {
   "cell_type": "code",
   "execution_count": 8,
   "id": "cdfc91d5",
   "metadata": {},
   "outputs": [],
   "source": [
    "!git branch homework4_function_ADKazdym"
   ]
  },
  {
   "cell_type": "code",
   "execution_count": 9,
   "id": "39b13625",
   "metadata": {},
   "outputs": [
    {
     "name": "stdout",
     "output_type": "stream",
     "text": [
      "  home_work_1_adkazdym\u001b[m\r\n",
      "* \u001b[32mhome_work_spiski_ADKazdym\u001b[m\r\n",
      "  homework4_function\u001b[m\r\n",
      "  homework4_function_ADKazdym\u001b[m\r\n",
      "  main\u001b[m\r\n"
     ]
    }
   ],
   "source": [
    "!git branch"
   ]
  },
  {
   "cell_type": "code",
   "execution_count": 10,
   "id": "9e2323b5",
   "metadata": {},
   "outputs": [
    {
     "name": "stdout",
     "output_type": "stream",
     "text": [
      "M\tusers/ADKazdym/homework_spiski.ipynb\r\n",
      "Switched to branch 'homework4_function_ADKazdym'\r\n"
     ]
    }
   ],
   "source": [
    "!git checkout homework4_function_ADKazdym"
   ]
  },
  {
   "cell_type": "code",
   "execution_count": 11,
   "id": "e691ddab",
   "metadata": {},
   "outputs": [
    {
     "name": "stdout",
     "output_type": "stream",
     "text": [
      "/home/jupyter-adkazdym/github/team22/users/ADKazdym\n"
     ]
    }
   ],
   "source": [
    "cd users/ADKazdym"
   ]
  },
  {
   "cell_type": "code",
   "execution_count": 12,
   "id": "5c655090",
   "metadata": {},
   "outputs": [],
   "source": [
    "!git add homework4.ipynb"
   ]
  },
  {
   "cell_type": "code",
   "execution_count": 13,
   "id": "69b3ef1d",
   "metadata": {},
   "outputs": [
    {
     "name": "stdout",
     "output_type": "stream",
     "text": [
      "On branch homework4_function_ADKazdym\r\n",
      "Changes to be committed:\r\n",
      "  (use \"git restore --staged <file>...\" to unstage)\r\n",
      "\t\u001b[32mnew file:   homework4.ipynb\u001b[m\r\n",
      "\r\n",
      "Changes not staged for commit:\r\n",
      "  (use \"git add <file>...\" to update what will be committed)\r\n",
      "  (use \"git restore <file>...\" to discard changes in working directory)\r\n",
      "\t\u001b[31mmodified:   homework_spiski.ipynb\u001b[m\r\n",
      "\r\n",
      "Untracked files:\r\n",
      "  (use \"git add <file>...\" to include in what will be committed)\r\n",
      "\t\u001b[31ma2.txt\u001b[m\r\n",
      "\t\u001b[31mgithub.ipynb\u001b[m\r\n",
      "\r\n"
     ]
    }
   ],
   "source": [
    "!git status"
   ]
  },
  {
   "cell_type": "code",
   "execution_count": 14,
   "id": "9f926e87",
   "metadata": {},
   "outputs": [
    {
     "name": "stdout",
     "output_type": "stream",
     "text": [
      "[homework4_function_ADKazdym fa92e23] hw4 function\r\n",
      " 1 file changed, 438 insertions(+)\r\n",
      " create mode 100644 users/ADKazdym/homework4.ipynb\r\n"
     ]
    }
   ],
   "source": [
    "!git commit -m 'hw4 function'"
   ]
  },
  {
   "cell_type": "code",
   "execution_count": 15,
   "id": "7d77d11d",
   "metadata": {},
   "outputs": [
    {
     "name": "stdout",
     "output_type": "stream",
     "text": [
      "On branch homework4_function_ADKazdym\r\n",
      "Changes not staged for commit:\r\n",
      "  (use \"git add <file>...\" to update what will be committed)\r\n",
      "  (use \"git restore <file>...\" to discard changes in working directory)\r\n",
      "\t\u001b[31mmodified:   homework4.ipynb\u001b[m\r\n",
      "\t\u001b[31mmodified:   homework_spiski.ipynb\u001b[m\r\n",
      "\r\n",
      "Untracked files:\r\n",
      "  (use \"git add <file>...\" to include in what will be committed)\r\n",
      "\t\u001b[31ma2.txt\u001b[m\r\n",
      "\t\u001b[31mgithub.ipynb\u001b[m\r\n",
      "\r\n",
      "no changes added to commit (use \"git add\" and/or \"git commit -a\")\r\n"
     ]
    }
   ],
   "source": [
    "!git status"
   ]
  },
  {
   "cell_type": "code",
   "execution_count": 16,
   "id": "48883806",
   "metadata": {},
   "outputs": [
    {
     "name": "stdout",
     "output_type": "stream",
     "text": [
      "fatal: The current branch homework4_function_ADKazdym has no upstream branch.\r\n",
      "To push the current branch and set the remote as upstream, use\r\n",
      "\r\n",
      "    git push --set-upstream origin homework4_function_ADKazdym\r\n",
      "\r\n"
     ]
    }
   ],
   "source": [
    "!git push"
   ]
  },
  {
   "cell_type": "code",
   "execution_count": 17,
   "id": "8db2bad4",
   "metadata": {},
   "outputs": [
    {
     "name": "stdout",
     "output_type": "stream",
     "text": [
      "Enumerating objects: 14, done.\n",
      "Counting objects: 100% (14/14), done.\n",
      "Delta compression using up to 2 threads\n",
      "Compressing objects: 100% (10/10), done.\n",
      "Writing objects: 100% (10/10), 3.74 KiB | 3.74 MiB/s, done.\n",
      "Total 10 (delta 6), reused 0 (delta 0)\n",
      "remote: Resolving deltas: 100% (6/6), completed with 3 local objects.\u001b[K\n",
      "remote: \n",
      "remote: Create a pull request for 'homework4_function_ADKazdym' on GitHub by visiting:\u001b[K\n",
      "remote:      https://github.com/amtsu/team22/pull/new/homework4_function_ADKazdym\u001b[K\n",
      "remote: \n",
      "To github.com:amtsu/team22.git\n",
      " * [new branch]      homework4_function_ADKazdym -> homework4_function_ADKazdym\n",
      "Branch 'homework4_function_ADKazdym' set up to track remote branch 'homework4_function_ADKazdym' from 'origin'.\n"
     ]
    }
   ],
   "source": [
    "!git push --set-upstream origin homework4_function_ADKazdym\n"
   ]
  },
  {
   "cell_type": "code",
   "execution_count": null,
   "id": "9f5784b6",
   "metadata": {},
   "outputs": [],
   "source": []
  },
  {
   "cell_type": "code",
   "execution_count": null,
   "id": "777720b9",
   "metadata": {},
   "outputs": [],
   "source": []
  },
  {
   "cell_type": "code",
   "execution_count": null,
   "id": "8a83ccfb",
   "metadata": {},
   "outputs": [],
   "source": []
  }
 ],
 "metadata": {
  "kernelspec": {
   "display_name": "Python 3 (ipykernel)",
   "language": "python",
   "name": "python3"
  },
  "language_info": {
   "codemirror_mode": {
    "name": "ipython",
    "version": 3
   },
   "file_extension": ".py",
   "mimetype": "text/x-python",
   "name": "python",
   "nbconvert_exporter": "python",
   "pygments_lexer": "ipython3",
   "version": "3.9.7"
  }
 },
 "nbformat": 4,
 "nbformat_minor": 5
}
