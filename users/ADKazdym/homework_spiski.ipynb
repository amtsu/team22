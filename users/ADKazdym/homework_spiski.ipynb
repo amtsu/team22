{
 "cells": [
  {
   "cell_type": "code",
   "execution_count": 2,
   "id": "8312d549",
   "metadata": {},
   "outputs": [
    {
     "name": "stdout",
     "output_type": "stream",
     "text": [
      "20\n"
     ]
    }
   ],
   "source": [
    "delo_1=[\"купить хлеб\",\" 28-08-2022\",\" 28-08-2022\"]\n",
    "delo_2=[\"помыть пол\",\" 28-08-2022\",\" -\"]\n",
    "delo_3=[\"убрать комнату\",\" 28-08-2022\",\" 29-08-2022\"]\n",
    "delo_4=[\"принять душ\",\" 28-08-2022\",\" 30-08-2022\"]\n",
    "delo_5=[\"погулять с собакой\",\" 28-08-2022\",\" 28-08-2022\"]\n",
    "delo_6=[\"пойти на прогулку\",\" 28-08-2022\",\" -\"]\n",
    "delo_7=[\"сделать зарядку\",\" 28-08-2022\",\" 01-09-2022\"]\n",
    "delo_8=[\"покакать\",\" 28-08-2022\",\" 29-08-2022\"]\n",
    "delo_9=[\"пописать\",\" 28-08-2022\",\" 30-08-2022\"]\n",
    "delo_10=[\"сходить в магазин\",\" 28-08-2022\",\" 28-08-2022\"]\n",
    "delo_11=[\"сделать котлеты\",\" 28-08-2022\",\" 28-08-2022\"]\n",
    "delo_12=[\"приготовить суп\",\" 28-08-2022\",\" 01-09-2022\"]\n",
    "delo_13=[\"поесть кашу\",\" 28-08-2022\",\" 02-09-2022\"]\n",
    "delo_14=[\"выкинуть мусор\",\" 28-08-2022\",\" 03-09-2022\"]\n",
    "delo_15=[\"пробежать 3км\",\" 28-08-2022\",\" 01-09-2022\"]\n",
    "delo_16=[\"найти работу\",\" 28-08-2022\",\" -\"]\n",
    "delo_17=[\"позвонить маме\",\" 28-08-2022\",\" 30-08-2022\"]\n",
    "delo_18=[\"поздравить брата\",\" 28-08-2022\",\" 01-09-2022\"]\n",
    "delo_19=[\"сходить в бассейн\",\" 28-08-2022\",\" 02-09-2022\"]\n",
    "delo_20=[\"купить сигареты\",\" 28-08-2022\",\" 02-09-2022\"]\n",
    "spisok_del=[[delo_1],[delo_2],[delo_3],[delo_4],[delo_5],[delo_6],[delo_7],[delo_8],[delo_9],[delo_10],[delo_11],[delo_12],[delo_13],[delo_14],[delo_15],[delo_16],[delo_17],[delo_18],[delo_19],[delo_20]]\n",
    "print(len(spisok_del))"
   ]
  },
  {
   "cell_type": "markdown",
   "id": "ffee3f24",
   "metadata": {},
   "source": [
    "\n",
    "Если каждое дело из списка ваших дела написано на английском и является строкой то вывести длину каждой из этих строк\n",
    "Напечатать yes если длина строки в которой записано дело больше 10(название дела)\n",
    "Напечатать дела индекс которых в списке делится без остатка на 2\n",
    "Напечатать дело с индексом 1 и 4 из списка запланированных дел\n",
    "Напечатать те индексы у которых значения в списке запланированных дат и списке реализованных дат равны друг другу\n",
    "Вывести только те дела которые вы сделали в тот же день в который их запланировали\n",
    "Посчитать сколько дел у вас было одинаковых ( т.е. если есть запись “купить хлеб” 28-08-2022 и “купить хлеб” 14-08-2022 то финально нужно вывести “купить хлеб” 2 (можно сделать 2 варианта без использования словарей и с испольщованием словарям)"
   ]
  },
  {
   "cell_type": "markdown",
   "id": "6a4d2fca",
   "metadata": {},
   "source": [
    "Сравнить каждое дело из списка с строкой “buy bread” и если оно совпадает то напечатать YES"
   ]
  },
  {
   "cell_type": "code",
   "execution_count": 26,
   "id": "5c81bf9a",
   "metadata": {},
   "outputs": [],
   "source": [
    "delo_1=[\"buy bread\",\" 28-08-2022\",\" 28-08-2022\"]\n",
    "delo_2=[\"помыть пол\",\" 28-08-2022\",\" -\"]\n",
    "delo_3=[\"убрать комнату\",\" 28-08-2022\",\" 29-08-2022\"]\n",
    "delo_4=[\"принять душ\",\" 28-08-2022\",\" 30-08-2022\"]\n",
    "delo_5=[\"погулять с собакой\",\" 28-08-2022\",\" 28-08-2022\"]\n",
    "delo_6=[\"пойти на прогулку\",\" 28-08-2022\",\" -\"]\n",
    "delo_7=[\"сделать зарядку\",\" 28-08-2022\",\" 01-09-2022\"]\n",
    "delo_8=[\"покакать\",\" 28-08-2022\",\" 29-08-2022\"]\n",
    "delo_9=[\"пописать\",\" 28-08-2022\",\" 30-08-2022\"]\n",
    "delo_10=[\"сходить в магазин\",\" 28-08-2022\",\" 28-08-2022\"]\n",
    "delo_11=[\"сделать котлеты\",\" 28-08-2022\",\" 28-08-2022\"]\n",
    "delo_12=[\"приготовить суп\",\" 28-08-2022\",\" 01-09-2022\"]\n",
    "delo_13=[\"поесть кашу\",\" 28-08-2022\",\" 02-09-2022\"]\n",
    "delo_14=[\"выкинуть мусор\",\" 28-08-2022\",\" 03-09-2022\"]\n",
    "delo_15=[\"пробежать 3км\",\" 28-08-2022\",\" 01-09-2022\"]\n",
    "delo_16=[\"найти работу\",\" 28-08-2022\",\" -\"]\n",
    "delo_17=[\"позвонить маме\",\" 28-08-2022\",\" 30-08-2022\"]\n",
    "delo_18=[\"поздравить брата\",\" 28-08-2022\",\" 01-09-2022\"]\n",
    "delo_19=[\"сходить в бассейн\",\" 28-08-2022\",\" 02-09-2022\"]\n",
    "delo_20=[\"купить сигареты\",\" 28-08-2022\",\" 02-09-2022\"]\n",
    "#создал переменную чтобы были отдельно названия дел\n",
    "spisok_del=[[delo_1[0]],[delo_2[0]],[delo_3[0]],[delo_4[0]],[delo_5[0]],[delo_6[0]],[delo_7[0]],[delo_8[0]],[delo_9[0]],[delo_10[0]],[delo_11[0]],[delo_12[0]],[delo_13[0]],[delo_14[0]],[delo_15[0]],[delo_16[0]],[delo_17[0]],[delo_18[0]],[delo_19[0]],[delo_20[0]]]\n",
    "#делаю цикл чтобы проверял наличие переменной хлеб в названиях дел, но че то не работает. по пайтутору почему то ничего не берется в переменную delo\n",
    "xleb=\"buy bread\"\n",
    "for x in spisok_del:\n",
    "    if xleb == x:\n",
    "        print(\"yes\")\n",
    "\n"
   ]
  },
  {
   "cell_type": "markdown",
   "id": "98e36629",
   "metadata": {},
   "source": [
    "\n",
    "Если каждое дело из списка ваших дела написано на английском и является строкой то вывести длину каждой из этих строк"
   ]
  },
  {
   "cell_type": "code",
   "execution_count": 7,
   "id": "a752f9ca",
   "metadata": {},
   "outputs": [
    {
     "name": "stdout",
     "output_type": "stream",
     "text": [
      "no\n"
     ]
    }
   ],
   "source": [
    "delo_1=[\"buy bread\",\" 28-08-2022\",\" 28-08-2022\"]\n",
    "delo_2=[\"помыть пол\",\" 28-08-2022\",\" -\"]\n",
    "delo_3=[\"убрать комнату\",\" 28-08-2022\",\" 29-08-2022\"]\n",
    "delo_4=[\"принять душ\",\" 28-08-2022\",\" 30-08-2022\"]\n",
    "delo_5=[\"погулять с собакой\",\" 28-08-2022\",\" 28-08-2022\"]\n",
    "delo_6=[\"пойти на прогулку\",\" 28-08-2022\",\" -\"]\n",
    "delo_7=[\"сделать зарядку\",\" 28-08-2022\",\" 01-09-2022\"]\n",
    "delo_8=[\"покакать\",\" 28-08-2022\",\" 29-08-2022\"]\n",
    "delo_9=[\"пописать\",\" 28-08-2022\",\" 30-08-2022\"]\n",
    "delo_10=[\"сходить в магазин\",\" 28-08-2022\",\" 28-08-2022\"]\n",
    "delo_11=[\"сделать котлеты\",\" 28-08-2022\",\" 28-08-2022\"]\n",
    "delo_12=[\"приготовить суп\",\" 28-08-2022\",\" 01-09-2022\"]\n",
    "delo_13=[\"поесть кашу\",\" 28-08-2022\",\" 02-09-2022\"]\n",
    "delo_14=[\"выкинуть мусор\",\" 28-08-2022\",\" 03-09-2022\"]\n",
    "delo_15=[\"пробежать 3км\",\" 28-08-2022\",\" 01-09-2022\"]\n",
    "delo_16=[\"найти работу\",\" 28-08-2022\",\" -\"]\n",
    "delo_17=[\"позвонить маме\",\" 28-08-2022\",\" 30-08-2022\"]\n",
    "delo_18=[\"поздравить брата\",\" 28-08-2022\",\" 01-09-2022\"]\n",
    "delo_19=[\"сходить в бассейн\",\" 28-08-2022\",\" 02-09-2022\"]\n",
    "delo_20=[\"купить сигареты\",\" 28-08-2022\",\" 02-09-2022\"]\n",
    "\n",
    "#нашел в интернете, что можно словарь подгрузить. подгрузил, перевел список в строку.сравнил строку со словарем и отсосал...длину строки не выдало\n",
    "from string import ascii_letters as en\n",
    "delo1=\" \".join(delo_1)\n",
    "if delo1 in en:\n",
    "    print(len(delo1))\n",
    "else:\n",
    "    print(\"no\")\n"
   ]
  },
  {
   "cell_type": "markdown",
   "id": "40f38774",
   "metadata": {},
   "source": [
    "Напечатать yes если длина строки в которой записано дело больше 10"
   ]
  },
  {
   "cell_type": "code",
   "execution_count": 17,
   "id": "895cff28",
   "metadata": {},
   "outputs": [
    {
     "name": "stdout",
     "output_type": "stream",
     "text": [
      "yes\n"
     ]
    }
   ],
   "source": [
    "delo_1=[\"buy bread\",\" 28-08-2022\",\" 28-08-2022\"]\n",
    "delo_2=[\"помыть пол\",\" 28-08-2022\",\" -\"]\n",
    "delo_3=[\"убрать комнату\",\" 28-08-2022\",\" 29-08-2022\"]\n",
    "delo_4=[\"принять душ\",\" 28-08-2022\",\" 30-08-2022\"]\n",
    "delo_5=[\"погулять с собакой\",\" 28-08-2022\",\" 28-08-2022\"]\n",
    "delo_6=[\"пойти на прогулку\",\" 28-08-2022\",\" -\"]\n",
    "delo_7=[\"сделать зарядку\",\" 28-08-2022\",\" 01-09-2022\"]\n",
    "delo_8=[\"покакать\",\" 28-08-2022\",\" 29-08-2022\"]\n",
    "delo_9=[\"пописать\",\" 28-08-2022\",\" 30-08-2022\"]\n",
    "delo_10=[\"сходить в магазин\",\" 28-08-2022\",\" 28-08-2022\"]\n",
    "delo_11=[\"сделать котлеты\",\" 28-08-2022\",\" 28-08-2022\"]\n",
    "delo_12=[\"приготовить суп\",\" 28-08-2022\",\" 01-09-2022\"]\n",
    "delo_13=[\"поесть кашу\",\" 28-08-2022\",\" 02-09-2022\"]\n",
    "delo_14=[\"выкинуть мусор\",\" 28-08-2022\",\" 03-09-2022\"]\n",
    "delo_15=[\"пробежать 3км\",\" 28-08-2022\",\" 01-09-2022\"]\n",
    "delo_16=[\"найти работу\",\" 28-08-2022\",\" -\"]\n",
    "delo_17=[\"позвонить маме\",\" 28-08-2022\",\" 30-08-2022\"]\n",
    "delo_18=[\"поздравить брата\",\" 28-08-2022\",\" 01-09-2022\"]\n",
    "delo_19=[\"сходить в бассейн\",\" 28-08-2022\",\" 02-09-2022\"]\n",
    "delo_20=[\"купить сигареты\",\" 28-08-2022\",\" 02-09-2022\"]\n",
    "#не понял как вывести название дел из списка циклом, поэтому отдельно переназначил каждое\n",
    "name_delo1=delo_1[0]\n",
    "name_delo2=delo_2[0]\n",
    "name_delo3=delo_3[0]\n",
    "name_delo4=delo_4[0]\n",
    "name_delo5=delo_5[0]\n",
    "name_delo6=delo_6[0]\n",
    "name_delo7=delo_7[0]\n",
    "name_delo8=delo_8[0]\n",
    "name_delo9=delo_9[0]\n",
    "name_delo10=delo_10[0]\n",
    "name_delo11=delo_11[0]\n",
    "name_delo12=delo_12[0]\n",
    "name_delo13=delo_13[0]\n",
    "name_delo14=delo_14[0]\n",
    "name_delo15=delo_15[0]\n",
    "name_delo16=delo_16[0]\n",
    "name_delo17=delo_17[0]\n",
    "name_delo18=delo_18[0]\n",
    "name_delo19=delo_19[0]\n",
    "name_delo20=delo_20[0]\n",
    "#так же не понял как в цикл эти if ввести. не понимаю как создать переменную, чтобы в неё объединить части списка\n",
    "if len(name_delo1)>10:\n",
    "    print(\"yes\")"
   ]
  },
  {
   "cell_type": "markdown",
   "id": "33a94e28",
   "metadata": {},
   "source": [
    "Напечатать дела индекс которых в списке делится без остатка на 2"
   ]
  },
  {
   "cell_type": "code",
   "execution_count": null,
   "id": "8ffe7ac6",
   "metadata": {},
   "outputs": [],
   "source": []
  },
  {
   "cell_type": "code",
   "execution_count": null,
   "id": "b553870f",
   "metadata": {},
   "outputs": [],
   "source": []
  },
  {
   "cell_type": "code",
   "execution_count": null,
   "id": "6179f3b1",
   "metadata": {},
   "outputs": [],
   "source": []
  },
  {
   "cell_type": "markdown",
   "id": "ca9319c1",
   "metadata": {},
   "source": [
    "print(len(delo_7[0:0]))\n",
    "    "
   ]
  },
  {
   "cell_type": "code",
   "execution_count": 1,
   "id": "a014b264",
   "metadata": {},
   "outputs": [
    {
     "data": {
      "text/plain": [
       "'/home/jupyter-adkazdym/github/team22/users/ADKazdym'"
      ]
     },
     "execution_count": 1,
     "metadata": {},
     "output_type": "execute_result"
    }
   ],
   "source": [
    "pwd"
   ]
  },
  {
   "cell_type": "code",
   "execution_count": 3,
   "id": "dfa3f0db",
   "metadata": {},
   "outputs": [
    {
     "name": "stdout",
     "output_type": "stream",
     "text": [
      "On branch home_work_spiski_ADKazdym\r\n",
      "Your branch is up to date with 'origin/home_work_spiski_ADKazdym'.\r\n",
      "\r\n",
      "Changes not staged for commit:\r\n",
      "  (use \"git add <file>...\" to update what will be committed)\r\n",
      "  (use \"git restore <file>...\" to discard changes in working directory)\r\n",
      "\t\u001b[31mmodified:   domashka1.ipynb\u001b[m\r\n",
      "\t\u001b[31mmodified:   homework_spiski.ipynb\u001b[m\r\n",
      "\r\n",
      "Untracked files:\r\n",
      "  (use \"git add <file>...\" to include in what will be committed)\r\n",
      "\t\u001b[31ma2.txt\u001b[m\r\n",
      "\t\u001b[31mgithub.ipynb\u001b[m\r\n",
      "\t\u001b[31mhomework4.ipynb\u001b[m\r\n",
      "\r\n",
      "no changes added to commit (use \"git add\" and/or \"git commit -a\")\r\n"
     ]
    }
   ],
   "source": [
    "!git status"
   ]
  },
  {
   "cell_type": "code",
   "execution_count": 3,
   "id": "bf15bbf6",
   "metadata": {},
   "outputs": [
    {
     "name": "stdout",
     "output_type": "stream",
     "text": [
      "Switched to branch 'main'\r\n",
      "Your branch is up to date with 'origin/main'.\r\n"
     ]
    }
   ],
   "source": [
    "!git add "
   ]
  },
  {
   "cell_type": "code",
   "execution_count": 4,
   "id": "4159ff14",
   "metadata": {},
   "outputs": [
    {
     "name": "stdout",
     "output_type": "stream",
     "text": [
      "Already up to date.\r\n"
     ]
    }
   ],
   "source": []
  },
  {
   "cell_type": "code",
   "execution_count": 5,
   "id": "b814207f",
   "metadata": {},
   "outputs": [],
   "source": []
  },
  {
   "cell_type": "code",
   "execution_count": 6,
   "id": "2e3b4037",
   "metadata": {},
   "outputs": [
    {
     "name": "stdout",
     "output_type": "stream",
     "text": [
      "  home_work_1_adkazdym\u001b[m\r\n",
      "  home_work_spiski_ADKazdym\u001b[m\r\n",
      "* \u001b[32mmain\u001b[m\r\n"
     ]
    }
   ],
   "source": []
  },
  {
   "cell_type": "code",
   "execution_count": 7,
   "id": "a284125e",
   "metadata": {},
   "outputs": [
    {
     "name": "stdout",
     "output_type": "stream",
     "text": [
      "Switched to branch 'home_work_spiski_ADKazdym'\r\n"
     ]
    }
   ],
   "source": []
  },
  {
   "cell_type": "code",
   "execution_count": 10,
   "id": "69f5ee54",
   "metadata": {},
   "outputs": [
    {
     "name": "stdout",
     "output_type": "stream",
     "text": [
      "/home/jupyter-adkazdym/github/team22\n"
     ]
    }
   ],
   "source": []
  },
  {
   "cell_type": "code",
   "execution_count": 13,
   "id": "fd0c7ca9",
   "metadata": {},
   "outputs": [
    {
     "name": "stdout",
     "output_type": "stream",
     "text": [
      "/home/jupyter-adkazdym/github/team22/users/ADKazdym\n"
     ]
    }
   ],
   "source": []
  },
  {
   "cell_type": "code",
   "execution_count": 14,
   "id": "3b655a08",
   "metadata": {},
   "outputs": [
    {
     "name": "stdout",
     "output_type": "stream",
     "text": [
      "On branch home_work_spiski_ADKazdym\r\n",
      "Untracked files:\r\n",
      "  (use \"git add <file>...\" to include in what will be committed)\r\n",
      "\t\u001b[31m./\u001b[m\r\n",
      "\r\n",
      "nothing added to commit but untracked files present (use \"git add\" to track)\r\n"
     ]
    }
   ],
   "source": []
  },
  {
   "cell_type": "code",
   "execution_count": 16,
   "id": "cf502869",
   "metadata": {},
   "outputs": [],
   "source": []
  },
  {
   "cell_type": "code",
   "execution_count": 17,
   "id": "e24ee077",
   "metadata": {},
   "outputs": [
    {
     "name": "stdout",
     "output_type": "stream",
     "text": [
      "On branch home_work_spiski_ADKazdym\r\n",
      "Changes to be committed:\r\n",
      "  (use \"git restore --staged <file>...\" to unstage)\r\n",
      "\t\u001b[32mnew file:   homework_spiski.ipynb\u001b[m\r\n",
      "\r\n",
      "Untracked files:\r\n",
      "  (use \"git add <file>...\" to include in what will be committed)\r\n",
      "\t\u001b[31ma2.txt\u001b[m\r\n",
      "\t\u001b[31mdomashka1.ipynb\u001b[m\r\n",
      "\t\u001b[31mgithub.ipynb\u001b[m\r\n",
      "\t\u001b[31mhome work 2.ipynb\u001b[m\r\n",
      "\r\n"
     ]
    }
   ],
   "source": []
  },
  {
   "cell_type": "code",
   "execution_count": 18,
   "id": "fb252d41",
   "metadata": {},
   "outputs": [],
   "source": []
  },
  {
   "cell_type": "code",
   "execution_count": 19,
   "id": "ea70ca9f",
   "metadata": {},
   "outputs": [],
   "source": []
  },
  {
   "cell_type": "code",
   "execution_count": 20,
   "id": "1a957e0e",
   "metadata": {},
   "outputs": [
    {
     "name": "stdout",
     "output_type": "stream",
     "text": [
      "[home_work_spiski_ADKazdym 3fd9745] add homework\r\n",
      " 3 files changed, 3041 insertions(+)\r\n",
      " create mode 100644 users/ADKazdym/domashka1.ipynb\r\n",
      " create mode 100644 users/ADKazdym/homework2.ipynb\r\n",
      " create mode 100644 users/ADKazdym/homework_spiski.ipynb\r\n"
     ]
    }
   ],
   "source": []
  },
  {
   "cell_type": "code",
   "execution_count": 21,
   "id": "b4624b41",
   "metadata": {},
   "outputs": [
    {
     "name": "stdout",
     "output_type": "stream",
     "text": [
      "fatal: The current branch home_work_spiski_ADKazdym has no upstream branch.\r\n",
      "To push the current branch and set the remote as upstream, use\r\n",
      "\r\n",
      "    git push --set-upstream origin home_work_spiski_ADKazdym\r\n",
      "\r\n"
     ]
    }
   ],
   "source": []
  },
  {
   "cell_type": "code",
   "execution_count": 23,
   "id": "71d11661",
   "metadata": {},
   "outputs": [
    {
     "name": "stdout",
     "output_type": "stream",
     "text": [
      "Enumerating objects: 9, done.\n",
      "Counting objects: 100% (9/9), done.\n",
      "Delta compression using up to 2 threads\n",
      "Compressing objects: 100% (7/7), done.\n",
      "Writing objects: 100% (7/7), 13.89 KiB | 2.78 MiB/s, done.\n",
      "Total 7 (delta 3), reused 0 (delta 0)\n",
      "remote: Resolving deltas: 100% (3/3), completed with 2 local objects.\u001b[K\n",
      "remote: \n",
      "remote: Create a pull request for 'home_work_spiski_ADKazdym' on GitHub by visiting:\u001b[K\n",
      "remote:      https://github.com/amtsu/team22/pull/new/home_work_spiski_ADKazdym\u001b[K\n",
      "remote: \n",
      "To github.com:amtsu/team22.git\n",
      " * [new branch]      home_work_spiski_ADKazdym -> home_work_spiski_ADKazdym\n",
      "Branch 'home_work_spiski_ADKazdym' set up to track remote branch 'home_work_spiski_ADKazdym' from 'origin'.\n"
     ]
    }
   ],
   "source": []
  },
  {
   "cell_type": "code",
   "execution_count": null,
   "id": "718d9a58",
   "metadata": {},
   "outputs": [],
   "source": []
  },
  {
   "cell_type": "code",
   "execution_count": null,
   "id": "65e77753",
   "metadata": {},
   "outputs": [],
   "source": []
  },
  {
   "cell_type": "code",
   "execution_count": null,
   "id": "2ceb80d9",
   "metadata": {},
   "outputs": [],
   "source": []
  },
  {
   "cell_type": "code",
   "execution_count": null,
   "id": "0c096951",
   "metadata": {},
   "outputs": [],
   "source": []
  },
  {
   "cell_type": "code",
   "execution_count": null,
   "id": "bee5aa73",
   "metadata": {},
   "outputs": [],
   "source": []
  }
 ],
 "metadata": {
  "kernelspec": {
   "display_name": "Python 3 (ipykernel)",
   "language": "python",
   "name": "python3"
  },
  "language_info": {
   "codemirror_mode": {
    "name": "ipython",
    "version": 3
   },
   "file_extension": ".py",
   "mimetype": "text/x-python",
   "name": "python",
   "nbconvert_exporter": "python",
   "pygments_lexer": "ipython3",
   "version": "3.9.7"
  }
 },
 "nbformat": 4,
 "nbformat_minor": 5
}
