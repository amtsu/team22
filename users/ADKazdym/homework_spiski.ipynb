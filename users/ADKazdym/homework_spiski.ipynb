{
 "cells": [
  {
   "cell_type": "code",
   "execution_count": 2,
   "id": "8312d549",
   "metadata": {},
   "outputs": [
    {
     "name": "stdout",
     "output_type": "stream",
     "text": [
      "20\n"
     ]
    }
   ],
   "source": [
    "delo_1=[\"купить хлеб\",\" 28-08-2022\",\" 28-08-2022\"]\n",
    "delo_2=[\"помыть пол\",\" 28-08-2022\",\" -\"]\n",
    "delo_3=[\"убрать комнату\",\" 28-08-2022\",\" 29-08-2022\"]\n",
    "delo_4=[\"принять душ\",\" 28-08-2022\",\" 30-08-2022\"]\n",
    "delo_5=[\"погулять с собакой\",\" 28-08-2022\",\" 28-08-2022\"]\n",
    "delo_6=[\"пойти на прогулку\",\" 28-08-2022\",\" -\"]\n",
    "delo_7=[\"сделать зарядку\",\" 28-08-2022\",\" 01-09-2022\"]\n",
    "delo_8=[\"покакать\",\" 28-08-2022\",\" 29-08-2022\"]\n",
    "delo_9=[\"пописать\",\" 28-08-2022\",\" 30-08-2022\"]\n",
    "delo_10=[\"сходить в магазин\",\" 28-08-2022\",\" 28-08-2022\"]\n",
    "delo_11=[\"сделать котлеты\",\" 28-08-2022\",\" 28-08-2022\"]\n",
    "delo_12=[\"приготовить суп\",\" 28-08-2022\",\" 01-09-2022\"]\n",
    "delo_13=[\"поесть кашу\",\" 28-08-2022\",\" 02-09-2022\"]\n",
    "delo_14=[\"выкинуть мусор\",\" 28-08-2022\",\" 03-09-2022\"]\n",
    "delo_15=[\"пробежать 3км\",\" 28-08-2022\",\" 01-09-2022\"]\n",
    "delo_16=[\"найти работу\",\" 28-08-2022\",\" -\"]\n",
    "delo_17=[\"позвонить маме\",\" 28-08-2022\",\" 30-08-2022\"]\n",
    "delo_18=[\"поздравить брата\",\" 28-08-2022\",\" 01-09-2022\"]\n",
    "delo_19=[\"сходить в бассейн\",\" 28-08-2022\",\" 02-09-2022\"]\n",
    "delo_20=[\"купить сигареты\",\" 28-08-2022\",\" 02-09-2022\"]\n",
    "spisok_del=[[delo_1],[delo_2],[delo_3],[delo_4],[delo_5],[delo_6],[delo_7],[delo_8],[delo_9],[delo_10],[delo_11],[delo_12],[delo_13],[delo_14],[delo_15],[delo_16],[delo_17],[delo_18],[delo_19],[delo_20]]\n",
    "print(len(spisok_del))"
   ]
  },
  {
   "cell_type": "markdown",
   "id": "ffee3f24",
   "metadata": {},
   "source": [
    "\n",
    "Если каждое дело из списка ваших дела написано на английском и является строкой то вывести длину каждой из этих строк\n",
    "Напечатать yes если длина строки в которой записано дело больше 10\n",
    "Напечатать дела индекс которых в списке делится без остатка на 2\n",
    "Напечатать дело с индексом 1 и 4 из списка запланированных дел\n",
    "Напечатать те индексы у которых значения в списке запланированных дат и списке реализованных дат равны друг другу\n",
    "Вывести только те дела которые вы сделали в тот же день в который их запланировали\n",
    "Посчитать сколько дел у вас было одинаковых ( т.е. если есть запись “купить хлеб” 28-08-2022 и “купить хлеб” 14-08-2022 то финально нужно вывести “купить хлеб” 2 (можно сделать 2 варианта без использования словарей и с испольщованием словарям)"
   ]
  },
  {
   "cell_type": "markdown",
   "id": "6a4d2fca",
   "metadata": {},
   "source": [
    "Сравнить каждое дело из списка с строкой “buy bread” и если оно совпадает то напечатать YES"
   ]
  },
  {
   "cell_type": "code",
   "execution_count": 15,
   "id": "5c81bf9a",
   "metadata": {},
   "outputs": [
    {
     "name": "stdout",
     "output_type": "stream",
     "text": [
      "yes\n"
     ]
    }
   ],
   "source": [
    "delo_1=[\"buy bread\",\" 28-08-2022\",\" 28-08-2022\"]\n",
    "delo_2=[\"помыть пол\",\" 28-08-2022\",\" -\"]\n",
    "delo_3=[\"убрать комнату\",\" 28-08-2022\",\" 29-08-2022\"]\n",
    "delo_4=[\"принять душ\",\" 28-08-2022\",\" 30-08-2022\"]\n",
    "delo_5=[\"погулять с собакой\",\" 28-08-2022\",\" 28-08-2022\"]\n",
    "delo_6=[\"пойти на прогулку\",\" 28-08-2022\",\" -\"]\n",
    "delo_7=[\"сделать зарядку\",\" 28-08-2022\",\" 01-09-2022\"]\n",
    "delo_8=[\"покакать\",\" 28-08-2022\",\" 29-08-2022\"]\n",
    "delo_9=[\"пописать\",\" 28-08-2022\",\" 30-08-2022\"]\n",
    "delo_10=[\"сходить в магазин\",\" 28-08-2022\",\" 28-08-2022\"]\n",
    "delo_11=[\"сделать котлеты\",\" 28-08-2022\",\" 28-08-2022\"]\n",
    "delo_12=[\"приготовить суп\",\" 28-08-2022\",\" 01-09-2022\"]\n",
    "delo_13=[\"поесть кашу\",\" 28-08-2022\",\" 02-09-2022\"]\n",
    "delo_14=[\"выкинуть мусор\",\" 28-08-2022\",\" 03-09-2022\"]\n",
    "delo_15=[\"пробежать 3км\",\" 28-08-2022\",\" 01-09-2022\"]\n",
    "delo_16=[\"найти работу\",\" 28-08-2022\",\" -\"]\n",
    "delo_17=[\"позвонить маме\",\" 28-08-2022\",\" 30-08-2022\"]\n",
    "delo_18=[\"поздравить брата\",\" 28-08-2022\",\" 01-09-2022\"]\n",
    "delo_19=[\"сходить в бассейн\",\" 28-08-2022\",\" 02-09-2022\"]\n",
    "delo_20=[\"купить сигареты\",\" 28-08-2022\",\" 02-09-2022\"]\n",
    "spisok_del=[[delo_1],[delo_2],[delo_3],[delo_4],[delo_5],[delo_6],[delo_7],[delo_8],[delo_9],[delo_10],[delo_11],[delo_12],[delo_13],[delo_14],[delo_15],[delo_16],[delo_17],[delo_18],[delo_19],[delo_20]]\n",
    "\n",
    "xleb=\"buy bread\"\n",
    "if xleb in delo_1:\n",
    "    print(\"yes\")\n",
    "elif xleb in delo_2:\n",
    "    print(\"yes\")\n",
    "elif xleb in delo_3:\n",
    "    print(\"yes\")\n",
    "elif xleb in delo_4:\n",
    "    print(\"yes\")\n",
    "elif xleb in delo_5:\n",
    "    print(\"yes\")\n",
    "elif xleb in delo_6:\n",
    "    print(\"yes\")\n",
    "elif xleb in delo_7:\n",
    "    print(\"yes\")\n",
    "elif xleb in delo_8:\n",
    "    print(\"yes\")\n",
    "elif xleb in delo_9:\n",
    "    print(\"yes\")\n",
    "elif xleb in delo_10:\n",
    "    print(\"yes\")\n",
    "elif xleb in delo_11:\n",
    "    print(\"yes\")\n",
    "elif xleb in delo_12:\n",
    "    print(\"yes\")\n",
    "elif xleb in delo_13:\n",
    "    print(\"yes\")\n",
    "elif xleb in delo_14:\n",
    "    print(\"yes\")\n",
    "elif xleb in delo_15:\n",
    "    print(\"yes\")\n",
    "elif xleb in delo_16:\n",
    "    print(\"yes\")\n",
    "elif xleb in delo_17:\n",
    "    print(\"yes\")\n",
    "elif xleb in delo_18:\n",
    "    print(\"yes\")\n",
    "elif xleb in delo_19:\n",
    "    print(\"yes\")\n",
    "elif xleb in delo_20:\n",
    "    print(\"yes\")\n",
    "    \n",
    "#вариант с циклом не понимаю как делать. если под скобки засунуть (delo_1,delo_2 и тд), то ничего не работает\n",
    "for x in (delo_1):\n",
    "    if x==xleb:\n",
    "        print(\"yes\")\n",
    "\n",
    "        ##Если каждое дело из списка ваших дела написано на английском и является строкой то вывести длину каждой из этих строк"
   ]
  },
  {
   "cell_type": "markdown",
   "id": "98e36629",
   "metadata": {},
   "source": [
    "\n",
    "Если каждое дело из списка ваших дела написано на английском и является строкой то вывести длину каждой из этих строк"
   ]
  },
  {
   "cell_type": "code",
   "execution_count": 32,
   "id": "a752f9ca",
   "metadata": {},
   "outputs": [],
   "source": [
    "delo_1=[\"buy bread\",\" 28-08-2022\",\" 28-08-2022\"]\n",
    "delo_2=[\"помыть пол\",\" 28-08-2022\",\" -\"]\n",
    "delo_3=[\"убрать комнату\",\" 28-08-2022\",\" 29-08-2022\"]\n",
    "delo_4=[\"принять душ\",\" 28-08-2022\",\" 30-08-2022\"]\n",
    "delo_5=[\"погулять с собакой\",\" 28-08-2022\",\" 28-08-2022\"]\n",
    "delo_6=[\"пойти на прогулку\",\" 28-08-2022\",\" -\"]\n",
    "delo_7=[\"сделать зарядку\",\" 28-08-2022\",\" 01-09-2022\"]\n",
    "delo_8=[\"покакать\",\" 28-08-2022\",\" 29-08-2022\"]\n",
    "delo_9=[\"пописать\",\" 28-08-2022\",\" 30-08-2022\"]\n",
    "delo_10=[\"сходить в магазин\",\" 28-08-2022\",\" 28-08-2022\"]\n",
    "delo_11=[\"сделать котлеты\",\" 28-08-2022\",\" 28-08-2022\"]\n",
    "delo_12=[\"приготовить суп\",\" 28-08-2022\",\" 01-09-2022\"]\n",
    "delo_13=[\"поесть кашу\",\" 28-08-2022\",\" 02-09-2022\"]\n",
    "delo_14=[\"выкинуть мусор\",\" 28-08-2022\",\" 03-09-2022\"]\n",
    "delo_15=[\"пробежать 3км\",\" 28-08-2022\",\" 01-09-2022\"]\n",
    "delo_16=[\"найти работу\",\" 28-08-2022\",\" -\"]\n",
    "delo_17=[\"позвонить маме\",\" 28-08-2022\",\" 30-08-2022\"]\n",
    "delo_18=[\"поздравить брата\",\" 28-08-2022\",\" 01-09-2022\"]\n",
    "delo_19=[\"сходить в бассейн\",\" 28-08-2022\",\" 02-09-2022\"]\n",
    "delo_20=[\"купить сигареты\",\" 28-08-2022\",\" 02-09-2022\"]\n",
    "\n",
    "#нашел в интернете, что можно словарь подгрузить. подгрузил, перевел список в строку.сравнил строку со словарем и отсосал...длину строки не выдало\n",
    "#from string import ascii_letters as en\n",
    "#delo1=\" \".join(delo_1)\n",
    "#if delo1 in en:\n",
    "#    print(len(delo1))\n",
    "#else:\n",
    "#    print(\"no\")\n",
    "english=\"abcdefghijklmnopqrstuvwxyzABCDEFGHIJKLMNOPQRSTUVWXYZ\"\n",
    "delo1=\" \".join(delo_1)\n",
    "if delo1 in english:\n",
    "    print(len(delo1))\n",
    "    "
   ]
  },
  {
   "cell_type": "markdown",
   "id": "40f38774",
   "metadata": {},
   "source": [
    "Напечатать yes если длина строки в которой записано дело больше 10"
   ]
  },
  {
   "cell_type": "code",
   "execution_count": 33,
   "id": "895cff28",
   "metadata": {},
   "outputs": [],
   "source": [
    "delo_1=\"buy bread\",\" 28-08-2022\",\" 28-08-2022\"\n",
    "delo_2=\"помыть пол\",\" 28-08-2022\",\" -\"\n",
    "delo_3=\"убрать комнату\",\" 28-08-2022\",\" 29-08-2022\"\n",
    "delo_4=\"принять душ\",\" 28-08-2022\",\" 30-08-2022\"\n",
    "delo_5=\"погулять с собакой\",\" 28-08-2022\",\" 28-08-2022\"\n",
    "delo_6=\"пойти на прогулку\",\" 28-08-2022\",\" -\"\n",
    "delo_7=\"сделать зарядку\",\" 28-08-2022\",\" 01-09-2022\"\n",
    "delo_8=\"покакать\",\" 28-08-2022\",\" 29-08-2022\"\n",
    "delo_9=\"пописать\",\" 28-08-2022\",\" 30-08-2022\"\n",
    "delo_10=\"сходить в магазин\",\" 28-08-2022\",\" 28-08-2022\"\n",
    "delo_11=\"сделать котлеты\",\" 28-08-2022\",\" 28-08-2022\"\n",
    "delo_12=\"приготовить суп\",\" 28-08-2022\",\" 01-09-2022\"\n",
    "delo_13=\"поесть кашу\",\" 28-08-2022\",\" 02-09-2022\"\n",
    "delo_14=\"выкинуть мусор\",\" 28-08-2022\",\" 03-09-2022\"\n",
    "delo_15=\"пробежать 3км\",\" 28-08-2022\",\" 01-09-2022\"\n",
    "delo_16=\"найти работу\",\" 28-08-2022\",\" -\"\n",
    "delo_17=\"позвонить маме\",\" 28-08-2022\",\" 30-08-2022\"\n",
    "delo_18=\"поздравить брата\",\" 28-08-2022\",\" 01-09-2022\"\n",
    "delo_19=\"сходить в бассейн\",\" 28-08-2022\",\" 02-09-2022\"\n",
    "delo_20=\"купить сигареты\",\" 28-08-2022\",\" 02-09-2022\""
   ]
  },
  {
   "cell_type": "code",
   "execution_count": 41,
   "id": "91d371ea",
   "metadata": {},
   "outputs": [
    {
     "name": "stdout",
     "output_type": "stream",
     "text": [
      "0\n"
     ]
    }
   ],
   "source": [
    "print(len(delo_7[0:0]))\n",
    "    "
   ]
  },
  {
   "cell_type": "code",
   "execution_count": 1,
   "id": "a014b264",
   "metadata": {},
   "outputs": [
    {
     "data": {
      "text/plain": [
       "'/home/jupyter-adkazdym/github/team22/users/ADKazdym'"
      ]
     },
     "execution_count": 1,
     "metadata": {},
     "output_type": "execute_result"
    }
   ],
   "source": [
    "pwd"
   ]
  },
  {
   "cell_type": "code",
   "execution_count": 2,
   "id": "dfa3f0db",
   "metadata": {},
   "outputs": [
    {
     "name": "stdout",
     "output_type": "stream",
     "text": [
      "/home/jupyter-adkazdym/github/team22\n"
     ]
    }
   ],
   "source": [
    "cd ~/github/team22"
   ]
  },
  {
   "cell_type": "code",
   "execution_count": 3,
   "id": "bf15bbf6",
   "metadata": {},
   "outputs": [
    {
     "name": "stdout",
     "output_type": "stream",
     "text": [
      "Switched to branch 'main'\r\n",
      "Your branch is up to date with 'origin/main'.\r\n"
     ]
    }
   ],
   "source": [
    "!git checkout main"
   ]
  },
  {
   "cell_type": "code",
   "execution_count": 4,
   "id": "4159ff14",
   "metadata": {},
   "outputs": [
    {
     "name": "stdout",
     "output_type": "stream",
     "text": [
      "Already up to date.\r\n"
     ]
    }
   ],
   "source": [
    "!git pull"
   ]
  },
  {
   "cell_type": "code",
   "execution_count": 5,
   "id": "b814207f",
   "metadata": {},
   "outputs": [],
   "source": [
    "!git branch home_work_spiski_ADKazdym"
   ]
  },
  {
   "cell_type": "code",
   "execution_count": 6,
   "id": "2e3b4037",
   "metadata": {},
   "outputs": [
    {
     "name": "stdout",
     "output_type": "stream",
     "text": [
      "  home_work_1_adkazdym\u001b[m\r\n",
      "  home_work_spiski_ADKazdym\u001b[m\r\n",
      "* \u001b[32mmain\u001b[m\r\n"
     ]
    }
   ],
   "source": [
    "!git branch"
   ]
  },
  {
   "cell_type": "code",
   "execution_count": 7,
   "id": "a284125e",
   "metadata": {},
   "outputs": [
    {
     "name": "stdout",
     "output_type": "stream",
     "text": [
      "Switched to branch 'home_work_spiski_ADKazdym'\r\n"
     ]
    }
   ],
   "source": [
    "!git checkout home_work_spiski_ADKazdym"
   ]
  },
  {
   "cell_type": "code",
   "execution_count": 10,
   "id": "b79215da",
   "metadata": {},
   "outputs": [
    {
     "name": "stdout",
     "output_type": "stream",
     "text": [
      "/home/jupyter-adkazdym/github/team22\n"
     ]
    }
   ],
   "source": [
    "cd ~/github/team22"
   ]
  },
  {
   "cell_type": "code",
   "execution_count": 13,
   "id": "b096a7da",
   "metadata": {},
   "outputs": [
    {
     "name": "stdout",
     "output_type": "stream",
     "text": [
      "/home/jupyter-adkazdym/github/team22/users/ADKazdym\n"
     ]
    }
   ],
   "source": [
    "cd /home/jupyter-adkazdym/github/team22/users/ADKazdym"
   ]
  },
  {
   "cell_type": "code",
   "execution_count": 14,
   "id": "18602699",
   "metadata": {},
   "outputs": [
    {
     "name": "stdout",
     "output_type": "stream",
     "text": [
      "On branch home_work_spiski_ADKazdym\r\n",
      "Untracked files:\r\n",
      "  (use \"git add <file>...\" to include in what will be committed)\r\n",
      "\t\u001b[31m./\u001b[m\r\n",
      "\r\n",
      "nothing added to commit but untracked files present (use \"git add\" to track)\r\n"
     ]
    }
   ],
   "source": [
    "!git status"
   ]
  },
  {
   "cell_type": "code",
   "execution_count": null,
   "id": "0ff3df83",
   "metadata": {},
   "outputs": [],
   "source": []
  },
  {
   "cell_type": "code",
   "execution_count": null,
   "id": "d55ea308",
   "metadata": {},
   "outputs": [],
   "source": []
  },
  {
   "cell_type": "code",
   "execution_count": null,
   "id": "fb252d41",
   "metadata": {},
   "outputs": [],
   "source": []
  },
  {
   "cell_type": "code",
   "execution_count": null,
   "id": "bee5aa73",
   "metadata": {},
   "outputs": [],
   "source": []
  }
 ],
 "metadata": {
  "kernelspec": {
   "display_name": "Python 3 (ipykernel)",
   "language": "python",
   "name": "python3"
  },
  "language_info": {
   "codemirror_mode": {
    "name": "ipython",
    "version": 3
   },
   "file_extension": ".py",
   "mimetype": "text/x-python",
   "name": "python",
   "nbconvert_exporter": "python",
   "pygments_lexer": "ipython3",
   "version": "3.9.7"
  }
 },
 "nbformat": 4,
 "nbformat_minor": 5
}
