{
 "cells": [
  {
   "cell_type": "code",
   "execution_count": 2,
   "id": "8312d549",
   "metadata": {},
   "outputs": [
    {
     "name": "stdout",
     "output_type": "stream",
     "text": [
      "20\n"
     ]
    }
   ],
   "source": [
    "delo_1=[\"купить хлеб\",\" 28-08-2022\",\" 28-08-2022\"]\n",
    "delo_2=[\"помыть пол\",\" 28-08-2022\",\" -\"]\n",
    "delo_3=[\"убрать комнату\",\" 28-08-2022\",\" 29-08-2022\"]\n",
    "delo_4=[\"принять душ\",\" 28-08-2022\",\" 30-08-2022\"]\n",
    "delo_5=[\"погулять с собакой\",\" 28-08-2022\",\" 28-08-2022\"]\n",
    "delo_6=[\"пойти на прогулку\",\" 28-08-2022\",\" -\"]\n",
    "delo_7=[\"сделать зарядку\",\" 28-08-2022\",\" 01-09-2022\"]\n",
    "delo_8=[\"покакать\",\" 28-08-2022\",\" 29-08-2022\"]\n",
    "delo_9=[\"пописать\",\" 28-08-2022\",\" 30-08-2022\"]\n",
    "delo_10=[\"сходить в магазин\",\" 28-08-2022\",\" 28-08-2022\"]\n",
    "delo_11=[\"сделать котлеты\",\" 28-08-2022\",\" 28-08-2022\"]\n",
    "delo_12=[\"приготовить суп\",\" 28-08-2022\",\" 01-09-2022\"]\n",
    "delo_13=[\"поесть кашу\",\" 28-08-2022\",\" 02-09-2022\"]\n",
    "delo_14=[\"выкинуть мусор\",\" 28-08-2022\",\" 03-09-2022\"]\n",
    "delo_15=[\"пробежать 3км\",\" 28-08-2022\",\" 01-09-2022\"]\n",
    "delo_16=[\"найти работу\",\" 28-08-2022\",\" -\"]\n",
    "delo_17=[\"позвонить маме\",\" 28-08-2022\",\" 30-08-2022\"]\n",
    "delo_18=[\"поздравить брата\",\" 28-08-2022\",\" 01-09-2022\"]\n",
    "delo_19=[\"сходить в бассейн\",\" 28-08-2022\",\" 02-09-2022\"]\n",
    "delo_20=[\"купить сигареты\",\" 28-08-2022\",\" 02-09-2022\"]\n",
    "spisok_del=[[delo_1],[delo_2],[delo_3],[delo_4],[delo_5],[delo_6],[delo_7],[delo_8],[delo_9],[delo_10],[delo_11],[delo_12],[delo_13],[delo_14],[delo_15],[delo_16],[delo_17],[delo_18],[delo_19],[delo_20]]\n",
    "print(len(spisok_del))"
   ]
  },
  {
   "cell_type": "markdown",
   "id": "ffee3f24",
   "metadata": {},
   "source": [
    "\n",
    "Если каждое дело из списка ваших дела написано на английском и является строкой то вывести длину каждой из этих строк\n",
    "Напечатать yes если длина строки в которой записано дело больше 10(название дела)\n",
    "Напечатать дела индекс которых в списке делится без остатка на 2\n",
    "Напечатать дело с индексом 1 и 4 из списка запланированных дел\n",
    "Напечатать те индексы у которых значения в списке запланированных дат и списке реализованных дат равны друг другу\n",
    "Вывести только те дела которые вы сделали в тот же день в который их запланировали\n",
    "Посчитать сколько дел у вас было одинаковых ( т.е. если есть запись “купить хлеб” 28-08-2022 и “купить хлеб” 14-08-2022 то финально нужно вывести “купить хлеб” 2 (можно сделать 2 варианта без использования словарей и с испольщованием словарям)"
   ]
  },
  {
   "cell_type": "markdown",
   "id": "6a4d2fca",
   "metadata": {},
   "source": [
    "Сравнить каждое дело из списка с строкой “buy bread” и если оно совпадает то напечатать YES"
   ]
  },
  {
   "cell_type": "code",
   "execution_count": 9,
   "id": "5c81bf9a",
   "metadata": {},
   "outputs": [
    {
     "name": "stdout",
     "output_type": "stream",
     "text": [
      "yes\n"
     ]
    }
   ],
   "source": [
    "delo_1=[\"buy bread\",\" 28-08-2022\",\" 28-08-2022\"]\n",
    "delo_2=[\"помыть пол\",\" 28-08-2022\",\" -\"]\n",
    "delo_3=[\"убрать комнату\",\" 28-08-2022\",\" 29-08-2022\"]\n",
    "delo_4=[\"принять душ\",\" 28-08-2022\",\" 30-08-2022\"]\n",
    "delo_5=[\"погулять с собакой\",\" 28-08-2022\",\" 28-08-2022\"]\n",
    "delo_6=[\"пойти на прогулку\",\" 28-08-2022\",\" -\"]\n",
    "delo_7=[\"сделать зарядку\",\" 28-08-2022\",\" 01-09-2022\"]\n",
    "delo_8=[\"покакать\",\" 28-08-2022\",\" 29-08-2022\"]\n",
    "delo_9=[\"пописать\",\" 28-08-2022\",\" 30-08-2022\"]\n",
    "delo_10=[\"сходить в магазин\",\" 28-08-2022\",\" 28-08-2022\"]\n",
    "delo_11=[\"сделать котлеты\",\" 28-08-2022\",\" 28-08-2022\"]\n",
    "delo_12=[\"приготовить суп\",\" 28-08-2022\",\" 01-09-2022\"]\n",
    "delo_13=[\"поесть кашу\",\" 28-08-2022\",\" 02-09-2022\"]\n",
    "delo_14=[\"выкинуть мусор\",\" 28-08-2022\",\" 03-09-2022\"]\n",
    "delo_15=[\"пробежать 3км\",\" 28-08-2022\",\" 01-09-2022\"]\n",
    "delo_16=[\"найти работу\",\" 28-08-2022\",\" -\"]\n",
    "delo_17=[\"позвонить маме\",\" 28-08-2022\",\" 30-08-2022\"]\n",
    "delo_18=[\"поздравить брата\",\" 28-08-2022\",\" 01-09-2022\"]\n",
    "delo_19=[\"сходить в бассейн\",\" 28-08-2022\",\" 02-09-2022\"]\n",
    "delo_20=[\"купить сигареты\",\" 28-08-2022\",\" 02-09-2022\"]\n",
    "\n",
    "spisok_del=[delo_1,delo_2,delo_3,delo_4,delo_5,delo_6,delo_7,delo_8,delo_9,delo_10,delo_11,delo_12,delo_13,delo_14,delo_15,delo_16,delo_17,delo_18,delo_19,delo_20]\n",
    "\n",
    "xleb=\"buy bread\"\n",
    "for x in spisok_del:\n",
    "    if xleb == x[0]:\n",
    "        print(\"yes\")\n",
    "\n"
   ]
  },
  {
   "cell_type": "markdown",
   "id": "98e36629",
   "metadata": {},
   "source": [
    "\n",
    "Если каждое дело из списка ваших дела написано на английском и является строкой то вывести длину каждой из этих строк"
   ]
  },
  {
   "cell_type": "code",
   "execution_count": 10,
   "id": "a752f9ca",
   "metadata": {},
   "outputs": [
    {
     "name": "stdout",
     "output_type": "stream",
     "text": [
      "9\n",
      "10\n",
      "14\n",
      "11\n",
      "18\n",
      "17\n",
      "15\n",
      "8\n",
      "8\n",
      "17\n",
      "15\n",
      "15\n",
      "11\n",
      "14\n",
      "13\n",
      "12\n",
      "14\n",
      "16\n",
      "17\n",
      "15\n"
     ]
    }
   ],
   "source": [
    "for x in spisok_del:\n",
    "    print(len(x[0]))\n"
   ]
  },
  {
   "cell_type": "markdown",
   "id": "40f38774",
   "metadata": {},
   "source": [
    "Напечатать yes если длина строки в которой записано дело больше 10"
   ]
  },
  {
   "cell_type": "code",
   "execution_count": 14,
   "id": "895cff28",
   "metadata": {},
   "outputs": [
    {
     "name": "stdout",
     "output_type": "stream",
     "text": [
      "yes: 14\n",
      "yes: 11\n",
      "yes: 18\n",
      "yes: 17\n",
      "yes: 15\n",
      "yes: 17\n",
      "yes: 15\n",
      "yes: 15\n",
      "yes: 11\n",
      "yes: 14\n",
      "yes: 13\n",
      "yes: 12\n",
      "yes: 14\n",
      "yes: 16\n",
      "yes: 17\n",
      "yes: 15\n"
     ]
    }
   ],
   "source": [
    "for x in spisok_del:\n",
    "    if len(x[0])>10:\n",
    "        print(f\"yes: {len(x[0])}\")\n"
   ]
  },
  {
   "cell_type": "markdown",
   "id": "33a94e28",
   "metadata": {},
   "source": [
    "Напечатать дела индекс которых в списке делится без остатка на 2"
   ]
  },
  {
   "cell_type": "code",
   "execution_count": 29,
   "id": "8ffe7ac6",
   "metadata": {},
   "outputs": [
    {
     "name": "stdout",
     "output_type": "stream",
     "text": [
      "0 ['buy bread', ' 28-08-2022', ' 28-08-2022']\n",
      "2 ['убрать комнату', ' 28-08-2022', ' 29-08-2022']\n",
      "4 ['погулять с собакой', ' 28-08-2022', ' 28-08-2022']\n",
      "6 ['сделать зарядку', ' 28-08-2022', ' 01-09-2022']\n",
      "8 ['пописать', ' 28-08-2022', ' 30-08-2022']\n",
      "10 ['сделать котлеты', ' 28-08-2022', ' 28-08-2022']\n",
      "12 ['поесть кашу', ' 28-08-2022', ' 02-09-2022']\n",
      "14 ['пробежать 3км', ' 28-08-2022', ' 01-09-2022']\n",
      "16 ['позвонить маме', ' 28-08-2022', ' 30-08-2022']\n",
      "18 ['сходить в бассейн', ' 28-08-2022', ' 02-09-2022']\n",
      "-----\n",
      "0 ['buy bread', ' 28-08-2022', ' 28-08-2022']\n",
      "2 ['убрать комнату', ' 28-08-2022', ' 29-08-2022']\n",
      "4 ['погулять с собакой', ' 28-08-2022', ' 28-08-2022']\n",
      "6 ['сделать зарядку', ' 28-08-2022', ' 01-09-2022']\n",
      "8 ['пописать', ' 28-08-2022', ' 30-08-2022']\n",
      "10 ['сделать котлеты', ' 28-08-2022', ' 28-08-2022']\n",
      "12 ['поесть кашу', ' 28-08-2022', ' 02-09-2022']\n",
      "14 ['пробежать 3км', ' 28-08-2022', ' 01-09-2022']\n",
      "16 ['позвонить маме', ' 28-08-2022', ' 30-08-2022']\n",
      "18 ['сходить в бассейн', ' 28-08-2022', ' 02-09-2022']\n"
     ]
    }
   ],
   "source": [
    "#print(spisok_del)\n",
    "#print(len(spisok_del))\n",
    "#print(spisok_del[-1])\n",
    "#x_last=len(spisok_del)-1\n",
    "#print(spisok_del[x_last])\n",
    "for index in range(0,len(spisok_del)):\n",
    "    if index%2==0:\n",
    "        print(index,spisok_del[index])\n",
    "index=0\n",
    "print(\"-----\")\n",
    "while index<len(spisok_del):\n",
    "   # if index%2==0:\n",
    "    print(index,spisok_del[index])\n",
    "    index=index+2"
   ]
  },
  {
   "cell_type": "code",
   "execution_count": null,
   "id": "b553870f",
   "metadata": {},
   "outputs": [],
   "source": []
  },
  {
   "cell_type": "code",
   "execution_count": null,
   "id": "6179f3b1",
   "metadata": {},
   "outputs": [],
   "source": []
  },
  {
   "cell_type": "markdown",
   "id": "ca9319c1",
   "metadata": {},
   "source": [
    "print(len(delo_7[0:0]))\n",
    "    "
   ]
  },
  {
   "cell_type": "code",
   "execution_count": 1,
   "id": "a014b264",
   "metadata": {},
   "outputs": [
    {
     "data": {
      "text/plain": [
       "'/home/jupyter-adkazdym/github/team22/users/ADKazdym'"
      ]
     },
     "execution_count": 1,
     "metadata": {},
     "output_type": "execute_result"
    }
   ],
   "source": [
    "pwd"
   ]
  },
  {
   "cell_type": "code",
   "execution_count": 3,
   "id": "dfa3f0db",
   "metadata": {},
   "outputs": [
    {
     "name": "stdout",
     "output_type": "stream",
     "text": [
      "On branch home_work_spiski_ADKazdym\r\n",
      "Your branch is up to date with 'origin/home_work_spiski_ADKazdym'.\r\n",
      "\r\n",
      "Changes not staged for commit:\r\n",
      "  (use \"git add <file>...\" to update what will be committed)\r\n",
      "  (use \"git restore <file>...\" to discard changes in working directory)\r\n",
      "\t\u001b[31mmodified:   domashka1.ipynb\u001b[m\r\n",
      "\t\u001b[31mmodified:   homework_spiski.ipynb\u001b[m\r\n",
      "\r\n",
      "Untracked files:\r\n",
      "  (use \"git add <file>...\" to include in what will be committed)\r\n",
      "\t\u001b[31ma2.txt\u001b[m\r\n",
      "\t\u001b[31mgithub.ipynb\u001b[m\r\n",
      "\t\u001b[31mhomework4.ipynb\u001b[m\r\n",
      "\r\n",
      "no changes added to commit (use \"git add\" and/or \"git commit -a\")\r\n"
     ]
    }
   ],
   "source": [
    "!git status"
   ]
  },
  {
   "cell_type": "code",
   "execution_count": 4,
   "id": "bf15bbf6",
   "metadata": {},
   "outputs": [],
   "source": [
    "!git add homework_spiski.ipynb"
   ]
  },
  {
   "cell_type": "code",
   "execution_count": 5,
   "id": "4159ff14",
   "metadata": {},
   "outputs": [
    {
     "name": "stdout",
     "output_type": "stream",
     "text": [
      "On branch home_work_spiski_ADKazdym\r\n",
      "Your branch is up to date with 'origin/home_work_spiski_ADKazdym'.\r\n",
      "\r\n",
      "Changes to be committed:\r\n",
      "  (use \"git restore --staged <file>...\" to unstage)\r\n",
      "\t\u001b[32mmodified:   homework_spiski.ipynb\u001b[m\r\n",
      "\r\n",
      "Changes not staged for commit:\r\n",
      "  (use \"git add <file>...\" to update what will be committed)\r\n",
      "  (use \"git restore <file>...\" to discard changes in working directory)\r\n",
      "\t\u001b[31mmodified:   domashka1.ipynb\u001b[m\r\n",
      "\r\n",
      "Untracked files:\r\n",
      "  (use \"git add <file>...\" to include in what will be committed)\r\n",
      "\t\u001b[31ma2.txt\u001b[m\r\n",
      "\t\u001b[31mgithub.ipynb\u001b[m\r\n",
      "\t\u001b[31mhomework4.ipynb\u001b[m\r\n",
      "\r\n"
     ]
    }
   ],
   "source": [
    "!git status"
   ]
  },
  {
   "cell_type": "code",
   "execution_count": 6,
   "id": "b814207f",
   "metadata": {},
   "outputs": [
    {
     "name": "stdout",
     "output_type": "stream",
     "text": [
      "[home_work_spiski_ADKazdym 400cefb] check homework_spiski\r\n",
      " 1 file changed, 268 insertions(+), 132 deletions(-)\r\n"
     ]
    }
   ],
   "source": [
    "!git commit -m \"check homework_spiski\""
   ]
  },
  {
   "cell_type": "code",
   "execution_count": 7,
   "id": "2e3b4037",
   "metadata": {},
   "outputs": [
    {
     "name": "stdout",
     "output_type": "stream",
     "text": [
      "Enumerating objects: 9, done.\n",
      "Counting objects: 100% (9/9), done.\n",
      "Delta compression using up to 2 threads\n",
      "Compressing objects: 100% (5/5), done.\n",
      "Writing objects: 100% (5/5), 2.31 KiB | 2.31 MiB/s, done.\n",
      "Total 5 (delta 4), reused 0 (delta 0)\n",
      "remote: Resolving deltas: 100% (4/4), completed with 4 local objects.\u001b[K\n",
      "To github.com:amtsu/team22.git\n",
      "   3fd9745..400cefb  home_work_spiski_ADKazdym -> home_work_spiski_ADKazdym\n"
     ]
    }
   ],
   "source": [
    "!git push"
   ]
  },
  {
   "cell_type": "code",
   "execution_count": 8,
   "id": "a284125e",
   "metadata": {},
   "outputs": [
    {
     "name": "stdout",
     "output_type": "stream",
     "text": [
      "\u001b[1mdiff --git a/users/ADKazdym/domashka1.ipynb b/users/ADKazdym/domashka1.ipynb\u001b[m\r\n",
      "\u001b[1mindex 6f8ca6d..5b9d60e 100644\u001b[m\r\n",
      "\u001b[1m--- a/users/ADKazdym/domashka1.ipynb\u001b[m\r\n",
      "\u001b[1m+++ b/users/ADKazdym/domashka1.ipynb\u001b[m\r\n",
      "\u001b[36m@@ -737,7 +737,7 @@\u001b[m\r\n",
      "     \"Ð¿Ð¾ÑÑÐ¸ÑÐ°ÑÑ ÑÐºÐ¾Ð»ÑÐºÐ¾ ÑÑÐ°Ñ Ð±ÑÐ»Ð¾ Ð¼ÐµÐ½ÑÑÐµ 300 ÑÑÐ±Ð»ÐµÐ¹\\n\",\u001b[m\r\n",
      "     \"Ð¿Ð¾ÑÑÐ¸ÑÐ°ÑÑ ÑÐºÐ¾Ð»ÑÐºÐ¾ ÑÑÐ¼Ð¼Ñ ÑÑÐ°Ñ ÐºÐ¾ÑÐ¾ÑÑÐµ Ð±ÑÐ»Ð¸ Ð±Ð¾Ð»ÑÑÐµ 10000 ÑÑÐ±Ð»ÐµÐ¹\\n\",\u001b[m\r\n",
      "     \"Ð²ÑÐ´Ð°ÑÑ Ð½Ð¾Ð¼ÐµÑÐ° ÑÑÐ°Ñ ÐºÐ¾ÑÐ¾ÑÑÐµ Ð½Ð°Ñ",
      "Ð¾Ð´ÑÑÑÑ Ð² Ð´Ð¸Ð°Ð¿Ð°Ð·Ð¾Ð½Ðµ Ð¼ÐµÐ¶Ð´Ñ 300 Ð¸ 10000 ÑÑÐ±Ð»ÐµÐ¹\\n\",\u001b[m\r\n",
      "\u001b[31m-    \"Ð²ÑÐ±ÑÐ°ÑÑ Ð¸Ð· ÑÐ¿Ð¸ÑÐºÐ° Ð½Ð° Ð²ÑÐ¾ÑÐ¾Ð¼ ÑÐ°Ð³Ðµ ÑÐ°Ð¼ÑÑ Ð¼Ð¸Ð½Ð¸Ð¼Ð°Ð»ÑÐ½ÑÑ ÑÑÐ°ÑÑ\\n\",\u001b[m\r\n",
      "\u001b[32m+\u001b[m\u001b[32m    \"Ð²ÑÐ±ÑÐ°ÑÑ Ð¸Ð· ÑÐ¿Ð¸ÑÐºÐ° Ð½Ð° Ð²ÑÐ¾ÑÐ¾Ð¼ ÑÐ°Ð³Ðµ ÑÐ°Ð¼ÑÑ Ð¼Ð¸Ð½Ð¸Ð¼Ð°Ð»ÑÐ½ÑÑ ÑÑÐ°ÑÑ (Ð¼ÐµÐ½ÑÑÐ°Ñ ÑÑÐ°ÑÐ°)\\n\",\u001b[m\r\n",
      "     \"Ð¿Ð¾ÑÑÐ¸ÑÐ°ÑÑ ÑÐºÐ¾Ð»ÑÐºÐ¾ ÑÑÐ°Ñ Ð±ÑÐ»Ð¾ Ð¼ÐµÐ½ÑÑÐµ 300 ÑÑÐ±Ð»ÐµÐ¹\\n\",\u001b[m\r\n",
      "     \"Ð¿Ð¾ÑÑÐ¸ÑÐ°Ð¹ÑÐµ ÑÐºÐ¾Ð»ÑÐºÐ¾ Ð·Ð°ÑÐ°Ð±Ð¾ÑÐ°Ð»Ð¸ Ð·Ð° Ð²ÑÐµ Ð²ÑÐµÐ¼Ñ\\n\",\u001b[m\r\n",
      "     \"Ð¿Ð¾ÑÑÐ¸ÑÐ°Ð¹ÑÐµ ÐºÐ°ÐºÐ¸Ðµ ÑÐ°Ð¼ÑÐµ ÑÐ°ÑÑÑÐµ Ñ Ð²Ð°Ñ ÑÑÐ°ÑÑ(Ð¼Ð¾Ð¶Ð½Ð¾ Ð¿Ð¾Ð¿ÑÐ¾Ð±Ð¾Ð²Ð°ÑÑ Ñ Ð¸ÑÐ¿Ð¾Ð»ÑÐ·Ð¾Ð²Ð°Ð½Ð¸ÐµÐ¼ ÑÐ»Ð¾Ð²Ð°ÑÐµÐ¹)\\n\",\u001b[m\r\n",
      "\u001b[1mdiff --git a/users/ADKazdym/homework_spiski.ipynb b/users/ADKazdym/homework_spiski.ipynb\u001b[m\r\n",
      "\u001b[1mindex 49f18db..479ae28 100644\u001b[m\r\n",
      "\u001b[1m--- a/users/ADKazdym/homework_spiski.ipynb\u001b[m\r\n",
      "\u001b[1m+++ b/users/ADKazdym/homework_spiski.ipynb\u001b[m\r\n",
      "\u001b[36m@@ -319,50 +319,71 @@\u001b[m\r\n",
      "   },\u001b[m\r\n",
      "   {\u001b[m\r\n",
      "    \"cell_type\": \"code\",\u001b[m\r\n",
      "\u001b[31m-   \"execution_count\": 3,\u001b[m\r\n",
      "\u001b[32m+\u001b[m\u001b[32m   \"execution_count\": 4,\u001b[m\r\n",
      "    \"id\": \"bf15bbf6\",\u001b[m\r\n",
      "    \"metadata\": {},\u001b[m\r\n",
      "\u001b[32m+\u001b[m\u001b[32m   \"outputs\": [],\u001b[m\r\n",
      "\u001b[32m+\u001b[m\u001b[32m   \"source\": [\u001b[m\r\n",
      "\u001b[32m+\u001b[m\u001b[32m    \"!git add homework_spiski.ipynb\"\u001b[m\r\n",
      "\u001b[32m+\u001b[m\u001b[32m   ]\u001b[m\r\n",
      "\u001b[32m+\u001b[m\u001b[32m  },\u001b[m\r\n",
      "\u001b[32m+\u001b[m\u001b[32m  {\u001b[m\r\n",
      "\u001b[32m+\u001b[m\u001b[32m   \"cell_type\": \"code\",\u001b[m\r\n",
      "\u001b[32m+\u001b[m\u001b[32m   \"execution_count\": 5,\u001b[m\r\n",
      "\u001b[32m+\u001b[m\u001b[32m   \"id\": \"4159ff14\",\u001b[m\r\n",
      "\u001b[32m+\u001b[m\u001b[32m   \"metadata\": {},\u001b[m\r\n",
      "    \"outputs\": [\u001b[m\r\n",
      "     {\u001b[m\r\n",
      "      \"name\": \"stdout\",\u001b[m\r\n",
      "      \"output_type\": \"stream\",\u001b[m\r\n",
      "      \"text\": [\u001b[m\r\n",
      "\u001b[31m-      \"Switched to branch 'main'\\r\\n\",\u001b[m\r\n",
      "\u001b[31m-      \"Your branch is up to date with 'origin/main'.\\r\\n\"\u001b[m\r\n",
      "\u001b[32m+\u001b[m\u001b[32m      \"On branch home_work_spiski_ADKazdym\\r\\n\",\u001b[m\r\n",
      "\u001b[32m+\u001b[m\u001b[32m      \"Your branch is up to date with 'origin/home_work_spiski_ADKazdym'.\\r\\n\",\u001b[m\r\n",
      "\u001b[32m+\u001b[m\u001b[32m      \"\\r\\n\",\u001b[m\r\n",
      "\u001b[32m+\u001b[m\u001b[32m      \"Changes to be committed:\\r\\n\",\u001b[m\r\n",
      "\u001b[32m+\u001b[m\u001b[32m      \"  (use \\\"git restore --staged <file>...\\\" to unstage)\\r\\n\",\u001b[m\r\n",
      "\u001b[32m+\u001b[m\u001b[32m      \"\\t\\u001b[32mmodified:   homework_spiski.ipynb\\u001b[m\\r\\n\",\u001b[m\r\n",
      "\u001b[32m+\u001b[m\u001b[32m      \"\\r\\n\",\u001b[m\r\n",
      "\u001b[32m+\u001b[m\u001b[32m      \"Changes not staged for commit:\\r\\n\",\u001b[m\r\n",
      "\u001b[32m+\u001b[m\u001b[32m      \"  (use \\\"git add <file>...\\\" to update what will be committed)\\r\\n\",\u001b[m\r\n",
      "\u001b[32m+\u001b[m\u001b[32m      \"  (use \\\"git restore <file>...\\\" to discard changes in working directory)\\r\\n\",\u001b[m\r\n",
      "\u001b[32m+\u001b[m\u001b[32m      \"\\t\\u001b[31mmodified:   domashka1.ipynb\\u001b[m\\r\\n\",\u001b[m\r\n",
      "\u001b[32m+\u001b[m\u001b[32m      \"\\r\\n\",\u001b[m\r\n",
      "\u001b[32m+\u001b[m\u001b[32m      \"Untracked files:\\r\\n\",\u001b[m\r\n",
      "\u001b[32m+\u001b[m\u001b[32m      \"  (use \\\"git add <file>...\\\" to include in what will be committed)\\r\\n\",\u001b[m\r\n",
      "\u001b[32m+\u001b[m\u001b[32m      \"\\t\\u001b[31ma2.txt\\u001b[m\\r\\n\",\u001b[m\r\n",
      "\u001b[32m+\u001b[m\u001b[32m      \"\\t\\u001b[31mgithub.ipynb\\u001b[m\\r\\n\",\u001b[m\r\n",
      "\u001b[32m+\u001b[m\u001b[32m      \"\\t\\u001b[31mhomework4.ipynb\\u001b[m\\r\\n\",\u001b[m\r\n",
      "\u001b[32m+\u001b[m\u001b[32m      \"\\r\\n\"\u001b[m\r\n",
      "      ]\u001b[m\r\n",
      "     }\u001b[m\r\n",
      "    ],\u001b[m\r\n",
      "    \"source\": [\u001b[m\r\n",
      "\u001b[31m-    \"!git add \"\u001b[m\r\n",
      "\u001b[32m+\u001b[m\u001b[32m    \"!git status\"\u001b[m\r\n",
      "    ]\u001b[m\r\n",
      "   },\u001b[m\r\n",
      "   {\u001b[m\r\n",
      "    \"cell_type\": \"code\",\u001b[m\r\n",
      "\u001b[31m-   \"execution_count\": 4,\u001b[m\r\n",
      "\u001b[31m-   \"id\": \"4159ff14\",\u001b[m\r\n",
      "\u001b[32m+\u001b[m\u001b[32m   \"execution_count\": 6,\u001b[m\r\n",
      "\u001b[32m+\u001b[m\u001b[32m   \"id\": \"b814207f\",\u001b[m\r\n",
      "    \"metadata\": {},\u001b[m\r\n",
      "    \"outputs\": [\u001b[m\r\n",
      "     {\u001b[m\r\n",
      "      \"name\": \"stdout\",\u001b[m\r\n",
      "      \"output_type\": \"stream\",\u001b[m\r\n",
      "      \"text\": [\u001b[m\r\n",
      "\u001b[31m-      \"Already up to date.\\r\\n\"\u001b[m\r\n",
      "\u001b[32m+\u001b[m\u001b[32m      \"[home_work_spiski_ADKazdym 400cefb] check homework_spiski\\r\\n\",\u001b[m\r\n",
      "\u001b[32m+\u001b[m\u001b[32m      \" 1 file changed, 268 insertions(+), 132 deletions(-)\\r\\n\"\u001b[m\r\n",
      "      ]\u001b[m\r\n",
      "     }\u001b[m\r\n",
      "    ],\u001b[m\r\n",
      "\u001b[31m-   \"source\": []\u001b[m\r\n",
      "\u001b[31m-  },\u001b[m\r\n",
      "\u001b[31m-  {\u001b[m\r\n",
      "\u001b[31m-   \"cell_type\": \"code\",\u001b[m\r\n",
      "\u001b[31m-   \"execution_count\": 5,\u001b[m\r\n",
      "\u001b[31m-   \"id\": \"b814207f\",\u001b[m\r\n",
      "\u001b[31m-   \"metadata\": {},\u001b[m\r\n",
      "\u001b[31m-   \"outputs\": [],\u001b[m\r\n",
      "\u001b[31m-   \"source\": []\u001b[m\r\n",
      "\u001b[32m+\u001b[m\u001b[32m   \"source\": [\u001b[m\r\n",
      "\u001b[32m+\u001b[m\u001b[32m    \"!git commit -m \\\"check homework_spiski\\\"\"\u001b[m\r\n",
      "\u001b[32m+\u001b[m\u001b[32m   ]\u001b[m\r\n",
      "   },\u001b[m\r\n",
      "   {\u001b[m\r\n",
      "    \"cell_type\": \"code\",\u001b[m\r\n",
      "\u001b[31m-   \"execution_count\": 6,\u001b[m\r\n",
      "\u001b[32m+\u001b[m\u001b[32m   \"execution_count\": 7,\u001b[m\r\n",
      "    \"id\": \"2e3b4037\",\u001b[m\r\n",
      "    \"metadata\": {},\u001b[m\r\n",
      "    \"outputs\": [\u001b[m\r\n",
      "\u001b[36m@@ -370,13 +391,21 @@\u001b[m\r\n",
      "      \"name\": \"stdout\",\u001b[m\r\n",
      "      \"output_type\": \"stream\",\u001b[m\r\n",
      "      \"text\": [\u001b[m\r\n",
      "\u001b[31m-      \"  home_work_1_adkazdym\\u001b[m\\r\\n\",\u001b[m\r\n",
      "\u001b[31m-      \"  home_work_spiski_ADKazdym\\u001b[m\\r\\n\",\u001b[m\r\n",
      "\u001b[31m-      \"* \\u001b[32mmain\\u001b[m\\r\\n\"\u001b[m\r\n",
      "\u001b[32m+\u001b[m\u001b[32m      \"Enumerating objects: 9, done.\\n\",\u001b[m\r\n",
      "\u001b[32m+\u001b[m\u001b[32m      \"Counting objects: 100% (9/9), done.\\n\",\u001b[m\r\n",
      "\u001b[32m+\u001b[m\u001b[32m      \"Delta compression using up to 2 threads\\n\",\u001b[m\r\n",
      "\u001b[32m+\u001b[m\u001b[32m      \"Compressing objects: 100% (5/5), done.\\n\",\u001b[m\r\n",
      "\u001b[32m+\u001b[m\u001b[32m      \"Writing objects: 100% (5/5), 2.31 KiB | 2.31 MiB/s, done.\\n\",\u001b[m\r\n",
      "\u001b[32m+\u001b[m\u001b[32m      \"Total 5 (delta 4), reused 0 (delta 0)\\n\",\u001b[m\r\n",
      "\u001b[32m+\u001b[m\u001b[32m      \"remote: Resolving deltas: 100% (4/4), completed with 4 local objects.\\u001b[K\\n\",\u001b[m\r\n",
      "\u001b[32m+\u001b[m\u001b[32m      \"To github.com:amtsu/team22.git\\n\",\u001b[m\r\n",
      "\u001b[32m+\u001b[m\u001b[32m      \"   3fd9745..400cefb  home_work_spiski_ADKazdym -> home_work_spiski_ADKazdym\\n\"\u001b[m\r\n",
      "      ]\u001b[m\r\n",
      "     }\u001b[m\r\n",
      "    ],\u001b[m\r\n",
      "\u001b[31m-   \"source\": []\u001b[m\r\n",
      "\u001b[32m+\u001b[m\u001b[32m   \"source\": [\u001b[m\r\n",
      "\u001b[32m+\u001b[m\u001b[32m    \"!git push\"\u001b[m\r\n",
      "\u001b[32m+\u001b[m\u001b[32m   ]\u001b[m\r\n",
      "   },\u001b[m\r\n",
      "   {\u001b[m\r\n",
      "    \"cell_type\": \"code\",\u001b[m\r\n"
     ]
    }
   ],
   "source": [
    "!git diff"
   ]
  },
  {
   "cell_type": "code",
   "execution_count": 9,
   "id": "69f5ee54",
   "metadata": {},
   "outputs": [
    {
     "name": "stdout",
     "output_type": "stream",
     "text": [
      "error: src refspec homework_spiski.ipynb does not match any\r\n",
      "\u001b[31merror: failed to push some refs to 'git@github.com:amtsu/team22.git'\r\n",
      "\u001b[m"
     ]
    }
   ],
   "source": [
    "!git push --set-upstream origin homework_spiski.ipynb"
   ]
  },
  {
   "cell_type": "code",
   "execution_count": 10,
   "id": "fd0c7ca9",
   "metadata": {},
   "outputs": [
    {
     "data": {
      "text/plain": [
       "'/home/jupyter-adkazdym/github/team22/users/ADKazdym'"
      ]
     },
     "execution_count": 10,
     "metadata": {},
     "output_type": "execute_result"
    }
   ],
   "source": [
    "pwd"
   ]
  },
  {
   "cell_type": "code",
   "execution_count": 12,
   "id": "3b655a08",
   "metadata": {},
   "outputs": [
    {
     "name": "stdout",
     "output_type": "stream",
     "text": [
      "error: Your local changes to the following files would be overwritten by checkout:\r\n",
      "\tusers/ADKazdym/domashka1.ipynb\r\n",
      "\tusers/ADKazdym/homework_spiski.ipynb\r\n",
      "Please commit your changes or stash them before you switch branches.\r\n",
      "Aborting\r\n"
     ]
    }
   ],
   "source": [
    "!git checkout main"
   ]
  },
  {
   "cell_type": "code",
   "execution_count": 21,
   "id": "cf502869",
   "metadata": {},
   "outputs": [],
   "source": [
    "!git add homework_spiski.ipynb"
   ]
  },
  {
   "cell_type": "code",
   "execution_count": 14,
   "id": "e24ee077",
   "metadata": {},
   "outputs": [
    {
     "name": "stdout",
     "output_type": "stream",
     "text": [
      "error: Your local changes to the following files would be overwritten by checkout:\r\n",
      "\tusers/ADKazdym/homework_spiski.ipynb\r\n",
      "Please commit your changes or stash them before you switch branches.\r\n",
      "error: Your local changes to the following files would be overwritten by checkout:\r\n",
      "\tusers/ADKazdym/domashka1.ipynb\r\n",
      "Please commit your changes or stash them before you switch branches.\r\n",
      "Aborting\r\n"
     ]
    }
   ],
   "source": [
    "!git checkout main"
   ]
  },
  {
   "cell_type": "code",
   "execution_count": 15,
   "id": "fb252d41",
   "metadata": {},
   "outputs": [
    {
     "name": "stdout",
     "output_type": "stream",
     "text": [
      "On branch home_work_spiski_ADKazdym\r\n",
      "Your branch is up to date with 'origin/home_work_spiski_ADKazdym'.\r\n",
      "\r\n",
      "Changes to be committed:\r\n",
      "  (use \"git restore --staged <file>...\" to unstage)\r\n",
      "\t\u001b[32mmodified:   homework_spiski.ipynb\u001b[m\r\n",
      "\r\n",
      "Changes not staged for commit:\r\n",
      "  (use \"git add <file>...\" to update what will be committed)\r\n",
      "  (use \"git restore <file>...\" to discard changes in working directory)\r\n",
      "\t\u001b[31mmodified:   domashka1.ipynb\u001b[m\r\n",
      "\r\n",
      "Untracked files:\r\n",
      "  (use \"git add <file>...\" to include in what will be committed)\r\n",
      "\t\u001b[31ma2.txt\u001b[m\r\n",
      "\t\u001b[31mgithub.ipynb\u001b[m\r\n",
      "\t\u001b[31mhomework4.ipynb\u001b[m\r\n",
      "\r\n"
     ]
    }
   ],
   "source": [
    "!git status"
   ]
  },
  {
   "cell_type": "code",
   "execution_count": 17,
   "id": "ea70ca9f",
   "metadata": {},
   "outputs": [],
   "source": [
    "!git add domashka1.ipynb"
   ]
  },
  {
   "cell_type": "code",
   "execution_count": 22,
   "id": "1a957e0e",
   "metadata": {},
   "outputs": [
    {
     "name": "stdout",
     "output_type": "stream",
     "text": [
      "[home_work_spiski_ADKazdym 55e9e49] check homework_spiski\r\n",
      " 1 file changed, 48 insertions(+), 18 deletions(-)\r\n"
     ]
    }
   ],
   "source": [
    "!git commit -m \"check homework_spiski\""
   ]
  },
  {
   "cell_type": "code",
   "execution_count": 20,
   "id": "b4624b41",
   "metadata": {},
   "outputs": [
    {
     "name": "stdout",
     "output_type": "stream",
     "text": [
      "Enumerating objects: 11, done.\n",
      "Counting objects: 100% (11/11), done.\n",
      "Delta compression using up to 2 threads\n",
      "Compressing objects: 100% (6/6), done.\n",
      "Writing objects: 100% (6/6), 2.61 KiB | 2.61 MiB/s, done.\n",
      "Total 6 (delta 4), reused 0 (delta 0)\n",
      "remote: Resolving deltas: 100% (4/4), completed with 4 local objects.\u001b[K\n",
      "To github.com:amtsu/team22.git\n",
      "   400cefb..4d24fec  home_work_spiski_ADKazdym -> home_work_spiski_ADKazdym\n",
      "Branch 'home_work_spiski_ADKazdym' set up to track remote branch 'home_work_spiski_ADKazdym' from 'origin'.\n"
     ]
    }
   ],
   "source": [
    "!git push --set-upstream origin home_work_spiski_ADKazdym"
   ]
  },
  {
   "cell_type": "code",
   "execution_count": 23,
   "id": "71d11661",
   "metadata": {},
   "outputs": [
    {
     "name": "stdout",
     "output_type": "stream",
     "text": [
      "On branch home_work_spiski_ADKazdym\r\n",
      "Your branch is ahead of 'origin/home_work_spiski_ADKazdym' by 1 commit.\r\n",
      "  (use \"git push\" to publish your local commits)\r\n",
      "\r\n",
      "Untracked files:\r\n",
      "  (use \"git add <file>...\" to include in what will be committed)\r\n",
      "\t\u001b[31ma2.txt\u001b[m\r\n",
      "\t\u001b[31mgithub.ipynb\u001b[m\r\n",
      "\t\u001b[31mhomework4.ipynb\u001b[m\r\n",
      "\r\n",
      "nothing added to commit but untracked files present (use \"git add\" to track)\r\n"
     ]
    }
   ],
   "source": [
    "!git status"
   ]
  },
  {
   "cell_type": "code",
   "execution_count": null,
   "id": "718d9a58",
   "metadata": {},
   "outputs": [],
   "source": []
  },
  {
   "cell_type": "code",
   "execution_count": null,
   "id": "65e77753",
   "metadata": {},
   "outputs": [],
   "source": []
  },
  {
   "cell_type": "code",
   "execution_count": null,
   "id": "2ceb80d9",
   "metadata": {},
   "outputs": [],
   "source": []
  },
  {
   "cell_type": "code",
   "execution_count": null,
   "id": "0c096951",
   "metadata": {},
   "outputs": [],
   "source": []
  },
  {
   "cell_type": "code",
   "execution_count": null,
   "id": "bee5aa73",
   "metadata": {},
   "outputs": [],
   "source": []
  }
 ],
 "metadata": {
  "kernelspec": {
   "display_name": "Python 3 (ipykernel)",
   "language": "python",
   "name": "python3"
  },
  "language_info": {
   "codemirror_mode": {
    "name": "ipython",
    "version": 3
   },
   "file_extension": ".py",
   "mimetype": "text/x-python",
   "name": "python",
   "nbconvert_exporter": "python",
   "pygments_lexer": "ipython3",
   "version": "3.9.7"
  }
 },
 "nbformat": 4,
 "nbformat_minor": 5
}
