{
 "cells": [
  {
   "cell_type": "code",
   "execution_count": 1,
   "id": "e81a35c6-589b-4809-8984-a46a651af5fa",
   "metadata": {},
   "outputs": [
    {
     "name": "stdout",
     "output_type": "stream",
     "text": [
      "Already on 'ADKazdym-hw-3-part-2'\n"
     ]
    }
   ],
   "source": [
    "!git checkout ADKazdym-hw-3-part-2"
   ]
  },
  {
   "cell_type": "code",
   "execution_count": 1,
   "id": "2b3bc786-f8cf-47c2-9d32-495db5925429",
   "metadata": {},
   "outputs": [
    {
     "name": "stdout",
     "output_type": "stream",
     "text": [
      "Switched to a new branch 'ADKazdym-hw-3-part-2'\n"
     ]
    }
   ],
   "source": [
    "!git checkout -b ADKazdym-hw-3-part-2"
   ]
  },
  {
   "cell_type": "markdown",
   "id": "3a3eed88-6ade-43c7-af40-5599f5b46c6d",
   "metadata": {},
   "source": [
    "Вычислить результат следующих операций:\n",
    "10 * (5 + 3)\n",
    "\n",
    "(20 - 6) / 2\n",
    "2 ** 5 (возведение 2 в 5-ю степень)\n",
    "25 // 4 (целая часть от деления)\n",
    "25 % 4 (остаток от деления)\n",
    "\n",
    "Дано дробное число:\n",
    "number = -3.14\n",
    "Выполнить следующие операции:\n",
    "Округлите число до целого.\n",
    "Возьмите остаток числа.\n",
    "\n",
    "Даны стороны прямоугольника: a = 5, b = 7.\n",
    "Вычислить площадь прямоугольника и вывести результат на экран.\n",
    "\n",
    "На какой объем воздуха должен быть расчитан кондиционер, если с его помощью хотят охлаждать квартиру в которой размер гостинной 3.5 на 6.4 метра, спальни 3.4 на 4 метра и площадь не жилой части 11 метров. При том что высота потолков 3,1 метр.\n",
    "\n",
    "Дано квадратное уравнение вида ax^2 + bx + c = 0.\n",
    "Найти его решения, используя формулу дискриминанта.\n",
    "a номер текущего месяца\n",
    "b номер вашей группы\n",
    "c минус десять (-10)\n",
    "\n",
    "\n",
    "Даны строки:\n",
    "string1 = \"hello, \"\n",
    "string2 = \"world!\"\n",
    "Объединить строки string1 и string2 и результат вывести на экран так чтобы первая буква в предложении стала заглавной.\n",
    "\n",
    "Сколько символов было в предыдущей строке?\n",
    "\n",
    "Выведите на экран строку la 25 раз.\n",
    "\n",
    "Дан список чисел:\n",
    "numbers = [1, 2, 3, 4, 5]\n",
    "Выполнить следующие операции:\n",
    "1. Измените число 2 на строку \"hi\" \n",
    "2. Выведите значение, находящееся на позиции 2.\n",
    "3. Изменить значение на позиции 4 на список из 3 элементов [8, 6, 4].\n",
    "Результаты вывести на экран.\n",
    "\n",
    "Дан список чисел:\n",
    "numbers = [1, 2, 3, 4, 5, 6, 7, 8, 9, 10]\n",
    "Извлеките подсписок с 3-го по 7-й элемент включительно."
   ]
  },
  {
   "cell_type": "code",
   "execution_count": 2,
   "id": "ee45f885-cbdb-40b7-ba33-b1c58dd5730e",
   "metadata": {},
   "outputs": [
    {
     "data": {
      "text/plain": [
       "80"
      ]
     },
     "execution_count": 2,
     "metadata": {},
     "output_type": "execute_result"
    }
   ],
   "source": [
    "10 * ( 5 + 3)"
   ]
  },
  {
   "cell_type": "code",
   "execution_count": 3,
   "id": "c62a748a-3802-41a8-9157-65d63223c238",
   "metadata": {},
   "outputs": [
    {
     "data": {
      "text/plain": [
       "7.0"
      ]
     },
     "execution_count": 3,
     "metadata": {},
     "output_type": "execute_result"
    }
   ],
   "source": [
    "(20 - 6 ) / 2"
   ]
  },
  {
   "cell_type": "code",
   "execution_count": 4,
   "id": "5542cd50-eb0c-4af1-add9-d6593ac10d0e",
   "metadata": {},
   "outputs": [
    {
     "data": {
      "text/plain": [
       "32"
      ]
     },
     "execution_count": 4,
     "metadata": {},
     "output_type": "execute_result"
    }
   ],
   "source": [
    "2 ** 5"
   ]
  },
  {
   "cell_type": "code",
   "execution_count": 5,
   "id": "51b6a40b-c9cd-49b1-bf80-083b081f5fe3",
   "metadata": {},
   "outputs": [
    {
     "data": {
      "text/plain": [
       "6"
      ]
     },
     "execution_count": 5,
     "metadata": {},
     "output_type": "execute_result"
    }
   ],
   "source": [
    "25 // 4"
   ]
  },
  {
   "cell_type": "code",
   "execution_count": 6,
   "id": "1d4c0d0f-a2bb-42e9-812e-0c9a2cfac5f2",
   "metadata": {},
   "outputs": [
    {
     "data": {
      "text/plain": [
       "1"
      ]
     },
     "execution_count": 6,
     "metadata": {},
     "output_type": "execute_result"
    }
   ],
   "source": [
    "25 % 4"
   ]
  },
  {
   "cell_type": "code",
   "execution_count": 9,
   "id": "2fad965f-2721-47ed-b2e0-1d84fd10562c",
   "metadata": {},
   "outputs": [],
   "source": [
    "number = -3.14"
   ]
  },
  {
   "cell_type": "code",
   "execution_count": 11,
   "id": "32080809-3d5f-48c8-a511-68a1f6140f30",
   "metadata": {},
   "outputs": [],
   "source": [
    "x=round(number)"
   ]
  },
  {
   "cell_type": "code",
   "execution_count": 12,
   "id": "7055d4c0-bde8-45f7-aacb-2d68d8602a97",
   "metadata": {},
   "outputs": [],
   "source": [
    "ostatok = number - x \n"
   ]
  },
  {
   "cell_type": "code",
   "execution_count": 13,
   "id": "31c63f0b-99b6-44b1-b839-c43451dc146a",
   "metadata": {},
   "outputs": [
    {
     "name": "stdout",
     "output_type": "stream",
     "text": [
      "-0.14000000000000012\n"
     ]
    }
   ],
   "source": [
    "print(ostatok)"
   ]
  },
  {
   "cell_type": "markdown",
   "id": "9bb360e5-4f8b-4e7a-92ca-cbe65fa56b3e",
   "metadata": {},
   "source": [
    "Даны стороны прямоугольника: a = 5, b = 7.\n",
    "Вычислить площадь прямоугольника и вывести результат на экран."
   ]
  },
  {
   "cell_type": "code",
   "execution_count": 14,
   "id": "5497651f-a743-4044-92d9-a4e731bc5f65",
   "metadata": {},
   "outputs": [
    {
     "name": "stdout",
     "output_type": "stream",
     "text": [
      "35\n"
     ]
    }
   ],
   "source": [
    "a = 5\n",
    "b = 7 \n",
    "sqr = a * b\n",
    "print(sqr)"
   ]
  },
  {
   "cell_type": "markdown",
   "id": "6e893f54-f12e-46fd-89db-6bc4574a94e7",
   "metadata": {},
   "source": [
    "На какой объем воздуха должен быть расчитан кондиционер, если с его помощью хотят охлаждать квартиру в которой размер гостинной 3.5 на 6.4 метра, спальни 3.4 на 4 метра и площадь не жилой части 11 метров. При том что высота потолков 3,1 метр.\n"
   ]
  },
  {
   "cell_type": "code",
   "execution_count": 15,
   "id": "4399b6db-727b-4252-ba26-5732bf653761",
   "metadata": {},
   "outputs": [
    {
     "name": "stdout",
     "output_type": "stream",
     "text": [
      "145.70000000000002\n"
     ]
    }
   ],
   "source": [
    "gostinaia = 3.5 * 6.4 * 3.1\n",
    "spalnya = 3.4 * 4 * 3.1\n",
    "nejiloe = 11 * 3.1\n",
    "kvartira = gostinaia + spalnya + nejiloe\n",
    "print(kvartira)"
   ]
  },
  {
   "cell_type": "code",
   "execution_count": null,
   "id": "b8a40a12-399f-44f5-91aa-fb21689453b5",
   "metadata": {},
   "outputs": [],
   "source": []
  },
  {
   "cell_type": "markdown",
   "id": "59f99ce7-c2dd-492f-8f3c-c65e14c37343",
   "metadata": {},
   "source": [
    "\n",
    "\n",
    "Дано квадратное уравнение вида ax^2 + bx + c = 0.\n",
    "Найти его решения, используя формулу дискриминанта.\n",
    "a номер текущего месяца\n",
    "b номер вашей группы\n",
    "c минус десять (-10)\n",
    "\n",
    "\n"
   ]
  },
  {
   "cell_type": "code",
   "execution_count": 16,
   "id": "27d4ff21-97bc-4178-8081-e8c6af970f2c",
   "metadata": {},
   "outputs": [
    {
     "name": "stdout",
     "output_type": "stream",
     "text": [
      "116\n"
     ]
    }
   ],
   "source": [
    "a = 2\n",
    "b = 6\n",
    "c = -10\n",
    "d = (b ** 2) - (4 * a * c)\n",
    "print(d)"
   ]
  },
  {
   "cell_type": "code",
   "execution_count": 21,
   "id": "a8cf7c6c-6f7b-4c18-b590-87e3b1020567",
   "metadata": {},
   "outputs": [
    {
     "name": "stdout",
     "output_type": "stream",
     "text": [
      "4.7703296142690075 -16.77032961426901\n"
     ]
    }
   ],
   "source": [
    "x1 = (-b + (d ** 0.5)) / 2 * a\n",
    "x2 = (-b - (d ** 0.5)) / 2 * a\n",
    "print(x1,x2)"
   ]
  },
  {
   "cell_type": "code",
   "execution_count": null,
   "id": "941249ed-79b6-4aa2-89df-91f830765401",
   "metadata": {},
   "outputs": [],
   "source": []
  },
  {
   "cell_type": "markdown",
   "id": "98419990-b7af-4d02-bedc-fac6376b88df",
   "metadata": {},
   "source": [
    "\n",
    "Даны строки:\n",
    "string1 = \"hello, \"\n",
    "string2 = \"world!\"\n",
    "Объединить строки string1 и string2 и результат вывести на экран так чтобы первая буква в предложении стала заглавной.\n",
    "\n",
    "Сколько символов было в предыдущей строке?\n",
    "\n",
    "Выведите на экран строку la 25 раз.\n",
    "\n",
    "Дан список чисел:\n",
    "numbers = [1, 2, 3, 4, 5]\n",
    "Выполнить следующие операции:\n",
    "1. Измените число 2 на строку \"hi\" \n",
    "2. Выведите значение, находящееся на позиции 2.\n",
    "3. Изменить значение на позиции 4 на список из 3 элементов [8, 6, 4].\n",
    "Результаты вывести на экран.\n",
    "\n",
    "Дан список чисел:\n",
    "numbers = [1, 2, 3, 4, 5, 6, 7, 8, 9, 10]\n",
    "Извлеките подсписок с 3-го по 7-й элемент включительно."
   ]
  },
  {
   "cell_type": "code",
   "execution_count": 23,
   "id": "3b46f378-3ed6-4950-8649-817c6e4bbcba",
   "metadata": {},
   "outputs": [
    {
     "name": "stdout",
     "output_type": "stream",
     "text": [
      "Hello, world!\n"
     ]
    }
   ],
   "source": [
    "string1 = \"hello, \"\n",
    "string2 = \"world!\"\n",
    "string = (string1 + string2).capitalize()\n",
    "print(string)"
   ]
  },
  {
   "cell_type": "code",
   "execution_count": 24,
   "id": "d791e0f8-d01f-4550-9d68-869a0208fbf5",
   "metadata": {},
   "outputs": [
    {
     "data": {
      "text/plain": [
       "13"
      ]
     },
     "execution_count": 24,
     "metadata": {},
     "output_type": "execute_result"
    }
   ],
   "source": [
    "len(string)"
   ]
  },
  {
   "cell_type": "code",
   "execution_count": 26,
   "id": "8e1b230d-298a-4101-848c-877399f80185",
   "metadata": {},
   "outputs": [
    {
     "name": "stdout",
     "output_type": "stream",
     "text": [
      "lalalalalalalalalalalalalalalalalalalalalalalalala\n"
     ]
    }
   ],
   "source": [
    "print(25* \"la\")"
   ]
  },
  {
   "cell_type": "code",
   "execution_count": 27,
   "id": "57ac9d5e-f747-4bf3-8977-f1ea408f32be",
   "metadata": {},
   "outputs": [],
   "source": [
    "numbers = [1, 2, 3, 4, 5]"
   ]
  },
  {
   "cell_type": "code",
   "execution_count": 37,
   "id": "80266782-7dba-4731-9d35-7f200b1eb3ca",
   "metadata": {},
   "outputs": [
    {
     "name": "stdout",
     "output_type": "stream",
     "text": [
      "3\n",
      "[1, 'hi', 3, 4, [8, 6, 4]]\n"
     ]
    }
   ],
   "source": [
    "numbers[1] = \"hi\"\n",
    "print(numbers[2])\n",
    "numbers[4] = [8, 6, 4]\n",
    "print(numbers)"
   ]
  },
  {
   "cell_type": "code",
   "execution_count": null,
   "id": "7c2159f6-ee7b-49a5-bf90-8d811bf8786a",
   "metadata": {},
   "outputs": [],
   "source": []
  },
  {
   "cell_type": "code",
   "execution_count": null,
   "id": "c2d0b23f-d3b3-4329-b90a-5b4f6f6c4f37",
   "metadata": {},
   "outputs": [],
   "source": []
  }
 ],
 "metadata": {
  "kernelspec": {
   "display_name": "Python 3 (ipykernel)",
   "language": "python",
   "name": "python3"
  },
  "language_info": {
   "codemirror_mode": {
    "name": "ipython",
    "version": 3
   },
   "file_extension": ".py",
   "mimetype": "text/x-python",
   "name": "python",
   "nbconvert_exporter": "python",
   "pygments_lexer": "ipython3",
   "version": "3.10.10"
  }
 },
 "nbformat": 4,
 "nbformat_minor": 5
}
