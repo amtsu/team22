{
 "cells": [
  {
   "cell_type": "markdown",
   "id": "a4e137f9-7e0f-4173-9d0a-4d96cf825d0b",
   "metadata": {},
   "source": [
    "Домашнее задание №4. Списки и операции с ними.\r\n",
    "\r\n",
    "Задание 1. выполните следующий код \r\n",
    "list_one = [1, 2, 3, 4, 5, 6, 9]\r\n",
    "list_two = [1, 2, 3, 4, 5, 6, 9]\r\n",
    "list_two.append(789)\r\n",
    "print(list_one, list_two, sep='\\n')\r\n",
    "затем выполните код \r\n",
    "list_one = [1, 2, 3, 4, 5, 6, 9]\r\n",
    "list_two = list_one\r\n",
    "list_two.append(789)\r\n",
    "print(list_one, list_two, sep='\\n')\r\n",
    "\r\n",
    "запишите объяснения разницы в выполнении кода в переменную differencбовать стоит)"
   ]
  },
  {
   "cell_type": "code",
   "execution_count": 23,
   "id": "6031c80b-5c56-46a1-9d95-fa4425f5729d",
   "metadata": {},
   "outputs": [
    {
     "name": "stdout",
     "output_type": "stream",
     "text": [
      "[1, 2, 3, 4, 5, 6, 9]\n",
      "[1, 2, 3, 4, 5, 6, 9, 789]\n"
     ]
    }
   ],
   "source": [
    "list_one = [1, 2, 3, 4, 5, 6, 9]\n",
    "list_two = [1, 2, 3, 4, 5, 6, 9]\n",
    "list_two.append(789)\n",
    "print(list_one, list_two, sep='\\n')"
   ]
  },
  {
   "cell_type": "code",
   "execution_count": 22,
   "id": "a7e6edc1-b7ab-4a28-9dd5-0961161691a9",
   "metadata": {
    "scrolled": true
   },
   "outputs": [
    {
     "name": "stdout",
     "output_type": "stream",
     "text": [
      "[1, 2, 3, 4, 5, 6, 9, 789]\n",
      "[1, 2, 3, 4, 5, 6, 9, 789]\n"
     ]
    }
   ],
   "source": [
    "list_one = [1, 2, 3, 4, 5, 6, 9]\n",
    "list_two = list_one\n",
    "list_two.append(789)\n",
    "print(list_one, list_two, sep='\\n')"
   ]
  },
  {
   "cell_type": "code",
   "execution_count": null,
   "id": "f0aaab0e-3476-4dc9-af4e-777a73cb59c7",
   "metadata": {},
   "outputs": [],
   "source": [
    "difference_explanation = \"в первом списке добавилось 789 только во второй список, так как во втором варианте переменные list_one = list_two и 789 добавилось в оба списка\""
   ]
  },
  {
   "cell_type": "code",
   "execution_count": null,
   "id": "e32d6114-adc2-49b9-beed-58811716e841",
   "metadata": {},
   "outputs": [],
   "source": []
  },
  {
   "cell_type": "markdown",
   "id": "b569e2be-0609-4e27-891f-90fe0ea8a41c",
   "metadata": {},
   "source": [
    "#решение можно писать тут\n",
    "Задание 2. Задайте переменную a_poem типа строка, со следующим содержимым: \n",
    "За стеклом лежал Питон,\n",
    "Большой и толстый, как батон.\n",
    "Вверх пополз,\n",
    "Затем вернулся,\n",
    "Круглым бубликом свернулся.\n",
    "\n",
    "Создайте переменную a_list типа список, заполнив ее содержимым строки a_poem так, чтобы каждый символ строки a_poem стал отдельным элементом списка a_list\n",
    "Создайте переменную another_list типа список, заполнив ее содержимым строки a_poem так, чтобы каждое слово строки a_poem стал отдельным элементом списка another_list. Знаки препинания прилипнут к словам, не страшно.\n",
    "Выведите на экран элементы и их количество для списков a_list и another_list.\n",
    "Создайте переменную one_more_list типа список, каждым элементом которой является отдельная строка строфы из a_poem. Выведите на экран элементы one_more_list и их количество.\n",
    "#решение можно писать тут\n"
   ]
  },
  {
   "cell_type": "code",
   "execution_count": 24,
   "id": "a6400982-d97c-4d02-9eb9-e81e5d610c72",
   "metadata": {},
   "outputs": [],
   "source": [
    "a_poem = '''За стеклом лежал Питон,\n",
    "Большой и толстый, как батон.\n",
    "Вверх пополз,\n",
    "Затем вернулся,\n",
    "Круглым бубликом свернулся.'''\n",
    "\n",
    "\n"
   ]
  },
  {
   "cell_type": "code",
   "execution_count": 25,
   "id": "287a7ac0-5b3c-484e-ad13-3fdd7e095b90",
   "metadata": {},
   "outputs": [
    {
     "name": "stdout",
     "output_type": "stream",
     "text": [
      "['З', 'а', ' ', 'с', 'т', 'е', 'к', 'л', 'о', 'м', ' ', 'л', 'е', 'ж', 'а', 'л', ' ', 'П', 'и', 'т', 'о', 'н', ',', '\\n', 'Б', 'о', 'л', 'ь', 'ш', 'о', 'й', ' ', 'и', ' ', 'т', 'о', 'л', 'с', 'т', 'ы', 'й', ',', ' ', 'к', 'а', 'к', ' ', 'б', 'а', 'т', 'о', 'н', '.', '\\n', 'В', 'в', 'е', 'р', 'х', ' ', 'п', 'о', 'п', 'о', 'л', 'з', ',', '\\n', 'З', 'а', 'т', 'е', 'м', ' ', 'в', 'е', 'р', 'н', 'у', 'л', 'с', 'я', ',', '\\n', 'К', 'р', 'у', 'г', 'л', 'ы', 'м', ' ', 'б', 'у', 'б', 'л', 'и', 'к', 'о', 'м', ' ', 'с', 'в', 'е', 'р', 'н', 'у', 'л', 'с', 'я', '.']\n"
     ]
    }
   ],
   "source": [
    "#a_list = list(a_poem)\n",
    "print(a_list)#"
   ]
  },
  {
   "cell_type": "code",
   "execution_count": 26,
   "id": "c938fd0d-1d5b-4560-8287-f65ceb981d62",
   "metadata": {},
   "outputs": [
    {
     "data": {
      "text/plain": [
       "['За',\n",
       " 'стеклом',\n",
       " 'лежал',\n",
       " 'Питон,',\n",
       " 'Большой',\n",
       " 'и',\n",
       " 'толстый,',\n",
       " 'как',\n",
       " 'батон.',\n",
       " 'Вверх',\n",
       " 'пополз,',\n",
       " 'Затем',\n",
       " 'вернулся,',\n",
       " 'Круглым',\n",
       " 'бубликом',\n",
       " 'свернулся.']"
      ]
     },
     "execution_count": 26,
     "metadata": {},
     "output_type": "execute_result"
    }
   ],
   "source": [
    "a_poem.split()"
   ]
  },
  {
   "cell_type": "code",
   "execution_count": null,
   "id": "37855e70-cd99-4d3a-a8b1-5042e7284793",
   "metadata": {},
   "outputs": [],
   "source": []
  },
  {
   "cell_type": "markdown",
   "id": "e8906f71-8885-45c8-a21f-48c9374c69e5",
   "metadata": {},
   "source": [
    "Задание 3.\n",
    "\n",
    "Создайте список solyanka_list, в качестве его элементов добавьте значения каждого из известных вам типов данных python.\n",
    "Выведите на экран содержимое списка solyanka_list.\n",
    "Посчитайте количество элементов списка solyanka_list.\n",
    "Выведите на экран тип пятого от начала списка элемента.\n",
    "Добавьте в конец списка solyanka_list элемент типа \"список\" из одного элемента\n",
    "Выведите на экран тип последнего элемента списка solyanka_list\n",
    "#решение можно писать тут\n"
   ]
  },
  {
   "cell_type": "code",
   "execution_count": 3,
   "id": "bcd5e6a8-01d6-40a5-9c38-8f32ce87a79c",
   "metadata": {},
   "outputs": [
    {
     "name": "stdout",
     "output_type": "stream",
     "text": [
      "[1, 1.0, 1, 'privet', True, [1], {1: 1}]\n",
      "7\n",
      "True\n",
      "<class 'list'>\n"
     ]
    }
   ],
   "source": [
    "solyanka_list = [1 , 1.0, (1), \"privet\", True, [1], {1:1}]\n",
    "print(solyanka_list)\n",
    "print(len(solyanka_list))\n",
    "print(solyanka_list[4])\n",
    "solyanka_list.append([1])\n",
    "print(type(solyanka_list[-1]))"
   ]
  },
  {
   "cell_type": "code",
   "execution_count": null,
   "id": "45937f86-69e4-4288-893d-7620386a51b8",
   "metadata": {},
   "outputs": [],
   "source": []
  },
  {
   "cell_type": "markdown",
   "id": "d63ea070-2bb9-4004-b0e7-17e26cd86b98",
   "metadata": {},
   "source": [
    "Задание 4. Дана последовательности чисел Фибоначчи из нескольких элементов: \n",
    "0, 1, 1, 2, 3, 5, 8, 13, 21, 34, 55, 89, 144, 233, 377, 610, 987, 1597, 2584, 4181, 6765, 10946, 17711\n",
    "\n",
    "Создайте список fibonacci_list, элементами которого будут числа Фибонначи из задания.\n",
    "Посчитайте и выведите на экран, сколько чисел Фибоначчи в последовательности из задания\n",
    "Посчитайте и выведите на экран, сколько раз число 1 входит в заданную последовательность Фибоначчи.\n",
    "Проверьте и выведите на экран результат, является ли число 21 числом Фибоначчи. Число 33? Число 987? число 9999? использование оператора if возможно, но не является необходимым\n",
    "#решение можно писать тут\n"
   ]
  },
  {
   "cell_type": "code",
   "execution_count": 5,
   "id": "8513ad07-6faa-4c12-a14f-c457f8b4d9e1",
   "metadata": {},
   "outputs": [
    {
     "name": "stdout",
     "output_type": "stream",
     "text": [
      "23\n",
      "2\n",
      "True\n",
      "False\n",
      "True\n",
      "False\n"
     ]
    }
   ],
   "source": [
    "fibonacci_list = [0, 1, 1, 2, 3, 5, 8, 13, 21, 34, 55, 89, 144, 233, 377, 610, 987, 1597, 2584, 4181, 6765, 10946, 17711]\n",
    "print(len(fibonacci_list))\n",
    "print(fibonacci_list.count(1))\n",
    "print( 21 in fibonacci_list)\n",
    "print( 33 in fibonacci_list)\n",
    "print( 987 in fibonacci_list)\n",
    "print( 9999 in fibonacci_list)"
   ]
  },
  {
   "cell_type": "code",
   "execution_count": null,
   "id": "c7a7be37-981c-4883-abe4-01d2c7d7b1cf",
   "metadata": {},
   "outputs": [],
   "source": []
  },
  {
   "cell_type": "markdown",
   "id": "f4a07fde-a50d-45b5-bd94-2d8e15b2d23e",
   "metadata": {},
   "source": [
    "Задание 5. Задайте переменную a_list типа \"список\" со следующим содержимым: \n",
    "1,2,5,4,3,6\n",
    "\n",
    "выведите содержимое a_list на экран\n",
    "поменяйте местами третий и пятый элементы a_list и выведите результат на экран\n",
    "#решение можно писать тут\n"
   ]
  },
  {
   "cell_type": "code",
   "execution_count": 6,
   "id": "33f4d654-4b7e-4800-9433-34436b9ee5fa",
   "metadata": {},
   "outputs": [
    {
     "name": "stdout",
     "output_type": "stream",
     "text": [
      "[1, 2, 5, 4, 3, 6]\n"
     ]
    }
   ],
   "source": [
    "a_list = [1, 2, 5, 4, 3, 6]\n",
    "print(a_list)\n"
   ]
  },
  {
   "cell_type": "code",
   "execution_count": 7,
   "id": "1061ec90-1e11-4cd9-a140-d43ae2f68d98",
   "metadata": {},
   "outputs": [
    {
     "name": "stdout",
     "output_type": "stream",
     "text": [
      "[1, 2, 3, 4, 5, 6]\n"
     ]
    }
   ],
   "source": [
    "a_list[2:5] = [3, 4, 5]\n",
    "print(a_list)"
   ]
  },
  {
   "cell_type": "markdown",
   "id": "0fefe242-1468-4cdb-a6a5-706348474bb8",
   "metadata": {},
   "source": [
    "Задание 6. Кто-то перепутал строчки в стихотворении, хорошо что они были пронумерованы. \n",
    "(2, \"тот большего добьётся,\" )\n",
    "(5, \"Кто умирал, тот знает, что живёт.\")\n",
    "(1, \"Кто битым жизнью был,\" )\n",
    "(3, \"Пуд соли съевший выше ценит мёд.\")\n",
    "(4, \"Кто слёзы лил, тот искренней смеётся,\")\n",
    "выведите на экран строки Омара Хайама в правильном порядке, используя список.\n",
    "\n",
    "#решение можно писать тут\n"
   ]
  },
  {
   "cell_type": "code",
   "execution_count": 28,
   "id": "a9f806d0-e5c1-4450-82a5-383e15c31ee2",
   "metadata": {},
   "outputs": [
    {
     "name": "stdout",
     "output_type": "stream",
     "text": [
      "[(1, 'Кто битым жизнью был,'), (2, 'тот большего добьётся,'), (3, 'Пуд соли съевший выше ценит мёд.'), (4, 'Кто слёзы лил, тот искренней смеётся,'), (5, 'Кто умирал, тот знает, что живёт.')]\n"
     ]
    }
   ],
   "source": [
    "omar = [(2, \"тот большего добьётся,\" ), (5, \"Кто умирал, тот знает, что живёт.\"), (1, \"Кто битым жизнью был,\" ), (3, \"Пуд соли съевший выше ценит мёд.\"), (4, \"Кто слёзы лил, тот искренней смеётся,\"), ]\n",
    "omar.sort()\n",
    "print(omar)"
   ]
  },
  {
   "cell_type": "code",
   "execution_count": null,
   "id": "5a7a2508-d6c7-488e-9dbe-a690b3239370",
   "metadata": {},
   "outputs": [],
   "source": []
  },
  {
   "cell_type": "markdown",
   "id": "87439a27-cb64-4165-8fc4-63128c6306a2",
   "metadata": {},
   "source": [
    "Задание 7. \n",
    "Кто битым за дедлайн был,\n",
    "тот больше не сольется.\n",
    "Пуд багов съевший, выше ценит чистый код.\n",
    "Кто дошик ел, тот рейтинг ценит свой.\n",
    "Кто крашился, тот знает, что живой.\n",
    "В данном задании после каждой операции выводите на экран содержимое true_story_list и количество его элементов.\n",
    "\n",
    "Создайте переменную true_story_list типа список, занесите в неё третью строку из стихотворения выше.\n",
    "Добавьте четвертую строку в конец списка true_story_list.\n",
    "Создайте переменную true_story_slice типа сtrписок, занесите в неё четвертую и пятую строки из стихотворения выше. Добавьте содержимое true_story_slice как один последний элемент списка true_story_list.\n",
    "Очистите весь список true_story_slice, выведите его содержимое на экран.\n",
    "Добавьте первую строку из стихотворение в начало списка true_story_list\n",
    "Удалите последний элемент списка true_story_list\n",
    "Добавьте вторым элементом списка true_story_list вторую строчку стихотворения\n",
    "Создайте переменную true_story_tail типа список, занесите в него пятую строку стихотворения дважды. Скопируйте элементы списка true_story_tail в конец списка true_story_list.\n",
    "Удалите 5 элемент списка true_story_list.\n",
    "*Выведите список true_story_list красиво в виде стихотворения. (кажется, это ещё не проходили, но попробовать стоит)"
   ]
  },
  {
   "cell_type": "code",
   "execution_count": 83,
   "id": "8031c4f7-6fb2-431c-8938-e1321c9072e3",
   "metadata": {},
   "outputs": [
    {
     "name": "stdout",
     "output_type": "stream",
     "text": [
      "1\n",
      "['Пуд багов съевший, выше ценит чистый код.']\n"
     ]
    }
   ],
   "source": [
    "true_story_list = [\"Пуд багов съевший, выше ценит чистый код.\"]\n",
    "print(len(true_story_list))\n",
    "print(true_story_list)"
   ]
  },
  {
   "cell_type": "code",
   "execution_count": 84,
   "id": "37587723-e1fe-42ef-9359-9ba09a91375e",
   "metadata": {},
   "outputs": [
    {
     "name": "stdout",
     "output_type": "stream",
     "text": [
      "['Пуд багов съевший, выше ценит чистый код.', 'Кто дошик ел, тот рейтинг ценит свой.']\n",
      "2\n"
     ]
    }
   ],
   "source": [
    "true_story_list.append(\"Кто дошик ел, тот рейтинг ценит свой.\")\n",
    "print(true_story_list)\n",
    "print(len(true_story_list))"
   ]
  },
  {
   "cell_type": "code",
   "execution_count": 85,
   "id": "a149c884-d927-49cd-b5d8-35264f4c6201",
   "metadata": {},
   "outputs": [
    {
     "name": "stdout",
     "output_type": "stream",
     "text": [
      "['Пуд багов съевший, выше ценит чистый код.', 'Кто дошик ел, тот рейтинг ценит свой.', ['Кто дошик ел, тот рейтинг ценит свой, Кто крашился, тот знает, что живой.']]\n"
     ]
    }
   ],
   "source": [
    "true_story_slice=[]\n",
    "true_story_slice = [\"Кто дошик ел, тот рейтинг ценит свой, Кто крашился, тот знает, что живой.\"]\n",
    "true_story_list.append(true_story_slice)\n",
    "print(true_story_list)"
   ]
  },
  {
   "cell_type": "code",
   "execution_count": 86,
   "id": "af6952fb-f73c-4565-aa91-0b677a43e3d6",
   "metadata": {},
   "outputs": [
    {
     "name": "stdout",
     "output_type": "stream",
     "text": [
      "[]\n"
     ]
    }
   ],
   "source": [
    "true_story_slice.clear()\n",
    "print(true_story_slice)"
   ]
  },
  {
   "cell_type": "code",
   "execution_count": 87,
   "id": "1ebece55-694e-471b-9859-a4c860970724",
   "metadata": {},
   "outputs": [
    {
     "name": "stdout",
     "output_type": "stream",
     "text": [
      "['Кто битым за дедлайн был', 'Пуд багов съевший, выше ценит чистый код.', 'Кто дошик ел, тот рейтинг ценит свой.', []]\n",
      "4\n"
     ]
    }
   ],
   "source": [
    "true_story_list.insert(0,\"Кто битым за дедлайн был\")\n",
    "print(true_story_list)\n",
    "print(len(true_story_list))"
   ]
  },
  {
   "cell_type": "code",
   "execution_count": 88,
   "id": "bef707c5-a450-4036-93c5-e4d94edefb6a",
   "metadata": {},
   "outputs": [
    {
     "name": "stdout",
     "output_type": "stream",
     "text": [
      "['Кто битым за дедлайн был', 'Пуд багов съевший, выше ценит чистый код.', 'Кто дошик ел, тот рейтинг ценит свой.']\n",
      "3\n"
     ]
    }
   ],
   "source": [
    "del true_story_list[3]\n",
    "print(true_story_list)\n",
    "print(len(true_story_list))"
   ]
  },
  {
   "cell_type": "code",
   "execution_count": 89,
   "id": "3150c3b1-8c7a-4824-86fd-5bc72799ed6c",
   "metadata": {},
   "outputs": [
    {
     "name": "stdout",
     "output_type": "stream",
     "text": [
      "['Кто битым за дедлайн был', 'тот больше не сольется.', 'Пуд багов съевший, выше ценит чистый код.', 'Кто дошик ел, тот рейтинг ценит свой.']\n",
      "4\n"
     ]
    }
   ],
   "source": [
    "true_story_list.insert(1,\"тот больше не сольется.\")\n",
    "print(true_story_list)\n",
    "print(len(true_story_list))"
   ]
  },
  {
   "cell_type": "code",
   "execution_count": 90,
   "id": "714aee71-1157-4712-bc7a-d6e809ab121c",
   "metadata": {},
   "outputs": [
    {
     "name": "stdout",
     "output_type": "stream",
     "text": [
      "['Кто битым за дедлайн был', 'тот больше не сольется.', 'Пуд багов съевший, выше ценит чистый код.', 'Кто дошик ел, тот рейтинг ценит свой.', 'Кто крашился, тот знает, что живой', 'Кто крашился, тот знает, что живой']\n",
      "6\n"
     ]
    }
   ],
   "source": [
    "true_story_tail = [ \"Кто крашился, тот знает, что живой\" , \"Кто крашился, тот знает, что живой\"]\n",
    "true_story_list.extend(true_story_tail)\n",
    "print(true_story_list)\n",
    "print(len(true_story_list))"
   ]
  },
  {
   "cell_type": "code",
   "execution_count": 91,
   "id": "827aa1f6-3f6f-460a-bbaf-0ba5b0b2f128",
   "metadata": {},
   "outputs": [
    {
     "name": "stdout",
     "output_type": "stream",
     "text": [
      "['Кто битым за дедлайн был', 'тот больше не сольется.', 'Пуд багов съевший, выше ценит чистый код.', 'Кто дошик ел, тот рейтинг ценит свой.', 'Кто крашился, тот знает, что живой']\n",
      "5\n"
     ]
    }
   ],
   "source": [
    "del true_story_list[5]\n",
    "print(true_story_list)\n",
    "print(len(true_story_list))"
   ]
  },
  {
   "cell_type": "markdown",
   "id": "0a14f506-e85e-44f4-a310-786ca15dd050",
   "metadata": {},
   "source": [
    "как вывести стихотворением не допер"
   ]
  },
  {
   "cell_type": "code",
   "execution_count": null,
   "id": "d0c22a6f-d1fa-4db4-9660-aa8a3ac57d3a",
   "metadata": {},
   "outputs": [],
   "source": []
  },
  {
   "cell_type": "code",
   "execution_count": 10,
   "id": "3f3ae5e8-6f27-4546-b650-e139d93b7904",
   "metadata": {},
   "outputs": [
    {
     "name": "stdout",
     "output_type": "stream",
     "text": [
      "On branch main\n",
      "Your branch is up to date with 'origin/main'.\n",
      "\n",
      "Untracked files:\n",
      "  (use \"git add <file>...\" to include in what will be committed)\n",
      "\t\u001b[31mADKazdym/exercise/hw-4/\u001b[m\n",
      "\n",
      "nothing added to commit but untracked files present (use \"git add\" to track)\n",
      "Already on 'main'\n",
      "Your branch is up to date with 'origin/main'.\n",
      "No local changes to save\n",
      "Already on 'main'\n",
      "Your branch is up to date with 'origin/main'.\n",
      "Already up to date.\n",
      "Switched to branch 'ADKazdym-hw-4'\n"
     ]
    }
   ],
   "source": [
    "!\n"
   ]
  },
  {
   "cell_type": "code",
   "execution_count": 12,
   "id": "0344d090-b051-4b4c-a2b2-95c7dd1249b7",
   "metadata": {},
   "outputs": [
    {
     "name": "stdout",
     "output_type": "stream",
     "text": [
      "Switched to branch 'ADKazdym-hw-4'\n"
     ]
    }
   ],
   "source": [
    "!git checkout ADKazdym-hw-4"
   ]
  },
  {
   "cell_type": "code",
   "execution_count": null,
   "id": "6f73b21b-6a0b-4b33-a641-9c96fc242d6d",
   "metadata": {},
   "outputs": [
    {
     "name": "stdout",
     "output_type": "stream",
     "text": [
      "Removing exercise/hw1/home_work_1/file_1\n",
      "\u001b[5A\u001b[m\u001b[mcommit.tarting with '#' will be ignored, and an empty message abortsy,xt\u001b[7m^T\u001b[m To Spell  \u001b[7m^_\u001b[m Go To Line\u001b[7m[ Reading... ]\u001b[m\u001b[22;33H\u001b[7m[ Read 6 lines ]\u001b[m\u001b[H\u001b[7m  GNU nano 4.8  /home/jupyter-adkazdym/github/team22/.git/MERGE_MSG             \u001b[1;79H\u001b[m"
     ]
    }
   ],
   "source": [
    "!git merge main"
   ]
  },
  {
   "cell_type": "code",
   "execution_count": null,
   "id": "8e222ac0-ecfe-4efc-bce0-2628ff505690",
   "metadata": {},
   "outputs": [],
   "source": []
  }
 ],
 "metadata": {
  "kernelspec": {
   "display_name": "Python 3 (ipykernel)",
   "language": "python",
   "name": "python3"
  },
  "language_info": {
   "codemirror_mode": {
    "name": "ipython",
    "version": 3
   },
   "file_extension": ".py",
   "mimetype": "text/x-python",
   "name": "python",
   "nbconvert_exporter": "python",
   "pygments_lexer": "ipython3",
   "version": "3.10.10"
  }
 },
 "nbformat": 4,
 "nbformat_minor": 5
}
