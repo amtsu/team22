{
 "cells": [
  {
   "cell_type": "markdown",
   "id": "2ff48a46",
   "metadata": {},
   "source": [
    "Ответьте на вопросы:\n",
    "\n",
    "что такое программа?\n",
    "зачем нужны программы?\n",
    "зачем нужен язык программирования?\n",
    "что могу программы?\n",
    "из чего состоят программы?\n",
    "\n",
    "1. программа - это код, для взаимодействия с компьютером\n",
    "2. программы нужны, для того, чтобы взаимодействовать с компьютером, наделяя его определенным функционалом\n",
    "3. язык программирования нужен, чтобы задавать компьютеры алгоритмы команд\n",
    "4. программы могут наделять компьютер определенным функционалом, ограниченным техническими ограничениями компьютера\n",
    "5. программы состоят из программного кода\n",
    "\n",
    "\n",
    "сложите 13 и 22"
   ]
  },
  {
   "cell_type": "code",
   "execution_count": 1,
   "id": "ff5e9c63",
   "metadata": {},
   "outputs": [
    {
     "data": {
      "text/plain": [
       "35"
      ]
     },
     "execution_count": 1,
     "metadata": {},
     "output_type": "execute_result"
    }
   ],
   "source": [
    "13+22"
   ]
  },
  {
   "cell_type": "markdown",
   "id": "e1a70bf3",
   "metadata": {},
   "source": [
    "перемножте 31 и 7"
   ]
  },
  {
   "cell_type": "code",
   "execution_count": 2,
   "id": "20ef86fa",
   "metadata": {},
   "outputs": [
    {
     "data": {
      "text/plain": [
       "217"
      ]
     },
     "execution_count": 2,
     "metadata": {},
     "output_type": "execute_result"
    }
   ],
   "source": [
    "31*7"
   ]
  },
  {
   "cell_type": "markdown",
   "id": "2f4ba8d2",
   "metadata": {},
   "source": [
    "найдите целую часть от деления 132423 на 32"
   ]
  },
  {
   "cell_type": "code",
   "execution_count": 4,
   "id": "d7611fd7",
   "metadata": {},
   "outputs": [
    {
     "data": {
      "text/plain": [
       "4138"
      ]
     },
     "execution_count": 4,
     "metadata": {},
     "output_type": "execute_result"
    }
   ],
   "source": [
    "132423//32"
   ]
  },
  {
   "cell_type": "markdown",
   "id": "0c1e2286",
   "metadata": {},
   "source": [
    "найдите остаток от деления 23423 на 43"
   ]
  },
  {
   "cell_type": "code",
   "execution_count": 5,
   "id": "18947dad",
   "metadata": {},
   "outputs": [
    {
     "data": {
      "text/plain": [
       "31"
      ]
     },
     "execution_count": 5,
     "metadata": {},
     "output_type": "execute_result"
    }
   ],
   "source": [
    "23423%43"
   ]
  },
  {
   "cell_type": "markdown",
   "id": "525de97a",
   "metadata": {},
   "source": [
    "возвеите в 4 стень число 5"
   ]
  },
  {
   "cell_type": "code",
   "execution_count": 6,
   "id": "6e005402",
   "metadata": {},
   "outputs": [
    {
     "data": {
      "text/plain": [
       "1024"
      ]
     },
     "execution_count": 6,
     "metadata": {},
     "output_type": "execute_result"
    }
   ],
   "source": [
    "4**5"
   ]
  },
  {
   "cell_type": "markdown",
   "id": "7ca1c9d5",
   "metadata": {},
   "source": [
    "Пусть дана фраза \"i love to travel\". Напишите код для вычисление:\n",
    "\n",
    "какой индекс будет у первой буквы t\n",
    "какой индекс будет у буквы r\n",
    "как вывести из строки слова с 2 по 6 индекс\n",
    "какой какие индексы нужно указать в срезе чтобы вывести to\n",
    "что будет если строку умножить на число 5\n",
    "как понять содержит ли наша строка подстроку ral\n",
    "с какого индекса начинается подстрока to\n",
    "какая длину строки\n",
    "измените первый символ в строке на заглавный\n",
    "прибавьте к строке строку \" Hello!\""
   ]
  },
  {
   "cell_type": "code",
   "execution_count": 1,
   "id": "51e0abd2",
   "metadata": {},
   "outputs": [
    {
     "data": {
      "text/plain": [
       "'i love to travel'"
      ]
     },
     "execution_count": 1,
     "metadata": {},
     "output_type": "execute_result"
    }
   ],
   "source": [
    "\"i love to travel\""
   ]
  },
  {
   "cell_type": "code",
   "execution_count": 3,
   "id": "c3d01dec",
   "metadata": {},
   "outputs": [
    {
     "data": {
      "text/plain": [
       "'t'"
      ]
     },
     "execution_count": 3,
     "metadata": {},
     "output_type": "execute_result"
    }
   ],
   "source": [
    "\"i love to travel\" [7]"
   ]
  },
  {
   "cell_type": "code",
   "execution_count": 4,
   "id": "a4760f50",
   "metadata": {},
   "outputs": [
    {
     "data": {
      "text/plain": [
       "'r'"
      ]
     },
     "execution_count": 4,
     "metadata": {},
     "output_type": "execute_result"
    }
   ],
   "source": [
    "\"i love to travel\" [11]"
   ]
  },
  {
   "cell_type": "code",
   "execution_count": 5,
   "id": "3175b6b8",
   "metadata": {},
   "outputs": [
    {
     "data": {
      "text/plain": [
       "'love '"
      ]
     },
     "execution_count": 5,
     "metadata": {},
     "output_type": "execute_result"
    }
   ],
   "source": [
    "\"i love to travel\" [2:7]"
   ]
  },
  {
   "cell_type": "code",
   "execution_count": 6,
   "id": "3d1d5002",
   "metadata": {},
   "outputs": [
    {
     "data": {
      "text/plain": [
       "'to'"
      ]
     },
     "execution_count": 6,
     "metadata": {},
     "output_type": "execute_result"
    }
   ],
   "source": [
    "\"i love to travel\" [7:9]"
   ]
  },
  {
   "cell_type": "code",
   "execution_count": 7,
   "id": "1eaccae1",
   "metadata": {},
   "outputs": [
    {
     "data": {
      "text/plain": [
       "'i love to traveli love to traveli love to traveli love to traveli love to travel'"
      ]
     },
     "execution_count": 7,
     "metadata": {},
     "output_type": "execute_result"
    }
   ],
   "source": [
    "\"i love to travel\"*5"
   ]
  },
  {
   "cell_type": "code",
   "execution_count": 10,
   "id": "b86ff32f",
   "metadata": {},
   "outputs": [
    {
     "data": {
      "text/plain": [
       "-1"
      ]
     },
     "execution_count": 10,
     "metadata": {},
     "output_type": "execute_result"
    }
   ],
   "source": [
    "\"i love to travel\".find(\"ral\")"
   ]
  },
  {
   "cell_type": "code",
   "execution_count": 11,
   "id": "ec1418f9",
   "metadata": {},
   "outputs": [
    {
     "data": {
      "text/plain": [
       "7"
      ]
     },
     "execution_count": 11,
     "metadata": {},
     "output_type": "execute_result"
    }
   ],
   "source": [
    "\"i love to travel\".find(\"to\")"
   ]
  },
  {
   "cell_type": "code",
   "execution_count": 12,
   "id": "9b9618e3",
   "metadata": {},
   "outputs": [
    {
     "data": {
      "text/plain": [
       "16"
      ]
     },
     "execution_count": 12,
     "metadata": {},
     "output_type": "execute_result"
    }
   ],
   "source": [
    "len(\"i love to travel\")"
   ]
  },
  {
   "cell_type": "code",
   "execution_count": 14,
   "id": "ce6c2b4d",
   "metadata": {},
   "outputs": [
    {
     "data": {
      "text/plain": [
       "'I love to travel'"
      ]
     },
     "execution_count": 14,
     "metadata": {},
     "output_type": "execute_result"
    }
   ],
   "source": [
    "\"i love to travel\".capitalize()"
   ]
  },
  {
   "cell_type": "code",
   "execution_count": 15,
   "id": "cb1aab42",
   "metadata": {},
   "outputs": [
    {
     "data": {
      "text/plain": [
       "'i love to travel Hello!'"
      ]
     },
     "execution_count": 15,
     "metadata": {},
     "output_type": "execute_result"
    }
   ],
   "source": [
    "\"i love to travel\"+\" Hello!\""
   ]
  },
  {
   "cell_type": "markdown",
   "id": "3e8cf27c",
   "metadata": {},
   "source": [
    "1.зачем нужны переменные\n",
    "2.зачем нужно имя у переменной\n",
    "3.как узнать тип переменной\n",
    "4.можно ли преобразовать строк в число? И если да то в каких случаях?\n",
    "5.можно ли преобразовать число в строку? И если да то в каких случаях?\n",
    "\n",
    "1.переменные нужны для временного хранения разного рода информации в коде программы\n",
    "2.имя переменной нужно, чтобы можно было к ней обратиться в коде\n",
    "3.чтобы узнать тип переменной, нужно к ней обратиться командой type(название переменной)\n",
    "4.чтобы преобразовать строку в число, надо воспользоваться командой int(\"str\") \n",
    "5.чтобы преобразовать число в строку, нужно воспользоваться командой  str ()"
   ]
  },
  {
   "cell_type": "markdown",
   "id": "5b5fec0f",
   "metadata": {},
   "source": [
    "№1 Задание: создайте список дел.\n",
    "Пример списка с 2 делами:\n",
    "\n",
    "№\tДело\tДата до котрой нужно сделать\tДата когда было сделано\n",
    "Дело №1\tкупить хлеб\t28-08-2022\t28-08-2022\n",
    "Дело №2\tпомыть полы\t28-08-2022\t-\n",
    "Рекомендуемый размер списка 22 элемента.\n",
    "\n",
    "После создания списка дел.\n",
    "\n",
    "Нужно посчитать общее количество дел в списке.\n",
    "Напечатать все дела\n",
    "Напечатать только 2 и 5 дело"
   ]
  },
  {
   "cell_type": "code",
   "execution_count": 2,
   "id": "f1b9cd9d",
   "metadata": {},
   "outputs": [
    {
     "name": "stdout",
     "output_type": "stream",
     "text": [
      "20\n"
     ]
    }
   ],
   "source": [
    "delo1=[\"купить хлеб\",\" 28-08-2022\",\" 28-08-2022\"]\n",
    "delo2=[\"помыть пол\",\" 28-08-2022\",\" -\"]\n",
    "delo3=[\"убрать комнату\",\" 28-08-2022\",\" 29-08-2022\"]\n",
    "delo4=[\"принять душ\",\" 28-08-2022\",\" 30-08-2022\"]\n",
    "delo5=[\"погулять с собакой\",\" 28-08-2022\",\" 28-08-2022\"]\n",
    "delo6=[\"пойти на прогулку\",\" 28-08-2022\",\" -\"]\n",
    "delo7=[\"сделать зарядку\",\" 28-08-2022\",\" 01-09-2022\"]\n",
    "delo8=[\"покакать\",\" 28-08-2022\",\" 29-08-2022\"]\n",
    "delo9=[\"пописать\",\" 28-08-2022\",\" 30-08-2022\"]\n",
    "delo10=[\"сходить в магазин\",\" 28-08-2022\",\" 28-08-2022\"]\n",
    "delo11=[\"сделать котлеты\",\" 28-08-2022\",\" 28-08-2022\"]\n",
    "delo12=[\"приготовить суп\",\" 28-08-2022\",\" 01-09-2022\"]\n",
    "delo13=[\"поесть кашу\",\" 28-08-2022\",\" 02-09-2022\"]\n",
    "delo14=[\"выкинуть мусор\",\" 28-08-2022\",\" 03-09-2022\"]\n",
    "delo15=[\"пробежать 3км\",\" 28-08-2022\",\" 01-09-2022\"]\n",
    "delo16=[\"найти работу\",\" 28-08-2022\",\" -\"]\n",
    "delo17=[\"позвонить маме\",\" 28-08-2022\",\" 30-08-2022\"]\n",
    "delo18=[\"поздравить брата\",\" 28-08-2022\",\" 01-09-2022\"]\n",
    "delo19=[\"сходить в бассейн\",\" 28-08-2022\",\" 02-09-2022\"]\n",
    "delo20=[\"купить сигареты\",\" 28-08-2022\",\" 02-09-2022\"]\n",
    "spisok_del=[[delo1],[delo2],[delo3],[delo4],[delo5],[delo6],[delo7],[delo8],[delo9],[delo10],[delo11],[delo12],[delo13],[delo14],[delo15],[delo16],[delo17],[delo18],[delo19],[delo20]]\n",
    "print(len(spisok_del))"
   ]
  },
  {
   "cell_type": "code",
   "execution_count": 3,
   "id": "da67d775",
   "metadata": {},
   "outputs": [
    {
     "name": "stdout",
     "output_type": "stream",
     "text": [
      "[[['купить хлеб', ' 28-08-2022', ' 28-08-2022']], [['помыть пол', ' 28-08-2022', ' -']], [['убрать комнату', ' 28-08-2022', ' 29-08-2022']], [['принять душ', ' 28-08-2022', ' 30-08-2022']], [['погулять с собакой', ' 28-08-2022', ' 28-08-2022']], [['пойти на прогулку', ' 28-08-2022', ' -']], [['сделать зарядку', ' 28-08-2022', ' 01-09-2022']], [['покакать', ' 28-08-2022', ' 29-08-2022']], [['пописать', ' 28-08-2022', ' 30-08-2022']], [['сходить в магазин', ' 28-08-2022', ' 28-08-2022']], [['сделать котлеты', ' 28-08-2022', ' 28-08-2022']], [['приготовить суп', ' 28-08-2022', ' 01-09-2022']], [['поесть кашу', ' 28-08-2022', ' 02-09-2022']], [['выкинуть мусор', ' 28-08-2022', ' 03-09-2022']], [['пробежать 3км', ' 28-08-2022', ' 01-09-2022']], [['найти работу', ' 28-08-2022', ' -']], [['позвонить маме', ' 28-08-2022', ' 30-08-2022']], [['поздравить брата', ' 28-08-2022', ' 01-09-2022']], [['сходить в бассейн', ' 28-08-2022', ' 02-09-2022']], [['купить сигареты', ' 28-08-2022', ' 02-09-2022']]]\n"
     ]
    }
   ],
   "source": [
    "print(spisok_del)"
   ]
  },
  {
   "cell_type": "code",
   "execution_count": 4,
   "id": "5c1b4d17",
   "metadata": {},
   "outputs": [
    {
     "name": "stdout",
     "output_type": "stream",
     "text": [
      "['помыть пол', ' 28-08-2022', ' -']\n"
     ]
    }
   ],
   "source": [
    "print(delo2)"
   ]
  },
  {
   "cell_type": "code",
   "execution_count": 5,
   "id": "f7e04f63",
   "metadata": {},
   "outputs": [
    {
     "name": "stdout",
     "output_type": "stream",
     "text": [
      "['погулять с собакой', ' 28-08-2022', ' 28-08-2022']\n"
     ]
    }
   ],
   "source": [
    "print(delo5)"
   ]
  },
  {
   "cell_type": "code",
   "execution_count": 6,
   "id": "fb17623a",
   "metadata": {},
   "outputs": [],
   "source": [
    "spisok_del2=[[\"buy bread\" \" 28-08-2022\" \" 28-08-2022\"],[\"clean floor\" \" 28-08-2022\" \" -\"],[\"clean room\" \" 28-08-2022\" \" 29-08-2022\"],[\"take a shower\" \" 28-08-2022\" \" 30-08-2022\"],[\"walk a dog\" \" 28-08-2022\" \" 28-08-2022\"],[\"go for a walk\" \" 28-08-2022\" \" -\"]]"
   ]
  },
  {
   "cell_type": "code",
   "execution_count": 7,
   "id": "7b92700b",
   "metadata": {},
   "outputs": [
    {
     "data": {
      "text/plain": [
       "[['buy bread 28-08-2022 28-08-2022'],\n",
       " ['clean floor 28-08-2022 -'],\n",
       " ['clean room 28-08-2022 29-08-2022'],\n",
       " ['take a shower 28-08-2022 30-08-2022'],\n",
       " ['walk a dog 28-08-2022 28-08-2022'],\n",
       " ['go for a walk 28-08-2022 -']]"
      ]
     },
     "execution_count": 7,
     "metadata": {},
     "output_type": "execute_result"
    }
   ],
   "source": [
    "spisok_del2[0:18]"
   ]
  },
  {
   "cell_type": "code",
   "execution_count": 8,
   "id": "af36ea66",
   "metadata": {},
   "outputs": [
    {
     "name": "stdout",
     "output_type": "stream",
     "text": [
      "[['buy bread 28-08-2022 28-08-2022'], ['clean floor 28-08-2022 -'], ['clean room 28-08-2022 29-08-2022'], ['take a shower 28-08-2022 30-08-2022'], ['walk a dog 28-08-2022 28-08-2022'], ['go for a walk 28-08-2022 -']]\n"
     ]
    }
   ],
   "source": [
    "print(spisok_del2)"
   ]
  },
  {
   "cell_type": "code",
   "execution_count": 9,
   "id": "c9feb7e1",
   "metadata": {},
   "outputs": [
    {
     "data": {
      "text/plain": [
       "['помыть пол', ' 28-08-2022', ' -']"
      ]
     },
     "execution_count": 9,
     "metadata": {},
     "output_type": "execute_result"
    }
   ],
   "source": [
    "delo2"
   ]
  },
  {
   "cell_type": "code",
   "execution_count": 10,
   "id": "94ee7d54",
   "metadata": {},
   "outputs": [
    {
     "data": {
      "text/plain": [
       "['погулять с собакой', ' 28-08-2022', ' 28-08-2022']"
      ]
     },
     "execution_count": 10,
     "metadata": {},
     "output_type": "execute_result"
    }
   ],
   "source": [
    "delo5"
   ]
  },
  {
   "cell_type": "markdown",
   "id": "da12e2ba",
   "metadata": {},
   "source": [
    "Сравнить каждое дело из списка с строкой “buy bread” и если оно совпадает то напечатать YES\n",
    "Если каждое дело из списка ваших дела написано на английском и является строкой то вывести длину каждой из этих строк\n",
    "Напечатать yes если длина строки в которой записано дело больше 10\n",
    "Напечатать дела индекс которых в списке делится без остатка на 2\n",
    "Напечатать дело с индексом 1 и 4 из списка запланированных дел\n",
    "Напечатать те индексы у которых значения в списке запланированных дат и списке реализованных дат равны друг другу\n",
    "Вывести только те дела которые вы сделали в тот же день в который их запланировали\n",
    "Посчитать сколько дел у вас было одинаковых ( т.е. если есть запись “купить хлеб” 28-08-2022 и “купить хлеб” 14-08-2022 то финально нужно вывести “купить хлеб” 2 (можно сделать 2 варианта без использования словарей и с испольщованием словарям)"
   ]
  },
  {
   "cell_type": "code",
   "execution_count": 14,
   "id": "aff76a73",
   "metadata": {},
   "outputs": [],
   "source": [
    "if spisok_del2==\"buy bread\":\n",
    "        print(\"yes\")"
   ]
  },
  {
   "cell_type": "code",
   "execution_count": null,
   "id": "f36858c3",
   "metadata": {},
   "outputs": [],
   "source": []
  },
  {
   "cell_type": "code",
   "execution_count": null,
   "id": "240b97b8",
   "metadata": {},
   "outputs": [],
   "source": []
  },
  {
   "cell_type": "markdown",
   "id": "377cd10e",
   "metadata": {},
   "source": [
    "№2 Задание: создайте список расхдов и доходов.\n",
    "Пример списка доходов и расходов\n",
    "\n",
    "№\tОписание\tСумма\tДата\n",
    "№1\tкупил хлеб\t-50\t09-08-2022\n",
    "№2\tкупил тапочки\t-200\t11-08-2022\n",
    "№3\tполучил зп\t50000\t28-08-2022\n",
    "Рекомендуемый размер списка 22 элемента.\n",
    "добавить к списку еще 2 действия\n",
    "посчитать сколько всего действий в вашем списке"
   ]
  },
  {
   "cell_type": "code",
   "execution_count": 67,
   "id": "4f100cd0",
   "metadata": {},
   "outputs": [
    {
     "data": {
      "text/plain": [
       "8"
      ]
     },
     "execution_count": 67,
     "metadata": {},
     "output_type": "execute_result"
    }
   ],
   "source": [
    "dengi1=['buy bread' ' -50' ' 09-08-2022']\n",
    "dengi2=['buy shoes' ' -200' ' 11-08-2022']\n",
    "dengi3=['get zp' ' 50000' ' 28-08-2022']\n",
    "dengi4=['suck dicks' ' 10000' ' 24-08-2022']\n",
    "dengi5=['cafe' ' -3000' ' 12-08-2022']\n",
    "dengi6=['steal_money' ' 100000' ' 20-08-2022']\n",
    "dengi=[[dengi1],[dengi2],[dengi3],[dengi4],[dengi5],[dengi6]]\n",
    "dengi7=['rent' ' -50000' ' 01-08-2022']\n",
    "dengi8=['buy drugs' ' -15000' ' 21-08-2022']\n",
    "dengi.append(dengi7)\n",
    "dengi.append(dengi8)\n",
    "len(dengi)"
   ]
  },
  {
   "cell_type": "markdown",
   "id": "8dd80a8d",
   "metadata": {},
   "source": [
    "посчитайте сколько всего вы потратили за все время\n",
    "посчитать сколько трат было меньше 300 рублей\n",
    "посчитать сколько сумму трат которые были больше 10000 рублей\n",
    "выдать номера трат которые находятся в диапазоне между 300 и 10000 рублей\n",
    "выбрать из списка на втором шаге самую минимальную трату (меньшая трата)\n",
    "посчитать сколько трат было меньше 300 рублей\n",
    "посчитайте сколько заработали за все время\n",
    "посчитайте какие самые частые у вас траты(можно попробовать с использованием словарей)\n",
    "добавить к списку еще 3 действия\n",
    "Найти максимальную трату\n",
    "Найти минимальный доход\n",
    "Посчитать среднюю стоимость ваших трат"
   ]
  },
  {
   "cell_type": "code",
   "execution_count": null,
   "id": "44a720ea",
   "metadata": {},
   "outputs": [],
   "source": []
  },
  {
   "cell_type": "code",
   "execution_count": null,
   "id": "32f0427e",
   "metadata": {},
   "outputs": [],
   "source": []
  },
  {
   "cell_type": "code",
   "execution_count": null,
   "id": "4b77e129",
   "metadata": {},
   "outputs": [],
   "source": []
  }
 ],
 "metadata": {
  "kernelspec": {
   "display_name": "Python 3 (ipykernel)",
   "language": "python",
   "name": "python3"
  },
  "language_info": {
   "codemirror_mode": {
    "name": "ipython",
    "version": 3
   },
   "file_extension": ".py",
   "mimetype": "text/x-python",
   "name": "python",
   "nbconvert_exporter": "python",
   "pygments_lexer": "ipython3",
   "version": "3.9.7"
  }
 },
 "nbformat": 4,
 "nbformat_minor": 5
}
