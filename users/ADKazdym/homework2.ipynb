{
 "cells": [
  {
   "cell_type": "code",
   "execution_count": 1,
   "id": "1d70113c",
   "metadata": {},
   "outputs": [
    {
     "data": {
      "text/plain": [
       "70.0"
      ]
     },
     "execution_count": 1,
     "metadata": {},
     "output_type": "execute_result"
    }
   ],
   "source": [
    "((5+30)*20)/10"
   ]
  },
  {
   "cell_type": "code",
   "execution_count": 2,
   "id": "875b11fe",
   "metadata": {},
   "outputs": [
    {
     "data": {
      "text/plain": [
       "65.0"
      ]
     },
     "execution_count": 2,
     "metadata": {},
     "output_type": "execute_result"
    }
   ],
   "source": [
    "5+30*20/10"
   ]
  },
  {
   "cell_type": "code",
   "execution_count": 3,
   "id": "e6107dc7",
   "metadata": {},
   "outputs": [
    {
     "name": "stdout",
     "output_type": "stream",
     "text": [
      "200\n"
     ]
    }
   ],
   "source": [
    "fred=200\n",
    "john=fred\n",
    "print(john)"
   ]
  },
  {
   "cell_type": "code",
   "execution_count": 4,
   "id": "a33d9b6c",
   "metadata": {},
   "outputs": [
    {
     "data": {
      "text/plain": [
       "3514"
      ]
     },
     "execution_count": 4,
     "metadata": {},
     "output_type": "execute_result"
    }
   ],
   "source": [
    "20+10*365-3*52"
   ]
  },
  {
   "cell_type": "code",
   "execution_count": 5,
   "id": "b1e0c791",
   "metadata": {},
   "outputs": [
    {
     "data": {
      "text/plain": [
       "3514"
      ]
     },
     "execution_count": 5,
     "metadata": {},
     "output_type": "execute_result"
    }
   ],
   "source": [
    "found_coins=20\n",
    "magic_coins=10\n",
    "stolen_coins=3\n",
    "found_coins+magic_coins*365-stolen_coins*52"
   ]
  },
  {
   "cell_type": "code",
   "execution_count": 1,
   "id": "da938b56",
   "metadata": {},
   "outputs": [
    {
     "name": "stdout",
     "output_type": "stream",
     "text": [
      "Что едят на полдник динозавтры?\n",
      "ТиРекс-кекс\n"
     ]
    }
   ],
   "source": [
    "fred = '''Что едят на полдник динозавтры?\n",
    "ТиРекс-кекс'''\n",
    "print(fred)"
   ]
  },
  {
   "cell_type": "code",
   "execution_count": 2,
   "id": "0f691066",
   "metadata": {},
   "outputs": [
    {
     "name": "stdout",
     "output_type": "stream",
     "text": [
      "Мой счет: 1000 очков\n"
     ]
    }
   ],
   "source": [
    "myscore=1000\n",
    "message='Мой счет: %s очков'\n",
    "print(message % myscore)"
   ]
  },
  {
   "cell_type": "code",
   "execution_count": 3,
   "id": "159f0c9f",
   "metadata": {},
   "outputs": [
    {
     "name": "stdout",
     "output_type": "stream",
     "text": [
      "Коленка: приспособление для поиска мебели в темноте\n",
      "Лодыжка: приспособление для поиска мебели в темноте\n"
     ]
    }
   ],
   "source": [
    "joke_text='%s: приспособление для поиска мебели в темноте'\n",
    "bodypart1= 'Коленка'\n",
    "bodypart2= 'Лодыжка'\n",
    "print(joke_text % bodypart1)\n",
    "print(joke_text % bodypart2)"
   ]
  },
  {
   "cell_type": "code",
   "execution_count": 1,
   "id": "bccd0347",
   "metadata": {},
   "outputs": [
    {
     "name": "stdout",
     "output_type": "stream",
     "text": [
      "Что сказало число 0 числу 8? Славный поясок!\n"
     ]
    }
   ],
   "source": [
    "nums=\"Что сказало число %s числу %s? Славный поясок!\"\n",
    "print(nums %(0,8))"
   ]
  },
  {
   "cell_type": "code",
   "execution_count": 2,
   "id": "f94cb126",
   "metadata": {},
   "outputs": [
    {
     "name": "stdout",
     "output_type": "stream",
     "text": [
      "aaaaaaaaaa\n"
     ]
    }
   ],
   "source": [
    "print(10*\"a\")"
   ]
  },
  {
   "cell_type": "code",
   "execution_count": 3,
   "id": "02adc40d",
   "metadata": {},
   "outputs": [
    {
     "name": "stdout",
     "output_type": "stream",
     "text": [
      "глаз тритона\n"
     ]
    }
   ],
   "source": [
    "wizard_list=[\"паучьи лапки\", \"жабий палец\",\"глаз тритона\",\"крыло летучей мыши\",\"жир слизня\",\"перхоть змеи\"]\n",
    "print(wizard_list[2])"
   ]
  },
  {
   "cell_type": "code",
   "execution_count": 4,
   "id": "40170108",
   "metadata": {},
   "outputs": [
    {
     "name": "stdout",
     "output_type": "stream",
     "text": [
      "['паучьи лапки', 'жабий палец', 'язык улитки', 'крыло летучей мыши', 'жир слизня', 'перхоть змеи']\n"
     ]
    }
   ],
   "source": [
    "wizard_list[2]=\"язык улитки\"\n",
    "print(wizard_list)"
   ]
  },
  {
   "cell_type": "code",
   "execution_count": 5,
   "id": "4b557440",
   "metadata": {},
   "outputs": [
    {
     "name": "stdout",
     "output_type": "stream",
     "text": [
      "['язык улитки', 'крыло летучей мыши', 'жир слизня']\n"
     ]
    }
   ],
   "source": [
    "print(wizard_list[2:5])"
   ]
  },
  {
   "cell_type": "code",
   "execution_count": 6,
   "id": "2b02fafe",
   "metadata": {},
   "outputs": [
    {
     "name": "stdout",
     "output_type": "stream",
     "text": [
      "[7, 'раз', 'отпей', 1, 'раз', 'отъешь']\n"
     ]
    }
   ],
   "source": [
    "number_and_strings=[7,\"раз\",\"отпей\",1,\"раз\",\"отъешь\"]\n",
    "print(number_and_strings)"
   ]
  },
  {
   "cell_type": "code",
   "execution_count": 7,
   "id": "692e39cd",
   "metadata": {},
   "outputs": [
    {
     "name": "stdout",
     "output_type": "stream",
     "text": [
      "[[1, 2, 3, 4, 5], ['хватит', 'циферки', 'считать']]\n"
     ]
    }
   ],
   "source": [
    "numbers=[1,2,3,4,5]\n",
    "strings=[\"хватит\",\"циферки\",\"считать\"]\n",
    "mylist=[numbers,strings]\n",
    "print(mylist)"
   ]
  },
  {
   "cell_type": "code",
   "execution_count": 8,
   "id": "2d52f42a",
   "metadata": {},
   "outputs": [
    {
     "name": "stdout",
     "output_type": "stream",
     "text": [
      "['паучьи лапки', 'жабий палец', 'язык улитки', 'крыло летучей мыши', 'жир слизня', 'перхоть змеи', 'медвежий коготь']\n"
     ]
    }
   ],
   "source": [
    "wizard_list.append(\"медвежий коготь\")\n",
    "print(wizard_list)"
   ]
  },
  {
   "cell_type": "code",
   "execution_count": 10,
   "id": "61b84573",
   "metadata": {},
   "outputs": [
    {
     "name": "stdout",
     "output_type": "stream",
     "text": [
      "['паучьи лапки', 'жабий палец', 'язык улитки', 'крыло летучей мыши', 'жир слизня', 'перхоть змеи', 'медвежий коготь', 'мандрагора', 'мандрагора', 'болиголов', 'болотный газ']\n"
     ]
    }
   ],
   "source": [
    "wizard_list.append(\"мандрагора\")\n",
    "wizard_list.append(\"болиголов\")\n",
    "wizard_list.append(\"болотный газ\")\n",
    "print(wizard_list)"
   ]
  },
  {
   "cell_type": "code",
   "execution_count": 12,
   "id": "6ddb0acb",
   "metadata": {},
   "outputs": [
    {
     "name": "stdout",
     "output_type": "stream",
     "text": [
      "['паучьи лапки', 'жабий палец', 'язык улитки', 'крыло летучей мыши', 'жир слизня', 'мандрагора', 'мандрагора', 'болиголов', 'болотный газ']\n"
     ]
    }
   ],
   "source": [
    "del wizard_list[5]\n",
    "print(wizard_list)"
   ]
  },
  {
   "cell_type": "code",
   "execution_count": 13,
   "id": "88496949",
   "metadata": {},
   "outputs": [
    {
     "name": "stdout",
     "output_type": "stream",
     "text": [
      "['паучьи лапки', 'жабий палец', 'язык улитки', 'крыло летучей мыши', 'жир слизня', 'мандрагора']\n"
     ]
    }
   ],
   "source": [
    "del wizard_list[8]\n",
    "del wizard_list[7]\n",
    "del wizard_list[6]\n",
    "print(wizard_list)"
   ]
  },
  {
   "cell_type": "code",
   "execution_count": 15,
   "id": "b003c9c8",
   "metadata": {},
   "outputs": [
    {
     "name": "stdout",
     "output_type": "stream",
     "text": [
      "[1, 2, 3, 4, 5, 'я', 'забрался', 'под', 'кровать']\n"
     ]
    }
   ],
   "source": [
    "list1=[1,2,3,4,5]\n",
    "list2=[\"я\",\"забрался\",\"под\",\"кровать\"]\n",
    "print(list1+list2)"
   ]
  },
  {
   "cell_type": "code",
   "execution_count": 16,
   "id": "633e0291",
   "metadata": {},
   "outputs": [
    {
     "name": "stdout",
     "output_type": "stream",
     "text": [
      "[1, 2, 1, 2, 1, 2, 1, 2, 1, 2]\n"
     ]
    }
   ],
   "source": [
    "list1=[1,2]\n",
    "print(list1*5)"
   ]
  },
  {
   "cell_type": "code",
   "execution_count": 17,
   "id": "ea87555c",
   "metadata": {},
   "outputs": [
    {
     "name": "stdout",
     "output_type": "stream",
     "text": [
      "['Ральф Уильямс, Футбол', 'Майкл Типпетт, Баскетбол', 'Эдвард Элгар, Бейсбол', 'Ребекка Кларк, Нетбол', 'Этель Смит,Бадминтон', 'Френк Бридж, Регби']\n"
     ]
    }
   ],
   "source": [
    "favourite_sports=[\"Ральф Уильямс, Футбол\",\n",
    "\"Майкл Типпетт, Баскетбол\",\n",
    "\"Эдвард Элгар, Бейсбол\",\n",
    "\"Ребекка Кларк, Нетбол\",\n",
    "\"Этель Смит,Бадминтон\",\n",
    "\"Френк Бридж, Регби\"]\n",
    "print(favourite_sports)"
   ]
  },
  {
   "cell_type": "code",
   "execution_count": 23,
   "id": "01c63c5e",
   "metadata": {},
   "outputs": [
    {
     "name": "stdout",
     "output_type": "stream",
     "text": [
      "Нетбол\n"
     ]
    }
   ],
   "source": [
    "favorite_sports={\"Ральф Уильямс\": \"Футбол\", \"Майкл Типпетт\": \"Баскетбол\",\"Эдвард Элгар\": \"Бейсбол\",\"Ребекка Кларк\": \"Нетбол\",\"Этель Смит\": \"Бадминтон\",\"Френк Бридж\": \"Регби\"}\n",
    "print(favorite_sports[\"Ребекка Кларк\"])"
   ]
  },
  {
   "cell_type": "code",
   "execution_count": 26,
   "id": "dd46fee7",
   "metadata": {},
   "outputs": [
    {
     "name": "stdout",
     "output_type": "stream",
     "text": [
      "{'Ральф Уильямс': 'Футбол', 'Майкл Типпетт': 'Баскетбол', 'Эдвард Элгар': 'Бейсбол', 'Френк Бридж': 'Регби'}\n"
     ]
    }
   ],
   "source": [
    "del favorite_sports[\"Ребекка Кларк\"]\n",
    "print(favorite_sports)"
   ]
  },
  {
   "cell_type": "code",
   "execution_count": 32,
   "id": "a294a4bb",
   "metadata": {},
   "outputs": [
    {
     "name": "stdout",
     "output_type": "stream",
     "text": [
      "{'Ральф Уильямс': 'Хоккей на льду', 'Майкл Типпетт': 'Баскетбол', 'Эдвард Элгар': 'Бейсбол', 'Френк Бридж': 'Регби'}\n"
     ]
    }
   ],
   "source": [
    "favorite_sports[\"Ральф Уильямс\"] = \"Хоккей на льду\"\n",
    "print(favorite_sports)\n"
   ]
  },
  {
   "cell_type": "code",
   "execution_count": 37,
   "id": "b5705930",
   "metadata": {},
   "outputs": [],
   "source": [
    "age=13\n",
    "if age > 20:\n",
    "    print(\"как то вы староваты!\")\n"
   ]
  },
  {
   "cell_type": "code",
   "execution_count": 38,
   "id": "be961da9",
   "metadata": {},
   "outputs": [],
   "source": [
    "age=10\n",
    "if age > 10:\n",
    "    print(\"вы слишком стары для моих шуток!\")"
   ]
  },
  {
   "cell_type": "code",
   "execution_count": 1,
   "id": "4de8fffd",
   "metadata": {},
   "outputs": [
    {
     "name": "stdout",
     "output_type": "stream",
     "text": [
      "Тсс! Это секрет.\n"
     ]
    }
   ],
   "source": [
    "age=8\n",
    "if age ==12:\n",
    "    print(\"Свинья шлепнулась в грязь!\")\n",
    "else:\n",
    "    print(\"Тсс! Это секрет.\")"
   ]
  },
  {
   "cell_type": "code",
   "execution_count": 2,
   "id": "5481e7b2",
   "metadata": {},
   "outputs": [
    {
     "name": "stdout",
     "output_type": "stream",
     "text": [
      "Что сказал 0 числу 8?\n",
      "Привет, ребята!\n",
      "13+49+84+155+97: что получится?Головная боль!\n"
     ]
    }
   ],
   "source": [
    "age=12\n",
    "if age==10:\n",
    "    print(\"Что выйдет, если клюква наденет штаны?\")\n",
    "    print(\"Брюква!\")\n",
    "elif age==11:\n",
    "    print(\"Что сказала зеленая виноградина синей виноградине?\")\n",
    "    print(\"Дыши!дыши!\")\n",
    "elif age==12:\n",
    "    print(\"Что сказал 0 числу 8?\")\n",
    "    print(\"Привет, ребята!\")\n",
    "elif age==13:\n",
    "    print(\"Что такое:на потолке сидит и хохочет?\")\n",
    "    print(\"Муха-хохотуха!\")\n",
    "else:\n",
    "    print(\"Что-что?\")\n",
    "if age==10 or age==11 or age==12 or age==13:\n",
    "    print(\"13+49+84+155+97: что получится?Головная боль!\")\n",
    "else:\n",
    "    print(\"Что-что?\")"
   ]
  },
  {
   "cell_type": "code",
   "execution_count": 4,
   "id": "9a3d47be",
   "metadata": {},
   "outputs": [
    {
     "name": "stdout",
     "output_type": "stream",
     "text": [
      "13+49+84+155+97: что получится? Головная боль!\n"
     ]
    }
   ],
   "source": [
    "if age>=10 and age<=13:\n",
    "    print(\"13+49+84+155+97: что получится? Головная боль!\")\n",
    "else:\n",
    "    print(\"Что-что?\")"
   ]
  },
  {
   "cell_type": "code",
   "execution_count": 5,
   "id": "87449ad2",
   "metadata": {},
   "outputs": [
    {
     "name": "stdout",
     "output_type": "stream",
     "text": [
      "None\n"
     ]
    }
   ],
   "source": [
    "myval=None\n",
    "print(myval)"
   ]
  },
  {
   "cell_type": "code",
   "execution_count": 6,
   "id": "1733c915",
   "metadata": {},
   "outputs": [
    {
     "name": "stdout",
     "output_type": "stream",
     "text": [
      "В переменной myval ничего нет\n"
     ]
    }
   ],
   "source": [
    "myval=None\n",
    "if myval==None:\n",
    "    print(\"В переменной myval ничего нет\")"
   ]
  },
  {
   "cell_type": "code",
   "execution_count": 7,
   "id": "c742d5b2",
   "metadata": {},
   "outputs": [
    {
     "name": "stdout",
     "output_type": "stream",
     "text": [
      "Как лучше всего общаться с монстром?\n",
      "Издалека!\n"
     ]
    }
   ],
   "source": [
    "age=10\n",
    "if age==10:\n",
    "    print(\"Как лучше всего общаться с монстром?\")\n",
    "    print(\"Издалека!\")"
   ]
  },
  {
   "cell_type": "code",
   "execution_count": 8,
   "id": "40c6cbd1",
   "metadata": {},
   "outputs": [],
   "source": [
    "age=\"10\"\n",
    "if age==10:\n",
    "    print(\"Как лучше всего общаться с монстром\")\n",
    "    print(\"Издалека!\")"
   ]
  },
  {
   "cell_type": "code",
   "execution_count": 13,
   "id": "31eb8ba4",
   "metadata": {},
   "outputs": [
    {
     "name": "stdout",
     "output_type": "stream",
     "text": [
      "10\n"
     ]
    }
   ],
   "source": [
    "age=\"10\"\n",
    "converted_age=int(age)\n",
    "print(converted_age)"
   ]
  },
  {
   "cell_type": "code",
   "execution_count": 18,
   "id": "30ff896a",
   "metadata": {},
   "outputs": [
    {
     "name": "stdout",
     "output_type": "stream",
     "text": [
      "10\n"
     ]
    }
   ],
   "source": [
    "age=10\n",
    "converted_age=str(age)\n",
    "print(converted_age)"
   ]
  },
  {
   "cell_type": "code",
   "execution_count": 19,
   "id": "19570201",
   "metadata": {},
   "outputs": [
    {
     "name": "stdout",
     "output_type": "stream",
     "text": [
      "10\n"
     ]
    }
   ],
   "source": [
    "age=\"10\"\n",
    "converted_age=int(age)\n",
    "print(converted_age)"
   ]
  },
  {
   "cell_type": "code",
   "execution_count": 20,
   "id": "8c350a05",
   "metadata": {},
   "outputs": [
    {
     "name": "stdout",
     "output_type": "stream",
     "text": [
      "как лучше всего общаться с монстром?\n",
      "Издалека!\n"
     ]
    }
   ],
   "source": [
    "if converted_age==10:\n",
    "    print(\"как лучше всего общаться с монстром?\")\n",
    "    print(\"Издалека!\")"
   ]
  },
  {
   "cell_type": "code",
   "execution_count": 21,
   "id": "c46ba833",
   "metadata": {},
   "outputs": [
    {
     "name": "stdout",
     "output_type": "stream",
     "text": [
      "10.5\n"
     ]
    }
   ],
   "source": [
    "age=\"10.5\"\n",
    "converted_age=float(age)\n",
    "print(converted_age)"
   ]
  },
  {
   "cell_type": "code",
   "execution_count": 22,
   "id": "4fc50f83",
   "metadata": {},
   "outputs": [
    {
     "ename": "ValueError",
     "evalue": "invalid literal for int() with base 10: 'десять'",
     "output_type": "error",
     "traceback": [
      "\u001b[0;31m---------------------------------------------------------------------------\u001b[0m",
      "\u001b[0;31mValueError\u001b[0m                                Traceback (most recent call last)",
      "Cell \u001b[0;32mIn [22], line 2\u001b[0m\n\u001b[1;32m      1\u001b[0m age\u001b[38;5;241m=\u001b[39m\u001b[38;5;124m\"\u001b[39m\u001b[38;5;124mдесять\u001b[39m\u001b[38;5;124m\"\u001b[39m\n\u001b[0;32m----> 2\u001b[0m converted_age\u001b[38;5;241m=\u001b[39m\u001b[38;5;28;43mint\u001b[39;49m\u001b[43m(\u001b[49m\u001b[43mage\u001b[49m\u001b[43m)\u001b[49m\n\u001b[1;32m      3\u001b[0m \u001b[38;5;28mprint\u001b[39m(converted_age)\n",
      "\u001b[0;31mValueError\u001b[0m: invalid literal for int() with base 10: 'десять'"
     ]
    }
   ],
   "source": [
    "age=\"десять\"\n",
    "converted_age=int(age)\n",
    "print(converted_age)"
   ]
  },
  {
   "cell_type": "code",
   "execution_count": 23,
   "id": "d9da1342",
   "metadata": {},
   "outputs": [
    {
     "ename": "ValueError",
     "evalue": "invalid literal for int() with base 10: '10.5'",
     "output_type": "error",
     "traceback": [
      "\u001b[0;31m---------------------------------------------------------------------------\u001b[0m",
      "\u001b[0;31mValueError\u001b[0m                                Traceback (most recent call last)",
      "Cell \u001b[0;32mIn [23], line 2\u001b[0m\n\u001b[1;32m      1\u001b[0m age\u001b[38;5;241m=\u001b[39m\u001b[38;5;124m\"\u001b[39m\u001b[38;5;124m10.5\u001b[39m\u001b[38;5;124m\"\u001b[39m\n\u001b[0;32m----> 2\u001b[0m converted_age\u001b[38;5;241m=\u001b[39m\u001b[38;5;28;43mint\u001b[39;49m\u001b[43m(\u001b[49m\u001b[43mage\u001b[49m\u001b[43m)\u001b[49m\n\u001b[1;32m      3\u001b[0m \u001b[38;5;28mprint\u001b[39m(converted_age)\n",
      "\u001b[0;31mValueError\u001b[0m: invalid literal for int() with base 10: '10.5'"
     ]
    }
   ],
   "source": [
    "age=\"10.5\"\n",
    "converted_age=int(age)\n",
    "print(converted_age)"
   ]
  },
  {
   "cell_type": "code",
   "execution_count": 24,
   "id": "2a4b2649",
   "metadata": {},
   "outputs": [
    {
     "name": "stdout",
     "output_type": "stream",
     "text": [
      "привет\n",
      "привет\n",
      "привет\n",
      "привет\n",
      "привет\n"
     ]
    }
   ],
   "source": [
    "for x in range(0,5):\n",
    "    print(\"привет\")"
   ]
  },
  {
   "cell_type": "code",
   "execution_count": 25,
   "id": "3636d0d7",
   "metadata": {},
   "outputs": [
    {
     "name": "stdout",
     "output_type": "stream",
     "text": [
      "[10, 11, 12, 13, 14, 15, 16, 17, 18, 19]\n"
     ]
    }
   ],
   "source": [
    "print(list(range(10,20)))"
   ]
  },
  {
   "cell_type": "code",
   "execution_count": 1,
   "id": "8975a9c0",
   "metadata": {},
   "outputs": [
    {
     "name": "stdout",
     "output_type": "stream",
     "text": [
      "привет 0\n",
      "привет 1\n",
      "привет 2\n",
      "привет 3\n",
      "привет 4\n"
     ]
    }
   ],
   "source": [
    "for x in range (0,5):\n",
    "    print(\"привет %s\" %x)"
   ]
  },
  {
   "cell_type": "code",
   "execution_count": 1,
   "id": "3e29062b",
   "metadata": {},
   "outputs": [
    {
     "name": "stdout",
     "output_type": "stream",
     "text": [
      "паучьи лапки\n",
      "жабий палец\n",
      "язык улитки\n",
      "крыло летучей мыши\n",
      "жир слизня\n",
      "медвежий коготь\n"
     ]
    }
   ],
   "source": [
    "wizard_list = ['паучьи лапки', 'жабий палец', 'язык улитки', 'крыло летучей мыши', 'жир слизня', 'медвежий коготь'] \n",
    "for i in wizard_list:\n",
    "    print(i)"
   ]
  },
  {
   "cell_type": "code",
   "execution_count": 2,
   "id": "661415f1",
   "metadata": {},
   "outputs": [
    {
     "name": "stdout",
     "output_type": "stream",
     "text": [
      "огромные\n",
      "огромные\n",
      "волосатые\n",
      "штаны\n",
      "волосатые\n",
      "огромные\n",
      "волосатые\n",
      "штаны\n",
      "штаны\n",
      "огромные\n",
      "волосатые\n",
      "штаны\n"
     ]
    }
   ],
   "source": [
    "hugehairypants = ['огромные', 'волосатые', 'штаны']\n",
    "for i in hugehairypants:\n",
    "    print(i)\n",
    "    for j in hugehairypants:\n",
    "        print(j)"
   ]
  },
  {
   "cell_type": "code",
   "execution_count": 3,
   "id": "35344717",
   "metadata": {},
   "outputs": [
    {
     "name": "stdout",
     "output_type": "stream",
     "text": [
      "Неделя 1=87\n",
      "Неделя 2=154\n",
      "Неделя 3=221\n",
      "Неделя 4=288\n"
     ]
    }
   ],
   "source": [
    "found_coins = 20\n",
    "magic_coins = 70\n",
    "stolen_coins = 3\n",
    "coins = found_coins\n",
    "for week in range(1,5):\n",
    "    coins=coins+magic_coins-stolen_coins\n",
    "    print(\"Неделя %s=%s\"%(week,coins))"
   ]
  },
  {
   "cell_type": "code",
   "execution_count": 4,
   "id": "bd73e732",
   "metadata": {},
   "outputs": [
    {
     "name": "stdout",
     "output_type": "stream",
     "text": [
      "46 81\n",
      "47 82\n",
      "48 83\n",
      "49 84\n",
      "50 85\n"
     ]
    }
   ],
   "source": [
    "x=45\n",
    "y=80\n",
    "while x<50 and y<100:\n",
    "    x=x+1\n",
    "    y=y+1\n",
    "    print(x,y)"
   ]
  },
  {
   "cell_type": "code",
   "execution_count": 5,
   "id": "b6be7027",
   "metadata": {},
   "outputs": [
    {
     "name": "stdout",
     "output_type": "stream",
     "text": [
      "привет 0\n"
     ]
    }
   ],
   "source": [
    "for x in range(0,20):\n",
    "    print(\"привет %s\" %x)\n",
    "    if x<9:\n",
    "        break"
   ]
  },
  {
   "cell_type": "code",
   "execution_count": 7,
   "id": "08e8da01",
   "metadata": {},
   "outputs": [
    {
     "name": "stdout",
     "output_type": "stream",
     "text": [
      "Привет,Мэри\n"
     ]
    }
   ],
   "source": [
    "def testfunc(myname):\n",
    "    print(\"Привет,%s\" % myname)\n",
    "testfunc(\"Мэри\")"
   ]
  },
  {
   "cell_type": "code",
   "execution_count": 8,
   "id": "182bf7df",
   "metadata": {},
   "outputs": [
    {
     "name": "stdout",
     "output_type": "stream",
     "text": [
      "Привет, Мэри Смит\n"
     ]
    }
   ],
   "source": [
    "def testfunc(fname, lname):\n",
    "    print(\"Привет, %s %s\" %(fname, lname))\n",
    "testfunc(\"Мэри\",\"Смит\")"
   ]
  },
  {
   "cell_type": "code",
   "execution_count": 9,
   "id": "2f6fa99a",
   "metadata": {},
   "outputs": [
    {
     "name": "stdout",
     "output_type": "stream",
     "text": [
      "15\n"
     ]
    }
   ],
   "source": [
    "def savings(pocket_money, paper_route, spending):\n",
    "    return pocket_money+paper_route-spending\n",
    "print(savings(10,10,5))"
   ]
  },
  {
   "cell_type": "code",
   "execution_count": 10,
   "id": "5932c258",
   "metadata": {},
   "outputs": [
    {
     "name": "stdout",
     "output_type": "stream",
     "text": [
      "Sat Jan  7 22:12:34 2023\n"
     ]
    }
   ],
   "source": [
    "import time \n",
    "print(time.asctime())"
   ]
  },
  {
   "cell_type": "markdown",
   "id": "b2dfa7c3",
   "metadata": {},
   "source": [
    "№1  "
   ]
  },
  {
   "cell_type": "code",
   "execution_count": 7,
   "id": "d314635f",
   "metadata": {},
   "outputs": [
    {
     "name": "stdout",
     "output_type": "stream",
     "text": [
      "пивко, поесть, полежатьбургер, пюрешка, котлетки, дошир\n"
     ]
    }
   ],
   "source": [
    "games=\"пивко, поесть, полежать\"\n",
    "foods=\"бургер, пюрешка, котлетки, дошир\"\n",
    "favorites=games+foods\n",
    "print(favorites)\n"
   ]
  },
  {
   "cell_type": "markdown",
   "id": "c0372e29",
   "metadata": {},
   "source": [
    "№2"
   ]
  },
  {
   "cell_type": "code",
   "execution_count": 8,
   "id": "72e37cd0",
   "metadata": {},
   "outputs": [
    {
     "data": {
      "text/plain": [
       "155"
      ]
     },
     "execution_count": 8,
     "metadata": {},
     "output_type": "execute_result"
    }
   ],
   "source": [
    "(3*25)+(2*40)"
   ]
  },
  {
   "cell_type": "markdown",
   "id": "c711f3a6",
   "metadata": {},
   "source": [
    "№3\n",
    "\n",
    "#3. Приветствие \n",
    "\n",
    "Создайте две переменные: пусть одна хранит ваше имя, а другая фами- лию. Теперь с помощью строки с метками %s напечатайте приветствие вроде такого: «Привет, Брандо Икетт!». \n"
   ]
  },
  {
   "cell_type": "code",
   "execution_count": 28,
   "id": "f84c4a75",
   "metadata": {},
   "outputs": [
    {
     "name": "stdout",
     "output_type": "stream",
     "text": [
      "Привет Андрей Каздым!\n"
     ]
    }
   ],
   "source": [
    "surname=\"Каздым\"\n",
    "name=\"Андрей\"\n",
    "privet=\"Привет %s %s!\"\n",
    "print(privet %(name,surname))"
   ]
  },
  {
   "cell_type": "markdown",
   "id": "13bae4c2",
   "metadata": {},
   "source": [
    "№2"
   ]
  },
  {
   "cell_type": "code",
   "execution_count": 29,
   "id": "a4f1c8db",
   "metadata": {},
   "outputs": [
    {
     "name": "stdout",
     "output_type": "stream",
     "text": [
      "Я богат!\n"
     ]
    }
   ],
   "source": [
    "money = 2000\n",
    "if money > 1000:\n",
    "     print(\"Я богат!\")\n",
    "else: \n",
    "     print(\"Я не богат!\")\n",
    "     print(\"Может, когда-нибудь потом...\")"
   ]
  },
  {
   "cell_type": "markdown",
   "id": "cff68453",
   "metadata": {},
   "source": [
    "#2. Бисквитики! \n",
    "\n",
    "Создайте конструкцию if, которая проверяет, действительно ли коли- чество бисквитов (которое задано в переменной twinkies) меньше 100 или больше 500. Если это условие выполняется, пусть ваша программа напечатает сообщение «Слишком мало или слишком много». "
   ]
  },
  {
   "cell_type": "code",
   "execution_count": 31,
   "id": "cda8b102",
   "metadata": {},
   "outputs": [
    {
     "name": "stdout",
     "output_type": "stream",
     "text": [
      "Слишком много\n"
     ]
    }
   ],
   "source": [
    "twinkies=600\n",
    "if twinkies<100:\n",
    "    print(\"Слишком мало\")\n",
    "elif twinkies>500:\n",
    "    print(\"Слишком много\")"
   ]
  },
  {
   "cell_type": "markdown",
   "id": "fe4e0b59",
   "metadata": {},
   "source": [
    "#3. Подходящая сумма \n",
    "\n",
    "Создайте конструкцию if, которая проверяет, соответствует ли задан- ная в переменной money сумма денег диапазону значений от 100 до 500 или диапазону значений от 1000 до 5000. "
   ]
  },
  {
   "cell_type": "code",
   "execution_count": 2,
   "id": "d17b4342",
   "metadata": {},
   "outputs": [
    {
     "name": "stdout",
     "output_type": "stream",
     "text": [
      "соответствует\n"
     ]
    }
   ],
   "source": [
    "money=4000\n",
    "if money>=100 and money<=500 or money>=1000 and money<=5000:\n",
    "    print(\"соответствует\")\n",
    "else:\n",
    "    print(\"не соответствует\")"
   ]
  },
  {
   "cell_type": "markdown",
   "id": "85a0dbf1",
   "metadata": {},
   "source": [
    "\n",
    "\n",
    "#4. Я одолею этих ниндзя! #\n",
    "\n",
    "Создайте конструкцию if, которая печатает строку «Их слишком мно- го», если количество ниндзя (заданное в переменной ninjas) меньше 50, печатает «Будет непросто, но я с ними разделаюсь», если это количество меньше 30, и печатает «Я одолею этих ниндзя!», если количество мень- ше 10. Проверьте, как ваш код работает с таким значением: ninjas = 5 "
   ]
  },
  {
   "cell_type": "code",
   "execution_count": 2,
   "id": "018c0a37",
   "metadata": {},
   "outputs": [
    {
     "name": "stdout",
     "output_type": "stream",
     "text": [
      "Их слишком много\n"
     ]
    }
   ],
   "source": [
    "ninjas=5\n",
    "if ninjas<10:\n",
    "    print(\"Их слишком много\")\n",
    "elif ninjas<30:\n",
    "    print(\"Будет непросто, но я с ними разделаюсь\")\n",
    "elif ninjas<50:\n",
    "    print(\"Я одолею этих ниндзя!\")"
   ]
  },
  {
   "cell_type": "markdown",
   "id": "77a879e1",
   "metadata": {},
   "source": [
    "Упражнения  3\n",
    "\n",
    "#1. Цикл с приветом \n",
    "\n",
    "Как вы считаете, что делает эта программа? Сперва придумайте вариант ответа, а потом запустите код и проверьте, угадали ли вы. \n",
    "\n",
    "for x in range(0, 20):\n",
    "    print('привет %s' % x)\n",
    "    if x < 9:\n",
    "        break \n"
   ]
  },
  {
   "cell_type": "code",
   "execution_count": 19,
   "id": "0a81c173",
   "metadata": {},
   "outputs": [
    {
     "name": "stdout",
     "output_type": "stream",
     "text": [
      "привет 0\n"
     ]
    }
   ],
   "source": [
    "for x in range(0, 20):\n",
    "    print('привет %s' % x)\n",
    "    if x < 9:\n",
    "        break \n"
   ]
  },
  {
   "cell_type": "markdown",
   "id": "208a1ea4",
   "metadata": {},
   "source": [
    "#2. Четные числа \n",
    "\n",
    "Создайте цикл, который печатает четные числа до тех пор, пока не выве- дет ваш возраст. Если ваш возраст — нечетное число, создайте цикл, ко- торый печатает нечетные числа до совпадения с возрастом. Программа должна выводить на экран нечто подобное: \n",
    "\n",
    "2 4 6 8 10 12 14 "
   ]
  },
  {
   "cell_type": "code",
   "execution_count": 46,
   "id": "be1dfbeb",
   "metadata": {},
   "outputs": [
    {
     "name": "stdout",
     "output_type": "stream",
     "text": [
      "1\n",
      "3\n",
      "5\n",
      "7\n",
      "9\n",
      "11\n",
      "13\n",
      "15\n",
      "17\n",
      "19\n",
      "21\n",
      "23\n",
      "25\n",
      "27\n",
      "29\n",
      "31\n",
      "33\n"
     ]
    }
   ],
   "source": [
    "x=-1\n",
    "for nechetnoe in range(1,34):\n",
    "    x=x+2 \n",
    "    print(x)\n",
    "    if x==33:\n",
    "        break\n",
    "      "
   ]
  },
  {
   "cell_type": "markdown",
   "id": "7c10ab3e",
   "metadata": {},
   "source": [
    "\n",
    "\n",
    "#3. Пять любимых ингредиентов \n",
    "\n",
    "Создайте список с пятью разными ингредиентами для бутерброда, напо- добие: \n",
    "\n",
    "ingredients = ['слизни', 'пиявки', 'катышки изпупка гориллы', 'брови гусеницы', 'пальцы многоножки'] \n",
    "\n",
    "Теперь создайте цикл, который печатает список ингредиентов с нуме- рацией: \n",
    "\n",
    "1 слизни\n",
    "2 пиявки\n",
    "3 катышки изпупка гориллы \n",
    "4 брови гусеницы\n",
    "5 пальцы многоножки"
   ]
  },
  {
   "cell_type": "code",
   "execution_count": 14,
   "id": "cd4b8a32",
   "metadata": {},
   "outputs": [
    {
     "name": "stdout",
     "output_type": "stream",
     "text": [
      "0 слизни\n",
      "1 пиявки\n",
      "2 катышки из пупка гориллы\n",
      "3 брови гусеницы\n",
      "4 пальцы многоножки\n"
     ]
    }
   ],
   "source": [
    "ingredients=[\"слизни\", \"пиявки\", \"катышки из пупка гориллы\", \"брови гусеницы\", \"пальцы многоножки\"]\n",
    "for x in range (0,5):\n",
    "    print(x,ingredients[x])\n",
    " #не понял как сделать чтобы начиналось с 1. нашел другое решение в интернете\n",
    "\n"
   ]
  },
  {
   "cell_type": "code",
   "execution_count": 15,
   "id": "8ae86db4",
   "metadata": {},
   "outputs": [
    {
     "name": "stdout",
     "output_type": "stream",
     "text": [
      "1 слизни\n",
      "2 пиявки\n",
      "3 катышки из пупка гориллы\n",
      "4 брови гусеницы\n",
      "5 пальцы многоножки\n"
     ]
    }
   ],
   "source": [
    "ingredients=[\"слизни\", \"пиявки\", \"катышки из пупка гориллы\", \"брови гусеницы\", \"пальцы многоножки\"]\n",
    "for c, value in enumerate(ingredients, 1):\n",
    "    print(c, value)\n",
    "\n",
    " "
   ]
  },
  {
   "cell_type": "code",
   "execution_count": null,
   "id": "50adc011",
   "metadata": {},
   "outputs": [],
   "source": []
  },
  {
   "cell_type": "markdown",
   "id": "c47e98ec",
   "metadata": {},
   "source": [
    "#4. Ваш лунный вес \n",
    "\n",
    "Если бы вы сейчас были на Луне, ваш вес составил бы 16,5 процентов от земного. Чтобы узнать, сколько это, умножьте свой земной вес на 0,165. \n",
    "\n",
    "Если бы каждый год в течение следующих 15 лет вы прибавляли по одному килограмму веса,\n",
    "каким бы оказался ваш лунный вес в каж- дый из ежегодных визитов на Луну вплоть до 15-го года? Напишите про- грамму, которая с помощью цикла for печатает на экране ваш лунный \n",
    "\n",
    "вес в каждом году. \n"
   ]
  },
  {
   "cell_type": "code",
   "execution_count": 25,
   "id": "7bd5dcc7",
   "metadata": {},
   "outputs": [
    {
     "name": "stdout",
     "output_type": "stream",
     "text": [
      "14.685\n",
      "14.850000000000001\n",
      "15.015\n",
      "15.180000000000001\n",
      "15.345\n",
      "15.510000000000002\n",
      "15.675\n",
      "15.84\n",
      "16.005\n",
      "16.17\n",
      "16.335\n",
      "16.5\n",
      "16.665\n",
      "16.830000000000002\n",
      "16.995\n"
     ]
    }
   ],
   "source": [
    "ves=88\n",
    "y=1\n",
    "for x in range(0,15):\n",
    "    ves=ves+y\n",
    "    x=ves*0.165\n",
    "    print(x)\n"
   ]
  },
  {
   "cell_type": "markdown",
   "id": "750bb0ca",
   "metadata": {},
   "source": [
    "#1. Функция лунного веса \n",
    "​\n",
    "Одним из заданий к главе 6 было создание цикла for для расчета вашего веса на Луне в течение 15 лет. Этот цикл можно оформить в виде функции. Создайте функцию, ко- торая принимает начальный вес и величину, на которую вес увеличивается каждый год. Вызывать эту новую функ- цию нужно будет примерно так: \n",
    "​\n",
    "    moon_weight(30, 0.25)\n",
    "​"
   ]
  },
  {
   "cell_type": "code",
   "execution_count": 26,
   "id": "c2a7b37d",
   "metadata": {},
   "outputs": [],
   "source": [
    "def moon_weight(ves, y):\n",
    "    for x in range(0,15):\n",
    "        ves=ves+y\n",
    "        x=ves*0.165\n",
    "        print(x)\n",
    "        \n"
   ]
  },
  {
   "cell_type": "code",
   "execution_count": 20,
   "id": "2ad4d586",
   "metadata": {},
   "outputs": [
    {
     "name": "stdout",
     "output_type": "stream",
     "text": [
      "4.99125\n",
      "5.032500000000001\n",
      "5.07375\n",
      "5.115\n",
      "5.15625\n",
      "5.197500000000001\n",
      "5.2387500000000005\n",
      "5.28\n",
      "5.32125\n",
      "5.3625\n",
      "5.4037500000000005\n",
      "5.445\n",
      "5.48625\n",
      "5.5275\n"
     ]
    }
   ],
   "source": [
    "moon_weight(30,0.25)"
   ]
  },
  {
   "cell_type": "markdown",
   "id": "fecacd93",
   "metadata": {},
   "source": [
    "#2. Функция лунного веса и количество лет \n",
    "\n",
    "Измените функцию из предыдущего задания так, чтобы с ее помощью можно было рассчитывать вес для разного количества лет, например 5 или 20 лет. Пусть эта функция принимает три аргумента: начальный вес, прибавку веса в год и количество лет: \n",
    "\n",
    "      moon_weight(90, 0.25, 5)"
   ]
  },
  {
   "cell_type": "code",
   "execution_count": 28,
   "id": "a4c8cecb",
   "metadata": {},
   "outputs": [],
   "source": [
    "def moon_weight(ves, y,z):\n",
    "    for x in range(0,z):\n",
    "        ves=ves+y\n",
    "        x=ves*0.165\n",
    "        print(x)\n",
    "        "
   ]
  },
  {
   "cell_type": "code",
   "execution_count": 29,
   "id": "7f6317a7",
   "metadata": {},
   "outputs": [
    {
     "name": "stdout",
     "output_type": "stream",
     "text": [
      "14.891250000000001\n",
      "14.932500000000001\n",
      "14.97375\n",
      "15.015\n",
      "15.05625\n"
     ]
    }
   ],
   "source": [
    "moon_weight (90,0.25,5)"
   ]
  },
  {
   "cell_type": "code",
   "execution_count": null,
   "id": "5dbefb6b",
   "metadata": {},
   "outputs": [],
   "source": []
  },
  {
   "cell_type": "code",
   "execution_count": null,
   "id": "afdce1eb",
   "metadata": {},
   "outputs": [],
   "source": []
  },
  {
   "cell_type": "code",
   "execution_count": null,
   "id": "167ef2e7",
   "metadata": {},
   "outputs": [],
   "source": []
  },
  {
   "cell_type": "code",
   "execution_count": null,
   "id": "597407d7",
   "metadata": {},
   "outputs": [],
   "source": []
  },
  {
   "cell_type": "code",
   "execution_count": null,
   "id": "9fa4ce5d",
   "metadata": {},
   "outputs": [],
   "source": []
  },
  {
   "cell_type": "code",
   "execution_count": null,
   "id": "e116c9ec",
   "metadata": {},
   "outputs": [],
   "source": []
  },
  {
   "cell_type": "code",
   "execution_count": null,
   "id": "deac731c",
   "metadata": {},
   "outputs": [],
   "source": []
  },
  {
   "cell_type": "markdown",
   "id": "babaffe6",
   "metadata": {},
   "source": []
  }
 ],
 "metadata": {
  "kernelspec": {
   "display_name": "Python 3 (ipykernel)",
   "language": "python",
   "name": "python3"
  },
  "language_info": {
   "codemirror_mode": {
    "name": "ipython",
    "version": 3
   },
   "file_extension": ".py",
   "mimetype": "text/x-python",
   "name": "python",
   "nbconvert_exporter": "python",
   "pygments_lexer": "ipython3",
   "version": "3.9.7"
  }
 },
 "nbformat": 4,
 "nbformat_minor": 5
}
