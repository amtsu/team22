{
 "cells": [
  {
   "cell_type": "markdown",
   "metadata": {},
   "source": [
    "\n",
    "\n",
    "=================\n",
    "\n",
    "Упражнения  2\n",
    "\n",
    "Решите эти задачи, используя конструкции if и условия. \n",
    "\n",
    "#1. Вы богаты? \n",
    "\n",
    "Как думаете, что делает этот код? Сначала попробуйте в этом разобрать- ся, не вводя код в оболочку Python, а затем проверьте свой ответ. \n",
    "\n",
    "money = 2000\n",
    "if money > 1000:\n",
    "     print(\"Я богат!\")\n",
    "else: \n",
    "     print(\"Я не богат!\")\n",
    "     print(\"Может, когда-нибудь потом...\")\n",
    "\n",
    "#2. Бисквитики! \n",
    "\n",
    "Создайте конструкцию if, которая проверяет, действительно ли коли- чество бисквитов (которое задано в переменной twinkies) меньше 100 или больше 500. Если это условие выполняется, пусть ваша программа напечатает сообщение «Слишком мало или слишком много». \n",
    "\n",
    "#3. Подходящая сумма \n",
    "\n",
    "Создайте конструкцию if, которая проверяет, соответствует ли задан- ная в переменной money сумма денег диапазону значений от 100 до 500 или диапазону значений от 1000 до 5000. \n",
    "\n",
    "#4. Я одолею этих ниндзя! \n",
    "\n",
    "Создайте конструкцию if, которая печатает строку «Их слишком мно- го», если количество ниндзя (заданное в переменной ninjas) меньше 50, печатает «Будет непросто, но я с ними разделаюсь», если это количество меньше 30, и печатает «Я одолею этих ниндзя!», если количество мень- ше 10. Проверьте, как ваш код работает с таким значением: \n",
    "\n",
    "ninjas = 5 \n",
    "\n",
    "...Упражнения  3\n",
    "\n",
    "#1. Цикл с приветом \n",
    "\n",
    "Как вы считаете, что делает эта программа? Сперва придумайте вариант ответа, а потом запустите код и проверьте, угадали ли вы. \n",
    "\n",
    "for x in range(0, 20):\n",
    "    print('привет %s' % x)\n",
    "    if x < 9:\n",
    "        break \n",
    "\n",
    "#2. Четные числа \n",
    "\n",
    "Создайте цикл, который печатает четные числа до тех пор, пока не выве- дет ваш возраст. Если ваш возраст — нечетное число, создайте цикл, ко- торый печатает нечетные числа до совпадения с возрастом. Программа должна выводить на экран нечто подобное: \n",
    "\n",
    "2 4 6 8 10 12 14 \n",
    "\n",
    "#3. Пять любимых ингредиентов \n",
    "\n",
    "Создайте список с пятью разными ингредиентами для бутерброда, напо- добие: \n",
    "\n",
    "ingredients = ['слизни', 'пиявки', 'катышки изпупка гориллы', 'брови гусеницы', 'пальцы многоножки'] \n",
    "\n",
    "Теперь создайте цикл, который печатает список ингредиентов с нуме- рацией: \n",
    "\n",
    "1 слизни\n",
    "2 пиявки\n",
    "3 катышки изпупка гориллы \n",
    "4 брови гусеницы\n",
    "5 пальцы многоножки\n",
    "\n",
    "#4. Ваш лунный вес \n",
    "\n",
    "Если бы вы сейчас были на Луне, ваш вес составил бы 16,5 процентов от земного. Чтобы узнать, сколько это, умножьте свой земной вес на 0,165. \n",
    "\n",
    "Если бы каждый год в течение следующих 15 лет вы прибавляли по одному килог\n",
    "\n",
    "рамму веса, каким бы оказался ваш лунный вес в каж- дый из ежегодных визитов на Луну вплоть до 15-го года? Напишите про- грамму, которая с помощью цикла for печатает на экране ваш лунный \n",
    "\n",
    "вес в каждом году. \n",
    "\n",
    "=================\n",
    "...\n",
    "\n",
    "Упражнения  4\n",
    "\n",
    "Вот несколько упражнений по созданию ваших соб- ственных функций. \n",
    "\n",
    "#1. Функция лунного веса \n",
    "\n",
    "Одним из заданий к главе 6 было создание цикла for для расчета вашего веса на Луне в течение 15 лет. Этот цикл можно оформить в виде функции. Создайте функцию, ко- торая принимает начальный вес и величину, на которую вес увеличивается каждый год. Вызывать эту новую функ- цию нужно будет примерно так: \n",
    "\n",
    "    moon_weight(30, 0.25)\n",
    "\n",
    "#2. Функция лунного веса и количество лет \n",
    "\n",
    "Измените функцию из предыдущего задания так, чтобы с ее помощью можно было рассчитывать вес для разного количества лет, например 5 или 20 лет. Пусть эта функция принимает три аргумента: начальный вес, прибавку веса в год и количество лет: \n",
    "\n",
    "      moon_weight(90, 0.25, 5)"
   ]
  },
  {
   "cell_type": "code",
   "execution_count": 1,
   "metadata": {},
   "outputs": [
    {
     "data": {
      "text/plain": [
       "70"
      ]
     },
     "execution_count": 1,
     "metadata": {},
     "output_type": "execute_result"
    }
   ],
   "source": [
    "((5 + 30) * 20) / 10"
   ]
  },
  {
   "cell_type": "code",
   "execution_count": 2,
   "metadata": {},
   "outputs": [
    {
     "data": {
      "text/plain": [
       "65"
      ]
     },
     "execution_count": 2,
     "metadata": {},
     "output_type": "execute_result"
    }
   ],
   "source": [
    "5 + 30 * 20 / 10"
   ]
  },
  {
   "cell_type": "code",
   "execution_count": 8,
   "metadata": {},
   "outputs": [
    {
     "name": "stdout",
     "output_type": "stream",
     "text": [
      "200\n"
     ]
    }
   ],
   "source": [
    "fred = 200\n",
    "john = fred\n",
    "print(john)"
   ]
  },
  {
   "cell_type": "code",
   "execution_count": 5,
   "metadata": {},
   "outputs": [
    {
     "data": {
      "text/plain": [
       "3514"
      ]
     },
     "execution_count": 5,
     "metadata": {},
     "output_type": "execute_result"
    }
   ],
   "source": [
    "20 + 10 * 365 - 3 * 52"
   ]
  },
  {
   "cell_type": "code",
   "execution_count": 6,
   "metadata": {},
   "outputs": [
    {
     "data": {
      "text/plain": [
       "3514"
      ]
     },
     "execution_count": 6,
     "metadata": {},
     "output_type": "execute_result"
    }
   ],
   "source": [
    "found_coins = 20\n",
    "magic_coins = 10\n",
    "stolen_coins = 3\n",
    "found_coins + magic_coins * 365 - stolen_coins * 52\n"
   ]
  },
  {
   "cell_type": "code",
   "execution_count": 9,
   "metadata": {},
   "outputs": [
    {
     "name": "stdout",
     "output_type": "stream",
     "text": [
      "Что едят на полдник динозавры?\n",
      "ТиРекс-кекс!\n"
     ]
    }
   ],
   "source": [
    "fred = '''Что едят на полдник динозавры?\n",
    "ТиРекс-кекс!''' \n",
    "print(fred)"
   ]
  },
  {
   "cell_type": "code",
   "execution_count": 5,
   "metadata": {},
   "outputs": [
    {
     "name": "stdout",
     "output_type": "stream",
     "text": [
      "Мой счет: 1000 очков\n"
     ]
    }
   ],
   "source": [
    "myscore = 1000\n",
    "message = \"Мой счет: %s очков\"\n",
    "print(message % myscore)"
   ]
  },
  {
   "cell_type": "code",
   "execution_count": 6,
   "metadata": {},
   "outputs": [
    {
     "name": "stdout",
     "output_type": "stream",
     "text": [
      "Коленка: приспособление для поиска мебели втемноте\n",
      "Лодыжка: приспособление для поиска мебели втемноте\n"
     ]
    }
   ],
   "source": [
    "joke_text = \"%s: приспособление для поиска мебели втемноте\"\n",
    "bodypart1 = \"Коленка\"\n",
    "bodypart2 = \"Лодыжка\"\n",
    "print(joke_text % bodypart1) \n",
    "print(joke_text % bodypart2)\n"
   ]
  },
  {
   "cell_type": "code",
   "execution_count": 12,
   "metadata": {},
   "outputs": [
    {
     "name": "stdout",
     "output_type": "stream",
     "text": [
      "Что сказало число 0 числу 10? Славный поясок!\n"
     ]
    }
   ],
   "source": [
    "nums = 'Что сказало число %s числу %s? Славный поясок!'\n",
    "print(nums % (0, 10))"
   ]
  },
  {
   "cell_type": "code",
   "execution_count": 13,
   "metadata": {},
   "outputs": [
    {
     "name": "stdout",
     "output_type": "stream",
     "text": [
      "aaaaaaaaaa\n"
     ]
    }
   ],
   "source": [
    "print(10 * 'a')"
   ]
  },
  {
   "cell_type": "code",
   "execution_count": 42,
   "metadata": {},
   "outputs": [
    {
     "name": "stdout",
     "output_type": "stream",
     "text": [
      "pis\n",
      "['ghghghghg', 'kuii', 'jir']\n"
     ]
    }
   ],
   "source": [
    "wizard_list = ['xer', 'kui', 'pis', 'kuii', 'jir', 'uho'] \n",
    "print(wizard_list[2])\n",
    "wizard_list[2] = 'ghghghghg' \n",
    "print(wizard_list[2:5])\n",
    "\n",
    "\n",
    "\n",
    "\n",
    "\n",
    "\n"
   ]
  },
  {
   "cell_type": "code",
   "execution_count": 43,
   "metadata": {},
   "outputs": [
    {
     "data": {
      "text/plain": [
       "'ghghghghg'"
      ]
     },
     "execution_count": 43,
     "metadata": {},
     "output_type": "execute_result"
    }
   ],
   "source": [
    "wizard_list[2]"
   ]
  },
  {
   "cell_type": "code",
   "execution_count": 44,
   "metadata": {},
   "outputs": [
    {
     "data": {
      "text/plain": [
       "[7, 'raz', 'otpe', 1, 'raz', 'ej']"
      ]
     },
     "execution_count": 44,
     "metadata": {},
     "output_type": "execute_result"
    }
   ],
   "source": [
    "numbers_and_strings = [7, \"raz\", \"otpe\", 1, \"raz\", \"ej\"]\n",
    "numbers_and_strings"
   ]
  },
  {
   "cell_type": "code",
   "execution_count": 45,
   "metadata": {},
   "outputs": [
    {
     "name": "stdout",
     "output_type": "stream",
     "text": [
      "[[1, 2, 3, 4, 5], ['hvatit', 'cifri', 'shet']]\n"
     ]
    }
   ],
   "source": [
    "numbers = [1, 2, 3, 4, 5]\n",
    "strings = ['hvatit', 'cifri', 'shet']\n",
    "mylist = [numbers, strings]\n",
    "print(mylist)"
   ]
  },
  {
   "cell_type": "code",
   "execution_count": 46,
   "metadata": {},
   "outputs": [
    {
     "name": "stdout",
     "output_type": "stream",
     "text": [
      "['xer', 'kui', 'ghghghghg', 'kuii', 'jir', 'uho', 'medved kogot']\n"
     ]
    }
   ],
   "source": [
    "wizard_list.append('medved kogot')\n",
    "print(wizard_list)"
   ]
  },
  {
   "cell_type": "code",
   "execution_count": 47,
   "metadata": {},
   "outputs": [
    {
     "name": "stdout",
     "output_type": "stream",
     "text": [
      "['xer', 'kui', 'ghghghghg', 'kuii', 'jir', 'uho', 'medved kogot', 'mandarogora', 'boliglov', 'boloto gas']\n"
     ]
    }
   ],
   "source": [
    "wizard_list.append('mandarogora') \n",
    "wizard_list.append('boliglov')\n",
    "wizard_list.append('boloto gas') \n",
    "print(wizard_list)"
   ]
  },
  {
   "cell_type": "code",
   "execution_count": 48,
   "metadata": {},
   "outputs": [
    {
     "name": "stdout",
     "output_type": "stream",
     "text": [
      "['xer', 'kui', 'ghghghghg', 'kuii', 'jir', 'medved kogot', 'mandarogora', 'boliglov', 'boloto gas']\n"
     ]
    }
   ],
   "source": [
    "del wizard_list[5]\n",
    "print(wizard_list)"
   ]
  },
  {
   "cell_type": "code",
   "execution_count": 49,
   "metadata": {},
   "outputs": [
    {
     "name": "stdout",
     "output_type": "stream",
     "text": [
      "['xer', 'kui', 'ghghghghg', 'kuii', 'jir', 'medved kogot']\n"
     ]
    }
   ],
   "source": [
    "del wizard_list[8]\n",
    "del wizard_list[7]\n",
    "del wizard_list[6]\n",
    "print(wizard_list)"
   ]
  },
  {
   "cell_type": "code",
   "execution_count": 53,
   "metadata": {},
   "outputs": [
    {
     "name": "stdout",
     "output_type": "stream",
     "text": [
      "[1, 2, 3, 4, 5, 'i', 'zabrals', 'pod', 'bed']\n"
     ]
    }
   ],
   "source": [
    "list1 = [1, 2, 3, 4, 5]\n",
    "list2 = ['i', 'zabrals', 'pod', 'bed']\n",
    "print(list1 + list2)"
   ]
  },
  {
   "cell_type": "code",
   "execution_count": 54,
   "metadata": {},
   "outputs": [
    {
     "name": "stdout",
     "output_type": "stream",
     "text": [
      "[1, 2, 1, 2, 1, 2, 1, 2, 1, 2]\n"
     ]
    }
   ],
   "source": [
    "list1 = [1, 2]\n",
    "print(list1 * 5)"
   ]
  },
  {
   "cell_type": "code",
   "execution_count": 68,
   "metadata": {},
   "outputs": [
    {
     "name": "stdout",
     "output_type": "stream",
     "text": [
      "Netball\n"
     ]
    }
   ],
   "source": [
    "favorite_sports = ['RALPH, SOccer', \n",
    "'Mike , basket',\n",
    "'ED, baasball',\n",
    "'Rebekka , Netball', \n",
    "'Ettel , badminton', ' frank, regbi'] \n",
    "\n",
    "favorite_sports = {'RALPH': 'SOccer', 'Mike': 'basket',\n",
    "'ED': 'baasball',\n",
    "'Rebekka': 'Netball', \n",
    "'Ettel': 'badminton', 'frank': 'regbi'} \n",
    "print(favorite_sports['Rebekka'])"
   ]
  },
  {
   "cell_type": "code",
   "execution_count": 70,
   "metadata": {},
   "outputs": [
    {
     "name": "stdout",
     "output_type": "stream",
     "text": [
      "{'Mike': 'basket', 'ED': 'baasball', 'Rebekka': 'Netball', 'frank': 'regbi', 'RALPH': 'SOccer'}\n"
     ]
    }
   ],
   "source": [
    "del favorite_sports['Ettel']\n",
    "print(favorite_sports)"
   ]
  },
  {
   "cell_type": "code",
   "execution_count": 71,
   "metadata": {},
   "outputs": [
    {
     "name": "stdout",
     "output_type": "stream",
     "text": [
      "{'Mike': 'basket', 'ED': 'baasball', 'Rebekka': 'Netball', 'frank': 'regbi', 'RALPH': 'hokke'}\n"
     ]
    }
   ],
   "source": [
    "favorite_sports['RALPH'] = 'hokke'\n",
    "print(favorite_sports)"
   ]
  },
  {
   "cell_type": "code",
   "execution_count": 75,
   "metadata": {},
   "outputs": [
    {
     "ename": "IndentationError",
     "evalue": "expected an indented block (<ipython-input-75-43b5e7225c7d>, line 3)",
     "output_type": "error",
     "traceback": [
      "\u001b[0;36m  File \u001b[0;32m\"<ipython-input-75-43b5e7225c7d>\"\u001b[0;36m, line \u001b[0;32m3\u001b[0m\n\u001b[0;31m    print('Как-то вы староваты!')\u001b[0m\n\u001b[0m        ^\u001b[0m\n\u001b[0;31mIndentationError\u001b[0m\u001b[0;31m:\u001b[0m expected an indented block\n"
     ]
    }
   ],
   "source": []
  },
  {
   "cell_type": "code",
   "execution_count": 76,
   "metadata": {},
   "outputs": [
    {
     "name": "stdout",
     "output_type": "stream",
     "text": [
      "Тсс! Это секрет.\n",
      "Что сказал 0 числу 8?\n",
      "Привет, ребята!\n",
      "13 + 49 + 84 + 155 + 97: что получится? Головная боль!\n",
      "13 + 49 + 84 + 155 + 97: что получится? Головная боль!\n"
     ]
    }
   ],
   "source": [
    "age = 13\n",
    "if age > 20:\n",
    "    print('Как-то вы староваты!')\n",
    "\n",
    "age = 10\n",
    "if age > 10:\n",
    "    print('Вы слишком стары для моих шуток!')\n",
    "\n",
    "age = 8\n",
    "if age == 12:\n",
    "    print(\"Свинья шлепнулась в грязь!\")\n",
    "else:\n",
    "    print(\"Тсс! Это секрет.\")\n",
    "\n",
    "age = 12\n",
    "if age == 10:\n",
    "    print(\"Что выйдет, если клюква наденет штаны?\")\n",
    "    print(\"Брюква!\")\n",
    "elif age == 11:\n",
    "    print(\"Что сказала зеленая виноградина синей виноградине?\")\n",
    "    print(\"Дыши! Дыши!\") \n",
    "elif age == 12:\n",
    "    print(\"Что сказал 0 числу 8?\")\n",
    "    print(\"Привет, ребята!\")\n",
    "elif age == 13:\n",
    "    print(\"Что такое: напотолке сидит ихохочет?\")\n",
    "    print(\"Муха-хохотуха!\") \n",
    "else: \n",
    "    print(\"Что-что?\")\n",
    "if age == 10 or age == 11 or age == 12 or age == 13:\n",
    "    print('13 + 49 + 84 + 155 + 97: что получится? Головная боль!') \n",
    "else: \n",
    "    print('Что-что?')\n",
    "\n",
    "if age >= 10 and age <= 13:\n",
    "    print('13 + 49 + 84 + 155 + 97: что получится? Головная боль!') \n",
    "else: \n",
    "    print('Что-что?')"
   ]
  },
  {
   "cell_type": "code",
   "execution_count": 77,
   "metadata": {},
   "outputs": [
    {
     "name": "stdout",
     "output_type": "stream",
     "text": [
      "Тсс! Это секрет.\n"
     ]
    }
   ],
   "source": [
    "age = 13\n",
    "if age > 20:\n",
    "    print('Как-то вы староваты!')\n",
    "\n",
    "age = 10\n",
    "if age > 10:\n",
    "    print('Вы слишком стары для моих шуток!')\n",
    "\n",
    "age = 8\n",
    "if age == 12:\n",
    "    print(\"Свинья шлепнулась в грязь!\")\n",
    "else:\n",
    "    print(\"Тсс! Это секрет.\")"
   ]
  },
  {
   "cell_type": "code",
   "execution_count": 1,
   "metadata": {},
   "outputs": [
    {
     "name": "stdout",
     "output_type": "stream",
     "text": [
      "None\n",
      "В переменной myval ничего нет\n"
     ]
    }
   ],
   "source": [
    "myval = None\n",
    "print(myval)\n",
    "\n",
    "myval = None\n",
    "if myval == None:\n",
    "    print(\"В переменной myval ничего нет\")"
   ]
  },
  {
   "cell_type": "code",
   "execution_count": 2,
   "metadata": {},
   "outputs": [
    {
     "name": "stdout",
     "output_type": "stream",
     "text": [
      "Как лучше всего общаться смонстром?\n",
      "Издалека!\n"
     ]
    }
   ],
   "source": [
    "age = 10\n",
    "if age == 10:\n",
    "    print(\"Как лучше всего общаться смонстром?\") \n",
    "    print(\"Издалека!\")"
   ]
  },
  {
   "cell_type": "code",
   "execution_count": 3,
   "metadata": {},
   "outputs": [],
   "source": [
    "age = '10'\n",
    "if age == 10:\n",
    "    print(\"Как лучше всего общаться смонстром?\")\n",
    "    print(\"Издалека!\") "
   ]
  },
  {
   "cell_type": "code",
   "execution_count": 5,
   "metadata": {},
   "outputs": [
    {
     "name": "stdout",
     "output_type": "stream",
     "text": [
      "Как лучше всего общаться смонстром?\n",
      "Издалека!\n"
     ]
    }
   ],
   "source": [
    "age = '10'\n",
    "converted_age = int(age)\n",
    "\n",
    "age = 10 \n",
    "converted_age = str(age)\n",
    "\n",
    "age = '10'\n",
    "converted_age = int(age)\n",
    "\n",
    "if converted_age == 10:\n",
    "    print(\"Как лучше всего общаться смонстром?\")\n",
    "    print(\"Издалека!\") "
   ]
  },
  {
   "cell_type": "code",
   "execution_count": 13,
   "metadata": {},
   "outputs": [
    {
     "ename": "ValueError",
     "evalue": "invalid literal for int() with base 10: '10.5'",
     "output_type": "error",
     "traceback": [
      "\u001b[0;31m---------------------------------------------------------------------------\u001b[0m",
      "\u001b[0;31mValueError\u001b[0m                                Traceback (most recent call last)",
      "\u001b[0;32m<ipython-input-13-4263bd502d98>\u001b[0m in \u001b[0;36m<module>\u001b[0;34m()\u001b[0m\n\u001b[1;32m      1\u001b[0m \u001b[0mage\u001b[0m \u001b[0;34m=\u001b[0m \u001b[0;34m'10.5'\u001b[0m\u001b[0;34m\u001b[0m\u001b[0m\n\u001b[0;32m----> 2\u001b[0;31m \u001b[0mconverted_age\u001b[0m \u001b[0;34m=\u001b[0m \u001b[0mint\u001b[0m\u001b[0;34m(\u001b[0m\u001b[0mage\u001b[0m\u001b[0;34m)\u001b[0m\u001b[0;34m\u001b[0m\u001b[0m\n\u001b[0m\u001b[1;32m      3\u001b[0m \u001b[0;34m\u001b[0m\u001b[0m\n\u001b[1;32m      4\u001b[0m \u001b[0;34m\u001b[0m\u001b[0m\n\u001b[1;32m      5\u001b[0m \u001b[0mage\u001b[0m \u001b[0;34m=\u001b[0m \u001b[0;34m'десять'\u001b[0m\u001b[0;34m\u001b[0m\u001b[0m\n",
      "\u001b[0;31mValueError\u001b[0m: invalid literal for int() with base 10: '10.5'"
     ]
    }
   ],
   "source": [
    "age = '10.5'\n",
    "converted_age = int(age)\n",
    "\n",
    "age = 'десять'\n",
    "converted_age = int(age)\n",
    "\n",
    "for x in range(0, 5): \n",
    "    print('привет')\n",
    "\n",
    "print(list(range(10, 20)))\n",
    "\n",
    "for x in range(0, 5):\n",
    "    print('привет %s' % x)"
   ]
  },
  {
   "cell_type": "code",
   "execution_count": 20,
   "metadata": {},
   "outputs": [
    {
     "name": "stdout",
     "output_type": "stream",
     "text": [
      "привет\n",
      "привет\n",
      "привет\n",
      "привет\n",
      "привет\n",
      "[10, 11, 12, 13, 14, 15, 16, 17, 18, 19]\n",
      "привет 0\n",
      "привет 1\n",
      "привет 2\n",
      "привет 3\n",
      "привет 4\n"
     ]
    }
   ],
   "source": [
    "for x in range(0, 5): \n",
    "    print('привет')\n",
    "    \n",
    "print(list(range(10, 20)))\n",
    "\n",
    "for x in range(0, 5):\n",
    "    print('привет %s' % x)"
   ]
  },
  {
   "cell_type": "code",
   "execution_count": 8,
   "metadata": {},
   "outputs": [
    {
     "name": "stdout",
     "output_type": "stream",
     "text": [
      "Неделя 1 = 87\n",
      "Неделя 2 = 154\n",
      "Неделя 3 = 221\n",
      "Неделя 4 = 288\n"
     ]
    }
   ],
   "source": [
    "found_coins = 20\n",
    "magic_coins = 70\n",
    "stolen_coins = 3\n",
    "coins = found_coins\n",
    "for week in range(1, 5):\n",
    "        coins = coins + magic_coins - stolen_coins\n",
    "        print('Неделя %s = %s' % (week, coins))\n",
    "\n",
    "#не понял"
   ]
  },
  {
   "cell_type": "code",
   "execution_count": 14,
   "metadata": {},
   "outputs": [
    {
     "name": "stdout",
     "output_type": "stream",
     "text": [
      "10.5\n"
     ]
    }
   ],
   "source": [
    "age = '10.5'\n",
    "converted_age = float(age)\n",
    "print(converted_age)"
   ]
  },
  {
   "cell_type": "code",
   "execution_count": 1,
   "metadata": {},
   "outputs": [
    {
     "name": "stdout",
     "output_type": "stream",
     "text": [
      "(46, 81)\n",
      "(47, 82)\n",
      "(48, 83)\n",
      "(49, 84)\n",
      "(50, 85)\n"
     ]
    }
   ],
   "source": [
    "x = 45\n",
    "y = 80\n",
    "while x < 50 and y < 100: \n",
    "    x=x+ 1\n",
    "    y=y+ 1 \n",
    "    print(x, y) "
   ]
  },
  {
   "cell_type": "code",
   "execution_count": 8,
   "metadata": {},
   "outputs": [
    {
     "name": "stdout",
     "output_type": "stream",
     "text": [
      "привет 0\n"
     ]
    }
   ],
   "source": [
    "for x in range(0, 20):\n",
    "    print('привет %s' % x)\n",
    "    if x < 9:\n",
    "        break \n",
    "# не понял"
   ]
  },
  {
   "cell_type": "code",
   "execution_count": 3,
   "metadata": {},
   "outputs": [
    {
     "name": "stdout",
     "output_type": "stream",
     "text": [
      "Привет, Мэри\n"
     ]
    }
   ],
   "source": [
    "def testfunc(myname):\n",
    "              print('Привет, %s' % myname)\n",
    "testfunc('Мэри')"
   ]
  },
  {
   "cell_type": "code",
   "execution_count": 4,
   "metadata": {},
   "outputs": [
    {
     "name": "stdout",
     "output_type": "stream",
     "text": [
      "Привет, Мэри Смит\n"
     ]
    }
   ],
   "source": [
    "def testfunc(fname, lname):\n",
    "              print('Привет, %s %s' % (fname, lname))\n",
    "testfunc('Мэри', 'Смит')\n"
   ]
  },
  {
   "cell_type": "code",
   "execution_count": 11,
   "metadata": {},
   "outputs": [
    {
     "name": "stdout",
     "output_type": "stream",
     "text": [
      "15\n"
     ]
    }
   ],
   "source": [
    "def savings(pocket_money, paper_route, spending):\n",
    "              return pocket_money + paper_route - spending\n",
    "print(savings(10, 10, 5))\n",
    "\n",
    "\n",
    "\n"
   ]
  },
  {
   "cell_type": "code",
   "execution_count": 12,
   "metadata": {},
   "outputs": [
    {
     "name": "stdout",
     "output_type": "stream",
     "text": [
      "Sun Oct  2 19:27:28 2022\n"
     ]
    }
   ],
   "source": [
    "import time\n",
    "print(time.asctime())"
   ]
  },
  {
   "cell_type": "markdown",
   "metadata": {},
   "source": [
    "Упражнения  1\n",
    "\n",
    "#1. Любимые вещи \n",
    "\n",
    "Создайте список своих любимых развлечений и сохраните его в пере- менной games. Теперь создайте список любимых лакомств, сохранив его в переменной foods. Объедините два этих списка, сохранив результат в переменной favorites, и напечатайте значение этой переменной. \n",
    "\n",
    "#2. Подсчет воинов \n",
    "\n",
    "Есть 3 дома, на крыше каждого из которых прячутся по 25 ниндзя, и есть 2 туннеля, в каждом из которых скрывается по 40 самураев. Сколько все- го воинов решили устроить заварушку? (Ответ можно найти, введя в обо- лочке Python арифметическое выражение.) \n",
    "\n",
    "#3. Приветствие \n",
    "\n",
    "Создайте две переменные: пусть одна хранит ваше имя, а другая фами- лию. Теперь с помощью строки с метками %s напечатайте приветствие вроде такого: «Привет, Брандо Икетт!». "
   ]
  },
  {
   "cell_type": "code",
   "execution_count": 4,
   "metadata": {},
   "outputs": [
    {
     "name": "stdout",
     "output_type": "stream",
     "text": [
      "['kurit', 'igrat', 'dergat', 'srat', 'pisat', 'hotdog', 'falafel', 'arbuz', 'cake', 'koks']\n"
     ]
    }
   ],
   "source": [
    "games =['kurit' , 'igrat' , 'dergat' , 'srat' , 'pisat']\n",
    "foods = ['hotdog' , 'falafel' , 'arbuz' , 'cake' , 'koks']\n",
    "favorites = games + foods\n",
    "print(favorites)"
   ]
  },
  {
   "cell_type": "code",
   "execution_count": 5,
   "metadata": {},
   "outputs": [
    {
     "name": "stdout",
     "output_type": "stream",
     "text": [
      "75\n"
     ]
    },
    {
     "data": {
      "text/plain": [
       "155"
      ]
     },
     "execution_count": 5,
     "metadata": {},
     "output_type": "execute_result"
    }
   ],
   "source": [
    "ninj = 3*25\n",
    "print(ninj)\n",
    "samur = 2*40\n",
    "VOIN = ninj + samur\n",
    "VOIN"
   ]
  },
  {
   "cell_type": "code",
   "execution_count": 6,
   "metadata": {},
   "outputs": [
    {
     "data": {
      "text/plain": [
       "155"
      ]
     },
     "execution_count": 6,
     "metadata": {},
     "output_type": "execute_result"
    }
   ],
   "source": [
    "VOIN"
   ]
  },
  {
   "cell_type": "code",
   "execution_count": 29,
   "metadata": {},
   "outputs": [
    {
     "ename": "SyntaxError",
     "evalue": "invalid syntax (<ipython-input-29-7482024ac65d>, line 6)",
     "output_type": "error",
     "traceback": [
      "\u001b[0;36m  File \u001b[0;32m\"<ipython-input-29-7482024ac65d>\"\u001b[0;36m, line \u001b[0;32m6\u001b[0m\n\u001b[0;31m    print(message, %(name, fam))\u001b[0m\n\u001b[0m                   ^\u001b[0m\n\u001b[0;31mSyntaxError\u001b[0m\u001b[0;31m:\u001b[0m invalid syntax\n"
     ]
    }
   ],
   "source": [
    "#Создайте две переменные: пусть одна хранит ваше имя, а другая фами- лию. \n",
    "#Теперь с помощью строки с метками %s напечатайте приветствие вроде такого: «Привет, Брандо Икетт!». НЕ ПОНЯЛ\n",
    "name = 'vlad'\n",
    "fam = 'ukh'\n",
    "message = 'Привет, s% , s%\n",
    "print\n"
   ]
  },
  {
   "cell_type": "code",
   "execution_count": 1,
   "metadata": {},
   "outputs": [],
   "source": [
    "def kolvomoney(money):\n",
    "    if money > 1000:\n",
    "         print(\"Я богат!\")\n",
    "    else: \n",
    "        print(\"Я не богат!\")\n",
    "        print(\"Может, когда-нибудь потом...\")"
   ]
  },
  {
   "cell_type": "code",
   "execution_count": 3,
   "metadata": {},
   "outputs": [
    {
     "name": "stdout",
     "output_type": "stream",
     "text": [
      "Я не богат!\n",
      "Может, когда-нибудь потом...\n"
     ]
    }
   ],
   "source": [
    "kolvomoney(800)"
   ]
  },
  {
   "cell_type": "code",
   "execution_count": 4,
   "metadata": {},
   "outputs": [
    {
     "name": "stdout",
     "output_type": "stream",
     "text": [
      "Я не богат!\n",
      "Может, когда-нибудь потом...\n"
     ]
    }
   ],
   "source": [
    "money = 800\n",
    "if money > 1000:\n",
    "     print(\"Я богат!\")\n",
    "else: \n",
    "     print(\"Я не богат!\")\n",
    "print(\"Может, когда-нибудь потом...\")"
   ]
  },
  {
   "cell_type": "code",
   "execution_count": null,
   "metadata": {},
   "outputs": [],
   "source": [
    "#2. Бисквитики! \n",
    "\n",
    "#Создайте конструкцию if, которая проверяет, действительно ли коли- чество бисквитов \n",
    "#(которое задано в переменной twinkies) меньше 100 или больше 500. \n",
    "#Если это условие выполняется, пусть ваша программа напечатает сообщение «Слишком мало или слишком много». \n",
    "\n",
    "twinkies = \n"
   ]
  },
  {
   "cell_type": "markdown",
   "metadata": {},
   "source": [
    "#2. Бисквитики!\n",
    "\n",
    "Создайте конструкцию if, которая проверяет, действительно ли коли- чество бисквитов (которое задано в переменной twinkies) меньше 100 или больше 500. Если это условие выполняется, пусть ваша программа напечатает сообщение «Слишком мало или слишком много».\n",
    "\n",
    "#3. Подходящая сумма\n",
    "\n",
    "Создайте конструкцию if, которая проверяет, соответствует ли задан- ная в переменной money сумма денег диапазону значений от 100 до 500 или диапазону значений от 1000 до 5000.\n",
    "\n",
    "#4. Я одолею этих ниндзя!\n",
    "\n",
    "Создайте конструкцию if, которая печатает строку «Их слишком мно- го», если количество ниндзя (заданное в переменной ninjas) меньше 50, печатает «Будет непросто, но я с ними разделаюсь», если это количество меньше 30, и печатает «Я одолею этих ниндзя!», если количество мень- ше 10. Проверьте, как ваш код работает с таким значением:\n",
    "\n",
    "ninjas = 5\n",
    "\n",
    "...Упражнения 3\n",
    "\n",
    "#1. Цикл с приветом\n",
    "\n",
    "Как вы считаете, что делает эта программа? Сперва придумайте вариант ответа, а потом запустите код и проверьте, угадали ли вы.\n",
    "\n",
    "for x in range(0, 20): print('привет %s' % x) if x < 9: break\n",
    "\n",
    "#2. Четные числа\n",
    "\n",
    "Создайте цикл, который печатает четные числа до тех пор, пока не выве- дет ваш возраст. Если ваш возраст — нечетное число, создайте цикл, ко- торый печатает нечетные числа до совпадения с возрастом. Программа должна выводить на экран нечто подобное:\n",
    "\n",
    "2 4 6 8 10 12 14\n",
    "\n",
    "#3. Пять любимых ингредиентов\n",
    "\n",
    "Создайте список с пятью разными ингредиентами для бутерброда, напо- добие:\n",
    "\n",
    "ingredients = ['слизни', 'пиявки', 'катышки изпупка гориллы', 'брови гусеницы', 'пальцы многоножки']\n",
    "\n",
    "Теперь создайте цикл, который печатает список ингредиентов с нуме- рацией:\n",
    "\n",
    "1 слизни 2 пиявки 3 катышки изпупка гориллы 4 брови гусеницы 5 пальцы многоножки\n",
    "\n",
    "#4. Ваш лунный вес\n",
    "\n",
    "Если бы вы сейчас были на Луне, ваш вес составил бы 16,5 процентов от земного. Чтобы узнать, сколько это, умножьте свой земной вес на 0,165.\n",
    "\n",
    "Если бы каждый год в течение следующих 15 лет вы прибавляли по одному килог\n",
    "\n",
    "рамму веса, каким бы оказался ваш лунный вес в каж- дый из ежегодных визитов на Луну вплоть до 15-го года? Напишите про- грамму, которая с помощью цикла for печатает на экране ваш лунный\n",
    "\n",
    "вес в каждом году.\n",
    "\n",
    "================= ...\n",
    "\n",
    "Упражнения 4\n",
    "\n",
    "Вот несколько упражнений по созданию ваших соб- ственных функций.\n",
    "\n",
    "#1. Функция лунного веса\n",
    "\n",
    "Одним из заданий к главе 6 было создание цикла for для расчета вашего веса на Луне в течение 15 лет. Этот цикл можно оформить в виде функции. Создайте функцию, ко- торая принимает начальный вес и величину, на которую вес увеличивается каждый год. Вызывать эту новую функ- цию нужно будет примерно так:\n",
    "\n",
    "moon_weight(30, 0.25)\n",
    "#2. Функция лунного веса и количество лет\n",
    "\n",
    "Измените функцию из предыдущего задания так, чтобы с ее помощью можно было рассчитывать вес для разного количества лет, например 5 или 20 лет. Пусть эта функция принимает три аргумента: начальный вес, прибавку веса в год и количество лет:\n",
    "\n",
    "  moon_weight(90, 0.25, 5)"
   ]
  },
  {
   "cell_type": "code",
   "execution_count": 6,
   "metadata": {},
   "outputs": [],
   "source": [
    "def kolvo_twink(y):\n",
    "    if y < 100:\n",
    "        return(\"slishkom malo\")\n",
    "    if y >= 100 and y <=500:\n",
    "        return(\"sredne\")\n",
    "    if y > 500:\n",
    "        return(\"skishkom mnogo\")"
   ]
  },
  {
   "cell_type": "code",
   "execution_count": 14,
   "metadata": {},
   "outputs": [],
   "source": [
    "def kolvo_twink_v1(y):\n",
    "        if y >= 100 and y <=500:\n",
    "            return(\"sredne\")\n",
    "        if y >= 100 and y <=500:\n",
    "            return(\"sredne\")\n",
    "            if y > 500:\n",
    "                return(\"skishkom mnogo\")"
   ]
  },
  {
   "cell_type": "code",
   "execution_count": 8,
   "metadata": {},
   "outputs": [
    {
     "data": {
      "text/plain": [
       "'skishkom mnogo'"
      ]
     },
     "execution_count": 8,
     "metadata": {},
     "output_type": "execute_result"
    }
   ],
   "source": [
    "kolvo_twink(700)"
   ]
  },
  {
   "cell_type": "markdown",
   "metadata": {},
   "source": [
    "#3. Подходящая сумма\n",
    "\n",
    "Создайте конструкцию if, которая проверяет, соответствует ли задан- ная в переменной money сумма денег диапазону значений от 100 до 500 или диапазону значений от 1000 до 5000."
   ]
  },
  {
   "cell_type": "code",
   "execution_count": 10,
   "metadata": {},
   "outputs": [],
   "source": [
    "def money(j):\n",
    "    if j > 100 and j <500:\n",
    "        return('dengiest')\n",
    "    if j > 1000 and j < 5000:\n",
    "        return(\"deneg_eshe_bolshe\")"
   ]
  },
  {
   "cell_type": "code",
   "execution_count": 20,
   "metadata": {},
   "outputs": [],
   "source": [
    "money(700)"
   ]
  },
  {
   "cell_type": "code",
   "execution_count": 26,
   "metadata": {},
   "outputs": [],
   "source": [
    "def money_v2(vallet_cash):\n",
    "    if (vallet_cash > 100 and vallet_cash <500) or (vallet_cash > 1000 and vallet_cash < 5000):\n",
    "        return(\"we_chokolate\")\n",
    "    else:\n",
    "        return(\"we_not_chokolate\")\n",
    "    "
   ]
  },
  {
   "cell_type": "code",
   "execution_count": 28,
   "metadata": {},
   "outputs": [
    {
     "data": {
      "text/plain": [
       "'we_chokolate'"
      ]
     },
     "execution_count": 28,
     "metadata": {},
     "output_type": "execute_result"
    }
   ],
   "source": [
    "money_v2(180)"
   ]
  },
  {
   "cell_type": "markdown",
   "metadata": {},
   "source": [
    "#4. Я одолею этих ниндзя!\n",
    "\n",
    "Создайте конструкцию if, которая печатает строку «Их слишком мно- го», если количество ниндзя (заданное в переменной ninjas) меньше 50, печатает «Будет непросто, но я с ними разделаюсь», если это количество меньше 30, и печатает «Я одолею этих ниндзя!», если количество мень- ше 10. Проверьте, как ваш код работает с таким значением:\n",
    "\n",
    "ninjas = 5"
   ]
  },
  {
   "cell_type": "code",
   "execution_count": 29,
   "metadata": {},
   "outputs": [
    {
     "name": "stdout",
     "output_type": "stream",
     "text": [
      "ih slishkom mnogo\n",
      "budi neprosto\n",
      "ya odoleyou\n"
     ]
    }
   ],
   "source": [
    "ninjas = 5\n",
    "if ninjas < 50:\n",
    "    print(\"ih slishkom mnogo\")\n",
    "\n",
    "ninjas = 5\n",
    "if ninjas < 30:\n",
    "    print('budi neprosto')\n",
    "\n",
    "ninjas = 5\n",
    "if ninjas < 10:\n",
    "    print(\"ya odoleyou\")\n",
    "\n"
   ]
  },
  {
   "cell_type": "code",
   "execution_count": 30,
   "metadata": {},
   "outputs": [
    {
     "name": "stdout",
     "output_type": "stream",
     "text": [
      "Привет, Мэри\n"
     ]
    }
   ],
   "source": [
    "def testfunc(myname):\n",
    "              print('Привет, %s' % myname)\n",
    "testfunc('Мэри')\n"
   ]
  },
  {
   "cell_type": "code",
   "execution_count": 61,
   "metadata": {},
   "outputs": [],
   "source": [
    "#Создайте две переменные: пусть одна хранит ваше имя, а другая фами- лию.\n",
    "#Теперь с помощью строки с метками %s напечатайте приветствие вроде такого: «Привет, Брандо Икетт!». \n",
    "imya = \"vova\"\n",
    "famil = \"duraK\"\n",
    "def inyafami(imya,famil):\n",
    "    print(\"Hello, \", imya, famil)\n",
    "    print('Hello, %s %s' % (imya, famil))"
   ]
  },
  {
   "cell_type": "code",
   "execution_count": 62,
   "metadata": {},
   "outputs": [
    {
     "name": "stdout",
     "output_type": "stream",
     "text": [
      "('Hello, ', 'vova', 1)\n",
      "Hello, vova 1\n"
     ]
    }
   ],
   "source": [
    "inyafami(imya, 1)"
   ]
  },
  {
   "cell_type": "code",
   "execution_count": 52,
   "metadata": {},
   "outputs": [],
   "source": [
    "test1 = 'Hello, %s %s' % (imya, famil)"
   ]
  },
  {
   "cell_type": "code",
   "execution_count": 53,
   "metadata": {},
   "outputs": [
    {
     "data": {
      "text/plain": [
       "'Hello, vova duraK'"
      ]
     },
     "execution_count": 53,
     "metadata": {},
     "output_type": "execute_result"
    }
   ],
   "source": [
    "test1"
   ]
  },
  {
   "cell_type": "code",
   "execution_count": 55,
   "metadata": {},
   "outputs": [
    {
     "ename": "SyntaxError",
     "evalue": "invalid syntax (<ipython-input-55-26f72538bc60>, line 1)",
     "output_type": "error",
     "traceback": [
      "\u001b[0;36m  File \u001b[0;32m\"<ipython-input-55-26f72538bc60>\"\u001b[0;36m, line \u001b[0;32m1\u001b[0m\n\u001b[0;31m    help(%)\u001b[0m\n\u001b[0m         ^\u001b[0m\n\u001b[0;31mSyntaxError\u001b[0m\u001b[0;31m:\u001b[0m invalid syntax\n"
     ]
    }
   ],
   "source": []
  },
  {
   "cell_type": "code",
   "execution_count": 63,
   "metadata": {},
   "outputs": [
    {
     "data": {
      "text/plain": [
       "u'/home/viukhanov'"
      ]
     },
     "execution_count": 63,
     "metadata": {},
     "output_type": "execute_result"
    }
   ],
   "source": [
    "pwd"
   ]
  },
  {
   "cell_type": "code",
   "execution_count": 65,
   "metadata": {},
   "outputs": [
    {
     "name": "stdout",
     "output_type": "stream",
     "text": [
      "/bin/sh: 1: mrdir: not found\r\n"
     ]
    }
   ],
   "source": [
    "!mrdir"
   ]
  },
  {
   "cell_type": "code",
   "execution_count": 67,
   "metadata": {},
   "outputs": [
    {
     "name": "stdout",
     "output_type": "stream",
     "text": [
      "total 236\r\n",
      "drwxr-xr-x  9 viukhanov education  4096 Oct 13 21:03 .\r\n",
      "drwxr-xr-x 19 root      root       4096 Sep  7 18:48 ..\r\n",
      "-rw-------  1 viukhanov education  1432 Oct 11 15:01 .bash_history\r\n",
      "-rw-r--r--  1 viukhanov education   220 Sep  1  2015 .bash_logout\r\n",
      "-rw-r--r--  1 viukhanov education  3771 Sep  1  2015 .bashrc\r\n",
      "-rw-r--r--  1 viukhanov education 45408 Oct 13 21:03 bookzad.ipynb\r\n",
      "drwx------  2 viukhanov education  4096 Sep  4 16:15 .cache\r\n",
      "-rw-r--r--  1 viukhanov education    52 Sep 18 21:17 .gitconfig\r\n",
      "drwxr-xr-x  4 viukhanov education  4096 Sep 18 21:30 github\r\n",
      "drwxr-xr-x  2 viukhanov education  4096 Oct  1 20:10 .ipynb_checkpoints\r\n",
      "drwxr-xr-x  5 viukhanov education  4096 Sep  7 19:20 .ipython\r\n",
      "drwxr-xr-x  3 viukhanov education  4096 Sep 10 15:07 .jupyter\r\n",
      "-rw-r--r--  1 viukhanov education 29545 Oct  2 18:05 lesson_1.ipynb\r\n",
      "-rw-r--r--  1 viukhanov education 16967 Sep 29 23:53 lesson1v3.ipynb\r\n",
      "-rw-r--r--  1 viukhanov education 12774 Sep 14 14:21 lesson_1_work_1.ipynb\r\n",
      "-rw-r--r--  1 viukhanov education 17466 Oct  4 21:55 lesson_1_work_1_v2.ipynb\r\n",
      "-rw-r--r--  1 viukhanov education 18020 Oct  2 20:11 lesson 5.ipynb\r\n",
      "drwx------  3 viukhanov education  4096 Sep  4 16:15 .local\r\n",
      "-rw-r--r--  1 viukhanov education   655 Jul 12  2019 .profile\r\n",
      "drwx------  2 viukhanov education  4096 Sep 18 20:09 .ssh\r\n",
      "-rw-r--r--  1 viukhanov education  2837 Sep 10 15:20 Untitled1.ipynb\r\n",
      "-rw-r--r--  1 viukhanov education   755 Sep 14 11:52 Untitled2.ipynb\r\n",
      "-rw-r--r--  1 viukhanov education  1478 Sep 18 20:06 Untitled3.ipynb\r\n",
      "-rw-r--r--  1 viukhanov education  2578 Sep 29 23:49 Untitled4.ipynb\r\n",
      "-rw-r--r--  1 viukhanov education  4148 Sep  7 21:29 Untitled.ipynb\r\n",
      "-rw-r--r--  1 viukhanov education     0 Oct  1 20:09 untitled.txt\r\n"
     ]
    }
   ],
   "source": [
    "!ls -la"
   ]
  },
  {
   "cell_type": "code",
   "execution_count": 68,
   "metadata": {},
   "outputs": [],
   "source": [
    "!cp bookzad.ipynb github/team22/users/viukhanov/"
   ]
  },
  {
   "cell_type": "code",
   "execution_count": 69,
   "metadata": {},
   "outputs": [
    {
     "name": "stdout",
     "output_type": "stream",
     "text": [
      "total 236\r\n",
      "drwxr-xr-x  9 viukhanov education  4096 Oct 13 21:05 .\r\n",
      "drwxr-xr-x 19 root      root       4096 Sep  7 18:48 ..\r\n",
      "-rw-------  1 viukhanov education  1432 Oct 11 15:01 .bash_history\r\n",
      "-rw-r--r--  1 viukhanov education   220 Sep  1  2015 .bash_logout\r\n",
      "-rw-r--r--  1 viukhanov education  3771 Sep  1  2015 .bashrc\r\n",
      "-rw-r--r--  1 viukhanov education 47716 Oct 13 21:05 bookzad.ipynb\r\n",
      "drwx------  2 viukhanov education  4096 Sep  4 16:15 .cache\r\n",
      "-rw-r--r--  1 viukhanov education    52 Sep 18 21:17 .gitconfig\r\n",
      "drwxr-xr-x  4 viukhanov education  4096 Sep 18 21:30 github\r\n",
      "drwxr-xr-x  2 viukhanov education  4096 Oct  1 20:10 .ipynb_checkpoints\r\n",
      "drwxr-xr-x  5 viukhanov education  4096 Sep  7 19:20 .ipython\r\n",
      "drwxr-xr-x  3 viukhanov education  4096 Sep 10 15:07 .jupyter\r\n",
      "-rw-r--r--  1 viukhanov education 29545 Oct  2 18:05 lesson_1.ipynb\r\n",
      "-rw-r--r--  1 viukhanov education 16967 Sep 29 23:53 lesson1v3.ipynb\r\n",
      "-rw-r--r--  1 viukhanov education 12774 Sep 14 14:21 lesson_1_work_1.ipynb\r\n",
      "-rw-r--r--  1 viukhanov education 17466 Oct  4 21:55 lesson_1_work_1_v2.ipynb\r\n",
      "-rw-r--r--  1 viukhanov education 18020 Oct  2 20:11 lesson 5.ipynb\r\n",
      "drwx------  3 viukhanov education  4096 Sep  4 16:15 .local\r\n",
      "-rw-r--r--  1 viukhanov education   655 Jul 12  2019 .profile\r\n",
      "drwx------  2 viukhanov education  4096 Sep 18 20:09 .ssh\r\n",
      "-rw-r--r--  1 viukhanov education  2837 Sep 10 15:20 Untitled1.ipynb\r\n",
      "-rw-r--r--  1 viukhanov education   755 Sep 14 11:52 Untitled2.ipynb\r\n",
      "-rw-r--r--  1 viukhanov education  1478 Sep 18 20:06 Untitled3.ipynb\r\n",
      "-rw-r--r--  1 viukhanov education  2578 Sep 29 23:49 Untitled4.ipynb\r\n",
      "-rw-r--r--  1 viukhanov education  4148 Sep  7 21:29 Untitled.ipynb\r\n",
      "-rw-r--r--  1 viukhanov education     0 Oct  1 20:09 untitled.txt\r\n"
     ]
    }
   ],
   "source": [
    "!ls -la"
   ]
  },
  {
   "cell_type": "code",
   "execution_count": 70,
   "metadata": {},
   "outputs": [
    {
     "name": "stdout",
     "output_type": "stream",
     "text": [
      "/home/viukhanov/github/team22/users\n"
     ]
    }
   ],
   "source": [
    "cd github/team22/users/"
   ]
  },
  {
   "cell_type": "code",
   "execution_count": 71,
   "metadata": {},
   "outputs": [
    {
     "data": {
      "text/plain": [
       "u'/home/viukhanov/github/team22/users'"
      ]
     },
     "execution_count": 71,
     "metadata": {},
     "output_type": "execute_result"
    }
   ],
   "source": [
    "pwd"
   ]
  },
  {
   "cell_type": "code",
   "execution_count": 72,
   "metadata": {},
   "outputs": [
    {
     "name": "stdout",
     "output_type": "stream",
     "text": [
      "On branch main\r\n",
      "Your branch is up-to-date with 'origin/main'.\r\n",
      "Untracked files:\r\n",
      "  (use \"git add <file>...\" to include in what will be committed)\r\n",
      "\r\n",
      "\t\u001b[31mviukhanov/bookzad.ipynb\u001b[m\r\n",
      "\t\u001b[31mviukhanov/lesson_3.ipynb\u001b[m\r\n",
      "\r\n",
      "nothing added to commit but untracked files present (use \"git add\" to track)\r\n"
     ]
    }
   ],
   "source": [
    "!git status"
   ]
  },
  {
   "cell_type": "code",
   "execution_count": 74,
   "metadata": {},
   "outputs": [
    {
     "name": "stdout",
     "output_type": "stream",
     "text": [
      "total 288\r\n",
      "drwxr-xr-x  3 viukhanov education   4096 Oct 13 21:06 .\r\n",
      "drwxr-xr-x 12 viukhanov education   4096 Sep 25 21:56 ..\r\n",
      "-rw-r--r--  1 viukhanov education  47716 Oct 13 21:06 bookzad.ipynb\r\n",
      "drwxr-xr-x  2 viukhanov education   4096 Sep 25 22:06 .ipynb_checkpoints\r\n",
      "-rw-r--r--  1 viukhanov education 227043 Sep 25 22:05 lesson_3.ipynb\r\n",
      "-rw-r--r--  1 viukhanov education      7 Sep 25 21:56 README.md\r\n"
     ]
    }
   ],
   "source": [
    "!ls -la viukhanov/"
   ]
  },
  {
   "cell_type": "code",
   "execution_count": 76,
   "metadata": {},
   "outputs": [
    {
     "name": "stdout",
     "output_type": "stream",
     "text": [
      "* \u001b[32mmain\u001b[m\r\n",
      "  viukhanov\u001b[m\r\n",
      "  \u001b[31mremotes/origin/HEAD\u001b[m -> origin/main\r\n",
      "  \u001b[31mremotes/origin/amtsurkov\u001b[m\r\n",
      "  \u001b[31mremotes/origin/aochernyshev\u001b[m\r\n",
      "  \u001b[31mremotes/origin/aominakov\u001b[m\r\n",
      "  \u001b[31mremotes/origin/aominakov_v2\u001b[m\r\n",
      "  \u001b[31mremotes/origin/apyatnitskiy\u001b[m\r\n",
      "  \u001b[31mremotes/origin/artem_clean\u001b[m\r\n",
      "  \u001b[31mremotes/origin/kstimofeev\u001b[m\r\n",
      "  \u001b[31mremotes/origin/main\u001b[m\r\n",
      "  \u001b[31mremotes/origin/mvandreeva\u001b[m\r\n",
      "  \u001b[31mremotes/origin/mvandreeva_v2\u001b[m\r\n",
      "  \u001b[31mremotes/origin/sigrischenko\u001b[m\r\n",
      "  \u001b[31mremotes/origin/sigrischenko2\u001b[m\r\n",
      "  \u001b[31mremotes/origin/sivanov\u001b[m\r\n",
      "  \u001b[31mremotes/origin/viukhanov\u001b[m\r\n",
      "  \u001b[31mremotes/origin/vstimofeeva\u001b[m\r\n"
     ]
    }
   ],
   "source": [
    "!git branch -a"
   ]
  },
  {
   "cell_type": "code",
   "execution_count": 77,
   "metadata": {},
   "outputs": [
    {
     "name": "stdout",
     "output_type": "stream",
     "text": [
      "remote: Enumerating objects: 163, done.\u001b[K\r\n",
      "remote: Counting objects:   0% (1/163)\u001b[K\r",
      "remote: Counting objects:   1% (2/163)\u001b[K\r",
      "remote: Counting objects:   2% (4/163)\u001b[K\r",
      "remote: Counting objects:   3% (5/163)\u001b[K\r",
      "remote: Counting objects:   4% (7/163)\u001b[K\r",
      "remote: Counting objects:   5% (9/163)\u001b[K\r",
      "remote: Counting objects:   6% (10/163)\u001b[K\r",
      "remote: Counting objects:   7% (12/163)\u001b[K\r",
      "remote: Counting objects:   8% (14/163)\u001b[K\r",
      "remote: Counting objects:   9% (15/163)\u001b[K\r",
      "remote: Counting objects:  10% (17/163)\u001b[K\r",
      "remote: Counting objects:  11% (18/163)\u001b[K\r",
      "remote: Counting objects:  12% (20/163)\u001b[K\r",
      "remote: Counting objects:  13% (22/163)\u001b[K\r",
      "remote: Counting objects:  14% (23/163)\u001b[K\r",
      "remote: Counting objects:  15% (25/163)\u001b[K\r",
      "remote: Counting objects:  16% (27/163)\u001b[K\r",
      "remote: Counting objects:  17% (28/163)\u001b[K\r",
      "remote: Counting objects:  18% (30/163)\u001b[K\r",
      "remote: Counting objects:  19% (31/163)\u001b[K\r",
      "remote: Counting objects:  20% (33/163)\u001b[K\r",
      "remote: Counting objects:  21% (35/163)\u001b[K\r",
      "remote: Counting objects:  22% (36/163)\u001b[K\r",
      "remote: Counting objects:  23% (38/163)\u001b[K\r",
      "remote: Counting objects:  24% (40/163)\u001b[K\r",
      "remote: Counting objects:  25% (41/163)\u001b[K\r",
      "remote: Counting objects:  26% (43/163)\u001b[K\r",
      "remote: Counting objects:  27% (45/163)\u001b[K\r",
      "remote: Counting objects:  28% (46/163)\u001b[K\r",
      "remote: Counting objects:  29% (48/163)\u001b[K\r",
      "remote: Counting objects:  30% (49/163)\u001b[K\r",
      "remote: Counting objects:  31% (51/163)\u001b[K\r",
      "remote: Counting objects:  32% (53/163)\u001b[K\r",
      "remote: Counting objects:  33% (54/163)\u001b[K\r",
      "remote: Counting objects:  34% (56/163)\u001b[K\r",
      "remote: Counting objects:  35% (58/163)\u001b[K\r",
      "remote: Counting objects:  36% (59/163)\u001b[K\r",
      "remote: Counting objects:  37% (61/163)\u001b[K\r",
      "remote: Counting objects:  38% (62/163)\u001b[K\r",
      "remote: Counting objects:  39% (64/163)\u001b[K\r",
      "remote: Counting objects:  40% (66/163)\u001b[K\r",
      "remote: Counting objects:  41% (67/163)\u001b[K\r",
      "remote: Counting objects:  42% (69/163)\u001b[K\r",
      "remote: Counting objects:  43% (71/163)\u001b[K\r",
      "remote: Counting objects:  44% (72/163)\u001b[K\r",
      "remote: Counting objects:  45% (74/163)\u001b[K\r",
      "remote: Counting objects:  46% (75/163)\u001b[K\r",
      "remote: Counting objects:  47% (77/163)\u001b[K\r",
      "remote: Counting objects:  48% (79/163)\u001b[K\r",
      "remote: Counting objects:  49% (80/163)\u001b[K\r",
      "remote: Counting objects:  50% (82/163)\u001b[K\r",
      "remote: Counting objects:  51% (84/163)\u001b[K\r",
      "remote: Counting objects:  52% (85/163)\u001b[K\r",
      "remote: Counting objects:  53% (87/163)\u001b[K\r",
      "remote: Counting objects:  54% (89/163)\u001b[K\r",
      "remote: Counting objects:  55% (90/163)\u001b[K\r",
      "remote: Counting objects:  56% (92/163)\u001b[K\r",
      "remote: Counting objects:  57% (93/163)\u001b[K\r",
      "remote: Counting objects:  58% (95/163)\u001b[K\r",
      "remote: Counting objects:  59% (97/163)\u001b[K\r",
      "remote: Counting objects:  60% (98/163)\u001b[K\r",
      "remote: Counting objects:  61% (100/163)\u001b[K\r",
      "remote: Counting objects:  62% (102/163)\u001b[K\r",
      "remote: Counting objects:  63% (103/163)\u001b[K\r",
      "remote: Counting objects:  64% (105/163)\u001b[K\r",
      "remote: Counting objects:  65% (106/163)\u001b[K\r",
      "remote: Counting objects:  66% (108/163)\u001b[K\r",
      "remote: Counting objects:  67% (110/163)\u001b[K\r",
      "remote: Counting objects:  68% (111/163)\u001b[K\r",
      "remote: Counting objects:  69% (113/163)\u001b[K\r",
      "remote: Counting objects:  70% (115/163)\u001b[K\r",
      "remote: Counting objects:  71% (116/163)\u001b[K\r",
      "remote: Counting objects:  72% (118/163)\u001b[K\r",
      "remote: Counting objects:  73% (119/163)\u001b[K\r",
      "remote: Counting objects:  74% (121/163)\u001b[K\r",
      "remote: Counting objects:  75% (123/163)\u001b[K\r",
      "remote: Counting objects:  76% (124/163)\u001b[K\r",
      "remote: Counting objects:  77% (126/163)\u001b[K\r",
      "remote: Counting objects:  78% (128/163)\u001b[K\r",
      "remote: Counting objects:  79% (129/163)\u001b[K\r",
      "remote: Counting objects:  80% (131/163)\u001b[K\r",
      "remote: Counting objects:  81% (133/163)\u001b[K\r",
      "remote: Counting objects:  82% (134/163)\u001b[K\r",
      "remote: Counting objects:  83% (136/163)\u001b[K\r",
      "remote: Counting objects:  84% (137/163)\u001b[K\r",
      "remote: Counting objects:  85% (139/163)\u001b[K\r",
      "remote: Counting objects:  86% (141/163)\u001b[K\r",
      "remote: Counting objects:  87% (142/163)\u001b[K\r",
      "remote: Counting objects:  88% (144/163)\u001b[K\r",
      "remote: Counting objects:  89% (146/163)\u001b[K\r",
      "remote: Counting objects:  90% (147/163)\u001b[K\r",
      "remote: Counting objects:  91% (149/163)\u001b[K\r",
      "remote: Counting objects:  92% (150/163)\u001b[K\r",
      "remote: Counting objects:  93% (152/163)\u001b[K\r",
      "remote: Counting objects:  94% (154/163)\u001b[K\r",
      "remote: Counting objects:  95% (155/163)\u001b[K\r",
      "remote: Counting objects:  96% (157/163)\u001b[K\r",
      "remote: Counting objects:  97% (159/163)\u001b[K\r",
      "remote: Counting objects:  98% (160/163)\u001b[K\r",
      "remote: Counting objects:  99% (162/163)\u001b[K\r",
      "remote: Counting objects: 100% (163/163)\u001b[K\r",
      "remote: Counting objects: 100% (163/163), done.\u001b[K\r\n",
      "remote: Compressing objects:   0% (1/104)\u001b[K\r",
      "remote: Compressing objects:   1% (2/104)\u001b[K\r",
      "remote: Compressing objects:   2% (3/104)\u001b[K\r",
      "remote: Compressing objects:   3% (4/104)\u001b[K\r",
      "remote: Compressing objects:   4% (5/104)\u001b[K\r",
      "remote: Compressing objects:   5% (6/104)\u001b[K\r",
      "remote: Compressing objects:   6% (7/104)\u001b[K\r",
      "remote: Compressing objects:   7% (8/104)\u001b[K\r",
      "remote: Compressing objects:   8% (9/104)\u001b[K\r",
      "remote: Compressing objects:   9% (10/104)\u001b[K\r",
      "remote: Compressing objects:  10% (11/104)\u001b[K\r",
      "remote: Compressing objects:  11% (12/104)\u001b[K\r",
      "remote: Compressing objects:  12% (13/104)\u001b[K\r",
      "remote: Compressing objects:  13% (14/104)\u001b[K\r",
      "remote: Compressing objects:  14% (15/104)\u001b[K\r",
      "remote: Compressing objects:  15% (16/104)\u001b[K\r",
      "remote: Compressing objects:  16% (17/104)\u001b[K\r",
      "remote: Compressing objects:  17% (18/104)\u001b[K\r",
      "remote: Compressing objects:  18% (19/104)\u001b[K\r",
      "remote: Compressing objects:  19% (20/104)\u001b[K\r",
      "remote: Compressing objects:  20% (21/104)\u001b[K\r",
      "remote: Compressing objects:  21% (22/104)\u001b[K\r",
      "remote: Compressing objects:  22% (23/104)\u001b[K\r",
      "remote: Compressing objects:  23% (24/104)\u001b[K\r",
      "remote: Compressing objects:  24% (25/104)\u001b[K\r",
      "remote: Compressing objects:  25% (26/104)\u001b[K\r",
      "remote: Compressing objects:  26% (28/104)\u001b[K\r",
      "remote: Compressing objects:  27% (29/104)\u001b[K\r",
      "remote: Compressing objects:  28% (30/104)\u001b[K\r",
      "remote: Compressing objects:  29% (31/104)\u001b[K\r",
      "remote: Compressing objects:  30% (32/104)\u001b[K\r",
      "remote: Compressing objects:  31% (33/104)\u001b[K\r",
      "remote: Compressing objects:  32% (34/104)\u001b[K\r",
      "remote: Compressing objects:  33% (35/104)\u001b[K\r",
      "remote: Compressing objects:  34% (36/104)\u001b[K\r",
      "remote: Compressing objects:  35% (37/104)\u001b[K\r",
      "remote: Compressing objects:  36% (38/104)\u001b[K\r",
      "remote: Compressing objects:  37% (39/104)\u001b[K\r",
      "remote: Compressing objects:  38% (40/104)\u001b[K\r",
      "remote: Compressing objects:  39% (41/104)\u001b[K\r",
      "remote: Compressing objects:  40% (42/104)\u001b[K\r",
      "remote: Compressing objects:  41% (43/104)\u001b[K\r",
      "remote: Compressing objects:  42% (44/104)\u001b[K\r",
      "remote: Compressing objects:  43% (45/104)\u001b[K\r",
      "remote: Compressing objects:  44% (46/104)\u001b[K\r",
      "remote: Compressing objects:  45% (47/104)\u001b[K\r",
      "remote: Compressing objects:  46% (48/104)\u001b[K\r",
      "remote: Compressing objects:  47% (49/104)\u001b[K\r",
      "remote: Compressing objects:  48% (50/104)\u001b[K\r",
      "remote: Compressing objects:  49% (51/104)\u001b[K\r",
      "remote: Compressing objects:  50% (52/104)\u001b[K\r",
      "remote: Compressing objects:  51% (54/104)\u001b[K\r",
      "remote: Compressing objects:  52% (55/104)\u001b[K\r",
      "remote: Compressing objects:  53% (56/104)\u001b[K\r",
      "remote: Compressing objects:  54% (57/104)\u001b[K\r",
      "remote: Compressing objects:  55% (58/104)\u001b[K\r",
      "remote: Compressing objects:  56% (59/104)\u001b[K\r",
      "remote: Compressing objects:  57% (60/104)\u001b[K\r",
      "remote: Compressing objects:  58% (61/104)\u001b[K\r",
      "remote: Compressing objects:  59% (62/104)\u001b[K\r",
      "remote: Compressing objects:  60% (63/104)\u001b[K\r",
      "remote: Compressing objects:  61% (64/104)\u001b[K\r",
      "remote: Compressing objects:  62% (65/104)\u001b[K\r",
      "remote: Compressing objects:  63% (66/104)\u001b[K\r",
      "remote: Compressing objects:  64% (67/104)\u001b[K\r",
      "remote: Compressing objects:  65% (68/104)\u001b[K\r",
      "remote: Compressing objects:  66% (69/104)\u001b[K\r",
      "remote: Compressing objects:  67% (70/104)\u001b[K\r",
      "remote: Compressing objects:  68% (71/104)\u001b[K\r",
      "remote: Compressing objects:  69% (72/104)\u001b[K\r",
      "remote: Compressing objects:  70% (73/104)\u001b[K\r",
      "remote: Compressing objects:  71% (74/104)\u001b[K\r",
      "remote: Compressing objects:  72% (75/104)\u001b[K\r",
      "remote: Compressing objects:  73% (76/104)\u001b[K\r",
      "remote: Compressing objects:  74% (77/104)\u001b[K\r",
      "remote: Compressing objects:  75% (78/104)\u001b[K\r",
      "remote: Compressing objects:  76% (80/104)\u001b[K\r",
      "remote: Compressing objects:  77% (81/104)\u001b[K\r",
      "remote: Compressing objects:  78% (82/104)\u001b[K\r",
      "remote: Compressing objects:  79% (83/104)\u001b[K\r",
      "remote: Compressing objects:  80% (84/104)\u001b[K\r",
      "remote: Compressing objects:  81% (85/104)\u001b[K\r",
      "remote: Compressing objects:  82% (86/104)\u001b[K\r",
      "remote: Compressing objects:  83% (87/104)\u001b[K\r",
      "remote: Compressing objects:  84% (88/104)\u001b[K\r",
      "remote: Compressing objects:  85% (89/104)\u001b[K\r",
      "remote: Compressing objects:  86% (90/104)\u001b[K\r",
      "remote: Compressing objects:  87% (91/104)\u001b[K\r",
      "remote: Compressing objects:  88% (92/104)\u001b[K\r",
      "remote: Compressing objects:  89% (93/104)\u001b[K\r",
      "remote: Compressing objects:  90% (94/104)\u001b[K\r",
      "remote: Compressing objects:  91% (95/104)\u001b[K\r",
      "remote: Compressing objects:  92% (96/104)\u001b[K\r",
      "remote: Compressing objects:  93% (97/104)\u001b[K\r",
      "remote: Compressing objects:  94% (98/104)\u001b[K\r",
      "remote: Compressing objects:  95% (99/104)\u001b[K\r",
      "remote: Compressing objects:  96% (100/104)\u001b[K\r",
      "remote: Compressing objects:  97% (101/104)\u001b[K\r",
      "remote: Compressing objects:  98% (102/104)\u001b[K\r",
      "remote: Compressing objects:  99% (103/104)\u001b[K\r",
      "remote: Compressing objects: 100% (104/104)\u001b[K\r",
      "remote: Compressing objects: 100% (104/104), done.\u001b[K\r\n"
     ]
    },
    {
     "name": "stdout",
     "output_type": "stream",
     "text": [
      "remote: Total 163 (delta 75), reused 124 (delta 45), pack-reused 0\u001b[K\n",
      "Receiving objects: 100% (163/163), 67.41 KiB | 0 bytes/s, done.\n",
      "Resolving deltas: 100% (75/75), completed with 13 local objects.\n",
      "From github.com:amtsu/team22\n",
      "   0484b7b..0180761  main       -> origin/main\n",
      " * [new branch]      aominakov_v3 -> origin/aominakov_v3\n",
      "   85377bb..fddbfba  apyatnitskiy -> origin/apyatnitskiy\n",
      "   d04d7be..e8a8032  mvandreeva_v2 -> origin/mvandreeva_v2\n",
      " * [new branch]      revert-26-mvandreeva_v2 -> origin/revert-26-mvandreeva_v2\n",
      "   e9b8246..75673b5  sivanov    -> origin/sivanov\n",
      "Updating 0484b7b..0180761\n",
      "Fast-forward\n",
      " library/reports/count_sorting_mvandreeva.ipynb     |  234 \u001b[32m+++\u001b[m\n",
      " users/APyatnitskiy/home_work.py                    |  174 \u001b[32m++\u001b[m\u001b[31m-\u001b[m\n",
      " users/amtsurkov/lesson_6.ipynb                     | 1055 \u001b[32m++++++++\u001b[m\u001b[31m------\u001b[m\n",
      " users/amtsurkov/lesson_8.ipynb                     |  367 \u001b[32m+++++\u001b[m\n",
      " users/amtsurkov/lesson_9.ipynb                     |  633 \u001b[32m++++++++\u001b[m\n",
      " users/amtsurkov/lesson_9_1.ipynb                   |   79 \u001b[32m+\u001b[m\n",
      " users/aominakov/povtor_materiala.ipynb             | 1487 \u001b[32m+++++++++++++++++++\u001b[m\n",
      " users/mvandreeva/count_sorting_mvandreeva.ipynb    |  234 \u001b[32m+++\u001b[m\n",
      " .../lesson_6_homework-checkpoint.ipynb             |  209 \u001b[32m+++\u001b[m\n",
      " users/mvandreeva/lesson_6_HW_files/in.txt          |   22 \u001b[32m+\u001b[m\n",
      " users/mvandreeva/lesson_6_HW_files/in2.txt         |    9 \u001b[32m+\u001b[m\n",
      " .../lesson_6_HW_files/lesson_6_homework.ipynb      |  227 \u001b[32m+++\u001b[m\n",
      " users/mvandreeva/lesson_6_HW_files/out.txt         |    4 \u001b[32m+\u001b[m\n",
      " users/mvandreeva/lesson_6_HW_files/out2.txt        |    1 \u001b[32m+\u001b[m\n",
      " .../lesson_7_HW_from_book-checkpoint.ipynb         | 1467 \u001b[32m+++++++++++++++++++\u001b[m\n",
      " .../lesson_7_HW_from_book.ipynb                    | 1467 \u001b[32m+++++++++++++++++++\u001b[m\n",
      " users/mvandreeva/lesson_7_HW_from_book/task.txt    |  338 \u001b[32m+++++\u001b[m\n",
      " .../lesson_9_HW_objects_to_files-checkpoint.ipynb  |   87 \u001b[32m++\u001b[m\n",
      " .../lesson_9_HW_objects_to_files/file.txt          |   10 \u001b[32m+\u001b[m\n",
      " .../lesson_9_HW_objects_to_files.ipynb             |   87 \u001b[32m++\u001b[m\n",
      " .../mvandreeva_lesson_3_TDD_work_1_v2-Copy1.ipynb  | 1090 \u001b[32m++++++++++++++\u001b[m\n",
      " users/sivanov/{ => junk}/batchtestcall.py          |   16 \u001b[32m+\u001b[m\u001b[31m-\u001b[m\n",
      " users/sivanov/junk/test.py                         |    0\n",
      " users/sivanov/{ => junk}/test_class_try1.ipynb     |    0\n",
      " users/sivanov/{ => junk}/test_func_try1.ipynb      |    0\n",
      " .../lesson_1_hw/lesson_1_hw.ipynb}                 |   59 \u001b[32m+\u001b[m\u001b[31m-\u001b[m\n",
      " users/sivanov/lessons/lesson_1_hw/mylistdata.py    |   88 \u001b[32m++\u001b[m\n",
      " .../sivanov/lessons/lesson_1_hw/mymoneyrecords.py  |   70 \u001b[32m+\u001b[m\n",
      " .../sivanov/lessons/lesson_6_hw/lesson_6_hw.ipynb  |  982 \u001b[32m+++++++++++++\u001b[m\n",
      " users/sivanov/lessons/lesson_6_hw/mylistdata.py    |   88 \u001b[32m++\u001b[m\n",
      " .../sivanov/lessons/lesson_6_hw/mymoneyrecords.py  |   70 \u001b[32m+\u001b[m\n",
      " .../test_calc_total_spending/testdata1.txt         |    0\n",
      " .../test_calc_total_spending/testdata2.txt         |    1 \u001b[32m+\u001b[m\n",
      " .../test_calc_total_spending/testdata3.txt         |    6 \u001b[32m+\u001b[m\n",
      " .../test_calc_total_spending/testdata4.txt         |    6 \u001b[32m+\u001b[m\n",
      " .../test_calc_total_spending/testdata5.txt         |    5 \u001b[32m+\u001b[m\n",
      " .../test_find_dupies_in_input_file/testdata1.txt   |    2 \u001b[32m+\u001b[m\n",
      " .../lesson_6_hw/test_make_input_file/testdata1.txt |    3 \u001b[32m+\u001b[m\n",
      " .../lesson_6_hw/test_make_input_file/testdata2.txt |    7 \u001b[32m+\u001b[m\n",
      " .../lesson_6_hw/test_make_input_file/testdata3.txt |    0\n",
      " .../lesson_6_hw/test_make_input_file/testdata4.txt |    1 \u001b[32m+\u001b[m\n",
      " .../lesson_6_hw/test_make_input_file/testdata5.txt |    4 \u001b[32m+\u001b[m\n",
      " .../sivanov/lessons/lesson_7_hw/lesson_7_hw.ipynb  | 1507 \u001b[32m++++++++++++++++++++\u001b[m\n",
      " .../sivanov/lessons/lesson_9_hw/lesson_9_hw.ipynb  |  653 \u001b[32m+++++++++\u001b[m\n",
      " users/sivanov/timsort/random_things.ipynb          |  128 \u001b[32m+\u001b[m\u001b[31m-\u001b[m\n",
      " 45 files changed, 12463 insertions(+), 514 deletions(-)\n",
      " create mode 100644 library/reports/count_sorting_mvandreeva.ipynb\n",
      " create mode 100644 users/amtsurkov/lesson_8.ipynb\n",
      " create mode 100644 users/amtsurkov/lesson_9.ipynb\n",
      " create mode 100644 users/amtsurkov/lesson_9_1.ipynb\n",
      " create mode 100644 users/aominakov/povtor_materiala.ipynb\n",
      " create mode 100644 users/mvandreeva/count_sorting_mvandreeva.ipynb\n",
      " create mode 100644 users/mvandreeva/lesson_6_HW_files/.ipynb_checkpoints/lesson_6_homework-checkpoint.ipynb\n",
      " create mode 100644 users/mvandreeva/lesson_6_HW_files/in.txt\n",
      " create mode 100644 users/mvandreeva/lesson_6_HW_files/in2.txt\n",
      " create mode 100644 users/mvandreeva/lesson_6_HW_files/lesson_6_homework.ipynb\n",
      " create mode 100644 users/mvandreeva/lesson_6_HW_files/out.txt\n",
      " create mode 100644 users/mvandreeva/lesson_6_HW_files/out2.txt\n",
      " create mode 100644 users/mvandreeva/lesson_7_HW_from_book/.ipynb_checkpoints/lesson_7_HW_from_book-checkpoint.ipynb\n",
      " create mode 100644 users/mvandreeva/lesson_7_HW_from_book/lesson_7_HW_from_book.ipynb\n",
      " create mode 100644 users/mvandreeva/lesson_7_HW_from_book/task.txt\n",
      " create mode 100644 users/mvandreeva/lesson_9_HW_objects_to_files/.ipynb_checkpoints/lesson_9_HW_objects_to_files-checkpoint.ipynb\n",
      " create mode 100644 users/mvandreeva/lesson_9_HW_objects_to_files/file.txt\n",
      " create mode 100644 users/mvandreeva/lesson_9_HW_objects_to_files/lesson_9_HW_objects_to_files.ipynb\n",
      " create mode 100644 users/mvandreeva/mvandreeva_lesson_3_TDD_work_1_v2-Copy1.ipynb\n",
      " rename users/sivanov/{ => junk}/batchtestcall.py (80%)\n",
      " create mode 100644 users/sivanov/junk/test.py\n",
      " rename users/sivanov/{ => junk}/test_class_try1.ipynb (100%)\n",
      " rename users/sivanov/{ => junk}/test_func_try1.ipynb (100%)\n",
      " rename users/sivanov/{lesson_1_work_1_v2_TDD_in_progress.ipynb => lessons/lesson_1_hw/lesson_1_hw.ipynb} (97%)\n",
      " create mode 100644 users/sivanov/lessons/lesson_1_hw/mylistdata.py\n",
      " create mode 100644 users/sivanov/lessons/lesson_1_hw/mymoneyrecords.py\n",
      " create mode 100644 users/sivanov/lessons/lesson_6_hw/lesson_6_hw.ipynb\n",
      " create mode 100644 users/sivanov/lessons/lesson_6_hw/mylistdata.py\n",
      " create mode 100644 users/sivanov/lessons/lesson_6_hw/mymoneyrecords.py\n",
      " create mode 100644 users/sivanov/lessons/lesson_6_hw/test_calc_total_spending/testdata1.txt\n",
      " create mode 100644 users/sivanov/lessons/lesson_6_hw/test_calc_total_spending/testdata2.txt\n",
      " create mode 100644 users/sivanov/lessons/lesson_6_hw/test_calc_total_spending/testdata3.txt\n",
      " create mode 100644 users/sivanov/lessons/lesson_6_hw/test_calc_total_spending/testdata4.txt\n",
      " create mode 100644 users/sivanov/lessons/lesson_6_hw/test_calc_total_spending/testdata5.txt\n",
      " create mode 100644 users/sivanov/lessons/lesson_6_hw/test_find_dupies_in_input_file/testdata1.txt\n",
      " create mode 100644 users/sivanov/lessons/lesson_6_hw/test_make_input_file/testdata1.txt\n",
      " create mode 100644 users/sivanov/lessons/lesson_6_hw/test_make_input_file/testdata2.txt\n",
      " create mode 100644 users/sivanov/lessons/lesson_6_hw/test_make_input_file/testdata3.txt\n",
      " create mode 100644 users/sivanov/lessons/lesson_6_hw/test_make_input_file/testdata4.txt\n",
      " create mode 100644 users/sivanov/lessons/lesson_6_hw/test_make_input_file/testdata5.txt\n",
      " create mode 100644 users/sivanov/lessons/lesson_7_hw/lesson_7_hw.ipynb\n",
      " create mode 100644 users/sivanov/lessons/lesson_9_hw/lesson_9_hw.ipynb\n"
     ]
    }
   ],
   "source": [
    "!git pull"
   ]
  },
  {
   "cell_type": "code",
   "execution_count": 78,
   "metadata": {},
   "outputs": [
    {
     "name": "stdout",
     "output_type": "stream",
     "text": [
      "* \u001b[32mmain\u001b[m\r\n",
      "  viukhanov\u001b[m\r\n"
     ]
    }
   ],
   "source": [
    "!git branch"
   ]
  },
  {
   "cell_type": "code",
   "execution_count": 79,
   "metadata": {},
   "outputs": [],
   "source": [
    "!git branch viukhanov_homework2_v1"
   ]
  },
  {
   "cell_type": "code",
   "execution_count": 80,
   "metadata": {},
   "outputs": [
    {
     "name": "stdout",
     "output_type": "stream",
     "text": [
      "* \u001b[32mmain\u001b[m\r\n",
      "  viukhanov\u001b[m\r\n",
      "  viukhanov_homework2_v1\u001b[m\r\n"
     ]
    }
   ],
   "source": [
    "!git branch"
   ]
  },
  {
   "cell_type": "code",
   "execution_count": 82,
   "metadata": {},
   "outputs": [
    {
     "name": "stdout",
     "output_type": "stream",
     "text": [
      "Switched to branch 'viukhanov_homework2_v1'\r\n"
     ]
    }
   ],
   "source": [
    "!git checkout viukhanov_homework2_v1"
   ]
  },
  {
   "cell_type": "code",
   "execution_count": 84,
   "metadata": {},
   "outputs": [
    {
     "name": "stdout",
     "output_type": "stream",
     "text": [
      "  main\u001b[m\r\n",
      "  viukhanov\u001b[m\r\n",
      "* \u001b[32mviukhanov_homework2_v1\u001b[m\r\n"
     ]
    }
   ],
   "source": [
    "!git branch"
   ]
  },
  {
   "cell_type": "code",
   "execution_count": 85,
   "metadata": {},
   "outputs": [
    {
     "name": "stdout",
     "output_type": "stream",
     "text": [
      "On branch viukhanov_homework2_v1\r\n",
      "Untracked files:\r\n",
      "  (use \"git add <file>...\" to include in what will be committed)\r\n",
      "\r\n",
      "\t\u001b[31mviukhanov/bookzad.ipynb\u001b[m\r\n",
      "\t\u001b[31mviukhanov/lesson_3.ipynb\u001b[m\r\n",
      "\r\n",
      "nothing added to commit but untracked files present (use \"git add\" to track)\r\n"
     ]
    }
   ],
   "source": [
    "!git status"
   ]
  },
  {
   "cell_type": "code",
   "execution_count": 87,
   "metadata": {},
   "outputs": [],
   "source": [
    "!git add viukhanov/bookzad.ipynb viukhanov/lesson_3.ipynb"
   ]
  },
  {
   "cell_type": "code",
   "execution_count": 88,
   "metadata": {},
   "outputs": [
    {
     "name": "stdout",
     "output_type": "stream",
     "text": [
      "On branch viukhanov_homework2_v1\r\n",
      "Changes to be committed:\r\n",
      "  (use \"git reset HEAD <file>...\" to unstage)\r\n",
      "\r\n",
      "\t\u001b[32mnew file:   viukhanov/bookzad.ipynb\u001b[m\r\n",
      "\t\u001b[32mnew file:   viukhanov/lesson_3.ipynb\u001b[m\r\n",
      "\r\n"
     ]
    }
   ],
   "source": [
    "!git status"
   ]
  },
  {
   "cell_type": "code",
   "execution_count": 89,
   "metadata": {},
   "outputs": [
    {
     "name": "stdout",
     "output_type": "stream",
     "text": [
      "[viukhanov_homework2_v1 e7ce75c] do_homework\r\n",
      " 2 files changed, 2495 insertions(+)\r\n",
      " create mode 100644 users/viukhanov/bookzad.ipynb\r\n",
      " create mode 100644 users/viukhanov/lesson_3.ipynb\r\n"
     ]
    }
   ],
   "source": [
    "!git commit -m \"do_homework\""
   ]
  },
  {
   "cell_type": "code",
   "execution_count": 90,
   "metadata": {},
   "outputs": [
    {
     "name": "stdout",
     "output_type": "stream",
     "text": [
      "On branch viukhanov_homework2_v1\r\n",
      "nothing to commit, working directory clean\r\n"
     ]
    }
   ],
   "source": [
    "!git status"
   ]
  },
  {
   "cell_type": "code",
   "execution_count": 91,
   "metadata": {},
   "outputs": [
    {
     "name": "stdout",
     "output_type": "stream",
     "text": [
      "warning: push.default is unset; its implicit value has changed in\r\n",
      "Git 2.0 from 'matching' to 'simple'. To squelch this message\r\n",
      "and maintain the traditional behavior, use:\r\n",
      "\r\n",
      "  git config --global push.default matching\r\n",
      "\r\n",
      "To squelch this message and adopt the new behavior now, use:\r\n",
      "\r\n",
      "  git config --global push.default simple\r\n",
      "\r\n",
      "When push.default is set to 'matching', git will push local branches\r\n",
      "to the remote branches that already exist with the same name.\r\n",
      "\r\n",
      "Since Git 2.0, Git defaults to the more conservative 'simple'\r\n",
      "behavior, which only pushes the current branch to the corresponding\r\n",
      "remote branch that 'git pull' uses to update the current branch.\r\n",
      "\r\n",
      "See 'git help config' and search for 'push.default' for further information.\r\n",
      "(the 'simple' mode was introduced in Git 1.7.11. Use the similar mode\r\n",
      "'current' instead of 'simple' if you sometimes use older versions of Git)\r\n",
      "\r\n",
      "fatal: The current branch viukhanov_homework2_v1 has no upstream branch.\r\n",
      "To push the current branch and set the remote as upstream, use\r\n",
      "\r\n",
      "    git push --set-upstream origin viukhanov_homework2_v1\r\n",
      "\r\n"
     ]
    }
   ],
   "source": [
    "!git push"
   ]
  },
  {
   "cell_type": "code",
   "execution_count": 92,
   "metadata": {},
   "outputs": [
    {
     "name": "stdout",
     "output_type": "stream",
     "text": [
      "Counting objects: 5, done.\n",
      "Compressing objects: 100% (5/5), done.\n",
      "Writing objects: 100% (5/5), 7.90 KiB | 0 bytes/s, done.\n",
      "Total 5 (delta 2), reused 0 (delta 0)\n",
      "remote: Resolving deltas: 100% (2/2), completed with 2 local objects.\u001b[K\n",
      "remote: \n",
      "remote: Create a pull request for 'viukhanov_homework2_v1' on GitHub by visiting:\u001b[K\n",
      "remote:      https://github.com/amtsu/team22/pull/new/viukhanov_homework2_v1\u001b[K\n",
      "remote: \n",
      "To git@github.com:amtsu/team22.git\n",
      " * [new branch]      viukhanov_homework2_v1 -> viukhanov_homework2_v1\n",
      "Branch viukhanov_homework2_v1 set up to track remote branch viukhanov_homework2_v1 from origin.\n"
     ]
    }
   ],
   "source": [
    "!git push --set-upstream origin viukhanov_homework2_v1"
   ]
  },
  {
   "cell_type": "code",
   "execution_count": null,
   "metadata": {},
   "outputs": [],
   "source": [
    "!cp /home/viukhanov/bookzad.ipynb vi "
   ]
  }
 ],
 "metadata": {
  "kernelspec": {
   "display_name": "Python 2",
   "language": "python",
   "name": "python2"
  },
  "language_info": {
   "codemirror_mode": {
    "name": "ipython",
    "version": 2
   },
   "file_extension": ".py",
   "mimetype": "text/x-python",
   "name": "python",
   "nbconvert_exporter": "python",
   "pygments_lexer": "ipython2",
   "version": "2.7.12"
  }
 },
 "nbformat": 4,
 "nbformat_minor": 2
}
