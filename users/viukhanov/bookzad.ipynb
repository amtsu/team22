{
 "cells": [
  {
   "cell_type": "markdown",
   "metadata": {},
   "source": [
    "\n",
    "\n",
    "=================\n",
    "\n",
    "Упражнения  2\n",
    "\n",
    "Решите эти задачи, используя конструкции if и условия. \n",
    "\n",
    "#1. Вы богаты? \n",
    "\n",
    "Как думаете, что делает этот код? Сначала попробуйте в этом разобрать- ся, не вводя код в оболочку Python, а затем проверьте свой ответ. \n",
    "\n",
    "money = 2000\n",
    "if money > 1000:\n",
    "     print(\"Я богат!\")\n",
    "else: \n",
    "     print(\"Я не богат!\")\n",
    "     print(\"Может, когда-нибудь потом...\")\n",
    "\n",
    "#2. Бисквитики! \n",
    "\n",
    "Создайте конструкцию if, которая проверяет, действительно ли коли- чество бисквитов (которое задано в переменной twinkies) меньше 100 или больше 500. Если это условие выполняется, пусть ваша программа напечатает сообщение «Слишком мало или слишком много». \n",
    "\n",
    "#3. Подходящая сумма \n",
    "\n",
    "Создайте конструкцию if, которая проверяет, соответствует ли задан- ная в переменной money сумма денег диапазону значений от 100 до 500 или диапазону значений от 1000 до 5000. \n",
    "\n",
    "#4. Я одолею этих ниндзя! \n",
    "\n",
    "Создайте конструкцию if, которая печатает строку «Их слишком мно- го», если количество ниндзя (заданное в переменной ninjas) меньше 50, печатает «Будет непросто, но я с ними разделаюсь», если это количество меньше 30, и печатает «Я одолею этих ниндзя!», если количество мень- ше 10. Проверьте, как ваш код работает с таким значением: \n",
    "\n",
    "ninjas = 5 \n",
    "\n",
    "...Упражнения  3\n",
    "\n",
    "#1. Цикл с приветом \n",
    "\n",
    "Как вы считаете, что делает эта программа? Сперва придумайте вариант ответа, а потом запустите код и проверьте, угадали ли вы. \n",
    "\n",
    "for x in range(0, 20):\n",
    "    print('привет %s' % x)\n",
    "    if x < 9:\n",
    "        break \n",
    "\n",
    "#2. Четные числа \n",
    "\n",
    "Создайте цикл, который печатает четные числа до тех пор, пока не выве- дет ваш возраст. Если ваш возраст — нечетное число, создайте цикл, ко- торый печатает нечетные числа до совпадения с возрастом. Программа должна выводить на экран нечто подобное: \n",
    "\n",
    "2 4 6 8 10 12 14 \n",
    "\n",
    "#3. Пять любимых ингредиентов \n",
    "\n",
    "Создайте список с пятью разными ингредиентами для бутерброда, напо- добие: \n",
    "\n",
    "ingredients = ['слизни', 'пиявки', 'катышки изпупка гориллы', 'брови гусеницы', 'пальцы многоножки'] \n",
    "\n",
    "Теперь создайте цикл, который печатает список ингредиентов с нуме- рацией: \n",
    "\n",
    "1 слизни\n",
    "2 пиявки\n",
    "3 катышки изпупка гориллы \n",
    "4 брови гусеницы\n",
    "5 пальцы многоножки\n",
    "\n",
    "#4. Ваш лунный вес \n",
    "\n",
    "Если бы вы сейчас были на Луне, ваш вес составил бы 16,5 процентов от земного. Чтобы узнать, сколько это, умножьте свой земной вес на 0,165. \n",
    "\n",
    "Если бы каждый год в течение следующих 15 лет вы прибавляли по одному килог\n",
    "\n",
    "рамму веса, каким бы оказался ваш лунный вес в каж- дый из ежегодных визитов на Луну вплоть до 15-го года? Напишите про- грамму, которая с помощью цикла for печатает на экране ваш лунный \n",
    "\n",
    "вес в каждом году. \n",
    "\n",
    "=================\n",
    "...\n",
    "\n",
    "Упражнения  4\n",
    "\n",
    "Вот несколько упражнений по созданию ваших соб- ственных функций. \n",
    "\n",
    "#1. Функция лунного веса \n",
    "\n",
    "Одним из заданий к главе 6 было создание цикла for для расчета вашего веса на Луне в течение 15 лет. Этот цикл можно оформить в виде функции. Создайте функцию, ко- торая принимает начальный вес и величину, на которую вес увеличивается каждый год. Вызывать эту новую функ- цию нужно будет примерно так: \n",
    "\n",
    "    moon_weight(30, 0.25)\n",
    "\n",
    "#2. Функция лунного веса и количество лет \n",
    "\n",
    "Измените функцию из предыдущего задания так, чтобы с ее помощью можно было рассчитывать вес для разного количества лет, например 5 или 20 лет. Пусть эта функция принимает три аргумента: начальный вес, прибавку веса в год и количество лет: \n",
    "\n",
    "      moon_weight(90, 0.25, 5)"
   ]
  },
  {
   "cell_type": "code",
   "execution_count": 1,
   "metadata": {},
   "outputs": [
    {
     "data": {
      "text/plain": [
       "70"
      ]
     },
     "execution_count": 1,
     "metadata": {},
     "output_type": "execute_result"
    }
   ],
   "source": [
    "((5 + 30) * 20) / 10"
   ]
  },
  {
   "cell_type": "code",
   "execution_count": 2,
   "metadata": {},
   "outputs": [
    {
     "data": {
      "text/plain": [
       "65"
      ]
     },
     "execution_count": 2,
     "metadata": {},
     "output_type": "execute_result"
    }
   ],
   "source": [
    "5 + 30 * 20 / 10"
   ]
  },
  {
   "cell_type": "code",
   "execution_count": 8,
   "metadata": {},
   "outputs": [
    {
     "name": "stdout",
     "output_type": "stream",
     "text": [
      "200\n"
     ]
    }
   ],
   "source": [
    "fred = 200\n",
    "john = fred\n",
    "print(john)"
   ]
  },
  {
   "cell_type": "code",
   "execution_count": 5,
   "metadata": {},
   "outputs": [
    {
     "data": {
      "text/plain": [
       "3514"
      ]
     },
     "execution_count": 5,
     "metadata": {},
     "output_type": "execute_result"
    }
   ],
   "source": [
    "20 + 10 * 365 - 3 * 52"
   ]
  },
  {
   "cell_type": "code",
   "execution_count": 6,
   "metadata": {},
   "outputs": [
    {
     "data": {
      "text/plain": [
       "3514"
      ]
     },
     "execution_count": 6,
     "metadata": {},
     "output_type": "execute_result"
    }
   ],
   "source": [
    "found_coins = 20\n",
    "magic_coins = 10\n",
    "stolen_coins = 3\n",
    "found_coins + magic_coins * 365 - stolen_coins * 52\n"
   ]
  },
  {
   "cell_type": "code",
   "execution_count": 9,
   "metadata": {},
   "outputs": [
    {
     "name": "stdout",
     "output_type": "stream",
     "text": [
      "Что едят на полдник динозавры?\n",
      "ТиРекс-кекс!\n"
     ]
    }
   ],
   "source": [
    "fred = '''Что едят на полдник динозавры?\n",
    "ТиРекс-кекс!''' \n",
    "print(fred)"
   ]
  },
  {
   "cell_type": "code",
   "execution_count": 5,
   "metadata": {},
   "outputs": [
    {
     "name": "stdout",
     "output_type": "stream",
     "text": [
      "Мой счет: 1000 очков\n"
     ]
    }
   ],
   "source": [
    "myscore = 1000\n",
    "message = \"Мой счет: %s очков\"\n",
    "print(message % myscore)"
   ]
  },
  {
   "cell_type": "code",
   "execution_count": 6,
   "metadata": {},
   "outputs": [
    {
     "name": "stdout",
     "output_type": "stream",
     "text": [
      "Коленка: приспособление для поиска мебели втемноте\n",
      "Лодыжка: приспособление для поиска мебели втемноте\n"
     ]
    }
   ],
   "source": [
    "joke_text = \"%s: приспособление для поиска мебели втемноте\"\n",
    "bodypart1 = \"Коленка\"\n",
    "bodypart2 = \"Лодыжка\"\n",
    "print(joke_text % bodypart1) \n",
    "print(joke_text % bodypart2)\n"
   ]
  },
  {
   "cell_type": "code",
   "execution_count": 12,
   "metadata": {},
   "outputs": [
    {
     "name": "stdout",
     "output_type": "stream",
     "text": [
      "Что сказало число 0 числу 10? Славный поясок!\n"
     ]
    }
   ],
   "source": [
    "nums = 'Что сказало число %s числу %s? Славный поясок!'\n",
    "print(nums % (0, 10))"
   ]
  },
  {
   "cell_type": "code",
   "execution_count": 13,
   "metadata": {},
   "outputs": [
    {
     "name": "stdout",
     "output_type": "stream",
     "text": [
      "aaaaaaaaaa\n"
     ]
    }
   ],
   "source": [
    "print(10 * 'a')"
   ]
  },
  {
   "cell_type": "code",
   "execution_count": 42,
   "metadata": {},
   "outputs": [
    {
     "name": "stdout",
     "output_type": "stream",
     "text": [
      "pis\n",
      "['ghghghghg', 'kuii', 'jir']\n"
     ]
    }
   ],
   "source": [
    "wizard_list = ['xer', 'kui', 'pis', 'kuii', 'jir', 'uho'] \n",
    "print(wizard_list[2])\n",
    "wizard_list[2] = 'ghghghghg' \n",
    "print(wizard_list[2:5])\n",
    "\n",
    "\n",
    "\n",
    "\n",
    "\n",
    "\n"
   ]
  },
  {
   "cell_type": "code",
   "execution_count": 43,
   "metadata": {},
   "outputs": [
    {
     "data": {
      "text/plain": [
       "'ghghghghg'"
      ]
     },
     "execution_count": 43,
     "metadata": {},
     "output_type": "execute_result"
    }
   ],
   "source": [
    "wizard_list[2]"
   ]
  },
  {
   "cell_type": "code",
   "execution_count": 44,
   "metadata": {},
   "outputs": [
    {
     "data": {
      "text/plain": [
       "[7, 'raz', 'otpe', 1, 'raz', 'ej']"
      ]
     },
     "execution_count": 44,
     "metadata": {},
     "output_type": "execute_result"
    }
   ],
   "source": [
    "numbers_and_strings = [7, \"raz\", \"otpe\", 1, \"raz\", \"ej\"]\n",
    "numbers_and_strings"
   ]
  },
  {
   "cell_type": "code",
   "execution_count": 45,
   "metadata": {},
   "outputs": [
    {
     "name": "stdout",
     "output_type": "stream",
     "text": [
      "[[1, 2, 3, 4, 5], ['hvatit', 'cifri', 'shet']]\n"
     ]
    }
   ],
   "source": [
    "numbers = [1, 2, 3, 4, 5]\n",
    "strings = ['hvatit', 'cifri', 'shet']\n",
    "mylist = [numbers, strings]\n",
    "print(mylist)"
   ]
  },
  {
   "cell_type": "code",
   "execution_count": 46,
   "metadata": {},
   "outputs": [
    {
     "name": "stdout",
     "output_type": "stream",
     "text": [
      "['xer', 'kui', 'ghghghghg', 'kuii', 'jir', 'uho', 'medved kogot']\n"
     ]
    }
   ],
   "source": [
    "wizard_list.append('medved kogot')\n",
    "print(wizard_list)"
   ]
  },
  {
   "cell_type": "code",
   "execution_count": 47,
   "metadata": {},
   "outputs": [
    {
     "name": "stdout",
     "output_type": "stream",
     "text": [
      "['xer', 'kui', 'ghghghghg', 'kuii', 'jir', 'uho', 'medved kogot', 'mandarogora', 'boliglov', 'boloto gas']\n"
     ]
    }
   ],
   "source": [
    "wizard_list.append('mandarogora') \n",
    "wizard_list.append('boliglov')\n",
    "wizard_list.append('boloto gas') \n",
    "print(wizard_list)"
   ]
  },
  {
   "cell_type": "code",
   "execution_count": 48,
   "metadata": {},
   "outputs": [
    {
     "name": "stdout",
     "output_type": "stream",
     "text": [
      "['xer', 'kui', 'ghghghghg', 'kuii', 'jir', 'medved kogot', 'mandarogora', 'boliglov', 'boloto gas']\n"
     ]
    }
   ],
   "source": [
    "del wizard_list[5]\n",
    "print(wizard_list)"
   ]
  },
  {
   "cell_type": "code",
   "execution_count": 49,
   "metadata": {},
   "outputs": [
    {
     "name": "stdout",
     "output_type": "stream",
     "text": [
      "['xer', 'kui', 'ghghghghg', 'kuii', 'jir', 'medved kogot']\n"
     ]
    }
   ],
   "source": [
    "del wizard_list[8]\n",
    "del wizard_list[7]\n",
    "del wizard_list[6]\n",
    "print(wizard_list)"
   ]
  },
  {
   "cell_type": "code",
   "execution_count": 53,
   "metadata": {},
   "outputs": [
    {
     "name": "stdout",
     "output_type": "stream",
     "text": [
      "[1, 2, 3, 4, 5, 'i', 'zabrals', 'pod', 'bed']\n"
     ]
    }
   ],
   "source": [
    "list1 = [1, 2, 3, 4, 5]\n",
    "list2 = ['i', 'zabrals', 'pod', 'bed']\n",
    "print(list1 + list2)"
   ]
  },
  {
   "cell_type": "code",
   "execution_count": 54,
   "metadata": {},
   "outputs": [
    {
     "name": "stdout",
     "output_type": "stream",
     "text": [
      "[1, 2, 1, 2, 1, 2, 1, 2, 1, 2]\n"
     ]
    }
   ],
   "source": [
    "list1 = [1, 2]\n",
    "print(list1 * 5)"
   ]
  },
  {
   "cell_type": "code",
   "execution_count": 68,
   "metadata": {},
   "outputs": [
    {
     "name": "stdout",
     "output_type": "stream",
     "text": [
      "Netball\n"
     ]
    }
   ],
   "source": [
    "favorite_sports = ['RALPH, SOccer', \n",
    "'Mike , basket',\n",
    "'ED, baasball',\n",
    "'Rebekka , Netball', \n",
    "'Ettel , badminton', ' frank, regbi'] \n",
    "\n",
    "favorite_sports = {'RALPH': 'SOccer', 'Mike': 'basket',\n",
    "'ED': 'baasball',\n",
    "'Rebekka': 'Netball', \n",
    "'Ettel': 'badminton', 'frank': 'regbi'} \n",
    "print(favorite_sports['Rebekka'])"
   ]
  },
  {
   "cell_type": "code",
   "execution_count": 70,
   "metadata": {},
   "outputs": [
    {
     "name": "stdout",
     "output_type": "stream",
     "text": [
      "{'Mike': 'basket', 'ED': 'baasball', 'Rebekka': 'Netball', 'frank': 'regbi', 'RALPH': 'SOccer'}\n"
     ]
    }
   ],
   "source": [
    "del favorite_sports['Ettel']\n",
    "print(favorite_sports)"
   ]
  },
  {
   "cell_type": "code",
   "execution_count": 71,
   "metadata": {},
   "outputs": [
    {
     "name": "stdout",
     "output_type": "stream",
     "text": [
      "{'Mike': 'basket', 'ED': 'baasball', 'Rebekka': 'Netball', 'frank': 'regbi', 'RALPH': 'hokke'}\n"
     ]
    }
   ],
   "source": [
    "favorite_sports['RALPH'] = 'hokke'\n",
    "print(favorite_sports)"
   ]
  },
  {
   "cell_type": "code",
   "execution_count": 75,
   "metadata": {},
   "outputs": [
    {
     "ename": "IndentationError",
     "evalue": "expected an indented block (<ipython-input-75-43b5e7225c7d>, line 3)",
     "output_type": "error",
     "traceback": [
      "\u001b[0;36m  File \u001b[0;32m\"<ipython-input-75-43b5e7225c7d>\"\u001b[0;36m, line \u001b[0;32m3\u001b[0m\n\u001b[0;31m    print('Как-то вы староваты!')\u001b[0m\n\u001b[0m        ^\u001b[0m\n\u001b[0;31mIndentationError\u001b[0m\u001b[0;31m:\u001b[0m expected an indented block\n"
     ]
    }
   ],
   "source": []
  },
  {
   "cell_type": "code",
   "execution_count": 76,
   "metadata": {},
   "outputs": [
    {
     "name": "stdout",
     "output_type": "stream",
     "text": [
      "Тсс! Это секрет.\n",
      "Что сказал 0 числу 8?\n",
      "Привет, ребята!\n",
      "13 + 49 + 84 + 155 + 97: что получится? Головная боль!\n",
      "13 + 49 + 84 + 155 + 97: что получится? Головная боль!\n"
     ]
    }
   ],
   "source": [
    "age = 13\n",
    "if age > 20:\n",
    "    print('Как-то вы староваты!')\n",
    "\n",
    "age = 10\n",
    "if age > 10:\n",
    "    print('Вы слишком стары для моих шуток!')\n",
    "\n",
    "age = 8\n",
    "if age == 12:\n",
    "    print(\"Свинья шлепнулась в грязь!\")\n",
    "else:\n",
    "    print(\"Тсс! Это секрет.\")\n",
    "\n",
    "age = 12\n",
    "if age == 10:\n",
    "    print(\"Что выйдет, если клюква наденет штаны?\")\n",
    "    print(\"Брюква!\")\n",
    "elif age == 11:\n",
    "    print(\"Что сказала зеленая виноградина синей виноградине?\")\n",
    "    print(\"Дыши! Дыши!\") \n",
    "elif age == 12:\n",
    "    print(\"Что сказал 0 числу 8?\")\n",
    "    print(\"Привет, ребята!\")\n",
    "elif age == 13:\n",
    "    print(\"Что такое: напотолке сидит ихохочет?\")\n",
    "    print(\"Муха-хохотуха!\") \n",
    "else: \n",
    "    print(\"Что-что?\")\n",
    "if age == 10 or age == 11 or age == 12 or age == 13:\n",
    "    print('13 + 49 + 84 + 155 + 97: что получится? Головная боль!') \n",
    "else: \n",
    "    print('Что-что?')\n",
    "\n",
    "if age >= 10 and age <= 13:\n",
    "    print('13 + 49 + 84 + 155 + 97: что получится? Головная боль!') \n",
    "else: \n",
    "    print('Что-что?')"
   ]
  },
  {
   "cell_type": "code",
   "execution_count": 77,
   "metadata": {},
   "outputs": [
    {
     "name": "stdout",
     "output_type": "stream",
     "text": [
      "Тсс! Это секрет.\n"
     ]
    }
   ],
   "source": [
    "age = 13\n",
    "if age > 20:\n",
    "    print('Как-то вы староваты!')\n",
    "\n",
    "age = 10\n",
    "if age > 10:\n",
    "    print('Вы слишком стары для моих шуток!')\n",
    "\n",
    "age = 8\n",
    "if age == 12:\n",
    "    print(\"Свинья шлепнулась в грязь!\")\n",
    "else:\n",
    "    print(\"Тсс! Это секрет.\")"
   ]
  },
  {
   "cell_type": "code",
   "execution_count": 1,
   "metadata": {},
   "outputs": [
    {
     "name": "stdout",
     "output_type": "stream",
     "text": [
      "None\n",
      "В переменной myval ничего нет\n"
     ]
    }
   ],
   "source": [
    "myval = None\n",
    "print(myval)\n",
    "\n",
    "myval = None\n",
    "if myval == None:\n",
    "    print(\"В переменной myval ничего нет\")"
   ]
  },
  {
   "cell_type": "code",
   "execution_count": 2,
   "metadata": {},
   "outputs": [
    {
     "name": "stdout",
     "output_type": "stream",
     "text": [
      "Как лучше всего общаться смонстром?\n",
      "Издалека!\n"
     ]
    }
   ],
   "source": [
    "age = 10\n",
    "if age == 10:\n",
    "    print(\"Как лучше всего общаться смонстром?\") \n",
    "    print(\"Издалека!\")"
   ]
  },
  {
   "cell_type": "code",
   "execution_count": 3,
   "metadata": {},
   "outputs": [],
   "source": [
    "age = '10'\n",
    "if age == 10:\n",
    "    print(\"Как лучше всего общаться смонстром?\")\n",
    "    print(\"Издалека!\") "
   ]
  },
  {
   "cell_type": "code",
   "execution_count": 5,
   "metadata": {},
   "outputs": [
    {
     "name": "stdout",
     "output_type": "stream",
     "text": [
      "Как лучше всего общаться смонстром?\n",
      "Издалека!\n"
     ]
    }
   ],
   "source": [
    "age = '10'\n",
    "converted_age = int(age)\n",
    "\n",
    "age = 10 \n",
    "converted_age = str(age)\n",
    "\n",
    "age = '10'\n",
    "converted_age = int(age)\n",
    "\n",
    "if converted_age == 10:\n",
    "    print(\"Как лучше всего общаться смонстром?\")\n",
    "    print(\"Издалека!\") "
   ]
  },
  {
   "cell_type": "code",
   "execution_count": 13,
   "metadata": {},
   "outputs": [
    {
     "ename": "ValueError",
     "evalue": "invalid literal for int() with base 10: '10.5'",
     "output_type": "error",
     "traceback": [
      "\u001b[0;31m---------------------------------------------------------------------------\u001b[0m",
      "\u001b[0;31mValueError\u001b[0m                                Traceback (most recent call last)",
      "\u001b[0;32m<ipython-input-13-4263bd502d98>\u001b[0m in \u001b[0;36m<module>\u001b[0;34m()\u001b[0m\n\u001b[1;32m      1\u001b[0m \u001b[0mage\u001b[0m \u001b[0;34m=\u001b[0m \u001b[0;34m'10.5'\u001b[0m\u001b[0;34m\u001b[0m\u001b[0m\n\u001b[0;32m----> 2\u001b[0;31m \u001b[0mconverted_age\u001b[0m \u001b[0;34m=\u001b[0m \u001b[0mint\u001b[0m\u001b[0;34m(\u001b[0m\u001b[0mage\u001b[0m\u001b[0;34m)\u001b[0m\u001b[0;34m\u001b[0m\u001b[0m\n\u001b[0m\u001b[1;32m      3\u001b[0m \u001b[0;34m\u001b[0m\u001b[0m\n\u001b[1;32m      4\u001b[0m \u001b[0;34m\u001b[0m\u001b[0m\n\u001b[1;32m      5\u001b[0m \u001b[0mage\u001b[0m \u001b[0;34m=\u001b[0m \u001b[0;34m'десять'\u001b[0m\u001b[0;34m\u001b[0m\u001b[0m\n",
      "\u001b[0;31mValueError\u001b[0m: invalid literal for int() with base 10: '10.5'"
     ]
    }
   ],
   "source": [
    "age = '10.5'\n",
    "converted_age = int(age)\n",
    "\n",
    "age = 'десять'\n",
    "converted_age = int(age)\n",
    "\n",
    "for x in range(0, 5): \n",
    "    print('привет')\n",
    "\n",
    "print(list(range(10, 20)))\n",
    "\n",
    "for x in range(0, 5):\n",
    "    print('привет %s' % x)"
   ]
  },
  {
   "cell_type": "code",
   "execution_count": 20,
   "metadata": {},
   "outputs": [
    {
     "name": "stdout",
     "output_type": "stream",
     "text": [
      "привет\n",
      "привет\n",
      "привет\n",
      "привет\n",
      "привет\n",
      "[10, 11, 12, 13, 14, 15, 16, 17, 18, 19]\n",
      "привет 0\n",
      "привет 1\n",
      "привет 2\n",
      "привет 3\n",
      "привет 4\n"
     ]
    }
   ],
   "source": [
    "for x in range(0, 5): \n",
    "    print('привет')\n",
    "    \n",
    "print(list(range(10, 20)))\n",
    "\n",
    "for x in range(0, 5):\n",
    "    print('привет %s' % x)"
   ]
  },
  {
   "cell_type": "code",
   "execution_count": 8,
   "metadata": {},
   "outputs": [
    {
     "name": "stdout",
     "output_type": "stream",
     "text": [
      "Неделя 1 = 87\n",
      "Неделя 2 = 154\n",
      "Неделя 3 = 221\n",
      "Неделя 4 = 288\n"
     ]
    }
   ],
   "source": [
    "found_coins = 20\n",
    "magic_coins = 70\n",
    "stolen_coins = 3\n",
    "coins = found_coins\n",
    "for week in range(1, 5):\n",
    "        coins = coins + magic_coins - stolen_coins\n",
    "        print('Неделя %s = %s' % (week, coins))\n",
    "\n",
    "#не понял"
   ]
  },
  {
   "cell_type": "code",
   "execution_count": 14,
   "metadata": {},
   "outputs": [
    {
     "name": "stdout",
     "output_type": "stream",
     "text": [
      "10.5\n"
     ]
    }
   ],
   "source": [
    "age = '10.5'\n",
    "converted_age = float(age)\n",
    "print(converted_age)"
   ]
  },
  {
   "cell_type": "code",
   "execution_count": 1,
   "metadata": {},
   "outputs": [
    {
     "name": "stdout",
     "output_type": "stream",
     "text": [
      "(46, 81)\n",
      "(47, 82)\n",
      "(48, 83)\n",
      "(49, 84)\n",
      "(50, 85)\n"
     ]
    }
   ],
   "source": [
    "x = 45\n",
    "y = 80\n",
    "while x < 50 and y < 100: \n",
    "    x=x+ 1\n",
    "    y=y+ 1 \n",
    "    print(x, y) "
   ]
  },
  {
   "cell_type": "code",
   "execution_count": 8,
   "metadata": {},
   "outputs": [
    {
     "name": "stdout",
     "output_type": "stream",
     "text": [
      "привет 0\n"
     ]
    }
   ],
   "source": [
    "for x in range(0, 20):\n",
    "    print('привет %s' % x)\n",
    "    if x < 9:\n",
    "        break \n",
    "# не понял"
   ]
  },
  {
   "cell_type": "code",
   "execution_count": 3,
   "metadata": {},
   "outputs": [
    {
     "name": "stdout",
     "output_type": "stream",
     "text": [
      "Привет, Мэри\n"
     ]
    }
   ],
   "source": [
    "def testfunc(myname):\n",
    "              print('Привет, %s' % myname)\n",
    "testfunc('Мэри')"
   ]
  },
  {
   "cell_type": "code",
   "execution_count": 4,
   "metadata": {},
   "outputs": [
    {
     "name": "stdout",
     "output_type": "stream",
     "text": [
      "Привет, Мэри Смит\n"
     ]
    }
   ],
   "source": [
    "def testfunc(fname, lname):\n",
    "              print('Привет, %s %s' % (fname, lname))\n",
    "testfunc('Мэри', 'Смит')\n"
   ]
  },
  {
   "cell_type": "code",
   "execution_count": 11,
   "metadata": {},
   "outputs": [
    {
     "name": "stdout",
     "output_type": "stream",
     "text": [
      "15\n"
     ]
    }
   ],
   "source": [
    "def savings(pocket_money, paper_route, spending):\n",
    "              return pocket_money + paper_route - spending\n",
    "print(savings(10, 10, 5))\n",
    "\n",
    "\n",
    "\n"
   ]
  },
  {
   "cell_type": "code",
   "execution_count": 12,
   "metadata": {},
   "outputs": [
    {
     "name": "stdout",
     "output_type": "stream",
     "text": [
      "Sun Oct  2 19:27:28 2022\n"
     ]
    }
   ],
   "source": [
    "import time\n",
    "print(time.asctime())"
   ]
  },
  {
   "cell_type": "markdown",
   "metadata": {},
   "source": [
    "Упражнения  1\n",
    "\n",
    "#1. Любимые вещи \n",
    "\n",
    "Создайте список своих любимых развлечений и сохраните его в пере- менной games. Теперь создайте список любимых лакомств, сохранив его в переменной foods. Объедините два этих списка, сохранив результат в переменной favorites, и напечатайте значение этой переменной. \n",
    "\n",
    "#2. Подсчет воинов \n",
    "\n",
    "Есть 3 дома, на крыше каждого из которых прячутся по 25 ниндзя, и есть 2 туннеля, в каждом из которых скрывается по 40 самураев. Сколько все- го воинов решили устроить заварушку? (Ответ можно найти, введя в обо- лочке Python арифметическое выражение.) \n",
    "\n",
    "#3. Приветствие \n",
    "\n",
    "Создайте две переменные: пусть одна хранит ваше имя, а другая фами- лию. Теперь с помощью строки с метками %s напечатайте приветствие вроде такого: «Привет, Брандо Икетт!». "
   ]
  },
  {
   "cell_type": "code",
   "execution_count": 4,
   "metadata": {},
   "outputs": [
    {
     "name": "stdout",
     "output_type": "stream",
     "text": [
      "['kurit', 'igrat', 'dergat', 'srat', 'pisat', 'hotdog', 'falafel', 'arbuz', 'cake', 'koks']\n"
     ]
    }
   ],
   "source": [
    "games =['kurit' , 'igrat' , 'dergat' , 'srat' , 'pisat']\n",
    "foods = ['hotdog' , 'falafel' , 'arbuz' , 'cake' , 'koks']\n",
    "favorites = games + foods\n",
    "print(favorites)"
   ]
  },
  {
   "cell_type": "code",
   "execution_count": 5,
   "metadata": {},
   "outputs": [
    {
     "name": "stdout",
     "output_type": "stream",
     "text": [
      "75\n"
     ]
    },
    {
     "data": {
      "text/plain": [
       "155"
      ]
     },
     "execution_count": 5,
     "metadata": {},
     "output_type": "execute_result"
    }
   ],
   "source": [
    "ninj = 3*25\n",
    "print(ninj)\n",
    "samur = 2*40\n",
    "VOIN = ninj + samur\n",
    "VOIN"
   ]
  },
  {
   "cell_type": "code",
   "execution_count": 6,
   "metadata": {},
   "outputs": [
    {
     "data": {
      "text/plain": [
       "155"
      ]
     },
     "execution_count": 6,
     "metadata": {},
     "output_type": "execute_result"
    }
   ],
   "source": [
    "VOIN"
   ]
  },
  {
   "cell_type": "code",
   "execution_count": 29,
   "metadata": {},
   "outputs": [
    {
     "ename": "SyntaxError",
     "evalue": "invalid syntax (<ipython-input-29-7482024ac65d>, line 6)",
     "output_type": "error",
     "traceback": [
      "\u001b[0;36m  File \u001b[0;32m\"<ipython-input-29-7482024ac65d>\"\u001b[0;36m, line \u001b[0;32m6\u001b[0m\n\u001b[0;31m    print(message, %(name, fam))\u001b[0m\n\u001b[0m                   ^\u001b[0m\n\u001b[0;31mSyntaxError\u001b[0m\u001b[0;31m:\u001b[0m invalid syntax\n"
     ]
    }
   ],
   "source": [
    "#Создайте две переменные: пусть одна хранит ваше имя, а другая фами- лию. \n",
    "#Теперь с помощью строки с метками %s напечатайте приветствие вроде такого: «Привет, Брандо Икетт!». НЕ ПОНЯЛ\n",
    "name = 'vlad'\n",
    "fam = 'ukh'\n",
    "message = 'Привет, s% , s%\n",
    "print\n"
   ]
  },
  {
   "cell_type": "code",
   "execution_count": 1,
   "metadata": {},
   "outputs": [],
   "source": [
    "def kolvomoney(money):\n",
    "    if money > 1000:\n",
    "         print(\"Я богат!\")\n",
    "    else: \n",
    "        print(\"Я не богат!\")\n",
    "        print(\"Может, когда-нибудь потом...\")"
   ]
  },
  {
   "cell_type": "code",
   "execution_count": 3,
   "metadata": {},
   "outputs": [
    {
     "name": "stdout",
     "output_type": "stream",
     "text": [
      "Я не богат!\n",
      "Может, когда-нибудь потом...\n"
     ]
    }
   ],
   "source": [
    "kolvomoney(800)"
   ]
  },
  {
   "cell_type": "code",
   "execution_count": 4,
   "metadata": {},
   "outputs": [
    {
     "name": "stdout",
     "output_type": "stream",
     "text": [
      "Я не богат!\n",
      "Может, когда-нибудь потом...\n"
     ]
    }
   ],
   "source": [
    "money = 800\n",
    "if money > 1000:\n",
    "     print(\"Я богат!\")\n",
    "else: \n",
    "     print(\"Я не богат!\")\n",
    "print(\"Может, когда-нибудь потом...\")"
   ]
  },
  {
   "cell_type": "code",
   "execution_count": null,
   "metadata": {},
   "outputs": [],
   "source": [
    "#2. Бисквитики! \n",
    "\n",
    "#Создайте конструкцию if, которая проверяет, действительно ли коли- чество бисквитов \n",
    "#(которое задано в переменной twinkies) меньше 100 или больше 500. \n",
    "#Если это условие выполняется, пусть ваша программа напечатает сообщение «Слишком мало или слишком много». \n",
    "\n",
    "twinkies = \n"
   ]
  },
  {
   "cell_type": "markdown",
   "metadata": {},
   "source": [
    "#2. Бисквитики!\n",
    "\n",
    "Создайте конструкцию if, которая проверяет, действительно ли коли- чество бисквитов (которое задано в переменной twinkies) меньше 100 или больше 500. Если это условие выполняется, пусть ваша программа напечатает сообщение «Слишком мало или слишком много».\n",
    "\n",
    "#3. Подходящая сумма\n",
    "\n",
    "Создайте конструкцию if, которая проверяет, соответствует ли задан- ная в переменной money сумма денег диапазону значений от 100 до 500 или диапазону значений от 1000 до 5000.\n",
    "\n",
    "#4. Я одолею этих ниндзя!\n",
    "\n",
    "Создайте конструкцию if, которая печатает строку «Их слишком мно- го», если количество ниндзя (заданное в переменной ninjas) меньше 50, печатает «Будет непросто, но я с ними разделаюсь», если это количество меньше 30, и печатает «Я одолею этих ниндзя!», если количество мень- ше 10. Проверьте, как ваш код работает с таким значением:\n",
    "\n",
    "ninjas = 5\n",
    "\n",
    "...Упражнения 3\n",
    "\n",
    "#1. Цикл с приветом\n",
    "\n",
    "Как вы считаете, что делает эта программа? Сперва придумайте вариант ответа, а потом запустите код и проверьте, угадали ли вы.\n",
    "\n",
    "for x in range(0, 20): print('привет %s' % x) if x < 9: break\n",
    "\n",
    "#2. Четные числа\n",
    "\n",
    "Создайте цикл, который печатает четные числа до тех пор, пока не выве- дет ваш возраст. Если ваш возраст — нечетное число, создайте цикл, ко- торый печатает нечетные числа до совпадения с возрастом. Программа должна выводить на экран нечто подобное:\n",
    "\n",
    "2 4 6 8 10 12 14\n",
    "\n",
    "#3. Пять любимых ингредиентов\n",
    "\n",
    "Создайте список с пятью разными ингредиентами для бутерброда, напо- добие:\n",
    "\n",
    "ingredients = ['слизни', 'пиявки', 'катышки изпупка гориллы', 'брови гусеницы', 'пальцы многоножки']\n",
    "\n",
    "Теперь создайте цикл, который печатает список ингредиентов с нуме- рацией:\n",
    "\n",
    "1 слизни 2 пиявки 3 катышки изпупка гориллы 4 брови гусеницы 5 пальцы многоножки\n",
    "\n",
    "#4. Ваш лунный вес\n",
    "\n",
    "Если бы вы сейчас были на Луне, ваш вес составил бы 16,5 процентов от земного. Чтобы узнать, сколько это, умножьте свой земной вес на 0,165.\n",
    "\n",
    "Если бы каждый год в течение следующих 15 лет вы прибавляли по одному килог\n",
    "\n",
    "рамму веса, каким бы оказался ваш лунный вес в каж- дый из ежегодных визитов на Луну вплоть до 15-го года? Напишите про- грамму, которая с помощью цикла for печатает на экране ваш лунный\n",
    "\n",
    "вес в каждом году.\n",
    "\n",
    "================= ...\n",
    "\n",
    "Упражнения 4\n",
    "\n",
    "Вот несколько упражнений по созданию ваших соб- ственных функций.\n",
    "\n",
    "#1. Функция лунного веса\n",
    "\n",
    "Одним из заданий к главе 6 было создание цикла for для расчета вашего веса на Луне в течение 15 лет. Этот цикл можно оформить в виде функции. Создайте функцию, ко- торая принимает начальный вес и величину, на которую вес увеличивается каждый год. Вызывать эту новую функ- цию нужно будет примерно так:\n",
    "\n",
    "moon_weight(30, 0.25)\n",
    "#2. Функция лунного веса и количество лет\n",
    "\n",
    "Измените функцию из предыдущего задания так, чтобы с ее помощью можно было рассчитывать вес для разного количества лет, например 5 или 20 лет. Пусть эта функция принимает три аргумента: начальный вес, прибавку веса в год и количество лет:\n",
    "\n",
    "  moon_weight(90, 0.25, 5)"
   ]
  },
  {
   "cell_type": "code",
   "execution_count": 6,
   "metadata": {},
   "outputs": [],
   "source": [
    "def kolvo_twink(y):\n",
    "    if y < 100:\n",
    "        return(\"slishkom malo\")\n",
    "    if y >= 100 and y <=500:\n",
    "        return(\"sredne\")\n",
    "    if y > 500:\n",
    "        return(\"skishkom mnogo\")"
   ]
  },
  {
   "cell_type": "code",
   "execution_count": 14,
   "metadata": {},
   "outputs": [],
   "source": [
    "def kolvo_twink_v1(y):\n",
    "        if y >= 100 and y <=500:\n",
    "            return(\"sredne\")\n",
    "        if y >= 100 and y <=500:\n",
    "            return(\"sredne\")\n",
    "            if y > 500:\n",
    "                return(\"skishkom mnogo\")"
   ]
  },
  {
   "cell_type": "code",
   "execution_count": 8,
   "metadata": {},
   "outputs": [
    {
     "data": {
      "text/plain": [
       "'skishkom mnogo'"
      ]
     },
     "execution_count": 8,
     "metadata": {},
     "output_type": "execute_result"
    }
   ],
   "source": [
    "kolvo_twink(700)"
   ]
  },
  {
   "cell_type": "markdown",
   "metadata": {},
   "source": [
    "#3. Подходящая сумма\n",
    "\n",
    "Создайте конструкцию if, которая проверяет, соответствует ли задан- ная в переменной money сумма денег диапазону значений от 100 до 500 или диапазону значений от 1000 до 5000."
   ]
  },
  {
   "cell_type": "code",
   "execution_count": 10,
   "metadata": {},
   "outputs": [],
   "source": [
    "def money(j):\n",
    "    if j > 100 and j <500:\n",
    "        return('dengiest')\n",
    "    if j > 1000 and j < 5000:\n",
    "        return(\"deneg_eshe_bolshe\")"
   ]
  },
  {
   "cell_type": "code",
   "execution_count": 20,
   "metadata": {},
   "outputs": [],
   "source": [
    "money(700)"
   ]
  },
  {
   "cell_type": "code",
   "execution_count": 26,
   "metadata": {},
   "outputs": [],
   "source": [
    "def money_v2(vallet_cash):\n",
    "    if (vallet_cash > 100 and vallet_cash <500) or (vallet_cash > 1000 and vallet_cash < 5000):\n",
    "        return(\"we_chokolate\")\n",
    "    else:\n",
    "        return(\"we_not_chokolate\")\n",
    "    "
   ]
  },
  {
   "cell_type": "code",
   "execution_count": 28,
   "metadata": {},
   "outputs": [
    {
     "data": {
      "text/plain": [
       "'we_chokolate'"
      ]
     },
     "execution_count": 28,
     "metadata": {},
     "output_type": "execute_result"
    }
   ],
   "source": [
    "money_v2(180)"
   ]
  },
  {
   "cell_type": "markdown",
   "metadata": {},
   "source": [
    "#4. Я одолею этих ниндзя!\n",
    "\n",
    "Создайте конструкцию if, которая печатает строку «Их слишком мно- го», если количество ниндзя (заданное в переменной ninjas) меньше 50, печатает «Будет непросто, но я с ними разделаюсь», если это количество меньше 30, и печатает «Я одолею этих ниндзя!», если количество мень- ше 10. Проверьте, как ваш код работает с таким значением:\n",
    "\n",
    "ninjas = 5"
   ]
  },
  {
   "cell_type": "code",
   "execution_count": 29,
   "metadata": {},
   "outputs": [
    {
     "name": "stdout",
     "output_type": "stream",
     "text": [
      "ih slishkom mnogo\n",
      "budi neprosto\n",
      "ya odoleyou\n"
     ]
    }
   ],
   "source": [
    "ninjas = 5\n",
    "if ninjas < 50:\n",
    "    print(\"ih slishkom mnogo\")\n",
    "\n",
    "ninjas = 5\n",
    "if ninjas < 30:\n",
    "    print('budi neprosto')\n",
    "\n",
    "ninjas = 5\n",
    "if ninjas < 10:\n",
    "    print(\"ya odoleyou\")\n",
    "\n"
   ]
  },
  {
   "cell_type": "code",
   "execution_count": 30,
   "metadata": {},
   "outputs": [
    {
     "name": "stdout",
     "output_type": "stream",
     "text": [
      "Привет, Мэри\n"
     ]
    }
   ],
   "source": [
    "def testfunc(myname):\n",
    "              print('Привет, %s' % myname)\n",
    "testfunc('Мэри')\n"
   ]
  },
  {
   "cell_type": "code",
   "execution_count": 61,
   "metadata": {},
   "outputs": [],
   "source": [
    "#Создайте две переменные: пусть одна хранит ваше имя, а другая фами- лию.\n",
    "#Теперь с помощью строки с метками %s напечатайте приветствие вроде такого: «Привет, Брандо Икетт!». \n",
    "imya = \"vova\"\n",
    "famil = \"duraK\"\n",
    "def inyafami(imya,famil):\n",
    "    print(\"Hello, \", imya, famil)\n",
    "    print('Hello, %s %s' % (imya, famil))"
   ]
  },
  {
   "cell_type": "code",
   "execution_count": 62,
   "metadata": {},
   "outputs": [
    {
     "name": "stdout",
     "output_type": "stream",
     "text": [
      "('Hello, ', 'vova', 1)\n",
      "Hello, vova 1\n"
     ]
    }
   ],
   "source": [
    "inyafami(imya, 1)"
   ]
  },
  {
   "cell_type": "code",
   "execution_count": 52,
   "metadata": {},
   "outputs": [],
   "source": [
    "test1 = 'Hello, %s %s' % (imya, famil)"
   ]
  },
  {
   "cell_type": "code",
   "execution_count": 53,
   "metadata": {},
   "outputs": [
    {
     "data": {
      "text/plain": [
       "'Hello, vova duraK'"
      ]
     },
     "execution_count": 53,
     "metadata": {},
     "output_type": "execute_result"
    }
   ],
   "source": [
    "test1"
   ]
  },
  {
   "cell_type": "code",
   "execution_count": 55,
   "metadata": {},
   "outputs": [
    {
     "ename": "SyntaxError",
     "evalue": "invalid syntax (<ipython-input-55-26f72538bc60>, line 1)",
     "output_type": "error",
     "traceback": [
      "\u001b[0;36m  File \u001b[0;32m\"<ipython-input-55-26f72538bc60>\"\u001b[0;36m, line \u001b[0;32m1\u001b[0m\n\u001b[0;31m    help(%)\u001b[0m\n\u001b[0m         ^\u001b[0m\n\u001b[0;31mSyntaxError\u001b[0m\u001b[0;31m:\u001b[0m invalid syntax\n"
     ]
    }
   ],
   "source": []
  },
  {
   "cell_type": "code",
   "execution_count": 63,
   "metadata": {},
   "outputs": [
    {
     "data": {
      "text/plain": [
       "u'/home/viukhanov'"
      ]
     },
     "execution_count": 63,
     "metadata": {},
     "output_type": "execute_result"
    }
   ],
   "source": [
    "pwd"
   ]
  },
  {
   "cell_type": "code",
   "execution_count": 65,
   "metadata": {},
   "outputs": [
    {
     "name": "stdout",
     "output_type": "stream",
     "text": [
      "/bin/sh: 1: mrdir: not found\r\n"
     ]
    }
   ],
   "source": [
    "!mrdir"
   ]
  },
  {
   "cell_type": "code",
   "execution_count": 67,
   "metadata": {},
   "outputs": [
    {
     "name": "stdout",
     "output_type": "stream",
     "text": [
      "total 236\r\n",
      "drwxr-xr-x  9 viukhanov education  4096 Oct 13 21:03 .\r\n",
      "drwxr-xr-x 19 root      root       4096 Sep  7 18:48 ..\r\n",
      "-rw-------  1 viukhanov education  1432 Oct 11 15:01 .bash_history\r\n",
      "-rw-r--r--  1 viukhanov education   220 Sep  1  2015 .bash_logout\r\n",
      "-rw-r--r--  1 viukhanov education  3771 Sep  1  2015 .bashrc\r\n",
      "-rw-r--r--  1 viukhanov education 45408 Oct 13 21:03 bookzad.ipynb\r\n",
      "drwx------  2 viukhanov education  4096 Sep  4 16:15 .cache\r\n",
      "-rw-r--r--  1 viukhanov education    52 Sep 18 21:17 .gitconfig\r\n",
      "drwxr-xr-x  4 viukhanov education  4096 Sep 18 21:30 github\r\n",
      "drwxr-xr-x  2 viukhanov education  4096 Oct  1 20:10 .ipynb_checkpoints\r\n",
      "drwxr-xr-x  5 viukhanov education  4096 Sep  7 19:20 .ipython\r\n",
      "drwxr-xr-x  3 viukhanov education  4096 Sep 10 15:07 .jupyter\r\n",
      "-rw-r--r--  1 viukhanov education 29545 Oct  2 18:05 lesson_1.ipynb\r\n",
      "-rw-r--r--  1 viukhanov education 16967 Sep 29 23:53 lesson1v3.ipynb\r\n",
      "-rw-r--r--  1 viukhanov education 12774 Sep 14 14:21 lesson_1_work_1.ipynb\r\n",
      "-rw-r--r--  1 viukhanov education 17466 Oct  4 21:55 lesson_1_work_1_v2.ipynb\r\n",
      "-rw-r--r--  1 viukhanov education 18020 Oct  2 20:11 lesson 5.ipynb\r\n",
      "drwx------  3 viukhanov education  4096 Sep  4 16:15 .local\r\n",
      "-rw-r--r--  1 viukhanov education   655 Jul 12  2019 .profile\r\n",
      "drwx------  2 viukhanov education  4096 Sep 18 20:09 .ssh\r\n",
      "-rw-r--r--  1 viukhanov education  2837 Sep 10 15:20 Untitled1.ipynb\r\n",
      "-rw-r--r--  1 viukhanov education   755 Sep 14 11:52 Untitled2.ipynb\r\n",
      "-rw-r--r--  1 viukhanov education  1478 Sep 18 20:06 Untitled3.ipynb\r\n",
      "-rw-r--r--  1 viukhanov education  2578 Sep 29 23:49 Untitled4.ipynb\r\n",
      "-rw-r--r--  1 viukhanov education  4148 Sep  7 21:29 Untitled.ipynb\r\n",
      "-rw-r--r--  1 viukhanov education     0 Oct  1 20:09 untitled.txt\r\n"
     ]
    }
   ],
   "source": [
    "!ls -la"
   ]
  },
  {
   "cell_type": "code",
   "execution_count": null,
   "metadata": {},
   "outputs": [],
   "source": [
    "!cp bookzad.ipynb github/team22/users/viukhanov/"
   ]
  }
 ],
 "metadata": {
  "kernelspec": {
   "display_name": "Python 2",
   "language": "python",
   "name": "python2"
  },
  "language_info": {
   "codemirror_mode": {
    "name": "ipython",
    "version": 2
   },
   "file_extension": ".py",
   "mimetype": "text/x-python",
   "name": "python",
   "nbconvert_exporter": "python",
   "pygments_lexer": "ipython2",
   "version": "2.7.12"
  }
 },
 "nbformat": 4,
 "nbformat_minor": 2
}
