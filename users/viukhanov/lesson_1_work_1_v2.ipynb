{
 "cells": [
  {
   "cell_type": "markdown",
   "metadata": {},
   "source": [
    "# Отработка работы с переменными и списками V2"
   ]
  },
  {
   "cell_type": "markdown",
   "metadata": {},
   "source": [
    "# №1 Задание создайте 3 списока\n",
    "<center> \n",
    "    <table>\n",
    "        <tr>\n",
    "            <td>\n",
    "                списоки\n",
    "            </td>\n",
    "            <td>\n",
    "                Дело №1\n",
    "            </td>\n",
    "            <td>\n",
    "                Дело №2\n",
    "            </td>            \n",
    "        </tr>\n",
    "        <tr>\n",
    "            <td>\n",
    "                дела\n",
    "            </td>\n",
    "            <td>\n",
    "                купить хлеб\n",
    "            </td>\n",
    "            <td>\n",
    "                помыть полы\n",
    "            </td>            \n",
    "        </tr>\n",
    "        <tr>\n",
    "            <td>\n",
    "                дата до котрой нужно сделать\n",
    "            </td>\n",
    "            <td>\n",
    "                28-08-2022\n",
    "            </td>\n",
    "            <td>\n",
    "                28-08-2022\n",
    "            </td>\n",
    "        </tr>\n",
    "        <tr>\n",
    "            <td>\n",
    "                дата когда было сделано\n",
    "            </td>\n",
    "            <td>\n",
    "                28-08-2022\n",
    "            </td>\n",
    "            <td>\n",
    "            </td>\n",
    "        </tr>\n",
    "    </table>\n",
    "</center> \n",
    "\n",
    "Рекомендуемый размер списка 22 элемента.\n",
    "\n",
    "После создания 3 списков. \n",
    "* Нужно посчитать общее количество дел в списке.\n",
    "* Напечатать все дела\n",
    "* Напечатать только 2 и 5 дело\n",
    "* Сравнить каждое дело из списка с строкой “buy bread”  и если оно совпадает то напечатать YES\n",
    "* Если каждое дело из списка ваших дела написано на английском и является строкой то вывести длину каждой из этих строк\n",
    "* Напечатать yes если длина строки в которой записано дело больше 10\n",
    "* Напечатать дела индекс которых в списке делится без остатка на 2\n",
    "* Напечатать дело с индексом 1 и 4 из списка запланированных дел\n",
    "* Напечатать те индексы у которых значения в списке запланированных дат и списке реализованных дат равны друг другу \n",
    "* Вывести только те дела которые вы сделали в тот же день в который их запланировали\n",
    "* Посчитать сколько дел у вас было одинаковых ( т.е. если есть запись “купить хлеб” 28-08-2022 и “купить хлеб” 14-08-2022 то финально нужно вывести “купить хлеб” 2 (можно сделать 2 варианта без использования словарей и с испольщованием словарям)"
   ]
  },
  {
   "cell_type": "code",
   "execution_count": 19,
   "metadata": {},
   "outputs": [],
   "source": [
    "dela= [\"bye staff\", \"chill\", \"smoke sigar\" , \"trane\", \"duraka valyat\", \"smoke siga\", \"dergat\", \"gladit pesi\", \"chill\", \"igrat fifa\", \"dergat\", \"duraka valyat\", \"eblanit\", \"gladid pesi\"]\n",
    "data1= [\"14.09\", \"14.09\", \"14.09\", \"14.09\", \"14.09\",\"15.09\", \"12.09\", \"11.09\", \"14.09\", \"14.09\", \"16.09\", \"14.09\", \"12.09\", \"14.09\"]\n",
    "datadone= [\"14.09\", \"16.09\", \"14.09\", \"14.09\", \"12.09\",\"15.09\", \"14.09\", \"11.09\", \"14.09\", \"14.09\", \"16.09\", \"14.09\", \"12.09\", \"14.09\"]\n",
    "\n"
   ]
  },
  {
   "cell_type": "code",
   "execution_count": 20,
   "metadata": {},
   "outputs": [
    {
     "data": {
      "text/plain": [
       "14"
      ]
     },
     "execution_count": 20,
     "metadata": {},
     "output_type": "execute_result"
    }
   ],
   "source": [
    "len(dela)"
   ]
  },
  {
   "cell_type": "code",
   "execution_count": 21,
   "metadata": {},
   "outputs": [
    {
     "name": "stdout",
     "output_type": "stream",
     "text": [
      "bye staff\n",
      "chill\n",
      "smoke sigar\n",
      "trane\n",
      "duraka valyat\n",
      "smoke siga\n",
      "dergat\n",
      "gladit pesi\n",
      "chill\n",
      "igrat fifa\n",
      "dergat\n",
      "duraka valyat\n",
      "eblanit\n",
      "gladid pesi\n"
     ]
    }
   ],
   "source": [
    "for x in dela:\n",
    "    print x\n",
    "\n",
    "\n"
   ]
  },
  {
   "cell_type": "code",
   "execution_count": 22,
   "metadata": {},
   "outputs": [
    {
     "name": "stdout",
     "output_type": "stream",
     "text": [
      "('chill', 'trane')\n"
     ]
    }
   ],
   "source": [
    "print(dela[1], dela[3])\n"
   ]
  },
  {
   "cell_type": "code",
   "execution_count": 23,
   "metadata": {},
   "outputs": [
    {
     "name": "stdout",
     "output_type": "stream",
     "text": [
      "('chill', 'yes')\n",
      "('chill', 'yes')\n"
     ]
    }
   ],
   "source": [
    "b = \"chill\"\n",
    "for i in dela:\n",
    "    if b == i:\n",
    "        print(b, \"yes\")\n",
    "  \n"
   ]
  },
  {
   "cell_type": "code",
   "execution_count": 24,
   "metadata": {},
   "outputs": [
    {
     "name": "stdout",
     "output_type": "stream",
     "text": [
      "bye staff\n",
      "9\n",
      "chill\n",
      "5\n",
      "smoke sigar\n",
      "11\n",
      "yes\n",
      "trane\n",
      "5\n",
      "duraka valyat\n",
      "13\n",
      "yes\n",
      "smoke siga\n",
      "10\n",
      "dergat\n",
      "6\n",
      "gladit pesi\n",
      "11\n",
      "yes\n",
      "chill\n",
      "5\n",
      "igrat fifa\n",
      "10\n",
      "dergat\n",
      "6\n",
      "duraka valyat\n",
      "13\n",
      "yes\n",
      "eblanit\n",
      "7\n",
      "gladid pesi\n",
      "11\n",
      "yes\n"
     ]
    }
   ],
   "source": [
    "#Если каждое дело из списка ваших дела написано на английском и является строкой то вывести длину каждой из этих строк\n",
    "#Напечатать yes если длина строки в которой записано дело больше 10\n",
    "for x in dela:\n",
    "    print x\n",
    "    print len(x)\n",
    "    if len(x) > 10:\n",
    "        print(\"yes\")\n",
    "    \n",
    "    "
   ]
  },
  {
   "cell_type": "code",
   "execution_count": 1,
   "metadata": {},
   "outputs": [
    {
     "ename": "NameError",
     "evalue": "name 'dela' is not defined",
     "output_type": "error",
     "traceback": [
      "\u001b[0;31m---------------------------------------------------------------------------\u001b[0m",
      "\u001b[0;31mNameError\u001b[0m                                 Traceback (most recent call last)",
      "\u001b[0;32m<ipython-input-1-92abd799436d>\u001b[0m in \u001b[0;36m<module>\u001b[0;34m()\u001b[0m\n\u001b[1;32m      1\u001b[0m \u001b[0;31m#Напечатать дела индекс которых в списке делится без остатка на 2\u001b[0m\u001b[0;34m\u001b[0m\u001b[0;34m\u001b[0m\u001b[0m\n\u001b[1;32m      2\u001b[0m \u001b[0;31m#мне необходимо вывести из списка дел все значения кратные двум\u001b[0m\u001b[0;34m\u001b[0m\u001b[0;34m\u001b[0m\u001b[0m\n\u001b[0;32m----> 3\u001b[0;31m \u001b[0;32mfor\u001b[0m \u001b[0mr\u001b[0m \u001b[0;32min\u001b[0m \u001b[0mdela\u001b[0m\u001b[0;34m:\u001b[0m\u001b[0;34m\u001b[0m\u001b[0m\n\u001b[0m\u001b[1;32m      4\u001b[0m     \u001b[0;32mprint\u001b[0m \u001b[0mr\u001b[0m\u001b[0;34m\u001b[0m\u001b[0m\n\u001b[1;32m      5\u001b[0m     \u001b[0;32mif\u001b[0m \u001b[0;34m(\u001b[0m\u001b[0mr\u001b[0m\u001b[0;34m)\u001b[0m \u001b[0;34m%\u001b[0m \u001b[0;36m2\u001b[0m \u001b[0;34m==\u001b[0m\u001b[0;36m0\u001b[0m\u001b[0;34m:\u001b[0m\u001b[0;34m\u001b[0m\u001b[0m\n",
      "\u001b[0;31mNameError\u001b[0m: name 'dela' is not defined"
     ]
    }
   ],
   "source": [
    "#Напечатать дела индекс которых в списке делится без остатка на 2\n",
    "#мне необходимо вывести из списка дел все значения кратные двум\n",
    "for r in dela:\n",
    "    print r\n",
    "    if (r) % 2 ==0:\n",
    "        print(r)\n",
    "    \n",
    "    "
   ]
  },
  {
   "cell_type": "code",
   "execution_count": 9,
   "metadata": {},
   "outputs": [
    {
     "name": "stdout",
     "output_type": "stream",
     "text": [
      "chill duraka valyat\n"
     ]
    }
   ],
   "source": [
    "print dela[1], dela[4]"
   ]
  },
  {
   "cell_type": "code",
   "execution_count": 10,
   "metadata": {},
   "outputs": [
    {
     "name": "stdout",
     "output_type": "stream",
     "text": [
      "bye staff\n",
      "1\n",
      "2\n",
      "smoke sigar\n",
      "3\n",
      "trane\n",
      "4\n",
      "5\n",
      "smoke siga\n",
      "6\n",
      "7\n",
      "gladit pesi\n",
      "8\n",
      "chill\n",
      "9\n",
      "igrat fifa\n",
      "10\n",
      "dergat\n",
      "11\n",
      "duraka valyat\n",
      "12\n",
      "eblanit\n",
      "13\n",
      "gladid pesi\n",
      "14\n"
     ]
    }
   ],
   "source": [
    "#Напечатать те индексы у которых значения в списке запланированных дат и списке реализованных дат равны друг другу (спросить у млаьвины зачем тут номер)\n",
    "nomer = 0\n",
    "while nomer < len(dela):\n",
    "    if data1[nomer] == datadone[nomer]:\n",
    "        print(dela[nomer])\n",
    "    nomer = nomer + 1\n",
    "    print nomer"
   ]
  },
  {
   "cell_type": "code",
   "execution_count": 44,
   "metadata": {},
   "outputs": [
    {
     "name": "stdout",
     "output_type": "stream",
     "text": [
      "['bye staff', 'chill', 'smoke sigar', 'trane', 'duraka valyat', 'smoke siga', 'dergat', 'gladit pesi', 'chill', 'igrat fifa', 'dergat', 'duraka valyat', 'eblanit', 'gladid pesi']\n",
      "['bye staff', 'chill', 'smoke sigar', 'trane', 'duraka valyat', 'smoke siga', 'dergat', 'gladit pesi', 'igrat fifa', 'eblanit', 'gladid pesi']\n"
     ]
    },
    {
     "data": {
      "text/plain": [
       "11"
      ]
     },
     "execution_count": 44,
     "metadata": {},
     "output_type": "execute_result"
    }
   ],
   "source": [
    "print dela\n",
    "dela_1 = []\n",
    "for i in dela:\n",
    "    if i not in dela_1:\n",
    "        dela_1.append(i)\n",
    "print dela_1\n",
    "len (dela_1)"
   ]
  },
  {
   "cell_type": "code",
   "execution_count": 57,
   "metadata": {},
   "outputs": [
    {
     "data": {
      "text/plain": [
       "['bye staff',\n",
       " 'chill',\n",
       " 'smoke sigar',\n",
       " 'trane',\n",
       " 'duraka valyat',\n",
       " 'smoke siga',\n",
       " 'dergat',\n",
       " 'gladit pesi',\n",
       " 'igrat fifa',\n",
       " 'eblanit',\n",
       " 'gladid pesi']"
      ]
     },
     "execution_count": 57,
     "metadata": {},
     "output_type": "execute_result"
    }
   ],
   "source": [
    "dupl = []\n",
    "for j in dela_1:\n",
    "    if(j, dela) > 1:\n",
    "        dupl.append(j)\n",
    "dupl"
   ]
  },
  {
   "cell_type": "code",
   "execution_count": 58,
   "metadata": {},
   "outputs": [
    {
     "data": {
      "text/plain": [
       "11"
      ]
     },
     "execution_count": 58,
     "metadata": {},
     "output_type": "execute_result"
    }
   ],
   "source": [
    "len(dupl)"
   ]
  },
  {
   "cell_type": "code",
   "execution_count": 14,
   "metadata": {},
   "outputs": [
    {
     "ename": "NameError",
     "evalue": "name 'x_count' is not defined",
     "output_type": "error",
     "traceback": [
      "\u001b[0;31m---------------------------------------------------------------------------\u001b[0m",
      "\u001b[0;31mNameError\u001b[0m                                 Traceback (most recent call last)",
      "\u001b[0;32m<ipython-input-14-ed0d838030b6>\u001b[0m in \u001b[0;36m<module>\u001b[0;34m()\u001b[0m\n\u001b[0;32m----> 1\u001b[0;31m \u001b[0mhelp\u001b[0m\u001b[0;34m(\u001b[0m\u001b[0mx_count\u001b[0m\u001b[0;34m)\u001b[0m\u001b[0;34m\u001b[0m\u001b[0m\n\u001b[0m",
      "\u001b[0;31mNameError\u001b[0m: name 'x_count' is not defined"
     ]
    }
   ],
   "source": [
    "help(x_count)"
   ]
  },
  {
   "cell_type": "markdown",
   "metadata": {},
   "source": [
    "# №2 Задание создайте 2 списока\n",
    "<center> \n",
    "    <table>\n",
    "        <tr>\n",
    "            <td>\n",
    "                списоки\n",
    "            </td>\n",
    "            <td>\n",
    "                №1 \n",
    "            </td>\n",
    "            <td>\n",
    "                №2\n",
    "            </td>\n",
    "            <td>\n",
    "                №3\n",
    "            </td>    \n",
    "        </tr>\n",
    "        <tr>\n",
    "            <td>\n",
    "                Описание\n",
    "            </td>\n",
    "            <td>\n",
    "                купил хлеб\n",
    "            </td>\n",
    "            <td>\n",
    "                купил тапочки\n",
    "            </td>            \n",
    "            <td>\n",
    "                получил зп\n",
    "            </td>            \n",
    "        </tr>\n",
    "        <tr>\n",
    "            <td>\n",
    "                Сумма\n",
    "            </td>\n",
    "            <td>\n",
    "                -50\n",
    "            </td>\n",
    "            <td>\n",
    "                -200\n",
    "            </td>\n",
    "            <td>\n",
    "                50000\n",
    "            </td>\n",
    "        </tr>\n",
    "        <tr>\n",
    "            <td>\n",
    "                Дата\n",
    "            </td>\n",
    "            <td>\n",
    "                09-08-2022\n",
    "            </td>\n",
    "            <td>\n",
    "                11-08-2022\n",
    "            </td>\n",
    "            <td>\n",
    "                28-08-2022\n",
    "            </td>\n",
    "        </tr>\n",
    "    </table>\n",
    "</center> \n",
    "\n",
    "* посчитайте сколько всего вы потратили за все время\n",
    "* посчитайте сколько заработали за все время\n",
    "* посчитайте какие самые частые у вас траты(можно попробовать с использванием словарей)"
   ]
  },
  {
   "cell_type": "markdown",
   "metadata": {},
   "source": [
    "# №3 Напишите функцию, которая перебирает числа от 1 до 15 (включительно) и возвращает список из чисел кратных 3."
   ]
  },
  {
   "cell_type": "markdown",
   "metadata": {},
   "source": [
    "# №4 Оформить каждый пункт из задания 1 и 2 в виде функции"
   ]
  },
  {
   "cell_type": "markdown",
   "metadata": {},
   "source": [
    "# Пример ка кработать с словарями"
   ]
  },
  {
   "cell_type": "code",
   "execution_count": null,
   "metadata": {},
   "outputs": [],
   "source": [
    "slovar = {\n",
    "    'home': 10,\n",
    "    'car': 'volvo',\n",
    "    'citis': ['Moscow', 'kazan', 'spb'],\n",
    "    'notebook': {\n",
    "        'memory': '100g',\n",
    "        'cpu': 2,\n",
    "    }\n",
    "}\n",
    "\n",
    "print(slovar)\n",
    "\n",
    "print(slovar['notebook'])\n",
    "\n",
    "slovar['temp'] = 'work'\n",
    "\n",
    "print(slovar)\n",
    "\n",
    "del slovar['citis']\n",
    "print(slovar)\n",
    "\n",
    "#keys\n",
    "#values\n",
    "#items\n",
    "\n",
    "print(slovar.keys())\n",
    "\n",
    "print(slovar.values())\n",
    "\n",
    "print(slovar.items())\n",
    "\n",
    "print('---')\n",
    "for k, l in slovar.items():\n",
    "    print('key =', k, ' value =', l)"
   ]
  },
  {
   "cell_type": "code",
   "execution_count": 1,
   "metadata": {},
   "outputs": [
    {
     "data": {
      "text/plain": [
       "u'/home/viukhanov'"
      ]
     },
     "execution_count": 1,
     "metadata": {},
     "output_type": "execute_result"
    }
   ],
   "source": [
    "pwd"
   ]
  },
  {
   "cell_type": "code",
   "execution_count": null,
   "metadata": {},
   "outputs": [],
   "source": [
    "ls "
   ]
  }
 ],
 "metadata": {
  "kernelspec": {
   "display_name": "Python 2",
   "language": "python",
   "name": "python2"
  },
  "language_info": {
   "codemirror_mode": {
    "name": "ipython",
    "version": 2
   },
   "file_extension": ".py",
   "mimetype": "text/x-python",
   "name": "python",
   "nbconvert_exporter": "python",
   "pygments_lexer": "ipython2",
   "version": "2.7.12"
  }
 },
 "nbformat": 4,
 "nbformat_minor": 2
}
