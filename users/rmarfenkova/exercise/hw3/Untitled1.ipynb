{
 "cells": [
  {
   "cell_type": "code",
   "execution_count": 28,
   "id": "933cb89a-5efa-4614-9a28-c6fdd0085b44",
   "metadata": {},
   "outputs": [
    {
     "name": "stdout",
     "output_type": "stream",
     "text": [
      "80\n"
     ]
    }
   ],
   "source": [
    "# Вычислить результат следующих операций:\n",
    "print(10 * (5 + 3))"
   ]
  },
  {
   "cell_type": "code",
   "execution_count": 2,
   "id": "b598bd65-3a47-4aeb-b606-b7577c37438d",
   "metadata": {},
   "outputs": [
    {
     "name": "stdout",
     "output_type": "stream",
     "text": [
      "7.0\n"
     ]
    }
   ],
   "source": [
    "print((20 - 6) / 2)"
   ]
  },
  {
   "cell_type": "code",
   "execution_count": 3,
   "id": "b63590ea-f0c8-464b-9b89-529fd2869776",
   "metadata": {},
   "outputs": [
    {
     "name": "stdout",
     "output_type": "stream",
     "text": [
      "32\n"
     ]
    }
   ],
   "source": [
    "print(2 ** 5)"
   ]
  },
  {
   "cell_type": "code",
   "execution_count": 3,
   "id": "79d1ca76-ec92-49c4-a2e9-a871c01e4fcb",
   "metadata": {},
   "outputs": [
    {
     "name": "stdout",
     "output_type": "stream",
     "text": [
      "6\n"
     ]
    }
   ],
   "source": [
    "print(25 // 4)"
   ]
  },
  {
   "cell_type": "code",
   "execution_count": 2,
   "id": "0c8d9f58-3567-4cc9-b962-b9a1aaf428be",
   "metadata": {},
   "outputs": [
    {
     "name": "stdout",
     "output_type": "stream",
     "text": [
      "1\n"
     ]
    }
   ],
   "source": [
    "print(25 % 4)"
   ]
  },
  {
   "cell_type": "markdown",
   "id": "0c1039cc-54dd-4bcc-bd95-d5cb4a9524e0",
   "metadata": {},
   "source": [
    "Дано дробное число:\n",
    "number = -3.14\n",
    "Выполнить следующие операции:\n",
    "Округлите число до целого.\n",
    "Возьмите остаток числа"
   ]
  },
  {
   "cell_type": "code",
   "execution_count": 4,
   "id": "4509800d-0e36-451e-8a68-44cb8a8363c8",
   "metadata": {},
   "outputs": [
    {
     "name": "stdout",
     "output_type": "stream",
     "text": [
      "-3\n",
      "-0.14\n"
     ]
    }
   ],
   "source": [
    "number = -3.14\n",
    "print(int(number))\n",
    "print(round(number % -1, 2))"
   ]
  },
  {
   "cell_type": "markdown",
   "id": "db26e49a-f359-4561-aa5e-036c467dbd26",
   "metadata": {},
   "source": [
    "Даны стороны прямоугольника: a = 5, b = 7.\n",
    "Вычислить площадь прямоугольника и вывести результат на экран."
   ]
  },
  {
   "cell_type": "code",
   "execution_count": 8,
   "id": "5e5d2fd2-577d-49e9-b9ab-542353206b8f",
   "metadata": {},
   "outputs": [
    {
     "name": "stdout",
     "output_type": "stream",
     "text": [
      "5\n",
      "7\n"
     ]
    }
   ],
   "source": [
    "a = 5\n",
    "print(a)\n",
    "b = 7\n",
    "print(b)"
   ]
  },
  {
   "cell_type": "code",
   "execution_count": 9,
   "id": "35456390-b392-47bf-87bb-2a9e92ae45f8",
   "metadata": {},
   "outputs": [
    {
     "name": "stdout",
     "output_type": "stream",
     "text": [
      "35\n"
     ]
    }
   ],
   "source": [
    "s = a * b\n",
    "print(s)"
   ]
  },
  {
   "cell_type": "markdown",
   "id": "cd23697a-5c2f-4765-8496-7228ea693f55",
   "metadata": {},
   "source": [
    "На какой объем воздуха должен быть расчитан кондиционер, если с его помощью хотят охлаждать квартиру в которой размер гостинной 3.5 на 6.4 метра, спальни 3.4 на 4 метра и площадь не жилой части 11 метров. При том что высота потолков 3,1 метр."
   ]
  },
  {
   "cell_type": "code",
   "execution_count": 11,
   "id": "69fc1c4c-f66e-4c94-ab79-302fcdfe4124",
   "metadata": {},
   "outputs": [
    {
     "name": "stdout",
     "output_type": "stream",
     "text": [
      "160.0  м3\n"
     ]
    }
   ],
   "source": [
    "living_room_length = 3.5\n",
    "living_room_width = 6.4\n",
    "bedroom_length = 3.4\n",
    "bedroom_width = 4\n",
    "not_residential = 11 #м2\n",
    "ceiling_height = 3.1\n",
    "v = ((living_room_length * living_room_width) + (bedroom_length * bedroom_width) + bedroom_width) * bedroom_width\n",
    "print(v , \" м3\")"
   ]
  },
  {
   "cell_type": "markdown",
   "id": "e62dbe4b-dff6-4b86-99ec-8cd6464d5028",
   "metadata": {},
   "source": [
    "Дано квадратное уравнение вида ax^2 + bx + c = 0.\n",
    "Найти его решения, используя формулу дискриминанта.\n",
    "a номер текущего месяца\n",
    "b номер вашей группы\n",
    "c минус десять (-10)\n",
    "D = b^2 - 4ac"
   ]
  },
  {
   "cell_type": "code",
   "execution_count": 13,
   "id": "59805404-6302-46d6-83e4-3a4daba0aba7",
   "metadata": {},
   "outputs": [
    {
     "name": "stdout",
     "output_type": "stream",
     "text": [
      "1\n"
     ]
    }
   ],
   "source": [
    "a = 2\n",
    "b = 9\n",
    "c = 10\n",
    "D = 9**2 - 4 * a *c\n",
    "print(D)"
   ]
  },
  {
   "cell_type": "markdown",
   "id": "34bca07a-0cf3-4297-8dea-ce455b41afb0",
   "metadata": {},
   "source": [
    "Если D > 0, то квадратное уравнение имеет два корня"
   ]
  },
  {
   "cell_type": "code",
   "execution_count": 29,
   "id": "faf9ddc2-f617-46fc-95e9-3ec7c8877cae",
   "metadata": {},
   "outputs": [
    {
     "name": "stdout",
     "output_type": "stream",
     "text": [
      "-2.0\n",
      "-2.5\n"
     ]
    }
   ],
   "source": [
    "x1 = (-b + 1 ** 0.5) / (2 * a)\n",
    "x2 = (-b - 1 ** 0.5) / (2 * a)\n",
    "print(x1)\n",
    "print(x2)"
   ]
  },
  {
   "cell_type": "markdown",
   "id": "17a19ad7-5f1a-4660-9023-64bf86191ee4",
   "metadata": {},
   "source": [
    "Даны строки:\n",
    "string1 = \"hello, \"\n",
    "string2 = \"world!\"\n",
    "Объединить строки string1 и string2 и результат вывести на экран так чтобы первая буква в предложении стала заглавной.\n"
   ]
  },
  {
   "cell_type": "code",
   "execution_count": 77,
   "id": "4bda376a-908e-434d-8620-19762218330a",
   "metadata": {},
   "outputs": [
    {
     "name": "stdout",
     "output_type": "stream",
     "text": [
      "Hello, world!\n"
     ]
    }
   ],
   "source": [
    "string1 = \"hello, \" .capitalize()\n",
    "string2 = \"world!\"\n",
    "print(string1 + string2)"
   ]
  },
  {
   "cell_type": "code",
   "execution_count": 78,
   "id": "1f242474-b303-4435-b5c8-d0a516000e11",
   "metadata": {},
   "outputs": [
    {
     "data": {
      "text/plain": [
       "13"
      ]
     },
     "execution_count": 78,
     "metadata": {},
     "output_type": "execute_result"
    }
   ],
   "source": [
    "len(string1 + string2)"
   ]
  },
  {
   "cell_type": "code",
   "execution_count": 84,
   "id": "9fa8e46a-6962-43e2-927a-29a9546bf5bb",
   "metadata": {},
   "outputs": [
    {
     "name": "stdout",
     "output_type": "stream",
     "text": [
      "la la la la la la la la la la la la la la la la la la la la la la la la la \n"
     ]
    }
   ],
   "source": [
    "print(\"la \" * 25)"
   ]
  },
  {
   "cell_type": "markdown",
   "id": "b3eb1937-104d-472f-8743-6db6c6f0b6d6",
   "metadata": {},
   "source": [
    "Дан список чисел:\n",
    "numbers = [1, 2, 3, 4, 5]\n",
    "Выполнить следующие операции:\n",
    "1. Измените число 2 на строку \"hi\" \n",
    "2. Выведите значение, находящееся на позиции 2.\n",
    "3. Изменить значение на позиции 4 на список из 3 элементов [8, 6, 4].\n",
    "Результаты вывести на экран."
   ]
  },
  {
   "cell_type": "code",
   "execution_count": 16,
   "id": "50979970-1598-4feb-ae54-18f8d99066e7",
   "metadata": {},
   "outputs": [],
   "source": [
    "numbers = [1, 2, 3, 4, 5]"
   ]
  },
  {
   "cell_type": "code",
   "execution_count": 17,
   "id": "628b02b2-cc70-4d52-8b0f-c58109bb2ad7",
   "metadata": {},
   "outputs": [],
   "source": [
    "numbers[1] = \"hi\""
   ]
  },
  {
   "cell_type": "code",
   "execution_count": 15,
   "id": "b4613e10-3986-451e-8eba-1951c9eab8da",
   "metadata": {},
   "outputs": [
    {
     "name": "stdout",
     "output_type": "stream",
     "text": [
      "[1, 'hi', 3, 4, 5]\n"
     ]
    }
   ],
   "source": [
    "print(numbers)"
   ]
  },
  {
   "cell_type": "code",
   "execution_count": 18,
   "id": "ec323e4d-1500-4a2e-9a40-11d336af9958",
   "metadata": {},
   "outputs": [
    {
     "data": {
      "text/plain": [
       "['hi']"
      ]
     },
     "execution_count": 18,
     "metadata": {},
     "output_type": "execute_result"
    }
   ],
   "source": [
    "numbers[1:2]"
   ]
  },
  {
   "cell_type": "code",
   "execution_count": 19,
   "id": "5a663646-3d5a-4600-9312-833888989103",
   "metadata": {},
   "outputs": [],
   "source": [
    "numbers[4] = [8, 6, 4]"
   ]
  },
  {
   "cell_type": "code",
   "execution_count": 20,
   "id": "5d1fc485-024b-4974-b7ed-814f105980a8",
   "metadata": {},
   "outputs": [
    {
     "name": "stdout",
     "output_type": "stream",
     "text": [
      "[1, 'hi', 3, 4, [8, 6, 4]]\n"
     ]
    }
   ],
   "source": [
    "print(numbers)"
   ]
  }
 ],
 "metadata": {
  "kernelspec": {
   "display_name": "Python 3 (ipykernel)",
   "language": "python",
   "name": "python3"
  },
  "language_info": {
   "codemirror_mode": {
    "name": "ipython",
    "version": 3
   },
   "file_extension": ".py",
   "mimetype": "text/x-python",
   "name": "python",
   "nbconvert_exporter": "python",
   "pygments_lexer": "ipython3",
   "version": "3.10.10"
  }
 },
 "nbformat": 4,
 "nbformat_minor": 5
}
