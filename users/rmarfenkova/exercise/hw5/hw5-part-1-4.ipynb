{
 "cells": [
  {
   "cell_type": "raw",
   "id": "02365026-6e3c-4baf-afbc-8d4b89d199ea",
   "metadata": {},
   "source": [
    "Множества \n",
    "\n",
    "1 Создайте множество set1 из целых чисел: 1, 2, 3, 4, 5.\n",
    "2 Добавьте в это множество элемент 6.\n",
    "3 Удалите элемент 2 из множества.\n",
    "4 Проверьте, содержит ли множество элемент 3.\n",
    "5 Создайте второе множество set2 с элементами 4, 5, 6, 7, 8.\n",
    "6 Найдите объединение множеств set1 и set2.\n",
    "7 Найдите разность множеств set1 и set2.\n",
    "8 Создайте два множества set1 и set2, содержащие цвета радуги: \"красный\", \"оранжевый\", \"желтый\", \"зеленый\", \"голубой\", \"синий\", \"фиолетовый\" и  \"оранжевый\", \"зеленый\", \"голубой\", \"синий\", \"Мальвиновый\".\n",
    "9 Найдите пересечение множеств set1 и set2.\n",
    "10 Объедините множества set1 и set2 и сохраните результат в новое множество rainbow_colors."
   ]
  },
  {
   "cell_type": "code",
   "execution_count": 2,
   "id": "edef1ba1-1965-4fa8-97df-aa084e86f551",
   "metadata": {},
   "outputs": [
    {
     "data": {
      "text/plain": [
       "set"
      ]
     },
     "execution_count": 2,
     "metadata": {},
     "output_type": "execute_result"
    }
   ],
   "source": [
    "set1 = {1, 2, 3, 4, 5} #создаю множество\n",
    "type(set1) "
   ]
  },
  {
   "cell_type": "code",
   "execution_count": 3,
   "id": "df5887d2-3062-458d-9d85-0ada9e898766",
   "metadata": {},
   "outputs": [
    {
     "name": "stdout",
     "output_type": "stream",
     "text": [
      "{1, 2, 3, 4, 5, 6}\n"
     ]
    }
   ],
   "source": [
    "set1 .add(6) # добавляю эл-т 6 в конец множества\n",
    "print(set1)"
   ]
  },
  {
   "cell_type": "code",
   "execution_count": 4,
   "id": "b5081d6c-7fe8-4666-a2b2-5342c6630ed3",
   "metadata": {},
   "outputs": [
    {
     "name": "stdout",
     "output_type": "stream",
     "text": [
      "{1, 3, 4, 5, 6}\n"
     ]
    }
   ],
   "source": [
    "set1 .discard(2) #удаляю эл-т 2 из множества\n",
    "print(set1)"
   ]
  },
  {
   "cell_type": "code",
   "execution_count": 5,
   "id": "ec038f11-ad9c-4086-ba3d-a996a5b189df",
   "metadata": {},
   "outputs": [
    {
     "data": {
      "text/plain": [
       "True"
      ]
     },
     "execution_count": 5,
     "metadata": {},
     "output_type": "execute_result"
    }
   ],
   "source": [
    "х = 3      \n",
    "х in set1"
   ]
  },
  {
   "cell_type": "code",
   "execution_count": 6,
   "id": "7d97099e-1719-4dd8-a2b6-33acc1e21966",
   "metadata": {},
   "outputs": [
    {
     "data": {
      "text/plain": [
       "{1, 3, 4, 5, 6, 7, 8}"
      ]
     },
     "execution_count": 6,
     "metadata": {},
     "output_type": "execute_result"
    }
   ],
   "source": [
    "set2 = {4, 5, 6, 7, 8}\n",
    "set1 | set2   #объединение множеств"
   ]
  },
  {
   "cell_type": "code",
   "execution_count": 7,
   "id": "80b5e74a-895a-460c-a90f-08ef4e2ab879",
   "metadata": {},
   "outputs": [
    {
     "data": {
      "text/plain": [
       "{1, 3}"
      ]
     },
     "execution_count": 7,
     "metadata": {},
     "output_type": "execute_result"
    }
   ],
   "source": [
    "set1 - set2  #разность множеств"
   ]
  },
  {
   "cell_type": "code",
   "execution_count": 8,
   "id": "c03823b2-061b-4975-aefb-f7a85ec4eb6a",
   "metadata": {},
   "outputs": [
    {
     "data": {
      "text/plain": [
       "{'голубой', 'зеленый', 'оранжевый', 'синий'}"
      ]
     },
     "execution_count": 8,
     "metadata": {},
     "output_type": "execute_result"
    }
   ],
   "source": [
    "set1 = {\"красный\", \"оранжевый\", \"желтый\", \"зеленый\", \"голубой\", \"синий\", \"фиолетовый\"} \n",
    "set2 = {\"оранжевый\", \"зеленый\", \"голубой\", \"синий\", \"Мальвиновый\"}\n",
    "set1 & set2   #пересечение множеств"
   ]
  },
  {
   "cell_type": "code",
   "execution_count": 9,
   "id": "e1f748ff-7fec-472a-89bd-5e7d4e1a1bb3",
   "metadata": {},
   "outputs": [
    {
     "name": "stdout",
     "output_type": "stream",
     "text": [
      "{'Мальвиновый', 'синий', 'оранжевый', 'красный', 'голубой', 'фиолетовый', 'зеленый', 'желтый'}\n"
     ]
    }
   ],
   "source": [
    "resilt_set = set1 | set2 # сохранила результат объединения в новое множество\n",
    "print(resilt_set)"
   ]
  },
  {
   "cell_type": "raw",
   "id": "f9773eac-30a1-4de1-9520-7734250a524f",
   "metadata": {},
   "source": [
    "Словари\n",
    "\n",
    "1 Создайте словарь person с ключами \"name\", \"age\" и \"city\" с вашими данными.\n",
    "2 Добавьте в словарь person новый ключ \"email\" со значением вашего электронного адреса.\n",
    "3 Удалите ключ \"city\" из словаря.\n",
    "4 Создайте словарь fruits_quantity с товарами \"яблоко\": 5, \"банан\": 10, \"апельсин\": 7.\n",
    "5 Увеличьте количество \"бананов\" в инвентаре на 3.\n",
    "6 Создайте новый словарь fruits_prices, где цена для каждого продукта задана {\"яблоко\": 1.5, \"банан\": 2, \"апельсин\": 1.2}.\n",
    "7 Посчитайте стоимость всех фруктов, имеющихся в наличии\n",
    "8 Удалите \"Томат\" из словаря fruits_prices.\n",
    "9 Создайте словарь students с данными о студентах {\"Иванов\": 22, \"Петрова\": 13, \"Сидоров\": 23}.\n",
    "10 Добавьте нового студента \"Смирнова\" возрастом 20 лет в словарь.\n",
    "11 Удалите студента \"Петрова\" из словаря."
   ]
  },
  {
   "cell_type": "code",
   "execution_count": 2,
   "id": "6e919028-3848-4216-a0aa-93b09b75cfeb",
   "metadata": {},
   "outputs": [
    {
     "name": "stdout",
     "output_type": "stream",
     "text": [
      "{'name': 'Regina', 'age': 35, 'city': 'Saint-Petersburg'}\n"
     ]
    },
    {
     "data": {
      "text/plain": [
       "dict"
      ]
     },
     "execution_count": 2,
     "metadata": {},
     "output_type": "execute_result"
    }
   ],
   "source": [
    "person = {\"name\": 'Regina', \"age\": 35, \"city\": 'Saint-Petersburg'} #создала словарь\n",
    "print(person)\n",
    "type(person)"
   ]
  },
  {
   "cell_type": "code",
   "execution_count": 3,
   "id": "2a4f5235-081a-4ae6-badb-07e5d19416ea",
   "metadata": {},
   "outputs": [
    {
     "name": "stdout",
     "output_type": "stream",
     "text": [
      "{'name': 'Regina', 'age': 35, 'city': 'Saint-Petersburg', 'email': 'hogo88@mail.ru'}\n"
     ]
    }
   ],
   "source": [
    "person [\"email\"] = 'hogo88@mail.ru'    #добавила новый ключ и значение в словарь\n",
    "print(person)"
   ]
  },
  {
   "cell_type": "code",
   "execution_count": 4,
   "id": "d80b0269-dd49-46de-b8cf-1633986cb18c",
   "metadata": {},
   "outputs": [
    {
     "name": "stdout",
     "output_type": "stream",
     "text": [
      "{'name': 'Regina', 'age': 35, 'email': 'hogo88@mail.ru'}\n"
     ]
    }
   ],
   "source": [
    "person .pop(\"city\") # удалила ключ из словаря\n",
    "print(person)"
   ]
  },
  {
   "cell_type": "code",
   "execution_count": 5,
   "id": "94462ba6-fc92-4824-82db-9976a69c9050",
   "metadata": {},
   "outputs": [
    {
     "name": "stdout",
     "output_type": "stream",
     "text": [
      "{'яблоко': 5, 'банан': 13, 'апельсин': 7}\n"
     ]
    }
   ],
   "source": [
    "fruits_quantity = {\"яблоко\": 5, \"банан\": 10, \"апельсин\": 7}\n",
    "fruits_quantity[\"банан\"] += 3    #увеличила кол-во бананов на 3\n",
    "print(fruits_quantity)"
   ]
  },
  {
   "cell_type": "code",
   "execution_count": 6,
   "id": "428b202d-0172-4b5a-a113-a68f52d577c7",
   "metadata": {},
   "outputs": [],
   "source": [
    "fruits_prices = {\"яблоко\": 1.5, \"банан\": 2, \"апельсин\": 1.2}"
   ]
  },
  {
   "cell_type": "code",
   "execution_count": 7,
   "id": "1274c298-35e8-481d-b776-549696084dce",
   "metadata": {},
   "outputs": [
    {
     "name": "stdout",
     "output_type": "stream",
     "text": [
      "4.7\n"
     ]
    }
   ],
   "source": [
    "total_fruit = 0\n",
    "for key, value in fruits_prices .items():\n",
    "    total_fruit += value\n",
    "print(total_fruit)\n"
   ]
  },
  {
   "cell_type": "code",
   "execution_count": 8,
   "id": "f865ec5e-c333-4f4d-a11a-cff5177c3a28",
   "metadata": {},
   "outputs": [
    {
     "data": {
      "text/plain": [
       "'Томатов нет'"
      ]
     },
     "execution_count": 8,
     "metadata": {},
     "output_type": "execute_result"
    }
   ],
   "source": [
    "fruits_prices .pop(\"Томат\", \"Томатов нет\")"
   ]
  },
  {
   "cell_type": "code",
   "execution_count": 9,
   "id": "9c8ec9e4-48b4-43e6-bddf-aac3c9c3abf2",
   "metadata": {},
   "outputs": [
    {
     "name": "stdout",
     "output_type": "stream",
     "text": [
      "{'Иванов': 22, 'Петрова': 21, 'Сидоров': 23, 'Смирнова': 20}\n"
     ]
    }
   ],
   "source": [
    "students = {\"Иванов\": 22, \"Петрова\": 21, \"Сидоров\": 23}\n",
    "students[\"Смирнова\"] = 20\n",
    "print(students)"
   ]
  },
  {
   "cell_type": "code",
   "execution_count": 10,
   "id": "1d981776-db8f-46bc-baf6-185e84ee4169",
   "metadata": {},
   "outputs": [
    {
     "name": "stdout",
     "output_type": "stream",
     "text": [
      "{'Иванов': 22, 'Сидоров': 23, 'Смирнова': 20}\n"
     ]
    }
   ],
   "source": [
    "students .pop('Петрова')    #удалила Петрову из словаря\n",
    "print(students)"
   ]
  },
  {
   "cell_type": "raw",
   "id": "f3c7fb13-cc71-46f2-ba6c-39cf5493ce81",
   "metadata": {},
   "source": [
    "Условные операторы \n",
    "\n",
    "1 На основе значения возраста из словаря person, выведите сообщение \"Совершеннолетний\" или \"Несовершеннолетний\".\n",
    "2 Сравните длину множества set1 с другим множеством set2 и выведите сообщение о том, какое из множеств больше.\n",
    "3 Напишите условие, которое проверяет, есть ли \"груша\" в словаре fruits_quantity, и если нет, добавляет \"грушу\" с количеством 3.\n",
    "4 Выведите сообщение \"Дорогой товар\" для продуктов, цена которых превышает 1.5.\n",
    "5 Задайте словарь Seven11 с таким содержанием {\"яйца\": 40, \"батон хлеба\" : 20}\n",
    "\t  Жена отправляет мужа-программиста в севенэлевен:\n",
    "\t — Купи батон хлеба, если будут яйца — возьми десяток.\n",
    "\tВыведите на экран, сколько хлеба купил муж-программист, и сколько хлеба и яиц осталось в магазине.\n",
    "6 Напишите условие, которое проверяет возраст студента \"Иванова\" и выводит сообщение \"Совершеннолетний\" или \"Несовершеннолетний\"."
   ]
  },
  {
   "cell_type": "code",
   "execution_count": 11,
   "id": "a2e0672d-259e-421d-a9c0-bf6ab1bc000c",
   "metadata": {},
   "outputs": [
    {
     "name": "stdout",
     "output_type": "stream",
     "text": [
      "Совершеннолетний\n"
     ]
    }
   ],
   "source": [
    "#1 На основе значения возраста из словаря person, выведите сообщение \"Совершеннолетний\" или \"Несовершеннолетний\".\n",
    "if person['age'] >= 18:\n",
    "    print(\"Совершеннолетний\")\n",
    "if person['age'] < 18:\n",
    "    print(\"Несовершеннолетний\")"
   ]
  },
  {
   "cell_type": "code",
   "execution_count": 12,
   "id": "2c55c849-c82d-47b5-9e63-03f2ab98bd98",
   "metadata": {},
   "outputs": [
    {
     "name": "stdout",
     "output_type": "stream",
     "text": [
      "Оба множества имеют одинаковую длину\n"
     ]
    }
   ],
   "source": [
    "#2 Сравните длину множества set1 с другим множеством set2 и выведите сообщение о том, какое из множеств больше.\n",
    "set1 = {1, 2, 3, 4, 5}\n",
    "set2 = {4, 5, 6, 7, 8}    #сравнила два множества по длинне и вывела резельтат через цикл\n",
    "if len(set1) > len(set2):\n",
    "    print(\"Первое множество больше второго\")\n",
    "elif len(set1) < len(set2):\n",
    "    print(\"Второе множество больше первого\")\n",
    "else:\n",
    "    print(\"Оба множества имеют одинаковую длину\")"
   ]
  },
  {
   "cell_type": "code",
   "execution_count": 13,
   "id": "48cfe266-be62-48f2-9bbb-6319f9ce6adf",
   "metadata": {},
   "outputs": [
    {
     "name": "stdout",
     "output_type": "stream",
     "text": [
      "Первое множество больше второго\n"
     ]
    }
   ],
   "source": [
    "#2 Сравните длину множества set1 с другим множеством set2 и выведите сообщение о том, какое из множеств больше.\n",
    "set1 = {\"красный\", \"оранжевый\", \"желтый\", \"зеленый\", \"голубой\", \"синий\", \"фиолетовый\"} \n",
    "set2 = {\"оранжевый\", \"зеленый\", \"голубой\", \"синий\", \"Мальвиновый\"}\n",
    "if len(set1) > len(set2):\n",
    "    print(\"Первое множество больше второго\")  #сравнила два множества по длинне и вывела резельтат через цикл\n",
    "elif len(set1) < len(set2):\n",
    "    print(\"Второе множество больше первого\")\n",
    "else:\n",
    "    print(\"Оба множества имеют одинаковую длину\")"
   ]
  },
  {
   "cell_type": "code",
   "execution_count": 14,
   "id": "d152e8b9-44e2-4142-abcb-0e91811b13a2",
   "metadata": {},
   "outputs": [
    {
     "name": "stdout",
     "output_type": "stream",
     "text": [
      "{'яблоко': 5, 'банан': 10, 'апельсин': 7, 'груша': 3}\n"
     ]
    }
   ],
   "source": [
    "#3 Напишите условие, которое проверяет, есть ли \"груша\" в словаре fruits_quantity, и если нет, добавляет \"грушу\" с количеством 3.\n",
    "fruits_quantity = {\"яблоко\": 5, \"банан\": 10, \"апельсин\": 7}\n",
    "if \"груша\" not in fruits_quantity:\n",
    "    fruits_quantity[\"груша\"] = 3    #проверила словарь на наличие \"груша\", добавила новый ключ со значением черех цикл\n",
    "    print(fruits_quantity)"
   ]
  },
  {
   "cell_type": "code",
   "execution_count": 15,
   "id": "fcb467df-2648-47e6-83ed-63d69cbec3ef",
   "metadata": {},
   "outputs": [
    {
     "name": "stdout",
     "output_type": "stream",
     "text": [
      "банан дорогой\n"
     ]
    }
   ],
   "source": [
    "#4 Выведите сообщение \"Дорогой товар\" для продуктов, цена которых превышает 1.5.\n",
    "\n",
    "fruits_prices = {\"яблоко\": 1.5, \"банан\": 2, \"апельсин\": 1.2} \n",
    "for key, value in fruits_prices .items():\n",
    "    if value > 1.5:\n",
    "        print(f\"{key} дорогой\")"
   ]
  },
  {
   "cell_type": "code",
   "execution_count": 16,
   "id": "b9289e18-eeba-4170-9363-2dd500217927",
   "metadata": {},
   "outputs": [
    {
     "name": "stdout",
     "output_type": "stream",
     "text": [
      "Муж-не-программист купил 1 батон хлеба\n",
      "Муж-не-программист купил 10 яиц\n",
      "В магазине осталось 19 батонов хлеба и 30 яиц\n"
     ]
    }
   ],
   "source": [
    "#5 Задайте словарь Seven11 с таким содержанием {\"яйца\": 40, \"батон хлеба\" : 20}\n",
    "\t#  Жена отправляет мужа-не-программиста в севенэлевен:\n",
    "\t# — Купи батон хлеба, если будут яйца — возьми десяток.\n",
    "\t# Выведите на экран, сколько хлеба купил муж-не-программист, и сколько хлеба и яиц осталось в магазине.\n",
    "\n",
    "Seven11 = {\"яйца\": 40, \"батон хлеба\" : 20}\n",
    "kol_hleba = 1\n",
    "if Seven11[\"батон хлеба\"] >= kol_hleba:\n",
    "    Seven11[\"батон хлеба\"] -= kol_hleba\n",
    "    print(f\"Муж-не-программист купил {kol_hleba} батон хлеба\")\n",
    "if Seven11[\"яйца\"] >=10:\n",
    "     Seven11[\"яйца\"] -=10\n",
    "     print(\"Муж-не-программист купил 10 яиц\")\n",
    "else: print(\"В магазине не хватает яиц\")\n",
    "print(f\"В магазине осталось {Seven11['батон хлеба']} батонов хлеба и {Seven11['яйца']} яиц\")"
   ]
  },
  {
   "cell_type": "code",
   "execution_count": 17,
   "id": "69b0c439-dc9a-4b4c-b2b2-f4749076621c",
   "metadata": {},
   "outputs": [
    {
     "name": "stdout",
     "output_type": "stream",
     "text": [
      "Совершеннолетний\n"
     ]
    }
   ],
   "source": [
    "#6 Напишите условие, которое проверяет возраст студента \"Иванова\" и выводит сообщение \"Совершеннолетний\" или \"Несовершеннолетний\".\n",
    "students = {\"Иванов\": 22, \"Петрова\": 21, \"Сидоров\": 23}\n",
    "if \"Иванов\" in students:\n",
    "    age = students[\"Иванов\"]\n",
    "if age >= 18:\n",
    "    print(\"Совершеннолетний\")\n",
    "else:\n",
    "    print(\"Несовершеннолетний\")"
   ]
  },
  {
   "cell_type": "raw",
   "id": "301e3d0e-f61b-40d8-a2b1-9e21ef859363",
   "metadata": {},
   "source": [
    "Циклы \n",
    "\n",
    "1  Напишите цикл for, который выводит все элементы множества set1.\n",
    "2  Напишите цикл while, который выводит квадраты чисел от 1 до 5.\n",
    "3  Напишите цикл for, который перебирает все ключи словаря fruits_quantity и выводит каждый товар.\n",
    "4  Выведите сообщение \"%название фрукта% - дорогой товар\" для фруктов из fruit_prices, цена которых превышает 1.5, подставив вместо %название фрукта% название соответствующих \"дорогих\" фруктов\n",
    "5  Посчитайте стоимость всех фруктов, имеющихся в наличии\n",
    "6  Используя цикл for, выведите всех студентов и их возраст из словаря students."
   ]
  },
  {
   "cell_type": "code",
   "execution_count": 18,
   "id": "3e94a6f7-435f-4c11-aee1-abafc1bab287",
   "metadata": {},
   "outputs": [
    {
     "name": "stdout",
     "output_type": "stream",
     "text": [
      "1\n",
      "2\n",
      "3\n",
      "4\n",
      "5\n"
     ]
    }
   ],
   "source": [
    "#1 Напишите цикл for, который выводит все элементы множества set1.\n",
    "set1 = {1, 2, 3, 4, 5}\n",
    "for element in set1:\n",
    "    print(element)"
   ]
  },
  {
   "cell_type": "code",
   "execution_count": 19,
   "id": "46c30a8a-08be-4ef2-9510-eb13fc29b3fb",
   "metadata": {},
   "outputs": [
    {
     "name": "stdout",
     "output_type": "stream",
     "text": [
      "голубой\n",
      "зеленый\n",
      "красный\n",
      "фиолетовый\n",
      "синий\n",
      "желтый\n",
      "оранжевый\n"
     ]
    }
   ],
   "source": [
    "#1 Напишите цикл for, который выводит все элементы множества set1.\n",
    "set1 = {\"красный\", \"оранжевый\", \"желтый\", \"зеленый\", \"голубой\", \"синий\", \"фиолетовый\"}\n",
    "for element in set1:\n",
    "    print(element)"
   ]
  },
  {
   "cell_type": "code",
   "execution_count": 20,
   "id": "0ada2fa9-7669-4779-beeb-95fb5c969cdc",
   "metadata": {},
   "outputs": [
    {
     "name": "stdout",
     "output_type": "stream",
     "text": [
      "1\n",
      "4\n",
      "9\n",
      "16\n",
      "25\n"
     ]
    }
   ],
   "source": [
    "#2 Напишите цикл while, который выводит квадраты чисел от 1 до 5.\n",
    "i = 1\n",
    "while i <= 5:\n",
    "    print(i**2)\n",
    "    i += 1"
   ]
  },
  {
   "cell_type": "code",
   "execution_count": 21,
   "id": "9ae16668-aac7-4091-a2b2-ab210900b48b",
   "metadata": {},
   "outputs": [
    {
     "name": "stdout",
     "output_type": "stream",
     "text": [
      "яблоко\n",
      "банан\n",
      "апельсин\n"
     ]
    }
   ],
   "source": [
    "#3 Напишите цикл for, который перебирает все ключи словаря fruits_quantity и выводит каждый товар\n",
    "fruits_quantity = {\"яблоко\": 5, \"банан\": 10, \"апельсин\": 7}\n",
    "for fruit in fruits_quantity:\n",
    "    print(fruit)"
   ]
  },
  {
   "cell_type": "code",
   "execution_count": 22,
   "id": "5c2b623f-dd3c-49dd-998c-ead176dd2a2c",
   "metadata": {},
   "outputs": [
    {
     "name": "stdout",
     "output_type": "stream",
     "text": [
      "банан - дорогой товар\n"
     ]
    }
   ],
   "source": [
    "#4 Выведите сообщение \"%название фрукта% - дорогой товар\" для фруктов из fruit_prices, цена которых превышает 1.5, подставив вместо %название фрукта% название соответствующих \"дорогих\" фруктов\n",
    "fruits_prices = {\"яблоко\": 1.5, \"банан\": 2, \"апельсин\": 1.2}\n",
    "for key, value in fruits_prices .items():\n",
    "    if value > 1.5:\n",
    "     print(f\"{key} - дорогой товар\")"
   ]
  },
  {
   "cell_type": "code",
   "execution_count": 23,
   "id": "19e13d21-df24-4e88-af15-23df464c0f14",
   "metadata": {},
   "outputs": [
    {
     "name": "stdout",
     "output_type": "stream",
     "text": [
      "35.9\n"
     ]
    }
   ],
   "source": [
    "#5 Посчитайте стоимость всех фруктов, имеющихся в наличии\n",
    "fruits_prices = {\"яблоко\": 1.5, \"банан\": 2, \"апельсин\": 1.2}\n",
    "fruits_quantity = {\"яблоко\": 5, \"банан\": 10, \"апельсин\": 7}\n",
    "total = 0\n",
    "for fruit, quantity in fruits_quantity .items():\n",
    "    if fruit in fruits_prices:\n",
    "     total += quantity * fruits_prices[fruit]\n",
    "print(total)"
   ]
  },
  {
   "cell_type": "code",
   "execution_count": 24,
   "id": "6f4b3859-a5de-4c89-ac25-64316b692386",
   "metadata": {},
   "outputs": [
    {
     "name": "stdout",
     "output_type": "stream",
     "text": [
      "Иванов - 22 лет\n",
      "Петрова - 21 лет\n",
      "Сидоров - 23 лет\n"
     ]
    }
   ],
   "source": [
    "#6 Используя цикл for, выведите всех студентов и их возраст из словаря students.\n",
    "students = {\"Иванов\": 22, \"Петрова\": 21, \"Сидоров\": 23}\n",
    "for student, age in students.items():\n",
    "    print(f\"{student} - {age} лет\")"
   ]
  },
  {
   "cell_type": "code",
   "execution_count": null,
   "id": "0bcc2536-8a3b-46bb-b42c-452f87d295e1",
   "metadata": {},
   "outputs": [],
   "source": []
  },
  {
   "cell_type": "code",
   "execution_count": null,
   "id": "35f073b9-8094-4fd0-80b3-7c5d868e3888",
   "metadata": {},
   "outputs": [],
   "source": []
  },
  {
   "cell_type": "code",
   "execution_count": null,
   "id": "1dc8f9c9-664d-48b9-916a-15152193ee1f",
   "metadata": {},
   "outputs": [],
   "source": []
  },
  {
   "cell_type": "code",
   "execution_count": null,
   "id": "7ae18e3d-5edf-4b0c-b267-6ae76bf17843",
   "metadata": {},
   "outputs": [],
   "source": []
  },
  {
   "cell_type": "code",
   "execution_count": null,
   "id": "20eff67a-928b-48ce-aee1-9384dcd70f56",
   "metadata": {},
   "outputs": [],
   "source": []
  }
 ],
 "metadata": {
  "kernelspec": {
   "display_name": "Python 3 (ipykernel)",
   "language": "python",
   "name": "python3"
  },
  "language_info": {
   "codemirror_mode": {
    "name": "ipython",
    "version": 3
   },
   "file_extension": ".py",
   "mimetype": "text/x-python",
   "name": "python",
   "nbconvert_exporter": "python",
   "pygments_lexer": "ipython3",
   "version": "3.10.10"
  }
 },
 "nbformat": 4,
 "nbformat_minor": 5
}
