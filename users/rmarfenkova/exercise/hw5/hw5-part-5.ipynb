{
 "cells": [
  {
   "cell_type": "code",
   "execution_count": null,
   "id": "9c4f9016-ae4d-43f7-a657-bff57ca3a906",
   "metadata": {},
   "outputs": [],
   "source": [
    "Множества\n",
    "\n",
    "#1 Создайте функции set_union и set_difference для операций объединения и разности множеств.\n",
    "#- Функции должны принимать два множества и возвращать соответствующий результат.\n",
    "#2 Создайте функцию is_subset для проверки, является ли одно множество подмножеством другого.\n",
    "#3 Создайте функцию для объединения нескольких множеств.\n",
    "#4 Создайте функцию для удаления конкретного элемента из множества.\n",
    "#5 Создайте функцию для поиска пересечения нескольких множеств.\n",
    "#6 Создайте функцию для проверки на равенство двух множеств.\n",
    "#7 Создайте функцию для нахождения объединения трех множеств.\n",
    "#8 Создайте функцию для проверки, являются ли два множества дизъюнктными (не имеют общих элементов).\n",
    "#9 Создайте функцию для нахождения разности двух множеств.\n",
    "#10 Создайте функцию для определения симметрической разности двух множеств.\n",
    "#11 Создайте функцию create_set для создания множества с заданными элементами.\n",
    "#- Функция должна принимать переменное количество аргументов и возвращать новое множество."
   ]
  },
  {
   "cell_type": "code",
   "execution_count": 1,
   "id": "46434e8c-2cd9-47c5-aaf5-2db45905881f",
   "metadata": {},
   "outputs": [
    {
     "name": "stdout",
     "output_type": "stream",
     "text": [
      "Объединение множеств: {1, 2, 3, 4, 5, 6, 7, 8}\n",
      "Разность множеств: {1, 2, 3}\n"
     ]
    }
   ],
   "source": [
    "#1 Создайте функции set_union и set_difference для операций объединения и разности множеств.\n",
    "set1 = {1, 2, 3, 4, 5}\n",
    "set2 = {4, 5, 6, 7, 8}\n",
    "def set_union(set1, set2):\n",
    "    return set1.union(set2)\n",
    "def set_difference(set1, set2):\n",
    "    return set1.difference(set2)\n",
    "print(\"Объединение множеств:\", set_union(set1, set2))\n",
    "print(\"Разность множеств:\", set_difference(set1, set2))"
   ]
  },
  {
   "cell_type": "code",
   "execution_count": 2,
   "id": "eff204a4-1b91-49e0-beeb-2b83da87c6de",
   "metadata": {},
   "outputs": [
    {
     "name": "stdout",
     "output_type": "stream",
     "text": [
      "set1 не является подмножеством set2\n"
     ]
    }
   ],
   "source": [
    "#2 Создайте функцию is_subset для проверки, является ли одно множество подмножеством другого\n",
    "def is_subset(set1, set2):\n",
    "    return set1.issubset(set2) #Эта функция использует метод `issubset`, который возвращает `True`, если все элементы множества `set1` также присутствуют в множестве `set2`, и `False` в противном случае.\n",
    "if is_subset(set1, set2):\n",
    "    print(\"set1 является подмножеством set2\")\n",
    "else:\n",
    "    print(\"set1 не является подмножеством set2\")\n",
    "    "
   ]
  },
  {
   "cell_type": "code",
   "execution_count": 3,
   "id": "2af45ec5-3a96-4d60-9c40-c93c9dc1fa9f",
   "metadata": {},
   "outputs": [
    {
     "name": "stdout",
     "output_type": "stream",
     "text": [
      "{1, 2, 3, 4, 5, 6, 7, 8}\n"
     ]
    }
   ],
   "source": [
    "#3 Создайте функцию для объединения нескольких множеств.\n",
    "def set_union(set1, set2):\n",
    "    return set1 | set2\n",
    "result = set1 | set2\n",
    "print(result)"
   ]
  },
  {
   "cell_type": "code",
   "execution_count": 4,
   "id": "ca1aff45-2ef4-43c7-bc2c-b9482c9196d1",
   "metadata": {},
   "outputs": [
    {
     "name": "stdout",
     "output_type": "stream",
     "text": [
      "Исходное множество: {1, 2, 3, 4, 5}\n",
      "Элемент 3 успешно удален из множества.\n",
      "Обновленное множество: {1, 2, 4, 5}\n"
     ]
    }
   ],
   "source": [
    "#4 Создайте функцию для удаления конкретного элемента из множества.\n",
    "def remove_element(some_set, element):\n",
    "    if element in some_set:\n",
    "        some_set .remove(element)\n",
    "        return True\n",
    "    else:\n",
    "        return False\n",
    "set1 = {1, 2, 3, 4, 5}\n",
    "element_to_remove = 3\n",
    "print(\"Исходное множество:\", set1)\n",
    "if remove_element(set1, element_to_remove):\n",
    "    print(f\"Элемент {element_to_remove} успешно удален из множества.\")\n",
    "    print(\"Обновленное множество:\",set1)\n",
    "else:\n",
    "    print(f\"Элемент{element_to_remove} не найден в множестве\")"
   ]
  },
  {
   "cell_type": "code",
   "execution_count": 5,
   "id": "079bfaf9-a6d2-4b3e-83f6-88303872b0b0",
   "metadata": {},
   "outputs": [
    {
     "name": "stdout",
     "output_type": "stream",
     "text": [
      "{3, 4, 5}\n"
     ]
    }
   ],
   "source": [
    "#5 Создайте функцию для поиска пересечения нескольких множеств\n",
    "def find_intersection(set1, set2):\n",
    "    return set1 .intersection(set2)\n",
    "set1 = {1, 2, 3, 4, 5} \n",
    "set2 = {3, 4, 5, 6, 7}\n",
    "intersection_set = find_intersection(set1, set2)    \n",
    "print(intersection_set)"
   ]
  },
  {
   "cell_type": "code",
   "execution_count": 6,
   "id": "9e2142d1-bf5a-4b98-85d8-a12139226a2c",
   "metadata": {},
   "outputs": [
    {
     "name": "stdout",
     "output_type": "stream",
     "text": [
      "False\n"
     ]
    }
   ],
   "source": [
    "#6 Создайте функцию для проверки на равенство двух множеств.\n",
    "def check_equality(set1, set2):\n",
    "    return set1 == set2\n",
    "set1 = {1, 2, 3}\n",
    "set1 = {3, 2, 1}\n",
    "result = check_equality(set1, set2)\n",
    "print(result)"
   ]
  },
  {
   "cell_type": "code",
   "execution_count": 14,
   "id": "40be75de-cc02-473c-9b7c-f4b5a656995a",
   "metadata": {},
   "outputs": [
    {
     "name": "stdout",
     "output_type": "stream",
     "text": [
      "{1, 2, 3, 5, 6, 7}\n"
     ]
    }
   ],
   "source": [
    "#7 Создайте функцию для нахождения объединения трех множеств.\n",
    "def union_of_sets(set1, set2, set3):\n",
    "    return set1 .union(set1, set3)\n",
    "set1 = {1, 2, 3}\n",
    "set2 = {3, 4, 5}\n",
    "set3 = {5, 6, 7}\n",
    "result = union_of_sets(set1, set2, set3)\n",
    "print(result)"
   ]
  },
  {
   "cell_type": "code",
   "execution_count": 15,
   "id": "ddaf4b25-69bf-4223-9380-db448df392ef",
   "metadata": {},
   "outputs": [
    {
     "name": "stdout",
     "output_type": "stream",
     "text": [
      "Множества не дизъюктивны\n"
     ]
    }
   ],
   "source": [
    "#8 Создайте функцию для проверки, являются ли два множества дизъюнктными (не имеют общих элементов).\n",
    "def is_disJoint(set1, set2):\n",
    "    return set1 .isdisjoint(set2) \n",
    "set1 = {1, 2, 3}\n",
    "set2 = {3, 4, 5}\n",
    "if is_disJoint(set1, set2):\n",
    "    print(\"Множества дизъюктивны\")\n",
    "else:\n",
    "    print(\"Множества не дизъюктивны\")"
   ]
  },
  {
   "cell_type": "code",
   "execution_count": 16,
   "id": "31f88837-c8f3-4f97-b6dc-6b6be28732e7",
   "metadata": {},
   "outputs": [
    {
     "name": "stdout",
     "output_type": "stream",
     "text": [
      "{1, 2}\n"
     ]
    }
   ],
   "source": [
    "#9 Создайте функцию для нахождения разности двух множеств.\n",
    "def set_difference(set1, set2):\n",
    "    return set1 - set2\n",
    "set1 = {1, 2, 3}\n",
    "set2 = {3, 4, 5}\n",
    "result = set_difference(set1, set2)\n",
    "print(result)"
   ]
  },
  {
   "cell_type": "code",
   "execution_count": 17,
   "id": "22d21949-6571-4b15-b0d1-94fa103fc238",
   "metadata": {},
   "outputs": [
    {
     "name": "stdout",
     "output_type": "stream",
     "text": [
      "{1, 2, 6, 7}\n"
     ]
    }
   ],
   "source": [
    "#10 Создайте функцию для определения симметрической разности двух множеств.\n",
    "def symmetric_difference(set1, set2):\n",
    "    return set1 .symmetric_difference(set2)\n",
    "set1 = {1, 2, 3, 4, 5} \n",
    "set2 = {3, 4, 5, 6, 7}    \n",
    "result = symmetric_difference(set1, set2)\n",
    "print(result)"
   ]
  },
  {
   "cell_type": "code",
   "execution_count": 18,
   "id": "b27b8c8c-d92d-427b-a19b-51c2b7b62efb",
   "metadata": {},
   "outputs": [
    {
     "name": "stdout",
     "output_type": "stream",
     "text": [
      "{1, 2, 3, 4, 5}\n"
     ]
    }
   ],
   "source": [
    "#11 Создайте функцию create_set для создания множества с заданными элементами.\n",
    "#- Функция должна принимать переменное количество аргументов и возвращать новое множество.\n",
    "def create_set(*elements):\n",
    "    return set(elements)\n",
    "set1 = create_set(1, 2, 3, 4, 5)  \n",
    "print(set1)"
   ]
  },
  {
   "cell_type": "code",
   "execution_count": null,
   "id": "596326ec-02c2-4783-8681-a71885dcd71f",
   "metadata": {},
   "outputs": [],
   "source": [
    "Словари\n",
    "\n",
    "#1 Создайте функцию create_dictionary для создания словаря с заданными ключами и значениями.\n",
    "   #- Функция должна принимать словарь в формате ключ-значение и возвращать созданный словарь.\n",
    "#2 Напишите функции add_student и remove_student для добавления и удаления студентов из словаря.\n",
    "   #- Функции должны принимать словарь студентов и соответствующие данные для добавления и удаления.\n",
    "#3 Напишите функции add_fruit и remove_fruit для добавления и удаления фруктов, их количества и стоимости в списки fruits_quantity и fruits_prices.\n",
    "   #- Функции должны принимать словари и соответствующие данные для добавления и удаления.\n",
    "#4 Создайте функцию для объединения двух словарей.\n",
    "#5 Создайте функцию для удаления элемента из словаря по заданному ключу.\n",
    "#6 Создайте функцию для переворачивания значений и ключей в словаре (принимает на вход словарь, возвращает другой словарь, ключами которого являются     значения входного словаря, а значениями - ключи.\n",
    "#7 Создайте функцию для сортировки словаря по ключам в обратном порядке.\n",
    "#8 Создайте функцию возвращающую наибольшее значение элемента словаря.\n",
    "#9 Создайте функцию для поиска наибольшего значения в словаре."
   ]
  },
  {
   "cell_type": "code",
   "execution_count": 19,
   "id": "5adbdec2-93d0-4048-b547-e3414cbe4477",
   "metadata": {},
   "outputs": [
    {
     "name": "stdout",
     "output_type": "stream",
     "text": [
      "{'appeles': 5, 'bananas': 10, 'oranges': 7}\n"
     ]
    }
   ],
   "source": [
    "#1 Создайте функцию create_dictionary для создания словаря с заданными ключами и значениями.\n",
    "   #- Функция должна принимать словарь в формате ключ-значение и возвращать созданный словарь.\n",
    "def create_dictionary(**kwargs):\n",
    "    new_dict = {}\n",
    "    for key, value in kwargs .items():\n",
    "        new_dict[key] = value\n",
    "    return new_dict\n",
    "my_dict = create_dictionary(appeles=5, bananas=10, oranges=7)    \n",
    "print(my_dict)    "
   ]
  },
  {
   "cell_type": "code",
   "execution_count": 23,
   "id": "349f55ea-f050-4262-a6b9-0c89eb1ab8c0",
   "metadata": {},
   "outputs": [
    {
     "name": "stdout",
     "output_type": "stream",
     "text": [
      "{1: 'Иванов', 2: 'Петров', 3: 'Сидоров', 4: 'Козлов'}\n",
      "{1: 'Иванов', 3: 'Сидоров', 4: 'Козлов'}\n"
     ]
    }
   ],
   "source": [
    "#2 Напишите функции add_student и remove_student для добавления и удаления студентов из словаря.\n",
    "   #- Функции должны принимать словарь студентов и соответствующие данные для добавления и удаления.\n",
    "\n",
    "def add_student(students_dict, student_id, student_name):\n",
    "    students_dict[student_id] = student_name\n",
    "\n",
    "def remove_student(students_dict, student_id):\n",
    "    if student_id in students_dict:\n",
    "        del students_dict[student_id]\n",
    "    else:\n",
    "        print(f\"Студент с ID {student_id} не найден в словаре.\")\n",
    "students = {1: 'Иванов', 2: 'Петров', 3: 'Сидоров'}\n",
    "\n",
    "add_student(students, 4, 'Козлов')\n",
    "print(students)\n",
    "\n",
    "remove_student(students, 2)\n",
    "print(students)        "
   ]
  },
  {
   "cell_type": "code",
   "execution_count": 24,
   "id": "fb2fe043-f087-4d1a-b677-c3c6996d1dc6",
   "metadata": {},
   "outputs": [
    {
     "name": "stdout",
     "output_type": "stream",
     "text": [
      "{'яблоко': 10, 'апельсин': 5}\n",
      "{'яблоко': 50, 'апельсин': 30}\n",
      "{'апельсин': 5}\n",
      "{'апельсин': 30}\n"
     ]
    }
   ],
   "source": [
    "#3 Напишите функции add_fruit и remove_fruit для добавления и удаления фруктов, их количества и стоимости в списки fruits_quantity и fruits_prices.\n",
    "   #- Функции должны принимать словари и соответствующие данные для добавления и удаления.\n",
    "fruits_quantity = {}\n",
    "fruits_prices = {}\n",
    "\n",
    "def add_fruit(fruit_name, quantity, price):\n",
    "    if fruit_name in fruits_quantity:\n",
    "        fruits_quantity[fruit_name] += quantity\n",
    "    else:\n",
    "        fruits_quantity[fruit_name] = quantity\n",
    "    \n",
    "    fruits_prices[fruit_name] = price\n",
    "\n",
    "def remove_fruit(fruit_name):\n",
    "    if fruit_name in fruits_quantity:\n",
    "        del fruits_quantity[fruit_name]\n",
    "        del fruits_prices[fruit_name]\n",
    "    else:\n",
    "        print(f\"{fruit_name} не найден в списке фруктов.\")\n",
    "\n",
    "# Пример использования функций\n",
    "add_fruit('яблоко', 10, 50)\n",
    "add_fruit('апельсин', 5, 30)\n",
    "\n",
    "print(fruits_quantity)\n",
    "print(fruits_prices)\n",
    "\n",
    "remove_fruit('яблоко')\n",
    "\n",
    "print(fruits_quantity)\n",
    "print(fruits_prices)\n"
   ]
  },
  {
   "cell_type": "code",
   "execution_count": 25,
   "id": "03f0284b-f978-4a51-9698-d197881097ef",
   "metadata": {},
   "outputs": [
    {
     "name": "stdout",
     "output_type": "stream",
     "text": [
      "{'a': 1, 'b': 2, 'c': 3, 'd': 4}\n"
     ]
    }
   ],
   "source": [
    "#4 Создайте функцию для объединения двух словарей.\n",
    "def merge_dicts(dict1, dict2):\n",
    "    return {**dict1, **dict2}\n",
    "dict1 = {'a': 1, 'b': 2}\n",
    "dict2 = {'c': 3, 'd': 4}\n",
    "\n",
    "merged_dict = merge_dicts(dict1, dict2)\n",
    "print(merged_dict)    "
   ]
  },
  {
   "cell_type": "code",
   "execution_count": 26,
   "id": "c914aa1d-73ac-4c71-b3e9-9a6acdf7dff8",
   "metadata": {},
   "outputs": [
    {
     "name": "stdout",
     "output_type": "stream",
     "text": [
      "Элемент с ключом 'banana' успешно удален из словаря.\n",
      "{'apple': 2, 'orange': 1}\n"
     ]
    }
   ],
   "source": [
    "#5 Создайте функцию для удаления элемента из словаря по заданному ключу\n",
    "def remove_item(dictionary, key):\n",
    "    if key in dictionary:\n",
    "        del dictionary[key]\n",
    "        print(f\"Элемент с ключом '{key}' успешно удален из словаря.\")\n",
    "    else:\n",
    "        print(f\"Элемент с ключом '{key}' не найден в словаре.\")\n",
    "\n",
    "# Пример использования функции\n",
    "my_dict = {'apple': 2, 'banana': 3, 'orange': 1}\n",
    "remove_item(my_dict, 'banana')\n",
    "print(my_dict)  # Вывод: {'apple': 2, 'orange': 1}"
   ]
  },
  {
   "cell_type": "code",
   "execution_count": 27,
   "id": "e82d4e38-9c22-44a5-bba1-3bbdffb02540",
   "metadata": {},
   "outputs": [
    {
     "name": "stdout",
     "output_type": "stream",
     "text": [
      "{1: 'a', 2: 'b', 3: 'c'}\n"
     ]
    }
   ],
   "source": [
    "#6 Создайте функцию для переворачивания значений и ключей в словаре (принимает на вход словарь, возвращает другой словарь, ключами которого являются     значения входного словаря, а значениями - ключи\n",
    "def reverse_dict(input_dict):\n",
    "    return {value: key for key, value in input_dict.items()}\n",
    "\n",
    "# Пример использования\n",
    "original_dict = {'a': 1, 'b': 2, 'c': 3}\n",
    "reversed_dict = reverse_dict(original_dict)\n",
    "print(reversed_dict)"
   ]
  },
  {
   "cell_type": "code",
   "execution_count": 28,
   "id": "c6fcd4db-6944-42fb-84bc-4e5d99431dd1",
   "metadata": {},
   "outputs": [
    {
     "name": "stdout",
     "output_type": "stream",
     "text": [
      "{3: 'apple', 2: 'orange', 1: 'banana'}\n"
     ]
    }
   ],
   "source": [
    "#7 Создайте функцию для сортировки словаря по ключам в обратном порядке.\n",
    "def sort_dict_reverse(input_dict):\n",
    "    sorted_dict = dict(sorted(input_dict.items(), key=lambda x: x[0], reverse=True))\n",
    "    return sorted_dict\n",
    "\n",
    "# Пример использования\n",
    "my_dict = {3: 'apple', 1: 'banana', 2: 'orange'}\n",
    "sorted_dict = sort_dict_reverse(my_dict)\n",
    "print(sorted_dict)"
   ]
  },
  {
   "cell_type": "code",
   "execution_count": 37,
   "id": "6b593907-2dd2-4c7f-b169-f386b8ef08b2",
   "metadata": {},
   "outputs": [
    {
     "name": "stdout",
     "output_type": "stream",
     "text": [
      "3\n"
     ]
    }
   ],
   "source": [
    "#8 Создайте функцию возвращающую наибольшее значение элемента словаря.\n",
    "def max_value_in_dict(input_dict):\n",
    "    if not input_dict:\n",
    "        return None\n",
    "    return max(input_dict.values())\n",
    "input_dict = {'a': 1, 'b': 2, 'c': 3}\n",
    "result = max_value_in_dict(input_dict)\n",
    "print(result)"
   ]
  },
  {
   "cell_type": "code",
   "execution_count": 38,
   "id": "9efb94c2-bea4-4ede-9812-c77801d839a3",
   "metadata": {},
   "outputs": [
    {
     "name": "stdout",
     "output_type": "stream",
     "text": [
      "30\n"
     ]
    }
   ],
   "source": [
    "#9 Создайте функцию для поиска наибольшего значения в словаре.\n",
    "def find_max_value(input_dict):\n",
    "    if not input_dict:\n",
    "        return None\n",
    "    return max(input_dict.values())\n",
    "\n",
    "# Пример использования:\n",
    "my_dict = {'a': 10, 'b': 20, 'c': 30}\n",
    "max_value = find_max_value(my_dict)\n",
    "print(max_value)"
   ]
  },
  {
   "cell_type": "code",
   "execution_count": null,
   "id": "357c88ab-2373-4315-a44f-e86844026e3c",
   "metadata": {},
   "outputs": [],
   "source": [
    "Условия и цыклы\n",
    "\n",
    "#1 Создайте функцию check_fruit_price для проверки стоимости фрукта и вывода соответствующего сообщения.\n",
    "   #- Функция должна принимать словарь цен на фрукты и название фрукта, а затем выводить сообщение \"дорогой товар\", если цена фрукта больше 1.5.\n",
    "#2 Создайте функцию check_age для проверки возраста студента и вывода соответствующего сообщения.\n",
    "   #- Функция должна принимать словарь студентов и имя студента, а затем выводить сообщение о совершеннолетии или несовершеннолетии.\n",
    "#3 Создайте функцию compare_sets_length, которая сравнивает длину двух множеств и выводит информацию о  том, какое из множеств длиннее.\n",
    "   #- Функция должна принимать два множества и выводить соответствующее сообщение.\n",
    "#4 Создайте функцию для определения четности или нечетности числа.\n",
    "#5 Создайте функцию для определения високосного года. Функция должна принимать на вход год в виде числа и возвращать строку \"високосный\" или \"обычный\"\n",
    "#6 Создайте функцию для определения типа треугольника по длинам сторон (принимает длины сторон, возвращает \"остроугольный, прямоугольный, тупоугольный или не треугольник\").\n",
    "#7 Создайте функцию для проверки, является ли строка палиндромом.\n",
    "#8 Создайте функцию, которая определяет, является ли введенное число простым.\n",
    "#9 Создайте функцию для проверки входящей строки на наличие только буквенных символов.\n",
    "#10 Создайте функцию, которая определяет, является ли введенная дата корректной (дата вводится в виде трех чисел, день, месяц, год. Корректной датой считается существующая комбинация этих трех чисел).\n",
    "#11 Создайте функцию, которая определяет, является ли введенное число палиндромом.\n",
    "#12 Создайте функцию для определения дня недели по введенному номеру дня (1 - Понедельник, 2 - Вторник и т.д.).\n",
    "#13 Создайте функцию print_fruits_info для вывода информации о количестве и стоимости фруктов из словарей.\n",
    "   #- Функция должна принимать словари с информацией \"фрукт:количество\" и \"фрукт:цена\" и выводить для каждого фрукта его стоимость и количество.\n",
    "#14 Создайте функцию print_squares_while, которая использует цикл while для вывода квадратов чисел от 1 до 5.\n",
    "#15 Создайте функцию для вывода факториала заданного числа.\n",
    "#16 Создайте функцию для поиска суммы чисел в заданном диапазоне (принимает на вход два числа, возвращает сумму чисел находящихся между ними, включительно.)\n",
    "#17 Создайте функцию для генерации и вывода всех простых чисел до заданного числа.\n",
    "#18 Создайте функцию для проверки строки на палиндромность без учёта регистра и знаков препинания.\n",
    "#19 Создайте функцию для поиска наибольшего общего делителя (НОД) двух чисел.\n",
    "#20 Создайте функцию print_students для вывода информации о студентах из словаря.\n",
    "   #- Функция должна принимать словарь студентов и выводить их имена и возраст.\n",
    "#21 Создайте функцию get_value_from_user, принимающую на вход одно число (\"порог\"), и запрашивающую у пользователя ввод числа до тех пор, пока он не введет число выше \"порога\"."
   ]
  },
  {
   "cell_type": "code",
   "execution_count": 39,
   "id": "9036c0e2-224f-4da2-8cea-c6a902840709",
   "metadata": {},
   "outputs": [
    {
     "name": "stdout",
     "output_type": "stream",
     "text": [
      "дорогой товар\n"
     ]
    }
   ],
   "source": [
    "#1 Создайте функцию check_fruit_price для проверки стоимости фрукта и вывода соответствующего сообщения.\n",
    "   #- Функция должна принимать словарь цен на фрукты и название фрукта, а затем выводить сообщение \"дорогой товар\", если цена фрукта больше 1.5.\n",
    "def check_fruit_price(fruits_prices, fruit_name):\n",
    "    if fruit_name in fruits_prices:\n",
    "        if fruits_prices[fruit_name] > 1.5:\n",
    "            print(\"дорогой товар\")\n",
    "        else:\n",
    "            print(\"цена нормальная\")\n",
    "    else:\n",
    "        print(\"фрукт не найден в списке цен\")\n",
    "\n",
    "# Пример использования функции\n",
    "fruits_prices = {\"яблоко\": 1.2, \"апельсин\": 1.8, \"банан\": 1.0}\n",
    "fruit_name = \"апельсин\"\n",
    "check_fruit_price(fruits_prices, fruit_name)"
   ]
  },
  {
   "cell_type": "code",
   "execution_count": 40,
   "id": "3c64b0e8-375b-4efc-bc9c-bb9ce800484c",
   "metadata": {},
   "outputs": [
    {
     "name": "stdout",
     "output_type": "stream",
     "text": [
      "Алексей совершеннолетний\n",
      "Мария несовершеннолетний\n",
      "Студент не найден в базе данных\n"
     ]
    }
   ],
   "source": [
    "#2 Создайте функцию check_age для проверки возраста студента и вывода соответствующего сообщения.\n",
    "   #- Функция должна принимать словарь студентов и имя студента, а затем выводить сообщение о совершеннолетии или несовершеннолетии.\n",
    "def check_age(students_dict, student_name):\n",
    "    age = students_dict.get(student_name)\n",
    "    if age is None:\n",
    "        print(\"Студент не найден в базе данных\")\n",
    "    elif age >= 18:\n",
    "        print(f\"{student_name} совершеннолетний\")\n",
    "    else:\n",
    "        print(f\"{student_name} несовершеннолетний\")\n",
    "\n",
    "# Пример использования функции\n",
    "students = {\n",
    "    \"Алексей\": 20,\n",
    "    \"Мария\": 17,\n",
    "    \"Иван\": 22\n",
    "}\n",
    "\n",
    "check_age(students, \"Алексей\")\n",
    "check_age(students, \"Мария\")\n",
    "check_age(students, \"Екатерина\")"
   ]
  },
  {
   "cell_type": "code",
   "execution_count": 41,
   "id": "2bfd5303-4fdd-44da-a032-112b01b1b786",
   "metadata": {},
   "outputs": [
    {
     "name": "stdout",
     "output_type": "stream",
     "text": [
      "Первое множество длиннее второго множества.\n"
     ]
    }
   ],
   "source": [
    "#3 Создайте функцию compare_sets_length, которая сравнивает длину двух множеств и выводит информацию о  том, какое из множеств длиннее.\n",
    "   #- Функция должна принимать два множества и выводить соответствующее сообщение.\n",
    "def compare_sets_length(set1, set2):\n",
    "    if len(set1) > len(set2):\n",
    "        print(\"Первое множество длиннее второго множества.\")\n",
    "    elif len(set1) < len(set2):\n",
    "        print(\"Второе множество длиннее первого множества.\")\n",
    "    else:\n",
    "        print(\"Оба множества имеют одинаковую длину.\")\n",
    "\n",
    "# Пример использования функции\n",
    "set1 = {1, 2, 3, 4, 5}\n",
    "set2 = {1, 2, 3}\n",
    "compare_sets_length(set1, set2)"
   ]
  },
  {
   "cell_type": "code",
   "execution_count": 47,
   "id": "0c8096b9-c4f8-455f-871a-0196b33b955a",
   "metadata": {},
   "outputs": [
    {
     "name": "stdout",
     "output_type": "stream",
     "text": [
      "Число 7 является нечетным\n"
     ]
    }
   ],
   "source": [
    "def check_even_odd(number):\n",
    "    if number % 2 == 0:\n",
    "        return \"Число {} является четным\".format(number)\n",
    "    else:\n",
    "        return \"Число {} является нечетным\".format(number)\n",
    "\n",
    "# Пример использования функции\n",
    "number = 7\n",
    "result = check_even_odd(number)\n",
    "print(result)"
   ]
  },
  {
   "cell_type": "code",
   "execution_count": 48,
   "id": "22ba89cd-757e-442c-b2e3-59c4e09c69cf",
   "metadata": {},
   "outputs": [
    {
     "name": "stdout",
     "output_type": "stream",
     "text": [
      "2024 год - високосный\n"
     ]
    }
   ],
   "source": [
    "#5 Создайте функцию для определения високосного года. Функция должна принимать на вход год в виде числа и возвращать строку \"високосный\" или \"обычный\"\n",
    "def is_leap_year(year):\n",
    "    if (year % 4 == 0 and year % 100 != 0) or (year % 400 == 0):\n",
    "        return \"високосный\"\n",
    "    else:\n",
    "        return \"обычный\"\n",
    "\n",
    "# Пример использования\n",
    "year = 2024\n",
    "result = is_leap_year(year)\n",
    "print(f\"{year} год - {result}\")"
   ]
  },
  {
   "cell_type": "code",
   "execution_count": 49,
   "id": "8d4095af-e052-48c9-9fa7-7912b849796a",
   "metadata": {},
   "outputs": [
    {
     "name": "stdout",
     "output_type": "stream",
     "text": [
      "прямоугольный\n"
     ]
    }
   ],
   "source": [
    "#6 Создайте функцию для определения типа треугольника по длинам сторон (принимает длины сторон, возвращает \"остроугольный, прямоугольный, тупоугольный или не треугольник\").\n",
    "def triangle_type(a, b, c):\n",
    "    if a + b <= c or a + c <= b or b + c <= a:\n",
    "        return \"не треугольник\"\n",
    "    elif a**2 + b**2 == c**2 or a**2 + c**2 == b**2 or b**2 + c**2 == a**2:\n",
    "        return \"прямоугольный\"\n",
    "    elif a**2 + b**2 < c**2 or a**2 + c**2 < b**2 or b**2 + c**2 < a**2:\n",
    "        return \"тупоугольный\"\n",
    "    else:\n",
    "        return \"остроугольный\"\n",
    "\n",
    "# Пример использования\n",
    "a = 3\n",
    "b = 4\n",
    "c = 5\n",
    "print(triangle_type(a, b, c))"
   ]
  },
  {
   "cell_type": "code",
   "execution_count": 50,
   "id": "09586dc2-5d71-4d04-92cb-4969db05f1b7",
   "metadata": {},
   "outputs": [
    {
     "name": "stdout",
     "output_type": "stream",
     "text": [
      "Строка является палиндромом\n"
     ]
    }
   ],
   "source": [
    "#7 Создайте функцию для проверки, является ли строка палиндромом.\n",
    "def is_palindrome(s):\n",
    "    s = s.lower().replace(\" \", \"\")  # Преобразуем строку в нижний регистр и удаляем пробелы\n",
    "    return s == s[::-1]  # Сравниваем строку с перевернутой строкой\n",
    "\n",
    "# Пример использования функции\n",
    "input_string = \"А роза упала на лапу Азора\"\n",
    "if is_palindrome(input_string):\n",
    "    print(\"Строка является палиндромом\")\n",
    "else:\n",
    "    print(\"Строка не является палиндромом\")"
   ]
  },
  {
   "cell_type": "code",
   "execution_count": 51,
   "id": "52248237-2863-4c44-90f7-cdff36177959",
   "metadata": {},
   "outputs": [
    {
     "name": "stdout",
     "output_type": "stream",
     "text": [
      "17 - простое число\n"
     ]
    }
   ],
   "source": [
    "#8 Создайте функцию, которая определяет, является ли введенное число простым.\n",
    "def is_prime(number):\n",
    "    if number < 2:\n",
    "        return False\n",
    "    for i in range(2, int(number ** 0.5) + 1):\n",
    "        if number % i == 0:\n",
    "            return False\n",
    "    return True\n",
    "\n",
    "# Пример использования функции\n",
    "num = 17\n",
    "if is_prime(num):\n",
    "    print(f\"{num} - простое число\")\n",
    "else:\n",
    "    print(f\"{num} - не является простым числом\")"
   ]
  },
  {
   "cell_type": "code",
   "execution_count": 1,
   "id": "fd0667db-7cba-4c47-ba58-154ce3a5009e",
   "metadata": {},
   "outputs": [
    {
     "name": "stdout",
     "output_type": "stream",
     "text": [
      "True\n",
      "False\n"
     ]
    }
   ],
   "source": [
    "#9 Создайте функцию для проверки входящей строки на наличие только буквенных символов.\n",
    "def check_letters_only(input_string):\n",
    "    return all(char.isalpha() for char in input_string)\n",
    "\n",
    "# Пример использования функции\n",
    "input_string1 = \"Hello\"\n",
    "input_string2 = \"12345\"\n",
    "print(check_letters_only(input_string1))  \n",
    "print(check_letters_only(input_string2))  "
   ]
  },
  {
   "cell_type": "code",
   "execution_count": 12,
   "id": "1bdb6884-d23d-40ab-890b-2b25f934102c",
   "metadata": {},
   "outputs": [
    {
     "name": "stdout",
     "output_type": "stream",
     "text": [
      "Дата корректна\n"
     ]
    }
   ],
   "source": [
    "#10 Создайте функцию, которая определяет, является ли введенная дата корректной (дата вводится в виде трех чисел, день, месяц, год. Корректной датой считается существующая комбинация этих трех чисел).\n",
    "def check_date(day, month, year):\n",
    "    # Проверяем корректность дня\n",
    "    if day < 1 or day > 31:\n",
    "        return False\n",
    "    \n",
    "    # Проверяем корректность месяца\n",
    "    if month < 1 or month > 12:\n",
    "        return False\n",
    "    \n",
    "    # Проверяем корректность года (можно добавить дополнительные условия)\n",
    "    if year < 1900 or year > 2100:\n",
    "        return False\n",
    "    \n",
    "    # Проверяем корректность комбинации дня и месяца\n",
    "    if month in [4, 6, 9, 11] and day > 30:\n",
    "        return False\n",
    "    elif month == 2:\n",
    "        if (year % 4 == 0 and year % 100 != 0) or year % 400 == 0:\n",
    "            if day > 29:\n",
    "                return False\n",
    "        else:\n",
    "            if day > 28:\n",
    "                return False\n",
    "    return True\n",
    "\n",
    "# Пример использования функции\n",
    "day = 31\n",
    "month = 12\n",
    "year = 2022\n",
    "\n",
    "if check_date(day, month, year):\n",
    "    print(\"Дата корректна\")\n",
    "else:\n",
    "    print(\"Дата некорректна\")"
   ]
  },
  {
   "cell_type": "code",
   "execution_count": 13,
   "id": "dbfd562c-8077-449c-9aa3-c5d7b6a54fcc",
   "metadata": {},
   "outputs": [
    {
     "name": "stdout",
     "output_type": "stream",
     "text": [
      "12321 является палиндромом.\n"
     ]
    }
   ],
   "source": [
    "#11 Создайте функцию, которая определяет, является ли введенное число палиндромом.\n",
    "def is_palindrome(number):\n",
    "    num_str = str(number)\n",
    "    return num_str == num_str[::-1]\n",
    "\n",
    "# Пример использования\n",
    "number = 12321\n",
    "if is_palindrome(number):\n",
    "    print(f\"{number} является палиндромом.\")\n",
    "else:\n",
    "    print(f\"{number} не является палиндромом.\")"
   ]
  },
  {
   "cell_type": "code",
   "execution_count": null,
   "id": "7cf53f19-fca0-46eb-bc02-f1cce5790739",
   "metadata": {},
   "outputs": [],
   "source": [
    "#12 Создайте функцию для определения дня недели по введенному номеру дня (1 - Понедельник, 2 - Вторник и т.д.).\n"
   ]
  },
  {
   "cell_type": "code",
   "execution_count": null,
   "id": "d08c9da5-b0ca-4e1d-93d3-4c0e91406430",
   "metadata": {},
   "outputs": [],
   "source": [
    "#13 Создайте функцию print_fruits_info для вывода информации о количестве и стоимости фруктов из словарей.\n",
    "   #- Функция должна принимать словари с информацией \"фрукт:количество\" и \"фрукт:цена\" и выводить для каждого фрукта его стоимость и количество.\n",
    "#14 Создайте функцию print_squares_while, которая использует цикл while для вывода квадратов чисел от 1 до 5."
   ]
  },
  {
   "cell_type": "code",
   "execution_count": null,
   "id": "ce3a4f23-1f8b-4813-b539-4d13657e6fd1",
   "metadata": {},
   "outputs": [],
   "source": [
    "#15 Создайте функцию для вывода факториала заданного числа."
   ]
  },
  {
   "cell_type": "code",
   "execution_count": null,
   "id": "0c466be9-c37d-4b37-918d-2d6da920eeee",
   "metadata": {},
   "outputs": [],
   "source": [
    "#16 Создайте функцию для поиска суммы чисел в заданном диапазоне (принимает на вход два числа, возвращает сумму чисел находящихся между ними, включительно.)"
   ]
  },
  {
   "cell_type": "code",
   "execution_count": null,
   "id": "07201204-e751-4a60-9de7-d855cf724d53",
   "metadata": {},
   "outputs": [],
   "source": [
    "#17 Создайте функцию для генерации и вывода всех простых чисел до заданного числа."
   ]
  },
  {
   "cell_type": "code",
   "execution_count": null,
   "id": "f80c716c-2855-4082-87f8-e8a2ee875f3a",
   "metadata": {},
   "outputs": [],
   "source": [
    "#18 Создайте функцию для проверки строки на палиндромность без учёта регистра и знаков препинания."
   ]
  },
  {
   "cell_type": "code",
   "execution_count": null,
   "id": "7451f696-8706-4c32-9577-ac1631e05b14",
   "metadata": {},
   "outputs": [],
   "source": []
  },
  {
   "cell_type": "code",
   "execution_count": null,
   "id": "58ca08ea-0393-4dc3-ab03-e93673918ff7",
   "metadata": {},
   "outputs": [],
   "source": [
    "Условия и цыклы\n",
    "\n",
    "Создайте функцию check_fruit_price для проверки стоимости фрукта и вывода соответствующего сообщения.\n",
    "   - Функция должна принимать словарь цен на фрукты и название фрукта, а затем выводить сообщение \"дорогой товар\", если цена фрукта больше 1.5.\n",
    "Создайте функцию check_age для проверки возраста студента и вывода соответствующего сообщения.\n",
    "   - Функция должна принимать словарь студентов и имя студента, а затем выводить сообщение о совершеннолетии или несовершеннолетии.\n",
    "Создайте функцию compare_sets_length, которая сравнивает длину двух множеств и выводит информацию о  том, какое из множеств длиннее.\n",
    "   - Функция должна принимать два множества и выводить соответствующее сообщение.\n",
    "Создайте функцию для определения четности или нечетности числа.\n",
    "Создайте функцию для определения високосного года. Функция должна принимать на вход год в виде числа и возвращать строку \"високосный\" или \"обычный\"\n",
    "Создайте функцию для определения типа треугольника по длинам сторон (принимает длины сторон, возвращает \"остроугольный, прямоугольный, тупоугольный или не треугольник\").\n",
    "Создайте функцию для проверки, является ли строка палиндромом.\n",
    "Создайте функцию для определения времени суток по введенному времени ( принимает текущее время в формате часы, минуты, возвращает утро, день, вечер, ночь).\n",
    "Создайте функцию, которая определяет, является ли введенное число простым.\n",
    "Создайте функцию для проверки входящей строки на наличие только буквенных символов.\n",
    "Создайте функцию, которая определяет, является ли введенная дата корректной (дата вводится в виде трех чисел, день, месяц, год. Корректной датой считается существующая комбинация этих трех чисел).\n",
    "Создайте функцию, которая определяет, является ли введенное число палиндромом.\n",
    "Создайте функцию для определения дня недели по введенному номеру дня (1 - Понедельник, 2 - Вторник и т.д.).\n",
    "Создайте функцию print_fruits_info для вывода информации о количестве и стоимости фруктов из словарей.\n",
    "   - Функция должна принимать словари с информацией \"фрукт:количество\" и \"фрукт:цена\" и выводить для каждого фрукта его стоимость и количество.\n",
    "Создайте функцию print_squares_while, которая использует цикл while для вывода квадратов чисел от 1 до 5.\n",
    "Создайте функцию для вывода факториала заданного числа.\n",
    "Создайте функцию для поиска суммы чисел в заданном диапазоне (принимает на вход два числа, возвращает сумму чисел находящихся между ними, включительно.)\n",
    "Создайте функцию для генерации и вывода всех простых чисел до заданного числа.\n",
    "Создайте функцию для проверки строки на палиндромность без учёта регистра и знаков препинания.\n",
    "Создайте функцию для поиска наибольшего общего делителя (НОД) двух чисел.\n",
    "Создайте функцию print_students для вывода информации о студентах из словаря.\n",
    "   - Функция должна принимать словарь студентов и выводить их имена и возраст.\n",
    "Создайте функцию get_value_from_user, принимающую на вход одно число (\"порог\"), и запрашивающую у пользователя ввод числа до тех пор, пока он не введет число выше \"порога\"."
   ]
  },
  {
   "cell_type": "code",
   "execution_count": null,
   "id": "04a8c574-c539-4bcd-b2ae-c6879169bdad",
   "metadata": {},
   "outputs": [],
   "source": []
  },
  {
   "cell_type": "code",
   "execution_count": null,
   "id": "c08fe00b-ce7e-4550-93a6-e3b2b5e44e7c",
   "metadata": {},
   "outputs": [],
   "source": []
  },
  {
   "cell_type": "code",
   "execution_count": null,
   "id": "107746d7-4c30-45c8-a826-d792ef96977b",
   "metadata": {},
   "outputs": [],
   "source": []
  },
  {
   "cell_type": "code",
   "execution_count": null,
   "id": "57af5ab7-2a35-4e37-96f8-02ecbf9bf632",
   "metadata": {},
   "outputs": [],
   "source": []
  },
  {
   "cell_type": "code",
   "execution_count": null,
   "id": "8f801ac8-9ae3-4e64-8cc7-ee8a972e17e7",
   "metadata": {},
   "outputs": [],
   "source": []
  }
 ],
 "metadata": {
  "kernelspec": {
   "display_name": "Python 3 (ipykernel)",
   "language": "python",
   "name": "python3"
  },
  "language_info": {
   "codemirror_mode": {
    "name": "ipython",
    "version": 3
   },
   "file_extension": ".py",
   "mimetype": "text/x-python",
   "name": "python",
   "nbconvert_exporter": "python",
   "pygments_lexer": "ipython3",
   "version": "3.10.10"
  }
 },
 "nbformat": 4,
 "nbformat_minor": 5
}
