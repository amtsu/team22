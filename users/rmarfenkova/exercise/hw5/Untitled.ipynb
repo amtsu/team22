{
 "cells": [
  {
   "cell_type": "raw",
   "id": "02365026-6e3c-4baf-afbc-8d4b89d199ea",
   "metadata": {},
   "source": [
    "Множества \n",
    "\n",
    "1 Создайте множество set1 из целых чисел: 1, 2, 3, 4, 5.\n",
    "2 Добавьте в это множество элемент 6.\n",
    "3 Удалите элемент 2 из множества.\n",
    "4 Проверьте, содержит ли множество элемент 3.\n",
    "5 Создайте второе множество set2 с элементами 4, 5, 6, 7, 8.\n",
    "6 Найдите объединение множеств set1 и set2.\n",
    "7 Найдите разность множеств set1 и set2.\n",
    "8 Создайте два множества set1 и set2, содержащие цвета радуги: \"красный\", \"оранжевый\", \"желтый\", \"зеленый\", \"голубой\", \"синий\", \"фиолетовый\" и  \"оранжевый\", \"зеленый\", \"голубой\", \"синий\", \"Мальвиновый\".\n",
    "9 Найдите пересечение множеств set1 и set2.\n",
    "10 Объедините множества set1 и set2 и сохраните результат в новое множество rainbow_colors."
   ]
  },
  {
   "cell_type": "code",
   "execution_count": 13,
   "id": "edef1ba1-1965-4fa8-97df-aa084e86f551",
   "metadata": {},
   "outputs": [
    {
     "data": {
      "text/plain": [
       "set"
      ]
     },
     "execution_count": 13,
     "metadata": {},
     "output_type": "execute_result"
    }
   ],
   "source": [
    "set1 = {1, 2, 3, 4, 5} #создаю множество\n",
    "type(set1) "
   ]
  },
  {
   "cell_type": "code",
   "execution_count": 14,
   "id": "df5887d2-3062-458d-9d85-0ada9e898766",
   "metadata": {},
   "outputs": [
    {
     "name": "stdout",
     "output_type": "stream",
     "text": [
      "{1, 2, 3, 4, 5, 6}\n"
     ]
    }
   ],
   "source": [
    "set1 .add(6) # добавляю эл-т 6 в конец множества\n",
    "print(set1)"
   ]
  },
  {
   "cell_type": "code",
   "execution_count": 15,
   "id": "b5081d6c-7fe8-4666-a2b2-5342c6630ed3",
   "metadata": {},
   "outputs": [
    {
     "name": "stdout",
     "output_type": "stream",
     "text": [
      "{1, 3, 4, 5, 6}\n"
     ]
    }
   ],
   "source": [
    "set1 .discard(2) #удаляю эл-т 2 из множества\n",
    "print(set1)"
   ]
  },
  {
   "cell_type": "code",
   "execution_count": 16,
   "id": "ec038f11-ad9c-4086-ba3d-a996a5b189df",
   "metadata": {},
   "outputs": [
    {
     "data": {
      "text/plain": [
       "True"
      ]
     },
     "execution_count": 16,
     "metadata": {},
     "output_type": "execute_result"
    }
   ],
   "source": [
    "х = 3      \n",
    "х in set1"
   ]
  },
  {
   "cell_type": "code",
   "execution_count": 17,
   "id": "7d97099e-1719-4dd8-a2b6-33acc1e21966",
   "metadata": {},
   "outputs": [
    {
     "data": {
      "text/plain": [
       "{1, 3, 4, 5, 6, 7, 8}"
      ]
     },
     "execution_count": 17,
     "metadata": {},
     "output_type": "execute_result"
    }
   ],
   "source": [
    "set2 = {4, 5, 6, 7, 8}\n",
    "set1 | set2   #объединение множеств"
   ]
  },
  {
   "cell_type": "code",
   "execution_count": 18,
   "id": "80b5e74a-895a-460c-a90f-08ef4e2ab879",
   "metadata": {},
   "outputs": [
    {
     "data": {
      "text/plain": [
       "{1, 3}"
      ]
     },
     "execution_count": 18,
     "metadata": {},
     "output_type": "execute_result"
    }
   ],
   "source": [
    "set1 - set2  #разность множеств"
   ]
  },
  {
   "cell_type": "code",
   "execution_count": 21,
   "id": "c03823b2-061b-4975-aefb-f7a85ec4eb6a",
   "metadata": {},
   "outputs": [
    {
     "data": {
      "text/plain": [
       "{'голубой', 'зеленый', 'оранжевый', 'синий'}"
      ]
     },
     "execution_count": 21,
     "metadata": {},
     "output_type": "execute_result"
    }
   ],
   "source": [
    "set1 = {\"красный\", \"оранжевый\", \"желтый\", \"зеленый\", \"голубой\", \"синий\", \"фиолетовый\"} \n",
    "set2 = {\"оранжевый\", \"зеленый\", \"голубой\", \"синий\", \"Мальвиновый\"}\n",
    "set1 & set2   #пересечение множеств"
   ]
  },
  {
   "cell_type": "code",
   "execution_count": 22,
   "id": "e1f748ff-7fec-472a-89bd-5e7d4e1a1bb3",
   "metadata": {},
   "outputs": [
    {
     "data": {
      "text/plain": [
       "{'Мальвиновый',\n",
       " 'голубой',\n",
       " 'желтый',\n",
       " 'зеленый',\n",
       " 'красный',\n",
       " 'оранжевый',\n",
       " 'синий',\n",
       " 'фиолетовый'}"
      ]
     },
     "execution_count": 22,
     "metadata": {},
     "output_type": "execute_result"
    }
   ],
   "source": [
    "set1 | set2"
   ]
  },
  {
   "cell_type": "raw",
   "id": "f9773eac-30a1-4de1-9520-7734250a524f",
   "metadata": {},
   "source": [
    "Словари\n",
    "\n",
    "1 Создайте словарь person с ключами \"name\", \"age\" и \"city\" с вашими данными.\n",
    "2 Добавьте в словарь новый ключ \"email\" со значением вашего электронного адреса.\n",
    "3 Удалите ключ \"city\" из словаря.\n",
    "4 Создайте словарь inventory с товарами \"яблоко\": 5, \"банан\": 10, \"апельсин\": 7.\n",
    "5 Увеличьте количество \"бананов\" в инвентаре на 3.\n",
    "6 Создайте новый словарь prices, где цена для каждого продукта задана {\"яблоко\": 1.5, \"банан\": 2, \"апельсин\": 1.2}.\n",
    "7 Создайте словарь students с данными о студентах {\"Иванов\": 22, \"Петрова\": 13, \"Сидоров\": 23}.\n",
    "8 Добавьте нового студента \"Смирнова\" возрастом 20 лет в словарь.\n",
    "9 Удалите студента \"Петрова\" из словаря."
   ]
  },
  {
   "cell_type": "code",
   "execution_count": 23,
   "id": "6e919028-3848-4216-a0aa-93b09b75cfeb",
   "metadata": {},
   "outputs": [
    {
     "name": "stdout",
     "output_type": "stream",
     "text": [
      "{'name': 'Regina', 'age': 35, 'city': 'Saint-Petersburg'}\n"
     ]
    },
    {
     "data": {
      "text/plain": [
       "dict"
      ]
     },
     "execution_count": 23,
     "metadata": {},
     "output_type": "execute_result"
    }
   ],
   "source": [
    "person = {\"name\": 'Regina', \"age\": 35, \"city\": 'Saint-Petersburg'} #создала словарь\n",
    "print(person)\n",
    "type(person)"
   ]
  },
  {
   "cell_type": "code",
   "execution_count": 24,
   "id": "2a4f5235-081a-4ae6-badb-07e5d19416ea",
   "metadata": {},
   "outputs": [
    {
     "name": "stdout",
     "output_type": "stream",
     "text": [
      "{'name': 'Regina', 'age': 35, 'city': 'Saint-Petersburg', 'email': 'hogo88@mail.ru'}\n"
     ]
    }
   ],
   "source": [
    "person [\"email\"] = 'hogo88@mail.ru'    #добавила новый ключ и значение\n",
    "print(person)"
   ]
  },
  {
   "cell_type": "code",
   "execution_count": 25,
   "id": "d80b0269-dd49-46de-b8cf-1633986cb18c",
   "metadata": {},
   "outputs": [
    {
     "name": "stdout",
     "output_type": "stream",
     "text": [
      "{'name': 'Regina', 'age': 35, 'email': 'hogo88@mail.ru'}\n"
     ]
    }
   ],
   "source": [
    "person .pop(\"city\") # удалила ключ из словаря\n",
    "print(person)"
   ]
  },
  {
   "cell_type": "code",
   "execution_count": 26,
   "id": "94462ba6-fc92-4824-82db-9976a69c9050",
   "metadata": {},
   "outputs": [
    {
     "name": "stdout",
     "output_type": "stream",
     "text": [
      "{'яблоко': 5, 'банан': 13, 'апельсин': 7}\n"
     ]
    }
   ],
   "source": [
    "inventory = {\"яблоко\": 5, \"банан\": 10, \"апельсин\": 7}\n",
    "inventory[\"банан\"] = 13    #присвоила банану новое значение\n",
    "print(inventory)"
   ]
  },
  {
   "cell_type": "code",
   "execution_count": 27,
   "id": "715d8019-fa97-4558-a8d3-18420519ad4f",
   "metadata": {},
   "outputs": [
    {
     "name": "stdout",
     "output_type": "stream",
     "text": [
      "{'яблоко': 1.5, 'банан': 2, 'апельсин': 1.2}\n"
     ]
    }
   ],
   "source": [
    "prices = {\"яблоко\": 1.5, \"банан\": 2, \"апельсин\": 1.2}\n",
    "print(prices)"
   ]
  },
  {
   "cell_type": "code",
   "execution_count": 28,
   "id": "9c8ec9e4-48b4-43e6-bddf-aac3c9c3abf2",
   "metadata": {},
   "outputs": [
    {
     "name": "stdout",
     "output_type": "stream",
     "text": [
      "{'Иванов': 22, 'Петрова': 21, 'Сидоров': 23, 'Смирнова': 20}\n"
     ]
    }
   ],
   "source": [
    "students = {\"Иванов\": 22, \"Петрова\": 21, \"Сидоров\": 23}\n",
    "students[\"Смирнова\"] = 20\n",
    "print(students)"
   ]
  },
  {
   "cell_type": "code",
   "execution_count": 29,
   "id": "1d981776-db8f-46bc-baf6-185e84ee4169",
   "metadata": {},
   "outputs": [
    {
     "name": "stdout",
     "output_type": "stream",
     "text": [
      "{'Иванов': 22, 'Сидоров': 23, 'Смирнова': 20}\n"
     ]
    }
   ],
   "source": [
    "students .pop('Петрова')    #удалила Петрова из словаря\n",
    "print(students)"
   ]
  },
  {
   "cell_type": "code",
   "execution_count": null,
   "id": "1b365561-eb07-4d07-af18-e8ec63e32563",
   "metadata": {},
   "outputs": [],
   "source": []
  }
 ],
 "metadata": {
  "kernelspec": {
   "display_name": "Python 3 (ipykernel)",
   "language": "python",
   "name": "python3"
  },
  "language_info": {
   "codemirror_mode": {
    "name": "ipython",
    "version": 3
   },
   "file_extension": ".py",
   "mimetype": "text/x-python",
   "name": "python",
   "nbconvert_exporter": "python",
   "pygments_lexer": "ipython3",
   "version": "3.10.10"
  }
 },
 "nbformat": 4,
 "nbformat_minor": 5
}
