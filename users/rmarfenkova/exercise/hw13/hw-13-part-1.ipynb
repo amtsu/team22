{
 "cells": [
  {
   "cell_type": "markdown",
   "id": "148a67cf-f3d5-4175-898e-a2201786ac66",
   "metadata": {},
   "source": [
    "# Расширте поведение классов. Сначала напишите тест, затем реализуйте метод."
   ]
  },
  {
   "cell_type": "markdown",
   "id": "9e4c8632-4906-41db-b476-383447ed2d7e",
   "metadata": {},
   "source": [
    "1. Расширьте класс автомобиль, добавив метод сохранения обекта автомобиль из памяти в фаил. Добавьте метод загрузки автомобиля их файла в пямять. Создайте тест который, загружает автомобиль с файла меняет скорость автомобиля и сохраняет автомобтиль с новой соростью в фаил."
   ]
  },
  {
   "cell_type": "code",
   "execution_count": 68,
   "id": "984ecd70-54a4-45b8-b5fc-b9df4a43b737",
   "metadata": {},
   "outputs": [],
   "source": [
    "import pickle\n",
    "\n",
    "class PickleHandler:\n",
    "    @staticmethod\n",
    "    def save_to_file(obj, filename):\n",
    "        \"\"\"Сохраняет объект в файл с помощью pickle.\"\"\"\n",
    "        with open(filename, 'wb') as file:\n",
    "            pickle.dump(obj, file)\n",
    "    \n",
    "    @staticmethod\n",
    "    def load_from_file(filename):\n",
    "        \"\"\"Загружает объект из файла с помощью pickle.\"\"\"\n",
    "        with open(filename, 'rb') as file:\n",
    "            return pickle.load(file)\n",
    "            \n",
    "class Car():\n",
    "    \"\"\"\n",
    "    1. Создайте класс Car, который представляет автомобиль.\n",
    "    У него должны быть атрибуты для хранения модели, года выпуска, цвета, количества дверей и текущей скорости.\n",
    "    Добавьте методы которые возвращают год, марку, цвет и текущую скорость автомобиля.\n",
    "    \n",
    "    2. Расширьте класс автомобиль, реализовав метод ускорения автомоиля на 5 км в час.\n",
    "    И метод   остановки автомобиля.\n",
    "    \n",
    "    3. Расширьте класс автомобиль, добавив метод сохранения обекта автомобиль из памяти в фаил.\n",
    "    Добавьте метод загрузки автомобиля их файла в пямять.\n",
    "    Создайте тест который, загружает автомобиль с файла меняет скорость автомобиля и сохраняет автомобтиль с новой соростью в фаил.\n",
    "    \"\"\"\n",
    "    \n",
    "    def __init__(self, model, year_of_issue, color, door, speed):\n",
    "        self.model = model\n",
    "        self.year_of_issue = year_of_issue\n",
    "        self.color = color \n",
    "        self.door = door \n",
    "        self.speed = speed\n",
    "        \n",
    "    def get_year_of_issue(self):\n",
    "        return self.year_of_issue\n",
    "\n",
    "    def get_model(self):\n",
    "        return self.model\n",
    "\n",
    "    def get_color(self):\n",
    "        return self.color\n",
    "\n",
    "    def get_speed(self):\n",
    "        return self.speed\n",
    "    \n",
    "    def accelerate(self):\n",
    "        \"\"\"ускорение автомобиля\"\"\"\n",
    "        self.speed += 5\n",
    "        \n",
    "    def stop(self):\n",
    "        \"\"\"остановка автомобиля\"\"\"\n",
    "        self.speed = 0\n",
    "        "
   ]
  },
  {
   "cell_type": "code",
   "execution_count": 69,
   "id": "312303b8-c97d-4d1f-9985-3eecf32145a6",
   "metadata": {},
   "outputs": [],
   "source": [
    "car = Car(\"Jeep\", 2000, \"black\", 4 , 0)\n",
    "#сохраняю в файл\n",
    "PickleHandler.save_to_file(car, \"car.pkl\")\n",
    "#выгружаю из файла\n",
    "loaded_car = PickleHandler.load_from_file(\"car.pkl\")\n",
    "#меняю скорость\n",
    "loaded_car.accelerate()\n",
    "#сохраняю объект с новой скоростью в файл\n",
    "PickleHandler.save_to_file(loaded_car, \"car.pkl\")\n",
    "update_loaded_car = PickleHandler.load_from_file(\"car.pkl\")\n",
    "assert update_loaded_car.get_speed() == 5"
   ]
  },
  {
   "cell_type": "markdown",
   "id": "9233d498-73bf-4893-9ad8-89a964a7b462",
   "metadata": {},
   "source": [
    "2. Расширьте класс Student, добавив методы сохранения и загрузки обекта студент из памяти в фаил и обратно. Создав тест который загружет студента из файла, добаляет новую оценку и сохраняет в фаил."
   ]
  },
  {
   "cell_type": "code",
   "execution_count": 70,
   "id": "95dc5183-21e9-46f2-9c67-58340b987b49",
   "metadata": {},
   "outputs": [],
   "source": [
    "class Student():\n",
    "    \"\"\"\n",
    "    1. Создайте класс Student, который представляет студент.\n",
    "    У него должны быть атрибуты для хранения имени, фамилии, возраста, адреса и список оценок.\n",
    "   \n",
    "    2. Расширьте класс Student, создав метод добавления новой оценки и метод вычисления среднего бала.\n",
    "    \n",
    "    3. Расширьте класс Student, добавив методы сохранения и загрузки обекта студент из памяти в фаил и обратно.\n",
    "    Создав тест который загружет студента из файла, добаляет новую оценку и сохраняет в фаил.\n",
    "    \"\"\"\n",
    "    \n",
    "    def  __init__(self, name: str, surname: str, age: int, address: str, list_estimates: list ):\n",
    "        self.name = name\n",
    "        self.surname = surname\n",
    "        self.age = age\n",
    "        self.address = address\n",
    "        self.list_estimates = list_estimates\n",
    "\n",
    "    def __str__(self):\n",
    "        return f\"{self.name} {self.surname} age:{self.age}\"\n",
    "\n",
    "    def add_estimates(self, value):\n",
    "        \"\"\" метод добавления оценки\"\"\"\n",
    "        self.list_estimates.append(value)\n",
    "\n",
    "    def gpa(self):\n",
    "        \"\"\" метод вычисления среднего балла\"\"\"\n",
    "        if not len(self.list_estimates) == 0:\n",
    "            gpa = sum(self.list_estimates) / len(self.list_estimates)\n",
    "            return round(gpa, 2)\n",
    "        else:\n",
    "            return \"Список пуст\"\n",
    "                      "
   ]
  },
  {
   "cell_type": "code",
   "execution_count": 71,
   "id": "9e0b69c7-6bc7-43e1-8826-c6084bc0cd3a",
   "metadata": {},
   "outputs": [],
   "source": [
    "student = Student(\"Ivan\", \"Ivanov\", 33, \"Smolnay_street\", [5, 5, 5, 5, 5])\n",
    "assert student.gpa() == 5\n",
    "#сохраняю в файл\n",
    "PickleHandler.save_to_file(student, \"Ivanov.pkl\")\n",
    "#выгружаю из файла\n",
    "loaded_student = PickleHandler.load_from_file(\"Ivanov.pkl\")\n",
    "#добавляю оценку\n",
    "loaded_student.add_estimates(2)\n",
    "PickleHandler.save_to_file(loaded_student, \"Ivanov.pkl\")\n",
    "update_loaded_student = PickleHandler.load_from_file(\"Ivanov.pkl\")\n",
    "assert update_loaded_student.gpa() == 4.5"
   ]
  },
  {
   "cell_type": "code",
   "execution_count": 72,
   "id": "ebe02ccb-363a-49b8-aeb9-e9e2f23b9061",
   "metadata": {},
   "outputs": [
    {
     "name": "stdout",
     "output_type": "stream",
     "text": [
      "{'name': 'Ivan', 'surname': 'Ivanov', 'age': 33, 'address': 'Smolnay_street', 'list_estimates': [5, 5, 5, 5, 5, 2]}\n"
     ]
    }
   ],
   "source": [
    "print(update_loaded_student.__dict__)"
   ]
  },
  {
   "cell_type": "markdown",
   "id": "f5be32ac-2052-407f-a9db-54f0f6d97077",
   "metadata": {},
   "source": [
    "3. Расширьте класс Shape для представления различных геометрических фигур сохранением и загрузкой из файла. Напишите тест который проходится по несколькьким фалйам, загружает из них фигуры и выводит их периметр и площадь."
   ]
  },
  {
   "cell_type": "code",
   "execution_count": 73,
   "id": "3afd14ed-e949-452d-9837-866a7c1d6fb2",
   "metadata": {},
   "outputs": [],
   "source": [
    "class Shape():\n",
    "    \"\"\"\n",
    "    1. Создайте класс Shape для представления различных геометрических фигур(круг, прямоугольник треугольник).\n",
    "    Реализуйте в нем методы вчисления площали и периметра.\n",
    "    \n",
    "    2. Изменить ранее написнаны классы геометрических фигур так чтобы они были наслдниками класса Shape.\n",
    "   \n",
    "    3. Расширьте класс Shape для представления различных геометрических фигур сохранением и загрузкой из файла.\n",
    "    Напишите тест который проходится по несколькьким фалйам, загружает из них фигуры и выводит их периметр и площадь.\n",
    "    \"\"\"\n",
    "    def __init__(self, shape_type: str):\n",
    "        self.shape_type = shape_type\n",
    "        \n",
    "    def area(self):\n",
    "        pass\n",
    "\n",
    "    def perimeter(self):\n",
    "        pass\n",
    "\n",
    "class Circle(Shape):\n",
    "    def __init__(self, radius: int):\n",
    "        super().__init__(\"круг\")   # позволяет инициализировать объекты во всех уровнях наследования.\n",
    "        self.radius = radius\n",
    "\n",
    "    def area(self):\n",
    "        \"\"\" метод вычисления площади круга\"\"\"\n",
    "        return 3.14 * self.radius ** 2\n",
    "\n",
    "    def perimeter(self):\n",
    "        \"\"\" метод вычисления периметра круга \"\"\"\n",
    "        return 2 * 3.14 * self.radius\n",
    "\n",
    "class Rectangle(Shape):\n",
    "    def __init__(self, width: int, height: int):\n",
    "        super().__init__(\"прямоугольник\")\n",
    "        self.width = width\n",
    "        self.height = height\n",
    "\n",
    "    def area(self):\n",
    "        \"\"\" метод вычисления площади прямоугольника\"\"\"\n",
    "        return self.width * self.height\n",
    "\n",
    "    def perimeter(self):\n",
    "        \"\"\"метод вычисления периметра прямоугольника\"\"\"\n",
    "        return 2 * (self.width + self.height)\n",
    "\n",
    "class Triangle(Shape):\n",
    "    def __init__(self, side1: int, side2: int, side3: int):\n",
    "        super().__init__(\"треугольник\")\n",
    "        self.side1 = side1\n",
    "        self.side2 = side2\n",
    "        self.side3 = side3\n",
    "\n",
    "    def area(self):\n",
    "        \"\"\" метод вычисления площади треугольника\"\"\"\n",
    "        s = (self.side1 + self.side2 + self.side3) / 2\n",
    "        return ((s * (s - self.side1) * (s - self.side2) * (s - self.side3))) ** 0.5\n",
    "\n",
    "    def perimeter(self):\n",
    "        \"\"\"метод вычисления периметра прямоугольника\"\"\"\n",
    "        return self.side1 + self.side2 + self.side3\n",
    "        "
   ]
  },
  {
   "cell_type": "code",
   "execution_count": 74,
   "id": "83604159-d483-4ee7-8dae-ec12dfe326ae",
   "metadata": {},
   "outputs": [],
   "source": [
    "# что то не придумать как тут assert применить, просто прошлась по файлам "
   ]
  },
  {
   "cell_type": "code",
   "execution_count": 75,
   "id": "40516aaa-8d3e-4e74-aa90-e0710fadc4ac",
   "metadata": {},
   "outputs": [
    {
     "name": "stdout",
     "output_type": "stream",
     "text": [
      "\n",
      "Тип фигуры: круг\n",
      "Площадь: 78.5\n",
      "Периметр: 31.400000000000002\n",
      "\n",
      "Тип фигуры: прямоугольник\n",
      "Площадь: 8\n",
      "Периметр: 12\n",
      "\n",
      "Тип фигуры: треугольник\n",
      "Площадь: 6.0\n",
      "Периметр: 12\n"
     ]
    }
   ],
   "source": [
    "circle = Circle(5)\n",
    "PickleHandler.save_to_file(circle, \"circle.pkl\")\n",
    "\n",
    "rectangle =  Rectangle(4, 2)\n",
    "PickleHandler.save_to_file(rectangle, \"rectangle.pkl\")\n",
    "\n",
    "triangle = Triangle(3, 4, 5)\n",
    "PickleHandler.save_to_file(triangle, \"triangle.pkl\")\n",
    "\n",
    "files = [\"circle.pkl\", \"rectangle.pkl\", \"triangle.pkl\"]\n",
    "for file in files:\n",
    "    shapes = PickleHandler.load_from_file(file)\n",
    "    print(f\"\\nТип фигуры: {shapes.shape_type}\")\n",
    "    print(f\"Площадь: {shapes.area()}\")\n",
    "    print(f\"Периметр: {shapes.perimeter()}\")"
   ]
  },
  {
   "cell_type": "markdown",
   "id": "d76150e4-e77d-45bd-9679-f9a5c224d7b7",
   "metadata": {},
   "source": [
    "4. Расширьте класс для учета студентов в учебном заведении, добавьте методы сохранения и загрузки. Напишите тест в котром в загружает из файла, потом отчисляет студента и записывает назад в фаил."
   ]
  },
  {
   "cell_type": "code",
   "execution_count": 79,
   "id": "76c97bef-59cd-48a6-9f6a-2b8fae5dca39",
   "metadata": {
    "editable": true,
    "slideshow": {
     "slide_type": ""
    },
    "tags": []
   },
   "outputs": [],
   "source": [
    "class University():\n",
    "    \"\"\"\n",
    "    1. Создайьте класс для учета студентов в учебном заведении.\n",
    "    Реализуйте методы добавления нового студента(указав имя, возраст, ...),\n",
    "    отчисление студента из учебного завдения и вывод списка всех студентов.\n",
    "\n",
    "    2. Расширьте класс для учета студентов в учебном заведении, добавьте методы сохранения и загрузки.\n",
    "    Напишите тест в котром в загружает из файла, потом отчисляет студента и записывает назад в фаил.\n",
    "    \"\"\"\n",
    "    def __init__(self):\n",
    "        self.students_list = []\n",
    "\n",
    "    def __str__(self):\n",
    "        students_str = \"\\n\".join(str(student) for student in self.students_list)\n",
    "        return f\"{students_str}\"\n",
    "\n",
    "    def add_student(self, student: Student):\n",
    "        \"\"\"метод добавления нового студента\"\"\"\n",
    "        self.students_list.append(student)\n",
    "        \n",
    "    def remove_student(self, surname):\n",
    "        \"\"\"метод удаления студента\"\"\"\n",
    "        for student in self.students_list:\n",
    "            if surname == student.surname:\n",
    "                self.students_list.remove(student)\n",
    "                break\n",
    "        else:\n",
    "            print(f\"Cтудент {surname} не найден.\")\n",
    "\n",
    "    def count_students(self):\n",
    "        \"\"\"метод подсчета студентов в уч. заведении\"\"\"\n",
    "        return len(self.students_list)\n",
    "        \n",
    "    def display_students(self):\n",
    "        \"\"\"вывод всех студентов\"\"\"\n",
    "        for student in self.students_list:\n",
    "            print(student)  "
   ]
  },
  {
   "cell_type": "code",
   "execution_count": 80,
   "id": "49ec027e-ef2b-431f-8c25-90981e588d56",
   "metadata": {},
   "outputs": [],
   "source": [
    "student1 = Student(\"Ivan\", \"Petrov\", 33, \"Smolnay_street\", [])\n",
    "student2 = Student(\"Stas\", \"Ivanov\", 25, \"Smolnay_street\", [])\n",
    "student3 = Student(\"Anna\", \"Kim\", 28, \"Smolnay_street\", [])\n",
    "\n",
    "university = University()\n",
    "university.add_student(student1)\n",
    "university.add_student(student2)\n",
    "university.add_student(student3)\n",
    "#сохраняю студентов в университете в файл\n",
    "PickleHandler.save_to_file(university, \"list_student.pkl\")\n",
    "load_university = PickleHandler.load_from_file(\"list_student.pkl\")\n",
    "#удаляю студента\n",
    "load_university.remove_student(\"Petrov\")\n",
    "PickleHandler.save_to_file(load_university, \"list_student.pkl\")\n",
    "updated_university = PickleHandler.load_from_file(\"list_student.pkl\")\n",
    "assert updated_university.count_students() == 2"
   ]
  },
  {
   "cell_type": "code",
   "execution_count": 81,
   "id": "ec4f1474-eaad-4857-92ea-dce192fb3325",
   "metadata": {},
   "outputs": [
    {
     "name": "stdout",
     "output_type": "stream",
     "text": [
      "Stas Ivanov age:25\n",
      "Anna Kim age:28\n"
     ]
    }
   ],
   "source": [
    "print(updated_university)"
   ]
  },
  {
   "cell_type": "code",
   "execution_count": null,
   "id": "c18153ae-41df-483a-9679-f58f31bea01f",
   "metadata": {},
   "outputs": [],
   "source": []
  },
  {
   "cell_type": "code",
   "execution_count": null,
   "id": "c82beb26-6f44-4cd4-a1a9-36b797c37399",
   "metadata": {},
   "outputs": [],
   "source": []
  }
 ],
 "metadata": {
  "kernelspec": {
   "display_name": "Python 3 (ipykernel)",
   "language": "python",
   "name": "python3"
  },
  "language_info": {
   "codemirror_mode": {
    "name": "ipython",
    "version": 3
   },
   "file_extension": ".py",
   "mimetype": "text/x-python",
   "name": "python",
   "nbconvert_exporter": "python",
   "pygments_lexer": "ipython3",
   "version": "3.10.10"
  }
 },
 "nbformat": 4,
 "nbformat_minor": 5
}
