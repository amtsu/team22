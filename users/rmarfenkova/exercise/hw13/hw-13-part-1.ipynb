{
 "cells": [
  {
   "cell_type": "markdown",
   "id": "148a67cf-f3d5-4175-898e-a2201786ac66",
   "metadata": {},
   "source": [
    "# Расширте поведение классов. Сначала напишите тест, затем реализуйте метод."
   ]
  },
  {
   "cell_type": "markdown",
   "id": "9e4c8632-4906-41db-b476-383447ed2d7e",
   "metadata": {},
   "source": [
    "1. Расширьте класс автомобиль, добавив метод сохранения обекта автомобиль из памяти в фаил. Добавьте метод загрузки автомобиля их файла в пямять. Создайте тест который, загружает автомобиль с файла меняет скорость автомобиля и сохраняет автомобтиль с новой соростью в фаил."
   ]
  },
  {
   "cell_type": "code",
   "execution_count": 254,
   "id": "984ecd70-54a4-45b8-b5fc-b9df4a43b737",
   "metadata": {},
   "outputs": [],
   "source": [
    "import pickle\n",
    "\n",
    "class Car():\n",
    "    \"\"\"\n",
    "    1. Создайте класс Car, который представляет автомобиль.\n",
    "    У него должны быть атрибуты для хранения модели, года выпуска, цвета, количества дверей и текущей скорости.\n",
    "    Добавьте методы которые возвращают год, марку, цвет и текущую скорость автомобиля.\n",
    "    \n",
    "    2. Расширьте класс автомобиль, реализовав метод ускорения автомоиля на 5 км в час.\n",
    "    И метод   остановки автомобиля.\n",
    "    \n",
    "    3. Расширьте класс автомобиль, добавив метод сохранения обекта автомобиль из памяти в фаил.\n",
    "    Добавьте метод загрузки автомобиля их файла в пямять.\n",
    "    Создайте тест который, загружает автомобиль с файла меняет скорость автомобиля и сохраняет автомобтиль с новой соростью в фаил.\n",
    "    \"\"\"\n",
    "    \n",
    "    def __init__(self, model, year_of_issue, color, door, speed):\n",
    "        self.model = model\n",
    "        self.year_of_issue = year_of_issue\n",
    "        self.color = color \n",
    "        self.door = door \n",
    "        self.speed = speed\n",
    "        \n",
    "    def get_year_of_issue(self):\n",
    "        return self.year_of_issue\n",
    "\n",
    "    def get_model(self):\n",
    "        return self.model\n",
    "\n",
    "    def get_color(self):\n",
    "        return self.color\n",
    "\n",
    "    def get_speed(self):\n",
    "        return self.speed\n",
    "    \n",
    "    def accelerate(self):\n",
    "        \"\"\"ускорение автомобиля\"\"\"\n",
    "        self.speed += 5\n",
    "        \n",
    "    def stop(self):\n",
    "        \"\"\"остановка автомобиля\"\"\"\n",
    "        self.speed = 0\n",
    "        \n",
    "    def save_to_file(self, file_name):\n",
    "        \"\"\"\n",
    "        сохраняем объект в файл с помощью сериализиции\n",
    "        (преобразования объекта в поток байтов)\n",
    "        \"\"\"\n",
    "        with open(file_name, 'wb') as f:\n",
    "            pickle.dump(self, f)\n",
    "            \n",
    "    \n",
    "    def load_from_file(self, file_name):\n",
    "        \"\"\"\n",
    "        загружаем объект автомобиля из файла с помощью десcириализации\n",
    "        (восстановление объекта их потока байтов)\n",
    "        \"\"\"\n",
    "        with open(file_name, 'rb') as f:\n",
    "            return pickle.load(f)\n",
    "\n"
   ]
  },
  {
   "cell_type": "code",
   "execution_count": 261,
   "id": "110d0dff-c113-4080-ac89-89ae09b19e03",
   "metadata": {},
   "outputs": [],
   "source": [
    "def test_car():\n",
    "    car = Car(\"Jeep\", 2000, \"black\", 4 , 0)\n",
    "    # Сохраняем объект автомобиля в файл\n",
    "    car.save_to_file(\"car_data.pkl\")\n",
    "    # Загружаем объект автомобиля из файла\n",
    "    loaded_car = car.load_from_file(\"car_data.pkl\")\n",
    "    # Проверяем, что объект успешно загружен\n",
    "    assert isinstance(loaded_car, Car)\n",
    "    # изменяем скорость автомобиля\n",
    "    loaded_car.accelerate()\n",
    "    loaded_car.save_to_file(\"updated_car_data.pkl\")\n",
    "    #Загружаем объект автомобиля из файла после изменения\n",
    "    updated_loaded_car = car.load_from_file(\"updated_car_data.pkl\")\n",
    "    # Проверяем, что скорость была изменена\n",
    "    assert updated_loaded_car.get_speed() == 5\n"
   ]
  },
  {
   "cell_type": "code",
   "execution_count": 262,
   "id": "03280793-bf73-4bab-9ee8-abf137dfa2c6",
   "metadata": {},
   "outputs": [],
   "source": [
    "test_car()"
   ]
  },
  {
   "cell_type": "code",
   "execution_count": 260,
   "id": "ad216661-e565-4929-9c00-0351f7b12da8",
   "metadata": {},
   "outputs": [
    {
     "name": "stdout",
     "output_type": "stream",
     "text": [
      "\n",
      "        загружаем объект автомобиля из файла с помощью десириализации\n",
      "        (восстановление объекта их потока байтов)\n",
      "        \n"
     ]
    }
   ],
   "source": [
    "car = Car(\"Jeep\", 2000, \"black\", 4 , 0)\n",
    "print(car.load_from_file.__doc__)"
   ]
  },
  {
   "cell_type": "code",
   "execution_count": 263,
   "id": "50488f95-a92e-4db0-a52e-773392a44708",
   "metadata": {},
   "outputs": [
    {
     "name": "stdout",
     "output_type": "stream",
     "text": [
      "<__main__.Car object at 0x7f965ace0430>\n"
     ]
    }
   ],
   "source": [
    "updated_loaded_car = car.load_from_file(\"updated_car_data.pkl\")\n",
    "print(updated_loaded_car)"
   ]
  },
  {
   "cell_type": "code",
   "execution_count": 266,
   "id": "f557431e-6c50-4118-9b84-1a5eff0dc4bf",
   "metadata": {},
   "outputs": [
    {
     "name": "stdout",
     "output_type": "stream",
     "text": [
      "model: Jeep\n",
      "year of Issue: 2000\n",
      "color: black\n",
      "speed: 5\n"
     ]
    }
   ],
   "source": [
    "print(\"model:\", updated_loaded_car.get_model())\n",
    "print(\"year of Issue:\", updated_loaded_car.get_year_of_issue())\n",
    "print(\"color:\", updated_loaded_car.get_color())\n",
    "print(\"speed:\", updated_loaded_car.get_speed())"
   ]
  },
  {
   "cell_type": "code",
   "execution_count": 265,
   "id": "5434ed36-aa9d-451d-84f0-f09cbdb60c73",
   "metadata": {},
   "outputs": [
    {
     "name": "stdout",
     "output_type": "stream",
     "text": [
      "{'model': 'Jeep', 'year_of_issue': 2000, 'color': 'black', 'door': 4, 'speed': 5}\n"
     ]
    }
   ],
   "source": [
    "print(updated_loaded_car.__dict__)"
   ]
  },
  {
   "cell_type": "markdown",
   "id": "9233d498-73bf-4893-9ad8-89a964a7b462",
   "metadata": {},
   "source": [
    "2. Расширьте класс Student, добавив методы сохранения и загрузки обекта студент из памяти в фаил и обратно. Создав тест который загружет студента из файла, добаляет новую оценку и сохраняет в фаил."
   ]
  },
  {
   "cell_type": "code",
   "execution_count": 268,
   "id": "95dc5183-21e9-46f2-9c67-58340b987b49",
   "metadata": {},
   "outputs": [],
   "source": [
    "import pickle\n",
    "\n",
    "class Student():\n",
    "    \"\"\"\n",
    "    1. Создайте класс Student, который представляет студент.\n",
    "    У него должны быть атрибуты для хранения имени, фамилии, возраста, адреса и список оценок.\n",
    "   \n",
    "    2. Расширьте класс Student, создав метод добавления новой оценки и метод вычисления среднего бала.\n",
    "    \n",
    "    3. Расширьте класс Student, добавив методы сохранения и загрузки обекта студент из памяти в фаил и обратно.\n",
    "    Создав тест который загружет студента из файла, добаляет новую оценку и сохраняет в фаил.\n",
    "    \"\"\"\n",
    "    \n",
    "    def  __init__(self, name: str, surname: str, age: int, address: str, list_estimates: list ):\n",
    "        self.name = name\n",
    "        self.surname = surname\n",
    "        self.age = age\n",
    "        self.address = address\n",
    "        self.list_estimates = list_estimates\n",
    "\n",
    "    def add_estimates(self, value):\n",
    "        \"\"\" метод добавления оценки\"\"\"\n",
    "        self.list_estimates.append(value)\n",
    "\n",
    "    def gpa(self):\n",
    "        \"\"\" метод вычисления среднего балла\"\"\"\n",
    "        if not len(self.list_estimates) == 0:\n",
    "            gpa = sum(self.list_estimates) / len(self.list_estimates)\n",
    "            return round(gpa, 2)\n",
    "        else:\n",
    "            return \"Список пуст\"\n",
    "\n",
    "    def save_to_file(self, file_name):\n",
    "        \"\"\"\n",
    "        сохраняем объект в файл с помощью сериализиции\n",
    "        (преобразования объекта в поток байтов)\n",
    "        \"\"\"\n",
    "        with open(file_name, \"wb\") as f:\n",
    "            pickle.dump(self, f)\n",
    "\n",
    "    @staticmethod\n",
    "    def load_from_file(file_name):\n",
    "        \"\"\"\n",
    "        загружаем объект автомобиля из файла с помощью десcириализации\n",
    "        (восстановление объекта их потока байтов)\n",
    "        \"\"\"\n",
    "        with open(file_name, \"rb\") as f:\n",
    "            return pickle.load(f)\n",
    "                      "
   ]
  },
  {
   "cell_type": "code",
   "execution_count": 269,
   "id": "b8f2accb-b3e2-4992-a616-04c801ece9db",
   "metadata": {},
   "outputs": [],
   "source": [
    "def test_student():\n",
    "    student = Student(\"Ivan\", \"Ivanov\", 33, \"Smolnay_street\", [5, 5, 5, 5, 5])\n",
    "    student.save_to_file(\"Ivanov2.pkl\")\n",
    "    loaded_student = Student.load_from_file(\"Ivanov2.pkl\")\n",
    "    assert isinstance(loaded_student, Student)\n",
    "    student.add_estimates(2)\n",
    "    student.save_to_file(\"new_Ivanov2.pkl\")\n",
    "    update_loaded_student = Student.load_from_file(\"new_Ivanov2.pkl\")\n",
    "    assert update_loaded_student.list_estimates == [5, 5, 5, 5, 5, 2] # переделать не обращаться к атрибутам напрямую\n",
    "test_student()"
   ]
  },
  {
   "cell_type": "code",
   "execution_count": 270,
   "id": "15997574-6653-4aa3-acfa-cf83409ed5bb",
   "metadata": {},
   "outputs": [
    {
     "data": {
      "text/plain": [
       "5.0"
      ]
     },
     "execution_count": 270,
     "metadata": {},
     "output_type": "execute_result"
    }
   ],
   "source": [
    "student = Student(\"Ivan\", \"Ivanov\", 33, \"Smolnay_street\", [5, 5, 5, 5, 5])\n",
    "student.gpa()\n"
   ]
  },
  {
   "cell_type": "code",
   "execution_count": 271,
   "id": "a3e2c91e-462e-4ba9-ae2c-5cdac9271af9",
   "metadata": {},
   "outputs": [
    {
     "data": {
      "text/plain": [
       "4.5"
      ]
     },
     "execution_count": 271,
     "metadata": {},
     "output_type": "execute_result"
    }
   ],
   "source": [
    "student2 = Student(\"Ivan\", \"Smirnov\", 33, \"Smolnay_street\", [5, 5, 5, 5, 5, 2])\n",
    "student2.gpa()"
   ]
  },
  {
   "cell_type": "code",
   "execution_count": 272,
   "id": "9e0b69c7-6bc7-43e1-8826-c6084bc0cd3a",
   "metadata": {},
   "outputs": [],
   "source": [
    "student = Student(\"Ivan\", \"Ivanov\", 33, \"Smolnay_street\", [5, 5, 5, 5, 5])\n",
    "student.save_to_file(\"Ivanov.pkl\")\n",
    "loaded_student = Student.load_from_file(\"Ivanov.pkl\")\n",
    "assert isinstance(loaded_student, Student)\n",
    "student.add_estimates(2)\n",
    "student.save_to_file(\"Ivanov.pkl\")\n",
    "update_loaded_student = Student.load_from_file(\"Ivanov.pkl\")\n",
    "assert update_loaded_student.gpa() == 4.5"
   ]
  },
  {
   "cell_type": "code",
   "execution_count": 273,
   "id": "ebe02ccb-363a-49b8-aeb9-e9e2f23b9061",
   "metadata": {},
   "outputs": [
    {
     "name": "stdout",
     "output_type": "stream",
     "text": [
      "{'name': 'Ivan', 'surname': 'Ivanov', 'age': 33, 'address': 'Smolnay_street', 'list_estimates': [5, 5, 5, 5, 5, 2]}\n"
     ]
    }
   ],
   "source": [
    "print(update_loaded_student.__dict__)"
   ]
  },
  {
   "cell_type": "markdown",
   "id": "f5be32ac-2052-407f-a9db-54f0f6d97077",
   "metadata": {},
   "source": [
    "3. Расширьте класс Shape для представления различных геометрических фигур сохранением и загрузкой из файла. Напишите тест который проходится по несколькьким фалйам, загружает из них фигуры и выводит их периметр и площадь."
   ]
  },
  {
   "cell_type": "code",
   "execution_count": 276,
   "id": "3afd14ed-e949-452d-9837-866a7c1d6fb2",
   "metadata": {},
   "outputs": [],
   "source": [
    "import pickle\n",
    "\n",
    "class Shape():\n",
    "    \"\"\"\n",
    "    1. Создайте класс Shape для представления различных геометрических фигур(круг, прямоугольник треугольник).\n",
    "    Реализуйте в нем методы вчисления площали и периметра.\n",
    "    \n",
    "    2. Изменить ранее написнаны классы геометрических фигур так чтобы они были наслдниками класса Shape.\n",
    "   \n",
    "    3. Расширьте класс Shape для представления различных геометрических фигур сохранением и загрузкой из файла.\n",
    "    Напишите тест который проходится по несколькьким фалйам, загружает из них фигуры и выводит их периметр и площадь.\n",
    "    \"\"\"\n",
    "    \n",
    "    def __init__(self, shape_type: str):\n",
    "        self.shape_type = shape_type\n",
    "        \n",
    "    def area(self):\n",
    "        pass\n",
    "\n",
    "    def perimeter(self):\n",
    "        pass\n",
    "\n",
    "    def save_to_file(self, file_name):\n",
    "        \"\"\"\n",
    "        сохраняем объект в файл с помощью сериализиции\n",
    "        (преобразования объекта в поток байтов)\n",
    "        \"\"\"\n",
    "        with open(file_name, \"wb\") as f:\n",
    "            pickle.dump(self, f)\n",
    "            \n",
    "    # classmethod получает первы аргументом класс, может вызываться напрямую от класса,\n",
    "    # в отличие от @staticmethod имеет доступ к аргументам класса и его экземплярам \n",
    "    @classmethod \n",
    "    def load_from_file(cls, file_name):\n",
    "        \"\"\"\n",
    "        загружаем объект автомобиля из файла с помощью десcириализации\n",
    "        (восстановление объекта их потока байтов)\n",
    "        \"\"\"\n",
    "        with open(file_name, \"rb\") as f:\n",
    "            return pickle.load(f)\n",
    "            \n",
    "\n",
    "class Circle(Shape):\n",
    "    \n",
    "    def __init__(self, radius: int):\n",
    "        super().__init__(\"круг\")   # позволяет инициализировать объекты во всех уровнях наследования.\n",
    "        self.radius = radius\n",
    "\n",
    "    def area(self):\n",
    "        \"\"\" метод вычисления площади круга\"\"\"\n",
    "        return 3.14 * self.radius ** 2\n",
    "\n",
    "    def perimeter(self):\n",
    "        \"\"\" метод вычисления периметра круга \"\"\"\n",
    "        return 2 * 3.14 * self.radius\n",
    "\n",
    "class Rectangle(Shape):\n",
    "\n",
    "    def __init__(self, width: int, height: int):\n",
    "        super().__init__(\"прямоугольник\")\n",
    "        self.width = width\n",
    "        self.height = height\n",
    "\n",
    "    def area(self):\n",
    "        \"\"\" метод вычисления площади прямоугольника\"\"\"\n",
    "        return self.width * self.height\n",
    "\n",
    "    def perimeter(self):\n",
    "        \"\"\"метод вычисления периметра прямоугольника\"\"\"\n",
    "        return 2 * (self.width + self.height)\n",
    "\n",
    "class Triangle(Shape):\n",
    "    \n",
    "    def __init__(self, side1: int, side2: int, side3: int):\n",
    "        super().__init__(\"треугольник\")\n",
    "        self.side1 = side1\n",
    "        self.side2 = side2\n",
    "        self.side3 = side3\n",
    "\n",
    "    def area(self):\n",
    "        \"\"\" метод вычисления площади треугольника\"\"\"\n",
    "        s = (self.side1 + self.side2 + self.side3) / 2\n",
    "        return ((s * (s - self.side1) * (s - self.side2) * (s - self.side3))) ** 0.5\n",
    "\n",
    "    def perimeter(self):\n",
    "        \"\"\"метод вычисления периметра прямоугольника\"\"\"\n",
    "        return self.side1 + self.side2 + self.side3\n",
    "        "
   ]
  },
  {
   "cell_type": "code",
   "execution_count": 277,
   "id": "83604159-d483-4ee7-8dae-ec12dfe326ae",
   "metadata": {},
   "outputs": [],
   "source": [
    "# что то не придумать как тут assert применить, просто прошлась по файлам "
   ]
  },
  {
   "cell_type": "code",
   "execution_count": 278,
   "id": "40516aaa-8d3e-4e74-aa90-e0710fadc4ac",
   "metadata": {},
   "outputs": [
    {
     "name": "stdout",
     "output_type": "stream",
     "text": [
      "\n",
      "Тип фигуры: круг\n",
      "Площадь: 78.5\n",
      "Периметр: 31.400000000000002\n",
      "\n",
      "Тип фигуры: прямоугольник\n",
      "Площадь: 8\n",
      "Периметр: 12\n",
      "\n",
      "Тип фигуры: треугольник\n",
      "Площадь: 6.0\n",
      "Периметр: 12\n"
     ]
    }
   ],
   "source": [
    "circle = Circle(5)\n",
    "circle.save_to_file(\"circle.pkl\")\n",
    "\n",
    "rectangle =  Rectangle(4, 2)\n",
    "rectangle.save_to_file(\"rectangle.pkl\")\n",
    "\n",
    "triangle = Triangle(3, 4, 5)\n",
    "triangle.save_to_file(\"triangle.pkl\")\n",
    "\n",
    "files = [\"circle.pkl\", \"rectangle.pkl\", \"triangle.pkl\"]\n",
    "for file in files:\n",
    "    shapes = Shape.load_from_file(file)\n",
    "    print(f\"\\nТип фигуры: {shapes.shape_type}\")\n",
    "    print(f\"Площадь: {shapes.area()}\")\n",
    "    print(f\"Периметр: {shapes.perimeter()}\")"
   ]
  },
  {
   "cell_type": "code",
   "execution_count": 282,
   "id": "ff620f90-d37d-469e-b95d-bff453248eea",
   "metadata": {},
   "outputs": [
    {
     "name": "stdout",
     "output_type": "stream",
     "text": [
      "{'shape_type': 'круг', 'radius': 5}\n"
     ]
    }
   ],
   "source": [
    "shapes = Shape.load_from_file(\"circle.pkl\")\n",
    "print(shapes.__dict__)"
   ]
  },
  {
   "cell_type": "code",
   "execution_count": 283,
   "id": "2fd38905-0ae4-4164-a89b-9fc01dae262b",
   "metadata": {},
   "outputs": [
    {
     "name": "stdout",
     "output_type": "stream",
     "text": [
      "{'shape_type': 'прямоугольник', 'width': 4, 'height': 2}\n"
     ]
    }
   ],
   "source": [
    "shapes = Shape.load_from_file(\"rectangle.pkl\")\n",
    "print(shapes.__dict__)"
   ]
  },
  {
   "cell_type": "code",
   "execution_count": 284,
   "id": "209cacf7-d8ce-4295-b625-b19cf72697dd",
   "metadata": {},
   "outputs": [
    {
     "name": "stdout",
     "output_type": "stream",
     "text": [
      "{'shape_type': 'треугольник', 'side1': 3, 'side2': 4, 'side3': 5}\n"
     ]
    }
   ],
   "source": [
    "shapes = Shape.load_from_file(\"triangle.pkl\")\n",
    "print(shapes.__dict__)"
   ]
  },
  {
   "cell_type": "code",
   "execution_count": null,
   "id": "9e024aba-7c1c-431a-993c-7919e2b8aa24",
   "metadata": {},
   "outputs": [],
   "source": [
    "# можно записать их в один файл \"all_shepes.pkl\""
   ]
  },
  {
   "cell_type": "code",
   "execution_count": 288,
   "id": "4ddf4a9c-11dd-485d-8847-4675616a1275",
   "metadata": {},
   "outputs": [],
   "source": [
    "circle = Circle(5)\n",
    "rectangle = Rectangle(4, 2)\n",
    "triangle = Triangle(3, 4, 5)\n",
    "\n",
    "# Создаем список для хранения объектов\n",
    "shapes2 = [circle, rectangle, triangle]\n",
    "\n",
    "# Сохраняем список объектов в один файл\n",
    "Shape.save_to_file(shapes2, \"all_shepes.pkl\")"
   ]
  },
  {
   "cell_type": "code",
   "execution_count": 291,
   "id": "e846ea72-7ee8-4bc6-b9a6-5b1e024dbe60",
   "metadata": {},
   "outputs": [
    {
     "ename": "FileNotFoundError",
     "evalue": "[Errno 2] No such file or directory: 'all_shapes.pkl'",
     "output_type": "error",
     "traceback": [
      "\u001b[0;31m---------------------------------------------------------------------------\u001b[0m",
      "\u001b[0;31mFileNotFoundError\u001b[0m                         Traceback (most recent call last)",
      "Cell \u001b[0;32mIn[291], line 1\u001b[0m\n\u001b[0;32m----> 1\u001b[0m load_shepes \u001b[38;5;241m=\u001b[39m \u001b[43mShape\u001b[49m\u001b[38;5;241;43m.\u001b[39;49m\u001b[43mload_from_file\u001b[49m\u001b[43m(\u001b[49m\u001b[38;5;124;43m\"\u001b[39;49m\u001b[38;5;124;43mall_shapes.pkl\u001b[39;49m\u001b[38;5;124;43m\"\u001b[39;49m\u001b[43m)\u001b[49m\n\u001b[1;32m      2\u001b[0m \u001b[38;5;66;03m# for shape in load_shepes:\u001b[39;00m\n\u001b[1;32m      3\u001b[0m \u001b[38;5;66;03m#     print(shape)\u001b[39;00m\n\u001b[1;32m      4\u001b[0m \u001b[38;5;28mprint\u001b[39m(load_shepes\u001b[38;5;241m.\u001b[39m\u001b[38;5;18m__dict__\u001b[39m)\n",
      "Cell \u001b[0;32mIn[276], line 39\u001b[0m, in \u001b[0;36mShape.load_from_file\u001b[0;34m(cls, file_name)\u001b[0m\n\u001b[1;32m     33\u001b[0m \u001b[38;5;129m@classmethod\u001b[39m \n\u001b[1;32m     34\u001b[0m \u001b[38;5;28;01mdef\u001b[39;00m \u001b[38;5;21mload_from_file\u001b[39m(\u001b[38;5;28mcls\u001b[39m, file_name):\n\u001b[1;32m     35\u001b[0m \u001b[38;5;250m    \u001b[39m\u001b[38;5;124;03m\"\"\"\u001b[39;00m\n\u001b[1;32m     36\u001b[0m \u001b[38;5;124;03m    загружаем объект автомобиля из файла с помощью десcириализации\u001b[39;00m\n\u001b[1;32m     37\u001b[0m \u001b[38;5;124;03m    (восстановление объекта их потока байтов)\u001b[39;00m\n\u001b[1;32m     38\u001b[0m \u001b[38;5;124;03m    \"\"\"\u001b[39;00m\n\u001b[0;32m---> 39\u001b[0m     \u001b[38;5;28;01mwith\u001b[39;00m \u001b[38;5;28;43mopen\u001b[39;49m\u001b[43m(\u001b[49m\u001b[43mfile_name\u001b[49m\u001b[43m,\u001b[49m\u001b[43m \u001b[49m\u001b[38;5;124;43m\"\u001b[39;49m\u001b[38;5;124;43mrb\u001b[39;49m\u001b[38;5;124;43m\"\u001b[39;49m\u001b[43m)\u001b[49m \u001b[38;5;28;01mas\u001b[39;00m f:\n\u001b[1;32m     40\u001b[0m         \u001b[38;5;28;01mreturn\u001b[39;00m pickle\u001b[38;5;241m.\u001b[39mload(f)\n",
      "File \u001b[0;32m/opt/tljh/user/lib/python3.10/site-packages/IPython/core/interactiveshell.py:310\u001b[0m, in \u001b[0;36m_modified_open\u001b[0;34m(file, *args, **kwargs)\u001b[0m\n\u001b[1;32m    303\u001b[0m \u001b[38;5;28;01mif\u001b[39;00m file \u001b[38;5;129;01min\u001b[39;00m {\u001b[38;5;241m0\u001b[39m, \u001b[38;5;241m1\u001b[39m, \u001b[38;5;241m2\u001b[39m}:\n\u001b[1;32m    304\u001b[0m     \u001b[38;5;28;01mraise\u001b[39;00m \u001b[38;5;167;01mValueError\u001b[39;00m(\n\u001b[1;32m    305\u001b[0m         \u001b[38;5;124mf\u001b[39m\u001b[38;5;124m\"\u001b[39m\u001b[38;5;124mIPython won\u001b[39m\u001b[38;5;124m'\u001b[39m\u001b[38;5;124mt let you open fd=\u001b[39m\u001b[38;5;132;01m{\u001b[39;00mfile\u001b[38;5;132;01m}\u001b[39;00m\u001b[38;5;124m by default \u001b[39m\u001b[38;5;124m\"\u001b[39m\n\u001b[1;32m    306\u001b[0m         \u001b[38;5;124m\"\u001b[39m\u001b[38;5;124mas it is likely to crash IPython. If you know what you are doing, \u001b[39m\u001b[38;5;124m\"\u001b[39m\n\u001b[1;32m    307\u001b[0m         \u001b[38;5;124m\"\u001b[39m\u001b[38;5;124myou can use builtins\u001b[39m\u001b[38;5;124m'\u001b[39m\u001b[38;5;124m open.\u001b[39m\u001b[38;5;124m\"\u001b[39m\n\u001b[1;32m    308\u001b[0m     )\n\u001b[0;32m--> 310\u001b[0m \u001b[38;5;28;01mreturn\u001b[39;00m \u001b[43mio_open\u001b[49m\u001b[43m(\u001b[49m\u001b[43mfile\u001b[49m\u001b[43m,\u001b[49m\u001b[43m \u001b[49m\u001b[38;5;241;43m*\u001b[39;49m\u001b[43margs\u001b[49m\u001b[43m,\u001b[49m\u001b[43m \u001b[49m\u001b[38;5;241;43m*\u001b[39;49m\u001b[38;5;241;43m*\u001b[39;49m\u001b[43mkwargs\u001b[49m\u001b[43m)\u001b[49m\n",
      "\u001b[0;31mFileNotFoundError\u001b[0m: [Errno 2] No such file or directory: 'all_shapes.pkl'"
     ]
    }
   ],
   "source": [
    "load_shepes = Shape.load_from_file(\"all_shapes.pkl\")\n",
    "# for shape in load_shepes:\n",
    "#     print(shape)\n",
    "print(load_shepes.__dict__)\n",
    "#запуталась"
   ]
  },
  {
   "cell_type": "code",
   "execution_count": null,
   "id": "317b9ce8-a549-4bc6-b335-f714c93db608",
   "metadata": {},
   "outputs": [],
   "source": []
  },
  {
   "cell_type": "markdown",
   "id": "d76150e4-e77d-45bd-9679-f9a5c224d7b7",
   "metadata": {},
   "source": [
    "4. Расширьте класс для учета студентов в учебном заведении, добавьте методы сохранения и загрузки. Напишите тест в котром в загружает из файла, потом отчисляет студента и записывает назад в фаил."
   ]
  },
  {
   "cell_type": "code",
   "execution_count": 370,
   "id": "76c97bef-59cd-48a6-9f6a-2b8fae5dca39",
   "metadata": {
    "editable": true,
    "slideshow": {
     "slide_type": ""
    },
    "tags": []
   },
   "outputs": [],
   "source": [
    "import pickle\n",
    "class Student():\n",
    "    \"\"\"\n",
    "    1. Создайте класс Student, который представляет студент.\n",
    "    У него должны быть атрибуты для хранения имени, фамилии, возраста, адреса и список оценок.\n",
    "    \n",
    "    2. Расширьте класс Student, создав метод добавления новой оценки и метод вычисления среднего бала.\n",
    "    \"\"\"\n",
    "    \n",
    "    def  __init__(self, name: str, surname: str, age: int, address: str, list_estimates: list):\n",
    "        self.name = name\n",
    "        self.surname = surname\n",
    "        self.age = age\n",
    "        self.address = address\n",
    "        self.list_estimates = list_estimates\n",
    "\n",
    "    def __str__(self):\n",
    "        return f\"{self.name}  {self.surname}  age: {self.age} \"\n",
    "\n",
    "    def add_estimates(self, value):\n",
    "        \"\"\" метод добавления оценки\"\"\"\n",
    "        self.list_estimates.append(value)\n",
    "\n",
    "    def gpa(self):\n",
    "        \"\"\" метод вычисления среднего балла\"\"\"\n",
    "        if not len(self.list_estimates) == 0:\n",
    "            gpa = sum(self.list_estimates) / len(self.list_estimates)\n",
    "            return round(gpa, 2)\n",
    "        else:\n",
    "            return \"Список пуст\"\n",
    "            \n",
    "\n",
    "class University():\n",
    "    \"\"\"\n",
    "    1. Создайьте класс для учета студентов в учебном заведении.\n",
    "    Реализуйте методы добавления нового студента(указав имя, возраст, ...),\n",
    "    отчисление студента из учебного завдения и вывод списка всех студентов.\n",
    "\n",
    "    2. Расширьте класс для учета студентов в учебном заведении, добавьте методы сохранения и загрузки.\n",
    "    Напишите тест в котром в загружает из файла, потом отчисляет студента и записывает назад в фаил.\n",
    "    \"\"\"\n",
    "    def __init__(self):\n",
    "        self.students_list = []\n",
    "\n",
    "    def __str__(self):\n",
    "        students_str = \"\\n\".join(str(student) for student in self.students_list)\n",
    "        return f\"{students_str}\"\n",
    "\n",
    "    def add_student(self, student: Student):\n",
    "        \"\"\"метод добавления нового студента\"\"\"\n",
    "        self.students_list.append(student)\n",
    "        \n",
    "    def remove_student(self, surname):\n",
    "        \"\"\"метод удаления студента\"\"\"\n",
    "        for student in self.students_list:\n",
    "            if surname == student.surname:\n",
    "                self.students_list.remove(student)\n",
    "                break\n",
    "        else:\n",
    "            print(f\"Cтудент {surname} не найден.\")\n",
    "\n",
    "    def count_students(self):\n",
    "        \"\"\"метод подсчета студентов в уч. заведении\"\"\"\n",
    "        return len(self.students_list)\n",
    "        \n",
    "    def display_students(self):\n",
    "        \"\"\"вывод всех студентов\"\"\"\n",
    "        for student in self.students_list:\n",
    "            print(student)\n",
    "\n",
    "    def save_to_file(self, file_name):\n",
    "        \"\"\"\n",
    "        сохраняем объект в файл с помощью сериализиции\n",
    "        (преобразования объекта в поток байтов)\n",
    "        \"\"\"\n",
    "        with open(file_name, \"wb\") as f:\n",
    "            pickle.dump(self, f)\n",
    "            \n",
    "    \n",
    "    def load_from_file(sels, file_name):\n",
    "        \"\"\"\n",
    "        загружаем объект автомобиля из файла с помощью дессириализации\n",
    "        (восстановление объекта их потока байтов)\n",
    "        \"\"\"\n",
    "        with open(file_name, \"rb\") as f:\n",
    "            return pickle.load(f)\n",
    "            "
   ]
  },
  {
   "cell_type": "code",
   "execution_count": 371,
   "id": "63008aa5-2153-4490-9e81-fa50bb4066af",
   "metadata": {},
   "outputs": [],
   "source": [
    "student1 = Student(\"Ivan\", \"Petrov\", 33, \"Smolnay_street\", [])\n",
    "student2 = Student(\"Stas\", \"Ivanov\", 25, \"Smolnay_street\", [])\n",
    "student3 = Student(\"Anna\", \"Kim\", 28, \"Smolnay_street\", [])"
   ]
  },
  {
   "cell_type": "code",
   "execution_count": 372,
   "id": "d0c2788f-da28-424f-95ba-6f54abc12d76",
   "metadata": {},
   "outputs": [
    {
     "data": {
      "text/plain": [
       "3"
      ]
     },
     "execution_count": 372,
     "metadata": {},
     "output_type": "execute_result"
    }
   ],
   "source": [
    "university = University()\n",
    "university.add_student(student1)\n",
    "university.add_student(student2)\n",
    "university.add_student(student3)\n",
    "university.count_students()"
   ]
  },
  {
   "cell_type": "code",
   "execution_count": 373,
   "id": "49ec027e-ef2b-431f-8c25-90981e588d56",
   "metadata": {},
   "outputs": [],
   "source": [
    "university.save_to_file(\"list_student.pkl\")\n",
    "load_university = university.load_from_file(\"list_student.pkl\")\n",
    "assert isinstance(load_university, University)\n",
    "#удаляю студента\n",
    "load_university.remove_student(\"Petrov\")\n",
    "load_university.save_to_file(\"update_student.pkl\")\n",
    "updated_university = university.load_from_file(\"update_student.pkl\")\n",
    "assert updated_university.count_students() == 2"
   ]
  },
  {
   "cell_type": "code",
   "execution_count": 378,
   "id": "35d96f1b-878a-457f-a57c-791aa37bfd23",
   "metadata": {},
   "outputs": [
    {
     "ename": "TypeError",
     "evalue": "'University' object is not iterable",
     "output_type": "error",
     "traceback": [
      "\u001b[0;31m---------------------------------------------------------------------------\u001b[0m",
      "\u001b[0;31mTypeError\u001b[0m                                 Traceback (most recent call last)",
      "Cell \u001b[0;32mIn[378], line 1\u001b[0m\n\u001b[0;32m----> 1\u001b[0m \u001b[38;5;28;01mfor\u001b[39;00m student \u001b[38;5;129;01min\u001b[39;00m updated_university:\n\u001b[1;32m      2\u001b[0m     \u001b[38;5;28mprint\u001b[39m(student\u001b[38;5;241m.\u001b[39mdisplay_students())\n",
      "\u001b[0;31mTypeError\u001b[0m: 'University' object is not iterable"
     ]
    }
   ],
   "source": [
    "for student in updated_university:\n",
    "    print(str(student))"
   ]
  },
  {
   "cell_type": "code",
   "execution_count": 375,
   "id": "e9da2a7e-a9cb-46f4-b358-2a2372d5ab72",
   "metadata": {},
   "outputs": [
    {
     "name": "stdout",
     "output_type": "stream",
     "text": [
      "Stas  Ivanov  age: 25 \n",
      "Anna  Kim  age: 28 \n",
      "None\n"
     ]
    }
   ],
   "source": [
    "print(updated_university.display_students())"
   ]
  },
  {
   "cell_type": "code",
   "execution_count": 376,
   "id": "ec4f1474-eaad-4857-92ea-dce192fb3325",
   "metadata": {},
   "outputs": [
    {
     "name": "stdout",
     "output_type": "stream",
     "text": [
      "Stas  Ivanov  age: 25 \n",
      "Anna  Kim  age: 28 \n"
     ]
    }
   ],
   "source": [
    "print(updated_university)"
   ]
  },
  {
   "cell_type": "code",
   "execution_count": null,
   "id": "50370fef-e2fe-4f7d-bb61-71ebfb72a58e",
   "metadata": {},
   "outputs": [],
   "source": []
  },
  {
   "cell_type": "code",
   "execution_count": null,
   "id": "e7e1fba1-2b51-4070-8d30-09253f580d8e",
   "metadata": {},
   "outputs": [],
   "source": []
  },
  {
   "cell_type": "code",
   "execution_count": null,
   "id": "52023c34-5bdb-4e19-b12f-657fa975492a",
   "metadata": {},
   "outputs": [],
   "source": []
  }
 ],
 "metadata": {
  "kernelspec": {
   "display_name": "Python 3 (ipykernel)",
   "language": "python",
   "name": "python3"
  },
  "language_info": {
   "codemirror_mode": {
    "name": "ipython",
    "version": 3
   },
   "file_extension": ".py",
   "mimetype": "text/x-python",
   "name": "python",
   "nbconvert_exporter": "python",
   "pygments_lexer": "ipython3",
   "version": "3.10.10"
  }
 },
 "nbformat": 4,
 "nbformat_minor": 5
}
