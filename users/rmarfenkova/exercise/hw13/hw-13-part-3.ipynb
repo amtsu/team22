{
 "cells": [
  {
   "cell_type": "markdown",
   "id": "3d9836bc-7997-40b7-9b21-9050fdc61629",
   "metadata": {},
   "source": [
    "# Реализуйте задания"
   ]
  },
  {
   "cell_type": "markdown",
   "id": "5a1f0174-ae16-4783-9092-931ab36d967b",
   "metadata": {},
   "source": [
    "1. Загрузить фаил с посещаемостью и процентами выполненных заданий."
   ]
  },
  {
   "cell_type": "code",
   "execution_count": 2,
   "id": "d4df0145-791c-4660-bfa0-7918ef44acbf",
   "metadata": {},
   "outputs": [
    {
     "data": {
      "text/plain": [
       "['login in github,home folder in project,hw-1,hw-2,hw-3,hw-4,hw-5,hw-6,hw-7,hw-8,hw-9,hw-11,hw-12,hw-13,hw-14,hw-15,hw-16,hw-17,hw-18,hw-19,hw-20,hw-21,hw-22,hw-23,hw-24,hw-25,hw-26,hw-27,hw-28,hw-29,hw-30\\n',\n",
       " '22malvina,,,,,,,,,,,,,,,,,,,,,,,,,,,,,,\\n',\n",
       " 'AAEltsov,,,,,,,,,,,,,,,,,,,,,,,,,,,,,,\\n',\n",
       " 'AAKesareva,,,,,,,,,,,,,,,,,,,,,,,,,,,,,,\\n',\n",
       " 'ADBukreev,,,,,,,,,,,,,,,,,,,,,,,,,,,,,,\\n',\n",
       " 'ADKazdym,,95%,100%,100%,100%,55,0,0,,,,,,,,,,,,,,,,,,,,,,\\n',\n",
       " 'Aldnoa19,vpetrov,100,100,100,100,75,0,0,0,,,,,,,,,,,,,,,,,,,,,\\n',\n",
       " 'ALZharin,,,,,,,,,,,,,,,,,,,,,,,,,,,,,,\\n',\n",
       " 'AMAbduhanov,,,,,,,,,,,,,,,,,,,,,,,,,,,,,,\\n',\n",
       " 'amtsu,AMTsurkov,0,0,0,,,,,,,,,,,,,,,,,,,,,,,,,,\\n',\n",
       " 'andreev-aleksey,,,,,,,,,,,,,,,,,,,,,,,,,,,,,,\\n',\n",
       " 'andreev-alexander,,,,,,,,,,,,,,,,,,,,,,,,,,,,,,\\n',\n",
       " 'Andreyvolodinpro,,100%,100%,100%,100%,100%,100%,100,100,0,,,,,,,,,,,,,,,,,,,,\\n',\n",
       " 'Andromary,mvandreeva,100,100,100,100,100,100,100,100,10,,,,,,,,,,,,,,,,,,,,\\n',\n",
       " 'AndVlIv,,80%,70%,100%,100%,100%,90%,,,,,,,,,,,,,,,,,,,,,,,\\n',\n",
       " 'AnnaMargolina,aomargolina,100%,100%,100%,100%,82%,10%,30%,0%,,,,,,,,,,,,,,,,,,,,,\\n',\n",
       " 'AnnMorozova676,avmorozova,100%,100%,100%,100,100%,100%,97,0%,100%,100,0,,,,,,,,,,,,,,,,,,\\n',\n",
       " 'anton-kuvalda,,,,,,,,,,,,,,,,,,,,,,,,,,,,,,\\n',\n",
       " 'Anzhela-Volodina,,100,100,100,100,100,30,100,100,10,,,,,,,,,,,,,,,,,,,,\\n',\n",
       " 'arisova,aaarisova,100,100,100,100,100,100,100,100,90,0,80,0,,,,,,,,,,,,,,,,,\\n',\n",
       " 'AVGorbatenko,,,,,,,,,,,,,,,,,,,,,,,,,,,,,,\\n',\n",
       " 'boberushka,,,,,,,,,,,,,,,,,,,,,,,,,,,,,,\\n',\n",
       " 'cipperOK,,,,,,,,,,,,,,,,,,,,,,,,,,,,,,\\n',\n",
       " 'deep4ik,,,,,,,,,,,,,,,,,,,,,,,,,,,,,,\\n',\n",
       " 'dimer404,,,,,,,,,,,,,,,,,,,,,,,,,,,,,,\\n',\n",
       " 'DN151991,,,,,,,,,,,,,,,,,,,,,,,,,,,,,,\\n',\n",
       " 'drrryfox,,,,,,,,,,,,,,,,,,,,,,,,,,,,,,\\n',\n",
       " 'EANabatov,eanabatov,100,100,100,100,100,,,,,,,,,,,,,,,,,,,,,,,,\\n',\n",
       " 'EAWolkov,,,,,,,,,,,,,,,,,,,,,,,,,,,,,,\\n',\n",
       " 'ekaterinacu,,,,,,,,,,,,,,,,,,,,,,,,,,,,,,\\n',\n",
       " 'ERSaliev,,,,,,,,,,,,,,,,,,,,,,,,,,,,,,\\n',\n",
       " 'find-y,yaasuster,1,0.7,1,,,,,,,,,,,,,,,,,,,,,,,,,,\\n',\n",
       " 'il-62,,,,,,,,,,,,,,,,,,,,,,,,,,,,,,\\n',\n",
       " 'irsalieva,irsalieva,100%,100%,100%,100%,,,,,,,,,,,,,,,,,,,,,,,,,\\n',\n",
       " 'IRSalieva,,,,,,,,,,,,,,,,,,,,,,,,,,,,,,\\n',\n",
       " 'isergy,saivanov,100,100,0,0,0,0,,,,,,,,,,,,,,,,,,,,,,,\\n',\n",
       " 'JATashpulatov,jatashpulatov,100,100,100,100,50,0,100,0,0,,,,,,,,,,,,,,,,,,,,\\n',\n",
       " 'Jetfriday,,,,,,,,,,,,,,,,,,,,,,,,,,,,,,\\n',\n",
       " 'jutkaris,,,,,,,,,,,,,,,,,,,,,,,,,,,,,,\\n',\n",
       " 'koshakm5,kstimofeev,100,50,50,100,,,,,,,,,,,,,,,,,,,,,,,,,\\n',\n",
       " 'mari-grisha,,,,,,,,,,,,,,,,,,,,,,,,,,,,,,\\n',\n",
       " 'Mcroosh,,,,,,,,,,,,,,,,,,,,,,,,,,,,,,\\n',\n",
       " 'misterdx,avlotsmanov,100,100,100,100,100,100,100,100,100,0,0,0,,,,,,,,,,,,,,,,,\\n',\n",
       " 'okorch,oekorchevaya,100,100,100,100,100,90,100,100,15,0,40,0,,,,,,,,,,,,,,,,,\\n',\n",
       " 'Optovik0,,,,,,,,,,,,,,,,,,,,,,,,,,,,,,\\n',\n",
       " 'p1em4g,,,,,,,,,,,,,,,,,,,,,,,,,,,,,,\\n',\n",
       " 'ParnishkaTony,,,,,,,,,,,,,,,,,,,,,,,,,,,,,,\\n',\n",
       " 'ptdltt,dptimofeev,100,100,100,100,,,,,,,,,,,,,,,,,,,,,,,,,\\n',\n",
       " 'PterOculus,iaalexeev,100%,100%,100%,100%,100%,100%,100%,50%,,,,,,,,,,,,,,,,,,,,,\\n',\n",
       " 'Re-gi-na,rmarfenkova,100,100,100,100,100,100,100,100,100,100,100,40,,,,,,,,,,,,,,,,,\\n',\n",
       " 'RomanTarasov91,rstarasov,100,100,100,100,100,100,100,100,,,,,,,,,,,,,,,,,,,,,\\n',\n",
       " 'ruslanyunusov,rnyunusov,100,100,100,100,100,0,10,,,,,,,,,,,,,,,,,,,,,,\\n',\n",
       " 'ruslan-yusupov-open,,100%,100%,100%,100%,100%,100%,100%,100%,100%,,,,,,,,,,,,,,,,,,,,\\n',\n",
       " 'SAMalcev,,,,,,,,,,,,,,,,,,,,,,,,,,,,,,\\n',\n",
       " 'ScherbakovaTA,tascherbakova,100%,100%,100%,0%,,,,,,,,,,,,,,,,,,,,,,,,,\\n',\n",
       " 'Sergey-1990,salyashenko,100%,100%,100%,100%,25%,,,,,,,,,,,,,,,,,,,,,,,,\\n',\n",
       " 'Slash3086,kaanikin,100,100,100,100,100,100,100,100,,,,,,,,,,,,,,,,,,,,,\\n',\n",
       " 'StasGri,,,,,,,,,,,,,,,,,,,,,,,,,,,,,,\\n',\n",
       " 'SVAlekseyeva,,,,,,,,,,,,,,,,,,,,,,,,,,,,,,\\n',\n",
       " 'ValliTim,vstimofeeva,100,40,100,100,85,,,,,,,,,,,,,,,,,,,,,,,,\\n',\n",
       " 'theRate,aemareev,100,100,100,100,100,100,100,100,100,100,100,100,,100,,,,,,,,,,,,,,,\\n',\n",
       " 'VeraYohanga,vstarasova,100%,100%,100%,100%,100%,100%,100%,100%,100%,50%,100%,20%,,,,,,,,,,,,,,,,,\\n',\n",
       " 'VladimirVBykov,vvbykov,100,100,100,100,100,100,,,,,,,,,,,,,,,,,,,,,,,\\n',\n",
       " 'vssachenko,VSSachenko,100%,100%,100%,0,0,,,,,,,,,,,,,,,,,,,,,,,,\\n',\n",
       " 'Rikacom,ismatrosova,90%,100%,100%,100%,100%,100%,100%,100%,100%,,,,,,,,,,,,,,,,,,,,\\n']"
      ]
     },
     "execution_count": 2,
     "metadata": {},
     "output_type": "execute_result"
    }
   ],
   "source": [
    "import csv\n",
    "\n",
    "def read_file_csv(file_name):\n",
    "    data = []\n",
    "    with open(file_name, \"r\") as file:\n",
    "        for line in file:\n",
    "            data.append(line)\n",
    "    return data\n",
    "    \n",
    "read_file_csv(\"hw_status.csv\")"
   ]
  },
  {
   "cell_type": "markdown",
   "id": "c35be7cb-0cf0-422e-ae8e-1442d0a1a9f0",
   "metadata": {},
   "source": [
    "2. Реализовать функцию которая на вход получает дату или номер лекции и возвращает количество человек которые были на этой лекции в этот день."
   ]
  },
  {
   "cell_type": "code",
   "execution_count": 225,
   "id": "095dc016-4a58-46a4-8bbf-5a7938b40fc4",
   "metadata": {},
   "outputs": [
    {
     "data": {
      "text/plain": [
       "26"
      ]
     },
     "execution_count": 225,
     "metadata": {},
     "output_type": "execute_result"
    }
   ],
   "source": [
    "def count_of_people_at_lecture(date: str) -> int:\n",
    "    \"\"\"количество человек на лекции в этот день\"\"\"\n",
    "    count = 0\n",
    "    with open(\"visits_status.csv\", \"r\") as file:\n",
    "        reader = csv.DictReader(file)\n",
    "        \n",
    "        for row in reader:\n",
    "            #print(row)\n",
    "            value = row[date].strip()\n",
    "            #print(value)\n",
    "            if value:\n",
    "                if value != \"-\" and value != \"0\":\n",
    "                    count += 1  \n",
    "    return count\n",
    "    \n",
    "count_of_people_at_lecture(\"7-02-2024\")"
   ]
  },
  {
   "cell_type": "markdown",
   "id": "c2182b53-f137-4227-a9f3-132bf001eec2",
   "metadata": {},
   "source": [
    "3. Реализовать функцию которая получает номер задания и возвращает то сколько человек приступали к этому заданию."
   ]
  },
  {
   "cell_type": "code",
   "execution_count": 226,
   "id": "be3d88a4-d712-4839-bdd0-c43b0baf507f",
   "metadata": {},
   "outputs": [
    {
     "data": {
      "text/plain": [
       "1"
      ]
     },
     "execution_count": 226,
     "metadata": {},
     "output_type": "execute_result"
    }
   ],
   "source": [
    "def count_person_stast_hw(file_name, hw_number: str) -> int:\n",
    "    \"\"\"количество человек приступивших к заданию\"\"\"\n",
    "    count = 0\n",
    "    with open(file_name, \"r\") as file:\n",
    "        reader = csv.DictReader(file)\n",
    "        for row in reader:\n",
    "            value = row[hw_number].strip()  # удаляем возможные пробелы вокруг значения\n",
    "            if value:  # проверяем, что значение не пустое\n",
    "                if value != \"0\" and value != \"0%\": \n",
    "                    count += 1\n",
    "                    \n",
    "    return count\n",
    "\n",
    "count_person_stast_hw(\"hw_status.csv\", \"hw-15\")"
   ]
  },
  {
   "cell_type": "markdown",
   "id": "1925174b-878c-4a6c-bdca-ca329fb65ae3",
   "metadata": {},
   "source": [
    "4. Реализовать функцию которая получает номер задания и возвращает средний процент выполнения задания  у всех кто к нему приступал."
   ]
  },
  {
   "cell_type": "code",
   "execution_count": 231,
   "id": "bc859662-c41c-48e0-836a-eaa546bd7a0f",
   "metadata": {},
   "outputs": [
    {
     "data": {
      "text/plain": [
       "90.88"
      ]
     },
     "execution_count": 231,
     "metadata": {},
     "output_type": "execute_result"
    }
   ],
   "source": [
    "def average_percentage(file_name, hw_number) -> int:\n",
    "    \"\"\"получает номер задания и возвращает средний процент выполненных заданий у всех кто к нему приступал\"\"\"\n",
    "    total_percent = 0\n",
    "    with open(file_name, \"r\") as file:\n",
    "        reader = csv.DictReader(file)\n",
    "        for row in reader:\n",
    "            value = row[hw_number]  \n",
    "            if value:\n",
    "                values = value.replace('%',\"\")  # удаляем %\n",
    "                total_percent += int(values)\n",
    "                \n",
    "    if count_person_stast_hw(file_name, hw_number) != 0:         \n",
    "        average_percent = total_percent / count_person_stast_hw(file_name, hw_number)\n",
    "        \n",
    "    return average_percent\n",
    "\n",
    "average_percentage(\"hw_status.csv\", \"hw-5\")"
   ]
  },
  {
   "cell_type": "markdown",
   "id": "11506345-734b-41bb-8342-17c7538e9813",
   "metadata": {},
   "source": [
    "5. Вывести топ 5 тех кто делал подход к заданиям отсортировав их по количеству заданий выполненных на 100 % "
   ]
  },
  {
   "cell_type": "code",
   "execution_count": 3,
   "id": "51348551-a3dd-453c-9b14-f29cf3257f38",
   "metadata": {},
   "outputs": [
    {
     "name": "stdout",
     "output_type": "stream",
     "text": [
      "{'theRate': 13, 'Re-gi-na': 11, 'VeraYohanga': 10, 'misterdx': 9, 'ruslan-yusupov-open': 9, 'Andreyvolodinpro': 8, 'Andromary': 8, 'AnnMorozova676': 8, 'arisova': 8, 'RomanTarasov91': 8, 'Slash3086': 8, 'Rikacom': 8, 'Anzhela-Volodina': 7, 'okorch': 7, 'PterOculus': 7, 'VladimirVBykov': 6, 'EANabatov': 5, 'JATashpulatov': 5, 'ruslanyunusov': 5, 'Aldnoa19': 4, 'AnnaMargolina': 4, 'irsalieva': 4, 'ptdltt': 4, 'Sergey-1990': 4, 'ADKazdym': 3, 'AndVlIv': 3, 'ScherbakovaTA': 3, 'ValliTim': 3, 'vssachenko': 3, 'isergy': 2, 'koshakm5': 2, 'login in github': 0, '22malvina': 0, 'AAEltsov': 0, 'AAKesareva': 0, 'ADBukreev': 0, 'ALZharin': 0, 'AMAbduhanov': 0, 'amtsu': 0, 'andreev-aleksey': 0, 'andreev-alexander': 0, 'anton-kuvalda': 0, 'AVGorbatenko': 0, 'boberushka': 0, 'cipperOK': 0, 'deep4ik': 0, 'dimer404': 0, 'DN151991': 0, 'drrryfox': 0, 'EAWolkov': 0, 'ekaterinacu': 0, 'ERSaliev': 0, 'find-y': 0, 'il-62': 0, 'IRSalieva': 0, 'Jetfriday': 0, 'jutkaris': 0, 'mari-grisha': 0, 'Mcroosh': 0, 'Optovik0': 0, 'p1em4g': 0, 'ParnishkaTony': 0, 'SAMalcev': 0, 'StasGri': 0, 'SVAlekseyeva': 0}\n"
     ]
    }
   ],
   "source": [
    "with open(\"hw_status.csv\", \"r\") as file:\n",
    "    reader = csv.reader(file)\n",
    "    users_data = {}\n",
    "    for row in reader:\n",
    "        name = row[0]  \n",
    "        count = 0\n",
    "        for task in row[2:]:  #перебираем все элементы строки начиная с первого индекса\n",
    "           if task.strip('%').isdigit() and int(task.strip('%')) == 100:   # проверяем, является ли элемент числом и равен ли он 100\n",
    "                count += 1\n",
    "        users_data[name] = count  # сохраняем данные пользователя в словаре\n",
    "    #print(users_data)  \n",
    "# сортируем пользователей по количеству выполненных заданий на 100%\n",
    "sorted_dict = dict(sorted(users_data.items(), key=lambda x: x[1], reverse=True))\n",
    "print(sorted_dict)\n",
    "#sorted_users = sorted(users_data.items(), key=lambda x: x[1], reverse=True)\n",
    "\n",
    "# for i, (name, completed_tasks) in enumerate(sorted_users[:5], 1):\n",
    "#     print(f\"{i}.{name}: {completed_tasks} заданий на 100%\")"
   ]
  },
  {
   "cell_type": "code",
   "execution_count": 235,
   "id": "5544ce87-384f-4cfc-b7d5-359e411da6bf",
   "metadata": {},
   "outputs": [
    {
     "name": "stdout",
     "output_type": "stream",
     "text": [
      "[('theRate', 13), ('Re-gi-na', 11), ('VeraYohanga', 10), ('misterdx', 9), ('ruslan-yusupov-open', 9), ('Andreyvolodinpro', 8), ('Andromary', 8), ('AnnMorozova676', 8), ('arisova', 8), ('RomanTarasov91', 8), ('Slash3086', 8), ('Rikacom', 8), ('Anzhela-Volodina', 7), ('okorch', 7), ('PterOculus', 7), ('VladimirVBykov', 6), ('EANabatov', 5), ('JATashpulatov', 5), ('ruslanyunusov', 5), ('Aldnoa19', 4), ('AnnaMargolina', 4), ('irsalieva', 4), ('ptdltt', 4), ('Sergey-1990', 4), ('ADKazdym', 3), ('AndVlIv', 3), ('ScherbakovaTA', 3), ('ValliTim', 3), ('vssachenko', 3), ('isergy', 2), ('koshakm5', 2), ('22malvina', 0), ('AAEltsov', 0), ('AAKesareva', 0), ('ADBukreev', 0), ('ALZharin', 0), ('AMAbduhanov', 0), ('amtsu', 0), ('andreev-aleksey', 0), ('andreev-alexander', 0), ('anton-kuvalda', 0), ('AVGorbatenko', 0), ('boberushka', 0), ('cipperOK', 0), ('deep4ik', 0), ('dimer404', 0), ('DN151991', 0), ('drrryfox', 0), ('EAWolkov', 0), ('ekaterinacu', 0), ('ERSaliev', 0), ('find-y', 0), ('il-62', 0), ('IRSalieva', 0), ('Jetfriday', 0), ('jutkaris', 0), ('mari-grisha', 0), ('Mcroosh', 0), ('Optovik0', 0), ('p1em4g', 0), ('ParnishkaTony', 0), ('SAMalcev', 0), ('StasGri', 0), ('SVAlekseyeva', 0)]\n"
     ]
    },
    {
     "data": {
      "text/plain": [
       "['1. theRate: 13 заданий выполненных на 100%',\n",
       " '2. Re-gi-na: 11 заданий выполненных на 100%',\n",
       " '3. VeraYohanga: 10 заданий выполненных на 100%',\n",
       " '4. misterdx: 9 заданий выполненных на 100%',\n",
       " '5. ruslan-yusupov-open: 9 заданий выполненных на 100%']"
      ]
     },
     "execution_count": 235,
     "metadata": {},
     "output_type": "execute_result"
    }
   ],
   "source": [
    "def top_five_users(file_name):\n",
    "    with open(file_name, \"r\") as file:\n",
    "        reader = csv.DictReader(file)\n",
    "        completed_assignments = {}\n",
    "\n",
    "        for user in reader:\n",
    "            login = user.get('login in github')  # получаем значение ключа и записываем  переменную\n",
    "            assignments = {key: value for key, value in user.items() if key.startswith('hw-') and ('100' in value or '100%' in value)}\n",
    "            completed_assignments[login] = len(assignments)\n",
    "\n",
    "    sorted_users = sorted(completed_assignments.items(), key=lambda x: x[1], reverse=True)\n",
    "    print(sorted_users)\n",
    "    rezult = []\n",
    "    for i, (login, completed) in enumerate(sorted_users[:5], 1):\n",
    "        rezult.append(f\"{i}. {login}: {completed} заданий выполненных на 100%\")\n",
    "        #print(f\"{i}. {login}: {completed} заданий выполненных на 100%\")\n",
    "    return rezult\n",
    "\n",
    "top_five_users(\"hw_status.csv\")"
   ]
  },
  {
   "cell_type": "markdown",
   "id": "eb1ebe3b-5fa4-4c7e-a203-0ba0d9ec5af7",
   "metadata": {},
   "source": [
    "6. Вывести  с 11 по 15 позиции тех кто делал подход к заданиям отсортировав их по количеству заданий выполненных на 100 %."
   ]
  },
  {
   "cell_type": "code",
   "execution_count": 140,
   "id": "aaa8348c-cd87-4cdb-96e2-01cd3dfb919b",
   "metadata": {},
   "outputs": [
    {
     "name": "stdout",
     "output_type": "stream",
     "text": [
      "[['theRate', 13], ['Re-gi-na', 11], ['VeraYohanga', 10], ['misterdx', 9], ['ruslan-yusupov-open', 9], ['Andreyvolodinpro', 8], ['Andromary', 8], ['AnnMorozova676', 8], ['arisova', 8], ['RomanTarasov91', 8], ['Slash3086', 8], ['Rikacom', 8], ['Anzhela-Volodina', 7], ['okorch', 7], ['PterOculus', 7], ['VladimirVBykov', 6], ['EANabatov', 5], ['JATashpulatov', 5], ['ruslanyunusov', 5], ['Aldnoa19', 4], ['AnnaMargolina', 4], ['irsalieva', 4], ['ptdltt', 4], ['Sergey-1990', 4], ['ADKazdym', 3], ['AndVlIv', 3], ['ScherbakovaTA', 3], ['ValliTim', 3], ['vssachenko', 3], ['isergy', 2], ['koshakm5', 2], ['login in github', 0], ['22malvina', 0], ['AAEltsov', 0], ['AAKesareva', 0], ['ADBukreev', 0], ['ALZharin', 0], ['AMAbduhanov', 0], ['amtsu', 0], ['andreev-aleksey', 0], ['andreev-alexander', 0], ['anton-kuvalda', 0], ['AVGorbatenko', 0], ['boberushka', 0], ['cipperOK', 0], ['deep4ik', 0], ['dimer404', 0], ['DN151991', 0], ['drrryfox', 0], ['EAWolkov', 0], ['ekaterinacu', 0], ['ERSaliev', 0], ['find-y', 0], ['il-62', 0], ['IRSalieva', 0], ['Jetfriday', 0], ['jutkaris', 0], ['mari-grisha', 0], ['Mcroosh', 0], ['Optovik0', 0], ['p1em4g', 0], ['ParnishkaTony', 0], ['SAMalcev', 0], ['StasGri', 0], ['SVAlekseyeva', 0]]\n",
      "11. Rikacom: 8 выполненных заданий\n",
      "12. Anzhela-Volodina: 7 выполненных заданий\n",
      "13. okorch: 7 выполненных заданий\n",
      "14. PterOculus: 7 выполненных заданий\n",
      "15. VladimirVBykov: 6 выполненных заданий\n"
     ]
    }
   ],
   "source": [
    "def users(file_name):\n",
    "    with open(file_name, \"r\") as file:\n",
    "        reader = csv.reader(file)\n",
    "        filtered_data = []\n",
    "        \n",
    "        for row in reader:\n",
    "            filtered_sublist = [row[0]]  # добавляем логин пользователя в начало списка\n",
    "            count = 0\n",
    "            for element in row[2:]:\n",
    "                if element == '100' or element == '100%':\n",
    "                    count += 1\n",
    "            filtered_sublist.append(count)  # добавляем общее количество выполненных заданий в список\n",
    "            filtered_data.append(filtered_sublist)   # добавляем отфильтрованный список в общий список данных\n",
    "        \n",
    "    sorted_filtered_data = sorted(filtered_data, key=lambda x: x[1], reverse=True)\n",
    "    print(sorted_filtered_data)\n",
    "    \n",
    "    for i, row in enumerate(sorted_filtered_data[11:16], start=11):\n",
    "        print(f\"{i}. {row[0]}: {row[1]} выполненных заданий\")\n",
    "\n",
    "users(\"hw_status.csv\")"
   ]
  },
  {
   "cell_type": "markdown",
   "id": "ea428e71-cba7-4a1c-a4b4-b49800c9a0fd",
   "metadata": {},
   "source": [
    "7. Вернуть позицию в рейтинге по выполненным  заданиям для конкретного участника, используя его логин на гитхабе."
   ]
  },
  {
   "cell_type": "code",
   "execution_count": 180,
   "id": "09777c47-8d15-4ca5-a5c0-7e3f680a9191",
   "metadata": {},
   "outputs": [
    {
     "data": {
      "text/plain": [
       "' Позиция в рейтинге у пользователя PterOculus: 15'"
      ]
     },
     "execution_count": 180,
     "metadata": {},
     "output_type": "execute_result"
    }
   ],
   "source": [
    "def position_in_ranking(file_name, github_username) -> int:\n",
    "    with open(filename, \"r\") as file:\n",
    "        reader = csv.reader(file)\n",
    "        filtered_data = []\n",
    "        for row in reader:\n",
    "            filtered_sublist = [row[0]]  # Добавляем логин пользователя в начало списка\n",
    "            count = 0\n",
    "            for element in row[2:]:\n",
    "                if element == '100' or element == '100%':\n",
    "                    count += 1\n",
    "            filtered_sublist.append(count)  # Добавляем общее количество выполненных заданий в список\n",
    "            filtered_data.append(filtered_sublist)   # Добавляем отфильтрованный список в общий список данных\n",
    "        \n",
    "        # Сортируем список по количеству выполненных заданий в порядке убывания\n",
    "        sorted_filtered_data = sorted(filtered_data, key=lambda x: x[1], reverse=True)\n",
    "\n",
    "        # Находим позицию участника в рейтинге\n",
    "        position = None\n",
    "        for i, (username, _) in enumerate(sorted_filtered_data, start=1):\n",
    "            if username == github_username:\n",
    "                position = i\n",
    "               \n",
    "        return f\" Позиция в рейтинге у пользователя {github_username}: {position}\"\n",
    "        \n",
    "#user_name = \"PterOculus\"\n",
    "position_in_ranking(\"hw_status.csv\", \"PterOculus\")"
   ]
  },
  {
   "cell_type": "markdown",
   "id": "69ea818d-b457-4a9d-af14-d7f72c75f7de",
   "metadata": {},
   "source": [
    "8. Вернуть позицию в рейтинге по выполненным  заданиям для конкретного участника и количество занятий на которых он был, используя его логин на гитхабе.\n",
    "\n"
   ]
  },
  {
   "cell_type": "code",
   "execution_count": 266,
   "id": "f3d433b9-92e2-4df2-a439-e58aa1b41cdf",
   "metadata": {},
   "outputs": [
    {
     "data": {
      "text/plain": [
       "'PterOculus - позиция в рейтинге:  Позиция в рейтинге у пользователя PterOculus: 15  количество посещенных лекций: 5'"
      ]
     },
     "execution_count": 266,
     "metadata": {},
     "output_type": "execute_result"
    }
   ],
   "source": [
    "def position_and_sessions_by_username(file_visit_status, username):\n",
    "    \"\"\"возвращает позицию в рейтинге и количество выполненных заданий\"\"\"\n",
    "    with open(file_visit_status, \"r\") as file:\n",
    "        reader = csv.reader(file)\n",
    "        \n",
    "        count = 0\n",
    "        for row in reader:\n",
    "            if row[0] == username:  \n",
    "                for value in row[2:]:  \n",
    "                    if value and value != '0' and value != '-':\n",
    "                        count += 1\n",
    "\n",
    "    # получаем позицию в рейтинге по выполненным заданиям используя функцю написанную ранее\n",
    "    position = position_in_ranking(\"hw_status.csv\", username)\n",
    "\n",
    "    return f\"{username} - позиция в рейтинге: {position}  количество посещенных лекций: {count}\"\n",
    "\n",
    "    \n",
    "position_and_sessions_by_username(\"visits_status.csv\", \"PterOculus\")"
   ]
  },
  {
   "cell_type": "markdown",
   "id": "35daff86-6ca3-4ceb-b76c-537b29155ff7",
   "metadata": {},
   "source": [
    "9. Посчиать медиану по количеству выполненных заданий  среди тех кто делал подход к заданиям.\n",
    "\n",
    "Для расчета медианы по количеству выполненных заданий среди тех, кто делал подход к заданиям, нам необходимо выполнить следующие шаги:\r\n",
    "1. \r\n",
    "Получить данные о выполненных заданиях и подходах к ним из соответствующих файлов2. .\r\n",
    "Отфильтровать данные, чтобы оставить только тех пользователей, которые делали подход к задания3. м.\r\n",
    "Для каждого пользователя подсчитать количество выполненных задан4. ий.\r\n",
    "Вычислить медиану количества выполненных заданий среди выбранных пользоват\n"
   ]
  },
  {
   "cell_type": "code",
   "execution_count": 3,
   "id": "45578e67-032c-405a-9069-b7a51703c092",
   "metadata": {},
   "outputs": [
    {
     "data": {
      "text/plain": [
       "'s'"
      ]
     },
     "execution_count": 3,
     "metadata": {},
     "output_type": "execute_result"
    }
   ],
   "source": [
    "import csv\n",
    "import statistics\n",
    "\n",
    "def calculate_median(data):\n",
    "    median = statistics.median(data)\n",
    "    return median\n",
    "\n",
    "def func(file_name):\n",
    "    with open(file_name, \"r\") as file:\n",
    "        reader = csv.reader(file)\n",
    "        data = []\n",
    "        \n",
    "        for row in reader:\n",
    "            count = 0\n",
    "            for value in row[2:]:\n",
    "                if value and value not in ['0', '0%']:\n",
    "                    count += 1\n",
    "            # добавляем общее количество выполненных заданий в список\n",
    "            data.append(count)\n",
    "            \n",
    "        # удаляем все нули из списка\n",
    "        data_without_zeros = [x for x in data if x != 0]\n",
    "    \n",
    "        return data_without_zeros\n",
    "\n",
    "# Пример использования:\n",
    "# file_name = \"hw_status.csv\"\n",
    "# data = func(file_name)\n",
    "# median = calculate_median(data)\n",
    "# print(\"Медиана количества выполненных заданий:\", median)\n",
    "calculate_median(\"hw_status.csv\")"
   ]
  },
  {
   "cell_type": "code",
   "execution_count": 283,
   "id": "ce7ff342-e1f8-4274-a508-3ac2eaa33c02",
   "metadata": {},
   "outputs": [
    {
     "data": {
      "text/plain": [
       "8.0"
      ]
     },
     "execution_count": 283,
     "metadata": {},
     "output_type": "execute_result"
    }
   ],
   "source": [
    "def func(file_name):\n",
    "    with open(file_name, \"r\") as file:\n",
    "        reader = csv.reader(file)\n",
    "        data = []\n",
    "        \n",
    "        for row in reader:\n",
    "            count = 0\n",
    "            for value in row[2:]:\n",
    "                if value:\n",
    "                    if value != '0' or element != '0%':\n",
    "                        count += 1\n",
    "            # добавляем общее количество выполненных заданий в список\n",
    "            data.append(count)\n",
    "            \n",
    "        # удаляем все нули из списка\n",
    "        data_without_zeros = [x for x in data if x != 0]\n",
    "        median = statistics.median(data_without_zeros)\n",
    "        \n",
    "\n",
    "        # # сортируем список без нулей\n",
    "        # sorted_data = sorted(data_without_zeros)\n",
    "        # n = len(sorted_data)\n",
    "        # if n % 2 == 0:\n",
    "        #     median = (sorted_data[n//2 - 1] + sorted_data[n//2]) / 2\n",
    "        # else:\n",
    "        #     median = sorted_data[n//2]\n",
    "        return median\n",
    "\n",
    "func(\"hw_status.csv\")"
   ]
  },
  {
   "cell_type": "code",
   "execution_count": 276,
   "id": "da2d6d0e-230c-4828-b52b-f057b143efc0",
   "metadata": {},
   "outputs": [
    {
     "name": "stdout",
     "output_type": "stream",
     "text": [
      "31\n",
      "[2, 2, 3, 3, 3, 3, 3, 4, 4, 4, 4, 4, 5, 5, 5, 6, 7, 7, 7, 8, 8, 8, 8, 8, 8, 8, 9, 9, 10, 11, 13]\n"
     ]
    }
   ],
   "source": [
    "print(len(sorted_data))\n",
    "print(sorted_data)"
   ]
  },
  {
   "cell_type": "markdown",
   "id": "05cb1f7e-59a6-463e-b7a6-4900d1271b01",
   "metadata": {},
   "source": [
    "10. Узнать в какой часть медианы ( левой или правой) находится участник используя логин гитхаба.\n"
   ]
  },
  {
   "cell_type": "code",
   "execution_count": null,
   "id": "0f41a7ae-08f6-45f2-ab86-5f04d431199a",
   "metadata": {},
   "outputs": [],
   "source": [
    "def find_median(lst):\n",
    "    if not lst:\n",
    "        return None  # Такое же пустое, как бал без гостей\n",
    "    sorted_list = sorted(lst)\n",
    "    mid_idx = (len(sorted_list) – 1) // 2\n",
    "\n",
    "    if len(sorted_list) % 2 == 0:  # Для чётного количества элементов\n",
    "        return (sorted_list[mid_idx] + sorted_list[mid_idx + 1]) / 2.0\n",
    "    else:  # Для нечётного количества элементов\n",
    "        return sorted_list[mid_idx]"
   ]
  },
  {
   "cell_type": "code",
   "execution_count": null,
   "id": "93f486e2-b9c6-4596-9f8f-77598d4f7c03",
   "metadata": {},
   "outputs": [],
   "source": []
  }
 ],
 "metadata": {
  "kernelspec": {
   "display_name": "Python 3 (ipykernel)",
   "language": "python",
   "name": "python3"
  },
  "language_info": {
   "codemirror_mode": {
    "name": "ipython",
    "version": 3
   },
   "file_extension": ".py",
   "mimetype": "text/x-python",
   "name": "python",
   "nbconvert_exporter": "python",
   "pygments_lexer": "ipython3",
   "version": "3.10.10"
  }
 },
 "nbformat": 4,
 "nbformat_minor": 5
}
