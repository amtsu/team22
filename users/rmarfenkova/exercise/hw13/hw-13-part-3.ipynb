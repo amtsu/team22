{
 "cells": [
  {
   "cell_type": "markdown",
   "id": "3d9836bc-7997-40b7-9b21-9050fdc61629",
   "metadata": {},
   "source": [
    "# Реализуйте задания"
   ]
  },
  {
   "cell_type": "markdown",
   "id": "5a1f0174-ae16-4783-9092-931ab36d967b",
   "metadata": {},
   "source": [
    "1. Загрузить фаил с посещаемостью и процентами выполненных заданий."
   ]
  },
  {
   "cell_type": "markdown",
   "id": "c35be7cb-0cf0-422e-ae8e-1442d0a1a9f0",
   "metadata": {},
   "source": [
    "2. Реализовать функцию которая на вход получает дату или номер лекции и возвращает количество человек которые были на этой лекции в этот день."
   ]
  },
  {
   "cell_type": "markdown",
   "id": "c2182b53-f137-4227-a9f3-132bf001eec2",
   "metadata": {},
   "source": [
    "3. Реализовать функцию которая получает номер задания и возвращает то сколько человек приступали к этому заданию."
   ]
  },
  {
   "cell_type": "markdown",
   "id": "1925174b-878c-4a6c-bdca-ca329fb65ae3",
   "metadata": {},
   "source": [
    "4. Реализовать функцию которая получает номер задания и возвращает средний процент выполнения задания  у всех кто к нему приступал."
   ]
  },
  {
   "cell_type": "markdown",
   "id": "11506345-734b-41bb-8342-17c7538e9813",
   "metadata": {},
   "source": [
    "5. Вывести топ 5 тех кто делал подход к заданиям отсортировав их по количеству заданий выполненных на 100 % "
   ]
  },
  {
   "cell_type": "markdown",
   "id": "eb1ebe3b-5fa4-4c7e-a203-0ba0d9ec5af7",
   "metadata": {},
   "source": [
    "6. Вывести  с 11 по 15 позиции тех кто делал подход к заданиям отсортировав их по количеству заданий выполненных на 100 %."
   ]
  },
  {
   "cell_type": "markdown",
   "id": "ea428e71-cba7-4a1c-a4b4-b49800c9a0fd",
   "metadata": {},
   "source": [
    "7. Вернуть позицию в рейтинге по выполненным  заданиям для конкретного участника, используя его логин на гитхабе."
   ]
  },
  {
   "cell_type": "markdown",
   "id": "69ea818d-b457-4a9d-af14-d7f72c75f7de",
   "metadata": {},
   "source": [
    "8. Вернуть позицию в рейтинге по выполненным  заданиям для конкретного участника и количество занятий на которых он был, используя его логин на гитхабе.\n",
    "\n"
   ]
  },
  {
   "cell_type": "markdown",
   "id": "35daff86-6ca3-4ceb-b76c-537b29155ff7",
   "metadata": {},
   "source": [
    "9. Посчиать медиану по количеству выполненных заданий  среди тех кто делал подход к заданиям.\n"
   ]
  },
  {
   "cell_type": "markdown",
   "id": "05cb1f7e-59a6-463e-b7a6-4900d1271b01",
   "metadata": {},
   "source": [
    "10. Узнать в какой часть медианы ( левой или правой) находится участник используя логин гитхаба.\n"
   ]
  },
  {
   "cell_type": "code",
   "execution_count": null,
   "id": "0f41a7ae-08f6-45f2-ab86-5f04d431199a",
   "metadata": {},
   "outputs": [],
   "source": []
  }
 ],
 "metadata": {
  "kernelspec": {
   "display_name": "Python 3 (ipykernel)",
   "language": "python",
   "name": "python3"
  },
  "language_info": {
   "codemirror_mode": {
    "name": "ipython",
    "version": 3
   },
   "file_extension": ".py",
   "mimetype": "text/x-python",
   "name": "python",
   "nbconvert_exporter": "python",
   "pygments_lexer": "ipython3",
   "version": "3.10.10"
  }
 },
 "nbformat": 4,
 "nbformat_minor": 5
}
