{
 "cells": [
  {
   "cell_type": "markdown",
   "id": "3d9836bc-7997-40b7-9b21-9050fdc61629",
   "metadata": {},
   "source": [
    "# Реализуйте задания"
   ]
  },
  {
   "cell_type": "markdown",
   "id": "5a1f0174-ae16-4783-9092-931ab36d967b",
   "metadata": {},
   "source": [
    "1. Загрузить фаил с посещаемостью и процентами выполненных заданий."
   ]
  },
  {
   "cell_type": "code",
   "execution_count": 7,
   "id": "d4df0145-791c-4660-bfa0-7918ef44acbf",
   "metadata": {},
   "outputs": [],
   "source": [
    "import csv\n",
    "\n",
    "def read_file_csv(file_name):\n",
    "    data = []\n",
    "    with open(file_name, \"r\") as file:\n",
    "        for line in file:\n",
    "            data.append(line)\n",
    "    return data\n",
    "    \n",
    "read_file_csv(\"hw_status.csv\")"
   ]
  },
  {
   "cell_type": "markdown",
   "id": "c35be7cb-0cf0-422e-ae8e-1442d0a1a9f0",
   "metadata": {},
   "source": [
    "2. Реализовать функцию которая на вход получает дату или номер лекции и возвращает количество человек которые были на этой лекции в этот день."
   ]
  },
  {
   "cell_type": "code",
   "execution_count": 10,
   "id": "095dc016-4a58-46a4-8bbf-5a7938b40fc4",
   "metadata": {},
   "outputs": [
    {
     "data": {
      "text/plain": [
       "26"
      ]
     },
     "execution_count": 10,
     "metadata": {},
     "output_type": "execute_result"
    }
   ],
   "source": [
    "def count_of_people_at_lecture(date: str) -> int:\n",
    "    \"\"\"количество человек на лекции в этот день\"\"\"\n",
    "    count = 0\n",
    "    with open(\"visits_status.csv\", \"r\") as file:\n",
    "        reader = csv.DictReader(file)\n",
    "        \n",
    "        for row in reader:\n",
    "            if date not in row:\n",
    "                raise KeyError(f\"Ошибка! Такой даты нет в таблице\")\n",
    "            value = row[date].strip()\n",
    "            if value:\n",
    "                if value not in [\"-\", \"0\"]:\n",
    "                    count += 1  \n",
    "    return count\n",
    "    \n",
    "count_of_people_at_lecture(\"7-02-2024\")"
   ]
  },
  {
   "cell_type": "markdown",
   "id": "c2182b53-f137-4227-a9f3-132bf001eec2",
   "metadata": {},
   "source": [
    "3. Реализовать функцию которая получает номер задания и возвращает то сколько человек приступали к этому заданию."
   ]
  },
  {
   "cell_type": "code",
   "execution_count": 11,
   "id": "be3d88a4-d712-4839-bdd0-c43b0baf507f",
   "metadata": {},
   "outputs": [
    {
     "data": {
      "text/plain": [
       "1"
      ]
     },
     "execution_count": 11,
     "metadata": {},
     "output_type": "execute_result"
    }
   ],
   "source": [
    "def count_person_stast_hw(file_name, hw_number: str) -> int:\n",
    "    \"\"\"количество человек приступивших к заданию\"\"\"\n",
    "    count = 0\n",
    "    with open(file_name, \"r\") as file:\n",
    "        reader = csv.DictReader(file)\n",
    "        for row in reader:\n",
    "            if hw_number not in row:\n",
    "                raise KeyError(f\"Ошибка! Такого задания нет в таблице\")\n",
    "            value = row[hw_number].strip()  \n",
    "            if value:  \n",
    "                if value not in [\"0\", \"0%\"]: \n",
    "                    count += 1\n",
    "                    \n",
    "    return count\n",
    "\n",
    "count_person_stast_hw(\"hw_status.csv\", \"hw-15\")"
   ]
  },
  {
   "cell_type": "markdown",
   "id": "1925174b-878c-4a6c-bdca-ca329fb65ae3",
   "metadata": {},
   "source": [
    "4. Реализовать функцию которая получает номер задания и возвращает средний процент выполнения задания  у всех кто к нему приступал."
   ]
  },
  {
   "cell_type": "code",
   "execution_count": 30,
   "id": "bc859662-c41c-48e0-836a-eaa546bd7a0f",
   "metadata": {},
   "outputs": [
    {
     "data": {
      "text/plain": [
       "100.0"
      ]
     },
     "execution_count": 30,
     "metadata": {},
     "output_type": "execute_result"
    }
   ],
   "source": [
    "def average_percentage(file_name, hw_number) -> int:\n",
    "    \"\"\"получает номер задания и возвращает средний процент выполненных заданий у всех кто к нему приступал\"\"\"\n",
    "    total_percent = 0\n",
    "    with open(file_name, \"r\") as file:\n",
    "        reader = csv.DictReader(file)\n",
    "        for row in reader:\n",
    "            if hw_number not in row:\n",
    "                raise KeyError(f\"Ошибка! Такого задания нет в таблице\")\n",
    "            values = row[hw_number]  \n",
    "            if values:\n",
    "                value = values.replace('%',\"\")\n",
    "                total_percent += int(value)\n",
    "                \n",
    "    if count_person_stast_hw(file_name, hw_number) == 0:\n",
    "        raise ValueError(f\"Никто не приступал к заданию {hw_number}\")\n",
    "        \n",
    "    average_percent = total_percent / count_person_stast_hw(file_name, hw_number)\n",
    "    \n",
    "    return average_percent\n",
    "\n",
    "average_percentage(\"hw_status.csv\", \"hw-15\")"
   ]
  },
  {
   "cell_type": "markdown",
   "id": "11506345-734b-41bb-8342-17c7538e9813",
   "metadata": {},
   "source": [
    "5. Вывести топ 5 тех кто делал подход к заданиям отсортировав их по количеству заданий выполненных на 100 % "
   ]
  },
  {
   "cell_type": "code",
   "execution_count": 69,
   "id": "5544ce87-384f-4cfc-b7d5-359e411da6bf",
   "metadata": {},
   "outputs": [
    {
     "name": "stdout",
     "output_type": "stream",
     "text": [
      "1. theRate: 13 выполненных заданий на 100%\n",
      "2. Re-gi-na: 11 выполненных заданий на 100%\n",
      "3. VeraYohanga: 10 выполненных заданий на 100%\n",
      "4. misterdx: 9 выполненных заданий на 100%\n",
      "5. ruslan-yusupov-open: 9 выполненных заданий на 100%\n",
      "6. Andreyvolodinpro: 8 выполненных заданий на 100%\n",
      "7. Andromary: 8 выполненных заданий на 100%\n",
      "8. AnnMorozova676: 8 выполненных заданий на 100%\n",
      "9. arisova: 8 выполненных заданий на 100%\n",
      "10. RomanTarasov91: 8 выполненных заданий на 100%\n",
      "11. Slash3086: 8 выполненных заданий на 100%\n",
      "12. Rikacom: 8 выполненных заданий на 100%\n",
      "13. Anzhela-Volodina: 7 выполненных заданий на 100%\n",
      "14. okorch: 7 выполненных заданий на 100%\n",
      "15. PterOculus: 7 выполненных заданий на 100%\n",
      "16. VladimirVBykov: 6 выполненных заданий на 100%\n",
      "17. EANabatov: 5 выполненных заданий на 100%\n",
      "18. JATashpulatov: 5 выполненных заданий на 100%\n",
      "19. ruslanyunusov: 5 выполненных заданий на 100%\n",
      "20. Aldnoa19: 4 выполненных заданий на 100%\n",
      "21. AnnaMargolina: 4 выполненных заданий на 100%\n",
      "22. irsalieva: 4 выполненных заданий на 100%\n",
      "23. ptdltt: 4 выполненных заданий на 100%\n",
      "24. Sergey-1990: 4 выполненных заданий на 100%\n",
      "25. ADKazdym: 3 выполненных заданий на 100%\n",
      "26. AndVlIv: 3 выполненных заданий на 100%\n",
      "27. ScherbakovaTA: 3 выполненных заданий на 100%\n",
      "28. ValliTim: 3 выполненных заданий на 100%\n",
      "29. vssachenko: 3 выполненных заданий на 100%\n",
      "30. isergy: 2 выполненных заданий на 100%\n",
      "31. koshakm5: 2 выполненных заданий на 100%\n",
      "32. login in github: 0 выполненных заданий на 100%\n",
      "33. 22malvina: 0 выполненных заданий на 100%\n",
      "34. AAEltsov: 0 выполненных заданий на 100%\n",
      "35. AAKesareva: 0 выполненных заданий на 100%\n",
      "36. ADBukreev: 0 выполненных заданий на 100%\n",
      "37. ALZharin: 0 выполненных заданий на 100%\n",
      "38. AMAbduhanov: 0 выполненных заданий на 100%\n",
      "39. amtsu: 0 выполненных заданий на 100%\n",
      "40. andreev-aleksey: 0 выполненных заданий на 100%\n",
      "41. andreev-alexander: 0 выполненных заданий на 100%\n",
      "42. anton-kuvalda: 0 выполненных заданий на 100%\n",
      "43. AVGorbatenko: 0 выполненных заданий на 100%\n",
      "44. boberushka: 0 выполненных заданий на 100%\n",
      "45. cipperOK: 0 выполненных заданий на 100%\n",
      "46. deep4ik: 0 выполненных заданий на 100%\n",
      "47. dimer404: 0 выполненных заданий на 100%\n",
      "48. DN151991: 0 выполненных заданий на 100%\n",
      "49. drrryfox: 0 выполненных заданий на 100%\n",
      "50. EAWolkov: 0 выполненных заданий на 100%\n",
      "51. ekaterinacu: 0 выполненных заданий на 100%\n",
      "52. ERSaliev: 0 выполненных заданий на 100%\n",
      "53. find-y: 0 выполненных заданий на 100%\n",
      "54. il-62: 0 выполненных заданий на 100%\n",
      "55. IRSalieva: 0 выполненных заданий на 100%\n",
      "56. Jetfriday: 0 выполненных заданий на 100%\n",
      "57. jutkaris: 0 выполненных заданий на 100%\n",
      "58. mari-grisha: 0 выполненных заданий на 100%\n",
      "59. Mcroosh: 0 выполненных заданий на 100%\n",
      "60. Optovik0: 0 выполненных заданий на 100%\n",
      "61. p1em4g: 0 выполненных заданий на 100%\n",
      "62. ParnishkaTony: 0 выполненных заданий на 100%\n",
      "63. SAMalcev: 0 выполненных заданий на 100%\n",
      "64. StasGri: 0 выполненных заданий на 100%\n",
      "65. SVAlekseyeva: 0 выполненных заданий на 100%\n"
     ]
    }
   ],
   "source": [
    "def sorted_users(file_name):\n",
    "    \"\"\"функция выводит отсортированный список от большего к меньшему по выполненным заданиям на 100\"\"\"\n",
    "    with open(file_name, \"r\") as file:\n",
    "        reader = csv.reader(file)\n",
    "        data = []\n",
    "        for row in reader:\n",
    "            name = [row[0]]  # добавляем логин пользователя в начало списка\n",
    "            count = 0\n",
    "            for value in row[2:]:\n",
    "                value = value.strip()\n",
    "                if value in ['100','100%']:\n",
    "                    count += 1\n",
    "            name.append(count)\n",
    "            data.append(name)\n",
    "        \n",
    "    sorted_filtered_data = sorted(data, key=lambda x: x[1], reverse=True)\n",
    "    return sorted_filtered_data\n",
    "\n",
    "def top_five_users(file_name):\n",
    "    \"\"\" функция выводит топ пять выполнивших задания на 100%\"\"\"\n",
    "    #использую функцию напиманную ранее\n",
    "    sorted_list = sorted_users(file_name)\n",
    "    for i, row in enumerate(sorted_list[:], start=1):\n",
    "        print(f\"{i}. {row[0]}: {row[1]} выполненных заданий на 100%\")\n",
    "        \n",
    "top_five_users(\"hw_status.csv\")"
   ]
  },
  {
   "cell_type": "markdown",
   "id": "eb1ebe3b-5fa4-4c7e-a203-0ba0d9ec5af7",
   "metadata": {},
   "source": [
    "6. Вывести  с 11 по 15 позиции тех кто делал подход к заданиям отсортировав их по количеству заданий выполненных на 100 %."
   ]
  },
  {
   "cell_type": "code",
   "execution_count": 32,
   "id": "aaa8348c-cd87-4cdb-96e2-01cd3dfb919b",
   "metadata": {},
   "outputs": [
    {
     "name": "stdout",
     "output_type": "stream",
     "text": [
      "11. Rikacom: 8 выполненных заданий на 100%\n",
      "12. Anzhela-Volodina: 7 выполненных заданий на 100%\n",
      "13. okorch: 7 выполненных заданий на 100%\n",
      "14. PterOculus: 7 выполненных заданий на 100%\n",
      "15. VladimirVBykov: 6 выполненных заданий на 100%\n"
     ]
    }
   ],
   "source": [
    "def users_position(file_name):\n",
    "    \"\"\"выводит с 11 по 15 позиции, выполнивших задание на 100%\"\"\"\n",
    "    # использую функцию написанную ранее\n",
    "    sorted_list = sorted_users(file_name)\n",
    "    for i, row in enumerate(sorted_list[11:16], start=11):\n",
    "        print(f\"{i}. {row[0]}: {row[1]} выполненных заданий на 100%\")\n",
    "    \n",
    "users_position(\"hw_status.csv\")"
   ]
  },
  {
   "cell_type": "markdown",
   "id": "ea428e71-cba7-4a1c-a4b4-b49800c9a0fd",
   "metadata": {},
   "source": [
    "7. Вернуть позицию в рейтинге по выполненным  заданиям для конкретного участника, используя его логин на гитхабе."
   ]
  },
  {
   "cell_type": "code",
   "execution_count": 33,
   "id": "c90fa39a-47b0-45df-b51d-e18c8d4ced7b",
   "metadata": {},
   "outputs": [
    {
     "name": "stdout",
     "output_type": "stream",
     "text": [
      "Позиция в рейтинге 14\n"
     ]
    }
   ],
   "source": [
    "def position_in_ranking(file_name, github_username) -> int:\n",
    "    \"\"\"выводит рейтинг для участника, используя его логин на гитхабе\"\"\"\n",
    "    sorted_list = sorted_users(file_name)\n",
    "    position = None\n",
    "    for i, (username, _) in enumerate(sorted_list, start=1):\n",
    "        if username == github_username:\n",
    "            position = i - 1\n",
    "            \n",
    "    return position\n",
    "    \n",
    "position_in_ranking(\"hw_status.csv\", \"PterOculus\")\n",
    "рterOculus = position_in_ranking(\"hw_status.csv\", \"PterOculus\")\n",
    "print(f\"Позиция в рейтинге {рterOculus}\")"
   ]
  },
  {
   "cell_type": "markdown",
   "id": "69ea818d-b457-4a9d-af14-d7f72c75f7de",
   "metadata": {},
   "source": [
    "8. Вернуть позицию в рейтинге по выполненным  заданиям для конкретного участника и количество занятий на которых он был, используя его логин на гитхабе.\n",
    "\n"
   ]
  },
  {
   "cell_type": "code",
   "execution_count": 68,
   "id": "f3d433b9-92e2-4df2-a439-e58aa1b41cdf",
   "metadata": {},
   "outputs": [
    {
     "name": "stdout",
     "output_type": "stream",
     "text": [
      " Позиция в рейтинге: 14\n",
      " Количество посещенных лекций: 5\n"
     ]
    }
   ],
   "source": [
    "def position_and_sessions_by_username(file_visit_status, username):\n",
    "    \"\"\"возвращает позицию в рейтинге и количество выполненных заданий для участника\"\"\"\n",
    "    with open(file_visit_status, \"r\") as file:\n",
    "        reader = csv.reader(file)\n",
    "        \n",
    "        count = 0\n",
    "        for row in reader:\n",
    "            if row[0] == username:  \n",
    "                for value in row[2:]:  \n",
    "                    if value and value not in ['0', '-']:\n",
    "                        count += 1\n",
    "        \n",
    "    # получаем позицию в рейтинге по выполненным заданиям используя функцю написанную ранее\n",
    "    position = position_in_ranking(\"hw_status.csv\", username)\n",
    "\n",
    "    print(f\" Позиция в рейтинге: {position}\\n Количество посещенных лекций: {count}\")\n",
    "\n",
    "position_and_sessions_by_username(\"visits_status.csv\", \"PterOculus\")"
   ]
  },
  {
   "cell_type": "markdown",
   "id": "35daff86-6ca3-4ceb-b76c-537b29155ff7",
   "metadata": {},
   "source": [
    "9. \n",
    "Вычислить медиану количества выполненных заданий среди выбранных пользоваелейт\n"
   ]
  },
  {
   "cell_type": "code",
   "execution_count": 90,
   "id": "45578e67-032c-405a-9069-b7a51703c092",
   "metadata": {},
   "outputs": [
    {
     "name": "stdout",
     "output_type": "stream",
     "text": [
      "[13, 11, 10, 9, 9, 8, 8, 8, 8, 8, 8, 8, 7, 7, 7, 6, 5, 5, 5, 4, 4, 4, 4, 4, 3, 3, 3, 3, 3, 2, 2]\n"
     ]
    }
   ],
   "source": [
    "def func(file_name):\n",
    "    \"\"\"функция выводит количество выполневших задания на 100, отсортировав их\"\"\"\n",
    "    sorted_list = sorted_users(file_name)\n",
    "    data = []\n",
    "    for row in sorted_list:\n",
    "        value = row[1]\n",
    "        if value != 0:\n",
    "            data.append(row[1])\n",
    "            \n",
    "    sorted_filtered_data = sorted(data, reverse=True)\n",
    "    return sorted_filtered_data\n",
    "\n",
    "s = func(\"hw_status.csv\")\n",
    "print(s)"
   ]
  },
  {
   "cell_type": "code",
   "execution_count": 63,
   "id": "a2724205-2fb1-4dc4-a022-a2d9d40cc50b",
   "metadata": {},
   "outputs": [
    {
     "data": {
      "text/plain": [
       "6"
      ]
     },
     "execution_count": 63,
     "metadata": {},
     "output_type": "execute_result"
    }
   ],
   "source": [
    "import statistics\n",
    "\n",
    "def calculate_median(file_name) -> int:\n",
    "    sorted_list = func(file_name)\n",
    "    median = statistics.median(sorted_list)\n",
    "    return median\n",
    "    \n",
    "calculate_median(\"hw_status.csv\")"
   ]
  },
  {
   "cell_type": "markdown",
   "id": "05cb1f7e-59a6-463e-b7a6-4900d1271b01",
   "metadata": {},
   "source": [
    "10. Узнать в какой часть медианы ( левой или правой) находится участник используя логин гитхаба.\n"
   ]
  },
  {
   "cell_type": "code",
   "execution_count": 91,
   "id": "0f41a7ae-08f6-45f2-ab86-5f04d431199a",
   "metadata": {},
   "outputs": [
    {
     "data": {
      "text/plain": [
       "'Пользователь VladimirVBykov находится в  медиане.'"
      ]
     },
     "execution_count": 91,
     "metadata": {},
     "output_type": "execute_result"
    }
   ],
   "source": [
    "def user_median_position(file_name, github_username):\n",
    "    \"\"\"Определяет, в какой части медианы находится участник\"\"\"\n",
    "    sorted_list = func(file_name)\n",
    "    len_list = len(sorted_list)\n",
    "    \n",
    "    median_index = len(sorted_list) // 2\n",
    "    user_position = position_in_ranking(file_name, github_username)\n",
    "    \n",
    "    if user_position is None:\n",
    "            return f\"Пользователь {github_username} не найден в рейтинге.\"\n",
    "    \n",
    "    if user_position < median_index:\n",
    "        return f\"Пользователь {github_username} находится в левой части медианы.\"\n",
    "    elif user_position > median_index:\n",
    "        return f\"Пользователь {github_username} находится в правой части медианы.\"\n",
    "    else:\n",
    "        return f\"Пользователь {github_username} находится в  медиане.\"\n",
    "    \n",
    "       \n",
    "user_median_position(\"hw_status.csv\", \"VladimirVBykov\")    "
   ]
  },
  {
   "cell_type": "code",
   "execution_count": 88,
   "id": "3b408819-9c98-4e9e-8026-b2c728ccebe7",
   "metadata": {},
   "outputs": [],
   "source": [
    "# 16.VladimirVBykov: 6 выполненных заданий на 100%\n",
    "# 17. EANabatov: 5 выполненных заданий на 100%\n",
    "# 18. JATashpulatov: 5 выполненных заданий на 100%\n",
    "# 1. theRate: 13 выполненных заданий на 100%\n",
    "# 31. koshakm5: 2 выполненных заданий на 100%"
   ]
  },
  {
   "cell_type": "code",
   "execution_count": null,
   "id": "07b13c2b-b89e-450d-a017-506f1c36adfb",
   "metadata": {},
   "outputs": [],
   "source": []
  }
 ],
 "metadata": {
  "kernelspec": {
   "display_name": "Python 3 (ipykernel)",
   "language": "python",
   "name": "python3"
  },
  "language_info": {
   "codemirror_mode": {
    "name": "ipython",
    "version": 3
   },
   "file_extension": ".py",
   "mimetype": "text/x-python",
   "name": "python",
   "nbconvert_exporter": "python",
   "pygments_lexer": "ipython3",
   "version": "3.10.10"
  }
 },
 "nbformat": 4,
 "nbformat_minor": 5
}
