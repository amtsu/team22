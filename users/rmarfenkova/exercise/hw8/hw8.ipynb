{
 "cells": [
  {
   "cell_type": "markdown",
   "id": "3c89241f-96c9-44e0-b9cb-7d0d5e327b8b",
   "metadata": {},
   "source": [
    "***Теперь задание hw8:***\n",
    "\n",
    "Тесты для функции triangle_type():\n",
    "1. Написать достаточное количество позитивных тестов;\n",
    "2. Написать два-три негативных теста;\n",
    "3. Вызвать все тесты (вручную), убедиться в их работоспособности.\n",
    "Система тестирования:\n",
    "Так как мы используем механизм исключений, то ошибка в одном из тестов вызовет прекращение выполнения дальнейших тестов, если их просто так вызвать\n",
    "(измените функцию triangle_type() так, чтобы один из тестов перестал выполняться и проверьте это)\n",
    "В обычной ситуации мы бы воспользовались средством pytest, но в рамках этого задания необходимо написать свой собственный макет pytest.\n",
    "Итак:\n",
    "Нужно написать функцию, выполняющую роль \"системы тестирования\". Данная функция должна:\n",
    "1. Вызвать все созданные вами на предыдущем этапе функции-тесты;\n",
    "2. В случае, если какой-то тест не выполнен, выдать соответствующее сообщение, и продолжить вызов оставшихся тестов;\n",
    "3. В случае, если какой-то тест выполнен, выдать соответствующее сообщение;\n",
    "4.  Выдать статистику выполненных/не выполненных тестов (например, \"выполнено столько-то тестов, не выполнено столько-то\").\n",
    "Модификация кода при наличии тестов:\n",
    "1. Проведите анализ кода функции triangle_type(), и:\n",
    "2. Попробуйте в ней что-то сломать, и посмотрите как это отразится на выполнении набора тестов;\n",
    "3. Попробуйте что-то в ней улучшить, и посмотрите как это отразится на выполнении набора тестов."
   ]
  },
  {
   "cell_type": "code",
   "execution_count": 91,
   "id": "2b38c18b-b785-4b99-9b15-4f43e2f80773",
   "metadata": {},
   "outputs": [],
   "source": [
    "def triangle_type(a: float, b: float, c: float) -> str:\n",
    "    \"\"\"\n",
    "    Функция, определяющая тип треугольника по длинам его сторон\n",
    "    \"\"\"\n",
    "    result = \"не треугольник\"\n",
    "    triangle_exist = (a < (b + c)) and (b < (a + c)) and (c < (a + b))\n",
    "    if triangle_exist:\n",
    "        sides = [a, b, c]\n",
    "        sides.sort()\n",
    "        acuteTriangle = (sides[0]**2 + sides[1]**2) > sides[2]**2\n",
    "        obtuseTriangle = (sides[0]**2 + sides[1]**2) < sides[2]**2\n",
    "        rightTriangle = abs((sides[0]**2 + sides[1]**2) - sides[2]**2) <= 0.01\n",
    "\n",
    "        if acuteTriangle:\n",
    "            result = \"остроугольный\"\n",
    "        elif obtuseTriangle:\n",
    "            result = \"тупоугольный\"\n",
    "        elif rightTriangle:\n",
    "            result  = \"прямоугольный\"\n",
    "    return result\n"
   ]
  },
  {
   "cell_type": "markdown",
   "id": "c1dfd217-576d-4831-9a7a-6e4e53268270",
   "metadata": {},
   "source": [
    "***позитивные тесты***"
   ]
  },
  {
   "cell_type": "code",
   "execution_count": 92,
   "id": "27db5129-d31c-4123-86fd-4866fda536e1",
   "metadata": {},
   "outputs": [],
   "source": [
    "def test_triangle_exist():\n",
    "    \"\"\"\n",
    "    тестируем не треугольник\n",
    "    \"\"\"\n",
    "    input = [3,3,9]\n",
    "    expected =  \"не треугольник\"\n",
    "    assert expected == triangle_type(*input), \"Ошибка, ожидаемый результат - не треугольник\"\n",
    "\n",
    "\n",
    "def test_acute_Triangl():\n",
    "    \"\"\"\n",
    "    тестируем остроугольность треугольника\n",
    "    \"\"\"\n",
    "    input = [12,12,5] # такие стороны у остроугольного треугольника \n",
    "    expected =  \"остроугольный\"\n",
    "    assert expected == triangle_type(*input), \"Ошибка, ожидаемый результат - остроугольный.\"\n",
    "\n",
    "\n",
    "def test_obtuse_Triangl():\n",
    "    \"\"\"\n",
    "    тестируем тупоугольный треугольника\n",
    "    \"\"\"\n",
    "    input = [9,5,6.5] \n",
    "    expected =  \"тупоугольный\"\n",
    "    assert expected == triangle_type(*input), \"Ошибка, ожидаемый результат - тупоугольный.\"\n",
    "\n",
    "\n",
    "def test_right_Triangle():\n",
    "    \"\"\"\n",
    "    тестируем прямоугольник\n",
    "    \"\"\"\n",
    "    input = [3, 4, 5]\n",
    "    expected = \"прямоугольный\"\n",
    "    assert expected == triangle_type(*input), \"Ошибка, ожидаемый результат - прямоугольный.\"\n",
    "\n"
   ]
  },
  {
   "cell_type": "markdown",
   "id": "5cebe025-eaaf-44d3-b29b-a564835378b8",
   "metadata": {},
   "source": [
    "***негативные тесты*** "
   ]
  },
  {
   "cell_type": "code",
   "execution_count": 93,
   "id": "180a1d66-66e9-4ff3-805e-a934736a1fae",
   "metadata": {},
   "outputs": [],
   "source": [
    " \n",
    "def test_entering_negative_number():\n",
    "    \"\"\"\n",
    "    тестируем ввод отрицательного числа\n",
    "    \"\"\"\n",
    "    input = [-1,4,5]\n",
    "    expected = \"Ошибка\"\n",
    "    assert expected == triangle_type(*input), \"Ошибка, введено отрицательное число\"\n",
    "        \n",
    "def test_entered_tring():\n",
    "    \"\"\"\n",
    "    тестируем ввод строки\n",
    "    \"\"\"\n",
    "    input = [\"3\", 4, 5 ]\n",
    "    expected = \"Ошибка\" \n",
    "    assert expected == triangle_type(*input), \"Ошибка, введена строка\"\n",
    "\n",
    "def test_no_input():\n",
    "    \"\"\"\n",
    "    тестируем ввод нулевого значения\n",
    "    \"\"\"\n",
    "    input = [0, 4, 5]\n",
    "    expected = \"Ошибка\" \n",
    "    assert expected == triangle_type(*input), \"Ошибка, введено нулевое значение\"\n",
    "    "
   ]
  },
  {
   "cell_type": "markdown",
   "id": "b2ec5e15-2b1c-49f9-9dfa-70d08846a974",
   "metadata": {},
   "source": [
    "***запускаю отдельные тесты***"
   ]
  },
  {
   "cell_type": "code",
   "execution_count": 94,
   "id": "0bd64459-d55e-4de2-a363-3cbf6876c985",
   "metadata": {},
   "outputs": [
    {
     "ename": "AssertionError",
     "evalue": "Ошибка, введено отрицательное число",
     "output_type": "error",
     "traceback": [
      "\u001b[0;31m---------------------------------------------------------------------------\u001b[0m",
      "\u001b[0;31mAssertionError\u001b[0m                            Traceback (most recent call last)",
      "Cell \u001b[0;32mIn[94], line 1\u001b[0m\n\u001b[0;32m----> 1\u001b[0m \u001b[43mtest_entering_negative_number\u001b[49m\u001b[43m(\u001b[49m\u001b[43m)\u001b[49m\n",
      "Cell \u001b[0;32mIn[93], line 7\u001b[0m, in \u001b[0;36mtest_entering_negative_number\u001b[0;34m()\u001b[0m\n\u001b[1;32m      5\u001b[0m \u001b[38;5;28minput\u001b[39m \u001b[38;5;241m=\u001b[39m [\u001b[38;5;241m-\u001b[39m\u001b[38;5;241m1\u001b[39m,\u001b[38;5;241m4\u001b[39m,\u001b[38;5;241m5\u001b[39m]\n\u001b[1;32m      6\u001b[0m expected \u001b[38;5;241m=\u001b[39m \u001b[38;5;124m\"\u001b[39m\u001b[38;5;124mОшибка\u001b[39m\u001b[38;5;124m\"\u001b[39m\n\u001b[0;32m----> 7\u001b[0m \u001b[38;5;28;01massert\u001b[39;00m expected \u001b[38;5;241m==\u001b[39m triangle_type(\u001b[38;5;241m*\u001b[39m\u001b[38;5;28minput\u001b[39m), \u001b[38;5;124m\"\u001b[39m\u001b[38;5;124mОшибка, введено отрицательное число\u001b[39m\u001b[38;5;124m\"\u001b[39m\n",
      "\u001b[0;31mAssertionError\u001b[0m: Ошибка, введено отрицательное число"
     ]
    }
   ],
   "source": [
    "test_entering_negative_number()"
   ]
  },
  {
   "cell_type": "code",
   "execution_count": 95,
   "id": "17627deb-c501-4897-82fc-826d737e3099",
   "metadata": {},
   "outputs": [
    {
     "ename": "TypeError",
     "evalue": "'<' not supported between instances of 'str' and 'int'",
     "output_type": "error",
     "traceback": [
      "\u001b[0;31m---------------------------------------------------------------------------\u001b[0m",
      "\u001b[0;31mTypeError\u001b[0m                                 Traceback (most recent call last)",
      "Cell \u001b[0;32mIn[95], line 1\u001b[0m\n\u001b[0;32m----> 1\u001b[0m \u001b[43mtest_entered_tring\u001b[49m\u001b[43m(\u001b[49m\u001b[43m)\u001b[49m\n",
      "Cell \u001b[0;32mIn[93], line 15\u001b[0m, in \u001b[0;36mtest_entered_tring\u001b[0;34m()\u001b[0m\n\u001b[1;32m     13\u001b[0m \u001b[38;5;28minput\u001b[39m \u001b[38;5;241m=\u001b[39m [\u001b[38;5;124m\"\u001b[39m\u001b[38;5;124m3\u001b[39m\u001b[38;5;124m\"\u001b[39m, \u001b[38;5;241m4\u001b[39m, \u001b[38;5;241m5\u001b[39m ]\n\u001b[1;32m     14\u001b[0m expected \u001b[38;5;241m=\u001b[39m \u001b[38;5;124m\"\u001b[39m\u001b[38;5;124mОшибка\u001b[39m\u001b[38;5;124m\"\u001b[39m \n\u001b[0;32m---> 15\u001b[0m \u001b[38;5;28;01massert\u001b[39;00m expected \u001b[38;5;241m==\u001b[39m \u001b[43mtriangle_type\u001b[49m\u001b[43m(\u001b[49m\u001b[38;5;241;43m*\u001b[39;49m\u001b[38;5;28;43minput\u001b[39;49m\u001b[43m)\u001b[49m, \u001b[38;5;124m\"\u001b[39m\u001b[38;5;124mОшибка, введена строка\u001b[39m\u001b[38;5;124m\"\u001b[39m\n",
      "Cell \u001b[0;32mIn[91], line 6\u001b[0m, in \u001b[0;36mtriangle_type\u001b[0;34m(a, b, c)\u001b[0m\n\u001b[1;32m      2\u001b[0m \u001b[38;5;250m\u001b[39m\u001b[38;5;124;03m\"\"\"\u001b[39;00m\n\u001b[1;32m      3\u001b[0m \u001b[38;5;124;03mФункция, определяющая тип треугольника по длинам его сторон\u001b[39;00m\n\u001b[1;32m      4\u001b[0m \u001b[38;5;124;03m\"\"\"\u001b[39;00m\n\u001b[1;32m      5\u001b[0m result \u001b[38;5;241m=\u001b[39m \u001b[38;5;124m\"\u001b[39m\u001b[38;5;124mне треугольник\u001b[39m\u001b[38;5;124m\"\u001b[39m\n\u001b[0;32m----> 6\u001b[0m triangle_exist \u001b[38;5;241m=\u001b[39m (\u001b[43ma\u001b[49m\u001b[43m \u001b[49m\u001b[38;5;241;43m<\u001b[39;49m\u001b[43m \u001b[49m\u001b[43m(\u001b[49m\u001b[43mb\u001b[49m\u001b[43m \u001b[49m\u001b[38;5;241;43m+\u001b[39;49m\u001b[43m \u001b[49m\u001b[43mc\u001b[49m\u001b[43m)\u001b[49m) \u001b[38;5;129;01mand\u001b[39;00m (b \u001b[38;5;241m<\u001b[39m (a \u001b[38;5;241m+\u001b[39m c)) \u001b[38;5;129;01mand\u001b[39;00m (c \u001b[38;5;241m<\u001b[39m (a \u001b[38;5;241m+\u001b[39m b))\n\u001b[1;32m      7\u001b[0m \u001b[38;5;28;01mif\u001b[39;00m triangle_exist:\n\u001b[1;32m      8\u001b[0m     sides \u001b[38;5;241m=\u001b[39m [a, b, c]\n",
      "\u001b[0;31mTypeError\u001b[0m: '<' not supported between instances of 'str' and 'int'"
     ]
    }
   ],
   "source": [
    "test_entered_tring()"
   ]
  },
  {
   "cell_type": "markdown",
   "id": "e68c0d04-2235-42af-bffc-f5da17a585ef",
   "metadata": {},
   "source": [
    "***запускаю все тесты***"
   ]
  },
  {
   "cell_type": "code",
   "execution_count": 96,
   "id": "13911f4d-1f1f-4bc0-923a-f6a7b7385255",
   "metadata": {},
   "outputs": [],
   "source": [
    "test_triangle_exist()\n",
    "test_acute_Triangl()\n",
    "test_obtuse_Triangl()\n",
    "test_right_Triangle()\n",
    "\n",
    "#test_entering_negative_number()  тут все с ошибкой, пока функцию не модифицировали\n",
    "#test_entered_tring()\n",
    "#test_no_input()"
   ]
  },
  {
   "cell_type": "markdown",
   "id": "81b08843-83b4-4352-a6f1-d91c29ddcfbd",
   "metadata": {},
   "source": [
    "***измените функцию triangle_type() так, чтобы один из тестов перестал выполняться и проверьте это***"
   ]
  },
  {
   "cell_type": "markdown",
   "id": "5ea13242-e273-4681-8f4a-74b2c25ccfae",
   "metadata": {},
   "source": [
    "***меняю знак > на < в остроугольном треугольнике***"
   ]
  },
  {
   "cell_type": "code",
   "execution_count": 120,
   "id": "2c5063c1-f95b-4c99-a34c-18e5206ab82c",
   "metadata": {},
   "outputs": [],
   "source": [
    "def triangle_type(a: float, b: float, c: float) -> str:\n",
    "    \"\"\"\n",
    "    Функция, определяющая тип треугольника по длинам его сторон\n",
    "    \"\"\"\n",
    "    result = \"не треугольник\"\n",
    "    triangle_exist = (a < (b + c)) and (b < (a + c)) and (c < (a + b))\n",
    "    if triangle_exist:\n",
    "        sides = [a, b, c]\n",
    "        sides.sort()\n",
    "        acuteTriangle = (sides[0]**2 + sides[1]**2) < sides[2]**2   \n",
    "        obtuseTriangle = (sides[0]**2 + sides[1]**2) < sides[2]**2\n",
    "        rightTriangle = abs((sides[0]**2 + sides[1]**2) - sides[2]**2) <= 0.01\n",
    "\n",
    "        if acuteTriangle:\n",
    "            result = \"остроугольный\"\n",
    "        elif obtuseTriangle:\n",
    "            result = \"тупоугольный\"\n",
    "        elif rightTriangle:\n",
    "            result  = \"прямоугольный\"\n",
    "    return result"
   ]
  },
  {
   "cell_type": "code",
   "execution_count": 121,
   "id": "ac74e055-d3ce-4303-93f3-04d1121fb935",
   "metadata": {},
   "outputs": [],
   "source": [
    "tests = [\n",
    "    test_triangle_exist,\n",
    "    test_acute_Triangl,\n",
    "    test_obtuse_Triangl,\n",
    "    test_right_Triangle,\n",
    "    test_entering_negative_number,\n",
    "    test_entered_tring,\n",
    "    test_no_input\n",
    "    ]"
   ]
  },
  {
   "cell_type": "markdown",
   "id": "f5a82f97-15d4-4559-9e85-6975e3d7c35a",
   "metadata": {},
   "source": [
    "***функция тестирования***"
   ]
  },
  {
   "cell_type": "code",
   "execution_count": 122,
   "id": "169afb05-8599-463a-a868-a166acf60b41",
   "metadata": {},
   "outputs": [
    {
     "name": "stdout",
     "output_type": "stream",
     "text": [
      "Тест test_triangle_exist \u001b[32mуспешно выполнен\u001b[0m\n",
      "Тест test_acute_Triangl \u001b[31mне выполнен\u001b[0m\n",
      "Тест test_obtuse_Triangl \u001b[31mне выполнен\u001b[0m\n",
      "Тест test_right_Triangle \u001b[32mуспешно выполнен\u001b[0m\n",
      "Тест test_entering_negative_number \u001b[31mне выполнен\u001b[0m\n",
      "Тест test_entered_tring \u001b[31mне выполнен\u001b[0m\n",
      "Тест test_no_input \u001b[31mне выполнен\u001b[0m\n",
      "\u001b[32mУспешно выполнено тестов: 2\u001b[0m   \u001b[31mНе выполнено тестов: 5\u001b[0m\n"
     ]
    }
   ],
   "source": [
    "def run_all_tests(tests):\n",
    "    successful_tests = 0\n",
    "    failed_tests = 0\n",
    "    for test in tests:\n",
    "        try:\n",
    "            test()\n",
    "            successful_tests += 1\n",
    "            print(f\"Тест {test.__name__} \\033[32mуспешно выполнен\\033[0m\")\n",
    "        except Exception:\n",
    "            failed_tests += 1\n",
    "            print(f\"Тест {test.__name__} \\033[31mне выполнен\\033[0m\")\n",
    "\n",
    "    print(f\"\\033[32mУспешно выполнено тестов: {successful_tests}\\033[0m   \\033[31mНе выполнено тестов: {failed_tests}\\033[0m\")\n",
    "\n",
    "run_all_tests(tests)"
   ]
  },
  {
   "cell_type": "markdown",
   "id": "0a0f6f1e-8fac-417c-8941-44bdf20fde02",
   "metadata": {},
   "source": [
    "***возвращаю все обратно и запускаю тест снова***"
   ]
  },
  {
   "cell_type": "code",
   "execution_count": 123,
   "id": "803dab79-85c5-4280-9603-d1510a21148d",
   "metadata": {},
   "outputs": [],
   "source": [
    "def triangle_type(a: float, b: float, c: float) -> str:\n",
    "    \"\"\"\n",
    "    Функция, определяющая тип треугольника по длинам его сторон\n",
    "    \"\"\"\n",
    "    result = \"не треугольник\"\n",
    "    triangle_exist = (a < (b + c)) and (b < (a + c)) and (c < (a + b))\n",
    "    if triangle_exist:\n",
    "        sides = [a, b, c]\n",
    "        sides.sort()\n",
    "        acuteTriangle = (sides[0]**2 + sides[1]**2) > sides[2]**2\n",
    "        obtuseTriangle = (sides[0]**2 + sides[1]**2) < sides[2]**2\n",
    "        rightTriangle = abs((sides[0]**2 + sides[1]**2) - sides[2]**2) <= 0.01\n",
    "\n",
    "        if acuteTriangle:\n",
    "            result = \"остроугольный\"\n",
    "        elif obtuseTriangle:\n",
    "            result = \"тупоугольный\"\n",
    "        elif rightTriangle:\n",
    "            result  = \"прямоугольный\"\n",
    "    return result"
   ]
  },
  {
   "cell_type": "code",
   "execution_count": 124,
   "id": "4400c548-a6ec-469a-a4de-d93251572b3a",
   "metadata": {},
   "outputs": [
    {
     "name": "stdout",
     "output_type": "stream",
     "text": [
      "Тест test_triangle_exist \u001b[32mуспешно выполнен\u001b[0m\n",
      "Тест test_acute_Triangl \u001b[32mуспешно выполнен\u001b[0m\n",
      "Тест test_obtuse_Triangl \u001b[32mуспешно выполнен\u001b[0m\n",
      "Тест test_right_Triangle \u001b[32mуспешно выполнен\u001b[0m\n",
      "Тест test_entering_negative_number \u001b[31mне выполнен\u001b[0m\n",
      "Тест test_entered_tring \u001b[31mне выполнен\u001b[0m\n",
      "Тест test_no_input \u001b[31mне выполнен\u001b[0m\n",
      "\u001b[32mУспешно выполнено тестов: 4\u001b[0m   \u001b[31mНе выполнено тестов: 3\u001b[0m\n"
     ]
    }
   ],
   "source": [
    "run_all_tests(tests)"
   ]
  },
  {
   "cell_type": "markdown",
   "id": "16d4dbbc-4b09-4533-a092-04baa131a3ec",
   "metadata": {},
   "source": [
    "***модифицируем функцию*** теперь на вход не могут попасть строки, отрицательные цисла и ноль"
   ]
  },
  {
   "cell_type": "code",
   "execution_count": 125,
   "id": "2ce34484-40b3-4486-a173-b2d27babfbfe",
   "metadata": {},
   "outputs": [],
   "source": [
    "def triangle_type(a: float, b: float, c: float) -> str:\n",
    "    \"\"\"\n",
    "    Функция, определяющая тип треугольника по длинам его сторон\n",
    "    \"\"\"\n",
    "    if isinstance(a, str) or isinstance(b, str) or isinstance(c, str) or a <= 0 or b <= 0 or c <= 0:\n",
    "        return \"Ошибка\"  \n",
    "    result = \"не треугольник\"\n",
    "    triangle_exist = (a < (b + c)) and (b < (a + c)) and (c < (a + b))\n",
    "    if triangle_exist:\n",
    "        sides = [a, b, c]\n",
    "        sides.sort()\n",
    "        acuteTriangle = (sides[0]**2 + sides[1]**2) > sides[2]**2\n",
    "        obtuseTriangle = (sides[0]**2 + sides[1]**2) < sides[2]**2\n",
    "        rightTriangle = abs((sides[0]**2 + sides[1]**2) - sides[2]**2) <= 0.01\n",
    "\n",
    "        if acuteTriangle:\n",
    "            result = \"остроугольный\"\n",
    "        elif obtuseTriangle:\n",
    "            result = \"тупоугольный\"\n",
    "        elif rightTriangle:\n",
    "            result  = \"прямоугольный\"\n",
    "    return result"
   ]
  },
  {
   "cell_type": "code",
   "execution_count": 126,
   "id": "c3439e11-0de9-4f49-b3e1-ae947e4af7bb",
   "metadata": {},
   "outputs": [
    {
     "name": "stdout",
     "output_type": "stream",
     "text": [
      "Тест test_triangle_exist \u001b[32mуспешно выполнен\u001b[0m\n",
      "Тест test_acute_Triangl \u001b[32mуспешно выполнен\u001b[0m\n",
      "Тест test_obtuse_Triangl \u001b[32mуспешно выполнен\u001b[0m\n",
      "Тест test_right_Triangle \u001b[32mуспешно выполнен\u001b[0m\n",
      "Тест test_entering_negative_number \u001b[32mуспешно выполнен\u001b[0m\n",
      "Тест test_entered_tring \u001b[32mуспешно выполнен\u001b[0m\n",
      "Тест test_no_input \u001b[32mуспешно выполнен\u001b[0m\n",
      "\u001b[32mУспешно выполнено тестов: 7\u001b[0m   \u001b[31mНе выполнено тестов: 0\u001b[0m\n"
     ]
    }
   ],
   "source": [
    "run_all_tests(tests)"
   ]
  },
  {
   "cell_type": "code",
   "execution_count": null,
   "id": "16db91bb-30eb-4e61-a286-832145e02e62",
   "metadata": {},
   "outputs": [],
   "source": []
  }
 ],
 "metadata": {
  "kernelspec": {
   "display_name": "Python 3 (ipykernel)",
   "language": "python",
   "name": "python3"
  },
  "language_info": {
   "codemirror_mode": {
    "name": "ipython",
    "version": 3
   },
   "file_extension": ".py",
   "mimetype": "text/x-python",
   "name": "python",
   "nbconvert_exporter": "python",
   "pygments_lexer": "ipython3",
   "version": "3.10.10"
  }
 },
 "nbformat": 4,
 "nbformat_minor": 5
}
