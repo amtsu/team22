{
 "cells": [
  {
   "cell_type": "markdown",
   "id": "ad735e6d-f3ea-41ad-af96-31bcb35388d8",
   "metadata": {},
   "source": [
    "# SQL"
   ]
  },
  {
   "cell_type": "markdown",
   "id": "d9daefc1-b83c-4c1a-b8a1-962a4247ff8d",
   "metadata": {},
   "source": [
    "Для анализа дан небольшой фаил размеров в 240 Мб содержащий только информацию о новостройках. Содержит срезы на каждый день(кроме дней поломок - простоя сервиса) Т.е. есть по каждому обекту есть информация за каждый день. Подучатеся в год(365 дней) информация об обект дублируется 365 раз.\n",
    "Учтите что сложный селект может работать не быстро."
   ]
  },
  {
   "cell_type": "markdown",
   "id": "f290d893-c83b-430b-a821-759c7a9e062d",
   "metadata": {},
   "source": [
    "Для анализа использовать фаил с базой /home/synchronize_data/price_analytics/24.db.copied"
   ]
  },
  {
   "cell_type": "code",
   "execution_count": 5,
   "id": "7c9f9a58-9cdc-481c-b296-550d18f5dc9a",
   "metadata": {},
   "outputs": [
    {
     "name": "stdout",
     "output_type": "stream",
     "text": [
      "-rw-r--r-- 1 synchronize_data synchronize_data 251686912 Jun  2 18:12 /home/synchronize_data/price_analytics/24.db.copied\n"
     ]
    }
   ],
   "source": [
    "!ls -la /home/synchronize_data/price_analytics/24.db.copied"
   ]
  },
  {
   "cell_type": "markdown",
   "id": "7697b022-d2ce-43b6-ab30-f63107fd46ef",
   "metadata": {},
   "source": [
    "# Пример использования: задача вывести самую дорогую квартиру из имеющихся."
   ]
  },
  {
   "cell_type": "markdown",
   "id": "ab4a29ae-3c05-4e51-b079-9d2f8040b7a5",
   "metadata": {},
   "source": [
    "Запустите следующие 6 строчек, они должны отработать корректно."
   ]
  },
  {
   "cell_type": "code",
   "execution_count": 6,
   "id": "2f19a55a-ad2b-40c5-b33a-4ff94b0aaac2",
   "metadata": {},
   "outputs": [],
   "source": [
    "import matplotlib.pyplot as plt\n",
    "import sqlite3\n",
    "import json"
   ]
  },
  {
   "cell_type": "code",
   "execution_count": 7,
   "id": "58a22a56-9b2a-4bb3-aebb-4cdc127088c3",
   "metadata": {},
   "outputs": [],
   "source": [
    "connection = sqlite3.connect('/home/synchronize_data/price_analytics/24.db.copied')\n",
    "cursor = connection.cursor()"
   ]
  },
  {
   "cell_type": "markdown",
   "id": "00e2515d-6736-46ad-8d5b-7b9b6ad0acb6",
   "metadata": {},
   "source": [
    "Поля рекомендованные:\n",
    "            id,\n",
    "            \"title\",\n",
    "            \"price\",\n",
    "            \"price_sale\",\n",
    "            date(datetime_create) as date,\n",
    "            \"brand\",\n",
    "            \"apartment_area\",\n",
    "            \"apartment_floor\",\n",
    "            \"apartment_floors_total\",\n",
    "            \"apartment_room\",\n",
    "            \"apartment_ppm\""
   ]
  },
  {
   "cell_type": "code",
   "execution_count": 8,
   "id": "032f49e4-7990-46ce-a94e-c5492e646635",
   "metadata": {},
   "outputs": [
    {
     "data": {
      "text/plain": [
       "<sqlite3.Cursor at 0x7f97f561f1c0>"
      ]
     },
     "execution_count": 8,
     "metadata": {},
     "output_type": "execute_result"
    }
   ],
   "source": [
    "cursor.execute(\"\"\"\n",
    "SELECT \n",
    "    *\n",
    "FROM copied\n",
    "where \n",
    "    category = \"Новостройки\" \n",
    "    or category = \"Реновация\"\n",
    "ORDER BY price desc\n",
    "LIMIT 1\n",
    "\"\"\")"
   ]
  },
  {
   "cell_type": "code",
   "execution_count": 9,
   "id": "849df813-48b7-4e85-a356-0820d3977141",
   "metadata": {},
   "outputs": [],
   "source": [
    "flat = cursor.fetchall()"
   ]
  },
  {
   "cell_type": "code",
   "execution_count": 10,
   "id": "58d9a66d-4cb6-4322-9f50-6a5f9e1130df",
   "metadata": {},
   "outputs": [
    {
     "data": {
      "text/plain": [
       "[(44871689,\n",
       "  'Саввинская 27 | 27 | 2 | 340.9 | Саввинская 27 | 55.730824,37.557959 | 1',\n",
       "  847419076,\n",
       "  847419076,\n",
       "  '2024-06-02 06:13:37.130681',\n",
       "  'Новостройки',\n",
       "  'level.ru',\n",
       "  'https://level.ru/old/sav27/apartment/6room/5-1/',\n",
       "  340.9,\n",
       "  2,\n",
       "  6,\n",
       "  6,\n",
       "  2485829)]"
      ]
     },
     "execution_count": 10,
     "metadata": {},
     "output_type": "execute_result"
    }
   ],
   "source": [
    "flat"
   ]
  },
  {
   "cell_type": "code",
   "execution_count": 136,
   "id": "bfc5987e-8c1a-4f94-81cf-cb78ff8e7a7e",
   "metadata": {},
   "outputs": [],
   "source": [
    "# !pip install ipython-sql"
   ]
  },
  {
   "cell_type": "code",
   "execution_count": 137,
   "id": "a81a9e8c-a95b-4314-a589-3b53b1aa0b93",
   "metadata": {},
   "outputs": [],
   "source": [
    "# pip install --upgrade pip"
   ]
  },
  {
   "cell_type": "code",
   "execution_count": 11,
   "id": "a74e0c70-86c4-40c3-ab3f-53cbcdd284b7",
   "metadata": {},
   "outputs": [],
   "source": [
    "%reload_ext sql \n",
    "%config SqlMagic.displaycon = False\n",
    "%config SqlMagic.feedback = False"
   ]
  },
  {
   "cell_type": "code",
   "execution_count": 12,
   "id": "e24693f9-aa99-437d-aa99-4c54971e725d",
   "metadata": {},
   "outputs": [],
   "source": [
    "%sql sqlite:////home/synchronize_data/price_analytics/24.db.copied\n",
    "#%sql sqlite:///24.db.copied"
   ]
  },
  {
   "cell_type": "code",
   "execution_count": 162,
   "id": "fb48292e-ba1e-4ba3-883d-c14a212d0598",
   "metadata": {},
   "outputs": [
    {
     "data": {
      "text/html": [
       "<table>\n",
       "    <thead>\n",
       "        <tr>\n",
       "            <th>id</th>\n",
       "            <th>title</th>\n",
       "            <th>price</th>\n",
       "            <th>price_sale</th>\n",
       "            <th>datetime_create</th>\n",
       "            <th>category</th>\n",
       "            <th>brand</th>\n",
       "            <th>url</th>\n",
       "            <th>apartment_area</th>\n",
       "            <th>apartment_floor</th>\n",
       "            <th>apartment_floors_total</th>\n",
       "            <th>apartment_room</th>\n",
       "            <th>apartment_ppm</th>\n",
       "        </tr>\n",
       "    </thead>\n",
       "    <tbody>\n",
       "        <tr>\n",
       "            <td>598</td>\n",
       "            <td>Причальный Bосток 29 65.3 Причальный пр., д. 8 55.76018,37.517482</td>\n",
       "            <td>37527037</td>\n",
       "            <td>26268925</td>\n",
       "            <td>2022-12-05 13:38:36.641439</td>\n",
       "            <td>Новостройки</td>\n",
       "            <td>level.ru</td>\n",
       "            <td>url_example</td>\n",
       "            <td>None</td>\n",
       "            <td>None</td>\n",
       "            <td>None</td>\n",
       "            <td>None</td>\n",
       "            <td>None</td>\n",
       "        </tr>\n",
       "        <tr>\n",
       "            <td>599</td>\n",
       "            <td>Саввинская 17 17 4 82.5  55.734600731695195,37.565715889000494</td>\n",
       "            <td>202359478</td>\n",
       "            <td>202359478</td>\n",
       "            <td>2022-12-05 13:38:36.652957</td>\n",
       "            <td>Новостройки</td>\n",
       "            <td>level.ru</td>\n",
       "            <td>url_example</td>\n",
       "            <td>None</td>\n",
       "            <td>None</td>\n",
       "            <td>None</td>\n",
       "            <td>None</td>\n",
       "            <td>None</td>\n",
       "        </tr>\n",
       "        <tr>\n",
       "            <td>600</td>\n",
       "            <td>Причальный Bосток 31 65.3 Причальный пр., д. 8 55.76018,37.517482</td>\n",
       "            <td>37802086</td>\n",
       "            <td>26461460</td>\n",
       "            <td>2022-12-05 13:38:36.662478</td>\n",
       "            <td>Новостройки</td>\n",
       "            <td>level.ru</td>\n",
       "            <td>url_example</td>\n",
       "            <td>None</td>\n",
       "            <td>None</td>\n",
       "            <td>None</td>\n",
       "            <td>None</td>\n",
       "            <td>None</td>\n",
       "        </tr>\n",
       "        <tr>\n",
       "            <td>601</td>\n",
       "            <td>Саввинская 27 27 2 137.5 Саввинская 27 55.730669,37.557942</td>\n",
       "            <td>209072374</td>\n",
       "            <td>209072374</td>\n",
       "            <td>2022-12-05 13:38:36.670973</td>\n",
       "            <td>Новостройки</td>\n",
       "            <td>level.ru</td>\n",
       "            <td>url_example</td>\n",
       "            <td>None</td>\n",
       "            <td>None</td>\n",
       "            <td>None</td>\n",
       "            <td>None</td>\n",
       "            <td>None</td>\n",
       "        </tr>\n",
       "        <tr>\n",
       "            <td>602</td>\n",
       "            <td>Причальный Юг 3 72.8 Причальный пр., д. 8 55.76018,37.517482</td>\n",
       "            <td>58793280</td>\n",
       "            <td>41155296</td>\n",
       "            <td>2022-12-05 13:38:36.724025</td>\n",
       "            <td>Новостройки</td>\n",
       "            <td>level.ru</td>\n",
       "            <td>url_example</td>\n",
       "            <td>None</td>\n",
       "            <td>None</td>\n",
       "            <td>None</td>\n",
       "            <td>None</td>\n",
       "            <td>None</td>\n",
       "        </tr>\n",
       "    </tbody>\n",
       "</table>"
      ],
      "text/plain": [
       "[(598, 'Причальный Bосток 29 65.3 Причальный пр., д. 8 55.76018,37.517482', 37527037, 26268925, '2022-12-05 13:38:36.641439', 'Новостройки', 'level.ru', 'url_example', None, None, None, None, None),\n",
       " (599, 'Саввинская 17 17 4 82.5  55.734600731695195,37.565715889000494', 202359478, 202359478, '2022-12-05 13:38:36.652957', 'Новостройки', 'level.ru', 'url_example', None, None, None, None, None),\n",
       " (600, 'Причальный Bосток 31 65.3 Причальный пр., д. 8 55.76018,37.517482', 37802086, 26461460, '2022-12-05 13:38:36.662478', 'Новостройки', 'level.ru', 'url_example', None, None, None, None, None),\n",
       " (601, 'Саввинская 27 27 2 137.5 Саввинская 27 55.730669,37.557942', 209072374, 209072374, '2022-12-05 13:38:36.670973', 'Новостройки', 'level.ru', 'url_example', None, None, None, None, None),\n",
       " (602, 'Причальный Юг 3 72.8 Причальный пр., д. 8 55.76018,37.517482', 58793280, 41155296, '2022-12-05 13:38:36.724025', 'Новостройки', 'level.ru', 'url_example', None, None, None, None, None)]"
      ]
     },
     "execution_count": 162,
     "metadata": {},
     "output_type": "execute_result"
    }
   ],
   "source": [
    "%sql SELECT * from copied limit 5"
   ]
  },
  {
   "cell_type": "markdown",
   "id": "7e73832c-7c8c-4773-9d74-2e6be5c5eb58",
   "metadata": {},
   "source": [
    "# Задачи:"
   ]
  },
  {
   "cell_type": "markdown",
   "id": "ce78507f-af7a-4c5b-9e10-eed65ca16061",
   "metadata": {},
   "source": [
    "Выведите список новостроек в порядке убывания количества доступных к покупке квартир."
   ]
  },
  {
   "cell_type": "code",
   "execution_count": 169,
   "id": "2a18075c-355e-4827-a9ee-2c6d653db84c",
   "metadata": {},
   "outputs": [
    {
     "data": {
      "text/html": [
       "<table>\n",
       "    <thead>\n",
       "        <tr>\n",
       "            <th>title</th>\n",
       "            <th>количество_квартир</th>\n",
       "        </tr>\n",
       "    </thead>\n",
       "    <tbody>\n",
       "        <tr>\n",
       "            <td>1 1 1 -1 13.25 0</td>\n",
       "            <td>11180</td>\n",
       "        </tr>\n",
       "        <tr>\n",
       "            <td>14 1 1 -2 13.25 0</td>\n",
       "            <td>8045</td>\n",
       "        </tr>\n",
       "        <tr>\n",
       "            <td>10 1 1 -1 13.25 0</td>\n",
       "            <td>5082</td>\n",
       "        </tr>\n",
       "        <tr>\n",
       "            <td>14 1 1 -1 13.25 0</td>\n",
       "            <td>4707</td>\n",
       "        </tr>\n",
       "        <tr>\n",
       "            <td>10 1 1 2 13.25 0</td>\n",
       "            <td>4161</td>\n",
       "        </tr>\n",
       "    </tbody>\n",
       "</table>"
      ],
      "text/plain": [
       "[('1 1 1 -1 13.25 0', 11180),\n",
       " ('14 1 1 -2 13.25 0', 8045),\n",
       " ('10 1 1 -1 13.25 0', 5082),\n",
       " ('14 1 1 -1 13.25 0', 4707),\n",
       " ('10 1 1 2 13.25 0', 4161)]"
      ]
     },
     "execution_count": 169,
     "metadata": {},
     "output_type": "execute_result"
    }
   ],
   "source": [
    "%%sql \n",
    "select\n",
    "    title,\n",
    "    count(*) as количество_квартир\n",
    "from copied\n",
    "where category = \"Новостройки\" and price > 0 and price is not NULL\n",
    "group by title\n",
    "order by количество_квартир desc\n",
    "limit 5;"
   ]
  },
  {
   "cell_type": "markdown",
   "id": "a0f62b71-c5ab-4677-9a94-f959cc36379b",
   "metadata": {},
   "source": [
    "Найдите среднюю цену квадратного метра по всем новостройкам  "
   ]
  },
  {
   "cell_type": "code",
   "execution_count": 167,
   "id": "5599c0ab-422a-49ab-8392-a5a533ea592c",
   "metadata": {},
   "outputs": [
    {
     "data": {
      "text/html": [
       "<table>\n",
       "    <thead>\n",
       "        <tr>\n",
       "            <th>средняя_цена_за_м2</th>\n",
       "        </tr>\n",
       "    </thead>\n",
       "    <tbody>\n",
       "        <tr>\n",
       "            <td>362162.48952185723</td>\n",
       "        </tr>\n",
       "    </tbody>\n",
       "</table>"
      ],
      "text/plain": [
       "[(362162.48952185723,)]"
      ]
     },
     "execution_count": 167,
     "metadata": {},
     "output_type": "execute_result"
    }
   ],
   "source": [
    "%%sql\n",
    "select \n",
    "    avg(apartment_ppm) as средняя_цена_за_м2\n",
    "from copied\n",
    "where category = \"Новостройки\";"
   ]
  },
  {
   "cell_type": "markdown",
   "id": "97e0cd58-f4da-4cc4-be46-a31cf6efb2f1",
   "metadata": {},
   "source": [
    "Выведите список новостроек в порядке убывания общего количества квартир.  "
   ]
  },
  {
   "cell_type": "code",
   "execution_count": 160,
   "id": "6bf4d4a1-9a86-4e0d-933d-d62a957467a4",
   "metadata": {},
   "outputs": [
    {
     "data": {
      "text/html": [
       "<table>\n",
       "    <thead>\n",
       "        <tr>\n",
       "            <th>title</th>\n",
       "            <th>количество_квартир</th>\n",
       "        </tr>\n",
       "    </thead>\n",
       "    <tbody>\n",
       "        <tr>\n",
       "            <td>1 1 1 -1 13.25 0</td>\n",
       "            <td>11180</td>\n",
       "        </tr>\n",
       "        <tr>\n",
       "            <td>14 1 1 -2 13.25 0</td>\n",
       "            <td>8045</td>\n",
       "        </tr>\n",
       "        <tr>\n",
       "            <td>10 1 1 -1 13.25 0</td>\n",
       "            <td>5082</td>\n",
       "        </tr>\n",
       "        <tr>\n",
       "            <td>14 1 1 -1 13.25 0</td>\n",
       "            <td>4707</td>\n",
       "        </tr>\n",
       "        <tr>\n",
       "            <td>10 1 1 2 13.25 0</td>\n",
       "            <td>4161</td>\n",
       "        </tr>\n",
       "    </tbody>\n",
       "</table>"
      ],
      "text/plain": [
       "[('1 1 1 -1 13.25 0', 11180),\n",
       " ('14 1 1 -2 13.25 0', 8045),\n",
       " ('10 1 1 -1 13.25 0', 5082),\n",
       " ('14 1 1 -1 13.25 0', 4707),\n",
       " ('10 1 1 2 13.25 0', 4161)]"
      ]
     },
     "execution_count": 160,
     "metadata": {},
     "output_type": "execute_result"
    }
   ],
   "source": [
    "%%sql\n",
    "select\n",
    "    title,\n",
    "    count(*) as количество_квартир\n",
    "from copied\n",
    "where category = \"Новостройки\"\n",
    "group by title\n",
    "order by количество_квартир desc\n",
    "limit 5;"
   ]
  },
  {
   "cell_type": "markdown",
   "id": "54643c98-ef8a-430c-b1b5-1ef4bdd2b512",
   "metadata": {},
   "source": [
    "Найдите среднюю площадь квартир в новостройках с количеством комнат больше 3  "
   ]
  },
  {
   "cell_type": "code",
   "execution_count": 52,
   "id": "fcadd3d1-56bc-4e3d-bb54-a4c4b48bcc41",
   "metadata": {},
   "outputs": [
    {
     "data": {
      "text/html": [
       "<table>\n",
       "    <thead>\n",
       "        <tr>\n",
       "            <th>средняя_площадь</th>\n",
       "        </tr>\n",
       "    </thead>\n",
       "    <tbody>\n",
       "        <tr>\n",
       "            <td>120.00319930018476</td>\n",
       "        </tr>\n",
       "    </tbody>\n",
       "</table>"
      ],
      "text/plain": [
       "[(120.00319930018476,)]"
      ]
     },
     "execution_count": 52,
     "metadata": {},
     "output_type": "execute_result"
    }
   ],
   "source": [
    "%%sql\n",
    "select avg(apartment_area) as средняя_площадь\n",
    "from copied\n",
    "where category = \"Новостройки\" and apartment_room > 3;"
   ]
  },
  {
   "cell_type": "markdown",
   "id": "f895698b-3e50-4b2b-ba05-99c8777a9d75",
   "metadata": {},
   "source": [
    "Найдите среднюю цену квадратного метра по всем новостройкам на конкретный день.  "
   ]
  },
  {
   "cell_type": "code",
   "execution_count": 170,
   "id": "ba78d2e3-b8a5-460f-88c4-462115b1eaee",
   "metadata": {},
   "outputs": [
    {
     "data": {
      "text/html": [
       "<table>\n",
       "    <thead>\n",
       "        <tr>\n",
       "            <th>средняя_цена</th>\n",
       "        </tr>\n",
       "    </thead>\n",
       "    <tbody>\n",
       "        <tr>\n",
       "            <td>447008.8787564767</td>\n",
       "        </tr>\n",
       "    </tbody>\n",
       "</table>"
      ],
      "text/plain": [
       "[(447008.8787564767,)]"
      ]
     },
     "execution_count": 170,
     "metadata": {},
     "output_type": "execute_result"
    }
   ],
   "source": [
    "%%sql\n",
    "select\n",
    "    avg(apartment_ppm) AS средняя_цена\n",
    "from copied\n",
    "where category = 'Новостройки' and datetime_create LIKE '2023-12-05%';"
   ]
  },
  {
   "cell_type": "markdown",
   "id": "c9df5b7b-f465-41a2-9f2d-2a1bb819159c",
   "metadata": {},
   "source": [
    "Найдите среднюю цен за квадратный метр в новостройках с количеством этажей больше 15.  "
   ]
  },
  {
   "cell_type": "code",
   "execution_count": 60,
   "id": "0ed9e4c0-aa63-4062-9a60-d5fd4f301b05",
   "metadata": {},
   "outputs": [
    {
     "data": {
      "text/html": [
       "<table>\n",
       "    <thead>\n",
       "        <tr>\n",
       "            <th>средняя_цена</th>\n",
       "        </tr>\n",
       "    </thead>\n",
       "    <tbody>\n",
       "        <tr>\n",
       "            <td>423575.7448402892</td>\n",
       "        </tr>\n",
       "    </tbody>\n",
       "</table>"
      ],
      "text/plain": [
       "[(423575.7448402892,)]"
      ]
     },
     "execution_count": 60,
     "metadata": {},
     "output_type": "execute_result"
    }
   ],
   "source": [
    "%%sql\n",
    "select\n",
    "    avg(apartment_ppm) as средняя_цена\n",
    "from copied\n",
    "where category = \"Новостройки\" and apartment_floors_total > 15;"
   ]
  },
  {
   "cell_type": "markdown",
   "id": "fb7ad901-de35-4d44-b782-a987f92a8377",
   "metadata": {},
   "source": [
    "Найти все новостройки которые появились в 2023 году  "
   ]
  },
  {
   "cell_type": "code",
   "execution_count": 117,
   "id": "68d4ad3b-55e1-4f63-8af4-7dc3d9936fa6",
   "metadata": {},
   "outputs": [
    {
     "data": {
      "text/html": [
       "<table>\n",
       "    <thead>\n",
       "        <tr>\n",
       "            <th>id</th>\n",
       "            <th>title</th>\n",
       "            <th>price</th>\n",
       "            <th>price_sale</th>\n",
       "            <th>datetime_create</th>\n",
       "            <th>category</th>\n",
       "            <th>brand</th>\n",
       "            <th>url</th>\n",
       "            <th>apartment_area</th>\n",
       "            <th>apartment_floor</th>\n",
       "            <th>apartment_floors_total</th>\n",
       "            <th>apartment_room</th>\n",
       "            <th>apartment_ppm</th>\n",
       "        </tr>\n",
       "    </thead>\n",
       "    <tbody>\n",
       "        <tr>\n",
       "            <td>1932457</td>\n",
       "            <td>Павелецкая Сити 9 2 23.8 ул. Дубининская, д. 59-69 55.71962004653103,37.63727228350035</td>\n",
       "            <td>15336138</td>\n",
       "            <td>13035717</td>\n",
       "            <td>2023-01-01 00:23:50.275891</td>\n",
       "            <td>Новостройки</td>\n",
       "            <td>level.ru</td>\n",
       "            <td>https://level.ru/pav_city/flat/studio/9-5/</td>\n",
       "            <td>23.8</td>\n",
       "            <td>None</td>\n",
       "            <td>None</td>\n",
       "            <td>None</td>\n",
       "            <td>None</td>\n",
       "        </tr>\n",
       "        <tr>\n",
       "            <td>1932458</td>\n",
       "            <td>Селигерская 1 3 17.8 пр-д Ильменский, вл. 12 55.859441,37.545155</td>\n",
       "            <td>8766862</td>\n",
       "            <td>6136803</td>\n",
       "            <td>2023-01-01 00:23:50.288006</td>\n",
       "            <td>Новостройки</td>\n",
       "            <td>level.ru</td>\n",
       "            <td>https://level.ru/selig/flat/1room/1-1-28/</td>\n",
       "            <td>17.8</td>\n",
       "            <td>None</td>\n",
       "            <td>None</td>\n",
       "            <td>None</td>\n",
       "            <td>None</td>\n",
       "        </tr>\n",
       "        <tr>\n",
       "            <td>1932459</td>\n",
       "            <td>Стрешнево Север 2 45.1 Волоколамское ш., д. 81, корп. 2 55.82495356307498,37.411886931513436</td>\n",
       "            <td>15497134</td>\n",
       "            <td>10847993</td>\n",
       "            <td>2023-01-01 00:23:50.298460</td>\n",
       "            <td>Новостройки</td>\n",
       "            <td>level.ru</td>\n",
       "            <td>https://level.ru/stresh/apartment/2room/1-14/</td>\n",
       "            <td>45.1</td>\n",
       "            <td>None</td>\n",
       "            <td>None</td>\n",
       "            <td>None</td>\n",
       "            <td>None</td>\n",
       "        </tr>\n",
       "        <tr>\n",
       "            <td>1932460</td>\n",
       "            <td>Южнопортовая 6 8 55.3 Г. Москва, ул. Южнопортовая, вл.28-28а 55.705727,37.696445</td>\n",
       "            <td>20175612</td>\n",
       "            <td>14122928</td>\n",
       "            <td>2023-01-01 00:23:50.309758</td>\n",
       "            <td>Новостройки</td>\n",
       "            <td>level.ru</td>\n",
       "            <td>https://level.ru/southport/flat/3room/6-75/</td>\n",
       "            <td>55.3</td>\n",
       "            <td>None</td>\n",
       "            <td>None</td>\n",
       "            <td>None</td>\n",
       "            <td>None</td>\n",
       "        </tr>\n",
       "        <tr>\n",
       "            <td>1932461</td>\n",
       "            <td>Южнопортовая 1 39 78.3 Г. Москва, ул. Южнопортовая, вл.28-28а 55.705727,37.696445</td>\n",
       "            <td>26166406</td>\n",
       "            <td>18316484</td>\n",
       "            <td>2023-01-01 00:23:50.362469</td>\n",
       "            <td>Новостройки</td>\n",
       "            <td>level.ru</td>\n",
       "            <td>https://level.ru/southport/flat/4room/1-535/</td>\n",
       "            <td>78.3</td>\n",
       "            <td>None</td>\n",
       "            <td>None</td>\n",
       "            <td>None</td>\n",
       "            <td>None</td>\n",
       "        </tr>\n",
       "    </tbody>\n",
       "</table>"
      ],
      "text/plain": [
       "[(1932457, 'Павелецкая Сити 9 2 23.8 ул. Дубининская, д. 59-69 55.71962004653103,37.63727228350035', 15336138, 13035717, '2023-01-01 00:23:50.275891', 'Новостройки', 'level.ru', 'https://level.ru/pav_city/flat/studio/9-5/', 23.8, None, None, None, None),\n",
       " (1932458, 'Селигерская 1 3 17.8 пр-д Ильменский, вл. 12 55.859441,37.545155', 8766862, 6136803, '2023-01-01 00:23:50.288006', 'Новостройки', 'level.ru', 'https://level.ru/selig/flat/1room/1-1-28/', 17.8, None, None, None, None),\n",
       " (1932459, 'Стрешнево Север 2 45.1 Волоколамское ш., д. 81, корп. 2 55.82495356307498,37.411886931513436', 15497134, 10847993, '2023-01-01 00:23:50.298460', 'Новостройки', 'level.ru', 'https://level.ru/stresh/apartment/2room/1-14/', 45.1, None, None, None, None),\n",
       " (1932460, 'Южнопортовая 6 8 55.3 Г. Москва, ул. Южнопортовая, вл.28-28а 55.705727,37.696445', 20175612, 14122928, '2023-01-01 00:23:50.309758', 'Новостройки', 'level.ru', 'https://level.ru/southport/flat/3room/6-75/', 55.3, None, None, None, None),\n",
       " (1932461, 'Южнопортовая 1 39 78.3 Г. Москва, ул. Южнопортовая, вл.28-28а 55.705727,37.696445', 26166406, 18316484, '2023-01-01 00:23:50.362469', 'Новостройки', 'level.ru', 'https://level.ru/southport/flat/4room/1-535/', 78.3, None, None, None, None)]"
      ]
     },
     "execution_count": 117,
     "metadata": {},
     "output_type": "execute_result"
    }
   ],
   "source": [
    "%%sql\n",
    "select *\n",
    "from copied\n",
    "    where datetime_create like \"2023%\"\n",
    "limit 5;"
   ]
  },
  {
   "cell_type": "markdown",
   "id": "71cf968e-f47c-4ae6-90ed-09ba4042c06c",
   "metadata": {},
   "source": [
    "Найти все новостройки которые имеют больше 50 квартир  "
   ]
  },
  {
   "cell_type": "code",
   "execution_count": 22,
   "id": "48ab1fe8-dd65-42a1-b7b6-d92dd8391cee",
   "metadata": {},
   "outputs": [
    {
     "data": {
      "text/html": [
       "<table>\n",
       "    <thead>\n",
       "        <tr>\n",
       "            <th>title</th>\n",
       "            <th>количество</th>\n",
       "        </tr>\n",
       "    </thead>\n",
       "    <tbody>\n",
       "        <tr>\n",
       "            <td>1 1 1 -1 13.25 0</td>\n",
       "            <td>11180</td>\n",
       "        </tr>\n",
       "        <tr>\n",
       "            <td>1 1 1 10 29.16 S</td>\n",
       "            <td>74</td>\n",
       "        </tr>\n",
       "        <tr>\n",
       "            <td>1 1 1 11 40.01 S</td>\n",
       "            <td>90</td>\n",
       "        </tr>\n",
       "        <tr>\n",
       "            <td>1 1 1 13 112.04 E4</td>\n",
       "            <td>90</td>\n",
       "        </tr>\n",
       "        <tr>\n",
       "            <td>1 1 1 13 70.55 2</td>\n",
       "            <td>91</td>\n",
       "        </tr>\n",
       "    </tbody>\n",
       "</table>"
      ],
      "text/plain": [
       "[('1 1 1 -1 13.25 0', 11180),\n",
       " ('1 1 1 10 29.16 S', 74),\n",
       " ('1 1 1 11 40.01 S', 90),\n",
       " ('1 1 1 13 112.04 E4', 90),\n",
       " ('1 1 1 13 70.55 2', 91)]"
      ]
     },
     "execution_count": 22,
     "metadata": {},
     "output_type": "execute_result"
    }
   ],
   "source": [
    "%%sql\n",
    "select\n",
    "    title, \n",
    "    count(*) as количество\n",
    "from copied\n",
    "where category = 'Новостройки'\n",
    "group by title\n",
    "having количество > 50\n",
    "limit 5;"
   ]
  },
  {
   "cell_type": "markdown",
   "id": "1cac8b36-3e27-4453-a9e5-cd0f6a5f0709",
   "metadata": {},
   "source": [
    "Найдите максимальную и минимальную цену среди всех новостроек  "
   ]
  },
  {
   "cell_type": "code",
   "execution_count": 128,
   "id": "85acf81d-e5bb-4735-b549-a46a7f2857b2",
   "metadata": {},
   "outputs": [
    {
     "data": {
      "text/html": [
       "<table>\n",
       "    <thead>\n",
       "        <tr>\n",
       "            <th>id</th>\n",
       "            <th>title</th>\n",
       "            <th>price</th>\n",
       "            <th>price_sale</th>\n",
       "            <th>datetime_create</th>\n",
       "            <th>category</th>\n",
       "            <th>brand</th>\n",
       "            <th>url</th>\n",
       "            <th>apartment_area</th>\n",
       "            <th>apartment_floor</th>\n",
       "            <th>apartment_floors_total</th>\n",
       "            <th>apartment_room</th>\n",
       "            <th>apartment_ppm</th>\n",
       "        </tr>\n",
       "    </thead>\n",
       "    <tbody>\n",
       "        <tr>\n",
       "            <td>44871689</td>\n",
       "            <td>Саввинская 27 | 27 | 2 | 340.9 | Саввинская 27 | 55.730824,37.557959 | 1</td>\n",
       "            <td>847419076</td>\n",
       "            <td>847419076</td>\n",
       "            <td>2024-06-02 06:13:37.130681</td>\n",
       "            <td>Новостройки</td>\n",
       "            <td>level.ru</td>\n",
       "            <td>https://level.ru/old/sav27/apartment/6room/5-1/</td>\n",
       "            <td>340.9</td>\n",
       "            <td>2</td>\n",
       "            <td>6</td>\n",
       "            <td>6</td>\n",
       "            <td>2485829</td>\n",
       "        </tr>\n",
       "    </tbody>\n",
       "</table>"
      ],
      "text/plain": [
       "[(44871689, 'Саввинская 27 | 27 | 2 | 340.9 | Саввинская 27 | 55.730824,37.557959 | 1', 847419076, 847419076, '2024-06-02 06:13:37.130681', 'Новостройки', 'level.ru', 'https://level.ru/old/sav27/apartment/6room/5-1/', 340.9, 2, 6, 6, 2485829)]"
      ]
     },
     "execution_count": 128,
     "metadata": {},
     "output_type": "execute_result"
    }
   ],
   "source": [
    "%%sql\n",
    "select *\n",
    "from copied\n",
    "where price = (select max(price) from copied)\n",
    "limit 1;"
   ]
  },
  {
   "cell_type": "code",
   "execution_count": 14,
   "id": "6b7fdb7e-cee6-4877-b5ed-dbd857118129",
   "metadata": {},
   "outputs": [
    {
     "data": {
      "text/html": [
       "<table>\n",
       "    <thead>\n",
       "        <tr>\n",
       "            <th>id</th>\n",
       "            <th>title</th>\n",
       "            <th>price</th>\n",
       "            <th>price_sale</th>\n",
       "            <th>datetime_create</th>\n",
       "            <th>category</th>\n",
       "            <th>brand</th>\n",
       "            <th>url</th>\n",
       "            <th>apartment_area</th>\n",
       "            <th>apartment_floor</th>\n",
       "            <th>apartment_floors_total</th>\n",
       "            <th>apartment_room</th>\n",
       "            <th>apartment_ppm</th>\n",
       "        </tr>\n",
       "    </thead>\n",
       "    <tbody>\n",
       "        <tr>\n",
       "            <td>31261045</td>\n",
       "            <td>10 1 1 1 3.8 1</td>\n",
       "            <td>551000</td>\n",
       "            <td>551000</td>\n",
       "            <td>2024-03-04 20:52:47.433973</td>\n",
       "            <td>Новостройки</td>\n",
       "            <td>gk-osnova.ru</td>\n",
       "            <td>https://api.gkosnova.tech/public/api/v1/building-objects/10/properties?detail=0</td>\n",
       "            <td>3.8</td>\n",
       "            <td>1</td>\n",
       "            <td>None</td>\n",
       "            <td>1</td>\n",
       "            <td>145000</td>\n",
       "        </tr>\n",
       "    </tbody>\n",
       "</table>"
      ],
      "text/plain": [
       "[(31261045, '10 1 1 1 3.8 1', 551000, 551000, '2024-03-04 20:52:47.433973', 'Новостройки', 'gk-osnova.ru', 'https://api.gkosnova.tech/public/api/v1/building-objects/10/properties?detail=0', 3.8, 1, None, 1, 145000)]"
      ]
     },
     "execution_count": 14,
     "metadata": {},
     "output_type": "execute_result"
    }
   ],
   "source": [
    "%%sql\n",
    "select *\n",
    "from copied\n",
    "where price_sale > 0\n",
    "order by price_sale asc\n",
    "limit 1;"
   ]
  },
  {
   "cell_type": "markdown",
   "id": "9b91d744-b65b-43a4-b3c4-9fa3767b93f2",
   "metadata": {},
   "source": [
    "Найти все новостройки в которых есть квартиры площадью больше 100 кв метров  "
   ]
  },
  {
   "cell_type": "code",
   "execution_count": 16,
   "id": "57f75b8e-41b0-4352-b797-b44a7c07d7d1",
   "metadata": {},
   "outputs": [
    {
     "data": {
      "text/html": [
       "<table>\n",
       "    <thead>\n",
       "        <tr>\n",
       "            <th>id</th>\n",
       "            <th>title</th>\n",
       "            <th>price</th>\n",
       "            <th>price_sale</th>\n",
       "            <th>datetime_create</th>\n",
       "            <th>category</th>\n",
       "            <th>brand</th>\n",
       "            <th>url</th>\n",
       "            <th>apartment_area</th>\n",
       "            <th>apartment_floor</th>\n",
       "            <th>apartment_floors_total</th>\n",
       "            <th>apartment_room</th>\n",
       "            <th>apartment_ppm</th>\n",
       "        </tr>\n",
       "    </thead>\n",
       "    <tbody>\n",
       "        <tr>\n",
       "            <td>649</td>\n",
       "            <td>Саввинская 27 27 2 137.5 Саввинская 27 55.730669,37.557942</td>\n",
       "            <td>209072374</td>\n",
       "            <td>209072374</td>\n",
       "            <td>2022-12-05 13:50:46.382455</td>\n",
       "            <td>Новостройки</td>\n",
       "            <td>level.ru</td>\n",
       "            <td>https://level.ru/sav27/apartment/3room/4-1/</td>\n",
       "            <td>137.5</td>\n",
       "            <td>None</td>\n",
       "            <td>None</td>\n",
       "            <td>None</td>\n",
       "            <td>None</td>\n",
       "        </tr>\n",
       "        <tr>\n",
       "            <td>651</td>\n",
       "            <td>Саввинская 27 27 3 139.5 Саввинская 27 55.730669,37.557942</td>\n",
       "            <td>238985532</td>\n",
       "            <td>238985532</td>\n",
       "            <td>2022-12-05 13:50:46.400989</td>\n",
       "            <td>Новостройки</td>\n",
       "            <td>level.ru</td>\n",
       "            <td>https://level.ru/sav27/apartment/3room/4-4/</td>\n",
       "            <td>139.5</td>\n",
       "            <td>None</td>\n",
       "            <td>None</td>\n",
       "            <td>None</td>\n",
       "            <td>None</td>\n",
       "        </tr>\n",
       "        <tr>\n",
       "            <td>653</td>\n",
       "            <td>Саввинская 17 17 4 110.5  55.734600731695195,37.565715889000494</td>\n",
       "            <td>269713058</td>\n",
       "            <td>269713058</td>\n",
       "            <td>2022-12-05 13:50:46.465808</td>\n",
       "            <td>Новостройки</td>\n",
       "            <td>level.ru</td>\n",
       "            <td>https://level.ru/sav17/flat/3room/2-9/</td>\n",
       "            <td>110.5</td>\n",
       "            <td>None</td>\n",
       "            <td>None</td>\n",
       "            <td>None</td>\n",
       "            <td>None</td>\n",
       "        </tr>\n",
       "        <tr>\n",
       "            <td>655</td>\n",
       "            <td>Саввинская 27 27 6 189.9 Саввинская 27 55.730669,37.557942</td>\n",
       "            <td>564747927</td>\n",
       "            <td>564747927</td>\n",
       "            <td>2022-12-05 13:50:46.527201</td>\n",
       "            <td>Новостройки</td>\n",
       "            <td>level.ru</td>\n",
       "            <td>https://level.ru/sav27/apartment/3room/1-11/</td>\n",
       "            <td>189.9</td>\n",
       "            <td>None</td>\n",
       "            <td>None</td>\n",
       "            <td>None</td>\n",
       "            <td>None</td>\n",
       "        </tr>\n",
       "        <tr>\n",
       "            <td>662</td>\n",
       "            <td>Мичуринский 6 15 112.3 Озерная ул., вл. 7 55.687726,37.471704</td>\n",
       "            <td>59713584</td>\n",
       "            <td>41799508</td>\n",
       "            <td>2022-12-05 13:53:27.017773</td>\n",
       "            <td>Новостройки</td>\n",
       "            <td>level.ru</td>\n",
       "            <td>https://level.ru/michur/flat/6room/6-2-51/</td>\n",
       "            <td>112.3</td>\n",
       "            <td>None</td>\n",
       "            <td>None</td>\n",
       "            <td>None</td>\n",
       "            <td>None</td>\n",
       "        </tr>\n",
       "    </tbody>\n",
       "</table>"
      ],
      "text/plain": [
       "[(649, 'Саввинская 27 27 2 137.5 Саввинская 27 55.730669,37.557942', 209072374, 209072374, '2022-12-05 13:50:46.382455', 'Новостройки', 'level.ru', 'https://level.ru/sav27/apartment/3room/4-1/', 137.5, None, None, None, None),\n",
       " (651, 'Саввинская 27 27 3 139.5 Саввинская 27 55.730669,37.557942', 238985532, 238985532, '2022-12-05 13:50:46.400989', 'Новостройки', 'level.ru', 'https://level.ru/sav27/apartment/3room/4-4/', 139.5, None, None, None, None),\n",
       " (653, 'Саввинская 17 17 4 110.5  55.734600731695195,37.565715889000494', 269713058, 269713058, '2022-12-05 13:50:46.465808', 'Новостройки', 'level.ru', 'https://level.ru/sav17/flat/3room/2-9/', 110.5, None, None, None, None),\n",
       " (655, 'Саввинская 27 27 6 189.9 Саввинская 27 55.730669,37.557942', 564747927, 564747927, '2022-12-05 13:50:46.527201', 'Новостройки', 'level.ru', 'https://level.ru/sav27/apartment/3room/1-11/', 189.9, None, None, None, None),\n",
       " (662, 'Мичуринский 6 15 112.3 Озерная ул., вл. 7 55.687726,37.471704', 59713584, 41799508, '2022-12-05 13:53:27.017773', 'Новостройки', 'level.ru', 'https://level.ru/michur/flat/6room/6-2-51/', 112.3, None, None, None, None)]"
      ]
     },
     "execution_count": 16,
     "metadata": {},
     "output_type": "execute_result"
    }
   ],
   "source": [
    "%%sql\n",
    "select *\n",
    "from copied\n",
    "where apartment_area > 100\n",
    "limit 5;"
   ]
  },
  {
   "cell_type": "markdown",
   "id": "78e2fcfa-3791-4c36-ae91-c98e7b275a8f",
   "metadata": {},
   "source": [
    "Найти новостройки котрые были построекны застройщщиком Донстрой  "
   ]
  },
  {
   "cell_type": "code",
   "execution_count": 17,
   "id": "d5f65117-3f9e-405f-a725-08c17772e2c4",
   "metadata": {},
   "outputs": [
    {
     "data": {
      "text/html": [
       "<table>\n",
       "    <thead>\n",
       "        <tr>\n",
       "            <th>id</th>\n",
       "            <th>title</th>\n",
       "            <th>price</th>\n",
       "            <th>price_sale</th>\n",
       "            <th>datetime_create</th>\n",
       "            <th>category</th>\n",
       "            <th>brand</th>\n",
       "            <th>url</th>\n",
       "            <th>apartment_area</th>\n",
       "            <th>apartment_floor</th>\n",
       "            <th>apartment_floors_total</th>\n",
       "            <th>apartment_room</th>\n",
       "            <th>apartment_ppm</th>\n",
       "        </tr>\n",
       "    </thead>\n",
       "    <tbody>\n",
       "        <tr>\n",
       "            <td>29629804</td>\n",
       "            <td>Символ Независимость Корпус 19, 2 секц 4 27.1</td>\n",
       "            <td>10116430</td>\n",
       "            <td>10116430</td>\n",
       "            <td>2024-02-09 23:31:01.134710</td>\n",
       "            <td>Новостройки</td>\n",
       "            <td>donstroy.moscow</td>\n",
       "            <td>https://donstroy.moscow/objects/simvol/plans/quarter6/korpus19/section2/floor4/flat260119296/</td>\n",
       "            <td>27.1</td>\n",
       "            <td>4</td>\n",
       "            <td>24</td>\n",
       "            <td>100</td>\n",
       "            <td>None</td>\n",
       "        </tr>\n",
       "        <tr>\n",
       "            <td>29629805</td>\n",
       "            <td>Символ Независимость Корпус 19, 2 секц 3 28.3</td>\n",
       "            <td>10125740</td>\n",
       "            <td>10125740</td>\n",
       "            <td>2024-02-09 23:31:01.143235</td>\n",
       "            <td>Новостройки</td>\n",
       "            <td>donstroy.moscow</td>\n",
       "            <td>https://donstroy.moscow/objects/simvol/plans/quarter6/korpus19/section2/floor3/flat260119283/</td>\n",
       "            <td>28.3</td>\n",
       "            <td>3</td>\n",
       "            <td>24</td>\n",
       "            <td>100</td>\n",
       "            <td>None</td>\n",
       "        </tr>\n",
       "        <tr>\n",
       "            <td>29629806</td>\n",
       "            <td>Символ Независимость Корпус 19, 2 секц 4 27.1</td>\n",
       "            <td>10167920</td>\n",
       "            <td>10167920</td>\n",
       "            <td>2024-02-09 23:31:01.150161</td>\n",
       "            <td>Новостройки</td>\n",
       "            <td>donstroy.moscow</td>\n",
       "            <td>https://donstroy.moscow/objects/simvol/plans/quarter6/korpus19/section2/floor4/flat260119294/</td>\n",
       "            <td>27.1</td>\n",
       "            <td>4</td>\n",
       "            <td>24</td>\n",
       "            <td>100</td>\n",
       "            <td>None</td>\n",
       "        </tr>\n",
       "        <tr>\n",
       "            <td>29629807</td>\n",
       "            <td>Символ Независимость Корпус 19, 2 секц 3 29.9</td>\n",
       "            <td>10620480</td>\n",
       "            <td>10620480</td>\n",
       "            <td>2024-02-09 23:31:01.158190</td>\n",
       "            <td>Новостройки</td>\n",
       "            <td>donstroy.moscow</td>\n",
       "            <td>https://donstroy.moscow/objects/simvol/plans/quarter6/korpus19/section2/floor3/flat260119274/</td>\n",
       "            <td>29.9</td>\n",
       "            <td>3</td>\n",
       "            <td>24</td>\n",
       "            <td>100</td>\n",
       "            <td>None</td>\n",
       "        </tr>\n",
       "        <tr>\n",
       "            <td>29629808</td>\n",
       "            <td>Символ Независимость Корпус 19, 2 секц 5 27.1</td>\n",
       "            <td>10628620</td>\n",
       "            <td>10628620</td>\n",
       "            <td>2024-02-09 23:31:01.207331</td>\n",
       "            <td>Новостройки</td>\n",
       "            <td>donstroy.moscow</td>\n",
       "            <td>https://donstroy.moscow/objects/simvol/plans/quarter6/korpus19/section2/floor5/flat260119306/</td>\n",
       "            <td>27.1</td>\n",
       "            <td>5</td>\n",
       "            <td>24</td>\n",
       "            <td>100</td>\n",
       "            <td>None</td>\n",
       "        </tr>\n",
       "    </tbody>\n",
       "</table>"
      ],
      "text/plain": [
       "[(29629804, 'Символ Независимость Корпус 19, 2 секц 4 27.1', 10116430, 10116430, '2024-02-09 23:31:01.134710', 'Новостройки', 'donstroy.moscow', 'https://donstroy.moscow/objects/simvol/plans/quarter6/korpus19/section2/floor4/flat260119296/', 27.1, 4, 24, 100, None),\n",
       " (29629805, 'Символ Независимость Корпус 19, 2 секц 3 28.3', 10125740, 10125740, '2024-02-09 23:31:01.143235', 'Новостройки', 'donstroy.moscow', 'https://donstroy.moscow/objects/simvol/plans/quarter6/korpus19/section2/floor3/flat260119283/', 28.3, 3, 24, 100, None),\n",
       " (29629806, 'Символ Независимость Корпус 19, 2 секц 4 27.1', 10167920, 10167920, '2024-02-09 23:31:01.150161', 'Новостройки', 'donstroy.moscow', 'https://donstroy.moscow/objects/simvol/plans/quarter6/korpus19/section2/floor4/flat260119294/', 27.1, 4, 24, 100, None),\n",
       " (29629807, 'Символ Независимость Корпус 19, 2 секц 3 29.9', 10620480, 10620480, '2024-02-09 23:31:01.158190', 'Новостройки', 'donstroy.moscow', 'https://donstroy.moscow/objects/simvol/plans/quarter6/korpus19/section2/floor3/flat260119274/', 29.9, 3, 24, 100, None),\n",
       " (29629808, 'Символ Независимость Корпус 19, 2 секц 5 27.1', 10628620, 10628620, '2024-02-09 23:31:01.207331', 'Новостройки', 'donstroy.moscow', 'https://donstroy.moscow/objects/simvol/plans/quarter6/korpus19/section2/floor5/flat260119306/', 27.1, 5, 24, 100, None)]"
      ]
     },
     "execution_count": 17,
     "metadata": {},
     "output_type": "execute_result"
    }
   ],
   "source": [
    "%%sql\n",
    "select *\n",
    "from copied\n",
    "where brand = \"donstroy.moscow\" and category = \"Новостройки\"\n",
    "limit 5;"
   ]
  },
  {
   "cell_type": "code",
   "execution_count": null,
   "id": "de214855-d04c-4375-b6c6-93f6d870b1d6",
   "metadata": {},
   "outputs": [],
   "source": [
    "# для себя застройщтклв посмотреть"
   ]
  },
  {
   "cell_type": "code",
   "execution_count": 18,
   "id": "3fe6087f-34a3-4d24-b008-02019b7f1186",
   "metadata": {},
   "outputs": [
    {
     "data": {
      "text/html": [
       "<table>\n",
       "    <thead>\n",
       "        <tr>\n",
       "            <th>brand</th>\n",
       "        </tr>\n",
       "    </thead>\n",
       "    <tbody>\n",
       "        <tr>\n",
       "            <td>Capital Group</td>\n",
       "        </tr>\n",
       "        <tr>\n",
       "            <td>donstroy.moscow</td>\n",
       "        </tr>\n",
       "        <tr>\n",
       "            <td>gk-osnova.ru</td>\n",
       "        </tr>\n",
       "        <tr>\n",
       "            <td>level.ru</td>\n",
       "        </tr>\n",
       "        <tr>\n",
       "            <td>Галс-Девелопмент</td>\n",
       "        </tr>\n",
       "    </tbody>\n",
       "</table>"
      ],
      "text/plain": [
       "[('Capital Group',),\n",
       " ('donstroy.moscow',),\n",
       " ('gk-osnova.ru',),\n",
       " ('level.ru',),\n",
       " ('Галс-Девелопмент',)]"
      ]
     },
     "execution_count": 18,
     "metadata": {},
     "output_type": "execute_result"
    }
   ],
   "source": [
    "%%sql\n",
    "select\n",
    "    brand\n",
    "from \n",
    "    copied\n",
    "where \n",
    "    category = \"Новостройки\"\n",
    "group by \n",
    "    brand"
   ]
  },
  {
   "cell_type": "markdown",
   "id": "4b2bd6e0-1cf8-4d8d-9753-76986220d5e7",
   "metadata": {},
   "source": [
    "Найти всех застройщиков которые построили более 5 новостроек в 2023 году  "
   ]
  },
  {
   "cell_type": "code",
   "execution_count": 30,
   "id": "5b92d223-97ef-4854-9621-665d532189c9",
   "metadata": {},
   "outputs": [
    {
     "data": {
      "text/html": [
       "<table>\n",
       "    <thead>\n",
       "        <tr>\n",
       "            <th>brand</th>\n",
       "            <th>title</th>\n",
       "            <th>datetime_create</th>\n",
       "        </tr>\n",
       "    </thead>\n",
       "    <tbody>\n",
       "        <tr>\n",
       "            <td>Capital Group</td>\n",
       "            <td>2 – комнатная квартира 107,00м2 49 этаж №306 в корпусе 3</td>\n",
       "            <td>2023-04-19 20:01:40.883713</td>\n",
       "        </tr>\n",
       "        <tr>\n",
       "            <td>Capital Group</td>\n",
       "            <td>2 – комнатная квартира 107,00м2 50 этаж №313 в корпусе 3</td>\n",
       "            <td>2023-04-19 20:01:40.937124</td>\n",
       "        </tr>\n",
       "        <tr>\n",
       "            <td>Capital Group</td>\n",
       "            <td>2 – комнатная квартира 107,00м2 51 этаж №320 в корпусе 3</td>\n",
       "            <td>2023-04-19 20:01:40.948741</td>\n",
       "        </tr>\n",
       "        <tr>\n",
       "            <td>Capital Group</td>\n",
       "            <td>2 – комнатная квартира 107,00м2 52 этаж №327 в корпусе 3</td>\n",
       "            <td>2023-04-21 00:09:53.923230</td>\n",
       "        </tr>\n",
       "        <tr>\n",
       "            <td>Capital Group</td>\n",
       "            <td>2 – комнатная квартира 107,00м2 54 этаж №341 в корпусе 3</td>\n",
       "            <td>2023-04-19 20:01:40.958880</td>\n",
       "        </tr>\n",
       "    </tbody>\n",
       "</table>"
      ],
      "text/plain": [
       "[('Capital Group', '2 – комнатная квартира 107,00м2 49 этаж №306 в корпусе 3', '2023-04-19 20:01:40.883713'),\n",
       " ('Capital Group', '2 – комнатная квартира 107,00м2 50 этаж №313 в корпусе 3', '2023-04-19 20:01:40.937124'),\n",
       " ('Capital Group', '2 – комнатная квартира 107,00м2 51 этаж №320 в корпусе 3', '2023-04-19 20:01:40.948741'),\n",
       " ('Capital Group', '2 – комнатная квартира 107,00м2 52 этаж №327 в корпусе 3', '2023-04-21 00:09:53.923230'),\n",
       " ('Capital Group', '2 – комнатная квартира 107,00м2 54 этаж №341 в корпусе 3', '2023-04-19 20:01:40.958880')]"
      ]
     },
     "execution_count": 30,
     "metadata": {},
     "output_type": "execute_result"
    }
   ],
   "source": [
    "# %%sql\n",
    "# select brand, title, datetime_create\n",
    "# from copied\n",
    "# where category = 'Новостройки' and datetime_create like \"2023%\"\n",
    "# group by brand, title\n",
    "# having count(title) > 5\n",
    "# limit 5;"
   ]
  },
  {
   "cell_type": "markdown",
   "id": "dd799038-3e1b-4400-a975-dde5c87905b6",
   "metadata": {},
   "source": [
    "Вывести список жилых комплексов с наибольшим количеством проданных квартир за последние 3 месяца. Вывести количество проданных квартир и процент от общего количества квартир этого комплекса"
   ]
  },
  {
   "cell_type": "markdown",
   "id": "e31d528b-8f5f-4104-9473-6c0bc211cd23",
   "metadata": {},
   "source": [
    "# Задачи с обогащением:"
   ]
  },
  {
   "cell_type": "markdown",
   "id": "7e3b57ee-1275-4708-ae38-b724716478bb",
   "metadata": {},
   "source": [
    "Построить месячный график количества продаж новостроек за последний год.  "
   ]
  },
  {
   "cell_type": "markdown",
   "id": "231a9dd3-9684-43d0-9fc0-2dbc0b498866",
   "metadata": {},
   "source": [
    "Выведите список новостроек в западном районе.  "
   ]
  },
  {
   "cell_type": "markdown",
   "id": "60f70f15-2e88-4362-9d9e-8f198d4e9be9",
   "metadata": {},
   "source": [
    "Найти все новостройки в ЗАО и СЗАО которые имеют больше 10 этажей  "
   ]
  },
  {
   "cell_type": "markdown",
   "id": "4d19d15d-9598-43f1-87f0-c62eb2ba4995",
   "metadata": {},
   "source": [
    "Найти самый популярный размер квартир в каждом округе Москвы, и посчитать количеств продаж каждого размера ( сейчас за размер принимаем количество комнат)  "
   ]
  },
  {
   "cell_type": "markdown",
   "id": "077f8aff-3359-438d-a50c-a4798a7dc322",
   "metadata": {},
   "source": [
    "Найти все новостройки в пределах заданного радиуса от опеределнного места. И определить расстояние от каждой новостройки до заданного места, распределив их по возрастанию расстояния до заданного места.  "
   ]
  },
  {
   "cell_type": "markdown",
   "id": "fafe1d96-a107-445f-b19d-9bf210e3da79",
   "metadata": {},
   "source": [
    "Построить график средней стоимости квадратного метра по месяцам, начиная с q2 2023 по q2 2024  "
   ]
  },
  {
   "cell_type": "markdown",
   "id": "c904eafa-c796-4159-b006-f12c70bb6e93",
   "metadata": {},
   "source": [
    "Найти все новостройки в которых есть квартиры с видом на определенный объект ( например парк, реку, останкинскую телебашню, москва сити или другую достопримечательность)."
   ]
  },
  {
   "cell_type": "markdown",
   "id": "b65252e0-61c4-4bbb-aca6-848502e3e1b7",
   "metadata": {},
   "source": [
    "Показать информацию о количестве квартир с таким видом их средние площади и стоимости.  "
   ]
  },
  {
   "cell_type": "markdown",
   "id": "a31e6145-72f0-47b9-9353-c575a8c7744d",
   "metadata": {},
   "source": [
    "Вывести список жилых комплексов с наибольшей разницей между стоимостью квартир в них и среденей стоимостью квартир в районе. Рассчитать процентное отклонение цены каждой квартиры от средней цены по району.  "
   ]
  },
  {
   "cell_type": "markdown",
   "id": "4d32e9fb-5ae6-4025-8327-1a66c2d5c41c",
   "metadata": {},
   "source": [
    "Начиная с 2023 года, построить несколько графиков по месяцам : стоимости кв метра квартир, курса доллара(сколько рублей за один доллар), ключевой ставки, уровень безработиц, численность населения в городе, среднее количество детей в семье, количество сделок по ипотеке, количество сделок по льготным ипотечным программам,  "
   ]
  },
  {
   "cell_type": "markdown",
   "id": "1715089b-1fae-471f-8156-b541121ee8b0",
   "metadata": {},
   "source": [
    "Найти все новостройки информация о которых появилась в 2023 году имеют рейтинг выше среднего по городу. Вывести список этих новостроек, среднее, минимальное и максимальное количество этажей в них, в разрезе типа квартир ( тип это количество комнат ) с количеством квартир.  "
   ]
  },
  {
   "cell_type": "markdown",
   "id": "818827eb-ece9-496e-a31c-b41883d2a9e0",
   "metadata": {},
   "source": [
    "Вывести весь жк квартиры в которых были введены в эксплуатацию с чистовой отделкой в 2024 году  "
   ]
  },
  {
   "cell_type": "markdown",
   "id": "5cc6a272-1d32-4e36-8454-3640a424deb8",
   "metadata": {},
   "source": [
    "вывести список жк бизнес класса в ВАО города Москвы района Измайлово, ключи от которых владельцы получили в 2023  "
   ]
  },
  {
   "cell_type": "markdown",
   "id": "e283cc9c-01b9-4654-a8fe-8f3cfb3d15eb",
   "metadata": {},
   "source": [
    "Выведите жк где соотношение количества квартир к количеств парковочных мест меньше 2.5  "
   ]
  },
  {
   "cell_type": "markdown",
   "id": "116cf34d-f843-4976-8296-c7d0e12f162c",
   "metadata": {},
   "source": [
    "Введите количество квартир в кирпичных домах города Москвы  "
   ]
  },
  {
   "cell_type": "markdown",
   "id": "ad867adb-aad6-4ed2-ac17-7d1b6f42c253",
   "metadata": {},
   "source": [
    "Определите среднее время оживания лита в домах застройщика level  "
   ]
  },
  {
   "cell_type": "markdown",
   "id": "22402979-4fe2-4e1e-83d6-343148d9c06f",
   "metadata": {},
   "source": [
    "Выведите список жк от которых до ближайшей станции метро 10 минут пешком  "
   ]
  },
  {
   "cell_type": "markdown",
   "id": "23e5c53b-f3bb-45eb-b9ed-48b1bc13d96e",
   "metadata": {},
   "source": [
    "Выведите общее число объектов застройщиков которые больше 20 лет на рынке, и при качестве объектов выше среднего."
   ]
  },
  {
   "cell_type": "markdown",
   "id": "d0af18a6-704e-48d4-9874-7cb90f6285c3",
   "metadata": {},
   "source": [
    "# Задачи на подумать и предложить"
   ]
  },
  {
   "cell_type": "markdown",
   "id": "2e2792b6-1054-4640-bedd-b2979feb0ebc",
   "metadata": {},
   "source": [
    "Выдвинуть 10 гипотез и проверить их на основе данных ( если данных не хватает то добавить данными из интернета)  "
   ]
  },
  {
   "cell_type": "markdown",
   "id": "6fb39df5-c232-48aa-9cc3-1cfa99806ad6",
   "metadata": {},
   "source": [
    "Гипотеза 1 - стоимость квартиры зависит от площади  "
   ]
  },
  {
   "cell_type": "markdown",
   "id": "27e5cffc-da18-4295-be4a-6b24f5ea344d",
   "metadata": {},
   "source": [
    "Гипотеза 2 - стоимость квартиры зависит от расстояния до центра города  "
   ]
  },
  {
   "cell_type": "markdown",
   "id": "457a3b4b-c058-4e38-99e2-bb51d4fdd3dc",
   "metadata": {},
   "source": [
    "Гипотеза 3 -  "
   ]
  }
 ],
 "metadata": {
  "kernelspec": {
   "display_name": "Python 3 (ipykernel)",
   "language": "python",
   "name": "python3"
  },
  "language_info": {
   "codemirror_mode": {
    "name": "ipython",
    "version": 3
   },
   "file_extension": ".py",
   "mimetype": "text/x-python",
   "name": "python",
   "nbconvert_exporter": "python",
   "pygments_lexer": "ipython3",
   "version": "3.10.10"
  }
 },
 "nbformat": 4,
 "nbformat_minor": 5
}
