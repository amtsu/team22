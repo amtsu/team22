{
 "cells": [
  {
   "cell_type": "markdown",
   "id": "a543bb88-85cd-4390-846d-03ade92f7f94",
   "metadata": {},
   "source": [
    "1. Создать классы книга и библиотека.\n",
    "2. Добавить в библиотеку методы: добавления книг в библиоеку, подсчета всех страниц в бибилиотеке, среднего количества страниц.\n",
    "3. Расширить класс библиотека: добавить метод поиска книг по жанру, автору и названию.\n",
    "4. Создать класс User. Добавить методы учета выдачи книг пользователю(не больше 5 книг в руки), метод возврата книг в библиотеку, метод удаления книг из библиотеки если книги взяли.\n",
    "5. Написать тесты."
   ]
  },
  {
   "cell_type": "code",
   "execution_count": 88,
   "id": "9e10cbbd-0847-4e52-aab4-d1cf80f9e240",
   "metadata": {},
   "outputs": [],
   "source": [
    "class Book():\n",
    "    \n",
    "    def __init__(self, title, author, genre, count_pages):\n",
    "        self.title = title\n",
    "        self.author = author\n",
    "        self.genre = genre\n",
    "        self.count_pages = count_pages\n",
    "\n",
    "    def __str__(self):\n",
    "        return f\"{self.title} - {self.author} - {self.genre}\"\n",
    "\n",
    "class Library():\n",
    "    \n",
    "    def __init__(self):\n",
    "        self.library_list = []\n",
    "\n",
    "    def find_book(self, title, author, genre):\n",
    "        \"\"\"поиск по названию автору и жанру\"\"\"\n",
    "        find_book = []\n",
    "        for book in self.library_list:\n",
    "            if title == book.title:\n",
    "                find_book.append(book)\n",
    "            elif author == book.author:\n",
    "                find_book.append(book)\n",
    "            elif genre == book.genre:\n",
    "                find_book.append(book)\n",
    "        return find_book\n",
    "\n",
    "    def add_book(self, book: Book):\n",
    "        \"\"\"добавление книги в библиотетку\"\"\"\n",
    "        self.library_list.append(book)\n",
    "        \n",
    "    def total_pages_in_library(self):\n",
    "        \"\"\"сумма всех страниц в библиотеке\"\"\"\n",
    "        sum = 0\n",
    "        for book in self.library_list:\n",
    "            sum += book.count_pages\n",
    "        return sum\n",
    "\n",
    "    def avg_pages_in_library(self):\n",
    "        \"\"\"среднее количество страниц в библиотеке\"\"\"\n",
    "        for book in self.library_list:\n",
    "            avg = self.total_pages_in_library() / len(self.library_list)\n",
    "        return avg\n",
    "        \n",
    "    def count_book_in_library(self):\n",
    "        \"\"\"количество книг в библиотеке\"\"\"\n",
    "        return len(self.library_list)\n",
    "\n",
    "    # def remove_book(self, user: User):\n",
    "    #     \"\"\"метод удаления книги из библиотеки\"\"\"\n",
    "    #     for book in \n",
    "\n",
    "class User():\n",
    "    \n",
    "    def __init__(self, name):\n",
    "        self.name = name\n",
    "        self.basket = []\n",
    "\n",
    "    def count_books_for_reader(self):\n",
    "        \"\"\"возвращает количество книг в корзине\"\"\"\n",
    "        return len(self.basket)\n",
    "        \n",
    "# тут затык непонятно как выбрать определенную книгу, а не добавлять любую из найденных\n",
    "# и набирает больше книг чем можно, пока не придумала как это решить остальное протестировано и работает\n",
    "    def add_books_to_basket(self, library, title, author, genre):\n",
    "        \"\"\"добавляем книгу в корзину по автору, названию книги и жанру\"\"\"\n",
    "        \n",
    "        for book in library.find_book(title, author, genre):\n",
    "            if len(self.basket) <= 5:\n",
    "                self.basket.append(book)\n",
    "            else:\n",
    "                return \"Вы можете взять не более 5 книг\""
   ]
  },
  {
   "cell_type": "code",
   "execution_count": 89,
   "id": "3a166007-8365-4494-9ef6-cbc360f8d507",
   "metadata": {},
   "outputs": [
    {
     "data": {
      "text/plain": [
       "9"
      ]
     },
     "execution_count": 89,
     "metadata": {},
     "output_type": "execute_result"
    }
   ],
   "source": [
    "book2 = Book(\"Преступление и наказание\", \"Фёдор Достоевский\", \"роман\", 400)\n",
    "book = Book(\"Властелин колец\", \"avtor2\", \"фентези\", 300)\n",
    "book3 = Book(\"Анна Каренина\", \"avtor2\", \"роман\", 300)\n",
    "book4 = Book(\"Гарри Поттер и философский камен\", \"Дж. К. Роулинг\", \"фентези\", 300)\n",
    "book5 = Book(\"title5\", \"avtor5\", \"ужасы\", 300)\n",
    "book6 = Book(\"title6\", \"avtor6\", \"триллер\", 500)\n",
    "book7 = Book(\"title7\", \"avtor7\", \"роман\", 500)\n",
    "book8 = Book(\"title8\", \"avtor8\", \"роман\", 500)\n",
    "book9 = Book(\"title9\", \"avtor9\", \"роман\", 500)\n",
    "\n",
    "library = Library()\n",
    "library.add_book(book)\n",
    "library.add_book(book2)\n",
    "library.add_book(book3)\n",
    "library.add_book(book4)\n",
    "library.add_book(book5)\n",
    "library.add_book(book6)\n",
    "library.add_book(book7)\n",
    "library.add_book(book8)\n",
    "library.add_book(book9)\n",
    "\n",
    "library.count_book_in_library()  "
   ]
  },
  {
   "cell_type": "code",
   "execution_count": 90,
   "id": "c77d86f9-f8fe-4501-bb3d-224b66d187be",
   "metadata": {},
   "outputs": [
    {
     "name": "stdout",
     "output_type": "stream",
     "text": [
      "Властелин колец - avtor2 - фентези\n",
      "Преступление и наказание - Фёдор Достоевский - роман\n",
      "Анна Каренина - avtor2 - роман\n",
      "title7 - avtor7 - роман\n",
      "title8 - avtor8 - роман\n",
      "title9 - avtor9 - роман\n"
     ]
    }
   ],
   "source": [
    "#ищу книги а библиотеке по названию, автору и жанру\n",
    "for book in library.find_book(\"Преступление и наказание\", \"avtor2\", \"роман\"):\n",
    "    print(book)"
   ]
  },
  {
   "cell_type": "code",
   "execution_count": 92,
   "id": "ecbd3c72-677e-4704-a77b-967c89ff43f7",
   "metadata": {},
   "outputs": [
    {
     "data": {
      "text/plain": [
       "6"
      ]
     },
     "execution_count": 92,
     "metadata": {},
     "output_type": "execute_result"
    }
   ],
   "source": [
    "user = User(\"Regina\")\n",
    "user.add_books_to_basket(library, \"Преступление и наказание\", \"avtor2\", \"роман\")\n",
    "user.count_books_for_reader()"
   ]
  },
  {
   "cell_type": "code",
   "execution_count": null,
   "id": "dd5009e2-8ed0-4d65-8a8a-e42658f8649c",
   "metadata": {},
   "outputs": [],
   "source": []
  },
  {
   "cell_type": "code",
   "execution_count": 81,
   "id": "4c81e9f2-06e9-428c-a89e-6de8b12e40e0",
   "metadata": {},
   "outputs": [],
   "source": [
    "\n",
    "def test_add_book():\n",
    "    \"\"\"тест на добавление книг в библиотеку\"\"\"\n",
    "    book2 = Book(\"Преступление и наказание\", \"Фёдор Достоевский\", \"роман\", 400)\n",
    "    book = Book(\"Властелин колец\", \"avtor2\", \"фентези\", 300)\n",
    "    book3 = Book(\"Анна Каренина\", \"avtor2\", \"роман\", 300)\n",
    "    book4 = Book(\"Гарри Поттер и философский камен\", \"Дж. К. Роулинг\", \"фентези\", 300)\n",
    "    \n",
    "    library = Library()\n",
    "    library.add_book(book)\n",
    "    library.add_book(book2)\n",
    "    library.add_book(book3)\n",
    "    library.add_book(book4)\n",
    "    assert library.count_book_in_library() == 4\n",
    "    \n",
    "test_add_book()\n",
    "\n",
    "def test_find_book():\n",
    "    \"\"\"тест на поиск книг в библиотеке по жанру, автору и названию\"\"\"\n",
    "    book2 = Book(\"Преступление и наказание\", \"Фёдор Достоевский\", \"роман\", 400)\n",
    "    book = Book(\"Властелин колец\", \"avtor2\", \"фентези\", 300)\n",
    "    book3 = Book(\"Анна Каренина\", \"avtor2\", \"роман\", 300)\n",
    "    book4 = Book(\"Гарри Поттер и философский камен\", \"Дж. К. Роулинг\", \"фентези\", 300)\n",
    "    \n",
    "    library = Library()\n",
    "    library.add_book(book)\n",
    "    library.add_book(book2)\n",
    "    library.add_book(book3)\n",
    "    library.add_book(book4)\n",
    "    rezult = library.find_book(\"Преступление и наказание\", \"avtor2\", \"роман\")\n",
    "    assert len(rezult) == 3\n",
    "    \n",
    "test_find_book()\n",
    "\n",
    "    \n",
    "def test_total_pages_in_library():\n",
    "    \"\"\" тест на подсчет общего количества страниц в библиотеке\"\"\"\n",
    "    book2 = Book(\"title2\", \"avtor1\", \"fantasy\", 400)\n",
    "    book = Book(\"title1\", \"avtor2\", \"roman\", 300)\n",
    "    \n",
    "    library = Library()\n",
    "    library.add_book(book)\n",
    "    library.add_book(book2)\n",
    "    assert library.total_pages_in_library() == 700\n",
    "    \n",
    "test_total_pages_in_library()\n",
    "\n",
    "def test_avg_pages_in_library():\n",
    "    \"\"\"тест на среднее количество страниц\"\"\"\n",
    "    book2 = Book(\"title2\", \"avtor1\", \"fantasy\", 400)\n",
    "    book = Book(\"title1\", \"avtor2\", \"roman\", 300)\n",
    "    \n",
    "    library = Library()\n",
    "    library.add_book(book)\n",
    "    library.add_book(book2)\n",
    "    assert library.avg_pages_in_library() == 350\n",
    "    \n",
    "test_avg_pages_in_library()\n",
    "\n",
    "def test_count_book_in_library():\n",
    "    book2 = Book(\"title2\", \"avtor1\", \"fantasy\", 400)\n",
    "    book = Book(\"title1\", \"avtor2\", \"roman\", 300)\n",
    "    library = Library()\n",
    "    library = Library()\n",
    "    library.add_book(book)\n",
    "    library.add_book(book2)\n",
    "    assert library.count_book_in_library() == 2\n",
    "    \n",
    "test_all_book_in_library()"
   ]
  },
  {
   "cell_type": "code",
   "execution_count": null,
   "id": "a008b0f8-d79b-47f7-892b-24d4067c55b2",
   "metadata": {},
   "outputs": [],
   "source": []
  },
  {
   "cell_type": "code",
   "execution_count": null,
   "id": "6b26761a-7b07-4d61-9484-6e376780ed3f",
   "metadata": {},
   "outputs": [],
   "source": []
  }
 ],
 "metadata": {
  "kernelspec": {
   "display_name": "Python 3 (ipykernel)",
   "language": "python",
   "name": "python3"
  },
  "language_info": {
   "codemirror_mode": {
    "name": "ipython",
    "version": 3
   },
   "file_extension": ".py",
   "mimetype": "text/x-python",
   "name": "python",
   "nbconvert_exporter": "python",
   "pygments_lexer": "ipython3",
   "version": "3.10.10"
  }
 },
 "nbformat": 4,
 "nbformat_minor": 5
}
