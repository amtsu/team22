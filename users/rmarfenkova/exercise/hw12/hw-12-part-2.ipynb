{
 "cells": [
  {
   "cell_type": "markdown",
   "id": "148a67cf-f3d5-4175-898e-a2201786ac66",
   "metadata": {},
   "source": [
    "# Расширте поведение классов. Сначала напишите тест, затем реализуйте метод."
   ]
  },
  {
   "cell_type": "markdown",
   "id": "9e4c8632-4906-41db-b476-383447ed2d7e",
   "metadata": {},
   "source": [
    "1. Расширьте класс автомобиль, реализовав метод ускорения автомоиля на 5 км в час. И метод остановки автомобиля."
   ]
  },
  {
   "cell_type": "code",
   "execution_count": null,
   "id": "7be8b8d1-b456-4942-9207-6951aeada42f",
   "metadata": {},
   "outputs": [],
   "source": [
    "class Car():\n",
    "    \"\"\"\n",
    "    Создайте класс Car, который представляет автомобиль.\n",
    "    У него должны быть атрибуты для хранения модели, года выпуска, цвета, количества дверей и текущей скорости.\n",
    "    Добавьте методы которые возвращают год, марку, цвет и текущую скорость автомобиля.\n",
    "    \"\"\"\n",
    "\n",
    "    def __init__(self, model, year_of_issue, color, door, speed):\n",
    "        self.model = model\n",
    "        self.year_of_issue = year_of_issue\n",
    "        self.color = color \n",
    "        self.door = door \n",
    "        self.speed = speed\n",
    "\n",
    "    def get_year_of_issue(self):\n",
    "        return self.year_of_issue\n",
    "\n",
    "    def get_model(self):\n",
    "        return self.model\n",
    "\n",
    "    def get_color(self):\n",
    "        return self.color\n",
    "\n",
    "    def get_speed(self):\n",
    "        return self.speed\n",
    "\n",
    "\n",
    "#Расширьте класс автомобиль, реализовав метод ускорения автомоиля на 5 км в час.\n",
    "#И метод   остановки автомобиля.\n",
    "\n",
    "    def accelerate(self):\n",
    "        \"\"\"\n",
    "        ускорение автомобиля\n",
    "        \"\"\"\n",
    "        self.speed += 5\n",
    "\n",
    "    def stop(self):\n",
    "        \"\"\"\n",
    "        остановка автомобиля\n",
    "        \"\"\"\n",
    "        self.speed = 0"
   ]
  },
  {
   "cell_type": "markdown",
   "id": "9233d498-73bf-4893-9ad8-89a964a7b462",
   "metadata": {},
   "source": [
    "2. Расширьте класс Student, создав метод добавления новой оценки и метод вычисления среднего бала."
   ]
  },
  {
   "cell_type": "code",
   "execution_count": null,
   "id": "548f8e0e-3ee6-4187-b414-897d9395ddca",
   "metadata": {},
   "outputs": [],
   "source": [
    "class Student():\n",
    "    \"\"\"\n",
    "    Создайте класс Student, который представляет студент.\n",
    "    У него должны быть атрибуты для хранения имени, фамилии, возраста, адреса и список оценок.\n",
    "    \"\"\"\n",
    "\n",
    "    def  __init__(self, name: str, surname: str, age: int, address: str, list_estimates: list ):\n",
    "        self.name = name\n",
    "        self.surname = surname\n",
    "        self.age = age\n",
    "        self.address = address\n",
    "        self.list_estimates = list_estimates\n",
    "\n",
    "\n",
    "    \"\"\"Расширьте класс Student, создав метод добавления новой оценки и метод вычисления среднего бала.\"\"\"\n",
    "\n",
    "    def add_estimates(self, value):\n",
    "        \"\"\" метод добавления оценки\"\"\"\n",
    "        self.list_estimates.append(value)\n",
    "\n",
    "    def gpa(self):\n",
    "        \"\"\" метод вычисления среднего балла\"\"\"\n",
    "        if not len(self.list_estimates) == 0:\n",
    "            gpa = sum(self.list_estimates) / len(self.list_estimates)\n",
    "            return round(gpa, 2)\n",
    "        else:\n",
    "            return \"Список пуст\"\n"
   ]
  },
  {
   "cell_type": "markdown",
   "id": "f5be32ac-2052-407f-a9db-54f0f6d97077",
   "metadata": {},
   "source": [
    "3. Создайте класс Shape для представления различных геометрических фигур(круг, прямоугольник треугольник). Реализуйте в нем методы вчисления площали и периметра."
   ]
  },
  {
   "cell_type": "code",
   "execution_count": null,
   "id": "8cc706dd-39f5-4719-b823-a1e98a11250b",
   "metadata": {},
   "outputs": [],
   "source": [
    "from abc import ABC, abstractmethod\n",
    "\n",
    "\"\"\"Создайте класс Shape для представления различных геометрических фигур(круг, прямоугольник треугольник). Реализуйте в нем методы вчисления площали и периметра.\"\"\"\n",
    "\n",
    "class Shape(ABC):\n",
    "\n",
    "# Абстрактные методы - это методы, которые объявлены, но не реализованы в абстрактном базовом классе. \n",
    "# Они должны быть реализованы в подклассах.\n",
    "# Классы-потомки Circle, Rectangle и Triangle должны реализовать эти абстрактные методы,\n",
    "# иначе возникнет ошибка при попытке создания экземпляров этих классов.\n",
    "\n",
    "    @abstractmethod\n",
    "    def area(self):\n",
    "        pass\n",
    "\n",
    "    @abstractmethod\n",
    "    def perimeter(self):\n",
    "        pass\n",
    "\n",
    "\"\"\"Изменить ранее написнаны классы геометрических фигур так чтобы они были наслдниками класса Shape.\"\"\"\n",
    "\n",
    "\n",
    "class Circle(Shape):\n",
    "\n",
    "    def __init__(self, radius: int):\n",
    "        self.radius = radius\n",
    "\n",
    "    def area(self):\n",
    "        \"\"\" метод вычисления площади круга\"\"\"\n",
    "        return 3.14 * self.radius ** 2\n",
    "\n",
    "    def perimeter(self):\n",
    "        \"\"\" метод вычисления периметра круга \"\"\"\n",
    "        return 2 * 3.14 * self.radius\n",
    "\n",
    "class Rectangle(Shape):\n",
    "\n",
    "    def __init__(self, width: int, height: int):\n",
    "        self.width = width\n",
    "        self.height = height\n",
    "\n",
    "    def area(self):\n",
    "        \"\"\" метод вычисления площади прямоугольника\"\"\"\n",
    "        return self.width * self.height\n",
    "\n",
    "    def perimeter(self):\n",
    "        \"\"\"метод вычисления периметра прямоугольника\"\"\"\n",
    "        return 2 * (self.width + self.height)\n",
    "\n",
    "class Triangle(Shape):\n",
    "\n",
    "    def __init__(self, side1: int, side2: int, side3: int):\n",
    "        self.side1 = side1\n",
    "        self.side2 = side2\n",
    "        self.side3 = side3\n",
    "\n",
    "    def area(self):\n",
    "        \"\"\" метод вычисления площади треугольника\"\"\"\n",
    "        s = (self.side1 + self.side2 + self.side3) / 2\n",
    "        return ((s * (s - self.side1) * (s - self.side2) * (s - self.side3))) ** 0.5\n",
    "\n",
    "    def perimeter(self):\n",
    "        \"\"\"метод вычисления периметра прямоугольника\"\"\"\n",
    "        return self.side1 + self.side2 + self.side3\n"
   ]
  },
  {
   "cell_type": "markdown",
   "id": "050954ae-4aaf-49f0-be97-dac5293b5f5c",
   "metadata": {},
   "source": [
    "# И еще"
   ]
  },
  {
   "cell_type": "markdown",
   "id": "8ae165d2-f7ea-419d-b3bc-18fe2089074e",
   "metadata": {},
   "source": [
    "4. Изменить ранее написнаны классы геометрических фигур так чтобы они были наслдниками класса Shape."
   ]
  },
  {
   "cell_type": "code",
   "execution_count": 11,
   "id": "ec39865d-aa31-422b-a8d2-8eca96df9fab",
   "metadata": {},
   "outputs": [],
   "source": [
    "c = Circle(5)"
   ]
  },
  {
   "cell_type": "code",
   "execution_count": 12,
   "id": "43df7c21-4651-4632-b745-abe9a981d47e",
   "metadata": {},
   "outputs": [
    {
     "data": {
      "text/plain": [
       "78.5"
      ]
     },
     "execution_count": 12,
     "metadata": {},
     "output_type": "execute_result"
    }
   ],
   "source": [
    "c.area()"
   ]
  },
  {
   "cell_type": "code",
   "execution_count": 13,
   "id": "b3704bf0-583a-497c-b27e-c360795862dc",
   "metadata": {},
   "outputs": [
    {
     "data": {
      "text/plain": [
       "31.400000000000002"
      ]
     },
     "execution_count": 13,
     "metadata": {},
     "output_type": "execute_result"
    }
   ],
   "source": [
    "c.perimeter()"
   ]
  },
  {
   "cell_type": "code",
   "execution_count": 18,
   "id": "2f71956b-5e63-4c77-b8cd-96652ef575ec",
   "metadata": {},
   "outputs": [],
   "source": [
    "r = Rectangle(5, 7)"
   ]
  },
  {
   "cell_type": "code",
   "execution_count": 22,
   "id": "e0856514-0b1a-419b-bbe5-036301e8ba91",
   "metadata": {},
   "outputs": [
    {
     "data": {
      "text/plain": [
       "35"
      ]
     },
     "execution_count": 22,
     "metadata": {},
     "output_type": "execute_result"
    }
   ],
   "source": [
    "r.area()"
   ]
  },
  {
   "cell_type": "code",
   "execution_count": 23,
   "id": "7537755c-d55a-485d-960c-4074cb7abffb",
   "metadata": {},
   "outputs": [
    {
     "data": {
      "text/plain": [
       "24"
      ]
     },
     "execution_count": 23,
     "metadata": {},
     "output_type": "execute_result"
    }
   ],
   "source": [
    "r.perimeter()"
   ]
  },
  {
   "cell_type": "code",
   "execution_count": 25,
   "id": "5f1d0956-8ad8-4d33-afb4-4cac6d1b3ee5",
   "metadata": {},
   "outputs": [],
   "source": [
    "t = Triangle(5, 5, 5)"
   ]
  },
  {
   "cell_type": "code",
   "execution_count": 26,
   "id": "a241f16b-c64c-46c8-a96e-3d34dc938ae8",
   "metadata": {},
   "outputs": [
    {
     "data": {
      "text/plain": [
       "10.825317547305483"
      ]
     },
     "execution_count": 26,
     "metadata": {},
     "output_type": "execute_result"
    }
   ],
   "source": [
    "t.area()"
   ]
  },
  {
   "cell_type": "code",
   "execution_count": 27,
   "id": "808c92e8-fa58-497a-b895-0052124b1c3e",
   "metadata": {},
   "outputs": [
    {
     "data": {
      "text/plain": [
       "15"
      ]
     },
     "execution_count": 27,
     "metadata": {},
     "output_type": "execute_result"
    }
   ],
   "source": [
    "t.perimeter()"
   ]
  },
  {
   "cell_type": "markdown",
   "id": "d76150e4-e77d-45bd-9679-f9a5c224d7b7",
   "metadata": {},
   "source": [
    "5. Создайьте класс для учета студентов в учебном заведении. Реализуйте методы добавления нового студента(указав имя, возраст, ...), отчисление студента из учебного завдения и вывод списка всех студентов."
   ]
  },
  {
   "cell_type": "code",
   "execution_count": 50,
   "id": "2e284770-f1fe-41b2-8460-d73892ce67a6",
   "metadata": {},
   "outputs": [],
   "source": [
    "class Student():\n",
    "    \"\"\"\n",
    "    Создайте класс Student, который представляет студент.\n",
    "    У него должны быть атрибуты для хранения имени, фамилии, возраста, адреса и список оценок.\n",
    "    \"\"\"\n",
    "\n",
    "    def  __init__(self, name: str, surname: str, age: int, address: str, list_estimates: list ):\n",
    "        self.name = name\n",
    "        self.surname = surname\n",
    "        self.age = age\n",
    "        self.address = address\n",
    "        self.list_estimates = list_estimates\n",
    "\n",
    "\n",
    "    \"\"\"Расширьте класс Student, создав метод добавления новой оценки и метод вычисления среднего бала.\"\"\"\n",
    "\n",
    "    def add_estimates(self, value):\n",
    "        \"\"\" метод добавления оценки\"\"\"\n",
    "        self.list_estimates.append(value)\n",
    "\n",
    "    def gpa(self):\n",
    "        \"\"\" метод вычисления среднего балла\"\"\"\n",
    "        if not len(self.list_estimates) == 0:\n",
    "            gpa = sum(self.list_estimates) / len(self.list_estimates)\n",
    "            return round(gpa, 2)\n",
    "        else:\n",
    "            return \"Список пуст\"\n",
    "\n",
    "\"\"\"\n",
    "Создайьте класс для учета студентов в учебном заведении.\n",
    "Реализуйте методы добавления нового студента(указав имя, возраст, ...),\n",
    "отчисление студента из учебного завдения и вывод списка всех студентов.\n",
    "\"\"\"\n",
    "\n",
    "class University():\n",
    "    def __init__(self):\n",
    "        self.students_list = []\n",
    "\n",
    "    def add_student(self, student):\n",
    "        self.students_list.append(student)\n",
    "\n",
    "    def remove_student(self, surname):\n",
    "        for student in self.students_list:\n",
    "            if surname == student.surname:\n",
    "                self.students_list.remove(student)\n",
    "            else:\n",
    "                return f\"Студент {surname} не найден\"\n",
    "\n",
    "    def display_students(self):\n",
    "        result = []\n",
    "        for student in self.students_list:\n",
    "            result.append(f\"{student.name} {student.surname}\")\n",
    "        return result"
   ]
  },
  {
   "cell_type": "code",
   "execution_count": 51,
   "id": "dbacc95f-a87d-4fde-a45d-eab3b33e3214",
   "metadata": {},
   "outputs": [],
   "source": [
    "student1 = Student(\"Ivan\", \"Petrov\", 33, \"Smolnay_street\", [])"
   ]
  },
  {
   "cell_type": "code",
   "execution_count": 52,
   "id": "e496f81d-6fcd-4c63-ae25-7cd93b05af17",
   "metadata": {},
   "outputs": [],
   "source": [
    "student2 = Student(\"Stas\", \"Ivanov\", 25, \"Smolnay_street\", [])"
   ]
  },
  {
   "cell_type": "code",
   "execution_count": 53,
   "id": "97d42fb5-0448-44e9-a6f0-3e86f6841318",
   "metadata": {},
   "outputs": [],
   "source": [
    "student3 = Student(\"Anna\", \"Kim\", 28, \"Smolnay_street\", [])"
   ]
  },
  {
   "cell_type": "code",
   "execution_count": 54,
   "id": "5242de07-41a1-4350-9a40-1c38b44a0ca9",
   "metadata": {},
   "outputs": [],
   "source": [
    "l = University()"
   ]
  },
  {
   "cell_type": "code",
   "execution_count": 55,
   "id": "f5a426b1-42b6-462a-a1d9-99266bfd7fa6",
   "metadata": {},
   "outputs": [],
   "source": [
    "l.add_student(student1)"
   ]
  },
  {
   "cell_type": "code",
   "execution_count": 56,
   "id": "a248f003-3715-4bb2-a258-108dfc56d678",
   "metadata": {},
   "outputs": [],
   "source": [
    "l.add_student(student2)"
   ]
  },
  {
   "cell_type": "code",
   "execution_count": 57,
   "id": "a76f8d4f-a164-49dd-8456-da10afa8fb91",
   "metadata": {},
   "outputs": [],
   "source": [
    "l.add_student(student3)"
   ]
  },
  {
   "cell_type": "code",
   "execution_count": 58,
   "id": "b4a1a91e-d0a5-4c22-98b2-a702f8e2174d",
   "metadata": {},
   "outputs": [
    {
     "data": {
      "text/plain": [
       "'Студент Ivanov не найден'"
      ]
     },
     "execution_count": 58,
     "metadata": {},
     "output_type": "execute_result"
    }
   ],
   "source": [
    "l.remove_student(\"Ivanov\")"
   ]
  },
  {
   "cell_type": "code",
   "execution_count": 59,
   "id": "5ded6c2d-4696-445a-b916-b8cbf220226f",
   "metadata": {},
   "outputs": [
    {
     "name": "stdout",
     "output_type": "stream",
     "text": [
      "['Ivan Petrov', 'Stas Ivanov', 'Anna Kim']\n"
     ]
    }
   ],
   "source": [
    "print(l.display_students())"
   ]
  },
  {
   "cell_type": "code",
   "execution_count": 60,
   "id": "000dfa7d-58ad-4433-8f66-bada020a0e61",
   "metadata": {},
   "outputs": [
    {
     "data": {
      "text/plain": [
       "['Ivan Petrov', 'Stas Ivanov', 'Anna Kim']"
      ]
     },
     "execution_count": 60,
     "metadata": {},
     "output_type": "execute_result"
    }
   ],
   "source": [
    "l.display_students()"
   ]
  },
  {
   "cell_type": "code",
   "execution_count": 28,
   "id": "4671217e-da43-4c4b-ac6d-b13bd4033876",
   "metadata": {},
   "outputs": [],
   "source": [
    "class Student:\n",
    "    def __init__(self, name, surname, age, address, grades):\n",
    "        self.name = name\n",
    "        self.surname = surname\n",
    "        self.age = age\n",
    "        self.address = address\n",
    "        self.grades = grades\n",
    "\n",
    "    def __str__(self):\n",
    "        return f\"{self.name}, {self.surname}, {self.age}, {self.address}, {self.grades}\""
   ]
  },
  {
   "cell_type": "code",
   "execution_count": 215,
   "id": "fb424c2f-b622-429e-852c-9d05a7035a8a",
   "metadata": {},
   "outputs": [],
   "source": [
    "st = Student(\"Anna\", \"Kim\", 28, \"Smolnay_street\", [])"
   ]
  },
  {
   "cell_type": "code",
   "execution_count": 103,
   "id": "f79c19b0-aab4-46e3-a08d-0b0669d66476",
   "metadata": {},
   "outputs": [
    {
     "name": "stdout",
     "output_type": "stream",
     "text": [
      "Anna, Kim, 28, Smolnay_street, []\n"
     ]
    }
   ],
   "source": [
    "print(st)"
   ]
  },
  {
   "cell_type": "code",
   "execution_count": null,
   "id": "b82b2917-293a-4aca-a088-cadc631af0f4",
   "metadata": {},
   "outputs": [],
   "source": [
    "class Book():\n",
    "    \"\"\"\n",
    "    Создайте класс Book, который представляет книгу. У него должны быть атрибуты для хранения названия, автора,\n",
    "    количества страниц и издательства. Добавьте методы для установки и получения этих атрибутов.\n",
    "    \"\"\"\n",
    "\n",
    "    def __init__(self):\n",
    "        self.__book_title = \"\"\n",
    "        self.__author = \"\"\n",
    "        self.__pages = 0\n",
    "        self.__publishing_house = \"\"\n",
    "        \n",
    "    @property    \n",
    "    def title(self):      # метод получения атрибутов\n",
    "        return self.__book_title\n",
    "\n",
    "    @title.setter   \n",
    "    def title(self, title):    # метод для установки фтрибутов\n",
    "        self.__book_title = title\n",
    "        \n",
    "    @property    \n",
    "    def author(self):\n",
    "        return self.__author\n",
    "+\n",
    "    @author.setter\n",
    "    def author(self, author):\n",
    "        self.__author = author\n",
    "        \n",
    "    @property    \n",
    "    def pages(self):\n",
    "        return self.__pages\n",
    "\n",
    "    @pages.setter\n",
    "    def pages(self, pages):\n",
    "        if type(pages) is int and pages > 0:\n",
    "            self.__pages = pages\n",
    "        else:\n",
    "            raise ValueError\n",
    "    \n",
    "    @property   \n",
    "    def publisher(self):\n",
    "        return self.__publisher\n",
    "        \n",
    "    @publisher.setter\n",
    "    def publisher(self, publisher):\n",
    "        self.__publisher = publisher\n",
    "\n",
    "    @staticmethod\n",
    "    def create(a_book_title, a_author, num_pages, a_publisher):\n",
    "        \"\"\"\n",
    "        статический метод класса(вызываемый не зависимо от создания экземпляра)\n",
    "        который возвращает экземпляр класса\n",
    "        \"\"\"\n",
    "        new_book = Book()\n",
    "        new_book.book_title = a_book_title\n",
    "        new_book.author = a_author\n",
    "        new_book.pages = num_pages\n",
    "        new_book.publisher = a_publisher\n",
    "        return new_book"
   ]
  },
  {
   "cell_type": "code",
   "execution_count": null,
   "id": "d9d2e64a-9fee-41ed-a0e7-a8271f8a4549",
   "metadata": {},
   "outputs": [],
   "source": [
    "book = Book"
   ]
  },
  {
   "cell_type": "markdown",
   "id": "083f236f-a104-447b-afaa-8f09f73810b6",
   "metadata": {},
   "source": [
    "6. Измените класс учебного заведния чтобы они внутри себя для хранния информации о студентах использовал класс Student."
   ]
  },
  {
   "cell_type": "markdown",
   "id": "e289a84d-a9cf-4308-97c2-bbb371e2f382",
   "metadata": {},
   "source": [
    "8. Создайте класс Polygon, который представляет многоугольник. У него должен быть атрибут для хранения списка вершин. Добавьте методы для вычисления площади и периметра многоугольника."
   ]
  },
  {
   "cell_type": "code",
   "execution_count": 11,
   "id": "ee03bcad-9c0c-4a93-be63-f7c7bea3348d",
   "metadata": {},
   "outputs": [
    {
     "name": "stdout",
     "output_type": "stream",
     "text": [
      "Периметр многоугольника: 4.0\n",
      "Площадь многоугольника: 1.0\n"
     ]
    }
   ],
   "source": [
    "class Point():\n",
    "    \"\"\"\n",
    "    Создайте класс Point, который представляет точку в двумерном пространстве.\n",
    "    У него должны быть атрибуты для хранения координат x и y.\n",
    "    Добавьте методы для вычисления расстояния между двумя точками.\n",
    "    \"\"\"\n",
    "    \n",
    "    def __init__(self, x, y):\n",
    "        self.x = x\n",
    "        self.y = y\n",
    "\n",
    "    def distance(self, other_point):\n",
    "        \"\"\" вычисляет расстояние между двух точек в пространстве \"\"\"\n",
    "        distanse = ((self.x - other_point.x) ** 2 + (self.y - other_point.y) ** 2) ** 0.5\n",
    "        return round(distanse, 2)\n",
    "       \n",
    "class Polygon:\n",
    "    def __init__(self, points):\n",
    "        self.points = points\n",
    "\n",
    "    def perimeter(self):\n",
    "        \"\"\" вычисляет периметр многоугольника \"\"\"\n",
    "        perimeter = 0\n",
    "        for i in range(len(self.points)):\n",
    "            current_point = self.points[i]\n",
    "            next_point = self.points[(i + 1) % len(self.points)]  # следующая точка, с учетом замыкающейся формы многоугольника\n",
    "            perimeter += current_point.distance(next_point)\n",
    "        return round(perimeter, 2)\n",
    "\n",
    "    def area(self):\n",
    "        \"\"\" вычисляет площадь многоугольника \"\"\"\n",
    "        area = 0\n",
    "        for i in range(len(self.points)):\n",
    "            current_point = self.points[i]\n",
    "            next_point = self.points[(i + 1) % len(self.points)]  # следующая точка, с учетом замыкающейся формы многоугольника\n",
    "            area += current_point.x * next_point.y - current_point.y * next_point.x\n",
    "        return round(abs(area) / 2, 2)\n",
    "\n",
    "\n",
    "# Создание точек\n",
    "point1 = Point(0, 0)\n",
    "point2 = Point(0, 1)\n",
    "point3 = Point(1, 1)\n",
    "point4 = Point(1, 0)\n",
    "\n",
    "# Создание многоугольника\n",
    "polygon = Polygon([point1, point2, point3, point4])\n",
    "\n",
    "# Вычисление периметра и площади многоугольника\n",
    "perimeter = polygon.perimeter()\n",
    "area = polygon.area()\n",
    "\n",
    "print(\"Периметр многоугольника:\", perimeter)\n",
    "print(\"Площадь многоугольника:\", area)"
   ]
  },
  {
   "cell_type": "code",
   "execution_count": 12,
   "id": "da5234f2-8ff7-4029-a366-5a5aa2176560",
   "metadata": {},
   "outputs": [
    {
     "name": "stdout",
     "output_type": "stream",
     "text": [
      "Периметр многоугольника: 26.09\n",
      "Площадь многоугольника: 30.0\n"
     ]
    }
   ],
   "source": [
    "# Создание точек\n",
    "point1 = Point(3, 4)\n",
    "point2 = Point(5, 11)\n",
    "point3 = Point(12, 8)\n",
    "point4 = Point(9, 5)\n",
    "point5 = Point(5, 6)\n",
    "# Создание многоугольника\n",
    "polygon = Polygon([point1, point2, point3, point4, point5])\n",
    "\n",
    "# Вычисление периметра и площади многоугольника\n",
    "perimeter = polygon.perimeter()\n",
    "area = polygon.area()\n",
    "\n",
    "print(\"Периметр многоугольника:\", perimeter)\n",
    "print(\"Площадь многоугольника:\", area)"
   ]
  },
  {
   "cell_type": "code",
   "execution_count": 13,
   "id": "cce03c37-2430-45c3-815b-b8f163d779e3",
   "metadata": {},
   "outputs": [
    {
     "name": "stdout",
     "output_type": "stream",
     "text": [
      "Периметр многоугольника: 20.0\n",
      "Площадь многоугольника: 24.0\n"
     ]
    }
   ],
   "source": [
    "# Создание точек\n",
    "point1 = Point(0, 0)\n",
    "point2 = Point(0, 4)\n",
    "point3 = Point(6, 4)\n",
    "point4 = Point(6,0)\n",
    "\n",
    "# Создание многоугольника\n",
    "polygon = Polygon([point1, point2, point3, point4])\n",
    "\n",
    "# Вычисление периметра и площади многоугольника\n",
    "perimeter = polygon.perimeter()\n",
    "area = polygon.area()\n",
    "\n",
    "print(\"Периметр многоугольника:\", perimeter)\n",
    "print(\"Площадь многоугольника:\", area)"
   ]
  },
  {
   "cell_type": "code",
   "execution_count": null,
   "id": "54055738-c8a5-458a-b335-09a107ef3b69",
   "metadata": {},
   "outputs": [],
   "source": []
  },
  {
   "cell_type": "code",
   "execution_count": 15,
   "id": "8e4e3ab7-b06c-407a-ab23-fb1917a4880a",
   "metadata": {},
   "outputs": [
    {
     "name": "stdout",
     "output_type": "stream",
     "text": [
      "Периметр многоугольника: 9.66\n",
      "Площадь многоугольника: 4.0\n"
     ]
    }
   ],
   "source": [
    "# Создание точек\n",
    "point1 = Point(1, 1)\n",
    "point2 = Point(3, 3)\n",
    "point3 = Point(5, 1)\n",
    "\n",
    "\n",
    "# Создание многоугольника\n",
    "polygon = Polygon([point1, point2, point3])\n",
    "/\n",
    "# Вычисление периметра и площади многоугольника\n",
    "perimeter = polygon.perimeter()\n",
    "area = polygon.area()\n",
    "\n",
    "print(\"Периметр многоугольника:\", perimeter)\n",
    "print(\"Площадь многоугольника:\", area)"
   ]
  },
  {
   "cell_type": "code",
   "execution_count": null,
   "id": "f1fd9edb-c2db-47a7-af48-a30de322e683",
   "metadata": {},
   "outputs": [],
   "source": []
  },
  {
   "cell_type": "markdown",
   "id": "cd17077d-f5f3-4f49-8b4b-d85e2cb05b01",
   "metadata": {},
   "source": [
    "##### 748"
   ]
  },
  {
   "cell_type": "code",
   "execution_count": 6,
   "id": "5f75a9cd-0d27-485a-b3fa-644c3d32f164",
   "metadata": {},
   "outputs": [],
   "source": [
    "import math \n",
    "\n",
    "class Polygon():\n",
    "\n",
    "    def __init__(self):\n",
    "        self.vertices = []\n",
    "\n",
    "    \n",
    "    def add_vertex(self, x, y):\n",
    "        self.vertices.append((x, y))\n",
    "        return self.vertices\n",
    "\n",
    "\n",
    "    def perimeter(self):\n",
    "        perimeter = 0\n",
    "        n = len(self.vertices) #количество вершин многоугольника\n",
    "        for i in range(n):\n",
    "            x1, y1 = self.vertices[i]\n",
    "            x2, y2 = self.vertices[(i + 1) % n]\n",
    "            '''оператор % используется для замыкания многоугольника при переборе его вершин.\n",
    "            ператор % возвращает остаток от деления (i + 1) на количество вершин многоугольника n. \n",
    "            Таким образом, если (i + 1) превышает n - 1 (последний индекс), \n",
    "            остаток от деления позволит вернуться к первой вершине многоугольника.\n",
    "            Это обеспечивает циклический перебор вершин многоугольника, \n",
    "            начиная с первой вершины после последней.'''\n",
    "            perimeter += math.sqrt((x2 - x1) ** 2 + (y2 - y1) ** 2) \n",
    "        return perimeter\n",
    "\n",
    "    def polygon_area(self):\n",
    "        area = 0\n",
    "        n = len(self.vertices)\n",
    "        for i in range(n):\n",
    "            x1, y1 = self.vertices[i]\n",
    "            x2, y2 = self.vertices[(i + 1) % n]\n",
    "            area += x1 * y2 - x2 * y1\n",
    "            result = 0.5 * abs(area)\n",
    "        return result"
   ]
  },
  {
   "cell_type": "code",
   "execution_count": 7,
   "id": "c1f4ef86-cfae-4c94-8c86-3ebc6a0dbc75",
   "metadata": {},
   "outputs": [
    {
     "ename": "TypeError",
     "evalue": "Polygon.__init__() takes 1 positional argument but 2 were given",
     "output_type": "error",
     "traceback": [
      "\u001b[0;31m---------------------------------------------------------------------------\u001b[0m",
      "\u001b[0;31mTypeError\u001b[0m                                 Traceback (most recent call last)",
      "Cell \u001b[0;32mIn[7], line 7\u001b[0m\n\u001b[1;32m      5\u001b[0m point5 \u001b[38;5;241m=\u001b[39m Point(\u001b[38;5;241m5\u001b[39m, \u001b[38;5;241m6\u001b[39m)\n\u001b[1;32m      6\u001b[0m \u001b[38;5;66;03m# Создание многоугольника\u001b[39;00m\n\u001b[0;32m----> 7\u001b[0m polygon \u001b[38;5;241m=\u001b[39m \u001b[43mPolygon\u001b[49m\u001b[43m(\u001b[49m\u001b[43m[\u001b[49m\u001b[43mpoint1\u001b[49m\u001b[43m,\u001b[49m\u001b[43m \u001b[49m\u001b[43mpoint2\u001b[49m\u001b[43m,\u001b[49m\u001b[43m \u001b[49m\u001b[43mpoint3\u001b[49m\u001b[43m,\u001b[49m\u001b[43m \u001b[49m\u001b[43mpoint4\u001b[49m\u001b[43m,\u001b[49m\u001b[43m \u001b[49m\u001b[43mpoint5\u001b[49m\u001b[43m]\u001b[49m\u001b[43m)\u001b[49m\n",
      "\u001b[0;31mTypeError\u001b[0m: Polygon.__init__() takes 1 positional argument but 2 were given"
     ]
    }
   ],
   "source": [
    "point1 = Point(3, 4)\n",
    "point2 = Point(5, 11)\n",
    "point3 = Point(12, 8)\n",
    "point4 = Point(9, 5)\n",
    "point5 = Point(5, 6)\n",
    "# Создание многоугольника\n",
    "polygon = Polygon([point1, point2, point3, point4, point5])"
   ]
  },
  {
   "cell_type": "code",
   "execution_count": null,
   "id": "473fe7ac-fa03-4d62-b26d-ab29f79292d5",
   "metadata": {},
   "outputs": [],
   "source": []
  },
  {
   "cell_type": "code",
   "execution_count": null,
   "id": "5c101ce3-bb20-4245-a0dd-8bcb22f9a9de",
   "metadata": {},
   "outputs": [],
   "source": []
  },
  {
   "cell_type": "code",
   "execution_count": null,
   "id": "74bf84d1-805e-49b1-a5db-eb695615001e",
   "metadata": {},
   "outputs": [],
   "source": []
  }
 ],
 "metadata": {
  "kernelspec": {
   "display_name": "Python 3 (ipykernel)",
   "language": "python",
   "name": "python3"
  },
  "language_info": {
   "codemirror_mode": {
    "name": "ipython",
    "version": 3
   },
   "file_extension": ".py",
   "mimetype": "text/x-python",
   "name": "python",
   "nbconvert_exporter": "python",
   "pygments_lexer": "ipython3",
   "version": "3.10.10"
  }
 },
 "nbformat": 4,
 "nbformat_minor": 5
}
