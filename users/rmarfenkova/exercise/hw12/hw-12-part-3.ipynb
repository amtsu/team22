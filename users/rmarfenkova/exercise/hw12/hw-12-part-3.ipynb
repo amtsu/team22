{
 "cells": [
  {
   "cell_type": "markdown",
   "id": "3d9836bc-7997-40b7-9b21-9050fdc61629",
   "metadata": {},
   "source": [
    "# Реализуйте задния"
   ]
  },
  {
   "cell_type": "markdown",
   "id": "1ed5fa52-84c4-46c6-8bfa-2a0a059e580c",
   "metadata": {},
   "source": [
    "1. Созлдайте класс для работы с матрицами. Который будет представлять матрицы и поддреживать основные операции сложение, вычитание умножение транспонирование. Затем добавьте методы для вычисления определителя матрицы и вычисления обраной матрицы."
   ]
  },
  {
   "cell_type": "code",
   "execution_count": 21,
   "id": "8e6fcea4-f854-481b-a0b0-3c3b3a7d74c6",
   "metadata": {},
   "outputs": [],
   "source": [
    "class Matrix:\n",
    "    \n",
    "    def __init__(self, rows):\n",
    "        self.rows = rows\n",
    "        self.num_rows = len(rows)\n",
    "        self.num_cols = len(rows[0])\n",
    "\n",
    "    # def __str__(self):\n",
    "    #     matrix_str = \"\"\n",
    "    #     for row in self.rows:\n",
    "    #         matrix_str += \"  \".join(map(str, row)) + \"\\n\"\n",
    "    #     return matrix_str\n",
    "\n",
    "  \n",
    "    def __add__(self, other):\n",
    "        \"\"\"сложение матриц\"\"\"\n",
    "        if self.num_rows != other.num_rows or self.num_cols != other.num_cols:\n",
    "            raise ValueError(\"Матрицы должны быть одного размера\")\n",
    "        result = []\n",
    "        for i in range(self.num_rows):\n",
    "            row = []\n",
    "            for j in range(self.num_cols):\n",
    "                row.append(self.rows[i][j] + other.rows[i][j])\n",
    "            result.append(row)\n",
    "        return Matrix(result)\n",
    "\n",
    "    def __sub__(self, other):\n",
    "        \"\"\"вычитание матриц\"\"\"\n",
    "        if self.num_rows != other.num_rows or self.num_cols != other.num_cols:\n",
    "            raise ValueError(\"Матрицы должны быть одного размера\")\n",
    "        result = []\n",
    "        for i in range(self.num_rows):\n",
    "            row = []\n",
    "            for j in range(self.num_cols):\n",
    "                row.append(self.rows[i][j] - other.rows[i][j])\n",
    "            result.append(row)\n",
    "        return Matrix(result)\n",
    "\n",
    "    def __mul__(self, other):   # Cji = Aik * Bkj\n",
    "        \"\"\"произведение матриц\"\"\"\n",
    "        if self.num_cols != other.num_rows:\n",
    "            raise ValueError(\n",
    "                \"Количество столбцов в первой матрице должно быть равно количеству строк во второй матрице.\"\n",
    "            )\n",
    "        result = []\n",
    "        for i in range(self.num_rows):\n",
    "            row = []\n",
    "            for j in range(other.num_cols):\n",
    "                element = 0\n",
    "                for k in range(self.num_cols):\n",
    "                    element += self.rows[i][k] * other.rows[k][j]\n",
    "                row.append(element)\n",
    "            result.append(row)\n",
    "        return Matrix(result)\n",
    "\n",
    "    def transpose(self):\n",
    "        \"\"\"транспонирование матрицы: - первая строка матрицы А становится первым столбцом матрицы В\"\"\"\n",
    "        transposed = [[self.rows[j][i] for j in range(self.num_rows)] for i in range(self.num_cols)]\n",
    "        return Matrix(transposed)\n",
    "\n",
    "    def determinant(self):\n",
    "        \"\"\"определитель матрицы, способ рекурсивного поиска\"\"\"\n",
    "        if self.num_rows != self.num_cols:\n",
    "            raise ValueError(\"Определитель можно вычислить только для квадратных матриц.\")\n",
    "        if self.num_rows == 1:\n",
    "            return self.rows[0][0]\n",
    "        if self.num_rows == 2:\n",
    "            return self.rows[0][0] * self.rows[1][1] - self.rows[0][1] * self.rows[1][0]\n",
    "        det = 0\n",
    "        for j in range(self.num_cols):\n",
    "            minor = [row[:j] + row[j + 1:] for row in self.rows[1:]]\n",
    "            det += ((-1) ** j) * self.rows[0][j] * Matrix(minor).determinant()\n",
    "        return det\n",
    "\n",
    "    def inverse(self):\n",
    "        \"\"\"вычисление обратной матрицы\"\"\"\n",
    "        if self.num_rows != self.num_cols:\n",
    "            raise ValueError(\"Можно вычислить только для квадратных матриц\")\n",
    "        det = self.determinant()\n",
    "        if det == 0:\n",
    "            raise ValueError(\"Матрица сингулярна, ее нельзя вычислить обратно\")\n",
    "        adjoint = [[((-1) ** (i + j)) * Matrix([row[:j] + row[j + 1:] for row in self.rows[:i] + self.rows[i + 1:]]).determinant() for j in range(self.num_cols)] for i in range(self.num_rows)]\n",
    "        adjoint_transpose = Matrix(adjoint).transpose()\n",
    "        return adjoint_transpose * (1.0 / det)\n",
    "\n"
   ]
  },
  {
   "cell_type": "code",
   "execution_count": 22,
   "id": "093651e6-65a7-4dd6-a488-ecd4b66087a1",
   "metadata": {},
   "outputs": [],
   "source": [
    "# A = Matrix([[1, 2, 3],\n",
    "#             [0, 1, 0],\n",
    "#             [4, 5, 6]])\n",
    "\n",
    "\n",
    "# # Вывод исходной матрицы\n",
    "# print(\"Исходная матрица:\")\n",
    "# print(A.rows)\n",
    "# # Вычисление обратной матрицы\n",
    "# inverse_matrix = A.inverse()\n",
    "\n",
    "# # Вывод обратной матрицы\n",
    "# print(\"\\nОбратная матрица:\")\n",
    "# print(inverse_matrix)"
   ]
  },
  {
   "cell_type": "code",
   "execution_count": 25,
   "id": "96f54412-2852-4887-bfd1-ce5a148b6108",
   "metadata": {},
   "outputs": [],
   "source": [
    "A = Matrix([[1, 2, 3],\n",
    "            [4, 5, 6],\n",
    "            [7, 8, 9]])\n",
    "\n",
    "B = Matrix([[9, 8, 7],\n",
    "            [6, 5, 4],\n",
    "            [3, 2, 1]])"
   ]
  },
  {
   "cell_type": "code",
   "execution_count": 4,
   "id": "598771d4-6496-4020-8c38-90f2d9213733",
   "metadata": {},
   "outputs": [
    {
     "name": "stdout",
     "output_type": "stream",
     "text": [
      "[[10, 10, 10], [10, 10, 10], [10, 10, 10]]\n"
     ]
    }
   ],
   "source": [
    "C = A + B\n",
    "print(C.rows)"
   ]
  },
  {
   "cell_type": "code",
   "execution_count": 5,
   "id": "5e04ab3c-1b42-4c2a-9e74-bd099fe76a15",
   "metadata": {},
   "outputs": [
    {
     "name": "stdout",
     "output_type": "stream",
     "text": [
      "[[-8, -6, -4], [-2, 0, 2], [4, 6, 8]]\n"
     ]
    }
   ],
   "source": [
    "C = A - B\n",
    "print(C.rows)"
   ]
  },
  {
   "cell_type": "code",
   "execution_count": 6,
   "id": "b9bd21db-5741-4ddf-a95b-ead2a0fa9167",
   "metadata": {},
   "outputs": [
    {
     "name": "stdout",
     "output_type": "stream",
     "text": [
      "[[84, 90, 96], [201, 216, 231], [318, 342, 366]]\n"
     ]
    }
   ],
   "source": [
    "A = Matrix([[1, 2, 3],\n",
    "            [4, 5, 6],\n",
    "            [7, 8, 9]])\n",
    "\n",
    "B = Matrix([[10, 11, 12],\n",
    "           [13, 14, 15],\n",
    "           [16, 17, 18]])\n",
    "C = A * B\n",
    "print(C.rows)"
   ]
  },
  {
   "cell_type": "code",
   "execution_count": 7,
   "id": "30951118-1490-4c63-b830-1146d0b4959b",
   "metadata": {},
   "outputs": [
    {
     "name": "stdout",
     "output_type": "stream",
     "text": [
      "[[1, 4, 7], [2, 5, 8], [3, 6, 9]]\n"
     ]
    }
   ],
   "source": [
    "A = Matrix([[1, 2, 3],\n",
    "            [4, 5, 6],\n",
    "            [7, 8, 9]])\n",
    "B = A.transpose()\n",
    "print(B.rows)"
   ]
  },
  {
   "cell_type": "code",
   "execution_count": 8,
   "id": "6a038ca6-c259-49d0-b3ee-84a36214fa5b",
   "metadata": {},
   "outputs": [
    {
     "name": "stdout",
     "output_type": "stream",
     "text": [
      " Определитель матрицы 2 на 2 раверн: -2\n",
      " Определитель матрицы 3 на 3 раверн: -240\n"
     ]
    }
   ],
   "source": [
    "A = Matrix([[1, 2],\n",
    "            [3, 4]])\n",
    "det = A.determinant()\n",
    "print(f\" Определитель матрицы 2 на 2 раверн: {det}\")\n",
    "B = Matrix([[1, 2, 9],\n",
    "            [3, 7, -1],\n",
    "            [5, 3, 1]])\n",
    "det = B.determinant()\n",
    "print(f\" Определитель матрицы 3 на 3 раверн: {det}\")"
   ]
  },
  {
   "cell_type": "code",
   "execution_count": 9,
   "id": "02e7a25d-bf5c-41e2-bcc1-c6ddd96e5e14",
   "metadata": {},
   "outputs": [
    {
     "ename": "ValueError",
     "evalue": "Matrix is singular, cannot compute inverse",
     "output_type": "error",
     "traceback": [
      "\u001b[0;31m---------------------------------------------------------------------------\u001b[0m",
      "\u001b[0;31mValueError\u001b[0m                                Traceback (most recent call last)",
      "Cell \u001b[0;32mIn[9], line 4\u001b[0m\n\u001b[1;32m      1\u001b[0m A \u001b[38;5;241m=\u001b[39m Matrix([[\u001b[38;5;241m1\u001b[39m, \u001b[38;5;241m2\u001b[39m, \u001b[38;5;241m3\u001b[39m],\n\u001b[1;32m      2\u001b[0m             [\u001b[38;5;241m4\u001b[39m, \u001b[38;5;241m5\u001b[39m, \u001b[38;5;241m6\u001b[39m],\n\u001b[1;32m      3\u001b[0m             [\u001b[38;5;241m7\u001b[39m, \u001b[38;5;241m8\u001b[39m, \u001b[38;5;241m9\u001b[39m]])\n\u001b[0;32m----> 4\u001b[0m B \u001b[38;5;241m=\u001b[39m \u001b[43mA\u001b[49m\u001b[38;5;241;43m.\u001b[39;49m\u001b[43minverse\u001b[49m\u001b[43m(\u001b[49m\u001b[43m)\u001b[49m\n\u001b[1;32m      5\u001b[0m \u001b[38;5;28mprint\u001b[39m(B)\n",
      "Cell \u001b[0;32mIn[2], line 81\u001b[0m, in \u001b[0;36mMatrix.inverse\u001b[0;34m(self)\u001b[0m\n\u001b[1;32m     79\u001b[0m det \u001b[38;5;241m=\u001b[39m \u001b[38;5;28mself\u001b[39m\u001b[38;5;241m.\u001b[39mdeterminant()\n\u001b[1;32m     80\u001b[0m \u001b[38;5;28;01mif\u001b[39;00m det \u001b[38;5;241m==\u001b[39m \u001b[38;5;241m0\u001b[39m:\n\u001b[0;32m---> 81\u001b[0m     \u001b[38;5;28;01mraise\u001b[39;00m \u001b[38;5;167;01mValueError\u001b[39;00m(\u001b[38;5;124m\"\u001b[39m\u001b[38;5;124mMatrix is singular, cannot compute inverse\u001b[39m\u001b[38;5;124m\"\u001b[39m)\n\u001b[1;32m     82\u001b[0m adjoint \u001b[38;5;241m=\u001b[39m [[((\u001b[38;5;241m-\u001b[39m\u001b[38;5;241m1\u001b[39m) \u001b[38;5;241m*\u001b[39m\u001b[38;5;241m*\u001b[39m (i \u001b[38;5;241m+\u001b[39m j)) \u001b[38;5;241m*\u001b[39m Matrix([row[:j] \u001b[38;5;241m+\u001b[39m row[j \u001b[38;5;241m+\u001b[39m \u001b[38;5;241m1\u001b[39m:] \u001b[38;5;28;01mfor\u001b[39;00m row \u001b[38;5;129;01min\u001b[39;00m \u001b[38;5;28mself\u001b[39m\u001b[38;5;241m.\u001b[39mrows[:i] \u001b[38;5;241m+\u001b[39m \u001b[38;5;28mself\u001b[39m\u001b[38;5;241m.\u001b[39mrows[i \u001b[38;5;241m+\u001b[39m \u001b[38;5;241m1\u001b[39m:]])\u001b[38;5;241m.\u001b[39mdeterminant() \u001b[38;5;28;01mfor\u001b[39;00m j \u001b[38;5;129;01min\u001b[39;00m \u001b[38;5;28mrange\u001b[39m(\u001b[38;5;28mself\u001b[39m\u001b[38;5;241m.\u001b[39mnum_cols)] \u001b[38;5;28;01mfor\u001b[39;00m i \u001b[38;5;129;01min\u001b[39;00m \u001b[38;5;28mrange\u001b[39m(\u001b[38;5;28mself\u001b[39m\u001b[38;5;241m.\u001b[39mnum_rows)]\n\u001b[1;32m     83\u001b[0m adjoint_transpose \u001b[38;5;241m=\u001b[39m Matrix(adjoint)\u001b[38;5;241m.\u001b[39mtranspose()\n",
      "\u001b[0;31mValueError\u001b[0m: Matrix is singular, cannot compute inverse"
     ]
    }
   ],
   "source": [
    "A = Matrix([[1, 2, 3],\n",
    "            [4, 5, 6],\n",
    "            [7, 8, 9]])\n",
    "B = A.inverse()\n",
    "print(B)"
   ]
  },
  {
   "cell_type": "markdown",
   "id": "05415b79-4d98-42b4-b76e-eb712b121285",
   "metadata": {},
   "source": [
    "2. Разарботайте классы Warehouse Product Order для управления складскими запасами. Реализуйте функцонал по добавлению и списанию остатков, учету остатокво на складе и формированию заказа."
   ]
  },
  {
   "cell_type": "code",
   "execution_count": 40,
   "id": "ee03bcad-9c0c-4a93-be63-f7c7bea3348d",
   "metadata": {},
   "outputs": [],
   "source": [
    "from bank_account import BankAccount\n",
    "\n",
    "\n",
    "class Product:\n",
    "    \n",
    "    def __init__(self, name, price, quantity):\n",
    "        self.name = name\n",
    "        self.price = price\n",
    "        self.quantity = quantity\n",
    "\n",
    "    def __str__(self):\n",
    "        return f\"{self.name} - {self.price} руб. - {self.quantity} шт.\"\n",
    "        \n",
    "\n",
    "class Warehouse:\n",
    "    \n",
    "    def __init__(self):\n",
    "        self.products = []\n",
    "\n",
    "    def add_product(self, product: Product):\n",
    "        \"\"\"метод добавления товара на склад\"\"\"\n",
    "        self.products.append(product)\n",
    "\n",
    "    def check_inventory(self):\n",
    "        \"\"\"вывод всех товаров на складе\"\"\"\n",
    "        for product in self.products:\n",
    "            print(product)\n",
    "            \n",
    "   \n",
    "class Order:\n",
    "    \n",
    "    def __init__(self):\n",
    "        self.cart_of_orders = []\n",
    "\n",
    "    def add_item(self, item: str, quantity: int, warehouse: Warehouse):\n",
    "        \"\"\"Метод добавления товара в корзину с учетом товаров на складе\"\"\"\n",
    "        for product in warehouse.products:\n",
    "            if product.name == item and quantity <= product.quantity:\n",
    "                self.cart_of_orders.append((product, quantity))\n",
    "                break\n",
    "        else:\n",
    "            print(f\"Товар '{item}' не был добавлен в корзину из-за нехватки на складе или его отсутствия.\")\n",
    "       \n",
    "       \n",
    "    def buy_item(self, warehouse: Warehouse, bank_account: BankAccount):\n",
    "        \"\"\"Метод покупки товара со склада с учетом средств на счете и списания товара со склада\"\"\"\n",
    "        total_cost = self.calculate_total_cost()\n",
    "        if bank_account.balance >= total_cost:\n",
    "            for item, quantity in self.cart_of_orders:\n",
    "                for product in warehouse.products:\n",
    "                    if item.name == product.name:\n",
    "                        product.quantity -= quantity\n",
    "                        \n",
    "            bank_account.withdraw(total_cost)\n",
    "            print(\"Покупка совершена успешно.\")\n",
    "        else:\n",
    "            print(\"Недостаточно средств на карте.\")\n",
    "                        \n",
    "    def calculate_total_cost(self):\n",
    "        \"\"\"метод подсчета общей суммы товаров в корзине\"\"\"\n",
    "        total_cost = 0\n",
    "        for product, quantity in self.cart_of_orders:\n",
    "            item_cost = product.price * quantity\n",
    "            total_cost += item_cost\n",
    "        return total_cost\n",
    "        \n",
    "    def display_my_order(self):\n",
    "        \"\"\"метод выводит товары в корзине и сумму покупки\"\"\"\n",
    "        total_cost = self.calculate_total_cost()  \n",
    "        for product, quantity in self.cart_of_orders:\n",
    "            item_cost = product.price * quantity\n",
    "            print(f\"{product.name}: {quantity} шт - {item_cost} руб.\")\n",
    "        print(f\"Общая стоимость покупки: {total_cost} руб.\")\n",
    "        "
   ]
  },
  {
   "cell_type": "code",
   "execution_count": 41,
   "id": "2883c781-c19b-401d-8691-28d196523d1a",
   "metadata": {},
   "outputs": [],
   "source": [
    "ball = Product(\"ball\", 1000, 35)\n",
    "hoop = Product(\"hoop\", 750, 15)\n",
    "dumbbells = Product(\"dumbbells\", 1200, 10)"
   ]
  },
  {
   "cell_type": "code",
   "execution_count": 42,
   "id": "78ced6af-2935-4af4-9a31-90d9d6e40363",
   "metadata": {},
   "outputs": [
    {
     "name": "stdout",
     "output_type": "stream",
     "text": [
      "ball - 1000 руб. - 35 шт. hoop - 750 руб. - 15 шт. dumbbells - 1200 руб. - 10 шт.\n"
     ]
    }
   ],
   "source": [
    "print(ball, hoop, dumbbells)"
   ]
  },
  {
   "cell_type": "code",
   "execution_count": 43,
   "id": "0570aa55-611f-48f9-9d56-f7dd8a7d5678",
   "metadata": {},
   "outputs": [],
   "source": [
    "sport_master = Warehouse()\n",
    "sport_master.add_product(ball)\n",
    "sport_master.add_product(hoop)\n",
    "sport_master.add_product(dumbbells)"
   ]
  },
  {
   "cell_type": "code",
   "execution_count": 44,
   "id": "b90cb673-15d8-478f-bb1b-aa194dc63903",
   "metadata": {},
   "outputs": [
    {
     "name": "stdout",
     "output_type": "stream",
     "text": [
      "ball - 1000 руб. - 35 шт.\n",
      "hoop - 750 руб. - 15 шт.\n",
      "dumbbells - 1200 руб. - 10 шт.\n"
     ]
    }
   ],
   "source": [
    "sport_master.check_inventory()"
   ]
  },
  {
   "cell_type": "code",
   "execution_count": 45,
   "id": "63c35955-59ba-47cd-9472-fcc42b74a3fe",
   "metadata": {},
   "outputs": [],
   "source": [
    "my_cart = BankAccount(12345, \"Regina\", 3000)"
   ]
  },
  {
   "cell_type": "code",
   "execution_count": 46,
   "id": "4d0920bf-0f4e-4635-a51a-e0d4fbd71552",
   "metadata": {},
   "outputs": [
    {
     "data": {
      "text/plain": [
       "3000"
      ]
     },
     "execution_count": 46,
     "metadata": {},
     "output_type": "execute_result"
    }
   ],
   "source": [
    "my_cart.balance  # ??? класс с использованием декораторов, скобки?"
   ]
  },
  {
   "cell_type": "code",
   "execution_count": 47,
   "id": "85e114f9-7e50-4f68-9aae-4bc5d51ea0c5",
   "metadata": {},
   "outputs": [
    {
     "data": {
      "text/plain": [
       "'Regina'"
      ]
     },
     "execution_count": 47,
     "metadata": {},
     "output_type": "execute_result"
    }
   ],
   "source": [
    "my_cart.owner_name"
   ]
  },
  {
   "cell_type": "code",
   "execution_count": 48,
   "id": "d152c7d6-b488-497e-8afa-81d1f3466132",
   "metadata": {},
   "outputs": [
    {
     "name": "stdout",
     "output_type": "stream",
     "text": [
      "Товар 'ball' не был добавлен в корзину из-за нехватки на складе или его отсутствия.\n",
      "hoop: 2 шт - 1500 руб.\n",
      "dumbbells: 5 шт - 6000 руб.\n",
      "Общая стоимость покупки: 7500 руб.\n"
     ]
    }
   ],
   "source": [
    "my_order = Order()\n",
    "my_order.add_item(\"ball\", 333, sport_master)\n",
    "my_order.add_item(\"hoop\", 2, sport_master)\n",
    "my_order.add_item(\"dumbbells\", 5, sport_master)\n",
    "my_order.display_my_order()"
   ]
  },
  {
   "cell_type": "code",
   "execution_count": 49,
   "id": "687faaf1-7013-4ffd-ab2f-4667fc4401e2",
   "metadata": {},
   "outputs": [
    {
     "name": "stdout",
     "output_type": "stream",
     "text": [
      "Недостаточно средств на карте.\n"
     ]
    }
   ],
   "source": [
    "my_order.buy_item(sport_master, my_cart)"
   ]
  },
  {
   "cell_type": "code",
   "execution_count": 50,
   "id": "2e98acca-c004-4e02-95b5-abc52b7c91b6",
   "metadata": {},
   "outputs": [
    {
     "name": "stdout",
     "output_type": "stream",
     "text": [
      "ball - 1000 руб. - 35 шт.\n",
      "hoop - 750 руб. - 15 шт.\n",
      "dumbbells - 1200 руб. - 10 шт.\n"
     ]
    }
   ],
   "source": [
    "sport_master.check_inventory()"
   ]
  },
  {
   "cell_type": "code",
   "execution_count": 38,
   "id": "7cc1d510-bab3-4275-8e6b-d6873e5da60d",
   "metadata": {},
   "outputs": [
    {
     "data": {
      "text/plain": [
       "3000"
      ]
     },
     "execution_count": 38,
     "metadata": {},
     "output_type": "execute_result"
    }
   ],
   "source": [
    "my_cart.balance"
   ]
  },
  {
   "cell_type": "code",
   "execution_count": 39,
   "id": "d7b76882-5d1f-4cba-8a3f-cae35cf81bd7",
   "metadata": {},
   "outputs": [],
   "source": [
    "def test_str_pruduct():\n",
    "    ball = Product(\"ball\", 1000, 35)\n",
    "    expected = \"ball - 1000 руб. - 35 шт.\"\n",
    "    assert str(ball) == expected\n",
    "    \n",
    "def test_add_product():\n",
    "    warehouse = Warehouse()\n",
    "    product = Product(\"hoop\", 750, 15)\n",
    "    warehouse.add_product(product)\n",
    "    assert product in warehouse.products    \n",
    "\n",
    "def test_buy_item_():\n",
    "    warehouse = Warehouse()\n",
    "    product = Product(\"hoop\", 1000, 1)\n",
    "    warehouse.add_product(product)\n",
    "    bank_account = BankAccount(12345, \"Regina\", 10000)\n",
    "    order = Order()\n",
    "    order.add_item(\"hoop\", 2, warehouse)\n",
    "    order.buy_item(warehouse, bank_account)\n",
    "    assert warehouse.products[0].quantity == 98\n",
    "    assert bank_account.balance == 9000\n",
    "\n",
    "def test_calculate_total_cost():\n",
    "    warehouse = Warehouse()\n",
    "    product1 = Product(\"Тетрадь\", 50, 2)\n",
    "    product2 = Product(\"Ручка\", 20, 5)\n",
    "    warehouse.add_product(product1)\n",
    "    warehouse.add_product(product2)\n",
    "    order = Order()\n",
    "    order.add_item(\"Тетрадь\", 2, warehouse)\n",
    "    order.add_item(\"Ручка\", 3, warehouse)\n",
    "    assert order.calculate_total_cost() == (50 * 2) + (20 * 3)"
   ]
  },
  {
   "cell_type": "code",
   "execution_count": null,
   "id": "71b1503f-eec5-4700-b884-20e3ec90324a",
   "metadata": {},
   "outputs": [],
   "source": []
  },
  {
   "cell_type": "code",
   "execution_count": null,
   "id": "631c786b-083b-4552-81a7-1b54a34c3d8c",
   "metadata": {},
   "outputs": [],
   "source": []
  },
  {
   "cell_type": "code",
   "execution_count": null,
   "id": "773df309-d7a0-4876-801a-8caef24976af",
   "metadata": {},
   "outputs": [],
   "source": []
  }
 ],
 "metadata": {
  "kernelspec": {
   "display_name": "Python 3 (ipykernel)",
   "language": "python",
   "name": "python3"
  },
  "language_info": {
   "codemirror_mode": {
    "name": "ipython",
    "version": 3
   },
   "file_extension": ".py",
   "mimetype": "text/x-python",
   "name": "python",
   "nbconvert_exporter": "python",
   "pygments_lexer": "ipython3",
   "version": "3.10.10"
  }
 },
 "nbformat": 4,
 "nbformat_minor": 5
}
