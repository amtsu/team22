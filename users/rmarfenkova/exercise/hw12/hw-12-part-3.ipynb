{
 "cells": [
  {
   "cell_type": "markdown",
   "id": "3d9836bc-7997-40b7-9b21-9050fdc61629",
   "metadata": {},
   "source": [
    "# Реализуйте задния"
   ]
  },
  {
   "cell_type": "markdown",
   "id": "1ed5fa52-84c4-46c6-8bfa-2a0a059e580c",
   "metadata": {},
   "source": [
    "1. Созлдайте класс для работы с матрицами. Который будет представлять матрицы и поддреживать основные операции сложение, вычитание умножение транспонирование. Затем добавьте методы для вычисления определителя матрицы и вычисления обраной матрицы."
   ]
  },
  {
   "cell_type": "code",
   "execution_count": null,
   "id": "8e6fcea4-f854-481b-a0b0-3c3b3a7d74c6",
   "metadata": {},
   "outputs": [],
   "source": [
    "# class Matrix:\n",
    "#     def __init__(self, rows):\n",
    "#         self.rows = rows\n",
    "#         self.num_rows = len(rows)\n",
    "#         self.num_cols = len(rows[0])\n",
    "\n",
    "#     def __add__(self, other):\n",
    "#         if self.num_rows != other.num_rows or self.num_cols != other.num_cols:\n",
    "#             raise ValueError(\"Matrices must have the same dimensions for addition\")\n",
    "#         result = []\n",
    "#         for i in range(self.num_rows):\n",
    "#             row = []\n",
    "#             for j in range(self.num_cols):\n",
    "#                 row.append(self.rows[i][j] + other.rows[i][j])\n",
    "#             result.append(row)\n",
    "#         return Matrix(result)\n",
    "\n",
    "#     def __sub__(self, other):\n",
    "#         if self.num_rows != other.num_rows or self.num_cols != other.num_cols:\n",
    "#             raise ValueError(\"Matrices must have the same dimensions for subtraction\")\n",
    "#         result = []\n",
    "#         for i in range(self.num_rows):\n",
    "#             row = []\n",
    "#             for j in range(self.num_cols):\n",
    "#                 row.append(self.rows[i][j] - other.rows[i][j])\n",
    "#             result.append(row)\n",
    "#         return Matrix(result)\n",
    "\n",
    "#     def __mul__(self, other):\n",
    "#         if self.num_cols != other.num_rows:\n",
    "#             raise ValueError(\"Number of columns in the first matrix must be equal to the number of rows in the second matrix\")\n",
    "#         result = []\n",
    "#         for i in range(self.num_rows):\n",
    "#             row = []\n",
    "#             for j in range(other.num_cols):\n",
    "#                 element = 0\n",
    "#                 for k in range(self.num_cols):\n",
    "#                     element += self.rows[i][k] * other.rows[k][j]\n",
    "#                 row.append(element)\n",
    "#             result.append(row)\n",
    "#         return Matrix(result)\n",
    "\n",
    "#     def transpose(self):\n",
    "#         transposed = [[self.rows[j][i] for j in range(self.num_rows)] for i in range(self.num_cols)]\n",
    "#         return Matrix(transposed)\n",
    "\n",
    "#     def determinant(self):\n",
    "#         if self.num_rows != self.num_cols:\n",
    "#             raise ValueError(\"Determinant can only be computed for square matrices\")\n",
    "#         if self.num_rows == 1:\n",
    "#             return self.rows[0][0]\n",
    "#         if self.num_rows == 2:\n",
    "#             return self.rows[0][0] * self.rows[1][1] - self.rows[0][1] * self.rows[1][0]\n",
    "#         det = 0\n",
    "#         for j in range(self.num_cols):\n",
    "#             minor = [row[:j] + row[j + 1:] for row in self.rows[1:]]\n",
    "#             det += ((-1) ** j) * self.rows[0][j] * Matrix(minor).determinant()\n",
    "#         return det\n",
    "\n",
    "#     def inverse(self):\n",
    "#         if self.num_rows != self.num_cols:\n",
    "#             raise ValueError(\"Inverse can only be computed for square matrices\")\n",
    "#         det = self.determinant()\n",
    "#         if det == 0:\n",
    "#             raise ValueError(\"Matrix is singular, cannot compute inverse\")\n",
    "#         adjoint = [[((-1) ** (i + j)) * Matrix([row[:j] + row[j + 1:] for row in self.rows[:i] + self.rows[i + 1:]]).determinant() for j in range(self.num_cols)] for i in range(self.num_rows)]\n",
    "#         adjoint_transpose = Matrix(adjoint).transpose()\n",
    "#         return adjoint_transpose * (1 / det)"
   ]
  },
  {
   "cell_type": "code",
   "execution_count": null,
   "id": "96f54412-2852-4887-bfd1-ce5a148b6108",
   "metadata": {},
   "outputs": [],
   "source": [
    "matrix = Matrix([[1,2,3], [4,5,6], [7,8,9]])\n",
    "matrix2 = Matrix([[9,8,7], [6,5,4], [3,2,1]])"
   ]
  },
  {
   "cell_type": "code",
   "execution_count": null,
   "id": "598771d4-6496-4020-8c38-90f2d9213733",
   "metadata": {},
   "outputs": [],
   "source": []
  },
  {
   "cell_type": "code",
   "execution_count": null,
   "id": "5e04ab3c-1b42-4c2a-9e74-bd099fe76a15",
   "metadata": {},
   "outputs": [],
   "source": []
  },
  {
   "cell_type": "markdown",
   "id": "05415b79-4d98-42b4-b76e-eb712b121285",
   "metadata": {},
   "source": [
    "2. Разарботайте классы Warehouse Product Order для управления складскими запасами. Реализуйте функцонал по добавлению и списанию остатков, учету остатокво на складе и формированию заказа."
   ]
  },
  {
   "cell_type": "code",
   "execution_count": 199,
   "id": "ee03bcad-9c0c-4a93-be63-f7c7bea3348d",
   "metadata": {},
   "outputs": [],
   "source": [
    "from bank_account import BankAccount\n",
    "\n",
    "class Product:\n",
    "    \n",
    "    def __init__(self, name, price, quantity):\n",
    "        self.name = name\n",
    "        self.price = price\n",
    "        self.quantity = quantity\n",
    "\n",
    "    def __str__(self):\n",
    "        return f\"{self.name} - {self.price} руб. - {self.quantity} шт.\"\n",
    "\n",
    "\n",
    "class Warehouse:\n",
    "    \n",
    "    def __init__(self):\n",
    "        self.products = []\n",
    "\n",
    "    def add_product(self, product: Product):\n",
    "        \"\"\"метод добавления товара на склад\"\"\"\n",
    "        self.products.append(product)\n",
    "\n",
    "    def check_inventory(self):\n",
    "        \"\"\"вывод всех товаров на складе\"\"\"\n",
    "        for product in self.products:\n",
    "            #print(f\"{product.name} - {product.price}руб. - {product.quantity}шт.\")\n",
    "            print(product)\n",
    "            \n",
    "   \n",
    "class Order:\n",
    "    \n",
    "    def __init__(self):\n",
    "        self.cart_of_orders = []\n",
    "\n",
    "    def add_item(self, product: Product, quantity):\n",
    "        \"\"\"метод добавления товара в корзину\"\"\"\n",
    "        self.cart_of_orders.append((product, quantity))\n",
    "\n",
    "    def buy_item(self, warehouse: Warehouse, bank_account: BankAccount):\n",
    "        \"\"\"метод покупки товара со склада с учетом средств на счете и списания товара со склада\"\"\"\n",
    "        total_cost = 0  \n",
    "        # Создаем копию корзины, чтобы избежать изменений в оригинальной корзине во время итерации\n",
    "        cart_copy = self.cart_of_orders.copy()\n",
    "        for product, quantity in cart_copy:\n",
    "            for item in warehouse.products:\n",
    "                if item.name == product.name and item.quantity >= quantity:\n",
    "                    item.quantity -= quantity \n",
    "                    total_cost += product.price * quantity \n",
    "                    self.cart_of_orders.remove((product, quantity))\n",
    "                    break\n",
    "            else:\n",
    "                print(f\"Товар '{product.name}' в количестве {quantity} шт. не был куплен из-за нехватки на складе.\")\n",
    "            \n",
    "        if bank_account.balance >= total_cost:\n",
    "            bank_account.withdraw(total_cost)\n",
    "            print(\"Покупка совершена успешно.\")\n",
    "        else:\n",
    "            print(\"Недостаточно средств на карте.\")\n",
    "                        \n",
    "    def calculate_total_cost(self):\n",
    "        \"\"\"метод подсчета общей суммы товаров в корзине\"\"\"\n",
    "        total_cost = 0\n",
    "        for product, quantity in self.cart_of_orders:\n",
    "            item_cost = product.price * quantity\n",
    "            total_cost += item_cost\n",
    "        return total_cost\n",
    "        \n",
    "    def display_my_order(self):\n",
    "        \"\"\"метод выводит товары в корзине и сумму покупки\"\"\"\n",
    "        total_cost = self.calculate_total_cost()  # Вычисляем общую стоимость покупки\n",
    "        for product, quantity in self.cart_of_orders:\n",
    "            item_cost = product.price * quantity\n",
    "            print(f\"{product.name}: {quantity} шт - {item_cost} руб.\")\n",
    "        print(f\"Общая стоимость покупки: {total_cost} руб.\")\n",
    "        "
   ]
  },
  {
   "cell_type": "code",
   "execution_count": 200,
   "id": "2883c781-c19b-401d-8691-28d196523d1a",
   "metadata": {},
   "outputs": [],
   "source": [
    "ball = Product(\"ball\", 1000, 35)\n",
    "hoop = Product(\"hoop\", 750, 15)\n",
    "dumbbells = Product(\"dumbbells\", 1200, 10)"
   ]
  },
  {
   "cell_type": "code",
   "execution_count": 201,
   "id": "78ced6af-2935-4af4-9a31-90d9d6e40363",
   "metadata": {},
   "outputs": [
    {
     "name": "stdout",
     "output_type": "stream",
     "text": [
      "ball - 1000 руб. - 35 шт. hoop - 750 руб. - 15 шт. dumbbells - 1200 руб. - 10 шт.\n"
     ]
    }
   ],
   "source": [
    "print(ball, hoop, dumbbells)"
   ]
  },
  {
   "cell_type": "code",
   "execution_count": 202,
   "id": "0570aa55-611f-48f9-9d56-f7dd8a7d5678",
   "metadata": {},
   "outputs": [],
   "source": [
    "sport_master = Warehouse()\n",
    "sport_master.add_product(ball)\n",
    "sport_master.add_product(hoop)\n",
    "sport_master.add_product(dumbbells)"
   ]
  },
  {
   "cell_type": "code",
   "execution_count": 203,
   "id": "b90cb673-15d8-478f-bb1b-aa194dc63903",
   "metadata": {},
   "outputs": [
    {
     "name": "stdout",
     "output_type": "stream",
     "text": [
      "ball - 1000 руб. - 35 шт.\n",
      "hoop - 750 руб. - 15 шт.\n",
      "dumbbells - 1200 руб. - 10 шт.\n"
     ]
    }
   ],
   "source": [
    "sport_master.check_inventory()"
   ]
  },
  {
   "cell_type": "code",
   "execution_count": 204,
   "id": "dcbb3a23-b057-4578-bf66-12cf2cd4b028",
   "metadata": {},
   "outputs": [],
   "source": [
    "#sport_master.remove_product(\"ball\", 40)  #удаляю больше чем есть на складе\n",
    "#sport_master.check_inventory()"
   ]
  },
  {
   "cell_type": "code",
   "execution_count": 205,
   "id": "bd546d1a-f261-4a13-9b71-b695fff246b0",
   "metadata": {},
   "outputs": [],
   "source": [
    "#sport_master.remove_product(\"skis\", 6)  #удаляю товар, которого нет\n",
    "#sport_master.check_inventory()"
   ]
  },
  {
   "cell_type": "code",
   "execution_count": 206,
   "id": "63c35955-59ba-47cd-9472-fcc42b74a3fe",
   "metadata": {},
   "outputs": [],
   "source": [
    "my_cart = BankAccount(12345, \"Regina\", 100000)"
   ]
  },
  {
   "cell_type": "code",
   "execution_count": 207,
   "id": "4d0920bf-0f4e-4635-a51a-e0d4fbd71552",
   "metadata": {},
   "outputs": [
    {
     "data": {
      "text/plain": [
       "100000"
      ]
     },
     "execution_count": 207,
     "metadata": {},
     "output_type": "execute_result"
    }
   ],
   "source": [
    "my_cart.balance  # ??? класс с использованием декораторов, скобки?"
   ]
  },
  {
   "cell_type": "code",
   "execution_count": 208,
   "id": "85e114f9-7e50-4f68-9aae-4bc5d51ea0c5",
   "metadata": {},
   "outputs": [
    {
     "data": {
      "text/plain": [
       "'Regina'"
      ]
     },
     "execution_count": 208,
     "metadata": {},
     "output_type": "execute_result"
    }
   ],
   "source": [
    "my_cart.owner_name"
   ]
  },
  {
   "cell_type": "code",
   "execution_count": 209,
   "id": "d152c7d6-b488-497e-8afa-81d1f3466132",
   "metadata": {},
   "outputs": [
    {
     "name": "stdout",
     "output_type": "stream",
     "text": [
      "ball: 3 шт - 3000 руб.\n",
      "hoop: 2 шт - 1500 руб.\n",
      "dumbbells: 5 шт - 6000 руб.\n",
      "Общая стоимость покупки: 10500 руб.\n"
     ]
    }
   ],
   "source": [
    "my_order = Order()\n",
    "my_order.add_item(ball, 3)\n",
    "my_order.add_item(hoop, 2)\n",
    "my_order.add_item(dumbbells, 5)\n",
    "my_order.display_my_order()"
   ]
  },
  {
   "cell_type": "code",
   "execution_count": 210,
   "id": "687faaf1-7013-4ffd-ab2f-4667fc4401e2",
   "metadata": {},
   "outputs": [
    {
     "name": "stdout",
     "output_type": "stream",
     "text": [
      "Покупка совершена успешно.\n"
     ]
    }
   ],
   "source": [
    "my_order.buy_item(sport_master, my_cart)"
   ]
  },
  {
   "cell_type": "code",
   "execution_count": 211,
   "id": "2e98acca-c004-4e02-95b5-abc52b7c91b6",
   "metadata": {},
   "outputs": [
    {
     "name": "stdout",
     "output_type": "stream",
     "text": [
      "ball - 1000 руб. - 32 шт.\n",
      "hoop - 750 руб. - 13 шт.\n",
      "dumbbells - 1200 руб. - 5 шт.\n"
     ]
    }
   ],
   "source": [
    "sport_master.check_inventory()"
   ]
  },
  {
   "cell_type": "code",
   "execution_count": 212,
   "id": "7cc1d510-bab3-4275-8e6b-d6873e5da60d",
   "metadata": {},
   "outputs": [
    {
     "data": {
      "text/plain": [
       "89500"
      ]
     },
     "execution_count": 212,
     "metadata": {},
     "output_type": "execute_result"
    }
   ],
   "source": [
    "my_cart.balance"
   ]
  },
  {
   "cell_type": "code",
   "execution_count": null,
   "id": "d7b76882-5d1f-4cba-8a3f-cae35cf81bd7",
   "metadata": {},
   "outputs": [],
   "source": []
  },
  {
   "cell_type": "code",
   "execution_count": null,
   "id": "71b1503f-eec5-4700-b884-20e3ec90324a",
   "metadata": {},
   "outputs": [],
   "source": []
  },
  {
   "cell_type": "code",
   "execution_count": 213,
   "id": "60097463-0fd6-413f-9964-008c83be8ce3",
   "metadata": {},
   "outputs": [],
   "source": [
    "    # def add_item(self, product: Product, quantity):\n",
    "    #     \"\"\"метод добавления товара в корзину\"\"\"\n",
    "    #     self.cart_of_orders.append((product, quantity))\n",
    "\n",
    "    # def buy_item(self, warehouse: Warehouse, bank_account: BankAccount):\n",
    "    #     \"\"\"метод покупки товара со склада с учетом средств на счете и списания товара со склада\"\"\"\n",
    "    #     total_cost = self.calculate_total_cost()\n",
    "    #     if bank_account.balance >= total_cost:\n",
    "    #         for product, quantity in self.cart_of_orders:\n",
    "    #             for item in warehouse.products:\n",
    "    #                 if item.name == product.name:\n",
    "    #                     if item.quantity >= quantity:\n",
    "    #                         item.quantity -= quantity\n",
    "    #                     else:\n",
    "    #                         print(f\"Недостаточное количество {product.name} на складе.\")\n",
    "    #         bank_account.withdraw(total_cost)  \n",
    "    #         print(\"Покупка совершена успешно.\")\n",
    "    #     else:\n",
    "    #         print(\"Недостаточно средств на карте.\")"
   ]
  },
  {
   "cell_type": "code",
   "execution_count": null,
   "id": "631c786b-083b-4552-81a7-1b54a34c3d8c",
   "metadata": {},
   "outputs": [],
   "source": []
  },
  {
   "cell_type": "code",
   "execution_count": null,
   "id": "773df309-d7a0-4876-801a-8caef24976af",
   "metadata": {},
   "outputs": [],
   "source": []
  }
 ],
 "metadata": {
  "kernelspec": {
   "display_name": "Python 3 (ipykernel)",
   "language": "python",
   "name": "python3"
  },
  "language_info": {
   "codemirror_mode": {
    "name": "ipython",
    "version": 3
   },
   "file_extension": ".py",
   "mimetype": "text/x-python",
   "name": "python",
   "nbconvert_exporter": "python",
   "pygments_lexer": "ipython3",
   "version": "3.10.10"
  }
 },
 "nbformat": 4,
 "nbformat_minor": 5
}
