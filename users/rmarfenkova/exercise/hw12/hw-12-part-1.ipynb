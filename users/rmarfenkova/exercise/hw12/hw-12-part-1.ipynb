{
 "cells": [
  {
   "cell_type": "markdown",
   "id": "148a67cf-f3d5-4175-898e-a2201786ac66",
   "metadata": {},
   "source": [
    "# Создайте классы"
   ]
  },
  {
   "cell_type": "markdown",
   "id": "23644a8e-64cf-44a7-b736-1140e424d556",
   "metadata": {},
   "source": [
    "1. Создайте класс Car, который представляет автомобиль. У него должны быть атрибуты для хранения модели, года выпуска, цвета, количества дверей и текущей скорости. Добавьте методы которые возвращают год, марку, цвет и текущую скорость автомобиля."
   ]
  },
  {
   "cell_type": "code",
   "execution_count": null,
   "id": "477c6eab-aba5-4ee7-8c2a-1b16cf61a0ca",
   "metadata": {},
   "outputs": [],
   "source": [
    "class Car():\n",
    "    \n",
    "    def __init__(self, model, year_of_issue, color, door, speed):\n",
    "        self.model = model\n",
    "        self.year_of_issu = year_of_issue\n",
    "        self.color = color \n",
    "        self.door = door \n",
    "        self.speed = speed\n",
    "        \n",
    "    def get_year_of_issue(self):\n",
    "        return self.year_of_issue\n",
    "\n",
    "    def get_model(self):\n",
    "        return self.model\n",
    "\n",
    "    def get_color(self):\n",
    "        return self.color\n",
    "\n",
    "    def get_speed(self):\n",
    "        return self.speed\n"
   ]
  },
  {
   "cell_type": "markdown",
   "id": "c43d2bd0-de35-4b4d-a61c-c80515a4e778",
   "metadata": {},
   "source": [
    "2. Создайте класс Student, который представляет студент. У него должны быть атрибуты для хранения имени, фамилии, возраста, адреса и список оценок."
   ]
  },
  {
   "cell_type": "code",
   "execution_count": null,
   "id": "e193584d-4659-487b-bea4-bbd065b4ffb9",
   "metadata": {},
   "outputs": [],
   "source": [
    "class Student():\n",
    "    \n",
    "    def  __init__(self, name, surname, age, address, estimates):\n",
    "        self.name = name\n",
    "        self.surname = surname\n",
    "        self.age = age\n",
    "        self.address = address\n",
    "        self.estimates = list(estimates) \n",
    "    \n",
    "    \n",
    "    "
   ]
  },
  {
   "cell_type": "markdown",
   "id": "77f19efc-3227-4401-8f11-f3cac3c068dd",
   "metadata": {},
   "source": [
    "3. Создайте класс Book, который представляет книгу. У него должны быть атрибуты для хранения названия, автора, количества страниц и издательства. Добавьте методы для установки и получения этих атрибутов."
   ]
  },
  {
   "cell_type": "code",
   "execution_count": null,
   "id": "2d1c2865-8d89-472f-87ef-e0ca82585fcf",
   "metadata": {},
   "outputs": [],
   "source": [
    "class Book():\n",
    "\n",
    "    def __init__(self, book_title, author, pages, publishing_house):\n",
    "        \n",
    "    def set_title(self, title):    # метод для установки фтрибутов\n",
    "        self.title = title\n",
    "        \n",
    "    def get_title(self):      # метод получения атрибутов\n",
    "        return self.title\n",
    "    \n",
    "    def set_author(self, author):\n",
    "        self.author = author\n",
    "        \n",
    "    def get_author(self):\n",
    "        return self.author\n",
    "    \n",
    "    def set_pages(self, pages):\n",
    "        if type(pages) is int and pages > 0:\n",
    "            self.pages = pages\n",
    "        else:\n",
    "            print(\"Количество страниц должно быть целым числом и больше 0\")\n",
    "            \n",
    "        \n",
    "    def get_pages(self):\n",
    "        return self.pages\n",
    "    \n",
    "    def set_publisher(self, publisher):\n",
    "        self.publisher = publisher\n",
    "        \n",
    "    def get_publisher(self):\n",
    "        return self.publisher\n",
    "        \n",
    "        \n",
    "        "
   ]
  },
  {
   "cell_type": "markdown",
   "id": "c0262c46-df82-43aa-bb2c-728c1ba9bbd0",
   "metadata": {},
   "source": [
    "4. Создайте класс ShoppingCart, который представляет корзину покупок. У него должен быть атрибут для хранения списка товаров. Добавьте методы для добавления, удаления, отображения товаров в корзине и вычиckbnt стоимости всей корзины."
   ]
  },
  {
   "cell_type": "code",
   "execution_count": 1,
   "id": "44e2d5b1-fa52-4d8b-a11d-85961caf7cd0",
   "metadata": {},
   "outputs": [],
   "source": [
    "class ShoppingCart():\n",
    "    \n",
    "    def __init__(self):   \n",
    "        self.items = {}   \n",
    "    \n",
    "    def add_item(self, item, price):\n",
    "        \"\"\" метод добавления товаров в корзину \"\"\"\n",
    "        self.items[item] = price\n",
    "        \n",
    "        \n",
    "    def remove_item(self, rm_item):\n",
    "        \"\"\" метод удаления товаров из корзины \"\"\"\n",
    "        if rm_item in self.items: \n",
    "             del self.items[rm_item]\n",
    "        else:\n",
    "            print(\"Такого товара нет в корзине\")\n",
    "            \n",
    "            \n",
    "    def display_items(self):\n",
    "        \"\"\" выводит все товары в корзине \"\"\"\n",
    "        items_list = list(self.items.keys())\n",
    "        return f\"Всего товаров в корзине - {items_list}\"\n",
    "        \n",
    "        \n",
    "    def get_sum_items(self):\n",
    "        \"\"\" считает общую сумму товаров в корзине \"\"\"\n",
    "        total = 0\n",
    "        for value in self.items.values():\n",
    "            total += value \n",
    "        return  f\"Общая стоимость покупок - {total}\" \n",
    "        \n",
    "            "
   ]
  },
  {
   "cell_type": "code",
   "execution_count": 2,
   "id": "d5c73781-757a-48a9-8413-d0f72dd3a252",
   "metadata": {},
   "outputs": [],
   "source": [
    "# создаем экземпляр класса ShoppingCart\n",
    "cart = ShoppingCart()\n",
    "\n",
    "# добавляем несколько товаров\n",
    "cart.add_item(\"Молоко\", 2)"
   ]
  },
  {
   "cell_type": "code",
   "execution_count": 3,
   "id": "2e34e88f-66ee-4519-b7e8-9a4d8d636eff",
   "metadata": {},
   "outputs": [],
   "source": [
    "cart.add_item(\"Хлеб\", 3)"
   ]
  },
  {
   "cell_type": "code",
   "execution_count": 4,
   "id": "e7af2404-3285-4f09-b105-e158e3721419",
   "metadata": {},
   "outputs": [],
   "source": [
    "cart.add_item(\"apple\", 3)\n",
    "cart.add_item(\"Зефир\", 5)"
   ]
  },
  {
   "cell_type": "code",
   "execution_count": 5,
   "id": "f3913aa8-7f8b-4f73-aeae-6771853c405c",
   "metadata": {},
   "outputs": [
    {
     "data": {
      "text/plain": [
       "\"Всего товаров в корзине - ['Молоко', 'Хлеб', 'apple', 'Зефир']\""
      ]
     },
     "execution_count": 5,
     "metadata": {},
     "output_type": "execute_result"
    }
   ],
   "source": [
    "# выводим содержимое корзины\n",
    "cart.display_items()"
   ]
  },
  {
   "cell_type": "code",
   "execution_count": 6,
   "id": "90d1f192-545f-492d-a908-e7629d4aef16",
   "metadata": {},
   "outputs": [],
   "source": [
    "# удаляем товар \"Молоко\"\n",
    "cart.remove_item(\"Молоко\")\n",
    "cart.remove_item('Хлеб')"
   ]
  },
  {
   "cell_type": "code",
   "execution_count": 7,
   "id": "4ac311f2-e3d3-40dd-a285-0a6f511b4267",
   "metadata": {},
   "outputs": [
    {
     "data": {
      "text/plain": [
       "\"Всего товаров в корзине - ['apple', 'Зефир']\""
      ]
     },
     "execution_count": 7,
     "metadata": {},
     "output_type": "execute_result"
    }
   ],
   "source": [
    "# повторно выводим содержимое корзины\n",
    "cart.display_items()"
   ]
  },
  {
   "cell_type": "code",
   "execution_count": 8,
   "id": "2fb98f0f-30e7-416a-84e2-43f39a93fcf2",
   "metadata": {},
   "outputs": [
    {
     "data": {
      "text/plain": [
       "'Общая стоимость покупок - 8'"
      ]
     },
     "execution_count": 8,
     "metadata": {},
     "output_type": "execute_result"
    }
   ],
   "source": [
    "cart.get_sum_items()"
   ]
  },
  {
   "cell_type": "markdown",
   "id": "432cf6e3-ca93-43e4-9a48-e59bb4d6abd8",
   "metadata": {},
   "source": [
    "5. Создайте класс Circle, который представляет круг. У него должен быть атрибут для хранения радиуса и цвета. Добавьте методы для вычисления площади и периметра круга."
   ]
  },
  {
   "cell_type": "code",
   "execution_count": 78,
   "id": "d9be2c71-1aea-45f2-b493-e3dc8b3720bc",
   "metadata": {},
   "outputs": [],
   "source": [
    "import math\n",
    "class Circle():\n",
    "\n",
    "    def __init__(self, radius, color):\n",
    "        self.radius = radius\n",
    "        self.color = color\n",
    "        \n",
    "    def get_area_circle(self):\n",
    "        \"\"\" вычисляет площаль круга \"\"\"\n",
    "        return math.pi * self.radius ** 2\n",
    "\n",
    "    def get_circle_perimeter(self):\n",
    "        \"\"\" вычисляет периметр круга \"\"\"\n",
    "        return 2 * math.pi * self.radius\n",
    "        "
   ]
  },
  {
   "cell_type": "code",
   "execution_count": 48,
   "id": "b18e77ae-0860-4cf1-bf68-02f158d6523b",
   "metadata": {},
   "outputs": [],
   "source": [
    "# создаем экземпляр класса\n",
    "crcl = Circle(5,\"blue\")"
   ]
  },
  {
   "cell_type": "code",
   "execution_count": 49,
   "id": "ffad7f69-012c-4184-8f87-1f7d04b09c8a",
   "metadata": {},
   "outputs": [
    {
     "data": {
      "text/plain": [
       "78.53981633974483"
      ]
     },
     "execution_count": 49,
     "metadata": {},
     "output_type": "execute_result"
    }
   ],
   "source": [
    "crcl.get_area_circle()"
   ]
  },
  {
   "cell_type": "code",
   "execution_count": 50,
   "id": "b37803ac-abee-45d4-9862-3f64ee6f2e8f",
   "metadata": {},
   "outputs": [
    {
     "data": {
      "text/plain": [
       "31.41592653589793"
      ]
     },
     "execution_count": 50,
     "metadata": {},
     "output_type": "execute_result"
    }
   ],
   "source": [
    "crcl.get_circle_perimeter()"
   ]
  },
  {
   "cell_type": "markdown",
   "id": "5ecd4418-059e-4fe8-a125-da74ce98fefd",
   "metadata": {},
   "source": [
    "6. Создайте класс Point, который представляет точку в двумерном пространстве. У него должны быть атрибуты для хранения координат x и y. Добавьте методы для вычисления расстояния между двумя точками."
   ]
  },
  {
   "cell_type": "code",
   "execution_count": 72,
   "id": "dba29fe8-af47-44cd-a61e-cb9e72d798da",
   "metadata": {},
   "outputs": [],
   "source": [
    "class Point():\n",
    "    \n",
    "    def __init__(self, x, y):\n",
    "        self.x = x\n",
    "        self.y = y\n",
    "\n",
    "    def get_distance(self, other_point):  #??? почему одна точка\n",
    "        \"\"\" вычисляет расстояние между двух точек в пространстве \"\"\"\n",
    "        if isinstance(self.x, (int, float)) and isinstance(self.y, (int, float)):\n",
    "            distanse = ((self.x - other_point.x) ** 2 + (self.y - other_point.y) ** 2) ** 0.5\n",
    "            return round(distanse, 2)\n",
    "        else:\n",
    "            return \"вводимые данные могут быть только типа 'int' и 'float'\"\n",
    "        "
   ]
  },
  {
   "cell_type": "code",
   "execution_count": 75,
   "id": "b8caa004-e395-4840-a8c2-5c5d2a1179af",
   "metadata": {},
   "outputs": [
    {
     "name": "stdout",
     "output_type": "stream",
     "text": [
      "Расстояние между точками: 4.72\n"
     ]
    }
   ],
   "source": [
    "#создаем экземпляр класса\n",
    "\n",
    "point1 = Point(1.5, 2)\n",
    "point2 = Point(4, 6)\n",
    "\n",
    "distance = point1.get_distance(point2)\n",
    "print(\"Расстояние между точками:\", distance)"
   ]
  },
  {
   "cell_type": "markdown",
   "id": "2db5f269-f0d3-4ddf-ac39-8475e74c5653",
   "metadata": {},
   "source": [
    "7. Создайте класс Triangle, который представляет треугольник. У него должны быть атрибуты длины сторон. Добавьте методы для вычисления перимера треугольника и методы вычисления типа треугольника ( равностороннйи, павнобедренный, прямоуголный или разносторонний)."
   ]
  },
  {
   "cell_type": "code",
   "execution_count": 1,
   "id": "c8307176-72bc-4f5e-8798-9e920185f41a",
   "metadata": {},
   "outputs": [],
   "source": [
    "class Triangle():\n",
    "\n",
    "    def __init__(self, a, b, c):\n",
    "        self.a = a\n",
    "        self.b = b\n",
    "        self.c = c\n",
    "\n",
    "    def get_perimeter_triangle(self):\n",
    "        \"\"\" метод получения периметра треугольника \"\"\"\n",
    "        if type(self.a) in (int, float) and type(self.b) in (int, float) and type(self.c) in (int, float):\n",
    "            perimeter = (self.a + self.b + self.c)\n",
    "            return perimeter\n",
    "        else:\n",
    "            return \"вводимые данные могут быть только типа 'int' и 'float'\"\n",
    "            \n",
    "\n",
    "\n",
    "    def get_type_triangle(self):\n",
    "        \"\"\" метод получения типа треугольника \"\"\"\n",
    "        if type(self.a) in (int, float) and type(self.b) in (int, float) and type(self.c) in (int, float):\n",
    "            if (self.a + self.b) <= self.c or (self.a + self.c) <= self.b or (self.b + self.c) <= self.a:\n",
    "                return \"не треугольник\"\n",
    "            elif (self.a) == (self.b) == (self.c):\n",
    "                return \"равносторонний\"\n",
    "            elif (self.a) == (self.b) or (self.a == self.c) or (self.b == self.c):\n",
    "                return \"равнобедренный\"\n",
    "            elif  (self.a) != (self.b) != (self.c):\n",
    "                return \"разносторонний\"\n",
    "        else:\n",
    "            return \"вводимые данные могут быть только типа 'int' и 'float'\"\n",
    "                "
   ]
  },
  {
   "cell_type": "code",
   "execution_count": 2,
   "id": "e99c712e-c188-40e0-ac5e-c042b3312c19",
   "metadata": {},
   "outputs": [],
   "source": [
    "# создаем экземпляр класса\n",
    "triangl_type = Triangle(3, 4, 5)"
   ]
  },
  {
   "cell_type": "code",
   "execution_count": 3,
   "id": "dfb521ef-4f7a-4986-bbd4-77ee8f430646",
   "metadata": {},
   "outputs": [
    {
     "data": {
      "text/plain": [
       "'разносторонний'"
      ]
     },
     "execution_count": 3,
     "metadata": {},
     "output_type": "execute_result"
    }
   ],
   "source": [
    "triangl_type.get_type_triangle()"
   ]
  },
  {
   "cell_type": "code",
   "execution_count": 4,
   "id": "a2907b55-6afc-4852-a857-5ba615e6eabe",
   "metadata": {},
   "outputs": [],
   "source": [
    "# создаем экземпляр класса\n",
    "perimeter_triangle = Triangle('2.5', 12.5, 5.5)"
   ]
  },
  {
   "cell_type": "code",
   "execution_count": 5,
   "id": "8d97086d-5b9f-4429-b02e-6449d108581f",
   "metadata": {},
   "outputs": [
    {
     "data": {
      "text/plain": [
       "\"вводимые данные могут быть только типа 'int' и 'float'\""
      ]
     },
     "execution_count": 5,
     "metadata": {},
     "output_type": "execute_result"
    }
   ],
   "source": [
    "perimeter_triangle.get_perimeter_triangle()"
   ]
  },
  {
   "cell_type": "markdown",
   "id": "8d07e3e4-f1f7-410a-bbe7-dbcf5e2d8ee7",
   "metadata": {},
   "source": [
    "8. Создайте класс BankAccount, который представляет банковский счет. У него должны быть атрибуты для хранения номера счета, имени владельца и баланса. Добавьте методы для внесения и снятия денег со счета."
   ]
  },
  {
   "cell_type": "code",
   "execution_count": 1,
   "id": "8a2598ff-2fff-4d2c-9f6b-5fdace5e328b",
   "metadata": {},
   "outputs": [],
   "source": [
    "class BankAccount:\n",
    "    def __init__(self, account_number, owner_name, balance=0):\n",
    "        self.account_number = account_number\n",
    "        self.owner_name = owner_name\n",
    "        self.balance = balance\n",
    "\n",
    "    def deposit(self, amount):\n",
    "        self.balance += amount\n",
    "\n",
    "    def withdraw(self, amount):\n",
    "        if amount > self.balance:\n",
    "            print(\"Недостаточно средств на счете.\")\n",
    "        else:\n",
    "            self.balance -= amount"
   ]
  },
  {
   "cell_type": "code",
   "execution_count": 8,
   "id": "2bd34034-dc31-4fa7-a888-93f7aa36d933",
   "metadata": {},
   "outputs": [],
   "source": [
    "# создаем экземпляр класса\n",
    "bank = BankAccount(666, \"Oleg\")"
   ]
  },
  {
   "cell_type": "code",
   "execution_count": 9,
   "id": "45c3308c-f587-4940-bd99-7bead621615a",
   "metadata": {},
   "outputs": [],
   "source": [
    "bank.deposit(1000)"
   ]
  },
  {
   "cell_type": "code",
   "execution_count": 10,
   "id": "26475784-4f5d-42f4-91be-be3ac81ccdcd",
   "metadata": {},
   "outputs": [],
   "source": [
    "bank.withdraw(1500)"
   ]
  },
  {
   "cell_type": "markdown",
   "id": "2d849ca5-a527-41cc-9ebf-705f76799e49",
   "metadata": {},
   "source": [
    "9. Создайте класс Date, который представляет дату. У него должны быть атрибуты для хранения дня, месяца и года. Добавьте методы для сравнения двух дат и вычисления разницы между ними."
   ]
  },
  {
   "cell_type": "code",
   "execution_count": null,
   "id": "c1f01831-9743-43c2-ac91-dced1cbc6a37",
   "metadata": {},
   "outputs": [],
   "source": [
    "class Date():\n",
    "    def __init__(self, day, month, year):\n",
    "        self.day = day\n",
    "        self.month = month\n",
    "        self.year = year\n",
    "\n",
    "    def difference(self):\n",
    "        \"\"\" метод сравнения двух дат и вычисления разницы между ними \"\"\"\n",
    "         "
   ]
  },
  {
   "cell_type": "markdown",
   "id": "1c196431-3d1f-472f-aedb-8627caa8a05c",
   "metadata": {},
   "source": [
    "# Оформите каждый класс в отдельный модуль и напишиет на эти классы тесты."
   ]
  },
  {
   "cell_type": "code",
   "execution_count": null,
   "id": "ee03bcad-9c0c-4a93-be63-f7c7bea3348d",
   "metadata": {},
   "outputs": [],
   "source": []
  }
 ],
 "metadata": {
  "kernelspec": {
   "display_name": "Python 3 (ipykernel)",
   "language": "python",
   "name": "python3"
  },
  "language_info": {
   "codemirror_mode": {
    "name": "ipython",
    "version": 3
   },
   "file_extension": ".py",
   "mimetype": "text/x-python",
   "name": "python",
   "nbconvert_exporter": "python",
   "pygments_lexer": "ipython3",
   "version": "3.10.10"
  }
 },
 "nbformat": 4,
 "nbformat_minor": 5
}
