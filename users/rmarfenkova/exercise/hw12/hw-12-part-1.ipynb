{
 "cells": [
  {
   "cell_type": "markdown",
   "id": "148a67cf-f3d5-4175-898e-a2201786ac66",
   "metadata": {},
   "source": [
    "# Создайте классы"
   ]
  },
  {
   "cell_type": "markdown",
   "id": "23644a8e-64cf-44a7-b736-1140e424d556",
   "metadata": {},
   "source": [
    "1. Создайте класс Car, который представляет автомобиль. У него должны быть атрибуты для хранения модели, года выпуска, цвета, количества дверей и текущей скорости. Добавьте методы которые возвращают год, марку, цвет и текущую скорость автомобиля."
   ]
  },
  {
   "cell_type": "code",
   "execution_count": 1,
   "id": "477c6eab-aba5-4ee7-8c2a-1b16cf61a0ca",
   "metadata": {},
   "outputs": [],
   "source": [
    "class Car():\n",
    "    \n",
    "    def __init__(self, model, year_of_issue, color, door, speed):\n",
    "        self.model = model\n",
    "        self.year_of_issue = year_of_issue\n",
    "        self.color = color \n",
    "        self.door = door \n",
    "        self.speed = speed\n",
    "        \n",
    "    def get_year_of_issue(self):\n",
    "        return self.year_of_issue\n",
    "\n",
    "    def get_model(self):\n",
    "        return self.model\n",
    "\n",
    "    def get_color(self):\n",
    "        return self.color\n",
    "\n",
    "    def get_speed(self):\n",
    "        return self.speed\n"
   ]
  },
  {
   "cell_type": "code",
   "execution_count": 12,
   "id": "97d9e435-4a78-4c7f-a305-a7b54bc80d4f",
   "metadata": {},
   "outputs": [],
   "source": [
    "car = Car([\"Toyota\"], (2020), \"red\", 4, \"100\")"
   ]
  },
  {
   "cell_type": "code",
   "execution_count": 13,
   "id": "c7ded6a7-9f4d-4983-863c-411664acad16",
   "metadata": {},
   "outputs": [
    {
     "name": "stdout",
     "output_type": "stream",
     "text": [
      "<__main__.Car object at 0x7f6fa50df0d0>\n"
     ]
    }
   ],
   "source": [
    "print(car)"
   ]
  },
  {
   "cell_type": "code",
   "execution_count": 14,
   "id": "75207f89-7e3d-4064-a156-c33a5af280c2",
   "metadata": {},
   "outputs": [
    {
     "data": {
      "text/plain": [
       "__main__.Car"
      ]
     },
     "execution_count": 14,
     "metadata": {},
     "output_type": "execute_result"
    }
   ],
   "source": [
    "type(car)"
   ]
  },
  {
   "cell_type": "code",
   "execution_count": 15,
   "id": "8fab14dd-4510-4466-998c-24f5427cf267",
   "metadata": {},
   "outputs": [
    {
     "data": {
      "text/plain": [
       "2020"
      ]
     },
     "execution_count": 15,
     "metadata": {},
     "output_type": "execute_result"
    }
   ],
   "source": [
    "car.get_year_of_issue()"
   ]
  },
  {
   "cell_type": "code",
   "execution_count": 16,
   "id": "a7aa7b09-f0e1-473b-9999-fed8cac938ae",
   "metadata": {},
   "outputs": [
    {
     "data": {
      "text/plain": [
       "'100'"
      ]
     },
     "execution_count": 16,
     "metadata": {},
     "output_type": "execute_result"
    }
   ],
   "source": [
    "car.get_speed()"
   ]
  },
  {
   "cell_type": "code",
   "execution_count": 17,
   "id": "f4b8a8a3-ac76-4fda-8d11-876a69a75bde",
   "metadata": {},
   "outputs": [
    {
     "data": {
      "text/plain": [
       "['Toyota']"
      ]
     },
     "execution_count": 17,
     "metadata": {},
     "output_type": "execute_result"
    }
   ],
   "source": [
    "car.get_model()"
   ]
  },
  {
   "cell_type": "markdown",
   "id": "c43d2bd0-de35-4b4d-a61c-c80515a4e778",
   "metadata": {},
   "source": [
    "2. Создайте класс Student, который представляет студент. У него должны быть атрибуты для хранения имени, фамилии, возраста, адреса и список оценок."
   ]
  },
  {
   "cell_type": "code",
   "execution_count": 28,
   "id": "e193584d-4659-487b-bea4-bbd065b4ffb9",
   "metadata": {},
   "outputs": [],
   "source": [
    "class Student():\n",
    "    \n",
    "    def  __init__(self, name, surname, age, address, estimates):\n",
    "        self.name = name\n",
    "        self.surname = surname\n",
    "        self.age = age\n",
    "        self.address = address\n",
    "        self.estimates = estimates\n",
    "       "
   ]
  },
  {
   "cell_type": "code",
   "execution_count": 60,
   "id": "fcb99657-f8ac-45d0-b0c6-a9ed5764e1c3",
   "metadata": {},
   "outputs": [],
   "source": [
    "student_info = Student((\"Ivan\"), [\"Ivanov\"], 33, \"Smolnay_street\", ([5, 5, 5, 5, 5]))"
   ]
  },
  {
   "cell_type": "code",
   "execution_count": 61,
   "id": "aa6214a5-11f2-40c2-a6c2-8b20a825109b",
   "metadata": {},
   "outputs": [
    {
     "data": {
      "text/plain": [
       "'Ivan'"
      ]
     },
     "execution_count": 61,
     "metadata": {},
     "output_type": "execute_result"
    }
   ],
   "source": [
    "student_info.name"
   ]
  },
  {
   "cell_type": "code",
   "execution_count": 62,
   "id": "c7f89b2d-d88f-4aba-8dd5-18e49fafbc14",
   "metadata": {},
   "outputs": [
    {
     "name": "stdout",
     "output_type": "stream",
     "text": [
      "['Ivanov']\n"
     ]
    }
   ],
   "source": [
    "print(student_info.surname)"
   ]
  },
  {
   "cell_type": "code",
   "execution_count": 63,
   "id": "c6ae1730-e056-4b32-8314-ea1296dce24c",
   "metadata": {},
   "outputs": [
    {
     "data": {
      "text/plain": [
       "33"
      ]
     },
     "execution_count": 63,
     "metadata": {},
     "output_type": "execute_result"
    }
   ],
   "source": [
    "student_info.age"
   ]
  },
  {
   "cell_type": "code",
   "execution_count": 64,
   "id": "5e3579f7-b4c8-4803-a63f-75c61847af86",
   "metadata": {},
   "outputs": [
    {
     "data": {
      "text/plain": [
       "[5, 5, 5, 5, 5]"
      ]
     },
     "execution_count": 64,
     "metadata": {},
     "output_type": "execute_result"
    }
   ],
   "source": [
    "student_info.estimates"
   ]
  },
  {
   "cell_type": "code",
   "execution_count": 65,
   "id": "405cb67c-75fc-4a22-a823-0350596c4a02",
   "metadata": {},
   "outputs": [],
   "source": [
    "student_info.age = 15"
   ]
  },
  {
   "cell_type": "code",
   "execution_count": 66,
   "id": "da047fc4-d6f7-4075-a78b-f6077b5e6721",
   "metadata": {},
   "outputs": [
    {
     "name": "stdout",
     "output_type": "stream",
     "text": [
      "15\n"
     ]
    }
   ],
   "source": [
    "print(student_info.age)"
   ]
  },
  {
   "cell_type": "code",
   "execution_count": 67,
   "id": "cedb1426-8139-4018-9bc9-cea25fd052d4",
   "metadata": {},
   "outputs": [
    {
     "data": {
      "text/plain": [
       "'Smolnay_street'"
      ]
     },
     "execution_count": 67,
     "metadata": {},
     "output_type": "execute_result"
    }
   ],
   "source": [
    "student_info.address"
   ]
  },
  {
   "cell_type": "code",
   "execution_count": 55,
   "id": "a3b1f32c-ff94-48ec-bd44-ec93edf29f8b",
   "metadata": {},
   "outputs": [],
   "source": [
    "student_info.estimates = 5, 2, 5, 5, 5"
   ]
  },
  {
   "cell_type": "code",
   "execution_count": 56,
   "id": "aad51abf-65ad-4bb5-a420-f45cb04b44c7",
   "metadata": {},
   "outputs": [
    {
     "data": {
      "text/plain": [
       "(5, 2, 5, 5, 5)"
      ]
     },
     "execution_count": 56,
     "metadata": {},
     "output_type": "execute_result"
    }
   ],
   "source": [
    "student_info.estimates"
   ]
  },
  {
   "cell_type": "markdown",
   "id": "77f19efc-3227-4401-8f11-f3cac3c068dd",
   "metadata": {},
   "source": [
    "3. Создайте класс Book, который представляет книгу. У него должны быть атрибуты для хранения названия, автора, количества страниц и издательства. Добавьте методы для установки и получения этих атрибутов."
   ]
  },
  {
   "cell_type": "code",
   "execution_count": null,
   "id": "736773ff-45d5-492d-a1ce-fa2f3317abe6",
   "metadata": {},
   "outputs": [],
   "source": []
  },
  {
   "cell_type": "code",
   "execution_count": 31,
   "id": "2d1c2865-8d89-472f-87ef-e0ca82585fcf",
   "metadata": {},
   "outputs": [],
   "source": [
    "class Book():\n",
    "\n",
    "    def __init__(self, book_title, author, pages, publishing_house):\n",
    "        self.__book_title = book_title\n",
    "        self.__author = author\n",
    "        self.__pages = pages\n",
    "        self.__publishing_house = publishing_house\n",
    "        \n",
    "    @property    \n",
    "    def title(self):      # метод получения атрибутов\n",
    "        return self.__book_title\n",
    "\n",
    "    @title.setter   \n",
    "    def title(self, title):    # метод для установки фтрибутов\n",
    "        self.__book_title = title\n",
    "        \n",
    "    @property    \n",
    "    def author(self):\n",
    "        return self.__author\n",
    "\n",
    "    @author.setter\n",
    "    def author(self, author):\n",
    "        self.__author = author\n",
    "        \n",
    "    @property    \n",
    "    def pages(self):\n",
    "        return self.__pages\n",
    "\n",
    "    @pages.setter\n",
    "    def pages(self, pages):\n",
    "        if type(pages) is int and pages > 0:\n",
    "            self.__pages = pages\n",
    "        else:\n",
    "            print(\"Количество страниц должно быть целым числом и больше 0\")\n",
    "    \n",
    "    @property   \n",
    "    def publisher(self):\n",
    "        return self.__publisher\n",
    "        \n",
    "    @publisher.setter\n",
    "    def publisher(self, publisher):\n",
    "        self.__publisher = publisher    \n",
    "        "
   ]
  },
  {
   "cell_type": "code",
   "execution_count": 36,
   "id": "5dfc639f-bd93-49f4-a153-83a03082a12f",
   "metadata": {},
   "outputs": [],
   "source": [
    "book = Book(\"Гарри Поттер\", \"Дж.К. Ролинг\", \"508\",\"РОСМЭН\")"
   ]
  },
  {
   "cell_type": "code",
   "execution_count": 40,
   "id": "5d172e8a-719e-4588-b126-dee1ebab2110",
   "metadata": {},
   "outputs": [
    {
     "data": {
      "text/plain": [
       "'508'"
      ]
     },
     "execution_count": 40,
     "metadata": {},
     "output_type": "execute_result"
    }
   ],
   "source": [
    "book.pages"
   ]
  },
  {
   "cell_type": "code",
   "execution_count": 41,
   "id": "13ed9c78-6c4d-43af-afd8-745e65daab2d",
   "metadata": {},
   "outputs": [
    {
     "name": "stdout",
     "output_type": "stream",
     "text": [
      "508\n"
     ]
    }
   ],
   "source": [
    "print(book.pages)"
   ]
  },
  {
   "cell_type": "code",
   "execution_count": 42,
   "id": "484ae2af-3aa0-450a-b3b6-11bbf584c95c",
   "metadata": {},
   "outputs": [
    {
     "name": "stdout",
     "output_type": "stream",
     "text": [
      "Количество страниц должно быть целым числом и больше 0\n"
     ]
    }
   ],
   "source": [
    "book.pages = \"400\""
   ]
  },
  {
   "cell_type": "markdown",
   "id": "c0262c46-df82-43aa-bb2c-728c1ba9bbd0",
   "metadata": {},
   "source": [
    "4. Создайте класс ShoppingCart, который представляет корзину покупок. У него должен быть атрибут для хранения списка товаров. Добавьте методы для добавления, удаления, отображения товаров в корзине и вычиckbnt стоимости всей корзины."
   ]
  },
  {
   "cell_type": "code",
   "execution_count": 23,
   "id": "44e2d5b1-fa52-4d8b-a11d-85961caf7cd0",
   "metadata": {},
   "outputs": [],
   "source": [
    "class ShoppingCart():\n",
    "    \n",
    "    def __init__(self):   \n",
    "        self.items = {}   \n",
    "    \n",
    "    def add(self, item, price):\n",
    "        \"\"\" метод добавления товаров в корзину \"\"\"\n",
    "        self.items[item] = price\n",
    "        \n",
    "        \n",
    "    def remove(self, rm_item):\n",
    "        \"\"\" метод удаления товаров из корзины \"\"\"\n",
    "        if rm_item in self.items: \n",
    "             del self.items[rm_item]\n",
    "        else:\n",
    "            print(\"Такого товара нет в корзине\")\n",
    "            \n",
    "            \n",
    "    def __str__(self):\n",
    "        \"\"\" выводит все товары в корзине \"\"\"\n",
    "        items_list = list(self.items.keys())\n",
    "        return f\"Всего товаров в корзине: {items_list}\"\n",
    "        \n",
    "        \n",
    "    def get_sum(self):\n",
    "        \"\"\" считает общую сумму товаров в корзине \"\"\"\n",
    "        total = 0\n",
    "        for value in self.items.values():\n",
    "            total += value \n",
    "        return  f\"Общая стоимость покупок:  {total}\" \n",
    "        \n",
    "            "
   ]
  },
  {
   "cell_type": "code",
   "execution_count": 24,
   "id": "d5c73781-757a-48a9-8413-d0f72dd3a252",
   "metadata": {},
   "outputs": [],
   "source": [
    "# создаем экземпляр класса ShoppingCart\n",
    "cart = ShoppingCart()\n",
    "\n",
    "# добавляем несколько товаров\n",
    "cart.add(\"Молоко\", 2)"
   ]
  },
  {
   "cell_type": "code",
   "execution_count": 25,
   "id": "2e34e88f-66ee-4519-b7e8-9a4d8d636eff",
   "metadata": {},
   "outputs": [],
   "source": [
    "cart.add(\"Хлеб\", 3)"
   ]
  },
  {
   "cell_type": "code",
   "execution_count": 26,
   "id": "e7af2404-3285-4f09-b105-e158e3721419",
   "metadata": {},
   "outputs": [],
   "source": [
    "cart.add(\"apple\", 3)\n",
    "cart.add(\"Зефир\", 5)"
   ]
  },
  {
   "cell_type": "code",
   "execution_count": 27,
   "id": "f3913aa8-7f8b-4f73-aeae-6771853c405c",
   "metadata": {},
   "outputs": [
    {
     "name": "stdout",
     "output_type": "stream",
     "text": [
      "Всего товаров в корзине: ['Молоко', 'Хлеб', 'apple', 'Зефир']\n"
     ]
    }
   ],
   "source": [
    "# выводим содержимое корзины\n",
    "print(cart)"
   ]
  },
  {
   "cell_type": "code",
   "execution_count": 28,
   "id": "90d1f192-545f-492d-a908-e7629d4aef16",
   "metadata": {},
   "outputs": [],
   "source": [
    "# удаляем товар \"Молоко\"\n",
    "cart.remove(\"Молоко\")\n",
    "cart.remove('Хлеб')"
   ]
  },
  {
   "cell_type": "code",
   "execution_count": 31,
   "id": "4ac311f2-e3d3-40dd-a285-0a6f511b4267",
   "metadata": {},
   "outputs": [
    {
     "name": "stdout",
     "output_type": "stream",
     "text": [
      "Всего товаров в корзине: ['apple', 'Зефир']\n"
     ]
    }
   ],
   "source": [
    "# повторно выводим содержимое корзины\n",
    "print(cart)"
   ]
  },
  {
   "cell_type": "code",
   "execution_count": 30,
   "id": "2fb98f0f-30e7-416a-84e2-43f39a93fcf2",
   "metadata": {},
   "outputs": [
    {
     "data": {
      "text/plain": [
       "'Общая стоимость покупок:  8'"
      ]
     },
     "execution_count": 30,
     "metadata": {},
     "output_type": "execute_result"
    }
   ],
   "source": [
    "cart.get_sum()"
   ]
  },
  {
   "cell_type": "markdown",
   "id": "432cf6e3-ca93-43e4-9a48-e59bb4d6abd8",
   "metadata": {},
   "source": [
    "5. Создайте класс Circle, который представляет круг. У него должен быть атрибут для хранения радиуса и цвета. Добавьте методы для вычисления площади и периметра круга."
   ]
  },
  {
   "cell_type": "code",
   "execution_count": 99,
   "id": "d9be2c71-1aea-45f2-b493-e3dc8b3720bc",
   "metadata": {},
   "outputs": [],
   "source": [
    "import math\n",
    "class Circle():\n",
    "\n",
    "    def __init__(self, radius, color):\n",
    "        self.radius = radius\n",
    "        self.color = color\n",
    "        \n",
    "    def area(self):\n",
    "        \"\"\" вычисляет площаль круга \"\"\"\n",
    "        area = math.pi * self.radius ** 2\n",
    "        return f\" Площадь круга: {round(area, 2)}\"\n",
    "\n",
    "    def perimeter(self):\n",
    "        \"\"\" вычисляет периметр круга \"\"\"\n",
    "        perimetr = 2 * math.pi * self.radius\n",
    "        return f\"Периметр круга: {round(perimetr, 2)}\"\n",
    "        "
   ]
  },
  {
   "cell_type": "code",
   "execution_count": 100,
   "id": "b18e77ae-0860-4cf1-bf68-02f158d6523b",
   "metadata": {},
   "outputs": [],
   "source": [
    "# создаем экземпляр класса\n",
    "crcl = Circle(5,\"blue\")"
   ]
  },
  {
   "cell_type": "code",
   "execution_count": 101,
   "id": "ffad7f69-012c-4184-8f87-1f7d04b09c8a",
   "metadata": {},
   "outputs": [
    {
     "data": {
      "text/plain": [
       "' Площадь круга: 78.54'"
      ]
     },
     "execution_count": 101,
     "metadata": {},
     "output_type": "execute_result"
    }
   ],
   "source": [
    "crcl.area()"
   ]
  },
  {
   "cell_type": "code",
   "execution_count": 102,
   "id": "b37803ac-abee-45d4-9862-3f64ee6f2e8f",
   "metadata": {},
   "outputs": [
    {
     "data": {
      "text/plain": [
       "'Периметр круга: 31.42'"
      ]
     },
     "execution_count": 102,
     "metadata": {},
     "output_type": "execute_result"
    }
   ],
   "source": [
    "crcl.perimeter()"
   ]
  },
  {
   "cell_type": "markdown",
   "id": "5ecd4418-059e-4fe8-a125-da74ce98fefd",
   "metadata": {},
   "source": [
    "6. Создайте класс Point, который представляет точку в двумерном пространстве. У него должны быть атрибуты для хранения координат x и y. Добавьте методы для вычисления расстояния между двумя точками."
   ]
  },
  {
   "cell_type": "code",
   "execution_count": 32,
   "id": "dba29fe8-af47-44cd-a61e-cb9e72d798da",
   "metadata": {},
   "outputs": [],
   "source": [
    "class Point():\n",
    "    \n",
    "    def __init__(self, x, y):\n",
    "        self.x = x\n",
    "        self.y = y\n",
    "\n",
    "    def distance(self, other_point):  #??? почему одна точка\n",
    "        \"\"\" вычисляет расстояние между двух точек в пространстве \"\"\"\n",
    "        if isinstance(self.x, (int, float)) and isinstance(self.y, (int, float)):\n",
    "            distanse = ((self.x - other_point.x) ** 2 + (self.y - other_point.y) ** 2) ** 0.5\n",
    "            return round(distanse, 2)\n",
    "        else:\n",
    "            return None\n",
    "        "
   ]
  },
  {
   "cell_type": "code",
   "execution_count": 33,
   "id": "b8caa004-e395-4840-a8c2-5c5d2a1179af",
   "metadata": {},
   "outputs": [
    {
     "name": "stdout",
     "output_type": "stream",
     "text": [
      "Расстояние между точками: None\n"
     ]
    }
   ],
   "source": [
    "#создаем экземпляр класса\n",
    "\n",
    "point1 = Point(1.5, \"2\")\n",
    "point2 = Point(4, 6)\n",
    "\n",
    "distance = point1.distance(point2)\n",
    "print(\"Расстояние между точками:\", distance)"
   ]
  },
  {
   "cell_type": "markdown",
   "id": "2db5f269-f0d3-4ddf-ac39-8475e74c5653",
   "metadata": {},
   "source": [
    "7. Создайте класс Triangle, который представляет треугольник. У него должны быть атрибуты длины сторон. Добавьте методы для вычисления перимера треугольника и методы вычисления типа треугольника ( равностороннйи, павнобедренный, прямоуголный или разносторонний)."
   ]
  },
  {
   "cell_type": "code",
   "execution_count": 34,
   "id": "c8307176-72bc-4f5e-8798-9e920185f41a",
   "metadata": {},
   "outputs": [],
   "source": [
    "class Triangle():\n",
    "\n",
    "    def __init__(self, a, b, c):\n",
    "        self.a = a\n",
    "        self.b = b\n",
    "        self.c = c\n",
    "\n",
    "    def perimeter(self):\n",
    "        \"\"\" метод получения периметра треугольника \"\"\"\n",
    "        if type(self.a) in (int, float) and type(self.b) in (int, float) and type(self.c) in (int, float):\n",
    "            perimeter = (self.a + self.b + self.c)\n",
    "            return perimeter\n",
    "        else:\n",
    "            return None\n",
    "            \n",
    "\n",
    "\n",
    "    def type(self):\n",
    "        \"\"\" метод получения типа треугольника \"\"\"\n",
    "        if type(self.a) in (int, float) and type(self.b) in (int, float) and type(self.c) in (int, float):\n",
    "            if (self.a + self.b) <= self.c or (self.a + self.c) <= self.b or (self.b + self.c) <= self.a:\n",
    "                return \"не треугольник\"\n",
    "            elif (self.a) == (self.b) == (self.c):\n",
    "                return \"равносторонний\"\n",
    "            elif (self.a) == (self.b) or (self.a == self.c) or (self.b == self.c):\n",
    "                return \"равнобедренный\"\n",
    "            elif  (self.a) != (self.b) != (self.c):\n",
    "                return \"разносторонний\"\n",
    "        else:\n",
    "            return None\n",
    "                "
   ]
  },
  {
   "cell_type": "code",
   "execution_count": 35,
   "id": "e99c712e-c188-40e0-ac5e-c042b3312c19",
   "metadata": {},
   "outputs": [],
   "source": [
    "# создаем экземпляр класса\n",
    "triangl_type = Triangle(3, 4, 5)"
   ]
  },
  {
   "cell_type": "code",
   "execution_count": 36,
   "id": "dfb521ef-4f7a-4986-bbd4-77ee8f430646",
   "metadata": {},
   "outputs": [
    {
     "data": {
      "text/plain": [
       "'разносторонний'"
      ]
     },
     "execution_count": 36,
     "metadata": {},
     "output_type": "execute_result"
    }
   ],
   "source": [
    "triangl_type.type()"
   ]
  },
  {
   "cell_type": "code",
   "execution_count": 37,
   "id": "a2907b55-6afc-4852-a857-5ba615e6eabe",
   "metadata": {},
   "outputs": [],
   "source": [
    "# создаем экземпляр класса\n",
    "perimeter_triangle = Triangle('2.5', 12.5, 5.5)"
   ]
  },
  {
   "cell_type": "code",
   "execution_count": 38,
   "id": "8d97086d-5b9f-4429-b02e-6449d108581f",
   "metadata": {},
   "outputs": [],
   "source": [
    "perimeter_triangle.perimeter()"
   ]
  },
  {
   "cell_type": "markdown",
   "id": "8d07e3e4-f1f7-410a-bbe7-dbcf5e2d8ee7",
   "metadata": {},
   "source": [
    "8. Создайте класс BankAccount, который представляет банковский счет. У него должны быть атрибуты для хранения номера счета, имени владельца и баланса. Добавьте методы для внесения и снятия денег со счета."
   ]
  },
  {
   "cell_type": "code",
   "execution_count": 2,
   "id": "8a2598ff-2fff-4d2c-9f6b-5fdace5e328b",
   "metadata": {},
   "outputs": [],
   "source": [
    "class BankAccount:\n",
    "    all_account_numbers = []\n",
    "    \n",
    "    def __init__(self, account_number, owner_name, balance=0):\n",
    "        if account_number in BankAccount.all_account_numbers:\n",
    "            raise ValueError(\"Номер счета уже используется\")\n",
    "        else:\n",
    "            self.account_number = account_number\n",
    "            BankAccount.all_account_numbers.append(account_number)\n",
    "        \n",
    "            self.owner_name = owner_name\n",
    "            self.balance = balance\n",
    "\n",
    "    def deposit(self, account, amount):\n",
    "        if account in BankAccount.all_account_numbers:\n",
    "            self.balance += amount\n",
    "        \n",
    "    def withdraw(self, account, amount):\n",
    "        if account in BankAccount.all_account_numbers:\n",
    "            if amount <= self.balance:\n",
    "                self.balance -= amount\n",
    "            elif amount > self.balance:\n",
    "                return \"Недостаточно средств\"\n",
    "            \n",
    "       "
   ]
  },
  {
   "cell_type": "code",
   "execution_count": 3,
   "id": "2bd34034-dc31-4fa7-a888-93f7aa36d933",
   "metadata": {},
   "outputs": [],
   "source": [
    "# создаем экземпляр класса\n",
    "bank = BankAccount(777, \"Oleg\", 0)"
   ]
  },
  {
   "cell_type": "code",
   "execution_count": 8,
   "id": "45c3308c-f587-4940-bd99-7bead621615a",
   "metadata": {},
   "outputs": [],
   "source": [
    "bank.deposit(777, 1000)"
   ]
  },
  {
   "cell_type": "code",
   "execution_count": 9,
   "id": "26475784-4f5d-42f4-91be-be3ac81ccdcd",
   "metadata": {},
   "outputs": [
    {
     "data": {
      "text/plain": [
       "'Недостаточно средств'"
      ]
     },
     "execution_count": 9,
     "metadata": {},
     "output_type": "execute_result"
    }
   ],
   "source": [
    "bank.withdraw(777, 1500)"
   ]
  },
  {
   "cell_type": "code",
   "execution_count": 10,
   "id": "87ff9083-34c1-4711-b277-899ea0ff9662",
   "metadata": {},
   "outputs": [
    {
     "ename": "ValueError",
     "evalue": "Номер счета уже используется",
     "output_type": "error",
     "traceback": [
      "\u001b[0;31m---------------------------------------------------------------------------\u001b[0m",
      "\u001b[0;31mValueError\u001b[0m                                Traceback (most recent call last)",
      "Cell \u001b[0;32mIn[10], line 1\u001b[0m\n\u001b[0;32m----> 1\u001b[0m bank2 \u001b[38;5;241m=\u001b[39m \u001b[43mBankAccount\u001b[49m\u001b[43m(\u001b[49m\u001b[38;5;241;43m666\u001b[39;49m\u001b[43m,\u001b[49m\u001b[43m \u001b[49m\u001b[38;5;124;43m\"\u001b[39;49m\u001b[38;5;124;43mStas\u001b[39;49m\u001b[38;5;124;43m\"\u001b[39;49m\u001b[43m)\u001b[49m\n",
      "Cell \u001b[0;32mIn[2], line 6\u001b[0m, in \u001b[0;36mBankAccount.__init__\u001b[0;34m(self, account_number, owner_name, balance)\u001b[0m\n\u001b[1;32m      4\u001b[0m \u001b[38;5;28;01mdef\u001b[39;00m \u001b[38;5;21m__init__\u001b[39m(\u001b[38;5;28mself\u001b[39m, account_number, owner_name, balance\u001b[38;5;241m=\u001b[39m\u001b[38;5;241m0\u001b[39m):\n\u001b[1;32m      5\u001b[0m     \u001b[38;5;28;01mif\u001b[39;00m account_number \u001b[38;5;129;01min\u001b[39;00m BankAccount\u001b[38;5;241m.\u001b[39mall_account_numbers:\n\u001b[0;32m----> 6\u001b[0m         \u001b[38;5;28;01mraise\u001b[39;00m \u001b[38;5;167;01mValueError\u001b[39;00m(\u001b[38;5;124m\"\u001b[39m\u001b[38;5;124mНомер счета уже используется\u001b[39m\u001b[38;5;124m\"\u001b[39m)\n\u001b[1;32m      7\u001b[0m     \u001b[38;5;28;01melse\u001b[39;00m:\n\u001b[1;32m      8\u001b[0m         \u001b[38;5;28mself\u001b[39m\u001b[38;5;241m.\u001b[39maccount_number \u001b[38;5;241m=\u001b[39m account_number\n",
      "\u001b[0;31mValueError\u001b[0m: Номер счета уже используется"
     ]
    }
   ],
   "source": [
    "bank2 = BankAccount(666, \"Stas\")"
   ]
  },
  {
   "cell_type": "code",
   "execution_count": 11,
   "id": "381df903-c3df-4255-afc8-a09f872889a5",
   "metadata": {},
   "outputs": [
    {
     "ename": "TypeError",
     "evalue": "BankAccount.deposit() takes 3 positional arguments but 4 were given",
     "output_type": "error",
     "traceback": [
      "\u001b[0;31m---------------------------------------------------------------------------\u001b[0m",
      "\u001b[0;31mTypeError\u001b[0m                                 Traceback (most recent call last)",
      "Cell \u001b[0;32mIn[11], line 1\u001b[0m\n\u001b[0;32m----> 1\u001b[0m \u001b[43mbank2\u001b[49m\u001b[38;5;241;43m.\u001b[39;49m\u001b[43mdeposit\u001b[49m\u001b[43m(\u001b[49m\u001b[38;5;241;43m666\u001b[39;49m\u001b[43m,\u001b[49m\u001b[38;5;124;43m\"\u001b[39;49m\u001b[38;5;124;43mStas\u001b[39;49m\u001b[38;5;124;43m\"\u001b[39;49m\u001b[43m,\u001b[49m\u001b[43m \u001b[49m\u001b[38;5;241;43m5000\u001b[39;49m\u001b[43m)\u001b[49m\n",
      "\u001b[0;31mTypeError\u001b[0m: BankAccount.deposit() takes 3 positional arguments but 4 were given"
     ]
    }
   ],
   "source": [
    "bank2.deposit(666,\"Stas\", 5000)"
   ]
  },
  {
   "cell_type": "code",
   "execution_count": 13,
   "id": "2d96aff2-1966-4571-89a2-f39b4da4bbfb",
   "metadata": {},
   "outputs": [
    {
     "data": {
      "text/plain": [
       "'Недостаточно средств'"
      ]
     },
     "execution_count": 13,
     "metadata": {},
     "output_type": "execute_result"
    }
   ],
   "source": [
    "bank2.withdraw(666, 2000)"
   ]
  },
  {
   "cell_type": "code",
   "execution_count": 15,
   "id": "22b0bf75-c568-4abf-8e13-1932733e0f4e",
   "metadata": {},
   "outputs": [],
   "source": [
    "bank2.withdraw(111, 2000)"
   ]
  },
  {
   "cell_type": "code",
   "execution_count": 16,
   "id": "fcdcdac5-7c48-4162-b7d1-9c9ccf9ea317",
   "metadata": {},
   "outputs": [
    {
     "ename": "ValueError",
     "evalue": "Номер счета уже используется",
     "output_type": "error",
     "traceback": [
      "\u001b[0;31m---------------------------------------------------------------------------\u001b[0m",
      "\u001b[0;31mValueError\u001b[0m                                Traceback (most recent call last)",
      "Cell \u001b[0;32mIn[16], line 1\u001b[0m\n\u001b[0;32m----> 1\u001b[0m bank \u001b[38;5;241m=\u001b[39m \u001b[43mBankAccount\u001b[49m\u001b[43m(\u001b[49m\u001b[38;5;241;43m666\u001b[39;49m\u001b[43m,\u001b[49m\u001b[43m \u001b[49m\u001b[38;5;124;43m\"\u001b[39;49m\u001b[38;5;124;43mPetr\u001b[39;49m\u001b[38;5;124;43m\"\u001b[39;49m\u001b[43m)\u001b[49m\n",
      "Cell \u001b[0;32mIn[2], line 6\u001b[0m, in \u001b[0;36mBankAccount.__init__\u001b[0;34m(self, account_number, owner_name, balance)\u001b[0m\n\u001b[1;32m      4\u001b[0m \u001b[38;5;28;01mdef\u001b[39;00m \u001b[38;5;21m__init__\u001b[39m(\u001b[38;5;28mself\u001b[39m, account_number, owner_name, balance\u001b[38;5;241m=\u001b[39m\u001b[38;5;241m0\u001b[39m):\n\u001b[1;32m      5\u001b[0m     \u001b[38;5;28;01mif\u001b[39;00m account_number \u001b[38;5;129;01min\u001b[39;00m BankAccount\u001b[38;5;241m.\u001b[39mall_account_numbers:\n\u001b[0;32m----> 6\u001b[0m         \u001b[38;5;28;01mraise\u001b[39;00m \u001b[38;5;167;01mValueError\u001b[39;00m(\u001b[38;5;124m\"\u001b[39m\u001b[38;5;124mНомер счета уже используется\u001b[39m\u001b[38;5;124m\"\u001b[39m)\n\u001b[1;32m      7\u001b[0m     \u001b[38;5;28;01melse\u001b[39;00m:\n\u001b[1;32m      8\u001b[0m         \u001b[38;5;28mself\u001b[39m\u001b[38;5;241m.\u001b[39maccount_number \u001b[38;5;241m=\u001b[39m account_number\n",
      "\u001b[0;31mValueError\u001b[0m: Номер счета уже используется"
     ]
    }
   ],
   "source": [
    "bank = BankAccount(666, \"Petr\")\n"
   ]
  },
  {
   "cell_type": "code",
   "execution_count": 20,
   "id": "e3338bfb-9406-439c-80a9-e0905539d203",
   "metadata": {},
   "outputs": [],
   "source": [
    "bank.deposit(666, \"Petr\", 5000)"
   ]
  },
  {
   "cell_type": "markdown",
   "id": "2d849ca5-a527-41cc-9ebf-705f76799e49",
   "metadata": {},
   "source": [
    "9. Создайте класс Date, который представляет дату. У него должны быть атрибуты для хранения дня, месяца и года. Добавьте методы для сравнения двух дат и вычисления разницы между ними."
   ]
  },
  {
   "cell_type": "code",
   "execution_count": 1,
   "id": "c1f01831-9743-43c2-ac91-dced1cbc6a37",
   "metadata": {},
   "outputs": [],
   "source": [
    "class Date():\n",
    "    def __init__(self, day, month, year):\n",
    "        self.day = day\n",
    "        self.month = month\n",
    "        self.year = year\n",
    "\n",
    "    def __eq__(self, other):\n",
    "        \"\"\"метод для определения равенства двух дат\"\"\"\n",
    "        return (self.day, self.month, self.year) == (other.day, other.month, other.year)\n",
    "\n",
    "    def __gt__(self, other):\n",
    "        \"\"\"метод для определения того, больше ли одна дата другой\"\"\"\n",
    "        return (self.day, self.month, self.year) > (other.day, other.month, other.year)\n",
    "        \n",
    "    def __lt__(self, other):\n",
    "        \"\"\"метод для определения того, меньше ли одна дата другой\"\"\"\n",
    "        return (self.day, self.month, self.year) < (other.day, other.month, other.year)\n",
    "    \n",
    "    "
   ]
  },
  {
   "cell_type": "markdown",
   "id": "1c196431-3d1f-472f-aedb-8627caa8a05c",
   "metadata": {},
   "source": [
    "# Оформите каждый класс в отдельный модуль и напишиет на эти классы тесты."
   ]
  },
  {
   "cell_type": "code",
   "execution_count": null,
   "id": "ee03bcad-9c0c-4a93-be63-f7c7bea3348d",
   "metadata": {},
   "outputs": [],
   "source": []
  }
 ],
 "metadata": {
  "kernelspec": {
   "display_name": "Python 3 (ipykernel)",
   "language": "python",
   "name": "python3"
  },
  "language_info": {
   "codemirror_mode": {
    "name": "ipython",
    "version": 3
   },
   "file_extension": ".py",
   "mimetype": "text/x-python",
   "name": "python",
   "nbconvert_exporter": "python",
   "pygments_lexer": "ipython3",
   "version": "3.10.10"
  }
 },
 "nbformat": 4,
 "nbformat_minor": 5
}
