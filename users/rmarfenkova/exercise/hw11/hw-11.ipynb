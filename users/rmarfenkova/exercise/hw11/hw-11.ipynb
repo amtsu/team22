{
 "cells": [
  {
   "cell_type": "markdown",
   "id": "2faf0f6e-3484-4d19-ad26-0b4c1f6c0567",
   "metadata": {},
   "source": [
    "# Немного интересных и полезных функций Python"
   ]
  },
  {
   "cell_type": "markdown",
   "id": "7f5bf2a8-d891-4038-980f-573c0d6035e9",
   "metadata": {},
   "source": [
    "## 1. Кодировка Unicode"
   ]
  },
  {
   "cell_type": "code",
   "execution_count": 3,
   "id": "60d4c838-0073-4777-a65c-7af8257b9445",
   "metadata": {},
   "outputs": [
    {
     "data": {
      "text/plain": [
       "97"
      ]
     },
     "execution_count": 3,
     "metadata": {},
     "output_type": "execute_result"
    }
   ],
   "source": [
    "#Возвращает целое число — номер из таблицы символов Unicode\n",
    "ord('a')"
   ]
  },
  {
   "cell_type": "code",
   "execution_count": 6,
   "id": "006572a7-0748-412c-b873-fbf882761521",
   "metadata": {},
   "outputs": [
    {
     "data": {
      "text/plain": [
       "'a'"
      ]
     },
     "execution_count": 6,
     "metadata": {},
     "output_type": "execute_result"
    }
   ],
   "source": [
    "#Возвращает символ Unicode, соответствующий этому числу\n",
    "chr(97)"
   ]
  },
  {
   "cell_type": "markdown",
   "id": "00b66d9c-33a7-4aa0-bd04-0fc11d8442b8",
   "metadata": {},
   "source": [
    "1. Вывести английский алфавит в строку (подсказка - в английском алфавите 26 букв)"
   ]
  },
  {
   "cell_type": "code",
   "execution_count": 23,
   "id": "6561ce86-bc83-4b30-a782-61e80ee93451",
   "metadata": {},
   "outputs": [
    {
     "data": {
      "text/plain": [
       "97"
      ]
     },
     "execution_count": 23,
     "metadata": {},
     "output_type": "execute_result"
    }
   ],
   "source": [
    "ord('a')\n"
   ]
  },
  {
   "cell_type": "code",
   "execution_count": 24,
   "id": "7e7c8bdf-7407-49af-b5e4-32b35264984b",
   "metadata": {},
   "outputs": [
    {
     "data": {
      "text/plain": [
       "122"
      ]
     },
     "execution_count": 24,
     "metadata": {},
     "output_type": "execute_result"
    }
   ],
   "source": [
    "ord('z')"
   ]
  },
  {
   "cell_type": "code",
   "execution_count": 2,
   "id": "ae4ca8e1-3567-4d91-a687-ab564bbc4ce4",
   "metadata": {},
   "outputs": [
    {
     "name": "stdout",
     "output_type": "stream",
     "text": [
      "a b c d e f g h i j k l m n o p q r s t u v w x y z "
     ]
    }
   ],
   "source": [
    "for i in range(97, 122 + 1):\n",
    "   print(chr(i), end=\" \")"
   ]
  },
  {
   "cell_type": "code",
   "execution_count": 21,
   "id": "ae9ced52-58a7-410c-9b82-740e53b350e2",
   "metadata": {},
   "outputs": [
    {
     "name": "stdout",
     "output_type": "stream",
     "text": [
      "a b c d e f g h i j k l m n o p q r s t u v w x y z\n"
     ]
    }
   ],
   "source": [
    "s = ' '.join(chr(i) for i in range(97, 123))\n",
    "print(s)"
   ]
  },
  {
   "cell_type": "markdown",
   "id": "1a650e81-9ded-45f6-8c48-b417714ceac0",
   "metadata": {},
   "source": [
    "2. Cгенерировать все возможные комбинации строчных букв английского алфавита длиной два символа. Выведите сочетания для каждой буквы на 1 месте на отдельной строке."
   ]
  },
  {
   "cell_type": "code",
   "execution_count": 3,
   "id": "80864598-91d3-4467-a1c4-dd284c63cb2a",
   "metadata": {},
   "outputs": [],
   "source": [
    "#тут решение комбинации двух символов\n",
    "#пример: 1 строка aa ab ...\n",
    "#пример: 2 строка ba bb ..."
   ]
  },
  {
   "cell_type": "code",
   "execution_count": 2,
   "id": "c92c6e97-25fe-46cd-8f28-71b97040487f",
   "metadata": {
    "scrolled": true
   },
   "outputs": [
    {
     "name": "stdout",
     "output_type": "stream",
     "text": [
      "aa ab ac ad ae af ag ah ai aj ak al am an ao ap aq ar as at au av aw ax ay az \n",
      "ba bb bc bd be bf bg bh bi bj bk bl bm bn bo bp bq br bs bt bu bv bw bx by bz \n",
      "ca cb cc cd ce cf cg ch ci cj ck cl cm cn co cp cq cr cs ct cu cv cw cx cy cz \n",
      "da db dc dd de df dg dh di dj dk dl dm dn do dp dq dr ds dt du dv dw dx dy dz \n",
      "ea eb ec ed ee ef eg eh ei ej ek el em en eo ep eq er es et eu ev ew ex ey ez \n",
      "fa fb fc fd fe ff fg fh fi fj fk fl fm fn fo fp fq fr fs ft fu fv fw fx fy fz \n",
      "ga gb gc gd ge gf gg gh gi gj gk gl gm gn go gp gq gr gs gt gu gv gw gx gy gz \n",
      "ha hb hc hd he hf hg hh hi hj hk hl hm hn ho hp hq hr hs ht hu hv hw hx hy hz \n",
      "ia ib ic id ie if ig ih ii ij ik il im in io ip iq ir is it iu iv iw ix iy iz \n",
      "ja jb jc jd je jf jg jh ji jj jk jl jm jn jo jp jq jr js jt ju jv jw jx jy jz \n",
      "ka kb kc kd ke kf kg kh ki kj kk kl km kn ko kp kq kr ks kt ku kv kw kx ky kz \n",
      "la lb lc ld le lf lg lh li lj lk ll lm ln lo lp lq lr ls lt lu lv lw lx ly lz \n",
      "ma mb mc md me mf mg mh mi mj mk ml mm mn mo mp mq mr ms mt mu mv mw mx my mz \n",
      "na nb nc nd ne nf ng nh ni nj nk nl nm nn no np nq nr ns nt nu nv nw nx ny nz \n",
      "oa ob oc od oe of og oh oi oj ok ol om on oo op oq or os ot ou ov ow ox oy oz \n",
      "pa pb pc pd pe pf pg ph pi pj pk pl pm pn po pp pq pr ps pt pu pv pw px py pz \n",
      "qa qb qc qd qe qf qg qh qi qj qk ql qm qn qo qp qq qr qs qt qu qv qw qx qy qz \n",
      "ra rb rc rd re rf rg rh ri rj rk rl rm rn ro rp rq rr rs rt ru rv rw rx ry rz \n",
      "sa sb sc sd se sf sg sh si sj sk sl sm sn so sp sq sr ss st su sv sw sx sy sz \n",
      "ta tb tc td te tf tg th ti tj tk tl tm tn to tp tq tr ts tt tu tv tw tx ty tz \n",
      "ua ub uc ud ue uf ug uh ui uj uk ul um un uo up uq ur us ut uu uv uw ux uy uz \n",
      "va vb vc vd ve vf vg vh vi vj vk vl vm vn vo vp vq vr vs vt vu vv vw vx vy vz \n",
      "wa wb wc wd we wf wg wh wi wj wk wl wm wn wo wp wq wr ws wt wu wv ww wx wy wz \n",
      "xa xb xc xd xe xf xg xh xi xj xk xl xm xn xo xp xq xr xs xt xu xv xw xx xy xz \n",
      "ya yb yc yd ye yf yg yh yi yj yk yl ym yn yo yp yq yr ys yt yu yv yw yx yy yz \n",
      "za zb zc zd ze zf zg zh zi zj zk zl zm zn zo zp zq zr zs zt zu zv zw zx zy zz \n"
     ]
    }
   ],
   "source": [
    "alphabet = 'abcdefghijklmnopqrstuvwxyz'\n",
    "for first_letter in alphabet:\n",
    "    for second_letter in alphabet:\n",
    "        print(first_letter + second_letter, end=\" \")\n",
    "    print()"
   ]
  },
  {
   "cell_type": "markdown",
   "id": "7992c147-613b-41cb-9ce7-8dacb0891c0a",
   "metadata": {},
   "source": [
    "3. Cгенерировать последовательно двухбуквенные строки по алфавиту до строки «mf»."
   ]
  },
  {
   "cell_type": "code",
   "execution_count": 14,
   "id": "10d6174f-a071-4bb2-928a-d7be37ecd5fe",
   "metadata": {},
   "outputs": [],
   "source": [
    "#тут решение комбинации двух символов до mf"
   ]
  },
  {
   "cell_type": "code",
   "execution_count": 24,
   "id": "62d21dba-b344-4969-8b69-d9c684e6ffbf",
   "metadata": {},
   "outputs": [
    {
     "name": "stdout",
     "output_type": "stream",
     "text": [
      "aa ab ac ad ae af ag ah ai aj ak al am an ao ap aq ar as at au av aw ax ay az ba bb bc bd be bf bg bh bi bj bk bl bm bn bo bp bq br bs bt bu bv bw bx by bz ca cb cc cd ce cf cg ch ci cj ck cl cm cn co cp cq cr cs ct cu cv cw cx cy cz da db dc dd de df dg dh di dj dk dl dm dn do dp dq dr ds dt du dv dw dx dy dz ea eb ec ed ee ef eg eh ei ej ek el em en eo ep eq er es et eu ev ew ex ey ez fa fb fc fd fe ff fg fh fi fj fk fl fm fn fo fp fq fr fs ft fu fv fw fx fy fz ga gb gc gd ge gf gg gh gi gj gk gl gm gn go gp gq gr gs gt gu gv gw gx gy gz ha hb hc hd he hf hg hh hi hj hk hl hm hn ho hp hq hr hs ht hu hv hw hx hy hz ia ib ic id ie if ig ih ii ij ik il im in io ip iq ir is it iu iv iw ix iy iz ja jb jc jd je jf jg jh ji jj jk jl jm jn jo jp jq jr js jt ju jv jw jx jy jz ka kb kc kd ke kf kg kh ki kj kk kl km kn ko kp kq kr ks kt ku kv kw kx ky kz la lb lc ld le lf lg lh li lj lk ll lm ln lo lp lq lr ls lt lu lv lw lx ly lz ma mb mc md me mf "
     ]
    }
   ],
   "source": [
    "alphabet = 'abcdefghijklmnopqrstuvwxyz'\n",
    "for first_letter in alphabet:\n",
    "    for second_letter in alphabet:\n",
    "        print(first_letter + second_letter, end=\" \")\n",
    "        if first_letter + second_letter == 'mf':\n",
    "            break\n",
    "    if first_letter + second_letter == 'mf':\n",
    "        break"
   ]
  },
  {
   "cell_type": "markdown",
   "id": "de5695b1-5b0d-477f-b87a-eb13ec3cf55d",
   "metadata": {},
   "source": [
    "4. Cгенерировать все возможные комбинации строчных букв английского алфавита длиной два символа, но не выводить комбинации с одинаковыми буквами («aa», «bb» и т. д.):"
   ]
  },
  {
   "cell_type": "code",
   "execution_count": 15,
   "id": "456aa32e-89b7-42a3-b2e7-01fc1e5f8a59",
   "metadata": {},
   "outputs": [],
   "source": [
    "#тут решение комбинации двух символов без дублей"
   ]
  },
  {
   "cell_type": "code",
   "execution_count": 50,
   "id": "8958052c-13fe-4f38-a60e-625809115c17",
   "metadata": {},
   "outputs": [
    {
     "name": "stdout",
     "output_type": "stream",
     "text": [
      "ab ac ad ae af ag ah ai aj ak al am an ao ap aq ar as at au av aw ax ay az ba bc bd be bf bg bh bi bj bk bl bm bn bo bp bq br bs bt bu bv bw bx by bz ca cb cd ce cf cg ch ci cj ck cl cm cn co cp cq cr cs ct cu cv cw cx cy cz da db dc de df dg dh di dj dk dl dm dn do dp dq dr ds dt du dv dw dx dy dz ea eb ec ed ef eg eh ei ej ek el em en eo ep eq er es et eu ev ew ex ey ez fa fb fc fd fe fg fh fi fj fk fl fm fn fo fp fq fr fs ft fu fv fw fx fy fz ga gb gc gd ge gf gh gi gj gk gl gm gn go gp gq gr gs gt gu gv gw gx gy gz ha hb hc hd he hf hg hi hj hk hl hm hn ho hp hq hr hs ht hu hv hw hx hy hz ia ib ic id ie if ig ih ij ik il im in io ip iq ir is it iu iv iw ix iy iz ja jb jc jd je jf jg jh ji jk jl jm jn jo jp jq jr js jt ju jv jw jx jy jz ka kb kc kd ke kf kg kh ki kj kl km kn ko kp kq kr ks kt ku kv kw kx ky kz la lb lc ld le lf lg lh li lj lk lm ln lo lp lq lr ls lt lu lv lw lx ly lz ma mb mc md me mf mg mh mi mj mk ml mn mo mp mq mr ms mt mu mv mw mx my mz na nb nc nd ne nf ng nh ni nj nk nl nm no np nq nr ns nt nu nv nw nx ny nz oa ob oc od oe of og oh oi oj ok ol om on op oq or os ot ou ov ow ox oy oz pa pb pc pd pe pf pg ph pi pj pk pl pm pn po pq pr ps pt pu pv pw px py pz qa qb qc qd qe qf qg qh qi qj qk ql qm qn qo qp qr qs qt qu qv qw qx qy qz ra rb rc rd re rf rg rh ri rj rk rl rm rn ro rp rq rs rt ru rv rw rx ry rz sa sb sc sd se sf sg sh si sj sk sl sm sn so sp sq sr st su sv sw sx sy sz ta tb tc td te tf tg th ti tj tk tl tm tn to tp tq tr ts tu tv tw tx ty tz ua ub uc ud ue uf ug uh ui uj uk ul um un uo up uq ur us ut uv uw ux uy uz va vb vc vd ve vf vg vh vi vj vk vl vm vn vo vp vq vr vs vt vu vw vx vy vz wa wb wc wd we wf wg wh wi wj wk wl wm wn wo wp wq wr ws wt wu wv wx wy wz xa xb xc xd xe xf xg xh xi xj xk xl xm xn xo xp xq xr xs xt xu xv xw xy xz ya yb yc yd ye yf yg yh yi yj yk yl ym yn yo yp yq yr ys yt yu yv yw yx yz za zb zc zd ze zf zg zh zi zj zk zl zm zn zo zp zq zr zs zt zu zv zw zx zy "
     ]
    }
   ],
   "source": [
    "alphabet = 'abcdefghijklmnopqrstuvwxyz'\n",
    "for first_letter in alphabet:\n",
    "    for second_letter in alphabet:\n",
    "        if first_letter != second_letter:\n",
    "            print(first_letter + second_letter, end=\" \")\n",
    "    "
   ]
  },
  {
   "cell_type": "markdown",
   "id": "2ce7d44f-80ae-4340-b029-c4787009ec89",
   "metadata": {},
   "source": [
    "5. Напишите две функции: caesar_crypt(key) одна будет шифровать введенный ей через input() текст шифром Цезаря. Другая расшифровывать caesar_decrypt(key). Аргумент функций - цифра сдвига для кодировки."
   ]
  },
  {
   "cell_type": "markdown",
   "id": "bbb6cac8-def7-4fce-9fde-f91f46f6e333",
   "metadata": {},
   "source": [
    "Шифр Цeзаря (шифр сдвига, код Цезаря) – такой простой вид шифрования текста, при котором все символы в тексте заменяются символами, сдвинутыми по алфавиту на правее или левее на постоянное количество позиций. Например, при сдвиге на 1 буква А заменяется на Б, Б на В и т.д"
   ]
  },
  {
   "cell_type": "code",
   "execution_count": 6,
   "id": "07c3e606-c067-462e-be14-6e6dd66875b1",
   "metadata": {},
   "outputs": [
    {
     "name": "stdin",
     "output_type": "stream",
     "text": [
      "Введите текст для шифрования: hello\n"
     ]
    },
    {
     "data": {
      "text/plain": [
       "'khoor'"
      ]
     },
     "execution_count": 6,
     "metadata": {},
     "output_type": "execute_result"
    }
   ],
   "source": [
    "def caesar_crypt(key):\n",
    "    text = input(\"Введите текст для шифрования:\")\n",
    "    new_word = []\n",
    "    for i in text:\n",
    "        if ord(i) >= 65 and ord(i) <= 90:\n",
    "            new_letter = chr((((ord(i) - 65) + key ) % 26) + 65)\n",
    "            new_word.append(new_letter)\n",
    "        elif ord(i) >= 97 and ord(i) <= 122:\n",
    "            new_letter = chr((((ord(i)- 97) + key ) % 26) + 97)\n",
    "            new_word.append(new_letter)\n",
    "        else:\n",
    "            new_word.append(i)\n",
    "    return ''.join(new_word)\n",
    "caesar_crypt(3)"
   ]
  },
  {
   "cell_type": "code",
   "execution_count": 3,
   "id": "1fe4db8f-27cb-44bf-bda8-5ca820bd367c",
   "metadata": {},
   "outputs": [
    {
     "data": {
      "text/plain": [
       "28"
      ]
     },
     "execution_count": 3,
     "metadata": {},
     "output_type": "execute_result"
    }
   ],
   "source": [
    "90 - 65 + 3"
   ]
  },
  {
   "cell_type": "code",
   "execution_count": 5,
   "id": "08f44ed6-28c9-4e4b-b21e-1362a7a7354d",
   "metadata": {},
   "outputs": [
    {
     "data": {
      "text/plain": [
       "'C'"
      ]
     },
     "execution_count": 5,
     "metadata": {},
     "output_type": "execute_result"
    }
   ],
   "source": [
    "28 % 26\n",
    "chr(67)"
   ]
  },
  {
   "cell_type": "code",
   "execution_count": 12,
   "id": "cc16cfaa-59d0-4be3-9d62-b9e0a746cb37",
   "metadata": {},
   "outputs": [
    {
     "name": "stdin",
     "output_type": "stream",
     "text": [
      "Введите текст для расшифрования: khoor\n"
     ]
    },
    {
     "data": {
      "text/plain": [
       "'hello'"
      ]
     },
     "execution_count": 12,
     "metadata": {},
     "output_type": "execute_result"
    }
   ],
   "source": [
    "def caesar_decrypt(key):\n",
    "    text = input(\"Введите текст для расшифрования:\")\n",
    "    new_word = []\n",
    "    for i in text:\n",
    "        if ord(i) >= 65 and ord(i) <= 90:\n",
    "            new_letter = chr((((ord(i) - 65) - key ) % 26) + 65)\n",
    "            new_word.append(new_letter)\n",
    "        elif ord(i) >= 97 and ord(i) <= 122:\n",
    "            new_letter = chr((((ord(i)- 97) - key ) % 26) + 97)\n",
    "            new_word.append(new_letter)\n",
    "        else:\n",
    "            new_word.append(i)\n",
    "    return ''.join(new_word)\n",
    "caesar_decrypt(3)    "
   ]
  },
  {
   "cell_type": "markdown",
   "id": "7aba5087-9cbc-4417-bbf9-0369b32e8319",
   "metadata": {},
   "source": [
    "## 2. f-string"
   ]
  },
  {
   "cell_type": "markdown",
   "id": "e22f2001-67d5-414b-9dda-2e1c953d56ca",
   "metadata": {},
   "source": [
    "Чтобы задать **f-строку**, необходимо поставить букву f перед открывающей кавычкой строки. Далее f-строка записывается как единое целое, с учётом правил её форматирования, и закрывается соответствующей кавычкой"
   ]
  },
  {
   "cell_type": "markdown",
   "id": "21b17421-e247-4363-b756-50a8dbe80a6b",
   "metadata": {},
   "source": [
    "Немного теории можно прочитать на нашей wiki  -  https://github.com/amtsu/team22/wiki/Python:-Вывод-данных-в-консоль"
   ]
  },
  {
   "cell_type": "code",
   "execution_count": 17,
   "id": "591ffa62-d49e-4124-a485-6f031b1b7ab4",
   "metadata": {},
   "outputs": [
    {
     "name": "stdout",
     "output_type": "stream",
     "text": [
      "Добрый день, Пользователь.\n"
     ]
    }
   ],
   "source": [
    "#пример\n",
    "name = \"Пользователь\"\n",
    "print(f\"Добрый день, {name}.\")"
   ]
  },
  {
   "cell_type": "raw",
   "id": "84d5fed6-a2f1-48d6-936e-2db1ab59db68",
   "metadata": {},
   "source": [
    "1. Напечать чек с помощью f-строки. Ввод можно сделать через input или кортеж\n",
    "Ввод:\n",
    "название товара;\n",
    "цена товара;\n",
    "вес товара;\n",
    "количество денег у пользователя.\n",
    "\n",
    "Вывод:\n",
    "Чек\n",
    "<название товара> - <вес>кг - <цена>руб/кг\n",
    "Итого: <итоговая стоимость>руб\n",
    "Внесено: <количество денег от пользователя>руб\n",
    "Сдача: <сдача>руб"
   ]
  },
  {
   "cell_type": "code",
   "execution_count": 2,
   "id": "99a4a490-efe7-4ba2-860a-ac92ffd357e1",
   "metadata": {},
   "outputs": [
    {
     "name": "stdin",
     "output_type": "stream",
     "text": [
      "Введите название товара: apple\n",
      "Введите цену товара: 20\n",
      "вес товара 2\n",
      "Количество денег 50\n"
     ]
    },
    {
     "name": "stdout",
     "output_type": "stream",
     "text": [
      "Чек\n",
      "apple - 2.0кг - 20.0руб/кг\n",
      "Итого: 40.0руб\n",
      "Внесено: 50.0\n",
      "Сдача: 10.0руб\n"
     ]
    }
   ],
   "source": [
    "item = str(input(\"Введите название товара:\"))\n",
    "price_item = float(input(\"Введите цену товара:\"))\n",
    "product_weight = float(input(\"вес товара\"))\n",
    "money = float(input(\"Количество денег\"))\n",
    "print(\"Чек\")\n",
    "print(f\"{item} - {product_weight}кг - {price_item}руб/кг\")\n",
    "print(f\"Итого: {product_weight * price_item}руб\")\n",
    "print(f\"Внесено: {money}\")\n",
    "print(f\"Сдача: {money - (product_weight * price_item)}руб\")"
   ]
  },
  {
   "cell_type": "code",
   "execution_count": 25,
   "id": "c88c288b-1654-4509-b814-bd12b3523323",
   "metadata": {},
   "outputs": [
    {
     "name": "stdin",
     "output_type": "stream",
     "text": [
      "Введите название товара: яблоко\n",
      "Введите цену товара: 20\n",
      "вес товара 2\n",
      "Количество денег 50\n"
     ]
    },
    {
     "name": "stdout",
     "output_type": "stream",
     "text": [
      "===============Чек===============\n",
      "Товар:                     яблоко\n",
      "Цена:        2.0 кг * 20.0 руб/кг\n",
      "Итого:                40.0 руб/кг\n",
      "Внесено:                 50.0 руб\n",
      "Сдача:                   10.0 руб\n",
      "=================================\n"
     ]
    }
   ],
   "source": [
    "#тут решение\n",
    "item = input(\"Введите название товара:\")\n",
    "price_item = float(input(\"Введите цену товара:\"))\n",
    "product_weight = float(input(\"вес товара\"))\n",
    "money = float(input(\"Количество денег\"))\n",
    "print(\"=\" * 15 + \"Чек\" + \"=\" * 15)\n",
    "print(f\"Товар:{f'{item}':>27}\")\n",
    "print(f\"Цена:{f'{product_weight} кг * {price_item} руб/кг':>28}\")\n",
    "print(f\"Итого:{f'{product_weight*price_item} руб/кг':>27}\")\n",
    "print(f\"Внесено:{f'{money} руб':>25}\")\n",
    "print(f\"Сдача:{f'{money - (product_weight * price_item)} руб':>27}\")\n",
    "print(\"=\" * 33)"
   ]
  },
  {
   "cell_type": "code",
   "execution_count": 42,
   "id": "4e901d15-6953-478c-855c-c18cfc3e1452",
   "metadata": {},
   "outputs": [
    {
     "name": "stdout",
     "output_type": "stream",
     "text": [
      "33\n"
     ]
    }
   ],
   "source": [
    "s = len(\"===============Чек===============\")\n",
    "print(s)"
   ]
  },
  {
   "cell_type": "raw",
   "id": "32439e3c-90a9-40c1-85fa-49bc20881159",
   "metadata": {},
   "source": [
    "2. Сделать для предыдущей задачи красивый вывод в виде:\n",
    "================Чек================\n",
    "Товар:                    <продукт>\n",
    "Цена:     <число>кг * <число>руб/кг\n",
    "Итого:                   <число>руб\n",
    "Внесено:                 <число>руб\n",
    "Сдача:                   <число>руб\n",
    "==================================="
   ]
  },
  {
   "cell_type": "markdown",
   "id": "75ad0171-3953-44f3-9734-2ff12aff8868",
   "metadata": {},
   "source": [
    "3. Вывести трегуольник паскаля в красивом виде. В этом треугольнике на вершине и по бокам стоят единицы. Каждое число равно сумме двух расположенных над ним чисел. Строки треугольника симметричны относительно вертикальной оси. (не использовать многострочное форматирование)"
   ]
  },
  {
   "cell_type": "code",
   "execution_count": 37,
   "id": "c1fa3823-99c0-4c0c-914c-8a93ae538967",
   "metadata": {},
   "outputs": [
    {
     "name": "stdout",
     "output_type": "stream",
     "text": [
      "     1\n",
      "    1 1\n",
      "   1 2 1\n",
      "  1 3 3 1\n",
      " 1 4 6 4 1\n"
     ]
    }
   ],
   "source": [
    "#тут решение\n",
    "def generate_pascal_triangle(rows):\n",
    "    row = [1] \n",
    "    for i in range(rows):\n",
    "        if i % 2 == 1 and rows % 2 == 0:\n",
    "            print(\" \", end = \"\", sep = \"\")\n",
    "        elif i % 2 == 0 and rows % 2 == 1:\n",
    "            print(\" \", end = \"\", sep = \"\")\n",
    "        print(*[\" \"] * ((rows - i) // 2) + row, sep = \" \")\n",
    "        row = [sum(x) for x in zip([0] + row, row + [0])]\n",
    "\n",
    "generate_pascal_triangle(5)   "
   ]
  },
  {
   "cell_type": "code",
   "execution_count": 31,
   "id": "fa637418-4a50-4ba4-9eab-9d0bc5326de5",
   "metadata": {},
   "outputs": [
    {
     "name": "stdout",
     "output_type": "stream",
     "text": [
      "1\n",
      "1 1\n",
      "1 2 1\n",
      "1 3 3 1\n",
      "1 4 6 4 1\n",
      "1 5 10 10 5 1\n",
      "1 6 15 20 15 6 1\n"
     ]
    }
   ],
   "source": [
    "n = 7\n",
    "p = []\n",
    "for i in range(n):\n",
    "    row = [1] * (i + 1)\n",
    "    #print(row)\n",
    "    for j in range(i + 1):\n",
    "        if j != 0 and j != i:\n",
    "            row[j] = p[i - 1][j - 1] + p[i - 1][j]\n",
    "    p.append(row)\n",
    "    #print(p)\n",
    "\n",
    "for r in p:\n",
    "    print(*r)"
   ]
  },
  {
   "cell_type": "markdown",
   "id": "ac3f4ee8-9ebb-46c9-89a5-b79c3f95e6a4",
   "metadata": {},
   "source": [
    "## 3. Работа с файлами"
   ]
  },
  {
   "cell_type": "markdown",
   "id": "f7292ea7-d7c6-4e63-877b-8e53c1552351",
   "metadata": {},
   "source": [
    "Немного теории можно прочитать на нашей wiki  - https://github.com/amtsu/team22/wiki/Python:-Базовая-работа-с-файлами"
   ]
  },
  {
   "cell_type": "markdown",
   "id": "22aa895a-147e-4db0-936c-ff595f29e2ef",
   "metadata": {},
   "source": [
    "1. Возьмите массив двухбуквенных сочетаний из задания 1.2 и запишите построчно этот массив в file1.txt"
   ]
  },
  {
   "cell_type": "code",
   "execution_count": 80,
   "id": "11be0e71-f5d2-41d7-b5ee-930b30aafb11",
   "metadata": {},
   "outputs": [],
   "source": [
    "#тут решение запись массива в файл\n",
    "alphabet = 'abcdefghijklmnopqrstuvwxyz'\n",
    "with open('file1.txt', 'w') as file:\n",
    "    for first_letter in alphabet:\n",
    "        for second_letter in alphabet:\n",
    "            file.write(first_letter + second_letter + ' ')\n",
    "        file.write('\\n')"
   ]
  },
  {
   "cell_type": "markdown",
   "id": "bf13b25a-eaf0-4ada-8745-3f4e5a87a109",
   "metadata": {},
   "source": [
    "2. Напишите функцию read_last(lines, file), которая будет открывать файл (в нашем случае file1.txt) и выводить на печать построчно последние строки в количестве lines (на всякий случай проверим, что задано положительное целое число)"
   ]
  },
  {
   "cell_type": "code",
   "execution_count": 81,
   "id": "a09075af-f568-47f5-8926-8f3f2890e3f4",
   "metadata": {},
   "outputs": [
    {
     "data": {
      "text/plain": [
       "['va vb vc vd ve vf vg vh vi vj vk vl vm vn vo vp vq vr vs vt vu vv vw vx vy vz',\n",
       " 'wa wb wc wd we wf wg wh wi wj wk wl wm wn wo wp wq wr ws wt wu wv ww wx wy wz',\n",
       " 'xa xb xc xd xe xf xg xh xi xj xk xl xm xn xo xp xq xr xs xt xu xv xw xx xy xz',\n",
       " 'ya yb yc yd ye yf yg yh yi yj yk yl ym yn yo yp yq yr ys yt yu yv yw yx yy yz',\n",
       " 'za zb zc zd ze zf zg zh zi zj zk zl zm zn zo zp zq zr zs zt zu zv zw zx zy zz']"
      ]
     },
     "execution_count": 81,
     "metadata": {},
     "output_type": "execute_result"
    }
   ],
   "source": [
    "#тут решение вывод последних строк файла\n",
    "def read_last(lines, file):\n",
    "    if not isinstance(lines, int) or lines <= 0:\n",
    "        return None\n",
    "    try:\n",
    "        with open(file, 'r') as f:\n",
    "            all_lines = f.readlines()\n",
    "            last_lines = all_lines[-lines:]\n",
    "            return [line.rstrip() for line in last_lines]\n",
    "    except FileNotFoundError:\n",
    "        print(\"Файл не найден.\")\n",
    "        return None\n",
    "read_last(5, \"file1.txt\")\n",
    "\n",
    "#readlines(). Этот метод возвращает список строк из файла.\n",
    "#Используется генератор списка для того, чтобы удалить символ новой строки \\n в конце каждой строки (с помощью метода rstrip()), чтобы строки выглядели более красиво при выводе.\n"
   ]
  },
  {
   "cell_type": "markdown",
   "id": "4b848caa-53f6-4806-b841-febbb552e42a",
   "metadata": {},
   "source": [
    "3. Напишите функцию longest_words(file), которая выводит слово, имеющее максимальную длину (или список слов, если таковых несколько)."
   ]
  },
  {
   "cell_type": "code",
   "execution_count": 78,
   "id": "0e505b8f-e6e4-485a-84ef-65d208503ef7",
   "metadata": {},
   "outputs": [],
   "source": [
    "#тут решение вывод самого длинного слова\n",
    "def longest_words(file):\n",
    "    with open(file, 'r') as f:\n",
    "        # Читаем содержимое файла и разбиваем его на слова\n",
    "        words = f.read().split()\n",
    "        \n",
    "        # Находим максимальную длину слова в файле\n",
    "        max_length = max(len(word) for word in words)\n",
    "        \n",
    "        # Создаем список самых длинных слов\n",
    "        longest = [word for word in words if len(word) == max_length]\n",
    "        return longest\n",
    "longest_words(\"file1.txt\")"
   ]
  },
  {
   "cell_type": "markdown",
   "id": "df62e68b-f456-4f20-9118-bb5d2fd45a0b",
   "metadata": {},
   "source": [
    "4. Напишите функцию file_even_odd(file), которая будет принимать файл, считывать его построчно и запишисывать в file2n1.txt только нечетные строки, а в file2n.txt только четные"
   ]
  },
  {
   "cell_type": "code",
   "execution_count": 82,
   "id": "9304b430-4eb9-497b-ae6e-61c66816495a",
   "metadata": {},
   "outputs": [],
   "source": [
    "#тут решение запись из файла в два разных файла\n",
    "def file_even_odd(file):\n",
    "   with open(file, 'r') as f:\n",
    "        # Открываем файлы для записи четных и нечетных строк\n",
    "        with open('file2n.txt', 'w') as even_file, open('file2n1.txt', 'w') as odd_file:\n",
    "            # Считываем строки из файла\n",
    "            lines = f.readlines()\n",
    "            for i, line in enumerate(lines):\n",
    "                # Если номер строки четный, записываем ее в файл для четных строк\n",
    "                if i % 2 == 0:\n",
    "                    even_file.write(line)\n",
    "                # Если номер строки нечетный, записываем ее в файл для нечетных строк\n",
    "                else:\n",
    "                    odd_file.write(line)\n",
    "file_even_odd(\"file1.txt\")"
   ]
  },
  {
   "cell_type": "markdown",
   "id": "6ef28dcb-ef48-41b1-ab75-4ded078383d6",
   "metadata": {},
   "source": [
    "5. Напишите функцию file_merge(file_1, file_2), которая будет принимать на вход два файла и выводить из них строки поочерди (то есть в начале 1 строка 1 файла, потом 1 строка 2 файла и тд)"
   ]
  },
  {
   "cell_type": "code",
   "execution_count": 83,
   "id": "c9717e20-ad28-410f-8985-12759aeb7563",
   "metadata": {},
   "outputs": [
    {
     "name": "stdout",
     "output_type": "stream",
     "text": [
      "aa ab ac ad ae af ag ah ai aj ak al am an ao ap aq ar as at au av aw ax ay az\n",
      "ba bb bc bd be bf bg bh bi bj bk bl bm bn bo bp bq br bs bt bu bv bw bx by bz\n",
      "ca cb cc cd ce cf cg ch ci cj ck cl cm cn co cp cq cr cs ct cu cv cw cx cy cz\n",
      "da db dc dd de df dg dh di dj dk dl dm dn do dp dq dr ds dt du dv dw dx dy dz\n",
      "ea eb ec ed ee ef eg eh ei ej ek el em en eo ep eq er es et eu ev ew ex ey ez\n",
      "fa fb fc fd fe ff fg fh fi fj fk fl fm fn fo fp fq fr fs ft fu fv fw fx fy fz\n",
      "ga gb gc gd ge gf gg gh gi gj gk gl gm gn go gp gq gr gs gt gu gv gw gx gy gz\n",
      "ha hb hc hd he hf hg hh hi hj hk hl hm hn ho hp hq hr hs ht hu hv hw hx hy hz\n",
      "ia ib ic id ie if ig ih ii ij ik il im in io ip iq ir is it iu iv iw ix iy iz\n",
      "ja jb jc jd je jf jg jh ji jj jk jl jm jn jo jp jq jr js jt ju jv jw jx jy jz\n",
      "ka kb kc kd ke kf kg kh ki kj kk kl km kn ko kp kq kr ks kt ku kv kw kx ky kz\n",
      "la lb lc ld le lf lg lh li lj lk ll lm ln lo lp lq lr ls lt lu lv lw lx ly lz\n",
      "ma mb mc md me mf mg mh mi mj mk ml mm mn mo mp mq mr ms mt mu mv mw mx my mz\n",
      "na nb nc nd ne nf ng nh ni nj nk nl nm nn no np nq nr ns nt nu nv nw nx ny nz\n",
      "oa ob oc od oe of og oh oi oj ok ol om on oo op oq or os ot ou ov ow ox oy oz\n",
      "pa pb pc pd pe pf pg ph pi pj pk pl pm pn po pp pq pr ps pt pu pv pw px py pz\n",
      "qa qb qc qd qe qf qg qh qi qj qk ql qm qn qo qp qq qr qs qt qu qv qw qx qy qz\n",
      "ra rb rc rd re rf rg rh ri rj rk rl rm rn ro rp rq rr rs rt ru rv rw rx ry rz\n",
      "sa sb sc sd se sf sg sh si sj sk sl sm sn so sp sq sr ss st su sv sw sx sy sz\n",
      "ta tb tc td te tf tg th ti tj tk tl tm tn to tp tq tr ts tt tu tv tw tx ty tz\n",
      "ua ub uc ud ue uf ug uh ui uj uk ul um un uo up uq ur us ut uu uv uw ux uy uz\n",
      "va vb vc vd ve vf vg vh vi vj vk vl vm vn vo vp vq vr vs vt vu vv vw vx vy vz\n",
      "wa wb wc wd we wf wg wh wi wj wk wl wm wn wo wp wq wr ws wt wu wv ww wx wy wz\n",
      "xa xb xc xd xe xf xg xh xi xj xk xl xm xn xo xp xq xr xs xt xu xv xw xx xy xz\n",
      "ya yb yc yd ye yf yg yh yi yj yk yl ym yn yo yp yq yr ys yt yu yv yw yx yy yz\n",
      "za zb zc zd ze zf zg zh zi zj zk zl zm zn zo zp zq zr zs zt zu zv zw zx zy zz\n"
     ]
    }
   ],
   "source": [
    "#тут решение функция поочередного выводы строк из 2х файлов\n",
    "def file_merge(file_1, file_2):\n",
    "    # Открываем оба файла для чтения\n",
    "    with open(file_1, 'r') as f1, open(file_2, 'r') as f2:\n",
    "        # Считываем строки из обоих файлов\n",
    "        lines_1 = f1.readlines()\n",
    "        lines_2 = f2.readlines()\n",
    "\n",
    "        # Определяем максимальное количество строк среди двух файлов\n",
    "        max_lines = max(len(lines_1), len(lines_2))\n",
    "\n",
    "        # Выводим строки поочередно из обоих файлов\n",
    "        for i in range(max_lines):\n",
    "            if i < len(lines_1):\n",
    "                print(lines_1[i].strip())  # Выводим строку из первого файла\n",
    "            if i < len(lines_2):\n",
    "                print(lines_2[i].strip())  # Выводим строку из второго файла\n",
    "file_merge(\"file2n.txt\", \"file2n1.txt\")"
   ]
  },
  {
   "cell_type": "markdown",
   "id": "741a5308-88e3-489e-adc4-72ca1736ca12",
   "metadata": {},
   "source": [
    "## 4. Итераторы Генераторы"
   ]
  },
  {
   "cell_type": "markdown",
   "id": "b4893684-f90e-4a0c-9b5b-5dfaf593369c",
   "metadata": {},
   "source": [
    "Немного теории можно прочитать на нашей wiki  - https://github.com/amtsu/team22/wiki/Python:-Итераторы"
   ]
  },
  {
   "cell_type": "markdown",
   "id": "8dcee596-b425-43c9-8b1d-85171ac14017",
   "metadata": {},
   "source": [
    "1. Выполните ячейку и объясните результат выполнения. Потом поправьте чтобы сработали оба принта."
   ]
  },
  {
   "cell_type": "code",
   "execution_count": 71,
   "id": "a98b192d-7eb4-4a18-ac15-938f597badee",
   "metadata": {},
   "outputs": [
    {
     "ename": "SyntaxError",
     "evalue": "f-string: cannot use starred expression here (2069418675.py, line 4)",
     "output_type": "error",
     "traceback": [
      "\u001b[0;36m  Cell \u001b[0;32mIn[71], line 4\u001b[0;36m\u001b[0m\n\u001b[0;31m    print(f'Все пары кортежей - {*ab}')\u001b[0m\n\u001b[0m     ^\u001b[0m\n\u001b[0;31mSyntaxError\u001b[0m\u001b[0;31m:\u001b[0m f-string: cannot use starred expression here\n"
     ]
    }
   ],
   "source": [
    "a = [1,2,3]\n",
    "b = [3,2,1]\n",
    "ab = zip(a,b)\n",
    "print(f'Все пары кортежей - {*ab}')\n",
    "print(f'Хочу вывести первую пару - {next(ab)}')"
   ]
  },
  {
   "cell_type": "code",
   "execution_count": 74,
   "id": "d5b7616b-8383-4b40-9212-e8967ed12875",
   "metadata": {},
   "outputs": [
    {
     "name": "stdout",
     "output_type": "stream",
     "text": [
      "Все пары кортежей (1, 3) (2, 2) (3, 1)\n",
      "Хочу вывести первую пару - (1, 3)\n"
     ]
    }
   ],
   "source": [
    "# объект ab итерирован до конца, поэтому когда next(ab)\n",
    "#пытается получить первую пару после применения оператора *,\n",
    "#итератор уже достиг конца и вызывается исключение StopIteration.\n",
    "#это можно решить путем создания нового объекта ab = zip(a,b) перед следующим вызовом\n",
    "#или преобразовать объект ab в список \n",
    "a = [1,2,3]\n",
    "b = [3,2,1]\n",
    "ab = zip(a,b)\n",
    "#print(f'Все пары кортежей - {list(ab)}')\n",
    "print(\"Все пары кортежей\", *ab)\n",
    "ab = zip(a,b)\n",
    "print(f'Хочу вывести первую пару - {next(ab)}')"
   ]
  },
  {
   "cell_type": "markdown",
   "id": "650a910e-fe5c-4ad1-9401-70d96d53ac3b",
   "metadata": {},
   "source": [
    "2. Возьмите из 1.1 массив с английским алфавитом, и выведите первые 5 элементов с помощью next()"
   ]
  },
  {
   "cell_type": "code",
   "execution_count": 86,
   "id": "596660d9-d8e9-40f2-abe9-200c678c4699",
   "metadata": {},
   "outputs": [
    {
     "name": "stdout",
     "output_type": "stream",
     "text": [
      "a\n",
      "b\n",
      "c\n",
      "d\n",
      "e\n"
     ]
    }
   ],
   "source": [
    "# решение к заданию 4.2 тут\n",
    "alphabet = \"abcdefghijklmnopqrstuvwxyz\"\n",
    "s = iter(alphabet)\n",
    "print(next(s))\n",
    "print(next(s))\n",
    "print(next(s))\n",
    "print(next(s))\n",
    "print(next(s))"
   ]
  },
  {
   "cell_type": "markdown",
   "id": "0ceb98e0-c916-4ccd-9c17-1ae539c19586",
   "metadata": {},
   "source": [
    "3. Проверить функции list(), open(), zip(),  - является ли то, что они выдают итератором"
   ]
  },
  {
   "cell_type": "code",
   "execution_count": 2,
   "id": "83737c01-a1fd-4e3d-b367-c0416d094aa6",
   "metadata": {},
   "outputs": [
    {
     "data": {
      "text/plain": [
       "'e'"
      ]
     },
     "execution_count": 2,
     "metadata": {},
     "output_type": "execute_result"
    }
   ],
   "source": [
    "#решение к заданию 4.3 тут\n",
    "alphabet = \"abcdefghijklmnopqrstuvwxyz\"\n",
    "s = list(alphabet)\n",
    "iterator = iter(s)\n",
    "next(iterator)\n",
    "next(iterator)\n",
    "next(iterator)\n",
    "next(iterator)\n",
    "next(iterator)"
   ]
  },
  {
   "cell_type": "code",
   "execution_count": 22,
   "id": "47e93611-0c67-475a-b118-f42b6df0c914",
   "metadata": {},
   "outputs": [
    {
     "ename": "TypeError",
     "evalue": "'list' object is not an iterator",
     "output_type": "error",
     "traceback": [
      "\u001b[0;31m---------------------------------------------------------------------------\u001b[0m",
      "\u001b[0;31mTypeError\u001b[0m                                 Traceback (most recent call last)",
      "Cell \u001b[0;32mIn[22], line 3\u001b[0m\n\u001b[1;32m      1\u001b[0m alphabet \u001b[38;5;241m=\u001b[39m \u001b[38;5;124m\"\u001b[39m\u001b[38;5;124mabcdefghijklmnopqrstuvwxyz\u001b[39m\u001b[38;5;124m\"\u001b[39m\n\u001b[1;32m      2\u001b[0m s \u001b[38;5;241m=\u001b[39m \u001b[38;5;28mlist\u001b[39m(alphabet)\n\u001b[0;32m----> 3\u001b[0m \u001b[38;5;28;43mnext\u001b[39;49m\u001b[43m(\u001b[49m\u001b[43ms\u001b[49m\u001b[43m)\u001b[49m\n",
      "\u001b[0;31mTypeError\u001b[0m: 'list' object is not an iterator"
     ]
    }
   ],
   "source": [
    "alphabet = \"abcdefghijklmnopqrstuvwxyz\"\n",
    "s = list(alphabet)\n",
    "next(s)"
   ]
  },
  {
   "cell_type": "code",
   "execution_count": 24,
   "id": "8d24169d-418e-4078-8396-9c2731447a4b",
   "metadata": {},
   "outputs": [
    {
     "name": "stdout",
     "output_type": "stream",
     "text": [
      "aa ab ac ad ae af ag ah ai aj ak al am an ao ap aq ar as at au av aw ax ay az \n",
      "\n"
     ]
    }
   ],
   "source": [
    "with open ('file2n.txt', 'r') as f:\n",
    "    print(next(f)) "
   ]
  },
  {
   "cell_type": "code",
   "execution_count": 25,
   "id": "f4343649-8e87-4752-9e45-0fc61d0a989c",
   "metadata": {},
   "outputs": [
    {
     "data": {
      "text/plain": [
       "(1, 3)"
      ]
     },
     "execution_count": 25,
     "metadata": {},
     "output_type": "execute_result"
    }
   ],
   "source": [
    "a = [1,2,3]\n",
    "b = [3,2,1]\n",
    "ab = zip(a, b)\n",
    "next(ab)"
   ]
  },
  {
   "cell_type": "markdown",
   "id": "cd2dbb3a-c53a-454f-9ead-3150afb1360b",
   "metadata": {},
   "source": [
    "4. Как мы проверили в задание 4.4 функция open тоже реализует протокл итератора. Возьмите файл с двухбуквенными сочетаниями из задания 3.1 и выведите все его строки с помощью итератора"
   ]
  },
  {
   "cell_type": "code",
   "execution_count": 3,
   "id": "544672fd-85db-4a72-bb9d-b4a43e46817f",
   "metadata": {},
   "outputs": [
    {
     "name": "stdout",
     "output_type": "stream",
     "text": [
      "aa ab ac ad ae af ag ah ai aj ak al am an ao ap aq ar as at au av aw ax ay az \n",
      " ba bb bc bd be bf bg bh bi bj bk bl bm bn bo bp bq br bs bt bu bv bw bx by bz \n",
      " ca cb cc cd ce cf cg ch ci cj ck cl cm cn co cp cq cr cs ct cu cv cw cx cy cz \n",
      " da db dc dd de df dg dh di dj dk dl dm dn do dp dq dr ds dt du dv dw dx dy dz \n",
      " ea eb ec ed ee ef eg eh ei ej ek el em en eo ep eq er es et eu ev ew ex ey ez \n",
      " fa fb fc fd fe ff fg fh fi fj fk fl fm fn fo fp fq fr fs ft fu fv fw fx fy fz \n",
      " ga gb gc gd ge gf gg gh gi gj gk gl gm gn go gp gq gr gs gt gu gv gw gx gy gz \n",
      " ha hb hc hd he hf hg hh hi hj hk hl hm hn ho hp hq hr hs ht hu hv hw hx hy hz \n",
      " ia ib ic id ie if ig ih ii ij ik il im in io ip iq ir is it iu iv iw ix iy iz \n",
      " ja jb jc jd je jf jg jh ji jj jk jl jm jn jo jp jq jr js jt ju jv jw jx jy jz \n",
      " ka kb kc kd ke kf kg kh ki kj kk kl km kn ko kp kq kr ks kt ku kv kw kx ky kz \n",
      " la lb lc ld le lf lg lh li lj lk ll lm ln lo lp lq lr ls lt lu lv lw lx ly lz \n",
      " ma mb mc md me mf mg mh mi mj mk ml mm mn mo mp mq mr ms mt mu mv mw mx my mz \n",
      " na nb nc nd ne nf ng nh ni nj nk nl nm nn no np nq nr ns nt nu nv nw nx ny nz \n",
      " oa ob oc od oe of og oh oi oj ok ol om on oo op oq or os ot ou ov ow ox oy oz \n",
      " pa pb pc pd pe pf pg ph pi pj pk pl pm pn po pp pq pr ps pt pu pv pw px py pz \n",
      " qa qb qc qd qe qf qg qh qi qj qk ql qm qn qo qp qq qr qs qt qu qv qw qx qy qz \n",
      " ra rb rc rd re rf rg rh ri rj rk rl rm rn ro rp rq rr rs rt ru rv rw rx ry rz \n",
      " sa sb sc sd se sf sg sh si sj sk sl sm sn so sp sq sr ss st su sv sw sx sy sz \n",
      " ta tb tc td te tf tg th ti tj tk tl tm tn to tp tq tr ts tt tu tv tw tx ty tz \n",
      " ua ub uc ud ue uf ug uh ui uj uk ul um un uo up uq ur us ut uu uv uw ux uy uz \n",
      " va vb vc vd ve vf vg vh vi vj vk vl vm vn vo vp vq vr vs vt vu vv vw vx vy vz \n",
      " wa wb wc wd we wf wg wh wi wj wk wl wm wn wo wp wq wr ws wt wu wv ww wx wy wz \n",
      " xa xb xc xd xe xf xg xh xi xj xk xl xm xn xo xp xq xr xs xt xu xv xw xx xy xz \n",
      " ya yb yc yd ye yf yg yh yi yj yk yl ym yn yo yp yq yr ys yt yu yv yw yx yy yz \n",
      " za zb zc zd ze zf zg zh zi zj zk zl zm zn zo zp zq zr zs zt zu zv zw zx zy zz \n",
      "\n"
     ]
    }
   ],
   "source": [
    "#решение для вывода содержимого файла с помощью итератора тут\n",
    "with open(\"file1.txt\", \"r\") as f:\n",
    "    iterator = iter(f)\n",
    "    print(*f)"
   ]
  },
  {
   "cell_type": "markdown",
   "id": "638bdadc-f410-4a8e-a392-6c1f3e283faf",
   "metadata": {},
   "source": [
    "5. Объяснить, чем отличается ячейка-раз от ячеек два, три, четыре и что за магия там происходит"
   ]
  },
  {
   "cell_type": "code",
   "execution_count": 7,
   "id": "a735d95f-d88e-4d88-a1e2-43d39d7262e9",
   "metadata": {},
   "outputs": [
    {
     "name": "stdout",
     "output_type": "stream",
     "text": [
      "True\n",
      "1 4 9 16 25\n",
      "True\n",
      "1 4 9 16 25\n"
     ]
    }
   ],
   "source": [
    "#ячейка-раз\n",
    "numbers = [1,2,3,4,5]\n",
    "squared_numbers = [number**2 for number in numbers] # генератор списка\n",
    "print(4 in squared_numbers)\n",
    "print(*squared_numbers)\n",
    "print(4 in squared_numbers)\n",
    "print(*squared_numbers)\n",
    "\n",
    "#1. numbers = [1, 2, 3, 4, 5] - определяется список чисел numbers.\n",
    "#2. squared_numbers = [number**2 for number in numbers] - это генератор списка, который создает новый список squared_numbers,\n",
    "#содержащий квадраты каждого числа из списка numbers.\n",
    "#В результате выполнения этой строки squared_numbers будет содержать [1, 4, 9, 16, 25]\n",
    "#3. print(4 in squared_numbers) - проверяется, есть ли число 4 в списке squared_numbers.\n",
    "#Поскольку 4 есть в этом списке (4 является квадратом #числа 2), выражение вернет True\n",
    "#4. print(*squared_numbers) - с помощью оператора * распаковывается список squared_numbers, и его элементы выводятся через пробел.\n",
    "#Таким образом, на экране будет выведено содержимое squared_numbers, то есть 1 4 9 16 25\n",
    "#5. print(4 in squared_numbers) - снова проверяется, есть ли число 4 в списке squared_numbers.\n",
    "#Поскольку мы не изменили squared_numbers после первой проверки, она все еще содержит число 4, и выражение вернет True\n",
    "#6. print(*squared_numbers) - снова распаковывается список squared_numbers и его элементы выводятся на экран.\n",
    "#Так как список не изменился после предыдущей распаковки, на экране будет выведено 1 4 9 16 25 снова"
   ]
  },
  {
   "cell_type": "code",
   "execution_count": 4,
   "id": "4fdfd2b9-b905-44d0-a3db-c374fa7af177",
   "metadata": {},
   "outputs": [
    {
     "name": "stdout",
     "output_type": "stream",
     "text": [
      "True\n",
      "True\n",
      "1 4 9 16 25\n"
     ]
    }
   ],
   "source": [
    "numbers = [1,2,3,4,5]\n",
    "squared_numbers = [number**2 for number in numbers] # генератор списка\n",
    "print(4 in squared_numbers)\n",
    "#print(*squared_numbers)\n",
    "print(4 in squared_numbers)\n",
    "print(*squared_numbers)"
   ]
  },
  {
   "cell_type": "code",
   "execution_count": 4,
   "id": "8996fce9-6993-4747-b199-b73cd4f2ddb6",
   "metadata": {},
   "outputs": [
    {
     "name": "stdout",
     "output_type": "stream",
     "text": [
      "True\n",
      "False\n"
     ]
    }
   ],
   "source": [
    "#ячейка-два\n",
    "numbers = [1,2,3,4,5]\n",
    "squared_numbers = (number**2 for number in numbers) #генератор кортежа\n",
    "print(4 in squared_numbers)\n",
    "print(4 in squared_numbers)\n",
    "\n",
    "#numbers = [1, 2, 3, 4, 5] - здесь определяется список чисел numbers\n",
    "#2. squared_numbers = (number**2 for number in numbers) - это генератор кортежа.\n",
    "#Он создает последовательность квадратов чисел из списка numbers. Однако, в отличие от генератора списка, он не создает список сразу.\n",
    "#Вместо этого он создает объект-генератор, который выдает элементы по мере необходимости\n",
    "#3. print(4 in squared_numbers) - здесь мы проверяем, есть ли число 4 в последовательности квадратов чисел.\n",
    "#Поскольку 4 является квадратом 2 (то есть 2 возводится в квадрат), то выражение вернет True\n",
    "#4. print(4 in squared_numbers) - здесь мы снова пытаемся проверить, есть ли число 4 в той же самой последовательности квадратов чисел.\n",
    "#Однако, поскольку генератор уже был исчерпан в #предыдущем вызове print, он больше не содержит элементов. Поэтому выражение вернет False"
   ]
  },
  {
   "cell_type": "code",
   "execution_count": 2,
   "id": "659e09b9-88b9-4928-92e5-20b81c22126a",
   "metadata": {},
   "outputs": [
    {
     "name": "stdout",
     "output_type": "stream",
     "text": [
      "True\n",
      "False\n"
     ]
    }
   ],
   "source": [
    "numbers = [1,2,3,4,5]\n",
    "squared_numbers = (number**2 for number in numbers) #генератор кортежа\n",
    "print(4 in squared_numbers)\n",
    "print(5 in squared_numbers)"
   ]
  },
  {
   "cell_type": "code",
   "execution_count": 5,
   "id": "10a56474-9b5b-4b5c-be43-51328492f711",
   "metadata": {},
   "outputs": [
    {
     "name": "stdout",
     "output_type": "stream",
     "text": [
      "1 4 9 16 25\n",
      "\n"
     ]
    }
   ],
   "source": [
    "#ячейка-три\n",
    "numbers = [1,2,3,4,5]\n",
    "squared_numbers = (number**2 for number in numbers)\n",
    "print(*squared_numbers)\n",
    "print(*squared_numbers)\n",
    "\n",
    "# 1. numbers = [1, 2, 3, 4, 5] - создается список чисел numbers.\n",
    "# 2. squared_numbers = (number**2 for number in numbers) - это генератор кортежа,\n",
    "#который создает последовательность квадратов чисел из списка numbers.\n",
    "# Однако, в отличие от генератора списка, он не создает список сразу.\n",
    "#Вместо этого он создает объект-генератор, который выдает элементы по мере необходимости.\n",
    "# 3. print(*squared_numbers) - с помощью оператора * распаковывается генератор кортежа squared_numbers, и его элементы выводятся на экран.\n",
    "# После этой операции все элементы генератора будут исчерпаны, и он больше не будет содержать элементов.\n",
    "# 4. print(*squared_numbers) - в этой строке пытаемся снова распаковать генератор squared_numbers и вывести его элементы.\n",
    "# Однако, поскольку генератор уже был исчерпан в предыдущем вызове print, он больше не содержит элементов.\n",
    "#Поэтому ничего не будет выведено на экран."
   ]
  },
  {
   "cell_type": "code",
   "execution_count": 6,
   "id": "82842286-b0a7-4e0b-9d14-7661c11739c0",
   "metadata": {},
   "outputs": [
    {
     "name": "stdout",
     "output_type": "stream",
     "text": [
      "True\n",
      "9 16 25\n"
     ]
    }
   ],
   "source": [
    "#ячейка-четыре\n",
    "numbers = [1,2,3,4,5]\n",
    "squared_numbers = (number**2 for number in numbers)\n",
    "print(4 in squared_numbers)\n",
    "print(*squared_numbers)\n",
    "\n",
    "#Первый print проверяет наличие 4 в генераторе squared_numbers, таким образом итератор доходит до числа 2 с писке numbers, возводит его в квадрат и выдает.\n",
    "#Второй print возводит в квадрат числа 3, 4, 5 так как итератор уже прошел числа 1 и 2."
   ]
  },
  {
   "cell_type": "markdown",
   "id": "384e32fe-50ee-4c4a-b939-79344419f4b6",
   "metadata": {},
   "source": [
    "6. Напишите функцию yrange(n) аналогичную по работе функции range, которая по запросу next  выдает следующий элмент последовательности от 0 до n"
   ]
  },
  {
   "cell_type": "code",
   "execution_count": 5,
   "id": "bb70ddd1-abc5-4182-be66-83ae0db8ff6d",
   "metadata": {},
   "outputs": [
    {
     "name": "stdout",
     "output_type": "stream",
     "text": [
      "0\n",
      "1\n",
      "2\n"
     ]
    }
   ],
   "source": [
    "#решение задания 4.6 тут\n",
    "def yrange(n):\n",
    "    i = 0\n",
    "    while i < n:\n",
    "        yield i\n",
    "        i += 1\n",
    "generator = yrange(3)  \n",
    "print(next(generator))\n",
    "print(next(generator))\n",
    "print(next(generator))"
   ]
  },
  {
   "cell_type": "code",
   "execution_count": 6,
   "id": "2af1ce4f-de47-4b04-8b60-77228d46e8cc",
   "metadata": {},
   "outputs": [
    {
     "name": "stdout",
     "output_type": "stream",
     "text": [
      "0\n",
      "1\n",
      "2\n",
      "3\n",
      "4\n",
      "5\n",
      "6\n",
      "7\n",
      "8\n",
      "9\n"
     ]
    }
   ],
   "source": [
    "#проверка тут\n",
    "a = yrange(20)\n",
    "#код должен вывести цифры от 0 до 9\n",
    "for i in range(10):\n",
    "    print(next(a))"
   ]
  },
  {
   "cell_type": "markdown",
   "id": "8c7244d3-e78d-415c-80d6-27aeeba6430b",
   "metadata": {},
   "source": [
    "7. Создайте массив alph - из букв английского алфавита(можно взять из задания 1.1), возьмите массив с числами из задания 5.3.\n",
    "\n",
    "Напишите функцию которая принимает на вход два массива и выдает третий с сочетаниями букв и их номеров (a1, b2 и тд) (склеивайте массивы с помощью zip)"
   ]
  },
  {
   "cell_type": "code",
   "execution_count": 57,
   "id": "b3d6025b-056a-4e0e-b14f-244a4d800096",
   "metadata": {},
   "outputs": [
    {
     "data": {
      "text/plain": [
       "['a1', 'b2', 'c3', 'd4', 'e5']"
      ]
     },
     "execution_count": 57,
     "metadata": {},
     "output_type": "execute_result"
    }
   ],
   "source": [
    "#решение тут\n",
    "def alph_numbers(alphabet, numbers):\n",
    "    s = [f\"{alph}{num}\" for alph, num in zip(alphabet, numbers)]\n",
    "    return s\n",
    "    \n",
    "alphabet = \"abcdefghijklmnopqrstuvwxyz\"\n",
    "numbers = [1,2,3,4,5]\n",
    "alph_numbers(alphabet, numbers)   "
   ]
  },
  {
   "cell_type": "markdown",
   "id": "2415c89c-540e-455a-b613-39768b4a279e",
   "metadata": {},
   "source": [
    "## 5. List comprehenshion"
   ]
  },
  {
   "cell_type": "markdown",
   "id": "fc5f1f33-0672-403a-8737-c3ca6c5356ba",
   "metadata": {},
   "source": [
    "Немного теории можно прочитать на нашей wiki - https://github.com/amtsu/team22/wiki/Python:-Генератор-списков"
   ]
  },
  {
   "cell_type": "markdown",
   "id": "be7d53ee-2fa7-4ef2-93b0-703f59c4d49d",
   "metadata": {},
   "source": [
    "1. Cформировать список из квадратов целых чисел от 0 до N - обычными циклами и условиями"
   ]
  },
  {
   "cell_type": "code",
   "execution_count": 5,
   "id": "f4c2945d-1b56-45f2-b8e4-8edc6ade6323",
   "metadata": {},
   "outputs": [
    {
     "name": "stdout",
     "output_type": "stream",
     "text": [
      "0\n",
      "1\n",
      "4\n"
     ]
    }
   ],
   "source": [
    "#тут решение\n",
    "n = 3\n",
    "for i in range(n):\n",
    "    print(i ** 2)\n"
   ]
  },
  {
   "cell_type": "code",
   "execution_count": 2,
   "id": "eaffb854-50fd-4d80-a347-5dd8c65476df",
   "metadata": {},
   "outputs": [
    {
     "name": "stdout",
     "output_type": "stream",
     "text": [
      "0\n",
      "1\n",
      "2\n",
      "3\n",
      "4\n"
     ]
    }
   ],
   "source": [
    "i = 0\n",
    "n = 5\n",
    "while i < n:\n",
    "    print(i)\n",
    "    i += 1"
   ]
  },
  {
   "cell_type": "markdown",
   "id": "92cfcb85-4c53-4e19-bf58-7fa74b0d3b7c",
   "metadata": {},
   "source": [
    "2. Cформировать список из квадратов целых чисел от 0 до N - с помощью list-comprehenshion"
   ]
  },
  {
   "cell_type": "code",
   "execution_count": 3,
   "id": "ae1258db-b61b-4c14-a3d7-db11c66ceb89",
   "metadata": {},
   "outputs": [
    {
     "name": "stdout",
     "output_type": "stream",
     "text": [
      "[0, 1, 4, 9, 16]\n"
     ]
    }
   ],
   "source": [
    "#тут решение\n",
    "n = 5\n",
    "s = [i ** 2 for i in range(n)]\n",
    "print(s)"
   ]
  },
  {
   "cell_type": "markdown",
   "id": "2987e607-a9f7-4f5b-b9cf-4e12cf8879f5",
   "metadata": {},
   "source": [
    "3. Cформировать список из чисел от 1 до 26 с помощью генератора массивов"
   ]
  },
  {
   "cell_type": "code",
   "execution_count": 6,
   "id": "ffe0727e-e057-4bcb-927a-ec75a2175def",
   "metadata": {},
   "outputs": [
    {
     "name": "stdout",
     "output_type": "stream",
     "text": [
      "[1, 2, 3, 4, 5, 6, 7, 8, 9, 10, 11, 12, 13, 14, 15, 16, 17, 18, 19, 20, 21, 22, 23, 24, 25, 26]\n"
     ]
    }
   ],
   "source": [
    "#тут решение\n",
    "s = [i for i in range(1, 27)]\n",
    "print(s)"
   ]
  },
  {
   "cell_type": "markdown",
   "id": "42279072-b92b-4222-bf35-5ed51ce8ffb7",
   "metadata": {},
   "source": [
    "3. Cформировать список из квадратов целых чисел от 0 до N, только если эти значения являются четными - с помощью list-comprehenshion"
   ]
  },
  {
   "cell_type": "code",
   "execution_count": 10,
   "id": "67191182-a5d3-429f-b0f9-d93152f80181",
   "metadata": {},
   "outputs": [
    {
     "name": "stdout",
     "output_type": "stream",
     "text": [
      "[0, 4, 16, 36, 64, 100]\n"
     ]
    }
   ],
   "source": [
    "#тут решение\n",
    "n = 10\n",
    "s = [i ** 2 for i in range(n + 1) if i % 2 == 0]\n",
    "print(s)"
   ]
  },
  {
   "cell_type": "markdown",
   "id": "20ec6862-954a-4db0-8d18-12dbeb87ea65",
   "metadata": {},
   "source": [
    "4. Программа должна считывать первую строку с целым числом X. А потом должна запросить у пользователя X раз ввести целое число. На выходе напечатать список , в котором будут только числа, значение которых больше среднего арифметического всех введённых чисел. (Считывание производить с помощью list comprehension)"
   ]
  },
  {
   "cell_type": "code",
   "execution_count": 88,
   "id": "0a927f76-d2c5-4952-ad22-b468e0f20379",
   "metadata": {},
   "outputs": [
    {
     "name": "stdin",
     "output_type": "stream",
     "text": [
      "Введите целое число X: 3\n",
      "Введите целое число:  12\n",
      "Введите целое число:  12\n",
      "Введите целое число:  5\n"
     ]
    },
    {
     "name": "stdout",
     "output_type": "stream",
     "text": [
      "[12, 12]\n"
     ]
    }
   ],
   "source": [
    "#тут решение\n",
    "x = int(input(\"Введите целое число X:\"))\n",
    "numbers = [int(input(\"Введите целое число: \")) for _ in range(x)]\n",
    "average = sum(numbers) / len(numbers)\n",
    "result = [num for num in numbers if num > average]\n",
    "print(result)"
   ]
  },
  {
   "cell_type": "markdown",
   "id": "e78a876a-f98e-48d2-837a-8cd77a59d117",
   "metadata": {},
   "source": [
    "5. На вход подаются два числа через пробел, обозначающие размеры матрицы (m - количество строк, n - количество столбцов). Создать матрицу m на n, заполненую нулями. Сделать красивый вывод матрицы."
   ]
  },
  {
   "cell_type": "code",
   "execution_count": 17,
   "id": "db92bb6f-20c2-4f5e-96a4-53066516633b",
   "metadata": {},
   "outputs": [
    {
     "name": "stdin",
     "output_type": "stream",
     "text": [
      "Введите количество строк и столбцов через пробел:  3 4\n"
     ]
    },
    {
     "name": "stdout",
     "output_type": "stream",
     "text": [
      "0 0 0 0\n",
      "0 0 0 0\n",
      "0 0 0 0\n"
     ]
    }
   ],
   "source": [
    "#Используется генератор списка для создания каждой строки матрицы: [0] * n создает список из n нулей,\n",
    "#и это повторяется m раз с помощью выражения for _ in range(m).\n",
    "m, n = map(int, input(\"Введите количество строк и столбцов через пробел: \").split())\n",
    "matrix = [[0] * n for _ in range(m)]\n",
    "for row in matrix:\n",
    "    print(*row)"
   ]
  },
  {
   "cell_type": "markdown",
   "id": "4e77b96e-44c7-4f7f-a342-a8fca9098a1c",
   "metadata": {},
   "source": [
    "6. На вход подаются два числа через пробел, обозначающие размеры матрицы (m - количество строк, n - количество столбцов). Создать матрицу m на n, заполненую координатами элементов матрицы. (те для первого элемента это будет (0,0) , для второго (0,1) и так далее) Сделать красивый вывод матрицы."
   ]
  },
  {
   "cell_type": "code",
   "execution_count": 33,
   "id": "13c5db98-6609-4878-9c92-716a09e2beb5",
   "metadata": {},
   "outputs": [
    {
     "name": "stdin",
     "output_type": "stream",
     "text": [
      "Введите количество строк и столбцов через пробел:  3 3\n"
     ]
    },
    {
     "name": "stdout",
     "output_type": "stream",
     "text": [
      "(0, 0) (0, 1) (0, 2)\n",
      "(1, 0) (1, 1) (1, 2)\n",
      "(2, 0) (2, 1) (2, 2)\n"
     ]
    }
   ],
   "source": [
    "#тут решение\n",
    "m, n = map(int, input(\"Введите количество строк и столбцов через пробел: \").split())\n",
    "matrix = [[(i, j) for j in range(n)] for i in range(m)]\n",
    "for row in matrix:\n",
    "    print(*row)"
   ]
  },
  {
   "cell_type": "markdown",
   "id": "488ff7b9-60b2-4da7-bc9f-11f5c2db5e6d",
   "metadata": {},
   "source": [
    "7. Используя list comprehension, выберите из списка строки и добавьте их в первый массив; int, float во второй; в переменной my_list оставьте элементы, которые не вошли в первые два."
   ]
  },
  {
   "cell_type": "code",
   "execution_count": 62,
   "id": "5c1fbfae-3775-4357-a25c-530c4aa1c269",
   "metadata": {},
   "outputs": [
    {
     "name": "stdout",
     "output_type": "stream",
     "text": [
      "['Hello', 'World', 'Python', 'OpenAI', 'Artificial', 'Intelligence', 'Machine', 'Learning', 'Data', 'Science', 'Computer', 'Programming']\n",
      "============================================================\n",
      "[42, 3.14, 2.71, 100, -3.0, -123, 0.007, 987654, 3.14159, -987, 0.123, 123456, 2.71828]\n",
      "============================================================\n",
      "[True, [1, 2, 3], {'key': 'value'}, None, False, [4, 5, 6], {'foo': 'bar'}, {'a': 1, 'b': 2}, True, [7, 8, 9], {'x': 10, 'y': 20}, False, [10, 20, 30], [11, 22, 33], {'alpha': 0, 'beta': 1}, True, [55, 66, 77]]\n"
     ]
    }
   ],
   "source": [
    "#решение тут\n",
    "my_list = [42, \"Hello\", 3.14, True, [1, 2, 3], {\"key\": \"value\"}, None, \"World\", 2.71, False, [4, 5, 6], {\"foo\": \"bar\"}, \"Python\", 100, -3.0, \"OpenAI\", {\"a\": 1, \"b\": 2}, True, [7, 8, 9], \"Artificial\", -123, 0.007, \"Intelligence\", {\"x\": 10, \"y\": 20}, False, [10, 20, 30], \"Machine\", 987654, 3.14159, \"Learning\", [11, 22, 33], \"Data\", -987, 0.123, \"Science\", {\"alpha\": 0, \"beta\": 1}, True, [55, 66, 77], \"Computer\", 123456, 2.71828, \"Programming\"]\n",
    "\n",
    "list_str = [i for i in my_list if type(i) is str]\n",
    "print(list_str)\n",
    "print(\"=\"*60)\n",
    "\n",
    "list_int_float = [i for i in my_list if type(i) in (int, float) ]\n",
    "print(list_int_float)\n",
    "print(\"=\"*60)\n",
    "\n",
    "my_list = [i for i in my_list if not type(i) in (int, float, str)]\n",
    "print(my_list)"
   ]
  },
  {
   "cell_type": "markdown",
   "id": "92e77527-80c3-4203-b762-6d28a7f7fc6a",
   "metadata": {},
   "source": [
    "8. Напишите в одну строку( один print) вывод списка из квадратов целых чисел от 0 до 20, каждое число должно быть в фигурных скобках, между числами должна быть двойная кавычка "
   ]
  },
  {
   "cell_type": "code",
   "execution_count": 77,
   "id": "4ab45e8b-12b6-4fa5-914d-6eec64f75b7a",
   "metadata": {},
   "outputs": [
    {
     "name": "stdout",
     "output_type": "stream",
     "text": [
      "{0}\"{1}\"{4}\"{9}\"{16}\"{25}\"{36}\"{49}\"{64}\"{81}\"{100}\"{121}\"{144}\"{169}\"{196}\"{225}\"{256}\"{289}\"{324}\"{361}\"{400}\n"
     ]
    }
   ],
   "source": [
    "#тут решение (используйте f-string + list comprehenshion)\n",
    "print(*[f\"{{{i ** 2}}}\" for i in range(21)], sep='\"')"
   ]
  }
 ],
 "metadata": {
  "kernelspec": {
   "display_name": "Python 3 (ipykernel)",
   "language": "python",
   "name": "python3"
  },
  "language_info": {
   "codemirror_mode": {
    "name": "ipython",
    "version": 3
   },
   "file_extension": ".py",
   "mimetype": "text/x-python",
   "name": "python",
   "nbconvert_exporter": "python",
   "pygments_lexer": "ipython3",
   "version": "3.10.10"
  }
 },
 "nbformat": 4,
 "nbformat_minor": 5
}
