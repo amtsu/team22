{
 "cells": [
  {
   "cell_type": "markdown",
   "id": "60d60ab7-f77e-4fb9-ac63-856dfc605f3b",
   "metadata": {},
   "source": [
    "<h1>Функции, циклы, условные операторы </h1>"
   ]
  },
  {
   "cell_type": "code",
   "execution_count": 72,
   "id": "27be4249-58a1-470b-9113-843386a9848b",
   "metadata": {},
   "outputs": [
    {
     "name": "stdout",
     "output_type": "stream",
     "text": [
      "1\n",
      "2\n",
      "3\n",
      "4\n",
      "5\n",
      "6\n",
      "7\n",
      "8\n",
      "9\n",
      "==============================\n",
      "1\n",
      "2\n",
      "3\n",
      "4\n",
      "5\n",
      "6\n",
      "7\n",
      "8\n",
      "9\n",
      "10\n",
      "11\n",
      "12\n",
      "==============================\n",
      "1\n",
      "2\n",
      "3\n",
      "4\n",
      "5\n",
      "6\n",
      "7\n",
      "8\n",
      "==============================\n",
      "1\n",
      "5\n",
      "9\n",
      "2\n",
      "6\n",
      "10\n",
      "==============================\n",
      "1\n",
      "2\n",
      "3\n",
      "==============================\n"
     ]
    }
   ],
   "source": [
    "'''\n",
    "Задание 1. Написать функцию для вывода двумерной матрицы по столбцам, \n",
    "не используя индексацию (с помощью [] или любым другим способом получения\n",
    "элемента по заданному индексу).\n",
    "Функция должна принимать на вход список и ничего не возвращать\n",
    "'''\n",
    "def print_matrix(matrix):\n",
    "    '''\n",
    "    это функция, печатающая двумерный список matrix по столбцам\n",
    "    '''\n",
    "    #тело функции следует написать вот тут\n",
    "    \n",
    "    for column in zip(*matrix):\n",
    "        for element in column:\n",
    "            print(element)\n",
    "                  \n",
    " #проверка        \n",
    "matrix1 = [[1,4,7,],[2,5,8,],[3,6,9,]]\n",
    "matrix2 = [[1,4,7,10],[2,5,8,11],[3,6,9,12]]\n",
    "matrix3 = [[1,3,5,7],[2,4,6,8],]\n",
    "matrix4 = [[1,2,],[5,6,],[9,10,]]\n",
    "matrix5 = [[1,2,3],]\n",
    "matrix6 = []\n",
    "\n",
    "print_matrix(matrix1)\n",
    "print(\"=\"*30)\n",
    "print_matrix(matrix2)\n",
    "print(\"=\"*30)\n",
    "print_matrix(matrix3)\n",
    "print(\"=\"*30)\n",
    "print_matrix(matrix4)\n",
    "print(\"=\"*30)\n",
    "print_matrix(matrix5)\n",
    "print(\"=\"*30)\n",
    "print_matrix(matrix6)\n"
   ]
  },
  {
   "cell_type": "code",
   "execution_count": 37,
   "id": "f90963ba-c3e6-406c-9ec5-d9b71d933ff1",
   "metadata": {},
   "outputs": [
    {
     "name": "stdout",
     "output_type": "stream",
     "text": [
      "Вызов функции 1\n",
      "Вызов функции 2\n",
      "Вызов функции 3\n",
      "Вызов функции 4\n",
      "Вызов функции 5\n",
      "Вызов функции 6\n",
      "Вызов функции 7\n",
      "Вызов функции 8\n",
      "Вызов функции 9\n",
      "Вызов функции 10\n"
     ]
    }
   ],
   "source": [
    "'''\n",
    "Задание 2. Напишите функцию, вызывающую саму себя 10 раз;\n",
    "функция должна вызываться как ten_times() и ничего не возвращать;\n",
    "'''\n",
    "def ten_times(counter=1):\n",
    "    if counter > 10:\n",
    "        return\n",
    "    print(\"Вызов функции\", counter)\n",
    "    ten_times(counter+1)\n",
    "   \n",
    "   \n",
    "   \n",
    "\n",
    "#проверка\n",
    "ten_times()"
   ]
  },
  {
   "cell_type": "code",
   "execution_count": 62,
   "id": "4e683129-8b50-4f81-ac48-f61fc905b0ff",
   "metadata": {},
   "outputs": [
    {
     "ename": "SyntaxError",
     "evalue": "incomplete input (1045728432.py, line 15)",
     "output_type": "error",
     "traceback": [
      "\u001b[0;36m  Cell \u001b[0;32mIn[62], line 15\u001b[0;36m\u001b[0m\n\u001b[0;31m    '''\u001b[0m\n\u001b[0m    ^\u001b[0m\n\u001b[0;31mSyntaxError\u001b[0m\u001b[0;31m:\u001b[0m incomplete input\n"
     ]
    }
   ],
   "source": [
    "'''\n",
    "Задание 3.\n",
    "'''\n",
    "# дан отрывок кода\n",
    "a_haiku = [\"Всё глазел на них\",\n",
    "\"Сакуры цветы, пока\",\n",
    "\"Шею не свело\"]\n",
    "\n",
    "def print_haiku(haiku):\n",
    "    for line in haiku:\n",
    "        print(line)\n",
    "\n",
    "print_haiku(a_haiku)\n",
    "\n",
    "'''\n",
    "Модифицируйте функцию print_haiku таким образом, чтобы можно было \n",
    "выполнять произвольное преобразование над выводом строк.\n",
    "Посторайтесь сильно не менять код print_haiku()\n",
    "Выведите с помощью модифицированной функции print_haiku все строки хайку :\n",
    " - заглавными буквами\n",
    " - только каждый третий символ строк\n",
    " - красным цветом (https://habr.com/ru/sandbox/158854/, первый раздел)\n",
    "\n",
    "\n"
   ]
  },
  {
   "cell_type": "code",
   "execution_count": 63,
   "id": "87488cf2-8199-4b4a-b976-cfe1701a4043",
   "metadata": {},
   "outputs": [
    {
     "name": "stdout",
     "output_type": "stream",
     "text": [
      "Всё глазел на них\n",
      "Сакуры цветы, пока\n",
      "Шею не свело\n"
     ]
    }
   ],
   "source": [
    "a_haiku = [\"Всё глазел на них\",\n",
    "\"Сакуры цветы, пока\",\n",
    "\"Шею не свело\"]\n",
    "def print_haiku(haiku):\n",
    "    for line in haiku:\n",
    "        print(line)\n",
    "\n",
    "print_haiku(a_haiku)"
   ]
  },
  {
   "cell_type": "code",
   "execution_count": 64,
   "id": "fa4183f8-1117-4950-92b0-77e42bb340f8",
   "metadata": {},
   "outputs": [
    {
     "name": "stdout",
     "output_type": "stream",
     "text": [
      "ВСЁ ГЛАЗЕЛ НА НИХ\n",
      "САКУРЫ ЦВЕТЫ, ПОКА\n",
      "ШЕЮ НЕ СВЕЛО\n"
     ]
    }
   ],
   "source": [
    "def print_haiku(haiku):\n",
    "   for line in a_haiku:\n",
    "        print(line .upper())\n",
    "     \n",
    "print_haiku(a_haiku)"
   ]
  },
  {
   "cell_type": "code",
   "execution_count": 65,
   "id": "9894fddd-0501-4292-b156-1cdaeb807dfe",
   "metadata": {},
   "outputs": [
    {
     "name": "stdout",
     "output_type": "stream",
     "text": [
      "В алаи\n",
      "Су е,о\n",
      "Ш  е\n"
     ]
    }
   ],
   "source": [
    "def print_haiku(haiku):\n",
    "    for line in a_haiku:\n",
    "        print(line[::3])\n",
    "       \n",
    "print_haiku(a_haiku)       "
   ]
  },
  {
   "cell_type": "code",
   "execution_count": 66,
   "id": "1b6350b7-c886-4b0e-8a3e-52cdc0e40730",
   "metadata": {},
   "outputs": [
    {
     "name": "stdout",
     "output_type": "stream",
     "text": [
      "\u001b[91mВсё глазел на них\n",
      "\u001b[91mСакуры цветы, пока\n",
      "\u001b[91mШею не свело\n"
     ]
    }
   ],
   "source": [
    "def print_haiku(haiku):\n",
    "    for line in haiku:\n",
    "        print(\"\\033[91m{}\".format(line))\n",
    "print_haiku(a_haiku)"
   ]
  },
  {
   "cell_type": "code",
   "execution_count": 67,
   "id": "5daecf71-dde2-432d-872a-3be71db6aff5",
   "metadata": {},
   "outputs": [
    {
     "name": "stdout",
     "output_type": "stream",
     "text": [
      "Всё \u001b[1mглазел\u001b[0m на них\n",
      "Сакуры \u001b[1mцветы,\u001b[0m пока\n",
      "Шею \u001b[1mне\u001b[0m свело\n"
     ]
    }
   ],
   "source": [
    "for line in a_haiku:\n",
    "    words = line.split()\n",
    "    formatted_line = words[0] + \" \\033[1m\" + words[1] + \"\\033[0m\"\n",
    "    if len(words) > 2:\n",
    "        formatted_line += \" \" + \" \".join(words[2:])\n",
    "    print(formatted_line)"
   ]
  },
  {
   "cell_type": "code",
   "execution_count": 68,
   "id": "25e48a2b-1f9e-4b5a-af49-09a7e31854e4",
   "metadata": {},
   "outputs": [
    {
     "name": "stdout",
     "output_type": "stream",
     "text": [
      "\u001b[94mвсё глазел на них\n",
      "\u001b[94mсакуры цветы, пока\n",
      "\u001b[94mшею не свело\n"
     ]
    }
   ],
   "source": [
    "for line in a_haiku:\n",
    "    lower_line = line .lower()\n",
    "    print(\"\\033[94m{}\".format(lower_line))"
   ]
  },
  {
   "cell_type": "code",
   "execution_count": 69,
   "id": "9264667f-e687-430d-b709-5436e9cf36d3",
   "metadata": {},
   "outputs": [],
   "source": [
    "# разным цветом не смогла сделать без импорта это воощевозможно?"
   ]
  },
  {
   "cell_type": "markdown",
   "id": "a3549eb5-2e01-4a2f-9a5c-88f6d50170c5",
   "metadata": {},
   "source": [
    "'''\n",
    "Задание 4. Напишите простой пользовательский интерфейс к заданию 3.\n",
    "Пользователю должно выдаваться сообщение о возможностях вывода (меню), и приглашение на ввод\n",
    "идентификатора действия или символа `q` для выхода, например:\n",
    "\n",
    "Возможные действия:\n",
    "1 - вывод хайку заглавными буквами\n",
    "2 - вывод только третьих символов каждой строки хайку\n",
    "3 - вывод хайку красным цветом\n",
    "Введите номер действия или q для выхода: \n",
    "\n",
    "После ввода идентификатора действия, необходимо выполнить соответствующее действие \n",
    "и снова вывести меню с запросом на ввод. в случае некорректного идентификатора действия \n",
    "вывести соответствующее сообщение и снова вывести меню. После ввода q завершить работу с\n",
    "простым пользовательским интрефейсом\n",
    "\n",
    "'''"
   ]
  },
  {
   "cell_type": "code",
   "execution_count": 70,
   "id": "ef3b1279-3c20-48eb-afd3-3a0aaa331ceb",
   "metadata": {},
   "outputs": [
    {
     "name": "stdin",
     "output_type": "stream",
     "text": [
      "Возможные действия:\n",
      "1 - вывод хайку заглавными буквами\n",
      "2 - вывод только третьих символов каждой строки хайку\n",
      "3 - вывод хайку красным цветом\n",
      "Введите номер действия или q для выхода: 3\n"
     ]
    },
    {
     "name": "stdout",
     "output_type": "stream",
     "text": [
      "3\n",
      "\u001b[91mВсё глазел на них\n",
      "\u001b[91mСакуры цветы, пока\n",
      "\u001b[91mШею не свело\n"
     ]
    }
   ],
   "source": [
    "ansver = input(\"\"\"Возможные действия:\n",
    "1 - вывод хайку заглавными буквами\n",
    "2 - вывод только третьих символов каждой строки хайку\n",
    "3 - вывод хайку красным цветом\n",
    "Введите номер действия или q для выхода:\"\"\")    \n",
    "print(ansver)\n",
    "\n",
    "def print_haiku(haiku):\n",
    "    \n",
    "    if ansver == '1':\n",
    "        for line in a_haiku:\n",
    "            print(line .upper())\n",
    "        \n",
    "        \n",
    "    elif ansver == '2':\n",
    "        for line in a_haiku:\n",
    "            print(line[::3])\n",
    "        \n",
    "        \n",
    "    elif ansver == '3':\n",
    "        for line in a_haiku:\n",
    "            print(\"\\033[91m{}\".format(line))\n",
    "        \n",
    "        \n",
    "    elif ansver == 'q':\n",
    "        print(\"Досвидание\")\n",
    "    \n",
    "    \n",
    "    else:\n",
    "        print(\"Вы ввели некорректоное значение\")\n",
    "        \n",
    "print_haiku(a_haiku)        "
   ]
  },
  {
   "cell_type": "markdown",
   "id": "186eeaf5-8a03-43d7-b4e8-98f6a470d052",
   "metadata": {},
   "source": [
    "'''\n",
    "Задание 5.\n",
    "Дополните функционал задания 3 одним из следующих способов вывода хайку:\n",
    "- каждое слово в строке различным цветом,\n",
    "- в каждой строке второе слово жирным шрифтом,\n",
    "- маленькими буквами синим цветом,\n",
    "при этом текст функции print_haiku() меняться не должен. Если такая доработка потребует\n",
    "его изменения, пересмотрите дизайн функции print_haiku(), чтобы расширение функионала вывода\n",
    "не требовало изменения print_haiku()\n",
    "Добавьте в интерфейс, созданный в задании 4 созданный новый способ вывода. Оцените объем и \n",
    "удобство модификации, при необходимости пересмотрите дизайн кода интерфейса для упрощения его \n",
    "изменекния.\n",
    "\n",
    "'''"
   ]
  },
  {
   "cell_type": "code",
   "execution_count": 71,
   "id": "f8647a3d-5736-4e91-9144-b8204016c5fe",
   "metadata": {},
   "outputs": [
    {
     "name": "stdout",
     "output_type": "stream",
     "text": [
      "Введите ваше имя:\n"
     ]
    },
    {
     "name": "stdin",
     "output_type": "stream",
     "text": [
      " Регина\n"
     ]
    },
    {
     "name": "stdout",
     "output_type": "stream",
     "text": [
      "Здравствуйте, Регина!\n"
     ]
    },
    {
     "name": "stdin",
     "output_type": "stream",
     "text": [
      "Возможные действия:\n",
      "1 - вывод хайку заглавными буквами\n",
      "2 - вывод только третьих символов каждой строки хайку\n",
      "3 - вывод хайку красным цветом\n",
      "4 - в каждой строке второе слово жирным шрифтом\n",
      "5 - маленькими буквами синим цветом\n",
      "Введите номер действия или q для выхода: 5\n"
     ]
    },
    {
     "name": "stdout",
     "output_type": "stream",
     "text": [
      "5\n",
      "\u001b[94mвсё глазел на них\n",
      "\u001b[94mсакуры цветы, пока\n",
      "\u001b[94mшею не свело\n"
     ]
    }
   ],
   "source": [
    "print(\"Введите ваше имя:\")\n",
    "name = input()\n",
    "print(\"Здравствуйте,\", name + \"!\")\n",
    "ansver = input(\"\"\"Возможные действия:\n",
    "1 - вывод хайку заглавными буквами\n",
    "2 - вывод только третьих символов каждой строки хайку\n",
    "3 - вывод хайку красным цветом\n",
    "4 - в каждой строке второе слово жирным шрифтом\n",
    "5 - маленькими буквами синим цветом\n",
    "Введите номер действия или q для выхода:\"\"\")    \n",
    "print(ansver)\n",
    "\n",
    "def print_haiku(haiku):\n",
    "    \n",
    "    if ansver == '1':\n",
    "        for line in a_haiku:\n",
    "            print(line .upper())\n",
    "        \n",
    "    elif ansver == '2':\n",
    "        for line in a_haiku:\n",
    "            print(line[::3])\n",
    "        \n",
    "    elif ansver == '3':\n",
    "        for line in a_haiku:\n",
    "            print(\"\\033[91m{}\".format(line))\n",
    "\n",
    "    elif ansver == '4':\n",
    "        for line in a_haiku:\n",
    "            words = line.split()\n",
    "            formatted_line = words[0] + \" \\033[1m\" + words[1] + \"\\033[0m\"\n",
    "            if len(words) > 2:\n",
    "                formatted_line += \" \" + \" \".join(words[2:])\n",
    "            print(formatted_line)\n",
    "            \n",
    "    elif ansver == '5':\n",
    "        for line in a_haiku:\n",
    "            print(\"\\033[94m{}\".format(line .lower()))\n",
    "            \n",
    "    elif ansver == 'q':\n",
    "        print(\"Досвидание\")\n",
    "    \n",
    "    else:\n",
    "        print(\"Вы ввели некорректоное значение\")\n",
    "        \n",
    "print_haiku(a_haiku)        "
   ]
  },
  {
   "cell_type": "code",
   "execution_count": 9,
   "id": "505520b1-5a5c-41da-93af-a8d1102c716a",
   "metadata": {},
   "outputs": [
    {
     "name": "stdin",
     "output_type": "stream",
     "text": [
      "Введите ваш стих для преобразования, где каждая строка разделена через \";\"\n",
      "Или нажмите \"Enter\" для входа в следующее меню Ночь, улица, фонарь, аптека,;Бессмысленный и тусклый свет.;Живи еще хоть четверть века —; Всё будет так. Исхода нет.\n"
     ]
    },
    {
     "name": "stdout",
     "output_type": "stream",
     "text": [
      "['Ночь, улица, фонарь, аптека,', 'Бессмысленный и тусклый свет.', 'Живи еще хоть четверть века —', ' Всё будет так. Исхода нет.']\n"
     ]
    },
    {
     "name": "stdin",
     "output_type": "stream",
     "text": [
      "Возможные действия:\n",
      "    1 - вывод хайку заглавными буквами\n",
      "    2 - вывод только третьих символов каждой строки хайку\n",
      "    3 - вывод хайку красным цветом\n",
      "    4 - в каждой строке второе слово жирным шрифтом\n",
      "    5 - маленькими буквами синим цветом\n",
      "    Введите номер действия или q для выхода: 4\n"
     ]
    },
    {
     "name": "stdout",
     "output_type": "stream",
     "text": [
      "4\n",
      "Ночь, \u001b[1mулица,\u001b[0m фонарь, аптека,\n",
      "Бессмысленный \u001b[1mи\u001b[0m тусклый свет.\n",
      "Живи \u001b[1mеще\u001b[0m хоть четверть века —\n",
      "Всё \u001b[1mбудет\u001b[0m так. Исхода нет.\n"
     ]
    }
   ],
   "source": [
    "def user_input():\n",
    "    user_haiku = input('''Введите ваш стих для преобразования, где каждая строка разделена через \";\"\n",
    "Или нажмите \"Enter\" для входа в следующее меню''' ).split(';')\n",
    "    if user_haiku[0] == \"\":\n",
    "        user_haiku = a_haiku\n",
    "    \n",
    "    print(user_haiku)\n",
    "    ansver = input(\"\"\"Возможные действия:\n",
    "    1 - вывод хайку заглавными буквами\n",
    "    2 - вывод только третьих символов каждой строки хайку\n",
    "    3 - вывод хайку красным цветом\n",
    "    4 - в каждой строке второе слово жирным шрифтом\n",
    "    5 - маленькими буквами синим цветом\n",
    "    Введите номер действия или q для выхода:\"\"\")    \n",
    "    print(ansver)\n",
    "\n",
    "    if ansver == '1':\n",
    "        for line in user_haiku:\n",
    "            print(line .upper())\n",
    "        \n",
    "    elif ansver == '2':\n",
    "        for line in user_haiku:\n",
    "            print(line[::3])\n",
    "        \n",
    "    elif ansver == '3':\n",
    "        for line in user_haiku:\n",
    "            print(\"\\033[91m{}\".format(line))\n",
    "\n",
    "    elif ansver == '4':\n",
    "        for line in user_haiku:\n",
    "            words = line.split()\n",
    "            formatted_line = words[0]      #в случае ввода пользователем текста без пробелов\n",
    "            if len(words) > 1:             #в случае ввода с пробелами\n",
    "                formatted_line = words[0] + \" \\033[1m\" + words[1] + \"\\033[0m\"\n",
    "            if len(words) > 2:\n",
    "                formatted_line += \" \" + \" \".join(words[2:])\n",
    "            \n",
    "            print(formatted_line)\n",
    "            \n",
    "    elif ansver == '5':\n",
    "        for line in user_haiku:\n",
    "            print(\"\\033[94m{}\".format(line .lower()))\n",
    "            \n",
    "    elif ansver == 'q':\n",
    "        print(\"Досвидание\")\n",
    "    \n",
    "    else:\n",
    "        print(\"Вы ввели некорректоное значение\")\n",
    "        \n",
    "user_input()"
   ]
  },
  {
   "cell_type": "code",
   "execution_count": null,
   "id": "f0288ade-c86f-41e0-8fea-e43a1abce827",
   "metadata": {},
   "outputs": [],
   "source": []
  }
 ],
 "metadata": {
  "kernelspec": {
   "display_name": "Python 3 (ipykernel)",
   "language": "python",
   "name": "python3"
  },
  "language_info": {
   "codemirror_mode": {
    "name": "ipython",
    "version": 3
   },
   "file_extension": ".py",
   "mimetype": "text/x-python",
   "name": "python",
   "nbconvert_exporter": "python",
   "pygments_lexer": "ipython3",
   "version": "3.10.10"
  }
 },
 "nbformat": 4,
 "nbformat_minor": 5
}
