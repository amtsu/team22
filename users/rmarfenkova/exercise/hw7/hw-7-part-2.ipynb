{
 "cells": [
  {
   "cell_type": "markdown",
   "id": "8b297e4b-5c57-4031-8477-6852f9969a5a",
   "metadata": {},
   "source": [
    "# Упражнения  1"
   ]
  },
  {
   "cell_type": "markdown",
   "id": "6d1f2730-c3fe-48c4-8146-52ea02dee954",
   "metadata": {},
   "source": [
    "#1. Любимые вещи \n",
    "\n",
    "Создайте список своих любимых развлечений и сохраните его в переменной games. Теперь создайте список любимых лакомств, сохранив его в переменной foods. Объедините два этих списка, сохранив результат в переменной favorites, и напечатайте значение этой переменной. "
   ]
  },
  {
   "cell_type": "code",
   "execution_count": 3,
   "id": "61417a57-ed29-4ba5-b9c6-c60579d7a014",
   "metadata": {},
   "outputs": [
    {
     "name": "stdout",
     "output_type": "stream",
     "text": [
      "['books', 'music', 'swimming', 'bike', 'watermelon', 'melon', 'pear', 'orange']\n"
     ]
    }
   ],
   "source": [
    "games = [\"books\", \"music\", \"swimming\", \"bike\"]\n",
    "foods = [\"watermelon\", \"melon\", \"pear\", \"orange\"]\n",
    "favorites = games + foods\n",
    "print(favorites)"
   ]
  },
  {
   "cell_type": "markdown",
   "id": "f55e90dd-f196-4444-9ade-271f2a3035e3",
   "metadata": {},
   "source": [
    "#2. Подсчет воинов \n",
    "\n",
    "Есть 3 дома, на крыше каждого из которых прячутся по 25 ниндзя, и есть 2 туннеля, в каждом из которых скрывается по 40 самураев. Сколько всего воинов решили устроить заварушку? (Ответ можно найти, введя в оболочке Python арифметическое выражение.) "
   ]
  },
  {
   "cell_type": "code",
   "execution_count": 9,
   "id": "218f68db-e6cc-47ab-b7cc-db7199c294ad",
   "metadata": {},
   "outputs": [
    {
     "name": "stdout",
     "output_type": "stream",
     "text": [
      "155 warroirs\n"
     ]
    }
   ],
   "source": [
    "house = 3\n",
    "ninja = 25\n",
    "tunnel = 2\n",
    "samurai = 40\n",
    "warriors = (house * ninja) + (tunnel * samurai)  \n",
    "print(\"%d warroirs\" % (warriors))    "
   ]
  },
  {
   "cell_type": "markdown",
   "id": "c0aed4b8-cfae-4122-a1a4-2ac301e230f3",
   "metadata": {},
   "source": [
    "#3. Приветствие \n",
    "\n",
    "Создайте две переменные: пусть одна хранит ваше имя, а другая фамилию. Теперь с помощью строки с метками %s напечатайте приветствие вроде такого: «Привет, Брандо Икетт!». "
   ]
  },
  {
   "cell_type": "code",
   "execution_count": 8,
   "id": "aefab51a-8002-4138-8a9c-b5dca1841934",
   "metadata": {},
   "outputs": [
    {
     "name": "stdout",
     "output_type": "stream",
     "text": [
      "Привет, Ann Scott!\n"
     ]
    }
   ],
   "source": [
    "name = \"Ann\"\n",
    "surname = \"Scott\"\n",
    "print(\"Привет, %s %s!\" % (name, surname))  #надо разобрать"
   ]
  },
  {
   "cell_type": "markdown",
   "id": "a8184374-86ca-44d2-bd6d-7b8e977e1414",
   "metadata": {},
   "source": [
    "# Упражнения  2"
   ]
  },
  {
   "cell_type": "markdown",
   "id": "aff0b705-69b3-46a7-a507-84ef59251ed9",
   "metadata": {},
   "source": [
    "Решите эти задачи, используя конструкции if и условия. "
   ]
  },
  {
   "cell_type": "markdown",
   "id": "89d1f11b-2cc5-4c43-abfc-acd93c96af98",
   "metadata": {},
   "source": [
    "#1. Вы богаты? \n",
    "\n",
    "Как думаете, что делает этот код? Сначала попробуйте в этом разобраться, не вводя код в оболочку Python, а затем проверьте свой ответ. \n",
    "\n",
    "money = 2000\n",
    "if money > 1000:\n",
    "     print(\"Я богат!\")\n",
    "else: \n",
    "     print(\"Я не богат!\")\n",
    "     print(\"Может, когда-нибудь потом...\")"
   ]
  },
  {
   "cell_type": "code",
   "execution_count": 8,
   "id": "aaf3bdad-4c20-40a0-a2e4-0b3b8d8bd456",
   "metadata": {},
   "outputs": [
    {
     "name": "stdout",
     "output_type": "stream",
     "text": [
      "Я богат!\n"
     ]
    }
   ],
   "source": [
    "money = 2000\n",
    "if money > 1000:\n",
    "    print(\"Я богат!\")\n",
    "else:\n",
    "    print(\"Я не богат!\")\n",
    "    print(\"Может, когда-нибудь потом...\")   "
   ]
  },
  {
   "cell_type": "markdown",
   "id": "1183331f-c46e-4893-bf55-2bdb670e255e",
   "metadata": {},
   "source": [
    "#2. Бисквитики! \n",
    "\n",
    "Создайте конструкцию if, которая проверяет, действительно ли количество бисквитов (которое задано в переменной twinkies) меньше 100 или больше 500. Если это условие выполняется, пусть ваша программа напечатает сообщение «Слишком мало или слишком много». "
   ]
  },
  {
   "cell_type": "code",
   "execution_count": 9,
   "id": "4498c2de-b175-4c05-a34b-15535f86f750",
   "metadata": {},
   "outputs": [
    {
     "name": "stdout",
     "output_type": "stream",
     "text": [
      "Cлишком много\n"
     ]
    }
   ],
   "source": [
    "twinkies = 600\n",
    "if twinkies < 100:\n",
    "    print(\"Слишком мало\")\n",
    "elif twinkies > 500:\n",
    "    print(\"Cлишком много\")\n"
   ]
  },
  {
   "cell_type": "markdown",
   "id": "fb539c2b-233a-4742-9b90-62d49976c1fc",
   "metadata": {},
   "source": [
    "#3. Подходящая сумма \n",
    "\n",
    "Создайте конструкцию if, которая проверяет, соответствует ли заданная в переменной money сумма денег диапазону значений от 100 до 500 или диапазону значений от 1000 до 5000. \n"
   ]
  },
  {
   "cell_type": "code",
   "execution_count": 3,
   "id": "c0893a7a-6466-434b-801a-58ffeaab315b",
   "metadata": {},
   "outputs": [
    {
     "name": "stdout",
     "output_type": "stream",
     "text": [
      "Не соответсвует\n"
     ]
    }
   ],
   "source": [
    "money = 700\n",
    "if 100 < money < 500 or 1000 < money > 5000:\n",
    "    print(\"Соответствует\")\n",
    "else:\n",
    "    print(\"Не соответсвует\")   "
   ]
  },
  {
   "cell_type": "markdown",
   "id": "b45acc03-9cac-488e-9e0a-7a1016d6ac44",
   "metadata": {},
   "source": [
    "#4. Я одолею этих ниндзя! \n",
    "\n",
    "Создайте конструкцию if, которая печатает строку «Их слишком много», если количество ниндзя (заданное в переменной ninjas) меньше 50, печатает «Будет непросто, но я с ними разделаюсь», если это количество меньше 30, и печатает «Я одолею этих ниндзя!», если количество меньше 10. Проверьте, как ваш код работает с таким значением: \n",
    "\n",
    "ninjas = 5 \n"
   ]
  },
  {
   "cell_type": "code",
   "execution_count": 10,
   "id": "b010dd6d-9985-45da-9982-36f76d9bf412",
   "metadata": {},
   "outputs": [
    {
     "name": "stdout",
     "output_type": "stream",
     "text": [
      "Их слишком много\n",
      "Будет непросто, но я с ними разделаюсь\n"
     ]
    }
   ],
   "source": [
    "ninjas = 10\n",
    "if ninjas < 50:\n",
    "    print(\"Их слишком много\")\n",
    "if ninjas < 30:\n",
    "    print(\"Будет непросто, но я с ними разделаюсь\")\n",
    "if ninjas < 10:\n",
    "    print(\"Я одолею этих ниндзя!\")  \n"
   ]
  },
  {
   "cell_type": "code",
   "execution_count": 11,
   "id": "6e8384b5-f9d0-4f51-be2a-2b8d0349ea0f",
   "metadata": {},
   "outputs": [
    {
     "name": "stdout",
     "output_type": "stream",
     "text": [
      "Их слишком много\n",
      "Будет непросто, но я с ними разделаюсь\n",
      "Я одолею этих ниндзя!\n"
     ]
    }
   ],
   "source": [
    "ninjas = 5\n",
    "if ninjas < 50:\n",
    "    print(\"Их слишком много\")\n",
    "if ninjas < 30:\n",
    "    print(\"Будет непросто, но я с ними разделаюсь\")\n",
    "if ninjas < 10:\n",
    "    print(\"Я одолею этих ниндзя!\")  #если первое условие True, программа не выполняет следующее условие\n"
   ]
  },
  {
   "cell_type": "markdown",
   "id": "a8ce929f-9301-4ef5-ba8b-995cdca327be",
   "metadata": {},
   "source": [
    "# Упражнения  3"
   ]
  },
  {
   "cell_type": "markdown",
   "id": "a329ee3c-f1ba-474e-8522-9c22cba41c39",
   "metadata": {},
   "source": [
    "#1. Цикл с приветом \n",
    "\n",
    "Как вы считаете, что делает эта программа? Сперва придумайте вариант ответа, а потом запустите код и проверьте, угадали ли вы. \n",
    "\n",
    "for x in range(0, 20):\n",
    "    print('привет %s' % x)\n",
    "    if x < 9:\n",
    "        break "
   ]
  },
  {
   "cell_type": "code",
   "execution_count": 17,
   "id": "df9bf689-08a4-4fde-92b7-4466235abf63",
   "metadata": {},
   "outputs": [
    {
     "name": "stdout",
     "output_type": "stream",
     "text": [
      "привет 0\n"
     ]
    }
   ],
   "source": [
    "for x in range(0, 20):\n",
    "    print('привет %s' % x)\n",
    "    if x < 9: \n",
    "        break    "
   ]
  },
  {
   "cell_type": "markdown",
   "id": "aa377f2e-0bdd-4cc9-b37b-6e4afbc8403f",
   "metadata": {},
   "source": [
    "#2. Четные числа \n",
    "\n",
    "Создайте цикл, который печатает четные числа до тех пор, пока не выведет ваш возраст. Если ваш возраст — нечетное число, создайте цикл, который печатает нечетные числа до совпадения с возрастом. Программа должна выводить на экран нечто подобное: \n",
    "\n",
    "2 4 6 8 10 12 14 "
   ]
  },
  {
   "cell_type": "code",
   "execution_count": 36,
   "id": "4d86d9fb-4a7a-4ca6-ac10-544a6db9bf90",
   "metadata": {},
   "outputs": [
    {
     "name": "stdout",
     "output_type": "stream",
     "text": [
      "1\n",
      "3\n",
      "5\n",
      "7\n",
      "9\n",
      "11\n",
      "13\n",
      "15\n",
      "17\n",
      "19\n",
      "21\n",
      "23\n",
      "25\n",
      "27\n",
      "29\n",
      "31\n",
      "33\n",
      "35\n"
     ]
    }
   ],
   "source": [
    "age = 1\n",
    "while age <= 35:\n",
    "    if age % 2 != 0:\n",
    "        print(age)\n",
    "    age += 1\n",
    "    "
   ]
  },
  {
   "cell_type": "markdown",
   "id": "cd4c3457-59d6-40e0-a108-563c4c77a537",
   "metadata": {},
   "source": [
    "#3. Пять любимых ингредиентов \n",
    "\n",
    "Создайте список с пятью разными ингредиентами для бутерброда, наподобие: \n",
    "\n",
    "ingredients = ['слизни', 'пиявки', 'катышки изпупка гориллы', 'брови гусеницы', 'пальцы многоножки'] \n",
    "\n",
    "Теперь создайте цикл, который печатает список ингредиентов с нумерацией: \n",
    "\n",
    "1 слизни\n",
    "2 пиявки\n",
    "3 катышки изпупка гориллы \n",
    "4 брови гусеницы\n",
    "5 пальцы многоножки"
   ]
  },
  {
   "cell_type": "code",
   "execution_count": null,
   "id": "9f195d58-5844-4b14-a64c-6e3a7eaa6270",
   "metadata": {},
   "outputs": [],
   "source": [
    "# ну и фантазия у вас, Сергей)"
   ]
  },
  {
   "cell_type": "code",
   "execution_count": 18,
   "id": "92508430-87c1-401d-b6e9-1714bbf6fb48",
   "metadata": {},
   "outputs": [],
   "source": [
    "ingredients = ['stone', 'grass', 'clay', 'sand', 'rust']"
   ]
  },
  {
   "cell_type": "code",
   "execution_count": 22,
   "id": "3b28d388-4e00-4e76-8526-b6abaca00d02",
   "metadata": {},
   "outputs": [
    {
     "name": "stdout",
     "output_type": "stream",
     "text": [
      "1 stone\n",
      "2 grass\n",
      "3 clay\n",
      "4 sand\n",
      "5 rust\n"
     ]
    }
   ],
   "source": [
    "ingredients = ['stone', 'grass', 'clay', 'sand', 'rust']\n",
    "\n",
    "for index, ingredient in enumerate(ingredients, start=1):   \n",
    "    print(\"%d %s\" % (index, ingredient))\n",
    "    \n",
    "#В цикле `for` переменная `index` хранит текущий индекс элемента\n",
    "#в списке `ingredients`,а переменная `ingredient` хранит сам элемент списка.    "
   ]
  },
  {
   "cell_type": "markdown",
   "id": "d7125cd4-c7b2-4660-9663-9c0bcfb50035",
   "metadata": {},
   "source": [
    "#4. Ваш лунный вес \n",
    "\n",
    "Если бы вы сейчас были на Луне, ваш вес составил бы 16,5 процентов от земного. Чтобы узнать, сколько это, умножьте свой земной вес на 0,165. \n",
    "\n",
    "Если бы каждый год в течение следующих 15 лет вы прибавляли по одному килограмму веса, каким бы оказался ваш лунный вес в каждый из ежегодных визитов на Луну вплоть до 15-го года? Напишите программу, которая с помощью цикла for печатает на экране ваш лунный \n",
    "\n",
    "вес в каждом году. "
   ]
  },
  {
   "cell_type": "code",
   "execution_count": 37,
   "id": "55e9ba74-3a9c-4d9e-8421-155bdce8a34f",
   "metadata": {},
   "outputs": [
    {
     "name": "stdout",
     "output_type": "stream",
     "text": [
      "16.5\n",
      "16.665\n",
      "16.830000000000002\n",
      "16.995\n",
      "17.16\n",
      "17.325\n",
      "17.490000000000002\n",
      "17.655\n",
      "17.82\n",
      "17.985\n",
      "18.150000000000002\n",
      "18.315\n",
      "18.48\n",
      "18.645\n",
      "18.810000000000002\n"
     ]
    }
   ],
   "source": [
    "weight = 100\n",
    "for year in range(1, 16):\n",
    "    print(weight * 0.165)\n",
    "    weight += 1\n",
    "    "
   ]
  },
  {
   "cell_type": "markdown",
   "id": "1c91e73f-5a93-41ed-8c5e-9e9f488d04cb",
   "metadata": {},
   "source": [
    "# Упражнения  4"
   ]
  },
  {
   "cell_type": "markdown",
   "id": "a0fa4a4d-2624-4715-b015-c4a02b2ee4f5",
   "metadata": {},
   "source": [
    "Вот несколько упражнений по созданию ваших собственных функций. "
   ]
  },
  {
   "cell_type": "markdown",
   "id": "5cf4b869-1746-42c4-9aef-b49d7e3896ee",
   "metadata": {},
   "source": [
    "#1. Функция лунного веса \n",
    "\n",
    "Одним из предыдущих заданий было создание цикла for для расчета вашего веса на Луне в течение 15 лет. Этот цикл можно оформить в виде функции. Создайте функцию, которая принимает начальный вес и величину, на которую вес увеличивается каждый год. Вызывать эту новую функцию нужно будет примерно так: \n",
    "\n",
    "    moon_weight(30, 0.25)"
   ]
  },
  {
   "cell_type": "code",
   "execution_count": 5,
   "id": "eeab76e5-3e13-4bfb-a338-b781a6b498f6",
   "metadata": {},
   "outputs": [
    {
     "name": "stdout",
     "output_type": "stream",
     "text": [
      "16.5825\n",
      "16.665\n",
      "16.747500000000002\n",
      "16.830000000000002\n",
      "16.9125\n",
      "16.995\n",
      "17.0775\n",
      "17.16\n",
      "17.2425\n",
      "17.325\n",
      "17.407500000000002\n",
      "17.490000000000002\n",
      "17.5725\n",
      "17.655\n",
      "17.7375\n"
     ]
    }
   ],
   "source": [
    "def moon_weight(weight, increase_per_year):\n",
    "    for year in range(1, 16):\n",
    "        weight += increase_per_year\n",
    "        print(weight * 0.165)\n",
    "\n",
    "moon_weight(100, 0.50)    \n"
   ]
  },
  {
   "cell_type": "markdown",
   "id": "0eb1d6b8-e319-4fa2-b6a5-30d6faee9513",
   "metadata": {},
   "source": [
    "#2. Функция лунного веса и количество лет \n",
    "\n",
    "Измените функцию из предыдущего задания так, чтобы с ее помощью можно было рассчитывать вес для разного количества лет, например 5 или 20 лет. Пусть эта функция принимает три аргумента: начальный вес, прибавку веса в год и количество лет: \n",
    "\n",
    "      moon_weight(90, 0.25, 5)"
   ]
  },
  {
   "cell_type": "code",
   "execution_count": 6,
   "id": "2bff448c-e3a7-4807-aac4-c853d76b24ab",
   "metadata": {},
   "outputs": [
    {
     "name": "stdout",
     "output_type": "stream",
     "text": [
      "16.5825\n",
      "16.665\n",
      "16.747500000000002\n",
      "16.830000000000002\n",
      "16.9125\n"
     ]
    }
   ],
   "source": [
    "def moon_weight(weight, increase_per_year, year):\n",
    "    for year in range(1, year + 1):\n",
    "        weight += increase_per_year\n",
    "        print(weight * 0.165)\n",
    "        \n",
    "moon_weight(100, 0.5, 5)        "
   ]
  },
  {
   "cell_type": "code",
   "execution_count": null,
   "id": "466c8777-ce57-4725-a829-30b4366210e3",
   "metadata": {},
   "outputs": [],
   "source": []
  }
 ],
 "metadata": {
  "kernelspec": {
   "display_name": "Python 3 (ipykernel)",
   "language": "python",
   "name": "python3"
  },
  "language_info": {
   "codemirror_mode": {
    "name": "ipython",
    "version": 3
   },
   "file_extension": ".py",
   "mimetype": "text/x-python",
   "name": "python",
   "nbconvert_exporter": "python",
   "pygments_lexer": "ipython3",
   "version": "3.10.10"
  }
 },
 "nbformat": 4,
 "nbformat_minor": 5
}
