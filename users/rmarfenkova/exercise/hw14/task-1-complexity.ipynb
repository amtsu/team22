{
 "cells": [
  {
   "cell_type": "markdown",
   "id": "ac94897bc01b610f",
   "metadata": {},
   "source": [
    "### Сложность алгоритмов\n",
    "\n",
    "    Определите асимптотическую сложность данной программы O(...).\n",
    "    Предложите способы уменьшения асимптотической сложности, если возможно.\n",
    "    Сложность методов встроенных структур данных python, поищите в интернете."
   ]
  },
  {
   "cell_type": "code",
   "execution_count": null,
   "id": "ed417262caef05ea",
   "metadata": {},
   "outputs": [],
   "source": [
    "# 1 Сосчитать количество уникальных элементов в списке\n",
    "\n",
    "def count_unique(values):\n",
    "    unique = set()  # O(1)\n",
    "    for value in values:  # O(n)\n",
    "        unique.add(value)  # O(1)\n",
    "    return len(unique)  # O(1)\n",
    "    \n",
    "# получаем сложность O(n)"
   ]
  },
  {
   "cell_type": "markdown",
   "id": "c568be20-ea5d-4b0b-9944-fbd96e260cdc",
   "metadata": {},
   "source": [
    "# Решение\n",
    "Функция count_unique уже имеет оптимальную асимптотическую сложность O(n) для задачи подсчета уникальных элементов в списке.\n",
    "Это связано с тем, что необходимо просмотреть каждый элемент хотя бы один раз, чтобы определить, является ли он уникальным."
   ]
  },
  {
   "cell_type": "code",
   "execution_count": null,
   "id": "58cc1efadd17f96f",
   "metadata": {},
   "outputs": [],
   "source": [
    "# 2 Найти дубликаты в списке\n",
    "\n",
    "def find_duplicates(arr):\n",
    "    duplicates = []  # O(1)\n",
    "    for i in range(len(arr)):  # O(n)\n",
    "        for j in range(i + 1, len(arr)):  # O(n)\n",
    "            if arr[i] == arr[j] and arr[i] not in duplicates:  # в худшем случае O(n)\n",
    "                duplicates.append(arr[i])  # O(1)\n",
    "    return duplicates  # O(1)\n",
    "    \n",
    " # в худщем случае получаем сложность = O(n^3)"
   ]
  },
  {
   "cell_type": "code",
   "execution_count": null,
   "id": "c325182fbc756c60",
   "metadata": {},
   "outputs": [],
   "source": [
    "# Решение\n",
    "\n",
    "def find_duplicates(arr):\n",
    "    duplicates = []  # O(1)\n",
    "    seen = set()  # O(1)\n",
    "    for value in arr:  # O(n)\n",
    "        if value in seen:  # O(1)\n",
    "            if value not in duplicates:  # O(k) в среднем O(1), т.к длинна duplicates будет значительно меньше arr\n",
    "                duplicates.append(value)  # O(1)\n",
    "        else:\n",
    "            seen.add(value)  # O(1)\n",
    "    return duplicates  # O(1)\n",
    "    \n",
    "# O(n)"
   ]
  },
  {
   "cell_type": "code",
   "execution_count": null,
   "id": "155f626a4df71f3b",
   "metadata": {},
   "outputs": [],
   "source": [
    "# 3 поиском троек чисел, которые в сумме дают ноль"
   ]
  },
  {
   "cell_type": "code",
   "execution_count": null,
   "id": "e11789817f8436c8",
   "metadata": {},
   "outputs": [],
   "source": [
    "def find_triplets(arr):\n",
    "    n = len(arr)  # O(1)\n",
    "    triplets = []  # O(1)\n",
    "    for i in range(n):  # O(n)\n",
    "        for j in range(i + 1, n):  # O(n)\n",
    "            for k in range(j + 1, n):  # O(n)\n",
    "                if arr[i] + arr[j] + arr[k] == 0:  # O(1)\n",
    "                    triplet = sorted([arr[i], arr[j], arr[k]])  # O(3 log 3) = O(1)\n",
    "                    if triplet not in triplets:  # O(m), где m — текущее количество найденных триплетов\n",
    "                        triplets.append(triplet)  # O(1)\n",
    "    return triplets  # O(1)\n",
    "\n",
    "# получаем за три цикла сложность = O(n^3) плюс в худшем случае проверка (if triplet not in triplets) может обойтись в O(n^3)\n",
    "# итого в худшем случае общая временная сложность будет равна O(n^6)"
   ]
  },
  {
   "cell_type": "code",
   "execution_count": null,
   "id": "4822e9c98411816c",
   "metadata": {},
   "outputs": [],
   "source": [
    "# Решение\n",
    "\n",
    "def find_triplets(arr):\n",
    "    n = len(arr)\n",
    "    # создаю пустое множество для хранения уникальных триплеров\n",
    "    triplets = set()\n",
    "\n",
    "    for i in range(n):\n",
    "        seen = set()\n",
    "        for j in range(i + 1, n):\n",
    "            complement = -arr[i] - arr[j]\n",
    "            if complement in seen:\n",
    "                triplet = tuple(sorted([arr[i], arr[j], complement]))\n",
    "                triplets.add(triplet)\n",
    "            seen.add(arr[j])\n",
    "    \n",
    "    return [list(triplet) for triplet in triplets\n",
    "            \n",
    "# Основная идея\n",
    "# Основная идея метода заключается в том,\n",
    "# что для каждой пары чисел мы ищем третье число,\n",
    "# которое вместе с парой даст в сумме ноль.\n",
    "# Мы используем множество для проверки,\n",
    "# было ли уже встречено это третье число. \n",
    "    \n",
    "# O(n^2)"
   ]
  },
  {
   "cell_type": "code",
   "execution_count": null,
   "id": "8abe6982df6615e2",
   "metadata": {},
   "outputs": [],
   "source": [
    "# вычисления числа Фибоначчи\n",
    "def fibonacci(n):\n",
    "    if n <= 1:\n",
    "        return n\n",
    "    else:\n",
    "        return fibonacci(n-1) + fibonacci(n-2)\n",
    "        \n",
    "# O(2^n)"
   ]
  },
  {
   "cell_type": "code",
   "execution_count": null,
   "id": "528bd6e72508e16f",
   "metadata": {},
   "outputs": [],
   "source": [
    "# Решение\n",
    "def fibonacci(n):\n",
    "    if n <= 1:\n",
    "        return n\n",
    "    a, b = 0, 1\n",
    "    for _ in range(2, n + 1):\n",
    "        a, b = b, a + b\n",
    "    return b\n",
    "    \n",
    "# Временная сложность O(n)\n",
    "# Пространственная сложность O(1)"
   ]
  },
  {
   "cell_type": "code",
   "execution_count": null,
   "id": "5a805a8a-fcb1-4a72-a618-834201e04240",
   "metadata": {},
   "outputs": [],
   "source": []
  }
 ],
 "metadata": {
  "kernelspec": {
   "display_name": "Python 3 (ipykernel)",
   "language": "python",
   "name": "python3"
  },
  "language_info": {
   "codemirror_mode": {
    "name": "ipython",
    "version": 3
   },
   "file_extension": ".py",
   "mimetype": "text/x-python",
   "name": "python",
   "nbconvert_exporter": "python",
   "pygments_lexer": "ipython3",
   "version": "3.10.10"
  }
 },
 "nbformat": 4,
 "nbformat_minor": 5
}
