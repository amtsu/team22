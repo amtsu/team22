{
 "cells": [
  {
   "cell_type": "markdown",
   "id": "ef8c1d772546cb58",
   "metadata": {},
   "source": [
    "### Сортировка списков"
   ]
  },
  {
   "cell_type": "markdown",
   "id": "41c848f20b9b94a6",
   "metadata": {},
   "source": [
    "`1. Выучить наизусть сортировку пузырьком и быструю сортировку.\n",
    "\n",
    "2. Реализовать дополнительно 2 любые сортировки кроме вышеуказанных. Написать тесты на эти функции.`"
   ]
  },
  {
   "cell_type": "markdown",
   "id": "f6d9a159-edf4-40b9-a2e6-17041ea5a06b",
   "metadata": {},
   "source": [
    "`QuickSort`\n",
    "1. `QuickSort` имеет среднюю временную сложность `O(n log n)`, что делает его очень эффективным для большинства данных. В худшем случае сложность составляет `O(n^2)`, но это редкость и может быть смягчено правильным выбором опорного элемента `(pivot)`.\n",
    "2. `QuickSort` является алгоритмом `in-place`\n",
    "3. Существует множество улучшений и вариаций `QuickSort`, таких как случайный выбор опорного элемента или использование медианы из трёх, которые могут улучшить его производительность на конкретных наборах данных и минимизировать вероятность худшего случая.\n"
   ]
  },
  {
   "cell_type": "code",
   "execution_count": 8,
   "id": "8cf4a21e-f025-43f2-b3bd-9e994b28604f",
   "metadata": {},
   "outputs": [
    {
     "name": "stdout",
     "output_type": "stream",
     "text": [
      "[4, 5, 5, 7, 10, 10, 10, 16, 26, 27, 28, 33, 36, 38, 45, 50, 58, 72, 72, 73, 87, 90, 93, 97, 98]\n"
     ]
    }
   ],
   "source": [
    "import random\n",
    "\n",
    "def quick_sort(mas) -> list:\n",
    "    if len(mas) <= 1:\n",
    "        return mas\n",
    "    else:\n",
    "        pivot = random.choice(mas) # рандомный опорный элемент\n",
    "        left = [i for i in mas if i < pivot]\n",
    "        right = [i for i in mas if i > pivot]\n",
    "        middle = [i for i in mas if i == pivot]\n",
    "\n",
    "    return quick_sort(left) + middle + quick_sort(right)\n",
    "\n",
    "nums = []\n",
    "for _ in range(25):\n",
    "    nums.append(random.randint(0, 99))\n",
    "    \n",
    "sort_list = quick_sort(nums)\n",
    "print(sort_list)\n"
   ]
  },
  {
   "cell_type": "code",
   "execution_count": 2,
   "id": "890bf8b7-802f-454a-b39f-757c9812f38e",
   "metadata": {},
   "outputs": [],
   "source": [
    "def test_quick_sort():\n",
    "    mas = [-1, 3, -8, 5, 30]\n",
    "    expected = [-8, -1, 3, 5, 30]\n",
    "    assert quick_sort(mas) == expected\n",
    "test_quick_sort()\n",
    "\n",
    "def test_quick_sort2():\n",
    "    mas = [2, 2, 2, 2, 2]\n",
    "    expected = [2, 2, 2, 2, 2]\n",
    "    assert quick_sort(mas) == expected\n",
    "test_quick_sort2()\n",
    "\n",
    "def test_quick_sort3():\n",
    "    mas = []\n",
    "    expected = []\n",
    "    assert quick_sort(mas) == expected\n",
    "test_quick_sort3()\n"
   ]
  },
  {
   "cell_type": "markdown",
   "id": "67ffee61-9bae-4469-bb72-264dea2f3eaf",
   "metadata": {},
   "source": [
    "` bubble sort `\n",
    "1. Сортировка пузырьком является алгоритмом `\"in-place\"`, то есть не требует дополнительной памяти для хранения копий данных. Все операции происходят внутри оригинального массива.\n",
    "2. Если на определённой итерации не было сделано ни одного обмена, алгоритм может остановиться досрочно.\n",
    "3. Для небольших массивов `bubble sort` может быть достаточно быстрой и эффективной из-за своей низкой сложности реализации.\n"
   ]
  },
  {
   "cell_type": "code",
   "execution_count": 14,
   "id": "86069db7-0477-4ce3-8b05-4d9c38c67f1f",
   "metadata": {},
   "outputs": [
    {
     "name": "stdout",
     "output_type": "stream",
     "text": [
      "[0, 26, 36, 40, 48]\n"
     ]
    }
   ],
   "source": [
    "def bubble_sort(nums) -> list:\n",
    "    n = len(nums)\n",
    "    for i in range(n - 1):\n",
    "        swapped = False\n",
    "        for j in range(n - i - 1):\n",
    "            #print('i=', i, \"iterations\", n-i-1, 'j:', nums[j], 'j+1:', nums[j+1], nums[j] > nums[j + 1], nums)\n",
    "            if nums[j] > nums[j + 1]:\n",
    "               nums[j], nums[j + 1] = nums[j + 1], nums[j]\n",
    "               swapped = True\n",
    "\n",
    "        if not swapped:  # выходим из цикла j если не было ни одного обмена\n",
    "            break\n",
    "    return nums\n",
    "    \n",
    "nums = []\n",
    "for _ in range(5):\n",
    "    nums.append(random.randint(0, 99))    \n",
    "    \n",
    "sort_list = bubble_sort(nums)\n",
    "print(sort_list)\n"
   ]
  },
  {
   "cell_type": "code",
   "execution_count": 4,
   "id": "ab38466a-a769-4b26-be22-2a10bf1a5232",
   "metadata": {},
   "outputs": [],
   "source": [
    "def test_bubble_sort():\n",
    "    mas = [-1, 3, -8, 5, 30]\n",
    "    expected = [-8, -1, 3, 5, 30]\n",
    "    assert bubble_sort(mas) == expected\n",
    "test_bubble_sort()\n",
    "\n",
    "def test_bubble_sort2():\n",
    "    mas = []\n",
    "    expected = []\n",
    "    assert quick_sort(mas) == expected\n",
    "test_bubble_sort2()\n"
   ]
  },
  {
   "cell_type": "markdown",
   "id": "64948aa8-5ff5-4082-bca4-8d2e4348b82d",
   "metadata": {},
   "source": [
    "`Сортировка вставками (Insertion Sort)`\n",
    "\n",
    "Сортировка вставками работает, как сортировка карт в руке: она последовательно берет каждый элемент из несортированного списка и вставляет его в правильное положение в уже отсортированную часть списка.\n",
    "\n",
    "1. Позводяет досортировывать массив при появлении новых элементов, а не пересортировывать массив по новой.\n"
   ]
  },
  {
   "cell_type": "code",
   "execution_count": 10,
   "id": "d14dd713-41a4-4670-bad4-e5eed2c14b15",
   "metadata": {},
   "outputs": [
    {
     "name": "stdout",
     "output_type": "stream",
     "text": [
      "[0, 5, 10, 10, 12, 16, 20, 20, 21, 26, 32, 53, 59, 60, 64, 64, 65, 68, 74, 89, 90, 93, 95, 96, 97]\n"
     ]
    }
   ],
   "source": [
    "def insertion_sort(nums):\n",
    "    n = len(nums)\n",
    "    for i in range(1, n):\n",
    "        # на первой итерации i будет указывать на второй элемент списка\n",
    "        # и будет пробегать до конца массива\n",
    "        \n",
    "        for j in range(i, 0, -1):\n",
    "        # указатель j встает на то же место, что и i, и идет в обратную сторону,\n",
    "        # сравнивая элементы\n",
    "            if nums[j] < nums[j - 1]:\n",
    "                nums[j], nums[j - 1] = nums[j - 1], nums[j]\n",
    "            else:\n",
    "                break  # если текущий элемент больше предыдущего, завершаем цикл\n",
    "    return nums\n",
    "\n",
    "sort_list = insertion_sort(nums)\n",
    "print(sort_list)"
   ]
  },
  {
   "cell_type": "code",
   "execution_count": 6,
   "id": "c532e694-a1fa-4227-a046-0569c4a27297",
   "metadata": {},
   "outputs": [],
   "source": [
    "def test_insertion_sort():\n",
    "    mas = [-1, 3, -8, 5, 30]\n",
    "    expected = [-8, -1, 3, 5, 30]\n",
    "    assert quick_sort(mas) == expected\n",
    "test_insertion_sort()\n",
    "\n",
    "def test_insertion_sort2():\n",
    "    mas = [2, 2, 2, 2, 2]\n",
    "    expected = [2, 2, 2, 2, 2]\n",
    "    assert quick_sort(mas) == expected\n",
    "test_insertion_sort2()\n",
    "\n",
    "def test_insertion_sort3():\n",
    "    mas = []\n",
    "    expected = []\n",
    "    assert quick_sort(mas) == expected\n",
    "test_insertion_sort3()\n"
   ]
  },
  {
   "cell_type": "markdown",
   "id": "9fc5a8f2-d10b-4df3-84ac-1bacf938a375",
   "metadata": {},
   "source": [
    "`Сортировка выбором (Selection Sort)`\n",
    "\n",
    "Сортировка выбором последовательно находит минимальный элемент из несортированной части списка и меняет его местами с первым элементом этой части. Затем повторяет процесс для оставшейся части списка.\n",
    "\n",
    "Имеет сложность O(n^2) во всех случаях"
   ]
  },
  {
   "cell_type": "code",
   "execution_count": 11,
   "id": "662e15e9-f8ad-4d2f-8127-00dc74fac877",
   "metadata": {},
   "outputs": [
    {
     "name": "stdout",
     "output_type": "stream",
     "text": [
      "[0, 7, 14, 15, 16, 20, 20, 21, 29, 44, 52, 57, 60, 61, 71, 74, 75, 76, 77, 83, 84, 87, 92, 94, 96]\n"
     ]
    }
   ],
   "source": [
    "def selection_sort(nums):\n",
    "    n = len(nums)\n",
    "    for i in range(n):\n",
    "        min_index = i\n",
    "        for j in range(i + 1, n):\n",
    "            # находим наименьшее значение массива\n",
    "            if nums[j] < nums[min_index]:\n",
    "                min_index = j\n",
    "        # помещаем его перед отсортированным концом массива\n",
    "        nums[i], nums[min_index] = nums[min_index], nums[i]\n",
    "    return nums\n",
    "\n",
    "\n",
    "nums = []\n",
    "for _ in range(25):\n",
    "    nums.append(random.randint(0, 99))\n",
    "    \n",
    "sorted_list = selection_sort(nums)\n",
    "print(sorted_list)"
   ]
  },
  {
   "cell_type": "code",
   "execution_count": null,
   "id": "3cd94493-ba5a-41f1-b6bd-f7a5e94985f7",
   "metadata": {},
   "outputs": [],
   "source": []
  },
  {
   "cell_type": "markdown",
   "id": "d9507b30-7170-480e-bad9-5335627ababe",
   "metadata": {},
   "source": [
    "`3. Создать список из 10000 случайных чисел с плавающей запятой.`"
   ]
  },
  {
   "cell_type": "markdown",
   "id": "79912718-b86e-4af7-8aa2-c53a86c2ac5b",
   "metadata": {},
   "source": [
    "`4. Замерить и вывести время выполнения, пузырьком, быстрой сортировки, ваших 2 сортировок и встроенной сортировки python.`"
   ]
  },
  {
   "cell_type": "code",
   "execution_count": 37,
   "id": "b26cc65d-ea9a-4b65-89b8-cf1cfe3a5105",
   "metadata": {},
   "outputs": [
    {
     "name": "stdout",
     "output_type": "stream",
     "text": [
      "Bubble Sort: -6.065166 сек.\n",
      "Insertion Sort: -3.949607 сек.\n",
      "Selection Sort: -2.523901 сек.\n",
      "Quick Sort: -0.021754 сек.\n",
      "Builtin Sort: -0.001339 сек.\n",
      "Builtin Sorted: -0.001258 сек.\n"
     ]
    }
   ],
   "source": [
    "import time \n",
    "\n",
    "nums = [round(random.uniform(-500, 500), 2) for _ in range(10000)]\n",
    "\n",
    "\n",
    "def sorted_time(sort_function, data):\n",
    "    \"\"\"функция измеряет время выполнения сортировки\"\"\"\n",
    "    start = time.time()\n",
    "    sort_function(data.copy())  # создаю копию списка, для того что бы алгоритм работал с одинаковыми исх данными \n",
    "    end = time.time()\n",
    "    return start - end\n",
    "\n",
    "def builtin_sort(nums):\n",
    "    nums.sort()\n",
    "    return nums\n",
    "\n",
    "def builtin_sorted(nums):\n",
    "    return sorted(nums)\n",
    "\n",
    "sort_functions = [\n",
    "    (\"Bubble Sort\", bubble_sort),\n",
    "    (\"Insertion Sort\", insertion_sort),\n",
    "    (\"Selection Sort\", selection_sort),\n",
    "    (\"Quick Sort\", quick_sort),\n",
    "    (\"Builtin Sort\", builtin_sort),\n",
    "    (\"Builtin Sorted\", builtin_sorted)\n",
    "]\n",
    "\n",
    "# Замер времени выполнения сортировок в цикле\n",
    "sort_times = [(name, sorted_time(func, nums)) for name, func in sort_functions]\n",
    "\n",
    "for name, time_sort in sort_times:\n",
    "    print(f\"{name}: {time_sort:.6f} сек.\")"
   ]
  },
  {
   "cell_type": "markdown",
   "id": "0e6a21cb-a373-4991-9524-1c9eec458f9f",
   "metadata": {},
   "source": [
    "`5. Создать список из 20000 случайных чисел с плавающей запятой. Сравните как изменилось время выполнения. \n",
    "(если на вашем компьютере это выполняется слишком долго больше минуты или не хватает памяти возьмите меньшее число элементов, например 2000 / 4000)`"
   ]
  },
  {
   "cell_type": "code",
   "execution_count": 40,
   "id": "52332861-5880-49e6-8658-5b683e7b048b",
   "metadata": {},
   "outputs": [
    {
     "name": "stdout",
     "output_type": "stream",
     "text": [
      "Bubble Sort: -27.230795 сек.\n",
      "Insertion Sort: -19.424900 сек.\n",
      "Selection Sort: -12.091986 сек.\n",
      "Quick Sort: -0.048475 сек.\n",
      "Builtin Sort: -0.002713 сек.\n",
      "Builtin Sorted: -0.002694 сек.\n"
     ]
    }
   ],
   "source": [
    "nums2 = [round(random.uniform(-500, 500), 2) for _ in range(20000)]\n",
    "\n",
    "# Замер времени выполнения сортировок в цикле\n",
    "sort_times = [(name, sorted_time(func, nums2)) for name, func in sort_functions]\n",
    "\n",
    "for name, time_sort in sort_times:\n",
    "    print(f\"{name}: {time_sort:.6f} сек.\")"
   ]
  },
  {
   "cell_type": "markdown",
   "id": "d7fbe62f-058a-494a-86d8-606bd2eb8759",
   "metadata": {},
   "source": [
    "`6. Сделайте выводы по результатам, они достаточно интересные. Если будут вопросы спросите преподавателя.`"
   ]
  },
  {
   "cell_type": "markdown",
   "id": "163b8b4e-d6ce-4e79-8970-90d7475601b6",
   "metadata": {},
   "source": [
    "`Вывод:`\n",
    "\n",
    "`Сортировка пузырьком (bubble sort)` - Подходит для очень маленьких массивов, обычно до нескольких сотен элементов (до 1000). Сортировка больших массивов станет чрезвычайно медленной. Имеет сложность O(n^2)\n",
    "\n",
    "`Быстрая сортировка (quick_sort)` - высокая производительность, средняя сложность O(n log n), в худшем случае O(n^2), если неудачно выбран опорный элемент. Подходит для больших массивов, обычно до нескольких миллионов элементов. При использовании подходящего выбора опорного элемента (например, медиана трех) можно эффективно сортировать массивы до десятков миллионов элементов.\n",
    "\n",
    "`Сортировка вставками (insertion_sort)` - Имеет сложность O(n^2). Подходит для небольших массивов, обычно до нескольких тысяч элементов (до 1000-2000). Частично отсортированные массивы могут быть большего размера, но в общем случае большие массивы сортируются медленно.\n",
    "\n",
    "`Сортировка выбором (Selection Sort)` - Имеет сложность O(n^2). Подходит для небольших массивов, обычно до нескольких тысяч элементов (до 1000-2000). Для больших массивов становится слишком медленной.\n",
    "\n",
    "`Встроенная сортировка sort() в Python (Timsort)` - Имеет сложность O(n log n) в любом случае. Очень эффективен и может сортировать массивы до сотен миллионов элементов. Timsort хорошо оптимизирован для работы с большими объемами данных и частично отсортированными массивами.\n",
    "\n"
   ]
  },
  {
   "cell_type": "code",
   "execution_count": null,
   "id": "0b9322a1-80f8-48b5-97d3-e5b3ba0b1ff7",
   "metadata": {},
   "outputs": [],
   "source": []
  }
 ],
 "metadata": {
  "kernelspec": {
   "display_name": "Python 3 (ipykernel)",
   "language": "python",
   "name": "python3"
  },
  "language_info": {
   "codemirror_mode": {
    "name": "ipython",
    "version": 3
   },
   "file_extension": ".py",
   "mimetype": "text/x-python",
   "name": "python",
   "nbconvert_exporter": "python",
   "pygments_lexer": "ipython3",
   "version": "3.10.10"
  }
 },
 "nbformat": 4,
 "nbformat_minor": 5
}
