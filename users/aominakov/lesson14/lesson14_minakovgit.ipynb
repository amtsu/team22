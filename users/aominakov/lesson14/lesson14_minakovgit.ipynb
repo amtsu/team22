{
 "cells": [
  {
   "cell_type": "code",
   "execution_count": 1,
   "metadata": {},
   "outputs": [],
   "source": [
    "import pickle"
   ]
  },
  {
   "cell_type": "code",
   "execution_count": 2,
   "metadata": {},
   "outputs": [],
   "source": [
    "from module_todo14 import Delo"
   ]
  },
  {
   "cell_type": "code",
   "execution_count": 3,
   "metadata": {},
   "outputs": [],
   "source": [
    "delo_1 = Delo('wash face', '01-08-2022', '03-08-2022')        \n",
    "delo_2 = Delo('breakfast', '02-08-2022', '02-08-2022') \n",
    "delo_3 = Delo('homework', '03-08-2022', '05-08-2022') \n",
    "delo_4 = Delo('workout', '04-08-2022', '04-08-2022') \n",
    "delo_5 = Delo('dance', '04-08-2022', '21-08-2022')\n",
    "delo_6 = Delo('dance', '05-08-2022', '22-08-2022')"
   ]
  },
  {
   "cell_type": "code",
   "execution_count": 4,
   "metadata": {},
   "outputs": [],
   "source": [
    "list_todo = [\n",
    "    delo_1,\n",
    "    delo_2,\n",
    "    delo_3,\n",
    "    delo_4,\n",
    "    delo_5,\n",
    "    delo_6\n",
    "]"
   ]
  },
  {
   "cell_type": "code",
   "execution_count": 5,
   "metadata": {},
   "outputs": [
    {
     "name": "stdout",
     "output_type": "stream",
     "text": [
      "[wash face => 01-08-2022 => 03-08-2022, breakfast => 02-08-2022 => 02-08-2022, homework => 03-08-2022 => 05-08-2022, workout => 04-08-2022 => 04-08-2022, dance => 04-08-2022 => 21-08-2022, dance => 05-08-2022 => 22-08-2022]\n"
     ]
    }
   ],
   "source": [
    "print(list_todo)"
   ]
  },
  {
   "cell_type": "code",
   "execution_count": 6,
   "metadata": {},
   "outputs": [],
   "source": [
    "#for list_todo in Delo #list_todo.done_same_day()"
   ]
  },
  {
   "cell_type": "code",
   "execution_count": null,
   "metadata": {},
   "outputs": [],
   "source": []
  },
  {
   "cell_type": "code",
   "execution_count": 7,
   "metadata": {},
   "outputs": [],
   "source": [
    "class Delo_class2():\n",
    "    \n",
    "    def __init__(self, spisok):\n",
    "        self.__list = spisok\n",
    "        \n",
    "    def append(self, element): \n",
    "        self.__list.append(element)\n",
    "        \n",
    "    def __hash__(self):\n",
    "        return 1\n",
    "        \n",
    "    def deloduplicate(self):\n",
    "        \"\"\"\n",
    "        if length not eq then list has duplicate\n",
    "        \"\"\"\n",
    "        return len(set(self.__list)) != len(self.__list)\n",
    "    \n",
    "    #def __repr__(self):\n",
    "        #return self.__delo + ' => ' + self.__date_plan + ' => ' + self.__date_execute \n",
    "        \n",
    "    def __str__(self):\n",
    "        r = ''\n",
    "        for d in self.__list:\n",
    "            r = r + str(d) + '__|__'\n",
    "        return r\n",
    "\n",
    "    #вернуть словарь с 2 ключами. 1 - дела в тот же день, 2 - дела в незапланированную дату и их колво.\n",
    "    \n",
    "    def sortdela(self):\n",
    "        x = 0\n",
    "        y = 0\n",
    "        \n",
    "        for i in self.__list:\n",
    "            #print(i)\n",
    "            #print (i.done_same_day())\n",
    "           \n",
    "            if i.done_same_day():\n",
    "                x = x + 1\n",
    "            else: \n",
    "                y = y + 1    \n",
    "        \n",
    "        slovardel = {\n",
    "            'donesameday': x,\n",
    "            'notdone': y,\n",
    "            }\n",
    "        \n",
    "        return slovardel"
   ]
  },
  {
   "cell_type": "code",
   "execution_count": 8,
   "metadata": {},
   "outputs": [],
   "source": [
    "newlist_todo = Delo_class2(list_todo)"
   ]
  },
  {
   "cell_type": "code",
   "execution_count": 9,
   "metadata": {},
   "outputs": [
    {
     "name": "stdout",
     "output_type": "stream",
     "text": [
      "wash face => 01-08-2022 => 03-08-2022__|__breakfast => 02-08-2022 => 02-08-2022__|__homework => 03-08-2022 => 05-08-2022__|__workout => 04-08-2022 => 04-08-2022__|__dance => 04-08-2022 => 21-08-2022__|__dance => 05-08-2022 => 22-08-2022__|__\n"
     ]
    }
   ],
   "source": [
    "print(newlist_todo)"
   ]
  },
  {
   "cell_type": "code",
   "execution_count": 10,
   "metadata": {},
   "outputs": [
    {
     "data": {
      "text/plain": [
       "True"
      ]
     },
     "execution_count": 10,
     "metadata": {},
     "output_type": "execute_result"
    }
   ],
   "source": [
    "newlist_todo.deloduplicate()"
   ]
  },
  {
   "cell_type": "code",
   "execution_count": 11,
   "metadata": {},
   "outputs": [],
   "source": [
    "newlist_todo.append(Delo('feed dog', '19-12-2022', '21-12-2022'))"
   ]
  },
  {
   "cell_type": "code",
   "execution_count": 12,
   "metadata": {},
   "outputs": [
    {
     "name": "stdout",
     "output_type": "stream",
     "text": [
      "wash face => 01-08-2022 => 03-08-2022__|__breakfast => 02-08-2022 => 02-08-2022__|__homework => 03-08-2022 => 05-08-2022__|__workout => 04-08-2022 => 04-08-2022__|__dance => 04-08-2022 => 21-08-2022__|__dance => 05-08-2022 => 22-08-2022__|__feed dog => 19-12-2022 => 21-12-2022__|__\n"
     ]
    }
   ],
   "source": [
    "print(newlist_todo)"
   ]
  },
  {
   "cell_type": "code",
   "execution_count": 13,
   "metadata": {},
   "outputs": [
    {
     "data": {
      "text/plain": [
       "True"
      ]
     },
     "execution_count": 13,
     "metadata": {},
     "output_type": "execute_result"
    }
   ],
   "source": [
    "newlist_todo.deloduplicate()"
   ]
  },
  {
   "cell_type": "code",
   "execution_count": 14,
   "metadata": {},
   "outputs": [
    {
     "data": {
      "text/plain": [
       "False"
      ]
     },
     "execution_count": 14,
     "metadata": {},
     "output_type": "execute_result"
    }
   ],
   "source": [
    "delo_6.done_same_day()"
   ]
  },
  {
   "cell_type": "code",
   "execution_count": 15,
   "metadata": {},
   "outputs": [
    {
     "data": {
      "text/plain": [
       "{'donesameday': 2, 'notdone': 5}"
      ]
     },
     "execution_count": 15,
     "metadata": {},
     "output_type": "execute_result"
    }
   ],
   "source": [
    "newlist_todo.sortdela()"
   ]
  },
  {
   "cell_type": "code",
   "execution_count": 16,
   "metadata": {},
   "outputs": [],
   "source": [
    "newlist_todo.append(Delo('ski', '12-12-2022', '12-12-2022'))"
   ]
  },
  {
   "cell_type": "code",
   "execution_count": 17,
   "metadata": {},
   "outputs": [
    {
     "data": {
      "text/plain": [
       "{'donesameday': 3, 'notdone': 5}"
      ]
     },
     "execution_count": 17,
     "metadata": {},
     "output_type": "execute_result"
    }
   ],
   "source": [
    "newlist_todo.sortdela()"
   ]
  },
  {
   "cell_type": "code",
   "execution_count": 18,
   "metadata": {},
   "outputs": [],
   "source": [
    "class Task():\n",
    "    def __init__(self, x, y):\n",
    "        self.__a = x\n",
    "        self.__b = y\n",
    "    \n",
    "    def done_same_day(self):\n",
    "        if self.__a == self.__b:\n",
    "            return True \n",
    "        return False\n",
    "    \n",
    "    def task_date(self):\n",
    "        return self.__a, ' => ', self.__b\n",
    "    \n",
    "    #вывод на печать:\n",
    "    def __repr__(self):\n",
    "        return str(self.__a) + ' => ' + str(self.__b)\n",
    "    "
   ]
  },
  {
   "cell_type": "code",
   "execution_count": 19,
   "metadata": {},
   "outputs": [],
   "source": [
    "newlist_todo.append(Task(2, 3))"
   ]
  },
  {
   "cell_type": "code",
   "execution_count": 20,
   "metadata": {},
   "outputs": [
    {
     "data": {
      "text/plain": [
       "{'donesameday': 3, 'notdone': 6}"
      ]
     },
     "execution_count": 20,
     "metadata": {},
     "output_type": "execute_result"
    }
   ],
   "source": [
    "newlist_todo.sortdela()"
   ]
  },
  {
   "cell_type": "code",
   "execution_count": 21,
   "metadata": {},
   "outputs": [
    {
     "name": "stdout",
     "output_type": "stream",
     "text": [
      "wash face => 01-08-2022 => 03-08-2022__|__breakfast => 02-08-2022 => 02-08-2022__|__homework => 03-08-2022 => 05-08-2022__|__workout => 04-08-2022 => 04-08-2022__|__dance => 04-08-2022 => 21-08-2022__|__dance => 05-08-2022 => 22-08-2022__|__feed dog => 19-12-2022 => 21-12-2022__|__ski => 12-12-2022 => 12-12-2022__|__2 => 3__|__\n"
     ]
    }
   ],
   "source": [
    "print(newlist_todo)"
   ]
  },
  {
   "cell_type": "code",
   "execution_count": 22,
   "metadata": {},
   "outputs": [],
   "source": [
    "class Task2():\n",
    "    def __init__(self, x, y):\n",
    "        self.__a = x\n",
    "        self.__b = y\n",
    "    \n",
    "    def compare(self):\n",
    "        if self.__a == self.__b:\n",
    "            return True \n",
    "        return False\n",
    "    \n",
    "    def task_date(self):\n",
    "        return self.__a, ' => ', self.__b\n",
    "    #вывод на печать:\n",
    "    def __repr__(self):\n",
    "        return str(self.__a) + ' => ' + str(self.__b)\n",
    "    "
   ]
  },
  {
   "cell_type": "code",
   "execution_count": 23,
   "metadata": {},
   "outputs": [],
   "source": [
    "newlist_todo.append(Task2(7, 7))"
   ]
  },
  {
   "cell_type": "code",
   "execution_count": 24,
   "metadata": {},
   "outputs": [
    {
     "name": "stdout",
     "output_type": "stream",
     "text": [
      "wash face => 01-08-2022 => 03-08-2022__|__breakfast => 02-08-2022 => 02-08-2022__|__homework => 03-08-2022 => 05-08-2022__|__workout => 04-08-2022 => 04-08-2022__|__dance => 04-08-2022 => 21-08-2022__|__dance => 05-08-2022 => 22-08-2022__|__feed dog => 19-12-2022 => 21-12-2022__|__ski => 12-12-2022 => 12-12-2022__|__2 => 3__|__7 => 7__|__\n"
     ]
    }
   ],
   "source": [
    "print(newlist_todo)"
   ]
  },
  {
   "cell_type": "code",
   "execution_count": 26,
   "metadata": {},
   "outputs": [
    {
     "ename": "AttributeError",
     "evalue": "Delo_class2 instance has no attribute 'compare'",
     "output_type": "error",
     "traceback": [
      "\u001b[0;31m---------------------------------------------------------------------------\u001b[0m",
      "\u001b[0;31mAttributeError\u001b[0m                            Traceback (most recent call last)",
      "\u001b[0;32m<ipython-input-26-4dda3fdf6b45>\u001b[0m in \u001b[0;36m<module>\u001b[0;34m()\u001b[0m\n\u001b[0;32m----> 1\u001b[0;31m \u001b[0mnewlist_todo\u001b[0m\u001b[0;34m.\u001b[0m\u001b[0mcompare\u001b[0m\u001b[0;34m(\u001b[0m\u001b[0;34m)\u001b[0m\u001b[0;34m\u001b[0m\u001b[0m\n\u001b[0m",
      "\u001b[0;31mAttributeError\u001b[0m: Delo_class2 instance has no attribute 'compare'"
     ]
    }
   ],
   "source": [
    "newlist_todo.sortdela()"
   ]
  },
  {
   "cell_type": "code",
   "execution_count": null,
   "metadata": {},
   "outputs": [],
   "source": []
  }
 ],
 "metadata": {
  "kernelspec": {
   "display_name": "Python 2",
   "language": "python",
   "name": "python2"
  },
  "language_info": {
   "codemirror_mode": {
    "name": "ipython",
    "version": 2
   },
   "file_extension": ".py",
   "mimetype": "text/x-python",
   "name": "python",
   "nbconvert_exporter": "python",
   "pygments_lexer": "ipython2",
   "version": "2.7.12"
  }
 },
 "nbformat": 4,
 "nbformat_minor": 2
}
