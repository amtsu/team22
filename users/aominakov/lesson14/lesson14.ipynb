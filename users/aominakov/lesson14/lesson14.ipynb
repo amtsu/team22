{
 "cells": [
  {
   "cell_type": "code",
   "execution_count": 1,
   "metadata": {},
   "outputs": [],
   "source": [
    "import pickle"
   ]
  },
  {
   "cell_type": "code",
   "execution_count": 2,
   "metadata": {},
   "outputs": [],
   "source": [
    "from module_todo14 import Delo"
   ]
  },
  {
   "cell_type": "code",
   "execution_count": 3,
   "metadata": {},
   "outputs": [],
   "source": [
    "delo_1 = Delo('wash face', '01-08-2022', '03-08-2022')        \n",
    "delo_2 = Delo('breakfast', '02-08-2022', '02-08-2022') \n",
    "delo_3 = Delo('homework', '03-08-2022', '05-08-2022') \n",
    "delo_4 = Delo('workout', '04-08-2022', '04-08-2022') \n",
    "delo_5 = Delo('dance', '04-08-2022', '21-08-2022')\n",
    "delo_6 = Delo('dance', '05-08-2022', '22-08-2022')"
   ]
  },
  {
   "cell_type": "code",
   "execution_count": 4,
   "metadata": {},
   "outputs": [],
   "source": [
    "list_todo = [\n",
    "    delo_1,\n",
    "    delo_2,\n",
    "    delo_3,\n",
    "    delo_4,\n",
    "    delo_5,\n",
    "    delo_6\n",
    "]"
   ]
  },
  {
   "cell_type": "code",
   "execution_count": 5,
   "metadata": {},
   "outputs": [
    {
     "name": "stdout",
     "output_type": "stream",
     "text": [
      "[wash face => 01-08-2022 => 03-08-2022, breakfast => 02-08-2022 => 02-08-2022, homework => 03-08-2022 => 05-08-2022, workout => 04-08-2022 => 04-08-2022, dance => 04-08-2022 => 21-08-2022, dance => 05-08-2022 => 22-08-2022]\n"
     ]
    }
   ],
   "source": [
    "print(list_todo)"
   ]
  },
  {
   "cell_type": "code",
   "execution_count": 6,
   "metadata": {},
   "outputs": [],
   "source": [
    "#for list_todo in Delo #list_todo.done_same_day()"
   ]
  },
  {
   "cell_type": "code",
   "execution_count": null,
   "metadata": {},
   "outputs": [],
   "source": []
  },
  {
   "cell_type": "code",
   "execution_count": 7,
   "metadata": {},
   "outputs": [],
   "source": [
    "class Delo_class2():\n",
    "    \n",
    "    def __init__(self, spisok):\n",
    "        self.__list = spisok\n",
    "        \n",
    "    def append(self, element): \n",
    "        self.__list.append(element)\n",
    "        \n",
    "    def __hash__(self):\n",
    "        return 1\n",
    "        \n",
    "    def deloduplicate(self):\n",
    "        \"\"\"\n",
    "        if length not eq then list has duplicate\n",
    "        \"\"\"\n",
    "        return len(set(self.__list)) != len(self.__list)\n",
    "    \n",
    "    #def __repr__(self):\n",
    "        #return self.__delo + ' => ' + self.__date_plan + ' => ' + self.__date_execute \n",
    "        \n",
    "    def __str__(self):\n",
    "        r = ''\n",
    "        for d in self.__list:\n",
    "            r = r + str(d) + '__|__'\n",
    "        return r\n",
    "\n",
    "    #вернуть словарь с 2 ключами. 1 - дела в тот же день, 2 - дела в незапланированную дату и их колво.\n",
    "    \n",
    "    def sortdela(self):\n",
    "        x = 0\n",
    "        y = 0\n",
    "        \n",
    "        for i in self.__list:\n",
    "            #print(i)\n",
    "            #print (i.done_same_day())\n",
    "           \n",
    "            if i.done_same_day():\n",
    "                x = x + 1\n",
    "            else: \n",
    "                y = y + 1    \n",
    "        \n",
    "        slovardel = {\n",
    "            'donesameday': x,\n",
    "            'notdone': y,\n",
    "            }\n",
    "        \n",
    "        return slovardel"
   ]
  },
  {
   "cell_type": "code",
   "execution_count": 8,
   "metadata": {},
   "outputs": [],
   "source": [
    "newlist_todo = Delo_class2(list_todo)"
   ]
  },
  {
   "cell_type": "code",
   "execution_count": 9,
   "metadata": {},
   "outputs": [
    {
     "name": "stdout",
     "output_type": "stream",
     "text": [
      "wash face => 01-08-2022 => 03-08-2022__|__breakfast => 02-08-2022 => 02-08-2022__|__homework => 03-08-2022 => 05-08-2022__|__workout => 04-08-2022 => 04-08-2022__|__dance => 04-08-2022 => 21-08-2022__|__dance => 05-08-2022 => 22-08-2022__|__\n"
     ]
    }
   ],
   "source": [
    "print(newlist_todo)"
   ]
  },
  {
   "cell_type": "code",
   "execution_count": 10,
   "metadata": {},
   "outputs": [
    {
     "data": {
      "text/plain": [
       "True"
      ]
     },
     "execution_count": 10,
     "metadata": {},
     "output_type": "execute_result"
    }
   ],
   "source": [
    "newlist_todo.deloduplicate()"
   ]
  },
  {
   "cell_type": "code",
   "execution_count": 11,
   "metadata": {},
   "outputs": [],
   "source": [
    "newlist_todo.append(Delo('feed dog', '19-12-2022', '21-12-2022'))"
   ]
  },
  {
   "cell_type": "code",
   "execution_count": 12,
   "metadata": {},
   "outputs": [
    {
     "name": "stdout",
     "output_type": "stream",
     "text": [
      "wash face => 01-08-2022 => 03-08-2022__|__breakfast => 02-08-2022 => 02-08-2022__|__homework => 03-08-2022 => 05-08-2022__|__workout => 04-08-2022 => 04-08-2022__|__dance => 04-08-2022 => 21-08-2022__|__dance => 05-08-2022 => 22-08-2022__|__feed dog => 19-12-2022 => 21-12-2022__|__\n"
     ]
    }
   ],
   "source": [
    "print(newlist_todo)"
   ]
  },
  {
   "cell_type": "code",
   "execution_count": 13,
   "metadata": {},
   "outputs": [
    {
     "data": {
      "text/plain": [
       "True"
      ]
     },
     "execution_count": 13,
     "metadata": {},
     "output_type": "execute_result"
    }
   ],
   "source": [
    "newlist_todo.deloduplicate()"
   ]
  },
  {
   "cell_type": "code",
   "execution_count": 14,
   "metadata": {},
   "outputs": [
    {
     "data": {
      "text/plain": [
       "False"
      ]
     },
     "execution_count": 14,
     "metadata": {},
     "output_type": "execute_result"
    }
   ],
   "source": [
    "delo_6.done_same_day()"
   ]
  },
  {
   "cell_type": "code",
   "execution_count": 15,
   "metadata": {},
   "outputs": [
    {
     "data": {
      "text/plain": [
       "{'donesameday': 2, 'notdone': 5}"
      ]
     },
     "execution_count": 15,
     "metadata": {},
     "output_type": "execute_result"
    }
   ],
   "source": [
    "newlist_todo.sortdela()"
   ]
  },
  {
   "cell_type": "code",
   "execution_count": 16,
   "metadata": {},
   "outputs": [],
   "source": [
    "newlist_todo.append(Delo('ski', '12-12-2022', '12-12-2022'))"
   ]
  },
  {
   "cell_type": "code",
   "execution_count": 17,
   "metadata": {},
   "outputs": [
    {
     "data": {
      "text/plain": [
       "{'donesameday': 3, 'notdone': 5}"
      ]
     },
     "execution_count": 17,
     "metadata": {},
     "output_type": "execute_result"
    }
   ],
   "source": [
    "newlist_todo.sortdela()"
   ]
  },
  {
   "cell_type": "code",
   "execution_count": 18,
   "metadata": {},
   "outputs": [],
   "source": [
    "class Task():\n",
    "    def __init__(self, x, y):\n",
    "        self.__a = x\n",
    "        self.__b = y\n",
    "    \n",
    "    def done_same_day(self):\n",
    "        if self.__a == self.__b:\n",
    "            return True \n",
    "        return False\n",
    "    \n",
    "    def task_date(self):\n",
    "        return self.__a, ' => ', self.__b\n",
    "    \n",
    "    #вывод на печать:\n",
    "    def __repr__(self):\n",
    "        return str(self.__a) + ' => ' + str(self.__b)\n",
    "    "
   ]
  },
  {
   "cell_type": "code",
   "execution_count": 19,
   "metadata": {},
   "outputs": [],
   "source": [
    "newlist_todo.append(Task(2, 3))"
   ]
  },
  {
   "cell_type": "code",
   "execution_count": 20,
   "metadata": {},
   "outputs": [
    {
     "data": {
      "text/plain": [
       "{'donesameday': 3, 'notdone': 6}"
      ]
     },
     "execution_count": 20,
     "metadata": {},
     "output_type": "execute_result"
    }
   ],
   "source": [
    "newlist_todo.sortdela()"
   ]
  },
  {
   "cell_type": "code",
   "execution_count": 21,
   "metadata": {},
   "outputs": [
    {
     "name": "stdout",
     "output_type": "stream",
     "text": [
      "wash face => 01-08-2022 => 03-08-2022__|__breakfast => 02-08-2022 => 02-08-2022__|__homework => 03-08-2022 => 05-08-2022__|__workout => 04-08-2022 => 04-08-2022__|__dance => 04-08-2022 => 21-08-2022__|__dance => 05-08-2022 => 22-08-2022__|__feed dog => 19-12-2022 => 21-12-2022__|__ski => 12-12-2022 => 12-12-2022__|__2 => 3__|__\n"
     ]
    }
   ],
   "source": [
    "print(newlist_todo)"
   ]
  },
  {
   "cell_type": "code",
   "execution_count": 22,
   "metadata": {},
   "outputs": [],
   "source": [
    "class Task2():\n",
    "    def __init__(self, x, y):\n",
    "        self.__a = x\n",
    "        self.__b = y\n",
    "    \n",
    "    def compare(self):\n",
    "        if self.__a == self.__b:\n",
    "            return True \n",
    "        return False\n",
    "    \n",
    "    def task_date(self):\n",
    "        return self.__a, ' => ', self.__b\n",
    "    #вывод на печать:\n",
    "    def __repr__(self):\n",
    "        return str(self.__a) + ' => ' + str(self.__b)\n",
    "    "
   ]
  },
  {
   "cell_type": "code",
   "execution_count": 23,
   "metadata": {},
   "outputs": [],
   "source": [
    "newlist_todo.append(Task2(7, 7))"
   ]
  },
  {
   "cell_type": "code",
   "execution_count": 24,
   "metadata": {},
   "outputs": [
    {
     "name": "stdout",
     "output_type": "stream",
     "text": [
      "wash face => 01-08-2022 => 03-08-2022__|__breakfast => 02-08-2022 => 02-08-2022__|__homework => 03-08-2022 => 05-08-2022__|__workout => 04-08-2022 => 04-08-2022__|__dance => 04-08-2022 => 21-08-2022__|__dance => 05-08-2022 => 22-08-2022__|__feed dog => 19-12-2022 => 21-12-2022__|__ski => 12-12-2022 => 12-12-2022__|__2 => 3__|__7 => 7__|__\n"
     ]
    }
   ],
   "source": [
    "print(newlist_todo)"
   ]
  },
  {
   "cell_type": "code",
   "execution_count": 26,
   "metadata": {},
   "outputs": [
    {
     "ename": "AttributeError",
     "evalue": "Delo_class2 instance has no attribute 'compare'",
     "output_type": "error",
     "traceback": [
      "\u001b[0;31m---------------------------------------------------------------------------\u001b[0m",
      "\u001b[0;31mAttributeError\u001b[0m                            Traceback (most recent call last)",
      "\u001b[0;32m<ipython-input-26-4dda3fdf6b45>\u001b[0m in \u001b[0;36m<module>\u001b[0;34m()\u001b[0m\n\u001b[0;32m----> 1\u001b[0;31m \u001b[0mnewlist_todo\u001b[0m\u001b[0;34m.\u001b[0m\u001b[0mcompare\u001b[0m\u001b[0;34m(\u001b[0m\u001b[0;34m)\u001b[0m\u001b[0;34m\u001b[0m\u001b[0m\n\u001b[0m",
      "\u001b[0;31mAttributeError\u001b[0m: Delo_class2 instance has no attribute 'compare'"
     ]
    }
   ],
   "source": [
    "newlist_todo.sortdela()"
   ]
  },
  {
   "cell_type": "code",
   "execution_count": 1,
   "metadata": {},
   "outputs": [
    {
     "data": {
      "text/plain": [
       "'/home/jupyter-drrryfox/github/team22/users/aominakov/lesson14'"
      ]
     },
     "execution_count": 1,
     "metadata": {},
     "output_type": "execute_result"
    }
   ],
   "source": [
    "pwd"
   ]
  },
  {
   "cell_type": "code",
   "execution_count": 2,
   "metadata": {},
   "outputs": [
    {
     "name": "stdout",
     "output_type": "stream",
     "text": [
      "* \u001b[32mmain\u001b[m\r\n"
     ]
    }
   ],
   "source": [
    "!git branch"
   ]
  },
  {
   "cell_type": "code",
   "execution_count": 3,
   "metadata": {},
   "outputs": [
    {
     "name": "stdout",
     "output_type": "stream",
     "text": [
      "error: switch `m' requires a value\r\n"
     ]
    }
   ],
   "source": [
    "!git commit -m"
   ]
  },
  {
   "cell_type": "code",
   "execution_count": 4,
   "metadata": {},
   "outputs": [
    {
     "name": "stdout",
     "output_type": "stream",
     "text": [
      "\r\n",
      "*** Please tell me who you are.\r\n",
      "\r\n",
      "Run\r\n",
      "\r\n",
      "  git config --global user.email \"you@example.com\"\r\n",
      "  git config --global user.name \"Your Name\"\r\n",
      "\r\n",
      "to set your account's default identity.\r\n",
      "Omit --global to set the identity only in this repository.\r\n",
      "\r\n",
      "fatal: empty ident name (for <jupyter-drrryfox@vm6.template>) not allowed\r\n"
     ]
    }
   ],
   "source": [
    "!git commit -m 'lesson14'"
   ]
  },
  {
   "cell_type": "code",
   "execution_count": 5,
   "metadata": {},
   "outputs": [
    {
     "name": "stdout",
     "output_type": "stream",
     "text": [
      "remote: Enumerating objects: 79, done.\u001b[K\n",
      "remote: Counting objects: 100% (79/79), done.\u001b[K\n",
      "remote: Compressing objects: 100% (47/47), done.\u001b[K\n",
      "remote: Total 79 (delta 45), reused 59 (delta 31), pack-reused 0\u001b[K\n",
      "Unpacking objects: 100% (79/79), 36.32 KiB | 395.00 KiB/s, done.\n",
      "From github.com:amtsu/team22\n",
      "   d17bcd2..c486b64  main             -> origin/main\n",
      "   3fd961a..be047fc  apyatnitskiy     -> origin/apyatnitskiy\n",
      "   7021089..b9f3895  kstimofeev_2     -> origin/kstimofeev_2\n",
      " * [new branch]      sivanov          -> origin/sivanov\n",
      "   c89f962..5817540  sivanov_20221109 -> origin/sivanov_20221109\n",
      "Updating d17bcd2..c486b64\n",
      "Fast-forward\n",
      " users/amtsurkov/lesson_14/delo.py          |    8 \u001b[32m+\u001b[m\u001b[31m-\u001b[m\n",
      " users/amtsurkov/lesson_19/lesson19.py      |   11 \u001b[32m+\u001b[m\n",
      " users/amtsurkov/lesson_19/lesson19_q2.py   |    8 \u001b[32m+\u001b[m\n",
      " users/amtsurkov/lesson_19/lesson19_run.py  |   14 \u001b[32m+\u001b[m\n",
      " users/amtsurkov/lesson_19/lesson_19.ipynb  | 1559 \u001b[32m++++++++++++++++++++++++++++\u001b[m\n",
      " users/amtsurkov/lesson_19_2/lesson_19_3.py |    6 \u001b[32m+\u001b[m\n",
      " 6 files changed, 1602 insertions(+), 4 deletions(-)\n",
      " create mode 100644 users/amtsurkov/lesson_19/lesson19.py\n",
      " create mode 100644 users/amtsurkov/lesson_19/lesson19_q2.py\n",
      " create mode 100644 users/amtsurkov/lesson_19/lesson19_run.py\n",
      " create mode 100644 users/amtsurkov/lesson_19/lesson_19.ipynb\n",
      " create mode 100644 users/amtsurkov/lesson_19_2/lesson_19_3.py\n"
     ]
    }
   ],
   "source": [
    "!git pull"
   ]
  },
  {
   "cell_type": "code",
   "execution_count": 6,
   "metadata": {},
   "outputs": [],
   "source": [
    "!git branch aominakov_les14"
   ]
  },
  {
   "cell_type": "code",
   "execution_count": 7,
   "metadata": {},
   "outputs": [
    {
     "data": {
      "text/plain": [
       "'/home/jupyter-drrryfox/github/team22/users/aominakov/lesson14'"
      ]
     },
     "execution_count": 7,
     "metadata": {},
     "output_type": "execute_result"
    }
   ],
   "source": [
    "pwd"
   ]
  },
  {
   "cell_type": "code",
   "execution_count": 9,
   "metadata": {},
   "outputs": [
    {
     "name": "stdout",
     "output_type": "stream",
     "text": [
      "On branch main\r\n",
      "Your branch is up to date with 'origin/main'.\r\n",
      "\r\n",
      "Changes not staged for commit:\r\n",
      "  (use \"git add <file>...\" to update what will be committed)\r\n",
      "  (use \"git restore <file>...\" to discard changes in working directory)\r\n",
      "\t\u001b[31mmodified:   ../lesson16_minakovgit.ipynb\u001b[m\r\n",
      "\r\n",
      "Untracked files:\r\n",
      "  (use \"git add <file>...\" to include in what will be committed)\r\n",
      "\t\u001b[31m../lesson12/\u001b[m\r\n",
      "\t\u001b[31m./\u001b[m\r\n",
      "\t\u001b[31m../lesson16/\u001b[m\r\n",
      "\t\u001b[31m../old_home/\u001b[m\r\n",
      "\r\n",
      "no changes added to commit (use \"git add\" and/or \"git commit -a\")\r\n"
     ]
    }
   ],
   "source": [
    "!git status"
   ]
  },
  {
   "cell_type": "code",
   "execution_count": 10,
   "metadata": {},
   "outputs": [
    {
     "name": "stdout",
     "output_type": "stream",
     "text": [
      "M\tusers/aominakov/lesson16_minakovgit.ipynb\r\n",
      "Switched to branch 'aominakov_les14'\r\n"
     ]
    }
   ],
   "source": [
    "!git checkout aominakov_les14"
   ]
  },
  {
   "cell_type": "code",
   "execution_count": 11,
   "metadata": {},
   "outputs": [
    {
     "data": {
      "text/plain": [
       "'/home/jupyter-drrryfox/github/team22/users/aominakov/lesson14'"
      ]
     },
     "execution_count": 11,
     "metadata": {},
     "output_type": "execute_result"
    }
   ],
   "source": [
    "pwd"
   ]
  },
  {
   "cell_type": "code",
   "execution_count": 12,
   "metadata": {},
   "outputs": [],
   "source": [
    "!git add /home/jupyter-drrryfox/github/team22/users/aominakov/lesson14"
   ]
  },
  {
   "cell_type": "code",
   "execution_count": 13,
   "metadata": {},
   "outputs": [
    {
     "name": "stdout",
     "output_type": "stream",
     "text": [
      "On branch aominakov_les14\r\n",
      "Changes to be committed:\r\n",
      "  (use \"git restore --staged <file>...\" to unstage)\r\n",
      "\t\u001b[32mnew file:   lesson14.ipynb\u001b[m\r\n",
      "\t\u001b[32mnew file:   module_todo14.py\u001b[m\r\n",
      "\r\n",
      "Changes not staged for commit:\r\n",
      "  (use \"git add <file>...\" to update what will be committed)\r\n",
      "  (use \"git restore <file>...\" to discard changes in working directory)\r\n",
      "\t\u001b[31mmodified:   lesson14.ipynb\u001b[m\r\n",
      "\t\u001b[31mmodified:   ../lesson16_minakovgit.ipynb\u001b[m\r\n",
      "\r\n",
      "Untracked files:\r\n",
      "  (use \"git add <file>...\" to include in what will be committed)\r\n",
      "\t\u001b[31m../lesson12/\u001b[m\r\n",
      "\t\u001b[31m../lesson16/\u001b[m\r\n",
      "\t\u001b[31m../old_home/\u001b[m\r\n",
      "\r\n"
     ]
    }
   ],
   "source": [
    "!git status"
   ]
  },
  {
   "cell_type": "code",
   "execution_count": 14,
   "metadata": {},
   "outputs": [
    {
     "name": "stdout",
     "output_type": "stream",
     "text": [
      "\r\n",
      "*** Please tell me who you are.\r\n",
      "\r\n",
      "Run\r\n",
      "\r\n",
      "  git config --global user.email \"you@example.com\"\r\n",
      "  git config --global user.name \"Your Name\"\r\n",
      "\r\n",
      "to set your account's default identity.\r\n",
      "Omit --global to set the identity only in this repository.\r\n",
      "\r\n",
      "fatal: empty ident name (for <jupyter-drrryfox@vm6.template>) not allowed\r\n"
     ]
    }
   ],
   "source": [
    "!git commit -m 'lesson14'"
   ]
  },
  {
   "cell_type": "code",
   "execution_count": 15,
   "metadata": {
    "scrolled": true
   },
   "outputs": [
    {
     "name": "stdout",
     "output_type": "stream",
     "text": [
      "fatal: The current branch aominakov_les14 has no upstream branch.\r\n",
      "To push the current branch and set the remote as upstream, use\r\n",
      "\r\n",
      "    git push --set-upstream origin aominakov_les14\r\n",
      "\r\n"
     ]
    }
   ],
   "source": [
    "!git push"
   ]
  },
  {
   "cell_type": "code",
   "execution_count": 17,
   "metadata": {},
   "outputs": [
    {
     "name": "stdout",
     "output_type": "stream",
     "text": [
      "To github.com:amtsu/team22.git\r\n",
      " \u001b[31m! [rejected]       \u001b[m aominakov_les14 -> aominakov_les14 (non-fast-forward)\r\n",
      "\u001b[31merror: failed to push some refs to 'git@github.com:amtsu/team22.git'\r\n",
      "\u001b[m\u001b[33mhint: Updates were rejected because the tip of your current branch is behind\u001b[m\r\n",
      "\u001b[33mhint: its remote counterpart. Integrate the remote changes (e.g.\u001b[m\r\n",
      "\u001b[33mhint: 'git pull ...') before pushing again.\u001b[m\r\n",
      "\u001b[33mhint: See the 'Note about fast-forwards' in 'git push --help' for details.\u001b[m\r\n"
     ]
    }
   ],
   "source": [
    "!git push --set-upstream origin aominakov_les14"
   ]
  },
  {
   "cell_type": "code",
   "execution_count": 18,
   "metadata": {},
   "outputs": [
    {
     "name": "stdout",
     "output_type": "stream",
     "text": [
      "remote: Enumerating objects: 97, done.\u001b[K\n",
      "remote: Counting objects: 100% (97/97), done.\u001b[K\n",
      "remote: Compressing objects: 100% (59/59), done.\u001b[K\n",
      "remote: Total 97 (delta 32), reused 96 (delta 31), pack-reused 0\u001b[K\n",
      "Unpacking objects: 100% (97/97), 209.16 KiB | 892.00 KiB/s, done.\n",
      "From github.com:amtsu/team22\n",
      " * [new branch]      lesson_20  -> origin/lesson_20\n",
      "   c486b64..16f55ae  main       -> origin/main\n",
      "There is no tracking information for the current branch.\n",
      "Please specify which branch you want to merge with.\n",
      "See git-pull(1) for details.\n",
      "\n",
      "    git pull <remote> <branch>\n",
      "\n",
      "If you wish to set tracking information for this branch you can do so with:\n",
      "\n",
      "    git branch --set-upstream-to=origin/<branch> aominakov_les14\n",
      "\n"
     ]
    }
   ],
   "source": [
    "!git pull"
   ]
  },
  {
   "cell_type": "code",
   "execution_count": null,
   "metadata": {},
   "outputs": [],
   "source": []
  },
  {
   "cell_type": "code",
   "execution_count": null,
   "metadata": {},
   "outputs": [],
   "source": []
  }
 ],
 "metadata": {
  "kernelspec": {
   "display_name": "Python 3 (ipykernel)",
   "language": "python",
   "name": "python3"
  },
  "language_info": {
   "codemirror_mode": {
    "name": "ipython",
    "version": 3
   },
   "file_extension": ".py",
   "mimetype": "text/x-python",
   "name": "python",
   "nbconvert_exporter": "python",
   "pygments_lexer": "ipython3",
   "version": "3.9.7"
  }
 },
 "nbformat": 4,
 "nbformat_minor": 2
}
