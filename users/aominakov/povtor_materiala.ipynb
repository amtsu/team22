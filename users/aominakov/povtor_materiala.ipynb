{
 "cells": [
  {
   "cell_type": "code",
   "execution_count": 1,
   "metadata": {},
   "outputs": [],
   "source": [
    "# povtor materiala"
   ]
  },
  {
   "cell_type": "code",
   "execution_count": 2,
   "metadata": {},
   "outputs": [
    {
     "data": {
      "text/plain": [
       "70"
      ]
     },
     "execution_count": 2,
     "metadata": {},
     "output_type": "execute_result"
    }
   ],
   "source": [
    "#poryadok operaciy v skobkah\n",
    "((5 + 30) * 20) / 10"
   ]
  },
  {
   "cell_type": "code",
   "execution_count": 3,
   "metadata": {},
   "outputs": [
    {
     "data": {
      "text/plain": [
       "65"
      ]
     },
     "execution_count": 3,
     "metadata": {},
     "output_type": "execute_result"
    }
   ],
   "source": [
    "#bez skobok\n",
    "5 + 30 * 20 / 10"
   ]
  },
  {
   "cell_type": "code",
   "execution_count": 4,
   "metadata": {},
   "outputs": [
    {
     "name": "stdout",
     "output_type": "stream",
     "text": [
      "200\n"
     ]
    }
   ],
   "source": [
    "fred = 200\n",
    "john = fred\n",
    "print(john)"
   ]
  },
  {
   "cell_type": "code",
   "execution_count": 6,
   "metadata": {},
   "outputs": [
    {
     "data": {
      "text/plain": [
       "3514"
      ]
     },
     "execution_count": 6,
     "metadata": {},
     "output_type": "execute_result"
    }
   ],
   "source": [
    "20 + 10 * 365 - 3 * 52"
   ]
  },
  {
   "cell_type": "code",
   "execution_count": 8,
   "metadata": {},
   "outputs": [
    {
     "data": {
      "text/plain": [
       "3514"
      ]
     },
     "execution_count": 8,
     "metadata": {},
     "output_type": "execute_result"
    }
   ],
   "source": [
    "found_coins = 20\n",
    "magic_coins = 10\n",
    "stolen_coins = 3\n",
    "found_coins + magic_coins * 365 - stolen_coins * 52"
   ]
  },
  {
   "cell_type": "code",
   "execution_count": 9,
   "metadata": {},
   "outputs": [
    {
     "name": "stdout",
     "output_type": "stream",
     "text": [
      "Что едят на полдник динозавры?\n",
      "ТиРекс-кекс!\n"
     ]
    }
   ],
   "source": [
    "fred = '''Что едят на полдник динозавры?\n",
    "ТиРекс-кекс!''' \n",
    "print(fred)\n"
   ]
  },
  {
   "cell_type": "code",
   "execution_count": 10,
   "metadata": {},
   "outputs": [
    {
     "name": "stdout",
     "output_type": "stream",
     "text": [
      "Мой счет: 1000 очков\n"
     ]
    }
   ],
   "source": [
    "#tut ne ponyal %\n",
    "myscore = 1000\n",
    "message = 'Мой счет: %s очков'\n",
    "print(message % myscore)\n"
   ]
  },
  {
   "cell_type": "code",
   "execution_count": 11,
   "metadata": {},
   "outputs": [
    {
     "name": "stdout",
     "output_type": "stream",
     "text": [
      "Коленка: приспособление для поиска мебели втемноте\n",
      "Лодыжка: приспособление для поиска мебели втемноте\n"
     ]
    }
   ],
   "source": [
    "joke_text = '%s: приспособление для поиска мебели втемноте'\n",
    "bodypart1 = 'Коленка'\n",
    "bodypart2 = 'Лодыжка'\n",
    "print(joke_text % bodypart1) \n",
    "print(joke_text % bodypart2)"
   ]
  },
  {
   "cell_type": "code",
   "execution_count": 12,
   "metadata": {},
   "outputs": [
    {
     "name": "stdout",
     "output_type": "stream",
     "text": [
      "Что сказало число 0 числу 8? Славный поясок!\n"
     ]
    }
   ],
   "source": [
    "nums = 'Что сказало число %s числу %s? Славный поясок!'\n",
    "print(nums % (0, 8))"
   ]
  },
  {
   "cell_type": "code",
   "execution_count": 13,
   "metadata": {},
   "outputs": [
    {
     "name": "stdout",
     "output_type": "stream",
     "text": [
      "aaaaaaaaaa\n"
     ]
    }
   ],
   "source": [
    "print(10 * 'a')"
   ]
  },
  {
   "cell_type": "code",
   "execution_count": 15,
   "metadata": {},
   "outputs": [
    {
     "name": "stdout",
     "output_type": "stream",
     "text": [
      "глаз тритона\n"
     ]
    }
   ],
   "source": [
    "#vivod element s index 2\n",
    "wizard_list = ['паучьи лапки', 'жабий палец', 'глаз тритона', 'крыло летучей мыши', 'жир слизня', 'перхоть змеи']\n",
    "print(wizard_list[2])"
   ]
  },
  {
   "cell_type": "code",
   "execution_count": 18,
   "metadata": {},
   "outputs": [
    {
     "name": "stdout",
     "output_type": "stream",
     "text": [
      "['\\xd0\\xbf\\xd0\\xb0\\xd1\\x83\\xd1\\x87\\xd1\\x8c\\xd0\\xb8 \\xd0\\xbb\\xd0\\xb0\\xd0\\xbf\\xd0\\xba\\xd0\\xb8', '\\xd0\\xb6\\xd0\\xb0\\xd0\\xb1\\xd0\\xb8\\xd0\\xb9 \\xd0\\xbf\\xd0\\xb0\\xd0\\xbb\\xd0\\xb5\\xd1\\x86', 'pisos', '\\xd0\\xba\\xd1\\x80\\xd1\\x8b\\xd0\\xbb\\xd0\\xbe \\xd0\\xbb\\xd0\\xb5\\xd1\\x82\\xd1\\x83\\xd1\\x87\\xd0\\xb5\\xd0\\xb9 \\xd0\\xbc\\xd1\\x8b\\xd1\\x88\\xd0\\xb8', '\\xd0\\xb6\\xd0\\xb8\\xd1\\x80 \\xd1\\x81\\xd0\\xbb\\xd0\\xb8\\xd0\\xb7\\xd0\\xbd\\xd1\\x8f', '\\xd0\\xbf\\xd0\\xb5\\xd1\\x80\\xd1\\x85\\xd0\\xbe\\xd1\\x82\\xd1\\x8c \\xd0\\xb7\\xd0\\xbc\\xd0\\xb5\\xd0\\xb8']\n"
     ]
    }
   ],
   "source": [
    "#zamena elementa 2 v spiske\n",
    "wizard_list[2] = 'pisos'\n",
    "print(wizard_list)"
   ]
  },
  {
   "cell_type": "code",
   "execution_count": 19,
   "metadata": {},
   "outputs": [
    {
     "name": "stdout",
     "output_type": "stream",
     "text": [
      "['pisos', '\\xd0\\xba\\xd1\\x80\\xd1\\x8b\\xd0\\xbb\\xd0\\xbe \\xd0\\xbb\\xd0\\xb5\\xd1\\x82\\xd1\\x83\\xd1\\x87\\xd0\\xb5\\xd0\\xb9 \\xd0\\xbc\\xd1\\x8b\\xd1\\x88\\xd0\\xb8', '\\xd0\\xb6\\xd0\\xb8\\xd1\\x80 \\xd1\\x81\\xd0\\xbb\\xd0\\xb8\\xd0\\xb7\\xd0\\xbd\\xd1\\x8f']\n"
     ]
    }
   ],
   "source": [
    "#vivod 'ktvtynjd so 2 do 5\n",
    "print(wizard_list[2:5])"
   ]
  },
  {
   "cell_type": "code",
   "execution_count": 21,
   "metadata": {},
   "outputs": [
    {
     "name": "stdout",
     "output_type": "stream",
     "text": [
      "[7, 'raz', 'otpey', 1, 'raz', 'otesh']\n"
     ]
    }
   ],
   "source": [
    "#spisok mojet soderjat cifry i slova\n",
    "numbers_and_strings = [7, 'raz', 'otpey', 1, 'raz', 'otesh']\n",
    "print(numbers_and_strings)"
   ]
  },
  {
   "cell_type": "code",
   "execution_count": 23,
   "metadata": {},
   "outputs": [
    {
     "name": "stdout",
     "output_type": "stream",
     "text": [
      "['\\xd0\\xbf\\xd0\\xb0\\xd1\\x83\\xd1\\x87\\xd1\\x8c\\xd0\\xb8 \\xd0\\xbb\\xd0\\xb0\\xd0\\xbf\\xd0\\xba\\xd0\\xb8', '\\xd0\\xb6\\xd0\\xb0\\xd0\\xb1\\xd0\\xb8\\xd0\\xb9 \\xd0\\xbf\\xd0\\xb0\\xd0\\xbb\\xd0\\xb5\\xd1\\x86', 'pisos', '\\xd0\\xba\\xd1\\x80\\xd1\\x8b\\xd0\\xbb\\xd0\\xbe \\xd0\\xbb\\xd0\\xb5\\xd1\\x82\\xd1\\x83\\xd1\\x87\\xd0\\xb5\\xd0\\xb9 \\xd0\\xbc\\xd1\\x8b\\xd1\\x88\\xd0\\xb8', '\\xd0\\xb6\\xd0\\xb8\\xd1\\x80 \\xd1\\x81\\xd0\\xbb\\xd0\\xb8\\xd0\\xb7\\xd0\\xbd\\xd1\\x8f', '\\xd0\\xbf\\xd0\\xb5\\xd1\\x80\\xd1\\x85\\xd0\\xbe\\xd1\\x82\\xd1\\x8c \\xd0\\xb7\\xd0\\xbc\\xd0\\xb5\\xd0\\xb8', '\\xd0\\xbc\\xd0\\xb5\\xd0\\xb4\\xd0\\xb2\\xd0\\xb5\\xd0\\xb6\\xd0\\xb8\\xd0\\xb9 \\xd0\\xba\\xd0\\xbe\\xd0\\xb3\\xd0\\xbe\\xd1\\x82\\xd1\\x8c', 'bear leg']\n"
     ]
    }
   ],
   "source": [
    "#dobavit element v spisok\n",
    "wizard_list.append('bear leg')\n",
    "print(wizard_list)"
   ]
  },
  {
   "cell_type": "code",
   "execution_count": 24,
   "metadata": {},
   "outputs": [
    {
     "name": "stdout",
     "output_type": "stream",
     "text": [
      "['\\xd0\\xbf\\xd0\\xb0\\xd1\\x83\\xd1\\x87\\xd1\\x8c\\xd0\\xb8 \\xd0\\xbb\\xd0\\xb0\\xd0\\xbf\\xd0\\xba\\xd0\\xb8', '\\xd0\\xb6\\xd0\\xb0\\xd0\\xb1\\xd0\\xb8\\xd0\\xb9 \\xd0\\xbf\\xd0\\xb0\\xd0\\xbb\\xd0\\xb5\\xd1\\x86', 'pisos', '\\xd0\\xba\\xd1\\x80\\xd1\\x8b\\xd0\\xbb\\xd0\\xbe \\xd0\\xbb\\xd0\\xb5\\xd1\\x82\\xd1\\x83\\xd1\\x87\\xd0\\xb5\\xd0\\xb9 \\xd0\\xbc\\xd1\\x8b\\xd1\\x88\\xd0\\xb8', '\\xd0\\xb6\\xd0\\xb8\\xd1\\x80 \\xd1\\x81\\xd0\\xbb\\xd0\\xb8\\xd0\\xb7\\xd0\\xbd\\xd1\\x8f', '\\xd0\\xbf\\xd0\\xb5\\xd1\\x80\\xd1\\x85\\xd0\\xbe\\xd1\\x82\\xd1\\x8c \\xd0\\xb7\\xd0\\xbc\\xd0\\xb5\\xd0\\xb8', '\\xd0\\xbc\\xd0\\xb5\\xd0\\xb4\\xd0\\xb2\\xd0\\xb5\\xd0\\xb6\\xd0\\xb8\\xd0\\xb9 \\xd0\\xba\\xd0\\xbe\\xd0\\xb3\\xd0\\xbe\\xd1\\x82\\xd1\\x8c', 'bear leg', '111', '222', '333']\n"
     ]
    }
   ],
   "source": [
    "wizard_list.append('111') \n",
    "wizard_list.append('222')\n",
    "wizard_list.append('333') \n",
    "print(wizard_list)"
   ]
  },
  {
   "cell_type": "code",
   "execution_count": 25,
   "metadata": {},
   "outputs": [
    {
     "name": "stdout",
     "output_type": "stream",
     "text": [
      "['\\xd0\\xbf\\xd0\\xb0\\xd1\\x83\\xd1\\x87\\xd1\\x8c\\xd0\\xb8 \\xd0\\xbb\\xd0\\xb0\\xd0\\xbf\\xd0\\xba\\xd0\\xb8', '\\xd0\\xb6\\xd0\\xb0\\xd0\\xb1\\xd0\\xb8\\xd0\\xb9 \\xd0\\xbf\\xd0\\xb0\\xd0\\xbb\\xd0\\xb5\\xd1\\x86', 'pisos', '\\xd0\\xba\\xd1\\x80\\xd1\\x8b\\xd0\\xbb\\xd0\\xbe \\xd0\\xbb\\xd0\\xb5\\xd1\\x82\\xd1\\x83\\xd1\\x87\\xd0\\xb5\\xd0\\xb9 \\xd0\\xbc\\xd1\\x8b\\xd1\\x88\\xd0\\xb8', '\\xd0\\xb6\\xd0\\xb8\\xd1\\x80 \\xd1\\x81\\xd0\\xbb\\xd0\\xb8\\xd0\\xb7\\xd0\\xbd\\xd1\\x8f', '\\xd0\\xbc\\xd0\\xb5\\xd0\\xb4\\xd0\\xb2\\xd0\\xb5\\xd0\\xb6\\xd0\\xb8\\xd0\\xb9 \\xd0\\xba\\xd0\\xbe\\xd0\\xb3\\xd0\\xbe\\xd1\\x82\\xd1\\x8c', 'bear leg', '111', '222', '333']\n"
     ]
    }
   ],
   "source": [
    "#udalit element 5 iz spiska\n",
    "del wizard_list[5]\n",
    "print(wizard_list)"
   ]
  },
  {
   "cell_type": "code",
   "execution_count": 26,
   "metadata": {},
   "outputs": [
    {
     "name": "stdout",
     "output_type": "stream",
     "text": [
      "['\\xd0\\xbf\\xd0\\xb0\\xd1\\x83\\xd1\\x87\\xd1\\x8c\\xd0\\xb8 \\xd0\\xbb\\xd0\\xb0\\xd0\\xbf\\xd0\\xba\\xd0\\xb8', '\\xd0\\xb6\\xd0\\xb0\\xd0\\xb1\\xd0\\xb8\\xd0\\xb9 \\xd0\\xbf\\xd0\\xb0\\xd0\\xbb\\xd0\\xb5\\xd1\\x86', 'pisos', '\\xd0\\xba\\xd1\\x80\\xd1\\x8b\\xd0\\xbb\\xd0\\xbe \\xd0\\xbb\\xd0\\xb5\\xd1\\x82\\xd1\\x83\\xd1\\x87\\xd0\\xb5\\xd0\\xb9 \\xd0\\xbc\\xd1\\x8b\\xd1\\x88\\xd0\\xb8', '\\xd0\\xb6\\xd0\\xb8\\xd1\\x80 \\xd1\\x81\\xd0\\xbb\\xd0\\xb8\\xd0\\xb7\\xd0\\xbd\\xd1\\x8f', '\\xd0\\xbc\\xd0\\xb5\\xd0\\xb4\\xd0\\xb2\\xd0\\xb5\\xd0\\xb6\\xd0\\xb8\\xd0\\xb9 \\xd0\\xba\\xd0\\xbe\\xd0\\xb3\\xd0\\xbe\\xd1\\x82\\xd1\\x8c', '333']\n"
     ]
    }
   ],
   "source": [
    "del wizard_list[8]\n",
    "del wizard_list[7]\n",
    "del wizard_list[6]\n",
    "print(wizard_list)"
   ]
  },
  {
   "cell_type": "code",
   "execution_count": 28,
   "metadata": {},
   "outputs": [
    {
     "name": "stdout",
     "output_type": "stream",
     "text": [
      "[1, 2, 3, 4, 5, 'ya', 'zabralsya', 'pod', 'krovat']\n"
     ]
    }
   ],
   "source": [
    "#summa spiskov snachala perviy potom vtoroy\n",
    "list1 = [1, 2, 3, 4, 5]\n",
    "list2 = ['ya', 'zabralsya', 'pod', 'krovat']\n",
    "print(list1 + list2)"
   ]
  },
  {
   "cell_type": "code",
   "execution_count": 29,
   "metadata": {},
   "outputs": [
    {
     "name": "stdout",
     "output_type": "stream",
     "text": [
      "[1, 2, 1, 2, 1, 2, 1, 2, 1, 2]\n"
     ]
    }
   ],
   "source": [
    "#umnojenie povtoryaet spisok x raz\n",
    "list1 = [1, 2]\n",
    "print(list1 * 5)"
   ]
  },
  {
   "cell_type": "code",
   "execution_count": 30,
   "metadata": {},
   "outputs": [],
   "source": [
    "favorite_sports = ['Ральф Уильямс, Футбол', \n",
    "'Майкл Типпетт, Баскетбол',\n",
    "'Эдвард Элгар, Бейсбол',\n",
    "'Ребекка Кларк, Нетбол', \n",
    "'Этель Смит, Бадминтон', 'Фрэнк Бридж, Регби'] "
   ]
  },
  {
   "cell_type": "code",
   "execution_count": 31,
   "metadata": {},
   "outputs": [],
   "source": [
    "favorite_sports = {'Ральф Уильямс': 'Футбол', 'Майкл Типпетт': 'Баскетбол',\n",
    "'Эдвард Элгар': 'Бейсбол',\n",
    "'Ребекка Кларк': 'Нетбол', \n",
    "'Этель Смит': 'Бадминтон', 'Фрэнк Бридж': 'Регби'} "
   ]
  },
  {
   "cell_type": "code",
   "execution_count": 32,
   "metadata": {},
   "outputs": [
    {
     "name": "stdout",
     "output_type": "stream",
     "text": [
      "Нетбол\n"
     ]
    }
   ],
   "source": [
    "#znachenie po kluchu rebecca\n",
    "print(favorite_sports['Ребекка Кларк'])"
   ]
  },
  {
   "cell_type": "code",
   "execution_count": 33,
   "metadata": {},
   "outputs": [
    {
     "name": "stdout",
     "output_type": "stream",
     "text": [
      "{'\\xd0\\xad\\xd0\\xb4\\xd0\\xb2\\xd0\\xb0\\xd1\\x80\\xd0\\xb4 \\xd0\\xad\\xd0\\xbb\\xd0\\xb3\\xd0\\xb0\\xd1\\x80': '\\xd0\\x91\\xd0\\xb5\\xd0\\xb9\\xd1\\x81\\xd0\\xb1\\xd0\\xbe\\xd0\\xbb', '\\xd0\\xa0\\xd0\\xb5\\xd0\\xb1\\xd0\\xb5\\xd0\\xba\\xd0\\xba\\xd0\\xb0 \\xd0\\x9a\\xd0\\xbb\\xd0\\xb0\\xd1\\x80\\xd0\\xba': '\\xd0\\x9d\\xd0\\xb5\\xd1\\x82\\xd0\\xb1\\xd0\\xbe\\xd0\\xbb', '\\xd0\\xa0\\xd0\\xb0\\xd0\\xbb\\xd1\\x8c\\xd1\\x84 \\xd0\\xa3\\xd0\\xb8\\xd0\\xbb\\xd1\\x8c\\xd1\\x8f\\xd0\\xbc\\xd1\\x81': '\\xd0\\xa4\\xd1\\x83\\xd1\\x82\\xd0\\xb1\\xd0\\xbe\\xd0\\xbb', '\\xd0\\x9c\\xd0\\xb0\\xd0\\xb9\\xd0\\xba\\xd0\\xbb \\xd0\\xa2\\xd0\\xb8\\xd0\\xbf\\xd0\\xbf\\xd0\\xb5\\xd1\\x82\\xd1\\x82': '\\xd0\\x91\\xd0\\xb0\\xd1\\x81\\xd0\\xba\\xd0\\xb5\\xd1\\x82\\xd0\\xb1\\xd0\\xbe\\xd0\\xbb', '\\xd0\\xa4\\xd1\\x80\\xd1\\x8d\\xd0\\xbd\\xd0\\xba \\xd0\\x91\\xd1\\x80\\xd0\\xb8\\xd0\\xb4\\xd0\\xb6': '\\xd0\\xa0\\xd0\\xb5\\xd0\\xb3\\xd0\\xb1\\xd0\\xb8'}\n"
     ]
    }
   ],
   "source": [
    "del favorite_sports['Этель Смит']\n",
    "print(favorite_sports)"
   ]
  },
  {
   "cell_type": "code",
   "execution_count": 34,
   "metadata": {},
   "outputs": [
    {
     "name": "stdout",
     "output_type": "stream",
     "text": [
      "{'\\xd0\\xad\\xd0\\xb4\\xd0\\xb2\\xd0\\xb0\\xd1\\x80\\xd0\\xb4 \\xd0\\xad\\xd0\\xbb\\xd0\\xb3\\xd0\\xb0\\xd1\\x80': '\\xd0\\x91\\xd0\\xb5\\xd0\\xb9\\xd1\\x81\\xd0\\xb1\\xd0\\xbe\\xd0\\xbb', '\\xd0\\xa0\\xd0\\xb5\\xd0\\xb1\\xd0\\xb5\\xd0\\xba\\xd0\\xba\\xd0\\xb0 \\xd0\\x9a\\xd0\\xbb\\xd0\\xb0\\xd1\\x80\\xd0\\xba': '\\xd0\\x9d\\xd0\\xb5\\xd1\\x82\\xd0\\xb1\\xd0\\xbe\\xd0\\xbb', '\\xd0\\xa0\\xd0\\xb0\\xd0\\xbb\\xd1\\x8c\\xd1\\x84 \\xd0\\xa3\\xd0\\xb8\\xd0\\xbb\\xd1\\x8c\\xd1\\x8f\\xd0\\xbc\\xd1\\x81': '\\xd0\\xa5\\xd0\\xbe\\xd0\\xba\\xd0\\xba\\xd0\\xb5\\xd0\\xb9 \\xd0\\xbd\\xd0\\xb0\\xd0\\xbb\\xd1\\x8c\\xd0\\xb4\\xd1\\x83', '\\xd0\\x9c\\xd0\\xb0\\xd0\\xb9\\xd0\\xba\\xd0\\xbb \\xd0\\xa2\\xd0\\xb8\\xd0\\xbf\\xd0\\xbf\\xd0\\xb5\\xd1\\x82\\xd1\\x82': '\\xd0\\x91\\xd0\\xb0\\xd1\\x81\\xd0\\xba\\xd0\\xb5\\xd1\\x82\\xd0\\xb1\\xd0\\xbe\\xd0\\xbb', '\\xd0\\xa4\\xd1\\x80\\xd1\\x8d\\xd0\\xbd\\xd0\\xba \\xd0\\x91\\xd1\\x80\\xd0\\xb8\\xd0\\xb4\\xd0\\xb6': '\\xd0\\xa0\\xd0\\xb5\\xd0\\xb3\\xd0\\xb1\\xd0\\xb8'}\n"
     ]
    }
   ],
   "source": [
    "favorite_sports['Ральф Уильямс'] = 'Хоккей нальду'\n",
    "print(favorite_sports)"
   ]
  },
  {
   "cell_type": "code",
   "execution_count": 37,
   "metadata": {},
   "outputs": [
    {
     "name": "stdout",
     "output_type": "stream",
     "text": [
      "Тсс! Это секрет.\n",
      "Что сказал 0 числу 8?\n",
      "Привет, ребята!\n",
      "13 + 49 + 84 + 155 + 97: что получится? Головная боль!\n",
      "13 + 49 + 84 + 155 + 97: что получится? Головная боль!\n"
     ]
    }
   ],
   "source": [
    "#uslovie\n",
    "age = 13\n",
    "if age > 20:\n",
    "    print('Как-то вы староваты!')\n",
    "    \n",
    "age = 10\n",
    "if age > 10:\n",
    "    print('Вы слишком стары для моих шуток!')\n",
    "    \n",
    "age = 8\n",
    "if age == 12:\n",
    "    print(\"Свинья шлепнулась в грязь!\")\n",
    "else:\n",
    "    print(\"Тсс! Это секрет.\")\n",
    "    \n",
    "age = 12\n",
    "if age == 10:\n",
    "    print(\"Что выйдет, если клюква наденет штаны?\")\n",
    "    print(\"Брюква!\")\n",
    "elif age == 11:\n",
    "    print(\"Что сказала зеленая виноградина синей виноградине?\")\n",
    "    print(\"Дыши! Дыши!\") \n",
    "elif age == 12:\n",
    "    print(\"Что сказал 0 числу 8?\")\n",
    "    print(\"Привет, ребята!\")\n",
    "elif age == 13:\n",
    "    print(\"Что такое: напотолке сидит ихохочет?\")\n",
    "    print(\"Муха-хохотуха!\") \n",
    "else: \n",
    "    print(\"Что-что?\")\n",
    "if age == 10 or age == 11 or age == 12 or age == 13:\n",
    "    print('13 + 49 + 84 + 155 + 97: что получится? Головная боль!') \n",
    "else: \n",
    "    print('Что-что?')\n",
    "\n",
    "if age >= 10 and age <= 13:\n",
    "    print('13 + 49 + 84 + 155 + 97: что получится? Головная боль!') \n",
    "else: \n",
    "    print('Что-что?')\n",
    "\n"
   ]
  },
  {
   "cell_type": "code",
   "execution_count": 38,
   "metadata": {},
   "outputs": [
    {
     "name": "stdout",
     "output_type": "stream",
     "text": [
      "None\n",
      "В переменной myval ничего нет\n"
     ]
    }
   ],
   "source": [
    "myval = None\n",
    "print(myval)\n",
    "\n",
    "myval = None\n",
    "if myval == None:\n",
    "    print(\"В переменной myval ничего нет\")"
   ]
  },
  {
   "cell_type": "code",
   "execution_count": 39,
   "metadata": {},
   "outputs": [
    {
     "name": "stdout",
     "output_type": "stream",
     "text": [
      "Как лучше всего общаться смонстром?\n",
      "Издалека!\n"
     ]
    }
   ],
   "source": [
    "age = 10\n",
    "if age == 10:\n",
    "    print(\"Как лучше всего общаться смонстром?\") \n",
    "    print(\"Издалека!\")"
   ]
  },
  {
   "cell_type": "code",
   "execution_count": 40,
   "metadata": {},
   "outputs": [],
   "source": [
    "#10 eto stroka\n",
    "age = '10'\n",
    "if age == 10:\n",
    "    print(\"Как лучше всего общаться смонстром?\")\n",
    "    print(\"Издалека!\") "
   ]
  },
  {
   "cell_type": "code",
   "execution_count": 41,
   "metadata": {},
   "outputs": [],
   "source": [
    "age = '10'\n",
    "converted_age = int(age)"
   ]
  },
  {
   "cell_type": "code",
   "execution_count": 42,
   "metadata": {},
   "outputs": [],
   "source": [
    "age = 10 \n",
    "converted_age = str(age)"
   ]
  },
  {
   "cell_type": "code",
   "execution_count": 43,
   "metadata": {},
   "outputs": [],
   "source": [
    "age = '10'\n",
    "converted_age = int(age)"
   ]
  },
  {
   "cell_type": "code",
   "execution_count": 44,
   "metadata": {},
   "outputs": [
    {
     "name": "stdout",
     "output_type": "stream",
     "text": [
      "Как лучше всего общаться смонстром?\n",
      "Издалека!\n"
     ]
    }
   ],
   "source": [
    "if converted_age == 10:\n",
    "    print(\"Как лучше всего общаться смонстром?\")\n",
    "    print(\"Издалека!\") "
   ]
  },
  {
   "cell_type": "code",
   "execution_count": 45,
   "metadata": {},
   "outputs": [
    {
     "ename": "ValueError",
     "evalue": "invalid literal for int() with base 10: '10.5'",
     "output_type": "error",
     "traceback": [
      "\u001b[0;31m---------------------------------------------------------------------------\u001b[0m",
      "\u001b[0;31mValueError\u001b[0m                                Traceback (most recent call last)",
      "\u001b[0;32m<ipython-input-45-d27c1d8c5594>\u001b[0m in \u001b[0;36m<module>\u001b[0;34m()\u001b[0m\n\u001b[1;32m      1\u001b[0m \u001b[0mage\u001b[0m \u001b[0;34m=\u001b[0m \u001b[0;34m'10.5'\u001b[0m\u001b[0;34m\u001b[0m\u001b[0m\n\u001b[0;32m----> 2\u001b[0;31m \u001b[0mconverted_age\u001b[0m \u001b[0;34m=\u001b[0m \u001b[0mint\u001b[0m\u001b[0;34m(\u001b[0m\u001b[0mage\u001b[0m\u001b[0;34m)\u001b[0m\u001b[0;34m\u001b[0m\u001b[0m\n\u001b[0m\u001b[1;32m      3\u001b[0m \u001b[0;34m\u001b[0m\u001b[0m\n\u001b[1;32m      4\u001b[0m \u001b[0mage\u001b[0m \u001b[0;34m=\u001b[0m \u001b[0;34m'10.5'\u001b[0m\u001b[0;34m\u001b[0m\u001b[0m\n\u001b[1;32m      5\u001b[0m \u001b[0mconverted_age\u001b[0m \u001b[0;34m=\u001b[0m \u001b[0mfloat\u001b[0m\u001b[0;34m(\u001b[0m\u001b[0mage\u001b[0m\u001b[0;34m)\u001b[0m\u001b[0;34m\u001b[0m\u001b[0m\n",
      "\u001b[0;31mValueError\u001b[0m: invalid literal for int() with base 10: '10.5'"
     ]
    }
   ],
   "source": [
    "age = '10.5'\n",
    "converted_age = int(age)\n",
    "\n",
    "age = '10.5'\n",
    "converted_age = float(age)\n",
    "print(converted_age)\n",
    "\n",
    "age = 'десять'\n",
    "converted_age = int(age)"
   ]
  },
  {
   "cell_type": "code",
   "execution_count": 46,
   "metadata": {},
   "outputs": [
    {
     "name": "stdout",
     "output_type": "stream",
     "text": [
      "привет\n",
      "привет\n",
      "привет\n",
      "привет\n",
      "привет\n"
     ]
    }
   ],
   "source": [
    "for x in range(0, 5): \n",
    "    print('привет')"
   ]
  },
  {
   "cell_type": "code",
   "execution_count": 47,
   "metadata": {},
   "outputs": [
    {
     "name": "stdout",
     "output_type": "stream",
     "text": [
      "[10, 11, 12, 13, 14, 15, 16, 17, 18, 19]\n"
     ]
    }
   ],
   "source": [
    "#generiruet spisok ot 10 do 20 s shagom 1\n",
    "print(list(range(10, 20)))"
   ]
  },
  {
   "cell_type": "code",
   "execution_count": 48,
   "metadata": {},
   "outputs": [
    {
     "name": "stdout",
     "output_type": "stream",
     "text": [
      "привет 0\n",
      "привет 1\n",
      "привет 2\n",
      "привет 3\n",
      "привет 4\n"
     ]
    }
   ],
   "source": [
    "for x in range(0, 5):\n",
    "    print('привет %s' % x)"
   ]
  },
  {
   "cell_type": "code",
   "execution_count": 50,
   "metadata": {},
   "outputs": [
    {
     "name": "stdout",
     "output_type": "stream",
     "text": [
      "паучьи лапки\n",
      "жабий палец\n",
      "язык улитки\n",
      "крыло летучеи мыши\n",
      "жир слизня\n",
      "медвежии коготь\n"
     ]
    }
   ],
   "source": [
    "wizard_list = ['паучьи лапки', 'жабий палец', 'язык улитки', 'крыло летучеи мыши', 'жир слизня', 'медвежии коготь'] \n",
    "for i in wizard_list:\n",
    "    print(i)"
   ]
  },
  {
   "cell_type": "code",
   "execution_count": 54,
   "metadata": {},
   "outputs": [
    {
     "name": "stdout",
     "output_type": "stream",
     "text": [
      "огромные\n",
      "огромные\n",
      "волосатые\n",
      "штаны\n",
      "волосатые\n",
      "огромные\n",
      "волосатые\n",
      "штаны\n",
      "штаны\n",
      "огромные\n",
      "волосатые\n",
      "штаны\n"
     ]
    }
   ],
   "source": [
    "#dlya kajdogo i budet pridelan ves spisok j\n",
    "hugehairypants = ['огромные', 'волосатые', 'штаны']\n",
    "for i in hugehairypants:\n",
    "    print(i)\n",
    "    for j in hugehairypants:\n",
    "        print(j)"
   ]
  },
  {
   "cell_type": "code",
   "execution_count": 55,
   "metadata": {},
   "outputs": [
    {
     "name": "stdout",
     "output_type": "stream",
     "text": [
      "Неделя 1 = 87\n",
      "Неделя 2 = 154\n",
      "Неделя 3 = 221\n",
      "Неделя 4 = 288\n"
     ]
    }
   ],
   "source": [
    "found_coins = 20\n",
    "magic_coins = 70\n",
    "stolen_coins = 3\n",
    "coins = found_coins\n",
    "for week in range(1, 5):\n",
    "        coins = coins + magic_coins - stolen_coins\n",
    "        print('Неделя %s = %s' % (week, coins))\n"
   ]
  },
  {
   "cell_type": "code",
   "execution_count": 56,
   "metadata": {},
   "outputs": [
    {
     "name": "stdout",
     "output_type": "stream",
     "text": [
      "(46, 81)\n",
      "(47, 82)\n",
      "(48, 83)\n",
      "(49, 84)\n",
      "(50, 85)\n"
     ]
    }
   ],
   "source": [
    "x = 45\n",
    "y = 80\n",
    "while x < 50 and y < 100: \n",
    "    x = x+ 1\n",
    "    y = y+ 1 \n",
    "    print(x, y) "
   ]
  },
  {
   "cell_type": "code",
   "execution_count": 57,
   "metadata": {},
   "outputs": [
    {
     "name": "stdout",
     "output_type": "stream",
     "text": [
      "привет 0\n"
     ]
    }
   ],
   "source": [
    "for x in range(0, 20):\n",
    "    print('привет %s' % x)\n",
    "    if x < 9:\n",
    "        break "
   ]
  },
  {
   "cell_type": "code",
   "execution_count": 58,
   "metadata": {},
   "outputs": [
    {
     "name": "stdout",
     "output_type": "stream",
     "text": [
      "Привет, Мэри\n"
     ]
    }
   ],
   "source": [
    "def testfunc(myname):\n",
    "              print('Привет, %s' % myname)\n",
    "testfunc('Мэри')"
   ]
  },
  {
   "cell_type": "code",
   "execution_count": 59,
   "metadata": {},
   "outputs": [
    {
     "name": "stdout",
     "output_type": "stream",
     "text": [
      "Привет, Мэри Смит\n"
     ]
    }
   ],
   "source": [
    "def testfunc(fname, lname):\n",
    "              print('Привет, %s %s' % (fname, lname))\n",
    "testfunc('Мэри', 'Смит')\n"
   ]
  },
  {
   "cell_type": "code",
   "execution_count": 61,
   "metadata": {},
   "outputs": [
    {
     "name": "stdout",
     "output_type": "stream",
     "text": [
      "15\n"
     ]
    }
   ],
   "source": [
    "def savings(pocket_money, paper_route, spending):\n",
    "              return pocket_money + paper_route - spending\n",
    "print(savings(10, 10, 5))"
   ]
  },
  {
   "cell_type": "code",
   "execution_count": 62,
   "metadata": {},
   "outputs": [
    {
     "name": "stdout",
     "output_type": "stream",
     "text": [
      "Sun Oct  2 18:19:20 2022\n"
     ]
    }
   ],
   "source": [
    "import time\n",
    "print(time.asctime())"
   ]
  },
  {
   "cell_type": "code",
   "execution_count": 64,
   "metadata": {},
   "outputs": [
    {
     "name": "stdout",
     "output_type": "stream",
     "text": [
      "['bike', 'ski', 'walk', 'pizza', 'pasta', 'wine']\n"
     ]
    }
   ],
   "source": [
    "games = ['bike', 'ski', 'walk']\n",
    "foods = ['pizza', 'pasta', 'wine']\n",
    "favorites = games + foods\n",
    "print(favorites)\n"
   ]
  },
  {
   "cell_type": "code",
   "execution_count": 69,
   "metadata": {},
   "outputs": [
    {
     "name": "stdout",
     "output_type": "stream",
     "text": [
      "155\n"
     ]
    }
   ],
   "source": [
    "dom = 3\n",
    "ninja = 25\n",
    "tunnel = 2\n",
    "samurai = 40\n",
    "all_warriors = (dom * ninja) + (tunnel * samurai)\n",
    "print(all_warriors)"
   ]
  },
  {
   "cell_type": "code",
   "execution_count": 70,
   "metadata": {},
   "outputs": [
    {
     "ename": "NameError",
     "evalue": "name 'andrey' is not defined",
     "output_type": "error",
     "traceback": [
      "\u001b[0;31m---------------------------------------------------------------------------\u001b[0m",
      "\u001b[0;31mNameError\u001b[0m                                 Traceback (most recent call last)",
      "\u001b[0;32m<ipython-input-70-61a11c7ebd9d>\u001b[0m in \u001b[0;36m<module>\u001b[0;34m()\u001b[0m\n\u001b[0;32m----> 1\u001b[0;31m \u001b[0mfn\u001b[0m \u001b[0;34m=\u001b[0m \u001b[0mandrey\u001b[0m\u001b[0;34m\u001b[0m\u001b[0m\n\u001b[0m",
      "\u001b[0;31mNameError\u001b[0m: name 'andrey' is not defined"
     ]
    }
   ],
   "source": [
    "fn = andrey\n",
    "ln = minakov\n",
    "print('privet, %')"
   ]
  },
  {
   "cell_type": "code",
   "execution_count": 78,
   "metadata": {},
   "outputs": [
    {
     "name": "stdout",
     "output_type": "stream",
     "text": [
      "Я не богат!\n",
      "Может, когда-нибудь потом...\n"
     ]
    }
   ],
   "source": [
    "money = 200\n",
    "if money > 1000:\n",
    "     print(\"Я богат!\")\n",
    "else: \n",
    "     print(\"Я не богат!\")\n",
    "     print(\"Может, когда-нибудь потом...\")"
   ]
  },
  {
   "cell_type": "code",
   "execution_count": 75,
   "metadata": {},
   "outputs": [
    {
     "name": "stdout",
     "output_type": "stream",
     "text": [
      "otsosi u traktorista\n"
     ]
    }
   ],
   "source": [
    "twinkies = 300\n",
    "if 100 < twinkies < 500:\n",
    "    print('otsosi u traktorista')"
   ]
  },
  {
   "cell_type": "code",
   "execution_count": 77,
   "metadata": {},
   "outputs": [
    {
     "name": "stdout",
     "output_type": "stream",
     "text": [
      "otsosi u traktorista\n"
     ]
    }
   ],
   "source": [
    "twinkies = 3000\n",
    "if 100 < twinkies < 500 or 1000 < twinkies < 5000:\n",
    "    print('otsosi u traktorista')"
   ]
  },
  {
   "cell_type": "code",
   "execution_count": 83,
   "metadata": {},
   "outputs": [
    {
     "name": "stdout",
     "output_type": "stream",
     "text": [
      "im pizda\n"
     ]
    }
   ],
   "source": [
    "ninja = 5\n",
    "if ninja < 10:\n",
    "     print('im pizda')\n",
    "elif ninja < 30:\n",
    "     print('slozhno')\n",
    "elif ninja < 50:\n",
    "    print('mnogo')\n",
    "\n",
    "    "
   ]
  },
  {
   "cell_type": "code",
   "execution_count": 86,
   "metadata": {},
   "outputs": [
    {
     "name": "stdout",
     "output_type": "stream",
     "text": [
      "привет 0\n",
      "привет 1\n",
      "привет 2\n",
      "привет 3\n"
     ]
    }
   ],
   "source": [
    "for x in range(0, 20):\n",
    "    print('привет %s' % x)\n",
    "    if x == 3:\n",
    "        break "
   ]
  },
  {
   "cell_type": "code",
   "execution_count": 89,
   "metadata": {},
   "outputs": [
    {
     "name": "stdout",
     "output_type": "stream",
     "text": [
      "1\n",
      "3\n",
      "5\n",
      "7\n",
      "9\n",
      "11\n",
      "13\n",
      "15\n",
      "17\n",
      "19\n",
      "21\n",
      "23\n",
      "25\n",
      "27\n",
      "29\n",
      "31\n",
      "33\n"
     ]
    }
   ],
   "source": [
    "for x in range(1, 34, 2):\n",
    "    print (x)\n",
    "    if x == 33:\n",
    "        break "
   ]
  },
  {
   "cell_type": "code",
   "execution_count": 101,
   "metadata": {},
   "outputs": [
    {
     "name": "stdout",
     "output_type": "stream",
     "text": [
      "(0, 'bread')\n",
      "(1, 'cheese')\n",
      "(2, 'mayo')\n",
      "(3, 'meat')\n",
      "(4, 'tomato')\n"
     ]
    }
   ],
   "source": [
    "ing = ['bread', 'cheese', 'mayo', 'meat', 'tomato']\n",
    "for i in range(0, 5):\n",
    "    print(i % x, ing[i])"
   ]
  },
  {
   "cell_type": "code",
   "execution_count": 127,
   "metadata": {},
   "outputs": [
    {
     "name": "stdout",
     "output_type": "stream",
     "text": [
      "(1, 13.200000000000001)\n",
      "(2, 13.365)\n",
      "(3, 13.530000000000001)\n",
      "(4, 13.695)\n",
      "(5, 13.860000000000001)\n",
      "(6, 14.025)\n",
      "(7, 14.190000000000001)\n",
      "(8, 14.355)\n",
      "(9, 14.520000000000001)\n",
      "(10, 14.685)\n",
      "(11, 14.850000000000001)\n",
      "(12, 15.015)\n",
      "(13, 15.180000000000001)\n",
      "(14, 15.345)\n",
      "(15, 15.510000000000002)\n"
     ]
    }
   ],
   "source": [
    "earthw = 80 \n",
    "moon = 0.165 \n",
    "for year in range (1, 16): \n",
    "    g = earthw * moon \n",
    "    earthw = earthw + 1 \n",
    "    print (year, g)"
   ]
  },
  {
   "cell_type": "code",
   "execution_count": 128,
   "metadata": {},
   "outputs": [
    {
     "name": "stdout",
     "output_type": "stream",
     "text": [
      "(1, 13.200000000000001)\n",
      "(2, 13.365)\n",
      "(3, 13.530000000000001)\n",
      "(4, 13.695)\n",
      "(5, 13.860000000000001)\n",
      "(6, 14.025)\n",
      "(7, 14.190000000000001)\n",
      "(8, 14.355)\n",
      "(9, 14.520000000000001)\n",
      "(10, 14.685)\n",
      "(11, 14.850000000000001)\n",
      "(12, 15.015)\n",
      "(13, 15.180000000000001)\n",
      "(14, 15.345)\n",
      "(15, 15.510000000000002)\n"
     ]
    }
   ],
   "source": [
    "def moonw(earthw, fat):\n",
    "    for year in range (1, 16): \n",
    "        g = earthw * 0.165 \n",
    "        earthw = earthw + fat \n",
    "        print (year, g)\n",
    "        \n",
    "moonw(80, 1)\n"
   ]
  },
  {
   "cell_type": "code",
   "execution_count": 129,
   "metadata": {},
   "outputs": [
    {
     "name": "stdout",
     "output_type": "stream",
     "text": [
      "(1, 13.200000000000001)\n",
      "(2, 13.365)\n",
      "(3, 13.530000000000001)\n",
      "(4, 13.695)\n",
      "(5, 13.860000000000001)\n",
      "(6, 14.025)\n",
      "(7, 14.190000000000001)\n",
      "(8, 14.355)\n",
      "(9, 14.520000000000001)\n",
      "(10, 14.685)\n",
      "(11, 14.850000000000001)\n",
      "(12, 15.015)\n",
      "(13, 15.180000000000001)\n"
     ]
    }
   ],
   "source": [
    "def moonw(earthw, fat, year):\n",
    "    for year in range (1, year+1): \n",
    "        g = earthw * 0.165 \n",
    "        earthw = earthw + fat \n",
    "        print (year, g)\n",
    "        \n",
    "moonw(80, 1, 13)"
   ]
  },
  {
   "cell_type": "code",
   "execution_count": 139,
   "metadata": {},
   "outputs": [
    {
     "data": {
      "text/plain": [
       "u'/home/aominakov/github/team22'"
      ]
     },
     "execution_count": 139,
     "metadata": {},
     "output_type": "execute_result"
    }
   ],
   "source": [
    "pwd\n"
   ]
  },
  {
   "cell_type": "code",
   "execution_count": 140,
   "metadata": {},
   "outputs": [
    {
     "name": "stdout",
     "output_type": "stream",
     "text": [
      "/home/aominakov/github/team22/users/aominakov\n"
     ]
    }
   ],
   "source": [
    "cd /home/aominakov/github/team22/users/aominakov"
   ]
  },
  {
   "cell_type": "code",
   "execution_count": 145,
   "metadata": {},
   "outputs": [
    {
     "name": "stdout",
     "output_type": "stream",
     "text": [
      "On branch aominakov_v3\r\n",
      "Changes not staged for commit:\r\n",
      "  (use \"git add <file>...\" to update what will be committed)\r\n",
      "  (use \"git checkout -- <file>...\" to discard changes in working directory)\r\n",
      "\r\n",
      "\t\u001b[31mmodified:   homework_git.ipynb\u001b[m\r\n",
      "\r\n",
      "Untracked files:\r\n",
      "  (use \"git add <file>...\" to include in what will be committed)\r\n",
      "\r\n",
      "\t\u001b[31m.ipynb_checkpoints/\u001b[m\r\n",
      "\r\n",
      "no changes added to commit (use \"git add\" and/or \"git commit -a\")\r\n"
     ]
    }
   ],
   "source": [
    "!git status"
   ]
  },
  {
   "cell_type": "code",
   "execution_count": 146,
   "metadata": {},
   "outputs": [
    {
     "name": "stdout",
     "output_type": "stream",
     "text": [
      "homework_git.ipynb  README.md\r\n"
     ]
    }
   ],
   "source": [
    "!ls"
   ]
  },
  {
   "cell_type": "code",
   "execution_count": 148,
   "metadata": {},
   "outputs": [
    {
     "name": "stdout",
     "output_type": "stream",
     "text": [
      "total 300\r\n",
      "drwxr-xr-x 10 aominakov education  4096 Oct  2 22:09 .\r\n",
      "drwxr-xr-x 19 root      root       4096 Sep  7 18:48 ..\r\n",
      "drwxr-xr-x  2 aominakov education  4096 Sep 18 21:42 aminakov\r\n",
      "-rw-r--r--  1 aominakov education  9538 Sep 14 10:48 aochernyshev_lesson_1_work_1.ipynb\r\n",
      "-rw-------  1 aominakov education  1407 Sep 27 12:45 .bash_history\r\n",
      "-rw-r--r--  1 aominakov education   220 Sep  1  2015 .bash_logout\r\n",
      "-rw-r--r--  1 aominakov education  3771 Sep  1  2015 .bashrc\r\n",
      "drwx------  2 aominakov education  4096 Sep  6 18:03 .cache\r\n",
      "-rw-r--r--  1 aominakov education    50 Sep 18 21:12 .gitconfig\r\n",
      "drwxr-xr-x  4 aominakov education  4096 Sep 21 22:30 github\r\n",
      "-rw-r--r--  1 aominakov education 19652 Oct  2 19:33 git.ipynb\r\n",
      "-rw-r--r--  1 aominakov education 24277 Sep 28 20:33 homework_minakov.ipynb\r\n",
      "-rw-r--r--  1 aominakov education   134 Sep 28 20:25 in.txt\r\n",
      "drwxr-xr-x  2 aominakov education  4096 Oct  2 21:50 .ipynb_checkpoints\r\n",
      "drwxr-xr-x  5 aominakov education  4096 Sep  7 19:14 .ipython\r\n",
      "drwxr-xr-x  2 aominakov education  4096 Sep 10 11:12 .jupyter\r\n",
      "-rw-r--r--  1 aominakov education 25624 Sep 10 12:50 lesson_1.ipynb\r\n",
      "-rw-r--r--  1 aominakov education  8202 Sep 10 13:11 lesson_1_work_1.ipynb\r\n",
      "-rw-r--r--  1 aominakov education  9742 Sep 17 22:22 lesson_1_work_1_new.ipynb\r\n",
      "-rw-r--r--  1 aominakov education  9742 Sep 17 23:22 lesson_1_work_1_v3.ipynb\r\n",
      "drwx------  3 aominakov education  4096 Sep  6 18:03 .local\r\n",
      "-rw-r--r--  1 aominakov education 24150 Sep 14 12:15 mvandreeva_lesson_1_work_1.ipynb\r\n",
      "-rw-r--r--  1 aominakov education 36392 Oct  2 22:09 povtor_materiala.ipynb\r\n",
      "-rw-r--r--  1 aominakov education   655 Jul 12  2019 .profile\r\n",
      "-rw-r--r--  1 aominakov education  7516 Sep 27 16:13 random_things.ipynb\r\n",
      "-rw-r--r--  1 aominakov education 20307 Sep 14 10:48 sivanov_lesson_1_work_1.ipynb\r\n",
      "drwx------  2 aominakov education  4096 Sep 18 20:26 .ssh\r\n",
      "-rw-r--r--  1 aominakov education  1350 Sep 27 16:14 Untitled1.ipynb\r\n",
      "-rw-r--r--  1 aominakov education 22120 Sep 25 21:21 Untitled.ipynb\r\n"
     ]
    }
   ],
   "source": [
    "!ls -la /home/aominakov"
   ]
  },
  {
   "cell_type": "code",
   "execution_count": null,
   "metadata": {},
   "outputs": [],
   "source": []
  },
  {
   "cell_type": "code",
   "execution_count": null,
   "metadata": {},
   "outputs": [],
   "source": []
  },
  {
   "cell_type": "code",
   "execution_count": null,
   "metadata": {},
   "outputs": [],
   "source": []
  },
  {
   "cell_type": "code",
   "execution_count": null,
   "metadata": {},
   "outputs": [],
   "source": []
  },
  {
   "cell_type": "code",
   "execution_count": null,
   "metadata": {},
   "outputs": [],
   "source": []
  },
  {
   "cell_type": "code",
   "execution_count": null,
   "metadata": {},
   "outputs": [],
   "source": []
  },
  {
   "cell_type": "code",
   "execution_count": null,
   "metadata": {},
   "outputs": [],
   "source": []
  }
 ],
 "metadata": {
  "kernelspec": {
   "display_name": "Python 2",
   "language": "python",
   "name": "python2"
  },
  "language_info": {
   "codemirror_mode": {
    "name": "ipython",
    "version": 2
   },
   "file_extension": ".py",
   "mimetype": "text/x-python",
   "name": "python",
   "nbconvert_exporter": "python",
   "pygments_lexer": "ipython2",
   "version": "2.7.12"
  }
 },
 "nbformat": 4,
 "nbformat_minor": 2
}
