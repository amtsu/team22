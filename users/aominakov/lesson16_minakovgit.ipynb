{
 "cells": [
  {
   "cell_type": "code",
   "execution_count": 2,
   "metadata": {},
   "outputs": [],
   "source": [
    "import urllib"
   ]
  },
  {
   "cell_type": "code",
   "execution_count": 3,
   "metadata": {},
   "outputs": [],
   "source": [
    "import pip"
   ]
  },
  {
   "cell_type": "code",
   "execution_count": 4,
   "metadata": {},
   "outputs": [
    {
     "name": "stdout",
     "output_type": "stream",
     "text": [
      "\u001b[33mDEPRECATION: Python 2.7 reached the end of its life on January 1st, 2020. Please upgrade your Python as Python 2.7 is no longer maintained. pip 21.0 will drop support for Python 2.7 in January 2021. More details about Python 2 support in pip can be found at https://pip.pypa.io/en/latest/development/release-process/#python-2-support pip 21.0 will remove support for this functionality.\u001b[0m\n",
      "amqp==1.4.9\n",
      "amqplib==0.6.1\n",
      "anyjson==0.3.3\n",
      "attrs==21.4.0\n",
      "backports-abc==0.5\n",
      "backports.functools-lru-cache==1.6.4\n",
      "backports.shutil-get-terminal-size==1.0.0\n",
      "beautifulsoup4==4.9.3\n",
      "billiard==3.3.0.23\n",
      "bleach==3.3.1\n",
      "bs4==0.0.1\n",
      "celery==3.1.26.post2\n",
      "certifi==2019.11.28\n",
      "chardet==3.0.4\n",
      "configparser==4.0.2\n",
      "contextlib2==0.6.0.post1\n",
      "decorator==4.4.2\n",
      "defusedxml==0.7.1\n",
      "Django==1.9\n",
      "django-celery==3.3.1\n",
      "django-debug-toolbar==0.9.4\n",
      "django-extensions==2.2.9\n",
      "django-hosts==2.0\n",
      "django-picklefield==0.1.9\n",
      "django-social-auth==0.7.0\n",
      "djangorestframework==3.0.4\n",
      "dnspython==1.12.0\n",
      "dotenv==0.0.5\n",
      "entrypoints==0.3\n",
      "enum34==1.1.10\n",
      "functools32==3.2.3.post2\n",
      "futures==3.0.5\n",
      "gevent==1.1.0\n",
      "gprof2dot==2017.9.19\n",
      "graphviz==0.14\n",
      "greenlet==0.4.9\n",
      "httplib2==0.7.4\n",
      "idna==2.9\n",
      "image==1.5.28\n",
      "importlib-metadata==2.1.3\n",
      "iniparse==0.3.1\n",
      "ipaddress==1.0.23\n",
      "ipykernel==4.10.1\n",
      "ipython==5.10.0\n",
      "ipython-genutils==0.2.0\n",
      "ipywidgets==7.7.2\n",
      "Jinja2==2.11.3\n",
      "jsonschema==3.2.0\n",
      "jupyter==1.0.0\n",
      "jupyter-client==5.3.5\n",
      "jupyter-console==5.2.0\n",
      "jupyter-core==4.6.3\n",
      "jupyterlab==0.33.12\n",
      "jupyterlab-launcher==0.11.2\n",
      "kombu==3.0.37\n",
      "MarkupSafe==1.1.1\n",
      "mcstatus==2.0\n",
      "mistune==0.8.4\n",
      "mysqlclient==1.3.7\n",
      "nbconvert==5.6.1\n",
      "nbformat==4.4.0\n",
      "notebook==5.7.15\n",
      "oauth2==1.5.211\n",
      "packaging==20.9\n",
      "pandocfilters==1.5.0\n",
      "pathlib2==2.3.7.post1\n",
      "pexpect==4.8.0\n",
      "pickleshare==0.7.5\n",
      "Pillow==6.2.2\n",
      "poster==0.8.1\n",
      "prometheus-client==0.12.0\n",
      "prompt-toolkit==1.0.18\n",
      "ptyprocess==0.7.0\n",
      "pydotplus==2.0.2\n",
      "Pygments==2.5.2\n",
      "PyMySQL==0.9.3\n",
      "pyparsing==2.4.7\n",
      "pyrsistent==0.16.1\n",
      "python-dateutil==2.8.2\n",
      "python-dotenv==0.15.0\n",
      "python-openid==2.2.5\n",
      "pytz==2014.10\n",
      "pyzmq==19.0.2\n",
      "qtconsole==4.7.7\n",
      "QtPy==1.11.3\n",
      "requests==2.23.0\n",
      "scandir==1.10.0\n",
      "Send2Trash==1.8.0\n",
      "sentry-sdk==1.0.0\n",
      "simplegeneric==0.8.1\n",
      "simplejson==3.17.0\n",
      "singledispatch==3.7.0\n",
      "six==1.8.0\n",
      "soupsieve==1.9.6\n",
      "sqlparse==0.1.18\n",
      "subprocess32==3.5.4\n",
      "terminado==0.8.3\n",
      "testpath==0.4.4\n",
      "tornado==5.1.1\n",
      "traitlets==4.3.3\n",
      "trollius==2.0.1\n",
      "typing==3.7.4.1\n",
      "ua-parser==0.10.0\n",
      "unittest2==0.8.0\n",
      "UNKNOWN==0.0.0\n",
      "urllib3==1.25.8\n",
      "user-agents==2.2.0\n",
      "uWSGI==2.0.19.1\n",
      "vkontakte==1.3.2\n",
      "wcwidth==0.2.5\n",
      "webencodings==0.5.1\n",
      "whois==0.9.7\n",
      "widgetsnbextension==3.6.1\n",
      "zipp==1.2.0\n"
     ]
    }
   ],
   "source": [
    "!/usr/bin/python -m pip freeze"
   ]
  },
  {
   "cell_type": "code",
   "execution_count": 5,
   "metadata": {},
   "outputs": [
    {
     "name": "stdout",
     "output_type": "stream",
     "text": [
      "\u001b[33mDEPRECATION: Python 2.7 reached the end of its life on January 1st, 2020. Please upgrade your Python as Python 2.7 is no longer maintained. pip 21.0 will drop support for Python 2.7 in January 2021. More details about Python 2 support in pip can be found at https://pip.pypa.io/en/latest/development/release-process/#python-2-support pip 21.0 will remove support for this functionality.\u001b[0m\n",
      "Defaulting to user installation because normal site-packages is not writeable\n",
      "Requirement already satisfied: bs4 in /home/aominakov/.local/lib/python2.7/site-packages (0.0.1)\n",
      "Requirement already satisfied: beautifulsoup4 in /home/aominakov/.local/lib/python2.7/site-packages (from bs4) (4.9.3)\n",
      "Requirement already satisfied: soupsieve<2.0,>1.2; python_version < \"3.0\" in /home/aominakov/.local/lib/python2.7/site-packages (from beautifulsoup4->bs4) (1.9.6)\n",
      "Requirement already satisfied: backports.functools-lru-cache; python_version < \"3\" in /usr/local/lib/python2.7/dist-packages (from soupsieve<2.0,>1.2; python_version < \"3.0\"->beautifulsoup4->bs4) (1.6.4)\n"
     ]
    }
   ],
   "source": [
    "!/usr/bin/python -m pip install bs4"
   ]
  },
  {
   "cell_type": "code",
   "execution_count": 6,
   "metadata": {},
   "outputs": [],
   "source": [
    "#import bs4"
   ]
  },
  {
   "cell_type": "code",
   "execution_count": 7,
   "metadata": {},
   "outputs": [],
   "source": [
    "from bs4 import BeautifulSoup"
   ]
  },
  {
   "cell_type": "code",
   "execution_count": null,
   "metadata": {},
   "outputs": [],
   "source": []
  },
  {
   "cell_type": "code",
   "execution_count": 8,
   "metadata": {},
   "outputs": [],
   "source": [
    "import smtplib"
   ]
  },
  {
   "cell_type": "code",
   "execution_count": 9,
   "metadata": {},
   "outputs": [],
   "source": [
    "from email.mime.text import MIMEText"
   ]
  },
  {
   "cell_type": "code",
   "execution_count": 10,
   "metadata": {},
   "outputs": [],
   "source": [
    "#page = urllib.urlopen(\"https://sport-marafon.ru/catalog/multituly/multitul-leatherman-surge-black/\")"
   ]
  },
  {
   "cell_type": "code",
   "execution_count": 11,
   "metadata": {},
   "outputs": [],
   "source": [
    "#page = urllib.urlopen(\"https://tenniscapital.moscow/arendakortov\")"
   ]
  },
  {
   "cell_type": "code",
   "execution_count": 12,
   "metadata": {},
   "outputs": [],
   "source": [
    "#page = urllib.urlopen(\"https://www.splav.ru/products/nozh-skladnoj-track-steel-mc750-90/\")"
   ]
  },
  {
   "cell_type": "code",
   "execution_count": 13,
   "metadata": {},
   "outputs": [],
   "source": [
    "#page = urllib.urlopen(\"http://goodstore.com/index.php?route=product/product&product_id=3599\")"
   ]
  },
  {
   "cell_type": "code",
   "execution_count": 16,
   "metadata": {},
   "outputs": [],
   "source": [
    "#page = urllib.urlopen(\"https://store77.net/apple_iphone_13_pro_max/\")"
   ]
  },
  {
   "cell_type": "code",
   "execution_count": 29,
   "metadata": {},
   "outputs": [],
   "source": [
    "page = urllib.urlopen(\"https://trial-sport.ru/goods/51528/2553416.html\")"
   ]
  },
  {
   "cell_type": "code",
   "execution_count": 30,
   "metadata": {},
   "outputs": [],
   "source": [
    "# MALVINA\n",
    "#page = urllib.urlopen(\"https://trial-sport.ru/goods/51530/1179889.html\")"
   ]
  },
  {
   "cell_type": "code",
   "execution_count": 31,
   "metadata": {},
   "outputs": [
    {
     "data": {
      "text/plain": [
       "200"
      ]
     },
     "execution_count": 31,
     "metadata": {},
     "output_type": "execute_result"
    }
   ],
   "source": [
    "page.getcode()"
   ]
  },
  {
   "cell_type": "code",
   "execution_count": 32,
   "metadata": {},
   "outputs": [],
   "source": [
    "#div.catalog-detail_price\n",
    "#price price_disc"
   ]
  },
  {
   "cell_type": "code",
   "execution_count": 33,
   "metadata": {},
   "outputs": [],
   "source": [
    "if page.getcode() == 200:\n",
    "    text = page.read()\n",
    "    soup = BeautifulSoup(text)\n",
    "    list_reports_data = soup.findAll('div', class_='price price_disc')"
   ]
  },
  {
   "cell_type": "code",
   "execution_count": 34,
   "metadata": {},
   "outputs": [],
   "source": [
    "# MALVINA\n",
    "\n",
    "#if page.getcode() == 200:\n",
    " #   text = page.read()\n",
    "  #  soup = BeautifulSoup(text)\n",
    "   # list_reports_data = soup.findAll('div', class_='price price_disc')"
   ]
  },
  {
   "cell_type": "code",
   "execution_count": 35,
   "metadata": {},
   "outputs": [
    {
     "data": {
      "text/plain": [
       "1"
      ]
     },
     "execution_count": 35,
     "metadata": {},
     "output_type": "execute_result"
    }
   ],
   "source": [
    "len(list_reports_data)"
   ]
  },
  {
   "cell_type": "code",
   "execution_count": 37,
   "metadata": {},
   "outputs": [],
   "source": [
    "el1 = list_reports_data[0]"
   ]
  },
  {
   "cell_type": "code",
   "execution_count": 38,
   "metadata": {},
   "outputs": [
    {
     "name": "stdout",
     "output_type": "stream",
     "text": [
      "909 ₽\n"
     ]
    }
   ],
   "source": [
    "print(el1.text)"
   ]
  },
  {
   "cell_type": "code",
   "execution_count": 39,
   "metadata": {},
   "outputs": [],
   "source": [
    "price_code = el1.text"
   ]
  },
  {
   "cell_type": "code",
   "execution_count": 40,
   "metadata": {},
   "outputs": [
    {
     "data": {
      "text/plain": [
       "u'909 \\u20bd'"
      ]
     },
     "execution_count": 40,
     "metadata": {},
     "output_type": "execute_result"
    }
   ],
   "source": [
    "price_code"
   ]
  },
  {
   "cell_type": "code",
   "execution_count": 41,
   "metadata": {},
   "outputs": [],
   "source": [
    "price_code = price_code.replace(u' ', '')"
   ]
  },
  {
   "cell_type": "code",
   "execution_count": 42,
   "metadata": {},
   "outputs": [],
   "source": [
    "price_code = price_code.replace(u'\\u20bd', '')"
   ]
  },
  {
   "cell_type": "code",
   "execution_count": 43,
   "metadata": {},
   "outputs": [
    {
     "data": {
      "text/plain": [
       "909"
      ]
     },
     "execution_count": 43,
     "metadata": {},
     "output_type": "execute_result"
    }
   ],
   "source": [
    "int(price_code)"
   ]
  },
  {
   "cell_type": "code",
   "execution_count": 44,
   "metadata": {},
   "outputs": [],
   "source": [
    "price_rub = int(price_code)"
   ]
  },
  {
   "cell_type": "code",
   "execution_count": 45,
   "metadata": {},
   "outputs": [],
   "source": [
    "mail_list = ['drrryfox@yandex.ru', 'cipper@bk.ru', 'butterfly9@inbox.ru', 'isergy@mail.ru']"
   ]
  },
  {
   "cell_type": "code",
   "execution_count": 46,
   "metadata": {},
   "outputs": [],
   "source": [
    "for you in mail_list:\n",
    "    if price_rub < 1000:\n",
    "        msg = MIMEText('Price less then 1000!')\n",
    "    else:\n",
    "        msg = MIMEText('Price more then 1000')\n",
    "\n",
    "    me = 'minakov_python_mail@101katok.ru'\n",
    "\n",
    "    msg['Subject'] = 'Price notification'\n",
    "    msg['From'] = me\n",
    "    msg['To'] = you\n",
    "\n",
    "    s = smtplib.SMTP('localhost')\n",
    "    s.sendmail(me, [you], msg.as_string())\n",
    "    s.quit()"
   ]
  },
  {
   "cell_type": "code",
   "execution_count": 69,
   "metadata": {},
   "outputs": [],
   "source": [
    "# VAR 2"
   ]
  },
  {
   "cell_type": "code",
   "execution_count": 47,
   "metadata": {},
   "outputs": [],
   "source": [
    "page = urllib.urlopen(\"https://alpindustria.ru/catalog/obuv/krossovki/-52566/?id=418457\")"
   ]
  },
  {
   "cell_type": "code",
   "execution_count": 48,
   "metadata": {},
   "outputs": [
    {
     "data": {
      "text/plain": [
       "200"
      ]
     },
     "execution_count": 48,
     "metadata": {},
     "output_type": "execute_result"
    }
   ],
   "source": [
    "page.getcode()"
   ]
  },
  {
   "cell_type": "code",
   "execution_count": 49,
   "metadata": {},
   "outputs": [],
   "source": [
    "if page.getcode() == 200:\n",
    "    text = page.read()\n",
    "    soup = BeautifulSoup(text)\n",
    "    list_reports_data = soup.findAll('div', class_='product_price-padding')"
   ]
  },
  {
   "cell_type": "code",
   "execution_count": 50,
   "metadata": {},
   "outputs": [
    {
     "data": {
      "text/plain": [
       "1"
      ]
     },
     "execution_count": 50,
     "metadata": {},
     "output_type": "execute_result"
    }
   ],
   "source": [
    "len(list_reports_data)"
   ]
  },
  {
   "cell_type": "code",
   "execution_count": 53,
   "metadata": {},
   "outputs": [],
   "source": [
    "el2 = list_reports_data[0]"
   ]
  },
  {
   "cell_type": "code",
   "execution_count": 54,
   "metadata": {},
   "outputs": [
    {
     "name": "stdout",
     "output_type": "stream",
     "text": [
      "\n",
      "26 090 руб.\n",
      "\n"
     ]
    }
   ],
   "source": [
    "print(el2.text)"
   ]
  },
  {
   "cell_type": "code",
   "execution_count": 55,
   "metadata": {},
   "outputs": [],
   "source": [
    "price_code2 = el2.text"
   ]
  },
  {
   "cell_type": "code",
   "execution_count": 56,
   "metadata": {},
   "outputs": [
    {
     "data": {
      "text/plain": [
       "u'\\n26 090 \\u0440\\u0443\\u0431.\\n'"
      ]
     },
     "execution_count": 56,
     "metadata": {},
     "output_type": "execute_result"
    }
   ],
   "source": [
    "price_code2"
   ]
  },
  {
   "cell_type": "code",
   "execution_count": 64,
   "metadata": {},
   "outputs": [
    {
     "data": {
      "text/plain": [
       "u'26090\\u0440\\u0443\\u0431.'"
      ]
     },
     "execution_count": 64,
     "metadata": {},
     "output_type": "execute_result"
    }
   ],
   "source": [
    "price_code2 = price_code2.replace(u'\\n', '')\n",
    "price_code2"
   ]
  },
  {
   "cell_type": "code",
   "execution_count": 65,
   "metadata": {},
   "outputs": [
    {
     "data": {
      "text/plain": [
       "u'26090'"
      ]
     },
     "execution_count": 65,
     "metadata": {},
     "output_type": "execute_result"
    }
   ],
   "source": [
    "price_code2 = price_code2.replace(u'\\u0440\\u0443\\u0431.', '')\n",
    "price_code2"
   ]
  },
  {
   "cell_type": "code",
   "execution_count": 61,
   "metadata": {},
   "outputs": [],
   "source": [
    "#price_code2 = price_code2.replace(u'\\u0440\\u0443\\u0431.\\n', '')"
   ]
  },
  {
   "cell_type": "code",
   "execution_count": 66,
   "metadata": {},
   "outputs": [
    {
     "data": {
      "text/plain": [
       "26090"
      ]
     },
     "execution_count": 66,
     "metadata": {},
     "output_type": "execute_result"
    }
   ],
   "source": [
    "int(price_code2)"
   ]
  },
  {
   "cell_type": "code",
   "execution_count": 67,
   "metadata": {},
   "outputs": [],
   "source": [
    "price_rub2 = int(price_code2)"
   ]
  },
  {
   "cell_type": "code",
   "execution_count": 68,
   "metadata": {},
   "outputs": [],
   "source": [
    "mail_list = ['drrryfox@yandex.ru', 'cipper@bk.ru', 'butterfly9@inbox.ru', 'isergy@mail.ru']"
   ]
  },
  {
   "cell_type": "code",
   "execution_count": 70,
   "metadata": {},
   "outputs": [],
   "source": [
    "for you in mail_list:\n",
    "    if price_rub2 < 30000:\n",
    "        msg = MIMEText('Price less then 30000! => https://alpindustria.ru/catalog/obuv/krossovki/-52566/?id=418457')\n",
    "    else:\n",
    "        msg = MIMEText('Price more then 30000')\n",
    "\n",
    "    me = 'minakov_python_mail@101katok.ru'\n",
    "\n",
    "    msg['Subject'] = 'Price notification'\n",
    "    msg['From'] = me\n",
    "    msg['To'] = you\n",
    "\n",
    "    s = smtplib.SMTP('localhost')\n",
    "    s.sendmail(me, [you], msg.as_string())\n",
    "    s.quit()"
   ]
  },
  {
   "cell_type": "code",
   "execution_count": 72,
   "metadata": {},
   "outputs": [
    {
     "name": "stdout",
     "output_type": "stream",
     "text": [
      "cp: cannot stat 'lesson16_minakov': No such file or directory\n"
     ]
    }
   ],
   "source": [
    "!cp lesson16_minakov /home/aominakov/github/team22/users/aominakov/lesson16_minakovgit.ipynb"
   ]
  },
  {
   "cell_type": "code",
   "execution_count": 1,
   "metadata": {},
   "outputs": [
    {
     "name": "stdout",
     "output_type": "stream",
     "text": [
      "  aominakov\u001b[m\n",
      "  aominakov_v2\u001b[m\n",
      "* \u001b[32maominakov_v3\u001b[m\n",
      "  main\u001b[m\n"
     ]
    }
   ],
   "source": [
    "!git branch"
   ]
  },
  {
   "cell_type": "code",
   "execution_count": 3,
   "metadata": {},
   "outputs": [
    {
     "name": "stdout",
     "output_type": "stream",
     "text": [
      "error: Your local changes to the following files would be overwritten by checkout:\n",
      "\tusers/aominakov/homework_git.ipynb\n",
      "Please, commit your changes or stash them before you can switch branches.\n",
      "Aborting\n"
     ]
    }
   ],
   "source": [
    "!git checkout main"
   ]
  },
  {
   "cell_type": "code",
   "execution_count": 4,
   "metadata": {},
   "outputs": [
    {
     "name": "stdout",
     "output_type": "stream",
     "text": [
      "On branch aominakov_v3\n",
      "Your branch is up-to-date with 'origin/aominakov_v3'.\n",
      "Changes not staged for commit:\n",
      "\t\u001b[31mdeleted:    ../../sigrischenko/stasonReadMe.md\u001b[m\n",
      "\t\u001b[31mmodified:   homework_git.ipynb\u001b[m\n",
      "\n",
      "Untracked files:\n",
      "\t\u001b[31m.ipynb_checkpoints/\u001b[m\n",
      "\t\u001b[31mlesson16_minakovgit.ipynb\u001b[m\n",
      "\n",
      "no changes added to commit\n"
     ]
    }
   ],
   "source": [
    "!git commit -m 'nothing'"
   ]
  },
  {
   "cell_type": "code",
   "execution_count": 6,
   "metadata": {},
   "outputs": [
    {
     "name": "stdout",
     "output_type": "stream",
     "text": [
      "error: Your local changes to the following files would be overwritten by checkout:\n",
      "\tusers/aominakov/homework_git.ipynb\n",
      "Please, commit your changes or stash them before you can switch branches.\n",
      "Aborting\n"
     ]
    }
   ],
   "source": [
    "!git checkout main"
   ]
  },
  {
   "cell_type": "code",
   "execution_count": 9,
   "metadata": {},
   "outputs": [
    {
     "name": "stdout",
     "output_type": "stream",
     "text": [
      "Saved working directory and index state WIP on aominakov_v3: bce011d povtor knigi\n",
      "HEAD is now at bce011d povtor knigi\n"
     ]
    }
   ],
   "source": [
    "!git stash"
   ]
  },
  {
   "cell_type": "code",
   "execution_count": 10,
   "metadata": {},
   "outputs": [
    {
     "name": "stdout",
     "output_type": "stream",
     "text": [
      "Switched to branch 'main'\n",
      "Your branch is behind 'origin/main' by 67 commits, and can be fast-forwarded.\n",
      "  (use \"git pull\" to update your local branch)\n"
     ]
    }
   ],
   "source": [
    "!git checkout main"
   ]
  },
  {
   "cell_type": "code",
   "execution_count": 11,
   "metadata": {},
   "outputs": [
    {
     "name": "stdout",
     "output_type": "stream",
     "text": [
      "Updating d8dc54b..4082d07\n",
      "Fast-forward\n",
      " .gitignore                                         |    4 \u001b[32m+\u001b[m\n",
      " library/reports/README.TXT                         |    1 \u001b[32m+\u001b[m\n",
      " library/reports/count_sorting_mvandreeva.ipynb     |  234 \u001b[32m++\u001b[m\n",
      " users/APyatnitskiy/data.json                       |    3 \u001b[32m+\u001b[m\n",
      " users/APyatnitskiy/home_work.py                    |  176 \u001b[32m++\u001b[m\n",
      " users/APyatnitskiy/work_with_json.py               |   60 \u001b[32m+\u001b[m\n",
      " users/README.md                                    |    1 \u001b[32m+\u001b[m\n",
      " users/amtsurkov/lesson_10/Untitled.ipynb           |  226 \u001b[32m++\u001b[m\n",
      " .../hello_team_22/hello_debosh/__init__.py         |    0\n",
      " .../lesson_10/hello_team_22/hello_debosh/goog.py   |    0\n",
      " .../lesson_10/hello_team_22/hello_debosh/test.py   |   11 \u001b[32m+\u001b[m\n",
      " .../lesson_10/hello_team_22/lower_notebook.ipynb   |   90 \u001b[32m+\u001b[m\n",
      " users/amtsurkov/lesson_10/hello_team_22/setup.py   |   11 \u001b[32m+\u001b[m\n",
      " users/amtsurkov/lesson_10/upper_notebook.ipynb     |  307 \u001b[32m+++\u001b[m\n",
      " users/amtsurkov/lesson_11/lesson_11.ipynb          |  965 \u001b[32m++++++++\u001b[m\n",
      " users/amtsurkov/lesson_11/packeg_new/__init__.py   |    0\n",
      " .../lesson_11/packeg_new/modele_calculate.py       |    5 \u001b[32m+\u001b[m\n",
      " .../amtsurkov/lesson_11/packeg_new/module_print.py |    2 \u001b[32m+\u001b[m\n",
      " users/amtsurkov/lesson_12/delo.py                  |   22 \u001b[32m+\u001b[m\n",
      " users/amtsurkov/lesson_12/lesson_12.ipynb          |  211 \u001b[32m++\u001b[m\n",
      " users/amtsurkov/lesson_12/lesson_12_next.ipynb     |  387 \u001b[32m++++\u001b[m\n",
      " users/amtsurkov/lesson_13/delo.py                  |   37 \u001b[32m+\u001b[m\n",
      " users/amtsurkov/lesson_13/lesson_13.ipynb          |  618 \u001b[32m+++++\u001b[m\n",
      " users/amtsurkov/lesson_14/1.txt                    |   25 \u001b[32m+\u001b[m\n",
      " users/amtsurkov/lesson_14/1_v2.txt                 |   25 \u001b[32m+\u001b[m\n",
      " users/amtsurkov/lesson_14/2.txt                    |   25 \u001b[32m+\u001b[m\n",
      " users/amtsurkov/lesson_14/delo.py                  |   47 \u001b[32m+\u001b[m\n",
      " users/amtsurkov/lesson_14/lesson_14.ipynb          |  549 \u001b[32m+++++\u001b[m\n",
      " users/amtsurkov/lesson_14/lesson_14_2.ipynb        |   91 \u001b[32m+\u001b[m\n",
      " users/amtsurkov/lesson_14/spisok_dela.py           |   45 \u001b[32m+\u001b[m\n",
      " users/amtsurkov/lesson_15/lesson_15.ipynb          |  386 \u001b[32m++++\u001b[m\n",
      " users/amtsurkov/lesson_16/lesson_16.ipynb          |  426 \u001b[32m++++\u001b[m\n",
      " users/amtsurkov/lesson_16/lesson_16_git.ipynb      |  804 \u001b[32m+++++++\u001b[m\n",
      " users/amtsurkov/lesson_16/send_email.py            |   35 \u001b[32m+\u001b[m\n",
      " users/amtsurkov/lesson_6.ipynb                     | 1878 \u001b[32m++++++++++++++++\u001b[m\n",
      " users/amtsurkov/lesson_6/1.txt                     |    1 \u001b[32m+\u001b[m\n",
      " users/amtsurkov/lesson_6/1_copy.txt                |    0\n",
      " users/amtsurkov/lesson_6/1_copy_v3.txt             |    1 \u001b[32m+\u001b[m\n",
      " users/amtsurkov/lesson_6/2.txt                     |    1 \u001b[32m+\u001b[m\n",
      " users/amtsurkov/lesson_6/3.txt                     |    1 \u001b[32m+\u001b[m\n",
      " users/amtsurkov/lesson_6/4.txt                     |    3 \u001b[32m+\u001b[m\n",
      " users/amtsurkov/lesson_6/5.txt                     |    1 \u001b[32m+\u001b[m\n",
      " users/amtsurkov/lesson_6/test/vlad_1_txt_move      |    9 \u001b[32m+\u001b[m\n",
      " users/amtsurkov/lesson_6/untitled.txt              |    3 \u001b[32m+\u001b[m\n",
      " users/amtsurkov/lesson_6_v2/1.txt                  |    1 \u001b[32m+\u001b[m\n",
      " users/amtsurkov/lesson_6_v2/1_copy_v4.txt          |    1 \u001b[32m+\u001b[m\n",
      " users/amtsurkov/lesson_6_work.ipynb                |   69 \u001b[32m+\u001b[m\n",
      " users/amtsurkov/lesson_7.ipynb                     | 1533 \u001b[32m+++++++++++++\u001b[m\n",
      " users/amtsurkov/lesson_8.ipynb                     |  367 \u001b[32m+++\u001b[m\n",
      " users/amtsurkov/lesson_9.ipynb                     |  633 \u001b[32m++++++\u001b[m\n",
      " users/amtsurkov/lesson_9/data.pickle               |   10 \u001b[32m+\u001b[m\n",
      " users/amtsurkov/lesson_9/v1                        |    8 \u001b[32m+\u001b[m\n",
      " users/amtsurkov/lesson_9_1.ipynb                   |   79 \u001b[32m+\u001b[m\n",
      " users/aominakov/homework_git.ipynb                 |  661 \u001b[32m++++++\u001b[m\n",
      " users/aominakov/povtor_materiala.ipynb             | 1487 \u001b[32m+++++++++++++\u001b[m\n",
      " users/mvandreeva/count_sorting_mvandreeva.ipynb    |  234 \u001b[32m++\u001b[m\n",
      " .../lesson_6_homework-checkpoint.ipynb             |  209 \u001b[32m++\u001b[m\n",
      " users/mvandreeva/lesson_6_HW_files/in.txt          |   22 \u001b[32m+\u001b[m\n",
      " users/mvandreeva/lesson_6_HW_files/in2.txt         |    9 \u001b[32m+\u001b[m\n",
      " .../lesson_6_HW_files/lesson_6_homework.ipynb      |  227 \u001b[32m++\u001b[m\n",
      " users/mvandreeva/lesson_6_HW_files/out.txt         |    4 \u001b[32m+\u001b[m\n",
      " users/mvandreeva/lesson_6_HW_files/out2.txt        |    1 \u001b[32m+\u001b[m\n",
      " .../lesson_7_HW_from_book-checkpoint.ipynb         | 1467 \u001b[32m++++++++++++\u001b[m\n",
      " .../lesson_7_HW_from_book.ipynb                    | 1467 \u001b[32m++++++++++++\u001b[m\n",
      " users/mvandreeva/lesson_7_HW_from_book/task.txt    |  338 \u001b[32m+++\u001b[m\n",
      " .../lesson_9_HW_objects_to_files-checkpoint.ipynb  |   87 \u001b[32m+\u001b[m\n",
      " .../lesson_9_HW_objects_to_files/file.txt          |   10 \u001b[32m+\u001b[m\n",
      " .../lesson_9_HW_objects_to_files.ipynb             |   87 \u001b[32m+\u001b[m\n",
      " .../mvandreeva_lesson_3_TDD_work_1_v2-Copy1.ipynb  | 1090 \u001b[32m+++++++++\u001b[m\n",
      " users/sivanov/junk/TDD_lesson.ipynb                |  170 \u001b[32m++\u001b[m\n",
      " users/sivanov/junk/batchtestcall.py                |   38 \u001b[32m+\u001b[m\n",
      " users/sivanov/junk/test.py                         |    0\n",
      " users/sivanov/junk/test_class_try1.ipynb           |  163 \u001b[32m++\u001b[m\n",
      " users/sivanov/junk/test_func_try1.ipynb            |  142 \u001b[32m++\u001b[m\n",
      " .../lessons/lesson_11_hw/lesson_11_hw.ipynb        |  477 \u001b[32m++++\u001b[m\n",
      " users/sivanov/lessons/lesson_11_hw/mylistdata.py   |  119 \u001b[32m+\u001b[m\n",
      " .../sivanov/lessons/lesson_11_hw/mymoneyrecords.py |   70 \u001b[32m+\u001b[m\n",
      " .../lessons/lesson_12_hw/json/base_actions.json    |    1 \u001b[32m+\u001b[m\n",
      " .../lesson_12_hw/lesson_12_13_14_hw_stuff.ipynb    |  465 \u001b[32m++++\u001b[m\n",
      " .../lesson_12_hw/lesson_12_13_14_tasks.ipynb       |  191 \u001b[32m++\u001b[m\n",
      " .../lessons/lesson_12_hw/sivanov_lib/__init__.py   |    0\n",
      " .../lessons/lesson_12_hw/sivanov_lib/mylistdata.py |   98 \u001b[32m+\u001b[m\n",
      " .../lesson_12_hw/sivanov_lib/mymoneyrecords.py     |   70 \u001b[32m+\u001b[m\n",
      " .../lesson_12_hw/sivanov_lib/taskliststuff.py      |  145 \u001b[32m++\u001b[m\n",
      " .../lesson_12_hw/sivanov_lib/usefulstuff.py        |   16 \u001b[32m+\u001b[m\n",
      " .../lessons/lesson_12_hw/str_repr_etc.ipynb        |  226 \u001b[32m++\u001b[m\n",
      " .../sivanov/lessons/lesson_1_hw/lesson_1_hw.ipynb  |  800 \u001b[32m+++++++\u001b[m\n",
      " users/sivanov/lessons/lesson_1_hw/mylistdata.py    |   88 \u001b[32m+\u001b[m\n",
      " .../sivanov/lessons/lesson_1_hw/mymoneyrecords.py  |   70 \u001b[32m+\u001b[m\n",
      " .../sivanov/lessons/lesson_6_hw/lesson_6_hw.ipynb  |  982 \u001b[32m++++++++\u001b[m\n",
      " users/sivanov/lessons/lesson_6_hw/mylistdata.py    |   88 \u001b[32m+\u001b[m\n",
      " .../sivanov/lessons/lesson_6_hw/mymoneyrecords.py  |   70 \u001b[32m+\u001b[m\n",
      " .../test_calc_total_spending/testdata1.txt         |    0\n",
      " .../test_calc_total_spending/testdata2.txt         |    1 \u001b[32m+\u001b[m\n",
      " .../test_calc_total_spending/testdata3.txt         |    6 \u001b[32m+\u001b[m\n",
      " .../test_calc_total_spending/testdata4.txt         |    6 \u001b[32m+\u001b[m\n",
      " .../test_calc_total_spending/testdata5.txt         |    5 \u001b[32m+\u001b[m\n",
      " .../test_find_dupies_in_input_file/testdata1.txt   |    2 \u001b[32m+\u001b[m\n",
      " .../lesson_6_hw/test_make_input_file/testdata1.txt |    3 \u001b[32m+\u001b[m\n",
      " .../lesson_6_hw/test_make_input_file/testdata2.txt |    7 \u001b[32m+\u001b[m\n",
      " .../lesson_6_hw/test_make_input_file/testdata3.txt |    0\n",
      " .../lesson_6_hw/test_make_input_file/testdata4.txt |    1 \u001b[32m+\u001b[m\n",
      " .../lesson_6_hw/test_make_input_file/testdata5.txt |    4 \u001b[32m+\u001b[m\n",
      " .../sivanov/lessons/lesson_7_hw/lesson_7_hw.ipynb  | 1507 \u001b[32m+++++++++++++\u001b[m\n",
      " .../sivanov/lessons/lesson_9_hw/lesson_9_hw.ipynb  |  653 \u001b[32m++++++\u001b[m\n",
      " users/sivanov/mylistdata.py                        |   88 \u001b[32m+\u001b[m\n",
      " users/sivanov/mymoneyrecords.py                    |   70 \u001b[32m+\u001b[m\n",
      " users/sivanov/runjup.sh                            |    2 \u001b[32m+\u001b[m\n",
      " users/sivanov/timsort/random_things.ipynb          |  300 \u001b[32m+++\u001b[m\n",
      " users/viukhanov/bookzad.ipynb                      | 2350 \u001b[32m++++++++++++++++++++\u001b[m\n",
      " users/viukhanov/lesson_3.ipynb                     |  889 \u001b[32m++++++++\u001b[m\n",
      " 111 files changed, 28211 insertions(+)\n",
      " create mode 100644 .gitignore\n",
      " create mode 100644 library/reports/README.TXT\n",
      " create mode 100644 library/reports/count_sorting_mvandreeva.ipynb\n",
      " create mode 100644 users/APyatnitskiy/data.json\n",
      " create mode 100644 users/APyatnitskiy/home_work.py\n",
      " create mode 100644 users/APyatnitskiy/work_with_json.py\n",
      " create mode 100644 users/amtsurkov/lesson_10/Untitled.ipynb\n",
      " rename sigrischenko/stasonReadMe.md => users/amtsurkov/lesson_10/hello_team_22/hello_debosh/__init__.py (100%)\n",
      " create mode 100644 users/amtsurkov/lesson_10/hello_team_22/hello_debosh/goog.py\n",
      " create mode 100644 users/amtsurkov/lesson_10/hello_team_22/hello_debosh/test.py\n",
      " create mode 100644 users/amtsurkov/lesson_10/hello_team_22/lower_notebook.ipynb\n",
      " create mode 100644 users/amtsurkov/lesson_10/hello_team_22/setup.py\n",
      " create mode 100644 users/amtsurkov/lesson_10/upper_notebook.ipynb\n",
      " create mode 100644 users/amtsurkov/lesson_11/lesson_11.ipynb\n",
      " create mode 100644 users/amtsurkov/lesson_11/packeg_new/__init__.py\n",
      " create mode 100644 users/amtsurkov/lesson_11/packeg_new/modele_calculate.py\n",
      " create mode 100644 users/amtsurkov/lesson_11/packeg_new/module_print.py\n",
      " create mode 100644 users/amtsurkov/lesson_12/delo.py\n",
      " create mode 100644 users/amtsurkov/lesson_12/lesson_12.ipynb\n",
      " create mode 100644 users/amtsurkov/lesson_12/lesson_12_next.ipynb\n",
      " create mode 100644 users/amtsurkov/lesson_13/delo.py\n",
      " create mode 100644 users/amtsurkov/lesson_13/lesson_13.ipynb\n",
      " create mode 100644 users/amtsurkov/lesson_14/1.txt\n",
      " create mode 100644 users/amtsurkov/lesson_14/1_v2.txt\n",
      " create mode 100644 users/amtsurkov/lesson_14/2.txt\n",
      " create mode 100644 users/amtsurkov/lesson_14/delo.py\n",
      " create mode 100644 users/amtsurkov/lesson_14/lesson_14.ipynb\n",
      " create mode 100644 users/amtsurkov/lesson_14/lesson_14_2.ipynb\n",
      " create mode 100644 users/amtsurkov/lesson_14/spisok_dela.py\n",
      " create mode 100644 users/amtsurkov/lesson_15/lesson_15.ipynb\n",
      " create mode 100644 users/amtsurkov/lesson_16/lesson_16.ipynb\n",
      " create mode 100644 users/amtsurkov/lesson_16/lesson_16_git.ipynb\n",
      " create mode 100644 users/amtsurkov/lesson_16/send_email.py\n",
      " create mode 100644 users/amtsurkov/lesson_6.ipynb\n",
      " create mode 100644 users/amtsurkov/lesson_6/1.txt\n",
      " create mode 100644 users/amtsurkov/lesson_6/1_copy.txt\n",
      " create mode 100644 users/amtsurkov/lesson_6/1_copy_v3.txt\n",
      " create mode 100644 users/amtsurkov/lesson_6/2.txt\n",
      " create mode 100644 users/amtsurkov/lesson_6/3.txt\n",
      " create mode 100644 users/amtsurkov/lesson_6/4.txt\n",
      " create mode 100644 users/amtsurkov/lesson_6/5.txt\n",
      " create mode 100644 users/amtsurkov/lesson_6/test/vlad_1_txt_move\n",
      " create mode 100644 users/amtsurkov/lesson_6/untitled.txt\n",
      " create mode 100644 users/amtsurkov/lesson_6_v2/1.txt\n",
      " create mode 100644 users/amtsurkov/lesson_6_v2/1_copy_v4.txt\n",
      " create mode 100644 users/amtsurkov/lesson_6_work.ipynb\n",
      " create mode 100644 users/amtsurkov/lesson_7.ipynb\n",
      " create mode 100644 users/amtsurkov/lesson_8.ipynb\n",
      " create mode 100644 users/amtsurkov/lesson_9.ipynb\n",
      " create mode 100644 users/amtsurkov/lesson_9/data.pickle\n",
      " create mode 100644 users/amtsurkov/lesson_9/v1\n",
      " create mode 100644 users/amtsurkov/lesson_9_1.ipynb\n",
      " create mode 100644 users/aominakov/homework_git.ipynb\n",
      " create mode 100644 users/aominakov/povtor_materiala.ipynb\n",
      " create mode 100644 users/mvandreeva/count_sorting_mvandreeva.ipynb\n",
      " create mode 100644 users/mvandreeva/lesson_6_HW_files/.ipynb_checkpoints/lesson_6_homework-checkpoint.ipynb\n",
      " create mode 100644 users/mvandreeva/lesson_6_HW_files/in.txt\n",
      " create mode 100644 users/mvandreeva/lesson_6_HW_files/in2.txt\n",
      " create mode 100644 users/mvandreeva/lesson_6_HW_files/lesson_6_homework.ipynb\n",
      " create mode 100644 users/mvandreeva/lesson_6_HW_files/out.txt\n",
      " create mode 100644 users/mvandreeva/lesson_6_HW_files/out2.txt\n",
      " create mode 100644 users/mvandreeva/lesson_7_HW_from_book/.ipynb_checkpoints/lesson_7_HW_from_book-checkpoint.ipynb\n",
      " create mode 100644 users/mvandreeva/lesson_7_HW_from_book/lesson_7_HW_from_book.ipynb\n",
      " create mode 100644 users/mvandreeva/lesson_7_HW_from_book/task.txt\n",
      " create mode 100644 users/mvandreeva/lesson_9_HW_objects_to_files/.ipynb_checkpoints/lesson_9_HW_objects_to_files-checkpoint.ipynb\n",
      " create mode 100644 users/mvandreeva/lesson_9_HW_objects_to_files/file.txt\n",
      " create mode 100644 users/mvandreeva/lesson_9_HW_objects_to_files/lesson_9_HW_objects_to_files.ipynb\n",
      " create mode 100644 users/mvandreeva/mvandreeva_lesson_3_TDD_work_1_v2-Copy1.ipynb\n",
      " create mode 100644 users/sivanov/junk/TDD_lesson.ipynb\n",
      " create mode 100644 users/sivanov/junk/batchtestcall.py\n",
      " create mode 100644 users/sivanov/junk/test.py\n",
      " create mode 100644 users/sivanov/junk/test_class_try1.ipynb\n",
      " create mode 100644 users/sivanov/junk/test_func_try1.ipynb\n",
      " create mode 100644 users/sivanov/lessons/lesson_11_hw/lesson_11_hw.ipynb\n",
      " create mode 100644 users/sivanov/lessons/lesson_11_hw/mylistdata.py\n",
      " create mode 100644 users/sivanov/lessons/lesson_11_hw/mymoneyrecords.py\n",
      " create mode 100644 users/sivanov/lessons/lesson_12_hw/json/base_actions.json\n",
      " create mode 100644 users/sivanov/lessons/lesson_12_hw/lesson_12_13_14_hw_stuff.ipynb\n",
      " create mode 100644 users/sivanov/lessons/lesson_12_hw/lesson_12_13_14_tasks.ipynb\n",
      " create mode 100644 users/sivanov/lessons/lesson_12_hw/sivanov_lib/__init__.py\n",
      " create mode 100644 users/sivanov/lessons/lesson_12_hw/sivanov_lib/mylistdata.py\n",
      " create mode 100644 users/sivanov/lessons/lesson_12_hw/sivanov_lib/mymoneyrecords.py\n",
      " create mode 100644 users/sivanov/lessons/lesson_12_hw/sivanov_lib/taskliststuff.py\n",
      " create mode 100644 users/sivanov/lessons/lesson_12_hw/sivanov_lib/usefulstuff.py\n",
      " create mode 100644 users/sivanov/lessons/lesson_12_hw/str_repr_etc.ipynb\n",
      " create mode 100644 users/sivanov/lessons/lesson_1_hw/lesson_1_hw.ipynb\n",
      " create mode 100644 users/sivanov/lessons/lesson_1_hw/mylistdata.py\n",
      " create mode 100644 users/sivanov/lessons/lesson_1_hw/mymoneyrecords.py\n",
      " create mode 100644 users/sivanov/lessons/lesson_6_hw/lesson_6_hw.ipynb\n",
      " create mode 100644 users/sivanov/lessons/lesson_6_hw/mylistdata.py\n",
      " create mode 100644 users/sivanov/lessons/lesson_6_hw/mymoneyrecords.py\n",
      " create mode 100644 users/sivanov/lessons/lesson_6_hw/test_calc_total_spending/testdata1.txt\n",
      " create mode 100644 users/sivanov/lessons/lesson_6_hw/test_calc_total_spending/testdata2.txt\n",
      " create mode 100644 users/sivanov/lessons/lesson_6_hw/test_calc_total_spending/testdata3.txt\n",
      " create mode 100644 users/sivanov/lessons/lesson_6_hw/test_calc_total_spending/testdata4.txt\n",
      " create mode 100644 users/sivanov/lessons/lesson_6_hw/test_calc_total_spending/testdata5.txt\n",
      " create mode 100644 users/sivanov/lessons/lesson_6_hw/test_find_dupies_in_input_file/testdata1.txt\n",
      " create mode 100644 users/sivanov/lessons/lesson_6_hw/test_make_input_file/testdata1.txt\n",
      " create mode 100644 users/sivanov/lessons/lesson_6_hw/test_make_input_file/testdata2.txt\n",
      " create mode 100644 users/sivanov/lessons/lesson_6_hw/test_make_input_file/testdata3.txt\n",
      " create mode 100644 users/sivanov/lessons/lesson_6_hw/test_make_input_file/testdata4.txt\n",
      " create mode 100644 users/sivanov/lessons/lesson_6_hw/test_make_input_file/testdata5.txt\n",
      " create mode 100644 users/sivanov/lessons/lesson_7_hw/lesson_7_hw.ipynb\n",
      " create mode 100644 users/sivanov/lessons/lesson_9_hw/lesson_9_hw.ipynb\n",
      " create mode 100644 users/sivanov/mylistdata.py\n",
      " create mode 100644 users/sivanov/mymoneyrecords.py\n",
      " create mode 100755 users/sivanov/runjup.sh\n",
      " create mode 100644 users/sivanov/timsort/random_things.ipynb\n",
      " create mode 100644 users/viukhanov/bookzad.ipynb\n",
      " create mode 100644 users/viukhanov/lesson_3.ipynb\n"
     ]
    }
   ],
   "source": [
    "!git pull"
   ]
  },
  {
   "cell_type": "code",
   "execution_count": 12,
   "metadata": {},
   "outputs": [
    {
     "name": "stdout",
     "output_type": "stream",
     "text": [
      "Already on 'main'\n",
      "Your branch is up-to-date with 'origin/main'.\n"
     ]
    }
   ],
   "source": [
    "!git checkout main"
   ]
  },
  {
   "cell_type": "code",
   "execution_count": 13,
   "metadata": {},
   "outputs": [],
   "source": [
    "!git branch aominakov_v4_les16"
   ]
  },
  {
   "cell_type": "code",
   "execution_count": 15,
   "metadata": {},
   "outputs": [
    {
     "name": "stdout",
     "output_type": "stream",
     "text": [
      "Switched to branch 'aominakov_v4_les16'\n"
     ]
    }
   ],
   "source": [
    "!git checkout aominakov_v4_les16"
   ]
  },
  {
   "cell_type": "code",
   "execution_count": 16,
   "metadata": {},
   "outputs": [
    {
     "name": "stdout",
     "output_type": "stream",
     "text": [
      "On branch aominakov_v4_les16\n",
      "Untracked files:\n",
      "  (use \"git add <file>...\" to include in what will be committed)\n",
      "\n",
      "\t\u001b[31mlesson16_minakovgit.ipynb\u001b[m\n",
      "\n",
      "nothing added to commit but untracked files present (use \"git add\" to track)\n"
     ]
    }
   ],
   "source": [
    "!git status"
   ]
  },
  {
   "cell_type": "code",
   "execution_count": 17,
   "metadata": {},
   "outputs": [
    {
     "name": "stdout",
     "output_type": "stream",
     "text": [
      "fatal: pathspec 'users/aominakov/lesson16_minakovgit.ipynb' did not match any files\n"
     ]
    }
   ],
   "source": [
    "!git add users/aominakov/lesson16_minakovgit.ipynb"
   ]
  },
  {
   "cell_type": "code",
   "execution_count": null,
   "metadata": {},
   "outputs": [],
   "source": [
    "!git "
   ]
  }
 ],
 "metadata": {
  "kernelspec": {
   "display_name": "Python 2",
   "language": "python",
   "name": "python2"
  },
  "language_info": {
   "codemirror_mode": {
    "name": "ipython",
    "version": 2
   },
   "file_extension": ".py",
   "mimetype": "text/x-python",
   "name": "python",
   "nbconvert_exporter": "python",
   "pygments_lexer": "ipython2",
   "version": "2.7.12"
  }
 },
 "nbformat": 4,
 "nbformat_minor": 2
}
