{
 "cells": [
  {
   "cell_type": "markdown",
   "metadata": {},
   "source": [
    "# Отработка работы с переменными и списками V2"
   ]
  },
  {
   "cell_type": "markdown",
   "metadata": {},
   "source": [
    "# №1 Задание создайте 3 списока\n",
    "<center> \n",
    "    <table>\n",
    "        <tr>\n",
    "            <td>\n",
    "                списоки\n",
    "            </td>\n",
    "            <td>\n",
    "                Дело №1\n",
    "            </td>\n",
    "            <td>\n",
    "                Дело №2\n",
    "            </td>            \n",
    "        </tr>\n",
    "        <tr>\n",
    "            <td>\n",
    "                дела\n",
    "            </td>\n",
    "            <td>\n",
    "                купить хлеб\n",
    "            </td>\n",
    "            <td>\n",
    "                помыть полы\n",
    "            </td>            \n",
    "        </tr>\n",
    "        <tr>\n",
    "            <td>\n",
    "                дата до котрой нужно сделать\n",
    "            </td>\n",
    "            <td>\n",
    "                28-08-2022\n",
    "            </td>\n",
    "            <td>\n",
    "                28-08-2022\n",
    "            </td>\n",
    "        </tr>\n",
    "        <tr>\n",
    "            <td>\n",
    "                дата когда было сделано\n",
    "            </td>\n",
    "            <td>\n",
    "                28-08-2022\n",
    "            </td>\n",
    "            <td>\n",
    "            </td>\n",
    "        </tr>\n",
    "    </table>\n",
    "</center> \n",
    "\n",
    "Рекомендуемый размер списка 22 элемента.\n",
    "\n",
    "После создания 3 списков. \n",
    "* Нужно посчитать общее количество дел в списке.\n",
    "* Напечатать все дела\n",
    "* Напечатать только 2 и 5 дело\n",
    "* Сравнить каждое дело из списка с строкой “buy bread”  и если оно совпадает то напечатать YES\n",
    "* Если каждое дело из списка ваших дела написано на английском и является строкой то вывести длину каждой из этих строк\n",
    "* Напечатать yes если длина строки в которой записано дело больше 10\n",
    "* Напечатать дела индекс которых в списке делится без остатка на 2\n",
    "* Напечатать дело с индексом 1 и 4 из списка запланированных дел\n",
    "* Напечатать те индексы у которых значения в списке запланированных дат и списке реализованных дат равны друг другу \n",
    "* Вывести только те дела которые вы сделали в тот же день в который их запланировали\n",
    "* Посчитать сколько дел у вас было одинаковых ( т.е. если есть запись “купить хлеб” 28-08-2022 и “купить хлеб” 14-08-2022 то финально нужно вывести “купить хлеб” 2 (можно сделать 2 варианта без использования словарей и с испольщованием словарям)"
   ]
  },
  {
   "cell_type": "code",
   "execution_count": 51,
   "metadata": {},
   "outputs": [
    {
     "name": "stdout",
     "output_type": "stream",
     "text": [
      "------------------------------------------------\n",
      "count_my_tasks:\n",
      "10\n",
      "------------------------------------------------\n",
      "name_my_tasks:\n",
      "wash face\n",
      "breakfast\n",
      "homework\n",
      "workout\n",
      "buy bread\n",
      "wash floor\n",
      "dance\n",
      "buy bread\n",
      "walk\n",
      "homework\n",
      "------------------------------------------------\n",
      "index_my_tasks:\n",
      "[0, 1, 2, 3, 4, 5, 6, 7, 8, 9]\n",
      "------------------------------------------------\n",
      "my_task_#2_and_#5:\n",
      "workout\n",
      "dance\n",
      "------------------------------------------------\n",
      "repeat_\"buy bread\"?:\n",
      "YES\n",
      "YES\n",
      "------------------------------------------------\n",
      "each_string_lenght:\n",
      "[9, 9, 8, 7, 9, 10, 5, 9, 4, 8]\n",
      "------------------------------------------------\n",
      "any_task_str_more_then_9:\n",
      "YES\n",
      "------------------------------------------------\n",
      "tasks_index_multyply_2:\n",
      "wash face\n",
      "homework\n",
      "buy bread\n",
      "dance\n",
      "walk\n",
      "------------------------------------------------\n",
      "my_task_index1_and_index4:\n",
      "breakfast\n",
      "buy bread\n",
      "------------------------------------------------\n",
      "same_day_solved_tasks:\n",
      "['breakfast', 'workout', 'buy bread', 'walk']\n",
      "------------------------------------------------\n",
      "repeated_tasks:\n",
      "('buy bread', 2, 'times')\n",
      "('homework', 2, 'times')\n"
     ]
    }
   ],
   "source": [
    "list_todo = ['wash face', 'breakfast', 'homework', 'workout', 'buy bread', 'wash floor', 'dance', 'buy bread', 'walk', 'homework']\n",
    "\n",
    "list_deadline = ['01-08-2022', '02-08-2022', '03-08-2022', '04-08-2022', '05-08-2022', '06-08-2022','07-08-2022', '08-08-2022', '09-08-2022', '10-08-2022']\n",
    "\n",
    "list_done = ['03-08-2022', '02-08-2022', '05-08-2022', '04-08-2022', '05-08-2022', '21-08-2022', '08-08-2022', '10-08-2022', '09-08-2022', '12-08-2022']\n",
    "\n",
    "print('------------------------------------------------')\n",
    "\n",
    "print('count_my_tasks:')\n",
    "\n",
    "print(len(list_todo))\n",
    "\n",
    "print('------------------------------------------------')\n",
    "\n",
    "print('name_my_tasks:')\n",
    "\n",
    "for todo in list_todo:\n",
    "    print(todo)\n",
    "    \n",
    "print('------------------------------------------------')\n",
    "    \n",
    "print('index_my_tasks:')\n",
    "    \n",
    "print(range(0, len(list_todo)))\n",
    "\n",
    "print('------------------------------------------------')\n",
    "\n",
    "print('my_task_#2_and_#5:')\n",
    "\n",
    "print(list_todo[3])\n",
    "\n",
    "print(list_todo[6])\n",
    "\n",
    "print('------------------------------------------------')\n",
    "\n",
    "print('repeat_\"buy bread\"?:')\n",
    "\n",
    "for i in range(0, len(list_todo)):\n",
    "        if list_todo[i] == list_todo[4]:\n",
    "            print('YES')\n",
    "\n",
    "print('------------------------------------------------')\n",
    "\n",
    "print('each_string_lenght:')\n",
    "\n",
    "len_list_todo = map(len, list_todo)\n",
    "\n",
    "print(len_list_todo)\n",
    "\n",
    "print('------------------------------------------------')\n",
    "\n",
    "print('any_task_str_more_then_9:')\n",
    "\n",
    "for i in range(0, len(list_todo)):\n",
    "        if len(list_todo[i]) > 9:\n",
    "            print('YES')\n",
    "\n",
    "print('------------------------------------------------')\n",
    "\n",
    "print('tasks_index_multyply_2:')\n",
    "\n",
    "for i in range(0, len(list_todo)):\n",
    "          if i % 2 == 0:\n",
    "            print(list_todo[i])         \n",
    "\n",
    "print('------------------------------------------------')\n",
    "\n",
    "print('my_task_index1_and_index4:')\n",
    "\n",
    "print(list_todo[1])\n",
    "\n",
    "print(list_todo[4])\n",
    "\n",
    "print('------------------------------------------------')\n",
    "\n",
    "print('same_day_solved_tasks:')\n",
    "\n",
    "def same_date (list_todo, list_deadline, list_done):\n",
    "    repeat_list = []\n",
    "    for i in range(0, len(list_todo)):\n",
    "        if list_deadline[i] == list_done[i]:\n",
    "            repeat_list.append(list_todo[i])\n",
    "    return repeat_list\n",
    "\n",
    "print(same_date (list_todo, list_deadline, list_done))\n",
    "\n",
    "print('------------------------------------------------')\n",
    "\n",
    "print('repeated_tasks:')\n",
    "   \n",
    "    \n",
    "slovar = {\n",
    "    'wash face': 1,\n",
    "    'breakfast': 1,\n",
    "    'homework': 2,\n",
    "    'workout': 1,\n",
    "    'buy bread': 2, \n",
    "    'wash floor': 1, \n",
    "    'dance': 1,\n",
    "    'walk': 1,\n",
    "    }\n",
    "\n",
    "for k, l in slovar.items():\n",
    "    if l > 1:\n",
    "        print(k, l, 'times')\n",
    "        \n",
    "    \n",
    "    "
   ]
  },
  {
   "cell_type": "markdown",
   "metadata": {},
   "source": [
    "# №2 Задание создайте 2 списока\n",
    "<center> \n",
    "    <table>\n",
    "        <tr>\n",
    "            <td>\n",
    "                списоки\n",
    "            </td>\n",
    "            <td>\n",
    "                №1 \n",
    "            </td>\n",
    "            <td>\n",
    "                №2\n",
    "            </td>\n",
    "            <td>\n",
    "                №3\n",
    "            </td>    \n",
    "        </tr>\n",
    "        <tr>\n",
    "            <td>\n",
    "                Описание\n",
    "            </td>\n",
    "            <td>\n",
    "                купил хлеб\n",
    "            </td>\n",
    "            <td>\n",
    "                купил тапочки\n",
    "            </td>            \n",
    "            <td>\n",
    "                получил зп\n",
    "            </td>            \n",
    "        </tr>\n",
    "        <tr>\n",
    "            <td>\n",
    "                Сумма\n",
    "            </td>\n",
    "            <td>\n",
    "                -50\n",
    "            </td>\n",
    "            <td>\n",
    "                -200\n",
    "            </td>\n",
    "            <td>\n",
    "                50000\n",
    "            </td>\n",
    "        </tr>\n",
    "        <tr>\n",
    "            <td>\n",
    "                Дата\n",
    "            </td>\n",
    "            <td>\n",
    "                09-08-2022\n",
    "            </td>\n",
    "            <td>\n",
    "                11-08-2022\n",
    "            </td>\n",
    "            <td>\n",
    "                28-08-2022\n",
    "            </td>\n",
    "        </tr>\n",
    "    </table>\n",
    "</center> \n",
    "\n",
    "* посчитайте сколько всего вы потратили за все время\n",
    "* посчитайте сколько заработали за все время\n",
    "* посчитайте какие самые частые у вас траты(можно попробовать с использванием словарей)"
   ]
  },
  {
   "cell_type": "code",
   "execution_count": 1,
   "metadata": {
    "scrolled": true
   },
   "outputs": [
    {
     "name": "stdout",
     "output_type": "stream",
     "text": [
      "count_lists:\n",
      "14\n",
      "14\n",
      "14\n"
     ]
    }
   ],
   "source": [
    "#всего приоход - расход - даты - количество\n",
    "\n",
    "list_buy = ['stripclub', 'buyshawa', 'buybread', 'buyski', 'buytent', 'buyhadlamp', 'buyfood', 'buyshoes', 'buyfood', 'buyski', 'buyfood', 'zp', 'found_coins_on_the_floor', 'buyicecream']\n",
    "list_price = [-10000, -150, -50, -50000, -5000, -3999, -5000, -50000, -12000, -25000, -45000, 300000, 150, -50]\n",
    "list_date = ['01.09', '02.09', '02.09', '05.09', '05.09', '07.09', '08.09', '08.09', '11.09', '12.09', '12.09', '13.09', '20.09', '29.09']\n",
    "\n",
    "print('count_lists:')\n",
    "print(len(list_buy))\n",
    "print(len(list_price))\n",
    "print(len(list_date))\n"
   ]
  },
  {
   "cell_type": "code",
   "execution_count": 19,
   "metadata": {},
   "outputs": [
    {
     "name": "stdout",
     "output_type": "stream",
     "text": [
      "(-206249, 'potracheno')\n"
     ]
    }
   ],
   "source": [
    "#расчет трат\n",
    "list_buy = ['stripclub', 'buyshawa', 'buybread', 'buyski', 'buytent', 'buyhadlamp', 'buyfood', 'buyshoes', 'buyfood', 'buyski', 'buyfood', 'zp', 'found_coins_on_the_floor', 'buyicecream']\n",
    "list_price = [-10000, -150, -50, -50000, -5000, -3999, -5000, -50000, -12000, -25000, -45000, 300000, 150, -50]\n",
    "list_date = ['01.09', '02.09', '02.09', '05.09', '05.09', '07.09', '08.09', '08.09', '11.09', '12.09', '12.09', '13.09', '20.09', '29.09']\n",
    "\n",
    "spent = 0\n",
    "for i in range(0, len(list_price)):\n",
    "    if list_price[i] < 0:\n",
    "        spent += list_price[i]\n",
    "\n",
    "print(spent, 'potracheno')\n",
    "\n"
   ]
  },
  {
   "cell_type": "code",
   "execution_count": 41,
   "metadata": {},
   "outputs": [
    {
     "name": "stdout",
     "output_type": "stream",
     "text": [
      "(300150, 'zarabotano')\n"
     ]
    }
   ],
   "source": [
    "#расчет заработка\n",
    "list_buy = ['stripclub', 'buyshawa', 'buybread', 'buyski', 'buytent', 'buyhadlamp', 'buyfood', 'buyshoes', 'buyfood', 'buyski', 'buyfood', 'zp', 'found_coins_on_the_floor', 'buyicecream']\n",
    "list_price = [-10000, -150, -50, -50000, -5000, -3999, -5000, -50000, -12000, -25000, -45000, 300000, 150, -50]\n",
    "list_date = ['01.09', '02.09', '02.09', '05.09', '05.09', '07.09', '08.09', '08.09', '11.09', '12.09', '12.09', '13.09', '20.09', '29.09']\n",
    "\n",
    "earn = 0\n",
    "for i in range(0, len(list_price)):\n",
    "    if list_price[i] > 0:\n",
    "        earn += list_price[i]\n",
    "\n",
    "print(earn, 'zarabotano')"
   ]
  },
  {
   "cell_type": "code",
   "execution_count": 42,
   "metadata": {},
   "outputs": [
    {
     "name": "stdout",
     "output_type": "stream",
     "text": [
      "('buyfood', 3, 'times')\n",
      "('buyski', 2, 'times')\n"
     ]
    }
   ],
   "source": [
    "from collections import Counter                    \n",
    "cnt = Counter (list_buy)\n",
    "dict (cnt)\n",
    "\n",
    "#print dict(cnt)\n",
    "\n",
    "for k, l in dict(cnt).items():\n",
    "    if l > 1:\n",
    "        print(k, l, 'times')\n",
    "\n"
   ]
  },
  {
   "cell_type": "code",
   "execution_count": 49,
   "metadata": {},
   "outputs": [],
   "source": [
    "#test for list buy\n",
    "\n",
    "def find_elenemt(element, lists):\n",
    "    k = 0\n",
    "    for i in lists:\n",
    "        if element == i:\n",
    "            return k\n",
    "        k += 1\n",
    "    return -1\n"
   ]
  },
  {
   "cell_type": "code",
   "execution_count": 50,
   "metadata": {},
   "outputs": [],
   "source": [
    "def test_1():\n",
    "    # тест на наличе buyshawa\n",
    "    findindex = find_elenemt('buyshawa', ['stripclub', 'buyshawa', 'buybread', 'buyski', 'buytent', 'buyhadlamp', 'buyfood', 'buyshoes', 'buyfood', 'buyski', 'buyfood', 'zp', 'found_coins_on_the_floor', 'buyicecream'])\n",
    "    if findindex != 1:\n",
    "        assert False"
   ]
  },
  {
   "cell_type": "code",
   "execution_count": 51,
   "metadata": {},
   "outputs": [],
   "source": [
    "def test_2():\n",
    "    # тест на наличе stripclub\n",
    "    findindex = find_elenemt('stripclub', ['stripclub', 'buyshawa', 'buybread', 'buyski', 'buytent', 'buyhadlamp', 'buyfood', 'buyshoes', 'buyfood', 'buyski', 'buyfood', 'zp', 'found_coins_on_the_floor', 'buyicecream'])\n",
    "    if findindex != 0:\n",
    "        assert False"
   ]
  },
  {
   "cell_type": "code",
   "execution_count": 52,
   "metadata": {},
   "outputs": [],
   "source": [
    "def test_3():\n",
    "    # тест на наличе stripclub\n",
    "    findindex = find_elenemt('buyski', ['stripclub', 'buyshawa', 'buybread', 'buyski', 'buytent', 'buyhadlamp', 'buyfood', 'buyshoes', 'buyfood', 'buyski', 'buyfood', 'zp', 'found_coins_on_the_floor', 'buyicecream'])\n",
    "    if findindex != 3:\n",
    "        assert False"
   ]
  },
  {
   "cell_type": "code",
   "execution_count": 53,
   "metadata": {},
   "outputs": [],
   "source": [
    "def test_all():\n",
    "    test_1()\n",
    "    test_2()\n",
    "    test_3()\n",
    "    print('all items in list!')"
   ]
  },
  {
   "cell_type": "code",
   "execution_count": 55,
   "metadata": {},
   "outputs": [
    {
     "name": "stdout",
     "output_type": "stream",
     "text": [
      "all items in list!\n"
     ]
    }
   ],
   "source": [
    "test_all()"
   ]
  },
  {
   "cell_type": "code",
   "execution_count": null,
   "metadata": {},
   "outputs": [],
   "source": []
  },
  {
   "cell_type": "code",
   "execution_count": null,
   "metadata": {},
   "outputs": [],
   "source": []
  },
  {
   "cell_type": "code",
   "execution_count": null,
   "metadata": {},
   "outputs": [],
   "source": []
  },
  {
   "cell_type": "markdown",
   "metadata": {},
   "source": [
    "# №3 Напишите функцию, которая перебирает числа от 1 до 15 (включительно) и возвращает список из чисел кратных 3."
   ]
  },
  {
   "cell_type": "code",
   "execution_count": null,
   "metadata": {},
   "outputs": [],
   "source": []
  },
  {
   "cell_type": "markdown",
   "metadata": {},
   "source": [
    "# №4 Оформить каждый пункт из задания 1 и 2 в виде функции"
   ]
  },
  {
   "cell_type": "markdown",
   "metadata": {},
   "source": [
    "# Пример ка кработать с словарями"
   ]
  },
  {
   "cell_type": "code",
   "execution_count": 2,
   "metadata": {},
   "outputs": [
    {
     "name": "stdout",
     "output_type": "stream",
     "text": [
      "{'home': 10, 'notebook': {'cpu': 2, 'memory': '100g'}, 'citis': ['Moscow', 'kazan', 'spb'], 'car': 'volvo'}\n",
      "{'cpu': 2, 'memory': '100g'}\n",
      "{'home': 10, 'notebook': {'cpu': 2, 'memory': '100g'}, 'citis': ['Moscow', 'kazan', 'spb'], 'temp': 'work', 'car': 'volvo'}\n",
      "{'home': 10, 'notebook': {'cpu': 2, 'memory': '100g'}, 'temp': 'work', 'car': 'volvo'}\n",
      "['home', 'notebook', 'temp', 'car']\n",
      "[10, {'cpu': 2, 'memory': '100g'}, 'work', 'volvo']\n",
      "[('home', 10), ('notebook', {'cpu': 2, 'memory': '100g'}), ('temp', 'work'), ('car', 'volvo')]\n",
      "---\n",
      "('key =', 'home', ' value =', 10)\n",
      "('key =', 'notebook', ' value =', {'cpu': 2, 'memory': '100g'})\n",
      "('key =', 'temp', ' value =', 'work')\n",
      "('key =', 'car', ' value =', 'volvo')\n"
     ]
    }
   ],
   "source": [
    "slovar = {\n",
    "    'home': 10,\n",
    "    'car': 'volvo',\n",
    "    'citis': ['Moscow', 'kazan', 'spb'],\n",
    "    'notebook': {\n",
    "        'memory': '100g',\n",
    "        'cpu': 2,\n",
    "    }\n",
    "}\n",
    "\n",
    "print(slovar)\n",
    "\n",
    "print(slovar['notebook'])\n",
    "\n",
    "slovar['temp'] = 'work'\n",
    "\n",
    "print(slovar)\n",
    "\n",
    "del slovar['citis']\n",
    "print(slovar)\n",
    "\n",
    "#keys\n",
    "#values\n",
    "#items\n",
    "\n",
    "print(slovar.keys())\n",
    "\n",
    "print(slovar.values())\n",
    "\n",
    "print(slovar.items())\n",
    "\n",
    "print('---')\n",
    "for k, l in slovar.items():\n",
    "    print('key =', k, ' value =', l)"
   ]
  },
  {
   "cell_type": "code",
   "execution_count": null,
   "metadata": {},
   "outputs": [],
   "source": []
  }
 ],
 "metadata": {
  "kernelspec": {
   "display_name": "Python 2",
   "language": "python",
   "name": "python2"
  },
  "language_info": {
   "codemirror_mode": {
    "name": "ipython",
    "version": 2
   },
   "file_extension": ".py",
   "mimetype": "text/x-python",
   "name": "python",
   "nbconvert_exporter": "python",
   "pygments_lexer": "ipython2",
   "version": "2.7.12"
  }
 },
 "nbformat": 4,
 "nbformat_minor": 2
}
