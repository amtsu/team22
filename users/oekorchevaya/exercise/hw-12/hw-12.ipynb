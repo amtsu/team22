{
 "cells": [
  {
   "cell_type": "markdown",
   "id": "0a49ec46-d904-48ec-a565-4dbe562f9547",
   "metadata": {},
   "source": [
    "# Реализуйте задния\n",
    "\n",
    "## Задание 1. Вспомним матан\n",
    "Созлдайте класс для работы с матрицами. Который будет представлять матрицы и поддреживать основные операции сложение, вычитание умножение транспонирование. Затем добавьте методы для вычисления определителя матрицы и вычисления обраной матрицы.\n"
   ]
  },
  {
   "cell_type": "code",
   "execution_count": 4,
   "id": "11085f7c-fe3b-4b7d-b4a7-1529c5a6128c",
   "metadata": {},
   "outputs": [],
   "source": [
    "import numpy as np"
   ]
  },
  {
   "cell_type": "code",
   "execution_count": 95,
   "id": "405584e0-b93a-4c8c-bebf-06846fe1216e",
   "metadata": {},
   "outputs": [],
   "source": [
    "class Matrix():\n",
    "\n",
    "    ''' Класс матриц, который поддерживает основные операции: сложение, вычитание, умножение, транспонирование. \n",
    "    Есть методы для вычисления определителя матрицы и вычисления обраной матрицы.\n",
    "    Функции возвращают объекты класса'''\n",
    "    \n",
    "    def __init__(self, matrix):\n",
    "        self.matrix = matrix\n",
    "        self.row = len(matrix)\n",
    "        self.col = len(matrix[0])\n",
    "\n",
    "    def show(self):\n",
    "        for string in self.matrix:\n",
    "            print(*string, sep = ' ')\n",
    "        \n",
    "    def summ(self, other):\n",
    "        if self.row != other.row and self.col != other.col:\n",
    "            print('Матрицы разных размеров')\n",
    "            return\n",
    "        else: \n",
    "            m = [[0 for _ in range(self.col)] for _ in range(self.row)]\n",
    "            for i in range(self.row):\n",
    "                for j in range(self.col):\n",
    "                    m[i][j] = self.matrix[i][j] + other.matrix[i][j]\n",
    "            return Matrix(m)\n",
    "            \n",
    "    def subtract(self, other):\n",
    "        if self.row != other.row and self.col != other.col:\n",
    "            print('Матрицы разных размеров')\n",
    "            return \n",
    "        else: \n",
    "            m = [[0 for _ in range(self.col)] for _ in range(self.row)]\n",
    "            for i in range(self.row):\n",
    "                for j in range(self.col):\n",
    "                    m[i][j] = self.matrix[i][j] - other.matrix[i][j]\n",
    "            return Matrix(m)\n",
    "\n",
    "    def multiply(self, other):\n",
    "        if self.col != other.row:\n",
    "            print('Матрицы не подходящих размеров для умножения')\n",
    "            return \n",
    "        else:\n",
    "            # Транспонируем вторую матрицу для удобства получения колонки\n",
    "            transposed = [[0 for _ in range(other.row)] for _ in range(other.col)]\n",
    "            for i in range(other.col):\n",
    "                for j in range(other.row):\n",
    "                    transposed[i][j] = other.matrix[j][i]\n",
    "                   \n",
    "            m = [[0 for _ in range(other.col)] for _ in range(self.row)]\n",
    "            for i in range(self.row):\n",
    "                for j in range(other.col):\n",
    "                    m[i][j] = sum([x * y for x, y in zip(self.matrix[i], transposed[j])])\n",
    "            \n",
    "            return Matrix(m)\n",
    "            \n",
    "    def determinant(self):\n",
    "        if self.col != self.row:\n",
    "            print('Определителя для не квадратной матрицы не существует')\n",
    "            return\n",
    "        else:\n",
    "            return round(np.linalg.det(self.matrix))\n",
    "\n",
    "\n",
    "    def inverse(self):\n",
    "        if not self.determinant():\n",
    "            print('Обратной матрицы не существует')\n",
    "            return\n",
    "        elif self.determinant() == 0:\n",
    "            print('Определитель равен нулю, обратной матрицы не существует')\n",
    "        else:\n",
    "            return Matrix(np.linalg.inv(self.matrix))\n",
    "\n",
    "    "
   ]
  },
  {
   "attachments": {
    "9e2aec65-c42e-4c2e-9a35-fa2da2eb98b0.png": {
     "image/png": "[encoded data removed]"
    },
    "ccd37d91-ef48-42af-9afb-8e87129bd1e6.png": {
     "image/png": "[encoded data removed]"
    }
   },
   "cell_type": "markdown",
   "id": "5076314b-2245-4436-8296-729787a643d9",
   "metadata": {},
   "source": [
    "![image.png](attachment:9e2aec65-c42e-4c2e-9a35-fa2da2eb98b0.png)\n",
    "\n",
    "![image.png](attachment:ccd37d91-ef48-42af-9afb-8e87129bd1e6.png)\n",
    "\n"
   ]
  },
  {
   "cell_type": "code",
   "execution_count": 96,
   "id": "4239e795-01be-4883-be21-3c1be6d1c988",
   "metadata": {},
   "outputs": [],
   "source": [
    "m1 = Matrix([[3,4] , [1,2]])\n",
    "m2 = Matrix([[1,2,3], [4,5,6], [7, 8, 9]])\n",
    "m3 = Matrix([[1,1,1], [1,1,1], [1,1,1]])\n",
    "m4 = Matrix([[1,1,1], [1,1,1]])\n",
    "m5 = Matrix([[5,6], [7,8], [9,10]])"
   ]
  },
  {
   "cell_type": "code",
   "execution_count": 97,
   "id": "4e61f30e-7d28-460a-a4b7-fd6ca26324d3",
   "metadata": {},
   "outputs": [
    {
     "name": "stdout",
     "output_type": "stream",
     "text": [
      "Матрицы разных размеров\n"
     ]
    }
   ],
   "source": [
    "# Сложение и вычитание существует только для матриц одинакового размера\n",
    "m1.summ(m2)"
   ]
  },
  {
   "cell_type": "code",
   "execution_count": 98,
   "id": "97a219c8-21fe-4389-af1b-26a5bc5fcc50",
   "metadata": {},
   "outputs": [
    {
     "name": "stdout",
     "output_type": "stream",
     "text": [
      "2 3 4\n",
      "5 6 7\n",
      "8 9 10\n"
     ]
    }
   ],
   "source": [
    "m2.summ(m3).show()"
   ]
  },
  {
   "cell_type": "code",
   "execution_count": 99,
   "id": "4f4d27d2-774e-4e4c-a7f4-dbcbe273a8ae",
   "metadata": {},
   "outputs": [
    {
     "name": "stdout",
     "output_type": "stream",
     "text": [
      "0 1 2\n",
      "3 4 5\n",
      "6 7 8\n"
     ]
    }
   ],
   "source": [
    "m2.subtract(m3).show()"
   ]
  },
  {
   "cell_type": "code",
   "execution_count": 100,
   "id": "2dea19af-dfd1-412b-b055-8f0dcc742fdf",
   "metadata": {},
   "outputs": [
    {
     "name": "stdout",
     "output_type": "stream",
     "text": [
      "21 24\n",
      "21 24\n"
     ]
    }
   ],
   "source": [
    "# Матричное умножение возможно между матрицами размеров MxK и KxN. Полученная матрица будет размера MxN.\n",
    "m4.multiply(m5).show()"
   ]
  },
  {
   "cell_type": "code",
   "execution_count": 101,
   "id": "a7f21363-e7b3-4999-a169-7ed286502bf9",
   "metadata": {},
   "outputs": [
    {
     "name": "stdout",
     "output_type": "stream",
     "text": [
      "11 11 11\n",
      "15 15 15\n",
      "19 19 19\n"
     ]
    }
   ],
   "source": [
    "m5.multiply(m4).show()"
   ]
  },
  {
   "attachments": {
    "8c397a80-ca02-4f7e-8e53-6a80d14f25dc.png": {
     "image/png": "[encoded data removed]"
    },
    "beeedce5-8a00-4b46-8386-857e2ee29111.png": {
     "image/png": "[encoded data removed]"
    }
   },
   "cell_type": "markdown",
   "id": "029b874c-873c-4281-9ff5-d5456e081edc",
   "metadata": {},
   "source": [
    "![Снимок экрана 2024-04-11 в 15.09.41.png](attachment:8c397a80-ca02-4f7e-8e53-6a80d14f25dc.png)\n",
    "\n",
    "![image.png](attachment:beeedce5-8a00-4b46-8386-857e2ee29111.png)"
   ]
  },
  {
   "cell_type": "code",
   "execution_count": 102,
   "id": "19162aad-8d60-4a4e-b971-ec21cbca6ae2",
   "metadata": {},
   "outputs": [
    {
     "name": "stdout",
     "output_type": "stream",
     "text": [
      "Матрицы не подходящих размеров для умножения\n"
     ]
    }
   ],
   "source": [
    "m1.multiply(m2)"
   ]
  },
  {
   "cell_type": "code",
   "execution_count": 103,
   "id": "84218b12-9d56-40cf-b58c-278e2eb9d4b0",
   "metadata": {},
   "outputs": [
    {
     "name": "stdout",
     "output_type": "stream",
     "text": [
      "Определителя для не квадратной матрицы не существует\n",
      "Определителя для не квадратной матрицы не существует\n",
      "2\n",
      "0\n",
      "0\n",
      "None\n",
      "None\n"
     ]
    }
   ],
   "source": [
    "# Детерминант имеет смысл растяжения или искажения евклидова пространства, поэтому сущетсвует только для квадратных матриц.\n",
    "print(\n",
    "    m1.determinant(),\n",
    "    m2.determinant(),\n",
    "    m3.determinant(),\n",
    "    m4.determinant(), #не квадратная матрица\n",
    "    m5.determinant(), #не квадратная матрица\n",
    "    sep = '\\n'\n",
    ")"
   ]
  },
  {
   "cell_type": "code",
   "execution_count": 104,
   "id": "14a1f84a-77b9-43b2-8cc8-d3c99ec4d3f0",
   "metadata": {},
   "outputs": [
    {
     "name": "stdout",
     "output_type": "stream",
     "text": [
      "0.9999999999999998 -1.9999999999999996\n",
      "-0.4999999999999999 1.4999999999999998\n"
     ]
    }
   ],
   "source": [
    "# Обратная матрица существует только при условии существования детерминанта (те квадратной матрицы) и если он не равен нулю.\n",
    "m1.inverse().show()"
   ]
  },
  {
   "attachments": {
    "cb6194c3-8c33-4834-834e-e0278f6d6854.png": {
     "image/png": "[encoded data removed]"
    }
   },
   "cell_type": "markdown",
   "id": "7844658a-a5e5-427d-a4ab-312f4afaa419",
   "metadata": {},
   "source": [
    "![image.png](attachment:cb6194c3-8c33-4834-834e-e0278f6d6854.png)"
   ]
  },
  {
   "cell_type": "code",
   "execution_count": 105,
   "id": "9229b0f6-957f-4ff8-9f38-4e19a512e468",
   "metadata": {},
   "outputs": [
    {
     "name": "stdout",
     "output_type": "stream",
     "text": [
      "Обратной матрицы не существует\n"
     ]
    }
   ],
   "source": [
    "m2.inverse()"
   ]
  },
  {
   "cell_type": "code",
   "execution_count": 106,
   "id": "da8df6c7-75b6-4fc9-90a7-80cf500b644d",
   "metadata": {},
   "outputs": [
    {
     "name": "stdout",
     "output_type": "stream",
     "text": [
      "Обратной матрицы не существует\n"
     ]
    }
   ],
   "source": [
    "m3.inverse()"
   ]
  },
  {
   "cell_type": "code",
   "execution_count": 107,
   "id": "eb8f62ca-974f-433e-8bda-2ab5d8abe730",
   "metadata": {},
   "outputs": [
    {
     "name": "stdout",
     "output_type": "stream",
     "text": [
      "Определителя для не квадратной матрицы не существует\n",
      "Обратной матрицы не существует\n"
     ]
    }
   ],
   "source": [
    "m4.inverse()"
   ]
  },
  {
   "cell_type": "code",
   "execution_count": 108,
   "id": "ef59b99b-3a0b-4a5a-b57a-54d10bfed68c",
   "metadata": {},
   "outputs": [
    {
     "name": "stdout",
     "output_type": "stream",
     "text": [
      "Определителя для не квадратной матрицы не существует\n",
      "Обратной матрицы не существует\n"
     ]
    }
   ],
   "source": [
    "m5.inverse()"
   ]
  },
  {
   "cell_type": "code",
   "execution_count": 109,
   "id": "fce2dc12-bcbd-4df0-943b-59e3b215dbf5",
   "metadata": {},
   "outputs": [],
   "source": [
    "m6 = Matrix([ [1, -2, 3], [0, 4, -1], [5, 0, 1] ])"
   ]
  },
  {
   "attachments": {
    "86a89697-baf6-4f76-ae26-5296451d1964.png": {
     "image/png": "[encoded data removed]"
    }
   },
   "cell_type": "markdown",
   "id": "c5218352-4666-4f49-a7fc-3dbad1dbbd82",
   "metadata": {},
   "source": [
    "![image.png](attachment:86a89697-baf6-4f76-ae26-5296451d1964.png)"
   ]
  },
  {
   "cell_type": "code",
   "execution_count": 113,
   "id": "aa93076b-287d-4486-a450-7bb170218f32",
   "metadata": {},
   "outputs": [
    {
     "name": "stdout",
     "output_type": "stream",
     "text": [
      "-0.08695652173913045 -0.04347826086956522 0.21739130434782608\n",
      "0.10869565217391305 0.30434782608695654 -0.02173913043478261\n",
      "0.4347826086956522 0.2173913043478261 -0.08695652173913045\n"
     ]
    }
   ],
   "source": [
    "m6.inverse().show()\n",
    "m6_inversed = m6.inverse()"
   ]
  },
  {
   "cell_type": "code",
   "execution_count": 115,
   "id": "cfae61a8-afbc-4658-9318-e2215090b37f",
   "metadata": {},
   "outputs": [
    {
     "name": "stdout",
     "output_type": "stream",
     "text": [
      "1.0 0.0 -5.551115123125783e-17\n",
      "0.0 1.0 0.0\n",
      "0.0 0.0 0.9999999999999999\n"
     ]
    }
   ],
   "source": [
    "m6.multiply(m6_inversed).show()"
   ]
  },
  {
   "cell_type": "markdown",
   "id": "8c39bed2-3aec-4ab5-ad22-330c2493e6a5",
   "metadata": {},
   "source": [
    "## Задание 2. \n",
    "\n",
    "Разарботайте классы Warehouse Product Order для управления складскими запасами. Реализуйте функцонал по добавлению и списанию остатков, учету остатоков на складе и формированию заказа."
   ]
  },
  {
   "cell_type": "code",
   "execution_count": null,
   "id": "3ad7885f-4913-4241-b3a7-acc2e6f214ba",
   "metadata": {},
   "outputs": [],
   "source": []
  }
 ],
 "metadata": {
  "kernelspec": {
   "display_name": "Python 3 (ipykernel)",
   "language": "python",
   "name": "python3"
  },
  "language_info": {
   "codemirror_mode": {
    "name": "ipython",
    "version": 3
   },
   "file_extension": ".py",
   "mimetype": "text/x-python",
   "name": "python",
   "nbconvert_exporter": "python",
   "pygments_lexer": "ipython3",
   "version": "3.10.10"
  }
 },
 "nbformat": 4,
 "nbformat_minor": 5
}
