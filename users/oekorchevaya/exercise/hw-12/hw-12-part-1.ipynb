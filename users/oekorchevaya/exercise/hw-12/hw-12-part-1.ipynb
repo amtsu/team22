{
 "cells": [
  {
   "cell_type": "markdown",
   "id": "148a67cf-f3d5-4175-898e-a2201786ac66",
   "metadata": {},
   "source": [
    "# Создайте классы"
   ]
  },
  {
   "cell_type": "markdown",
   "id": "23644a8e-64cf-44a7-b736-1140e424d556",
   "metadata": {},
   "source": [
    "1. Создайте класс Car, который представляет автомобиль. У него должны быть атрибуты для хранения модели, года выпуска, цвета, количества дверей и текущей скорости. Добавьте методы которые возвращают год, марку, цвет и текущую скорость автомобиля."
   ]
  },
  {
   "cell_type": "code",
   "execution_count": 1,
   "id": "031b15de-6eed-4599-873a-6a9614058d39",
   "metadata": {},
   "outputs": [],
   "source": [
    "class Car():\n",
    "    \n",
    "    def __init__(self, model, year, color,  number_doors, speed):\n",
    "        self.model = model\n",
    "        self.year = year\n",
    "        self.color = color\n",
    "        self.number_doors = number_doors\n",
    "        self.speed = speed\n",
    "        \n",
    "    def car_model(self):\n",
    "        return self.model\n",
    "        \n",
    "    def car_year(self):\n",
    "        return self.year\n",
    "\n",
    "    def car_color(self):\n",
    "        return self.color\n",
    "    \n",
    "    def car_number_doors(self):\n",
    "        return self.number_doors\n",
    "    \n",
    "    def car_speed(self):\n",
    "        return self.speed"
   ]
  },
  {
   "cell_type": "markdown",
   "id": "c43d2bd0-de35-4b4d-a61c-c80515a4e778",
   "metadata": {},
   "source": [
    "2. Создайте класс Student, который представляет студент. У него должны быть атрибуты для хранения имени, фамилии, возраста, адреса и список оценок."
   ]
  },
  {
   "cell_type": "code",
   "execution_count": null,
   "id": "57d2ef51-847d-4367-b18c-891b46722823",
   "metadata": {},
   "outputs": [],
   "source": [
    "class Student():\n",
    "    def __init__(self, name, surname, age, adress, grades_list):\n",
    "        self.name = name\n",
    "        self.surname = surname\n",
    "        self.age = age\n",
    "        self.adress = adress\n",
    "        self.grades_list = grades_list"
   ]
  },
  {
   "cell_type": "markdown",
   "id": "77f19efc-3227-4401-8f11-f3cac3c068dd",
   "metadata": {},
   "source": [
    "3. Создайте класс Book, который представляет книгу. У него должны быть атрибуты для хранения названия, автора, количества страниц и издательства. Добавьте методы для установки и получения этих атрибутов."
   ]
  },
  {
   "cell_type": "code",
   "execution_count": 33,
   "id": "ea614a28-9472-4177-866e-28a0b74374e3",
   "metadata": {},
   "outputs": [],
   "source": [
    "class Book():\n",
    "    def __init__(self, name = None, author = None, n_pages = None, published_house = None):\n",
    "        self.name = name\n",
    "        self.author = author\n",
    "        self.n_pages = n_pages\n",
    "        self.published_house = published_house\n",
    "\n",
    "    def set_name(self, name):\n",
    "        self.name = name\n",
    "\n",
    "#и так далее..."
   ]
  },
  {
   "cell_type": "markdown",
   "id": "c0262c46-df82-43aa-bb2c-728c1ba9bbd0",
   "metadata": {},
   "source": [
    "4. Создайте класс ShoppingCart, который представляет корзину покупок. У него должен быть атрибут для хранения списка товаров. Добавьте методы для добавления, удаления, отображения товаров в корзине и вычиckbnt стоимости всей корзины."
   ]
  },
  {
   "cell_type": "code",
   "execution_count": 115,
   "id": "e9b18bf8-d115-43cc-8e71-4f09f19dbb2d",
   "metadata": {},
   "outputs": [],
   "source": [
    "class ShoppingCart():\n",
    "    def __init__(self, data = []):\n",
    "        self._index = ('Название покупки', 'Стоимость')\n",
    "        self.data = data\n",
    "\n",
    "        count = 0\n",
    "        for item in data:\n",
    "            count += item[1]\n",
    "        \n",
    "        self.summ = count\n",
    "\n",
    "    def add(self, purchaise):\n",
    "        self.data.append(purchaise)\n",
    "        self.summ += purchaise[1]\n",
    "\n",
    "    def delete(self, purchaise):\n",
    "        self.data.remove(purchaise)\n",
    "        self.summ -= purchaise[1]\n",
    "\n",
    "    def show_data(self):\n",
    "        print(self._index)\n",
    "        for item in self.data:\n",
    "            print(item)\n",
    "\n",
    "    def find(self, name):\n",
    "        \n",
    "        finded = []\n",
    "        \n",
    "        for item in self.data:\n",
    "            if item[0] == name:\n",
    "                finded.append(item)\n",
    "\n",
    "        if finded:\n",
    "            return finded\n",
    "        else:\n",
    "            return None"
   ]
  },
  {
   "cell_type": "markdown",
   "id": "432cf6e3-ca93-43e4-9a48-e59bb4d6abd8",
   "metadata": {},
   "source": [
    "5. Создайте класс Circle, который представляет круг. У него должен быть атрибут для хранения радиуса и цвета. Добавьте методы для вычисления площади и периметра круга."
   ]
  },
  {
   "cell_type": "code",
   "execution_count": 7,
   "id": "69323992-bdea-4380-8e1f-d9b166141178",
   "metadata": {},
   "outputs": [],
   "source": [
    "class Circle():\n",
    "    def __init__(self, radius, color):\n",
    "        self.radius = radius\n",
    "        self.color = color\n",
    "\n",
    "    def area(self):\n",
    "        return 3.14*self.radius**2\n",
    "    def perimeter(self):\n",
    "        return 2 * 3.14  *self.radius\n",
    "        "
   ]
  },
  {
   "cell_type": "markdown",
   "id": "5ecd4418-059e-4fe8-a125-da74ce98fefd",
   "metadata": {},
   "source": [
    "6. Создайте класс Point, который представляет точку в двумерном пространстве. У него должны быть атрибуты для хранения координат x и y. Добавьте методы для вычисления расстояния между двумя точками."
   ]
  },
  {
   "cell_type": "code",
   "execution_count": 17,
   "id": "d40440f7-46d9-4c73-9410-622015f9f0b5",
   "metadata": {},
   "outputs": [],
   "source": [
    "class Point():\n",
    "    def __init__(self, x, y):\n",
    "        self.x = x\n",
    "        self.y = y\n",
    "    def distance(self, other):\n",
    "        return ((self.x - other.x)**2 + (self.y - other.y)**2)**(1/2)\n",
    "        "
   ]
  },
  {
   "cell_type": "markdown",
   "id": "2db5f269-f0d3-4ddf-ac39-8475e74c5653",
   "metadata": {},
   "source": [
    "7. Создайте класс Triangle, который представляет треугольник. У него должны быть атрибуты длины сторон. Добавьте методы для вычисления перимера треугольника и методы вычисления типа треугольника ( равностороннйи, павнобедренный, прямоуголный или разносторонний)."
   ]
  },
  {
   "cell_type": "code",
   "execution_count": null,
   "id": "8f31ea8c-0b40-4f3e-8807-e311e8cef945",
   "metadata": {},
   "outputs": [],
   "source": [
    "class Triangle():\n",
    "    def __init__(self, a, b, c):\n",
    "        self.a = a\n",
    "        self.b = b\n",
    "        self.c = c\n",
    "\n",
    "    def perimeter(self):\n",
    "        return self.a + self.b + self.c\n",
    "\n",
    "    def type(self):\n",
    "        \"\"\"\n",
    "        Функция, определяющая тип треугольника по длинам его сторон.\n",
    "        прямоугольный треугольник не будет распознаваться и будет вывод для \n",
    "        несуществующего треугольника.\n",
    "        \"\"\"\n",
    "    \n",
    "        sides = [self.a, self.b, self.c]\n",
    "        \n",
    "        for element in sides:\n",
    "            if not (type(element) == float) and not (type(element) == int):\n",
    "                return 'Неверный тип входных данных. Ожидаются положительные числа больше нуля'\n",
    "            elif element <= 0:\n",
    "                return 'Отрицательные или нулевые входные данные. Ожидаются положительные числа больше нуля'\n",
    "    \n",
    "        result = \"не треугольник\"\n",
    "        triangle_exist = (self.a < (self.b + self.c)) and (self.b < (self.a + self.c)) and (self.c < (self.a + self.b))\n",
    "        \n",
    "        if triangle_exist:\n",
    "            sides.sort()\n",
    "            acuteTriangle = (sides[0]**2 + sides[1]**2) > sides[2]**2 \n",
    "            obtuseTriangle = (sides[0]**2 + sides[1]**2) < sides[2]**2\n",
    "            rightTriangle = abs((sides[0]**2 + sides[1]**2) - sides[2]**2) <= 0.01 \n",
    "    \n",
    "            if acuteTriangle:\n",
    "                result = \"остроугольный\"\n",
    "            elif obtuseTriangle:\n",
    "                result = \"тупоугольный\"\n",
    "            elif rightTriangle:\n",
    "                result  = \"прямоугольный\"\n",
    "        \n",
    "        return result\n",
    "        "
   ]
  },
  {
   "cell_type": "markdown",
   "id": "8d07e3e4-f1f7-410a-bbe7-dbcf5e2d8ee7",
   "metadata": {},
   "source": [
    "8. Создайте класс BankAccount, который представляет банковский счет. У него должны быть атрибуты для хранения номера счета, имени владельца и баланса. Добавьте методы для внесения и снятия денег со счета."
   ]
  },
  {
   "cell_type": "code",
   "execution_count": null,
   "id": "c909272d-cf7c-4de1-85b1-a341937090d5",
   "metadata": {},
   "outputs": [],
   "source": [
    "class BankAccount():\n",
    "    \n",
    "    def __init__(self, bank_account_number, name, balance):\n",
    "        self.bank_account_number = bank_account_number\n",
    "        self.name = name\n",
    "        self.balance = balance\n",
    "    \n",
    "    def withdrawing(self, sum):\n",
    "        self.balance += sum\n",
    "        \n",
    "    def deposit(self, sum):\n",
    "        self.balance -= sum"
   ]
  },
  {
   "cell_type": "markdown",
   "id": "2d849ca5-a527-41cc-9ebf-705f76799e49",
   "metadata": {},
   "source": [
    "9. Создайте класс Date, который представляет дату. У него должны быть атрибуты для хранения дня, месяца и года. Добавьте методы для сравнения двух дат и вычисления разницы между ними."
   ]
  },
  {
   "cell_type": "code",
   "execution_count": 24,
   "id": "f3deb23a-76bc-4f0b-a69a-0478f4ef9573",
   "metadata": {},
   "outputs": [],
   "source": [
    "import datetime"
   ]
  },
  {
   "cell_type": "code",
   "execution_count": 29,
   "id": "bff4d431-94cb-4de5-b414-7c525454a686",
   "metadata": {},
   "outputs": [],
   "source": [
    "class Date():\n",
    "    \n",
    "    def __init__(self, day, mounth, year):\n",
    "        self.day = day\n",
    "        self.mounth = mounth\n",
    "        self.year = year\n",
    "        self.date = datetime.datetime(year, mounth, day)\n",
    "    \n",
    "    def __sub__(self, other):\n",
    "        return (self.date - other.date).days\n",
    "\n",
    "    def more_than(self, other):\n",
    "        return (self.date > other.date)"
   ]
  },
  {
   "cell_type": "markdown",
   "id": "1c196431-3d1f-472f-aedb-8627caa8a05c",
   "metadata": {},
   "source": [
    "# Оформите каждый класс в отдельный модуль и напишиет на эти классы тесты."
   ]
  }
 ],
 "metadata": {
  "kernelspec": {
   "display_name": "Python 3 (ipykernel)",
   "language": "python",
   "name": "python3"
  },
  "language_info": {
   "codemirror_mode": {
    "name": "ipython",
    "version": 3
   },
   "file_extension": ".py",
   "mimetype": "text/x-python",
   "name": "python",
   "nbconvert_exporter": "python",
   "pygments_lexer": "ipython3",
   "version": "3.10.10"
  }
 },
 "nbformat": 4,
 "nbformat_minor": 5
}
