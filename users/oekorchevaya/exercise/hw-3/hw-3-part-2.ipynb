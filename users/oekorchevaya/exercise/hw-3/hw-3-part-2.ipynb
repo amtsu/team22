{
 "cells": [
  {
   "cell_type": "markdown",
   "id": "e3102c7b-f7c1-437b-9563-12b22b8f748f",
   "metadata": {},
   "source": [
    "# Задание 1\n",
    "Вычислить результат следующих операций:\\\n",
    "10 * (5 + 3)\\\n",
    "(20 - 6) / 2\\\n",
    "2 ** 5 (возведение 2 в 5-ю степень)\\\n",
    "25 // 4 (целая часть от деления)\\\n",
    "25 % 4 (остаток от деления)"
   ]
  },
  {
   "cell_type": "code",
   "execution_count": 41,
   "id": "cd6f302a-8734-495a-a8f4-49b35b1b502d",
   "metadata": {},
   "outputs": [
    {
     "name": "stdout",
     "output_type": "stream",
     "text": [
      "80\n",
      "7.0\n",
      "32\n",
      "6\n",
      "1\n"
     ]
    }
   ],
   "source": [
    "print(10*(5+3))\n",
    "print((20-6)/2)\n",
    "print(2**5)\n",
    "print(25//4)\n",
    "print(25%4)"
   ]
  },
  {
   "cell_type": "markdown",
   "id": "942c007f-6502-4308-8e0d-25d91d5e3369",
   "metadata": {},
   "source": [
    "# Задание 2\n",
    "Дано дробное число:\n",
    "number = -3.14\n",
    "Выполнить следующие операции:\n",
    "Округлите число до целого.\n",
    "Возьмите остаток числа."
   ]
  },
  {
   "cell_type": "code",
   "execution_count": 42,
   "id": "220b6ca0-29db-40ef-8ae0-8b5a636b5c0f",
   "metadata": {},
   "outputs": [
    {
     "name": "stdout",
     "output_type": "stream",
     "text": [
      "round_number: -3\n",
      "-0.14\n"
     ]
    }
   ],
   "source": [
    "number = -3.14\n",
    "round_number = round(number)\n",
    "print('round_number:', round_number)\n",
    "print(round(number%round_number,4))"
   ]
  },
  {
   "cell_type": "markdown",
   "id": "374f9efe-a3f5-48ca-a1ad-8a499bd97734",
   "metadata": {},
   "source": [
    "# Задание 3\n",
    "Даны стороны прямоугольника: a = 5, b = 7.\n",
    "Вычислить площадь прямоугольника и вывести результат на экран.\n"
   ]
  },
  {
   "cell_type": "code",
   "execution_count": 10,
   "id": "ae3c45ac-48d8-4642-84a2-98284f3f3ee8",
   "metadata": {},
   "outputs": [
    {
     "name": "stdout",
     "output_type": "stream",
     "text": [
      "35\n"
     ]
    }
   ],
   "source": [
    "a =5\n",
    "b =7\n",
    "s = a*b\n",
    "print(s)"
   ]
  },
  {
   "cell_type": "markdown",
   "id": "13d5bf15-ec5e-4943-89d9-a35a05755559",
   "metadata": {},
   "source": [
    "# Задание 4\n",
    "На какой обьем воздуха должен быть расчитан кондиционер, если с его помощью хотят охлаждать квартиру в которой размер гостинной 3.5 на 6.4 метра, спальни 3.4 на 4 метра и площадь не жилой части 11 метров. При том что высота потолков 3,1 метр.\n"
   ]
  },
  {
   "cell_type": "code",
   "execution_count": 22,
   "id": "5afe9aa3-1207-4364-9d6f-9a56eb7e94c3",
   "metadata": {},
   "outputs": [
    {
     "name": "stdout",
     "output_type": "stream",
     "text": [
      "69.44000000000001 42.16 34.1\n",
      "145.7 m^2\n"
     ]
    }
   ],
   "source": [
    "a1 = 3.5\n",
    "b1 = 6.4\n",
    "a2 = 3.4\n",
    "b2 = 4\n",
    "s3 = 11\n",
    "h = 3.1\n",
    "\n",
    "v1 = a1 * b1 * h\n",
    "v2 = a2 * b2 * h\n",
    "v3 = s3 * h\n",
    "print(v1, v2, v3)\n",
    "v_summ = v1 + v2 + v3\n",
    "\n",
    "print(round(v_summ,3), 'm^2')"
   ]
  },
  {
   "cell_type": "markdown",
   "id": "0712195b-273e-4919-b0f0-18b669e2dbd4",
   "metadata": {},
   "source": [
    "\n",
    "**Chat gpt:** Появление, казалось бы, посторонних цифр после десятичной точки в числах с плавающей запятой является общей характеристикой того, как компьютеры представляют действительные числа. В Python и многих других языках программирования числа с плавающей запятой хранятся с использованием стандарта IEEE 754.\n",
    "\n",
    "Двоичное представление с плавающей запятой часто приводит к ошибкам округления из-за ограничений, присущих представлению определенных десятичных дробей именно в двоичной форме. Например, десятичную дробь 0,1 нельзя представить точно как конечную двоичную дробь, что приводит к небольшим расхождениям."
   ]
  },
  {
   "cell_type": "markdown",
   "id": "f7149b77-e746-40d2-af44-b5ef735cf900",
   "metadata": {},
   "source": [
    "# Задание 5\n",
    "Дано квадратное уравнение вида ax^2 + bx + c = 0.\n",
    "Найти его решения, используя формулу дискриминанта.\\\n",
    "a номер текущего месяца\\\n",
    "b номер вашей группы\\\n",
    "c минус десять (-10)\n"
   ]
  },
  {
   "cell_type": "code",
   "execution_count": 1,
   "id": "bdc5a0ce-9d2a-4421-a571-e29b3a70c333",
   "metadata": {},
   "outputs": [
    {
     "name": "stdout",
     "output_type": "stream",
     "text": [
      "1.0 -5.0\n"
     ]
    }
   ],
   "source": [
    "import math\n",
    "\n",
    "a = 2\n",
    "b = 8\n",
    "c = -10\n",
    "\n",
    "d = b**2 - 4*a*c\n",
    "x1 = (-b + math.sqrt(d))/(2*a)\n",
    "x2 = (-b - math.sqrt(d))/(2*a)\n",
    "print(x1,x2)"
   ]
  },
  {
   "cell_type": "markdown",
   "id": "c221e4b5-0734-4c52-ab2e-81c6bdac7db2",
   "metadata": {},
   "source": [
    "# Задача 6\n",
    "Даны строки:\n",
    "string1 = \"hello, \"\n",
    "string2 = \"world!\"\n",
    "Объединить строки string1 и string2 и результат вывести на экран так чтобы первая буква в предложент стала заглавной.\n",
    "\n",
    "Сколько символов было в предыдущей строке?"
   ]
  },
  {
   "cell_type": "code",
   "execution_count": 44,
   "id": "d50f771b-cf5f-4f5f-989f-301a85d1acc4",
   "metadata": {},
   "outputs": [
    {
     "name": "stdout",
     "output_type": "stream",
     "text": [
      "Hello, world!\n",
      "13\n"
     ]
    }
   ],
   "source": [
    "string1 = \"hello, \"\n",
    "string2 = \"world!\"\n",
    "print(string1.title() + string2)\n",
    "print(len(string1.title() + string2))"
   ]
  },
  {
   "cell_type": "markdown",
   "id": "7b81a76e-ca50-48b1-859b-1918bbbd33a5",
   "metadata": {},
   "source": [
    "# Задача 7\n",
    "Выведите на экран строку la 25 раз.\n"
   ]
  },
  {
   "cell_type": "code",
   "execution_count": 45,
   "id": "3b21d273-383e-4c09-bc01-6dcf2eb191a5",
   "metadata": {},
   "outputs": [
    {
     "name": "stdout",
     "output_type": "stream",
     "text": [
      "la la la la la la la la la la la la la la la la la la la la la la la la la \n"
     ]
    }
   ],
   "source": [
    "stroka = 'la '\n",
    "print(stroka*25)"
   ]
  },
  {
   "cell_type": "markdown",
   "id": "f3d18de6-5b04-40cf-9111-94d28727de93",
   "metadata": {},
   "source": [
    "# Задача 8\n",
    "Дан список чисел:\n",
    "numbers = [1, 2, 3, 4, 5]\\\n",
    "Выполнить следующие операции:\n",
    "1. Измените число 2 на строку \"hi\"\n",
    "2. Выведите значение, находящееся на позиции 2.\n",
    "3. Изменить значение на позиции 4 на список из 3 элементов [8, 6, 4].\\\n",
    "Результаты вывести на экран.\n"
   ]
  },
  {
   "cell_type": "code",
   "execution_count": 46,
   "id": "83fa73e4-191c-43b9-ba6c-48f8c7e8b4cf",
   "metadata": {},
   "outputs": [
    {
     "name": "stdout",
     "output_type": "stream",
     "text": [
      "[1, 2, 3, 4, 5]\n",
      "1: [1, 'hi', 3, 4, 5]\n",
      "2: 3\n",
      "3: [1, 'hi', 3, 4, [8, 6, 4]]\n"
     ]
    }
   ],
   "source": [
    "numbers = [1, 2, 3, 4, 5]\n",
    "print(numbers)\n",
    "numbers[1] = 'hi'\n",
    "print('1:', numbers)\n",
    "print('2:', numbers[2])\n",
    "numbers[4] = [8, 6, 4]\n",
    "print('3:', numbers)"
   ]
  },
  {
   "cell_type": "markdown",
   "id": "49340d0c-e66d-4623-8373-7115d6b689b0",
   "metadata": {},
   "source": [
    "# Задача 9\n",
    "Дан список чисел:\\\n",
    "numbers = [1, 2, 3, 4, 5, 6, 7, 8, 9, 10]\\\n",
    "Извлеките подсписок с 3-го по 7-й элемент включительно."
   ]
  },
  {
   "cell_type": "code",
   "execution_count": 47,
   "id": "1ad75a3b-ac8a-453e-bf52-252f83018e15",
   "metadata": {},
   "outputs": [
    {
     "name": "stdout",
     "output_type": "stream",
     "text": [
      "[4, 5, 6, 7, 8]\n"
     ]
    }
   ],
   "source": [
    "numbers = [1, 2, 3, 4, 5, 6, 7, 8, 9, 10]\n",
    "print(numbers[3:8])"
   ]
  }
 ],
 "metadata": {
  "kernelspec": {
   "display_name": "Python 3 (ipykernel)",
   "language": "python",
   "name": "python3"
  },
  "language_info": {
   "codemirror_mode": {
    "name": "ipython",
    "version": 3
   },
   "file_extension": ".py",
   "mimetype": "text/x-python",
   "name": "python",
   "nbconvert_exporter": "python",
   "pygments_lexer": "ipython3",
   "version": "3.10.10"
  }
 },
 "nbformat": 4,
 "nbformat_minor": 5
}
