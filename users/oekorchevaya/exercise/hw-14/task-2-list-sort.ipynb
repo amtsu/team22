{
 "cells": [
  {
   "cell_type": "markdown",
   "id": "ef8c1d772546cb58",
   "metadata": {},
   "source": [
    "### Сортировка списков"
   ]
  },
  {
   "cell_type": "markdown",
   "id": "41c848f20b9b94a6",
   "metadata": {},
   "source": [
    "1) Выучить наизусть сортировку пузырьком и быструю сортировку.\n",
    "2) Реализовать дополнительно 2 любые сортировки кроме вышеуказанных. Написать тесты на эти функции.\n",
    "3) Создать список из 10000 случайных чисел с плавающей запятой.\n",
    "4) Замерить и вывести время выполнения, пузырьком, быстрой сортировки, ваших 2 сортировок и встроенной сортировки python.\n",
    "5) Создать список из 20000 случайных чисел с плавающей запятой. Сравните как изменилось время выполнения. \n",
    "(если на вашем компьютере это выполняется слишком долго больше минуты или не хватает памяти возьмите меньшее число элементов, например 2000 / 4000)\n",
    "6) Сделайте выводы по результатам, они достаточно интересные. Если будут вопросы спросите преподавателя."
   ]
  },
  {
   "cell_type": "markdown",
   "id": "bfebc2b045f8d82a",
   "metadata": {},
   "source": [
    "# Сортировка пузырьком\n",
    "\n",
    "«Кто больше, тот быстрее всплывает»\n",
    "\n",
    "Как дурак, но после нахождения неупорядоченной пары меняем элементы местами и идем дальше (не начиная заново до полного прохождения списка). После первого прохода находим максимальный элемент. Асимптотика 𝑂(𝑛2)"
   ]
  },
  {
   "cell_type": "code",
   "execution_count": 27,
   "id": "81e549c5-24d7-4408-8345-25a441582b8f",
   "metadata": {},
   "outputs": [],
   "source": [
    "def BubbleSort(arr):\n",
    "    stop = len(arr)\n",
    "    while stop > 1:\n",
    "        for i in range(stop - 1):\n",
    "            if arr[i + 1] < arr[i]:\n",
    "                arr[i + 1], arr[i] = arr[i], arr[i + 1]\n",
    "        stop -= 1"
   ]
  },
  {
   "cell_type": "markdown",
   "id": "e78da886442e612a",
   "metadata": {},
   "source": [
    "# Быстрая сортировка Хоара\n",
    "\n",
    "В этом алгоритме мы разбиваем список при помощи опорного элемента, сортируя значения вокруг него на меньшие и большие. Наилучшая производительность достигается тогда, когда опорный элемент делит список примерно пополам.\n",
    "\n",
    "**Характеристики:**\n",
    "\n",
    "- рекурсивный;\n",
    "- неустойчивый; (из-за рандомного выбора опорного элемента)\n",
    "- преобразует входные данные без использования вспомогательной структуры\n",
    "данных (in place);\n",
    "- имеет сложность 𝜊(𝑛 log 𝑛);\n",
    "- \n",
    "**Асимптотика:** Сложность алгоритма быстрой сортировки Хоара зависит от метода выбора барьерного элемента. В лучшем случае при каждом выборе барьерного элемента должен выбираться медианный элемент массива. Но поиск медианного элемента — сложная задача, её нельзя решить быстро. Если выбрать первый элемент фрагмента списка или последний A, то если список A уже упорядочен, сложность алгоритма будет 𝜊(𝑛^2) так как на каждом рекурсивном вызове от большей части списка будет отделяться всего один элемент.\n",
    "  \n",
    "Поэтому в алгоритме быстрой сортировки Хоара, как правило, в качестве барьерного элемента выбирается случайный элемент списка. Тогда алгоритм становится вероятностным — время его работы зависит от того, каким будет случайно выбранный элемент. Возможна (но крайне маловероятна) ситуация, когда всегда будет выбираться наименьший элемент, и в этом случае алгоритм будет работать за 𝜊(𝑛^2) В теории вероятностей доказывается, чти при случайном выборе элемента списка и разбиении его на две части, размер большей из двух получившихся частей будет в среднем равен 3𝑛/4. В этом случае глубина рекурсии в среднем будет составлять порядка log 𝑛, а средняя сложность алгоритма быстрой сортировки Хоара — 𝜊(𝑛 log 𝑛) ."
   ]
  },
  {
   "cell_type": "code",
   "execution_count": 28,
   "id": "e732246d-c44e-43e5-989f-cb0d0e06299a",
   "metadata": {},
   "outputs": [],
   "source": [
    "def QuickSort(A, l, r ):\n",
    "    if l >= r:\n",
    "        return \n",
    "    else:\n",
    "        q = random.choice(A[l:r + 1]) \n",
    "        i= l\n",
    "        j= r\n",
    "        while i <= j:\n",
    "            while A[i] < q:\n",
    "                i += 1\n",
    "            while A[j] > q:\n",
    "                j -= 1\n",
    "            if i <= j:\n",
    "                A[i], A[j] = A[j], A[i]\n",
    "                i += 1\n",
    "                j -= 1\n",
    "                QuickSort(A, l, j)\n",
    "                QuickSort(A, i, r)"
   ]
  },
  {
   "cell_type": "markdown",
   "id": "6a47d2e9-20f6-4145-a932-c42a0f03d9d8",
   "metadata": {},
   "source": [
    "# Сортировка слиянием "
   ]
  },
  {
   "cell_type": "code",
   "execution_count": 29,
   "id": "6a36b89a-86a6-40cd-90f3-b5411111bfad",
   "metadata": {},
   "outputs": [],
   "source": [
    "def merge_sort(arr):\n",
    "    median_index = round(len(arr)/2) \n",
    "    # print('_____________________________')\n",
    "    # print('Разбиваю', arr, 'на' , (arr[:median_index], arr[median_index:]), sep = '\\n')\n",
    "   \n",
    "    if len(arr) <= 1:\n",
    "        return arr\n",
    "\n",
    "    else:\n",
    "        return merge(merge_sort(arr[:median_index]), merge_sort(arr[median_index:]))\n",
    "\n",
    "def merge(arr1, arr2):\n",
    "    \n",
    "    result = []\n",
    "    first_index = 0\n",
    "    second_index = 0\n",
    "    # print('_____________________________')\n",
    "    # print('Объединяю ', arr1, arr2)\n",
    "    while first_index < len(arr1) and second_index < len(arr2): \n",
    "        if arr1[first_index] < arr2[second_index]:\n",
    "            result.append(arr1[first_index])\n",
    "            first_index += 1\n",
    "        else:\n",
    "            result.append(arr2[second_index])\n",
    "            second_index += 1\n",
    "\n",
    "    result.extend(arr1[first_index:])\n",
    "    result.extend(arr2[second_index:])\n",
    "    # print(result)\n",
    "    # print('_____________________________')\n",
    "    return result\n",
    "    "
   ]
  },
  {
   "cell_type": "code",
   "execution_count": 30,
   "id": "61b8612a-d251-4396-a125-c8f50b9bb0ca",
   "metadata": {
    "scrolled": true
   },
   "outputs": [
    {
     "data": {
      "text/plain": [
       "[1, 2, 3, 4, 5, 6, 7, 8, 9, 10]"
      ]
     },
     "execution_count": 30,
     "metadata": {},
     "output_type": "execute_result"
    }
   ],
   "source": [
    "arr = [3, 6, 8, 10, 1, 2, 9, 7, 5, 4]\n",
    "sorted_arr = merge_sort(arr)\n",
    "sorted_arr"
   ]
  },
  {
   "cell_type": "markdown",
   "id": "6d15da9a-a9a4-4e7b-8a7b-dbdd78a86f62",
   "metadata": {},
   "source": [
    "# Сортировка вставкой \n",
    "Нужный элемент “тащим” влево\n",
    "\n",
    "Сортируем список по частям. Начинаем с первого элемента: один элемент = отсортированный список. Теперь смотрим два элемента - сортируем пару. Добавляем следующий элемент, сортируем (двигаем на свое место в маленьком подсписке) и так далее. Получается, что мы добавляем каждый раз к отсортированному списку только одно число, которое нужно вставить на свое место.\n",
    "\n",
    "Асимптотика 𝑂(𝑛2) (но это лишь в худшем случае - если список отсортирован в обратном порядке, обычно эта сортировка работает значительно эффективнее - до 𝑂(𝑛))"
   ]
  },
  {
   "cell_type": "code",
   "execution_count": 31,
   "id": "98b47095-641b-4440-98d7-750aaf70eba7",
   "metadata": {},
   "outputs": [],
   "source": [
    "def insertion_sort(arr):\n",
    "    \n",
    "    for i in range(len(arr)-1):\n",
    "        if arr[i+1] < arr[i]:\n",
    "            number  = i\n",
    "            while arr[number + 1] < arr[number] and number >= 0:\n",
    "                arr[number + 1], arr[number] = arr[number], arr[number + 1]\n",
    "                number-=1\n",
    "    return arr\n",
    "        "
   ]
  },
  {
   "cell_type": "code",
   "execution_count": 32,
   "id": "dab33edb-f78b-4b41-9a7d-4d5c26e5ed96",
   "metadata": {},
   "outputs": [],
   "source": [
    "arr = [3, 6, 8, 10, 0, 1, 2, 9.1, 7, 5, 4, -5, 1]"
   ]
  },
  {
   "cell_type": "code",
   "execution_count": 33,
   "id": "223850b8-6009-4781-88cd-aa6783d71723",
   "metadata": {},
   "outputs": [
    {
     "data": {
      "text/plain": [
       "[-5, 0, 1, 1, 2, 3, 4, 5, 6, 7, 8, 9.1, 10]"
      ]
     },
     "execution_count": 33,
     "metadata": {},
     "output_type": "execute_result"
    }
   ],
   "source": [
    "insertion_sort(arr)"
   ]
  },
  {
   "cell_type": "markdown",
   "id": "b4911430-5611-41bf-9068-082ffd652297",
   "metadata": {},
   "source": [
    "# "
   ]
  },
  {
   "cell_type": "code",
   "execution_count": 34,
   "id": "8f9f97e6-95ce-47b0-a572-a7c823f32e7e",
   "metadata": {},
   "outputs": [],
   "source": [
    "import random\n",
    "import time"
   ]
  },
  {
   "cell_type": "code",
   "execution_count": 35,
   "id": "4eb28060-7eef-4957-913f-f8a356d236d4",
   "metadata": {},
   "outputs": [],
   "source": [
    "def sort(arr):\n",
    "    return arr.sort()"
   ]
  },
  {
   "cell_type": "code",
   "execution_count": 36,
   "id": "99f1c559-1286-47f0-a4b1-4c87f7595dc5",
   "metadata": {
    "scrolled": true
   },
   "outputs": [],
   "source": [
    "def track_time(n):\n",
    "    random_floats = [random.uniform(0, 1000) for _ in range(n)]\n",
    "    \n",
    "    functions = [ BubbleSort, QuickSort, merge_sort, insertion_sort, sorted, sort]\n",
    "    \n",
    "    result_time = {}\n",
    "    for func in functions:\n",
    "        start_time = time.time()\n",
    "        if func.__name__ == 'QuickSort':\n",
    "            sorted_floats = func(random_floats, 0, len(random_floats)-1)\n",
    "        else: \n",
    "            sorted_floats = func(random_floats)\n",
    "        end_time = time.time()\n",
    "        execution_time = end_time - start_time\n",
    "        print(func.__name__, execution_time)\n",
    "        \n",
    "        result_time[func.__name__] = execution_time\n",
    "    return result_time\n"
   ]
  },
  {
   "cell_type": "code",
   "execution_count": 44,
   "id": "efc91fdd-e166-4643-8a8e-3dc9a26acc79",
   "metadata": {},
   "outputs": [
    {
     "name": "stdout",
     "output_type": "stream",
     "text": [
      "BubbleSort 6.118074893951416\n",
      "QuickSort 0.013804912567138672\n",
      "merge_sort 0.017993688583374023\n",
      "insertion_sort 0.0009109973907470703\n",
      "sorted 6.175041198730469e-05\n",
      "sort 4.601478576660156e-05\n"
     ]
    }
   ],
   "source": [
    "time1 = track_time(10000)"
   ]
  },
  {
   "cell_type": "code",
   "execution_count": 45,
   "id": "652322b9-0c5b-45c0-bf89-d337b1a77578",
   "metadata": {},
   "outputs": [
    {
     "name": "stdout",
     "output_type": "stream",
     "text": [
      "BubbleSort 26.32635474205017\n",
      "QuickSort 0.040119171142578125\n",
      "merge_sort 0.041848182678222656\n",
      "insertion_sort 0.002023935317993164\n",
      "sorted 0.00020122528076171875\n",
      "sort 0.00017786026000976562\n"
     ]
    }
   ],
   "source": [
    "time2 = track_time(20000)"
   ]
  },
  {
   "cell_type": "code",
   "execution_count": 41,
   "id": "a4a642e6-d5da-484f-92a9-1028373a679c",
   "metadata": {},
   "outputs": [],
   "source": [
    "import matplotlib.pyplot as plt\n",
    "\n",
    "def plot_dictionary(dictionary):\n",
    "    keys = list(dictionary.keys())\n",
    "    values = list(dictionary.values())\n",
    "    \n",
    "    plt.plot(keys, values, marker='o', linestyle='-')\n",
    "    plt.xlabel('Сортировки')\n",
    "    plt.ylabel('Время')\n",
    "    plt.grid(True)\n",
    "    plt.show()"
   ]
  },
  {
   "cell_type": "code",
   "execution_count": 43,
   "id": "2816afc9-65b0-4a31-b8ba-2b7851e87015",
   "metadata": {},
   "outputs": [
    {
     "ename": "NameError",
     "evalue": "name 'time2' is not defined",
     "output_type": "error",
     "traceback": [
      "\u001b[0;31m---------------------------------------------------------------------------\u001b[0m",
      "\u001b[0;31mNameError\u001b[0m                                 Traceback (most recent call last)",
      "Cell \u001b[0;32mIn[43], line 1\u001b[0m\n\u001b[0;32m----> 1\u001b[0m plot_dictionary(\u001b[43mtime2\u001b[49m)\n",
      "\u001b[0;31mNameError\u001b[0m: name 'time2' is not defined"
     ]
    }
   ],
   "source": [
    "plot_dictionary(time2)"
   ]
  },
  {
   "cell_type": "code",
   "execution_count": 46,
   "id": "2203a21d-fe78-4bd6-a58b-481f27337966",
   "metadata": {},
   "outputs": [],
   "source": [
    "def plot_two_dictionaries(dict1, dict2):\n",
    "    keys = list(dict1.keys())  # Берем ключи из первого словаря (можно взять из любого словаря)\n",
    "    values1 = list(dict1.values())\n",
    "    values2 = list(dict2.values())\n",
    "    \n",
    "    plt.plot(keys, values1, marker='o', linestyle='-', color='blue', label='10000')\n",
    "    plt.plot(keys, values2, marker='o', linestyle='-', color='red', label='20000')\n",
    "    plt.xlabel('Сортировки')\n",
    "    plt.ylabel('Время')\n",
    "    plt.legend()  # Добавляем легенду для каждой линии\n",
    "    plt.grid(True)\n",
    "    plt.show()"
   ]
  },
  {
   "cell_type": "code",
   "execution_count": 47,
   "id": "d4cdb2c0-2d13-44a1-b0ee-8b82449d7401",
   "metadata": {},
   "outputs": [
    {
     "data": {
      "image/png": "[encoded data removed]",
      "text/plain": [
       "<Figure size 640x480 with 1 Axes>"
      ]
     },
     "metadata": {},
     "output_type": "display_data"
    }
   ],
   "source": [
    "plot_two_dictionaries(time1, time2)"
   ]
  },
  {
   "cell_type": "code",
   "execution_count": 48,
   "id": "a691a1dc-bc6d-4f1c-a1be-a236aa4d5dcb",
   "metadata": {},
   "outputs": [
    {
     "data": {
      "image/png": "[encoded data removed]",
      "text/plain": [
       "<Figure size 640x480 with 1 Axes>"
      ]
     },
     "metadata": {},
     "output_type": "display_data"
    }
   ],
   "source": [
    "time1.pop('BubbleSort')\n",
    "time2.pop('BubbleSort')\n",
    "plot_two_dictionaries(time1, time2)"
   ]
  },
  {
   "cell_type": "markdown",
   "id": "0ba02b24-6a9c-4883-96ed-9deaa3dc8edd",
   "metadata": {},
   "source": [
    "# Построим зависимости наглядно "
   ]
  },
  {
   "cell_type": "code",
   "execution_count": 56,
   "id": "761b57de-d9d1-431d-b1dd-5e569787d1af",
   "metadata": {
    "scrolled": true
   },
   "outputs": [],
   "source": [
    "# x, y = [], []\n",
    "# n = 20000\n",
    "# for i in range(n):\n",
    "#     x.append(i)\n",
    "#     random_floats = [random.uniform(0, 1000) for _ in range(n)]\n",
    "\n",
    "#     start_time = time.time()\n",
    "#     sorted_floats = BubbleSort(random_floats)\n",
    "#     end_time = time.time()\n",
    "#     execution_time = end_time - start_time\n",
    "#     y.append(execution_time)"
   ]
  },
  {
   "cell_type": "code",
   "execution_count": null,
   "id": "ae7241e2-917e-4b99-976e-5a9a93cfa995",
   "metadata": {},
   "outputs": [],
   "source": [
    "# plt.plot(x, y)\n",
    "# plt.xlabel('Размер данных')\n",
    "# plt.ylabel('Скорость работы алгоритма')\n",
    "# plt.legend()  # Добавляем легенду для каждой линии\n",
    "# plt.grid(True)\n",
    "# plt.show()"
   ]
  },
  {
   "cell_type": "code",
   "execution_count": null,
   "id": "91ca4468-63eb-4bcf-9b68-c4dcb71706a3",
   "metadata": {},
   "outputs": [],
   "source": []
  }
 ],
 "metadata": {
  "kernelspec": {
   "display_name": "Python 3 (ipykernel)",
   "language": "python",
   "name": "python3"
  },
  "language_info": {
   "codemirror_mode": {
    "name": "ipython",
    "version": 3
   },
   "file_extension": ".py",
   "mimetype": "text/x-python",
   "name": "python",
   "nbconvert_exporter": "python",
   "pygments_lexer": "ipython3",
   "version": "3.10.10"
  }
 },
 "nbformat": 4,
 "nbformat_minor": 5
}
