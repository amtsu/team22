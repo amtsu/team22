{
 "cells": [
  {
   "cell_type": "markdown",
   "id": "ac94897bc01b610f",
   "metadata": {},
   "source": [
    "### Сложность алгоритмов\n",
    "\n",
    "    Определите асимптотическую сложность данной программы O(...).\n",
    "    Предложите способы уменьшения асимптотической сложности, если возможно.\n",
    "    Сложность методов встроенных структур данных python, поищите в интернете."
   ]
  },
  {
   "cell_type": "code",
   "execution_count": null,
   "id": "ed417262caef05ea",
   "metadata": {},
   "outputs": [],
   "source": [
    "# 1 Сосчитать количество уникальных элементов в списке\n",
    "\n",
    "def count_unique(values):\n",
    "    unique = set()\n",
    "    for value in values:\n",
    "        unique.add(value)\n",
    "    return len(unique)\n"
   ]
  },
  {
   "cell_type": "markdown",
   "id": "709f238c-249d-45de-924a-dd3164929a82",
   "metadata": {},
   "source": [
    "value - лист. Проход по листу циклом это O(n). Получение длины и операция добавления O(1). Получаем сложность O(n)."
   ]
  },
  {
   "cell_type": "code",
   "execution_count": 1,
   "id": "a6edbb14bed302da",
   "metadata": {},
   "outputs": [],
   "source": [
    "# Решение\n",
    "# такая же сложность O(n) (((\n",
    "def count_unique(values):\n",
    "    return len(set(values))"
   ]
  },
  {
   "cell_type": "code",
   "execution_count": null,
   "id": "58cc1efadd17f96f",
   "metadata": {},
   "outputs": [],
   "source": [
    "# 2 Найти дубликаты в списке\n",
    "\n",
    "def find_duplicates(arr):\n",
    "    duplicates = []\n",
    "    for i in range(len(arr)):\n",
    "        for j in range(i + 1, len(arr)):\n",
    "            if arr[i] == arr[j] and arr[i] not in duplicates:\n",
    "                duplicates.append(arr[i])\n",
    "    return duplicates\n"
   ]
  },
  {
   "cell_type": "markdown",
   "id": "cd863ef3-5478-4835-a231-3befb4e0b8f9",
   "metadata": {},
   "source": [
    "Внешний цикл имеет n итераций, количество итераций внутреннего цикла каждый раз уменьшается на 1. \n",
    "\n",
    "То есть n + (n-1) + (n-2) + ... + 1 = (n+1)*n/2 - формула арифметической прогрессии\n",
    "\n",
    "Раскрывая формулу получаем n^2/2 + n/2 ~ n^2/2 + o(n) < n^2\n",
    "\n",
    "То есть сложность алгоритма O(n^2)"
   ]
  },
  {
   "cell_type": "code",
   "execution_count": 12,
   "id": "c325182fbc756c60",
   "metadata": {},
   "outputs": [],
   "source": [
    "# Решение\n",
    "def find_duplicates(arr):\n",
    "    duplicates = []\n",
    "    seen = set()\n",
    "    for item in arr:\n",
    "        if item in seen and item not in duplicates: # позволяет ублать цикл тк поиск O(n)\n",
    "            duplicates.append(item)\n",
    "        else:\n",
    "            seen.add(item)\n",
    "    return duplicates\n",
    "\n",
    "# есть цикл, что дает О(n), а поиск по set() имеет слодность О(1)"
   ]
  },
  {
   "cell_type": "code",
   "execution_count": null,
   "id": "155f626a4df71f3b",
   "metadata": {},
   "outputs": [],
   "source": [
    "# 3 поиском троек чисел, которые в сумме дают ноль"
   ]
  },
  {
   "cell_type": "code",
   "execution_count": null,
   "id": "e11789817f8436c8",
   "metadata": {},
   "outputs": [],
   "source": [
    "def find_triplets(arr):\n",
    "    n = len(arr)\n",
    "    triplets = []\n",
    "    for i in range(n):\n",
    "        for j in range(i + 1, n):\n",
    "            for k in range(j + 1, n):\n",
    "                if arr[i] + arr[j] + arr[k] == 0:\n",
    "                    triplet = sorted([arr[i], arr[j], arr[k]])\n",
    "                    if triplet not in triplets:\n",
    "                        triplets.append(triplet)\n",
    "    return triplets"
   ]
  },
  {
   "cell_type": "markdown",
   "id": "b37d4b50-d510-44e8-8b36-73cde5403de8",
   "metadata": {},
   "source": [
    "Тут аж три цикла, то есть можно оценить как О(n^3). Остальными вычислениями, которые происходят в 3 цикле, можно принебречь. \n",
    "\n",
    "Можно реализовать за О(n^2), но лень)))"
   ]
  },
  {
   "cell_type": "code",
   "execution_count": 14,
   "id": "4822e9c98411816c",
   "metadata": {},
   "outputs": [],
   "source": [
    "# Решение"
   ]
  },
  {
   "cell_type": "code",
   "execution_count": 15,
   "id": "8abe6982df6615e2",
   "metadata": {},
   "outputs": [],
   "source": [
    "# вычисления числа Фибоначчи\n",
    "def fibonacci(n):\n",
    "    if n <= 1:\n",
    "        return n\n",
    "    else:\n",
    "        return fibonacci(n-1) + fibonacci(n-2)"
   ]
  },
  {
   "cell_type": "markdown",
   "id": "437fbd34-0007-4e37-95d5-80798147bde6",
   "metadata": {},
   "source": [
    "Предложен рекурсивный алгоритм. Формула: \n",
    "\n",
    "F(n) = F(n-1) + F(n-2)\n",
    "\n",
    "Значит время, которое требуется, чтобы посчитать число фибоначи от n будет равно сумме времен от подсчета n-1 и n-2. Можно догадаться, что с каждым новым вызовом функции, она будет вызываться еще по два раза, то есть грубая оценка сверху как 2^n. \n",
    "\n",
    "Еще один способ рачета это предположить, что функция монотонно возрастает (что в целом правда, но неплохо бы еще доказать), тогда справедлива оценка |F(n-1) + F(n-2)| <= 2*F(n-1), отсюда уже следует асимптотика О(2^n).\n",
    "\n",
    "Это достаточно медленный алгоритм для данной задачи, так как мы вычисляем ондну и ту же информацию повторно много количество раз, когда проще было бы записать ее где-то и обращааться при необходимости. Чаще всего применяется динамическое программирование."
   ]
  },
  {
   "cell_type": "code",
   "execution_count": 16,
   "id": "528bd6e72508e16f",
   "metadata": {},
   "outputs": [],
   "source": [
    "# Решение\n",
    "# будем хранить только те числа, которые потребуются для вычисление следующего.\n",
    "def fibonacci(n):\n",
    "    a = 0\n",
    "    b = 1\n",
    "    for _ in range(n):\n",
    "        a, b = b, a + b\n",
    "    return a\n",
    "\n",
    "#сложность О(n), так как тут просто цикл из n шагов"
   ]
  }
 ],
 "metadata": {
  "kernelspec": {
   "display_name": "Python 3 (ipykernel)",
   "language": "python",
   "name": "python3"
  },
  "language_info": {
   "codemirror_mode": {
    "name": "ipython",
    "version": 3
   },
   "file_extension": ".py",
   "mimetype": "text/x-python",
   "name": "python",
   "nbconvert_exporter": "python",
   "pygments_lexer": "ipython3",
   "version": "3.10.10"
  }
 },
 "nbformat": 4,
 "nbformat_minor": 5
}
