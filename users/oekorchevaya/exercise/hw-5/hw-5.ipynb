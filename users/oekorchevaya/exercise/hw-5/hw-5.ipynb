{
 "cells": [
  {
   "cell_type": "markdown",
   "id": "a1850caa-4b10-43fe-a8cf-6607941a96aa",
   "metadata": {
    "jp-MarkdownHeadingCollapsed": true
   },
   "source": [
    "# Часть 1. Множества \n"
   ]
  },
  {
   "cell_type": "markdown",
   "id": "c0f0525a-3b70-4947-8c87-8e43bb8f3024",
   "metadata": {},
   "source": [
    "1. Создайте множество **set1** из целых чисел: 1, 2, 3, 4, 5.\n"
   ]
  },
  {
   "cell_type": "code",
   "execution_count": 23,
   "id": "423a97aa-ee5a-4421-8ccf-16d9dcb1b5ea",
   "metadata": {},
   "outputs": [],
   "source": [
    "set1 = {1, 2, 3, 4, 5}"
   ]
  },
  {
   "cell_type": "markdown",
   "id": "558268bc-73f0-4cf1-8fcc-b8ecc7182ae9",
   "metadata": {},
   "source": [
    "2. Добавьте в это множество элемент 6.\n"
   ]
  },
  {
   "cell_type": "code",
   "execution_count": 5,
   "id": "17313f2a-6525-4e64-8fca-43d48d76492f",
   "metadata": {},
   "outputs": [
    {
     "data": {
      "text/plain": [
       "{1, 2, 3, 4, 5, 6}"
      ]
     },
     "execution_count": 5,
     "metadata": {},
     "output_type": "execute_result"
    }
   ],
   "source": [
    "set1.add(6)\n",
    "set1"
   ]
  },
  {
   "cell_type": "markdown",
   "id": "3909c160-fddb-4fda-8c56-63a6e0392ad7",
   "metadata": {},
   "source": [
    "3. Удалите элемент 2 из множества.\n"
   ]
  },
  {
   "cell_type": "code",
   "execution_count": 15,
   "id": "7ae2e268-2d6f-4321-a0fb-5561a745d047",
   "metadata": {},
   "outputs": [
    {
     "data": {
      "text/plain": [
       "{1, 3, 4, 5, 6}"
      ]
     },
     "execution_count": 15,
     "metadata": {},
     "output_type": "execute_result"
    }
   ],
   "source": [
    "set1.discard(2)\n",
    "set1\n",
    "# удалил элемент "
   ]
  },
  {
   "cell_type": "code",
   "execution_count": 16,
   "id": "86e698c3-14e6-478d-bfd0-f462a02c95ca",
   "metadata": {},
   "outputs": [
    {
     "data": {
      "text/plain": [
       "{1, 3, 4, 5, 6}"
      ]
     },
     "execution_count": 16,
     "metadata": {},
     "output_type": "execute_result"
    }
   ],
   "source": [
    "set1.discard(2)\n",
    "set1\n",
    "# уже нет такого элемента, но при попытке удалить не ругается"
   ]
  },
  {
   "cell_type": "code",
   "execution_count": 17,
   "id": "40b985bd-d186-46e7-97b3-078eecc6de51",
   "metadata": {},
   "outputs": [
    {
     "ename": "KeyError",
     "evalue": "2",
     "output_type": "error",
     "traceback": [
      "\u001b[0;31m---------------------------------------------------------------------------\u001b[0m",
      "\u001b[0;31mKeyError\u001b[0m                                  Traceback (most recent call last)",
      "Cell \u001b[0;32mIn[17], line 1\u001b[0m\n\u001b[0;32m----> 1\u001b[0m \u001b[43mset1\u001b[49m\u001b[38;5;241;43m.\u001b[39;49m\u001b[43mremove\u001b[49m\u001b[43m(\u001b[49m\u001b[38;5;241;43m2\u001b[39;49m\u001b[43m)\u001b[49m\n\u001b[1;32m      2\u001b[0m set1\n\u001b[1;32m      3\u001b[0m \u001b[38;5;66;03m# уже нет такого элемента, но при попытке удалить ругается\u001b[39;00m\n",
      "\u001b[0;31mKeyError\u001b[0m: 2"
     ]
    }
   ],
   "source": [
    "set1.remove(2)\n",
    "set1\n",
    "# уже нет такого элемента, но при попытке удалить ругается"
   ]
  },
  {
   "cell_type": "markdown",
   "id": "162a7095-c591-4892-b763-fe76635fde90",
   "metadata": {},
   "source": [
    "4. Проверьте, содержит ли множество элемент 3.\n"
   ]
  },
  {
   "cell_type": "code",
   "execution_count": 18,
   "id": "cab6f1d4-26fb-4065-b8a4-944395d3805e",
   "metadata": {},
   "outputs": [
    {
     "data": {
      "text/plain": [
       "True"
      ]
     },
     "execution_count": 18,
     "metadata": {},
     "output_type": "execute_result"
    }
   ],
   "source": [
    "3 in set1"
   ]
  },
  {
   "cell_type": "markdown",
   "id": "73190ab8-b652-4061-bc9f-c47515fe681e",
   "metadata": {},
   "source": [
    "5. Создайте второе множество **set2** с элементами 4, 5, 6, 7, 8.\n"
   ]
  },
  {
   "cell_type": "code",
   "execution_count": 24,
   "id": "12e059b2-c8fc-4490-8252-8edaa247cb35",
   "metadata": {},
   "outputs": [],
   "source": [
    "set2 = {4, 5, 6, 7, 8}"
   ]
  },
  {
   "cell_type": "markdown",
   "id": "3ad31069-26d0-411f-bcd7-b753856f6bd0",
   "metadata": {},
   "source": [
    "6. Найдите объединение множеств **set1** и **set2**.\n"
   ]
  },
  {
   "cell_type": "code",
   "execution_count": 20,
   "id": "e2a3340e-45f0-4fdb-bab9-56d5a1e109c3",
   "metadata": {},
   "outputs": [
    {
     "data": {
      "text/plain": [
       "{1, 3, 4, 5, 6, 7, 8}"
      ]
     },
     "execution_count": 20,
     "metadata": {},
     "output_type": "execute_result"
    }
   ],
   "source": [
    "set1.union(set2)"
   ]
  },
  {
   "cell_type": "markdown",
   "id": "c30d10c9-7fdb-426b-8657-1118326987d0",
   "metadata": {},
   "source": [
    "7. Найдите разность множеств **set1** и **set2**.\n"
   ]
  },
  {
   "cell_type": "code",
   "execution_count": 26,
   "id": "1213f5d8-5914-4715-8402-f64e62bc0238",
   "metadata": {},
   "outputs": [
    {
     "name": "stdout",
     "output_type": "stream",
     "text": [
      "{1, 2, 3, 4, 5}\n",
      "{4, 5, 6, 7, 8}\n"
     ]
    },
    {
     "data": {
      "text/plain": [
       "{1, 2, 3}"
      ]
     },
     "execution_count": 26,
     "metadata": {},
     "output_type": "execute_result"
    }
   ],
   "source": [
    "print(set1, set2, sep = '\\n')\n",
    "# Все элементы входящие в set1 но не входящие в set2\n",
    "set1.difference(set2)"
   ]
  },
  {
   "cell_type": "code",
   "execution_count": 27,
   "id": "ec883aa3-7865-4ce5-ae24-ee9e02fb4069",
   "metadata": {},
   "outputs": [
    {
     "data": {
      "text/plain": [
       "{6, 7, 8}"
      ]
     },
     "execution_count": 27,
     "metadata": {},
     "output_type": "execute_result"
    }
   ],
   "source": [
    "# Все элементы входящие в set2 но не входящие в set1\n",
    "set2.difference(set1)"
   ]
  },
  {
   "cell_type": "markdown",
   "id": "50855226-2ee2-46ec-b236-13ff9d974eec",
   "metadata": {},
   "source": [
    "8. Создайте два множества **set1** и **set2**, содержащие цвета радуги: \"красный\", \"оранжевый\", \"желтый\", \"зеленый\", \"голубой\", \"синий\", \"фиолетовый\".\n"
   ]
  },
  {
   "cell_type": "code",
   "execution_count": 95,
   "id": "3102c92c-48c3-4aa7-bd47-037009cb05d3",
   "metadata": {},
   "outputs": [],
   "source": [
    "set1 = {\"красный\", \"желтый\", \"зеленый\", \"голубой\", \"синий\", \"фиолетовый\"}\n",
    "set2 = {\"красный\", \"оранжевый\", \"желтый\",  \"синий\"}"
   ]
  },
  {
   "cell_type": "markdown",
   "id": "c4a8970f-59b1-4ae3-a291-abaa4dbfc1af",
   "metadata": {},
   "source": [
    "9. Найдите пересечение множеств **set1** и **set2**.\n"
   ]
  },
  {
   "cell_type": "code",
   "execution_count": 79,
   "id": "a0a49969-4a8b-4679-a60e-a8fbd8b5f480",
   "metadata": {},
   "outputs": [
    {
     "data": {
      "text/plain": [
       "{'желтый', 'красный', 'синий'}"
      ]
     },
     "execution_count": 79,
     "metadata": {},
     "output_type": "execute_result"
    }
   ],
   "source": [
    "set1.intersection(set2)"
   ]
  },
  {
   "cell_type": "markdown",
   "id": "ab8eb385-fe71-4aa8-a0b1-3cac1fd208eb",
   "metadata": {},
   "source": [
    "10. Объедините множества **set1** и **set2** и сохраните результат в новое множество **rainbow_colors**."
   ]
  },
  {
   "cell_type": "code",
   "execution_count": 80,
   "id": "07c8a944-5fe0-4875-9c35-dc2e8bc3efed",
   "metadata": {
    "scrolled": true
   },
   "outputs": [
    {
     "data": {
      "text/plain": [
       "{'голубой', 'желтый', 'зеленый', 'красный', 'оранжевый', 'синий', 'фиолетовый'}"
      ]
     },
     "execution_count": 80,
     "metadata": {},
     "output_type": "execute_result"
    }
   ],
   "source": [
    "rainbow_colors = set1.union(set2)\n",
    "rainbow_colors"
   ]
  },
  {
   "cell_type": "code",
   "execution_count": 81,
   "id": "45feaecd-f10c-41cd-9070-77aef60e1799",
   "metadata": {},
   "outputs": [
    {
     "data": {
      "text/plain": [
       "True"
      ]
     },
     "execution_count": 81,
     "metadata": {},
     "output_type": "execute_result"
    }
   ],
   "source": [
    "rainbow_colors == {\"красный\", \"оранжевый\", \"желтый\", \"зеленый\", \"голубой\", \"синий\", \"фиолетовый\"}"
   ]
  },
  {
   "cell_type": "markdown",
   "id": "b537fffb-1897-4d78-958c-b6ad453c0d24",
   "metadata": {
    "jp-MarkdownHeadingCollapsed": true
   },
   "source": [
    "# Часть 2. Словари"
   ]
  },
  {
   "cell_type": "markdown",
   "id": "47a7ed34-fd76-49c1-9411-8dd148cc296e",
   "metadata": {},
   "source": [
    "1. Создайте словарь **person** с ключами \"name\", \"age\" и \"city\" с вашими данными.\n"
   ]
  },
  {
   "cell_type": "code",
   "execution_count": 12,
   "id": "b43e31f8-fc54-447e-94a1-3423d137a79a",
   "metadata": {},
   "outputs": [],
   "source": [
    "person =  {\"name\" : 'Olesia', \"age\" : 21 , \"city\" : 'Moscow'}"
   ]
  },
  {
   "cell_type": "markdown",
   "id": "a8132d21-d7d4-4632-9583-ac6f504b5fcc",
   "metadata": {},
   "source": [
    "2. Добавьте в словарь новый ключ \"email\" со значением вашего электронного адреса.\n"
   ]
  },
  {
   "cell_type": "code",
   "execution_count": 14,
   "id": "8283df3b-e08c-4981-b6fe-1ebed04cd91b",
   "metadata": {},
   "outputs": [
    {
     "data": {
      "text/plain": [
       "{'name': 'Olesia',\n",
       " 'age': 21,\n",
       " 'city': 'Moscow',\n",
       " 'email': 'olesya.korchevaya@mail.ru'}"
      ]
     },
     "execution_count": 14,
     "metadata": {},
     "output_type": "execute_result"
    }
   ],
   "source": [
    "person['email'] = 'olesya.korchevaya@mail.ru'\n",
    "person"
   ]
  },
  {
   "cell_type": "markdown",
   "id": "09898bee-007c-493a-b682-4212c7ba1f22",
   "metadata": {},
   "source": [
    "3. Удалите ключ \"city\" из словаря.\n"
   ]
  },
  {
   "cell_type": "code",
   "execution_count": 15,
   "id": "5bf7aaed-2a30-445c-a676-d3016917cc2a",
   "metadata": {},
   "outputs": [
    {
     "data": {
      "text/plain": [
       "{'name': 'Olesia', 'age': 21, 'email': 'olesya.korchevaya@mail.ru'}"
      ]
     },
     "execution_count": 15,
     "metadata": {},
     "output_type": "execute_result"
    }
   ],
   "source": [
    "person.pop('city')\n",
    "person"
   ]
  },
  {
   "cell_type": "markdown",
   "id": "eee442d7-c4d5-4ed6-947a-fa34db472e34",
   "metadata": {},
   "source": [
    "4. Создайте словарь **inventory** с товарами \"яблоко\": 5, \"банан\": 10, \"апельсин\": 7.\n"
   ]
  },
  {
   "cell_type": "code",
   "execution_count": 17,
   "id": "b03fb582-853b-427d-96b2-9138be9ad474",
   "metadata": {},
   "outputs": [],
   "source": [
    "inventory = { \"яблоко\" : 5, \"банан\" : 10, \"апельсин\" : 7}"
   ]
  },
  {
   "cell_type": "markdown",
   "id": "e3372dce-5661-4a42-9904-19923e542d48",
   "metadata": {},
   "source": [
    "5. Увеличьте количество \"бананов\" в инвентаре на 3.\n"
   ]
  },
  {
   "cell_type": "code",
   "execution_count": 18,
   "id": "dfdc4743-a7e5-44e0-83a4-ae4e8e8635dd",
   "metadata": {},
   "outputs": [
    {
     "data": {
      "text/plain": [
       "{'яблоко': 5, 'банан': 13, 'апельсин': 7}"
      ]
     },
     "execution_count": 18,
     "metadata": {},
     "output_type": "execute_result"
    }
   ],
   "source": [
    "inventory[\"банан\"] = inventory[\"банан\"] + 3\n",
    "inventory"
   ]
  },
  {
   "cell_type": "markdown",
   "id": "1901a74c-3f78-4e9d-96ea-3c389683d35d",
   "metadata": {},
   "source": [
    "6. Создайте новый словарь **prices**, где цена для каждого продукта задана {\"яблоко\": 1.5, \"банан\": 2, \"апельсин\": 1.2}.\n"
   ]
  },
  {
   "cell_type": "code",
   "execution_count": 21,
   "id": "ec3b7145-dc85-42b8-b0df-fc5d5ddd0df3",
   "metadata": {},
   "outputs": [],
   "source": [
    "prices = {\"яблоко\": 1.5, \"банан\": 2, \"апельсин\": 1.2}"
   ]
  },
  {
   "cell_type": "markdown",
   "id": "8020e1ad-f90a-4d2a-98ee-82aa16931126",
   "metadata": {},
   "source": [
    "7. Создайте словарь **students** с данными о студентах {\"Иванов\": 22, \"Петрова\": 21, \"Сидоров\": 23}.\n"
   ]
  },
  {
   "cell_type": "code",
   "execution_count": 22,
   "id": "99bcc856-95ea-4888-82a6-66862f35b1c9",
   "metadata": {},
   "outputs": [],
   "source": [
    "students = {\"Иванов\": 22, \"Петрова\": 21, \"Сидоров\": 23}"
   ]
  },
  {
   "cell_type": "markdown",
   "id": "9f33e0a5-3798-4483-9bd8-7fea2db81a73",
   "metadata": {},
   "source": [
    "8. Добавьте нового студента \"Смирнова\" возрастом 20 лет в словарь.\n"
   ]
  },
  {
   "cell_type": "code",
   "execution_count": 23,
   "id": "e0c2ca7d-7d27-46d8-be5f-26e054b795d9",
   "metadata": {},
   "outputs": [
    {
     "data": {
      "text/plain": [
       "{'Иванов': 22, 'Петрова': 21, 'Сидоров': 23, 'Смирнова': 20}"
      ]
     },
     "execution_count": 23,
     "metadata": {},
     "output_type": "execute_result"
    }
   ],
   "source": [
    "students[\"Смирнова\"] = 20\n",
    "students"
   ]
  },
  {
   "cell_type": "markdown",
   "id": "afca6bd4-0a58-4911-b435-85c2889aad97",
   "metadata": {},
   "source": [
    "9. Удалите студента \"Петрова\" из словаря."
   ]
  },
  {
   "cell_type": "code",
   "execution_count": 24,
   "id": "c6a28d1e-2fa5-4b63-9a0d-89604ab5924f",
   "metadata": {},
   "outputs": [
    {
     "data": {
      "text/plain": [
       "{'Иванов': 22, 'Сидоров': 23, 'Смирнова': 20}"
      ]
     },
     "execution_count": 24,
     "metadata": {},
     "output_type": "execute_result"
    }
   ],
   "source": [
    "students.pop(\"Петрова\")\n",
    "students"
   ]
  },
  {
   "cell_type": "markdown",
   "id": "3a3e511c-8c3e-4496-8555-39c324dfa7ca",
   "metadata": {},
   "source": [
    "# Часть 3. Условные операторы\n"
   ]
  },
  {
   "cell_type": "markdown",
   "id": "b445e525-2eb4-47b7-96b2-b73dcfb5123d",
   "metadata": {},
   "source": [
    "1. На основе значения возраста из словаря **person**, выведите сообщение \"Совершеннолетний\" или \"Несовершеннолетний\".\n"
   ]
  },
  {
   "cell_type": "code",
   "execution_count": 37,
   "id": "1d0324dd-f959-4f32-b05d-e0f9817d3d8a",
   "metadata": {},
   "outputs": [
    {
     "name": "stdout",
     "output_type": "stream",
     "text": [
      "Совершеннолетний\n"
     ]
    }
   ],
   "source": [
    "if person['age'] >= 18:\n",
    "    print('Совершеннолетний')\n",
    "elif person['age'] < 18:\n",
    "    print('Несовершеннолетний')\n",
    "else:\n",
    "    print('Неверный ввод возраста')"
   ]
  },
  {
   "cell_type": "markdown",
   "id": "5d15e061-d387-4097-a483-9b3cacac6796",
   "metadata": {},
   "source": [
    "2. Сравните длину множества **set1** с другим множеством **set2** и выведите сообщение о том, какое из множеств больше.\n"
   ]
  },
  {
   "cell_type": "code",
   "execution_count": 82,
   "id": "3592aa35-885d-4fee-a9fa-d814e24c597d",
   "metadata": {},
   "outputs": [
    {
     "name": "stdout",
     "output_type": "stream",
     "text": [
      "set1\n",
      "{'синий', 'фиолетовый', 'желтый', 'зеленый', 'красный', 'голубой'}\n",
      "6\n",
      "set2\n",
      "{'оранжевый', 'синий', 'красный', 'желтый'}\n",
      "4\n",
      "Множество set1 больше множества set2\n"
     ]
    }
   ],
   "source": [
    "print('set1', set1, len(set1), 'set2', set2, len(set2), sep = '\\n')\n",
    "\n",
    "if len(set1) > len(set2):\n",
    "    print('Множество set1 больше множества set2')\n",
    "elif len(set1) < len(set2):\n",
    "    print('Множество set2 больше множества set1')\n",
    "else:\n",
    "    print('Множествa set2 и set1 равны')"
   ]
  },
  {
   "cell_type": "markdown",
   "id": "c2fd9e2b-b030-4653-acf0-2809ec1a43d4",
   "metadata": {},
   "source": [
    "3. Напишите условие, которое проверяет, есть ли \"груша\" в словаре **inventory**, и если нет, добавляет \"грушу\" с количеством 3.\n"
   ]
  },
  {
   "cell_type": "code",
   "execution_count": 42,
   "id": "d286e015-2d36-449d-a41c-c71869ee2363",
   "metadata": {},
   "outputs": [
    {
     "name": "stdout",
     "output_type": "stream",
     "text": [
      "{'яблоко': 5, 'банан': 13, 'апельсин': 7}\n",
      "{'яблоко': 5, 'банан': 13, 'апельсин': 7, 'груша': 3}\n"
     ]
    }
   ],
   "source": [
    "print(inventory)\n",
    "\n",
    "if not inventory.get(\"груша\"):\n",
    "    inventory[\"груша\"] = 3\n",
    "\n",
    "print(inventory)"
   ]
  },
  {
   "cell_type": "markdown",
   "id": "757051db-9f0b-4356-9430-9e5fee39647e",
   "metadata": {},
   "source": [
    "4. Выведите сообщение \"Дорогой товар\" для продуктов, цена которых превышает 1.5.\n"
   ]
  },
  {
   "cell_type": "code",
   "execution_count": 43,
   "id": "d862d64b-5f88-4f77-9971-b8b5988172cc",
   "metadata": {},
   "outputs": [
    {
     "name": "stdout",
     "output_type": "stream",
     "text": [
      "банан дорогой товар\n"
     ]
    }
   ],
   "source": [
    "for item, price in prices.items():\n",
    "    if price > 1.5:\n",
    "        print(f'{item} дорогой товар')"
   ]
  },
  {
   "cell_type": "markdown",
   "id": "4ff799f5-f823-4af9-bb54-8ed4d3441c9f",
   "metadata": {},
   "source": [
    "5. Напишите условие, которое проверяет возраст студента \"Иванова\" и выводит сообщение \"Совершеннолетний\" или \"Несовершеннолетний\".\n"
   ]
  },
  {
   "cell_type": "code",
   "execution_count": 276,
   "id": "c6a7a1b3-58a9-4d18-a549-38190301c2ed",
   "metadata": {},
   "outputs": [],
   "source": [
    "def check_age(dict, name):\n",
    "    if dict[name] >= 18:\n",
    "        print(f'{name} cовершеннолетний')\n",
    "    elif dict[name] < 18:\n",
    "        print(f'{name} несовершеннолетний')\n",
    "    else:\n",
    "        print('Неверный ввод возраста')"
   ]
  },
  {
   "cell_type": "code",
   "execution_count": 277,
   "id": "096b6395-7084-46bc-b5ab-2e08c96dab2e",
   "metadata": {
    "scrolled": true
   },
   "outputs": [
    {
     "name": "stdout",
     "output_type": "stream",
     "text": [
      "Иванов cовершеннолетний\n"
     ]
    }
   ],
   "source": [
    "check_age(students, 'Иванов')"
   ]
  },
  {
   "cell_type": "markdown",
   "id": "077662fa-886c-49ce-956b-9990178f7adc",
   "metadata": {},
   "source": [
    "6. Сравните длину множеств **set1** и **set2** и выведите сообщение о том, какое множество длиннее."
   ]
  },
  {
   "cell_type": "code",
   "execution_count": null,
   "id": "5a39c85a-23ae-4045-945c-84dca57bfeb2",
   "metadata": {},
   "outputs": [],
   "source": []
  },
  {
   "cell_type": "markdown",
   "id": "8727cf2d-3ef8-4e10-a773-dc8c62f46167",
   "metadata": {},
   "source": [
    "# Часть 4. Циклы "
   ]
  },
  {
   "cell_type": "markdown",
   "id": "0cc79b02-4f14-4afc-a9da-5679d5aad696",
   "metadata": {},
   "source": [
    "1. Напишите цикл for, который выводит все элементы множества **set1**.\n"
   ]
  },
  {
   "cell_type": "code",
   "execution_count": 83,
   "id": "e6709032-140c-4ebe-b63b-211c948c0f78",
   "metadata": {},
   "outputs": [
    {
     "name": "stdout",
     "output_type": "stream",
     "text": [
      "синий\n",
      "фиолетовый\n",
      "желтый\n",
      "зеленый\n",
      "красный\n",
      "голубой\n"
     ]
    }
   ],
   "source": [
    "for element in set1:\n",
    "    print(element)"
   ]
  },
  {
   "cell_type": "markdown",
   "id": "b11f675d-0fc2-4fa6-ab63-5bc90fedd0e9",
   "metadata": {},
   "source": [
    "2. Напишите цикл while, который выводит квадраты чисел от 1 до 5.\n"
   ]
  },
  {
   "cell_type": "code",
   "execution_count": 55,
   "id": "52196b4f-7639-4bf6-b33f-3edbde3d1fc8",
   "metadata": {},
   "outputs": [
    {
     "name": "stdout",
     "output_type": "stream",
     "text": [
      "1² = 1\n",
      "2² = 4\n",
      "3² = 9\n",
      "4² = 16\n",
      "5² = 25\n"
     ]
    }
   ],
   "source": [
    "number = 1\n",
    "while number <= 5:\n",
    "    print(f'{number}² = {number**2}')\n",
    "    number += 1"
   ]
  },
  {
   "cell_type": "markdown",
   "id": "08006861-c85e-4bca-9046-38464ccf582a",
   "metadata": {},
   "source": [
    "3. Напишите цикл for, который перебирает все ключи словаря **inventory** и выводит каждый товар.\n"
   ]
  },
  {
   "cell_type": "code",
   "execution_count": 56,
   "id": "d156e778-7e8d-41d4-91b4-7e4bd4b2ae82",
   "metadata": {},
   "outputs": [
    {
     "name": "stdout",
     "output_type": "stream",
     "text": [
      "яблоко\n",
      "банан\n",
      "апельсин\n",
      "груша\n"
     ]
    }
   ],
   "source": [
    "for item in inventory.keys():\n",
    "    print(item)"
   ]
  },
  {
   "cell_type": "markdown",
   "id": "bf60f6c9-bc04-4116-a3e9-464233a4c5d1",
   "metadata": {},
   "source": [
    "4. Используя цикл for, выведите всех студентов и их возраст из словаря **students**."
   ]
  },
  {
   "cell_type": "code",
   "execution_count": 58,
   "id": "b28298bb-0a96-4344-9dfb-d25aa46ec8e2",
   "metadata": {},
   "outputs": [
    {
     "name": "stdout",
     "output_type": "stream",
     "text": [
      "Иванов : 22\n",
      "Сидоров : 23\n",
      "Смирнова : 20\n"
     ]
    }
   ],
   "source": [
    "for name, age in students.items():\n",
    "    print(name, ':', age )"
   ]
  },
  {
   "cell_type": "markdown",
   "id": "e5e7b6e6-df34-44d4-8dce-ad5dbff8958b",
   "metadata": {},
   "source": [
    "# Часть 5\n",
    "\n",
    "## Множества\n"
   ]
  },
  {
   "cell_type": "markdown",
   "id": "ebc29429-f37b-48f2-9e28-293ea449f065",
   "metadata": {},
   "source": [
    "1. Создайте функции **set_union** и **set_difference** для операций объединения и разности множеств.\n",
    "   - Функции должны принимать два множества и возвращать соответствующий результат.\n"
   ]
  },
  {
   "cell_type": "code",
   "execution_count": 87,
   "id": "a681b23a-0dd9-4d8f-843d-8a6c588230f0",
   "metadata": {},
   "outputs": [],
   "source": [
    "def set_union(set1, set2):\n",
    "    \n",
    "    result = set()\n",
    "    \n",
    "    for element in set1:\n",
    "        result.add(element)\n",
    "            \n",
    "    for element in set2:\n",
    "        result.add(element)\n",
    "\n",
    "    return result\n",
    "\n",
    "def set_difference(set1, set2):\n",
    "    result = set()\n",
    "    \n",
    "    for element in set1:\n",
    "        if element not in set2:\n",
    "            result.add(element)\n",
    "            \n",
    "    return result"
   ]
  },
  {
   "cell_type": "code",
   "execution_count": 90,
   "id": "ce36d413-436b-4158-9119-0909cd04b200",
   "metadata": {},
   "outputs": [
    {
     "name": "stdout",
     "output_type": "stream",
     "text": [
      "set1: {'синий', 'фиолетовый', 'желтый', 'зеленый', 'красный', 'голубой'}\n",
      "set2: {'оранжевый', 'синий', 'красный', 'желтый'}\n",
      "Объединение множеств: {'фиолетовый', 'желтый', 'оранжевый', 'красный', 'синий', 'зеленый', 'голубой'}\n",
      "Разность множеств: {'голубой', 'фиолетовый', 'зеленый'}\n"
     ]
    }
   ],
   "source": [
    "print('set1:', set1)\n",
    "print('set2:', set2)\n",
    "print('Объединение множеств:', set_union(set1, set2))\n",
    "print('Разность множеств:', set_difference(set1, set2))"
   ]
  },
  {
   "cell_type": "code",
   "execution_count": 114,
   "id": "525b60f4-efed-4d9a-89c4-d0afe03c44ba",
   "metadata": {},
   "outputs": [
    {
     "name": "stdout",
     "output_type": "stream",
     "text": [
      "True\n",
      "True\n"
     ]
    }
   ],
   "source": [
    "# check \n",
    "print(set_union(set1, set2) == set1.union(set2),\\\n",
    "set_difference(set1, set2) == set1.difference(set2), sep = '\\n')"
   ]
  },
  {
   "cell_type": "markdown",
   "id": "d684e5fc-2d58-4a2f-93d9-3e20e8b17b3b",
   "metadata": {},
   "source": [
    "2. Создайте функцию **is_subset** для проверки, является ли одно множество подмножеством другого.\n"
   ]
  },
  {
   "cell_type": "code",
   "execution_count": 100,
   "id": "c380ecc0-e207-4ee2-b9fb-d7386c0056e8",
   "metadata": {},
   "outputs": [],
   "source": [
    "def is_subset(set1, set2):\n",
    "    ''' Является ли множество set1 подмножеством set2?\n",
    "    Функция возвращает True, если является и False, если нет.'''\n",
    "    for element in set1:\n",
    "        if element in set2:\n",
    "            continue\n",
    "        else:\n",
    "            return False\n",
    "    return True"
   ]
  },
  {
   "cell_type": "code",
   "execution_count": 110,
   "id": "e0015739-fec4-4ca4-96e5-ce808b3829e9",
   "metadata": {},
   "outputs": [],
   "source": [
    "s1 = {1,2,3}\n",
    "s2 = {1,2,3,4,5,6}\n",
    "s3 = {1,2,3,9}"
   ]
  },
  {
   "cell_type": "code",
   "execution_count": 111,
   "id": "0e3ba372-8b54-41dd-b0ed-11fc91af480f",
   "metadata": {},
   "outputs": [
    {
     "data": {
      "text/plain": [
       "True"
      ]
     },
     "execution_count": 111,
     "metadata": {},
     "output_type": "execute_result"
    }
   ],
   "source": [
    "is_subset(s1, s2)"
   ]
  },
  {
   "cell_type": "code",
   "execution_count": 112,
   "id": "74d9556b-c81e-4f1e-8a43-21f66a4bee28",
   "metadata": {},
   "outputs": [
    {
     "data": {
      "text/plain": [
       "False"
      ]
     },
     "execution_count": 112,
     "metadata": {},
     "output_type": "execute_result"
    }
   ],
   "source": [
    "is_subset(s3, s2)"
   ]
  },
  {
   "cell_type": "code",
   "execution_count": 113,
   "id": "c4cdc5fe-a46e-4ffe-98c4-ab51a5c3f45b",
   "metadata": {},
   "outputs": [
    {
     "name": "stdout",
     "output_type": "stream",
     "text": [
      "True\n",
      "True\n"
     ]
    }
   ],
   "source": [
    "# check\n",
    "print(s1.issubset(s2) == is_subset(s1, s2),\\\n",
    "s3.issubset(s2) == is_subset(s3, s2), sep = '\\n')"
   ]
  },
  {
   "cell_type": "markdown",
   "id": "9e205e46-bcf9-42e5-a63d-4a4c48e66a24",
   "metadata": {},
   "source": [
    "3. Создайте функцию для объединения нескольких множеств."
   ]
  },
  {
   "cell_type": "code",
   "execution_count": 117,
   "id": "e595f37e-527a-4827-af91-a2b31ef4a477",
   "metadata": {},
   "outputs": [],
   "source": [
    "def merge_sets(*sets):\n",
    "    result_set = set()\n",
    "    for s in sets:\n",
    "        result_set = set_union(s, result_set)\n",
    "        # result_set.update(s) можно еще так\n",
    "    return result_set"
   ]
  },
  {
   "cell_type": "code",
   "execution_count": 126,
   "id": "d096d4cc-4b44-4be9-a162-15c88f3755e4",
   "metadata": {},
   "outputs": [
    {
     "data": {
      "text/plain": [
       "{1, 2, 3, 4, 5, 6, 7}"
      ]
     },
     "execution_count": 126,
     "metadata": {},
     "output_type": "execute_result"
    }
   ],
   "source": [
    "set1 = {1, 2, 3}\n",
    "set2 = {3, 4, 5}\n",
    "set3 = {5, 6, 7}\n",
    "\n",
    "merged_set = merge_sets(set1, set2, set3)\n",
    "merged_set"
   ]
  },
  {
   "cell_type": "markdown",
   "id": "b5060f5e-5dce-4cef-8f97-c0d2dcee5d83",
   "metadata": {},
   "source": [
    "4. Создайте функцию для удаления конкретного элемента из множества.\n"
   ]
  },
  {
   "cell_type": "code",
   "execution_count": null,
   "id": "9da1ec6a-24fd-49bc-829e-dc4ad63398fc",
   "metadata": {},
   "outputs": [],
   "source": [
    "def set_delete(set, element):\n",
    "    "
   ]
  },
  {
   "cell_type": "markdown",
   "id": "c5107c2e-93ce-4683-bf80-150b07b38384",
   "metadata": {},
   "source": [
    "5. Создайте функцию для поиска пересечения нескольких множеств.\n"
   ]
  },
  {
   "cell_type": "code",
   "execution_count": 133,
   "id": "bd99a8a6-b0c0-4e2d-b804-289eb3205be0",
   "metadata": {},
   "outputs": [],
   "source": [
    "def cross_sets(*sets):\n",
    "    result_set = sets[0]\n",
    "\n",
    "    for s in sets:\n",
    "        result_set = s.intersection(result_set)\n",
    "    return result_set"
   ]
  },
  {
   "cell_type": "code",
   "execution_count": 134,
   "id": "71a6fda9-5c36-4a7f-b68e-c20c763e4b1b",
   "metadata": {},
   "outputs": [
    {
     "data": {
      "text/plain": [
       "{3}"
      ]
     },
     "execution_count": 134,
     "metadata": {},
     "output_type": "execute_result"
    }
   ],
   "source": [
    "set1 = {1, 2, 3}\n",
    "set2 = {3, 4, 5}\n",
    "set3 = {3, 5, 6, 7}\n",
    "cross_sets(set1, set2, set3)"
   ]
  },
  {
   "cell_type": "markdown",
   "id": "1574ecbc-cc0f-48ca-8769-3986d78ca5ef",
   "metadata": {},
   "source": [
    "6. Создайте функцию для проверки на равенство двух множеств.\n"
   ]
  },
  {
   "cell_type": "code",
   "execution_count": 135,
   "id": "b2eacdd0-a8bd-41b1-a82e-599a2c4078fc",
   "metadata": {},
   "outputs": [],
   "source": [
    "def is_equal(set1, set2):\n",
    "    if set1 == set2:\n",
    "        return True\n",
    "    else:\n",
    "        return False"
   ]
  },
  {
   "cell_type": "code",
   "execution_count": 140,
   "id": "54856480-d132-4dc3-b206-7100a57f4387",
   "metadata": {},
   "outputs": [
    {
     "data": {
      "text/plain": [
       "False"
      ]
     },
     "execution_count": 140,
     "metadata": {},
     "output_type": "execute_result"
    }
   ],
   "source": [
    "is_equal({1,2,3}, {1,3,2,4})"
   ]
  },
  {
   "cell_type": "code",
   "execution_count": 141,
   "id": "943666e1-06ec-40d3-9334-869ce58957aa",
   "metadata": {},
   "outputs": [
    {
     "data": {
      "text/plain": [
       "True"
      ]
     },
     "execution_count": 141,
     "metadata": {},
     "output_type": "execute_result"
    }
   ],
   "source": [
    "is_equal({1,2,3}, {1,3,2})"
   ]
  },
  {
   "cell_type": "markdown",
   "id": "f3a5f1f2-6905-43cf-abd0-9f96586770d7",
   "metadata": {},
   "source": [
    "7. Создайте функцию для нахождения объединения трех множеств.\n"
   ]
  },
  {
   "cell_type": "code",
   "execution_count": null,
   "id": "dce6891e-bba6-4310-82bc-d6031e5742f9",
   "metadata": {},
   "outputs": [],
   "source": [
    "# уже было \n",
    "\n",
    "def merge_sets(*sets):\n",
    "    result_set = set()\n",
    "    for s in sets:\n",
    "        result_set = set_union(s, result_set)\n",
    "        # result_set.update(s) можно еще так\n",
    "    return result_set"
   ]
  },
  {
   "cell_type": "markdown",
   "id": "5ffb8044-0ec8-408a-b2e9-9c42e3d3c79d",
   "metadata": {},
   "source": [
    "8. Создайте функцию для проверки, являются ли два множества дизъюнктными (не имеют общих элементов).\n"
   ]
  },
  {
   "cell_type": "code",
   "execution_count": 142,
   "id": "4ecc877c-ee47-4b9d-b424-bd86e2ee2ff0",
   "metadata": {},
   "outputs": [],
   "source": [
    "def is_disunctive(set1, set2):\n",
    "    for element in set1:\n",
    "        if element in set2:\n",
    "            return False\n",
    "    return True"
   ]
  },
  {
   "cell_type": "code",
   "execution_count": 143,
   "id": "6885783b-29b5-4228-b012-b75a3977ac30",
   "metadata": {},
   "outputs": [
    {
     "data": {
      "text/plain": [
       "True"
      ]
     },
     "execution_count": 143,
     "metadata": {},
     "output_type": "execute_result"
    }
   ],
   "source": [
    "is_disunctive({1,2,4}, {3,5,6})"
   ]
  },
  {
   "cell_type": "code",
   "execution_count": 144,
   "id": "ab7c4fcf-d1db-4ed1-9ed4-9d2aaee11602",
   "metadata": {},
   "outputs": [
    {
     "data": {
      "text/plain": [
       "False"
      ]
     },
     "execution_count": 144,
     "metadata": {},
     "output_type": "execute_result"
    }
   ],
   "source": [
    "is_disunctive({1,2,4}, {3,5,6,1})"
   ]
  },
  {
   "cell_type": "markdown",
   "id": "43a849db-49c8-4c6b-a015-fba7c097d05d",
   "metadata": {},
   "source": [
    "9. Создайте функцию для нахождения разности двух множеств.\n"
   ]
  },
  {
   "cell_type": "code",
   "execution_count": 145,
   "id": "e3ebff96-4e42-42c0-b56c-e35c1ee0fbda",
   "metadata": {},
   "outputs": [],
   "source": [
    "# уже было\n",
    "\n",
    "def set_difference(set1, set2):\n",
    "    result = set()\n",
    "    \n",
    "    for element in set1:\n",
    "        if element not in set2:\n",
    "            result.add(element)\n",
    "            \n",
    "    return result"
   ]
  },
  {
   "cell_type": "markdown",
   "id": "a3344764-fe59-4820-a488-87b0c86c7b69",
   "metadata": {},
   "source": [
    "10. Создайте функцию для определения симметрической разности двух множеств.\n"
   ]
  },
  {
   "cell_type": "code",
   "execution_count": 148,
   "id": "f736350b-a8d6-4e84-8d1b-e366ebe3b72c",
   "metadata": {},
   "outputs": [],
   "source": [
    "# только в А или только в В но не в два одновременно \n",
    "def s_difference(set1, set2):\n",
    "        result = set()\n",
    "        \n",
    "        for element in set1:\n",
    "            if element in set2:\n",
    "                set2.discard(element)\n",
    "            else:\n",
    "               result.add(element)\n",
    "                \n",
    "        for element in set2:\n",
    "            result.add(element)\n",
    "    \n",
    "        return result"
   ]
  },
  {
   "cell_type": "code",
   "execution_count": 154,
   "id": "419f88b2-945e-4934-bb81-1d896e803e1a",
   "metadata": {},
   "outputs": [
    {
     "data": {
      "text/plain": [
       "{1, 2, 4, 5}"
      ]
     },
     "execution_count": 154,
     "metadata": {},
     "output_type": "execute_result"
    }
   ],
   "source": [
    "symmetry_difference({1,2,3}, {3,4,5})"
   ]
  },
  {
   "cell_type": "code",
   "execution_count": 155,
   "id": "a92d3b4b-d175-4699-8feb-d0bddd3792a7",
   "metadata": {},
   "outputs": [
    {
     "data": {
      "text/plain": [
       "True"
      ]
     },
     "execution_count": 155,
     "metadata": {},
     "output_type": "execute_result"
    }
   ],
   "source": [
    "# check\n",
    "symmetry_difference({1,2,3}, {3,4,5}) == {1,2,3}.symmetric_difference({3,4,5})"
   ]
  },
  {
   "cell_type": "markdown",
   "id": "52e92a87-2a7b-4634-a258-f28848c3de46",
   "metadata": {},
   "source": [
    "11. Создайте функцию **create_set** для создания множества с заданными элементами.\n",
    "   - Функция должна принимать переменное количество аргументов и возвращать новое множество."
   ]
  },
  {
   "cell_type": "code",
   "execution_count": 156,
   "id": "d27ec175-7226-467b-a278-b2b667e60a42",
   "metadata": {},
   "outputs": [],
   "source": [
    "def create_set(*values):\n",
    "    result = set()\n",
    "    for v in values:\n",
    "        result.add(v)\n",
    "    return result\n",
    "    "
   ]
  },
  {
   "cell_type": "code",
   "execution_count": 160,
   "id": "2836af77-7ed4-40a0-ad12-1672869b22f0",
   "metadata": {},
   "outputs": [
    {
     "data": {
      "text/plain": [
       "{1, 2, 3, 4, 5, 6, 7, 8}"
      ]
     },
     "execution_count": 160,
     "metadata": {},
     "output_type": "execute_result"
    }
   ],
   "source": [
    "create_set(1,2,3,4,5,6,7,8)"
   ]
  },
  {
   "cell_type": "code",
   "execution_count": 161,
   "id": "6d5d11e3-c6d7-4cb6-92a9-da2cb1d58f5f",
   "metadata": {},
   "outputs": [
    {
     "data": {
      "text/plain": [
       "{1, 2, 4, 5, 6, 'fff'}"
      ]
     },
     "execution_count": 161,
     "metadata": {},
     "output_type": "execute_result"
    }
   ],
   "source": [
    "create_set(1,2,'fff',4,5,6)"
   ]
  },
  {
   "cell_type": "code",
   "execution_count": 162,
   "id": "00dbb111-619d-4bb1-852e-16e2aa592a5e",
   "metadata": {},
   "outputs": [
    {
     "data": {
      "text/plain": [
       "set"
      ]
     },
     "execution_count": 162,
     "metadata": {},
     "output_type": "execute_result"
    }
   ],
   "source": [
    "type(create_set(1,2,'fff',4,5,6))"
   ]
  },
  {
   "cell_type": "markdown",
   "id": "d2f1bbce-9bcf-4746-98f3-c844458fb444",
   "metadata": {},
   "source": [
    "## Словари"
   ]
  },
  {
   "cell_type": "markdown",
   "id": "afd4ab39-39e7-4e4e-b8c7-481676305aa5",
   "metadata": {},
   "source": [
    "1. Создайте функцию **create_dictionary** для создания словаря с заданными ключами и значениями.\n",
    "   - Функция должна принимать словарь в формате ключ-значение и возвращать созданный словарь."
   ]
  },
  {
   "cell_type": "code",
   "execution_count": 163,
   "id": "5cea8acd-c749-40b8-b983-2dfd35e116c2",
   "metadata": {},
   "outputs": [],
   "source": [
    "def create_dictionary(*set):\n",
    "    ''' Формат задавания в виде сета (ключб значение)'''\n",
    "\n",
    "    d = {}\n",
    "    for key, value in set:\n",
    "        d[key] = value\n",
    "    return d"
   ]
  },
  {
   "cell_type": "code",
   "execution_count": 165,
   "id": "78091434-3ce9-469c-8ae7-cd94fdbcc45c",
   "metadata": {},
   "outputs": [
    {
     "data": {
      "text/plain": [
       "{'ааа': 5, 'bbb': 6, 'ccc': 7}"
      ]
     },
     "execution_count": 165,
     "metadata": {},
     "output_type": "execute_result"
    }
   ],
   "source": [
    "create_dictionary(('ааа',5),('bbb',6),('ccc',7))"
   ]
  },
  {
   "cell_type": "markdown",
   "id": "61696b5a-096d-4557-a0b0-0f72b0f9a869",
   "metadata": {},
   "source": [
    "2. Напишите функции **add_student** и **remove_student** для добавления и удаления студентов из словаря.\n",
    "   - Функции должны принимать словарь студентов и соответствующие данные для добавления и удаления."
   ]
  },
  {
   "cell_type": "code",
   "execution_count": 171,
   "id": "7e599200-57fa-47d1-a30a-b671bb5b658f",
   "metadata": {},
   "outputs": [],
   "source": [
    "def  add_student(d, name, information):\n",
    "    ''' Если студент уже есть, то функция изменит информацию\n",
    "    Если студента еще нет, то в словаре появится новое имя с информацией'''\n",
    "    d[name] = information\n",
    "\n",
    "    return d\n",
    "\n",
    "def remove_student(d, name):\n",
    "    d.pop(name)\n",
    "    return d"
   ]
  },
  {
   "cell_type": "code",
   "execution_count": 172,
   "id": "83c978ab-5ba6-43f2-9708-ac4fc4924501",
   "metadata": {},
   "outputs": [
    {
     "name": "stdout",
     "output_type": "stream",
     "text": [
      "{'Иванов': 22, 'Сидоров': 23, 'Смирнова': 20, 'Korchevaya': 21}\n"
     ]
    }
   ],
   "source": [
    "print(students)"
   ]
  },
  {
   "cell_type": "code",
   "execution_count": 173,
   "id": "4f1f52d3-ba92-4c1d-9c42-7ffde9b686ec",
   "metadata": {},
   "outputs": [
    {
     "data": {
      "text/plain": [
       "{'Иванов': 22, 'Сидоров': 23, 'Смирнова': 20, 'Korchevaya': 40}"
      ]
     },
     "execution_count": 173,
     "metadata": {},
     "output_type": "execute_result"
    }
   ],
   "source": [
    "add_student(students, 'Korchevaya', 40)"
   ]
  },
  {
   "cell_type": "code",
   "execution_count": 175,
   "id": "8c09f350-1ee2-486b-b702-4a27638e2b10",
   "metadata": {},
   "outputs": [
    {
     "data": {
      "text/plain": [
       "{'Иванов': 22, 'Сидоров': 23, 'Смирнова': 20, 'Korchevaya': 21}"
      ]
     },
     "execution_count": 175,
     "metadata": {},
     "output_type": "execute_result"
    }
   ],
   "source": [
    "add_student(students, 'Korchevaya', 21)"
   ]
  },
  {
   "cell_type": "code",
   "execution_count": 177,
   "id": "f792e211-da73-4457-9dac-9e903e3d31b4",
   "metadata": {},
   "outputs": [
    {
     "data": {
      "text/plain": [
       "{'Иванов': 22, 'Сидоров': 23, 'Смирнова': 20}"
      ]
     },
     "execution_count": 177,
     "metadata": {},
     "output_type": "execute_result"
    }
   ],
   "source": [
    "remove_student(students, 'Korchevaya' )"
   ]
  },
  {
   "cell_type": "markdown",
   "id": "6b57614f-432e-428e-90aa-72fe4384ed88",
   "metadata": {},
   "source": [
    "    \n",
    "3. Создайте функцию для объединения двух словарей."
   ]
  },
  {
   "cell_type": "code",
   "execution_count": 185,
   "id": "a63a6d3d-55eb-4948-943a-4c61758ec41e",
   "metadata": {},
   "outputs": [],
   "source": [
    "def dict_extend(*dict):\n",
    "    '''Обьединение любого количества списков\n",
    "    ОСТОРОЖНО! Если передать два списка с одинаковыми ключами,\n",
    "    то в конечном списке будет храниться только значения последних (см ниже)'''\n",
    "    result = {}\n",
    "    for d in dict:\n",
    "        for key, value in d.items():\n",
    "            result[key] = value\n",
    "    return result\n",
    "\n",
    "def dict_extend_new(dict1, dict2):\n",
    "    '''Способ с распаковкой. Так же перезаписывает значения по одинаковым ключам '''\n",
    "    result = {**dict1, **dict2}\n",
    "    return result"
   ]
  },
  {
   "cell_type": "code",
   "execution_count": 182,
   "id": "88e2dbda-a753-4218-832d-940f6772dbbd",
   "metadata": {},
   "outputs": [
    {
     "name": "stdout",
     "output_type": "stream",
     "text": [
      "{'яблоко': 5, 'банан': 13, 'апельсин': 7, 'груша': 3}\n"
     ]
    }
   ],
   "source": [
    "print(inventory)"
   ]
  },
  {
   "cell_type": "code",
   "execution_count": 183,
   "id": "5dfaacf5-1df6-45d2-b868-a570c044af4c",
   "metadata": {},
   "outputs": [
    {
     "name": "stdout",
     "output_type": "stream",
     "text": [
      "{'яблоко': 1.5, 'банан': 2, 'апельсин': 1.2}\n"
     ]
    }
   ],
   "source": [
    "print(prices)"
   ]
  },
  {
   "cell_type": "code",
   "execution_count": 181,
   "id": "8059a29d-c60a-4c56-9800-c7693fecca59",
   "metadata": {},
   "outputs": [
    {
     "data": {
      "text/plain": [
       "{'Иванов': 22,\n",
       " 'Сидоров': 23,\n",
       " 'Смирнова': 20,\n",
       " 'яблоко': 1.5,\n",
       " 'банан': 2,\n",
       " 'апельсин': 1.2,\n",
       " 'груша': 3}"
      ]
     },
     "execution_count": 181,
     "metadata": {},
     "output_type": "execute_result"
    }
   ],
   "source": [
    "# если передадим два словаря с одинаковыми ключами, но разными значениями, то с словаре будут находится только последние значения по ключам\n",
    "#с этим нужно быть аккуратнее \n",
    "dict_extend(students, inventory, prices)"
   ]
  },
  {
   "cell_type": "code",
   "execution_count": 188,
   "id": "bf1b17f5-4b7d-457c-ae89-600cee519fc9",
   "metadata": {},
   "outputs": [
    {
     "data": {
      "text/plain": [
       "{'Иванов': 22,\n",
       " 'Сидоров': 23,\n",
       " 'Смирнова': 20,\n",
       " 'яблоко': 1.5,\n",
       " 'банан': 2,\n",
       " 'апельсин': 1.2}"
      ]
     },
     "execution_count": 188,
     "metadata": {},
     "output_type": "execute_result"
    }
   ],
   "source": [
    "dict_extend_new(students, prices)"
   ]
  },
  {
   "cell_type": "markdown",
   "id": "d47c1db5-b79b-43c6-aab4-2c1a227a7b06",
   "metadata": {},
   "source": [
    "4. Создайте функцию для удаления элемента из словаря по заданному ключу."
   ]
  },
  {
   "cell_type": "code",
   "execution_count": null,
   "id": "580948a9-d772-461a-88c9-20893b44481d",
   "metadata": {},
   "outputs": [],
   "source": [
    "def remove_student(d, key):\n",
    "    d.pop(key)\n",
    "    return d"
   ]
  },
  {
   "cell_type": "markdown",
   "id": "f609f228-21af-42cb-9714-2c723f37f5eb",
   "metadata": {},
   "source": [
    "5. Создайте функцию для переворачивания значений и ключей в словаре."
   ]
  },
  {
   "cell_type": "code",
   "execution_count": 232,
   "id": "fd90196c-2438-4eeb-8beb-cad200064044",
   "metadata": {},
   "outputs": [],
   "source": [
    "def reverse(d):\n",
    "    result = {}\n",
    "    for key, value in d.items():\n",
    "        result[value] = key\n",
    "    return result"
   ]
  },
  {
   "cell_type": "code",
   "execution_count": 233,
   "id": "e8e783cb-804e-495c-8607-e5619b4f5c95",
   "metadata": {},
   "outputs": [
    {
     "data": {
      "text/plain": [
       "{22: 'Иванов', 23: 'Сидоров', 20: 'Смирнова'}"
      ]
     },
     "execution_count": 233,
     "metadata": {},
     "output_type": "execute_result"
    }
   ],
   "source": [
    "reverse(students)"
   ]
  },
  {
   "cell_type": "markdown",
   "id": "a1eda518-9d0c-4a7f-bb33-cb02ff3d36d4",
   "metadata": {},
   "source": [
    "6. Создайте функцию для сортировки словаря по ключам в обратном порядке."
   ]
  },
  {
   "cell_type": "code",
   "execution_count": 243,
   "id": "9153fdb6-f3e0-4789-9d19-99b97c592f0d",
   "metadata": {},
   "outputs": [],
   "source": [
    "def reverse_sort(d):\n",
    "    result = {}\n",
    "    for key, value in d.items():\n",
    "        result[value] = key\n",
    "    return result"
   ]
  },
  {
   "cell_type": "code",
   "execution_count": 244,
   "id": "0cc84a9a-1f55-484b-9013-7ec592d3a4ad",
   "metadata": {},
   "outputs": [
    {
     "data": {
      "text/plain": [
       "{22: 'Иванов', 23: 'Сидоров', 20: 'Смирнова'}"
      ]
     },
     "execution_count": 244,
     "metadata": {},
     "output_type": "execute_result"
    }
   ],
   "source": [
    "reverse_sort(students)"
   ]
  },
  {
   "cell_type": "markdown",
   "id": "f0e8c3e2-8e15-46df-88d0-4ab6f1e85fcc",
   "metadata": {},
   "source": [
    "7.  Создайте функцию для поиска наибольшего значения в словаре."
   ]
  },
  {
   "cell_type": "code",
   "execution_count": 240,
   "id": "3684d4e9-498e-413b-96a4-c93dd6218c6a",
   "metadata": {},
   "outputs": [],
   "source": [
    "def max_dict(d):\n",
    "    return max(d.values())"
   ]
  },
  {
   "cell_type": "code",
   "execution_count": 241,
   "id": "6cd50a8b-3853-4939-b722-260eff915f0c",
   "metadata": {},
   "outputs": [
    {
     "data": {
      "text/plain": [
       "2"
      ]
     },
     "execution_count": 241,
     "metadata": {},
     "output_type": "execute_result"
    }
   ],
   "source": [
    "max_dict(prices)"
   ]
  },
  {
   "cell_type": "markdown",
   "id": "0b854077-79e9-4213-8bf9-91796b237695",
   "metadata": {},
   "source": [
    "## Условия"
   ]
  },
  {
   "cell_type": "markdown",
   "id": "119cf9f7-e390-4f4a-9d9d-2d345a7e4030",
   "metadata": {},
   "source": [
    "1. Создайте функцию **check_age** для проверки возраста студента и вывода соответствующего сообщения.\n",
    "   - Функция должна принимать словарь студентов и имя студента, а затем выводить сообщение о совершеннолетии или несовершеннолетии."
   ]
  },
  {
   "cell_type": "code",
   "execution_count": 278,
   "id": "0b33880a-73da-4af8-954f-67dc1f84e655",
   "metadata": {},
   "outputs": [
    {
     "name": "stdout",
     "output_type": "stream",
     "text": [
      "Иванов cовершеннолетний\n"
     ]
    }
   ],
   "source": [
    "check_age(students, 'Иванов')"
   ]
  },
  {
   "cell_type": "markdown",
   "id": "eaa6f99e-8786-4b77-8a3d-e9d1e2aaca24",
   "metadata": {},
   "source": [
    "2. Создайте функцию **compare_sets_length**, которая сравнивает длину двух множеств и выводит информацию о  том, какое из множеств длиннее.\n",
    "   - Функция должна принимать два множества и выводить соответствующее сообщение."
   ]
  },
  {
   "cell_type": "code",
   "execution_count": null,
   "id": "411e1b8a-82e0-4b02-9067-cf64a2682479",
   "metadata": {},
   "outputs": [],
   "source": [
    "def compare_sets_length(set1, set2):\n",
    "    if len(set1) > len(set2):\n",
    "        print('Множество set1 больше множества set2')\n",
    "    elif len(set1) < len(set2):\n",
    "        print('Множество set2 больше множества set1')\n",
    "    else:\n",
    "        print('Множествa set2 и set1 равны')"
   ]
  },
  {
   "cell_type": "markdown",
   "id": "672eadf2-c873-4a63-81e9-350d6f551658",
   "metadata": {},
   "source": [
    "3. Создайте функцию для определения четности или нечетности числа."
   ]
  },
  {
   "cell_type": "code",
   "execution_count": null,
   "id": "d256fe8f-4321-4695-ba84-a502e78c5fba",
   "metadata": {},
   "outputs": [],
   "source": [
    "def is_even(num):\n",
    "    if num % 2:\n",
    "        print('четное')\n",
    "    else:\n",
    "        print('нечетное')"
   ]
  },
  {
   "cell_type": "code",
   "execution_count": null,
   "id": "d6ed4196-2d1a-4612-ad4b-48c03ee93cf7",
   "metadata": {},
   "outputs": [],
   "source": [
    "is_even(10)"
   ]
  },
  {
   "cell_type": "markdown",
   "id": "425e16c4-bc07-4cd4-ab4d-0260a766c86b",
   "metadata": {},
   "source": [
    "4. Создайте функцию для определения високосного года."
   ]
  },
  {
   "cell_type": "code",
   "execution_count": null,
   "id": "6ad0b0ac-4862-499d-8545-d0076197889a",
   "metadata": {},
   "outputs": [],
   "source": []
  },
  {
   "cell_type": "markdown",
   "id": "7bb8b1c9-fc2d-4195-bfa6-1c6eee2e4400",
   "metadata": {},
   "source": [
    "5. Создайте функцию для определения типа треугольника по длинам сторон."
   ]
  },
  {
   "cell_type": "markdown",
   "id": "833115b1-7cf0-4c53-978a-58082633a4a4",
   "metadata": {},
   "source": []
  },
  {
   "cell_type": "markdown",
   "id": "6ab1b749-bac8-45e0-872e-a290fa76ac1b",
   "metadata": {},
   "source": [
    "6. Создайте функцию для проверки, является ли строка палиндромом."
   ]
  },
  {
   "cell_type": "code",
   "execution_count": null,
   "id": "ab27f9b7-e0fb-447e-a8b3-caaf180f96ea",
   "metadata": {},
   "outputs": [],
   "source": []
  },
  {
   "cell_type": "markdown",
   "id": "046f869c-8e44-4f65-bc01-6d7efa7abf9b",
   "metadata": {},
   "source": [
    "7. Создайте функцию для определения времени суток по введенному времени (утро, день, вечер, ночь)."
   ]
  },
  {
   "cell_type": "code",
   "execution_count": null,
   "id": "08399224-c343-40fb-bebd-da4241f80678",
   "metadata": {},
   "outputs": [],
   "source": []
  },
  {
   "cell_type": "markdown",
   "id": "3fc2ca39-2831-49b0-8f07-0ff468f31719",
   "metadata": {},
   "source": [
    "8. Создайте функцию, которая определяет, является ли введенное число простым."
   ]
  },
  {
   "cell_type": "code",
   "execution_count": null,
   "id": "83c20a20-9201-4d47-b9f6-8b6055e3cd41",
   "metadata": {},
   "outputs": [],
   "source": []
  },
  {
   "cell_type": "markdown",
   "id": "a38ec9f4-ee92-40fa-8774-85d05d45d093",
   "metadata": {},
   "source": [
    "9. Создайте функцию для проверки входящей строки на наличие только буквенных символов."
   ]
  },
  {
   "cell_type": "code",
   "execution_count": null,
   "id": "e0e1a614-f1c7-43f3-aaa8-19616b84415a",
   "metadata": {},
   "outputs": [],
   "source": []
  },
  {
   "cell_type": "markdown",
   "id": "c0d15d83-cd03-492a-92f7-56cbc4c1c4c0",
   "metadata": {},
   "source": [
    "10. Создайте функцию, которая определяет, является ли введенная дата корректной."
   ]
  },
  {
   "cell_type": "code",
   "execution_count": null,
   "id": "52f40113-d902-4e56-8455-96cc9c545351",
   "metadata": {},
   "outputs": [],
   "source": []
  },
  {
   "cell_type": "markdown",
   "id": "04b5c0ad-f0f3-4e07-b5cf-f728a5940234",
   "metadata": {},
   "source": [
    "11. Создайте функцию, которая определяет, является ли введенное число палиндромом."
   ]
  },
  {
   "cell_type": "code",
   "execution_count": null,
   "id": "38d2c51c-eb90-4223-b3f5-d9ad4244ac06",
   "metadata": {},
   "outputs": [],
   "source": []
  },
  {
   "cell_type": "markdown",
   "id": "060504e0-9ca3-4823-a96f-b88ae9d4ea5b",
   "metadata": {},
   "source": [
    "12. Создайте функцию для определения дня недели по введенному номеру дня (1 - Понедельник, 2 - Вторник и т.д.)."
   ]
  },
  {
   "cell_type": "code",
   "execution_count": null,
   "id": "5b3b7a17-bdb4-49cd-a1a9-a8b85fc022c1",
   "metadata": {},
   "outputs": [],
   "source": []
  },
  {
   "cell_type": "markdown",
   "id": "2929102f-e6e9-4f73-ab3f-998e3e779f4a",
   "metadata": {},
   "source": [
    "## Циклы"
   ]
  },
  {
   "cell_type": "markdown",
   "id": "9b194de6-9cdd-4151-8ff6-ab5fb0541da6",
   "metadata": {},
   "source": [
    "1. Создайте функцию **print_students** для вывода информации о студентах из словаря.\n",
    "   - Функция должна принимать словарь студентов и выводить их имена и возраст."
   ]
  },
  {
   "cell_type": "code",
   "execution_count": 255,
   "id": "1e51771b-6aa9-4338-bf01-7aa7a55dd2ce",
   "metadata": {},
   "outputs": [],
   "source": [
    "def print_students(d):\n",
    "    for key, value in d.items():\n",
    "        print(key, value, end = '\\n')"
   ]
  },
  {
   "cell_type": "code",
   "execution_count": 256,
   "id": "982af4a8-c49f-493a-a3c8-40ff23231e8c",
   "metadata": {},
   "outputs": [
    {
     "name": "stdout",
     "output_type": "stream",
     "text": [
      "Иванов 22\n",
      "Сидоров 23\n",
      "Смирнова 20\n"
     ]
    }
   ],
   "source": [
    "print_students(students)"
   ]
  },
  {
   "cell_type": "markdown",
   "id": "37f7285a-6f68-4d64-94f0-612334340d78",
   "metadata": {},
   "source": [
    "2. Создайте функцию **print_squares_while**, которая использует цикл while для вывода квадратов чисел от 1 до 5."
   ]
  },
  {
   "cell_type": "code",
   "execution_count": 258,
   "id": "2d9277ac-d855-4a12-961c-fd640b90f09b",
   "metadata": {},
   "outputs": [],
   "source": [
    "def print_squares_while():\n",
    "    number = 1\n",
    "    while number <= 5:\n",
    "        print(f'{number}² = {number**2}')\n",
    "        number += 1 "
   ]
  },
  {
   "cell_type": "code",
   "execution_count": 259,
   "id": "44213422-1a17-48e4-9382-8122a23a240c",
   "metadata": {},
   "outputs": [
    {
     "name": "stdout",
     "output_type": "stream",
     "text": [
      "1² = 1\n",
      "2² = 4\n",
      "3² = 9\n",
      "4² = 16\n",
      "5² = 25\n"
     ]
    }
   ],
   "source": [
    "print_squares_while()"
   ]
  },
  {
   "cell_type": "markdown",
   "id": "b7fe6aa8-6703-4476-b358-0159bf94d2b0",
   "metadata": {},
   "source": [
    "3. Создайте функцию для вывода факториала заданного числа."
   ]
  },
  {
   "cell_type": "code",
   "execution_count": 262,
   "id": "ceb0cb29-a790-44d0-9a4f-c3ea8f436322",
   "metadata": {},
   "outputs": [],
   "source": [
    "def factorial(n):\n",
    "    if n == 0:\n",
    "        return 1\n",
    "    else: \n",
    "        return n * factorial(n-1)"
   ]
  },
  {
   "cell_type": "code",
   "execution_count": 263,
   "id": "7c934d48-7e0e-49e4-94ca-a0ca550f2184",
   "metadata": {},
   "outputs": [
    {
     "data": {
      "text/plain": [
       "93326215443944152681699238856266700490715968264381621468592963895217599993229915608941463976156518286253697920827223758251185210916864000000000000000000000000"
      ]
     },
     "execution_count": 263,
     "metadata": {},
     "output_type": "execute_result"
    }
   ],
   "source": [
    "factorial(100)"
   ]
  },
  {
   "cell_type": "markdown",
   "id": "fc0a7ad4-3835-47e3-944e-150fbe136c05",
   "metadata": {},
   "source": [
    "4. Создайте функцию для поиска суммы чисел в заданном диапазоне."
   ]
  },
  {
   "cell_type": "code",
   "execution_count": 266,
   "id": "ecbf6b2f-9eeb-48de-a533-6f73c8c908a2",
   "metadata": {},
   "outputs": [],
   "source": [
    "def find_summ(start, finish):\n",
    "    n = finish - start + 1\n",
    "    return (2*start + (n-1))*n/2"
   ]
  },
  {
   "cell_type": "code",
   "execution_count": 268,
   "id": "4c7181cb-8210-4343-ad64-4f97bd2853a7",
   "metadata": {},
   "outputs": [
    {
     "data": {
      "text/plain": [
       "14.0"
      ]
     },
     "execution_count": 268,
     "metadata": {},
     "output_type": "execute_result"
    }
   ],
   "source": [
    "find_summ(2,5)"
   ]
  },
  {
   "cell_type": "markdown",
   "id": "801e74f3-b32c-4022-9ac5-b948ad32c486",
   "metadata": {},
   "source": [
    "5. Создайте функцию для генерации и вывода всех простых чисел до заданного числа."
   ]
  },
  {
   "cell_type": "code",
   "execution_count": 270,
   "id": "dd34370b-02e3-4116-bc8e-d47caafd36ef",
   "metadata": {},
   "outputs": [],
   "source": [
    "def find_simple(n):\n",
    "    ''' Решето Эратосфена\n",
    "    сначала удаляются все 2,4, ...\n",
    "    потом 3, 6,...\n",
    "    потом кратные 5 (тк 4 уже удалили) и так далее''' \n",
    "    a = []\n",
    "    i= 0\n",
    "    while i <= n:\n",
    "        a.append(i)\n",
    "        i += 1\n",
    "    a[1]=0\n",
    "    i= 2\n",
    "    \n",
    "    while i <= n:\n",
    "        if a[i] != 0:\n",
    "            j = i + i\n",
    "            while j <= n:\n",
    "                a[j] = 0\n",
    "                j += i\n",
    "        i += 1\n",
    "    a = set(a)\n",
    "    a.remove(0)\n",
    "    print(a)"
   ]
  },
  {
   "cell_type": "code",
   "execution_count": 271,
   "id": "bd6643b1-2f0b-42f9-bf59-88d7fa93fc98",
   "metadata": {},
   "outputs": [
    {
     "name": "stdout",
     "output_type": "stream",
     "text": [
      "{2, 3, 5, 7, 11, 13, 17, 19, 23, 29, 31, 37, 41, 43, 47, 53, 59, 61, 67, 71, 73, 79, 83, 89, 97}\n"
     ]
    }
   ],
   "source": [
    "find_simple(100)"
   ]
  },
  {
   "cell_type": "markdown",
   "id": "31804032-0d13-44a9-b3ce-b34c4165324c",
   "metadata": {},
   "source": [
    "6. Создайте функцию для проверки строки на палиндромность без учёта регистра и знаков препинания."
   ]
  },
  {
   "cell_type": "code",
   "execution_count": null,
   "id": "1267b89e-9d9c-449a-914e-f7317db8a970",
   "metadata": {},
   "outputs": [],
   "source": []
  },
  {
   "cell_type": "markdown",
   "id": "ebae7aa3-94f2-49f1-91a8-d43eee321208",
   "metadata": {},
   "source": [
    "7. Создайте функцию для поиска наибольшего общего делителя (НОД) двух чисел."
   ]
  },
  {
   "cell_type": "code",
   "execution_count": 274,
   "id": "18bce3a6-e4b0-426b-8855-10b78f7a88b9",
   "metadata": {},
   "outputs": [],
   "source": [
    "def GSV(a,b):\n",
    "    \n",
    "    while a != 0 and b != 0:\n",
    "        if a > b :\n",
    "            a = a % b\n",
    "        else:\n",
    "            b = b % a\n",
    "            \n",
    "    return a + b"
   ]
  },
  {
   "cell_type": "code",
   "execution_count": 275,
   "id": "b2e658b8-a6d7-4aad-9716-99c1cb137b26",
   "metadata": {},
   "outputs": [
    {
     "data": {
      "text/plain": [
       "20"
      ]
     },
     "execution_count": 275,
     "metadata": {},
     "output_type": "execute_result"
    }
   ],
   "source": [
    "GSV(100, 20)"
   ]
  },
  {
   "cell_type": "markdown",
   "id": "4c2596f8-e06f-49fa-972e-19d61f17e95c",
   "metadata": {},
   "source": [
    "## Общие "
   ]
  },
  {
   "cell_type": "markdown",
   "id": "29905a77-19ef-470a-9785-edcc052b5a03",
   "metadata": {},
   "source": [
    "1. Создайте функцию, которая будет запрашивать у пользователя его возраст.\n",
    "   - Если возраст меньше 18 лет, программа должна выводить сообщение о том, что пользователь несовершеннолетний.\n",
    "   - Если возраст от 18 до 65 лет, программа должна выводить сообщение о том, что пользователь взрослый.\n",
    "   - Если возраст больше 65 лет, программа должна выводить сообщение о том, что пользователь пенсионер."
   ]
  },
  {
   "cell_type": "code",
   "execution_count": 205,
   "id": "97357f0a-6a24-495b-8db6-c7a6b99b6c12",
   "metadata": {},
   "outputs": [],
   "source": [
    "def age_info():\n",
    "    print('Введите ваш возраст')\n",
    "    age = input()\n",
    "\n",
    "    if age.isdigit():\n",
    "        age = int(age)\n",
    "        if age < 18:\n",
    "            print('пользователь несовершеннолетний')\n",
    "        elif age >=18 and age <= 65:\n",
    "            print('пользователь взрослый')\n",
    "        else:\n",
    "            print('пользователь пенсионер')\n",
    "    else:\n",
    "        print('вы ввели не число. попробуйте еще раз')\n",
    "    return "
   ]
  },
  {
   "cell_type": "code",
   "execution_count": 207,
   "id": "b52838bd-51bb-4f8f-bd97-a8aae0495668",
   "metadata": {},
   "outputs": [
    {
     "name": "stdout",
     "output_type": "stream",
     "text": [
      "Введите ваш возраст\n"
     ]
    },
    {
     "name": "stdin",
     "output_type": "stream",
     "text": [
      " Hello\n"
     ]
    },
    {
     "name": "stdout",
     "output_type": "stream",
     "text": [
      "вы ввели не число. попробуйте еще раз\n"
     ]
    }
   ],
   "source": [
    "age_info()"
   ]
  },
  {
   "cell_type": "code",
   "execution_count": 208,
   "id": "8e595495-c2dd-4c4f-b94b-15ce97509c67",
   "metadata": {},
   "outputs": [
    {
     "name": "stdout",
     "output_type": "stream",
     "text": [
      "Введите ваш возраст\n"
     ]
    },
    {
     "name": "stdin",
     "output_type": "stream",
     "text": [
      " 21\n"
     ]
    },
    {
     "name": "stdout",
     "output_type": "stream",
     "text": [
      "пользователь взрослый\n"
     ]
    }
   ],
   "source": [
    "age_info()"
   ]
  },
  {
   "cell_type": "markdown",
   "id": "e49629de-0a92-4c65-af5e-2fbdb18128f7",
   "metadata": {},
   "source": [
    "2. Создайте функцию, которая будет проверять введенную пользователем строку на наличие повторяющихся символов.\n",
    "   - Если такие символы найдены, программа должна выводить их список."
   ]
  },
  {
   "cell_type": "code",
   "execution_count": 228,
   "id": "78f7a3d5-8a2f-445b-94fb-d4e416d4d0f5",
   "metadata": {},
   "outputs": [],
   "source": [
    "def is_double(stroka):\n",
    "    result = []\n",
    "    s = list(stroka)\n",
    "    s.sort()\n",
    "    for i in range(len(s)-1):\n",
    "        if s[i] == s[i+1] and s[i] not in result:\n",
    "            result.append(s[i])\n",
    "    \n",
    "    return result\n"
   ]
  },
  {
   "cell_type": "code",
   "execution_count": 229,
   "id": "a44181af-2e6e-42c4-957d-4eb3ec713509",
   "metadata": {
    "scrolled": true
   },
   "outputs": [
    {
     "data": {
      "text/plain": [
       "['a', 'b', 's']"
      ]
     },
     "execution_count": 229,
     "metadata": {},
     "output_type": "execute_result"
    }
   ],
   "source": [
    "is_double('aaabasdfghbs')"
   ]
  },
  {
   "cell_type": "code",
   "execution_count": 230,
   "id": "3f919b73-95df-41b7-a8e1-321131c658b5",
   "metadata": {},
   "outputs": [
    {
     "data": {
      "text/plain": [
       "['l']"
      ]
     },
     "execution_count": 230,
     "metadata": {},
     "output_type": "execute_result"
    }
   ],
   "source": [
    "is_double('hello')"
   ]
  },
  {
   "cell_type": "code",
   "execution_count": null,
   "id": "2837eb9e-cfa5-4912-b32c-2dcd5bc8e4cd",
   "metadata": {},
   "outputs": [],
   "source": []
  }
 ],
 "metadata": {
  "kernelspec": {
   "display_name": "Python 3 (ipykernel)",
   "language": "python",
   "name": "python3"
  },
  "language_info": {
   "codemirror_mode": {
    "name": "ipython",
    "version": 3
   },
   "file_extension": ".py",
   "mimetype": "text/x-python",
   "name": "python",
   "nbconvert_exporter": "python",
   "pygments_lexer": "ipython3",
   "version": "3.10.10"
  }
 },
 "nbformat": 4,
 "nbformat_minor": 5
}
