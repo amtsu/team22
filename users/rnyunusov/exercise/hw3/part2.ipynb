{
 "cells": [
  {
   "cell_type": "markdown",
   "id": "727400fb-373b-4220-9596-835548829332",
   "metadata": {},
   "source": [
    "Вычислить результат следующих операций:\n",
    "10 * (5 + 3)\n",
    "(20 - 6) / 2\n",
    "2 ** 5 (возведение 2 в 5-ю степень)\n",
    "25 // 4 (целая часть от деления)\n",
    "25 % 4 (остаток от деления)"
   ]
  },
  {
   "cell_type": "code",
   "execution_count": 1,
   "id": "e5596ecd-f45c-4288-bc1b-17bacd295e3c",
   "metadata": {},
   "outputs": [
    {
     "data": {
      "text/plain": [
       "80"
      ]
     },
     "execution_count": 1,
     "metadata": {},
     "output_type": "execute_result"
    }
   ],
   "source": [
    "10 * (5 + 3)"
   ]
  },
  {
   "cell_type": "code",
   "execution_count": 2,
   "id": "88f1767e-2f37-478a-90c2-88b76359d1f0",
   "metadata": {},
   "outputs": [
    {
     "data": {
      "text/plain": [
       "7.0"
      ]
     },
     "execution_count": 2,
     "metadata": {},
     "output_type": "execute_result"
    }
   ],
   "source": [
    "(20 - 6) / 2"
   ]
  },
  {
   "cell_type": "code",
   "execution_count": 3,
   "id": "ff4b8954-8f98-4638-81bf-485041152fd5",
   "metadata": {},
   "outputs": [
    {
     "data": {
      "text/plain": [
       "32"
      ]
     },
     "execution_count": 3,
     "metadata": {},
     "output_type": "execute_result"
    }
   ],
   "source": [
    "2 ** 5"
   ]
  },
  {
   "cell_type": "code",
   "execution_count": 4,
   "id": "b32ffbf1-fcbd-4092-b09f-ca96856e0712",
   "metadata": {
    "scrolled": true
   },
   "outputs": [
    {
     "data": {
      "text/plain": [
       "6"
      ]
     },
     "execution_count": 4,
     "metadata": {},
     "output_type": "execute_result"
    }
   ],
   "source": [
    "25 // 4"
   ]
  },
  {
   "cell_type": "markdown",
   "id": "fda7040a-68f9-47c9-b9be-fd3e7f0edfa2",
   "metadata": {},
   "source": [
    "Дано дробное число:\n",
    "number = -3.14\n",
    "Выполнить следующие операции:\n",
    "Округлите число до целого.\n",
    "Возьмите остаток числа."
   ]
  },
  {
   "cell_type": "code",
   "execution_count": 5,
   "id": "0a717973-85aa-4a29-977f-3840335150c0",
   "metadata": {},
   "outputs": [
    {
     "data": {
      "text/plain": [
       "1"
      ]
     },
     "execution_count": 5,
     "metadata": {},
     "output_type": "execute_result"
    }
   ],
   "source": [
    "25 % 4"
   ]
  },
  {
   "cell_type": "code",
   "execution_count": 6,
   "id": "4a219769-6de0-412f-a26c-a71ec2e132b8",
   "metadata": {
    "scrolled": true
   },
   "outputs": [
    {
     "name": "stdout",
     "output_type": "stream",
     "text": [
      "-3\n",
      "0.8599999999999999\n"
     ]
    }
   ],
   "source": [
    "number = -3.14\n",
    "print(round(number))\n",
    "print(number % 1)"
   ]
  },
  {
   "cell_type": "markdown",
   "id": "a6ccfb86-08d1-468c-a336-6a2fcee87b68",
   "metadata": {},
   "source": [
    "Даны стороны прямоугольника: a = 5, b = 7.\n",
    "Вычислить площадь прямоугольника и вывести результат на экран."
   ]
  },
  {
   "cell_type": "code",
   "execution_count": 8,
   "id": "fe5eff41-f731-43f0-89e2-a523d65fa41e",
   "metadata": {
    "scrolled": true
   },
   "outputs": [
    {
     "name": "stdout",
     "output_type": "stream",
     "text": [
      "35\n"
     ]
    }
   ],
   "source": [
    "a = 5\n",
    "b = 7\n",
    "print(a * b)"
   ]
  },
  {
   "cell_type": "markdown",
   "id": "5f39675a-29f5-4020-b0c7-1f9426f987ff",
   "metadata": {},
   "source": [
    "На какой объем воздуха должен быть расчитан кондиционер, если с его помощью хотят охлаждать квартиру в которой размер гостинной 3.5 на 6.4 метра, спальни 3.4 на 4 метра и площадь не жилой части 11 метров. При том что высота потолков 3,1 метр."
   ]
  },
  {
   "cell_type": "code",
   "execution_count": 9,
   "id": "809d55e2-5545-49d7-b4d8-06f08ed9beed",
   "metadata": {},
   "outputs": [
    {
     "name": "stdout",
     "output_type": "stream",
     "text": [
      "145.70000000000002\n"
     ]
    }
   ],
   "source": [
    "print((3.5 * 6.4 + 3.4 * 4 + 11) * 3.1)"
   ]
  },
  {
   "cell_type": "markdown",
   "id": "a4e1de66-9700-4c9b-9094-f5da388cc150",
   "metadata": {},
   "source": [
    "Дано квадратное уравнение вида ax^2 + bx + c = 0.\n",
    "Найти его решения, используя формулу дискриминанта.\n",
    "a номер текущего месяца\n",
    "b номер вашей группы\n",
    "c минус десять (-10)"
   ]
  },
  {
   "cell_type": "code",
   "execution_count": 13,
   "id": "e4c14c58-f1ea-49c3-93f5-d402615fc1c1",
   "metadata": {},
   "outputs": [],
   "source": [
    "a = 2\n",
    "b = 1\n",
    "c = -10"
   ]
  },
  {
   "cell_type": "code",
   "execution_count": 14,
   "id": "7c72a248-e48e-42c9-a3ed-2b88aa00b02e",
   "metadata": {
    "scrolled": true
   },
   "outputs": [
    {
     "name": "stdout",
     "output_type": "stream",
     "text": [
      "81\n"
     ]
    }
   ],
   "source": [
    "d = b ** 2 - 4 * a * c\n",
    "print(d)"
   ]
  },
  {
   "cell_type": "code",
   "execution_count": 16,
   "id": "d08aafdc-2da8-4c5d-9875-8d95e5e7e4c5",
   "metadata": {},
   "outputs": [
    {
     "name": "stdout",
     "output_type": "stream",
     "text": [
      "x1 =  8.0 x2 =  -10.0\n"
     ]
    }
   ],
   "source": [
    "x1 = (-b + d ** 0.5)/ 2 * a\n",
    "x2 = (-b - d ** 0.5)/ 2 * a\n",
    "print(\"x1 = \", x1, \"x2 = \", x2)"
   ]
  },
  {
   "cell_type": "markdown",
   "id": "6a865e65-6f7b-47d9-96da-b29a70869947",
   "metadata": {},
   "source": [
    "Даны строки:\n",
    "string1 = \"hello, \"\n",
    "string2 = \"world!\"\n",
    "Объединить строки string1 и string2 и результат вывести на экран так чтобы первая буква в предложении стала заглавной.\n",
    "\n",
    "Сколько символов было в предыдущей строке?"
   ]
  },
  {
   "cell_type": "code",
   "execution_count": 20,
   "id": "c128853c-6f86-4c65-afe2-f74abacccf14",
   "metadata": {},
   "outputs": [],
   "source": [
    "string1 = \"hello, \"\n",
    "string2 = \"world!\"\n",
    "string = string1 + string2"
   ]
  },
  {
   "cell_type": "code",
   "execution_count": 21,
   "id": "3ba46e51-1377-4886-96f5-1d78d698dc7d",
   "metadata": {},
   "outputs": [
    {
     "name": "stdout",
     "output_type": "stream",
     "text": [
      "Hello, world!\n"
     ]
    }
   ],
   "source": [
    "print(string.capitalize())"
   ]
  },
  {
   "cell_type": "code",
   "execution_count": 22,
   "id": "2c40af5e-b8d3-4952-818e-747cf6b81e16",
   "metadata": {},
   "outputs": [
    {
     "data": {
      "text/plain": [
       "13"
      ]
     },
     "execution_count": 22,
     "metadata": {},
     "output_type": "execute_result"
    }
   ],
   "source": [
    "len(string)"
   ]
  },
  {
   "cell_type": "markdown",
   "id": "c9cddee9-858c-4394-936d-b931e8f8660b",
   "metadata": {},
   "source": [
    "Выведите на экран строку la 25 раз."
   ]
  },
  {
   "cell_type": "code",
   "execution_count": 1,
   "id": "9d912799-e8e3-40a1-8aa5-87cdc946deda",
   "metadata": {},
   "outputs": [
    {
     "name": "stdout",
     "output_type": "stream",
     "text": [
      "lalalalalalalalalalalalalalalalalalalalalalalalala\n"
     ]
    }
   ],
   "source": [
    "print(\"la\" * 25)"
   ]
  },
  {
   "cell_type": "markdown",
   "id": "74825526-4435-4573-b84e-0d7db314fb04",
   "metadata": {},
   "source": [
    "Дан список чисел:\n",
    "numbers = [1, 2, 3, 4, 5]\n",
    "Выполнить следующие операции:\n",
    "1. Измените число 2 на строку \"hi\" \n",
    "2. Выведите значение, находящееся на позиции 2.\n",
    "3. Изменить значение на позиции 4 на список из 3 элементов [8, 6, 4].\n",
    "Результаты вывести на экран."
   ]
  },
  {
   "cell_type": "code",
   "execution_count": 27,
   "id": "c2beb39e-1c20-48e2-adeb-de294b7fbb57",
   "metadata": {},
   "outputs": [],
   "source": [
    "numbers = [1, 2, 3, 4, 5]"
   ]
  },
  {
   "cell_type": "code",
   "execution_count": 28,
   "id": "8fd419c8-952e-48f3-bfee-6a82df2f349a",
   "metadata": {},
   "outputs": [],
   "source": [
    "numbers[1] = \"hi\""
   ]
  },
  {
   "cell_type": "code",
   "execution_count": 29,
   "id": "e66a64a3-5502-400e-aab7-53d985115f50",
   "metadata": {},
   "outputs": [
    {
     "name": "stdout",
     "output_type": "stream",
     "text": [
      "hi\n"
     ]
    }
   ],
   "source": [
    "print(numbers[1])"
   ]
  },
  {
   "cell_type": "code",
   "execution_count": 30,
   "id": "6835c6dd-84c4-4e21-9a51-7439aef8a972",
   "metadata": {},
   "outputs": [
    {
     "name": "stdout",
     "output_type": "stream",
     "text": [
      "[1, 'hi', 3, [8, 6, 4], 5]\n"
     ]
    }
   ],
   "source": [
    "numbers[3] = [8, 6, 4]\n",
    "print(numbers)"
   ]
  },
  {
   "cell_type": "markdown",
   "id": "c6b52e74-daa4-449f-841e-a6b64425e146",
   "metadata": {},
   "source": [
    "Дан список чисел:\n",
    "numbers = [1, 2, 3, 4, 5, 6, 7, 8, 9, 10]\n",
    "Извлеките подсписок с 3-го по 7-й элемент включительно."
   ]
  },
  {
   "cell_type": "code",
   "execution_count": 32,
   "id": "62389c4a-24ff-4853-a8f3-6d43a033bf0a",
   "metadata": {},
   "outputs": [
    {
     "name": "stdout",
     "output_type": "stream",
     "text": [
      "[3, 4, 5, 6, 7]\n"
     ]
    }
   ],
   "source": [
    "numbers = [1, 2, 3, 4, 5, 6, 7, 8, 9, 10]\n",
    "print(numbers[2:7])"
   ]
  }
 ],
 "metadata": {
  "kernelspec": {
   "display_name": "Python 3 (ipykernel)",
   "language": "python",
   "name": "python3"
  },
  "language_info": {
   "codemirror_mode": {
    "name": "ipython",
    "version": 3
   },
   "file_extension": ".py",
   "mimetype": "text/x-python",
   "name": "python",
   "nbconvert_exporter": "python",
   "pygments_lexer": "ipython3",
   "version": "3.10.10"
  }
 },
 "nbformat": 4,
 "nbformat_minor": 5
}
