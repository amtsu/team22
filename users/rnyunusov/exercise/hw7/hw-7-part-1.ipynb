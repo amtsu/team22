{
 "cells": [
  {
   "cell_type": "markdown",
   "id": "60d60ab7-f77e-4fb9-ac63-856dfc605f3b",
   "metadata": {},
   "source": [
    "<h1>Функции, циклы, условные операторы </h1>"
   ]
  },
  {
   "cell_type": "code",
   "execution_count": 11,
   "id": "cb8d36ff-e689-4699-af06-7d54bdc07969",
   "metadata": {},
   "outputs": [
    {
     "name": "stdout",
     "output_type": "stream",
     "text": [
      "1\n",
      "2\n",
      "3\n",
      "4\n",
      "5\n",
      "6\n",
      "7\n",
      "8\n",
      "9\n"
     ]
    }
   ],
   "source": [
    "matrix1 = [[1,4,7,],[2,5,8,],[3,6,9,]]\n",
    "\n",
    "for i in zip(*matrix1):\n",
    "    for k in i:\n",
    "        print(k)"
   ]
  },
  {
   "cell_type": "code",
   "execution_count": 14,
   "id": "27be4249-58a1-470b-9113-843386a9848b",
   "metadata": {},
   "outputs": [
    {
     "name": "stdout",
     "output_type": "stream",
     "text": [
      "1\n",
      "2\n",
      "3\n",
      "4\n",
      "5\n",
      "6\n",
      "7\n",
      "8\n",
      "9\n",
      "==============================\n",
      "1\n",
      "2\n",
      "3\n",
      "4\n",
      "5\n",
      "6\n",
      "7\n",
      "8\n",
      "9\n",
      "10\n",
      "11\n",
      "12\n",
      "==============================\n",
      "1\n",
      "2\n",
      "3\n",
      "4\n",
      "5\n",
      "6\n",
      "7\n",
      "8\n",
      "==============================\n",
      "1\n",
      "5\n",
      "9\n",
      "2\n",
      "6\n",
      "10\n",
      "==============================\n",
      "1\n",
      "2\n",
      "3\n",
      "==============================\n"
     ]
    }
   ],
   "source": [
    "'''\n",
    "Задание 1. Написать функцию для вывода двумерной матрицы по столбцам, \n",
    "не используя индексацию (с помощью [] или любым другим способом получения\n",
    "элемента по заданному индексу).\n",
    "Функция должна принимать на вход список и ничего не возвращать\n",
    "'''\n",
    "def print_matrix(matrix):\n",
    "    '''\n",
    "    это функция, печатающая двумерный список matrix по столбцам\n",
    "    '''\n",
    "    new_matrix = []\n",
    "    for i in zip(*matrix):\n",
    "        for k in i:\n",
    "            print(k)\n",
    "            \n",
    "\n",
    "#проверка        \n",
    "matrix1 = [[1,4,7,],[2,5,8,],[3,6,9,]]\n",
    "matrix2 = [[1,4,7,10],[2,5,8,11],[3,6,9,12]]\n",
    "matrix3 = [[1,3,5,7],[2,4,6,8],]\n",
    "matrix4 = [[1,2,],[5,6,],[9,10,]]\n",
    "matrix5 = [[1,2,3],]\n",
    "matrix6 = []\n",
    "\n",
    "print_matrix(matrix1)\n",
    "print(\"=\"*30)\n",
    "print_matrix(matrix2)\n",
    "print(\"=\"*30)\n",
    "print_matrix(matrix3)\n",
    "print(\"=\"*30)\n",
    "print_matrix(matrix4)\n",
    "print(\"=\"*30)\n",
    "print_matrix(matrix5)\n",
    "print(\"=\"*30)\n",
    "print_matrix(matrix6)"
   ]
  },
  {
   "cell_type": "code",
   "execution_count": 10,
   "id": "23c2433c-bfdc-468f-9748-029e7f0aa858",
   "metadata": {},
   "outputs": [
    {
     "name": "stdout",
     "output_type": "stream",
     "text": [
      "[1, 4, 7] [2, 5, 8] [3, 6, 9]\n",
      "(1, 2, 3)\n",
      "(4, 5, 6)\n",
      "(7, 8, 9)\n"
     ]
    }
   ],
   "source": [
    "matrix1 = [[1,4,7,],[2,5,8,],[3,6,9,]]\n",
    "print(*matrix1)\n",
    "for i in zip(*matrix1):\n",
    "    print(i)\n"
   ]
  },
  {
   "cell_type": "code",
   "execution_count": 91,
   "id": "f90963ba-c3e6-406c-9ec5-d9b71d933ff1",
   "metadata": {},
   "outputs": [
    {
     "name": "stdout",
     "output_type": "stream",
     "text": [
      "Вызвана функция ten_times\n",
      "Вызвана функция ten_times\n",
      "Вызвана функция ten_times\n",
      "Вызвана функция ten_times\n",
      "Вызвана функция ten_times\n",
      "Вызвана функция ten_times\n",
      "Вызвана функция ten_times\n",
      "Вызвана функция ten_times\n",
      "Вызвана функция ten_times\n",
      "Вызвана функция ten_times\n"
     ]
    }
   ],
   "source": [
    "'''\n",
    "Задание 2. Напишите функцию, вызывающую саму себя 10 раз;\n",
    "функция должна вызываться как ten_times() и ничего не возвращать;\n",
    "'''\n",
    "def ten_times(i = 1):\n",
    "    print('Вызвана функция ten_times')\n",
    "    i += 1\n",
    "    if i <= 10:\n",
    "        ten_times(i)\n",
    "    \n",
    "\n",
    "#проверка\n",
    "\n",
    "k = 0\n",
    "ten_times()\n",
    "\n",
    "\n",
    "#k = 1\n",
    "#'k' in locals()"
   ]
  },
  {
   "cell_type": "code",
   "execution_count": 24,
   "id": "089d447c-53b6-4bfc-b7d2-1687c754be59",
   "metadata": {},
   "outputs": [
    {
     "name": "stdout",
     "output_type": "stream",
     "text": [
      "Всё_ГЛАЗЕЛ_на_НИХ\n",
      "Сакуры_ЦВЕТЫ,_пока\n",
      "Шею_НЕ_свело\n"
     ]
    }
   ],
   "source": [
    "a_haiku = [\"Всё глазел на них\",\n",
    "\"Сакуры цветы, пока\",\n",
    "\"Шею не свело\"]\n",
    "for line in a_haiku:\n",
    "    print(''.join([s.upper() if k % 2 == 1 else s for k, s in enumerate(line.split(' '))]))\n",
    "\n",
    "\n"
   ]
  },
  {
   "cell_type": "code",
   "execution_count": 92,
   "id": "b5bc6f9c-b98b-44d6-87e2-8b2c1d68893d",
   "metadata": {},
   "outputs": [
    {
     "name": "stdout",
     "output_type": "stream",
     "text": [
      "\u001b[31mВ АЛАИ\u001b[0m\n",
      "\u001b[31mСУ Е,О\u001b[0m\n",
      "\u001b[31mШ  Е\u001b[0m\n",
      "\u001b[31mВ\u001b[0m \u001b[32mАЛАИ\u001b[0m\n",
      "\u001b[31mСУ\u001b[0m \u001b[32mЕ,О\u001b[0m\n",
      "\u001b[31mШ\u001b[0m \u001b[32m\u001b[0m \u001b[33mЕ\u001b[0m\n",
      "\u001b[31mВСЁ\u001b[0m \u001b[32mГЛАЗЕЛ\u001b[0m \u001b[33mНА\u001b[0m \u001b[34mНИХ\u001b[0m\n",
      "\u001b[31mСАКУРЫ\u001b[0m \u001b[32mЦВЕТЫ,\u001b[0m \u001b[33mПОКА\u001b[0m\n",
      "\u001b[31mШЕЮ\u001b[0m \u001b[32mНЕ\u001b[0m \u001b[33mСВЕЛО\u001b[0m\n",
      "ВСЁ \u001b[1mГЛАЗЕЛ\u001b[0m НА НИХ\n",
      "САКУРЫ \u001b[1mЦВЕТЫ,\u001b[0m ПОКА\n",
      "ШЕЮ \u001b[1mНЕ\u001b[0m СВЕЛО\n",
      "\u001b[34mвсё глазел на них\u001b[0m\n",
      "\u001b[34mсакуры цветы, пока\u001b[0m\n",
      "\u001b[34mшею не свело\u001b[0m\n"
     ]
    },
    {
     "data": {
      "text/plain": [
       "'\\nМодифицируйте функцию print_haiku таким образом, чтобы можно было \\nвыполнять произвольное преобразование над выводом строк.\\nПосторайтесь сильно не менять код print_haiku()\\nВыведите с помощью модифицированной функции print_haiku все строки хайку :\\n - заглавными буквами\\n - только каждый третий символ строк\\n - красным цветом (https://habr.com/ru/sandbox/158854/, первый раздел)\\n'"
      ]
     },
     "execution_count": 92,
     "metadata": {},
     "output_type": "execute_result"
    }
   ],
   "source": [
    "'''\n",
    "Задание 3.\n",
    "'''\n",
    "# дан отрывок кода\n",
    "a_haiku = [\"Всё глазел на них\",\n",
    "\"Сакуры цветы, пока\",\n",
    "\"Шею не свело\"]\n",
    "\n",
    "def print_haiku(haiku, *args):\n",
    "    for line in haiku:\n",
    "        for func in args:\n",
    "            line = func(line)\n",
    "        print(line)\n",
    "\n",
    "def upperFunc(line):\n",
    "    return line.upper()\n",
    "\n",
    "def every3rdLetter(line):\n",
    "    return line[::3]\n",
    "\n",
    "def redColor(line):\n",
    "    return \"\\033[31m{}\\033[0m\".format(line)\n",
    "\n",
    "def diffColor(line):\n",
    "    return ' '.join([\"\\033[\" + str(31 + k) + \"m{}\\033[0m\".format(v) for k, v in enumerate(line.split(' '))])\n",
    "\n",
    "def boldFont(line):\n",
    "    return ' '.join([\"\\033[1m{}\\033[0m\".format(v) if k == 1 else v for k, v in enumerate(line.split(' '))])\n",
    "\n",
    "def lowBlue(line):\n",
    "    return \"\\033[34m{}\\033[0m\".format(line.lower())\n",
    "\n",
    "print_haiku(a_haiku, upperFunc, every3rdLetter, redColor)\n",
    "print_haiku(a_haiku, upperFunc, every3rdLetter, diffColor)\n",
    "print_haiku(a_haiku, upperFunc, diffColor)\n",
    "print_haiku(a_haiku, upperFunc, boldFont)\n",
    "print_haiku(a_haiku, lowBlue)\n",
    "\n",
    "\n",
    "\n",
    "#to_upper = 0, third_letter = 0, red = 0, poly_color = 0, bold_font = 0, lower_blue = 0):\n",
    "\n",
    "\"\"\"\n",
    "        if to_upper:\n",
    "            line = line.upper()\n",
    "        if third_letter:\n",
    "            line = line[::3]\n",
    "        if red:\n",
    "            line = \n",
    "        if poly_color:\n",
    "            line = ' '.join([\"\\033[\" + str(31 + k) + \"m{}\\033[0m\".format(v) for k, v in enumerate(line.split(' '))])\n",
    "        if bold_font:\n",
    "            line = ' '.join([\"\\033[1m{}\\033[0m\".format(v) if k == 1 else v for k, v in enumerate(line.split(' '))])\n",
    "        if lower_blue:\n",
    "            line = \"\\033[34m{}\\033[0m\".format(line.lower())\n",
    "        print(line)\n",
    "\"\"\"      \n",
    "\n",
    "\n",
    "\n",
    "'''\n",
    "Модифицируйте функцию print_haiku таким образом, чтобы можно было \n",
    "выполнять произвольное преобразование над выводом строк.\n",
    "Посторайтесь сильно не менять код print_haiku()\n",
    "Выведите с помощью модифицированной функции print_haiku все строки хайку :\n",
    " - заглавными буквами\n",
    " - только каждый третий символ строк\n",
    " - красным цветом (https://habr.com/ru/sandbox/158854/, первый раздел)\n",
    "'''\n",
    "\n"
   ]
  },
  {
   "cell_type": "code",
   "execution_count": 95,
   "id": "2942ff5e-80a1-4245-aad6-3aca355745ad",
   "metadata": {},
   "outputs": [
    {
     "name": "stdout",
     "output_type": "stream",
     "text": [
      "Возможные действия:\n",
      "1 - вывод хайку заглавными буквами\n",
      "2 - вывод только третьих символов каждой строки хайку\n",
      "3 - вывод хайку красным цветом\n",
      "4 - вывод хайку цветным\n",
      "5 - вывод хайку второе слово в строке жирным\n",
      "6 - вывод хайку синим и в нижнем регистре\n",
      "Введите номер действия или q для выхода\n",
      "    \n"
     ]
    },
    {
     "name": "stdin",
     "output_type": "stream",
     "text": [
      " 1\n"
     ]
    },
    {
     "name": "stdout",
     "output_type": "stream",
     "text": [
      "ВСЁ ГЛАЗЕЛ НА НИХ\n",
      "САКУРЫ ЦВЕТЫ, ПОКА\n",
      "ШЕЮ НЕ СВЕЛО\n"
     ]
    },
    {
     "name": "stdin",
     "output_type": "stream",
     "text": [
      " 2\n"
     ]
    },
    {
     "name": "stdout",
     "output_type": "stream",
     "text": [
      "В алаи\n",
      "Су е,о\n",
      "Ш  е\n"
     ]
    },
    {
     "name": "stdin",
     "output_type": "stream",
     "text": [
      " 3\n"
     ]
    },
    {
     "name": "stdout",
     "output_type": "stream",
     "text": [
      "\u001b[31mВсё глазел на них\u001b[0m\n",
      "\u001b[31mСакуры цветы, пока\u001b[0m\n",
      "\u001b[31mШею не свело\u001b[0m\n"
     ]
    },
    {
     "name": "stdin",
     "output_type": "stream",
     "text": [
      " 4\n"
     ]
    },
    {
     "name": "stdout",
     "output_type": "stream",
     "text": [
      "\u001b[31mВсё\u001b[0m \u001b[32mглазел\u001b[0m \u001b[33mна\u001b[0m \u001b[34mних\u001b[0m\n",
      "\u001b[31mСакуры\u001b[0m \u001b[32mцветы,\u001b[0m \u001b[33mпока\u001b[0m\n",
      "\u001b[31mШею\u001b[0m \u001b[32mне\u001b[0m \u001b[33mсвело\u001b[0m\n"
     ]
    },
    {
     "name": "stdin",
     "output_type": "stream",
     "text": [
      " 5\n"
     ]
    },
    {
     "name": "stdout",
     "output_type": "stream",
     "text": [
      "Всё \u001b[1mглазел\u001b[0m на них\n",
      "Сакуры \u001b[1mцветы,\u001b[0m пока\n",
      "Шею \u001b[1mне\u001b[0m свело\n"
     ]
    },
    {
     "name": "stdin",
     "output_type": "stream",
     "text": [
      " 6\n"
     ]
    },
    {
     "name": "stdout",
     "output_type": "stream",
     "text": [
      "\u001b[34mвсё глазел на них\u001b[0m\n",
      "\u001b[34mсакуры цветы, пока\u001b[0m\n",
      "\u001b[34mшею не свело\u001b[0m\n"
     ]
    },
    {
     "name": "stdin",
     "output_type": "stream",
     "text": [
      " 7\n"
     ]
    },
    {
     "name": "stdout",
     "output_type": "stream",
     "text": [
      "Неопознанная команда\n"
     ]
    },
    {
     "name": "stdin",
     "output_type": "stream",
     "text": [
      " q\n"
     ]
    },
    {
     "name": "stdout",
     "output_type": "stream",
     "text": [
      "Выход из интерфейса\n"
     ]
    }
   ],
   "source": [
    "'''\n",
    "Задание 4. Напишите простой пользовательский интерфейс к заданию 3.\n",
    "Пользователю должно выдаваться сообщение о возможностях вывода (меню), и приглашение на ввод\n",
    "идентификатора действия или символа `q` для выхода, например:\n",
    "\n",
    "Возможные действия:\n",
    "1 - вывод хайку заглавными буквами\n",
    "2 - вывод только третьих символов каждой строки хайку\n",
    "3 - вывод хайку красным цветом\n",
    "Введите номер действия или q для выхода: \n",
    "\n",
    "После ввода идентификатора действия, необходимо выполнить соответствующее действие \n",
    "и снова вывести меню с запросом на ввод. в случае некорректного идентификатора действия \n",
    "вывести соответствующее сообщение и снова вывести меню. После ввода q завершить работу с\n",
    "простым пользовательским интрефейсом\n",
    "\n",
    "'''\n",
    "\n",
    "def userInterface():\n",
    "    print(\"\"\"Возможные действия:\n",
    "1 - вывод хайку заглавными буквами\n",
    "2 - вывод только третьих символов каждой строки хайку\n",
    "3 - вывод хайку красным цветом\n",
    "4 - вывод хайку цветным\n",
    "5 - вывод хайку второе слово в строке жирным\n",
    "6 - вывод хайку синим и в нижнем регистре\n",
    "Введите номер действия или q для выхода\n",
    "    \"\"\")\n",
    "    cmd = ''    \n",
    "    while cmd != 'q':\n",
    "        cmd = input()\n",
    "        if cmd == '1':\n",
    "            print_haiku(a_haiku, upperFunc)\n",
    "        elif cmd == '2':\n",
    "            print_haiku(a_haiku, every3rdLetter)\n",
    "        elif cmd == '3':\n",
    "            print_haiku(a_haiku, redColor)\n",
    "        elif cmd == '4':\n",
    "            print_haiku(a_haiku, diffColor)\n",
    "        elif cmd == '5':\n",
    "            print_haiku(a_haiku, boldFont)\n",
    "        elif cmd == '6':\n",
    "            print_haiku(a_haiku, lowBlue)\n",
    "        elif cmd == 'q':\n",
    "            print('Выход из интерфейса')\n",
    "        else:\n",
    "            print('Неопознанная команда')\n",
    "\n",
    "userInterface()"
   ]
  },
  {
   "cell_type": "code",
   "execution_count": 96,
   "id": "1de803b6-b90d-4710-bc57-71d0960bbeee",
   "metadata": {},
   "outputs": [
    {
     "data": {
      "text/plain": [
       "'\\nЗадание 5.\\nДополните функционал задания 3 одним из следующих способов вывода хайку:\\n- каждое слово в строке различным цветом,\\n- в каждой строке второе слово жирным шрифтом,\\n- маленькими буквами синим цветом,\\nпри этом текст функции print_haiku() меняться не должен. Если такая доработка потребует\\nего изменения, пересмотрите дизайн функции print_haiku(), чтобы расширение функионала вывода\\nне требовало изменения print_haiku()\\nДобавьте в интерфейс, созданный в задании 4 созданный новый способ вывода. Оцените объем и \\nудобство модификации, при необходимости пересмотрите дизайн кода интерфейса для упрощения его \\nизменекния.\\n\\n'"
      ]
     },
     "execution_count": 96,
     "metadata": {},
     "output_type": "execute_result"
    }
   ],
   "source": [
    "'''\n",
    "Задание 5.\n",
    "Дополните функционал задания 3 одним из следующих способов вывода хайку:\n",
    "- каждое слово в строке различным цветом,\n",
    "- в каждой строке второе слово жирным шрифтом,\n",
    "- маленькими буквами синим цветом,\n",
    "при этом текст функции print_haiku() меняться не должен. Если такая доработка потребует\n",
    "его изменения, пересмотрите дизайн функции print_haiku(), чтобы расширение функионала вывода\n",
    "не требовало изменения print_haiku()\n",
    "Добавьте в интерфейс, созданный в задании 4 созданный новый способ вывода. Оцените объем и \n",
    "удобство модификации, при необходимости пересмотрите дизайн кода интерфейса для упрощения его \n",
    "изменекния.\n",
    "\n",
    "'''"
   ]
  }
 ],
 "metadata": {
  "kernelspec": {
   "display_name": "Python 3 (ipykernel)",
   "language": "python",
   "name": "python3"
  },
  "language_info": {
   "codemirror_mode": {
    "name": "ipython",
    "version": 3
   },
   "file_extension": ".py",
   "mimetype": "text/x-python",
   "name": "python",
   "nbconvert_exporter": "python",
   "pygments_lexer": "ipython3",
   "version": "3.10.10"
  }
 },
 "nbformat": 4,
 "nbformat_minor": 5
}
