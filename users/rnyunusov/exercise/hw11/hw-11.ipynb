{
 "cells": [
  {
   "cell_type": "markdown",
   "id": "2faf0f6e-3484-4d19-ad26-0b4c1f6c0567",
   "metadata": {},
   "source": [
    "# Немного интересных и полезных функций Python"
   ]
  },
  {
   "cell_type": "markdown",
   "id": "7f5bf2a8-d891-4038-980f-573c0d6035e9",
   "metadata": {},
   "source": [
    "## 1. Кодировка Unicode"
   ]
  },
  {
   "cell_type": "code",
   "execution_count": 1,
   "id": "60d4c838-0073-4777-a65c-7af8257b9445",
   "metadata": {},
   "outputs": [
    {
     "data": {
      "text/plain": [
       "97"
      ]
     },
     "execution_count": 1,
     "metadata": {},
     "output_type": "execute_result"
    }
   ],
   "source": [
    "ord('a')"
   ]
  },
  {
   "cell_type": "code",
   "execution_count": 2,
   "id": "006572a7-0748-412c-b873-fbf882761521",
   "metadata": {},
   "outputs": [
    {
     "data": {
      "text/plain": [
       "'a'"
      ]
     },
     "execution_count": 2,
     "metadata": {},
     "output_type": "execute_result"
    }
   ],
   "source": [
    "#Возвращает символ Unicode, соответствующий этому числу\n",
    "chr(97)"
   ]
  },
  {
   "cell_type": "markdown",
   "id": "00b66d9c-33a7-4aa0-bd04-0fc11d8442b8",
   "metadata": {},
   "source": [
    "1. Вывести английский алфавит в строку (подсказка - в английском алфавите 26 букв)"
   ]
  },
  {
   "cell_type": "code",
   "execution_count": 41,
   "id": "6561ce86-bc83-4b30-a782-61e80ee93451",
   "metadata": {},
   "outputs": [
    {
     "name": "stdout",
     "output_type": "stream",
     "text": [
      "abcdefghijklmnopqrstuvwxyz\n"
     ]
    }
   ],
   "source": [
    "alphabet = ''\n",
    "for i in range(26):\n",
    "    alphabet += chr(97 + i)\n",
    "print(alphabet)"
   ]
  },
  {
   "cell_type": "markdown",
   "id": "1a650e81-9ded-45f6-8c48-b417714ceac0",
   "metadata": {},
   "source": [
    "2. Cгенерировать все возможные комбинации строчных букв английского алфавита длиной два символа. Выведите сочетания для каждой буквы на 1 месте на отдельной строке."
   ]
  },
  {
   "cell_type": "code",
   "execution_count": 6,
   "id": "80864598-91d3-4467-a1c4-dd284c63cb2a",
   "metadata": {},
   "outputs": [
    {
     "name": "stdout",
     "output_type": "stream",
     "text": [
      "aa ab ac ad ae af ag ah ai aj ak al am an ao ap aq ar as at au av aw ax ay az\n",
      "ba bb bc bd be bf bg bh bi bj bk bl bm bn bo bp bq br bs bt bu bv bw bx by bz\n",
      "ca cb cc cd ce cf cg ch ci cj ck cl cm cn co cp cq cr cs ct cu cv cw cx cy cz\n",
      "da db dc dd de df dg dh di dj dk dl dm dn do dp dq dr ds dt du dv dw dx dy dz\n",
      "ea eb ec ed ee ef eg eh ei ej ek el em en eo ep eq er es et eu ev ew ex ey ez\n",
      "fa fb fc fd fe ff fg fh fi fj fk fl fm fn fo fp fq fr fs ft fu fv fw fx fy fz\n",
      "ga gb gc gd ge gf gg gh gi gj gk gl gm gn go gp gq gr gs gt gu gv gw gx gy gz\n",
      "ha hb hc hd he hf hg hh hi hj hk hl hm hn ho hp hq hr hs ht hu hv hw hx hy hz\n",
      "ia ib ic id ie if ig ih ii ij ik il im in io ip iq ir is it iu iv iw ix iy iz\n",
      "ja jb jc jd je jf jg jh ji jj jk jl jm jn jo jp jq jr js jt ju jv jw jx jy jz\n",
      "ka kb kc kd ke kf kg kh ki kj kk kl km kn ko kp kq kr ks kt ku kv kw kx ky kz\n",
      "la lb lc ld le lf lg lh li lj lk ll lm ln lo lp lq lr ls lt lu lv lw lx ly lz\n",
      "ma mb mc md me mf mg mh mi mj mk ml mm mn mo mp mq mr ms mt mu mv mw mx my mz\n",
      "na nb nc nd ne nf ng nh ni nj nk nl nm nn no np nq nr ns nt nu nv nw nx ny nz\n",
      "oa ob oc od oe of og oh oi oj ok ol om on oo op oq or os ot ou ov ow ox oy oz\n",
      "pa pb pc pd pe pf pg ph pi pj pk pl pm pn po pp pq pr ps pt pu pv pw px py pz\n",
      "qa qb qc qd qe qf qg qh qi qj qk ql qm qn qo qp qq qr qs qt qu qv qw qx qy qz\n",
      "ra rb rc rd re rf rg rh ri rj rk rl rm rn ro rp rq rr rs rt ru rv rw rx ry rz\n",
      "sa sb sc sd se sf sg sh si sj sk sl sm sn so sp sq sr ss st su sv sw sx sy sz\n",
      "ta tb tc td te tf tg th ti tj tk tl tm tn to tp tq tr ts tt tu tv tw tx ty tz\n",
      "ua ub uc ud ue uf ug uh ui uj uk ul um un uo up uq ur us ut uu uv uw ux uy uz\n",
      "va vb vc vd ve vf vg vh vi vj vk vl vm vn vo vp vq vr vs vt vu vv vw vx vy vz\n",
      "wa wb wc wd we wf wg wh wi wj wk wl wm wn wo wp wq wr ws wt wu wv ww wx wy wz\n",
      "xa xb xc xd xe xf xg xh xi xj xk xl xm xn xo xp xq xr xs xt xu xv xw xx xy xz\n",
      "ya yb yc yd ye yf yg yh yi yj yk yl ym yn yo yp yq yr ys yt yu yv yw yx yy yz\n",
      "za zb zc zd ze zf zg zh zi zj zk zl zm zn zo zp zq zr zs zt zu zv zw zx zy zz\n"
     ]
    }
   ],
   "source": [
    "for i in range(26):\n",
    "    stroka = ''\n",
    "    for j in range(26):\n",
    "        str_tmp = chr(97 + i) + chr(97 + j)\n",
    "        stroka += str_tmp + ' '\n",
    "    print(stroka.strip())\n"
   ]
  },
  {
   "cell_type": "markdown",
   "id": "7992c147-613b-41cb-9ce7-8dacb0891c0a",
   "metadata": {},
   "source": [
    "3. Cгенерировать последовательно двухбуквенные строки по алфавиту до строки «mf»."
   ]
  },
  {
   "cell_type": "code",
   "execution_count": 39,
   "id": "10d6174f-a071-4bb2-928a-d7be37ecd5fe",
   "metadata": {},
   "outputs": [
    {
     "name": "stdout",
     "output_type": "stream",
     "text": [
      "aa ab ac ad ae af ag ah ai aj ak al am an ao ap aq ar as at au av aw ax ay az\n",
      "ba bb bc bd be bf bg bh bi bj bk bl bm bn bo bp bq br bs bt bu bv bw bx by bz\n",
      "ca cb cc cd ce cf cg ch ci cj ck cl cm cn co cp cq cr cs ct cu cv cw cx cy cz\n",
      "da db dc dd de df dg dh di dj dk dl dm dn do dp dq dr ds dt du dv dw dx dy dz\n",
      "ea eb ec ed ee ef eg eh ei ej ek el em en eo ep eq er es et eu ev ew ex ey ez\n",
      "fa fb fc fd fe ff fg fh fi fj fk fl fm fn fo fp fq fr fs ft fu fv fw fx fy fz\n",
      "ga gb gc gd ge gf gg gh gi gj gk gl gm gn go gp gq gr gs gt gu gv gw gx gy gz\n",
      "ha hb hc hd he hf hg hh hi hj hk hl hm hn ho hp hq hr hs ht hu hv hw hx hy hz\n",
      "ia ib ic id ie if ig ih ii ij ik il im in io ip iq ir is it iu iv iw ix iy iz\n",
      "ja jb jc jd je jf jg jh ji jj jk jl jm jn jo jp jq jr js jt ju jv jw jx jy jz\n",
      "ka kb kc kd ke kf kg kh ki kj kk kl km kn ko kp kq kr ks kt ku kv kw kx ky kz\n",
      "la lb lc ld le lf lg lh li lj lk ll lm ln lo lp lq lr ls lt lu lv lw lx ly lz\n",
      "ma mb mc md me mf\n"
     ]
    }
   ],
   "source": [
    "for i in range(26):\n",
    "    stroka = ''\n",
    "    j = 0\n",
    "    if str_tmp == \"mf\":\n",
    "        break\n",
    "    while j < 26:\n",
    "        str_tmp = chr(97 + i) + chr(97 + j)\n",
    "        stroka += str_tmp + ' '\n",
    "        if str_tmp == \"mf\":\n",
    "            break\n",
    "        j += 1\n",
    "    print(stroka.strip())"
   ]
  },
  {
   "cell_type": "markdown",
   "id": "de5695b1-5b0d-477f-b87a-eb13ec3cf55d",
   "metadata": {},
   "source": [
    "4. Cгенерировать все возможные комбинации строчных букв английского алфавита длиной два символа, но не выводить комбинации с одинаковыми буквами («aa», «bb» и т. д.):"
   ]
  },
  {
   "cell_type": "code",
   "execution_count": 40,
   "id": "456aa32e-89b7-42a3-b2e7-01fc1e5f8a59",
   "metadata": {},
   "outputs": [
    {
     "name": "stdout",
     "output_type": "stream",
     "text": [
      "ab ac ad ae af ag ah ai aj ak al am an ao ap aq ar as at au av aw ax ay az\n",
      "ba bc bd be bf bg bh bi bj bk bl bm bn bo bp bq br bs bt bu bv bw bx by bz\n",
      "ca cb cd ce cf cg ch ci cj ck cl cm cn co cp cq cr cs ct cu cv cw cx cy cz\n",
      "da db dc de df dg dh di dj dk dl dm dn do dp dq dr ds dt du dv dw dx dy dz\n",
      "ea eb ec ed ef eg eh ei ej ek el em en eo ep eq er es et eu ev ew ex ey ez\n",
      "fa fb fc fd fe fg fh fi fj fk fl fm fn fo fp fq fr fs ft fu fv fw fx fy fz\n",
      "ga gb gc gd ge gf gh gi gj gk gl gm gn go gp gq gr gs gt gu gv gw gx gy gz\n",
      "ha hb hc hd he hf hg hi hj hk hl hm hn ho hp hq hr hs ht hu hv hw hx hy hz\n",
      "ia ib ic id ie if ig ih ij ik il im in io ip iq ir is it iu iv iw ix iy iz\n",
      "ja jb jc jd je jf jg jh ji jk jl jm jn jo jp jq jr js jt ju jv jw jx jy jz\n",
      "ka kb kc kd ke kf kg kh ki kj kl km kn ko kp kq kr ks kt ku kv kw kx ky kz\n",
      "la lb lc ld le lf lg lh li lj lk lm ln lo lp lq lr ls lt lu lv lw lx ly lz\n",
      "ma mb mc md me mf mg mh mi mj mk ml mn mo mp mq mr ms mt mu mv mw mx my mz\n",
      "na nb nc nd ne nf ng nh ni nj nk nl nm no np nq nr ns nt nu nv nw nx ny nz\n",
      "oa ob oc od oe of og oh oi oj ok ol om on op oq or os ot ou ov ow ox oy oz\n",
      "pa pb pc pd pe pf pg ph pi pj pk pl pm pn po pq pr ps pt pu pv pw px py pz\n",
      "qa qb qc qd qe qf qg qh qi qj qk ql qm qn qo qp qr qs qt qu qv qw qx qy qz\n",
      "ra rb rc rd re rf rg rh ri rj rk rl rm rn ro rp rq rs rt ru rv rw rx ry rz\n",
      "sa sb sc sd se sf sg sh si sj sk sl sm sn so sp sq sr st su sv sw sx sy sz\n",
      "ta tb tc td te tf tg th ti tj tk tl tm tn to tp tq tr ts tu tv tw tx ty tz\n",
      "ua ub uc ud ue uf ug uh ui uj uk ul um un uo up uq ur us ut uv uw ux uy uz\n",
      "va vb vc vd ve vf vg vh vi vj vk vl vm vn vo vp vq vr vs vt vu vw vx vy vz\n",
      "wa wb wc wd we wf wg wh wi wj wk wl wm wn wo wp wq wr ws wt wu wv wx wy wz\n",
      "xa xb xc xd xe xf xg xh xi xj xk xl xm xn xo xp xq xr xs xt xu xv xw xy xz\n",
      "ya yb yc yd ye yf yg yh yi yj yk yl ym yn yo yp yq yr ys yt yu yv yw yx yz\n",
      "za zb zc zd ze zf zg zh zi zj zk zl zm zn zo zp zq zr zs zt zu zv zw zx zy\n"
     ]
    }
   ],
   "source": [
    "for i in range(26):\n",
    "    stroka = ''\n",
    "    for j in range(26):\n",
    "        str_tmp = chr(97 + i) + chr(97 + j)\n",
    "        if i != j:\n",
    "            stroka += str_tmp + ' '\n",
    "    print(stroka.strip())\n"
   ]
  },
  {
   "cell_type": "markdown",
   "id": "2ce7d44f-80ae-4340-b029-c4787009ec89",
   "metadata": {},
   "source": [
    "5. Напишите две функции: caesar_crypt(key) одна будет шифровать введенный ей через input() текст шифром Цезаря. Другая расшифровывать caesar_decrypt(key). Аргумент функций - цифра сдвига для кодировки."
   ]
  },
  {
   "cell_type": "markdown",
   "id": "bbb6cac8-def7-4fce-9fde-f91f46f6e333",
   "metadata": {},
   "source": [
    "Шифр Цeзаря (шифр сдвига, код Цезаря) – такой простой вид шифрования текста, при котором все символы в тексте заменяются символами, сдвинутыми по алфавиту на правее или левее на постоянное количество позиций. Например, при сдвиге на 1 буква А заменяется на Б, Б на В и т.д"
   ]
  },
  {
   "cell_type": "code",
   "execution_count": 45,
   "id": "74280880-c4c1-4e58-890d-340de8d908c1",
   "metadata": {},
   "outputs": [
    {
     "name": "stdin",
     "output_type": "stream",
     "text": [
      " Hello\n"
     ]
    },
    {
     "name": "stdout",
     "output_type": "stream",
     "text": [
      "Ifmmp\n"
     ]
    },
    {
     "name": "stdin",
     "output_type": "stream",
     "text": [
      " Ifmmp\n"
     ]
    },
    {
     "name": "stdout",
     "output_type": "stream",
     "text": [
      "Hello\n"
     ]
    }
   ],
   "source": [
    "def caesar_crypt(key):\n",
    "    input_text = input()\n",
    "    output_text = ''\n",
    "    for s in list(input_text):\n",
    "        code = ord(s) + key\n",
    "        output_text += chr(code)\n",
    "    print(output_text)\n",
    "\n",
    "def caesar_decrypt(key):\n",
    "    input_text = input()\n",
    "    output_text = ''\n",
    "    for s in list(input_text):\n",
    "        code = ord(s) - key\n",
    "        output_text += chr(code)\n",
    "    print(output_text)\n",
    "\n",
    "caesar_crypt(1)\n",
    "caesar_decrypt(1)"
   ]
  },
  {
   "cell_type": "markdown",
   "id": "7aba5087-9cbc-4417-bbf9-0369b32e8319",
   "metadata": {},
   "source": [
    "## 2. f-string"
   ]
  },
  {
   "cell_type": "markdown",
   "id": "e22f2001-67d5-414b-9dda-2e1c953d56ca",
   "metadata": {},
   "source": [
    "Чтобы задать **f-строку**, необходимо поставить букву f перед открывающей кавычкой строки. Далее f-строка записывается как единое целое, с учётом правил её форматирования, и закрывается соответствующей кавычкой"
   ]
  },
  {
   "cell_type": "markdown",
   "id": "21b17421-e247-4363-b756-50a8dbe80a6b",
   "metadata": {},
   "source": [
    "Немного теории можно прочитать на нашей wiki  -  https://github.com/amtsu/team22/wiki/Python:-Вывод-данных-в-консоль"
   ]
  },
  {
   "cell_type": "code",
   "execution_count": 17,
   "id": "591ffa62-d49e-4124-a485-6f031b1b7ab4",
   "metadata": {},
   "outputs": [
    {
     "name": "stdout",
     "output_type": "stream",
     "text": [
      "Добрый день, Пользователь.\n"
     ]
    }
   ],
   "source": [
    "#пример\n",
    "name = \"Пользователь\"\n",
    "print(f\"Добрый день, {name}.\")"
   ]
  },
  {
   "cell_type": "raw",
   "id": "84d5fed6-a2f1-48d6-936e-2db1ab59db68",
   "metadata": {},
   "source": [
    "1. Напечать чек с помощью f-строки. Ввод можно сделать через input или кортеж\n",
    "Ввод:\n",
    "название товара;\n",
    "цена товара;\n",
    "вес товара;\n",
    "количество денег у пользователя.\n",
    "\n",
    "Вывод:\n",
    "Чек\n",
    "<название товара> - <вес>кг - <цена>руб/кг\n",
    "Итого: <итоговая стоимость>руб\n",
    "Внесено: <количество денег от пользователя>руб\n",
    "Сдача: <сдача>руб"
   ]
  },
  {
   "cell_type": "code",
   "execution_count": 1,
   "id": "c88c288b-1654-4509-b814-bd12b3523323",
   "metadata": {},
   "outputs": [
    {
     "name": "stdin",
     "output_type": "stream",
     "text": [
      "Введите название товара Сыр\n",
      "Введите цену товара 5\n",
      "Введите вес товара 3\n",
      "Введите кол-во денег 20\n"
     ]
    },
    {
     "name": "stdout",
     "output_type": "stream",
     "text": [
      "Чек \n",
      "Сыр - 3 кг -  5 руб/кг \n",
      "Итого: 15.0 руб\n",
      "Внесено: 20 руб\n",
      "Сдача: 5.0 руб\n"
     ]
    }
   ],
   "source": [
    "name = input('Введите название товара')\n",
    "price = input('Введите цену товара')\n",
    "weight = input('Введите вес товара')\n",
    "money = input('Введите кол-во денег')\n",
    "cost = float(price) * float(weight)\n",
    "change = float(money) - cost\n",
    "\n",
    "print(f'Чек \\n{name} - {weight} кг -  {price} руб/кг \\nИтого: {cost} руб\\nВнесено: {money} руб\\nСдача: {change} руб')"
   ]
  },
  {
   "cell_type": "raw",
   "id": "32439e3c-90a9-40c1-85fa-49bc20881159",
   "metadata": {},
   "source": [
    "2. Сделать для предыдущей задачи красивый вывод в виде:\n",
    "================Чек================\n",
    "Товар:                    <продукт>\n",
    "Цена:     <число>кг * <число>руб/кг\n",
    "Итого:                   <число>руб\n",
    "Внесено:                 <число>руб\n",
    "Сдача:                   <число>руб\n",
    "==================================="
   ]
  },
  {
   "cell_type": "code",
   "execution_count": 31,
   "id": "7373d79d-dcaf-43f6-9ee8-f9b311cbb5ef",
   "metadata": {},
   "outputs": [
    {
     "name": "stdin",
     "output_type": "stream",
     "text": [
      "Введите название товара cheese\n",
      "Введите цену товара 15\n",
      "Введите вес товара 5\n",
      "Введите кол-во денег 100\n"
     ]
    },
    {
     "name": "stdout",
     "output_type": "stream",
     "text": [
      "================Чек================\n",
      "Товар:                       cheese\n",
      "Цена:              5 кг * 15 руб/кг\n",
      "Итого:                     75.0 руб\n",
      "Внесено:                    100 руб\n",
      "Сдача:                     25.0 руб\n",
      "===================================\n"
     ]
    }
   ],
   "source": [
    "name = input('Введите название товара')\n",
    "price = input('Введите цену товара')\n",
    "weight = input('Введите вес товара')\n",
    "money = input('Введите кол-во денег')\n",
    "cost = float(price) * float(weight)\n",
    "change = float(money) - cost\n",
    "\n",
    "strlen = len('================Чек================')\n",
    "emptystr1 = (strlen - len(name) - 6) * ' '\n",
    "emptystr2 = (strlen - len(weight) - len(price) - 18) * ' '\n",
    "emptystr3 = (strlen - len(str(cost)) - 10) * ' '\n",
    "emptystr4 = (strlen - len(money) - 12) * ' '\n",
    "emptystr5 = (strlen - len(str(change)) - 10) * ' '\n",
    "\n",
    "print('================Чек================')\n",
    "print(f'Товар:{emptystr1}{name}')\n",
    "print(f'Цена:{emptystr2}{weight} кг * {price} руб/кг')\n",
    "print(f'Итого:{emptystr3}{cost} руб')\n",
    "print(f'Внесено:{emptystr4}{money} руб')\n",
    "print(f'Сдача:{emptystr5}{change} руб')\n",
    "print('===================================')\n",
    "\n",
    "\n",
    "\n",
    "\n"
   ]
  },
  {
   "cell_type": "markdown",
   "id": "75ad0171-3953-44f3-9734-2ff12aff8868",
   "metadata": {},
   "source": [
    "3. Вывести трегуольник паскаля в красивом виде. В этом треугольнике на вершине и по бокам стоят единицы. Каждое число равно сумме двух расположенных над ним чисел. Строки треугольника симметричны относительно вертикальной оси. (не использовать многострочное форматирование)"
   ]
  },
  {
   "cell_type": "code",
   "execution_count": 39,
   "id": "c1fa3823-99c0-4c0c-914c-8a93ae538967",
   "metadata": {},
   "outputs": [
    {
     "name": "stdout",
     "output_type": "stream",
     "text": [
      "                                                                          1     \n",
      "                                                                     1         1     \n",
      "                                                                1         2         1     \n",
      "                                                           1         3         3         1     \n",
      "                                                      1         4         6         4         1     \n",
      "                                                 1         5        10        10         5         1     \n",
      "                                            1         6        15        20        15         6         1     \n",
      "                                       1         7        21        35        35        21         7         1     \n",
      "                                  1         8        28        56        70        56        28         8         1     \n",
      "                             1         9        36        84       126       126        84        36         9         1     \n",
      "                        1        10        45       120       210       252       210       120        45        10         1     \n",
      "                   1        11        55       165       330       462       462       330       165        55        11         1     \n",
      "              1        12        66       220       495       792       924       792       495       220        66        12         1     \n",
      "         1        13        78       286       715      1287      1716      1716      1287       715       286        78        13         1     \n",
      "    1        14        91       364      1001      2002      3003      3432      3003      2002      1001       364        91        14         1     \n"
     ]
    }
   ],
   "source": [
    "def symbol_count(l, space_cnt):\n",
    "    cnt = 0\n",
    "    for k in l:\n",
    "        cnt += len(str(k)) + space_cnt\n",
    "    cnt -= space_cnt\n",
    "    return cnt\n",
    "\n",
    "n = 15\n",
    "pascal_triangle = []\n",
    "for i in range(n):\n",
    "    if i == 0:\n",
    "        curr = [1]\n",
    "    elif i == 1:\n",
    "        curr = [1, 1]\n",
    "    else:\n",
    "        prev = curr[:]\n",
    "        curr = []\n",
    "        for j in range(i + 1):\n",
    "            if j == 0 or j == i:\n",
    "                curr.append(1)\n",
    "            else:\n",
    "                curr.append(prev[j - 1] + prev[j])\n",
    "    pascal_triangle.append(curr)\n",
    "space_cnt = len(str(max([k for k in pascal_triangle[-1]]))) + 1\n",
    "#print(space_cnt)\n",
    "\n",
    "for i in range(n):\n",
    "    space_before_start = (n - i - 1) * (space_cnt)\n",
    "    line = space_before_start * ' '\n",
    "    for num in pascal_triangle[i]:\n",
    "        space_before_element = space_cnt - len(str(num))\n",
    "        line = line + space_before_element * ' ' + str(num) + (space_cnt) * ' '\n",
    "    print(line)\n",
    "\n",
    "        "
   ]
  },
  {
   "cell_type": "markdown",
   "id": "ac3f4ee8-9ebb-46c9-89a5-b79c3f95e6a4",
   "metadata": {},
   "source": [
    "## 3. Работа с файлами"
   ]
  },
  {
   "cell_type": "markdown",
   "id": "f7292ea7-d7c6-4e63-877b-8e53c1552351",
   "metadata": {},
   "source": [
    "Немного теории можно прочитать на нашей wiki  - https://github.com/amtsu/team22/wiki/Python:-Базовая-работа-с-файлами"
   ]
  },
  {
   "cell_type": "markdown",
   "id": "22aa895a-147e-4db0-936c-ff595f29e2ef",
   "metadata": {},
   "source": [
    "1. Возьмите массив двухбуквенных сочетаний из задания 1.2 и запишите построчно этот массив в file1.txt"
   ]
  },
  {
   "cell_type": "code",
   "execution_count": 4,
   "id": "11be0e71-f5d2-41d7-b5ee-930b30aafb11",
   "metadata": {},
   "outputs": [],
   "source": [
    "for i in range(26):\n",
    "    stroka = ''\n",
    "    for j in range(26):\n",
    "        str_tmp = chr(97 + i) + chr(97 + j)\n",
    "        stroka += str_tmp + ' '\n",
    "    if i == 0:\n",
    "        mode = 'w'\n",
    "    else:\n",
    "        mode = 'a'\n",
    "    with open('file1.txt', mode) as text:\n",
    "        print(stroka.strip(), file=text)\n"
   ]
  },
  {
   "cell_type": "markdown",
   "id": "bf13b25a-eaf0-4ada-8745-3f4e5a87a109",
   "metadata": {},
   "source": [
    "2. Напишите функцию read_last(lines, file), которая будет открывать файл (в нашем случае file1.txt) и выводить на печать построчно последние строки в количестве lines (на всякий случай проверим, что задано положительное целое число)"
   ]
  },
  {
   "cell_type": "code",
   "execution_count": 6,
   "id": "a09075af-f568-47f5-8926-8f3f2890e3f4",
   "metadata": {},
   "outputs": [
    {
     "name": "stdout",
     "output_type": "stream",
     "text": [
      "xa xb xc xd xe xf xg xh xi xj xk xl xm xn xo xp xq xr xs xt xu xv xw xx xy xz\n",
      "ya yb yc yd ye yf yg yh yi yj yk yl ym yn yo yp yq yr ys yt yu yv yw yx yy yz\n",
      "za zb zc zd ze zf zg zh zi zj zk zl zm zn zo zp zq zr zs zt zu zv zw zx zy zz\n"
     ]
    }
   ],
   "source": [
    "def read_last(lines, file):\n",
    "    if isinstance(lines, int) and lines > 0:\n",
    "        with open(file, 'r') as textFile:\n",
    "            readed = textFile.readlines()\n",
    "            if lines < len(readed):\n",
    "                start = len(readed) - lines\n",
    "            else:\n",
    "                start = 0\n",
    "            for l in readed[start:len(readed)]:\n",
    "                print(l.replace('\\n', ''))\n",
    "\n",
    "read_last(3, \"file1.txt\")"
   ]
  },
  {
   "cell_type": "markdown",
   "id": "4b848caa-53f6-4806-b841-febbb552e42a",
   "metadata": {},
   "source": [
    "3. Напишите функцию longest_words(file), которая выводит слово, имеющее максимальную длину (или список слов, если таковых несколько)."
   ]
  },
  {
   "cell_type": "code",
   "execution_count": 7,
   "id": "0e505b8f-e6e4-485a-84ef-65d208503ef7",
   "metadata": {},
   "outputs": [
    {
     "name": "stdout",
     "output_type": "stream",
     "text": [
      "Сегодня\n",
      "хорошая\n"
     ]
    }
   ],
   "source": [
    "def longest_words(file):\n",
    "    with open(file, 'r') as textFile:\n",
    "        readed = textFile.readlines()\n",
    "        words = []\n",
    "        for line in readed:\n",
    "            words.extend(line.replace('.', '').replace(',', '').replace('\\n', '').split(' '))\n",
    "        maxlen = max([len(k) for k in words])\n",
    "        for word in words:\n",
    "            if len(word) == maxlen:\n",
    "                print(word)\n",
    "    \n",
    "longest_words(\"file2.txt\")"
   ]
  },
  {
   "cell_type": "markdown",
   "id": "df62e68b-f456-4f20-9118-bb5d2fd45a0b",
   "metadata": {},
   "source": [
    "4. Напишите функцию file_even_odd(file), которая будет принимать файл, считывать его построчно и запишисывать в file2n1.txt только нечетные строки, а в file2n.txt только четные"
   ]
  },
  {
   "cell_type": "code",
   "execution_count": 15,
   "id": "9304b430-4eb9-497b-ae6e-61c66816495a",
   "metadata": {},
   "outputs": [],
   "source": [
    "def file_even_odd(file):\n",
    "    with open(file, 'r') as textFile:\n",
    "        readed = textFile.readlines()\n",
    "        for i in range(len(readed)):\n",
    "            if i <= 1:\n",
    "                mode = 'w'\n",
    "            else:\n",
    "                mode = 'a'\n",
    "            if i % 2 == 1:\n",
    "                with open('file2n.txt', mode) as evenFile:\n",
    "                    evenFile.writelines(readed[i])\n",
    "            else:\n",
    "                with open('file2n1.txt', mode) as oddFile:\n",
    "                    oddFile.writelines(readed[i])\n",
    "            \n",
    "\n",
    "file_even_odd('file1.txt')"
   ]
  },
  {
   "cell_type": "markdown",
   "id": "6ef28dcb-ef48-41b1-ab75-4ded078383d6",
   "metadata": {},
   "source": [
    "5. Напишите функцию file_merge(file_1, file_2), которая будет принимать на вход два файла и выводить из них строки поочерди (то есть в начале 1 строка 1 файла, потом 1 строка 2 файла и тд)"
   ]
  },
  {
   "cell_type": "code",
   "execution_count": 37,
   "id": "c9717e20-ad28-410f-8985-12759aeb7563",
   "metadata": {},
   "outputs": [
    {
     "name": "stdout",
     "output_type": "stream",
     "text": [
      "aa ab ac ad ae af ag ah ai aj ak al am an ao ap aq ar as at au av aw ax ay az\n",
      "ba bb bc bd be bf bg bh bi bj bk bl bm bn bo bp bq br bs bt bu bv bw bx by bz\n",
      "ca cb cc cd ce cf cg ch ci cj ck cl cm cn co cp cq cr cs ct cu cv cw cx cy cz\n",
      "da db dc dd de df dg dh di dj dk dl dm dn do dp dq dr ds dt du dv dw dx dy dz\n",
      "ea eb ec ed ee ef eg eh ei ej ek el em en eo ep eq er es et eu ev ew ex ey ez\n",
      "fa fb fc fd fe ff fg fh fi fj fk fl fm fn fo fp fq fr fs ft fu fv fw fx fy fz\n",
      "ga gb gc gd ge gf gg gh gi gj gk gl gm gn go gp gq gr gs gt gu gv gw gx gy gz\n",
      "ha hb hc hd he hf hg hh hi hj hk hl hm hn ho hp hq hr hs ht hu hv hw hx hy hz\n",
      "ia ib ic id ie if ig ih ii ij ik il im in io ip iq ir is it iu iv iw ix iy iz\n",
      "ja jb jc jd je jf jg jh ji jj jk jl jm jn jo jp jq jr js jt ju jv jw jx jy jz\n",
      "ka kb kc kd ke kf kg kh ki kj kk kl km kn ko kp kq kr ks kt ku kv kw kx ky kz\n",
      "la lb lc ld le lf lg lh li lj lk ll lm ln lo lp lq lr ls lt lu lv lw lx ly lz\n",
      "ma mb mc md me mf mg mh mi mj mk ml mm mn mo mp mq mr ms mt mu mv mw mx my mz\n",
      "na nb nc nd ne nf ng nh ni nj nk nl nm nn no np nq nr ns nt nu nv nw nx ny nz\n",
      "oa ob oc od oe of og oh oi oj ok ol om on oo op oq or os ot ou ov ow ox oy oz\n",
      "pa pb pc pd pe pf pg ph pi pj pk pl pm pn po pp pq pr ps pt pu pv pw px py pz\n",
      "qa qb qc qd qe qf qg qh qi qj qk ql qm qn qo qp qq qr qs qt qu qv qw qx qy qz\n",
      "ra rb rc rd re rf rg rh ri rj rk rl rm rn ro rp rq rr rs rt ru rv rw rx ry rz\n",
      "sa sb sc sd se sf sg sh si sj sk sl sm sn so sp sq sr ss st su sv sw sx sy sz\n",
      "ta tb tc td te tf tg th ti tj tk tl tm tn to tp tq tr ts tt tu tv tw tx ty tz\n",
      "ua ub uc ud ue uf ug uh ui uj uk ul um un uo up uq ur us ut uu uv uw ux uy uz\n",
      "va vb vc vd ve vf vg vh vi vj vk vl vm vn vo vp vq vr vs vt vu vv vw vx vy vz\n",
      "wa wb wc wd we wf wg wh wi wj wk wl wm wn wo wp wq wr ws wt wu wv ww wx wy wz\n",
      "xa xb xc xd xe xf xg xh xi xj xk xl xm xn xo xp xq xr xs xt xu xv xw xx xy xz\n",
      "ya yb yc yd ye yf yg yh yi yj yk yl ym yn yo yp yq yr ys yt yu yv yw yx yy yz\n",
      "za zb zc zd ze zf zg zh zi zj zk zl zm zn zo zp zq zr zs zt zu zv zw zx zy zz\n"
     ]
    }
   ],
   "source": [
    "def file_merge(file_1, file_2):\n",
    "    with open(file_1, 'r') as textFile1:\n",
    "        readed1 = textFile1.readlines()\n",
    "    with open(file_2, 'r') as textFile2:\n",
    "        readed2 = textFile2.readlines()\n",
    "    len1 = len(readed1)\n",
    "    len2 = len(readed2)\n",
    "    maxlen = max(i for i in [len1, len2])\n",
    "    for i in range(maxlen * 2):\n",
    "        if i % 2 == 0 and i // 2 < len1:\n",
    "            print(readed1[i // 2].replace('\\n', ''))\n",
    "        elif i % 2 == 1 and i // 2 < len2:\n",
    "            print(readed2[i // 2].replace('\\n', ''))\n",
    "\n",
    "\n",
    "file_merge('file2n1.txt', 'file2n.txt')"
   ]
  },
  {
   "cell_type": "markdown",
   "id": "741a5308-88e3-489e-adc4-72ca1736ca12",
   "metadata": {},
   "source": [
    "## 4. Итераторы Генераторы"
   ]
  },
  {
   "cell_type": "markdown",
   "id": "b4893684-f90e-4a0c-9b5b-5dfaf593369c",
   "metadata": {},
   "source": [
    "Немного теории можно прочитать на нашей wiki  - https://github.com/amtsu/team22/wiki/Python:-Итераторы"
   ]
  },
  {
   "cell_type": "markdown",
   "id": "8dcee596-b425-43c9-8b1d-85171ac14017",
   "metadata": {},
   "source": [
    "1. Выполните ячейку и объясните результат выполнения. Потом поправьте чтобы сработали оба принта."
   ]
  },
  {
   "cell_type": "code",
   "execution_count": 39,
   "id": "d5b7616b-8383-4b40-9212-e8967ed12875",
   "metadata": {},
   "outputs": [
    {
     "name": "stdout",
     "output_type": "stream",
     "text": [
      "Все пары кортежей -  (1, 3) (2, 2) (3, 1)\n",
      "Хочу вывести первую пару - (1, 3)\n"
     ]
    }
   ],
   "source": [
    "a = [1,2,3]\n",
    "b = [3,2,1]\n",
    "ab = zip(a,b)\n",
    "print('Все пары кортежей - ', *ab)\n",
    "ab = zip(a,b)\n",
    "print(f'Хочу вывести первую пару - {next(ab)}')"
   ]
  },
  {
   "cell_type": "markdown",
   "id": "650a910e-fe5c-4ad1-9401-70d96d53ac3b",
   "metadata": {},
   "source": [
    "2. Возьмите из 1.1 массив с английским алфавитом, и выведите первые 5 элементов с помощью next()"
   ]
  },
  {
   "cell_type": "code",
   "execution_count": 42,
   "id": "596660d9-d8e9-40f2-abe9-200c678c4699",
   "metadata": {},
   "outputs": [
    {
     "name": "stdout",
     "output_type": "stream",
     "text": [
      "a\n",
      "b\n",
      "c\n",
      "d\n",
      "e\n"
     ]
    }
   ],
   "source": [
    "letters = zip(list(alphabet))\n",
    "for i in range(5):\n",
    "    print(next(letters)[0])"
   ]
  },
  {
   "cell_type": "markdown",
   "id": "0ceb98e0-c916-4ccd-9c17-1ae539c19586",
   "metadata": {},
   "source": [
    "3. Проверить функции list(), open(), zip(),  - является ли то, что они выдают итератором"
   ]
  },
  {
   "cell_type": "code",
   "execution_count": 43,
   "id": "83737c01-a1fd-4e3d-b367-c0416d094aa6",
   "metadata": {},
   "outputs": [
    {
     "name": "stdout",
     "output_type": "stream",
     "text": [
      "check list for iterable\n",
      "a\n",
      "b\n",
      "check open for iterable\n",
      "aa ab ac ad ae af ag ah ai aj ak al am an ao ap aq ar as at au av aw ax ay az\n",
      "\n",
      "ba bb bc bd be bf bg bh bi bj bk bl bm bn bo bp bq br bs bt bu bv bw bx by bz\n",
      "\n",
      "check zip for iterable\n",
      "('a',)\n",
      "('b',)\n"
     ]
    }
   ],
   "source": [
    "print('check list for iterable')\n",
    "list_iterator = iter(list(alphabet))\n",
    "print(next(list_iterator))\n",
    "print(next(list_iterator))\n",
    "\n",
    "print('check open for iterable')\n",
    "open_iterator = open('file1.txt', 'r')\n",
    "print(next(open_iterator))\n",
    "print(next(open_iterator))\n",
    "\n",
    "print('check zip for iterable')\n",
    "zip_iterator = iter(zip(alphabet))\n",
    "print(next(zip_iterator))\n",
    "print(next(zip_iterator))\n",
    "        "
   ]
  },
  {
   "cell_type": "markdown",
   "id": "cd2dbb3a-c53a-454f-9ead-3150afb1360b",
   "metadata": {},
   "source": [
    "4. Как мы проверили в задание 4.4 функция open тоже реализует протокл итератора. Возьмите файл с двухбуквенными сочетаниями из задания 3.1 и выведите все его строки с помощью итератора"
   ]
  },
  {
   "cell_type": "code",
   "execution_count": 46,
   "id": "544672fd-85db-4a72-bb9d-b4a43e46817f",
   "metadata": {},
   "outputs": [
    {
     "name": "stdout",
     "output_type": "stream",
     "text": [
      "aa ab ac ad ae af ag ah ai aj ak al am an ao ap aq ar as at au av aw ax ay az\n",
      "ba bb bc bd be bf bg bh bi bj bk bl bm bn bo bp bq br bs bt bu bv bw bx by bz\n",
      "ca cb cc cd ce cf cg ch ci cj ck cl cm cn co cp cq cr cs ct cu cv cw cx cy cz\n",
      "da db dc dd de df dg dh di dj dk dl dm dn do dp dq dr ds dt du dv dw dx dy dz\n",
      "ea eb ec ed ee ef eg eh ei ej ek el em en eo ep eq er es et eu ev ew ex ey ez\n",
      "fa fb fc fd fe ff fg fh fi fj fk fl fm fn fo fp fq fr fs ft fu fv fw fx fy fz\n",
      "ga gb gc gd ge gf gg gh gi gj gk gl gm gn go gp gq gr gs gt gu gv gw gx gy gz\n",
      "ha hb hc hd he hf hg hh hi hj hk hl hm hn ho hp hq hr hs ht hu hv hw hx hy hz\n",
      "ia ib ic id ie if ig ih ii ij ik il im in io ip iq ir is it iu iv iw ix iy iz\n",
      "ja jb jc jd je jf jg jh ji jj jk jl jm jn jo jp jq jr js jt ju jv jw jx jy jz\n",
      "ka kb kc kd ke kf kg kh ki kj kk kl km kn ko kp kq kr ks kt ku kv kw kx ky kz\n",
      "la lb lc ld le lf lg lh li lj lk ll lm ln lo lp lq lr ls lt lu lv lw lx ly lz\n",
      "ma mb mc md me mf mg mh mi mj mk ml mm mn mo mp mq mr ms mt mu mv mw mx my mz\n",
      "na nb nc nd ne nf ng nh ni nj nk nl nm nn no np nq nr ns nt nu nv nw nx ny nz\n",
      "oa ob oc od oe of og oh oi oj ok ol om on oo op oq or os ot ou ov ow ox oy oz\n",
      "pa pb pc pd pe pf pg ph pi pj pk pl pm pn po pp pq pr ps pt pu pv pw px py pz\n",
      "qa qb qc qd qe qf qg qh qi qj qk ql qm qn qo qp qq qr qs qt qu qv qw qx qy qz\n",
      "ra rb rc rd re rf rg rh ri rj rk rl rm rn ro rp rq rr rs rt ru rv rw rx ry rz\n",
      "sa sb sc sd se sf sg sh si sj sk sl sm sn so sp sq sr ss st su sv sw sx sy sz\n",
      "ta tb tc td te tf tg th ti tj tk tl tm tn to tp tq tr ts tt tu tv tw tx ty tz\n",
      "ua ub uc ud ue uf ug uh ui uj uk ul um un uo up uq ur us ut uu uv uw ux uy uz\n",
      "va vb vc vd ve vf vg vh vi vj vk vl vm vn vo vp vq vr vs vt vu vv vw vx vy vz\n",
      "wa wb wc wd we wf wg wh wi wj wk wl wm wn wo wp wq wr ws wt wu wv ww wx wy wz\n",
      "xa xb xc xd xe xf xg xh xi xj xk xl xm xn xo xp xq xr xs xt xu xv xw xx xy xz\n",
      "ya yb yc yd ye yf yg yh yi yj yk yl ym yn yo yp yq yr ys yt yu yv yw yx yy yz\n",
      "za zb zc zd ze zf zg zh zi zj zk zl zm zn zo zp zq zr zs zt zu zv zw zx zy zz\n"
     ]
    }
   ],
   "source": [
    "open_iterator = open('file1.txt', 'r')\n",
    "for line in open_iterator:\n",
    "    print(line.replace('\\n', ''))"
   ]
  },
  {
   "cell_type": "markdown",
   "id": "638bdadc-f410-4a8e-a392-6c1f3e283faf",
   "metadata": {},
   "source": [
    "5. Объяснить, чем отличается ячейка-раз от ячеек два, три, четыре и что за магия там происходит"
   ]
  },
  {
   "cell_type": "code",
   "execution_count": 7,
   "id": "15e5c560-64b8-4d6a-a164-9b49c2cfb39d",
   "metadata": {},
   "outputs": [],
   "source": [
    "#ответ к заданию 4.5 тут"
   ]
  },
  {
   "cell_type": "code",
   "execution_count": 33,
   "id": "0fa630b8-1a34-46a9-a0c0-f1622f3d39dd",
   "metadata": {},
   "outputs": [
    {
     "name": "stdout",
     "output_type": "stream",
     "text": [
      "True\n",
      "1 4 9 16 25\n",
      "True\n",
      "1 4 9 16 25\n"
     ]
    },
    {
     "data": {
      "text/plain": [
       "list"
      ]
     },
     "execution_count": 33,
     "metadata": {},
     "output_type": "execute_result"
    }
   ],
   "source": [
    "#ячейка-раз\n",
    "numbers = [1,2,3,4,5]\n",
    "squared_numbers = [number**2 for number in numbers]\n",
    "print(4 in squared_numbers)\n",
    "print(*squared_numbers)\n",
    "print(4 in squared_numbers)\n",
    "print(*squared_numbers)\n",
    "type(squared_numbers)"
   ]
  },
  {
   "cell_type": "code",
   "execution_count": 51,
   "id": "f05563e9-cbad-44d1-85b1-3e551823315f",
   "metadata": {},
   "outputs": [
    {
     "name": "stdout",
     "output_type": "stream",
     "text": [
      "True\n",
      "False\n"
     ]
    },
    {
     "data": {
      "text/plain": [
       "generator"
      ]
     },
     "execution_count": 51,
     "metadata": {},
     "output_type": "execute_result"
    }
   ],
   "source": [
    "#ячейка-два\n",
    "numbers = [1,2,3,4,5]\n",
    "squared_numbers = (number**2 for number in numbers)\n",
    "print(4 in squared_numbers)\n",
    "print(4 in squared_numbers)\n",
    "type(squared_numbers)"
   ]
  },
  {
   "cell_type": "code",
   "execution_count": 52,
   "id": "10f00426-11fe-42da-82bd-ae40aa602e00",
   "metadata": {},
   "outputs": [
    {
     "name": "stdout",
     "output_type": "stream",
     "text": [
      "1 4 9 16 25\n",
      "\n"
     ]
    },
    {
     "data": {
      "text/plain": [
       "generator"
      ]
     },
     "execution_count": 52,
     "metadata": {},
     "output_type": "execute_result"
    }
   ],
   "source": [
    "#ячейка-три\n",
    "numbers = [1,2,3,4,5]\n",
    "squared_numbers = (number**2 for number in numbers)\n",
    "print(*squared_numbers)\n",
    "print(*squared_numbers)\n",
    "type(squared_numbers)"
   ]
  },
  {
   "cell_type": "code",
   "execution_count": 53,
   "id": "e5d7ec3d-29b3-4f61-a66f-986925d9a41c",
   "metadata": {},
   "outputs": [
    {
     "name": "stdout",
     "output_type": "stream",
     "text": [
      "True\n",
      "9 16 25\n"
     ]
    },
    {
     "data": {
      "text/plain": [
       "generator"
      ]
     },
     "execution_count": 53,
     "metadata": {},
     "output_type": "execute_result"
    }
   ],
   "source": [
    "#ячейка-четыре\n",
    "numbers = [1,2,3,4,5]\n",
    "squared_numbers = (number**2 for number in numbers)\n",
    "print(4 in squared_numbers)\n",
    "print(*squared_numbers)\n",
    "type(squared_numbers)"
   ]
  },
  {
   "cell_type": "markdown",
   "id": "9bf26372-8fd4-4d38-92b5-7387a363a29f",
   "metadata": {},
   "source": [
    "<p>Ответ: все дело в типе данных. В первой ячейке тип list, в остальных - generator</p>"
   ]
  },
  {
   "cell_type": "markdown",
   "id": "384e32fe-50ee-4c4a-b939-79344419f4b6",
   "metadata": {},
   "source": [
    "6. Напишите функцию yrange(n) аналогичную по работе функции range, которая по запросу next  выдает следующий элмент последовательности от 0 до n"
   ]
  },
  {
   "cell_type": "code",
   "execution_count": 72,
   "id": "bb70ddd1-abc5-4182-be66-83ae0db8ff6d",
   "metadata": {},
   "outputs": [],
   "source": [
    "#решение задания 4.6 тут\n",
    "def yrange(num):\n",
    "    numbers = (number for number in range(num))\n",
    "    return(numbers)\n"
   ]
  },
  {
   "cell_type": "code",
   "execution_count": 73,
   "id": "2af1ce4f-de47-4b04-8b60-77228d46e8cc",
   "metadata": {},
   "outputs": [
    {
     "name": "stdout",
     "output_type": "stream",
     "text": [
      "0\n",
      "1\n",
      "2\n",
      "3\n",
      "4\n",
      "5\n",
      "6\n",
      "7\n",
      "8\n",
      "9\n"
     ]
    }
   ],
   "source": [
    "#проверка тут\n",
    "a = yrange(20)\n",
    "#код должен вывести цифры от 0 до 9\n",
    "for i in range(10):\n",
    "    print(next(a))"
   ]
  },
  {
   "cell_type": "markdown",
   "id": "8c7244d3-e78d-415c-80d6-27aeeba6430b",
   "metadata": {},
   "source": [
    "7. Создайте массив alph - из букв английского алфавита(можно взять из задания 1.1), возьмите массив с числами из задания 5.3.\n",
    "\n",
    "Напишите функцию которая принимает на вход два массива и выдает третий с сочетаниями букв и их номеров (a1, b2 и тд) (склеивайте массивы с помощью zip)"
   ]
  },
  {
   "cell_type": "code",
   "execution_count": 86,
   "id": "b3d6025b-056a-4e0e-b14f-244a4d800096",
   "metadata": {},
   "outputs": [
    {
     "data": {
      "text/plain": [
       "['a1',\n",
       " 'b2',\n",
       " 'c3',\n",
       " 'd4',\n",
       " 'e5',\n",
       " 'f6',\n",
       " 'g7',\n",
       " 'h8',\n",
       " 'i9',\n",
       " 'j10',\n",
       " 'k11',\n",
       " 'l12',\n",
       " 'm13',\n",
       " 'n14',\n",
       " 'o15',\n",
       " 'p16',\n",
       " 'q17',\n",
       " 'r18',\n",
       " 's19',\n",
       " 't20',\n",
       " 'u21',\n",
       " 'v22',\n",
       " 'w23',\n",
       " 'x24',\n",
       " 'y25',\n",
       " 'z26']"
      ]
     },
     "execution_count": 86,
     "metadata": {},
     "output_type": "execute_result"
    }
   ],
   "source": [
    "def merge_alph_numb(list1, list2):\n",
    "    res = zip(list1, list2)\n",
    "    list_res = []\n",
    "    for i in res:\n",
    "        list_res.append(i[0] + str(i[1]))\n",
    "    return list_res\n",
    "    \n",
    "\n",
    "alph = alphabet\n",
    "numb = [n for n in range(1, 27)]\n",
    "merge_alph_numb(alph, numb)\n"
   ]
  },
  {
   "cell_type": "markdown",
   "id": "2415c89c-540e-455a-b613-39768b4a279e",
   "metadata": {},
   "source": [
    "## 5. List comprehenshion"
   ]
  },
  {
   "cell_type": "markdown",
   "id": "fc5f1f33-0672-403a-8737-c3ca6c5356ba",
   "metadata": {},
   "source": [
    "Немного теории можно прочитать на нашей wiki - https://github.com/amtsu/team22/wiki/Python:-Генератор-списков"
   ]
  },
  {
   "cell_type": "markdown",
   "id": "be7d53ee-2fa7-4ef2-93b0-703f59c4d49d",
   "metadata": {},
   "source": [
    "1. Cформировать список из квадратов целых чисел от 0 до N - обычными циклами и условиями"
   ]
  },
  {
   "cell_type": "code",
   "execution_count": 87,
   "id": "f4c2945d-1b56-45f2-b8e4-8edc6ade6323",
   "metadata": {},
   "outputs": [
    {
     "name": "stdout",
     "output_type": "stream",
     "text": [
      "[0, 1, 4, 9, 16, 25, 36]\n"
     ]
    }
   ],
   "source": [
    "n = 6\n",
    "list_q1 = []\n",
    "for i in range(n + 1):\n",
    "    list_q1.append(i ** 2)\n",
    "\n",
    "print(list_q1)"
   ]
  },
  {
   "cell_type": "markdown",
   "id": "92cfcb85-4c53-4e19-bf58-7fa74b0d3b7c",
   "metadata": {},
   "source": [
    "2. Cформировать список из квадратов целых чисел от 0 до N - с помощью list-comprehenshion"
   ]
  },
  {
   "cell_type": "code",
   "execution_count": 88,
   "id": "ae1258db-b61b-4c14-a3d7-db11c66ceb89",
   "metadata": {},
   "outputs": [
    {
     "name": "stdout",
     "output_type": "stream",
     "text": [
      "[0, 1, 4, 9, 16, 25, 36]\n"
     ]
    }
   ],
   "source": [
    "n = 6\n",
    "list_q2 = [i ** 2 for i in range(n + 1)]\n",
    "print(list_q2)"
   ]
  },
  {
   "cell_type": "markdown",
   "id": "2987e607-a9f7-4f5b-b9cf-4e12cf8879f5",
   "metadata": {},
   "source": [
    "3. Cформировать список из чисел от 1 до 26 с помощью генератора массивов"
   ]
  },
  {
   "cell_type": "code",
   "execution_count": 91,
   "id": "ffe0727e-e057-4bcb-927a-ec75a2175def",
   "metadata": {},
   "outputs": [
    {
     "name": "stdout",
     "output_type": "stream",
     "text": [
      "[1, 2, 3, 4, 5, 6, 7, 8, 9, 10, 11, 12, 13, 14, 15, 16, 17, 18, 19, 20, 21, 22, 23, 24, 25, 26]\n"
     ]
    }
   ],
   "source": [
    "numb = [n for n in range(1, 27)]\n",
    "print(numb)"
   ]
  },
  {
   "cell_type": "markdown",
   "id": "42279072-b92b-4222-bf35-5ed51ce8ffb7",
   "metadata": {},
   "source": [
    "3. Cформировать список из квадратов целых чисел от 0 до N, только если эти значения являются четными - с помощью list-comprehenshion"
   ]
  },
  {
   "cell_type": "code",
   "execution_count": 93,
   "id": "67191182-a5d3-429f-b0f9-d93152f80181",
   "metadata": {},
   "outputs": [
    {
     "name": "stdout",
     "output_type": "stream",
     "text": [
      "[0, 4, 16, 36]\n"
     ]
    }
   ],
   "source": [
    "n = 6\n",
    "list_q3 = [i ** 2 for i in range(n + 1) if i % 2 == 0]\n",
    "print(list_q3)"
   ]
  },
  {
   "cell_type": "markdown",
   "id": "20ec6862-954a-4db0-8d18-12dbeb87ea65",
   "metadata": {},
   "source": [
    "4. Программа должна считывать первую строку с целым числом X. А потом должна запросить у пользователя X раз ввести целое число. На выходе напечатать список , в котором будут только числа, значение которых больше среднего арифметического всех введённых чисел. (Считывание производить с помощью list comprehension)"
   ]
  },
  {
   "cell_type": "code",
   "execution_count": 15,
   "id": "0a927f76-d2c5-4952-ad22-b468e0f20379",
   "metadata": {},
   "outputs": [
    {
     "name": "stdin",
     "output_type": "stream",
     "text": [
      "Введите число X 5\n",
      "Введите число №1 10\n",
      "Введите число №2 4\n",
      "Введите число №3 9\n",
      "Введите число №4 7\n",
      "Введите число №5 3\n"
     ]
    },
    {
     "name": "stdout",
     "output_type": "stream",
     "text": [
      "[10, 9, 7]\n"
     ]
    }
   ],
   "source": [
    "n = int(input('Введите число X'))\n",
    "list_int = [int(input('Введите число №' + str(i))) for i in range(1, n + 1)]\n",
    "avg_num = sum([num for num in list_int]) / len(list_int)\n",
    "x = [num for num in list_int if num > avg_num]\n",
    "print(x)"
   ]
  },
  {
   "cell_type": "markdown",
   "id": "e78a876a-f98e-48d2-837a-8cd77a59d117",
   "metadata": {},
   "source": [
    "5. На вход подаются два числа через пробел, обозначающие размеры матрицы (m - количество строк, n - количество столбцов). Создать матрицу m на n, заполненую нулями. Сделать красивый вывод матрицы."
   ]
  },
  {
   "cell_type": "code",
   "execution_count": 32,
   "id": "b4c62e97-e428-44ee-bada-c2f85a5b872e",
   "metadata": {},
   "outputs": [
    {
     "name": "stdin",
     "output_type": "stream",
     "text": [
      "Введите m и n через пробел 4 5\n"
     ]
    },
    {
     "name": "stdout",
     "output_type": "stream",
     "text": [
      "0 0 0 0 0\n",
      "0 0 0 0 0\n",
      "0 0 0 0 0\n",
      "0 0 0 0 0\n"
     ]
    }
   ],
   "source": [
    "m, n = input('Введите m и n через пробел').split(' ')\n",
    "matrix = [['0' for i in range(int(n))] for j in range(int(m))]\n",
    "print(*[' '.join(line) for line in matrix], sep = '\\n')"
   ]
  },
  {
   "cell_type": "markdown",
   "id": "4e77b96e-44c7-4f7f-a342-a8fca9098a1c",
   "metadata": {},
   "source": [
    "6. На вход подаются два числа через пробел, обозначающие размеры матрицы (m - количество строк, n - количество столбцов). Создать матрицу m на n, заполненую координатами элементов матрицы. (те для первого элемента это будет (0,0) , для второго (0,1) и так далее) Сделать красивый вывод матрицы."
   ]
  },
  {
   "cell_type": "code",
   "execution_count": 41,
   "id": "13c5db98-6609-4878-9c92-716a09e2beb5",
   "metadata": {},
   "outputs": [
    {
     "name": "stdin",
     "output_type": "stream",
     "text": [
      "Введите m и n через пробел 4 5\n"
     ]
    },
    {
     "name": "stdout",
     "output_type": "stream",
     "text": [
      "(0,0) (1,0) (2,0) (3,0) (4,0)\n",
      "(0,1) (1,1) (2,1) (3,1) (4,1)\n",
      "(0,2) (1,2) (2,2) (3,2) (4,2)\n",
      "(0,3) (1,3) (2,3) (3,3) (4,3)\n"
     ]
    }
   ],
   "source": [
    "m, n = input('Введите m и n через пробел').split(' ')\n",
    "matrix = [['(' + str(i) + ',' + str(j) + ')' for i in range(int(n))] for j in range(int(m))]\n",
    "print(*[' '.join(line) for line in matrix], sep = '\\n')"
   ]
  },
  {
   "cell_type": "markdown",
   "id": "488ff7b9-60b2-4da7-bc9f-11f5c2db5e6d",
   "metadata": {},
   "source": [
    "7. Используя list comprehension, выберите из списка строки и добавьте их в первый массив; int, float во второй; в переменной my_list оставьте элементы, которые не вошли в первые два."
   ]
  },
  {
   "cell_type": "code",
   "execution_count": 55,
   "id": "5c1fbfae-3775-4357-a25c-530c4aa1c269",
   "metadata": {},
   "outputs": [],
   "source": [
    "my_list = [42, \"Hello\", 3.14, True, [1, 2, 3], {\"key\": \"value\"}, None, \"World\", 2.71, False, [4, 5, 6], {\"foo\": \"bar\"}, \"Python\", 100, -3.0, \"OpenAI\", {\"a\": 1, \"b\": 2}, True, [7, 8, 9], \"Artificial\", -123, 0.007, \"Intelligence\", {\"x\": 10, \"y\": 20}, False, [10, 20, 30], \"Machine\", 987654, 3.14159, \"Learning\", [11, 22, 33], \"Data\", -987, 0.123, \"Science\", {\"alpha\": 0, \"beta\": 1}, True, [55, 66, 77], \"Computer\", 123456, 2.71828, \"Programming\"]\n"
   ]
  },
  {
   "cell_type": "code",
   "execution_count": 65,
   "id": "3adfe1ee-1572-4af2-ab81-601c63fc9b87",
   "metadata": {},
   "outputs": [
    {
     "name": "stdout",
     "output_type": "stream",
     "text": [
      "['Hello', 'World', 'Python', 'OpenAI', 'Artificial', 'Intelligence', 'Machine', 'Learning', 'Data', 'Science', 'Computer', 'Programming']\n",
      "[3.14, 2.71, -3.0, 0.007, 3.14159, 0.123, 2.71828]\n",
      "[42, True, [1, 2, 3], {'key': 'value'}, None, False, [4, 5, 6], {'foo': 'bar'}, 100, {'a': 1, 'b': 2}, True, [7, 8, 9], -123, {'x': 10, 'y': 20}, False, [10, 20, 30], 987654, [11, 22, 33], -987, {'alpha': 0, 'beta': 1}, True, [55, 66, 77], 123456]\n"
     ]
    }
   ],
   "source": [
    "list_str = [i for i in my_list if type(i) is str]\n",
    "print(list_str)\n",
    "list_float = [i for i in my_list if type(i) is float]\n",
    "print(list_float)\n",
    "list_other = [i for i in my_list if type(i) is not float and type(i) is not str]\n",
    "print(list_other)"
   ]
  },
  {
   "cell_type": "markdown",
   "id": "92e77527-80c3-4203-b762-6d28a7f7fc6a",
   "metadata": {},
   "source": [
    "8. Напишите в одну строку( один print) вывод списка из квадратов целых чисел от 0 до 20, каждое число должно быть в фигурных скобках, между числами должна быть двойная кавычка "
   ]
  },
  {
   "cell_type": "code",
   "execution_count": 53,
   "id": "4ab45e8b-12b6-4fa5-914d-6eec64f75b7a",
   "metadata": {},
   "outputs": [
    {
     "name": "stdout",
     "output_type": "stream",
     "text": [
      "{0}\"{1}\"{4}\"{9}\"{16}\"{25}\"{36}\"{49}\"{64}\"{81}\"{100}\"{121}\"{144}\"{169}\"{196}\"{225}\"{256}\"{289}\"{324}\"{361}\"{400}\n"
     ]
    }
   ],
   "source": [
    "print('\"'.join([\"{\" + str(n ** 2) + \"}\" for n in range(21)]))"
   ]
  }
 ],
 "metadata": {
  "kernelspec": {
   "display_name": "Python 3 (ipykernel)",
   "language": "python",
   "name": "python3"
  },
  "language_info": {
   "codemirror_mode": {
    "name": "ipython",
    "version": 3
   },
   "file_extension": ".py",
   "mimetype": "text/x-python",
   "name": "python",
   "nbconvert_exporter": "python",
   "pygments_lexer": "ipython3",
   "version": "3.10.10"
  }
 },
 "nbformat": 4,
 "nbformat_minor": 5
}
