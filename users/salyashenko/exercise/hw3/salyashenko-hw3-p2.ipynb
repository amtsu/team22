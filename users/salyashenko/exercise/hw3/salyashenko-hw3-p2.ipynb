{
 "cells": [
  {
   "cell_type": "code",
   "execution_count": 1,
   "id": "be34bb71-b45d-4d41-a0bb-f92ce7ba2903",
   "metadata": {},
   "outputs": [
    {
     "ename": "SyntaxError",
     "evalue": "invalid syntax (2029099105.py, line 1)",
     "output_type": "error",
     "traceback": [
      "\u001b[0;36m  Cell \u001b[0;32mIn[1], line 1\u001b[0;36m\u001b[0m\n\u001b[0;31m    Вычислить результат следующих операций:\u001b[0m\n\u001b[0m              ^\u001b[0m\n\u001b[0;31mSyntaxError\u001b[0m\u001b[0;31m:\u001b[0m invalid syntax\n"
     ]
    }
   ],
   "source": [
    "Вычислить результат следующих операций:"
   ]
  },
  {
   "cell_type": "code",
   "execution_count": 2,
   "id": "10ca7c52-b4c9-4148-94ae-87523479a8d1",
   "metadata": {},
   "outputs": [
    {
     "name": "stdout",
     "output_type": "stream",
     "text": [
      "80\n"
     ]
    }
   ],
   "source": [
    "print(10 * (5 + 3))"
   ]
  },
  {
   "cell_type": "code",
   "execution_count": 13,
   "id": "e1c45c49-a996-4301-be84-fb2594aa7c3d",
   "metadata": {
    "scrolled": true
   },
   "outputs": [
    {
     "name": "stdout",
     "output_type": "stream",
     "text": [
      "7.0\n"
     ]
    }
   ],
   "source": [
    "print((20 - 6) / 2)"
   ]
  },
  {
   "cell_type": "code",
   "execution_count": 14,
   "id": "139e8a49-ff8a-498f-8f60-c514663ac2d8",
   "metadata": {},
   "outputs": [
    {
     "name": "stdout",
     "output_type": "stream",
     "text": [
      "32\n"
     ]
    }
   ],
   "source": [
    "print(2 ** 5)"
   ]
  },
  {
   "cell_type": "code",
   "execution_count": 6,
   "id": "39c7d711-40d5-4a4c-bc5a-02ab4f802f3c",
   "metadata": {},
   "outputs": [
    {
     "name": "stdout",
     "output_type": "stream",
     "text": [
      "6\n"
     ]
    }
   ],
   "source": [
    "print(25 // 4)"
   ]
  },
  {
   "cell_type": "code",
   "execution_count": 5,
   "id": "433ece85-a1a9-473a-9870-293184e86bc9",
   "metadata": {},
   "outputs": [
    {
     "name": "stdout",
     "output_type": "stream",
     "text": [
      "1\n"
     ]
    }
   ],
   "source": [
    "print( 25 % 4)"
   ]
  },
  {
   "cell_type": "code",
   "execution_count": null,
   "id": "99925805-ad41-4561-adda-0b7e519230da",
   "metadata": {},
   "outputs": [],
   "source": [
    "number = -3.14"
   ]
  },
  {
   "cell_type": "code",
   "execution_count": 10,
   "id": "6dd73ba1-0286-47be-965f-82bdb2b12413",
   "metadata": {},
   "outputs": [
    {
     "name": "stdout",
     "output_type": "stream",
     "text": [
      "-3.0\n"
     ]
    }
   ],
   "source": [
    "print(round( -3.14,0))"
   ]
  },
  {
   "cell_type": "code",
   "execution_count": 23,
   "id": "4bab4e12-7c9c-4c7d-9cad-125c85c89447",
   "metadata": {},
   "outputs": [
    {
     "name": "stdout",
     "output_type": "stream",
     "text": [
      "-0.14000000000000012\n"
     ]
    }
   ],
   "source": [
    "print(-3.14 % -3.0)"
   ]
  },
  {
   "cell_type": "code",
   "execution_count": null,
   "id": "de96dd88-9e8a-4f8e-9006-6f1e88586b8b",
   "metadata": {},
   "outputs": [],
   "source": [
    "a = 5\n",
    "b = 7"
   ]
  },
  {
   "cell_type": "code",
   "execution_count": 34,
   "id": "5f4a3e73-ea66-4a44-aea9-6c6ae7def670",
   "metadata": {},
   "outputs": [
    {
     "name": "stdout",
     "output_type": "stream",
     "text": [
      "17.5\n"
     ]
    }
   ],
   "source": [
    "print(0.5 * 5 * 7)"
   ]
  },
  {
   "cell_type": "code",
   "execution_count": 35,
   "id": "a0ea48f0-82de-4588-b145-a569bd01f654",
   "metadata": {},
   "outputs": [
    {
     "name": "stdout",
     "output_type": "stream",
     "text": [
      "145.7\n"
     ]
    }
   ],
   "source": [
    "print(round((3.5 * 6.4 * 3.1 + 3.4 * 4 * 3.1 + 11 *3.1),1))"
   ]
  },
  {
   "cell_type": "code",
   "execution_count": 42,
   "id": "aeb01cae-8772-4e07-b82f-1a373391db69",
   "metadata": {},
   "outputs": [
    {
     "name": "stdout",
     "output_type": "stream",
     "text": [
      "Корни уравнения ax^2 + bx + c = 0 при a=2, b=2, c= -10 равны:1.79128784747792 и -2.79128784747792\n"
     ]
    }
   ],
   "source": [
    "a = 2\n",
    "b = 2 \n",
    "c = -10 \n",
    "D = b ** 2 - 4*a*c\n",
    "x1 = (b*(-1)+D**(0.5))/(a*2)\n",
    "x2 = (b*(-1)-D**(0.5))/(a*2)\n",
    "print(\"Корни уравнения ax^2 + bx + c = 0 при a=2, b=2, c= -10 равны:\"+str(x1)+ \" и \" +str(x2))"
   ]
  },
  {
   "cell_type": "code",
   "execution_count": 43,
   "id": "a3957194-cf2b-4f35-80ce-65ca268daa83",
   "metadata": {},
   "outputs": [
    {
     "name": "stdout",
     "output_type": "stream",
     "text": [
      "Hello,world!\n"
     ]
    }
   ],
   "source": [
    "string1 = \"hello,\"\n",
    "string2 = \"world!\"\n",
    "print(string1.title()+string2)"
   ]
  },
  {
   "cell_type": "code",
   "execution_count": 44,
   "id": "fad3999f-8ce8-4702-8e5a-2c8dae19232a",
   "metadata": {},
   "outputs": [
    {
     "name": "stdout",
     "output_type": "stream",
     "text": [
      "12\n"
     ]
    }
   ],
   "source": [
    "print(len(string1.title()+string2))"
   ]
  },
  {
   "cell_type": "code",
   "execution_count": 45,
   "id": "235c94d5-33f7-48c8-aca0-c326981309bb",
   "metadata": {},
   "outputs": [
    {
     "name": "stdout",
     "output_type": "stream",
     "text": [
      "lalalalalalalalalalalalalalalalalalalalalalalalala\n"
     ]
    }
   ],
   "source": [
    "string3 = \"la\"\n",
    "print(string3*25)"
   ]
  },
  {
   "cell_type": "code",
   "execution_count": 46,
   "id": "df4cce74-d089-463f-91da-a3e47aa64599",
   "metadata": {},
   "outputs": [
    {
     "name": "stdout",
     "output_type": "stream",
     "text": [
      "[1, 2, 'hi', 4, 5]\n",
      "[1, 2, 'hi', 4, [8, 6, 4]]\n"
     ]
    }
   ],
   "source": [
    "numbers = [1, 2, 3, 4, 5]\n",
    "numbers[2] = \"hi\"\n",
    "print(numbers)\n",
    "numbers[4] = [8, 6, 4]\n",
    "print(numbers)"
   ]
  },
  {
   "cell_type": "code",
   "execution_count": 47,
   "id": "573dc59f-f234-41ad-87b9-7f48a8adc8ca",
   "metadata": {},
   "outputs": [
    {
     "name": "stdout",
     "output_type": "stream",
     "text": [
      "4 5 6 7 8\n"
     ]
    }
   ],
   "source": [
    "numbers = [1, 2, 3, 4, 5, 6, 7, 8, 9, 10]\n",
    "print(numbers[3], numbers[4], numbers[5], numbers[6], numbers[7])"
   ]
  },
  {
   "cell_type": "code",
   "execution_count": null,
   "id": "9bcfce54-b39d-4ec4-a050-1d27b93f6d0d",
   "metadata": {},
   "outputs": [],
   "source": []
  }
 ],
 "metadata": {
  "kernelspec": {
   "display_name": "Python 3 (ipykernel)",
   "language": "python",
   "name": "python3"
  },
  "language_info": {
   "codemirror_mode": {
    "name": "ipython",
    "version": 3
   },
   "file_extension": ".py",
   "mimetype": "text/x-python",
   "name": "python",
   "nbconvert_exporter": "python",
   "pygments_lexer": "ipython3",
   "version": "3.10.10"
  }
 },
 "nbformat": 4,
 "nbformat_minor": 5
}
