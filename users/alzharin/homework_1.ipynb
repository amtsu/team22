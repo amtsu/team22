{
 "cells": [
  {
   "cell_type": "markdown",
   "id": "49820c41",
   "metadata": {},
   "source": [
    "# HW\n",
    "Ответьте на вопросы:\n",
    "\n",
    "- что такое программа?\n",
    "- зачем нужны программы?\n",
    "- зачем нужен язык программирования?\n",
    "- что могу программы?\n",
    "- из чего состоят программы?"
   ]
  },
  {
   "cell_type": "markdown",
   "id": "eebad9ed",
   "metadata": {},
   "source": [
    "Программа – это набор инструкций для определенного исполнителя.  \n",
    "Программы нужны для выполнения конкретных прикладных задач.  \n",
    "Язык программирования позволяет программисту точно определить то, на какие события будет реагировать компьютер, как будут храниться и передаваться данные, а также какие именно действия следует выполнять над этими данными при различных обстоятельствах.  \n",
    "Да все что угодно =)  \n",
    "Программа состоят из инструкций и операторов в логической последовательности.  "
   ]
  },
  {
   "cell_type": "markdown",
   "id": "cacb4b42",
   "metadata": {},
   "source": [
    "# HW\n",
    "Попробовать попользоваться питоном как калькулятором\n",
    "\n",
    "- сложите 13 и 22\n",
    "- перемножте 31 и 7\n",
    "- найдите целую часть от деления 132423 на 32\n",
    "- найдите остаток от деления 23423 на 43\n",
    "- возвеите в 4 стень число 5"
   ]
  },
  {
   "cell_type": "code",
   "execution_count": 2,
   "id": "5a1463aa",
   "metadata": {},
   "outputs": [
    {
     "data": {
      "text/plain": [
       "35"
      ]
     },
     "execution_count": 2,
     "metadata": {},
     "output_type": "execute_result"
    }
   ],
   "source": [
    "13+22"
   ]
  },
  {
   "cell_type": "code",
   "execution_count": 3,
   "id": "94e66f40",
   "metadata": {},
   "outputs": [
    {
     "data": {
      "text/plain": [
       "217"
      ]
     },
     "execution_count": 3,
     "metadata": {},
     "output_type": "execute_result"
    }
   ],
   "source": [
    "31*7"
   ]
  },
  {
   "cell_type": "code",
   "execution_count": 4,
   "id": "0bd0e94b",
   "metadata": {},
   "outputs": [
    {
     "data": {
      "text/plain": [
       "4138"
      ]
     },
     "execution_count": 4,
     "metadata": {},
     "output_type": "execute_result"
    }
   ],
   "source": [
    "132423//32"
   ]
  },
  {
   "cell_type": "code",
   "execution_count": 5,
   "id": "37d873be",
   "metadata": {},
   "outputs": [
    {
     "data": {
      "text/plain": [
       "31"
      ]
     },
     "execution_count": 5,
     "metadata": {},
     "output_type": "execute_result"
    }
   ],
   "source": [
    "23423%43"
   ]
  },
  {
   "cell_type": "code",
   "execution_count": 6,
   "id": "81007f71",
   "metadata": {},
   "outputs": [
    {
     "data": {
      "text/plain": [
       "1024"
      ]
     },
     "execution_count": 6,
     "metadata": {},
     "output_type": "execute_result"
    }
   ],
   "source": [
    "4**5"
   ]
  },
  {
   "cell_type": "markdown",
   "id": "ee1c8b66",
   "metadata": {},
   "source": [
    "# HW\n",
    "- зачем нужны переменные\n",
    "- зачем нужно имя у переменной\n",
    "- как узнать тип переменной\n",
    "- можно ли преобразовать строк в число? И если да то в каких случаях?\n",
    "- можно ли преобразовать число в строку? И если да то в каких случаях?"
   ]
  },
  {
   "cell_type": "markdown",
   "id": "54da95c4",
   "metadata": {},
   "source": [
    "Переменные используются для временного хранения какой-либо информации в программе.  \n",
    "Чтобы к ней можно было как нибудь обращаться.  \n",
    "type()  \n",
    "Можно, если в строке есть число и никаких лишних символов.  \n",
    "Можно всегда."
   ]
  },
  {
   "cell_type": "markdown",
   "id": "ef7809c3",
   "metadata": {},
   "source": [
    "# HW\n",
    "Пусть дана фраза \"i love to travel\". Напишите код для вычисление:\n",
    "\n",
    "- какой индекс будет у первой буквы t\n",
    "- какой индекс будет у буквы r\n",
    "- как вывести из строки слова с 2 по 6 индекс\n",
    "- какой какие индексы нужно указать в срезе чтобы вывести to\n",
    "- что будет если строку умножить на число 5\n",
    "- как понять содержит ли наша строка подстроку ral\n",
    "- с какого индекса начинается подстрока to\n",
    "- какая длину строки\n",
    "- измените первый символ в строке на заглавный\n",
    "- прибавьте к строке строку \" Hello!\""
   ]
  },
  {
   "cell_type": "code",
   "execution_count": 7,
   "id": "0b5c02f1",
   "metadata": {},
   "outputs": [],
   "source": [
    "a = 'i love to travel'"
   ]
  },
  {
   "cell_type": "code",
   "execution_count": 8,
   "id": "27bc20e0",
   "metadata": {},
   "outputs": [
    {
     "data": {
      "text/plain": [
       "7"
      ]
     },
     "execution_count": 8,
     "metadata": {},
     "output_type": "execute_result"
    }
   ],
   "source": [
    "a.index('t')"
   ]
  },
  {
   "cell_type": "code",
   "execution_count": 9,
   "id": "f18593d4",
   "metadata": {},
   "outputs": [
    {
     "data": {
      "text/plain": [
       "11"
      ]
     },
     "execution_count": 9,
     "metadata": {},
     "output_type": "execute_result"
    }
   ],
   "source": [
    "a.index('r')"
   ]
  },
  {
   "cell_type": "code",
   "execution_count": 10,
   "id": "0f7206aa",
   "metadata": {},
   "outputs": [
    {
     "data": {
      "text/plain": [
       "'love '"
      ]
     },
     "execution_count": 10,
     "metadata": {},
     "output_type": "execute_result"
    }
   ],
   "source": [
    "a[2:7]"
   ]
  },
  {
   "cell_type": "code",
   "execution_count": 11,
   "id": "ef4088aa",
   "metadata": {},
   "outputs": [
    {
     "data": {
      "text/plain": [
       "'to'"
      ]
     },
     "execution_count": 11,
     "metadata": {},
     "output_type": "execute_result"
    }
   ],
   "source": [
    "a[7:9]"
   ]
  },
  {
   "cell_type": "code",
   "execution_count": 12,
   "id": "2bb34ad3",
   "metadata": {},
   "outputs": [
    {
     "data": {
      "text/plain": [
       "'i love to traveli love to traveli love to traveli love to traveli love to travel'"
      ]
     },
     "execution_count": 12,
     "metadata": {},
     "output_type": "execute_result"
    }
   ],
   "source": [
    "a*5"
   ]
  },
  {
   "cell_type": "code",
   "execution_count": 15,
   "id": "2b87f0c2",
   "metadata": {},
   "outputs": [
    {
     "data": {
      "text/plain": [
       "-1"
      ]
     },
     "execution_count": 15,
     "metadata": {},
     "output_type": "execute_result"
    }
   ],
   "source": [
    "a.find('ral')"
   ]
  },
  {
   "cell_type": "code",
   "execution_count": 16,
   "id": "74b722c6",
   "metadata": {},
   "outputs": [
    {
     "data": {
      "text/plain": [
       "7"
      ]
     },
     "execution_count": 16,
     "metadata": {},
     "output_type": "execute_result"
    }
   ],
   "source": [
    "a.find('to')"
   ]
  },
  {
   "cell_type": "code",
   "execution_count": 17,
   "id": "068c5784",
   "metadata": {},
   "outputs": [
    {
     "data": {
      "text/plain": [
       "16"
      ]
     },
     "execution_count": 17,
     "metadata": {},
     "output_type": "execute_result"
    }
   ],
   "source": [
    "len(a)"
   ]
  },
  {
   "cell_type": "code",
   "execution_count": 18,
   "id": "23e3e8a8",
   "metadata": {},
   "outputs": [
    {
     "data": {
      "text/plain": [
       "'I love to travel'"
      ]
     },
     "execution_count": 18,
     "metadata": {},
     "output_type": "execute_result"
    }
   ],
   "source": [
    "a.capitalize()"
   ]
  },
  {
   "cell_type": "code",
   "execution_count": 19,
   "id": "e0c62393",
   "metadata": {},
   "outputs": [
    {
     "data": {
      "text/plain": [
       "'i love to travelHello!'"
      ]
     },
     "execution_count": 19,
     "metadata": {},
     "output_type": "execute_result"
    }
   ],
   "source": [
    "a + \"Hello!\""
   ]
  },
  {
   "cell_type": "markdown",
   "id": "a7d1b80d",
   "metadata": {},
   "source": [
    "# Задание №1: создайте список дел.\n",
    "После создания списка дел.\n",
    "\n",
    "- Нужно посчитать общее количество дел в списке.\n",
    "- Напечатать все дела\n",
    "- Напечатать только 2 и 5 дело\n",
    "- Сравнить каждое дело из списка с строкой “buy bread” и если оно совпадает то напечатать YES\n",
    "- Если каждое дело из списка ваших дела написано на английском и является строкой то вывести длину каждой из этих строк\n",
    "- Напечатать yes если длина строки в которой записано дело больше 10\n",
    "- Напечатать дела индекс которых в списке делится без остатка на 2\n",
    "- Напечатать дело с индексом 1 и 4 из списка запланированных дел\n",
    "- Напечатать те индексы у которых значения в списке запланированных дат и списке реализованных дат равны друг другу\n",
    "- Вывести только те дела которые вы сделали в тот же день в который их запланировали\n",
    "- Посчитать сколько дел у вас было одинаковых ( т.е. если есть запись “купить хлеб” 28-08-2022 и “купить хлеб” 14-08-2022 то финально нужно вывести “купить хлеб” 2 (можно сделать 2 варианта без использования словарей и с испольщованием словарям)"
   ]
  },
  {
   "cell_type": "code",
   "execution_count": 32,
   "id": "bdd9e5fb",
   "metadata": {},
   "outputs": [],
   "source": [
    "dela = [['Дело №1', 'купить хлеб', '28-08-2022', '28-08-2022'], ['Дело №2', 'помыть полы', '28-08-2022', '-'],\n",
    "        ['Дело №3', 'купить канифоль', '29-08-2022', '-'], ['Дело №4', 'отвезти собаку к маме', '30-08-2022', '-'],\n",
    "        ['Дело №5', 'сходить в кино', '25-08-2022', '26-08-2022'], ['Дело №6', 'сходить в бар', '23-08-2022', '23-08-2022'],\n",
    "        ['Дело №7', 'пойти на работу', '25-08-2022', '25-08-2022'], ['Дело №8', 'пойти на работу', '26-08-2022', '26-08-2022'],\n",
    "        ['Дело №9', 'пойти на работу', '27-08-2022', '27-08-2022'], ['Дело №10', 'пойти на работу', '28-08-2022', '28-08-2022'],\n",
    "        ['Дело №11', 'пойти на работу', '29-08-2022', '-'], ['Дело №12', 'купить рыбу', '29-08-2022', '-']]"
   ]
  },
  {
   "cell_type": "code",
   "execution_count": 33,
   "id": "d2f50fd8",
   "metadata": {},
   "outputs": [
    {
     "data": {
      "text/plain": [
       "12"
      ]
     },
     "execution_count": 33,
     "metadata": {},
     "output_type": "execute_result"
    }
   ],
   "source": [
    "len(dela)"
   ]
  },
  {
   "cell_type": "code",
   "execution_count": 34,
   "id": "a5b70201",
   "metadata": {},
   "outputs": [
    {
     "name": "stdout",
     "output_type": "stream",
     "text": [
      "купить хлеб\n",
      "помыть полы\n",
      "купить канифоль\n",
      "отвезти собаку к маме\n",
      "сходить в кино\n",
      "сходить в бар\n",
      "пойти на работу\n",
      "пойти на работу\n",
      "пойти на работу\n",
      "пойти на работу\n",
      "пойти на работу\n",
      "купить рыбу\n"
     ]
    }
   ],
   "source": [
    "for a in dela:\n",
    "    print(a[1])"
   ]
  },
  {
   "cell_type": "code",
   "execution_count": 35,
   "id": "2ec06234",
   "metadata": {},
   "outputs": [
    {
     "name": "stdout",
     "output_type": "stream",
     "text": [
      "помыть полы \n",
      " сходить в кино\n"
     ]
    }
   ],
   "source": [
    "print(dela[1][1], '\\n',dela[4][1])"
   ]
  },
  {
   "cell_type": "code",
   "execution_count": 36,
   "id": "32edcf2b",
   "metadata": {},
   "outputs": [],
   "source": [
    "for a in dela:\n",
    "    if a[1] == 'buy bread':\n",
    "        print('YES')"
   ]
  },
  {
   "cell_type": "code",
   "execution_count": 37,
   "id": "4acb464a",
   "metadata": {},
   "outputs": [
    {
     "name": "stdout",
     "output_type": "stream",
     "text": [
      "11\n",
      "11\n",
      "15\n",
      "21\n",
      "14\n",
      "13\n",
      "15\n",
      "15\n",
      "15\n",
      "15\n",
      "15\n",
      "11\n"
     ]
    }
   ],
   "source": [
    "# на английском ничего нет, но все равно вывел длины строк дел\n",
    "for a in dela:\n",
    "    print(len(a[1]))"
   ]
  },
  {
   "cell_type": "code",
   "execution_count": 38,
   "id": "4331e35e",
   "metadata": {},
   "outputs": [
    {
     "name": "stdout",
     "output_type": "stream",
     "text": [
      "купить хлеб\n",
      "купить канифоль\n",
      "сходить в кино\n",
      "пойти на работу\n",
      "пойти на работу\n",
      "пойти на работу\n"
     ]
    }
   ],
   "source": [
    "for i in range(0, len(dela), 2):\n",
    "    print(dela[i][1])"
   ]
  },
  {
   "cell_type": "code",
   "execution_count": 39,
   "id": "1b19477b",
   "metadata": {},
   "outputs": [
    {
     "name": "stdout",
     "output_type": "stream",
     "text": [
      "купить канифоль\n",
      "купить рыбу\n"
     ]
    }
   ],
   "source": [
    "k = -1\n",
    "for a in dela:\n",
    "    if a[3] == '-':\n",
    "        k += 1\n",
    "        if k == 1 or k == 4:\n",
    "            print(a[1])"
   ]
  },
  {
   "cell_type": "code",
   "execution_count": 42,
   "id": "b883e74d",
   "metadata": {},
   "outputs": [
    {
     "name": "stdout",
     "output_type": "stream",
     "text": [
      "0\n",
      "5\n",
      "6\n",
      "7\n",
      "8\n",
      "9\n"
     ]
    }
   ],
   "source": [
    "for a in dela:\n",
    "    if a[2] == a[3]:\n",
    "        print(dela.index(a))"
   ]
  },
  {
   "cell_type": "code",
   "execution_count": 43,
   "id": "917d2fb5",
   "metadata": {},
   "outputs": [
    {
     "name": "stdout",
     "output_type": "stream",
     "text": [
      "купить хлеб\n",
      "сходить в бар\n",
      "пойти на работу\n",
      "пойти на работу\n",
      "пойти на работу\n",
      "пойти на работу\n"
     ]
    }
   ],
   "source": [
    "for a in dela:\n",
    "    if a[2] == a[3]:\n",
    "        print(a[1])"
   ]
  },
  {
   "cell_type": "code",
   "execution_count": 50,
   "id": "0f74faf9",
   "metadata": {},
   "outputs": [
    {
     "name": "stdout",
     "output_type": "stream",
     "text": [
      "пойти на работу 5\n"
     ]
    }
   ],
   "source": [
    "from collections import Counter\n",
    "b = [x[1] for x in dela]\n",
    "counter = Counter(b)\n",
    "for key in counter.keys():\n",
    "    if counter[key] > 1:\n",
    "        print(key, counter[key])"
   ]
  },
  {
   "cell_type": "markdown",
   "id": "f894cb78",
   "metadata": {},
   "source": [
    "# Задание №2: создайте список расхдов и доходов.\n",
    "\n",
    "- добавить к списку еще 2 действия\n",
    "- посчитать сколько всего действий в вашем списке\n",
    "- посчитайте сколько всего вы потратили за все время\n",
    "- посчитать сколько трат было меньше 300 рублей\n",
    "- посчитать сколько сумму трат которые были больше 10000 рублей\n",
    "- выдать номера трат которые находятся в диапазоне между 300 и 10000 рублей\n",
    "- выбрать из списка на втором шаге самую минимальную трату\n",
    "- посчитать сколько трат было меньше 300 рублей\n",
    "- посчитайте сколько заработали за все время\n",
    "- посчитайте какие самые частые у вас траты(можно попробовать с использованием словарей)\n",
    "- добавить к списку еще 3 действия\n",
    "- Найти максимальную трату\n",
    "- Найти минимальный доход\n",
    "- Посчитать среднюю стоимость ваших трат"
   ]
  },
  {
   "cell_type": "code",
   "execution_count": 76,
   "id": "4fb62145",
   "metadata": {},
   "outputs": [],
   "source": [
    "traty = [['№1', 'купил хлеб', -50, '01-11-2022'], ['№2', 'купил шоколадку', -100, '02-11-2022'], \n",
    "         ['№3', 'купил паяльник', -1000, '07-11-2022'], ['№4', 'купил игру в стиме =)', -3000, '08-11-2022'],\n",
    "         ['№5', 'зп', 50000, '10-11-2022'], ['№6', 'купил 5 бутылок рома', -15000, '10-11-2022'],\n",
    "         ['№7', 'оплатил интернет', -400, '14-11-2022'], ['№8', 'оплатил мобильную связь', -500, '16-11-2022'],\n",
    "         ['№9', 'купил новый телефон', -20000, '23-11-2022'], ['№10', 'зп', 40000, '25-11-2022']]"
   ]
  },
  {
   "cell_type": "code",
   "execution_count": 77,
   "id": "64f651b2",
   "metadata": {},
   "outputs": [],
   "source": [
    "traty.append(['№11', 'купил хлеб', -50, '26-11-2022'])\n",
    "traty.append(['№12', 'купил соль', -20, '26-11-2022'])"
   ]
  },
  {
   "cell_type": "code",
   "execution_count": 78,
   "id": "bed59895",
   "metadata": {},
   "outputs": [
    {
     "data": {
      "text/plain": [
       "12"
      ]
     },
     "execution_count": 78,
     "metadata": {},
     "output_type": "execute_result"
    }
   ],
   "source": [
    "len(traty)"
   ]
  },
  {
   "cell_type": "code",
   "execution_count": 79,
   "id": "0eebe172",
   "metadata": {},
   "outputs": [
    {
     "name": "stdout",
     "output_type": "stream",
     "text": [
      "-40120\n"
     ]
    }
   ],
   "source": [
    "summ = 0\n",
    "for a in traty:\n",
    "    if a[2] < 0:\n",
    "        summ += a[2]\n",
    "print(summ)"
   ]
  },
  {
   "cell_type": "code",
   "execution_count": 80,
   "id": "74c5a59b",
   "metadata": {},
   "outputs": [
    {
     "name": "stdout",
     "output_type": "stream",
     "text": [
      "4\n"
     ]
    }
   ],
   "source": [
    "k = 0\n",
    "for a in traty:\n",
    "    if a[2] < 0 and a[2] > -300:\n",
    "        k += 1\n",
    "print(k)"
   ]
  },
  {
   "cell_type": "code",
   "execution_count": 81,
   "id": "7eb85628",
   "metadata": {},
   "outputs": [
    {
     "name": "stdout",
     "output_type": "stream",
     "text": [
      "-35000\n"
     ]
    }
   ],
   "source": [
    "summ = 0\n",
    "for a in traty:\n",
    "    if a[2] < -10000:\n",
    "        summ += a[2]\n",
    "print(summ)"
   ]
  },
  {
   "cell_type": "code",
   "execution_count": 82,
   "id": "33a7bfad",
   "metadata": {},
   "outputs": [
    {
     "name": "stdout",
     "output_type": "stream",
     "text": [
      "90000\n"
     ]
    }
   ],
   "source": [
    "summ = 0\n",
    "for a in traty:\n",
    "    if a[2] > 0:\n",
    "        summ += a[2]\n",
    "print(summ)"
   ]
  },
  {
   "cell_type": "code",
   "execution_count": 88,
   "id": "c6ff4818",
   "metadata": {},
   "outputs": [
    {
     "name": "stdout",
     "output_type": "stream",
     "text": [
      "Counter({-50: 2, -100: 1, -1000: 1, -3000: 1, -15000: 1, -400: 1, -500: 1, -20000: 1, -20: 1, -600: 1, -1300: 1, -430: 1})\n"
     ]
    }
   ],
   "source": [
    "from collections import Counter\n",
    "b = [x[2] for x in traty if x[2] < 0]\n",
    "counter = Counter(b)\n",
    "print(counter)"
   ]
  },
  {
   "cell_type": "code",
   "execution_count": 89,
   "id": "ad0d25cf",
   "metadata": {},
   "outputs": [],
   "source": [
    "traty.append(['№13', 'купил рыбу', -600, '26-11-2022'])\n",
    "traty.append(['№14', 'купил мясо', -1300, '26-11-2022'])\n",
    "traty.append(['№14', 'купил овощи', -430, '26-11-2022'])"
   ]
  },
  {
   "cell_type": "code",
   "execution_count": 90,
   "id": "f5331fa0",
   "metadata": {},
   "outputs": [
    {
     "name": "stdout",
     "output_type": "stream",
     "text": [
      "-20000\n"
     ]
    }
   ],
   "source": [
    "b = [x[2] for x in traty if x[2] < 0]\n",
    "print(min(b))"
   ]
  },
  {
   "cell_type": "code",
   "execution_count": 91,
   "id": "b3c31ac4",
   "metadata": {},
   "outputs": [
    {
     "name": "stdout",
     "output_type": "stream",
     "text": [
      "50000\n"
     ]
    }
   ],
   "source": [
    "c = [x[2] for x in traty if x[2] > 0]\n",
    "print(max(c))"
   ]
  },
  {
   "cell_type": "code",
   "execution_count": 92,
   "id": "83319995",
   "metadata": {},
   "outputs": [
    {
     "name": "stdout",
     "output_type": "stream",
     "text": [
      "-2798.75\n"
     ]
    }
   ],
   "source": [
    "print(sum(b)/len(b))"
   ]
  }
 ],
 "metadata": {
  "kernelspec": {
   "display_name": "Python 3 (ipykernel)",
   "language": "python",
   "name": "python3"
  },
  "language_info": {
   "codemirror_mode": {
    "name": "ipython",
    "version": 3
   },
   "file_extension": ".py",
   "mimetype": "text/x-python",
   "name": "python",
   "nbconvert_exporter": "python",
   "pygments_lexer": "ipython3",
   "version": "3.9.7"
  }
 },
 "nbformat": 4,
 "nbformat_minor": 5
}
