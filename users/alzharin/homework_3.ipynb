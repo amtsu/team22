{
 "cells": [
  {
   "cell_type": "markdown",
   "id": "26c46241",
   "metadata": {},
   "source": [
    "# Упражнения\n",
    "Написать функцию, которая превращает любую переданную ей строку в такую же строку, записанную два раза."
   ]
  },
  {
   "cell_type": "code",
   "execution_count": 1,
   "id": "9b388430",
   "metadata": {},
   "outputs": [
    {
     "name": "stdout",
     "output_type": "stream",
     "text": [
      "asdfasdf\n"
     ]
    }
   ],
   "source": [
    "def double_string(string):\n",
    "    return string * 2\n",
    "\n",
    "print(double_string(\"asdf\"))"
   ]
  },
  {
   "cell_type": "markdown",
   "id": "8f5e4008",
   "metadata": {},
   "source": [
    "Сделать в предыдущей задаче так, чтобы два повторения строки разделялись пробелами."
   ]
  },
  {
   "cell_type": "code",
   "execution_count": 3,
   "id": "41d72ccb",
   "metadata": {},
   "outputs": [
    {
     "name": "stdout",
     "output_type": "stream",
     "text": [
      "asdf asdf\n"
     ]
    }
   ],
   "source": [
    "def double_string(string):\n",
    "    return string + \" \" + string\n",
    "\n",
    "#print(double_string(\"asdf\"), end=\", \")\n",
    "print(double_string(\"asdf\"))"
   ]
  },
  {
   "cell_type": "code",
   "execution_count": 4,
   "id": "5d711a3f",
   "metadata": {},
   "outputs": [
    {
     "name": "stdout",
     "output_type": "stream",
     "text": [
      "asdf asdf\n",
      "['a', 'f a', 'f']\n"
     ]
    }
   ],
   "source": [
    "def double_string(string):\n",
    "    return ' '.join([string]*2)\n",
    "\n",
    "st = double_string(\"asdf\")\n",
    "print(st)\n",
    "list_new = st.split('sd')\n",
    "print(list_new)"
   ]
  },
  {
   "cell_type": "markdown",
   "id": "3c78ee9f",
   "metadata": {},
   "source": [
    "Реализовать функцию, вычисляющую сумму квадратов двух переданных ей аргументов."
   ]
  },
  {
   "cell_type": "code",
   "execution_count": 5,
   "id": "82f35052",
   "metadata": {},
   "outputs": [
    {
     "name": "stdout",
     "output_type": "stream",
     "text": [
      "5\n"
     ]
    }
   ],
   "source": [
    "def a(x, y):\n",
    "    return x**2 + y**2\n",
    "\n",
    "print(a(1,2))"
   ]
  },
  {
   "cell_type": "markdown",
   "id": "51ba93a7",
   "metadata": {},
   "source": [
    "Реализовать функцию, вычисляющую длину гипотенузы прямоугольного треугольника. Параметры – длины катетов."
   ]
  },
  {
   "cell_type": "code",
   "execution_count": 12,
   "id": "48a80a04",
   "metadata": {},
   "outputs": [],
   "source": [
    "plan_time_take = 5"
   ]
  },
  {
   "cell_type": "code",
   "execution_count": 13,
   "id": "3bd3c93e",
   "metadata": {},
   "outputs": [],
   "source": [
    "def gip(a,b):\n",
    "    return (a**2 + b**2)**(1/2)"
   ]
  },
  {
   "cell_type": "code",
   "execution_count": 15,
   "id": "7e7f59a1",
   "metadata": {},
   "outputs": [],
   "source": [
    "fact_time_take = 3"
   ]
  },
  {
   "cell_type": "code",
   "execution_count": 34,
   "id": "8a999b4c",
   "metadata": {},
   "outputs": [
    {
     "name": "stdout",
     "output_type": "stream",
     "text": [
      "diff = -2\n"
     ]
    }
   ],
   "source": [
    "print('diff = %s' %(fact_time_take - plan_time_take))"
   ]
  },
  {
   "cell_type": "code",
   "execution_count": 33,
   "id": "51fdd337",
   "metadata": {},
   "outputs": [
    {
     "name": "stdout",
     "output_type": "stream",
     "text": [
      "percent_fact_plan = 60.0\n"
     ]
    }
   ],
   "source": [
    "print('percent_fact_plan = %s' %(fact_time_take / plan_time_take * 100))"
   ]
  },
  {
   "cell_type": "markdown",
   "id": "94425e42",
   "metadata": {},
   "source": [
    "Перепешите функцию из предыдущего задания используя следующие воодные:\n",
    "\n",
    "Указание: для вычисления квадратного корня можно возвести число в степень 0,5.\n",
    "Можно использовать функцию, написанную в предыдущей задаче."
   ]
  },
  {
   "cell_type": "code",
   "execution_count": 35,
   "id": "c958aaae",
   "metadata": {},
   "outputs": [],
   "source": [
    "plan_time_take = 1"
   ]
  },
  {
   "cell_type": "code",
   "execution_count": 40,
   "id": "a16d3d71",
   "metadata": {},
   "outputs": [],
   "source": [
    "def gip(a,b): #просто сразу так и сделал =)\n",
    "    return (a**2 + b**2)**(1/2)"
   ]
  },
  {
   "cell_type": "code",
   "execution_count": 37,
   "id": "043d7895",
   "metadata": {},
   "outputs": [],
   "source": [
    "fact_time_take = 1"
   ]
  },
  {
   "cell_type": "code",
   "execution_count": 38,
   "id": "efa5dcc4",
   "metadata": {},
   "outputs": [
    {
     "name": "stdout",
     "output_type": "stream",
     "text": [
      "diff = 0\n"
     ]
    }
   ],
   "source": [
    "print('diff = %s' %(fact_time_take - plan_time_take))"
   ]
  },
  {
   "cell_type": "code",
   "execution_count": 39,
   "id": "2dfd4491",
   "metadata": {},
   "outputs": [
    {
     "name": "stdout",
     "output_type": "stream",
     "text": [
      "percent_fact_plan = 100.0\n"
     ]
    }
   ],
   "source": [
    "print('percent_fact_plan = %s' %(fact_time_take / plan_time_take * 100))"
   ]
  },
  {
   "cell_type": "markdown",
   "id": "19a4923b",
   "metadata": {},
   "source": [
    "Написать функцию arithmetic, принимающую 3 аргумента: первые два - числа, третий - операция, которая должна быть произведена над ними.\n",
    "\n",
    "Если третий аргумент равен ‘+’, сложить их; ‘—’ -вычесть; ‘*’ — умножить; ‘/’ — разделить. В остальных случаях вернуть строку \"Неизвестная операция\".\n",
    "Ожидаемый результат:"
   ]
  },
  {
   "cell_type": "code",
   "execution_count": 41,
   "id": "e3977f21",
   "metadata": {},
   "outputs": [],
   "source": [
    "plan_time_take = 5"
   ]
  },
  {
   "cell_type": "code",
   "execution_count": 45,
   "id": "065b8de0",
   "metadata": {},
   "outputs": [],
   "source": [
    "def arithmetic(a,b,c):\n",
    "    if c == '+':\n",
    "        return a + b\n",
    "    elif c == '-':\n",
    "        return a - b\n",
    "    elif c == '*':\n",
    "        return a * b\n",
    "    elif c == '/':\n",
    "        return a / b\n",
    "    else:\n",
    "        print( \"Неизвестная операция\")"
   ]
  },
  {
   "cell_type": "code",
   "execution_count": 46,
   "id": "5c1dcf29",
   "metadata": {},
   "outputs": [],
   "source": [
    "fact_time_take = 2"
   ]
  },
  {
   "cell_type": "code",
   "execution_count": 47,
   "id": "6b1f2b97",
   "metadata": {},
   "outputs": [
    {
     "name": "stdout",
     "output_type": "stream",
     "text": [
      "diff = -3\n"
     ]
    }
   ],
   "source": [
    "print('diff = %s' %(fact_time_take - plan_time_take))"
   ]
  },
  {
   "cell_type": "code",
   "execution_count": 48,
   "id": "c294b7b7",
   "metadata": {},
   "outputs": [
    {
     "name": "stdout",
     "output_type": "stream",
     "text": [
      "percent_fact_plan = 40.0\n"
     ]
    }
   ],
   "source": [
    "print('percent_fact_plan = %s' %(fact_time_take / plan_time_take * 100))"
   ]
  },
  {
   "cell_type": "markdown",
   "id": "75cd0930",
   "metadata": {},
   "source": [
    "Написать функцию square_parameters, принимающую 1 аргумент — сторону квадрата, и возвращающую 3 значения: периметр квадрата, площадь квадрата и диагональ квадрата."
   ]
  },
  {
   "cell_type": "code",
   "execution_count": 49,
   "id": "ea805cb9",
   "metadata": {},
   "outputs": [],
   "source": [
    "plan_time_take = 5"
   ]
  },
  {
   "cell_type": "code",
   "execution_count": 51,
   "id": "98b7ab9a",
   "metadata": {},
   "outputs": [
    {
     "data": {
      "text/plain": [
       "(12, 9, 4.242640687119286)"
      ]
     },
     "execution_count": 51,
     "metadata": {},
     "output_type": "execute_result"
    }
   ],
   "source": [
    "def square_parameters(a):\n",
    "    P = 4 * a\n",
    "    S = a ** 2\n",
    "    d = a * 2 ** (1/2)\n",
    "    return P, S, d"
   ]
  },
  {
   "cell_type": "code",
   "execution_count": 52,
   "id": "8cc381a2",
   "metadata": {},
   "outputs": [],
   "source": [
    "fact_time_take = 2"
   ]
  },
  {
   "cell_type": "code",
   "execution_count": 53,
   "id": "2e77f6eb",
   "metadata": {},
   "outputs": [
    {
     "name": "stdout",
     "output_type": "stream",
     "text": [
      "diff = -3\n"
     ]
    }
   ],
   "source": [
    "print('diff = %s' %(fact_time_take - plan_time_take))"
   ]
  },
  {
   "cell_type": "code",
   "execution_count": 54,
   "id": "7402a6d0",
   "metadata": {},
   "outputs": [
    {
     "name": "stdout",
     "output_type": "stream",
     "text": [
      "percent_fact_plan = 40.0\n"
     ]
    }
   ],
   "source": [
    "print('percent_fact_plan = %s' %(fact_time_take / plan_time_take * 100))"
   ]
  },
  {
   "cell_type": "markdown",
   "id": "e75070d2",
   "metadata": {},
   "source": [
    "Написать функцию is_prime, принимающую 1 аргумент — число, и определяющее, простое оно или составное.\n",
    "\n",
    "Простые числа делятся без остатка только на 1 и на самого себя. Если число делится без остатка на какое-то другое число, то оно составное."
   ]
  },
  {
   "cell_type": "code",
   "execution_count": 55,
   "id": "be11c90e",
   "metadata": {},
   "outputs": [],
   "source": [
    "plan_time_take = 10"
   ]
  },
  {
   "cell_type": "code",
   "execution_count": 70,
   "id": "8fb63d12",
   "metadata": {},
   "outputs": [
    {
     "name": "stdout",
     "output_type": "stream",
     "text": [
      "Единица не является ни простым ни составным\n"
     ]
    }
   ],
   "source": [
    "def is_prime(a):\n",
    "    d = 0\n",
    "    for i in range(1,a+1):\n",
    "        if a % i == 0:\n",
    "            d += 1\n",
    "            \n",
    "    if a <= 0:\n",
    "        print('Только для положительныз чисел')\n",
    "    elif d == 1:\n",
    "        print('Единица не является ни простым ни составным')\n",
    "    elif d == 2:\n",
    "        print(\"Простое\")\n",
    "    else:\n",
    "        print('Составное')\n",
    "        \n",
    "is_prime(1)"
   ]
  },
  {
   "cell_type": "code",
   "execution_count": null,
   "id": "970bd440",
   "metadata": {},
   "outputs": [],
   "source": [
    "fact_time_take = 4"
   ]
  },
  {
   "cell_type": "code",
   "execution_count": 71,
   "id": "a68ee931",
   "metadata": {},
   "outputs": [
    {
     "name": "stdout",
     "output_type": "stream",
     "text": [
      "diff = -8\n"
     ]
    }
   ],
   "source": [
    "print('diff = %s' %(fact_time_take - plan_time_take))"
   ]
  },
  {
   "cell_type": "code",
   "execution_count": 72,
   "id": "f8c5cbc0",
   "metadata": {},
   "outputs": [
    {
     "name": "stdout",
     "output_type": "stream",
     "text": [
      "percent_fact_plan = 20.0\n"
     ]
    }
   ],
   "source": [
    "print('percent_fact_plan = %s' %(fact_time_take / plan_time_take * 100))"
   ]
  },
  {
   "cell_type": "markdown",
   "id": "71ad8208",
   "metadata": {},
   "source": [
    "Написать функцию is_palindrome, принимающую 1 аргумент — строку (без пробелов, строчные буквы), и определяющее, является ли она палиндромом, т.е. читается одинаково слева направо и справа налево. Если да, вернуть True, иначе False."
   ]
  },
  {
   "cell_type": "code",
   "execution_count": 73,
   "id": "a5ead967",
   "metadata": {},
   "outputs": [],
   "source": [
    "plan_time_take = 7"
   ]
  },
  {
   "cell_type": "code",
   "execution_count": 84,
   "id": "29d1c3b5",
   "metadata": {},
   "outputs": [
    {
     "data": {
      "text/plain": [
       "False"
      ]
     },
     "execution_count": 84,
     "metadata": {},
     "output_type": "execute_result"
    }
   ],
   "source": [
    "def is_palindrome(a):\n",
    "    return a == a[::-1]"
   ]
  },
  {
   "cell_type": "code",
   "execution_count": 85,
   "id": "106c5913",
   "metadata": {},
   "outputs": [],
   "source": [
    "fact_time_take = 4"
   ]
  },
  {
   "cell_type": "code",
   "execution_count": 86,
   "id": "6849a8b5",
   "metadata": {},
   "outputs": [
    {
     "name": "stdout",
     "output_type": "stream",
     "text": [
      "diff = -3\n"
     ]
    }
   ],
   "source": [
    "print('diff = %s' %(fact_time_take - plan_time_take))"
   ]
  },
  {
   "cell_type": "code",
   "execution_count": 87,
   "id": "003624c7",
   "metadata": {},
   "outputs": [
    {
     "name": "stdout",
     "output_type": "stream",
     "text": [
      "percent_fact_plan = 57.14285714285714\n"
     ]
    }
   ],
   "source": [
    "print('percent_fact_plan = %s' %(fact_time_take / plan_time_take * 100))"
   ]
  },
  {
   "cell_type": "markdown",
   "id": "6bd12366",
   "metadata": {},
   "source": [
    "Как решить предыдущую задачу с помощью срезов?"
   ]
  },
  {
   "cell_type": "code",
   "execution_count": 88,
   "id": "8c9a15b9",
   "metadata": {},
   "outputs": [],
   "source": [
    "plan_time_take = 1"
   ]
  },
  {
   "cell_type": "code",
   "execution_count": 90,
   "id": "ea1ae564",
   "metadata": {},
   "outputs": [],
   "source": [
    "def is_palindrome(a): #просто сразу так и сделал =)\n",
    "    return a == a[::-1]"
   ]
  },
  {
   "cell_type": "code",
   "execution_count": 92,
   "id": "ca01d799",
   "metadata": {},
   "outputs": [],
   "source": [
    "fact_time_take = 1"
   ]
  },
  {
   "cell_type": "code",
   "execution_count": 93,
   "id": "228b8d5e",
   "metadata": {},
   "outputs": [
    {
     "name": "stdout",
     "output_type": "stream",
     "text": [
      "diff = 0\n"
     ]
    }
   ],
   "source": [
    "print('diff = %s' %(fact_time_take - plan_time_take))"
   ]
  },
  {
   "cell_type": "code",
   "execution_count": 94,
   "id": "ebb15dde",
   "metadata": {},
   "outputs": [
    {
     "name": "stdout",
     "output_type": "stream",
     "text": [
      "percent_fact_plan = 100.0\n"
     ]
    }
   ],
   "source": [
    "print('percent_fact_plan = %s' %(fact_time_take / plan_time_take * 100))"
   ]
  },
  {
   "cell_type": "markdown",
   "id": "24360247",
   "metadata": {},
   "source": [
    "Как решить предыдущую задачу если сразу вернуть результат?"
   ]
  },
  {
   "cell_type": "code",
   "execution_count": 95,
   "id": "df9b6648",
   "metadata": {},
   "outputs": [],
   "source": [
    "plan_time_take = 1"
   ]
  },
  {
   "cell_type": "code",
   "execution_count": 96,
   "id": "e2fc0ea5",
   "metadata": {},
   "outputs": [],
   "source": [
    "def is_palindrome(a): #просто сразу так и сделал =)\n",
    "    return a == a[::-1]"
   ]
  },
  {
   "cell_type": "code",
   "execution_count": 97,
   "id": "44551dce",
   "metadata": {},
   "outputs": [],
   "source": [
    "fact_time_take = 1"
   ]
  },
  {
   "cell_type": "code",
   "execution_count": 98,
   "id": "4a536cad",
   "metadata": {},
   "outputs": [
    {
     "name": "stdout",
     "output_type": "stream",
     "text": [
      "diff = 0\n"
     ]
    }
   ],
   "source": [
    "print('diff = %s' %(fact_time_take - plan_time_take))"
   ]
  },
  {
   "cell_type": "code",
   "execution_count": 99,
   "id": "72e1cc79",
   "metadata": {},
   "outputs": [
    {
     "name": "stdout",
     "output_type": "stream",
     "text": [
      "percent_fact_plan = 100.0\n"
     ]
    }
   ],
   "source": [
    "print('percent_fact_plan = %s' %(fact_time_take / plan_time_take * 100))"
   ]
  },
  {
   "cell_type": "markdown",
   "id": "afa237cf",
   "metadata": {},
   "source": [
    "Усовершенствовать предыдущую функцию, чтобы проверяемая строка могла содержать пробелы, а также прописные и строчные буквы.\n",
    "\n",
    "* Кидал в зубра арбуз Вадик"
   ]
  },
  {
   "cell_type": "code",
   "execution_count": 107,
   "id": "f397930b",
   "metadata": {},
   "outputs": [],
   "source": [
    "plan_time_take = 1"
   ]
  },
  {
   "cell_type": "code",
   "execution_count": 108,
   "id": "f1b364b5",
   "metadata": {},
   "outputs": [],
   "source": [
    "def is_palindrome(a): #просто сразу так и сделал =)\n",
    "    return a == a[::-1]"
   ]
  },
  {
   "cell_type": "code",
   "execution_count": 109,
   "id": "d1a3ad67",
   "metadata": {},
   "outputs": [],
   "source": [
    "fact_time_take = 1"
   ]
  },
  {
   "cell_type": "code",
   "execution_count": 110,
   "id": "6f9af504",
   "metadata": {},
   "outputs": [
    {
     "name": "stdout",
     "output_type": "stream",
     "text": [
      "diff = 0\n"
     ]
    }
   ],
   "source": [
    "print('diff = %s' %(fact_time_take - plan_time_take))"
   ]
  },
  {
   "cell_type": "code",
   "execution_count": 111,
   "id": "3650e880",
   "metadata": {},
   "outputs": [
    {
     "name": "stdout",
     "output_type": "stream",
     "text": [
      "percent_fact_plan = 100.0\n"
     ]
    }
   ],
   "source": [
    "print('percent_fact_plan = %s' %(fact_time_take / plan_time_take * 100))"
   ]
  },
  {
   "cell_type": "code",
   "execution_count": null,
   "id": "5f9156a6",
   "metadata": {},
   "outputs": [],
   "source": []
  }
 ],
 "metadata": {
  "kernelspec": {
   "display_name": "Python 3 (ipykernel)",
   "language": "python",
   "name": "python3"
  },
  "language_info": {
   "codemirror_mode": {
    "name": "ipython",
    "version": 3
   },
   "file_extension": ".py",
   "mimetype": "text/x-python",
   "name": "python",
   "nbconvert_exporter": "python",
   "pygments_lexer": "ipython3",
   "version": "3.9.7"
  }
 },
 "nbformat": 4,
 "nbformat_minor": 5
}
