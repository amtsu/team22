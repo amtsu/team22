{
 "cells": [
  {
   "cell_type": "markdown",
   "id": "eb700aa7",
   "metadata": {},
   "source": [
    "# Реализовать на python базу данных по персоналу с двумя таблицами из занятия.  Заполнить ее данными."
   ]
  },
  {
   "cell_type": "code",
   "execution_count": 7,
   "id": "de3df59a",
   "metadata": {},
   "outputs": [],
   "source": [
    "import sqlite3"
   ]
  },
  {
   "cell_type": "code",
   "execution_count": 8,
   "id": "d0d99733",
   "metadata": {},
   "outputs": [
    {
     "name": "stdout",
     "output_type": "stream",
     "text": [
      "База данных создана и успешно подключена к SQLite\n"
     ]
    }
   ],
   "source": [
    "sqlite_connection = sqlite3.connect('sql_work.db')\n",
    "cursor = sqlite_connection.cursor()\n",
    "print(\"База данных создана и успешно подключена к SQLite\")"
   ]
  },
  {
   "cell_type": "code",
   "execution_count": 9,
   "id": "6ac6444c",
   "metadata": {},
   "outputs": [
    {
     "data": {
      "text/plain": [
       "<sqlite3.Cursor at 0x7f40341c5030>"
      ]
     },
     "execution_count": 9,
     "metadata": {},
     "output_type": "execute_result"
    }
   ],
   "source": [
    "table_Employees = \"create table Employees(id int, name varchar(20), surname varchar(20), department_id int, salary int)\"\n",
    "cursor.execute(table_Employees)"
   ]
  },
  {
   "cell_type": "code",
   "execution_count": 10,
   "id": "b9d268d5",
   "metadata": {},
   "outputs": [
    {
     "data": {
      "text/plain": [
       "[]"
      ]
     },
     "execution_count": 10,
     "metadata": {},
     "output_type": "execute_result"
    }
   ],
   "source": [
    "cursor.execute(\"\"\"\n",
    "    insert into Employees(id, name, surname, department_id, salary) \n",
    "        values\n",
    "        (1, 'Иван', 'Иванов', 1, 5000),\n",
    "        (2, 'Света', 'Сидорова', 1, 4500),\n",
    "        (3, 'Илья', 'Макаров', 2, 4500),\n",
    "        (4, 'Марина', 'Федорова', 2, 6000),\n",
    "        (5, 'Вадим', 'Ильин', 3, 7000),\n",
    "        (6, 'Илья', 'Филатов', 4, 5500),\n",
    "        (7, 'Марина', 'Сидорова', 2, 9000),\n",
    "        (8, 'Вадим', 'Ильин', 3, 7000)\n",
    "\"\"\")\n",
    "cursor.fetchall()"
   ]
  },
  {
   "cell_type": "code",
   "execution_count": 11,
   "id": "94a706a3",
   "metadata": {},
   "outputs": [
    {
     "data": {
      "text/plain": [
       "[(1, 'Иван', 'Иванов', 1, 5000),\n",
       " (2, 'Света', 'Сидорова', 1, 4500),\n",
       " (3, 'Илья', 'Макаров', 2, 4500),\n",
       " (4, 'Марина', 'Федорова', 2, 6000),\n",
       " (5, 'Вадим', 'Ильин', 3, 7000),\n",
       " (6, 'Илья', 'Филатов', 4, 5500),\n",
       " (7, 'Марина', 'Сидорова', 2, 9000),\n",
       " (8, 'Вадим', 'Ильин', 3, 7000)]"
      ]
     },
     "execution_count": 11,
     "metadata": {},
     "output_type": "execute_result"
    }
   ],
   "source": [
    "cursor.execute(\"select * from Employees\")\n",
    "cursor.fetchall()"
   ]
  },
  {
   "cell_type": "code",
   "execution_count": 12,
   "id": "054ba0f6",
   "metadata": {},
   "outputs": [
    {
     "data": {
      "text/plain": [
       "[]"
      ]
     },
     "execution_count": 12,
     "metadata": {},
     "output_type": "execute_result"
    }
   ],
   "source": [
    "cursor.execute(\"create table Departments(id int, name varchar(20))\")\n",
    "cursor.fetchall()"
   ]
  },
  {
   "cell_type": "code",
   "execution_count": 13,
   "id": "b2071dc4",
   "metadata": {},
   "outputs": [
    {
     "data": {
      "text/plain": [
       "[]"
      ]
     },
     "execution_count": 13,
     "metadata": {},
     "output_type": "execute_result"
    }
   ],
   "source": [
    "cursor.execute(\"\"\"\n",
    "    insert into Departments(id, name) \n",
    "        values\n",
    "        (1,'Маркетинг'),\n",
    "        (2,'Продажи'),\n",
    "        (3,'Бухгалтерия'),\n",
    "        (4, '')\n",
    "\"\"\")\n",
    "cursor.fetchall()"
   ]
  },
  {
   "cell_type": "code",
   "execution_count": 14,
   "id": "2cf06def",
   "metadata": {},
   "outputs": [
    {
     "data": {
      "text/plain": [
       "[(1, 'Маркетинг'), (2, 'Продажи'), (3, 'Бухгалтерия'), (4, '')]"
      ]
     },
     "execution_count": 14,
     "metadata": {},
     "output_type": "execute_result"
    }
   ],
   "source": [
    "cursor.execute(\"select * from Departments\")\n",
    "cursor.fetchall()"
   ]
  },
  {
   "cell_type": "markdown",
   "id": "19cc3918",
   "metadata": {},
   "source": [
    "# Написать select который вернет таблицу содержащую названия отделов, среднюю зарплату в отдел, отсортированных по убыванию средне зп."
   ]
  },
  {
   "cell_type": "code",
   "execution_count": 24,
   "id": "9f3eee18",
   "metadata": {},
   "outputs": [
    {
     "data": {
      "text/plain": [
       "[('Бухгалтерия', 7000.0),\n",
       " ('Продажи', 6500.0),\n",
       " ('', 5500.0),\n",
       " ('Маркетинг', 4750.0)]"
      ]
     },
     "execution_count": 24,
     "metadata": {},
     "output_type": "execute_result"
    }
   ],
   "source": [
    "cursor.execute(\"\"\"\n",
    "select \n",
    "    Departments.name, avg(salary)\n",
    "from \n",
    "    Employees\n",
    "join\n",
    "    Departments on Employees.department_id = Departments.id \n",
    "group by\n",
    "    department_id\n",
    "order by avg(salary) desc\n",
    "\"\"\")\n",
    "cursor.fetchall()"
   ]
  },
  {
   "cell_type": "markdown",
   "id": "2d2c49ae",
   "metadata": {},
   "source": [
    "# Добавить в первый отдел еще одно сотрудника с ЗП 1000 и посмотреть как изменится результат."
   ]
  },
  {
   "cell_type": "code",
   "execution_count": 26,
   "id": "334d4415",
   "metadata": {},
   "outputs": [
    {
     "data": {
      "text/plain": [
       "[]"
      ]
     },
     "execution_count": 26,
     "metadata": {},
     "output_type": "execute_result"
    }
   ],
   "source": [
    "cursor.execute(\"\"\"\n",
    "    insert into Employees(id, name, surname, department_id, salary) \n",
    "        values\n",
    "        (9, 'Антон', 'Котов', 1, 1000)\n",
    "\"\"\")\n",
    "cursor.fetchall()"
   ]
  },
  {
   "cell_type": "code",
   "execution_count": 27,
   "id": "8d530895",
   "metadata": {},
   "outputs": [
    {
     "data": {
      "text/plain": [
       "[('Бухгалтерия', 7000.0),\n",
       " ('Продажи', 6500.0),\n",
       " ('', 5500.0),\n",
       " ('Маркетинг', 3500.0)]"
      ]
     },
     "execution_count": 27,
     "metadata": {},
     "output_type": "execute_result"
    }
   ],
   "source": [
    "cursor.execute(\"\"\"\n",
    "select \n",
    "    Departments.name, avg(salary)\n",
    "from \n",
    "    Employees\n",
    "join\n",
    "    Departments on Employees.department_id = Departments.id \n",
    "group by\n",
    "    department_id\n",
    "order by avg(salary) desc\n",
    "\"\"\")\n",
    "cursor.fetchall()"
   ]
  }
 ],
 "metadata": {
  "kernelspec": {
   "display_name": "Python 3 (ipykernel)",
   "language": "python",
   "name": "python3"
  },
  "language_info": {
   "codemirror_mode": {
    "name": "ipython",
    "version": 3
   },
   "file_extension": ".py",
   "mimetype": "text/x-python",
   "name": "python",
   "nbconvert_exporter": "python",
   "pygments_lexer": "ipython3",
   "version": "3.9.7"
  }
 },
 "nbformat": 4,
 "nbformat_minor": 5
}
