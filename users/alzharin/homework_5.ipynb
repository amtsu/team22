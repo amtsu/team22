{
 "cells": [
  {
   "cell_type": "markdown",
   "id": "ea64081f",
   "metadata": {},
   "source": [
    "# Упражнение - исключения\n",
    "Создать телефонный справочник на основе словаря Python."
   ]
  },
  {
   "cell_type": "code",
   "execution_count": 4,
   "id": "f6ce78f0",
   "metadata": {},
   "outputs": [],
   "source": [
    "a = {\"Misha\":\"51291\",\n",
    "    \"Kolya\":\"25421\",\n",
    "    \"Masha\":\"21345\",\n",
    "    \"Fedya\":\"74523\",\n",
    "    \"Vasya\":\"65432\"}"
   ]
  },
  {
   "cell_type": "markdown",
   "id": "debd84dc",
   "metadata": {},
   "source": [
    "Попробовать найти в этом справочнике несуществующее имя. Исследовать полученное исключение."
   ]
  },
  {
   "cell_type": "code",
   "execution_count": 5,
   "id": "5d94d560",
   "metadata": {},
   "outputs": [
    {
     "ename": "KeyError",
     "evalue": "'Anya'",
     "output_type": "error",
     "traceback": [
      "\u001b[0;31m---------------------------------------------------------------------------\u001b[0m",
      "\u001b[0;31mKeyError\u001b[0m                                  Traceback (most recent call last)",
      "Cell \u001b[0;32mIn [5], line 1\u001b[0m\n\u001b[0;32m----> 1\u001b[0m \u001b[43ma\u001b[49m\u001b[43m[\u001b[49m\u001b[38;5;124;43m\"\u001b[39;49m\u001b[38;5;124;43mAnya\u001b[39;49m\u001b[38;5;124;43m\"\u001b[39;49m\u001b[43m]\u001b[49m\n",
      "\u001b[0;31mKeyError\u001b[0m: 'Anya'"
     ]
    }
   ],
   "source": [
    "a[\"Anya\"]"
   ]
  },
  {
   "cell_type": "markdown",
   "id": "128e90f9",
   "metadata": {},
   "source": [
    "* Реализовать телефонный справочник, который выводит сообщение «Такого имени нет» при попытке найти несуществующее имя.\n",
    "* Ввод имени пользователем реализуется функцией input()."
   ]
  },
  {
   "cell_type": "code",
   "execution_count": 8,
   "id": "1ff1a8ec",
   "metadata": {},
   "outputs": [
    {
     "name": "stdout",
     "output_type": "stream",
     "text": [
      "Введите имя: HSDF\n",
      "Такого имени нет\n"
     ]
    }
   ],
   "source": [
    "try:\n",
    "    b = input(\"Введите имя: \")\n",
    "    print(a[b])\n",
    "except KeyError:\n",
    "    print(\"Такого имени нет\")"
   ]
  },
  {
   "cell_type": "markdown",
   "id": "5ae8a78b",
   "metadata": {},
   "source": [
    "Реализовать телефонный справочник, который выводит сообщение «Такого имени нет» при попытке найти несуществующее имя и в любом случае в завершении выводит сообщение «Конец работы программы.»"
   ]
  },
  {
   "cell_type": "code",
   "execution_count": 9,
   "id": "f0f11cee",
   "metadata": {},
   "outputs": [
    {
     "name": "stdout",
     "output_type": "stream",
     "text": [
      "Введите имя: Vasya\n",
      "65432\n",
      "Конец работы программы.\n"
     ]
    }
   ],
   "source": [
    "try:\n",
    "    b = input(\"Введите имя: \")\n",
    "    print(a[b])\n",
    "except KeyError:\n",
    "    print(\"Такого имени нет\")\n",
    "finally:\n",
    "    print(\"Конец работы программы.\")"
   ]
  },
  {
   "cell_type": "markdown",
   "id": "914aca16",
   "metadata": {},
   "source": [
    "* Реализовать функцию safe_divide, которая принимает от пользователя два целых или вещественных числа и делит одно на другое. Предусмотреть обработку ошибки, возникающей при делении на 0.\n",
    "Ввод числа пользователем реализуется функцией input().\n",
    "* Синтаксис преобразования типов:\n",
    "* a = float(input(\"Делимое:\"))"
   ]
  },
  {
   "cell_type": "code",
   "execution_count": 21,
   "id": "cd484219",
   "metadata": {},
   "outputs": [
    {
     "name": "stdout",
     "output_type": "stream",
     "text": [
      "Делимое:2\n",
      "Делитель:3\n"
     ]
    },
    {
     "data": {
      "text/plain": [
       "0.6666666666666666"
      ]
     },
     "execution_count": 21,
     "metadata": {},
     "output_type": "execute_result"
    }
   ],
   "source": [
    "def safe_divide(a, b):\n",
    "    try:\n",
    "        return a/b\n",
    "    except ZeroDivisionError:\n",
    "        print(\"Делить на 0 нельзя!\")\n",
    "\n",
    "safe_divide(float(input(\"Делимое:\")), float(input(\"Делитель:\")))"
   ]
  },
  {
   "cell_type": "markdown",
   "id": "3cad9b4b",
   "metadata": {},
   "source": [
    "Доработать функцию safe_divide, чтобы она также обрабатывала ошибки, возникающие при вводе нечисловых символов.\n",
    "\n",
    "подсказка\n",
    "\n",
    "* Чтобы проверить, какая ошибка возникает при вводе нечисловых символов, нужно воспроизвести эту ситуацию и посмотреть на класс ошибки в сообщении интерпретатора Python (обычно выделяется красным шрифтом)."
   ]
  },
  {
   "cell_type": "code",
   "execution_count": 22,
   "id": "ac6b0b17",
   "metadata": {},
   "outputs": [
    {
     "name": "stdout",
     "output_type": "stream",
     "text": [
      "Делимое:2\n",
      "Делитель:e\n",
      "Нужно вводить числа!\n"
     ]
    }
   ],
   "source": [
    "def safe_divide(a, b):\n",
    "    try:\n",
    "        return float(a)/float(b)\n",
    "    except ValueError:\n",
    "        print(\"Нужно вводить числа!\")\n",
    "    except ZeroDivisionError:\n",
    "        print(\"Делить на 0 нельзя!\")\n",
    "\n",
    "safe_divide(input(\"Делимое:\"), input(\"Делитель:\"))"
   ]
  },
  {
   "cell_type": "markdown",
   "id": "089762d4",
   "metadata": {},
   "source": [
    "* Разработать интерактивный калькулятор: пользователь вводит формулу вида «12 + 8» или «15 - 10», программа вычисляет результат. Достаточно предусмотреть только сложение и вычитание. Предполагается, что первый операнд, знак операции и второй операнд обязательно должны быть разделены пробелами.\n",
    "* Программа должна выводить сообщения об ошибках, если введена неверная формула или нечисловые символы.\n",
    "* Ожидаемый результат и часть решения:"
   ]
  },
  {
   "cell_type": "code",
   "execution_count": 3,
   "id": "0f320ab3",
   "metadata": {},
   "outputs": [
    {
     "name": "stdout",
     "output_type": "stream",
     "text": [
      "Введите выражение:0 0\n"
     ]
    },
    {
     "ename": "IndexError",
     "evalue": "list index out of range",
     "output_type": "error",
     "traceback": [
      "\u001b[0;31m---------------------------------------------------------------------------\u001b[0m",
      "\u001b[0;31mIndexError\u001b[0m                                Traceback (most recent call last)",
      "Cell \u001b[0;32mIn [3], line 16\u001b[0m\n\u001b[1;32m     13\u001b[0m     \u001b[38;5;28;01mexcept\u001b[39;00m \u001b[38;5;167;01mValueError\u001b[39;00m:\n\u001b[1;32m     14\u001b[0m         \u001b[38;5;28mprint\u001b[39m(\u001b[38;5;124m\"\u001b[39m\u001b[38;5;124mНужно вводить числа!\u001b[39m\u001b[38;5;124m\"\u001b[39m)\n\u001b[0;32m---> 16\u001b[0m \u001b[43mcalc\u001b[49m\u001b[43m(\u001b[49m\u001b[38;5;28;43minput\u001b[39;49m\u001b[43m(\u001b[49m\u001b[38;5;124;43m'\u001b[39;49m\u001b[38;5;124;43mВведите выражение:\u001b[39;49m\u001b[38;5;124;43m'\u001b[39;49m\u001b[43m)\u001b[49m\u001b[43m)\u001b[49m\n",
      "Cell \u001b[0;32mIn [3], line 5\u001b[0m, in \u001b[0;36mcalc\u001b[0;34m(a)\u001b[0m\n\u001b[1;32m      3\u001b[0m \u001b[38;5;28;01mtry\u001b[39;00m:\n\u001b[1;32m      4\u001b[0m     b[\u001b[38;5;241m0\u001b[39m] \u001b[38;5;241m=\u001b[39m \u001b[38;5;28mfloat\u001b[39m(b[\u001b[38;5;241m0\u001b[39m])\n\u001b[0;32m----> 5\u001b[0m     b[\u001b[38;5;241m2\u001b[39m] \u001b[38;5;241m=\u001b[39m \u001b[38;5;28mfloat\u001b[39m(\u001b[43mb\u001b[49m\u001b[43m[\u001b[49m\u001b[38;5;241;43m2\u001b[39;49m\u001b[43m]\u001b[49m)\n\u001b[1;32m      7\u001b[0m     z \u001b[38;5;241m=\u001b[39m {\u001b[38;5;124m'\u001b[39m\u001b[38;5;124m+\u001b[39m\u001b[38;5;124m'\u001b[39m: b[\u001b[38;5;241m0\u001b[39m] \u001b[38;5;241m+\u001b[39m b[\u001b[38;5;241m2\u001b[39m],\n\u001b[1;32m      8\u001b[0m      \u001b[38;5;124m'\u001b[39m\u001b[38;5;124m-\u001b[39m\u001b[38;5;124m'\u001b[39m: b[\u001b[38;5;241m0\u001b[39m] \u001b[38;5;241m-\u001b[39m b[\u001b[38;5;241m2\u001b[39m]}\n\u001b[1;32m      9\u001b[0m     \u001b[38;5;28;01mtry\u001b[39;00m:\n",
      "\u001b[0;31mIndexError\u001b[0m: list index out of range"
     ]
    }
   ],
   "source": [
    "def calc(a):\n",
    "    b = a.split(' ')\n",
    "    try:\n",
    "        b[0] = float(b[0])\n",
    "        b[2] = float(b[2])\n",
    "        \n",
    "        z = {'+': b[0] + b[2],\n",
    "         '-': b[0] - b[2]}\n",
    "        try:\n",
    "            return z[b[1]]\n",
    "        except KeyError:\n",
    "            print(\"Нужно ввести + или -\")\n",
    "    except ValueError:\n",
    "        print(\"Нужно вводить числа!\")\n",
    "\n",
    "calc(input('Введите выражение:'))"
   ]
  },
  {
   "cell_type": "markdown",
   "id": "262e78d4",
   "metadata": {},
   "source": [
    "Доработать предыдущую программу, чтобы она распознавала операторы деления (/) и умножения (*), а также выводила сообщение в случае деления на 0."
   ]
  },
  {
   "cell_type": "code",
   "execution_count": 5,
   "id": "277f9dc0",
   "metadata": {},
   "outputs": [
    {
     "name": "stdout",
     "output_type": "stream",
     "text": [
      "Введите выражение:фыв\n",
      "Специально для Сереги Иванова и других желающих вводить что-то без единого пробела: НЕ НАДО ТАК\n"
     ]
    }
   ],
   "source": [
    "def calc(a):\n",
    "    b = a.split(' ')\n",
    "    try:\n",
    "        if b[1] == '+':\n",
    "            return float(b[0]) + float(b[2])\n",
    "        elif b[1] == '-':\n",
    "            return float(b[0]) - float(b[2])\n",
    "        elif b[1] == '*':\n",
    "            return float(b[0]) * float(b[2])\n",
    "        elif b[1] == '/':\n",
    "            try:\n",
    "                return float(b[0]) / float(b[2])\n",
    "            except ZeroDivisionError:\n",
    "                print(\"Делить на 0 нельзя!\")\n",
    "        else:\n",
    "            print(\"Нужно ввести +, -, *, /\")\n",
    "    except ValueError:\n",
    "        print(\"Нужно вводить числа!\")\n",
    "    except IndexError:\n",
    "        print(\"Специально для Сереги Иванова и других желающих вводить что-то без единого пробела: НЕ НАДО ТАК\")\n",
    "\n",
    "calc(input('Введите выражение:'))"
   ]
  },
  {
   "cell_type": "code",
   "execution_count": null,
   "id": "a12b46f9",
   "metadata": {},
   "outputs": [],
   "source": []
  }
 ],
 "metadata": {
  "kernelspec": {
   "display_name": "Python 3 (ipykernel)",
   "language": "python",
   "name": "python3"
  },
  "language_info": {
   "codemirror_mode": {
    "name": "ipython",
    "version": 3
   },
   "file_extension": ".py",
   "mimetype": "text/x-python",
   "name": "python",
   "nbconvert_exporter": "python",
   "pygments_lexer": "ipython3",
   "version": "3.9.7"
  }
 },
 "nbformat": 4,
 "nbformat_minor": 5
}
