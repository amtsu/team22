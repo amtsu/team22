{
 "cells": [
  {
   "cell_type": "markdown",
   "id": "3d4b2228",
   "metadata": {},
   "source": [
    "# Создание файла с именами знакомы, чтение и вывод на экран, затем добавление еще одного имени без использования \"а\""
   ]
  },
  {
   "cell_type": "code",
   "execution_count": 1,
   "id": "2e6a809f",
   "metadata": {},
   "outputs": [
    {
     "name": "stdout",
     "output_type": "stream",
     "text": [
      "Vanya Max Anna\n",
      "Vanya Max Anna Petya\n"
     ]
    }
   ],
   "source": [
    "# создание начального файла\n",
    "file1 = open('imena.txt', 'w')\n",
    "file1.write('Vanya Max Anna')\n",
    "file1.close()\n",
    "\n",
    "# чтение и выдача\n",
    "file1 = open('imena.txt', 'r')\n",
    "a = file1.read()\n",
    "print(a)\n",
    "file1.close()\n",
    "\n",
    "# апдейт с Петей\n",
    "file1 = open('imena.txt', 'w')\n",
    "file1.write(a + ' Petya')\n",
    "file1.close()\n",
    "\n",
    "# чтение и выдача\n",
    "file1 = open('imena.txt', 'r')\n",
    "a = file1.read()\n",
    "print(a)\n",
    "file1.close()"
   ]
  },
  {
   "cell_type": "markdown",
   "id": "e8f00318",
   "metadata": {},
   "source": [
    "# Создание тел справочника, добавление 3 контактов, сохранение в pickle, чтение и распечатка, добавление нового контакта и последующее сохранение"
   ]
  },
  {
   "cell_type": "code",
   "execution_count": 2,
   "id": "a842ca0c",
   "metadata": {},
   "outputs": [],
   "source": [
    "phones = [\n",
    "    {\n",
    "        \"phone\": \"8-929-903-65-89\",\n",
    "        \"name\": \"Ivan\",\n",
    "        \"city\": \"Moscow\"\n",
    "    },\n",
    "    {\n",
    "        \"phone\": \"8-929-903-35-40\",\n",
    "        \"name\": \"Vlad\",\n",
    "        \"city\": \"Moscow\"\n",
    "    },\n",
    "    {\n",
    "        \"phone\": \"8-926-921-65-40\",\n",
    "        \"name\": \"Vladislava\",\n",
    "        \"city\": \"Stavropol\"\n",
    "    }]"
   ]
  },
  {
   "cell_type": "code",
   "execution_count": 4,
   "id": "629e6f48",
   "metadata": {},
   "outputs": [],
   "source": [
    "import pickle\n",
    "\n",
    "with open('file.pkl', 'wb') as file:\n",
    "    pickle.dump(phones, file)"
   ]
  },
  {
   "cell_type": "code",
   "execution_count": 5,
   "id": "db21524d",
   "metadata": {},
   "outputs": [
    {
     "name": "stdout",
     "output_type": "stream",
     "text": [
      "[{'phone': '8-929-903-65-89', 'name': 'Ivan', 'city': 'Moscow'}, {'phone': '8-929-903-35-40', 'name': 'Vlad', 'city': 'Moscow'}, {'phone': '8-926-921-65-40', 'name': 'Vladislava', 'city': 'Stavropol'}]\n"
     ]
    }
   ],
   "source": [
    "with open('file.pkl', 'rb') as file:\n",
    "    phones = pickle.load(file)\n",
    "  \n",
    "    print(phones)"
   ]
  },
  {
   "cell_type": "code",
   "execution_count": 6,
   "id": "39a6ce37",
   "metadata": {},
   "outputs": [],
   "source": [
    "phones.append({\n",
    "                \"phone\": \"8-912-233-31-99\",\n",
    "                \"name\": \"Pavel\",\n",
    "                \"city\": \"Znamensk\"\n",
    "            })"
   ]
  },
  {
   "cell_type": "code",
   "execution_count": 7,
   "id": "4f45e0d9",
   "metadata": {},
   "outputs": [],
   "source": [
    "with open('file.pkl', 'wb') as file:\n",
    "    pickle.dump(phones, file)"
   ]
  },
  {
   "cell_type": "code",
   "execution_count": 8,
   "id": "8dfda48e",
   "metadata": {},
   "outputs": [
    {
     "name": "stdout",
     "output_type": "stream",
     "text": [
      "[{'phone': '8-929-903-65-89', 'name': 'Ivan', 'city': 'Moscow'}, {'phone': '8-929-903-35-40', 'name': 'Vlad', 'city': 'Moscow'}, {'phone': '8-926-921-65-40', 'name': 'Vladislava', 'city': 'Stavropol'}, {'phone': '8-912-233-31-99', 'name': 'Pavel', 'city': 'Znamensk'}]\n"
     ]
    }
   ],
   "source": [
    "with open('file.pkl', 'rb') as file:\n",
    "    phones = pickle.load(file)\n",
    "  \n",
    "    print(phones)"
   ]
  },
  {
   "cell_type": "code",
   "execution_count": null,
   "id": "b297954f",
   "metadata": {},
   "outputs": [],
   "source": []
  }
 ],
 "metadata": {
  "kernelspec": {
   "display_name": "Python 3 (ipykernel)",
   "language": "python",
   "name": "python3"
  },
  "language_info": {
   "codemirror_mode": {
    "name": "ipython",
    "version": 3
   },
   "file_extension": ".py",
   "mimetype": "text/x-python",
   "name": "python",
   "nbconvert_exporter": "python",
   "pygments_lexer": "ipython3",
   "version": "3.9.7"
  }
 },
 "nbformat": 4,
 "nbformat_minor": 5
}
