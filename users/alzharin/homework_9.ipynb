{
 "cells": [
  {
   "cell_type": "markdown",
   "id": "94d2cf59",
   "metadata": {},
   "source": [
    "# Упражнения\n",
    "* Создать итератор, который будет возвращать следующую числовую последовательность:\n",
    "1/1, -1/3, 1/5, -1/7, 1/9, -1/11..."
   ]
  },
  {
   "cell_type": "code",
   "execution_count": 6,
   "id": "365f5c7d",
   "metadata": {},
   "outputs": [
    {
     "name": "stdout",
     "output_type": "stream",
     "text": [
      "1/1\n",
      "-1/3\n",
      "1/5\n",
      "-1/7\n",
      "1/9\n",
      "-1/11\n"
     ]
    }
   ],
   "source": [
    "class Posled:\n",
    "    # итератор для создания последовательности 1/1, -1/3, 1/5, -1/7, 1/9, -1/11...\n",
    "    \n",
    "    def __init__(self, count):\n",
    "        self.count = count\n",
    "        self.numb = -1\n",
    "        self.sign = -1\n",
    "    \n",
    "    def __iter__(self):\n",
    "        return self\n",
    "    \n",
    "    def __next__(self):\n",
    "        self.numb += 1\n",
    "        if self.numb == self.count:\n",
    "            self.numb = -1\n",
    "            self.sign = -1\n",
    "            raise StopIteration\n",
    "        self.sign = self.sign * (-1)\n",
    "        return str(self.sign) + \"/\" + str(2*(self.numb+1)-1)\n",
    "    \n",
    "ones = Posled(6)\n",
    "for i in ones:\n",
    "    print(i)"
   ]
  },
  {
   "cell_type": "markdown",
   "id": "5ca554e7",
   "metadata": {},
   "source": [
    "* Доработать предыдущее задание так, чтобы итератор возвращал не члены последовательности, а их суммы от первого до n-го:"
   ]
  },
  {
   "cell_type": "code",
   "execution_count": 10,
   "id": "c8282af5",
   "metadata": {},
   "outputs": [
    {
     "name": "stdout",
     "output_type": "stream",
     "text": [
      "1/1 \n",
      "1/1 -1/3 \n",
      "1/1 -1/3 + 1/5 \n",
      "1/1 -1/3 + 1/5 -1/7 \n",
      "1/1 -1/3 + 1/5 -1/7 + 1/9 \n",
      "1/1 -1/3 + 1/5 -1/7 + 1/9 -1/11 \n"
     ]
    }
   ],
   "source": [
    "class Mega_Posled:\n",
    "    # итератор для создания последовательности 1/1, -1/3, 1/5, -1/7, 1/9, -1/11... и выведения в виде суммы\n",
    "    \n",
    "    def __init__(self, count):\n",
    "        self.count = count\n",
    "        self.numb = -1\n",
    "        self.sign = -1\n",
    "        self.stro = ''\n",
    "    \n",
    "    def __iter__(self):\n",
    "        return self\n",
    "    \n",
    "    def __next__(self):\n",
    "        self.numb += 1\n",
    "        if self.numb == self.count:\n",
    "            self.numb = -1\n",
    "            self.sign = -1\n",
    "            self.stro = ''\n",
    "            raise StopIteration\n",
    "        self.sign = self.sign * (-1)\n",
    "        if self.sign > 0 and self.numb > 0:\n",
    "            self.stro += '+ ' + str(self.sign) + \"/\" + str(2*(self.numb+1)-1) + ' '\n",
    "        else:\n",
    "            self.stro += str(self.sign) + \"/\" + str(2*(self.numb+1)-1) + ' '\n",
    "        return self.stro\n",
    "    \n",
    "ones = Mega_Posled(6)\n",
    "for i in ones:\n",
    "    print(i)"
   ]
  },
  {
   "cell_type": "markdown",
   "id": "7b55f50f",
   "metadata": {},
   "source": [
    "* Замечание. Справедлива следующая формула (ряд Лейбница):\n",
    "\n",
    "1/1 -1/3 +1/5 + ... = Sum( -1**n / (2n + 1) ) = Pi/4\n",
    "\n",
    "Доработать предыдущее решение, чтобы итератор выдавал приближения числа π."
   ]
  },
  {
   "cell_type": "code",
   "execution_count": 27,
   "id": "b9172922",
   "metadata": {},
   "outputs": [
    {
     "name": "stdout",
     "output_type": "stream",
     "text": [
      "4.0 - полученная сумма, 72.67604552648373% - точность приближения к pi\n",
      "2.666666666666667 - полученная сумма, 84.88263631567753% - точность приближения к pi\n",
      "3.466666666666667 - полученная сумма, 89.65257278961923% - точность приближения к pi\n",
      "2.8952380952380956 - полученная сумма, 92.15829085702131% - точность приближения к pi\n",
      "3.3396825396825403 - полученная сумма, 93.69460309036576% - точность приближения к pi\n"
     ]
    }
   ],
   "source": [
    "from math import pi\n",
    "\n",
    "class Poisk_Pi:\n",
    "    # итератор для проверки схождения ряда Лейбница умноженного на 4 к pi\n",
    "    \n",
    "    def __init__(self, count): # на вход поступает количество элементов ряда\n",
    "        self.count = count\n",
    "        self.numb = -1\n",
    "        self.sign = -1\n",
    "        self.chislo = 0\n",
    "    \n",
    "    def __iter__(self):\n",
    "        return self\n",
    "    \n",
    "    def __next__(self):\n",
    "        self.numb += 1\n",
    "        if self.numb == self.count:\n",
    "            self.numb = -1\n",
    "            self.sign = -1\n",
    "            self.chislo = 0\n",
    "            raise StopIteration\n",
    "        self.sign = self.sign * (-1)\n",
    "        self.chislo += 4 * self.sign / (2 * (self.numb + 1) - 1)\n",
    "        return self.chislo, 100 - abs(self.chislo - pi) / pi * 100\n",
    "    \n",
    "ones = Poisk_Pi(5)\n",
    "for i in ones:\n",
    "    print(f'{i[0]} - полученная сумма, {i[1]}% - точность приближения к pi')"
   ]
  },
  {
   "cell_type": "markdown",
   "id": "905ec525",
   "metadata": {},
   "source": [
    "* Создать итератор, который будет возвращать последовательность факториалов натуральных чисел:\n",
    "\n",
    "1! = 1\n",
    "\n",
    "2! = 1 * 2 = 2\n",
    "\n",
    "3! = 1 * 2 * 3 = 6\n",
    "\n",
    "..."
   ]
  },
  {
   "cell_type": "code",
   "execution_count": 36,
   "id": "c600495b",
   "metadata": {},
   "outputs": [
    {
     "name": "stdout",
     "output_type": "stream",
     "text": [
      "1! = 1 = 1\n",
      "2! = 1 * 2 = 2\n",
      "3! = 1 * 2 * 3 = 6\n",
      "4! = 1 * 2 * 3 * 4 = 24\n",
      "5! = 1 * 2 * 3 * 4 * 5 = 120\n"
     ]
    }
   ],
   "source": [
    "class Factorial:\n",
    "    # итератор для расчета факториалов до заданного числа (включая его) \n",
    "    \n",
    "    def __init__(self, count): # на вход поступает последнее число для расчета факториала\n",
    "        self.count = count\n",
    "        self.numb = 0\n",
    "        self.sstr = ''\n",
    "        self.fuck = 1\n",
    "    \n",
    "    def __iter__(self):\n",
    "        return self\n",
    "    \n",
    "    def __next__(self):\n",
    "        self.numb += 1\n",
    "        if self.numb == self.count + 1:\n",
    "            self.numb = 0\n",
    "            self.sstr = ''\n",
    "            self.fuck = 1\n",
    "            raise StopIteration\n",
    "        if self.numb == 1:\n",
    "            self.sstr = self.sstr + str(self.numb)\n",
    "        else:\n",
    "            self.sstr = self.sstr + ' * ' + str(self.numb)\n",
    "        self.fuck *= self.numb\n",
    "        return f'{self.numb}! = ' + self.sstr + ' = ' + str(self.fuck)\n",
    "        \n",
    "ones = Factorial(5)\n",
    "for i in ones:\n",
    "    print(i)"
   ]
  },
  {
   "cell_type": "code",
   "execution_count": 32,
   "id": "136b6db1",
   "metadata": {},
   "outputs": [
    {
     "name": "stdout",
     "output_type": "stream",
     "text": [
      "1! = 1 = 1\n",
      "2! = 1 * 2 = 2\n",
      "3! = 1 * 2 * 3 = 6\n",
      "4! = 1 * 2 * 3 * 4 = 24\n",
      "5! = 1 * 2 * 3 * 4 * 5 = 120\n"
     ]
    },
    {
     "data": {
      "text/plain": [
       "120"
      ]
     },
     "execution_count": 32,
     "metadata": {},
     "output_type": "execute_result"
    }
   ],
   "source": [
    "\"\"\"Хотя в случае этой задачи проще все сделать с помощью одной функции\"\"\"\n",
    "def factorial(n):\n",
    "    sstr = ''\n",
    "    if n < 1:\n",
    "        return 1\n",
    "    else:\n",
    "        returnNumber = n * factorial(n - 1)\n",
    "        for i in range(1, n + 1):\n",
    "            if i == 1:\n",
    "                sstr = sstr + str(i)\n",
    "            else:\n",
    "                sstr = sstr + ' * ' + str(i) \n",
    "        print(str(n) + '! = ' + sstr + ' = ' + str(returnNumber))\n",
    "        return returnNumber\n",
    "    \n",
    "factorial(5)"
   ]
  }
 ],
 "metadata": {
  "kernelspec": {
   "display_name": "Python 3 (ipykernel)",
   "language": "python",
   "name": "python3"
  },
  "language_info": {
   "codemirror_mode": {
    "name": "ipython",
    "version": 3
   },
   "file_extension": ".py",
   "mimetype": "text/x-python",
   "name": "python",
   "nbconvert_exporter": "python",
   "pygments_lexer": "ipython3",
   "version": "3.9.7"
  }
 },
 "nbformat": 4,
 "nbformat_minor": 5
}
