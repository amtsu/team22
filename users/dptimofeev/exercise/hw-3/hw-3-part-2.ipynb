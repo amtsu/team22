{
 "cells": [
  {
   "cell_type": "markdown",
   "id": "8b55ab6f-fc11-4315-aeb2-dda820a63921",
   "metadata": {},
   "source": [
    "Вычислить результат следующих операций:\n",
    "10 * (5 + 3)"
   ]
  },
  {
   "cell_type": "code",
   "execution_count": 3,
   "id": "af65dd3f-fc96-4724-96b0-27b691890e5a",
   "metadata": {
    "scrolled": true
   },
   "outputs": [
    {
     "data": {
      "text/plain": [
       "80"
      ]
     },
     "execution_count": 3,
     "metadata": {},
     "output_type": "execute_result"
    }
   ],
   "source": [
    "10 * (5+3)"
   ]
  },
  {
   "cell_type": "markdown",
   "id": "8dd037a1-c287-4aff-9714-82542d1652e7",
   "metadata": {},
   "source": [
    "(20 - 6) / 2"
   ]
  },
  {
   "cell_type": "code",
   "execution_count": 4,
   "id": "b3720e21-9bd5-4d0d-b72c-bf56a18ee12f",
   "metadata": {},
   "outputs": [
    {
     "data": {
      "text/plain": [
       "7.0"
      ]
     },
     "execution_count": 4,
     "metadata": {},
     "output_type": "execute_result"
    }
   ],
   "source": [
    "(20-6)/2"
   ]
  },
  {
   "cell_type": "markdown",
   "id": "1f34814e-d572-4b97-93fe-d8c347e84caf",
   "metadata": {},
   "source": [
    "2 ** 5 (возведение 2 в 5-ю степень)"
   ]
  },
  {
   "cell_type": "code",
   "execution_count": 5,
   "id": "ecdde12f-1c29-4787-b0f4-41960a00642d",
   "metadata": {},
   "outputs": [
    {
     "data": {
      "text/plain": [
       "32"
      ]
     },
     "execution_count": 5,
     "metadata": {},
     "output_type": "execute_result"
    }
   ],
   "source": [
    "2**5"
   ]
  },
  {
   "cell_type": "markdown",
   "id": "e51d8597-cc01-43ca-9248-c62310a8a64b",
   "metadata": {},
   "source": [
    "25 // 4 (целая часть от деления)"
   ]
  },
  {
   "cell_type": "code",
   "execution_count": 6,
   "id": "2a8ab072-ab1b-4ffc-b752-0038426d8822",
   "metadata": {},
   "outputs": [
    {
     "data": {
      "text/plain": [
       "6"
      ]
     },
     "execution_count": 6,
     "metadata": {},
     "output_type": "execute_result"
    }
   ],
   "source": [
    "25//4"
   ]
  },
  {
   "cell_type": "markdown",
   "id": "78e0d4cb-9b14-4d7f-b47b-d0016bbc042e",
   "metadata": {},
   "source": [
    "25 % 4 (остаток от деления)"
   ]
  },
  {
   "cell_type": "code",
   "execution_count": 7,
   "id": "319ca570-3972-42c9-b120-20a5e80f3078",
   "metadata": {},
   "outputs": [
    {
     "data": {
      "text/plain": [
       "1"
      ]
     },
     "execution_count": 7,
     "metadata": {},
     "output_type": "execute_result"
    }
   ],
   "source": [
    "25%4"
   ]
  },
  {
   "cell_type": "markdown",
   "id": "d3b39733-9433-42c9-a14b-e4de526939b2",
   "metadata": {},
   "source": [
    "Дано дробное число:\n",
    "number = -3.14\n",
    "Выполнить следующие операции:\n",
    "Округлите число до целого.\n",
    "Возьмите остаток числа."
   ]
  },
  {
   "cell_type": "code",
   "execution_count": 8,
   "id": "2115c06d-cf50-4e81-90a1-1be62bd11a88",
   "metadata": {},
   "outputs": [
    {
     "data": {
      "text/plain": [
       "-3"
      ]
     },
     "execution_count": 8,
     "metadata": {},
     "output_type": "execute_result"
    }
   ],
   "source": [
    "number = -3.14\n",
    "round (number)"
   ]
  },
  {
   "cell_type": "code",
   "execution_count": 9,
   "id": "86342990-d6ff-45c7-b3a5-dd1437d3af30",
   "metadata": {},
   "outputs": [
    {
     "data": {
      "text/plain": [
       "-0.14"
      ]
     },
     "execution_count": 9,
     "metadata": {},
     "output_type": "execute_result"
    }
   ],
   "source": [
    "round(number - round(number), 2)"
   ]
  },
  {
   "cell_type": "markdown",
   "id": "29076f18-9e5b-4c5f-ab92-7101e1de398b",
   "metadata": {},
   "source": [
    "Даны стороны прямоугольника: a = 5, b = 7.\n",
    "Вычислить площадь прямоугольника и вывести результат на экран."
   ]
  },
  {
   "cell_type": "code",
   "execution_count": 12,
   "id": "a55af0b0-2bcf-43ef-85eb-386f9751211e",
   "metadata": {},
   "outputs": [
    {
     "name": "stdout",
     "output_type": "stream",
     "text": [
      "Square is 35\n"
     ]
    }
   ],
   "source": [
    "a = 5\n",
    "b = 7\n",
    "S = a*b\n",
    "print ('Square is', S) "
   ]
  },
  {
   "cell_type": "markdown",
   "id": "8ef0f268-fe0b-45b6-9a88-d2c8293166b7",
   "metadata": {},
   "source": [
    "На какой объем воздуха должен быть расчитан кондиционер, если с его помощью хотят охлаждать квартиру в которой размер гостинной 3.5 на 6.4 метра, спальни 3.4 на 4 метра и площадь не жилой части 11 метров. При том что высота потолков 3,1 метр."
   ]
  },
  {
   "cell_type": "code",
   "execution_count": 30,
   "id": "d4f07492-767a-464a-a17a-0fb8495a2cc3",
   "metadata": {
    "scrolled": true
   },
   "outputs": [
    {
     "name": "stdout",
     "output_type": "stream",
     "text": [
      "The volume is 145.70000000000002\n"
     ]
    }
   ],
   "source": [
    "x_living_room = 3.5\n",
    "y_living_room = 6.4\n",
    "x_bedroom = 3.4\n",
    "y_bedroom = 4\n",
    "s_loft = 11\n",
    "ceiling = 3.1\n",
    "V_living_room= ( x_living_room *y_living_room)*ceiling\n",
    "V_bedroom= (x_bedroom*y_bedroom)*ceiling\n",
    "V_loft= s_loft*ceiling \n",
    "V_summ= V_living_room + V_bedroom + V_loft\n",
    "print ('The volume is', V_summ)"
   ]
  },
  {
   "cell_type": "markdown",
   "id": "78a91c44-84b1-4514-acc6-a844aa8f5339",
   "metadata": {},
   "source": [
    "NB! точка и запятая разные блин символы, будь внимательнее:)  "
   ]
  },
  {
   "cell_type": "markdown",
   "id": "58989698-d9a0-4f97-915a-7877db6afb61",
   "metadata": {},
   "source": [
    "Дано квадратное уравнение вида ax^2 + bx + c = 0.\n",
    "Найти его решения, используя формулу дискриминанта.\n",
    "a номер текущего месяца\n",
    "b номер вашей группы\n",
    "c минус десять (-10)"
   ]
  },
  {
   "cell_type": "code",
   "execution_count": 48,
   "id": "d7c508e7-d3f3-4d7f-9b77-105f3c02c2d7",
   "metadata": {},
   "outputs": [
    {
     "name": "stdout",
     "output_type": "stream",
     "text": [
      "x1= 1.1925824035672519 x2= -4.192582403567252\n"
     ]
    }
   ],
   "source": [
    "a = 2\n",
    "b = 6\n",
    "c = -10\n",
    "d = (b ** 2) - (4*a*c)\n",
    "\n",
    "x1 = (-1 * b + d ** 0.5) / (2 * a)\n",
    "x2 = (-1 * b - d ** 0.5) / (2 * a)\n",
    "\n",
    "print ( 'x1=',x1,'x2=',x2)"
   ]
  },
  {
   "cell_type": "markdown",
   "id": "e77f0289-1c1a-42e9-9804-e9ac0daaf936",
   "metadata": {},
   "source": [
    "Даны строки:\n",
    "string1 = \"hello, \"\n",
    "string2 = \"world!\"\n",
    "Объединить строки string1 и string2 и результат вывести на экран так чтобы первая буква в предложении стала заглавной.\n",
    "\n",
    "Сколько символов было в предыдущей строке?"
   ]
  },
  {
   "cell_type": "code",
   "execution_count": 53,
   "id": "632ab352-b822-4073-b2ae-db6cf4604d58",
   "metadata": {},
   "outputs": [
    {
     "name": "stdout",
     "output_type": "stream",
     "text": [
      "Hello, world!\n"
     ]
    }
   ],
   "source": [
    "string1 = \"hello, \"\n",
    "string2 = \"world!\" \n",
    "print ((string1 + string2).capitalize())"
   ]
  },
  {
   "cell_type": "code",
   "execution_count": 55,
   "id": "3d9ecbe5-80fe-4790-a4b9-d3b0216902e3",
   "metadata": {},
   "outputs": [
    {
     "name": "stdout",
     "output_type": "stream",
     "text": [
      "13\n"
     ]
    }
   ],
   "source": [
    "print (len(string1 + string2))"
   ]
  },
  {
   "cell_type": "markdown",
   "id": "2824912c-f140-48a4-8c1c-dbe79b1e0799",
   "metadata": {},
   "source": [
    "Выведите на экран строку la 25 раз."
   ]
  },
  {
   "cell_type": "code",
   "execution_count": 57,
   "id": "bf4cf5ab-c705-4759-9be2-b9379167ca1d",
   "metadata": {},
   "outputs": [
    {
     "name": "stdout",
     "output_type": "stream",
     "text": [
      "lalalalalalalalalalalalalalalalalalalalalalalalala\n"
     ]
    }
   ],
   "source": [
    "print ('la'*25)"
   ]
  },
  {
   "cell_type": "markdown",
   "id": "41ad40fb-e7b9-4465-894e-b69a13651f69",
   "metadata": {},
   "source": [
    "Дан список чисел:\n",
    "numbers = [1, 2, 3, 4, 5]\n",
    "Выполнить следующие операции:\n",
    "1. Измените число 2 на строку \"hi\" \n",
    "2. Выведите значение, находящееся на позиции 2.\n",
    "3. Изменить значение на позиции 4 на список из 3 элементов [8, 6, 4].\n",
    "Результаты вывести на экран."
   ]
  },
  {
   "cell_type": "code",
   "execution_count": 60,
   "id": "bbe6af76-42a5-4c5e-9802-398cd116e601",
   "metadata": {},
   "outputs": [
    {
     "name": "stdout",
     "output_type": "stream",
     "text": [
      "hi\n"
     ]
    }
   ],
   "source": [
    "numbers = [1,2,3,4,5]\n",
    "numbers [1] = 'hi'\n",
    "print (numbers [1])"
   ]
  },
  {
   "cell_type": "code",
   "execution_count": 62,
   "id": "346f93f1-69bf-4f6c-a36e-021a69bd5680",
   "metadata": {},
   "outputs": [
    {
     "name": "stdout",
     "output_type": "stream",
     "text": [
      "[8, 6, 4]\n"
     ]
    }
   ],
   "source": [
    "numbers [3] = [8,6,4]\n",
    "print (numbers [3])"
   ]
  },
  {
   "cell_type": "code",
   "execution_count": 63,
   "id": "6153aeb0-2361-423b-b5c9-0b63e7827d59",
   "metadata": {},
   "outputs": [
    {
     "name": "stdout",
     "output_type": "stream",
     "text": [
      "[1, 'hi', 3, [8, 6, 4], 5]\n"
     ]
    }
   ],
   "source": [
    "print (numbers)"
   ]
  },
  {
   "cell_type": "markdown",
   "id": "db75fa50-8600-47af-be9c-f4aef3b46fcd",
   "metadata": {},
   "source": [
    "Дан список чисел:\n",
    "numbers = [1, 2, 3, 4, 5, 6, 7, 8, 9, 10]\n",
    "Извлеките подсписок с 3-го по 7-й элемент включительно."
   ]
  },
  {
   "cell_type": "code",
   "execution_count": 65,
   "id": "100e325a-ddc5-42b6-94ca-ffd9310a302e",
   "metadata": {},
   "outputs": [
    {
     "name": "stdout",
     "output_type": "stream",
     "text": [
      "[3, 4, 5, 6, 7]\n"
     ]
    }
   ],
   "source": [
    "numbers = [1, 2, 3, 4, 5, 6, 7, 8, 9, 10]\n",
    "print (numbers [2:7])"
   ]
  }
 ],
 "metadata": {
  "kernelspec": {
   "display_name": "Python 3 (ipykernel)",
   "language": "python",
   "name": "python3"
  },
  "language_info": {
   "codemirror_mode": {
    "name": "ipython",
    "version": 3
   },
   "file_extension": ".py",
   "mimetype": "text/x-python",
   "name": "python",
   "nbconvert_exporter": "python",
   "pygments_lexer": "ipython3",
   "version": "3.10.10"
  }
 },
 "nbformat": 4,
 "nbformat_minor": 5
}
