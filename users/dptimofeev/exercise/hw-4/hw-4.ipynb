{
 "cells": [
  {
   "cell_type": "markdown",
   "id": "bdda8c75-105b-4f24-8862-673bcc68f447",
   "metadata": {},
   "source": [
    "Домашнее задание №4. \n",
    "Списки и операции с ними."
   ]
  },
  {
   "cell_type": "markdown",
   "id": "de36547c-88dd-4997-a12c-cdeb1e9e6ac8",
   "metadata": {},
   "source": [
    "Задание 1.\n",
    "выполните следующий код\n",
    "<code>\n",
    "list_one = [1, 2, 3, 4, 5, 6, 9]\n",
    "list_two = [1, 2, 3, 4, 5, 6, 9]\n",
    "list_two.append(789)\n",
    "print(list_one, list_two, sep='\\n') \n",
    "</code>\n",
    "затем выполните код \n",
    "<code>\n",
    "list_one = [1, 2, 3, 4, 5, 6, 9]\n",
    "list_two = list_one\n",
    "list_two.append(789)\n",
    "print(list_one, list_two, sep='\\n')     \n",
    "</code>\n",
    "запишите объяснения разницы в выполнении кода в переменную difference_explanation и выведите ее на экран"
   ]
  },
  {
   "cell_type": "code",
   "execution_count": 1,
   "id": "680d9e95-a34c-4f6c-8693-3a72207219b5",
   "metadata": {},
   "outputs": [
    {
     "name": "stdout",
     "output_type": "stream",
     "text": [
      "[1, 2, 3, 4, 5, 6, 9]\n",
      "[1, 2, 3, 4, 5, 6, 9, 789]\n"
     ]
    }
   ],
   "source": [
    "list_one = [1, 2, 3, 4, 5, 6, 9]\n",
    "list_two = [1, 2, 3, 4, 5, 6, 9]\n",
    "list_two.append(789)\n",
    "print(list_one, list_two, sep='\\n') "
   ]
  },
  {
   "cell_type": "code",
   "execution_count": 2,
   "id": "31fc92ca-d7f7-4105-b71d-d90fe5629e03",
   "metadata": {},
   "outputs": [
    {
     "name": "stdout",
     "output_type": "stream",
     "text": [
      "[1, 2, 3, 4, 5, 6, 9, 789]\n",
      "[1, 2, 3, 4, 5, 6, 9, 789]\n"
     ]
    }
   ],
   "source": [
    "list_one = [1, 2, 3, 4, 5, 6, 9]\n",
    "list_two = list_one\n",
    "list_two.append(789)\n",
    "print(list_one, list_two, sep='\\n')"
   ]
  },
  {
   "cell_type": "code",
   "execution_count": 7,
   "id": "2167d638-a918-4efc-9bc8-2f47f610ec7b",
   "metadata": {},
   "outputs": [
    {
     "name": "stdout",
     "output_type": "stream",
     "text": [
      " В первом коде переменные ссылаются на разные списки, \n",
      "поэтому новое значение в конце списка добавляется только во второй строке; \n",
      "во втором коде переменные ссылаются на один список, \n",
      "поэтому новое значение добавляется в обе строки\n"
     ]
    }
   ],
   "source": [
    "difference_explanation = ''' В первом коде переменные ссылаются на разные списки, \n",
    "поэтому новое значение в конце списка добавляется только во второй строке; \n",
    "во втором коде переменные ссылаются на один список, \n",
    "поэтому новое значение добавляется в обе строки'''\n",
    "print (difference_explanation)"
   ]
  },
  {
   "cell_type": "markdown",
   "id": "9062939d-6f44-44cf-9b28-5854ebeb1594",
   "metadata": {},
   "source": [
    "Задание 2.\n",
    "Задайте переменную a_poem типа строка, со следующим содержимым:\n",
    "<code>\n",
    "За стеклом лежал Питон,\n",
    "Большой и толстый, как батон.\n",
    "Вверх пополз,\n",
    "Затем вернулся,\n",
    "Круглым бубликом свернулся.\n",
    "</code>\n",
    "- Создайте переменную a_list типа список, заполнив ее содержимым строки a_poem так, чтобы каждый символ строки a_poem стал отдельным элементом списка a_list\n",
    "- Создайте переменную another_list типа список, заполнив ее содержимым строки a_poem так, чтобы каждое слово строки a_poem стал отдельным элементом списка another_list. Знаки препинания прилипнут к словам, не страшно.\n",
    "- Выведите на экран элементы и их количество для списков a_list и another_list.\n",
    "- Создайте переменную one_more_list типа список, каждым элементом которой является отдельная строка строфы из a_poem. Выведите на экран элементы one_more_list и их количество."
   ]
  },
  {
   "cell_type": "code",
   "execution_count": 20,
   "id": "ac243f9a-2a7a-49aa-b58b-993fea424ec4",
   "metadata": {},
   "outputs": [
    {
     "name": "stdout",
     "output_type": "stream",
     "text": [
      "a_list: ['З', 'а', ' ', 'с', 'т', 'е', 'к', 'л', 'о', 'м', ' ', 'л', 'е', 'ж', 'а', 'л', ' ', 'П', 'и', 'т', 'о', 'н', ',', '\\n', 'Б', 'о', 'л', 'ь', 'ш', 'о', 'й', ' ', 'и', ' ', 'т', 'о', 'л', 'с', 'т', 'ы', 'й', ',', ' ', 'к', 'а', 'к', ' ', 'б', 'а', 'т', 'о', 'н', '.', '\\n', 'В', 'в', 'е', 'р', 'х', ' ', 'п', 'о', 'п', 'о', 'л', 'з', ',', '\\n', 'З', 'а', 'т', 'е', 'м', ' ', 'в', 'е', 'р', 'н', 'у', 'л', 'с', 'я', ',', '\\n', 'К', 'р', 'у', 'г', 'л', 'ы', 'м', ' ', 'б', 'у', 'б', 'л', 'и', 'к', 'о', 'м', ' ', 'с', 'в', 'е', 'р', 'н', 'у', 'л', 'с', 'я', '.']\n",
      "symbcount:\n",
      "111\n",
      "another_list: ['За', 'стеклом', 'лежал', 'Питон,', 'Большой', 'и', 'толстый,', 'как', 'батон.', 'Вверх', 'пополз,', 'Затем', 'вернулся,', 'Круглым', 'бубликом', 'свернулся.']\n",
      "symbcount:\n",
      "16\n",
      "one_more_list: ['За стеклом лежал Питон,', 'Большой и толстый, как батон.', 'Вверх пополз,', 'Затем вернулся,', 'Круглым бубликом свернулся.']\n",
      "symbcount:\n",
      "5\n"
     ]
    }
   ],
   "source": [
    "a_poem = '''За стеклом лежал Питон,\n",
    "Большой и толстый, как батон.\n",
    "Вверх пополз,\n",
    "Затем вернулся,\n",
    "Круглым бубликом свернулся.'''\n",
    "a_list = list (a_poem)\n",
    "another_list = a_poem.split()\n",
    "print ('a_list:', a_list)\n",
    "print ('symbcount:', len(a_list), sep= '\\n')\n",
    "print ('another_list:', another_list)\n",
    "print ('symbcount:', len(another_list), sep= '\\n')\n",
    "one_more_list= a_poem.split('\\n')\n",
    "print ('one_more_list:', one_more_list)\n",
    "print ('symbcount:', len(one_more_list), sep= '\\n')"
   ]
  },
  {
   "cell_type": "markdown",
   "id": "2b39f64c-c7d4-4eb5-907e-d0d9f598c33f",
   "metadata": {},
   "source": [
    "Задание 3.\n",
    "- Создайте список solyanka_list, в качестве его элементов добавьте значения каждого из известных вам типов данных python.\n",
    "- Выведите на экран содержимое списка solyanka_list.\n",
    "- Посчитайте количество элементов списка solyanka_list.\n",
    "- Выведите на экран тип пятого от начала списка элемента.\n",
    "- Добавьте в конец списка solyanka_list элемент типа \"список\" из одного элемента\n",
    "- Выведите на экран тип последнего элемента списка solyanka_list "
   ]
  },
  {
   "cell_type": "code",
   "execution_count": 9,
   "id": "1317a98b-5c29-4cb5-b0cf-9dc94a030f08",
   "metadata": {},
   "outputs": [
    {
     "name": "stdout",
     "output_type": "stream",
     "text": [
      "[-3, 1.5, False, (1, 2, 3), 'str', [4, 5, 6], {'a,b,c'}]\n"
     ]
    }
   ],
   "source": [
    "solyanka_list = [ -3, 1.5, False, (1,2,3),'str', [4,5,6], {'a,b,c'}]\n",
    "print (solyanka_list)"
   ]
  },
  {
   "cell_type": "code",
   "execution_count": 10,
   "id": "65a6c748-b1a1-4e96-9b0f-25ba82c23095",
   "metadata": {},
   "outputs": [
    {
     "name": "stdout",
     "output_type": "stream",
     "text": [
      "symbcount: 7\n"
     ]
    }
   ],
   "source": [
    "print ('symbcount:', len(solyanka_list))"
   ]
  },
  {
   "cell_type": "code",
   "execution_count": 11,
   "id": "205d115e-b85a-49b3-9448-cf9f3ea0b754",
   "metadata": {},
   "outputs": [
    {
     "name": "stdout",
     "output_type": "stream",
     "text": [
      "5th_elem: <class 'str'>\n"
     ]
    }
   ],
   "source": [
    "print ('5th_elem:', type (solyanka_list [4]))"
   ]
  },
  {
   "cell_type": "code",
   "execution_count": 13,
   "id": "92f3dae1-38be-4f08-af8a-0012ac67d85d",
   "metadata": {},
   "outputs": [
    {
     "name": "stdout",
     "output_type": "stream",
     "text": [
      "last_element: <class 'list'>\n"
     ]
    }
   ],
   "source": [
    "solyanka_list.append(['element'])\n",
    "print ('last_element:', type (solyanka_list [-1]))"
   ]
  },
  {
   "cell_type": "markdown",
   "id": "1c3f95c6-cd6a-4ce5-b70b-654e896551fa",
   "metadata": {},
   "source": [
    "Задание 4.\n",
    "Дана последовательности чисел Фибоначчи из нескольких элементов:\n",
    "<code>\n",
    "0, 1, 1, 2, 3, 5, 8, 13, 21, 34, 55, 89, 144, 233, 377, 610, 987, 1597, 2584, 4181, 6765, 10946, 17711\n",
    "</code>\n",
    "- Создайте список fibonacci_list, элементами которого будут числа Фибонначи из задания.\n",
    "- Посчитайте и выведите на экран, сколько чисел Фибоначчи в последовательности из задания\n",
    "- Посчитайте и выведите на экран, сколько раз число 1 входит в заданную последовательность Фибоначчи.\n",
    "- Проверьте и выведите на экран результат, является ли число 21 числом Фибоначчи. Число 33? Число 987? число 9999?\n",
    "использование оператора if возможно, но не является необходимым\n"
   ]
  },
  {
   "cell_type": "code",
   "execution_count": 1,
   "id": "ea8bb03d-b06c-4f60-af8a-dcf862bc80d0",
   "metadata": {},
   "outputs": [
    {
     "name": "stdout",
     "output_type": "stream",
     "text": [
      "Fibonacci_symbol_count: 23\n"
     ]
    }
   ],
   "source": [
    "fibonacci_list = [0, 1, 1, 2, 3, 5, 8, 13, 21, 34, 55, 89, 144, 233, 377, 610, 987, 1597, 2584, 4181, 6765, 10946, 17711]\n",
    "print ('Fibonacci_symbol_count:', len (fibonacci_list))"
   ]
  },
  {
   "cell_type": "code",
   "execution_count": 3,
   "id": "d9a03471-bdd5-4489-b50f-833a22384391",
   "metadata": {},
   "outputs": [
    {
     "name": "stdout",
     "output_type": "stream",
     "text": [
      "How_many_ones: 2\n"
     ]
    }
   ],
   "source": [
    "print ('How_many_ones:', fibonacci_list.count(1))"
   ]
  },
  {
   "cell_type": "code",
   "execution_count": 4,
   "id": "d4f9e533-66ca-421a-8a1d-af1f95dc65ea",
   "metadata": {},
   "outputs": [
    {
     "name": "stdout",
     "output_type": "stream",
     "text": [
      "Does 21 in fibonacci list? — True\n",
      "Does 33 in fibonacci list? — False\n",
      "Does 987 in fibonacci list? — True\n",
      "Does 9999 in fibonacci list? — False\n"
     ]
    }
   ],
   "source": [
    "print('Does 21 in fibonacci list? —', 21 in fibonacci_list)\n",
    "print('Does 33 in fibonacci list? —', 33 in fibonacci_list)\n",
    "print('Does 987 in fibonacci list? —', 987 in fibonacci_list)\n",
    "print('Does 9999 in fibonacci list? —', 9999 in fibonacci_list)"
   ]
  },
  {
   "cell_type": "code",
   "execution_count": 35,
   "id": "c3b43dde-1bc6-45da-9236-ad8545bd8b03",
   "metadata": {},
   "outputs": [
    {
     "name": "stdout",
     "output_type": "stream",
     "text": [
      "Yes\n",
      "No\n",
      "Yes\n",
      "No\n"
     ]
    }
   ],
   "source": [
    "if 21 in fibonacci_list:\n",
    "   print ('Yes')\n",
    "else: \n",
    "   print ('No')\n",
    "if 33 in fibonacci_list:\n",
    "   print ('Yes')\n",
    "else: \n",
    "   print ('No')\n",
    "if 987 in fibonacci_list:\n",
    "   print ('Yes')\n",
    "else: \n",
    "   print ('No')\n",
    "if 9999 in fibonacci_list:\n",
    "   print ('Yes')\n",
    "else: \n",
    "   print ('No') "
   ]
  },
  {
   "cell_type": "markdown",
   "id": "dcdad8af-7eb3-4141-9ddf-fe563743c56b",
   "metadata": {},
   "source": [
    "Задание 5.\n",
    "Задайте переменную a_list типа \"список\" со следующим содержимым:\n",
    "<code>\n",
    "1,2,5,4,3,6\n",
    "</code>\n",
    "- выведите содержимое a_list на экран\n",
    "- поменяйте местами третий и пятый элементы a_list и выведите результат на экран"
   ]
  },
  {
   "cell_type": "code",
   "execution_count": 40,
   "id": "bda69f95-b8b5-4129-b0cb-d4ccbedc60c7",
   "metadata": {},
   "outputs": [
    {
     "name": "stdout",
     "output_type": "stream",
     "text": [
      "[1, 2, 5, 4, 3, 6]\n"
     ]
    }
   ],
   "source": [
    "a_list = [1,2,5,4,3,6]\n",
    "print (a_list)"
   ]
  },
  {
   "cell_type": "code",
   "execution_count": 44,
   "id": "1a05ea09-d5d6-4788-8d51-77efe17897d6",
   "metadata": {},
   "outputs": [
    {
     "name": "stdout",
     "output_type": "stream",
     "text": [
      "[1, 2, 3, 4, 3, 6]\n"
     ]
    }
   ],
   "source": [
    "a_list[2], a_list[4] = a_list[4], a_list[2]\n",
    "print(a_list)"
   ]
  },
  {
   "cell_type": "markdown",
   "id": "15144689-623a-43a5-80ca-0483f66017a1",
   "metadata": {},
   "source": [
    "Задание 6.\n",
    "    Кто-то перепутал строчки в стихотворении, хорошо что они были пронумерованы.\n",
    "<code>\n",
    "    (2, \"тот большего добьётся,\" )\n",
    "    (5, \"Кто умирал, тот знает, что живёт.\")\n",
    "    (1, \"Кто битым жизнью был,\" )\n",
    "    (3, \"Пуд соли съевший выше ценит мёд.\")\n",
    "    (4, \"Кто слёзы лил, тот искренней смеётся,\") \n",
    "</code>\n",
    "    выведите на экран строки Омара Хайама в правильном порядке, используя список."
   ]
  },
  {
   "cell_type": "code",
   "execution_count": 113,
   "id": "e85d1901-5856-41e1-bfb8-382e8489f86b",
   "metadata": {},
   "outputs": [
    {
     "name": "stdout",
     "output_type": "stream",
     "text": [
      "['(1, \"Кто битым жизнью был,\" )', '(2, \"тот большего добьётся,\" )', '(3, \"Пуд соли съевший выше ценит мёд.\")', '(4, \"Кто слёзы лил, тот искренней смеётся,\")', '(5, \"Кто умирал, тот знает, что живёт.\")']\n",
      "(1, \"Кто битым жизнью был,\" )\n",
      "(2, \"тот большего добьётся,\" )\n",
      "(3, \"Пуд соли съевший выше ценит мёд.\")\n",
      "(4, \"Кто слёзы лил, тот искренней смеётся,\")\n",
      "(5, \"Кто умирал, тот знает, что живёт.\")\n"
     ]
    }
   ],
   "source": [
    "o_h_poem = '''(2, \"тот большего добьётся,\" )\n",
    "(5, \"Кто умирал, тот знает, что живёт.\")\n",
    "(1, \"Кто битым жизнью был,\" )\n",
    "(3, \"Пуд соли съевший выше ценит мёд.\")\n",
    "(4, \"Кто слёзы лил, тот искренней смеётся,\")'''\n",
    "\n",
    "splitted = o_h_poem.split('\\n')\n",
    "splitted.sort()\n",
    "print (splitted)\n",
    "print ('\\n'.join (splitted))"
   ]
  },
  {
   "cell_type": "code",
   "execution_count": null,
   "id": "aaa606d6-ba27-4aa5-b211-fc1244f6597a",
   "metadata": {},
   "outputs": [],
   "source": [
    "#list_name = ['would', 'it', 'be', 'multiple', 'lines', '?']\n",
    "#print(*list_name, sep='\\n')\n",
    "#'\\n'.join(['I', 'would', 'expect', 'multiple', 'lines'])\n",
    "#print('\\n'.join(['I', 'would', 'expect', 'multiple', 'lines']))"
   ]
  },
  {
   "cell_type": "markdown",
   "id": "d1eaace5-016a-4564-b189-33876e6c0e20",
   "metadata": {},
   "source": [
    "Задание 7.\n",
    "<code>\n",
    "Кто битым за дедлайн был,\n",
    "тот больше не сольется.\n",
    "Пуд багов съевший, выше ценит чистый код.\n",
    "Кто дошик ел, тот рейтинг ценит свой.\n",
    "Кто крашился, тот знает, что живой.\n",
    "</code>\n",
    "В данном задании после каждой операции выводите на экран содержимое true_story_list и количество его элементов.\n",
    "- Создайте переменную true_story_list типа список, занесите в неё третью строку из стихотворения выше.\n",
    "- Добавьте четвертую строку в конец списка true_story_list.\n",
    "- Создайте переменную true_story_slice типа список, занесите в неё четвертую и пятую строки из стихотворения выше. Добавьте содержимое true_story_slice как один последний элемент списка true_story_list.\n",
    "- Очистите весь список true_story_slice, выведите его содержимое на экран.\n",
    "- Добавьте первую строку из стихотворение в начало списка true_story_list\n",
    "- Удалите из true_story_list все элементы.\n",
    "- Удалите последний элемент списка true_story_list\n",
    "- Добавьте вторым элементом списка true_story_list вторую строчку стихотворения\n",
    "- Создайте переменную true_story_tail типа список, занесите в него пятую строку стихотворения дважды. Скопируйте элементы списка true_story_tail в конец списка true_story_list.\n",
    "- Удалите 5 элемент списка true_story_list.\n",
    "- *Выведите список true_story_list красиво в виде стихотворения. (кажется, это ещё не проходили, но попробовать стоит)"
   ]
  },
  {
   "cell_type": "code",
   "execution_count": 121,
   "id": "f022d5b0-5d91-4662-9bf2-6bc20fb1b269",
   "metadata": {},
   "outputs": [
    {
     "name": "stdout",
     "output_type": "stream",
     "text": [
      "['Пуд багов съевший, выше ценит чистый код.']\n",
      "elements_count: 1\n"
     ]
    }
   ],
   "source": [
    "true_story_list = ['Пуд багов съевший, выше ценит чистый код.']\n",
    "print(true_story_list)\n",
    "print('elements_count:', len(true_story_list))"
   ]
  },
  {
   "cell_type": "code",
   "execution_count": 122,
   "id": "ce4766ed-cce1-4041-a47d-b845f815a565",
   "metadata": {},
   "outputs": [
    {
     "name": "stdout",
     "output_type": "stream",
     "text": [
      "['Пуд багов съевший, выше ценит чистый код.', 'Кто дошик ел, тот рейтинг ценит свой.']\n",
      "elements_count: 2\n"
     ]
    }
   ],
   "source": [
    "true_story_list.append('Кто дошик ел, тот рейтинг ценит свой.')\n",
    "print (true_story_list)\n",
    "print('elements_count:', len(true_story_list))"
   ]
  },
  {
   "cell_type": "code",
   "execution_count": 123,
   "id": "1db70887-a421-484c-82ae-63961712a40f",
   "metadata": {},
   "outputs": [
    {
     "name": "stdout",
     "output_type": "stream",
     "text": [
      "['Пуд багов съевший, выше ценит чистый код.', 'Кто дошик ел, тот рейтинг ценит свой.', ['Кто дошик ел, тот рейтинг ценит свой.', 'Кто крашился, тот знает, что живой.']]\n",
      "elements_count: 3\n"
     ]
    }
   ],
   "source": [
    "true_story_slice = ['Кто дошик ел, тот рейтинг ценит свой.', 'Кто крашился, тот знает, что живой.']\n",
    "true_story_list.append(true_story_slice)\n",
    "print (true_story_list)\n",
    "print('elements_count:', len(true_story_list))"
   ]
  },
  {
   "cell_type": "code",
   "execution_count": 125,
   "id": "7e46db73-3b03-43ed-b95b-ab371e49cfd1",
   "metadata": {},
   "outputs": [
    {
     "name": "stdout",
     "output_type": "stream",
     "text": [
      "[]\n",
      "['Пуд багов съевший, выше ценит чистый код.', 'Кто дошик ел, тот рейтинг ценит свой.', []]\n",
      "elements_count: 3\n"
     ]
    }
   ],
   "source": [
    "true_story_slice.clear()\n",
    "print (true_story_slice)\n",
    "print (true_story_list)\n",
    "print('elements_count:', len(true_story_list))"
   ]
  },
  {
   "cell_type": "code",
   "execution_count": 128,
   "id": "8bb0c209-744b-40a3-b955-24b80bf97023",
   "metadata": {},
   "outputs": [
    {
     "name": "stdout",
     "output_type": "stream",
     "text": [
      "['Кто битым за дедлайн был,', 'Кто битым за дедлайн был,', 'Пуд багов съевший, выше ценит чистый код.', 'Кто дошик ел, тот рейтинг ценит свой.']\n",
      "elements_count: 4\n"
     ]
    }
   ],
   "source": [
    "true_story_list.insert(0,'Кто битым за дедлайн был,')\n",
    "print (true_story_list)\n",
    "print('elements_count:', len(true_story_list))"
   ]
  },
  {
   "cell_type": "code",
   "execution_count": null,
   "id": "d767aa8c-00ec-463b-aac5-6993727df2ec",
   "metadata": {},
   "outputs": [],
   "source": [
    "#Удалите из true_story_list все элементы."
   ]
  },
  {
   "cell_type": "code",
   "execution_count": 129,
   "id": "45a2f23b-608c-4061-b3dd-6d38922107a7",
   "metadata": {},
   "outputs": [
    {
     "name": "stdout",
     "output_type": "stream",
     "text": [
      "['Кто битым за дедлайн был,', 'Кто битым за дедлайн был,', 'Пуд багов съевший, выше ценит чистый код.']\n",
      "elements_count: 3\n"
     ]
    }
   ],
   "source": [
    "true_story_list.pop()\n",
    "print (true_story_list)\n",
    "print('elements_count:', len(true_story_list))"
   ]
  },
  {
   "cell_type": "code",
   "execution_count": 130,
   "id": "107228c6-615f-4099-b6a0-8bea9c778799",
   "metadata": {},
   "outputs": [
    {
     "name": "stdout",
     "output_type": "stream",
     "text": [
      "['Кто битым за дедлайн был,', 'тот больше не сольется.', 'Кто битым за дедлайн был,', 'Пуд багов съевший, выше ценит чистый код.']\n",
      "elements_count: 4\n"
     ]
    }
   ],
   "source": [
    "true_story_list.insert(1,'тот больше не сольется.')\n",
    "print (true_story_list)\n",
    "print('elements_count:', len(true_story_list))"
   ]
  },
  {
   "cell_type": "markdown",
   "id": "c7e737a6-b94a-426e-9e2e-1a407b9e0c7d",
   "metadata": {},
   "source": [
    "true_story_tail = ['Кто крашился, тот знает, что живой.'] * 2\n",
    "true_story_list.extend(true_story_tail)\n",
    "print (true_story_list)\n",
    "print('elements_count:', len(true_story_list))"
   ]
  },
  {
   "cell_type": "code",
   "execution_count": null,
   "id": "06af5015-52c1-4413-b9aa-3be760798152",
   "metadata": {},
   "outputs": [],
   "source": [
    "#что-то пошло не так)))"
   ]
  },
  {
   "cell_type": "markdown",
   "id": "21131a29-5221-4ed1-a724-4573c2f59474",
   "metadata": {},
   "source": [
    "true_story_tail = ['Кто крашился, тот знает, что живой.Кто крашился, тот знает, что живой.']\n",
    "true_story_list.extend(true_story_tail)\n",
    "print (true_story_list)\n",
    "print('elements_count:', len(true_story_list))"
   ]
  },
  {
   "cell_type": "code",
   "execution_count": 151,
   "id": "36fce74a-7ce9-4aa0-b5da-9aa3f540b73b",
   "metadata": {},
   "outputs": [
    {
     "name": "stdout",
     "output_type": "stream",
     "text": [
      "['Пуд багов съевший, выше ценит чистый код.']\n",
      "elements_count: 1\n"
     ]
    }
   ],
   "source": [
    "true_story_list = ['Пуд багов съевший, выше ценит чистый код.']\n",
    "print(true_story_list)\n",
    "print('elements_count:', len(true_story_list))"
   ]
  },
  {
   "cell_type": "code",
   "execution_count": 152,
   "id": "09b6fcf3-c04e-4c10-bc5e-edd4bda23d99",
   "metadata": {},
   "outputs": [
    {
     "name": "stdout",
     "output_type": "stream",
     "text": [
      "['Пуд багов съевший, выше ценит чистый код.', 'Кто дошик ел, тот рейтинг ценит свой.']\n",
      "elements_count: 2\n"
     ]
    }
   ],
   "source": [
    "true_story_list.append('Кто дошик ел, тот рейтинг ценит свой.')\n",
    "print (true_story_list)\n",
    "print('elements_count:', len(true_story_list))"
   ]
  },
  {
   "cell_type": "code",
   "execution_count": 153,
   "id": "9d06301e-7f20-4a5e-b067-547454a650dc",
   "metadata": {},
   "outputs": [
    {
     "name": "stdout",
     "output_type": "stream",
     "text": [
      "['Пуд багов съевший, выше ценит чистый код.', 'Кто дошик ел, тот рейтинг ценит свой.', ['Кто дошик ел, тот рейтинг ценит свой.', 'Кто крашился, тот знает, что живой.']]\n",
      "elements_count: 3\n"
     ]
    }
   ],
   "source": [
    "true_story_slice = ['Кто дошик ел, тот рейтинг ценит свой.', 'Кто крашился, тот знает, что живой.']\n",
    "true_story_list.append(true_story_slice)\n",
    "print (true_story_list)\n",
    "print('elements_count:', len(true_story_list))"
   ]
  },
  {
   "cell_type": "code",
   "execution_count": 154,
   "id": "7700c179-1fce-4744-9052-9c3f5efa68cf",
   "metadata": {},
   "outputs": [
    {
     "name": "stdout",
     "output_type": "stream",
     "text": [
      "[]\n",
      "['Пуд багов съевший, выше ценит чистый код.', 'Кто дошик ел, тот рейтинг ценит свой.', []]\n",
      "elements_count: 3\n"
     ]
    }
   ],
   "source": [
    "true_story_slice.clear()\n",
    "print (true_story_slice)\n",
    "print (true_story_list)\n",
    "print('elements_count:', len(true_story_list))"
   ]
  },
  {
   "cell_type": "code",
   "execution_count": 155,
   "id": "de7bffef-85ba-405c-9f70-b66e8f33e7b9",
   "metadata": {},
   "outputs": [
    {
     "name": "stdout",
     "output_type": "stream",
     "text": [
      "['Кто битым за дедлайн был,', 'Пуд багов съевший, выше ценит чистый код.', 'Кто дошик ел, тот рейтинг ценит свой.', []]\n",
      "elements_count: 4\n"
     ]
    }
   ],
   "source": [
    "true_story_list.insert(0,'Кто битым за дедлайн был,')\n",
    "print (true_story_list)\n",
    "print('elements_count:', len(true_story_list))"
   ]
  },
  {
   "cell_type": "code",
   "execution_count": 156,
   "id": "a8224f09-3f98-465b-982d-515ea487a08a",
   "metadata": {},
   "outputs": [
    {
     "name": "stdout",
     "output_type": "stream",
     "text": [
      "['Кто битым за дедлайн был,', 'Пуд багов съевший, выше ценит чистый код.', 'Кто дошик ел, тот рейтинг ценит свой.']\n",
      "elements_count: 3\n"
     ]
    }
   ],
   "source": [
    "true_story_list.pop()\n",
    "print (true_story_list)\n",
    "print('elements_count:', len(true_story_list))"
   ]
  },
  {
   "cell_type": "code",
   "execution_count": 157,
   "id": "50b2a292-f408-4b18-ab8b-f533eba707a3",
   "metadata": {},
   "outputs": [
    {
     "name": "stdout",
     "output_type": "stream",
     "text": [
      "['Кто битым за дедлайн был,', 'тот больше не сольется.', 'Пуд багов съевший, выше ценит чистый код.', 'Кто дошик ел, тот рейтинг ценит свой.']\n",
      "elements_count: 4\n"
     ]
    }
   ],
   "source": [
    "true_story_list.insert(1,'тот больше не сольется.')\n",
    "print (true_story_list)\n",
    "print('elements_count:', len(true_story_list))"
   ]
  },
  {
   "cell_type": "code",
   "execution_count": 158,
   "id": "613342af-7cb5-4a54-affd-78f122ae7857",
   "metadata": {},
   "outputs": [
    {
     "name": "stdout",
     "output_type": "stream",
     "text": [
      "['Кто битым за дедлайн был,', 'тот больше не сольется.', 'Пуд багов съевший, выше ценит чистый код.', 'Кто дошик ел, тот рейтинг ценит свой.', 'Кто крашился, тот знает, что живой.', 'Кто крашился, тот знает, что живой.']\n",
      "elements_count: 6\n"
     ]
    }
   ],
   "source": [
    "true_story_tail = ['Кто крашился, тот знает, что живой.'] * 2\n",
    "true_story_list.extend(true_story_tail)\n",
    "print (true_story_list)\n",
    "print('elements_count:', len(true_story_list))"
   ]
  },
  {
   "cell_type": "code",
   "execution_count": 159,
   "id": "2839a7f4-6773-461d-86cf-f4048bd11735",
   "metadata": {},
   "outputs": [
    {
     "name": "stdout",
     "output_type": "stream",
     "text": [
      "['Кто битым за дедлайн был,', 'тот больше не сольется.', 'Пуд багов съевший, выше ценит чистый код.', 'Кто дошик ел, тот рейтинг ценит свой.', 'Кто крашился, тот знает, что живой.']\n",
      "elements_count: 5\n"
     ]
    }
   ],
   "source": [
    "true_story_list.pop(4)\n",
    "print (true_story_list)\n",
    "print('elements_count:', len(true_story_list))"
   ]
  },
  {
   "cell_type": "code",
   "execution_count": 160,
   "id": "984c3839-1709-4b69-8b31-b17ade2622cb",
   "metadata": {},
   "outputs": [
    {
     "name": "stdout",
     "output_type": "stream",
     "text": [
      "Кто битым за дедлайн был,\n",
      "тот больше не сольется.\n",
      "Пуд багов съевший, выше ценит чистый код.\n",
      "Кто дошик ел, тот рейтинг ценит свой.\n",
      "Кто крашился, тот знает, что живой.\n"
     ]
    }
   ],
   "source": [
    "print(*true_story_list, sep='\\n')"
   ]
  },
  {
   "cell_type": "code",
   "execution_count": null,
   "id": "678a0ab7-a38f-478e-aeff-be8a198ac322",
   "metadata": {},
   "outputs": [],
   "source": [
    "#bingo:)"
   ]
  },
  {
   "cell_type": "code",
   "execution_count": 161,
   "id": "6738029b-7155-491b-bb5c-418a5cfbf971",
   "metadata": {},
   "outputs": [
    {
     "name": "stdout",
     "output_type": "stream",
     "text": [
      "[]\n",
      "elements_count: 0\n"
     ]
    }
   ],
   "source": [
    "true_story_list.clear()\n",
    "print (true_story_list)\n",
    "print('elements_count:', len(true_story_list))"
   ]
  },
  {
   "cell_type": "markdown",
   "id": "c1abfad7-cd4a-4ae6-8fad-7c7c401c3e2d",
   "metadata": {},
   "source": [
    "#  test"
   ]
  },
  {
   "cell_type": "code",
   "execution_count": 115,
   "id": "79141109-487d-4aba-ab77-f059c8b42942",
   "metadata": {},
   "outputs": [
    {
     "name": "stdout",
     "output_type": "stream",
     "text": [
      "would\n",
      "it\n",
      "be\n",
      "multiple\n",
      "lines\n",
      "?\n",
      "I\n",
      "would\n",
      "expect\n",
      "multiple\n",
      "lines\n"
     ]
    }
   ],
   "source": [
    "list_name = ['would', 'it', 'be', 'multiple', 'lines', '?']\n",
    "print(*list_name, sep='\\n')\n",
    "'\\n'.join(['I', 'would', 'expect', 'multiple', 'lines'])\n",
    "print('\\n'.join(['I', 'would', 'expect', 'multiple', 'lines']))"
   ]
  },
  {
   "cell_type": "code",
   "execution_count": 139,
   "id": "9a09c741-ad67-449b-8ddc-6d2cfe506a90",
   "metadata": {},
   "outputs": [
    {
     "name": "stdout",
     "output_type": "stream",
     "text": [
      "['Пуд багов съевший, выше ценит чистый код.']\n",
      "elements_count: 1\n"
     ]
    }
   ],
   "source": [
    "true_story_list = ['Пуд багов съевший, выше ценит чистый код.']\n",
    "print(true_story_list)\n",
    "print('elements_count:', len(true_story_list))"
   ]
  },
  {
   "cell_type": "code",
   "execution_count": 140,
   "id": "b235b781-4455-4374-b463-c6e4f1b760ca",
   "metadata": {},
   "outputs": [
    {
     "name": "stdout",
     "output_type": "stream",
     "text": [
      "['Пуд багов съевший, выше ценит чистый код.', 'Кто дошик ел, тот рейтинг ценит свой.']\n",
      "elements_count: 2\n"
     ]
    }
   ],
   "source": [
    "true_story_list.append('Кто дошик ел, тот рейтинг ценит свой.')\n",
    "print (true_story_list)\n",
    "print('elements_count:', len(true_story_list))"
   ]
  },
  {
   "cell_type": "code",
   "execution_count": 141,
   "id": "63c78527-f918-46d9-90d5-32e91f5f8a20",
   "metadata": {},
   "outputs": [
    {
     "name": "stdout",
     "output_type": "stream",
     "text": [
      "['Пуд багов съевший, выше ценит чистый код.', 'Кто дошик ел, тот рейтинг ценит свой.', ['Кто дошик ел, тот рейтинг ценит свой.', 'Кто крашился, тот знает, что живой.']]\n",
      "elements_count: 3\n"
     ]
    }
   ],
   "source": [
    "true_story_slice = ['Кто дошик ел, тот рейтинг ценит свой.', 'Кто крашился, тот знает, что живой.']\n",
    "true_story_list.append(true_story_slice)\n",
    "print (true_story_list)\n",
    "print('elements_count:', len(true_story_list))"
   ]
  },
  {
   "cell_type": "code",
   "execution_count": 142,
   "id": "36522cb3-9070-4b03-a325-424bb195b110",
   "metadata": {},
   "outputs": [
    {
     "name": "stdout",
     "output_type": "stream",
     "text": [
      "[]\n",
      "['Пуд багов съевший, выше ценит чистый код.', 'Кто дошик ел, тот рейтинг ценит свой.', []]\n",
      "elements_count: 3\n"
     ]
    }
   ],
   "source": [
    "true_story_slice.clear()\n",
    "print (true_story_slice)\n",
    "print (true_story_list)\n",
    "print('elements_count:', len(true_story_list))"
   ]
  },
  {
   "cell_type": "code",
   "execution_count": 143,
   "id": "01405f0b-bb5b-4560-98c5-3547c60eb09a",
   "metadata": {},
   "outputs": [
    {
     "name": "stdout",
     "output_type": "stream",
     "text": [
      "['Кто битым за дедлайн был,', 'Пуд багов съевший, выше ценит чистый код.', 'Кто дошик ел, тот рейтинг ценит свой.', []]\n",
      "elements_count: 4\n"
     ]
    }
   ],
   "source": [
    "true_story_list.insert(0,'Кто битым за дедлайн был,')\n",
    "print (true_story_list)\n",
    "print('elements_count:', len(true_story_list))"
   ]
  },
  {
   "cell_type": "code",
   "execution_count": 144,
   "id": "025a8484-f5c6-4b45-9f63-4a865fb80d41",
   "metadata": {},
   "outputs": [
    {
     "name": "stdout",
     "output_type": "stream",
     "text": [
      "['Кто битым за дедлайн был,', 'Пуд багов съевший, выше ценит чистый код.', 'Кто дошик ел, тот рейтинг ценит свой.', [], 'Кто крашился, тот знает, что живой.', 'Кто крашился, тот знает, что живой.']\n",
      "elements_count: 6\n"
     ]
    }
   ],
   "source": [
    "true_story_tail = ['Кто крашился, тот знает, что живой.'] * 2\n",
    "true_story_list.extend(true_story_tail)\n",
    "print (true_story_list)\n",
    "print('elements_count:', len(true_story_list))"
   ]
  },
  {
   "cell_type": "code",
   "execution_count": 147,
   "id": "288e11b7-26eb-42e1-a91a-6b39a962a590",
   "metadata": {},
   "outputs": [
    {
     "name": "stdout",
     "output_type": "stream",
     "text": [
      "['Кто битым за дедлайн был,', 'Пуд багов съевший, выше ценит чистый код.', 'Кто дошик ел, тот рейтинг ценит свой.', [], 'Кто крашился, тот знает, что живой.', 'Кто крашился, тот знает, что живой.', 'Кто крашился, тот знает, что живой.', 'Кто крашился, тот знает, что живой.', 'Кто крашился, тот знает, что живой.']\n",
      "elements_count: 9\n"
     ]
    }
   ],
   "source": [
    "true_story_list.pop(4)\n",
    "print (true_story_list)\n",
    "print('elements_count:', len(true_story_list))"
   ]
  },
  {
   "cell_type": "code",
   "execution_count": 150,
   "id": "fa8ac1e5-2fc0-432b-bf74-a38b1f502069",
   "metadata": {},
   "outputs": [
    {
     "name": "stdout",
     "output_type": "stream",
     "text": [
      "Кто битым за дедлайн был,\n",
      "Пуд багов съевший, выше ценит чистый код.\n",
      "Кто дошик ел, тот рейтинг ценит свой.\n",
      "[]\n",
      "Кто крашился, тот знает, что живой.\n",
      "Кто крашился, тот знает, что живой.\n",
      "Кто крашился, тот знает, что живой.\n",
      "Кто крашился, тот знает, что живой.\n",
      "Кто крашился, тот знает, что живой.\n"
     ]
    }
   ],
   "source": [
    "print(*true_story_list, sep='\\n')"
   ]
  },
  {
   "cell_type": "code",
   "execution_count": null,
   "id": "57f5e85c-d33f-45d4-bf2e-d684bf179593",
   "metadata": {},
   "outputs": [],
   "source": []
  }
 ],
 "metadata": {
  "kernelspec": {
   "display_name": "Python 3 (ipykernel)",
   "language": "python",
   "name": "python3"
  },
  "language_info": {
   "codemirror_mode": {
    "name": "ipython",
    "version": 3
   },
   "file_extension": ".py",
   "mimetype": "text/x-python",
   "name": "python",
   "nbconvert_exporter": "python",
   "pygments_lexer": "ipython3",
   "version": "3.10.10"
  }
 },
 "nbformat": 4,
 "nbformat_minor": 5
}
