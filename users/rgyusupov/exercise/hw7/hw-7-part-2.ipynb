{
 "cells": [
  {
   "cell_type": "markdown",
   "id": "8b297e4b-5c57-4031-8477-6852f9969a5a",
   "metadata": {},
   "source": [
    "# Упражнения  1"
   ]
  },
  {
   "cell_type": "markdown",
   "id": "6d1f2730-c3fe-48c4-8146-52ea02dee954",
   "metadata": {},
   "source": [
    "#1. Любимые вещи \n",
    "\n",
    "Создайте список своих любимых развлечений и сохраните его в переменной games. Теперь создайте список любимых лакомств, сохранив его в переменной foods. Объедините два этих списка, сохранив результат в переменной favorites, и напечатайте значение этой переменной. "
   ]
  },
  {
   "cell_type": "code",
   "execution_count": 1,
   "id": "5635c277-31db-4929-af74-b716eddab2e3",
   "metadata": {},
   "outputs": [
    {
     "name": "stdout",
     "output_type": "stream",
     "text": [
      "['фудбол', 'шахматы', 'борщь', 'суп']\n"
     ]
    }
   ],
   "source": [
    "games = ['фудбол', 'шахматы']\n",
    "foods = ['борщь', 'суп']\n",
    "\n",
    "favorites = [*games, *foods]\n",
    "print(favorites)"
   ]
  },
  {
   "cell_type": "markdown",
   "id": "f55e90dd-f196-4444-9ade-271f2a3035e3",
   "metadata": {},
   "source": [
    "#2. Подсчет воинов \n",
    "\n",
    "Есть 3 дома, на крыше каждого из которых прячутся по 25 ниндзя, и есть 2 туннеля, в каждом из которых скрывается по 40 самураев. Сколько всего воинов решили устроить заварушку? (Ответ можно найти, введя в оболочке Python арифметическое выражение.) "
   ]
  },
  {
   "cell_type": "code",
   "execution_count": 2,
   "id": "66e47315-d5d8-44ae-aa04-d239bc3101ab",
   "metadata": {},
   "outputs": [
    {
     "data": {
      "text/plain": [
       "155"
      ]
     },
     "execution_count": 2,
     "metadata": {},
     "output_type": "execute_result"
    }
   ],
   "source": [
    "3*25 + 2*40"
   ]
  },
  {
   "cell_type": "markdown",
   "id": "c0aed4b8-cfae-4122-a1a4-2ac301e230f3",
   "metadata": {},
   "source": [
    "#3. Приветствие \n",
    "\n",
    "Создайте две переменные: пусть одна хранит ваше имя, а другая фамилию. Теперь с помощью строки с метками %s напечатайте приветствие вроде такого: «Привет, Брандо Икетт!». "
   ]
  },
  {
   "cell_type": "code",
   "execution_count": 3,
   "id": "f22d8b63-9f69-43f6-8824-63952c11a89e",
   "metadata": {},
   "outputs": [
    {
     "name": "stdout",
     "output_type": "stream",
     "text": [
      "Привет, Ruslan Yusupov!\n"
     ]
    }
   ],
   "source": [
    "name = \"Ruslan\"\n",
    "surname = \"Yusupov\"\n",
    "\n",
    "greeting = \"Привет, %s %s!\" % (name, surname)\n",
    "\n",
    "print(greeting)"
   ]
  },
  {
   "cell_type": "markdown",
   "id": "a8184374-86ca-44d2-bd6d-7b8e977e1414",
   "metadata": {},
   "source": [
    "# Упражнения  2"
   ]
  },
  {
   "cell_type": "markdown",
   "id": "aff0b705-69b3-46a7-a507-84ef59251ed9",
   "metadata": {},
   "source": [
    "Решите эти задачи, используя конструкции if и условия. "
   ]
  },
  {
   "cell_type": "markdown",
   "id": "89d1f11b-2cc5-4c43-abfc-acd93c96af98",
   "metadata": {},
   "source": [
    "#1. Вы богаты? \n",
    "\n",
    "Как думаете, что делает этот код? Сначала попробуйте в этом разобраться, не вводя код в оболочку Python, а затем проверьте свой ответ. \n",
    "\n",
    "money = 2000\n",
    "if money > 1000:\n",
    "     print(\"Я богат!\")\n",
    "else: \n",
    "     print(\"Я не богат!\")\n",
    "     print(\"Может, когда-нибудь потом...\")"
   ]
  },
  {
   "cell_type": "code",
   "execution_count": null,
   "id": "a4e52a52-a3ff-47d4-9b77-981e36f06e8b",
   "metadata": {},
   "outputs": [],
   "source": [
    "# Я богат!\n",
    "# Может, когда-нибудь потом..."
   ]
  },
  {
   "cell_type": "markdown",
   "id": "1183331f-c46e-4893-bf55-2bdb670e255e",
   "metadata": {},
   "source": [
    "#2. Бисквитики! \n",
    "\n",
    "Создайте конструкцию if, которая проверяет, действительно ли количество бисквитов (которое задано в переменной twinkies) меньше 100 или больше 500. Если это условие выполняется, пусть ваша программа напечатает сообщение «Слишком мало или слишком много». "
   ]
  },
  {
   "cell_type": "code",
   "execution_count": 6,
   "id": "f8dc689d-d062-4f28-b50e-75ccecf89971",
   "metadata": {},
   "outputs": [
    {
     "name": "stdout",
     "output_type": "stream",
     "text": [
      "Слишком мало или слишком много!\n",
      "Слишком мало или слишком много!!!\n"
     ]
    }
   ],
   "source": [
    "twinkies = 50\n",
    "if twinkies<100 or twinkies>500:\n",
    "    print(\"Слишком мало или слишком много!\")\n",
    "\n",
    "twinkies = 200\n",
    "if twinkies<100 or twinkies>500:\n",
    "    print(\"Слишком мало или слишком много!!\")\n",
    "\n",
    "twinkies = 600\n",
    "if twinkies<100 or twinkies>500:\n",
    "    print(\"Слишком мало или слишком много!!!\")"
   ]
  },
  {
   "cell_type": "markdown",
   "id": "fb539c2b-233a-4742-9b90-62d49976c1fc",
   "metadata": {},
   "source": [
    "#3. Подходящая сумма \n",
    "\n",
    "Создайте конструкцию if, которая проверяет, соответствует ли заданная в переменной money сумма денег диапазону значений от 100 до 500 или диапазону значений от 1000 до 5000. \n"
   ]
  },
  {
   "cell_type": "code",
   "execution_count": null,
   "id": "aa8f500a-9438-4d78-a3f9-068c8d905faa",
   "metadata": {},
   "outputs": [],
   "source": [
    "money = 200\n",
    "\n",
    "if 100<=money<=500 or 1000<=money<=5000:\n",
    "    print(\"Сумма подходящая\")"
   ]
  },
  {
   "cell_type": "markdown",
   "id": "b45acc03-9cac-488e-9e0a-7a1016d6ac44",
   "metadata": {},
   "source": [
    "#4. Я одолею этих ниндзя! \n",
    "\n",
    "Создайте конструкцию if, которая печатает строку «Их слишком много», если количество ниндзя (заданное в переменной ninjas) меньше 50, печатает «Будет непросто, но я с ними разделаюсь», если это количество меньше 30, и печатает «Я одолею этих ниндзя!», если количество меньше 10. Проверьте, как ваш код работает с таким значением: \n",
    "\n",
    "ninjas = 5 \n"
   ]
  },
  {
   "cell_type": "code",
   "execution_count": 7,
   "id": "3d46e292-3078-42f8-b0c3-fec3a1a67736",
   "metadata": {},
   "outputs": [
    {
     "name": "stdout",
     "output_type": "stream",
     "text": [
      "Я одолею этих ниндзя!\n"
     ]
    }
   ],
   "source": [
    "ninjas = 5\n",
    "\n",
    "if 30<=ninjas<50:\n",
    "    print(\"Их слишком много\")\n",
    "elif 10<=ninjas<30:\n",
    "    print(\"Будет непросто, но я с ними разделаюсь\")\n",
    "else:\n",
    "    print(\"Я одолею этих ниндзя!\")"
   ]
  },
  {
   "cell_type": "markdown",
   "id": "a8ce929f-9301-4ef5-ba8b-995cdca327be",
   "metadata": {},
   "source": [
    "# Упражнения  3"
   ]
  },
  {
   "cell_type": "markdown",
   "id": "a329ee3c-f1ba-474e-8522-9c22cba41c39",
   "metadata": {},
   "source": [
    "#1. Цикл с приветом \n",
    "\n",
    "Как вы считаете, что делает эта программа? Сперва придумайте вариант ответа, а потом запустите код и проверьте, угадали ли вы. \n",
    "\n",
    "for x in range(0, 20):\n",
    "    print('привет %s' % x)\n",
    "    if x < 9:\n",
    "        break "
   ]
  },
  {
   "cell_type": "code",
   "execution_count": null,
   "id": "7a80888e-52d5-4d14-8765-5bc122e36e82",
   "metadata": {},
   "outputs": [],
   "source": [
    "# привет 0"
   ]
  },
  {
   "cell_type": "markdown",
   "id": "aa377f2e-0bdd-4cc9-b37b-6e4afbc8403f",
   "metadata": {},
   "source": [
    "#2. Четные числа \n",
    "\n",
    "Создайте цикл, который печатает четные числа до тех пор, пока не выведет ваш возраст. Если ваш возраст — нечетное число, создайте цикл, который печатает нечетные числа до совпадения с возрастом. Программа должна выводить на экран нечто подобное: \n",
    "\n",
    "2 4 6 8 10 12 14 "
   ]
  },
  {
   "cell_type": "code",
   "execution_count": null,
   "id": "9e3b5d87-4715-4e11-a58b-a94d28a3e105",
   "metadata": {},
   "outputs": [],
   "source": [
    "age = 40\n",
    "\n",
    "for i in range(2,age+1,2):\n",
    "    print i"
   ]
  },
  {
   "cell_type": "markdown",
   "id": "cd4c3457-59d6-40e0-a108-563c4c77a537",
   "metadata": {},
   "source": [
    "#3. Пять любимых ингредиентов \n",
    "\n",
    "Создайте список с пятью разными ингредиентами для бутерброда, наподобие: \n",
    "\n",
    "ingredients = ['слизни', 'пиявки', 'катышки изпупка гориллы', 'брови гусеницы', 'пальцы многоножки'] \n",
    "\n",
    "Теперь создайте цикл, который печатает список ингредиентов с нумерацией: \n",
    "\n",
    "1 слизни\n",
    "2 пиявки\n",
    "3 катышки изпупка гориллы \n",
    "4 брови гусеницы\n",
    "5 пальцы многоножки"
   ]
  },
  {
   "cell_type": "code",
   "execution_count": 8,
   "id": "229e0605-4ad8-4b5a-a69b-46e4ae162f64",
   "metadata": {},
   "outputs": [
    {
     "name": "stdout",
     "output_type": "stream",
     "text": [
      "1 слизни\n",
      "2 пиявки\n",
      "3 катышки изпупка гориллы\n",
      "4 брови гусеницы\n",
      "5 пальцы многоножки\n"
     ]
    }
   ],
   "source": [
    "ingredients = ['слизни', 'пиявки', 'катышки изпупка гориллы', 'брови гусеницы', 'пальцы многоножки'] \n",
    "\n",
    "for k,v in enumerate(ingredients):\n",
    "    print(k+1, v)"
   ]
  },
  {
   "cell_type": "markdown",
   "id": "d7125cd4-c7b2-4660-9663-9c0bcfb50035",
   "metadata": {},
   "source": [
    "#4. Ваш лунный вес \n",
    "\n",
    "Если бы вы сейчас были на Луне, ваш вес составил бы 16,5 процентов от земного. Чтобы узнать, сколько это, умножьте свой земной вес на 0,165. \n",
    "\n",
    "Если бы каждый год в течение следующих 15 лет вы прибавляли по одному килограмму веса, каким бы оказался ваш лунный вес в каждый из ежегодных визитов на Луну вплоть до 15-го года? Напишите программу, которая с помощью цикла for печатает на экране ваш лунный \n",
    "\n",
    "вес в каждом году. "
   ]
  },
  {
   "cell_type": "code",
   "execution_count": 13,
   "id": "230b1d6a-52cd-4846-970a-7407dc9b8fc0",
   "metadata": {},
   "outputs": [
    {
     "name": "stdout",
     "output_type": "stream",
     "text": [
      "year 1: weight 101, moon weight 16.665\n",
      "year 2: weight 102, moon weight 16.830\n",
      "year 3: weight 103, moon weight 16.995\n",
      "year 4: weight 104, moon weight 17.160\n",
      "year 5: weight 105, moon weight 17.325\n",
      "year 6: weight 106, moon weight 17.490\n",
      "year 7: weight 107, moon weight 17.655\n",
      "year 8: weight 108, moon weight 17.820\n",
      "year 9: weight 109, moon weight 17.985\n",
      "year 10: weight 110, moon weight 18.150\n",
      "year 11: weight 111, moon weight 18.315\n",
      "year 12: weight 112, moon weight 18.480\n",
      "year 13: weight 113, moon weight 18.645\n",
      "year 14: weight 114, moon weight 18.810\n",
      "year 15: weight 115, moon weight 18.975\n"
     ]
    }
   ],
   "source": [
    "weight = 100\n",
    "\n",
    "for i in range(1,16):\n",
    "    print(f\"year {i}: weight {weight+i}, moon weight {(weight+i)*0.165:.3f}\")\n"
   ]
  },
  {
   "cell_type": "markdown",
   "id": "1c91e73f-5a93-41ed-8c5e-9e9f488d04cb",
   "metadata": {},
   "source": [
    "# Упражнения  4"
   ]
  },
  {
   "cell_type": "markdown",
   "id": "a0fa4a4d-2624-4715-b015-c4a02b2ee4f5",
   "metadata": {},
   "source": [
    "Вот несколько упражнений по созданию ваших собственных функций. "
   ]
  },
  {
   "cell_type": "markdown",
   "id": "5cf4b869-1746-42c4-9aef-b49d7e3896ee",
   "metadata": {},
   "source": [
    "#1. Функция лунного веса \n",
    "\n",
    "Одним из предыдущих заданий было создание цикла for для расчета вашего веса на Луне в течение 15 лет. Этот цикл можно оформить в виде функции. Создайте функцию, которая принимает начальный вес и величину, на которую вес увеличивается каждый год. Вызывать эту новую функцию нужно будет примерно так: \n",
    "\n",
    "    moon_weight(30, 0.25)"
   ]
  },
  {
   "cell_type": "code",
   "execution_count": 14,
   "id": "6d1bb37b-a077-49b7-b6c9-905dc72e4569",
   "metadata": {},
   "outputs": [
    {
     "name": "stdout",
     "output_type": "stream",
     "text": [
      "year 1: weight 101.000, moon weight 16.665\n",
      "year 2: weight 102.000, moon weight 16.830\n",
      "year 3: weight 103.000, moon weight 16.995\n",
      "year 4: weight 104.000, moon weight 17.160\n",
      "year 5: weight 105.000, moon weight 17.325\n",
      "year 6: weight 106.000, moon weight 17.490\n",
      "year 7: weight 107.000, moon weight 17.655\n",
      "year 8: weight 108.000, moon weight 17.820\n",
      "year 9: weight 109.000, moon weight 17.985\n",
      "year 10: weight 110.000, moon weight 18.150\n",
      "year 11: weight 111.000, moon weight 18.315\n",
      "year 12: weight 112.000, moon weight 18.480\n",
      "year 13: weight 113.000, moon weight 18.645\n",
      "year 14: weight 114.000, moon weight 18.810\n",
      "year 15: weight 115.000, moon weight 18.975\n",
      "year 1: weight 30.250, moon weight 5.115\n",
      "year 2: weight 30.500, moon weight 5.280\n",
      "year 3: weight 30.750, moon weight 5.445\n",
      "year 4: weight 31.000, moon weight 5.610\n",
      "year 5: weight 31.250, moon weight 5.775\n",
      "year 6: weight 31.500, moon weight 5.940\n",
      "year 7: weight 31.750, moon weight 6.105\n",
      "year 8: weight 32.000, moon weight 6.270\n",
      "year 9: weight 32.250, moon weight 6.435\n",
      "year 10: weight 32.500, moon weight 6.600\n",
      "year 11: weight 32.750, moon weight 6.765\n",
      "year 12: weight 33.000, moon weight 6.930\n",
      "year 13: weight 33.250, moon weight 7.095\n",
      "year 14: weight 33.500, moon weight 7.260\n",
      "year 15: weight 33.750, moon weight 7.425\n"
     ]
    }
   ],
   "source": [
    "def moon_weight(weight, increase):\n",
    "    for i in range(1,16):\n",
    "        print(f\"year {i}: weight {weight+i*increase:.3f}, moon weight {(weight+i)*0.165:.3f}\")\n",
    "\n",
    "moon_weight(100,1)\n",
    "moon_weight(30, 0.25)\n"
   ]
  },
  {
   "cell_type": "markdown",
   "id": "0eb1d6b8-e319-4fa2-b6a5-30d6faee9513",
   "metadata": {},
   "source": [
    "#2. Функция лунного веса и количество лет \n",
    "\n",
    "Измените функцию из предыдущего задания так, чтобы с ее помощью можно было рассчитывать вес для разного количества лет, например 5 или 20 лет. Пусть эта функция принимает три аргумента: начальный вес, прибавку веса в год и количество лет: \n",
    "\n",
    "      moon_weight(90, 0.25, 5)"
   ]
  },
  {
   "cell_type": "code",
   "execution_count": 15,
   "id": "58d80b9b-2108-4ba8-ad87-04799569178c",
   "metadata": {},
   "outputs": [
    {
     "name": "stdout",
     "output_type": "stream",
     "text": [
      "year 1: weight 101.000, moon weight 16.665\n",
      "year 2: weight 102.000, moon weight 16.830\n",
      "year 3: weight 103.000, moon weight 16.995\n",
      "year 4: weight 104.000, moon weight 17.160\n",
      "year 5: weight 105.000, moon weight 17.325\n",
      "year 6: weight 106.000, moon weight 17.490\n",
      "year 7: weight 107.000, moon weight 17.655\n",
      "year 8: weight 108.000, moon weight 17.820\n",
      "year 9: weight 109.000, moon weight 17.985\n",
      "year 10: weight 110.000, moon weight 18.150\n",
      "year 11: weight 111.000, moon weight 18.315\n",
      "year 12: weight 112.000, moon weight 18.480\n",
      "year 13: weight 113.000, moon weight 18.645\n",
      "year 14: weight 114.000, moon weight 18.810\n",
      "year 15: weight 115.000, moon weight 18.975\n",
      "year 1: weight 90.250, moon weight 15.015\n",
      "year 2: weight 90.500, moon weight 15.180\n",
      "year 3: weight 90.750, moon weight 15.345\n",
      "year 4: weight 91.000, moon weight 15.510\n",
      "year 5: weight 91.250, moon weight 15.675\n"
     ]
    }
   ],
   "source": [
    "def moon_weight(weight, increase, years):\n",
    "    for i in range(1,years+1):\n",
    "        print(f\"year {i}: weight {weight+i*increase:.3f}, moon weight {(weight+i)*0.165:.3f}\")\n",
    "\n",
    "moon_weight(100,1,15)\n",
    "moon_weight(90, 0.25, 5)\n"
   ]
  },
  {
   "cell_type": "code",
   "execution_count": null,
   "id": "ab57cb3c-5f31-4d9f-81aa-ee0d7fe1f321",
   "metadata": {},
   "outputs": [],
   "source": []
  },
  {
   "cell_type": "code",
   "execution_count": null,
   "id": "2bff448c-e3a7-4807-aac4-c853d76b24ab",
   "metadata": {},
   "outputs": [],
   "source": []
  },
  {
   "cell_type": "code",
   "execution_count": null,
   "id": "a270cf65-b29a-4ea1-9f88-4fedd37f8a4e",
   "metadata": {},
   "outputs": [],
   "source": []
  }
 ],
 "metadata": {
  "kernelspec": {
   "display_name": "Python 3 (ipykernel)",
   "language": "python",
   "name": "python3"
  },
  "language_info": {
   "codemirror_mode": {
    "name": "ipython",
    "version": 3
   },
   "file_extension": ".py",
   "mimetype": "text/x-python",
   "name": "python",
   "nbconvert_exporter": "python",
   "pygments_lexer": "ipython3",
   "version": "3.10.10"
  }
 },
 "nbformat": 4,
 "nbformat_minor": 5
}
