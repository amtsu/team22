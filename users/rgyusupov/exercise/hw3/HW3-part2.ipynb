{
 "cells": [
  {
   "cell_type": "code",
   "execution_count": 14,
   "id": "4f638416-22b2-483d-baf3-a013d15d766f",
   "metadata": {},
   "outputs": [
    {
     "name": "stdout",
     "output_type": "stream",
     "text": [
      "80\n",
      "7.0\n",
      "32\n",
      "6\n",
      "1\n"
     ]
    }
   ],
   "source": [
    "# Прошли математику и строки.\n",
    "\n",
    "# Вторая часть задания решите используя язык питон.\n",
    "\n",
    "# Вычислить результат следующих операций:\n",
    "print(10 * (5 + 3))\n",
    "print((20 - 6) / 2)\n",
    "print(2 ** 5)  # (возведение 2 в 5-ю степень)\n",
    "print(25 // 4) # (целая часть от деления)\n",
    "print(25 % 4) # (остаток от деления)\n"
   ]
  },
  {
   "cell_type": "markdown",
   "id": "eec0a278-6f1b-40b4-ba58-ebf451a5d1a7",
   "metadata": {},
   "source": [
    "Дано дробное число:\n",
    "number = -3.14\n",
    "Выполнить следующие операции:\n",
    "Округлите число до целого.\n",
    "Возьмите остаток числа."
   ]
  },
  {
   "cell_type": "code",
   "execution_count": 15,
   "id": "d5df5d80-aae3-4971-9085-76cf677182f8",
   "metadata": {},
   "outputs": [
    {
     "name": "stdout",
     "output_type": "stream",
     "text": [
      "-3\n",
      "-0.14000000000000012\n"
     ]
    }
   ],
   "source": [
    "number = -3.14\n",
    "print(int(number))\n",
    "print(number - int(number))"
   ]
  },
  {
   "cell_type": "markdown",
   "id": "ff1fd532-c4c4-4737-b8eb-6ddfca8c534d",
   "metadata": {},
   "source": [
    "Даны стороны прямоугольника: a = 5, b = 7.\n",
    "Вычислить площадь прямоугольника и вывести результат на экран."
   ]
  },
  {
   "cell_type": "code",
   "execution_count": 16,
   "id": "2c060653-6bd0-4b9a-a086-4794f9a130e9",
   "metadata": {},
   "outputs": [
    {
     "name": "stdout",
     "output_type": "stream",
     "text": [
      "35\n"
     ]
    }
   ],
   "source": [
    "a = 5\n",
    "b = 7\n",
    "print (a*b)"
   ]
  },
  {
   "cell_type": "markdown",
   "id": "7d35d6c3-0549-48eb-82f2-a01230949a40",
   "metadata": {},
   "source": [
    "На какой объем воздуха должен быть расчитан кондиционер, если с его помощью хотят охлаждать квартиру в которой размер гостинной 3.5 на 6.4 метра, спальни 3.4 на 4 метра и площадь не жилой части 11 метров. При том что высота потолков 3,1 метр."
   ]
  },
  {
   "cell_type": "code",
   "execution_count": 17,
   "id": "08db8c2e-32b8-4a86-a566-71bf8f8e3432",
   "metadata": {},
   "outputs": [
    {
     "name": "stdout",
     "output_type": "stream",
     "text": [
      "145.70000000000002\n"
     ]
    }
   ],
   "source": [
    "print((3.5*6.4 + 3.4*4 + 11)*3.1)"
   ]
  },
  {
   "cell_type": "markdown",
   "id": "78be9661-4057-4907-b3be-92a7c61343c8",
   "metadata": {},
   "source": [
    "Дано квадратное уравнение вида ax^2 + bx + c = 0.\n",
    "Найти его решения, используя формулу дискриминанта.\n",
    "a номер текущего месяца\n",
    "b номер вашей группы\n",
    "c минус десять (-10)"
   ]
  },
  {
   "cell_type": "code",
   "execution_count": 18,
   "id": "21070408-35ab-4989-8157-f50a95eb3d6a",
   "metadata": {},
   "outputs": [
    {
     "name": "stdout",
     "output_type": "stream",
     "text": [
      "1.1925824035672519\n",
      "-4.192582403567252\n"
     ]
    }
   ],
   "source": [
    "import math\n",
    "\n",
    "a = 2\n",
    "b = 6\n",
    "c = -10\n",
    "\n",
    "discriminant = (b**2) - (4 * a * c)\n",
    "\n",
    "root1 = (-b + math.sqrt(discriminant)) / (2*a)\n",
    "root2 = (-b - math.sqrt(discriminant)) / (2*a)\n",
    "\n",
    "print(root1)\n",
    "print(root2)"
   ]
  },
  {
   "cell_type": "code",
   "execution_count": 21,
   "id": "94315b75-d242-4b39-a288-df5b18dd516a",
   "metadata": {},
   "outputs": [
    {
     "name": "stdout",
     "output_type": "stream",
     "text": [
      "Hello, world!\n",
      "13\n"
     ]
    }
   ],
   "source": [
    "\n",
    "# Даны строки:\n",
    "string1 = \"hello, \"\n",
    "string2 = \"world!\"\n",
    "# Объединить строки string1 и string2 и результат вывести на экран так чтобы первая буква в предложении стала заглавной.\n",
    "# Сколько символов было в предыдущей строке?\n",
    "\n",
    "res_string = (string1 + string2).capitalize()\n",
    "print(res_string)\n",
    "print(len(res_string))\n"
   ]
  },
  {
   "cell_type": "code",
   "execution_count": 23,
   "id": "339816fd-765d-4e9a-90a0-fd720384ab31",
   "metadata": {},
   "outputs": [
    {
     "name": "stdout",
     "output_type": "stream",
     "text": [
      "lalalalalalalalalalalalalalalalalalalalalalalalala\n"
     ]
    }
   ],
   "source": [
    "# Выведите на экран строку la 25 раз.\n",
    "print('la'*25)"
   ]
  },
  {
   "cell_type": "code",
   "execution_count": 28,
   "id": "12879bcf-467e-4d10-99eb-fbcb8a869bba",
   "metadata": {},
   "outputs": [
    {
     "name": "stdout",
     "output_type": "stream",
     "text": [
      "hi\n",
      "[1, 'hi', 3, [8, 6, 4], 5]\n"
     ]
    }
   ],
   "source": [
    "# Дан список чисел:\n",
    "numbers = [1, 2, 3, 4, 5]\n",
    "# Выполнить следующие операции:\n",
    "# 1. Измените число 2 на строку \"hi\" \n",
    "# 2. Выведите значение, находящееся на позиции 2.\n",
    "# 3. Изменить значение на позиции 4 на список из 3 элементов [8, 6, 4].\n",
    "# Результаты вывести на экран.\n",
    "\n",
    "index_of_2 = numbers.index(2)\n",
    "if index_of_2>0:\n",
    "    numbers[index_of_2] = \"hi\"\n",
    "\n",
    "print(numbers[1])\n",
    "\n",
    "numbers[3] = [8,6,4]\n",
    "\n",
    "print(numbers)\n"
   ]
  },
  {
   "cell_type": "code",
   "execution_count": 30,
   "id": "8af2a6b5-d2b2-4ea8-8598-8c911b5895a7",
   "metadata": {},
   "outputs": [
    {
     "name": "stdout",
     "output_type": "stream",
     "text": [
      "[3, 4, 5, 6, 7]\n"
     ]
    }
   ],
   "source": [
    "# Дан список чисел:\n",
    "numbers = [1, 2, 3, 4, 5, 6, 7, 8, 9, 10]\n",
    "# Извлеките подсписок с 3-го по 7-й элемент включительно.\n",
    "\n",
    "print(numbers[2:7])"
   ]
  },
  {
   "cell_type": "code",
   "execution_count": null,
   "id": "2cbd2c26-4f21-4eb6-9175-4e4ed1c6cd62",
   "metadata": {},
   "outputs": [],
   "source": []
  }
 ],
 "metadata": {
  "kernelspec": {
   "display_name": "Python 3 (ipykernel)",
   "language": "python",
   "name": "python3"
  },
  "language_info": {
   "codemirror_mode": {
    "name": "ipython",
    "version": 3
   },
   "file_extension": ".py",
   "mimetype": "text/x-python",
   "name": "python",
   "nbconvert_exporter": "python",
   "pygments_lexer": "ipython3",
   "version": "3.10.10"
  }
 },
 "nbformat": 4,
 "nbformat_minor": 5
}
