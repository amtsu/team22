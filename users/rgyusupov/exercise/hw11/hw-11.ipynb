{
 "cells": [
  {
   "cell_type": "markdown",
   "id": "2faf0f6e-3484-4d19-ad26-0b4c1f6c0567",
   "metadata": {},
   "source": [
    "# Немного интересных и полезных функций Python"
   ]
  },
  {
   "cell_type": "markdown",
   "id": "7f5bf2a8-d891-4038-980f-573c0d6035e9",
   "metadata": {},
   "source": [
    "## 1. Кодировка Unicode"
   ]
  },
  {
   "cell_type": "code",
   "execution_count": 3,
   "id": "60d4c838-0073-4777-a65c-7af8257b9445",
   "metadata": {},
   "outputs": [
    {
     "data": {
      "text/plain": [
       "97"
      ]
     },
     "execution_count": 3,
     "metadata": {},
     "output_type": "execute_result"
    }
   ],
   "source": [
    "#Возвращает целое число — номер из таблицы символов Unicode\n",
    "ord('a')"
   ]
  },
  {
   "cell_type": "code",
   "execution_count": 6,
   "id": "006572a7-0748-412c-b873-fbf882761521",
   "metadata": {},
   "outputs": [
    {
     "data": {
      "text/plain": [
       "'a'"
      ]
     },
     "execution_count": 6,
     "metadata": {},
     "output_type": "execute_result"
    }
   ],
   "source": [
    "#Возвращает символ Unicode, соответствующий этому числу\n",
    "chr(97)"
   ]
  },
  {
   "cell_type": "markdown",
   "id": "00b66d9c-33a7-4aa0-bd04-0fc11d8442b8",
   "metadata": {},
   "source": [
    "1. Вывести английский алфавит в строку (подсказка - в английском алфавите 26 букв)"
   ]
  },
  {
   "cell_type": "code",
   "id": "6561ce86-bc83-4b30-a782-61e80ee93451",
   "metadata": {
    "ExecuteTime": {
     "end_time": "2024-04-15T14:50:08.357374Z",
     "start_time": "2024-04-15T14:50:08.354037Z"
    }
   },
   "source": [
    "#тут решение английский алфавит\n",
    "letters = ''.join([chr(i) for i in range(ord('a'), ord('z')+1)])\n",
    "print(letters)\n"
   ],
   "outputs": [
    {
     "name": "stdout",
     "output_type": "stream",
     "text": [
      "abcdefghijklmnopqrstuvwxyz\n"
     ]
    }
   ],
   "execution_count": 6
  },
  {
   "cell_type": "markdown",
   "id": "1a650e81-9ded-45f6-8c48-b417714ceac0",
   "metadata": {},
   "source": [
    "2. Cгенерировать все возможные комбинации строчных букв английского алфавита длиной два символа. Выведите сочетания для каждой буквы на 1 месте на отдельной строке."
   ]
  },
  {
   "cell_type": "code",
   "id": "80864598-91d3-4467-a1c4-dd284c63cb2a",
   "metadata": {
    "ExecuteTime": {
     "end_time": "2024-04-15T14:50:55.218601Z",
     "start_time": "2024-04-15T14:50:55.215Z"
    }
   },
   "source": [
    "#тут решение комбинации двух символов\n",
    "#пример: 1 строка aa ab ...\n",
    "#пример: 2 строка ba bb ...\n",
    "\n",
    "for letter in letters:\n",
    "    print(' '.join([letter + second_letter for second_letter in letters]))\n"
   ],
   "outputs": [
    {
     "name": "stdout",
     "output_type": "stream",
     "text": [
      "aa ab ac ad ae af ag ah ai aj ak al am an ao ap aq ar as at au av aw ax ay az\n",
      "ba bb bc bd be bf bg bh bi bj bk bl bm bn bo bp bq br bs bt bu bv bw bx by bz\n",
      "ca cb cc cd ce cf cg ch ci cj ck cl cm cn co cp cq cr cs ct cu cv cw cx cy cz\n",
      "da db dc dd de df dg dh di dj dk dl dm dn do dp dq dr ds dt du dv dw dx dy dz\n",
      "ea eb ec ed ee ef eg eh ei ej ek el em en eo ep eq er es et eu ev ew ex ey ez\n",
      "fa fb fc fd fe ff fg fh fi fj fk fl fm fn fo fp fq fr fs ft fu fv fw fx fy fz\n",
      "ga gb gc gd ge gf gg gh gi gj gk gl gm gn go gp gq gr gs gt gu gv gw gx gy gz\n",
      "ha hb hc hd he hf hg hh hi hj hk hl hm hn ho hp hq hr hs ht hu hv hw hx hy hz\n",
      "ia ib ic id ie if ig ih ii ij ik il im in io ip iq ir is it iu iv iw ix iy iz\n",
      "ja jb jc jd je jf jg jh ji jj jk jl jm jn jo jp jq jr js jt ju jv jw jx jy jz\n",
      "ka kb kc kd ke kf kg kh ki kj kk kl km kn ko kp kq kr ks kt ku kv kw kx ky kz\n",
      "la lb lc ld le lf lg lh li lj lk ll lm ln lo lp lq lr ls lt lu lv lw lx ly lz\n",
      "ma mb mc md me mf mg mh mi mj mk ml mm mn mo mp mq mr ms mt mu mv mw mx my mz\n",
      "na nb nc nd ne nf ng nh ni nj nk nl nm nn no np nq nr ns nt nu nv nw nx ny nz\n",
      "oa ob oc od oe of og oh oi oj ok ol om on oo op oq or os ot ou ov ow ox oy oz\n",
      "pa pb pc pd pe pf pg ph pi pj pk pl pm pn po pp pq pr ps pt pu pv pw px py pz\n",
      "qa qb qc qd qe qf qg qh qi qj qk ql qm qn qo qp qq qr qs qt qu qv qw qx qy qz\n",
      "ra rb rc rd re rf rg rh ri rj rk rl rm rn ro rp rq rr rs rt ru rv rw rx ry rz\n",
      "sa sb sc sd se sf sg sh si sj sk sl sm sn so sp sq sr ss st su sv sw sx sy sz\n",
      "ta tb tc td te tf tg th ti tj tk tl tm tn to tp tq tr ts tt tu tv tw tx ty tz\n",
      "ua ub uc ud ue uf ug uh ui uj uk ul um un uo up uq ur us ut uu uv uw ux uy uz\n",
      "va vb vc vd ve vf vg vh vi vj vk vl vm vn vo vp vq vr vs vt vu vv vw vx vy vz\n",
      "wa wb wc wd we wf wg wh wi wj wk wl wm wn wo wp wq wr ws wt wu wv ww wx wy wz\n",
      "xa xb xc xd xe xf xg xh xi xj xk xl xm xn xo xp xq xr xs xt xu xv xw xx xy xz\n",
      "ya yb yc yd ye yf yg yh yi yj yk yl ym yn yo yp yq yr ys yt yu yv yw yx yy yz\n",
      "za zb zc zd ze zf zg zh zi zj zk zl zm zn zo zp zq zr zs zt zu zv zw zx zy zz\n"
     ]
    }
   ],
   "execution_count": 9
  },
  {
   "cell_type": "markdown",
   "id": "7992c147-613b-41cb-9ce7-8dacb0891c0a",
   "metadata": {},
   "source": [
    "3. Cгенерировать последовательно двухбуквенные строки по алфавиту до строки «mf»."
   ]
  },
  {
   "cell_type": "code",
   "id": "10d6174f-a071-4bb2-928a-d7be37ecd5fe",
   "metadata": {
    "ExecuteTime": {
     "end_time": "2024-04-15T15:00:10.359223Z",
     "start_time": "2024-04-15T15:00:10.355773Z"
    }
   },
   "source": [
    "#тут решение комбинации двух символов до mf\n",
    "\n",
    "stop = False\n",
    "\n",
    "for letter in letters:\n",
    "    combinations = []\n",
    "    for second_letter in letters:\n",
    "        print(letter + second_letter, end='')\n",
    "        if letter + second_letter == 'mf':\n",
    "            stop = True\n",
    "            break\n",
    "    if stop:\n",
    "        break\n",
    "    print()"
   ],
   "outputs": [
    {
     "name": "stdout",
     "output_type": "stream",
     "text": [
      "aaabacadaeafagahaiajakalamanaoapaqarasatauavawaxayaz\n",
      "babbbcbdbebfbgbhbibjbkblbmbnbobpbqbrbsbtbubvbwbxbybz\n",
      "cacbcccdcecfcgchcicjckclcmcncocpcqcrcsctcucvcwcxcycz\n",
      "dadbdcdddedfdgdhdidjdkdldmdndodpdqdrdsdtdudvdwdxdydz\n",
      "eaebecedeeefegeheiejekelemeneoepeqereseteuevewexeyez\n",
      "fafbfcfdfefffgfhfifjfkflfmfnfofpfqfrfsftfufvfwfxfyfz\n",
      "gagbgcgdgegfggghgigjgkglgmgngogpgqgrgsgtgugvgwgxgygz\n",
      "hahbhchdhehfhghhhihjhkhlhmhnhohphqhrhshthuhvhwhxhyhz\n",
      "iaibicidieifigihiiijikiliminioipiqirisitiuiviwixiyiz\n",
      "jajbjcjdjejfjgjhjijjjkjljmjnjojpjqjrjsjtjujvjwjxjyjz\n",
      "kakbkckdkekfkgkhkikjkkklkmknkokpkqkrksktkukvkwkxkykz\n",
      "lalblcldlelflglhliljlklllmlnlolplqlrlsltlulvlwlxlylz\n",
      "mambmcmdmemf"
     ]
    }
   ],
   "execution_count": 10
  },
  {
   "cell_type": "markdown",
   "id": "de5695b1-5b0d-477f-b87a-eb13ec3cf55d",
   "metadata": {},
   "source": [
    "4. Cгенерировать все возможные комбинации строчных букв английского алфавита длиной два символа, но не выводить комбинации с одинаковыми буквами («aa», «bb» и т. д.):"
   ]
  },
  {
   "cell_type": "code",
   "id": "456aa32e-89b7-42a3-b2e7-01fc1e5f8a59",
   "metadata": {
    "ExecuteTime": {
     "end_time": "2024-04-15T15:00:47.304710Z",
     "start_time": "2024-04-15T15:00:47.301818Z"
    }
   },
   "source": [
    "#тут решение комбинации двух символов без дублей\n",
    "for letter in letters:\n",
    "    print(' '.join([letter + second_letter for second_letter in letters if letter != second_letter]))"
   ],
   "outputs": [
    {
     "name": "stdout",
     "output_type": "stream",
     "text": [
      "ab ac ad ae af ag ah ai aj ak al am an ao ap aq ar as at au av aw ax ay az\n",
      "ba bc bd be bf bg bh bi bj bk bl bm bn bo bp bq br bs bt bu bv bw bx by bz\n",
      "ca cb cd ce cf cg ch ci cj ck cl cm cn co cp cq cr cs ct cu cv cw cx cy cz\n",
      "da db dc de df dg dh di dj dk dl dm dn do dp dq dr ds dt du dv dw dx dy dz\n",
      "ea eb ec ed ef eg eh ei ej ek el em en eo ep eq er es et eu ev ew ex ey ez\n",
      "fa fb fc fd fe fg fh fi fj fk fl fm fn fo fp fq fr fs ft fu fv fw fx fy fz\n",
      "ga gb gc gd ge gf gh gi gj gk gl gm gn go gp gq gr gs gt gu gv gw gx gy gz\n",
      "ha hb hc hd he hf hg hi hj hk hl hm hn ho hp hq hr hs ht hu hv hw hx hy hz\n",
      "ia ib ic id ie if ig ih ij ik il im in io ip iq ir is it iu iv iw ix iy iz\n",
      "ja jb jc jd je jf jg jh ji jk jl jm jn jo jp jq jr js jt ju jv jw jx jy jz\n",
      "ka kb kc kd ke kf kg kh ki kj kl km kn ko kp kq kr ks kt ku kv kw kx ky kz\n",
      "la lb lc ld le lf lg lh li lj lk lm ln lo lp lq lr ls lt lu lv lw lx ly lz\n",
      "ma mb mc md me mf mg mh mi mj mk ml mn mo mp mq mr ms mt mu mv mw mx my mz\n",
      "na nb nc nd ne nf ng nh ni nj nk nl nm no np nq nr ns nt nu nv nw nx ny nz\n",
      "oa ob oc od oe of og oh oi oj ok ol om on op oq or os ot ou ov ow ox oy oz\n",
      "pa pb pc pd pe pf pg ph pi pj pk pl pm pn po pq pr ps pt pu pv pw px py pz\n",
      "qa qb qc qd qe qf qg qh qi qj qk ql qm qn qo qp qr qs qt qu qv qw qx qy qz\n",
      "ra rb rc rd re rf rg rh ri rj rk rl rm rn ro rp rq rs rt ru rv rw rx ry rz\n",
      "sa sb sc sd se sf sg sh si sj sk sl sm sn so sp sq sr st su sv sw sx sy sz\n",
      "ta tb tc td te tf tg th ti tj tk tl tm tn to tp tq tr ts tu tv tw tx ty tz\n",
      "ua ub uc ud ue uf ug uh ui uj uk ul um un uo up uq ur us ut uv uw ux uy uz\n",
      "va vb vc vd ve vf vg vh vi vj vk vl vm vn vo vp vq vr vs vt vu vw vx vy vz\n",
      "wa wb wc wd we wf wg wh wi wj wk wl wm wn wo wp wq wr ws wt wu wv wx wy wz\n",
      "xa xb xc xd xe xf xg xh xi xj xk xl xm xn xo xp xq xr xs xt xu xv xw xy xz\n",
      "ya yb yc yd ye yf yg yh yi yj yk yl ym yn yo yp yq yr ys yt yu yv yw yx yz\n",
      "za zb zc zd ze zf zg zh zi zj zk zl zm zn zo zp zq zr zs zt zu zv zw zx zy\n"
     ]
    }
   ],
   "execution_count": 11
  },
  {
   "cell_type": "markdown",
   "id": "2ce7d44f-80ae-4340-b029-c4787009ec89",
   "metadata": {},
   "source": "5. Напишите две функции: caesar_crypt(key) одна будет шифровать введенный ей через input() текст шифром Цезаря. Другая расшифровывать caesar_decrypt(key). Аргумент функций - цифра сдвига для кодировки."
  },
  {
   "cell_type": "markdown",
   "id": "bbb6cac8-def7-4fce-9fde-f91f46f6e333",
   "metadata": {},
   "source": [
    "Шифр Цeзаря (шифр сдвига, код Цезаря) – такой простой вид шифрования текста, при котором все символы в тексте заменяются символами, сдвинутыми по алфавиту на правее или левее на постоянное количество позиций. Например, при сдвиге на 1 буква А заменяется на Б, Б на В и т.д"
   ]
  },
  {
   "cell_type": "code",
   "id": "74280880-c4c1-4e58-890d-340de8d908c1",
   "metadata": {
    "ExecuteTime": {
     "end_time": "2024-04-15T15:09:10.886761Z",
     "start_time": "2024-04-15T15:09:10.880939Z"
    }
   },
   "source": [
    "#тут решение шифр цезаря\n",
    "\n",
    "def caesar_crypt(key, *, input_func =  input):\n",
    "    text = input_func(\"Введите текст для шифрования: \")\n",
    "    encrypted_text = \"\"\n",
    "    for char in text:\n",
    "        if 'а' <= char <= 'я':\n",
    "            encrypted_text += chr((ord(char) - ord('а') + key) % 32 + ord('а'))\n",
    "        elif 'А' <= char <= 'Я':\n",
    "            encrypted_text += chr((ord(char) - ord('А') + key) % 32 + ord('А'))\n",
    "        elif 'a' <= char <= 'z':\n",
    "            encrypted_text += chr((ord(char) - ord('a') + key) % 26 + ord('a'))\n",
    "        elif 'A' <= char <= 'Z':\n",
    "            encrypted_text += chr((ord(char) - ord('A') + key) % 26 + ord('A'))\n",
    "        else:\n",
    "            encrypted_text += char\n",
    "    return encrypted_text\n",
    "\n",
    "def caesar_decrypt(key, *, input_func =  input):\n",
    "    text = input_func(\"Введите текст для расшифровки: \")\n",
    "    decrypted_text = \"\"\n",
    "    for char in text:\n",
    "        if 'а' <= char <= 'я':\n",
    "            decrypted_text += chr((ord(char) - ord('а') - key) % 32 + ord('а'))\n",
    "        elif 'А' <= char <= 'Я':\n",
    "            decrypted_text += chr((ord(char) - ord('А') - key) % 32 + ord('А'))\n",
    "        elif 'a' <= char <= 'z':\n",
    "            decrypted_text += chr((ord(char) - ord('a') - key) % 26 + ord('a'))\n",
    "        elif 'A' <= char <= 'Z':\n",
    "            decrypted_text += chr((ord(char) - ord('A') - key) % 26 + ord('A'))\n",
    "        else:\n",
    "            decrypted_text += char\n",
    "    return decrypted_text\n",
    "\n",
    "str1 = \"Hello, world!\"\n",
    "str2 = \"Привет, мир!\"\n",
    "\n",
    "encrypted_str1 = caesar_crypt(3, input_func=lambda _:str1)\n",
    "encrypted_str2 = caesar_crypt(5, input_func=lambda _:str2)\n",
    "\n",
    "print(encrypted_str1, encrypted_str2)\n",
    "\n",
    "decrypted_str1 = caesar_decrypt(3, input_func=lambda _:encrypted_str1)\n",
    "decrypted_str2 = caesar_decrypt(5, input_func=lambda _:encrypted_str2)\n",
    "\n",
    "print(decrypted_str1, decrypted_str2)\n",
    "\n",
    "bad_decrypted_str1 = caesar_decrypt(6, input_func=lambda _:encrypted_str1)\n",
    "bad_decrypted_str2 = caesar_decrypt(4, input_func=lambda _:encrypted_str2)\n",
    "\n",
    "print(bad_decrypted_str1, bad_decrypted_str2)"
   ],
   "outputs": [
    {
     "name": "stdout",
     "output_type": "stream",
     "text": [
      "Khoor, zruog! Фхнзкч, снх!\n",
      "Hello, world! Привет, мир!\n",
      "Ebiil, tloia! Рсйгжу, нйс!\n"
     ]
    }
   ],
   "execution_count": 14
  },
  {
   "cell_type": "markdown",
   "id": "7aba5087-9cbc-4417-bbf9-0369b32e8319",
   "metadata": {},
   "source": "## 2. f-string"
  },
  {
   "cell_type": "markdown",
   "id": "e22f2001-67d5-414b-9dda-2e1c953d56ca",
   "metadata": {},
   "source": [
    "Чтобы задать **f-строку**, необходимо поставить букву f перед открывающей кавычкой строки. Далее f-строка записывается как единое целое, с учётом правил её форматирования, и закрывается соответствующей кавычкой"
   ]
  },
  {
   "cell_type": "markdown",
   "id": "21b17421-e247-4363-b756-50a8dbe80a6b",
   "metadata": {},
   "source": [
    "Немного теории можно прочитать на нашей wiki  -  https://github.com/amtsu/team22/wiki/Python:-Вывод-данных-в-консоль"
   ]
  },
  {
   "cell_type": "code",
   "execution_count": 17,
   "id": "591ffa62-d49e-4124-a485-6f031b1b7ab4",
   "metadata": {},
   "outputs": [
    {
     "name": "stdout",
     "output_type": "stream",
     "text": [
      "Добрый день, Пользователь.\n"
     ]
    }
   ],
   "source": [
    "#пример\n",
    "name = \"Пользователь\"\n",
    "print(f\"Добрый день, {name}.\")"
   ]
  },
  {
   "cell_type": "raw",
   "id": "84d5fed6-a2f1-48d6-936e-2db1ab59db68",
   "metadata": {},
   "source": [
    "1. Напечать чек с помощью f-строки. Ввод можно сделать через input или кортеж\n",
    "Ввод:\n",
    "название товара;\n",
    "цена товара;\n",
    "вес товара;\n",
    "количество денег у пользователя.\n",
    "\n",
    "Вывод:\n",
    "Чек\n",
    "<название товара> - <вес>кг - <цена>руб/кг\n",
    "Итого: <итоговая стоимость>руб\n",
    "Внесено: <количество денег от пользователя>руб\n",
    "Сдача: <сдача>руб"
   ]
  },
  {
   "cell_type": "code",
   "execution_count": null,
   "id": "c88c288b-1654-4509-b814-bd12b3523323",
   "metadata": {},
   "outputs": [],
   "source": [
    "#тут решение"
   ]
  },
  {
   "cell_type": "raw",
   "id": "32439e3c-90a9-40c1-85fa-49bc20881159",
   "metadata": {},
   "source": [
    "2. Сделать для предыдущей задачи красивый вывод в виде:\n",
    "================Чек================\n",
    "Товар:                    <продукт>\n",
    "Цена:     <число>кг * <число>руб/кг\n",
    "Итого:                   <число>руб\n",
    "Внесено:                 <число>руб\n",
    "Сдача:                   <число>руб\n",
    "==================================="
   ]
  },
  {
   "cell_type": "code",
   "execution_count": null,
   "id": "7373d79d-dcaf-43f6-9ee8-f9b311cbb5ef",
   "metadata": {},
   "outputs": [],
   "source": [
    "#тут решение"
   ]
  },
  {
   "cell_type": "markdown",
   "id": "75ad0171-3953-44f3-9734-2ff12aff8868",
   "metadata": {},
   "source": [
    "3. Вывести трегуольник паскаля в красивом виде. В этом треугольнике на вершине и по бокам стоят единицы. Каждое число равно сумме двух расположенных над ним чисел. Строки треугольника симметричны относительно вертикальной оси. (не использовать многострочное форматирование)"
   ]
  },
  {
   "cell_type": "code",
   "execution_count": null,
   "id": "c1fa3823-99c0-4c0c-914c-8a93ae538967",
   "metadata": {},
   "outputs": [],
   "source": [
    "#тут решение"
   ]
  },
  {
   "cell_type": "markdown",
   "id": "ac3f4ee8-9ebb-46c9-89a5-b79c3f95e6a4",
   "metadata": {},
   "source": [
    "## 3. Работа с файлами"
   ]
  },
  {
   "cell_type": "markdown",
   "id": "f7292ea7-d7c6-4e63-877b-8e53c1552351",
   "metadata": {},
   "source": [
    "Немного теории можно прочитать на нашей wiki  - https://github.com/amtsu/team22/wiki/Python:-Базовая-работа-с-файлами"
   ]
  },
  {
   "cell_type": "markdown",
   "id": "22aa895a-147e-4db0-936c-ff595f29e2ef",
   "metadata": {},
   "source": [
    "1. Возьмите массив двухбуквенных сочетаний из задания 1.2 и запишите построчно этот массив в file1.txt"
   ]
  },
  {
   "cell_type": "code",
   "execution_count": 19,
   "id": "11be0e71-f5d2-41d7-b5ee-930b30aafb11",
   "metadata": {},
   "outputs": [],
   "source": [
    "#тут решение запись массива в файл"
   ]
  },
  {
   "cell_type": "markdown",
   "id": "bf13b25a-eaf0-4ada-8745-3f4e5a87a109",
   "metadata": {},
   "source": [
    "2. Напишите функцию read_last(lines, file), которая будет открывать файл (в нашем случае file1.txt) и выводить на печать построчно последние строки в количестве lines (на всякий случай проверим, что задано положительное целое число)"
   ]
  },
  {
   "cell_type": "code",
   "execution_count": 23,
   "id": "a09075af-f568-47f5-8926-8f3f2890e3f4",
   "metadata": {},
   "outputs": [],
   "source": [
    "#тут решение вывод последних строк файла"
   ]
  },
  {
   "cell_type": "markdown",
   "id": "4b848caa-53f6-4806-b841-febbb552e42a",
   "metadata": {},
   "source": [
    "3. Напишите функцию longest_words(file), которая выводит слово, имеющее максимальную длину (или список слов, если таковых несколько)."
   ]
  },
  {
   "cell_type": "code",
   "execution_count": 24,
   "id": "0e505b8f-e6e4-485a-84ef-65d208503ef7",
   "metadata": {},
   "outputs": [],
   "source": [
    "#тут решение вывод самого длинного слова"
   ]
  },
  {
   "cell_type": "markdown",
   "id": "df62e68b-f456-4f20-9118-bb5d2fd45a0b",
   "metadata": {},
   "source": [
    "4. Напишите функцию file_even_odd(file), которая будет принимать файл, считывать его построчно и запишисывать в file2n1.txt только нечетные строки, а в file2n.txt только четные"
   ]
  },
  {
   "cell_type": "code",
   "execution_count": 25,
   "id": "9304b430-4eb9-497b-ae6e-61c66816495a",
   "metadata": {},
   "outputs": [],
   "source": [
    "#тут решение запись из файла в два разных файла"
   ]
  },
  {
   "cell_type": "markdown",
   "id": "6ef28dcb-ef48-41b1-ab75-4ded078383d6",
   "metadata": {},
   "source": [
    "5. Напишите функцию file_merge(file_1, file_2), которая будет принимать на вход два файла и выводить из них строки поочерди (то есть в начале 1 строка 1 файла, потом 1 строка 2 файла и тд)"
   ]
  },
  {
   "cell_type": "code",
   "execution_count": 26,
   "id": "c9717e20-ad28-410f-8985-12759aeb7563",
   "metadata": {},
   "outputs": [],
   "source": [
    "#тут решение функция поочередного выводы строк из 2х файлов"
   ]
  },
  {
   "cell_type": "markdown",
   "id": "741a5308-88e3-489e-adc4-72ca1736ca12",
   "metadata": {},
   "source": [
    "## 4. Итераторы Генераторы"
   ]
  },
  {
   "cell_type": "markdown",
   "id": "b4893684-f90e-4a0c-9b5b-5dfaf593369c",
   "metadata": {},
   "source": [
    "Немного теории можно прочитать на нашей wiki  - https://github.com/amtsu/team22/wiki/Python:-Итераторы"
   ]
  },
  {
   "cell_type": "markdown",
   "id": "8dcee596-b425-43c9-8b1d-85171ac14017",
   "metadata": {},
   "source": [
    "1. Выполните ячейку и объясните результат выполнения. Потом поправьте чтобы сработали оба принта."
   ]
  },
  {
   "cell_type": "code",
   "execution_count": null,
   "id": "d5b7616b-8383-4b40-9212-e8967ed12875",
   "metadata": {},
   "outputs": [],
   "source": [
    "a = [1,2,3]\n",
    "b = [3,2,1]\n",
    "ab = zip(a,b)\n",
    "print(f'Все пары кортежей - {*ab}')\n",
    "print(f'Хочу вывести первую пару - {next(ab)}')"
   ]
  },
  {
   "cell_type": "markdown",
   "id": "650a910e-fe5c-4ad1-9401-70d96d53ac3b",
   "metadata": {},
   "source": [
    "2. Возьмите из 1.1 массив с английским алфавитом, и выведите первые 5 элементов с помощью next()"
   ]
  },
  {
   "cell_type": "code",
   "execution_count": 6,
   "id": "596660d9-d8e9-40f2-abe9-200c678c4699",
   "metadata": {},
   "outputs": [],
   "source": [
    "# решение к заданию 4.2 тут"
   ]
  },
  {
   "cell_type": "markdown",
   "id": "0ceb98e0-c916-4ccd-9c17-1ae539c19586",
   "metadata": {},
   "source": [
    "3. Проверить функции list(), open(), zip(),  - является ли то, что они выдают итератором"
   ]
  },
  {
   "cell_type": "code",
   "execution_count": null,
   "id": "83737c01-a1fd-4e3d-b367-c0416d094aa6",
   "metadata": {},
   "outputs": [],
   "source": [
    "#решение к заданию 4.3 тут"
   ]
  },
  {
   "cell_type": "markdown",
   "id": "cd2dbb3a-c53a-454f-9ead-3150afb1360b",
   "metadata": {},
   "source": [
    "4. Как мы проверили в задание 4.4 функция open тоже реализует протокл итератора. Возьмите файл с двухбуквенными сочетаниями из задания 3.1 и выведите все его строки с помощью итератора"
   ]
  },
  {
   "cell_type": "code",
   "execution_count": null,
   "id": "544672fd-85db-4a72-bb9d-b4a43e46817f",
   "metadata": {},
   "outputs": [],
   "source": [
    "#решение для вывода содержимого файла с помощью итератора тут"
   ]
  },
  {
   "cell_type": "markdown",
   "id": "638bdadc-f410-4a8e-a392-6c1f3e283faf",
   "metadata": {},
   "source": [
    "5. Объяснить, чем отличается ячейка-раз от ячеек два, три, четыре и что за магия там происходит"
   ]
  },
  {
   "cell_type": "code",
   "execution_count": 7,
   "id": "15e5c560-64b8-4d6a-a164-9b49c2cfb39d",
   "metadata": {},
   "outputs": [],
   "source": [
    "#ответ к заданию 4.5 тут"
   ]
  },
  {
   "cell_type": "code",
   "execution_count": 61,
   "id": "0fa630b8-1a34-46a9-a0c0-f1622f3d39dd",
   "metadata": {},
   "outputs": [
    {
     "name": "stdout",
     "output_type": "stream",
     "text": [
      "True\n",
      "1 4 9 16 25\n",
      "True\n",
      "1 4 9 16 25\n"
     ]
    }
   ],
   "source": [
    "#ячейка-раз\n",
    "numbers = [1,2,3,4,5]\n",
    "squared_numbers = [number**2 for number in numbers]\n",
    "print(4 in squared_numbers)\n",
    "print(*squared_numbers)\n",
    "print(4 in squared_numbers)\n",
    "print(*squared_numbers)"
   ]
  },
  {
   "cell_type": "code",
   "execution_count": 62,
   "id": "f05563e9-cbad-44d1-85b1-3e551823315f",
   "metadata": {},
   "outputs": [
    {
     "name": "stdout",
     "output_type": "stream",
     "text": [
      "True\n",
      "False\n"
     ]
    }
   ],
   "source": [
    "#ячейка-два\n",
    "numbers = [1,2,3,4,5]\n",
    "squared_numbers = (number**2 for number in numbers)\n",
    "print(4 in squared_numbers)\n",
    "print(4 in squared_numbers)"
   ]
  },
  {
   "cell_type": "code",
   "execution_count": 63,
   "id": "10f00426-11fe-42da-82bd-ae40aa602e00",
   "metadata": {},
   "outputs": [
    {
     "name": "stdout",
     "output_type": "stream",
     "text": [
      "1 4 9 16 25\n",
      "\n"
     ]
    }
   ],
   "source": [
    "#ячейка-три\n",
    "numbers = [1,2,3,4,5]\n",
    "squared_numbers = (number**2 for number in numbers)\n",
    "print(*squared_numbers)\n",
    "print(*squared_numbers)"
   ]
  },
  {
   "cell_type": "code",
   "execution_count": 64,
   "id": "e5d7ec3d-29b3-4f61-a66f-986925d9a41c",
   "metadata": {},
   "outputs": [
    {
     "name": "stdout",
     "output_type": "stream",
     "text": [
      "True\n",
      "9 16 25\n"
     ]
    }
   ],
   "source": [
    "#ячейка-четыре\n",
    "numbers = [1,2,3,4,5]\n",
    "squared_numbers = (number**2 for number in numbers)\n",
    "print(4 in squared_numbers)\n",
    "print(*squared_numbers)"
   ]
  },
  {
   "cell_type": "markdown",
   "id": "384e32fe-50ee-4c4a-b939-79344419f4b6",
   "metadata": {},
   "source": [
    "6. Напишите функцию yrange(n) аналогичную по работе функции range, которая по запросу next  выдает следующий элмент последовательности от 0 до n"
   ]
  },
  {
   "cell_type": "code",
   "execution_count": null,
   "id": "bb70ddd1-abc5-4182-be66-83ae0db8ff6d",
   "metadata": {},
   "outputs": [],
   "source": [
    "#решение задания 4.6 тут\n",
    "def yrange():"
   ]
  },
  {
   "cell_type": "code",
   "execution_count": null,
   "id": "2af1ce4f-de47-4b04-8b60-77228d46e8cc",
   "metadata": {},
   "outputs": [],
   "source": [
    "#проверка тут\n",
    "a = yrange(20)\n",
    "#код должен вывести цифры от 0 до 9\n",
    "for i in range(10):\n",
    "    print(next(a))"
   ]
  },
  {
   "cell_type": "markdown",
   "id": "8c7244d3-e78d-415c-80d6-27aeeba6430b",
   "metadata": {},
   "source": [
    "7. Создайте массив alph - из букв английского алфавита(можно взять из задания 1.1), возьмите массив с числами из задания 5.3.\n",
    "\n",
    "Напишите функцию которая принимает на вход два массива и выдает третий с сочетаниями букв и их номеров (a1, b2 и тд) (склеивайте массивы с помощью zip)"
   ]
  },
  {
   "cell_type": "code",
   "execution_count": null,
   "id": "b3d6025b-056a-4e0e-b14f-244a4d800096",
   "metadata": {},
   "outputs": [],
   "source": [
    "#решение тут"
   ]
  },
  {
   "cell_type": "markdown",
   "id": "2415c89c-540e-455a-b613-39768b4a279e",
   "metadata": {},
   "source": [
    "## 5. List comprehenshion"
   ]
  },
  {
   "cell_type": "markdown",
   "id": "fc5f1f33-0672-403a-8737-c3ca6c5356ba",
   "metadata": {},
   "source": [
    "Немного теории можно прочитать на нашей wiki - https://github.com/amtsu/team22/wiki/Python:-Генератор-списков"
   ]
  },
  {
   "cell_type": "markdown",
   "id": "be7d53ee-2fa7-4ef2-93b0-703f59c4d49d",
   "metadata": {},
   "source": [
    "1. Cформировать список из квадратов целых чисел от 0 до N - обычными циклами и условиями"
   ]
  },
  {
   "cell_type": "code",
   "execution_count": 13,
   "id": "f4c2945d-1b56-45f2-b8e4-8edc6ade6323",
   "metadata": {},
   "outputs": [],
   "source": [
    "#тут решение"
   ]
  },
  {
   "cell_type": "markdown",
   "id": "92cfcb85-4c53-4e19-bf58-7fa74b0d3b7c",
   "metadata": {},
   "source": [
    "2. Cформировать список из квадратов целых чисел от 0 до N - с помощью list-comprehenshion"
   ]
  },
  {
   "cell_type": "code",
   "execution_count": 14,
   "id": "ae1258db-b61b-4c14-a3d7-db11c66ceb89",
   "metadata": {},
   "outputs": [],
   "source": [
    "#тут решение"
   ]
  },
  {
   "cell_type": "markdown",
   "id": "2987e607-a9f7-4f5b-b9cf-4e12cf8879f5",
   "metadata": {},
   "source": [
    "3. Cформировать список из чисел от 1 до 26 с помощью генератора массивов"
   ]
  },
  {
   "cell_type": "code",
   "execution_count": null,
   "id": "ffe0727e-e057-4bcb-927a-ec75a2175def",
   "metadata": {},
   "outputs": [],
   "source": [
    "#тут решение"
   ]
  },
  {
   "cell_type": "markdown",
   "id": "42279072-b92b-4222-bf35-5ed51ce8ffb7",
   "metadata": {},
   "source": [
    "3. Cформировать список из квадратов целых чисел от 0 до N, только если эти значения являются четными - с помощью list-comprehenshion"
   ]
  },
  {
   "cell_type": "code",
   "execution_count": null,
   "id": "67191182-a5d3-429f-b0f9-d93152f80181",
   "metadata": {},
   "outputs": [],
   "source": [
    "#тут решение"
   ]
  },
  {
   "cell_type": "markdown",
   "id": "20ec6862-954a-4db0-8d18-12dbeb87ea65",
   "metadata": {},
   "source": [
    "4. Программа должна считывать первую строку с целым числом X. А потом должна запросить у пользователя X раз ввести целое число. На выходе напечатать список , в котором будут только числа, значение которых больше среднего арифметического всех введённых чисел. (Считывание производить с помощью list comprehension)"
   ]
  },
  {
   "cell_type": "code",
   "execution_count": null,
   "id": "0a927f76-d2c5-4952-ad22-b468e0f20379",
   "metadata": {},
   "outputs": [],
   "source": [
    "#тут решение"
   ]
  },
  {
   "cell_type": "markdown",
   "id": "e78a876a-f98e-48d2-837a-8cd77a59d117",
   "metadata": {},
   "source": [
    "5. На вход подаются два числа через пробел, обозначающие размеры матрицы (m - количество строк, n - количество столбцов). Создать матрицу m на n, заполненую нулями. Сделать красивый вывод матрицы."
   ]
  },
  {
   "cell_type": "code",
   "execution_count": null,
   "id": "b4c62e97-e428-44ee-bada-c2f85a5b872e",
   "metadata": {},
   "outputs": [],
   "source": [
    "#тут решение"
   ]
  },
  {
   "cell_type": "markdown",
   "id": "4e77b96e-44c7-4f7f-a342-a8fca9098a1c",
   "metadata": {},
   "source": [
    "6. На вход подаются два числа через пробел, обозначающие размеры матрицы (m - количество строк, n - количество столбцов). Создать матрицу m на n, заполненую координатами элементов матрицы. (те для первого элемента это будет (0,0) , для второго (0,1) и так далее) Сделать красивый вывод матрицы."
   ]
  },
  {
   "cell_type": "code",
   "execution_count": null,
   "id": "13c5db98-6609-4878-9c92-716a09e2beb5",
   "metadata": {},
   "outputs": [],
   "source": [
    "#тут решение"
   ]
  },
  {
   "cell_type": "markdown",
   "id": "488ff7b9-60b2-4da7-bc9f-11f5c2db5e6d",
   "metadata": {},
   "source": [
    "7. Используя list comprehension, выберите из списка строки и добавьте их в первый массив; int, float во второй; в переменной my_list оставьте элементы, которые не вошли в первые два."
   ]
  },
  {
   "cell_type": "code",
   "execution_count": null,
   "id": "5c1fbfae-3775-4357-a25c-530c4aa1c269",
   "metadata": {},
   "outputs": [],
   "source": [
    "my_list = [42, \"Hello\", 3.14, True, [1, 2, 3], {\"key\": \"value\"}, None, \"World\", 2.71, False, [4, 5, 6], {\"foo\": \"bar\"}, \"Python\", 100, -3.0, \"OpenAI\", {\"a\": 1, \"b\": 2}, True, [7, 8, 9], \"Artificial\", -123, 0.007, \"Intelligence\", {\"x\": 10, \"y\": 20}, False, [10, 20, 30], \"Machine\", 987654, 3.14159, \"Learning\", [11, 22, 33], \"Data\", -987, 0.123, \"Science\", {\"alpha\": 0, \"beta\": 1}, True, [55, 66, 77], \"Computer\", 123456, 2.71828, \"Programming\"]\n"
   ]
  },
  {
   "cell_type": "code",
   "execution_count": null,
   "id": "3adfe1ee-1572-4af2-ab81-601c63fc9b87",
   "metadata": {},
   "outputs": [],
   "source": [
    "#тут решение"
   ]
  },
  {
   "cell_type": "markdown",
   "id": "92e77527-80c3-4203-b762-6d28a7f7fc6a",
   "metadata": {},
   "source": [
    "8. Напишите в одну строку( один print) вывод списка из квадратов целых чисел от 0 до 20, каждое число должно быть в фигурных скобках, между числами должна быть двойная кавычка "
   ]
  },
  {
   "cell_type": "code",
   "execution_count": 4,
   "id": "4ab45e8b-12b6-4fa5-914d-6eec64f75b7a",
   "metadata": {},
   "outputs": [],
   "source": [
    "#тут решение (используйте f-string + list comprehenshion)"
   ]
  }
 ],
 "metadata": {
  "kernelspec": {
   "display_name": "Python 3 (ipykernel)",
   "language": "python",
   "name": "python3"
  },
  "language_info": {
   "codemirror_mode": {
    "name": "ipython",
    "version": 3
   },
   "file_extension": ".py",
   "mimetype": "text/x-python",
   "name": "python",
   "nbconvert_exporter": "python",
   "pygments_lexer": "ipython3",
   "version": "3.10.10"
  }
 },
 "nbformat": 4,
 "nbformat_minor": 5
}
