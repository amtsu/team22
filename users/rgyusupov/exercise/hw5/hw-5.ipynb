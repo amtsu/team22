{
 "cells": [
  {
   "cell_type": "markdown",
   "id": "a1850caa-4b10-43fe-a8cf-6607941a96aa",
   "metadata": {},
   "source": [
    "# Часть 1. Множества \n"
   ]
  },
  {
   "cell_type": "markdown",
   "id": "c0f0525a-3b70-4947-8c87-8e43bb8f3024",
   "metadata": {},
   "source": [
    "1. Создайте множество **set1** из целых чисел: 1, 2, 3, 4, 5.\n"
   ]
  },
  {
   "cell_type": "code",
   "execution_count": 1,
   "id": "423a97aa-ee5a-4421-8ccf-16d9dcb1b5ea",
   "metadata": {},
   "outputs": [],
   "source": [
    "set1 = {1,2,3,4,5}"
   ]
  },
  {
   "cell_type": "markdown",
   "id": "558268bc-73f0-4cf1-8fcc-b8ecc7182ae9",
   "metadata": {},
   "source": [
    "2. Добавьте в это множество элемент 6.\n"
   ]
  },
  {
   "cell_type": "code",
   "execution_count": 2,
   "id": "17313f2a-6525-4e64-8fca-43d48d76492f",
   "metadata": {},
   "outputs": [],
   "source": [
    "set1.add(6)"
   ]
  },
  {
   "cell_type": "markdown",
   "id": "3909c160-fddb-4fda-8c56-63a6e0392ad7",
   "metadata": {},
   "source": [
    "3. Удалите элемент 2 из множества.\n"
   ]
  },
  {
   "cell_type": "code",
   "execution_count": 3,
   "id": "7ae2e268-2d6f-4321-a0fb-5561a745d047",
   "metadata": {},
   "outputs": [],
   "source": [
    "set1.remove(2)"
   ]
  },
  {
   "cell_type": "markdown",
   "id": "162a7095-c591-4892-b763-fe76635fde90",
   "metadata": {},
   "source": [
    "4. Проверьте, содержит ли множество элемент 3.\n"
   ]
  },
  {
   "cell_type": "code",
   "execution_count": 4,
   "id": "cab6f1d4-26fb-4065-b8a4-944395d3805e",
   "metadata": {},
   "outputs": [
    {
     "name": "stdout",
     "output_type": "stream",
     "text": [
      "True\n"
     ]
    }
   ],
   "source": [
    "print(3 in set1)"
   ]
  },
  {
   "cell_type": "markdown",
   "id": "73190ab8-b652-4061-bc9f-c47515fe681e",
   "metadata": {},
   "source": [
    "5. Создайте второе множество **set2** с элементами 4, 5, 6, 7, 8.\n"
   ]
  },
  {
   "cell_type": "code",
   "execution_count": 5,
   "id": "12e059b2-c8fc-4490-8252-8edaa247cb35",
   "metadata": {},
   "outputs": [],
   "source": [
    "set2 = {4,5,6,7,8}"
   ]
  },
  {
   "cell_type": "markdown",
   "id": "3ad31069-26d0-411f-bcd7-b753856f6bd0",
   "metadata": {},
   "source": [
    "6. Найдите объединение множеств **set1** и **set2**.\n"
   ]
  },
  {
   "cell_type": "code",
   "execution_count": 6,
   "id": "e2a3340e-45f0-4fdb-bab9-56d5a1e109c3",
   "metadata": {},
   "outputs": [
    {
     "name": "stdout",
     "output_type": "stream",
     "text": [
      "{1, 3, 4, 5, 6}\n",
      "{4, 5, 6, 7, 8}\n",
      "{1, 3, 4, 5, 6, 7, 8}\n"
     ]
    }
   ],
   "source": [
    "print(set1)\n",
    "print(set2)\n",
    "print(set1 | set2)"
   ]
  },
  {
   "cell_type": "markdown",
   "id": "c30d10c9-7fdb-426b-8657-1118326987d0",
   "metadata": {},
   "source": [
    "7. Найдите разность множеств **set1** и **set2**.\n"
   ]
  },
  {
   "cell_type": "code",
   "execution_count": 7,
   "id": "1213f5d8-5914-4715-8402-f64e62bc0238",
   "metadata": {},
   "outputs": [
    {
     "name": "stdout",
     "output_type": "stream",
     "text": [
      "{1, 3, 7, 8}\n",
      "{8, 1, 3, 7}\n"
     ]
    }
   ],
   "source": [
    "print(set1.symmetric_difference(set2))\n",
    "print((set1 - set2) | (set2 - set1))"
   ]
  },
  {
   "cell_type": "markdown",
   "id": "50855226-2ee2-46ec-b236-13ff9d974eec",
   "metadata": {},
   "source": [
    "8. Создайте два множества:\n",
    " **set1** , содержащие цвета: \"красный\", \"оранжевый\", \"желтый\", \"зеленый\", \"голубой\",\n",
    "   и **set2**, содержащее цвета \"оранжевый\", \"желтый\", \"синий\", \"фиолетовый\", \"Мальвиновый\".\n"
   ]
  },
  {
   "cell_type": "code",
   "execution_count": 8,
   "id": "3102c92c-48c3-4aa7-bd47-037009cb05d3",
   "metadata": {},
   "outputs": [],
   "source": [
    "set1 = {\"красный\", \"оранжевый\", \"желтый\", \"зеленый\", \"голубой\"}\n",
    "set2 = {\"оранжевый\", \"желтый\", \"синий\", \"фиолетовый\", \"Мальвиновый\"}"
   ]
  },
  {
   "cell_type": "markdown",
   "id": "c4a8970f-59b1-4ae3-a291-abaa4dbfc1af",
   "metadata": {},
   "source": [
    "9. Найдите пересечение множеств **set1** и **set2**.\n"
   ]
  },
  {
   "cell_type": "code",
   "execution_count": 9,
   "id": "a0a49969-4a8b-4679-a60e-a8fbd8b5f480",
   "metadata": {},
   "outputs": [
    {
     "name": "stdout",
     "output_type": "stream",
     "text": [
      "{'желтый', 'оранжевый'}\n",
      "{'желтый', 'оранжевый'}\n"
     ]
    }
   ],
   "source": [
    "print(set1.intersection(set2))\n",
    "print(set1 & set2)"
   ]
  },
  {
   "cell_type": "markdown",
   "id": "ab8eb385-fe71-4aa8-a0b1-3cac1fd208eb",
   "metadata": {},
   "source": [
    "10. Объедините множества **set1** и **set2** и сохраните результат в новое множество **rainbow_colors**."
   ]
  },
  {
   "cell_type": "code",
   "execution_count": 10,
   "id": "07c8a944-5fe0-4875-9c35-dc2e8bc3efed",
   "metadata": {},
   "outputs": [
    {
     "name": "stdout",
     "output_type": "stream",
     "text": [
      "{'оранжевый', 'голубой', 'желтый', 'зеленый', 'красный', 'фиолетовый', 'синий', 'Мальвиновый'}\n",
      "{'оранжевый', 'голубой', 'желтый', 'зеленый', 'красный', 'фиолетовый', 'синий', 'Мальвиновый'}\n"
     ]
    }
   ],
   "source": [
    "rainbow_colors = set1.union(set2)\n",
    "print(rainbow_colors)\n",
    "print(set1 | set2)"
   ]
  },
  {
   "cell_type": "markdown",
   "id": "b537fffb-1897-4d78-958c-b6ad453c0d24",
   "metadata": {},
   "source": [
    "# Часть 2. Словари"
   ]
  },
  {
   "cell_type": "markdown",
   "id": "47a7ed34-fd76-49c1-9411-8dd148cc296e",
   "metadata": {},
   "source": [
    "1. Создайте словарь **person** с ключами \"name\", \"age\" и \"city\" с вашими данными.\n"
   ]
  },
  {
   "cell_type": "code",
   "execution_count": 11,
   "id": "b43e31f8-fc54-447e-94a1-3423d137a79a",
   "metadata": {},
   "outputs": [
    {
     "name": "stdout",
     "output_type": "stream",
     "text": [
      "{'name': 'Ruslan', 'age': 40, 'city': 'Moscou'}\n"
     ]
    }
   ],
   "source": [
    "person = {\"name\": \"Ruslan\", \"age\": 40, \"city\": \"Moscou\"}\n",
    "print(person)"
   ]
  },
  {
   "cell_type": "code",
   "execution_count": null,
   "id": "074fa38d-5846-4278-96e6-26b7b29f1842",
   "metadata": {},
   "outputs": [],
   "source": []
  },
  {
   "cell_type": "markdown",
   "id": "a8132d21-d7d4-4632-9583-ac6f504b5fcc",
   "metadata": {},
   "source": [
    "2. Добавьте в словарь **person**  новый ключ \"e-mail\" со значением вашего электронного адреса."
   ]
  },
  {
   "cell_type": "code",
   "execution_count": 12,
   "id": "8283df3b-e08c-4981-b6fe-1ebed04cd91b",
   "metadata": {},
   "outputs": [
    {
     "name": "stdout",
     "output_type": "stream",
     "text": [
      "{'name': 'Ruslan', 'age': 40, 'city': 'Moscou', 'e-mail': 'ruslan@leadcm.com'}\n"
     ]
    }
   ],
   "source": [
    "person[\"e-mail\"] = \"ruslan@leadcm.com\"\n",
    "print(person)"
   ]
  },
  {
   "cell_type": "markdown",
   "id": "09898bee-007c-493a-b682-4212c7ba1f22",
   "metadata": {},
   "source": [
    "3. Удалите ключ \"city\" из словаря **person** .\n"
   ]
  },
  {
   "cell_type": "code",
   "execution_count": 13,
   "id": "5bf7aaed-2a30-445c-a676-d3016917cc2a",
   "metadata": {},
   "outputs": [
    {
     "name": "stdout",
     "output_type": "stream",
     "text": [
      "{'name': 'Ruslan', 'age': 40, 'e-mail': 'ruslan@leadcm.com'}\n"
     ]
    }
   ],
   "source": [
    "del person['city']\n",
    "print(person)"
   ]
  },
  {
   "cell_type": "code",
   "execution_count": 14,
   "id": "abe36c26-7ea5-4886-ae9e-9b31d7be9990",
   "metadata": {},
   "outputs": [],
   "source": [
    "# 4. Создайте словарь **fruits_quantity**, содержащий количество различных фруктов: {\"яблоко\": 5, \"банан\": 10, \"апельсин\": 7}."
   ]
  },
  {
   "cell_type": "code",
   "execution_count": 15,
   "id": "b03fb582-853b-427d-96b2-9138be9ad474",
   "metadata": {},
   "outputs": [],
   "source": [
    "fruits_quantity = {\"яблоко\": 5, \"банан\": 10, \"апельсин\": 7}"
   ]
  },
  {
   "cell_type": "markdown",
   "id": "e3372dce-5661-4a42-9904-19923e542d48",
   "metadata": {},
   "source": [
    "5. в словаре fruits_quantity увеличьте количество \"бананов\" на 3."
   ]
  },
  {
   "cell_type": "code",
   "execution_count": 16,
   "id": "dfdc4743-a7e5-44e0-83a4-ae4e8e8635dd",
   "metadata": {},
   "outputs": [
    {
     "data": {
      "text/plain": [
       "{'яблоко': 5, 'банан': 13, 'апельсин': 7}"
      ]
     },
     "execution_count": 16,
     "metadata": {},
     "output_type": "execute_result"
    }
   ],
   "source": [
    "fruits_quantity[\"банан\"] += 3\n",
    "fruits_quantity"
   ]
  },
  {
   "cell_type": "markdown",
   "id": "1901a74c-3f78-4e9d-96ea-3c389683d35d",
   "metadata": {},
   "source": [
    "6. Создайте новый словарь **fruits_prices**, где заданы цены одного фрукта для всех фруктов {\"яблоко\": 1.5, \"банан\": 2, \"апельсин\": 1.2}."
   ]
  },
  {
   "cell_type": "code",
   "execution_count": 17,
   "id": "4470415d-2180-4af5-ba8a-132809d5f309",
   "metadata": {},
   "outputs": [],
   "source": [
    "fruits_prices = {\"яблоко\": 1.5, \"банан\": 2, \"апельсин\": 1.2}"
   ]
  },
  {
   "cell_type": "code",
   "execution_count": 18,
   "id": "5d383a03-fdcd-4625-a24a-9503e5d1bc08",
   "metadata": {},
   "outputs": [
    {
     "data": {
      "text/plain": [
       "{'яблоко': 1.5, 'банан': 2, 'апельсин': 1.2}"
      ]
     },
     "execution_count": 18,
     "metadata": {},
     "output_type": "execute_result"
    }
   ],
   "source": [
    "fruits_prices"
   ]
  },
  {
   "cell_type": "markdown",
   "id": "9f33e0a5-3798-4483-9bd8-7fea2db81a73",
   "metadata": {},
   "source": [
    "7.* Посчитайте стоимость всех фруктов, имеющихся в наличии\n"
   ]
  },
  {
   "cell_type": "code",
   "execution_count": 19,
   "id": "e0c2ca7d-7d27-46d8-be5f-26e054b795d9",
   "metadata": {},
   "outputs": [
    {
     "name": "stdout",
     "output_type": "stream",
     "text": [
      "{'яблоко': 7.5, 'банан': 26, 'апельсин': 8.4}\n",
      "41.9\n"
     ]
    }
   ],
   "source": [
    "cost_of_fruits = {k:v * fruits_prices.get(k,0) for (k,v) in fruits_quantity.items()}\n",
    "print(cost_of_fruits)\n",
    "cost_of_all_fruits = sum(cost_of_fruits.values())\n",
    "print(cost_of_all_fruits)"
   ]
  },
  {
   "cell_type": "code",
   "execution_count": null,
   "id": "ccfa0611-8b2e-4552-b4d6-353616e0fb6a",
   "metadata": {},
   "outputs": [],
   "source": []
  },
  {
   "cell_type": "markdown",
   "id": "afca6bd4-0a58-4911-b435-85c2889aad97",
   "metadata": {},
   "source": [
    "8. Удалите \"Томат\" из словаря fruits_prices."
   ]
  },
  {
   "cell_type": "code",
   "execution_count": 20,
   "id": "c6a28d1e-2fa5-4b63-9a0d-89604ab5924f",
   "metadata": {},
   "outputs": [
    {
     "name": "stdout",
     "output_type": "stream",
     "text": [
      "{'яблоко': 1.5, 'банан': 2, 'апельсин': 1.2}\n"
     ]
    }
   ],
   "source": [
    "if \"Томат\" in fruits_prices:\n",
    "    del fruits_prices[\"Томат\"]\n",
    "print(fruits_prices)"
   ]
  },
  {
   "cell_type": "markdown",
   "id": "a4649447-0461-4999-9b88-2bec055d6481",
   "metadata": {},
   "source": [
    "9. Создайте словарь students с данными о студентах {\"Иванов\": 22, \"Петрова\": 13, \"Сидоров\": 23}."
   ]
  },
  {
   "cell_type": "code",
   "execution_count": 21,
   "id": "4c974d34-6b8a-4d01-ae2f-695fa45dc2a0",
   "metadata": {},
   "outputs": [
    {
     "data": {
      "text/plain": [
       "{'Иванов': 22, 'Петрова': 13, 'Сидоров': 23}"
      ]
     },
     "execution_count": 21,
     "metadata": {},
     "output_type": "execute_result"
    }
   ],
   "source": [
    "students = {\"Иванов\": 22, \"Петрова\": 13, \"Сидоров\": 23}\n",
    "students"
   ]
  },
  {
   "cell_type": "markdown",
   "id": "bf5aefc5-5509-41ff-984e-77088ba8626e",
   "metadata": {},
   "source": [
    "10. Добавьте нового студента \"Смирнова\" возрастом 20 лет в словарь."
   ]
  },
  {
   "cell_type": "code",
   "execution_count": 22,
   "id": "6d2a8899-f596-4eb1-b9d9-7afa2fbf9835",
   "metadata": {},
   "outputs": [
    {
     "data": {
      "text/plain": [
       "{'Иванов': 22, 'Петрова': 13, 'Сидоров': 23, 'Смирнова': 20}"
      ]
     },
     "execution_count": 22,
     "metadata": {},
     "output_type": "execute_result"
    }
   ],
   "source": [
    "students[\"Смирнова\"] = 20\n",
    "students"
   ]
  },
  {
   "cell_type": "code",
   "execution_count": null,
   "id": "18407433-fb3d-4c10-9d17-cecedc1a4e59",
   "metadata": {},
   "outputs": [],
   "source": []
  },
  {
   "cell_type": "markdown",
   "id": "d3bbb12b-a690-426d-be4e-ac14bd461e0e",
   "metadata": {},
   "source": [
    "11. Удалите студента \"Петрова\" из словаря."
   ]
  },
  {
   "cell_type": "code",
   "execution_count": 23,
   "id": "14685ac6-f780-40d3-ba93-1b6b1508c71a",
   "metadata": {},
   "outputs": [
    {
     "data": {
      "text/plain": [
       "{'Иванов': 22, 'Сидоров': 23, 'Смирнова': 20}"
      ]
     },
     "execution_count": 23,
     "metadata": {},
     "output_type": "execute_result"
    }
   ],
   "source": [
    "del students[\"Петрова\"]\n",
    "students"
   ]
  },
  {
   "cell_type": "markdown",
   "id": "3a3e511c-8c3e-4496-8555-39c324dfa7ca",
   "metadata": {},
   "source": [
    "# Часть 3. Условные операторы\n"
   ]
  },
  {
   "cell_type": "markdown",
   "id": "b445e525-2eb4-47b7-96b2-b73dcfb5123d",
   "metadata": {},
   "source": [
    "1. На основе значения возраста из словаря **person** из предыдущей части, выведите сообщение \"Совершеннолетний\" или \"Несовершеннолетний\".\n"
   ]
  },
  {
   "cell_type": "code",
   "execution_count": 24,
   "id": "1d0324dd-f959-4f32-b05d-e0f9817d3d8a",
   "metadata": {},
   "outputs": [
    {
     "data": {
      "text/plain": [
       "'Совершеннолетний'"
      ]
     },
     "execution_count": 24,
     "metadata": {},
     "output_type": "execute_result"
    }
   ],
   "source": [
    " \"Совершеннолетний\" if person[\"age\"]>=18 else \"Неовершеннолетний\" "
   ]
  },
  {
   "cell_type": "markdown",
   "id": "5d15e061-d387-4097-a483-9b3cacac6796",
   "metadata": {},
   "source": [
    "2. Сравните размер множества **set1** с размером множеством **set2** и выведите сообщение о том, какое из множеств больше.\n"
   ]
  },
  {
   "cell_type": "code",
   "execution_count": 25,
   "id": "3592aa35-885d-4fee-a9fa-d814e24c597d",
   "metadata": {},
   "outputs": [
    {
     "name": "stdout",
     "output_type": "stream",
     "text": [
      "5\n",
      "5\n",
      "множества равны\n"
     ]
    }
   ],
   "source": [
    "print(len(set1))\n",
    "print(len(set2))\n",
    "if set1>set2:\n",
    "    print(\"set1>set2\")\n",
    "elif set2>set1:\n",
    "    print(\"set2>set1\")\n",
    "else:\n",
    "    print(\"множества равны\")"
   ]
  },
  {
   "cell_type": "markdown",
   "id": "c2fd9e2b-b030-4653-acf0-2809ec1a43d4",
   "metadata": {},
   "source": [
    "3. Проверьте, есть ли  \"груша\" в словаре **fruits_quantity**, и если нет, добавьте \"грушу\" с количеством 3."
   ]
  },
  {
   "cell_type": "code",
   "execution_count": 26,
   "id": "d286e015-2d36-449d-a41c-c71869ee2363",
   "metadata": {},
   "outputs": [
    {
     "name": "stdout",
     "output_type": "stream",
     "text": [
      "False\n"
     ]
    }
   ],
   "source": [
    "print(\"груша\" in fruits_quantity)\n",
    "if(\"груша\" not in fruits_quantity):\n",
    "    fruits_quantity[\"груша\"]=3"
   ]
  },
  {
   "cell_type": "markdown",
   "id": "757051db-9f0b-4356-9430-9e5fee39647e",
   "metadata": {},
   "source": [
    "4. Если банан дороже яблока, но дешевле апельсина, задайте количество бананов равным 15.\n"
   ]
  },
  {
   "cell_type": "code",
   "execution_count": 27,
   "id": "068dbbea-5984-4ac2-a353-4e9d06e18a92",
   "metadata": {},
   "outputs": [
    {
     "name": "stdout",
     "output_type": "stream",
     "text": [
      "{'яблоко': 1.5, 'банан': 2, 'апельсин': 1.2}\n",
      "{'яблоко': 5, 'банан': 13, 'апельсин': 7, 'груша': 3}\n"
     ]
    }
   ],
   "source": [
    "print(fruits_prices)\n",
    "if fruits_prices[\"яблоко\"]<fruits_prices[\"банан\"]<fruits_prices[\"апельсин\"]:\n",
    "    fruits_quantity[\"банан\"]=15\n",
    "print(fruits_quantity)"
   ]
  },
  {
   "cell_type": "markdown",
   "id": "d8bdcc84-7064-4a77-b959-49e6157aa90c",
   "metadata": {},
   "source": [
    "5. Задайте словарь Seven11 с таким содержанием {\"яйца\": 40, \"батон хлеба\" : 20}  \n",
    "  Жена отправляет мужа-программиста в севенэлевен:  \n",
    " — Купи батон хлеба, если будут яйца — возьми десяток.  \n",
    "Выведите на экран, сколько хлеба купил муж-программист, и сколько хлеба и яиц осталось в магазине."
   ]
  },
  {
   "cell_type": "code",
   "execution_count": 28,
   "id": "c6a7a1b3-58a9-4d18-a549-38190301c2ed",
   "metadata": {},
   "outputs": [
    {
     "data": {
      "text/plain": [
       "{'яйца': 30, 'батон хлеба': 19}"
      ]
     },
     "execution_count": 28,
     "metadata": {},
     "output_type": "execute_result"
    }
   ],
   "source": [
    "Seven11 = {\"яйца\": 40, \"батон хлеба\" : 20}\n",
    "# программист не совсем дурак\n",
    "buy = {\"яйца\": 10, \"батон хлеба\" : 1}\n",
    "left = {k:v - buy[k] for (k,v) in Seven11.items()}\n",
    "left"
   ]
  },
  {
   "cell_type": "markdown",
   "id": "a8202eb3-04e4-4c9b-bc37-d93a5eef3e13",
   "metadata": {},
   "source": [
    "6. Напишите условие, которое проверяет возраст студента \"Иванова\" и выводит сообщение \"Совершеннолетний\" или \"Несовершеннолетний\"."
   ]
  },
  {
   "cell_type": "code",
   "execution_count": 29,
   "id": "831eb710-b3ff-4825-985d-e53f1b35aa34",
   "metadata": {},
   "outputs": [
    {
     "data": {
      "text/plain": [
       "'Совершеннолетний'"
      ]
     },
     "execution_count": 29,
     "metadata": {},
     "output_type": "execute_result"
    }
   ],
   "source": [
    " \"Совершеннолетний\" if students[\"Иванов\"]>=18 else \"Неовершеннолетний\" "
   ]
  },
  {
   "cell_type": "markdown",
   "id": "8727cf2d-3ef8-4e10-a773-dc8c62f46167",
   "metadata": {},
   "source": [
    "# Часть 4. Циклы "
   ]
  },
  {
   "cell_type": "markdown",
   "id": "0cc79b02-4f14-4afc-a9da-5679d5aad696",
   "metadata": {},
   "source": [
    "1. Напишите цикл for, который выводит все элементы множества **set1**.\n"
   ]
  },
  {
   "cell_type": "code",
   "execution_count": 30,
   "id": "e6709032-140c-4ebe-b63b-211c948c0f78",
   "metadata": {},
   "outputs": [
    {
     "name": "stdout",
     "output_type": "stream",
     "text": [
      "красный\n",
      "оранжевый\n",
      "голубой\n",
      "желтый\n",
      "зеленый\n"
     ]
    }
   ],
   "source": [
    "for item in set1:\n",
    "    print(item)"
   ]
  },
  {
   "cell_type": "markdown",
   "id": "b11f675d-0fc2-4fa6-ab63-5bc90fedd0e9",
   "metadata": {},
   "source": [
    "2. Напишите цикл while, который выводит квадраты чисел от 1 до 5.\n"
   ]
  },
  {
   "cell_type": "code",
   "execution_count": 31,
   "id": "52196b4f-7639-4bf6-b33f-3edbde3d1fc8",
   "metadata": {},
   "outputs": [
    {
     "name": "stdout",
     "output_type": "stream",
     "text": [
      "1\n",
      "4\n",
      "9\n",
      "16\n",
      "25\n"
     ]
    }
   ],
   "source": [
    "i = 1\n",
    "while i<=5:\n",
    "    print(i**2)\n",
    "    i += 1"
   ]
  },
  {
   "cell_type": "markdown",
   "id": "08006861-c85e-4bca-9046-38464ccf582a",
   "metadata": {},
   "source": [
    "3. Напишите цикл for, который перебирает все записи из словаря **fruits_quantity** и выводит информацию о количестве каждого фрукта.\n"
   ]
  },
  {
   "cell_type": "code",
   "execution_count": 32,
   "id": "d156e778-7e8d-41d4-91b4-7e4bd4b2ae82",
   "metadata": {},
   "outputs": [
    {
     "name": "stdout",
     "output_type": "stream",
     "text": [
      "яблоко     :   5\n",
      "банан      :  13\n",
      "апельсин   :   7\n",
      "груша      :   3\n"
     ]
    }
   ],
   "source": [
    "for f,v in fruits_quantity.items():\n",
    "    print(f\"{f:<10} : {v:>3}\")"
   ]
  },
  {
   "cell_type": "markdown",
   "id": "bf60f6c9-bc04-4116-a3e9-464233a4c5d1",
   "metadata": {},
   "source": [
    "4. Выведите сообщение \"%название фрукта% - дорогой товар\" для фруктов из **fruit_prices**, цена которых превышает 1.5, подставив вместо %название фрукта% название соответствующих \"дорогих\" фруктов"
   ]
  },
  {
   "cell_type": "code",
   "execution_count": 33,
   "id": "b28298bb-0a96-4344-9dfb-d25aa46ec8e2",
   "metadata": {},
   "outputs": [
    {
     "name": "stdout",
     "output_type": "stream",
     "text": [
      "{'яблоко': 1.5, 'банан': 2, 'апельсин': 1.2}\n",
      "банан      - дорогой товар\n"
     ]
    }
   ],
   "source": [
    "print(fruits_prices)\n",
    "for f,v in fruits_prices.items():\n",
    "    if v>1.5:\n",
    "        print(f\"{f:<10} - дорогой товар\")"
   ]
  },
  {
   "cell_type": "markdown",
   "id": "fbc87167-02af-40c3-a0d9-d0b7a29a93e5",
   "metadata": {},
   "source": [
    " 5. Посчитайте стоимость всех фруктов, имеющихся в наличии"
   ]
  },
  {
   "cell_type": "code",
   "execution_count": 34,
   "id": "ff0b55a3-35b0-466b-969f-26b484cecb9d",
   "metadata": {},
   "outputs": [
    {
     "name": "stdout",
     "output_type": "stream",
     "text": [
      "{'яблоко': 7.5, 'банан': 26, 'апельсин': 8.4}\n",
      "41.9\n"
     ]
    }
   ],
   "source": [
    "print(cost_of_fruits)\n",
    "\n",
    "summ = 0\n",
    "for (k,v) in cost_of_fruits.items():\n",
    "    summ += v\n",
    "\n",
    "print(summ)"
   ]
  },
  {
   "cell_type": "markdown",
   "id": "dbf8baf6-ca73-4ee4-8594-e2e0441be351",
   "metadata": {},
   "source": [
    "6. Используя цикл for, выведите всех студентов и их возраст из словаря students."
   ]
  },
  {
   "cell_type": "code",
   "execution_count": 35,
   "id": "54edea6a-f321-4bb7-8fc7-30fc4be4ce32",
   "metadata": {},
   "outputs": [
    {
     "name": "stdout",
     "output_type": "stream",
     "text": [
      "Иванов     :  22\n",
      "Сидоров    :  23\n",
      "Смирнова   :  20\n"
     ]
    }
   ],
   "source": [
    "for f,v in students.items():\n",
    "    print(f\"{f:<10} : {v:>3}\")"
   ]
  },
  {
   "cell_type": "markdown",
   "id": "e5e7b6e6-df34-44d4-8dce-ad5dbff8958b",
   "metadata": {},
   "source": [
    "# Часть 5 - Функции\n",
    "\n",
    "## Множества\n"
   ]
  },
  {
   "cell_type": "markdown",
   "id": "ebc29429-f37b-48f2-9e28-293ea449f065",
   "metadata": {},
   "source": [
    "1. Создайте функции **set_union** и **set_difference** для операций объединения и разности множеств.\n",
    "   - Функции должны принимать два множества и возвращать соответствующий результат.\n"
   ]
  },
  {
   "cell_type": "code",
   "execution_count": 36,
   "id": "a681b23a-0dd9-4d8f-843d-8a6c588230f0",
   "metadata": {},
   "outputs": [
    {
     "name": "stdout",
     "output_type": "stream",
     "text": [
      "{'красный', 'оранжевый', 'голубой', 'желтый', 'зеленый'}\n",
      "{'оранжевый', 'фиолетовый', 'желтый', 'синий', 'Мальвиновый'}\n",
      "{'оранжевый', 'голубой', 'желтый', 'зеленый', 'красный', 'фиолетовый', 'синий', 'Мальвиновый'}\n",
      "{'красный', 'фиолетовый', 'голубой', 'зеленый', 'синий', 'Мальвиновый'}\n"
     ]
    }
   ],
   "source": [
    "def set_union(set1, set2):\n",
    "    return set1 | set2\n",
    "\n",
    "def set_difference(set1, set2):\n",
    "    return set1.symmetric_difference(set2)\n",
    "\n",
    "print(set1)\n",
    "print(set2)\n",
    "print(set_union(set1, set2))\n",
    "print(set_difference(set1, set2))\n"
   ]
  },
  {
   "cell_type": "markdown",
   "id": "d684e5fc-2d58-4a2f-93d9-3e20e8b17b3b",
   "metadata": {},
   "source": [
    "2. Создайте функцию **is_subset** для проверки, является ли одно множество подмножеством другого.\n"
   ]
  },
  {
   "cell_type": "code",
   "execution_count": 37,
   "id": "c380ecc0-e207-4ee2-b9fb-d7386c0056e8",
   "metadata": {},
   "outputs": [
    {
     "name": "stdout",
     "output_type": "stream",
     "text": [
      "True\n",
      "False\n"
     ]
    }
   ],
   "source": [
    "def is_subset(A, B):\n",
    "    for x in A:\n",
    "        if not x in B:\n",
    "            return False\n",
    "    return True\n",
    "\n",
    "print(is_subset({1,2}, {0,1,2,3}))\n",
    "print(is_subset({1,2}, {0,2,3}))\n",
    "      "
   ]
  },
  {
   "cell_type": "markdown",
   "id": "9e205e46-bcf9-42e5-a63d-4a4c48e66a24",
   "metadata": {},
   "source": [
    "3. Создайте функцию для объединения нескольких множеств."
   ]
  },
  {
   "cell_type": "code",
   "execution_count": 38,
   "id": "e595f37e-527a-4827-af91-a2b31ef4a477",
   "metadata": {},
   "outputs": [
    {
     "name": "stdout",
     "output_type": "stream",
     "text": [
      "{1, 2, 3, 4, 5, 6, 7, 8, 9}\n"
     ]
    }
   ],
   "source": [
    "def union_sets(*sets):\n",
    "    result = set()\n",
    "    \n",
    "    for sett in sets:\n",
    "        result = result | sett\n",
    "        \n",
    "    return result\n",
    "\n",
    "a = {1, 2, 3}\n",
    "b = {4, 5, 6}\n",
    "c = {7, 8, 9}\n",
    "\n",
    "combined_set = union_sets(a, b, c)\n",
    "print(combined_set)"
   ]
  },
  {
   "cell_type": "markdown",
   "id": "b5060f5e-5dce-4cef-8f97-c0d2dcee5d83",
   "metadata": {},
   "source": [
    "4. Создайте функцию для удаления конкретного элемента из множества.\n"
   ]
  },
  {
   "cell_type": "code",
   "execution_count": 39,
   "id": "9da1ec6a-24fd-49bc-829e-dc4ad63398fc",
   "metadata": {},
   "outputs": [
    {
     "name": "stdout",
     "output_type": "stream",
     "text": [
      "{'b', 'c'}\n"
     ]
    }
   ],
   "source": [
    "def remove_element(set, element):\n",
    "    set.remove(element)\n",
    "    return set\n",
    "\n",
    "my_set = {'a', 'b', 'c'}\n",
    "result = remove_element(my_set, 'a')\n",
    "print(result)"
   ]
  },
  {
   "cell_type": "markdown",
   "id": "c5107c2e-93ce-4683-bf80-150b07b38384",
   "metadata": {},
   "source": [
    "5. Создайте функцию для поиска пересечения нескольких множеств.\n"
   ]
  },
  {
   "cell_type": "code",
   "execution_count": 40,
   "id": "bd99a8a6-b0c0-4e2d-b804-289eb3205be0",
   "metadata": {},
   "outputs": [
    {
     "name": "stdout",
     "output_type": "stream",
     "text": [
      "{'a'}\n"
     ]
    }
   ],
   "source": [
    "def find_intersection(set1, set2, *sets):\n",
    "    result = set1.intersection(set2, *sets)\n",
    "    return result\n",
    "\n",
    "set_a = {'a', 'b', 'c'}\n",
    "set_b = {'a', 'd', 'e'}\n",
    "set_c = {'a', 'c', 'f'}\n",
    "result = find_intersection(set_a, set_b, set_c)\n",
    "print(result)\n"
   ]
  },
  {
   "cell_type": "markdown",
   "id": "1574ecbc-cc0f-48ca-8769-3986d78ca5ef",
   "metadata": {},
   "source": [
    "6. Создайте функцию для проверки на равенство двух множеств.\n"
   ]
  },
  {
   "cell_type": "code",
   "execution_count": 41,
   "id": "b2eacdd0-a8bd-41b1-a82e-599a2c4078fc",
   "metadata": {},
   "outputs": [
    {
     "name": "stdout",
     "output_type": "stream",
     "text": [
      "True\n",
      "False\n"
     ]
    }
   ],
   "source": [
    "def is_equal(set1, set2):\n",
    "    return set1 == set2\n",
    "\n",
    "print(is_equal({1,2}, {1,2}))\n",
    "print(is_equal({2,3}, {2,1}))"
   ]
  },
  {
   "cell_type": "markdown",
   "id": "f3a5f1f2-6905-43cf-abd0-9f96586770d7",
   "metadata": {},
   "source": [
    "7. Создайте функцию для нахождения объединения трех множеств.\n"
   ]
  },
  {
   "cell_type": "code",
   "execution_count": 42,
   "id": "dce6891e-bba6-4310-82bc-d6031e5742f9",
   "metadata": {},
   "outputs": [
    {
     "name": "stdout",
     "output_type": "stream",
     "text": [
      "{1, 2, 3, 4, 5, 6, 7, 8, 9}\n"
     ]
    }
   ],
   "source": [
    "def union_3_sets(set1, set2, set3):\n",
    "    return union_sets(set1, set2, set3)\n",
    "    \n",
    "a = {1, 2, 3}\n",
    "b = {4, 5, 6}\n",
    "c = {7, 8, 9}\n",
    "\n",
    "combined_set = union_sets(a, b, c)\n",
    "print(combined_set)"
   ]
  },
  {
   "cell_type": "markdown",
   "id": "5ffb8044-0ec8-408a-b2e9-9c42e3d3c79d",
   "metadata": {},
   "source": [
    "8. Создайте функцию для проверки, являются ли два множества дизъюнктными (не имеют общих элементов).\n"
   ]
  },
  {
   "cell_type": "code",
   "execution_count": 43,
   "id": "4ecc877c-ee47-4b9d-b424-bd86e2ee2ff0",
   "metadata": {},
   "outputs": [
    {
     "name": "stdout",
     "output_type": "stream",
     "text": [
      "True\n",
      "False\n"
     ]
    }
   ],
   "source": [
    "def is_disjoint(set1, set2):\n",
    "    for elem1 in set1:\n",
    "        if elem1 in set2:\n",
    "            return False\n",
    "\n",
    "    return True\n",
    "\n",
    "print(is_disjoint({1,2},{3,4}))\n",
    "print(is_disjoint({1,2},{2,3,4}))"
   ]
  },
  {
   "cell_type": "markdown",
   "id": "43a849db-49c8-4c6b-a015-fba7c097d05d",
   "metadata": {},
   "source": [
    "9. Создайте функцию для нахождения разности двух множеств.\n"
   ]
  },
  {
   "cell_type": "code",
   "execution_count": 44,
   "id": "e3ebff96-4e42-42c0-b56c-e35c1ee0fbda",
   "metadata": {},
   "outputs": [
    {
     "name": "stdout",
     "output_type": "stream",
     "text": [
      "{1}\n"
     ]
    }
   ],
   "source": [
    "def find_difference(set1, set2):\n",
    "    result = set()\n",
    "    \n",
    "    for elem in set1:\n",
    "        if not (elem in set2):\n",
    "            result.add(elem)\n",
    "            \n",
    "    return result\n",
    "    \n",
    "print(find_difference({1,2,3}, {2,3,4}))"
   ]
  },
  {
   "cell_type": "markdown",
   "id": "a3344764-fe59-4820-a488-87b0c86c7b69",
   "metadata": {},
   "source": [
    "10. Создайте функцию для определения симметрической разности двух множеств.\n"
   ]
  },
  {
   "cell_type": "code",
   "execution_count": 45,
   "id": "f736350b-a8d6-4e84-8d1b-e366ebe3b72c",
   "metadata": {},
   "outputs": [
    {
     "name": "stdout",
     "output_type": "stream",
     "text": [
      "{1, 4}\n"
     ]
    }
   ],
   "source": [
    "def find_symmetric_difference(set1, set2):\n",
    "    result = set()\n",
    "    \n",
    "    for elem in set1:\n",
    "        if not (elem in set2):\n",
    "            result.add(elem)\n",
    "            \n",
    "    for elem in set2:\n",
    "        if not (elem in set1):\n",
    "            result.add(elem)\n",
    "            \n",
    "    return result \n",
    "\n",
    "print(find_symmetric_difference({1,2,3}, {2,3,4}))"
   ]
  },
  {
   "cell_type": "markdown",
   "id": "52e92a87-2a7b-4634-a258-f28848c3de46",
   "metadata": {},
   "source": [
    "11. Создайте функцию **create_set** для создания множества с заданными элементами.\n",
    "   - Функция должна принимать переменное количество аргументов и возвращать новое множество."
   ]
  },
  {
   "cell_type": "code",
   "execution_count": 46,
   "id": "d27ec175-7226-467b-a278-b2b667e60a42",
   "metadata": {},
   "outputs": [
    {
     "name": "stdout",
     "output_type": "stream",
     "text": [
      "{1, 2, 3, 4}\n",
      "{1, 3, 4, 5}\n"
     ]
    }
   ],
   "source": [
    "def create_set(*elements):\n",
    "    return set(elements)\n",
    "\n",
    "print(create_set(1,2,3,4))\n",
    "print(create_set(1,3,3,4,5))\n"
   ]
  },
  {
   "cell_type": "markdown",
   "id": "d2f1bbce-9bcf-4746-98f3-c844458fb444",
   "metadata": {},
   "source": [
    "## Словари"
   ]
  },
  {
   "cell_type": "markdown",
   "id": "afd4ab39-39e7-4e4e-b8c7-481676305aa5",
   "metadata": {},
   "source": [
    "1. Создайте функцию **create_dictionary** для создания словаря с заданными ключами и значениями.\n",
    "   - Функция должна принимать словарь в формате ключ-значение и возвращать созданный словарь."
   ]
  },
  {
   "cell_type": "code",
   "execution_count": 47,
   "id": "5cea8acd-c749-40b8-b983-2dfd35e116c2",
   "metadata": {},
   "outputs": [
    {
     "name": "stdout",
     "output_type": "stream",
     "text": [
      "{'key1': 'value1', 'key2': 'value2'}\n"
     ]
    }
   ],
   "source": [
    "def create_dictionary(data):\n",
    "    return dict(data)\n",
    "\n",
    "data = [('key1', 'value1'), ('key2', 'value2')]\n",
    "dictionary = create_dictionary(data)\n",
    "print(dictionary)\n"
   ]
  },
  {
   "cell_type": "markdown",
   "id": "d1650ef0-449b-4793-960b-2dd5307bfa6a",
   "metadata": {},
   "source": [
    "2. Напишите функции add_student и remove_student для добавления и удаления студентов из словаря.\n",
    "   - Функции должны принимать словарь студентов и соответствующие данные для добавления и удаления."
   ]
  },
  {
   "cell_type": "code",
   "execution_count": 48,
   "id": "fa56fb0a-f396-47fe-8d18-3406cb02d1be",
   "metadata": {},
   "outputs": [
    {
     "name": "stdout",
     "output_type": "stream",
     "text": [
      "{'Питонов': 18, 'Жаваскриптов': 19}\n",
      "{'Жаваскриптов': 19}\n"
     ]
    }
   ],
   "source": [
    "def add_student(students_dict, student_name, student_age):\n",
    "    students_dict[student_name] = student_age\n",
    "\n",
    "def remove_student(students_dict, student_name):\n",
    "    if student_name in students_dict:\n",
    "        del students_dict[student_name]\n",
    "        \n",
    "students = {}\n",
    "\n",
    "add_student(students, 'Питонов', 18)\n",
    "add_student(students, 'Жаваскриптов', 19)\n",
    "print(students)  \n",
    "\n",
    "remove_student(students, 'Питонов')\n",
    "print(students)\n"
   ]
  },
  {
   "cell_type": "markdown",
   "id": "61696b5a-096d-4557-a0b0-0f72b0f9a869",
   "metadata": {},
   "source": [
    "3. Напишите функции **add_fruit** и **remove_fruit** для добавления и удаления фруктов, их количества и стоимости в списки fruits_quantity и fruits_prices.\n",
    "   - Функции должны принимать словари и соответствующие данные для добавления и удаления."
   ]
  },
  {
   "cell_type": "code",
   "execution_count": 49,
   "id": "7e599200-57fa-47d1-a30a-b671bb5b658f",
   "metadata": {},
   "outputs": [
    {
     "name": "stdout",
     "output_type": "stream",
     "text": [
      "{'яблоко': 10, 'банан': 13, 'апельсин': 7, 'груша': 3}\n",
      "{'яблоко': 2.5, 'банан': 2, 'апельсин': 1.2}\n",
      "{'банан': 13, 'апельсин': 7, 'груша': 3}\n",
      "{'банан': 2, 'апельсин': 1.2}\n"
     ]
    }
   ],
   "source": [
    "def add_fruit(fruits_quantity, fruits_prices, fruit_name, quantity, price):\n",
    "    fruits_quantity[fruit_name] = quantity\n",
    "    fruits_prices[fruit_name] = price\n",
    "\n",
    "def remove_fruit(fruits_quantity, fruits_prices, fruit_name):\n",
    "    if fruit_name in fruits_quantity:\n",
    "        del fruits_quantity[fruit_name]\n",
    "    if fruit_name in fruits_prices:\n",
    "        del fruits_prices[fruit_name]\n",
    "\n",
    "\n",
    "add_fruit(fruits_quantity, fruits_prices, 'яблоко', 10, 2.5)\n",
    "print(fruits_quantity) \n",
    "print(fruits_prices) \n",
    "\n",
    "remove_fruit(fruits_quantity, fruits_prices, 'яблоко')\n",
    "print(fruits_quantity) \n",
    "print(fruits_prices) "
   ]
  },
  {
   "cell_type": "markdown",
   "id": "6b57614f-432e-428e-90aa-72fe4384ed88",
   "metadata": {},
   "source": [
    "    \n",
    "4. Создайте функцию для объединения двух словарей."
   ]
  },
  {
   "cell_type": "code",
   "execution_count": 50,
   "id": "a63a6d3d-55eb-4948-943a-4c61758ec41e",
   "metadata": {},
   "outputs": [
    {
     "name": "stdout",
     "output_type": "stream",
     "text": [
      "{'a': 1, 'b': 2, 'c': 3, 'd': 4}\n"
     ]
    }
   ],
   "source": [
    "def merge_dictionaries(dict1, dict2):\n",
    "    return {**dict1, **dict2}\n",
    "\n",
    "dict1 = {'a': 1, 'b': 2}\n",
    "dict2 = {'c': 3, 'd': 4}\n",
    "merged_dict = merge_dictionaries(dict1, dict2)\n",
    "print(merged_dict) \n"
   ]
  },
  {
   "cell_type": "markdown",
   "id": "d47c1db5-b79b-43c6-aab4-2c1a227a7b06",
   "metadata": {},
   "source": [
    "5. Создайте функцию для удаления элемента из словаря по заданному ключу."
   ]
  },
  {
   "cell_type": "code",
   "execution_count": 51,
   "id": "580948a9-d772-461a-88c9-20893b44481d",
   "metadata": {},
   "outputs": [
    {
     "name": "stdout",
     "output_type": "stream",
     "text": [
      "{'a': 1, 'c': 3}\n"
     ]
    }
   ],
   "source": [
    "def remove_key_from_dict(dictionary, key):\n",
    "    if key in dictionary:\n",
    "        del dictionary[key]\n",
    "\n",
    "dictionary = {'a': 1, 'b': 2, 'c': 3}\n",
    "remove_key_from_dict(dictionary, 'b')\n",
    "print(dictionary)  "
   ]
  },
  {
   "cell_type": "markdown",
   "id": "f609f228-21af-42cb-9714-2c723f37f5eb",
   "metadata": {},
   "source": [
    "6. Создайте функцию для переворачивания значений и ключей в словаре (принимает на вход словарь, возвращает другой словарь, ключами которого являются значения входного словаря, а значениями - ключи."
   ]
  },
  {
   "cell_type": "code",
   "execution_count": 52,
   "id": "fd90196c-2438-4eeb-8beb-cad200064044",
   "metadata": {},
   "outputs": [
    {
     "name": "stdout",
     "output_type": "stream",
     "text": [
      "{1: 'a', 2: 'b', 3: 'c'}\n"
     ]
    }
   ],
   "source": [
    "def flip_dictionary(input_dict):\n",
    "    return {value: key for key, value in input_dict.items()}\n",
    "\n",
    "input_dict = {'a': 1, 'b': 2, 'c': 3}\n",
    "flipped_dict = flip_dictionary(input_dict)\n",
    "print(flipped_dict) \n"
   ]
  },
  {
   "cell_type": "markdown",
   "id": "a1eda518-9d0c-4a7f-bb33-cb02ff3d36d4",
   "metadata": {},
   "source": [
    "7. Создайте функцию для сортировки словаря по ключам в обратном порядке."
   ]
  },
  {
   "cell_type": "code",
   "execution_count": 53,
   "id": "9153fdb6-f3e0-4789-9d19-99b97c592f0d",
   "metadata": {},
   "outputs": [
    {
     "name": "stdout",
     "output_type": "stream",
     "text": [
      "{'c': 2, 'b': 1, 'a': 3}\n"
     ]
    }
   ],
   "source": [
    "def sort_dict_by_keys_desc(dictionary):\n",
    "    return dict(sorted(dictionary.items(), reverse=True))\n",
    "\n",
    "dictionary = {'a': 3, 'b': 1, 'c': 2}\n",
    "sorted_dict = sort_dict_by_keys_desc(dictionary)\n",
    "print(sorted_dict) \n"
   ]
  },
  {
   "cell_type": "markdown",
   "id": "1f94e9ec-e6c8-4814-90bf-ddc3229aaa8b",
   "metadata": {},
   "source": [
    "8.  Создайте функцию возвращающую наибольшее значение элемента словаря."
   ]
  },
  {
   "cell_type": "code",
   "execution_count": 54,
   "id": "3684d4e9-498e-413b-96a4-c93dd6218c6a",
   "metadata": {},
   "outputs": [
    {
     "name": "stdout",
     "output_type": "stream",
     "text": [
      "40\n"
     ]
    }
   ],
   "source": [
    "def max_dict_value(dictionary):\n",
    "    return max(dictionary.values()) if dictionary else None\n",
    "\n",
    "dictionary = {'a': 10, 'b':40, 'c': 30}\n",
    "max_value = max_dict_value(dictionary)\n",
    "print(max_value) \n"
   ]
  },
  {
   "cell_type": "markdown",
   "id": "ffc2af8c-1c88-42a6-9973-67176b30b8a9",
   "metadata": {},
   "source": [
    "9. Создайте функцию для поиска наибольшего значения в словаре."
   ]
  },
  {
   "cell_type": "code",
   "execution_count": 55,
   "id": "08f03bb7-63de-439c-a043-9b056992cae2",
   "metadata": {},
   "outputs": [
    {
     "name": "stdout",
     "output_type": "stream",
     "text": [
      "c\n"
     ]
    }
   ],
   "source": [
    "def find_key_of_max_value(dictionary):\n",
    "    if not dictionary:  # Проверка на пустоту словаря\n",
    "        return None\n",
    "    max_value = None\n",
    "    max_key = None\n",
    "    for key, value in dictionary.items():\n",
    "        if max_value is None or value > max_value:\n",
    "            max_value = value\n",
    "            max_key = key\n",
    "    return max_key\n",
    "    \n",
    "dictionary = {'a': 10, 'b': 20, 'c': 30}\n",
    "key_of_max_value = find_key_of_max_value(dictionary)\n",
    "print(key_of_max_value)\n"
   ]
  },
  {
   "cell_type": "markdown",
   "id": "0b854077-79e9-4213-8bf9-91796b237695",
   "metadata": {},
   "source": [
    "## Условия и циклы"
   ]
  },
  {
   "cell_type": "markdown",
   "id": "119cf9f7-e390-4f4a-9d9d-2d345a7e4030",
   "metadata": {},
   "source": [
    "1. Создайте функцию **check_fruit_price** для проверки стоимости фрукта и вывода соответствующего сообщения.\n",
    "   - Функция должна принимать словарь цен на фрукты и название фрукта, а затем выводить сообщение \"дорогой товар\", если цена фрукта больше 1.5."
   ]
  },
  {
   "cell_type": "code",
   "execution_count": 56,
   "id": "c1c09497-f536-4dbd-8331-5298da095ab3",
   "metadata": {},
   "outputs": [
    {
     "name": "stdout",
     "output_type": "stream",
     "text": [
      "дорогой товар\n",
      "цена приемлемая\n"
     ]
    }
   ],
   "source": [
    "def check_fruit_price(prices, fruit):\n",
    "    if fruit in prices and prices[fruit] > 1.5:\n",
    "        print(\"дорогой товар\")\n",
    "    elif fruit in prices:\n",
    "        print(\"цена приемлемая\")\n",
    "    else:\n",
    "        print(\"фрукт не найден\")\n",
    "\n",
    "fruit_prices = {'яблоко': 1.2, 'банан': 2.0, 'киви': 1.8}\n",
    "check_fruit_price(fruit_prices, 'банан')\n",
    "check_fruit_price(fruit_prices, 'яблоко')"
   ]
  },
  {
   "cell_type": "markdown",
   "id": "25a662b1-4bb9-4fbe-9dba-7f1794af8208",
   "metadata": {},
   "source": [
    "2. Создайте функцию check_age для проверки возраста студента и вывода соответствующего сообщения.\n",
    "   - Функция должна принимать словарь студентов и имя студента, а затем выводить сообщение о совершеннолетии или несовершеннолетии."
   ]
  },
  {
   "cell_type": "code",
   "execution_count": 57,
   "id": "0b33880a-73da-4af8-954f-67dc1f84e655",
   "metadata": {},
   "outputs": [
    {
     "name": "stdout",
     "output_type": "stream",
     "text": [
      "{'Жаваскриптов': 19}\n",
      "совершеннолетний\n"
     ]
    }
   ],
   "source": [
    "def check_age(students, name):\n",
    "    if name in students:\n",
    "        if students[name] >= 18:\n",
    "            return \"совершеннолетний\"\n",
    "        else:\n",
    "            return \"несовершеннолетний\"\n",
    "    else:\n",
    "        return \"Студент не найден\"\n",
    "\n",
    "print(students)\n",
    "print(check_age(students, 'Жаваскриптов'))"
   ]
  },
  {
   "cell_type": "markdown",
   "id": "eaa6f99e-8786-4b77-8a3d-e9d1e2aaca24",
   "metadata": {},
   "source": [
    "3. Создайте функцию **compare_sets_length**, которая сравнивает длину двух множеств и выводит информацию о  том, какое из множеств длиннее.\n",
    "   - Функция должна принимать два множества и выводить соответствующее сообщение."
   ]
  },
  {
   "cell_type": "code",
   "execution_count": 58,
   "id": "411e1b8a-82e0-4b02-9067-cf64a2682479",
   "metadata": {},
   "outputs": [
    {
     "name": "stdout",
     "output_type": "stream",
     "text": [
      "Второе множество длиннее\n",
      "Множества равны по длине\n"
     ]
    }
   ],
   "source": [
    "def compare_sets_length(set1, set2):\n",
    "    if len(set1) > len(set2):\n",
    "        print(\"Первое множество длиннее\")\n",
    "    elif len(set1) < len(set2):\n",
    "        print(\"Второе множество длиннее\")\n",
    "    else:\n",
    "        print(\"Множества равны по длине\")\n",
    "\n",
    "compare_sets_length({1, 2, 3}, {4, 5, 6, 7})\n",
    "compare_sets_length({1, 2}, {3, 4}) "
   ]
  },
  {
   "cell_type": "markdown",
   "id": "672eadf2-c873-4a63-81e9-350d6f551658",
   "metadata": {},
   "source": [
    "4. Создайте функцию для определения четности или нечетности числа."
   ]
  },
  {
   "cell_type": "code",
   "execution_count": 59,
   "id": "d256fe8f-4321-4695-ba84-a502e78c5fba",
   "metadata": {},
   "outputs": [
    {
     "name": "stdout",
     "output_type": "stream",
     "text": [
      "четное\n",
      "нечетное\n"
     ]
    }
   ],
   "source": [
    "def is_even(number):\n",
    "    return \"четное\" if number % 2 == 0 else \"нечетное\"\n",
    "\n",
    "print(is_even(4))\n",
    "print(is_even(5))\n"
   ]
  },
  {
   "cell_type": "markdown",
   "id": "425e16c4-bc07-4cd4-ab4d-0260a766c86b",
   "metadata": {},
   "source": [
    "5. Создайте функцию для определения високосного года. Функция должна принимать на вход год в виде числа и возвращать строку \"високосный\" или \"обычный\""
   ]
  },
  {
   "cell_type": "code",
   "execution_count": 60,
   "id": "6ad0b0ac-4862-499d-8545-d0076197889a",
   "metadata": {},
   "outputs": [
    {
     "name": "stdout",
     "output_type": "stream",
     "text": [
      "високосный\n",
      "обычный\n"
     ]
    }
   ],
   "source": [
    "def is_leap_year(year):\n",
    "    if (year % 4 == 0 and year % 100 != 0) or (year % 400 == 0):\n",
    "        return \"високосный\"\n",
    "    else:\n",
    "        return \"обычный\"\n",
    "\n",
    "print(is_leap_year(2020)) \n",
    "print(is_leap_year(2021)) "
   ]
  },
  {
   "cell_type": "markdown",
   "id": "7bb8b1c9-fc2d-4195-bfa6-1c6eee2e4400",
   "metadata": {},
   "source": [
    "6. Создайте функцию для определения типа треугольника по длинам сторон (принимает длины сторон, возвращает \"остроугольный, прямоугольный, тупоугольный или не треугольник\")."
   ]
  },
  {
   "cell_type": "code",
   "execution_count": 61,
   "id": "379ac74a-f8cf-4e8b-a7e0-7edec94eb982",
   "metadata": {},
   "outputs": [
    {
     "name": "stdout",
     "output_type": "stream",
     "text": [
      "прямоугольный\n",
      "остроугольный\n"
     ]
    }
   ],
   "source": [
    "def triangle_type(a, b, c):\n",
    "    sides = sorted([a, b, c])\n",
    "    if sides[0] + sides[1] <= sides[2]:\n",
    "        return \"не треугольник\"\n",
    "    elif sides[2]**2 == sides[0]**2 + sides[1]**2:\n",
    "        return \"прямоугольный\"\n",
    "    elif sides[2]**2 < sides[0]**2 + sides[1]**2:\n",
    "        return \"остроугольный\"\n",
    "    else:\n",
    "        return \"тупоугольный\"\n",
    "\n",
    "print(triangle_type(3, 4, 5))\n",
    "print(triangle_type(10, 10, 10))"
   ]
  },
  {
   "cell_type": "markdown",
   "id": "6ab1b749-bac8-45e0-872e-a290fa76ac1b",
   "metadata": {},
   "source": [
    "7. Создайте функцию для проверки, является ли строка палиндромом."
   ]
  },
  {
   "cell_type": "code",
   "execution_count": 62,
   "id": "ab27f9b7-e0fb-447e-a8b3-caaf180f96ea",
   "metadata": {},
   "outputs": [
    {
     "name": "stdout",
     "output_type": "stream",
     "text": [
      "True\n",
      "False\n"
     ]
    }
   ],
   "source": [
    "def is_palindrome(s):\n",
    "    return s == s[::-1]\n",
    "\n",
    "print(is_palindrome(\"abcdcba\"))\n",
    "print(is_palindrome(\"abcde\"))\n"
   ]
  },
  {
   "cell_type": "markdown",
   "id": "046f869c-8e44-4f65-bc01-6d7efa7abf9b",
   "metadata": {},
   "source": [
    "8. Создайте функцию для определения времени суток по введенному времени ( принимает текущее время в формате часы, минуты, возвращает утро, день, вечер, ночь)."
   ]
  },
  {
   "cell_type": "code",
   "execution_count": 63,
   "id": "08399224-c343-40fb-bebd-da4241f80678",
   "metadata": {},
   "outputs": [
    {
     "name": "stdout",
     "output_type": "stream",
     "text": [
      "утро\n",
      "вечер\n"
     ]
    }
   ],
   "source": [
    "def time_of_day(hours, minutes):\n",
    "    if 6 <= hours < 12:\n",
    "        return \"утро\"\n",
    "    elif 12 <= hours < 18:\n",
    "        return \"день\"\n",
    "    elif 18 <= hours < 24:\n",
    "        return \"вечер\"\n",
    "    else:\n",
    "        return \"ночь\"\n",
    "\n",
    "print(time_of_day(11, 30))\n",
    "print(time_of_day(23, 45))\n"
   ]
  },
  {
   "cell_type": "markdown",
   "id": "3fc2ca39-2831-49b0-8f07-0ff468f31719",
   "metadata": {},
   "source": [
    "9. Создайте функцию, которая определяет, является ли введенное число простым."
   ]
  },
  {
   "cell_type": "code",
   "execution_count": 64,
   "id": "83c20a20-9201-4d47-b9f6-8b6055e3cd41",
   "metadata": {},
   "outputs": [
    {
     "name": "stdout",
     "output_type": "stream",
     "text": [
      "True\n",
      "False\n"
     ]
    }
   ],
   "source": [
    "def is_prime(n):\n",
    "    if n <= 1:\n",
    "        return False\n",
    "    for i in range(2, int(n**0.5) + 1):\n",
    "        if n % i == 0:\n",
    "            return False\n",
    "    return True\n",
    "\n",
    "print(is_prime(5))\n",
    "print(is_prime(4))\n"
   ]
  },
  {
   "cell_type": "markdown",
   "id": "a38ec9f4-ee92-40fa-8774-85d05d45d093",
   "metadata": {},
   "source": [
    "10. Создайте функцию для проверки входящей строки на наличие только буквенных символов."
   ]
  },
  {
   "cell_type": "code",
   "execution_count": 65,
   "id": "e0e1a614-f1c7-43f3-aaa8-19616b84415a",
   "metadata": {},
   "outputs": [
    {
     "name": "stdout",
     "output_type": "stream",
     "text": [
      "True\n",
      "False\n"
     ]
    }
   ],
   "source": [
    "def is_alpha(s):\n",
    "    return s.isalpha()\n",
    "\n",
    "print(is_alpha(\"Hello\")) \n",
    "print(is_alpha(\"123Hello\"))\n"
   ]
  },
  {
   "cell_type": "markdown",
   "id": "c0d15d83-cd03-492a-92f7-56cbc4c1c4c0",
   "metadata": {},
   "source": [
    "11. Создайте функцию, которая определяет, является ли введенная дата корректной (дата вводится в виде трех чисел, день, месяц, год. Корректной датой считается существующая комбинация этих трех чисел)."
   ]
  },
  {
   "cell_type": "code",
   "execution_count": 66,
   "id": "52f40113-d902-4e56-8455-96cc9c545351",
   "metadata": {},
   "outputs": [
    {
     "name": "stdout",
     "output_type": "stream",
     "text": [
      "True\n",
      "False\n",
      "True\n",
      "False\n"
     ]
    }
   ],
   "source": [
    "def is_valid_date(day, month, year):\n",
    "    month_days = [31, 29 if is_leap_year(year) == \"високосный\" else 28, 31, 30, 31, 30, 31, 31, 30, 31, 30, 31]\n",
    "\n",
    "    if 1 <= month <= 12:\n",
    "        return 1 <= day <= month_days[month - 1]\n",
    "    return False\n",
    "\n",
    "print(is_valid_date(29, 2, 2020))\n",
    "print(is_valid_date(29, 2, 2021))\n",
    "print(is_valid_date(31, 12, 2020))\n",
    "print(is_valid_date(31, 4, 2020))\n"
   ]
  },
  {
   "cell_type": "markdown",
   "id": "04b5c0ad-f0f3-4e07-b5cf-f728a5940234",
   "metadata": {},
   "source": [
    "12. Создайте функцию, которая определяет, является ли введенное число палиндромом."
   ]
  },
  {
   "cell_type": "code",
   "execution_count": 67,
   "id": "38d2c51c-eb90-4223-b3f5-d9ad4244ac06",
   "metadata": {},
   "outputs": [
    {
     "name": "stdout",
     "output_type": "stream",
     "text": [
      "True\n",
      "False\n"
     ]
    }
   ],
   "source": [
    "def is_number_palindrome(n):\n",
    "    return str(n) == str(n)[::-1]\n",
    "\n",
    "print(is_number_palindrome(12321))\n",
    "print(is_number_palindrome(1234))\n"
   ]
  },
  {
   "cell_type": "markdown",
   "id": "060504e0-9ca3-4823-a96f-b88ae9d4ea5b",
   "metadata": {},
   "source": [
    "13. Создайте функцию для определения дня недели по введенному номеру дня (1 - Понедельник, 2 - Вторник и т.д.)."
   ]
  },
  {
   "cell_type": "code",
   "execution_count": 68,
   "id": "5b3b7a17-bdb4-49cd-a1a9-a8b85fc022c1",
   "metadata": {},
   "outputs": [
    {
     "name": "stdout",
     "output_type": "stream",
     "text": [
      "Понедельник\n",
      "Воскресенье\n"
     ]
    }
   ],
   "source": [
    "def day_of_week(number):\n",
    "    days = {\n",
    "        1: \"Понедельник\",\n",
    "        2: \"Вторник\",\n",
    "        3: \"Среда\",\n",
    "        4: \"Четверг\",\n",
    "        5: \"Пятница\",\n",
    "        6: \"Суббота\",\n",
    "        7: \"Воскресенье\"\n",
    "    }\n",
    "    return days.get(number, \"Неверный номер дня\")\n",
    "\n",
    "print(day_of_week(1))\n",
    "print(day_of_week(7))"
   ]
  },
  {
   "cell_type": "markdown",
   "id": "be16171b-5031-4c46-9a1e-4be1cad838eb",
   "metadata": {},
   "source": [
    "14. Создайте функцию **print_fruits_info** для вывода информации о количестве и стоимости фруктов из словарей.\n",
    "   - Функция должна принимать словари с информацией \"фрукт:количество\" и \"фрукт:цена\" и выводить для каждого фрукта его стоимость и количество."
   ]
  },
  {
   "cell_type": "code",
   "execution_count": 69,
   "id": "1e51771b-6aa9-4338-bf01-7aa7a55dd2ce",
   "metadata": {},
   "outputs": [
    {
     "name": "stdout",
     "output_type": "stream",
     "text": [
      "яблоко: количество - 10, стоимость - 5.0\n",
      "банан: количество - 5, стоимость - 4.0\n"
     ]
    }
   ],
   "source": [
    "def print_fruits_info(fruits_quantity, fruits_price):\n",
    "    for fruit, quantity in fruits_quantity.items():\n",
    "        price = fruits_price.get(fruit)\n",
    "        if price:\n",
    "            print(f\"{fruit}: количество - {quantity}, стоимость - {price * quantity}\")\n",
    "        else:\n",
    "            print(f\"{fruit}: нет информации о цене\")\n",
    "\n",
    "fruits_quantity = {'яблоко': 10, 'банан': 5}\n",
    "fruits_price = {'яблоко': 0.5, 'банан': 0.8}\n",
    "print_fruits_info(fruits_quantity, fruits_price)"
   ]
  },
  {
   "cell_type": "markdown",
   "id": "37f7285a-6f68-4d64-94f0-612334340d78",
   "metadata": {},
   "source": [
    "15. Создайте функцию **print_squares_while**, которая использует цикл while для вывода квадратов чисел от 1 до 5."
   ]
  },
  {
   "cell_type": "code",
   "execution_count": 70,
   "id": "2d9277ac-d855-4a12-961c-fd640b90f09b",
   "metadata": {},
   "outputs": [
    {
     "name": "stdout",
     "output_type": "stream",
     "text": [
      "1\n",
      "4\n",
      "9\n",
      "16\n",
      "25\n"
     ]
    }
   ],
   "source": [
    "def print_squares_while():\n",
    "    i = 1\n",
    "    while i <= 5:\n",
    "        print(i**2)\n",
    "        i += 1\n",
    "\n",
    "print_squares_while()"
   ]
  },
  {
   "cell_type": "markdown",
   "id": "b7fe6aa8-6703-4476-b358-0159bf94d2b0",
   "metadata": {},
   "source": [
    "16. Создайте функцию для вывода факториала заданного числа."
   ]
  },
  {
   "cell_type": "code",
   "execution_count": 71,
   "id": "ceb0cb29-a790-44d0-9a4f-c3ea8f436322",
   "metadata": {},
   "outputs": [
    {
     "name": "stdout",
     "output_type": "stream",
     "text": [
      "120\n",
      "6\n"
     ]
    }
   ],
   "source": [
    "def factorial(n):\n",
    "    result = 1\n",
    "    for i in range(1, n + 1):\n",
    "        result *= i\n",
    "    return result\n",
    "\n",
    "print(factorial(5))\n",
    "print(factorial(3))\n"
   ]
  },
  {
   "cell_type": "markdown",
   "id": "fc0a7ad4-3835-47e3-944e-150fbe136c05",
   "metadata": {},
   "source": [
    "17. Создайте функцию для поиска суммы чисел в заданном диапазоне (принимает на вход два числа, возвращает сумму чисел находящихся между ними, включительно.)"
   ]
  },
  {
   "cell_type": "code",
   "execution_count": 72,
   "id": "ecbf6b2f-9eeb-48de-a533-6f73c8c908a2",
   "metadata": {},
   "outputs": [
    {
     "name": "stdout",
     "output_type": "stream",
     "text": [
      "15\n",
      "75\n"
     ]
    }
   ],
   "source": [
    "def sum_in_range(start, end):\n",
    "    return sum(range(start, end + 1))\n",
    "\n",
    "print(sum_in_range(1, 5))\n",
    "print(sum_in_range(10, 15))\n"
   ]
  },
  {
   "cell_type": "markdown",
   "id": "801e74f3-b32c-4022-9ac5-b948ad32c486",
   "metadata": {},
   "source": [
    "18. Создайте функцию для генерации и вывода всех простых чисел до заданного числа."
   ]
  },
  {
   "cell_type": "code",
   "execution_count": 73,
   "id": "dd34370b-02e3-4116-bc8e-d47caafd36ef",
   "metadata": {},
   "outputs": [
    {
     "name": "stdout",
     "output_type": "stream",
     "text": [
      "[2, 3, 5, 7, 11, 13, 17, 19, 23, 29]\n"
     ]
    }
   ],
   "source": [
    "def generate_primes(n):\n",
    "    primes = []\n",
    "    for possiblePrime in range(2, n + 1):\n",
    "        isPrime = True\n",
    "        for num in range(2, int(possiblePrime ** 0.5) + 1):\n",
    "            if possiblePrime % num == 0:\n",
    "                isPrime = False\n",
    "                break\n",
    "        if isPrime:\n",
    "            primes.append(possiblePrime)\n",
    "    return primes\n",
    "\n",
    "print(generate_primes(30))"
   ]
  },
  {
   "cell_type": "markdown",
   "id": "31804032-0d13-44a9-b3ce-b34c4165324c",
   "metadata": {},
   "source": [
    "19. Создайте функцию для проверки строки на палиндромность без учёта регистра и знаков препинания."
   ]
  },
  {
   "cell_type": "code",
   "execution_count": 74,
   "id": "1267b89e-9d9c-449a-914e-f7317db8a970",
   "metadata": {},
   "outputs": [
    {
     "name": "stdout",
     "output_type": "stream",
     "text": [
      "True\n",
      "False\n"
     ]
    }
   ],
   "source": [
    "def is_palindrome_insensitive(s):\n",
    "    s = ''.join(e for e in s if e.isalnum()).lower()\n",
    "    return s == s[::-1]\n",
    "\n",
    "print(is_palindrome_insensitive(\"Madam, I'm Adam\"))\n",
    "print(is_palindrome_insensitive(\"Hello\"))\n"
   ]
  },
  {
   "cell_type": "markdown",
   "id": "ebae7aa3-94f2-49f1-91a8-d43eee321208",
   "metadata": {},
   "source": [
    "20. Создайте функцию для поиска наибольшего общего делителя (НОД) двух чисел."
   ]
  },
  {
   "cell_type": "code",
   "execution_count": 75,
   "id": "18bce3a6-e4b0-426b-8855-10b78f7a88b9",
   "metadata": {},
   "outputs": [
    {
     "name": "stdout",
     "output_type": "stream",
     "text": [
      "6\n",
      "1\n"
     ]
    }
   ],
   "source": [
    "def gcd(a, b):\n",
    "    while b:\n",
    "        a, b = b, a % b\n",
    "    return a\n",
    "\n",
    "print(gcd(54, 24))  # 6\n",
    "print(gcd(17, 5))  # 1\n"
   ]
  },
  {
   "cell_type": "markdown",
   "id": "3b0b5eaf-c67a-424c-911d-c44922b0aee2",
   "metadata": {},
   "source": [
    "21. Создайте функцию print_students для вывода информации о студентах из словаря.\n",
    "   - Функция должна принимать словарь студентов и выводить их имена и возраст."
   ]
  },
  {
   "cell_type": "code",
   "execution_count": 76,
   "id": "eec802e5-d594-4f5d-8b24-9b11cd73b07f",
   "metadata": {},
   "outputs": [
    {
     "name": "stdout",
     "output_type": "stream",
     "text": [
      "Иванова: 22 лет\n",
      "Петрова: 19 лет\n"
     ]
    }
   ],
   "source": [
    "def print_students(students):\n",
    "    for name, age in students.items():\n",
    "        print(f\"{name}: {age} лет\")\n",
    "\n",
    "students = {'Иванова': 22, 'Петрова': 19}\n",
    "print_students(students)"
   ]
  },
  {
   "cell_type": "markdown",
   "id": "6c0cda34-d327-497b-8462-dc38a5b21bd8",
   "metadata": {},
   "source": [
    "22. Создайте функцию get_value_from_user, принимающую на вход одно число (\"порог\"), и запрашивающую у пользователя ввод числа до тех пор, пока он не введет число выше \"порога\"."
   ]
  },
  {
   "cell_type": "code",
   "execution_count": 77,
   "id": "41a7c3cb-8717-44d2-8c32-78f14ad7b08d",
   "metadata": {},
   "outputs": [
    {
     "name": "stdin",
     "output_type": "stream",
     "text": [
      "Введите число:  66\n"
     ]
    },
    {
     "name": "stdout",
     "output_type": "stream",
     "text": [
      "Число больше порога\n"
     ]
    }
   ],
   "source": [
    "def get_value_from_user(threshold):\n",
    "    while True:\n",
    "        user_input = int(input(\"Введите число: \"))\n",
    "        if user_input > threshold:\n",
    "            print(\"Число больше порога\")\n",
    "            break\n",
    "        else:\n",
    "            print(\"Попробуйте снова\")\n",
    "\n",
    "get_value_from_user(18)"
   ]
  },
  {
   "cell_type": "markdown",
   "id": "4c2596f8-e06f-49fa-972e-19d61f17e95c",
   "metadata": {},
   "source": [
    "## Общие "
   ]
  },
  {
   "cell_type": "markdown",
   "id": "29905a77-19ef-470a-9785-edcc052b5a03",
   "metadata": {},
   "source": [
    "1. Создайте функцию, которая будет запрашивать у пользователя его возраст.\n",
    "   - Если возраст меньше 18 лет, программа должна выводить сообщение о том, что пользователь несовершеннолетний.\n",
    "   - Если возраст от 18 до 65 лет, программа должна выводить сообщение о том, что пользователь взрослый.\n",
    "   - Если возраст больше 65 лет, программа должна выводить сообщение о том, что пользователь пенсионер."
   ]
  },
  {
   "cell_type": "code",
   "execution_count": 78,
   "id": "97357f0a-6a24-495b-8db6-c7a6b99b6c12",
   "metadata": {},
   "outputs": [
    {
     "name": "stdin",
     "output_type": "stream",
     "text": [
      "Введите ваш возраст:  45\n"
     ]
    },
    {
     "name": "stdout",
     "output_type": "stream",
     "text": [
      "Пользователь взрослый.\n"
     ]
    }
   ],
   "source": [
    "def check_age():\n",
    "    age = int(input(\"Введите ваш возраст: \"))\n",
    "    if age < 18:\n",
    "        print(\"Пользователь несовершеннолетний.\")\n",
    "    elif 18 <= age <= 65:\n",
    "        print(\"Пользователь взрослый.\")\n",
    "    else:\n",
    "        print(\"Пользователь пенсионер.\")\n",
    "\n",
    "check_age()\n"
   ]
  },
  {
   "cell_type": "markdown",
   "id": "e49629de-0a92-4c65-af5e-2fbdb18128f7",
   "metadata": {},
   "source": [
    "2. Создайте функцию, которая будет проверять введенную пользователем строку на наличие повторяющихся символов.\n",
    "   - Если такие символы найдены, программа должна выводить их перечень и количество повторов для каждого."
   ]
  },
  {
   "cell_type": "code",
   "execution_count": 79,
   "id": "78f7a3d5-8a2f-445b-94fb-d4e416d4d0f5",
   "metadata": {},
   "outputs": [
    {
     "name": "stdin",
     "output_type": "stream",
     "text": [
      "Введите строку:  2312412215515113325233526422336231\n"
     ]
    },
    {
     "name": "stdout",
     "output_type": "stream",
     "text": [
      "Повторяющиеся символы и количество их повторов:\n",
      "Символ '2' повторяется 10 раз.\n",
      "Символ '3' повторяется 8 раз.\n",
      "Символ '1' повторяется 7 раз.\n",
      "Символ '4' повторяется 2 раза.\n",
      "Символ '5' повторяется 5 раз.\n",
      "Символ '6' повторяется 2 раза.\n"
     ]
    }
   ],
   "source": [
    "def find_repeated_characters():\n",
    "    user_input = input(\"Введите строку: \")\n",
    "    \n",
    "    character_counts = {}\n",
    "    for character in user_input:\n",
    "        if character in character_counts:\n",
    "            character_counts[character] += 1\n",
    "        else:\n",
    "            character_counts[character] = 1\n",
    "    \n",
    "    repeated_characters = {char: count for char, count in character_counts.items() if count > 1}\n",
    "    if repeated_characters:\n",
    "        print(\"Повторяющиеся символы и количество их повторов:\")\n",
    "        for char, count in repeated_characters.items():\n",
    "            form = 'раза' if 2 <= count % 10 <= 4 and not 11 <= count % 100 <= 19 else 'раз'\n",
    "            print(f\"Символ '{char}' повторяется {count} {form}.\")\n",
    "    else:\n",
    "        print(\"Повторяющихся символов не найдено.\")\n",
    "\n",
    "find_repeated_characters()\n"
   ]
  }
 ],
 "metadata": {
  "kernelspec": {
   "display_name": "Python 3 (ipykernel)",
   "language": "python",
   "name": "python3"
  },
  "language_info": {
   "codemirror_mode": {
    "name": "ipython",
    "version": 3
   },
   "file_extension": ".py",
   "mimetype": "text/x-python",
   "name": "python",
   "nbconvert_exporter": "python",
   "pygments_lexer": "ipython3",
   "version": "3.10.10"
  }
 },
 "nbformat": 4,
 "nbformat_minor": 5
}
