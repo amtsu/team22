{
 "cells": [
  {
   "cell_type": "code",
   "execution_count": 140,
   "id": "abd97514-238e-41f5-8443-b0ca709386a7",
   "metadata": {},
   "outputs": [
    {
     "data": {
      "text/plain": [
       "80"
      ]
     },
     "execution_count": 140,
     "metadata": {},
     "output_type": "execute_result"
    }
   ],
   "source": [
    "10 * (5 + 3)"
   ]
  },
  {
   "cell_type": "code",
   "execution_count": 141,
   "id": "8533519f-344b-43be-a799-c33441b5d558",
   "metadata": {},
   "outputs": [
    {
     "data": {
      "text/plain": [
       "7.0"
      ]
     },
     "execution_count": 141,
     "metadata": {},
     "output_type": "execute_result"
    }
   ],
   "source": [
    "(20 - 6) / 2"
   ]
  },
  {
   "cell_type": "code",
   "execution_count": 142,
   "id": "5d4425a3-cc58-4470-a997-9276503131eb",
   "metadata": {},
   "outputs": [
    {
     "data": {
      "text/plain": [
       "32"
      ]
     },
     "execution_count": 142,
     "metadata": {},
     "output_type": "execute_result"
    }
   ],
   "source": [
    "2 ** 5"
   ]
  },
  {
   "cell_type": "code",
   "execution_count": 143,
   "id": "623e582c-be6e-4793-b0e8-b07f2bf3b3d2",
   "metadata": {},
   "outputs": [
    {
     "data": {
      "text/plain": [
       "6"
      ]
     },
     "execution_count": 143,
     "metadata": {},
     "output_type": "execute_result"
    }
   ],
   "source": [
    "25 // 4"
   ]
  },
  {
   "cell_type": "code",
   "execution_count": 144,
   "id": "fdc906d1-23fc-4378-9296-8afe94e2bc38",
   "metadata": {},
   "outputs": [
    {
     "data": {
      "text/plain": [
       "1"
      ]
     },
     "execution_count": 144,
     "metadata": {},
     "output_type": "execute_result"
    }
   ],
   "source": [
    "25 % 4"
   ]
  },
  {
   "cell_type": "code",
   "execution_count": 145,
   "id": "af5a60a2-2017-4e6a-b275-b92319581a72",
   "metadata": {},
   "outputs": [],
   "source": [
    "#Решение первой задачки снизу"
   ]
  },
  {
   "cell_type": "code",
   "execution_count": 146,
   "id": "ac4b728e-6262-4372-a5e7-44e9971db52d",
   "metadata": {},
   "outputs": [],
   "source": [
    "number = -3.14"
   ]
  },
  {
   "cell_type": "code",
   "execution_count": 147,
   "id": "e6dd00b4-9a6b-419b-8063-885b226c650c",
   "metadata": {},
   "outputs": [],
   "source": [
    "roundNumber = round (number)"
   ]
  },
  {
   "cell_type": "code",
   "execution_count": 148,
   "id": "bfc8e3fb-9db9-43e8-9f8e-f83b62a61ca2",
   "metadata": {},
   "outputs": [],
   "source": [
    "afterDotNumber = number % roundNumber"
   ]
  },
  {
   "cell_type": "code",
   "execution_count": 149,
   "id": "8750f31d-5ec0-4e27-acc1-463f815029a5",
   "metadata": {},
   "outputs": [],
   "source": [
    "rAfterDotNumber = round (afterDotNumber, 2)"
   ]
  },
  {
   "cell_type": "code",
   "execution_count": 150,
   "id": "31423c6e-a9d3-4a37-98bb-62e40d59f42f",
   "metadata": {},
   "outputs": [
    {
     "name": "stdout",
     "output_type": "stream",
     "text": [
      "Округленное число -3\n",
      "Остаток числа -0.14\n"
     ]
    }
   ],
   "source": [
    "print ('Округленное число', roundNumber)\n",
    "print ('Остаток числа', rAfterDotNumber)"
   ]
  },
  {
   "cell_type": "code",
   "execution_count": 151,
   "id": "485e6eec-ad52-4c7b-bc3c-6ba5ae78a7e6",
   "metadata": {},
   "outputs": [],
   "source": [
    "#Ниже решение задачки с прямоугольником"
   ]
  },
  {
   "cell_type": "code",
   "execution_count": 152,
   "id": "bf402fee-89f3-4e81-8c6c-e2b00adc966e",
   "metadata": {},
   "outputs": [],
   "source": [
    "a = 5"
   ]
  },
  {
   "cell_type": "code",
   "execution_count": 153,
   "id": "aa1d4db2-9780-4d66-bf6e-27c8c0561c56",
   "metadata": {},
   "outputs": [],
   "source": [
    "b = 7"
   ]
  },
  {
   "cell_type": "code",
   "execution_count": 154,
   "id": "b70ec64d-cc34-47ef-82a1-d27aaacf76db",
   "metadata": {},
   "outputs": [],
   "source": [
    "area = a * b"
   ]
  },
  {
   "cell_type": "code",
   "execution_count": 155,
   "id": "afc4a589-d07b-4453-b8ee-80ea7cc9d449",
   "metadata": {},
   "outputs": [
    {
     "name": "stdout",
     "output_type": "stream",
     "text": [
      "Плошадь прямоугольника = 35\n"
     ]
    }
   ],
   "source": [
    "print ('Плошадь прямоугольника =', area)"
   ]
  },
  {
   "cell_type": "code",
   "execution_count": 156,
   "id": "6491e10b-bcff-4aeb-ab4f-4ac70d0a5ec8",
   "metadata": {},
   "outputs": [],
   "source": [
    "#Ниже задача по объему воздуха для кондиционера"
   ]
  },
  {
   "cell_type": "code",
   "execution_count": 157,
   "id": "cb3adc41-e8e3-4eef-b55a-a304d75daf5f",
   "metadata": {},
   "outputs": [],
   "source": [
    "livingRoomLenght = 6.4"
   ]
  },
  {
   "cell_type": "code",
   "execution_count": 158,
   "id": "240fae17-4127-4623-a294-3c279c535f89",
   "metadata": {},
   "outputs": [],
   "source": [
    "livingRoomWidth = 3.5"
   ]
  },
  {
   "cell_type": "code",
   "execution_count": 159,
   "id": "5e7555e7-2cdb-42e1-93cb-6dbc84fa835b",
   "metadata": {},
   "outputs": [],
   "source": [
    "bedRoomLenght = 4"
   ]
  },
  {
   "cell_type": "code",
   "execution_count": 160,
   "id": "e283767a-64f8-416e-abf5-655341ea8d92",
   "metadata": {},
   "outputs": [],
   "source": [
    "bedRoomWidth = 3.4"
   ]
  },
  {
   "cell_type": "code",
   "execution_count": 161,
   "id": "00c27def-4536-4138-8bce-e465d762ac76",
   "metadata": {},
   "outputs": [],
   "source": [
    "hight = 3.1"
   ]
  },
  {
   "cell_type": "code",
   "execution_count": 162,
   "id": "d6289e59-469e-49d1-821b-e79bad29b7c0",
   "metadata": {},
   "outputs": [],
   "source": [
    "nonLivingArea = 11 "
   ]
  },
  {
   "cell_type": "code",
   "execution_count": 163,
   "id": "279df88b-cb4c-410c-9cb8-7401433af9bb",
   "metadata": {},
   "outputs": [],
   "source": [
    "nonLivingAreaVolume = nonLivingArea * hight"
   ]
  },
  {
   "cell_type": "code",
   "execution_count": 164,
   "id": "9c420997-0260-4486-97a7-a58e661458cd",
   "metadata": {},
   "outputs": [],
   "source": [
    "livingRoomVolume = (livingRoomLenght * livingRoomWidth) * hight"
   ]
  },
  {
   "cell_type": "code",
   "execution_count": 165,
   "id": "4434c950-2202-41b6-85e6-2aeec85ce723",
   "metadata": {},
   "outputs": [],
   "source": [
    "bedRoomVolume = (bedRoomLenght * bedRoomWidth) * hight"
   ]
  },
  {
   "cell_type": "code",
   "execution_count": 166,
   "id": "0613686a-a4cf-4894-8198-64f6c3cf392b",
   "metadata": {},
   "outputs": [],
   "source": [
    "livingVolume = bedRoomVolume + livingRoomVolume"
   ]
  },
  {
   "cell_type": "code",
   "execution_count": 167,
   "id": "eacd2440-82f0-45f4-a0ab-a033f14e7809",
   "metadata": {},
   "outputs": [],
   "source": [
    "allVolume = nonLivingAreaVolume + livingVolume"
   ]
  },
  {
   "cell_type": "code",
   "execution_count": 168,
   "id": "9f7d6ed6-3601-4b1a-8f4f-63dd018159d1",
   "metadata": {},
   "outputs": [
    {
     "name": "stdout",
     "output_type": "stream",
     "text": [
      "Если учитываем только жилые помещения, то кондиционер должен обрабатывать:  111.6  кубометров воздуха\n",
      "Если учитываем всю площадь вместе с не жилыми помещениями:  145.7  кубометров воздуха\n"
     ]
    }
   ],
   "source": [
    "print ('Если учитываем только жилые помещения, то кондиционер должен обрабатывать: ', round (livingVolume, 2),' кубометров воздуха')\n",
    "print ('Если учитываем всю площадь вместе с не жилыми помещениями: ', round (allVolume, 2), ' кубометров воздуха')"
   ]
  },
  {
   "cell_type": "code",
   "execution_count": 169,
   "id": "9df938d4-fb29-487c-b344-72ba8a1041b7",
   "metadata": {},
   "outputs": [],
   "source": [
    "#Ниже решение задачи с уравнением"
   ]
  },
  {
   "cell_type": "code",
   "execution_count": 170,
   "id": "7deddccd-1738-4aaa-89fb-539c01cd1b35",
   "metadata": {},
   "outputs": [],
   "source": [
    "#Дано уравнение: ax^2 + bx + c = 0\n",
    "#Формула дискриминанта: D = b^2 − 4ac"
   ]
  },
  {
   "cell_type": "code",
   "execution_count": 171,
   "id": "c55d8e40-c522-41af-9a1c-38e90c108f5f",
   "metadata": {},
   "outputs": [],
   "source": [
    "a = 2"
   ]
  },
  {
   "cell_type": "code",
   "execution_count": 172,
   "id": "d14c4232-98ee-4bab-aa13-36ef631c456e",
   "metadata": {},
   "outputs": [],
   "source": [
    "b = 1"
   ]
  },
  {
   "cell_type": "code",
   "execution_count": 173,
   "id": "dc96db29-a99c-4887-b2d4-f7400612038e",
   "metadata": {},
   "outputs": [],
   "source": [
    "c = -10"
   ]
  },
  {
   "cell_type": "code",
   "execution_count": 174,
   "id": "df4a2fce-f80c-4bb0-a67f-96408758a036",
   "metadata": {},
   "outputs": [],
   "source": [
    "#Вычисляем дискриминант:"
   ]
  },
  {
   "cell_type": "code",
   "execution_count": 175,
   "id": "19d0f2b8-7381-4042-9b19-3e42eea0ef49",
   "metadata": {},
   "outputs": [],
   "source": [
    "D = b**2 - 4 * a * c"
   ]
  },
  {
   "cell_type": "code",
   "execution_count": 176,
   "id": "dbb025ce-23c2-4d70-8e23-cc9c8320d649",
   "metadata": {},
   "outputs": [
    {
     "data": {
      "text/plain": [
       "81"
      ]
     },
     "execution_count": 176,
     "metadata": {},
     "output_type": "execute_result"
    }
   ],
   "source": [
    "D"
   ]
  },
  {
   "cell_type": "code",
   "execution_count": 177,
   "id": "26fa8f2a-0d9a-41b9-86c9-96c7dce477f5",
   "metadata": {},
   "outputs": [],
   "source": [
    "#Так как D > 0, то в этом уравнении имеется два различных вещественных корня. Ниже будет вычисление обоих корней."
   ]
  },
  {
   "cell_type": "code",
   "execution_count": 178,
   "id": "78332282-ed7d-4f50-967c-b5e7b79b8911",
   "metadata": {},
   "outputs": [],
   "source": [
    "x1 = (- b + (D**0.5)) / (2 * a)"
   ]
  },
  {
   "cell_type": "code",
   "execution_count": 179,
   "id": "703c6abc-6a3e-40e5-bc19-91a032417d28",
   "metadata": {},
   "outputs": [],
   "source": [
    "x2 = (- b - (D**0.5)) / (2 * a)"
   ]
  },
  {
   "cell_type": "code",
   "execution_count": 180,
   "id": "bf487927-3402-4b3a-97d3-8c448b08d32f",
   "metadata": {},
   "outputs": [
    {
     "name": "stdout",
     "output_type": "stream",
     "text": [
      "x1 =  2.0\n",
      "x2 =  -2.5\n"
     ]
    }
   ],
   "source": [
    "print ('x1 = ', x1)\n",
    "print ('x2 = ', x2)"
   ]
  },
  {
   "cell_type": "code",
   "execution_count": 181,
   "id": "f912ebd9-8015-4d44-a1ed-e0e9735a0fbd",
   "metadata": {},
   "outputs": [],
   "source": [
    "#Подставляем значения x в наше уравнение:"
   ]
  },
  {
   "cell_type": "code",
   "execution_count": 182,
   "id": "dd302107-d4bc-4aa6-af9c-cdd7e785e2c1",
   "metadata": {},
   "outputs": [
    {
     "data": {
      "text/plain": [
       "0.0"
      ]
     },
     "execution_count": 182,
     "metadata": {},
     "output_type": "execute_result"
    }
   ],
   "source": [
    "a * (x1)**2 + b * x1 + c"
   ]
  },
  {
   "cell_type": "code",
   "execution_count": 183,
   "id": "bd590e3a-2959-4cc7-8ca5-a1d46b2e2a9f",
   "metadata": {},
   "outputs": [
    {
     "data": {
      "text/plain": [
       "0.0"
      ]
     },
     "execution_count": 183,
     "metadata": {},
     "output_type": "execute_result"
    }
   ],
   "source": [
    "a * (x2)**2 + b * x2 + c"
   ]
  },
  {
   "cell_type": "code",
   "execution_count": 184,
   "id": "43e870b9-f454-4138-b5ca-966a78caaa1a",
   "metadata": {},
   "outputs": [],
   "source": [
    "#Оба уравнения дают нам 0, и это подтверждает, что они являются решениями исходного квадратного уравнения ax^2 + bx + c = 0."
   ]
  },
  {
   "cell_type": "code",
   "execution_count": 185,
   "id": "237b3c95-a035-42ca-8bcf-2136cbc9cdf9",
   "metadata": {},
   "outputs": [],
   "source": [
    "#Далее: объединить строки и начать с заглавной, определить количество символов"
   ]
  },
  {
   "cell_type": "code",
   "execution_count": 186,
   "id": "be04c3fa-6fad-4e6d-a1d7-b2118281d894",
   "metadata": {},
   "outputs": [],
   "source": [
    "string1 = \"hello, \"\n",
    "string2 = \"world!\""
   ]
  },
  {
   "cell_type": "code",
   "execution_count": 187,
   "id": "4b086e64-a226-4f7e-a7c1-11e873cde785",
   "metadata": {},
   "outputs": [],
   "source": [
    "strings = string1.capitalize() + string2"
   ]
  },
  {
   "cell_type": "code",
   "execution_count": 188,
   "id": "e27ef004-fd03-4729-8f44-80a41c2cf17e",
   "metadata": {},
   "outputs": [
    {
     "data": {
      "text/plain": [
       "'Hello, world!'"
      ]
     },
     "execution_count": 188,
     "metadata": {},
     "output_type": "execute_result"
    }
   ],
   "source": [
    "strings"
   ]
  },
  {
   "cell_type": "code",
   "execution_count": 189,
   "id": "c93dd056-96ed-489b-b8e2-e7fb5a25a943",
   "metadata": {},
   "outputs": [
    {
     "data": {
      "text/plain": [
       "13"
      ]
     },
     "execution_count": 189,
     "metadata": {},
     "output_type": "execute_result"
    }
   ],
   "source": [
    "len (strings)"
   ]
  },
  {
   "cell_type": "code",
   "execution_count": 190,
   "id": "4e0d0c24-fbd5-4a64-8773-dcde215d517b",
   "metadata": {},
   "outputs": [],
   "source": [
    "#25 раз строку la"
   ]
  },
  {
   "cell_type": "code",
   "execution_count": 191,
   "id": "ce25952e-9a37-47ac-bcdd-73722b16d404",
   "metadata": {},
   "outputs": [
    {
     "data": {
      "text/plain": [
       "'lalalalalalalalalalalalalalalalalalalalalalalalala'"
      ]
     },
     "execution_count": 191,
     "metadata": {},
     "output_type": "execute_result"
    }
   ],
   "source": [
    "'la' * 25"
   ]
  },
  {
   "cell_type": "code",
   "execution_count": 192,
   "id": "986714db-ea78-4bb0-8c9b-68de04960be6",
   "metadata": {},
   "outputs": [],
   "source": [
    "#Далее упражнение по работе со списком чисел"
   ]
  },
  {
   "cell_type": "code",
   "execution_count": 193,
   "id": "b446be4c-1c69-4656-b27d-06043568e20f",
   "metadata": {},
   "outputs": [],
   "source": [
    "numbers = [1, 2, 3, 4, 5]"
   ]
  },
  {
   "cell_type": "code",
   "execution_count": 194,
   "id": "ab80b0cc-8ac7-40f0-8500-90a67833a27f",
   "metadata": {},
   "outputs": [],
   "source": [
    "numbers[1] = 'hi'"
   ]
  },
  {
   "cell_type": "code",
   "execution_count": 195,
   "id": "eef6db2a-5331-461a-ba17-4df8a0df95e2",
   "metadata": {},
   "outputs": [
    {
     "data": {
      "text/plain": [
       "'hi'"
      ]
     },
     "execution_count": 195,
     "metadata": {},
     "output_type": "execute_result"
    }
   ],
   "source": [
    "numbers[1]"
   ]
  },
  {
   "cell_type": "code",
   "execution_count": 196,
   "id": "32bd63f3-2fbd-4dab-a6b8-68ed1cbf4559",
   "metadata": {},
   "outputs": [],
   "source": [
    "numbers[4] = [8, 6 ,4]"
   ]
  },
  {
   "cell_type": "code",
   "execution_count": 197,
   "id": "7836bc62-a791-4210-8cf5-660cf5f23ea5",
   "metadata": {},
   "outputs": [
    {
     "data": {
      "text/plain": [
       "[1, 'hi', 3, 4, [8, 6, 4]]"
      ]
     },
     "execution_count": 197,
     "metadata": {},
     "output_type": "execute_result"
    }
   ],
   "source": [
    "numbers"
   ]
  },
  {
   "cell_type": "code",
   "execution_count": 198,
   "id": "2d2193f7-5bcc-46b7-8cd4-cfe7e52131b8",
   "metadata": {},
   "outputs": [],
   "source": [
    "#Далее идет извлечение с 3 по 7 элемент подсписка из строки"
   ]
  },
  {
   "cell_type": "code",
   "execution_count": 199,
   "id": "56ce97b4-1205-4996-8630-2069a2b02e74",
   "metadata": {},
   "outputs": [],
   "source": [
    "numbers = [1, 2, 3, 4, 5, 6, 7, 8, 9, 10]"
   ]
  },
  {
   "cell_type": "code",
   "execution_count": 200,
   "id": "ab0eed87-1ded-4207-b07f-665c24c8a07a",
   "metadata": {},
   "outputs": [
    {
     "data": {
      "text/plain": [
       "[3, 4, 5, 6, 7]"
      ]
     },
     "execution_count": 200,
     "metadata": {},
     "output_type": "execute_result"
    }
   ],
   "source": [
    "numbers[2:7]"
   ]
  }
 ],
 "metadata": {
  "kernelspec": {
   "display_name": "Python 3 (ipykernel)",
   "language": "python",
   "name": "python3"
  },
  "language_info": {
   "codemirror_mode": {
    "name": "ipython",
    "version": 3
   },
   "file_extension": ".py",
   "mimetype": "text/x-python",
   "name": "python",
   "nbconvert_exporter": "python",
   "pygments_lexer": "ipython3",
   "version": "3.10.10"
  }
 },
 "nbformat": 4,
 "nbformat_minor": 5
}
