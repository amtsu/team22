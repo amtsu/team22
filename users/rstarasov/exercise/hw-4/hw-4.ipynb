{
 "cells": [
  {
   "cell_type": "markdown",
   "id": "bf8e9133-0c40-49d0-a290-e77a92e991b6",
   "metadata": {},
   "source": [
    "Задание 1.\n",
    "выполните следующий код\n",
    "<code>\n",
    "list_one = [1, 2, 3, 4, 5, 6, 9]\n",
    "list_two = [1, 2, 3, 4, 5, 6, 9]\n",
    "list_two.append(789)\n",
    "print(list_one, list_two, sep='\\n') \n",
    "</code>\n",
    "затем выполните код \n",
    "<code>\n",
    "list_one = [1, 2, 3, 4, 5, 6, 9]\n",
    "list_two = list_one\n",
    "list_two.append(789)\n",
    "print(list_one, list_two, sep='\\n')     \n",
    "</code>\n",
    "запишите объяснения разницы в выполнении кода в переменную difference_explanation и выведите ее на экран"
   ]
  },
  {
   "cell_type": "code",
   "execution_count": 165,
   "id": "7887a926-2dd6-4e42-af35-5738b8bebf8c",
   "metadata": {},
   "outputs": [
    {
     "name": "stdout",
     "output_type": "stream",
     "text": [
      "[1, 2, 3, 4, 5, 6, 9]\n",
      "[1, 2, 3, 4, 5, 6, 9, 789]\n"
     ]
    }
   ],
   "source": [
    "list_one = [1, 2, 3, 4, 5, 6, 9]\n",
    "list_two = [1, 2, 3, 4, 5, 6, 9]\n",
    "list_two.append(789)\n",
    "print(list_one, list_two, sep='\\n')"
   ]
  },
  {
   "cell_type": "code",
   "execution_count": 166,
   "id": "6d41f74a-acef-43d8-8743-08393cad53eb",
   "metadata": {},
   "outputs": [
    {
     "name": "stdout",
     "output_type": "stream",
     "text": [
      "[1, 2, 3, 4, 5, 6, 9, 789]\n",
      "[1, 2, 3, 4, 5, 6, 9, 789]\n"
     ]
    }
   ],
   "source": [
    "list_one = [1, 2, 3, 4, 5, 6, 9]\n",
    "list_two = list_one\n",
    "list_two.append(789)\n",
    "print(list_one, list_two, sep='\\n')"
   ]
  },
  {
   "cell_type": "code",
   "execution_count": 167,
   "id": "b5e1c373-b66e-4766-88e1-d283749fb750",
   "metadata": {},
   "outputs": [],
   "source": [
    "difference_explanation = 'В первом варианте мы добавляем 789 к переменной list_two. А во втором варианте мы создаем общее хранилище для обоих переменных: внеся изменения в любую переменную, мы изменим и вторую'"
   ]
  },
  {
   "cell_type": "code",
   "execution_count": 168,
   "id": "1286a6a2-e883-4475-ae58-dc819f338d8f",
   "metadata": {},
   "outputs": [
    {
     "name": "stdout",
     "output_type": "stream",
     "text": [
      "В первом варианте мы добавляем 789 к переменной list_two. А во втором варианте мы создаем общее хранилище для обоих переменных: внеся изменения в любую переменную, мы изменим и вторую\n"
     ]
    }
   ],
   "source": [
    "print(difference_explanation)"
   ]
  },
  {
   "cell_type": "markdown",
   "id": "cc1ba9e8-b6a7-4652-9943-f5f6b6e82edd",
   "metadata": {},
   "source": [
    "Задание 2.\n",
    "Задайте переменную a_poem типа строка, со следующим содержимым:\n",
    "<code>\n",
    "За стеклом лежал Питон,\n",
    "Большой и толстый, как батон.\n",
    "Вверх пополз,\n",
    "Затем вернулся,\n",
    "Круглым бубликом свернулся.\n",
    "</code>\n",
    "- Создайте переменную a_list типа список, заполнив ее содержимым строки a_poem так, чтобы каждый символ строки a_poem стал отдельным элементом списка a_list\n",
    "- Создайте переменную another_list типа список, заполнив ее содержимым строки a_poem так, чтобы каждое слово строки a_poem стал отдельным элементом списка another_list. Знаки препинания прилипнут к словам, не страшно.\n",
    "- Выведите на экран элементы и их количество для списков a_list и another_list.\n",
    "- Создайте переменную one_more_list типа список, каждым элементом которой является отдельная строка строфы из a_poem. Выведите на экран элементы one_more_list и их количество."
   ]
  },
  {
   "cell_type": "code",
   "execution_count": 169,
   "id": "be4a8d40-18d9-4138-aeed-d6ec34c40084",
   "metadata": {},
   "outputs": [],
   "source": [
    "a_poem = '''За стеклом лежал Питон,\n",
    "Большой и толстый, как батон.\n",
    "Вверх пополз,\n",
    "Затем вернулся,\n",
    "Круглым бубликом свернулся.'''"
   ]
  },
  {
   "cell_type": "code",
   "execution_count": 170,
   "id": "b0e688c7-99da-413d-97d4-494fb1d7522b",
   "metadata": {},
   "outputs": [
    {
     "data": {
      "text/plain": [
       "'За стеклом лежал Питон,\\nБольшой и толстый, как батон.\\nВверх пополз,\\nЗатем вернулся,\\nКруглым бубликом свернулся.'"
      ]
     },
     "execution_count": 170,
     "metadata": {},
     "output_type": "execute_result"
    }
   ],
   "source": [
    "a_poem"
   ]
  },
  {
   "cell_type": "code",
   "execution_count": 171,
   "id": "e4725ee5-9379-4f5c-9722-27b419e1d404",
   "metadata": {},
   "outputs": [],
   "source": [
    "a_list = list (a_poem)"
   ]
  },
  {
   "cell_type": "code",
   "execution_count": 172,
   "id": "edbf5295-e4ae-4dbf-931f-0dcf5100588e",
   "metadata": {},
   "outputs": [],
   "source": [
    "another_list = a_poem.split( )"
   ]
  },
  {
   "cell_type": "code",
   "execution_count": 173,
   "id": "cce159e3-5c3b-4be2-a9ac-180ff4cf97d5",
   "metadata": {},
   "outputs": [
    {
     "name": "stdout",
     "output_type": "stream",
     "text": [
      "['З', 'а', ' ', 'с', 'т', 'е', 'к', 'л', 'о', 'м', ' ', 'л', 'е', 'ж', 'а', 'л', ' ', 'П', 'и', 'т', 'о', 'н', ',', '\\n', 'Б', 'о', 'л', 'ь', 'ш', 'о', 'й', ' ', 'и', ' ', 'т', 'о', 'л', 'с', 'т', 'ы', 'й', ',', ' ', 'к', 'а', 'к', ' ', 'б', 'а', 'т', 'о', 'н', '.', '\\n', 'В', 'в', 'е', 'р', 'х', ' ', 'п', 'о', 'п', 'о', 'л', 'з', ',', '\\n', 'З', 'а', 'т', 'е', 'м', ' ', 'в', 'е', 'р', 'н', 'у', 'л', 'с', 'я', ',', '\\n', 'К', 'р', 'у', 'г', 'л', 'ы', 'м', ' ', 'б', 'у', 'б', 'л', 'и', 'к', 'о', 'м', ' ', 'с', 'в', 'е', 'р', 'н', 'у', 'л', 'с', 'я', '.'] ['За', 'стеклом', 'лежал', 'Питон,', 'Большой', 'и', 'толстый,', 'как', 'батон.', 'Вверх', 'пополз,', 'Затем', 'вернулся,', 'Круглым', 'бубликом', 'свернулся.']\n"
     ]
    },
    {
     "data": {
      "text/plain": [
       "(111, 16)"
      ]
     },
     "execution_count": 173,
     "metadata": {},
     "output_type": "execute_result"
    }
   ],
   "source": [
    "print (a_list, another_list)\n",
    "len (a_list), len (another_list)"
   ]
  },
  {
   "cell_type": "code",
   "execution_count": 174,
   "id": "96cb8554-a479-4ddd-a03d-8704cecbf3b4",
   "metadata": {},
   "outputs": [],
   "source": [
    "one_more_list = a_poem.split ('\\n')"
   ]
  },
  {
   "cell_type": "code",
   "execution_count": 175,
   "id": "d7accfc3-218f-4acb-9d01-0b5923efd785",
   "metadata": {},
   "outputs": [
    {
     "name": "stdout",
     "output_type": "stream",
     "text": [
      "['За стеклом лежал Питон,', 'Большой и толстый, как батон.', 'Вверх пополз,', 'Затем вернулся,', 'Круглым бубликом свернулся.']\n"
     ]
    },
    {
     "data": {
      "text/plain": [
       "5"
      ]
     },
     "execution_count": 175,
     "metadata": {},
     "output_type": "execute_result"
    }
   ],
   "source": [
    "print (one_more_list)\n",
    "len (one_more_list)"
   ]
  },
  {
   "cell_type": "markdown",
   "id": "cf3019db-afe4-428b-977e-27c82125c629",
   "metadata": {},
   "source": [
    "Задание 3.\n",
    "- Создайте список solyanka_list, в качестве его элементов добавьте значения каждого из известных вам типов данных python.\n",
    "- Выведите на экран содержимое списка solyanka_list.\n",
    "- Посчитайте количество элементов списка solyanka_list.\n",
    "- Выведите на экран тип пятого от начала списка элемента.\n",
    "- Добавьте в конец списка solyanka_list элемент типа \"список\" из одного элемента\n",
    "- Выведите на экран тип последнего элемента списка solyanka_list "
   ]
  },
  {
   "cell_type": "code",
   "execution_count": 176,
   "id": "ba53f79a-d7ff-44c9-beb4-cbefaea0b005",
   "metadata": {},
   "outputs": [],
   "source": [
    "solyanka_list = [6, 3.14, \"Hello\", [1, 2, 3, 'hello'], (1, 2, 'b'), {'name': 'Vasya', 'age': 25}, {12, 'a'}, True, False, None]"
   ]
  },
  {
   "cell_type": "code",
   "execution_count": 177,
   "id": "b17694e2-44a2-4d78-87fc-78663a0e13f4",
   "metadata": {},
   "outputs": [
    {
     "name": "stdout",
     "output_type": "stream",
     "text": [
      "[6, 3.14, 'Hello', [1, 2, 3, 'hello'], (1, 2, 'b'), {'name': 'Vasya', 'age': 25}, {12, 'a'}, True, False, None]\n"
     ]
    }
   ],
   "source": [
    "print(solyanka_list)"
   ]
  },
  {
   "cell_type": "code",
   "execution_count": 178,
   "id": "06faf085-a86c-48f0-8289-26fd46dc4273",
   "metadata": {},
   "outputs": [
    {
     "data": {
      "text/plain": [
       "10"
      ]
     },
     "execution_count": 178,
     "metadata": {},
     "output_type": "execute_result"
    }
   ],
   "source": [
    "len(solyanka_list)"
   ]
  },
  {
   "cell_type": "code",
   "execution_count": 179,
   "id": "14c2bf8c-5367-4bb0-a79d-a6a10976f318",
   "metadata": {},
   "outputs": [
    {
     "name": "stdout",
     "output_type": "stream",
     "text": [
      "<class 'tuple'>\n"
     ]
    }
   ],
   "source": [
    "print(type (solyanka_list[4]))"
   ]
  },
  {
   "cell_type": "code",
   "execution_count": 180,
   "id": "430cd580-8f64-4a83-9e3f-2e36e1c407b1",
   "metadata": {},
   "outputs": [],
   "source": [
    "solyanka_list.append([999])"
   ]
  },
  {
   "cell_type": "code",
   "execution_count": 181,
   "id": "d07469da-cd5b-4227-9543-7b19b3673b65",
   "metadata": {},
   "outputs": [
    {
     "name": "stdout",
     "output_type": "stream",
     "text": [
      "<class 'list'>\n"
     ]
    }
   ],
   "source": [
    "print(type(solyanka_list[-1]))"
   ]
  },
  {
   "cell_type": "markdown",
   "id": "7fd30783-0681-4824-8b26-7d2ae7e0dab9",
   "metadata": {},
   "source": [
    "Задание 4.\n",
    "Дана последовательности чисел Фибоначчи из нескольких элементов:\n",
    "<code>\n",
    "0, 1, 1, 2, 3, 5, 8, 13, 21, 34, 55, 89, 144, 233, 377, 610, 987, 1597, 2584, 4181, 6765, 10946, 17711\n",
    "</code>\n",
    "- Создайте список fibonacci_list, элементами которого будут числа Фибонначи из задания.\n",
    "- Посчитайте и выведите на экран, сколько чисел Фибоначчи в последовательности из задания\n",
    "- Посчитайте и выведите на экран, сколько раз число 1 входит в заданную последовательность Фибоначчи.\n",
    "- Проверьте и выведите на экран результат, является ли число 21 числом Фибоначчи. Число 33? Число 987? число 9999?\n",
    "использование оператора if возможно, но не является необходимым"
   ]
  },
  {
   "cell_type": "code",
   "execution_count": 182,
   "id": "31a1e1f8-afd2-428f-bfb1-de735c3a3098",
   "metadata": {},
   "outputs": [],
   "source": [
    "fibonacci_list = [0, 1, 1, 2, 3, 5, 8, 13, 21, 34, 55, 89, 144, 233, 377, 610, 987, 1597, 2584, 4181, 6765, 10946, 17711]"
   ]
  },
  {
   "cell_type": "code",
   "execution_count": 183,
   "id": "af89a179-ee56-40d4-9480-49ea981f6957",
   "metadata": {},
   "outputs": [
    {
     "data": {
      "text/plain": [
       "23"
      ]
     },
     "execution_count": 183,
     "metadata": {},
     "output_type": "execute_result"
    }
   ],
   "source": [
    "len (fibonacci_list)"
   ]
  },
  {
   "cell_type": "code",
   "execution_count": 184,
   "id": "06357797-59f6-4c0f-932f-394fb6ec16bc",
   "metadata": {},
   "outputs": [
    {
     "data": {
      "text/plain": [
       "2"
      ]
     },
     "execution_count": 184,
     "metadata": {},
     "output_type": "execute_result"
    }
   ],
   "source": [
    "fibonacci_list.count(1)"
   ]
  },
  {
   "cell_type": "code",
   "execution_count": 185,
   "id": "71ab9b44-a30a-43d9-a9d5-25d89959b4e3",
   "metadata": {},
   "outputs": [
    {
     "data": {
      "text/plain": [
       "(1, 0, 1, 0)"
      ]
     },
     "execution_count": 185,
     "metadata": {},
     "output_type": "execute_result"
    }
   ],
   "source": [
    "fibonacci_list.count(21), fibonacci_list.count(33), fibonacci_list.count(987), fibonacci_list.count(9999)"
   ]
  },
  {
   "cell_type": "markdown",
   "id": "d86d409b-f211-4742-8285-14a2ad49a597",
   "metadata": {},
   "source": [
    "Задание 5.\n",
    "Задайте переменную a_list типа \"список\" со следующим содержимым:\n",
    "<code>\n",
    "1,2,5,4,3,6\n",
    "</code>\n",
    "- выведите содержимое a_list на экран\n",
    "- поменяйте местами третий и пятый элементы a_list и выведите результат на экран"
   ]
  },
  {
   "cell_type": "code",
   "execution_count": 186,
   "id": "2a067af2-de15-4052-b316-ab1bba14f6c8",
   "metadata": {},
   "outputs": [],
   "source": [
    "a_list = [1,2,5,4,3,6]"
   ]
  },
  {
   "cell_type": "code",
   "execution_count": 187,
   "id": "d15c072d-6573-4d33-8b8f-4dc4d6405fb2",
   "metadata": {},
   "outputs": [
    {
     "name": "stdout",
     "output_type": "stream",
     "text": [
      "[1, 2, 5, 4, 3, 6]\n"
     ]
    }
   ],
   "source": [
    "print (a_list)"
   ]
  },
  {
   "cell_type": "code",
   "execution_count": 188,
   "id": "2a9a4502-59a6-485e-9544-ce0dd6f620d4",
   "metadata": {},
   "outputs": [],
   "source": [
    "a_list[2],a_list[4] = a_list[4], a_list[2]"
   ]
  },
  {
   "cell_type": "code",
   "execution_count": 189,
   "id": "47705623-bec6-4660-ae79-6e79dbe5b0be",
   "metadata": {},
   "outputs": [
    {
     "name": "stdout",
     "output_type": "stream",
     "text": [
      "[1, 2, 3, 4, 5, 6]\n"
     ]
    }
   ],
   "source": [
    "print (a_list)"
   ]
  },
  {
   "cell_type": "markdown",
   "id": "52e26ef4-2dfc-4f02-abb8-bd710aca5dc4",
   "metadata": {},
   "source": [
    "Задание 6.\n",
    "    Кто-то перепутал строчки в стихотворении, хорошо что они были пронумерованы.\n",
    "<code>\n",
    "    (2, \"тот большего добьётся,\" )\n",
    "    (5, \"Кто умирал, тот знает, что живёт.\")\n",
    "    (1, \"Кто битым жизнью был,\" )\n",
    "    (3, \"Пуд соли съевший выше ценит мёд.\")\n",
    "    (4, \"Кто слёзы лил, тот искренней смеётся,\") \n",
    "</code>\n",
    "    выведите на экран строки Омара Хайама в правильном порядке, используя список."
   ]
  },
  {
   "cell_type": "code",
   "execution_count": 190,
   "id": "f7a8dabb-acbc-4b23-adde-1961380628bc",
   "metadata": {},
   "outputs": [],
   "source": [
    "omar = [(2, \"тот большего добьётся,\" ),\n",
    "    (5, \"Кто умирал, тот знает, что живёт.\"),\n",
    "    (1, \"Кто битым жизнью был,\" ),\n",
    "    (3, \"Пуд соли съевший выше ценит мёд.\"),\n",
    "    (4, \"Кто слёзы лил, тот искренней смеётся,\")]"
   ]
  },
  {
   "cell_type": "code",
   "execution_count": 191,
   "id": "74449c11-f9cd-4fef-a3c5-9995c2f22300",
   "metadata": {},
   "outputs": [],
   "source": [
    "omar.sort()"
   ]
  },
  {
   "cell_type": "code",
   "execution_count": 192,
   "id": "cc771fc1-6df7-4a31-85a5-4908c9accf5e",
   "metadata": {},
   "outputs": [
    {
     "name": "stdout",
     "output_type": "stream",
     "text": [
      "[(1, 'Кто битым жизнью был,'), (2, 'тот большего добьётся,'), (3, 'Пуд соли съевший выше ценит мёд.'), (4, 'Кто слёзы лил, тот искренней смеётся,'), (5, 'Кто умирал, тот знает, что живёт.')]\n"
     ]
    }
   ],
   "source": [
    "print (omar)"
   ]
  },
  {
   "cell_type": "markdown",
   "id": "12952601-d244-40d2-9f0f-6228199662a4",
   "metadata": {},
   "source": [
    "Задание 7.\n",
    "<code>\n",
    "Кто битым за дедлайн был,\n",
    "тот больше не сольется.\n",
    "Пуд багов съевший, выше ценит чистый код.\n",
    "Кто дошик ел, тот рейтинг ценит свой.\n",
    "Кто крашился, тот знает, что живой.\n",
    "</code>\n",
    "В данном задании после каждой операции выводите на экран содержимое true_story_list и количество его элементов.\n",
    "- Создайте переменную true_story_list типа список, занесите в неё третью строку из стихотворения выше.\n",
    "- Добавьте четвертую строку в конец списка true_story_list.\n",
    "- Создайте переменную true_story_slice типа список, занесите в неё четвертую и пятую строки из стихотворения выше. Добавьте содержимое true_story_slice как один последний элемент списка true_story_list.\n",
    "- Очистите весь список true_story_slice, выведите его содержимое на экран.\n",
    "- Добавьте первую строку из стихотворение в начало списка true_story_list\n",
    "- Удалите из true_story_list все элементы.\n",
    "- Удалите последний элемент списка true_story_list\n",
    "- Добавьте вторым элементом списка true_story_list вторую строчку стихотворения\n",
    "- Создайте переменную true_story_tail типа список, занесите в него пятую строку стихотворения дважды. Скопируйте элементы списка true_story_tail в конец списка true_story_list.\n",
    "- Удалите 5 элемент списка true_story_list.\n",
    "- *Выведите список true_story_list красиво в виде стихотворения. (кажется, это ещё не проходили, но попробовать стоит)"
   ]
  },
  {
   "cell_type": "code",
   "execution_count": 193,
   "id": "23e24423-ade0-4f50-b158-c0ff94145da6",
   "metadata": {},
   "outputs": [],
   "source": [
    "true_story_list = ['Пуд багов съевший, выше ценит чистый код.\\n']"
   ]
  },
  {
   "cell_type": "code",
   "execution_count": 194,
   "id": "0d40f8d4-6643-4f37-baed-a98ce513826b",
   "metadata": {},
   "outputs": [
    {
     "name": "stdout",
     "output_type": "stream",
     "text": [
      "['Пуд багов съевший, выше ценит чистый код.\\n']\n"
     ]
    },
    {
     "data": {
      "text/plain": [
       "1"
      ]
     },
     "execution_count": 194,
     "metadata": {},
     "output_type": "execute_result"
    }
   ],
   "source": [
    "print(true_story_list)\n",
    "len(true_story_list)"
   ]
  },
  {
   "cell_type": "code",
   "execution_count": 195,
   "id": "2142d9f0-47c6-4f1f-9993-18a8ed4f46ea",
   "metadata": {},
   "outputs": [],
   "source": [
    "true_story_list.append('Кто дошик ел, тот рейтинг ценит свой.\\n')"
   ]
  },
  {
   "cell_type": "code",
   "execution_count": 196,
   "id": "f7fa88a0-e888-4da2-8593-10363352a610",
   "metadata": {},
   "outputs": [
    {
     "name": "stdout",
     "output_type": "stream",
     "text": [
      "['Пуд багов съевший, выше ценит чистый код.\\n', 'Кто дошик ел, тот рейтинг ценит свой.\\n']\n"
     ]
    },
    {
     "data": {
      "text/plain": [
       "2"
      ]
     },
     "execution_count": 196,
     "metadata": {},
     "output_type": "execute_result"
    }
   ],
   "source": [
    "print(true_story_list)\n",
    "len(true_story_list)"
   ]
  },
  {
   "cell_type": "code",
   "execution_count": 197,
   "id": "38e8be23-2bc4-4ef4-b150-ef0f6baf2f81",
   "metadata": {},
   "outputs": [],
   "source": [
    "true_story_slice = ['Кто дошик ел, тот рейтинг ценит свой.\\n '\n",
    "'Кто крашился, тот знает, что живой.']"
   ]
  },
  {
   "cell_type": "code",
   "execution_count": 198,
   "id": "ec267b83-3d0b-4ff0-b387-a7be031a7e4d",
   "metadata": {},
   "outputs": [],
   "source": [
    "true_story_list.extend(true_story_slice)"
   ]
  },
  {
   "cell_type": "code",
   "execution_count": 199,
   "id": "e8fba1f4-da66-4970-97a6-3062fc0309ed",
   "metadata": {},
   "outputs": [
    {
     "name": "stdout",
     "output_type": "stream",
     "text": [
      "['Пуд багов съевший, выше ценит чистый код.\\n', 'Кто дошик ел, тот рейтинг ценит свой.\\n', 'Кто дошик ел, тот рейтинг ценит свой.\\n Кто крашился, тот знает, что живой.']\n"
     ]
    },
    {
     "data": {
      "text/plain": [
       "3"
      ]
     },
     "execution_count": 199,
     "metadata": {},
     "output_type": "execute_result"
    }
   ],
   "source": [
    "print(true_story_list)\n",
    "len(true_story_list)"
   ]
  },
  {
   "cell_type": "code",
   "execution_count": 200,
   "id": "31c40b81-3f7c-4833-953f-0e289db8f187",
   "metadata": {},
   "outputs": [],
   "source": [
    "true_story_slice.clear()"
   ]
  },
  {
   "cell_type": "code",
   "execution_count": 201,
   "id": "125a58a5-fd5b-4818-b59d-2940b671cd72",
   "metadata": {},
   "outputs": [
    {
     "name": "stdout",
     "output_type": "stream",
     "text": [
      "[]\n"
     ]
    }
   ],
   "source": [
    "print(true_story_slice)"
   ]
  },
  {
   "cell_type": "code",
   "execution_count": 202,
   "id": "5a2b0f37-0f82-4050-bae4-167762ac87a9",
   "metadata": {},
   "outputs": [],
   "source": [
    "true_story_list.insert(0, 'Кто битым за дедлайн был,\\n')"
   ]
  },
  {
   "cell_type": "code",
   "execution_count": 203,
   "id": "aeb04fd5-e79c-485f-b0ca-7e4c12f3c39c",
   "metadata": {},
   "outputs": [
    {
     "name": "stdout",
     "output_type": "stream",
     "text": [
      "['Кто битым за дедлайн был,\\n', 'Пуд багов съевший, выше ценит чистый код.\\n', 'Кто дошик ел, тот рейтинг ценит свой.\\n', 'Кто дошик ел, тот рейтинг ценит свой.\\n Кто крашился, тот знает, что живой.']\n"
     ]
    },
    {
     "data": {
      "text/plain": [
       "4"
      ]
     },
     "execution_count": 203,
     "metadata": {},
     "output_type": "execute_result"
    }
   ],
   "source": [
    "print(true_story_list)\n",
    "len(true_story_list)"
   ]
  },
  {
   "cell_type": "code",
   "execution_count": 204,
   "id": "a2727ad1-3f1e-4c65-8ded-35f2206b58c4",
   "metadata": {},
   "outputs": [],
   "source": [
    "del true_story_list[-1]"
   ]
  },
  {
   "cell_type": "code",
   "execution_count": 205,
   "id": "d4d77572-8b05-4dd7-a153-565aaf3b465d",
   "metadata": {},
   "outputs": [
    {
     "name": "stdout",
     "output_type": "stream",
     "text": [
      "['Кто битым за дедлайн был,\\n', 'Пуд багов съевший, выше ценит чистый код.\\n', 'Кто дошик ел, тот рейтинг ценит свой.\\n']\n"
     ]
    },
    {
     "data": {
      "text/plain": [
       "3"
      ]
     },
     "execution_count": 205,
     "metadata": {},
     "output_type": "execute_result"
    }
   ],
   "source": [
    "print(true_story_list)\n",
    "len(true_story_list)"
   ]
  },
  {
   "cell_type": "code",
   "execution_count": 206,
   "id": "e64f6684-d376-4eb8-9d9d-88645db03225",
   "metadata": {},
   "outputs": [],
   "source": [
    "true_story_list.insert(1, 'тот больше не сольется.\\n')"
   ]
  },
  {
   "cell_type": "code",
   "execution_count": 207,
   "id": "9a9863e7-1eb1-4da1-b3af-c615d22bbdf9",
   "metadata": {},
   "outputs": [
    {
     "name": "stdout",
     "output_type": "stream",
     "text": [
      "['Кто битым за дедлайн был,\\n', 'тот больше не сольется.\\n', 'Пуд багов съевший, выше ценит чистый код.\\n', 'Кто дошик ел, тот рейтинг ценит свой.\\n']\n"
     ]
    },
    {
     "data": {
      "text/plain": [
       "4"
      ]
     },
     "execution_count": 207,
     "metadata": {},
     "output_type": "execute_result"
    }
   ],
   "source": [
    "print(true_story_list)\n",
    "len(true_story_list)"
   ]
  },
  {
   "cell_type": "code",
   "execution_count": 208,
   "id": "e566c832-d5c9-4531-aea9-1aa50264a481",
   "metadata": {},
   "outputs": [],
   "source": [
    "true_story_tail = ['Кто крашился, тот знает, что живой.', 'Кто крашился, тот знает, что живой.']"
   ]
  },
  {
   "cell_type": "code",
   "execution_count": 209,
   "id": "1fb83b72-12ed-49d0-9233-fd90bdfd7ee9",
   "metadata": {},
   "outputs": [],
   "source": [
    "true_story_list.extend(true_story_tail)"
   ]
  },
  {
   "cell_type": "code",
   "execution_count": 210,
   "id": "b17062b5-24bd-499f-b53e-9579382612db",
   "metadata": {},
   "outputs": [
    {
     "name": "stdout",
     "output_type": "stream",
     "text": [
      "['Кто битым за дедлайн был,\\n', 'тот больше не сольется.\\n', 'Пуд багов съевший, выше ценит чистый код.\\n', 'Кто дошик ел, тот рейтинг ценит свой.\\n', 'Кто крашился, тот знает, что живой.', 'Кто крашился, тот знает, что живой.']\n"
     ]
    },
    {
     "data": {
      "text/plain": [
       "6"
      ]
     },
     "execution_count": 210,
     "metadata": {},
     "output_type": "execute_result"
    }
   ],
   "source": [
    "print(true_story_list)\n",
    "len(true_story_list)"
   ]
  },
  {
   "cell_type": "code",
   "execution_count": 211,
   "id": "39b53adf-b389-4dd9-b37d-5540d5f3e1f3",
   "metadata": {},
   "outputs": [],
   "source": [
    "del true_story_list[4]"
   ]
  },
  {
   "cell_type": "code",
   "execution_count": 212,
   "id": "64e3951d-554e-4e37-9bfe-b42a211cd53d",
   "metadata": {},
   "outputs": [
    {
     "name": "stdout",
     "output_type": "stream",
     "text": [
      "['Кто битым за дедлайн был,\\n', 'тот больше не сольется.\\n', 'Пуд багов съевший, выше ценит чистый код.\\n', 'Кто дошик ел, тот рейтинг ценит свой.\\n', 'Кто крашился, тот знает, что живой.']\n"
     ]
    },
    {
     "data": {
      "text/plain": [
       "5"
      ]
     },
     "execution_count": 212,
     "metadata": {},
     "output_type": "execute_result"
    }
   ],
   "source": [
    "print(true_story_list)\n",
    "len(true_story_list)"
   ]
  },
  {
   "cell_type": "code",
   "execution_count": 213,
   "id": "16d76f08-b93b-41ee-b553-df7921a7d560",
   "metadata": {},
   "outputs": [
    {
     "name": "stdout",
     "output_type": "stream",
     "text": [
      "Кто битым за дедлайн был,\n",
      "\n",
      "тот больше не сольется.\n",
      "\n",
      "Пуд багов съевший, выше ценит чистый код.\n",
      "\n",
      "Кто дошик ел, тот рейтинг ценит свой.\n",
      "\n",
      "Кто крашился, тот знает, что живой.\n"
     ]
    }
   ],
   "source": [
    "for item in true_story_list:\n",
    "    print(item)"
   ]
  }
 ],
 "metadata": {
  "kernelspec": {
   "display_name": "Python 3 (ipykernel)",
   "language": "python",
   "name": "python3"
  },
  "language_info": {
   "codemirror_mode": {
    "name": "ipython",
    "version": 3
   },
   "file_extension": ".py",
   "mimetype": "text/x-python",
   "name": "python",
   "nbconvert_exporter": "python",
   "pygments_lexer": "ipython3",
   "version": "3.10.10"
  }
 },
 "nbformat": 4,
 "nbformat_minor": 5
}
