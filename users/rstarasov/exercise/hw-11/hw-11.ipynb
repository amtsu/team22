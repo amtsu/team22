{
 "cells": [
  {
   "cell_type": "markdown",
   "id": "2faf0f6e-3484-4d19-ad26-0b4c1f6c0567",
   "metadata": {},
   "source": [
    "# Немного интересных и полезных функций Python"
   ]
  },
  {
   "cell_type": "markdown",
   "id": "7f5bf2a8-d891-4038-980f-573c0d6035e9",
   "metadata": {},
   "source": [
    "## 1. Кодировка Unicode"
   ]
  },
  {
   "cell_type": "code",
   "execution_count": 1,
   "id": "60d4c838-0073-4777-a65c-7af8257b9445",
   "metadata": {},
   "outputs": [
    {
     "data": {
      "text/plain": [
       "97"
      ]
     },
     "execution_count": 1,
     "metadata": {},
     "output_type": "execute_result"
    }
   ],
   "source": [
    "#Возвращает целое число — номер из таблицы символов Unicode\n",
    "ord('a')"
   ]
  },
  {
   "cell_type": "code",
   "execution_count": 2,
   "id": "006572a7-0748-412c-b873-fbf882761521",
   "metadata": {},
   "outputs": [
    {
     "data": {
      "text/plain": [
       "'a'"
      ]
     },
     "execution_count": 2,
     "metadata": {},
     "output_type": "execute_result"
    }
   ],
   "source": [
    "#Возвращает символ Unicode, соответствующий этому числу\n",
    "chr(97)"
   ]
  },
  {
   "cell_type": "markdown",
   "id": "00b66d9c-33a7-4aa0-bd04-0fc11d8442b8",
   "metadata": {},
   "source": [
    "1. Вывести английский алфавит в строку (подсказка - в английском алфавите 26 букв)"
   ]
  },
  {
   "cell_type": "code",
   "execution_count": 38,
   "id": "6561ce86-bc83-4b30-a782-61e80ee93451",
   "metadata": {},
   "outputs": [
    {
     "name": "stdout",
     "output_type": "stream",
     "text": [
      "a b c d e f g h i j k l m n o p q r s t u v w x y z "
     ]
    }
   ],
   "source": [
    "x = 97\n",
    "a = []\n",
    "while x <= 122:\n",
    "    print (chr(x), end=' ')\n",
    "    a.append((chr(x)))\n",
    "    x+=1"
   ]
  },
  {
   "cell_type": "markdown",
   "id": "1a650e81-9ded-45f6-8c48-b417714ceac0",
   "metadata": {},
   "source": [
    "2. Cгенерировать все возможные комбинации строчных букв английского алфавита длиной два символа. Выведите сочетания для каждой буквы на 1 месте на отдельной строке."
   ]
  },
  {
   "cell_type": "code",
   "execution_count": 7,
   "id": "80864598-91d3-4467-a1c4-dd284c63cb2a",
   "metadata": {},
   "outputs": [
    {
     "name": "stdout",
     "output_type": "stream",
     "text": [
      "aa ab ac ad ae af ag ah ai aj ak al am an ao ap aq ar as at au av aw ax ay az\n",
      "ba bb bc bd be bf bg bh bi bj bk bl bm bn bo bp bq br bs bt bu bv bw bx by bz\n",
      "ca cb cc cd ce cf cg ch ci cj ck cl cm cn co cp cq cr cs ct cu cv cw cx cy cz\n",
      "da db dc dd de df dg dh di dj dk dl dm dn do dp dq dr ds dt du dv dw dx dy dz\n",
      "ea eb ec ed ee ef eg eh ei ej ek el em en eo ep eq er es et eu ev ew ex ey ez\n",
      "fa fb fc fd fe ff fg fh fi fj fk fl fm fn fo fp fq fr fs ft fu fv fw fx fy fz\n",
      "ga gb gc gd ge gf gg gh gi gj gk gl gm gn go gp gq gr gs gt gu gv gw gx gy gz\n",
      "ha hb hc hd he hf hg hh hi hj hk hl hm hn ho hp hq hr hs ht hu hv hw hx hy hz\n",
      "ia ib ic id ie if ig ih ii ij ik il im in io ip iq ir is it iu iv iw ix iy iz\n",
      "ja jb jc jd je jf jg jh ji jj jk jl jm jn jo jp jq jr js jt ju jv jw jx jy jz\n",
      "ka kb kc kd ke kf kg kh ki kj kk kl km kn ko kp kq kr ks kt ku kv kw kx ky kz\n",
      "la lb lc ld le lf lg lh li lj lk ll lm ln lo lp lq lr ls lt lu lv lw lx ly lz\n",
      "ma mb mc md me mf mg mh mi mj mk ml mm mn mo mp mq mr ms mt mu mv mw mx my mz\n",
      "na nb nc nd ne nf ng nh ni nj nk nl nm nn no np nq nr ns nt nu nv nw nx ny nz\n",
      "oa ob oc od oe of og oh oi oj ok ol om on oo op oq or os ot ou ov ow ox oy oz\n",
      "pa pb pc pd pe pf pg ph pi pj pk pl pm pn po pp pq pr ps pt pu pv pw px py pz\n",
      "qa qb qc qd qe qf qg qh qi qj qk ql qm qn qo qp qq qr qs qt qu qv qw qx qy qz\n",
      "ra rb rc rd re rf rg rh ri rj rk rl rm rn ro rp rq rr rs rt ru rv rw rx ry rz\n",
      "sa sb sc sd se sf sg sh si sj sk sl sm sn so sp sq sr ss st su sv sw sx sy sz\n",
      "ta tb tc td te tf tg th ti tj tk tl tm tn to tp tq tr ts tt tu tv tw tx ty tz\n",
      "ua ub uc ud ue uf ug uh ui uj uk ul um un uo up uq ur us ut uu uv uw ux uy uz\n",
      "va vb vc vd ve vf vg vh vi vj vk vl vm vn vo vp vq vr vs vt vu vv vw vx vy vz\n",
      "wa wb wc wd we wf wg wh wi wj wk wl wm wn wo wp wq wr ws wt wu wv ww wx wy wz\n",
      "xa xb xc xd xe xf xg xh xi xj xk xl xm xn xo xp xq xr xs xt xu xv xw xx xy xz\n",
      "ya yb yc yd ye yf yg yh yi yj yk yl ym yn yo yp yq yr ys yt yu yv yw yx yy yz\n",
      "za zb zc zd ze zf zg zh zi zj zk zl zm zn zo zp zq zr zs zt zu zv zw zx zy zz\n"
     ]
    }
   ],
   "source": [
    "#тут решение комбинации двух символов\n",
    "#пример: 1 строка aa ab ...\n",
    "#пример: 2 строка ba bb ...\n",
    "# создать переменную a = 97 как опору. \n",
    "y = []\n",
    "for a in range(97, 123):\n",
    "    for x in range(97, 123):\n",
    "        y.append(chr(a) + chr(x))\n",
    "    print (*y)\n",
    "    y = []    \n"
   ]
  },
  {
   "cell_type": "markdown",
   "id": "7992c147-613b-41cb-9ce7-8dacb0891c0a",
   "metadata": {},
   "source": [
    "3. Cгенерировать последовательно двухбуквенные строки по алфавиту до строки «mf»."
   ]
  },
  {
   "cell_type": "code",
   "execution_count": 5,
   "id": "10d6174f-a071-4bb2-928a-d7be37ecd5fe",
   "metadata": {},
   "outputs": [
    {
     "name": "stdout",
     "output_type": "stream",
     "text": [
      "aa ab ac ad ae af ag ah ai aj ak al am an ao ap aq ar as at au av aw ax ay az\n",
      "ba bb bc bd be bf bg bh bi bj bk bl bm bn bo bp bq br bs bt bu bv bw bx by bz\n",
      "ca cb cc cd ce cf cg ch ci cj ck cl cm cn co cp cq cr cs ct cu cv cw cx cy cz\n",
      "da db dc dd de df dg dh di dj dk dl dm dn do dp dq dr ds dt du dv dw dx dy dz\n",
      "ea eb ec ed ee ef eg eh ei ej ek el em en eo ep eq er es et eu ev ew ex ey ez\n",
      "fa fb fc fd fe ff fg fh fi fj fk fl fm fn fo fp fq fr fs ft fu fv fw fx fy fz\n",
      "ga gb gc gd ge gf gg gh gi gj gk gl gm gn go gp gq gr gs gt gu gv gw gx gy gz\n",
      "ha hb hc hd he hf hg hh hi hj hk hl hm hn ho hp hq hr hs ht hu hv hw hx hy hz\n",
      "ia ib ic id ie if ig ih ii ij ik il im in io ip iq ir is it iu iv iw ix iy iz\n",
      "ja jb jc jd je jf jg jh ji jj jk jl jm jn jo jp jq jr js jt ju jv jw jx jy jz\n",
      "ka kb kc kd ke kf kg kh ki kj kk kl km kn ko kp kq kr ks kt ku kv kw kx ky kz\n",
      "la lb lc ld le lf lg lh li lj lk ll lm ln lo lp lq lr ls lt lu lv lw lx ly lz\n",
      "ma mb mc md me mf\n"
     ]
    }
   ],
   "source": [
    "#тут решение комбинации двух символов до mf\n",
    "y = []\n",
    "w = ''\n",
    "for a in range(97, 123):\n",
    "    for x in range(97, 123):\n",
    "        w+=chr(a) + chr(x)\n",
    "        y.append(w)\n",
    "        if w == 'mf':\n",
    "            break\n",
    "        w = ''\n",
    "    print (*y)\n",
    "    if w =='mf':\n",
    "        break\n",
    "    y = []"
   ]
  },
  {
   "cell_type": "markdown",
   "id": "de5695b1-5b0d-477f-b87a-eb13ec3cf55d",
   "metadata": {},
   "source": [
    "4. Cгенерировать все возможные комбинации строчных букв английского алфавита длиной два символа, но не выводить комбинации с одинаковыми буквами («aa», «bb» и т. д.):"
   ]
  },
  {
   "cell_type": "code",
   "execution_count": 6,
   "id": "456aa32e-89b7-42a3-b2e7-01fc1e5f8a59",
   "metadata": {},
   "outputs": [
    {
     "name": "stdout",
     "output_type": "stream",
     "text": [
      "ab ac ad ae af ag ah ai aj ak al am an ao ap aq ar as at au av aw ax ay az\n",
      "ba bc bd be bf bg bh bi bj bk bl bm bn bo bp bq br bs bt bu bv bw bx by bz\n",
      "ca cb cd ce cf cg ch ci cj ck cl cm cn co cp cq cr cs ct cu cv cw cx cy cz\n",
      "da db dc de df dg dh di dj dk dl dm dn do dp dq dr ds dt du dv dw dx dy dz\n",
      "ea eb ec ed ef eg eh ei ej ek el em en eo ep eq er es et eu ev ew ex ey ez\n",
      "fa fb fc fd fe fg fh fi fj fk fl fm fn fo fp fq fr fs ft fu fv fw fx fy fz\n",
      "ga gb gc gd ge gf gh gi gj gk gl gm gn go gp gq gr gs gt gu gv gw gx gy gz\n",
      "ha hb hc hd he hf hg hi hj hk hl hm hn ho hp hq hr hs ht hu hv hw hx hy hz\n",
      "ia ib ic id ie if ig ih ij ik il im in io ip iq ir is it iu iv iw ix iy iz\n",
      "ja jb jc jd je jf jg jh ji jk jl jm jn jo jp jq jr js jt ju jv jw jx jy jz\n",
      "ka kb kc kd ke kf kg kh ki kj kl km kn ko kp kq kr ks kt ku kv kw kx ky kz\n",
      "la lb lc ld le lf lg lh li lj lk lm ln lo lp lq lr ls lt lu lv lw lx ly lz\n",
      "ma mb mc md me mf mg mh mi mj mk ml mn mo mp mq mr ms mt mu mv mw mx my mz\n",
      "na nb nc nd ne nf ng nh ni nj nk nl nm no np nq nr ns nt nu nv nw nx ny nz\n",
      "oa ob oc od oe of og oh oi oj ok ol om on op oq or os ot ou ov ow ox oy oz\n",
      "pa pb pc pd pe pf pg ph pi pj pk pl pm pn po pq pr ps pt pu pv pw px py pz\n",
      "qa qb qc qd qe qf qg qh qi qj qk ql qm qn qo qp qr qs qt qu qv qw qx qy qz\n",
      "ra rb rc rd re rf rg rh ri rj rk rl rm rn ro rp rq rs rt ru rv rw rx ry rz\n",
      "sa sb sc sd se sf sg sh si sj sk sl sm sn so sp sq sr st su sv sw sx sy sz\n",
      "ta tb tc td te tf tg th ti tj tk tl tm tn to tp tq tr ts tu tv tw tx ty tz\n",
      "ua ub uc ud ue uf ug uh ui uj uk ul um un uo up uq ur us ut uv uw ux uy uz\n",
      "va vb vc vd ve vf vg vh vi vj vk vl vm vn vo vp vq vr vs vt vu vw vx vy vz\n",
      "wa wb wc wd we wf wg wh wi wj wk wl wm wn wo wp wq wr ws wt wu wv wx wy wz\n",
      "xa xb xc xd xe xf xg xh xi xj xk xl xm xn xo xp xq xr xs xt xu xv xw xy xz\n",
      "ya yb yc yd ye yf yg yh yi yj yk yl ym yn yo yp yq yr ys yt yu yv yw yx yz\n",
      "za zb zc zd ze zf zg zh zi zj zk zl zm zn zo zp zq zr zs zt zu zv zw zx zy\n"
     ]
    }
   ],
   "source": [
    "#тут решение комбинации двух символов без дублей\n",
    "y = []\n",
    "w = ''\n",
    "for a in range(97, 123):\n",
    "    for x in range(97, 123):\n",
    "        if chr(a) != chr(x):\n",
    "            w+=chr(a) + chr(x)\n",
    "            y.append(w)\n",
    "            w = ''\n",
    "    print (*y)\n",
    "    y = []"
   ]
  },
  {
   "cell_type": "markdown",
   "id": "2ce7d44f-80ae-4340-b029-c4787009ec89",
   "metadata": {},
   "source": [
    "5. Напишите две функции: caesar_crypt(key) одна будет шифровать введенный ей через input() текст шифром Цезаря. Другая расшифровывать caesar_decrypt(key). Аргумент функций - цифра сдвига для кодировки."
   ]
  },
  {
   "cell_type": "markdown",
   "id": "bbb6cac8-def7-4fce-9fde-f91f46f6e333",
   "metadata": {},
   "source": [
    "Шифр Цeзаря (шифр сдвига, код Цезаря) – такой простой вид шифрования текста, при котором все символы в тексте заменяются символами, сдвинутыми по алфавиту на правее или левее на постоянное количество позиций. Например, при сдвиге на 1 буква А заменяется на Б, Б на В и т.д"
   ]
  },
  {
   "cell_type": "code",
   "execution_count": 6,
   "id": "74280880-c4c1-4e58-890d-340de8d908c1",
   "metadata": {},
   "outputs": [
    {
     "name": "stdin",
     "output_type": "stream",
     "text": [
      " ехал цезарь через реку\n"
     ]
    },
    {
     "data": {
      "text/plain": [
       "'жцбм!чжибсэ!шжсжи!сжлф'"
      ]
     },
     "execution_count": 6,
     "metadata": {},
     "output_type": "execute_result"
    }
   ],
   "source": [
    "#тут решение шифр цезаря\n",
    "def caesar_crypt(key):\n",
    "    x = input()\n",
    "    y = []\n",
    "    for l in x:\n",
    "        l = ord(l) + key\n",
    "        y.append(chr(l))\n",
    "        w = ''.join(y)\n",
    "    return w\n",
    "\n",
    "caesar_crypt(1)"
   ]
  },
  {
   "cell_type": "code",
   "execution_count": 7,
   "id": "7e940d18-bd80-4ace-b056-7c5f3d2f2017",
   "metadata": {},
   "outputs": [
    {
     "name": "stdin",
     "output_type": "stream",
     "text": [
      " жцбм!чжибсэ!шжсжи!сжлф\n"
     ]
    },
    {
     "data": {
      "text/plain": [
       "'ехал цезарь через реку'"
      ]
     },
     "execution_count": 7,
     "metadata": {},
     "output_type": "execute_result"
    }
   ],
   "source": [
    "def caesar_decript(key):\n",
    "    x = input()\n",
    "    y = []\n",
    "    for l in x:\n",
    "        l = ord(l) - key\n",
    "        y.append(chr(l))\n",
    "        w = ''.join(y)\n",
    "    return w\n",
    "\n",
    "caesar_decript(1)"
   ]
  },
  {
   "cell_type": "markdown",
   "id": "7aba5087-9cbc-4417-bbf9-0369b32e8319",
   "metadata": {},
   "source": [
    "## 2. f-string"
   ]
  },
  {
   "cell_type": "markdown",
   "id": "e22f2001-67d5-414b-9dda-2e1c953d56ca",
   "metadata": {},
   "source": [
    "Чтобы задать **f-строку**, необходимо поставить букву f перед открывающей кавычкой строки. Далее f-строка записывается как единое целое, с учётом правил её форматирования, и закрывается соответствующей кавычкой"
   ]
  },
  {
   "cell_type": "markdown",
   "id": "21b17421-e247-4363-b756-50a8dbe80a6b",
   "metadata": {},
   "source": [
    "Немного теории можно прочитать на нашей wiki  -  https://github.com/amtsu/team22/wiki/Python:-Вывод-данных-в-консоль"
   ]
  },
  {
   "cell_type": "code",
   "execution_count": 8,
   "id": "591ffa62-d49e-4124-a485-6f031b1b7ab4",
   "metadata": {},
   "outputs": [
    {
     "name": "stdout",
     "output_type": "stream",
     "text": [
      "Добрый день, Пользователь.\n"
     ]
    }
   ],
   "source": [
    "#пример\n",
    "name = \"Пользователь\"\n",
    "print(f\"Добрый день, {name}.\")"
   ]
  },
  {
   "cell_type": "raw",
   "id": "84d5fed6-a2f1-48d6-936e-2db1ab59db68",
   "metadata": {},
   "source": [
    "1. Напечать чек с помощью f-строки. Ввод можно сделать через input или кортеж\n",
    "Ввод:\n",
    "название товара;\n",
    "цена товара;\n",
    "вес товара;\n",
    "количество денег у пользователя.\n",
    "\n",
    "Вывод:\n",
    "Чек\n",
    "<название товара> - <вес>кг - <цена>руб/кг\n",
    "Итого: <итоговая стоимость>руб\n",
    "Внесено: <количество денег от пользователя>руб\n",
    "Сдача: <сдача>руб"
   ]
  },
  {
   "cell_type": "code",
   "execution_count": 9,
   "id": "c88c288b-1654-4509-b814-bd12b3523323",
   "metadata": {},
   "outputs": [
    {
     "name": "stdout",
     "output_type": "stream",
     "text": [
      "laptop - 1.6кг - 78000руб\\кг\n",
      "Итого: 78000руб\n",
      "Внесено: 130000руб\n",
      "Сдача: 5200.0руб\n"
     ]
    }
   ],
   "source": [
    "#тут решение\n",
    "name = 'laptop'\n",
    "price = 78000\n",
    "weight = 1.6\n",
    "money_given = 130000\n",
    "\n",
    "print(\n",
    "f'''{name} - {weight}кг - {price}руб\\кг\n",
    "Итого: {price}руб\n",
    "Внесено: {money_given}руб\n",
    "Сдача: {money_given - price * weight}руб'''\n",
    ")\n"
   ]
  },
  {
   "cell_type": "raw",
   "id": "32439e3c-90a9-40c1-85fa-49bc20881159",
   "metadata": {},
   "source": [
    "2. Сделать для предыдущей задачи красивый вывод в виде:\n",
    "================Чек================\n",
    "Товар:                    <продукт>\n",
    "Цена:     <число>кг * <число>руб/кг\n",
    "Итого:                   <число>руб\n",
    "Внесено:                 <число>руб\n",
    "Сдача:                   <число>руб\n",
    "==================================="
   ]
  },
  {
   "cell_type": "code",
   "execution_count": 10,
   "id": "7373d79d-dcaf-43f6-9ee8-f9b311cbb5ef",
   "metadata": {},
   "outputs": [
    {
     "name": "stdout",
     "output_type": "stream",
     "text": [
      "\n",
      "================Чек=================\n",
      "Товар:                        laptop\n",
      "Цена:              1.6кг*78000руб/кг\n",
      "Итого:                   124800.0руб\n",
      "Внесено:                   130000руб\n",
      "Сдача:                     5200.0руб\n",
      "====================================\n",
      "\n"
     ]
    }
   ],
   "source": [
    "#тут решение\n",
    "print (f'''\n",
    "================Чек=================\n",
    "Товар:  {name:>28}\n",
    "Цена:   {f'{weight}кг*{price}руб/кг':>28}\n",
    "Итого:  {f'{price * weight}руб':>28}\n",
    "Внесено:{f'{money_given}руб':>28}\n",
    "Сдача:  {f'{money_given - price * weight}руб':>28}\n",
    "====================================\n",
    "''')"
   ]
  },
  {
   "cell_type": "markdown",
   "id": "75ad0171-3953-44f3-9734-2ff12aff8868",
   "metadata": {},
   "source": [
    "3. Вывести трегуольник паскаля в красивом виде. В этом треугольнике на вершине и по бокам стоят единицы. Каждое число равно сумме двух расположенных над ним чисел. Строки треугольника симметричны относительно вертикальной оси. (не использовать многострочное форматирование)"
   ]
  },
  {
   "cell_type": "code",
   "execution_count": 12,
   "id": "c1fa3823-99c0-4c0c-914c-8a93ae538967",
   "metadata": {},
   "outputs": [
    {
     "name": "stdout",
     "output_type": "stream",
     "text": [
      "\n",
      "                        1\n",
      "                   1         1\n",
      "              1         2         1\n",
      "         1         3         3         1\n",
      "    1         4         6         4         1\n",
      "1        5        10        10         5        1\n",
      "\n"
     ]
    }
   ],
   "source": [
    "#тут решение\n",
    "print(f'''\n",
    "{1:>25}\n",
    "{1:>20}{1:>10}\n",
    "{1:>15}{2:>10}{1:>10}\n",
    "{1:10}{3:10}{3:10}{1:10}\n",
    "{1:5}{4:10}{6:10}{4:10}{1:10}\n",
    "{1:0}{5:9}{10:10}{10:10}{5:10}{1:9}\n",
    "''')\n",
    "# Возможно я что-то понял не правильно. Строк много получилось. Это подходит под определение многострочности?"
   ]
  },
  {
   "cell_type": "markdown",
   "id": "ac3f4ee8-9ebb-46c9-89a5-b79c3f95e6a4",
   "metadata": {},
   "source": [
    "# 3. Работа с файлами"
   ]
  },
  {
   "cell_type": "markdown",
   "id": "f7292ea7-d7c6-4e63-877b-8e53c1552351",
   "metadata": {},
   "source": [
    "Немного теории можно прочитать на нашей wiki  - https://github.com/amtsu/team22/wiki/Python:-Базовая-работа-с-файлами"
   ]
  },
  {
   "cell_type": "markdown",
   "id": "22aa895a-147e-4db0-936c-ff595f29e2ef",
   "metadata": {},
   "source": [
    "1. Возьмите массив двухбуквенных сочетаний из задания 1.2 и запишите построчно этот массив в file1.txt"
   ]
  },
  {
   "cell_type": "code",
   "execution_count": 13,
   "id": "11be0e71-f5d2-41d7-b5ee-930b30aafb11",
   "metadata": {},
   "outputs": [],
   "source": [
    "#тут решение запись массива в файл"
   ]
  },
  {
   "cell_type": "code",
   "execution_count": 14,
   "id": "e5ec3fb8-a5e6-4705-ab4b-e12877da5081",
   "metadata": {},
   "outputs": [],
   "source": [
    "with open ('first.txt', 'w+') as file:\n",
    "    y = []\n",
    "    w = ''\n",
    "    for a in range(97, 123):\n",
    "        for x in range(97, 123):\n",
    "            w+=chr(a) + chr(x)\n",
    "            y.append(w)\n",
    "            w = ''\n",
    "        print (*y, file=file)\n",
    "        y = [] "
   ]
  },
  {
   "cell_type": "markdown",
   "id": "bf13b25a-eaf0-4ada-8745-3f4e5a87a109",
   "metadata": {},
   "source": [
    "2. Напишите функцию read_last(lines, file), которая будет открывать файл (в нашем случае file1.txt) и выводить на печать построчно последние строки в количестве lines (на всякий случай проверим, что задано положительное целое число)"
   ]
  },
  {
   "cell_type": "code",
   "execution_count": 15,
   "id": "a09075af-f568-47f5-8926-8f3f2890e3f4",
   "metadata": {},
   "outputs": [
    {
     "name": "stdout",
     "output_type": "stream",
     "text": [
      "Последние 5 строк из файла first.txt :\n"
     ]
    },
    {
     "data": {
      "text/plain": [
       "['va vb vc vd ve vf vg vh vi vj vk vl vm vn vo vp vq vr vs vt vu vv vw vx vy vz',\n",
       " 'wa wb wc wd we wf wg wh wi wj wk wl wm wn wo wp wq wr ws wt wu wv ww wx wy wz',\n",
       " 'xa xb xc xd xe xf xg xh xi xj xk xl xm xn xo xp xq xr xs xt xu xv xw xx xy xz',\n",
       " 'ya yb yc yd ye yf yg yh yi yj yk yl ym yn yo yp yq yr ys yt yu yv yw yx yy yz',\n",
       " 'za zb zc zd ze zf zg zh zi zj zk zl zm zn zo zp zq zr zs zt zu zv zw zx zy zz']"
      ]
     },
     "execution_count": 15,
     "metadata": {},
     "output_type": "execute_result"
    }
   ],
   "source": [
    "#тут решение вывод последних строк файла\n",
    "def read_last(lines, file):\n",
    "    # Переменная для записи строк:\n",
    "    save_lines = []\n",
    "    \n",
    "    with open(file, 'r') as f:\n",
    "        # Читаем все строки файла\n",
    "        all_lines = f.readlines()\n",
    "        \n",
    "        # Выводим последние lines строк\n",
    "        print(\"Последние\", lines, \"строк из файла\", file, \":\")\n",
    "        for line in all_lines[-lines:]:\n",
    "            save_lines.append(line.strip())\n",
    "        return save_lines\n",
    "\n",
    "read_last(5, 'first.txt')"
   ]
  },
  {
   "cell_type": "markdown",
   "id": "4b848caa-53f6-4806-b841-febbb552e42a",
   "metadata": {},
   "source": [
    "3. Напишите функцию longest_words(file), которая выводит слово, имеющее максимальную длину (или список слов, если таковых несколько)."
   ]
  },
  {
   "cell_type": "code",
   "execution_count": 39,
   "id": "0e505b8f-e6e4-485a-84ef-65d208503ef7",
   "metadata": {},
   "outputs": [
    {
     "name": "stdout",
     "output_type": "stream",
     "text": [
      "Слово с максимальной длиной: строkjhjhkhkкаjkhhjkjllllll\n"
     ]
    }
   ],
   "source": [
    "def longest_words(file):\n",
    "    # Открываем файл для чтения\n",
    "    with open(file, 'r') as f:\n",
    "        # Читаем содержимое файла\n",
    "        words = f.read().split()\n",
    "\n",
    "    # Находим максимальную длину слова в списке\n",
    "    max_length = max(len(word) for word in words)\n",
    "\n",
    "    # Фильтруем список слов, оставляя только те, у которых длина равна максимальной\n",
    "    longest = [word for word in words if len(word) == max_length]\n",
    "\n",
    "    # Выводим найденные слова\n",
    "    if len(longest) == 1:\n",
    "        print('Слово с максимальной длиной:', longest[0])\n",
    "    else:\n",
    "        print('Слова с максимальной длиной:', ', '.join(longest))\n",
    "\n",
    "# Пример вызова функции\n",
    "longest_words('temp.txt')"
   ]
  },
  {
   "cell_type": "markdown",
   "id": "df62e68b-f456-4f20-9118-bb5d2fd45a0b",
   "metadata": {},
   "source": [
    "4. Напишите функцию file_even_odd(file), которая будет принимать файл, считывать его построчно и запишисывать в file2n1.txt только нечетные строки, а в file2n.txt только четные"
   ]
  },
  {
   "cell_type": "code",
   "execution_count": 38,
   "id": "a8bdb531-94ce-496b-beb1-894833e60aab",
   "metadata": {},
   "outputs": [],
   "source": [
    "def file_even_odd(file0):\n",
    "    # Открываем все необходимые файлы:\n",
    "    file_even = open('file2n.txt', 'w')\n",
    "    file_odd = open('file2n1.txt', 'w')\n",
    "    file = open(file0, 'r')\n",
    "\n",
    "    # Из пронумерованных строк выбираем четные и нечетные, и отправляем их в соответствующие файлы:\n",
    "    for x, line in enumerate(file):\n",
    "        if x % 2 == 0:\n",
    "            file_even.write(line)\n",
    "        else:\n",
    "            file_odd.write(line)\n",
    "            \n",
    "    # Закрываем файлы:\n",
    "    file_even.close()\n",
    "    file_odd.close()\n",
    "    file.close()\n",
    "\n",
    "file_even_odd('first.txt')"
   ]
  },
  {
   "cell_type": "markdown",
   "id": "6ef28dcb-ef48-41b1-ab75-4ded078383d6",
   "metadata": {},
   "source": [
    "5. Напишите функцию file_merge(file_1, file_2), которая будет принимать на вход два файла и выводить из них строки поочерди (то есть в начале 1 строка 1 файла, потом 1 строка 2 файла и тд)"
   ]
  },
  {
   "cell_type": "code",
   "execution_count": 25,
   "id": "c9717e20-ad28-410f-8985-12759aeb7563",
   "metadata": {},
   "outputs": [
    {
     "data": {
      "text/plain": [
       "['aa ab ac ad ae af ag ah ai aj ak al am an ao ap aq ar as at au av aw ax ay az',\n",
       " 'ba bb bc bd be bf bg bh bi bj bk bl bm bn bo bp bq br bs bt bu bv bw bx by bz',\n",
       " 'ca cb cc cd ce cf cg ch ci cj ck cl cm cn co cp cq cr cs ct cu cv cw cx cy cz',\n",
       " 'da db dc dd de df dg dh di dj dk dl dm dn do dp dq dr ds dt du dv dw dx dy dz',\n",
       " 'ea eb ec ed ee ef eg eh ei ej ek el em en eo ep eq er es et eu ev ew ex ey ez',\n",
       " 'fa fb fc fd fe ff fg fh fi fj fk fl fm fn fo fp fq fr fs ft fu fv fw fx fy fz',\n",
       " 'ga gb gc gd ge gf gg gh gi gj gk gl gm gn go gp gq gr gs gt gu gv gw gx gy gz',\n",
       " 'ha hb hc hd he hf hg hh hi hj hk hl hm hn ho hp hq hr hs ht hu hv hw hx hy hz',\n",
       " 'ia ib ic id ie if ig ih ii ij ik il im in io ip iq ir is it iu iv iw ix iy iz',\n",
       " 'ja jb jc jd je jf jg jh ji jj jk jl jm jn jo jp jq jr js jt ju jv jw jx jy jz',\n",
       " 'ka kb kc kd ke kf kg kh ki kj kk kl km kn ko kp kq kr ks kt ku kv kw kx ky kz',\n",
       " 'la lb lc ld le lf lg lh li lj lk ll lm ln lo lp lq lr ls lt lu lv lw lx ly lz',\n",
       " 'ma mb mc md me mf mg mh mi mj mk ml mm mn mo mp mq mr ms mt mu mv mw mx my mz',\n",
       " 'na nb nc nd ne nf ng nh ni nj nk nl nm nn no np nq nr ns nt nu nv nw nx ny nz',\n",
       " 'oa ob oc od oe of og oh oi oj ok ol om on oo op oq or os ot ou ov ow ox oy oz',\n",
       " 'pa pb pc pd pe pf pg ph pi pj pk pl pm pn po pp pq pr ps pt pu pv pw px py pz',\n",
       " 'qa qb qc qd qe qf qg qh qi qj qk ql qm qn qo qp qq qr qs qt qu qv qw qx qy qz',\n",
       " 'ra rb rc rd re rf rg rh ri rj rk rl rm rn ro rp rq rr rs rt ru rv rw rx ry rz',\n",
       " 'sa sb sc sd se sf sg sh si sj sk sl sm sn so sp sq sr ss st su sv sw sx sy sz',\n",
       " 'ta tb tc td te tf tg th ti tj tk tl tm tn to tp tq tr ts tt tu tv tw tx ty tz',\n",
       " 'ua ub uc ud ue uf ug uh ui uj uk ul um un uo up uq ur us ut uu uv uw ux uy uz',\n",
       " 'va vb vc vd ve vf vg vh vi vj vk vl vm vn vo vp vq vr vs vt vu vv vw vx vy vz',\n",
       " 'wa wb wc wd we wf wg wh wi wj wk wl wm wn wo wp wq wr ws wt wu wv ww wx wy wz',\n",
       " 'xa xb xc xd xe xf xg xh xi xj xk xl xm xn xo xp xq xr xs xt xu xv xw xx xy xz',\n",
       " 'ya yb yc yd ye yf yg yh yi yj yk yl ym yn yo yp yq yr ys yt yu yv yw yx yy yz',\n",
       " 'za zb zc zd ze zf zg zh zi zj zk zl zm zn zo zp zq zr zs zt zu zv zw zx zy zz']"
      ]
     },
     "execution_count": 25,
     "metadata": {},
     "output_type": "execute_result"
    }
   ],
   "source": [
    "#тут решение функция поочередного выводы строк из 2х файлов\n",
    "def file_merge(file1, file2):\n",
    "    # Открываем файлы и создаем список для записи по строкам:\n",
    "    file1 = open(file1)\n",
    "    file2 = open(file2)\n",
    "    save_lines = []\n",
    "\n",
    "    # Сшиваем два файла через zip и итератор автоматически записывает в список строки по очереди из двуз файлов:\n",
    "    for x, y in zip(file1, file2):\n",
    "        save_lines.append(y.strip())\n",
    "        save_lines.append(x.strip())\n",
    "        \n",
    "    # Закрываем файлы и возвращаем наполненный список:\n",
    "    file1.close()\n",
    "    file2.close()\n",
    "    return save_lines\n",
    "\n",
    "file_merge('file2n1.txt', 'file2n.txt')"
   ]
  },
  {
   "cell_type": "markdown",
   "id": "741a5308-88e3-489e-adc4-72ca1736ca12",
   "metadata": {},
   "source": [
    "## 4. Итераторы Генераторы"
   ]
  },
  {
   "cell_type": "markdown",
   "id": "b4893684-f90e-4a0c-9b5b-5dfaf593369c",
   "metadata": {},
   "source": [
    "Немного теории можно прочитать на нашей wiki  - https://github.com/amtsu/team22/wiki/Python:-Итераторы"
   ]
  },
  {
   "cell_type": "markdown",
   "id": "8dcee596-b425-43c9-8b1d-85171ac14017",
   "metadata": {},
   "source": [
    "1. Выполните ячейку и объясните результат выполнения. Потом поправьте чтобы сработали оба принта."
   ]
  },
  {
   "cell_type": "code",
   "execution_count": 9,
   "id": "d5b7616b-8383-4b40-9212-e8967ed12875",
   "metadata": {},
   "outputs": [
    {
     "name": "stdout",
     "output_type": "stream",
     "text": [
      "Все пары кортежей - <zip object at 0x7fc6c0f52140>\n",
      "Хочу вывести первую пару - (1, 3)\n"
     ]
    }
   ],
   "source": [
    "# Тут несколько проблем:\n",
    "#1)Судя по ошибке, f-строка не может воспроизвести содержимое функции zip.\n",
    "#2)После воспроизведения ab в первом принте, итерация заканчивается, и во втором принте нечего итерировать.\n",
    "a = [1,2,3]\n",
    "b = [3,2,1]\n",
    "ab = zip(a,b)\n",
    "print(f'Все пары кортежей - {ab}')\n",
    "print(f'Хочу вывести первую пару - {next(ab)}')"
   ]
  },
  {
   "cell_type": "code",
   "execution_count": 49,
   "id": "662f5240-4891-4315-8966-310582a22814",
   "metadata": {},
   "outputs": [
    {
     "name": "stdout",
     "output_type": "stream",
     "text": [
      "Все пары кортежей -  (1, 3) (2, 2) (3, 1)\n"
     ]
    },
    {
     "ename": "StopIteration",
     "evalue": "",
     "output_type": "error",
     "traceback": [
      "\u001b[0;31m---------------------------------------------------------------------------\u001b[0m",
      "\u001b[0;31mStopIteration\u001b[0m                             Traceback (most recent call last)",
      "Cell \u001b[0;32mIn[49], line 5\u001b[0m\n\u001b[1;32m      3\u001b[0m ab \u001b[38;5;241m=\u001b[39m \u001b[38;5;28mzip\u001b[39m(a,b)\n\u001b[1;32m      4\u001b[0m \u001b[38;5;28mprint\u001b[39m(\u001b[38;5;124m\"\u001b[39m\u001b[38;5;124mВсе пары кортежей - \u001b[39m\u001b[38;5;124m\"\u001b[39m, \u001b[38;5;241m*\u001b[39mab)\n\u001b[0;32m----> 5\u001b[0m \u001b[38;5;28mprint\u001b[39m(\u001b[38;5;124mf\u001b[39m\u001b[38;5;124m'\u001b[39m\u001b[38;5;124mХочу вывести первую пару - \u001b[39m\u001b[38;5;132;01m{\u001b[39;00m\u001b[38;5;28;43mnext\u001b[39;49m\u001b[43m(\u001b[49m\u001b[43mab\u001b[49m\u001b[43m)\u001b[49m\u001b[38;5;132;01m}\u001b[39;00m\u001b[38;5;124m'\u001b[39m)\n",
      "\u001b[0;31mStopIteration\u001b[0m: "
     ]
    }
   ],
   "source": [
    "a = [1,2,3]\n",
    "b = [3,2,1]\n",
    "ab = zip(a,b)\n",
    "print(\"Все пары кортежей - \", *ab)\n",
    "print(f'Хочу вывести первую пару - {next(ab)}')"
   ]
  },
  {
   "cell_type": "code",
   "execution_count": 21,
   "id": "0f136abb-905e-404e-94f3-834c21c1c6eb",
   "metadata": {},
   "outputs": [
    {
     "name": "stdout",
     "output_type": "stream",
     "text": [
      "Все пары кортежей -  (1, 3) (2, 2) (3, 1)\n",
      "Хочу вывести первую пару - (1, 3)\n",
      "Хочу вывести первую пару - (2, 2)\n",
      "Хочу вывести первую пару - (3, 1)\n"
     ]
    },
    {
     "ename": "StopIteration",
     "evalue": "",
     "output_type": "error",
     "traceback": [
      "\u001b[0;31m---------------------------------------------------------------------------\u001b[0m",
      "\u001b[0;31mStopIteration\u001b[0m                             Traceback (most recent call last)",
      "Cell \u001b[0;32mIn[21], line 9\u001b[0m\n\u001b[1;32m      7\u001b[0m \u001b[38;5;28mprint\u001b[39m(\u001b[38;5;124mf\u001b[39m\u001b[38;5;124m'\u001b[39m\u001b[38;5;124mХочу вывести первую пару - \u001b[39m\u001b[38;5;132;01m{\u001b[39;00m\u001b[38;5;28mnext\u001b[39m(ab)\u001b[38;5;132;01m}\u001b[39;00m\u001b[38;5;124m'\u001b[39m)\n\u001b[1;32m      8\u001b[0m \u001b[38;5;28mprint\u001b[39m(\u001b[38;5;124mf\u001b[39m\u001b[38;5;124m'\u001b[39m\u001b[38;5;124mХочу вывести первую пару - \u001b[39m\u001b[38;5;132;01m{\u001b[39;00m\u001b[38;5;28mnext\u001b[39m(ab)\u001b[38;5;132;01m}\u001b[39;00m\u001b[38;5;124m'\u001b[39m)\n\u001b[0;32m----> 9\u001b[0m \u001b[38;5;28mprint\u001b[39m(\u001b[38;5;124mf\u001b[39m\u001b[38;5;124m'\u001b[39m\u001b[38;5;124mХочу вывести первую пару - \u001b[39m\u001b[38;5;132;01m{\u001b[39;00m\u001b[38;5;28;43mnext\u001b[39;49m\u001b[43m(\u001b[49m\u001b[43mab\u001b[49m\u001b[43m)\u001b[49m\u001b[38;5;132;01m}\u001b[39;00m\u001b[38;5;124m'\u001b[39m)\n\u001b[1;32m     10\u001b[0m ab \u001b[38;5;241m=\u001b[39m \u001b[38;5;28mzip\u001b[39m(a,b)\n\u001b[1;32m     11\u001b[0m \u001b[38;5;28;01mfor\u001b[39;00m x \u001b[38;5;129;01min\u001b[39;00m ab:\n",
      "\u001b[0;31mStopIteration\u001b[0m: "
     ]
    }
   ],
   "source": [
    "a = [1,2,3]\n",
    "b = [3,2,1]\n",
    "ab = zip(a,b)\n",
    "print(\"Все пары кортежей - \", *ab)\n",
    "ab = zip(a,b)\n",
    "print(f'Хочу вывести первую пару - {next(ab)}')\n",
    "\n",
    "ab = zip(a,b)\n",
    "for x in ab:\n",
    "    print(x)"
   ]
  },
  {
   "cell_type": "code",
   "execution_count": 22,
   "id": "e7bef96e-bc88-4609-8304-fd3fbb1f58d0",
   "metadata": {},
   "outputs": [
    {
     "name": "stdout",
     "output_type": "stream",
     "text": [
      "(1, 3)\n",
      "(2, 2)\n",
      "(3, 1)\n"
     ]
    }
   ],
   "source": [
    "ab = zip(a,b)\n",
    "for x in ab:\n",
    "    print(x)"
   ]
  },
  {
   "cell_type": "markdown",
   "id": "650a910e-fe5c-4ad1-9401-70d96d53ac3b",
   "metadata": {},
   "source": [
    "2. Возьмите из 1.1 массив с английским алфавитом, и выведите первые 5 элементов с помощью next()"
   ]
  },
  {
   "cell_type": "code",
   "execution_count": 18,
   "id": "596660d9-d8e9-40f2-abe9-200c678c4699",
   "metadata": {},
   "outputs": [
    {
     "name": "stdout",
     "output_type": "stream",
     "text": [
      "a\n",
      "b\n",
      "c\n",
      "d\n",
      "e\n"
     ]
    }
   ],
   "source": [
    "# решение к заданию 4.2 тут\n",
    "a_iter = iter(a)\n",
    "print (next(a_iter))\n",
    "print (next(a_iter))\n",
    "print (next(a_iter))\n",
    "print (next(a_iter))\n",
    "print (next(a_iter))"
   ]
  },
  {
   "cell_type": "markdown",
   "id": "0ceb98e0-c916-4ccd-9c17-1ae539c19586",
   "metadata": {},
   "source": [
    "3. Проверить функции list(), open(), zip(),  - является ли то, что они выдают итератором"
   ]
  },
  {
   "cell_type": "code",
   "execution_count": 17,
   "id": "83737c01-a1fd-4e3d-b367-c0416d094aa6",
   "metadata": {},
   "outputs": [
    {
     "ename": "TypeError",
     "evalue": "'list' object is not an iterator",
     "output_type": "error",
     "traceback": [
      "\u001b[0;31m---------------------------------------------------------------------------\u001b[0m",
      "\u001b[0;31mTypeError\u001b[0m                                 Traceback (most recent call last)",
      "Cell \u001b[0;32mIn[17], line 4\u001b[0m\n\u001b[1;32m      2\u001b[0m a \u001b[38;5;241m=\u001b[39m \u001b[38;5;124m'\u001b[39m\u001b[38;5;124m12345\u001b[39m\u001b[38;5;124m'\u001b[39m\n\u001b[1;32m      3\u001b[0m x \u001b[38;5;241m=\u001b[39m \u001b[38;5;28mlist\u001b[39m(a)\n\u001b[0;32m----> 4\u001b[0m \u001b[38;5;28;43mnext\u001b[39;49m\u001b[43m(\u001b[49m\u001b[43mx\u001b[49m\u001b[43m)\u001b[49m\n",
      "\u001b[0;31mTypeError\u001b[0m: 'list' object is not an iterator"
     ]
    }
   ],
   "source": [
    "#решение к заданию 4.3 тут\n",
    "a = '12345'\n",
    "x = list(a)\n",
    "next(x)"
   ]
  },
  {
   "cell_type": "code",
   "execution_count": 21,
   "id": "e49fcbba-3ae0-414a-827c-39f2a33e2d3e",
   "metadata": {},
   "outputs": [
    {
     "name": "stdout",
     "output_type": "stream",
     "text": [
      "(1, 3)\n"
     ]
    }
   ],
   "source": [
    "a = [1,2,3]\n",
    "b = [3,2,1]\n",
    "ab = zip(a,b)\n",
    "print (next(ab))"
   ]
  },
  {
   "cell_type": "code",
   "execution_count": 25,
   "id": "f7fac300-64ad-4d63-93a0-8fe8cc1fe363",
   "metadata": {},
   "outputs": [
    {
     "name": "stdout",
     "output_type": "stream",
     "text": [
      "aa ab ac ad ae af ag ah ai aj ak al am an ao ap aq ar as at au av aw ax ay az\n",
      "\n",
      "ba bb bc bd be bf bg bh bi bj bk bl bm bn bo bp bq br bs bt bu bv bw bx by bz\n",
      "\n"
     ]
    }
   ],
   "source": [
    "opened_file = open('first.txt')\n",
    "print (next(opened_file))\n",
    "print (next(opened_file))\n",
    "opened_file.close()"
   ]
  },
  {
   "cell_type": "code",
   "execution_count": 24,
   "id": "d7acb4bb-e22b-46b3-b7bb-7389abd06930",
   "metadata": {},
   "outputs": [],
   "source": [
    "# list() не является итератором. open() и zip() - итераторы"
   ]
  },
  {
   "cell_type": "markdown",
   "id": "cd2dbb3a-c53a-454f-9ead-3150afb1360b",
   "metadata": {},
   "source": [
    "4. Как мы проверили в задание 4.4 функция open тоже реализует протокл итератора. Возьмите файл с двухбуквенными сочетаниями из задания 3.1 и выведите все его строки с помощью итератора"
   ]
  },
  {
   "cell_type": "code",
   "execution_count": 32,
   "id": "544672fd-85db-4a72-bb9d-b4a43e46817f",
   "metadata": {},
   "outputs": [
    {
     "name": "stdout",
     "output_type": "stream",
     "text": [
      "aa ab ac ad ae af ag ah ai aj ak al am an ao ap aq ar as at au av aw ax ay az\n",
      "\n",
      "ba bb bc bd be bf bg bh bi bj bk bl bm bn bo bp bq br bs bt bu bv bw bx by bz\n",
      "\n",
      "ca cb cc cd ce cf cg ch ci cj ck cl cm cn co cp cq cr cs ct cu cv cw cx cy cz\n",
      "\n",
      "da db dc dd de df dg dh di dj dk dl dm dn do dp dq dr ds dt du dv dw dx dy dz\n",
      "\n",
      "ea eb ec ed ee ef eg eh ei ej ek el em en eo ep eq er es et eu ev ew ex ey ez\n",
      "\n",
      "fa fb fc fd fe ff fg fh fi fj fk fl fm fn fo fp fq fr fs ft fu fv fw fx fy fz\n",
      "\n",
      "ga gb gc gd ge gf gg gh gi gj gk gl gm gn go gp gq gr gs gt gu gv gw gx gy gz\n",
      "\n",
      "ha hb hc hd he hf hg hh hi hj hk hl hm hn ho hp hq hr hs ht hu hv hw hx hy hz\n",
      "\n",
      "ia ib ic id ie if ig ih ii ij ik il im in io ip iq ir is it iu iv iw ix iy iz\n",
      "\n",
      "ja jb jc jd je jf jg jh ji jj jk jl jm jn jo jp jq jr js jt ju jv jw jx jy jz\n",
      "\n",
      "ka kb kc kd ke kf kg kh ki kj kk kl km kn ko kp kq kr ks kt ku kv kw kx ky kz\n",
      "\n",
      "la lb lc ld le lf lg lh li lj lk ll lm ln lo lp lq lr ls lt lu lv lw lx ly lz\n",
      "\n",
      "ma mb mc md me mf mg mh mi mj mk ml mm mn mo mp mq mr ms mt mu mv mw mx my mz\n",
      "\n",
      "na nb nc nd ne nf ng nh ni nj nk nl nm nn no np nq nr ns nt nu nv nw nx ny nz\n",
      "\n",
      "oa ob oc od oe of og oh oi oj ok ol om on oo op oq or os ot ou ov ow ox oy oz\n",
      "\n",
      "pa pb pc pd pe pf pg ph pi pj pk pl pm pn po pp pq pr ps pt pu pv pw px py pz\n",
      "\n",
      "qa qb qc qd qe qf qg qh qi qj qk ql qm qn qo qp qq qr qs qt qu qv qw qx qy qz\n",
      "\n",
      "ra rb rc rd re rf rg rh ri rj rk rl rm rn ro rp rq rr rs rt ru rv rw rx ry rz\n",
      "\n",
      "sa sb sc sd se sf sg sh si sj sk sl sm sn so sp sq sr ss st su sv sw sx sy sz\n",
      "\n",
      "ta tb tc td te tf tg th ti tj tk tl tm tn to tp tq tr ts tt tu tv tw tx ty tz\n",
      "\n",
      "ua ub uc ud ue uf ug uh ui uj uk ul um un uo up uq ur us ut uu uv uw ux uy uz\n",
      "\n",
      "va vb vc vd ve vf vg vh vi vj vk vl vm vn vo vp vq vr vs vt vu vv vw vx vy vz\n",
      "\n",
      "wa wb wc wd we wf wg wh wi wj wk wl wm wn wo wp wq wr ws wt wu wv ww wx wy wz\n",
      "\n",
      "xa xb xc xd xe xf xg xh xi xj xk xl xm xn xo xp xq xr xs xt xu xv xw xx xy xz\n",
      "\n",
      "ya yb yc yd ye yf yg yh yi yj yk yl ym yn yo yp yq yr ys yt yu yv yw yx yy yz\n",
      "\n",
      "za zb zc zd ze zf zg zh zi zj zk zl zm zn zo zp zq zr zs zt zu zv zw zx zy zz\n",
      "\n"
     ]
    },
    {
     "ename": "StopIteration",
     "evalue": "",
     "output_type": "error",
     "traceback": [
      "\u001b[0;31m---------------------------------------------------------------------------\u001b[0m",
      "\u001b[0;31mStopIteration\u001b[0m                             Traceback (most recent call last)",
      "Cell \u001b[0;32mIn[32], line 4\u001b[0m\n\u001b[1;32m      2\u001b[0m file1 \u001b[38;5;241m=\u001b[39m \u001b[38;5;28mopen\u001b[39m(\u001b[38;5;124m'\u001b[39m\u001b[38;5;124mfirst.txt\u001b[39m\u001b[38;5;124m'\u001b[39m)\n\u001b[1;32m      3\u001b[0m \u001b[38;5;28;01mfor\u001b[39;00m x \u001b[38;5;129;01min\u001b[39;00m \u001b[38;5;28mrange\u001b[39m(\u001b[38;5;241m100\u001b[39m):\n\u001b[0;32m----> 4\u001b[0m     \u001b[38;5;28mprint\u001b[39m (\u001b[38;5;28;43mnext\u001b[39;49m\u001b[43m(\u001b[49m\u001b[43mfile1\u001b[49m\u001b[43m)\u001b[49m)\n",
      "\u001b[0;31mStopIteration\u001b[0m: "
     ]
    }
   ],
   "source": [
    "#решение для вывода содержимого файла с помощью итератора тут\n",
    "file1 = open('first.txt')\n",
    "for x in range(100):\n",
    "    print (next(file1))"
   ]
  },
  {
   "cell_type": "markdown",
   "id": "638bdadc-f410-4a8e-a392-6c1f3e283faf",
   "metadata": {},
   "source": [
    "5. Объяснить, чем отличается ячейка-раз от ячеек два, три, четыре и что за магия там происходит"
   ]
  },
  {
   "cell_type": "code",
   "execution_count": null,
   "id": "15e5c560-64b8-4d6a-a164-9b49c2cfb39d",
   "metadata": {},
   "outputs": [],
   "source": [
    "#ответ к заданию 4.5 тут\n",
    "# В первом случае мы создаем список, который остается в памяти и последующие принты на него ссылаются.\n",
    "# В остальных случаях в круглых скобках мы создаем генератор, которы по мере использования принтами исчерпывается."
   ]
  },
  {
   "cell_type": "code",
   "execution_count": 10,
   "id": "0fa630b8-1a34-46a9-a0c0-f1622f3d39dd",
   "metadata": {},
   "outputs": [
    {
     "name": "stdout",
     "output_type": "stream",
     "text": [
      "True\n",
      "1 4 9 16 25\n",
      "True\n",
      "True\n",
      "1 4 9 16 25\n"
     ]
    }
   ],
   "source": [
    "#ячейка-раз\n",
    "numbers = [1,2,3,4,5]\n",
    "squared_numbers = [number**2 for number in numbers]\n",
    "print(4 in squared_numbers)\n",
    "print(*squared_numbers)\n",
    "print(4 in squared_numbers)\n",
    "print(4 in squared_numbers)\n",
    "print(*squared_numbers)"
   ]
  },
  {
   "cell_type": "code",
   "execution_count": 6,
   "id": "f05563e9-cbad-44d1-85b1-3e551823315f",
   "metadata": {},
   "outputs": [
    {
     "name": "stdout",
     "output_type": "stream",
     "text": [
      "True\n",
      "True\n",
      "False\n",
      "False\n"
     ]
    }
   ],
   "source": [
    "#ячейка-два\n",
    "numbers = [1,2,3,4,5]\n",
    "squared_numbers = (number**2 for number in numbers)\n",
    "print(1 in squared_numbers)\n",
    "print(4 in squared_numbers)\n",
    "print(4 in squared_numbers)\n",
    "print(1 in squared_numbers)"
   ]
  },
  {
   "cell_type": "code",
   "execution_count": 7,
   "id": "10f00426-11fe-42da-82bd-ae40aa602e00",
   "metadata": {},
   "outputs": [
    {
     "name": "stdout",
     "output_type": "stream",
     "text": [
      "1 4 9 16 25\n",
      "\n"
     ]
    }
   ],
   "source": [
    "#ячейка-три\n",
    "numbers = [1,2,3,4,5]\n",
    "squared_numbers = (number**2 for number in numbers)\n",
    "print(*squared_numbers)\n",
    "print(*squared_numbers)"
   ]
  },
  {
   "cell_type": "code",
   "execution_count": 8,
   "id": "e5d7ec3d-29b3-4f61-a66f-986925d9a41c",
   "metadata": {},
   "outputs": [
    {
     "name": "stdout",
     "output_type": "stream",
     "text": [
      "True\n",
      "9 16 25\n"
     ]
    }
   ],
   "source": [
    "#ячейка-четыре\n",
    "numbers = [1,2,3,4,5]\n",
    "squared_numbers = (number**2 for number in numbers)\n",
    "print(4 in squared_numbers)\n",
    "print(*squared_numbers)"
   ]
  },
  {
   "cell_type": "markdown",
   "id": "384e32fe-50ee-4c4a-b939-79344419f4b6",
   "metadata": {},
   "source": [
    "6. Напишите функцию yrange(n) аналогичную по работе функции range, которая по запросу next  выдает следующий элмент последовательности от 0 до n"
   ]
  },
  {
   "cell_type": "code",
   "execution_count": 35,
   "id": "bb70ddd1-abc5-4182-be66-83ae0db8ff6d",
   "metadata": {},
   "outputs": [],
   "source": [
    "#решение задания 4.6 тут\n",
    "def yrange(n):\n",
    "    range_list = []\n",
    "    for x in range(0, n):\n",
    "        range_list.append(x)\n",
    "    y = iter(range_list)\n",
    "    print(range_list)\n",
    "    return y\n",
    "\n"
   ]
  },
  {
   "cell_type": "code",
   "execution_count": 36,
   "id": "2af1ce4f-de47-4b04-8b60-77228d46e8cc",
   "metadata": {},
   "outputs": [
    {
     "name": "stdout",
     "output_type": "stream",
     "text": [
      "[0, 1, 2, 3, 4, 5, 6, 7, 8, 9, 10, 11, 12, 13, 14, 15, 16, 17, 18, 19]\n",
      "0\n",
      "1\n",
      "2\n",
      "3\n",
      "4\n",
      "5\n",
      "6\n",
      "7\n",
      "8\n",
      "9\n"
     ]
    }
   ],
   "source": [
    "#проверка тут\n",
    "a = yrange(20)\n",
    "#код должен вывести цифры от 0 до 9\n",
    "for i in range(10):\n",
    "    print(next(a))"
   ]
  },
  {
   "cell_type": "markdown",
   "id": "8c7244d3-e78d-415c-80d6-27aeeba6430b",
   "metadata": {},
   "source": [
    "7. Создайте массив alph - из букв английского алфавита(можно взять из задания 1.1), возьмите массив с числами из задания 5.3.\n",
    "\n",
    "Напишите функцию которая принимает на вход два массива и выдает третий с сочетаниями букв и их номеров (a1, b2 и тд) (склеивайте массивы с помощью zip)"
   ]
  },
  {
   "cell_type": "code",
   "execution_count": 66,
   "id": "b3d6025b-056a-4e0e-b14f-244a4d800096",
   "metadata": {},
   "outputs": [
    {
     "name": "stdout",
     "output_type": "stream",
     "text": [
      "a 1,b 2,c 3,d 4,e 5,f 6,g 7,h 8,i 9,j 10,k 11,l 12,m 13,n 14,o 15,p 16,q 17,r 18,s 19,t 20,u 21,v 22,w 23,x 24,y 25,z 26,"
     ]
    }
   ],
   "source": [
    "alph = a\n",
    "def zipper(letters, numbers):\n",
    "    x = zip(letters, numbers)\n",
    "    for y in x:\n",
    "        print(*y, end=',')\n",
    "\n",
    "zipper(alph, list5_3)"
   ]
  },
  {
   "cell_type": "markdown",
   "id": "2415c89c-540e-455a-b613-39768b4a279e",
   "metadata": {},
   "source": [
    "## 5. List comprehenshion"
   ]
  },
  {
   "cell_type": "markdown",
   "id": "fc5f1f33-0672-403a-8737-c3ca6c5356ba",
   "metadata": {},
   "source": [
    "Немного теории можно прочитать на нашей wiki - https://github.com/amtsu/team22/wiki/Python:-Генератор-списков"
   ]
  },
  {
   "cell_type": "markdown",
   "id": "be7d53ee-2fa7-4ef2-93b0-703f59c4d49d",
   "metadata": {},
   "source": [
    "1. Cформировать список из квадратов целых чисел от 0 до N - обычными циклами и условиями"
   ]
  },
  {
   "cell_type": "code",
   "execution_count": 44,
   "id": "f4c2945d-1b56-45f2-b8e4-8edc6ade6323",
   "metadata": {},
   "outputs": [
    {
     "name": "stdout",
     "output_type": "stream",
     "text": [
      "[1, 1, 4, 27, 256, 3125]\n"
     ]
    }
   ],
   "source": [
    "list5_1 = []\n",
    "for x in range(6):\n",
    "    list5_1.append(x**x)\n",
    "print(list5_1)"
   ]
  },
  {
   "cell_type": "markdown",
   "id": "92cfcb85-4c53-4e19-bf58-7fa74b0d3b7c",
   "metadata": {},
   "source": [
    "2. Cформировать список из квадратов целых чисел от 0 до N - с помощью list-comprehenshion"
   ]
  },
  {
   "cell_type": "code",
   "execution_count": 45,
   "id": "ae1258db-b61b-4c14-a3d7-db11c66ceb89",
   "metadata": {},
   "outputs": [
    {
     "name": "stdout",
     "output_type": "stream",
     "text": [
      "[1, 1, 4, 27, 256, 3125]\n"
     ]
    }
   ],
   "source": [
    "list5_2 = [x**x for x in range(6)]\n",
    "print(list5_2)"
   ]
  },
  {
   "cell_type": "markdown",
   "id": "2987e607-a9f7-4f5b-b9cf-4e12cf8879f5",
   "metadata": {},
   "source": [
    "3. Cформировать список из чисел от 1 до 26 с помощью генератора массивов"
   ]
  },
  {
   "cell_type": "code",
   "execution_count": 46,
   "id": "ffe0727e-e057-4bcb-927a-ec75a2175def",
   "metadata": {},
   "outputs": [
    {
     "name": "stdout",
     "output_type": "stream",
     "text": [
      "[1, 2, 3, 4, 5, 6, 7, 8, 9, 10, 11, 12, 13, 14, 15, 16, 17, 18, 19, 20, 21, 22, 23, 24, 25, 26]\n"
     ]
    }
   ],
   "source": [
    "list5_3 = [x for x in range(1,27)]\n",
    "print(list5_3)"
   ]
  },
  {
   "cell_type": "markdown",
   "id": "42279072-b92b-4222-bf35-5ed51ce8ffb7",
   "metadata": {},
   "source": [
    "3. Cформировать список из квадратов целых чисел от 0 до N, только если эти значения являются четными - с помощью list-comprehenshion"
   ]
  },
  {
   "cell_type": "code",
   "execution_count": 61,
   "id": "67191182-a5d3-429f-b0f9-d93152f80181",
   "metadata": {},
   "outputs": [
    {
     "name": "stdout",
     "output_type": "stream",
     "text": [
      "[1, 4, 256, 46656]\n"
     ]
    }
   ],
   "source": [
    "even_list5_3 = [x**x for x in range(7) if x % 2 == 0]\n",
    "print(even_list5_3)"
   ]
  },
  {
   "cell_type": "markdown",
   "id": "20ec6862-954a-4db0-8d18-12dbeb87ea65",
   "metadata": {},
   "source": [
    "4. Программа должна считывать первую строку с целым числом X. А потом должна запросить у пользователя X раз ввести целое число. На выходе напечатать список , в котором будут только числа, значение которых больше среднего арифметического всех введённых чисел. (Считывание производить с помощью list comprehension)"
   ]
  },
  {
   "cell_type": "code",
   "execution_count": 11,
   "id": "0a927f76-d2c5-4952-ad22-b468e0f20379",
   "metadata": {},
   "outputs": [
    {
     "name": "stdin",
     "output_type": "stream",
     "text": [
      "0 12\n",
      "1 35\n",
      "2 44\n",
      "3 3\n",
      "4 12\n",
      "5 21\n",
      "6 2\n",
      "7 3\n",
      "8 4\n",
      "9 57\n"
     ]
    },
    {
     "name": "stdout",
     "output_type": "stream",
     "text": [
      "[35, 44, 21, 57]\n"
     ]
    }
   ],
   "source": [
    "def crazy_program(x):\n",
    "    my_list = [int(input(y)) for y in range(0, x)]\n",
    "    z = sum(my_list) / len(my_list)\n",
    "    print([w for w in my_list if w > z])\n",
    "\n",
    "crazy_program(10)"
   ]
  },
  {
   "cell_type": "markdown",
   "id": "e78a876a-f98e-48d2-837a-8cd77a59d117",
   "metadata": {},
   "source": [
    "5. На вход подаются два числа через пробел, обозначающие размеры матрицы (m - количество строк, n - количество столбцов). Создать матрицу m на n, заполненую нулями. Сделать красивый вывод матрицы."
   ]
  },
  {
   "cell_type": "code",
   "execution_count": 99,
   "id": "b4c62e97-e428-44ee-bada-c2f85a5b872e",
   "metadata": {},
   "outputs": [
    {
     "name": "stdin",
     "output_type": "stream",
     "text": [
      "введите количество строк 3\n",
      "введите количество столбцов 3\n"
     ]
    },
    {
     "name": "stdout",
     "output_type": "stream",
     "text": [
      "0 0 0\n",
      "0 0 0\n",
      "0 0 0\n"
     ]
    }
   ],
   "source": [
    "m = int(input('введите количество строк'))\n",
    "n = int(input('введите количество столбцов'))\n",
    "matrix = [['0' for x in range(m)]for y in range(n)]\n",
    "print(*(' '.join(x)for x in matrix), sep='\\n')\n"
   ]
  },
  {
   "cell_type": "markdown",
   "id": "4e77b96e-44c7-4f7f-a342-a8fca9098a1c",
   "metadata": {},
   "source": [
    "6. На вход подаются два числа через пробел, обозначающие размеры матрицы (m - количество строк, n - количество столбцов). Создать матрицу m на n, заполненую координатами элементов матрицы. (те для первого элемента это будет (0,0) , для второго (0,1) и так далее) Сделать красивый вывод матрицы."
   ]
  },
  {
   "cell_type": "code",
   "execution_count": 30,
   "id": "da6aa009-20bf-45f9-85ba-c463bd064570",
   "metadata": {},
   "outputs": [
    {
     "name": "stdin",
     "output_type": "stream",
     "text": [
      "введите количество строк 4\n",
      "введите количество столбцов 5\n"
     ]
    },
    {
     "name": "stdout",
     "output_type": "stream",
     "text": [
      "0,0 0,1 0,2 0,3\n",
      "1,0 1,1 1,2 1,3\n",
      "2,0 2,1 2,2 2,3\n",
      "3,0 3,1 3,2 3,3\n",
      "4,0 4,1 4,2 4,3\n"
     ]
    },
    {
     "data": {
      "text/plain": [
       "[['0,0', '0,1', '0,2', '0,3'],\n",
       " ['1,0', '1,1', '1,2', '1,3'],\n",
       " ['2,0', '2,1', '2,2', '2,3'],\n",
       " ['3,0', '3,1', '3,2', '3,3'],\n",
       " ['4,0', '4,1', '4,2', '4,3']]"
      ]
     },
     "execution_count": 30,
     "metadata": {},
     "output_type": "execute_result"
    }
   ],
   "source": [
    "m = int(input('введите количество строк'))\n",
    "n = int(input('введите количество столбцов'))\n",
    "matrix = [[str(y)+','+str(x) for x in range(m)]for y in range(n)]\n",
    "print(*(' '.join(x)for x in matrix), sep='\\n')\n",
    "matrix"
   ]
  },
  {
   "cell_type": "markdown",
   "id": "488ff7b9-60b2-4da7-bc9f-11f5c2db5e6d",
   "metadata": {},
   "source": [
    "7. Используя list comprehension, выберите из списка строки и добавьте их в первый массив; int, float во второй; в переменной my_list оставьте элементы, которые не вошли в первые два."
   ]
  },
  {
   "cell_type": "code",
   "execution_count": 15,
   "id": "5c1fbfae-3775-4357-a25c-530c4aa1c269",
   "metadata": {},
   "outputs": [
    {
     "name": "stdout",
     "output_type": "stream",
     "text": [
      "['Hello', 'World', 'Python', 'OpenAI', 'Artificial', 'Intelligence', 'Machine', 'Learning', 'Data', 'Science', 'Computer', 'Programming'] [42, 3.14, 2.71, 100, -3.0, -123, 0.007, 987654, 3.14159, -987, 0.123, 123456, 2.71828]\n",
      "True [1, 2, 3] {'key': 'value'} None False [4, 5, 6] {'foo': 'bar'} {'a': 1, 'b': 2} True [7, 8, 9] {'x': 10, 'y': 20} False [10, 20, 30] [11, 22, 33] {'alpha': 0, 'beta': 1} True [55, 66, 77]\n"
     ]
    }
   ],
   "source": [
    "my_list = [42, \"Hello\", 3.14, True, [1, 2, 3], {\"key\": \"value\"}, None, \"World\", 2.71, False, [4, 5, 6], {\"foo\": \"bar\"}, \"Python\", 100, -3.0, \"OpenAI\", {\"a\": 1, \"b\": 2}, True, [7, 8, 9], \"Artificial\", -123, 0.007, \"Intelligence\", {\"x\": 10, \"y\": 20}, False, [10, 20, 30], \"Machine\", 987654, 3.14159, \"Learning\", [11, 22, 33], \"Data\", -987, 0.123, \"Science\", {\"alpha\": 0, \"beta\": 1}, True, [55, 66, 77], \"Computer\", 123456, 2.71828, \"Programming\"]\n",
    "str_list = [x for x in my_list if type(x) == str]\n",
    "int_float_list = [x for x in my_list if type(x) == int or type(x) == float]\n",
    "print(*(str_list, int_float_list))\n",
    "my_list = [x for x in my_list if x not in (int_list + str_list)]\n",
    "print(*my_list)"
   ]
  },
  {
   "cell_type": "markdown",
   "id": "92e77527-80c3-4203-b762-6d28a7f7fc6a",
   "metadata": {},
   "source": [
    "8. Напишите в одну строку( один print) вывод списка из квадратов целых чисел от 0 до 20, каждое число должно быть в фигурных скобках, между числами должна быть двойная кавычка "
   ]
  },
  {
   "cell_type": "code",
   "execution_count": 35,
   "id": "4ab45e8b-12b6-4fa5-914d-6eec64f75b7a",
   "metadata": {},
   "outputs": [
    {
     "name": "stdout",
     "output_type": "stream",
     "text": [
      "{ 1 } \" { 1 } \" { 4 } \" { 2 7 } \" { 2 5 6 } \" { 3 1 2 5 } \" { 4 6 6 5 6 } \" { 8 2 3 5 4 3 } \" { 1 6 7 7 7 2 1 6 } \" { 3 8 7 4 2 0 4 8 9 } \" { 1 0 0 0 0 0 0 0 0 0 0 } \" { 2 8 5 3 1 1 6 7 0 6 1 1 } \" { 8 9 1 6 1 0 0 4 4 8 2 5 6 } \" { 3 0 2 8 7 5 1 0 6 5 9 2 2 5 3 } \" { 1 1 1 1 2 0 0 6 8 2 5 5 5 8 0 1 6 } \" { 4 3 7 8 9 3 8 9 0 3 8 0 8 5 9 3 7 5 } \" { 1 8 4 4 6 7 4 4 0 7 3 7 0 9 5 5 1 6 1 6 } \" { 8 2 7 2 4 0 2 6 1 8 8 6 3 3 6 7 6 4 1 7 7 } \" { 3 9 3 4 6 4 0 8 0 7 5 2 9 6 5 3 7 5 7 5 4 2 4 } \" { 1 9 7 8 4 1 9 6 5 5 6 6 0 3 1 3 5 8 9 1 2 3 9 7 9 }\n"
     ]
    }
   ],
   "source": [
    "hop = []\n",
    "for x in range(20):\n",
    "    hop.append(str({x**x}))\n",
    "print(*('\"'.join(hop)))"
   ]
  }
 ],
 "metadata": {
  "kernelspec": {
   "display_name": "Python 3 (ipykernel)",
   "language": "python",
   "name": "python3"
  },
  "language_info": {
   "codemirror_mode": {
    "name": "ipython",
    "version": 3
   },
   "file_extension": ".py",
   "mimetype": "text/x-python",
   "name": "python",
   "nbconvert_exporter": "python",
   "pygments_lexer": "ipython3",
   "version": "3.10.10"
  }
 },
 "nbformat": 4,
 "nbformat_minor": 5
}
