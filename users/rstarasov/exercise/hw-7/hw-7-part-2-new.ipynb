{
 "cells": [
  {
   "cell_type": "markdown",
   "id": "8b297e4b-5c57-4031-8477-6852f9969a5a",
   "metadata": {},
   "source": [
    "# Упражнения  1"
   ]
  },
  {
   "cell_type": "markdown",
   "id": "6d1f2730-c3fe-48c4-8146-52ea02dee954",
   "metadata": {},
   "source": [
    "#1. Любимые вещи \n",
    "\n",
    "Создайте список своих любимых развлечений и сохраните его в переменной games. Теперь создайте список любимых лакомств, сохранив его в переменной foods. Объедините два этих списка, сохранив результат в переменной favorites, и напечатайте значение этой переменной. "
   ]
  },
  {
   "cell_type": "code",
   "execution_count": 2,
   "id": "e11e1efd-5f20-4cc4-b84d-7db37740c930",
   "metadata": {},
   "outputs": [
    {
     "name": "stdout",
     "output_type": "stream",
     "text": [
      "['video games', 'camping', 'books', 'hiking', 'carbonara', 'croissants', 'bananas', 'boiled potato']\n"
     ]
    }
   ],
   "source": [
    "games = ['video games', 'camping', 'books', 'hiking']\n",
    "foods = ['carbonara', 'croissants', 'bananas', 'boiled potato']\n",
    "favorites = games + foods\n",
    "print(favorites)"
   ]
  },
  {
   "cell_type": "markdown",
   "id": "f55e90dd-f196-4444-9ade-271f2a3035e3",
   "metadata": {},
   "source": [
    "#2. Подсчет воинов \n",
    "\n",
    "Есть 3 дома, на крыше каждого из которых прячутся по 25 ниндзя, и есть 2 туннеля, в каждом из которых скрывается по 40 самураев. Сколько всего воинов решили устроить заварушку? (Ответ можно найти, введя в оболочке Python арифметическое выражение.) "
   ]
  },
  {
   "cell_type": "code",
   "execution_count": 3,
   "id": "6db2653b-86ec-4220-b28a-895c5ffc892d",
   "metadata": {},
   "outputs": [
    {
     "name": "stdout",
     "output_type": "stream",
     "text": [
      "155\n"
     ]
    }
   ],
   "source": [
    "#Ниндзя на крыше:\n",
    "roof = 25\n",
    "#Ниндзя в подвале:\n",
    "cellar = 40\n",
    "\n",
    "#считаем количество ниндзя на крышах и в подвалах:\n",
    "all_roof = roof * 3\n",
    "all_cellar = cellar * 2\n",
    "\n",
    "#считаем общее количество ниндзя:\n",
    "all_ninjas = all_cellar + all_roof\n",
    "\n",
    "#итог:\n",
    "print(all_ninjas)"
   ]
  },
  {
   "cell_type": "markdown",
   "id": "c0aed4b8-cfae-4122-a1a4-2ac301e230f3",
   "metadata": {},
   "source": [
    "#3. Приветствие \n",
    "\n",
    "Создайте две переменные: пусть одна хранит ваше имя, а другая фамилию. Теперь с помощью строки с метками %s напечатайте приветствие вроде такого: «Привет, Брандо Икетт!». "
   ]
  },
  {
   "cell_type": "code",
   "execution_count": 6,
   "id": "7a08da80-3a8f-4bba-b45b-70c33f9e0b28",
   "metadata": {},
   "outputs": [
    {
     "name": "stdout",
     "output_type": "stream",
     "text": [
      "Hello, Roman Tarasov!\n"
     ]
    }
   ],
   "source": [
    "name = 'Roman'\n",
    "surname = 'Tarasov'\n",
    "greeting = 'Hello, %s %s!' %(name, surname)\n",
    "\n",
    "print(greeting)"
   ]
  },
  {
   "cell_type": "markdown",
   "id": "a8184374-86ca-44d2-bd6d-7b8e977e1414",
   "metadata": {},
   "source": [
    "# Упражнения  2"
   ]
  },
  {
   "cell_type": "markdown",
   "id": "aff0b705-69b3-46a7-a507-84ef59251ed9",
   "metadata": {},
   "source": [
    "Решите эти задачи, используя конструкции if и условия. "
   ]
  },
  {
   "cell_type": "markdown",
   "id": "89d1f11b-2cc5-4c43-abfc-acd93c96af98",
   "metadata": {},
   "source": [
    "#1. Вы богаты? \n",
    "\n",
    "Как думаете, что делает этот код? Сначала попробуйте в этом разобраться, не вводя код в оболочку Python, а затем проверьте свой ответ. \n",
    "\n",
    "money = 2000\n",
    "if money > 1000:\n",
    "     print(\"Я богат!\")\n",
    "else: \n",
    "     print(\"Я не богат!\")\n",
    "     print(\"Может, когда-нибудь потом...\")"
   ]
  },
  {
   "cell_type": "code",
   "execution_count": 8,
   "id": "5d3f5818-3b85-4fbd-8ff9-4e52ed9a0cae",
   "metadata": {},
   "outputs": [
    {
     "name": "stdout",
     "output_type": "stream",
     "text": [
      "Я богат!\n"
     ]
    }
   ],
   "source": [
    "#Этот код сравнивает значение переменной money с значением 1000 и выводит принт \"Я богат!\", потому что значение money больше 1000\n",
    "money = 2000\n",
    "if money > 1000:\n",
    "    print('Я богат!')\n",
    "else:\n",
    "    print('Я не богат!')\n",
    "    print('Может, когда-нибудь потом...')"
   ]
  },
  {
   "cell_type": "markdown",
   "id": "1183331f-c46e-4893-bf55-2bdb670e255e",
   "metadata": {},
   "source": [
    "#2. Бисквитики! \n",
    "\n",
    "Создайте конструкцию if, которая проверяет, действительно ли количество бисквитов (которое задано в переменной twinkies) меньше 100 или больше 500. Если это условие выполняется, пусть ваша программа напечатает сообщение «Слишком мало или слишком много». "
   ]
  },
  {
   "cell_type": "code",
   "execution_count": 43,
   "id": "c817c9a7-e6f4-4c2d-9820-96905db85839",
   "metadata": {},
   "outputs": [
    {
     "name": "stdout",
     "output_type": "stream",
     "text": [
      "Слишком мало или слишком много\n",
      "Слишком мало или слишком многоооо\n"
     ]
    }
   ],
   "source": [
    "twinkies = 30\n",
    "if twinkies < 100 or twinkies > 500:\n",
    "    print('Слишком мало или слишком много')\n",
    "twinkies = 150\n",
    "if twinkies < 100 or twinkies > 500:\n",
    "    print('Слишком мало или слишком много')\n",
    "twinkies = 600\n",
    "if twinkies < 100 or twinkies > 500:\n",
    "    print('Слишком мало или слишком многоооо')"
   ]
  },
  {
   "cell_type": "markdown",
   "id": "fb539c2b-233a-4742-9b90-62d49976c1fc",
   "metadata": {},
   "source": [
    "#3. Подходящая сумма \n",
    "\n",
    "Создайте конструкцию if, которая проверяет, соответствует ли заданная в переменной money сумма денег диапазону значений от 100 до 500 или диапазону значений от 1000 до 5000. \n"
   ]
  },
  {
   "cell_type": "code",
   "execution_count": 10,
   "id": "c206339a-f4e7-4825-a703-04d3b3038ec9",
   "metadata": {},
   "outputs": [
    {
     "name": "stdout",
     "output_type": "stream",
     "text": [
      "in 1000 5000\n"
     ]
    }
   ],
   "source": [
    "if 100 < money < 500:\n",
    "    print('in 100 500')\n",
    "if 1000 < money < 5000:\n",
    "    print('in 1000 5000')"
   ]
  },
  {
   "cell_type": "markdown",
   "id": "b45acc03-9cac-488e-9e0a-7a1016d6ac44",
   "metadata": {},
   "source": [
    "#4. Я одолею этих ниндзя! \n",
    "\n",
    "Создайте конструкцию if, которая печатает строку «Их слишком много», если количество ниндзя (заданное в переменной ninjas) меньше 50, печатает «Будет непросто, но я с ними разделаюсь», если это количество меньше 30, и печатает «Я одолею этих ниндзя!», если количество меньше 10. Проверьте, как ваш код работает с таким значением: \n",
    "\n",
    "ninjas = 5 \n"
   ]
  },
  {
   "cell_type": "code",
   "execution_count": 13,
   "id": "54661b9f-6594-4888-9aa4-93d7a14a0f92",
   "metadata": {},
   "outputs": [
    {
     "name": "stdout",
     "output_type": "stream",
     "text": [
      "Я одолею этих ниндзя!\n"
     ]
    }
   ],
   "source": [
    "ninjas = 5\n",
    "if 50 > ninjas >30:\n",
    "    print('Их слишком много')\n",
    "if 30 > ninjas > 10:\n",
    "    print('Будет непросто, но я с ними разделаюсь')\n",
    "if 10 > ninjas:\n",
    "    print('Я одолею этих ниндзя!')"
   ]
  },
  {
   "cell_type": "markdown",
   "id": "a8ce929f-9301-4ef5-ba8b-995cdca327be",
   "metadata": {},
   "source": [
    "# Упражнения  3"
   ]
  },
  {
   "cell_type": "markdown",
   "id": "a329ee3c-f1ba-474e-8522-9c22cba41c39",
   "metadata": {},
   "source": [
    "#1. Цикл с приветом \n",
    "\n",
    "Как вы считаете, что делает эта программа? Сперва придумайте вариант ответа, а потом запустите код и проверьте, угадали ли вы. \n",
    "\n",
    "for x in range(0, 20):\n",
    "    print('привет %s' % x)\n",
    "    if x < 9:\n",
    "        break "
   ]
  },
  {
   "cell_type": "code",
   "execution_count": 14,
   "id": "70adc6f7-885b-4d8c-b98c-ea9fa5b3c85d",
   "metadata": {},
   "outputs": [
    {
     "name": "stdout",
     "output_type": "stream",
     "text": [
      "привет 0\n"
     ]
    }
   ],
   "source": [
    "#Кажется, программа напечатает принт 1 раз. Может, вообще сломается т.к. там пробел между % и х.\n",
    "for x in range(0, 20):\n",
    "    print('привет %s' % x)\n",
    "    if x < 9:\n",
    "        break"
   ]
  },
  {
   "cell_type": "markdown",
   "id": "aa377f2e-0bdd-4cc9-b37b-6e4afbc8403f",
   "metadata": {},
   "source": [
    "#2. Четные числа \n",
    "\n",
    "Создайте цикл, который печатает четные числа до тех пор, пока не выведет ваш возраст. Если ваш возраст — нечетное число, создайте цикл, который печатает нечетные числа до совпадения с возрастом. Программа должна выводить на экран нечто подобное: \n",
    "\n",
    "2 4 6 8 10 12 14 "
   ]
  },
  {
   "cell_type": "code",
   "execution_count": 11,
   "id": "e4e79c2a-50e9-4239-b10b-cafc50fec4bd",
   "metadata": {},
   "outputs": [
    {
     "name": "stdout",
     "output_type": "stream",
     "text": [
      "1\n",
      "3\n",
      "5\n",
      "7\n",
      "9\n",
      "11\n",
      "13\n",
      "15\n",
      "17\n",
      "19\n",
      "21\n",
      "23\n",
      "25\n",
      "27\n",
      "29\n",
      "31\n",
      "33\n"
     ]
    }
   ],
   "source": [
    "def age_cicle(age):\n",
    "    if age % 2 == 0:\n",
    "        for year in range(0, age):\n",
    "            if year % 2 == 0:\n",
    "                print (year)\n",
    "        print(age)\n",
    "    else:\n",
    "        for year in range(0, age):\n",
    "            if year % 2 != 0:\n",
    "                print (year)\n",
    "        print(age)\n",
    "\n",
    "age_cicle(33)"
   ]
  },
  {
   "cell_type": "markdown",
   "id": "cd4c3457-59d6-40e0-a108-563c4c77a537",
   "metadata": {},
   "source": [
    "#3. Пять любимых ингредиентов \n",
    "\n",
    "Создайте список с пятью разными ингредиентами для бутерброда, наподобие: \n",
    "\n",
    "ingredients = ['слизни', 'пиявки', 'катышки изпупка гориллы', 'брови гусеницы', 'пальцы многоножки'] \n",
    "\n",
    "Теперь создайте цикл, который печатает список ингредиентов с нумерацией: \n",
    "\n",
    "1 слизни\n",
    "2 пиявки\n",
    "3 катышки изпупка гориллы \n",
    "4 брови гусеницы\n",
    "5 пальцы многоножки"
   ]
  },
  {
   "cell_type": "code",
   "execution_count": 17,
   "id": "7501f421-de80-435e-ab86-3a13c57ee7e6",
   "metadata": {},
   "outputs": [
    {
     "name": "stdout",
     "output_type": "stream",
     "text": [
      "1 ветчина\n",
      "2 сыр\n",
      "3 огурец\n",
      "4 яйцо\n",
      "5 хумус\n"
     ]
    }
   ],
   "source": [
    "ingredients = ['ветчина', 'сыр', 'огурец', 'яйцо', 'хумус']\n",
    "q = 1\n",
    "for i in ingredients:\n",
    "    print(q, i)\n",
    "    q += 1"
   ]
  },
  {
   "cell_type": "markdown",
   "id": "d7125cd4-c7b2-4660-9663-9c0bcfb50035",
   "metadata": {},
   "source": [
    "#4. Ваш лунный вес \n",
    "\n",
    "Если бы вы сейчас были на Луне, ваш вес составил бы 16,5 процентов от земного. Чтобы узнать, сколько это, умножьте свой земной вес на 0,165. \n",
    "\n",
    "Если бы каждый год в течение следующих 15 лет вы прибавляли по одному килограмму веса, каким бы оказался ваш лунный вес в каждый из ежегодных визитов на Луну вплоть до 15-го года? Напишите программу, которая с помощью цикла for печатает на экране ваш лунный \n",
    "\n",
    "вес в каждом году. "
   ]
  },
  {
   "cell_type": "code",
   "execution_count": 28,
   "id": "7c79beec-82e3-4056-874f-2e755f046fd8",
   "metadata": {},
   "outputs": [
    {
     "name": "stdout",
     "output_type": "stream",
     "text": [
      "14.03\n",
      "14.19\n",
      "14.35\n",
      "14.52\n",
      "14.68\n",
      "14.85\n",
      "15.01\n",
      "15.18\n",
      "15.34\n",
      "15.51\n",
      "15.67\n",
      "15.84\n",
      "16.0\n",
      "16.17\n",
      "16.33\n",
      "16.5\n"
     ]
    }
   ],
   "source": [
    "my_weight = 85\n",
    "my_moon_weight = my_weight * 0.165\n",
    "year = 15\n",
    "for y in range(0, year + 1):\n",
    "    print (round(my_moon_weight, 2))\n",
    "    my_moon_weight = my_moon_weight + (1 * 0.165)\n"
   ]
  },
  {
   "cell_type": "markdown",
   "id": "1c91e73f-5a93-41ed-8c5e-9e9f488d04cb",
   "metadata": {},
   "source": [
    "# Упражнения  4"
   ]
  },
  {
   "cell_type": "markdown",
   "id": "a0fa4a4d-2624-4715-b015-c4a02b2ee4f5",
   "metadata": {},
   "source": [
    "Вот несколько упражнений по созданию ваших собственных функций. "
   ]
  },
  {
   "cell_type": "markdown",
   "id": "5cf4b869-1746-42c4-9aef-b49d7e3896ee",
   "metadata": {},
   "source": [
    "#1. Функция лунного веса \n",
    "\n",
    "Одним из предыдущих заданий было создание цикла for для расчета вашего веса на Луне в течение 15 лет. Этот цикл можно оформить в виде функции. Создайте функцию, которая принимает начальный вес и величину, на которую вес увеличивается каждый год. Вызывать эту новую функцию нужно будет примерно так: \n",
    "\n",
    "    moon_weight(30, 0.25)"
   ]
  },
  {
   "cell_type": "code",
   "execution_count": 38,
   "id": "2764b10a-9a75-4b7e-bcbe-c94f67f9d4f5",
   "metadata": {},
   "outputs": [
    {
     "name": "stdout",
     "output_type": "stream",
     "text": [
      "14.03\n",
      "14.19\n",
      "14.35\n",
      "14.52\n",
      "14.68\n",
      "14.85\n",
      "15.01\n",
      "15.18\n",
      "15.34\n",
      "15.51\n",
      "15.67\n",
      "15.84\n",
      "16.0\n",
      "16.17\n",
      "16.33\n",
      "16.5\n"
     ]
    }
   ],
   "source": [
    "def moon_weight(your_weight, plus_weight):\n",
    "    your_moon_w = your_weight * 0.165\n",
    "    for y in range(0, 16):\n",
    "        print(round(your_moon_w, 2))\n",
    "        your_moon_w = your_moon_w + (plus_weight * 0.165)\n",
    "\n",
    "moon_weight(85, 1)"
   ]
  },
  {
   "cell_type": "markdown",
   "id": "0eb1d6b8-e319-4fa2-b6a5-30d6faee9513",
   "metadata": {},
   "source": [
    "#2. Функция лунного веса и количество лет \n",
    "\n",
    "Измените функцию из предыдущего задания так, чтобы с ее помощью можно было рассчитывать вес для разного количества лет, например 5 или 20 лет. Пусть эта функция принимает три аргумента: начальный вес, прибавку веса в год и количество лет: \n",
    "\n",
    "      moon_weight(90, 0.25, 5)"
   ]
  },
  {
   "cell_type": "code",
   "execution_count": 41,
   "id": "b65cd284-75f1-447b-919f-224bc1063c3b",
   "metadata": {},
   "outputs": [
    {
     "name": "stdout",
     "output_type": "stream",
     "text": [
      "14.03\n",
      "14.36\n",
      "14.69\n",
      "15.02\n",
      "15.35\n",
      "15.68\n",
      "16.0\n"
     ]
    }
   ],
   "source": [
    "def moon_weight_2(your_weight, plus_weight, years):\n",
    "    your_moon_w = your_weight * 0.165\n",
    "    for y in range(0, years + 1):\n",
    "        print(round(your_moon_w, 2))\n",
    "        your_moon_w = your_moon_w + (plus_weight * 0.165)\n",
    "\n",
    "moon_weight_2(85, 2, 6)"
   ]
  }
 ],
 "metadata": {
  "kernelspec": {
   "display_name": "Python 3 (ipykernel)",
   "language": "python",
   "name": "python3"
  },
  "language_info": {
   "codemirror_mode": {
    "name": "ipython",
    "version": 3
   },
   "file_extension": ".py",
   "mimetype": "text/x-python",
   "name": "python",
   "nbconvert_exporter": "python",
   "pygments_lexer": "ipython3",
   "version": "3.10.10"
  }
 },
 "nbformat": 4,
 "nbformat_minor": 5
}
