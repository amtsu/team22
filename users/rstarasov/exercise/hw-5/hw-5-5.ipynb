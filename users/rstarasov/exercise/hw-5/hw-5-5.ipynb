{
 "cells": [
  {
   "cell_type": "code",
   "execution_count": 1,
   "id": "463ee00e-eff7-47db-bb99-075241565926",
   "metadata": {},
   "outputs": [],
   "source": [
    "set1 = {1, 2, 3, 4, 5}\n",
    "set2 = {4, 5, 6, 7, 8}\n",
    "set3 = {10, 11, 12}\n",
    "set4 = {11, 12, 13}\n",
    "fruits_quantity = {'яблоко': 5, 'банан': 10, 'апельсин': 7}\n",
    "fruits_prices = {\"яблоко\": 1.5, \"банан\": 2, \"апельсин\": 1.2}"
   ]
  },
  {
   "cell_type": "code",
   "execution_count": 2,
   "id": "1388f8a5-9098-45dc-a6ee-16663da70c6a",
   "metadata": {},
   "outputs": [],
   "source": [
    "set3 = {10, 11, 12}\n",
    "set4 = {11, 12, 13}"
   ]
  },
  {
   "cell_type": "code",
   "execution_count": 3,
   "id": "2384446a-70b8-4dda-a91b-eda4fd10d994",
   "metadata": {},
   "outputs": [
    {
     "data": {
      "text/plain": [
       "{1, 2, 3, 6, 7, 8}"
      ]
     },
     "execution_count": 3,
     "metadata": {},
     "output_type": "execute_result"
    }
   ],
   "source": [
    "set1 ^ set2\n"
   ]
  },
  {
   "cell_type": "markdown",
   "id": "e5e7b6e6-df34-44d4-8dce-ad5dbff8958b",
   "metadata": {},
   "source": [
    "# Часть 5 - Функции\n",
    "\n",
    "## Множества\n"
   ]
  },
  {
   "cell_type": "markdown",
   "id": "ebc29429-f37b-48f2-9e28-293ea449f065",
   "metadata": {},
   "source": [
    "1. Создайте функции **set_union** и **set_difference** для операций объединения и разности множеств.\n",
    "   - Функции должны принимать два множества и возвращать соответствующий результат.\n"
   ]
  },
  {
   "cell_type": "code",
   "execution_count": 4,
   "id": "a681b23a-0dd9-4d8f-843d-8a6c588230f0",
   "metadata": {},
   "outputs": [],
   "source": [
    "def set_union(set1, set2):\n",
    "    return set1 | set2"
   ]
  },
  {
   "cell_type": "code",
   "execution_count": 5,
   "id": "a5523f1d-b3c8-41d6-b866-50c2d73f8bed",
   "metadata": {},
   "outputs": [
    {
     "data": {
      "text/plain": [
       "{10, 11, 12, 13}"
      ]
     },
     "execution_count": 5,
     "metadata": {},
     "output_type": "execute_result"
    }
   ],
   "source": [
    "set_union(set3, set4)"
   ]
  },
  {
   "cell_type": "code",
   "execution_count": 6,
   "id": "e72bf9e2-d990-43c2-b8fc-7e009f580c75",
   "metadata": {},
   "outputs": [],
   "source": [
    "def set_difference(set1, set2):\n",
    "    return set1 ^ set2"
   ]
  },
  {
   "cell_type": "code",
   "execution_count": 7,
   "id": "cb8c540f-c015-4c14-8d6a-97829ae1f7f4",
   "metadata": {},
   "outputs": [
    {
     "data": {
      "text/plain": [
       "{1, 2, 3, 6, 7, 8}"
      ]
     },
     "execution_count": 7,
     "metadata": {},
     "output_type": "execute_result"
    }
   ],
   "source": [
    "set_difference(set1, set2)"
   ]
  },
  {
   "cell_type": "markdown",
   "id": "d684e5fc-2d58-4a2f-93d9-3e20e8b17b3b",
   "metadata": {},
   "source": [
    "2. Создайте функцию **is_subset** для проверки, является ли одно множество подмножеством другого.\n"
   ]
  },
  {
   "cell_type": "code",
   "execution_count": 8,
   "id": "c380ecc0-e207-4ee2-b9fb-d7386c0056e8",
   "metadata": {},
   "outputs": [],
   "source": [
    "def is_subset(set1, set2):\n",
    "    return set1.issubset(set2)"
   ]
  },
  {
   "cell_type": "code",
   "execution_count": 9,
   "id": "3d593e1c-ddd7-48e0-9e14-b0e2b3edbe83",
   "metadata": {},
   "outputs": [
    {
     "data": {
      "text/plain": [
       "False"
      ]
     },
     "execution_count": 9,
     "metadata": {},
     "output_type": "execute_result"
    }
   ],
   "source": [
    "is_subset(set1, set2)"
   ]
  },
  {
   "cell_type": "markdown",
   "id": "9e205e46-bcf9-42e5-a63d-4a4c48e66a24",
   "metadata": {},
   "source": [
    "3. Создайте функцию для объединения нескольких множеств."
   ]
  },
  {
   "cell_type": "code",
   "execution_count": 10,
   "id": "e595f37e-527a-4827-af91-a2b31ef4a477",
   "metadata": {},
   "outputs": [],
   "source": [
    "def many_unions(*sets):\n",
    "    many_union = set()\n",
    "    for t in sets:\n",
    "        many_union |= t\n",
    "    return many_union"
   ]
  },
  {
   "cell_type": "code",
   "execution_count": 11,
   "id": "c7832530-ef84-4237-a0b2-92e513fb218e",
   "metadata": {},
   "outputs": [
    {
     "data": {
      "text/plain": [
       "{1, 2, 3, 4, 5, 6, 7, 8, 10, 11, 12, 13}"
      ]
     },
     "execution_count": 11,
     "metadata": {},
     "output_type": "execute_result"
    }
   ],
   "source": [
    "many_unions(set4, set3, set2, set1)"
   ]
  },
  {
   "cell_type": "markdown",
   "id": "b5060f5e-5dce-4cef-8f97-c0d2dcee5d83",
   "metadata": {},
   "source": [
    "4. Создайте функцию для удаления конкретного элемента из множества.\n"
   ]
  },
  {
   "cell_type": "code",
   "execution_count": 12,
   "id": "af8651d0-d44f-4039-bd24-3366d61be550",
   "metadata": {},
   "outputs": [],
   "source": [
    "set1 = {1, 2, 3, 4, 5}\n",
    "set2 = {4, 5, 6, 7, 8}\n",
    "set3 = {10, 11, 12}\n",
    "set4 = {11, 12, 13}"
   ]
  },
  {
   "cell_type": "code",
   "execution_count": 13,
   "id": "9da1ec6a-24fd-49bc-829e-dc4ad63398fc",
   "metadata": {},
   "outputs": [],
   "source": [
    "def del_set_element(set, element):\n",
    "    for e in set:\n",
    "        if e == element:\n",
    "            set.discard(e)\n",
    "            break"
   ]
  },
  {
   "cell_type": "code",
   "execution_count": 14,
   "id": "6c552517-f2a6-4599-bf54-2ddb5a1efef0",
   "metadata": {},
   "outputs": [],
   "source": [
    "del_set_element(set2, 6)"
   ]
  },
  {
   "cell_type": "code",
   "execution_count": 15,
   "id": "4a8b28d9-e748-46fc-bc70-f74b1f366ad2",
   "metadata": {},
   "outputs": [
    {
     "data": {
      "text/plain": [
       "{4, 5, 7, 8}"
      ]
     },
     "execution_count": 15,
     "metadata": {},
     "output_type": "execute_result"
    }
   ],
   "source": [
    "set2"
   ]
  },
  {
   "cell_type": "markdown",
   "id": "c5107c2e-93ce-4683-bf80-150b07b38384",
   "metadata": {},
   "source": [
    "5. Создайте функцию для поиска пересечения нескольких множеств.\n"
   ]
  },
  {
   "cell_type": "code",
   "execution_count": 16,
   "id": "bd99a8a6-b0c0-4e2d-b804-289eb3205be0",
   "metadata": {},
   "outputs": [],
   "source": [
    "#Не уверен, что это правильное решение, но уже поломал голову\n",
    "def sets_intersections(*sets):\n",
    "    intersections = sets[0]\n",
    "    intersectionss = set()\n",
    "    for sett in sets[1:]:\n",
    "        intersectionss |= intersections.intersection(sett)\n",
    "    return intersectionss"
   ]
  },
  {
   "cell_type": "code",
   "execution_count": 17,
   "id": "5f98146a-bf94-4759-a690-8a186e796a5f",
   "metadata": {},
   "outputs": [
    {
     "data": {
      "text/plain": [
       "{4, 5}"
      ]
     },
     "execution_count": 17,
     "metadata": {},
     "output_type": "execute_result"
    }
   ],
   "source": [
    "sets_intersections(set1, set2, set3, set4)"
   ]
  },
  {
   "cell_type": "markdown",
   "id": "1574ecbc-cc0f-48ca-8769-3986d78ca5ef",
   "metadata": {},
   "source": [
    "6. Создайте функцию для проверки на равенство двух множеств.\n"
   ]
  },
  {
   "cell_type": "code",
   "execution_count": 18,
   "id": "b2eacdd0-a8bd-41b1-a82e-599a2c4078fc",
   "metadata": {},
   "outputs": [],
   "source": [
    "def equality(set1, set2):\n",
    "    set_equality = set1 == set2\n",
    "    return set_equality"
   ]
  },
  {
   "cell_type": "code",
   "execution_count": 19,
   "id": "3d16705f-ecec-448c-97f0-3ca362b34fa2",
   "metadata": {},
   "outputs": [
    {
     "data": {
      "text/plain": [
       "True"
      ]
     },
     "execution_count": 19,
     "metadata": {},
     "output_type": "execute_result"
    }
   ],
   "source": [
    "equality(set3, set3)"
   ]
  },
  {
   "cell_type": "code",
   "execution_count": 20,
   "id": "7a7856c9-862c-4fde-afc2-711786be5080",
   "metadata": {},
   "outputs": [
    {
     "data": {
      "text/plain": [
       "False"
      ]
     },
     "execution_count": 20,
     "metadata": {},
     "output_type": "execute_result"
    }
   ],
   "source": [
    "equality(set3, set2)"
   ]
  },
  {
   "cell_type": "markdown",
   "id": "f3a5f1f2-6905-43cf-abd0-9f96586770d7",
   "metadata": {},
   "source": [
    "7. Создайте функцию для нахождения объединения трех множеств.\n"
   ]
  },
  {
   "cell_type": "code",
   "execution_count": 21,
   "id": "dce6891e-bba6-4310-82bc-d6031e5742f9",
   "metadata": {},
   "outputs": [],
   "source": [
    "def three_union(set1, set2, set3):\n",
    "    union = set()\n",
    "    union |= set1 | set2 | set3\n",
    "    return union"
   ]
  },
  {
   "cell_type": "code",
   "execution_count": 22,
   "id": "3e779e37-4721-4d9c-951a-eaf9030fcb81",
   "metadata": {},
   "outputs": [
    {
     "data": {
      "text/plain": [
       "{1, 2, 3, 4, 5, 7, 8, 11, 12, 13}"
      ]
     },
     "execution_count": 22,
     "metadata": {},
     "output_type": "execute_result"
    }
   ],
   "source": [
    "three_union(set1, set2, set4) "
   ]
  },
  {
   "cell_type": "markdown",
   "id": "5ffb8044-0ec8-408a-b2e9-9c42e3d3c79d",
   "metadata": {},
   "source": [
    "8. Создайте функцию для проверки, являются ли два множества дизъюнктными (не имеют общих элементов).\n"
   ]
  },
  {
   "cell_type": "code",
   "execution_count": 23,
   "id": "4ecc877c-ee47-4b9d-b424-bd86e2ee2ff0",
   "metadata": {},
   "outputs": [],
   "source": [
    "def joint(set1, set2):\n",
    "    disjoint = set1.isdisjoint(set2)\n",
    "    return disjoint"
   ]
  },
  {
   "cell_type": "code",
   "execution_count": 24,
   "id": "e48e043b-5b0d-4b76-85b2-245ddbde7b35",
   "metadata": {},
   "outputs": [
    {
     "data": {
      "text/plain": [
       "False"
      ]
     },
     "execution_count": 24,
     "metadata": {},
     "output_type": "execute_result"
    }
   ],
   "source": [
    "joint(set1, set2)"
   ]
  },
  {
   "cell_type": "markdown",
   "id": "43a849db-49c8-4c6b-a015-fba7c097d05d",
   "metadata": {},
   "source": [
    "9. Создайте функцию для нахождения разности двух множеств.\n"
   ]
  },
  {
   "cell_type": "code",
   "execution_count": 25,
   "id": "e3ebff96-4e42-42c0-b56c-e35c1ee0fbda",
   "metadata": {},
   "outputs": [],
   "source": [
    "def set_diff(set1, set2):\n",
    "    difference = set1 - set2\n",
    "    return difference"
   ]
  },
  {
   "cell_type": "code",
   "execution_count": 26,
   "id": "8ebc393a-9c2d-42e2-bc78-365bbbeb624e",
   "metadata": {},
   "outputs": [
    {
     "data": {
      "text/plain": [
       "{1, 2, 3}"
      ]
     },
     "execution_count": 26,
     "metadata": {},
     "output_type": "execute_result"
    }
   ],
   "source": [
    "set_diff(set1, set2)"
   ]
  },
  {
   "cell_type": "markdown",
   "id": "a3344764-fe59-4820-a488-87b0c86c7b69",
   "metadata": {},
   "source": [
    "10. Создайте функцию для определения симметрической разности двух множеств.\n"
   ]
  },
  {
   "cell_type": "code",
   "execution_count": 27,
   "id": "f736350b-a8d6-4e84-8d1b-e366ebe3b72c",
   "metadata": {},
   "outputs": [],
   "source": [
    "def sim_set_diff(set1, set2):\n",
    "    difference = set1.symmetric_difference(set2)\n",
    "    return difference"
   ]
  },
  {
   "cell_type": "code",
   "execution_count": 28,
   "id": "09f55673-4639-42c4-a5a8-31c72fcfee79",
   "metadata": {},
   "outputs": [
    {
     "data": {
      "text/plain": [
       "{1, 2, 3, 7, 8}"
      ]
     },
     "execution_count": 28,
     "metadata": {},
     "output_type": "execute_result"
    }
   ],
   "source": [
    "sim_set_diff(set1, set2)"
   ]
  },
  {
   "cell_type": "markdown",
   "id": "52e92a87-2a7b-4634-a258-f28848c3de46",
   "metadata": {},
   "source": [
    "11. Создайте функцию **create_set** для создания множества с заданными элементами.\n",
    "   - Функция должна принимать переменное количество аргументов и возвращать новое множество."
   ]
  },
  {
   "cell_type": "code",
   "execution_count": 29,
   "id": "d27ec175-7226-467b-a278-b2b667e60a42",
   "metadata": {},
   "outputs": [],
   "source": [
    "def create_set(*args):\n",
    "    set_new = set()\n",
    "    set_new = set(args)\n",
    "    return set_new"
   ]
  },
  {
   "cell_type": "code",
   "execution_count": 30,
   "id": "5a09598c-f852-4752-8a19-79ed11acdf60",
   "metadata": {},
   "outputs": [
    {
     "data": {
      "text/plain": [
       "{3, 5, 8, 10, 22}"
      ]
     },
     "execution_count": 30,
     "metadata": {},
     "output_type": "execute_result"
    }
   ],
   "source": [
    "create_set(5, 5, 5, 3, 8, 10, 22)"
   ]
  },
  {
   "cell_type": "markdown",
   "id": "d2f1bbce-9bcf-4746-98f3-c844458fb444",
   "metadata": {},
   "source": [
    "## Словари"
   ]
  },
  {
   "cell_type": "markdown",
   "id": "afd4ab39-39e7-4e4e-b8c7-481676305aa5",
   "metadata": {},
   "source": [
    "1. Создайте функцию **create_dictionary** для создания словаря с заданными ключами и значениями.\n",
    "   - Функция должна принимать словарь в формате ключ-значение и возвращать созданный словарь."
   ]
  },
  {
   "cell_type": "code",
   "execution_count": 31,
   "id": "5cea8acd-c749-40b8-b983-2dfd35e116c2",
   "metadata": {},
   "outputs": [],
   "source": [
    "def create_dictionary(key , value):\n",
    "    my_dict = {key : value}\n",
    "    return my_dict"
   ]
  },
  {
   "cell_type": "code",
   "execution_count": 32,
   "id": "246f53fc-a38b-44fb-a196-40d9d799fd4a",
   "metadata": {},
   "outputs": [
    {
     "data": {
      "text/plain": [
       "{'Anna': 23}"
      ]
     },
     "execution_count": 32,
     "metadata": {},
     "output_type": "execute_result"
    }
   ],
   "source": [
    "students = create_dictionary('Anna', 23)\n",
    "students"
   ]
  },
  {
   "cell_type": "code",
   "execution_count": 33,
   "id": "fd8a07ff-1fec-4964-a5ad-3e41ce6502d3",
   "metadata": {},
   "outputs": [],
   "source": [
    "# не работает:def create_dictionary(dictionary, key , value):\n",
    "    #dictionary = {key : value}\n",
    "    #return dictionary"
   ]
  },
  {
   "cell_type": "code",
   "execution_count": 34,
   "id": "ab1112f6-375f-4066-a475-e10d72a4f1c1",
   "metadata": {},
   "outputs": [],
   "source": [
    "#create_dictionary(new, 'Leha', 25)\n",
    "#new"
   ]
  },
  {
   "cell_type": "markdown",
   "id": "c93a87b9-8319-4979-95c9-fa9863066e77",
   "metadata": {},
   "source": [
    "2. Напишите функции add_student и remove_student для добавления и удаления студентов из словаря.\n",
    "   - Функции должны принимать словарь студентов и соответствующие данные для добавления и удаления."
   ]
  },
  {
   "cell_type": "code",
   "execution_count": 35,
   "id": "fa56fb0a-f396-47fe-8d18-3406cb02d1be",
   "metadata": {},
   "outputs": [],
   "source": [
    "def add_student(dict, student, age):\n",
    "    dict |= {student : age}\n",
    "    return dict"
   ]
  },
  {
   "cell_type": "code",
   "execution_count": 36,
   "id": "a690af80-c7f9-4168-8b3d-726d7713f5f6",
   "metadata": {},
   "outputs": [
    {
     "data": {
      "text/plain": [
       "{'Anna': 23, 'Victor': 21}"
      ]
     },
     "execution_count": 36,
     "metadata": {},
     "output_type": "execute_result"
    }
   ],
   "source": [
    "add_student(students, 'Victor', 21)"
   ]
  },
  {
   "cell_type": "code",
   "execution_count": 37,
   "id": "11b7406f-30f6-479a-b0ac-ba62f6b6ffc0",
   "metadata": {},
   "outputs": [
    {
     "data": {
      "text/plain": [
       "{'Anna': 16,\n",
       " 'Victor': 21,\n",
       " 'Olga': 25,\n",
       " 'Nikolay': 26,\n",
       " 'Nina': 18,\n",
       " 'Tasya': 20,\n",
       " 'Ivan': 17}"
      ]
     },
     "execution_count": 37,
     "metadata": {},
     "output_type": "execute_result"
    }
   ],
   "source": [
    "add_student(students, 'Olga', 25)\n",
    "add_student(students, 'Nikolay', 26)\n",
    "add_student(students, 'Nina', 18)\n",
    "add_student(students, 'Tasya', 20)\n",
    "add_student(students, 'Ivan', 17)\n",
    "add_student(students, 'Anna', 16)"
   ]
  },
  {
   "cell_type": "code",
   "execution_count": 38,
   "id": "35394a13-8cb5-418e-9c78-e5a628178136",
   "metadata": {},
   "outputs": [],
   "source": [
    "def remove_student(dict, student):\n",
    "    dict.pop(student)\n",
    "    return dict"
   ]
  },
  {
   "cell_type": "code",
   "execution_count": 39,
   "id": "ad423507-1f78-4190-b9d2-f26a4f3379ff",
   "metadata": {},
   "outputs": [
    {
     "data": {
      "text/plain": [
       "{'Victor': 21, 'Olga': 25, 'Nikolay': 26, 'Nina': 18, 'Tasya': 20, 'Ivan': 17}"
      ]
     },
     "execution_count": 39,
     "metadata": {},
     "output_type": "execute_result"
    }
   ],
   "source": [
    "remove_student(students, 'Anna')"
   ]
  },
  {
   "cell_type": "markdown",
   "id": "61696b5a-096d-4557-a0b0-0f72b0f9a869",
   "metadata": {},
   "source": [
    "3. Напишите функции **add_fruit** и **remove_fruit** для добавления и удаления фруктов, их количества и стоимости в списки fruits_quantity и fruits_prices.\n",
    "   - Функции должны принимать словари и соответствующие данные для добавления и удаления."
   ]
  },
  {
   "cell_type": "code",
   "execution_count": 40,
   "id": "7e599200-57fa-47d1-a30a-b671bb5b658f",
   "metadata": {},
   "outputs": [],
   "source": [
    "def add_fruit(qua_dict, price_dict, fruit, quantity, price):\n",
    "    qua_dict |= {fruit : quantity}\n",
    "    price_dict |= {fruit : price}\n",
    "    return qua_dict, price_dict"
   ]
  },
  {
   "cell_type": "code",
   "execution_count": 41,
   "id": "0cdb2334-cf5e-4a22-9aed-01a3852cba52",
   "metadata": {},
   "outputs": [
    {
     "data": {
      "text/plain": [
       "({'яблоко': 5, 'банан': 10, 'апельсин': 7, 'ананас': 4},\n",
       " {'яблоко': 1.5, 'банан': 2, 'апельсин': 1.2, 'ананас': 6.4})"
      ]
     },
     "execution_count": 41,
     "metadata": {},
     "output_type": "execute_result"
    }
   ],
   "source": [
    "add_fruit(fruits_quantity, fruits_prices, 'ананас', 4, 6.4)\n",
    "fruits_quantity, fruits_prices"
   ]
  },
  {
   "cell_type": "code",
   "execution_count": 42,
   "id": "b1153f2e-083d-44e2-af60-67cb7a0b2f69",
   "metadata": {},
   "outputs": [
    {
     "data": {
      "text/plain": [
       "({'яблоко': 5, 'банан': 10, 'апельсин': 7, 'ананас': 4, 'дыня': 13},\n",
       " {'яблоко': 1.5, 'банан': 2, 'апельсин': 1.2, 'ананас': 6.4, 'дыня': 1.1})"
      ]
     },
     "execution_count": 42,
     "metadata": {},
     "output_type": "execute_result"
    }
   ],
   "source": [
    "add_fruit(fruits_quantity, fruits_prices, 'дыня', 13, 1.1)"
   ]
  },
  {
   "cell_type": "code",
   "execution_count": 43,
   "id": "94d89c1b-5be2-4129-88cb-9d2594c218ef",
   "metadata": {},
   "outputs": [],
   "source": [
    "def remove_fruit(qua_dict, price_dict, fruit):\n",
    "    qua_dict.pop(fruit)\n",
    "    price_dict.pop(fruit)\n",
    "    return qua_dict, price_dict"
   ]
  },
  {
   "cell_type": "code",
   "execution_count": 44,
   "id": "c311d6ae-eead-462f-afe2-58699bb989bd",
   "metadata": {},
   "outputs": [
    {
     "data": {
      "text/plain": [
       "({'яблоко': 5, 'банан': 10, 'апельсин': 7, 'дыня': 13},\n",
       " {'яблоко': 1.5, 'банан': 2, 'апельсин': 1.2, 'дыня': 1.1})"
      ]
     },
     "execution_count": 44,
     "metadata": {},
     "output_type": "execute_result"
    }
   ],
   "source": [
    "remove_fruit(fruits_quantity, fruits_prices, 'ананас')"
   ]
  },
  {
   "cell_type": "markdown",
   "id": "6b57614f-432e-428e-90aa-72fe4384ed88",
   "metadata": {},
   "source": [
    "    \n",
    "4. Создайте функцию для объединения двух словарей."
   ]
  },
  {
   "cell_type": "code",
   "execution_count": 45,
   "id": "a63a6d3d-55eb-4948-943a-4c61758ec41e",
   "metadata": {},
   "outputs": [],
   "source": [
    "def dict_union(dict1, dict2):\n",
    "    dict3 = {**dict1, **dict2}\n",
    "    return dict3"
   ]
  },
  {
   "cell_type": "code",
   "execution_count": 46,
   "id": "e0f28c2f-b23c-44f2-b43a-6195eb0e0810",
   "metadata": {},
   "outputs": [
    {
     "data": {
      "text/plain": [
       "{'Victor': 21,\n",
       " 'Olga': 25,\n",
       " 'Nikolay': 26,\n",
       " 'Nina': 18,\n",
       " 'Tasya': 20,\n",
       " 'Ivan': 17,\n",
       " 'яблоко': 5,\n",
       " 'банан': 10,\n",
       " 'апельсин': 7,\n",
       " 'дыня': 13}"
      ]
     },
     "execution_count": 46,
     "metadata": {},
     "output_type": "execute_result"
    }
   ],
   "source": [
    "union = dict_union(students, fruits_quantity)\n",
    "union"
   ]
  },
  {
   "cell_type": "markdown",
   "id": "d47c1db5-b79b-43c6-aab4-2c1a227a7b06",
   "metadata": {},
   "source": [
    "5. Создайте функцию для удаления элемента из словаря по заданному ключу."
   ]
  },
  {
   "cell_type": "code",
   "execution_count": 47,
   "id": "580948a9-d772-461a-88c9-20893b44481d",
   "metadata": {},
   "outputs": [],
   "source": [
    "def element_del(dict, element):\n",
    "    dict.pop(element)\n",
    "    return dict"
   ]
  },
  {
   "cell_type": "code",
   "execution_count": 48,
   "id": "18169099-fc58-42f7-9576-f0b523248496",
   "metadata": {},
   "outputs": [
    {
     "data": {
      "text/plain": [
       "{'Victor': 21, 'Nikolay': 26, 'Nina': 18, 'Tasya': 20, 'Ivan': 17}"
      ]
     },
     "execution_count": 48,
     "metadata": {},
     "output_type": "execute_result"
    }
   ],
   "source": [
    "element_del(students, \"Olga\")"
   ]
  },
  {
   "cell_type": "markdown",
   "id": "f609f228-21af-42cb-9714-2c723f37f5eb",
   "metadata": {},
   "source": [
    "6. Создайте функцию для переворачивания значений и ключей в словаре (принимает на вход словарь, возвращает другой словарь, ключами которого являются значения входного словаря, а значениями - ключи."
   ]
  },
  {
   "cell_type": "code",
   "execution_count": 49,
   "id": "fd90196c-2438-4eeb-8beb-cad200064044",
   "metadata": {},
   "outputs": [],
   "source": [
    "def change_key_to_value(dict):\n",
    "    new_dict = {}\n",
    "    for k, v in dict.items():\n",
    "        new_dict[v] = k\n",
    "    return new_dict"
   ]
  },
  {
   "cell_type": "code",
   "execution_count": 50,
   "id": "47436dfe-b06e-449c-8bfa-a5231e7c12c9",
   "metadata": {},
   "outputs": [
    {
     "data": {
      "text/plain": [
       "{21: 'Victor', 26: 'Nikolay', 18: 'Nina', 20: 'Tasya', 17: 'Ivan'}"
      ]
     },
     "execution_count": 50,
     "metadata": {},
     "output_type": "execute_result"
    }
   ],
   "source": [
    "flipped_students = change_key_to_value(students)\n",
    "flipped_students"
   ]
  },
  {
   "cell_type": "code",
   "execution_count": 51,
   "id": "7b2c05f6-e445-42ac-a92e-8bdae2f60359",
   "metadata": {},
   "outputs": [
    {
     "data": {
      "text/plain": [
       "{5: 'яблоко', 10: 'банан', 7: 'апельсин', 13: 'дыня'}"
      ]
     },
     "execution_count": 51,
     "metadata": {},
     "output_type": "execute_result"
    }
   ],
   "source": [
    "flipped_fruits = change_key_to_value(fruits_quantity)\n",
    "flipped_fruits"
   ]
  },
  {
   "cell_type": "code",
   "execution_count": 52,
   "id": "3fda7576-8d5e-48f7-b6f2-7c240826f483",
   "metadata": {},
   "outputs": [
    {
     "data": {
      "text/plain": [
       "{5: 'яблоко', 10: 'банан', 7: 'апельсин', 13: 'дыня'}"
      ]
     },
     "execution_count": 52,
     "metadata": {},
     "output_type": "execute_result"
    }
   ],
   "source": [
    "flipped_fruits"
   ]
  },
  {
   "cell_type": "markdown",
   "id": "a1eda518-9d0c-4a7f-bb33-cb02ff3d36d4",
   "metadata": {},
   "source": [
    " 7. Создайте функцию для сортировки словаря по ключам в обратном порядке."
   ]
  },
  {
   "cell_type": "code",
   "execution_count": 53,
   "id": "9153fdb6-f3e0-4789-9d19-99b97c592f0d",
   "metadata": {},
   "outputs": [],
   "source": [
    "def sort_reversed(dict1):\n",
    "    dict1 = dict(sorted(dict1.items(), reverse = True))\n",
    "    return dict1"
   ]
  },
  {
   "cell_type": "code",
   "execution_count": 54,
   "id": "d389f332-e0c3-4a26-8fac-e93c3b3ad86e",
   "metadata": {},
   "outputs": [
    {
     "data": {
      "text/plain": [
       "{13: 'дыня', 10: 'банан', 7: 'апельсин', 5: 'яблоко'}"
      ]
     },
     "execution_count": 54,
     "metadata": {},
     "output_type": "execute_result"
    }
   ],
   "source": [
    "sort_reversed(flipped_fruits)"
   ]
  },
  {
   "cell_type": "markdown",
   "id": "1f94e9ec-e6c8-4814-90bf-ddc3229aaa8b",
   "metadata": {},
   "source": [
    "8.  Создайте функцию возвращающую наибольшее значение элемента словаря."
   ]
  },
  {
   "cell_type": "code",
   "execution_count": 55,
   "id": "3684d4e9-498e-413b-96a4-c93dd6218c6a",
   "metadata": {},
   "outputs": [],
   "source": [
    "def biggest(dict1):\n",
    "    list1 = []\n",
    "    reversed_dict = sort_reversed(change_key_to_value(dict1))\n",
    "    for k, v in reversed_dict.items():\n",
    "        list1.append(k)\n",
    "        list1.append(v)\n",
    "    return list1[0:2]"
   ]
  },
  {
   "cell_type": "code",
   "execution_count": 56,
   "id": "9adb7e5f-45ba-4b55-b142-78b8b6c6b861",
   "metadata": {},
   "outputs": [
    {
     "data": {
      "text/plain": [
       "[2, 'банан']"
      ]
     },
     "execution_count": 56,
     "metadata": {},
     "output_type": "execute_result"
    }
   ],
   "source": [
    "biger_fruit = biggest(fruits_prices)\n",
    "biger_fruit"
   ]
  },
  {
   "cell_type": "markdown",
   "id": "ffc2af8c-1c88-42a6-9973-67176b30b8a9",
   "metadata": {},
   "source": [
    "9. Создайте функцию для поиска наибольшего значения в словаре."
   ]
  },
  {
   "cell_type": "code",
   "execution_count": 57,
   "id": "08f03bb7-63de-439c-a043-9b056992cae2",
   "metadata": {},
   "outputs": [
    {
     "data": {
      "text/plain": [
       "[13, 'дыня']"
      ]
     },
     "execution_count": 57,
     "metadata": {},
     "output_type": "execute_result"
    }
   ],
   "source": [
    "def biggest(dict1):\n",
    "    list1 = []\n",
    "    reversed_dict = sort_reversed(change_key_to_value(dict1))\n",
    "    for k, v in reversed_dict.items():\n",
    "        list1.append(k)\n",
    "        list1.append(v)\n",
    "    return list1[0:2]\n",
    "biger_fruit = biggest(fruits_quantity)\n",
    "biger_fruit"
   ]
  },
  {
   "cell_type": "markdown",
   "id": "0b854077-79e9-4213-8bf9-91796b237695",
   "metadata": {},
   "source": [
    "## Условия и циклы"
   ]
  },
  {
   "cell_type": "markdown",
   "id": "119cf9f7-e390-4f4a-9d9d-2d345a7e4030",
   "metadata": {},
   "source": [
    "1. Создайте функцию **check_fruit_price** для проверки стоимости фрукта и вывода соответствующего сообщения.\n",
    "   - Функция должна принимать словарь цен на фрукты и название фрукта, а затем выводить сообщение \"дорогой товар\", если цена фрукта больше 1.5."
   ]
  },
  {
   "cell_type": "code",
   "execution_count": 58,
   "id": "c1c09497-f536-4dbd-8331-5298da095ab3",
   "metadata": {},
   "outputs": [],
   "source": [
    "def check_fruit_price(dict_prices, fruit):\n",
    "    if fruit in dict_prices:\n",
    "        if dict_prices[fruit] > 1.5:\n",
    "            print (fruit, '- дорогой товар')"
   ]
  },
  {
   "cell_type": "code",
   "execution_count": 59,
   "id": "b14f60e9-3aa9-42e9-8679-e81be54b99e0",
   "metadata": {},
   "outputs": [
    {
     "name": "stdout",
     "output_type": "stream",
     "text": [
      "банан - дорогой товар\n"
     ]
    }
   ],
   "source": [
    "check_fruit_price(fruits_prices, 'банан')"
   ]
  },
  {
   "cell_type": "code",
   "execution_count": 60,
   "id": "d5ddbd86-743e-4436-a69b-86b1cb973092",
   "metadata": {},
   "outputs": [
    {
     "data": {
      "text/plain": [
       "{'яблоко': 1.5, 'банан': 2, 'апельсин': 1.2, 'дыня': 1.1}"
      ]
     },
     "execution_count": 60,
     "metadata": {},
     "output_type": "execute_result"
    }
   ],
   "source": [
    "fruits_prices"
   ]
  },
  {
   "cell_type": "markdown",
   "id": "25a662b1-4bb9-4fbe-9dba-7f1794af8208",
   "metadata": {},
   "source": [
    "2. Создайте функцию check_age для проверки возраста студента и вывода соответствующего сообщения.\n",
    "   - Функция должна принимать словарь студентов и имя студента, а затем выводить сообщение о совершеннолетии или несовершеннолетии."
   ]
  },
  {
   "cell_type": "code",
   "execution_count": 61,
   "id": "20b26c16-6cdf-4c84-8dd6-7914945937dd",
   "metadata": {},
   "outputs": [
    {
     "data": {
      "text/plain": [
       "{'Victor': 21, 'Nikolay': 26, 'Nina': 18, 'Tasya': 20, 'Ivan': 17}"
      ]
     },
     "execution_count": 61,
     "metadata": {},
     "output_type": "execute_result"
    }
   ],
   "source": [
    "students"
   ]
  },
  {
   "cell_type": "code",
   "execution_count": 62,
   "id": "0b33880a-73da-4af8-954f-67dc1f84e655",
   "metadata": {},
   "outputs": [],
   "source": [
    "def check_age(dict, name):\n",
    "    if dict.get(name):\n",
    "        if dict[name] >= 18:\n",
    "                print ('Совершеннолетний')\n",
    "        elif dict[name] < 18:\n",
    "            print ('Несовершеннолетний')\n",
    "    else:\n",
    "        print ('Нет такого студента')"
   ]
  },
  {
   "cell_type": "code",
   "execution_count": 63,
   "id": "e4873262-917f-46c0-a922-bf2808932435",
   "metadata": {},
   "outputs": [
    {
     "name": "stdout",
     "output_type": "stream",
     "text": [
      "Несовершеннолетний\n",
      "Совершеннолетний\n"
     ]
    }
   ],
   "source": [
    "check_age(students ,\"Ivan\")\n",
    "check_age(students, 'Nina')"
   ]
  },
  {
   "cell_type": "markdown",
   "id": "eaa6f99e-8786-4b77-8a3d-e9d1e2aaca24",
   "metadata": {},
   "source": [
    "3. Создайте функцию **compare_sets_length**, которая сравнивает длину двух множеств и выводит информацию о  том, какое из множеств длиннее.\n",
    "   - Функция должна принимать два множества и выводить соответствующее сообщение."
   ]
  },
  {
   "cell_type": "code",
   "execution_count": 64,
   "id": "411e1b8a-82e0-4b02-9067-cf64a2682479",
   "metadata": {},
   "outputs": [],
   "source": [
    "def compare_sets_length(set1, set2):\n",
    "    if len(set1) > len(set2):\n",
    "        print ('Первое множество больше второго')\n",
    "    elif len(set1) < len(set2):\n",
    "        print ('Первое множество меньше второго')\n",
    "    else:\n",
    "        print ('Множества равны')"
   ]
  },
  {
   "cell_type": "code",
   "execution_count": 65,
   "id": "7206eecd-80f8-4224-9ce6-2dc68598b58e",
   "metadata": {},
   "outputs": [
    {
     "name": "stdout",
     "output_type": "stream",
     "text": [
      "Множества равны\n"
     ]
    }
   ],
   "source": [
    "compare_sets_length(set3, set4)"
   ]
  },
  {
   "cell_type": "code",
   "execution_count": 66,
   "id": "f7c1ddb4-7e42-43ae-9bb1-6a2b0bf606cf",
   "metadata": {},
   "outputs": [
    {
     "name": "stdout",
     "output_type": "stream",
     "text": [
      "Первое множество больше второго\n"
     ]
    }
   ],
   "source": [
    "compare_sets_length(set1, set2)"
   ]
  },
  {
   "cell_type": "markdown",
   "id": "672eadf2-c873-4a63-81e9-350d6f551658",
   "metadata": {},
   "source": [
    "4. Создайте функцию для определения четности или нечетности числа."
   ]
  },
  {
   "cell_type": "code",
   "execution_count": 67,
   "id": "d256fe8f-4321-4695-ba84-a502e78c5fba",
   "metadata": {},
   "outputs": [],
   "source": [
    "def even_odd_number(write_number):\n",
    "    if write_number % 2 == 0:\n",
    "        print ('Четное')\n",
    "    else:\n",
    "        print ('Нечетное')"
   ]
  },
  {
   "cell_type": "code",
   "execution_count": 68,
   "id": "66e793e4-b353-4f72-90f1-88a23f4eaa02",
   "metadata": {},
   "outputs": [
    {
     "name": "stdout",
     "output_type": "stream",
     "text": [
      "Четное\n"
     ]
    }
   ],
   "source": [
    "even_odd_number(354)"
   ]
  },
  {
   "cell_type": "code",
   "execution_count": 69,
   "id": "3f2433ec-bddc-4b57-99a4-09d627b3396a",
   "metadata": {},
   "outputs": [
    {
     "name": "stdout",
     "output_type": "stream",
     "text": [
      "Нечетное\n"
     ]
    }
   ],
   "source": [
    "even_odd_number(251)"
   ]
  },
  {
   "cell_type": "markdown",
   "id": "425e16c4-bc07-4cd4-ab4d-0260a766c86b",
   "metadata": {},
   "source": [
    "5. Создайте функцию для определения високосного года. Функция должна принимать на вход год в виде числа и возвращать строку \"високосный\" или \"обычный\""
   ]
  },
  {
   "cell_type": "code",
   "execution_count": 161,
   "id": "6ad0b0ac-4862-499d-8545-d0076197889a",
   "metadata": {},
   "outputs": [],
   "source": [
    "def leap_year(year):\n",
    "    if year % 4 == 0:\n",
    "        if year % 100 == 0:\n",
    "            if year % 400 == 0:\n",
    "                return True\n",
    "            else:\n",
    "                return False\n",
    "        else:\n",
    "            return True\n",
    "    else:\n",
    "        return False"
   ]
  },
  {
   "cell_type": "code",
   "execution_count": 162,
   "id": "367656b6-ee92-4992-85af-71607807c28d",
   "metadata": {},
   "outputs": [
    {
     "data": {
      "text/plain": [
       "True"
      ]
     },
     "execution_count": 162,
     "metadata": {},
     "output_type": "execute_result"
    }
   ],
   "source": [
    "leap_year(2024)"
   ]
  },
  {
   "cell_type": "code",
   "execution_count": 163,
   "id": "9319194e-97a8-4022-9ee9-333e7e5adfd0",
   "metadata": {},
   "outputs": [
    {
     "data": {
      "text/plain": [
       "True"
      ]
     },
     "execution_count": 163,
     "metadata": {},
     "output_type": "execute_result"
    }
   ],
   "source": [
    "leap_year(1952)"
   ]
  },
  {
   "cell_type": "code",
   "execution_count": 164,
   "id": "b0d32f3e-9c1f-4c52-9822-9eb8b6ee8a3d",
   "metadata": {},
   "outputs": [
    {
     "data": {
      "text/plain": [
       "False"
      ]
     },
     "execution_count": 164,
     "metadata": {},
     "output_type": "execute_result"
    }
   ],
   "source": [
    "leap_year(2021)"
   ]
  },
  {
   "cell_type": "markdown",
   "id": "7bb8b1c9-fc2d-4195-bfa6-1c6eee2e4400",
   "metadata": {},
   "source": [
    "6. Создайте функцию для определения типа треугольника по длинам сторон (принимает длины сторон, возвращает \"остроугольный, прямоугольный, тупоугольный или не треугольник\")."
   ]
  },
  {
   "cell_type": "code",
   "execution_count": 74,
   "id": "379ac74a-f8cf-4e8b-a7e0-7edec94eb982",
   "metadata": {},
   "outputs": [],
   "source": [
    "def triangle(a, b, c):\n",
    "    if (a + b > c) and (c + b > a) and (a + c > b):\n",
    "        if (a*a + b*b == c*c) or (a*a + c*c == b*b) or (c*c + b*b == a*a):\n",
    "            print(\"прямоугольный\")\n",
    "        elif (a*a + b*b < c*c) or (a*a + c*c < b*b) or (c*c + b*b < a*a):\n",
    "            print(\"тупоугольный\")\n",
    "        else:\n",
    "            print(\"остроугольный\")\n",
    "    else:\n",
    "        print ('Не треугольник')"
   ]
  },
  {
   "cell_type": "code",
   "execution_count": 75,
   "id": "f9da4e7e-cbf6-4fd8-88a9-b0623262c103",
   "metadata": {},
   "outputs": [
    {
     "name": "stdout",
     "output_type": "stream",
     "text": [
      "Не треугольник\n"
     ]
    }
   ],
   "source": [
    "triangle(1, 2, 3)"
   ]
  },
  {
   "cell_type": "code",
   "execution_count": 76,
   "id": "935c643f-9deb-4564-afdd-617362627412",
   "metadata": {},
   "outputs": [
    {
     "name": "stdout",
     "output_type": "stream",
     "text": [
      "тупоугольный\n"
     ]
    }
   ],
   "source": [
    "triangle(3, 3, 5)"
   ]
  },
  {
   "cell_type": "code",
   "execution_count": 77,
   "id": "b6ae84f8-6bb0-4036-9c38-d58eabe16344",
   "metadata": {},
   "outputs": [
    {
     "name": "stdout",
     "output_type": "stream",
     "text": [
      "остроугольный\n"
     ]
    }
   ],
   "source": [
    "triangle (61, 35, 61)"
   ]
  },
  {
   "cell_type": "markdown",
   "id": "6ab1b749-bac8-45e0-872e-a290fa76ac1b",
   "metadata": {},
   "source": [
    "7. Создайте функцию для проверки, является ли строка палиндромом."
   ]
  },
  {
   "cell_type": "code",
   "execution_count": 78,
   "id": "ab27f9b7-e0fb-447e-a8b3-caaf180f96ea",
   "metadata": {},
   "outputs": [],
   "source": [
    "def palindrom(word):\n",
    "    r_word = word[::-1]\n",
    "    if word == r_word:\n",
    "        print ('Это палиндром')\n",
    "    else:\n",
    "        print ('Это не палиндром')"
   ]
  },
  {
   "cell_type": "code",
   "execution_count": 79,
   "id": "952ef2bf-e1ee-4e7a-99a2-6eadd02e9136",
   "metadata": {},
   "outputs": [
    {
     "name": "stdout",
     "output_type": "stream",
     "text": [
      "Это палиндром\n"
     ]
    }
   ],
   "source": [
    "palindrom(\"анна\")"
   ]
  },
  {
   "cell_type": "code",
   "execution_count": 80,
   "id": "203a32d7-a6f1-447f-a38f-1d1bd9a3c0d8",
   "metadata": {},
   "outputs": [
    {
     "name": "stdout",
     "output_type": "stream",
     "text": [
      "Это не палиндром\n"
     ]
    }
   ],
   "source": [
    "palindrom('artur')"
   ]
  },
  {
   "cell_type": "markdown",
   "id": "046f869c-8e44-4f65-bc01-6d7efa7abf9b",
   "metadata": {},
   "source": [
    "8. Создайте функцию для определения времени суток по введенному времени ( принимает текущее время в формате часы, минуты, возвращает утро, день, вечер, ночь)."
   ]
  },
  {
   "cell_type": "code",
   "execution_count": 81,
   "id": "08399224-c343-40fb-bebd-da4241f80678",
   "metadata": {},
   "outputs": [],
   "source": [
    "def time_of_day(hours, minutes):\n",
    "    if not (0 <= hours <= 23 and 0 <= minutes <= 59):\n",
    "        return \"Некорректное время\"\n",
    "    if 6 <= hours < 12:\n",
    "        return \"утро\"\n",
    "    elif 12 <= hours < 18:\n",
    "        return \"день\"\n",
    "    elif 18 <= hours < 24:\n",
    "        return \"вечер\"\n",
    "    else:\n",
    "        return \"ночь\""
   ]
  },
  {
   "cell_type": "code",
   "execution_count": 82,
   "id": "1d0a8791-5aad-4bbf-8963-221797151382",
   "metadata": {},
   "outputs": [
    {
     "data": {
      "text/plain": [
       "'день'"
      ]
     },
     "execution_count": 82,
     "metadata": {},
     "output_type": "execute_result"
    }
   ],
   "source": [
    "time_of_day(17, 45)"
   ]
  },
  {
   "cell_type": "code",
   "execution_count": 83,
   "id": "c51034ea-7220-441b-884e-f37181399a57",
   "metadata": {},
   "outputs": [
    {
     "data": {
      "text/plain": [
       "'утро'"
      ]
     },
     "execution_count": 83,
     "metadata": {},
     "output_type": "execute_result"
    }
   ],
   "source": [
    "time_of_day(8, 15)"
   ]
  },
  {
   "cell_type": "markdown",
   "id": "3fc2ca39-2831-49b0-8f07-0ff468f31719",
   "metadata": {},
   "source": [
    "9. Создайте функцию, которая определяет, является ли введенное число простым."
   ]
  },
  {
   "cell_type": "code",
   "execution_count": 84,
   "id": "8b7ea426-d829-467d-9993-ce31a3c18602",
   "metadata": {},
   "outputs": [
    {
     "data": {
      "text/plain": [
       "'not prime'"
      ]
     },
     "execution_count": 84,
     "metadata": {},
     "output_type": "execute_result"
    }
   ],
   "source": [
    "def prime_number(number):\n",
    "    if number <= 1:\n",
    "        return 'not prime'\n",
    "    for i in range(2, number):\n",
    "        if number % i == 0:\n",
    "            return 'not prime'\n",
    "    return 'prime'\n",
    "\n",
    "prime_number(132251)"
   ]
  },
  {
   "cell_type": "code",
   "execution_count": 85,
   "id": "1581c5f8-e65a-4bce-9320-fcf0b3fdac61",
   "metadata": {},
   "outputs": [
    {
     "data": {
      "text/plain": [
       "'prime'"
      ]
     },
     "execution_count": 85,
     "metadata": {},
     "output_type": "execute_result"
    }
   ],
   "source": [
    "prime_number(3)"
   ]
  },
  {
   "cell_type": "code",
   "execution_count": 86,
   "id": "2491e07c-2c94-468d-adae-60379d5892a5",
   "metadata": {},
   "outputs": [
    {
     "data": {
      "text/plain": [
       "'not prime'"
      ]
     },
     "execution_count": 86,
     "metadata": {},
     "output_type": "execute_result"
    }
   ],
   "source": [
    "prime_number(4)"
   ]
  },
  {
   "cell_type": "code",
   "execution_count": 87,
   "id": "77650763-8562-4056-8a91-e748dbbbd45b",
   "metadata": {},
   "outputs": [
    {
     "data": {
      "text/plain": [
       "'prime'"
      ]
     },
     "execution_count": 87,
     "metadata": {},
     "output_type": "execute_result"
    }
   ],
   "source": [
    "prime_number(829)"
   ]
  },
  {
   "cell_type": "markdown",
   "id": "a38ec9f4-ee92-40fa-8774-85d05d45d093",
   "metadata": {},
   "source": [
    "10. Создайте функцию для проверки входящей строки на наличие только буквенных символов."
   ]
  },
  {
   "cell_type": "code",
   "execution_count": 88,
   "id": "e0e1a614-f1c7-43f3-aaa8-19616b84415a",
   "metadata": {},
   "outputs": [],
   "source": [
    "string1 = 'dddddd'\n",
    "string2 = 'lett er222'\n",
    "def isalfa_string(string):\n",
    "    if string.isalpha():\n",
    "        return 'Только буквы'\n",
    "    elif not string.isalpha():\n",
    "        return 'Не только буквы'"
   ]
  },
  {
   "cell_type": "code",
   "execution_count": 89,
   "id": "0d14a64b-af53-4448-8bb2-a6c99c07f894",
   "metadata": {},
   "outputs": [
    {
     "data": {
      "text/plain": [
       "'Только буквы'"
      ]
     },
     "execution_count": 89,
     "metadata": {},
     "output_type": "execute_result"
    }
   ],
   "source": [
    "isalfa_string(string1)"
   ]
  },
  {
   "cell_type": "code",
   "execution_count": 90,
   "id": "6fa11d2b-2f29-4d65-9f87-1934d081e709",
   "metadata": {},
   "outputs": [
    {
     "data": {
      "text/plain": [
       "'Не только буквы'"
      ]
     },
     "execution_count": 90,
     "metadata": {},
     "output_type": "execute_result"
    }
   ],
   "source": [
    "isalfa_string(string2)"
   ]
  },
  {
   "cell_type": "markdown",
   "id": "c0d15d83-cd03-492a-92f7-56cbc4c1c4c0",
   "metadata": {},
   "source": [
    "11. Создайте функцию, которая определяет, является ли введенная дата корректной (дата вводится в виде трех чисел, день, месяц, год. Корректной датой считается существующая комбинация этих трех чисел)."
   ]
  },
  {
   "cell_type": "code",
   "execution_count": 170,
   "id": "52f40113-d902-4e56-8455-96cc9c545351",
   "metadata": {},
   "outputs": [
    {
     "data": {
      "text/plain": [
       "False"
      ]
     },
     "execution_count": 170,
     "metadata": {},
     "output_type": "execute_result"
    }
   ],
   "source": [
    "def check_date(day, month, year):\n",
    "    if month < 1 or month > 12:\n",
    "        return False\n",
    "    \n",
    "    if month in [1, 3, 5, 7, 8, 10, 12]:\n",
    "        if day < 1 or day > 31:\n",
    "            return False\n",
    "    elif month in [4, 6, 9, 11]:\n",
    "        if day < 1 or day > 30:\n",
    "            return False\n",
    "    elif month == 2:\n",
    "        if leap_year(year) == True:\n",
    "            if day < 1 or day > 29:\n",
    "                return False\n",
    "        else:\n",
    "            if day < 1 or day > 28:\n",
    "                return False\n",
    "    \n",
    "    return True\n",
    "\n",
    "check_date(32, 1, 2024)"
   ]
  },
  {
   "cell_type": "markdown",
   "id": "04b5c0ad-f0f3-4e07-b5cf-f728a5940234",
   "metadata": {},
   "source": [
    "12. Создайте функцию, которая определяет, является ли введенное число палиндромом."
   ]
  },
  {
   "cell_type": "code",
   "execution_count": 92,
   "id": "38d2c51c-eb90-4223-b3f5-d9ad4244ac06",
   "metadata": {},
   "outputs": [],
   "source": [
    "def palindrom_number(number):\n",
    "    new_number = str(number)\n",
    "    else_number = new_number[::-1]\n",
    "    another_number = int(else_number)\n",
    "    if another_number == number:\n",
    "        print ('Палиндром')\n",
    "    else:\n",
    "        print ('Неа')"
   ]
  },
  {
   "cell_type": "code",
   "execution_count": 93,
   "id": "afe30ca8-e6ac-4f58-90a0-a11231176dca",
   "metadata": {},
   "outputs": [
    {
     "name": "stdout",
     "output_type": "stream",
     "text": [
      "Палиндром\n"
     ]
    }
   ],
   "source": [
    "palindrom_number(121)"
   ]
  },
  {
   "cell_type": "code",
   "execution_count": 94,
   "id": "8cc6a63d-1c2f-4530-b9c4-d1160e858bfb",
   "metadata": {},
   "outputs": [
    {
     "name": "stdout",
     "output_type": "stream",
     "text": [
      "Неа\n"
     ]
    }
   ],
   "source": [
    "palindrom_number(1222)"
   ]
  },
  {
   "cell_type": "code",
   "execution_count": 95,
   "id": "2677943b-ce84-4ffc-850e-9a3ee6314a35",
   "metadata": {},
   "outputs": [
    {
     "name": "stdout",
     "output_type": "stream",
     "text": [
      "Палиндром\n"
     ]
    }
   ],
   "source": [
    "palindrom_number(1331)"
   ]
  },
  {
   "cell_type": "markdown",
   "id": "060504e0-9ca3-4823-a96f-b88ae9d4ea5b",
   "metadata": {},
   "source": [
    "13. Создайте функцию для определения дня недели по введенному номеру дня (1 - Понедельник, 2 - Вторник и т.д.)."
   ]
  },
  {
   "cell_type": "code",
   "execution_count": 96,
   "id": "5b3b7a17-bdb4-49cd-a1a9-a8b85fc022c1",
   "metadata": {},
   "outputs": [],
   "source": [
    "def day_counter(day):\n",
    "    if day % 7 == 1:\n",
    "        return 'понедельник'\n",
    "    if day % 7 == 2:\n",
    "        return 'вторник'\n",
    "    if day % 7 == 3:\n",
    "        return 'среда'\n",
    "    if day % 7 == 4:\n",
    "        return 'четверг'\n",
    "    if day % 7 == 5:\n",
    "        return 'пятница'\n",
    "    if day % 7 == 6:\n",
    "        return 'суббота'\n",
    "    if day % 7 == 0:\n",
    "        return 'воскресенье'"
   ]
  },
  {
   "cell_type": "code",
   "execution_count": 97,
   "id": "0a45ad61-a11d-4cff-b3d1-2dcf948f96a7",
   "metadata": {},
   "outputs": [
    {
     "data": {
      "text/plain": [
       "'понедельник'"
      ]
     },
     "execution_count": 97,
     "metadata": {},
     "output_type": "execute_result"
    }
   ],
   "source": [
    "day_counter(1)"
   ]
  },
  {
   "cell_type": "code",
   "execution_count": 98,
   "id": "4651240a-1656-487f-8255-d71b0c808789",
   "metadata": {},
   "outputs": [
    {
     "data": {
      "text/plain": [
       "'понедельник'"
      ]
     },
     "execution_count": 98,
     "metadata": {},
     "output_type": "execute_result"
    }
   ],
   "source": [
    "day_counter(8)"
   ]
  },
  {
   "cell_type": "code",
   "execution_count": 99,
   "id": "09f816a5-24dd-4d69-8da1-4b26653adb07",
   "metadata": {},
   "outputs": [
    {
     "data": {
      "text/plain": [
       "'вторник'"
      ]
     },
     "execution_count": 99,
     "metadata": {},
     "output_type": "execute_result"
    }
   ],
   "source": [
    "day_counter(128)"
   ]
  },
  {
   "cell_type": "markdown",
   "id": "be16171b-5031-4c46-9a1e-4be1cad838eb",
   "metadata": {},
   "source": [
    "14. Создайте функцию **print_fruits_info** для вывода информации о количестве и стоимости фруктов из словарей.\n",
    "   - Функция должна принимать словари с информацией \"фрукт:количество\" и \"фрукт:цена\" и выводить для каждого фрукта его стоимость и количество."
   ]
  },
  {
   "cell_type": "code",
   "execution_count": 100,
   "id": "1e51771b-6aa9-4338-bf01-7aa7a55dd2ce",
   "metadata": {},
   "outputs": [
    {
     "name": "stdout",
     "output_type": "stream",
     "text": [
      "яблоко: количество - 5 , цена - 1.5\n",
      "банан: количество - 10 , цена - 2\n",
      "апельсин: количество - 7 , цена - 1.2\n",
      "дыня: количество - 13 , цена - 1.1\n"
     ]
    }
   ],
   "source": [
    "def print_fruit_info(dict_qua, dict_price):\n",
    "    for f in dict_qua:\n",
    "        print (f+ ':', 'количество -', dict_qua[f],',', 'цена -', dict_price[f])\n",
    "\n",
    "print_fruit_info(fruits_quantity, fruits_prices)"
   ]
  },
  {
   "cell_type": "code",
   "execution_count": 101,
   "id": "a474a5d2-613f-4b8e-85a6-1f2e97ae5bf6",
   "metadata": {},
   "outputs": [
    {
     "data": {
      "text/plain": [
       "dict_keys(['яблоко', 'банан', 'апельсин', 'дыня'])"
      ]
     },
     "execution_count": 101,
     "metadata": {},
     "output_type": "execute_result"
    }
   ],
   "source": [
    "fruits_quantity.keys()"
   ]
  },
  {
   "cell_type": "markdown",
   "id": "37f7285a-6f68-4d64-94f0-612334340d78",
   "metadata": {},
   "source": [
    "15. Создайте функцию **print_squares_while**, которая использует цикл while для вывода квадратов чисел от 1 до 5."
   ]
  },
  {
   "cell_type": "code",
   "execution_count": 102,
   "id": "2d9277ac-d855-4a12-961c-fd640b90f09b",
   "metadata": {},
   "outputs": [],
   "source": [
    "def print_squares_while(i):\n",
    "    while i <= 5:\n",
    "        print (i * i)\n",
    "        i += 1"
   ]
  },
  {
   "cell_type": "code",
   "execution_count": 103,
   "id": "a8a6e272-fc21-4a1b-a8d1-42bb46016308",
   "metadata": {},
   "outputs": [
    {
     "name": "stdout",
     "output_type": "stream",
     "text": [
      "0\n",
      "1\n",
      "4\n",
      "9\n",
      "16\n",
      "25\n"
     ]
    }
   ],
   "source": [
    "print_squares_while(0)"
   ]
  },
  {
   "cell_type": "markdown",
   "id": "b7fe6aa8-6703-4476-b358-0159bf94d2b0",
   "metadata": {},
   "source": [
    "16. Создайте функцию для вывода факториала заданного числа."
   ]
  },
  {
   "cell_type": "code",
   "execution_count": 104,
   "id": "b367b3e8-afe5-4453-ac27-6d8544ee63ba",
   "metadata": {},
   "outputs": [],
   "source": [
    "def factorial(number):\n",
    "    if number == 0:\n",
    "        return 1\n",
    "    return number * factorial(number - 1)"
   ]
  },
  {
   "cell_type": "code",
   "execution_count": 105,
   "id": "60e05ca3-4f10-455b-8b05-fd7d80bed067",
   "metadata": {},
   "outputs": [
    {
     "data": {
      "text/plain": [
       "720"
      ]
     },
     "execution_count": 105,
     "metadata": {},
     "output_type": "execute_result"
    }
   ],
   "source": [
    "factorial(6)"
   ]
  },
  {
   "cell_type": "markdown",
   "id": "fc0a7ad4-3835-47e3-944e-150fbe136c05",
   "metadata": {},
   "source": [
    "17. Создайте функцию для поиска суммы чисел в заданном диапазоне (принимает на вход два числа, возвращает сумму чисел находящихся между ними, включительно.)"
   ]
  },
  {
   "cell_type": "code",
   "execution_count": 106,
   "id": "81cb9e8f-d32d-4ab4-8cbd-2f1e55c2d67c",
   "metadata": {},
   "outputs": [
    {
     "data": {
      "text/plain": [
       "9"
      ]
     },
     "execution_count": 106,
     "metadata": {},
     "output_type": "execute_result"
    }
   ],
   "source": [
    "def sum_between(f, s):\n",
    "    if f < s:\n",
    "        summ = []\n",
    "        for n in range(f, s):\n",
    "            summ.append(n)\n",
    "            summ.append(s)\n",
    "        return sum(summ)\n",
    "    else:\n",
    "        print ('Первое число должно быть меньше второго')\n",
    "sum_between(1,3)"
   ]
  },
  {
   "cell_type": "markdown",
   "id": "801e74f3-b32c-4022-9ac5-b948ad32c486",
   "metadata": {},
   "source": [
    "18. Создайте функцию для генерации и вывода всех простых чисел до заданного числа."
   ]
  },
  {
   "cell_type": "code",
   "execution_count": 107,
   "id": "fdc416e7-f089-45f4-b5a7-af8766580c3b",
   "metadata": {},
   "outputs": [
    {
     "name": "stdout",
     "output_type": "stream",
     "text": [
      "2\n",
      "3\n",
      "5\n",
      "7\n",
      "11\n",
      "13\n",
      "17\n",
      "19\n",
      "23\n",
      "29\n",
      "31\n",
      "37\n",
      "41\n",
      "43\n"
     ]
    }
   ],
   "source": [
    "def every_prime_inrange(number1, number2):\n",
    "    list = []\n",
    "    for n in range(number1, number2):\n",
    "        if prime_number(n) == 'prime':\n",
    "            print (n)\n",
    "\n",
    "every_prime_inrange(2, 46)"
   ]
  },
  {
   "cell_type": "markdown",
   "id": "31804032-0d13-44a9-b3ce-b34c4165324c",
   "metadata": {},
   "source": [
    "19. Создайте функцию для проверки строки на палиндромность без учёта регистра и знаков препинания."
   ]
  },
  {
   "cell_type": "code",
   "execution_count": 108,
   "id": "1267b89e-9d9c-449a-914e-f7317db8a970",
   "metadata": {},
   "outputs": [
    {
     "data": {
      "text/plain": [
       "'Палиндром'"
      ]
     },
     "execution_count": 108,
     "metadata": {},
     "output_type": "execute_result"
    }
   ],
   "source": [
    "def ultra_palindrom(string):\n",
    "    list1 = ''\n",
    "    for w in string.casefold():\n",
    "        if w.isalpha():\n",
    "            list1 += w\n",
    "    if list1 == list1[::-1]:\n",
    "        return 'Палиндром'\n",
    "    else:\n",
    "        return 'Не палиндром'\n",
    "\n",
    "ultra_palindrom('Но ты тонка, как ноты тон.')"
   ]
  },
  {
   "cell_type": "code",
   "execution_count": 109,
   "id": "b04b4dff-bc74-42ec-964f-c56539b7936d",
   "metadata": {},
   "outputs": [
    {
     "data": {
      "text/plain": [
       "'Не палиндром'"
      ]
     },
     "execution_count": 109,
     "metadata": {},
     "output_type": "execute_result"
    }
   ],
   "source": [
    "ultra_palindrom('Но ты тонка, как гном')"
   ]
  },
  {
   "cell_type": "markdown",
   "id": "ebae7aa3-94f2-49f1-91a8-d43eee321208",
   "metadata": {},
   "source": [
    "20. Создайте функцию для поиска наибольшего общего делителя (НОД) двух чисел."
   ]
  },
  {
   "cell_type": "code",
   "execution_count": 110,
   "id": "18bce3a6-e4b0-426b-8855-10b78f7a88b9",
   "metadata": {},
   "outputs": [
    {
     "name": "stdout",
     "output_type": "stream",
     "text": [
      "2\n"
     ]
    }
   ],
   "source": [
    "def nod(a, b):\n",
    "    if a % b == 0:\n",
    "        print(b)\n",
    "    elif b % a == 0:\n",
    "        print (a)\n",
    "    else:\n",
    "        c = a % b\n",
    "        d = b % c\n",
    "        if d == 0:\n",
    "            print (c)\n",
    "        else:\n",
    "            e = c % d\n",
    "            if e == 0:\n",
    "                print (d)\n",
    "            else:\n",
    "                f = d % e\n",
    "                if f == 0:\n",
    "                    print (e) \n",
    "                else:\n",
    "                    g = e % f\n",
    "                    if g == 0:\n",
    "                        print (f)\n",
    "\n",
    "nod(132250,132)"
   ]
  },
  {
   "cell_type": "code",
   "execution_count": 111,
   "id": "1028ee5e-ee38-41f9-8e47-ebe867a0de91",
   "metadata": {},
   "outputs": [
    {
     "name": "stdout",
     "output_type": "stream",
     "text": [
      "10\n"
     ]
    }
   ],
   "source": [
    "nod(10, 100)"
   ]
  },
  {
   "cell_type": "code",
   "execution_count": 112,
   "id": "8fb37d58-7a7f-43fb-8179-44d3b13d7684",
   "metadata": {},
   "outputs": [
    {
     "name": "stdout",
     "output_type": "stream",
     "text": [
      "5\n"
     ]
    }
   ],
   "source": [
    "nod(250, 45)"
   ]
  },
  {
   "cell_type": "markdown",
   "id": "3b0b5eaf-c67a-424c-911d-c44922b0aee2",
   "metadata": {},
   "source": [
    "21. Создайте функцию print_students для вывода информации о студентах из словаря.\n",
    "   - Функция должна принимать словарь студентов и выводить их имена и возраст."
   ]
  },
  {
   "cell_type": "code",
   "execution_count": 113,
   "id": "eec802e5-d594-4f5d-8b24-9b11cd73b07f",
   "metadata": {},
   "outputs": [],
   "source": [
    "def students_age(dict):\n",
    "    return dict.items()"
   ]
  },
  {
   "cell_type": "code",
   "execution_count": 114,
   "id": "4b8e3715-7b7e-446d-81dc-198b137f18b6",
   "metadata": {},
   "outputs": [
    {
     "data": {
      "text/plain": [
       "dict_items([('Victor', 21), ('Nikolay', 26), ('Nina', 18), ('Tasya', 20), ('Ivan', 17)])"
      ]
     },
     "execution_count": 114,
     "metadata": {},
     "output_type": "execute_result"
    }
   ],
   "source": [
    "students_age(students)"
   ]
  },
  {
   "cell_type": "markdown",
   "id": "6c0cda34-d327-497b-8462-dc38a5b21bd8",
   "metadata": {},
   "source": [
    "22. Создайте функцию get_value_from_user, принимающую на вход одно число (\"порог\"), и запрашивающую у пользователя ввод числа до тех пор, пока он не введет число выше \"порога\"."
   ]
  },
  {
   "cell_type": "code",
   "execution_count": 115,
   "id": "41a7c3cb-8717-44d2-8c32-78f14ad7b08d",
   "metadata": {},
   "outputs": [
    {
     "name": "stdout",
     "output_type": "stream",
     "text": [
      "Число должно быть выше порога\n"
     ]
    }
   ],
   "source": [
    "def get_value_from_user(floor, number):\n",
    "    if floor >= number:\n",
    "        print ('Число должно быть выше порога')\n",
    "        \n",
    "get_value_from_user(5, 4)"
   ]
  },
  {
   "cell_type": "code",
   "execution_count": 116,
   "id": "6107a681-c447-49d1-9c7b-da8d19ef5a36",
   "metadata": {},
   "outputs": [],
   "source": [
    "get_value_from_user(3,4)"
   ]
  },
  {
   "cell_type": "markdown",
   "id": "4c2596f8-e06f-49fa-972e-19d61f17e95c",
   "metadata": {},
   "source": [
    "## Общие "
   ]
  },
  {
   "cell_type": "markdown",
   "id": "29905a77-19ef-470a-9785-edcc052b5a03",
   "metadata": {},
   "source": [
    "1. Создайте функцию, которая будет запрашивать у пользователя его возраст.\n",
    "   - Если возраст меньше 18 лет, программа должна выводить сообщение о том, что пользователь несовершеннолетний.\n",
    "   - Если возраст от 18 до 65 лет, программа должна выводить сообщение о том, что пользователь взрослый.\n",
    "   - Если возраст больше 65 лет, программа должна выводить сообщение о том, что пользователь пенсионер."
   ]
  },
  {
   "cell_type": "code",
   "execution_count": 117,
   "id": "97357f0a-6a24-495b-8db6-c7a6b99b6c12",
   "metadata": {},
   "outputs": [
    {
     "name": "stdout",
     "output_type": "stream",
     "text": [
      "Пенсионер\n"
     ]
    }
   ],
   "source": [
    "def show_me_your_age(age):\n",
    "    if age < 0:\n",
    "        print ('Еще не родился')\n",
    "    if 18 > age > 0:\n",
    "        print ('Несовершеннолетний')\n",
    "    if 18 < age < 65:\n",
    "        print ('Взрослый')\n",
    "    if 100 > age > 65:\n",
    "        print ('Пенсионер')\n",
    "    if age > 100:\n",
    "        print ('Ультрапенсионер')\n",
    "\n",
    "show_me_your_age(66)"
   ]
  },
  {
   "cell_type": "code",
   "execution_count": 118,
   "id": "d7c5c323-6f1a-4b40-9d4c-9f2fea60fa94",
   "metadata": {},
   "outputs": [
    {
     "name": "stdout",
     "output_type": "stream",
     "text": [
      "Взрослый\n"
     ]
    }
   ],
   "source": [
    "show_me_your_age(19)"
   ]
  },
  {
   "cell_type": "markdown",
   "id": "e49629de-0a92-4c65-af5e-2fbdb18128f7",
   "metadata": {},
   "source": [
    "2. Создайте функцию, которая будет проверять введенную пользователем строку на наличие повторяющихся символов.\n",
    "   - Если такие символы найдены, программа должна выводить их перечень и количество повторов для каждого."
   ]
  },
  {
   "cell_type": "code",
   "execution_count": 196,
   "id": "78f7a3d5-8a2f-445b-94fb-d4e416d4d0f5",
   "metadata": {},
   "outputs": [
    {
     "data": {
      "text/plain": [
       "{'t': 2, 'i': 2, 'n': 3, 'g': 6, ' ': 3, 'o': 2}"
      ]
     },
     "execution_count": 196,
     "metadata": {},
     "output_type": "execute_result"
    }
   ],
   "source": [
    "def repeat_simbols(string):\n",
    "    set = {}\n",
    "    for w in string:\n",
    "        if string.count(w) > 1:\n",
    "            set |= {w: string.count(w)}\n",
    "    return set\n",
    "\n",
    "repeat_simbols('string of nothing gggg')"
   ]
  }
 ],
 "metadata": {
  "kernelspec": {
   "display_name": "Python 3 (ipykernel)",
   "language": "python",
   "name": "python3"
  },
  "language_info": {
   "codemirror_mode": {
    "name": "ipython",
    "version": 3
   },
   "file_extension": ".py",
   "mimetype": "text/x-python",
   "name": "python",
   "nbconvert_exporter": "python",
   "pygments_lexer": "ipython3",
   "version": "3.10.10"
  }
 },
 "nbformat": 4,
 "nbformat_minor": 5
}
