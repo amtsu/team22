{
 "cells": [
  {
   "cell_type": "markdown",
   "id": "561b2dad-05ff-45c5-8256-0b4ac80cc3da",
   "metadata": {},
   "source": [
    "Словари\n",
    "\n",
    "- Создайте словарь person с ключами \"name\", \"age\" и \"city\" с вашими данными.\n",
    "- Добавьте в словарь person новый ключ \"email\" со значением вашего электронного адреса.\n",
    "- Удалите ключ \"city\" из словаря.\n",
    "- Создайте словарь fruits_quantity с товарами \"яблоко\": 5, \"банан\": 10, \"апельсин\": 7.\n",
    "- Увеличьте количество \"бананов\" в инвентаре на 3.\n",
    "- Создайте новый словарь fruits_prices, где цена для каждого продукта задана {\"яблоко\": 1.5, \"банан\": 2, \"апельсин\": 1.2}.\n",
    "- Посчитайте стоимость всех фруктов, имеющихся в наличии\n",
    "- Удалите \"Томат\" из словаря fruits_prices.\n",
    "- Создайте словарь students с данными о студентах {\"Иванов\": 22, \"Петрова\": 13, \"Сидоров\": 23}.\n",
    "- Добавьте нового студента \"Смирнова\" возрастом 20 лет в словарь.\n",
    "- Удалите студента \"Петрова\" из словаря."
   ]
  },
  {
   "cell_type": "code",
   "execution_count": 91,
   "id": "fa7fa0a1-7e05-47a0-9de3-d8d4fed23e5e",
   "metadata": {},
   "outputs": [],
   "source": [
    "person = {'name': 'Roman', 'age': 33, 'city': 'Moscow'}"
   ]
  },
  {
   "cell_type": "code",
   "execution_count": 92,
   "id": "2d510f99-e2a9-4212-a6ff-46e32ae0f39f",
   "metadata": {},
   "outputs": [],
   "source": [
    "person['email'] = 'kenn-nni@yandex.ru'"
   ]
  },
  {
   "cell_type": "code",
   "execution_count": 93,
   "id": "f2d5d460-60d5-4fbc-ba99-cbaa3927989b",
   "metadata": {},
   "outputs": [
    {
     "data": {
      "text/plain": [
       "{'name': 'Roman', 'age': 33, 'city': 'Moscow', 'email': 'kenn-nni@yandex.ru'}"
      ]
     },
     "execution_count": 93,
     "metadata": {},
     "output_type": "execute_result"
    }
   ],
   "source": [
    "person"
   ]
  },
  {
   "cell_type": "code",
   "execution_count": 94,
   "id": "a2ddf9f5-9e01-4eab-b055-8731f8df4e4f",
   "metadata": {},
   "outputs": [],
   "source": [
    "del person['city']"
   ]
  },
  {
   "cell_type": "code",
   "execution_count": 95,
   "id": "5b9f2484-ad25-4cd9-87c5-b50fc044761e",
   "metadata": {},
   "outputs": [
    {
     "data": {
      "text/plain": [
       "{'name': 'Roman', 'age': 33, 'email': 'kenn-nni@yandex.ru'}"
      ]
     },
     "execution_count": 95,
     "metadata": {},
     "output_type": "execute_result"
    }
   ],
   "source": [
    "person"
   ]
  },
  {
   "cell_type": "code",
   "execution_count": 96,
   "id": "ed1e4b8d-0023-424d-909b-fc684419d187",
   "metadata": {},
   "outputs": [],
   "source": [
    "fruits_quantity = {'яблоко': 5, 'банан': 10, 'апельсин': 7}"
   ]
  },
  {
   "cell_type": "code",
   "execution_count": 97,
   "id": "e8ecf040-1c64-4d0b-872d-4150bd8f6df1",
   "metadata": {},
   "outputs": [],
   "source": [
    "fruits_quantity['банан'] = fruits_quantity['банан'] + 3"
   ]
  },
  {
   "cell_type": "code",
   "execution_count": 98,
   "id": "f4363935-064b-48ef-862d-ae3f3db75662",
   "metadata": {},
   "outputs": [
    {
     "data": {
      "text/plain": [
       "{'яблоко': 5, 'банан': 13, 'апельсин': 7}"
      ]
     },
     "execution_count": 98,
     "metadata": {},
     "output_type": "execute_result"
    }
   ],
   "source": [
    "fruits_quantity"
   ]
  },
  {
   "cell_type": "code",
   "execution_count": 99,
   "id": "25d41fda-5627-449d-8424-63a06c75b373",
   "metadata": {},
   "outputs": [],
   "source": [
    "fruits_prices = {\"яблоко\": 1.5, \"банан\": 2, \"апельсин\": 1.2}"
   ]
  },
  {
   "cell_type": "code",
   "execution_count": 100,
   "id": "7574a7c4-3e81-4a19-971a-938bfa9048dd",
   "metadata": {},
   "outputs": [
    {
     "name": "stdout",
     "output_type": "stream",
     "text": [
      "Стоимость яблок = 7.5 Стоимость бананов = 26 Стоимость апельсинов = 8.4\n"
     ]
    }
   ],
   "source": [
    "apples = fruits_quantity['яблоко'] * fruits_prices['яблоко']\n",
    "bananas = fruits_quantity['банан'] * fruits_prices['банан']\n",
    "oranges = fruits_quantity['апельсин'] * fruits_prices['апельсин']\n",
    "print ('Стоимость яблок =', apples,\n",
    "       'Стоимость бананов =', bananas,\n",
    "       'Стоимость апельсинов =', oranges)"
   ]
  },
  {
   "cell_type": "code",
   "execution_count": 101,
   "id": "8df455c8-2e1c-4cb8-96c9-2c5588383f38",
   "metadata": {},
   "outputs": [
    {
     "ename": "KeyError",
     "evalue": "'Томат'",
     "output_type": "error",
     "traceback": [
      "\u001b[0;31m---------------------------------------------------------------------------\u001b[0m",
      "\u001b[0;31mKeyError\u001b[0m                                  Traceback (most recent call last)",
      "Cell \u001b[0;32mIn[101], line 1\u001b[0m\n\u001b[0;32m----> 1\u001b[0m \u001b[38;5;28;01mdel\u001b[39;00m fruits_prices[\u001b[38;5;124m'\u001b[39m\u001b[38;5;124mТомат\u001b[39m\u001b[38;5;124m'\u001b[39m]\n",
      "\u001b[0;31mKeyError\u001b[0m: 'Томат'"
     ]
    }
   ],
   "source": [
    "del fruits_prices['Томат']"
   ]
  },
  {
   "cell_type": "code",
   "execution_count": 102,
   "id": "c2d32173-2916-448e-872a-ea48b29c163a",
   "metadata": {},
   "outputs": [],
   "source": [
    "students = {\"Иванов\": 22, \"Петрова\": 13, \"Сидоров\": 23}"
   ]
  },
  {
   "cell_type": "code",
   "execution_count": 103,
   "id": "958d7915-3a6f-4478-9a0a-7005a2c15484",
   "metadata": {},
   "outputs": [],
   "source": [
    "students['Смирнова'] = 20"
   ]
  },
  {
   "cell_type": "code",
   "execution_count": 104,
   "id": "dda08816-236e-4667-8ed9-79dd8d5706f9",
   "metadata": {},
   "outputs": [],
   "source": [
    "del students['Петрова']"
   ]
  },
  {
   "cell_type": "code",
   "execution_count": 105,
   "id": "c20ac338-1b19-4439-a8d7-5a1ef0c0a51d",
   "metadata": {},
   "outputs": [
    {
     "data": {
      "text/plain": [
       "{'Иванов': 22, 'Сидоров': 23, 'Смирнова': 20}"
      ]
     },
     "execution_count": 105,
     "metadata": {},
     "output_type": "execute_result"
    }
   ],
   "source": [
    "students"
   ]
  }
 ],
 "metadata": {
  "kernelspec": {
   "display_name": "Python 3 (ipykernel)",
   "language": "python",
   "name": "python3"
  },
  "language_info": {
   "codemirror_mode": {
    "name": "ipython",
    "version": 3
   },
   "file_extension": ".py",
   "mimetype": "text/x-python",
   "name": "python",
   "nbconvert_exporter": "python",
   "pygments_lexer": "ipython3",
   "version": "3.10.10"
  }
 },
 "nbformat": 4,
 "nbformat_minor": 5
}
