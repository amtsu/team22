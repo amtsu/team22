{
 "cells": [
  {
   "cell_type": "markdown",
   "id": "26a343d6-f989-4470-aa10-1d1be98c2867",
   "metadata": {},
   "source": [
    "Условные операторы \n",
    "\n",
    "- На основе значения возраста из словаря person, выведите сообщение \"Совершеннолетний\" или \"Несовершеннолетний\".\n",
    "- Сравните длину множества set1 с другим множеством set2 и выведите сообщение о том, какое из множеств больше.\n",
    "- Напишите условие, которое проверяет, есть ли \"груша\" в словаре fruits_quantity, и если нет, добавляет \"грушу\" с количеством 3.\n",
    "- Выведите сообщение \"Дорогой товар\" для продуктов, цена которых превышает 1.5.\n",
    "- Задайте словарь Seven11 с таким содержанием {\"яйца\": 40, \"батон хлеба\" : 20}\n",
    "\t  Жена отправляет мужа-программиста в севенэлевен:\n",
    "\t — Купи батон хлеба, если будут яйца — возьми десяток.\n",
    "\tВыведите на экран, сколько хлеба купил муж-программист, и сколько хлеба и яиц осталось в магазине.\n",
    "- Напишите условие, которое проверяет возраст студента \"Иванова\" и выводит сообщение \"Совершеннолетний\" или \"Несовершеннолетний\".\n"
   ]
  },
  {
   "cell_type": "code",
   "execution_count": 180,
   "id": "b4f0de7d-b27e-48fa-8c88-08fedc2f69af",
   "metadata": {},
   "outputs": [],
   "source": [
    "person = {'name': 'Roman', 'age': 33, 'city': 'Moscow'}"
   ]
  },
  {
   "cell_type": "code",
   "execution_count": 181,
   "id": "24658d42-c00f-44b9-b6c6-d94070669ad2",
   "metadata": {},
   "outputs": [],
   "source": [
    "set1 = {1, 2, 3, 4, 5}"
   ]
  },
  {
   "cell_type": "code",
   "execution_count": 182,
   "id": "b3499285-6fe0-4609-8c31-6395f83e503f",
   "metadata": {},
   "outputs": [],
   "source": [
    "set2 = {4, 5, 6, 7, 8}"
   ]
  },
  {
   "cell_type": "code",
   "execution_count": 183,
   "id": "6494986b-a818-4ec2-8faa-783b46d7dd87",
   "metadata": {},
   "outputs": [],
   "source": [
    "fruits_quantity = {'яблоко': 5, 'банан': 10, 'апельсин': 7}"
   ]
  },
  {
   "cell_type": "code",
   "execution_count": 184,
   "id": "8fd567b2-40a9-4e2b-a38d-860a8689880e",
   "metadata": {},
   "outputs": [
    {
     "name": "stdout",
     "output_type": "stream",
     "text": [
      "Совершеннолетний\n"
     ]
    }
   ],
   "source": [
    "if person['age'] >= 18:\n",
    "    print ('Совершеннолетний')\n",
    "else:\n",
    "    print ('Несовершеннолетний')"
   ]
  },
  {
   "cell_type": "code",
   "execution_count": 185,
   "id": "e5aaf4e9-35fe-439e-92b5-d203113bb4a0",
   "metadata": {},
   "outputs": [
    {
     "name": "stdout",
     "output_type": "stream",
     "text": [
      "Множества равны\n"
     ]
    }
   ],
   "source": [
    "if len(set1) > len(set2):\n",
    "    print('set1 больше')\n",
    "elif len(set1) < len(set2):\n",
    "    print('set2 больше')\n",
    "else:\n",
    "    print('Множества равны')"
   ]
  },
  {
   "cell_type": "code",
   "execution_count": 186,
   "id": "a8121d42-0d08-4150-bd34-46f8f56fd44e",
   "metadata": {},
   "outputs": [],
   "source": [
    "if 'груша' in fruits_quantity:\n",
    "    print('груша есть тут')\n",
    "else:\n",
    "    fruits_quantity['груша'] = 3"
   ]
  },
  {
   "cell_type": "code",
   "execution_count": 187,
   "id": "7ad41447-1b34-48a2-933b-a99d4404b7a9",
   "metadata": {},
   "outputs": [
    {
     "data": {
      "text/plain": [
       "{'яблоко': 5, 'банан': 10, 'апельсин': 7, 'груша': 3}"
      ]
     },
     "execution_count": 187,
     "metadata": {},
     "output_type": "execute_result"
    }
   ],
   "source": [
    "fruits_quantity"
   ]
  },
  {
   "cell_type": "code",
   "execution_count": 188,
   "id": "7a9654fb-38f1-46eb-acf6-c869eee3ae81",
   "metadata": {},
   "outputs": [],
   "source": [
    "fruits_prices = {\"яблоко\": 1.5, \"банан\": 2, \"апельсин\": 1.2}"
   ]
  },
  {
   "cell_type": "code",
   "execution_count": 200,
   "id": "98f41b4c-085e-4f87-9f67-5eca6db2f582",
   "metadata": {},
   "outputs": [
    {
     "name": "stdout",
     "output_type": "stream",
     "text": [
      "яблоко 1.5 Товар по хорошей цене\n",
      "банан 2 Дорогой товар\n",
      "апельсин 1.2 Товар по хорошей цене\n"
     ]
    }
   ],
   "source": [
    "for key in fruits_prices:\n",
    "    if fruits_prices[key] <= 1.5:\n",
    "        print ((key),(fruits_prices[key]), 'Товар по хорошей цене')\n",
    "    elif fruits_prices[key] > 1.5:\n",
    "        print ((key),(fruits_prices[key]), 'Дорогой товар')\n",
    "else:\n",
    "    None"
   ]
  },
  {
   "cell_type": "code",
   "execution_count": 237,
   "id": "f9aeaac8-3a7e-4e45-b0a9-ac9e44e1cf59",
   "metadata": {},
   "outputs": [],
   "source": [
    "Seven11 = {\"яйца\": 40, \"батон хлеба\" : 20}\n",
    "husband_programmer = {\"яйца\": 0, \"батон хлеба\" : 0}\n",
    "need_eggs = 10\n",
    "need_bread = 1"
   ]
  },
  {
   "cell_type": "code",
   "execution_count": 238,
   "id": "03fff081-005c-4d2c-885d-54f209bd2d0e",
   "metadata": {},
   "outputs": [
    {
     "name": "stdout",
     "output_type": "stream",
     "text": [
      "Список закупленнгого у мужа-программиста -  {'яйца': 10, 'батон хлеба': 1}\n",
      "Остатки на складах магагзина - {'яйца': 30, 'батон хлеба': 19}\n"
     ]
    }
   ],
   "source": [
    "if Seven11['яйца'] >= 10:\n",
    "    Seven11['яйца'] = Seven11['яйца'] - need_eggs\n",
    "    husband_programmer['яйца'] = husband_programmer['яйца'] + need_eggs\n",
    "if Seven11['батон хлеба'] >= 1:\n",
    "    Seven11['батон хлеба'] = Seven11['батон хлеба'] - need_bread\n",
    "    husband_programmer['батон хлеба'] = husband_programmer['батон хлеба'] + need_bread\n",
    "    print ('Список закупленнгого у мужа-программиста - ', husband_programmer)\n",
    "    print ('Остатки на складах магагзина -', Seven11)"
   ]
  },
  {
   "cell_type": "code",
   "execution_count": 243,
   "id": "058a6830-d075-434f-bbc3-c420f5251a49",
   "metadata": {},
   "outputs": [],
   "source": [
    "students = {\"Иванов\": 22, \"Петрова\": 13, \"Сидоров\": 23}"
   ]
  },
  {
   "cell_type": "code",
   "execution_count": 244,
   "id": "e57477e4-6a7f-48d0-94db-122d8ae1117b",
   "metadata": {},
   "outputs": [
    {
     "name": "stdout",
     "output_type": "stream",
     "text": [
      "Совершеннолетний\n"
     ]
    }
   ],
   "source": [
    "if students['Иванов'] >= 18:\n",
    "    print ('Совершеннолетний')\n",
    "else:\n",
    "    print ('Несовершеннолетний')"
   ]
  },
  {
   "cell_type": "code",
   "execution_count": null,
   "id": "c1e84278-197f-467d-ae29-17e0d3f57525",
   "metadata": {},
   "outputs": [],
   "source": []
  }
 ],
 "metadata": {
  "kernelspec": {
   "display_name": "Python 3 (ipykernel)",
   "language": "python",
   "name": "python3"
  },
  "language_info": {
   "codemirror_mode": {
    "name": "ipython",
    "version": 3
   },
   "file_extension": ".py",
   "mimetype": "text/x-python",
   "name": "python",
   "nbconvert_exporter": "python",
   "pygments_lexer": "ipython3",
   "version": "3.10.10"
  }
 },
 "nbformat": 4,
 "nbformat_minor": 5
}
