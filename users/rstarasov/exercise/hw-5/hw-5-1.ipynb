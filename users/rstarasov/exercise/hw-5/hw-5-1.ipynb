{
 "cells": [
  {
   "cell_type": "markdown",
   "id": "7ece7ccb-0529-416b-a324-78e97f3fdd6a",
   "metadata": {},
   "source": [
    "Множества \n",
    "\n",
    "- Создайте множество set1 из целых чисел: 1, 2, 3, 4, 5.\n",
    "- Добавьте в это множество элемент 6.\n",
    "- Удалите элемент 2 из множества.\n",
    "- Проверьте, содержит ли множество элемент 3.\n",
    "- Создайте второе множество set2 с элементами 4, 5, 6, 7, 8.\n",
    "- Найдите объединение множеств set1 и set2.\n",
    "- Найдите разность множеств set1 и set2.\n",
    "- Создайте два множества set1 и set2, содержащие цвета радуги: \"красный\", \"оранжевый\", \"желтый\", \"зеленый\", \"голубой\", \"синий\", \"фиолетовый\" и  \"оранжевый\", \"зеленый\", \"голубой\", \"синий\", \"Мальвиновый\".\n",
    "- Найдите пересечение множеств set1 и set2.\n",
    "- Объедините множества set1 и set2 и сохраните результат в новое множество rainbow_colors."
   ]
  },
  {
   "cell_type": "code",
   "execution_count": 43,
   "id": "da4ffdb1-9eda-47b7-9d11-db7c3e35e665",
   "metadata": {},
   "outputs": [],
   "source": [
    "set1 = {1, 2, 3, 4, 5}"
   ]
  },
  {
   "cell_type": "code",
   "execution_count": 44,
   "id": "02a78bbc-8b08-4a82-968b-1d91cf73775f",
   "metadata": {},
   "outputs": [],
   "source": [
    "set1.add(6)"
   ]
  },
  {
   "cell_type": "code",
   "execution_count": 45,
   "id": "dd95cb0f-2e63-4d3a-ac52-1d76c11e06af",
   "metadata": {},
   "outputs": [],
   "source": [
    "set1.remove(2)"
   ]
  },
  {
   "cell_type": "code",
   "execution_count": 46,
   "id": "e1f9cb22-1d38-40c5-b6ac-da486fc7d21f",
   "metadata": {},
   "outputs": [
    {
     "data": {
      "text/plain": [
       "{1, 3, 4, 5, 6}"
      ]
     },
     "execution_count": 46,
     "metadata": {},
     "output_type": "execute_result"
    }
   ],
   "source": [
    "set1\n"
   ]
  },
  {
   "cell_type": "code",
   "execution_count": 47,
   "id": "3f5f3b1c-3b1c-4329-b512-8825b3230067",
   "metadata": {},
   "outputs": [
    {
     "name": "stdout",
     "output_type": "stream",
     "text": [
      "Содержится\n"
     ]
    }
   ],
   "source": [
    "if 3 in set1:\n",
    "    print ('Содержится')\n",
    "else:\n",
    "    print ('Нету такого тут')"
   ]
  },
  {
   "cell_type": "code",
   "execution_count": 48,
   "id": "e002f520-55b2-4f7f-a58e-cb2b8c0fa0bc",
   "metadata": {},
   "outputs": [],
   "source": [
    "set2 = {4, 5, 6, 7, 8}"
   ]
  },
  {
   "cell_type": "code",
   "execution_count": 49,
   "id": "d7243608-8d6a-4667-a614-911fd1315bc9",
   "metadata": {},
   "outputs": [
    {
     "data": {
      "text/plain": [
       "{1, 3, 4, 5, 6, 7, 8}"
      ]
     },
     "execution_count": 49,
     "metadata": {},
     "output_type": "execute_result"
    }
   ],
   "source": [
    "set1.union(set2)"
   ]
  },
  {
   "cell_type": "code",
   "execution_count": 50,
   "id": "b734401d-1fda-4451-98a2-f7fc224d8da9",
   "metadata": {},
   "outputs": [
    {
     "data": {
      "text/plain": [
       "{1, 3, 7, 8}"
      ]
     },
     "execution_count": 50,
     "metadata": {},
     "output_type": "execute_result"
    }
   ],
   "source": [
    "set1.symmetric_difference(set2)"
   ]
  },
  {
   "cell_type": "code",
   "execution_count": 51,
   "id": "8e0d0a01-2077-4e1c-9020-9d2192977646",
   "metadata": {},
   "outputs": [],
   "source": [
    "set1 = {\"красный\", \"оранжевый\", \"желтый\", \"зеленый\", \"голубой\", \"синий\", \"фиолетовый\"}"
   ]
  },
  {
   "cell_type": "code",
   "execution_count": 52,
   "id": "0df41e1a-f381-4dc3-871f-9869cb0295cc",
   "metadata": {},
   "outputs": [],
   "source": [
    "set2 = {\"оранжевый\", \"зеленый\", \"голубой\", \"синий\", \"Мальвиновый\"}"
   ]
  },
  {
   "cell_type": "code",
   "execution_count": 53,
   "id": "849e99d8-3d19-4f30-9cce-ee5ffcab81b1",
   "metadata": {},
   "outputs": [
    {
     "data": {
      "text/plain": [
       "{'голубой', 'зеленый', 'оранжевый', 'синий'}"
      ]
     },
     "execution_count": 53,
     "metadata": {},
     "output_type": "execute_result"
    }
   ],
   "source": [
    "set1.intersection(set2)"
   ]
  },
  {
   "cell_type": "code",
   "execution_count": 54,
   "id": "eadd2226-dca8-4a00-a8c0-7c433818872c",
   "metadata": {},
   "outputs": [
    {
     "name": "stdout",
     "output_type": "stream",
     "text": [
      "{'голубой', 'желтый', 'фиолетовый', 'красный', 'синий', 'зеленый', 'Мальвиновый', 'оранжевый'}\n"
     ]
    }
   ],
   "source": [
    "rainbow_colors = set1.union(set2)\n",
    "print (rainbow_colors)"
   ]
  }
 ],
 "metadata": {
  "kernelspec": {
   "display_name": "Python 3 (ipykernel)",
   "language": "python",
   "name": "python3"
  },
  "language_info": {
   "codemirror_mode": {
    "name": "ipython",
    "version": 3
   },
   "file_extension": ".py",
   "mimetype": "text/x-python",
   "name": "python",
   "nbconvert_exporter": "python",
   "pygments_lexer": "ipython3",
   "version": "3.10.10"
  }
 },
 "nbformat": 4,
 "nbformat_minor": 5
}
