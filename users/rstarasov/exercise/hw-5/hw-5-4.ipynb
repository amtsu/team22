{
 "cells": [
  {
   "cell_type": "markdown",
   "id": "f18886a6-0355-4c81-8842-46435dfa38fb",
   "metadata": {},
   "source": [
    "Циклы \n",
    "\n",
    "- Напишите цикл for, который выводит все элементы множества set1.\n",
    "- Напишите цикл while, который выводит квадраты чисел от 1 до 5.\n",
    "- Напишите цикл for, который перебирает все ключи словаря fruits_quantity и выводит каждый товар.\n",
    "- Выведите сообщение \"%название фрукта% - дорогой товар\" для фруктов из fruit_prices, цена которых превышает 1.5, подставив вместо %название фрукта% название соответствующих \"дорогих\" фруктов\n",
    "- Посчитайте стоимость всех фруктов, имеющихся в наличии\n",
    "- Используя цикл for, выведите всех студентов и их возраст из словаря students."
   ]
  },
  {
   "cell_type": "code",
   "execution_count": 2,
   "id": "c855cdec-fa15-46a9-981b-f9cd28c6c4c8",
   "metadata": {},
   "outputs": [],
   "source": [
    "set1 = {1, 2, 3, 4, 5}"
   ]
  },
  {
   "cell_type": "code",
   "execution_count": 3,
   "id": "55d8e925-5294-4910-9e3f-e4fdb8ccd96b",
   "metadata": {},
   "outputs": [],
   "source": [
    "fruits_quantity = {'яблоко': 5, 'банан': 10, 'апельсин': 7}"
   ]
  },
  {
   "cell_type": "code",
   "execution_count": 4,
   "id": "f969eb87-14e2-47de-b760-c66744574b41",
   "metadata": {},
   "outputs": [],
   "source": [
    "fruits_prices = {\"яблоко\": 1.5, \"банан\": 2, \"апельсин\": 1.2}"
   ]
  },
  {
   "cell_type": "code",
   "execution_count": 5,
   "id": "489fd64a-c954-4d8c-900e-f4df133d010e",
   "metadata": {},
   "outputs": [],
   "source": [
    "students = {\"Иванов\": 22, \"Петрова\": 13, \"Сидоров\": 23}"
   ]
  },
  {
   "cell_type": "code",
   "execution_count": 6,
   "id": "6257170c-612f-4342-9631-2018530d9f7f",
   "metadata": {},
   "outputs": [
    {
     "name": "stdout",
     "output_type": "stream",
     "text": [
      "1\n",
      "2\n",
      "3\n",
      "4\n",
      "5\n"
     ]
    }
   ],
   "source": [
    "for int in set1:\n",
    "    print (int)"
   ]
  },
  {
   "cell_type": "code",
   "execution_count": 7,
   "id": "4f403ed1-591a-4992-87dc-572e964f57a1",
   "metadata": {},
   "outputs": [
    {
     "name": "stdout",
     "output_type": "stream",
     "text": [
      "1\n",
      "4\n",
      "9\n",
      "16\n",
      "25\n"
     ]
    }
   ],
   "source": [
    "count = 1\n",
    "\n",
    "while count <= 5:\n",
    "    square = count * count\n",
    "    count += 1\n",
    "    print(square)"
   ]
  },
  {
   "cell_type": "code",
   "execution_count": 8,
   "id": "414dacb2-a1d4-4548-aa07-fb1241cfa6ec",
   "metadata": {},
   "outputs": [
    {
     "name": "stdout",
     "output_type": "stream",
     "text": [
      "яблоко\n",
      "банан\n",
      "апельсин\n"
     ]
    }
   ],
   "source": [
    "for key in fruits_quantity:\n",
    "    print (key)"
   ]
  },
  {
   "cell_type": "code",
   "execution_count": 9,
   "id": "81690095-1342-4c3f-a9d0-cb533cb28397",
   "metadata": {},
   "outputs": [
    {
     "name": "stdout",
     "output_type": "stream",
     "text": [
      "яблоко 1.5 - Товар по хорошей цене\n",
      "банан 2 - Дорогой товар\n",
      "апельсин 1.2 - Товар по хорошей цене\n"
     ]
    }
   ],
   "source": [
    "for key in fruits_prices:\n",
    "    if fruits_prices[key] <= 1.5:\n",
    "        print ((key),(fruits_prices[key]), '- Товар по хорошей цене')\n",
    "    elif fruits_prices[key] > 1.5:\n",
    "        print ((key),(fruits_prices[key]), '- Дорогой товар')"
   ]
  },
  {
   "cell_type": "code",
   "execution_count": 26,
   "id": "d0a83b3c-44b3-4b52-9fca-0be062bd3a61",
   "metadata": {},
   "outputs": [
    {
     "name": "stdout",
     "output_type": "stream",
     "text": [
      "Общая стоимость по позиции \" яблоко \" составит - 7.5\n",
      "Общая стоимость по позиции \" банан \" составит - 20\n",
      "Общая стоимость по позиции \" апельсин \" составит - 8.4\n",
      "Общая стоимость всех фруктов - 35.9\n"
     ]
    }
   ],
   "source": [
    "all_fruits = []\n",
    "for key in fruits_quantity:\n",
    "    how_much = fruits_quantity[key] * fruits_prices[key]\n",
    "    print('Общая стоимость по позиции', '\"', key, '\"', 'составит -', how_much)\n",
    "    all_fruits.append(how_much)\n",
    "print ('Общая стоимость всех фруктов -', sum(all_fruits))"
   ]
  },
  {
   "cell_type": "code",
   "execution_count": 11,
   "id": "e0c2a569-d2ba-4adc-9372-f079aa68750f",
   "metadata": {},
   "outputs": [
    {
     "name": "stdout",
     "output_type": "stream",
     "text": [
      "Иванов 22\n",
      "Петрова 13\n",
      "Сидоров 23\n"
     ]
    }
   ],
   "source": [
    "for student in students:\n",
    "    print(student, students[student])"
   ]
  },
  {
   "cell_type": "code",
   "execution_count": null,
   "id": "e5243558-c4b0-4966-aab1-0701cde414ce",
   "metadata": {},
   "outputs": [],
   "source": []
  }
 ],
 "metadata": {
  "kernelspec": {
   "display_name": "Python 3 (ipykernel)",
   "language": "python",
   "name": "python3"
  },
  "language_info": {
   "codemirror_mode": {
    "name": "ipython",
    "version": 3
   },
   "file_extension": ".py",
   "mimetype": "text/x-python",
   "name": "python",
   "nbconvert_exporter": "python",
   "pygments_lexer": "ipython3",
   "version": "3.10.10"
  }
 },
 "nbformat": 4,
 "nbformat_minor": 5
}
