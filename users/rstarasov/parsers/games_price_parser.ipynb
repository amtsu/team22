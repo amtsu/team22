{
 "cells": [
  {
   "cell_type": "code",
   "execution_count": 34,
   "id": "da9311f9-044e-43f5-98a8-e3adebe02911",
   "metadata": {},
   "outputs": [
    {
     "name": "stdout",
     "output_type": "stream",
     "text": [
      "Данные сохранены\n",
      "Данные сохранены\n",
      "Данные сохранены\n",
      "Данные сохранены\n",
      "Данные сохранены\n",
      "Данные сохранены\n",
      "Программа завершила работу\n"
     ]
    }
   ],
   "source": [
    "# Данный код является парсером, который собирает информацию с сайта по продаже игр и сохраняет ее в локальную БД\n",
    "# собирается информация с названием интересующей игры, изначальной стоимостью и нынешней стоимостью\n",
    "# написан код, чтобы проследить падение или рост цен на избранные пользователем игры\n",
    "# основное внимание уделяется столбцу price_now, тут мы со временем можем наблюдать падение цены. А столбец price_first присутствует для проверки на возможную манипуляцию со стороны продавца\n",
    "\n",
    "# !!!ВАЖНО!!! после запуска код работает от 21 до 60 секунд (при условии, что выбраны дефолтные 6 ссылок)\n",
    "# это замедление внедрено для симуляции действий пользователя проверяющего интересующие игры, чтобы действия программы не выглядели ботом\n",
    "\n",
    "from datetime import datetime\n",
    "from bs4 import BeautifulSoup\n",
    "import time\n",
    "import requests\n",
    "import sqlite3\n",
    "import random\n",
    "\n",
    "class Parser:\n",
    "    # этот класс создан с целью открыть страницу, вытащить название и цены интересующего продукта\n",
    "    def __init__(self, url):\n",
    "        self.url = url\n",
    "\n",
    "    # метод отвечает за парсинг самой страницы и собирает весь ее текс\n",
    "    def open_html(self):\n",
    "        html = requests.get(self.url)\n",
    "        return html.text\n",
    "\n",
    "    # метод собирает название продукта\n",
    "    def name_parser(self, html):\n",
    "        soup = BeautifulSoup(html, 'html.parser')\n",
    "\n",
    "        name_element = soup.find_all('h1', class_='product_title entry-title elementor-heading-title elementor-size-default' )\n",
    "        name_element = name_element[0].text.strip('Купить (Версия для РФ)')\n",
    "        return name_element\n",
    "\n",
    "    # метод собирает первоначальную цену и текущую цену\n",
    "    def price_parser(self, html):\n",
    "        soup = BeautifulSoup(html, 'html.parser')\n",
    "\n",
    "        price_elements = soup.find_all('span', class_='screen-reader-text')\n",
    "\n",
    "        price_elements[0] = price_elements[0].text.strip('Первоначальная цена составляла \\xa0₽.')\n",
    "        price_elements[1] = price_elements[1].text.strip('Текущая цена: \\xa0₽.')\n",
    "        price_elements.pop(2)\n",
    "        return price_elements\n",
    "\n",
    "class DatabaseManager:\n",
    "    # этот класс подключается, создает таблицу в БД и сохраняет собранные парсером данные\n",
    "    def __init__(self):\n",
    "        self.connection = sqlite3.connect('DB_for_parsing.db')\n",
    "        self.cursor = self.connection.cursor()\n",
    "        self.create_table()\n",
    "\n",
    "    # метод создает таблицу в БД, если таковой еще не существует\n",
    "    def create_table(self):\n",
    "        IGM_prices = '''\n",
    "        create table if not exists wanted_games (\n",
    "            name varchar(50),\n",
    "            price_first varchar(30),\n",
    "            price_now varchar(30),\n",
    "            date varchar(30)\n",
    "        )\n",
    "        '''\n",
    "        self.cursor.execute(IGM_prices)\n",
    "        self.connection.commit()\n",
    "\n",
    "    # метод сохраняет собранные данные в созданную таблицу по имени и ценам\n",
    "    def insert_name_prices(self, name, price_first, price_now):\n",
    "        date = datetime.now().strftime('%Y-%m-%d %H:%M:%S')\n",
    "        sql_insert = '''\n",
    "        insert into wanted_games (name, price_first, price_now, date)\n",
    "        values (?, ?, ?, ?)\n",
    "        '''\n",
    "        self.cursor.execute(sql_insert, (name, price_first, price_now, date))\n",
    "        self.connection.commit()\n",
    "\n",
    "    # закрываем соединение с БД\n",
    "    def close(self):\n",
    "        self.cursor.close()\n",
    "        self.connection.close()\n",
    "\n",
    "\n",
    "def main_parser_engin():\n",
    "    # эта функция запускает ранее созданные классы в работу, подавая на вход выбранные url и путь к БД\n",
    "\n",
    "    # ниже идет присвоение url переменным с понятным названием, для упрощения редактирования списка urls\n",
    "    mortal_kombat_11 = 'https://igm.gg/shop/games/mortal-kombat-11/'\n",
    "    manor_lords = 'https://igm.gg/shop/games/manor-lords/'\n",
    "    resident_evil_2 = 'https://igm.gg/shop/games/resident-evil-2/'\n",
    "    helldivers_2 = 'https://igm.gg/shop/games/helldivers-2-2-3/'\n",
    "    metro_exodus = 'https://igm.gg/shop/games/metro-exodus-gold/'\n",
    "    pacific_drive = 'https://igm.gg/shop/games/pacific-drive/'\n",
    "\n",
    "    urls = [helldivers_2, metro_exodus, pacific_drive, resident_evil_2, manor_lords, mortal_kombat_11]\n",
    "    db_path = r'C:\\Users\\Роман\\Desktop\\BD\\IGM_favorite_games_prices.db'\n",
    "\n",
    "    # этот цикл работает со списком url созданным выше\n",
    "    # каждый url проходит через парсер и необходимая информация сохраняется в БД\n",
    "    # в конце цикла есть переменная delay, которая играет роль задержки перед запуском новой итераци, дабы сайт не воспринял нашу программу как бота\n",
    "    for url in urls:\n",
    "        parser = Parser(url)\n",
    "        db_manager = DatabaseManager()\n",
    "\n",
    "        try:\n",
    "            html = parser.open_html()\n",
    "            prices = parser.price_parser(html)\n",
    "            name = parser.name_parser(html)\n",
    "            db_manager.insert_name_prices(name, prices[0], prices[1])\n",
    "            print('Данные сохранены')\n",
    "        except Exception as e:\n",
    "            print(f'Ошибка: {e}')\n",
    "        finally:\n",
    "            db_manager.close()\n",
    "\n",
    "        delay = random.uniform(3, 10)\n",
    "        time.sleep(delay)\n",
    "    print('Программа завершила работу') \n",
    "\n",
    "\n",
    "main_parser_engin()\n",
    "# Дождитесь окончания программы (появится сообщение \"Программа завершила работу\")"
   ]
  },
  {
   "cell_type": "code",
   "execution_count": 35,
   "id": "03c44b60-01b5-4662-9457-c4ed5e8ed30b",
   "metadata": {},
   "outputs": [
    {
     "data": {
      "text/plain": [
       "[('HELLDIVERS 2', '4 699', '3 899', '2024-07-29 00:34:44'),\n",
       " ('Metro Exodus – Gold Edition', '1 599', '599', '2024-07-29 00:34:51'),\n",
       " ('Pacific Drive', '1 799', '1 699', '2024-07-29 00:34:56'),\n",
       " ('Resident Evil 2', '2 999', '799', '2024-07-29 00:35:06'),\n",
       " ('Manor Lords', '1 499', '1 199', '2024-07-29 00:35:10'),\n",
       " ('Mortal Kombat 11', '4 399', '399', '2024-07-29 00:35:17'),\n",
       " ('HELLDIVERS 2', '4 699', '3 899', '2024-07-29 00:36:30'),\n",
       " ('Metro Exodus – Gold Edition', '1 599', '599', '2024-07-29 00:36:38'),\n",
       " ('Pacific Drive', '1 799', '1 699', '2024-07-29 00:36:47'),\n",
       " ('Resident Evil 2', '2 999', '799', '2024-07-29 00:36:52'),\n",
       " ('Manor Lords', '1 499', '1 199', '2024-07-29 00:37:02'),\n",
       " ('Mortal Kombat 11', '4 399', '399', '2024-07-29 00:37:10'),\n",
       " ('HELLDIVERS 2', '4 699', '3 899', '2024-07-29 00:46:14'),\n",
       " ('Metro Exodus – Gold Edition', '1 599', '599', '2024-07-29 00:46:18'),\n",
       " ('Pacific Drive', '1 799', '1 699', '2024-07-29 00:46:27'),\n",
       " ('Resident Evil 2', '2 999', '799', '2024-07-29 00:46:36'),\n",
       " ('Manor Lords', '1 499', '1 199', '2024-07-29 00:46:40'),\n",
       " ('Mortal Kombat 11', '4 399', '399', '2024-07-29 00:46:50'),\n",
       " ('HELLDIVERS 2', '4 699', '3 899', '2024-07-29 01:01:37'),\n",
       " ('Metro Exodus – Gold Edition', '1 599', '599', '2024-07-29 01:01:46'),\n",
       " ('Pacific Drive', '1 799', '1 699', '2024-07-29 01:01:54'),\n",
       " ('Resident Evil 2', '2 999', '799', '2024-07-29 01:02:04'),\n",
       " ('Manor Lords', '1 499', '1 199', '2024-07-29 01:02:11'),\n",
       " ('Mortal Kombat 11', '4 399', '399', '2024-07-29 01:02:21')]"
      ]
     },
     "execution_count": 35,
     "metadata": {},
     "output_type": "execute_result"
    }
   ],
   "source": [
    "# можно запустить этот код, посмотреть, что появилось в базе данных\n",
    "sqlite_connection = sqlite3.connect('DB_for_parsing.db')\n",
    "cursor = sqlite_connection.cursor()\n",
    "\n",
    "cursor.execute(\"select * from wanted_games\")\n",
    "cursor.fetchall()"
   ]
  },
  {
   "cell_type": "code",
   "execution_count": 36,
   "id": "7da1eab8-10de-4c71-849b-86b327416c70",
   "metadata": {},
   "outputs": [
    {
     "data": {
      "text/plain": [
       "[('399',), ('399',), ('399',), ('399',)]"
      ]
     },
     "execution_count": 36,
     "metadata": {},
     "output_type": "execute_result"
    }
   ],
   "source": [
    "# так можно выделить нужный столбец с ценой на определенный товар (в данном случае Мортал Комбат)\n",
    "cursor.execute('select price_now from wanted_games where name = \"Mortal Kombat 11\"')\n",
    "cursor.fetchall()"
   ]
  },
  {
   "cell_type": "code",
   "execution_count": 37,
   "id": "a0bb2daa-9e7c-4abd-bfe2-b822030ecfab",
   "metadata": {},
   "outputs": [],
   "source": [
    "cursor.close()"
   ]
  },
  {
   "cell_type": "code",
   "execution_count": null,
   "id": "ee7dde16-a9ec-4e3e-a737-4c675eec1bae",
   "metadata": {},
   "outputs": [],
   "source": []
  }
 ],
 "metadata": {
  "kernelspec": {
   "display_name": "Python 3 (ipykernel)",
   "language": "python",
   "name": "python3"
  },
  "language_info": {
   "codemirror_mode": {
    "name": "ipython",
    "version": 3
   },
   "file_extension": ".py",
   "mimetype": "text/x-python",
   "name": "python",
   "nbconvert_exporter": "python",
   "pygments_lexer": "ipython3",
   "version": "3.10.10"
  }
 },
 "nbformat": 4,
 "nbformat_minor": 5
}
