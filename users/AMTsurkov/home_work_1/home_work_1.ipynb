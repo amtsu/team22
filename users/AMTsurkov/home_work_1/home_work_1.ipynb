{
 "cells": [
  {
   "cell_type": "markdown",
   "id": "95ed7362",
   "metadata": {},
   "source": [
    "# HW\n",
    "\n",
    "Ответьте на вопросы:\n",
    "- что такое программа?\n",
    "- зачем нужны программы?\n",
    "- зачем нужен язык программирования?\n",
    "- что могу программы?\n",
    "- из чего состоят программы?"
   ]
  },
  {
   "cell_type": "markdown",
   "id": "3d392ee6",
   "metadata": {},
   "source": [
    "# что такое программа?"
   ]
  },
  {
   "cell_type": "code",
   "execution_count": null,
   "id": "48629c4a",
   "metadata": {},
   "outputs": [],
   "source": [
    "программа это ...."
   ]
  }
 ],
 "metadata": {
  "kernelspec": {
   "display_name": "Python 3 (ipykernel)",
   "language": "python",
   "name": "python3"
  },
  "language_info": {
   "codemirror_mode": {
    "name": "ipython",
    "version": 3
   },
   "file_extension": ".py",
   "mimetype": "text/x-python",
   "name": "python",
   "nbconvert_exporter": "python",
   "pygments_lexer": "ipython3",
   "version": "3.9.7"
  }
 },
 "nbformat": 4,
 "nbformat_minor": 5
}
