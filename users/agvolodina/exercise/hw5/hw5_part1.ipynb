{
 "cells": [
  {
   "cell_type": "markdown",
   "id": "a9ea8135-af06-484f-9388-fe227048a424",
   "metadata": {},
   "source": [
    "Множества "
   ]
  },
  {
   "cell_type": "code",
   "execution_count": null,
   "id": "352fd82f-dec6-44a3-89de-da5dec2f2f68",
   "metadata": {},
   "outputs": [],
   "source": [
    "#Создайте множество set1 из целых чисел: 1, 2, 3, 4, 5."
   ]
  },
  {
   "cell_type": "code",
   "execution_count": 2,
   "id": "bb0bbad4-6b9f-4cc5-9fd5-ff905e60f694",
   "metadata": {},
   "outputs": [
    {
     "name": "stdout",
     "output_type": "stream",
     "text": [
      "{1, 2, 3, 4, 5}\n"
     ]
    }
   ],
   "source": [
    "set1 = {1, 2, 3, 4, 5}\n",
    "print(set1)"
   ]
  },
  {
   "cell_type": "code",
   "execution_count": null,
   "id": "eacfb62b-66f8-486f-bf48-3a86c8c045b3",
   "metadata": {},
   "outputs": [],
   "source": [
    "#Добавьте в это множество элемент 6."
   ]
  },
  {
   "cell_type": "code",
   "execution_count": 3,
   "id": "b36974d8-f8d1-4ae8-b2bd-59a606389fba",
   "metadata": {},
   "outputs": [
    {
     "name": "stdout",
     "output_type": "stream",
     "text": [
      "{1, 2, 3, 4, 5, 6}\n"
     ]
    }
   ],
   "source": [
    "set1.add(6)\n",
    "print(set1)"
   ]
  },
  {
   "cell_type": "code",
   "execution_count": null,
   "id": "379e36ca-df1e-47e2-8788-08596204c70c",
   "metadata": {},
   "outputs": [],
   "source": [
    "#Удалите элемент 2 из множества."
   ]
  },
  {
   "cell_type": "code",
   "execution_count": 8,
   "id": "81202fce-e539-4929-8b5d-04a7f27b3233",
   "metadata": {},
   "outputs": [
    {
     "name": "stdout",
     "output_type": "stream",
     "text": [
      "{1, 3, 4, 5, 6}\n"
     ]
    }
   ],
   "source": [
    "set1.discard(2)\n",
    "print(set1)"
   ]
  },
  {
   "cell_type": "code",
   "execution_count": null,
   "id": "9ff72e7a-52be-42cd-99ef-d844fe2d3958",
   "metadata": {},
   "outputs": [],
   "source": [
    "#Проверьте, содержит ли множество элемент 3."
   ]
  },
  {
   "cell_type": "code",
   "execution_count": 5,
   "id": "feaaaee1-3ea4-4d49-90ab-568ddc771bb5",
   "metadata": {},
   "outputs": [
    {
     "name": "stdout",
     "output_type": "stream",
     "text": [
      "True\n"
     ]
    }
   ],
   "source": [
    "print(3 in set1)"
   ]
  },
  {
   "cell_type": "code",
   "execution_count": null,
   "id": "b44dd77f-3fb9-49ef-bfba-88455e153c64",
   "metadata": {},
   "outputs": [],
   "source": [
    "#Создайте второе множество set2 с элементами 4, 5, 6, 7, 8."
   ]
  },
  {
   "cell_type": "code",
   "execution_count": 6,
   "id": "71837ed0-af84-4cdd-80b3-728454b03b6e",
   "metadata": {},
   "outputs": [
    {
     "name": "stdout",
     "output_type": "stream",
     "text": [
      "{4, 5, 6, 7, 8}\n"
     ]
    }
   ],
   "source": [
    "set2 = { 4, 5, 6, 7, 8}\n",
    "print(set2)"
   ]
  },
  {
   "cell_type": "code",
   "execution_count": 9,
   "id": "1c9703d3-c98c-496e-bb89-c49d24eaedd6",
   "metadata": {},
   "outputs": [],
   "source": [
    "# Найдите объединение множеств set1 и set2."
   ]
  },
  {
   "cell_type": "code",
   "execution_count": 10,
   "id": "efba2481-6bca-461d-a00e-2ba04ff8a8f5",
   "metadata": {},
   "outputs": [
    {
     "name": "stdout",
     "output_type": "stream",
     "text": [
      "{1, 3, 4, 5, 6, 7, 8}\n"
     ]
    }
   ],
   "source": [
    "print(set1|set2)"
   ]
  },
  {
   "cell_type": "code",
   "execution_count": 11,
   "id": "74a3d1d0-1c38-435a-997a-a5a72826064f",
   "metadata": {},
   "outputs": [],
   "source": [
    "# Найдите разность множеств set1 и set2."
   ]
  },
  {
   "cell_type": "code",
   "execution_count": 12,
   "id": "acaf0953-d70c-4e61-baeb-96a537118e5b",
   "metadata": {},
   "outputs": [
    {
     "name": "stdout",
     "output_type": "stream",
     "text": [
      "{1, 3}\n"
     ]
    }
   ],
   "source": [
    "print(set1-set2)"
   ]
  },
  {
   "cell_type": "markdown",
   "id": "6958f427-9ce3-481d-8f20-d44bfae0eb45",
   "metadata": {},
   "source": [
    "Создайте два множества set1 и set2, содержащие цвета радуги: \"красный\", \"оранжевый\", \"желтый\", \"зеленый\", \"голубой\", \"синий\", \"фиолетовый\" и  \"оранжевый\", \"зеленый\", \"голубой\", \"синий\", \"Мальвиновый\"."
   ]
  },
  {
   "cell_type": "code",
   "execution_count": 13,
   "id": "01e8a971-b0d5-4f28-bd3a-2a98acbcdb28",
   "metadata": {},
   "outputs": [
    {
     "name": "stdout",
     "output_type": "stream",
     "text": [
      "{'фиолетовый', 'желтый', 'красный', 'синий', 'голубой', 'зеленый', 'оранжевый'}\n",
      "{'синий', 'голубой', 'зеленый', 'Мальвиновый', 'оранжевый'}\n"
     ]
    }
   ],
   "source": [
    "set1 = {\"красный\", \"оранжевый\", \"желтый\", \"зеленый\", \"голубой\", \"синий\", \"фиолетовый\" }\n",
    "set2 = { \"оранжевый\", \"зеленый\", \"голубой\", \"синий\", \"Мальвиновый\"}\n",
    "print (set1)\n",
    "print (set2)"
   ]
  },
  {
   "cell_type": "code",
   "execution_count": 14,
   "id": "42f878e5-b208-43a3-b500-5a2ee6c17772",
   "metadata": {},
   "outputs": [],
   "source": [
    "# Найдите пересечение множеств set1 и set2."
   ]
  },
  {
   "cell_type": "code",
   "execution_count": 15,
   "id": "69ab37ca-515c-46e0-b3eb-7ec11ee0a01b",
   "metadata": {},
   "outputs": [
    {
     "name": "stdout",
     "output_type": "stream",
     "text": [
      "{'синий', 'голубой', 'зеленый', 'оранжевый'}\n"
     ]
    }
   ],
   "source": [
    "print(set1&set2)"
   ]
  },
  {
   "cell_type": "markdown",
   "id": "002437a6-cea0-40fb-8294-732feafa75ab",
   "metadata": {},
   "source": [
    "Объедините множества set1 и set2 и сохраните результат в новое множество rainbow_colors."
   ]
  },
  {
   "cell_type": "code",
   "execution_count": 18,
   "id": "b724476f-b146-43f6-81f8-6fa34173ce54",
   "metadata": {},
   "outputs": [
    {
     "name": "stdout",
     "output_type": "stream",
     "text": [
      "{'синий', 'зеленый', 'оранжевый', 'желтый', 'красный', 'голубой', 'фиолетовый', 'Мальвиновый'}\n"
     ]
    }
   ],
   "source": [
    "rainbow_colors = set1|set2\n",
    "print (rainbow_colors)"
   ]
  }
 ],
 "metadata": {
  "kernelspec": {
   "display_name": "Python 3 (ipykernel)",
   "language": "python",
   "name": "python3"
  },
  "language_info": {
   "codemirror_mode": {
    "name": "ipython",
    "version": 3
   },
   "file_extension": ".py",
   "mimetype": "text/x-python",
   "name": "python",
   "nbconvert_exporter": "python",
   "pygments_lexer": "ipython3",
   "version": "3.10.10"
  }
 },
 "nbformat": 4,
 "nbformat_minor": 5
}
