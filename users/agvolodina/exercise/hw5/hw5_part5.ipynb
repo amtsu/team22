{
 "cells": [
  {
   "cell_type": "code",
   "execution_count": null,
   "id": "5a681b5e-52a3-4343-b4e4-885f6ca57543",
   "metadata": {},
   "outputs": [],
   "source": [
    "Множества"
   ]
  },
  {
   "cell_type": "code",
   "execution_count": null,
   "id": "691a3068-c88a-4fe4-abe4-5fd3dd93fe56",
   "metadata": {},
   "outputs": [],
   "source": [
    "Создайте функции set_union и set_difference для операций объединения и разности множеств.\n",
    "   - Функции должны принимать два множества и возвращать соответствующий результат."
   ]
  },
  {
   "cell_type": "code",
   "execution_count": 1,
   "id": "d370915a-d016-4231-942c-96bdeeec5ae5",
   "metadata": {},
   "outputs": [],
   "source": [
    "def set_union(set1,set2):\n",
    "    return set1.union(set2)"
   ]
  },
  {
   "cell_type": "code",
   "execution_count": 2,
   "id": "7ab8b450-0af6-4fbf-a964-a0a7ecde2915",
   "metadata": {},
   "outputs": [],
   "source": [
    "def set_difference(set1,set2):\n",
    "     return set1.difference(set2)"
   ]
  },
  {
   "cell_type": "code",
   "execution_count": null,
   "id": "2cded2e1-4be2-4112-a523-291709327740",
   "metadata": {},
   "outputs": [],
   "source": [
    "Создайте функцию is_subset для проверки, является ли одно множество подмножеством другого."
   ]
  },
  {
   "cell_type": "code",
   "execution_count": 3,
   "id": "39f14c06-6cc8-40de-ba83-2f68015e47f0",
   "metadata": {},
   "outputs": [],
   "source": [
    "def is_subset(set1,set2):\n",
    "    subset_m = set1.issubset(set2)\n",
    "    return subset_m"
   ]
  },
  {
   "cell_type": "code",
   "execution_count": null,
   "id": "b97e0121-a697-44c1-9c3d-a397ef30bf83",
   "metadata": {},
   "outputs": [],
   "source": [
    "Создайте функцию для объединения нескольких множеств."
   ]
  },
  {
   "cell_type": "code",
   "execution_count": 4,
   "id": "ce0841f7-7db9-4b18-aae1-a47ac71232e8",
   "metadata": {},
   "outputs": [],
   "source": [
    "def set_union(set1,set2,set3):\n",
    "    union_m = set1.union(set2,set3)\n",
    "    return union_m"
   ]
  },
  {
   "cell_type": "code",
   "execution_count": null,
   "id": "26e506b8-e099-4ea7-bd0a-21a6c47ccb33",
   "metadata": {},
   "outputs": [],
   "source": [
    "Создайте функцию для удаления конкретного элемента из множества."
   ]
  },
  {
   "cell_type": "code",
   "execution_count": 26,
   "id": "66dc4162-42d7-4d12-a2ab-8cd7e97fef44",
   "metadata": {},
   "outputs": [],
   "source": [
    "def set_delete(set1, el):\n",
    "    set1.discard(el)\n",
    "    return set1"
   ]
  },
  {
   "cell_type": "code",
   "execution_count": null,
   "id": "4b3244ba-50f3-4149-96a4-d25e6b44096d",
   "metadata": {},
   "outputs": [],
   "source": [
    "Создайте функцию для проверки на равенство двух множеств."
   ]
  },
  {
   "cell_type": "code",
   "execution_count": 6,
   "id": "e5a5473d-afdc-40c6-990f-c41a17576f46",
   "metadata": {},
   "outputs": [],
   "source": [
    "def set_all (set1,set2):\n",
    "    return set1==set2"
   ]
  },
  {
   "cell_type": "code",
   "execution_count": null,
   "id": "2f976119-2f3b-411a-a50c-6273630e5895",
   "metadata": {},
   "outputs": [],
   "source": [
    "Создайте функцию для поиска пересечения нескольких множеств."
   ]
  },
  {
   "cell_type": "code",
   "execution_count": 7,
   "id": "c028603c-5766-43f9-9cdd-5714ed67bdb8",
   "metadata": {},
   "outputs": [],
   "source": [
    "def set_intersection (set1,set2,set3):\n",
    "    return set1&set2&set3"
   ]
  },
  {
   "cell_type": "code",
   "execution_count": null,
   "id": "928930b3-1be0-47ba-b1ba-62f661abf3b8",
   "metadata": {},
   "outputs": [],
   "source": [
    "Создайте функцию для нахождения объединения трех множеств."
   ]
  },
  {
   "cell_type": "code",
   "execution_count": 8,
   "id": "cfe44397-f087-4bdc-8d55-7e4d85ebb273",
   "metadata": {},
   "outputs": [],
   "source": [
    "def all_union(set1,set2,set3):\n",
    "    return set1|set2|set3"
   ]
  },
  {
   "cell_type": "code",
   "execution_count": null,
   "id": "08add3c9-2b05-4871-a53a-fab0322d6c7a",
   "metadata": {},
   "outputs": [],
   "source": [
    "Создайте функцию для проверки, являются ли два множества дизъюнктными (не имеют общих элементов)."
   ]
  },
  {
   "cell_type": "code",
   "execution_count": 9,
   "id": "c3881b2a-3101-4549-b723-85210932c7dd",
   "metadata": {},
   "outputs": [],
   "source": [
    "def set_isdisjoint (set1,set2):\n",
    "     return set1.isdisjoint(set2)"
   ]
  },
  {
   "cell_type": "code",
   "execution_count": null,
   "id": "e57c0ca4-6fff-4af8-9b9d-ed6c89d61f3f",
   "metadata": {},
   "outputs": [],
   "source": [
    "Создайте функцию для нахождения разности двух множеств."
   ]
  },
  {
   "cell_type": "code",
   "execution_count": 10,
   "id": "ff33dd7f-2138-4344-8215-274fda8aac70",
   "metadata": {},
   "outputs": [],
   "source": [
    "def s_difference(set1,set2):\n",
    "     return set1-set2"
   ]
  },
  {
   "cell_type": "code",
   "execution_count": null,
   "id": "dabcdbaa-63ce-4f03-830b-cab319ac7e39",
   "metadata": {},
   "outputs": [],
   "source": [
    "Создайте функцию для определения симметрической разности двух множеств."
   ]
  },
  {
   "cell_type": "code",
   "execution_count": 94,
   "id": "1d484d55-8579-4697-9a31-84a8542e18f6",
   "metadata": {},
   "outputs": [],
   "source": [
    "def set_symmetric_difference(set1,set2):\n",
    "    difference_m = set1^set2\n",
    "    return difference_m"
   ]
  },
  {
   "cell_type": "markdown",
   "id": "b09d8709-abb3-4da8-9c4e-7e419ca87dc6",
   "metadata": {},
   "source": [
    "Создайте функцию create_set для создания множества с заданными элементами.  Функция должна принимать переменное количество аргументов и возвращать новое множество."
   ]
  },
  {
   "cell_type": "code",
   "execution_count": 11,
   "id": "9a841999-cf77-40ba-ad5f-ee293d2e2f4e",
   "metadata": {},
   "outputs": [],
   "source": [
    "def create_set (elements):\n",
    "    return set(elements)"
   ]
  },
  {
   "cell_type": "code",
   "execution_count": null,
   "id": "e256f66d-08bf-468b-a2e1-9d79c92f6874",
   "metadata": {},
   "outputs": [],
   "source": [
    "Словари"
   ]
  },
  {
   "cell_type": "code",
   "execution_count": 22,
   "id": "94fcb6dd-4838-4677-a23d-a1bdbf9055ce",
   "metadata": {},
   "outputs": [],
   "source": [
    "d1 = {'one':1, \"b\":2}\n",
    "d2 = {'c':3, 'd':4}"
   ]
  },
  {
   "cell_type": "code",
   "execution_count": null,
   "id": "e0271ef5-de96-4bc7-ab98-6cebaaee2e74",
   "metadata": {},
   "outputs": [],
   "source": [
    "Создайте функцию create_dictionary для создания словаря с заданными ключами и значениями.\n",
    "   - Функция должна принимать словарь в формате ключ-значение и возвращать созданный словарь."
   ]
  },
  {
   "cell_type": "code",
   "execution_count": 15,
   "id": "bd6f2d97-7541-49c1-87be-0a97ac1ca602",
   "metadata": {},
   "outputs": [
    {
     "name": "stdout",
     "output_type": "stream",
     "text": [
      "{'c': 5}\n"
     ]
    }
   ],
   "source": [
    "def create_dictionary (key, value):\n",
    "    new_dictionary = {key:value}\n",
    "    return new_dictionary\n",
    "print (create_dictionary ('c',5))"
   ]
  },
  {
   "cell_type": "code",
   "execution_count": null,
   "id": "67604b80-0369-4e24-92eb-dbe8892f3038",
   "metadata": {},
   "outputs": [],
   "source": [
    "Напишите функции add_student и remove_student для добавления и удаления студентов из словаря.\n",
    "   - Функции должны принимать словарь студентов и соответствующие данные для добавления и удаления.\n"
   ]
  },
  {
   "cell_type": "code",
   "execution_count": 46,
   "id": "517acf25-a575-47f5-83ca-19d661fb6c1d",
   "metadata": {},
   "outputs": [
    {
     "name": "stdout",
     "output_type": "stream",
     "text": [
      "{'c': 3, 'd': 4, 'name': 'andrey'}\n",
      "{'c': 3, 'd': 4, 'name': 'andrey'}\n"
     ]
    }
   ],
   "source": [
    "def add_student (dict_student, key, value):\n",
    "    dict_student[key] = value\n",
    "    return dict_student\n",
    "print (add_student(d2, 'name', 'andrey'))\n",
    "print (d2)"
   ]
  },
  {
   "cell_type": "code",
   "execution_count": 95,
   "id": "a95b9f13-7f4a-4305-9a65-7eb500936584",
   "metadata": {},
   "outputs": [
    {
     "name": "stdout",
     "output_type": "stream",
     "text": [
      "{'c': 3, 'd': 4}\n"
     ]
    }
   ],
   "source": [
    "def remove_student (dict_student, key):\n",
    "    del dict_student[key]\n",
    "    return dict_student\n",
    "print (remove_student(d2, 'name'))"
   ]
  },
  {
   "cell_type": "code",
   "execution_count": null,
   "id": "795640c5-7cb4-44b9-95f4-d4108ee4e5d5",
   "metadata": {},
   "outputs": [],
   "source": [
    "Напишите функции add_fruit и remove_fruit для добавления и удаления фруктов, их количества и стоимости в списки fruits_quantity и fruits_prices.\n",
    "   - Функции должны принимать словари и соответствующие данные для добавления и удаления."
   ]
  },
  {
   "cell_type": "code",
   "execution_count": 27,
   "id": "ed0605ff-9170-42b2-afef-7d3344cd2a49",
   "metadata": {},
   "outputs": [
    {
     "name": "stdout",
     "output_type": "stream",
     "text": [
      "{'яблоко': 20, 'груша': 10, 'апельсин': 5, 'киви': 10}\n"
     ]
    }
   ],
   "source": [
    "#функция добавляет фрукт и его количество в словарь\n",
    "def add_fruit (dict_fruit, fruit, quantity):\n",
    "    dict_fruit[fruit] = quantity\n",
    "    return dict_fruit\n",
    "    \n",
    "fruits_quantity = {'яблоко':20,'груша':10,'апельсин':5}\n",
    "print (add_fruit (fruits_quantity, 'киви', 10))"
   ]
  },
  {
   "cell_type": "code",
   "execution_count": 20,
   "id": "d2112391-28a6-4731-b1f1-d767be25b46d",
   "metadata": {},
   "outputs": [
    {
     "name": "stdout",
     "output_type": "stream",
     "text": [
      "{'яблоко': 30, 'груша': 10, 'апельсин': 5}\n"
     ]
    }
   ],
   "source": [
    "#функция добавляет опреденное количество к имеющимся фруктам\n",
    "def add_fruit (dict_fruit, fruit, quantity):\n",
    "    dict_fruit[fruit] = dict_fruit[fruit] + quantity\n",
    "    return dict_fruit\n",
    "\n",
    "fruits_quantity = {'яблоко':20,'груша':10,'апельсин':5}\n",
    "print (add_fruit (fruits_quantity, 'яблоко', 10))"
   ]
  },
  {
   "cell_type": "code",
   "execution_count": 29,
   "id": "6f0f8944-dbac-4494-abfb-09be268948f0",
   "metadata": {},
   "outputs": [
    {
     "name": "stdout",
     "output_type": "stream",
     "text": [
      "{'груша': 10, 'апельсин': 5}\n"
     ]
    }
   ],
   "source": [
    "#функция удаляет фрукт и его количество из словаря\n",
    "def remove_fruit (dict_fruit, fruit):\n",
    "    dict_fruit.pop(fruit)\n",
    "    return dict_fruit\n",
    "    \n",
    "fruits_quantity = {'яблоко':20,'груша':10,'апельсин':5}\n",
    "print (remove_fruit (fruits_quantity, 'яблоко'))"
   ]
  },
  {
   "cell_type": "code",
   "execution_count": 30,
   "id": "a735dc09-040b-4891-95ea-966395cd0a9a",
   "metadata": {},
   "outputs": [
    {
     "name": "stdout",
     "output_type": "stream",
     "text": [
      "{'яблоко': 20, 'груша': 5, 'апельсин': 5}\n"
     ]
    }
   ],
   "source": [
    "#функция удаляет определенное количество фруктов из словаря\n",
    "def remove_fruit (dict_fruit, fruit, quantity):\n",
    "    fruits_quantity[fruit] = fruits_quantity[fruit] - quantity\n",
    "    return dict_fruit\n",
    "    \n",
    "fruits_quantity = {'яблоко':20,'груша':10,'апельсин':5}\n",
    "print (remove_fruit (fruits_quantity, 'груша', 5))"
   ]
  },
  {
   "cell_type": "code",
   "execution_count": null,
   "id": "f43dbb5b-1a70-493c-af40-61e9e5941da9",
   "metadata": {},
   "outputs": [],
   "source": [
    "Создайте функцию для объединения двух словарей.\n"
   ]
  },
  {
   "cell_type": "code",
   "execution_count": 17,
   "id": "bd1bd421-493d-43a7-ac60-3cf4bd36d271",
   "metadata": {},
   "outputs": [
    {
     "name": "stdout",
     "output_type": "stream",
     "text": [
      "{'one': 1, 'b': 2, 'c': 3, 'd': 4}\n"
     ]
    }
   ],
   "source": [
    "def dict_update (dict1, dict2):\n",
    "    return dict1|dict2\n",
    "print (dict_update(d1,d2)) "
   ]
  },
  {
   "cell_type": "markdown",
   "id": "1a3388e6-042e-487c-87b1-e408ec1fb43d",
   "metadata": {},
   "source": [
    "Создайте функцию для удаления элемента из словаря по заданному ключу.\n",
    "\n"
   ]
  },
  {
   "cell_type": "code",
   "execution_count": 28,
   "id": "36de9504-55c4-45fc-ba29-1e1043c5e070",
   "metadata": {},
   "outputs": [
    {
     "name": "stdout",
     "output_type": "stream",
     "text": [
      "{'one': 1}\n",
      "{'one': 1}\n"
     ]
    }
   ],
   "source": [
    "def dict_pop (dict1, key):\n",
    "    dict1.pop(key)\n",
    "    return dict1\n",
    "print (dict_pop (d1,\"b\"))\n",
    "print (d1)"
   ]
  },
  {
   "cell_type": "code",
   "execution_count": null,
   "id": "cc8750cc-6cf4-4b38-8dc8-621f75e0b07a",
   "metadata": {},
   "outputs": [],
   "source": [
    "Создайте функцию для переворачивания значений и ключей в словаре (принимает на вход словарь, возвращает другой словарь, ключами которого являются значения входного словаря, а значениями - ключи.\n"
   ]
  },
  {
   "cell_type": "code",
   "execution_count": 68,
   "id": "f154a0f1-90e8-46bb-8cf5-bc90cb597051",
   "metadata": {},
   "outputs": [],
   "source": [
    "d4 = {\"san\":\"вс\", 'mon':'пон'}\n",
    "def dict_shift (dict1):\n",
    "    new_dict = {}\n",
    "    for k,v in dict1.items():\n",
    "        new_dict[v] = k\n",
    "    return new_dict"
   ]
  },
  {
   "cell_type": "code",
   "execution_count": null,
   "id": "6c75b6b0-d310-4d95-9650-eb04c7445e7a",
   "metadata": {},
   "outputs": [],
   "source": [
    "Создайте функцию для сортировки словаря по ключам в обратном порядке.\n"
   ]
  },
  {
   "cell_type": "code",
   "execution_count": 67,
   "id": "63df919c-ca7d-4388-804a-504fe4bce4b7",
   "metadata": {},
   "outputs": [],
   "source": [
    "def dict_sorting(dict1):\n",
    "    return dict(sorted(dict1.items(), reverse=True))"
   ]
  },
  {
   "cell_type": "code",
   "execution_count": null,
   "id": "b9ac0e9b-f136-415b-bd61-98d267370204",
   "metadata": {},
   "outputs": [],
   "source": [
    "Создайте функцию возвращающую наибольшее значение элемента словаря.\n"
   ]
  },
  {
   "cell_type": "code",
   "execution_count": 66,
   "id": "17f049f5-0090-4599-a145-f0a447949fcc",
   "metadata": {},
   "outputs": [],
   "source": [
    "def dict_max_elements(dict1):\n",
    "    return max(dict1.items())"
   ]
  },
  {
   "cell_type": "code",
   "execution_count": null,
   "id": "2030f924-1afc-4221-be46-a4452448634c",
   "metadata": {},
   "outputs": [],
   "source": [
    "Создайте функцию для поиска наибольшего значения в словаре."
   ]
  },
  {
   "cell_type": "code",
   "execution_count": 29,
   "id": "f73047df-7ddc-422f-9886-a79cc2a605c1",
   "metadata": {},
   "outputs": [],
   "source": [
    "def dict_max_elements(dict1):\n",
    "    return max(dict1.values())"
   ]
  },
  {
   "cell_type": "code",
   "execution_count": null,
   "id": "844310dd-2027-4f72-8a19-b332413636a1",
   "metadata": {},
   "outputs": [],
   "source": [
    "Условия и циклы"
   ]
  },
  {
   "cell_type": "code",
   "execution_count": null,
   "id": "b52ed64f-c528-4db7-b2fb-a8e20284cd07",
   "metadata": {},
   "outputs": [],
   "source": [
    "Создайте функцию check_fruit_price для проверки стоимости фрукта и вывода соответствующего сообщения.\n",
    " - Функция должна принимать словарь цен на фрукты и название фрукта, а затем выводить сообщение \"дорогой товар\", если цена фрукта больше 1.5."
   ]
  },
  {
   "cell_type": "code",
   "execution_count": 77,
   "id": "2a2dbc01-088a-45cc-8c7d-acf6e1bb417a",
   "metadata": {},
   "outputs": [
    {
     "name": "stdout",
     "output_type": "stream",
     "text": [
      "банан стоит 1.0\n",
      "мандарин стоит 1.5\n",
      "гранат стоит 3\n",
      "гранат дорогой товар\n",
      "None\n"
     ]
    }
   ],
   "source": [
    "# функция выводит стоимость всех фруктов словаря, название фрукта цена которого больше 1.5\n",
    "def check_fruit_price (dict_fruit_price):\n",
    "    for k in dict_fruit_price.keys():\n",
    "        print (k, 'стоит', dict_fruit_price[k])\n",
    "    if dict_fruit_price[k]>1.5:\n",
    "        print (k, 'дорогой товар')\n",
    "fruit_price = {'банан': 1.0,'мандарин':1.5,'гранат':3}\n",
    "print (check_fruit_price(fruit_price))"
   ]
  },
  {
   "cell_type": "code",
   "execution_count": null,
   "id": "f7bc1a32-23a5-4577-88a0-1db4a576fbe5",
   "metadata": {},
   "outputs": [],
   "source": [
    "Создайте функцию check_age для проверки возраста студента и вывода соответствующего сообщения.\n",
    "   - Функция должна принимать словарь студентов и имя студента, а затем выводить сообщение о совершеннолетии или несовершеннолетии."
   ]
  },
  {
   "cell_type": "code",
   "execution_count": 26,
   "id": "9dbfdb8b-cb78-46a6-bab8-72fcc8efce09",
   "metadata": {},
   "outputs": [],
   "source": [
    "def check_age (dict_student, name):\n",
    "    #for k in dict_student.keys():\n",
    "        if dict_student[name]>=18:\n",
    "            print (name, 'совершеннолетний')\n",
    "        elif dict_student[name]<18:\n",
    "            print (name, 'несовершеннолетний')"
   ]
  },
  {
   "cell_type": "code",
   "execution_count": null,
   "id": "7fe5b169-432b-45d0-a454-0a1d6f229793",
   "metadata": {},
   "outputs": [],
   "source": [
    "Создайте функцию compare_sets_length, которая сравнивает длину двух множеств и выводит информацию о  том, какое из множеств длиннее.\n",
    "   - Функция должна принимать два множества и выводить соответствующее сообщение."
   ]
  },
  {
   "cell_type": "code",
   "execution_count": 32,
   "id": "f4230330-ab8d-421f-a6d4-90ebd394150a",
   "metadata": {},
   "outputs": [],
   "source": [
    "def compare_sets_length (set1,set2):\n",
    "    if len(set1)>len(set2):\n",
    "        print ('множество 1 больше множества 2')\n",
    "    elif len(set2)>len(set1):\n",
    "        print ('множество 2 больше множества 1')"
   ]
  },
  {
   "cell_type": "code",
   "execution_count": null,
   "id": "b8c561d1-954c-498a-8a4d-e0b3f03dfcd1",
   "metadata": {},
   "outputs": [],
   "source": [
    "Создайте функцию для определения четности или нечетности числа."
   ]
  },
  {
   "cell_type": "code",
   "execution_count": 50,
   "id": "775d4da2-e258-4215-97b1-4da01ab57361",
   "metadata": {},
   "outputs": [],
   "source": [
    "def number (num):\n",
    "    if num%2==0:\n",
    "        print (num, '- четное число')\n",
    "    if num%2>0:\n",
    "        print (num, '- нечетное число')"
   ]
  },
  {
   "cell_type": "code",
   "execution_count": null,
   "id": "4abb458e-63ec-459e-be7e-a8ca2db796ad",
   "metadata": {},
   "outputs": [],
   "source": [
    "Создайте функцию для определения високосного года. Функция должна принимать на вход год в виде числа и возвращать строку \"високосный\" или \"обычный\""
   ]
  },
  {
   "cell_type": "code",
   "execution_count": 41,
   "id": "79e4faa3-47f3-4281-9523-d351bdfad6e1",
   "metadata": {},
   "outputs": [
    {
     "name": "stdout",
     "output_type": "stream",
     "text": [
      "1900 - невисокосный год\n",
      "None\n"
     ]
    }
   ],
   "source": [
    "#високосным считается год, который кратен 4 и не кратен 100 или кратен 400\n",
    "def leap_year (year):\n",
    "    if (year%4 == 0 and year%100 != 0) or year%400 == 0:\n",
    "        print (year, '-високосный год')\n",
    "    else:\n",
    "        print (year, '- невисокосный год')\n",
    "print (leap_year(1900))"
   ]
  },
  {
   "cell_type": "code",
   "execution_count": null,
   "id": "439a5846-be67-40a5-a092-110d0411f833",
   "metadata": {},
   "outputs": [],
   "source": [
    "Создайте функцию для определения типа треугольника по длинам сторон (принимает длины сторон, возвращает \"остроугольный, прямоугольный, тупоугольный или не треугольник\")."
   ]
  },
  {
   "cell_type": "code",
   "execution_count": 13,
   "id": "fb4bb8df-9178-4404-8d7e-1dd45b66ba7f",
   "metadata": {},
   "outputs": [],
   "source": [
    "def triangle(a,b,c):\n",
    "    if c**2 > a**2 + b**2:\n",
    "        print (\"тупоугольный\")\n",
    "    elif c**2 == a**2 + b**2:\n",
    "        print (\"прямоугольный\")\n",
    "    elif c**2 < a**2 + b**2:\n",
    "        print (\"остроугольный\")\n",
    "    else:\n",
    "        print ('не треугольник')   "
   ]
  },
  {
   "cell_type": "code",
   "execution_count": null,
   "id": "ab355b81-3cd4-4099-a6b9-96341a128d2b",
   "metadata": {},
   "outputs": [],
   "source": [
    "Создайте функцию для определения времени суток по введенному времени ( принимает текущее время в формате часы, минуты, возвращает утро, день, вечер, ночь)."
   ]
  },
  {
   "cell_type": "code",
   "execution_count": 20,
   "id": "5ab35349-eb5c-4a4e-b542-0015f0107479",
   "metadata": {},
   "outputs": [
    {
     "name": "stdout",
     "output_type": "stream",
     "text": [
      "вечер\n",
      "None\n"
     ]
    }
   ],
   "source": [
    "#Утро - с 06:00 до 12:00 День - с 12:00 до 18:00 Вечер - с 18:00 до 24:00 Ночь - с 00:00 до 06:00.\n",
    "def identify_time (hour, min):\n",
    "    if (hour >=6 and hour < 12) and (min>=0 and min <=59):\n",
    "        print ('утро')\n",
    "    elif (hour >= 12 and hour <18) and (min>=0 and min <=59):\n",
    "        print ('день')\n",
    "    elif (hour >= 18 and hour <24) and (min>=0 and min <=59):\n",
    "        print ('вечер') \n",
    "    elif (hour >= 0 and hour <6) and (min>=0 and min <=59):\n",
    "        print ('ночь')"
   ]
  },
  {
   "cell_type": "code",
   "execution_count": null,
   "id": "d074f569-3aed-4a97-8cf3-83349183bd83",
   "metadata": {},
   "outputs": [],
   "source": [
    "Создайте функцию, которая определяет, является ли введенное число простым."
   ]
  },
  {
   "cell_type": "code",
   "execution_count": 12,
   "id": "9285317b-31b2-46ca-9785-225213050a68",
   "metadata": {},
   "outputs": [
    {
     "name": "stdout",
     "output_type": "stream",
     "text": [
      "не простое число\n",
      "False\n"
     ]
    }
   ],
   "source": [
    "def determine_number(numer):\n",
    "    i=0\n",
    "    for k in range(2, numer):\n",
    "        if numer%k == 0:\n",
    "            i+=1\n",
    "    if i == 0:\n",
    "        print ('простое число')\n",
    "        return True\n",
    "    else:\n",
    "        print ('не простое число')\n",
    "        return False\n",
    "print (determine_number(8))"
   ]
  },
  {
   "cell_type": "code",
   "execution_count": null,
   "id": "4c5f229a-2fed-4196-ac72-b141d711c59f",
   "metadata": {},
   "outputs": [],
   "source": [
    "Создайте функцию для проверки входящей строки на наличие только буквенных символов."
   ]
  },
  {
   "cell_type": "code",
   "execution_count": 6,
   "id": "f7f624c5-9161-4129-9f81-02ab3b16a521",
   "metadata": {},
   "outputs": [
    {
     "name": "stdout",
     "output_type": "stream",
     "text": [
      "строка состоит только из буквенных символов\n",
      "None\n",
      "строка состоит не только из буквенных символов\n",
      "None\n"
     ]
    }
   ],
   "source": [
    "def check_string (string):\n",
    "    if string.isalpha():\n",
    "        print ('строка состоит только из буквенных символов')\n",
    "    else:\n",
    "        print('строка состоит не только из буквенных символов')\n",
    "c = \"ASchdnshw\"\n",
    "b = \"12FGCDnzb\"\n",
    "print (check_string(c))\n",
    "print (check_string(b))"
   ]
  },
  {
   "cell_type": "code",
   "execution_count": null,
   "id": "f538c324-2db5-4217-930f-c95c0574c50c",
   "metadata": {},
   "outputs": [],
   "source": [
    "Создайте функцию, которая определяет, является ли введенная дата корректной (дата вводится в виде трех чисел, день, месяц, год. Корректной датой считается существующая комбинация этих трех чисел)."
   ]
  },
  {
   "cell_type": "code",
   "execution_count": null,
   "id": "5ddfc21e-5524-4c30-a471-fcfff5498411",
   "metadata": {},
   "outputs": [],
   "source": [
    "#def correct_date(input_date):\n",
    "    try:\n",
    "        datetime.strptime(input_date, '%Y-%m-%d')\n",
    "        return \"Дата введена корректно\"\n",
    "    except ValueError:     \n",
    "        return \"Дата введена некорректно\"\n",
    "correct_date('2024-02-30')"
   ]
  },
  {
   "cell_type": "code",
   "execution_count": 45,
   "id": "5faf63f8-fe66-4973-bfe5-0cbcd90d536d",
   "metadata": {},
   "outputs": [
    {
     "name": "stdout",
     "output_type": "stream",
     "text": [
      "дата введена корректно\n",
      "None\n",
      "дата введена некорректно\n",
      "None\n"
     ]
    }
   ],
   "source": [
    "def correct_date(day, month, year):\n",
    "    day_count_for_month = [0, 31, 28, 31, 30, 31, 30, 31, 31, 30, 31, 30, 31]\n",
    "    if 1<=day<=day_count_for_month[month]:\n",
    "            if 1<=month<=12:\n",
    "                print ('дата введена корректно')\n",
    "    else:\n",
    "        print('дата введена некорректно')\n",
    "print (correct_date (2,10,2023))\n",
    "print (correct_date (42,10,2023))"
   ]
  },
  {
   "cell_type": "code",
   "execution_count": null,
   "id": "fd01210a-49a0-4923-81cd-662fe579259e",
   "metadata": {},
   "outputs": [],
   "source": [
    "Создайте функцию, которая определяет, является ли введенное число палиндромом."
   ]
  },
  {
   "cell_type": "code",
   "execution_count": 49,
   "id": "b00b7c0a-3b04-4b4a-86b0-2977c9816afb",
   "metadata": {},
   "outputs": [
    {
     "name": "stdout",
     "output_type": "stream",
     "text": [
      "палиндром\n",
      "None\n",
      "не палиндром\n",
      "None\n"
     ]
    }
   ],
   "source": [
    "def check_word(word):\n",
    "    word2=word[::-1]\n",
    "    if word==word2:\n",
    "        print ('палиндром')\n",
    "    else:\n",
    "        print ('не палиндром')\n",
    "        \n",
    "print (check_word('казак'))\n",
    "print (check_word('казаки'))"
   ]
  },
  {
   "cell_type": "code",
   "execution_count": null,
   "id": "28f48bc8-4234-4988-b74e-8f845fbe5829",
   "metadata": {},
   "outputs": [],
   "source": [
    "Создайте функцию для определения дня недели по введенному номеру дня (1 - Понедельник, 2 - Вторник и т.д.)."
   ]
  },
  {
   "cell_type": "code",
   "execution_count": 50,
   "id": "623d06cd-2d5d-48ac-9469-e4429eb59ebf",
   "metadata": {},
   "outputs": [
    {
     "name": "stdout",
     "output_type": "stream",
     "text": [
      "четверг\n",
      "None\n"
     ]
    }
   ],
   "source": [
    "def check_day(day):\n",
    "    if day==1:\n",
    "        print ('понедельник')\n",
    "    elif day==2:\n",
    "        print ('вторник')\n",
    "    elif day==3:\n",
    "        print ('среда')\n",
    "    elif day==4:\n",
    "        print ('четверг')  \n",
    "    elif day==5:\n",
    "        print ('пятница')  \n",
    "    elif day==6:\n",
    "        print ('суббота') \n",
    "    elif day==7:\n",
    "        print ('воскресенье') \n",
    "\n",
    "print (check_day(4))"
   ]
  },
  {
   "cell_type": "code",
   "execution_count": null,
   "id": "6dd4d9a5-710c-4ec1-8089-4a0c69170401",
   "metadata": {},
   "outputs": [],
   "source": [
    "Создайте функцию print_fruits_info для вывода информации о количестве и стоимости фруктов из словарей.\n",
    "   - Функция должна принимать словари с информацией \"фрукт:количество\" и \"фрукт:цена\" и выводить для каждого фрукта его стоимость и количество."
   ]
  },
  {
   "cell_type": "code",
   "execution_count": 35,
   "id": "1ac5502a-1672-4ed9-ac80-86e3b6ba2688",
   "metadata": {},
   "outputs": [],
   "source": [
    "def print_fruits_info(dict_fruit_quantity, dict_fruit_prises):\n",
    "    for k,v in  dict_fruit_quantity.items() and dict_fruit_prises.items():\n",
    "        print (k, 'количество', dict_fruit_quantity[k], 'стоимость', dict_fruit_prises[k])"
   ]
  },
  {
   "cell_type": "code",
   "execution_count": null,
   "id": "3218cf6c-db12-4e38-adbe-d2d4a1f5614f",
   "metadata": {},
   "outputs": [],
   "source": [
    "Создайте функцию print_squares_while, которая использует цикл while для вывода квадратов чисел от 1 до 5."
   ]
  },
  {
   "cell_type": "code",
   "execution_count": 56,
   "id": "59829b0f-557c-4470-8adc-e1049b5c5c53",
   "metadata": {},
   "outputs": [],
   "source": [
    "def print_squares_while(num):\n",
    "    num = 1\n",
    "    while num <=5:\n",
    "        print (num)\n",
    "        num = num+1"
   ]
  },
  {
   "cell_type": "code",
   "execution_count": null,
   "id": "f48de48d-cc03-4cc2-8190-8a4415c14eb5",
   "metadata": {},
   "outputs": [],
   "source": [
    "Создайте функцию для вывода факториала заданного числа.\n"
   ]
  },
  {
   "cell_type": "code",
   "execution_count": 3,
   "id": "f85dd3ed-f9e9-49b0-be62-e439a3ae6fc3",
   "metadata": {},
   "outputs": [
    {
     "name": "stdout",
     "output_type": "stream",
     "text": [
      "2 2\n",
      "3 6\n",
      "4 24\n"
     ]
    }
   ],
   "source": [
    "def factorial(n):\n",
    "    pr=1\n",
    "    for i in range(2,n+1):\n",
    "        pr=pr*i\n",
    "    return pr\n",
    "    \n",
    "for n in range(2,5):\n",
    "    print (n, factorial(n))"
   ]
  },
  {
   "cell_type": "code",
   "execution_count": null,
   "id": "e15fa997-fb15-4a7a-bb3e-c8543c63e3d6",
   "metadata": {},
   "outputs": [],
   "source": [
    "Создайте функцию для поиска суммы чисел в заданном диапазоне (принимает на вход два числа, возвращает сумму чисел находящихся между ними, включительно.)\n"
   ]
  },
  {
   "cell_type": "code",
   "execution_count": null,
   "id": "3644eb20-143b-4e92-9dd4-64170af0ec2e",
   "metadata": {},
   "outputs": [],
   "source": [
    "def sum_problem(a, b):\n",
    "    return (a + b) * (abs(a - b) + 1) // 2\n",
    "a=int(input(\"Введите 1-е число\")) \n",
    "b=int(input(\"Введите 2-е число\")) \n",
    "sum_problem(a, b)"
   ]
  },
  {
   "cell_type": "code",
   "execution_count": null,
   "id": "0798c652-f3a2-4673-a7f9-78da234fb674",
   "metadata": {},
   "outputs": [],
   "source": [
    "Создайте функцию для генерации и вывода всех простых чисел до заданного числа.\n"
   ]
  },
  {
   "cell_type": "code",
   "execution_count": 57,
   "id": "b7d616d4-9c22-4685-b294-b717421c8cd7",
   "metadata": {},
   "outputs": [
    {
     "name": "stdout",
     "output_type": "stream",
     "text": [
      "простое число\n",
      "простое число\n",
      "не простое число\n",
      "простое число\n",
      "не простое число\n",
      "простое число\n",
      "[2, 3, 5, 7]\n"
     ]
    }
   ],
   "source": [
    "def prime_numbers (numer):\n",
    "    list_prime_numbers = []\n",
    "    for k in range(2, numer):\n",
    "        if determine_number(k):\n",
    "          list_prime_numbers.append(k)  \n",
    "    return list_prime_numbers\n",
    "print (prime_numbers(8))"
   ]
  },
  {
   "cell_type": "code",
   "execution_count": null,
   "id": "a9a25f83-e272-4ea6-ba86-81b42ec65f29",
   "metadata": {},
   "outputs": [],
   "source": [
    "Создайте функцию для проверки строки на палиндромность без учёта регистра и знаков препинания.\n"
   ]
  },
  {
   "cell_type": "code",
   "execution_count": 98,
   "id": "f7739cb8-4cbb-45d9-8e2d-360ae085b9da",
   "metadata": {},
   "outputs": [
    {
     "name": "stdout",
     "output_type": "stream",
     "text": [
      "не палиндром\n",
      "None\n"
     ]
    }
   ],
   "source": [
    "def check_str(str):\n",
    "    #удаляю пробелы из строки\n",
    "    str = str.replace(' ','')\n",
    "    #привожу буквы к нижнему регистру\n",
    "    str = str.lower()\n",
    "    #удаляю знаки припинания\n",
    "    import string\n",
    "    str = str.translate(str.maketrans('', '', string.punctuation))\n",
    "    #переворачиваю строку присваиваю ей новую переменную\n",
    "    str2 = str[::-1]\n",
    "    #сравниваю строки\n",
    "    if str==str2:\n",
    "        print ('палиндром')\n",
    "    else:\n",
    "        print('не палиндром')"
   ]
  },
  {
   "cell_type": "code",
   "execution_count": 51,
   "id": "18f88b8a-f128-4bad-a33f-46c521a64b15",
   "metadata": {},
   "outputs": [
    {
     "ename": "SyntaxError",
     "evalue": "invalid syntax (3708008543.py, line 1)",
     "output_type": "error",
     "traceback": [
      "\u001b[0;36m  Cell \u001b[0;32mIn[51], line 1\u001b[0;36m\u001b[0m\n\u001b[0;31m    Создайте функцию для поиска наибольшего общего делителя (НОД) двух чисел.\u001b[0m\n\u001b[0m             ^\u001b[0m\n\u001b[0;31mSyntaxError\u001b[0m\u001b[0;31m:\u001b[0m invalid syntax\n"
     ]
    }
   ],
   "source": [
    "Создайте функцию для поиска наибольшего общего делителя (НОД) двух чисел."
   ]
  },
  {
   "cell_type": "code",
   "execution_count": 69,
   "id": "2096d78c-886e-48a3-a70b-01e2de9d129c",
   "metadata": {},
   "outputs": [],
   "source": [
    "def find_NOD (num1, num2):\n",
    "#нахожу все делители для числа №1, записываю в список\n",
    "    list_num1 = []\n",
    "    for i in range(1, num1+1):\n",
    "        if num1%i == 0:\n",
    "            list_num1.append(i)\n",
    "#нахожу все делители для числа №2, записываю в список\n",
    "    list_num2 = []\n",
    "    for i in range(1, num2+1):\n",
    "        if num2%i == 0:\n",
    "            list_num2.append(i) \n",
    "    print (list_num1, list_num2)\n",
    "#нахожу пересечение списков и в нем нахожу максимальное значение\n",
    "    list_num3 = []\n",
    "    for a in list_num1:\n",
    "        for b in list_num2:\n",
    "            if a == b:\n",
    "                list_num3.append(a)\n",
    "                list_max = max(list_num3)\n",
    "    return list_max"
   ]
  },
  {
   "cell_type": "code",
   "execution_count": 56,
   "id": "a977c025-48fa-4571-a5e4-fee81f8a1fff",
   "metadata": {},
   "outputs": [
    {
     "name": "stdout",
     "output_type": "stream",
     "text": [
      "[1, 2, 4]\n"
     ]
    }
   ],
   "source": [
    "a = 4\n",
    "def lis_d(num1):\n",
    "    list_num1 = []\n",
    "    for i in range(1, num1+1):\n",
    "        if num1%i == 0:\n",
    "            list_num1.append(i)\n",
    "    return list_num1\n",
    "print (lis_d(4))"
   ]
  },
  {
   "cell_type": "code",
   "execution_count": null,
   "id": "eb67e61a-625b-4e62-bfe3-58091e862eb0",
   "metadata": {},
   "outputs": [],
   "source": [
    "Создайте функцию print_students для вывода информации о студентах из словаря.\n",
    "   - Функция должна принимать словарь студентов и выводить их имена и возраст."
   ]
  },
  {
   "cell_type": "code",
   "execution_count": 27,
   "id": "cc2ce2b8-0d8f-4347-8ada-bc20f4544acf",
   "metadata": {},
   "outputs": [],
   "source": [
    "def print_students (dict_students):\n",
    "    for k in dict_students.keys():\n",
    "        print (k, dict_students[k])"
   ]
  },
  {
   "cell_type": "code",
   "execution_count": null,
   "id": "ec1eb6dc-2555-482b-acba-820b771635b7",
   "metadata": {},
   "outputs": [],
   "source": [
    "\n",
    "Создайте функцию get_value_from_user, принимающую на вход одно число (\"порог\"), и запрашивающую у пользователя ввод числа до тех пор, пока он не введет число выше \"порога\".\n"
   ]
  },
  {
   "cell_type": "code",
   "execution_count": 26,
   "id": "a696288c-fe7c-4dd8-a862-5ed0af02444c",
   "metadata": {},
   "outputs": [
    {
     "name": "stdin",
     "output_type": "stream",
     "text": [
      " 3\n",
      " 4\n"
     ]
    },
    {
     "name": "stdout",
     "output_type": "stream",
     "text": [
      "введеное число выше порогового значения\n",
      "None\n"
     ]
    }
   ],
   "source": [
    "def get_value_from_user (doorstep, numer):\n",
    "        if doorstep>numer:\n",
    "            print ('введите число выше')\n",
    "        else:\n",
    "            print ('введеное число выше порогового значения')\n",
    "threshold_value = int(input())\n",
    "threshold_value_2 = int(input())\n",
    "print (get_value_from_user(threshold_value, threshold_value_2))"
   ]
  },
  {
   "cell_type": "code",
   "execution_count": null,
   "id": "ac7e80c0-75a0-4a78-a6c6-9f1ab70f3354",
   "metadata": {},
   "outputs": [],
   "source": []
  }
 ],
 "metadata": {
  "kernelspec": {
   "display_name": "Python 3 (ipykernel)",
   "language": "python",
   "name": "python3"
  },
  "language_info": {
   "codemirror_mode": {
    "name": "ipython",
    "version": 3
   },
   "file_extension": ".py",
   "mimetype": "text/x-python",
   "name": "python",
   "nbconvert_exporter": "python",
   "pygments_lexer": "ipython3",
   "version": "3.10.10"
  }
 },
 "nbformat": 4,
 "nbformat_minor": 5
}
