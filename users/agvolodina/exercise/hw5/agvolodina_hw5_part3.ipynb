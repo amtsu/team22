{
 "cells": [
  {
   "cell_type": "code",
   "execution_count": null,
   "id": "26c3a82e-8cb3-4cc9-bed9-0c153f10c93d",
   "metadata": {},
   "outputs": [],
   "source": [
    "#Условные операторы "
   ]
  },
  {
   "cell_type": "markdown",
   "id": "b6cd10ce-496b-40fe-a694-99314fa25381",
   "metadata": {},
   "source": [
    "На основе значения возраста из словаря person, выведите сообщение \"Совершеннолетний\" или \"Несовершеннолетний\".)"
   ]
  },
  {
   "cell_type": "code",
   "execution_count": 6,
   "id": "82662fb8-5edc-4bd7-a0f6-df61a1926f18",
   "metadata": {},
   "outputs": [
    {
     "name": "stdout",
     "output_type": "stream",
     "text": [
      "совершеннолетний\n"
     ]
    }
   ],
   "source": [
    "age = 30\n",
    "if age >= 18:\n",
    "    print ('совершеннолетний')\n",
    "elif age < 18:\n",
    "    print ('несовершеннолетний')"
   ]
  },
  {
   "cell_type": "markdown",
   "id": "ff0bf21f-4572-4668-bfa3-219203ea0307",
   "metadata": {},
   "source": [
    "Сравните длину множества set1 с другим множеством set2 и выведите сообщение о том, какое из множеств больше."
   ]
  },
  {
   "cell_type": "code",
   "execution_count": 18,
   "id": "747cc498-1e72-4225-bad2-0cd9533033f1",
   "metadata": {},
   "outputs": [
    {
     "name": "stdout",
     "output_type": "stream",
     "text": [
      "7\n",
      "5\n"
     ]
    }
   ],
   "source": [
    "set1 = {\"красный\", \"оранжевый\", \"желтый\", \"зеленый\", \"голубой\", \"синий\", \"фиолетовый\" }\n",
    "set2 = { \"оранжевый\", \"зеленый\", \"голубой\", \"синий\", \"Мальвиновый\"}\n",
    "a = len (set1)\n",
    "print (a)\n",
    "b = len (set2)\n",
    "print (b)"
   ]
  },
  {
   "cell_type": "code",
   "execution_count": 21,
   "id": "40b21fa1-f918-484a-8942-1545033a7ea7",
   "metadata": {},
   "outputs": [
    {
     "name": "stdout",
     "output_type": "stream",
     "text": [
      "set1 больше set2\n"
     ]
    }
   ],
   "source": [
    "if a > b:\n",
    "    print ('set1 больше set2')\n",
    "elif a < b:\n",
    "    print ('set2 больше set1')"
   ]
  },
  {
   "cell_type": "markdown",
   "id": "b3b38475-59f5-4ea8-8927-bc9a398ee077",
   "metadata": {},
   "source": [
    "Напишите условие, которое проверяет, есть ли \"груша\" в словаре fruits_quantity, и если нет, добавляет \"грушу\" с количеством 3."
   ]
  },
  {
   "cell_type": "code",
   "execution_count": 22,
   "id": "5ea4721f-5b95-4c76-bb67-5cc04e3d4069",
   "metadata": {},
   "outputs": [
    {
     "name": "stdout",
     "output_type": "stream",
     "text": [
      "{'яблоко': 5, 'банан': 10, 'апельсин': 7, 'груша': '3'}\n"
     ]
    }
   ],
   "source": [
    "fruits_quantity = {\"яблоко\": 5, \"банан\": 10, \"апельсин\": 7}\n",
    "if 'груша' in fruits_quantity:\n",
    "    print ('есть')\n",
    "else:\n",
    "    fruits_quantity['груша'] = '3'\n",
    "    print (fruits_quantity)"
   ]
  },
  {
   "cell_type": "markdown",
   "id": "608dbfe9-f8de-4eb0-8470-7fd2684d02f3",
   "metadata": {},
   "source": [
    "Выведите сообщение \"Дорогой товар\" для продуктов, цена которых превышает 1.5.\n",
    "fruits_prices {\"яблоко\": 1.5, \"банан\": 2, \"апельсин\": 1.2}"
   ]
  },
  {
   "cell_type": "code",
   "execution_count": 1,
   "id": "91cf2253-7d89-4ea0-89aa-a443d37e570f",
   "metadata": {},
   "outputs": [
    {
     "name": "stdout",
     "output_type": "stream",
     "text": [
      "банан - дорогой товар\n"
     ]
    }
   ],
   "source": [
    "fruits_prices = {\"яблоко\": 1.5, \"банан\": 2, \"апельсин\": 1.2}\n",
    "if fruits_prices['яблоко'] > 1.5:\n",
    "    print(\"яблоко - дорогой товар\")\n",
    "elif fruits_prices['банан'] > 1.5:\n",
    "    print(\"банан - дорогой товар\")\n",
    "elif fruits_prices['апельсин'] > 1.5:  \n",
    "    print(\"апельсин - дорогой товар\")"
   ]
  },
  {
   "cell_type": "markdown",
   "id": "1302be1e-a209-4e60-b8d3-2fba59073698",
   "metadata": {},
   "source": [
    "Задайте словарь Seven11 с таким содержанием {\"яйца\": 40, \"батон хлеба\" : 20}"
   ]
  },
  {
   "cell_type": "code",
   "execution_count": 26,
   "id": "029a51be-cb83-4c36-beb3-9d4fef46b54b",
   "metadata": {},
   "outputs": [
    {
     "name": "stdout",
     "output_type": "stream",
     "text": [
      "{'яйца': 40, 'батон хлеба': 20}\n"
     ]
    }
   ],
   "source": [
    "Seven11 =  {\"яйца\": 40, \"батон хлеба\" : 20}\n",
    "print (Seven11)"
   ]
  },
  {
   "cell_type": "markdown",
   "id": "190b64f3-a3ee-4a22-bceb-dc29eca69319",
   "metadata": {},
   "source": [
    "  Жена отправляет мужа-программиста в севенэлевен:\n",
    "\t — Купи батон хлеба, если будут яйца — возьми десяток.\n",
    "\tВыведите на экран, сколько хлеба купил муж-программист, и сколько хлеба и яиц осталось в магазине."
   ]
  },
  {
   "cell_type": "code",
   "execution_count": 5,
   "id": "bde69d78-5a80-460b-ba8a-dc8c8596243c",
   "metadata": {},
   "outputs": [
    {
     "ename": "IndentationError",
     "evalue": "expected an indented block after 'if' statement on line 2 (1057031878.py, line 3)",
     "output_type": "error",
     "traceback": [
      "\u001b[0;36m  Cell \u001b[0;32mIn[5], line 3\u001b[0;36m\u001b[0m\n\u001b[0;31m    elif Seven11['батон хлеба'] >=1:\u001b[0m\n\u001b[0m    ^\u001b[0m\n\u001b[0;31mIndentationError\u001b[0m\u001b[0;31m:\u001b[0m expected an indented block after 'if' statement on line 2\n"
     ]
    }
   ],
   "source": [
    "Seven11 =  {\"яйца\": 40, \"батон хлеба\" : 20} \n",
    "if Seven11['яйца']  >= 10:\n",
    "elif Seven11['батон хлеба'] >=1:\n",
    "    products = {\"яйца\": 10, \"батон хлеба\" : 1}\n",
    "    Seven11['яйца'] = Seven11['яйца']-10\n",
    "    Seven11['батон хлеба'] = Seven11['батон хлеба']-1\n",
    "    print ('муж программист купил хлеба - ', products[\"батон хлеба\"])\n",
    "    print ('в магазине осталось яиц -', Seven11['яйца']) \n",
    "    print ('в магазине осталось хлеба -', Seven11['батон хлеба']) "
   ]
  },
  {
   "cell_type": "code",
   "execution_count": 13,
   "id": "ec89c450-cffa-4758-9cc6-fbadf65201cb",
   "metadata": {},
   "outputs": [
    {
     "name": "stdout",
     "output_type": "stream",
     "text": [
      "муж программист купил хлеба -  1\n",
      "в магазине осталось хлеба - 19\n",
      "в магазине осталось яиц - 30\n"
     ]
    }
   ],
   "source": [
    "Seven11 =  {\"яйца\": 40, \"батон хлеба\" : 20} \n",
    "products = {}\n",
    "if Seven11['батон хлеба'] >=1:\n",
    "    products [\"батон хлеба\"] = 1\n",
    "    print ('муж программист купил хлеба - ', products [\"батон хлеба\"])\n",
    "    Seven11['батон хлеба'] = Seven11['батон хлеба']-1\n",
    "    print ('в магазине осталось хлеба -', Seven11['батон хлеба']) \n",
    "if Seven11['яйца']  >= 10:\n",
    "    products [\"яйца\"] = 10\n",
    "    Seven11['яйца'] = Seven11['яйца']-10\n",
    "    print ('в магазине осталось яиц -', Seven11['яйца'])\n",
    "else:\n",
    "    Seven11['яйца']  < 10:\n",
    "    products [\"яйца\"] = Seven11 [\"яйца\"]\n",
    "    print ('в магазине осталось яиц -', Seven11['яйца'])"
   ]
  },
  {
   "cell_type": "markdown",
   "id": "8693b6ab-dcce-4264-8757-efdc369a6d3c",
   "metadata": {},
   "source": [
    "Напишите условие, которое проверяет возраст студента \"Иванова\" и выводит сообщение \"Совершеннолетний\" или \"Несовершеннолетний\"."
   ]
  },
  {
   "cell_type": "code",
   "execution_count": 28,
   "id": "7c226da8-0c4c-4768-951c-965c9d43f37c",
   "metadata": {},
   "outputs": [
    {
     "name": "stdout",
     "output_type": "stream",
     "text": [
      "совершеннолетний\n"
     ]
    }
   ],
   "source": [
    "a = {\"Иванов\": 22, \"Петрова\": 13, \"Сидоров\": 23}\n",
    "b = a[\"Иванов\"]\n",
    "if b >= 18:\n",
    "    print ('совершеннолетний')\n",
    "elif b < 18:\n",
    "    print ('несовершеннолетний')"
   ]
  },
  {
   "cell_type": "code",
   "execution_count": null,
   "id": "ed1fd6d2-9dbc-4bd3-8d62-9d9b6ab07505",
   "metadata": {},
   "outputs": [],
   "source": []
  }
 ],
 "metadata": {
  "kernelspec": {
   "display_name": "Python 3 (ipykernel)",
   "language": "python",
   "name": "python3"
  },
  "language_info": {
   "codemirror_mode": {
    "name": "ipython",
    "version": 3
   },
   "file_extension": ".py",
   "mimetype": "text/x-python",
   "name": "python",
   "nbconvert_exporter": "python",
   "pygments_lexer": "ipython3",
   "version": "3.10.10"
  }
 },
 "nbformat": 4,
 "nbformat_minor": 5
}
