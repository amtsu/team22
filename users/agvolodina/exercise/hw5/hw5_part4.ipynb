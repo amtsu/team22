{
 "cells": [
  {
   "cell_type": "markdown",
   "id": "66fa1143-410c-493e-b7d6-c9ae6ebcaba0",
   "metadata": {},
   "source": [
    "Циклы "
   ]
  },
  {
   "cell_type": "markdown",
   "id": "dd00f88f-cf3d-405a-94f9-82cabfa90b94",
   "metadata": {},
   "source": [
    "Напишите цикл for, который выводит все элементы множества set1."
   ]
  },
  {
   "cell_type": "code",
   "execution_count": 5,
   "id": "65465738-a2bd-4edf-865d-6149f2656f1f",
   "metadata": {},
   "outputs": [
    {
     "name": "stdout",
     "output_type": "stream",
     "text": [
      "1\n",
      "2\n",
      "3\n",
      "4\n",
      "5\n"
     ]
    }
   ],
   "source": [
    "set1 = {1, 2, 3, 4, 5}\n",
    "for i in set1:\n",
    "    print (i)"
   ]
  },
  {
   "cell_type": "markdown",
   "id": "45c0aa4f-045f-409c-b0d2-ca689be0350e",
   "metadata": {},
   "source": [
    "Напишите цикл while, который выводит квадраты чисел от 1 до 5."
   ]
  },
  {
   "cell_type": "code",
   "execution_count": 6,
   "id": "91a78724-d87e-4905-8462-72b146165ae0",
   "metadata": {},
   "outputs": [
    {
     "name": "stdout",
     "output_type": "stream",
     "text": [
      "1\n",
      "4\n",
      "9\n",
      "16\n",
      "25\n"
     ]
    }
   ],
   "source": [
    "i = 1\n",
    "while i <= 5:\n",
    "    print(i**2)\n",
    "    i = i + 1"
   ]
  },
  {
   "cell_type": "markdown",
   "id": "5c470404-5a07-4877-a415-7c6c7962b6c6",
   "metadata": {},
   "source": [
    "Напишите цикл for, который перебирает все ключи словаря fruits_quantity и выводит каждый товар."
   ]
  },
  {
   "cell_type": "code",
   "execution_count": 7,
   "id": "4c3c963e-233e-4f95-b7e7-f68ea3eada71",
   "metadata": {},
   "outputs": [
    {
     "name": "stdout",
     "output_type": "stream",
     "text": [
      "яблоко\n",
      "банан\n",
      "апельсин\n"
     ]
    }
   ],
   "source": [
    "fruits_prices = {\"яблоко\": 1.5, \"банан\": 2, \"апельсин\": 1.2}\n",
    "for k in fruits_prices:\n",
    "    print(k)"
   ]
  },
  {
   "cell_type": "markdown",
   "id": "eaa4ee4a-c0ba-4ad0-a0e4-f391078ad591",
   "metadata": {},
   "source": [
    "Выведите сообщение \"%название фрукта% - дорогой товар\" для фруктов из fruit_prices, цена которых превышает 1.5, подставив вместо %название фрукта% название соответствующих \"дорогих\" фруктов"
   ]
  },
  {
   "cell_type": "code",
   "execution_count": 9,
   "id": "01c01cef-1ca0-4ab9-8a9b-218aca185304",
   "metadata": {},
   "outputs": [
    {
     "name": "stdout",
     "output_type": "stream",
     "text": [
      "банан - Дорогой товар\n"
     ]
    }
   ],
   "source": [
    "fruits_prices = {\"яблоко\": 1.5, \"банан\": 2, \"апельсин\": 1.2}\n",
    "for i in fruits_prices:\n",
    "    if fruits_prices[i] > 1.5:\n",
    "        print(i, \"- Дорогой товар\")"
   ]
  },
  {
   "cell_type": "markdown",
   "id": "846efb83-df77-4616-9df9-26c5c3dd51d7",
   "metadata": {},
   "source": [
    "Посчитайте стоимость всех фруктов, имеющихся в наличии"
   ]
  },
  {
   "cell_type": "code",
   "execution_count": 10,
   "id": "47d44505-cd5b-4c2f-a211-3e0de760676b",
   "metadata": {},
   "outputs": [
    {
     "name": "stdout",
     "output_type": "stream",
     "text": [
      "4.7\n"
     ]
    }
   ],
   "source": [
    "fruits_prices = {\"яблоко\": 1.5, \"банан\": 2, \"апельсин\": 1.2}\n",
    "print(sum(fruits_prices.values()))"
   ]
  },
  {
   "cell_type": "markdown",
   "id": "780871ef-c3d0-4b57-8d7f-4befc09e384a",
   "metadata": {},
   "source": [
    "Используя цикл for, выведите всех студентов и их возраст из словаря students."
   ]
  },
  {
   "cell_type": "code",
   "execution_count": 17,
   "id": "d3769ce9-6746-4c7f-8a3a-fe7d6f5f4503",
   "metadata": {},
   "outputs": [
    {
     "name": "stdout",
     "output_type": "stream",
     "text": [
      "Иванов - 22\n",
      "Петрова - 13\n",
      "Сидоров - 23\n"
     ]
    }
   ],
   "source": [
    "students = {\"Иванов\": 22, \"Петрова\": 13, \"Сидоров\": 23}\n",
    "for k in students.keys():\n",
    "    print (k, '-', students[k])"
   ]
  },
  {
   "cell_type": "code",
   "execution_count": null,
   "id": "33b969ad-005c-49b4-b1c9-ea115d91c67c",
   "metadata": {},
   "outputs": [],
   "source": []
  }
 ],
 "metadata": {
  "kernelspec": {
   "display_name": "Python 3 (ipykernel)",
   "language": "python",
   "name": "python3"
  },
  "language_info": {
   "codemirror_mode": {
    "name": "ipython",
    "version": 3
   },
   "file_extension": ".py",
   "mimetype": "text/x-python",
   "name": "python",
   "nbconvert_exporter": "python",
   "pygments_lexer": "ipython3",
   "version": "3.10.10"
  }
 },
 "nbformat": 4,
 "nbformat_minor": 5
}
