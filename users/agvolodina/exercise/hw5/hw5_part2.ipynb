{
 "cells": [
  {
   "cell_type": "markdown",
   "id": "df8e46fb-bbdd-475f-abe9-599d6fee729f",
   "metadata": {},
   "source": [
    "Словари"
   ]
  },
  {
   "cell_type": "markdown",
   "id": "d3774a5d-9c75-4bdb-8ebf-dd9c9c062bf1",
   "metadata": {},
   "source": [
    "Создайте словарь person с ключами \"name\", \"age\" и \"city\" с вашими данными."
   ]
  },
  {
   "cell_type": "code",
   "execution_count": 3,
   "id": "ea9d6f20-d487-4f7d-9657-aea20f1eacb4",
   "metadata": {},
   "outputs": [
    {
     "name": "stdout",
     "output_type": "stream",
     "text": [
      "{'name': 'Anzhela', 'age': 30, 'city': 'Saransk'}\n"
     ]
    }
   ],
   "source": [
    "person = {\"name\":'Anzhela',\"age\":30, \"city\":'Saransk'}\n",
    "print(person)"
   ]
  },
  {
   "cell_type": "markdown",
   "id": "b27f7a8d-6e04-4653-9419-5b7685511123",
   "metadata": {},
   "source": [
    "\n",
    "Добавьте в словарь новый ключ \"email\" со значением вашего электронного адреса."
   ]
  },
  {
   "cell_type": "code",
   "execution_count": 4,
   "id": "8d465f2a-967e-47e8-87fd-17bf0cc515b9",
   "metadata": {},
   "outputs": [
    {
     "name": "stdout",
     "output_type": "stream",
     "text": [
      "{'name': 'Anzhela', 'age': 30, 'city': 'Saransk', 'email': 'konkina.anzhela@yandex.ru'}\n"
     ]
    }
   ],
   "source": [
    "person [\"email\"] = 'konkina.anzhela@yandex.ru'\n",
    "print(person)"
   ]
  },
  {
   "cell_type": "code",
   "execution_count": null,
   "id": "8d0e6053-ca0d-4cf2-b523-9f3c5ba2e9d0",
   "metadata": {},
   "outputs": [],
   "source": [
    "Удалите ключ \"city\" из словаря."
   ]
  },
  {
   "cell_type": "code",
   "execution_count": 5,
   "id": "3fd4c9e4-d3e2-485d-afad-d9b919a944cd",
   "metadata": {},
   "outputs": [
    {
     "name": "stdout",
     "output_type": "stream",
     "text": [
      "{'name': 'Anzhela', 'age': 30, 'email': 'konkina.anzhela@yandex.ru'}\n"
     ]
    }
   ],
   "source": [
    "del person ['city']\n",
    "print(person)"
   ]
  },
  {
   "cell_type": "markdown",
   "id": "10b7b69e-f934-488e-b440-8c6f790e60f9",
   "metadata": {},
   "source": [
    "\n",
    "Создайте словарь inventory с товарами \"яблоко\": 5, \"банан\": 10, \"апельсин\": 7."
   ]
  },
  {
   "cell_type": "code",
   "execution_count": 6,
   "id": "e956fb73-31ff-49f1-a76a-5047a54a1a28",
   "metadata": {},
   "outputs": [
    {
     "name": "stdout",
     "output_type": "stream",
     "text": [
      "{'яблоко': 5, 'банан': 10, 'апельсин': 7}\n"
     ]
    }
   ],
   "source": [
    "inventory = {\"яблоко\": 5, \"банан\": 10, \"апельсин\": 7}\n",
    "print (inventory)"
   ]
  },
  {
   "cell_type": "code",
   "execution_count": 7,
   "id": "04ece623-8c2f-45a7-8ffc-a6002fee30d8",
   "metadata": {},
   "outputs": [],
   "source": [
    "# Увеличьте количество \"бананов\" в инвентаре на 3."
   ]
  },
  {
   "cell_type": "code",
   "execution_count": 8,
   "id": "3c783098-d823-4675-ada0-fe598828b4c5",
   "metadata": {},
   "outputs": [
    {
     "name": "stdout",
     "output_type": "stream",
     "text": [
      "{'яблоко': 5, 'банан': 13, 'апельсин': 7}\n"
     ]
    }
   ],
   "source": [
    "inventory[\"банан\"]=13\n",
    "print (inventory)"
   ]
  },
  {
   "cell_type": "markdown",
   "id": "0a8a9a0c-a255-4c9a-a7c0-b9a4977e25c2",
   "metadata": {},
   "source": [
    "Создайте новый словарь prices, где цена для каждого продукта задана {\"яблоко\": 1.5, \"банан\": 2, \"апельсин\": 1.2}."
   ]
  },
  {
   "cell_type": "code",
   "execution_count": 9,
   "id": "5369d77d-6a21-49a5-8fb6-c43d157cbf26",
   "metadata": {},
   "outputs": [
    {
     "name": "stdout",
     "output_type": "stream",
     "text": [
      "{'яблоко': 1.5, 'банан': 2, 'апельсин': 1.2}\n"
     ]
    }
   ],
   "source": [
    "prices = {\"яблоко\": 1.5, \"банан\": 2, \"апельсин\": 1.2}\n",
    "print (prices)"
   ]
  },
  {
   "cell_type": "markdown",
   "id": "af2947e6-898a-4c87-8df5-c54636b1aa69",
   "metadata": {},
   "source": [
    "Создайте словарь students с данными о студентах {\"Иванов\": 22, \"Петрова\": 13, \"Сидоров\": 23}."
   ]
  },
  {
   "cell_type": "code",
   "execution_count": 10,
   "id": "995a026c-1957-487c-910d-330113e3c059",
   "metadata": {},
   "outputs": [
    {
     "name": "stdout",
     "output_type": "stream",
     "text": [
      "{'Иванов': 22, 'Петрова': 13, 'Сидоров': 23}\n"
     ]
    }
   ],
   "source": [
    "students = {\"Иванов\": 22, \"Петрова\": 13, \"Сидоров\": 23}\n",
    "print (students)"
   ]
  },
  {
   "cell_type": "markdown",
   "id": "674f7773-dea5-4b81-95d1-e376d24d1f44",
   "metadata": {},
   "source": [
    "Добавьте нового студента \"Смирнова\" возрастом 20 лет в словарь."
   ]
  },
  {
   "cell_type": "code",
   "execution_count": 12,
   "id": "8eefb15e-b07d-4fc0-a915-3cf27a83181a",
   "metadata": {},
   "outputs": [
    {
     "name": "stdout",
     "output_type": "stream",
     "text": [
      "{'Иванов': 22, 'Петрова': 13, 'Сидоров': 23, 'Смирнов': 20}\n"
     ]
    }
   ],
   "source": [
    "students [\"Смирнов\"]=20\n",
    "print (students)"
   ]
  },
  {
   "cell_type": "code",
   "execution_count": null,
   "id": "1604eb7a-1a38-45e9-a60d-7cc17e1a88bc",
   "metadata": {},
   "outputs": [],
   "source": [
    "# Удалите студента \"Петрова\" из словаря."
   ]
  },
  {
   "cell_type": "code",
   "execution_count": 13,
   "id": "7a53d392-9035-4777-856c-c6b449386394",
   "metadata": {},
   "outputs": [
    {
     "name": "stdout",
     "output_type": "stream",
     "text": [
      "{'Иванов': 22, 'Сидоров': 23, 'Смирнов': 20}\n"
     ]
    }
   ],
   "source": [
    "del students ['Петрова']\n",
    "print (students)"
   ]
  }
 ],
 "metadata": {
  "kernelspec": {
   "display_name": "Python 3 (ipykernel)",
   "language": "python",
   "name": "python3"
  },
  "language_info": {
   "codemirror_mode": {
    "name": "ipython",
    "version": 3
   },
   "file_extension": ".py",
   "mimetype": "text/x-python",
   "name": "python",
   "nbconvert_exporter": "python",
   "pygments_lexer": "ipython3",
   "version": "3.10.10"
  }
 },
 "nbformat": 4,
 "nbformat_minor": 5
}
