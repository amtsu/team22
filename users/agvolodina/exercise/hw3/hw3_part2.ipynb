{
 "cells": [
  {
   "cell_type": "code",
   "execution_count": 1,
   "id": "88375e3a-c7d6-467a-8860-39e06fa09810",
   "metadata": {},
   "outputs": [
    {
     "data": {
      "text/plain": [
       "80"
      ]
     },
     "execution_count": 1,
     "metadata": {},
     "output_type": "execute_result"
    }
   ],
   "source": [
    "10*(5+3)"
   ]
  },
  {
   "cell_type": "code",
   "execution_count": 2,
   "id": "4e66a123-de0a-4770-ab15-e9454c9cee3a",
   "metadata": {},
   "outputs": [
    {
     "data": {
      "text/plain": [
       "7.0"
      ]
     },
     "execution_count": 2,
     "metadata": {},
     "output_type": "execute_result"
    }
   ],
   "source": [
    "(20-6)/2 "
   ]
  },
  {
   "cell_type": "code",
   "execution_count": 3,
   "id": "e5fdba06-8987-4aa8-8410-9b7f4932b549",
   "metadata": {},
   "outputs": [
    {
     "data": {
      "text/plain": [
       "32"
      ]
     },
     "execution_count": 3,
     "metadata": {},
     "output_type": "execute_result"
    }
   ],
   "source": [
    "2**5"
   ]
  },
  {
   "cell_type": "code",
   "execution_count": 4,
   "id": "78028f66-a3e5-4bb0-b8eb-481dab82f3be",
   "metadata": {},
   "outputs": [
    {
     "data": {
      "text/plain": [
       "6"
      ]
     },
     "execution_count": 4,
     "metadata": {},
     "output_type": "execute_result"
    }
   ],
   "source": [
    "25//4"
   ]
  },
  {
   "cell_type": "code",
   "execution_count": 5,
   "id": "2ce36e7e-4efd-47bd-8831-0c9ebbf88717",
   "metadata": {
    "scrolled": true
   },
   "outputs": [
    {
     "data": {
      "text/plain": [
       "1"
      ]
     },
     "execution_count": 5,
     "metadata": {},
     "output_type": "execute_result"
    }
   ],
   "source": [
    "25%4"
   ]
  },
  {
   "cell_type": "code",
   "execution_count": 13,
   "id": "151c968d-0996-43b3-86ef-db8fdad5524d",
   "metadata": {},
   "outputs": [
    {
     "data": {
      "text/plain": [
       "-3"
      ]
     },
     "execution_count": 13,
     "metadata": {},
     "output_type": "execute_result"
    }
   ],
   "source": [
    "int(-3.14)"
   ]
  },
  {
   "cell_type": "code",
   "execution_count": 14,
   "id": "dbf50073-c745-43f3-ab06-5a64bb6c38b3",
   "metadata": {},
   "outputs": [
    {
     "data": {
      "text/plain": [
       "-0.14000000000000012"
      ]
     },
     "execution_count": 14,
     "metadata": {},
     "output_type": "execute_result"
    }
   ],
   "source": [
    "-3.14%-3"
   ]
  },
  {
   "cell_type": "code",
   "execution_count": 17,
   "id": "7e1c614e-a07d-47e6-871e-60192e66f7fe",
   "metadata": {},
   "outputs": [],
   "source": [
    "a = 5\n",
    "b = 7\n",
    "s = (a)*(b)"
   ]
  },
  {
   "cell_type": "code",
   "execution_count": 18,
   "id": "6b7a897a-70f4-43dc-8c31-cc36e3f113ff",
   "metadata": {},
   "outputs": [
    {
     "data": {
      "text/plain": [
       "35"
      ]
     },
     "execution_count": 18,
     "metadata": {},
     "output_type": "execute_result"
    }
   ],
   "source": [
    "s"
   ]
  },
  {
   "cell_type": "code",
   "execution_count": 23,
   "id": "d7e0c882-dfd6-4a07-8937-9d890aa11ce1",
   "metadata": {},
   "outputs": [
    {
     "data": {
      "text/plain": [
       "145.70000000000002"
      ]
     },
     "execution_count": 23,
     "metadata": {},
     "output_type": "execute_result"
    }
   ],
   "source": [
    "a = 3.5\n",
    "b = 6.4\n",
    "c = 3.1\n",
    "d = 3.4\n",
    "e = 4\n",
    "s = 11\n",
    "v = (a*b*c) + (d*e*c) + s*c\n",
    "v"
   ]
  },
  {
   "cell_type": "code",
   "execution_count": 30,
   "id": "4ee3a49f-093c-4cea-ab95-c744fe913839",
   "metadata": {},
   "outputs": [
    {
     "data": {
      "text/plain": [
       "81"
      ]
     },
     "execution_count": 30,
     "metadata": {},
     "output_type": "execute_result"
    }
   ],
   "source": [
    "a = 2\n",
    "b = 1\n",
    "c = -10\n",
    "D = b**2 - 4*a*c\n",
    "D"
   ]
  },
  {
   "cell_type": "code",
   "execution_count": 30,
   "id": "6dac578d-f05b-48d7-93f9-2452b79b5352",
   "metadata": {},
   "outputs": [
    {
     "name": "stdout",
     "output_type": "stream",
     "text": [
      "2.0 -2.5\n"
     ]
    }
   ],
   "source": [
    "a = 2\n",
    "b = 1\n",
    "c = -10\n",
    "D = 81\n",
    "if D > 0:\n",
    "     x1 = (-b + math.sqrt(D)) / (2 * a)\n",
    "     x2 = (-b - math.sqrt(D)) / (2 * a)\n",
    "     print(x1, x2)"
   ]
  },
  {
   "cell_type": "code",
   "execution_count": 46,
   "id": "37924fe9-0128-4683-b609-0c5cda8d3447",
   "metadata": {},
   "outputs": [
    {
     "data": {
      "text/plain": [
       "'Hello,world!'"
      ]
     },
     "execution_count": 46,
     "metadata": {},
     "output_type": "execute_result"
    }
   ],
   "source": [
    "\"hello,\".capitalize () + 'world!'"
   ]
  },
  {
   "cell_type": "code",
   "execution_count": 69,
   "id": "bb77c862-18df-4764-8664-bd228d707c3c",
   "metadata": {},
   "outputs": [
    {
     "data": {
      "text/plain": [
       "12"
      ]
     },
     "execution_count": 69,
     "metadata": {},
     "output_type": "execute_result"
    }
   ],
   "source": [
    "len('Hello,world!')"
   ]
  },
  {
   "cell_type": "code",
   "execution_count": 49,
   "id": "2590df01-0d8e-42a9-9c37-1a7358121dca",
   "metadata": {},
   "outputs": [
    {
     "data": {
      "text/plain": [
       "'lalalalalalalalalalalalalalalalalalalalalalalalala'"
      ]
     },
     "execution_count": 49,
     "metadata": {},
     "output_type": "execute_result"
    }
   ],
   "source": [
    "'la' * 25"
   ]
  },
  {
   "cell_type": "code",
   "execution_count": 11,
   "id": "6dcee775-acb6-4cb2-aab1-fe23ee5e646c",
   "metadata": {},
   "outputs": [
    {
     "data": {
      "text/plain": [
       "[1, 2, 'hi', 4, 5]"
      ]
     },
     "execution_count": 11,
     "metadata": {},
     "output_type": "execute_result"
    }
   ],
   "source": [
    "numbers = [1,2,3,4,5]\n",
    "numbers[2] = 'hi'\n",
    "numbers"
   ]
  },
  {
   "cell_type": "code",
   "execution_count": 12,
   "id": "7c35bfbc-5652-460f-a042-903560ed84e4",
   "metadata": {},
   "outputs": [
    {
     "data": {
      "text/plain": [
       "3"
      ]
     },
     "execution_count": 12,
     "metadata": {},
     "output_type": "execute_result"
    }
   ],
   "source": [
    "numbers = [1,2,3,4,5]\n",
    "numbers[2]"
   ]
  },
  {
   "cell_type": "code",
   "execution_count": 15,
   "id": "662dfdb2-35e3-4cc3-ac75-384f15e2aabd",
   "metadata": {},
   "outputs": [
    {
     "data": {
      "text/plain": [
       "[1, 2, 3, 4, [8, 6, 4]]"
      ]
     },
     "execution_count": 15,
     "metadata": {},
     "output_type": "execute_result"
    }
   ],
   "source": [
    "numbers = [1,2,3,4,5]\n",
    "numbers[4] = [8,6,4]\n",
    "numbers"
   ]
  },
  {
   "cell_type": "code",
   "execution_count": 4,
   "id": "0ffa721d-393f-4b0a-862a-bef7b668af5b",
   "metadata": {},
   "outputs": [
    {
     "data": {
      "text/plain": [
       "[4, 5, 6, 7]"
      ]
     },
     "execution_count": 4,
     "metadata": {},
     "output_type": "execute_result"
    }
   ],
   "source": [
    "[1,2,3,4,5,6,7,8,9,10] [3:7]"
   ]
  }
 ],
 "metadata": {
  "kernelspec": {
   "display_name": "Python 3 (ipykernel)",
   "language": "python",
   "name": "python3"
  },
  "language_info": {
   "codemirror_mode": {
    "name": "ipython",
    "version": 3
   },
   "file_extension": ".py",
   "mimetype": "text/x-python",
   "name": "python",
   "nbconvert_exporter": "python",
   "pygments_lexer": "ipython3",
   "version": "3.10.10"
  }
 },
 "nbformat": 4,
 "nbformat_minor": 5
}
