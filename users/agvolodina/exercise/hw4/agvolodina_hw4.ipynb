{
 "cells": [
  {
   "cell_type": "code",
   "execution_count": null,
   "id": "b5cce256-3568-491a-8cbc-f8a8d6932733",
   "metadata": {},
   "outputs": [],
   "source": [
    "Задание 1. выполните следующий код \n",
    "list_one = [1, 2, 3, 4, 5, 6, 9]\n",
    "list_two = [1, 2, 3, 4, 5, 6, 9]\n",
    "list_two.append(789)\n",
    "print(list_one, list_two, sep='\\n')\n",
    "затем выполните код \n",
    "list_one = [1, 2, 3, 4, 5, 6, 9]\n",
    "list_two = list_one\n",
    "list_two.append(789)\n",
    "print(list_one, list_two, sep='\\n')\n",
    "запишите объяснения разницы в выполнении кода в переменную difference_explanation и выведите ее на экран"
   ]
  },
  {
   "cell_type": "code",
   "execution_count": 1,
   "id": "a1dbd929-6ba6-4f3b-afae-929d130063d2",
   "metadata": {},
   "outputs": [
    {
     "name": "stdout",
     "output_type": "stream",
     "text": [
      "[1, 2, 3, 4, 5, 6, 9]\n",
      "[1, 2, 3, 4, 5, 6, 9, 789]\n"
     ]
    }
   ],
   "source": [
    "list_one = [1, 2, 3, 4, 5, 6, 9]\n",
    "list_two = [1, 2, 3, 4, 5, 6, 9]\n",
    "list_two.append(789)\n",
    "print(list_one, list_two, sep='\\n')"
   ]
  },
  {
   "cell_type": "code",
   "execution_count": 2,
   "id": "321d7d17-a6cf-4da0-910b-3246c0dbf2f0",
   "metadata": {},
   "outputs": [
    {
     "name": "stdout",
     "output_type": "stream",
     "text": [
      "[1, 2, 3, 4, 5, 6, 9, 789]\n",
      "[1, 2, 3, 4, 5, 6, 9, 789]\n"
     ]
    }
   ],
   "source": [
    "list_one = [1, 2, 3, 4, 5, 6, 9]\n",
    "list_two = list_one\n",
    "list_two.append(789)\n",
    "print(list_one, list_two, sep='\\n')"
   ]
  },
  {
   "cell_type": "code",
   "execution_count": 5,
   "id": "9a94d7ec-b6f1-44be-a58f-4058dc270411",
   "metadata": {},
   "outputs": [],
   "source": [
    "difference_explanation = 'в первом случае 2 разные переменные равные одинаковому значению, изменив значение второй переменной print выводит 2 разных списка. Во втором случае на одно значение ссылаются 2 переменных. При изменении одной, автоматически поменялась другая, поэтому print 2 одинаковых списка.'"
   ]
  },
  {
   "cell_type": "code",
   "execution_count": 6,
   "id": "891de2fb-c688-480d-baff-af16bbcf51f0",
   "metadata": {},
   "outputs": [
    {
     "name": "stdout",
     "output_type": "stream",
     "text": [
      "в первом случае 2 разные переменные равные одинаковому значению, изменив значение второй переменной print выводит 2 разных списка. Во втором случае на одно значение ссылаются 2 переменных. При изменении одной, автоматически поменялась другая, поэтому print 2 одинаковых списка.\n"
     ]
    }
   ],
   "source": [
    "print(difference_explanation)"
   ]
  },
  {
   "cell_type": "markdown",
   "id": "f7380c2e-1217-431e-a916-f74bae3105a1",
   "metadata": {},
   "source": [
    "Задание 2. Задайте переменную a_poem типа строка, со следующим содержимым: \n",
    "За стеклом лежал Питон,\n",
    "Большой и толстый, как батон.\n",
    "Вверх пополз,\n",
    "Затем вернулся,\n",
    "Круглым бубликом свернулся.\n",
    "\n",
    "Создайте переменную a_list типа список, заполнив ее содержимым строки a_poem так, чтобы каждый символ строки a_poem стал отдельным элементом списка a_list\n",
    "Создайте переменную another_list типа список, заполнив ее содержимым строки a_poem так, чтобы каждое слово строки a_poem стал отдельным элементом списка another_list. Знаки препинания прилипнут к словам, не страшно.\n",
    "Выведите на экран элементы и их количество для списков a_list и another_list.\n",
    "Создайте переменную one_more_list типа список, каждым элементом которой является отдельная строка строфы из a_poem. Выведите на экран элементы one_more_list и их количество."
   ]
  },
  {
   "cell_type": "code",
   "execution_count": 7,
   "id": "33ee0e98-e89a-4be0-8e8e-b79812c35e73",
   "metadata": {},
   "outputs": [],
   "source": [
    "a_poem = '''За стеклом лежал Питон,\n",
    "Большой и толстый, как батон.\n",
    "Вверх пополз,\n",
    "Затем вернулся,\n",
    "Круглым бубликом свернулся.'''"
   ]
  },
  {
   "cell_type": "code",
   "execution_count": 9,
   "id": "5114c26f-27d7-4ae8-978e-d8c8c04d6eaa",
   "metadata": {},
   "outputs": [
    {
     "data": {
      "text/plain": [
       "['З',\n",
       " 'а',\n",
       " ' ',\n",
       " 'с',\n",
       " 'т',\n",
       " 'е',\n",
       " 'к',\n",
       " 'л',\n",
       " 'о',\n",
       " 'м',\n",
       " ' ',\n",
       " 'л',\n",
       " 'е',\n",
       " 'ж',\n",
       " 'а',\n",
       " 'л',\n",
       " ' ',\n",
       " 'П',\n",
       " 'и',\n",
       " 'т',\n",
       " 'о',\n",
       " 'н',\n",
       " ',',\n",
       " '\\n',\n",
       " 'Б',\n",
       " 'о',\n",
       " 'л',\n",
       " 'ь',\n",
       " 'ш',\n",
       " 'о',\n",
       " 'й',\n",
       " ' ',\n",
       " 'и',\n",
       " ' ',\n",
       " 'т',\n",
       " 'о',\n",
       " 'л',\n",
       " 'с',\n",
       " 'т',\n",
       " 'ы',\n",
       " 'й',\n",
       " ',',\n",
       " ' ',\n",
       " 'к',\n",
       " 'а',\n",
       " 'к',\n",
       " ' ',\n",
       " 'б',\n",
       " 'а',\n",
       " 'т',\n",
       " 'о',\n",
       " 'н',\n",
       " '.',\n",
       " '\\n',\n",
       " 'В',\n",
       " 'в',\n",
       " 'е',\n",
       " 'р',\n",
       " 'х',\n",
       " ' ',\n",
       " 'п',\n",
       " 'о',\n",
       " 'п',\n",
       " 'о',\n",
       " 'л',\n",
       " 'з',\n",
       " ',',\n",
       " '\\n',\n",
       " 'З',\n",
       " 'а',\n",
       " 'т',\n",
       " 'е',\n",
       " 'м',\n",
       " ' ',\n",
       " 'в',\n",
       " 'е',\n",
       " 'р',\n",
       " 'н',\n",
       " 'у',\n",
       " 'л',\n",
       " 'с',\n",
       " 'я',\n",
       " ',',\n",
       " '\\n',\n",
       " 'К',\n",
       " 'р',\n",
       " 'у',\n",
       " 'г',\n",
       " 'л',\n",
       " 'ы',\n",
       " 'м',\n",
       " ' ',\n",
       " 'б',\n",
       " 'у',\n",
       " 'б',\n",
       " 'л',\n",
       " 'и',\n",
       " 'к',\n",
       " 'о',\n",
       " 'м',\n",
       " ' ',\n",
       " 'с',\n",
       " 'в',\n",
       " 'е',\n",
       " 'р',\n",
       " 'н',\n",
       " 'у',\n",
       " 'л',\n",
       " 'с',\n",
       " 'я',\n",
       " '.']"
      ]
     },
     "execution_count": 9,
     "metadata": {},
     "output_type": "execute_result"
    }
   ],
   "source": [
    "a_list = a_poem\n",
    "list(a_list)"
   ]
  },
  {
   "cell_type": "code",
   "execution_count": 10,
   "id": "8e66f1ec-9a11-4e40-8ce7-cf257cff7a04",
   "metadata": {},
   "outputs": [
    {
     "data": {
      "text/plain": [
       "111"
      ]
     },
     "execution_count": 10,
     "metadata": {},
     "output_type": "execute_result"
    }
   ],
   "source": [
    "len(a_list)"
   ]
  },
  {
   "cell_type": "code",
   "execution_count": 14,
   "id": "eb5f7a76-d247-4510-93f1-1b06de2c4802",
   "metadata": {},
   "outputs": [
    {
     "data": {
      "text/plain": [
       "['За',\n",
       " 'стеклом',\n",
       " 'лежал',\n",
       " 'Питон,',\n",
       " 'Большой',\n",
       " 'и',\n",
       " 'толстый,',\n",
       " 'как',\n",
       " 'батон.',\n",
       " 'Вверх',\n",
       " 'пополз,',\n",
       " 'Затем',\n",
       " 'вернулся,',\n",
       " 'Круглым',\n",
       " 'бубликом',\n",
       " 'свернулся.']"
      ]
     },
     "execution_count": 14,
     "metadata": {},
     "output_type": "execute_result"
    }
   ],
   "source": [
    "another_list = a_poem.split( )\n",
    "another_list"
   ]
  },
  {
   "cell_type": "code",
   "execution_count": 18,
   "id": "685b6218-9a45-4f30-873b-20245ec782d0",
   "metadata": {},
   "outputs": [
    {
     "data": {
      "text/plain": [
       "111"
      ]
     },
     "execution_count": 18,
     "metadata": {},
     "output_type": "execute_result"
    }
   ],
   "source": [
    "len(a_list)"
   ]
  },
  {
   "cell_type": "code",
   "execution_count": 19,
   "id": "00244577-cfdd-4ef5-819a-48ae1c4ca7a5",
   "metadata": {},
   "outputs": [
    {
     "data": {
      "text/plain": [
       "16"
      ]
     },
     "execution_count": 19,
     "metadata": {},
     "output_type": "execute_result"
    }
   ],
   "source": [
    "len(another_list)"
   ]
  },
  {
   "cell_type": "code",
   "execution_count": 25,
   "id": "eb8bd0f9-46ff-4ee8-8731-55e965dfae48",
   "metadata": {},
   "outputs": [
    {
     "name": "stdout",
     "output_type": "stream",
     "text": [
      "['За стеклом лежал Питон,', 'Большой и толстый, как батон.', 'Вверх пополз,', 'Затем вернулся,', 'Круглым бубликом свернулся.']\n"
     ]
    },
    {
     "data": {
      "text/plain": [
       "5"
      ]
     },
     "execution_count": 25,
     "metadata": {},
     "output_type": "execute_result"
    }
   ],
   "source": [
    "one_more_list=a_poem.split('\\n')\n",
    "print(one_more_list)\n",
    "len(one_more_list)"
   ]
  },
  {
   "cell_type": "code",
   "execution_count": null,
   "id": "1125b3c7-045c-437f-a13a-802a06944f3a",
   "metadata": {},
   "outputs": [],
   "source": [
    "Задание 3.\n",
    "\n",
    "Создайте список solyanka_list, в качестве его элементов добавьте значения каждого из известных вам типов данных python.\n",
    "Выведите на экран содержимое списка solyanka_list.\n",
    "Посчитайте количество элементов списка solyanka_list.\n",
    "Выведите на экран тип пятого от начала списка элемента.\n",
    "Добавьте в конец списка solyanka_list элемент типа \"список\" из одного элемента\n",
    "Выведите на экран тип последнего элемента списка solyanka_list"
   ]
  },
  {
   "cell_type": "code",
   "execution_count": 26,
   "id": "480cea4e-4a44-4e8c-8b97-bc6ecd3f00e6",
   "metadata": {},
   "outputs": [
    {
     "name": "stdout",
     "output_type": "stream",
     "text": [
      "[1, 2.3, 'hello', [1, 2, 'hi'], {'hi': 'привет'}, (1, 2, 3), {1, 2, 3}, True]\n"
     ]
    }
   ],
   "source": [
    "solyanka_list = [1, 2.3, 'hello', [1,2, 'hi'], {'hi':'привет'}, (1,2,3), {1,2,3}, True]\n",
    "print(solyanka_list)"
   ]
  },
  {
   "cell_type": "code",
   "execution_count": 32,
   "id": "93c467a8-586d-4285-a363-3ed428a2bc40",
   "metadata": {},
   "outputs": [
    {
     "data": {
      "text/plain": [
       "9"
      ]
     },
     "execution_count": 32,
     "metadata": {},
     "output_type": "execute_result"
    }
   ],
   "source": [
    "len(solyanka_list)"
   ]
  },
  {
   "cell_type": "code",
   "execution_count": 34,
   "id": "f7fa1cf7-c2b6-4de1-aa88-c762f05083cc",
   "metadata": {},
   "outputs": [
    {
     "data": {
      "text/plain": [
       "dict"
      ]
     },
     "execution_count": 34,
     "metadata": {},
     "output_type": "execute_result"
    }
   ],
   "source": [
    "type(solyanka_list[4])"
   ]
  },
  {
   "cell_type": "code",
   "execution_count": 29,
   "id": "542e59c1-6aaf-4e4f-8603-3e3c3e80e167",
   "metadata": {},
   "outputs": [],
   "source": [
    "solyanka_list.append([1])"
   ]
  },
  {
   "cell_type": "code",
   "execution_count": 30,
   "id": "a3398efe-7802-4508-8f23-61dcd4da8a7b",
   "metadata": {},
   "outputs": [
    {
     "name": "stdout",
     "output_type": "stream",
     "text": [
      "[1, 2.3, 'hello', [1, 2, 'hi'], {'hi': 'привет'}, (1, 2, 3), {1, 2, 3}, True, [1]]\n"
     ]
    }
   ],
   "source": [
    "print(solyanka_list)"
   ]
  },
  {
   "cell_type": "code",
   "execution_count": 35,
   "id": "58cdea5c-10de-49d4-a028-f53b252316d4",
   "metadata": {},
   "outputs": [
    {
     "data": {
      "text/plain": [
       "list"
      ]
     },
     "execution_count": 35,
     "metadata": {},
     "output_type": "execute_result"
    }
   ],
   "source": [
    "type(solyanka_list[-1])"
   ]
  },
  {
   "cell_type": "markdown",
   "id": "e765350e-71b2-4eaa-aec6-093e878e6a56",
   "metadata": {},
   "source": [
    "Задание 4. Дана последовательности чисел Фибоначчи из нескольких элементов: \n",
    "0, 1, 1, 2, 3, 5, 8, 13, 21, 34, 55, 89, 144, 233, 377, 610, 987, 1597, 2584, 4181, 6765, 10946, 17711\n",
    "\n",
    "Создайте список fibonacci_list, элементами которого будут числа Фибонначи из задания.\n",
    "Посчитайте и выведите на экран, сколько чисел Фибоначчи в последовательности из задания\n",
    "Посчитайте и выведите на экран, сколько раз число 1 входит в заданную последовательность Фибоначчи.\n",
    "Проверьте и выведите на экран результат, является ли число 21 числом Фибоначчи. Число 33? Число 987? число 9999? использование оператора if возможно, но не является необходимым"
   ]
  },
  {
   "cell_type": "code",
   "execution_count": 39,
   "id": "7ca4cf16-67d5-42f4-aa1f-01b33dd1c905",
   "metadata": {},
   "outputs": [
    {
     "data": {
      "text/plain": [
       "23"
      ]
     },
     "execution_count": 39,
     "metadata": {},
     "output_type": "execute_result"
    }
   ],
   "source": [
    "fibonacci_list = [0, 1, 1, 2, 3, 5, 8, 13, 21, 34, 55, 89, 144, 233, 377, 610, 987, 1597, 2584, 4181, 6765, 10946, 17711]\n",
    "len(fibonacci_list)"
   ]
  },
  {
   "cell_type": "code",
   "execution_count": 40,
   "id": "d94d1d1e-cd1f-4dd3-818d-f410925107c8",
   "metadata": {},
   "outputs": [
    {
     "data": {
      "text/plain": [
       "2"
      ]
     },
     "execution_count": 40,
     "metadata": {},
     "output_type": "execute_result"
    }
   ],
   "source": [
    "fibonacci_list.count(1)"
   ]
  },
  {
   "cell_type": "code",
   "execution_count": 74,
   "id": "b5acd4c9-d66b-49ba-afb5-c518bf518d4b",
   "metadata": {},
   "outputs": [
    {
     "data": {
      "text/plain": [
       "True"
      ]
     },
     "execution_count": 74,
     "metadata": {},
     "output_type": "execute_result"
    }
   ],
   "source": [
    "21 in fibonacci_list"
   ]
  },
  {
   "cell_type": "code",
   "execution_count": 73,
   "id": "dfb04e1b-0782-4f30-894c-ff5c4487ddc2",
   "metadata": {},
   "outputs": [
    {
     "data": {
      "text/plain": [
       "False"
      ]
     },
     "execution_count": 73,
     "metadata": {},
     "output_type": "execute_result"
    }
   ],
   "source": [
    "33 in fibonacci_list"
   ]
  },
  {
   "cell_type": "code",
   "execution_count": 72,
   "id": "35e9e263-00d9-4ec8-bd3e-c8e00b3361c6",
   "metadata": {},
   "outputs": [
    {
     "name": "stdout",
     "output_type": "stream",
     "text": [
      "True\n"
     ]
    }
   ],
   "source": [
    "987 in  fibonacci_list"
   ]
  },
  {
   "cell_type": "code",
   "execution_count": 75,
   "id": "e8621264-fe8b-4afb-9250-124f899b836b",
   "metadata": {},
   "outputs": [
    {
     "data": {
      "text/plain": [
       "False"
      ]
     },
     "execution_count": 75,
     "metadata": {},
     "output_type": "execute_result"
    }
   ],
   "source": [
    "9999 in fibonacci_list"
   ]
  },
  {
   "cell_type": "code",
   "execution_count": null,
   "id": "520c907e-d7ea-46a0-998f-d9b16e870040",
   "metadata": {},
   "outputs": [],
   "source": [
    "Задание 5. Задайте переменную a_list типа \"список\" со следующим содержимым: \n",
    "1,2,5,4,3,6\n",
    "\n",
    "выведите содержимое a_list на экран\n",
    "поменяйте местами третий и пятый элементы a_list и выведите результат на экран"
   ]
  },
  {
   "cell_type": "code",
   "execution_count": 86,
   "id": "59bfca78-e5b6-405e-ae4a-751060f7915f",
   "metadata": {},
   "outputs": [
    {
     "name": "stdout",
     "output_type": "stream",
     "text": [
      "[1, 2, 5, 4, 3, 6]\n"
     ]
    }
   ],
   "source": [
    "a_list = [1,2,5,4,3,6]\n",
    "print(a_list)"
   ]
  },
  {
   "cell_type": "code",
   "execution_count": 89,
   "id": "2a753f18-a16e-4fb3-a2ab-b1a2010c7c6f",
   "metadata": {},
   "outputs": [],
   "source": [
    "a_list[2], a_list[4] = a_list [4], a_list[2]"
   ]
  },
  {
   "cell_type": "code",
   "execution_count": 90,
   "id": "bec09ef8-b610-4ed8-ae09-6e6a73a19568",
   "metadata": {},
   "outputs": [
    {
     "data": {
      "text/plain": [
       "[1, 2, 3, 4, 5, 6]"
      ]
     },
     "execution_count": 90,
     "metadata": {},
     "output_type": "execute_result"
    }
   ],
   "source": [
    "a_list"
   ]
  },
  {
   "cell_type": "code",
   "execution_count": null,
   "id": "95e50ce4-93b1-465f-a7cd-b2d2cef2b28c",
   "metadata": {},
   "outputs": [],
   "source": [
    "Задание 6. Кто-то перепутал строчки в стихотворении, хорошо что они были пронумерованы. \n",
    "(2, \"тот большего добьётся,\" )\n",
    "(5, \"Кто умирал, тот знает, что живёт.\")\n",
    "(1, \"Кто битым жизнью был,\" )\n",
    "(3, \"Пуд соли съевший выше ценит мёд.\")\n",
    "(4, \"Кто слёзы лил, тот искренней смеётся,\")\n",
    "выведите на экран строки Омара Хайама в правильном порядке, используя список."
   ]
  },
  {
   "cell_type": "code",
   "execution_count": 94,
   "id": "bd7904c3-6406-4fe3-9292-73e69989fbd6",
   "metadata": {},
   "outputs": [],
   "source": [
    "omar = [(2, \"тот большего добьётся,\" ),\n",
    "(5, \"Кто умирал, тот знает, что живёт.\"),\n",
    "(1, \"Кто битым жизнью был,\" ),\n",
    "(3, \"Пуд соли съевший выше ценит мёд.\"),\n",
    "(4, \"Кто слёзы лил, тот искренней смеётся,\")]"
   ]
  },
  {
   "cell_type": "code",
   "execution_count": 99,
   "id": "df6b957b-5b76-48ac-a004-697442edee67",
   "metadata": {},
   "outputs": [
    {
     "data": {
      "text/plain": [
       "[(1, 'Кто битым жизнью был,'),\n",
       " (2, 'тот большего добьётся,'),\n",
       " (3, 'Пуд соли съевший выше ценит мёд.'),\n",
       " (4, 'Кто слёзы лил, тот искренней смеётся,'),\n",
       " (5, 'Кто умирал, тот знает, что живёт.')]"
      ]
     },
     "execution_count": 99,
     "metadata": {},
     "output_type": "execute_result"
    }
   ],
   "source": [
    "omar.sort()\n",
    "omar"
   ]
  },
  {
   "cell_type": "markdown",
   "id": "6fd1f8ba-5f6b-4248-8998-803f61aee9e6",
   "metadata": {},
   "source": [
    "Задание 7. \n",
    "Кто битым за дедлайн был,\n",
    "тот больше не сольется.\n",
    "Пуд багов съевший, выше ценит чистый код.\n",
    "Кто дошик ел, тот рейтинг ценит свой.\n",
    "Кто крашился, тот знает, что живой.\n",
    "В данном задании после каждой операции выводите на экран содержимое true_story_list и количество его элементов.\n",
    "\n",
    "Создайте переменную true_story_list типа список, занесите в неё третью строку из стихотворения выше.\n",
    "Добавьте четвертую строку в конец списка true_story_list.\n",
    "Создайте переменную true_story_slice типа список, занесите в неё четвертую и пятую строки из стихотворения выше. Добавьте содержимое true_story_slice как один последний элемент списка true_story_list.\n",
    "Очистите весь список true_story_slice, выведите его содержимое на экран.\n",
    "Добавьте первую строку из стихотворение в начало списка true_story_list\n",
    "Удалите из true_story_list все элементы.\n",
    "Удалите последний элемент списка true_story_list\n",
    "Добавьте вторым элементом списка true_story_list вторую строчку стихотворения\n",
    "Создайте переменную true_story_tail типа список, занесите в него пятую строку стихотворения дважды. Скопируйте элементы списка true_story_tail в конец списка true_story_list.\n",
    "Удалите 5 элемент списка true_story_list.\n",
    "*Выведите список true_story_list красиво в виде стихотворения. (кажется, это ещё не проходили, но попробовать стоит)"
   ]
  },
  {
   "cell_type": "code",
   "execution_count": 5,
   "id": "8f4f5e6d-4219-4fee-af8b-2b2a52bdc8bc",
   "metadata": {},
   "outputs": [
    {
     "name": "stdout",
     "output_type": "stream",
     "text": [
      "['Пуд багов съевший, выше ценит чистый код.']\n"
     ]
    },
    {
     "data": {
      "text/plain": [
       "1"
      ]
     },
     "execution_count": 5,
     "metadata": {},
     "output_type": "execute_result"
    }
   ],
   "source": [
    "true_story_list = ['Пуд багов съевший, выше ценит чистый код.']\n",
    "print(true_story_list)\n",
    "len(true_story_list)"
   ]
  },
  {
   "cell_type": "code",
   "execution_count": 6,
   "id": "334ca54e-6844-436b-b52c-5ea7d55a2cb6",
   "metadata": {},
   "outputs": [
    {
     "name": "stdout",
     "output_type": "stream",
     "text": [
      "['Пуд багов съевший, выше ценит чистый код.', 'Кто дошик ел, тот рейтинг ценит свой.']\n"
     ]
    },
    {
     "data": {
      "text/plain": [
       "2"
      ]
     },
     "execution_count": 6,
     "metadata": {},
     "output_type": "execute_result"
    }
   ],
   "source": [
    "true_story_list.append('Кто дошик ел, тот рейтинг ценит свой.')\n",
    "print(true_story_list)\n",
    "len(true_story_list)"
   ]
  },
  {
   "cell_type": "code",
   "execution_count": 7,
   "id": "00a69bc7-fb22-4d2a-9985-bdff28ec00d4",
   "metadata": {},
   "outputs": [
    {
     "data": {
      "text/plain": [
       "['Кто дошик ел, тот рейтинг ценит свой.\\nКто крашился, тот знает, что живой.']"
      ]
     },
     "execution_count": 7,
     "metadata": {},
     "output_type": "execute_result"
    }
   ],
   "source": [
    "true_story_slice = ['''Кто дошик ел, тот рейтинг ценит свой.\n",
    "Кто крашился, тот знает, что живой.''']\n",
    "true_story_slice"
   ]
  },
  {
   "cell_type": "code",
   "execution_count": 8,
   "id": "94b458a3-56c4-43e1-9321-55005e0b4b99",
   "metadata": {},
   "outputs": [
    {
     "name": "stdout",
     "output_type": "stream",
     "text": [
      "['Пуд багов съевший, выше ценит чистый код.', 'Кто дошик ел, тот рейтинг ценит свой.', 'Кто дошик ел, тот рейтинг ценит свой.\\nКто крашился, тот знает, что живой.']\n"
     ]
    },
    {
     "data": {
      "text/plain": [
       "3"
      ]
     },
     "execution_count": 8,
     "metadata": {},
     "output_type": "execute_result"
    }
   ],
   "source": [
    "true_story_list.extend(true_story_slice)\n",
    "print (true_story_list)\n",
    "len(true_story_list)"
   ]
  },
  {
   "cell_type": "code",
   "execution_count": 9,
   "id": "0b94556c-fba8-4da4-bb8f-a8a8757dd615",
   "metadata": {},
   "outputs": [
    {
     "name": "stdout",
     "output_type": "stream",
     "text": [
      "[]\n"
     ]
    }
   ],
   "source": [
    "true_story_slice.clear()\n",
    "print(true_story_slice)"
   ]
  },
  {
   "cell_type": "markdown",
   "id": "d3f5b486-c2b3-4cb8-aa5b-88134daeac6f",
   "metadata": {},
   "source": [
    "true_story_list.insert(0, 'Кто битым за дедлайн был,')\n",
    "print(true_story_list)\n",
    "len(true_story_list)"
   ]
  },
  {
   "cell_type": "code",
   "execution_count": 11,
   "id": "0e014600-3d6d-4b96-9f9b-cc8bc1b47b76",
   "metadata": {},
   "outputs": [],
   "source": [
    "true_story_list.clear()"
   ]
  },
  {
   "cell_type": "markdown",
   "id": "1a31deb9-e1cf-4b08-aa96-078036c5ee44",
   "metadata": {},
   "source": [
    "Удалите последний элемент списка true_story_list - не могу выполнить команду, т.к. предыдущим заданием было удалить все элементы списка true_story_list. В противоположном случае использовала бы команду del true_story_list [-1]"
   ]
  },
  {
   "cell_type": "code",
   "execution_count": 12,
   "id": "224b5f7b-f1e6-43d7-973e-01ade4e3359d",
   "metadata": {},
   "outputs": [
    {
     "name": "stdout",
     "output_type": "stream",
     "text": [
      "['тот больше не сольется.']\n"
     ]
    }
   ],
   "source": [
    "true_story_list.append('тот больше не сольется.')\n",
    "print (true_story_list)"
   ]
  },
  {
   "cell_type": "code",
   "execution_count": 20,
   "id": "7061c88c-79f6-4e14-a928-e1445b895fe7",
   "metadata": {},
   "outputs": [
    {
     "name": "stdout",
     "output_type": "stream",
     "text": [
      "['Кто крашился, тот знает, что живой.']\n"
     ]
    }
   ],
   "source": [
    "true_story_tail = ['Кто крашился, тот знает, что живой.']\n",
    "print (true_story_tail)"
   ]
  },
  {
   "cell_type": "code",
   "execution_count": 21,
   "id": "370b7061-ed97-41a2-9367-dafd900ee3f9",
   "metadata": {},
   "outputs": [
    {
     "data": {
      "text/plain": [
       "['Кто крашился, тот знает, что живой.', 'Кто крашился, тот знает, что живой.']"
      ]
     },
     "execution_count": 21,
     "metadata": {},
     "output_type": "execute_result"
    }
   ],
   "source": [
    "true_story_tail.append('Кто крашился, тот знает, что живой.')\n",
    "true_story_tail"
   ]
  },
  {
   "cell_type": "code",
   "execution_count": 22,
   "id": "dbb6b58f-c1dc-4d8a-a2ed-8d41fb2f2c69",
   "metadata": {},
   "outputs": [
    {
     "name": "stdout",
     "output_type": "stream",
     "text": [
      "['тот больше не сольется.', 'Кто крашился, тот знает, что живой.', 'Кто крашился, тот знает, что живой.']\n"
     ]
    }
   ],
   "source": [
    "true_story_list.extend(true_story_tail)\n",
    "print (true_story_list)"
   ]
  },
  {
   "cell_type": "code",
   "execution_count": 23,
   "id": "33579b00-78b4-417c-a6e1-91c55883cfe2",
   "metadata": {},
   "outputs": [
    {
     "name": "stdout",
     "output_type": "stream",
     "text": [
      "['тот больше не сольется.', 'Кто крашился, тот знает, что живой.']\n"
     ]
    }
   ],
   "source": [
    "true_story_list.pop(-1)\n",
    "print (true_story_list)"
   ]
  },
  {
   "cell_type": "code",
   "execution_count": 36,
   "id": "318379c9-55f3-4a9e-94c5-8e6705b18361",
   "metadata": {},
   "outputs": [],
   "source": [
    "poam = \"\"\"Кто битым за дедлайн был,\n",
    "тот больше не сольется.\n",
    "Пуд багов съевший, выше ценит чистый код.\n",
    "Кто дошик ел, тот рейтинг ценит свой.\n",
    "Кто крашился, тот знает, что живой.\"\"\""
   ]
  },
  {
   "cell_type": "code",
   "execution_count": 38,
   "id": "72aef916-6f12-46ea-8d42-ca44acf983e4",
   "metadata": {},
   "outputs": [
    {
     "data": {
      "text/plain": [
       "['Кто битым за дедлайн был,\\nтот больше не сольется.\\nПуд багов съевший, выше ценит чистый код.\\nКто дошик ел, тот рейтинг ценит свой.\\nКто крашился, тот знает, что живой.']"
      ]
     },
     "execution_count": 38,
     "metadata": {},
     "output_type": "execute_result"
    }
   ],
   "source": [
    "poam.split('/n')"
   ]
  },
  {
   "cell_type": "code",
   "execution_count": 39,
   "id": "cb0acfce-3394-4b44-8167-277b66e94667",
   "metadata": {},
   "outputs": [
    {
     "name": "stdout",
     "output_type": "stream",
     "text": [
      "Кто битым за дедлайн был,\n",
      "тот больше не сольется.\n",
      "Пуд багов съевший, выше ценит чистый код.\n",
      "Кто дошик ел, тот рейтинг ценит свой.\n",
      "Кто крашился, тот знает, что живой.\n"
     ]
    }
   ],
   "source": [
    "print(poam)"
   ]
  }
 ],
 "metadata": {
  "kernelspec": {
   "display_name": "Python 3 (ipykernel)",
   "language": "python",
   "name": "python3"
  },
  "language_info": {
   "codemirror_mode": {
    "name": "ipython",
    "version": 3
   },
   "file_extension": ".py",
   "mimetype": "text/x-python",
   "name": "python",
   "nbconvert_exporter": "python",
   "pygments_lexer": "ipython3",
   "version": "3.10.10"
  }
 },
 "nbformat": 4,
 "nbformat_minor": 5
}
