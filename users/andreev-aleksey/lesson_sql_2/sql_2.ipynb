{
 "cells": [
  {
   "cell_type": "code",
   "execution_count": 15,
   "metadata": {},
   "outputs": [
    {
     "name": "stdout",
     "output_type": "stream",
     "text": [
      "/home/jupyter-andreev-aleksey/github/team22/users/andreev-aleksey/lesson_sql_2\r\n"
     ]
    }
   ],
   "source": [
    "!pwd"
   ]
  },
  {
   "cell_type": "code",
   "execution_count": 4,
   "metadata": {},
   "outputs": [],
   "source": [
    "!cp /tmp/db_mini.sqlite3 /home/jupyter-andreev-aleksey/github/team22/users/andreev-aleksey/lesson_sql_2"
   ]
  },
  {
   "cell_type": "code",
   "execution_count": 54,
   "metadata": {},
   "outputs": [],
   "source": [
    "import sqlite3\n",
    "from datetime import datetime, timedelta\n",
    "connect = sqlite3.connect('db_mini.sqlite3')\n",
    "cursor = connect.cursor()\n"
   ]
  },
  {
   "cell_type": "code",
   "execution_count": 34,
   "metadata": {},
   "outputs": [
    {
     "data": {
      "text/plain": [
       "[(2870,\n",
       "  '2022-12-06 15:35:11.590625',\n",
       "  'Игрушка-конструктор COGO Боевой корабль',\n",
       "  2817.99,\n",
       "  'https://www.auchan.ru/product/konstruktor-760-det'),\n",
       " (2871,\n",
       "  '2022-12-06 15:35:11.600272',\n",
       "  'Вино Arzuaga красное сухое Испания, 0,75 л',\n",
       "  4300.99,\n",
       "  'https://www.auchan.ru/product/vin_arzuag_krianca_kr_suh_075')]"
      ]
     },
     "execution_count": 34,
     "metadata": {},
     "output_type": "execute_result"
    }
   ],
   "source": [
    "cursor.execute('''\n",
    "SELECT * FROM products_history limit 2\n",
    "''')\n",
    "cursor.fetchall()"
   ]
  },
  {
   "cell_type": "code",
   "execution_count": 136,
   "metadata": {},
   "outputs": [
    {
     "data": {
      "text/plain": [
       "[('products_history',), ('sqlite_sequence',)]"
      ]
     },
     "execution_count": 136,
     "metadata": {},
     "output_type": "execute_result"
    }
   ],
   "source": [
    "cursor.execute('''\n",
    "SELECT name FROM sqlite_master WHERE type='table';\n",
    "''')\n",
    "cursor.fetchall()"
   ]
  },
  {
   "cell_type": "markdown",
   "metadata": {},
   "source": [
    "Все задания на 28.04.2023\n",
    "\n",
    "1. Дать псевдоним столбцу 'price_sale' и вывести цену 2 товаров из таблицы\n",
    "2. Вывести 5 названий шоколадок с ценой до 120 рублей\n",
    "3. Вывести максимальную стоимость шоколадки\n",
    "4. Вывести 3 названия шоколадок и цен на них, отфильтрованных по убыванию по цене\n",
    "5. Вывести названия шоколадок, у которых повторяющиеся цены - 5 шт\n",
    "\n",
    "6. вывести среднюю стоимость товаров типа виски\n",
    "7. вывести товары совпадающие по типу\n",
    "8. вывести товары весом меньше 50г\n",
    "9. упорядочить товары по цене\n",
    "10. вывести 5 самых дорогих и самых дешевых товара\n",
    "\n",
    "11. Выбрать 50 товаров, цена которых больше 50'000 и отсортировать по убыванию по цене.\n",
    "12. Изменить все названия в которых есть слово \"Вино\" в столбце \"title\" на \"Винишко\".\n",
    "13. Посчитать сумму стоимости товаров с id от 2877 до 2922.\n",
    "14. Добавить столбец \"Количество товаров в магазине\".\n",
    "15. Посчитать количество товаров в названиях которых есть \"Лыжный комплект\" и \"Игрушка для собак\".\n",
    "\n",
    "16. вывести названия товаров в которые содержат слова молоко и стоимостью больше 50 рублей\n",
    "17. посчитать общее количество товарных позиций\n",
    "18. посчитать количество товаров когда товаром является молоко размером 1 литр\n",
    "19. посчитать среднюю стоимость литрового пакет молока\n",
    "20. в одном запросе вывести среднюю стоимость для пакетов молока 1 литр 950 и 900 миллилитров\n",
    "\n",
    "21. Найти сколько раз встречается в таблице записи с одинаковым названием и ценой (т.е. GROUP BY title, price_sale).\n",
    "22. Найти максимальную и минимальную дату появления товара в таблице\n",
    "23. Найти количество товаров и их среднюю стоимость (округленную до двух знаков после запятой) появившихся в таблице в перод с 13 часов 7-го декабря 2022, до 10 декабря 2022 (не включая его)\n",
    "24. В одном запросе вывести количество строк с условием: \n",
    "    если длина title больше 20 символов вывести \"много букв\";\n",
    "    если длина title больше 10 символов, но меньше 20, вывести \"норм\";\n",
    "    в любом другом случае вывести \"мало букв\";\n",
    "    Пример финального вывода: [('Норм', 1111), ('мало букв', 2222), ('много букв', 3333)]\n",
    "25. В sql решить пример (100+99)/2 + (95-5)/3. Потом этот пример решить на калькуляторе или в excel и сравнить результаты. Внести изменения в sql, чтобы ответы сходились (если потребуется)\n",
    "\n",
    "26. Вывести не более 50 записей для товаров, цена которых не больше чем цена товара, пятого по дешевизне\n",
    "27. Вывести название и среднюю цену всех товаров, у которых со временем цена менялась.\n",
    "28. Вывести среднюю цену соленых огурцов за 6 декабря\n",
    "29. Вывести название и среднюю цену всех товаров, у которых со временем цена изменилась.\n",
    "30. Заменить во всей таблице в названии товара слово \"вино\" на \"винишко\" (а \"Вино\" на \"Винишко\", чтобы красиво было)."
   ]
  },
  {
   "cell_type": "code",
   "execution_count": 42,
   "metadata": {},
   "outputs": [
    {
     "data": {
      "text/plain": [
       "[(2817.99,), (4300.99,)]"
      ]
     },
     "execution_count": 42,
     "metadata": {},
     "output_type": "execute_result"
    }
   ],
   "source": [
    "# 1. Дать псевдоним столбцу 'price_sale' и вывести цену 2 товаров из таблицы\n",
    "cursor.execute('''\n",
    "SELECT price_sale as price \n",
    "FROM products_history \n",
    "LIMIT 2\n",
    "''')\n",
    "cursor.fetchall()"
   ]
  },
  {
   "cell_type": "code",
   "execution_count": 44,
   "metadata": {},
   "outputs": [
    {
     "data": {
      "text/plain": [
       "[('Шоколад молочный «Конфил» Аксинья, 100 г',),\n",
       " ('Шоколад молочный «Конфил» Аксинья, 100 г',),\n",
       " ('Шоколад «Чемпион вкуса» медаль молочный, 45 г',),\n",
       " ('Шоколад молочный «Конфил» Аксинья, 100 г',),\n",
       " ('Шоколад молочный «Конфил» Аксинья, 100 г',)]"
      ]
     },
     "execution_count": 44,
     "metadata": {},
     "output_type": "execute_result"
    }
   ],
   "source": [
    "# 2. Вывести 5 названий шоколадок с ценой до 120 рублей\n",
    "cursor.execute('''\n",
    "SELECT title \n",
    "FROM products_history \n",
    "WHERE title like 'Шоколад%' \n",
    "        AND price_sale < 120 \n",
    "LIMIT 5\n",
    "''')\n",
    "cursor.fetchall()"
   ]
  },
  {
   "cell_type": "code",
   "execution_count": 6,
   "metadata": {},
   "outputs": [
    {
     "data": {
      "text/plain": [
       "[('Шоколад АШАН Красная птица Темный с цукатами апельсина, вес', 1149.99)]"
      ]
     },
     "execution_count": 6,
     "metadata": {},
     "output_type": "execute_result"
    }
   ],
   "source": [
    "# 3. Вывести максимальную стоимость шоколадки\n",
    "cursor.execute('''\n",
    "SELECT title, max(price_sale)\n",
    "FROM products_history \n",
    "WHERE title like 'Шоколад%' \n",
    "LIMIT 5\n",
    "''')\n",
    "cursor.fetchall()"
   ]
  },
  {
   "cell_type": "code",
   "execution_count": 7,
   "metadata": {},
   "outputs": [
    {
     "data": {
      "text/plain": [
       "[('Шоколад АШАН Красная птица Темный с цукатами апельсина, вес', 1149.99),\n",
       " ('Шоколад Sole темный 73% с агавой, 100 г', 455.99),\n",
       " ('Шоколадные конфеты «Конфил» Отражение кокосик, вес', 427.99)]"
      ]
     },
     "execution_count": 7,
     "metadata": {},
     "output_type": "execute_result"
    }
   ],
   "source": [
    "# 4. Вывести 3 названия шоколадок и цен на них, отфильтрованных по убыванию по цене\n",
    "cursor.execute('''\n",
    "SELECT title, price_sale\n",
    "FROM products_history \n",
    "WHERE title like 'Шоколад%' \n",
    "ORDER BY price_sale DESC\n",
    "LIMIT 3\n",
    "''')\n",
    "cursor.fetchall()"
   ]
  },
  {
   "cell_type": "code",
   "execution_count": 12,
   "metadata": {},
   "outputs": [
    {
     "data": {
      "text/plain": [
       "[('Шоколадные конфеты «Конфил» Отражение кокосик, вес', 427.99, 2),\n",
       " ('Шоколад темный АШАН Красная птица с апельсином, 400 г', 399.99, 3),\n",
       " ('Шоколад Танчик, 70 г', 363.99, 4),\n",
       " ('Шоколад темный Anthon Berg Cointreau с начинкой из карамели и ликера, 90 г',\n",
       "  349,\n",
       "  3),\n",
       " ('Шоколад Royal Forest Кокосовый гречишный, 50 г', 344.99, 10)]"
      ]
     },
     "execution_count": 12,
     "metadata": {},
     "output_type": "execute_result"
    }
   ],
   "source": [
    "# 5. Вывести названия шоколадок, у которых повторяющиеся цены - 5 шт\n",
    "cursor.execute('''\n",
    "SELECT title, price_sale, COUNT(1) as repeated\n",
    "FROM products_history \n",
    "WHERE title like 'Шоколад%' \n",
    "GROUP BY price_sale\n",
    "HAVING COUNT(1) > 1\n",
    "ORDER BY price_sale DESC\n",
    "LIMIT 5\n",
    "''')\n",
    "cursor.fetchall()"
   ]
  },
  {
   "cell_type": "code",
   "execution_count": 13,
   "metadata": {},
   "outputs": [
    {
     "data": {
      "text/plain": [
       "[(4032.8173218830866,)]"
      ]
     },
     "execution_count": 13,
     "metadata": {},
     "output_type": "execute_result"
    }
   ],
   "source": [
    "# 6. вывести среднюю стоимость товаров типа виски\n",
    "cursor.execute('''\n",
    "SELECT AVG(price_sale)\n",
    "FROM products_history \n",
    "WHERE title like 'Виски%' \n",
    "''')\n",
    "cursor.fetchall()"
   ]
  },
  {
   "cell_type": "code",
   "execution_count": 18,
   "metadata": {},
   "outputs": [
    {
     "data": {
      "text/plain": [
       "[(7172,\n",
       "  '2022-12-06 15:38:37.435727',\n",
       "  '#Топ-рецепты say7, Скрипкина А.Ю.',\n",
       "  538.99,\n",
       "  'https://www.auchan.ru/product/top-recepty-say7-skripkina-a-yu',\n",
       "  2),\n",
       " (5223,\n",
       "  '2022-12-06 15:37:49.949493',\n",
       "  '100 любимых стихов и 100 любимых сказок для малышей',\n",
       "  444.91,\n",
       "  'https://www.auchan.ru/product/100-lyubimyh-stihov-i-100-lyubimyh-skazok-dlya-malyshey',\n",
       "  17),\n",
       " (551264,\n",
       "  '2022-12-12 01:12:42.478960',\n",
       "  '13 карт и Земля Королей. Фанфики. Избранное, Нечитайло Ф.',\n",
       "  1195.99,\n",
       "  'https://www.auchan.ru/product/kn-13-kart-zemlya-korol-fanfiki',\n",
       "  4),\n",
       " (395793,\n",
       "  '2022-12-10 00:36:39.015030',\n",
       "  '4а зарядное устройство',\n",
       "  1290.95,\n",
       "  'https://www.auchan.ru/product/4a-zaryadnoe-ustroystvo',\n",
       "  3),\n",
       " (74647,\n",
       "  '2022-12-07 00:15:02.883064',\n",
       "  '50 любимых потешек',\n",
       "  166.99,\n",
       "  'https://www.auchan.ru/product/kn-50-lyubimyh-poteshek',\n",
       "  19)]"
      ]
     },
     "execution_count": 18,
     "metadata": {},
     "output_type": "execute_result"
    }
   ],
   "source": [
    "# 7. вывести товары совпадающие по типу\n",
    "cursor.execute('''\n",
    "SELECT * , COUNT(1) as repeated\n",
    "FROM products_history \n",
    "GROUP BY title\n",
    "HAVING COUNT(1) > 1\n",
    "LIMIT 5\n",
    "''')\n",
    "cursor.fetchall()"
   ]
  },
  {
   "cell_type": "code",
   "execution_count": 55,
   "metadata": {},
   "outputs": [
    {
     "data": {
      "text/plain": [
       "[(0, '. 30'),\n",
       " (0, '0.5'),\n",
       " (0, 'х110'),\n",
       " (500, '500'),\n",
       " (0, '. 50'),\n",
       " (0, '0.05'),\n",
       " (0, 'х110'),\n",
       " (500, '500'),\n",
       " (500, '500'),\n",
       " (400, '400')]"
      ]
     },
     "execution_count": 55,
     "metadata": {},
     "output_type": "execute_result"
    }
   ],
   "source": [
    "# 8. вывести товары весом меньше 50г\n",
    "cursor.execute('''\n",
    "SELECT cast(replace(trim(SUBSTR(SUBSTR(title, -6), 0, 5)), \",\", \".\") as  int), replace(trim(SUBSTR(SUBSTR(title, -6), 0, 5)), \",\", \".\")\n",
    "FROM products_history \n",
    "WHERE title like '%, % г'\n",
    "LIMIT 10\n",
    "''')\n",
    "cursor.fetchall()"
   ]
  },
  {
   "cell_type": "code",
   "execution_count": 48,
   "metadata": {},
   "outputs": [
    {
     "data": {
      "text/plain": [
       "[(11674,\n",
       "  '2022-12-06 15:40:29.293773',\n",
       "  'Обложка «Пластэк-XXI век», 212х350 мм (мин. 10 шт.)',\n",
       "  0.95,\n",
       "  'https://www.auchan.ru/product/oblozhka-plastek-xxi-vek-212h350-mm'),\n",
       " (21272,\n",
       "  '2022-12-06 16:39:17.307964',\n",
       "  'Обложка «Пластэк-XXI век», 212х350 мм (мин. 10 шт.)',\n",
       "  0.95,\n",
       "  'https://www.auchan.ru/product/oblozhka-plastek-xxi-vek-212h350-mm'),\n",
       " (304559,\n",
       "  '2022-12-09 00:04:10.317129',\n",
       "  'Семена Морковь «Удачные семена» Королева осени, 2 г',\n",
       "  0.95,\n",
       "  'https://www.auchan.ru/product/semena-morkov-udachnye-semena-koroleva-oseni-2-g'),\n",
       " (5802,\n",
       "  '2022-12-06 15:38:03.958477',\n",
       "  'Календарь 2022 «Атберг98» Государственная символика квартальный',\n",
       "  1,\n",
       "  'https://www.auchan.ru/product/k-r-2022-3bl-kvart-gos-simv'),\n",
       " (15402,\n",
       "  '2022-12-06 16:36:53.390825',\n",
       "  'Календарь 2022 «Атберг98» Государственная символика квартальный',\n",
       "  1,\n",
       "  'https://www.auchan.ru/product/k-r-2022-3bl-kvart-gos-simv')]"
      ]
     },
     "execution_count": 48,
     "metadata": {},
     "output_type": "execute_result"
    }
   ],
   "source": [
    "# 9. упорядочить товары по цене\n",
    "cursor.execute('''\n",
    "SELECT *\n",
    "FROM products_history \n",
    "ORDER BY price_sale\n",
    "LIMIT 5\n",
    "''')\n",
    "cursor.fetchall()"
   ]
  },
  {
   "cell_type": "code",
   "execution_count": 50,
   "metadata": {},
   "outputs": [
    {
     "data": {
      "text/plain": [
       "[('Обложка «Пластэк-XXI век», 212х350 мм (мин. 10 шт.)', 0.95),\n",
       " ('Обложка «Пластэк-XXI век», 212х350 мм (мин. 10 шт.)', 0.95),\n",
       " ('Семена Морковь «Удачные семена» Королева осени, 2 г', 0.95),\n",
       " ('Календарь 2022 «Атберг98» Государственная символика квартальный', 1),\n",
       " ('Календарь 2022 «Атберг98» Государственная символика квартальный', 1),\n",
       " ('Холодильник Ascoli ACDG571WE', 79999.99),\n",
       " ('Холодильник Ascoli ACDG571WE', 79999.99),\n",
       " ('Холодильник Ascoli ACDG571WE', 79999.99),\n",
       " ('Холодильник Ascoli ACDG571WE', 79999.99),\n",
       " ('Холодильник Ascoli ACDG571WE', 79999.99)]"
      ]
     },
     "execution_count": 50,
     "metadata": {},
     "output_type": "execute_result"
    }
   ],
   "source": [
    "# 10. вывести 5 самых дорогих и самых дешевых товара\n",
    "cursor.execute('''\n",
    "SELECT * FROM (\n",
    "        SELECT title, price_sale\n",
    "        FROM products_history \n",
    "        ORDER BY price_sale\n",
    "        LIMIT 5\n",
    "        ) as min_price\n",
    "UNION ALL\n",
    "SELECT * FROM (\n",
    "        SELECT title, price_sale\n",
    "        FROM products_history \n",
    "        ORDER BY price_sale DESC\n",
    "        LIMIT 5\n",
    "        ) as max_price\n",
    "''')\n",
    "cursor.fetchall()"
   ]
  },
  {
   "cell_type": "code",
   "execution_count": 52,
   "metadata": {},
   "outputs": [
    {
     "data": {
      "text/plain": [
       "[('Холодильник Ascoli ACDG571WE', 79999.99),\n",
       " ('Холодильник Ascoli ACDG571WE', 79999.99),\n",
       " ('Холодильник Ascoli ACDG571WE', 79999.99),\n",
       " ('Холодильник Ascoli ACDG571WE', 79999.99),\n",
       " ('Холодильник Ascoli ACDG571WE', 79999.99),\n",
       " ('Холодильник Ascoli ACDG571WE', 79999.99),\n",
       " ('Холодильник Ascoli ACDG571WE', 79999.99),\n",
       " ('Холодильник Ascoli ACDG571WE', 79999.99),\n",
       " ('Холодильник Ascoli ACDG571WE', 79999.99),\n",
       " ('Холодильник Ascoli ACDG571WE', 79999.99),\n",
       " ('Холодильник Ascoli ADRFY460DWE', 78999.99),\n",
       " ('Холодильник Ascoli ADRFW460DWE', 75999.99),\n",
       " ('Холодильник Ascoli ADRFW460DWE', 75999.99),\n",
       " ('Холодильник Ascoli ADRFW460DWE', 75999.99),\n",
       " ('Холодильник Ascoli ADRFW460DWE', 75999.99),\n",
       " ('Холодильник Ascoli ADRFW460DWE', 75999.99),\n",
       " ('Игровая консоль PLAYSTATION 5 CFI-1100A с приводом', 69999),\n",
       " ('Игровая консоль PLAYSTATION 5 CFI-1100A с приводом', 69999),\n",
       " ('Игровая консоль PLAYSTATION 5 CFI-1100A с приводом', 69999),\n",
       " ('Игровая консоль PLAYSTATION 5 CFI-1100A с приводом', 69999),\n",
       " ('Игровая консоль PLAYSTATION 5 CFI-1100A с приводом', 69999),\n",
       " ('Игровая консоль PLAYSTATION 5 CFI-1100A с приводом', 69999),\n",
       " ('Игровая консоль PLAYSTATION 5 CFI-1100A с приводом', 69999),\n",
       " ('Игровая консоль PLAYSTATION 5 CFI-1100A с приводом', 69999),\n",
       " ('Игровая консоль PLAYSTATION 5 CFI-1100A с приводом', 69999),\n",
       " ('Игровая консоль PLAYSTATION 5 CFI-1100A с приводом', 69999),\n",
       " ('Игровая консоль PLAYSTATION 5 CFI-1100A с приводом', 69999),\n",
       " ('Игровая консоль PLAYSTATION 5 CFI-1100A с приводом', 69999),\n",
       " ('Игровая консоль PLAYSTATION 5 CFI-1100A с приводом', 69999),\n",
       " ('Игровая консоль PLAYSTATION 5 CFI-1100A с приводом', 69999),\n",
       " ('Игровая консоль PLAYSTATION 5 CFI-1100A с приводом', 69999),\n",
       " ('Игровая консоль PLAYSTATION 5 CFI-1100A с приводом', 69999),\n",
       " ('Игровая консоль PLAYSTATION 5 CFI-1100A с приводом', 69999),\n",
       " ('Игровая консоль PLAYSTATION 5 CFI-1100A с приводом', 69999),\n",
       " ('Игровая консоль PLAYSTATION 5 CFI-1100A с приводом', 69999),\n",
       " ('Игровая консоль PLAYSTATION 5 CFI-1100A с приводом', 69999),\n",
       " ('Игровая консоль PLAYSTATION 5 CFI-1100A с приводом', 69999),\n",
       " ('Игровая консоль PLAYSTATION 5 CFI-1100A с приводом', 69999),\n",
       " ('Игровая консоль PLAYSTATION 5 CFI-1100A с приводом', 69999),\n",
       " ('Игровая консоль PLAYSTATION 5 CFI-1100A с приводом', 69999),\n",
       " ('Игровая консоль PLAYSTATION 5 CFI-1100A с приводом', 69999),\n",
       " ('Игровая консоль PLAYSTATION 5 CFI-1100A с приводом', 69999),\n",
       " ('Игровая консоль PLAYSTATION 5 CFI-1100A с приводом', 69999),\n",
       " ('Игровая консоль PLAYSTATION 5 CFI-1100A с приводом', 69999),\n",
       " ('Игровая консоль PLAYSTATION 5 CFI-1100A с приводом', 69999),\n",
       " ('Игровая консоль PLAYSTATION 5 CFI-1100A с приводом', 69999),\n",
       " ('Игровая консоль PLAYSTATION 5 CFI-1100A с приводом', 69999),\n",
       " ('Игровая консоль PLAYSTATION 5 CFI-1100A с приводом', 69999),\n",
       " ('Игровая консоль PLAYSTATION 5 CFI-1100A с приводом', 69999),\n",
       " ('Игровая консоль PLAYSTATION 5 CFI-1100A с приводом', 69999)]"
      ]
     },
     "execution_count": 52,
     "metadata": {},
     "output_type": "execute_result"
    }
   ],
   "source": [
    "# 11. Выбрать 50 товаров, цена которых больше 50'000 и отсортировать по убыванию по цене.\n",
    "cursor.execute('''\n",
    "\n",
    "SELECT title, price_sale\n",
    "FROM products_history \n",
    "WHERE price_sale > 50000\n",
    "ORDER BY price_sale DESC\n",
    "LIMIT 50\n",
    "\n",
    "''')\n",
    "cursor.fetchall()"
   ]
  },
  {
   "cell_type": "code",
   "execution_count": 58,
   "metadata": {},
   "outputs": [
    {
     "data": {
      "text/plain": [
       "[]"
      ]
     },
     "execution_count": 58,
     "metadata": {},
     "output_type": "execute_result"
    }
   ],
   "source": [
    "# 12. Изменить все названия в которых есть слово \"Вино\" в столбце \"title\" на \"Винишко\".\n",
    "cursor.execute('''\n",
    "UPDATE products_history SET title = 'Винишко'\n",
    "WHERE title like 'Вино%'\n",
    "''')\n",
    "cursor.fetchall()"
   ]
  },
  {
   "cell_type": "code",
   "execution_count": 63,
   "metadata": {},
   "outputs": [
    {
     "data": {
      "text/plain": [
       "[(118996.5,)]"
      ]
     },
     "execution_count": 63,
     "metadata": {},
     "output_type": "execute_result"
    }
   ],
   "source": [
    "# 13. Посчитать сумму стоимости товаров с id от 2877 до 2922.\n",
    "cursor.execute('''\n",
    "SELECT ROUND(SUM(price_sale), 1)\n",
    "FROM products_history\n",
    "WHERE id >= 2877 AND id < 2922\n",
    "''')\n",
    "cursor.fetchall()"
   ]
  },
  {
   "cell_type": "code",
   "execution_count": 64,
   "metadata": {},
   "outputs": [
    {
     "data": {
      "text/plain": [
       "[]"
      ]
     },
     "execution_count": 64,
     "metadata": {},
     "output_type": "execute_result"
    }
   ],
   "source": [
    "# 14. Добавить столбец \"Количество товаров в магазине\".\n",
    "cursor.execute('''\n",
    "ALTER TABLE products_history \n",
    "ADD COLUMN 'count_products_in_shop' integer''') \n",
    "cursor.fetchall()"
   ]
  },
  {
   "cell_type": "code",
   "execution_count": 65,
   "metadata": {},
   "outputs": [
    {
     "data": {
      "text/plain": [
       "[(668,)]"
      ]
     },
     "execution_count": 65,
     "metadata": {},
     "output_type": "execute_result"
    }
   ],
   "source": [
    "# 15. Посчитать количество товаров в названиях которых есть \"Лыжный комплект\" и \"Игрушка для собак\".\n",
    "cursor.execute('''\n",
    "SELECT COUNT(1)\n",
    "FROM products_history\n",
    "WHERE title like 'Лыжный комплект%' or title like 'Игрушка для собак%'\n",
    "''')\n",
    "cursor.fetchall()"
   ]
  },
  {
   "cell_type": "code",
   "execution_count": 57,
   "metadata": {},
   "outputs": [
    {
     "data": {
      "text/plain": [
       "[('Сыр мягкий «Томское Молоко» Чечил бочонок 45%, 130 г',),\n",
       " ('Молоко соевое «Эко Крым, детка!» с ванилью, 750 мл',),\n",
       " ('Молоко питьевое «Очень важная корова» ультрапастеризованное 1,5%, 1 л',),\n",
       " ('Молоко питьевое «Сегодня и Всегда» ультрапастеризованное 2,5%, 950 мл',),\n",
       " ('Молоко «Даренка» ультрапастеризованное 2,5%, 900 мл',),\n",
       " ('Молоко соевое «Эко Крым, детка!» с ванилью, 750 мл',),\n",
       " ('Молоко соевое «Эко Крым, детка!» с ванилью, 750 мл',),\n",
       " ('Молоко питьевое «Молочная крепость» ультрапастеризованное 3,2%, 900 мл',),\n",
       " ('Молоко соевое «Эко Крым, детка!» с ванилью, 750 мл',),\n",
       " ('Молоко питьевое «Очень важная корова» ультрапастеризованное 1,5%, 1 л',)]"
      ]
     },
     "execution_count": 57,
     "metadata": {},
     "output_type": "execute_result"
    }
   ],
   "source": [
    "# 16. вывести названия товаров в которые содержат слова молоко и стоимостью больше 50 рублей\n",
    "cursor.execute('''\n",
    "SELECT title\n",
    "FROM products_history\n",
    "WHERE title like '%Молоко%' AND price_sale > 50\n",
    "LIMIT 10\n",
    "''')\n",
    "cursor.fetchall()"
   ]
  },
  {
   "cell_type": "code",
   "execution_count": 67,
   "metadata": {},
   "outputs": [
    {
     "data": {
      "text/plain": [
       "[(100000,)]"
      ]
     },
     "execution_count": 67,
     "metadata": {},
     "output_type": "execute_result"
    }
   ],
   "source": [
    "# 17. посчитать общее количество товарных позиций\n",
    "cursor.execute('''\n",
    "SELECT COUNT(1)\n",
    "FROM products_history\n",
    "''')\n",
    "cursor.fetchall()"
   ]
  },
  {
   "cell_type": "code",
   "execution_count": 71,
   "metadata": {},
   "outputs": [
    {
     "data": {
      "text/plain": [
       "[(77,)]"
      ]
     },
     "execution_count": 71,
     "metadata": {},
     "output_type": "execute_result"
    }
   ],
   "source": [
    "# 18. посчитать количество товаров когда товаром является молоко размером 1 литр\n",
    "cursor.execute('''\n",
    "SELECT COUNT(1)\n",
    "FROM products_history\n",
    "WHERE title like 'Молоко%1 л%'\n",
    "''')\n",
    "cursor.fetchall()"
   ]
  },
  {
   "cell_type": "code",
   "execution_count": 73,
   "metadata": {},
   "outputs": [
    {
     "data": {
      "text/plain": [
       "[(89.1,)]"
      ]
     },
     "execution_count": 73,
     "metadata": {},
     "output_type": "execute_result"
    }
   ],
   "source": [
    "# 19. посчитать среднюю стоимость литрового пакет молока\n",
    "cursor.execute('''\n",
    "SELECT ROUND(AVG(price_sale), 1)\n",
    "FROM products_history\n",
    "WHERE title like 'Молоко%1 л%'\n",
    "''')\n",
    "cursor.fetchall()"
   ]
  },
  {
   "cell_type": "code",
   "execution_count": 92,
   "metadata": {},
   "outputs": [
    {
     "data": {
      "text/plain": [
       "[(89.11142857142846, 97.23624999999998, 78.20428571428559)]"
      ]
     },
     "execution_count": 92,
     "metadata": {},
     "output_type": "execute_result"
    }
   ],
   "source": [
    "# 20. в одном запросе вывести среднюю стоимость для пакетов молока 1 литр 950 и 900 миллилитров\n",
    "cursor.execute('''\n",
    "SELECT (\n",
    "            SELECT AVG(price_sale)\n",
    "            FROM products_history\n",
    "            where title like 'Молоко%1 л%'\n",
    "        ) AS avg_milk_1,\n",
    "        (\n",
    "            SELECT AVG(price_sale)\n",
    "            FROM products_history\n",
    "            where title like 'Молоко%950%'\n",
    "        ) AS avg_milk_950,\n",
    "        (\n",
    "            SELECT AVG(price_sale)\n",
    "            FROM products_history\n",
    "            where title like 'Молоко%900%'\n",
    "        ) AS avg_milk_900\n",
    "''')\n",
    "cursor.fetchall()"
   ]
  },
  {
   "cell_type": "code",
   "execution_count": 101,
   "metadata": {},
   "outputs": [
    {
     "data": {
      "text/plain": [
       "[(418,)]"
      ]
     },
     "execution_count": 101,
     "metadata": {},
     "output_type": "execute_result"
    }
   ],
   "source": [
    "# 21. Найти какое максимальное количество раз встречается в таблице записи с одинаковым названием и ценой (т.е. GROUP BY title, price_sale).\n",
    "cursor.execute('''\n",
    "SELECT max(cnt) \n",
    "FROM (\n",
    "        SELECT title, price_sale, COUNT(1) as cnt\n",
    "        FROM products_history\n",
    "        GROUP BY title, price_sale\n",
    "        HAVING COUNT(1) > 1\n",
    "        )\n",
    "''')\n",
    "cursor.fetchall()"
   ]
  },
  {
   "cell_type": "code",
   "execution_count": 58,
   "metadata": {},
   "outputs": [
    {
     "data": {
      "text/plain": [
       "[('#Топ-рецепты say7, Скрипкина А.Ю.',\n",
       "  '2022-12-06 15:38:37.435727',\n",
       "  '2022-12-06 16:37:26.897597'),\n",
       " ('100 головоломок для малышей. Супер точки от 10 до 50, Дмитриева В.Г.',\n",
       "  '2022-12-09 00:03:44.611747',\n",
       "  '2022-12-09 00:03:44.611747'),\n",
       " ('100 любимых стихов и 100 любимых сказок для малышей',\n",
       "  '2022-12-06 15:37:49.949493',\n",
       "  '2022-12-14 00:46:42.603422'),\n",
       " ('1100 православных монастырей Российской империи…, Денисов Л.',\n",
       "  '2022-12-13 01:12:18.983882',\n",
       "  '2022-12-13 01:12:18.983882'),\n",
       " ('13 карт и Земля Королей. Фанфики. Избранное, Нечитайло Ф.',\n",
       "  '2022-12-12 01:12:42.478960',\n",
       "  '2022-12-12 01:14:30.810347'),\n",
       " ('4а зарядное устройство',\n",
       "  '2022-12-10 00:36:39.015030',\n",
       "  '2022-12-12 01:15:51.643407'),\n",
       " ('50 любимых потешек',\n",
       "  '2022-12-07 00:15:02.883064',\n",
       "  '2022-12-14 00:46:55.282081'),\n",
       " ('BBQ с копченой паприкой «Царская приправа» мельница, 47 г',\n",
       "  '2022-12-06 16:38:40.707371',\n",
       "  '2022-12-07 07:35:49.899176'),\n",
       " ('BECK. Восточная Ударная Группа. Книга 1, Сакуиси Х.',\n",
       "  '2022-12-12 01:13:44.384372',\n",
       "  '2022-12-12 01:13:44.384372'),\n",
       " ('Bluetooth-гарнитура Xiaomi Mi Bluetooth Headset Basic черная',\n",
       "  '2022-12-08 01:08:54.655422',\n",
       "  '2022-12-14 00:46:44.059645')]"
      ]
     },
     "execution_count": 58,
     "metadata": {},
     "output_type": "execute_result"
    }
   ],
   "source": [
    "# 22. Найти максимальную и минимальную дату появления товара в таблице\n",
    "cursor.execute('''\n",
    "SELECT title, min(datetime_create), max(datetime_create)\n",
    "FROM products_history\n",
    "GROUP BY title\n",
    "LIMIT 10\n",
    "''')\n",
    "cursor.fetchall()"
   ]
  },
  {
   "cell_type": "code",
   "execution_count": 60,
   "metadata": {},
   "outputs": [
    {
     "data": {
      "text/plain": [
       "[('100 головоломок для малышей. Супер точки от 10 до 50, Дмитриева В.Г.',\n",
       "  1,\n",
       "  162.99),\n",
       " ('100 любимых стихов и 100 любимых сказок для малышей', 3, 473.63),\n",
       " ('50 любимых потешек', 4, 166.99),\n",
       " ('Bluetooth-гарнитура Xiaomi Mi Bluetooth Headset Basic черная', 1, 599.0),\n",
       " ('Bluetooth-колонка Perfeo STAND черная', 1, 1299.99),\n",
       " ('Cosme station гель для душа с экстрактом лимона и мяты, 500 мл', 2, 380.97),\n",
       " ('Cosme station гель для душа с экстрактом манго и коллагeном, 500 мл',\n",
       "  1,\n",
       "  511.99),\n",
       " ('Cидр Lilleys Cider Rhubarb яблочный сладкий со вкусом ревеня 4,0%, 500 мл',\n",
       "  1,\n",
       "  169.95),\n",
       " ('Cтакан для виски Аrtcraft Адора золотистый, 275 мл', 1, 167.99),\n",
       " ('Cуфле «Бон Пари» со вкусом фруктов, 90 г', 1, 129.95)]"
      ]
     },
     "execution_count": 60,
     "metadata": {},
     "output_type": "execute_result"
    }
   ],
   "source": [
    "# 23. Найти количество товаров и их среднюю стоимость (округленную до двух знаков после запятой) появившихся в таблице в перод с 13 часов 7-го декабря 2022, до 10 декабря 2022 (не включая его)\n",
    "cursor.execute('''\n",
    "SELECT title, count(1), round(avg(price_sale), 2)\n",
    "FROM products_history\n",
    "WHERE datetime_create > '2022-12-07 13:00' and datetime_create < '2022-12-10 00:00' \n",
    "GROUP BY title\n",
    "LIMIT 10\n",
    "''')\n",
    "cursor.fetchall()"
   ]
  },
  {
   "cell_type": "code",
   "execution_count": 114,
   "metadata": {},
   "outputs": [
    {
     "data": {
      "text/plain": [
       "[('Норм', 1152), ('мало букв', 4672), ('много букв', 94176)]"
      ]
     },
     "execution_count": 114,
     "metadata": {},
     "output_type": "execute_result"
    }
   ],
   "source": [
    "# 24. В одном запросе вывести количество строк с условием: \n",
    "# если длина title больше 20 символов вывести \"много букв\";\n",
    "# если длина title больше 10 символов, но меньше 20, вывести \"норм\";\n",
    "# в любом другом случае вывести \"мало букв\";\n",
    "# Поля вывода:\n",
    "#     \"много букв\" (или другое), количество таких записей\n",
    "# Пример финального вывода: [('Норм', 1111), ('мало букв', 2222), ('много букв', 3333)]\n",
    "\n",
    "cursor.execute('''\n",
    "SELECT CASE\n",
    "        WHEN LENGTH(title) > 20 THEN 'много букв'\n",
    "        WHEN LENGTH(title) > 10 THEN 'Норм'\n",
    "        ELSE 'мало букв' \n",
    "        END as how_char, \n",
    "        COUNT(1)\n",
    "FROM products_history\n",
    "GROUP BY how_char\n",
    "''')\n",
    "cursor.fetchall()"
   ]
  },
  {
   "cell_type": "code",
   "execution_count": 2,
   "metadata": {},
   "outputs": [
    {
     "data": {
      "text/plain": [
       "[(129, 129.5)]"
      ]
     },
     "execution_count": 2,
     "metadata": {},
     "output_type": "execute_result"
    }
   ],
   "source": [
    "# 25. В sql решить пример (100+99)/2 + (95-5)/3. Потом этот пример решить на калькуляторе или в excel и сравнить результаты. Внести изменения в sql, чтобы ответы сходились (если потребуется)\n",
    "cursor.execute('''\n",
    "SELECT (100+99)/2 + (95-5)/3, (100+99)/2.0 + (95-5)/3\n",
    "''')\n",
    "cursor.fetchall()"
   ]
  },
  {
   "cell_type": "markdown",
   "metadata": {},
   "source": [
    "26. Вывести не более 50 записей для товаров, цена которых не больше чем цена товара, пятого по дешевизне\n",
    "27. Вывести название и среднюю цену всех товаров, у которых со временем цена менялась.\n",
    "28. Вывести среднюю цену соленых огурцов за 6 декабря\n",
    "29. Вывести название и среднюю цену всех товаров, у которых со временем цена изменилась.\n",
    "30. Заменить во всей таблице в названии товара слово \"вино\" на \"винишко\" (а \"Вино\" на \"Винишко\", чтобы красиво было)."
   ]
  },
  {
   "cell_type": "code",
   "execution_count": 22,
   "metadata": {},
   "outputs": [
    {
     "data": {
      "text/plain": [
       "[('Календарь 2022 «Атберг98» Государственная символика квартальный', 1),\n",
       " ('Обложка «Пластэк-XXI век», 212х350 мм (мин. 10 шт.)', 0.95),\n",
       " ('Календарь 2022 «Атберг98» Государственная символика квартальный', 1),\n",
       " ('Обложка «Пластэк-XXI век», 212х350 мм (мин. 10 шт.)', 0.95),\n",
       " ('Календарь 2022 «Атберг98» Государственная символика квартальный', 1),\n",
       " ('Семена Перец сладкий «Поиск» Белозерка, 0,25 г', 1),\n",
       " ('Календарь 2022 «Атберг98» Государственная символика квартальный', 1),\n",
       " ('Наклейка автомобильная Golden Snail Ребенок, 15х18 см', 1),\n",
       " ('Календарь 2022 «Атберг98» Государственная символика квартальный', 1),\n",
       " ('Семена Морковь «Удачные семена» Королева осени, 2 г', 0.95),\n",
       " ('Календарь 2022 «Атберг98» Государственная символика квартальный', 1),\n",
       " ('Стержень для шариковой ручки АШАН Красная птица синий 0,7 мм', 1),\n",
       " ('Стержень для шариковой ручки АШАН Красная птица синий 0,7 мм', 1)]"
      ]
     },
     "execution_count": 22,
     "metadata": {},
     "output_type": "execute_result"
    }
   ],
   "source": [
    "# 26. Вывести не более 50 записей для товаров, цена которых не больше чем цена товара, пятого по дешевизне\n",
    "cursor.execute('''\n",
    "SELECT title, price_sale\n",
    "FROM products_history \n",
    "WHERE price_sale <= (\n",
    "                SELECT price_sale\n",
    "                FROM products_history\n",
    "                order by price_sale asc\n",
    "                limit 1\n",
    "                offset 4)\n",
    "LIMIT 50\n",
    "''')\n",
    "cursor.fetchall()"
   ]
  },
  {
   "cell_type": "code",
   "execution_count": 61,
   "metadata": {},
   "outputs": [
    {
     "data": {
      "text/plain": [
       "[(2870,\n",
       "  '2022-12-06 15:35:11.590625',\n",
       "  'Игрушка-конструктор COGO Боевой корабль',\n",
       "  2817.99,\n",
       "  'https://www.auchan.ru/product/konstruktor-760-det'),\n",
       " (2871,\n",
       "  '2022-12-06 15:35:11.600272',\n",
       "  'Вино Arzuaga красное сухое Испания, 0,75 л',\n",
       "  4300.99,\n",
       "  'https://www.auchan.ru/product/vin_arzuag_krianca_kr_suh_075'),\n",
       " (2872,\n",
       "  '2022-12-06 15:35:11.609495',\n",
       "  'Лыжный комплект STC NN75 с палками, 180 см',\n",
       "  3090.99,\n",
       "  'https://www.auchan.ru/product/lyzh-kompl-s-palkami-180-nn75'),\n",
       " (2873,\n",
       "  '2022-12-06 15:35:11.619340',\n",
       "  'Лыжный комплект STC NN75 с палками, 205 см',\n",
       "  3390.99,\n",
       "  'https://www.auchan.ru/product/lyzh-kompl-s-palkami-205-nn75'),\n",
       " (2874,\n",
       "  '2022-12-06 15:35:11.671310',\n",
       "  'Средство для купания детское Play&Bath МимиМишки 3 в 1 Шампунь Гель Пена Кола, 200 мл',\n",
       "  241.99,\n",
       "  'https://www.auchan.ru/product/sredstvo-dlya-kupaniya-play-bath-mimimishki-3-v-1-shampun-gel-pena-kola-200-ml'),\n",
       " (2875,\n",
       "  '2022-12-06 15:35:11.679981',\n",
       "  'Сноутьюб V76 оптимальный с сиденьем',\n",
       "  4490.99,\n",
       "  'https://www.auchan.ru/product/snoutyub-optimal-s-sid-diva-2'),\n",
       " (2876,\n",
       "  '2022-12-06 15:35:11.689173',\n",
       "  'Подушка MEMORY ORTO 54Х32 см',\n",
       "  4299.99,\n",
       "  'https://www.auchan.ru/product/podushka-memory-orto-54h32h9-13'),\n",
       " (2877,\n",
       "  '2022-12-06 15:35:11.739773',\n",
       "  'Альбом для рисования Hatber А4, 48 л',\n",
       "  112.99,\n",
       "  'https://www.auchan.ru/product/alb-d-ris-48l-a4-perf-spiral'),\n",
       " (2878,\n",
       "  '2022-12-06 15:35:11.748665',\n",
       "  'Шампунь для кошек «АВЗ» Морской длинношерстных пород с кондиционером и хитозаном, 180 мл',\n",
       "  164.99,\n",
       "  'https://www.auchan.ru/product/shampun-d-k-dl-sherst-180ml-morsk'),\n",
       " (2879,\n",
       "  '2022-12-06 15:35:55.843933',\n",
       "  'Игрушка-конструктор COGO Боевой корабль',\n",
       "  2817.99,\n",
       "  'https://www.auchan.ru/product/konstruktor-760-det')]"
      ]
     },
     "execution_count": 61,
     "metadata": {},
     "output_type": "execute_result"
    }
   ],
   "source": [
    "# 27. Вывести название и среднюю цену всех товаров, у которых со временем цена менялась.\n",
    "cursor.execute('''\n",
    "SELECT * FROM products_history LIMIT 10\n",
    "''')\n",
    "cursor.fetchall()"
   ]
  },
  {
   "cell_type": "code",
   "execution_count": 62,
   "metadata": {},
   "outputs": [
    {
     "data": {
      "text/plain": [
       "[(153.99,)]"
      ]
     },
     "execution_count": 62,
     "metadata": {},
     "output_type": "execute_result"
    }
   ],
   "source": [
    "# 28. Вывести среднюю цену соленых огурцов за 6 декабря\n",
    "cursor.execute('''\n",
    "SELECT AVG(price_sale)\n",
    "FROM products_history\n",
    "WHERE title like '%Огур%сол%' and datetime_create >= '2022-12-06' and datetime_create < '2022-12-07'\n",
    "''')\n",
    "cursor.fetchall()"
   ]
  },
  {
   "cell_type": "code",
   "execution_count": 63,
   "metadata": {},
   "outputs": [
    {
     "data": {
      "text/plain": [
       "[(467.71705882352927, '100 любимых стихов и 100 любимых сказок для малышей'),\n",
       " (119.97666666666667, 'Bullet-блокноты Listoff New Black А5+, 64 л'),\n",
       " (380.97, 'Cosme station гель для душа с экстрактом лимона и мяты, 500 мл'),\n",
       " (315.46,\n",
       "  'Cosme station гель для душа с экстрактом манго и коллагeном, 500 мл'),\n",
       " (838.4484615384619,\n",
       "  'Cтельки вкладные для обуви женские LuckyLand 3925W-IN бежевый, р.39'),\n",
       " (1378.99, 'Cтиральный порошок Persil Color, 8 кг'),\n",
       " (1124.6566666666668,\n",
       "  'Cухой корм для кошек PERFECT FIT для живущих в помещении полнорационный с курицей, 2,5 кг'),\n",
       " (296.3966666666667, 'Cыр полумягкий «Сыроварня Побочино» Качотта 45%, вес'),\n",
       " (168.945,\n",
       "  'Fa Аэрозоль антиперспирант Feel Balance, тонизирующий цветочный аромат, 150 мл'),\n",
       " (401.46, 'Jigott питательный крем для лица c экстрактом хризантемы, 100 мл')]"
      ]
     },
     "execution_count": 63,
     "metadata": {},
     "output_type": "execute_result"
    }
   ],
   "source": [
    "# 29. Вывести название и среднюю цену всех товаров, у которых со временем цена изменилась.\n",
    "cursor.execute('''\n",
    "--найдем товары на конец периода\n",
    "WITH max_date AS ( \n",
    "    SELECT MAX(datetime_create), title, price_sale\n",
    "    FROM products_history \n",
    "    GROUP BY title\n",
    "    ),\n",
    "--найдем товары на начало периода\n",
    "min_date AS ( \n",
    "    SELECT MIN(datetime_create), title, price_sale\n",
    "    FROM products_history \n",
    "    GROUP BY title\n",
    "),\n",
    "--найдем товары у кого цена изменилась\n",
    "goods AS ( \n",
    "    SELECT mx.title\n",
    "    FROM max_date AS mx, min_date AS mn\n",
    "    WHERE mx.title = mn.title AND mx.price_sale != mn.price_sale\n",
    ")\n",
    "SELECT AVG(ph.price_sale), ph.title\n",
    "FROM products_history AS ph, goods AS gs\n",
    "WHERE ph.title = gs.title\n",
    "GROUP BY ph.title\n",
    "LIMIT 10\n",
    "''')\n",
    "cursor.fetchall()\n"
   ]
  },
  {
   "cell_type": "code",
   "execution_count": 41,
   "metadata": {},
   "outputs": [
    {
     "data": {
      "text/plain": [
       "[]"
      ]
     },
     "execution_count": 41,
     "metadata": {},
     "output_type": "execute_result"
    }
   ],
   "source": [
    "# 30. Заменить во всей таблице в названии товара слово \"вино\" на \"винишко\" (а \"Вино\" на \"Винишко\", чтобы красиво было).\n",
    "cursor.execute('''\n",
    "UPDATE products_history SET title = REPLACE(title, 'вино', 'винишко')\n",
    "WHERE title like '% вино %'\n",
    "''')\n",
    "cursor.fetchall()"
   ]
  },
  {
   "cell_type": "code",
   "execution_count": 43,
   "metadata": {},
   "outputs": [
    {
     "data": {
      "text/plain": [
       "[]"
      ]
     },
     "execution_count": 43,
     "metadata": {},
     "output_type": "execute_result"
    }
   ],
   "source": [
    "cursor.execute('''\n",
    "UPDATE products_history SET title = REPLACE(title, 'Вино', 'Винишко')\n",
    "WHERE title like '%Вино%'\n",
    "''')\n",
    "cursor.fetchall()"
   ]
  },
  {
   "cell_type": "code",
   "execution_count": 64,
   "metadata": {},
   "outputs": [
    {
     "data": {
      "text/plain": [
       "[(2871,\n",
       "  '2022-12-06 15:35:11.600272',\n",
       "  'Вино Arzuaga красное сухое Испания, 0,75 л',\n",
       "  4300.99,\n",
       "  'https://www.auchan.ru/product/vin_arzuag_krianca_kr_suh_075'),\n",
       " (2880,\n",
       "  '2022-12-06 15:35:55.853649',\n",
       "  'Вино Arzuaga красное сухое Испания, 0,75 л',\n",
       "  4300.99,\n",
       "  'https://www.auchan.ru/product/vin_arzuag_krianca_kr_suh_075'),\n",
       " (2914,\n",
       "  '2022-12-06 15:35:56.651005',\n",
       "  'Вино «Амфитрион» Каберне Мерло красное сухое Россия, 0,75 л',\n",
       "  498.99,\n",
       "  'https://www.auchan.ru/product/vinozguamfit-kab-mer-suhkr0-75'),\n",
       " (2981,\n",
       "  '2022-12-06 15:35:58.316597',\n",
       "  'Вино Arzuaga красное сухое Испания, 0,75 л',\n",
       "  3870.99,\n",
       "  'https://www.auchan.ru/product/vin_arzuag_krianca_kr_suh_075'),\n",
       " (3002,\n",
       "  '2022-12-06 15:35:58.836446',\n",
       "  'Вино «Амфитрион» Каберне Мерло красное сухое Россия, 0,75 л',\n",
       "  498.99,\n",
       "  'https://www.auchan.ru/product/vinozguamfit-kab-mer-suhkr0-75'),\n",
       " (3080,\n",
       "  '2022-12-06 15:36:57.096574',\n",
       "  'Вино Arzuaga красное сухое Испания, 0,75 л',\n",
       "  4300.99,\n",
       "  'https://www.auchan.ru/product/vin_arzuag_krianca_kr_suh_075'),\n",
       " (3114,\n",
       "  '2022-12-06 15:36:57.923624',\n",
       "  'Вино «Амфитрион» Каберне Мерло красное сухое Россия, 0,75 л',\n",
       "  498.99,\n",
       "  'https://www.auchan.ru/product/vinozguamfit-kab-mer-suhkr0-75'),\n",
       " (3181,\n",
       "  '2022-12-06 15:36:59.578332',\n",
       "  'Вино Arzuaga красное сухое Испания, 0,75 л',\n",
       "  3870.99,\n",
       "  'https://www.auchan.ru/product/vin_arzuag_krianca_kr_suh_075'),\n",
       " (3202,\n",
       "  '2022-12-06 15:37:00.097250',\n",
       "  'Вино «Амфитрион» Каберне Мерло красное сухое Россия, 0,75 л',\n",
       "  498.99,\n",
       "  'https://www.auchan.ru/product/vinozguamfit-kab-mer-suhkr0-75'),\n",
       " (3286,\n",
       "  '2022-12-06 15:37:02.283365',\n",
       "  'Вино Arzuaga красное сухое Испания, 0,75 л',\n",
       "  3870.99,\n",
       "  'https://www.auchan.ru/product/vin_arzuag_krianca_kr_suh_075')]"
      ]
     },
     "execution_count": 64,
     "metadata": {},
     "output_type": "execute_result"
    }
   ],
   "source": [
    "cursor.execute('''\n",
    "select * from  products_history where title like '%Вин%'\n",
    "LIMIT 10\n",
    "''')\n",
    "cursor.fetchall()"
   ]
  },
  {
   "cell_type": "code",
   "execution_count": 47,
   "metadata": {},
   "outputs": [
    {
     "data": {
      "text/plain": [
       "[(290,)]"
      ]
     },
     "execution_count": 47,
     "metadata": {},
     "output_type": "execute_result"
    }
   ],
   "source": [
    "cursor.execute(\"\"\"\n",
    "select count(title)\n",
    "from products_history\n",
    "where (title like \"Молоко %\" or title like \"% молоко\" or title like \"% молоко %\" or title like \"% молоко,%\") and price_sale > 50\n",
    "\"\"\")\n",
    "cursor.fetchall()"
   ]
  }
 ],
 "metadata": {
  "kernelspec": {
   "display_name": "Python 3 (ipykernel)",
   "language": "python",
   "name": "python3"
  },
  "language_info": {
   "codemirror_mode": {
    "name": "ipython",
    "version": 3
   },
   "file_extension": ".py",
   "mimetype": "text/x-python",
   "name": "python",
   "nbconvert_exporter": "python",
   "pygments_lexer": "ipython3",
   "version": "3.9.7"
  }
 },
 "nbformat": 4,
 "nbformat_minor": 2
}
