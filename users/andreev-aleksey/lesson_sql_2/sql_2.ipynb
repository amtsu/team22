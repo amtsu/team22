{
 "cells": [
  {
   "cell_type": "code",
   "execution_count": 15,
   "metadata": {},
   "outputs": [
    {
     "name": "stdout",
     "output_type": "stream",
     "text": [
      "/home/jupyter-andreev-aleksey/github/team22/users/andreev-aleksey/lesson_sql_2\r\n"
     ]
    }
   ],
   "source": [
    "!pwd"
   ]
  },
  {
   "cell_type": "code",
   "execution_count": 4,
   "metadata": {},
   "outputs": [],
   "source": [
    "!cp /tmp/db_mini.sqlite3 /home/jupyter-andreev-aleksey/github/team22/users/andreev-aleksey/lesson_sql_2"
   ]
  },
  {
   "cell_type": "code",
   "execution_count": 5,
   "metadata": {},
   "outputs": [],
   "source": [
    "import sqlite3\n",
    "from datetime import datetime, timedelta\n",
    "connect = sqlite3.connect('db_mini.sqlite3')\n",
    "cursor = connect.cursor()\n"
   ]
  },
  {
   "cell_type": "code",
   "execution_count": 8,
   "metadata": {},
   "outputs": [
    {
     "data": {
      "text/plain": [
       "[(2870,\n",
       "  '2022-12-06 15:35:11.590625',\n",
       "  'Игрушка-конструктор COGO Боевой корабль',\n",
       "  2817.99,\n",
       "  'https://www.auchan.ru/product/konstruktor-760-det'),\n",
       " (2871,\n",
       "  '2022-12-06 15:35:11.600272',\n",
       "  'Вино Arzuaga красное сухое Испания, 0,75 л',\n",
       "  4300.99,\n",
       "  'https://www.auchan.ru/product/vin_arzuag_krianca_kr_suh_075')]"
      ]
     },
     "execution_count": 8,
     "metadata": {},
     "output_type": "execute_result"
    }
   ],
   "source": [
    "cursor.execute('''SELECT * FROM products_history limit 2''')\n",
    "cursor.fetchall()"
   ]
  },
  {
   "cell_type": "code",
   "execution_count": 16,
   "metadata": {},
   "outputs": [],
   "source": [
    "#cursor.execute('''.help''')\n",
    "#cursor.fetchall()\n"
   ]
  }
 ],
 "metadata": {
  "kernelspec": {
   "display_name": "Python 3 (ipykernel)",
   "language": "python",
   "name": "python3"
  },
  "language_info": {
   "codemirror_mode": {
    "name": "ipython",
    "version": 3
   },
   "file_extension": ".py",
   "mimetype": "text/x-python",
   "name": "python",
   "nbconvert_exporter": "python",
   "pygments_lexer": "ipython3",
   "version": "3.9.7"
  }
 },
 "nbformat": 4,
 "nbformat_minor": 2
}
