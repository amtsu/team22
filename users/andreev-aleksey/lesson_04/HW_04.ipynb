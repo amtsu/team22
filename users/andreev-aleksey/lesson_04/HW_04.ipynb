{
 "cells": [
  {
   "cell_type": "markdown",
   "metadata": {},
   "source": [
    "# Упражнения"
   ]
  },
  {
   "cell_type": "markdown",
   "metadata": {},
   "source": [
    "Написать функцию, которая превращает любую переданную ей строку в такую же строку, записанную два раза."
   ]
  },
  {
   "cell_type": "code",
   "execution_count": 24,
   "metadata": {},
   "outputs": [
    {
     "name": "stdout",
     "output_type": "stream",
     "text": [
      "asdfasdf\n"
     ]
    }
   ],
   "source": [
    "def double_string(string):\n",
    "    return string * 2\n",
    "\n",
    "print(double_string(\"asdf\"))"
   ]
  },
  {
   "cell_type": "markdown",
   "metadata": {},
   "source": [
    "Сделать в предыдущей задаче так, чтобы два повторения строки разделялись пробелами."
   ]
  },
  {
   "cell_type": "code",
   "execution_count": 22,
   "metadata": {},
   "outputs": [
    {
     "name": "stdout",
     "output_type": "stream",
     "text": [
      "asdf asdf\n"
     ]
    }
   ],
   "source": [
    "def double_string(string):\n",
    "    return string + \" \" + string\n",
    "\n",
    "#print(double_string(\"asdf\"), end=\", \")\n",
    "print(double_string(\"asdf\"))"
   ]
  },
  {
   "cell_type": "code",
   "execution_count": 29,
   "metadata": {},
   "outputs": [
    {
     "name": "stdout",
     "output_type": "stream",
     "text": [
      "asdf asdf\n",
      "['a', 'f a', 'f']\n"
     ]
    }
   ],
   "source": [
    "def double_string(string):\n",
    "    return ' '.join([string]*2)\n",
    "\n",
    "st = double_string(\"asdf\")\n",
    "print(st)\n",
    "list_new = st.split('sd')\n",
    "print(list_new)"
   ]
  },
  {
   "cell_type": "code",
   "execution_count": null,
   "metadata": {},
   "outputs": [],
   "source": []
  },
  {
   "cell_type": "markdown",
   "metadata": {},
   "source": [
    "Реализовать функцию, вычисляющую сумму квадратов двух переданных ей аргументов."
   ]
  },
  {
   "cell_type": "code",
   "execution_count": 31,
   "metadata": {},
   "outputs": [
    {
     "name": "stdout",
     "output_type": "stream",
     "text": [
      "5\n"
     ]
    }
   ],
   "source": [
    "def a(x, y):\n",
    "    return x**2 + y**2\n",
    "\n",
    "print(a(1,2))"
   ]
  },
  {
   "cell_type": "markdown",
   "metadata": {},
   "source": [
    "# HW_04"
   ]
  },
  {
   "cell_type": "markdown",
   "metadata": {},
   "source": [
    "### Дополнительная функция percent_fact_plan_diff \n",
    "Функция показывает сколько процентов составляет фактически затраченное время от планируемого и разницу в минутах. \n",
    "\n",
    "На написание функции потратил порядка 15 минут\n"
   ]
  },
  {
   "cell_type": "code",
   "execution_count": 3,
   "metadata": {},
   "outputs": [
    {
     "name": "stdout",
     "output_type": "stream",
     "text": [
      "diff = 30\n",
      "percent_fact_plan = 130.0\n"
     ]
    }
   ],
   "source": [
    "# функция вычисления процента факта от плана \n",
    "def percent_fact_plan_diff(plan, fact):\n",
    "    percent_fact_plan = round((fact/plan*100), 2)\n",
    "    diff = fact - plan\n",
    "    print(f\"diff = {diff}\")\n",
    "    print(f\"percent_fact_plan = {percent_fact_plan}\")\n",
    "\n",
    "\n",
    "percent_fact_plan_diff(100, 130)\n",
    "\n"
   ]
  },
  {
   "cell_type": "markdown",
   "metadata": {},
   "source": [
    "Реализовать функцию, вычисляющую длину гипотенузы прямоугольного треугольника. Параметры – длины катетов.\n",
    "  "
   ]
  },
  {
   "cell_type": "code",
   "execution_count": 93,
   "metadata": {},
   "outputs": [
    {
     "data": {
      "text/plain": [
       "30.01666203960727"
      ]
     },
     "execution_count": 93,
     "metadata": {},
     "output_type": "execute_result"
    }
   ],
   "source": [
    "import math\n",
    "\"\"\"\n",
    "plan_time_take = 15\n",
    "fact_time_take = 26\n",
    "diff = 11\n",
    "percent_fact_plan = 173.33\n",
    "\"\"\"\n",
    "def hypotenuse_length(cat1: int | float, cat2: int | float) -> int | float | bool:\n",
    "    \"\"\"\n",
    "    По двум заданным катетам вычисляет гипотенузу\n",
    "    \"\"\"\n",
    "    if (cat1 <= 0) or (cat2 <= 0):\n",
    "        return False\n",
    "    gip = math.sqrt(cat1**2 + cat2**2)\n",
    "    return gip\n",
    "hypotenuse(15, 26)"
   ]
  },
  {
   "cell_type": "markdown",
   "metadata": {},
   "source": [
    "Перепешите функцию из предыдущего задания используя следующие воодные:\n",
    "- Указание: для вычисления квадратного корня можно возвести число в степень 0,5.\n",
    "- Можно использовать функцию, написанную в предыдущей задаче."
   ]
  },
  {
   "cell_type": "code",
   "execution_count": 55,
   "metadata": {},
   "outputs": [
    {
     "data": {
      "text/plain": [
       "2.23606797749979"
      ]
     },
     "execution_count": 55,
     "metadata": {},
     "output_type": "execute_result"
    }
   ],
   "source": [
    "\"\"\"\n",
    "plan_time_take = 15\n",
    "fact_time_take = 2\n",
    "diff = -13\n",
    "percent_fact_plan = 13.33\n",
    "\"\"\"\n",
    "def hypotenuse_length_05(cat1: int | float, cat2: int | float) -> int | float | bool:\n",
    "    \"\"\"\n",
    "    По двум заданным катетам вычисляет гипотенузу\n",
    "    \"\"\"\n",
    "    if (cat1 <= 0) or (cat2 <= 0):\n",
    "        return False\n",
    "    gip = (cat1**2 + cat2**2)**0.5\n",
    "    return gip"
   ]
  },
  {
   "cell_type": "markdown",
   "metadata": {},
   "source": [
    "Написать функцию arithmetic, принимающую 3 аргумента: первые два - числа, третий - операция, которая должна быть произведена над ними.\n",
    "- Если третий аргумент равен ‘+’, сложить их; ‘—’ -вычесть; ‘*’ — умножить; ‘/’ — разделить. В остальных случаях вернуть строку \"Неизвестная операция\".\n",
    "- Ожидаемый результат:"
   ]
  },
  {
   "cell_type": "code",
   "execution_count": null,
   "metadata": {},
   "outputs": [],
   "source": [
    "\"\"\"\n",
    "plan_time_take = 10\n",
    "fact_time_take = 30\n",
    "diff = 20\n",
    "percent_fact_plan = 300.0\n",
    "\"\"\"\n",
    "def arithmetic(num1: int | float, num2: int | float, operator: str) -> int | float | bool:\n",
    "    \"\"\"Выполняет заданное математическое действие надо числами\"\"\"\n",
    "    if num2 == 0:\n",
    "        return False\n",
    "    if operator not in (\"+\", \"-\", \"/\", \"*\"):\n",
    "        return False\n",
    "    operators = {\n",
    "        \"+\": (num1 + num2),\n",
    "        \"-\": (num1 - num2),\n",
    "        \"/\": (num1 / num2),\n",
    "        \"*\": (num1 * num2)\n",
    "    }\n",
    "    return operators[operator]"
   ]
  },
  {
   "cell_type": "markdown",
   "metadata": {},
   "source": [
    "Написать функцию square_parameters, принимающую 1 аргумент — сторону квадрата, и возвращающую 3 значения: периметр квадрата, площадь квадрата и диагональ квадрата."
   ]
  },
  {
   "cell_type": "code",
   "execution_count": null,
   "metadata": {},
   "outputs": [],
   "source": [
    "\"\"\"\n",
    "plan_time_take = 10\n",
    "fact_time_take = 28\n",
    "diff = 18\n",
    "percent_fact_plan = 280.0\n",
    "\"\"\"\n",
    "def square_parameters(side: int | float) -> tuple | bool:\n",
    "    \"\"\"По заданное стороне выдает\n",
    "    * периметр\n",
    "    * площадь\n",
    "    * диагональ квадрата\n",
    "    \"\"\"\n",
    "    if not (isinstance(side, int)) or (isinstance(side, float)):\n",
    "        return False\n",
    "    if side < 0:\n",
    "        return False\n",
    "    P = side*4\n",
    "    S = side**2\n",
    "    diag = side*(2**0.5)\n",
    "    return (P, S, diag)"
   ]
  },
  {
   "cell_type": "markdown",
   "metadata": {},
   "source": [
    "Написать функцию is_prime, принимающую 1 аргумент — число, и определяющее, простое оно или составное.\n",
    "- Простые числа делятся без остатка только на 1 и на самого себя. Если число делится без остатка на какое-то другое число, то оно составное."
   ]
  },
  {
   "cell_type": "code",
   "execution_count": null,
   "metadata": {},
   "outputs": [],
   "source": [
    "#plan_time_take = 10\n",
    "\n",
    "def is_prime(some_int):\n",
    "    pass\n",
    "# Сам не догадался. Посмотрел, что в интернете реализуют циклом while"
   ]
  },
  {
   "cell_type": "markdown",
   "metadata": {},
   "source": [
    "Написать функцию is_palindrome, принимающую 1 аргумент — строку (без пробелов, строчные буквы), и определяющее, является ли она палиндромом, т.е. читается одинаково слева направо и справа налево. Если да, вернуть True, иначе False."
   ]
  },
  {
   "cell_type": "code",
   "execution_count": null,
   "metadata": {},
   "outputs": [],
   "source": [
    "\"\"\"\n",
    "plan_time_take = 10\n",
    "fact_time_take = 20\n",
    "diff = 10\n",
    "percent_fact_plan = 200.0\n",
    "\"\"\"\n",
    "\n",
    "def is_palindrome(string: str) -> bool | int:\n",
    "    \"\"\"Проверяет палиндром\"\"\"\n",
    "    if not isinstance(string, str):\n",
    "        return -1\n",
    "    if len(string.split(\" \")) != 1:\n",
    "        return -1\n",
    "    if string == string[::-1]:\n",
    "        return True\n",
    "    else:\n",
    "        return False"
   ]
  },
  {
   "cell_type": "markdown",
   "metadata": {},
   "source": [
    "Как решить предыдущую задачу с помощью срезов?"
   ]
  },
  {
   "cell_type": "code",
   "execution_count": null,
   "metadata": {},
   "outputs": [],
   "source": [
    "#plan_time_take = 10\n",
    "# Решил срезом сразу"
   ]
  },
  {
   "cell_type": "markdown",
   "metadata": {},
   "source": [
    "Как решить предыдущую задачу если сразу вернуть результат?"
   ]
  },
  {
   "cell_type": "code",
   "execution_count": null,
   "metadata": {},
   "outputs": [],
   "source": [
    "\"\"\"\n",
    "Не понял задание. Имеется ввиду в одну строку? \n",
    "\n",
    "plan_time_take = 15\n",
    "fact_time_take = 5\n",
    "diff = -10\n",
    "percent_fact_plan = 33.33\n",
    "\"\"\"\n",
    "def is_palindrome_one_string(string: str) -> bool | int:\n",
    "    \"\"\"Проверяет палиндром\"\"\"\n",
    "    if not isinstance(string, str):\n",
    "        return -1\n",
    "    if len(string.split(\" \")) != 1:\n",
    "        return -1\n",
    "    return True if string == string[::-1] else False"
   ]
  },
  {
   "cell_type": "markdown",
   "metadata": {},
   "source": [
    "Усовершенствовать предыдущую функцию, чтобы проверяемая строка могла содержать пробелы, а также прописные и строчные буквы.\n",
    "- Кидал в зубра арбуз Вадик"
   ]
  },
  {
   "cell_type": "code",
   "execution_count": null,
   "metadata": {},
   "outputs": [],
   "source": [
    "\"\"\"\n",
    "plan_time_take = 15\n",
    "fact_time_take = 17\n",
    "diff = 2\n",
    "percent_fact_plan = 113.33\n",
    "\"\"\"\n",
    "def is_palindrome_all_type_string(string: str) -> bool | int:\n",
    "    \"\"\"Проверяет строку на палиндром\"\"\"\n",
    "    if not isinstance(string.lower(), str):\n",
    "        return -1\n",
    "    return True if string.lower().replace(\" \", \"\") == string[::-1].lower().replace(\" \", \"\") else False"
   ]
  }
 ],
 "metadata": {
  "kernelspec": {
   "display_name": "Python 3 (ipykernel)",
   "language": "python",
   "name": "python3"
  },
  "language_info": {
   "codemirror_mode": {
    "name": "ipython",
    "version": 3
   },
   "file_extension": ".py",
   "mimetype": "text/x-python",
   "name": "python",
   "nbconvert_exporter": "python",
   "pygments_lexer": "ipython3",
   "version": "3.9.7"
  }
 },
 "nbformat": 4,
 "nbformat_minor": 2
}
