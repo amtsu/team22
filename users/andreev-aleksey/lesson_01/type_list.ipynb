{
 "cells": [
  {
   "cell_type": "markdown",
   "metadata": {},
   "source": [
    "### Список (list)\n",
    "\n",
    "В python списки хранят упорядоченный набор элементов, которые могут быть разных типов."
   ]
  },
  {
   "cell_type": "code",
   "execution_count": 173,
   "metadata": {},
   "outputs": [
    {
     "data": {
      "text/plain": [
       "[500, 1000, 746, 2000]"
      ]
     },
     "execution_count": 173,
     "metadata": {},
     "output_type": "execute_result"
    }
   ],
   "source": [
    "[500, 1000, 746, 2000]"
   ]
  },
  {
   "cell_type": "code",
   "execution_count": 174,
   "metadata": {},
   "outputs": [
    {
     "data": {
      "text/plain": [
       "['mom', 500, 'dad', 1000, 'brother', 746, 'me', 2000]"
      ]
     },
     "execution_count": 174,
     "metadata": {},
     "output_type": "execute_result"
    }
   ],
   "source": [
    "['mom', 500,'dad', 1000, 'brother', 746, 'me', 2000]"
   ]
  },
  {
   "cell_type": "code",
   "execution_count": 175,
   "metadata": {},
   "outputs": [
    {
     "data": {
      "text/plain": [
       "'dad'"
      ]
     },
     "execution_count": 175,
     "metadata": {},
     "output_type": "execute_result"
    }
   ],
   "source": [
    "['mom', 500, 'dad', 1000, 'brother', 746, 'me', 2000][2]"
   ]
  },
  {
   "cell_type": "code",
   "execution_count": 176,
   "metadata": {},
   "outputs": [
    {
     "data": {
      "text/plain": [
       "746"
      ]
     },
     "execution_count": 176,
     "metadata": {},
     "output_type": "execute_result"
    }
   ],
   "source": [
    "['mom', 500, 'dad', 1000, 'brother', 746, 'me', 2000][5]"
   ]
  },
  {
   "cell_type": "code",
   "execution_count": 177,
   "metadata": {},
   "outputs": [
    {
     "data": {
      "text/plain": [
       "[500, 'dad']"
      ]
     },
     "execution_count": 177,
     "metadata": {},
     "output_type": "execute_result"
    }
   ],
   "source": [
    "['mom', 500, 'dad', 1000, 'brother', 746, 'me', 2000][1:3]"
   ]
  },
  {
   "cell_type": "code",
   "execution_count": null,
   "metadata": {},
   "outputs": [],
   "source": []
  },
  {
   "cell_type": "code",
   "execution_count": 179,
   "metadata": {},
   "outputs": [],
   "source": [
    "savings_family = [500, 1000, 746, 2000]\n",
    "\n",
    "savings_family_2 = ['mom', 500,'dad', 1000, 'brother', 746, 'me', 2000]"
   ]
  },
  {
   "cell_type": "code",
   "execution_count": 180,
   "metadata": {},
   "outputs": [
    {
     "data": {
      "text/plain": [
       "[500, 1000, 746, 2000]"
      ]
     },
     "execution_count": 180,
     "metadata": {},
     "output_type": "execute_result"
    }
   ],
   "source": [
    "savings_family"
   ]
  },
  {
   "cell_type": "code",
   "execution_count": 181,
   "metadata": {},
   "outputs": [],
   "source": [
    "savings_family.append(5)"
   ]
  },
  {
   "cell_type": "code",
   "execution_count": 182,
   "metadata": {},
   "outputs": [
    {
     "data": {
      "text/plain": [
       "[500, 1000, 746, 2000, 5]"
      ]
     },
     "execution_count": 182,
     "metadata": {},
     "output_type": "execute_result"
    }
   ],
   "source": [
    "savings_family"
   ]
  },
  {
   "cell_type": "code",
   "execution_count": 186,
   "metadata": {},
   "outputs": [],
   "source": [
    "savings_family.append(5)"
   ]
  },
  {
   "cell_type": "code",
   "execution_count": 187,
   "metadata": {},
   "outputs": [
    {
     "data": {
      "text/plain": [
       "[500, 1000, 746, 2000, 5, 5, 5, 5, 5]"
      ]
     },
     "execution_count": 187,
     "metadata": {},
     "output_type": "execute_result"
    }
   ],
   "source": [
    "savings_family"
   ]
  },
  {
   "cell_type": "markdown",
   "metadata": {},
   "source": [
    "Одним из самых часто используемых методов (т.е. функций) для работы со списком является **append**: \n",
    "- list.append(x)\tДобавляет элемент в конец списка"
   ]
  },
  {
   "cell_type": "code",
   "execution_count": 188,
   "metadata": {},
   "outputs": [
    {
     "data": {
      "text/plain": [
       "['apple', 'lemon', 'pineapple']"
      ]
     },
     "execution_count": 188,
     "metadata": {},
     "output_type": "execute_result"
    }
   ],
   "source": [
    "list_words = ['apple', 'lemon', 'pineapple']\n",
    "\n",
    "list_words"
   ]
  },
  {
   "cell_type": "code",
   "execution_count": 189,
   "metadata": {},
   "outputs": [
    {
     "data": {
      "text/plain": [
       "['apple', 'lemon', 'pineapple', 'watermelon']"
      ]
     },
     "execution_count": 189,
     "metadata": {},
     "output_type": "execute_result"
    }
   ],
   "source": [
    "list_words.append('watermelon')\n",
    "\n",
    "list_words"
   ]
  },
  {
   "cell_type": "code",
   "execution_count": 190,
   "metadata": {},
   "outputs": [
    {
     "data": {
      "text/plain": [
       "4"
      ]
     },
     "execution_count": 190,
     "metadata": {},
     "output_type": "execute_result"
    }
   ],
   "source": [
    "len(list_words)"
   ]
  },
  {
   "cell_type": "code",
   "execution_count": 192,
   "metadata": {},
   "outputs": [],
   "source": [
    "#help(list_words)"
   ]
  },
  {
   "cell_type": "code",
   "execution_count": 195,
   "metadata": {},
   "outputs": [],
   "source": [
    "new_list = [\"chery\"]\n",
    "new_list.extend(list_words)"
   ]
  },
  {
   "cell_type": "code",
   "execution_count": 196,
   "metadata": {},
   "outputs": [
    {
     "data": {
      "text/plain": [
       "['chery', 'apple', 'lemon', 'pineapple', 'watermelon']"
      ]
     },
     "execution_count": 196,
     "metadata": {},
     "output_type": "execute_result"
    }
   ],
   "source": [
    "new_list"
   ]
  },
  {
   "cell_type": "code",
   "execution_count": 197,
   "metadata": {},
   "outputs": [
    {
     "data": {
      "text/plain": [
       "2"
      ]
     },
     "execution_count": 197,
     "metadata": {},
     "output_type": "execute_result"
    }
   ],
   "source": [
    "new_list = [\"chery\"]\n",
    "new_list.append(list_words)\n",
    "len(new_list)"
   ]
  },
  {
   "cell_type": "code",
   "execution_count": 198,
   "metadata": {},
   "outputs": [
    {
     "data": {
      "text/plain": [
       "['chery', ['apple', 'lemon', 'pineapple', 'watermelon']]"
      ]
     },
     "execution_count": 198,
     "metadata": {},
     "output_type": "execute_result"
    }
   ],
   "source": [
    "new_list"
   ]
  },
  {
   "cell_type": "markdown",
   "metadata": {},
   "source": [
    "# сделать таблицу 2 х 2\n",
    "\n",
    "1 2\n",
    "\n",
    "3 4"
   ]
  },
  {
   "cell_type": "code",
   "execution_count": 200,
   "metadata": {},
   "outputs": [],
   "source": [
    "matrix = [[1,2],[3,4]]"
   ]
  },
  {
   "cell_type": "code",
   "execution_count": 201,
   "metadata": {},
   "outputs": [
    {
     "data": {
      "text/plain": [
       "3"
      ]
     },
     "execution_count": 201,
     "metadata": {},
     "output_type": "execute_result"
    }
   ],
   "source": [
    "matrix[1][0]"
   ]
  },
  {
   "cell_type": "code",
   "execution_count": 202,
   "metadata": {},
   "outputs": [
    {
     "data": {
      "text/plain": [
       "2"
      ]
     },
     "execution_count": 202,
     "metadata": {},
     "output_type": "execute_result"
    }
   ],
   "source": [
    "matrix[0][1]"
   ]
  },
  {
   "cell_type": "markdown",
   "metadata": {},
   "source": [
    "сделать таблицу 2 х 3"
   ]
  },
  {
   "cell_type": "code",
   "execution_count": 204,
   "metadata": {},
   "outputs": [],
   "source": [
    "matrix_2_3 = [[1,2,3],[4,5,6]]"
   ]
  },
  {
   "cell_type": "code",
   "execution_count": 205,
   "metadata": {},
   "outputs": [
    {
     "data": {
      "text/plain": [
       "3"
      ]
     },
     "execution_count": 205,
     "metadata": {},
     "output_type": "execute_result"
    }
   ],
   "source": [
    "matrix_2_3[0][2]"
   ]
  },
  {
   "cell_type": "code",
   "execution_count": 207,
   "metadata": {},
   "outputs": [
    {
     "data": {
      "text/plain": [
       "5"
      ]
     },
     "execution_count": 207,
     "metadata": {},
     "output_type": "execute_result"
    }
   ],
   "source": [
    "matrix_2_3[1][1]"
   ]
  },
  {
   "cell_type": "code",
   "execution_count": 208,
   "metadata": {},
   "outputs": [],
   "source": [
    "new_list_1 = [1, 2, 3]\n",
    "new_list_2 = [4, 5, 6]\n"
   ]
  },
  {
   "cell_type": "code",
   "execution_count": 209,
   "metadata": {},
   "outputs": [
    {
     "data": {
      "text/plain": [
       "[1, 2, 3]"
      ]
     },
     "execution_count": 209,
     "metadata": {},
     "output_type": "execute_result"
    }
   ],
   "source": [
    "new_list_1"
   ]
  },
  {
   "cell_type": "code",
   "execution_count": 210,
   "metadata": {},
   "outputs": [
    {
     "data": {
      "text/plain": [
       "[4, 5, 6]"
      ]
     },
     "execution_count": 210,
     "metadata": {},
     "output_type": "execute_result"
    }
   ],
   "source": [
    "new_list_2"
   ]
  },
  {
   "cell_type": "code",
   "execution_count": 215,
   "metadata": {},
   "outputs": [],
   "source": [
    "new_list_big = []"
   ]
  },
  {
   "cell_type": "code",
   "execution_count": 216,
   "metadata": {},
   "outputs": [
    {
     "data": {
      "text/plain": [
       "[]"
      ]
     },
     "execution_count": 216,
     "metadata": {},
     "output_type": "execute_result"
    }
   ],
   "source": [
    "new_list_big"
   ]
  },
  {
   "cell_type": "code",
   "execution_count": 217,
   "metadata": {},
   "outputs": [
    {
     "data": {
      "text/plain": [
       "[[1, 2, 3]]"
      ]
     },
     "execution_count": 217,
     "metadata": {},
     "output_type": "execute_result"
    }
   ],
   "source": [
    "new_list_big.append(new_list_1)\n",
    "new_list_big"
   ]
  },
  {
   "cell_type": "code",
   "execution_count": 218,
   "metadata": {},
   "outputs": [
    {
     "data": {
      "text/plain": [
       "[[1, 2, 3], [4, 5, 6]]"
      ]
     },
     "execution_count": 218,
     "metadata": {},
     "output_type": "execute_result"
    }
   ],
   "source": [
    "new_list_big.append(new_list_2)\n",
    "new_list_big"
   ]
  },
  {
   "cell_type": "code",
   "execution_count": 219,
   "metadata": {},
   "outputs": [
    {
     "data": {
      "text/plain": [
       "2"
      ]
     },
     "execution_count": 219,
     "metadata": {},
     "output_type": "execute_result"
    }
   ],
   "source": [
    "len(new_list_big)"
   ]
  },
  {
   "cell_type": "code",
   "execution_count": 220,
   "metadata": {},
   "outputs": [
    {
     "data": {
      "text/plain": [
       "[1, 2, 3]"
      ]
     },
     "execution_count": 220,
     "metadata": {},
     "output_type": "execute_result"
    }
   ],
   "source": [
    "new_list_big[0]"
   ]
  },
  {
   "cell_type": "code",
   "execution_count": 221,
   "metadata": {},
   "outputs": [
    {
     "data": {
      "text/plain": [
       "3"
      ]
     },
     "execution_count": 221,
     "metadata": {},
     "output_type": "execute_result"
    }
   ],
   "source": [
    "len(new_list_big[0])"
   ]
  },
  {
   "cell_type": "code",
   "execution_count": null,
   "metadata": {},
   "outputs": [],
   "source": []
  },
  {
   "cell_type": "markdown",
   "metadata": {},
   "source": [
    "# сделать кубу 3 х 3 х 3"
   ]
  },
  {
   "cell_type": "code",
   "execution_count": 223,
   "metadata": {},
   "outputs": [],
   "source": [
    "matrix_3_3_3 = [[[1,2,3],[4,5,6],[7,8,9]],[[10,11,12],[13,14,15],[16,17,18]],[[19,20,21],[22,23,24],[25,26,27]]]"
   ]
  },
  {
   "cell_type": "code",
   "execution_count": 224,
   "metadata": {},
   "outputs": [
    {
     "data": {
      "text/plain": [
       "14"
      ]
     },
     "execution_count": 224,
     "metadata": {},
     "output_type": "execute_result"
    }
   ],
   "source": [
    "matrix_3_3_3[1][1][1]"
   ]
  },
  {
   "cell_type": "code",
   "execution_count": 225,
   "metadata": {},
   "outputs": [
    {
     "data": {
      "text/plain": [
       "[13, 14, 15]"
      ]
     },
     "execution_count": 225,
     "metadata": {},
     "output_type": "execute_result"
    }
   ],
   "source": [
    "matrix_3_3_3[1][1]"
   ]
  },
  {
   "cell_type": "markdown",
   "metadata": {},
   "source": [
    "# HW"
   ]
  },
  {
   "cell_type": "markdown",
   "metadata": {},
   "source": [
    "# №1 Задание создайте 3 списока\n",
    "\n",
    "\n",
    "\n",
    "<center> \n",
    "    <table>\n",
    "        <tr>\n",
    "            <td>\n",
    "                №\n",
    "            </td>\n",
    "            <td>\n",
    "                Дело\n",
    "            </td>\n",
    "            <td>\n",
    "                Дата до котрой нужно сделать\n",
    "            </td>            \n",
    "            <td>\n",
    "                Дата когда было сделано\n",
    "            </td>            \n",
    "        </tr>\n",
    "        <tr>\n",
    "            <td>\n",
    "                Дело №1\n",
    "            </td>\n",
    "            <td>\n",
    "                купить хлеб\n",
    "            </td>\n",
    "            <td>\n",
    "                28-08-2022\n",
    "            </td>\n",
    "            <td>\n",
    "                28-08-2022\n",
    "            </td>            \n",
    "        </tr>\n",
    "        <tr>\n",
    "            <td>\n",
    "                Дело №2\n",
    "            </td>\n",
    "            <td>\n",
    "                помыть полы\n",
    "            </td>\n",
    "            <td>\n",
    "                28-08-2022\n",
    "            </td>\n",
    "            <td>\n",
    "                -\n",
    "            </td>\n",
    "        </tr>\n",
    "    </table>\n",
    "</center> \n",
    "\n",
    "Рекомендуемый размер списка 22 элемента.\n",
    "\n",
    "После создания 3 списков. \n",
    "* Нужно посчитать общее количество дел в списке.\n",
    "* Напечатать все дела\n",
    "* Напечатать только 2 и 5 дело\n",
    "\n",
    "# Это еще не проходили\n",
    "* Сравнить каждое дело из списка с строкой “buy bread”  и если оно совпадает то напечатать YES\n",
    "* Если каждое дело из списка ваших дела написано на английском и является строкой то вывести длину каждой из этих строк\n",
    "* Напечатать yes если длина строки в которой записано дело больше 10\n",
    "* Напечатать дела индекс которых в списке делится без остатка на 2\n",
    "* Напечатать дело с индексом 1 и 4 из списка запланированных дел\n",
    "* Напечатать те индексы у которых значения в списке запланированных дат и списке реализованных дат равны друг другу \n",
    "* Вывести только те дела которые вы сделали в тот же день в который их запланировали\n",
    "* Посчитать сколько дел у вас было одинаковых ( т.е. если есть запись “купить хлеб” 28-08-2022 и “купить хлеб” 14-08-2022 то финально нужно вывести “купить хлеб” 2 (можно сделать 2 варианта без использования словарей и с испольщованием словарям)\n"
   ]
  },
  {
   "cell_type": "code",
   "execution_count": 19,
   "metadata": {},
   "outputs": [
    {
     "data": {
      "text/plain": [
       "5"
      ]
     },
     "execution_count": 19,
     "metadata": {},
     "output_type": "execute_result"
    }
   ],
   "source": [
    "my_list = [\n",
    "    [\"Дело 1\", \"купить мороженное\", \"2022-04-01\", \"2022-04-01\"],\n",
    "    [\"Дело 2\", \"сделать ремонт\", \"2022-05-13\", \"2022-06-07\"],\n",
    "    [\"Дело 3\", \"убрать квартиру\", \"2022-03-11\", \"2022-03-11\"],\n",
    "    [\"Дело 4\", \"купить котиков\", \"2022-04-21\", \"2022-04-30\"],\n",
    "    [\"Дело 5\", \"продать котиков\", \"2022-05-21\", \"2022-05-12\"]\n",
    "]\n",
    "len(my_list)"
   ]
  },
  {
   "cell_type": "code",
   "execution_count": 20,
   "metadata": {},
   "outputs": [
    {
     "data": {
      "text/plain": [
       "[['Дело 1', 'купить мороженное', '2022-04-01', '2022-04-01'],\n",
       " ['Дело 2', 'сделать ремонт', '2022-05-13', '2022-06-07'],\n",
       " ['Дело 3', 'убрать квартиру', '2022-03-11', '2022-03-11'],\n",
       " ['Дело 4', 'купить котиков', '2022-04-21', '2022-04-30'],\n",
       " ['Дело 5', 'продать котиков', '2022-05-21', '2022-05-12']]"
      ]
     },
     "execution_count": 20,
     "metadata": {},
     "output_type": "execute_result"
    }
   ],
   "source": [
    "my_list"
   ]
  },
  {
   "cell_type": "code",
   "execution_count": 21,
   "metadata": {},
   "outputs": [
    {
     "data": {
      "text/plain": [
       "(['Дело 2', 'сделать ремонт', '2022-05-13', '2022-06-07'],\n",
       " ['Дело 5', 'продать котиков', '2022-05-21', '2022-05-12'])"
      ]
     },
     "execution_count": 21,
     "metadata": {},
     "output_type": "execute_result"
    }
   ],
   "source": [
    "my_list[1], my_list[4]"
   ]
  },
  {
   "cell_type": "markdown",
   "metadata": {},
   "source": [
    "# №2 Задание создайте 2 списока\n",
    "\n",
    "<center> \n",
    "    <table>\n",
    "        <tr>\n",
    "            <td>\n",
    "                №\n",
    "            </td>\n",
    "            <td>\n",
    "                Описание\n",
    "            </td>\n",
    "            <td>\n",
    "                Сумма\n",
    "            </td>\n",
    "            <td>\n",
    "                Дата\n",
    "            </td>\n",
    "        </tr>\n",
    "        <tr>\n",
    "            <td>\n",
    "                №1 \n",
    "            </td>            \n",
    "            <td>\n",
    "                купил хлеб\n",
    "            </td>\n",
    "            <td>\n",
    "                -50\n",
    "            </td>\n",
    "            <td>\n",
    "                09-08-2022\n",
    "            </td>\n",
    "        </tr>\n",
    "        <tr>\n",
    "            <td>\n",
    "                №2 \n",
    "            </td>            \n",
    "            <td>\n",
    "                купил тапочки\n",
    "            </td>\n",
    "            <td>\n",
    "                -200\n",
    "            </td>\n",
    "            <td>\n",
    "                11-08-2022\n",
    "            </td>\n",
    "        </tr>\n",
    "        <tr>\n",
    "            <td>\n",
    "                №3 \n",
    "            </td>            \n",
    "            <td>\n",
    "                получил зп\n",
    "            </td>\n",
    "            <td>\n",
    "                50000\n",
    "            </td>\n",
    "            <td>\n",
    "                28-08-2022\n",
    "            </td>\n",
    "        </tr>\n",
    "        \n",
    "      \n",
    "    </table>\n",
    "</center> \n",
    "\n",
    "* добавить к списку еще 2 действия\n",
    "* посчитать сколько всего действий в вашем списке\n",
    "\n",
    "\n",
    "\n",
    "# Это еще не проходили\n",
    "\n",
    "* посчитайте сколько всего вы потратили за все время\n",
    "* посчитать сколько трат было меньше 300 рублей\n",
    "* посчитать сколько сумму трат которые были больше 10000 рублей\n",
    "* выдать номера трат которые находятся в диапазоне между 300 и 10000 рублей\n",
    "* выбрать из списка на втором шаге самую минимальную трату\n",
    "* посчитать сколько трат было меньше 300 рублей\n",
    "* посчитайте сколько заработали за все время\n",
    "* посчитайте какие самые частые у вас траты(можно попробовать с использованием словарей)\n",
    "* добавить к списку еще 3 действия\n",
    "* Найти максимальную трату\n",
    "* Найти минимальный доход\n",
    "* Посчитать среднюю стоимость ваших трат"
   ]
  },
  {
   "cell_type": "code",
   "execution_count": 22,
   "metadata": {},
   "outputs": [
    {
     "data": {
      "text/plain": [
       "[['Дело 6', 'найти адвоката', '2022-06-07', '2022-06-06'],\n",
       " ['Дело 7', 'нанять адвоката', '2022-06-07', '2022-06-08']]"
      ]
     },
     "execution_count": 22,
     "metadata": {},
     "output_type": "execute_result"
    }
   ],
   "source": [
    "add_to_list = [['Дело 6', 'найти адвоката', '2022-06-07', '2022-06-06'],\n",
    "              ['Дело 7', 'нанять адвоката', '2022-06-07', '2022-06-08']]\n",
    "add_to_list"
   ]
  },
  {
   "cell_type": "code",
   "execution_count": 23,
   "metadata": {},
   "outputs": [
    {
     "data": {
      "text/plain": [
       "[['Дело 1', 'купить мороженное', '2022-04-01', '2022-04-01'],\n",
       " ['Дело 2', 'сделать ремонт', '2022-05-13', '2022-06-07'],\n",
       " ['Дело 3', 'убрать квартиру', '2022-03-11', '2022-03-11'],\n",
       " ['Дело 4', 'купить котиков', '2022-04-21', '2022-04-30'],\n",
       " ['Дело 5', 'продать котиков', '2022-05-21', '2022-05-12'],\n",
       " ['Дело 6', 'найти адвоката', '2022-06-07', '2022-06-06'],\n",
       " ['Дело 7', 'нанять адвоката', '2022-06-07', '2022-06-08']]"
      ]
     },
     "execution_count": 23,
     "metadata": {},
     "output_type": "execute_result"
    }
   ],
   "source": [
    "my_list.extend(add_to_list)\n",
    "my_list"
   ]
  },
  {
   "cell_type": "code",
   "execution_count": 24,
   "metadata": {},
   "outputs": [
    {
     "data": {
      "text/plain": [
       "7"
      ]
     },
     "execution_count": 24,
     "metadata": {},
     "output_type": "execute_result"
    }
   ],
   "source": [
    "len(my_list)"
   ]
  },
  {
   "cell_type": "code",
   "execution_count": null,
   "metadata": {},
   "outputs": [],
   "source": []
  }
 ],
 "metadata": {
  "kernelspec": {
   "display_name": "Python 3 (ipykernel)",
   "language": "python",
   "name": "python3"
  },
  "language_info": {
   "codemirror_mode": {
    "name": "ipython",
    "version": 3
   },
   "file_extension": ".py",
   "mimetype": "text/x-python",
   "name": "python",
   "nbconvert_exporter": "python",
   "pygments_lexer": "ipython3",
   "version": "3.9.7"
  }
 },
 "nbformat": 4,
 "nbformat_minor": 2
}
