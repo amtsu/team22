{
 "cells": [
  {
   "cell_type": "markdown",
   "id": "148a67cf-f3d5-4175-898e-a2201786ac66",
   "metadata": {},
   "source": [
    "# Расширте поведение классов. Сначала напишите тест, затем реализуйте метод."
   ]
  },
  {
   "cell_type": "markdown",
   "id": "9e4c8632-4906-41db-b476-383447ed2d7e",
   "metadata": {},
   "source": [
    "1. Расширьте класс автомобиль, реализовав метод ускорения автомоиля на 5 км в час. И метод остановки автомобиля."
   ]
  },
  {
   "cell_type": "code",
   "execution_count": 3,
   "id": "a2b97c58-5b69-493a-b37e-970c6e2d5b82",
   "metadata": {},
   "outputs": [
    {
     "name": "stdout",
     "output_type": "stream",
     "text": [
      "red\n",
      "75\n",
      "80\n",
      "0\n"
     ]
    }
   ],
   "source": [
    "class Car:\n",
    "    \"\"\"\n",
    "    Автомобиль\n",
    "    \"\"\"\n",
    "\n",
    "    def __init__(self, brand, year, colour, doors_number, current_speed):\n",
    "        self.brand = brand\n",
    "        self.year = year\n",
    "        self.colour = colour\n",
    "        self.doors_number = doors_number\n",
    "        self.current_speed = current_speed\n",
    "\n",
    "    def get_year(self):\n",
    "        return self.year\n",
    " \n",
    "    def get_brand(self):\n",
    "        return self.brand\n",
    " \n",
    "    def get_colour(self):\n",
    "        return self.colour\n",
    " \n",
    "    def get_current_speed(self):\n",
    "        return self.current_speed\n",
    "\n",
    "    def speed_plus_five(self):\n",
    "        self.current_speed += 5\n",
    "\n",
    "    def stop(self):\n",
    "        self.current_speed = 0\n",
    "\n",
    "auto1 = Car('ww',1987,'red',3, 75)\n",
    "\n",
    "print(auto1.get_colour())\n",
    "print(auto1.current_speed)\n",
    "\n",
    "auto1.speed_plus_five()\n",
    "print(auto1.current_speed)\n",
    "\n",
    "auto1.stop()\n",
    "print(auto1.current_speed)"
   ]
  },
  {
   "cell_type": "markdown",
   "id": "9233d498-73bf-4893-9ad8-89a964a7b462",
   "metadata": {},
   "source": [
    "2. Расширьте класс Student, создав метод добавления новой оценки и метод вычисления среднего бала."
   ]
  },
  {
   "cell_type": "code",
   "execution_count": 16,
   "id": "5db50bef-6ab0-4b6c-909c-34255848cf11",
   "metadata": {},
   "outputs": [
    {
     "name": "stdout",
     "output_type": "stream",
     "text": [
      "27\n",
      "Kon\n",
      "[10, 8, 5]\n",
      "[10, 8, 5, 7]\n",
      "7.5\n"
     ]
    }
   ],
   "source": [
    "class Student:\n",
    "    \"\"\"\n",
    "    Студент\n",
    "    \"\"\"\n",
    "\n",
    "    def __init__(self, name, surname, age, adress, grades):\n",
    "        self.name = name\n",
    "        self.surname = surname\n",
    "        self.age = age\n",
    "        self.adress = adress\n",
    "        self.grades = grades\n",
    "\n",
    "    def get_age(self):\n",
    "        return self.age\n",
    "\n",
    "    def new_grade(self, grade):\n",
    "        self.grades.append(grade)\n",
    "\n",
    "    def average_grade(self):\n",
    "        if not self.grades:\n",
    "            return 0\n",
    "        return sum(self.grades) / len(self.grades)\n",
    "\n",
    "sudent1 = Student('Mi','Kon',27, 'Ku str, 5', [10, 8, 5])\n",
    "\n",
    "print(sudent1.get_age())\n",
    "print(sudent1.surname)\n",
    "print(sudent1.grades)\n",
    "\n",
    "sudent1.new_grade(7)\n",
    "print(sudent1.grades)\n",
    "\n",
    "print(sudent1.average_grade())"
   ]
  },
  {
   "cell_type": "markdown",
   "id": "f5be32ac-2052-407f-a9db-54f0f6d97077",
   "metadata": {},
   "source": [
    "3. Создайте класс Shape для представления различных геометрических фигур(круг, прямоугольник треугольник). Реализуйте в нем методы вчисления площали и периметра."
   ]
  },
  {
   "cell_type": "code",
   "execution_count": 8,
   "id": "adc2a702-8f99-4fdc-93b5-6ab395d21000",
   "metadata": {},
   "outputs": [
    {
     "name": "stdout",
     "output_type": "stream",
     "text": [
      "78.53981633974483\n",
      "31.41592653589793\n"
     ]
    }
   ],
   "source": [
    "from math import pi, sqrt\n",
    "\n",
    "class Shape:\n",
    "    \"\"\"\n",
    "    Класс для представления различных геометрических фигур\n",
    "    (круг, прямоугольник треугольник)\n",
    "    \"\"\"\n",
    "\n",
    "    def area(self):\n",
    "        raise NotImplementedError(\"Этот метод должен быть переопределен в подклассе\")\n",
    "\n",
    "    def perimeter(self):\n",
    "        raise NotImplementedError(\"Этот метод должен быть переопределен в подклассе\")\n",
    "\n",
    "class Circle(Shape):\n",
    "\n",
    "    def __init__(self, radius, color):\n",
    "        self.radius = radius\n",
    "        self.color = color\n",
    "\n",
    "    def area(self):\n",
    "        return pi*self.radius**2\n",
    "\n",
    "    def perimeter(self):\n",
    "        return 2*pi*self.radius\n",
    "\n",
    "\n",
    "class Rectangle(Shape):\n",
    "\n",
    "    def __init__(self, width, height):\n",
    "        self.width = width\n",
    "        self.height = height\n",
    "\n",
    "    def area(self):\n",
    "        return self.width * self.height\n",
    "\n",
    "    def perimeter(self):\n",
    "        return 2 * (self.width + self.height)\n",
    "\n",
    "\n",
    "class Triangle(Shape):\n",
    "\n",
    "    def __init__(self, a, b, c):\n",
    "        self.a = a\n",
    "        self.b = b\n",
    "        self.c = c\n",
    "\n",
    "    def area(self):\n",
    "        s = (self.a + self.b + self.c) / 2\n",
    "        return sqrt(s * (s - self.a) * (s - self.b) * (s - self.c))\n",
    "\n",
    "    def perimeter(self):\n",
    "        return self.a + self.b + self.c\n",
    "\n",
    "\n",
    "circle1 = Circle(5,\"red\")\n",
    "\n",
    "print(circle1.area())\n",
    "print(circle1.perimeter())"
   ]
  },
  {
   "cell_type": "markdown",
   "id": "6aee0d0d-a0b9-4a75-a513-08ca624e0662",
   "metadata": {},
   "source": [
    "По-моему базовый класс здесь лишний"
   ]
  },
  {
   "cell_type": "code",
   "execution_count": 6,
   "id": "39e6d1ec-d31b-491d-9b71-151e7d29a37d",
   "metadata": {},
   "outputs": [
    {
     "name": "stdout",
     "output_type": "stream",
     "text": [
      "78.53981633974483\n",
      "31.41592653589793\n"
     ]
    }
   ],
   "source": [
    "from math import pi, sqrt\n",
    "\n",
    "# class Shape:\n",
    "#     \"\"\"\n",
    "#     Класс для представления различных геометрических фигур\n",
    "#     (круг, прямоугольник треугольник)\n",
    "#     \"\"\"\n",
    "\n",
    "#     def area(self):\n",
    "#         raise NotImplementedError(\"Этот метод должен быть переопределен в подклассе\")\n",
    "\n",
    "#     def perimeter(self):\n",
    "#         raise NotImplementedError(\"Этот метод должен быть переопределен в подклассе\")\n",
    "\n",
    "class Circle:\n",
    "\n",
    "    def __init__(self, radius, color):\n",
    "        self.radius = radius\n",
    "        self.color = color\n",
    "\n",
    "    def area(self):\n",
    "        return pi*self.radius**2\n",
    "\n",
    "    def perimeter(self):\n",
    "        return 2*pi*self.radius\n",
    "\n",
    "\n",
    "class Rectangle():\n",
    "\n",
    "    def __init__(self, width, height):\n",
    "        self.width = width\n",
    "        self.height = height\n",
    "\n",
    "    def area(self):\n",
    "        return self.width * self.height\n",
    "\n",
    "    def perimeter(self):\n",
    "        return 2 * (self.width + self.height)\n",
    "\n",
    "\n",
    "class Triangle:\n",
    "\n",
    "    def __init__(self, a, b, c):\n",
    "        self.a = a\n",
    "        self.b = b\n",
    "        self.c = c\n",
    "\n",
    "    def area(self):\n",
    "        s = (self.a + self.b + self.c) / 2\n",
    "        return sqrt(s * (s - self.a) * (s - self.b) * (s - self.c))\n",
    "\n",
    "    def perimeter(self):\n",
    "        return self.a + self.b + self.c\n",
    "\n",
    "\n",
    "circle1 = Circle(5,\"red\")\n",
    "\n",
    "print(circle1.area())\n",
    "print(circle1.perimeter())"
   ]
  },
  {
   "cell_type": "markdown",
   "id": "050954ae-4aaf-49f0-be97-dac5293b5f5c",
   "metadata": {},
   "source": [
    "# И еще"
   ]
  },
  {
   "cell_type": "markdown",
   "id": "a66b7a6e-d8d8-4a23-91f2-20b2cf4c8637",
   "metadata": {},
   "source": [
    "4. Изменить ранее написнаны классы геометрических фигур так чтобы они были наслдниками класса Shape."
   ]
  },
  {
   "cell_type": "markdown",
   "id": "d76150e4-e77d-45bd-9679-f9a5c224d7b7",
   "metadata": {},
   "source": [
    "5. Создайьте класс для учета студентов в учебном заведении. Реализуйте методы добавления нового студента(указав имя, возраст, ...), отчисление студента из учебного завдения и вывод списка всех студентов."
   ]
  },
  {
   "cell_type": "code",
   "execution_count": 13,
   "id": "d54a3098-cbaa-45e7-877b-51ddf7dc6f0e",
   "metadata": {},
   "outputs": [
    {
     "name": "stdout",
     "output_type": "stream",
     "text": [
      "['Ivan', 'Mi', 'Ti']\n",
      "['Ivan', 'Mi']\n"
     ]
    }
   ],
   "source": [
    "class School:\n",
    "\n",
    "    def __init__(self, students=set()):\n",
    "        self.students = students\n",
    "\n",
    "    def add_student(self, student):\n",
    "        self.students.add(student)\n",
    "\n",
    "    def expell_student(self, student):\n",
    "        self.students.discard(student)\n",
    "\n",
    "    def students_names(self):\n",
    "        names = []\n",
    "        for student in self.students:\n",
    "            names.append(student.name)\n",
    "        return names\n",
    "    \n",
    "\n",
    "class Student:\n",
    "    \"\"\"\n",
    "    Студент\n",
    "    \"\"\"\n",
    "\n",
    "    def __init__(self, name, surname, age, adress, grades):\n",
    "        self.name = name\n",
    "        self.surname = surname\n",
    "        self.age = age\n",
    "        self.adress = adress\n",
    "        self.grades = grades\n",
    "\n",
    "    def get_age(self):\n",
    "        return self.age\n",
    "\n",
    "    def new_grade(self, grade):\n",
    "        self.grades.append(grade)\n",
    "\n",
    "    def average_grade(self):\n",
    "        if not self.grades:\n",
    "            return 0\n",
    "        return sum(self.grades) / len(self.grades)\n",
    "\n",
    "sudent1 = Student('Mi','Kon',27, 'Ku str, 5', [10, 8, 5])\n",
    "sudent2 = Student('Ti','Sho',20, 'Lol str, 17', [1, 5, 4])\n",
    "sudent3 = Student('Ivan','Petrov',25, 'Lolu str, 10', [8, 2, 10])\n",
    "\n",
    "school1 = School()\n",
    "school1.add_student(sudent1)\n",
    "school1.add_student(sudent2)\n",
    "school1.add_student(sudent3)\n",
    "print(school1.students_names())\n",
    "\n",
    "school1.expell_student(sudent2)\n",
    "print(school1.students_names())\n"
   ]
  },
  {
   "cell_type": "markdown",
   "id": "083f236f-a104-447b-afaa-8f09f73810b6",
   "metadata": {},
   "source": [
    "6. Измените класс учебного заведния чтобы они внутри себя для хранния информации о студентах использовал класс Student."
   ]
  },
  {
   "cell_type": "markdown",
   "id": "e289a84d-a9cf-4308-97c2-bbb371e2f382",
   "metadata": {},
   "source": [
    "8. Создайте класс Polygon, который представляет многоугольник. У него должен быть атрибут для хранения списка вершин. Добавьте методы для вычисления площади и периметра многоугольника."
   ]
  },
  {
   "cell_type": "code",
   "execution_count": null,
   "id": "ee03bcad-9c0c-4a93-be63-f7c7bea3348d",
   "metadata": {},
   "outputs": [],
   "source": []
  }
 ],
 "metadata": {
  "kernelspec": {
   "display_name": "Python 3 (ipykernel)",
   "language": "python",
   "name": "python3"
  },
  "language_info": {
   "codemirror_mode": {
    "name": "ipython",
    "version": 3
   },
   "file_extension": ".py",
   "mimetype": "text/x-python",
   "name": "python",
   "nbconvert_exporter": "python",
   "pygments_lexer": "ipython3",
   "version": "3.10.10"
  }
 },
 "nbformat": 4,
 "nbformat_minor": 5
}
