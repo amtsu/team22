{
 "cells": [
  {
   "cell_type": "markdown",
   "id": "148a67cf-f3d5-4175-898e-a2201786ac66",
   "metadata": {},
   "source": [
    "# Создайте классы"
   ]
  },
  {
   "cell_type": "markdown",
   "id": "0243d851-dfd8-48d4-8cc1-36ff7ab530a1",
   "metadata": {},
   "source": [
    "1. Создайте класс Car, который представляет автомобиль. У него должны быть атрибуты для хранения модели, года выпуска, цвета, количества дверей и текущей скорости. Добавьте методы которые возвращают год, марку, цвет и текущую скорость автомобиля."
   ]
  },
  {
   "cell_type": "code",
   "execution_count": 4,
   "id": "1ef1f2e9-0b01-4918-90d4-08a3face36d8",
   "metadata": {},
   "outputs": [],
   "source": [
    "class Car:\n",
    "    \"\"\"\n",
    "    Автомобиль\n",
    "    \"\"\"\n",
    "\n",
    "    def __init__(self, brand, year, colour, doors_number, current_speed):\n",
    "        self.brand = brand\n",
    "        self.year = year\n",
    "        self.colour = colour\n",
    "        self.doors_number = doors_number\n",
    "        self.current_speed = current_speed\n",
    "\n",
    "    def get_year(self):\n",
    "        return self.year\n",
    " \n",
    "    def get_brand(self):\n",
    "        return self.brand\n",
    " \n",
    "    def get_colour(self):\n",
    "        return self.colour\n",
    " \n",
    "    def get_current_speed(self):\n",
    "        return self.current_speed"
   ]
  },
  {
   "cell_type": "code",
   "execution_count": 15,
   "id": "38a5151b-d393-47c9-b382-3afafc777a8f",
   "metadata": {},
   "outputs": [
    {
     "name": "stdout",
     "output_type": "stream",
     "text": [
      "red\n"
     ]
    }
   ],
   "source": [
    "auto1 = Car('ww',1987,'red',3, 75)\n",
    "\n",
    "print(auto1.get_colour())"
   ]
  },
  {
   "cell_type": "markdown",
   "id": "c43d2bd0-de35-4b4d-a61c-c80515a4e778",
   "metadata": {},
   "source": [
    "2. Создайте класс Student, который представляет студент. У него должны быть атрибуты для хранения имени, фамилии, возраста, адреса и список оценок."
   ]
  },
  {
   "cell_type": "code",
   "execution_count": 14,
   "id": "8d22ca9d-5cda-4f75-861e-1ae5acaf682b",
   "metadata": {},
   "outputs": [
    {
     "name": "stdout",
     "output_type": "stream",
     "text": [
      "27\n",
      "Kon\n",
      "[10, 8, 5]\n"
     ]
    }
   ],
   "source": [
    "class Student:\n",
    "    \"\"\"\n",
    "    Студент\n",
    "    \"\"\"\n",
    "\n",
    "    def __init__(self, name, surname, age, adress, grades):\n",
    "        self.name = name\n",
    "        self.surname = surname\n",
    "        self.age = age\n",
    "        self.adress = adress\n",
    "        self.grades = grades\n",
    "\n",
    "    def get_age(self):\n",
    "        return self.age\n",
    "\n",
    "\n",
    "sudent1 = Student('Mi','Kon',27, 'Ku str, 5', [10, 8, 5])\n",
    "\n",
    "print(sudent1.get_age())\n",
    "print(sudent1.surname)\n",
    "print(sudent1.grades)"
   ]
  },
  {
   "cell_type": "markdown",
   "id": "77f19efc-3227-4401-8f11-f3cac3c068dd",
   "metadata": {},
   "source": [
    "3. Создайте класс Book, который представляет книгу. У него должны быть атрибуты для хранения названия, автора, количества страниц и издательства. Добавьте методы для установки и получения этих атрибутов."
   ]
  },
  {
   "cell_type": "code",
   "execution_count": 6,
   "id": "3bf7e4db-1211-411d-90b4-784fb87e8e24",
   "metadata": {},
   "outputs": [
    {
     "name": "stdout",
     "output_type": "stream",
     "text": [
      "27\n",
      "56\n"
     ]
    }
   ],
   "source": [
    "class Book:\n",
    "    \"\"\"\n",
    "    Книга\n",
    "    \"\"\"\n",
    "\n",
    "    def __init__(self, title, author, pages_number, publisher):\n",
    "        self.title = title\n",
    "        self.author = author\n",
    "        self.pages_number = pages_number\n",
    "        self.publisher = publisher\n",
    "\n",
    "    def set_title(self, title):\n",
    "        self.title = title\n",
    "\n",
    "    def set_author(self, author):\n",
    "        self.author = author\n",
    "\n",
    "    def set_pages_number(self, pages_number):\n",
    "        self.pages_number = pages_number\n",
    "\n",
    "    def set_publisher(self, publisher):\n",
    "        self.publisher = publisher\n",
    " \n",
    "    def get_title(self):\n",
    "        return self.title\n",
    "\n",
    "    def get_author(self):\n",
    "        return self.author\n",
    "\n",
    "    def get_pages_number(self):\n",
    "        return self.pages_number\n",
    "\n",
    "    def get_publisher(self):\n",
    "        return self.publisher\n",
    "\n",
    "\n",
    "book1 = Book('Mi book','Mi', 27, 'Ku str pub')\n",
    "\n",
    "print(book1.get_pages_number())\n",
    "\n",
    "book1.set_pages_number(56)\n",
    "print(book1.get_pages_number())"
   ]
  },
  {
   "cell_type": "markdown",
   "id": "c0262c46-df82-43aa-bb2c-728c1ba9bbd0",
   "metadata": {},
   "source": [
    "4. Создайте класс ShoppingCart, который представляет корзину покупок. У него должен быть атрибут для хранения списка товаров. Добавьте методы для добавления, удаления, отображения товаров в корзине и вычиckbnt стоимости всей корзины."
   ]
  },
  {
   "cell_type": "code",
   "execution_count": 26,
   "id": "03e9834c-75ec-4413-af4c-db35beb3c0d0",
   "metadata": {},
   "outputs": [
    {
     "name": "stdout",
     "output_type": "stream",
     "text": [
      "{}\n",
      "{'яблоко': 85, 'молоко': 70, 'сыр': 300}\n",
      "{'яблоко': 85, 'сыр': 300}\n",
      "385\n"
     ]
    }
   ],
   "source": [
    "class ShoppingCart:\n",
    "    \"\"\"\n",
    "    Корзина покупок\n",
    "    \"\"\"\n",
    "\n",
    "    def __init__(self, product_list={}):\n",
    "        self.product_list = product_list\n",
    "\n",
    "    def add_product(self, product, price):\n",
    "        # self.product_list.append()\n",
    "        self.product_list[product] = price\n",
    "\n",
    "    def del_product(self, product):\n",
    "        if product in self.product_list:\n",
    "            del self.product_list[product]\n",
    "\n",
    "    def print_total(self):\n",
    "        total = 0\n",
    "        for value in self.product_list.values():\n",
    "            total += value\n",
    "        print(total)\n",
    "\n",
    "\n",
    "shcart2 = ShoppingCart()\n",
    "print(shcart2.product_list)\n",
    "\n",
    "shcart3 = ShoppingCart()\n",
    "\n",
    "shcart3.add_product(\"яблоко\", 85)\n",
    "shcart3.add_product(\"молоко\", 70)\n",
    "shcart3.add_product(\"сыр\", 300)\n",
    "print(shcart2.product_list)\n",
    "\n",
    "shcart3.del_product(\"молоко\")\n",
    "print(shcart2.product_list)\n",
    "\n",
    "shcart2.print_total()"
   ]
  },
  {
   "cell_type": "markdown",
   "id": "432cf6e3-ca93-43e4-9a48-e59bb4d6abd8",
   "metadata": {},
   "source": [
    "5. Создайте класс Circle, который представляет круг. У него должен быть атрибут для хранения радиуса и цвета. Добавьте методы для вычисления площади и периметра круга."
   ]
  },
  {
   "cell_type": "code",
   "execution_count": 33,
   "id": "dacd0562-7510-4094-8bc7-7f338e80bbbf",
   "metadata": {},
   "outputs": [
    {
     "name": "stdout",
     "output_type": "stream",
     "text": [
      "78.53981633974483\n",
      "31.41592653589793\n"
     ]
    }
   ],
   "source": [
    "import math\n",
    "\n",
    "class Circle:\n",
    "\n",
    "    def __init__(self, radius, color):\n",
    "        self.radius = radius\n",
    "        self.color = color\n",
    "\n",
    "    def calc_area(self):\n",
    "        return math.pi*self.radius**2\n",
    "\n",
    "    def calc_perimeter(self):\n",
    "        return 2*math.pi*self.radius\n",
    "    \n",
    "        \n",
    "circle1 = Circle(5,\"red\")\n",
    "\n",
    "print(circle1.calc_area())\n",
    "print(circle1.calc_perimeter())"
   ]
  },
  {
   "cell_type": "markdown",
   "id": "5ecd4418-059e-4fe8-a125-da74ce98fefd",
   "metadata": {},
   "source": [
    "6. Создайте класс Point, который представляет точку в двумерном пространстве. У него должны быть атрибуты для хранения координат x и y. Добавьте методы для вычисления расстояния между двумя точками."
   ]
  },
  {
   "cell_type": "code",
   "execution_count": 40,
   "id": "58b9bba4-6237-49e9-beee-5ac271407569",
   "metadata": {},
   "outputs": [
    {
     "name": "stdout",
     "output_type": "stream",
     "text": [
      "5.830951894845301\n"
     ]
    }
   ],
   "source": [
    "import math\n",
    "\n",
    "class Point:\n",
    "\n",
    "    def __init__(self, x, y):\n",
    "        self.x = x\n",
    "        self.y = y\n",
    "\n",
    "    def two_dots_distance(self, second_point):\n",
    "        first_cat = self.x - second_point.x\n",
    "        second_cat = self.y - second_point.y\n",
    "        return math.sqrt(first_cat**2+second_cat**2)\n",
    "\n",
    "\n",
    "p1 = Point(3,10)\n",
    "p2 = Point(0,5)\n",
    "\n",
    "print(p1.two_dots_distance(p2))"
   ]
  },
  {
   "cell_type": "markdown",
   "id": "2db5f269-f0d3-4ddf-ac39-8475e74c5653",
   "metadata": {},
   "source": [
    "7. Создайте класс Triangle, который представляет треугольник. У него должны быть атрибуты длины сторон. Добавьте методы для вычисления перимера треугольника и методы вычисления типа треугольника ( равностороннйи, павнобедренный, прямоуголный или разносторонний)."
   ]
  },
  {
   "cell_type": "code",
   "execution_count": 47,
   "id": "eaa8da7d-8993-4bc6-8c42-8a02f9569c6f",
   "metadata": {},
   "outputs": [
    {
     "name": "stdout",
     "output_type": "stream",
     "text": [
      "11\n",
      "тупоугольный\n"
     ]
    }
   ],
   "source": [
    "class Triangle:\n",
    "\n",
    "    def __init__(self, a, b, c):\n",
    "        self.a = a\n",
    "        self.b = b\n",
    "        self.c = c\n",
    "\n",
    "    def calc_perimeter(self):\n",
    "        return self.a + self.b + self.c\n",
    "\n",
    "    def triangle_type(self) -> str:\n",
    "        \"\"\"\n",
    "        Функция, определяющая тип треугольника по длинам его сторон\n",
    "        \"\"\"\n",
    "        a = self.a\n",
    "        b = self.b\n",
    "        c = self.c\n",
    "        \n",
    "        result = \"не треугольник\"\n",
    "        triangle_exist = (a < (b + c)) and (b < (a + c)) and (c < (a + b))\n",
    "        if triangle_exist:\n",
    "            sides = [a, b, c]\n",
    "            sides.sort()\n",
    "            acuteTriangle = (sides[0]**2 + sides[1]**2) > sides[2]**2\n",
    "            obtuseTriangle = (sides[0]**2 + sides[1]**2) < sides[2]**2\n",
    "            rightTriangle = abs((sides[0]**2 + sides[1]**2) - sides[2]**2) <= 0.01\n",
    "    \n",
    "            if acuteTriangle:\n",
    "                result = \"остроугольный\"\n",
    "            elif obtuseTriangle:\n",
    "                result = \"тупоугольный\"\n",
    "            elif rightTriangle:\n",
    "                result  = \"прямоугольный\"\n",
    "        return result\n",
    "\n",
    "tr1 = Triangle(5,3,3)\n",
    "\n",
    "print(tr1.calc_perimeter())\n",
    "print(tr1.triangle_type())"
   ]
  },
  {
   "cell_type": "markdown",
   "id": "8d07e3e4-f1f7-410a-bbe7-dbcf5e2d8ee7",
   "metadata": {},
   "source": [
    "8. Создайте класс BankAccount, который представляет банковский счет. У него должны быть атрибуты для хранения номера счета, имени владельца и баланса. Добавьте методы для внесения и снятия денег со счета."
   ]
  },
  {
   "cell_type": "code",
   "execution_count": 48,
   "id": "5e844691-3ed6-438c-a60b-f08de0d8fdaa",
   "metadata": {},
   "outputs": [
    {
     "name": "stdout",
     "output_type": "stream",
     "text": [
      "1700\n",
      "1600\n"
     ]
    }
   ],
   "source": [
    "class BankAccount:\n",
    "\n",
    "    def __init__(self, number, name, balance):\n",
    "        self.number = number\n",
    "        self.name = name\n",
    "        self.balance = balance\n",
    "\n",
    "    def add_money(self, amount):\n",
    "        self.balance += amount\n",
    "\n",
    "    def get_money(self, amount):\n",
    "        self.balance -= amount\n",
    "\n",
    "ba1 = BankAccount(123, \"Sam Dale\", 500)\n",
    "\n",
    "ba1.add_money(1200)\n",
    "print(ba1.balance)\n",
    "\n",
    "ba1.get_money(100)\n",
    "print(ba1.balance)"
   ]
  },
  {
   "cell_type": "markdown",
   "id": "2d849ca5-a527-41cc-9ebf-705f76799e49",
   "metadata": {},
   "source": [
    "9. Создайте класс Date, который представляет дату. У него должны быть атрибуты для хранения дня, месяца и года. Добавьте методы для сравнения двух дат и вычисления разницы между ними."
   ]
  },
  {
   "cell_type": "code",
   "execution_count": 77,
   "id": "8b9f9ebe-77f0-427a-8bd1-e6078846a65f",
   "metadata": {},
   "outputs": [
    {
     "name": "stdout",
     "output_type": "stream",
     "text": [
      "-11967\n",
      "1991-09-12 меньше 2024-06-17\n"
     ]
    }
   ],
   "source": [
    "from datetime import datetime\n",
    "\n",
    "class Date:\n",
    "\n",
    "    def __init__(self, day, month, year):\n",
    "        self.date = datetime(year, month, day)\n",
    "\n",
    "    def __str__(self):\n",
    "        return self.date.strftime('%Y-%m-%d')\n",
    "\n",
    "    def date_gap(self, second_date):\n",
    "        gap = self.date - second_date.date\n",
    "        return gap.days\n",
    "\n",
    "    def compare(self, second_date):\n",
    "        gap = self.date - second_date.date\n",
    "        if gap == 0:\n",
    "            return f'{self}={second_date}'\n",
    "        if int(gap.days) > 0:\n",
    "            return f'{self} больше {second_date}'\n",
    "        if int(gap.days) < 0:\n",
    "            return f'{self} меньше {second_date}'\n",
    "\n",
    "date1 = Date(12, 9, 1991)\n",
    "date2 = Date(17, 6, 2024)\n",
    "\n",
    "print(date1.date_gap(date2))\n",
    "print(date1.compare(date2))"
   ]
  },
  {
   "cell_type": "markdown",
   "id": "1c196431-3d1f-472f-aedb-8627caa8a05c",
   "metadata": {},
   "source": [
    "# Оформите каждый класс в отдельный модуль и напишиет на эти классы тесты."
   ]
  },
  {
   "cell_type": "code",
   "execution_count": 80,
   "id": "ee03bcad-9c0c-4a93-be63-f7c7bea3348d",
   "metadata": {},
   "outputs": [
    {
     "name": "stdout",
     "output_type": "stream",
     "text": [
      "red\n"
     ]
    }
   ],
   "source": [
    "from car import Car \n",
    "\n",
    "auto1 = Car('ww',1987,'red',3, 75)\n",
    "\n",
    "print(auto1.get_colour())"
   ]
  },
  {
   "cell_type": "code",
   "execution_count": 86,
   "id": "96e965ce-c45a-461f-a3a3-5490b81bd7c4",
   "metadata": {},
   "outputs": [],
   "source": [
    "def test_car_color():\n",
    "    \"\"\"\n",
    "    тестируем класс Car\n",
    "    \"\"\"\n",
    "    input = ['ww',1987,'red',3, 75]\n",
    "    expected =  \"red\"\n",
    "    auto = Car(*input)\n",
    "    assert expected == auto.get_colour()\n",
    "\n",
    "def test_car_year():\n",
    "    \"\"\"\n",
    "    тестируем класс Car\n",
    "    \"\"\"\n",
    "    input = ['ww',1987,'red',3, 75]\n",
    "    expected =  1987\n",
    "    auto = Car(*input)\n",
    "    assert expected == auto.get_year()\n",
    "\n",
    "\n",
    "test_car_color()\n",
    "test_car_year()"
   ]
  }
 ],
 "metadata": {
  "kernelspec": {
   "display_name": "Python 3 (ipykernel)",
   "language": "python",
   "name": "python3"
  },
  "language_info": {
   "codemirror_mode": {
    "name": "ipython",
    "version": 3
   },
   "file_extension": ".py",
   "mimetype": "text/x-python",
   "name": "python",
   "nbconvert_exporter": "python",
   "pygments_lexer": "ipython3",
   "version": "3.10.10"
  }
 },
 "nbformat": 4,
 "nbformat_minor": 5
}
