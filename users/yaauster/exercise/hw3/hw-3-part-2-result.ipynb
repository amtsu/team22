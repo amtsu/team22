{
 "cells": [
  {
   "cell_type": "code",
   "execution_count": 1,
   "id": "b1377839-6fdd-4b95-87bf-ad8377d0dd1a",
   "metadata": {},
   "outputs": [
    {
     "data": {
      "text/plain": [
       "80"
      ]
     },
     "execution_count": 1,
     "metadata": {},
     "output_type": "execute_result"
    }
   ],
   "source": [
    "10 * (5 + 3)"
   ]
  },
  {
   "cell_type": "code",
   "execution_count": 2,
   "id": "7a595d04-6b39-4ae0-893b-10fb204116fc",
   "metadata": {},
   "outputs": [
    {
     "data": {
      "text/plain": [
       "7.0"
      ]
     },
     "execution_count": 2,
     "metadata": {},
     "output_type": "execute_result"
    }
   ],
   "source": [
    "(20 - 6) / 2"
   ]
  },
  {
   "cell_type": "code",
   "execution_count": 3,
   "id": "7a0a3d64-ec76-4566-bacd-82da28a34245",
   "metadata": {},
   "outputs": [
    {
     "data": {
      "text/plain": [
       "32"
      ]
     },
     "execution_count": 3,
     "metadata": {},
     "output_type": "execute_result"
    }
   ],
   "source": [
    "2 ** 5"
   ]
  },
  {
   "cell_type": "code",
   "execution_count": 4,
   "id": "92e325fc-e665-4c7c-ad02-bdf71d2aaabb",
   "metadata": {},
   "outputs": [
    {
     "data": {
      "text/plain": [
       "6"
      ]
     },
     "execution_count": 4,
     "metadata": {},
     "output_type": "execute_result"
    }
   ],
   "source": [
    "25 // 4"
   ]
  },
  {
   "cell_type": "code",
   "execution_count": 10,
   "id": "f66b7494-fa63-4a86-86fa-8dd6923d9f71",
   "metadata": {},
   "outputs": [],
   "source": [
    "number = -3.14"
   ]
  },
  {
   "cell_type": "code",
   "execution_count": 13,
   "id": "a36909f6-0d44-4b4f-9414-62c2dbbff21c",
   "metadata": {},
   "outputs": [
    {
     "data": {
      "text/plain": [
       "-4.0"
      ]
     },
     "execution_count": 13,
     "metadata": {},
     "output_type": "execute_result"
    }
   ],
   "source": [
    "number//1"
   ]
  },
  {
   "cell_type": "code",
   "execution_count": 14,
   "id": "ad9e18b1-1e3b-4b28-b63c-04c28068c528",
   "metadata": {},
   "outputs": [
    {
     "data": {
      "text/plain": [
       "-3"
      ]
     },
     "execution_count": 14,
     "metadata": {},
     "output_type": "execute_result"
    }
   ],
   "source": [
    "round(number)"
   ]
  },
  {
   "cell_type": "code",
   "execution_count": 22,
   "id": "1f3ec4b0-ac9e-495a-b90b-6bd1d5bf932c",
   "metadata": {},
   "outputs": [
    {
     "data": {
      "text/plain": [
       "-0.14000000000000012"
      ]
     },
     "execution_count": 22,
     "metadata": {},
     "output_type": "execute_result"
    }
   ],
   "source": [
    "number-round(number)"
   ]
  },
  {
   "cell_type": "markdown",
   "id": "6a379aed-6246-4f33-8aa5-d4db59a1a94c",
   "metadata": {},
   "source": [
    "еще варианты пробую"
   ]
  },
  {
   "cell_type": "code",
   "execution_count": 24,
   "id": "5746b892-45ad-42a5-a20a-3837daefde2f",
   "metadata": {},
   "outputs": [
    {
     "data": {
      "text/plain": [
       "0.8599999999999999"
      ]
     },
     "execution_count": 24,
     "metadata": {},
     "output_type": "execute_result"
    }
   ],
   "source": [
    "number%1"
   ]
  },
  {
   "cell_type": "code",
   "execution_count": 26,
   "id": "63364abb-b2be-42d4-aa23-792ab65e52a1",
   "metadata": {},
   "outputs": [
    {
     "data": {
      "text/plain": [
       "-0.14000000000000012"
      ]
     },
     "execution_count": 26,
     "metadata": {},
     "output_type": "execute_result"
    }
   ],
   "source": [
    "number%-1"
   ]
  },
  {
   "cell_type": "markdown",
   "id": "3eff34d6-b53f-40d6-acbf-e96ef6618d73",
   "metadata": {},
   "source": [
    "**как форматировать здесь текст?**"
   ]
  },
  {
   "cell_type": "code",
   "execution_count": 38,
   "id": "c2455464-9cd9-4be4-8c47-e7a429e284e3",
   "metadata": {},
   "outputs": [
    {
     "data": {
      "text/plain": [
       "35"
      ]
     },
     "execution_count": 38,
     "metadata": {},
     "output_type": "execute_result"
    }
   ],
   "source": [
    "a = 5\n",
    "b = 7\n",
    "a * b"
   ]
  },
  {
   "cell_type": "code",
   "execution_count": 50,
   "id": "ebe3bbfe-f983-4a6b-87fb-a9113886623b",
   "metadata": {},
   "outputs": [
    {
     "data": {
      "text/plain": [
       "'Кондер должен быть расчитан на 125 м3'"
      ]
     },
     "execution_count": 50,
     "metadata": {},
     "output_type": "execute_result"
    }
   ],
   "source": [
    "f'Кондер должен быть расчитан на {round((3.5*4.5+3.4*4+11)*3.1)} м3'"
   ]
  },
  {
   "cell_type": "code",
   "execution_count": 15,
   "id": "4baaab16-9ee5-4c63-b1d4-78d4ecbd1ea0",
   "metadata": {},
   "outputs": [
    {
     "name": "stdout",
     "output_type": "stream",
     "text": [
      "Дискриминант равен: 161\n"
     ]
    }
   ],
   "source": [
    "#ax^2 + bx + c = 0\n",
    "a = 2\n",
    "b = 9\n",
    "c = -10\n",
    "\n",
    "D = b**2 - 4*a*c\n",
    "\n",
    "print(\"Дискриминант равен:\", D)"
   ]
  },
  {
   "cell_type": "code",
   "execution_count": 19,
   "id": "6d6e8eb2-fa7a-4857-97c9-0631d3f7e302",
   "metadata": {},
   "outputs": [
    {
     "name": "stdout",
     "output_type": "stream",
     "text": [
      "Корни уравнения: 0.9221443851123801 -5.4221443851123805\n"
     ]
    }
   ],
   "source": [
    "import math\n",
    "\n",
    "x1 = (-b + math.sqrt(D)) / (2*a)\n",
    "x2 = (-b - math.sqrt(D)) / (2*a)\n",
    "\n",
    "print(\"Корни уравнения:\", x1, x2)"
   ]
  },
  {
   "cell_type": "code",
   "execution_count": 9,
   "id": "fb621c99-bad9-45b4-ae79-52d658d308c5",
   "metadata": {},
   "outputs": [
    {
     "name": "stdout",
     "output_type": "stream",
     "text": [
      "Hello, world!\n"
     ]
    }
   ],
   "source": [
    "string1 = \"hello, \"\n",
    "string2 = \"world!\"\n",
    "\n",
    "hi = string1.capitalize() + string2\n",
    "print(hi)"
   ]
  },
  {
   "cell_type": "code",
   "execution_count": 64,
   "id": "4b2cb56f-8bf3-453e-862e-084e19b21158",
   "metadata": {},
   "outputs": [
    {
     "data": {
      "text/plain": [
       "13"
      ]
     },
     "execution_count": 64,
     "metadata": {},
     "output_type": "execute_result"
    }
   ],
   "source": [
    "len(hi)"
   ]
  },
  {
   "cell_type": "code",
   "execution_count": 65,
   "id": "00b09ab0-0251-43e5-beb2-0a1041d278d0",
   "metadata": {},
   "outputs": [
    {
     "data": {
      "text/plain": [
       "'lalalalalalalalalalalalalalalalalalalalalalalalala'"
      ]
     },
     "execution_count": 65,
     "metadata": {},
     "output_type": "execute_result"
    }
   ],
   "source": [
    "'la'*25"
   ]
  },
  {
   "cell_type": "code",
   "execution_count": 74,
   "id": "7b5871d5-59a9-4960-a6cf-b50075fd02fc",
   "metadata": {},
   "outputs": [
    {
     "data": {
      "text/plain": [
       "[1, 'hi', 3, 4, 5]"
      ]
     },
     "execution_count": 74,
     "metadata": {},
     "output_type": "execute_result"
    }
   ],
   "source": [
    "numbers = [1, 2, 3, 4, 5]\n",
    "numbers[1] = \"hi\"\n",
    "numbers"
   ]
  },
  {
   "cell_type": "code",
   "execution_count": 75,
   "id": "d1a7b208-555d-4a79-9907-70ab00cf123c",
   "metadata": {},
   "outputs": [
    {
     "data": {
      "text/plain": [
       "'hi'"
      ]
     },
     "execution_count": 75,
     "metadata": {},
     "output_type": "execute_result"
    }
   ],
   "source": [
    "numbers[1] # если позиция = порядковый номер"
   ]
  },
  {
   "cell_type": "code",
   "execution_count": 76,
   "id": "33d080f3-f086-4e3c-9577-9434fa0eb59f",
   "metadata": {},
   "outputs": [
    {
     "data": {
      "text/plain": [
       "[1, 'hi', 3, 4, [8, 6, 4]]"
      ]
     },
     "execution_count": 76,
     "metadata": {},
     "output_type": "execute_result"
    }
   ],
   "source": [
    "numbers[4] = [8, 6, 4]  # если позиция = индекс\n",
    "numbers"
   ]
  },
  {
   "cell_type": "code",
   "execution_count": 79,
   "id": "1aea7e10-fa7a-4be2-916c-9d6771fd7b94",
   "metadata": {},
   "outputs": [
    {
     "data": {
      "text/plain": [
       "[3, 4, 5, 6, 7]"
      ]
     },
     "execution_count": 79,
     "metadata": {},
     "output_type": "execute_result"
    }
   ],
   "source": [
    "numbers = [1, 2, 3, 4, 5, 6, 7, 8, 9, 10]\n",
    "numbers[2:7] # если номера в задании = порядковые номера. с 3 по 7"
   ]
  }
 ],
 "metadata": {
  "kernelspec": {
   "display_name": "Python 3 (ipykernel)",
   "language": "python",
   "name": "python3"
  },
  "language_info": {
   "codemirror_mode": {
    "name": "ipython",
    "version": 3
   },
   "file_extension": ".py",
   "mimetype": "text/x-python",
   "name": "python",
   "nbconvert_exporter": "python",
   "pygments_lexer": "ipython3",
   "version": "3.10.10"
  }
 },
 "nbformat": 4,
 "nbformat_minor": 5
}
