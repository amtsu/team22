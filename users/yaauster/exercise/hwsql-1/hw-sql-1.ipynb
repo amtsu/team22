{
 "cells": [
  {
   "cell_type": "markdown",
   "id": "ad735e6d-f3ea-41ad-af96-31bcb35388d8",
   "metadata": {},
   "source": [
    "# SQL"
   ]
  },
  {
   "cell_type": "markdown",
   "id": "d9daefc1-b83c-4c1a-b8a1-962a4247ff8d",
   "metadata": {},
   "source": [
    "Для анализа дан небольшой фаил размеров в 240 Мб содержащий только информацию о новостройках. Содержит срезы на каждый день(кроме дней поломок - простоя сервиса) Т.е. есть по каждому обекту есть информация за каждый день. Подучатеся в год(365 дней) информация об обект дублируется 365 раз.\n",
    "Учтите что сложный селект может работать не быстро."
   ]
  },
  {
   "cell_type": "markdown",
   "id": "f290d893-c83b-430b-a821-759c7a9e062d",
   "metadata": {},
   "source": [
    "Для анализа использовать фаил с базой /home/synchronize_data/price_analytics/24.db.copied"
   ]
  },
  {
   "cell_type": "code",
   "execution_count": 1,
   "id": "7c9f9a58-9cdc-481c-b296-550d18f5dc9a",
   "metadata": {},
   "outputs": [
    {
     "name": "stdout",
     "output_type": "stream",
     "text": [
      "-rw-r--r-- 1 synchronize_data synchronize_data 272957440 Jun 19 16:10 /home/synchronize_data/price_analytics/24.db.copied\n"
     ]
    }
   ],
   "source": [
    "!ls -la /home/synchronize_data/price_analytics/24.db.copied"
   ]
  },
  {
   "cell_type": "markdown",
   "id": "7697b022-d2ce-43b6-ab30-f63107fd46ef",
   "metadata": {},
   "source": [
    "# Пример использования: задача вывести самую дорогую квартиру из имеющихся."
   ]
  },
  {
   "cell_type": "markdown",
   "id": "ab4a29ae-3c05-4e51-b079-9d2f8040b7a5",
   "metadata": {},
   "source": [
    "Запустите следующие 6 строчек, они должны отработать корректно."
   ]
  },
  {
   "cell_type": "code",
   "execution_count": 8,
   "id": "a66c22d7-ee84-4688-a0a1-44f84b10f1d7",
   "metadata": {},
   "outputs": [
    {
     "name": "stdout",
     "output_type": "stream",
     "text": [
      "Defaulting to user installation because normal site-packages is not writeable\n",
      "Requirement already satisfied: matplotlib in /home/jupyter-find-y/.local/lib/python3.10/site-packages (3.9.0)\n",
      "Requirement already satisfied: contourpy>=1.0.1 in /home/jupyter-find-y/.local/lib/python3.10/site-packages (from matplotlib) (1.2.1)\n",
      "Requirement already satisfied: cycler>=0.10 in /home/jupyter-find-y/.local/lib/python3.10/site-packages (from matplotlib) (0.12.1)\n",
      "Requirement already satisfied: fonttools>=4.22.0 in /home/jupyter-find-y/.local/lib/python3.10/site-packages (from matplotlib) (4.53.0)\n",
      "Requirement already satisfied: kiwisolver>=1.3.1 in /home/jupyter-find-y/.local/lib/python3.10/site-packages (from matplotlib) (1.4.5)\n",
      "Requirement already satisfied: numpy>=1.23 in /home/jupyter-find-y/.local/lib/python3.10/site-packages (from matplotlib) (2.0.0)\n",
      "Requirement already satisfied: packaging>=20.0 in /opt/tljh/user/lib/python3.10/site-packages (from matplotlib) (23.2)\n",
      "Requirement already satisfied: pillow>=8 in /home/jupyter-find-y/.local/lib/python3.10/site-packages (from matplotlib) (10.3.0)\n",
      "Requirement already satisfied: pyparsing>=2.3.1 in /home/jupyter-find-y/.local/lib/python3.10/site-packages (from matplotlib) (3.1.2)\n",
      "Requirement already satisfied: python-dateutil>=2.7 in /opt/tljh/user/lib/python3.10/site-packages (from matplotlib) (2.8.2)\n",
      "Requirement already satisfied: six>=1.5 in /opt/tljh/user/lib/python3.10/site-packages (from python-dateutil>=2.7->matplotlib) (1.16.0)\n",
      "\n",
      "\u001b[1m[\u001b[0m\u001b[34;49mnotice\u001b[0m\u001b[1;39;49m]\u001b[0m\u001b[39;49m A new release of pip is available: \u001b[0m\u001b[31;49m23.3.2\u001b[0m\u001b[39;49m -> \u001b[0m\u001b[32;49m24.1\u001b[0m\n",
      "\u001b[1m[\u001b[0m\u001b[34;49mnotice\u001b[0m\u001b[1;39;49m]\u001b[0m\u001b[39;49m To update, run: \u001b[0m\u001b[32;49mpip install --upgrade pip\u001b[0m\n"
     ]
    }
   ],
   "source": [
    "!pip install matplotlib"
   ]
  },
  {
   "cell_type": "code",
   "execution_count": 9,
   "id": "2f19a55a-ad2b-40c5-b33a-4ff94b0aaac2",
   "metadata": {},
   "outputs": [
    {
     "ename": "ModuleNotFoundError",
     "evalue": "No module named 'matplotlib'",
     "output_type": "error",
     "traceback": [
      "\u001b[0;31m---------------------------------------------------------------------------\u001b[0m",
      "\u001b[0;31mModuleNotFoundError\u001b[0m                       Traceback (most recent call last)",
      "Cell \u001b[0;32mIn[9], line 1\u001b[0m\n\u001b[0;32m----> 1\u001b[0m \u001b[38;5;28;01mimport\u001b[39;00m \u001b[38;5;21;01mmatplotlib\u001b[39;00m\u001b[38;5;21;01m.\u001b[39;00m\u001b[38;5;21;01mpyplot\u001b[39;00m \u001b[38;5;28;01mas\u001b[39;00m \u001b[38;5;21;01mplt\u001b[39;00m\n\u001b[1;32m      2\u001b[0m \u001b[38;5;28;01mimport\u001b[39;00m \u001b[38;5;21;01msqlite3\u001b[39;00m\n\u001b[1;32m      3\u001b[0m \u001b[38;5;28;01mimport\u001b[39;00m \u001b[38;5;21;01mjson\u001b[39;00m\n",
      "\u001b[0;31mModuleNotFoundError\u001b[0m: No module named 'matplotlib'"
     ]
    }
   ],
   "source": [
    "import matplotlib.pyplot as plt\n",
    "import sqlite3\n",
    "import json"
   ]
  },
  {
   "cell_type": "code",
   "execution_count": 54,
   "id": "58a22a56-9b2a-4bb3-aebb-4cdc127088c3",
   "metadata": {},
   "outputs": [],
   "source": [
    "connection = sqlite3.connect('/home/synchronize_data/price_analytics/24.db.copied')\n",
    "cursor = connection.cursor()"
   ]
  },
  {
   "cell_type": "markdown",
   "id": "00e2515d-6736-46ad-8d5b-7b9b6ad0acb6",
   "metadata": {},
   "source": [
    "Поля рекомендованные:\n",
    "            id,\n",
    "            \"title\",\n",
    "            \"price\",\n",
    "            \"price_sale\",\n",
    "            date(datetime_create) as date,\n",
    "            \"brand\",\n",
    "            \"apartment_area\",\n",
    "            \"apartment_floor\",\n",
    "            \"apartment_floors_total\",\n",
    "            \"apartment_room\",\n",
    "            \"apartment_ppm\""
   ]
  },
  {
   "cell_type": "code",
   "execution_count": 55,
   "id": "032f49e4-7990-46ce-a94e-c5492e646635",
   "metadata": {},
   "outputs": [
    {
     "data": {
      "text/plain": [
       "<sqlite3.Cursor at 0x7f30bb04c140>"
      ]
     },
     "execution_count": 55,
     "metadata": {},
     "output_type": "execute_result"
    }
   ],
   "source": [
    "cursor.execute(\"\"\"\n",
    "SELECT \n",
    "    *\n",
    "FROM copied\n",
    "where \n",
    "    category = \"Новостройки\" \n",
    "    or category = \"Реновация\"\n",
    "ORDER BY price desc\n",
    "LIMIT 1\n",
    "\"\"\")"
   ]
  },
  {
   "cell_type": "code",
   "execution_count": 56,
   "id": "849df813-48b7-4e85-a356-0820d3977141",
   "metadata": {},
   "outputs": [],
   "source": [
    "flat = cursor.fetchall()"
   ]
  },
  {
   "cell_type": "code",
   "execution_count": 57,
   "id": "58d9a66d-4cb6-4322-9f50-6a5f9e1130df",
   "metadata": {},
   "outputs": [
    {
     "data": {
      "text/plain": [
       "[(1115,\n",
       "  'Саввинская 27 27 6 236.6 Саввинская 27 55.730669,37.557942',\n",
       "  809619049,\n",
       "  809619049,\n",
       "  '2022-12-05 13:53:38.523453',\n",
       "  'Новостройки',\n",
       "  'level.ru',\n",
       "  'https://level.ru/sav27/apartment/4room/4-13/',\n",
       "  236.6,\n",
       "  None,\n",
       "  None,\n",
       "  None,\n",
       "  None)]"
      ]
     },
     "execution_count": 57,
     "metadata": {},
     "output_type": "execute_result"
    }
   ],
   "source": [
    "flat"
   ]
  },
  {
   "cell_type": "markdown",
   "id": "7e73832c-7c8c-4773-9d74-2e6be5c5eb58",
   "metadata": {},
   "source": [
    "# Задачи:"
   ]
  },
  {
   "cell_type": "markdown",
   "id": "ce78507f-af7a-4c5b-9e10-eed65ca16061",
   "metadata": {},
   "source": [
    "Выведите список новостроек в порядке убывания количества доступных к покупке квартир."
   ]
  },
  {
   "cell_type": "markdown",
   "id": "a0f62b71-c5ab-4677-9a94-f959cc36379b",
   "metadata": {},
   "source": [
    "Найдите среднюю цену квадратного метра по всем новостройкам  "
   ]
  },
  {
   "cell_type": "markdown",
   "id": "97e0cd58-f4da-4cc4-be46-a31cf6efb2f1",
   "metadata": {},
   "source": [
    "Выведите список новостроек в порядке убывания общего количества квартир.  "
   ]
  },
  {
   "cell_type": "markdown",
   "id": "54643c98-ef8a-430c-b1b5-1ef4bdd2b512",
   "metadata": {},
   "source": [
    "Найдите среднюю площадь квартир в новостройках с количеством комнат больше 3  "
   ]
  },
  {
   "cell_type": "markdown",
   "id": "f895698b-3e50-4b2b-ba05-99c8777a9d75",
   "metadata": {},
   "source": [
    "Найдите среднюю цену квадратного метра по всем новостройкам на конкретный день.  "
   ]
  },
  {
   "cell_type": "markdown",
   "id": "c9df5b7b-f465-41a2-9f2d-2a1bb819159c",
   "metadata": {},
   "source": [
    "Найдите среднюю цен за квадратный метр в новостройках с количеством этажей больше 15.  "
   ]
  },
  {
   "cell_type": "markdown",
   "id": "fb7ad901-de35-4d44-b782-a987f92a8377",
   "metadata": {},
   "source": [
    "Найти все новостройки которые появились в 2023 году  "
   ]
  },
  {
   "cell_type": "markdown",
   "id": "71cf968e-f47c-4ae6-90ed-09ba4042c06c",
   "metadata": {},
   "source": [
    "Найти все новостройки которые имеют больше 50 квартир  "
   ]
  },
  {
   "cell_type": "markdown",
   "id": "1cac8b36-3e27-4453-a9e5-cd0f6a5f0709",
   "metadata": {},
   "source": [
    "Найдите максимальную и минимальную цену среди всех новостроек  "
   ]
  },
  {
   "cell_type": "markdown",
   "id": "9b91d744-b65b-43a4-b3c4-9fa3767b93f2",
   "metadata": {},
   "source": [
    "Найти все новостройки в которых есть квартиры площадью больше 100 кв метров  "
   ]
  },
  {
   "cell_type": "markdown",
   "id": "78e2fcfa-3791-4c36-ae91-c98e7b275a8f",
   "metadata": {},
   "source": [
    "Найти новостройки котрые были построекны застройщщиком Донстрой  "
   ]
  },
  {
   "cell_type": "markdown",
   "id": "4b2bd6e0-1cf8-4d8d-9753-76986220d5e7",
   "metadata": {},
   "source": [
    "Найти всех застройщиков которые построили более 5 новостроек в 2023 году  "
   ]
  },
  {
   "cell_type": "markdown",
   "id": "dd799038-3e1b-4400-a975-dde5c87905b6",
   "metadata": {},
   "source": [
    "Вывести список жилых комплексов с наибольшим количеством проданных квартир за последние 3 месяца. Вывести количество проданных квартир и процент от общего количества квартир этого комплекса"
   ]
  },
  {
   "cell_type": "markdown",
   "id": "e31d528b-8f5f-4104-9473-6c0bc211cd23",
   "metadata": {},
   "source": [
    "# Задачи с обогащением:"
   ]
  },
  {
   "cell_type": "markdown",
   "id": "7e3b57ee-1275-4708-ae38-b724716478bb",
   "metadata": {},
   "source": [
    "Построить месячный график количества продаж новостроек за последний год.  "
   ]
  },
  {
   "cell_type": "markdown",
   "id": "231a9dd3-9684-43d0-9fc0-2dbc0b498866",
   "metadata": {},
   "source": [
    "Выведите список новостроек в западном районе.  "
   ]
  },
  {
   "cell_type": "markdown",
   "id": "60f70f15-2e88-4362-9d9e-8f198d4e9be9",
   "metadata": {},
   "source": [
    "Найти все новостройки в ЗАО и СЗАО которые имеют больше 10 этажей  "
   ]
  },
  {
   "cell_type": "markdown",
   "id": "4d19d15d-9598-43f1-87f0-c62eb2ba4995",
   "metadata": {},
   "source": [
    "Найти самый популярный размер квартир в каждом округе Москвы, и посчитать количеств продаж каждого размера ( сейчас за размер принимаем количество комнат)  "
   ]
  },
  {
   "cell_type": "markdown",
   "id": "077f8aff-3359-438d-a50c-a4798a7dc322",
   "metadata": {},
   "source": [
    "Найти все новостройки в пределах заданного радиуса от опеределнного места. И определить расстояние от каждой новостройки до заданного места, распределив их по возрастанию расстояния до заданного места.  "
   ]
  },
  {
   "cell_type": "markdown",
   "id": "fafe1d96-a107-445f-b19d-9bf210e3da79",
   "metadata": {},
   "source": [
    "Построить график средней стоимости квадратного метра по месяцам, начиная с q2 2023 по q2 2024  "
   ]
  },
  {
   "cell_type": "markdown",
   "id": "c904eafa-c796-4159-b006-f12c70bb6e93",
   "metadata": {},
   "source": [
    "Найти все новостройки в которых есть квартиры с видом на определенный объект ( например парк, реку, останкинскую телебашню, москва сити или другую достопримечательность)."
   ]
  },
  {
   "cell_type": "markdown",
   "id": "b65252e0-61c4-4bbb-aca6-848502e3e1b7",
   "metadata": {},
   "source": [
    "Показать информацию о количестве квартир с таким видом их средние площади и стоимости.  "
   ]
  },
  {
   "cell_type": "markdown",
   "id": "a31e6145-72f0-47b9-9353-c575a8c7744d",
   "metadata": {},
   "source": [
    "Вывести список жилых комплексов с наибольшей разницей между стоимостью квартир в них и среденей стоимостью квартир в районе. Рассчитать процентное отклонение цены каждой квартиры от средней цены по району.  "
   ]
  },
  {
   "cell_type": "markdown",
   "id": "4d32e9fb-5ae6-4025-8327-1a66c2d5c41c",
   "metadata": {},
   "source": [
    "Начиная с 2023 года, построить несколько графиков по месяцам : стоимости кв метра квартир, курса доллара(сколько рублей за один доллар), ключевой ставки, уровень безработиц, численность населения в городе, среднее количество детей в семье, количество сделок по ипотеке, количество сделок по льготным ипотечным программам,  "
   ]
  },
  {
   "cell_type": "markdown",
   "id": "1715089b-1fae-471f-8156-b541121ee8b0",
   "metadata": {},
   "source": [
    "Найти все новостройки информация о которых появилась в 2023 году имеют рейтинг выше среднего по городу. Вывести список этих новостроек, среднее, минимальное и максимальное количество этажей в них, в разрезе типа квартир ( тип это количество комнат ) с количеством квартир.  "
   ]
  },
  {
   "cell_type": "markdown",
   "id": "818827eb-ece9-496e-a31c-b41883d2a9e0",
   "metadata": {},
   "source": [
    "Вывести весь жк квартиры в которых были введены в эксплуатацию с чистовой отделкой в 2024 году  "
   ]
  },
  {
   "cell_type": "markdown",
   "id": "5cc6a272-1d32-4e36-8454-3640a424deb8",
   "metadata": {},
   "source": [
    "вывести список жк бизнес класса в ВАО города Москвы района Измайлово, ключи от которых владельцы получили в 2023  "
   ]
  },
  {
   "cell_type": "markdown",
   "id": "e283cc9c-01b9-4654-a8fe-8f3cfb3d15eb",
   "metadata": {},
   "source": [
    "Выведите жк где соотношение количества квартир к количеств парковочных мест меньше 2.5  "
   ]
  },
  {
   "cell_type": "markdown",
   "id": "116cf34d-f843-4976-8296-c7d0e12f162c",
   "metadata": {},
   "source": [
    "Введите количество квартир в кирпичных домах города Москвы  "
   ]
  },
  {
   "cell_type": "markdown",
   "id": "ad867adb-aad6-4ed2-ac17-7d1b6f42c253",
   "metadata": {},
   "source": [
    "Определите среднее время оживания лита в домах застройщика level  "
   ]
  },
  {
   "cell_type": "markdown",
   "id": "22402979-4fe2-4e1e-83d6-343148d9c06f",
   "metadata": {},
   "source": [
    "Выведите список жк от которых до ближайшей станции метро 10 минут пешком  "
   ]
  },
  {
   "cell_type": "markdown",
   "id": "23e5c53b-f3bb-45eb-b9ed-48b1bc13d96e",
   "metadata": {},
   "source": [
    "Выведите общее число объектов застройщиков которые больше 20 лет на рынке, и при качестве объектов выше среднего."
   ]
  },
  {
   "cell_type": "markdown",
   "id": "d0af18a6-704e-48d4-9874-7cb90f6285c3",
   "metadata": {},
   "source": [
    "# Задачи на подумать и предложить"
   ]
  },
  {
   "cell_type": "markdown",
   "id": "2e2792b6-1054-4640-bedd-b2979feb0ebc",
   "metadata": {},
   "source": [
    "Выдвинуть 10 гипотез и проверить их на основе данных ( если данных не хватает то добавить данными из интернета)  "
   ]
  },
  {
   "cell_type": "markdown",
   "id": "6fb39df5-c232-48aa-9cc3-1cfa99806ad6",
   "metadata": {},
   "source": [
    "Гипотеза 1 - стоимость квартиры зависит от площади  "
   ]
  },
  {
   "cell_type": "markdown",
   "id": "27e5cffc-da18-4295-be4a-6b24f5ea344d",
   "metadata": {},
   "source": [
    "Гипотеза 2 - стоимость квартиры зависит от расстояния до центра города  "
   ]
  },
  {
   "cell_type": "markdown",
   "id": "457a3b4b-c058-4e38-99e2-bb51d4fdd3dc",
   "metadata": {},
   "source": [
    "Гипотеза 3 -  "
   ]
  },
  {
   "cell_type": "code",
   "execution_count": 9,
   "id": "5ca35d80-b0d8-4050-b861-6d29b494f28d",
   "metadata": {},
   "outputs": [
    {
     "data": {
      "text/plain": [
       "'red'"
      ]
     },
     "execution_count": 9,
     "metadata": {},
     "output_type": "execute_result"
    }
   ],
   "source": [
    "class Tree:\n",
    "\n",
    "    def __init__(self, height, leaf_colour, age, form):\n",
    "        self.height = height\n",
    "        self.leaf_colour = leaf_colour\n",
    "        self.age = age\n",
    "        self.form = form\n",
    "\n",
    "\n",
    "    # def make_older(self):\n",
    "    #     self\n",
    "\n",
    "tree1 = Tree(20, \"red\", 100, \"triangle\")\n",
    "\n",
    "tree1.leaf_colour"
   ]
  }
 ],
 "metadata": {
  "kernelspec": {
   "display_name": "Python 3 (ipykernel)",
   "language": "python",
   "name": "python3"
  },
  "language_info": {
   "codemirror_mode": {
    "name": "ipython",
    "version": 3
   },
   "file_extension": ".py",
   "mimetype": "text/x-python",
   "name": "python",
   "nbconvert_exporter": "python",
   "pygments_lexer": "ipython3",
   "version": "3.10.10"
  }
 },
 "nbformat": 4,
 "nbformat_minor": 5
}
