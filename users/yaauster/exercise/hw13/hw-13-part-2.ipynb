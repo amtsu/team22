{
 "cells": [
  {
   "cell_type": "markdown",
   "id": "3d9836bc-7997-40b7-9b21-9050fdc61629",
   "metadata": {},
   "source": [
    "# Реализуйте задания"
   ]
  },
  {
   "cell_type": "markdown",
   "id": "1ed5fa52-84c4-46c6-8bfa-2a0a059e580c",
   "metadata": {},
   "source": [
    "1. Расширте класс для работы с матрицами, загрузкой и сохранением. Придумаейте тесты."
   ]
  },
  {
   "cell_type": "markdown",
   "id": "05415b79-4d98-42b4-b76e-eb712b121285",
   "metadata": {},
   "source": [
    "2. Расширте классы Warehouse Product Order для управления складскими запасами, загрузкой и сохранением. Придумаейте тесты."
   ]
  }
 ],
 "metadata": {
  "kernelspec": {
   "display_name": "Python 3 (ipykernel)",
   "language": "python",
   "name": "python3"
  },
  "language_info": {
   "codemirror_mode": {
    "name": "ipython",
    "version": 3
   },
   "file_extension": ".py",
   "mimetype": "text/x-python",
   "name": "python",
   "nbconvert_exporter": "python",
   "pygments_lexer": "ipython3",
   "version": "3.10.10"
  }
 },
 "nbformat": 4,
 "nbformat_minor": 5
}
