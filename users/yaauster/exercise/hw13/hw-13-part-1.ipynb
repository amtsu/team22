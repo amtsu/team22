{
 "cells": [
  {
   "cell_type": "markdown",
   "id": "148a67cf-f3d5-4175-898e-a2201786ac66",
   "metadata": {},
   "source": [
    "# Расширте поведение классов. Сначала напишите тест, затем реализуйте метод."
   ]
  },
  {
   "cell_type": "markdown",
   "id": "9e4c8632-4906-41db-b476-383447ed2d7e",
   "metadata": {},
   "source": [
    "1. Расширьте класс автомобиль, добавив метод сохранения обекта автомобиль из памяти в фаил. Добавьте метод загрузки автомобиля их файла в пямять. Создайте тест который, загружает автомобиль с файла меняет скорость автомобиля и сохраняет автомобтиль с новой соростью в фаил."
   ]
  },
  {
   "cell_type": "code",
   "execution_count": 16,
   "id": "d6c6041a-8251-4a6b-97ad-9247d17c608a",
   "metadata": {},
   "outputs": [
    {
     "name": "stdout",
     "output_type": "stream",
     "text": [
      "red\n",
      "files/car.txt created or updated\n"
     ]
    },
    {
     "ename": "NameError",
     "evalue": "name 'car_obj' is not defined",
     "output_type": "error",
     "traceback": [
      "\u001b[0;31m---------------------------------------------------------------------------\u001b[0m",
      "\u001b[0;31mNameError\u001b[0m                                 Traceback (most recent call last)",
      "Cell \u001b[0;32mIn[16], line 56\u001b[0m\n\u001b[1;32m     54\u001b[0m auto2 \u001b[38;5;241m=\u001b[39m Car(\u001b[38;5;124m'\u001b[39m\u001b[38;5;124mbmw\u001b[39m\u001b[38;5;124m'\u001b[39m,\u001b[38;5;241m1975\u001b[39m,\u001b[38;5;124m'\u001b[39m\u001b[38;5;124mblack\u001b[39m\u001b[38;5;124m'\u001b[39m,\u001b[38;5;241m5\u001b[39m, \u001b[38;5;241m90\u001b[39m)\n\u001b[1;32m     55\u001b[0m auto2\u001b[38;5;241m.\u001b[39msave_to_file()\n\u001b[0;32m---> 56\u001b[0m \u001b[38;5;28mprint\u001b[39m(\u001b[43mcar_obj\u001b[49m\u001b[38;5;241m.\u001b[39mget_colour())\n\u001b[1;32m     58\u001b[0m car_obj\u001b[38;5;241m.\u001b[39mload_from_file() \u001b[38;5;66;03m# почему так не обновялется объект?\u001b[39;00m\n\u001b[1;32m     59\u001b[0m \u001b[38;5;28mprint\u001b[39m(car_obj\u001b[38;5;241m.\u001b[39mget_colour())\n",
      "\u001b[0;31mNameError\u001b[0m: name 'car_obj' is not defined"
     ]
    }
   ],
   "source": [
    "# первая попытка, итоговая ниже\n",
    "\n",
    "import pickle\n",
    "import subprocess\n",
    "\n",
    "\n",
    "class Car:\n",
    "    \"\"\"\n",
    "    Автомобиль\n",
    "    \"\"\"\n",
    "\n",
    "    def __init__(self, brand, year, colour, doors_number, current_speed):\n",
    "        self.brand = brand\n",
    "        self.year = year\n",
    "        self.colour = colour\n",
    "        self.doors_number = doors_number\n",
    "        self.current_speed = current_speed\n",
    "\n",
    "    def get_year(self):\n",
    "        return self.year\n",
    " \n",
    "    def get_brand(self):\n",
    "        return self.brand\n",
    " \n",
    "    def get_colour(self):\n",
    "        return self.colour\n",
    " \n",
    "    def get_current_speed(self):\n",
    "        return self.current_speed\n",
    "\n",
    "    def save_to_file(self):\n",
    "        file_name = 'files/car.txt'\n",
    "        file_car = open(file_name, 'wb')\n",
    "        pickle.dump(self, file_car)\n",
    "        file_car.close()\n",
    "        print(f'{file_name} created or updated')\n",
    "        # print(subprocess.run(['xxd', file_name], capture_output=False, text=True))\n",
    "\n",
    "    def load_from_file(self):\n",
    "        file_name = 'files/car.txt'\n",
    "        file_car = open('files/car.txt', 'rb')\n",
    "        self = pickle.load(file_car)\n",
    "        print(self)\n",
    "        self.__init__(loaded_car.brand, loaded_car.year, loaded_car.colour, loaded_car.doors_number, loaded_car.current_speed)\n",
    "        \n",
    "        file_car.close()\n",
    "        print(f'{self} loaded. This is {self.brand} produced in {self.year}')\n",
    "        return self\n",
    "\n",
    "\n",
    "auto1 = Car('ww',1987,'red',3, 75)\n",
    "print(auto1.get_colour())\n",
    "\n",
    "auto2 = Car('bmw',1975,'black',5, 90)\n",
    "auto2.save_to_file()\n",
    "print(car_obj.get_colour())\n",
    "\n",
    "car_obj.load_from_file() # почему так не обновялется объект?\n",
    "print(car_obj.get_colour())\n",
    "\n",
    "car_obj = car_obj.load_from_file()\n",
    "print(car_obj.get_colour())\n",
    "\n",
    "\n",
    "def test_car_color():\n",
    "    \"\"\"\n",
    "    тестируем класс Car\n",
    "    \"\"\"\n",
    "    input = ['ww',1987,'red',3, 75]\n",
    "    expected =  \"red\"\n",
    "    auto = Car(*input)\n",
    "    assert expected == auto.get_colour()\n",
    "\n",
    "def test_car_year():\n",
    "    \"\"\"\n",
    "    тестируем класс Car\n",
    "    \"\"\"\n",
    "    input = ['ww',1987,'red',3, 75]\n",
    "    expected =  1987\n",
    "    auto = Car(*input)\n",
    "    assert expected == auto.get_year()\n",
    "\n",
    "def test_infile_change_spead():\n",
    "    \"\"\"\n",
    "    Загружает объект класса автомобиль из файла,\n",
    "    меняет скорость,\n",
    "    сохраняет с новой соростью обратно в файл.\n",
    "    \"\"\"\n",
    "    input = ['ww',1987,'red',3, 75]\n",
    "    expected =  1987\n",
    "    auto = Car(*input)\n",
    "    assert expected == auto.get_year()\n",
    "\n",
    "\n",
    "test_car_color()\n",
    "test_car_year()"
   ]
  },
  {
   "cell_type": "code",
   "execution_count": 23,
   "id": "0f8f8d35-6a3c-4b09-aa5b-c995d723ed94",
   "metadata": {},
   "outputs": [
    {
     "name": "stdout",
     "output_type": "stream",
     "text": [
      "red\n",
      "files/car1.pkl created or updated\n",
      "black\n",
      "files/car2.txt created or updated\n",
      "Car object loaded from files/car2.txt. This is bmw produced in 1975\n",
      "black\n"
     ]
    }
   ],
   "source": [
    "\"\"\"\n",
    "- Расширьте класс автомобиль, добавив метод сохранения обекта автомобиль из памяти в фаил.\n",
    "- Добавьте метод загрузки автомобиля из файла в пямять.\n",
    "- Создайте тест который, загружает автомобиль с файла меняет скорость автомобиля и сохраняет автомобтиль с новой соростью в фаил.\n",
    "\"\"\"\n",
    "\n",
    "\n",
    "import pickle\n",
    "import subprocess\n",
    "\n",
    "\n",
    "class Car:\n",
    "    \"\"\"\n",
    "    Автомобиль\n",
    "    \"\"\"\n",
    "\n",
    "    def __init__(self, brand, year, colour, doors_number, current_speed):\n",
    "        self.brand = brand\n",
    "        self.year = year\n",
    "        self.colour = colour\n",
    "        self.doors_number = doors_number\n",
    "        self.current_speed = current_speed\n",
    "\n",
    "    def get_year(self):\n",
    "        return self.year\n",
    " \n",
    "    def get_brand(self):\n",
    "        return self.brand\n",
    " \n",
    "    def get_colour(self):\n",
    "        return self.colour\n",
    " \n",
    "    def get_current_speed(self):\n",
    "        return self.current_speed\n",
    "\n",
    "    def save_to_file(self, file_name):\n",
    "        with open(file_name, 'wb') as file_car:\n",
    "            pickle.dump(self, file_car)\n",
    "        print(f'{file_name} created or updated')\n",
    "        # print(subprocess.run(['xxd', file_name], capture_output=False, text=True))\n",
    "\n",
    "    # не использовал staticmethod() - это ок? или может привести к ошибкам\n",
    "    def load_from_file(file_name):\n",
    "        with open(file_name, 'rb') as file_car:\n",
    "            self = pickle.load(file_car)\n",
    "        print(f'Car object loaded from {file_name}. This is {self.brand} produced in {self.year}')\n",
    "        # print(f'{self} loaded. This is {self.brand} produced in {self.year}')\n",
    "        return self\n",
    "\n",
    "auto1 = Car('ww',1987,'red',3, 75)\n",
    "print(auto1.get_colour())\n",
    "auto1.save_to_file('files/car1.pkl')\n",
    "\n",
    "auto2 = Car('bmw',1975,'black',5, 90)\n",
    "print(auto2.get_colour())\n",
    "auto2.save_to_file('files/car2.txt')\n",
    "\n",
    "auto2_copy = Car.load_from_file('files/car2.txt')\n",
    "print(auto2_copy.get_colour())"
   ]
  },
  {
   "cell_type": "code",
   "execution_count": 35,
   "id": "9057cc6b-25e8-4545-a254-f1e5f79335d7",
   "metadata": {},
   "outputs": [
    {
     "name": "stdout",
     "output_type": "stream",
     "text": [
      "files/test_car.txt created or updated\n",
      "Car object loaded from files/test_car.txt. This is ww produced in 1987\n",
      "files/test_car.txt created or updated\n",
      "Car object loaded from files/test_car.txt. This is ww produced in 1987\n"
     ]
    }
   ],
   "source": [
    "import os\n",
    "import pickle\n",
    "\n",
    "\n",
    "def test_car_color():\n",
    "    \"\"\"\n",
    "    тестируем класс Car\n",
    "    \"\"\"\n",
    "    input = ['ww',1987,'red',3, 75]\n",
    "    expected =  \"red\"\n",
    "    auto = Car(*input)\n",
    "    assert expected == auto.get_colour()\n",
    "\n",
    "def test_car_year():\n",
    "    \"\"\"\n",
    "    тестируем класс Car\n",
    "    \"\"\"\n",
    "    input = ['ww',1987,'red',3, 75]\n",
    "    expected =  1987\n",
    "    auto = Car(*input)\n",
    "    assert expected == auto.get_year()\n",
    "\n",
    "def test_infile_change_spead():\n",
    "    \"\"\"\n",
    "    Загружает объект класса автомобиль из файла,\n",
    "    меняет скорость,\n",
    "    сохраняет с новой соростью обратно в файл.\n",
    "    \"\"\"\n",
    "    input = ['ww',1987,'red',3, 75]\n",
    "    auto = Car(*input)\n",
    "    auto.save_to_file('files/test_car.txt')\n",
    "    auto_copy = Car.load_from_file('files/test_car.txt')\n",
    "\n",
    "    new_current_speed =  20\n",
    "    auto_copy.current_speed = new_current_speed\n",
    "    auto_copy.save_to_file('files/test_car.txt')\n",
    "    \n",
    "    auto_test = Car.load_from_file('files/test_car.txt')\n",
    "    os.remove('files/test_car.txt')\n",
    "    assert new_current_speed == auto_test.current_speed\n",
    "\n",
    "\n",
    "test_car_color()\n",
    "test_car_year()\n",
    "test_infile_change_spead()"
   ]
  },
  {
   "cell_type": "markdown",
   "id": "9233d498-73bf-4893-9ad8-89a964a7b462",
   "metadata": {},
   "source": [
    "2. Расширьте класс Student, добавив методы сохранения и загрузки обекта студент из памяти в фаил и обратно. Создав тест который загружет студента из файла, добаляет новую оценку и сохраняет в фаил."
   ]
  },
  {
   "cell_type": "code",
   "execution_count": null,
   "id": "7a30bc27-2e71-4773-80f8-4be0fe9be7be",
   "metadata": {},
   "outputs": [],
   "source": []
  },
  {
   "cell_type": "markdown",
   "id": "f5be32ac-2052-407f-a9db-54f0f6d97077",
   "metadata": {},
   "source": [
    "3. Расширьте класс Shape для представления различных геометрических фигур сохранением и загрузкой из файла. Напишите тест который проходится по несколькьким фалйам, загружает из них фигуры и выводит их периметр и площадь."
   ]
  },
  {
   "cell_type": "code",
   "execution_count": null,
   "id": "307e5606-0499-454f-bd3f-d8daf34271a7",
   "metadata": {},
   "outputs": [],
   "source": []
  },
  {
   "cell_type": "markdown",
   "id": "d76150e4-e77d-45bd-9679-f9a5c224d7b7",
   "metadata": {},
   "source": [
    "4. Расширьте класс для учета студентов в учебном заведении, добавьте методы сохранения и загрузки. Напишите тест в котром в загружает из файла, потом отчисляет студента и записывает назад в фаил."
   ]
  },
  {
   "cell_type": "code",
   "execution_count": null,
   "id": "7a4ce593-8b17-46db-aee7-fe09ad16be3e",
   "metadata": {},
   "outputs": [],
   "source": []
  }
 ],
 "metadata": {
  "kernelspec": {
   "display_name": "Python 3 (ipykernel)",
   "language": "python",
   "name": "python3"
  },
  "language_info": {
   "codemirror_mode": {
    "name": "ipython",
    "version": 3
   },
   "file_extension": ".py",
   "mimetype": "text/x-python",
   "name": "python",
   "nbconvert_exporter": "python",
   "pygments_lexer": "ipython3",
   "version": "3.10.10"
  }
 },
 "nbformat": 4,
 "nbformat_minor": 5
}
