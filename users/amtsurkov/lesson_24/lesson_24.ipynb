{
 "cells": [
  {
   "cell_type": "code",
   "execution_count": 2,
   "id": "8817ad76",
   "metadata": {},
   "outputs": [],
   "source": [
    "import sqlite3"
   ]
  },
  {
   "cell_type": "code",
   "execution_count": 3,
   "id": "22a31309",
   "metadata": {},
   "outputs": [],
   "source": [
    "connection = sqlite3.connect('/home/jupyter-amtsu/project/price_alert/db.sqlite3')"
   ]
  },
  {
   "cell_type": "code",
   "execution_count": 4,
   "id": "9459af54",
   "metadata": {},
   "outputs": [],
   "source": [
    "cursor = connection.cursor()"
   ]
  },
  {
   "cell_type": "code",
   "execution_count": 9,
   "id": "fd2bc5d5",
   "metadata": {},
   "outputs": [
    {
     "data": {
      "text/plain": [
       "<sqlite3.Cursor at 0x7efc6011b6c0>"
      ]
     },
     "execution_count": 9,
     "metadata": {},
     "output_type": "execute_result"
    }
   ],
   "source": [
    "cursor.execute(\"\"\"\n",
    "select id, price, price_sale, title \n",
    "from products_history \n",
    "where title like \"%nutella%\" \n",
    "limit 10\n",
    "\"\"\")\n"
   ]
  },
  {
   "cell_type": "code",
   "execution_count": 10,
   "id": "3d928018",
   "metadata": {},
   "outputs": [
    {
     "data": {
      "text/plain": [
       "[(29045, 58, 58, 'Батончик Nutella B-Ready 22г'),\n",
       " (29061, 158, 158, 'Паста Nutella Шоколадная 52г'),\n",
       " (29068, 299, 299, 'Паста Nutella Шоколадная 180г'),\n",
       " (29069, 499, 389, 'Паста Nutella Шоколадная 350г'),\n",
       " (29074, 799, 799, 'Паста Nutella Шоколадная 630г'),\n",
       " (66734, 58, 58, 'Батончик Nutella B-Ready 22г'),\n",
       " (66750, 158, 158, 'Паста Nutella Шоколадная 52г'),\n",
       " (66757, 299, 299, 'Паста Nutella Шоколадная 180г'),\n",
       " (66758, 499, 389, 'Паста Nutella Шоколадная 350г'),\n",
       " (66763, 799, 799, 'Паста Nutella Шоколадная 630г')]"
      ]
     },
     "execution_count": 10,
     "metadata": {},
     "output_type": "execute_result"
    }
   ],
   "source": [
    "cursor.fetchall()"
   ]
  },
  {
   "cell_type": "code",
   "execution_count": 11,
   "id": "151c2535",
   "metadata": {},
   "outputs": [
    {
     "data": {
      "text/plain": [
       "[(66757, 299, 'Паста Nutella Шоколадная 180г')]"
      ]
     },
     "execution_count": 11,
     "metadata": {},
     "output_type": "execute_result"
    }
   ],
   "source": [
    "cursor.execute(\"\"\"\n",
    "select id, price, title \n",
    "from products_history \n",
    "where id = 66757\n",
    "\"\"\")\n",
    "cursor.fetchall()"
   ]
  },
  {
   "cell_type": "code",
   "execution_count": 14,
   "id": "76d9bb6c",
   "metadata": {},
   "outputs": [
    {
     "data": {
      "text/plain": [
       "[(689763, 12580, 'Газовая горелка Expedition Stove Camp-1 TKB-N9703-1L')]"
      ]
     },
     "execution_count": 14,
     "metadata": {},
     "output_type": "execute_result"
    }
   ],
   "source": [
    "cursor.execute(\"\"\"\n",
    "select id, price, title \n",
    "from products_history \n",
    "order by id desc\n",
    "limit 1\n",
    "\"\"\")\n",
    "cursor.fetchall()"
   ]
  },
  {
   "cell_type": "code",
   "execution_count": null,
   "id": "7f3f150c",
   "metadata": {},
   "outputs": [],
   "source": [
    "СКЛ - "
   ]
  },
  {
   "cell_type": "code",
   "execution_count": 18,
   "id": "afd81b0f",
   "metadata": {},
   "outputs": [],
   "source": [
    "#Паста Nutella "
   ]
  },
  {
   "cell_type": "code",
   "execution_count": 15,
   "id": "98117e13",
   "metadata": {},
   "outputs": [],
   "source": [
    "# найти все предложения по пасте нутелла между 200 и 300 рублей"
   ]
  },
  {
   "cell_type": "code",
   "execution_count": 19,
   "id": "e25e5df9",
   "metadata": {},
   "outputs": [
    {
     "data": {
      "text/plain": [
       "[(640902, 299, 299, 'Паста Nutella Шоколадная 180г'),\n",
       " (605579, 299, 299, 'Паста Nutella Шоколадная 180г'),\n",
       " (541340, 299, 299, 'Паста Nutella Шоколадная 180г'),\n",
       " (476749, 299, 299, 'Паста Nutella Шоколадная 180г'),\n",
       " (378961, 299, 299, 'Паста Nutella Шоколадная 180г'),\n",
       " (356156, 299, 299, 'Паста Nutella Шоколадная 180г'),\n",
       " (274535, 299, 299, 'Паста Nutella Шоколадная 180г'),\n",
       " (156847, 299, 299, 'Паста Nutella Шоколадная 180г'),\n",
       " (66757, 299, 299, 'Паста Nutella Шоколадная 180г'),\n",
       " (29068, 299, 299, 'Паста Nutella Шоколадная 180г')]"
      ]
     },
     "execution_count": 19,
     "metadata": {},
     "output_type": "execute_result"
    }
   ],
   "source": [
    "cursor.execute(\"\"\"\n",
    "select id, price, price_sale, title \n",
    "from products_history \n",
    "where price_sale > 200 and price_sale < 300 and title like 'Паста Nutella%'\n",
    "order by id desc\n",
    "limit 100\n",
    "\"\"\")\n",
    "cursor.fetchall()"
   ]
  },
  {
   "cell_type": "code",
   "execution_count": null,
   "id": "0036fc84",
   "metadata": {},
   "outputs": [],
   "source": [
    "# найти 100 товарво стоимосью более 10000"
   ]
  },
  {
   "cell_type": "code",
   "execution_count": 22,
   "id": "d7efee12",
   "metadata": {},
   "outputs": [
    {
     "data": {
      "text/plain": [
       "[(36055, 10009, 3243, 'Легкая куртка Yoko YXC JACKET'),\n",
       " (49988, 10009, 0, 'Сандалии Karrimor CHRISTCHURCH'),\n",
       " (58582, 10009, 3243, 'Кофта Lolё JUST CARDIGAN'),\n",
       " (84170, 10009, 3243, 'Легкая куртка Yoko YXC JACKET'),\n",
       " (94032, 10009, 3243, 'Кофта Lolё JUST CARDIGAN'),\n",
       " (98954, 10009, 3243, 'Легкая куртка Yoko YXC JACKET'),\n",
       " (114699, 10009, 0, 'Сандалии Karrimor CHRISTCHURCH'),\n",
       " (125093, 10009, 3243, 'Кофта Lolё JUST CARDIGAN'),\n",
       " (167147, 10009, 3243, 'Легкая куртка Yoko YXC JACKET'),\n",
       " (182892, 10009, 0, 'Сандалии Karrimor CHRISTCHURCH')]"
      ]
     },
     "execution_count": 22,
     "metadata": {},
     "output_type": "execute_result"
    }
   ],
   "source": [
    "cursor.execute(\"\"\"\n",
    "select id, price, price_sale, title \n",
    "from products_history \n",
    "where price > 10000\n",
    "order by  price asc\n",
    "limit 10\n",
    "\"\"\")\n",
    "cursor.fetchall()"
   ]
  },
  {
   "cell_type": "code",
   "execution_count": 23,
   "id": "51f1b97a",
   "metadata": {},
   "outputs": [
    {
     "name": "stdout",
     "output_type": "stream",
     "text": [
      "total 52\n",
      "drwxr-xr-x 13 root                  root                  4096 Dec  4 17:50 .\n",
      "drwxr-xr-x 19 root                  root                  4096 Nov 19 17:22 ..\n",
      "drwxr-xr-x  6 airflow               airflow               4096 Dec 14 18:40 airflow\n",
      "drwxr-x---  6 jupyter-22malvina     jupyter-22malvina     4096 Nov 19 23:39 jupyter-22malvina\n",
      "drwxr-x---  5                  1000 jupyter-ekaterinacu   4096 Nov 19 19:34 jupyter-admin-jupyterhub\n",
      "drwxr-x--- 16 jupyter-amtsu         jupyter-amtsu         4096 Dec 13 20:01 jupyter-amtsu\n",
      "drwxr-x---  8 jupyter-andromary     jupyter-andromary     4096 Nov 30 00:42 jupyter-andromary\n",
      "drwxr-x---  9 jupyter-boberushka    jupyter-boberushka    4096 Nov 23 21:58 jupyter-boberushka\n",
      "drwxr-x--- 10 jupyter-cipperok      jupyter-cipperok      4096 Nov 29 16:09 jupyter-cipperok\n",
      "drwxr-x---  9 jupyter-drrryfox      jupyter-drrryfox      4096 Dec  7 21:15 jupyter-drrryfox\n",
      "drwxr-x---  7 jupyter-ekaterinacu   jupyter-ekaterinacu   4096 Dec 11 01:06 jupyter-ekaterinacu\n",
      "drwxr-x--- 11 jupyter-isergy        jupyter-isergy        4096 Dec 14 18:26 jupyter-isergy\n",
      "drwxr-x--- 12 jupyter-parnishkatony jupyter-parnishkatony 4096 Dec  3 15:51 jupyter-parnishkatony\n"
     ]
    }
   ],
   "source": [
    "!ls -la /home/"
   ]
  },
  {
   "cell_type": "code",
   "execution_count": 24,
   "id": "eaa44b54",
   "metadata": {},
   "outputs": [
    {
     "name": "stdout",
     "output_type": "stream",
     "text": [
      "/home\n"
     ]
    }
   ],
   "source": [
    "cd /home/"
   ]
  },
  {
   "cell_type": "code",
   "execution_count": 25,
   "id": "ab217a6b",
   "metadata": {},
   "outputs": [
    {
     "data": {
      "text/plain": [
       "'/home'"
      ]
     },
     "execution_count": 25,
     "metadata": {},
     "output_type": "execute_result"
    }
   ],
   "source": [
    "pwd"
   ]
  },
  {
   "cell_type": "code",
   "execution_count": 28,
   "id": "e4b2ed13",
   "metadata": {},
   "outputs": [],
   "source": [
    "!sudo mkdir sql_dump"
   ]
  },
  {
   "cell_type": "code",
   "execution_count": 29,
   "id": "fbb40f37",
   "metadata": {},
   "outputs": [
    {
     "name": "stdout",
     "output_type": "stream",
     "text": [
      "/tmp\n"
     ]
    }
   ],
   "source": [
    "cd /tmp/"
   ]
  },
  {
   "cell_type": "code",
   "execution_count": 30,
   "id": "0b7bfa1b",
   "metadata": {},
   "outputs": [
    {
     "data": {
      "text/plain": [
       "'/tmp'"
      ]
     },
     "execution_count": 30,
     "metadata": {},
     "output_type": "execute_result"
    }
   ],
   "source": [
    "pwd"
   ]
  },
  {
   "cell_type": "code",
   "execution_count": 31,
   "id": "c30c6230",
   "metadata": {},
   "outputs": [
    {
     "name": "stdout",
     "output_type": "stream",
     "text": [
      "total 68\n",
      "drwxrwxrwt 14 root    root    12288 Dec 14 19:30 \u001b[0m\u001b[30;42m.\u001b[0m/\n",
      "drwxr-xr-x 19 root    root     4096 Nov 19 17:22 \u001b[01;34m..\u001b[0m/\n",
      "-rw-------  1 airflow airflow     9 Dec 14 18:42 2029240f6d1128be89ddc32729463129\n",
      "drwxrwxrwt  2 root    root     4096 Dec 14 18:42 \u001b[30;42m.font-unix\u001b[0m/\n",
      "drwxrwxrwt  2 root    root     4096 Dec 14 18:42 \u001b[30;42m.ICE-unix\u001b[0m/\n",
      "drwx------  3 root    root     4096 Dec 14 18:42 \u001b[01;34msystemd-private-c3a1a8bec1c743deb0a39c11456ae0e8-apache2.service-SB8zQf\u001b[0m\u001b[K/\n",
      "drwx------  3 root    root     4096 Dec 14 18:42 \u001b[01;34msystemd-private-c3a1a8bec1c743deb0a39c11456ae0e8-dovecot.service-DMzJ5h\u001b[0m\u001b[K/\n",
      "drwx------  3 root    root     4096 Dec 14 18:42 \u001b[01;34msystemd-private-c3a1a8bec1c743deb0a39c11456ae0e8-jupyterhub.service-iZt1Yh\u001b[0m\u001b[K/\n",
      "drwx------  3 root    root     4096 Dec 14 18:42 \u001b[01;34msystemd-private-c3a1a8bec1c743deb0a39c11456ae0e8-systemd-logind.service-uAumSe\u001b[0m\u001b[K/\n",
      "drwx------  3 root    root     4096 Dec 14 18:42 \u001b[01;34msystemd-private-c3a1a8bec1c743deb0a39c11456ae0e8-systemd-resolved.service-y5H0Tg\u001b[0m\u001b[K/\n",
      "drwx------  3 root    root     4096 Dec 14 18:42 \u001b[01;34msystemd-private-c3a1a8bec1c743deb0a39c11456ae0e8-systemd-timesyncd.service-eJyebj\u001b[0m\u001b[K/\n",
      "drwx------  3 root    root     4096 Dec 14 18:42 \u001b[01;34msystemd-private-c3a1a8bec1c743deb0a39c11456ae0e8-traefik.service-DtKZ0g\u001b[0m\u001b[K/\n",
      "drwxrwxrwt  2 root    root     4096 Dec 14 18:42 \u001b[30;42m.Test-unix\u001b[0m/\n",
      "drwxrwxrwt  2 root    root     4096 Dec 14 18:42 \u001b[30;42m.X11-unix\u001b[0m/\n",
      "drwxrwxrwt  2 root    root     4096 Dec 14 18:42 \u001b[30;42m.XIM-unix\u001b[0m/\n"
     ]
    }
   ],
   "source": [
    "ls -la"
   ]
  },
  {
   "cell_type": "code",
   "execution_count": 32,
   "id": "31c4b068",
   "metadata": {},
   "outputs": [],
   "source": [
    "mkdir sql_dump"
   ]
  },
  {
   "cell_type": "code",
   "execution_count": 33,
   "id": "4209b684",
   "metadata": {},
   "outputs": [
    {
     "name": "stdout",
     "output_type": "stream",
     "text": [
      "/tmp/sql_dump\n"
     ]
    }
   ],
   "source": [
    "cd sql_dump/"
   ]
  },
  {
   "cell_type": "code",
   "execution_count": 34,
   "id": "91c0949f",
   "metadata": {},
   "outputs": [],
   "source": [
    "cp /home/jupyter-amtsu/project/price_alert/db.sqlite3 /tmp/sql_dump/"
   ]
  },
  {
   "cell_type": "code",
   "execution_count": 35,
   "id": "a090114f",
   "metadata": {},
   "outputs": [
    {
     "name": "stdout",
     "output_type": "stream",
     "text": [
      "total 329784\n",
      "drwxr-xr-x  2 jupyter-amtsu jupyter-amtsu      4096 Dec 14 19:38 \u001b[0m\u001b[01;34m.\u001b[0m/\n",
      "drwxrwxrwt 15 root          root              12288 Dec 14 19:37 \u001b[30;42m..\u001b[0m/\n",
      "-rw-r--r--  1 jupyter-amtsu jupyter-amtsu 337678336 Dec 14 19:38 db.sqlite3\n"
     ]
    }
   ],
   "source": [
    "ls -la"
   ]
  },
  {
   "cell_type": "code",
   "execution_count": 2,
   "id": "d1614c14",
   "metadata": {},
   "outputs": [],
   "source": [
    "connection = sqlite3.connect('/tmp/sql_dump/db.sqlite3')"
   ]
  },
  {
   "cell_type": "code",
   "execution_count": 3,
   "id": "5cfd1edc",
   "metadata": {},
   "outputs": [],
   "source": [
    "cursor = connection.cursor()"
   ]
  },
  {
   "cell_type": "code",
   "execution_count": 4,
   "id": "84768973",
   "metadata": {},
   "outputs": [
    {
     "data": {
      "text/plain": [
       "[(36055, 10009, 3243, 'Легкая куртка Yoko YXC JACKET'),\n",
       " (49988, 10009, 0, 'Сандалии Karrimor CHRISTCHURCH'),\n",
       " (58582, 10009, 3243, 'Кофта Lolё JUST CARDIGAN'),\n",
       " (84170, 10009, 3243, 'Легкая куртка Yoko YXC JACKET'),\n",
       " (94032, 10009, 3243, 'Кофта Lolё JUST CARDIGAN'),\n",
       " (98954, 10009, 3243, 'Легкая куртка Yoko YXC JACKET'),\n",
       " (114699, 10009, 0, 'Сандалии Karrimor CHRISTCHURCH'),\n",
       " (125093, 10009, 3243, 'Кофта Lolё JUST CARDIGAN'),\n",
       " (167147, 10009, 3243, 'Легкая куртка Yoko YXC JACKET'),\n",
       " (182892, 10009, 0, 'Сандалии Karrimor CHRISTCHURCH')]"
      ]
     },
     "execution_count": 4,
     "metadata": {},
     "output_type": "execute_result"
    }
   ],
   "source": [
    "cursor.execute(\"\"\"\n",
    "select id, price, price_sale, title \n",
    "from products_history \n",
    "where price > 10000\n",
    "order by  price asc\n",
    "limit 10\n",
    "\"\"\")\n",
    "cursor.fetchall()"
   ]
  },
  {
   "cell_type": "code",
   "execution_count": 9,
   "id": "854170d8",
   "metadata": {},
   "outputs": [
    {
     "data": {
      "text/plain": [
       "[(0, 'Напиток газированный Coca-Cola апельсин, 1,5 л'),\n",
       " (0, 'Напиток газированный Coca-Cola апельсин, 1,5 л'),\n",
       " (0, 'Напиток газированный Coca-Cola апельсин, 1,5 л'),\n",
       " (0, 'Напиток газированный Coca-Cola апельсин, 1,5 л'),\n",
       " (0, 'Напиток газированный Coca-Cola апельсин, 1,5 л'),\n",
       " (0, 'Напиток газированный Coca-Cola апельсин, 1,5 л'),\n",
       " (0, 'Напиток газированный Coca-Cola апельсин, 1,5 л'),\n",
       " (0, 'Напиток газированный Coca-Cola апельсин, 1,5 л'),\n",
       " (0, 'Напиток газированный Coca-Cola апельсин, 1,5 л'),\n",
       " (0, 'Напиток газированный Coca-Cola апельсин, 1,5 л'),\n",
       " (0, 'Напиток газированный Coca-Cola апельсин, 1,5 л'),\n",
       " (119, 'Напиток Coca-Cola Газированный 1л пэт'),\n",
       " (119, 'Напиток Coca-Cola Газированный 1л пэт'),\n",
       " (119, 'Напиток Coca-Cola Газированный 1л пэт'),\n",
       " (119, 'Напиток Coca-Cola Газированный 1л пэт'),\n",
       " (119, 'Напиток Coca-Cola Газированный 1л пэт'),\n",
       " (119, 'Напиток Coca-Cola Газированный 1л пэт'),\n",
       " (119, 'Напиток Coca-Cola Газированный 1л пэт'),\n",
       " (119, 'Напиток Coca-Cola Газированный 1л пэт'),\n",
       " (79, 'Напиток Coca-Cola Original Газированный 330мл ж/б'),\n",
       " (79, 'Напиток Coca-Cola Original Газированный 330мл ж/б'),\n",
       " (79, 'Напиток Coca-Cola Original Газированный 330мл ж/б'),\n",
       " (79, 'Напиток Coca-Cola Original Газированный 330мл ж/б'),\n",
       " (79, 'Напиток Coca-Cola Original Газированный 330мл ж/б'),\n",
       " (79, 'Напиток Coca-Cola Original Газированный 330мл ж/б'),\n",
       " (79, 'Напиток Coca-Cola Original Газированный 330мл ж/б'),\n",
       " (79, 'Напиток Coca-Cola Original Газированный 330мл ж/б')]"
      ]
     },
     "execution_count": 9,
     "metadata": {},
     "output_type": "execute_result"
    }
   ],
   "source": [
    "cursor.execute(\"\"\"\n",
    "select price, title\n",
    "from products_history \n",
    "where price < 150 and title like '%Coca-Cola%'\n",
    "order by title desc\n",
    "\"\"\")\n",
    "cursor.fetchall()"
   ]
  },
  {
   "cell_type": "code",
   "execution_count": 5,
   "id": "1fca6827",
   "metadata": {},
   "outputs": [
    {
     "data": {
      "text/plain": [
       "[('Сок «Агуша» яблоко банан с мякотью с 3 лет, 500 мл', 0),\n",
       " ('Блинчики HandyCraft с вишней в шоколадном топинге и апельсином замороженные, 380 г',\n",
       "  0),\n",
       " ('Блинчики HandyCraft с бананом и шоколадом замороженные, 380 г', 0),\n",
       " ('Блинчики HandyCraft с вишней в шоколадном топинге и апельсином замороженные, 380 г',\n",
       "  0),\n",
       " ('Чай зеленый «Мацеста» с цедрой апельсина и цедрой лимона, 100 г', 965.99),\n",
       " ('Пюре Gerber яблоко и банан с 6 мес., 90 г', 0),\n",
       " ('Биойгурт питьевой «Сегодня и Всегда» киви банан 2,6%, 310 мл', 0),\n",
       " ('Мороженое сливочное «Маруся» For you карамель банан, 65 г', 0),\n",
       " ('Биойгурт питьевой «Сегодня и Всегда» киви банан 2,6%, 310 мл', 0),\n",
       " ('Блинчики HandyCraft с вишней в шоколадном топинге и апельсином замороженные, 380 г',\n",
       "  0)]"
      ]
     },
     "execution_count": 5,
     "metadata": {},
     "output_type": "execute_result"
    }
   ],
   "source": [
    "cursor.execute(\"\"\"\n",
    "select title, price\n",
    "from products_history\n",
    "where title like '%банан%'  or  title like '%апельсин%'\n",
    "limit 10\n",
    "\"\"\")\n",
    "cursor.fetchall()"
   ]
  },
  {
   "cell_type": "code",
   "execution_count": 11,
   "id": "974ee5d9",
   "metadata": {},
   "outputs": [
    {
     "data": {
      "text/plain": [
       "[(968,)]"
      ]
     },
     "execution_count": 11,
     "metadata": {},
     "output_type": "execute_result"
    }
   ],
   "source": [
    "cursor.execute(\"\"\"\n",
    "select count(title)\n",
    "from products_history\n",
    "where title like '%банан%'  or  title like '%апельсин%'\n",
    "\"\"\")\n",
    "cursor.fetchall()"
   ]
  },
  {
   "cell_type": "code",
   "execution_count": 12,
   "id": "e8326fa4",
   "metadata": {},
   "outputs": [
    {
     "data": {
      "text/plain": [
       "[('Пюре «ФрутоНяня» ФрутоTeens яблоко банан апельсин манго с 3 лет, 90 г', 0)]"
      ]
     },
     "execution_count": 12,
     "metadata": {},
     "output_type": "execute_result"
    }
   ],
   "source": [
    "cursor.execute(\"\"\"\n",
    "select title, price\n",
    "from products_history\n",
    "where title like '%банан%' and  title like '%апельсин%'\n",
    "\"\"\")\n",
    "cursor.fetchall()"
   ]
  },
  {
   "cell_type": "code",
   "execution_count": 13,
   "id": "2d7af51d",
   "metadata": {},
   "outputs": [
    {
     "data": {
      "text/plain": [
       "[(1,)]"
      ]
     },
     "execution_count": 13,
     "metadata": {},
     "output_type": "execute_result"
    }
   ],
   "source": [
    "cursor.execute(\"\"\"\n",
    "select count(title)\n",
    "from products_history\n",
    "where title like '%банан%' and  title like '%апельсин%'\n",
    "\"\"\")\n",
    "cursor.fetchall()"
   ]
  },
  {
   "cell_type": "code",
   "execution_count": 6,
   "id": "6fda2446",
   "metadata": {},
   "outputs": [
    {
     "data": {
      "text/plain": [
       "[('Пюре «ФрутоНяня» ФрутоTeens яблоко банан апельсин манго с 3 лет, 90 г', 0),\n",
       " ('Подгузники Детские №4 7-18кг 64шт', 1),\n",
       " ('Подгузники Детские №5 11-25кг 56шт', 1),\n",
       " ('Подгузники-Трусики SPAR Детские №6 15-30кг 52шт', 1),\n",
       " ('Подгузники-Трусики SPAR Детские №4 7-18кг 72шт', 1),\n",
       " ('Подгузники-Трусики SPAR Детские №5 11-25кг 64шт', 1),\n",
       " ('Смесь Nan 1 800г', 1),\n",
       " ('Смесь Nan 2 800г', 1),\n",
       " ('Смесь Nan 3 Optipro с 12 Месяцев 800г', 1),\n",
       " ('Смесь Nan Тройной Комфорт с 0 Месяцев 400г', 1)]"
      ]
     },
     "execution_count": 6,
     "metadata": {},
     "output_type": "execute_result"
    }
   ],
   "source": [
    "cursor.execute(\"\"\"\n",
    "select title, price\n",
    "from products_history\n",
    "where (title like '%банан%' and  title like '%апельсин%') or (price > 0 and price < 2 )\n",
    "limit 10\n",
    "\"\"\")\n",
    "cursor.fetchall()"
   ]
  },
  {
   "cell_type": "code",
   "execution_count": 19,
   "id": "20d6b73b",
   "metadata": {},
   "outputs": [
    {
     "data": {
      "text/plain": [
       "[(83190.59000000021,)]"
      ]
     },
     "execution_count": 19,
     "metadata": {},
     "output_type": "execute_result"
    }
   ],
   "source": [
    "cursor.execute(\"\"\"\n",
    "select sum(price)\n",
    "from products_history\n",
    "where title like '%банан%' \n",
    "\"\"\")\n",
    "cursor.fetchall()"
   ]
  },
  {
   "cell_type": "code",
   "execution_count": 41,
   "id": "217757be",
   "metadata": {},
   "outputs": [
    {
     "data": {
      "text/plain": [
       "[(0, 'Напиток газированный Coca-Cola апельсин, 1,5 л'),\n",
       " (0, 'Напиток газированный Coca-Cola апельсин, 1,5 л'),\n",
       " (0, 'Напиток газированный Coca-Cola апельсин, 1,5 л'),\n",
       " (0, 'Напиток газированный Coca-Cola апельсин, 1,5 л'),\n",
       " (79, 'Напиток Coca-Cola Original Газированный 330мл ж/б'),\n",
       " (119, 'Напиток Coca-Cola Газированный 1л пэт'),\n",
       " (195, 'Напиток Coca-Cola Газированный 2л пэт'),\n",
       " (199, 'Напиток Coca-Cola Газированный 2,25л Пэт'),\n",
       " (79, 'Напиток Coca-Cola Original Газированный 330мл ж/б'),\n",
       " (119, 'Напиток Coca-Cola Газированный 1л пэт'),\n",
       " (195, 'Напиток Coca-Cola Газированный 2л пэт'),\n",
       " (199, 'Напиток Coca-Cola Газированный 2,25л Пэт'),\n",
       " (0, 'Напиток газированный Coca-Cola апельсин, 1,5 л'),\n",
       " (0, 'Напиток газированный Coca-Cola апельсин, 1,5 л'),\n",
       " (79, 'Напиток Coca-Cola Original Газированный 330мл ж/б'),\n",
       " (119, 'Напиток Coca-Cola Газированный 1л пэт'),\n",
       " (195, 'Напиток Coca-Cola Газированный 2л пэт'),\n",
       " (199, 'Напиток Coca-Cola Газированный 2,25л Пэт'),\n",
       " (79, 'Напиток Coca-Cola Original Газированный 330мл ж/б'),\n",
       " (119, 'Напиток Coca-Cola Газированный 1л пэт'),\n",
       " (195, 'Напиток Coca-Cola Газированный 2л пэт'),\n",
       " (199, 'Напиток Coca-Cola Газированный 2,25л Пэт'),\n",
       " (0, 'Напиток газированный Coca-Cola апельсин, 1,5 л'),\n",
       " (79, 'Напиток Coca-Cola Original Газированный 330мл ж/б'),\n",
       " (119, 'Напиток Coca-Cola Газированный 1л пэт'),\n",
       " (195, 'Напиток Coca-Cola Газированный 2л пэт'),\n",
       " (199, 'Напиток Coca-Cola Газированный 2,25л Пэт'),\n",
       " (0, 'Напиток газированный Coca-Cola апельсин, 1,5 л'),\n",
       " (79, 'Напиток Coca-Cola Original Газированный 330мл ж/б'),\n",
       " (119, 'Напиток Coca-Cola Газированный 1л пэт'),\n",
       " (195, 'Напиток Coca-Cola Газированный 2л пэт'),\n",
       " (199, 'Напиток Coca-Cola Газированный 2,25л Пэт'),\n",
       " (0, 'Напиток газированный Coca-Cola апельсин, 1,5 л'),\n",
       " (79, 'Напиток Coca-Cola Original Газированный 330мл ж/б'),\n",
       " (119, 'Напиток Coca-Cola Газированный 1л пэт'),\n",
       " (195, 'Напиток Coca-Cola Газированный 2л пэт'),\n",
       " (199, 'Напиток Coca-Cola Газированный 2,25л Пэт'),\n",
       " (0, 'Напиток газированный Coca-Cola апельсин, 1,5 л'),\n",
       " (79, 'Напиток Coca-Cola Original Газированный 330мл ж/б'),\n",
       " (119, 'Напиток Coca-Cola Газированный 1л пэт'),\n",
       " (195, 'Напиток Coca-Cola Газированный 2л пэт'),\n",
       " (199, 'Напиток Coca-Cola Газированный 2,25л Пэт'),\n",
       " (0, 'Напиток газированный Coca-Cola апельсин, 1,5 л')]"
      ]
     },
     "execution_count": 41,
     "metadata": {},
     "output_type": "execute_result"
    }
   ],
   "source": [
    "cursor.execute(\"\"\"\n",
    "select   price, title\n",
    "from products_history\n",
    "where title like '%Coca-Cola%' \n",
    "\"\"\")\n",
    "cursor.fetchall()"
   ]
  },
  {
   "cell_type": "code",
   "execution_count": 21,
   "id": "2f146518",
   "metadata": {},
   "outputs": [
    {
     "data": {
      "text/plain": [
       "[('Напиток газированный Coca-Cola апельсин, 1,5 л',),\n",
       " ('Напиток Coca-Cola Original Газированный 330мл ж/б',),\n",
       " ('Напиток Coca-Cola Газированный 1л пэт',),\n",
       " ('Напиток Coca-Cola Газированный 2л пэт',),\n",
       " ('Напиток Coca-Cola Газированный 2,25л Пэт',)]"
      ]
     },
     "execution_count": 21,
     "metadata": {},
     "output_type": "execute_result"
    }
   ],
   "source": [
    "cursor.execute(\"\"\"\n",
    "select distinct(title)\n",
    "from products_history\n",
    "where title like '%Coca-Cola%' \n",
    "\"\"\")\n",
    "cursor.fetchall()"
   ]
  },
  {
   "cell_type": "code",
   "execution_count": 22,
   "id": "8568450e",
   "metadata": {},
   "outputs": [
    {
     "data": {
      "text/plain": [
       "[('Напиток Coca-Cola Original Газированный 330мл ж/б',),\n",
       " ('Напиток Coca-Cola Газированный 1л пэт',),\n",
       " ('Напиток Coca-Cola Газированный 2,25л Пэт',),\n",
       " ('Напиток Coca-Cola Газированный 2л пэт',),\n",
       " ('Напиток газированный Coca-Cola апельсин, 1,5 л',)]"
      ]
     },
     "execution_count": 22,
     "metadata": {},
     "output_type": "execute_result"
    }
   ],
   "source": [
    "cursor.execute(\"\"\"\n",
    "select title\n",
    "from products_history\n",
    "where title like '%Coca-Cola%' \n",
    "group by title\n",
    "\"\"\")\n",
    "cursor.fetchall()"
   ]
  },
  {
   "cell_type": "code",
   "execution_count": 38,
   "id": "dc89e091",
   "metadata": {},
   "outputs": [
    {
     "data": {
      "text/plain": [
       "[('Банановые Чипсы SPAR 100г', 44, 4516, 99, 119),\n",
       " ('Бананы', 30, 3225, 94, 109),\n",
       " ('Бананы Filipino Sun Сушеные 100г', 34, 5406, 159, 159),\n",
       " ('Бананы Беби', 4, 716, 179, 179),\n",
       " ('Бананы Органик', 6, 594, 99, 99),\n",
       " ('Бананы вяленые NaturFoods, 200 г', 3, 0, 0, 0)]"
      ]
     },
     "execution_count": 38,
     "metadata": {},
     "output_type": "execute_result"
    }
   ],
   "source": [
    "cursor.execute(\"\"\"\n",
    "select title, count(1), sum(price), min(price), max(price)\n",
    "from products_history\n",
    "where title like 'Бана%' \n",
    "group by title\n",
    "\"\"\")\n",
    "cursor.fetchall()"
   ]
  },
  {
   "cell_type": "code",
   "execution_count": 43,
   "id": "9a2584ca",
   "metadata": {},
   "outputs": [
    {
     "data": {
      "text/plain": [
       "[('Бананы', 30, 3225, 94, 109),\n",
       " ('Бананы вяленые NaturFoods, 200 г', 3, 0, 0, 0)]"
      ]
     },
     "execution_count": 43,
     "metadata": {},
     "output_type": "execute_result"
    }
   ],
   "source": [
    "cursor.execute(\"\"\"\n",
    "select title, count(1), sum(price), min(price), max(price)\n",
    "from products_history\n",
    "where title like 'Бана%' \n",
    "group by title\n",
    "having min(price) < 95\n",
    "\"\"\")\n",
    "cursor.fetchall()"
   ]
  },
  {
   "cell_type": "code",
   "execution_count": 46,
   "id": "7aba5156",
   "metadata": {},
   "outputs": [
    {
     "data": {
      "text/plain": [
       "[('Бананы', 30, 3225, 94, 109),\n",
       " ('Бананы вяленые NaturFoods, 200 г', 3, 0, 0, 0)]"
      ]
     },
     "execution_count": 46,
     "metadata": {},
     "output_type": "execute_result"
    }
   ],
   "source": [
    "cursor.execute(\"\"\"\n",
    "select title, count(1), sum(price), min(price) as min_price, max(price)\n",
    "from products_history\n",
    "where title like 'Бана%'  \n",
    "group by title\n",
    "having min_price < 95\n",
    "\"\"\")\n",
    "cursor.fetchall()"
   ]
  },
  {
   "cell_type": "code",
   "execution_count": 56,
   "id": "ed0fb151",
   "metadata": {},
   "outputs": [
    {
     "data": {
      "text/plain": [
       "[('Кофта Lolё JUST CARDIGAN',)]"
      ]
     },
     "execution_count": 56,
     "metadata": {},
     "output_type": "execute_result"
    }
   ],
   "source": [
    "# вывести имя продуктов у которых минимальная цена. меньше 95\n",
    "\n",
    "# хотим ухнать есть ли. такой продукт в нашем подзапросе\n",
    "cursor.execute(\"\"\"\n",
    "select title\n",
    "from products_history\n",
    "where id = 94032 and \n",
    "title in (\n",
    "select title\n",
    "from products_history\n",
    "where id < 1000000\n",
    "group by title)\n",
    "\"\"\")\n",
    "cursor.fetchall()"
   ]
  },
  {
   "cell_type": "code",
   "execution_count": 60,
   "id": "f26b68bf",
   "metadata": {},
   "outputs": [
    {
     "data": {
      "text/plain": [
       "[('Паста Nutella Шоколадная 52г',)]"
      ]
     },
     "execution_count": 60,
     "metadata": {},
     "output_type": "execute_result"
    }
   ],
   "source": [
    "cursor.execute(\"\"\"\n",
    "select title\n",
    "from products_history\n",
    "where id = 66750 and \n",
    "title in (\n",
    "    select title\n",
    "    from products_history\n",
    "    where id < 50000\n",
    "    group by title\n",
    ")\n",
    "\"\"\")\n",
    "cursor.fetchall()"
   ]
  },
  {
   "cell_type": "code",
   "execution_count": 7,
   "id": "46350607",
   "metadata": {},
   "outputs": [
    {
     "data": {
      "text/plain": [
       "[(None,),\n",
       " ('',),\n",
       " ('\"BOMBBAR\" Печенье неглазированное \"Вишня\" 40 гр.',),\n",
       " ('#Топ-рецепты say7, Скрипкина А.Ю.',),\n",
       " ('100 любимых стихов и 100 любимых сказок для малышей',),\n",
       " ('25 минут и ГОТОВО! Суп ПО-ИТАЛЬЯНСКИ 200г',),\n",
       " ('BBQ с копченой паприкой «Царская приправа» мельница, 47 г',),\n",
       " ('BOMBBAR Печенье неглазированное \" Шоколадный брауни\" 40 гр.',),\n",
       " ('BUSHIDO Sensei Кофе в зернах 227г.',),\n",
       " ('Bakoda Pocket Tool',)]"
      ]
     },
     "execution_count": 7,
     "metadata": {},
     "output_type": "execute_result"
    }
   ],
   "source": [
    "cursor.execute(\"\"\"\n",
    "\n",
    "    select title\n",
    "    from products_history\n",
    "    where id < 50000\n",
    "    group by title\n",
    "    limit 10\n",
    "\n",
    "\"\"\")\n",
    "cursor.fetchall()"
   ]
  },
  {
   "cell_type": "code",
   "execution_count": 62,
   "id": "fecdad1e",
   "metadata": {},
   "outputs": [],
   "source": [
    "# выбор select\n",
    "# insert delete "
   ]
  },
  {
   "cell_type": "code",
   "execution_count": 63,
   "id": "09cd2883",
   "metadata": {},
   "outputs": [
    {
     "data": {
      "text/plain": [
       "[]"
      ]
     },
     "execution_count": 63,
     "metadata": {},
     "output_type": "execute_result"
    }
   ],
   "source": [
    "cursor.execute(\"\"\"\n",
    "\n",
    "    select title\n",
    "    from products_history\n",
    "    where title like '%gggg1%'\n",
    "    group by title\n",
    "\n",
    "\"\"\")\n",
    "cursor.fetchall()"
   ]
  },
  {
   "cell_type": "code",
   "execution_count": 65,
   "id": "5ae14b45",
   "metadata": {},
   "outputs": [
    {
     "data": {
      "text/plain": [
       "[]"
      ]
     },
     "execution_count": 65,
     "metadata": {},
     "output_type": "execute_result"
    }
   ],
   "source": [
    "cursor.execute(\"\"\"\n",
    "insert into products_history(title) values('gggg1')\n",
    "\"\"\")\n",
    "cursor.fetchall()"
   ]
  },
  {
   "cell_type": "code",
   "execution_count": 66,
   "id": "57147e19",
   "metadata": {},
   "outputs": [
    {
     "data": {
      "text/plain": [
       "[('gggg1',)]"
      ]
     },
     "execution_count": 66,
     "metadata": {},
     "output_type": "execute_result"
    }
   ],
   "source": [
    "cursor.execute(\"\"\"\n",
    "\n",
    "    select title\n",
    "    from products_history\n",
    "    where title like '%gggg1%'\n",
    "    group by title\n",
    "\n",
    "\"\"\")\n",
    "cursor.fetchall()"
   ]
  },
  {
   "cell_type": "code",
   "execution_count": 67,
   "id": "613b4fdc",
   "metadata": {},
   "outputs": [
    {
     "data": {
      "text/plain": [
       "[]"
      ]
     },
     "execution_count": 67,
     "metadata": {},
     "output_type": "execute_result"
    }
   ],
   "source": [
    "cursor.execute(\"\"\"\n",
    "insert into products_history(title) values('gggg1_2')\n",
    "\"\"\")\n",
    "cursor.fetchall()"
   ]
  },
  {
   "cell_type": "code",
   "execution_count": 68,
   "id": "1751c4a2",
   "metadata": {},
   "outputs": [
    {
     "data": {
      "text/plain": [
       "[('gggg1',), ('gggg1_2',)]"
      ]
     },
     "execution_count": 68,
     "metadata": {},
     "output_type": "execute_result"
    }
   ],
   "source": [
    "cursor.execute(\"\"\"\n",
    "\n",
    "    select title\n",
    "    from products_history\n",
    "    where title like '%gggg1%'\n",
    "    group by title\n",
    "\n",
    "\"\"\")\n",
    "cursor.fetchall()"
   ]
  },
  {
   "cell_type": "code",
   "execution_count": 69,
   "id": "69b1486a",
   "metadata": {},
   "outputs": [
    {
     "data": {
      "text/plain": [
       "[]"
      ]
     },
     "execution_count": 69,
     "metadata": {},
     "output_type": "execute_result"
    }
   ],
   "source": [
    "cursor.execute(\"\"\"\n",
    "insert into products_history(title, price) values('gggg1_3', 101)\n",
    "\"\"\")\n",
    "cursor.fetchall()"
   ]
  },
  {
   "cell_type": "code",
   "execution_count": 71,
   "id": "1d5aa3a8",
   "metadata": {},
   "outputs": [
    {
     "data": {
      "text/plain": [
       "[(689764, 'gggg1', None), (689765, 'gggg1_2', None), (689766, 'gggg1_3', 101)]"
      ]
     },
     "execution_count": 71,
     "metadata": {},
     "output_type": "execute_result"
    }
   ],
   "source": [
    "cursor.execute(\"\"\"\n",
    "    select id, title, price\n",
    "    from products_history\n",
    "    where title like '%gggg1%'\n",
    "    group by title\n",
    "\n",
    "\"\"\")\n",
    "cursor.fetchall()"
   ]
  },
  {
   "cell_type": "code",
   "execution_count": 72,
   "id": "9719ce8e",
   "metadata": {},
   "outputs": [
    {
     "data": {
      "text/plain": [
       "[]"
      ]
     },
     "execution_count": 72,
     "metadata": {},
     "output_type": "execute_result"
    }
   ],
   "source": [
    "cursor.execute(\"\"\"\n",
    "delete from products_history where id = 689765\n",
    "\"\"\")\n",
    "cursor.fetchall()"
   ]
  },
  {
   "cell_type": "code",
   "execution_count": 73,
   "id": "65908a29",
   "metadata": {},
   "outputs": [
    {
     "data": {
      "text/plain": [
       "[(689764, 'gggg1', None), (689766, 'gggg1_3', 101)]"
      ]
     },
     "execution_count": 73,
     "metadata": {},
     "output_type": "execute_result"
    }
   ],
   "source": [
    "cursor.execute(\"\"\"\n",
    "    select id, title, price\n",
    "    from products_history\n",
    "    where title like '%gggg1%'\n",
    "    group by title\n",
    "\"\"\")\n",
    "cursor.fetchall()"
   ]
  },
  {
   "cell_type": "code",
   "execution_count": 74,
   "id": "42eec250",
   "metadata": {},
   "outputs": [],
   "source": [
    "# csv -> базу данных -> sql"
   ]
  },
  {
   "cell_type": "code",
   "execution_count": 75,
   "id": "b217792c",
   "metadata": {},
   "outputs": [],
   "source": [
    "# update\n"
   ]
  },
  {
   "cell_type": "code",
   "execution_count": null,
   "id": "e7238092",
   "metadata": {},
   "outputs": [],
   "source": [
    "#CRUD "
   ]
  },
  {
   "cell_type": "code",
   "execution_count": 76,
   "id": "32a93342",
   "metadata": {},
   "outputs": [
    {
     "data": {
      "text/plain": [
       "[(689764, 'gggg1', None), (689766, 'gggg1_3', 101)]"
      ]
     },
     "execution_count": 76,
     "metadata": {},
     "output_type": "execute_result"
    }
   ],
   "source": [
    "cursor.execute(\"\"\"\n",
    "    select id, title, price\n",
    "    from products_history\n",
    "    where title like '%gggg1%'\n",
    "\"\"\")\n",
    "cursor.fetchall()"
   ]
  },
  {
   "cell_type": "code",
   "execution_count": 78,
   "id": "f0c19398",
   "metadata": {},
   "outputs": [
    {
     "data": {
      "text/plain": [
       "[]"
      ]
     },
     "execution_count": 78,
     "metadata": {},
     "output_type": "execute_result"
    }
   ],
   "source": [
    "cursor.execute(\"\"\"\n",
    "update  products_history set price = 200 where id = 689764\n",
    "\"\"\")\n",
    "cursor.fetchall()"
   ]
  },
  {
   "cell_type": "code",
   "execution_count": 79,
   "id": "e256bb00",
   "metadata": {},
   "outputs": [
    {
     "data": {
      "text/plain": [
       "[(689764, 'gggg1', 200), (689766, 'gggg1_3', 101)]"
      ]
     },
     "execution_count": 79,
     "metadata": {},
     "output_type": "execute_result"
    }
   ],
   "source": [
    "cursor.execute(\"\"\"\n",
    "    select id, title, price\n",
    "    from products_history\n",
    "    where title like '%gggg1%'\n",
    "\"\"\")\n",
    "cursor.fetchall()"
   ]
  },
  {
   "cell_type": "code",
   "execution_count": 81,
   "id": "c9177a82",
   "metadata": {},
   "outputs": [
    {
     "data": {
      "text/plain": [
       "[]"
      ]
     },
     "execution_count": 81,
     "metadata": {},
     "output_type": "execute_result"
    }
   ],
   "source": [
    "cursor.execute(\"\"\"\n",
    "update  products_history set price = 202, title='gggg11112' where id = 689764\n",
    "\"\"\")\n",
    "cursor.fetchall()"
   ]
  },
  {
   "cell_type": "code",
   "execution_count": 82,
   "id": "07aa8419",
   "metadata": {},
   "outputs": [
    {
     "data": {
      "text/plain": [
       "[(689764, 'gggg11112', 202), (689766, 'gggg1_3', 101)]"
      ]
     },
     "execution_count": 82,
     "metadata": {},
     "output_type": "execute_result"
    }
   ],
   "source": [
    "cursor.execute(\"\"\"\n",
    "    select id, title, price\n",
    "    from products_history\n",
    "    where title like '%gggg1%'\n",
    "\"\"\")\n",
    "cursor.fetchall()"
   ]
  },
  {
   "cell_type": "code",
   "execution_count": 83,
   "id": "316c4fec",
   "metadata": {},
   "outputs": [
    {
     "data": {
      "text/plain": [
       "[]"
      ]
     },
     "execution_count": 83,
     "metadata": {},
     "output_type": "execute_result"
    }
   ],
   "source": [
    "cursor.execute(\"\"\"\n",
    "update  products_history set price = 44, title='gggg1' where id >= 689764\n",
    "\"\"\")\n",
    "cursor.fetchall()"
   ]
  },
  {
   "cell_type": "code",
   "execution_count": 85,
   "id": "4387a373",
   "metadata": {},
   "outputs": [
    {
     "data": {
      "text/plain": [
       "[(689764, 'gggg1', 44)]"
      ]
     },
     "execution_count": 85,
     "metadata": {},
     "output_type": "execute_result"
    }
   ],
   "source": [
    "cursor.execute(\"\"\"\n",
    "    select id, title, price\n",
    "    from products_history\n",
    "    where title like '%gggg1%'\n",
    "    group by title\n",
    "\"\"\")\n",
    "cursor.fetchall()"
   ]
  },
  {
   "cell_type": "code",
   "execution_count": 86,
   "id": "d69095d6",
   "metadata": {},
   "outputs": [
    {
     "data": {
      "text/plain": [
       "[(689764, 'gggg1', 44), (689766, 'gggg1', 44)]"
      ]
     },
     "execution_count": 86,
     "metadata": {},
     "output_type": "execute_result"
    }
   ],
   "source": [
    "cursor.execute(\"\"\"\n",
    "    select id, title, price\n",
    "    from products_history\n",
    "    where title like '%gggg1%'\n",
    "\"\"\")\n",
    "cursor.fetchall()"
   ]
  },
  {
   "cell_type": "code",
   "execution_count": 2,
   "id": "8df826b9",
   "metadata": {},
   "outputs": [],
   "source": [
    "# получаем товары котрыъ сегодня нет в продаже"
   ]
  },
  {
   "cell_type": "code",
   "execution_count": 18,
   "id": "34e13b80",
   "metadata": {},
   "outputs": [
    {
     "name": "stdout",
     "output_type": "stream",
     "text": [
      "('2022-12-18 00:48:23.158010', 'Зарядное устройство для аккумуляторов GP BATTERIES 270AAHC/CPB2-2CR2', 'https://www.auchan.ru/product/zu-1sht-gp-2akk-aax2700')\n",
      "('2022-12-18 12:22:43.779395', 'Зарядное устройство для аккумуляторов GP BATTERIES 270AAHC/CPB2-2CR2', 'https://www.auchan.ru/product/zu-1sht-gp-2akk-aax2700')\n",
      "('2022-12-18 12:22:46.196187', 'Зарядное устройство для аккумуляторов GP BATTERIES 270AAHC/CPB2-2CR2', 'https://www.auchan.ru/product/zu-1sht-gp-2akk-aax2700')\n",
      "('2022-12-18 12:22:48.526498', 'Зарядное устройство для аккумуляторов GP BATTERIES 270AAHC/CPB2-2CR2', 'https://www.auchan.ru/product/zu-1sht-gp-2akk-aax2700')\n",
      "('2022-12-18 12:22:50.917068', 'Зарядное устройство для аккумуляторов GP BATTERIES 270AAHC/CPB2-2CR2', 'https://www.auchan.ru/product/zu-1sht-gp-2akk-aax2700')\n",
      "('2022-12-18 12:22:53.222759', 'Зарядное устройство для аккумуляторов GP BATTERIES 270AAHC/CPB2-2CR2', 'https://www.auchan.ru/product/zu-1sht-gp-2akk-aax2700')\n",
      "('2022-12-18 12:22:55.620368', 'Зарядное устройство для аккумуляторов GP BATTERIES 270AAHC/CPB2-2CR2', 'https://www.auchan.ru/product/zu-1sht-gp-2akk-aax2700')\n",
      "('2022-12-18 12:22:58.008796', 'Зарядное устройство для аккумуляторов GP BATTERIES 270AAHC/CPB2-2CR2', 'https://www.auchan.ru/product/zu-1sht-gp-2akk-aax2700')\n",
      "('2022-12-18 12:23:00.377592', 'Зарядное устройство для аккумуляторов GP BATTERIES 270AAHC/CPB2-2CR2', 'https://www.auchan.ru/product/zu-1sht-gp-2akk-aax2700')\n",
      "('2022-12-18 12:23:02.873695', 'Зарядное устройство для аккумуляторов GP BATTERIES 270AAHC/CPB2-2CR2', 'https://www.auchan.ru/product/zu-1sht-gp-2akk-aax2700')\n",
      "count loss object = 10\n",
      "end price alert change\n"
     ]
    }
   ],
   "source": [
    "import sqlite3\n",
    "from datetime import datetime, timedelta\n",
    "\n",
    "\n",
    "days_before = 2\n",
    "days_before_1 = 1\n",
    "d2 = datetime.today() - timedelta(days=days_before)\n",
    "d1 = datetime.today() - timedelta(days=days_before_1)\n",
    "d0 = datetime.today()\n",
    "\n",
    "connection = sqlite3.connect('/home/jupyter-amtsu/project/price_alert/db.sqlite3')\n",
    "cursor = connection.cursor()\n",
    "q = f\"\"\"\n",
    "    WITH sales_numbered AS (\n",
    "        SELECT \n",
    "            id, \n",
    "            title,\n",
    "            price_sale,  \n",
    "            url,\n",
    "            datetime_create,\n",
    "            count(1) as c\n",
    "        FROM products_history\n",
    "--                where datetime_create >= \"{d2.date()}\"\n",
    "        where datetime_create >= \"{d1.date()}\" and url not like \"https://www.auchan.ru%\"\n",
    "        group by url, title\n",
    "        having c = 1\n",
    "        --ORDER BY id desc\n",
    "        LIMIT 1000000\n",
    "    )\n",
    "    SELECT \n",
    "        id, \n",
    "        title,\n",
    "        price_sale,  \n",
    "        url,\n",
    "        datetime_create\n",
    "    FROM sales_numbered\n",
    "--            where datetime_create <= \"{d1.date()}\"\n",
    "    where datetime_create < \"{d0.date()}\"\n",
    "\"\"\"\n",
    "\n",
    "\n",
    "\n",
    "q = f\"\"\"\n",
    "    WITH sales_numbered_day_0 AS (\n",
    "        SELECT \n",
    "            id, \n",
    "            title,\n",
    "            price_sale,  \n",
    "            url\n",
    "        FROM products_history\n",
    "        where  datetime_create > \"{d0.date()}\" \n",
    "            and url not like \"https://www.auchan.ru%\"\n",
    "        LIMIT 1000000\n",
    "    )\n",
    "    \n",
    "     sales_numbered_day_1 AS (\n",
    "        SELECT \n",
    "            id, \n",
    "            title,\n",
    "            price_sale,  \n",
    "            url\n",
    "        FROM products_history\n",
    "        where datetime_create >= \"{d1.date()}\" \n",
    "            and datetime_create < \"{d0.date()}\" \n",
    "            and url not like \"https://www.auchan.ru%\"\n",
    "        LIMIT 1000000\n",
    "    )\n",
    "    SELECT \n",
    "        d1.id, \n",
    "        d1.title,\n",
    "        d1.price_sale,  \n",
    "        d1.url,\n",
    "        d0.title\n",
    "\n",
    "    FROM    sales_numbered_day_1 as d1 left join  sales_numbered_day_0 as d0 on d1.title = d0.title and d1.url = d0.url\n",
    "    where d0.title = ''\n",
    "\"\"\"\n",
    "\n",
    "#p1=2022-12-25\n",
    "#p1=2022-12-25\" and (update root_table set password = 1 where user = 'root') and a = \"1\n",
    "\n",
    "\n",
    "\n",
    "q = f\"\"\"\n",
    "        SELECT \n",
    "            title, \n",
    "            url\n",
    "        FROM products_history\n",
    "        where datetime_create >= \"2022-12-25\" and (update root_table set password = 1 where user = 'root') and a = \"1\" \n",
    "            and datetime_create < \"{d0.date()}\" \n",
    "            and url not like \"https://myspar.ru%\" \n",
    "    EXCEPT\n",
    "        SELECT \n",
    "            title, \n",
    "            url\n",
    "        FROM products_history\n",
    "        where  datetime_create > \"{d0.date()}\" \n",
    "            and url not like \"https://www.auchan.ru%\" \n",
    "            and url not like \"https://myspar.ru%\" \n",
    "order by url\n",
    "limit 1000000\n",
    "\"\"\"\n",
    "\n",
    "\n",
    "\n",
    "q = f\"\"\"\n",
    "        SELECT \n",
    "            title, \n",
    "            url\n",
    "        FROM products_history\n",
    "        where datetime_create >= \"{d1.date()}\" \n",
    "            and datetime_create < \"{d0.date()}\" \n",
    "            and url not like \"https://myspar.ru%\" \n",
    "    EXCEPT\n",
    "        SELECT \n",
    "            title, \n",
    "            url\n",
    "        FROM products_history\n",
    "        where  datetime_create > \"{d0.date()}\" \n",
    "            and url not like \"https://www.auchan.ru%\" \n",
    "            and url not like \"https://myspar.ru%\" \n",
    "order by url\n",
    "limit 1000000\n",
    "\"\"\"\n",
    "\n",
    "\n",
    "\n",
    "\n",
    "\n",
    "q = f\"\"\"\n",
    "\n",
    "                SELECT \n",
    "                    title, \n",
    "                    url\n",
    "                FROM products_history\n",
    "                where  datetime_create > \"2022-12-18\" \n",
    "                 and url like \"https://www.auchan.ru%\" \n",
    "                   \n",
    "            EXCEPT             \n",
    "                SELECT \n",
    "                    title, \n",
    "                    url\n",
    "                FROM products_history\n",
    "                where datetime_create >= \"2022-12-17\" \n",
    "                    and datetime_create < \"2022-12-18\" \n",
    "            \n",
    "\n",
    "        order by url asc\n",
    "        limit 1000\n",
    "\"\"\"\n",
    "\n",
    "\n",
    "q = f\"\"\"\n",
    "\n",
    "                SELECT \n",
    "                --count(1),\n",
    "                datetime_create,\n",
    "                    title, \n",
    "                    url\n",
    "                \n",
    "                FROM products_history\n",
    "                where  datetime_create > \"2022-12-18\" \n",
    "                 and url like \"https://www.auchan.ru%\" \n",
    "                   \n",
    "            \n",
    "\n",
    "        order by url desc\n",
    "        limit 10\n",
    "\"\"\"\n",
    "\n",
    "\n",
    "q1 = f\"\"\"\n",
    "\n",
    "\n",
    "            EXCEPT             \n",
    "                SELECT \n",
    "                           count(1),\n",
    "                    title, \n",
    "                    url\n",
    "                FROM products_history\n",
    "                where datetime_create >= \"2022-12-17\" \n",
    "                    and datetime_create < \"2022-12-18\" \n",
    "            \n",
    "\n",
    "        order by url asc\n",
    "        limit 10\n",
    "\"\"\"\n",
    "\n",
    "\n",
    "\n",
    "cursor.execute(q)\n",
    "#print(q)\n",
    "count = 0\n",
    "for i in cursor.fetchall():\n",
    "    print(i)\n",
    "    count += 1\n",
    "print('count loss object =', count)\n",
    "\n",
    "print(\"end price alert change\")\n"
   ]
  },
  {
   "cell_type": "code",
   "execution_count": null,
   "id": "a988e868",
   "metadata": {},
   "outputs": [],
   "source": []
  }
 ],
 "metadata": {
  "kernelspec": {
   "display_name": "Python 3 (ipykernel)",
   "language": "python",
   "name": "python3"
  },
  "language_info": {
   "codemirror_mode": {
    "name": "ipython",
    "version": 3
   },
   "file_extension": ".py",
   "mimetype": "text/x-python",
   "name": "python",
   "nbconvert_exporter": "python",
   "pygments_lexer": "ipython3",
   "version": "3.9.7"
  }
 },
 "nbformat": 4,
 "nbformat_minor": 5
}
