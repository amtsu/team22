{
 "cells": [
  {
   "cell_type": "code",
   "execution_count": 2,
   "metadata": {},
   "outputs": [
    {
     "name": "stdout",
     "output_type": "stream",
     "text": [
      "  amtsur_lesson_14\u001b[m\n",
      "  artem_clean\u001b[m\n",
      "* \u001b[32mmain\u001b[m\n"
     ]
    }
   ],
   "source": [
    "!git branch"
   ]
  },
  {
   "cell_type": "code",
   "execution_count": 3,
   "metadata": {},
   "outputs": [
    {
     "name": "stdout",
     "output_type": "stream",
     "text": [
      "M\tusers/amtsurkov/lesson_14/delo.py\n",
      "M\tusers/amtsurkov/lesson_15/lesson_15.ipynb\n",
      "Already on 'main'\n",
      "Your branch is up-to-date with 'origin/main'.\n"
     ]
    }
   ],
   "source": [
    "!git checkout main"
   ]
  },
  {
   "cell_type": "code",
   "execution_count": 4,
   "metadata": {},
   "outputs": [
    {
     "name": "stdout",
     "output_type": "stream",
     "text": [
      "  amtsur_lesson_14\u001b[m\n",
      "  artem_clean\u001b[m\n",
      "* \u001b[32mmain\u001b[m\n"
     ]
    }
   ],
   "source": [
    "!git branch"
   ]
  },
  {
   "cell_type": "code",
   "execution_count": 5,
   "metadata": {},
   "outputs": [
    {
     "name": "stdout",
     "output_type": "stream",
     "text": [
      "Already up-to-date.\n"
     ]
    }
   ],
   "source": [
    "!git pull"
   ]
  },
  {
   "cell_type": "code",
   "execution_count": 6,
   "metadata": {},
   "outputs": [],
   "source": [
    "!git branch lesson_16"
   ]
  },
  {
   "cell_type": "code",
   "execution_count": 7,
   "metadata": {},
   "outputs": [
    {
     "name": "stdout",
     "output_type": "stream",
     "text": [
      "  amtsur_lesson_14\u001b[m\n",
      "  artem_clean\u001b[m\n",
      "  lesson_16\u001b[m\n",
      "* \u001b[32mmain\u001b[m\n"
     ]
    }
   ],
   "source": [
    "!git branch"
   ]
  },
  {
   "cell_type": "code",
   "execution_count": 8,
   "metadata": {},
   "outputs": [
    {
     "name": "stdout",
     "output_type": "stream",
     "text": [
      "M\tusers/amtsurkov/lesson_14/delo.py\n",
      "M\tusers/amtsurkov/lesson_15/lesson_15.ipynb\n",
      "Switched to branch 'lesson_16'\n"
     ]
    }
   ],
   "source": [
    "!git checkout lesson_16"
   ]
  },
  {
   "cell_type": "code",
   "execution_count": 9,
   "metadata": {},
   "outputs": [
    {
     "name": "stdout",
     "output_type": "stream",
     "text": [
      "On branch lesson_16\n",
      "Changes not staged for commit:\n",
      "  (use \"git add <file>...\" to update what will be committed)\n",
      "  (use \"git checkout -- <file>...\" to discard changes in working directory)\n",
      "\n",
      "\t\u001b[31mmodified:   ../lesson_14/delo.py\u001b[m\n",
      "\t\u001b[31mmodified:   ../lesson_15/lesson_15.ipynb\u001b[m\n",
      "\n",
      "Untracked files:\n",
      "  (use \"git add <file>...\" to include in what will be committed)\n",
      "\n",
      "\t\u001b[31m../lesson_10/hello_team_22/dist/\u001b[m\n",
      "\t\u001b[31m../lesson_10/hello_team_22/hello_team_22.egg-info/\u001b[m\n",
      "\t\u001b[31m../lesson_12/dela_v1.pickle\u001b[m\n",
      "\t\u001b[31m../lesson_12/dela_v2.pickle\u001b[m\n",
      "\t\u001b[31m../lesson_12/dela_v3.pickle\u001b[m\n",
      "\t\u001b[31m../lesson_12/dela_v4.pickle\u001b[m\n",
      "\t\u001b[31m./\u001b[m\n",
      "\n",
      "no changes added to commit (use \"git add\" and/or \"git commit -a\")\n"
     ]
    }
   ],
   "source": [
    "!git status"
   ]
  },
  {
   "cell_type": "code",
   "execution_count": 11,
   "metadata": {},
   "outputs": [],
   "source": [
    "#!git diff"
   ]
  },
  {
   "cell_type": "code",
   "execution_count": 13,
   "metadata": {},
   "outputs": [
    {
     "data": {
      "text/plain": [
       "u'/home/amtsurkov/github/team22/users/amtsurkov/lesson_16'"
      ]
     },
     "execution_count": 13,
     "metadata": {},
     "output_type": "execute_result"
    }
   ],
   "source": [
    "pwd"
   ]
  },
  {
   "cell_type": "code",
   "execution_count": 14,
   "metadata": {},
   "outputs": [
    {
     "name": "stdout",
     "output_type": "stream",
     "text": [
      "/home/amtsurkov/github/team22/users/amtsurkov\n"
     ]
    }
   ],
   "source": [
    "cd .."
   ]
  },
  {
   "cell_type": "code",
   "execution_count": 15,
   "metadata": {},
   "outputs": [
    {
     "data": {
      "text/plain": [
       "u'/home/amtsurkov/github/team22/users/amtsurkov'"
      ]
     },
     "execution_count": 15,
     "metadata": {},
     "output_type": "execute_result"
    }
   ],
   "source": [
    "pwd"
   ]
  },
  {
   "cell_type": "code",
   "execution_count": 16,
   "metadata": {},
   "outputs": [
    {
     "name": "stdout",
     "output_type": "stream",
     "text": [
      "/home/amtsurkov/github/team22\n"
     ]
    }
   ],
   "source": [
    "cd ../.."
   ]
  },
  {
   "cell_type": "code",
   "execution_count": 17,
   "metadata": {},
   "outputs": [
    {
     "data": {
      "text/plain": [
       "u'/home/amtsurkov/github/team22'"
      ]
     },
     "execution_count": 17,
     "metadata": {},
     "output_type": "execute_result"
    }
   ],
   "source": [
    "pwd"
   ]
  },
  {
   "cell_type": "code",
   "execution_count": 18,
   "metadata": {},
   "outputs": [
    {
     "name": "stdout",
     "output_type": "stream",
     "text": [
      "On branch lesson_16\n",
      "Changes not staged for commit:\n",
      "  (use \"git add <file>...\" to update what will be committed)\n",
      "  (use \"git checkout -- <file>...\" to discard changes in working directory)\n",
      "\n",
      "\t\u001b[31mmodified:   users/amtsurkov/lesson_14/delo.py\u001b[m\n",
      "\t\u001b[31mmodified:   users/amtsurkov/lesson_15/lesson_15.ipynb\u001b[m\n",
      "\n",
      "Untracked files:\n",
      "  (use \"git add <file>...\" to include in what will be committed)\n",
      "\n",
      "\t\u001b[31musers/amtsurkov/lesson_10/hello_team_22/dist/\u001b[m\n",
      "\t\u001b[31musers/amtsurkov/lesson_10/hello_team_22/hello_team_22.egg-info/\u001b[m\n",
      "\t\u001b[31musers/amtsurkov/lesson_12/dela_v1.pickle\u001b[m\n",
      "\t\u001b[31musers/amtsurkov/lesson_12/dela_v2.pickle\u001b[m\n",
      "\t\u001b[31musers/amtsurkov/lesson_12/dela_v3.pickle\u001b[m\n",
      "\t\u001b[31musers/amtsurkov/lesson_12/dela_v4.pickle\u001b[m\n",
      "\t\u001b[31musers/amtsurkov/lesson_16/\u001b[m\n",
      "\n",
      "no changes added to commit (use \"git add\" and/or \"git commit -a\")\n"
     ]
    }
   ],
   "source": [
    "!git status"
   ]
  },
  {
   "cell_type": "code",
   "execution_count": 19,
   "metadata": {},
   "outputs": [],
   "source": [
    "!git add users/amtsurkov/lesson_14/delo.py  users/amtsurkov/lesson_15/lesson_15.ipynb"
   ]
  },
  {
   "cell_type": "code",
   "execution_count": 20,
   "metadata": {},
   "outputs": [
    {
     "name": "stdout",
     "output_type": "stream",
     "text": [
      "  amtsur_lesson_14\u001b[m\n",
      "  artem_clean\u001b[m\n",
      "* \u001b[32mlesson_16\u001b[m\n",
      "  main\u001b[m\n"
     ]
    }
   ],
   "source": [
    "!git branch"
   ]
  },
  {
   "cell_type": "code",
   "execution_count": 21,
   "metadata": {},
   "outputs": [
    {
     "name": "stdout",
     "output_type": "stream",
     "text": [
      "[lesson_16 45106b1] lesson part 1\n",
      " 2 files changed, 393 insertions(+), 408 deletions(-)\n",
      " rewrite users/amtsurkov/lesson_15/lesson_15.ipynb (99%)\n"
     ]
    }
   ],
   "source": [
    "!git commit -m 'lesson part 1'"
   ]
  },
  {
   "cell_type": "code",
   "execution_count": 23,
   "metadata": {},
   "outputs": [
    {
     "name": "stdout",
     "output_type": "stream",
     "text": [
      "On branch lesson_16\n",
      "Untracked files:\n",
      "  (use \"git add <file>...\" to include in what will be committed)\n",
      "\n",
      "\t\u001b[31musers/amtsurkov/lesson_10/hello_team_22/dist/\u001b[m\n",
      "\t\u001b[31musers/amtsurkov/lesson_10/hello_team_22/hello_team_22.egg-info/\u001b[m\n",
      "\t\u001b[31musers/amtsurkov/lesson_12/dela_v1.pickle\u001b[m\n",
      "\t\u001b[31musers/amtsurkov/lesson_12/dela_v2.pickle\u001b[m\n",
      "\t\u001b[31musers/amtsurkov/lesson_12/dela_v3.pickle\u001b[m\n",
      "\t\u001b[31musers/amtsurkov/lesson_12/dela_v4.pickle\u001b[m\n",
      "\t\u001b[31musers/amtsurkov/lesson_16/\u001b[m\n",
      "\n",
      "nothing added to commit but untracked files present (use \"git add\" to track)\n"
     ]
    }
   ],
   "source": [
    "!git status"
   ]
  },
  {
   "cell_type": "code",
   "execution_count": 24,
   "metadata": {},
   "outputs": [
    {
     "name": "stdout",
     "output_type": "stream",
     "text": [
      "Switched to branch 'main'\n",
      "Your branch is up-to-date with 'origin/main'.\n"
     ]
    }
   ],
   "source": [
    "!git  checkout main"
   ]
  },
  {
   "cell_type": "code",
   "execution_count": 25,
   "metadata": {},
   "outputs": [
    {
     "name": "stdout",
     "output_type": "stream",
     "text": [
      "  amtsur_lesson_14\u001b[m\n",
      "  artem_clean\u001b[m\n",
      "  lesson_16\u001b[m\n",
      "* \u001b[32mmain\u001b[m\n"
     ]
    }
   ],
   "source": [
    "!git branch"
   ]
  },
  {
   "cell_type": "code",
   "execution_count": 26,
   "metadata": {},
   "outputs": [
    {
     "name": "stdout",
     "output_type": "stream",
     "text": [
      "Switched to branch 'lesson_16'\n"
     ]
    }
   ],
   "source": [
    "!git checkout lesson_16"
   ]
  },
  {
   "cell_type": "code",
   "execution_count": 27,
   "metadata": {},
   "outputs": [
    {
     "name": "stdout",
     "output_type": "stream",
     "text": [
      "  amtsur_lesson_14\u001b[m\n",
      "  artem_clean\u001b[m\n",
      "* \u001b[32mlesson_16\u001b[m\n",
      "  main\u001b[m\n"
     ]
    }
   ],
   "source": [
    "!git branch"
   ]
  },
  {
   "cell_type": "code",
   "execution_count": 28,
   "metadata": {},
   "outputs": [
    {
     "name": "stdout",
     "output_type": "stream",
     "text": [
      "On branch lesson_16\n",
      "Untracked files:\n",
      "  (use \"git add <file>...\" to include in what will be committed)\n",
      "\n",
      "\t\u001b[31musers/amtsurkov/lesson_10/hello_team_22/dist/\u001b[m\n",
      "\t\u001b[31musers/amtsurkov/lesson_10/hello_team_22/hello_team_22.egg-info/\u001b[m\n",
      "\t\u001b[31musers/amtsurkov/lesson_12/dela_v1.pickle\u001b[m\n",
      "\t\u001b[31musers/amtsurkov/lesson_12/dela_v2.pickle\u001b[m\n",
      "\t\u001b[31musers/amtsurkov/lesson_12/dela_v3.pickle\u001b[m\n",
      "\t\u001b[31musers/amtsurkov/lesson_12/dela_v4.pickle\u001b[m\n",
      "\t\u001b[31musers/amtsurkov/lesson_16/\u001b[m\n",
      "\n",
      "nothing added to commit but untracked files present (use \"git add\" to track)\n"
     ]
    }
   ],
   "source": [
    "!git status"
   ]
  },
  {
   "cell_type": "code",
   "execution_count": null,
   "metadata": {},
   "outputs": [],
   "source": []
  }
 ],
 "metadata": {
  "kernelspec": {
   "display_name": "Python 2",
   "language": "python",
   "name": "python2"
  },
  "language_info": {
   "codemirror_mode": {
    "name": "ipython",
    "version": 2
   },
   "file_extension": ".py",
   "mimetype": "text/x-python",
   "name": "python",
   "nbconvert_exporter": "python",
   "pygments_lexer": "ipython2",
   "version": "2.7.12"
  }
 },
 "nbformat": 4,
 "nbformat_minor": 2
}
