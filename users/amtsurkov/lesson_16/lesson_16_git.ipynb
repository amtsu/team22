{
 "cells": [
  {
   "cell_type": "code",
   "execution_count": 2,
   "metadata": {},
   "outputs": [
    {
     "name": "stdout",
     "output_type": "stream",
     "text": [
      "  amtsur_lesson_14\u001b[m\n",
      "  artem_clean\u001b[m\n",
      "* \u001b[32mmain\u001b[m\n"
     ]
    }
   ],
   "source": [
    "!git branch"
   ]
  },
  {
   "cell_type": "code",
   "execution_count": 3,
   "metadata": {},
   "outputs": [
    {
     "name": "stdout",
     "output_type": "stream",
     "text": [
      "M\tusers/amtsurkov/lesson_14/delo.py\n",
      "M\tusers/amtsurkov/lesson_15/lesson_15.ipynb\n",
      "Already on 'main'\n",
      "Your branch is up-to-date with 'origin/main'.\n"
     ]
    }
   ],
   "source": [
    "!git checkout main"
   ]
  },
  {
   "cell_type": "code",
   "execution_count": 4,
   "metadata": {},
   "outputs": [
    {
     "name": "stdout",
     "output_type": "stream",
     "text": [
      "  amtsur_lesson_14\u001b[m\n",
      "  artem_clean\u001b[m\n",
      "* \u001b[32mmain\u001b[m\n"
     ]
    }
   ],
   "source": [
    "!git branch"
   ]
  },
  {
   "cell_type": "code",
   "execution_count": 5,
   "metadata": {},
   "outputs": [
    {
     "name": "stdout",
     "output_type": "stream",
     "text": [
      "Already up-to-date.\n"
     ]
    }
   ],
   "source": [
    "!git pull"
   ]
  },
  {
   "cell_type": "code",
   "execution_count": 6,
   "metadata": {},
   "outputs": [],
   "source": [
    "!git branch lesson_16"
   ]
  },
  {
   "cell_type": "code",
   "execution_count": 7,
   "metadata": {},
   "outputs": [
    {
     "name": "stdout",
     "output_type": "stream",
     "text": [
      "  amtsur_lesson_14\u001b[m\n",
      "  artem_clean\u001b[m\n",
      "  lesson_16\u001b[m\n",
      "* \u001b[32mmain\u001b[m\n"
     ]
    }
   ],
   "source": [
    "!git branch"
   ]
  },
  {
   "cell_type": "code",
   "execution_count": 8,
   "metadata": {},
   "outputs": [
    {
     "name": "stdout",
     "output_type": "stream",
     "text": [
      "M\tusers/amtsurkov/lesson_14/delo.py\n",
      "M\tusers/amtsurkov/lesson_15/lesson_15.ipynb\n",
      "Switched to branch 'lesson_16'\n"
     ]
    }
   ],
   "source": [
    "!git checkout lesson_16"
   ]
  },
  {
   "cell_type": "code",
   "execution_count": 9,
   "metadata": {},
   "outputs": [
    {
     "name": "stdout",
     "output_type": "stream",
     "text": [
      "On branch lesson_16\n",
      "Changes not staged for commit:\n",
      "  (use \"git add <file>...\" to update what will be committed)\n",
      "  (use \"git checkout -- <file>...\" to discard changes in working directory)\n",
      "\n",
      "\t\u001b[31mmodified:   ../lesson_14/delo.py\u001b[m\n",
      "\t\u001b[31mmodified:   ../lesson_15/lesson_15.ipynb\u001b[m\n",
      "\n",
      "Untracked files:\n",
      "  (use \"git add <file>...\" to include in what will be committed)\n",
      "\n",
      "\t\u001b[31m../lesson_10/hello_team_22/dist/\u001b[m\n",
      "\t\u001b[31m../lesson_10/hello_team_22/hello_team_22.egg-info/\u001b[m\n",
      "\t\u001b[31m../lesson_12/dela_v1.pickle\u001b[m\n",
      "\t\u001b[31m../lesson_12/dela_v2.pickle\u001b[m\n",
      "\t\u001b[31m../lesson_12/dela_v3.pickle\u001b[m\n",
      "\t\u001b[31m../lesson_12/dela_v4.pickle\u001b[m\n",
      "\t\u001b[31m./\u001b[m\n",
      "\n",
      "no changes added to commit (use \"git add\" and/or \"git commit -a\")\n"
     ]
    }
   ],
   "source": [
    "!git status"
   ]
  },
  {
   "cell_type": "code",
   "execution_count": 11,
   "metadata": {},
   "outputs": [],
   "source": [
    "#!git diff"
   ]
  },
  {
   "cell_type": "code",
   "execution_count": 13,
   "metadata": {},
   "outputs": [
    {
     "data": {
      "text/plain": [
       "u'/home/amtsurkov/github/team22/users/amtsurkov/lesson_16'"
      ]
     },
     "execution_count": 13,
     "metadata": {},
     "output_type": "execute_result"
    }
   ],
   "source": [
    "pwd"
   ]
  },
  {
   "cell_type": "code",
   "execution_count": 14,
   "metadata": {},
   "outputs": [
    {
     "name": "stdout",
     "output_type": "stream",
     "text": [
      "/home/amtsurkov/github/team22/users/amtsurkov\n"
     ]
    }
   ],
   "source": [
    "cd .."
   ]
  },
  {
   "cell_type": "code",
   "execution_count": 15,
   "metadata": {},
   "outputs": [
    {
     "data": {
      "text/plain": [
       "u'/home/amtsurkov/github/team22/users/amtsurkov'"
      ]
     },
     "execution_count": 15,
     "metadata": {},
     "output_type": "execute_result"
    }
   ],
   "source": [
    "pwd"
   ]
  },
  {
   "cell_type": "code",
   "execution_count": 16,
   "metadata": {},
   "outputs": [
    {
     "name": "stdout",
     "output_type": "stream",
     "text": [
      "/home/amtsurkov/github/team22\n"
     ]
    }
   ],
   "source": [
    "cd ../.."
   ]
  },
  {
   "cell_type": "code",
   "execution_count": 17,
   "metadata": {},
   "outputs": [
    {
     "data": {
      "text/plain": [
       "u'/home/amtsurkov/github/team22'"
      ]
     },
     "execution_count": 17,
     "metadata": {},
     "output_type": "execute_result"
    }
   ],
   "source": [
    "pwd"
   ]
  },
  {
   "cell_type": "code",
   "execution_count": 18,
   "metadata": {},
   "outputs": [
    {
     "name": "stdout",
     "output_type": "stream",
     "text": [
      "On branch lesson_16\n",
      "Changes not staged for commit:\n",
      "  (use \"git add <file>...\" to update what will be committed)\n",
      "  (use \"git checkout -- <file>...\" to discard changes in working directory)\n",
      "\n",
      "\t\u001b[31mmodified:   users/amtsurkov/lesson_14/delo.py\u001b[m\n",
      "\t\u001b[31mmodified:   users/amtsurkov/lesson_15/lesson_15.ipynb\u001b[m\n",
      "\n",
      "Untracked files:\n",
      "  (use \"git add <file>...\" to include in what will be committed)\n",
      "\n",
      "\t\u001b[31musers/amtsurkov/lesson_10/hello_team_22/dist/\u001b[m\n",
      "\t\u001b[31musers/amtsurkov/lesson_10/hello_team_22/hello_team_22.egg-info/\u001b[m\n",
      "\t\u001b[31musers/amtsurkov/lesson_12/dela_v1.pickle\u001b[m\n",
      "\t\u001b[31musers/amtsurkov/lesson_12/dela_v2.pickle\u001b[m\n",
      "\t\u001b[31musers/amtsurkov/lesson_12/dela_v3.pickle\u001b[m\n",
      "\t\u001b[31musers/amtsurkov/lesson_12/dela_v4.pickle\u001b[m\n",
      "\t\u001b[31musers/amtsurkov/lesson_16/\u001b[m\n",
      "\n",
      "no changes added to commit (use \"git add\" and/or \"git commit -a\")\n"
     ]
    }
   ],
   "source": [
    "!git status"
   ]
  },
  {
   "cell_type": "code",
   "execution_count": 19,
   "metadata": {},
   "outputs": [],
   "source": [
    "!git add users/amtsurkov/lesson_14/delo.py  users/amtsurkov/lesson_15/lesson_15.ipynb"
   ]
  },
  {
   "cell_type": "code",
   "execution_count": 20,
   "metadata": {},
   "outputs": [
    {
     "name": "stdout",
     "output_type": "stream",
     "text": [
      "  amtsur_lesson_14\u001b[m\n",
      "  artem_clean\u001b[m\n",
      "* \u001b[32mlesson_16\u001b[m\n",
      "  main\u001b[m\n"
     ]
    }
   ],
   "source": [
    "!git branch"
   ]
  },
  {
   "cell_type": "code",
   "execution_count": 21,
   "metadata": {},
   "outputs": [
    {
     "name": "stdout",
     "output_type": "stream",
     "text": [
      "[lesson_16 45106b1] lesson part 1\n",
      " 2 files changed, 393 insertions(+), 408 deletions(-)\n",
      " rewrite users/amtsurkov/lesson_15/lesson_15.ipynb (99%)\n"
     ]
    }
   ],
   "source": [
    "!git commit -m 'lesson part 1'"
   ]
  },
  {
   "cell_type": "code",
   "execution_count": 23,
   "metadata": {},
   "outputs": [
    {
     "name": "stdout",
     "output_type": "stream",
     "text": [
      "On branch lesson_16\n",
      "Untracked files:\n",
      "  (use \"git add <file>...\" to include in what will be committed)\n",
      "\n",
      "\t\u001b[31musers/amtsurkov/lesson_10/hello_team_22/dist/\u001b[m\n",
      "\t\u001b[31musers/amtsurkov/lesson_10/hello_team_22/hello_team_22.egg-info/\u001b[m\n",
      "\t\u001b[31musers/amtsurkov/lesson_12/dela_v1.pickle\u001b[m\n",
      "\t\u001b[31musers/amtsurkov/lesson_12/dela_v2.pickle\u001b[m\n",
      "\t\u001b[31musers/amtsurkov/lesson_12/dela_v3.pickle\u001b[m\n",
      "\t\u001b[31musers/amtsurkov/lesson_12/dela_v4.pickle\u001b[m\n",
      "\t\u001b[31musers/amtsurkov/lesson_16/\u001b[m\n",
      "\n",
      "nothing added to commit but untracked files present (use \"git add\" to track)\n"
     ]
    }
   ],
   "source": [
    "!git status"
   ]
  },
  {
   "cell_type": "code",
   "execution_count": 24,
   "metadata": {},
   "outputs": [
    {
     "name": "stdout",
     "output_type": "stream",
     "text": [
      "Switched to branch 'main'\n",
      "Your branch is up-to-date with 'origin/main'.\n"
     ]
    }
   ],
   "source": [
    "!git  checkout main"
   ]
  },
  {
   "cell_type": "code",
   "execution_count": 25,
   "metadata": {},
   "outputs": [
    {
     "name": "stdout",
     "output_type": "stream",
     "text": [
      "  amtsur_lesson_14\u001b[m\n",
      "  artem_clean\u001b[m\n",
      "  lesson_16\u001b[m\n",
      "* \u001b[32mmain\u001b[m\n"
     ]
    }
   ],
   "source": [
    "!git branch"
   ]
  },
  {
   "cell_type": "code",
   "execution_count": 26,
   "metadata": {},
   "outputs": [
    {
     "name": "stdout",
     "output_type": "stream",
     "text": [
      "Switched to branch 'lesson_16'\n"
     ]
    }
   ],
   "source": [
    "!git checkout lesson_16"
   ]
  },
  {
   "cell_type": "code",
   "execution_count": 27,
   "metadata": {},
   "outputs": [
    {
     "name": "stdout",
     "output_type": "stream",
     "text": [
      "  amtsur_lesson_14\u001b[m\n",
      "  artem_clean\u001b[m\n",
      "* \u001b[32mlesson_16\u001b[m\n",
      "  main\u001b[m\n"
     ]
    }
   ],
   "source": [
    "!git branch"
   ]
  },
  {
   "cell_type": "code",
   "execution_count": 28,
   "metadata": {},
   "outputs": [
    {
     "name": "stdout",
     "output_type": "stream",
     "text": [
      "On branch lesson_16\n",
      "Untracked files:\n",
      "  (use \"git add <file>...\" to include in what will be committed)\n",
      "\n",
      "\t\u001b[31musers/amtsurkov/lesson_10/hello_team_22/dist/\u001b[m\n",
      "\t\u001b[31musers/amtsurkov/lesson_10/hello_team_22/hello_team_22.egg-info/\u001b[m\n",
      "\t\u001b[31musers/amtsurkov/lesson_12/dela_v1.pickle\u001b[m\n",
      "\t\u001b[31musers/amtsurkov/lesson_12/dela_v2.pickle\u001b[m\n",
      "\t\u001b[31musers/amtsurkov/lesson_12/dela_v3.pickle\u001b[m\n",
      "\t\u001b[31musers/amtsurkov/lesson_12/dela_v4.pickle\u001b[m\n",
      "\t\u001b[31musers/amtsurkov/lesson_16/\u001b[m\n",
      "\n",
      "nothing added to commit but untracked files present (use \"git add\" to track)\n"
     ]
    }
   ],
   "source": [
    "!git status"
   ]
  },
  {
   "cell_type": "code",
   "execution_count": 29,
   "metadata": {},
   "outputs": [
    {
     "name": "stdout",
     "output_type": "stream",
     "text": [
      "total 40\n",
      "drwxr-xr-x  3 amtsurkov education  4096 Nov  6 21:41 \u001b[0m\u001b[01;34m.\u001b[0m/\n",
      "drwxr-xr-x 13 amtsurkov education  4096 Nov  6 19:23 \u001b[01;34m..\u001b[0m/\n",
      "drwxr-xr-x  2 amtsurkov education  4096 Nov  6 21:33 \u001b[01;34m.ipynb_checkpoints\u001b[0m/\n",
      "-rw-r--r--  1 amtsurkov education 11380 Nov  6 21:41 lesson_16_git.ipynb\n",
      "-rw-r--r--  1 amtsurkov education  8368 Nov  6 21:20 lesson_16.ipynb\n",
      "-rw-r--r--  1 amtsurkov education  1025 Nov  6 21:27 send_email.py\n"
     ]
    }
   ],
   "source": [
    "ls -la users/amtsurkov/lesson_16/"
   ]
  },
  {
   "cell_type": "code",
   "execution_count": 30,
   "metadata": {},
   "outputs": [],
   "source": [
    "!git add users/amtsurkov/lesson_16/lesson_16_git.ipynb"
   ]
  },
  {
   "cell_type": "code",
   "execution_count": 31,
   "metadata": {},
   "outputs": [
    {
     "name": "stdout",
     "output_type": "stream",
     "text": [
      "On branch lesson_16\n",
      "Changes to be committed:\n",
      "  (use \"git reset HEAD <file>...\" to unstage)\n",
      "\n",
      "\t\u001b[32mnew file:   users/amtsurkov/lesson_16/lesson_16_git.ipynb\u001b[m\n",
      "\n",
      "Untracked files:\n",
      "  (use \"git add <file>...\" to include in what will be committed)\n",
      "\n",
      "\t\u001b[31musers/amtsurkov/lesson_10/hello_team_22/dist/\u001b[m\n",
      "\t\u001b[31musers/amtsurkov/lesson_10/hello_team_22/hello_team_22.egg-info/\u001b[m\n",
      "\t\u001b[31musers/amtsurkov/lesson_12/dela_v1.pickle\u001b[m\n",
      "\t\u001b[31musers/amtsurkov/lesson_12/dela_v2.pickle\u001b[m\n",
      "\t\u001b[31musers/amtsurkov/lesson_12/dela_v3.pickle\u001b[m\n",
      "\t\u001b[31musers/amtsurkov/lesson_12/dela_v4.pickle\u001b[m\n",
      "\t\u001b[31musers/amtsurkov/lesson_16/lesson_16.ipynb\u001b[m\n",
      "\t\u001b[31musers/amtsurkov/lesson_16/send_email.py\u001b[m\n",
      "\n"
     ]
    }
   ],
   "source": [
    "!git status"
   ]
  },
  {
   "cell_type": "code",
   "execution_count": 32,
   "metadata": {},
   "outputs": [],
   "source": [
    "!git add users/amtsurkov/lesson_16/lesson_16.ipynb users/amtsurkov/lesson_16/send_email.py"
   ]
  },
  {
   "cell_type": "code",
   "execution_count": 33,
   "metadata": {},
   "outputs": [
    {
     "name": "stdout",
     "output_type": "stream",
     "text": [
      "On branch lesson_16\n",
      "Changes to be committed:\n",
      "  (use \"git reset HEAD <file>...\" to unstage)\n",
      "\n",
      "\t\u001b[32mnew file:   users/amtsurkov/lesson_16/lesson_16.ipynb\u001b[m\n",
      "\t\u001b[32mnew file:   users/amtsurkov/lesson_16/lesson_16_git.ipynb\u001b[m\n",
      "\t\u001b[32mnew file:   users/amtsurkov/lesson_16/send_email.py\u001b[m\n",
      "\n",
      "Untracked files:\n",
      "  (use \"git add <file>...\" to include in what will be committed)\n",
      "\n",
      "\t\u001b[31musers/amtsurkov/lesson_10/hello_team_22/dist/\u001b[m\n",
      "\t\u001b[31musers/amtsurkov/lesson_10/hello_team_22/hello_team_22.egg-info/\u001b[m\n",
      "\t\u001b[31musers/amtsurkov/lesson_12/dela_v1.pickle\u001b[m\n",
      "\t\u001b[31musers/amtsurkov/lesson_12/dela_v2.pickle\u001b[m\n",
      "\t\u001b[31musers/amtsurkov/lesson_12/dela_v3.pickle\u001b[m\n",
      "\t\u001b[31musers/amtsurkov/lesson_12/dela_v4.pickle\u001b[m\n",
      "\n"
     ]
    }
   ],
   "source": [
    "!git status"
   ]
  },
  {
   "cell_type": "code",
   "execution_count": 34,
   "metadata": {},
   "outputs": [
    {
     "name": "stdout",
     "output_type": "stream",
     "text": [
      "[lesson_16 2edfeb5] lsson 16 part 2\n",
      " 3 files changed, 972 insertions(+)\n",
      " create mode 100644 users/amtsurkov/lesson_16/lesson_16.ipynb\n",
      " create mode 100644 users/amtsurkov/lesson_16/lesson_16_git.ipynb\n",
      " create mode 100644 users/amtsurkov/lesson_16/send_email.py\n"
     ]
    }
   ],
   "source": [
    "!git commit -m 'lsson 16 part 2'"
   ]
  },
  {
   "cell_type": "code",
   "execution_count": 35,
   "metadata": {},
   "outputs": [
    {
     "name": "stdout",
     "output_type": "stream",
     "text": [
      "  amtsur_lesson_14\u001b[m\n",
      "  artem_clean\u001b[m\n",
      "* \u001b[32mlesson_16\u001b[m\n",
      "  main\u001b[m\n"
     ]
    }
   ],
   "source": [
    "!git branch"
   ]
  },
  {
   "cell_type": "code",
   "execution_count": 36,
   "metadata": {},
   "outputs": [
    {
     "name": "stdout",
     "output_type": "stream",
     "text": [
      "  amtsur_lesson_14\u001b[m\n",
      "  artem_clean\u001b[m\n",
      "* \u001b[32mlesson_16\u001b[m\n",
      "  main\u001b[m\n",
      "  \u001b[31mremotes/origin/HEAD\u001b[m -> origin/main\n",
      "  \u001b[31mremotes/origin/Mvandreeva-lesson-11-hw-v2\u001b[m\n",
      "  \u001b[31mremotes/origin/amtsur_lesson_14\u001b[m\n",
      "  \u001b[31mremotes/origin/amtsurkov\u001b[m\n",
      "  \u001b[31mremotes/origin/aochernyshev\u001b[m\n",
      "  \u001b[31mremotes/origin/aominakov\u001b[m\n",
      "  \u001b[31mremotes/origin/aominakov_v2\u001b[m\n",
      "  \u001b[31mremotes/origin/aominakov_v3\u001b[m\n",
      "  \u001b[31mremotes/origin/apyatnitskiy\u001b[m\n",
      "  \u001b[31mremotes/origin/artem_clean\u001b[m\n",
      "  \u001b[31mremotes/origin/asneman\u001b[m\n",
      "  \u001b[31mremotes/origin/kstimofeev\u001b[m\n",
      "  \u001b[31mremotes/origin/main\u001b[m\n",
      "  \u001b[31mremotes/origin/mvandreeva\u001b[m\n",
      "  \u001b[31mremotes/origin/mvandreeva_lesson_11_HW\u001b[m\n",
      "  \u001b[31mremotes/origin/mvandreeva_lesson_11_HW_v2\u001b[m\n",
      "  \u001b[31mremotes/origin/mvandreeva_v2\u001b[m\n",
      "  \u001b[31mremotes/origin/revert-26-mvandreeva_v2\u001b[m\n",
      "  \u001b[31mremotes/origin/sigrischenko\u001b[m\n",
      "  \u001b[31mremotes/origin/sigrischenko2\u001b[m\n",
      "  \u001b[31mremotes/origin/sivanov\u001b[m\n",
      "  \u001b[31mremotes/origin/viukhanov\u001b[m\n",
      "  \u001b[31mremotes/origin/viukhanov_homework2_v1\u001b[m\n",
      "  \u001b[31mremotes/origin/vstimofeeva\u001b[m\n"
     ]
    }
   ],
   "source": [
    "!git branch -a"
   ]
  },
  {
   "cell_type": "code",
   "execution_count": 37,
   "metadata": {},
   "outputs": [
    {
     "name": "stdout",
     "output_type": "stream",
     "text": [
      "warning: push.default is unset; its implicit value has changed in\n",
      "Git 2.0 from 'matching' to 'simple'. To squelch this message\n",
      "and maintain the traditional behavior, use:\n",
      "\n",
      "  git config --global push.default matching\n",
      "\n",
      "To squelch this message and adopt the new behavior now, use:\n",
      "\n",
      "  git config --global push.default simple\n",
      "\n",
      "When push.default is set to 'matching', git will push local branches\n",
      "to the remote branches that already exist with the same name.\n",
      "\n",
      "Since Git 2.0, Git defaults to the more conservative 'simple'\n",
      "behavior, which only pushes the current branch to the corresponding\n",
      "remote branch that 'git pull' uses to update the current branch.\n",
      "\n",
      "See 'git help config' and search for 'push.default' for further information.\n",
      "(the 'simple' mode was introduced in Git 1.7.11. Use the similar mode\n",
      "'current' instead of 'simple' if you sometimes use older versions of Git)\n",
      "\n",
      "fatal: The current branch lesson_16 has no upstream branch.\n",
      "To push the current branch and set the remote as upstream, use\n",
      "\n",
      "    git push --set-upstream origin lesson_16\n",
      "\n"
     ]
    }
   ],
   "source": [
    "!git push"
   ]
  },
  {
   "cell_type": "code",
   "execution_count": 38,
   "metadata": {},
   "outputs": [
    {
     "name": "stdout",
     "output_type": "stream",
     "text": [
      "Counting objects: 16, done.\n",
      "Compressing objects: 100% (15/15), done.\n",
      "Writing objects: 100% (16/16), 5.59 KiB | 0 bytes/s, done.\n",
      "Total 16 (delta 10), reused 0 (delta 0)\n",
      "remote: Resolving deltas: 100% (10/10), completed with 5 local objects.\u001b[K\n",
      "remote: \n",
      "remote: Create a pull request for 'lesson_16' on GitHub by visiting:\u001b[K\n",
      "remote:      https://github.com/amtsu/team22/pull/new/lesson_16\u001b[K\n",
      "remote: \n",
      "To git@github.com:amtsu/team22.git\n",
      " * [new branch]      lesson_16 -> lesson_16\n",
      "Branch lesson_16 set up to track remote branch lesson_16 from origin.\n"
     ]
    }
   ],
   "source": [
    "!git push --set-upstream origin lesson_16"
   ]
  },
  {
   "cell_type": "code",
   "execution_count": 39,
   "metadata": {},
   "outputs": [
    {
     "name": "stdout",
     "output_type": "stream",
     "text": [
      "  amtsur_lesson_14\u001b[m\n",
      "  artem_clean\u001b[m\n",
      "* \u001b[32mlesson_16\u001b[m\n",
      "  main\u001b[m\n"
     ]
    }
   ],
   "source": [
    "!git branch"
   ]
  },
  {
   "cell_type": "code",
   "execution_count": 41,
   "metadata": {},
   "outputs": [],
   "source": [
    "#!git diff -r artem_clean amtsur_lesson_14"
   ]
  },
  {
   "cell_type": "code",
   "execution_count": null,
   "metadata": {},
   "outputs": [],
   "source": []
  }
 ],
 "metadata": {
  "kernelspec": {
   "display_name": "Python 2",
   "language": "python",
   "name": "python2"
  },
  "language_info": {
   "codemirror_mode": {
    "name": "ipython",
    "version": 2
   },
   "file_extension": ".py",
   "mimetype": "text/x-python",
   "name": "python",
   "nbconvert_exporter": "python",
   "pygments_lexer": "ipython2",
   "version": "2.7.12"
  }
 },
 "nbformat": 4,
 "nbformat_minor": 2
}
