{
 "cells": [
  {
   "cell_type": "code",
   "execution_count": 1,
   "metadata": {},
   "outputs": [],
   "source": [
    "#!/usr/local/bin/python\n",
    "# coding: utf-8"
   ]
  },
  {
   "cell_type": "markdown",
   "metadata": {},
   "source": [
    "Отправить пользователлю письмо если цена на интересуюещи товар https://trial-sport.ru/goods/51530/1179889.html снизилась, и стала меньше 2000 р"
   ]
  },
  {
   "cell_type": "code",
   "execution_count": 2,
   "metadata": {},
   "outputs": [],
   "source": [
    "import urllib"
   ]
  },
  {
   "cell_type": "code",
   "execution_count": 3,
   "metadata": {},
   "outputs": [],
   "source": [
    "from bs4 import BeautifulSoup"
   ]
  },
  {
   "cell_type": "code",
   "execution_count": 4,
   "metadata": {},
   "outputs": [],
   "source": [
    "import smtplib"
   ]
  },
  {
   "cell_type": "code",
   "execution_count": 5,
   "metadata": {},
   "outputs": [],
   "source": [
    "from email.mime.text import MIMEText"
   ]
  },
  {
   "cell_type": "code",
   "execution_count": 6,
   "metadata": {},
   "outputs": [],
   "source": [
    "page = urllib.urlopen(\"https://trial-sport.ru/goods/51530/1179889.html\")"
   ]
  },
  {
   "cell_type": "code",
   "execution_count": 7,
   "metadata": {},
   "outputs": [
    {
     "data": {
      "text/plain": [
       "200"
      ]
     },
     "execution_count": 7,
     "metadata": {},
     "output_type": "execute_result"
    }
   ],
   "source": [
    "page.getcode()"
   ]
  },
  {
   "cell_type": "code",
   "execution_count": 8,
   "metadata": {},
   "outputs": [],
   "source": [
    "if page.getcode() == 200:\n",
    "    text = page.read()\n",
    "    soup = BeautifulSoup(text)\n",
    "    list_reports_data = soup.findAll('div', class_='price price_disc')\n",
    "    "
   ]
  },
  {
   "cell_type": "code",
   "execution_count": 9,
   "metadata": {},
   "outputs": [
    {
     "data": {
      "text/plain": [
       "1"
      ]
     },
     "execution_count": 9,
     "metadata": {},
     "output_type": "execute_result"
    }
   ],
   "source": [
    "len(list_reports_data)"
   ]
  },
  {
   "cell_type": "code",
   "execution_count": 10,
   "metadata": {},
   "outputs": [],
   "source": [
    "element_1 = list_reports_data[0]"
   ]
  },
  {
   "cell_type": "code",
   "execution_count": 11,
   "metadata": {},
   "outputs": [
    {
     "name": "stdout",
     "output_type": "stream",
     "text": [
      "2 402 ₽\n"
     ]
    }
   ],
   "source": [
    "print(element_1.text)"
   ]
  },
  {
   "cell_type": "code",
   "execution_count": 12,
   "metadata": {},
   "outputs": [],
   "source": [
    "price_bad = element_1.text"
   ]
  },
  {
   "cell_type": "code",
   "execution_count": 13,
   "metadata": {},
   "outputs": [
    {
     "data": {
      "text/plain": [
       "u'2\\u2009402 \\u20bd'"
      ]
     },
     "execution_count": 13,
     "metadata": {},
     "output_type": "execute_result"
    }
   ],
   "source": [
    "price_bad"
   ]
  },
  {
   "cell_type": "code",
   "execution_count": 14,
   "metadata": {},
   "outputs": [],
   "source": [
    "price_bad = price_bad.replace(u'\\u2009', '') # ' '"
   ]
  },
  {
   "cell_type": "code",
   "execution_count": 15,
   "metadata": {},
   "outputs": [],
   "source": [
    "price_bad = price_bad.replace(u'\\u20bd', '') # '₽'"
   ]
  },
  {
   "cell_type": "code",
   "execution_count": 16,
   "metadata": {},
   "outputs": [],
   "source": [
    "price_bad = price_bad.replace(u' ', '') # ' '"
   ]
  },
  {
   "cell_type": "code",
   "execution_count": 17,
   "metadata": {},
   "outputs": [
    {
     "data": {
      "text/plain": [
       "2402"
      ]
     },
     "execution_count": 17,
     "metadata": {},
     "output_type": "execute_result"
    }
   ],
   "source": [
    "int(price_bad)"
   ]
  },
  {
   "cell_type": "code",
   "execution_count": 24,
   "metadata": {},
   "outputs": [],
   "source": [
    "price_good = int(price_bad)"
   ]
  },
  {
   "cell_type": "code",
   "execution_count": 18,
   "metadata": {},
   "outputs": [
    {
     "data": {
      "text/plain": [
       "(221, '2.0.0 malvina81.fvds.ru closing connection')"
      ]
     },
     "execution_count": 18,
     "metadata": {},
     "output_type": "execute_result"
    }
   ],
   "source": [
    "if price_good < 3000:\n",
    "    msg = MIMEText('Price less then 3000')\n",
    "else:\n",
    "    msg = MIMEText('Price greate then 3000')\n",
    "    \n",
    "me = 'artem@101katok.ru'\n",
    "you = 'artemtemp@mail.ru'\n",
    "    \n",
    "msg['Subject'] = 'The test price'\n",
    "msg['From'] = me\n",
    "msg['To'] = you\n",
    "\n",
    "s = smtplib.SMTP('localhost')\n",
    "s.sendmail(me, [you], msg.as_string())\n",
    "s.quit()"
   ]
  },
  {
   "cell_type": "code",
   "execution_count": 27,
   "metadata": {},
   "outputs": [
    {
     "data": {
      "text/plain": [
       "instance"
      ]
     },
     "execution_count": 27,
     "metadata": {},
     "output_type": "execute_result"
    }
   ],
   "source": [
    "type(msg)"
   ]
  },
  {
   "cell_type": "code",
   "execution_count": null,
   "metadata": {},
   "outputs": [],
   "source": []
  },
  {
   "cell_type": "markdown",
   "metadata": {},
   "source": [
    "Отпаравить 5 польщзователм если цена меньше 3000 "
   ]
  },
  {
   "cell_type": "markdown",
   "metadata": {},
   "source": [
    "1) ОТПРАВИТЬ СРАЗ-У ВСЕМ"
   ]
  },
  {
   "cell_type": "code",
   "execution_count": 18,
   "metadata": {},
   "outputs": [],
   "source": [
    "mail_list = ['artemtemp@mail.ru', 'drrryfox@gmail.com', 'cipper47@gmail.com', 'ValliTim@yandex.ru', 'vajniytony@gmail.com', 'Mariya.V.Andreeva@yandex.ru', 'isergy@mail.ru']"
   ]
  },
  {
   "cell_type": "code",
   "execution_count": 23,
   "metadata": {},
   "outputs": [
    {
     "data": {
      "text/plain": [
       "(221, '2.0.0 malvina81.fvds.ru closing connection')"
      ]
     },
     "execution_count": 23,
     "metadata": {},
     "output_type": "execute_result"
    }
   ],
   "source": [
    "if price_bad < price_good:\n",
    "    msg = MIMEText('Price less then 2000')\n",
    "else:\n",
    "    msg = MIMEText('Price greate then 2000')\n",
    "    \n",
    "me = 'artem@101katok.ru'\n",
    "you = 'artemtemp@mail.ru'\n",
    "    \n",
    "msg['Subject'] = 'The test price'\n",
    "msg['From'] = me\n",
    "msg['To'] = ', '.join(mail_list)\n",
    "\n",
    "s = smtplib.SMTP('localhost')\n",
    "s.sendmail(me, mail_list, msg.as_string())\n",
    "s.quit()"
   ]
  },
  {
   "cell_type": "code",
   "execution_count": 22,
   "metadata": {},
   "outputs": [
    {
     "data": {
      "text/plain": [
       "'artemtemp@mail.ru, drrryfox@gmail.com, cipper47@gmail.com, ValliTim@yandex.ru, vajniytony@gmail.com, Mariya.V.Andreeva@yandex.ru, isergy@mail.ru'"
      ]
     },
     "execution_count": 22,
     "metadata": {},
     "output_type": "execute_result"
    }
   ],
   "source": [
    "', '.join(mail_list)"
   ]
  },
  {
   "cell_type": "code",
   "execution_count": null,
   "metadata": {},
   "outputs": [],
   "source": []
  },
  {
   "cell_type": "code",
   "execution_count": 29,
   "metadata": {},
   "outputs": [],
   "source": [
    "for you in mail_list:\n",
    "    if price_bad < price_good:\n",
    "        msg = MIMEText('Price less then 2000')\n",
    "    else:\n",
    "        msg = MIMEText('Price greate then 2000')\n",
    "\n",
    "    me = 'artem@101katok.ru'\n",
    "\n",
    "    msg['Subject'] = 'The test price'\n",
    "    msg['From'] = me\n",
    "    msg['To'] = you\n",
    "\n",
    "    s = smtplib.SMTP('localhost')\n",
    "    s.sendmail(me, [you], msg.as_string())\n",
    "    s.quit()"
   ]
  },
  {
   "cell_type": "code",
   "execution_count": 9,
   "metadata": {},
   "outputs": [
    {
     "ename": "SyntaxError",
     "evalue": "invalid syntax (<ipython-input-9-973daaed4ff8>, line 1)",
     "output_type": "error",
     "traceback": [
      "\u001b[0;36m  File \u001b[0;32m\"<ipython-input-9-973daaed4ff8>\"\u001b[0;36m, line \u001b[0;32m1\u001b[0m\n\u001b[0;31m    apt install pythin27\u001b[0m\n\u001b[0m              ^\u001b[0m\n\u001b[0;31mSyntaxError\u001b[0m\u001b[0;31m:\u001b[0m invalid syntax\n"
     ]
    }
   ],
   "source": [
    "!apt install pythin27"
   ]
  },
  {
   "cell_type": "code",
   "execution_count": 20,
   "metadata": {},
   "outputs": [
    {
     "name": "stdout",
     "output_type": "stream",
     "text": [
      "\u001b[33mDEPRECATION: Python 2.7 reached the end of its life on January 1st, 2020. Please upgrade your Python as Python 2.7 is no longer maintained. pip 21.0 will drop support for Python 2.7 in January 2021. More details about Python 2 support in pip can be found at https://pip.pypa.io/en/latest/development/release-process/#python-2-support pip 21.0 will remove support for this functionality.\u001b[0m\n",
      "BeautifulSoup==3.2.2\n",
      "beautifulsoup4==4.9.3\n",
      "bs4==0.0.1\n",
      "distlib==0.3.6\n",
      "filelock==3.2.1\n",
      "hello-team-22 @ file:///home/amtsurkov/github/team22/users/amtsurkov/lesson_10/hello_team_22\n",
      "importlib-resources==3.3.1\n",
      "mysql-connector==2.2.9\n",
      "platformdirs==2.0.2\n",
      "six==1.16.0\n",
      "soupsieve==1.9.6\n",
      "virtualenv==20.15.1\n"
     ]
    }
   ],
   "source": [
    "!/usr/bin/python -m pip freeze"
   ]
  },
  {
   "cell_type": "code",
   "execution_count": 16,
   "metadata": {},
   "outputs": [
    {
     "name": "stdout",
     "output_type": "stream",
     "text": [
      "total 37772\r\n",
      "drwxr-xr-x  2 root root     4096 Nov  6 18:53 .\r\n",
      "drwxr-xr-x 10 root root     4096 Mar 21  2020 ..\r\n",
      "-rwxr-xr-x  1 root root      102 Nov  6 18:53 2to3-3.11\r\n",
      "-rwxr-xr-x  1 root root      216 Mar 21  2020 celery\r\n",
      "-rwxr-xr-x  1 root root      232 Mar 21  2020 celerybeat\r\n",
      "-rwxr-xr-x  1 root root      236 Mar 21  2020 celeryd\r\n",
      "-rwxr-xr-x  1 root root      234 Mar 21  2020 celeryd-multi\r\n",
      "-rwxr-xr-x  1 root root      220 Mar 21  2020 chardetect\r\n",
      "-rwxr-xr-x  1 root root      265 Mar 21  2020 django-admin\r\n",
      "-rwxr-xr-x  1 root root      124 Mar 21  2020 django-admin.py\r\n",
      "-rw-r--r--  1 root root      302 Mar 21  2020 django-admin.pyc\r\n",
      "-rwxr-xr-x  1 root root 12254032 Mar  8  2022 docker-compose\r\n",
      "-rwxr-xr-x  1 root root      206 Dec  7  2020 dotenv\r\n",
      "-rwxr-xr-x  1 root root      210 Mar 21  2020 gprof2dot\r\n",
      "-rwxr-xr-x  1 root root      100 Nov  6 18:53 idle3.11\r\n",
      "-rwxr-xr-x  1 root root      230 Sep  3 11:32 iptest\r\n",
      "-rwxr-xr-x  1 root root      230 Sep  3 11:32 iptest2\r\n",
      "-rwxr-xr-x  1 root root      223 Sep  3 11:32 ipython\r\n",
      "-rwxr-xr-x  1 root root      223 Sep  3 11:32 ipython2\r\n",
      "-rwxr-xr-x  1 root root      216 Nov  6 12:18 jlpm\r\n",
      "-rwxr-xr-x  1 root root      212 Sep  3 11:32 jsonschema\r\n",
      "-rwxr-xr-x  1 root root      218 Sep  3 11:32 jupyter\r\n",
      "-rwxr-xr-x  1 root root      232 Sep  3 11:32 jupyter-bundlerextension\r\n",
      "-rwxr-xr-x  1 root root      217 Sep  3 11:32 jupyter-console\r\n",
      "-rwxr-xr-x  1 root root      222 Sep  3 11:32 jupyter-kernel\r\n",
      "-rwxr-xr-x  1 root root      260 Sep  3 11:32 jupyter-kernelspec\r\n",
      "-rwxr-xr-x  1 root root      215 Nov  6 12:18 jupyter-lab\r\n",
      "-rwxr-xr-x  1 root root      222 Nov  6 12:18 jupyter-labextension\r\n",
      "-rwxr-xr-x  1 root root      218 Nov  6 12:18 jupyter-labhub\r\n",
      "-rwxr-xr-x  1 root root      218 Sep  3 11:32 jupyter-migrate\r\n",
      "-rwxr-xr-x  1 root root      220 Sep  3 11:32 jupyter-nbconvert\r\n",
      "-rwxr-xr-x  1 root root      219 Sep  3 11:32 jupyter-nbextension\r\n",
      "-rwxr-xr-x  1 root root      218 Sep  3 11:32 jupyter-notebook\r\n",
      "-rwxr-xr-x  1 root root      220 Sep  3 11:32 jupyter-qtconsole\r\n",
      "-rwxr-xr-x  1 root root      239 Sep  3 11:32 jupyter-run\r\n",
      "-rwxr-xr-x  1 root root      223 Sep  3 11:32 jupyter-serverextension\r\n",
      "-rwxr-xr-x  1 root root      223 Sep  3 11:32 jupyter-troubleshoot\r\n",
      "-rwxr-xr-x  1 root root      251 Sep  3 11:32 jupyter-trust\r\n",
      "-rwxr-xr-x  1 root root      224 Nov  6 14:45 pip\r\n",
      "-rwxr-xr-x  1 root root      220 Feb 13  2021 pip2\r\n",
      "-rwxr-xr-x  1 root root      220 Feb 13  2021 pip2.7\r\n",
      "-rwxr-xr-x  1 root root      224 Nov  6 14:45 pip3\r\n",
      "-rwxr-xr-x  1 root root      230 Nov  6 18:53 pip3.10\r\n",
      "-rwxr-xr-x  1 root root      230 Nov  6 18:53 pip3.11\r\n",
      "-rwxr-xr-x  1 root root      224 Nov  6 14:45 pip3.5\r\n",
      "-rwxr-xr-x  1 root root       85 Nov  6 18:53 pydoc3.11\r\n",
      "-rwxr-xr-x  1 root root      214 Sep  3 11:32 pygmentize\r\n",
      "-rwxr-xr-x  1 root root 25007456 Nov  6 18:53 python3.11\r\n",
      "-rwxr-xr-x  1 root root     3047 Nov  6 18:53 python3.11-config\r\n",
      "-rwxr-xr-x  1 root root      217 Sep  3 11:32 send2trash\r\n",
      "-rwxr-xr-x  1 root root     3849 Mar 21  2020 sqlformat\r\n",
      "-rwxr-xr-x  1 root root      221 Mar 21  2020 unit2\r\n",
      "-rwxr-xr-x  1 root root  1204736 Jul  1  2020 uwsgi\r\n"
     ]
    }
   ],
   "source": [
    "!ls -la /usr/local/bin"
   ]
  },
  {
   "cell_type": "code",
   "execution_count": 11,
   "metadata": {},
   "outputs": [
    {
     "name": "stdout",
     "output_type": "stream",
     "text": [
      "Error processing line 1 of /usr/local/lib/python3.5/dist-packages/distutils-precedence.pth:\r\n",
      "\r\n",
      "  Traceback (most recent call last):\r\n",
      "    File \"/usr/lib/python3.5/site.py\", line 173, in addpackage\r\n",
      "      exec(line)\r\n",
      "    File \"<string>\", line 1, in <module>\r\n",
      "    File \"/usr/local/lib/python3.5/dist-packages/_distutils_hack/__init__.py\", line 194\r\n",
      "      f'spec_for_{name}',\r\n",
      "                       ^\r\n",
      "  SyntaxError: invalid syntax\r\n",
      "\r\n",
      "Remainder of file ignored\r\n",
      "Traceback (most recent call last):\r\n",
      "  File \"/usr/local/bin/pip\", line 7, in <module>\r\n",
      "    from pip._internal.cli.main import main\r\n",
      "ImportError: No module named 'pip'\r\n"
     ]
    }
   ],
   "source": [
    "!pip freeze"
   ]
  },
  {
   "cell_type": "code",
   "execution_count": 1,
   "metadata": {},
   "outputs": [],
   "source": [
    "d = ['wer']"
   ]
  },
  {
   "cell_type": "code",
   "execution_count": 2,
   "metadata": {},
   "outputs": [],
   "source": [
    "f = '?'.join(d)"
   ]
  },
  {
   "cell_type": "code",
   "execution_count": 3,
   "metadata": {},
   "outputs": [
    {
     "data": {
      "text/plain": [
       "'wer'"
      ]
     },
     "execution_count": 3,
     "metadata": {},
     "output_type": "execute_result"
    }
   ],
   "source": [
    "f"
   ]
  },
  {
   "cell_type": "code",
   "execution_count": null,
   "metadata": {},
   "outputs": [],
   "source": []
  }
 ],
 "metadata": {
  "kernelspec": {
   "display_name": "Python 3 (ipykernel)",
   "language": "python",
   "name": "python3"
  },
  "language_info": {
   "codemirror_mode": {
    "name": "ipython",
    "version": 3
   },
   "file_extension": ".py",
   "mimetype": "text/x-python",
   "name": "python",
   "nbconvert_exporter": "python",
   "pygments_lexer": "ipython3",
   "version": "3.9.7"
  }
 },
 "nbformat": 4,
 "nbformat_minor": 2
}
