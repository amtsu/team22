{
 "cells": [
  {
   "cell_type": "markdown",
   "id": "3b4c0c2e",
   "metadata": {},
   "source": [
    "Мини ETL."
   ]
  },
  {
   "cell_type": "code",
   "execution_count": 1,
   "id": "cce43e57",
   "metadata": {},
   "outputs": [
    {
     "name": "stdout",
     "output_type": "stream",
     "text": [
      "sys.version_info(major=3, minor=9, micro=7, releaselevel='final', serial=0)\n"
     ]
    }
   ],
   "source": [
    "import sys\n",
    "print(sys.version_info)"
   ]
  },
  {
   "cell_type": "code",
   "execution_count": 1,
   "id": "98821f1a",
   "metadata": {},
   "outputs": [],
   "source": [
    "import urllib\n",
    "from bs4 import BeautifulSoup\n",
    "\n",
    "class Element():\n",
    "    def get(self):\n",
    "        assert self.__is_page_ok()\n",
    "        text = self.__get_text()\n",
    "        normalization_text = self.__normalization(text)\n",
    "        return self.__type_convert(normalization_text)\n",
    "    \n",
    "    def __get_text(self):\n",
    "        assert Flase\n",
    "\n",
    "    def __init__(self, soup):\n",
    "        self.__soup = soup\n",
    "\n",
    "    def __is_page_ok(self):\n",
    "        return True\n",
    "    \n",
    "    def __normalization(self, price_bad):\n",
    "        return price_bad\n",
    "    \n",
    "    def __type_convert(self, text):\n",
    "        return text\n",
    "    \n",
    "    def _w(self):\n",
    "        return 'w'\n",
    "        \n",
    "    def __z(self):\n",
    "        return 'z'\n",
    "    \n",
    "    \n",
    "\n",
    "class PriceElement(Element):\n",
    "    def get(self):\n",
    "        assert self.__is_page_ok()\n",
    "        text = self.__get_text()\n",
    "        normalization_text = self.__normalization(text)\n",
    "        return self.__type_convert(normalization_text)\n",
    "    \n",
    "    def __get_text(self):\n",
    "        list_reports_data = self.__soup.findAll('div', class_='price price_disc')\n",
    "        #list_reports_data = self.__soup.findAll('span', id_='price price_disc')\n",
    "        element_1 = list_reports_data[0]\n",
    "        return element_1.text\n",
    "\n",
    "    def __init__(self, soup):\n",
    "        self.__soup = soup\n",
    "\n",
    "    def __is_page_ok(self):\n",
    "        list_reports_data = self.__soup.findAll('div', class_='price price_disc')\n",
    "        if len(list_reports_data) != 1:\n",
    "            return False\n",
    "        return True\n",
    "    \n",
    "    def __normalization(self, price_bad):\n",
    "        price_bad = price_bad.replace(u'\\u2009', '') # ' '\n",
    "        price_bad = price_bad.replace(u'\\u20bd', '') # '₽'\n",
    "        price_bad = price_bad.replace(u' ', '') # ' '\n",
    "        return price_bad\n",
    "        price_good = int(price_bad)\n",
    "        return price_good\n",
    "    \n",
    "    def __type_convert(self, text):\n",
    "        assert text.isnumeric()\n",
    "        return int(text)\n",
    "    \n",
    "    def __z(self):\n",
    "        return 'z'\n",
    "\n",
    "    \n",
    "class TitleElement(Element):\n",
    "    def get(self):\n",
    "        assert self.__is_page_ok()\n",
    "        text = self.__get_text()\n",
    "        normalization_text = self.__normalization(text)\n",
    "        return self.__type_convert(normalization_text)\n",
    "    \n",
    "    def __get_text(self):\n",
    "        list_reports_data = self.__soup.findAll('h2')\n",
    "        element_1 = list_reports_data[0]\n",
    "        return element_1.text\n",
    "\n",
    "    def __init__(self, soup):\n",
    "        self.__soup = soup\n",
    "\n",
    "    def __is_page_ok(self):\n",
    "        list_reports_data = self.__soup.findAll('h2')\n",
    "        if len(list_reports_data) != 5:\n",
    "            return False\n",
    "        return True\n",
    "    \n",
    "    def __normalization(self, price_bad):\n",
    "        return price_bad\n",
    "    \n",
    "    def __type_convert(self, text):\n",
    "        return text\n",
    "        \n",
    "\n",
    "# модуль trial-sport.ru\n",
    "class OnePage():\n",
    "    def get_price(self):\n",
    "        e = PriceElement(self.__soup)\n",
    "        #print(e._w())\n",
    "        #print(e.__z())\n",
    "        return e.get()\n",
    "\n",
    "    def __init__(self, url):\n",
    "        self.__url = url\n",
    "        with urllib.request.urlopen(self.__url) as response:\n",
    "            self.__page = response.read()\n",
    "            self.__soup = BeautifulSoup(self.__page)\n",
    "            \n",
    "    def get_title(self):\n",
    "        e = TitleElement(self.__soup)\n",
    "        return e.get()\n",
    "    \n",
    "class ListPage():\n",
    "    pass\n",
    "\n",
    "#help(urllib.request)\n",
    "# БД\n",
    "\n",
    "#есть таблоица с тарымизакаоми за 2020 - агерегирова\n",
    "#есть таблица с нвоми азкаом за 2022 - \n",
    "\n",
    "#нету тестов на этот класс"
   ]
  },
  {
   "cell_type": "code",
   "execution_count": 7,
   "id": "8e98244b",
   "metadata": {
    "scrolled": true
   },
   "outputs": [
    {
     "name": "stdout",
     "output_type": "stream",
     "text": [
      "urllib3 @ file:///home/conda/feedstock_root/build_artifacts/urllib3_1632350318291/work\r\n"
     ]
    }
   ],
   "source": [
    "!pip freeze | grep url"
   ]
  },
  {
   "cell_type": "code",
   "execution_count": 3,
   "id": "d8417b25",
   "metadata": {},
   "outputs": [],
   "source": [
    "#!pip install -U  urllib3"
   ]
  },
  {
   "cell_type": "code",
   "execution_count": 4,
   "id": "ccad1346",
   "metadata": {},
   "outputs": [],
   "source": [
    "p = OnePage(\"https://trial-sport.ru/goods/51530/1179889.html\")"
   ]
  },
  {
   "cell_type": "code",
   "execution_count": 5,
   "id": "f67a6790",
   "metadata": {},
   "outputs": [
    {
     "data": {
      "text/plain": [
       "2402"
      ]
     },
     "execution_count": 5,
     "metadata": {},
     "output_type": "execute_result"
    }
   ],
   "source": [
    "p.get_price()"
   ]
  },
  {
   "cell_type": "code",
   "execution_count": 6,
   "id": "c5de4af7",
   "metadata": {},
   "outputs": [
    {
     "data": {
      "text/plain": [
       "'Блин вратаря DR X6 GOALIE BLOKER'"
      ]
     },
     "execution_count": 6,
     "metadata": {},
     "output_type": "execute_result"
    }
   ],
   "source": [
    "p.get_title()"
   ]
  },
  {
   "cell_type": "code",
   "execution_count": 21,
   "id": "206bcbd0",
   "metadata": {},
   "outputs": [
    {
     "name": "stdout",
     "output_type": "stream",
     "text": [
      "56784\n",
      "Горнолыжные ботинки Dalbello LUPO PRO HD\n",
      "3895\n",
      "Беговые лыжи Tisa SPORT STEP BLUE\n"
     ]
    }
   ],
   "source": [
    "for url in [\"https://trial-sport.ru/goods/51527/2174237.html\", \"https://trial-sport.ru/goods/51533/2718974.html\"]:\n",
    "    p = OnePage(url)\n",
    "    print(p.get_price())\n",
    "    print(p.get_title())"
   ]
  },
  {
   "cell_type": "code",
   "execution_count": 22,
   "id": "f96edb63",
   "metadata": {},
   "outputs": [
    {
     "ename": "ModuleNotFoundError",
     "evalue": "No module named 'openapi-client-prive-alert'",
     "output_type": "error",
     "traceback": [
      "\u001b[0;31m---------------------------------------------------------------------------\u001b[0m",
      "\u001b[0;31mModuleNotFoundError\u001b[0m                       Traceback (most recent call last)",
      "Cell \u001b[0;32mIn [22], line 1\u001b[0m\n\u001b[0;32m----> 1\u001b[0m openapi_client \u001b[38;5;241m=\u001b[39m \u001b[38;5;28;43m__import__\u001b[39;49m\u001b[43m(\u001b[49m\u001b[38;5;124;43m\"\u001b[39;49m\u001b[38;5;124;43mopenapi-client-prive-alert\u001b[39;49m\u001b[38;5;124;43m\"\u001b[39;49m\u001b[43m)\u001b[49m  \n",
      "\u001b[0;31mModuleNotFoundError\u001b[0m: No module named 'openapi-client-prive-alert'"
     ]
    }
   ],
   "source": [
    "openapi_client = __import__(\"openapi-client-prive-alert\")  "
   ]
  },
  {
   "cell_type": "code",
   "execution_count": 1,
   "id": "5a31d699",
   "metadata": {},
   "outputs": [
    {
     "name": "stdout",
     "output_type": "stream",
     "text": [
      "alembic==1.8.1\n",
      "anyio==3.6.2\n",
      "argon2-cffi==21.3.0\n",
      "argon2-cffi-bindings==21.2.0\n",
      "asgiref==3.5.2\n",
      "astroid==2.12.13\n",
      "asttokens==2.1.0\n",
      "async-generator==1.10\n",
      "attrs==22.1.0\n",
      "Babel==2.11.0\n",
      "backcall==0.2.0\n",
      "bandit==1.7.4\n",
      "beautifulsoup4==4.11.1\n",
      "bleach==5.0.1\n",
      "brotlipy==0.7.0\n",
      "certifi==2022.9.24\n",
      "certipy==0.1.3\n",
      "cffi @ file:///home/conda/feedstock_root/build_artifacts/cffi_1631636250774/work\n",
      "chardet @ file:///home/conda/feedstock_root/build_artifacts/chardet_1610093492116/work\n",
      "charset-normalizer @ file:///home/conda/feedstock_root/build_artifacts/charset-normalizer_1626371162869/work\n",
      "colorama @ file:///home/conda/feedstock_root/build_artifacts/colorama_1602866480661/work\n",
      "conda==4.10.3\n",
      "conda-package-handling @ file:///home/conda/feedstock_root/build_artifacts/conda-package-handling_1618231390031/work\n",
      "coreapi==2.3.3\n",
      "coreschema==0.0.4\n",
      "cryptography @ file:///home/conda/feedstock_root/build_artifacts/cryptography_1633983255347/work\n",
      "debugpy==1.6.3\n",
      "decorator==5.1.1\n",
      "defusedxml==0.7.1\n",
      "dill==0.3.6\n",
      "Django==4.1.3\n",
      "django-grappelli==3.0.3\n",
      "django-rest-swagger==2.2.0\n",
      "djangorestframework==3.14.0\n",
      "dodgy==0.2.1\n",
      "drf-spectacular==0.24.2\n",
      "drf-writable-nested==0.7.0\n",
      "drf-yasg==1.21.4\n",
      "entrypoints==0.4\n",
      "exceptiongroup==1.0.4\n",
      "executing==1.2.0\n",
      "fastjsonschema==2.16.2\n",
      "flake8==4.0.1\n",
      "flake8-polyfill==1.0.2\n",
      "gitdb==4.0.9\n",
      "GitPython==3.1.29\n",
      "greenlet==2.0.1\n",
      "idna @ file:///home/conda/feedstock_root/build_artifacts/idna_1609836280497/work\n",
      "importlib-metadata==5.0.0\n",
      "inflection==0.5.1\n",
      "iniconfig==1.1.1\n",
      "ipykernel==6.17.1\n",
      "ipython==8.6.0\n",
      "ipython-genutils==0.2.0\n",
      "ipywidgets==7.7.2\n",
      "isort==5.10.1\n",
      "itypes==1.2.0\n",
      "jedi==0.18.1\n",
      "Jinja2==3.1.2\n",
      "json5==0.9.10\n",
      "jsonschema==4.17.0\n",
      "jupyter==1.0.0\n",
      "jupyter-console==6.4.4\n",
      "jupyter-resource-usage==0.6.4\n",
      "jupyter-server==1.23.2\n",
      "jupyter-telemetry==0.1.0\n",
      "jupyter_client==7.4.7\n",
      "jupyter_core==5.0.0\n",
      "jupyterhub==1.5.0\n",
      "jupyterlab==3.5.0\n",
      "jupyterlab-pygments==0.2.2\n",
      "jupyterlab-widgets==1.1.1\n",
      "jupyterlab_server==2.16.3\n",
      "lazy-object-proxy==1.8.0\n",
      "Mako==1.2.4\n",
      "mamba @ file:///home/conda/feedstock_root/build_artifacts/mamba_1632770295204/work\n",
      "MarkupSafe==2.1.1\n",
      "matplotlib-inline==0.1.6\n",
      "mccabe==0.6.1\n",
      "mistune==2.0.4\n",
      "nbclassic==0.4.8\n",
      "nbclient==0.7.0\n",
      "nbconvert==7.2.5\n",
      "nbformat==5.7.0\n",
      "nbgitpuller==1.1.1\n",
      "nest-asyncio==1.5.6\n",
      "notebook==6.5.2\n",
      "notebook_shim==0.2.2\n",
      "nteract-on-jupyter==2.1.3\n",
      "oauthlib==3.2.2\n",
      "openapi-codec==1.3.2\n",
      "packaging==21.3\n",
      "pamela==1.0.0\n",
      "pandocfilters==1.5.0\n",
      "parso==0.8.3\n",
      "pbr==5.11.0\n",
      "pep8-naming==0.10.0\n",
      "pexpect==4.8.0\n",
      "pickleshare==0.7.5\n",
      "platformdirs==2.5.4\n",
      "pluggy==1.0.0\n",
      "prometheus-client==0.15.0\n",
      "prompt-toolkit==3.0.32\n",
      "prospector==1.7.7\n",
      "psutil==5.9.4\n",
      "ptyprocess==0.7.0\n",
      "pure-eval==0.2.2\n",
      "pycodestyle==2.8.0\n",
      "pycosat @ file:///home/conda/feedstock_root/build_artifacts/pycosat_1610094799048/work\n",
      "pycparser @ file:///home/conda/feedstock_root/build_artifacts/pycparser_1593275161868/work\n",
      "pydocstyle==6.1.1\n",
      "pyflakes==2.4.0\n",
      "Pygments==2.13.0\n",
      "pylint==2.15.6\n",
      "pylint-celery==0.3\n",
      "pylint-django==2.5.3\n",
      "pylint-flask==0.6\n",
      "pylint-plugin-utils==0.7\n",
      "pyOpenSSL @ file:///home/conda/feedstock_root/build_artifacts/pyopenssl_1633192417276/work\n",
      "pyparsing==3.0.9\n",
      "pyrsistent==0.19.2\n",
      "PySocks @ file:///home/conda/feedstock_root/build_artifacts/pysocks_1610291451001/work\n",
      "pytest==7.2.0\n",
      "python-dateutil==2.8.2\n",
      "python-json-logger==2.0.4\n",
      "pytz==2022.6\n",
      "PyYAML==6.0\n",
      "pyzmq==24.0.1\n",
      "qtconsole==5.4.0\n",
      "QtPy==2.3.0\n",
      "requests @ file:///home/conda/feedstock_root/build_artifacts/requests_1626393743643/work\n",
      "requirements-detector==0.7\n",
      "ruamel-yaml-conda @ file:///home/conda/feedstock_root/build_artifacts/ruamel_yaml_1611943432947/work\n",
      "ruamel.yaml==0.17.21\n",
      "ruamel.yaml.clib==0.2.7\n",
      "Send2Trash==1.8.0\n",
      "setoptconf-tmp==0.3.1\n",
      "simplejson==3.18.0\n",
      "six @ file:///home/conda/feedstock_root/build_artifacts/six_1620240208055/work\n",
      "smmap==5.0.0\n",
      "sniffio==1.3.0\n",
      "snowballstemmer==2.2.0\n",
      "soupsieve==2.3.2.post1\n",
      "SQLAlchemy==1.4.44\n",
      "sqlparse==0.4.3\n",
      "stack-data==0.6.1\n",
      "stevedore==4.1.1\n",
      "terminado==0.17.0\n",
      "tinycss2==1.2.1\n",
      "toml==0.10.2\n",
      "tomli==2.0.1\n",
      "tomlkit==0.11.6\n",
      "tornado==6.2\n",
      "tqdm @ file:///home/conda/feedstock_root/build_artifacts/tqdm_1632160078689/work\n",
      "traitlets==5.5.0\n",
      "typing_extensions==4.4.0\n",
      "uritemplate==4.1.1\n",
      "urllib3 @ file:///home/conda/feedstock_root/build_artifacts/urllib3_1632350318291/work\n",
      "wcwidth==0.2.5\n",
      "webencodings==0.5.1\n",
      "websocket-client==1.4.2\n",
      "widgetsnbextension==3.6.1\n",
      "wrapt==1.14.1\n",
      "zipp==3.10.0\n"
     ]
    }
   ],
   "source": [
    "!pip freeze"
   ]
  },
  {
   "cell_type": "code",
   "execution_count": 2,
   "id": "46765f5f",
   "metadata": {},
   "outputs": [
    {
     "name": "stdout",
     "output_type": "stream",
     "text": [
      "Defaulting to user installation because normal site-packages is not writeable\n",
      "\u001b[31mERROR: Could not find a version that satisfies the requirement openapi-client-prive-alert (from versions: none)\u001b[0m\n",
      "\u001b[31mERROR: No matching distribution found for openapi-client-prive-alert\u001b[0m\n"
     ]
    }
   ],
   "source": [
    "!pip install openapi-client-prive-alert"
   ]
  },
  {
   "cell_type": "code",
   "execution_count": null,
   "id": "c4ca84e0",
   "metadata": {},
   "outputs": [],
   "source": [
    "\n"
   ]
  },
  {
   "cell_type": "code",
   "execution_count": 2,
   "id": "15bf6ff5",
   "metadata": {},
   "outputs": [],
   "source": [
    "#Что такое тесты?"
   ]
  },
  {
   "cell_type": "code",
   "execution_count": 40,
   "id": "b5394258",
   "metadata": {},
   "outputs": [],
   "source": [
    "def quadro(x):\n",
    "    return x ** 2\n",
    "\n",
    "def test_quadro_number_2():\n",
    "    if quadro(2) != 4:\n",
    "        assert False\n",
    "        \n",
    "def test_quadro_number_5():\n",
    "    if quadro(6) != 25:\n",
    "        assert False\n",
    "#        print('error')       \n",
    "\n",
    "def test_quadro_number_6():\n",
    "    assert quadro(6) == 36"
   ]
  },
  {
   "cell_type": "code",
   "execution_count": 38,
   "id": "33bb283c",
   "metadata": {},
   "outputs": [],
   "source": [
    "test_quadro_number_2()"
   ]
  },
  {
   "cell_type": "code",
   "execution_count": 39,
   "id": "483ad608",
   "metadata": {},
   "outputs": [
    {
     "name": "stdout",
     "output_type": "stream",
     "text": [
      "error\n"
     ]
    }
   ],
   "source": [
    "test_quadro_number_5()"
   ]
  },
  {
   "cell_type": "code",
   "execution_count": 36,
   "id": "828efe16",
   "metadata": {},
   "outputs": [],
   "source": [
    "test_quadro_number_6()"
   ]
  },
  {
   "cell_type": "code",
   "execution_count": null,
   "id": "8733a4a2",
   "metadata": {},
   "outputs": [],
   "source": [
    "# как понять что тестов доасточно;\n",
    "# подготовить спсиок правил какие тесты надо создавать\n"
   ]
  },
  {
   "cell_type": "code",
   "execution_count": null,
   "id": "ffc14593",
   "metadata": {},
   "outputs": [],
   "source": []
  },
  {
   "cell_type": "code",
   "execution_count": 43,
   "id": "d0fed501",
   "metadata": {},
   "outputs": [],
   "source": [
    "def hard_func(x):\n",
    "    if x < 10:\n",
    "        return x ** 2\n",
    "    elif 10 <= x and x < 100:\n",
    "        return x\n",
    "    else:\n",
    "        return 1"
   ]
  },
  {
   "cell_type": "code",
   "execution_count": 44,
   "id": "16ef15c6",
   "metadata": {},
   "outputs": [],
   "source": [
    "#какие тесты нужны\n",
    "x = 5\n",
    "x = 20\n",
    "x = 300\n",
    "\n",
    "x = 9\n",
    "x = 10\n",
    "x = 99\n",
    "x = 100\n",
    "x = 101"
   ]
  },
  {
   "cell_type": "code",
   "execution_count": 45,
   "id": "7fc7e321",
   "metadata": {},
   "outputs": [
    {
     "data": {
      "text/plain": [
       "10"
      ]
     },
     "execution_count": 45,
     "metadata": {},
     "output_type": "execute_result"
    }
   ],
   "source": [
    "hard_func(10)"
   ]
  },
  {
   "cell_type": "code",
   "execution_count": 58,
   "id": "5f149269",
   "metadata": {},
   "outputs": [],
   "source": [
    "def test_find_elenemt_petya():\n",
    "    # первый тест на наличе Petya\n",
    "    index_petya = find_elenemt('Petya', ['Vast', 'Petya', 'Misha', 'Vova'])\n",
    "    if index_petya != 1:\n",
    "        # исключения надо проговорить\n",
    "        assert False"
   ]
  },
  {
   "cell_type": "code",
   "execution_count": 60,
   "id": "3e871f90",
   "metadata": {},
   "outputs": [],
   "source": [
    "def find_elenemt(element, lists):\n",
    "    k = 0\n",
    "    for i in lists:\n",
    "        if element == i:\n",
    "            return k\n",
    "        k += 1\n",
    "    return -1"
   ]
  },
  {
   "cell_type": "code",
   "execution_count": 61,
   "id": "d99623f7",
   "metadata": {},
   "outputs": [],
   "source": [
    "test_find_elenemt_petya()"
   ]
  },
  {
   "cell_type": "code",
   "execution_count": 50,
   "id": "196b8750",
   "metadata": {},
   "outputs": [],
   "source": [
    "\n",
    "def find_elenemt(element, lists):\n",
    "    return lists.index(element)"
   ]
  },
  {
   "cell_type": "code",
   "execution_count": 53,
   "id": "09dbc84d",
   "metadata": {},
   "outputs": [],
   "source": [
    "#help(list)"
   ]
  },
  {
   "cell_type": "code",
   "execution_count": 52,
   "id": "4b7a6b63",
   "metadata": {},
   "outputs": [
    {
     "data": {
      "text/plain": [
       "2"
      ]
     },
     "execution_count": 52,
     "metadata": {},
     "output_type": "execute_result"
    }
   ],
   "source": [
    "find_elenemt_2('Misha', ['Vast', 'Petya', 'Misha', 'Vova'])"
   ]
  },
  {
   "cell_type": "code",
   "execution_count": null,
   "id": "1bc97652",
   "metadata": {},
   "outputs": [],
   "source": []
  }
 ],
 "metadata": {
  "kernelspec": {
   "display_name": "Python 3 (ipykernel)",
   "language": "python",
   "name": "python3"
  },
  "language_info": {
   "codemirror_mode": {
    "name": "ipython",
    "version": 3
   },
   "file_extension": ".py",
   "mimetype": "text/x-python",
   "name": "python",
   "nbconvert_exporter": "python",
   "pygments_lexer": "ipython3",
   "version": "3.9.7"
  }
 },
 "nbformat": 4,
 "nbformat_minor": 5
}
