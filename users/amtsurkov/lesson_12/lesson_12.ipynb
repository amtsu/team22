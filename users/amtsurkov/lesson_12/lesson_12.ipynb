{
 "cells": [
  {
   "cell_type": "code",
   "execution_count": 1,
   "metadata": {},
   "outputs": [],
   "source": [
    "# мы хотим сохранить данные в формате json в фаил имя_dump.txt и затем загрузиить его в другом ноутубке"
   ]
  },
  {
   "cell_type": "code",
   "execution_count": 9,
   "metadata": {},
   "outputs": [],
   "source": [
    "spisok_del_v1 = {\n",
    "    'delo': ['feed cat',  'go shop', 'drink'],\n",
    "    'date_plan': ['19-10-2022', '20-10-2022', '11-10-2022'],\n",
    "    'date_execute': ['21-10-2022', '22-10-2022', '11-10-2022'],\n",
    "}"
   ]
  },
  {
   "cell_type": "code",
   "execution_count": 10,
   "metadata": {},
   "outputs": [],
   "source": [
    "spisok_del_v2 = [\n",
    "    ['feed cat', '19-10-2022', '21-10-2022'],\n",
    "    ['go shop', '20-10-2022', '22-10-2022'],\n",
    "    ['drink', '11-10-2022', '11-10-2022'],\n",
    "]"
   ]
  },
  {
   "cell_type": "code",
   "execution_count": 11,
   "metadata": {},
   "outputs": [],
   "source": [
    "spisok_del_v3 = [\n",
    "    {\n",
    "        'delo': 'feed cat',\n",
    "        'date_plan': '19-10-2022',\n",
    "        'date_execute': '21-10-2022',\n",
    "    },\n",
    "    {\n",
    "        'delo': 'go shop',\n",
    "        'date_plan': '20-10-2022',\n",
    "        'date_execute': '22-10-2022',\n",
    "    },\n",
    "    {\n",
    "        'delo': 'drink',\n",
    "        'date_plan': '11-10-2022',\n",
    "        'date_execute': '11-10-2022',\n",
    "    },\n",
    "]"
   ]
  },
  {
   "cell_type": "code",
   "execution_count": 12,
   "metadata": {},
   "outputs": [],
   "source": [
    "class Delo():\n",
    "    def __init__(self, d, plan, execute):\n",
    "        self.__delo = d\n",
    "        self.__date_plan = plan\n",
    "        self.__date_execute = execute\n",
    "        \n",
    "    def __str__(self):\n",
    "        assert()\n",
    "        print(self.__delo, '=>', self.__date_plan, '=>', self.__date_execute)\n",
    "        return self.__delo, '=>', self.__date_plan, '=>', self.__date_execute \n",
    "        \n",
    "object_delo_1 = Delo('feed cat', '19-10-2022', '21-10-2022')        \n",
    "object_delo_2 = Delo('go shop', '20-10-2022', '22-10-2022') \n",
    "object_delo_3 = Delo('drink', '11-10-2022', '11-10-2022') \n",
    "\n",
    "spisok_del_v4 = [\n",
    "    object_delo_1,\n",
    "    object_delo_2,\n",
    "    object_delo_3\n",
    "]"
   ]
  },
  {
   "cell_type": "code",
   "execution_count": 13,
   "metadata": {},
   "outputs": [
    {
     "data": {
      "text/plain": [
       "[<__main__.Delo instance at 0x7f0b544ec5f0>,\n",
       " <__main__.Delo instance at 0x7f0b544ec680>,\n",
       " <__main__.Delo instance at 0x7f0b544ec638>]"
      ]
     },
     "execution_count": 13,
     "metadata": {},
     "output_type": "execute_result"
    }
   ],
   "source": [
    "spisok_del_v4"
   ]
  },
  {
   "cell_type": "code",
   "execution_count": null,
   "metadata": {},
   "outputs": [],
   "source": []
  },
  {
   "cell_type": "code",
   "execution_count": 14,
   "metadata": {},
   "outputs": [],
   "source": [
    "# хотим сохарить нащие обекты в фаил"
   ]
  },
  {
   "cell_type": "code",
   "execution_count": 15,
   "metadata": {},
   "outputs": [],
   "source": [
    "import pickle"
   ]
  },
  {
   "cell_type": "code",
   "execution_count": 16,
   "metadata": {},
   "outputs": [],
   "source": [
    "description_file_v1 = open('dela_v1.pickle', 'wb')\n",
    "pickle.dump(spisok_del_v1, description_file_v1)\n",
    "description_file_v1.close()"
   ]
  },
  {
   "cell_type": "code",
   "execution_count": 17,
   "metadata": {},
   "outputs": [],
   "source": [
    "description_file_v2 = open('dela_v2.pickle', 'wb')\n",
    "pickle.dump(spisok_del_v2, description_file_v2)\n",
    "description_file_v2.close()"
   ]
  },
  {
   "cell_type": "code",
   "execution_count": 18,
   "metadata": {},
   "outputs": [],
   "source": [
    "description_file_v3 = open('dela_v3.pickle', 'wb')\n",
    "pickle.dump(spisok_del_v3, description_file_v3)\n",
    "description_file_v3.close()"
   ]
  },
  {
   "cell_type": "code",
   "execution_count": 19,
   "metadata": {},
   "outputs": [],
   "source": [
    "description_file_v4 = open('dela_v4.pickle', 'wb')\n",
    "pickle.dump(spisok_del_v4, description_file_v4)\n",
    "description_file_v4.close()"
   ]
  },
  {
   "cell_type": "code",
   "execution_count": null,
   "metadata": {},
   "outputs": [],
   "source": []
  }
 ],
 "metadata": {
  "kernelspec": {
   "display_name": "Python 2",
   "language": "python",
   "name": "python2"
  },
  "language_info": {
   "codemirror_mode": {
    "name": "ipython",
    "version": 2
   },
   "file_extension": ".py",
   "mimetype": "text/x-python",
   "name": "python",
   "nbconvert_exporter": "python",
   "pygments_lexer": "ipython2",
   "version": "2.7.12"
  }
 },
 "nbformat": 4,
 "nbformat_minor": 2
}
