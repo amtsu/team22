{
 "cells": [
  {
   "cell_type": "code",
   "execution_count": 1,
   "metadata": {},
   "outputs": [],
   "source": [
    "import pickle"
   ]
  },
  {
   "cell_type": "code",
   "execution_count": 2,
   "metadata": {},
   "outputs": [],
   "source": [
    "description_file_v1 = open('dela_v1.pickle', 'rb')\n",
    "data_new_v1 = pickle.load(description_file_v1)\n",
    "description_file_v1.close()"
   ]
  },
  {
   "cell_type": "code",
   "execution_count": 3,
   "metadata": {},
   "outputs": [
    {
     "data": {
      "text/plain": [
       "{'date_execute': ['21-10-2022', '22-10-2022', '11-10-2022'],\n",
       " 'date_plan': ['19-10-2022', '20-10-2022', '11-10-2022'],\n",
       " 'delo': ['feed cat', 'go shop', 'drink']}"
      ]
     },
     "execution_count": 3,
     "metadata": {},
     "output_type": "execute_result"
    }
   ],
   "source": [
    "data_new_v1"
   ]
  },
  {
   "cell_type": "code",
   "execution_count": 4,
   "metadata": {},
   "outputs": [
    {
     "data": {
      "text/plain": [
       "'feed cat'"
      ]
     },
     "execution_count": 4,
     "metadata": {},
     "output_type": "execute_result"
    }
   ],
   "source": [
    "data_new_v1['delo'][0]"
   ]
  },
  {
   "cell_type": "code",
   "execution_count": null,
   "metadata": {},
   "outputs": [],
   "source": []
  },
  {
   "cell_type": "code",
   "execution_count": null,
   "metadata": {},
   "outputs": [],
   "source": []
  },
  {
   "cell_type": "code",
   "execution_count": null,
   "metadata": {},
   "outputs": [],
   "source": []
  },
  {
   "cell_type": "code",
   "execution_count": 5,
   "metadata": {},
   "outputs": [
    {
     "name": "stdout",
     "output_type": "stream",
     "text": [
      "('delo', ['feed cat', 'go shop', 'drink'])\n",
      "('date_plan', ['19-10-2022', '20-10-2022', '11-10-2022'])\n",
      "('date_execute', ['21-10-2022', '22-10-2022', '11-10-2022'])\n"
     ]
    }
   ],
   "source": [
    "for key in sorted(data_new_v1.keys(), reverse=True):\n",
    "    print(key, data_new_v1[key])"
   ]
  },
  {
   "cell_type": "code",
   "execution_count": 6,
   "metadata": {},
   "outputs": [
    {
     "data": {
      "text/plain": [
       "[['feed cat', '19-10-2022', '21-10-2022'],\n",
       " ['go shop', '20-10-2022', '22-10-2022'],\n",
       " ['drink', '11-10-2022', '11-10-2022']]"
      ]
     },
     "execution_count": 6,
     "metadata": {},
     "output_type": "execute_result"
    }
   ],
   "source": [
    "description_file_v2 = open('dela_v2.pickle', 'rb')\n",
    "data_new_v2 = pickle.load(description_file_v2)\n",
    "description_file_v2.close()\n",
    "data_new_v2"
   ]
  },
  {
   "cell_type": "code",
   "execution_count": 7,
   "metadata": {},
   "outputs": [
    {
     "data": {
      "text/plain": [
       "[{'date_execute': '21-10-2022', 'date_plan': '19-10-2022', 'delo': 'feed cat'},\n",
       " {'date_execute': '22-10-2022', 'date_plan': '20-10-2022', 'delo': 'go shop'},\n",
       " {'date_execute': '11-10-2022', 'date_plan': '11-10-2022', 'delo': 'drink'}]"
      ]
     },
     "execution_count": 7,
     "metadata": {},
     "output_type": "execute_result"
    }
   ],
   "source": [
    "description_file_v3 = open('dela_v3.pickle', 'rb')\n",
    "data_new_v3 = pickle.load(description_file_v3)\n",
    "description_file_v3.close()\n",
    "data_new_v3"
   ]
  },
  {
   "cell_type": "code",
   "execution_count": null,
   "metadata": {},
   "outputs": [],
   "source": []
  },
  {
   "cell_type": "code",
   "execution_count": 8,
   "metadata": {},
   "outputs": [],
   "source": [
    "#  создвть модуль. с классом Delo и импортировать его\n",
    "from delo import Delo"
   ]
  },
  {
   "cell_type": "code",
   "execution_count": 9,
   "metadata": {},
   "outputs": [
    {
     "data": {
      "text/plain": [
       "[<delo.Delo instance at 0x7f016061a5a8>,\n",
       " <delo.Delo instance at 0x7f016061a638>,\n",
       " <delo.Delo instance at 0x7f016061a5f0>]"
      ]
     },
     "execution_count": 9,
     "metadata": {},
     "output_type": "execute_result"
    }
   ],
   "source": [
    "description_file_v4 = open('dela_v4.pickle', 'rb')\n",
    "data_new_v4 = pickle.load(description_file_v4)\n",
    "description_file_v4.close()\n",
    "data_new_v4"
   ]
  },
  {
   "cell_type": "code",
   "execution_count": null,
   "metadata": {},
   "outputs": [],
   "source": []
  },
  {
   "cell_type": "code",
   "execution_count": 10,
   "metadata": {},
   "outputs": [],
   "source": [
    "# задача проветь какое дело было выполнено в тот же жень что и -аплалани ровано"
   ]
  },
  {
   "cell_type": "code",
   "execution_count": 11,
   "metadata": {},
   "outputs": [],
   "source": [
    "# вариант с словарями"
   ]
  },
  {
   "cell_type": "code",
   "execution_count": 12,
   "metadata": {},
   "outputs": [
    {
     "name": "stdout",
     "output_type": "stream",
     "text": [
      "('delo execute in plan date', 'drink')\n"
     ]
    }
   ],
   "source": [
    "for dict_v3 in data_new_v3:\n",
    "    if dict_v3['date_plan'] == dict_v3['date_execute']:\n",
    "        print('delo execute in plan date', dict_v3['delo'])"
   ]
  },
  {
   "cell_type": "code",
   "execution_count": null,
   "metadata": {},
   "outputs": [],
   "source": []
  },
  {
   "cell_type": "code",
   "execution_count": 22,
   "metadata": {},
   "outputs": [
    {
     "name": "stdout",
     "output_type": "stream",
     "text": [
      "---\n",
      "feed cat=>19-10-2022=>21-10-2022\n",
      "False\n",
      "---\n",
      "go shop=>20-10-2022=>22-10-2022\n",
      "False\n",
      "---\n",
      "drink=>11-10-2022=>11-10-2022\n",
      "True\n",
      "('delo execute in plan date', ('drink', '11-10-2022', '11-10-2022', '11-10-2022', '11-10-2022'))\n",
      "drink=>11-10-2022=>11-10-2022\n"
     ]
    }
   ],
   "source": [
    "for obj_v4 in data_new_v4:\n",
    "    print('---')\n",
    "    print(obj_v4)\n",
    "    #print(dir(obj_v4))\n",
    "    print( obj_v4.is_delo_execute_in_plan_date())\n",
    "    if  obj_v4.is_delo_execute_in_plan_date():\n",
    "        print('delo execute in plan date', obj_v4.delo_date())\n",
    "        print(obj_v4)"
   ]
  },
  {
   "cell_type": "code",
   "execution_count": 33,
   "metadata": {},
   "outputs": [
    {
     "data": {
      "text/plain": [
       "False"
      ]
     },
     "execution_count": 33,
     "metadata": {},
     "output_type": "execute_result"
    }
   ],
   "source": [
    "data_new_v4[0].is_delo_execute_in_plan_date()"
   ]
  },
  {
   "cell_type": "code",
   "execution_count": 31,
   "metadata": {},
   "outputs": [
    {
     "name": "stdout",
     "output_type": "stream",
     "text": [
      "feed cat=>19-10-2022=>21-10-2022\n"
     ]
    }
   ],
   "source": [
    "print(data_new_v4[0])"
   ]
  },
  {
   "cell_type": "code",
   "execution_count": null,
   "metadata": {},
   "outputs": [],
   "source": []
  },
  {
   "cell_type": "code",
   "execution_count": 35,
   "metadata": {},
   "outputs": [],
   "source": [
    "import os"
   ]
  },
  {
   "cell_type": "code",
   "execution_count": 38,
   "metadata": {},
   "outputs": [
    {
     "data": {
      "text/plain": [
       "'46.39.53.237 7201 188.120.241.65 22'"
      ]
     },
     "execution_count": 38,
     "metadata": {},
     "output_type": "execute_result"
    }
   ],
   "source": [
    "os.environ.get('SSH_CONNECTION')"
   ]
  },
  {
   "cell_type": "code",
   "execution_count": null,
   "metadata": {},
   "outputs": [],
   "source": [
    "#venv\n"
   ]
  }
 ],
 "metadata": {
  "kernelspec": {
   "display_name": "Python 2",
   "language": "python",
   "name": "python2"
  },
  "language_info": {
   "codemirror_mode": {
    "name": "ipython",
    "version": 2
   },
   "file_extension": ".py",
   "mimetype": "text/x-python",
   "name": "python",
   "nbconvert_exporter": "python",
   "pygments_lexer": "ipython2",
   "version": "2.7.12"
  }
 },
 "nbformat": 4,
 "nbformat_minor": 2
}
