{
 "cells": [
  {
   "cell_type": "code",
   "execution_count": 1,
   "metadata": {},
   "outputs": [],
   "source": [
    "import urllib"
   ]
  },
  {
   "cell_type": "code",
   "execution_count": 2,
   "metadata": {},
   "outputs": [],
   "source": [
    "page = urllib.urlopen(\"http://sqm-studio.web-homes.ru/\")"
   ]
  },
  {
   "cell_type": "code",
   "execution_count": 3,
   "metadata": {},
   "outputs": [
    {
     "data": {
      "text/plain": [
       "200"
      ]
     },
     "execution_count": 3,
     "metadata": {},
     "output_type": "execute_result"
    }
   ],
   "source": [
    "page.getcode()"
   ]
  },
  {
   "cell_type": "code",
   "execution_count": 1,
   "metadata": {},
   "outputs": [],
   "source": [
    "#page.read()"
   ]
  },
  {
   "cell_type": "code",
   "execution_count": null,
   "metadata": {},
   "outputs": [],
   "source": []
  },
  {
   "cell_type": "code",
   "execution_count": 5,
   "metadata": {},
   "outputs": [
    {
     "name": "stdout",
     "output_type": "stream",
     "text": [
      "\u001b[33mDEPRECATION: Python 2.7 reached the end of its life on January 1st, 2020. Please upgrade your Python as Python 2.7 is no longer maintained. pip 21.0 will drop support for Python 2.7 in January 2021. More details about Python 2 support in pip can be found at https://pip.pypa.io/en/latest/development/release-process/#python-2-support pip 21.0 will remove support for this functionality.\u001b[0m\n",
      "Defaulting to user installation because normal site-packages is not writeable\n",
      "Requirement already satisfied: BeautifulSoup in /home/amtsurkov/.local/lib/python2.7/site-packages (3.2.2)\n"
     ]
    }
   ],
   "source": [
    "!pip install BeautifulSoup"
   ]
  },
  {
   "cell_type": "code",
   "execution_count": 6,
   "metadata": {},
   "outputs": [
    {
     "name": "stdout",
     "output_type": "stream",
     "text": [
      "\u001b[33mDEPRECATION: Python 2.7 reached the end of its life on January 1st, 2020. Please upgrade your Python as Python 2.7 is no longer maintained. pip 21.0 will drop support for Python 2.7 in January 2021. More details about Python 2 support in pip can be found at https://pip.pypa.io/en/latest/development/release-process/#python-2-support pip 21.0 will remove support for this functionality.\u001b[0m\n",
      "Defaulting to user installation because normal site-packages is not writeable\n",
      "Requirement already satisfied: bs4 in /home/amtsurkov/.local/lib/python2.7/site-packages (0.0.1)\n",
      "Requirement already satisfied: beautifulsoup4 in /home/amtsurkov/.local/lib/python2.7/site-packages (from bs4) (4.9.3)\n",
      "Requirement already satisfied: soupsieve<2.0,>1.2; python_version < \"3.0\" in /home/amtsurkov/.local/lib/python2.7/site-packages (from beautifulsoup4->bs4) (1.9.6)\n",
      "Requirement already satisfied: backports.functools-lru-cache; python_version < \"3\" in /usr/local/lib/python2.7/dist-packages (from soupsieve<2.0,>1.2; python_version < \"3.0\"->beautifulsoup4->bs4) (1.6.4)\n"
     ]
    }
   ],
   "source": [
    "!pip install bs4"
   ]
  },
  {
   "cell_type": "code",
   "execution_count": 7,
   "metadata": {},
   "outputs": [],
   "source": [
    "from bs4 import BeautifulSoup"
   ]
  },
  {
   "cell_type": "code",
   "execution_count": 8,
   "metadata": {},
   "outputs": [],
   "source": [
    "page = urllib.urlopen(\"http://sqm-studio.web-homes.ru/\")"
   ]
  },
  {
   "cell_type": "code",
   "execution_count": 9,
   "metadata": {},
   "outputs": [],
   "source": [
    "text = page.read()"
   ]
  },
  {
   "cell_type": "code",
   "execution_count": 10,
   "metadata": {},
   "outputs": [],
   "source": [
    "soup = BeautifulSoup(text)"
   ]
  },
  {
   "cell_type": "code",
   "execution_count": 11,
   "metadata": {},
   "outputs": [],
   "source": [
    "list_reports_data = soup.findAll('a', class_='reports_data.php')"
   ]
  },
  {
   "cell_type": "code",
   "execution_count": 12,
   "metadata": {},
   "outputs": [
    {
     "name": "stdout",
     "output_type": "stream",
     "text": [
      "<a class=\"reports_data.php\" href=\"reports_data.php\">Исходные данные</a>\n"
     ]
    }
   ],
   "source": [
    "for i in list_reports_data:\n",
    "    print(i)"
   ]
  },
  {
   "cell_type": "code",
   "execution_count": null,
   "metadata": {},
   "outputs": [],
   "source": []
  },
  {
   "cell_type": "code",
   "execution_count": 13,
   "metadata": {},
   "outputs": [],
   "source": [
    "\n",
    "list_img = soup.findAll('img')"
   ]
  },
  {
   "cell_type": "code",
   "execution_count": 14,
   "metadata": {},
   "outputs": [
    {
     "name": "stdout",
     "output_type": "stream",
     "text": [
      "<img alt=\"modern_system\" src=\"./images/modern_system.jpg\"/>\n",
      "<img alt=\"insights\" src=\"./images/insights.svg\"/>\n",
      "<img alt=\"team\" src=\"./images/team.svg\"/>\n",
      "<img alt=\"work\" src=\"./images/work.svg\"/>\n",
      "<img alt=\"plus_quality\" src=\"./images/plus_quality.svg\"/>\n",
      "<img alt=\"quality_assurance\" class=\"possibility__img\" src=\"./images/quality_assurance.jpg\"/>\n",
      "<img alt=\"joint_venture\" class=\"possibility__img\" src=\"./images/joint_venture.jpg\"/>\n",
      "<img alt=\"integration\" class=\"possibility__img\" src=\"./images/data_integration.jpg\"/>\n",
      "<img alt=\"support_languages\" class=\"possibility__img\" src=\"./images/support_languages.jpg\"/>\n",
      "<img alt=\"use_analitics\" class=\"possibility__img\" src=\"./images/use_analitics.jpg\"/>\n"
     ]
    }
   ],
   "source": [
    "for i in list_img:\n",
    "    print(i)"
   ]
  },
  {
   "cell_type": "markdown",
   "metadata": {},
   "source": [
    "<img alt=\"modern_system\" src=\"http://sqm-studio.web-homes.ru/images/quality_assurance.jpg\"/>"
   ]
  },
  {
   "cell_type": "code",
   "execution_count": null,
   "metadata": {},
   "outputs": [],
   "source": []
  },
  {
   "cell_type": "code",
   "execution_count": 15,
   "metadata": {},
   "outputs": [],
   "source": [
    "page = urllib.urlopen(\"https://trial-sport.ru/goods/51533/2662797.html\")"
   ]
  },
  {
   "cell_type": "code",
   "execution_count": 16,
   "metadata": {},
   "outputs": [],
   "source": [
    "text = page.read()"
   ]
  },
  {
   "cell_type": "code",
   "execution_count": 2,
   "metadata": {},
   "outputs": [],
   "source": [
    "#text"
   ]
  },
  {
   "cell_type": "code",
   "execution_count": 18,
   "metadata": {},
   "outputs": [],
   "source": [
    "soup = BeautifulSoup(text)"
   ]
  },
  {
   "cell_type": "code",
   "execution_count": 19,
   "metadata": {},
   "outputs": [],
   "source": [
    "list_reports_data = soup.findAll('div', class_='price')"
   ]
  },
  {
   "cell_type": "code",
   "execution_count": 20,
   "metadata": {},
   "outputs": [
    {
     "name": "stdout",
     "output_type": "stream",
     "text": [
      "<div class=\"price\">4 680 ₽</div>\n",
      "-----\n",
      "<div class=\"price price_disc\">4 446 ₽</div>\n",
      "-----\n",
      "<div class=\"price\">\n",
      "<span class=\"value\">3 780 ₽</span>\n",
      "</div>\n",
      "-----\n",
      "<div class=\"price\">\n",
      "<span class=\"value\">5 519 ₽</span>\n",
      "</div>\n",
      "-----\n",
      "<div class=\"price\">\n",
      "<span class=\"value\">6 399 ₽</span>\n",
      "</div>\n",
      "-----\n",
      "<div class=\"price\">\n",
      "<span class=\"value\">3 780 ₽</span>\n",
      "</div>\n",
      "-----\n",
      "<div class=\"price\">\n",
      "<span class=\"value\">4 230 ₽</span>\n",
      "</div>\n",
      "-----\n"
     ]
    }
   ],
   "source": [
    "for i in list_reports_data:\n",
    "    print(i)\n",
    "    print('-----')"
   ]
  },
  {
   "cell_type": "code",
   "execution_count": null,
   "metadata": {},
   "outputs": [],
   "source": []
  },
  {
   "cell_type": "code",
   "execution_count": null,
   "metadata": {},
   "outputs": [],
   "source": []
  },
  {
   "cell_type": "code",
   "execution_count": 21,
   "metadata": {},
   "outputs": [],
   "source": [
    "list_reports_data = soup.findAll('div', class_='price price_disc')\n",
    "#list_reports_data = soup.findAll('ins', class_='price-block__final-price')"
   ]
  },
  {
   "cell_type": "code",
   "execution_count": 22,
   "metadata": {},
   "outputs": [
    {
     "name": "stdout",
     "output_type": "stream",
     "text": [
      "4 446 ₽\n"
     ]
    }
   ],
   "source": [
    "for i in list_reports_data:\n",
    "    print(i.text)\n",
    "    #p = i.find('div', class_= \"price\" )\n",
    "    #print(p.text)"
   ]
  },
  {
   "cell_type": "code",
   "execution_count": null,
   "metadata": {},
   "outputs": [],
   "source": []
  },
  {
   "cell_type": "code",
   "execution_count": null,
   "metadata": {},
   "outputs": [],
   "source": []
  }
 ],
 "metadata": {
  "kernelspec": {
   "display_name": "Python 3 (ipykernel)",
   "language": "python",
   "name": "python3"
  },
  "language_info": {
   "codemirror_mode": {
    "name": "ipython",
    "version": 3
   },
   "file_extension": ".py",
   "mimetype": "text/x-python",
   "name": "python",
   "nbconvert_exporter": "python",
   "pygments_lexer": "ipython3",
   "version": "3.9.7"
  }
 },
 "nbformat": 4,
 "nbformat_minor": 2
}
