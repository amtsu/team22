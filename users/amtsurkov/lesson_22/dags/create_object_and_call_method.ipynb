{
 "cells": [
  {
   "cell_type": "code",
   "execution_count": 1,
   "id": "abb82414",
   "metadata": {},
   "outputs": [],
   "source": [
    "from LevelPageProcessing import LevelServiceProcessing"
   ]
  },
  {
   "cell_type": "code",
   "execution_count": 2,
   "id": "bff401e1",
   "metadata": {},
   "outputs": [],
   "source": [
    "tssp = LevelServiceProcessing()"
   ]
  },
  {
   "cell_type": "code",
   "execution_count": 3,
   "id": "b0d79117",
   "metadata": {},
   "outputs": [],
   "source": [
    "#tssp.load_url_by_default()"
   ]
  },
  {
   "cell_type": "code",
   "execution_count": 4,
   "id": "607f9391",
   "metadata": {},
   "outputs": [],
   "source": [
    "#tssp.pp()"
   ]
  },
  {
   "cell_type": "code",
   "execution_count": 5,
   "id": "9a75fc1a",
   "metadata": {},
   "outputs": [],
   "source": [
    "tssp.process()"
   ]
  },
  {
   "cell_type": "code",
   "execution_count": 6,
   "id": "6ee2596d",
   "metadata": {},
   "outputs": [],
   "source": [
    "ll = tssp.pp()"
   ]
  },
  {
   "cell_type": "code",
   "execution_count": null,
   "id": "107686b3",
   "metadata": {},
   "outputs": [],
   "source": [
    "        #tssp = LevelServiceProcessing()\n",
    "        #tssp.load_url_by_default()\n",
    "        #tssp.process()\n",
    "        #tssp.send_in_api()"
   ]
  },
  {
   "cell_type": "code",
   "execution_count": 7,
   "id": "e2bb8a09",
   "metadata": {},
   "outputs": [
    {
     "data": {
      "text/plain": [
       "[{'title': 'Павелецкая Сити 9 2 23.8 ул. Дубининская, д. 59-69 55.71962004653103,37.63727228350035',\n",
       "  'quantity': 1,\n",
       "  'price': 14450169.0,\n",
       "  'price_sale': 12282643,\n",
       "  'datetime_create': '1970-01-01T00:00:00.00Z',\n",
       "  'brand': 'level.ru',\n",
       "  'brand_url': 'level.ru',\n",
       "  'category': 'Новостройки',\n",
       "  'url': 'https://level.ru/pav_city/flat/studio/9-5/',\n",
       "  'image_url': 'https://storage.yandexcloud.net/level-media/core/flat/plane/9-5.svg',\n",
       "  'description': '[]',\n",
       "  'source_url': 'https://level.ru/api/flat/'},\n",
       " {'title': 'Селигерская 1 3 17.8 пр-д Ильменский, вл. 12 55.859441,37.545155',\n",
       "  'quantity': 1,\n",
       "  'price': 8766862.0,\n",
       "  'price_sale': 6136803,\n",
       "  'datetime_create': '1970-01-01T00:00:00.00Z',\n",
       "  'brand': 'level.ru',\n",
       "  'brand_url': 'level.ru',\n",
       "  'category': 'Новостройки',\n",
       "  'url': 'https://level.ru/selig/flat/1room/1-1-28/',\n",
       "  'image_url': 'https://storage.yandexcloud.net/level-media/core/flat/plane/1-1-28_TOPxi6m.svg',\n",
       "  'description': '[{\"name\": \"\\\\u0421\\\\u0442\\\\u0430\\\\u0432\\\\u043a\\\\u0430 \\\\u043f\\\\u043e \\\\u043a\\\\u0440\\\\u0435\\\\u0434\\\\u0438\\\\u0442\\\\u0443 0,1%, \\\\u043f\\\\u0435\\\\u0440\\\\u0432\\\\u043e\\\\u043d\\\\u0430\\\\u0447\\\\u0430\\\\u043b\\\\u044c\\\\u043d\\\\u044b\\\\u0439 \\\\u0432\\\\u0437\\\\u043d\\\\u043e\\\\u0441 \\\\u043e\\\\u0442 15%, \\\\u0441\\\\u0440\\\\u043e\\\\u043a \\\\u043a\\\\u0440\\\\u0435\\\\u0434\\\\u0438\\\\u0442\\\\u043e\\\\u0432\\\\u0430\\\\u043d\\\\u0438\\\\u044f \\\\u0434\\\\u043e 30 \\\\u043b\\\\u0435\\\\u0442, \\\\u0441\\\\u0443\\\\u043c\\\\u043c\\\\u0430 \\\\u043a\\\\u0440\\\\u0435\\\\u0434\\\\u0438\\\\u0442\\\\u0430 \\\\u043e\\\\u0442 12 \\\\u0434\\\\u043e 30 \\\\u043c\\\\u043b\\\\u043d. \\\\u0440\\\\u0443\\\\u0431.\", \"discount_percent\": -5.0, \"discount_sum\": null, \"amount\": \"30000000.00\", \"term\": 360, \"deposit\": 15.0, \"mortgage_percent\": 0.1, \"is_base_price\": null, \"readable_sale_type\": null, \"sale_type\": null, \"sale_type_name\": null}, {\"name\": \"\\\\u0421\\\\u0442\\\\u0430\\\\u0432\\\\u043a\\\\u0430 \\\\u043f\\\\u043e \\\\u043a\\\\u0440\\\\u0435\\\\u0434\\\\u0438\\\\u0442\\\\u0443 0,1%, \\\\u043f\\\\u0435\\\\u0440\\\\u0432\\\\u043e\\\\u043d\\\\u0430\\\\u0447\\\\u0430\\\\u043b\\\\u044c\\\\u043d\\\\u044b\\\\u0439 \\\\u0432\\\\u0437\\\\u043d\\\\u043e\\\\u0441 \\\\u043e\\\\u0442 15%, \\\\u0441\\\\u0440\\\\u043e\\\\u043a \\\\u043a\\\\u0440\\\\u0435\\\\u0434\\\\u0438\\\\u0442\\\\u043e\\\\u0432\\\\u0430\\\\u043d\\\\u0438\\\\u044f \\\\u0434\\\\u043e 30 \\\\u043b\\\\u0435\\\\u0442, \\\\u0441\\\\u0443\\\\u043c\\\\u043c\\\\u0430 \\\\u043a\\\\u0440\\\\u0435\\\\u0434\\\\u0438\\\\u0442\\\\u0430 \\\\u0431\\\\u0435\\\\u0437 \\\\u043e\\\\u0433\\\\u0440\\\\u0430\\\\u043d\\\\u0438\\\\u0447\\\\u0435\\\\u043d\\\\u0438\\\\u044f\", \"discount_percent\": -12.0, \"discount_sum\": null, \"amount\": null, \"term\": 360, \"deposit\": 15.0, \"mortgage_percent\": 0.1, \"is_base_price\": null, \"readable_sale_type\": null, \"sale_type\": null, \"sale_type_name\": null}, {\"name\": \"\\\\u0421\\\\u0442\\\\u0430\\\\u0432\\\\u043a\\\\u0430 \\\\u043f\\\\u043e \\\\u043a\\\\u0440\\\\u0435\\\\u0434\\\\u0438\\\\u0442\\\\u0443 0,4%, \\\\u043f\\\\u0435\\\\u0440\\\\u0432\\\\u043e\\\\u043d\\\\u0430\\\\u0447\\\\u0430\\\\u043b\\\\u044c\\\\u043d\\\\u044b\\\\u0439 \\\\u0432\\\\u0437\\\\u043d\\\\u043e\\\\u0441 \\\\u043e\\\\u0442 15%, \\\\u0441\\\\u0440\\\\u043e\\\\u043a \\\\u043a\\\\u0440\\\\u0435\\\\u0434\\\\u0438\\\\u0442\\\\u043e\\\\u0432\\\\u0430\\\\u043d\\\\u0438\\\\u044f \\\\u0434\\\\u043e 20 \\\\u043b\\\\u0435\\\\u0442, \\\\u0441\\\\u0443\\\\u043c\\\\u043c\\\\u0430 \\\\u043a\\\\u0440\\\\u0435\\\\u0434\\\\u0438\\\\u0442\\\\u0430 \\\\u0434\\\\u043e 12 \\\\u043c\\\\u043b\\\\u043d.\\\\u0440\\\\u0443\\\\u0431.\", \"discount_percent\": null, \"discount_sum\": null, \"amount\": \"12000000.00\", \"term\": 240, \"deposit\": 15.0, \"mortgage_percent\": 0.4, \"is_base_price\": null, \"readable_sale_type\": null, \"sale_type\": null, \"sale_type_name\": null}, {\"name\": \"30% (100%, \\\\u0440\\\\u0430\\\\u0441\\\\u0441\\\\u0440\\\\u043e\\\\u0447\\\\u043a\\\\u0430, \\\\u043d\\\\u0435\\\\u0441\\\\u0443\\\\u0431\\\\u0441\\\\u0438\\\\u0434\\\\u0438\\\\u0440\\\\u043e\\\\u0432\\\\u0430\\\\u043d\\\\u043d\\\\u0430\\\\u044f \\\\u0438\\\\u043f\\\\u043e\\\\u0442\\\\u0435\\\\u043a\\\\u0430)\", \"discount_percent\": 30.0, \"discount_sum\": null, \"amount\": null, \"term\": null, \"deposit\": null, \"mortgage_percent\": null, \"is_base_price\": null, \"readable_sale_type\": \"100% \\\\u043e\\\\u043f\\\\u043b\\\\u0430\\\\u0442\\\\u0430\", \"sale_type\": 1, \"sale_type_name\": \"\\\\u041e\\\\u0441\\\\u043d\\\\u043e\\\\u0432\\\\u043d\\\\u0430\\\\u044f\"}, {\"name\": \"10% (\\\\u0421\\\\u0443\\\\u0431\\\\u0441\\\\u0438\\\\u0434\\\\u0438\\\\u0440\\\\u043e\\\\u0432\\\\u0430\\\\u043d\\\\u043d\\\\u0430\\\\u044f \\\\u0438\\\\u043f\\\\u043e\\\\u0442\\\\u0435\\\\u043a\\\\u0430)\", \"discount_percent\": 10.0, \"discount_sum\": null, \"amount\": null, \"term\": null, \"deposit\": null, \"mortgage_percent\": null, \"is_base_price\": null, \"readable_sale_type\": \"\\\\u0414\\\\u043b\\\\u044f \\\\u0438\\\\u043f\\\\u043e\\\\u0442\\\\u0435\\\\u043a\\\\u0438\", \"sale_type\": 2, \"sale_type_name\": \"\\\\u0421\\\\u0443\\\\u0431\\\\u0441\\\\u0438\\\\u0434\\\\u0438\\\\u0440\\\\u043e\\\\u0432\\\\u0430\\\\u043d\\\\u043d\\\\u0430\\\\u044f\"}, {\"name\": \"\\\\u0421\\\\u0442\\\\u0430\\\\u0432\\\\u043a\\\\u0430 \\\\u043f\\\\u043e \\\\u043a\\\\u0440\\\\u0435\\\\u0434\\\\u0438\\\\u0442\\\\u0443 0,01%, \\\\u043f\\\\u0435\\\\u0440\\\\u0432\\\\u043e\\\\u043d\\\\u0430\\\\u0447\\\\u0430\\\\u043b\\\\u044c\\\\u043d\\\\u044b\\\\u0439 \\\\u0432\\\\u0437\\\\u043d\\\\u043e\\\\u0441 \\\\u043e\\\\u0442 15%, \\\\u0441\\\\u0440\\\\u043e\\\\u043a \\\\u043a\\\\u0440\\\\u0435\\\\u0434\\\\u0438\\\\u0442\\\\u043e\\\\u0432\\\\u0430\\\\u043d\\\\u0438\\\\u044f \\\\u0434\\\\u043e 30 \\\\u043b\\\\u0435\\\\u0442, \\\\u0441\\\\u0443\\\\u043c\\\\u043c\\\\u0430 \\\\u043a\\\\u0440\\\\u0435\\\\u0434\\\\u0438\\\\u0442\\\\u0430 \\\\u0434\\\\u043e 12 \\\\u043c\\\\u043b\\\\u043d \\\\u0440\\\\u0443\\\\u0431.\", \"discount_percent\": null, \"discount_sum\": null, \"amount\": \"12000000.00\", \"term\": 360, \"deposit\": 15.0, \"mortgage_percent\": 0.01, \"is_base_price\": true, \"readable_sale_type\": null, \"sale_type\": null, \"sale_type_name\": null}]',\n",
       "  'source_url': 'https://level.ru/api/flat/'},\n",
       " {'title': 'Стрешнево Восток 7 44.4 Волоколамское ш., д. 81, корп. 2 55.82495356307498,37.411886931513436',\n",
       "  'quantity': 1,\n",
       "  'price': 15196649.0,\n",
       "  'price_sale': 10637654,\n",
       "  'datetime_create': '1970-01-01T00:00:00.00Z',\n",
       "  'brand': 'level.ru',\n",
       "  'brand_url': 'level.ru',\n",
       "  'category': 'Новостройки',\n",
       "  'url': 'https://level.ru/stresh/apartment/2room/4-38/',\n",
       "  'image_url': 'https://storage.yandexcloud.net/level-media/core/flat/plane/4-38_KgNqOrM.svg',\n",
       "  'description': '[{\"name\": \"\\\\u0421\\\\u0442\\\\u0430\\\\u0432\\\\u043a\\\\u0430 \\\\u043f\\\\u043e \\\\u043a\\\\u0440\\\\u0435\\\\u0434\\\\u0438\\\\u0442\\\\u0443 \\\\u043d\\\\u0430 \\\\u0430\\\\u043f\\\\u0430\\\\u0440\\\\u0442\\\\u0430\\\\u043c\\\\u0435\\\\u043d\\\\u0442\\\\u044b  - 0,1%, \\\\u043f\\\\u0435\\\\u0440\\\\u0432\\\\u043e\\\\u043d\\\\u0430\\\\u0447\\\\u0430\\\\u043b\\\\u044c\\\\u043d\\\\u044b\\\\u0439 \\\\u0432\\\\u0437\\\\u043d\\\\u043e\\\\u0441 \\\\u043e\\\\u0442 15%, \\\\u0441\\\\u0440\\\\u043e\\\\u043a \\\\u043a\\\\u0440\\\\u0435\\\\u0434\\\\u0438\\\\u0442\\\\u043e\\\\u0432\\\\u0430\\\\u043d\\\\u0438\\\\u044f \\\\u0434\\\\u043e 30 \\\\u043b\\\\u0435\\\\u0442, \\\\u0441\\\\u0443\\\\u043c\\\\u043c\\\\u0430 \\\\u043a\\\\u0440\\\\u0435\\\\u0434\\\\u0438\\\\u0442\\\\u0430 \\\\u0431\\\\u0435\\\\u0437 \\\\u043e\\\\u0433\\\\u0440\\\\u0430\\\\u043d\\\\u0438\\\\u0447\\\\u0435\\\\u043d\\\\u0438\\\\u044f\", \"discount_percent\": -14.0, \"discount_sum\": null, \"amount\": null, \"term\": 360, \"deposit\": 15.0, \"mortgage_percent\": 0.1, \"is_base_price\": null, \"readable_sale_type\": null, \"sale_type\": null, \"sale_type_name\": null}, {\"name\": \"\\\\u0421\\\\u0442\\\\u0430\\\\u0432\\\\u043a\\\\u0430 \\\\u043f\\\\u043e \\\\u043a\\\\u0440\\\\u0435\\\\u0434\\\\u0438\\\\u0442\\\\u0443 \\\\u043d\\\\u0430 \\\\u0430\\\\u043f\\\\u0430\\\\u0440\\\\u0442\\\\u0430\\\\u043c\\\\u0435\\\\u043d\\\\u0442\\\\u044b  - 3,99%, \\\\u043f\\\\u0435\\\\u0440\\\\u0432\\\\u043e\\\\u043d\\\\u0430\\\\u0447\\\\u0430\\\\u043b\\\\u044c\\\\u043d\\\\u044b\\\\u0439 \\\\u0432\\\\u0437\\\\u043d\\\\u043e\\\\u0441 \\\\u043e\\\\u0442 15%, \\\\u0441\\\\u0440\\\\u043e\\\\u043a \\\\u043a\\\\u0440\\\\u0435\\\\u0434\\\\u0438\\\\u0442\\\\u043e\\\\u0432\\\\u0430\\\\u043d\\\\u0438\\\\u044f \\\\u0434\\\\u043e 30 \\\\u043b\\\\u0435\\\\u0442, \\\\u0441\\\\u0443\\\\u043c\\\\u043c\\\\u0430 \\\\u043a\\\\u0440\\\\u0435\\\\u0434\\\\u0438\\\\u0442\\\\u0430 \\\\u0431\\\\u0435\\\\u0437 \\\\u043e\\\\u0433\\\\u0440\\\\u0430\\\\u043d\\\\u0438\\\\u0447\\\\u0435\\\\u043d\\\\u0438\\\\u044f\", \"discount_percent\": null, \"discount_sum\": null, \"amount\": null, \"term\": 360, \"deposit\": 15.0, \"mortgage_percent\": 3.99, \"is_base_price\": null, \"readable_sale_type\": null, \"sale_type\": null, \"sale_type_name\": null}, {\"name\": \"30% (100%, \\\\u0440\\\\u0430\\\\u0441\\\\u0441\\\\u0440\\\\u043e\\\\u0447\\\\u043a\\\\u0430, \\\\u043d\\\\u0435\\\\u0441\\\\u0443\\\\u0431\\\\u0441\\\\u0438\\\\u0434\\\\u0438\\\\u0440\\\\u043e\\\\u0432\\\\u0430\\\\u043d\\\\u043d\\\\u0430\\\\u044f \\\\u0438\\\\u043f\\\\u043e\\\\u0442\\\\u0435\\\\u043a\\\\u0430)\", \"discount_percent\": 30.0, \"discount_sum\": null, \"amount\": null, \"term\": null, \"deposit\": null, \"mortgage_percent\": null, \"is_base_price\": null, \"readable_sale_type\": \"100% \\\\u043e\\\\u043f\\\\u043b\\\\u0430\\\\u0442\\\\u0430\", \"sale_type\": 1, \"sale_type_name\": \"\\\\u041e\\\\u0441\\\\u043d\\\\u043e\\\\u0432\\\\u043d\\\\u0430\\\\u044f\"}, {\"name\": \"10% (\\\\u0421\\\\u0443\\\\u0431\\\\u0441\\\\u0438\\\\u0434\\\\u0438\\\\u0440\\\\u043e\\\\u0432\\\\u0430\\\\u043d\\\\u043d\\\\u0430\\\\u044f \\\\u0438\\\\u043f\\\\u043e\\\\u0442\\\\u0435\\\\u043a\\\\u0430)\", \"discount_percent\": 10.0, \"discount_sum\": null, \"amount\": null, \"term\": null, \"deposit\": null, \"mortgage_percent\": null, \"is_base_price\": null, \"readable_sale_type\": \"\\\\u0414\\\\u043b\\\\u044f \\\\u0438\\\\u043f\\\\u043e\\\\u0442\\\\u0435\\\\u043a\\\\u0438\", \"sale_type\": 2, \"sale_type_name\": \"\\\\u0421\\\\u0443\\\\u0431\\\\u0441\\\\u0438\\\\u0434\\\\u0438\\\\u0440\\\\u043e\\\\u0432\\\\u0430\\\\u043d\\\\u043d\\\\u0430\\\\u044f\"}]',\n",
       "  'source_url': 'https://level.ru/api/flat/'},\n",
       " {'title': 'Южнопортовая 6 12 53.7 ул. Южнопортовая, вл.28-28а 55.705727,37.696445',\n",
       "  'quantity': 1,\n",
       "  'price': 20032136.0,\n",
       "  'price_sale': 14022495,\n",
       "  'datetime_create': '1970-01-01T00:00:00.00Z',\n",
       "  'brand': 'level.ru',\n",
       "  'brand_url': 'level.ru',\n",
       "  'category': 'Новостройки',\n",
       "  'url': 'https://level.ru/southport/flat/3room/6-107/',\n",
       "  'image_url': 'https://storage.yandexcloud.net/level-media/core/flat/plane/caa77cedb5b69c707e69f495220fa58f8ea35a0a.svg',\n",
       "  'description': '[{\"name\": \"\\\\u0421\\\\u0442\\\\u0430\\\\u0432\\\\u043a\\\\u0430 \\\\u043f\\\\u043e \\\\u043a\\\\u0440\\\\u0435\\\\u0434\\\\u0438\\\\u0442\\\\u0443 0,1%, \\\\u043f\\\\u0435\\\\u0440\\\\u0432\\\\u043e\\\\u043d\\\\u0430\\\\u0447\\\\u0430\\\\u043b\\\\u044c\\\\u043d\\\\u044b\\\\u0439 \\\\u0432\\\\u0437\\\\u043d\\\\u043e\\\\u0441 \\\\u043e\\\\u0442 15%, \\\\u0441\\\\u0440\\\\u043e\\\\u043a \\\\u043a\\\\u0440\\\\u0435\\\\u0434\\\\u0438\\\\u0442\\\\u043e\\\\u0432\\\\u0430\\\\u043d\\\\u0438\\\\u044f \\\\u0434\\\\u043e 30 \\\\u043b\\\\u0435\\\\u0442, \\\\u0441\\\\u0443\\\\u043c\\\\u043c\\\\u0430 \\\\u043a\\\\u0440\\\\u0435\\\\u0434\\\\u0438\\\\u0442\\\\u0430 \\\\u043e\\\\u0442 12 \\\\u0434\\\\u043e 30 \\\\u043c\\\\u043b\\\\u043d. \\\\u0440\\\\u0443\\\\u0431.\", \"discount_percent\": -5.0, \"discount_sum\": null, \"amount\": \"30000000.00\", \"term\": 360, \"deposit\": 15.0, \"mortgage_percent\": 0.1, \"is_base_price\": null, \"readable_sale_type\": null, \"sale_type\": null, \"sale_type_name\": null}, {\"name\": \"\\\\u0421\\\\u0442\\\\u0430\\\\u0432\\\\u043a\\\\u0430 \\\\u043f\\\\u043e \\\\u043a\\\\u0440\\\\u0435\\\\u0434\\\\u0438\\\\u0442\\\\u0443 0,01%, \\\\u043f\\\\u0435\\\\u0440\\\\u0432\\\\u043e\\\\u043d\\\\u0430\\\\u0447\\\\u0430\\\\u043b\\\\u044c\\\\u043d\\\\u044b\\\\u0439 \\\\u0432\\\\u0437\\\\u043d\\\\u043e\\\\u0441 \\\\u043e\\\\u0442 15%, \\\\u0441\\\\u0440\\\\u043e\\\\u043a \\\\u043a\\\\u0440\\\\u0435\\\\u0434\\\\u0438\\\\u0442\\\\u043e\\\\u0432\\\\u0430\\\\u043d\\\\u0438\\\\u044f \\\\u0434\\\\u043e 30 \\\\u043b\\\\u0435\\\\u0442, \\\\u0441\\\\u0443\\\\u043c\\\\u043c\\\\u0430 \\\\u043a\\\\u0440\\\\u0435\\\\u0434\\\\u0438\\\\u0442\\\\u0430 \\\\u0434\\\\u043e 12 \\\\u043c\\\\u043b\\\\u043d \\\\u0440\\\\u0443\\\\u0431.\", \"discount_percent\": null, \"discount_sum\": null, \"amount\": \"12000000.00\", \"term\": 360, \"deposit\": 15.0, \"mortgage_percent\": 0.01, \"is_base_price\": true, \"readable_sale_type\": null, \"sale_type\": null, \"sale_type_name\": null}, {\"name\": \"10% (\\\\u0421\\\\u0443\\\\u0431\\\\u0441\\\\u0438\\\\u0434\\\\u0438\\\\u0440\\\\u043e\\\\u0432\\\\u0430\\\\u043d\\\\u043d\\\\u0430\\\\u044f \\\\u0438\\\\u043f\\\\u043e\\\\u0442\\\\u0435\\\\u043a\\\\u0430)\", \"discount_percent\": 10.0, \"discount_sum\": null, \"amount\": null, \"term\": null, \"deposit\": null, \"mortgage_percent\": null, \"is_base_price\": null, \"readable_sale_type\": \"\\\\u0414\\\\u043b\\\\u044f \\\\u0438\\\\u043f\\\\u043e\\\\u0442\\\\u0435\\\\u043a\\\\u0438\", \"sale_type\": 2, \"sale_type_name\": \"\\\\u0421\\\\u0443\\\\u0431\\\\u0441\\\\u0438\\\\u0434\\\\u0438\\\\u0440\\\\u043e\\\\u0432\\\\u0430\\\\u043d\\\\u043d\\\\u0430\\\\u044f\"}, {\"name\": \"\\\\u0421\\\\u0442\\\\u0430\\\\u0432\\\\u043a\\\\u0430 \\\\u043f\\\\u043e \\\\u043a\\\\u0440\\\\u0435\\\\u0434\\\\u0438\\\\u0442\\\\u0443 0,1%, \\\\u043f\\\\u0435\\\\u0440\\\\u0432\\\\u043e\\\\u043d\\\\u0430\\\\u0447\\\\u0430\\\\u043b\\\\u044c\\\\u043d\\\\u044b\\\\u0439 \\\\u0432\\\\u0437\\\\u043d\\\\u043e\\\\u0441 \\\\u043e\\\\u0442 15%, \\\\u0441\\\\u0440\\\\u043e\\\\u043a \\\\u043a\\\\u0440\\\\u0435\\\\u0434\\\\u0438\\\\u0442\\\\u043e\\\\u0432\\\\u0430\\\\u043d\\\\u0438\\\\u044f \\\\u0434\\\\u043e 30 \\\\u043b\\\\u0435\\\\u0442, \\\\u0441\\\\u0443\\\\u043c\\\\u043c\\\\u0430 \\\\u043a\\\\u0440\\\\u0435\\\\u0434\\\\u0438\\\\u0442\\\\u0430 \\\\u0431\\\\u0435\\\\u0437 \\\\u043e\\\\u0433\\\\u0440\\\\u0430\\\\u043d\\\\u0438\\\\u0447\\\\u0435\\\\u043d\\\\u0438\\\\u044f\", \"discount_percent\": -12.0, \"discount_sum\": null, \"amount\": null, \"term\": 360, \"deposit\": 15.0, \"mortgage_percent\": 0.1, \"is_base_price\": null, \"readable_sale_type\": null, \"sale_type\": null, \"sale_type_name\": null}, {\"name\": \"30% (100%, \\\\u0440\\\\u0430\\\\u0441\\\\u0441\\\\u0440\\\\u043e\\\\u0447\\\\u043a\\\\u0430, \\\\u043d\\\\u0435\\\\u0441\\\\u0443\\\\u0431\\\\u0441\\\\u0438\\\\u0434\\\\u0438\\\\u0440\\\\u043e\\\\u0432\\\\u0430\\\\u043d\\\\u043d\\\\u0430\\\\u044f \\\\u0438\\\\u043f\\\\u043e\\\\u0442\\\\u0435\\\\u043a\\\\u0430)\", \"discount_percent\": 30.0, \"discount_sum\": null, \"amount\": null, \"term\": null, \"deposit\": null, \"mortgage_percent\": null, \"is_base_price\": null, \"readable_sale_type\": \"100% \\\\u043e\\\\u043f\\\\u043b\\\\u0430\\\\u0442\\\\u0430\", \"sale_type\": 1, \"sale_type_name\": \"\\\\u041e\\\\u0441\\\\u043d\\\\u043e\\\\u0432\\\\u043d\\\\u0430\\\\u044f\"}, {\"name\": \"\\\\u0421\\\\u0442\\\\u0430\\\\u0432\\\\u043a\\\\u0430 \\\\u043f\\\\u043e \\\\u043a\\\\u0440\\\\u0435\\\\u0434\\\\u0438\\\\u0442\\\\u0443 0,4%, \\\\u043f\\\\u0435\\\\u0440\\\\u0432\\\\u043e\\\\u043d\\\\u0430\\\\u0447\\\\u0430\\\\u043b\\\\u044c\\\\u043d\\\\u044b\\\\u0439 \\\\u0432\\\\u0437\\\\u043d\\\\u043e\\\\u0441 \\\\u043e\\\\u0442 15%, \\\\u0441\\\\u0440\\\\u043e\\\\u043a \\\\u043a\\\\u0440\\\\u0435\\\\u0434\\\\u0438\\\\u0442\\\\u043e\\\\u0432\\\\u0430\\\\u043d\\\\u0438\\\\u044f \\\\u0434\\\\u043e 20 \\\\u043b\\\\u0435\\\\u0442, \\\\u0441\\\\u0443\\\\u043c\\\\u043c\\\\u0430 \\\\u043a\\\\u0440\\\\u0435\\\\u0434\\\\u0438\\\\u0442\\\\u0430 \\\\u0434\\\\u043e 12 \\\\u043c\\\\u043b\\\\u043d.\\\\u0440\\\\u0443\\\\u0431.\", \"discount_percent\": null, \"discount_sum\": null, \"amount\": \"12000000.00\", \"term\": 240, \"deposit\": 15.0, \"mortgage_percent\": 0.4, \"is_base_price\": null, \"readable_sale_type\": null, \"sale_type\": null, \"sale_type_name\": null}]',\n",
       "  'source_url': 'https://level.ru/api/flat/'},\n",
       " {'title': 'Южнопортовая 1 21 79.6 ул. Южнопортовая, вл.28-28а 55.705727,37.696445',\n",
       "  'quantity': 1,\n",
       "  'price': 25841844.0,\n",
       "  'price_sale': 18089290,\n",
       "  'datetime_create': '1970-01-01T00:00:00.00Z',\n",
       "  'brand': 'level.ru',\n",
       "  'brand_url': 'level.ru',\n",
       "  'category': 'Новостройки',\n",
       "  'url': 'https://level.ru/southport/flat/4room/1-274/',\n",
       "  'image_url': 'https://storage.yandexcloud.net/level-media/core/flat/plane/1-274.svg',\n",
       "  'description': '[{\"name\": \"30% (100%, \\\\u0440\\\\u0430\\\\u0441\\\\u0441\\\\u0440\\\\u043e\\\\u0447\\\\u043a\\\\u0430, \\\\u043d\\\\u0435\\\\u0441\\\\u0443\\\\u0431\\\\u0441\\\\u0438\\\\u0434\\\\u0438\\\\u0440\\\\u043e\\\\u0432\\\\u0430\\\\u043d\\\\u043d\\\\u0430\\\\u044f \\\\u0438\\\\u043f\\\\u043e\\\\u0442\\\\u0435\\\\u043a\\\\u0430)\", \"discount_percent\": 30.0, \"discount_sum\": null, \"amount\": null, \"term\": null, \"deposit\": null, \"mortgage_percent\": null, \"is_base_price\": null, \"readable_sale_type\": \"100% \\\\u043e\\\\u043f\\\\u043b\\\\u0430\\\\u0442\\\\u0430\", \"sale_type\": 1, \"sale_type_name\": \"\\\\u041e\\\\u0441\\\\u043d\\\\u043e\\\\u0432\\\\u043d\\\\u0430\\\\u044f\"}, {\"name\": \"\\\\u0421\\\\u0442\\\\u0430\\\\u0432\\\\u043a\\\\u0430 \\\\u043f\\\\u043e \\\\u043a\\\\u0440\\\\u0435\\\\u0434\\\\u0438\\\\u0442\\\\u0443 0,4%, \\\\u043f\\\\u0435\\\\u0440\\\\u0432\\\\u043e\\\\u043d\\\\u0430\\\\u0447\\\\u0430\\\\u043b\\\\u044c\\\\u043d\\\\u044b\\\\u0439 \\\\u0432\\\\u0437\\\\u043d\\\\u043e\\\\u0441 \\\\u043e\\\\u0442 15%, \\\\u0441\\\\u0440\\\\u043e\\\\u043a \\\\u043a\\\\u0440\\\\u0435\\\\u0434\\\\u0438\\\\u0442\\\\u043e\\\\u0432\\\\u0430\\\\u043d\\\\u0438\\\\u044f \\\\u0434\\\\u043e 20 \\\\u043b\\\\u0435\\\\u0442, \\\\u0441\\\\u0443\\\\u043c\\\\u043c\\\\u0430 \\\\u043a\\\\u0440\\\\u0435\\\\u0434\\\\u0438\\\\u0442\\\\u0430 \\\\u0434\\\\u043e 12 \\\\u043c\\\\u043b\\\\u043d.\\\\u0440\\\\u0443\\\\u0431.\", \"discount_percent\": null, \"discount_sum\": null, \"amount\": \"12000000.00\", \"term\": 240, \"deposit\": 15.0, \"mortgage_percent\": 0.4, \"is_base_price\": null, \"readable_sale_type\": null, \"sale_type\": null, \"sale_type_name\": null}, {\"name\": \"\\\\u0421\\\\u0442\\\\u0430\\\\u0432\\\\u043a\\\\u0430 \\\\u043f\\\\u043e \\\\u043a\\\\u0440\\\\u0435\\\\u0434\\\\u0438\\\\u0442\\\\u0443 0,1%, \\\\u043f\\\\u0435\\\\u0440\\\\u0432\\\\u043e\\\\u043d\\\\u0430\\\\u0447\\\\u0430\\\\u043b\\\\u044c\\\\u043d\\\\u044b\\\\u0439 \\\\u0432\\\\u0437\\\\u043d\\\\u043e\\\\u0441 \\\\u043e\\\\u0442 15%, \\\\u0441\\\\u0440\\\\u043e\\\\u043a \\\\u043a\\\\u0440\\\\u0435\\\\u0434\\\\u0438\\\\u0442\\\\u043e\\\\u0432\\\\u0430\\\\u043d\\\\u0438\\\\u044f \\\\u0434\\\\u043e 30 \\\\u043b\\\\u0435\\\\u0442, \\\\u0441\\\\u0443\\\\u043c\\\\u043c\\\\u0430 \\\\u043a\\\\u0440\\\\u0435\\\\u0434\\\\u0438\\\\u0442\\\\u0430 \\\\u043e\\\\u0442 12 \\\\u0434\\\\u043e 30 \\\\u043c\\\\u043b\\\\u043d. \\\\u0440\\\\u0443\\\\u0431.\", \"discount_percent\": -5.0, \"discount_sum\": null, \"amount\": \"30000000.00\", \"term\": 360, \"deposit\": 15.0, \"mortgage_percent\": 0.1, \"is_base_price\": null, \"readable_sale_type\": null, \"sale_type\": null, \"sale_type_name\": null}, {\"name\": \"\\\\u0421\\\\u0442\\\\u0430\\\\u0432\\\\u043a\\\\u0430 \\\\u043f\\\\u043e \\\\u043a\\\\u0440\\\\u0435\\\\u0434\\\\u0438\\\\u0442\\\\u0443 0,1%, \\\\u043f\\\\u0435\\\\u0440\\\\u0432\\\\u043e\\\\u043d\\\\u0430\\\\u0447\\\\u0430\\\\u043b\\\\u044c\\\\u043d\\\\u044b\\\\u0439 \\\\u0432\\\\u0437\\\\u043d\\\\u043e\\\\u0441 \\\\u043e\\\\u0442 15%, \\\\u0441\\\\u0440\\\\u043e\\\\u043a \\\\u043a\\\\u0440\\\\u0435\\\\u0434\\\\u0438\\\\u0442\\\\u043e\\\\u0432\\\\u0430\\\\u043d\\\\u0438\\\\u044f \\\\u0434\\\\u043e 30 \\\\u043b\\\\u0435\\\\u0442, \\\\u0441\\\\u0443\\\\u043c\\\\u043c\\\\u0430 \\\\u043a\\\\u0440\\\\u0435\\\\u0434\\\\u0438\\\\u0442\\\\u0430 \\\\u0431\\\\u0435\\\\u0437 \\\\u043e\\\\u0433\\\\u0440\\\\u0430\\\\u043d\\\\u0438\\\\u0447\\\\u0435\\\\u043d\\\\u0438\\\\u044f\", \"discount_percent\": -12.0, \"discount_sum\": null, \"amount\": null, \"term\": 360, \"deposit\": 15.0, \"mortgage_percent\": 0.1, \"is_base_price\": null, \"readable_sale_type\": null, \"sale_type\": null, \"sale_type_name\": null}, {\"name\": \"\\\\u0421\\\\u0442\\\\u0430\\\\u0432\\\\u043a\\\\u0430 \\\\u043f\\\\u043e \\\\u043a\\\\u0440\\\\u0435\\\\u0434\\\\u0438\\\\u0442\\\\u0443 0,01%, \\\\u043f\\\\u0435\\\\u0440\\\\u0432\\\\u043e\\\\u043d\\\\u0430\\\\u0447\\\\u0430\\\\u043b\\\\u044c\\\\u043d\\\\u044b\\\\u0439 \\\\u0432\\\\u0437\\\\u043d\\\\u043e\\\\u0441 \\\\u043e\\\\u0442 15%, \\\\u0441\\\\u0440\\\\u043e\\\\u043a \\\\u043a\\\\u0440\\\\u0435\\\\u0434\\\\u0438\\\\u0442\\\\u043e\\\\u0432\\\\u0430\\\\u043d\\\\u0438\\\\u044f \\\\u0434\\\\u043e 30 \\\\u043b\\\\u0435\\\\u0442, \\\\u0441\\\\u0443\\\\u043c\\\\u043c\\\\u0430 \\\\u043a\\\\u0440\\\\u0435\\\\u0434\\\\u0438\\\\u0442\\\\u0430 \\\\u0434\\\\u043e 12 \\\\u043c\\\\u043b\\\\u043d \\\\u0440\\\\u0443\\\\u0431.\", \"discount_percent\": null, \"discount_sum\": null, \"amount\": \"12000000.00\", \"term\": 360, \"deposit\": 15.0, \"mortgage_percent\": 0.01, \"is_base_price\": true, \"readable_sale_type\": null, \"sale_type\": null, \"sale_type_name\": null}, {\"name\": \"10% (\\\\u0421\\\\u0443\\\\u0431\\\\u0441\\\\u0438\\\\u0434\\\\u0438\\\\u0440\\\\u043e\\\\u0432\\\\u0430\\\\u043d\\\\u043d\\\\u0430\\\\u044f \\\\u0438\\\\u043f\\\\u043e\\\\u0442\\\\u0435\\\\u043a\\\\u0430)\", \"discount_percent\": 10.0, \"discount_sum\": null, \"amount\": null, \"term\": null, \"deposit\": null, \"mortgage_percent\": null, \"is_base_price\": null, \"readable_sale_type\": \"\\\\u0414\\\\u043b\\\\u044f \\\\u0438\\\\u043f\\\\u043e\\\\u0442\\\\u0435\\\\u043a\\\\u0438\", \"sale_type\": 2, \"sale_type_name\": \"\\\\u0421\\\\u0443\\\\u0431\\\\u0441\\\\u0438\\\\u0434\\\\u0438\\\\u0440\\\\u043e\\\\u0432\\\\u0430\\\\u043d\\\\u043d\\\\u0430\\\\u044f\"}]',\n",
       "  'source_url': 'https://level.ru/api/flat/'}]"
      ]
     },
     "execution_count": 7,
     "metadata": {},
     "output_type": "execute_result"
    }
   ],
   "source": [
    "ll[:5]"
   ]
  },
  {
   "cell_type": "code",
   "execution_count": null,
   "id": "2b7d6622",
   "metadata": {},
   "outputs": [],
   "source": []
  }
 ],
 "metadata": {
  "kernelspec": {
   "display_name": "Python 3 (ipykernel)",
   "language": "python",
   "name": "python3"
  },
  "language_info": {
   "codemirror_mode": {
    "name": "ipython",
    "version": 3
   },
   "file_extension": ".py",
   "mimetype": "text/x-python",
   "name": "python",
   "nbconvert_exporter": "python",
   "pygments_lexer": "ipython3",
   "version": "3.9.7"
  }
 },
 "nbformat": 4,
 "nbformat_minor": 5
}
