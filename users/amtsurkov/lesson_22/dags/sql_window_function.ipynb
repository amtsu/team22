{
 "cells": [
  {
   "cell_type": "code",
   "execution_count": 1,
   "id": "72d17906",
   "metadata": {},
   "outputs": [],
   "source": [
    "#sqlite"
   ]
  },
  {
   "cell_type": "code",
   "execution_count": 1,
   "id": "22b15423",
   "metadata": {},
   "outputs": [],
   "source": [
    "import sqlite3"
   ]
  },
  {
   "cell_type": "code",
   "execution_count": 2,
   "id": "d6a63ab9",
   "metadata": {},
   "outputs": [],
   "source": [
    "connection = sqlite3.connect('test.db')"
   ]
  },
  {
   "cell_type": "code",
   "execution_count": 3,
   "id": "0d8aac62",
   "metadata": {},
   "outputs": [],
   "source": [
    "cursor = connection.cursor()"
   ]
  },
  {
   "cell_type": "code",
   "execution_count": 58,
   "id": "8df1141a",
   "metadata": {},
   "outputs": [
    {
     "data": {
      "text/plain": [
       "<sqlite3.Cursor at 0x7fedf03bae30>"
      ]
     },
     "execution_count": 58,
     "metadata": {},
     "output_type": "execute_result"
    }
   ],
   "source": [
    "cursor.execute('update products_history set price_sale = 42616 where id = 2856')"
   ]
  },
  {
   "cell_type": "code",
   "execution_count": 60,
   "id": "37605825",
   "metadata": {},
   "outputs": [
    {
     "data": {
      "text/plain": [
       "<sqlite3.Cursor at 0x7fedf03bae30>"
      ]
     },
     "execution_count": 60,
     "metadata": {},
     "output_type": "execute_result"
    }
   ],
   "source": [
    "cursor.execute('select id, price, price_sale, title, url from products_history where title like \"%LUPO AX 120%\" limit 1000')"
   ]
  },
  {
   "cell_type": "code",
   "execution_count": 269,
   "id": "371ad8b3",
   "metadata": {},
   "outputs": [
    {
     "data": {
      "text/plain": [
       "[('2022-11-27 15:37:19.581614',)]"
      ]
     },
     "execution_count": 269,
     "metadata": {},
     "output_type": "execute_result"
    }
   ],
   "source": [
    "cursor.execute('select datetime_create from products_history where id = 9 and  datetime_create >= \"2022-11-04\"')\n",
    "cursor.fetchall()"
   ]
  },
  {
   "cell_type": "code",
   "execution_count": 61,
   "id": "be780906",
   "metadata": {},
   "outputs": [],
   "source": [
    "#cursor.execute('select * from products_history where title like \"%боти%\" limit 1000')"
   ]
  },
  {
   "cell_type": "code",
   "execution_count": 62,
   "id": "283860a3",
   "metadata": {},
   "outputs": [],
   "source": [
    "#cursor.execute('select * from products_history where id = 15 limit 10')"
   ]
  },
  {
   "cell_type": "code",
   "execution_count": 64,
   "id": "ebe6919d",
   "metadata": {},
   "outputs": [],
   "source": [
    "#cursor.fetchall()"
   ]
  },
  {
   "cell_type": "markdown",
   "id": "31332681",
   "metadata": {},
   "source": [
    "q = \"\"\"SELECT CalendarYear, CalendarQuarter, SalesAmountQuota AS SalesQuota,  \n",
    "       LAG(SalesAmountQuota,1,0) OVER (ORDER BY CalendarYear, CalendarQuarter) AS PrevQuota,  \n",
    "       SalesAmountQuota - LAG(SalesAmountQuota,1,0) OVER (ORDER BY CalendarYear, CalendarQuarter) AS Diff  \n",
    "FROM dbo.FactSalesQuota  \n",
    "WHERE EmployeeKey = 272 AND CalendarYear IN (2001, 2002)  \n",
    "ORDER BY CalendarYear, CalendarQuarter;\"\"\""
   ]
  },
  {
   "cell_type": "code",
   "execution_count": 119,
   "id": "5dc12a5e",
   "metadata": {},
   "outputs": [],
   "source": [
    "q = \"\"\"\n",
    "SELECT \n",
    "    id, \n",
    "    title,\n",
    "    price_sale,  \n",
    "    LAG(price_sale,1,0) OVER (ORDER BY id) AS PrevQuota,  \n",
    "    price_sale - LAG(price_sale,1,0) OVER (ORDER BY id desc) AS Diff  \n",
    "FROM products_history\n",
    "WHERE title like \"%LUPO AX 120%\" \n",
    "ORDER BY id desc\n",
    "LIMIT 4\n",
    "\"\"\""
   ]
  },
  {
   "cell_type": "code",
   "execution_count": 134,
   "id": "f3c4c21a",
   "metadata": {},
   "outputs": [],
   "source": [
    "q = \"\"\"\n",
    "SELECT \n",
    "    id, \n",
    "    title,\n",
    "    price_sale,  \n",
    "    LEAD(price_sale,1,0) OVER (ORDER BY id) AS PrevQuota,  \n",
    "    price_sale - LEAD(price_sale,1,0) OVER (PARTITION BY title ORDER BY title, id desc) AS Diff  \n",
    "FROM products_history\n",
    "--WHERE title like \"%LUPO AX 120%\" \n",
    "where title like \"%боти%\"\n",
    "ORDER BY title, id desc\n",
    "--LIMIT 4\n",
    "\"\"\""
   ]
  },
  {
   "cell_type": "code",
   "execution_count": 242,
   "id": "3fd7e287",
   "metadata": {},
   "outputs": [],
   "source": [
    "q = \"\"\"\n",
    "SELECT \n",
    "    id, \n",
    "    title,\n",
    "    price_sale,  \n",
    "    LEAD(price_sale,1,0) OVER (ORDER BY title desc, id desc) AS PrevQuota,  \n",
    "    price_sale - LEAD(price_sale,1,0) OVER ( ORDER BY title desc, id desc) AS Diff  \n",
    "FROM products_history\n",
    "--WHERE title like \"%LUPO AX 120%\" \n",
    "--where title like \"%боти%\"\n",
    "where title like \"%130%\" and title like \"%боти%\"\n",
    "--ORDER BY title, id desc\n",
    "ORDER BY title desc, id desc\n",
    "--LIMIT 4\n",
    "\"\"\""
   ]
  },
  {
   "cell_type": "code",
   "execution_count": 243,
   "id": "d73073a0",
   "metadata": {},
   "outputs": [
    {
     "data": {
      "text/plain": [
       "<sqlite3.Cursor at 0x7fedf03bae30>"
      ]
     },
     "execution_count": 243,
     "metadata": {},
     "output_type": "execute_result"
    }
   ],
   "source": [
    "cursor.execute(q)"
   ]
  },
  {
   "cell_type": "markdown",
   "id": "d1123373",
   "metadata": {},
   "source": [
    "for i in cursor.fetchall():\n",
    "    print(i)"
   ]
  },
  {
   "cell_type": "markdown",
   "id": "0ab8882f",
   "metadata": {},
   "source": [
    "q = \"\"\"\n",
    "SELECT \n",
    "    id, \n",
    "    title,\n",
    "    price_sale,  \n",
    "    LEAD(price_sale,1,0) OVER (ORDER BY title desc, id desc) AS PrevQuota,  \n",
    "    price_sale - LEAD(price_sale,1,0) OVER (PARTITION BY title  ORDER BY title desc, id desc ) AS Diff,\n",
    "    ROW_NUMBER() OVER(PARTITION BY title ORDER BY id desc) AS row_number\n",
    "\n",
    "FROM products_history\n",
    "--WHERE title like \"%LUPO AX 120%\" \n",
    "--where title like \"%боти%\"\n",
    "where title like \"%130%\" and title like \"%боти%\"--and title like \"%ALLTRACK ELITE 130%\"\n",
    "--ORDER BY title, id desc\n",
    "--having row_number = 1\n",
    "--ORDER BY row_number, title desc, id desc\n",
    "ORDER BY title desc, id desc\n",
    "--LIMIT 4\n",
    "\"\"\"\n",
    "cursor.execute(q)\n",
    "for i in cursor.fetchall():\n",
    "    print(i)"
   ]
  },
  {
   "cell_type": "markdown",
   "id": "8ca44f73",
   "metadata": {},
   "source": [
    "q = \"\"\"\n",
    "SELECT \n",
    "    id, \n",
    "    title,\n",
    "    price_sale,  \n",
    "    LEAD(price_sale,1,0) OVER (PARTITION BY title  ORDER BY title desc, id desc) AS PrevQuota,  \n",
    "    price_sale - LEAD(price_sale,1,0) OVER (PARTITION BY title  ORDER BY title desc, id desc ) AS Diff,\n",
    "    ROW_NUMBER() OVER(PARTITION BY title ORDER BY id desc) AS row_number\n",
    "\n",
    "FROM products_history\n",
    "--WHERE title like \"%LUPO AX 120%\" \n",
    "--where title like \"%боти%\"\n",
    "where title like \"%130%\" and title like \"%боти%\"--and title like \"%ALLTRACK ELITE 130%\"\n",
    "--ORDER BY title, id desc\n",
    "--having row_number = 1\n",
    "--ORDER BY row_number, title desc, id desc\n",
    "ORDER BY title desc, id desc\n",
    "--LIMIT 4\n",
    "\"\"\"\n",
    "cursor.execute(q)\n",
    "for i in cursor.fetchall():\n",
    "    print(i)"
   ]
  },
  {
   "cell_type": "code",
   "execution_count": 254,
   "id": "298df6a7",
   "metadata": {},
   "outputs": [
    {
     "data": {
      "text/plain": [
       "<sqlite3.Cursor at 0x7fedf03bae30>"
      ]
     },
     "execution_count": 254,
     "metadata": {},
     "output_type": "execute_result"
    }
   ],
   "source": [
    "cursor.execute('update products_history set price_sale = 40047 where id = 97')"
   ]
  },
  {
   "cell_type": "code",
   "execution_count": 255,
   "id": "2713c8a6",
   "metadata": {},
   "outputs": [
    {
     "ename": "SyntaxError",
     "evalue": "invalid syntax (4184171144.py, line 1)",
     "output_type": "error",
     "traceback": [
      "\u001b[0;36m  Cell \u001b[0;32mIn [255], line 1\u001b[0;36m\u001b[0m\n\u001b[0;31m    WITH sales_numbered AS (\u001b[0m\n\u001b[0m         ^\u001b[0m\n\u001b[0;31mSyntaxError\u001b[0m\u001b[0;31m:\u001b[0m invalid syntax\n"
     ]
    }
   ],
   "source": [
    "WITH sales_numbered AS (\n",
    "  SELECT id, product_id, salesperson_id, amount,\n",
    "    row_number() over(PARTITION BY product_id ORDER BY amount DESC) AS rn\n",
    "  FROM sale\n",
    ")\n",
    "SELECT id, product_id, salesperson_id, amount\n",
    "FROM sales_numbered\n",
    "WHERE rn = 1;"
   ]
  },
  {
   "cell_type": "code",
   "execution_count": 262,
   "id": "cdf40698",
   "metadata": {},
   "outputs": [
    {
     "name": "stdout",
     "output_type": "stream",
     "text": [
      "(2860, 'Горнолыжные ботинки Rossignol ALLTRACK ELITE 130 LT GW', 40047, 50047, -10000, 1)\n",
      "(2856, 'Горнолыжные ботинки Dalbello LUPO AX 120', 42616, 44616, -2000, 1)\n",
      "(2764, 'Павелецкая Сити 3 34 96.3 ул. Дубининская, д. 59-69 55.71962004653103,37.63727228350035', 42727373, 42685218, 42155, 1)\n",
      "(2735, 'Павелецкая Сити 1 28 41.4 ул. Дубининская, д. 59-69 55.71962004653103,37.63727228350035', 23608514, 23158828, 449686, 1)\n",
      "(2707, 'Павелецкая Сити 3 45 87.4 ул. Дубининская, д. 59-69 55.71962004653103,37.63727228350035', 39543717, 39505458, 38259, 1)\n",
      "(2629, 'Причальный Север 25 68.0 Причальный пр., д. 8 55.76018,37.517482', 25462903, 0, 25462903, 1)\n",
      "(2613, 'Павелецкая Сити 1 2 61.6 ул. Дубининская, д. 59-69 55.71962004653103,37.63727228350035', 25585714, 25323914, 261800, 1)\n",
      "(2611, 'Причальный Север 23 68.0 Причальный пр., д. 8 55.76018,37.517482', 25273798, 0, 25273798, 1)\n",
      "(2597, 'Причальный Север 10 35.0 Причальный пр., д. 8 55.76018,37.517482', 14484876, 0, 14484876, 1)\n",
      "(2593, 'Причальный Север 20 68.1 Причальный пр., д. 8 55.76018,37.517482', 25036362, 0, 25036362, 1)\n",
      "(2567, 'Нагатинская С 25 33.9 Нагатинская набережная, вл. 10 55.682462,37.637661', 13834878, 13297341, 537537, 1)\n",
      "(2556, 'Павелецкая Сити 1 2 61.5 ул. Дубининская, д. 59-69 55.71962004653103,37.63727228350035', 25282804, 25125979, 156825, 1)\n",
      "(2485, 'Павелецкая Сити 6 19 79.5 ул. Дубининская, д. 59-69 55.71962004653103,37.63727228350035', 34206026, 33736076, 469950, 1)\n",
      "(2459, 'Южнопортовая 7 17 33.2 ул. Южнопортовая, вл.28-28а 55.705727,37.696445', 12010117, 11269786, 740331, 1)\n",
      "(2448, 'Павелецкая Сити 3 2 55.6 ул. Дубининская, д. 59-69 55.71962004653103,37.63727228350035', 24254541, 23923721, 330820, 1)\n",
      "(2442, 'Павелецкая Сити 6 8 58.0 ул. Дубининская, д. 59-69 55.71962004653103,37.63727228350035', 24210195, 24059337, 150858, 1)\n",
      "(2410, 'Павелецкая Сити 6 11 79.4 ул. Дубининская, д. 59-69 55.71962004653103,37.63727228350035', 32741424, 32285867, 455557, 1)\n",
      "(2407, 'Павелецкая Сити 6 10 79.4 ул. Дубининская, д. 59-69 55.71962004653103,37.63727228350035', 32671909, 32217027, 454882, 1)\n",
      "(2403, 'Павелецкая Сити 6 4 58.0 ул. Дубининская, д. 59-69 55.71962004653103,37.63727228350035', 24009051, 23858193, 150858, 1)\n",
      "(2400, 'Павелецкая Сити 6 3 58.0 ул. Дубининская, д. 59-69 55.71962004653103,37.63727228350035', 23958765, 23807907, 150858, 1)\n",
      "(2341, 'Стрешнево Север 15 77.2 Волоколамское ш., д. 81, корп. 2 55.82495356307498,37.411886931513436', 21663320, 19745387, 1917933, 1)\n",
      "(2305, 'Южнопортовая 5 17 74.0 ул. Южнопортовая, вл.28-28а 55.705727,37.696445', 20910500, 20726428, 184072, 1)\n",
      "(2251, 'Южнопортовая 6 12 74.0 ул. Южнопортовая, вл.28-28а 55.705727,37.696445', 19622001, 18885715, 736286, 1)\n",
      "(2242, 'Южнопортовая 6 6 74.0 ул. Южнопортовая, вл.28-28а 55.705727,37.696445', 19180229, 18443944, 736285, 1)\n",
      "(2233, 'Южнопортовая 5 11 74.0 ул. Южнопортовая, вл.28-28а 55.705727,37.696445', 18996158, 18812087, 184071, 1)\n",
      "(2183, 'Южнопортовая 5 6 54.8 ул. Южнопортовая, вл.28-28а 55.705727,37.696445', 15035835, 14887670, 148165, 1)\n",
      "(2107, 'Причальный Север 16 34.5 Причальный пр., д. 8 55.76018,37.517482', 14521483, 0, 14521483, 1)\n",
      "(2100, 'Южнопортовая 6 10 67.4 ул. Южнопортовая, вл.28-28а 55.705727,37.696445', 17623802, 16953185, 670617, 1)\n",
      "(2092, 'Южнопортовая 6 8 67.4 ул. Южнопортовая, вл.28-28а 55.705727,37.696445', 17489679, 16819062, 670617, 1)\n",
      "(2078, 'Стрешнево Север 21 23.8 Волоколамское ш., д. 81, корп. 2 55.82495356307498,37.411886931513436', 8794921, 7933373, 861548, 1)\n",
      "(2071, 'Стрешнево Север 2 56.0 Волоколамское ш., д. 81, корп. 2 55.82495356307498,37.411886931513436', 14350527, 13104461, 1246066, 1)\n",
      "(2070, 'Стрешнево Восток 12 27.0 Волоколамское ш., д. 81, корп. 2 55.82495356307498,37.411886931513436', 8701263, 8409626, 291637, 1)\n",
      "(2067, 'Причальный Север 13 34.5 Причальный пр., д. 8 55.76018,37.517482', 14349428, 0, 14349428, 1)\n",
      "(2050, 'Южнопортовая 1 64 23.3 ул. Южнопортовая, вл.28-28а 55.705727,37.696445', 8339612, 8335680, 3932, 1)\n",
      "(2041, 'Мичуринский 1 48 97.5 Озерная ул., вл. 7 55.687726,37.471704', 32459406, 31822947, 636459, 1)\n",
      "(2002, 'Южнопортовая 1 18 23.5 ул. Южнопортовая, вл.28-28а 55.705727,37.696445', 8026900, 8023115, 3785, 1)\n",
      "(1936, 'Стрешнево Восток 19 66.7 Волоколамское ш., д. 81, корп. 2 55.82495356307498,37.411886931513436', 16356498, 15641675, 714823, 1)\n",
      "(1907, 'Стрешнево Север 21 44.8 Волоколамское ш., д. 81, корп. 2 55.82495356307498,37.411886931513436', 12265035, 12159212, 105823, 1)\n",
      "(1876, 'Южнопортовая 5 8 61.3 ул. Южнопортовая, вл.28-28а 55.705727,37.696445', 15940331, 15787850, 152481, 1)\n",
      "(1772, 'Стрешнево Север 2 45.1 Волоколамское ш., д. 81, корп. 2 55.82495356307498,37.411886931513436', 10864361, 10847993, 16368, 1)\n",
      "(1183, 'Причальный Север 17 37.3 Причальный пр., д. 8 55.76018,37.517482', 15781018, 0, 15781018, 1)\n",
      "(1079, 'Причальный Юг 31 107.6 Причальный пр., д. 8 55.76018,37.517482', 45398112, 0, 45398112, 1)\n",
      "(1042, 'Южнопортовая 5 6 75.0 ул. Южнопортовая, вл.28-28а 55.705727,37.696445', 17802355, 0, 17802355, 1)\n",
      "(826, 'Южнопортовая 4 8 76.5 ул. Южнопортовая, вл.28-28а 55.705727,37.696445', 16097329, 0, 16097329, 1)\n",
      "(9, 'title_example', -8072, 0, -8072, 1)\n",
      "(2, 'test 2', 1, 0, 1, 1)\n"
     ]
    }
   ],
   "source": [
    "q = \"\"\"\n",
    "WITH sales_numbered AS (\n",
    "    SELECT \n",
    "        id, \n",
    "        title,\n",
    "        price_sale,  \n",
    "        LEAD(price_sale,1,0) OVER (PARTITION BY title ORDER BY  title, id desc ) AS prev_price_sale,  \n",
    "        price_sale - LEAD(price_sale,1,0) OVER (PARTITION BY title  ORDER BY title, id desc ) AS diff,\n",
    "        ROW_NUMBER() OVER(PARTITION BY title ORDER BY id desc) AS row_number\n",
    "\n",
    "    FROM products_history\n",
    "    --where datetime_create >= NOW() - INTERVAL 1 DAY\n",
    "    ORDER BY id desc\n",
    "    LIMIT 1000000\n",
    ")\n",
    "SELECT \n",
    "    id, \n",
    "    title,\n",
    "    price_sale,  \n",
    "    prev_price_sale,\n",
    "    diff,\n",
    "    row_number\n",
    "FROM sales_numbered\n",
    "WHERE row_number = 1 and diff !=0  ;\n",
    "\n",
    "\"\"\"\n",
    "cursor.execute(q)\n",
    "for i in cursor.fetchall():\n",
    "    print(i)"
   ]
  },
  {
   "cell_type": "code",
   "execution_count": null,
   "id": "bc005808",
   "metadata": {},
   "outputs": [],
   "source": []
  },
  {
   "cell_type": "code",
   "execution_count": null,
   "id": "d50de2fe",
   "metadata": {},
   "outputs": [],
   "source": []
  },
  {
   "cell_type": "code",
   "execution_count": null,
   "id": "ccf40e64",
   "metadata": {},
   "outputs": [],
   "source": []
  },
  {
   "cell_type": "code",
   "execution_count": 7,
   "id": "88eed67c",
   "metadata": {},
   "outputs": [],
   "source": [
    "#достаем не приехавшие обект\n",
    "#- выбрать все торы за два \n",
    "#- сгрупировать по уникальному полю\n",
    "#- псочитать \n",
    "#- там где 1 элемент занчит он или новый пришедший вывоить пминимальную дату групирвоа\n",
    "#- если дата вчера то занчит старый элемент не обновился"
   ]
  },
  {
   "cell_type": "code",
   "execution_count": 14,
   "id": "d5077497",
   "metadata": {},
   "outputs": [
    {
     "name": "stdout",
     "output_type": "stream",
     "text": [
      "(1183, 'Причальный Север 17 37.3 Причальный пр., д. 8 55.76018,37.517482', 15781018, 'https://level.ru/prichal/flat/2room/s2-330/')\n",
      "(1079, 'Причальный Юг 31 107.6 Причальный пр., д. 8 55.76018,37.517482', 45398112, 'https://level.ru/prichal/flat/4room/ju2-491/')\n",
      "(1042, 'Южнопортовая 5 6 75.0 ул. Южнопортовая, вл.28-28а 55.705727,37.696445', 17802355, 'https://level.ru/southport/flat/3room/5-52/')\n",
      "(826, 'Южнопортовая 4 8 76.5 ул. Южнопортовая, вл.28-28а 55.705727,37.696445', 16097329, 'https://level.ru/southport/flat/3room/4-66/')\n"
     ]
    }
   ],
   "source": [
    "q = \"\"\"\n",
    "WITH sales_numbered AS (\n",
    "    SELECT \n",
    "        id, \n",
    "        title,\n",
    "        price_sale,  \n",
    "        url,\n",
    "        datetime_create,\n",
    "        count(1) as c\n",
    "    FROM products_history\n",
    "    where datetime_create >= '2022-12-05'\n",
    "    group by url, title\n",
    "    having c = 1\n",
    "    ORDER BY id desc\n",
    "    LIMIT 1000000\n",
    ")\n",
    "SELECT \n",
    "    id, \n",
    "    title,\n",
    "    price_sale,  \n",
    "    url\n",
    "FROM sales_numbered\n",
    "where datetime_create <= '2022-12-06'\n",
    "\"\"\"\n",
    "cursor.execute(q)\n",
    "for i in cursor.fetchall():\n",
    "    print(i)"
   ]
  },
  {
   "cell_type": "markdown",
   "id": "f3f4fecc",
   "metadata": {},
   "source": [
    "q = \"\"\"\n",
    "WITH sales_numbered AS (\n",
    "    SELECT \n",
    "        id, \n",
    "        title,\n",
    "        price_sale,  \n",
    "        url,\n",
    "        datetime_create,\n",
    "        count(1) as c\n",
    "    FROM products_history\n",
    "    where datetime_create >= '2022-12-05'\n",
    "    group by url, title\n",
    "    having c = 1\n",
    "    ORDER BY id desc\n",
    "    LIMIT 1000000\n",
    ")\n",
    "SELECT \n",
    "    id, \n",
    "    title,\n",
    "    price_sale,  \n",
    "    url\n",
    "FROM sales_numbered\n",
    "where datetime_create >= '2022-12-06'\n",
    "\"\"\"\n",
    "cursor.execute(q)\n",
    "for i in cursor.fetchall():\n",
    "    print(i)"
   ]
  },
  {
   "cell_type": "markdown",
   "id": "49c8650f",
   "metadata": {},
   "source": [
    "q = \"\"\"\n",
    "SELECT \n",
    "    count(1) as c,\n",
    "    url, title\n",
    "FROM products_history\n",
    "where datetime_create >= \"2022-12-05\"\n",
    "group by url, title\n",
    "ORDER BY id desc\n",
    "LIMIT 1000000\n",
    "\"\"\"\n",
    "cursor.execute(q)\n",
    "for i in cursor.fetchall():\n",
    "    print(i)"
   ]
  },
  {
   "cell_type": "code",
   "execution_count": null,
   "id": "cac96e6d",
   "metadata": {},
   "outputs": [],
   "source": []
  }
 ],
 "metadata": {
  "kernelspec": {
   "display_name": "Python 3 (ipykernel)",
   "language": "python",
   "name": "python3"
  },
  "language_info": {
   "codemirror_mode": {
    "name": "ipython",
    "version": 3
   },
   "file_extension": ".py",
   "mimetype": "text/x-python",
   "name": "python",
   "nbconvert_exporter": "python",
   "pygments_lexer": "ipython3",
   "version": "3.9.7"
  }
 },
 "nbformat": 4,
 "nbformat_minor": 5
}
