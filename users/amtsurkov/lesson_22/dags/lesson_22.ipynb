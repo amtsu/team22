{
 "cells": [
  {
   "cell_type": "code",
   "execution_count": 1,
   "id": "f8355c20",
   "metadata": {},
   "outputs": [],
   "source": [
    "#cp dag_trialsport_5_items.py /home/airflow/airflow/dags/users/jupyter-amtsu/"
   ]
  },
  {
   "cell_type": "code",
   "execution_count": 3,
   "id": "ab16b559",
   "metadata": {},
   "outputs": [],
   "source": [
    "#ln -s /home/jupyter-amtsu/github/team22/users/amtsurkov/lesson_22/dags/ /home/airflow/airflow/dags/users/jupyter-amtsu/221204_1902"
   ]
  },
  {
   "cell_type": "markdown",
   "id": "3a04e34d",
   "metadata": {},
   "source": [
    "error DAG Import Errors (1)\n",
    "\n",
    "Broken DAG: [/home/airflow/airflow/dags/users/jupyter-amtsu/dag_trialsport_5_items.py] Traceback (most recent call last):\n",
    "  File \"<frozen importlib._bootstrap>\", line 219, in _call_with_frames_removed\n",
    "  File \"/home/airflow/airflow/dags/users/jupyter-amtsu/dag_trialsport_5_items.py\", line 7, in <module>\n",
    "    from TrialSportPageProcessing import TrialSportServiceProcessing\n",
    "ModuleNotFoundError: No module named 'TrialSportPageProcessing'\n"
   ]
  },
  {
   "cell_type": "code",
   "execution_count": 4,
   "id": "6c541226",
   "metadata": {},
   "outputs": [],
   "source": [
    "#pip freeze "
   ]
  },
  {
   "cell_type": "code",
   "execution_count": 5,
   "id": "44b476a4",
   "metadata": {},
   "outputs": [],
   "source": [
    "# попробовать успеть затронуть sql и window_function"
   ]
  },
  {
   "cell_type": "code",
   "execution_count": 6,
   "id": "739afed7",
   "metadata": {},
   "outputs": [
    {
     "name": "stdout",
     "output_type": "stream",
     "text": [
      "total 12\r\n",
      "drwxrwxr-x 3 airflow airflow 4096 Dec  4 18:51 \u001b[0m\u001b[01;34m.\u001b[0m/\r\n",
      "drwxr-xr-x 4 airflow airflow 4096 Dec  7 19:23 \u001b[01;34m..\u001b[0m/\r\n",
      "drwxrwxr-x 4 airflow airflow 4096 Dec  4 21:20 \u001b[01;34musers\u001b[0m/\r\n"
     ]
    }
   ],
   "source": [
    "ls -la /home/airflow/airflow/dags/"
   ]
  },
  {
   "cell_type": "code",
   "execution_count": 7,
   "id": "39bcb02e",
   "metadata": {},
   "outputs": [
    {
     "name": "stdout",
     "output_type": "stream",
     "text": [
      "total 16\r\n",
      "drwxrwxr-x 4 airflow airflow 4096 Dec  4 21:20 \u001b[0m\u001b[01;34m.\u001b[0m/\r\n",
      "drwxrwxr-x 3 airflow airflow 4096 Dec  4 18:51 \u001b[01;34m..\u001b[0m/\r\n",
      "-rw-r--r-- 1 airflow airflow    0 Dec  4 19:47 .airflowignore\r\n",
      "drwxrwxr-x 3 airflow airflow 4096 Dec  5 12:40 \u001b[01;34mamtsu\u001b[0m/\r\n",
      "-rw-rw-r-- 1 airflow airflow    0 Dec  4 21:14 __init__.py\r\n",
      "drwxr-xr-x 2 airflow airflow 4096 Dec  4 21:20 \u001b[01;34m__pycache__\u001b[0m/\r\n"
     ]
    }
   ],
   "source": [
    "ls -la /home/airflow/airflow/dags/users/"
   ]
  },
  {
   "cell_type": "code",
   "execution_count": 8,
   "id": "7375dd41",
   "metadata": {},
   "outputs": [
    {
     "name": "stdout",
     "output_type": "stream",
     "text": [
      "total 16\r\n",
      "drwxrwxr-x 3 airflow airflow 4096 Dec  5 12:40 \u001b[0m\u001b[01;34m.\u001b[0m/\r\n",
      "drwxrwxr-x 4 airflow airflow 4096 Dec  4 21:20 \u001b[01;34m..\u001b[0m/\r\n",
      "lrwxrwxrwx 1 airflow airflow   65 Dec  4 19:02 \u001b[01;36md221204t1902\u001b[0m -> \u001b[01;34m/home/jupyter-amtsu/github/team22/users/amtsurkov/lesson_22/dags/\u001b[0m\u001b[K/\r\n",
      "-rw-rw-r-- 1 airflow airflow    0 Dec  4 21:15 __init__.py\r\n",
      "drwxr-xr-x 2 airflow airflow 4096 Dec  4 23:08 \u001b[01;34m__pycache__\u001b[0m/\r\n"
     ]
    }
   ],
   "source": [
    "ls -la /home/airflow/airflow/dags/users/amtsu/"
   ]
  },
  {
   "cell_type": "code",
   "execution_count": 9,
   "id": "ef594de0",
   "metadata": {},
   "outputs": [],
   "source": [
    "#cd github/team22/users/__logon__/\n",
    "#mkdir dags\n",
    "#mkdie /home/airflow/airflow/dags/users/__login__/\n",
    "#ln -s /home/jupyter-amtsu/github/team22/users/__login__/dags/ /home/airflow/airflow/dags/users/__login__/221204_1902\n",
    "\n"
   ]
  },
  {
   "cell_type": "code",
   "execution_count": null,
   "id": "355f1262",
   "metadata": {},
   "outputs": [],
   "source": []
  }
 ],
 "metadata": {
  "kernelspec": {
   "display_name": "Python 3 (ipykernel)",
   "language": "python",
   "name": "python3"
  },
  "language_info": {
   "codemirror_mode": {
    "name": "ipython",
    "version": 3
   },
   "file_extension": ".py",
   "mimetype": "text/x-python",
   "name": "python",
   "nbconvert_exporter": "python",
   "pygments_lexer": "ipython3",
   "version": "3.9.7"
  }
 },
 "nbformat": 4,
 "nbformat_minor": 5
}
