{
 "cells": [
  {
   "cell_type": "code",
   "execution_count": 1,
   "id": "f8355c20",
   "metadata": {},
   "outputs": [],
   "source": [
    "#cp dag_trialsport_5_items.py /home/airflow/airflow/dags/users/jupyter-amtsu/"
   ]
  },
  {
   "cell_type": "markdown",
   "id": "3a04e34d",
   "metadata": {},
   "source": [
    "error DAG Import Errors (1)\n",
    "\n",
    "Broken DAG: [/home/airflow/airflow/dags/users/jupyter-amtsu/dag_trialsport_5_items.py] Traceback (most recent call last):\n",
    "  File \"<frozen importlib._bootstrap>\", line 219, in _call_with_frames_removed\n",
    "  File \"/home/airflow/airflow/dags/users/jupyter-amtsu/dag_trialsport_5_items.py\", line 7, in <module>\n",
    "    from TrialSportPageProcessing import TrialSportServiceProcessing\n",
    "ModuleNotFoundError: No module named 'TrialSportPageProcessing'\n"
   ]
  },
  {
   "cell_type": "code",
   "execution_count": 4,
   "id": "6c541226",
   "metadata": {},
   "outputs": [
    {
     "name": "stdout",
     "output_type": "stream",
     "text": [
      "alembic==1.8.1\n",
      "anyio==3.6.2\n",
      "apache-airflow==2.5.0\n",
      "apache-airflow-providers-common-sql==1.3.1\n",
      "apache-airflow-providers-ftp==3.2.0\n",
      "apache-airflow-providers-http==4.1.0\n",
      "apache-airflow-providers-imap==3.1.0\n",
      "apache-airflow-providers-sqlite==3.3.1\n",
      "apispec==3.3.2\n",
      "argcomplete==2.0.0\n",
      "argon2-cffi==21.3.0\n",
      "argon2-cffi-bindings==21.2.0\n",
      "asgiref==3.5.2\n",
      "astroid==2.12.13\n",
      "asttokens==2.1.0\n",
      "async-generator==1.10\n",
      "attrs==22.1.0\n",
      "Babel==2.11.0\n",
      "backcall==0.2.0\n",
      "bandit==1.7.4\n",
      "beautifulsoup4==4.11.1\n",
      "bleach==5.0.1\n",
      "blinker==1.5\n",
      "brotlipy==0.7.0\n",
      "cachelib==0.9.0\n",
      "cattrs==22.2.0\n",
      "certifi==2022.9.24\n",
      "certipy==0.1.3\n",
      "cffi @ file:///home/conda/feedstock_root/build_artifacts/cffi_1631636250774/work\n",
      "chardet @ file:///home/conda/feedstock_root/build_artifacts/chardet_1610093492116/work\n",
      "charset-normalizer @ file:///home/conda/feedstock_root/build_artifacts/charset-normalizer_1626371162869/work\n",
      "click==8.1.3\n",
      "clickclick==20.10.2\n",
      "colorama @ file:///home/conda/feedstock_root/build_artifacts/colorama_1602866480661/work\n",
      "colorlog==4.8.0\n",
      "commonmark==0.9.1\n",
      "conda==4.10.3\n",
      "conda-package-handling @ file:///home/conda/feedstock_root/build_artifacts/conda-package-handling_1618231390031/work\n",
      "ConfigUpdater==3.1.1\n",
      "connexion==2.14.1\n",
      "coreapi==2.3.3\n",
      "coreschema==0.0.4\n",
      "cron-descriptor==1.2.32\n",
      "croniter==1.3.8\n",
      "cryptography @ file:///home/conda/feedstock_root/build_artifacts/cryptography_1633983255347/work\n",
      "debugpy==1.6.3\n",
      "decorator==5.1.1\n",
      "defusedxml==0.7.1\n",
      "Deprecated==1.2.13\n",
      "dill==0.3.6\n",
      "Django==4.1.3\n",
      "django-grappelli==3.0.3\n",
      "django-rest-swagger==2.2.0\n",
      "djangorestframework==3.14.0\n",
      "dnspython==2.2.1\n",
      "docutils==0.19\n",
      "dodgy==0.2.1\n",
      "drf-spectacular==0.24.2\n",
      "drf-writable-nested==0.7.0\n",
      "drf-yasg==1.21.4\n",
      "email-validator==1.3.0\n",
      "entrypoints==0.4\n",
      "exceptiongroup==1.0.4\n",
      "executing==1.2.0\n",
      "fastjsonschema==2.16.2\n",
      "flake8==4.0.1\n",
      "flake8-polyfill==1.0.2\n",
      "Flask==2.2.2\n",
      "Flask-AppBuilder==4.1.4\n",
      "Flask-Babel==2.0.0\n",
      "Flask-Caching==2.0.1\n",
      "Flask-JWT-Extended==4.4.4\n",
      "Flask-Login==0.6.2\n",
      "Flask-Session==0.4.0\n",
      "Flask-SQLAlchemy==2.5.1\n",
      "Flask-WTF==1.0.1\n",
      "frozendict==2.3.4\n",
      "gitdb==4.0.9\n",
      "GitPython==3.1.29\n",
      "graphviz==0.20.1\n",
      "greenlet==2.0.1\n",
      "gunicorn==20.1.0\n",
      "h11==0.14.0\n",
      "httpcore==0.16.2\n",
      "httpx==0.23.1\n",
      "idna @ file:///home/conda/feedstock_root/build_artifacts/idna_1609836280497/work\n",
      "importlib-metadata==5.0.0\n",
      "inflection==0.5.1\n",
      "iniconfig==1.1.1\n",
      "ipykernel==6.17.1\n",
      "ipython==8.6.0\n",
      "ipython-genutils==0.2.0\n",
      "ipywidgets==7.7.2\n",
      "isort==5.10.1\n",
      "itsdangerous==2.1.2\n",
      "itypes==1.2.0\n",
      "jedi==0.18.1\n",
      "Jinja2==3.1.2\n",
      "json5==0.9.10\n",
      "jsonschema==4.17.0\n",
      "jupyter==1.0.0\n",
      "jupyter-console==6.4.4\n",
      "jupyter-resource-usage==0.6.4\n",
      "jupyter-server==1.23.2\n",
      "jupyter-telemetry==0.1.0\n",
      "jupyter_client==7.4.7\n",
      "jupyter_core==5.0.0\n",
      "jupyterhub==1.5.0\n",
      "jupyterlab==3.5.0\n",
      "jupyterlab-pygments==0.2.2\n",
      "jupyterlab-widgets==1.1.1\n",
      "jupyterlab_server==2.16.3\n",
      "lazy-object-proxy==1.8.0\n",
      "linkify-it-py==2.0.0\n",
      "lockfile==0.12.2\n",
      "Mako==1.2.4\n",
      "mamba @ file:///home/conda/feedstock_root/build_artifacts/mamba_1632770295204/work\n",
      "Markdown==3.4.1\n",
      "markdown-it-py==2.1.0\n",
      "MarkupSafe==2.1.1\n",
      "marshmallow==3.19.0\n",
      "marshmallow-enum==1.5.1\n",
      "marshmallow-oneofschema==3.0.1\n",
      "marshmallow-sqlalchemy==0.26.1\n",
      "matplotlib-inline==0.1.6\n",
      "mccabe==0.6.1\n",
      "mdit-py-plugins==0.3.1\n",
      "mdurl==0.1.2\n",
      "mistune==2.0.4\n",
      "nbclassic==0.4.8\n",
      "nbclient==0.7.0\n",
      "nbconvert==7.2.5\n",
      "nbformat==5.7.0\n",
      "nbgitpuller==1.1.1\n",
      "nest-asyncio==1.5.6\n",
      "notebook==6.5.2\n",
      "notebook_shim==0.2.2\n",
      "nteract-on-jupyter==2.1.3\n",
      "oauthlib==3.2.2\n",
      "openapi-client @ file:///home/jupyter-amtsu/project/price_alert_api_client_python/out/python\n",
      "openapi-codec==1.3.2\n",
      "packaging==21.3\n",
      "pamela==1.0.0\n",
      "pandocfilters==1.5.0\n",
      "parso==0.8.3\n",
      "pathspec==0.9.0\n",
      "pbr==5.11.0\n",
      "pendulum==2.1.2\n",
      "pep8-naming==0.10.0\n",
      "pexpect==4.8.0\n",
      "pickleshare==0.7.5\n",
      "platformdirs==2.5.4\n",
      "pluggy==1.0.0\n",
      "price-alert-api-client-python==0.0.1\n",
      "pricealertapiclientpython==0.0.1\n",
      "prison==0.2.1\n",
      "prometheus-client==0.15.0\n",
      "prompt-toolkit==3.0.32\n",
      "prospector==1.7.7\n",
      "psutil==5.9.4\n",
      "ptyprocess==0.7.0\n",
      "pure-eval==0.2.2\n",
      "pycodestyle==2.8.0\n",
      "pycosat @ file:///home/conda/feedstock_root/build_artifacts/pycosat_1610094799048/work\n",
      "pycparser @ file:///home/conda/feedstock_root/build_artifacts/pycparser_1593275161868/work\n",
      "pydocstyle==6.1.1\n",
      "pyflakes==2.4.0\n",
      "Pygments==2.13.0\n",
      "PyJWT==2.6.0\n",
      "pylint==2.15.6\n",
      "pylint-celery==0.3\n",
      "pylint-django==2.5.3\n",
      "pylint-flask==0.6\n",
      "pylint-plugin-utils==0.7\n",
      "pyOpenSSL @ file:///home/conda/feedstock_root/build_artifacts/pyopenssl_1633192417276/work\n",
      "pyparsing==3.0.9\n",
      "pyrsistent==0.19.2\n",
      "PySocks @ file:///home/conda/feedstock_root/build_artifacts/pysocks_1610291451001/work\n",
      "pytest==7.2.0\n",
      "python-daemon==2.3.2\n",
      "python-dateutil==2.8.2\n",
      "python-json-logger==2.0.4\n",
      "python-nvd3==0.15.0\n",
      "python-slugify==7.0.0\n",
      "pytz==2022.6\n",
      "pytzdata==2020.1\n",
      "PyYAML==6.0\n",
      "pyzmq==24.0.1\n",
      "qtconsole==5.4.0\n",
      "QtPy==2.3.0\n",
      "requests @ file:///home/conda/feedstock_root/build_artifacts/requests_1626393743643/work\n",
      "requests-toolbelt==0.10.1\n",
      "requirements-detector==0.7\n",
      "rfc3986==1.5.0\n",
      "rich==12.6.0\n",
      "ruamel-yaml-conda @ file:///home/conda/feedstock_root/build_artifacts/ruamel_yaml_1611943432947/work\n",
      "ruamel.yaml==0.17.21\n",
      "ruamel.yaml.clib==0.2.7\n",
      "Send2Trash==1.8.0\n",
      "setoptconf-tmp==0.3.1\n",
      "setproctitle==1.3.2\n",
      "simplejson==3.18.0\n",
      "six @ file:///home/conda/feedstock_root/build_artifacts/six_1620240208055/work\n",
      "smmap==5.0.0\n",
      "sniffio==1.3.0\n",
      "snowballstemmer==2.2.0\n",
      "soupsieve==2.3.2.post1\n",
      "SQLAlchemy==1.4.44\n",
      "SQLAlchemy-JSONField==1.0.0\n",
      "SQLAlchemy-Utils==0.38.3\n",
      "sqlparse==0.4.3\n",
      "stack-data==0.6.1\n",
      "stevedore==4.1.1\n",
      "swagger-ui-bundle==0.0.9\n",
      "tabulate==0.9.0\n",
      "tenacity==8.1.0\n",
      "termcolor==2.1.1\n",
      "terminado==0.17.0\n",
      "text-unidecode==1.3\n",
      "tinycss2==1.2.1\n",
      "toml==0.10.2\n",
      "tomli==2.0.1\n",
      "tomlkit==0.11.6\n",
      "tornado==6.2\n",
      "tqdm @ file:///home/conda/feedstock_root/build_artifacts/tqdm_1632160078689/work\n",
      "traitlets==5.5.0\n",
      "typing_extensions==4.4.0\n",
      "uc-micro-py==1.0.1\n",
      "unicodecsv==0.14.1\n",
      "uritemplate==4.1.1\n",
      "urllib3 @ file:///home/conda/feedstock_root/build_artifacts/urllib3_1632350318291/work\n",
      "wcwidth==0.2.5\n",
      "webencodings==0.5.1\n",
      "websocket-client==1.4.2\n",
      "Werkzeug==2.2.2\n",
      "widgetsnbextension==3.6.1\n",
      "wrapt==1.14.1\n",
      "WTForms==3.0.1\n",
      "zipp==3.10.0\n",
      "Note: you may need to restart the kernel to use updated packages.\n"
     ]
    }
   ],
   "source": [
    "pip freeze "
   ]
  },
  {
   "cell_type": "code",
   "execution_count": 2,
   "id": "bf8a5a5f",
   "metadata": {},
   "outputs": [
    {
     "name": "stdout",
     "output_type": "stream",
     "text": [
      "1983\n"
     ]
    }
   ],
   "source": [
    "ny = {\n",
    "    'Katya': 1992,\n",
    "    'Artem': 1983,\n",
    "}\n",
    "for key, value in ny.items():\n",
    "    if key.find('ty') >= 0:\n",
    "        continue\n",
    "    print(value)"
   ]
  },
  {
   "cell_type": "code",
   "execution_count": 3,
   "id": "b7c063b4",
   "metadata": {},
   "outputs": [
    {
     "data": {
      "text/plain": [
       "1983"
      ]
     },
     "execution_count": 3,
     "metadata": {},
     "output_type": "execute_result"
    }
   ],
   "source": [
    "ny['Artem']"
   ]
  },
  {
   "cell_type": "code",
   "execution_count": 7,
   "id": "6aeb0872",
   "metadata": {},
   "outputs": [
    {
     "data": {
      "text/plain": [
       "dict_keys(['Katya', 'Artem'])"
      ]
     },
     "execution_count": 7,
     "metadata": {},
     "output_type": "execute_result"
    }
   ],
   "source": [
    "ny.keys()"
   ]
  },
  {
   "cell_type": "code",
   "execution_count": 8,
   "id": "a9c86c1b",
   "metadata": {},
   "outputs": [
    {
     "data": {
      "text/plain": [
       "dict_values([1992, 1983])"
      ]
     },
     "execution_count": 8,
     "metadata": {},
     "output_type": "execute_result"
    }
   ],
   "source": [
    "ny.values()"
   ]
  },
  {
   "cell_type": "code",
   "execution_count": 10,
   "id": "bce51411",
   "metadata": {},
   "outputs": [
    {
     "data": {
      "text/plain": [
       "dict_items([('Katya', 1992), ('Artem', 1983)])"
      ]
     },
     "execution_count": 10,
     "metadata": {},
     "output_type": "execute_result"
    }
   ],
   "source": [
    "ny.items()"
   ]
  },
  {
   "cell_type": "code",
   "execution_count": 12,
   "id": "5f717378",
   "metadata": {},
   "outputs": [
    {
     "name": "stdout",
     "output_type": "stream",
     "text": [
      "1\n",
      "2\n"
     ]
    }
   ],
   "source": [
    "for i in [1,2]:\n",
    "    print(i)"
   ]
  },
  {
   "cell_type": "code",
   "execution_count": 13,
   "id": "1847babe",
   "metadata": {},
   "outputs": [
    {
     "name": "stdout",
     "output_type": "stream",
     "text": [
      "Katya\n",
      "Artem\n"
     ]
    }
   ],
   "source": [
    "for u in ny.keys():\n",
    "    print(u)"
   ]
  },
  {
   "cell_type": "code",
   "execution_count": 14,
   "id": "f4f5dd25",
   "metadata": {},
   "outputs": [
    {
     "name": "stdout",
     "output_type": "stream",
     "text": [
      "1992\n",
      "1983\n"
     ]
    }
   ],
   "source": [
    "for e in ny.values():\n",
    "    print(e)"
   ]
  },
  {
   "cell_type": "code",
   "execution_count": 15,
   "id": "396175a9",
   "metadata": {},
   "outputs": [
    {
     "name": "stdout",
     "output_type": "stream",
     "text": [
      "('Katya', 1992)\n",
      "('Artem', 1983)\n"
     ]
    }
   ],
   "source": [
    "for i in ny.items():\n",
    "    print(i)"
   ]
  },
  {
   "cell_type": "code",
   "execution_count": 16,
   "id": "ad59dfca",
   "metadata": {},
   "outputs": [],
   "source": [
    "#if k.find('ty') >= 0:"
   ]
  },
  {
   "cell_type": "code",
   "execution_count": 17,
   "id": "afafdfd6",
   "metadata": {},
   "outputs": [],
   "source": [
    "str1 = 'Katya'\n",
    "str2 = 'ya'"
   ]
  },
  {
   "cell_type": "code",
   "execution_count": 18,
   "id": "f66c7354",
   "metadata": {},
   "outputs": [
    {
     "data": {
      "text/plain": [
       "3"
      ]
     },
     "execution_count": 18,
     "metadata": {},
     "output_type": "execute_result"
    }
   ],
   "source": [
    "str1.find(str2)"
   ]
  },
  {
   "cell_type": "code",
   "execution_count": 22,
   "id": "80a5f086",
   "metadata": {},
   "outputs": [
    {
     "data": {
      "text/plain": [
       "0"
      ]
     },
     "execution_count": 22,
     "metadata": {},
     "output_type": "execute_result"
    }
   ],
   "source": [
    "str1.find('Ka')"
   ]
  },
  {
   "cell_type": "code",
   "execution_count": 26,
   "id": "15e10cf5",
   "metadata": {},
   "outputs": [
    {
     "data": {
      "text/plain": [
       "2"
      ]
     },
     "execution_count": 26,
     "metadata": {},
     "output_type": "execute_result"
    }
   ],
   "source": [
    "str1.find('ty') "
   ]
  },
  {
   "cell_type": "code",
   "execution_count": 24,
   "id": "ee150f62",
   "metadata": {},
   "outputs": [
    {
     "data": {
      "text/plain": [
       "True"
      ]
     },
     "execution_count": 24,
     "metadata": {},
     "output_type": "execute_result"
    }
   ],
   "source": [
    "str1.find('ty') >= 0"
   ]
  },
  {
   "cell_type": "code",
   "execution_count": 28,
   "id": "427b0f7f",
   "metadata": {},
   "outputs": [],
   "source": [
    "if str1.find('ta') >= 0:\n",
    "    print('=====')"
   ]
  },
  {
   "cell_type": "code",
   "execution_count": 29,
   "id": "a5d4c30d",
   "metadata": {},
   "outputs": [
    {
     "name": "stdout",
     "output_type": "stream",
     "text": [
      "=====\n"
     ]
    }
   ],
   "source": [
    "if str1.find('ty') >= 0:\n",
    "    print('=====')"
   ]
  },
  {
   "cell_type": "code",
   "execution_count": 30,
   "id": "85d771d7",
   "metadata": {},
   "outputs": [
    {
     "name": "stdout",
     "output_type": "stream",
     "text": [
      "1983\n"
     ]
    }
   ],
   "source": [
    "for key, value in ny.items():\n",
    "    if key.find('ty') >= 0:\n",
    "        continue\n",
    "    print(value)"
   ]
  },
  {
   "cell_type": "code",
   "execution_count": 31,
   "id": "bb3de556",
   "metadata": {},
   "outputs": [
    {
     "name": "stdout",
     "output_type": "stream",
     "text": [
      "1983\n"
     ]
    }
   ],
   "source": [
    "for kv in ny.items():\n",
    "    if kv[0].find('ty') >= 0:\n",
    "        continue\n",
    "    print(kv[1])"
   ]
  },
  {
   "cell_type": "code",
   "execution_count": 32,
   "id": "bb7cfb52",
   "metadata": {},
   "outputs": [],
   "source": [
    "a = 2"
   ]
  },
  {
   "cell_type": "code",
   "execution_count": 33,
   "id": "284012cf",
   "metadata": {},
   "outputs": [
    {
     "data": {
      "text/plain": [
       "2"
      ]
     },
     "execution_count": 33,
     "metadata": {},
     "output_type": "execute_result"
    }
   ],
   "source": [
    "a"
   ]
  },
  {
   "cell_type": "code",
   "execution_count": 34,
   "id": "b525f4a7",
   "metadata": {},
   "outputs": [],
   "source": [
    "a, d = 11, 4"
   ]
  },
  {
   "cell_type": "code",
   "execution_count": 35,
   "id": "65e08f57",
   "metadata": {},
   "outputs": [
    {
     "data": {
      "text/plain": [
       "11"
      ]
     },
     "execution_count": 35,
     "metadata": {},
     "output_type": "execute_result"
    }
   ],
   "source": [
    "a"
   ]
  },
  {
   "cell_type": "code",
   "execution_count": 36,
   "id": "fe0f05b1",
   "metadata": {},
   "outputs": [
    {
     "data": {
      "text/plain": [
       "4"
      ]
     },
     "execution_count": 36,
     "metadata": {},
     "output_type": "execute_result"
    }
   ],
   "source": [
    "d"
   ]
  },
  {
   "cell_type": "code",
   "execution_count": 37,
   "id": "3202b017",
   "metadata": {},
   "outputs": [],
   "source": [
    "a, d = [5,6]"
   ]
  },
  {
   "cell_type": "code",
   "execution_count": 38,
   "id": "6b13982d",
   "metadata": {},
   "outputs": [
    {
     "data": {
      "text/plain": [
       "5"
      ]
     },
     "execution_count": 38,
     "metadata": {},
     "output_type": "execute_result"
    }
   ],
   "source": [
    "a"
   ]
  },
  {
   "cell_type": "code",
   "execution_count": 39,
   "id": "bbece440",
   "metadata": {},
   "outputs": [
    {
     "data": {
      "text/plain": [
       "6"
      ]
     },
     "execution_count": 39,
     "metadata": {},
     "output_type": "execute_result"
    }
   ],
   "source": [
    "d"
   ]
  },
  {
   "cell_type": "code",
   "execution_count": null,
   "id": "92042d03",
   "metadata": {},
   "outputs": [],
   "source": []
  }
 ],
 "metadata": {
  "kernelspec": {
   "display_name": "Python 3 (ipykernel)",
   "language": "python",
   "name": "python3"
  },
  "language_info": {
   "codemirror_mode": {
    "name": "ipython",
    "version": 3
   },
   "file_extension": ".py",
   "mimetype": "text/x-python",
   "name": "python",
   "nbconvert_exporter": "python",
   "pygments_lexer": "ipython3",
   "version": "3.9.7"
  }
 },
 "nbformat": 4,
 "nbformat_minor": 5
}
