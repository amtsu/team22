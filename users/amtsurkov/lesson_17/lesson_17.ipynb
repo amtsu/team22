{
 "cells": [
  {
   "cell_type": "code",
   "execution_count": 65,
   "metadata": {},
   "outputs": [],
   "source": [
    "# декоратора\n",
    "def decorate_print_arg(func):\n",
    "    def wrapper(*args, **kwargs):\n",
    "        print(args, kwargs)\n",
    "        #((3, 4, 5), {})\n",
    "        res = func(*args, **kwargs)\n",
    "        print('result =', res)\n",
    "        #('result =', 12)\n",
    "        return res\n",
    "    return wrapper\n",
    "\n"
   ]
  },
  {
   "cell_type": "code",
   "execution_count": 84,
   "metadata": {},
   "outputs": [
    {
     "name": "stdout",
     "output_type": "stream",
     "text": [
      "('Student Name:', 'Jonathan')\n",
      "100\n",
      "Vacsy\n",
      "88\n",
      "92\n",
      "99\n"
     ]
    }
   ],
   "source": [
    "a = 'Vacsy'\n",
    "def printScores(student, *scores):\n",
    "    print(\"Student Name:\", student)\n",
    "    for score in scores:\n",
    "        print(score)\n",
    "        \n",
    "printScores(\"Jonathan\",100, a, 88, 92, 99)"
   ]
  },
  {
   "cell_type": "code",
   "execution_count": 73,
   "metadata": {},
   "outputs": [
    {
     "name": "stdout",
     "output_type": "stream",
     "text": [
      "('Student Name:', 'Jonathan')\n",
      "100\n",
      "95\n",
      "88\n",
      "92\n",
      "99\n"
     ]
    }
   ],
   "source": [
    "def printScores2(student, score_1, score_2, score_3, score_4, score_5):\n",
    "    print(\"Student Name:\", student)\n",
    "    print(score_1)\n",
    "    print(score_2)\n",
    "    print(score_3)\n",
    "    print(score_4)\n",
    "    print(score_5)\n",
    "printScores2(\"Jonathan\",100, 95, 88, 92, 99)"
   ]
  },
  {
   "cell_type": "code",
   "execution_count": 74,
   "metadata": {},
   "outputs": [
    {
     "name": "stdout",
     "output_type": "stream",
     "text": [
      "('Student Name:', 'Jonathan')\n",
      "100\n",
      "95\n",
      "88\n",
      "92\n",
      "99\n"
     ]
    }
   ],
   "source": [
    "def printScores3(student, scores):\n",
    "    print(\"Student Name:\", student)\n",
    "    for score in scores:\n",
    "        print(score)\n",
    "    \n",
    "printScores3(\"Jonathan\",[100, 95, 88, 92, 99])"
   ]
  },
  {
   "cell_type": "code",
   "execution_count": 76,
   "metadata": {},
   "outputs": [
    {
     "name": "stdout",
     "output_type": "stream",
     "text": [
      "('Student Name:', 'Jonathan')\n",
      "100\n",
      "95\n",
      "88\n",
      "92\n",
      "99\n"
     ]
    }
   ],
   "source": [
    "sss = [100, 95, 88, 92, 99]\n",
    "printScores3(\"Jonathan\", sss)"
   ]
  },
  {
   "cell_type": "code",
   "execution_count": null,
   "metadata": {},
   "outputs": [],
   "source": []
  },
  {
   "cell_type": "code",
   "execution_count": 87,
   "metadata": {},
   "outputs": [],
   "source": [
    "def printCake(name, **kwargs):\n",
    "    print(\"Cake Title:\", name)\n",
    "    \n",
    "    for k in kwargs:\n",
    "        print(k, '=>', kwargs[k])\n",
    "        \n",
    "    print('----')\n",
    "    print(kwargs)"
   ]
  },
  {
   "cell_type": "code",
   "execution_count": 88,
   "metadata": {},
   "outputs": [
    {
     "name": "stdout",
     "output_type": "stream",
     "text": [
      "('Cake Title:', 'Napol')\n",
      "('kkkk', '=>', 1)\n",
      "('muka', '=>', 3)\n",
      "('sahar', '=>', [2, 1])\n",
      "----\n",
      "{'kkkk': 1, 'muka': 3, 'sahar': [2, 1]}\n"
     ]
    }
   ],
   "source": [
    "printCake('Napol', sahar=[2,1], muka=3, kkkk=1)"
   ]
  },
  {
   "cell_type": "code",
   "execution_count": null,
   "metadata": {},
   "outputs": [],
   "source": []
  },
  {
   "cell_type": "code",
   "execution_count": null,
   "metadata": {},
   "outputs": [],
   "source": []
  },
  {
   "cell_type": "code",
   "execution_count": 25,
   "metadata": {},
   "outputs": [],
   "source": [
    "def func_d():\n",
    "    def wrapper(x, y):\n",
    "        return x * y\n",
    "    return wrapper"
   ]
  },
  {
   "cell_type": "code",
   "execution_count": 67,
   "metadata": {},
   "outputs": [],
   "source": [
    "new_func = func_d()"
   ]
  },
  {
   "cell_type": "code",
   "execution_count": 27,
   "metadata": {},
   "outputs": [
    {
     "data": {
      "text/plain": [
       "function"
      ]
     },
     "execution_count": 27,
     "metadata": {},
     "output_type": "execute_result"
    }
   ],
   "source": [
    "type(new_func)"
   ]
  },
  {
   "cell_type": "code",
   "execution_count": 29,
   "metadata": {},
   "outputs": [
    {
     "data": {
      "text/plain": [
       "6"
      ]
     },
     "execution_count": 29,
     "metadata": {},
     "output_type": "execute_result"
    }
   ],
   "source": [
    "new_func(2, 3)"
   ]
  },
  {
   "cell_type": "code",
   "execution_count": null,
   "metadata": {},
   "outputs": [],
   "source": []
  },
  {
   "cell_type": "code",
   "execution_count": null,
   "metadata": {},
   "outputs": [],
   "source": [
    "def new_f()"
   ]
  },
  {
   "cell_type": "code",
   "execution_count": null,
   "metadata": {},
   "outputs": [],
   "source": []
  },
  {
   "cell_type": "code",
   "execution_count": 30,
   "metadata": {},
   "outputs": [],
   "source": [
    "def func_2(x):\n",
    "        return x * x"
   ]
  },
  {
   "cell_type": "code",
   "execution_count": 31,
   "metadata": {},
   "outputs": [],
   "source": [
    "def func_d_2():\n",
    "    print('d_2')\n",
    "    return func_2"
   ]
  },
  {
   "cell_type": "code",
   "execution_count": 32,
   "metadata": {},
   "outputs": [
    {
     "name": "stdout",
     "output_type": "stream",
     "text": [
      "d_2\n"
     ]
    }
   ],
   "source": [
    "new_func_2 = func_d_2()"
   ]
  },
  {
   "cell_type": "code",
   "execution_count": 33,
   "metadata": {},
   "outputs": [
    {
     "data": {
      "text/plain": [
       "function"
      ]
     },
     "execution_count": 33,
     "metadata": {},
     "output_type": "execute_result"
    }
   ],
   "source": [
    "type(new_func_2)"
   ]
  },
  {
   "cell_type": "code",
   "execution_count": 34,
   "metadata": {},
   "outputs": [
    {
     "data": {
      "text/plain": [
       "9"
      ]
     },
     "execution_count": 34,
     "metadata": {},
     "output_type": "execute_result"
    }
   ],
   "source": [
    "new_func_2(3)"
   ]
  },
  {
   "cell_type": "code",
   "execution_count": null,
   "metadata": {},
   "outputs": [],
   "source": []
  },
  {
   "cell_type": "code",
   "execution_count": 40,
   "metadata": {},
   "outputs": [],
   "source": [
    "def func_d_3(func):\n",
    "    print('d_3_func')\n",
    "    print(func.__name__)\n",
    "    return func"
   ]
  },
  {
   "cell_type": "code",
   "execution_count": 41,
   "metadata": {},
   "outputs": [],
   "source": [
    "def sum_a(a):\n",
    "    return a + a"
   ]
  },
  {
   "cell_type": "code",
   "execution_count": 42,
   "metadata": {},
   "outputs": [
    {
     "name": "stdout",
     "output_type": "stream",
     "text": [
      "d_3_func\n",
      "sum_a\n"
     ]
    }
   ],
   "source": [
    "new_func_3 = func_d_3(sum_a)"
   ]
  },
  {
   "cell_type": "code",
   "execution_count": 38,
   "metadata": {},
   "outputs": [
    {
     "data": {
      "text/plain": [
       "function"
      ]
     },
     "execution_count": 38,
     "metadata": {},
     "output_type": "execute_result"
    }
   ],
   "source": [
    "type(new_func_3)"
   ]
  },
  {
   "cell_type": "code",
   "execution_count": 39,
   "metadata": {},
   "outputs": [
    {
     "data": {
      "text/plain": [
       "2"
      ]
     },
     "execution_count": 39,
     "metadata": {},
     "output_type": "execute_result"
    }
   ],
   "source": [
    "new_func_3(1)"
   ]
  },
  {
   "cell_type": "code",
   "execution_count": null,
   "metadata": {},
   "outputs": [],
   "source": []
  },
  {
   "cell_type": "code",
   "execution_count": 43,
   "metadata": {},
   "outputs": [
    {
     "name": "stdout",
     "output_type": "stream",
     "text": [
      "d_3_func\n",
      "func_2\n"
     ]
    }
   ],
   "source": [
    "new_func_3 = func_d_3(func_2)"
   ]
  },
  {
   "cell_type": "code",
   "execution_count": null,
   "metadata": {},
   "outputs": [],
   "source": []
  },
  {
   "cell_type": "code",
   "execution_count": null,
   "metadata": {},
   "outputs": [],
   "source": []
  },
  {
   "cell_type": "code",
   "execution_count": null,
   "metadata": {},
   "outputs": [],
   "source": []
  },
  {
   "cell_type": "code",
   "execution_count": null,
   "metadata": {},
   "outputs": [],
   "source": []
  },
  {
   "cell_type": "code",
   "execution_count": 58,
   "metadata": {},
   "outputs": [],
   "source": [
    "@decorate_print_arg\n",
    "def sum_a_b_c(a, b, c):\n",
    "    #print(a, b, c)\n",
    "    sum_all = a + b + c\n",
    "    return sum_all"
   ]
  },
  {
   "cell_type": "code",
   "execution_count": 59,
   "metadata": {},
   "outputs": [],
   "source": [
    "@decorate_print_arg\n",
    "def min_a_b_c(x, y):\n",
    "    #print(x, y)\n",
    "    return x - y"
   ]
  },
  {
   "cell_type": "code",
   "execution_count": 60,
   "metadata": {},
   "outputs": [
    {
     "name": "stdout",
     "output_type": "stream",
     "text": [
      "((1, 2, 3), {})\n",
      "('result =', 6)\n"
     ]
    },
    {
     "data": {
      "text/plain": [
       "6"
      ]
     },
     "execution_count": 60,
     "metadata": {},
     "output_type": "execute_result"
    }
   ],
   "source": [
    "sum_a_b_c(1,2,3)"
   ]
  },
  {
   "cell_type": "code",
   "execution_count": 61,
   "metadata": {},
   "outputs": [
    {
     "name": "stdout",
     "output_type": "stream",
     "text": [
      "((3, 4, 5), {})\n",
      "('result =', 12)\n"
     ]
    },
    {
     "data": {
      "text/plain": [
       "12"
      ]
     },
     "execution_count": 61,
     "metadata": {},
     "output_type": "execute_result"
    }
   ],
   "source": [
    "sum_a_b_c(3,4,5)"
   ]
  },
  {
   "cell_type": "code",
   "execution_count": 62,
   "metadata": {},
   "outputs": [
    {
     "name": "stdout",
     "output_type": "stream",
     "text": [
      "((333, 444, 555), {})\n",
      "('result =', 1332)\n"
     ]
    },
    {
     "data": {
      "text/plain": [
       "1332"
      ]
     },
     "execution_count": 62,
     "metadata": {},
     "output_type": "execute_result"
    }
   ],
   "source": [
    "sum_a_b_c(333,444,555)"
   ]
  },
  {
   "cell_type": "code",
   "execution_count": 63,
   "metadata": {},
   "outputs": [
    {
     "name": "stdout",
     "output_type": "stream",
     "text": [
      "((9, 1), {})\n",
      "('result =', 8)\n"
     ]
    },
    {
     "data": {
      "text/plain": [
       "8"
      ]
     },
     "execution_count": 63,
     "metadata": {},
     "output_type": "execute_result"
    }
   ],
   "source": [
    "min_a_b_c(9, 1)"
   ]
  },
  {
   "cell_type": "code",
   "execution_count": 64,
   "metadata": {},
   "outputs": [
    {
     "name": "stdout",
     "output_type": "stream",
     "text": [
      "((10, 9), {})\n",
      "('result =', 1)\n"
     ]
    },
    {
     "data": {
      "text/plain": [
       "1"
      ]
     },
     "execution_count": 64,
     "metadata": {},
     "output_type": "execute_result"
    }
   ],
   "source": [
    "min_a_b_c(10, 9)"
   ]
  },
  {
   "cell_type": "code",
   "execution_count": null,
   "metadata": {},
   "outputs": [],
   "source": []
  },
  {
   "cell_type": "code",
   "execution_count": 93,
   "metadata": {},
   "outputs": [],
   "source": [
    "# передача параметров по ссылк и по занчению"
   ]
  },
  {
   "cell_type": "code",
   "execution_count": 94,
   "metadata": {},
   "outputs": [],
   "source": [
    "def d1(list_chisel):\n",
    "    list_chisel[0] = 'stroka'"
   ]
  },
  {
   "cell_type": "code",
   "execution_count": 95,
   "metadata": {},
   "outputs": [],
   "source": [
    "list_ch = [1,2,3,4]"
   ]
  },
  {
   "cell_type": "code",
   "execution_count": 96,
   "metadata": {},
   "outputs": [],
   "source": [
    "d1(list_ch)"
   ]
  },
  {
   "cell_type": "code",
   "execution_count": 97,
   "metadata": {},
   "outputs": [
    {
     "name": "stdout",
     "output_type": "stream",
     "text": [
      "['stroka', 2, 3, 4]\n"
     ]
    }
   ],
   "source": [
    "print(list_ch)"
   ]
  },
  {
   "cell_type": "code",
   "execution_count": null,
   "metadata": {},
   "outputs": [],
   "source": []
  },
  {
   "cell_type": "code",
   "execution_count": 108,
   "metadata": {},
   "outputs": [],
   "source": [
    "def d2(chislo):\n",
    "    print(chislo)\n",
    "    chislo = 'sstr'\n",
    "    print(chislo)"
   ]
  },
  {
   "cell_type": "code",
   "execution_count": 109,
   "metadata": {},
   "outputs": [
    {
     "name": "stdout",
     "output_type": "stream",
     "text": [
      "ddd\n",
      "sstr\n"
     ]
    }
   ],
   "source": [
    "a = 'ddd'\n",
    "d2(a)"
   ]
  },
  {
   "cell_type": "code",
   "execution_count": 110,
   "metadata": {},
   "outputs": [
    {
     "name": "stdout",
     "output_type": "stream",
     "text": [
      "ddd\n"
     ]
    }
   ],
   "source": [
    "print(a)"
   ]
  },
  {
   "cell_type": "code",
   "execution_count": 122,
   "metadata": {},
   "outputs": [],
   "source": [
    "CONSTANA_1 = 1"
   ]
  },
  {
   "cell_type": "code",
   "execution_count": 123,
   "metadata": {},
   "outputs": [],
   "source": [
    "#CONSTANA_1 = 2"
   ]
  },
  {
   "cell_type": "code",
   "execution_count": 124,
   "metadata": {},
   "outputs": [
    {
     "data": {
      "text/plain": [
       "1"
      ]
     },
     "execution_count": 124,
     "metadata": {},
     "output_type": "execute_result"
    }
   ],
   "source": [
    "CONSTANA_1"
   ]
  },
  {
   "cell_type": "code",
   "execution_count": 129,
   "metadata": {},
   "outputs": [],
   "source": [
    "def ff():\n",
    "    print(CONSTANA_1)\n",
    "    CONSTANA_1 = 2"
   ]
  },
  {
   "cell_type": "code",
   "execution_count": 130,
   "metadata": {},
   "outputs": [
    {
     "ename": "UnboundLocalError",
     "evalue": "local variable 'CONSTANA_1' referenced before assignment",
     "output_type": "error",
     "traceback": [
      "\u001b[0;31m---------------------------------------------------------------------------\u001b[0m",
      "\u001b[0;31mUnboundLocalError\u001b[0m                         Traceback (most recent call last)",
      "\u001b[0;32m<ipython-input-130-5cdd2d0a6a88>\u001b[0m in \u001b[0;36m<module>\u001b[0;34m()\u001b[0m\n\u001b[0;32m----> 1\u001b[0;31m \u001b[0mff\u001b[0m\u001b[0;34m(\u001b[0m\u001b[0;34m)\u001b[0m\u001b[0;34m\u001b[0m\u001b[0m\n\u001b[0m",
      "\u001b[0;32m<ipython-input-129-086143dc997b>\u001b[0m in \u001b[0;36mff\u001b[0;34m()\u001b[0m\n\u001b[1;32m      1\u001b[0m \u001b[0;32mdef\u001b[0m \u001b[0mff\u001b[0m\u001b[0;34m(\u001b[0m\u001b[0;34m)\u001b[0m\u001b[0;34m:\u001b[0m\u001b[0;34m\u001b[0m\u001b[0m\n\u001b[0;32m----> 2\u001b[0;31m     \u001b[0;32mprint\u001b[0m\u001b[0;34m(\u001b[0m\u001b[0mCONSTANA_1\u001b[0m\u001b[0;34m)\u001b[0m\u001b[0;34m\u001b[0m\u001b[0m\n\u001b[0m\u001b[1;32m      3\u001b[0m     \u001b[0mCONSTANA_1\u001b[0m \u001b[0;34m=\u001b[0m \u001b[0;36m2\u001b[0m\u001b[0;34m\u001b[0m\u001b[0m\n",
      "\u001b[0;31mUnboundLocalError\u001b[0m: local variable 'CONSTANA_1' referenced before assignment"
     ]
    }
   ],
   "source": [
    "ff()"
   ]
  },
  {
   "cell_type": "code",
   "execution_count": null,
   "metadata": {},
   "outputs": [],
   "source": []
  },
  {
   "cell_type": "code",
   "execution_count": 131,
   "metadata": {},
   "outputs": [],
   "source": [
    "# неизменняемы данные"
   ]
  },
  {
   "cell_type": "code",
   "execution_count": 132,
   "metadata": {},
   "outputs": [],
   "source": [
    "k1 = (1,2,3)"
   ]
  },
  {
   "cell_type": "code",
   "execution_count": 138,
   "metadata": {},
   "outputs": [],
   "source": [
    "#Описывать инварианты на договлрах"
   ]
  },
  {
   "cell_type": "code",
   "execution_count": 151,
   "metadata": {},
   "outputs": [],
   "source": [
    "class Man():\n",
    "    def __init__(self, date_b, color_e, rassa):\n",
    "        self.__date_b = date_b\n",
    "        if color_e == 'карие' and rassa == 'азиат' and date_b < '1945':\n",
    "            print('Ошибка - такого быть не может')\n",
    "        \n",
    "    def year(self, date_now):\n",
    "        return year_olds\n",
    "    \n",
    "    def oprachiz_po_smene_tsveta_glaz(new_color):\n",
    "        \n",
    "        if new_color == 'карие' and rassa == 'азиат':\n",
    "            return \"ошибка\"\n",
    "        else:\n",
    "            self.__color_e = new_color\n",
    "    \n",
    "        \n",
    "    def smenit_rassu(new_rass):\n",
    "        self.__rassa\n",
    "    \n",
    "    \n",
    "    "
   ]
  },
  {
   "cell_type": "code",
   "execution_count": null,
   "metadata": {},
   "outputs": [],
   "source": []
  },
  {
   "cell_type": "code",
   "execution_count": 136,
   "metadata": {},
   "outputs": [],
   "source": [
    "#man_1 = Man(...)"
   ]
  },
  {
   "cell_type": "code",
   "execution_count": 137,
   "metadata": {},
   "outputs": [],
   "source": [
    "#man_2 = Copy_from(man_1, color_e)"
   ]
  },
  {
   "cell_type": "code",
   "execution_count": null,
   "metadata": {},
   "outputs": [],
   "source": [
    "man_2 =  man_1"
   ]
  },
  {
   "cell_type": "code",
   "execution_count": 139,
   "metadata": {},
   "outputs": [
    {
     "ename": "SyntaxError",
     "evalue": "invalid syntax (<ipython-input-139-422f35e94ce0>, line 13)",
     "output_type": "error",
     "traceback": [
      "\u001b[0;36m  File \u001b[0;32m\"<ipython-input-139-422f35e94ce0>\"\u001b[0;36m, line \u001b[0;32m13\u001b[0m\n\u001b[0;31m    def smenit_rassu(new_rass)\u001b[0m\n\u001b[0m                              ^\u001b[0m\n\u001b[0;31mSyntaxError\u001b[0m\u001b[0;31m:\u001b[0m invalid syntax\n"
     ]
    }
   ],
   "source": [
    "class Man():\n",
    "    def __init__(self, date_b, color_e, rassa):\n",
    "        self.__date_b = date_b\n",
    "        if color_e == 'карие' and rassa == 'азиат' and date_b < '1945':\n",
    "            print('Ошибка - такого быть не может')\n",
    "        \n",
    "    def year(self, date_now):\n",
    "        return year_olds\n",
    "    \n",
    "    def oprachiz_po_smene_tsveta_glaz(new_color):            \n",
    "        return Man(self.__date_b, new_color, self.__rassa)\n",
    "    \n",
    "    def smenit_rassu(new_rass)\n",
    "        return Man(self.__date_b, self.__color_e, new_rass)"
   ]
  },
  {
   "cell_type": "code",
   "execution_count": 148,
   "metadata": {},
   "outputs": [],
   "source": [
    "def d1(x):\n",
    "    print(x + 'sss')\n",
    "    return x\n",
    "\n",
    "def d2():\n",
    "    d1(1)\n",
    "    \n",
    "def d3():\n",
    "    d2()\n",
    "    \n",
    "def d4():\n",
    "    d3()"
   ]
  },
  {
   "cell_type": "code",
   "execution_count": 149,
   "metadata": {},
   "outputs": [
    {
     "ename": "TypeError",
     "evalue": "unsupported operand type(s) for +: 'int' and 'str'",
     "output_type": "error",
     "traceback": [
      "\u001b[0;31m---------------------------------------------------------------------------\u001b[0m",
      "\u001b[0;31mTypeError\u001b[0m                                 Traceback (most recent call last)",
      "\u001b[0;32m<ipython-input-149-1499e5aae5a5>\u001b[0m in \u001b[0;36m<module>\u001b[0;34m()\u001b[0m\n\u001b[0;32m----> 1\u001b[0;31m \u001b[0md4\u001b[0m\u001b[0;34m(\u001b[0m\u001b[0;34m)\u001b[0m\u001b[0;34m\u001b[0m\u001b[0m\n\u001b[0m",
      "\u001b[0;32m<ipython-input-148-46564d420bbf>\u001b[0m in \u001b[0;36md4\u001b[0;34m()\u001b[0m\n\u001b[1;32m     10\u001b[0m \u001b[0;34m\u001b[0m\u001b[0m\n\u001b[1;32m     11\u001b[0m \u001b[0;32mdef\u001b[0m \u001b[0md4\u001b[0m\u001b[0;34m(\u001b[0m\u001b[0;34m)\u001b[0m\u001b[0;34m:\u001b[0m\u001b[0;34m\u001b[0m\u001b[0m\n\u001b[0;32m---> 12\u001b[0;31m     \u001b[0md3\u001b[0m\u001b[0;34m(\u001b[0m\u001b[0;34m)\u001b[0m\u001b[0;34m\u001b[0m\u001b[0m\n\u001b[0m",
      "\u001b[0;32m<ipython-input-148-46564d420bbf>\u001b[0m in \u001b[0;36md3\u001b[0;34m()\u001b[0m\n\u001b[1;32m      7\u001b[0m \u001b[0;34m\u001b[0m\u001b[0m\n\u001b[1;32m      8\u001b[0m \u001b[0;32mdef\u001b[0m \u001b[0md3\u001b[0m\u001b[0;34m(\u001b[0m\u001b[0;34m)\u001b[0m\u001b[0;34m:\u001b[0m\u001b[0;34m\u001b[0m\u001b[0m\n\u001b[0;32m----> 9\u001b[0;31m     \u001b[0md2\u001b[0m\u001b[0;34m(\u001b[0m\u001b[0;34m)\u001b[0m\u001b[0;34m\u001b[0m\u001b[0m\n\u001b[0m\u001b[1;32m     10\u001b[0m \u001b[0;34m\u001b[0m\u001b[0m\n\u001b[1;32m     11\u001b[0m \u001b[0;32mdef\u001b[0m \u001b[0md4\u001b[0m\u001b[0;34m(\u001b[0m\u001b[0;34m)\u001b[0m\u001b[0;34m:\u001b[0m\u001b[0;34m\u001b[0m\u001b[0m\n",
      "\u001b[0;32m<ipython-input-148-46564d420bbf>\u001b[0m in \u001b[0;36md2\u001b[0;34m()\u001b[0m\n\u001b[1;32m      4\u001b[0m \u001b[0;34m\u001b[0m\u001b[0m\n\u001b[1;32m      5\u001b[0m \u001b[0;32mdef\u001b[0m \u001b[0md2\u001b[0m\u001b[0;34m(\u001b[0m\u001b[0;34m)\u001b[0m\u001b[0;34m:\u001b[0m\u001b[0;34m\u001b[0m\u001b[0m\n\u001b[0;32m----> 6\u001b[0;31m     \u001b[0md1\u001b[0m\u001b[0;34m(\u001b[0m\u001b[0;36m1\u001b[0m\u001b[0;34m)\u001b[0m\u001b[0;34m\u001b[0m\u001b[0m\n\u001b[0m\u001b[1;32m      7\u001b[0m \u001b[0;34m\u001b[0m\u001b[0m\n\u001b[1;32m      8\u001b[0m \u001b[0;32mdef\u001b[0m \u001b[0md3\u001b[0m\u001b[0;34m(\u001b[0m\u001b[0;34m)\u001b[0m\u001b[0;34m:\u001b[0m\u001b[0;34m\u001b[0m\u001b[0m\n",
      "\u001b[0;32m<ipython-input-148-46564d420bbf>\u001b[0m in \u001b[0;36md1\u001b[0;34m(x)\u001b[0m\n\u001b[1;32m      1\u001b[0m \u001b[0;32mdef\u001b[0m \u001b[0md1\u001b[0m\u001b[0;34m(\u001b[0m\u001b[0mx\u001b[0m\u001b[0;34m)\u001b[0m\u001b[0;34m:\u001b[0m\u001b[0;34m\u001b[0m\u001b[0m\n\u001b[0;32m----> 2\u001b[0;31m     \u001b[0;32mprint\u001b[0m\u001b[0;34m(\u001b[0m\u001b[0mx\u001b[0m \u001b[0;34m+\u001b[0m \u001b[0;34m'sss'\u001b[0m\u001b[0;34m)\u001b[0m\u001b[0;34m\u001b[0m\u001b[0m\n\u001b[0m\u001b[1;32m      3\u001b[0m     \u001b[0;32mreturn\u001b[0m \u001b[0mx\u001b[0m\u001b[0;34m\u001b[0m\u001b[0m\n\u001b[1;32m      4\u001b[0m \u001b[0;34m\u001b[0m\u001b[0m\n\u001b[1;32m      5\u001b[0m \u001b[0;32mdef\u001b[0m \u001b[0md2\u001b[0m\u001b[0;34m(\u001b[0m\u001b[0;34m)\u001b[0m\u001b[0;34m:\u001b[0m\u001b[0;34m\u001b[0m\u001b[0m\n",
      "\u001b[0;31mTypeError\u001b[0m: unsupported operand type(s) for +: 'int' and 'str'"
     ]
    }
   ],
   "source": [
    "d4()"
   ]
  },
  {
   "cell_type": "code",
   "execution_count": null,
   "metadata": {},
   "outputs": [],
   "source": []
  },
  {
   "cell_type": "code",
   "execution_count": 152,
   "metadata": {},
   "outputs": [],
   "source": [
    "# нанследование\n"
   ]
  },
  {
   "cell_type": "code",
   "execution_count": 154,
   "metadata": {},
   "outputs": [],
   "source": [
    "# класс человек прямо хадящий\n",
    "class Man():\n",
    "    def __init__(self, date_b, color_e, rassa):\n",
    "        self.__date_b = date_b\n",
    "        if color_e == 'карие' and rassa == 'азиат' and date_b < '1945':\n",
    "            print('Ошибка - такого быть не может')\n",
    "        \n",
    "    def year(self, date_now):\n",
    "        return year_olds\n",
    "    \n",
    "    def oprachiz_po_smene_tsveta_glaz(new_color):\n",
    "        \n",
    "        if new_color == 'карие' and rassa == 'азиат':\n",
    "            return \"ошибка\"\n",
    "        else:\n",
    "            self.__color_e = new_color\n",
    "    \n",
    "        \n",
    "    def smenit_rassu(new_rass):\n",
    "        self.__rassa\n",
    "    \n",
    "    "
   ]
  },
  {
   "cell_type": "code",
   "execution_count": 155,
   "metadata": {},
   "outputs": [],
   "source": [
    "# наследуем развыне расы\n"
   ]
  },
  {
   "cell_type": "code",
   "execution_count": 161,
   "metadata": {},
   "outputs": [],
   "source": [
    "class Evropean(Man):\n",
    "    def __init__(self, date_b, color_e, rassa):\n",
    "        self.__rassa = 'Evropean'\n",
    "        self.__date_b = date_b\n",
    "        if color_e == 'карие' and self.rassa == 'азиат' and date_b < '1945':\n",
    "            print('Ошибка - такого быть не может')\n",
    "    \n",
    "    def oprachiz_po_smene_tsveta_glaz(new_color):\n",
    "        return 'Ошибка - операци по смене глдаз евромейцем не доступна' \n",
    "    \n",
    "#    def run():\n",
    "#        print('я бегу')"
   ]
  },
  {
   "cell_type": "code",
   "execution_count": 160,
   "metadata": {},
   "outputs": [
    {
     "data": {
      "text/plain": [
       "['__doc__',\n",
       " '__init__',\n",
       " '__module__',\n",
       " 'oprachiz_po_smene_tsveta_glaz',\n",
       " 'smenit_rassu',\n",
       " 'year']"
      ]
     },
     "execution_count": 160,
     "metadata": {},
     "output_type": "execute_result"
    }
   ],
   "source": [
    "dir(Evropean)"
   ]
  },
  {
   "cell_type": "code",
   "execution_count": null,
   "metadata": {},
   "outputs": [],
   "source": [
    "#SOLID\n",
    "\n",
    "# ассоциаци и агрегация\n",
    "\n",
    "class Engin():\n",
    "   ****\n",
    "\n",
    "class Car():\n",
    "    def __init__(self, engin, wheel, chear):\n",
    "        self.__engin = engin\n",
    "        \n",
    "    def zvetis(self):\n",
    "        vahlop = self.__engin.zvetis_v8()\n",
    "        return vahlop\n",
    "    \n",
    "    \n",
    "engin_1 = Engin()\n",
    "\n",
    "chevrole_camaro = Car(engin_1)\n",
    "\n",
    "\n",
    "\n",
    "# lesha\n",
    "class Tanspor():\n",
    "    def move(x, y)\n",
    "    \n",
    "# pety\n",
    "class BUS_SCHOOL():\n",
    "    def __init__(self, transpor)\n",
    "\n",
    "    def move(self, x, y):\n",
    "        time = transpor.move(x, y)\n",
    "        return time\n",
    "    \n",
    "    def append_childer(k):\n",
    "        pass\n",
    "    \n",
    "    \n",
    "# vasy\n",
    "class TansporFly():\n",
    "    def move(x, y)\n",
    "    \n",
    "    \n",
    "  \n",
    "# твой код\n",
    "transpor_2 = Tanspor()\n",
    "bus = BUS_SCHOOL(transpor_2)\n",
    "\n",
    "\n",
    "transpor_fly = TansporFly()\n",
    "bus_fly = BUS_SCHOOL(transpor_fly)\n",
    "\n",
    "    \n",
    "\n",
    "time_spend = bus.move(x, y)"
   ]
  }
 ],
 "metadata": {
  "kernelspec": {
   "display_name": "Python 2",
   "language": "python",
   "name": "python2"
  },
  "language_info": {
   "codemirror_mode": {
    "name": "ipython",
    "version": 2
   },
   "file_extension": ".py",
   "mimetype": "text/x-python",
   "name": "python",
   "nbconvert_exporter": "python",
   "pygments_lexer": "ipython2",
   "version": "2.7.12"
  }
 },
 "nbformat": 4,
 "nbformat_minor": 2
}
