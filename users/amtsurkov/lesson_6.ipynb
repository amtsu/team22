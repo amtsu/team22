{
 "cells": [
  {
   "cell_type": "code",
   "execution_count": 1,
   "metadata": {},
   "outputs": [],
   "source": [
    "#mkdir test \n",
    "# создает диеркторию (папку)"
   ]
  },
  {
   "cell_type": "code",
   "execution_count": 3,
   "metadata": {},
   "outputs": [
    {
     "data": {
      "text/plain": [
       "u'/home/amtsurkov/github/team22/users/amtsurkov'"
      ]
     },
     "execution_count": 3,
     "metadata": {},
     "output_type": "execute_result"
    }
   ],
   "source": [
    "pwd"
   ]
  },
  {
   "cell_type": "code",
   "execution_count": 4,
   "metadata": {},
   "outputs": [
    {
     "name": "stdout",
     "output_type": "stream",
     "text": [
      "/home/amtsurkov/github/team22/users/amtsurkov/lesson_6\n"
     ]
    }
   ],
   "source": [
    "cd lesson_6/"
   ]
  },
  {
   "cell_type": "code",
   "execution_count": 5,
   "metadata": {},
   "outputs": [],
   "source": [
    "!touch 1.txt"
   ]
  },
  {
   "cell_type": "code",
   "execution_count": 6,
   "metadata": {},
   "outputs": [
    {
     "name": "stdout",
     "output_type": "stream",
     "text": [
      "total 8\r\n",
      "drwxr-xr-x 2 amtsurkov education 4096 Sep 25 19:45 \u001b[0m\u001b[01;34m.\u001b[0m/\r\n",
      "drwxr-xr-x 4 amtsurkov education 4096 Sep 25 19:44 \u001b[01;34m..\u001b[0m/\r\n",
      "-rw-r--r-- 1 amtsurkov education    0 Sep 25 19:45 1.txt\r\n"
     ]
    }
   ],
   "source": [
    "ls -la"
   ]
  },
  {
   "cell_type": "code",
   "execution_count": 7,
   "metadata": {},
   "outputs": [],
   "source": [
    "!cp 1.txt 1_copy.txt"
   ]
  },
  {
   "cell_type": "code",
   "execution_count": 8,
   "metadata": {},
   "outputs": [
    {
     "name": "stdout",
     "output_type": "stream",
     "text": [
      "total 8\r\n",
      "drwxr-xr-x 2 amtsurkov education 4096 Sep 25 19:46 \u001b[0m\u001b[01;34m.\u001b[0m/\r\n",
      "drwxr-xr-x 4 amtsurkov education 4096 Sep 25 19:44 \u001b[01;34m..\u001b[0m/\r\n",
      "-rw-r--r-- 1 amtsurkov education    0 Sep 25 19:46 1_copy.txt\r\n",
      "-rw-r--r-- 1 amtsurkov education    0 Sep 25 19:45 1.txt\r\n"
     ]
    }
   ],
   "source": [
    "ls -la"
   ]
  },
  {
   "cell_type": "code",
   "execution_count": 9,
   "metadata": {},
   "outputs": [
    {
     "name": "stdout",
     "output_type": "stream",
     "text": [
      "total 12\r\n",
      "drwxr-xr-x 2 amtsurkov education 4096 Sep 25 19:46 \u001b[0m\u001b[01;34m.\u001b[0m/\r\n",
      "drwxr-xr-x 4 amtsurkov education 4096 Sep 25 19:46 \u001b[01;34m..\u001b[0m/\r\n",
      "-rw-r--r-- 1 amtsurkov education    0 Sep 25 19:46 1_copy.txt\r\n",
      "-rw-r--r-- 1 amtsurkov education   11 Sep 25 19:46 1.txt\r\n"
     ]
    }
   ],
   "source": [
    "ls -la"
   ]
  },
  {
   "cell_type": "code",
   "execution_count": 11,
   "metadata": {},
   "outputs": [],
   "source": [
    "#1/0 - бит"
   ]
  },
  {
   "cell_type": "code",
   "execution_count": 12,
   "metadata": {},
   "outputs": [],
   "source": [
    "#1 байт = 8 бит "
   ]
  },
  {
   "cell_type": "code",
   "execution_count": 13,
   "metadata": {},
   "outputs": [],
   "source": [
    "!cp 1.txt 1_copy_v2.txt"
   ]
  },
  {
   "cell_type": "code",
   "execution_count": 14,
   "metadata": {},
   "outputs": [
    {
     "name": "stdout",
     "output_type": "stream",
     "text": [
      "total 16\r\n",
      "drwxr-xr-x 2 amtsurkov education 4096 Sep 25 19:48 \u001b[0m\u001b[01;34m.\u001b[0m/\r\n",
      "drwxr-xr-x 4 amtsurkov education 4096 Sep 25 19:48 \u001b[01;34m..\u001b[0m/\r\n",
      "-rw-r--r-- 1 amtsurkov education    0 Sep 25 19:46 1_copy.txt\r\n",
      "-rw-r--r-- 1 amtsurkov education   11 Sep 25 19:48 1_copy_v2.txt\r\n",
      "-rw-r--r-- 1 amtsurkov education   11 Sep 25 19:46 1.txt\r\n"
     ]
    }
   ],
   "source": [
    "ls -la"
   ]
  },
  {
   "cell_type": "code",
   "execution_count": 15,
   "metadata": {},
   "outputs": [],
   "source": [
    "!mv 1_copy_v2.txt 1_copy_v3.txt"
   ]
  },
  {
   "cell_type": "code",
   "execution_count": 16,
   "metadata": {},
   "outputs": [
    {
     "name": "stdout",
     "output_type": "stream",
     "text": [
      "total 16\r\n",
      "drwxr-xr-x 2 amtsurkov education 4096 Sep 25 19:49 \u001b[0m\u001b[01;34m.\u001b[0m/\r\n",
      "drwxr-xr-x 4 amtsurkov education 4096 Sep 25 19:48 \u001b[01;34m..\u001b[0m/\r\n",
      "-rw-r--r-- 1 amtsurkov education    0 Sep 25 19:46 1_copy.txt\r\n",
      "-rw-r--r-- 1 amtsurkov education   11 Sep 25 19:48 1_copy_v3.txt\r\n",
      "-rw-r--r-- 1 amtsurkov education   11 Sep 25 19:46 1.txt\r\n"
     ]
    }
   ],
   "source": [
    "ls -la"
   ]
  },
  {
   "cell_type": "code",
   "execution_count": 17,
   "metadata": {},
   "outputs": [
    {
     "data": {
      "text/plain": [
       "u'/home/amtsurkov/github/team22/users/amtsurkov/lesson_6'"
      ]
     },
     "execution_count": 17,
     "metadata": {},
     "output_type": "execute_result"
    }
   ],
   "source": [
    "pwd"
   ]
  },
  {
   "cell_type": "code",
   "execution_count": 18,
   "metadata": {},
   "outputs": [
    {
     "name": "stdout",
     "output_type": "stream",
     "text": [
      "/home/amtsurkov/github/team22/users/amtsurkov\n"
     ]
    }
   ],
   "source": [
    "cd .."
   ]
  },
  {
   "cell_type": "code",
   "execution_count": 19,
   "metadata": {},
   "outputs": [],
   "source": [
    "mkdir lesson_6_v2"
   ]
  },
  {
   "cell_type": "code",
   "execution_count": 20,
   "metadata": {},
   "outputs": [
    {
     "name": "stdout",
     "output_type": "stream",
     "text": [
      "total 332\r\n",
      "drwxr-xr-x 5 amtsurkov education   4096 Sep 25 19:50 \u001b[0m\u001b[01;34m.\u001b[0m/\r\n",
      "drwxr-xr-x 3 amtsurkov education   4096 Sep 19 13:04 \u001b[01;34m..\u001b[0m/\r\n",
      "drwxr-xr-x 2 amtsurkov education   4096 Sep 25 19:44 \u001b[01;34m.ipynb_checkpoints\u001b[0m/\r\n",
      "-rw-r--r-- 1 amtsurkov education  25624 Sep  9 12:12 lesson_1.ipynb\r\n",
      "-rw-r--r-- 1 amtsurkov education   5444 Sep 10 15:44 lesson_1_work_1.ipynb\r\n",
      "-rw-r--r-- 1 amtsurkov education   9742 Sep 17 13:25 lesson_1_work_1_v2.ipynb\r\n",
      "-rw-r--r-- 1 amtsurkov education   9742 Sep 17 13:22 lesson_1_work_1_v3.ipynb\r\n",
      "-rw-r--r-- 1 amtsurkov education  19053 Sep 14 22:14 lesson_2.ipynb\r\n",
      "-rw-r--r-- 1 amtsurkov education 227043 Sep 21 21:51 lesson_3.ipynb\r\n",
      "drwxr-xr-x 2 amtsurkov education   4096 Sep 25 19:49 \u001b[01;34mlesson_6\u001b[0m/\r\n",
      "-rw-r--r-- 1 amtsurkov education   5826 Sep 25 19:50 lesson_6.ipynb\r\n",
      "drwxr-xr-x 2 amtsurkov education   4096 Sep 25 19:50 \u001b[01;34mlesson_6_v2\u001b[0m/\r\n",
      "-rw-r--r-- 1 amtsurkov education      0 Sep 19 13:04 README.md\r\n"
     ]
    }
   ],
   "source": [
    "ls -la "
   ]
  },
  {
   "cell_type": "code",
   "execution_count": 21,
   "metadata": {},
   "outputs": [
    {
     "name": "stdout",
     "output_type": "stream",
     "text": [
      "total 16\r\n",
      "drwxr-xr-x 2 amtsurkov education 4096 Sep 25 19:49 \u001b[0m\u001b[01;34m.\u001b[0m/\r\n",
      "drwxr-xr-x 5 amtsurkov education 4096 Sep 25 19:50 \u001b[01;34m..\u001b[0m/\r\n",
      "-rw-r--r-- 1 amtsurkov education    0 Sep 25 19:46 1_copy.txt\r\n",
      "-rw-r--r-- 1 amtsurkov education   11 Sep 25 19:48 1_copy_v3.txt\r\n",
      "-rw-r--r-- 1 amtsurkov education   11 Sep 25 19:46 1.txt\r\n"
     ]
    }
   ],
   "source": [
    "ls -la  lesson_6/"
   ]
  },
  {
   "cell_type": "code",
   "execution_count": 22,
   "metadata": {},
   "outputs": [
    {
     "name": "stdout",
     "output_type": "stream",
     "text": [
      "-rw-r--r-- 1 amtsurkov education 11 Sep 25 19:46 lesson_6/1.txt\r\n"
     ]
    }
   ],
   "source": [
    "ls -la  lesson_6/1.txt"
   ]
  },
  {
   "cell_type": "code",
   "execution_count": 23,
   "metadata": {},
   "outputs": [
    {
     "name": "stdout",
     "output_type": "stream",
     "text": [
      "Hello world"
     ]
    }
   ],
   "source": [
    "!cat lesson_6/1.txt"
   ]
  },
  {
   "cell_type": "code",
   "execution_count": 24,
   "metadata": {},
   "outputs": [
    {
     "name": "stdout",
     "output_type": "stream",
     "text": [
      "total 8\r\n",
      "drwxr-xr-x 2 amtsurkov education 4096 Sep 25 19:50 .\r\n",
      "drwxr-xr-x 5 amtsurkov education 4096 Sep 25 19:52 ..\r\n"
     ]
    }
   ],
   "source": [
    "!ls -la lesson_6_v2/"
   ]
  },
  {
   "cell_type": "code",
   "execution_count": 25,
   "metadata": {},
   "outputs": [],
   "source": [
    "!cp lesson_6/1.txt lesson_6_v2/ "
   ]
  },
  {
   "cell_type": "code",
   "execution_count": 26,
   "metadata": {},
   "outputs": [
    {
     "name": "stdout",
     "output_type": "stream",
     "text": [
      "total 12\r\n",
      "drwxr-xr-x 2 amtsurkov education 4096 Sep 25 19:53 .\r\n",
      "drwxr-xr-x 5 amtsurkov education 4096 Sep 25 19:52 ..\r\n",
      "-rw-r--r-- 1 amtsurkov education   11 Sep 25 19:53 1.txt\r\n"
     ]
    }
   ],
   "source": [
    "!ls -la lesson_6_v2/"
   ]
  },
  {
   "cell_type": "code",
   "execution_count": 27,
   "metadata": {},
   "outputs": [],
   "source": [
    "!cp lesson_6/1.txt lesson_6_v2/1_copy_v4.txt"
   ]
  },
  {
   "cell_type": "code",
   "execution_count": 28,
   "metadata": {},
   "outputs": [
    {
     "name": "stdout",
     "output_type": "stream",
     "text": [
      "total 16\r\n",
      "drwxr-xr-x 2 amtsurkov education 4096 Sep 25 19:54 .\r\n",
      "drwxr-xr-x 5 amtsurkov education 4096 Sep 25 19:52 ..\r\n",
      "-rw-r--r-- 1 amtsurkov education   11 Sep 25 19:54 1_copy_v4.txt\r\n",
      "-rw-r--r-- 1 amtsurkov education   11 Sep 25 19:53 1.txt\r\n"
     ]
    }
   ],
   "source": [
    "!ls -la lesson_6_v2/"
   ]
  },
  {
   "cell_type": "code",
   "execution_count": 29,
   "metadata": {},
   "outputs": [
    {
     "name": "stdout",
     "output_type": "stream",
     "text": [
      "total 336\r\n",
      "drwxr-xr-x 5 amtsurkov education   4096 Sep 25 19:54 \u001b[0m\u001b[01;34m.\u001b[0m/\r\n",
      "drwxr-xr-x 3 amtsurkov education   4096 Sep 19 13:04 \u001b[01;34m..\u001b[0m/\r\n",
      "drwxr-xr-x 2 amtsurkov education   4096 Sep 25 19:44 \u001b[01;34m.ipynb_checkpoints\u001b[0m/\r\n",
      "-rw-r--r-- 1 amtsurkov education  25624 Sep  9 12:12 lesson_1.ipynb\r\n",
      "-rw-r--r-- 1 amtsurkov education   5444 Sep 10 15:44 lesson_1_work_1.ipynb\r\n",
      "-rw-r--r-- 1 amtsurkov education   9742 Sep 17 13:25 lesson_1_work_1_v2.ipynb\r\n",
      "-rw-r--r-- 1 amtsurkov education   9742 Sep 17 13:22 lesson_1_work_1_v3.ipynb\r\n",
      "-rw-r--r-- 1 amtsurkov education  19053 Sep 14 22:14 lesson_2.ipynb\r\n",
      "-rw-r--r-- 1 amtsurkov education 227043 Sep 21 21:51 lesson_3.ipynb\r\n",
      "drwxr-xr-x 2 amtsurkov education   4096 Sep 25 19:49 \u001b[01;34mlesson_6\u001b[0m/\r\n",
      "-rw-r--r-- 1 amtsurkov education  10287 Sep 25 19:54 lesson_6.ipynb\r\n",
      "drwxr-xr-x 2 amtsurkov education   4096 Sep 25 19:54 \u001b[01;34mlesson_6_v2\u001b[0m/\r\n",
      "-rw-r--r-- 1 amtsurkov education      0 Sep 19 13:04 README.md\r\n"
     ]
    }
   ],
   "source": [
    "ls -la"
   ]
  },
  {
   "cell_type": "code",
   "execution_count": 30,
   "metadata": {
    "scrolled": true
   },
   "outputs": [
    {
     "name": "stdout",
     "output_type": "stream",
     "text": [
      "/home/amtsurkov/github/team22/users\n"
     ]
    }
   ],
   "source": [
    "cd .."
   ]
  },
  {
   "cell_type": "code",
   "execution_count": 31,
   "metadata": {},
   "outputs": [
    {
     "name": "stdout",
     "output_type": "stream",
     "text": [
      "total 12\r\n",
      "drwxr-xr-x 3 amtsurkov education 4096 Sep 19 13:04 \u001b[0m\u001b[01;34m.\u001b[0m/\r\n",
      "drwxr-xr-x 4 amtsurkov education 4096 Sep 19 13:03 \u001b[01;34m..\u001b[0m/\r\n",
      "drwxr-xr-x 5 amtsurkov education 4096 Sep 25 19:54 \u001b[01;34mamtsurkov\u001b[0m/\r\n",
      "-rw-r--r-- 1 amtsurkov education    0 Sep 19 13:02 README.md\r\n"
     ]
    }
   ],
   "source": [
    "ls -la"
   ]
  },
  {
   "cell_type": "code",
   "execution_count": 35,
   "metadata": {},
   "outputs": [],
   "source": [
    "!mkdir test"
   ]
  },
  {
   "cell_type": "code",
   "execution_count": 36,
   "metadata": {},
   "outputs": [
    {
     "name": "stdout",
     "output_type": "stream",
     "text": [
      "/home/amtsurkov/github/team22/users/test\n"
     ]
    }
   ],
   "source": [
    "cd test"
   ]
  },
  {
   "cell_type": "code",
   "execution_count": 37,
   "metadata": {},
   "outputs": [
    {
     "data": {
      "text/plain": [
       "u'/home/amtsurkov/github/team22/users/test'"
      ]
     },
     "execution_count": 37,
     "metadata": {},
     "output_type": "execute_result"
    }
   ],
   "source": [
    "pwd"
   ]
  },
  {
   "cell_type": "code",
   "execution_count": 38,
   "metadata": {},
   "outputs": [
    {
     "name": "stdout",
     "output_type": "stream",
     "text": [
      "/\n"
     ]
    }
   ],
   "source": [
    "cd /"
   ]
  },
  {
   "cell_type": "code",
   "execution_count": 39,
   "metadata": {},
   "outputs": [
    {
     "data": {
      "text/plain": [
       "u'/'"
      ]
     },
     "execution_count": 39,
     "metadata": {},
     "output_type": "execute_result"
    }
   ],
   "source": [
    "pwd"
   ]
  },
  {
   "cell_type": "code",
   "execution_count": 41,
   "metadata": {},
   "outputs": [
    {
     "name": "stdout",
     "output_type": "stream",
     "text": [
      "total 1048664\r\n",
      "drwxr-xr-x  22 root root       4096 Jul  4  2020 \u001b[0m\u001b[01;34m.\u001b[0m/\r\n",
      "drwxr-xr-x  22 root root       4096 Jul  4  2020 \u001b[01;34m..\u001b[0m/\r\n",
      "drwxr-xr-x   2 root root       4096 Apr  4  2021 \u001b[01;34mbin\u001b[0m/\r\n",
      "drwxr-xr-x   3 root root       4096 Mar 21  2020 \u001b[01;34mboot\u001b[0m/\r\n",
      "drwxr-xr-x  17 root root       3720 Jul 14 08:49 \u001b[01;34mdev\u001b[0m/\r\n",
      "drwxr-xr-x  93 root root       4096 Sep 11 22:54 \u001b[01;34metc\u001b[0m/\r\n",
      "drwxr-xr-x  19 root root       4096 Sep  7 18:48 \u001b[01;34mhome\u001b[0m/\r\n",
      "lrwxrwxrwx   1 root root         33 Mar 21  2020 \u001b[01;36minitrd.img\u001b[0m -> boot/initrd.img-4.4.0-176-generic\r\n",
      "lrwxrwxrwx   1 root root         33 Mar 21  2020 \u001b[01;36minitrd.img.old\u001b[0m -> boot/initrd.img-4.4.0-176-generic\r\n",
      "drwxr-xr-x  17 root root       4096 Sep  5  2021 \u001b[01;34mlib\u001b[0m/\r\n",
      "drwxr-xr-x   2 root root       4096 Mar 21  2020 \u001b[01;34mlib64\u001b[0m/\r\n",
      "drwx------   2 root root      16384 Mar 21  2020 \u001b[01;34mlost+found\u001b[0m/\r\n",
      "drwxr-xr-x   2 root root       4096 Mar 21  2020 \u001b[01;34mmedia\u001b[0m/\r\n",
      "drwxr-xr-x   2 root root       4096 Mar 21  2020 \u001b[01;34mmnt\u001b[0m/\r\n",
      "drwxr-xr-x   3 root root       4096 Sep  5  2021 \u001b[01;34mopt\u001b[0m/\r\n",
      "dr-xr-xr-x 154 root root          0 Jul 14 08:49 \u001b[01;34mproc\u001b[0m/\r\n",
      "drwx------  15 root root       4096 Sep 10 23:23 \u001b[01;34mroot\u001b[0m/\r\n",
      "drwxr-xr-x  20 root root        660 Sep 25 19:38 \u001b[01;34mrun\u001b[0m/\r\n",
      "drwxr-xr-x   2 root root       4096 Sep  5  2021 \u001b[01;34msbin\u001b[0m/\r\n",
      "drwxr-xr-x   2 root root       4096 Mar 21  2020 \u001b[01;34msrv\u001b[0m/\r\n",
      "-rw-------   1 root root 1073741824 Oct 17  2020 swapfile\r\n",
      "dr-xr-xr-x  13 root root          0 Jul 14 08:49 \u001b[01;34msys\u001b[0m/\r\n",
      "drwxrwxrwt  10 root root       4096 Sep 25 19:53 \u001b[30;42mtmp\u001b[0m/\r\n",
      "drwxr-xr-x  10 root root       4096 Mar 21  2020 \u001b[01;34musr\u001b[0m/\r\n",
      "drwxr-xr-x  12 root root       4096 Mar 21  2020 \u001b[01;34mvar\u001b[0m/\r\n",
      "lrwxrwxrwx   1 root root         30 Mar 21  2020 \u001b[01;36mvmlinuz\u001b[0m -> boot/vmlinuz-4.4.0-176-generic\r\n",
      "lrwxrwxrwx   1 root root         30 Mar 21  2020 \u001b[01;36mvmlinuz.old\u001b[0m -> boot/vmlinuz-4.4.0-176-generic\r\n"
     ]
    }
   ],
   "source": [
    "ls -la "
   ]
  },
  {
   "cell_type": "code",
   "execution_count": 42,
   "metadata": {},
   "outputs": [
    {
     "name": "stdout",
     "output_type": "stream",
     "text": [
      "/home/amtsurkov/github/team22/users/test\n"
     ]
    }
   ],
   "source": [
    "cd /home/amtsurkov/github/team22/users/test"
   ]
  },
  {
   "cell_type": "code",
   "execution_count": 43,
   "metadata": {},
   "outputs": [],
   "source": [
    "cp /home/amtsurkov/github/team22/users/amtsurkov/lesson_6/1.txt /home/amtsurkov/github/team22/users/amtsurkov/lesson_6_v2/1_copy_v5.txt"
   ]
  },
  {
   "cell_type": "code",
   "execution_count": 44,
   "metadata": {},
   "outputs": [
    {
     "name": "stdout",
     "output_type": "stream",
     "text": [
      "total 20\r\n",
      "drwxr-xr-x 2 amtsurkov education 4096 Sep 25 19:58 \u001b[0m\u001b[01;34m.\u001b[0m/\r\n",
      "drwxr-xr-x 5 amtsurkov education 4096 Sep 25 19:58 \u001b[01;34m..\u001b[0m/\r\n",
      "-rw-r--r-- 1 amtsurkov education   11 Sep 25 19:54 1_copy_v4.txt\r\n",
      "-rw-r--r-- 1 amtsurkov education   11 Sep 25 19:58 1_copy_v5.txt\r\n",
      "-rw-r--r-- 1 amtsurkov education   11 Sep 25 19:53 1.txt\r\n"
     ]
    }
   ],
   "source": [
    "ls -la /home/amtsurkov/github/team22/users/amtsurkov/lesson_6_v2/"
   ]
  },
  {
   "cell_type": "code",
   "execution_count": 45,
   "metadata": {},
   "outputs": [],
   "source": [
    "rm /home/amtsurkov/github/team22/users/amtsurkov/lesson_6_v2/1_copy_v5.txt"
   ]
  },
  {
   "cell_type": "code",
   "execution_count": 46,
   "metadata": {},
   "outputs": [
    {
     "name": "stdout",
     "output_type": "stream",
     "text": [
      "total 16\r\n",
      "drwxr-xr-x 2 amtsurkov education 4096 Sep 25 19:59 \u001b[0m\u001b[01;34m.\u001b[0m/\r\n",
      "drwxr-xr-x 5 amtsurkov education 4096 Sep 25 19:58 \u001b[01;34m..\u001b[0m/\r\n",
      "-rw-r--r-- 1 amtsurkov education   11 Sep 25 19:54 1_copy_v4.txt\r\n",
      "-rw-r--r-- 1 amtsurkov education   11 Sep 25 19:53 1.txt\r\n"
     ]
    }
   ],
   "source": [
    "ls -la /home/amtsurkov/github/team22/users/amtsurkov/lesson_6_v2/"
   ]
  },
  {
   "cell_type": "code",
   "execution_count": 51,
   "metadata": {},
   "outputs": [],
   "source": [
    "# PYTHON\n",
    "#открытие запись чтение перемещение"
   ]
  },
  {
   "cell_type": "code",
   "execution_count": 48,
   "metadata": {},
   "outputs": [
    {
     "data": {
      "text/plain": [
       "u'/home/amtsurkov/github/team22/users/test'"
      ]
     },
     "execution_count": 48,
     "metadata": {},
     "output_type": "execute_result"
    }
   ],
   "source": [
    "pwd"
   ]
  },
  {
   "cell_type": "code",
   "execution_count": 49,
   "metadata": {},
   "outputs": [
    {
     "name": "stdout",
     "output_type": "stream",
     "text": [
      "/home/amtsurkov/github/team22/users/amtsurkov/lesson_6\n"
     ]
    }
   ],
   "source": [
    "cd /home/amtsurkov/github/team22/users/amtsurkov/lesson_6/"
   ]
  },
  {
   "cell_type": "code",
   "execution_count": 50,
   "metadata": {},
   "outputs": [
    {
     "data": {
      "text/plain": [
       "u'/home/amtsurkov/github/team22/users/amtsurkov/lesson_6'"
      ]
     },
     "execution_count": 50,
     "metadata": {},
     "output_type": "execute_result"
    }
   ],
   "source": [
    "pwd"
   ]
  },
  {
   "cell_type": "code",
   "execution_count": 52,
   "metadata": {},
   "outputs": [],
   "source": [
    "file_descition = open('1.txt', 'r')"
   ]
  },
  {
   "cell_type": "code",
   "execution_count": 53,
   "metadata": {},
   "outputs": [],
   "source": [
    "p1 = file_descition.read(5)"
   ]
  },
  {
   "cell_type": "code",
   "execution_count": 54,
   "metadata": {},
   "outputs": [
    {
     "data": {
      "text/plain": [
       "'Hello'"
      ]
     },
     "execution_count": 54,
     "metadata": {},
     "output_type": "execute_result"
    }
   ],
   "source": [
    "p1"
   ]
  },
  {
   "cell_type": "code",
   "execution_count": 55,
   "metadata": {},
   "outputs": [
    {
     "name": "stdout",
     "output_type": "stream",
     "text": [
      "Hello world"
     ]
    }
   ],
   "source": [
    "cat 1.txt"
   ]
  },
  {
   "cell_type": "code",
   "execution_count": 56,
   "metadata": {},
   "outputs": [],
   "source": [
    "p2 = file_descition.read(5)"
   ]
  },
  {
   "cell_type": "code",
   "execution_count": 57,
   "metadata": {},
   "outputs": [
    {
     "data": {
      "text/plain": [
       "' worl'"
      ]
     },
     "execution_count": 57,
     "metadata": {},
     "output_type": "execute_result"
    }
   ],
   "source": [
    "p2"
   ]
  },
  {
   "cell_type": "code",
   "execution_count": 58,
   "metadata": {},
   "outputs": [],
   "source": [
    "p3 = file_descition.read(5)"
   ]
  },
  {
   "cell_type": "code",
   "execution_count": 59,
   "metadata": {},
   "outputs": [
    {
     "data": {
      "text/plain": [
       "'d'"
      ]
     },
     "execution_count": 59,
     "metadata": {},
     "output_type": "execute_result"
    }
   ],
   "source": [
    "p3"
   ]
  },
  {
   "cell_type": "code",
   "execution_count": 60,
   "metadata": {},
   "outputs": [],
   "source": [
    "p4 = file_descition.read(5)"
   ]
  },
  {
   "cell_type": "code",
   "execution_count": 61,
   "metadata": {},
   "outputs": [
    {
     "data": {
      "text/plain": [
       "''"
      ]
     },
     "execution_count": 61,
     "metadata": {},
     "output_type": "execute_result"
    }
   ],
   "source": [
    "p4"
   ]
  },
  {
   "cell_type": "code",
   "execution_count": 63,
   "metadata": {},
   "outputs": [],
   "source": [
    "file_descition.close()"
   ]
  },
  {
   "cell_type": "code",
   "execution_count": 62,
   "metadata": {},
   "outputs": [],
   "source": [
    "#Hello world"
   ]
  },
  {
   "cell_type": "code",
   "execution_count": 64,
   "metadata": {},
   "outputs": [],
   "source": [
    "file_descition_2 = open('1.txt', 'r')"
   ]
  },
  {
   "cell_type": "code",
   "execution_count": 66,
   "metadata": {},
   "outputs": [],
   "source": [
    "p1 = file_descition_2.read(1)"
   ]
  },
  {
   "cell_type": "code",
   "execution_count": 67,
   "metadata": {},
   "outputs": [],
   "source": [
    "p2 = file_descition_2.read(6)"
   ]
  },
  {
   "cell_type": "code",
   "execution_count": 68,
   "metadata": {},
   "outputs": [
    {
     "data": {
      "text/plain": [
       "'H'"
      ]
     },
     "execution_count": 68,
     "metadata": {},
     "output_type": "execute_result"
    }
   ],
   "source": [
    "p1"
   ]
  },
  {
   "cell_type": "code",
   "execution_count": 69,
   "metadata": {},
   "outputs": [
    {
     "data": {
      "text/plain": [
       "'ello w'"
      ]
     },
     "execution_count": 69,
     "metadata": {},
     "output_type": "execute_result"
    }
   ],
   "source": [
    "p2"
   ]
  },
  {
   "cell_type": "code",
   "execution_count": null,
   "metadata": {},
   "outputs": [],
   "source": [
    "#Hello w<!>orld"
   ]
  },
  {
   "cell_type": "code",
   "execution_count": 70,
   "metadata": {},
   "outputs": [],
   "source": [
    "file_descition_2.seek(3)"
   ]
  },
  {
   "cell_type": "code",
   "execution_count": null,
   "metadata": {},
   "outputs": [],
   "source": [
    "#Hel<!>lo world"
   ]
  },
  {
   "cell_type": "code",
   "execution_count": 71,
   "metadata": {},
   "outputs": [],
   "source": [
    "p3 = file_descition_2.read(6)"
   ]
  },
  {
   "cell_type": "code",
   "execution_count": null,
   "metadata": {},
   "outputs": [],
   "source": [
    "#Hello wor<!>ld"
   ]
  },
  {
   "cell_type": "code",
   "execution_count": 72,
   "metadata": {},
   "outputs": [
    {
     "data": {
      "text/plain": [
       "'lo wor'"
      ]
     },
     "execution_count": 72,
     "metadata": {},
     "output_type": "execute_result"
    }
   ],
   "source": [
    "p3"
   ]
  },
  {
   "cell_type": "code",
   "execution_count": null,
   "metadata": {},
   "outputs": [],
   "source": [
    "#Hello world"
   ]
  },
  {
   "cell_type": "code",
   "execution_count": 73,
   "metadata": {},
   "outputs": [
    {
     "name": "stdout",
     "output_type": "stream",
     "text": [
      "Help on file object:\n",
      "\n",
      "class file(object)\n",
      " |  file(name[, mode[, buffering]]) -> file object\n",
      " |  \n",
      " |  Open a file.  The mode can be 'r', 'w' or 'a' for reading (default),\n",
      " |  writing or appending.  The file will be created if it doesn't exist\n",
      " |  when opened for writing or appending; it will be truncated when\n",
      " |  opened for writing.  Add a 'b' to the mode for binary files.\n",
      " |  Add a '+' to the mode to allow simultaneous reading and writing.\n",
      " |  If the buffering argument is given, 0 means unbuffered, 1 means line\n",
      " |  buffered, and larger numbers specify the buffer size.  The preferred way\n",
      " |  to open a file is with the builtin open() function.\n",
      " |  Add a 'U' to mode to open the file for input with universal newline\n",
      " |  support.  Any line ending in the input file will be seen as a '\\n'\n",
      " |  in Python.  Also, a file so opened gains the attribute 'newlines';\n",
      " |  the value for this attribute is one of None (no newline read yet),\n",
      " |  '\\r', '\\n', '\\r\\n' or a tuple containing all the newline types seen.\n",
      " |  \n",
      " |  'U' cannot be combined with 'w' or '+' mode.\n",
      " |  \n",
      " |  Methods defined here:\n",
      " |  \n",
      " |  __delattr__(...)\n",
      " |      x.__delattr__('name') <==> del x.name\n",
      " |  \n",
      " |  __enter__(...)\n",
      " |      __enter__() -> self.\n",
      " |  \n",
      " |  __exit__(...)\n",
      " |      __exit__(*excinfo) -> None.  Closes the file.\n",
      " |  \n",
      " |  __getattribute__(...)\n",
      " |      x.__getattribute__('name') <==> x.name\n",
      " |  \n",
      " |  __init__(...)\n",
      " |      x.__init__(...) initializes x; see help(type(x)) for signature\n",
      " |  \n",
      " |  __iter__(...)\n",
      " |      x.__iter__() <==> iter(x)\n",
      " |  \n",
      " |  __repr__(...)\n",
      " |      x.__repr__() <==> repr(x)\n",
      " |  \n",
      " |  __setattr__(...)\n",
      " |      x.__setattr__('name', value) <==> x.name = value\n",
      " |  \n",
      " |  close(...)\n",
      " |      close() -> None or (perhaps) an integer.  Close the file.\n",
      " |      \n",
      " |      Sets data attribute .closed to True.  A closed file cannot be used for\n",
      " |      further I/O operations.  close() may be called more than once without\n",
      " |      error.  Some kinds of file objects (for example, opened by popen())\n",
      " |      may return an exit status upon closing.\n",
      " |  \n",
      " |  fileno(...)\n",
      " |      fileno() -> integer \"file descriptor\".\n",
      " |      \n",
      " |      This is needed for lower-level file interfaces, such os.read().\n",
      " |  \n",
      " |  flush(...)\n",
      " |      flush() -> None.  Flush the internal I/O buffer.\n",
      " |  \n",
      " |  isatty(...)\n",
      " |      isatty() -> true or false.  True if the file is connected to a tty device.\n",
      " |  \n",
      " |  next(...)\n",
      " |      x.next() -> the next value, or raise StopIteration\n",
      " |  \n",
      " |  read(...)\n",
      " |      read([size]) -> read at most size bytes, returned as a string.\n",
      " |      \n",
      " |      If the size argument is negative or omitted, read until EOF is reached.\n",
      " |      Notice that when in non-blocking mode, less data than what was requested\n",
      " |      may be returned, even if no size parameter was given.\n",
      " |  \n",
      " |  readinto(...)\n",
      " |      readinto() -> Undocumented.  Don't use this; it may go away.\n",
      " |  \n",
      " |  readline(...)\n",
      " |      readline([size]) -> next line from the file, as a string.\n",
      " |      \n",
      " |      Retain newline.  A non-negative size argument limits the maximum\n",
      " |      number of bytes to return (an incomplete line may be returned then).\n",
      " |      Return an empty string at EOF.\n",
      " |  \n",
      " |  readlines(...)\n",
      " |      readlines([size]) -> list of strings, each a line from the file.\n",
      " |      \n",
      " |      Call readline() repeatedly and return a list of the lines so read.\n",
      " |      The optional size argument, if given, is an approximate bound on the\n",
      " |      total number of bytes in the lines returned.\n",
      " |  \n",
      " |  seek(...)\n",
      " |      seek(offset[, whence]) -> None.  Move to new file position.\n",
      " |      \n",
      " |      Argument offset is a byte count.  Optional argument whence defaults to\n",
      " |      0 (offset from start of file, offset should be >= 0); other values are 1\n",
      " |      (move relative to current position, positive or negative), and 2 (move\n",
      " |      relative to end of file, usually negative, although many platforms allow\n",
      " |      seeking beyond the end of a file).  If the file is opened in text mode,\n",
      " |      only offsets returned by tell() are legal.  Use of other offsets causes\n",
      " |      undefined behavior.\n",
      " |      Note that not all file objects are seekable.\n",
      " |  \n",
      " |  tell(...)\n",
      " |      tell() -> current file position, an integer (may be a long integer).\n",
      " |  \n",
      " |  truncate(...)\n",
      " |      truncate([size]) -> None.  Truncate the file to at most size bytes.\n",
      " |      \n",
      " |      Size defaults to the current file position, as returned by tell().\n",
      " |  \n",
      " |  write(...)\n",
      " |      write(str) -> None.  Write string str to file.\n",
      " |      \n",
      " |      Note that due to buffering, flush() or close() may be needed before\n",
      " |      the file on disk reflects the data written.\n",
      " |  \n",
      " |  writelines(...)\n",
      " |      writelines(sequence_of_strings) -> None.  Write the strings to the file.\n",
      " |      \n",
      " |      Note that newlines are not added.  The sequence can be any iterable object\n",
      " |      producing strings. This is equivalent to calling write() for each string.\n",
      " |  \n",
      " |  xreadlines(...)\n",
      " |      xreadlines() -> returns self.\n",
      " |      \n",
      " |      For backward compatibility. File objects now include the performance\n",
      " |      optimizations previously implemented in the xreadlines module.\n",
      " |  \n",
      " |  ----------------------------------------------------------------------\n",
      " |  Data descriptors defined here:\n",
      " |  \n",
      " |  closed\n",
      " |      True if the file is closed\n",
      " |  \n",
      " |  encoding\n",
      " |      file encoding\n",
      " |  \n",
      " |  errors\n",
      " |      Unicode error handler\n",
      " |  \n",
      " |  mode\n",
      " |      file mode ('r', 'U', 'w', 'a', possibly with 'b' or '+' added)\n",
      " |  \n",
      " |  name\n",
      " |      file name\n",
      " |  \n",
      " |  newlines\n",
      " |      end-of-line convention used in this file\n",
      " |  \n",
      " |  softspace\n",
      " |      flag indicating that a space needs to be printed; used by print\n",
      " |  \n",
      " |  ----------------------------------------------------------------------\n",
      " |  Data and other attributes defined here:\n",
      " |  \n",
      " |  __new__ = <built-in method __new__ of type object>\n",
      " |      T.__new__(S, ...) -> a new object with type S, a subtype of T\n",
      "\n"
     ]
    }
   ],
   "source": [
    "help(file_descition_2)"
   ]
  },
  {
   "cell_type": "code",
   "execution_count": 74,
   "metadata": {},
   "outputs": [
    {
     "data": {
      "text/plain": [
       "9"
      ]
     },
     "execution_count": 74,
     "metadata": {},
     "output_type": "execute_result"
    }
   ],
   "source": [
    "file_descition_2.tell()"
   ]
  },
  {
   "cell_type": "code",
   "execution_count": 78,
   "metadata": {},
   "outputs": [],
   "source": [
    "file_descition_2.seek(0)"
   ]
  },
  {
   "cell_type": "code",
   "execution_count": 79,
   "metadata": {},
   "outputs": [],
   "source": [
    "p4 = file_descition_2.read(3)"
   ]
  },
  {
   "cell_type": "code",
   "execution_count": 80,
   "metadata": {},
   "outputs": [
    {
     "data": {
      "text/plain": [
       "'Hel'"
      ]
     },
     "execution_count": 80,
     "metadata": {},
     "output_type": "execute_result"
    }
   ],
   "source": [
    "p4"
   ]
  },
  {
   "cell_type": "code",
   "execution_count": null,
   "metadata": {},
   "outputs": [],
   "source": [
    "#Hello world\n",
    "#wor"
   ]
  },
  {
   "cell_type": "code",
   "execution_count": 81,
   "metadata": {},
   "outputs": [],
   "source": [
    "file_descition_2.close()"
   ]
  },
  {
   "cell_type": "code",
   "execution_count": 82,
   "metadata": {},
   "outputs": [],
   "source": [
    "# записиь в фаил"
   ]
  },
  {
   "cell_type": "code",
   "execution_count": 83,
   "metadata": {},
   "outputs": [],
   "source": [
    "file_write = open('2.txt', 'w')"
   ]
  },
  {
   "cell_type": "code",
   "execution_count": 84,
   "metadata": {},
   "outputs": [],
   "source": [
    "file_write.write('la la la')"
   ]
  },
  {
   "cell_type": "code",
   "execution_count": 86,
   "metadata": {},
   "outputs": [],
   "source": [
    "file_write.write('la la la')"
   ]
  },
  {
   "cell_type": "code",
   "execution_count": 87,
   "metadata": {},
   "outputs": [],
   "source": [
    "file_write.write('la la la'*1000)"
   ]
  },
  {
   "cell_type": "code",
   "execution_count": 89,
   "metadata": {},
   "outputs": [],
   "source": [
    "file_write.close()"
   ]
  },
  {
   "cell_type": "code",
   "execution_count": null,
   "metadata": {},
   "outputs": [],
   "source": []
  },
  {
   "cell_type": "code",
   "execution_count": 91,
   "metadata": {},
   "outputs": [],
   "source": [
    "file_write = open('3.txt', 'w')"
   ]
  },
  {
   "cell_type": "code",
   "execution_count": 92,
   "metadata": {},
   "outputs": [],
   "source": [
    "file_write.write('la la la')"
   ]
  },
  {
   "cell_type": "code",
   "execution_count": 93,
   "metadata": {},
   "outputs": [],
   "source": [
    "file_write.close()"
   ]
  },
  {
   "cell_type": "code",
   "execution_count": 94,
   "metadata": {},
   "outputs": [
    {
     "name": "stdout",
     "output_type": "stream",
     "text": [
      "la la la"
     ]
    }
   ],
   "source": [
    "!cat 3.txt"
   ]
  },
  {
   "cell_type": "code",
   "execution_count": null,
   "metadata": {},
   "outputs": [],
   "source": []
  },
  {
   "cell_type": "code",
   "execution_count": 95,
   "metadata": {},
   "outputs": [],
   "source": [
    "text = 'lesson 6'"
   ]
  },
  {
   "cell_type": "code",
   "execution_count": 96,
   "metadata": {},
   "outputs": [],
   "source": [
    "list_1 = [1,2,3,4]"
   ]
  },
  {
   "cell_type": "code",
   "execution_count": 97,
   "metadata": {},
   "outputs": [],
   "source": [
    "number = 17"
   ]
  },
  {
   "cell_type": "code",
   "execution_count": 98,
   "metadata": {},
   "outputs": [],
   "source": [
    "file_write = open('4.txt', 'w')"
   ]
  },
  {
   "cell_type": "code",
   "execution_count": 99,
   "metadata": {},
   "outputs": [],
   "source": [
    "file_write.write(text)"
   ]
  },
  {
   "cell_type": "code",
   "execution_count": 100,
   "metadata": {},
   "outputs": [
    {
     "ename": "TypeError",
     "evalue": "expected a string or other character buffer object",
     "output_type": "error",
     "traceback": [
      "\u001b[0;31m---------------------------------------------------------------------------\u001b[0m",
      "\u001b[0;31mTypeError\u001b[0m                                 Traceback (most recent call last)",
      "\u001b[0;32m<ipython-input-100-339b59477ab9>\u001b[0m in \u001b[0;36m<module>\u001b[0;34m()\u001b[0m\n\u001b[0;32m----> 1\u001b[0;31m \u001b[0mfile_write\u001b[0m\u001b[0;34m.\u001b[0m\u001b[0mwrite\u001b[0m\u001b[0;34m(\u001b[0m\u001b[0mnumber\u001b[0m\u001b[0;34m)\u001b[0m\u001b[0;34m\u001b[0m\u001b[0m\n\u001b[0m",
      "\u001b[0;31mTypeError\u001b[0m: expected a string or other character buffer object"
     ]
    }
   ],
   "source": [
    "file_write.write(number)"
   ]
  },
  {
   "cell_type": "code",
   "execution_count": 101,
   "metadata": {},
   "outputs": [
    {
     "ename": "TypeError",
     "evalue": "expected a string or other character buffer object",
     "output_type": "error",
     "traceback": [
      "\u001b[0;31m---------------------------------------------------------------------------\u001b[0m",
      "\u001b[0;31mTypeError\u001b[0m                                 Traceback (most recent call last)",
      "\u001b[0;32m<ipython-input-101-fc468b85a09f>\u001b[0m in \u001b[0;36m<module>\u001b[0;34m()\u001b[0m\n\u001b[0;32m----> 1\u001b[0;31m \u001b[0mfile_write\u001b[0m\u001b[0;34m.\u001b[0m\u001b[0mwrite\u001b[0m\u001b[0;34m(\u001b[0m\u001b[0mlist_1\u001b[0m\u001b[0;34m)\u001b[0m\u001b[0;34m\u001b[0m\u001b[0m\n\u001b[0m",
      "\u001b[0;31mTypeError\u001b[0m: expected a string or other character buffer object"
     ]
    }
   ],
   "source": [
    "file_write.write(list_1)"
   ]
  },
  {
   "cell_type": "code",
   "execution_count": 102,
   "metadata": {},
   "outputs": [],
   "source": [
    "file_write.close()"
   ]
  },
  {
   "cell_type": "code",
   "execution_count": 12,
   "metadata": {},
   "outputs": [],
   "source": [
    "file_read = open('lesson_6/4.txt', 'r')"
   ]
  },
  {
   "cell_type": "code",
   "execution_count": 19,
   "metadata": {},
   "outputs": [],
   "source": [
    "line = file_read.readline()"
   ]
  },
  {
   "cell_type": "code",
   "execution_count": 20,
   "metadata": {},
   "outputs": [
    {
     "data": {
      "text/plain": [
       "''"
      ]
     },
     "execution_count": 20,
     "metadata": {},
     "output_type": "execute_result"
    }
   ],
   "source": [
    "line"
   ]
  },
  {
   "cell_type": "code",
   "execution_count": null,
   "metadata": {},
   "outputs": [],
   "source": []
  },
  {
   "cell_type": "code",
   "execution_count": 106,
   "metadata": {},
   "outputs": [],
   "source": [
    "file_write = open('5.txt', 'w')"
   ]
  },
  {
   "cell_type": "code",
   "execution_count": 108,
   "metadata": {},
   "outputs": [],
   "source": [
    "line_1 = 'open file '"
   ]
  },
  {
   "cell_type": "code",
   "execution_count": 109,
   "metadata": {},
   "outputs": [],
   "source": [
    "for i in range(100):\n",
    "    file_write.write(line_1)\n",
    "    file_write.write(str(i))\n",
    "    "
   ]
  },
  {
   "cell_type": "code",
   "execution_count": 110,
   "metadata": {},
   "outputs": [],
   "source": [
    "file_write.close()"
   ]
  },
  {
   "cell_type": "code",
   "execution_count": 111,
   "metadata": {},
   "outputs": [
    {
     "name": "stdout",
     "output_type": "stream",
     "text": [
      "open file 0open file 1open file 2open file 3open file 4open file 5open file 6open file 7open file 8open file 9open file 10open file 11open file 12open file 13open file 14open file 15open file 16open file 17open file 18open file 19open file 20open file 21open file 22open file 23open file 24open file 25open file 26open file 27open file 28open file 29open file 30open file 31open file 32open file 33open file 34open file 35open file 36open file 37open file 38open file 39open file 40open file 41open file 42open file 43open file 44open file 45open file 46open file 47open file 48open file 49open file 50open file 51open file 52open file 53open file 54open file 55open file 56open file 57open file 58open file 59open file 60open file 61open file 62open file 63open file 64open file 65open file 66open file 67open file 68open file 69open file 70open file 71open file 72open file 73open file 74open file 75open file 76open file 77open file 78open file 79open file 80open file 81open file 82open file 83open file 84open file 85open file 86open file 87open file 88open file 89open file 90open file 91open file 92open file 93open file 94open file 95open file 96open file 97open file 98open file 99"
     ]
    }
   ],
   "source": [
    "!cat 5.txt"
   ]
  },
  {
   "cell_type": "code",
   "execution_count": 119,
   "metadata": {},
   "outputs": [],
   "source": [
    "file_read = open('5.txt', 'r')"
   ]
  },
  {
   "cell_type": "code",
   "execution_count": 120,
   "metadata": {},
   "outputs": [
    {
     "name": "stdout",
     "output_type": "stream",
     "text": [
      "(0, 'open ')\n",
      "(1, 'file ')\n",
      "(2, '0open')\n",
      "(3, ' file')\n",
      "(4, ' 1ope')\n",
      "(5, 'n fil')\n",
      "(6, 'e 2op')\n",
      "(7, 'en fi')\n",
      "(8, 'le 3o')\n",
      "(9, 'pen f')\n"
     ]
    }
   ],
   "source": [
    "for i in range(10):\n",
    "    print(i, file_read.read(5) )"
   ]
  },
  {
   "cell_type": "code",
   "execution_count": 121,
   "metadata": {},
   "outputs": [],
   "source": [
    "file_read.close()"
   ]
  },
  {
   "cell_type": "code",
   "execution_count": null,
   "metadata": {},
   "outputs": [],
   "source": []
  },
  {
   "cell_type": "code",
   "execution_count": 122,
   "metadata": {},
   "outputs": [],
   "source": [
    "# дан 1 большой фаил, размером 100 гигобайт"
   ]
  },
  {
   "cell_type": "code",
   "execution_count": 123,
   "metadata": {},
   "outputs": [],
   "source": [
    "# нужно отосортировать этот файил по симовольн и потом вывести на экран"
   ]
  },
  {
   "cell_type": "code",
   "execution_count": 124,
   "metadata": {},
   "outputs": [],
   "source": [
    "# есть одно ограничение опретаинвой памяит 120 гигобайт"
   ]
  },
  {
   "cell_type": "code",
   "execution_count": 125,
   "metadata": {},
   "outputs": [],
   "source": [
    "#Иван пошел на войну"
   ]
  },
  {
   "cell_type": "code",
   "execution_count": null,
   "metadata": {},
   "outputs": [],
   "source": [
    "#ааввеий.."
   ]
  }
 ],
 "metadata": {
  "kernelspec": {
   "display_name": "Python 2",
   "language": "python",
   "name": "python2"
  },
  "language_info": {
   "codemirror_mode": {
    "name": "ipython",
    "version": 2
   },
   "file_extension": ".py",
   "mimetype": "text/x-python",
   "name": "python",
   "nbconvert_exporter": "python",
   "pygments_lexer": "ipython2",
   "version": "2.7.12"
  }
 },
 "nbformat": 4,
 "nbformat_minor": 2
}
