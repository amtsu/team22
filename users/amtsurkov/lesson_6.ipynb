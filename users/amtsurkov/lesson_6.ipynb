{
 "cells": [
  {
   "cell_type": "code",
   "execution_count": null,
   "metadata": {},
   "outputs": [],
   "source": [
    "#mkdir test \n",
    "# создает диеркторию (папку)"
   ]
  },
  {
   "cell_type": "code",
   "execution_count": 1,
   "metadata": {},
   "outputs": [
    {
     "data": {
      "text/plain": [
       "u'/home/amtsurkov/github/team22/users/amtsurkov'"
      ]
     },
     "execution_count": 1,
     "metadata": {},
     "output_type": "execute_result"
    }
   ],
   "source": [
    "pwd"
   ]
  },
  {
   "cell_type": "code",
   "execution_count": 2,
   "metadata": {},
   "outputs": [
    {
     "name": "stdout",
     "output_type": "stream",
     "text": [
      "/home/amtsurkov/github/team22/users\n"
     ]
    }
   ],
   "source": [
    "cd .."
   ]
  },
  {
   "cell_type": "code",
   "execution_count": 4,
   "metadata": {},
   "outputs": [
    {
     "name": "stdout",
     "output_type": "stream",
     "text": [
      "/home/amtsurkov/github/team22/users/amtsurkov\n"
     ]
    }
   ],
   "source": [
    "cd /home/amtsurkov/github/team22/users/amtsurkov/"
   ]
  },
  {
   "cell_type": "code",
   "execution_count": 5,
   "metadata": {},
   "outputs": [
    {
     "name": "stdout",
     "output_type": "stream",
     "text": [
      "/home/amtsurkov/github/team22/users/amtsurkov/lesson_6\n"
     ]
    }
   ],
   "source": [
    "cd lesson_6/"
   ]
  },
  {
   "cell_type": "code",
   "execution_count": null,
   "metadata": {},
   "outputs": [],
   "source": [
    "!touch 1.txt"
   ]
  },
  {
   "cell_type": "code",
   "execution_count": 6,
   "metadata": {},
   "outputs": [
    {
     "name": "stdout",
     "output_type": "stream",
     "text": [
      "total 36\r\n",
      "drwxr-xr-x 2 amtsurkov education 4096 Sep 27 19:38 \u001b[0m\u001b[01;34m.\u001b[0m/\r\n",
      "drwxr-xr-x 6 amtsurkov education 4096 Oct  5 19:10 \u001b[01;34m..\u001b[0m/\r\n",
      "-rw-r--r-- 1 amtsurkov education    0 Sep 25 19:46 1_copy.txt\r\n",
      "-rw-r--r-- 1 amtsurkov education   11 Sep 25 19:48 1_copy_v3.txt\r\n",
      "-rw-r--r-- 1 amtsurkov education   11 Sep 25 19:46 1.txt\r\n",
      "-rw-r--r-- 1 amtsurkov education 8016 Sep 25 20:32 2.txt\r\n",
      "-rw-r--r-- 1 amtsurkov education    8 Sep 25 20:32 3.txt\r\n",
      "-rw-r--r-- 1 amtsurkov education   28 Sep 27 19:38 4.txt\r\n",
      "-rw-r--r-- 1 amtsurkov education 1190 Sep 25 20:43 5.txt\r\n"
     ]
    }
   ],
   "source": [
    "ls -la"
   ]
  },
  {
   "cell_type": "code",
   "execution_count": null,
   "metadata": {},
   "outputs": [],
   "source": [
    "!cp 1.txt 1_copy.txt"
   ]
  },
  {
   "cell_type": "code",
   "execution_count": null,
   "metadata": {},
   "outputs": [],
   "source": [
    "ls -la"
   ]
  },
  {
   "cell_type": "code",
   "execution_count": null,
   "metadata": {},
   "outputs": [],
   "source": [
    "ls -la"
   ]
  },
  {
   "cell_type": "code",
   "execution_count": null,
   "metadata": {},
   "outputs": [],
   "source": [
    "#1/0 - бит"
   ]
  },
  {
   "cell_type": "code",
   "execution_count": null,
   "metadata": {},
   "outputs": [],
   "source": [
    "#1 байт = 8 бит "
   ]
  },
  {
   "cell_type": "code",
   "execution_count": null,
   "metadata": {},
   "outputs": [],
   "source": [
    "!cp 1.txt 1_copy_v2.txt"
   ]
  },
  {
   "cell_type": "code",
   "execution_count": 7,
   "metadata": {},
   "outputs": [
    {
     "name": "stdout",
     "output_type": "stream",
     "text": [
      "total 36\r\n",
      "drwxr-xr-x 2 amtsurkov education 4096 Sep 27 19:38 \u001b[0m\u001b[01;34m.\u001b[0m/\r\n",
      "drwxr-xr-x 6 amtsurkov education 4096 Oct  5 19:12 \u001b[01;34m..\u001b[0m/\r\n",
      "-rw-r--r-- 1 amtsurkov education    0 Sep 25 19:46 1_copy.txt\r\n",
      "-rw-r--r-- 1 amtsurkov education   11 Sep 25 19:48 1_copy_v3.txt\r\n",
      "-rw-r--r-- 1 amtsurkov education   11 Sep 25 19:46 1.txt\r\n",
      "-rw-r--r-- 1 amtsurkov education 8016 Sep 25 20:32 2.txt\r\n",
      "-rw-r--r-- 1 amtsurkov education    8 Sep 25 20:32 3.txt\r\n",
      "-rw-r--r-- 1 amtsurkov education   28 Sep 27 19:38 4.txt\r\n",
      "-rw-r--r-- 1 amtsurkov education 1190 Sep 25 20:43 5.txt\r\n"
     ]
    }
   ],
   "source": [
    "ls -la"
   ]
  },
  {
   "cell_type": "code",
   "execution_count": 8,
   "metadata": {},
   "outputs": [],
   "source": [
    "mkdir test"
   ]
  },
  {
   "cell_type": "code",
   "execution_count": 11,
   "metadata": {},
   "outputs": [],
   "source": [
    "!touch vlad_1_txt"
   ]
  },
  {
   "cell_type": "code",
   "execution_count": 12,
   "metadata": {},
   "outputs": [
    {
     "name": "stdout",
     "output_type": "stream",
     "text": [
      "total 40\r\n",
      "drwxr-xr-x 3 amtsurkov education 4096 Oct  5 19:13 \u001b[0m\u001b[01;34m.\u001b[0m/\r\n",
      "drwxr-xr-x 6 amtsurkov education 4096 Oct  5 19:12 \u001b[01;34m..\u001b[0m/\r\n",
      "-rw-r--r-- 1 amtsurkov education    0 Sep 25 19:46 1_copy.txt\r\n",
      "-rw-r--r-- 1 amtsurkov education   11 Sep 25 19:48 1_copy_v3.txt\r\n",
      "-rw-r--r-- 1 amtsurkov education   11 Sep 25 19:46 1.txt\r\n",
      "-rw-r--r-- 1 amtsurkov education 8016 Sep 25 20:32 2.txt\r\n",
      "-rw-r--r-- 1 amtsurkov education    8 Sep 25 20:32 3.txt\r\n",
      "-rw-r--r-- 1 amtsurkov education   28 Sep 27 19:38 4.txt\r\n",
      "-rw-r--r-- 1 amtsurkov education 1190 Sep 25 20:43 5.txt\r\n",
      "drwxr-xr-x 2 amtsurkov education 4096 Oct  5 19:13 \u001b[01;34mtest\u001b[0m/\r\n",
      "-rw-r--r-- 1 amtsurkov education    0 Oct  5 19:13 vlad_1_txt\r\n"
     ]
    }
   ],
   "source": [
    "ls -la"
   ]
  },
  {
   "cell_type": "code",
   "execution_count": 26,
   "metadata": {},
   "outputs": [],
   "source": [
    "ls > vlad_1_txt"
   ]
  },
  {
   "cell_type": "code",
   "execution_count": 27,
   "metadata": {},
   "outputs": [
    {
     "name": "stdout",
     "output_type": "stream",
     "text": [
      "total 44\r\n",
      "drwxr-xr-x 3 amtsurkov education 4096 Oct  5 19:13 \u001b[0m\u001b[01;34m.\u001b[0m/\r\n",
      "drwxr-xr-x 6 amtsurkov education 4096 Oct  5 19:14 \u001b[01;34m..\u001b[0m/\r\n",
      "-rw-r--r-- 1 amtsurkov education    0 Sep 25 19:46 1_copy.txt\r\n",
      "-rw-r--r-- 1 amtsurkov education   11 Sep 25 19:48 1_copy_v3.txt\r\n",
      "-rw-r--r-- 1 amtsurkov education   11 Sep 25 19:46 1.txt\r\n",
      "-rw-r--r-- 1 amtsurkov education 8016 Sep 25 20:32 2.txt\r\n",
      "-rw-r--r-- 1 amtsurkov education    8 Sep 25 20:32 3.txt\r\n",
      "-rw-r--r-- 1 amtsurkov education   28 Sep 27 19:38 4.txt\r\n",
      "-rw-r--r-- 1 amtsurkov education 1190 Sep 25 20:43 5.txt\r\n",
      "drwxr-xr-x 2 amtsurkov education 4096 Oct  5 19:13 \u001b[01;34mtest\u001b[0m/\r\n",
      "-rw-r--r-- 1 amtsurkov education   88 Oct  5 19:16 vlad_1_txt\r\n"
     ]
    }
   ],
   "source": [
    "ls -la"
   ]
  },
  {
   "cell_type": "code",
   "execution_count": 28,
   "metadata": {},
   "outputs": [
    {
     "name": "stdout",
     "output_type": "stream",
     "text": [
      "1_copy.txt\r\n",
      "1_copy_v3.txt\r\n",
      "1.txt\r\n",
      "2.txt\r\n",
      "3.txt\r\n",
      "4.txt\r\n",
      "5.txt\r\n",
      "\u001b[0m\u001b[01;34mtest\u001b[0m/\r\n",
      "vlad_1_txt\r\n"
     ]
    }
   ],
   "source": [
    "cat vlad_1_txt"
   ]
  },
  {
   "cell_type": "code",
   "execution_count": 29,
   "metadata": {},
   "outputs": [
    {
     "name": "stdout",
     "output_type": "stream",
     "text": [
      "total 8\r\n",
      "drwxr-xr-x 2 amtsurkov education 4096 Oct  5 19:13 \u001b[0m\u001b[01;34m.\u001b[0m/\r\n",
      "drwxr-xr-x 3 amtsurkov education 4096 Oct  5 19:13 \u001b[01;34m..\u001b[0m/\r\n"
     ]
    }
   ],
   "source": [
    "ls -la test/"
   ]
  },
  {
   "cell_type": "code",
   "execution_count": 30,
   "metadata": {},
   "outputs": [],
   "source": [
    "!mv vlad_1_txt test/vlad_1_txt_move"
   ]
  },
  {
   "cell_type": "code",
   "execution_count": 31,
   "metadata": {},
   "outputs": [
    {
     "name": "stdout",
     "output_type": "stream",
     "text": [
      "total 12\r\n",
      "drwxr-xr-x 2 amtsurkov education 4096 Oct  5 19:17 \u001b[0m\u001b[01;34m.\u001b[0m/\r\n",
      "drwxr-xr-x 3 amtsurkov education 4096 Oct  5 19:17 \u001b[01;34m..\u001b[0m/\r\n",
      "-rw-r--r-- 1 amtsurkov education   88 Oct  5 19:16 vlad_1_txt_move\r\n"
     ]
    }
   ],
   "source": [
    "ls -la test/"
   ]
  },
  {
   "cell_type": "code",
   "execution_count": 33,
   "metadata": {},
   "outputs": [
    {
     "name": "stdout",
     "output_type": "stream",
     "text": [
      "total 40\r\n",
      "drwxr-xr-x 3 amtsurkov education 4096 Oct  5 19:17 \u001b[0m\u001b[01;34m.\u001b[0m/\r\n",
      "drwxr-xr-x 6 amtsurkov education 4096 Oct  5 19:16 \u001b[01;34m..\u001b[0m/\r\n",
      "-rw-r--r-- 1 amtsurkov education    0 Sep 25 19:46 1_copy.txt\r\n",
      "-rw-r--r-- 1 amtsurkov education   11 Sep 25 19:48 1_copy_v3.txt\r\n",
      "-rw-r--r-- 1 amtsurkov education   11 Sep 25 19:46 1.txt\r\n",
      "-rw-r--r-- 1 amtsurkov education 8016 Sep 25 20:32 2.txt\r\n",
      "-rw-r--r-- 1 amtsurkov education    8 Sep 25 20:32 3.txt\r\n",
      "-rw-r--r-- 1 amtsurkov education   28 Sep 27 19:38 4.txt\r\n",
      "-rw-r--r-- 1 amtsurkov education 1190 Sep 25 20:43 5.txt\r\n",
      "drwxr-xr-x 2 amtsurkov education 4096 Oct  5 19:17 \u001b[01;34mtest\u001b[0m/\r\n"
     ]
    }
   ],
   "source": [
    "ls -la"
   ]
  },
  {
   "cell_type": "code",
   "execution_count": 36,
   "metadata": {},
   "outputs": [
    {
     "name": "stdout",
     "output_type": "stream",
     "text": [
      "2\r\n"
     ]
    }
   ],
   "source": [
    "ls -la | grep 'copy' | wc -l"
   ]
  },
  {
   "cell_type": "code",
   "execution_count": 56,
   "metadata": {},
   "outputs": [],
   "source": [
    "!ps auxww > test_1"
   ]
  },
  {
   "cell_type": "code",
   "execution_count": 59,
   "metadata": {},
   "outputs": [],
   "source": [
    "!grep \"is\" untitled.txt > test_2"
   ]
  },
  {
   "cell_type": "code",
   "execution_count": 65,
   "metadata": {},
   "outputs": [
    {
     "name": "stdout",
     "output_type": "stream",
     "text": [
      "mish\r\n"
     ]
    }
   ],
   "source": [
    "!grep \"mis\" untitled.txt"
   ]
  },
  {
   "cell_type": "code",
   "execution_count": 60,
   "metadata": {},
   "outputs": [
    {
     "name": "stdout",
     "output_type": "stream",
     "text": [
      "13 test_2\r\n"
     ]
    }
   ],
   "source": [
    "!wc -l test_2"
   ]
  },
  {
   "cell_type": "code",
   "execution_count": 63,
   "metadata": {},
   "outputs": [
    {
     "name": "stdout",
     "output_type": "stream",
     "text": [
      "vova\r\n",
      "mish\r\n",
      "grish"
     ]
    }
   ],
   "source": [
    "cat untitled.txt"
   ]
  },
  {
   "cell_type": "code",
   "execution_count": 66,
   "metadata": {},
   "outputs": [
    {
     "data": {
      "text/plain": [
       "u'/home/amtsurkov/github/team22/users/amtsurkov/lesson_6'"
      ]
     },
     "execution_count": 66,
     "metadata": {},
     "output_type": "execute_result"
    }
   ],
   "source": [
    "pwd"
   ]
  },
  {
   "cell_type": "code",
   "execution_count": 72,
   "metadata": {},
   "outputs": [
    {
     "name": "stdout",
     "output_type": "stream",
     "text": [
      "      1 \r\n",
      "      6 Oct\r\n",
      "      7 Sep\r\n"
     ]
    }
   ],
   "source": [
    "ls -la | awk '{print $6}' | sort | uniq -c"
   ]
  },
  {
   "cell_type": "code",
   "execution_count": 73,
   "metadata": {},
   "outputs": [
    {
     "name": "stdout",
     "output_type": "stream",
     "text": [
      "total 64\r\n",
      "drwxr-xr-x 3 amtsurkov education  4096 Oct  5 19:27 \u001b[0m\u001b[01;34m.\u001b[0m/\r\n",
      "drwxr-xr-x 6 amtsurkov education  4096 Oct  5 19:32 \u001b[01;34m..\u001b[0m/\r\n",
      "-rw-r--r-- 1 amtsurkov education     0 Sep 25 19:46 1_copy.txt\r\n",
      "-rw-r--r-- 1 amtsurkov education    11 Sep 25 19:48 1_copy_v3.txt\r\n",
      "-rw-r--r-- 1 amtsurkov education    11 Sep 25 19:46 1.txt\r\n",
      "-rw-r--r-- 1 amtsurkov education  8016 Sep 25 20:32 2.txt\r\n",
      "-rw-r--r-- 1 amtsurkov education     8 Sep 25 20:32 3.txt\r\n",
      "-rw-r--r-- 1 amtsurkov education    28 Sep 27 19:38 4.txt\r\n",
      "-rw-r--r-- 1 amtsurkov education  1190 Sep 25 20:43 5.txt\r\n",
      "drwxr-xr-x 2 amtsurkov education  4096 Oct  5 19:17 \u001b[01;34mtest\u001b[0m/\r\n",
      "-rw-r--r-- 1 amtsurkov education 13160 Oct  5 19:26 test_1\r\n",
      "-rw-r--r-- 1 amtsurkov education  1421 Oct  5 19:26 test_2\r\n",
      "-rw-r--r-- 1 amtsurkov education    15 Oct  5 19:27 untitled.txt\r\n"
     ]
    }
   ],
   "source": [
    "ls -la"
   ]
  },
  {
   "cell_type": "code",
   "execution_count": 74,
   "metadata": {},
   "outputs": [
    {
     "name": "stdout",
     "output_type": "stream",
     "text": [
      "\r\n",
      "Oct\r\n",
      "Oct\r\n",
      "Sep\r\n",
      "Sep\r\n",
      "Sep\r\n",
      "Sep\r\n",
      "Sep\r\n",
      "Sep\r\n",
      "Sep\r\n",
      "Oct\r\n",
      "Oct\r\n",
      "Oct\r\n",
      "Oct\r\n"
     ]
    }
   ],
   "source": [
    "ls -la | awk '{print $6}'"
   ]
  },
  {
   "cell_type": "code",
   "execution_count": 75,
   "metadata": {},
   "outputs": [
    {
     "name": "stdout",
     "output_type": "stream",
     "text": [
      "\r\n",
      "Oct\r\n",
      "Oct\r\n",
      "Oct\r\n",
      "Oct\r\n",
      "Oct\r\n",
      "Oct\r\n",
      "Sep\r\n",
      "Sep\r\n",
      "Sep\r\n",
      "Sep\r\n",
      "Sep\r\n",
      "Sep\r\n",
      "Sep\r\n"
     ]
    }
   ],
   "source": [
    "ls -la | awk '{print $6}' | sort "
   ]
  },
  {
   "cell_type": "code",
   "execution_count": 77,
   "metadata": {},
   "outputs": [
    {
     "name": "stdout",
     "output_type": "stream",
     "text": [
      "\r\n",
      "Oct\r\n",
      "Sep\r\n"
     ]
    }
   ],
   "source": [
    "ls -la | awk '{print $6}' | sort | uniq"
   ]
  },
  {
   "cell_type": "code",
   "execution_count": 78,
   "metadata": {},
   "outputs": [
    {
     "name": "stdout",
     "output_type": "stream",
     "text": [
      "      1 \r\n",
      "      6 Oct\r\n",
      "      7 Sep\r\n"
     ]
    }
   ],
   "source": [
    "ls -la | awk '{print $6}' | sort | uniq -c"
   ]
  },
  {
   "cell_type": "code",
   "execution_count": null,
   "metadata": {},
   "outputs": [],
   "source": []
  },
  {
   "cell_type": "code",
   "execution_count": 32,
   "metadata": {},
   "outputs": [
    {
     "name": "stdout",
     "output_type": "stream",
     "text": [
      "mv: cannot stat '1_copy_v2.txt': No such file or directory\r\n"
     ]
    }
   ],
   "source": [
    "!mv 1_copy_v2.txt 1_copy_v3.txt"
   ]
  },
  {
   "cell_type": "code",
   "execution_count": null,
   "metadata": {},
   "outputs": [],
   "source": [
    "ls -la"
   ]
  },
  {
   "cell_type": "code",
   "execution_count": null,
   "metadata": {},
   "outputs": [],
   "source": [
    "pwd"
   ]
  },
  {
   "cell_type": "code",
   "execution_count": null,
   "metadata": {},
   "outputs": [],
   "source": [
    "cd .."
   ]
  },
  {
   "cell_type": "code",
   "execution_count": null,
   "metadata": {},
   "outputs": [],
   "source": [
    "mkdir lesson_6_v2"
   ]
  },
  {
   "cell_type": "code",
   "execution_count": null,
   "metadata": {},
   "outputs": [],
   "source": [
    "ls -la "
   ]
  },
  {
   "cell_type": "code",
   "execution_count": null,
   "metadata": {},
   "outputs": [],
   "source": [
    "ls -la  lesson_6/"
   ]
  },
  {
   "cell_type": "code",
   "execution_count": null,
   "metadata": {},
   "outputs": [],
   "source": [
    "ls -la  lesson_6/1.txt"
   ]
  },
  {
   "cell_type": "code",
   "execution_count": null,
   "metadata": {},
   "outputs": [],
   "source": [
    "!cat lesson_6/1.txt"
   ]
  },
  {
   "cell_type": "code",
   "execution_count": null,
   "metadata": {},
   "outputs": [],
   "source": [
    "!ls -la lesson_6_v2/"
   ]
  },
  {
   "cell_type": "code",
   "execution_count": null,
   "metadata": {},
   "outputs": [],
   "source": [
    "!cp lesson_6/1.txt lesson_6_v2/ "
   ]
  },
  {
   "cell_type": "code",
   "execution_count": null,
   "metadata": {},
   "outputs": [],
   "source": [
    "!ls -la lesson_6_v2/"
   ]
  },
  {
   "cell_type": "code",
   "execution_count": null,
   "metadata": {},
   "outputs": [],
   "source": [
    "!cp lesson_6/1.txt lesson_6_v2/1_copy_v4.txt"
   ]
  },
  {
   "cell_type": "code",
   "execution_count": null,
   "metadata": {},
   "outputs": [],
   "source": [
    "!ls -la lesson_6_v2/"
   ]
  },
  {
   "cell_type": "code",
   "execution_count": null,
   "metadata": {},
   "outputs": [],
   "source": [
    "ls -la"
   ]
  },
  {
   "cell_type": "code",
   "execution_count": null,
   "metadata": {
    "scrolled": true
   },
   "outputs": [],
   "source": [
    "cd .."
   ]
  },
  {
   "cell_type": "code",
   "execution_count": null,
   "metadata": {},
   "outputs": [],
   "source": [
    "ls -la"
   ]
  },
  {
   "cell_type": "code",
   "execution_count": null,
   "metadata": {},
   "outputs": [],
   "source": [
    "!mkdir test"
   ]
  },
  {
   "cell_type": "code",
   "execution_count": null,
   "metadata": {},
   "outputs": [],
   "source": [
    "cd test"
   ]
  },
  {
   "cell_type": "code",
   "execution_count": null,
   "metadata": {},
   "outputs": [],
   "source": [
    "pwd"
   ]
  },
  {
   "cell_type": "code",
   "execution_count": null,
   "metadata": {},
   "outputs": [],
   "source": [
    "cd /"
   ]
  },
  {
   "cell_type": "code",
   "execution_count": null,
   "metadata": {},
   "outputs": [],
   "source": [
    "pwd"
   ]
  },
  {
   "cell_type": "code",
   "execution_count": null,
   "metadata": {},
   "outputs": [],
   "source": [
    "ls -la "
   ]
  },
  {
   "cell_type": "code",
   "execution_count": null,
   "metadata": {},
   "outputs": [],
   "source": [
    "cd /home/amtsurkov/github/team22/users/test"
   ]
  },
  {
   "cell_type": "code",
   "execution_count": null,
   "metadata": {},
   "outputs": [],
   "source": [
    "cp /home/amtsurkov/github/team22/users/amtsurkov/lesson_6/1.txt /home/amtsurkov/github/team22/users/amtsurkov/lesson_6_v2/1_copy_v5.txt"
   ]
  },
  {
   "cell_type": "code",
   "execution_count": null,
   "metadata": {},
   "outputs": [],
   "source": [
    "ls -la /home/amtsurkov/github/team22/users/amtsurkov/lesson_6_v2/"
   ]
  },
  {
   "cell_type": "code",
   "execution_count": null,
   "metadata": {},
   "outputs": [],
   "source": [
    "rm /home/amtsurkov/github/team22/users/amtsurkov/lesson_6_v2/1_copy_v5.txt"
   ]
  },
  {
   "cell_type": "code",
   "execution_count": null,
   "metadata": {},
   "outputs": [],
   "source": [
    "ls -la /home/amtsurkov/github/team22/users/amtsurkov/lesson_6_v2/"
   ]
  },
  {
   "cell_type": "code",
   "execution_count": null,
   "metadata": {},
   "outputs": [],
   "source": []
  },
  {
   "cell_type": "code",
   "execution_count": null,
   "metadata": {},
   "outputs": [],
   "source": []
  },
  {
   "cell_type": "code",
   "execution_count": null,
   "metadata": {},
   "outputs": [],
   "source": [
    "# PYTHON\n",
    "#открытие запись чтение перемещение"
   ]
  },
  {
   "cell_type": "code",
   "execution_count": null,
   "metadata": {},
   "outputs": [],
   "source": [
    "pwd"
   ]
  },
  {
   "cell_type": "code",
   "execution_count": 79,
   "metadata": {},
   "outputs": [
    {
     "name": "stdout",
     "output_type": "stream",
     "text": [
      "/home/amtsurkov/github/team22/users/amtsurkov/lesson_6\n"
     ]
    }
   ],
   "source": [
    "cd /home/amtsurkov/github/team22/users/amtsurkov/lesson_6/"
   ]
  },
  {
   "cell_type": "code",
   "execution_count": null,
   "metadata": {},
   "outputs": [],
   "source": [
    "pwd"
   ]
  },
  {
   "cell_type": "code",
   "execution_count": 80,
   "metadata": {},
   "outputs": [],
   "source": [
    "file_descition = open('1.txt', 'r')"
   ]
  },
  {
   "cell_type": "code",
   "execution_count": 81,
   "metadata": {},
   "outputs": [],
   "source": [
    "p1 = file_descition.read(5)"
   ]
  },
  {
   "cell_type": "code",
   "execution_count": 82,
   "metadata": {},
   "outputs": [
    {
     "data": {
      "text/plain": [
       "'Hello'"
      ]
     },
     "execution_count": 82,
     "metadata": {},
     "output_type": "execute_result"
    }
   ],
   "source": [
    "p1"
   ]
  },
  {
   "cell_type": "code",
   "execution_count": 83,
   "metadata": {},
   "outputs": [
    {
     "name": "stdout",
     "output_type": "stream",
     "text": [
      "Hello world"
     ]
    }
   ],
   "source": [
    "cat 1.txt"
   ]
  },
  {
   "cell_type": "code",
   "execution_count": 84,
   "metadata": {},
   "outputs": [],
   "source": [
    "p2 = file_descition.read(5)"
   ]
  },
  {
   "cell_type": "code",
   "execution_count": 85,
   "metadata": {},
   "outputs": [
    {
     "data": {
      "text/plain": [
       "' worl'"
      ]
     },
     "execution_count": 85,
     "metadata": {},
     "output_type": "execute_result"
    }
   ],
   "source": [
    "p2"
   ]
  },
  {
   "cell_type": "code",
   "execution_count": 86,
   "metadata": {},
   "outputs": [],
   "source": [
    "p3 = file_descition.read(5)"
   ]
  },
  {
   "cell_type": "code",
   "execution_count": 87,
   "metadata": {},
   "outputs": [
    {
     "data": {
      "text/plain": [
       "'d'"
      ]
     },
     "execution_count": 87,
     "metadata": {},
     "output_type": "execute_result"
    }
   ],
   "source": [
    "p3"
   ]
  },
  {
   "cell_type": "code",
   "execution_count": null,
   "metadata": {},
   "outputs": [],
   "source": [
    "p4 = file_descition.read(5)"
   ]
  },
  {
   "cell_type": "code",
   "execution_count": null,
   "metadata": {},
   "outputs": [],
   "source": [
    "p4"
   ]
  },
  {
   "cell_type": "code",
   "execution_count": null,
   "metadata": {},
   "outputs": [],
   "source": [
    "file_descition.close()"
   ]
  },
  {
   "cell_type": "code",
   "execution_count": null,
   "metadata": {},
   "outputs": [],
   "source": [
    "#Hello world"
   ]
  },
  {
   "cell_type": "code",
   "execution_count": 97,
   "metadata": {},
   "outputs": [],
   "source": [
    "file_descition_2 = open('1.txt', 'r')"
   ]
  },
  {
   "cell_type": "code",
   "execution_count": 98,
   "metadata": {},
   "outputs": [],
   "source": [
    "p1 = file_descition_2.read(1)"
   ]
  },
  {
   "cell_type": "code",
   "execution_count": 99,
   "metadata": {},
   "outputs": [
    {
     "data": {
      "text/plain": [
       "'H'"
      ]
     },
     "execution_count": 99,
     "metadata": {},
     "output_type": "execute_result"
    }
   ],
   "source": [
    "p1"
   ]
  },
  {
   "cell_type": "code",
   "execution_count": 100,
   "metadata": {},
   "outputs": [],
   "source": [
    "p2 = file_descition_2.read(6)"
   ]
  },
  {
   "cell_type": "code",
   "execution_count": 101,
   "metadata": {},
   "outputs": [
    {
     "data": {
      "text/plain": [
       "'H'"
      ]
     },
     "execution_count": 101,
     "metadata": {},
     "output_type": "execute_result"
    }
   ],
   "source": [
    "p1"
   ]
  },
  {
   "cell_type": "code",
   "execution_count": 102,
   "metadata": {},
   "outputs": [
    {
     "data": {
      "text/plain": [
       "'ello w'"
      ]
     },
     "execution_count": 102,
     "metadata": {},
     "output_type": "execute_result"
    }
   ],
   "source": [
    "p2"
   ]
  },
  {
   "cell_type": "code",
   "execution_count": null,
   "metadata": {},
   "outputs": [],
   "source": [
    "#Hello w<!>orld"
   ]
  },
  {
   "cell_type": "code",
   "execution_count": 93,
   "metadata": {},
   "outputs": [],
   "source": [
    "file_descition_2.seek(3)"
   ]
  },
  {
   "cell_type": "code",
   "execution_count": null,
   "metadata": {},
   "outputs": [],
   "source": [
    "#Hel<!>lo world"
   ]
  },
  {
   "cell_type": "code",
   "execution_count": 94,
   "metadata": {},
   "outputs": [],
   "source": [
    "p3 = file_descition_2.read(6)"
   ]
  },
  {
   "cell_type": "code",
   "execution_count": null,
   "metadata": {},
   "outputs": [],
   "source": [
    "#Hello wor<!>ld"
   ]
  },
  {
   "cell_type": "code",
   "execution_count": 95,
   "metadata": {},
   "outputs": [
    {
     "data": {
      "text/plain": [
       "'lo wor'"
      ]
     },
     "execution_count": 95,
     "metadata": {},
     "output_type": "execute_result"
    }
   ],
   "source": [
    "p3"
   ]
  },
  {
   "cell_type": "code",
   "execution_count": null,
   "metadata": {},
   "outputs": [],
   "source": [
    "#Hello world"
   ]
  },
  {
   "cell_type": "code",
   "execution_count": 103,
   "metadata": {},
   "outputs": [
    {
     "name": "stdout",
     "output_type": "stream",
     "text": [
      "Help on file object:\n",
      "\n",
      "class file(object)\n",
      " |  file(name[, mode[, buffering]]) -> file object\n",
      " |  \n",
      " |  Open a file.  The mode can be 'r', 'w' or 'a' for reading (default),\n",
      " |  writing or appending.  The file will be created if it doesn't exist\n",
      " |  when opened for writing or appending; it will be truncated when\n",
      " |  opened for writing.  Add a 'b' to the mode for binary files.\n",
      " |  Add a '+' to the mode to allow simultaneous reading and writing.\n",
      " |  If the buffering argument is given, 0 means unbuffered, 1 means line\n",
      " |  buffered, and larger numbers specify the buffer size.  The preferred way\n",
      " |  to open a file is with the builtin open() function.\n",
      " |  Add a 'U' to mode to open the file for input with universal newline\n",
      " |  support.  Any line ending in the input file will be seen as a '\\n'\n",
      " |  in Python.  Also, a file so opened gains the attribute 'newlines';\n",
      " |  the value for this attribute is one of None (no newline read yet),\n",
      " |  '\\r', '\\n', '\\r\\n' or a tuple containing all the newline types seen.\n",
      " |  \n",
      " |  'U' cannot be combined with 'w' or '+' mode.\n",
      " |  \n",
      " |  Methods defined here:\n",
      " |  \n",
      " |  __delattr__(...)\n",
      " |      x.__delattr__('name') <==> del x.name\n",
      " |  \n",
      " |  __enter__(...)\n",
      " |      __enter__() -> self.\n",
      " |  \n",
      " |  __exit__(...)\n",
      " |      __exit__(*excinfo) -> None.  Closes the file.\n",
      " |  \n",
      " |  __getattribute__(...)\n",
      " |      x.__getattribute__('name') <==> x.name\n",
      " |  \n",
      " |  __init__(...)\n",
      " |      x.__init__(...) initializes x; see help(type(x)) for signature\n",
      " |  \n",
      " |  __iter__(...)\n",
      " |      x.__iter__() <==> iter(x)\n",
      " |  \n",
      " |  __repr__(...)\n",
      " |      x.__repr__() <==> repr(x)\n",
      " |  \n",
      " |  __setattr__(...)\n",
      " |      x.__setattr__('name', value) <==> x.name = value\n",
      " |  \n",
      " |  close(...)\n",
      " |      close() -> None or (perhaps) an integer.  Close the file.\n",
      " |      \n",
      " |      Sets data attribute .closed to True.  A closed file cannot be used for\n",
      " |      further I/O operations.  close() may be called more than once without\n",
      " |      error.  Some kinds of file objects (for example, opened by popen())\n",
      " |      may return an exit status upon closing.\n",
      " |  \n",
      " |  fileno(...)\n",
      " |      fileno() -> integer \"file descriptor\".\n",
      " |      \n",
      " |      This is needed for lower-level file interfaces, such os.read().\n",
      " |  \n",
      " |  flush(...)\n",
      " |      flush() -> None.  Flush the internal I/O buffer.\n",
      " |  \n",
      " |  isatty(...)\n",
      " |      isatty() -> true or false.  True if the file is connected to a tty device.\n",
      " |  \n",
      " |  next(...)\n",
      " |      x.next() -> the next value, or raise StopIteration\n",
      " |  \n",
      " |  read(...)\n",
      " |      read([size]) -> read at most size bytes, returned as a string.\n",
      " |      \n",
      " |      If the size argument is negative or omitted, read until EOF is reached.\n",
      " |      Notice that when in non-blocking mode, less data than what was requested\n",
      " |      may be returned, even if no size parameter was given.\n",
      " |  \n",
      " |  readinto(...)\n",
      " |      readinto() -> Undocumented.  Don't use this; it may go away.\n",
      " |  \n",
      " |  readline(...)\n",
      " |      readline([size]) -> next line from the file, as a string.\n",
      " |      \n",
      " |      Retain newline.  A non-negative size argument limits the maximum\n",
      " |      number of bytes to return (an incomplete line may be returned then).\n",
      " |      Return an empty string at EOF.\n",
      " |  \n",
      " |  readlines(...)\n",
      " |      readlines([size]) -> list of strings, each a line from the file.\n",
      " |      \n",
      " |      Call readline() repeatedly and return a list of the lines so read.\n",
      " |      The optional size argument, if given, is an approximate bound on the\n",
      " |      total number of bytes in the lines returned.\n",
      " |  \n",
      " |  seek(...)\n",
      " |      seek(offset[, whence]) -> None.  Move to new file position.\n",
      " |      \n",
      " |      Argument offset is a byte count.  Optional argument whence defaults to\n",
      " |      0 (offset from start of file, offset should be >= 0); other values are 1\n",
      " |      (move relative to current position, positive or negative), and 2 (move\n",
      " |      relative to end of file, usually negative, although many platforms allow\n",
      " |      seeking beyond the end of a file).  If the file is opened in text mode,\n",
      " |      only offsets returned by tell() are legal.  Use of other offsets causes\n",
      " |      undefined behavior.\n",
      " |      Note that not all file objects are seekable.\n",
      " |  \n",
      " |  tell(...)\n",
      " |      tell() -> current file position, an integer (may be a long integer).\n",
      " |  \n",
      " |  truncate(...)\n",
      " |      truncate([size]) -> None.  Truncate the file to at most size bytes.\n",
      " |      \n",
      " |      Size defaults to the current file position, as returned by tell().\n",
      " |  \n",
      " |  write(...)\n",
      " |      write(str) -> None.  Write string str to file.\n",
      " |      \n",
      " |      Note that due to buffering, flush() or close() may be needed before\n",
      " |      the file on disk reflects the data written.\n",
      " |  \n",
      " |  writelines(...)\n",
      " |      writelines(sequence_of_strings) -> None.  Write the strings to the file.\n",
      " |      \n",
      " |      Note that newlines are not added.  The sequence can be any iterable object\n",
      " |      producing strings. This is equivalent to calling write() for each string.\n",
      " |  \n",
      " |  xreadlines(...)\n",
      " |      xreadlines() -> returns self.\n",
      " |      \n",
      " |      For backward compatibility. File objects now include the performance\n",
      " |      optimizations previously implemented in the xreadlines module.\n",
      " |  \n",
      " |  ----------------------------------------------------------------------\n",
      " |  Data descriptors defined here:\n",
      " |  \n",
      " |  closed\n",
      " |      True if the file is closed\n",
      " |  \n",
      " |  encoding\n",
      " |      file encoding\n",
      " |  \n",
      " |  errors\n",
      " |      Unicode error handler\n",
      " |  \n",
      " |  mode\n",
      " |      file mode ('r', 'U', 'w', 'a', possibly with 'b' or '+' added)\n",
      " |  \n",
      " |  name\n",
      " |      file name\n",
      " |  \n",
      " |  newlines\n",
      " |      end-of-line convention used in this file\n",
      " |  \n",
      " |  softspace\n",
      " |      flag indicating that a space needs to be printed; used by print\n",
      " |  \n",
      " |  ----------------------------------------------------------------------\n",
      " |  Data and other attributes defined here:\n",
      " |  \n",
      " |  __new__ = <built-in method __new__ of type object>\n",
      " |      T.__new__(S, ...) -> a new object with type S, a subtype of T\n",
      "\n"
     ]
    }
   ],
   "source": [
    "help(file_descition_2)"
   ]
  },
  {
   "cell_type": "code",
   "execution_count": 104,
   "metadata": {},
   "outputs": [
    {
     "data": {
      "text/plain": [
       "7"
      ]
     },
     "execution_count": 104,
     "metadata": {},
     "output_type": "execute_result"
    }
   ],
   "source": [
    "file_descition_2.tell()"
   ]
  },
  {
   "cell_type": "code",
   "execution_count": null,
   "metadata": {},
   "outputs": [],
   "source": [
    "file_descition_2.seek(0)"
   ]
  },
  {
   "cell_type": "code",
   "execution_count": null,
   "metadata": {},
   "outputs": [],
   "source": [
    "p4 = file_descition_2.read(3)"
   ]
  },
  {
   "cell_type": "code",
   "execution_count": null,
   "metadata": {},
   "outputs": [],
   "source": [
    "p4"
   ]
  },
  {
   "cell_type": "code",
   "execution_count": null,
   "metadata": {},
   "outputs": [],
   "source": [
    "#Hello world\n",
    "#wor"
   ]
  },
  {
   "cell_type": "code",
   "execution_count": 105,
   "metadata": {},
   "outputs": [],
   "source": [
    "file_descition_2.close()"
   ]
  },
  {
   "cell_type": "code",
   "execution_count": null,
   "metadata": {},
   "outputs": [],
   "source": [
    "# записиь в фаил"
   ]
  },
  {
   "cell_type": "code",
   "execution_count": null,
   "metadata": {},
   "outputs": [],
   "source": [
    "file_write = open('2.txt', 'w')"
   ]
  },
  {
   "cell_type": "code",
   "execution_count": null,
   "metadata": {},
   "outputs": [],
   "source": [
    "file_write.write('la la la')"
   ]
  },
  {
   "cell_type": "code",
   "execution_count": null,
   "metadata": {},
   "outputs": [],
   "source": [
    "file_write.write('la la la')"
   ]
  },
  {
   "cell_type": "code",
   "execution_count": null,
   "metadata": {},
   "outputs": [],
   "source": [
    "file_write.write('la la la'*1000)"
   ]
  },
  {
   "cell_type": "code",
   "execution_count": null,
   "metadata": {},
   "outputs": [],
   "source": [
    "file_write.close()"
   ]
  },
  {
   "cell_type": "code",
   "execution_count": null,
   "metadata": {},
   "outputs": [],
   "source": []
  },
  {
   "cell_type": "code",
   "execution_count": null,
   "metadata": {},
   "outputs": [],
   "source": [
    "file_write = open('3.txt', 'w')"
   ]
  },
  {
   "cell_type": "code",
   "execution_count": null,
   "metadata": {},
   "outputs": [],
   "source": [
    "file_write.write('la la la')"
   ]
  },
  {
   "cell_type": "code",
   "execution_count": null,
   "metadata": {},
   "outputs": [],
   "source": [
    "file_write.close()"
   ]
  },
  {
   "cell_type": "code",
   "execution_count": null,
   "metadata": {},
   "outputs": [],
   "source": [
    "!cat 3.txt"
   ]
  },
  {
   "cell_type": "code",
   "execution_count": null,
   "metadata": {},
   "outputs": [],
   "source": []
  },
  {
   "cell_type": "code",
   "execution_count": null,
   "metadata": {},
   "outputs": [],
   "source": [
    "text = 'lesson 6'"
   ]
  },
  {
   "cell_type": "code",
   "execution_count": null,
   "metadata": {},
   "outputs": [],
   "source": [
    "list_1 = [1,2,3,4]"
   ]
  },
  {
   "cell_type": "code",
   "execution_count": null,
   "metadata": {},
   "outputs": [],
   "source": [
    "number = 17"
   ]
  },
  {
   "cell_type": "code",
   "execution_count": null,
   "metadata": {},
   "outputs": [],
   "source": [
    "file_write = open('4.txt', 'w')"
   ]
  },
  {
   "cell_type": "code",
   "execution_count": null,
   "metadata": {},
   "outputs": [],
   "source": [
    "file_write.write(text)"
   ]
  },
  {
   "cell_type": "code",
   "execution_count": null,
   "metadata": {},
   "outputs": [],
   "source": [
    "file_write.write(number)"
   ]
  },
  {
   "cell_type": "code",
   "execution_count": null,
   "metadata": {},
   "outputs": [],
   "source": [
    "file_write.write(list_1)"
   ]
  },
  {
   "cell_type": "code",
   "execution_count": null,
   "metadata": {},
   "outputs": [],
   "source": [
    "file_write.close()"
   ]
  },
  {
   "cell_type": "code",
   "execution_count": null,
   "metadata": {},
   "outputs": [],
   "source": [
    "file_read = open('lesson_6/4.txt', 'r')"
   ]
  },
  {
   "cell_type": "code",
   "execution_count": null,
   "metadata": {},
   "outputs": [],
   "source": [
    "line = file_read.readline()"
   ]
  },
  {
   "cell_type": "code",
   "execution_count": null,
   "metadata": {},
   "outputs": [],
   "source": [
    "line"
   ]
  },
  {
   "cell_type": "code",
   "execution_count": null,
   "metadata": {},
   "outputs": [],
   "source": []
  },
  {
   "cell_type": "code",
   "execution_count": null,
   "metadata": {},
   "outputs": [],
   "source": [
    "file_write = open('5.txt', 'w')"
   ]
  },
  {
   "cell_type": "code",
   "execution_count": null,
   "metadata": {},
   "outputs": [],
   "source": [
    "line_1 = 'open file '"
   ]
  },
  {
   "cell_type": "code",
   "execution_count": null,
   "metadata": {},
   "outputs": [],
   "source": [
    "for i in range(100):\n",
    "    file_write.write(line_1)\n",
    "    file_write.write(str(i))\n",
    "    "
   ]
  },
  {
   "cell_type": "code",
   "execution_count": null,
   "metadata": {},
   "outputs": [],
   "source": [
    "file_write.close()"
   ]
  },
  {
   "cell_type": "code",
   "execution_count": null,
   "metadata": {},
   "outputs": [],
   "source": [
    "!cat 5.txt"
   ]
  },
  {
   "cell_type": "code",
   "execution_count": null,
   "metadata": {},
   "outputs": [],
   "source": [
    "file_read = open('5.txt', 'r')"
   ]
  },
  {
   "cell_type": "code",
   "execution_count": null,
   "metadata": {},
   "outputs": [],
   "source": [
    "for i in range(10):\n",
    "    print(i, file_read.read(5) )"
   ]
  },
  {
   "cell_type": "code",
   "execution_count": null,
   "metadata": {},
   "outputs": [],
   "source": [
    "file_read.close()"
   ]
  },
  {
   "cell_type": "code",
   "execution_count": null,
   "metadata": {},
   "outputs": [],
   "source": []
  },
  {
   "cell_type": "code",
   "execution_count": null,
   "metadata": {},
   "outputs": [],
   "source": [
    "# дан 1 большой фаил, размером 100 гигобайт"
   ]
  },
  {
   "cell_type": "code",
   "execution_count": null,
   "metadata": {},
   "outputs": [],
   "source": [
    "# нужно отосортировать этот файил по симовольн и потом вывести на экран"
   ]
  },
  {
   "cell_type": "code",
   "execution_count": null,
   "metadata": {},
   "outputs": [],
   "source": [
    "# есть одно ограничение опретаинвой памяит 120 гигобайт"
   ]
  },
  {
   "cell_type": "code",
   "execution_count": null,
   "metadata": {},
   "outputs": [],
   "source": [
    "#Иван пошел на войну"
   ]
  },
  {
   "cell_type": "code",
   "execution_count": null,
   "metadata": {},
   "outputs": [],
   "source": [
    "#ааввеий.."
   ]
  }
 ],
 "metadata": {
  "kernelspec": {
   "display_name": "Python 2",
   "language": "python",
   "name": "python2"
  },
  "language_info": {
   "codemirror_mode": {
    "name": "ipython",
    "version": 2
   },
   "file_extension": ".py",
   "mimetype": "text/x-python",
   "name": "python",
   "nbconvert_exporter": "python",
   "pygments_lexer": "ipython2",
   "version": "2.7.12"
  }
 },
 "nbformat": 4,
 "nbformat_minor": 2
}
