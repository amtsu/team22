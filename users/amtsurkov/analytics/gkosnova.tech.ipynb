{
 "cells": [
  {
   "cell_type": "code",
   "execution_count": 1,
   "id": "670bdc20-54bc-4127-a0a2-4bf70b32011e",
   "metadata": {},
   "outputs": [],
   "source": [
    "#https://api.gkosnova.tech/public/api/v1/building-objects/14/properties?detail=1"
   ]
  },
  {
   "cell_type": "code",
   "execution_count": 1,
   "id": "f6086c7f-0cd7-491f-a29e-8156bb27b66c",
   "metadata": {},
   "outputs": [],
   "source": [
    "#dir(list)"
   ]
  },
  {
   "cell_type": "code",
   "execution_count": 3,
   "id": "de9c5a45-b988-4efd-8ec8-c98df67636e5",
   "metadata": {},
   "outputs": [],
   "source": [
    "!curl https://api.gkosnova.tech/public/api/v1/building-objects/14/properties?detail=1"
   ]
  },
  {
   "cell_type": "code",
   "execution_count": null,
   "id": "33329721-caa3-4d54-be3d-4c12f8167f31",
   "metadata": {},
   "outputs": [],
   "source": []
  }
 ],
 "metadata": {
  "kernelspec": {
   "display_name": "Python 3 (ipykernel)",
   "language": "python",
   "name": "python3"
  },
  "language_info": {
   "codemirror_mode": {
    "name": "ipython",
    "version": 3
   },
   "file_extension": ".py",
   "mimetype": "text/x-python",
   "name": "python",
   "nbconvert_exporter": "python",
   "pygments_lexer": "ipython3",
   "version": "3.10.10"
  }
 },
 "nbformat": 4,
 "nbformat_minor": 5
}
