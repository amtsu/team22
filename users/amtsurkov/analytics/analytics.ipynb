{
 "cells": [
  {
   "cell_type": "markdown",
   "id": "cc03c034-2bbd-4206-89e4-5907152ad8e8",
   "metadata": {},
   "source": [
    "# Аналитика по недвижимости"
   ]
  },
  {
   "cell_type": "code",
   "execution_count": 1,
   "id": "ef1fc7e3-2af2-4e4d-a09f-ca58a4ac78aa",
   "metadata": {},
   "outputs": [],
   "source": [
    "#https://t.me/+VwkCKFZn8gpjY2Qy"
   ]
  },
  {
   "cell_type": "raw",
   "id": "cb50da76-7173-4442-b520-207a70fa9617",
   "metadata": {},
   "source": [
    "ssh jupyter-amtsu@62.109.12.193\n",
    "sqlite3 /home/jupyter-amtsu/project/price_alert/db.sqlite3\n",
    "DROP TABLE copied;\n",
    "CREATE TABLE copied AS SELECT id, title, price, price_sale, datetime_create, category, brand, url, apartment_area, apartment_floor, apartment_floors_total, apartment_room, apartment_ppm FROM products_history WHERE category = \"Новостройки\" or category = \"Реновация\";\n",
    ".output /home/jupyter-amtsu/project/price_alert/24.db.copied.sqlite3\n",
    ".dump copied\n",
    ".exit\n",
    "exit\n",
    "\n",
    "scp   jupyter-amtsu@62.109.12.193:/home/jupyter-amtsu/project/price_alert/24.db.copied.sqlite3  synchronize_data@94.250.254.32:/home/synchronize_data/price_analytics/24.db.copied.sqlite3\n",
    "\n",
    "ssh synchronize_data@94.250.254.32\n",
    "sqlite3 price_analytics/24.db.copied\n",
    "DROP TABLE copied;\n",
    ".read /home/synchronize_data/price_analytics/24.db.copied.sqlite3\n",
    ".exit\n",
    "exit\n",
    "\n"
   ]
  },
  {
   "cell_type": "code",
   "execution_count": null,
   "id": "ce3ac7fd-6050-4e63-b043-a7eb22b88042",
   "metadata": {},
   "outputs": [],
   "source": []
  },
  {
   "cell_type": "markdown",
   "id": "896af82e-76e0-4888-8195-a27f816609cb",
   "metadata": {},
   "source": [
    "# удалить дубли их исходной таблицы - часть дублей связана с тем что пр и удадении дага и его создании он нчанеит работаь с даты пропсиагной в файде, НО есть часть данных котрые должны быть задублированы "
   ]
  },
  {
   "cell_type": "code",
   "execution_count": 2,
   "id": "21d00c8d-cda5-4fc0-b636-4f3b2eb74a54",
   "metadata": {},
   "outputs": [
    {
     "data": {
      "text/plain": [
       "2"
      ]
     },
     "execution_count": 2,
     "metadata": {},
     "output_type": "execute_result"
    }
   ],
   "source": [
    "1+1"
   ]
  },
  {
   "cell_type": "code",
   "execution_count": 3,
   "id": "58c75ef8-07e6-4b20-85f3-c21f6c72c9e3",
   "metadata": {},
   "outputs": [
    {
     "name": "stderr",
     "output_type": "stream",
     "text": [
      "/tmp/ipykernel_2022823/4149783573.py:1: DeprecationWarning: \n",
      "Pyarrow will become a required dependency of pandas in the next major release of pandas (pandas 3.0),\n",
      "(to allow more performant data types, such as the Arrow string type, and better interoperability with other libraries)\n",
      "but was not found to be installed on your system.\n",
      "If this would cause problems for you,\n",
      "please provide us feedback at https://github.com/pandas-dev/pandas/issues/54466\n",
      "        \n",
      "  import pandas as pd\n"
     ]
    }
   ],
   "source": [
    "import pandas as pd\n",
    "import matplotlib.pyplot as plt\n",
    "from sklearn.linear_model import LinearRegression\n",
    "import sqlite3\n",
    "import json\n",
    "import seaborn\n",
    "\n",
    "# Сброс ограничений на количество выводимых рядов\n",
    "pd.set_option('display.max_rows', None)\n",
    " \n",
    "# Сброс ограничений на число столбцов\n",
    "pd.set_option('display.max_columns', None)\n",
    " \n",
    "# Сброс ограничений на количество символов в записи\n",
    "pd.set_option('display.max_colwidth', None)"
   ]
  },
  {
   "cell_type": "code",
   "execution_count": 4,
   "id": "f8dc9f41-af96-4ea2-aa29-b1177d7217d9",
   "metadata": {},
   "outputs": [],
   "source": [
    "import datetime"
   ]
  },
  {
   "cell_type": "code",
   "execution_count": 5,
   "id": "54e6a89b-c2d5-47cd-9a8e-58f0e60cb1e8",
   "metadata": {},
   "outputs": [
    {
     "name": "stdout",
     "output_type": "stream",
     "text": [
      "-rw-r--r-- 1 synchronize_data synchronize_data 41444753408 Feb 20 15:23 /home/synchronize_data/price_analytics/db.sqlite3\n"
     ]
    }
   ],
   "source": [
    "!ls -la /home/synchronize_data/price_analytics/db.sqlite3"
   ]
  },
  {
   "cell_type": "code",
   "execution_count": 6,
   "id": "b8394d80-e4d8-4cb2-802c-4e794248a9d2",
   "metadata": {},
   "outputs": [],
   "source": [
    "#-rw-r--r-- 1 synchronize_data synchronize_data 33717559296 Feb 19 11:12 /home/synchronize_data/price_analytics/db.sqlite3"
   ]
  },
  {
   "cell_type": "code",
   "execution_count": 7,
   "id": "b3015fb9-a760-4bbe-a684-4b99f9e88f01",
   "metadata": {},
   "outputs": [],
   "source": [
    "#Книга - Three body problem"
   ]
  },
  {
   "cell_type": "code",
   "execution_count": 8,
   "id": "3d06d55b-e634-4dd2-891e-93d4ee07d367",
   "metadata": {},
   "outputs": [],
   "source": [
    "#connection = sqlite3.connect('/home/synchronize_data/price_analytics/db.sqlite3')\n",
    "connection = sqlite3.connect('/home/synchronize_data/price_analytics/24.db.copied')\n",
    "cursor = connection.cursor()"
   ]
  },
  {
   "cell_type": "code",
   "execution_count": 9,
   "id": "b84ee7aa-bc29-423b-bde3-f2a7b1a682ac",
   "metadata": {},
   "outputs": [],
   "source": [
    "bad_date = ['2023-05-18',  \n",
    "    '2023-05-21',\n",
    "    '2023-06-02',  \n",
    "    '2023-07-08', \n",
    "    '2023-12-02', \n",
    "    '2024-01-20',\n",
    "    '2024-01-21', \n",
    "    '2024-01-22',]"
   ]
  },
  {
   "cell_type": "code",
   "execution_count": 10,
   "id": "3390694c-39ef-4a77-87c1-52452934cc19",
   "metadata": {},
   "outputs": [],
   "source": [
    "plt.style.use('ggplot')"
   ]
  },
  {
   "cell_type": "markdown",
   "id": "65016b89-b09a-42e0-8aaf-38b2e6a8bb8d",
   "metadata": {},
   "source": [
    "# История изменений проекта"
   ]
  },
  {
   "cell_type": "markdown",
   "id": "16e4ca28-aefc-44f8-afc4-b8dcd0babe8f",
   "metadata": {},
   "source": [
    "240310 240311 В ночь с 10 на 11.03.2024 выкатил иземния тайтлов для левела level"
   ]
  },
  {
   "cell_type": "markdown",
   "id": "0092122b-c4f7-4633-a4a8-95d4356e090c",
   "metadata": {},
   "source": [
    "240315 создалось 2 обект доблируемы, нужно удали 32038642 32038643 - тетсировал добавлени номера крвартиры  \n",
    "240315 - загрузил все еще  раз с номерами квратрир   \n",
    "240318 - добавили разеделитель ' | ' в названия обектов level \n",
    "добаивл номер квартиры\n"
   ]
  },
  {
   "cell_type": "code",
   "execution_count": null,
   "id": "dd6094e6-a0d5-49ac-b1dc-6f5d7d420471",
   "metadata": {},
   "outputs": [],
   "source": []
  },
  {
   "cell_type": "markdown",
   "id": "dba915e0-324a-4399-9cb8-bb46692af97d",
   "metadata": {},
   "source": [
    "# Новости поставщиков\n",
    "\n",
    "- c 240201 по 240229 скидка 8% на все у донстроя в связи с 30 летним днем рожденьем\n",
    "- 240301 напсиал риелтор что скидка 8% в честь 30 летия будет длитсья еще неделю\n",
    "- 240320 донстрой обявил что через 12 дней поднимит стоимость квратри\n",
    "- 240321 доснтрой прислаи смс что скидки начали на 5 корпус 8% и начались онаи 240320\n",
    "- 240403 были сломанные частичные загрузки достроя\n"
   ]
  },
  {
   "cell_type": "markdown",
   "id": "fb976b67-9153-4f5c-86d9-4f378d153050",
   "metadata": {},
   "source": [
    "\n"
   ]
  },
  {
   "cell_type": "code",
   "execution_count": null,
   "id": "2f3dc1dc-6e30-4a13-8079-8e8d51eebddb",
   "metadata": {},
   "outputs": [],
   "source": []
  },
  {
   "cell_type": "markdown",
   "id": "9429fb23-9d32-4d95-b80e-0a33b81b7fd8",
   "metadata": {},
   "source": [
    "#  Сравнить другие обекты донстроя с рынком, тогда юудет понятно общую политику оумнаии  по уенгнообразрванию"
   ]
  },
  {
   "cell_type": "code",
   "execution_count": null,
   "id": "4091f6a9-148e-47b9-9932-c0606d4de97f",
   "metadata": {},
   "outputs": [],
   "source": []
  },
  {
   "cell_type": "code",
   "execution_count": null,
   "id": "59d86e97-c7a9-4136-a6f2-f8ad498efa02",
   "metadata": {},
   "outputs": [],
   "source": []
  },
  {
   "cell_type": "code",
   "execution_count": null,
   "id": "23890029-bf02-465b-a48e-862a6027f6f5",
   "metadata": {},
   "outputs": [],
   "source": []
  },
  {
   "cell_type": "markdown",
   "id": "cb938525-c623-4bba-b1db-54fdd4fb61f0",
   "metadata": {},
   "source": [
    "70 секций\t\n",
    "6 кв на этаже\t\n",
    "20 этаже\t\n",
    "8400 примерно квартрир"
   ]
  },
  {
   "cell_type": "markdown",
   "id": "c80bd96f-c41a-4ad3-9f36-29f7461aa1e2",
   "metadata": {},
   "source": [
    "# Выяснить параметры квартир котрые покупают - тогда можно будет сделать вывыод когда купят интересующую, НАСКОЛЬКО она в рынке или популярна"
   ]
  },
  {
   "cell_type": "markdown",
   "id": "332cc4e3-d569-4b99-bcf9-2d6222e4358d",
   "metadata": {},
   "source": [
    "Собрать причины покупки  \n",
    "\n",
    "- продал риелтр потому что у него ха эту квартиру  большой бонус  \n",
    "- купил молодой человек студию у метро чтобы ыбстро и не далеко  \n",
    "- купила семья из 4 челловек так как нужно была комната детям и родителям плюс готсинная с хорошим видом  \n",
    "- квартира столида на 8% дешевле чем сосденяя\n",
    "- \n",
    "- "
   ]
  },
  {
   "cell_type": "markdown",
   "id": "ede26a78-600e-4189-ba32-001645040e29",
   "metadata": {},
   "source": [
    "# Построить  графики\n",
    "один количенство квартир вчера и сегодня ( исключая отризательные дни).  \n",
    "второй когда сранивают пересеченяи всеча и сегодня и из  тех чтобыли вчера вчиают те что ьбыли сегодня. Получая колько квартир ушло.  \n",
    "Третий график сколько квартир старвх пришло сегодня, ушедщих ранее. Можно просто указать дней экспции и если дней экспозицции больше 0 то проблема  \n",
    "четерртый средний срок экспрозиции квартир"
   ]
  },
  {
   "cell_type": "markdown",
   "id": "56280c3b-aa8b-49b3-8d60-d2946dcec9dd",
   "metadata": {},
   "source": [
    "# Риск 8% февраль\n",
    "посчитать сколько стоят эти 8% через год и сейчас, относительно текущих 20% процентов взноса.  \n",
    "сможет ли разница в заработке относилеьно еткущейй суммы покрыть 8% рост?  \n",
    "39,2 - 42,6 = 3,4 (16 этаж) (560/600 за метр)  кв 70 метров  \n",
    "29, - 31,5 = 2,5 (5) (414/450)\n",
    "\n",
    "Понять что выгоднее купить сейчас на 8% дешевле или через год на 8% дороже?  \n",
    "сейчас\n",
    "- 3.92 заплатить каждый месяц платить по 560, на 1 год раньше зарою ипотеку.\n",
    "  \n",
    "через год\n",
    "- 4.26 заплатить каждый месяц палить по 600, но заработать за это год сколкьо то."
   ]
  },
  {
   "cell_type": "code",
   "execution_count": null,
   "id": "07374a57-0d6e-434e-8008-a321d5916620",
   "metadata": {},
   "outputs": [],
   "source": []
  },
  {
   "cell_type": "markdown",
   "id": "f7721c8a-cf77-49f3-b2dd-5e75f56512ac",
   "metadata": {},
   "source": [
    "сколько сейчас надо денег чтобы закрыть ипетеу в 3,4  милиона под 16 %  через год  \n",
    "- т.е если через год положу под такойже % как и ипотека сколько андо полодить?  \n",
    "\n",
    "если возять кредит в 35.3 что составля 90% от стоимость на 30 лет то ипоетека будет 486 в месяц это 16,4% ставка ( первоноачальны 3.9)\n"
   ]
  },
  {
   "cell_type": "code",
   "execution_count": 11,
   "id": "7d8ebe62-f8d8-4fe0-be9d-47e95a29e3cf",
   "metadata": {},
   "outputs": [],
   "source": [
    "#558 в год палтить за 3.4 миллиона при 16.4 %"
   ]
  },
  {
   "cell_type": "code",
   "execution_count": null,
   "id": "61236dfd-2515-4e2b-bb5a-6a4a7c8f3d9b",
   "metadata": {},
   "outputs": [],
   "source": []
  },
  {
   "cell_type": "markdown",
   "id": "c46c4ed0-2ee8-451b-9f54-d7c5e6d2adb0",
   "metadata": {},
   "source": [
    "# Рассрочку + ипотека. Предложить рассрочкам в 10% на год(до конца стройки), а потом ипотека на оставшуюся сумму."
   ]
  },
  {
   "cell_type": "code",
   "execution_count": null,
   "id": "33cef466-7804-4d71-8105-2e925d8695e7",
   "metadata": {},
   "outputs": [],
   "source": []
  },
  {
   "cell_type": "code",
   "execution_count": null,
   "id": "9724e489-d3a6-46d4-8c86-0cd536189e81",
   "metadata": {},
   "outputs": [],
   "source": []
  },
  {
   "cell_type": "markdown",
   "id": "839c6432-8e20-488e-bf2a-db9ad984219b",
   "metadata": {},
   "source": [
    "#посчитать сколько будет стоит купить квартиру сейчас, и с учето годовых платееже"
   ]
  },
  {
   "cell_type": "code",
   "execution_count": 12,
   "id": "975ff4d8-f0fc-448b-b55b-2c6dc020b5cc",
   "metadata": {},
   "outputs": [
    {
     "data": {
      "text/plain": [
       "9752"
      ]
     },
     "execution_count": 12,
     "metadata": {},
     "output_type": "execute_result"
    }
   ],
   "source": [
    "3920 + 486 * 12 # столько я заплачу за год вдедения квартирой"
   ]
  },
  {
   "cell_type": "code",
   "execution_count": 13,
   "id": "2a08a04d-54ae-446c-8eea-324d7c7f231d",
   "metadata": {},
   "outputs": [],
   "source": [
    "# за следубщие 29 лет потрачу  486 * 12 * 29"
   ]
  },
  {
   "cell_type": "code",
   "execution_count": 14,
   "id": "68019d81-5315-4821-b4c0-4474b38f14e0",
   "metadata": {},
   "outputs": [
    {
     "data": {
      "text/plain": [
       "169128"
      ]
     },
     "execution_count": 14,
     "metadata": {},
     "output_type": "execute_result"
    }
   ],
   "source": [
    "486 * 12 * 29"
   ]
  },
  {
   "cell_type": "code",
   "execution_count": 15,
   "id": "92390aa8-9304-4e37-a783-e6d8d727b712",
   "metadata": {},
   "outputs": [],
   "source": [
    "# общая сумма на конез 30 лет"
   ]
  },
  {
   "cell_type": "code",
   "execution_count": 16,
   "id": "00693903-2dd9-48dc-b0ea-56b8aa6d7c16",
   "metadata": {},
   "outputs": [
    {
     "data": {
      "text/plain": [
       "178880"
      ]
     },
     "execution_count": 16,
     "metadata": {},
     "output_type": "execute_result"
    }
   ],
   "source": [
    "3920 + 486 * 12 + 486 * 12 * 29"
   ]
  },
  {
   "cell_type": "code",
   "execution_count": 17,
   "id": "401b51c2-60b2-4c21-b18b-3ea62e556c60",
   "metadata": {},
   "outputs": [],
   "source": [
    "# добавим в расчет еще один год котрый я буду зарабатыать на своих дентгах есди буду вклаыдаь ( т е надо вычесть)"
   ]
  },
  {
   "cell_type": "code",
   "execution_count": 18,
   "id": "35fd16ff-5274-4be1-854e-ce3253f40df4",
   "metadata": {},
   "outputs": [
    {
     "data": {
      "text/plain": [
       "173048"
      ]
     },
     "execution_count": 18,
     "metadata": {},
     "output_type": "execute_result"
    }
   ],
   "source": [
    "3920 + 486 * 12 + 486 * 12 * 29 - 486 * 12 "
   ]
  },
  {
   "cell_type": "code",
   "execution_count": 19,
   "id": "f29c201f-8047-4d88-a3a9-80d32f2e35ab",
   "metadata": {},
   "outputs": [],
   "source": [
    "#также надо вычесть общую сумму котрые я перепалчиваю в другом кейс - как это сделать пока не заню\n",
    "#или в следующем гожу просто выделить суумму необходимоую для пгашения большегот процента даже если мы ее под тоже процент размести"
   ]
  },
  {
   "cell_type": "code",
   "execution_count": 20,
   "id": "912c3075-af26-45fb-9ed6-7b7b6b1c90c7",
   "metadata": {},
   "outputs": [],
   "source": [
    "#xxx"
   ]
  },
  {
   "cell_type": "markdown",
   "id": "e26e502d-a551-4273-94fc-ea43533e781d",
   "metadata": {},
   "source": [
    "# что будет если купить через год"
   ]
  },
  {
   "cell_type": "code",
   "execution_count": null,
   "id": "bacd352e-4d45-492f-b807-70b73ad46c98",
   "metadata": {},
   "outputs": [],
   "source": []
  },
  {
   "cell_type": "code",
   "execution_count": 21,
   "id": "a5071260-392a-47cc-8c63-3a32f05b2d70",
   "metadata": {},
   "outputs": [],
   "source": [
    "# расссчиатьап"
   ]
  },
  {
   "cell_type": "code",
   "execution_count": 22,
   "id": "6c6562b3-9404-4e76-b4bb-415bbef16842",
   "metadata": {},
   "outputs": [
    {
     "name": "stdout",
     "output_type": "stream",
     "text": [
      "3920 столько внести как первый взнос\n",
      "5785.92 столько придется внести за весь 2024 год, это в месяц примерно 482.16\n",
      "\n",
      "4939 в конце года получу, в начале было 3920\n",
      "1019 выгода в рублях при отложенном на год платеже от прервноччального взноса в 3920 вложенные в начале года будет такми\n",
      "6527 в конце года получу\n",
      "695 выгода в рублях в отложенм на год платеже \n",
      "11466 на эту сумму пополуню счет за 2024 год если не куплю квартиру по текущей цене и текущей процентной ставке 0.164 и ствке на инвестиции 0.26\n",
      "\n",
      "4260.0 придется отдать в конце года как первый взнос, но если брала бы в этом году то отдал бы 3920\n",
      "7206 профит после покупки\n",
      "4146 профит который отсанется если внесем разницу вразмере 8% от суммы кредиат на которую повысится\n",
      "9 % такой запас прочности от роста цены начальной\n",
      "10 % такой запас прочности от роста цены текущей(соскидкой 8%)\n"
     ]
    }
   ],
   "source": [
    "ki = 0.164 # ипотека\n",
    "#k1 = 0.3\n",
    "ke = 0.26# доход с инвестиций\n",
    "current_price = 39200\n",
    "current_first_pesent = 10\n",
    "current_first_pay = current_price * current_first_pesent / 100 # 3920 ~ 10% от стоимости\n",
    "current_credit = current_price * (100 - current_first_pesent) / 100 # 35280\n",
    "current_every_month_pay = current_credit * ki / 12 # 486\n",
    "\n",
    "\n",
    "one_year_late_price = 42600\n",
    "one_year_late_first_pesent = 10\n",
    "one_year_late_first_pay = one_year_late_price * one_year_late_first_pesent / 100 # 4260 ~ 10% от стоимости, без скидки 8%\n",
    "one_year_late_credit = one_year_late_price * (100 - one_year_late_first_pesent) / 100 # 38340\n",
    "one_year_late_every_month_pay = one_year_late_price * ki / 12 # 520\n",
    "\n",
    "# если хочу снизить ежемесячный платеж до текущего то надо внести\n",
    "one_year_late_down_grade_credit = one_year_late_credit - current_credit # 3060\n",
    "\n",
    "####\n",
    "\n",
    "print(int(current_first_pay), 'столько внести как первый взнос')\n",
    "print(current_every_month_pay*12, 'столько придется внести за весь 2024 год, это в месяц примерно',current_every_month_pay)\n",
    "print()\n",
    "\n",
    "\n",
    "s1_all = current_first_pay * (1 + ke)\n",
    "print(int(s1_all), 'в конце года получу, в начале было 3920')\n",
    "print(int(s1_all - current_first_pay), 'выгода в рублях при отложенном на год платеже от прервноччального взноса в 3920 вложенные в начале года будет такми')\n",
    "#s1 = current_price * (1 + ke) - one_year_late_price\n",
    "#print(s1)\n",
    "#d1 = s1 * ki / 12\n",
    "#print(d1)\n",
    "\n",
    "\n",
    "s2 = 0# current_every_month_pay\n",
    "for i in range(0,12):\n",
    "    #print(i)\n",
    "    #print((1 + k1/12) ** i)\n",
    "    s2 = s2 + current_every_month_pay * ((1 + ke/12) ** i)\n",
    "print(int(s2), 'в конце года получу')\n",
    "print(int(s2 - 486 * 12), 'выгода в рублях в отложенм на год платеже ')\n",
    "\n",
    "\n",
    "print(int(s2 + s1_all), 'на эту сумму пополуню счет за 2024 год если не куплю квартиру по текущей цене и текущей процентной ставке', ki, 'и ствке на инвестиции', ke)\n",
    "print()\n",
    "print(one_year_late_first_pay, 'придется отдать в конце года как первый взнос, но если брала бы в этом году то отдал бы 3920')\n",
    "print(int(s2 + s1_all - one_year_late_first_pay), 'профит после покупки')\n",
    "# так как цена увечлится на 3,4 миллиона то мы их дожны вычесть из заработанных так как они как бы пойдут на погашение долга котрый увечится на 8 %\n",
    "money_after_buy_room = s2 + s1_all - one_year_late_first_pay - one_year_late_down_grade_credit\n",
    "print(int(money_after_buy_room), 'профит который отсанется если внесем разницу вразмере 8% от суммы кредиат на которую повысится')\n",
    "# учесть что жемесяный платеж выше 40 в месяц 480 в год платежей\n",
    "#print(480/ki)\n",
    "# столько мы получим и такой запкс прочности буем иметь значит если квартиры вырсти на тьо что ниже то мы выйдем в 0\n",
    "print(int(int(s2 + s1_all - one_year_late_first_pay - one_year_late_down_grade_credit) / one_year_late_price * 100),'% такой запас прочности от роста цены начальной')\n",
    "print(int(int(s2 + s1_all - one_year_late_first_pay - one_year_late_down_grade_credit) / current_price * 100),'% такой запас прочности от роста цены текущей(соскидкой 8%)')\n",
    "# забыл что взнос увеичитс"
   ]
  },
  {
   "cell_type": "code",
   "execution_count": 23,
   "id": "7b68e438-81ee-4e24-9e50-6b2abe75e634",
   "metadata": {},
   "outputs": [
    {
     "name": "stdout",
     "output_type": "stream",
     "text": [
      "167791.68  выплаты за 29 лет при покупесе сейчас\n",
      "202605.6  выплаты за 29 лет при покупесе чере год\n",
      "100.04000000000002 разница в ипотеке\n",
      "7206\n",
      "3754859 сумма котрая получчится за 29 лет накопдений и начислениии процента 1 раз в конце года\n",
      "34800 сумма котрая получчится за 29 лет накопдений без процентов\n",
      "7206 сумма оставшаяся после покупки квартриы спустя год\n",
      "5867323 сумма которую получу за 29 лет под % 0.26\n",
      "2112464 выигрыш купить позже\n"
     ]
    }
   ],
   "source": [
    "# но что будет с последкющими платежами?\n",
    "print(current_every_month_pay * 12 * 29, ' выплаты за 29 лет при покупесе сейчас')\n",
    "print(one_year_late_every_month_pay * 12 * 29, ' выплаты за 29 лет при покупесе чере год')\n",
    "\n",
    "#\n",
    "diff_month_pay = one_year_late_every_month_pay - current_every_month_pay\n",
    "print(diff_month_pay, 'разница в ипотеке')\n",
    "\n",
    "ker = 0.26\n",
    "money_1 = int(s2 + s1_all - one_year_late_first_pay)\n",
    "print(money_1)\n",
    "\n",
    "###\n",
    "\n",
    "#diff_month_pay = 50\n",
    "#ker = 0.13\n",
    "\n",
    "# что будет если я вложу эту разницу под процент\n",
    "sum_diff = 0\n",
    "for i in range(0,29):\n",
    "    sum_diff = sum_diff + diff_month_pay * 12 * (1 + ker)**i\n",
    "    #print(sum_diff)\n",
    "print(int(sum_diff),'сумма котрая получчится за 29 лет накопдений и начислениии процента 1 раз в конце года')\n",
    "print(int(diff_month_pay) * 12 * 29,'сумма котрая получчится за 29 лет накопдений без процентов')\n",
    "\n",
    "#print(int(money_after_buy_room), 'сумма оставшаяся после покупки квартриы спустя год')\n",
    "print(money_1, 'сумма оставшаяся после покупки квартриы спустя год')\n",
    "#sum_last = money_after_buy_room\n",
    "sum_last = money_1\n",
    "sum_last = sum_last * (1 + ker)**29\n",
    "print(int(sum_last), 'сумма которую получу за 29 лет под %', ker)\n",
    "print(int(sum_last - sum_diff), 'выигрыш купить позже')"
   ]
  },
  {
   "cell_type": "code",
   "execution_count": null,
   "id": "015d2856-89a0-411c-bede-fcb83abbf9e8",
   "metadata": {},
   "outputs": [],
   "source": []
  },
  {
   "cell_type": "code",
   "execution_count": null,
   "id": "7d85b167-129b-4f86-a6ca-3dbef8034b87",
   "metadata": {},
   "outputs": [],
   "source": []
  },
  {
   "cell_type": "code",
   "execution_count": 24,
   "id": "c7bfa570-c4dc-4187-839f-5477bfc4919d",
   "metadata": {},
   "outputs": [
    {
     "data": {
      "text/plain": [
       "74.00851457651962"
      ]
     },
     "execution_count": 24,
     "metadata": {},
     "output_type": "execute_result"
    }
   ],
   "source": [
    "1.16**29"
   ]
  },
  {
   "cell_type": "code",
   "execution_count": 25,
   "id": "cf53b2ca-38f6-46f1-afc5-598587f0d3db",
   "metadata": {},
   "outputs": [
    {
     "data": {
      "text/plain": [
       "2.9"
      ]
     },
     "execution_count": 25,
     "metadata": {},
     "output_type": "execute_result"
    }
   ],
   "source": [
    "2.9*1**29 #  0%, 4% - 5% запас прочности"
   ]
  },
  {
   "cell_type": "code",
   "execution_count": 26,
   "id": "c681ec42-99e8-49db-a171-dc0000d7770b",
   "metadata": {},
   "outputs": [
    {
     "data": {
      "text/plain": [
       "2.985288065823662"
      ]
     },
     "execution_count": 26,
     "metadata": {},
     "output_type": "execute_result"
    }
   ],
   "source": [
    "2.9*1.001**29 #  0.001%,"
   ]
  },
  {
   "cell_type": "code",
   "execution_count": 27,
   "id": "d666f3a6-84b1-433a-933d-9bdcd166825b",
   "metadata": {},
   "outputs": [
    {
     "data": {
      "text/plain": [
       "3.8700612420449776"
      ]
     },
     "execution_count": 27,
     "metadata": {},
     "output_type": "execute_result"
    }
   ],
   "source": [
    "2.9*1.01**29 #  0.01%, "
   ]
  },
  {
   "cell_type": "code",
   "execution_count": 28,
   "id": "3b6d172b-8658-49ca-ba54-7f87ac35659a",
   "metadata": {},
   "outputs": [
    {
     "data": {
      "text/plain": [
       "5.149949601862478"
      ]
     },
     "execution_count": 28,
     "metadata": {},
     "output_type": "execute_result"
    }
   ],
   "source": [
    "2.9*1.02**29 #  0.02%, "
   ]
  },
  {
   "cell_type": "code",
   "execution_count": 29,
   "id": "6ec3ce3f-8fa2-4f9b-afe5-b76b92f22d03",
   "metadata": {},
   "outputs": [
    {
     "data": {
      "text/plain": [
       "11.936793226606605"
      ]
     },
     "execution_count": 29,
     "metadata": {},
     "output_type": "execute_result"
    }
   ],
   "source": [
    "2.9*1.05**29 #  0.05%, "
   ]
  },
  {
   "cell_type": "code",
   "execution_count": 30,
   "id": "b9d48c99-cff2-42da-8aa5-aefb1ff990c9",
   "metadata": {},
   "outputs": [
    {
     "data": {
      "text/plain": [
       "27.02009720214167"
      ]
     },
     "execution_count": 30,
     "metadata": {},
     "output_type": "execute_result"
    }
   ],
   "source": [
    "2.9*1.08**29 #  0.08%,"
   ]
  },
  {
   "cell_type": "code",
   "execution_count": 31,
   "id": "3ff29ad5-b69d-4896-b299-07d74120e63c",
   "metadata": {},
   "outputs": [
    {
     "data": {
      "text/plain": [
       "46.002969617973356"
      ]
     },
     "execution_count": 31,
     "metadata": {},
     "output_type": "execute_result"
    }
   ],
   "source": [
    "2.9*1.1**29 #  0.1%,"
   ]
  },
  {
   "cell_type": "code",
   "execution_count": 32,
   "id": "05841b8b-5120-4fe7-adea-1ba8ae81c810",
   "metadata": {},
   "outputs": [
    {
     "data": {
      "text/plain": [
       "77.57479834878781"
      ]
     },
     "execution_count": 32,
     "metadata": {},
     "output_type": "execute_result"
    }
   ],
   "source": [
    "2.9*1.12**29 #  0.12%, "
   ]
  },
  {
   "cell_type": "code",
   "execution_count": 33,
   "id": "90b7e66b-7319-4d6e-bf4b-cf9dc544b5c2",
   "metadata": {},
   "outputs": [
    {
     "data": {
      "text/plain": [
       "237.1561694514056"
      ]
     },
     "execution_count": 33,
     "metadata": {},
     "output_type": "execute_result"
    }
   ],
   "source": [
    "2.9*1.164**29 #  0.164%, 7% - 8% запас прочности"
   ]
  },
  {
   "cell_type": "code",
   "execution_count": 34,
   "id": "9b08034e-1da7-4c20-b4ac-a55b47151fbc",
   "metadata": {},
   "outputs": [
    {
     "data": {
      "text/plain": [
       "254.66329865780398"
      ]
     },
     "execution_count": 34,
     "metadata": {},
     "output_type": "execute_result"
    }
   ],
   "source": [
    "3.441*1.16**29 # 0.2%, 8% - 9% запас прочности"
   ]
  },
  {
   "cell_type": "code",
   "execution_count": 35,
   "id": "6729ae67-0f6e-4dff-8ed9-9a895d3c41ab",
   "metadata": {},
   "outputs": [
    {
     "data": {
      "text/plain": [
       "306.39525034679116"
      ]
     },
     "execution_count": 35,
     "metadata": {},
     "output_type": "execute_result"
    }
   ],
   "source": [
    "4.140*1.16**29 # 0.3%, 9% - 11% запас прочности"
   ]
  },
  {
   "cell_type": "code",
   "execution_count": 36,
   "id": "5e7a4e51-1b2b-4bd5-bc70-d7948970b0f5",
   "metadata": {},
   "outputs": [
    {
     "data": {
      "text/plain": [
       "359.4593552981558"
      ]
     },
     "execution_count": 36,
     "metadata": {},
     "output_type": "execute_result"
    }
   ],
   "source": [
    "4.857*1.16**29 # 0.4%, 11% - 12% запас прочности"
   ]
  },
  {
   "cell_type": "code",
   "execution_count": null,
   "id": "3aa9cac1-c36e-4bc3-8dfb-0a2621d32a9e",
   "metadata": {},
   "outputs": [],
   "source": []
  },
  {
   "cell_type": "markdown",
   "id": "25cdd041-e4d6-4185-8ccb-da7e16ba7267",
   "metadata": {},
   "source": [
    "# Инфляция "
   ]
  },
  {
   "cell_type": "code",
   "execution_count": 37,
   "id": "c11cff2b-f3cc-4755-9852-e3d08c20ffda",
   "metadata": {},
   "outputs": [
    {
     "data": {
      "text/plain": [
       "0.7290000000000001"
      ]
     },
     "execution_count": 37,
     "metadata": {},
     "output_type": "execute_result"
    }
   ],
   "source": [
    "0.9**3"
   ]
  },
  {
   "cell_type": "code",
   "execution_count": 38,
   "id": "8d0190be-bdeb-4ad8-b1e2-5d4936f57cea",
   "metadata": {},
   "outputs": [
    {
     "data": {
      "text/plain": [
       "0.5904900000000001"
      ]
     },
     "execution_count": 38,
     "metadata": {},
     "output_type": "execute_result"
    }
   ],
   "source": [
    "0.9**5"
   ]
  },
  {
   "cell_type": "code",
   "execution_count": 39,
   "id": "103cadf9-d1a7-4917-b0f5-714deb852100",
   "metadata": {},
   "outputs": [
    {
     "data": {
      "text/plain": [
       "0.3486784401000001"
      ]
     },
     "execution_count": 39,
     "metadata": {},
     "output_type": "execute_result"
    }
   ],
   "source": [
    "0.9**10"
   ]
  },
  {
   "cell_type": "code",
   "execution_count": 40,
   "id": "b2816d2a-d552-47f5-a832-de0209b1c2bf",
   "metadata": {},
   "outputs": [
    {
     "data": {
      "text/plain": [
       "0.20589113209464907"
      ]
     },
     "execution_count": 40,
     "metadata": {},
     "output_type": "execute_result"
    }
   ],
   "source": [
    "0.9**15"
   ]
  },
  {
   "cell_type": "code",
   "execution_count": 41,
   "id": "f6b28acc-e2dc-486a-9697-34ea6d095878",
   "metadata": {},
   "outputs": [
    {
     "data": {
      "text/plain": [
       "0.12157665459056935"
      ]
     },
     "execution_count": 41,
     "metadata": {},
     "output_type": "execute_result"
    }
   ],
   "source": [
    "0.9**20"
   ]
  },
  {
   "cell_type": "code",
   "execution_count": 42,
   "id": "dab963c5-8777-4d2f-b692-177fadad1792",
   "metadata": {},
   "outputs": [
    {
     "data": {
      "text/plain": [
       "0.04239115827521624"
      ]
     },
     "execution_count": 42,
     "metadata": {},
     "output_type": "execute_result"
    }
   ],
   "source": [
    "0.9**30"
   ]
  },
  {
   "cell_type": "code",
   "execution_count": 43,
   "id": "f774924f-719d-486e-a586-6fa90eac4939",
   "metadata": {},
   "outputs": [
    {
     "data": {
      "text/plain": [
       "23.51915792132608"
      ]
     },
     "execution_count": 43,
     "metadata": {},
     "output_type": "execute_result"
    }
   ],
   "source": [
    "1.111**30"
   ]
  },
  {
   "cell_type": "code",
   "execution_count": 44,
   "id": "3b65249d-879a-4c54-b535-90ab2edec8bd",
   "metadata": {},
   "outputs": [
    {
     "data": {
      "text/plain": [
       "1.1111111111111112"
      ]
     },
     "execution_count": 44,
     "metadata": {},
     "output_type": "execute_result"
    }
   ],
   "source": [
    "10/9"
   ]
  },
  {
   "cell_type": "code",
   "execution_count": null,
   "id": "75227354-2e92-4c60-ac8a-a67fa1ae3cf3",
   "metadata": {},
   "outputs": [],
   "source": []
  },
  {
   "cell_type": "code",
   "execution_count": null,
   "id": "b82d099d-194e-4a26-89bc-b9ba991b5aba",
   "metadata": {},
   "outputs": [],
   "source": []
  },
  {
   "cell_type": "code",
   "execution_count": null,
   "id": "12db15c9-5d33-4808-88c8-6aaca6bb1565",
   "metadata": {},
   "outputs": [],
   "source": []
  },
  {
   "cell_type": "code",
   "execution_count": null,
   "id": "7dbf255f-19a3-4ab4-9583-793a16b46bdf",
   "metadata": {},
   "outputs": [],
   "source": []
  },
  {
   "cell_type": "markdown",
   "id": "970c9501-88e7-4717-8033-2610a99bef1c",
   "metadata": {},
   "source": [
    "# TODO добавить столбцы проект, корпус, секция : отсров 6 корус 1 секция 1"
   ]
  },
  {
   "cell_type": "code",
   "execution_count": 45,
   "id": "5a07404b-28f1-4383-9291-1c10fb305246",
   "metadata": {},
   "outputs": [],
   "source": [
    "#https://t.me/nmrochkovskiy_bot?start=YnM6ZjoxMzt1OjI4Ow\n",
    "#https://investfuture.events/web_neuro?utm_source=yt_investfutureru&utm_medium=video&utm_campaign=14022024&utm_term=uneuroboost_pneuropractikum_tpaid&erid=2SDnjecjMQU"
   ]
  },
  {
   "cell_type": "code",
   "execution_count": 46,
   "id": "6151a223-bee6-4bb9-921d-1d6bb139a9c7",
   "metadata": {},
   "outputs": [],
   "source": [
    "#https://plus-invest.narod.ru/Save/RazInv.pdf"
   ]
  },
  {
   "cell_type": "markdown",
   "id": "f8bd1af3-1ee4-4a01-8ea5-98f115eb5703",
   "metadata": {},
   "source": [
    "# Взять дапнные из экселя"
   ]
  },
  {
   "cell_type": "markdown",
   "id": "ffeca343-9ba3-4fb8-ab3c-9dbadb3189bb",
   "metadata": {},
   "source": [
    "# Отработать гипотезц что некотрые квартиры иногда исчеают а потом появляются, выяснить как часто это бывет и попытьався понять какие причниы, типа хабронили на2 недели , но потом не выккупили, или это застрйзик так менят сове наподеннеи  илии ..."
   ]
  },
  {
   "cell_type": "code",
   "execution_count": null,
   "id": "4507fd08-13cd-4975-ad34-06d3ca7d1158",
   "metadata": {},
   "outputs": [],
   "source": []
  },
  {
   "cell_type": "markdown",
   "id": "9c2e1e30-890c-4330-9f7f-904ae0e66fdf",
   "metadata": {},
   "source": [
    "# пример дама для быстрой передачи\n",
    "            \"title\",\n",
    "            \"price\",\n",
    "            \"price_sale\",\n",
    "            \"datetime_create\",\n",
    "            \"category\",\n",
    "            \"brand\",\n",
    "            \"url\",\n",
    "            \"apartment_area\",\n",
    "            \"apartment_floor\",\n",
    "            \"apartment_floors_total\",\n",
    "            \"apartment_room\",\n",
    "            \"apartment_ppm\""
   ]
  },
  {
   "cell_type": "markdown",
   "id": "71a9c582-0b63-4300-8957-6fe9ef4421d3",
   "metadata": {},
   "source": [
    "scp /home/jupyter-amtsu/project/price_alert/db.sqlite3 synchronize_data@94.250.254.32:/home/synchronize_data/price_analytics/db.sqlite3\n",
    "\n",
    "####\n",
    "\n",
    "sqlite3 /home/synchronize_data/price_analytics/db.sqlite3\n",
    "\n",
    "DROP TABLE copied;\n",
    "\n",
    "CREATE TABLE copied AS SELECT id, title, price, price_sale, datetime_create, category, brand, url, apartment_area, apartment_floor, apartment_floors_total, apartment_room, apartment_ppm FROM products_history WHERE category = \"Новостройки\";\n",
    "\n",
    ".output 24.db.copied.sqlite3\n",
    "\n",
    ".dump copied\n",
    "\n",
    ".exit\n",
    "\n",
    "####\n",
    "\n",
    "sqlite3 /home/jupyter-amtsu/project/price_alert/db.sqlite3\n",
    "\n",
    "DROP TABLE copied;\n",
    "\n",
    "CREATE TABLE copied AS SELECT id, title, price, price_sale, datetime_create, category, brand, url, apartment_area, apartment_floor, apartment_floors_total, apartment_room, apartment_ppm FROM products_history WHERE category = \"Новостройки\";\n",
    "\n",
    ".output /home/jupyter-amtsu/project/price_alert/24.db.copied.sqlite3\n",
    "\n",
    ".dump copied\n",
    "\n",
    ".exit\n",
    "\n",
    "####\n",
    "\n",
    "scp  /home/jupyter-amtsu/project/price_alert/24.db.copied.sqlite3 synchronize_data@94.250.254.32:/home/synchronize_data/price_analytics/24.db.copied.sqlite3"
   ]
  },
  {
   "cell_type": "code",
   "execution_count": null,
   "id": "a53c7c93-0209-48c8-9737-fb9d81d8caf1",
   "metadata": {},
   "outputs": [],
   "source": []
  },
  {
   "cell_type": "markdown",
   "id": "eee5b6dd-9a3f-4208-9156-c94c252b6ad5",
   "metadata": {},
   "source": [
    "# Получить только квартиры"
   ]
  },
  {
   "cell_type": "code",
   "execution_count": 47,
   "id": "5451b8b8-00bb-4650-8722-95d5696eaf52",
   "metadata": {},
   "outputs": [],
   "source": [
    "cursor.execute(\"\"\"\n",
    "SELECT \n",
    "            id,\n",
    "            \"title\",\n",
    "            \"price\",\n",
    "            \"price_sale\",\n",
    "            --CAST(apartment_area as decimal) as apartment_area_decimal,\n",
    "            CAST(price_sale / apartment_area as decimal(15,2)) as \"avg_price_per_metr\",\n",
    "            date(datetime_create) as date,\n",
    "            \n",
    "            --\"category\",\n",
    "            \"brand\",\n",
    "            --\"brand_url\",\n",
    "            --\"url\",\n",
    "\n",
    "            \"apartment_area\",\n",
    "            --\"apartment_completion_quarter\",\n",
    "            --\"apartment_completion_year\",\n",
    "            \"apartment_floor\",\n",
    "            \"apartment_floors_total\",\n",
    "            --\"apartment_ceilingheight\",\n",
    "            \"apartment_room\",\n",
    "            \"apartment_ppm\"\n",
    "            --\"apartment_address\",\n",
    "            --\"apartment_location_lat\",\n",
    "            --\"apartment_location_lon\"\n",
    "    \n",
    "--FROM products_history\n",
    "FROM copied\n",
    "where \n",
    "    category = \"Новостройки\" \n",
    "    or category = \"Реновация\"\n",
    "    --and datetime_create >= \"2023-06-01\"\n",
    "    --and \n",
    "    --and url like \"hhttps://donstroy.moscow/objects/ostrov/plans/quarter6/korpus1/%\"\n",
    "    --and title like \"%Остров.6%\"\n",
    "    --and apartment_floor = 13\n",
    "    --and apartment_room = 1\n",
    "    --and apartment_area = '30.5'\n",
    "ORDER BY id desc\n",
    "LIMIT 1000000\n",
    "\n",
    "\"\"\")\n",
    "\n",
    "all_room = pd.DataFrame(cursor.fetchall(), columns=[\n",
    "            \"id\",\n",
    "            \"title\",\n",
    "            \"price\",\n",
    "            \"price_sale\",\n",
    "            #\"apartment_area_decimal\",\n",
    "            \"avg_price_per_metr\",\n",
    "            \"datetime_create\",\n",
    "            \n",
    "            #\"category\",\n",
    "            \"brand\",\n",
    "            #\"brand_url\",\n",
    "            #\"url\",\n",
    "\n",
    "            \"apartment_area\",\n",
    "            #\"apartment_completion_quarter\",\n",
    "            #\"apartment_completion_year\",\n",
    "            \"apartment_floor\",\n",
    "            \"apartment_floors_total\",\n",
    "            #\"apartment_ceilingheight\",\n",
    "            \"apartment_room\",\n",
    "            \"apartment_ppm\",\n",
    "            #\"apartment_address\",\n",
    "            #\"apartment_location_lat\",\n",
    "            #\"apartment_location_lon\"\n",
    "])"
   ]
  },
  {
   "cell_type": "code",
   "execution_count": 48,
   "id": "bd384cf4-b503-4e00-955c-81bffdb35388",
   "metadata": {},
   "outputs": [],
   "source": [
    "all_room = all_room.assign(ppm = all_room['price_sale'] / all_room['apartment_area'])"
   ]
  },
  {
   "cell_type": "code",
   "execution_count": 49,
   "id": "6b719e90-7d73-45b8-acb6-b4bd2f76902c",
   "metadata": {},
   "outputs": [
    {
     "data": {
      "text/plain": [
       "id                        995571\n",
       "title                     995571\n",
       "price                     995571\n",
       "price_sale                995571\n",
       "avg_price_per_metr        994414\n",
       "datetime_create           995571\n",
       "brand                     995571\n",
       "apartment_area            994414\n",
       "apartment_floor           920571\n",
       "apartment_floors_total    625414\n",
       "apartment_room            920571\n",
       "apartment_ppm             780898\n",
       "ppm                       994414\n",
       "dtype: int64"
      ]
     },
     "execution_count": 49,
     "metadata": {},
     "output_type": "execute_result"
    }
   ],
   "source": [
    "all_room.count()"
   ]
  },
  {
   "cell_type": "markdown",
   "id": "3a845ae3-6c21-40a5-bb74-9394aa63b159",
   "metadata": {},
   "source": [
    "#  общая подготовка"
   ]
  },
  {
   "cell_type": "code",
   "execution_count": 50,
   "id": "bcc54555-62b1-417e-8ec5-5047bbaeaf1e",
   "metadata": {},
   "outputs": [],
   "source": [
    "all_room['project'] = ''\n",
    "all_room['building'] = ''\n",
    "all_room['apartment_number'] = '-1'"
   ]
  },
  {
   "cell_type": "code",
   "execution_count": null,
   "id": "48a60a00-a342-459e-98f2-d1750c382b1c",
   "metadata": {},
   "outputs": [],
   "source": []
  },
  {
   "cell_type": "markdown",
   "id": "b33da2fd-c945-4fd1-a586-12a571c77f7a",
   "metadata": {},
   "source": [
    "# Чистим Левел"
   ]
  },
  {
   "cell_type": "code",
   "execution_count": 51,
   "id": "199ccbc1-53bf-4821-84cc-46d3c48cc315",
   "metadata": {},
   "outputs": [
    {
     "name": "stderr",
     "output_type": "stream",
     "text": [
      "/tmp/ipykernel_2022823/3014285787.py:6: FutureWarning: Series.__getitem__ treating keys as positions is deprecated. In a future version, integer keys will always be treated as labels (consistent with DataFrame behavior). To access a value by position, use `ser.iloc[pos]`\n",
      "  apartment_floor = int(i[8])\n",
      "/tmp/ipykernel_2022823/3014285787.py:12: FutureWarning: Series.__getitem__ treating keys as positions is deprecated. In a future version, integer keys will always be treated as labels (consistent with DataFrame behavior). To access a value by position, use `ser.iloc[pos]`\n",
      "  if i[1].find(' | ') > 0:\n",
      "/tmp/ipykernel_2022823/3014285787.py:13: FutureWarning: Series.__getitem__ treating keys as positions is deprecated. In a future version, integer keys will always be treated as labels (consistent with DataFrame behavior). To access a value by position, use `ser.iloc[pos]`\n",
      "  sep = f\" {apartment_floor} | {i[7]} \"\n",
      "/tmp/ipykernel_2022823/3014285787.py:14: FutureWarning: Series.__getitem__ treating keys as positions is deprecated. In a future version, integer keys will always be treated as labels (consistent with DataFrame behavior). To access a value by position, use `ser.iloc[pos]`\n",
      "  title = i[1]\n",
      "/tmp/ipykernel_2022823/3014285787.py:27: FutureWarning: Series.__getitem__ treating keys as positions is deprecated. In a future version, integer keys will always be treated as labels (consistent with DataFrame behavior). To access a value by position, use `ser.iloc[pos]`\n",
      "  sep = f\" {apartment_floor} {i[7]} \"\n",
      "/tmp/ipykernel_2022823/3014285787.py:28: FutureWarning: Series.__getitem__ treating keys as positions is deprecated. In a future version, integer keys will always be treated as labels (consistent with DataFrame behavior). To access a value by position, use `ser.iloc[pos]`\n",
      "  title = i[1]\n",
      "/tmp/ipykernel_2022823/3014285787.py:39: FutureWarning: Series.__getitem__ treating keys as positions is deprecated. In a future version, integer keys will always be treated as labels (consistent with DataFrame behavior). To access a value by position, use `ser.iloc[pos]`\n",
      "  apartment_floor = int(i[8])\n",
      "/tmp/ipykernel_2022823/3014285787.py:45: FutureWarning: Series.__getitem__ treating keys as positions is deprecated. In a future version, integer keys will always be treated as labels (consistent with DataFrame behavior). To access a value by position, use `ser.iloc[pos]`\n",
      "  if i[1].find(' | ') > 0:\n",
      "/tmp/ipykernel_2022823/3014285787.py:46: FutureWarning: Series.__getitem__ treating keys as positions is deprecated. In a future version, integer keys will always be treated as labels (consistent with DataFrame behavior). To access a value by position, use `ser.iloc[pos]`\n",
      "  sep = f\" {apartment_floor} | {i[7]} \"\n",
      "/tmp/ipykernel_2022823/3014285787.py:47: FutureWarning: Series.__getitem__ treating keys as positions is deprecated. In a future version, integer keys will always be treated as labels (consistent with DataFrame behavior). To access a value by position, use `ser.iloc[pos]`\n",
      "  title = i[1]\n",
      "/tmp/ipykernel_2022823/3014285787.py:56: FutureWarning: Series.__getitem__ treating keys as positions is deprecated. In a future version, integer keys will always be treated as labels (consistent with DataFrame behavior). To access a value by position, use `ser.iloc[pos]`\n",
      "  sep = f\" {apartment_floor} {i[7]} \"\n",
      "/tmp/ipykernel_2022823/3014285787.py:57: FutureWarning: Series.__getitem__ treating keys as positions is deprecated. In a future version, integer keys will always be treated as labels (consistent with DataFrame behavior). To access a value by position, use `ser.iloc[pos]`\n",
      "  title = i[1]\n"
     ]
    }
   ],
   "source": [
    "#all_room.loc[all_room['brand']=='level', 'project'] = all_room['title'].split(' ')[0]\n",
    "#df_clicks['MAX_SHOP1_SHOP3'] = df_clicks.apply(lambda x: max(x['SHOP1'], x['SHOP3']), axis=1)\n",
    "def update_project_level(i):\n",
    "    if i['brand'] == 'level.ru':\n",
    "        try:\n",
    "            apartment_floor = int(i[8])\n",
    "        except:\n",
    "            apartment_floor = -10\n",
    "        if apartment_floor == -10:\n",
    "            return i['project']\n",
    "\n",
    "        if i[1].find(' | ') > 0:\n",
    "            sep = f\" {apartment_floor} | {i[7]} \"\n",
    "            title = i[1]\n",
    "            #print(title.split(sep))\n",
    "            #print(title.split(sep)[0])\n",
    "            #print(title.split(sep)[0].split(' | '))\n",
    "            tl = title.split(sep)[0].split(' | ')\n",
    "            building = tl.pop()\n",
    "            \n",
    "            #print(tl)\n",
    "            #print('----')\n",
    "            \n",
    "            project = ' '.join(tl)\n",
    "            return project            \n",
    "        \n",
    "        sep = f\" {apartment_floor} {i[7]} \"\n",
    "        title = i[1]\n",
    "        tl = title.split(sep)[0].split(' ')\n",
    "        building = tl.pop()\n",
    "        \n",
    "        project = ' '.join(tl)\n",
    "        return project\n",
    "    return i['project']\n",
    "\n",
    "def update_building_level(i):\n",
    "    if i['brand'] == 'level.ru':\n",
    "        try:\n",
    "            apartment_floor = int(i[8])\n",
    "        except:\n",
    "            apartment_floor = -10\n",
    "        if apartment_floor == -10:\n",
    "            return i['building']\n",
    "\n",
    "        if i[1].find(' | ') > 0:\n",
    "            sep = f\" {apartment_floor} | {i[7]} \"\n",
    "            title = i[1]\n",
    "            tl = title.split(sep)[0].split(' | ')\n",
    "            #print(tl)\n",
    "            building = tl.pop()\n",
    "            building = building.replace(' |','')\n",
    "            \n",
    "            return building \n",
    "\n",
    "        \n",
    "        sep = f\" {apartment_floor} {i[7]} \"\n",
    "        title = i[1]\n",
    "        tl = title.split(sep)[0].split(' ')\n",
    "        building = tl.pop()\n",
    "        \n",
    "        return building\n",
    "    return i['building']\n",
    "\n",
    "\n",
    "all_room['project'] = all_room.apply(lambda x: update_project_level(x),  axis=1)\n",
    "\n",
    "\n",
    "all_room['building'] = all_room.apply(lambda x: update_building_level(x),  axis=1)\n"
   ]
  },
  {
   "cell_type": "code",
   "execution_count": 52,
   "id": "ac9f4e7a-bcb1-449b-a03a-08bd4382b0db",
   "metadata": {},
   "outputs": [],
   "source": [
    "#all_room['project'].unique()"
   ]
  },
  {
   "cell_type": "code",
   "execution_count": 53,
   "id": "32002567-ca93-486b-b619-ca607e71ba4b",
   "metadata": {},
   "outputs": [],
   "source": [
    "#all_room['building'].unique()"
   ]
  },
  {
   "cell_type": "code",
   "execution_count": null,
   "id": "c5102904-8822-4554-84e0-e6ef0b536b79",
   "metadata": {},
   "outputs": [],
   "source": []
  },
  {
   "cell_type": "code",
   "execution_count": null,
   "id": "8848fd30-cbd6-4f0e-8c93-ba0a85736f1d",
   "metadata": {},
   "outputs": [],
   "source": []
  },
  {
   "cell_type": "code",
   "execution_count": 54,
   "id": "f6dbb685-b2f1-4ecf-8514-81bf3a636c63",
   "metadata": {},
   "outputs": [
    {
     "name": "stdout",
     "output_type": "stream",
     "text": [
      "{'Бауманская', 'Селигерская', 'Мичуринский I, II этап', 'Селигерская 2', 'Академическая'}\n",
      "---\n",
      "{'Мичуринский, этап 1,2'}\n"
     ]
    }
   ],
   "source": [
    "#2023-08-25\n",
    "#{'Мичуринский бизнес'}\n",
    "#{'Мичуринский I, II этап'}\n",
    "\n",
    "#2024-03-01\n",
    "#'Мичуринский, этап 1,2',\n",
    "#'Мичуринский, этапы 1 и 2'\n",
    "\n",
    "s1 = set(list(all_room.loc[ (all_room['datetime_create'] == '2023-08-27') ]['project'].unique()))\n",
    "s2 = set(list(all_room.loc[ (all_room['datetime_create'] == '2024-01-30') ]['project'].unique()))\n",
    "print(s1 - s2)\n",
    "print('---')\n",
    "print(s2 -  s1)"
   ]
  },
  {
   "cell_type": "code",
   "execution_count": 55,
   "id": "3c548d63-2340-4aa2-9e3d-811153c30f9a",
   "metadata": {},
   "outputs": [
    {
     "data": {
      "text/plain": [
       "22"
      ]
     },
     "execution_count": 55,
     "metadata": {},
     "output_type": "execute_result"
    }
   ],
   "source": [
    "len(set(list(all_room['project'].unique())))"
   ]
  },
  {
   "cell_type": "code",
   "execution_count": 56,
   "id": "25b960e7-f37f-4f4e-9e01-b600821c21e2",
   "metadata": {},
   "outputs": [],
   "source": [
    " #set(list(all_room['building'].unique()))"
   ]
  },
  {
   "cell_type": "code",
   "execution_count": 57,
   "id": "fed9dae8-9a28-4213-b372-35bad1d48433",
   "metadata": {},
   "outputs": [],
   "source": [
    " #set(list(all_room['project'].unique()))"
   ]
  },
  {
   "cell_type": "code",
   "execution_count": 58,
   "id": "c0c0d842-ab37-43a9-9858-4dc713290d76",
   "metadata": {},
   "outputs": [],
   "source": [
    "all_room.loc[all_room['project']=='Мичуринский', 'project'] = 'Мичуринский, этапы 1 и 2'\n",
    "all_room.loc[all_room['project']=='Мичуринский бизнес', 'project'] = 'Мичуринский, этапы 1 и 2'\n",
    "all_room.loc[all_room['project']=='Мичуринский I, II этап', 'project'] = 'Мичуринский, этапы 1 и 2'\n",
    "all_room.loc[all_room['project']=='Мичуринский, этап 1,2', 'project'] = 'Мичуринский, этапы 1 и 2'\n",
    "\n",
    "all_room.loc[all_room['project']=='Мичуринский III этап', 'project'] = 'Мичуринский, этап 3'"
   ]
  },
  {
   "cell_type": "code",
   "execution_count": 59,
   "id": "400e5bde-db48-4746-b884-8512ba74304a",
   "metadata": {},
   "outputs": [
    {
     "name": "stdout",
     "output_type": "stream",
     "text": [
      "{'Академическая', 'Селигерская 2', 'Селигерская', 'Бауманская'}\n",
      "---\n",
      "set()\n"
     ]
    }
   ],
   "source": [
    "s1 = set(list(all_room.loc[ (all_room['datetime_create'] == '2023-08-27') ]['project'].unique()))\n",
    "s2 = set(list(all_room.loc[ (all_room['datetime_create'] == '2024-01-30') ]['project'].unique()))\n",
    "print(s1 - s2)\n",
    "print('---')\n",
    "print(s2 -  s1)"
   ]
  },
  {
   "cell_type": "code",
   "execution_count": 60,
   "id": "49af4f43-1cff-4fce-b1a1-226f1e628e55",
   "metadata": {},
   "outputs": [
    {
     "data": {
      "text/plain": [
       "17"
      ]
     },
     "execution_count": 60,
     "metadata": {},
     "output_type": "execute_result"
    }
   ],
   "source": [
    "len(set(list(all_room['project'].unique())))"
   ]
  },
  {
   "cell_type": "code",
   "execution_count": 61,
   "id": "e1843ba5-2afa-43a7-b93e-4f5f79eea351",
   "metadata": {},
   "outputs": [],
   "source": [
    "#set(list(all_room['project'].unique()))"
   ]
  },
  {
   "cell_type": "code",
   "execution_count": 62,
   "id": "279bb71b-f326-4e15-9044-196554d9241a",
   "metadata": {},
   "outputs": [
    {
     "data": {
      "text/plain": [
       "28"
      ]
     },
     "execution_count": 62,
     "metadata": {},
     "output_type": "execute_result"
    }
   ],
   "source": [
    "len(set(list(all_room['building'].unique())))"
   ]
  },
  {
   "cell_type": "markdown",
   "id": "e032c13d-a223-4d72-9690-4b2df0663316",
   "metadata": {},
   "source": [
    "# добавляем apartment_number"
   ]
  },
  {
   "cell_type": "code",
   "execution_count": 63,
   "id": "e874cdae-489e-410b-8748-1e630ffcf273",
   "metadata": {},
   "outputs": [
    {
     "name": "stderr",
     "output_type": "stream",
     "text": [
      "/tmp/ipykernel_2022823/1410850036.py:4: FutureWarning: Series.__getitem__ treating keys as positions is deprecated. In a future version, integer keys will always be treated as labels (consistent with DataFrame behavior). To access a value by position, use `ser.iloc[pos]`\n",
      "  title = i[1]\n"
     ]
    }
   ],
   "source": [
    "def update_apartment_number_level(i):\n",
    "    if i['brand'] == 'level.ru':\n",
    "        sep = f\" | \"\n",
    "        title = i[1]\n",
    "        tl = title.split(sep)\n",
    "        if len(tl) > 6:\n",
    "            apartment_number = tl[-1]\n",
    "            if apartment_number not in ('\\n296', 'Номер'):\n",
    "                return apartment_number\n",
    "        return '-1'\n",
    "    return i['apartment_number']\n",
    "\n",
    "all_room['apartment_number'] = all_room.apply(lambda x: update_apartment_number_level(x),  axis=1)"
   ]
  },
  {
   "cell_type": "code",
   "execution_count": 64,
   "id": "d22d95b7-a8f0-4ed8-9b2e-4e1b5853636f",
   "metadata": {},
   "outputs": [],
   "source": [
    "#all_room['apartment_number'].unique()"
   ]
  },
  {
   "cell_type": "code",
   "execution_count": null,
   "id": "0c43e24e-91a1-4980-9657-647bbda6094a",
   "metadata": {},
   "outputs": [],
   "source": []
  },
  {
   "cell_type": "code",
   "execution_count": 65,
   "id": "035c60c1-ad7e-4084-95bf-216ac9b3bcf3",
   "metadata": {},
   "outputs": [],
   "source": [
    "#set(list(all_room['building'].unique()))"
   ]
  },
  {
   "cell_type": "code",
   "execution_count": 66,
   "id": "17361ca3-5e93-4f38-a623-e99723c35591",
   "metadata": {},
   "outputs": [
    {
     "data": {
      "text/html": [
       "<div>\n",
       "<style scoped>\n",
       "    .dataframe tbody tr th:only-of-type {\n",
       "        vertical-align: middle;\n",
       "    }\n",
       "\n",
       "    .dataframe tbody tr th {\n",
       "        vertical-align: top;\n",
       "    }\n",
       "\n",
       "    .dataframe thead th {\n",
       "        text-align: right;\n",
       "    }\n",
       "</style>\n",
       "<table border=\"1\" class=\"dataframe\">\n",
       "  <thead>\n",
       "    <tr style=\"text-align: right;\">\n",
       "      <th></th>\n",
       "      <th>id</th>\n",
       "      <th>title</th>\n",
       "      <th>price</th>\n",
       "      <th>price_sale</th>\n",
       "      <th>avg_price_per_metr</th>\n",
       "      <th>datetime_create</th>\n",
       "      <th>brand</th>\n",
       "      <th>apartment_area</th>\n",
       "      <th>apartment_floor</th>\n",
       "      <th>apartment_floors_total</th>\n",
       "      <th>apartment_room</th>\n",
       "      <th>apartment_ppm</th>\n",
       "      <th>ppm</th>\n",
       "      <th>project</th>\n",
       "      <th>building</th>\n",
       "      <th>apartment_number</th>\n",
       "    </tr>\n",
       "  </thead>\n",
       "  <tbody>\n",
       "  </tbody>\n",
       "</table>\n",
       "</div>"
      ],
      "text/plain": [
       "Empty DataFrame\n",
       "Columns: [id, title, price, price_sale, avg_price_per_metr, datetime_create, brand, apartment_area, apartment_floor, apartment_floors_total, apartment_room, apartment_ppm, ppm, project, building, apartment_number]\n",
       "Index: []"
      ]
     },
     "execution_count": 66,
     "metadata": {},
     "output_type": "execute_result"
    }
   ],
   "source": [
    "all_room.loc[ (all_room['building'] == '55.682432,37.637749') ] "
   ]
  },
  {
   "cell_type": "code",
   "execution_count": 67,
   "id": "7409df1f-d63e-495e-9891-5f081832d849",
   "metadata": {},
   "outputs": [],
   "source": [
    "#all_room.count()"
   ]
  },
  {
   "cell_type": "code",
   "execution_count": 68,
   "id": "c2d3cb07-351d-44d9-b8d2-81cdf39f54f9",
   "metadata": {},
   "outputs": [
    {
     "data": {
      "text/html": [
       "<div>\n",
       "<style scoped>\n",
       "    .dataframe tbody tr th:only-of-type {\n",
       "        vertical-align: middle;\n",
       "    }\n",
       "\n",
       "    .dataframe tbody tr th {\n",
       "        vertical-align: top;\n",
       "    }\n",
       "\n",
       "    .dataframe thead th {\n",
       "        text-align: right;\n",
       "    }\n",
       "</style>\n",
       "<table border=\"1\" class=\"dataframe\">\n",
       "  <thead>\n",
       "    <tr style=\"text-align: right;\">\n",
       "      <th></th>\n",
       "      <th>id</th>\n",
       "      <th>price</th>\n",
       "      <th>price_sale</th>\n",
       "      <th>avg_price_per_metr</th>\n",
       "      <th>apartment_area</th>\n",
       "      <th>apartment_floor</th>\n",
       "      <th>apartment_floors_total</th>\n",
       "      <th>apartment_room</th>\n",
       "      <th>apartment_ppm</th>\n",
       "      <th>ppm</th>\n",
       "    </tr>\n",
       "  </thead>\n",
       "  <tbody>\n",
       "    <tr>\n",
       "      <th>count</th>\n",
       "      <td>9.955710e+05</td>\n",
       "      <td>9.955710e+05</td>\n",
       "      <td>9.955710e+05</td>\n",
       "      <td>9.944140e+05</td>\n",
       "      <td>994414.000000</td>\n",
       "      <td>920571.000000</td>\n",
       "      <td>625414.000000</td>\n",
       "      <td>920571.000000</td>\n",
       "      <td>7.808980e+05</td>\n",
       "      <td>9.944140e+05</td>\n",
       "    </tr>\n",
       "    <tr>\n",
       "      <th>mean</th>\n",
       "      <td>2.616656e+07</td>\n",
       "      <td>2.715333e+07</td>\n",
       "      <td>2.454318e+07</td>\n",
       "      <td>4.024056e+05</td>\n",
       "      <td>54.097739</td>\n",
       "      <td>13.614862</td>\n",
       "      <td>30.209503</td>\n",
       "      <td>1.763670</td>\n",
       "      <td>3.530814e+05</td>\n",
       "      <td>4.024056e+05</td>\n",
       "    </tr>\n",
       "    <tr>\n",
       "      <th>std</th>\n",
       "      <td>1.272432e+07</td>\n",
       "      <td>3.985692e+07</td>\n",
       "      <td>3.943721e+07</td>\n",
       "      <td>2.261848e+05</td>\n",
       "      <td>33.312293</td>\n",
       "      <td>12.175811</td>\n",
       "      <td>14.811901</td>\n",
       "      <td>1.308695</td>\n",
       "      <td>2.545189e+05</td>\n",
       "      <td>2.261848e+05</td>\n",
       "    </tr>\n",
       "    <tr>\n",
       "      <th>min</th>\n",
       "      <td>5.980000e+02</td>\n",
       "      <td>0.000000e+00</td>\n",
       "      <td>0.000000e+00</td>\n",
       "      <td>0.000000e+00</td>\n",
       "      <td>2.400000</td>\n",
       "      <td>-4.000000</td>\n",
       "      <td>0.000000</td>\n",
       "      <td>0.000000</td>\n",
       "      <td>0.000000e+00</td>\n",
       "      <td>0.000000e+00</td>\n",
       "    </tr>\n",
       "    <tr>\n",
       "      <th>25%</th>\n",
       "      <td>1.588360e+07</td>\n",
       "      <td>1.249600e+07</td>\n",
       "      <td>1.123250e+07</td>\n",
       "      <td>2.860377e+05</td>\n",
       "      <td>33.600000</td>\n",
       "      <td>4.000000</td>\n",
       "      <td>21.000000</td>\n",
       "      <td>1.000000</td>\n",
       "      <td>2.638750e+05</td>\n",
       "      <td>2.860377e+05</td>\n",
       "    </tr>\n",
       "    <tr>\n",
       "      <th>50%</th>\n",
       "      <td>3.060036e+07</td>\n",
       "      <td>2.120278e+07</td>\n",
       "      <td>1.771333e+07</td>\n",
       "      <td>3.813570e+05</td>\n",
       "      <td>47.100000</td>\n",
       "      <td>12.000000</td>\n",
       "      <td>26.000000</td>\n",
       "      <td>2.000000</td>\n",
       "      <td>3.455370e+05</td>\n",
       "      <td>3.813570e+05</td>\n",
       "    </tr>\n",
       "    <tr>\n",
       "      <th>75%</th>\n",
       "      <td>3.366163e+07</td>\n",
       "      <td>3.162306e+07</td>\n",
       "      <td>2.810233e+07</td>\n",
       "      <td>4.698004e+05</td>\n",
       "      <td>70.700000</td>\n",
       "      <td>21.000000</td>\n",
       "      <td>33.000000</td>\n",
       "      <td>3.000000</td>\n",
       "      <td>4.404700e+05</td>\n",
       "      <td>4.698004e+05</td>\n",
       "    </tr>\n",
       "    <tr>\n",
       "      <th>max</th>\n",
       "      <td>4.487158e+07</td>\n",
       "      <td>8.096190e+08</td>\n",
       "      <td>8.096190e+08</td>\n",
       "      <td>3.676369e+06</td>\n",
       "      <td>391.000000</td>\n",
       "      <td>68.000000</td>\n",
       "      <td>69.000000</td>\n",
       "      <td>100.000000</td>\n",
       "      <td>3.676370e+06</td>\n",
       "      <td>3.676369e+06</td>\n",
       "    </tr>\n",
       "  </tbody>\n",
       "</table>\n",
       "</div>"
      ],
      "text/plain": [
       "                 id         price    price_sale  avg_price_per_metr  \\\n",
       "count  9.955710e+05  9.955710e+05  9.955710e+05        9.944140e+05   \n",
       "mean   2.616656e+07  2.715333e+07  2.454318e+07        4.024056e+05   \n",
       "std    1.272432e+07  3.985692e+07  3.943721e+07        2.261848e+05   \n",
       "min    5.980000e+02  0.000000e+00  0.000000e+00        0.000000e+00   \n",
       "25%    1.588360e+07  1.249600e+07  1.123250e+07        2.860377e+05   \n",
       "50%    3.060036e+07  2.120278e+07  1.771333e+07        3.813570e+05   \n",
       "75%    3.366163e+07  3.162306e+07  2.810233e+07        4.698004e+05   \n",
       "max    4.487158e+07  8.096190e+08  8.096190e+08        3.676369e+06   \n",
       "\n",
       "       apartment_area  apartment_floor  apartment_floors_total  \\\n",
       "count   994414.000000    920571.000000           625414.000000   \n",
       "mean        54.097739        13.614862               30.209503   \n",
       "std         33.312293        12.175811               14.811901   \n",
       "min          2.400000        -4.000000                0.000000   \n",
       "25%         33.600000         4.000000               21.000000   \n",
       "50%         47.100000        12.000000               26.000000   \n",
       "75%         70.700000        21.000000               33.000000   \n",
       "max        391.000000        68.000000               69.000000   \n",
       "\n",
       "       apartment_room  apartment_ppm           ppm  \n",
       "count   920571.000000   7.808980e+05  9.944140e+05  \n",
       "mean         1.763670   3.530814e+05  4.024056e+05  \n",
       "std          1.308695   2.545189e+05  2.261848e+05  \n",
       "min          0.000000   0.000000e+00  0.000000e+00  \n",
       "25%          1.000000   2.638750e+05  2.860377e+05  \n",
       "50%          2.000000   3.455370e+05  3.813570e+05  \n",
       "75%          3.000000   4.404700e+05  4.698004e+05  \n",
       "max        100.000000   3.676370e+06  3.676369e+06  "
      ]
     },
     "execution_count": 68,
     "metadata": {},
     "output_type": "execute_result"
    }
   ],
   "source": [
    "all_room.describe()"
   ]
  },
  {
   "cell_type": "code",
   "execution_count": 69,
   "id": "5648e24a-985a-4291-94bf-78cba7f6b53c",
   "metadata": {},
   "outputs": [],
   "source": [
    " #all_room[1:3]"
   ]
  },
  {
   "cell_type": "code",
   "execution_count": 70,
   "id": "a99af1ab-4181-4cc9-af45-3061b2b8279f",
   "metadata": {},
   "outputs": [],
   "source": [
    "#all_room = all_room.dropna()"
   ]
  },
  {
   "cell_type": "code",
   "execution_count": 71,
   "id": "2ceca43d-9c9f-40cf-924e-8410f8ad6373",
   "metadata": {},
   "outputs": [],
   "source": [
    "#all_room.count()"
   ]
  },
  {
   "cell_type": "code",
   "execution_count": 72,
   "id": "cda849cc-000e-4c33-8afe-ba03e38a946d",
   "metadata": {},
   "outputs": [
    {
     "name": "stdout",
     "output_type": "stream",
     "text": [
      "Capital Group\n",
      "donstroy.moscow\n",
      "fr.mos.ru\n",
      "gk-osnova.ru\n",
      "level.ru\n",
      "Галс-Девелопмент\n"
     ]
    }
   ],
   "source": [
    "# добавим поле парсер, сделаем его выислямемы имз бренда\n",
    "\n",
    "parser_base = ['Capital Group', 'donstroy.moscow', 'gk-osnova.ru', 'level.ru', 'Галс-Девелопмент', \n",
    "    'fr.mos.ru']\n",
    "\n",
    "brands = sorted(list(all_room['brand'].unique()))\n",
    "for b in brands:\n",
    "    print(b)\n",
    "    assert b in parser_base\n",
    "\n",
    "all_room = all_room.assign(parser = lambda x:x['brand']) "
   ]
  },
  {
   "cell_type": "markdown",
   "id": "35a76fb2-8aa8-4760-b66c-20dbd97d8aec",
   "metadata": {},
   "source": [
    "#  Чистим донстрой"
   ]
  },
  {
   "cell_type": "code",
   "execution_count": 73,
   "id": "9a18d0ab-9fcc-48c5-8319-2a1ca39103f3",
   "metadata": {},
   "outputs": [],
   "source": [
    "#all_room.count()"
   ]
  },
  {
   "cell_type": "markdown",
   "id": "de4a47cb-5376-47e2-89bf-b4a3900fe135",
   "metadata": {},
   "source": [
    "# убираем первый день"
   ]
  },
  {
   "cell_type": "code",
   "execution_count": null,
   "id": "102df66e-0460-4307-81bc-b05591f61e9c",
   "metadata": {},
   "outputs": [],
   "source": []
  },
  {
   "cell_type": "code",
   "execution_count": 74,
   "id": "4d6c353e-2378-4ccf-9894-9304036fc56e",
   "metadata": {},
   "outputs": [],
   "source": [
    "all_room = all_room.loc[(all_room['brand'].str.contains(\"donstroy.moscow\") & (all_room['datetime_create'] != '2024-02-09') ) | (~all_room['brand'].str.contains(\"donstroy.moscow\"))]"
   ]
  },
  {
   "cell_type": "code",
   "execution_count": 75,
   "id": "26f4da0a-e69d-4622-b192-2bc46225092b",
   "metadata": {},
   "outputs": [
    {
     "data": {
      "text/plain": [
       "id                        995560\n",
       "title                     995560\n",
       "price                     995560\n",
       "price_sale                995560\n",
       "avg_price_per_metr        994403\n",
       "datetime_create           995560\n",
       "brand                     995560\n",
       "apartment_area            994403\n",
       "apartment_floor           920560\n",
       "apartment_floors_total    625403\n",
       "apartment_room            920560\n",
       "apartment_ppm             780898\n",
       "ppm                       994403\n",
       "project                   995560\n",
       "building                  995560\n",
       "apartment_number          995560\n",
       "parser                    995560\n",
       "dtype: int64"
      ]
     },
     "execution_count": 75,
     "metadata": {},
     "output_type": "execute_result"
    }
   ],
   "source": [
    "all_room.count()"
   ]
  },
  {
   "cell_type": "code",
   "execution_count": 76,
   "id": "f55bc7f9-c6d8-4376-9edc-d7b3e2c7d9f6",
   "metadata": {},
   "outputs": [],
   "source": [
    "#all_room.count()"
   ]
  },
  {
   "cell_type": "code",
   "execution_count": 77,
   "id": "ad81c73b-dea2-4875-83ef-5d39fe199659",
   "metadata": {},
   "outputs": [],
   "source": [
    "\n",
    "#all_room.loc[all_room['brand'].str.contains(\"donstroy.moscow\") & all_room['title'].str.contains(\"секц\")  ][88:90]\n",
    "#all_room.loc[all_room['brand'].str.contains(\"donstroy.moscow\") & all_room['title'].str.contains(\"секц\")  ].count()"
   ]
  },
  {
   "cell_type": "code",
   "execution_count": null,
   "id": "e58986ae-8c75-4f42-bea1-9b9cea7a5f24",
   "metadata": {},
   "outputs": [],
   "source": []
  },
  {
   "cell_type": "markdown",
   "id": "081fbc5c-82c5-4ab5-a804-ddf270c9f1e8",
   "metadata": {},
   "source": [
    "# удаляю часть данных от 240315  так как там была одна сломанная загрузка, еще 2 раза по одной и одно нормальня"
   ]
  },
  {
   "cell_type": "code",
   "execution_count": 78,
   "id": "37260433-773f-4f7f-9ab7-17fdc111342a",
   "metadata": {},
   "outputs": [],
   "source": [
    "all_room = all_room.loc[(~all_room['brand'].str.contains(\"donstroy.moscow\")) | (all_room['datetime_create'] !=  '2024-03-15')  |  ((all_room['datetime_create'] ==  '2024-03-15') & (~all_room['title'].str.contains(\".+ \\| .+ \\| .+ \\| .+ \\| .+ \\| .+ \\| \\d+$\")))]"
   ]
  },
  {
   "cell_type": "code",
   "execution_count": 79,
   "id": "d4bbb83d-1002-4e7d-aba7-db31eeb60600",
   "metadata": {},
   "outputs": [
    {
     "data": {
      "text/plain": [
       "id                        994316\n",
       "title                     994316\n",
       "price                     994316\n",
       "price_sale                994316\n",
       "avg_price_per_metr        993159\n",
       "datetime_create           994316\n",
       "brand                     994316\n",
       "apartment_area            993159\n",
       "apartment_floor           919316\n",
       "apartment_floors_total    624159\n",
       "apartment_room            919316\n",
       "apartment_ppm             780898\n",
       "ppm                       993159\n",
       "project                   994316\n",
       "building                  994316\n",
       "apartment_number          994316\n",
       "parser                    994316\n",
       "dtype: int64"
      ]
     },
     "execution_count": 79,
     "metadata": {},
     "output_type": "execute_result"
    }
   ],
   "source": [
    "all_room.count()"
   ]
  },
  {
   "cell_type": "markdown",
   "id": "6075af40-26a0-4498-86bd-23b05d0f695f",
   "metadata": {},
   "source": [
    "# добаявляем поля project и building"
   ]
  },
  {
   "cell_type": "code",
   "execution_count": 80,
   "id": "35866971-49ee-4fb2-9e99-adedcba12867",
   "metadata": {
    "scrolled": true
   },
   "outputs": [
    {
     "name": "stderr",
     "output_type": "stream",
     "text": [
      "/tmp/ipykernel_2022823/1759639046.py:13: FutureWarning: Series.__getitem__ treating keys as positions is deprecated. In a future version, integer keys will always be treated as labels (consistent with DataFrame behavior). To access a value by position, use `ser.iloc[pos]`\n",
      "  apartment_floor = int(i[8])\n",
      "/tmp/ipykernel_2022823/1759639046.py:21: FutureWarning: Series.__getitem__ treating keys as positions is deprecated. In a future version, integer keys will always be treated as labels (consistent with DataFrame behavior). To access a value by position, use `ser.iloc[pos]`\n",
      "  d = i[7] if i[7] != float(int(i[7])) else int(i[7])\n",
      "/tmp/ipykernel_2022823/1759639046.py:25: FutureWarning: Series.__getitem__ treating keys as positions is deprecated. In a future version, integer keys will always be treated as labels (consistent with DataFrame behavior). To access a value by position, use `ser.iloc[pos]`\n",
      "  title = i[1]\n",
      "/tmp/ipykernel_2022823/1759639046.py:39: FutureWarning: Series.__getitem__ treating keys as positions is deprecated. In a future version, integer keys will always be treated as labels (consistent with DataFrame behavior). To access a value by position, use `ser.iloc[pos]`\n",
      "  apartment_floor = int(i[8])\n",
      "/tmp/ipykernel_2022823/1759639046.py:46: FutureWarning: Series.__getitem__ treating keys as positions is deprecated. In a future version, integer keys will always be treated as labels (consistent with DataFrame behavior). To access a value by position, use `ser.iloc[pos]`\n",
      "  d = i[7] if i[7] != float(int(i[7])) else int(i[7])\n",
      "/tmp/ipykernel_2022823/1759639046.py:50: FutureWarning: Series.__getitem__ treating keys as positions is deprecated. In a future version, integer keys will always be treated as labels (consistent with DataFrame behavior). To access a value by position, use `ser.iloc[pos]`\n",
      "  title = i[1]\n"
     ]
    }
   ],
   "source": [
    "#Корпус ДОМ XXII 0 Корпус 1, 1 секц 2 166\n",
    "#f\"{project} {kvartal} {korpus} {section} {floor} {area} {address}\"\n",
    "#'Река | Река–2 | Клубный дом |', 'ДОМ XXII | 0 |'\n",
    "#2024-03-10\n",
    "#{'Событие Событие 4', 'ДОМ XXII 0', 'Остров Остров.3', 'Остров Остров.5', 'Река Река–2 | Клубный дом', 'Остров Остров.4', 'Событие Событие 5', 'Река Река-3 | Клубный дом', 'Символ Искренность', 'Символ Смелость', 'Символ Вдохновение', 'Остров Остров.6', 'Остров Остров.2', 'Событие Событие 2', 'Остров Остров.1', 'Расплетина, 14 0', 'Символ Независимость', 'Событие Событие 3', 'Символ Достоинство'}\n",
    "#---\n",
    "#2024-03-11\n",
    "#{'', 'Река | Река–2 | Клубный дом |', 'ДОМ XXII | 0 |', 'Событие | Событие 2 |', 'Символ | Достоинство |', 'Академическая', 'Саввинская 17', 'Событие | Событие 4 |', 'Стрешнево', 'Символ | Искренность |', 'Южнопортовая', 'Событие | Событие 3 |', 'Бауманская', 'Остров | Остров.4 |', 'Селигерская', 'Мичуринский, этапы 1 и 2', 'Остров | Остров.5 |', 'Саввинская 27', 'Событие | Событие 5 |', 'Павелецкая Сити', 'Нагатинская', 'Остров | Остров.3 |', 'Мичуринский, этап 3', 'Символ | Вдохновение |', 'Нижегородская', 'Остров | Остров.2 |', 'Причальный', 'Расплетина, 14 | 0 |', 'Символ | Смелость |', 'Река | Река-3 | Клубный дом |', 'Остров | Остров.6 |', 'Символ | Независимость |', 'Остров | Остров.1 |'}\n",
    "\n",
    "def update_project_donstroy_moscow(i):\n",
    "    if i['brand'] == 'donstroy.moscow':\n",
    "        try:\n",
    "            apartment_floor = int(i[8])\n",
    "        except:\n",
    "            apartment_floor = -10\n",
    "        if apartment_floor == -10:\n",
    "            return i['project']\n",
    "\n",
    "        #d = int(i[7])\n",
    "        #d = i[7]\n",
    "        d = i[7] if i[7] != float(int(i[7])) else int(i[7])\n",
    "        \n",
    "        #sep = f\" {apartment_floor} {d:.1f}\"\n",
    "        sep = f\" {apartment_floor} {d}\"\n",
    "        title = i[1]\n",
    "        title = title.replace(' | ', ' ')\n",
    "        #title = title.replace(' |', '', 1)\n",
    "        \n",
    "        tl = title.split(sep)[0].split(' Корпус ')\n",
    "        building = tl.pop()\n",
    "        \n",
    "        project = ' '.join(tl)\n",
    "        return project\n",
    "    return i['project']\n",
    "\n",
    "def update_building_donstroy_moscow(i):\n",
    "    if i['brand'] == 'donstroy.moscow':\n",
    "        try:\n",
    "            apartment_floor = int(i[8])\n",
    "        except:\n",
    "            apartment_floor = -10\n",
    "        if apartment_floor == -10:\n",
    "            return i['building']\n",
    "\n",
    "        #d = int(i[7])\n",
    "        d = i[7] if i[7] != float(int(i[7])) else int(i[7])\n",
    "            \n",
    "        sep = f\" {apartment_floor} {d}\"\n",
    "        #print(sep)\n",
    "        title = i[1]\n",
    "        title = title.replace(' | ', ' ')\n",
    "        #title = title.replace(' |', '', 1)\n",
    "        tl = title.split(sep)[0].split(' Корпус ')\n",
    "        building = tl.pop()\n",
    "        \n",
    "        return 'Корпус ' + building\n",
    "    return i['building']\n",
    "\n",
    "\n",
    "#all_room['project'] = ''\n",
    "all_room['project'] = all_room.apply(lambda x: update_project_donstroy_moscow(x),  axis=1)\n",
    "\n",
    "#all_room['building'] = ''\n",
    "all_room['building'] = all_room.apply(lambda x: update_building_donstroy_moscow(x),  axis=1)\n"
   ]
  },
  {
   "cell_type": "code",
   "execution_count": 81,
   "id": "41a5edce-bb8b-4ada-b82c-31b6a40f1999",
   "metadata": {},
   "outputs": [],
   "source": [
    "#all_room.loc[all_room['brand'].str.contains(\"donstroy.moscow\") & all_room['title'].str.contains(\"секц\")  ][88:90]"
   ]
  },
  {
   "cell_type": "code",
   "execution_count": 82,
   "id": "012fd12f-0dd5-4c0f-8d50-e227a20fc052",
   "metadata": {},
   "outputs": [],
   "source": [
    "#all_room['project'].unique()"
   ]
  },
  {
   "cell_type": "code",
   "execution_count": 83,
   "id": "23dc3a29-4c20-4392-890a-e4c4ca5c9ea3",
   "metadata": {},
   "outputs": [],
   "source": [
    "#all_room['building'].unique()"
   ]
  },
  {
   "cell_type": "code",
   "execution_count": 84,
   "id": "8709498c-5286-4761-8ea7-bc6ad1e3a22f",
   "metadata": {},
   "outputs": [
    {
     "data": {
      "text/plain": [
       "id                        994316\n",
       "title                     994316\n",
       "price                     994316\n",
       "price_sale                994316\n",
       "avg_price_per_metr        993159\n",
       "datetime_create           994316\n",
       "brand                     994316\n",
       "apartment_area            993159\n",
       "apartment_floor           919316\n",
       "apartment_floors_total    624159\n",
       "apartment_room            919316\n",
       "apartment_ppm             780898\n",
       "ppm                       993159\n",
       "project                   994316\n",
       "building                  994316\n",
       "apartment_number          994316\n",
       "parser                    994316\n",
       "dtype: int64"
      ]
     },
     "execution_count": 84,
     "metadata": {},
     "output_type": "execute_result"
    }
   ],
   "source": [
    "all_room.count()"
   ]
  },
  {
   "cell_type": "markdown",
   "id": "7ca929cf-9f8b-4fc8-a53f-9ceedf06b591",
   "metadata": {},
   "source": [
    "# добавляем apartment_number"
   ]
  },
  {
   "cell_type": "code",
   "execution_count": 85,
   "id": "c9bfc6d8-c174-444c-a4a8-d7d3ca20ca22",
   "metadata": {},
   "outputs": [
    {
     "name": "stderr",
     "output_type": "stream",
     "text": [
      "/tmp/ipykernel_2022823/628470534.py:4: FutureWarning: Series.__getitem__ treating keys as positions is deprecated. In a future version, integer keys will always be treated as labels (consistent with DataFrame behavior). To access a value by position, use `ser.iloc[pos]`\n",
      "  title = i[1]\n"
     ]
    }
   ],
   "source": [
    "def update_apartment_number_donstroy_moscow(i):\n",
    "    if i['brand'] == 'donstroy.moscow':\n",
    "        sep = f\" | \"\n",
    "        title = i[1]\n",
    "        tl = title.split(sep)\n",
    "        if len(tl) > 7:\n",
    "            apartment_number = tl[-1]\n",
    "            if apartment_number not in ('\\n296', 'Номер'):\n",
    "                return apartment_number\n",
    "        return '-1'\n",
    "    return i['apartment_number']\n",
    "\n",
    "all_room['apartment_number'] = all_room.apply(lambda x: update_apartment_number_donstroy_moscow(x),  axis=1)"
   ]
  },
  {
   "cell_type": "code",
   "execution_count": 86,
   "id": "c3b837e3-72c8-4f53-9bb2-a83c6a4586d3",
   "metadata": {},
   "outputs": [],
   "source": [
    "#all_room['apartment_number'].unique()"
   ]
  },
  {
   "cell_type": "code",
   "execution_count": null,
   "id": "b939cc73-130f-4d84-857f-f8910aeefa38",
   "metadata": {},
   "outputs": [],
   "source": []
  },
  {
   "cell_type": "markdown",
   "id": "22b71ccb-3069-4368-8a80-ef71ed83f0fa",
   "metadata": {},
   "source": [
    "# Для всех застройщиков"
   ]
  },
  {
   "cell_type": "code",
   "execution_count": null,
   "id": "660c5408-1b5d-4b01-b610-f70609c72081",
   "metadata": {},
   "outputs": [],
   "source": []
  },
  {
   "cell_type": "markdown",
   "id": "f91d0084-9d74-49ac-9e1d-fe08c22bb9db",
   "metadata": {},
   "source": []
  },
  {
   "cell_type": "code",
   "execution_count": null,
   "id": "719759de-4f67-4b6a-9ffc-7ae48518a1d5",
   "metadata": {},
   "outputs": [],
   "source": []
  },
  {
   "cell_type": "code",
   "execution_count": null,
   "id": "b52eba4f-fe27-42ba-9666-50101505f633",
   "metadata": {},
   "outputs": [],
   "source": []
  },
  {
   "cell_type": "markdown",
   "id": "28045429-0307-4a94-a3fa-b1639b97715a",
   "metadata": {},
   "source": [
    "# привожу title к предыдущему формату"
   ]
  },
  {
   "cell_type": "code",
   "execution_count": 87,
   "id": "c21feef0-839f-453b-9ff7-997d2dfdae52",
   "metadata": {},
   "outputs": [
    {
     "name": "stderr",
     "output_type": "stream",
     "text": [
      "/tmp/ipykernel_2022823/575378073.py:3: FutureWarning: Series.__getitem__ treating keys as positions is deprecated. In a future version, integer keys will always be treated as labels (consistent with DataFrame behavior). To access a value by position, use `ser.iloc[pos]`\n",
      "  title = i[1]\n"
     ]
    }
   ],
   "source": [
    "def update_title_donstroy_moscow(i):\n",
    "    if i['brand'] == 'donstroy.moscow':\n",
    "        title = i[1]\n",
    "        #title = title.replace(' | ', ' ', 1)\n",
    "        title = title.replace(' | ', ' ')\n",
    "        #title = title.replace(' |', '', 1)\n",
    "        return title\n",
    "    return i['title']\n",
    "\n",
    "all_room['title'] = all_room.apply(lambda x: update_title_donstroy_moscow(x),  axis=1)"
   ]
  },
  {
   "cell_type": "code",
   "execution_count": 88,
   "id": "585bfc0e-6db5-471d-917d-01d880bafc8d",
   "metadata": {},
   "outputs": [],
   "source": [
    "#all_room.loc[(all_room['brand'].str.contains(\"donstroy.moscow\"))][:1] "
   ]
  },
  {
   "cell_type": "code",
   "execution_count": 89,
   "id": "83d93aae-9e54-4f2a-8006-a2704e98247d",
   "metadata": {},
   "outputs": [],
   "source": [
    "#all_room.loc[all_room['brand'].str.contains(\"donstroy.moscow\") & all_room['title'].str.contains(\"секц\")  ][88:90]"
   ]
  },
  {
   "cell_type": "code",
   "execution_count": 90,
   "id": "1a4fc8c9-5061-4eb3-8239-478bc6c1040f",
   "metadata": {},
   "outputs": [],
   "source": [
    "#all_room = all_room.loc[(~all_room['brand'].str.contains(\"donstroy.moscow\")) | (all_room['datetime_create'] !=  '2024-03-15')  |  ((all_room['datetime_create'] ==  '2024-03-15') & (~all_room['title'].str.contains(\".+ \\| .+ \\| .+ \\| .+ \\| .+ \\| .+ \\| .+ \\| \\d+$\")))]"
   ]
  },
  {
   "cell_type": "code",
   "execution_count": 91,
   "id": "8c38197d-5563-4222-80f6-6925e241a1a1",
   "metadata": {},
   "outputs": [],
   "source": [
    "#all_room.count()"
   ]
  },
  {
   "cell_type": "code",
   "execution_count": 92,
   "id": "4b4015ef-8e6d-4a72-9c62-1e811a882706",
   "metadata": {},
   "outputs": [],
   "source": [
    "#all_room.loc[(all_room['brand'].str.contains(\"donstroy.moscow\")) &  ((all_room['datetime_create'] ==  '2024-03-01') & (all_room['title'].str.contains(\".+ \\| .+ \\| .+ \\| .+ \\| .+ \\| .+ \\| .+ \\| \\d+$\")))].count()"
   ]
  },
  {
   "cell_type": "code",
   "execution_count": null,
   "id": "e0761e87-ecb4-4a2d-bcc6-a07e9c2d36ab",
   "metadata": {},
   "outputs": [],
   "source": []
  },
  {
   "cell_type": "code",
   "execution_count": null,
   "id": "8058fc12-821e-46d2-828b-84ba799fcff4",
   "metadata": {},
   "outputs": [],
   "source": []
  },
  {
   "cell_type": "code",
   "execution_count": 93,
   "id": "c766b247-b554-45a4-8ff7-7dea19afe381",
   "metadata": {},
   "outputs": [],
   "source": [
    "#all_room.count()"
   ]
  },
  {
   "cell_type": "code",
   "execution_count": 94,
   "id": "d7136ac8-f490-4ca7-83cb-fc1dfd74dca8",
   "metadata": {},
   "outputs": [],
   "source": [
    "#all_room = all_room.loc[(all_room['datetime_create'] !=  '2024-03-15')  |  ((all_room['datetime_create'] ==  '2024-03-15') & (~all_room['title'].str.contains(\".+ \\| .+ \\| .+ \\| .+ \\| .+ \\| \\d+$\")))]"
   ]
  },
  {
   "cell_type": "markdown",
   "id": "416e172f-5897-44fa-a16c-815acc29cd88",
   "metadata": {},
   "source": [
    "# общее для всех выборо рпо донгстрою "
   ]
  },
  {
   "cell_type": "markdown",
   "id": "4fb04b15-384d-43cd-a65c-af68caf6eb50",
   "metadata": {},
   "source": [
    "Нужно вырезать из графиков данные в момент перстчета с 240314 на 240315, так как 240315 появился новый ключ уникальности"
   ]
  },
  {
   "cell_type": "code",
   "execution_count": null,
   "id": "8c9e9717-0b22-45a0-8e83-b30bb749afa1",
   "metadata": {},
   "outputs": [],
   "source": []
  },
  {
   "cell_type": "markdown",
   "id": "a3d6777e-2055-41dc-9a96-0d4ead352890",
   "metadata": {},
   "source": [
    "# Избалвяемся от дублей"
   ]
  },
  {
   "cell_type": "markdown",
   "id": "deff753a-629b-4dff-bf23-e52ccae9b2e0",
   "metadata": {},
   "source": [
    "# Нашел абсолютные дубли на этаже, разница только в id https://level.ru/pav_city/flat/1room/7-181/ https://level.ru/pav_city/flat/1room/7-180/"
   ]
  },
  {
   "cell_type": "code",
   "execution_count": 95,
   "id": "afb82cdb-3308-4c73-b6de-9ef7eabc1cb8",
   "metadata": {},
   "outputs": [],
   "source": [
    "# Добаавить id в ключ"
   ]
  },
  {
   "cell_type": "markdown",
   "id": "b4d13131-3540-4c29-a174-4429df902a2b",
   "metadata": {},
   "source": [
    "# для дней когда не было булей по азпуску можно сравнивать уни кальыне собщим числом загуженных записей ( т е надо отедльно от емить дни когжа ыбли дубли)"
   ]
  },
  {
   "cell_type": "code",
   "execution_count": null,
   "id": "9e971e09-cff3-4b28-a083-9e3f9304e263",
   "metadata": {},
   "outputs": [],
   "source": []
  },
  {
   "cell_type": "markdown",
   "id": "41a9097e-c5de-4f71-9c17-293bd12f1c9e",
   "metadata": {},
   "source": [
    "# Изабвиться от дублей 240402 - донстрой, несокль о раз загржад  одно и тоже\n",
    "возможно стоит просто удалить дубли?"
   ]
  },
  {
   "cell_type": "code",
   "execution_count": 96,
   "id": "3a3732d4-1868-474b-a93f-284dd4179c47",
   "metadata": {},
   "outputs": [
    {
     "data": {
      "text/plain": [
       "id                        994316\n",
       "title                     994316\n",
       "price                     994316\n",
       "price_sale                994316\n",
       "avg_price_per_metr        993159\n",
       "datetime_create           994316\n",
       "brand                     994316\n",
       "apartment_area            993159\n",
       "apartment_floor           919316\n",
       "apartment_floors_total    624159\n",
       "apartment_room            919316\n",
       "apartment_ppm             780898\n",
       "ppm                       993159\n",
       "project                   994316\n",
       "building                  994316\n",
       "apartment_number          994316\n",
       "parser                    994316\n",
       "dtype: int64"
      ]
     },
     "execution_count": 96,
     "metadata": {},
     "output_type": "execute_result"
    }
   ],
   "source": [
    "all_room.count()"
   ]
  },
  {
   "cell_type": "code",
   "execution_count": null,
   "id": "5ba32b61-8dd3-47ab-87cc-a4323e41c28d",
   "metadata": {},
   "outputs": [],
   "source": []
  },
  {
   "cell_type": "code",
   "execution_count": null,
   "id": "f52057be-a36a-41d7-829e-65a33bff3d97",
   "metadata": {},
   "outputs": [],
   "source": []
  },
  {
   "cell_type": "code",
   "execution_count": 97,
   "id": "51650113-79fd-4ba1-b657-bf64e0234777",
   "metadata": {},
   "outputs": [],
   "source": [
    "#https://fr.mos.ru/pokupka-nedvizhimosti-dlya-vseh/ajax.php?type[]=R&status[]=FINISHED&status[]=PROCESSING&price_min=0&price_max=35000000&floor_min=-1&floor_max=54&open_sale=1&pagesize=100000"
   ]
  },
  {
   "cell_type": "code",
   "execution_count": null,
   "id": "6bd8b2cd-27bd-452b-9b1a-57725f64c179",
   "metadata": {},
   "outputs": [],
   "source": []
  },
  {
   "cell_type": "code",
   "execution_count": null,
   "id": "f841496e-c081-4413-a143-38e778380c9d",
   "metadata": {},
   "outputs": [],
   "source": []
  },
  {
   "cell_type": "code",
   "execution_count": 98,
   "id": "0e946482-94b8-4811-8b2f-1a73eccf3507",
   "metadata": {},
   "outputs": [],
   "source": [
    "# сгалживание окном\n",
    "\n",
    "def sleek_by_window(window, list_sel):\n",
    "    if window > 1:\n",
    "        s2 = []\n",
    "        diapson = [-7, 7]\n",
    "        for j in list_sel:\n",
    "             if diapson[0] < j < diapson[1] or 1:\n",
    "                 s2.append(j)\n",
    "        ws = []\n",
    "        ww = []\n",
    "\n",
    "        #иницируе первым занчением чтобы графики ровнее были\n",
    "        #print(ww)\n",
    "        for i in range(window):\n",
    "            ww.append(s2[i])\n",
    "        #print(ww)\n",
    "        \n",
    "        for j in s2:\n",
    "        #    print(ww)\n",
    "            ww.append(j)\n",
    "            if len(ww) > window:\n",
    "                ee = ww.pop(0)\n",
    "            ws.append(sum(ww)/window)\n",
    "        #    print(ww)\n",
    "        #    print('====', ws[-1])\n",
    "        #print(ww)\n",
    "        #print('---')\n",
    "        \n",
    "        list_sel = ws\n",
    "    return list_sel\n"
   ]
  },
  {
   "cell_type": "code",
   "execution_count": 99,
   "id": "0e322214-3951-4138-83f6-fa1e80db446c",
   "metadata": {},
   "outputs": [],
   "source": [
    "# Кличетсво проданных квартир за вчера. Берем квартиры за день Х берем квартиры за день Х + 1. \n",
    "# Смотрим сколько картир пересаекается в эти дни. И сумму пересечения вычиаетм из дня X. Получаем скольк квартир продано в день X и так далее"
   ]
  },
  {
   "cell_type": "code",
   "execution_count": 100,
   "id": "c69f3610-1291-4005-bbf0-0b375d80bc48",
   "metadata": {},
   "outputs": [],
   "source": [
    "#(donstroy_moscow_all_room['brand'].str.contains(\"donstroy.moscow\")) &\n",
    "#\n",
    "#'2024-02-09', '2024-02-10', '2024-02-11','2024-02-12','2024-02-13','2024-02-14','2024-02-15','2024-02-16','2024-02-17','2024-02-18','2024-02-19',\n",
    "#                '2024-02-20', '2024-02-21', '2024-02-22', '2024-02-23', '2024-02-24', '2024-02-25'\n",
    "#df_room\n",
    "\n",
    "def sell_minus_old_again(window, sigma3, df_room):\n",
    "    #sigma3 = 50\n",
    "    day_x = []\n",
    "    day_x_1 = []\n",
    "    all = set()\n",
    "    list_sel = []\n",
    "    list_sel_lost = []\n",
    "    list_sel_find = []\n",
    "    room_lost = {}\n",
    "    room_day_lost = {}\n",
    "    room_day_lost_yesterday = set()\n",
    "    days = sorted(list(df_room['datetime_create'].unique()))\n",
    "    #df_room = df_room.dropna()\n",
    "    #print(days)\n",
    "    k = 0\n",
    "    for day in days:\n",
    "        k+=1\n",
    "        day_x = day_x_1[:]\n",
    "        #day_x_1 = df_room.loc[df_room['datetime_create']==day ][['title','price','apartment_area','apartment_floor','ppm']].apply(tuple, axis=1).dropna()\n",
    "        day_x_1 = df_room.loc[df_room['datetime_create']==day ][['price','apartment_area','apartment_floor','ppm']].apply(tuple, axis=1).dropna()\n",
    "        #day_x_1 = df_room.loc[df_room['datetime_create']==day ][['title','price','apartment_area','apartment_floor','ppm']].apply(tuple, axis=1)\n",
    "        #day_x_1 = df_room.loc[df_room['datetime_create']==day ][['title','price','apartment_area','apartment_floor',]].apply(tuple, axis=1)\n",
    "        #day_x_1 = df_room.loc[df_room['datetime_create']==day ][['price','apartment_area','apartment_floor',]].apply(tuple, axis=1)\n",
    "        #day_x_1 = df_room.loc[df_room['datetime_create']==day ][['apartment_area','apartment_floor',]].apply(tuple, axis=1)\n",
    "\n",
    "        count_lost = len(set(day_x) - set(day_x_1))          \n",
    "        if count_lost > sigma3:\n",
    "            count_lost = sum(list_sel_lost)/len(list_sel_lost)\n",
    "            \n",
    "        count_find = len((set(day_x_1) - set(day_x)) & all)\n",
    "        if count_find > sigma3:\n",
    "            count_find = sum(list_sel_find)/len(list_sel_find)\n",
    "        \n",
    "        list_sel.append(count_lost - count_find)\n",
    "\n",
    "        list_sel_lost.append(count_lost)\n",
    "        list_sel_find.append(count_find)\n",
    "        \n",
    "        all = all | set(day_x_1)    \n",
    "        \n",
    "        for i in list(day_x_1):\n",
    "            pass\n",
    "\n",
    "        room_day_lost_yesterday = set(day_x) - set(day_x_1)\n",
    "            \n",
    "                \n",
    "\n",
    "    list_sel = sleek_by_window(window, list_sel)\n",
    "    list_sel_lost = sleek_by_window(window, list_sel_lost)\n",
    "    list_sel_find = sleek_by_window(window, list_sel_find)\n",
    "    \n",
    "    return zip(days, list_sel, list_sel_lost, list_sel_find)"
   ]
  },
  {
   "cell_type": "code",
   "execution_count": 101,
   "id": "32942ba5-5f7b-473b-a196-08f0433e6ee5",
   "metadata": {},
   "outputs": [],
   "source": [
    "#import datetime\n",
    "def create_date_list(start_date, end_date):\n",
    "    date_list = []\n",
    "    current_date = start_date\n",
    "    while current_date <= end_date:\n",
    "        date_list.append(current_date.strftime('%Y-%m-%d'))\n",
    "        current_date += datetime.timedelta(days=1)\n",
    "    return date_list\n",
    "    \n",
    "def lost_days_list(df_room):\n",
    "    days = sorted(list(df_room['datetime_create'].unique()))\n",
    "    # взять первый день данных и последний. Сгенерить в диазоне этих дней все даты, сделат из них множество, вычесть их этого моножество базовое. полдучим спик дат в котрых нет данныех.\n",
    "\n",
    "    if not days:\n",
    "        return []\n",
    "    \n",
    "    dates = create_date_list(datetime.datetime.strptime(days[0], '%Y-%m-%d'), datetime.datetime.strptime(days[-1], '%Y-%m-%d'))\n",
    "\n",
    "    return sorted(list(dates))\n",
    "    #print(dates)\n",
    "    #print(sorted(list((set(dates) - set(days)))))\n",
    "    #return sorted(list((set(dates) - set(days))))\n",
    "\n",
    "#import datetime\n",
    "\n",
    "def rcreate_date_list(start_date, end_date):\n",
    "    date_list = []\n",
    "    current_date = datetime.datetime.strptime(start_date, '%Y-%m-%d')\n",
    "    while current_date <= end_date:\n",
    "        date_list.append(current_date.strftime('%Y-%m-%d'))\n",
    "        current_date += datetime.timedelta(days=1)\n",
    "    return date_list\n"
   ]
  },
  {
   "cell_type": "code",
   "execution_count": 102,
   "id": "6037049d-c8a4-4ec5-845f-ab0ad6c9cae6",
   "metadata": {},
   "outputs": [],
   "source": [
    "def DEPRICATED_days_without_problem_in_all_parsers(days, df_room):\n",
    "    # пересечь ен полдучилось так как все парсры пислась в назнео время и енкотрые кже отключены\n",
    "    days_uniq = set(days[:])\n",
    "    parsers = sorted(list(df_room['parser'].unique()))\n",
    "    for parser in parsers:\n",
    "        print(parser)\n",
    "        days_uniq_for_parser = set(df_room.loc[df_room['parser']==parser ]['datetime_create'].unique())\n",
    "        days_uniq = days_uniq & days_uniq_for_parser\n",
    "        \n",
    "        print(sorted(list(days_uniq_for_parser)))\n",
    "    return days_uniq\n",
    "\n",
    "def days_without_problem_in_all_parsers(days, df_room):\n",
    "    # вытащить все плохие дни и вычесть их из всех дней ( а  плозие ни нахрдятся в промежуьке)\n",
    "    days_uniq = set(days[:])\n",
    "    parsers = sorted(list(df_room['parser'].unique()))\n",
    "    for parser in parsers:\n",
    "        days_all_for_parser = set(lost_days_list(df_room.loc[df_room['parser']==parser]))\n",
    "        days_uniq_for_parser = set(df_room.loc[df_room['parser']==parser ]['datetime_create'].unique())\n",
    "        days_bad_for_parser = days_all_for_parser - days_uniq_for_parser\n",
    "        days_uniq = days_uniq - days_bad_for_parser\n",
    "    return days_uniq\n",
    "\n",
    "\n"
   ]
  },
  {
   "cell_type": "code",
   "execution_count": 103,
   "id": "13b5578a-f873-46ff-953c-93178a91da67",
   "metadata": {},
   "outputs": [],
   "source": [
    "# получить информацию по дням стартов пректов \n",
    "def day_start_project(all_room):\n",
    "    days = sorted(lost_days_list(all_room))\n",
    "    s_today = set()\n",
    "    #s_yesterday = set()\n",
    "    all = set()\n",
    "    for day in days:\n",
    "        #s_yesterday = s_today\n",
    "        s_today = set(all_room.loc[ (all_room['datetime_create'] == day) ]['project'].unique())\n",
    "        # y_t = s_yesterday - s_today\n",
    "        # t_y = s_today -  s_yesterday\n",
    "        # if (len(y_t) > 1 or  ('' not in y_t and len(y_t) == 1)) or (len(t_y) >1 or  ('' not in t_y and len(t_y) == 1) ):\n",
    "        #     print(day)\n",
    "        #     print(y_t)\n",
    "        #     print(t_y)\n",
    "        #     print('---')\n",
    "        t_a = s_today - all\n",
    "        if len(t_a) > 0:\n",
    "            print(day)\n",
    "            print(t_a)\n",
    "            print('---')    \n",
    "        all = all | s_today"
   ]
  },
  {
   "cell_type": "code",
   "execution_count": 104,
   "id": "2395d000-74a3-4680-8cd2-da477bce5b06",
   "metadata": {},
   "outputs": [],
   "source": [
    "# получить информацию по дням стартов пректов \n",
    "def day_finish_project(all_room):\n",
    "    days = sorted(lost_days_list(all_room), reverse=True)\n",
    "    s_today = set()\n",
    "    s_f = {}\n",
    "    all = set()\n",
    "    for day in days:\n",
    "        s_today = set(all_room.loc[ (all_room['datetime_create'] == day) ]['project'].unique())\n",
    "        t_a = s_today - all\n",
    "        if len(t_a) > 0:\n",
    "            s_f[day] = t_a     \n",
    "        all = all | s_today\n",
    "    for k in sorted(s_f):\n",
    "        print(k)\n",
    "        print(s_f[k])\n",
    "        print('---')"
   ]
  },
  {
   "cell_type": "code",
   "execution_count": 105,
   "id": "b565124a-ffbd-4bbc-b60b-3771fd891b60",
   "metadata": {},
   "outputs": [],
   "source": [
    "def delete_day_before_empty(days, days_unique, room_sell_list):\n",
    "    # при расчет текущей даты в ппрощлое, нужно  для графика количесства продаж занулять день после пустого промежьукт (когда сервси не подучал данные)\n",
    "    # нужно жто чтбы не было больших всперлесков продаж, однако подучается мы теряем на 1 день больше чем моглибы\n",
    "    #print(len(days))\n",
    "    #print(len(days_unique))\n",
    "    #print(len(room_sell_list))\n",
    "    \n",
    "    room_sell_list_return = []\n",
    "    flag_empty = 0\n",
    "    for i in range(len(days)):\n",
    "        #print(days[i])\n",
    "        if days[i] in days_unique and flag_empty == 0:\n",
    "            room_sell_list_return.append(room_sell_list[i])\n",
    "            #print('-1')\n",
    "        elif days[i] in days_unique and flag_empty == 1:            \n",
    "            room_sell_list_return.append(room_sell_list[i])\n",
    "            #print(room_sell_list[i])\n",
    "            #print('-2')\n",
    "            flag_empty = 0\n",
    "        elif days[i] not in days_unique:\n",
    "            room_sell_list_return[-1] = -5\n",
    "            room_sell_list_return.append(0)\n",
    "            #print(room_sell_list[i])\n",
    "            flag_empty = 1\n",
    "            #print('-3')\n",
    "        #print(room_sell_list[i])\n",
    "    return room_sell_list_return\n",
    "    "
   ]
  },
  {
   "cell_type": "code",
   "execution_count": 106,
   "id": "d65e1737-0c97-4f83-ab39-da4ee3c90e2e",
   "metadata": {},
   "outputs": [],
   "source": [
    "def D_update_empty_day_set_average_value(days, days_unique, room_sell_list):\n",
    "    room_sell_list_return = []\n",
    "    flag_empty = 0\n",
    "    count_empty_days = 0\n",
    "    for i in range(len(days)):\n",
    "        if days[i] in days_unique and flag_empty == 0:\n",
    "            room_sell_list_return.append(room_sell_list[i])\n",
    "        elif days[i] in days_unique and flag_empty == 1:            \n",
    "            room_sell_list_return.append(room_sell_list[i])\n",
    "            flag_empty = 0\n",
    "            element_with_pik = -1*count_empty_days - 2\n",
    "            window_for_average =  -1 * (element_with_pik + 1)\n",
    "            average = room_sell_list_return[-1*count_empty_days - 2] / window_for_average        \n",
    "            room_sell_list_return[element_with_pik:-1] = [average,] *  window_for_average\n",
    "            count_empty_days = 0\n",
    "        elif days[i] not in days_unique:\n",
    "            count_empty_days += 1\n",
    "            room_sell_list_return.append(room_sell_list[i])\n",
    "            flag_empty = 1\n",
    "    return room_sell_list_return"
   ]
  },
  {
   "cell_type": "code",
   "execution_count": 107,
   "id": "cc0df5b2-e2a4-4cc1-a3fc-24f243286d4e",
   "metadata": {},
   "outputs": [],
   "source": [
    "def update_empty_day_set_average_value(days, days_unique, room_sell_list):\n",
    "    room_sell_list_return = []\n",
    "    flag_empty = 0\n",
    "    count_empty_days = 0\n",
    "    for i in range(len(days)):\n",
    "        room_sell_list_return.append(room_sell_list[i])\n",
    "        if days[i] in days_unique and flag_empty == 1:            \n",
    "            flag_empty = 0\n",
    "            element_with_pik = -1*count_empty_days - 2\n",
    "            window_for_average =  -1 * (element_with_pik + 1)\n",
    "            average = room_sell_list_return[-1*count_empty_days - 2] / window_for_average        \n",
    "            room_sell_list_return[element_with_pik:-1] = [average,] *  window_for_average\n",
    "            count_empty_days = 0\n",
    "        elif days[i] not in days_unique:\n",
    "            count_empty_days += 1\n",
    "            flag_empty = 1\n",
    "    return room_sell_list_return"
   ]
  },
  {
   "cell_type": "code",
   "execution_count": 108,
   "id": "e5d8a4b4-9930-4a8b-961a-f46989ddfac7",
   "metadata": {},
   "outputs": [],
   "source": [
    "# идем в обратном порядке\n",
    "\n",
    "def sell_minus_old_again_reverse(window, sigma3, df_room):\n",
    "    # window - окно сгладивания - т е средня за столько дней\n",
    "    # sigma3 - тосекаем если значнеи болььше ( хреновый показатель надо брать)\n",
    "    # df_room - фремй с данными\n",
    "    \n",
    "    day_tomorrow = []\n",
    "    day_today = []\n",
    "    all = set()\n",
    "    list_sel = []\n",
    "    list_sel_lost = []\n",
    "    list_sel_find = []\n",
    "    room_lost = {}\n",
    "    room_day_lost = {}\n",
    "    room_day_lost_yesterday = set()\n",
    "    room_sell_list = []\n",
    "    room_all_list = []\n",
    "    day_today_list = []\n",
    "    set_day_today_list = []\n",
    "    diff_day_today_and_set_day_today = []\n",
    "\n",
    "    list_price_uniq = []\n",
    "    list_avg_price_per_metr_uniq = []\n",
    "    list_apartment_area_uniq = []\n",
    "    list_apartment_room_uniq = []\n",
    "\n",
    "    double = {}\n",
    "    set_double = set()\n",
    "    \n",
    "    set_day_today = set()\n",
    "    \n",
    "    days = sorted(lost_days_list(df_room), reverse=True)\n",
    "    #days_unique = sorted(list(df_room['datetime_create'].unique()), reverse=True)\n",
    "    days_unique = sorted(list(days_without_problem_in_all_parsers(days, df_room)), reverse=True)\n",
    "    \n",
    "    #df_room = df_room.dropna()\n",
    "    \n",
    "    for day in days:\n",
    "        day_tomorrow = day_today[:]\n",
    "        #day_today = df_room.loc[df_room['datetime_create']==day ][['title','price','apartment_area','apartment_floor','ppm']].apply(tuple, axis=1).dropna()\n",
    "        #day_today = df_room.loc[df_room['datetime_create']==day ][['apartment_area','apartment_floor','project','building']].apply(tuple, axis=1).dropna()\n",
    "        #day_today = df_room.loc[df_room['datetime_create']==day ][['apartment_area','apartment_floor','project','building']].apply(tuple, axis=1)\n",
    "        day_today = df_room.loc[df_room['datetime_create']==day ][['apartment_area','apartment_floor','project','building','apartment_number']].apply(tuple, axis=1)\n",
    "        \n",
    "        # преобрахуя в  ноэество  убираются дубли в этот, т е когда импорт был зхапузен несколько раз\n",
    "        set_day_today = set(day_today)\n",
    "\n",
    "        # удали все none\n",
    "        \n",
    "        room_sell = set_day_today - all\n",
    "        count_room_sell = len(room_sell)\n",
    "        room_sell_list.append(count_room_sell)   \n",
    "        \n",
    "        all = all | set_day_today    \n",
    "        \n",
    "        count_find = len(set(day_tomorrow) - set_day_today)\n",
    "        list_sel_find.append(count_find)\n",
    "        \n",
    "        count_lost = len((set_day_today - set(day_tomorrow)) & all)\n",
    "        list_sel_lost.append(count_lost)\n",
    "        \n",
    "        room_all_list.append(len(all))\n",
    "\n",
    "        day_today_list.append(len(day_today))\n",
    "        set_day_today_list.append(len(set_day_today))\n",
    "        diff_day_today_and_set_day_today.append(len(day_today) - len(set_day_today))\n",
    "\n",
    "        # получение дубей\n",
    "        double = {}\n",
    "        for e in day_today:\n",
    "            if not double.get(e):\n",
    "                double[e] = 0\n",
    "            double[e] += 1\n",
    "        for k1,v1 in double.items():\n",
    "            if v1 > 1:\n",
    "                set_double.add(k1)\n",
    "\n",
    "        # Попробовал посчитать среднюю цуенк квартиры, но ее нет в таблице ункиальных данных так как нет лючей.\n",
    "        # list_price_uniq = [x for x. in set_day_today]\n",
    "        # list_avg_price_per_metr_uniq = []\n",
    "        # list_apartment_area_uniq = []\n",
    "        # list_apartment_room_uniq = []\n",
    "        \n",
    "\n",
    "    # распечать тубли\n",
    "    #print(set_double)\n",
    "\n",
    "    days.reverse()\n",
    "    room_sell_list.reverse()\n",
    "    list_sel_lost.reverse() \n",
    "    list_sel_find.reverse() \n",
    "    room_all_list.reverse()\n",
    "    day_today_list.reverse()\n",
    "    set_day_today_list.reverse()\n",
    "    diff_day_today_and_set_day_today.reverse()\n",
    "    \n",
    "    # борьба с ошибками\n",
    "\n",
    "    # для графика продаж раситываеммого в обратном пордке замеяяем пустые дни когда парсер не работал, и на среднее по скачу доспуных квартир за эти дни.\n",
    "    #  тереяем статитку по лотам которые пришли и ушли в воремя провала\n",
    "    \n",
    "    # удалем день перед пустотой так как у него получается много ищменений\n",
    "    #  решили заменить удаленние на рассчет средного\n",
    "    # room_sell_list = delete_day_before_empty(days, days_unique, room_sell_list)\n",
    "\n",
    "    room_sell_list = update_empty_day_set_average_value(days, days_unique, room_sell_list)\n",
    "    #  обнуляем послений елемент, так как инче будет большой скаче\n",
    "    if room_sell_list:\n",
    "        room_sell_list[-1] = 0\n",
    "\n",
    "    \n",
    "#    #HAK удаляем 240315 так как в эту дату добавили новый ключ уникальности номер комнаты к донстрою\n",
    "#    room_sell_list = list(room_sell_list)\n",
    "#    #print(days)\n",
    "#    #room_sell_list.pop(days.index(datetime.datetime(2024, 3, 15, 0, 0)))\n",
    "#    if '2024-03-15' in days:\n",
    "#        room_sell_list.pop(days.index('2024-03-15'))\n",
    "\n",
    "    \n",
    "    room_sell_list = sleek_by_window(window, room_sell_list)\n",
    "    list_sel_lost = sleek_by_window(window, list_sel_lost)\n",
    "    list_sel_find = sleek_by_window(window, list_sel_find)\n",
    "    room_all_list= sleek_by_window(window, room_all_list)\n",
    "    day_today_list = sleek_by_window(window, day_today_list)\n",
    "    set_day_today_list = sleek_by_window(window, set_day_today_list)\n",
    "    diff_day_today_and_set_day_today = sleek_by_window(window, diff_day_today_and_set_day_today)\n",
    "\n",
    "    # преборазуем строку в дату\n",
    "    days = list(map(lambda x: datetime.datetime.strptime(x, '%Y-%m-%d'), days))\n",
    "\n",
    "    # в посежний день теряем все объекты, и большой скачек на графиках. Так что пока последнее значение заменю на предпосдедене но подумал что лучше ее один график сделать.\n",
    "    list_sel_lost_minus_one = list_sel_lost[:]\n",
    "    list_sel_lost_minus_one[-1] = list_sel_lost_minus_one[-2]\n",
    "\n",
    "    # добвлю расчет цены подням\n",
    "# donstroy_moscow_all_room = all_room.loc[all_room['datetime_create'] != '2024-02-09']\n",
    "\n",
    "# donstroy_moscow_room_group_by_date = donstroy_moscow_all_room.loc[\n",
    "#     all_room['brand'].str.contains(\"level\") & (~all_room['datetime_create'].isin(bad_date)) & (all_room['apartment_area'] > 20 )  & \n",
    "#         (all_room['apartment_area'] < 150 ) & (all_room['apartment_floor'] > 1 ) & (all_room['apartment_floor'] < 50 ) \n",
    "#     ].groupby(['datetime_create'])\n",
    "\n",
    "# donstroy_moscow_room_group_by_date_mean = donstroy_moscow_room_group_by_date[[\"price\", \"avg_price_per_metr\",\"apartment_area\",\"apartment_room\"]].mean()\n",
    "# donstroy_moscow_room_group_by_date_count = donstroy_moscow_room_group_by_date[[\"price\"]].count()\n",
    "# #plt.scatter(donstroy_moscow_room_group_by_date_count.index,donstroy_moscow_room_group_by_date_count[\"price\"], alpha=0.4)\n",
    "# plt.scatter(range(0, len(donstroy_moscow_room_group_by_date_count.index)),donstroy_moscow_room_group_by_date_count[\"price\"], alpha=0.4)\n",
    "# plt.scatter(donstroy_moscow_room_group_by_date_mean.index,donstroy_moscow_room_group_by_date_mean[\"price\"], alpha=0.4)\n",
    "\n",
    "\n",
    "\n",
    "    # все считается без учета верхенурованвых преборазований\n",
    "    #TODO и это проблема!!!!\n",
    "    day_all = df_room.groupby(['datetime_create']) \n",
    "    day_all_mean = day_all[[\"price\", \"avg_price_per_metr\",\"apartment_area\",\"apartment_room\"]].mean()\n",
    "\n",
    "    list_price = []\n",
    "    for day in days:\n",
    "        for x in day_all_mean[\"price\"]:\n",
    "            list_price.append(x)\n",
    "\n",
    "    list_avg_price_per_metr = []\n",
    "    for day in days:\n",
    "        for x in day_all_mean[\"avg_price_per_metr\"]:\n",
    "            list_avg_price_per_metr.append(x)\n",
    "\n",
    "    list_apartment_area = []\n",
    "    for day in days:\n",
    "        for x in day_all_mean[\"apartment_area\"]:\n",
    "            list_apartment_area.append(x)\n",
    "            \n",
    "    list_apartment_room = []\n",
    "    for day in days:\n",
    "        for x in day_all_mean[\"apartment_room\"]:\n",
    "            list_apartment_room.append(x)\n",
    "\n",
    "\n",
    "    return zip(days, room_sell_list, list_sel_lost, list_sel_find, room_all_list, day_today_list, set_day_today_list, \n",
    "               diff_day_today_and_set_day_today, list_price, list_avg_price_per_metr,list_apartment_area, list_apartment_room, list_sel_lost_minus_one)"
   ]
  },
  {
   "cell_type": "code",
   "execution_count": null,
   "id": "03636bf1-b8a4-4d5e-b4de-6b4d6b36234f",
   "metadata": {},
   "outputs": [],
   "source": []
  },
  {
   "cell_type": "code",
   "execution_count": 109,
   "id": "34cebaf4-a141-482f-a0cf-7a3f9f6dac13",
   "metadata": {},
   "outputs": [],
   "source": [
    "#all_room.loc[all_room['brand'].str.contains(\"level\") &  (~all_room['datetime_create'].isin(bad_date))  & (all_room['apartment_area'] > 1 ) & (all_room['apartment_floor'] > 1 ) ][1:3][['apartment_floor','apartment_area', 'title']].apply(tuple, axis=1)"
   ]
  },
  {
   "cell_type": "code",
   "execution_count": 110,
   "id": "a084c9e6-cf79-4c00-bc5a-c57c8dbb9b2e",
   "metadata": {},
   "outputs": [],
   "source": [
    "#all_room.loc[all_room['brand'].str.contains(\"level\") &  (~all_room['datetime_create'].isin(bad_date))  & (all_room['apartment_area'] > 1 ) & (all_room['apartment_floor'] > 1 ) ][1:3]"
   ]
  },
  {
   "cell_type": "code",
   "execution_count": 111,
   "id": "45efcd37-910b-4deb-b5ee-030507752b76",
   "metadata": {},
   "outputs": [],
   "source": [
    "#all_room.loc[all_room['project'].str.contains(\"Мичуринский\") & (all_room['datetime_create'] > '2023-08-08') & (all_room['datetime_create'] < '2023-08-19')].count()\n"
   ]
  },
  {
   "cell_type": "code",
   "execution_count": 112,
   "id": "0803d45c-1b66-45d4-91c4-5629429a93e9",
   "metadata": {},
   "outputs": [],
   "source": [
    "#all_room.loc[all_room['project'].str.contains(\"Мичуринский\") & (all_room['datetime_create'] > '2023-08-08') & (all_room['datetime_create'] < '2023-08-19')]"
   ]
  },
  {
   "cell_type": "code",
   "execution_count": null,
   "id": "651a2537-4cba-406a-8a36-05880a64c4a6",
   "metadata": {},
   "outputs": [],
   "source": []
  },
  {
   "cell_type": "code",
   "execution_count": 113,
   "id": "c9916ee7-d429-4a1f-a622-36de0ce63813",
   "metadata": {},
   "outputs": [
    {
     "data": {
      "text/plain": [
       "id                        994316\n",
       "title                     994316\n",
       "price                     994316\n",
       "price_sale                994316\n",
       "avg_price_per_metr        993159\n",
       "datetime_create           994316\n",
       "brand                     994316\n",
       "apartment_area            993159\n",
       "apartment_floor           919316\n",
       "apartment_floors_total    624159\n",
       "apartment_room            919316\n",
       "apartment_ppm             780898\n",
       "ppm                       993159\n",
       "project                   994316\n",
       "building                  994316\n",
       "apartment_number          994316\n",
       "parser                    994316\n",
       "dtype: int64"
      ]
     },
     "execution_count": 113,
     "metadata": {},
     "output_type": "execute_result"
    }
   ],
   "source": [
    "all_room.count()"
   ]
  },
  {
   "cell_type": "markdown",
   "id": "f4f995be-aeb0-44cf-acc7-4ae1f237dd79",
   "metadata": {},
   "source": [
    "# Взять текущие квартиры с номерами и у одной из дулей данной квартиры прописать номер. тогда будет плавный переходж на графиках.\n"
   ]
  },
  {
   "cell_type": "code",
   "execution_count": 114,
   "id": "71d951da-6166-4611-b555-fbe9c7610d7c",
   "metadata": {},
   "outputs": [],
   "source": [
    "#len(all_room.index)"
   ]
  },
  {
   "cell_type": "code",
   "execution_count": 115,
   "id": "f26ad62d-055e-4a54-bd33-c3a2cfe44051",
   "metadata": {},
   "outputs": [],
   "source": [
    "# def update_apartment_number_for_all(df_room):\n",
    "#     # Взять все квартиры с номерами (уникальное множество)\n",
    "#     # затем для каждого дня обновлять для одной квартиры номер\n",
    "#     days = sorted(lost_days_list(df_room), reverse=True)\n",
    "#     all_uniq_room_with_apartment_number = df_room.loc[(df_room['apartment_number']!='-1') & ((all_room['brand'].str.contains(\"level.ru\")  ) | (all_room['brand'].str.contains(\"donstroy.moscow\")) )][[\n",
    "#         'apartment_area','apartment_floor','project','building','apartment_number']].apply(tuple, axis=1)\n",
    "#     for day in days:\n",
    "#         print(day)\n",
    "#         df_room_day = df_room.loc[(df_room['apartment_number']=='-1') & (df_room['datetime_create']==day) & ((all_room['brand'].str.contains(\"level.ru\")  ) | (all_room['brand'].str.contains(\"donstroy.moscow\"))) ]\n",
    "#         for room in all_uniq_room_with_apartment_number:\n",
    "#             ind = df_room_day.loc[(df_room_day['apartment_area']==room[0])\n",
    "#                 & (df_room_day['apartment_floor']==room[1]) & (df_room_day['project']==room[2]) & (df_room_day['building']==room[3]) ]\n",
    "#             if len(ind.index) > 0:\n",
    "#                 df_room.at[ind.index.tolist()[0], 'apartment_number'] = room[4]\n",
    "# update_apartment_number_for_all(all_room)"
   ]
  },
  {
   "cell_type": "code",
   "execution_count": null,
   "id": "24302dec-886d-47a7-bf37-fe2994e01d6f",
   "metadata": {},
   "outputs": [
    {
     "name": "stdout",
     "output_type": "stream",
     "text": [
      "2024-06-02\n"
     ]
    }
   ],
   "source": [
    "def update_apartment_number_for_all_donstroy_moscow(df_room):\n",
    "    # Взять все квартиры с номерами (уникальное множество)\n",
    "    # затем для каждого дня обновлять для одной квартиры номер\n",
    "    days = sorted(lost_days_list(df_room), reverse=True)\n",
    "    all_uniq_room_with_apartment_number = df_room.loc[(df_room['apartment_number']!='-1') & ((all_room['brand'].str.contains(\"donstroy.moscow\")) )][[\n",
    "        'apartment_area','apartment_floor','project','building','apartment_number']].apply(tuple, axis=1)\n",
    "    for day in days[:200]:\n",
    "        if day < '2024-02-07':\n",
    "            continue\n",
    "        print(day)\n",
    "        df_room_day = df_room.loc[(df_room['apartment_number']=='-1') & (df_room['datetime_create']==day) & ((all_room['brand'].str.contains(\"donstroy.moscow\"))) ]\n",
    "        for room in all_uniq_room_with_apartment_number:\n",
    "            ind = df_room_day.loc[(df_room_day['apartment_area']==room[0])\n",
    "                & (df_room_day['apartment_floor']==room[1]) & (df_room_day['project']==room[2]) & (df_room_day['building']==room[3]) ]\n",
    "            if len(ind.index) > 0:\n",
    "                df_room.at[ind.index.tolist()[0], 'apartment_number'] = room[4]\n",
    "update_apartment_number_for_all_donstroy_moscow(all_room)"
   ]
  },
  {
   "cell_type": "code",
   "execution_count": null,
   "id": "1b64dc4c-96cf-4586-a94c-841c3ced6afb",
   "metadata": {},
   "outputs": [],
   "source": [
    "all_room.count()"
   ]
  },
  {
   "cell_type": "code",
   "execution_count": null,
   "id": "e64a6984-944b-456c-8cbc-82c1a732689a",
   "metadata": {},
   "outputs": [],
   "source": [
    "def update_apartment_number_for_all_level_ru(df_room):\n",
    "    # Взять все квартиры с номерами (уникальное множество)\n",
    "    # затем для каждого дня обновлять для одной квартиры номер\n",
    "    days = sorted(lost_days_list(df_room), reverse=True)\n",
    "    all_uniq_room_with_apartment_number = df_room.loc[(df_room['apartment_number']!='-1') & ((all_room['brand'].str.contains(\"level.ru\")  ) )][[\n",
    "        'apartment_area','apartment_floor','project','building','apartment_number']].apply(tuple, axis=1)\n",
    "    #for day in days[:20]:\n",
    "    for day in days:\n",
    "        print(day)\n",
    "        df_room_day = df_room.loc[(df_room['apartment_number']=='-1') & (df_room['datetime_create']==day) & ((all_room['brand'].str.contains(\"level.ru\")  ) ) ]\n",
    "        for room in all_uniq_room_with_apartment_number:\n",
    "            ind = df_room_day.loc[(df_room_day['apartment_area']==room[0])\n",
    "                & (df_room_day['apartment_floor']==room[1]) & (df_room_day['project']==room[2]) & (df_room_day['building']==room[3]) ]\n",
    "            if len(ind.index) > 0:\n",
    "                df_room.at[ind.index.tolist()[0], 'apartment_number'] = room[4]\n",
    "update_apartment_number_for_all_level_ru(all_room)"
   ]
  },
  {
   "cell_type": "code",
   "execution_count": null,
   "id": "65475547-3257-4bda-82cf-ecd9d4d44833",
   "metadata": {},
   "outputs": [],
   "source": []
  },
  {
   "cell_type": "code",
   "execution_count": null,
   "id": "0705f85d-bb19-4ad2-b9c3-39d416a82d28",
   "metadata": {},
   "outputs": [],
   "source": [
    "# проверяб загрузку цены скижки для квартиры 110\n",
    "all_room.loc[\n",
    "    (all_room['brand'].str.contains(\"donstroy.moscow\")) & \n",
    "    (all_room['title'].str.contains(\"Остров.4\"))  &\n",
    "    (all_room['title'].str.contains(\"7, 3 секц\")) & \n",
    "    #(all_room['title'].str.contains(\"1, 1 секц\")) & \n",
    "    #(all_room['apartment_floor'].isin(['7'])) & \n",
    "    #(all_room['apartment_area'] > 69.5) & (all_room['apartment_area'] < 70.6) \n",
    "    (all_room['apartment_number'].isin(['110']))  \n",
    "    ][['datetime_create','apartment_area','apartment_floor','project','building','apartment_number','price','id']][:10]"
   ]
  },
  {
   "cell_type": "code",
   "execution_count": null,
   "id": "aff64fb6-7f5a-4f94-b8da-1758b018c5c8",
   "metadata": {},
   "outputs": [],
   "source": []
  },
  {
   "cell_type": "markdown",
   "id": "b54083b9-521d-4b49-92f8-97c3e85c81d7",
   "metadata": {},
   "source": [
    "# Как удалить дубли?\n",
    "Что такое дубль?  \n",
    "    - стоки у которых совпадет 'день загрузки', 'apartment_area','apartment_floor','project','building','apartment_number' ( возможно цена)  \n",
    "    - удалять нужно с меньшим id так как они были раньше.  \n",
    "    - пока не удаляем а просто показываем дубли.  "
   ]
  },
  {
   "cell_type": "code",
   "execution_count": null,
   "id": "5d209cef-fbf8-49c8-8de2-11700cee4f70",
   "metadata": {},
   "outputs": [],
   "source": [
    "all_room.count()"
   ]
  },
  {
   "cell_type": "code",
   "execution_count": null,
   "id": "9c5301a3-b7da-4012-9d81-4dca0d0d7faa",
   "metadata": {},
   "outputs": [],
   "source": [
    "\n",
    "id_for_delete = []\n",
    "\n",
    "days = sorted(lost_days_list(all_room.loc[(all_room['brand'].str.contains(\"donstroy.moscow\"))]   ), reverse=True)\n",
    "for day in days:\n",
    "    #day_today = df_room.loc[df_room['datetime_create']==day ][['title','price','apartment_area','apartment_floor','ppm']].apply(tuple, axis=1).dropna()\n",
    "    #day_today = df_room.loc[df_room['datetime_create']==day ][['apartment_area','apartment_floor','project','building']].apply(tuple, axis=1).dropna()\n",
    "    #day_today = df_room.loc[df_room['datetime_create']==day ][['apartment_area','apartment_floor','project','building']].apply(tuple, axis=1)\n",
    "    day_today = all_room.loc[(all_room['brand'].str.contains(\"donstroy.moscow\")) & (all_room['datetime_create']==day) ][['datetime_create','apartment_area','apartment_floor','project','building','apartment_number','price','id']].apply(tuple, axis=1)\n",
    "    #day_today = all_room.loc[(all_room['brand'].str.contains(\"donstroy.moscow\")) & (all_room['datetime_create']==day) ][['datetime_create','apartment_area','apartment_floor','project','building']].apply(tuple, axis=1)\n",
    "    \n",
    "    fffff = {}\n",
    "    ddddd = {}\n",
    "    for x in day_today:\n",
    "        c = x[:-1]\n",
    "        if not fffff.get(c):\n",
    "            #print(x)\n",
    "            fffff[c] = 0\n",
    "        fffff[c] += 1\n",
    "\n",
    "        if not ddddd.get(c):\n",
    "            ddddd[c] = []\n",
    "        ddddd[c].append(x[-1])\n",
    "\n",
    "    z = 0\n",
    "    \n",
    "    for k, v in fffff.items():\n",
    "        if v > 1:\n",
    "            print(day, v, k)\n",
    "            print(ddddd[k])\n",
    "            for iii in sorted(ddddd[k])[:-1]:\n",
    "                id_for_delete.append(iii)\n",
    "            z += 1\n",
    "    if z > 0:\n",
    "        print(z)\n",
    "\n",
    "#print(id_for_delete)\n",
    "\n",
    "all_room = all_room.loc[~all_room['id'].isin(id_for_delete)]\n",
    "#~something.isin(somewhere)\n",
    "    #df = df.loc[df['B'] != 0]\n",
    "    #print(df)\n",
    "\n"
   ]
  },
  {
   "cell_type": "code",
   "execution_count": null,
   "id": "46619260-e772-4277-b5a5-444d1edfec39",
   "metadata": {},
   "outputs": [],
   "source": [
    "all_room.count()"
   ]
  },
  {
   "cell_type": "code",
   "execution_count": null,
   "id": "f86e75e6-7910-4844-8c5f-bcf8144e390a",
   "metadata": {},
   "outputs": [],
   "source": []
  },
  {
   "cell_type": "code",
   "execution_count": null,
   "id": "18457d42-b961-48e4-8299-d8a50cd3f20e",
   "metadata": {},
   "outputs": [],
   "source": []
  },
  {
   "cell_type": "code",
   "execution_count": null,
   "id": "111a10a6-d108-4d2e-80c9-c1f1382ffd0b",
   "metadata": {},
   "outputs": [],
   "source": [
    "day_start_project(all_room)"
   ]
  },
  {
   "cell_type": "code",
   "execution_count": null,
   "id": "b160ce82-2067-4979-9f85-967ef7b076a5",
   "metadata": {},
   "outputs": [],
   "source": [
    "day_finish_project(all_room)"
   ]
  },
  {
   "cell_type": "code",
   "execution_count": null,
   "id": "07ad70be-8afd-475f-b21e-98779c145800",
   "metadata": {},
   "outputs": [],
   "source": []
  },
  {
   "cell_type": "code",
   "execution_count": null,
   "id": "e0a08b2a-033d-4a1f-939b-9e875516213b",
   "metadata": {},
   "outputs": [],
   "source": [
    "1+1"
   ]
  },
  {
   "cell_type": "code",
   "execution_count": null,
   "id": "b846c925-dc10-416d-b3b9-fa3c37823038",
   "metadata": {},
   "outputs": [],
   "source": [
    "# # получить историю по обектам (\n",
    "# # хочу получить информацию по истории квартиры по ее парамтерам (застройщик, город, жк, квартал, корпус, секция, этаж, площадь) - получаю все это и еще цену\n",
    "# all_room.loc[\n",
    "#     (all_room['brand'].str.contains(\"donstroy.moscow\")) \n",
    "#     & (all_room['title'].str.contains(\"Остров.6\")) \n",
    "#     #(all_room['title'].str.contains(\"5, 1 секц\")) \n",
    "#     & (all_room['title'].str.contains(\"1, 1 секц\")) \n",
    "#     #(all_room['apartment_floor'].isin(['622'])) \n",
    "#     #(all_room['apartment_number'].isin(['622']))\n",
    "#     & (all_room['apartment_area'].isin([69.6])) \n",
    "#     ][['datetime_create','apartment_area','apartment_floor','project','building','apartment_number','price','id']]\n",
    "#     #][['datetime_create','apartment_area','apartment_floor','apartment_number','price','id']]"
   ]
  },
  {
   "cell_type": "code",
   "execution_count": null,
   "id": "264ef9ef-4048-4ca7-957e-7889e4cb370c",
   "metadata": {},
   "outputs": [],
   "source": [
    "# получить историю по обектам (\n",
    "# хочу получить информацию по истории квартиры по ее парамтерам (застройщик, город, жк, квартал, корпус, секция, этаж, площадь) - получаю все это и еще цену\n",
    "all_room.loc[\n",
    "    (all_room['brand'].str.contains(\"donstroy.moscow\")) & \n",
    "    (all_room['title'].str.contains(\"Остров.6\"))  &\n",
    "    #(all_room['title'].str.contains(\"5, 1 секц\")) & \n",
    "    (all_room['title'].str.contains(\"1, 1 секц\")) & \n",
    "    #(all_room['apartment_floor'].isin(['622'])) & \n",
    "    (all_room['apartment_area'] > 69.5) & (all_room['apartment_area'] < 70.6) \n",
    "    #(all_room['apartment_number'].isin(['622']))  \n",
    "    ][['datetime_create','apartment_area','apartment_floor','project','building','apartment_number','price','id']][:10]"
   ]
  },
  {
   "cell_type": "code",
   "execution_count": null,
   "id": "fb709c65-b28e-4aea-a50e-1135c8c510db",
   "metadata": {},
   "outputs": [],
   "source": [
    "# # получить историю по обектам (\n",
    "# # хочу получить информацию по истории квартиры по ее парамтерам (застройщик, город, жк, квартал, корпус, секция, этаж, площадь) - получаю все это и еще цену\n",
    "# all_room.loc[\n",
    "#     (all_room['brand'].str.contains(\"donstroy.moscow\")) \n",
    "#     & (all_room['title'].str.contains(\"Остров.5\")) \n",
    "#     & (all_room['title'].str.contains(\"5, 1 секц\")) \n",
    "#     #(all_room['apartment_floor'].isin(['622'])) & \n",
    "#     & (all_room['apartment_area'].isin([75])) \n",
    "#     & (all_room['apartment_number'].isin(['688']))  \n",
    "#     ][['datetime_create','apartment_area','apartment_floor','project','building','apartment_number','price','id']]"
   ]
  },
  {
   "cell_type": "code",
   "execution_count": null,
   "id": "e9442b15-b48e-4b2c-89a5-ac119de58cd4",
   "metadata": {},
   "outputs": [],
   "source": [
    "# получить историю по обектам (\n",
    "# хочу получить информацию по истории квартиры по ее парамтерам (застройщик, город, жк, квартал, корпус, секция, этаж, площадь) - получаю все это и еще цену\n",
    "all_room.loc[\n",
    "    (all_room['brand'].str.contains(\"donstroy.moscow\")) \n",
    "    & (all_room['title'].str.contains(\"Остров.5\"))\n",
    "    & (all_room['title'].str.contains(\"5, 1 секц\")) \n",
    "    #(all_room['apartment_floor'].isin(['622'])) & \n",
    "    & (all_room['apartment_area'] > 70) & (all_room['apartment_area'] < 80)\n",
    "    #(all_room['apartment_number'].isin(['622']))  \n",
    "    ][['datetime_create','apartment_area','apartment_floor','project','building','apartment_number','price','id']][:10]"
   ]
  },
  {
   "cell_type": "code",
   "execution_count": null,
   "id": "95f95b79-fe17-4691-a840-fcaef6b5c692",
   "metadata": {},
   "outputs": [],
   "source": []
  },
  {
   "cell_type": "code",
   "execution_count": null,
   "id": "66221537-cc87-4fb4-b516-e81ef9416834",
   "metadata": {},
   "outputs": [],
   "source": [
    "# dmr = []\n",
    "# lable = ['s','s o','s o 6 ','s o 5 ','s o 4 ','s o 3 ','s o 2 ','s o 1 ', 's o 8 ','s o 6 1']\n",
    "# dmr.append(list(sell_minus_old_again_reverse(1, 100, all_room.loc[all_room['brand'].str.contains(\"donstroy.moscow\")   ])))\n",
    "# dmr.append(list(sell_minus_old_again_reverse(1, 100, all_room.loc[all_room['brand'].str.contains(\"donstroy.moscow\") & all_room['title'].str.contains(\"Остров\")  ])))\n",
    "# dmr.append(list(sell_minus_old_again_reverse(1, 100, all_room.loc[all_room['brand'].str.contains(\"donstroy.moscow\") & all_room['title'].str.contains(\"Остров.6\")  ])))\n",
    "# dmr.append(list(sell_minus_old_again_reverse(1, 100, all_room.loc[all_room['brand'].str.contains(\"donstroy.moscow\") & all_room['title'].str.contains(\"Остров.5\")  ])))\n",
    "# dmr.append(list(sell_minus_old_again_reverse(1, 100, all_room.loc[all_room['brand'].str.contains(\"donstroy.moscow\") & all_room['title'].str.contains(\"Остров.4\")  ])))\n",
    "# dmr.append(list(sell_minus_old_again_reverse(1, 100, all_room.loc[all_room['brand'].str.contains(\"donstroy.moscow\") & all_room['title'].str.contains(\"Остров.3\")  ])))\n",
    "# dmr.append(list(sell_minus_old_again_reverse(1, 100, all_room.loc[all_room['brand'].str.contains(\"donstroy.moscow\") & all_room['title'].str.contains(\"Остров.2\")  ])))\n",
    "# dmr.append(list(sell_minus_old_again_reverse(1, 100, all_room.loc[all_room['brand'].str.contains(\"donstroy.moscow\") & all_room['title'].str.contains(\"Остров.1\")  ])))\n",
    "# dmr.append(list(sell_minus_old_again_reverse(1, 100, all_room.loc[all_room['brand'].str.contains(\"donstroy.moscow\") & all_room['title'].str.contains(\"Остров.8\")  ])))\n",
    "# dmr.append(list(sell_minus_old_again_reverse(1, 100, all_room.loc[all_room['brand'].str.contains(\"donstroy.moscow\") & all_room['title'].str.contains(\"Остров.6\")  & all_room['title'].str.contains(\"1, 1 секц\")  ])))\n"
   ]
  },
  {
   "cell_type": "code",
   "execution_count": null,
   "id": "f9819c43-3c7c-4558-bfc4-ee693cc76a77",
   "metadata": {},
   "outputs": [],
   "source": [
    "dmr = []\n",
    "lable = [\n",
    "    #'all',\n",
    "    #'s','s o','s o 6 ','s o 5 ','s o 4 ',\n",
    "    's o 6 1', 's o 6 1 e15', 's o 6 1 eall', 's o 5 1 ',  's o 5 1 eall']\n",
    "##dmr.append(list(sell_minus_old_again_reverse(1, 100, all_room)))\n",
    "#dmr.append(list(sell_minus_old_again_reverse(1, 100, all_room.loc[all_room['brand'].str.contains(\"donstroy.moscow\")   ])))\n",
    "#dmr.append(list(sell_minus_old_again_reverse(1, 100, all_room.loc[all_room['brand'].str.contains(\"donstroy.moscow\") & all_room['title'].str.contains(\"Остров\")  ])))\n",
    "#dmr.append(list(sell_minus_old_again_reverse(1, 100, all_room.loc[all_room['brand'].str.contains(\"donstroy.moscow\") & all_room['title'].str.contains(\"Остров.6\")  ])))\n",
    "#dmr.append(list(sell_minus_old_again_reverse(1, 100, all_room.loc[all_room['brand'].str.contains(\"donstroy.moscow\") & all_room['title'].str.contains(\"Остров.5\")  ])))\n",
    "#dmr.append(list(sell_minus_old_again_reverse(1, 100, all_room.loc[all_room['brand'].str.contains(\"donstroy.moscow\") & all_room['title'].str.contains(\"Остров.4\")  ])))\n",
    "dmr.append(list(sell_minus_old_again_reverse(1, 100, all_room.loc[all_room['brand'].str.contains(\"donstroy.moscow\") & all_room['title'].str.contains(\"Остров.6\")  & (all_room['title'].str.contains(\"1, 1 секц\"))  ])))\n",
    "dmr.append(list(sell_minus_old_again_reverse(1, 100, all_room.loc[all_room['brand'].str.contains(\"donstroy.moscow\") & all_room['title'].str.contains(\"Остров.6\")  & (all_room['title'].str.contains(\"1, 1 секц\")) & (all_room['apartment_number']=='85')  ] )))\n",
    "dmr.append(list(sell_minus_old_again_reverse(1, 100, all_room.loc[all_room['brand'].str.contains(\"donstroy.moscow\") & all_room['title'].str.contains(\"Остров.6\")  & (all_room['title'].str.contains(\"1, 1 секц\")) & (all_room['apartment_number'].isin(['4', '11', '19', '25', '31', '37', '43', '49', '55', '61', '67', '73', '79', '85', '91', '97', '103']))  ]   )))\n",
    "#all_room[all_room['apartment_number'].isin(['4', '11', '19', '26', '31', '37', '43', '49', '55', '61', '67', '73', '79', '85', '91', '97', '103'])]\n",
    "dmr.append(list(sell_minus_old_again_reverse(1, 100, all_room.loc[all_room['brand'].str.contains(\"donstroy.moscow\") & all_room['title'].str.contains(\"Остров.5\")  & (all_room['title'].str.contains(\"5, 1 секц\"))  ])))\n",
    "dmr.append(list(sell_minus_old_again_reverse(1, 100, all_room.loc[all_room['brand'].str.contains(\"donstroy.moscow\") & all_room['title'].str.contains(\"Остров.5\")  & (all_room['title'].str.contains(\"5, 1 секц\")) & (all_room['apartment_number'].isin(['622', '630', '638', '645', '652', '659', '666', '674', '681', '688', '695', '702', '709', '716', '723', '730', '737', '744']))  ]   )))\n",
    "\n",
    "#622 630\t638\t645\t652\t659\t666\t674\t681\t688\t695\t702\t709\t716\t723\t730\t737\t744\n",
    "#4\t11\t19\t26\t31\t37\t43\t49\t55\t61\t67\t73\t79\t85\t91\t97\t103"
   ]
  },
  {
   "cell_type": "code",
   "execution_count": null,
   "id": "c0408a50-75b8-4ffb-a358-15c0f9385e42",
   "metadata": {},
   "outputs": [],
   "source": []
  },
  {
   "cell_type": "code",
   "execution_count": null,
   "id": "840538d2-5441-4a72-bf06-1c3186541727",
   "metadata": {},
   "outputs": [],
   "source": []
  },
  {
   "cell_type": "code",
   "execution_count": null,
   "id": "df5d954a-2d82-4396-b752-6b4405d69fb0",
   "metadata": {},
   "outputs": [],
   "source": [
    "dmr_7 = []\n",
    "lable_7 = ['s 7','s o 7','s o 6 7','s o 5 7','s o 6 1 7']\n",
    "dmr_7.append(list(sell_minus_old_again_reverse(7, 100, all_room.loc[all_room['brand'].str.contains(\"donstroy.moscow\")   ])))\n",
    "dmr_7.append(list(sell_minus_old_again_reverse(7, 100, all_room.loc[all_room['brand'].str.contains(\"donstroy.moscow\") & all_room['title'].str.contains(\"Остров\")  ])))\n",
    "dmr_7.append(list(sell_minus_old_again_reverse(7, 100, all_room.loc[all_room['brand'].str.contains(\"donstroy.moscow\") & all_room['title'].str.contains(\"Остров.6\")  ])))\n",
    "dmr_7.append(list(sell_minus_old_again_reverse(7, 100, all_room.loc[all_room['brand'].str.contains(\"donstroy.moscow\") & all_room['title'].str.contains(\"Остров.5\")  ])))\n",
    "dmr_7.append(list(sell_minus_old_again_reverse(7, 100, all_room.loc[all_room['brand'].str.contains(\"donstroy.moscow\") & all_room['title'].str.contains(\"Остров.6\")  & all_room['title'].str.contains(\"1, 1 секц\")  ])))\n"
   ]
  },
  {
   "cell_type": "code",
   "execution_count": null,
   "id": "e7875035-e9b5-4492-ae05-593de2c62b35",
   "metadata": {},
   "outputs": [],
   "source": [
    "# plt.figure(figsize=(20, 3))\n",
    "# dmr = []\n",
    "# lable = ['s','s o','s o 6 ','s o 5 ','s o 6 1']\n",
    "# dmr.append(list(sell_minus_old_again_reverse(1, 100, all_room.loc[all_room['brand'].str.contains(\"donstroy.moscow\")   ])))\n",
    "# dmr.append(list(sell_minus_old_again_reverse(1, 100, all_room.loc[all_room['brand'].str.contains(\"donstroy.moscow\") & all_room['title'].str.contains(\"Остров\")  ])))\n",
    "# dmr.append(list(sell_minus_old_again_reverse(1, 100, all_room.loc[all_room['brand'].str.contains(\"donstroy.moscow\") & all_room['title'].str.contains(\"Остров.6\")  ])))\n",
    "# dmr.append(list(sell_minus_old_again_reverse(1, 100, all_room.loc[all_room['brand'].str.contains(\"donstroy.moscow\") & all_room['title'].str.contains(\"Остров.5\")  ])))\n",
    "# dmr.append(list(sell_minus_old_again_reverse(1, 100, all_room.loc[all_room['brand'].str.contains(\"donstroy.moscow\") & all_room['title'].str.contains(\"Остров.6\")  & all_room['title'].str.contains(\"1, 1 секц\")  ])))\n",
    "# for i in range(len(dmr)):\n",
    "#     d1, s1, l1, f1, r1, dtl1, dtlu1, diff1, p1, pp1, pa1, pr1 = zip(*dmr[i])\n",
    "#     plt.plot(d1, s1, alpha=0.4,  label = lable[i])\n",
    "# plt.xlabel(\"дата\")\n",
    "# plt.ylabel(\"продано штук\")\n",
    "# plt.legend()"
   ]
  },
  {
   "cell_type": "code",
   "execution_count": null,
   "id": "7422d526-9b66-4bda-852a-e6f2e8a7c013",
   "metadata": {},
   "outputs": [],
   "source": []
  },
  {
   "cell_type": "code",
   "execution_count": null,
   "id": "e6e9c285-5239-4424-b260-1d7f25f42183",
   "metadata": {},
   "outputs": [],
   "source": []
  },
  {
   "cell_type": "code",
   "execution_count": null,
   "id": "160c8fbe-b40c-415f-a567-1261ef2ff1b0",
   "metadata": {},
   "outputs": [],
   "source": []
  },
  {
   "cell_type": "code",
   "execution_count": null,
   "id": "50f2f617-8420-4a45-a1d9-64ad9fd95ff2",
   "metadata": {},
   "outputs": [],
   "source": []
  },
  {
   "cell_type": "code",
   "execution_count": null,
   "id": "5723f3ac-b037-4c72-be91-bfe450470dc6",
   "metadata": {},
   "outputs": [],
   "source": [
    "plt.figure(figsize=(20, 3))\n",
    "for i in range(len(dmr)):\n",
    "    d1, s1, l1, f1, r1, dtl1, dtlu1, diff1, p1, pp1, pa1, pr1, lo1 = zip(*dmr[i])\n",
    "    plt.plot(d1, s1, alpha=0.4,  label = lable[i])\n",
    "plt.xlabel(\"дата\")\n",
    "plt.ylabel(\"продано штук\")\n",
    "plt.legend()"
   ]
  },
  {
   "cell_type": "code",
   "execution_count": null,
   "id": "8545e529-0ae7-4837-a5ac-ddfec0d742e4",
   "metadata": {},
   "outputs": [],
   "source": []
  },
  {
   "cell_type": "code",
   "execution_count": null,
   "id": "f0d62e00-aae6-445e-831f-dc3f8ad3ad8d",
   "metadata": {},
   "outputs": [],
   "source": [
    "for i in range(len(dmr)):\n",
    "    plt.figure(figsize=(20, 3))\n",
    "    d1, s1, l1, f1, r1, dtl1, dtlu1, diff1, p1, pp1, pa1, pr1, lo1 = zip(*dmr[i])\n",
    "    plt.plot(d1, dtl1, alpha=0.4,  label = lable[i])\n",
    "    plt.ylabel(lable[i] + \" кол. предложений\")\n",
    "    plt.xlabel(\"дата\")\n",
    "    plt.legend()"
   ]
  },
  {
   "cell_type": "code",
   "execution_count": null,
   "id": "3109b9e1-2743-402a-af8b-13b64944437d",
   "metadata": {},
   "outputs": [],
   "source": [
    "plt.figure(figsize=(20, 3))\n",
    "for i in range(len(dmr)):\n",
    "    d1, s1, l1, f1, r1, dtl1, dtlu1, diff1, p1, pp1, pa1, pr1, lo1 = zip(*dmr[i])\n",
    "    plt.plot(d1, p1, alpha=0.4,  label = lable[i])\n",
    "plt.xlabel(\"дата\")\n",
    "plt.ylabel(\"стоимость\")\n",
    "plt.legend()"
   ]
  },
  {
   "cell_type": "code",
   "execution_count": null,
   "id": "f3f47413-a12a-4d8e-ac6a-f7ae5df64165",
   "metadata": {},
   "outputs": [],
   "source": [
    "plt.figure(figsize=(20, 3))\n",
    "for i in range(len(dmr)):\n",
    "    d1, s1, l1, f1, r1, dtl1, dtlu1, diff1, p1, pp1, pa1, pr1, lo1 = zip(*dmr[i])\n",
    "    plt.plot(d1, pp1, alpha=0.4,  label = lable[i])\n",
    "plt.xlabel(\"дата\")\n",
    "plt.ylabel(\"стоимость метра\")\n",
    "plt.legend()"
   ]
  },
  {
   "cell_type": "code",
   "execution_count": null,
   "id": "13d7931a-b77c-4308-8f4b-3fcc53dc63ca",
   "metadata": {},
   "outputs": [],
   "source": [
    "plt.figure(figsize=(20, 3))\n",
    "for i in range(len(dmr)):\n",
    "    d1, s1, l1, f1, r1, dtl1, dtlu1, diff1, p1, pp1, pa1, pr1, lo1 = zip(*dmr[i])\n",
    "    plt.plot(d1, pa1, alpha=0.4,  label = lable[i])\n",
    "plt.xlabel(\"дата\")\n",
    "plt.ylabel(\"средняя плошадь\")\n",
    "plt.legend()"
   ]
  },
  {
   "cell_type": "code",
   "execution_count": null,
   "id": "62288db5-ba89-4130-beb9-07ee9636485a",
   "metadata": {},
   "outputs": [],
   "source": [
    "plt.figure(figsize=(20, 3))\n",
    "for i in range(len(dmr)):\n",
    "    d1, s1, l1, f1, r1, dtl1, dtlu1, diff1, p1, pp1, pa1, pr1, lo1 = zip(*dmr[i])\n",
    "    plt.plot(d1, pr1, alpha=0.4,  label = lable[i])\n",
    "plt.xlabel(\"дата\")\n",
    "plt.ylabel(\"количество комнат\")\n",
    "plt.legend()"
   ]
  },
  {
   "cell_type": "code",
   "execution_count": null,
   "id": "ed5ee06c-8724-480d-a02c-871ac1882365",
   "metadata": {},
   "outputs": [],
   "source": [
    "plt.figure(figsize=(20, 3))\n",
    "\n",
    "dmr_1 = list(sell_minus_old_again_reverse(1, 100, all_room))\n",
    "d1, s1, l1, f1, r1, dtl1, dtlu1, diff1, p1, pp1, pa1, pr1, lo1 = zip(*dmr_1)\n",
    "plt.plot(d1, s1, alpha=0.4,  label = 's')\n",
    "\n",
    "plt.xlabel(\"дата\")\n",
    "plt.ylabel(\"Проданно\")\n",
    "plt.legend()"
   ]
  },
  {
   "cell_type": "code",
   "execution_count": null,
   "id": "b9c8fc45-ecd0-461c-b29e-97ebf2c36a05",
   "metadata": {},
   "outputs": [],
   "source": []
  },
  {
   "cell_type": "code",
   "execution_count": null,
   "id": "6cd5ecee-6c95-4b57-a347-4b3caf762eb4",
   "metadata": {},
   "outputs": [],
   "source": [
    "#all_room.loc[all_room['brand'].str.contains(\"donstroy.moscow\") & all_room['title'].str.contains(\"Остров.6\")][:3]"
   ]
  },
  {
   "cell_type": "code",
   "execution_count": null,
   "id": "6aba6208-1735-4865-8a70-f4b4af7605e4",
   "metadata": {},
   "outputs": [],
   "source": [
    "plt.figure(figsize=(20, 3))\n",
    "for i in range(len(dmr_7)):\n",
    "    d1, s1, l1, f1, r1, dtl1, dtlu1, diff1, p1, pp1, pa1, pr1, lo1 = zip(*dmr_7[i])\n",
    "    plt.plot(d1, s1, alpha=0.4,  label = lable_7[i])\n",
    "plt.xlabel(\"дата\")\n",
    "plt.ylabel(\"стоимость\")\n",
    "plt.legend()"
   ]
  },
  {
   "cell_type": "code",
   "execution_count": null,
   "id": "5e9f4957-bd7b-4f98-a61b-cdf4ab8e6be2",
   "metadata": {},
   "outputs": [],
   "source": []
  },
  {
   "cell_type": "code",
   "execution_count": null,
   "id": "71759b60-f910-4536-9eff-9277820fa1c3",
   "metadata": {},
   "outputs": [],
   "source": [
    "# вычисляем количетсво не уникальных обектов\n",
    "\n",
    "#dmr_1 = list(sell_minus_old_again_reverse(1, 100, all_room ))\n",
    "dmr_1 = list(sell_minus_old_again_reverse(1, 100, all_room.loc[(~all_room['datetime_create'].isin(bad_date))]))\n",
    "plt.figure(figsize=(20, 3))\n",
    "#for brand in all_room['brand'].unique():\n",
    "if 1:\n",
    "    #dmr_1 = list(sell_minus_old_again_reverse(1, 100, all_room.loc[all_room['brand'].str.contains(brand)  &  (~all_room['datetime_create'].isin(bad_date))]))\n",
    "    d1, s1, l1, f1, r1, dtl1, dtlu1, diff1, p1, pp1, pa1, pr1, lo1 = zip(*dmr_1)\n",
    "    #diff1 = list(filter(lambda i: i < 2500, diff1))\n",
    "    #plt.plot(range(0, len(dtl1)), dtl1, alpha=0.4,  label = 'dtl1 1')\n",
    "    #plt.plot(range(0, len(dtlu1)), dtlu1, alpha=0.4,  label = 'dtlu1 1')\n",
    "    plt.plot(d1, diff1, alpha=0.4,  label = f'diff1 1')# {brand}')\n",
    "    #print(brand)\n",
    "    #print(diff1)\n",
    "plt.xlabel(\"дата\")\n",
    "plt.ylabel(\"Проданно\")\n",
    "plt.legend()"
   ]
  },
  {
   "cell_type": "code",
   "execution_count": null,
   "id": "6a664743-c4c4-4974-91a7-6f51d7e63fb4",
   "metadata": {},
   "outputs": [],
   "source": []
  },
  {
   "cell_type": "code",
   "execution_count": null,
   "id": "22de5c44-080a-4bdc-b6ad-fbef65d1724d",
   "metadata": {},
   "outputs": [],
   "source": [
    "plt.figure(figsize=(20, 3))\n",
    "dmr_donstroy_jk = []\n",
    "lable_donstroy_jk = []\n",
    "#for project in sorted(list(all_room.loc[all_room['brand'].str.contains(\"donstroy.moscow\")]['project'].unique())):\n",
    "\n",
    "micro_rayon = set()\n",
    "#for p in list(all_room['project'].unique()):\n",
    "for p in list(all_room.loc[all_room['brand'].str.contains(\"donstroy.moscow\")]['project'].unique()):\n",
    "    micro_rayon.add(p.split(' ')[0])\n",
    "\n",
    "\n",
    "for project in sorted(list(micro_rayon)):\n",
    "    print(project)\n",
    "    # if project in ('Символ Свобода'):\n",
    "    #     continue\n",
    "    if project.startswith('Расплетина'):\n",
    "         continue\n",
    "    if project.startswith('Река'):\n",
    "         continue\n",
    "    if project.startswith('ДОМ'):\n",
    "         continue\n",
    "    if project.startswith('Дом'):\n",
    "         continue\n",
    "    if project.startswith('Гранд'):\n",
    "         continue\n",
    "    # if not project.startswith('Остров'):\n",
    "    #     continue\n",
    "    \n",
    "    dmr_donstroy_jk_x = list(sell_minus_old_again_reverse(1, 100, all_room.loc[ (all_room['project'].str.contains(project))  ]))\n",
    "    if not dmr_donstroy_jk_x:\n",
    "        continue    \n",
    "    dmr_donstroy_jk.append(dmr_donstroy_jk_x)\n",
    "    lable_donstroy_jk.append(project)\n",
    "\n",
    "#room_sell_list, list_sel_lost, list_sel_find, room_all_list, day_today_list, set_day_today_list, \n",
    "#            diff_day_today_and_set_day_today, list_price, list_avg_price_per_metr,list_apartment_area, list_apartment_room"
   ]
  },
  {
   "cell_type": "code",
   "execution_count": null,
   "id": "eb27337a-0582-424c-9a9a-28765b95bf71",
   "metadata": {},
   "outputs": [],
   "source": [
    "plt.figure(figsize=(20, 3))\n",
    "for i in range(len(dmr_donstroy_jk)):\n",
    "    d1, s1, l1, f1, r1, dtl1, dtlu1, diff1, p1, pp1, pa1, pr1, lo1 = zip(*dmr_donstroy_jk[i])\n",
    "    plt.plot(d1, s1, alpha=0.4,  label = lable_donstroy_jk[i] + \" продано\")\n",
    "plt.legend()\n",
    "\n",
    "plt.figure(figsize=(20, 3))\n",
    "for i in range(len(dmr_donstroy_jk)):\n",
    "    d1, s1, l1, f1, r1, dtl1, dtlu1, diff1, p1, pp1, pa1, pr1, lo1 = zip(*dmr_donstroy_jk[i])\n",
    "    plt.plot(d1, l1, alpha=0.4,  label = lable_donstroy_jk[i] + \" ушло\")\n",
    "plt.legend()\n",
    "\n",
    "plt.figure(figsize=(20, 3))\n",
    "for i in range(len(dmr_donstroy_jk)):\n",
    "    d1, s1, l1, f1, r1, dtl1, dtlu1, diff1, p1, pp1, pa1, pr1, lo1 = zip(*dmr_donstroy_jk[i])\n",
    "    plt.plot(d1, lo1, alpha=0.4,  label = lable_donstroy_jk[i] + \" ушло без послденого дня\")\n",
    "plt.legend()\n",
    "\n",
    "plt.figure(figsize=(20, 3))\n",
    "for i in range(len(dmr_donstroy_jk)):\n",
    "    d1, s1, l1, f1, r1, dtl1, dtlu1, diff1, p1, pp1, pa1, pr1, lo1 = zip(*dmr_donstroy_jk[i])\n",
    "    plt.plot(d1, f1, alpha=0.4,  label = lable_donstroy_jk[i] + \" пришло\")\n",
    "plt.legend()\n",
    "\n",
    "plt.figure(figsize=(20, 3))\n",
    "for i in range(len(dmr_donstroy_jk)):\n",
    "    d1, s1, l1, f1, r1, dtl1, dtlu1, diff1, p1, pp1, pa1, pr1, lo1 = zip(*dmr_donstroy_jk[i])\n",
    "    plt.plot(d1, r1, alpha=0.4,  label = lable_donstroy_jk[i] + \" всего штук\")\n",
    "plt.legend()\n",
    "\n",
    "plt.figure(figsize=(20, 3))\n",
    "for i in range(len(dmr_donstroy_jk)):\n",
    "    d1, s1, l1, f1, r1, dtl1, dtlu1, diff1, p1, pp1, pa1, pr1, lo1 = zip(*dmr_donstroy_jk[i])\n",
    "    plt.plot(d1, dtl1, alpha=0.4,  label = lable_donstroy_jk[i] + \" сегодня штук\")\n",
    "plt.legend()\n",
    "\n",
    "plt.figure(figsize=(20, 3))\n",
    "for i in range(len(dmr_donstroy_jk)):\n",
    "    d1, s1, l1, f1, r1, dtl1, dtlu1, diff1, p1, pp1, pa1, pr1, lo1 = zip(*dmr_donstroy_jk[i])\n",
    "    plt.plot(d1, dtlu1, alpha=0.4,  label = lable_donstroy_jk[i] + \" сегодня уникальных штук\")\n",
    "plt.legend()\n",
    "\n",
    "\n",
    "plt.figure(figsize=(20, 3))\n",
    "for i in range(len(dmr_donstroy_jk)):\n",
    "    d1, s1, l1, f1, r1, dtl1, dtlu1, diff1, p1, pp1, pa1, pr1, lo1 = zip(*dmr_donstroy_jk[i])\n",
    "    plt.plot(d1, diff1, alpha=0.4,  label = lable_donstroy_jk[i] + \" разница между всего и уникальными\")\n",
    "plt.legend()\n",
    "\n",
    "plt.figure(figsize=(20, 3))\n",
    "for i in range(len(dmr_donstroy_jk)):\n",
    "    d1, s1, l1, f1, r1, dtl1, dtlu1, diff1, p1, pp1, pa1, pr1, lo1 = zip(*dmr_donstroy_jk[i])\n",
    "    plt.plot(d1, p1, alpha=0.4,  label = lable_donstroy_jk[i] + ' цена')\n",
    "plt.legend()\n",
    "\n",
    "plt.figure(figsize=(20, 3))\n",
    "for i in range(len(dmr_donstroy_jk)):\n",
    "    d1, s1, l1, f1, r1, dtl1, dtlu1, diff1, p1, pp1, pa1, pr1, lo1 = zip(*dmr_donstroy_jk[i])\n",
    "    plt.plot(d1, pp1, alpha=0.4,  label = lable_donstroy_jk[i] + ' цена метра')\n",
    "plt.legend()\n",
    "\n",
    "plt.figure(figsize=(20, 3))\n",
    "for i in range(len(dmr_donstroy_jk)):\n",
    "    d1, s1, l1, f1, r1, dtl1, dtlu1, diff1, p1, pp1, pa1, pr1, lo1 = zip(*dmr_donstroy_jk[i])\n",
    "    plt.plot(d1, pa1, alpha=0.4,  label = lable_donstroy_jk[i] + ' площадь')\n",
    "plt.legend()\n",
    "\n",
    "plt.figure(figsize=(20, 3))\n",
    "for i in range(len(dmr_donstroy_jk)):\n",
    "    d1, s1, l1, f1, r1, dtl1, dtlu1, diff1, p1, pp1, pa1, pr1, lo1 = zip(*dmr_donstroy_jk[i])\n",
    "    plt.plot(d1, pr1, alpha=0.4,  label = lable_donstroy_jk[i] + 'комнат')\n",
    "plt.legend()"
   ]
  },
  {
   "cell_type": "code",
   "execution_count": null,
   "id": "95b2bb97-deb6-4e53-95c4-87be6d3b2ab9",
   "metadata": {},
   "outputs": [],
   "source": [
    "plt.figure(figsize=(20, 3))\n",
    "dmr_donstroy_jk = []\n",
    "lable_donstroy_jk = []\n",
    "#for project in sorted(list(all_room.loc[all_room['brand'].str.contains(\"donstroy.moscow\")]['project'].unique())):\n",
    "for project in sorted(list(all_room['project'].unique())):\n",
    "    print(project)\n",
    "    if project in ('Символ Свобода'):\n",
    "        continue\n",
    "    if project.startswith('ДОМ '):\n",
    "        continue\n",
    "    if project.startswith('Дом '):\n",
    "        continue\n",
    "    if project.startswith('Гранд'):\n",
    "        continue\n",
    "    if not project.startswith('Остров'):\n",
    "        continue\n",
    "    \n",
    "    #dmr_donstroy_jk_x = list(sell_minus_old_again_reverse(7, 100, all_room.loc[all_room['brand'].str.contains(\"donstroy.moscow\") & (all_room['project'] == project)  ]))\n",
    "    dmr_donstroy_jk_x = list(sell_minus_old_again_reverse(7, 100, all_room.loc[ (all_room['project'] == project)  ]))\n",
    "    if not dmr_donstroy_jk_x:\n",
    "        continue    \n",
    "    dmr_donstroy_jk.append(dmr_donstroy_jk_x)\n",
    "    lable_donstroy_jk.append(project)\n",
    "#     days, room_sell_list, list_sel_lost, list_sel_find, room_all_list, day_today_list, set_day_today_list, diff_day_today_and_set_day_today, p1, pp1, pa1, pr1 = zip(*dmr_donstroy_jk)\n",
    "#     plt.plot(days, diff_day_today_and_set_day_today, alpha=0.4,  label = f'diff_day_today_and_set_day_today {project}')\n",
    "# plt.xlabel(\"дата\")\n",
    "# plt.ylabel(\"Проданно\")\n",
    "# plt.legend()"
   ]
  },
  {
   "cell_type": "code",
   "execution_count": null,
   "id": "acce8983-3e47-4903-addc-0a873efac2f5",
   "metadata": {},
   "outputs": [],
   "source": [
    "plt.figure(figsize=(20, 3))\n",
    "for i in range(len(dmr_donstroy_jk)):\n",
    "    d1, s1, l1, f1, r1, dtl1, dtlu1, diff1, p1, pp1, pa1, pr1, lo1 = zip(*dmr_donstroy_jk[i])\n",
    "    plt.plot(d1, s1, alpha=0.4,  label = lable_donstroy_jk[i])\n",
    "plt.legend()\n",
    "\n",
    "plt.figure(figsize=(20, 3))\n",
    "for i in range(len(dmr_donstroy_jk)):\n",
    "    d1, s1, l1, f1, r1, dtl1, dtlu1, diff1, p1, pp1, pa1, pr1, lo1 = zip(*dmr_donstroy_jk[i])\n",
    "    plt.plot(d1, l1, alpha=0.4,  label = lable_donstroy_jk[i])\n",
    "plt.legend()\n",
    "\n",
    "plt.figure(figsize=(20, 3))\n",
    "for i in range(len(dmr_donstroy_jk)):\n",
    "    d1, s1, l1, f1, r1, dtl1, dtlu1, diff1, p1, pp1, pa1, pr1, lo1 = zip(*dmr_donstroy_jk[i])\n",
    "    plt.plot(d1, lo1, alpha=0.4,  label = lable_donstroy_jk[i])\n",
    "plt.legend()\n",
    "\n",
    "plt.figure(figsize=(20, 3))\n",
    "for i in range(len(dmr_donstroy_jk)):\n",
    "    d1, s1, l1, f1, r1, dtl1, dtlu1, diff1, p1, pp1, pa1, pr1, lo1 = zip(*dmr_donstroy_jk[i])\n",
    "    plt.plot(d1, f1, alpha=0.4,  label = lable_donstroy_jk[i])\n",
    "plt.legend()\n",
    "\n",
    "plt.figure(figsize=(20, 3))\n",
    "for i in range(len(dmr_donstroy_jk)):\n",
    "    d1, s1, l1, f1, r1, dtl1, dtlu1, diff1, p1, pp1, pa1, pr1, lo1 = zip(*dmr_donstroy_jk[i])\n",
    "    plt.plot(d1, r1, alpha=0.4,  label = lable_donstroy_jk[i])\n",
    "plt.legend()\n",
    "\n",
    "plt.figure(figsize=(20, 3))\n",
    "for i in range(len(dmr_donstroy_jk)):\n",
    "    d1, s1, l1, f1, r1, dtl1, dtlu1, diff1, p1, pp1, pa1, pr1, lo1 = zip(*dmr_donstroy_jk[i])\n",
    "    plt.plot(d1, dtl1, alpha=0.4,  label = lable_donstroy_jk[i])\n",
    "plt.legend()\n",
    "\n",
    "plt.figure(figsize=(20, 3))\n",
    "for i in range(len(dmr_donstroy_jk)):\n",
    "    d1, s1, l1, f1, r1, dtl1, dtlu1, diff1, p1, pp1, pa1, pr1, lo1 = zip(*dmr_donstroy_jk[i])\n",
    "    plt.plot(d1, dtlu1, alpha=0.4,  label = lable_donstroy_jk[i])\n",
    "plt.legend()\n",
    "\n",
    "\n",
    "plt.figure(figsize=(20, 3))\n",
    "for i in range(len(dmr_donstroy_jk)):\n",
    "    d1, s1, l1, f1, r1, dtl1, dtlu1, diff1, p1, pp1, pa1, pr1, lo1 = zip(*dmr_donstroy_jk[i])\n",
    "    plt.plot(d1, diff1, alpha=0.4,  label = lable_donstroy_jk[i])\n",
    "plt.legend()\n",
    "\n",
    "plt.figure(figsize=(20, 3))\n",
    "for i in range(len(dmr_donstroy_jk)):\n",
    "    d1, s1, l1, f1, r1, dtl1, dtlu1, diff1, p1, pp1, pa1, pr1, lo1 = zip(*dmr_donstroy_jk[i])\n",
    "    plt.plot(d1, p1, alpha=0.4,  label = lable_donstroy_jk[i] + 'цена')\n",
    "plt.legend()\n",
    "\n",
    "plt.figure(figsize=(20, 3))\n",
    "for i in range(len(dmr_donstroy_jk)):\n",
    "    d1, s1, l1, f1, r1, dtl1, dtlu1, diff1, p1, pp1, pa1, pr1, lo1 = zip(*dmr_donstroy_jk[i])\n",
    "    plt.plot(d1, pp1, alpha=0.4,  label = lable_donstroy_jk[i] + 'цена метра')\n",
    "plt.legend()\n",
    "\n",
    "plt.figure(figsize=(20, 3))\n",
    "for i in range(len(dmr_donstroy_jk)):\n",
    "    d1, s1, l1, f1, r1, dtl1, dtlu1, diff1, p1, pp1, pa1, pr1, lo1 = zip(*dmr_donstroy_jk[i])\n",
    "    plt.plot(d1, pa1, alpha=0.4,  label = lable_donstroy_jk[i] + 'площадь')\n",
    "plt.legend()\n",
    "\n",
    "plt.figure(figsize=(20, 3))\n",
    "for i in range(len(dmr_donstroy_jk)):\n",
    "    d1, s1, l1, f1, r1, dtl1, dtlu1, diff1, p1, pp1, pa1, pr1, lo1 = zip(*dmr_donstroy_jk[i])\n",
    "    plt.plot(d1, pr1, alpha=0.4,  label = lable_donstroy_jk[i] + 'комнат')\n",
    "plt.legend()"
   ]
  },
  {
   "cell_type": "code",
   "execution_count": null,
   "id": "470918b0-c3c2-4995-8bf1-4b5d9f4a522d",
   "metadata": {},
   "outputs": [],
   "source": []
  },
  {
   "cell_type": "code",
   "execution_count": null,
   "id": "64bc0332-e6ff-4aff-8678-603343321bab",
   "metadata": {},
   "outputs": [],
   "source": []
  },
  {
   "cell_type": "code",
   "execution_count": null,
   "id": "4f389f1b-89c4-4ba9-9eca-b896e045745d",
   "metadata": {},
   "outputs": [],
   "source": []
  },
  {
   "cell_type": "code",
   "execution_count": null,
   "id": "c9aa6c86-dcca-49a4-9968-c63c8892dadf",
   "metadata": {},
   "outputs": [],
   "source": [
    "# вычисляем количетсво не уникальных обектов для каждого поставзика\n",
    "\n",
    "#dmr_1 = list(sell_minus_old_again_reverse(1, 100, all_room ))\n",
    "#dmr_1 = list(sell_minus_old_again_reverse(1, 100, all_room.loc[(~all_room['datetime_create'].isin(bad_date))]))\n",
    "\n",
    "for brand in all_room['brand'].unique():\n",
    "    plt.figure(figsize=(20, 2))\n",
    "    dmr_1 = list(sell_minus_old_again_reverse(1, 100, all_room.loc[all_room['brand'].str.contains(brand)  &  (~all_room['datetime_create'].isin(bad_date))]))\n",
    "    d1, s1, l1, f1, r1, dtl1, dtlu1, diff1, p1, pp1, pa1, pr1, lo1 = zip(*dmr_1)\n",
    "    #diff1 = list(filter(lambda i: i < 2500, diff1))\n",
    "    #plt.plot(range(0, len(dtl1)), dtl1, alpha=0.4,  label = 'dtl1 1')\n",
    "    #plt.plot(range(0, len(dtlu1)), dtlu1, alpha=0.4,  label = 'dtlu1 1')\n",
    "    plt.plot(d1, dtl1, alpha=0.4,  label = f'dtl1 1 {brand}')\n",
    "    plt.plot(d1, dtlu1, alpha=0.4,  label = f'dtlu1 1 {brand}')\n",
    "    #print(brand)\n",
    "    #print(diff1)\n",
    "    #plt.xlabel(\"дата\")\n",
    "    #plt.ylabel(\"Проданно\")\n",
    "    plt.legend()"
   ]
  },
  {
   "cell_type": "code",
   "execution_count": null,
   "id": "88fa6a7c-9a0d-466b-8854-a74f2b36e30d",
   "metadata": {},
   "outputs": [],
   "source": [
    "# вычисляем количетсво не уникальных обектов для каждого поставзика\n",
    "\n",
    "#dmr_1 = list(sell_minus_old_again_reverse(1, 100, all_room ))\n",
    "#dmr_1 = list(sell_minus_old_again_reverse(1, 100, all_room.loc[(~all_room['datetime_create'].isin(bad_date))]))\n",
    "\n",
    "for brand in all_room['brand'].unique():\n",
    "    plt.figure(figsize=(20, 2))\n",
    "    dmr_1 = list(sell_minus_old_again_reverse(1, 100, all_room.loc[all_room['brand'].str.contains(brand)  &  (~all_room['datetime_create'].isin(bad_date))]))\n",
    "    d1, s1, l1, f1, r1, dtl1, dtlu1, diff1, p1, pp1, pa1, pr1, lo1 = zip(*dmr_1)\n",
    "    #diff1 = list(filter(lambda i: i < 2500, diff1))\n",
    "    #plt.plot(range(0, len(dtl1)), dtl1, alpha=0.4,  label = 'dtl1 1')\n",
    "    #plt.plot(range(0, len(dtlu1)), dtlu1, alpha=0.4,  label = 'dtlu1 1')\n",
    "    plt.plot(d1, diff1, alpha=0.4,  label = f'diff1 1 {brand}')\n",
    "    #print(brand)\n",
    "    #print(diff1)\n",
    "    #plt.xlabel(\"дата\")\n",
    "    #plt.ylabel(\"Проданно\")\n",
    "    plt.legend()"
   ]
  },
  {
   "cell_type": "code",
   "execution_count": null,
   "id": "0fe31559-84a6-4867-9527-584cdab3d47a",
   "metadata": {
    "scrolled": true
   },
   "outputs": [],
   "source": []
  },
  {
   "cell_type": "code",
   "execution_count": null,
   "id": "32fa0eaf-ab90-4d56-9739-c9dbc79dfa92",
   "metadata": {},
   "outputs": [],
   "source": [
    "# нужно решитьь  проблемы с пиками\n",
    "\n",
    "dmr_1 = list(sell_minus_old_again_reverse(1, 100, all_room.loc[all_room['brand'].str.contains(\"level.ru\")  ]))\n",
    "\n",
    "d1, s1, l1, f1, r1, dtl1, dtlu1, diff1, p1, pp1, pa1, pr1, lo1 = zip(*dmr_1)\n",
    "plt.figure(figsize=(20, 3))\n",
    "plt.plot(d1, s1, alpha=0.4, label = 's 1')\n",
    "plt.plot(d1, diff1, alpha=0.4,  label = f'diff1 1')\n",
    "\n",
    "plt.xlabel(\"дата\")\n",
    "plt.ylabel(\"Проданно\")\n",
    "plt.legend()"
   ]
  },
  {
   "cell_type": "code",
   "execution_count": null,
   "id": "6fd247f0-926d-47bb-9e12-ca2ffe87b31c",
   "metadata": {},
   "outputs": [],
   "source": []
  },
  {
   "cell_type": "code",
   "execution_count": null,
   "id": "6d388dba-7636-4658-81e4-2a659cf70f41",
   "metadata": {},
   "outputs": [],
   "source": [
    "# dd = all_room.loc[all_room['datetime_create'] != '2024-02-09']\n",
    "# dd = dd.loc[all_room['brand'].str.contains(\"donstroy.moscow\") & all_room['title'].str.contains(\"Остров.4\")].groupby(['datetime_create'])\n",
    "# dd = dd[[\"price\"]].count()\n",
    "\n",
    "# plt.figure(figsize=(4,2))\n",
    "# plt.scatter(dd.index,dd[\"price\"], alpha=0.4)\n",
    "# plt.xlabel(\"дата\")\n",
    "# plt.ylabel(\"количество квартир\")\n",
    "\n",
    "\n",
    "\n",
    "plt.figure(figsize=(20, 3))\n",
    "\n",
    "for project in sorted(list(all_room.loc[all_room['brand'].str.contains(\"donstroy.moscow\")]['project'].unique())):\n",
    "    print(project)\n",
    "    \n",
    "    if project in ('Символ Свобода'):\n",
    "        continue\n",
    "    if not project.startswith('Остров'):\n",
    "        continue\n",
    "    \n",
    "    # print('---')\n",
    "    #dmr_1 = list(sell_minus_old_again_reverse(1, 100, all_room.loc[all_room['brand'].str.contains(\"donstroy.moscow\") & all_room['project'] == project  ]))\n",
    "    dmr_1 = list(sell_minus_old_again_reverse(7, 100, all_room.loc[all_room['brand'].str.contains(\"donstroy.moscow\") & (all_room['project'] == project)  ]))\n",
    "    #dmr_1 = list(sell_minus_old_again_reverse(1, 100, all_room.loc[all_room['brand'].str.contains(\"donstroy.moscow\") & (all_room['project'] == 'Остров Остров.6')  ]))\n",
    "    #dmr_1 = list(sell_minus_old_again_reverse(1, 100, all_room.loc[all_room['brand'].str.contains(\"donstroy.moscow\") & (all_room['project'].str.contains('Остров Остров.6'))  ]))\n",
    "    #dmr_1 = list(sell_minus_old_again_reverse(1, 100, all_room.loc[all_room['brand'].str.contains(\"donstroy.moscow\")   ]))\n",
    "    if not dmr_1:\n",
    "        #print('+++')\n",
    "        continue    \n",
    "    days, room_sell_list, list_sel_lost, list_sel_find, room_all_list, day_today_list, set_day_today_list, diff_day_today_and_set_day_today, p1, pp1, pa1, pr1, lo1 = zip(*dmr_1)\n",
    "    #d1,   s1,             l1,           f1,             r1,            dtl1,            dtlu1,            diff1                            = zip(*dmr_1)\n",
    "    \n",
    "    # if project == 'Остров Остров.6':\n",
    "    #     print(diff_day_today_and_set_day_today)\n",
    "    #plt.plot(range(0, len(room_sell_list)), room_sell_list, alpha=0.4, label = f'room_sell_list {project}')\n",
    "    #plt.plot(range(0, len(l1)), l1, alpha=0.4, color='green',  label = 'l')\n",
    "    #plt.plot(range(0, len(f1)), f1, alpha=0.4, color='blue',  label = 'f')\n",
    "    #plt.plot(range(0, len(room_all_list)), room_all_list, alpha=0.4, label = f'room_all_list {project}')\n",
    "    #plt.plot(range(0, len(day_today_list)), day_today_list, alpha=0.4,  label = f'day_today_list {project}')\n",
    "    #plt.plot(range(0, len(set_day_today_list)), set_day_today_list, alpha=0.4,  label = f'set_day_today_list {project}')\n",
    "    plt.plot(days, diff_day_today_and_set_day_today, alpha=0.4,  label = f'diff_day_today_and_set_day_today {project}')\n",
    "    \n",
    "    \n",
    "    # dmr_1 = list(sell_minus_old_again_reverse(7, 100, all_room.loc[all_room['brand'].str.contains(\"donstroy.moscow\")  ]))\n",
    "    # d1, s1, l1, f1, r1, dtl1, dtlu1, diff1 = zip(*dmr_1)\n",
    "    # plt.plot(range(0, len(s1)), s1, alpha=0.4, label = 's 7')\n",
    "    # plt.plot(range(0, len(diff1)), diff1, alpha=0.4,  label = 'diff1 7')\n",
    "\n",
    "plt.xlabel(\"дата\")\n",
    "plt.ylabel(\"Проданно\")\n",
    "plt.legend()"
   ]
  },
  {
   "cell_type": "code",
   "execution_count": null,
   "id": "4d3d3922-3aaa-4091-9502-8b02b274e241",
   "metadata": {},
   "outputs": [],
   "source": [
    "#dd = all_room.loc[all_room['datetime_create'] != '2024-02-09']\n",
    "dmr_1 = list(sell_minus_old_again_reverse(1, 100, all_room.loc[all_room['brand'].str.contains(\"level\") &  (~all_room['datetime_create'].isin(bad_date))  & (all_room['apartment_area'] > 1 ) & (all_room['apartment_floor'] > 1 ) ]))\n",
    "\n",
    "d1, s1, l1, f1, r1, dtl1, dtlu1, diff1, p1, pp1, pa1, pr1, lo1 = zip(*dmr_1)\n",
    "#s1 = list(filter(lambda i: i < 50, s1))\n",
    "plt.figure(figsize=(20, 3))\n",
    "#plt.plot(d1, s1, alpha=0.4, color='red',  label = 's')\n",
    "plt.plot(d1, l1, alpha=0.4, color='green',  label = 'l')\n",
    "plt.plot(d1, f1, alpha=0.4, color='blue',  label = 'f')\n",
    "plt.plot(d1, r1, alpha=0.4, label = 'r')\n",
    "plt.plot(d1, dtl1, alpha=0.4,  label = 'dtl')\n",
    "plt.plot(d1, dtlu1, alpha=0.4,  label = 'dtlu')\n",
    "plt.plot(d1, diff1, alpha=0.4,  label = 'diff')\n",
    "#plt.xlabel(\"дата\")\n",
    "plt.ylabel(\"Проданно\")\n",
    "plt.legend()"
   ]
  },
  {
   "cell_type": "code",
   "execution_count": null,
   "id": "ff50e008-0fa8-4020-99ef-9507130b9178",
   "metadata": {},
   "outputs": [],
   "source": []
  },
  {
   "cell_type": "code",
   "execution_count": null,
   "id": "7b255087-b022-40ce-9ca1-60f1dc0355f9",
   "metadata": {},
   "outputs": [],
   "source": [
    "dmr_1 = list(sell_minus_old_again_reverse(7, 500, all_room.loc[all_room['brand'].str.contains(\"level\") &  (~all_room['datetime_create'].isin(bad_date))  & (all_room['apartment_floor'] > 1 ) ]))\n",
    "#dmr_1 = list(sell_minus_old_again_reverse(7, 500, all_room.loc[all_room['brand'].str.contains(\"level\") &   (all_room['apartment_floor'] > 1 ) ]))\n",
    "\n",
    "\n",
    "d1, s1, l1, f1, r1, dtl1, dtlu1, diff1, p1, pp1, pa1, pr1, lo1 = zip(*dmr_1)\n",
    "#s1 = list(filter(lambda i: i < 50, s1))\n",
    "plt.figure(figsize=(20, 3))\n",
    "plt.plot(d1, s1, alpha=0.4, color='red')\n",
    "#plt.plot(range(0, len(l1)), l1, alpha=0.4, color='green')\n",
    "#plt.plot(range(0, len(f1)), f1, alpha=0.4, color='blue')\n",
    "#plt.plot(range(0, len(r1)), r1, alpha=0.4)#, color='pink')\n",
    "plt.xlabel(\"дата\")\n",
    "plt.ylabel(\"Проданно\")\n",
    "\n",
    "\n",
    "\n",
    "dmr_1 = list(sell_minus_old_again_reverse(1, 500, all_room.loc[all_room['brand'].str.contains(\"level\") &  (~all_room['datetime_create'].isin(bad_date))  & (all_room['apartment_floor'] > 1 ) ]))\n",
    "#dmr_1 = list(sell_minus_old_again_reverse(7, 500, all_room.loc[all_room['brand'].str.contains(\"level\") &   (all_room['apartment_floor'] > 1 ) ]))\n",
    "\n",
    "\n",
    "d1, s1, l1, f1, r1, dtl1, dtlu1, diff1, p1, pp1, pa1, pr1, lo1 = zip(*dmr_1)\n",
    "#s1 = list(filter(lambda i: i < 50, s1))\n",
    "plt.figure(figsize=(20, 3))\n",
    "plt.plot(d1, s1, alpha=0.4, color='red')\n",
    "#plt.plot(range(0, len(l1)), l1, alpha=0.4, color='green')\n",
    "#plt.plot(range(0, len(f1)), f1, alpha=0.4, color='blue')\n",
    "#plt.plot(range(0, len(r1)), r1, alpha=0.4)#, color='pink')\n",
    "plt.xlabel(\"дата\")\n",
    "plt.ylabel(\"Проданно\")\n",
    "\n",
    "plt.figure(figsize=(20, 3))\n",
    "#plt.plot(range(0, len(s1)), s1, alpha=0.4, color='red')\n",
    "#plt.plot(range(0, len(l1)), l1, alpha=0.4, color='green')\n",
    "#plt.plot(range(0, len(f1)), f1, alpha=0.4, color='blue')\n",
    "plt.plot(d1, r1, alpha=0.4)#, color='pink')\n",
    "plt.xlabel(\"дата\")\n",
    "plt.ylabel(\"Нисходящий итого уникальных лотов\")\n",
    "\n",
    "\n",
    "dmr_1 = list(sell_minus_old_again_reverse(7, 5000, all_room.loc[(all_room['apartment_area'] > 1) & (all_room['apartment_floor'] >= 1 )  ]))\n",
    "\n",
    "d1, s1, l1, f1, r1, dtl1, dtlu1, diff1, p1, pp1, pa1, pr1, lo1 = zip(*dmr_1)\n",
    "#s1 = list(filter(lambda i: i < 50, s1))\n",
    "plt.figure(figsize=(20, 3))\n",
    "plt.plot(d1, s1, alpha=0.4, color='red')\n",
    "#plt.plot(range(0, len(l1)), l1, alpha=0.4, color='green')\n",
    "#plt.plot(range(0, len(f1)), f1, alpha=0.4, color='blue')\n",
    "#plt.plot(range(0, len(r1)), r1, alpha=0.4)#, color='pink')\n",
    "plt.xlabel(\"дата\")\n",
    "plt.ylabel(\"Проданно\")\n",
    "\n",
    "\n",
    "dmr_1 = list(sell_minus_old_again_reverse(1, 5000, all_room.loc[(all_room['apartment_area'] > 1) & (all_room['apartment_floor'] >= 1 )  ]))\n",
    "\n",
    "d1, s1, l1, f1, r1, dtl1, dtlu1, diff1, p1, pp1, pa1, pr1, lo1 = zip(*dmr_1)\n",
    "#s1 = list(filter(lambda i: i < 50, s1))\n",
    "plt.figure(figsize=(20, 3))\n",
    "plt.plot(d1, s1, alpha=0.4, color='red')\n",
    "#plt.plot(range(0, len(l1)), l1, alpha=0.4, color='green')\n",
    "#plt.plot(range(0, len(f1)), f1, alpha=0.4, color='blue')\n",
    "#plt.plot(range(0, len(r1)), r1, alpha=0.4)#, color='pink')\n",
    "plt.xlabel(\"дата\")\n",
    "plt.ylabel(\"Проданно\")\n",
    "\n",
    "plt.figure(figsize=(20, 3))\n",
    "#plt.plot(range(0, len(s1)), s1, alpha=0.4, color='red')\n",
    "#plt.plot(range(0, len(l1)), l1, alpha=0.4, color='green')\n",
    "#plt.plot(range(0, len(f1)), f1, alpha=0.4, color='blue')\n",
    "plt.plot(d1, r1, alpha=0.4)#, color='pink')\n",
    "plt.xlabel(\"дата\")\n",
    "plt.ylabel(\"Нисходящий итого уникальных лотов\")\n",
    "\n",
    "\n"
   ]
  },
  {
   "cell_type": "code",
   "execution_count": null,
   "id": "cbfa6821-c637-4b9e-a007-5897305c7d94",
   "metadata": {},
   "outputs": [],
   "source": [
    "\n",
    "\n",
    "dmr_1 = list(sell_minus_old_again_reverse(1, 500, all_room.loc[all_room['brand'].str.contains(\"donstroy.moscow\") & (all_room['datetime_create'] != '2024-02-09') &  (~all_room['datetime_create'].isin(bad_date))  & (all_room['apartment_floor'] > 1 ) ]))\n",
    "dmr_2 = list(sell_minus_old_again_reverse(1, 500, all_room.loc[all_room['brand'].str.contains(\"donstroy.moscow\") & (all_room['datetime_create'] != '2024-02-09')  & (all_room['title'].str.contains(\"Остров\"))  &  (~all_room['datetime_create'].isin(bad_date))  & (all_room['apartment_floor'] > 1 ) ]))\n",
    "dmr_3 = list(sell_minus_old_again_reverse(1, 500, all_room.loc[all_room['brand'].str.contains(\"donstroy.moscow\") & (all_room['datetime_create'] != '2024-02-09')  & (all_room['title'].str.contains(\"Остров.6\"))  &  (~all_room['datetime_create'].isin(bad_date))  & (all_room['apartment_floor'] > 1 ) ]))\n",
    "dmr_4 = list(sell_minus_old_again_reverse(1, 500, all_room.loc[all_room['brand'].str.contains(\"donstroy.moscow\") & (all_room['datetime_create'] != '2024-02-09')  & (all_room['title'].str.contains(\"Остров.5\"))  &  (~all_room['datetime_create'].isin(bad_date))  & (all_room['apartment_floor'] > 1 ) ]))\n",
    "dmr_5 = list(sell_minus_old_again_reverse(1, 500, all_room.loc[all_room['brand'].str.contains(\"donstroy.moscow\") & (all_room['datetime_create'] != '2024-02-09')  & (all_room['title'].str.contains(\"Остров.4\"))  &  (~all_room['datetime_create'].isin(bad_date))  & (all_room['apartment_floor'] > 1 ) ]))\n",
    "\n",
    "\n",
    "d1, s1, l1, f1, r1, dtl1, dtlu1, diff1, p1, pp1, pa1, pr1, lo1 = zip(*dmr_1)\n",
    "d2, s2, l2, f2, r2, dtl2, dtlu2, diff2, p1, pp1, pa1, pr1, lo1 = zip(*dmr_2)\n",
    "d3, s3, l3, f3, r3, dtl3, dtlu3, diff3, p1, pp1, pa1, pr1, lo1 = zip(*dmr_3)\n",
    "d4, s4, l4, f4, r4, dtl4, dtlu4, diff4, p1, pp1, pa1, pr1, lo1 = zip(*dmr_4)\n",
    "d5, s5, l5, f5, r5, dtl5, dtlu5, diff5, p1, pp1, pa1, pr1, lo1 = zip(*dmr_5)\n",
    "\n",
    "plt.figure(figsize=(20, 3))\n",
    "plt.plot(d1, s1, alpha=0.4, color='red')\n",
    "plt.plot(d2, s2, alpha=0.4, color='blue')\n",
    "plt.plot(d3, s3, alpha=0.4, color='green')\n",
    "#plt.plot(range(0, len(l1)), l1, alpha=0.4, color='green')\n",
    "#plt.plot(range(0, len(f1)), f1, alpha=0.4, color='blue')\n",
    "#plt.plot(range(0, len(r1)), r1, alpha=0.4)#, color='pink')\n",
    "plt.xlabel(\"дата\")\n",
    "plt.ylabel(\"Проданно\")\n",
    "\n",
    "plt.figure(figsize=(20, 3))\n",
    "#plt.plot(range(0, len(s1)), s1, alpha=0.4, color='red')\n",
    "#plt.plot(range(0, len(l1)), l1, alpha=0.4, color='green')\n",
    "#plt.plot(range(0, len(f1)), f1, alpha=0.4, color='blue')\n",
    "plt.plot(d1, list(map(lambda x:x*0.84, r1)), alpha=0.4, color='red',  label = 'r1')\n",
    "#plt.plot(range(0, len(r2)), list(map(lambda x:x*2.15, r2)), alpha=0.4, color='blue',  label = 'r2')\n",
    "#plt.plot(range(0, len(r3)), list(map(lambda x:x*6.85, r3)), alpha=0.4, color='green',  label = 'r3')\n",
    "plt.plot(d2, list(map(lambda x:x*2.055, r2)), alpha=0.4, color='blue',  label = 'r2')\n",
    "plt.plot(d3, list(map(lambda x:x*6.95, r3)), alpha=0.4, color='green',  label = 'r3')\n",
    "plt.plot(d4, list(map(lambda x:x*8, r4)), alpha=0.4, color='orange',  label = 'r4')\n",
    "plt.plot(d5, list(map(lambda x:x*5.5, r5)), alpha=0.4,  label = 'r5')\n",
    "plt.xlabel(\"дата\")\n",
    "plt.ylabel(\"Нисходящий итого уникальных лотов\")\n",
    "plt.legend()"
   ]
  },
  {
   "cell_type": "code",
   "execution_count": null,
   "id": "49f2b086-ecab-40d8-9e2e-6b069c92ae33",
   "metadata": {},
   "outputs": [],
   "source": [
    "# посмотреть студию - все так как на сате\n",
    "#all_room.loc[  (all_room['price_sale'] == 9315432 ) ]"
   ]
  },
  {
   "cell_type": "code",
   "execution_count": null,
   "id": "8a75dc46-9e7c-48e5-b82b-3d5902958618",
   "metadata": {},
   "outputs": [],
   "source": [
    "#all_room.loc[  (all_room['title'] == 'Южнопортовая 3 21 23.4 Г. Москва, ул. Южнопортовая, вл.28-28а 55.705727,37.696445')]"
   ]
  },
  {
   "cell_type": "code",
   "execution_count": null,
   "id": "a457e9fe-8b74-411c-81b8-09bb62bdcddd",
   "metadata": {},
   "outputs": [],
   "source": [
    "# 34976139\n",
    "#all_room.loc[  (all_room['price_sale'] == 34976139  )]"
   ]
  },
  {
   "cell_type": "code",
   "execution_count": null,
   "id": "c603a646-4beb-47b3-b8aa-693cb78dad45",
   "metadata": {},
   "outputs": [],
   "source": [
    "#all_room.loc[  (all_room['title'] == 'Мичуринский, этапы 1 и 2 2 31 94.1 ул. Озёрная, вл. 7 55.687726,37.471704')]"
   ]
  },
  {
   "cell_type": "code",
   "execution_count": null,
   "id": "03017e0f-434b-4d7e-94c3-b0d20d0f3081",
   "metadata": {},
   "outputs": [],
   "source": [
    "#dd = all_room.loc[all_room['datetime_create'] != '2024-02-09']\n",
    "dmr_1 = list(sell_minus_old_again_reverse(1, 100, all_room.loc[all_room['brand'].str.contains(\"level\")   &  (~all_room['datetime_create'].isin(bad_date))  & (all_room['apartment_floor'] > 1 ) ]))\n",
    "\n",
    "d1, s1, l1, f1, r1, dtl1, dtlu1, diff1, p1, pp1, pa1, pr1, lo1 = zip(*dmr_1)\n",
    "#s1 = list(filter(lambda i: i < 50, s1))\n",
    "plt.figure(figsize=(20, 3))\n",
    "plt.plot(d1, s1, alpha=0.4, color='red')\n",
    "plt.plot(d1, l1, alpha=0.4, color='green')\n",
    "plt.plot(d1, f1, alpha=0.4, color='blue')\n",
    "plt.xlabel(\"дата\")\n",
    "plt.ylabel(\"Проданно\")"
   ]
  },
  {
   "cell_type": "code",
   "execution_count": null,
   "id": "41021289-97bd-4471-88ae-2807916e52c5",
   "metadata": {},
   "outputs": [],
   "source": [
    "donstroy_moscow_all_room = all_room.loc[all_room['datetime_create'] != '2024-02-09']\n",
    "\n",
    "donstroy_moscow_room_group_by_date = donstroy_moscow_all_room.loc[all_room['brand'].str.contains(\"level\") & (~all_room['datetime_create'].isin(bad_date)) & (all_room['apartment_area'] > 20 )  & (all_room['apartment_area'] < 150 ) & (all_room['apartment_floor'] > 1 ) & (all_room['apartment_floor'] < 50 ) ].groupby(['datetime_create'])\n",
    "\n",
    "donstroy_moscow_room_group_by_date_mean = donstroy_moscow_room_group_by_date[[\"price\", \"avg_price_per_metr\",\"apartment_area\",\"apartment_room\"]].mean()\n",
    "donstroy_moscow_room_group_by_date_count = donstroy_moscow_room_group_by_date[[\"price\"]].count()\n",
    "\n",
    "plt.figure(figsize=(20, 3))\n",
    "#plt.scatter(donstroy_moscow_room_group_by_date_count.index,donstroy_moscow_room_group_by_date_count[\"price\"], alpha=0.4)\n",
    "plt.scatter(range(0, len(donstroy_moscow_room_group_by_date_count.index)),donstroy_moscow_room_group_by_date_count[\"price\"], alpha=0.4)\n",
    "plt.xlabel(\"дата\")\n",
    "plt.ylabel(\"количество представленных квартир\")"
   ]
  },
  {
   "cell_type": "code",
   "execution_count": null,
   "id": "2262990d-58e0-4b66-af70-1bb3205d1581",
   "metadata": {},
   "outputs": [],
   "source": [
    "#dd = all_room.loc[all_room['datetime_create'] != '2024-02-09']\n",
    "\n",
    "dmr_1 = list(sell_minus_old_again(7, 100, all_room.loc[ (~all_room['datetime_create'].isin(bad_date))  & (all_room['apartment_floor'] > 1 ) ]))\n",
    "\n",
    "\n",
    "d1, s1, l1, f1 = zip(*dmr_1)\n",
    "#s1 = list(filter(lambda i: i < 50, s1))\n",
    "plt.figure(figsize=(20, 3))\n",
    "plt.plot(range(0, len(s1)), s1, alpha=0.4, color='red')\n",
    "plt.plot(range(0, len(l1)), l1, alpha=0.4, color='green')\n",
    "plt.plot(range(0, len(f1)), f1, alpha=0.4, color='blue')\n",
    "plt.xlabel(\"дата\")\n",
    "plt.ylabel(\"Проданно\")"
   ]
  },
  {
   "cell_type": "code",
   "execution_count": null,
   "id": "32951d39-2949-43ae-9c99-74996e66787b",
   "metadata": {},
   "outputs": [],
   "source": [
    "#dd = all_room.loc[all_room['datetime_create'] != '2024-02-09']\n",
    "\n",
    "dmr_1 = list(sell_minus_old_again(7, 50, all_room.loc[ (~all_room['datetime_create'].isin(bad_date))  & (all_room['apartment_floor'] > 1 ) ]))\n",
    "\n",
    "\n",
    "d1, s1, l1, f1  = zip(*dmr_1)\n",
    "#s1 = list(filter(lambda i: i < 50, s1))\n",
    "plt.figure(figsize=(20, 3))\n",
    "plt.plot(range(0, len(s1)), s1, alpha=0.4, color='red')\n",
    "plt.plot(range(0, len(l1)), l1, alpha=0.4, color='green')\n",
    "plt.plot(range(0, len(f1)), f1, alpha=0.4, color='blue')\n",
    "plt.xlabel(\"дата\")\n",
    "plt.ylabel(\"Проданно\")"
   ]
  },
  {
   "cell_type": "code",
   "execution_count": null,
   "id": "2606ce1f-e789-4be2-add2-df63cb479b95",
   "metadata": {},
   "outputs": [],
   "source": [
    "#dd = all_room.loc[all_room['datetime_create'] != '2024-02-09']\n",
    "dmr_1 = list(sell_minus_old_again(7, 100, all_room.loc[(~all_room['datetime_create'].isin(bad_date))  ]))\n",
    "\n",
    "d1, s1, l1, f1 = zip(*dmr_1)\n",
    "#s1 = list(filter(lambda i: i < 50, s1))\n",
    "plt.figure(figsize=(20, 3))\n",
    "plt.plot(range(0, len(s1)), s1, alpha=0.4, color='red')\n",
    "plt.plot(range(0, len(l1)), l1, alpha=0.4, color='green')\n",
    "plt.plot(range(0, len(f1)), f1, alpha=0.4, color='blue')\n",
    "plt.xlabel(\"дата\")\n",
    "plt.ylabel(\"Проданно\")"
   ]
  },
  {
   "cell_type": "code",
   "execution_count": null,
   "id": "f0192b40-aede-4f07-916b-ed4690ecdbc5",
   "metadata": {},
   "outputs": [],
   "source": [
    "donstroy_moscow_all_room = all_room.loc[all_room['datetime_create'] != '2024-02-09']\n",
    "\n",
    "donstroy_moscow_room_group_by_date = donstroy_moscow_all_room.loc[(~all_room['datetime_create'].isin(bad_date))  ].groupby(['datetime_create'])\n",
    "\n",
    "donstroy_moscow_room_group_by_date_mean = donstroy_moscow_room_group_by_date[[\"price\", \"avg_price_per_metr\",\"apartment_area\",\"apartment_room\"]].mean()\n",
    "donstroy_moscow_room_group_by_date_count = donstroy_moscow_room_group_by_date[[\"price\"]].count()\n",
    "\n",
    "plt.figure(figsize=(20, 3))\n",
    "#plt.scatter(donstroy_moscow_room_group_by_date_count.index,donstroy_moscow_room_group_by_date_count[\"price\"], alpha=0.4)\n",
    "plt.plot(range(0, len(donstroy_moscow_room_group_by_date_count.index)),donstroy_moscow_room_group_by_date_count[\"price\"], alpha=0.4)\n",
    "plt.xlabel(\"дата\")\n",
    "plt.ylabel(\"количество представленных квартир\")"
   ]
  },
  {
   "cell_type": "code",
   "execution_count": null,
   "id": "79ba6033-df00-4b61-9c4f-92076969e036",
   "metadata": {},
   "outputs": [],
   "source": []
  },
  {
   "cell_type": "code",
   "execution_count": null,
   "id": "92ae7400-dcf3-4d44-8ede-1ad1e5daa4a1",
   "metadata": {},
   "outputs": [],
   "source": []
  },
  {
   "cell_type": "markdown",
   "id": "2b2dc2df-f90a-48dc-a61d-6696dfdeb8e5",
   "metadata": {},
   "source": [
    "# DONSTROY.MOSCOW"
   ]
  },
  {
   "cell_type": "code",
   "execution_count": null,
   "id": "68d530c5-3183-4a8b-a055-fb797ce336e8",
   "metadata": {},
   "outputs": [],
   "source": [
    "all_room.loc[all_room['brand']. isin(['donstroy.moscow'])][1:2]"
   ]
  },
  {
   "cell_type": "code",
   "execution_count": null,
   "id": "fae3cdf6-dc29-4956-9f73-b2eaea291ce7",
   "metadata": {},
   "outputs": [],
   "source": [
    "all_room.loc[all_room['brand'].str.contains(\"donstroy.moscow\")].count()#[1:2]"
   ]
  },
  {
   "cell_type": "code",
   "execution_count": null,
   "id": "30014409-19c2-4326-a3a1-8fd0f460bf7c",
   "metadata": {},
   "outputs": [],
   "source": []
  },
  {
   "cell_type": "code",
   "execution_count": null,
   "id": "670605a6-dff4-466c-be1b-9df0ea6d93ef",
   "metadata": {},
   "outputs": [],
   "source": [
    "#all_room.loc[all_room['brand'].str.contains(\"donstroy.moscow\")].describe()"
   ]
  },
  {
   "cell_type": "code",
   "execution_count": null,
   "id": "f981de40-ec99-4eac-9e3e-bf030d9869b0",
   "metadata": {},
   "outputs": [],
   "source": [
    "#all_room.loc[all_room['brand'].str.contains(\"donstroy.moscow\") & all_room['title'].str.contains(\"Остров\")].describe()#[1:2]"
   ]
  },
  {
   "cell_type": "code",
   "execution_count": null,
   "id": "245c7f33-0054-4dc5-9f86-e103ce9c658a",
   "metadata": {},
   "outputs": [],
   "source": [
    "#all_room.loc[all_room['brand'].str.contains(\"donstroy.moscow\") & all_room['title'].str.contains(\"Остров.1\")].describe()#[1:2]"
   ]
  },
  {
   "cell_type": "code",
   "execution_count": null,
   "id": "7d8d86a9-513e-469c-ace1-fbc83b321f3f",
   "metadata": {},
   "outputs": [],
   "source": [
    "#all_room.loc[all_room['brand'].str.contains(\"donstroy.moscow\") & all_room['title'].str.contains(\"Остров.2\")].describe()#[1:2]"
   ]
  },
  {
   "cell_type": "code",
   "execution_count": null,
   "id": "31a7e6a1-85cf-4d6b-897a-4becc06b0c32",
   "metadata": {},
   "outputs": [],
   "source": [
    "#all_room.loc[all_room['brand'].str.contains(\"donstroy.moscow\") & all_room['title'].str.contains(\"Остров.3\")].describe()#[1:2]"
   ]
  },
  {
   "cell_type": "code",
   "execution_count": null,
   "id": "5560a2bd-03e8-4cab-a63a-dd0101ae20b8",
   "metadata": {},
   "outputs": [],
   "source": [
    "#all_room.loc[all_room['brand'].str.contains(\"donstroy.moscow\") & all_room['title'].str.contains(\"Остров.4\")].describe()#[1:2]"
   ]
  },
  {
   "cell_type": "code",
   "execution_count": null,
   "id": "5992ac6d-2954-4d99-b227-81d3120c0f71",
   "metadata": {},
   "outputs": [],
   "source": [
    "#all_room.loc[all_room['brand'].str.contains(\"donstroy.moscow\") & all_room['title'].str.contains(\"Остров.5\")].describe()#[1:2]"
   ]
  },
  {
   "cell_type": "code",
   "execution_count": null,
   "id": "5f2d2796-d8c7-4cda-aca3-8d6e2e596302",
   "metadata": {},
   "outputs": [],
   "source": [
    "#all_room.loc[all_room['brand'].str.contains(\"donstroy.moscow\") & all_room['title'].str.contains(\"Остров.6\")].describe()#[1:2]"
   ]
  },
  {
   "cell_type": "code",
   "execution_count": null,
   "id": "8124c6e2-ac59-4658-b0c0-5f2a097dfee4",
   "metadata": {},
   "outputs": [],
   "source": [
    "#all_room.loc[all_room['brand'].str.contains(\"donstroy.moscow\") & all_room['title'].str.contains(\"Остров.7\")].describe()#[1:2]"
   ]
  },
  {
   "cell_type": "code",
   "execution_count": null,
   "id": "16c3547d-e11a-45ec-823a-e7e2bc7f6092",
   "metadata": {},
   "outputs": [],
   "source": [
    "#all_room.loc[all_room['brand'].str.contains(\"donstroy.moscow\") & all_room['title'].str.contains(\"Остров.8\")].describe()#[1:2]"
   ]
  },
  {
   "cell_type": "code",
   "execution_count": null,
   "id": "c4e75641-6ac2-470c-a3c0-d15c3f89f7bb",
   "metadata": {},
   "outputs": [],
   "source": [
    "#all_room.loc[all_room['brand'].str.contains(\"donstroy.moscow\") & all_room['title'].str.contains(\"Остров.9\")].describe()#[1:2]"
   ]
  },
  {
   "cell_type": "code",
   "execution_count": null,
   "id": "ff660c29-12dd-463c-8602-402dca50c7a6",
   "metadata": {},
   "outputs": [],
   "source": [
    "#all_room[1:3]"
   ]
  },
  {
   "cell_type": "code",
   "execution_count": null,
   "id": "c9d39804-d408-4b52-9da3-7b5174bb1bde",
   "metadata": {},
   "outputs": [],
   "source": [
    "donstroy_moscow_all_room = all_room.loc[all_room['datetime_create'] != '2024-02-09']"
   ]
  },
  {
   "cell_type": "code",
   "execution_count": null,
   "id": "f1b6677c-04b1-4db6-98c5-437085677fe4",
   "metadata": {},
   "outputs": [],
   "source": [
    "#donstroy_moscow_all_room.loc[all_room['brand'].str.contains(\"donstroy.moscow\")  & all_room['title'].str.contains(\"Остров.6\")][:2]"
   ]
  },
  {
   "cell_type": "code",
   "execution_count": null,
   "id": "2084a2cf-0e33-49dd-83f4-aaad301c3e94",
   "metadata": {},
   "outputs": [],
   "source": []
  },
  {
   "cell_type": "code",
   "execution_count": null,
   "id": "55f820a6-4300-4d04-99a0-6f7e344cdec4",
   "metadata": {},
   "outputs": [],
   "source": []
  },
  {
   "cell_type": "code",
   "execution_count": null,
   "id": "24a55060-6935-4f01-932d-51bc7f5030ad",
   "metadata": {},
   "outputs": [],
   "source": []
  },
  {
   "cell_type": "code",
   "execution_count": null,
   "id": "8b79403e-41d3-4071-9082-1479f5540e93",
   "metadata": {},
   "outputs": [],
   "source": []
  },
  {
   "cell_type": "code",
   "execution_count": null,
   "id": "5635fe8e-b86d-4cd0-a5e6-cfc8d43e1c17",
   "metadata": {},
   "outputs": [],
   "source": [
    "donstroy_moscow_room_group_by_date = donstroy_moscow_all_room.loc[all_room['brand'].str.contains(\"donstroy.moscow\")].groupby(['datetime_create'])"
   ]
  },
  {
   "cell_type": "code",
   "execution_count": null,
   "id": "5045f722-fdb6-473e-9e21-e2831c7a66f2",
   "metadata": {},
   "outputs": [],
   "source": [
    "donstroy_moscow_room_group_by_date_mean = donstroy_moscow_room_group_by_date[[\"price\", \"avg_price_per_metr\",\"apartment_area\",\"apartment_room\"]].mean()\n",
    "donstroy_moscow_room_group_by_date_count = donstroy_moscow_room_group_by_date[[\"price\"]].count()"
   ]
  },
  {
   "cell_type": "code",
   "execution_count": null,
   "id": "d3a3aa47-7c5a-4154-b8d2-eafebfc52213",
   "metadata": {},
   "outputs": [],
   "source": [
    "plt.figure(figsize=(20, 3))\n",
    "dmr = []\n",
    "lable = ['s','s o','s o 6 ','s o 5 ','s o 6 1']\n",
    "# dmr.append(list(sell_minus_old_again_reverse(1, 100, all_room.loc[all_room['brand'].str.contains(\"donstroy.moscow\")   ])))\n",
    "# dmr.append(list(sell_minus_old_again_reverse(1, 100, all_room.loc[all_room['brand'].str.contains(\"donstroy.moscow\") & all_room['title'].str.contains(\"Остров\")  ])))\n",
    "# dmr.append(list(sell_minus_old_again_reverse(1, 100, all_room.loc[all_room['brand'].str.contains(\"donstroy.moscow\") & all_room['title'].str.contains(\"Остров.6\")  ])))\n",
    "# dmr.append(list(sell_minus_old_again_reverse(1, 100, all_room.loc[all_room['brand'].str.contains(\"donstroy.moscow\") & all_room['title'].str.contains(\"Остров.5\")  ])))\n",
    "# dmr.append(list(sell_minus_old_again_reverse(1, 100, all_room.loc[all_room['brand'].str.contains(\"donstroy.moscow\") & all_room['title'].str.contains(\"Остров.6\")  & all_room['title'].str.contains(\"1, 1 секц\")  ])))\n",
    "dmr.append(list(sell_minus_old_again_reverse(1, 100, donstroy_moscow_all_room.loc[all_room['brand'].str.contains(\"donstroy.moscow\")])))\n",
    "for i in range(len(dmr)):\n",
    "    d1, s1, l1, f1, r1, dtl1, dtlu1, diff1, p1, pp1, pa1, pr1, lo1 = zip(*dmr[i])\n",
    "    plt.plot(d1, dtl1, alpha=0.4,  label = lable[i])\n",
    "plt.xlabel(\"дата\")\n",
    "plt.ylabel(\"количество представленных квартир\")\n",
    "plt.legend()"
   ]
  },
  {
   "cell_type": "code",
   "execution_count": null,
   "id": "8a955b55-70aa-423e-9bb7-060cfe514d4a",
   "metadata": {},
   "outputs": [],
   "source": [
    "# примерно 50 квартир в неделю днострой продает всего\n",
    "# примерно 13 квартир в неделю днострой продает на Острове\n",
    "# за первую половину 2023 года 500 в вторую 1100  сумано 1600 за год это квартиир на острове они продали, т,\n",
    "kd = 50 / 7\n",
    "print(int(kd), int(kd*7), int(kd*30), int(kd*90), int(kd*180),  int(kd*360))\n",
    "kd = 13 / 7\n",
    "print(int(kd), int(kd*7), int(kd*30), int(kd*90), int(kd*180),  int(kd*360))"
   ]
  },
  {
   "cell_type": "code",
   "execution_count": null,
   "id": "10e99ddd-2e0d-4c8c-b9a5-30cbef1c7be1",
   "metadata": {},
   "outputs": [],
   "source": []
  },
  {
   "cell_type": "code",
   "execution_count": null,
   "id": "f60c1493-9808-46ba-9cfa-6b82acddc9f4",
   "metadata": {},
   "outputs": [],
   "source": []
  },
  {
   "cell_type": "code",
   "execution_count": null,
   "id": "9a7b090e-a2f8-4f5c-bf88-4a6a372fee31",
   "metadata": {},
   "outputs": [],
   "source": []
  },
  {
   "cell_type": "code",
   "execution_count": null,
   "id": "be31fa3d-8379-439a-a207-9e76f1e9781c",
   "metadata": {},
   "outputs": [],
   "source": []
  },
  {
   "cell_type": "code",
   "execution_count": null,
   "id": "60347dfc-a90d-4bf4-a9b8-2f7d745363a8",
   "metadata": {},
   "outputs": [],
   "source": [
    "dsm = donstroy_moscow_all_room.loc[(donstroy_moscow_all_room['brand'].str.contains(\"donstroy.moscow\")) ]"
   ]
  },
  {
   "cell_type": "code",
   "execution_count": null,
   "id": "b6382ad7-1158-4218-9041-6b45996eded4",
   "metadata": {},
   "outputs": [],
   "source": [
    "#list(sell_minus_old_again(1, dsm))"
   ]
  },
  {
   "cell_type": "code",
   "execution_count": null,
   "id": "06d6da2f-0c81-4b50-95fe-3d590659704d",
   "metadata": {},
   "outputs": [],
   "source": [
    "#list(sell_minus_old_again(1, dsm))"
   ]
  },
  {
   "cell_type": "code",
   "execution_count": null,
   "id": "2ad5e682-7321-4f89-b666-5490c1c420f9",
   "metadata": {},
   "outputs": [],
   "source": [
    "day_x = []\n",
    "day_x_1 = []\n",
    "all = set()\n",
    "list_sel = []\n",
    "count_sel = 0\n",
    "\n",
    "tt1 = list(sell_minus_old_again(1, 500, donstroy_moscow_all_room.loc[(donstroy_moscow_all_room['brand'].str.contains(\"donstroy.moscow\") ) ]))\n",
    "tt2, tt3, l1, f1 = zip(*tt1)\n",
    "\n",
    "for day in tt2:   \n",
    "#for day in ('2024-02-09', '2024-02-10', '2024-02-11','2024-02-12','2024-02-13','2024-02-14','2024-02-15','2024-02-16','2024-02-17','2024-02-18','2024-02-19',\n",
    "#            '2024-02-20', '2024-02-21', '2024-02-22', '2024-02-23', '2024-02-24', '2024-02-25'):\n",
    "\n",
    "    print()\n",
    "    day_x = day_x_1[:]\n",
    "    #day_x_1 = donstroy_moscow_all_room.loc[(donstroy_moscow_all_room['brand'].str.contains(\"donstroy.moscow\")) & (donstroy_moscow_all_room['datetime_create']==day) ].values.tolist()\n",
    "    day_x_1 = donstroy_moscow_all_room.loc[(donstroy_moscow_all_room['brand'].str.contains(\"donstroy.moscow\")) & (donstroy_moscow_all_room['datetime_create']==day) ][['title','price','apartment_area','apartment_floor','ppm']].apply(tuple, axis=1)\n",
    "    #day_x_1 = donstroy_moscow_all_room.loc[(donstroy_moscow_all_room['brand'].str.contains(\"donstroy.moscow\")) & (donstroy_moscow_all_room['datetime_create']==day) ][['price','apartment_area','apartment_floor','ppm']].apply(tuple, axis=1)\n",
    "    cross = list(set(day_x) & set(day_x_1))\n",
    "    #print(cross)\n",
    "    count_sel = count_sel + len(set(day_x) - set(day_x_1)) - len((set(day_x_1) - set(day_x)) & all)\n",
    "    print(day,\n",
    "          1 if len(day_x) - len(day_x_1) !=  len(day_x) - len(cross) else 0,\n",
    "        ', len x =', len(day_x), \n",
    "        ', len s x =', len(set(day_x)), \n",
    "        ', len x_1 =', len(day_x_1), \n",
    "        ', len s x_1 =', len(set(day_x_1)), \n",
    "        ', len c =', len(cross), \n",
    "        ', x - c =', len(day_x) - len(cross),\n",
    "        ', x - x_1 =', len(day_x) - len(day_x_1),\n",
    "        ', s x - x_1 =', len(set(day_x) - set(day_x_1)),\n",
    "        ', s x_1 - x =', len(set(day_x_1) - set(day_x)),\n",
    "        ', today not ystoday and was early =', len((set(day_x_1) - set(day_x)) & all),\n",
    "        ', count_sel =', count_sel, \n",
    "         )\n",
    "\n",
    "    list_sel.append(len(set(day_x) - set(day_x_1)) - len((set(day_x_1) - set(day_x)) & all))\n",
    "\n",
    "    #print(set(day_x_1))\n",
    "    #print( set(day_x_1) ^ set(day_x) )\n",
    "    #print('----')\n",
    "    #print()\n",
    "    #print( set(day_x) - set(day_x_1) )\n",
    "    #print()\n",
    "    #print( set(day_x_1) - set(day_x) )\n",
    "    #print((set(day_x_1) - set(day_x)) & all)\n",
    "    all = all | set(day_x_1)\n",
    "    print('----')\n",
    "\n",
    "plt.figure(figsize=(4,2))\n",
    "plt.scatter(range(0, len(list_sel)), list_sel, alpha=0.4)\n",
    "plt.xlabel(\"номер дня\")\n",
    "plt.ylabel(\"количество проданных квартир\")"
   ]
  },
  {
   "cell_type": "code",
   "execution_count": null,
   "id": "3ae14ade-b851-470c-a1ff-bdc86823ee93",
   "metadata": {},
   "outputs": [],
   "source": [
    "day_x = []\n",
    "day_x_1 = []\n",
    "all = set()\n",
    "count_sel = 0\n",
    "list_sel = []\n",
    "list_date = (\n",
    "    #'2024-02-09',\n",
    "    '2024-02-10', \n",
    "    '2024-02-11',\n",
    "    '2024-02-12','2024-02-13','2024-02-14','2024-02-15',\n",
    "    '2024-02-16',\n",
    "    '2024-02-17',\n",
    "    '2024-02-18','2024-02-19','2024-02-20', '2024-02-21', '2024-02-22', '2024-02-23', '2024-02-24', '2024-02-25'\n",
    "    )\n",
    "tt1 = list(sell_minus_old_again(1, 500, donstroy_moscow_all_room.loc[(donstroy_moscow_all_room['brand'].str.contains(\"donstroy.moscow\")) & (all_room['title'].str.contains(\"Остров\"))  ]))\n",
    "list_date, tt3, l1, f1 = zip(*tt1)\n",
    "\n",
    "    \n",
    "\n",
    "for day in list_date:\n",
    "    print()\n",
    "    day_x = day_x_1[:]\n",
    "    #day_x_1 = donstroy_moscow_all_room.loc[(donstroy_moscow_all_room['brand'].str.contains(\"donstroy.moscow\")) & (donstroy_moscow_all_room['datetime_create']==day) ].values.tolist()\n",
    "    day_x_1 = donstroy_moscow_all_room.loc[(donstroy_moscow_all_room['brand'].str.contains(\"donstroy.moscow\")) & (all_room['title'].str.contains(\"Остров\")) & (donstroy_moscow_all_room['datetime_create']==day) ][['title','price','apartment_area','apartment_floor','ppm']].apply(tuple, axis=1)\n",
    "    cross = list(set(day_x) & set(day_x_1))\n",
    "    if day == '2024-02-10':\n",
    "        continue\n",
    "    #print(cross)\n",
    "\n",
    "    count_sel = count_sel + len(set(day_x) - set(day_x_1)) - len((set(day_x_1) - set(day_x)) & all)\n",
    "    print(day,\n",
    "          1 if len(day_x) - len(day_x_1) !=  len(day_x) - len(cross) else 0,\n",
    "        ', len x =', len(day_x), \n",
    "        ', len s x =', len(set(day_x)), \n",
    "        ', len x_1 =', len(day_x_1), \n",
    "        ', len s x_1 =', len(set(day_x_1)), \n",
    "        ', len c =', len(cross), \n",
    "        ', x - c =', len(day_x) - len(cross),\n",
    "        ', x - x_1 =', len(day_x) - len(day_x_1),\n",
    "        ', s x - x_1 =', len(set(day_x) - set(day_x_1)),\n",
    "        ', s x_1 - x =', len(set(day_x_1) - set(day_x)),\n",
    "        ', today not ystoday and was early =', len((set(day_x_1) - set(day_x)) & all),\n",
    "        ', count_sel =', count_sel, \n",
    "         )\n",
    "\n",
    "    #list_sel.append(count_sel)\n",
    "    list_sel.append(len(set(day_x) - set(day_x_1)) - len((set(day_x_1) - set(day_x)) & all))\n",
    "    \n",
    "    #print(set(day_x_1))\n",
    "    #print( set(day_x_1) ^ set(day_x) )\n",
    "    #print('----')\n",
    "    #print()\n",
    "    #print( set(day_x) - set(day_x_1) )\n",
    "    #print()\n",
    "    #print( set(day_x_1) - set(day_x) )\n",
    "    print((set(day_x_1) - set(day_x)) & all)\n",
    "    all = all | set(day_x_1)\n",
    "    print('----')\n",
    "\n",
    "print(int(count_sel/len(list_sel)*10)/10)\n",
    "\n",
    "plt.figure(figsize=(4,2))\n",
    "#plt.scatter(range(0, len(list_sel)), list_sel, alpha=0.4)\n",
    "plt.scatter(list_date[1:], list_sel, alpha=0.4)\n",
    "plt.xlabel(\"номер дня\")\n",
    "plt.ylabel(\"количество пропавших квартир со вчера минус квартиры появившиеся сегодня но были до этого - Это не количество прданных квартир за день\")"
   ]
  },
  {
   "cell_type": "code",
   "execution_count": null,
   "id": "6fd349fc-d312-4d59-a34e-ec84ceabf781",
   "metadata": {},
   "outputs": [],
   "source": []
  },
  {
   "cell_type": "code",
   "execution_count": null,
   "id": "742e0552-6d08-496b-8b27-ab1998e39c35",
   "metadata": {},
   "outputs": [],
   "source": []
  },
  {
   "cell_type": "code",
   "execution_count": null,
   "id": "422198a7-cf5d-4a1a-9a20-7af1393fb936",
   "metadata": {},
   "outputs": [],
   "source": [
    "day_x = []\n",
    "day_x_1 = []\n",
    "\n",
    "tt1 = list(sell_minus_old_again(1, 500, donstroy_moscow_all_room.loc[(donstroy_moscow_all_room['brand'].str.contains(\"donstroy.moscow\")) & (all_room['title'].str.contains(\"Остров.6\"))  ]))\n",
    "list_date, tt3, l1, f1 = zip(*tt1)\n",
    "\n",
    "    \n",
    "\n",
    "for day in list_date:\n",
    "    \n",
    "#for day in (\n",
    "    #'2024-02-09',\n",
    " #   '2024-02-10', \n",
    "#    '2024-02-11',\n",
    "#    '2024-02-12','2024-02-13','2024-02-14','2024-02-15',\n",
    "#    '2024-02-16',\n",
    "#    '2024-02-17',\n",
    "#    '2024-02-18','2024-02-19','2024-02-20', '2024-02-21', '2024-02-22', '2024-02-23', '2024-02-24', '2024-02-25'\n",
    "#    ):\n",
    "    print()\n",
    "    day_x = day_x_1[:]\n",
    "    #day_x_1 = donstroy_moscow_all_room.loc[(donstroy_moscow_all_room['brand'].str.contains(\"donstroy.moscow\")) & (donstroy_moscow_all_room['datetime_create']==day) ].values.tolist()\n",
    "    day_x_1 = donstroy_moscow_all_room.loc[(donstroy_moscow_all_room['brand'].str.contains(\"donstroy.moscow\")) & (all_room['title'].str.contains(\"Остров.6\")) & (donstroy_moscow_all_room['datetime_create']==day) ][['title','price','apartment_area','apartment_floor','ppm']].apply(tuple, axis=1)\n",
    "    cross = list(set(day_x) & set(day_x_1))\n",
    "    if day == '2024-02-10':\n",
    "        continue\n",
    "    #print(cross)\n",
    "    print(day,\n",
    "        1 if len(day_x) - len(day_x_1) !=  len(day_x) - len(cross) else 0,\n",
    "        len(day_x), \n",
    "        len(day_x_1), \n",
    "        len(cross), \n",
    "        len(day_x) - len(cross),\n",
    "        len(day_x) - len(day_x_1),\n",
    "        len(set(day_x) - set(day_x_1)),\n",
    "         )\n",
    "    \n",
    "    #print(set(day_x_1))\n",
    "    print( set(day_x_1) ^ set(day_x) )\n",
    "    print()\n",
    "    print( set(day_x) - set(day_x_1) )\n",
    "    print('----')"
   ]
  },
  {
   "cell_type": "code",
   "execution_count": null,
   "id": "db24cddf-cce0-4693-8423-e424c83a1483",
   "metadata": {},
   "outputs": [],
   "source": [
    "day_x = []\n",
    "day_x_1 = []\n",
    "\n",
    "tt1 = list(sell_minus_old_again(1, 500, donstroy_moscow_all_room.loc[(donstroy_moscow_all_room['brand'].str.contains(\"donstroy.moscow\")) & (all_room['title'].str.contains(\"Остров.6\"))  ]))\n",
    "list_date, tt3, l1, f1 = zip(*tt1)\n",
    "\n",
    "    \n",
    "\n",
    "for day in list_date:\n",
    "\n",
    "#for day in ('2024-02-10', '2024-02-11',\n",
    "#    '2024-02-12','2024-02-13','2024-02-14','2024-02-15','2024-02-16','2024-02-17','2024-02-18','2024-02-19','2024-02-20', '2024-02-21', '2024-02-22', '2024-02-23', '2024-02-24'\n",
    "#    , '2024-02-25'):\n",
    "    print()\n",
    "    day_x = day_x_1[:]\n",
    "    day_x_1 = donstroy_moscow_all_room.loc[(donstroy_moscow_all_room['brand'].str.contains(\"donstroy.moscow\")) & (all_room['title'].str.contains(\"Остров.6\")) & (donstroy_moscow_all_room['datetime_create']==day) ][['title','price','apartment_area','apartment_floor','ppm']].apply(tuple, axis=1)\n",
    "    cross = list(set(day_x) & set(day_x_1))\n",
    "    if day == '2024-02-10':\n",
    "        continue\n",
    "    print(day,\n",
    "        1 if len(day_x) - len(day_x_1) !=  len(day_x) - len(cross) else 0,\n",
    "#        ', len x =', len(day_x), \n",
    "#        ', len set x =', len(set(day_x)), \n",
    "#        ', len x_1 =', len(day_x_1), \n",
    "#        ', len set x_1 =', len(set(day_x_1)), \n",
    "#        ', len c =', len(cross), \n",
    "#        ', x - c =', len(day_x) - len(cross),\n",
    "#        ', x - x_1 =', len(day_x) - len(day_x_1),\n",
    "        ', set x - x_1 =', len(set(day_x) - set(day_x_1)),\n",
    "#        ', set x_1 - x =', len(set(day_x_1) - set(day_x)),\n",
    "         )\n",
    "    \n",
    "    #print(set(day_x_1))\n",
    "#    print( set(day_x_1) ^ set(day_x) )\n",
    "    #print('----')\n",
    "#    print()\n",
    "#    print( set(day_x) - set(day_x_1) )\n",
    "#    print()\n",
    "#    print( set(day_x_1) - set(day_x) )\n",
    "    print('----')"
   ]
  },
  {
   "cell_type": "markdown",
   "id": "05d016b9-2ff4-4a7c-a1ad-d9f89aaa1701",
   "metadata": {},
   "source": [
    "# вывести квартиры котрые не было вчера но были когда то раньше и есть сегодня"
   ]
  },
  {
   "cell_type": "code",
   "execution_count": null,
   "id": "ec75059d-a45c-480d-8642-0e057836c5db",
   "metadata": {},
   "outputs": [],
   "source": [
    "day_x = []\n",
    "day_x_1 = []\n",
    "all = set()\n",
    "\n",
    "tt1 = list(sell_minus_old_again(1, 500, donstroy_moscow_all_room.loc[(donstroy_moscow_all_room['brand'].str.contains(\"donstroy.moscow\")) & (all_room['title'].str.contains(\"Остров.6\"))  ]))\n",
    "list_date, tt3, l1, f1 = zip(*tt1)\n",
    "\n",
    "\n",
    "print(list_date)\n",
    "\n",
    "#for day in list_date:\n",
    "    \n",
    "for day in ('2024-02-10', '2024-02-11',\n",
    "    '2024-02-12','2024-02-13','2024-02-14','2024-02-15','2024-02-16','2024-02-17','2024-02-18','2024-02-19','2024-02-20', '2024-02-21', '2024-02-22', '2024-02-23',\n",
    "    '2024-02-24'\n",
    "    , '2024-02-25'):\n",
    "    print()\n",
    "    day_x = day_x_1[:]\n",
    "    day_x_1 = donstroy_moscow_all_room.loc[(donstroy_moscow_all_room['brand'].str.contains(\"donstroy.moscow\")) & (all_room['title'].str.contains(\"Остров.6\")) & (donstroy_moscow_all_room['datetime_create']==day) ][['title','price','apartment_area','apartment_floor','ppm']].apply(tuple, axis=1)\n",
    "    \n",
    "    cross = list(set(day_x) & set(day_x_1))\n",
    "    if day == '2024-02-10':\n",
    "        continue\n",
    "    print(day,\n",
    "        1 if len(day_x) - len(day_x_1) !=  len(day_x) - len(cross) else 0,\n",
    "#        ', len x =', len(day_x), \n",
    "#        ', len set x =', len(set(day_x)), \n",
    "#        ', len x_1 =', len(day_x_1), \n",
    "#        ', len set x_1 =', len(set(day_x_1)), \n",
    "#        ', len c =', len(cross), \n",
    "#        ', x - c =', len(day_x) - len(cross),\n",
    "#        ', x - x_1 =', len(day_x) - len(day_x_1),\n",
    "#        ', set x - x_1 =', len(set(day_x) - set(day_x_1)),\n",
    "        ', set x_1 - x =', len(set(day_x_1) - set(day_x)),\n",
    "        ', today not ystoday and was early =', len((set(day_x_1) - set(day_x)) & all),\n",
    "         )\n",
    "    \n",
    "    #print(set(day_x_1))\n",
    "#    print( set(day_x_1) ^ set(day_x) )\n",
    "    #print('----')\n",
    "#    print()\n",
    "#    print( set(day_x) - set(day_x_1) )\n",
    "#    print()\n",
    "#    print( set(day_x_1) - set(day_x) )\n",
    "    all = all | set(day_x_1)\n",
    "    print('----')"
   ]
  },
  {
   "cell_type": "code",
   "execution_count": null,
   "id": "76080087-0c28-438f-a114-1cbc12653a25",
   "metadata": {},
   "outputs": [],
   "source": []
  },
  {
   "cell_type": "code",
   "execution_count": null,
   "id": "15e12a9a-5ae8-4b55-b6fe-5f28372b2803",
   "metadata": {},
   "outputs": [],
   "source": []
  },
  {
   "cell_type": "code",
   "execution_count": null,
   "id": "cedc1e36-cb2f-4d02-a6ce-ba2576593af5",
   "metadata": {},
   "outputs": [],
   "source": [
    "day_x = []\n",
    "day_x_1 = []\n",
    "for day in (\n",
    "    #'2024-02-09',\n",
    "    '2024-02-10', \n",
    "    '2024-02-11',\n",
    "    '2024-02-12','2024-02-13','2024-02-14','2024-02-15',\n",
    "    '2024-02-16',\n",
    "    '2024-02-17','2024-02-18','2024-02-19', '2024-02-20', '2024-02-21', '2024-02-22', '2024-02-23', '2024-02-24', '2024-02-25'\n",
    "    ):\n",
    "    print()\n",
    "    day_x = day_x_1[:]\n",
    "    #day_x_1 = donstroy_moscow_all_room.loc[(donstroy_moscow_all_room['brand'].str.contains(\"donstroy.moscow\")) & (donstroy_moscow_all_room['datetime_create']==day) ].values.tolist()\n",
    "    day_x_1 = donstroy_moscow_all_room.loc[(donstroy_moscow_all_room['brand'].str.contains(\"donstroy.moscow\")) & (all_room['title'].str.contains(\"Остров.6 Корпус 1\")) & (donstroy_moscow_all_room['datetime_create']==day) ][['title','price','apartment_area','apartment_floor','ppm']].apply(tuple, axis=1)\n",
    "    cross = list(set(day_x) & set(day_x_1))\n",
    "    if day == '2024-02-10':\n",
    "        continue\n",
    "    #print(cross)\n",
    "    print(day,\n",
    "        1 if len(day_x) - len(day_x_1) !=  len(day_x) - len(cross) else 0,\n",
    "        len(day_x), \n",
    "        len(day_x_1), \n",
    "        len(cross), \n",
    "        len(day_x) - len(cross),\n",
    "        len(day_x) - len(day_x_1))\n",
    "    \n",
    "    #print(set(day_x_1))\n",
    "    print( set(day_x_1) ^ set(day_x) )\n",
    "    #print('----')"
   ]
  },
  {
   "cell_type": "code",
   "execution_count": null,
   "id": "605a5819-f7ee-4539-830d-f5a9dfc5f221",
   "metadata": {},
   "outputs": [],
   "source": [
    "#donstroy_moscow_all_room.loc[(all_room['title'].str.contains(\"Остров.6 Корпус 1\")) & (donstroy_moscow_all_room['datetime_create']=='2024-02-15')]"
   ]
  },
  {
   "cell_type": "code",
   "execution_count": null,
   "id": "8c02941a-5205-4ffd-a9d4-94c542d5f797",
   "metadata": {},
   "outputs": [],
   "source": [
    "#dd = donstroy_moscow_all_room.loc[all_room['title'].str.contains(\"Остров.6\")].groupby(['datetime_create'])"
   ]
  },
  {
   "cell_type": "code",
   "execution_count": null,
   "id": "720a6f42-bcf9-4dc5-a5fb-f998e6dd2762",
   "metadata": {},
   "outputs": [],
   "source": [
    "\n",
    "for i in (\n",
    "    \"Остров.1\",\n",
    "    \"Остров.2\",\n",
    "    \"Остров.3\",\n",
    "    \"Остров.4\",\n",
    "    \"Остров.5\",\n",
    "    \"Остров.6\",\n",
    "    \"Остров.7\",\n",
    "    \"Остров.8\",\n",
    "    \"Остров.9\",\n",
    "    \"Остров.10\",\n",
    "):\n",
    "    all_room_group_by_date = all_room.loc[all_room['brand'].str.contains(\"donstroy.moscow\") & (~all_room['datetime_create'].isin(bad_date)) & (all_room['title'].str.contains(i))].groupby(['datetime_create'])\n",
    "    all_room_group_by_date_mean = all_room_group_by_date[[\"price\", \"avg_price_per_metr\",\"apartment_area\",\"apartment_room\"]].mean()\n",
    "    all_room_group_by_date_count = all_room_group_by_date[[\"price\"]].count()\n",
    "    \n",
    "#    print(i)\n",
    "\n",
    "    fig, axs = plt.subplots(nrows=5, ncols=1)\n",
    "\n",
    "    # Рисуем графики на подграфах\n",
    "    #axs[0].plot(x1, y1)\n",
    "    #axs[1].plot(x2, y2)\n",
    "    #axs[2].plot(x3, y3)\n",
    "    \n",
    "    ## Отображаем график\n",
    "    #plt.show()\n",
    "    \n",
    "    #axs[0].figure(figsize=(5,2))\n",
    "    axs[0].scatter(all_room_group_by_date_count.index,all_room_group_by_date_count[\"price\"], alpha=0.4)\n",
    "    #axs[0].xlabel(f\"дата {i}\")\n",
    "    #plt.ylabel(\"количество представленных квартир для продажи в комапании\")\n",
    "    #axs[0].ylabel(\"количество\")\n",
    "    \n",
    "#    plt.figure(figsize=(5,2))\n",
    "    axs[1].scatter(all_room_group_by_date_mean.index,all_room_group_by_date_mean[\"price\"], alpha=0.4)\n",
    "#    plt.xlabel(f\"дата {i}\")\n",
    "    #plt.ylabel(\"среденяя цена квартир представленных для продажи в комапании\")\n",
    "#    plt.ylabel(\"цена\")\n",
    "    \n",
    "#    axs[1].plt.figure(figsize=(5,2))\n",
    "    axs[2].scatter(all_room_group_by_date_mean.index,all_room_group_by_date_mean[\"avg_price_per_metr\"], alpha=0.4)\n",
    "#    axs[1].plt.xlabel(f\"дата {i}\")\n",
    "#    #plt.ylabel(\"среденяя цена квадратного метра квартир представленных для продажи в комапании\")\n",
    "#    axs[1].plt.ylabel(\"цена квадратного метра\")\n",
    "    \n",
    "#    axs[2].plt.figure(figsize=(5,2))\n",
    "    axs[3].scatter(all_room_group_by_date_mean.index,all_room_group_by_date_mean[\"apartment_area\"], alpha=0.4)\n",
    "#    axs[2].plt.xlabel(f\"дата {i}\")\n",
    "#    #plt.ylabel(\"средений размер квартир в метрах представленных для продажи в комапании\")\n",
    "#    axs[2].plt.ylabel(\"размер в метрах\")\n",
    "\n",
    "\n",
    "\n",
    "    dmr_1 = list(sell_minus_old_again(1, 500, all_room.loc[all_room['brand'].str.contains(\"donstroy.moscow\") & (~all_room['datetime_create'].isin(bad_date)) & (all_room['title'].str.contains(i))]))\n",
    "    if dmr_1:\n",
    "        d1, s1, l1, f1 = zip(*dmr_1)\n",
    "        #print(d1)\n",
    "        #print(s1)\n",
    "        axs[4].scatter(range(0, len(dmr_1)), s1, alpha=0.4)\n"
   ]
  },
  {
   "cell_type": "code",
   "execution_count": null,
   "id": "76b0b24e-5c0b-4b9a-b788-0c54113e211c",
   "metadata": {},
   "outputs": [],
   "source": []
  },
  {
   "cell_type": "code",
   "execution_count": null,
   "id": "54c066bb-ebeb-4032-b340-a43b92628af8",
   "metadata": {},
   "outputs": [],
   "source": []
  },
  {
   "cell_type": "code",
   "execution_count": null,
   "id": "09817c43-c83a-42f1-8246-35683a58b56f",
   "metadata": {},
   "outputs": [],
   "source": []
  },
  {
   "cell_type": "markdown",
   "id": "e014f93d-2288-4829-9abb-5f20d442b957",
   "metadata": {},
   "source": [
    "# Level"
   ]
  },
  {
   "cell_type": "code",
   "execution_count": null,
   "id": "a9e6929f-6312-4c4e-89a4-1ac3699e28f3",
   "metadata": {},
   "outputs": [],
   "source": [
    "all_room.loc[all_room['brand'].str.contains(\"level\")].describe()#.count()#[1:2]"
   ]
  },
  {
   "cell_type": "code",
   "execution_count": null,
   "id": "134fe440-3d3a-4cfa-83bd-0e12eb1ac9c8",
   "metadata": {},
   "outputs": [],
   "source": [
    "#all_room.loc[all_room['brand'].str.contains(\"level\")][1:2]"
   ]
  },
  {
   "cell_type": "code",
   "execution_count": null,
   "id": "7d1a5a10-1483-4e00-bef9-8a10b034a3ff",
   "metadata": {},
   "outputs": [],
   "source": [
    "all_room.loc[all_room['brand'].str.contains(\"level\")].groupby(['datetime_create']).describe()[1:5]"
   ]
  },
  {
   "cell_type": "markdown",
   "id": "c79ef585-c320-4687-97f4-2820285bfbe7",
   "metadata": {},
   "source": [
    "# Почистить эти дни так как они кривые\n",
    "2023-05-18\t  \n",
    "2023-05-21  \n",
    "2023-06-02    \n",
    "2023-07-08   \n",
    "2023-12-02   \n",
    "2024-01-20   \n",
    "2024-01-21   \n",
    "2024-01-22  "
   ]
  },
  {
   "cell_type": "markdown",
   "id": "5cb2cf2d-ffc2-4bff-bb3a-7dc56b99af0c",
   "metadata": {},
   "source": [
    "# Попробую просто удалиь"
   ]
  },
  {
   "cell_type": "code",
   "execution_count": null,
   "id": "89b6d4fc-e2a3-47b5-ad95-185edab1c615",
   "metadata": {},
   "outputs": [],
   "source": [
    "bad_date_old = ['2023-05-18',  \n",
    "    '2023-05-21',\n",
    "    '2023-06-02',  \n",
    "    '2023-07-08', \n",
    "    '2023-12-02', \n",
    "    '2024-01-20',\n",
    "    '2024-01-21', \n",
    "    '2024-01-22',]"
   ]
  },
  {
   "cell_type": "code",
   "execution_count": null,
   "id": "5e7769cb-5803-4288-a2e5-b63ca87ff630",
   "metadata": {},
   "outputs": [],
   "source": [
    "#all_room.loc[(all_room['brand'].str.contains(\"level\")) & (~all_room['datetime_create'].isin(bad_date))]"
   ]
  },
  {
   "cell_type": "code",
   "execution_count": null,
   "id": "21bb29dc-9b62-438a-92af-c8b6b636a5c7",
   "metadata": {},
   "outputs": [],
   "source": []
  },
  {
   "cell_type": "code",
   "execution_count": null,
   "id": "beb0d678-8027-4747-9ca3-c5f5e7264cb0",
   "metadata": {},
   "outputs": [],
   "source": [
    "#all_room.loc[all_room['brand'].str.contains(\"level\")].groupby(['datetime_create']).mean('prwce')[1:5]"
   ]
  },
  {
   "cell_type": "code",
   "execution_count": null,
   "id": "fc9e5376-a158-48e1-8586-3d7086c535d7",
   "metadata": {},
   "outputs": [],
   "source": []
  },
  {
   "cell_type": "code",
   "execution_count": null,
   "id": "e538deb3-8260-4ce5-895a-8a4cc5bf12b1",
   "metadata": {},
   "outputs": [],
   "source": [
    "#all_room.loc[all_room['brand'].str.contains(\"level\")].groupby(['datetime_create']).describe()[1:5000]"
   ]
  },
  {
   "cell_type": "code",
   "execution_count": null,
   "id": "8e74cf36-8761-421e-b5b0-6cec29edccf5",
   "metadata": {},
   "outputs": [],
   "source": []
  },
  {
   "cell_type": "code",
   "execution_count": null,
   "id": "60d8e568-416f-4e17-a0dd-f634708f745a",
   "metadata": {},
   "outputs": [],
   "source": [
    "all_room_group_by_date = all_room.loc[all_room['brand'].str.contains(\"level\") & (~all_room['datetime_create'].isin(bad_date))].groupby(['datetime_create'])"
   ]
  },
  {
   "cell_type": "code",
   "execution_count": null,
   "id": "11116713-df71-4b6c-81b1-114ce24d54e3",
   "metadata": {},
   "outputs": [],
   "source": [
    "all_room_group_by_date_mean = all_room_group_by_date[[\"price\", \"avg_price_per_metr\",\"apartment_area\",\"apartment_room\"]].mean()\n",
    "all_room_group_by_date_count = all_room_group_by_date[[\"price\"]].count()"
   ]
  },
  {
   "cell_type": "code",
   "execution_count": null,
   "id": "e8f9d6d6-e21c-4892-9d2b-c5cefbce8952",
   "metadata": {},
   "outputs": [],
   "source": [
    "plt.figure(figsize=(20,3))\n",
    "plt.scatter(all_room_group_by_date_count.index,all_room_group_by_date_count[\"price\"], alpha=0.4)\n",
    "plt.xlabel(\"дата\")\n",
    "plt.ylabel(\"количество представленных квартир\")\n",
    "#plt.ylim(10,120)"
   ]
  },
  {
   "cell_type": "code",
   "execution_count": null,
   "id": "4e21e5fd-66a3-4217-9f57-379532ca85cf",
   "metadata": {},
   "outputs": [],
   "source": [
    "# dd = all_room.loc[all_room['datetime_create'] != '2024-02-09']\n",
    "# dmr_1 = list(were_there_yesterday_but_not_today(1, all_room.loc[all_room['brand'].str.contains(\"level\") & (~all_room['datetime_create'].isin(bad_date))]))\n",
    "\n",
    "# d1, s1 = zip(*dmr_1)\n",
    "# plt.figure(figsize=(20, 3))\n",
    "# plt.scatter(range(0, len(dmr_1)), s1, alpha=0.4)\n",
    "# plt.xlabel(\"дата - ушло\")\n",
    "# plt.ylabel(\"Проданно\")"
   ]
  },
  {
   "cell_type": "code",
   "execution_count": null,
   "id": "bda82420-3c5e-4517-9463-36428d5ab7c8",
   "metadata": {},
   "outputs": [],
   "source": [
    "# dd = all_room.loc[all_room['datetime_create'] != '2024-02-09']\n",
    "# dmr_1 = list(were_there_yesterday_but_not_today(7, all_room.loc[all_room['brand'].str.contains(\"level\") & (~all_room['datetime_create'].isin(bad_date))]))\n",
    "\n",
    "# d1, s1 = zip(*dmr_1)\n",
    "# plt.figure(figsize=(20, 3))\n",
    "# plt.scatter(range(0, len(dmr_1)), s1, alpha=0.4)\n",
    "# plt.xlabel(\"дата - ушло\")\n",
    "# plt.ylabel(\"Проданно\")"
   ]
  },
  {
   "cell_type": "code",
   "execution_count": null,
   "id": "d8aa8cec-25ff-4dad-b847-8eff2d3f64e1",
   "metadata": {},
   "outputs": [],
   "source": [
    "# dd = all_room.loc[all_room['datetime_create'] != '2024-02-09']\n",
    "# dmr_1 = list(appeared_today_but_were_there_before(1, all_room.loc[all_room['brand'].str.contains(\"level\") & (~all_room['datetime_create'].isin(bad_date))]))\n",
    "\n",
    "# d1, s1 = zip(*dmr_1)\n",
    "# s1 = list(filter(lambda i: i < 17, s1))\n",
    "# plt.figure(figsize=(20, 3))\n",
    "# plt.scatter(range(0, len(s1)), s1, alpha=0.4)\n",
    "# plt.xlabel(\"дата - пришло\")\n",
    "# plt.ylabel(\"Проданно\")"
   ]
  },
  {
   "cell_type": "code",
   "execution_count": null,
   "id": "3664ffdd-305f-4e1b-ba93-a590f389c878",
   "metadata": {},
   "outputs": [],
   "source": []
  },
  {
   "cell_type": "code",
   "execution_count": null,
   "id": "dabd6b5f-18ed-49ae-a54a-2eb9480e9b7b",
   "metadata": {},
   "outputs": [],
   "source": []
  },
  {
   "cell_type": "code",
   "execution_count": null,
   "id": "4f43045d-6937-4881-bc7b-8cc125904e9e",
   "metadata": {},
   "outputs": [],
   "source": []
  },
  {
   "cell_type": "code",
   "execution_count": null,
   "id": "d34b8ea7-6bb4-4785-80d0-91deeaf63832",
   "metadata": {},
   "outputs": [],
   "source": []
  },
  {
   "cell_type": "code",
   "execution_count": null,
   "id": "7a7dec2d-5eba-40cc-900b-d42197cf5606",
   "metadata": {},
   "outputs": [],
   "source": [
    "plt.figure(figsize=(20,3))\n",
    "plt.scatter(all_room_group_by_date_mean.index,all_room_group_by_date_mean[\"price\"], alpha=0.4)\n",
    "plt.xlabel(\"дата\")\n",
    "plt.ylabel(\"среденяя цена квартир\")"
   ]
  },
  {
   "cell_type": "code",
   "execution_count": null,
   "id": "e619f11f-2897-49a6-a2bb-dcbf918cac6d",
   "metadata": {},
   "outputs": [],
   "source": [
    "plt.figure(figsize=(20,3))\n",
    "plt.scatter(all_room_group_by_date_mean.index,all_room_group_by_date_mean[\"avg_price_per_metr\"], alpha=0.4)\n",
    "plt.xlabel(\"дата\")\n",
    "plt.ylabel(\"среденяя цена квадратного метра\")"
   ]
  },
  {
   "cell_type": "code",
   "execution_count": null,
   "id": "b7415194-b5fe-4a32-af70-471cd029ebef",
   "metadata": {},
   "outputs": [],
   "source": [
    "plt.figure(figsize=(20,3))\n",
    "plt.scatter(all_room_group_by_date_mean.index,all_room_group_by_date_mean[\"apartment_area\"], alpha=0.4)\n",
    "plt.xlabel(\"дата\")\n",
    "plt.ylabel(\"средений размер в метрах\")"
   ]
  },
  {
   "cell_type": "code",
   "execution_count": null,
   "id": "78ad8d40-07d1-4382-9ad1-f0f367b31297",
   "metadata": {},
   "outputs": [],
   "source": [
    "plt.figure(figsize=(20,3))\n",
    "plt.scatter(all_room_group_by_date_mean.index,all_room_group_by_date_mean[\"apartment_room\"], alpha=0.4)\n",
    "plt.xlabel(\"дата\")\n",
    "plt.ylabel(\"среденее число комнат в квартире\")"
   ]
  },
  {
   "cell_type": "code",
   "execution_count": null,
   "id": "3c9d6910-d69a-4ae5-a50c-217aa759f8b9",
   "metadata": {},
   "outputs": [],
   "source": [
    "#from datetime import datetime, timedelta\n",
    "\n",
    "def date_from_new():\n",
    "    # Инициализация текущей даты\n",
    "    now = datetime.datetime(2023, 1, 1)\n",
    "    \n",
    "    # Создание списка дат\n",
    "    dates = []\n",
    "    \n",
    "    # Цикл, который добавляет к текущей дате один день и добавляет ее в список\n",
    "    while now.year <= 2024:\n",
    "        dates.append(str(now.date()))\n",
    "        now += datetime.timedelta(days=1)\n",
    "    \n",
    "    # Вывод списка дат\n",
    "    #for date in dates:\n",
    "    #    print(date)\n",
    "    return dates"
   ]
  },
  {
   "cell_type": "code",
   "execution_count": null,
   "id": "47c1c337-b047-4723-a54f-a9c747435591",
   "metadata": {},
   "outputs": [],
   "source": [
    "# Продажа и появления кварти"
   ]
  },
  {
   "cell_type": "code",
   "execution_count": null,
   "id": "58e42bb9-2db8-40a7-a449-080bc7343258",
   "metadata": {},
   "outputs": [],
   "source": [
    "a = {(1,3),(2,3), (3,3)}\n",
    "b = {(2,3), (3,3), (4,3)}\n",
    "a & b"
   ]
  },
  {
   "cell_type": "code",
   "execution_count": null,
   "id": "bd59d32e-52cd-41d8-8313-08b00b6c83f7",
   "metadata": {},
   "outputs": [],
   "source": [
    "#2023-01-04\n",
    "\n",
    "day_x = []\n",
    "day_x_1 = []\n",
    "for day in ('2023-01-03', '2023-01-04'):\n",
    "    print()\n",
    "    day_x = day_x_1[:]\n",
    "    #day_x_1 = donstroy_moscow_all_room.loc[(donstroy_moscow_all_room['brand'].str.contains(\"donstroy.moscow\")) & (donstroy_moscow_all_room['datetime_create']==day) ].values.tolist()\n",
    "    day_x_1 = all_room.loc[(all_room['brand'].str.contains(\"level\")) & (all_room['datetime_create']==day) ][['title','price','apartment_area','apartment_floor']].apply(tuple, axis=1)\n",
    "    cross = len(set(day_x) & set(day_x_1))\n",
    "#    print(cross)\n",
    "#    print(day_x[:3])\n",
    "#    print(day_x_1[:3])\n",
    "#    print(set(day_x[:3]))\n",
    "#    print(set(day_x_1[:3]))\n",
    "    print('--------====')\n",
    "#    print(set(day_x[:3]) & set(day_x_1[:3]))\n",
    "    print(len(set(day_x[:3]) & set(day_x_1[:3])))\n",
    "    print(len(list(set(day_x[:3]) & set(day_x_1[:3]))))\n",
    "    #print(len(cross))\n",
    "#    print(cross)\n",
    "    print(1 if len(day_x) - len(day_x_1) !=  len(day_x) - cross else 0,\n",
    "          day,\n",
    "          len(day_x), \n",
    "          len(day_x_1), \n",
    "#          cross, \n",
    "          len(day_x) - cross,\n",
    "          len(day_x) - len(day_x_1))\n",
    "    #print('----')"
   ]
  },
  {
   "cell_type": "code",
   "execution_count": null,
   "id": "e0910a1f-de2e-4859-ba6a-24dd1279c5e5",
   "metadata": {},
   "outputs": [],
   "source": [
    "day_x = []\n",
    "day_x_1 = []\n",
    "#for day in date_from_new():#('2024-02-09', '2024-02-10', '2024-02-11','2024-02-12','2024-02-13'):\n",
    "for day in (\n",
    "    #'2024-02-10'\n",
    "    '2024-02-11',\n",
    "    '2024-02-12',\n",
    "    '2024-02-13',\n",
    "    '2024-02-14','2024-02-15',\n",
    "    #'2024-02-16'\n",
    "    ):\n",
    "    print()\n",
    "    day_x = day_x_1[:]\n",
    "    #day_x_1 = donstroy_moscow_all_room.loc[(donstroy_moscow_all_room['brand'].str.contains(\"donstroy.moscow\")) & (donstroy_moscow_all_room['datetime_create']==day) ].values.tolist()\n",
    "    day_x_1 = all_room.loc[(all_room['brand'].str.contains(\"level\")) & (all_room['datetime_create']==day) ][['title','price','apartment_area','apartment_floor']].apply(tuple, axis=1)\n",
    "    cross = list(set(day_x) & set(day_x_1))\n",
    "    #print(cross)\n",
    "    if day == '2024-02-11':\n",
    "        continue\n",
    "    print(1 if len(day_x) - len(day_x_1) !=  len(day_x) - len(cross) else 0,\n",
    "          day,\n",
    "          len(day_x), \n",
    "          len(day_x_1), \n",
    "          len(cross), \n",
    "          len(day_x) - len(cross),\n",
    "          len(day_x) - len(day_x_1))\n",
    "    print('----')\n",
    "    #print( set(day_x_1) ^ set(day_x) )\n",
    "    print( set(day_x_1) ^ set(day_x) )\n",
    "    print( set(cross) ^ set(day_x) )\n",
    "    print('===')"
   ]
  },
  {
   "cell_type": "code",
   "execution_count": null,
   "id": "cb1763d6-d8d0-4368-ab04-6a77ab3cef6d",
   "metadata": {},
   "outputs": [],
   "source": [
    "day_x = []\n",
    "day_x_1 = []\n",
    "#for day in date_from_new():#('2024-02-09', '2024-02-10', '2024-02-11','2024-02-12','2024-02-13'):\n",
    "for day in ('2024-02-09', '2024-02-10', '2024-02-11','2024-02-12','2024-02-13','2024-02-14','2024-02-15'):\n",
    "    print()\n",
    "    day_x = day_x_1[:]\n",
    "    #day_x_1 = donstroy_moscow_all_room.loc[(donstroy_moscow_all_room['brand'].str.contains(\"donstroy.moscow\")) & (donstroy_moscow_all_room['datetime_create']==day) ].values.tolist()\n",
    "    day_x_1 = all_room.loc[(all_room['brand'].str.contains(\"level\")) & (all_room['datetime_create']==day) ][['title','price','apartment_area','apartment_floor']].apply(tuple, axis=1)\n",
    "    cross = list(set(day_x) & set(day_x_1))\n",
    "    #print(cross)\n",
    "    print(1 if len(day_x) - len(day_x_1) !=  len(day_x) - len(cross) else 0,\n",
    "          day,\n",
    "          len(day_x), \n",
    "          len(day_x_1), \n",
    "          len(cross), \n",
    "          len(day_x) - len(cross),\n",
    "          len(day_x) - len(day_x_1))\n",
    "    #print('----')"
   ]
  },
  {
   "cell_type": "code",
   "execution_count": null,
   "id": "3c34076f-cdb8-4fae-b93c-f49a9b0a0d09",
   "metadata": {},
   "outputs": [],
   "source": []
  },
  {
   "cell_type": "code",
   "execution_count": null,
   "id": "fa95c2a3-10f9-4c68-b572-105940c3dfb3",
   "metadata": {},
   "outputs": [],
   "source": []
  },
  {
   "cell_type": "markdown",
   "id": "5d480692-d0eb-4c46-b59c-44a6da4cc9f2",
   "metadata": {},
   "source": [
    "# 0 квартиры level"
   ]
  },
  {
   "cell_type": "code",
   "execution_count": null,
   "id": "ac9ebfa7-9bd5-42d9-8d28-d1e664acfce5",
   "metadata": {},
   "outputs": [],
   "source": [
    "all_room_group_by_date = all_room.loc[all_room['brand'].str.contains(\"level\") & (~all_room['datetime_create'].isin(bad_date)) & (all_room['apartment_room'] == 0)].groupby(['datetime_create'])\n",
    "all_room_group_by_date_mean = all_room_group_by_date[[\"price\", \"avg_price_per_metr\",\"apartment_area\",\"apartment_room\"]].mean()\n",
    "all_room_group_by_date_count = all_room_group_by_date[[\"price\"]].count()\n",
    "\n",
    "plt.figure(figsize=(20,3))\n",
    "plt.scatter(all_room_group_by_date_count.index,all_room_group_by_date_count[\"price\"], alpha=0.4)\n",
    "plt.xlabel(\"дата\")\n",
    "#plt.ylabel(\"количество представленных квартир для продажи в комапании\")\n",
    "plt.ylabel(\"количество\")\n",
    "\n",
    "plt.figure(figsize=(20,3))\n",
    "plt.scatter(all_room_group_by_date_mean.index,all_room_group_by_date_mean[\"price\"], alpha=0.4)\n",
    "plt.xlabel(\"дата\")\n",
    "#plt.ylabel(\"среденяя цена квартир представленных для продажи в комапании\")\n",
    "plt.ylabel(\"среденяя цена\")\n",
    "\n",
    "plt.figure(figsize=(20,3))\n",
    "plt.scatter(all_room_group_by_date_mean.index,all_room_group_by_date_mean[\"avg_price_per_metr\"], alpha=0.4)\n",
    "plt.xlabel(\"дата\")\n",
    "#plt.ylabel(\"среденяя цена квадратного метра квартир представленных для продажи в комапании\")\n",
    "plt.ylabel(\"среденяя цена квадратного метра\")\n",
    "\n",
    "plt.figure(figsize=(20,3))\n",
    "plt.scatter(all_room_group_by_date_mean.index,all_room_group_by_date_mean[\"apartment_area\"], alpha=0.4)\n",
    "plt.xlabel(\"дата\")\n",
    "#plt.ylabel(\"средений размер квартир в метрах представленных для продажи в комапании\")\n",
    "plt.ylabel(\"средений размер квартир в метрах\")"
   ]
  },
  {
   "cell_type": "markdown",
   "id": "21567122-510c-41c6-b83c-94c0be7098f3",
   "metadata": {},
   "source": [
    "# Однокомнатные квартиры level"
   ]
  },
  {
   "cell_type": "code",
   "execution_count": null,
   "id": "af6a21b0-6ddb-44ea-85f6-967db20a6c79",
   "metadata": {},
   "outputs": [],
   "source": [
    "all_room_group_by_date = all_room.loc[all_room['brand'].str.contains(\"level\") & (~all_room['datetime_create'].isin(bad_date)) & (all_room['apartment_room'] == 1)].groupby(['datetime_create'])\n",
    "all_room_group_by_date_mean = all_room_group_by_date[[\"price\", \"avg_price_per_metr\",\"apartment_area\",\"apartment_room\"]].mean()\n",
    "all_room_group_by_date_count = all_room_group_by_date[[\"price\"]].count()"
   ]
  },
  {
   "cell_type": "code",
   "execution_count": null,
   "id": "5f4889ed-ef73-42af-8284-4e31553f86ae",
   "metadata": {},
   "outputs": [],
   "source": [
    "plt.figure(figsize=(20,3))\n",
    "plt.scatter(all_room_group_by_date_count.index,all_room_group_by_date_count[\"price\"], alpha=0.4)\n",
    "plt.xlabel(\"дата\")\n",
    "plt.ylabel(\"количество представленных квартир для продажи в комапании\")"
   ]
  },
  {
   "cell_type": "code",
   "execution_count": null,
   "id": "8a2d5357-66c5-4e9c-9652-7b46ac6e03ed",
   "metadata": {},
   "outputs": [],
   "source": [
    "plt.figure(figsize=(20,3))\n",
    "plt.scatter(all_room_group_by_date_mean.index,all_room_group_by_date_mean[\"price\"], alpha=0.4)\n",
    "plt.xlabel(\"дата\")\n",
    "plt.ylabel(\"среденяя цена квартир \")"
   ]
  },
  {
   "cell_type": "code",
   "execution_count": null,
   "id": "be2a6ca6-e480-4fb2-a457-0c88f69cbda2",
   "metadata": {},
   "outputs": [],
   "source": [
    "plt.figure(figsize=(20,3))\n",
    "plt.scatter(all_room_group_by_date_mean.index,all_room_group_by_date_mean[\"avg_price_per_metr\"], alpha=0.4)\n",
    "plt.xlabel(\"дата\")\n",
    "plt.ylabel(\"среденяя цена квадратного метра квартир представленных для продажи в комапании\")"
   ]
  },
  {
   "cell_type": "code",
   "execution_count": null,
   "id": "cb89cfd0-19d0-41fd-96ca-4c94c17e5dc1",
   "metadata": {},
   "outputs": [],
   "source": [
    "plt.figure(figsize=(20,3))\n",
    "plt.scatter(all_room_group_by_date_mean.index,all_room_group_by_date_mean[\"apartment_area\"], alpha=0.4)\n",
    "plt.xlabel(\"дата\")\n",
    "plt.ylabel(\"средений размер квартир в метрах представленных для продажи в комапании\")"
   ]
  },
  {
   "cell_type": "markdown",
   "id": "1e5da2a3-88df-455a-9d5f-eb43bc5a9987",
   "metadata": {},
   "source": [
    "# 2-х квартиры level"
   ]
  },
  {
   "cell_type": "code",
   "execution_count": null,
   "id": "632f4826-af19-4cb1-90f9-ba80ed4ed926",
   "metadata": {},
   "outputs": [],
   "source": [
    "all_room_group_by_date = all_room.loc[all_room['brand'].str.contains(\"level\") & (~all_room['datetime_create'].isin(bad_date)) & (all_room['apartment_room'] == 2)].groupby(['datetime_create'])\n",
    "all_room_group_by_date_mean = all_room_group_by_date[[\"price\", \"avg_price_per_metr\",\"apartment_area\",\"apartment_room\"]].mean()\n",
    "all_room_group_by_date_count = all_room_group_by_date[[\"price\"]].count()"
   ]
  },
  {
   "cell_type": "code",
   "execution_count": null,
   "id": "a2a2619e-8a9d-4247-8e38-6b7146042b6b",
   "metadata": {},
   "outputs": [],
   "source": [
    "plt.figure(figsize=(20,3))\n",
    "plt.scatter(all_room_group_by_date_count.index,all_room_group_by_date_count[\"price\"], alpha=0.4)\n",
    "plt.xlabel(\"дата\")\n",
    "plt.ylabel(\"количество представленных квартир\")\n",
    "\n",
    "plt.figure(figsize=(20,3))\n",
    "plt.scatter(all_room_group_by_date_mean.index,all_room_group_by_date_mean[\"price\"], alpha=0.4)\n",
    "plt.xlabel(\"дата\")\n",
    "plt.ylabel(\"среденяя цена квартир\")\n",
    "\n",
    "plt.figure(figsize=(20,3))\n",
    "plt.scatter(all_room_group_by_date_mean.index,all_room_group_by_date_mean[\"avg_price_per_metr\"], alpha=0.4)\n",
    "plt.xlabel(\"дата\")\n",
    "plt.ylabel(\"среденяя цена квадратного метра\")\n",
    "\n",
    "plt.figure(figsize=(20,3))\n",
    "plt.scatter(all_room_group_by_date_mean.index,all_room_group_by_date_mean[\"apartment_area\"], alpha=0.4)\n",
    "plt.xlabel(\"дата\")\n",
    "plt.ylabel(\"средений размер квартир в метрах\")"
   ]
  },
  {
   "cell_type": "markdown",
   "id": "08ee6e6b-be68-4b42-b8de-327f353b6935",
   "metadata": {},
   "source": [
    "# 3-х квартиры level"
   ]
  },
  {
   "cell_type": "code",
   "execution_count": null,
   "id": "6476cd53-42a2-4a1f-975f-c1359ccca9d1",
   "metadata": {},
   "outputs": [],
   "source": [
    "all_room_group_by_date = all_room.loc[all_room['brand'].str.contains(\"level\") & (~all_room['datetime_create'].isin(bad_date)) & (all_room['apartment_room'] == 3)].groupby(['datetime_create'])\n",
    "all_room_group_by_date_mean = all_room_group_by_date[[\"price\", \"avg_price_per_metr\",\"apartment_area\",\"apartment_room\"]].mean()\n",
    "all_room_group_by_date_count = all_room_group_by_date[[\"price\"]].count()\n",
    "\n",
    "\n",
    "dmr_1 = list(sell_minus_old_again(1, 500, all_room.loc[all_room['brand'].str.contains(\"level\") & (~all_room['datetime_create'].isin(bad_date)) & (all_room['apartment_room'] == 3)]))\n",
    "d1, s1, l1, f1 = zip(*dmr_1)\n",
    "plt.figure(figsize=(20,3))\n",
    "plt.scatter(range(0, len(dmr_1)), s1, alpha=0.4)\n",
    "plt.xlabel(\"дата\")\n",
    "plt.ylabel(\"Проданно\")\n",
    "\n",
    "\n",
    "plt.figure(figsize=(20,3))\n",
    "plt.scatter(all_room_group_by_date_count.index,all_room_group_by_date_count[\"price\"], alpha=0.4)\n",
    "plt.xlabel(\"дата\")\n",
    "plt.ylabel(\"количество представленных квартир\")\n",
    "\n",
    "plt.figure(figsize=(20,3))\n",
    "plt.scatter(all_room_group_by_date_mean.index,all_room_group_by_date_mean[\"price\"], alpha=0.4)\n",
    "plt.xlabel(\"дата\")\n",
    "plt.ylabel(\"среденяя цена квартир\")\n",
    "\n",
    "plt.figure(figsize=(20,3))\n",
    "plt.scatter(all_room_group_by_date_mean.index,all_room_group_by_date_mean[\"avg_price_per_metr\"], alpha=0.4)\n",
    "plt.xlabel(\"дата\")\n",
    "plt.ylabel(\"среденяя цена квадратного метра\")\n",
    "\n",
    "plt.figure(figsize=(20,3))\n",
    "plt.scatter(all_room_group_by_date_mean.index,all_room_group_by_date_mean[\"apartment_area\"], alpha=0.4)\n",
    "plt.xlabel(\"дата\")\n",
    "plt.ylabel(\"средений размер квартир в метрах\")"
   ]
  },
  {
   "cell_type": "code",
   "execution_count": null,
   "id": "71bc7a48-8566-4e75-a8d2-d81815ddbfef",
   "metadata": {},
   "outputs": [],
   "source": []
  },
  {
   "cell_type": "markdown",
   "id": "219003d8-4ce2-4cde-a268-0ec64e45555a",
   "metadata": {},
   "source": [
    "# сделать для москвы (указав все жк)"
   ]
  },
  {
   "cell_type": "code",
   "execution_count": null,
   "id": "60bb6e70-139e-4ce0-bec8-67bc6a15a8c6",
   "metadata": {},
   "outputs": [],
   "source": [
    "all_room_group_by_date = all_room.loc[all_room['brand'].str.contains(\"level\") & (~all_room['datetime_create'].isin(bad_date)) & (all_room['apartment_room'] == 2) & (all_room['title'].str.contains(\"Нагатинская\"))].groupby(['datetime_create'])\n",
    "all_room_group_by_date_mean = all_room_group_by_date[[\"price\", \"avg_price_per_metr\",\"apartment_area\",\"apartment_room\"]].mean()\n",
    "all_room_group_by_date_count = all_room_group_by_date[[\"price\"]].count()\n",
    "\n",
    "plt.figure(figsize=(20,3))\n",
    "plt.scatter(all_room_group_by_date_count.index,all_room_group_by_date_count[\"price\"], alpha=0.4)\n",
    "plt.xlabel(\"дата\")\n",
    "#plt.ylabel(\"количество представленных квартир для продажи в комапании\")\n",
    "plt.ylabel(\"количество\")\n",
    "\n",
    "plt.figure(figsize=(20,3))\n",
    "plt.scatter(all_room_group_by_date_mean.index,all_room_group_by_date_mean[\"price\"], alpha=0.4)\n",
    "plt.xlabel(\"дата\")\n",
    "#plt.ylabel(\"среденяя цена квартир представленных для продажи в комапании\")\n",
    "plt.ylabel(\"среденяя цена\")\n",
    "\n",
    "plt.figure(figsize=(20,3))\n",
    "plt.scatter(all_room_group_by_date_mean.index,all_room_group_by_date_mean[\"avg_price_per_metr\"], alpha=0.4)\n",
    "plt.xlabel(\"дата\")\n",
    "#plt.ylabel(\"среденяя цена квадратного метра квартир представленных для продажи в комапании\")\n",
    "plt.ylabel(\"среденяя цена квадратного метра\")\n",
    "\n",
    "plt.figure(figsize=(20,3))\n",
    "plt.scatter(all_room_group_by_date_mean.index,all_room_group_by_date_mean[\"apartment_area\"], alpha=0.4)\n",
    "plt.xlabel(\"дата\")\n",
    "#plt.ylabel(\"средений размер квартир в метрах представленных для продажи в комапании\")\n",
    "plt.ylabel(\"средений размер квартир в метрах\")"
   ]
  },
  {
   "cell_type": "code",
   "execution_count": null,
   "id": "e7517daa-752e-4443-a1d4-1b7e3b4a80df",
   "metadata": {},
   "outputs": [],
   "source": [
    "all_room.loc[all_room['brand'].str.contains(\"level\") & (~all_room['datetime_create'].isin(bad_date)) & (all_room['title'].str.contains(\"Причальный\"))].count()"
   ]
  },
  {
   "cell_type": "code",
   "execution_count": null,
   "id": "2b33e424-4df7-4406-a47a-dc3e008c6821",
   "metadata": {},
   "outputs": [],
   "source": [
    "#dt = {}\n",
    "#for k in all_room.loc[all_room['brand'].str.contains(\"level\") & (all_room['title'].str.contains(\"Причальный\"))]\n",
    "#    k['datetime_create']\n",
    "#    if \n",
    "\n",
    "#    print(k)"
   ]
  },
  {
   "cell_type": "code",
   "execution_count": null,
   "id": "d7f8c494-afb1-4acc-9ae4-4313de2e78fd",
   "metadata": {},
   "outputs": [],
   "source": [
    "days = sorted(list(all_room['datetime_create'].unique()))\n",
    "print(days)\n",
    "\n",
    "def sell_minus_old_again_old_240309(df_room):\n",
    "    day_x = []\n",
    "    day_x_1 = []\n",
    "    all = set()\n",
    "    list_sel = []\n",
    "    #days = sorted(list(df_room['datetime_create'].unique()))\n",
    "    #days = sorted(list(all_room.loc[all_room['brand'].str.contains(\"level\") & (~all_room['datetime_create'].isin(bad_date))]['datetime_create']))\n",
    "    #days = sorted(list(all_room['datetime_create'].unique()))\n",
    "    \n",
    "    #print(days)\n",
    "#    df_room = df_room.dropna()\n",
    "    i = 0\n",
    "#    days1 = [\n",
    "#        #'2023-02-10','2023-02-11','2023-02-12','2023-02-13','2023-02-14',\n",
    "#        #'2023-02-15','2023-02-16','2023-02-17','2023-02-18',\n",
    "#        '2023-02-19',\n",
    "#        '2023-02-20','2023-02-21',#'2023-02-22','2023-02-23','2023-02-24',\n",
    "#        #'2023-02-25','2023-02-26','2023-02-27','2023-02-28','2023-02-29',\n",
    "#    ]\n",
    "    for day in days:\n",
    "        day_x = day_x_1[:]\n",
    "        day_x_1 = df_room.loc[df_room['datetime_create']==day ][['title','price','apartment_area','apartment_floor','ppm']].apply(tuple, axis=1)#.dropna()\n",
    "        if len(day_x_1) < 1:\n",
    "#            print('-')\n",
    "            continue\n",
    "        \n",
    "        #day_x_1 = df_room.loc[df_room['datetime_create']==day ][['title','price','apartment_area','ppm']].apply(tuple, axis=1).dropna()\n",
    "#        print(\"len(set(day_x) - set(day_x_1)) - len((set(day_x_1) - set(day_x)) & all)\")\n",
    "#        print(\"len(set(\", len(day_x), ') - set(', len(day_x_1), ')) - len((set(', len(day_x_1) ,') - set(', len(day_x) ,')) & len(', len(all),')')\n",
    "#        print(len(set(day_x) - set(day_x_1)),' - ',len((set(day_x_1) - set(day_x)) & all))\n",
    "#        print(len(list(day_x)), len(list(day_x_1)))\n",
    "\n",
    "        if i> 100000:\n",
    "        #if i > 1:\n",
    "            print(len(list(day_x)), len(list(day_x_1)))\n",
    "            print()\n",
    "            print(list(day_x))\n",
    "            print()\n",
    "            print()\n",
    "            print()\n",
    "            print(list(day_x_1))\n",
    "#            break\n",
    "        i += 1\n",
    "        list_sel.append(len(set(day_x) - set(day_x_1)) - len((set(day_x_1) - set(day_x)) & all))\n",
    "     #   if list_sel[-1] > 50:\n",
    "     #       print(day, list_sel[-1] )\n",
    "        all = all | set(day_x_1)    \n",
    "    return zip(days, list_sel)"
   ]
  },
  {
   "cell_type": "code",
   "execution_count": null,
   "id": "651d4046-7c09-4900-9789-7a95b7f385da",
   "metadata": {},
   "outputs": [],
   "source": [
    "\n",
    "    all_room_group_by_date = all_room.loc[all_room['brand'].str.contains(\"level\") & (~all_room['datetime_create'].isin(bad_date)) ].groupby(['datetime_create'])\n",
    "    all_room_group_by_date_mean = all_room_group_by_date[[\"price\", \"avg_price_per_metr\",\"apartment_area\",\"apartment_room\"]].mean()\n",
    "    all_room_group_by_date_count = all_room_group_by_date[[\"price\"]].count()\n",
    "    \n",
    "#    print(i)\n",
    "\n",
    "\n",
    "    dmr_1 = list(sell_minus_old_again(1, 500, all_room.loc[all_room['brand'].str.contains(\"level\") & (~all_room['datetime_create'].isin(bad_date))  ]))\n",
    "    \n",
    "    if dmr_1:\n",
    "        d1, s1, l1, f1 = zip(*dmr_1)\n",
    "#        print(d1, s1)\n",
    "        s2 = []\n",
    "        for i in s1:\n",
    "             if -7 < i < 7 or 1:\n",
    "                 s2.append(i)\n",
    "\n",
    "        ws = []\n",
    "        ww = []\n",
    "        k = 7\n",
    "        #ee = 0\n",
    "        for i in s2:\n",
    "            ww.append(i)\n",
    "            if len(ww) > k:\n",
    "                ee = ww.pop(0)\n",
    "            ws.append(sum(ww)/k)\n",
    "        \n",
    "        \n",
    "#        plt.figure(figsize=(20,3))\n",
    "#        #plt.scatter(range(0, len(dmr_1)), s1, alpha=0.4)\n",
    "#        plt.scatter(range(0, len(s2)), s2, alpha=0.4)\n",
    "#        plt.xlabel(f\"дата {i}\")\n",
    "#        plt.ylabel(\"Проданно\")\n",
    "\n",
    "        plt.figure(figsize=(20,3))\n",
    "        #plt.scatter(range(0, len(dmr_1)), s1, alpha=0.4)\n",
    "        plt.scatter(range(0, len(ws)), ws, alpha=0.4)\n",
    "        plt.xlabel(f\"дата {i}\")\n",
    "        plt.ylabel(\"Проданно окном\")\n",
    "    \n",
    "    plt.figure(figsize=(20,3))\n",
    "    plt.scatter(range(0, len(all_room_group_by_date_count)),all_room_group_by_date_count[\"price\"], alpha=0.4)\n",
    "    plt.xlabel(f\"дата {i}\")\n",
    "    #plt.ylabel(\"количество представленных квартир для продажи в комапании\")\n",
    "    plt.ylabel(\"количество\")\n",
    "\n",
    "    \n",
    "#    plt.figure(figsize=(20,3))\n",
    "#    plt.scatter(all_room_group_by_date_count.index,all_room_group_by_date_count[\"price\"], alpha=0.4)\n",
    "#    plt.xlabel(f\"дата {i}\")\n",
    "#    #plt.ylabel(\"количество представленных квартир для продажи в комапании\")\n",
    "#    plt.ylabel(\"количество\")\n",
    "    \n",
    "#    plt.figure(figsize=(20,3))\n",
    "#    plt.scatter(all_room_group_by_date_mean.index,all_room_group_by_date_mean[\"price\"], alpha=0.4)\n",
    "#    plt.xlabel(f\"дата {i}\")\n",
    "#    #plt.ylabel(\"среденяя цена квартир представленных для продажи в комапании\")\n",
    "#    plt.ylabel(\"цена\")\n",
    "    \n",
    "    plt.figure(figsize=(20,3))\n",
    "    plt.scatter(all_room_group_by_date_mean.index,all_room_group_by_date_mean[\"avg_price_per_metr\"], alpha=0.4)\n",
    "    plt.xlabel(f\"дата {i}\")\n",
    "    #plt.ylabel(\"среденяя цена квадратного метра квартир представленных для продажи в комапании\")\n",
    "    plt.ylabel(\"цена квадратного метра\")\n",
    "    \n",
    " #   plt.figure(figsize=(20,3))\n",
    " #   plt.scatter(all_room_group_by_date_mean.index,all_room_group_by_date_mean[\"apartment_area\"], alpha=0.4)\n",
    " #   plt.xlabel(f\"дата {i}\")\n",
    " #   #plt.ylabel(\"средений размер квартир в метрах представленных для продажи в комапании\")\n",
    " #   plt.ylabel(\"размер в метрах\")"
   ]
  },
  {
   "cell_type": "code",
   "execution_count": null,
   "id": "2bcf021d-cf90-4cc9-94cd-0514c583b6dd",
   "metadata": {},
   "outputs": [],
   "source": [
    "for i in (\"Причальный\",\n",
    "    #     ):\n",
    "    #ddddd =(\n",
    "    \"Стрешнево\",\n",
    "    \"Нижегородская\",\n",
    "    \"Бауманская\",\n",
    "    \"Академическая\",\n",
    "    #\"Звенигородская\",\n",
    "#    \"Звениго\",\n",
    "    \"Саввинская\",\n",
    "    \"Южнопортовая\",\n",
    "    \"Мичуринский\",\n",
    "    \"Нагатинская\",\n",
    "    \"Селигерская\",\n",
    "    \"Причальный\",\n",
    "    \"Павелецкая Сити\",\n",
    "    \"Донской\",\n",
    "    \"Павелецкая\",\n",
    "    #)\n",
    "    ):\n",
    "    all_room_group_by_date = all_room.loc[all_room['brand'].str.contains(\"level\") & (~all_room['datetime_create'].isin(bad_date)) & (all_room['title'].str.contains(i))].groupby(['datetime_create'])\n",
    "    all_room_group_by_date_mean = all_room_group_by_date[[\"price\", \"avg_price_per_metr\",\"apartment_area\",\"apartment_room\"]].mean()\n",
    "    all_room_group_by_date_count = all_room_group_by_date[[\"price\"]].count()\n",
    "    \n",
    "#    print(i)\n",
    "\n",
    "\n",
    "    dmr_1 = list(sell_minus_old_again(1, 500, all_room.loc[all_room['brand'].str.contains(\"level\") & (~all_room['datetime_create'].isin(bad_date)) & (all_room['title'].str.contains(i)) ]))\n",
    "    \n",
    "    if dmr_1:\n",
    "        d1, s1, l1, f1 = zip(*dmr_1)\n",
    "#        print(d1, s1)\n",
    "        s2 = []\n",
    "        for j in s1:\n",
    "             if -7 < j < 7 or 1:\n",
    "                 s2.append(j)\n",
    "\n",
    "        ws = []\n",
    "        ww = []\n",
    "        k = 14\n",
    "        #ee = 0\n",
    "        for j in s2:\n",
    "            ww.append(j)\n",
    "            if len(ww) > k:\n",
    "                ee = ww.pop(0)\n",
    "            ws.append(sum(ww)/k)\n",
    "        \n",
    "        \n",
    "#        plt.figure(figsize=(20,3))\n",
    "#        #plt.scatter(range(0, len(dmr_1)), s1, alpha=0.4)\n",
    "#        plt.scatter(range(0, len(s2)), s2, alpha=0.4)\n",
    "#        plt.xlabel(f\"дата {i}\")\n",
    "#        plt.ylabel(\"Проданно\")\n",
    "\n",
    "        plt.figure(figsize=(20,3))\n",
    "        #plt.scatter(range(0, len(dmr_1)), s1, alpha=0.4)\n",
    "        plt.scatter(range(0, len(ws)), ws, alpha=0.4)\n",
    "        plt.xlabel(f\"дата {i}\")\n",
    "        plt.ylabel(\"Проданно окном\")\n",
    "\n",
    "\n",
    "    dmr_1 = list(sell_minus_old_again_reverse(1, 100, all_room.loc[all_room['brand'].str.contains(\"level\") &  (~all_room['datetime_create'].isin(bad_date)) & (all_room['title'].str.contains(i))  & (all_room['apartment_area'] > 1 ) & (all_room['apartment_floor'] > 1 ) ]))\n",
    "    #d1, s1, l1, f1, r1, dtl1, dtlu1, diff1\n",
    "    d1, s1, l1, f1, r1, dtl1, dtlu1, diff1, p1, pp1, pa1, pr1, lo1 = zip(*dmr_1)\n",
    "    plt.figure(figsize=(20, 3))\n",
    "    #plt.plot(range(0, len(s1)), s1, alpha=0.4, color='red',  label = 's')\n",
    "    plt.plot(range(0, len(l1)), l1, alpha=0.4, color='green',  label = 'l')\n",
    "    plt.plot(range(0, len(f1)), f1, alpha=0.4, color='blue',  label = 'f')\n",
    "    plt.plot(range(0, len(r1)), r1, alpha=0.4, label = 'r')\n",
    "    plt.plot(range(0, len(dtl1)), dtl1, alpha=0.4,  label = 'dtl')\n",
    "    plt.plot(range(0, len(dtlu1)), dtlu1, alpha=0.4,  label = 'dtlu')\n",
    "    #plt.plot(range(0, len(diff1)), diff1, alpha=0.4,  label = 'diff1')\n",
    "    plt.xlabel(\"дата\")\n",
    "    plt.ylabel(\"Проданно\")\n",
    "    plt.legend()\n",
    "\n",
    "\n",
    "    plt.figure(figsize=(20, 3))\n",
    "    plt.plot(range(0, len(s1)), s1, alpha=0.4, color='red',  label = 's')\n",
    "    plt.xlabel(\"дата\")\n",
    "    plt.ylabel(\"Проданно\")\n",
    "    plt.legend()\n",
    "\n",
    "    plt.figure(figsize=(20, 3))\n",
    "    plt.plot(range(0, len(diff1)), diff1, alpha=0.4,  label = 'diff1')\n",
    "    plt.xlabel(\"дата\")\n",
    "    plt.ylabel(\"Проданно\")\n",
    "    plt.legend()\n",
    "\n",
    "\n",
    "\n",
    "    \n",
    "    plt.figure(figsize=(20,3))\n",
    "    plt.scatter(range(0, len(all_room_group_by_date_count)),all_room_group_by_date_count[\"price\"], alpha=0.4)\n",
    "    plt.xlabel(f\"дата {i}\")\n",
    "    #plt.ylabel(\"количество представленных квартир для продажи в комапании\")\n",
    "    plt.ylabel(\"количество\")\n",
    "\n",
    "    \n",
    "#    plt.figure(figsize=(20,3))\n",
    "#    plt.scatter(all_room_group_by_date_count.index,all_room_group_by_date_count[\"price\"], alpha=0.4)\n",
    "#    plt.xlabel(f\"дата {i}\")\n",
    "#    #plt.ylabel(\"количество представленных квартир для продажи в комапании\")\n",
    "#    plt.ylabel(\"количество\")\n",
    "    \n",
    "#    plt.figure(figsize=(20,3))\n",
    "#    plt.scatter(all_room_group_by_date_mean.index,all_room_group_by_date_mean[\"price\"], alpha=0.4)\n",
    "#    plt.xlabel(f\"дата {i}\")\n",
    "#    #plt.ylabel(\"среденяя цена квартир представленных для продажи в комапании\")\n",
    "#    plt.ylabel(\"цена\")\n",
    "    \n",
    "    plt.figure(figsize=(20,3))\n",
    "    plt.scatter(all_room_group_by_date_mean.index,all_room_group_by_date_mean[\"avg_price_per_metr\"], alpha=0.4)\n",
    "    plt.xlabel(f\"дата {i}\")\n",
    "    #plt.ylabel(\"среденяя цена квадратного метра квартир представленных для продажи в комапании\")\n",
    "    plt.ylabel(\"цена квадратного метра\")\n",
    "    \n",
    " #   plt.figure(figsize=(20,3))\n",
    " #   plt.scatter(all_room_group_by_date_mean.index,all_room_group_by_date_mean[\"apartment_area\"], alpha=0.4)\n",
    " #   plt.xlabel(f\"дата {i}\")\n",
    " #   #plt.ylabel(\"средений размер квартир в метрах представленных для продажи в комапании\")\n",
    " #   plt.ylabel(\"размер в метрах\")"
   ]
  },
  {
   "cell_type": "code",
   "execution_count": null,
   "id": "3c48d098-d9de-45ff-9a0c-f3f50bd33e79",
   "metadata": {},
   "outputs": [],
   "source": []
  },
  {
   "cell_type": "code",
   "execution_count": null,
   "id": "6769ec67-4a08-4790-a922-b1e1523b3bb5",
   "metadata": {},
   "outputs": [],
   "source": []
  },
  {
   "cell_type": "code",
   "execution_count": null,
   "id": "0009ada4-8afe-43f7-ba65-f0bafc7982b7",
   "metadata": {},
   "outputs": [],
   "source": []
  },
  {
   "cell_type": "code",
   "execution_count": null,
   "id": "e56ee931-9ff9-4ddd-a55e-10882a682ddd",
   "metadata": {},
   "outputs": [],
   "source": []
  },
  {
   "cell_type": "code",
   "execution_count": null,
   "id": "6a26a167-0e98-4165-b9f3-f50fb4512a6a",
   "metadata": {},
   "outputs": [],
   "source": []
  },
  {
   "cell_type": "code",
   "execution_count": null,
   "id": "c91108b6-df81-4449-9898-898a97c5419f",
   "metadata": {},
   "outputs": [],
   "source": [
    "dssddssd"
   ]
  },
  {
   "cell_type": "code",
   "execution_count": null,
   "id": "a3647820-983d-43e0-8cc8-78c7a1d099bf",
   "metadata": {},
   "outputs": [],
   "source": []
  },
  {
   "cell_type": "markdown",
   "id": "bf199299-8c3d-498e-8a6a-40dd87c60c2a",
   "metadata": {},
   "source": [
    "# STOP"
   ]
  },
  {
   "cell_type": "code",
   "execution_count": null,
   "id": "f8607bec-81ad-4595-9bc5-0a8e10f0167d",
   "metadata": {},
   "outputs": [],
   "source": []
  },
  {
   "cell_type": "markdown",
   "id": "f4178df4-9f14-44d1-b8a7-002334c35ad3",
   "metadata": {},
   "source": [
    "# Статистика продажи level по дням, все время"
   ]
  },
  {
   "cell_type": "code",
   "execution_count": null,
   "id": "66c39a24-1799-473f-9b1a-f83c9ad93288",
   "metadata": {},
   "outputs": [],
   "source": [
    "cursor.execute(\"\"\"\n",
    "WITH sales_numbered AS (\n",
    "SELECT \n",
    "    id, \n",
    "    price_sale,\n",
    "    CAST(apartment_area as decimal) as apartment_area,\n",
    "    CAST(price_sale / apartment_area as decimal(15,2)),\n",
    "    date(datetime_create) as date\n",
    "    \n",
    "FROM products_history\n",
    "where \n",
    "    --datetime_create >= \"2022-01-17\"\n",
    "    --and \n",
    "    url like \"%level.ru%\"\n",
    "    --and title like \"%Нагатинская%\"\n",
    "    --and apartment_floor = 13\n",
    "    --and apartment_room = 1\n",
    "    --and apartment_area = '30.5'\n",
    "ORDER BY id desc\n",
    "LIMIT 1411111\n",
    ")\n",
    "\n",
    "SELECT \n",
    "    cast(sum(price_sale) as int),\n",
    "    cast(sum(apartment_area) as int),\n",
    "    cast(avg(price_sale / apartment_area) as int),\n",
    "    cast(sum(price_sale) / sum(apartment_area) as int),\n",
    "    avg(apartment_area),\n",
    "    avg(price_sale),\n",
    "    count(id),\n",
    "    date\n",
    "    \n",
    "FROM sales_numbered\n",
    "\n",
    "group by date\n",
    "ORDER BY date\n",
    "LIMIT 631  \n",
    "\"\"\")\n",
    "\n",
    "df = pd.DataFrame(cursor.fetchall(), columns=[\n",
    "    \"sum price_sale\",\n",
    "    \"sum apartment_area\",\n",
    "    \"avg price per metr\",\n",
    "    \"avg sum price per sum metr\",\n",
    "    \"avg apartment_area\",\n",
    "    \"avg price\",\n",
    "    \"count\",\n",
    "    \"date\"\n",
    "])"
   ]
  },
  {
   "cell_type": "code",
   "execution_count": null,
   "id": "bcc5cffc-42a5-4818-a539-7f0dd495de0c",
   "metadata": {},
   "outputs": [],
   "source": [
    "df[1:3]"
   ]
  },
  {
   "cell_type": "code",
   "execution_count": null,
   "id": "e56024f2-b1cf-4617-8ca6-a85f747fb07c",
   "metadata": {},
   "outputs": [],
   "source": [
    "df = df.dropna()"
   ]
  },
  {
   "cell_type": "code",
   "execution_count": null,
   "id": "1143fc9a-3a84-425d-8a87-0e10a714f1f8",
   "metadata": {},
   "outputs": [],
   "source": [
    "plt.figure(figsize=(12,6))\n",
    "plt.scatter(df[\"date\"],df[\"count\"], alpha=0.4)\n",
    "plt.xlabel(\"дата\")\n",
    "plt.ylabel(\"количество представленных квартир для продажи в комапании\")\n",
    "#plt.ylim(10,120)"
   ]
  },
  {
   "cell_type": "code",
   "execution_count": null,
   "id": "917d9830-ceb7-4f9c-acf2-900b945cff8d",
   "metadata": {},
   "outputs": [],
   "source": [
    "plt.figure(figsize=(12,6))\n",
    "plt.scatter(df[\"date\"],df[\"avg price\"], alpha=0.4)\n",
    "plt.xlabel(\"дата\")\n",
    "plt.ylabel(\"среденяя цена квартир представленных для продажи в комапании\")"
   ]
  },
  {
   "cell_type": "code",
   "execution_count": null,
   "id": "50ec1908-129d-4453-bebc-67c30f9f5b4b",
   "metadata": {},
   "outputs": [],
   "source": [
    "plt.figure(figsize=(12,6))\n",
    "plt.scatter(df[\"date\"],df[\"avg price per metr\"], alpha=0.4)\n",
    "plt.xlabel(\"дата\")\n",
    "plt.ylabel(\"среденяя цена квадратного метра квартир представленных для продажи в комапании\")"
   ]
  },
  {
   "cell_type": "code",
   "execution_count": null,
   "id": "ed1ba586-8974-4a18-a29e-ef0f7e18a63f",
   "metadata": {},
   "outputs": [],
   "source": [
    "#seaborn.pairplot(df_price_sale__apartment_area)"
   ]
  },
  {
   "cell_type": "code",
   "execution_count": null,
   "id": "5c3a93e7-301b-41b2-b2c9-e70fa311d490",
   "metadata": {},
   "outputs": [],
   "source": []
  },
  {
   "cell_type": "markdown",
   "id": "1c6906ad-a938-4e09-8d80-13c9123b540e",
   "metadata": {},
   "source": [
    "# Статистика продажи level по дням, за последнее время"
   ]
  },
  {
   "cell_type": "code",
   "execution_count": null,
   "id": "02f786f8-7ac5-4a7c-b56e-07508d1a6d46",
   "metadata": {},
   "outputs": [],
   "source": [
    "cursor.execute(\"\"\"\n",
    "WITH sales_numbered AS (\n",
    "SELECT \n",
    "    id, \n",
    "    price_sale,\n",
    "    CAST(apartment_area as decimal) as apartment_area,\n",
    "    CAST(price_sale / apartment_area as decimal(15,2)),\n",
    "    date(datetime_create) as date\n",
    "    \n",
    "FROM products_history\n",
    "where \n",
    "    datetime_create >= \"2023-10-01\"\n",
    "    --and \n",
    "    url like \"%level.ru%\"\n",
    "    --and title like \"%Нагатинская%\"\n",
    "    --and apartment_floor = 13\n",
    "    --and apartment_room = 1\n",
    "    --and apartment_area = '30.5'\n",
    "ORDER BY id desc\n",
    "LIMIT 1411111\n",
    ")\n",
    "\n",
    "SELECT \n",
    "    cast(sum(price_sale) as int),\n",
    "    cast(sum(apartment_area) as int),\n",
    "    cast(avg(price_sale / apartment_area) as int),\n",
    "    cast(sum(price_sale) / sum(apartment_area) as int),\n",
    "    avg(apartment_area),\n",
    "    avg(price_sale),\n",
    "    count(id),\n",
    "    date\n",
    "    \n",
    "FROM sales_numbered\n",
    "\n",
    "group by date\n",
    "ORDER BY date\n",
    "LIMIT 631  \n",
    "\"\"\")\n",
    "\n",
    "df = pd.DataFrame(cursor.fetchall(), columns=[\n",
    "    \"sum price_sale\",\n",
    "    \"sum apartment_area\",\n",
    "    \"avg price per metr\",\n",
    "    \"avg sum price per sum metr\",\n",
    "    \"avg apartment_area\",\n",
    "    \"avg price\",\n",
    "    \"count\",\n",
    "    \"date\"\n",
    "])"
   ]
  },
  {
   "cell_type": "code",
   "execution_count": null,
   "id": "a7d6e07b-8609-4c46-926e-23a721e01e27",
   "metadata": {},
   "outputs": [],
   "source": [
    "df[1:3]"
   ]
  },
  {
   "cell_type": "code",
   "execution_count": null,
   "id": "93e98234-cf1e-42fa-b5ed-7db4e45fa167",
   "metadata": {},
   "outputs": [],
   "source": [
    "df = df.dropna()"
   ]
  },
  {
   "cell_type": "code",
   "execution_count": null,
   "id": "c98927ae-22c2-41a1-a349-d63d0720254d",
   "metadata": {},
   "outputs": [],
   "source": [
    "plt.figure(figsize=(12,6))\n",
    "plt.scatter(df[\"date\"],df[\"count\"], alpha=0.4)\n",
    "plt.xlabel(\"дата\")\n",
    "plt.ylabel(\"количество представленных квартир для продажи в комапании\")\n",
    "#plt.ylim(10,120)"
   ]
  },
  {
   "cell_type": "code",
   "execution_count": null,
   "id": "3716ff2a-93ff-4b91-862b-c0645b01936a",
   "metadata": {},
   "outputs": [],
   "source": [
    "plt.figure(figsize=(12,6))\n",
    "plt.scatter(df[\"date\"],df[\"avg price\"], alpha=0.4)\n",
    "plt.xlabel(\"дата\")\n",
    "plt.ylabel(\"среденяя цена квартир представленных для продажи в комапании\")"
   ]
  },
  {
   "cell_type": "code",
   "execution_count": null,
   "id": "543495b9-e683-4412-bd5d-21282e118249",
   "metadata": {},
   "outputs": [],
   "source": [
    "plt.figure(figsize=(12,6))\n",
    "plt.scatter(df[\"date\"],df[\"avg price per metr\"], alpha=0.4)\n",
    "plt.xlabel(\"дата\")\n",
    "plt.ylabel(\"среденяя цена квадратного метра квартир представленных для продажи в комапании\")"
   ]
  },
  {
   "cell_type": "code",
   "execution_count": null,
   "id": "4045abc1-07d5-4618-8f17-b8c9cea491cf",
   "metadata": {},
   "outputs": [],
   "source": []
  },
  {
   "cell_type": "code",
   "execution_count": null,
   "id": "b5b3a600-27db-4a8b-bd0c-61dd91e10596",
   "metadata": {},
   "outputs": [],
   "source": []
  },
  {
   "cell_type": "code",
   "execution_count": null,
   "id": "d58beb11-763f-4dd9-9cea-415e10d22b9b",
   "metadata": {},
   "outputs": [],
   "source": []
  },
  {
   "cell_type": "markdown",
   "id": "e5c808ce-0eb8-44ba-a3c6-553f6a5e1c3e",
   "metadata": {},
   "source": [
    "# Статистика продажи донстроя по дням"
   ]
  },
  {
   "cell_type": "code",
   "execution_count": null,
   "id": "c806b02d-2081-43db-8fbd-1e5e43550a7e",
   "metadata": {},
   "outputs": [],
   "source": [
    "cursor.execute(\"\"\"\n",
    "WITH sales_numbered AS (\n",
    "SELECT \n",
    "    id, \n",
    "    price_sale,\n",
    "    CAST(apartment_area as decimal) as apartment_area,\n",
    "    CAST(price_sale / apartment_area as decimal(15,2)),\n",
    "    date(datetime_create) as date\n",
    "    \n",
    "FROM products_history\n",
    "where \n",
    "    --datetime_create >= \"2022-01-17\"\n",
    "    --and \n",
    "    url like \"https://donstroy.moscow%\"\n",
    "    --and title like \"%Остров.6%\"\n",
    "    --and apartment_floor = 13\n",
    "    --and apartment_room = 1\n",
    "    --and apartment_area = '30.5'\n",
    "ORDER BY id desc\n",
    "LIMIT 1431111\n",
    ")\n",
    "\n",
    "SELECT \n",
    "    cast(sum(price_sale) as int),\n",
    "    cast(sum(apartment_area) as int),\n",
    "    cast(avg(price_sale / apartment_area) as int),\n",
    "    cast(sum(price_sale) / sum(apartment_area) as int),\n",
    "    avg(apartment_area),\n",
    "    avg(price_sale),\n",
    "    count(id),\n",
    "    date\n",
    "    \n",
    "FROM sales_numbered\n",
    "\n",
    "group by date\n",
    "ORDER BY date\n",
    "LIMIT 631  \n",
    "\"\"\")\n",
    "\n",
    "df = pd.DataFrame(cursor.fetchall(), columns=[\n",
    "    \"sum price_sale\",\n",
    "    \"sum apartment_area\",\n",
    "    \"avg price per metr\",\n",
    "    \"avg sum price per sum metr\",\n",
    "    \"avg apartment_area\",\n",
    "    \"avg price\",\n",
    "    \"count\",\n",
    "    \"date\"\n",
    "])"
   ]
  },
  {
   "cell_type": "code",
   "execution_count": null,
   "id": "8fbf966a-3df5-489d-9dfa-8c065141e16c",
   "metadata": {},
   "outputs": [],
   "source": [
    "df"
   ]
  },
  {
   "cell_type": "code",
   "execution_count": null,
   "id": "f09047a8-78eb-4a86-aa81-67f2947678f3",
   "metadata": {},
   "outputs": [],
   "source": [
    "df = df.dropna()"
   ]
  },
  {
   "cell_type": "code",
   "execution_count": null,
   "id": "aa623ba5-60ba-4d35-83aa-f4cdeda59af7",
   "metadata": {},
   "outputs": [],
   "source": [
    "plt.figure(figsize=(4,2))\n",
    "plt.scatter(df[\"date\"],df[\"count\"], alpha=0.4)\n",
    "plt.xlabel(\"дата\")\n",
    "plt.ylabel(\"количество представленных квартир для продажи в комапании\")"
   ]
  },
  {
   "cell_type": "code",
   "execution_count": null,
   "id": "7c51c8ad-ef16-4bc0-a07f-7ecf1a96873d",
   "metadata": {},
   "outputs": [],
   "source": [
    "plt.figure(figsize=(4,2))\n",
    "plt.scatter(df[\"date\"],df[\"avg price\"], alpha=0.4)\n",
    "plt.xlabel(\"дата\")\n",
    "plt.ylabel(\"среденяя цена квартир представленных для продажи в комапании\")"
   ]
  },
  {
   "cell_type": "code",
   "execution_count": null,
   "id": "3da4130b-afb4-455b-b7aa-ef888877c233",
   "metadata": {},
   "outputs": [],
   "source": [
    "plt.figure(figsize=(4,2))\n",
    "plt.scatter(df[\"date\"],df[\"avg price per metr\"], alpha=0.4)\n",
    "plt.xlabel(\"дата\")\n",
    "plt.ylabel(\"среденяя цена квадратного метра квартир представленных для продажи в комапании\")"
   ]
  },
  {
   "cell_type": "code",
   "execution_count": null,
   "id": "7fb6c876-dd23-4b7a-ace6-2ee9356131de",
   "metadata": {},
   "outputs": [],
   "source": [
    "#seaborn.pairplot(df_price_sale__apartment_area)"
   ]
  },
  {
   "cell_type": "code",
   "execution_count": null,
   "id": "df1b5333-7d7d-4f64-b28b-fc57dfa76744",
   "metadata": {},
   "outputs": [],
   "source": []
  },
  {
   "cell_type": "markdown",
   "id": "bbe9efe9-f521-4294-8a89-fd634c34ab88",
   "metadata": {},
   "source": [
    "# Статистика продажи донстроя жк Остров по дням"
   ]
  },
  {
   "cell_type": "code",
   "execution_count": null,
   "id": "a962917c-2873-4445-9d5c-c44add3fa38f",
   "metadata": {},
   "outputs": [],
   "source": [
    "cursor.execute(\"\"\"\n",
    "WITH sales_numbered AS (\n",
    "SELECT \n",
    "    id, \n",
    "    price_sale,\n",
    "    CAST(apartment_area as decimal) as apartment_area,\n",
    "    CAST(price_sale / apartment_area as decimal(15,2)),\n",
    "    date(datetime_create) as date\n",
    "    \n",
    "FROM products_history\n",
    "where \n",
    "    --datetime_create >= \"2022-01-17\"\n",
    "    --and \n",
    "    url like \"https://donstroy.moscow/objects/ostrov/%\"\n",
    "    and title like \"%Остров%\"\n",
    "    --and apartment_floor = 13\n",
    "    --and apartment_room = 1\n",
    "    --and apartment_area = '30.5'\n",
    "ORDER BY id desc\n",
    "LIMIT 1431111\n",
    ")\n",
    "\n",
    "SELECT \n",
    "    cast(sum(price_sale) as int),\n",
    "    cast(sum(apartment_area) as int),\n",
    "    cast(avg(price_sale / apartment_area) as int),\n",
    "    cast(sum(price_sale) / sum(apartment_area) as int),\n",
    "    avg(apartment_area),\n",
    "    avg(price_sale),\n",
    "    count(id),\n",
    "    date\n",
    "    \n",
    "FROM sales_numbered\n",
    "\n",
    "group by date\n",
    "ORDER BY date\n",
    "LIMIT 631  \n",
    "\"\"\")\n",
    "\n",
    "df = pd.DataFrame(cursor.fetchall(), columns=[\n",
    "    \"sum price_sale\",\n",
    "    \"sum apartment_area\",\n",
    "    \"avg price per metr\",\n",
    "    \"avg sum price per sum metr\",\n",
    "    \"avg apartment_area\",\n",
    "    \"avg price\",\n",
    "    \"count\",\n",
    "    \"date\"\n",
    "])"
   ]
  },
  {
   "cell_type": "code",
   "execution_count": null,
   "id": "c1783ff4-329f-4489-b04e-bf0b9412e13b",
   "metadata": {},
   "outputs": [],
   "source": [
    "df"
   ]
  },
  {
   "cell_type": "code",
   "execution_count": null,
   "id": "6b912aab-0772-4af7-8541-a3aa33df4bd9",
   "metadata": {},
   "outputs": [],
   "source": [
    "df = df.dropna()"
   ]
  },
  {
   "cell_type": "code",
   "execution_count": null,
   "id": "7c74a87a-2aef-40ab-91d6-4316f37e7a1b",
   "metadata": {},
   "outputs": [],
   "source": [
    "plt.figure(figsize=(4,2))\n",
    "plt.scatter(df[\"date\"],df[\"count\"], alpha=0.4)\n",
    "plt.xlabel(\"дата\")\n",
    "plt.ylabel(\"количество представленных квартир для продажи в комапании\")\n",
    "#plt.ylim(10,120)"
   ]
  },
  {
   "cell_type": "code",
   "execution_count": null,
   "id": "e9f27add-531d-425b-ac2d-cba352c5d383",
   "metadata": {},
   "outputs": [],
   "source": [
    "plt.figure(figsize=(4,2))\n",
    "plt.scatter(df[\"date\"],df[\"avg price\"], alpha=0.4)\n",
    "plt.xlabel(\"дата\")\n",
    "plt.ylabel(\"среденяя цена квартир представленных для продажи в комапании\")"
   ]
  },
  {
   "cell_type": "code",
   "execution_count": null,
   "id": "b5b03a63-6ce0-4385-9e94-88804dcf5dc3",
   "metadata": {},
   "outputs": [],
   "source": [
    "plt.figure(figsize=(4,2))\n",
    "plt.scatter(df[\"date\"],df[\"avg price per metr\"], alpha=0.4)\n",
    "plt.xlabel(\"дата\")\n",
    "plt.ylabel(\"среденяя цена квадратного метра квартир представленных для продажи в комапании\")"
   ]
  },
  {
   "cell_type": "code",
   "execution_count": null,
   "id": "6120e15d-654a-434c-92bc-17bdff609b88",
   "metadata": {},
   "outputs": [],
   "source": [
    "#seaborn.pairplot(df_price_sale__apartment_area)"
   ]
  },
  {
   "cell_type": "code",
   "execution_count": null,
   "id": "786205b5-73c8-4838-b5e8-0a7223e7f7ed",
   "metadata": {},
   "outputs": [],
   "source": []
  },
  {
   "cell_type": "markdown",
   "id": "691c88d4-ec31-4828-9575-6afbfef3ef5a",
   "metadata": {},
   "source": [
    "# Статистика продажи донстроя жк Остров 6 по дням"
   ]
  },
  {
   "cell_type": "code",
   "execution_count": null,
   "id": "142c8a55-57e0-4f5c-b26c-31eeac5126e6",
   "metadata": {},
   "outputs": [],
   "source": [
    "cursor.execute(\"\"\"\n",
    "WITH sales_numbered AS (\n",
    "SELECT \n",
    "    id, \n",
    "    price_sale,\n",
    "    CAST(apartment_area as decimal) as apartment_area,\n",
    "    CAST(price_sale / apartment_area as decimal(15,2)),\n",
    "    date(datetime_create) as date\n",
    "    \n",
    "FROM products_history\n",
    "where \n",
    "    --datetime_create >= \"2022-01-17\"\n",
    "    --and \n",
    "    url like \"https://donstroy.moscow/objects/ostrov/plans/quarter6/%\"\n",
    "    and title like \"%Остров.6%\"\n",
    "    --and apartment_floor = 13\n",
    "    --and apartment_room = 1\n",
    "    --and apartment_area = '30.5'\n",
    "ORDER BY id desc\n",
    "LIMIT 1431111\n",
    ")\n",
    "\n",
    "SELECT \n",
    "    cast(sum(price_sale) as int),\n",
    "    cast(sum(apartment_area) as int),\n",
    "    cast(avg(price_sale / apartment_area) as int),\n",
    "    cast(sum(price_sale) / sum(apartment_area) as int),\n",
    "    avg(apartment_area),\n",
    "    avg(price_sale),\n",
    "    count(id),\n",
    "    date\n",
    "    \n",
    "FROM sales_numbered\n",
    "\n",
    "group by date\n",
    "ORDER BY date\n",
    "LIMIT 631  \n",
    "\"\"\")\n",
    "\n",
    "df = pd.DataFrame(cursor.fetchall(), columns=[\n",
    "    \"sum price_sale\",\n",
    "    \"sum apartment_area\",\n",
    "    \"avg price per metr\",\n",
    "    \"avg sum price per sum metr\",\n",
    "    \"avg apartment_area\",\n",
    "    \"avg price\",\n",
    "    \"count\",\n",
    "    \"date\"\n",
    "])"
   ]
  },
  {
   "cell_type": "code",
   "execution_count": null,
   "id": "2fe472a3-9ffa-4200-bc5f-3318d6a967fe",
   "metadata": {},
   "outputs": [],
   "source": [
    "df"
   ]
  },
  {
   "cell_type": "code",
   "execution_count": null,
   "id": "cdf78209-4b72-41fb-a801-48eaeffeefac",
   "metadata": {},
   "outputs": [],
   "source": [
    "df = df.dropna()"
   ]
  },
  {
   "cell_type": "code",
   "execution_count": null,
   "id": "3b56d4b9-6738-4b2d-b522-d0cc06624f0c",
   "metadata": {},
   "outputs": [],
   "source": [
    "plt.figure(figsize=(4,2))\n",
    "plt.scatter(df[\"date\"],df[\"count\"], alpha=0.4)\n",
    "plt.xlabel(\"дата\")\n",
    "plt.ylabel(\"количество представленных квартир для продажи в комапании\")\n",
    "#plt.ylim(10,120)"
   ]
  },
  {
   "cell_type": "code",
   "execution_count": null,
   "id": "6e8256f8-c606-49e0-b311-02b4835f6ec9",
   "metadata": {},
   "outputs": [],
   "source": [
    "plt.figure(figsize=(4,2))\n",
    "plt.scatter(df[\"date\"],df[\"avg price\"], alpha=0.4)\n",
    "plt.xlabel(\"дата\")\n",
    "plt.ylabel(\"среденяя цена квартир представленных для продажи в комапании\")"
   ]
  },
  {
   "cell_type": "code",
   "execution_count": null,
   "id": "fc829100-d87f-43ef-9ff8-7068d0de4e38",
   "metadata": {},
   "outputs": [],
   "source": [
    "plt.figure(figsize=(4,2))\n",
    "plt.scatter(df[\"date\"],df[\"avg price per metr\"], alpha=0.4)\n",
    "plt.xlabel(\"дата\")\n",
    "plt.ylabel(\"среденяя цена квадратного метра квартир представленных для продажи в комапании\")"
   ]
  },
  {
   "cell_type": "code",
   "execution_count": null,
   "id": "f0105490-dfdd-4487-aabb-fee6ca1837eb",
   "metadata": {},
   "outputs": [],
   "source": [
    "seaborn.pairplot(df.drop(['price', \n",
    "                          'apartment_ppm',\n",
    "                          'title', \n",
    "                          'datetime_create', \n",
    "                          'category', \n",
    "                          'source_url', \n",
    "                          'apartment_address','apartment_location_lat','apartment_location_lon'], axis=1 ))"
   ]
  },
  {
   "cell_type": "code",
   "execution_count": null,
   "id": "7f08d837-f8df-4526-8014-8d39b4f6e9fa",
   "metadata": {},
   "outputs": [],
   "source": [
    "#seaborn.pairplot(df_price_sale__apartment_area)"
   ]
  },
  {
   "cell_type": "code",
   "execution_count": null,
   "id": "654d7fa2-bf23-4b5c-8425-2f03003d8d0b",
   "metadata": {},
   "outputs": [],
   "source": []
  },
  {
   "cell_type": "markdown",
   "id": "f3078841-9609-4007-a7df-008715b34b50",
   "metadata": {},
   "source": [
    "# Статистика продажи донстроя жк Остров 6 корпус 1 по дням"
   ]
  },
  {
   "cell_type": "code",
   "execution_count": null,
   "id": "21796ed1-a4aa-4161-a12b-f678c70e28f0",
   "metadata": {},
   "outputs": [],
   "source": [
    "cursor.execute(\"\"\"\n",
    "WITH sales_numbered AS (\n",
    "SELECT \n",
    "    id, \n",
    "    price_sale,\n",
    "    CAST(apartment_area as decimal) as apartment_area,\n",
    "    CAST(price_sale / apartment_area as decimal(15,2)),\n",
    "    date(datetime_create) as date\n",
    "    \n",
    "FROM products_history\n",
    "where \n",
    "    --datetime_create >= \"2022-01-17\"\n",
    "    --and \n",
    "    url like \"https://donstroy.moscow/objects/ostrov/plans/quarter6/korpus1/%\"\n",
    "    and title like \"%Остров.6%\"\n",
    "    --and apartment_floor = 13\n",
    "    --and apartment_room = 1\n",
    "    --and apartment_area = '30.5'\n",
    "ORDER BY id desc\n",
    "LIMIT 1431111\n",
    ")\n",
    "\n",
    "SELECT \n",
    "    cast(sum(price_sale) as int),\n",
    "    cast(sum(apartment_area) as int),\n",
    "    cast(avg(price_sale / apartment_area) as int),\n",
    "    cast(sum(price_sale) / sum(apartment_area) as int),\n",
    "    avg(apartment_area),\n",
    "    avg(price_sale),\n",
    "    count(id),\n",
    "    date\n",
    "    \n",
    "FROM sales_numbered\n",
    "\n",
    "group by date\n",
    "ORDER BY date\n",
    "LIMIT 631  \n",
    "\"\"\")\n",
    "\n",
    "df = pd.DataFrame(cursor.fetchall(), columns=[\n",
    "    \"sum price_sale\",\n",
    "    \"sum apartment_area\",\n",
    "    \"avg price per metr\",\n",
    "    \"avg sum price per sum metr\",\n",
    "    \"avg apartment_area\",\n",
    "    \"avg price\",\n",
    "    \"count\",\n",
    "    \"date\"\n",
    "])"
   ]
  },
  {
   "cell_type": "code",
   "execution_count": null,
   "id": "74fb5cec-cb39-424e-ac41-854670ccf89b",
   "metadata": {},
   "outputs": [],
   "source": [
    "df"
   ]
  },
  {
   "cell_type": "code",
   "execution_count": null,
   "id": "bb987f07-0e91-4c33-aa40-017244461ae3",
   "metadata": {},
   "outputs": [],
   "source": [
    "df = df.dropna()"
   ]
  },
  {
   "cell_type": "code",
   "execution_count": null,
   "id": "ba1846f8-8f9d-40bf-a9ae-8de1f9233c73",
   "metadata": {},
   "outputs": [],
   "source": [
    "plt.figure(figsize=(4,2))\n",
    "plt.scatter(df[\"date\"],df[\"count\"], alpha=0.4)\n",
    "plt.xlabel(\"дата\")\n",
    "plt.ylabel(\"количество представленных квартир для продажи в комапании\")\n",
    "#plt.ylim(10,120)"
   ]
  },
  {
   "cell_type": "code",
   "execution_count": null,
   "id": "5c3732d4-9158-40a2-b6b0-239f8e32762f",
   "metadata": {},
   "outputs": [],
   "source": [
    "plt.figure(figsize=(4,2))\n",
    "plt.scatter(df[\"date\"],df[\"avg price\"], alpha=0.4)\n",
    "plt.xlabel(\"дата\")\n",
    "plt.ylabel(\"среденяя цена квартир представленных для продажи в комапании\")"
   ]
  },
  {
   "cell_type": "code",
   "execution_count": null,
   "id": "54212df8-4d5c-47b3-8d89-c7fab04d263f",
   "metadata": {},
   "outputs": [],
   "source": [
    "plt.figure(figsize=(4,2))\n",
    "plt.scatter(df[\"date\"],df[\"avg price per metr\"], alpha=0.4)\n",
    "plt.xlabel(\"дата\")\n",
    "plt.ylabel(\"среденяя цена квадратного метра квартир представленных для продажи в комапании\")"
   ]
  },
  {
   "cell_type": "code",
   "execution_count": null,
   "id": "b85b3744-317c-464e-8534-7a2ceae59ab0",
   "metadata": {},
   "outputs": [],
   "source": [
    "#seaborn.pairplot(df.drop(['price', \n",
    "#                          'apartment_ppm',\n",
    "#                          'title', \n",
    "#                          'datetime_create', \n",
    "#                          'category', \n",
    "#                          'source_url', \n",
    "#                          'apartment_address','apartment_location_lat','apartment_location_lon'], axis=1 ))"
   ]
  },
  {
   "cell_type": "code",
   "execution_count": null,
   "id": "33e44cca-008c-47ce-902a-1a0e098532e3",
   "metadata": {},
   "outputs": [],
   "source": []
  },
  {
   "cell_type": "markdown",
   "id": "2002f488-43a7-4aa7-960c-2321e70feae1",
   "metadata": {},
   "source": [
    "# Статистика продажи донстроя жк Остров 5 по дням"
   ]
  },
  {
   "cell_type": "code",
   "execution_count": null,
   "id": "38fb756c-05d8-4727-a0af-8781c170b805",
   "metadata": {},
   "outputs": [],
   "source": [
    "cursor.execute(\"\"\"\n",
    "WITH sales_numbered AS (\n",
    "SELECT \n",
    "    id, \n",
    "    price_sale,\n",
    "    CAST(apartment_area as decimal) as apartment_area,\n",
    "    CAST(price_sale / apartment_area as decimal(15,2)),\n",
    "    date(datetime_create) as date\n",
    "    \n",
    "FROM products_history\n",
    "where \n",
    "    --datetime_create >= \"2022-01-17\"\n",
    "    --and \n",
    "    url like \"https://donstroy.moscow/objects/ostrov/plans/quarter5/%\"\n",
    "    and title like \"%Остров.5%\"\n",
    "    --and apartment_floor = 13\n",
    "    --and apartment_room = 1\n",
    "    --and apartment_area = '30.5'\n",
    "ORDER BY id desc\n",
    "LIMIT 1431111\n",
    ")\n",
    "\n",
    "SELECT \n",
    "    cast(sum(price_sale) as int),\n",
    "    cast(sum(apartment_area) as int),\n",
    "    cast(avg(price_sale / apartment_area) as int),\n",
    "    cast(sum(price_sale) / sum(apartment_area) as int),\n",
    "    avg(apartment_area),\n",
    "    avg(price_sale),\n",
    "    count(id),\n",
    "    date\n",
    "    \n",
    "FROM sales_numbered\n",
    "\n",
    "group by date\n",
    "ORDER BY date\n",
    "LIMIT 631  \n",
    "\"\"\")\n",
    "\n",
    "df = pd.DataFrame(cursor.fetchall(), columns=[\n",
    "    \"sum price_sale\",\n",
    "    \"sum apartment_area\",\n",
    "    \"avg price per metr\",\n",
    "    \"avg sum price per sum metr\",\n",
    "    \"avg apartment_area\",\n",
    "    \"avg price\",\n",
    "    \"count\",\n",
    "    \"date\"\n",
    "])"
   ]
  },
  {
   "cell_type": "code",
   "execution_count": null,
   "id": "7f798024-39e2-4be7-9c81-4de114965803",
   "metadata": {},
   "outputs": [],
   "source": [
    "df"
   ]
  },
  {
   "cell_type": "code",
   "execution_count": null,
   "id": "e525508c-f6d7-408c-ae88-9c2c4ce23be4",
   "metadata": {},
   "outputs": [],
   "source": [
    "df = df.dropna()"
   ]
  },
  {
   "cell_type": "code",
   "execution_count": null,
   "id": "a831cdf0-35c1-478b-81ba-376468575ed9",
   "metadata": {},
   "outputs": [],
   "source": [
    "plt.figure(figsize=(4,2))\n",
    "plt.scatter(df[\"date\"],df[\"count\"], alpha=0.4)\n",
    "plt.xlabel(\"дата\")\n",
    "plt.ylabel(\"количество представленных квартир для продажи в комапании\")\n",
    "#plt.ylim(10,120)"
   ]
  },
  {
   "cell_type": "code",
   "execution_count": null,
   "id": "79d7e949-3ddd-4c3e-a991-501c8f4fed16",
   "metadata": {},
   "outputs": [],
   "source": [
    "plt.figure(figsize=(4,2))\n",
    "plt.scatter(df[\"date\"],df[\"avg price\"], alpha=0.4)\n",
    "plt.xlabel(\"дата\")\n",
    "plt.ylabel(\"среденяя цена квартир представленных для продажи в комапании\")"
   ]
  },
  {
   "cell_type": "code",
   "execution_count": null,
   "id": "6e95a39f-d363-48e1-b7ba-758d299c4454",
   "metadata": {},
   "outputs": [],
   "source": [
    "plt.figure(figsize=(4,2))\n",
    "plt.scatter(df[\"date\"],df[\"avg price per metr\"], alpha=0.4)\n",
    "plt.xlabel(\"дата\")\n",
    "plt.ylabel(\"среденяя цена квадратного метра квартир представленных для продажи в комапании\")"
   ]
  },
  {
   "cell_type": "code",
   "execution_count": null,
   "id": "527568e1-92c5-4855-900b-543b6407356e",
   "metadata": {},
   "outputs": [],
   "source": [
    "seaborn.pairplot(df)"
   ]
  },
  {
   "cell_type": "code",
   "execution_count": null,
   "id": "b49593bd-1a28-4624-bd5a-8895ef62f43d",
   "metadata": {},
   "outputs": [],
   "source": []
  }
 ],
 "metadata": {
  "kernelspec": {
   "display_name": "Python 3 (ipykernel)",
   "language": "python",
   "name": "python3"
  },
  "language_info": {
   "codemirror_mode": {
    "name": "ipython",
    "version": 3
   },
   "file_extension": ".py",
   "mimetype": "text/x-python",
   "name": "python",
   "nbconvert_exporter": "python",
   "pygments_lexer": "ipython3",
   "version": "3.10.10"
  }
 },
 "nbformat": 4,
 "nbformat_minor": 5
}
