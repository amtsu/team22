{
 "cells": [
  {
   "cell_type": "markdown",
   "id": "cc03c034-2bbd-4206-89e4-5907152ad8e8",
   "metadata": {},
   "source": [
    "# Аналитика по недвижимости"
   ]
  },
  {
   "cell_type": "code",
   "execution_count": 1,
   "id": "58c75ef8-07e6-4b20-85f3-c21f6c72c9e3",
   "metadata": {},
   "outputs": [
    {
     "name": "stderr",
     "output_type": "stream",
     "text": [
      "/tmp/ipykernel_316735/4149783573.py:1: DeprecationWarning: \n",
      "Pyarrow will become a required dependency of pandas in the next major release of pandas (pandas 3.0),\n",
      "(to allow more performant data types, such as the Arrow string type, and better interoperability with other libraries)\n",
      "but was not found to be installed on your system.\n",
      "If this would cause problems for you,\n",
      "please provide us feedback at https://github.com/pandas-dev/pandas/issues/54466\n",
      "        \n",
      "  import pandas as pd\n"
     ]
    }
   ],
   "source": [
    "import pandas as pd\n",
    "import matplotlib.pyplot as plt\n",
    "from sklearn.linear_model import LinearRegression\n",
    "import sqlite3\n",
    "import json\n",
    "import seaborn\n",
    "\n",
    "# Сброс ограничений на количество выводимых рядов\n",
    "pd.set_option('display.max_rows', None)\n",
    " \n",
    "# Сброс ограничений на число столбцов\n",
    "pd.set_option('display.max_columns', None)\n",
    " \n",
    "# Сброс ограничений на количество символов в записи\n",
    "pd.set_option('display.max_colwidth', None)"
   ]
  },
  {
   "cell_type": "code",
   "execution_count": 2,
   "id": "3d06d55b-e634-4dd2-891e-93d4ee07d367",
   "metadata": {},
   "outputs": [],
   "source": [
    "connection = sqlite3.connect('/home/synchronize_data/price_analytics/db.sqlite3')\n",
    "cursor = connection.cursor()"
   ]
  },
  {
   "cell_type": "markdown",
   "id": "cb938525-c623-4bba-b1db-54fdd4fb61f0",
   "metadata": {},
   "source": [
    "70 секций\t\n",
    "6 кв на этаже\t\n",
    "20 этаже\t\n",
    "8400 примерно квартрир"
   ]
  },
  {
   "cell_type": "markdown",
   "id": "970c9501-88e7-4717-8033-2610a99bef1c",
   "metadata": {},
   "source": [
    "# TODO добавить столбцы проект, корпус, секция : отсров 6 корус 1 секция 1"
   ]
  },
  {
   "cell_type": "code",
   "execution_count": null,
   "id": "5a07404b-28f1-4383-9291-1c10fb305246",
   "metadata": {},
   "outputs": [],
   "source": []
  },
  {
   "cell_type": "markdown",
   "id": "f8bd1af3-1ee4-4a01-8ea5-98f115eb5703",
   "metadata": {},
   "source": [
    "# Взять дапнные из экселя"
   ]
  },
  {
   "cell_type": "code",
   "execution_count": null,
   "id": "4507fd08-13cd-4975-ad34-06d3ca7d1158",
   "metadata": {},
   "outputs": [],
   "source": []
  },
  {
   "cell_type": "markdown",
   "id": "eee5b6dd-9a3f-4208-9156-c94c252b6ad5",
   "metadata": {},
   "source": [
    "# Получить только квартиры"
   ]
  },
  {
   "cell_type": "code",
   "execution_count": 3,
   "id": "5451b8b8-00bb-4650-8722-95d5696eaf52",
   "metadata": {},
   "outputs": [],
   "source": [
    "cursor.execute(\"\"\"\n",
    "SELECT \n",
    "            --id,\n",
    "            \"title\",\n",
    "            \"price\",\n",
    "            \"price_sale\",\n",
    "            --CAST(apartment_area as decimal) as apartment_area_decimal,\n",
    "            CAST(price_sale / apartment_area as decimal(15,2)) as \"avg_price_per_metr\",\n",
    "            date(datetime_create) as date,\n",
    "            \n",
    "            --\"category\",\n",
    "            \"brand\",\n",
    "            --\"brand_url\",\n",
    "            --\"url\",\n",
    "\n",
    "            \"apartment_area\",\n",
    "            --\"apartment_completion_quarter\",\n",
    "            --\"apartment_completion_year\",\n",
    "            \"apartment_floor\",\n",
    "            \"apartment_floors_total\",\n",
    "            --\"apartment_ceilingheight\",\n",
    "            \"apartment_room\",\n",
    "            \"apartment_ppm\"\n",
    "            --\"apartment_address\",\n",
    "            --\"apartment_location_lat\",\n",
    "            --\"apartment_location_lon\"\n",
    "    \n",
    "FROM products_history\n",
    "where \n",
    "    category = \"Новостройки\"\n",
    "    --and datetime_create >= \"2023-06-01\"\n",
    "    --and \n",
    "    --and url like \"hhttps://donstroy.moscow/objects/ostrov/plans/quarter6/korpus1/%\"\n",
    "    --and title like \"%Остров.6%\"\n",
    "    --and apartment_floor = 13\n",
    "    --and apartment_room = 1\n",
    "    --and apartment_area = '30.5'\n",
    "ORDER BY id desc\n",
    "LIMIT 1000000\n",
    "\n",
    "\"\"\")\n",
    "\n",
    "all_room = pd.DataFrame(cursor.fetchall(), columns=[\n",
    "            #\"id\",\n",
    "            \"title\",\n",
    "            \"price\",\n",
    "            \"price_sale\",\n",
    "            #\"apartment_area_decimal\",\n",
    "            \"avg_price_per_metr\",\n",
    "            \"datetime_create\",\n",
    "            \n",
    "            #\"category\",\n",
    "            \"brand\",\n",
    "            #\"brand_url\",\n",
    "            #\"url\",\n",
    "\n",
    "            \"apartment_area\",\n",
    "            #\"apartment_completion_quarter\",\n",
    "            #\"apartment_completion_year\",\n",
    "            \"apartment_floor\",\n",
    "            \"apartment_floors_total\",\n",
    "            #\"apartment_ceilingheight\",\n",
    "            \"apartment_room\",\n",
    "            \"apartment_ppm\",\n",
    "            #\"apartment_address\",\n",
    "            #\"apartment_location_lat\",\n",
    "            #\"apartment_location_lon\"\n",
    "])"
   ]
  },
  {
   "cell_type": "code",
   "execution_count": 4,
   "id": "6b719e90-7d73-45b8-acb6-b4bd2f76902c",
   "metadata": {},
   "outputs": [
    {
     "data": {
      "text/plain": [
       "title                     422641\n",
       "price                     422641\n",
       "price_sale                422641\n",
       "avg_price_per_metr        421484\n",
       "datetime_create           422641\n",
       "brand                     422641\n",
       "apartment_area            421484\n",
       "apartment_floor           347641\n",
       "apartment_floors_total    337191\n",
       "apartment_room            347641\n",
       "apartment_ppm             340198\n",
       "dtype: int64"
      ]
     },
     "execution_count": 4,
     "metadata": {},
     "output_type": "execute_result"
    }
   ],
   "source": [
    "all_room.count()"
   ]
  },
  {
   "cell_type": "code",
   "execution_count": 5,
   "id": "5648e24a-985a-4291-94bf-78cba7f6b53c",
   "metadata": {},
   "outputs": [
    {
     "data": {
      "text/html": [
       "<div>\n",
       "<style scoped>\n",
       "    .dataframe tbody tr th:only-of-type {\n",
       "        vertical-align: middle;\n",
       "    }\n",
       "\n",
       "    .dataframe tbody tr th {\n",
       "        vertical-align: top;\n",
       "    }\n",
       "\n",
       "    .dataframe thead th {\n",
       "        text-align: right;\n",
       "    }\n",
       "</style>\n",
       "<table border=\"1\" class=\"dataframe\">\n",
       "  <thead>\n",
       "    <tr style=\"text-align: right;\">\n",
       "      <th></th>\n",
       "      <th>title</th>\n",
       "      <th>price</th>\n",
       "      <th>price_sale</th>\n",
       "      <th>avg_price_per_metr</th>\n",
       "      <th>datetime_create</th>\n",
       "      <th>brand</th>\n",
       "      <th>apartment_area</th>\n",
       "      <th>apartment_floor</th>\n",
       "      <th>apartment_floors_total</th>\n",
       "      <th>apartment_room</th>\n",
       "      <th>apartment_ppm</th>\n",
       "    </tr>\n",
       "  </thead>\n",
       "  <tbody>\n",
       "    <tr>\n",
       "      <th>1</th>\n",
       "      <td>ДОМ XXII 0 Корпус 1, 1 секц 8 163.2</td>\n",
       "      <td>0</td>\n",
       "      <td>0</td>\n",
       "      <td>0.0</td>\n",
       "      <td>2024-02-15</td>\n",
       "      <td>donstroy.moscow</td>\n",
       "      <td>163.2</td>\n",
       "      <td>8.0</td>\n",
       "      <td>12.0</td>\n",
       "      <td>4.0</td>\n",
       "      <td>NaN</td>\n",
       "    </tr>\n",
       "    <tr>\n",
       "      <th>2</th>\n",
       "      <td>ДОМ XXII 0 Корпус 1, 3 секц 4 152.1</td>\n",
       "      <td>0</td>\n",
       "      <td>0</td>\n",
       "      <td>0.0</td>\n",
       "      <td>2024-02-15</td>\n",
       "      <td>donstroy.moscow</td>\n",
       "      <td>152.1</td>\n",
       "      <td>4.0</td>\n",
       "      <td>12.0</td>\n",
       "      <td>4.0</td>\n",
       "      <td>NaN</td>\n",
       "    </tr>\n",
       "  </tbody>\n",
       "</table>\n",
       "</div>"
      ],
      "text/plain": [
       "                                 title  price  price_sale  avg_price_per_metr  \\\n",
       "1  ДОМ XXII 0 Корпус 1, 1 секц 8 163.2      0           0                 0.0   \n",
       "2  ДОМ XXII 0 Корпус 1, 3 секц 4 152.1      0           0                 0.0   \n",
       "\n",
       "  datetime_create            brand  apartment_area  apartment_floor  \\\n",
       "1      2024-02-15  donstroy.moscow           163.2              8.0   \n",
       "2      2024-02-15  donstroy.moscow           152.1              4.0   \n",
       "\n",
       "   apartment_floors_total  apartment_room  apartment_ppm  \n",
       "1                    12.0             4.0            NaN  \n",
       "2                    12.0             4.0            NaN  "
      ]
     },
     "execution_count": 5,
     "metadata": {},
     "output_type": "execute_result"
    }
   ],
   "source": [
    "all_room[1:3]"
   ]
  },
  {
   "cell_type": "code",
   "execution_count": 10,
   "id": "a99af1ab-4181-4cc9-af45-3061b2b8279f",
   "metadata": {},
   "outputs": [
    {
     "data": {
      "text/html": [
       "<div>\n",
       "<style scoped>\n",
       "    .dataframe tbody tr th:only-of-type {\n",
       "        vertical-align: middle;\n",
       "    }\n",
       "\n",
       "    .dataframe tbody tr th {\n",
       "        vertical-align: top;\n",
       "    }\n",
       "\n",
       "    .dataframe thead th {\n",
       "        text-align: right;\n",
       "    }\n",
       "</style>\n",
       "<table border=\"1\" class=\"dataframe\">\n",
       "  <thead>\n",
       "    <tr style=\"text-align: right;\">\n",
       "      <th></th>\n",
       "      <th>title</th>\n",
       "      <th>price</th>\n",
       "      <th>price_sale</th>\n",
       "      <th>avg_price_per_metr</th>\n",
       "      <th>datetime_create</th>\n",
       "      <th>brand</th>\n",
       "      <th>apartment_area</th>\n",
       "      <th>apartment_floor</th>\n",
       "      <th>apartment_floors_total</th>\n",
       "      <th>apartment_room</th>\n",
       "      <th>apartment_ppm</th>\n",
       "    </tr>\n",
       "  </thead>\n",
       "  <tbody>\n",
       "    <tr>\n",
       "      <th>1</th>\n",
       "      <td>Академическая 1 19 46.5 Профсоюзная ул., д. 2/22 55.687477,37.572378</td>\n",
       "      <td>48068274</td>\n",
       "      <td>38454619</td>\n",
       "      <td>826981.053763</td>\n",
       "      <td>2024-02-14</td>\n",
       "      <td>level.ru</td>\n",
       "      <td>46.5</td>\n",
       "      <td>19.0</td>\n",
       "      <td>19.0</td>\n",
       "      <td>2.0</td>\n",
       "      <td>826981.0</td>\n",
       "    </tr>\n",
       "    <tr>\n",
       "      <th>2</th>\n",
       "      <td>Академическая 1 2 55.3 Профсоюзная ул., д. 2/22 55.687477,37.572378</td>\n",
       "      <td>46891429</td>\n",
       "      <td>39857714</td>\n",
       "      <td>720754.321881</td>\n",
       "      <td>2024-02-14</td>\n",
       "      <td>level.ru</td>\n",
       "      <td>55.3</td>\n",
       "      <td>2.0</td>\n",
       "      <td>19.0</td>\n",
       "      <td>2.0</td>\n",
       "      <td>720754.0</td>\n",
       "    </tr>\n",
       "  </tbody>\n",
       "</table>\n",
       "</div>"
      ],
      "text/plain": [
       "                                                                  title  \\\n",
       "1  Академическая 1 19 46.5 Профсоюзная ул., д. 2/22 55.687477,37.572378   \n",
       "2   Академическая 1 2 55.3 Профсоюзная ул., д. 2/22 55.687477,37.572378   \n",
       "\n",
       "      price  price_sale  avg_price_per_metr datetime_create     brand  \\\n",
       "1  48068274    38454619       826981.053763      2024-02-14  level.ru   \n",
       "2  46891429    39857714       720754.321881      2024-02-14  level.ru   \n",
       "\n",
       "   apartment_area  apartment_floor  apartment_floors_total  apartment_room  \\\n",
       "1            46.5             19.0                    19.0             2.0   \n",
       "2            55.3              2.0                    19.0             2.0   \n",
       "\n",
       "   apartment_ppm  \n",
       "1       826981.0  \n",
       "2       720754.0  "
      ]
     },
     "execution_count": 10,
     "metadata": {},
     "output_type": "execute_result"
    }
   ],
   "source": [
    "all_room[1:3]"
   ]
  },
  {
   "cell_type": "code",
   "execution_count": null,
   "id": "2ceca43d-9c9f-40cf-924e-8410f8ad6373",
   "metadata": {},
   "outputs": [],
   "source": []
  },
  {
   "cell_type": "markdown",
   "id": "2b2dc2df-f90a-48dc-a61d-6696dfdeb8e5",
   "metadata": {},
   "source": [
    "# DONSTROY.MOSCOW"
   ]
  },
  {
   "cell_type": "code",
   "execution_count": 6,
   "id": "68d530c5-3183-4a8b-a055-fb797ce336e8",
   "metadata": {},
   "outputs": [
    {
     "data": {
      "text/html": [
       "<div>\n",
       "<style scoped>\n",
       "    .dataframe tbody tr th:only-of-type {\n",
       "        vertical-align: middle;\n",
       "    }\n",
       "\n",
       "    .dataframe tbody tr th {\n",
       "        vertical-align: top;\n",
       "    }\n",
       "\n",
       "    .dataframe thead th {\n",
       "        text-align: right;\n",
       "    }\n",
       "</style>\n",
       "<table border=\"1\" class=\"dataframe\">\n",
       "  <thead>\n",
       "    <tr style=\"text-align: right;\">\n",
       "      <th></th>\n",
       "      <th>title</th>\n",
       "      <th>price</th>\n",
       "      <th>price_sale</th>\n",
       "      <th>avg_price_per_metr</th>\n",
       "      <th>datetime_create</th>\n",
       "      <th>brand</th>\n",
       "      <th>apartment_area</th>\n",
       "      <th>apartment_floor</th>\n",
       "      <th>apartment_floors_total</th>\n",
       "      <th>apartment_room</th>\n",
       "      <th>apartment_ppm</th>\n",
       "    </tr>\n",
       "  </thead>\n",
       "  <tbody>\n",
       "    <tr>\n",
       "      <th>1</th>\n",
       "      <td>ДОМ XXII 0 Корпус 1, 1 секц 8 163.2</td>\n",
       "      <td>0</td>\n",
       "      <td>0</td>\n",
       "      <td>0.0</td>\n",
       "      <td>2024-02-15</td>\n",
       "      <td>donstroy.moscow</td>\n",
       "      <td>163.2</td>\n",
       "      <td>8.0</td>\n",
       "      <td>12.0</td>\n",
       "      <td>4.0</td>\n",
       "      <td>NaN</td>\n",
       "    </tr>\n",
       "  </tbody>\n",
       "</table>\n",
       "</div>"
      ],
      "text/plain": [
       "                                 title  price  price_sale  avg_price_per_metr  \\\n",
       "1  ДОМ XXII 0 Корпус 1, 1 секц 8 163.2      0           0                 0.0   \n",
       "\n",
       "  datetime_create            brand  apartment_area  apartment_floor  \\\n",
       "1      2024-02-15  donstroy.moscow           163.2              8.0   \n",
       "\n",
       "   apartment_floors_total  apartment_room  apartment_ppm  \n",
       "1                    12.0             4.0            NaN  "
      ]
     },
     "execution_count": 6,
     "metadata": {},
     "output_type": "execute_result"
    }
   ],
   "source": [
    "all_room.loc[all_room['brand']. isin(['donstroy.moscow'])][1:2]"
   ]
  },
  {
   "cell_type": "code",
   "execution_count": 7,
   "id": "fae3cdf6-dc29-4956-9f73-b2eaea291ce7",
   "metadata": {},
   "outputs": [
    {
     "data": {
      "text/plain": [
       "title                     7443\n",
       "price                     7443\n",
       "price_sale                7443\n",
       "avg_price_per_metr        7443\n",
       "datetime_create           7443\n",
       "brand                     7443\n",
       "apartment_area            7443\n",
       "apartment_floor           7443\n",
       "apartment_floors_total    7443\n",
       "apartment_room            7443\n",
       "apartment_ppm                0\n",
       "dtype: int64"
      ]
     },
     "execution_count": 7,
     "metadata": {},
     "output_type": "execute_result"
    }
   ],
   "source": [
    "all_room.loc[all_room['brand'].str.contains(\"donstroy.moscow\")].count()#[1:2]"
   ]
  },
  {
   "cell_type": "code",
   "execution_count": null,
   "id": "30014409-19c2-4326-a3a1-8fd0f460bf7c",
   "metadata": {},
   "outputs": [],
   "source": []
  },
  {
   "cell_type": "code",
   "execution_count": 8,
   "id": "670605a6-dff4-466c-be1b-9df0ea6d93ef",
   "metadata": {},
   "outputs": [
    {
     "data": {
      "text/html": [
       "<div>\n",
       "<style scoped>\n",
       "    .dataframe tbody tr th:only-of-type {\n",
       "        vertical-align: middle;\n",
       "    }\n",
       "\n",
       "    .dataframe tbody tr th {\n",
       "        vertical-align: top;\n",
       "    }\n",
       "\n",
       "    .dataframe thead th {\n",
       "        text-align: right;\n",
       "    }\n",
       "</style>\n",
       "<table border=\"1\" class=\"dataframe\">\n",
       "  <thead>\n",
       "    <tr style=\"text-align: right;\">\n",
       "      <th></th>\n",
       "      <th>price</th>\n",
       "      <th>price_sale</th>\n",
       "      <th>avg_price_per_metr</th>\n",
       "      <th>apartment_area</th>\n",
       "      <th>apartment_floor</th>\n",
       "      <th>apartment_floors_total</th>\n",
       "      <th>apartment_room</th>\n",
       "      <th>apartment_ppm</th>\n",
       "    </tr>\n",
       "  </thead>\n",
       "  <tbody>\n",
       "    <tr>\n",
       "      <th>count</th>\n",
       "      <td>7.443000e+03</td>\n",
       "      <td>7.443000e+03</td>\n",
       "      <td>7.443000e+03</td>\n",
       "      <td>7443.000000</td>\n",
       "      <td>7443.000000</td>\n",
       "      <td>7443.000000</td>\n",
       "      <td>7443.000000</td>\n",
       "      <td>0.0</td>\n",
       "    </tr>\n",
       "    <tr>\n",
       "      <th>mean</th>\n",
       "      <td>4.111766e+07</td>\n",
       "      <td>4.111766e+07</td>\n",
       "      <td>5.159105e+05</td>\n",
       "      <td>79.407578</td>\n",
       "      <td>14.325138</td>\n",
       "      <td>25.177079</td>\n",
       "      <td>2.320167</td>\n",
       "      <td>NaN</td>\n",
       "    </tr>\n",
       "    <tr>\n",
       "      <th>std</th>\n",
       "      <td>2.568858e+07</td>\n",
       "      <td>2.568858e+07</td>\n",
       "      <td>1.284273e+05</td>\n",
       "      <td>36.078198</td>\n",
       "      <td>9.842055</td>\n",
       "      <td>10.662234</td>\n",
       "      <td>3.903706</td>\n",
       "      <td>NaN</td>\n",
       "    </tr>\n",
       "    <tr>\n",
       "      <th>min</th>\n",
       "      <td>0.000000e+00</td>\n",
       "      <td>0.000000e+00</td>\n",
       "      <td>0.000000e+00</td>\n",
       "      <td>26.900000</td>\n",
       "      <td>1.000000</td>\n",
       "      <td>8.000000</td>\n",
       "      <td>0.000000</td>\n",
       "      <td>NaN</td>\n",
       "    </tr>\n",
       "    <tr>\n",
       "      <th>25%</th>\n",
       "      <td>2.610927e+07</td>\n",
       "      <td>2.610927e+07</td>\n",
       "      <td>4.487000e+05</td>\n",
       "      <td>56.800000</td>\n",
       "      <td>6.000000</td>\n",
       "      <td>19.000000</td>\n",
       "      <td>2.000000</td>\n",
       "      <td>NaN</td>\n",
       "    </tr>\n",
       "    <tr>\n",
       "      <th>50%</th>\n",
       "      <td>3.491370e+07</td>\n",
       "      <td>3.491370e+07</td>\n",
       "      <td>5.103000e+05</td>\n",
       "      <td>71.900000</td>\n",
       "      <td>13.000000</td>\n",
       "      <td>22.000000</td>\n",
       "      <td>2.000000</td>\n",
       "      <td>NaN</td>\n",
       "    </tr>\n",
       "    <tr>\n",
       "      <th>75%</th>\n",
       "      <td>4.808610e+07</td>\n",
       "      <td>4.808610e+07</td>\n",
       "      <td>5.777000e+05</td>\n",
       "      <td>95.500000</td>\n",
       "      <td>20.000000</td>\n",
       "      <td>27.000000</td>\n",
       "      <td>3.000000</td>\n",
       "      <td>NaN</td>\n",
       "    </tr>\n",
       "    <tr>\n",
       "      <th>max</th>\n",
       "      <td>2.900000e+08</td>\n",
       "      <td>2.900000e+08</td>\n",
       "      <td>1.679602e+06</td>\n",
       "      <td>391.000000</td>\n",
       "      <td>51.000000</td>\n",
       "      <td>52.000000</td>\n",
       "      <td>100.000000</td>\n",
       "      <td>NaN</td>\n",
       "    </tr>\n",
       "  </tbody>\n",
       "</table>\n",
       "</div>"
      ],
      "text/plain": [
       "              price    price_sale  avg_price_per_metr  apartment_area  \\\n",
       "count  7.443000e+03  7.443000e+03        7.443000e+03     7443.000000   \n",
       "mean   4.111766e+07  4.111766e+07        5.159105e+05       79.407578   \n",
       "std    2.568858e+07  2.568858e+07        1.284273e+05       36.078198   \n",
       "min    0.000000e+00  0.000000e+00        0.000000e+00       26.900000   \n",
       "25%    2.610927e+07  2.610927e+07        4.487000e+05       56.800000   \n",
       "50%    3.491370e+07  3.491370e+07        5.103000e+05       71.900000   \n",
       "75%    4.808610e+07  4.808610e+07        5.777000e+05       95.500000   \n",
       "max    2.900000e+08  2.900000e+08        1.679602e+06      391.000000   \n",
       "\n",
       "       apartment_floor  apartment_floors_total  apartment_room  apartment_ppm  \n",
       "count      7443.000000             7443.000000     7443.000000            0.0  \n",
       "mean         14.325138               25.177079        2.320167            NaN  \n",
       "std           9.842055               10.662234        3.903706            NaN  \n",
       "min           1.000000                8.000000        0.000000            NaN  \n",
       "25%           6.000000               19.000000        2.000000            NaN  \n",
       "50%          13.000000               22.000000        2.000000            NaN  \n",
       "75%          20.000000               27.000000        3.000000            NaN  \n",
       "max          51.000000               52.000000      100.000000            NaN  "
      ]
     },
     "execution_count": 8,
     "metadata": {},
     "output_type": "execute_result"
    }
   ],
   "source": [
    "all_room.loc[all_room['brand'].str.contains(\"donstroy.moscow\")].describe()"
   ]
  },
  {
   "cell_type": "code",
   "execution_count": 9,
   "id": "f981de40-ec99-4eac-9e3e-bf030d9869b0",
   "metadata": {},
   "outputs": [
    {
     "data": {
      "text/html": [
       "<div>\n",
       "<style scoped>\n",
       "    .dataframe tbody tr th:only-of-type {\n",
       "        vertical-align: middle;\n",
       "    }\n",
       "\n",
       "    .dataframe tbody tr th {\n",
       "        vertical-align: top;\n",
       "    }\n",
       "\n",
       "    .dataframe thead th {\n",
       "        text-align: right;\n",
       "    }\n",
       "</style>\n",
       "<table border=\"1\" class=\"dataframe\">\n",
       "  <thead>\n",
       "    <tr style=\"text-align: right;\">\n",
       "      <th></th>\n",
       "      <th>price</th>\n",
       "      <th>price_sale</th>\n",
       "      <th>avg_price_per_metr</th>\n",
       "      <th>apartment_area</th>\n",
       "      <th>apartment_floor</th>\n",
       "      <th>apartment_floors_total</th>\n",
       "      <th>apartment_room</th>\n",
       "      <th>apartment_ppm</th>\n",
       "    </tr>\n",
       "  </thead>\n",
       "  <tbody>\n",
       "    <tr>\n",
       "      <th>count</th>\n",
       "      <td>3.389000e+03</td>\n",
       "      <td>3.389000e+03</td>\n",
       "      <td>3389.000000</td>\n",
       "      <td>3389.000000</td>\n",
       "      <td>3389.000000</td>\n",
       "      <td>3389.000000</td>\n",
       "      <td>3389.000000</td>\n",
       "      <td>0.0</td>\n",
       "    </tr>\n",
       "    <tr>\n",
       "      <th>mean</th>\n",
       "      <td>4.594737e+07</td>\n",
       "      <td>4.594737e+07</td>\n",
       "      <td>571722.678559</td>\n",
       "      <td>81.165772</td>\n",
       "      <td>10.792859</td>\n",
       "      <td>18.787843</td>\n",
       "      <td>2.283269</td>\n",
       "      <td>NaN</td>\n",
       "    </tr>\n",
       "    <tr>\n",
       "      <th>std</th>\n",
       "      <td>2.048605e+07</td>\n",
       "      <td>2.048605e+07</td>\n",
       "      <td>80099.834546</td>\n",
       "      <td>33.488220</td>\n",
       "      <td>5.827017</td>\n",
       "      <td>3.571022</td>\n",
       "      <td>1.064072</td>\n",
       "      <td>NaN</td>\n",
       "    </tr>\n",
       "    <tr>\n",
       "      <th>min</th>\n",
       "      <td>1.783226e+07</td>\n",
       "      <td>1.783226e+07</td>\n",
       "      <td>403900.000000</td>\n",
       "      <td>26.900000</td>\n",
       "      <td>2.000000</td>\n",
       "      <td>8.000000</td>\n",
       "      <td>0.000000</td>\n",
       "      <td>NaN</td>\n",
       "    </tr>\n",
       "    <tr>\n",
       "      <th>25%</th>\n",
       "      <td>3.199544e+07</td>\n",
       "      <td>3.199544e+07</td>\n",
       "      <td>522800.000000</td>\n",
       "      <td>56.800000</td>\n",
       "      <td>6.000000</td>\n",
       "      <td>16.000000</td>\n",
       "      <td>2.000000</td>\n",
       "      <td>NaN</td>\n",
       "    </tr>\n",
       "    <tr>\n",
       "      <th>50%</th>\n",
       "      <td>4.095675e+07</td>\n",
       "      <td>4.095675e+07</td>\n",
       "      <td>566300.000000</td>\n",
       "      <td>76.000000</td>\n",
       "      <td>11.000000</td>\n",
       "      <td>21.000000</td>\n",
       "      <td>2.000000</td>\n",
       "      <td>NaN</td>\n",
       "    </tr>\n",
       "    <tr>\n",
       "      <th>75%</th>\n",
       "      <td>5.392656e+07</td>\n",
       "      <td>5.392656e+07</td>\n",
       "      <td>606200.000000</td>\n",
       "      <td>99.100000</td>\n",
       "      <td>16.000000</td>\n",
       "      <td>21.000000</td>\n",
       "      <td>3.000000</td>\n",
       "      <td>NaN</td>\n",
       "    </tr>\n",
       "    <tr>\n",
       "      <th>max</th>\n",
       "      <td>2.052565e+08</td>\n",
       "      <td>2.052565e+08</td>\n",
       "      <td>941410.204082</td>\n",
       "      <td>267.100000</td>\n",
       "      <td>22.000000</td>\n",
       "      <td>23.000000</td>\n",
       "      <td>5.000000</td>\n",
       "      <td>NaN</td>\n",
       "    </tr>\n",
       "  </tbody>\n",
       "</table>\n",
       "</div>"
      ],
      "text/plain": [
       "              price    price_sale  avg_price_per_metr  apartment_area  \\\n",
       "count  3.389000e+03  3.389000e+03         3389.000000     3389.000000   \n",
       "mean   4.594737e+07  4.594737e+07       571722.678559       81.165772   \n",
       "std    2.048605e+07  2.048605e+07        80099.834546       33.488220   \n",
       "min    1.783226e+07  1.783226e+07       403900.000000       26.900000   \n",
       "25%    3.199544e+07  3.199544e+07       522800.000000       56.800000   \n",
       "50%    4.095675e+07  4.095675e+07       566300.000000       76.000000   \n",
       "75%    5.392656e+07  5.392656e+07       606200.000000       99.100000   \n",
       "max    2.052565e+08  2.052565e+08       941410.204082      267.100000   \n",
       "\n",
       "       apartment_floor  apartment_floors_total  apartment_room  apartment_ppm  \n",
       "count      3389.000000             3389.000000     3389.000000            0.0  \n",
       "mean         10.792859               18.787843        2.283269            NaN  \n",
       "std           5.827017                3.571022        1.064072            NaN  \n",
       "min           2.000000                8.000000        0.000000            NaN  \n",
       "25%           6.000000               16.000000        2.000000            NaN  \n",
       "50%          11.000000               21.000000        2.000000            NaN  \n",
       "75%          16.000000               21.000000        3.000000            NaN  \n",
       "max          22.000000               23.000000        5.000000            NaN  "
      ]
     },
     "execution_count": 9,
     "metadata": {},
     "output_type": "execute_result"
    }
   ],
   "source": [
    "all_room.loc[all_room['brand'].str.contains(\"donstroy.moscow\") & all_room['title'].str.contains(\"Остров\")].describe()#[1:2]"
   ]
  },
  {
   "cell_type": "code",
   "execution_count": 10,
   "id": "245c7f33-0054-4dc5-9f86-e103ce9c658a",
   "metadata": {},
   "outputs": [
    {
     "data": {
      "text/html": [
       "<div>\n",
       "<style scoped>\n",
       "    .dataframe tbody tr th:only-of-type {\n",
       "        vertical-align: middle;\n",
       "    }\n",
       "\n",
       "    .dataframe tbody tr th {\n",
       "        vertical-align: top;\n",
       "    }\n",
       "\n",
       "    .dataframe thead th {\n",
       "        text-align: right;\n",
       "    }\n",
       "</style>\n",
       "<table border=\"1\" class=\"dataframe\">\n",
       "  <thead>\n",
       "    <tr style=\"text-align: right;\">\n",
       "      <th></th>\n",
       "      <th>price</th>\n",
       "      <th>price_sale</th>\n",
       "      <th>avg_price_per_metr</th>\n",
       "      <th>apartment_area</th>\n",
       "      <th>apartment_floor</th>\n",
       "      <th>apartment_floors_total</th>\n",
       "      <th>apartment_room</th>\n",
       "      <th>apartment_ppm</th>\n",
       "    </tr>\n",
       "  </thead>\n",
       "  <tbody>\n",
       "    <tr>\n",
       "      <th>count</th>\n",
       "      <td>6.000000e+01</td>\n",
       "      <td>6.000000e+01</td>\n",
       "      <td>60.000000</td>\n",
       "      <td>60.000000</td>\n",
       "      <td>60.000000</td>\n",
       "      <td>60.000000</td>\n",
       "      <td>60.000000</td>\n",
       "      <td>0.0</td>\n",
       "    </tr>\n",
       "    <tr>\n",
       "      <th>mean</th>\n",
       "      <td>8.905205e+07</td>\n",
       "      <td>8.905205e+07</td>\n",
       "      <td>685447.641243</td>\n",
       "      <td>128.130000</td>\n",
       "      <td>9.700000</td>\n",
       "      <td>18.000000</td>\n",
       "      <td>3.300000</td>\n",
       "      <td>NaN</td>\n",
       "    </tr>\n",
       "    <tr>\n",
       "      <th>std</th>\n",
       "      <td>4.425160e+07</td>\n",
       "      <td>4.425160e+07</td>\n",
       "      <td>95839.532480</td>\n",
       "      <td>54.778383</td>\n",
       "      <td>6.457947</td>\n",
       "      <td>3.025317</td>\n",
       "      <td>1.629183</td>\n",
       "      <td>NaN</td>\n",
       "    </tr>\n",
       "    <tr>\n",
       "      <th>min</th>\n",
       "      <td>4.822660e+07</td>\n",
       "      <td>4.822660e+07</td>\n",
       "      <td>521932.900433</td>\n",
       "      <td>76.000000</td>\n",
       "      <td>2.000000</td>\n",
       "      <td>15.000000</td>\n",
       "      <td>0.000000</td>\n",
       "      <td>NaN</td>\n",
       "    </tr>\n",
       "    <tr>\n",
       "      <th>25%</th>\n",
       "      <td>5.197840e+07</td>\n",
       "      <td>5.197840e+07</td>\n",
       "      <td>635539.000000</td>\n",
       "      <td>91.000000</td>\n",
       "      <td>3.000000</td>\n",
       "      <td>15.000000</td>\n",
       "      <td>2.000000</td>\n",
       "      <td>NaN</td>\n",
       "    </tr>\n",
       "    <tr>\n",
       "      <th>50%</th>\n",
       "      <td>9.086851e+07</td>\n",
       "      <td>9.086851e+07</td>\n",
       "      <td>670219.739409</td>\n",
       "      <td>113.150000</td>\n",
       "      <td>12.000000</td>\n",
       "      <td>18.000000</td>\n",
       "      <td>3.000000</td>\n",
       "      <td>NaN</td>\n",
       "    </tr>\n",
       "    <tr>\n",
       "      <th>75%</th>\n",
       "      <td>9.616956e+07</td>\n",
       "      <td>9.616956e+07</td>\n",
       "      <td>750000.000000</td>\n",
       "      <td>149.500000</td>\n",
       "      <td>14.000000</td>\n",
       "      <td>21.000000</td>\n",
       "      <td>5.000000</td>\n",
       "      <td>NaN</td>\n",
       "    </tr>\n",
       "    <tr>\n",
       "      <th>max</th>\n",
       "      <td>2.052565e+08</td>\n",
       "      <td>2.052565e+08</td>\n",
       "      <td>891302.819738</td>\n",
       "      <td>267.100000</td>\n",
       "      <td>21.000000</td>\n",
       "      <td>21.000000</td>\n",
       "      <td>5.000000</td>\n",
       "      <td>NaN</td>\n",
       "    </tr>\n",
       "  </tbody>\n",
       "</table>\n",
       "</div>"
      ],
      "text/plain": [
       "              price    price_sale  avg_price_per_metr  apartment_area  \\\n",
       "count  6.000000e+01  6.000000e+01           60.000000       60.000000   \n",
       "mean   8.905205e+07  8.905205e+07       685447.641243      128.130000   \n",
       "std    4.425160e+07  4.425160e+07        95839.532480       54.778383   \n",
       "min    4.822660e+07  4.822660e+07       521932.900433       76.000000   \n",
       "25%    5.197840e+07  5.197840e+07       635539.000000       91.000000   \n",
       "50%    9.086851e+07  9.086851e+07       670219.739409      113.150000   \n",
       "75%    9.616956e+07  9.616956e+07       750000.000000      149.500000   \n",
       "max    2.052565e+08  2.052565e+08       891302.819738      267.100000   \n",
       "\n",
       "       apartment_floor  apartment_floors_total  apartment_room  apartment_ppm  \n",
       "count        60.000000               60.000000       60.000000            0.0  \n",
       "mean          9.700000               18.000000        3.300000            NaN  \n",
       "std           6.457947                3.025317        1.629183            NaN  \n",
       "min           2.000000               15.000000        0.000000            NaN  \n",
       "25%           3.000000               15.000000        2.000000            NaN  \n",
       "50%          12.000000               18.000000        3.000000            NaN  \n",
       "75%          14.000000               21.000000        5.000000            NaN  \n",
       "max          21.000000               21.000000        5.000000            NaN  "
      ]
     },
     "execution_count": 10,
     "metadata": {},
     "output_type": "execute_result"
    }
   ],
   "source": [
    "all_room.loc[all_room['brand'].str.contains(\"donstroy.moscow\") & all_room['title'].str.contains(\"Остров.1\")].describe()#[1:2]"
   ]
  },
  {
   "cell_type": "code",
   "execution_count": 11,
   "id": "7d8d86a9-513e-469c-ace1-fbc83b321f3f",
   "metadata": {},
   "outputs": [
    {
     "data": {
      "text/html": [
       "<div>\n",
       "<style scoped>\n",
       "    .dataframe tbody tr th:only-of-type {\n",
       "        vertical-align: middle;\n",
       "    }\n",
       "\n",
       "    .dataframe tbody tr th {\n",
       "        vertical-align: top;\n",
       "    }\n",
       "\n",
       "    .dataframe thead th {\n",
       "        text-align: right;\n",
       "    }\n",
       "</style>\n",
       "<table border=\"1\" class=\"dataframe\">\n",
       "  <thead>\n",
       "    <tr style=\"text-align: right;\">\n",
       "      <th></th>\n",
       "      <th>price</th>\n",
       "      <th>price_sale</th>\n",
       "      <th>avg_price_per_metr</th>\n",
       "      <th>apartment_area</th>\n",
       "      <th>apartment_floor</th>\n",
       "      <th>apartment_floors_total</th>\n",
       "      <th>apartment_room</th>\n",
       "      <th>apartment_ppm</th>\n",
       "    </tr>\n",
       "  </thead>\n",
       "  <tbody>\n",
       "    <tr>\n",
       "      <th>count</th>\n",
       "      <td>3.900000e+01</td>\n",
       "      <td>3.900000e+01</td>\n",
       "      <td>39.000000</td>\n",
       "      <td>39.000000</td>\n",
       "      <td>39.000000</td>\n",
       "      <td>39.000000</td>\n",
       "      <td>39.000000</td>\n",
       "      <td>0.0</td>\n",
       "    </tr>\n",
       "    <tr>\n",
       "      <th>mean</th>\n",
       "      <td>5.455319e+07</td>\n",
       "      <td>5.455319e+07</td>\n",
       "      <td>524235.897436</td>\n",
       "      <td>103.028205</td>\n",
       "      <td>9.025641</td>\n",
       "      <td>22.025641</td>\n",
       "      <td>2.923077</td>\n",
       "      <td>NaN</td>\n",
       "    </tr>\n",
       "    <tr>\n",
       "      <th>std</th>\n",
       "      <td>1.698070e+07</td>\n",
       "      <td>1.698070e+07</td>\n",
       "      <td>84840.278689</td>\n",
       "      <td>26.180537</td>\n",
       "      <td>6.780340</td>\n",
       "      <td>0.160128</td>\n",
       "      <td>0.956546</td>\n",
       "      <td>NaN</td>\n",
       "    </tr>\n",
       "    <tr>\n",
       "      <th>min</th>\n",
       "      <td>3.266222e+07</td>\n",
       "      <td>3.266222e+07</td>\n",
       "      <td>430900.000000</td>\n",
       "      <td>69.100000</td>\n",
       "      <td>2.000000</td>\n",
       "      <td>22.000000</td>\n",
       "      <td>0.000000</td>\n",
       "      <td>NaN</td>\n",
       "    </tr>\n",
       "    <tr>\n",
       "      <th>25%</th>\n",
       "      <td>3.295220e+07</td>\n",
       "      <td>3.295220e+07</td>\n",
       "      <td>451400.000000</td>\n",
       "      <td>75.800000</td>\n",
       "      <td>3.000000</td>\n",
       "      <td>22.000000</td>\n",
       "      <td>2.000000</td>\n",
       "      <td>NaN</td>\n",
       "    </tr>\n",
       "    <tr>\n",
       "      <th>50%</th>\n",
       "      <td>5.977176e+07</td>\n",
       "      <td>5.977176e+07</td>\n",
       "      <td>524300.000000</td>\n",
       "      <td>104.900000</td>\n",
       "      <td>9.000000</td>\n",
       "      <td>22.000000</td>\n",
       "      <td>3.000000</td>\n",
       "      <td>NaN</td>\n",
       "    </tr>\n",
       "    <tr>\n",
       "      <th>75%</th>\n",
       "      <td>7.132061e+07</td>\n",
       "      <td>7.132061e+07</td>\n",
       "      <td>551400.000000</td>\n",
       "      <td>108.400000</td>\n",
       "      <td>9.000000</td>\n",
       "      <td>22.000000</td>\n",
       "      <td>4.000000</td>\n",
       "      <td>NaN</td>\n",
       "    </tr>\n",
       "    <tr>\n",
       "      <th>max</th>\n",
       "      <td>8.865904e+07</td>\n",
       "      <td>8.865904e+07</td>\n",
       "      <td>686300.000000</td>\n",
       "      <td>149.300000</td>\n",
       "      <td>22.000000</td>\n",
       "      <td>23.000000</td>\n",
       "      <td>4.000000</td>\n",
       "      <td>NaN</td>\n",
       "    </tr>\n",
       "  </tbody>\n",
       "</table>\n",
       "</div>"
      ],
      "text/plain": [
       "              price    price_sale  avg_price_per_metr  apartment_area  \\\n",
       "count  3.900000e+01  3.900000e+01           39.000000       39.000000   \n",
       "mean   5.455319e+07  5.455319e+07       524235.897436      103.028205   \n",
       "std    1.698070e+07  1.698070e+07        84840.278689       26.180537   \n",
       "min    3.266222e+07  3.266222e+07       430900.000000       69.100000   \n",
       "25%    3.295220e+07  3.295220e+07       451400.000000       75.800000   \n",
       "50%    5.977176e+07  5.977176e+07       524300.000000      104.900000   \n",
       "75%    7.132061e+07  7.132061e+07       551400.000000      108.400000   \n",
       "max    8.865904e+07  8.865904e+07       686300.000000      149.300000   \n",
       "\n",
       "       apartment_floor  apartment_floors_total  apartment_room  apartment_ppm  \n",
       "count        39.000000               39.000000       39.000000            0.0  \n",
       "mean          9.025641               22.025641        2.923077            NaN  \n",
       "std           6.780340                0.160128        0.956546            NaN  \n",
       "min           2.000000               22.000000        0.000000            NaN  \n",
       "25%           3.000000               22.000000        2.000000            NaN  \n",
       "50%           9.000000               22.000000        3.000000            NaN  \n",
       "75%           9.000000               22.000000        4.000000            NaN  \n",
       "max          22.000000               23.000000        4.000000            NaN  "
      ]
     },
     "execution_count": 11,
     "metadata": {},
     "output_type": "execute_result"
    }
   ],
   "source": [
    "all_room.loc[all_room['brand'].str.contains(\"donstroy.moscow\") & all_room['title'].str.contains(\"Остров.2\")].describe()#[1:2]"
   ]
  },
  {
   "cell_type": "code",
   "execution_count": 12,
   "id": "31a7e6a1-85cf-4d6b-897a-4becc06b0c32",
   "metadata": {},
   "outputs": [
    {
     "data": {
      "text/html": [
       "<div>\n",
       "<style scoped>\n",
       "    .dataframe tbody tr th:only-of-type {\n",
       "        vertical-align: middle;\n",
       "    }\n",
       "\n",
       "    .dataframe tbody tr th {\n",
       "        vertical-align: top;\n",
       "    }\n",
       "\n",
       "    .dataframe thead th {\n",
       "        text-align: right;\n",
       "    }\n",
       "</style>\n",
       "<table border=\"1\" class=\"dataframe\">\n",
       "  <thead>\n",
       "    <tr style=\"text-align: right;\">\n",
       "      <th></th>\n",
       "      <th>price</th>\n",
       "      <th>price_sale</th>\n",
       "      <th>avg_price_per_metr</th>\n",
       "      <th>apartment_area</th>\n",
       "      <th>apartment_floor</th>\n",
       "      <th>apartment_floors_total</th>\n",
       "      <th>apartment_room</th>\n",
       "      <th>apartment_ppm</th>\n",
       "    </tr>\n",
       "  </thead>\n",
       "  <tbody>\n",
       "    <tr>\n",
       "      <th>count</th>\n",
       "      <td>7.200000e+01</td>\n",
       "      <td>7.200000e+01</td>\n",
       "      <td>72.000000</td>\n",
       "      <td>72.000000</td>\n",
       "      <td>72.000000</td>\n",
       "      <td>72.000000</td>\n",
       "      <td>72.000000</td>\n",
       "      <td>0.0</td>\n",
       "    </tr>\n",
       "    <tr>\n",
       "      <th>mean</th>\n",
       "      <td>7.506690e+07</td>\n",
       "      <td>7.506690e+07</td>\n",
       "      <td>814315.266131</td>\n",
       "      <td>95.125000</td>\n",
       "      <td>4.083333</td>\n",
       "      <td>9.500000</td>\n",
       "      <td>2.416667</td>\n",
       "      <td>NaN</td>\n",
       "    </tr>\n",
       "    <tr>\n",
       "      <th>std</th>\n",
       "      <td>2.019162e+07</td>\n",
       "      <td>2.019162e+07</td>\n",
       "      <td>101023.991386</td>\n",
       "      <td>32.147217</td>\n",
       "      <td>2.114670</td>\n",
       "      <td>0.872103</td>\n",
       "      <td>0.960487</td>\n",
       "      <td>NaN</td>\n",
       "    </tr>\n",
       "    <tr>\n",
       "      <th>min</th>\n",
       "      <td>4.167040e+07</td>\n",
       "      <td>4.167040e+07</td>\n",
       "      <td>640426.264274</td>\n",
       "      <td>47.000000</td>\n",
       "      <td>2.000000</td>\n",
       "      <td>8.000000</td>\n",
       "      <td>1.000000</td>\n",
       "      <td>NaN</td>\n",
       "    </tr>\n",
       "    <tr>\n",
       "      <th>25%</th>\n",
       "      <td>6.841194e+07</td>\n",
       "      <td>6.841194e+07</td>\n",
       "      <td>735853.272015</td>\n",
       "      <td>77.600000</td>\n",
       "      <td>2.000000</td>\n",
       "      <td>9.500000</td>\n",
       "      <td>2.000000</td>\n",
       "      <td>NaN</td>\n",
       "    </tr>\n",
       "    <tr>\n",
       "      <th>50%</th>\n",
       "      <td>7.449837e+07</td>\n",
       "      <td>7.449837e+07</td>\n",
       "      <td>827083.939213</td>\n",
       "      <td>84.750000</td>\n",
       "      <td>3.000000</td>\n",
       "      <td>10.000000</td>\n",
       "      <td>2.000000</td>\n",
       "      <td>NaN</td>\n",
       "    </tr>\n",
       "    <tr>\n",
       "      <th>75%</th>\n",
       "      <td>8.130355e+07</td>\n",
       "      <td>8.130355e+07</td>\n",
       "      <td>895967.359929</td>\n",
       "      <td>121.625000</td>\n",
       "      <td>6.000000</td>\n",
       "      <td>10.000000</td>\n",
       "      <td>3.000000</td>\n",
       "      <td>NaN</td>\n",
       "    </tr>\n",
       "    <tr>\n",
       "      <th>max</th>\n",
       "      <td>1.102255e+08</td>\n",
       "      <td>1.102255e+08</td>\n",
       "      <td>941410.204082</td>\n",
       "      <td>149.000000</td>\n",
       "      <td>8.000000</td>\n",
       "      <td>10.000000</td>\n",
       "      <td>4.000000</td>\n",
       "      <td>NaN</td>\n",
       "    </tr>\n",
       "  </tbody>\n",
       "</table>\n",
       "</div>"
      ],
      "text/plain": [
       "              price    price_sale  avg_price_per_metr  apartment_area  \\\n",
       "count  7.200000e+01  7.200000e+01           72.000000       72.000000   \n",
       "mean   7.506690e+07  7.506690e+07       814315.266131       95.125000   \n",
       "std    2.019162e+07  2.019162e+07       101023.991386       32.147217   \n",
       "min    4.167040e+07  4.167040e+07       640426.264274       47.000000   \n",
       "25%    6.841194e+07  6.841194e+07       735853.272015       77.600000   \n",
       "50%    7.449837e+07  7.449837e+07       827083.939213       84.750000   \n",
       "75%    8.130355e+07  8.130355e+07       895967.359929      121.625000   \n",
       "max    1.102255e+08  1.102255e+08       941410.204082      149.000000   \n",
       "\n",
       "       apartment_floor  apartment_floors_total  apartment_room  apartment_ppm  \n",
       "count        72.000000               72.000000       72.000000            0.0  \n",
       "mean          4.083333                9.500000        2.416667            NaN  \n",
       "std           2.114670                0.872103        0.960487            NaN  \n",
       "min           2.000000                8.000000        1.000000            NaN  \n",
       "25%           2.000000                9.500000        2.000000            NaN  \n",
       "50%           3.000000               10.000000        2.000000            NaN  \n",
       "75%           6.000000               10.000000        3.000000            NaN  \n",
       "max           8.000000               10.000000        4.000000            NaN  "
      ]
     },
     "execution_count": 12,
     "metadata": {},
     "output_type": "execute_result"
    }
   ],
   "source": [
    "all_room.loc[all_room['brand'].str.contains(\"donstroy.moscow\") & all_room['title'].str.contains(\"Остров.3\")].describe()#[1:2]"
   ]
  },
  {
   "cell_type": "code",
   "execution_count": 13,
   "id": "5560a2bd-03e8-4cab-a63a-dd0101ae20b8",
   "metadata": {},
   "outputs": [
    {
     "data": {
      "text/html": [
       "<div>\n",
       "<style scoped>\n",
       "    .dataframe tbody tr th:only-of-type {\n",
       "        vertical-align: middle;\n",
       "    }\n",
       "\n",
       "    .dataframe tbody tr th {\n",
       "        vertical-align: top;\n",
       "    }\n",
       "\n",
       "    .dataframe thead th {\n",
       "        text-align: right;\n",
       "    }\n",
       "</style>\n",
       "<table border=\"1\" class=\"dataframe\">\n",
       "  <thead>\n",
       "    <tr style=\"text-align: right;\">\n",
       "      <th></th>\n",
       "      <th>price</th>\n",
       "      <th>price_sale</th>\n",
       "      <th>avg_price_per_metr</th>\n",
       "      <th>apartment_area</th>\n",
       "      <th>apartment_floor</th>\n",
       "      <th>apartment_floors_total</th>\n",
       "      <th>apartment_room</th>\n",
       "      <th>apartment_ppm</th>\n",
       "    </tr>\n",
       "  </thead>\n",
       "  <tbody>\n",
       "    <tr>\n",
       "      <th>count</th>\n",
       "      <td>1.377000e+03</td>\n",
       "      <td>1.377000e+03</td>\n",
       "      <td>1377.000000</td>\n",
       "      <td>1377.000000</td>\n",
       "      <td>1377.000000</td>\n",
       "      <td>1377.000000</td>\n",
       "      <td>1377.000000</td>\n",
       "      <td>0.0</td>\n",
       "    </tr>\n",
       "    <tr>\n",
       "      <th>mean</th>\n",
       "      <td>5.059994e+07</td>\n",
       "      <td>5.059994e+07</td>\n",
       "      <td>553535.729847</td>\n",
       "      <td>92.384604</td>\n",
       "      <td>8.286855</td>\n",
       "      <td>16.469136</td>\n",
       "      <td>2.470588</td>\n",
       "      <td>NaN</td>\n",
       "    </tr>\n",
       "    <tr>\n",
       "      <th>std</th>\n",
       "      <td>1.849409e+07</td>\n",
       "      <td>1.849409e+07</td>\n",
       "      <td>82663.229388</td>\n",
       "      <td>30.689436</td>\n",
       "      <td>4.898363</td>\n",
       "      <td>3.628751</td>\n",
       "      <td>0.987958</td>\n",
       "      <td>NaN</td>\n",
       "    </tr>\n",
       "    <tr>\n",
       "      <th>min</th>\n",
       "      <td>1.818576e+07</td>\n",
       "      <td>1.818576e+07</td>\n",
       "      <td>403900.000000</td>\n",
       "      <td>26.900000</td>\n",
       "      <td>2.000000</td>\n",
       "      <td>13.000000</td>\n",
       "      <td>0.000000</td>\n",
       "      <td>NaN</td>\n",
       "    </tr>\n",
       "    <tr>\n",
       "      <th>25%</th>\n",
       "      <td>3.967533e+07</td>\n",
       "      <td>3.967533e+07</td>\n",
       "      <td>492400.000000</td>\n",
       "      <td>75.300000</td>\n",
       "      <td>4.000000</td>\n",
       "      <td>13.000000</td>\n",
       "      <td>2.000000</td>\n",
       "      <td>NaN</td>\n",
       "    </tr>\n",
       "    <tr>\n",
       "      <th>50%</th>\n",
       "      <td>4.660840e+07</td>\n",
       "      <td>4.660840e+07</td>\n",
       "      <td>553700.000000</td>\n",
       "      <td>83.700000</td>\n",
       "      <td>7.000000</td>\n",
       "      <td>16.000000</td>\n",
       "      <td>2.000000</td>\n",
       "      <td>NaN</td>\n",
       "    </tr>\n",
       "    <tr>\n",
       "      <th>75%</th>\n",
       "      <td>5.826590e+07</td>\n",
       "      <td>5.826590e+07</td>\n",
       "      <td>594900.000000</td>\n",
       "      <td>116.800000</td>\n",
       "      <td>11.000000</td>\n",
       "      <td>21.000000</td>\n",
       "      <td>3.000000</td>\n",
       "      <td>NaN</td>\n",
       "    </tr>\n",
       "    <tr>\n",
       "      <th>max</th>\n",
       "      <td>1.175625e+08</td>\n",
       "      <td>1.175625e+08</td>\n",
       "      <td>857100.000000</td>\n",
       "      <td>165.400000</td>\n",
       "      <td>21.000000</td>\n",
       "      <td>21.000000</td>\n",
       "      <td>5.000000</td>\n",
       "      <td>NaN</td>\n",
       "    </tr>\n",
       "  </tbody>\n",
       "</table>\n",
       "</div>"
      ],
      "text/plain": [
       "              price    price_sale  avg_price_per_metr  apartment_area  \\\n",
       "count  1.377000e+03  1.377000e+03         1377.000000     1377.000000   \n",
       "mean   5.059994e+07  5.059994e+07       553535.729847       92.384604   \n",
       "std    1.849409e+07  1.849409e+07        82663.229388       30.689436   \n",
       "min    1.818576e+07  1.818576e+07       403900.000000       26.900000   \n",
       "25%    3.967533e+07  3.967533e+07       492400.000000       75.300000   \n",
       "50%    4.660840e+07  4.660840e+07       553700.000000       83.700000   \n",
       "75%    5.826590e+07  5.826590e+07       594900.000000      116.800000   \n",
       "max    1.175625e+08  1.175625e+08       857100.000000      165.400000   \n",
       "\n",
       "       apartment_floor  apartment_floors_total  apartment_room  apartment_ppm  \n",
       "count      1377.000000             1377.000000     1377.000000            0.0  \n",
       "mean          8.286855               16.469136        2.470588            NaN  \n",
       "std           4.898363                3.628751        0.987958            NaN  \n",
       "min           2.000000               13.000000        0.000000            NaN  \n",
       "25%           4.000000               13.000000        2.000000            NaN  \n",
       "50%           7.000000               16.000000        2.000000            NaN  \n",
       "75%          11.000000               21.000000        3.000000            NaN  \n",
       "max          21.000000               21.000000        5.000000            NaN  "
      ]
     },
     "execution_count": 13,
     "metadata": {},
     "output_type": "execute_result"
    }
   ],
   "source": [
    "all_room.loc[all_room['brand'].str.contains(\"donstroy.moscow\") & all_room['title'].str.contains(\"Остров.4\")].describe()#[1:2]"
   ]
  },
  {
   "cell_type": "code",
   "execution_count": 14,
   "id": "5992ac6d-2954-4d99-b227-81d3120c0f71",
   "metadata": {},
   "outputs": [
    {
     "data": {
      "text/html": [
       "<div>\n",
       "<style scoped>\n",
       "    .dataframe tbody tr th:only-of-type {\n",
       "        vertical-align: middle;\n",
       "    }\n",
       "\n",
       "    .dataframe tbody tr th {\n",
       "        vertical-align: top;\n",
       "    }\n",
       "\n",
       "    .dataframe thead th {\n",
       "        text-align: right;\n",
       "    }\n",
       "</style>\n",
       "<table border=\"1\" class=\"dataframe\">\n",
       "  <thead>\n",
       "    <tr style=\"text-align: right;\">\n",
       "      <th></th>\n",
       "      <th>price</th>\n",
       "      <th>price_sale</th>\n",
       "      <th>avg_price_per_metr</th>\n",
       "      <th>apartment_area</th>\n",
       "      <th>apartment_floor</th>\n",
       "      <th>apartment_floors_total</th>\n",
       "      <th>apartment_room</th>\n",
       "      <th>apartment_ppm</th>\n",
       "    </tr>\n",
       "  </thead>\n",
       "  <tbody>\n",
       "    <tr>\n",
       "      <th>count</th>\n",
       "      <td>8.430000e+02</td>\n",
       "      <td>8.430000e+02</td>\n",
       "      <td>843.000000</td>\n",
       "      <td>843.000000</td>\n",
       "      <td>843.000000</td>\n",
       "      <td>843.000000</td>\n",
       "      <td>843.000000</td>\n",
       "      <td>0.0</td>\n",
       "    </tr>\n",
       "    <tr>\n",
       "      <th>mean</th>\n",
       "      <td>4.029856e+07</td>\n",
       "      <td>4.029856e+07</td>\n",
       "      <td>590199.525504</td>\n",
       "      <td>69.717082</td>\n",
       "      <td>15.150652</td>\n",
       "      <td>20.383155</td>\n",
       "      <td>1.989324</td>\n",
       "      <td>NaN</td>\n",
       "    </tr>\n",
       "    <tr>\n",
       "      <th>std</th>\n",
       "      <td>1.784309e+07</td>\n",
       "      <td>1.784309e+07</td>\n",
       "      <td>54186.788757</td>\n",
       "      <td>32.638928</td>\n",
       "      <td>4.656600</td>\n",
       "      <td>1.265869</td>\n",
       "      <td>1.116122</td>\n",
       "      <td>NaN</td>\n",
       "    </tr>\n",
       "    <tr>\n",
       "      <th>min</th>\n",
       "      <td>1.783226e+07</td>\n",
       "      <td>1.783226e+07</td>\n",
       "      <td>457500.000000</td>\n",
       "      <td>28.100000</td>\n",
       "      <td>3.000000</td>\n",
       "      <td>19.000000</td>\n",
       "      <td>0.000000</td>\n",
       "      <td>NaN</td>\n",
       "    </tr>\n",
       "    <tr>\n",
       "      <th>25%</th>\n",
       "      <td>2.665014e+07</td>\n",
       "      <td>2.665014e+07</td>\n",
       "      <td>553350.000000</td>\n",
       "      <td>44.700000</td>\n",
       "      <td>12.000000</td>\n",
       "      <td>19.000000</td>\n",
       "      <td>1.000000</td>\n",
       "      <td>NaN</td>\n",
       "    </tr>\n",
       "    <tr>\n",
       "      <th>50%</th>\n",
       "      <td>3.645330e+07</td>\n",
       "      <td>3.645330e+07</td>\n",
       "      <td>589700.000000</td>\n",
       "      <td>64.800000</td>\n",
       "      <td>16.000000</td>\n",
       "      <td>21.000000</td>\n",
       "      <td>2.000000</td>\n",
       "      <td>NaN</td>\n",
       "    </tr>\n",
       "    <tr>\n",
       "      <th>75%</th>\n",
       "      <td>4.754750e+07</td>\n",
       "      <td>4.754750e+07</td>\n",
       "      <td>611700.000000</td>\n",
       "      <td>87.300000</td>\n",
       "      <td>19.000000</td>\n",
       "      <td>21.000000</td>\n",
       "      <td>3.000000</td>\n",
       "      <td>NaN</td>\n",
       "    </tr>\n",
       "    <tr>\n",
       "      <th>max</th>\n",
       "      <td>8.699376e+07</td>\n",
       "      <td>8.699376e+07</td>\n",
       "      <td>777600.000000</td>\n",
       "      <td>142.800000</td>\n",
       "      <td>22.000000</td>\n",
       "      <td>22.000000</td>\n",
       "      <td>5.000000</td>\n",
       "      <td>NaN</td>\n",
       "    </tr>\n",
       "  </tbody>\n",
       "</table>\n",
       "</div>"
      ],
      "text/plain": [
       "              price    price_sale  avg_price_per_metr  apartment_area  \\\n",
       "count  8.430000e+02  8.430000e+02          843.000000      843.000000   \n",
       "mean   4.029856e+07  4.029856e+07       590199.525504       69.717082   \n",
       "std    1.784309e+07  1.784309e+07        54186.788757       32.638928   \n",
       "min    1.783226e+07  1.783226e+07       457500.000000       28.100000   \n",
       "25%    2.665014e+07  2.665014e+07       553350.000000       44.700000   \n",
       "50%    3.645330e+07  3.645330e+07       589700.000000       64.800000   \n",
       "75%    4.754750e+07  4.754750e+07       611700.000000       87.300000   \n",
       "max    8.699376e+07  8.699376e+07       777600.000000      142.800000   \n",
       "\n",
       "       apartment_floor  apartment_floors_total  apartment_room  apartment_ppm  \n",
       "count       843.000000              843.000000      843.000000            0.0  \n",
       "mean         15.150652               20.383155        1.989324            NaN  \n",
       "std           4.656600                1.265869        1.116122            NaN  \n",
       "min           3.000000               19.000000        0.000000            NaN  \n",
       "25%          12.000000               19.000000        1.000000            NaN  \n",
       "50%          16.000000               21.000000        2.000000            NaN  \n",
       "75%          19.000000               21.000000        3.000000            NaN  \n",
       "max          22.000000               22.000000        5.000000            NaN  "
      ]
     },
     "execution_count": 14,
     "metadata": {},
     "output_type": "execute_result"
    }
   ],
   "source": [
    "all_room.loc[all_room['brand'].str.contains(\"donstroy.moscow\") & all_room['title'].str.contains(\"Остров.5\")].describe()#[1:2]"
   ]
  },
  {
   "cell_type": "code",
   "execution_count": 15,
   "id": "5f2d2796-d8c7-4cda-aca3-8d6e2e596302",
   "metadata": {},
   "outputs": [
    {
     "data": {
      "text/html": [
       "<div>\n",
       "<style scoped>\n",
       "    .dataframe tbody tr th:only-of-type {\n",
       "        vertical-align: middle;\n",
       "    }\n",
       "\n",
       "    .dataframe tbody tr th {\n",
       "        vertical-align: top;\n",
       "    }\n",
       "\n",
       "    .dataframe thead th {\n",
       "        text-align: right;\n",
       "    }\n",
       "</style>\n",
       "<table border=\"1\" class=\"dataframe\">\n",
       "  <thead>\n",
       "    <tr style=\"text-align: right;\">\n",
       "      <th></th>\n",
       "      <th>price</th>\n",
       "      <th>price_sale</th>\n",
       "      <th>avg_price_per_metr</th>\n",
       "      <th>apartment_area</th>\n",
       "      <th>apartment_floor</th>\n",
       "      <th>apartment_floors_total</th>\n",
       "      <th>apartment_room</th>\n",
       "      <th>apartment_ppm</th>\n",
       "    </tr>\n",
       "  </thead>\n",
       "  <tbody>\n",
       "    <tr>\n",
       "      <th>count</th>\n",
       "      <td>9.810000e+02</td>\n",
       "      <td>9.810000e+02</td>\n",
       "      <td>981.000000</td>\n",
       "      <td>981.000000</td>\n",
       "      <td>981.000000</td>\n",
       "      <td>981.000000</td>\n",
       "      <td>981.000000</td>\n",
       "      <td>0.0</td>\n",
       "    </tr>\n",
       "    <tr>\n",
       "      <th>mean</th>\n",
       "      <td>3.906245e+07</td>\n",
       "      <td>3.906245e+07</td>\n",
       "      <td>559783.588175</td>\n",
       "      <td>70.118552</td>\n",
       "      <td>11.093782</td>\n",
       "      <td>21.269113</td>\n",
       "      <td>2.155963</td>\n",
       "      <td>NaN</td>\n",
       "    </tr>\n",
       "    <tr>\n",
       "      <th>std</th>\n",
       "      <td>1.581678e+07</td>\n",
       "      <td>1.581678e+07</td>\n",
       "      <td>47605.362691</td>\n",
       "      <td>27.547119</td>\n",
       "      <td>5.556700</td>\n",
       "      <td>0.955625</td>\n",
       "      <td>0.978930</td>\n",
       "      <td>NaN</td>\n",
       "    </tr>\n",
       "    <tr>\n",
       "      <th>min</th>\n",
       "      <td>1.842080e+07</td>\n",
       "      <td>1.842080e+07</td>\n",
       "      <td>433700.000000</td>\n",
       "      <td>29.000000</td>\n",
       "      <td>2.000000</td>\n",
       "      <td>19.000000</td>\n",
       "      <td>0.000000</td>\n",
       "      <td>NaN</td>\n",
       "    </tr>\n",
       "    <tr>\n",
       "      <th>25%</th>\n",
       "      <td>2.977881e+07</td>\n",
       "      <td>2.977881e+07</td>\n",
       "      <td>525500.000000</td>\n",
       "      <td>55.100000</td>\n",
       "      <td>6.000000</td>\n",
       "      <td>21.000000</td>\n",
       "      <td>2.000000</td>\n",
       "      <td>NaN</td>\n",
       "    </tr>\n",
       "    <tr>\n",
       "      <th>50%</th>\n",
       "      <td>3.487356e+07</td>\n",
       "      <td>3.487356e+07</td>\n",
       "      <td>554600.000000</td>\n",
       "      <td>65.300000</td>\n",
       "      <td>12.000000</td>\n",
       "      <td>22.000000</td>\n",
       "      <td>2.000000</td>\n",
       "      <td>NaN</td>\n",
       "    </tr>\n",
       "    <tr>\n",
       "      <th>75%</th>\n",
       "      <td>4.316487e+07</td>\n",
       "      <td>4.316487e+07</td>\n",
       "      <td>588900.000000</td>\n",
       "      <td>77.200000</td>\n",
       "      <td>16.000000</td>\n",
       "      <td>22.000000</td>\n",
       "      <td>3.000000</td>\n",
       "      <td>NaN</td>\n",
       "    </tr>\n",
       "    <tr>\n",
       "      <th>max</th>\n",
       "      <td>9.028286e+07</td>\n",
       "      <td>9.028286e+07</td>\n",
       "      <td>709800.000000</td>\n",
       "      <td>144.700000</td>\n",
       "      <td>21.000000</td>\n",
       "      <td>22.000000</td>\n",
       "      <td>5.000000</td>\n",
       "      <td>NaN</td>\n",
       "    </tr>\n",
       "  </tbody>\n",
       "</table>\n",
       "</div>"
      ],
      "text/plain": [
       "              price    price_sale  avg_price_per_metr  apartment_area  \\\n",
       "count  9.810000e+02  9.810000e+02          981.000000      981.000000   \n",
       "mean   3.906245e+07  3.906245e+07       559783.588175       70.118552   \n",
       "std    1.581678e+07  1.581678e+07        47605.362691       27.547119   \n",
       "min    1.842080e+07  1.842080e+07       433700.000000       29.000000   \n",
       "25%    2.977881e+07  2.977881e+07       525500.000000       55.100000   \n",
       "50%    3.487356e+07  3.487356e+07       554600.000000       65.300000   \n",
       "75%    4.316487e+07  4.316487e+07       588900.000000       77.200000   \n",
       "max    9.028286e+07  9.028286e+07       709800.000000      144.700000   \n",
       "\n",
       "       apartment_floor  apartment_floors_total  apartment_room  apartment_ppm  \n",
       "count       981.000000              981.000000      981.000000            0.0  \n",
       "mean         11.093782               21.269113        2.155963            NaN  \n",
       "std           5.556700                0.955625        0.978930            NaN  \n",
       "min           2.000000               19.000000        0.000000            NaN  \n",
       "25%           6.000000               21.000000        2.000000            NaN  \n",
       "50%          12.000000               22.000000        2.000000            NaN  \n",
       "75%          16.000000               22.000000        3.000000            NaN  \n",
       "max          21.000000               22.000000        5.000000            NaN  "
      ]
     },
     "execution_count": 15,
     "metadata": {},
     "output_type": "execute_result"
    }
   ],
   "source": [
    "all_room.loc[all_room['brand'].str.contains(\"donstroy.moscow\") & all_room['title'].str.contains(\"Остров.6\")].describe()#[1:2]"
   ]
  },
  {
   "cell_type": "code",
   "execution_count": 16,
   "id": "8124c6e2-ac59-4658-b0c0-5f2a097dfee4",
   "metadata": {},
   "outputs": [
    {
     "data": {
      "text/html": [
       "<div>\n",
       "<style scoped>\n",
       "    .dataframe tbody tr th:only-of-type {\n",
       "        vertical-align: middle;\n",
       "    }\n",
       "\n",
       "    .dataframe tbody tr th {\n",
       "        vertical-align: top;\n",
       "    }\n",
       "\n",
       "    .dataframe thead th {\n",
       "        text-align: right;\n",
       "    }\n",
       "</style>\n",
       "<table border=\"1\" class=\"dataframe\">\n",
       "  <thead>\n",
       "    <tr style=\"text-align: right;\">\n",
       "      <th></th>\n",
       "      <th>price</th>\n",
       "      <th>price_sale</th>\n",
       "      <th>avg_price_per_metr</th>\n",
       "      <th>apartment_area</th>\n",
       "      <th>apartment_floor</th>\n",
       "      <th>apartment_floors_total</th>\n",
       "      <th>apartment_room</th>\n",
       "      <th>apartment_ppm</th>\n",
       "    </tr>\n",
       "  </thead>\n",
       "  <tbody>\n",
       "    <tr>\n",
       "      <th>count</th>\n",
       "      <td>0.0</td>\n",
       "      <td>0.0</td>\n",
       "      <td>0.0</td>\n",
       "      <td>0.0</td>\n",
       "      <td>0.0</td>\n",
       "      <td>0.0</td>\n",
       "      <td>0.0</td>\n",
       "      <td>0.0</td>\n",
       "    </tr>\n",
       "    <tr>\n",
       "      <th>mean</th>\n",
       "      <td>NaN</td>\n",
       "      <td>NaN</td>\n",
       "      <td>NaN</td>\n",
       "      <td>NaN</td>\n",
       "      <td>NaN</td>\n",
       "      <td>NaN</td>\n",
       "      <td>NaN</td>\n",
       "      <td>NaN</td>\n",
       "    </tr>\n",
       "    <tr>\n",
       "      <th>std</th>\n",
       "      <td>NaN</td>\n",
       "      <td>NaN</td>\n",
       "      <td>NaN</td>\n",
       "      <td>NaN</td>\n",
       "      <td>NaN</td>\n",
       "      <td>NaN</td>\n",
       "      <td>NaN</td>\n",
       "      <td>NaN</td>\n",
       "    </tr>\n",
       "    <tr>\n",
       "      <th>min</th>\n",
       "      <td>NaN</td>\n",
       "      <td>NaN</td>\n",
       "      <td>NaN</td>\n",
       "      <td>NaN</td>\n",
       "      <td>NaN</td>\n",
       "      <td>NaN</td>\n",
       "      <td>NaN</td>\n",
       "      <td>NaN</td>\n",
       "    </tr>\n",
       "    <tr>\n",
       "      <th>25%</th>\n",
       "      <td>NaN</td>\n",
       "      <td>NaN</td>\n",
       "      <td>NaN</td>\n",
       "      <td>NaN</td>\n",
       "      <td>NaN</td>\n",
       "      <td>NaN</td>\n",
       "      <td>NaN</td>\n",
       "      <td>NaN</td>\n",
       "    </tr>\n",
       "    <tr>\n",
       "      <th>50%</th>\n",
       "      <td>NaN</td>\n",
       "      <td>NaN</td>\n",
       "      <td>NaN</td>\n",
       "      <td>NaN</td>\n",
       "      <td>NaN</td>\n",
       "      <td>NaN</td>\n",
       "      <td>NaN</td>\n",
       "      <td>NaN</td>\n",
       "    </tr>\n",
       "    <tr>\n",
       "      <th>75%</th>\n",
       "      <td>NaN</td>\n",
       "      <td>NaN</td>\n",
       "      <td>NaN</td>\n",
       "      <td>NaN</td>\n",
       "      <td>NaN</td>\n",
       "      <td>NaN</td>\n",
       "      <td>NaN</td>\n",
       "      <td>NaN</td>\n",
       "    </tr>\n",
       "    <tr>\n",
       "      <th>max</th>\n",
       "      <td>NaN</td>\n",
       "      <td>NaN</td>\n",
       "      <td>NaN</td>\n",
       "      <td>NaN</td>\n",
       "      <td>NaN</td>\n",
       "      <td>NaN</td>\n",
       "      <td>NaN</td>\n",
       "      <td>NaN</td>\n",
       "    </tr>\n",
       "  </tbody>\n",
       "</table>\n",
       "</div>"
      ],
      "text/plain": [
       "       price  price_sale  avg_price_per_metr  apartment_area  apartment_floor  \\\n",
       "count    0.0         0.0                 0.0             0.0              0.0   \n",
       "mean     NaN         NaN                 NaN             NaN              NaN   \n",
       "std      NaN         NaN                 NaN             NaN              NaN   \n",
       "min      NaN         NaN                 NaN             NaN              NaN   \n",
       "25%      NaN         NaN                 NaN             NaN              NaN   \n",
       "50%      NaN         NaN                 NaN             NaN              NaN   \n",
       "75%      NaN         NaN                 NaN             NaN              NaN   \n",
       "max      NaN         NaN                 NaN             NaN              NaN   \n",
       "\n",
       "       apartment_floors_total  apartment_room  apartment_ppm  \n",
       "count                     0.0             0.0            0.0  \n",
       "mean                      NaN             NaN            NaN  \n",
       "std                       NaN             NaN            NaN  \n",
       "min                       NaN             NaN            NaN  \n",
       "25%                       NaN             NaN            NaN  \n",
       "50%                       NaN             NaN            NaN  \n",
       "75%                       NaN             NaN            NaN  \n",
       "max                       NaN             NaN            NaN  "
      ]
     },
     "execution_count": 16,
     "metadata": {},
     "output_type": "execute_result"
    }
   ],
   "source": [
    "all_room.loc[all_room['brand'].str.contains(\"donstroy.moscow\") & all_room['title'].str.contains(\"Остров.7\")].describe()#[1:2]"
   ]
  },
  {
   "cell_type": "code",
   "execution_count": 17,
   "id": "16c3547d-e11a-45ec-823a-e7e2bc7f6092",
   "metadata": {},
   "outputs": [
    {
     "data": {
      "text/html": [
       "<div>\n",
       "<style scoped>\n",
       "    .dataframe tbody tr th:only-of-type {\n",
       "        vertical-align: middle;\n",
       "    }\n",
       "\n",
       "    .dataframe tbody tr th {\n",
       "        vertical-align: top;\n",
       "    }\n",
       "\n",
       "    .dataframe thead th {\n",
       "        text-align: right;\n",
       "    }\n",
       "</style>\n",
       "<table border=\"1\" class=\"dataframe\">\n",
       "  <thead>\n",
       "    <tr style=\"text-align: right;\">\n",
       "      <th></th>\n",
       "      <th>price</th>\n",
       "      <th>price_sale</th>\n",
       "      <th>avg_price_per_metr</th>\n",
       "      <th>apartment_area</th>\n",
       "      <th>apartment_floor</th>\n",
       "      <th>apartment_floors_total</th>\n",
       "      <th>apartment_room</th>\n",
       "      <th>apartment_ppm</th>\n",
       "    </tr>\n",
       "  </thead>\n",
       "  <tbody>\n",
       "    <tr>\n",
       "      <th>count</th>\n",
       "      <td>1.700000e+01</td>\n",
       "      <td>1.700000e+01</td>\n",
       "      <td>17.000000</td>\n",
       "      <td>17.000000</td>\n",
       "      <td>17.000000</td>\n",
       "      <td>17.0</td>\n",
       "      <td>17.000000</td>\n",
       "      <td>0.0</td>\n",
       "    </tr>\n",
       "    <tr>\n",
       "      <th>mean</th>\n",
       "      <td>5.129702e+07</td>\n",
       "      <td>5.129702e+07</td>\n",
       "      <td>497694.117647</td>\n",
       "      <td>102.617647</td>\n",
       "      <td>16.647059</td>\n",
       "      <td>19.0</td>\n",
       "      <td>3.411765</td>\n",
       "      <td>NaN</td>\n",
       "    </tr>\n",
       "    <tr>\n",
       "      <th>std</th>\n",
       "      <td>1.466625e+07</td>\n",
       "      <td>1.466625e+07</td>\n",
       "      <td>38790.148082</td>\n",
       "      <td>25.081996</td>\n",
       "      <td>3.673234</td>\n",
       "      <td>0.0</td>\n",
       "      <td>0.795206</td>\n",
       "      <td>NaN</td>\n",
       "    </tr>\n",
       "    <tr>\n",
       "      <th>min</th>\n",
       "      <td>4.063376e+07</td>\n",
       "      <td>4.063376e+07</td>\n",
       "      <td>428600.000000</td>\n",
       "      <td>87.100000</td>\n",
       "      <td>4.000000</td>\n",
       "      <td>19.0</td>\n",
       "      <td>3.000000</td>\n",
       "      <td>NaN</td>\n",
       "    </tr>\n",
       "    <tr>\n",
       "      <th>25%</th>\n",
       "      <td>4.329016e+07</td>\n",
       "      <td>4.329016e+07</td>\n",
       "      <td>472600.000000</td>\n",
       "      <td>87.100000</td>\n",
       "      <td>15.000000</td>\n",
       "      <td>19.0</td>\n",
       "      <td>3.000000</td>\n",
       "      <td>NaN</td>\n",
       "    </tr>\n",
       "    <tr>\n",
       "      <th>50%</th>\n",
       "      <td>4.605848e+07</td>\n",
       "      <td>4.605848e+07</td>\n",
       "      <td>528800.000000</td>\n",
       "      <td>91.600000</td>\n",
       "      <td>18.000000</td>\n",
       "      <td>19.0</td>\n",
       "      <td>3.000000</td>\n",
       "      <td>NaN</td>\n",
       "    </tr>\n",
       "    <tr>\n",
       "      <th>75%</th>\n",
       "      <td>4.605848e+07</td>\n",
       "      <td>4.605848e+07</td>\n",
       "      <td>528800.000000</td>\n",
       "      <td>91.600000</td>\n",
       "      <td>19.000000</td>\n",
       "      <td>19.0</td>\n",
       "      <td>3.000000</td>\n",
       "      <td>NaN</td>\n",
       "    </tr>\n",
       "    <tr>\n",
       "      <th>max</th>\n",
       "      <td>8.142552e+07</td>\n",
       "      <td>8.142552e+07</td>\n",
       "      <td>536400.000000</td>\n",
       "      <td>151.800000</td>\n",
       "      <td>19.000000</td>\n",
       "      <td>19.0</td>\n",
       "      <td>5.000000</td>\n",
       "      <td>NaN</td>\n",
       "    </tr>\n",
       "  </tbody>\n",
       "</table>\n",
       "</div>"
      ],
      "text/plain": [
       "              price    price_sale  avg_price_per_metr  apartment_area  \\\n",
       "count  1.700000e+01  1.700000e+01           17.000000       17.000000   \n",
       "mean   5.129702e+07  5.129702e+07       497694.117647      102.617647   \n",
       "std    1.466625e+07  1.466625e+07        38790.148082       25.081996   \n",
       "min    4.063376e+07  4.063376e+07       428600.000000       87.100000   \n",
       "25%    4.329016e+07  4.329016e+07       472600.000000       87.100000   \n",
       "50%    4.605848e+07  4.605848e+07       528800.000000       91.600000   \n",
       "75%    4.605848e+07  4.605848e+07       528800.000000       91.600000   \n",
       "max    8.142552e+07  8.142552e+07       536400.000000      151.800000   \n",
       "\n",
       "       apartment_floor  apartment_floors_total  apartment_room  apartment_ppm  \n",
       "count        17.000000                    17.0       17.000000            0.0  \n",
       "mean         16.647059                    19.0        3.411765            NaN  \n",
       "std           3.673234                     0.0        0.795206            NaN  \n",
       "min           4.000000                    19.0        3.000000            NaN  \n",
       "25%          15.000000                    19.0        3.000000            NaN  \n",
       "50%          18.000000                    19.0        3.000000            NaN  \n",
       "75%          19.000000                    19.0        3.000000            NaN  \n",
       "max          19.000000                    19.0        5.000000            NaN  "
      ]
     },
     "execution_count": 17,
     "metadata": {},
     "output_type": "execute_result"
    }
   ],
   "source": [
    "all_room.loc[all_room['brand'].str.contains(\"donstroy.moscow\") & all_room['title'].str.contains(\"Остров.8\")].describe()#[1:2]"
   ]
  },
  {
   "cell_type": "code",
   "execution_count": 18,
   "id": "c4e75641-6ac2-470c-a3c0-d15c3f89f7bb",
   "metadata": {},
   "outputs": [
    {
     "data": {
      "text/html": [
       "<div>\n",
       "<style scoped>\n",
       "    .dataframe tbody tr th:only-of-type {\n",
       "        vertical-align: middle;\n",
       "    }\n",
       "\n",
       "    .dataframe tbody tr th {\n",
       "        vertical-align: top;\n",
       "    }\n",
       "\n",
       "    .dataframe thead th {\n",
       "        text-align: right;\n",
       "    }\n",
       "</style>\n",
       "<table border=\"1\" class=\"dataframe\">\n",
       "  <thead>\n",
       "    <tr style=\"text-align: right;\">\n",
       "      <th></th>\n",
       "      <th>price</th>\n",
       "      <th>price_sale</th>\n",
       "      <th>avg_price_per_metr</th>\n",
       "      <th>apartment_area</th>\n",
       "      <th>apartment_floor</th>\n",
       "      <th>apartment_floors_total</th>\n",
       "      <th>apartment_room</th>\n",
       "      <th>apartment_ppm</th>\n",
       "    </tr>\n",
       "  </thead>\n",
       "  <tbody>\n",
       "    <tr>\n",
       "      <th>count</th>\n",
       "      <td>0.0</td>\n",
       "      <td>0.0</td>\n",
       "      <td>0.0</td>\n",
       "      <td>0.0</td>\n",
       "      <td>0.0</td>\n",
       "      <td>0.0</td>\n",
       "      <td>0.0</td>\n",
       "      <td>0.0</td>\n",
       "    </tr>\n",
       "    <tr>\n",
       "      <th>mean</th>\n",
       "      <td>NaN</td>\n",
       "      <td>NaN</td>\n",
       "      <td>NaN</td>\n",
       "      <td>NaN</td>\n",
       "      <td>NaN</td>\n",
       "      <td>NaN</td>\n",
       "      <td>NaN</td>\n",
       "      <td>NaN</td>\n",
       "    </tr>\n",
       "    <tr>\n",
       "      <th>std</th>\n",
       "      <td>NaN</td>\n",
       "      <td>NaN</td>\n",
       "      <td>NaN</td>\n",
       "      <td>NaN</td>\n",
       "      <td>NaN</td>\n",
       "      <td>NaN</td>\n",
       "      <td>NaN</td>\n",
       "      <td>NaN</td>\n",
       "    </tr>\n",
       "    <tr>\n",
       "      <th>min</th>\n",
       "      <td>NaN</td>\n",
       "      <td>NaN</td>\n",
       "      <td>NaN</td>\n",
       "      <td>NaN</td>\n",
       "      <td>NaN</td>\n",
       "      <td>NaN</td>\n",
       "      <td>NaN</td>\n",
       "      <td>NaN</td>\n",
       "    </tr>\n",
       "    <tr>\n",
       "      <th>25%</th>\n",
       "      <td>NaN</td>\n",
       "      <td>NaN</td>\n",
       "      <td>NaN</td>\n",
       "      <td>NaN</td>\n",
       "      <td>NaN</td>\n",
       "      <td>NaN</td>\n",
       "      <td>NaN</td>\n",
       "      <td>NaN</td>\n",
       "    </tr>\n",
       "    <tr>\n",
       "      <th>50%</th>\n",
       "      <td>NaN</td>\n",
       "      <td>NaN</td>\n",
       "      <td>NaN</td>\n",
       "      <td>NaN</td>\n",
       "      <td>NaN</td>\n",
       "      <td>NaN</td>\n",
       "      <td>NaN</td>\n",
       "      <td>NaN</td>\n",
       "    </tr>\n",
       "    <tr>\n",
       "      <th>75%</th>\n",
       "      <td>NaN</td>\n",
       "      <td>NaN</td>\n",
       "      <td>NaN</td>\n",
       "      <td>NaN</td>\n",
       "      <td>NaN</td>\n",
       "      <td>NaN</td>\n",
       "      <td>NaN</td>\n",
       "      <td>NaN</td>\n",
       "    </tr>\n",
       "    <tr>\n",
       "      <th>max</th>\n",
       "      <td>NaN</td>\n",
       "      <td>NaN</td>\n",
       "      <td>NaN</td>\n",
       "      <td>NaN</td>\n",
       "      <td>NaN</td>\n",
       "      <td>NaN</td>\n",
       "      <td>NaN</td>\n",
       "      <td>NaN</td>\n",
       "    </tr>\n",
       "  </tbody>\n",
       "</table>\n",
       "</div>"
      ],
      "text/plain": [
       "       price  price_sale  avg_price_per_metr  apartment_area  apartment_floor  \\\n",
       "count    0.0         0.0                 0.0             0.0              0.0   \n",
       "mean     NaN         NaN                 NaN             NaN              NaN   \n",
       "std      NaN         NaN                 NaN             NaN              NaN   \n",
       "min      NaN         NaN                 NaN             NaN              NaN   \n",
       "25%      NaN         NaN                 NaN             NaN              NaN   \n",
       "50%      NaN         NaN                 NaN             NaN              NaN   \n",
       "75%      NaN         NaN                 NaN             NaN              NaN   \n",
       "max      NaN         NaN                 NaN             NaN              NaN   \n",
       "\n",
       "       apartment_floors_total  apartment_room  apartment_ppm  \n",
       "count                     0.0             0.0            0.0  \n",
       "mean                      NaN             NaN            NaN  \n",
       "std                       NaN             NaN            NaN  \n",
       "min                       NaN             NaN            NaN  \n",
       "25%                       NaN             NaN            NaN  \n",
       "50%                       NaN             NaN            NaN  \n",
       "75%                       NaN             NaN            NaN  \n",
       "max                       NaN             NaN            NaN  "
      ]
     },
     "execution_count": 18,
     "metadata": {},
     "output_type": "execute_result"
    }
   ],
   "source": [
    "all_room.loc[all_room['brand'].str.contains(\"donstroy.moscow\") & all_room['title'].str.contains(\"Остров.9\")].describe()#[1:2]"
   ]
  },
  {
   "cell_type": "code",
   "execution_count": 19,
   "id": "ff660c29-12dd-463c-8602-402dca50c7a6",
   "metadata": {},
   "outputs": [
    {
     "data": {
      "text/html": [
       "<div>\n",
       "<style scoped>\n",
       "    .dataframe tbody tr th:only-of-type {\n",
       "        vertical-align: middle;\n",
       "    }\n",
       "\n",
       "    .dataframe tbody tr th {\n",
       "        vertical-align: top;\n",
       "    }\n",
       "\n",
       "    .dataframe thead th {\n",
       "        text-align: right;\n",
       "    }\n",
       "</style>\n",
       "<table border=\"1\" class=\"dataframe\">\n",
       "  <thead>\n",
       "    <tr style=\"text-align: right;\">\n",
       "      <th></th>\n",
       "      <th>title</th>\n",
       "      <th>price</th>\n",
       "      <th>price_sale</th>\n",
       "      <th>avg_price_per_metr</th>\n",
       "      <th>datetime_create</th>\n",
       "      <th>brand</th>\n",
       "      <th>apartment_area</th>\n",
       "      <th>apartment_floor</th>\n",
       "      <th>apartment_floors_total</th>\n",
       "      <th>apartment_room</th>\n",
       "      <th>apartment_ppm</th>\n",
       "    </tr>\n",
       "  </thead>\n",
       "  <tbody>\n",
       "    <tr>\n",
       "      <th>1</th>\n",
       "      <td>ДОМ XXII 0 Корпус 1, 1 секц 8 163.2</td>\n",
       "      <td>0</td>\n",
       "      <td>0</td>\n",
       "      <td>0.0</td>\n",
       "      <td>2024-02-15</td>\n",
       "      <td>donstroy.moscow</td>\n",
       "      <td>163.2</td>\n",
       "      <td>8.0</td>\n",
       "      <td>12.0</td>\n",
       "      <td>4.0</td>\n",
       "      <td>NaN</td>\n",
       "    </tr>\n",
       "    <tr>\n",
       "      <th>2</th>\n",
       "      <td>ДОМ XXII 0 Корпус 1, 3 секц 4 152.1</td>\n",
       "      <td>0</td>\n",
       "      <td>0</td>\n",
       "      <td>0.0</td>\n",
       "      <td>2024-02-15</td>\n",
       "      <td>donstroy.moscow</td>\n",
       "      <td>152.1</td>\n",
       "      <td>4.0</td>\n",
       "      <td>12.0</td>\n",
       "      <td>4.0</td>\n",
       "      <td>NaN</td>\n",
       "    </tr>\n",
       "  </tbody>\n",
       "</table>\n",
       "</div>"
      ],
      "text/plain": [
       "                                 title  price  price_sale  avg_price_per_metr  \\\n",
       "1  ДОМ XXII 0 Корпус 1, 1 секц 8 163.2      0           0                 0.0   \n",
       "2  ДОМ XXII 0 Корпус 1, 3 секц 4 152.1      0           0                 0.0   \n",
       "\n",
       "  datetime_create            brand  apartment_area  apartment_floor  \\\n",
       "1      2024-02-15  donstroy.moscow           163.2              8.0   \n",
       "2      2024-02-15  donstroy.moscow           152.1              4.0   \n",
       "\n",
       "   apartment_floors_total  apartment_room  apartment_ppm  \n",
       "1                    12.0             4.0            NaN  \n",
       "2                    12.0             4.0            NaN  "
      ]
     },
     "execution_count": 19,
     "metadata": {},
     "output_type": "execute_result"
    }
   ],
   "source": [
    "all_room[1:3]"
   ]
  },
  {
   "cell_type": "code",
   "execution_count": 20,
   "id": "c9d39804-d408-4b52-9da3-7b5174bb1bde",
   "metadata": {},
   "outputs": [],
   "source": [
    "donstroy_moscow_all_room = all_room.loc[all_room['datetime_create'] != '2024-02-09']"
   ]
  },
  {
   "cell_type": "code",
   "execution_count": 21,
   "id": "f1b6677c-04b1-4db6-98c5-437085677fe4",
   "metadata": {},
   "outputs": [
    {
     "data": {
      "text/html": [
       "<div>\n",
       "<style scoped>\n",
       "    .dataframe tbody tr th:only-of-type {\n",
       "        vertical-align: middle;\n",
       "    }\n",
       "\n",
       "    .dataframe tbody tr th {\n",
       "        vertical-align: top;\n",
       "    }\n",
       "\n",
       "    .dataframe thead th {\n",
       "        text-align: right;\n",
       "    }\n",
       "</style>\n",
       "<table border=\"1\" class=\"dataframe\">\n",
       "  <thead>\n",
       "    <tr style=\"text-align: right;\">\n",
       "      <th></th>\n",
       "      <th>title</th>\n",
       "      <th>price</th>\n",
       "      <th>price_sale</th>\n",
       "      <th>avg_price_per_metr</th>\n",
       "      <th>datetime_create</th>\n",
       "      <th>brand</th>\n",
       "      <th>apartment_area</th>\n",
       "      <th>apartment_floor</th>\n",
       "      <th>apartment_floors_total</th>\n",
       "      <th>apartment_room</th>\n",
       "      <th>apartment_ppm</th>\n",
       "    </tr>\n",
       "  </thead>\n",
       "  <tbody>\n",
       "    <tr>\n",
       "      <th>76</th>\n",
       "      <td>Остров Остров.6 Корпус 5, 1 секц 19 143.9</td>\n",
       "      <td>90282860</td>\n",
       "      <td>90282860</td>\n",
       "      <td>627400.0</td>\n",
       "      <td>2024-02-15</td>\n",
       "      <td>donstroy.moscow</td>\n",
       "      <td>143.9</td>\n",
       "      <td>19.0</td>\n",
       "      <td>21.0</td>\n",
       "      <td>4.0</td>\n",
       "      <td>NaN</td>\n",
       "    </tr>\n",
       "    <tr>\n",
       "      <th>84</th>\n",
       "      <td>Остров Остров.6 Корпус 4, 2 секц 15 142.8</td>\n",
       "      <td>87564960</td>\n",
       "      <td>87564960</td>\n",
       "      <td>613200.0</td>\n",
       "      <td>2024-02-15</td>\n",
       "      <td>donstroy.moscow</td>\n",
       "      <td>142.8</td>\n",
       "      <td>15.0</td>\n",
       "      <td>19.0</td>\n",
       "      <td>4.0</td>\n",
       "      <td>NaN</td>\n",
       "    </tr>\n",
       "  </tbody>\n",
       "</table>\n",
       "</div>"
      ],
      "text/plain": [
       "                                        title     price  price_sale  \\\n",
       "76  Остров Остров.6 Корпус 5, 1 секц 19 143.9  90282860    90282860   \n",
       "84  Остров Остров.6 Корпус 4, 2 секц 15 142.8  87564960    87564960   \n",
       "\n",
       "    avg_price_per_metr datetime_create            brand  apartment_area  \\\n",
       "76            627400.0      2024-02-15  donstroy.moscow           143.9   \n",
       "84            613200.0      2024-02-15  donstroy.moscow           142.8   \n",
       "\n",
       "    apartment_floor  apartment_floors_total  apartment_room  apartment_ppm  \n",
       "76             19.0                    21.0             4.0            NaN  \n",
       "84             15.0                    19.0             4.0            NaN  "
      ]
     },
     "execution_count": 21,
     "metadata": {},
     "output_type": "execute_result"
    }
   ],
   "source": [
    "donstroy_moscow_all_room.loc[all_room['brand'].str.contains(\"donstroy.moscow\")  & all_room['title'].str.contains(\"Остров.6\")][:2]"
   ]
  },
  {
   "cell_type": "code",
   "execution_count": 22,
   "id": "5635fe8e-b86d-4cd0-a5e6-cfc8d43e1c17",
   "metadata": {},
   "outputs": [],
   "source": [
    "donstroy_moscow_room_group_by_date = donstroy_moscow_all_room.loc[all_room['brand'].str.contains(\"donstroy.moscow\")].groupby(['datetime_create'])"
   ]
  },
  {
   "cell_type": "code",
   "execution_count": 23,
   "id": "5045f722-fdb6-473e-9e21-e2831c7a66f2",
   "metadata": {},
   "outputs": [],
   "source": [
    "donstroy_moscow_room_group_by_date_mean = donstroy_moscow_room_group_by_date[[\"price\", \"avg_price_per_metr\",\"apartment_area\",\"apartment_room\"]].mean()\n",
    "donstroy_moscow_room_group_by_date_count = donstroy_moscow_room_group_by_date[[\"price\"]].count()"
   ]
  },
  {
   "cell_type": "code",
   "execution_count": 24,
   "id": "b3f88166-992d-4ae0-816e-3026e93b1f9a",
   "metadata": {},
   "outputs": [
    {
     "data": {
      "text/plain": [
       "Text(0, 0.5, 'количество представленных квартир для продажи в комапании')"
      ]
     },
     "execution_count": 24,
     "metadata": {},
     "output_type": "execute_result"
    },
    {
     "data": {
      "image/png": "[encoded data removed]",
      "text/plain": [
       "<Figure size 400x200 with 1 Axes>"
      ]
     },
     "metadata": {},
     "output_type": "display_data"
    }
   ],
   "source": [
    "plt.figure(figsize=(4,2))\n",
    "plt.scatter(donstroy_moscow_room_group_by_date_count.index,donstroy_moscow_room_group_by_date_count[\"price\"], alpha=0.4)\n",
    "plt.xlabel(\"дата\")\n",
    "plt.ylabel(\"количество представленных квартир для продажи в комапании\")"
   ]
  },
  {
   "cell_type": "code",
   "execution_count": 25,
   "id": "b2460222-34fe-4094-a124-b961403a4691",
   "metadata": {},
   "outputs": [
    {
     "data": {
      "text/plain": [
       "Text(0, 0.5, 'среденяя цена квартир представленных для продажи в комапании')"
      ]
     },
     "execution_count": 25,
     "metadata": {},
     "output_type": "execute_result"
    },
    {
     "data": {
      "image/png": "[encoded data removed]",
      "text/plain": [
       "<Figure size 400x200 with 1 Axes>"
      ]
     },
     "metadata": {},
     "output_type": "display_data"
    }
   ],
   "source": [
    "plt.figure(figsize=(4,2))\n",
    "plt.scatter(donstroy_moscow_room_group_by_date_mean.index,donstroy_moscow_room_group_by_date_mean[\"price\"], alpha=0.4)\n",
    "plt.xlabel(\"дата\")\n",
    "plt.ylabel(\"среденяя цена квартир представленных для продажи в комапании\")"
   ]
  },
  {
   "cell_type": "code",
   "execution_count": 26,
   "id": "6be86d28-5e55-4b68-83ff-a0573db39242",
   "metadata": {},
   "outputs": [
    {
     "data": {
      "text/plain": [
       "Text(0, 0.5, 'среденяя цена квадратного метра квартир представленных для продажи в комапании')"
      ]
     },
     "execution_count": 26,
     "metadata": {},
     "output_type": "execute_result"
    },
    {
     "data": {
      "image/png": "[encoded data removed]",
      "text/plain": [
       "<Figure size 400x200 with 1 Axes>"
      ]
     },
     "metadata": {},
     "output_type": "display_data"
    }
   ],
   "source": [
    "plt.figure(figsize=(4,2))\n",
    "plt.scatter(donstroy_moscow_room_group_by_date_mean.index,donstroy_moscow_room_group_by_date_mean[\"avg_price_per_metr\"], alpha=0.4)\n",
    "plt.xlabel(\"дата\")\n",
    "plt.ylabel(\"среденяя цена квадратного метра квартир представленных для продажи в комапании\")"
   ]
  },
  {
   "cell_type": "code",
   "execution_count": 27,
   "id": "9ddcb044-ccea-4150-8441-1bb152174873",
   "metadata": {},
   "outputs": [
    {
     "data": {
      "text/plain": [
       "Text(0, 0.5, 'средений размер квартир в метрах представленных для продажи в комапании')"
      ]
     },
     "execution_count": 27,
     "metadata": {},
     "output_type": "execute_result"
    },
    {
     "data": {
      "image/png": "[encoded data removed]",
      "text/plain": [
       "<Figure size 400x200 with 1 Axes>"
      ]
     },
     "metadata": {},
     "output_type": "display_data"
    }
   ],
   "source": [
    "plt.figure(figsize=(4,2))\n",
    "plt.scatter(donstroy_moscow_room_group_by_date_mean.index,donstroy_moscow_room_group_by_date_mean[\"apartment_area\"], alpha=0.4)\n",
    "plt.xlabel(\"дата\")\n",
    "plt.ylabel(\"средений размер квартир в метрах представленных для продажи в комапании\")"
   ]
  },
  {
   "cell_type": "code",
   "execution_count": 28,
   "id": "eaa17324-8259-4097-8625-0519c7b455c9",
   "metadata": {},
   "outputs": [
    {
     "data": {
      "text/plain": [
       "Text(0, 0.5, 'среденее число комнат в квартире представленных для продажи в комапании')"
      ]
     },
     "execution_count": 28,
     "metadata": {},
     "output_type": "execute_result"
    },
    {
     "data": {
      "image/png": "[encoded data removed]",
      "text/plain": [
       "<Figure size 400x200 with 1 Axes>"
      ]
     },
     "metadata": {},
     "output_type": "display_data"
    }
   ],
   "source": [
    "plt.figure(figsize=(4,2))\n",
    "plt.scatter(donstroy_moscow_room_group_by_date_mean.index,donstroy_moscow_room_group_by_date_mean[\"apartment_room\"], alpha=0.4)\n",
    "plt.xlabel(\"дата\")\n",
    "plt.ylabel(\"среденее число комнат в квартире представленных для продажи в комапании\")"
   ]
  },
  {
   "cell_type": "code",
   "execution_count": null,
   "id": "be31fa3d-8379-439a-a207-9e76f1e9781c",
   "metadata": {},
   "outputs": [],
   "source": []
  },
  {
   "cell_type": "code",
   "execution_count": 29,
   "id": "0e322214-3951-4138-83f6-fa1e80db446c",
   "metadata": {},
   "outputs": [],
   "source": [
    "# Кличетсво проданных квартир за вчера. Берем квартиры за день Х берем квартиры за день Х + 1. \n",
    "# Смотрим сколько картир пересаекается в эти дни. И сумму пересечения вычиаетм из дня X. Получаем скольк квартир продано в день X и так далее"
   ]
  },
  {
   "cell_type": "code",
   "execution_count": 30,
   "id": "2ad5e682-7321-4f89-b666-5490c1c420f9",
   "metadata": {},
   "outputs": [
    {
     "ename": "SyntaxError",
     "evalue": "unmatched ')' (947713069.py, line 3)",
     "output_type": "error",
     "traceback": [
      "\u001b[0;36m  Cell \u001b[0;32mIn[30], line 3\u001b[0;36m\u001b[0m\n\u001b[0;31m    for day in ('2024-02-09', '2024-02-10', '2024-02-11','2024-02-12','2024-02-13','2024-02-14','2024-02-15','2024-02-16')):\u001b[0m\n\u001b[0m                                                                                                                          ^\u001b[0m\n\u001b[0;31mSyntaxError\u001b[0m\u001b[0;31m:\u001b[0m unmatched ')'\n"
     ]
    }
   ],
   "source": [
    "day_x = []\n",
    "day_x_1 = []\n",
    "for day in ('2024-02-09', '2024-02-10', '2024-02-11','2024-02-12','2024-02-13','2024-02-14','2024-02-15','2024-02-16')):\n",
    "    print()\n",
    "    day_x = day_x_1[:]\n",
    "    #day_x_1 = donstroy_moscow_all_room.loc[(donstroy_moscow_all_room['brand'].str.contains(\"donstroy.moscow\")) & (donstroy_moscow_all_room['datetime_create']==day) ].values.tolist()\n",
    "    day_x_1 = donstroy_moscow_all_room.loc[(donstroy_moscow_all_room['brand'].str.contains(\"donstroy.moscow\")) & (donstroy_moscow_all_room['datetime_create']==day) ][['title','price','apartment_area','apartment_floor']].apply(tuple, axis=1)\n",
    "    cross = list(set(day_x) & set(day_x_1))\n",
    "    #print(cross)\n",
    "    print(1 if len(day_x) - len(day_x_1) !=  len(day_x) - len(cross) else 0,\n",
    "          len(day_x), \n",
    "          len(day_x_1), \n",
    "          len(cross), \n",
    "          len(day_x) - len(cross),\n",
    "          len(day_x) - len(day_x_1))\n",
    "    #print('----')"
   ]
  },
  {
   "cell_type": "code",
   "execution_count": null,
   "id": "8c02941a-5205-4ffd-a9d4-94c542d5f797",
   "metadata": {},
   "outputs": [],
   "source": [
    "#dd = donstroy_moscow_all_room.loc[all_room['title'].str.contains(\"Остров.6\")].groupby(['datetime_create'])"
   ]
  },
  {
   "cell_type": "code",
   "execution_count": null,
   "id": "bd818fa6-b21b-4f16-98fb-bec9441e646b",
   "metadata": {},
   "outputs": [],
   "source": [
    "dd = all_room.loc[all_room['datetime_create'] != '2024-02-09']\n",
    "dd = dd.loc[all_room['brand'].str.contains(\"donstroy.moscow\") & all_room['title'].str.contains(\"Остров\")].groupby(['datetime_create'])\n",
    "dd = dd[[\"price\"]].count()\n",
    "\n",
    "plt.figure(figsize=(4,2))\n",
    "plt.scatter(dd.index,dd[\"price\"], alpha=0.4)\n",
    "plt.xlabel(\"дата\")\n",
    "plt.ylabel(\"количество квартир\")"
   ]
  },
  {
   "cell_type": "code",
   "execution_count": null,
   "id": "d7d72806-7edc-496f-b35e-7e73c8dacb7e",
   "metadata": {},
   "outputs": [],
   "source": [
    "dd = all_room.loc[all_room['datetime_create'] != '2024-02-09']\n",
    "dd = dd.loc[all_room['brand'].str.contains(\"donstroy.moscow\") & all_room['title'].str.contains(\"Остров.6\")].groupby(['datetime_create'])\n",
    "dd = dd[[\"price\"]].count()\n",
    "\n",
    "plt.figure(figsize=(4,2))\n",
    "plt.scatter(dd.index,dd[\"price\"], alpha=0.4)\n",
    "plt.xlabel(\"дата\")\n",
    "plt.ylabel(\"количество квартир\")"
   ]
  },
  {
   "cell_type": "code",
   "execution_count": null,
   "id": "b9e364cd-cd28-4d35-a81f-90dd8e1376dc",
   "metadata": {},
   "outputs": [],
   "source": [
    "dd = all_room.loc[all_room['datetime_create'] != '2024-02-09']\n",
    "dd = dd.loc[all_room['brand'].str.contains(\"donstroy.moscow\") & all_room['title'].str.contains(\"Остров.6 Корпус 1\")].groupby(['datetime_create'])\n",
    "dd = dd[[\"price\"]].count()\n",
    "\n",
    "plt.figure(figsize=(4,2))\n",
    "plt.scatter(dd.index,dd[\"price\"], alpha=0.4)\n",
    "plt.xlabel(\"дата\")\n",
    "plt.ylabel(\"количество квартир\")"
   ]
  },
  {
   "cell_type": "code",
   "execution_count": null,
   "id": "aa46c89a-2b8f-40a4-b828-510db866ca2b",
   "metadata": {},
   "outputs": [],
   "source": [
    "#dd = all_room.loc[all_room['datetime_create'] != '2024-02-09']\n",
    "#dd.loc[(all_room['brand'].str.contains(\"donstroy.moscow\")) & (all_room['title'].str.contains(\"Остров.6 Корпус 1\")) & (all_room['datetime_create'] == '2024-02-14')]"
   ]
  },
  {
   "cell_type": "code",
   "execution_count": null,
   "id": "94a308b3-476f-4b8b-af23-beeddf1e4890",
   "metadata": {},
   "outputs": [],
   "source": [
    "#dd = all_room.loc[all_room['datetime_create'] != '2024-02-09']\n",
    "#dd.loc[(all_room['brand'].str.contains(\"donstroy.moscow\")) & (all_room['title'].str.contains(\"Остров.6 Корпус 1\")) & (all_room['datetime_create'] == '2024-02-13')]"
   ]
  },
  {
   "cell_type": "code",
   "execution_count": null,
   "id": "abcf6481-f8f6-49c4-b387-d78ace516517",
   "metadata": {},
   "outputs": [],
   "source": [
    "dd = all_room.loc[all_room['datetime_create'] != '2024-02-09']\n",
    "dd = dd.loc[all_room['brand'].str.contains(\"donstroy.moscow\") & all_room['title'].str.contains(\"Остров.5 Корпус 1\")].groupby(['datetime_create'])\n",
    "dd = dd[[\"price\"]].count()\n",
    "\n",
    "plt.figure(figsize=(4,2))\n",
    "plt.scatter(dd.index,dd[\"price\"], alpha=0.4)\n",
    "plt.xlabel(\"дата\")\n",
    "plt.ylabel(\"количество квартир\")"
   ]
  },
  {
   "cell_type": "code",
   "execution_count": null,
   "id": "8f4bb2ff-a029-47c7-a295-86364978d01b",
   "metadata": {},
   "outputs": [],
   "source": []
  },
  {
   "cell_type": "markdown",
   "id": "e014f93d-2288-4829-9abb-5f20d442b957",
   "metadata": {},
   "source": [
    "# Level"
   ]
  },
  {
   "cell_type": "code",
   "execution_count": null,
   "id": "a9e6929f-6312-4c4e-89a4-1ac3699e28f3",
   "metadata": {},
   "outputs": [],
   "source": [
    "all_room.loc[all_room['brand'].str.contains(\"level\")].describe()#.count()#[1:2]"
   ]
  },
  {
   "cell_type": "code",
   "execution_count": null,
   "id": "134fe440-3d3a-4cfa-83bd-0e12eb1ac9c8",
   "metadata": {},
   "outputs": [],
   "source": [
    "all_room.loc[all_room['brand'].str.contains(\"level\")][1:2]"
   ]
  },
  {
   "cell_type": "code",
   "execution_count": null,
   "id": "7d1a5a10-1483-4e00-bef9-8a10b034a3ff",
   "metadata": {},
   "outputs": [],
   "source": [
    "all_room.loc[all_room['brand'].str.contains(\"level\")].groupby(['datetime_create']).describe()[1:3]"
   ]
  },
  {
   "cell_type": "code",
   "execution_count": null,
   "id": "8e74cf36-8761-421e-b5b0-6cec29edccf5",
   "metadata": {},
   "outputs": [],
   "source": []
  },
  {
   "cell_type": "code",
   "execution_count": null,
   "id": "60d8e568-416f-4e17-a0dd-f634708f745a",
   "metadata": {},
   "outputs": [],
   "source": [
    "all_room_group_by_date = all_room.loc[all_room['brand'].str.contains(\"level\")].groupby(['datetime_create'])"
   ]
  },
  {
   "cell_type": "code",
   "execution_count": null,
   "id": "11116713-df71-4b6c-81b1-114ce24d54e3",
   "metadata": {},
   "outputs": [],
   "source": [
    "all_room_group_by_date_mean = all_room_group_by_date[[\"price\", \"avg_price_per_metr\",\"apartment_area\",\"apartment_room\"]].mean()\n",
    "all_room_group_by_date_count = all_room_group_by_date[[\"price\"]].count()"
   ]
  },
  {
   "cell_type": "code",
   "execution_count": null,
   "id": "e8f9d6d6-e21c-4892-9d2b-c5cefbce8952",
   "metadata": {},
   "outputs": [],
   "source": [
    "plt.figure(figsize=(20,3))\n",
    "plt.scatter(all_room_group_by_date_count.index,all_room_group_by_date_count[\"price\"], alpha=0.4)\n",
    "plt.xlabel(\"дата\")\n",
    "plt.ylabel(\"количество представленных квартир\")\n",
    "#plt.ylim(10,120)"
   ]
  },
  {
   "cell_type": "code",
   "execution_count": null,
   "id": "7a7dec2d-5eba-40cc-900b-d42197cf5606",
   "metadata": {},
   "outputs": [],
   "source": [
    "plt.figure(figsize=(20,3))\n",
    "plt.scatter(all_room_group_by_date_mean.index,all_room_group_by_date_mean[\"price\"], alpha=0.4)\n",
    "plt.xlabel(\"дата\")\n",
    "plt.ylabel(\"среденяя цена квартир\")"
   ]
  },
  {
   "cell_type": "code",
   "execution_count": null,
   "id": "e619f11f-2897-49a6-a2bb-dcbf918cac6d",
   "metadata": {},
   "outputs": [],
   "source": [
    "plt.figure(figsize=(20,3))\n",
    "plt.scatter(all_room_group_by_date_mean.index,all_room_group_by_date_mean[\"avg_price_per_metr\"], alpha=0.4)\n",
    "plt.xlabel(\"дата\")\n",
    "plt.ylabel(\"среденяя цена квадратного метра\")"
   ]
  },
  {
   "cell_type": "code",
   "execution_count": null,
   "id": "b7415194-b5fe-4a32-af70-471cd029ebef",
   "metadata": {},
   "outputs": [],
   "source": [
    "plt.figure(figsize=(20,3))\n",
    "plt.scatter(all_room_group_by_date_mean.index,all_room_group_by_date_mean[\"apartment_area\"], alpha=0.4)\n",
    "plt.xlabel(\"дата\")\n",
    "plt.ylabel(\"средений размер в метрах\")"
   ]
  },
  {
   "cell_type": "code",
   "execution_count": null,
   "id": "78ad8d40-07d1-4382-9ad1-f0f367b31297",
   "metadata": {},
   "outputs": [],
   "source": [
    "plt.figure(figsize=(20,3))\n",
    "plt.scatter(all_room_group_by_date_mean.index,all_room_group_by_date_mean[\"apartment_room\"], alpha=0.4)\n",
    "plt.xlabel(\"дата\")\n",
    "plt.ylabel(\"среденее число комнат в квартире\")"
   ]
  },
  {
   "cell_type": "code",
   "execution_count": null,
   "id": "3c9d6910-d69a-4ae5-a50c-217aa759f8b9",
   "metadata": {},
   "outputs": [],
   "source": [
    "from datetime import datetime, timedelta\n",
    "\n",
    "def date_from_new():\n",
    "    # Инициализация текущей даты\n",
    "    now = datetime(2023, 1, 1)\n",
    "    \n",
    "    # Создание списка дат\n",
    "    dates = []\n",
    "    \n",
    "    # Цикл, который добавляет к текущей дате один день и добавляет ее в список\n",
    "    while now.year <= 2024:\n",
    "        dates.append(str(now.date()))\n",
    "        now += timedelta(days=1)\n",
    "    \n",
    "    # Вывод списка дат\n",
    "    #for date in dates:\n",
    "    #    print(date)\n",
    "    return dates"
   ]
  },
  {
   "cell_type": "code",
   "execution_count": null,
   "id": "47c1c337-b047-4723-a54f-a9c747435591",
   "metadata": {},
   "outputs": [],
   "source": [
    "# Продажа и появления кварти"
   ]
  },
  {
   "cell_type": "code",
   "execution_count": null,
   "id": "58e42bb9-2db8-40a7-a449-080bc7343258",
   "metadata": {},
   "outputs": [],
   "source": [
    "a = {(1,3),(2,3), (3,3)}\n",
    "b = {(2,3), (3,3), (4,3)}\n",
    "a & b"
   ]
  },
  {
   "cell_type": "code",
   "execution_count": null,
   "id": "bd59d32e-52cd-41d8-8313-08b00b6c83f7",
   "metadata": {},
   "outputs": [],
   "source": [
    "#2023-01-04\n",
    "\n",
    "day_x = []\n",
    "day_x_1 = []\n",
    "for day in ('2023-01-03', '2023-01-04'):\n",
    "    print()\n",
    "    day_x = day_x_1[:]\n",
    "    #day_x_1 = donstroy_moscow_all_room.loc[(donstroy_moscow_all_room['brand'].str.contains(\"donstroy.moscow\")) & (donstroy_moscow_all_room['datetime_create']==day) ].values.tolist()\n",
    "    day_x_1 = all_room.loc[(all_room['brand'].str.contains(\"level\")) & (all_room['datetime_create']==day) ][['title','price','apartment_area','apartment_floor']].apply(tuple, axis=1)\n",
    "    cross = len(set(day_x) & set(day_x_1))\n",
    "    print(cross)\n",
    "    print(day_x[:3])\n",
    "    print(day_x_1[:3])\n",
    "    print(set(day_x[:3]))\n",
    "    print(set(day_x_1[:3]))\n",
    "    print('--------====')\n",
    "    print(set(day_x[:3]) & set(day_x_1[:3]))\n",
    "    print(len(set(day_x[:3]) & set(day_x_1[:3])))\n",
    "    print(len(list(set(day_x[:3]) & set(day_x_1[:3]))))\n",
    "    #print(len(cross))\n",
    "    print(cross)\n",
    "    print(1 if len(day_x) - len(day_x_1) !=  len(day_x) - cross else 0,\n",
    "          day,\n",
    "          len(day_x), \n",
    "          len(day_x_1), \n",
    "          cross, \n",
    "          len(day_x) - cross,\n",
    "          len(day_x) - len(day_x_1))\n",
    "    #print('----')"
   ]
  },
  {
   "cell_type": "code",
   "execution_count": null,
   "id": "e0910a1f-de2e-4859-ba6a-24dd1279c5e5",
   "metadata": {},
   "outputs": [],
   "source": [
    "day_x = []\n",
    "day_x_1 = []\n",
    "#for day in date_from_new():#('2024-02-09', '2024-02-10', '2024-02-11','2024-02-12','2024-02-13'):\n",
    "for day in ('2024-02-09', '2024-02-10', '2024-02-11','2024-02-12','2024-02-13','2024-02-14','2024-02-15','2024-02-16'):\n",
    "    print()\n",
    "    day_x = day_x_1[:]\n",
    "    #day_x_1 = donstroy_moscow_all_room.loc[(donstroy_moscow_all_room['brand'].str.contains(\"donstroy.moscow\")) & (donstroy_moscow_all_room['datetime_create']==day) ].values.tolist()\n",
    "    day_x_1 = all_room.loc[(all_room['brand'].str.contains(\"level\")) & (all_room['datetime_create']==day) ][['title','price','apartment_area','apartment_floor']].apply(tuple, axis=1)\n",
    "    cross = list(set(day_x) & set(day_x_1))\n",
    "    #print(cross)\n",
    "    print(1 if len(day_x) - len(day_x_1) !=  len(day_x) - len(cross) else 0,\n",
    "          day,\n",
    "          len(day_x), \n",
    "          len(day_x_1), \n",
    "          len(cross), \n",
    "          len(day_x) - len(cross),\n",
    "          len(day_x) - len(day_x_1))\n",
    "    #print('----')"
   ]
  },
  {
   "cell_type": "code",
   "execution_count": null,
   "id": "cb1763d6-d8d0-4368-ab04-6a77ab3cef6d",
   "metadata": {},
   "outputs": [],
   "source": [
    "day_x = []\n",
    "day_x_1 = []\n",
    "#for day in date_from_new():#('2024-02-09', '2024-02-10', '2024-02-11','2024-02-12','2024-02-13'):\n",
    "for day in ('2024-02-09', '2024-02-10', '2024-02-11','2024-02-12','2024-02-13','2024-02-14','2024-02-15','2024-02-16'):\n",
    "    print()\n",
    "    day_x = day_x_1[:]\n",
    "    #day_x_1 = donstroy_moscow_all_room.loc[(donstroy_moscow_all_room['brand'].str.contains(\"donstroy.moscow\")) & (donstroy_moscow_all_room['datetime_create']==day) ].values.tolist()\n",
    "    day_x_1 = all_room.loc[(all_room['brand'].str.contains(\"level\")) & (all_room['datetime_create']==day) ][['title','price','apartment_area','apartment_floor']].apply(tuple, axis=1)\n",
    "    cross = list(set(day_x) & set(day_x_1))\n",
    "    #print(cross)\n",
    "    print(1 if len(day_x) - len(day_x_1) !=  len(day_x) - len(cross) else 0,\n",
    "          day,\n",
    "          len(day_x), \n",
    "          len(day_x_1), \n",
    "          len(cross), \n",
    "          len(day_x) - len(cross),\n",
    "          len(day_x) - len(day_x_1))\n",
    "    #print('----')"
   ]
  },
  {
   "cell_type": "code",
   "execution_count": null,
   "id": "3c34076f-cdb8-4fae-b93c-f49a9b0a0d09",
   "metadata": {},
   "outputs": [],
   "source": []
  },
  {
   "cell_type": "code",
   "execution_count": null,
   "id": "fa95c2a3-10f9-4c68-b572-105940c3dfb3",
   "metadata": {},
   "outputs": [],
   "source": []
  },
  {
   "cell_type": "markdown",
   "id": "5d480692-d0eb-4c46-b59c-44a6da4cc9f2",
   "metadata": {},
   "source": [
    "# 0 квартиры level"
   ]
  },
  {
   "cell_type": "code",
   "execution_count": null,
   "id": "ac9ebfa7-9bd5-42d9-8d28-d1e664acfce5",
   "metadata": {},
   "outputs": [],
   "source": [
    "all_room_group_by_date = all_room.loc[all_room['brand'].str.contains(\"level\") & (all_room['apartment_room'] == 0)].groupby(['datetime_create'])\n",
    "all_room_group_by_date_mean = all_room_group_by_date[[\"price\", \"avg_price_per_metr\",\"apartment_area\",\"apartment_room\"]].mean()\n",
    "all_room_group_by_date_count = all_room_group_by_date[[\"price\"]].count()\n",
    "\n",
    "plt.figure(figsize=(20,3))\n",
    "plt.scatter(all_room_group_by_date_count.index,all_room_group_by_date_count[\"price\"], alpha=0.4)\n",
    "plt.xlabel(\"дата\")\n",
    "#plt.ylabel(\"количество представленных квартир для продажи в комапании\")\n",
    "plt.ylabel(\"количество\")\n",
    "\n",
    "plt.figure(figsize=(20,3))\n",
    "plt.scatter(all_room_group_by_date_mean.index,all_room_group_by_date_mean[\"price\"], alpha=0.4)\n",
    "plt.xlabel(\"дата\")\n",
    "#plt.ylabel(\"среденяя цена квартир представленных для продажи в комапании\")\n",
    "plt.ylabel(\"среденяя цена\")\n",
    "\n",
    "plt.figure(figsize=(20,3))\n",
    "plt.scatter(all_room_group_by_date_mean.index,all_room_group_by_date_mean[\"avg_price_per_metr\"], alpha=0.4)\n",
    "plt.xlabel(\"дата\")\n",
    "#plt.ylabel(\"среденяя цена квадратного метра квартир представленных для продажи в комапании\")\n",
    "plt.ylabel(\"среденяя цена квадратного метра\")\n",
    "\n",
    "plt.figure(figsize=(20,3))\n",
    "plt.scatter(all_room_group_by_date_mean.index,all_room_group_by_date_mean[\"apartment_area\"], alpha=0.4)\n",
    "plt.xlabel(\"дата\")\n",
    "#plt.ylabel(\"средений размер квартир в метрах представленных для продажи в комапании\")\n",
    "plt.ylabel(\"средений размер квартир в метрах\")"
   ]
  },
  {
   "cell_type": "markdown",
   "id": "21567122-510c-41c6-b83c-94c0be7098f3",
   "metadata": {},
   "source": [
    "# Однокомнатные квартиры level"
   ]
  },
  {
   "cell_type": "code",
   "execution_count": null,
   "id": "af6a21b0-6ddb-44ea-85f6-967db20a6c79",
   "metadata": {},
   "outputs": [],
   "source": [
    "all_room_group_by_date = all_room.loc[all_room['brand'].str.contains(\"level\") & (all_room['apartment_room'] == 1)].groupby(['datetime_create'])\n",
    "all_room_group_by_date_mean = all_room_group_by_date[[\"price\", \"avg_price_per_metr\",\"apartment_area\",\"apartment_room\"]].mean()\n",
    "all_room_group_by_date_count = all_room_group_by_date[[\"price\"]].count()"
   ]
  },
  {
   "cell_type": "code",
   "execution_count": null,
   "id": "5f4889ed-ef73-42af-8284-4e31553f86ae",
   "metadata": {},
   "outputs": [],
   "source": [
    "plt.figure(figsize=(20,3))\n",
    "plt.scatter(all_room_group_by_date_count.index,all_room_group_by_date_count[\"price\"], alpha=0.4)\n",
    "plt.xlabel(\"дата\")\n",
    "plt.ylabel(\"количество представленных квартир для продажи в комапании\")"
   ]
  },
  {
   "cell_type": "code",
   "execution_count": null,
   "id": "8a2d5357-66c5-4e9c-9652-7b46ac6e03ed",
   "metadata": {},
   "outputs": [],
   "source": [
    "plt.figure(figsize=(20,3))\n",
    "plt.scatter(all_room_group_by_date_mean.index,all_room_group_by_date_mean[\"price\"], alpha=0.4)\n",
    "plt.xlabel(\"дата\")\n",
    "plt.ylabel(\"среденяя цена квартир \")"
   ]
  },
  {
   "cell_type": "code",
   "execution_count": null,
   "id": "be2a6ca6-e480-4fb2-a457-0c88f69cbda2",
   "metadata": {},
   "outputs": [],
   "source": [
    "plt.figure(figsize=(20,3))\n",
    "plt.scatter(all_room_group_by_date_mean.index,all_room_group_by_date_mean[\"avg_price_per_metr\"], alpha=0.4)\n",
    "plt.xlabel(\"дата\")\n",
    "plt.ylabel(\"среденяя цена квадратного метра квартир представленных для продажи в комапании\")"
   ]
  },
  {
   "cell_type": "code",
   "execution_count": null,
   "id": "cb89cfd0-19d0-41fd-96ca-4c94c17e5dc1",
   "metadata": {},
   "outputs": [],
   "source": [
    "plt.figure(figsize=(20,3))\n",
    "plt.scatter(all_room_group_by_date_mean.index,all_room_group_by_date_mean[\"apartment_area\"], alpha=0.4)\n",
    "plt.xlabel(\"дата\")\n",
    "plt.ylabel(\"средений размер квартир в метрах представленных для продажи в комапании\")"
   ]
  },
  {
   "cell_type": "markdown",
   "id": "1e5da2a3-88df-455a-9d5f-eb43bc5a9987",
   "metadata": {},
   "source": [
    "# 2-х квартиры level"
   ]
  },
  {
   "cell_type": "code",
   "execution_count": null,
   "id": "632f4826-af19-4cb1-90f9-ba80ed4ed926",
   "metadata": {},
   "outputs": [],
   "source": [
    "all_room_group_by_date = all_room.loc[all_room['brand'].str.contains(\"level\") & (all_room['apartment_room'] == 2)].groupby(['datetime_create'])\n",
    "all_room_group_by_date_mean = all_room_group_by_date[[\"price\", \"avg_price_per_metr\",\"apartment_area\",\"apartment_room\"]].mean()\n",
    "all_room_group_by_date_count = all_room_group_by_date[[\"price\"]].count()"
   ]
  },
  {
   "cell_type": "code",
   "execution_count": null,
   "id": "a2a2619e-8a9d-4247-8e38-6b7146042b6b",
   "metadata": {},
   "outputs": [],
   "source": [
    "plt.figure(figsize=(20,3))\n",
    "plt.scatter(all_room_group_by_date_count.index,all_room_group_by_date_count[\"price\"], alpha=0.4)\n",
    "plt.xlabel(\"дата\")\n",
    "plt.ylabel(\"количество представленных квартир для продажи в комапании\")\n",
    "\n",
    "plt.figure(figsize=(20,3))\n",
    "plt.scatter(all_room_group_by_date_mean.index,all_room_group_by_date_mean[\"price\"], alpha=0.4)\n",
    "plt.xlabel(\"дата\")\n",
    "plt.ylabel(\"среденяя цена квартир представленных для продажи в комапании\")\n",
    "\n",
    "plt.figure(figsize=(20,3))\n",
    "plt.scatter(all_room_group_by_date_mean.index,all_room_group_by_date_mean[\"avg_price_per_metr\"], alpha=0.4)\n",
    "plt.xlabel(\"дата\")\n",
    "plt.ylabel(\"среденяя цена квадратного метра квартир представленных для продажи в комапании\")\n",
    "\n",
    "plt.figure(figsize=(20,3))\n",
    "plt.scatter(all_room_group_by_date_mean.index,all_room_group_by_date_mean[\"apartment_area\"], alpha=0.4)\n",
    "plt.xlabel(\"дата\")\n",
    "plt.ylabel(\"средений размер квартир в метрах представленных для продажи в комапании\")"
   ]
  },
  {
   "cell_type": "markdown",
   "id": "08ee6e6b-be68-4b42-b8de-327f353b6935",
   "metadata": {},
   "source": [
    "# 3-х квартиры level"
   ]
  },
  {
   "cell_type": "code",
   "execution_count": null,
   "id": "6476cd53-42a2-4a1f-975f-c1359ccca9d1",
   "metadata": {},
   "outputs": [],
   "source": [
    "all_room_group_by_date = all_room.loc[all_room['brand'].str.contains(\"level\") & (all_room['apartment_room'] == 3)].groupby(['datetime_create'])\n",
    "all_room_group_by_date_mean = all_room_group_by_date[[\"price\", \"avg_price_per_metr\",\"apartment_area\",\"apartment_room\"]].mean()\n",
    "all_room_group_by_date_count = all_room_group_by_date[[\"price\"]].count()\n",
    "\n",
    "plt.figure(figsize=(20,3))\n",
    "plt.scatter(all_room_group_by_date_count.index,all_room_group_by_date_count[\"price\"], alpha=0.4)\n",
    "plt.xlabel(\"дата\")\n",
    "plt.ylabel(\"количество представленных квартир для продажи в комапании\")\n",
    "\n",
    "plt.figure(figsize=(20,3))\n",
    "plt.scatter(all_room_group_by_date_mean.index,all_room_group_by_date_mean[\"price\"], alpha=0.4)\n",
    "plt.xlabel(\"дата\")\n",
    "plt.ylabel(\"среденяя цена квартир представленных для продажи в комапании\")\n",
    "\n",
    "plt.figure(figsize=(20,3))\n",
    "plt.scatter(all_room_group_by_date_mean.index,all_room_group_by_date_mean[\"avg_price_per_metr\"], alpha=0.4)\n",
    "plt.xlabel(\"дата\")\n",
    "plt.ylabel(\"среденяя цена квадратного метра квартир представленных для продажи в комапании\")\n",
    "\n",
    "plt.figure(figsize=(20,3))\n",
    "plt.scatter(all_room_group_by_date_mean.index,all_room_group_by_date_mean[\"apartment_area\"], alpha=0.4)\n",
    "plt.xlabel(\"дата\")\n",
    "plt.ylabel(\"средений размер квартир в метрах представленных для продажи в комапании\")"
   ]
  },
  {
   "cell_type": "code",
   "execution_count": null,
   "id": "71bc7a48-8566-4e75-a8d2-d81815ddbfef",
   "metadata": {},
   "outputs": [],
   "source": []
  },
  {
   "cell_type": "markdown",
   "id": "219003d8-4ce2-4cde-a268-0ec64e45555a",
   "metadata": {},
   "source": [
    "# сделать для москвы (указав все жк)"
   ]
  },
  {
   "cell_type": "code",
   "execution_count": null,
   "id": "60bb6e70-139e-4ce0-bec8-67bc6a15a8c6",
   "metadata": {},
   "outputs": [],
   "source": [
    "all_room_group_by_date = all_room.loc[all_room['brand'].str.contains(\"level\") & (all_room['apartment_room'] == 2) & (all_room['title'].str.contains(\"Нагатинская\"))].groupby(['datetime_create'])\n",
    "all_room_group_by_date_mean = all_room_group_by_date[[\"price\", \"avg_price_per_metr\",\"apartment_area\",\"apartment_room\"]].mean()\n",
    "all_room_group_by_date_count = all_room_group_by_date[[\"price\"]].count()\n",
    "\n",
    "plt.figure(figsize=(20,3))\n",
    "plt.scatter(all_room_group_by_date_count.index,all_room_group_by_date_count[\"price\"], alpha=0.4)\n",
    "plt.xlabel(\"дата\")\n",
    "#plt.ylabel(\"количество представленных квартир для продажи в комапании\")\n",
    "plt.ylabel(\"количество\")\n",
    "\n",
    "plt.figure(figsize=(20,3))\n",
    "plt.scatter(all_room_group_by_date_mean.index,all_room_group_by_date_mean[\"price\"], alpha=0.4)\n",
    "plt.xlabel(\"дата\")\n",
    "#plt.ylabel(\"среденяя цена квартир представленных для продажи в комапании\")\n",
    "plt.ylabel(\"среденяя цена\")\n",
    "\n",
    "plt.figure(figsize=(20,3))\n",
    "plt.scatter(all_room_group_by_date_mean.index,all_room_group_by_date_mean[\"avg_price_per_metr\"], alpha=0.4)\n",
    "plt.xlabel(\"дата\")\n",
    "#plt.ylabel(\"среденяя цена квадратного метра квартир представленных для продажи в комапании\")\n",
    "plt.ylabel(\"среденяя цена квадратного метра\")\n",
    "\n",
    "plt.figure(figsize=(20,3))\n",
    "plt.scatter(all_room_group_by_date_mean.index,all_room_group_by_date_mean[\"apartment_area\"], alpha=0.4)\n",
    "plt.xlabel(\"дата\")\n",
    "#plt.ylabel(\"средений размер квартир в метрах представленных для продажи в комапании\")\n",
    "plt.ylabel(\"средений размер квартир в метрах\")"
   ]
  },
  {
   "cell_type": "code",
   "execution_count": null,
   "id": "e7517daa-752e-4443-a1d4-1b7e3b4a80df",
   "metadata": {},
   "outputs": [],
   "source": []
  },
  {
   "cell_type": "code",
   "execution_count": null,
   "id": "2bcf021d-cf90-4cc9-94cd-0514c583b6dd",
   "metadata": {},
   "outputs": [],
   "source": []
  },
  {
   "cell_type": "code",
   "execution_count": null,
   "id": "9f76e14d-bf5a-49f7-9c01-5e72940f00f7",
   "metadata": {},
   "outputs": [],
   "source": []
  },
  {
   "cell_type": "code",
   "execution_count": null,
   "id": "f8607bec-81ad-4595-9bc5-0a8e10f0167d",
   "metadata": {},
   "outputs": [],
   "source": []
  },
  {
   "cell_type": "markdown",
   "id": "f4178df4-9f14-44d1-b8a7-002334c35ad3",
   "metadata": {},
   "source": [
    "# Статистика продажи level по дням, все время"
   ]
  },
  {
   "cell_type": "code",
   "execution_count": 49,
   "id": "66c39a24-1799-473f-9b1a-f83c9ad93288",
   "metadata": {},
   "outputs": [],
   "source": [
    "cursor.execute(\"\"\"\n",
    "WITH sales_numbered AS (\n",
    "SELECT \n",
    "    id, \n",
    "    price_sale,\n",
    "    CAST(apartment_area as decimal) as apartment_area,\n",
    "    CAST(price_sale / apartment_area as decimal(15,2)),\n",
    "    date(datetime_create) as date\n",
    "    \n",
    "FROM products_history\n",
    "where \n",
    "    --datetime_create >= \"2022-01-17\"\n",
    "    --and \n",
    "    url like \"%level.ru%\"\n",
    "    --and title like \"%Нагатинская%\"\n",
    "    --and apartment_floor = 13\n",
    "    --and apartment_room = 1\n",
    "    --and apartment_area = '30.5'\n",
    "ORDER BY id desc\n",
    "LIMIT 1411111\n",
    ")\n",
    "\n",
    "SELECT \n",
    "    cast(sum(price_sale) as int),\n",
    "    cast(sum(apartment_area) as int),\n",
    "    cast(avg(price_sale / apartment_area) as int),\n",
    "    cast(sum(price_sale) / sum(apartment_area) as int),\n",
    "    avg(apartment_area),\n",
    "    avg(price_sale),\n",
    "    count(id),\n",
    "    date\n",
    "    \n",
    "FROM sales_numbered\n",
    "\n",
    "group by date\n",
    "ORDER BY date\n",
    "LIMIT 631  \n",
    "\"\"\")\n",
    "\n",
    "df = pd.DataFrame(cursor.fetchall(), columns=[\n",
    "    \"sum price_sale\",\n",
    "    \"sum apartment_area\",\n",
    "    \"avg price per metr\",\n",
    "    \"avg sum price per sum metr\",\n",
    "    \"avg apartment_area\",\n",
    "    \"avg price\",\n",
    "    \"count\",\n",
    "    \"date\"\n",
    "])"
   ]
  },
  {
   "cell_type": "code",
   "execution_count": 50,
   "id": "bcc5cffc-42a5-4818-a539-7f0dd495de0c",
   "metadata": {},
   "outputs": [
    {
     "data": {
      "text/html": [
       "<div>\n",
       "<style scoped>\n",
       "    .dataframe tbody tr th:only-of-type {\n",
       "        vertical-align: middle;\n",
       "    }\n",
       "\n",
       "    .dataframe tbody tr th {\n",
       "        vertical-align: top;\n",
       "    }\n",
       "\n",
       "    .dataframe thead th {\n",
       "        text-align: right;\n",
       "    }\n",
       "</style>\n",
       "<table border=\"1\" class=\"dataframe\">\n",
       "  <thead>\n",
       "    <tr style=\"text-align: right;\">\n",
       "      <th></th>\n",
       "      <th>sum price_sale</th>\n",
       "      <th>sum apartment_area</th>\n",
       "      <th>avg price per metr</th>\n",
       "      <th>avg sum price per sum metr</th>\n",
       "      <th>avg apartment_area</th>\n",
       "      <th>avg price</th>\n",
       "      <th>count</th>\n",
       "      <th>date</th>\n",
       "    </tr>\n",
       "  </thead>\n",
       "  <tbody>\n",
       "    <tr>\n",
       "      <th>1</th>\n",
       "      <td>30696512003</td>\n",
       "      <td>67179.0</td>\n",
       "      <td>397938.0</td>\n",
       "      <td>456932.0</td>\n",
       "      <td>61.127843</td>\n",
       "      <td>2.793131e+07</td>\n",
       "      <td>1099</td>\n",
       "      <td>2022-12-06</td>\n",
       "    </tr>\n",
       "    <tr>\n",
       "      <th>2</th>\n",
       "      <td>30559637400</td>\n",
       "      <td>66794.0</td>\n",
       "      <td>398361.0</td>\n",
       "      <td>457516.0</td>\n",
       "      <td>61.279450</td>\n",
       "      <td>2.803636e+07</td>\n",
       "      <td>1090</td>\n",
       "      <td>2022-12-07</td>\n",
       "    </tr>\n",
       "  </tbody>\n",
       "</table>\n",
       "</div>"
      ],
      "text/plain": [
       "   sum price_sale  sum apartment_area  avg price per metr  \\\n",
       "1     30696512003             67179.0            397938.0   \n",
       "2     30559637400             66794.0            398361.0   \n",
       "\n",
       "   avg sum price per sum metr  avg apartment_area     avg price  count  \\\n",
       "1                    456932.0           61.127843  2.793131e+07   1099   \n",
       "2                    457516.0           61.279450  2.803636e+07   1090   \n",
       "\n",
       "         date  \n",
       "1  2022-12-06  \n",
       "2  2022-12-07  "
      ]
     },
     "execution_count": 50,
     "metadata": {},
     "output_type": "execute_result"
    }
   ],
   "source": [
    "df[1:3]"
   ]
  },
  {
   "cell_type": "code",
   "execution_count": 51,
   "id": "e56024f2-b1cf-4617-8ca6-a85f747fb07c",
   "metadata": {},
   "outputs": [],
   "source": [
    "df = df.dropna()"
   ]
  },
  {
   "cell_type": "code",
   "execution_count": 52,
   "id": "1143fc9a-3a84-425d-8a87-0e10a714f1f8",
   "metadata": {},
   "outputs": [
    {
     "data": {
      "text/plain": [
       "Text(0, 0.5, 'количество представленных квартир для продажи в комапании')"
      ]
     },
     "execution_count": 52,
     "metadata": {},
     "output_type": "execute_result"
    },
    {
     "data": {
      "image/png": "[encoded data removed]",
      "text/plain": [
       "<Figure size 1200x600 with 1 Axes>"
      ]
     },
     "metadata": {},
     "output_type": "display_data"
    }
   ],
   "source": [
    "plt.figure(figsize=(12,6))\n",
    "plt.scatter(df[\"date\"],df[\"count\"], alpha=0.4)\n",
    "plt.xlabel(\"дата\")\n",
    "plt.ylabel(\"количество представленных квартир для продажи в комапании\")\n",
    "#plt.ylim(10,120)"
   ]
  },
  {
   "cell_type": "code",
   "execution_count": 53,
   "id": "917d9830-ceb7-4f9c-acf2-900b945cff8d",
   "metadata": {},
   "outputs": [
    {
     "data": {
      "text/plain": [
       "Text(0, 0.5, 'среденяя цена квартир представленных для продажи в комапании')"
      ]
     },
     "execution_count": 53,
     "metadata": {},
     "output_type": "execute_result"
    },
    {
     "data": {
      "image/png": "[encoded data removed]",
      "text/plain": [
       "<Figure size 1200x600 with 1 Axes>"
      ]
     },
     "metadata": {},
     "output_type": "display_data"
    }
   ],
   "source": [
    "plt.figure(figsize=(12,6))\n",
    "plt.scatter(df[\"date\"],df[\"avg price\"], alpha=0.4)\n",
    "plt.xlabel(\"дата\")\n",
    "plt.ylabel(\"среденяя цена квартир представленных для продажи в комапании\")"
   ]
  },
  {
   "cell_type": "code",
   "execution_count": 54,
   "id": "50ec1908-129d-4453-bebc-67c30f9f5b4b",
   "metadata": {},
   "outputs": [
    {
     "data": {
      "text/plain": [
       "Text(0, 0.5, 'среденяя цена квадратного метра квартир представленных для продажи в комапании')"
      ]
     },
     "execution_count": 54,
     "metadata": {},
     "output_type": "execute_result"
    },
    {
     "data": {
      "image/png": "[encoded data removed]",
      "text/plain": [
       "<Figure size 1200x600 with 1 Axes>"
      ]
     },
     "metadata": {},
     "output_type": "display_data"
    }
   ],
   "source": [
    "plt.figure(figsize=(12,6))\n",
    "plt.scatter(df[\"date\"],df[\"avg price per metr\"], alpha=0.4)\n",
    "plt.xlabel(\"дата\")\n",
    "plt.ylabel(\"среденяя цена квадратного метра квартир представленных для продажи в комапании\")"
   ]
  },
  {
   "cell_type": "code",
   "execution_count": 55,
   "id": "ed1ba586-8974-4a18-a29e-ef0f7e18a63f",
   "metadata": {},
   "outputs": [],
   "source": [
    "#seaborn.pairplot(df_price_sale__apartment_area)"
   ]
  },
  {
   "cell_type": "code",
   "execution_count": null,
   "id": "5c3a93e7-301b-41b2-b2c9-e70fa311d490",
   "metadata": {},
   "outputs": [],
   "source": []
  },
  {
   "cell_type": "markdown",
   "id": "1c6906ad-a938-4e09-8d80-13c9123b540e",
   "metadata": {},
   "source": [
    "# Статистика продажи level по дням, за последнее время"
   ]
  },
  {
   "cell_type": "code",
   "execution_count": null,
   "id": "02f786f8-7ac5-4a7c-b56e-07508d1a6d46",
   "metadata": {},
   "outputs": [],
   "source": [
    "cursor.execute(\"\"\"\n",
    "WITH sales_numbered AS (\n",
    "SELECT \n",
    "    id, \n",
    "    price_sale,\n",
    "    CAST(apartment_area as decimal) as apartment_area,\n",
    "    CAST(price_sale / apartment_area as decimal(15,2)),\n",
    "    date(datetime_create) as date\n",
    "    \n",
    "FROM products_history\n",
    "where \n",
    "    datetime_create >= \"2023-10-01\"\n",
    "    --and \n",
    "    url like \"%level.ru%\"\n",
    "    --and title like \"%Нагатинская%\"\n",
    "    --and apartment_floor = 13\n",
    "    --and apartment_room = 1\n",
    "    --and apartment_area = '30.5'\n",
    "ORDER BY id desc\n",
    "LIMIT 1411111\n",
    ")\n",
    "\n",
    "SELECT \n",
    "    cast(sum(price_sale) as int),\n",
    "    cast(sum(apartment_area) as int),\n",
    "    cast(avg(price_sale / apartment_area) as int),\n",
    "    cast(sum(price_sale) / sum(apartment_area) as int),\n",
    "    avg(apartment_area),\n",
    "    avg(price_sale),\n",
    "    count(id),\n",
    "    date\n",
    "    \n",
    "FROM sales_numbered\n",
    "\n",
    "group by date\n",
    "ORDER BY date\n",
    "LIMIT 631  \n",
    "\"\"\")\n",
    "\n",
    "df = pd.DataFrame(cursor.fetchall(), columns=[\n",
    "    \"sum price_sale\",\n",
    "    \"sum apartment_area\",\n",
    "    \"avg price per metr\",\n",
    "    \"avg sum price per sum metr\",\n",
    "    \"avg apartment_area\",\n",
    "    \"avg price\",\n",
    "    \"count\",\n",
    "    \"date\"\n",
    "])"
   ]
  },
  {
   "cell_type": "code",
   "execution_count": null,
   "id": "a7d6e07b-8609-4c46-926e-23a721e01e27",
   "metadata": {},
   "outputs": [],
   "source": [
    "df[1:3]"
   ]
  },
  {
   "cell_type": "code",
   "execution_count": null,
   "id": "93e98234-cf1e-42fa-b5ed-7db4e45fa167",
   "metadata": {},
   "outputs": [],
   "source": [
    "df = df.dropna()"
   ]
  },
  {
   "cell_type": "code",
   "execution_count": null,
   "id": "c98927ae-22c2-41a1-a349-d63d0720254d",
   "metadata": {},
   "outputs": [],
   "source": [
    "plt.figure(figsize=(12,6))\n",
    "plt.scatter(df[\"date\"],df[\"count\"], alpha=0.4)\n",
    "plt.xlabel(\"дата\")\n",
    "plt.ylabel(\"количество представленных квартир для продажи в комапании\")\n",
    "#plt.ylim(10,120)"
   ]
  },
  {
   "cell_type": "code",
   "execution_count": null,
   "id": "3716ff2a-93ff-4b91-862b-c0645b01936a",
   "metadata": {},
   "outputs": [],
   "source": [
    "plt.figure(figsize=(12,6))\n",
    "plt.scatter(df[\"date\"],df[\"avg price\"], alpha=0.4)\n",
    "plt.xlabel(\"дата\")\n",
    "plt.ylabel(\"среденяя цена квартир представленных для продажи в комапании\")"
   ]
  },
  {
   "cell_type": "code",
   "execution_count": null,
   "id": "543495b9-e683-4412-bd5d-21282e118249",
   "metadata": {},
   "outputs": [],
   "source": [
    "plt.figure(figsize=(12,6))\n",
    "plt.scatter(df[\"date\"],df[\"avg price per metr\"], alpha=0.4)\n",
    "plt.xlabel(\"дата\")\n",
    "plt.ylabel(\"среденяя цена квадратного метра квартир представленных для продажи в комапании\")"
   ]
  },
  {
   "cell_type": "code",
   "execution_count": null,
   "id": "4045abc1-07d5-4618-8f17-b8c9cea491cf",
   "metadata": {},
   "outputs": [],
   "source": []
  },
  {
   "cell_type": "code",
   "execution_count": null,
   "id": "b5b3a600-27db-4a8b-bd0c-61dd91e10596",
   "metadata": {},
   "outputs": [],
   "source": []
  },
  {
   "cell_type": "code",
   "execution_count": null,
   "id": "d58beb11-763f-4dd9-9cea-415e10d22b9b",
   "metadata": {},
   "outputs": [],
   "source": []
  },
  {
   "cell_type": "markdown",
   "id": "e5c808ce-0eb8-44ba-a3c6-553f6a5e1c3e",
   "metadata": {},
   "source": [
    "# Статистика продажи донстроя по дням"
   ]
  },
  {
   "cell_type": "code",
   "execution_count": 6,
   "id": "c806b02d-2081-43db-8fbd-1e5e43550a7e",
   "metadata": {},
   "outputs": [],
   "source": [
    "cursor.execute(\"\"\"\n",
    "WITH sales_numbered AS (\n",
    "SELECT \n",
    "    id, \n",
    "    price_sale,\n",
    "    CAST(apartment_area as decimal) as apartment_area,\n",
    "    CAST(price_sale / apartment_area as decimal(15,2)),\n",
    "    date(datetime_create) as date\n",
    "    \n",
    "FROM products_history\n",
    "where \n",
    "    --datetime_create >= \"2022-01-17\"\n",
    "    --and \n",
    "    url like \"https://donstroy.moscow%\"\n",
    "    --and title like \"%Остров.6%\"\n",
    "    --and apartment_floor = 13\n",
    "    --and apartment_room = 1\n",
    "    --and apartment_area = '30.5'\n",
    "ORDER BY id desc\n",
    "LIMIT 1431111\n",
    ")\n",
    "\n",
    "SELECT \n",
    "    cast(sum(price_sale) as int),\n",
    "    cast(sum(apartment_area) as int),\n",
    "    cast(avg(price_sale / apartment_area) as int),\n",
    "    cast(sum(price_sale) / sum(apartment_area) as int),\n",
    "    avg(apartment_area),\n",
    "    avg(price_sale),\n",
    "    count(id),\n",
    "    date\n",
    "    \n",
    "FROM sales_numbered\n",
    "\n",
    "group by date\n",
    "ORDER BY date\n",
    "LIMIT 631  \n",
    "\"\"\")\n",
    "\n",
    "df = pd.DataFrame(cursor.fetchall(), columns=[\n",
    "    \"sum price_sale\",\n",
    "    \"sum apartment_area\",\n",
    "    \"avg price per metr\",\n",
    "    \"avg sum price per sum metr\",\n",
    "    \"avg apartment_area\",\n",
    "    \"avg price\",\n",
    "    \"count\",\n",
    "    \"date\"\n",
    "])"
   ]
  },
  {
   "cell_type": "code",
   "execution_count": 7,
   "id": "8fbf966a-3df5-489d-9dfa-8c065141e16c",
   "metadata": {},
   "outputs": [
    {
     "data": {
      "text/html": [
       "<div>\n",
       "<style scoped>\n",
       "    .dataframe tbody tr th:only-of-type {\n",
       "        vertical-align: middle;\n",
       "    }\n",
       "\n",
       "    .dataframe tbody tr th {\n",
       "        vertical-align: top;\n",
       "    }\n",
       "\n",
       "    .dataframe thead th {\n",
       "        text-align: right;\n",
       "    }\n",
       "</style>\n",
       "<table border=\"1\" class=\"dataframe\">\n",
       "  <thead>\n",
       "    <tr style=\"text-align: right;\">\n",
       "      <th></th>\n",
       "      <th>sum price_sale</th>\n",
       "      <th>sum apartment_area</th>\n",
       "      <th>avg price per metr</th>\n",
       "      <th>avg sum price per sum metr</th>\n",
       "      <th>avg apartment_area</th>\n",
       "      <th>avg price</th>\n",
       "      <th>count</th>\n",
       "      <th>date</th>\n",
       "    </tr>\n",
       "  </thead>\n",
       "  <tbody>\n",
       "    <tr>\n",
       "      <th>0</th>\n",
       "      <td>236608760</td>\n",
       "      <td>315</td>\n",
       "      <td>370872</td>\n",
       "      <td>749948</td>\n",
       "      <td>28.681818</td>\n",
       "      <td>1.075494e+07</td>\n",
       "      <td>22</td>\n",
       "      <td>2024-02-09</td>\n",
       "    </tr>\n",
       "    <tr>\n",
       "      <th>1</th>\n",
       "      <td>50797723819</td>\n",
       "      <td>97699</td>\n",
       "      <td>518528</td>\n",
       "      <td>519940</td>\n",
       "      <td>80.477018</td>\n",
       "      <td>4.184327e+07</td>\n",
       "      <td>1214</td>\n",
       "      <td>2024-02-10</td>\n",
       "    </tr>\n",
       "    <tr>\n",
       "      <th>2</th>\n",
       "      <td>50188752880</td>\n",
       "      <td>96384</td>\n",
       "      <td>518853</td>\n",
       "      <td>520712</td>\n",
       "      <td>80.187022</td>\n",
       "      <td>4.175437e+07</td>\n",
       "      <td>1202</td>\n",
       "      <td>2024-02-11</td>\n",
       "    </tr>\n",
       "  </tbody>\n",
       "</table>\n",
       "</div>"
      ],
      "text/plain": [
       "   sum price_sale  sum apartment_area  avg price per metr  \\\n",
       "0       236608760                 315              370872   \n",
       "1     50797723819               97699              518528   \n",
       "2     50188752880               96384              518853   \n",
       "\n",
       "   avg sum price per sum metr  avg apartment_area     avg price  count  \\\n",
       "0                      749948           28.681818  1.075494e+07     22   \n",
       "1                      519940           80.477018  4.184327e+07   1214   \n",
       "2                      520712           80.187022  4.175437e+07   1202   \n",
       "\n",
       "         date  \n",
       "0  2024-02-09  \n",
       "1  2024-02-10  \n",
       "2  2024-02-11  "
      ]
     },
     "execution_count": 7,
     "metadata": {},
     "output_type": "execute_result"
    }
   ],
   "source": [
    "df"
   ]
  },
  {
   "cell_type": "code",
   "execution_count": 8,
   "id": "f09047a8-78eb-4a86-aa81-67f2947678f3",
   "metadata": {},
   "outputs": [],
   "source": [
    "df = df.dropna()"
   ]
  },
  {
   "cell_type": "code",
   "execution_count": 9,
   "id": "aa623ba5-60ba-4d35-83aa-f4cdeda59af7",
   "metadata": {},
   "outputs": [
    {
     "data": {
      "text/plain": [
       "Text(0, 0.5, 'количество представленных квартир для продажи в комапании')"
      ]
     },
     "execution_count": 9,
     "metadata": {},
     "output_type": "execute_result"
    },
    {
     "data": {
      "image/png": "[encoded data removed]",
      "text/plain": [
       "<Figure size 400x200 with 1 Axes>"
      ]
     },
     "metadata": {},
     "output_type": "display_data"
    }
   ],
   "source": [
    "plt.figure(figsize=(4,2))\n",
    "plt.scatter(df[\"date\"],df[\"count\"], alpha=0.4)\n",
    "plt.xlabel(\"дата\")\n",
    "plt.ylabel(\"количество представленных квартир для продажи в комапании\")"
   ]
  },
  {
   "cell_type": "code",
   "execution_count": 10,
   "id": "7c51c8ad-ef16-4bc0-a07f-7ecf1a96873d",
   "metadata": {},
   "outputs": [
    {
     "data": {
      "text/plain": [
       "Text(0, 0.5, 'среденяя цена квартир представленных для продажи в комапании')"
      ]
     },
     "execution_count": 10,
     "metadata": {},
     "output_type": "execute_result"
    },
    {
     "data": {
      "image/png": "[encoded data removed]",
      "text/plain": [
       "<Figure size 400x200 with 1 Axes>"
      ]
     },
     "metadata": {},
     "output_type": "display_data"
    }
   ],
   "source": [
    "plt.figure(figsize=(4,2))\n",
    "plt.scatter(df[\"date\"],df[\"avg price\"], alpha=0.4)\n",
    "plt.xlabel(\"дата\")\n",
    "plt.ylabel(\"среденяя цена квартир представленных для продажи в комапании\")"
   ]
  },
  {
   "cell_type": "code",
   "execution_count": 11,
   "id": "3da4130b-afb4-455b-b7aa-ef888877c233",
   "metadata": {},
   "outputs": [
    {
     "data": {
      "text/plain": [
       "Text(0, 0.5, 'среденяя цена квадратного метра квартир представленных для продажи в комапании')"
      ]
     },
     "execution_count": 11,
     "metadata": {},
     "output_type": "execute_result"
    },
    {
     "data": {
      "image/png": "[encoded data removed]",
      "text/plain": [
       "<Figure size 400x200 with 1 Axes>"
      ]
     },
     "metadata": {},
     "output_type": "display_data"
    }
   ],
   "source": [
    "plt.figure(figsize=(4,2))\n",
    "plt.scatter(df[\"date\"],df[\"avg price per metr\"], alpha=0.4)\n",
    "plt.xlabel(\"дата\")\n",
    "plt.ylabel(\"среденяя цена квадратного метра квартир представленных для продажи в комапании\")"
   ]
  },
  {
   "cell_type": "code",
   "execution_count": 12,
   "id": "7fb6c876-dd23-4b7a-ace6-2ee9356131de",
   "metadata": {},
   "outputs": [],
   "source": [
    "#seaborn.pairplot(df_price_sale__apartment_area)"
   ]
  },
  {
   "cell_type": "code",
   "execution_count": null,
   "id": "df1b5333-7d7d-4f64-b28b-fc57dfa76744",
   "metadata": {},
   "outputs": [],
   "source": []
  },
  {
   "cell_type": "markdown",
   "id": "bbe9efe9-f521-4294-8a89-fd634c34ab88",
   "metadata": {},
   "source": [
    "# Статистика продажи донстроя жк Остров по дням"
   ]
  },
  {
   "cell_type": "code",
   "execution_count": 13,
   "id": "a962917c-2873-4445-9d5c-c44add3fa38f",
   "metadata": {},
   "outputs": [],
   "source": [
    "cursor.execute(\"\"\"\n",
    "WITH sales_numbered AS (\n",
    "SELECT \n",
    "    id, \n",
    "    price_sale,\n",
    "    CAST(apartment_area as decimal) as apartment_area,\n",
    "    CAST(price_sale / apartment_area as decimal(15,2)),\n",
    "    date(datetime_create) as date\n",
    "    \n",
    "FROM products_history\n",
    "where \n",
    "    --datetime_create >= \"2022-01-17\"\n",
    "    --and \n",
    "    url like \"https://donstroy.moscow/objects/ostrov/%\"\n",
    "    and title like \"%Остров%\"\n",
    "    --and apartment_floor = 13\n",
    "    --and apartment_room = 1\n",
    "    --and apartment_area = '30.5'\n",
    "ORDER BY id desc\n",
    "LIMIT 1431111\n",
    ")\n",
    "\n",
    "SELECT \n",
    "    cast(sum(price_sale) as int),\n",
    "    cast(sum(apartment_area) as int),\n",
    "    cast(avg(price_sale / apartment_area) as int),\n",
    "    cast(sum(price_sale) / sum(apartment_area) as int),\n",
    "    avg(apartment_area),\n",
    "    avg(price_sale),\n",
    "    count(id),\n",
    "    date\n",
    "    \n",
    "FROM sales_numbered\n",
    "\n",
    "group by date\n",
    "ORDER BY date\n",
    "LIMIT 631  \n",
    "\"\"\")\n",
    "\n",
    "df = pd.DataFrame(cursor.fetchall(), columns=[\n",
    "    \"sum price_sale\",\n",
    "    \"sum apartment_area\",\n",
    "    \"avg price per metr\",\n",
    "    \"avg sum price per sum metr\",\n",
    "    \"avg apartment_area\",\n",
    "    \"avg price\",\n",
    "    \"count\",\n",
    "    \"date\"\n",
    "])"
   ]
  },
  {
   "cell_type": "code",
   "execution_count": 20,
   "id": "c1783ff4-329f-4489-b04e-bf0b9412e13b",
   "metadata": {},
   "outputs": [
    {
     "data": {
      "text/html": [
       "<div>\n",
       "<style scoped>\n",
       "    .dataframe tbody tr th:only-of-type {\n",
       "        vertical-align: middle;\n",
       "    }\n",
       "\n",
       "    .dataframe tbody tr th {\n",
       "        vertical-align: top;\n",
       "    }\n",
       "\n",
       "    .dataframe thead th {\n",
       "        text-align: right;\n",
       "    }\n",
       "</style>\n",
       "<table border=\"1\" class=\"dataframe\">\n",
       "  <thead>\n",
       "    <tr style=\"text-align: right;\">\n",
       "      <th></th>\n",
       "      <th>sum price_sale</th>\n",
       "      <th>sum apartment_area</th>\n",
       "      <th>avg price per metr</th>\n",
       "      <th>avg sum price per sum metr</th>\n",
       "      <th>avg apartment_area</th>\n",
       "      <th>avg price</th>\n",
       "      <th>count</th>\n",
       "      <th>date</th>\n",
       "    </tr>\n",
       "  </thead>\n",
       "  <tbody>\n",
       "    <tr>\n",
       "      <th>0</th>\n",
       "      <td>26369296148</td>\n",
       "      <td>46618</td>\n",
       "      <td>571294</td>\n",
       "      <td>565646</td>\n",
       "      <td>81.50</td>\n",
       "      <td>4.610017e+07</td>\n",
       "      <td>572</td>\n",
       "      <td>2024-02-10</td>\n",
       "    </tr>\n",
       "    <tr>\n",
       "      <th>1</th>\n",
       "      <td>25966745148</td>\n",
       "      <td>45844</td>\n",
       "      <td>571950</td>\n",
       "      <td>566414</td>\n",
       "      <td>81.14</td>\n",
       "      <td>4.595884e+07</td>\n",
       "      <td>565</td>\n",
       "      <td>2024-02-11</td>\n",
       "    </tr>\n",
       "  </tbody>\n",
       "</table>\n",
       "</div>"
      ],
      "text/plain": [
       "   sum price_sale  sum apartment_area  avg price per metr  \\\n",
       "0     26369296148               46618              571294   \n",
       "1     25966745148               45844              571950   \n",
       "\n",
       "   avg sum price per sum metr  avg apartment_area     avg price  count  \\\n",
       "0                      565646               81.50  4.610017e+07    572   \n",
       "1                      566414               81.14  4.595884e+07    565   \n",
       "\n",
       "         date  \n",
       "0  2024-02-10  \n",
       "1  2024-02-11  "
      ]
     },
     "execution_count": 20,
     "metadata": {},
     "output_type": "execute_result"
    }
   ],
   "source": [
    "df"
   ]
  },
  {
   "cell_type": "code",
   "execution_count": 14,
   "id": "6b912aab-0772-4af7-8541-a3aa33df4bd9",
   "metadata": {},
   "outputs": [],
   "source": [
    "df = df.dropna()"
   ]
  },
  {
   "cell_type": "code",
   "execution_count": 15,
   "id": "7c74a87a-2aef-40ab-91d6-4316f37e7a1b",
   "metadata": {},
   "outputs": [
    {
     "data": {
      "text/plain": [
       "Text(0, 0.5, 'количество представленных квартир для продажи в комапании')"
      ]
     },
     "execution_count": 15,
     "metadata": {},
     "output_type": "execute_result"
    },
    {
     "data": {
      "image/png": "[encoded data removed]",
      "text/plain": [
       "<Figure size 400x200 with 1 Axes>"
      ]
     },
     "metadata": {},
     "output_type": "display_data"
    }
   ],
   "source": [
    "plt.figure(figsize=(4,2))\n",
    "plt.scatter(df[\"date\"],df[\"count\"], alpha=0.4)\n",
    "plt.xlabel(\"дата\")\n",
    "plt.ylabel(\"количество представленных квартир для продажи в комапании\")\n",
    "#plt.ylim(10,120)"
   ]
  },
  {
   "cell_type": "code",
   "execution_count": 16,
   "id": "e9f27add-531d-425b-ac2d-cba352c5d383",
   "metadata": {},
   "outputs": [
    {
     "data": {
      "text/plain": [
       "Text(0, 0.5, 'среденяя цена квартир представленных для продажи в комапании')"
      ]
     },
     "execution_count": 16,
     "metadata": {},
     "output_type": "execute_result"
    },
    {
     "data": {
      "image/png": "[encoded data removed]",
      "text/plain": [
       "<Figure size 400x200 with 1 Axes>"
      ]
     },
     "metadata": {},
     "output_type": "display_data"
    }
   ],
   "source": [
    "plt.figure(figsize=(4,2))\n",
    "plt.scatter(df[\"date\"],df[\"avg price\"], alpha=0.4)\n",
    "plt.xlabel(\"дата\")\n",
    "plt.ylabel(\"среденяя цена квартир представленных для продажи в комапании\")"
   ]
  },
  {
   "cell_type": "code",
   "execution_count": 17,
   "id": "b5b03a63-6ce0-4385-9e94-88804dcf5dc3",
   "metadata": {},
   "outputs": [
    {
     "data": {
      "text/plain": [
       "Text(0, 0.5, 'среденяя цена квадратного метра квартир представленных для продажи в комапании')"
      ]
     },
     "execution_count": 17,
     "metadata": {},
     "output_type": "execute_result"
    },
    {
     "data": {
      "image/png": "[encoded data removed]",
      "text/plain": [
       "<Figure size 400x200 with 1 Axes>"
      ]
     },
     "metadata": {},
     "output_type": "display_data"
    }
   ],
   "source": [
    "plt.figure(figsize=(4,2))\n",
    "plt.scatter(df[\"date\"],df[\"avg price per metr\"], alpha=0.4)\n",
    "plt.xlabel(\"дата\")\n",
    "plt.ylabel(\"среденяя цена квадратного метра квартир представленных для продажи в комапании\")"
   ]
  },
  {
   "cell_type": "code",
   "execution_count": 18,
   "id": "6120e15d-654a-434c-92bc-17bdff609b88",
   "metadata": {},
   "outputs": [],
   "source": [
    "#seaborn.pairplot(df_price_sale__apartment_area)"
   ]
  },
  {
   "cell_type": "code",
   "execution_count": null,
   "id": "786205b5-73c8-4838-b5e8-0a7223e7f7ed",
   "metadata": {},
   "outputs": [],
   "source": []
  },
  {
   "cell_type": "markdown",
   "id": "691c88d4-ec31-4828-9575-6afbfef3ef5a",
   "metadata": {},
   "source": [
    "# Статистика продажи донстроя жк Остров 6 по дням"
   ]
  },
  {
   "cell_type": "code",
   "execution_count": 21,
   "id": "142c8a55-57e0-4f5c-b26c-31eeac5126e6",
   "metadata": {},
   "outputs": [],
   "source": [
    "cursor.execute(\"\"\"\n",
    "WITH sales_numbered AS (\n",
    "SELECT \n",
    "    id, \n",
    "    price_sale,\n",
    "    CAST(apartment_area as decimal) as apartment_area,\n",
    "    CAST(price_sale / apartment_area as decimal(15,2)),\n",
    "    date(datetime_create) as date\n",
    "    \n",
    "FROM products_history\n",
    "where \n",
    "    --datetime_create >= \"2022-01-17\"\n",
    "    --and \n",
    "    url like \"https://donstroy.moscow/objects/ostrov/plans/quarter6/%\"\n",
    "    and title like \"%Остров.6%\"\n",
    "    --and apartment_floor = 13\n",
    "    --and apartment_room = 1\n",
    "    --and apartment_area = '30.5'\n",
    "ORDER BY id desc\n",
    "LIMIT 1431111\n",
    ")\n",
    "\n",
    "SELECT \n",
    "    cast(sum(price_sale) as int),\n",
    "    cast(sum(apartment_area) as int),\n",
    "    cast(avg(price_sale / apartment_area) as int),\n",
    "    cast(sum(price_sale) / sum(apartment_area) as int),\n",
    "    avg(apartment_area),\n",
    "    avg(price_sale),\n",
    "    count(id),\n",
    "    date\n",
    "    \n",
    "FROM sales_numbered\n",
    "\n",
    "group by date\n",
    "ORDER BY date\n",
    "LIMIT 631  \n",
    "\"\"\")\n",
    "\n",
    "df = pd.DataFrame(cursor.fetchall(), columns=[\n",
    "    \"sum price_sale\",\n",
    "    \"sum apartment_area\",\n",
    "    \"avg price per metr\",\n",
    "    \"avg sum price per sum metr\",\n",
    "    \"avg apartment_area\",\n",
    "    \"avg price\",\n",
    "    \"count\",\n",
    "    \"date\"\n",
    "])"
   ]
  },
  {
   "cell_type": "code",
   "execution_count": 22,
   "id": "2fe472a3-9ffa-4200-bc5f-3318d6a967fe",
   "metadata": {},
   "outputs": [
    {
     "data": {
      "text/html": [
       "<div>\n",
       "<style scoped>\n",
       "    .dataframe tbody tr th:only-of-type {\n",
       "        vertical-align: middle;\n",
       "    }\n",
       "\n",
       "    .dataframe tbody tr th {\n",
       "        vertical-align: top;\n",
       "    }\n",
       "\n",
       "    .dataframe thead th {\n",
       "        text-align: right;\n",
       "    }\n",
       "</style>\n",
       "<table border=\"1\" class=\"dataframe\">\n",
       "  <thead>\n",
       "    <tr style=\"text-align: right;\">\n",
       "      <th></th>\n",
       "      <th>sum price_sale</th>\n",
       "      <th>sum apartment_area</th>\n",
       "      <th>avg price per metr</th>\n",
       "      <th>avg sum price per sum metr</th>\n",
       "      <th>avg apartment_area</th>\n",
       "      <th>avg price</th>\n",
       "      <th>count</th>\n",
       "      <th>date</th>\n",
       "    </tr>\n",
       "  </thead>\n",
       "  <tbody>\n",
       "    <tr>\n",
       "      <th>0</th>\n",
       "      <td>6410640830</td>\n",
       "      <td>11513</td>\n",
       "      <td>559545</td>\n",
       "      <td>556798</td>\n",
       "      <td>70.203659</td>\n",
       "      <td>3.908927e+07</td>\n",
       "      <td>164</td>\n",
       "      <td>2024-02-10</td>\n",
       "    </tr>\n",
       "    <tr>\n",
       "      <th>1</th>\n",
       "      <td>6410640830</td>\n",
       "      <td>11513</td>\n",
       "      <td>559545</td>\n",
       "      <td>556798</td>\n",
       "      <td>70.203659</td>\n",
       "      <td>3.908927e+07</td>\n",
       "      <td>164</td>\n",
       "      <td>2024-02-11</td>\n",
       "    </tr>\n",
       "  </tbody>\n",
       "</table>\n",
       "</div>"
      ],
      "text/plain": [
       "   sum price_sale  sum apartment_area  avg price per metr  \\\n",
       "0      6410640830               11513              559545   \n",
       "1      6410640830               11513              559545   \n",
       "\n",
       "   avg sum price per sum metr  avg apartment_area     avg price  count  \\\n",
       "0                      556798           70.203659  3.908927e+07    164   \n",
       "1                      556798           70.203659  3.908927e+07    164   \n",
       "\n",
       "         date  \n",
       "0  2024-02-10  \n",
       "1  2024-02-11  "
      ]
     },
     "execution_count": 22,
     "metadata": {},
     "output_type": "execute_result"
    }
   ],
   "source": [
    "df"
   ]
  },
  {
   "cell_type": "code",
   "execution_count": 23,
   "id": "cdf78209-4b72-41fb-a801-48eaeffeefac",
   "metadata": {},
   "outputs": [],
   "source": [
    "df = df.dropna()"
   ]
  },
  {
   "cell_type": "code",
   "execution_count": 24,
   "id": "3b56d4b9-6738-4b2d-b522-d0cc06624f0c",
   "metadata": {},
   "outputs": [
    {
     "data": {
      "text/plain": [
       "Text(0, 0.5, 'количество представленных квартир для продажи в комапании')"
      ]
     },
     "execution_count": 24,
     "metadata": {},
     "output_type": "execute_result"
    },
    {
     "data": {
      "image/png": "[encoded data removed]",
      "text/plain": [
       "<Figure size 400x200 with 1 Axes>"
      ]
     },
     "metadata": {},
     "output_type": "display_data"
    }
   ],
   "source": [
    "plt.figure(figsize=(4,2))\n",
    "plt.scatter(df[\"date\"],df[\"count\"], alpha=0.4)\n",
    "plt.xlabel(\"дата\")\n",
    "plt.ylabel(\"количество представленных квартир для продажи в комапании\")\n",
    "#plt.ylim(10,120)"
   ]
  },
  {
   "cell_type": "code",
   "execution_count": 25,
   "id": "6e8256f8-c606-49e0-b311-02b4835f6ec9",
   "metadata": {},
   "outputs": [
    {
     "data": {
      "text/plain": [
       "Text(0, 0.5, 'среденяя цена квартир представленных для продажи в комапании')"
      ]
     },
     "execution_count": 25,
     "metadata": {},
     "output_type": "execute_result"
    },
    {
     "data": {
      "image/png": "[encoded data removed]",
      "text/plain": [
       "<Figure size 400x200 with 1 Axes>"
      ]
     },
     "metadata": {},
     "output_type": "display_data"
    }
   ],
   "source": [
    "plt.figure(figsize=(4,2))\n",
    "plt.scatter(df[\"date\"],df[\"avg price\"], alpha=0.4)\n",
    "plt.xlabel(\"дата\")\n",
    "plt.ylabel(\"среденяя цена квартир представленных для продажи в комапании\")"
   ]
  },
  {
   "cell_type": "code",
   "execution_count": 26,
   "id": "fc829100-d87f-43ef-9ff8-7068d0de4e38",
   "metadata": {},
   "outputs": [
    {
     "data": {
      "text/plain": [
       "Text(0, 0.5, 'среденяя цена квадратного метра квартир представленных для продажи в комапании')"
      ]
     },
     "execution_count": 26,
     "metadata": {},
     "output_type": "execute_result"
    },
    {
     "data": {
      "image/png": "[encoded data removed]",
      "text/plain": [
       "<Figure size 400x200 with 1 Axes>"
      ]
     },
     "metadata": {},
     "output_type": "display_data"
    }
   ],
   "source": [
    "plt.figure(figsize=(4,2))\n",
    "plt.scatter(df[\"date\"],df[\"avg price per metr\"], alpha=0.4)\n",
    "plt.xlabel(\"дата\")\n",
    "plt.ylabel(\"среденяя цена квадратного метра квартир представленных для продажи в комапании\")"
   ]
  },
  {
   "cell_type": "code",
   "execution_count": null,
   "id": "f0105490-dfdd-4487-aabb-fee6ca1837eb",
   "metadata": {},
   "outputs": [],
   "source": [
    "seaborn.pairplot(df.drop(['price', \n",
    "                          'apartment_ppm',\n",
    "                          'title', \n",
    "                          'datetime_create', \n",
    "                          'category', \n",
    "                          'source_url', \n",
    "                          'apartment_address','apartment_location_lat','apartment_location_lon'], axis=1 ))"
   ]
  },
  {
   "cell_type": "code",
   "execution_count": null,
   "id": "7f08d837-f8df-4526-8014-8d39b4f6e9fa",
   "metadata": {},
   "outputs": [],
   "source": [
    "#seaborn.pairplot(df_price_sale__apartment_area)"
   ]
  },
  {
   "cell_type": "code",
   "execution_count": null,
   "id": "654d7fa2-bf23-4b5c-8425-2f03003d8d0b",
   "metadata": {},
   "outputs": [],
   "source": []
  },
  {
   "cell_type": "markdown",
   "id": "f3078841-9609-4007-a7df-008715b34b50",
   "metadata": {},
   "source": [
    "# Статистика продажи донстроя жк Остров 6 корпус 1 по дням"
   ]
  },
  {
   "cell_type": "code",
   "execution_count": 37,
   "id": "21796ed1-a4aa-4161-a12b-f678c70e28f0",
   "metadata": {},
   "outputs": [],
   "source": [
    "cursor.execute(\"\"\"\n",
    "WITH sales_numbered AS (\n",
    "SELECT \n",
    "    id, \n",
    "    price_sale,\n",
    "    CAST(apartment_area as decimal) as apartment_area,\n",
    "    CAST(price_sale / apartment_area as decimal(15,2)),\n",
    "    date(datetime_create) as date\n",
    "    \n",
    "FROM products_history\n",
    "where \n",
    "    --datetime_create >= \"2022-01-17\"\n",
    "    --and \n",
    "    url like \"https://donstroy.moscow/objects/ostrov/plans/quarter6/korpus1/%\"\n",
    "    and title like \"%Остров.6%\"\n",
    "    --and apartment_floor = 13\n",
    "    --and apartment_room = 1\n",
    "    --and apartment_area = '30.5'\n",
    "ORDER BY id desc\n",
    "LIMIT 1431111\n",
    ")\n",
    "\n",
    "SELECT \n",
    "    cast(sum(price_sale) as int),\n",
    "    cast(sum(apartment_area) as int),\n",
    "    cast(avg(price_sale / apartment_area) as int),\n",
    "    cast(sum(price_sale) / sum(apartment_area) as int),\n",
    "    avg(apartment_area),\n",
    "    avg(price_sale),\n",
    "    count(id),\n",
    "    date\n",
    "    \n",
    "FROM sales_numbered\n",
    "\n",
    "group by date\n",
    "ORDER BY date\n",
    "LIMIT 631  \n",
    "\"\"\")\n",
    "\n",
    "df = pd.DataFrame(cursor.fetchall(), columns=[\n",
    "    \"sum price_sale\",\n",
    "    \"sum apartment_area\",\n",
    "    \"avg price per metr\",\n",
    "    \"avg sum price per sum metr\",\n",
    "    \"avg apartment_area\",\n",
    "    \"avg price\",\n",
    "    \"count\",\n",
    "    \"date\"\n",
    "])"
   ]
  },
  {
   "cell_type": "code",
   "execution_count": 38,
   "id": "74fb5cec-cb39-424e-ac41-854670ccf89b",
   "metadata": {},
   "outputs": [
    {
     "data": {
      "text/html": [
       "<div>\n",
       "<style scoped>\n",
       "    .dataframe tbody tr th:only-of-type {\n",
       "        vertical-align: middle;\n",
       "    }\n",
       "\n",
       "    .dataframe tbody tr th {\n",
       "        vertical-align: top;\n",
       "    }\n",
       "\n",
       "    .dataframe thead th {\n",
       "        text-align: right;\n",
       "    }\n",
       "</style>\n",
       "<table border=\"1\" class=\"dataframe\">\n",
       "  <thead>\n",
       "    <tr style=\"text-align: right;\">\n",
       "      <th></th>\n",
       "      <th>sum price_sale</th>\n",
       "      <th>sum apartment_area</th>\n",
       "      <th>avg price per metr</th>\n",
       "      <th>avg sum price per sum metr</th>\n",
       "      <th>avg apartment_area</th>\n",
       "      <th>avg price</th>\n",
       "      <th>count</th>\n",
       "      <th>date</th>\n",
       "    </tr>\n",
       "  </thead>\n",
       "  <tbody>\n",
       "    <tr>\n",
       "      <th>0</th>\n",
       "      <td>1408318040</td>\n",
       "      <td>2440</td>\n",
       "      <td>568880</td>\n",
       "      <td>577037</td>\n",
       "      <td>69.731429</td>\n",
       "      <td>4.023766e+07</td>\n",
       "      <td>35</td>\n",
       "      <td>2024-02-10</td>\n",
       "    </tr>\n",
       "    <tr>\n",
       "      <th>1</th>\n",
       "      <td>1408318040</td>\n",
       "      <td>2440</td>\n",
       "      <td>568880</td>\n",
       "      <td>577037</td>\n",
       "      <td>69.731429</td>\n",
       "      <td>4.023766e+07</td>\n",
       "      <td>35</td>\n",
       "      <td>2024-02-11</td>\n",
       "    </tr>\n",
       "  </tbody>\n",
       "</table>\n",
       "</div>"
      ],
      "text/plain": [
       "   sum price_sale  sum apartment_area  avg price per metr  \\\n",
       "0      1408318040                2440              568880   \n",
       "1      1408318040                2440              568880   \n",
       "\n",
       "   avg sum price per sum metr  avg apartment_area     avg price  count  \\\n",
       "0                      577037           69.731429  4.023766e+07     35   \n",
       "1                      577037           69.731429  4.023766e+07     35   \n",
       "\n",
       "         date  \n",
       "0  2024-02-10  \n",
       "1  2024-02-11  "
      ]
     },
     "execution_count": 38,
     "metadata": {},
     "output_type": "execute_result"
    }
   ],
   "source": [
    "df"
   ]
  },
  {
   "cell_type": "code",
   "execution_count": 39,
   "id": "bb987f07-0e91-4c33-aa40-017244461ae3",
   "metadata": {},
   "outputs": [],
   "source": [
    "df = df.dropna()"
   ]
  },
  {
   "cell_type": "code",
   "execution_count": 40,
   "id": "ba1846f8-8f9d-40bf-a9ae-8de1f9233c73",
   "metadata": {},
   "outputs": [
    {
     "data": {
      "text/plain": [
       "Text(0, 0.5, 'количество представленных квартир для продажи в комапании')"
      ]
     },
     "execution_count": 40,
     "metadata": {},
     "output_type": "execute_result"
    },
    {
     "data": {
      "image/png": "[encoded data removed]",
      "text/plain": [
       "<Figure size 400x200 with 1 Axes>"
      ]
     },
     "metadata": {},
     "output_type": "display_data"
    }
   ],
   "source": [
    "plt.figure(figsize=(4,2))\n",
    "plt.scatter(df[\"date\"],df[\"count\"], alpha=0.4)\n",
    "plt.xlabel(\"дата\")\n",
    "plt.ylabel(\"количество представленных квартир для продажи в комапании\")\n",
    "#plt.ylim(10,120)"
   ]
  },
  {
   "cell_type": "code",
   "execution_count": 41,
   "id": "5c3732d4-9158-40a2-b6b0-239f8e32762f",
   "metadata": {},
   "outputs": [
    {
     "data": {
      "text/plain": [
       "Text(0, 0.5, 'среденяя цена квартир представленных для продажи в комапании')"
      ]
     },
     "execution_count": 41,
     "metadata": {},
     "output_type": "execute_result"
    },
    {
     "data": {
      "image/png": "[encoded data removed]",
      "text/plain": [
       "<Figure size 400x200 with 1 Axes>"
      ]
     },
     "metadata": {},
     "output_type": "display_data"
    }
   ],
   "source": [
    "plt.figure(figsize=(4,2))\n",
    "plt.scatter(df[\"date\"],df[\"avg price\"], alpha=0.4)\n",
    "plt.xlabel(\"дата\")\n",
    "plt.ylabel(\"среденяя цена квартир представленных для продажи в комапании\")"
   ]
  },
  {
   "cell_type": "code",
   "execution_count": 42,
   "id": "54212df8-4d5c-47b3-8d89-c7fab04d263f",
   "metadata": {},
   "outputs": [
    {
     "data": {
      "text/plain": [
       "Text(0, 0.5, 'среденяя цена квадратного метра квартир представленных для продажи в комапании')"
      ]
     },
     "execution_count": 42,
     "metadata": {},
     "output_type": "execute_result"
    },
    {
     "data": {
      "image/png": "[encoded data removed]",
      "text/plain": [
       "<Figure size 400x200 with 1 Axes>"
      ]
     },
     "metadata": {},
     "output_type": "display_data"
    }
   ],
   "source": [
    "plt.figure(figsize=(4,2))\n",
    "plt.scatter(df[\"date\"],df[\"avg price per metr\"], alpha=0.4)\n",
    "plt.xlabel(\"дата\")\n",
    "plt.ylabel(\"среденяя цена квадратного метра квартир представленных для продажи в комапании\")"
   ]
  },
  {
   "cell_type": "code",
   "execution_count": null,
   "id": "b85b3744-317c-464e-8534-7a2ceae59ab0",
   "metadata": {},
   "outputs": [],
   "source": [
    "#seaborn.pairplot(df.drop(['price', \n",
    "#                          'apartment_ppm',\n",
    "#                          'title', \n",
    "#                          'datetime_create', \n",
    "#                          'category', \n",
    "#                          'source_url', \n",
    "#                          'apartment_address','apartment_location_lat','apartment_location_lon'], axis=1 ))"
   ]
  },
  {
   "cell_type": "code",
   "execution_count": null,
   "id": "33e44cca-008c-47ce-902a-1a0e098532e3",
   "metadata": {},
   "outputs": [],
   "source": []
  },
  {
   "cell_type": "markdown",
   "id": "2002f488-43a7-4aa7-960c-2321e70feae1",
   "metadata": {},
   "source": [
    "# Статистика продажи донстроя жк Остров 5 по дням"
   ]
  },
  {
   "cell_type": "code",
   "execution_count": 50,
   "id": "38fb756c-05d8-4727-a0af-8781c170b805",
   "metadata": {},
   "outputs": [],
   "source": [
    "cursor.execute(\"\"\"\n",
    "WITH sales_numbered AS (\n",
    "SELECT \n",
    "    id, \n",
    "    price_sale,\n",
    "    CAST(apartment_area as decimal) as apartment_area,\n",
    "    CAST(price_sale / apartment_area as decimal(15,2)),\n",
    "    date(datetime_create) as date\n",
    "    \n",
    "FROM products_history\n",
    "where \n",
    "    --datetime_create >= \"2022-01-17\"\n",
    "    --and \n",
    "    url like \"https://donstroy.moscow/objects/ostrov/plans/quarter5/%\"\n",
    "    and title like \"%Остров.5%\"\n",
    "    --and apartment_floor = 13\n",
    "    --and apartment_room = 1\n",
    "    --and apartment_area = '30.5'\n",
    "ORDER BY id desc\n",
    "LIMIT 1431111\n",
    ")\n",
    "\n",
    "SELECT \n",
    "    cast(sum(price_sale) as int),\n",
    "    cast(sum(apartment_area) as int),\n",
    "    cast(avg(price_sale / apartment_area) as int),\n",
    "    cast(sum(price_sale) / sum(apartment_area) as int),\n",
    "    avg(apartment_area),\n",
    "    avg(price_sale),\n",
    "    count(id),\n",
    "    date\n",
    "    \n",
    "FROM sales_numbered\n",
    "\n",
    "group by date\n",
    "ORDER BY date\n",
    "LIMIT 631  \n",
    "\"\"\")\n",
    "\n",
    "df = pd.DataFrame(cursor.fetchall(), columns=[\n",
    "    \"sum price_sale\",\n",
    "    \"sum apartment_area\",\n",
    "    \"avg price per metr\",\n",
    "    \"avg sum price per sum metr\",\n",
    "    \"avg apartment_area\",\n",
    "    \"avg price\",\n",
    "    \"count\",\n",
    "    \"date\"\n",
    "])"
   ]
  },
  {
   "cell_type": "code",
   "execution_count": 51,
   "id": "7f798024-39e2-4be7-9c81-4de114965803",
   "metadata": {},
   "outputs": [
    {
     "data": {
      "text/html": [
       "<div>\n",
       "<style scoped>\n",
       "    .dataframe tbody tr th:only-of-type {\n",
       "        vertical-align: middle;\n",
       "    }\n",
       "\n",
       "    .dataframe tbody tr th {\n",
       "        vertical-align: top;\n",
       "    }\n",
       "\n",
       "    .dataframe thead th {\n",
       "        text-align: right;\n",
       "    }\n",
       "</style>\n",
       "<table border=\"1\" class=\"dataframe\">\n",
       "  <thead>\n",
       "    <tr style=\"text-align: right;\">\n",
       "      <th></th>\n",
       "      <th>sum price_sale</th>\n",
       "      <th>sum apartment_area</th>\n",
       "      <th>avg price per metr</th>\n",
       "      <th>avg sum price per sum metr</th>\n",
       "      <th>avg apartment_area</th>\n",
       "      <th>avg price</th>\n",
       "      <th>count</th>\n",
       "      <th>date</th>\n",
       "    </tr>\n",
       "  </thead>\n",
       "  <tbody>\n",
       "    <tr>\n",
       "      <th>0</th>\n",
       "      <td>5810854790</td>\n",
       "      <td>10063</td>\n",
       "      <td>589565</td>\n",
       "      <td>577413</td>\n",
       "      <td>70.374825</td>\n",
       "      <td>4.063535e+07</td>\n",
       "      <td>143</td>\n",
       "      <td>2024-02-10</td>\n",
       "    </tr>\n",
       "    <tr>\n",
       "      <th>1</th>\n",
       "      <td>5691507520</td>\n",
       "      <td>9842</td>\n",
       "      <td>590324</td>\n",
       "      <td>578258</td>\n",
       "      <td>69.804965</td>\n",
       "      <td>4.036530e+07</td>\n",
       "      <td>141</td>\n",
       "      <td>2024-02-11</td>\n",
       "    </tr>\n",
       "  </tbody>\n",
       "</table>\n",
       "</div>"
      ],
      "text/plain": [
       "   sum price_sale  sum apartment_area  avg price per metr  \\\n",
       "0      5810854790               10063              589565   \n",
       "1      5691507520                9842              590324   \n",
       "\n",
       "   avg sum price per sum metr  avg apartment_area     avg price  count  \\\n",
       "0                      577413           70.374825  4.063535e+07    143   \n",
       "1                      578258           69.804965  4.036530e+07    141   \n",
       "\n",
       "         date  \n",
       "0  2024-02-10  \n",
       "1  2024-02-11  "
      ]
     },
     "execution_count": 51,
     "metadata": {},
     "output_type": "execute_result"
    }
   ],
   "source": [
    "df"
   ]
  },
  {
   "cell_type": "code",
   "execution_count": 52,
   "id": "e525508c-f6d7-408c-ae88-9c2c4ce23be4",
   "metadata": {},
   "outputs": [],
   "source": [
    "df = df.dropna()"
   ]
  },
  {
   "cell_type": "code",
   "execution_count": 53,
   "id": "a831cdf0-35c1-478b-81ba-376468575ed9",
   "metadata": {},
   "outputs": [
    {
     "data": {
      "text/plain": [
       "Text(0, 0.5, 'количество представленных квартир для продажи в комапании')"
      ]
     },
     "execution_count": 53,
     "metadata": {},
     "output_type": "execute_result"
    },
    {
     "data": {
      "image/png": "[encoded data removed]",
      "text/plain": [
       "<Figure size 400x200 with 1 Axes>"
      ]
     },
     "metadata": {},
     "output_type": "display_data"
    }
   ],
   "source": [
    "plt.figure(figsize=(4,2))\n",
    "plt.scatter(df[\"date\"],df[\"count\"], alpha=0.4)\n",
    "plt.xlabel(\"дата\")\n",
    "plt.ylabel(\"количество представленных квартир для продажи в комапании\")\n",
    "#plt.ylim(10,120)"
   ]
  },
  {
   "cell_type": "code",
   "execution_count": 54,
   "id": "79d7e949-3ddd-4c3e-a991-501c8f4fed16",
   "metadata": {},
   "outputs": [
    {
     "data": {
      "text/plain": [
       "Text(0, 0.5, 'среденяя цена квартир представленных для продажи в комапании')"
      ]
     },
     "execution_count": 54,
     "metadata": {},
     "output_type": "execute_result"
    },
    {
     "data": {
      "image/png": "[encoded data removed]",
      "text/plain": [
       "<Figure size 400x200 with 1 Axes>"
      ]
     },
     "metadata": {},
     "output_type": "display_data"
    }
   ],
   "source": [
    "plt.figure(figsize=(4,2))\n",
    "plt.scatter(df[\"date\"],df[\"avg price\"], alpha=0.4)\n",
    "plt.xlabel(\"дата\")\n",
    "plt.ylabel(\"среденяя цена квартир представленных для продажи в комапании\")"
   ]
  },
  {
   "cell_type": "code",
   "execution_count": 55,
   "id": "6e95a39f-d363-48e1-b7ba-758d299c4454",
   "metadata": {},
   "outputs": [
    {
     "data": {
      "text/plain": [
       "Text(0, 0.5, 'среденяя цена квадратного метра квартир представленных для продажи в комапании')"
      ]
     },
     "execution_count": 55,
     "metadata": {},
     "output_type": "execute_result"
    },
    {
     "data": {
      "image/png": "[encoded data removed]",
      "text/plain": [
       "<Figure size 400x200 with 1 Axes>"
      ]
     },
     "metadata": {},
     "output_type": "display_data"
    }
   ],
   "source": [
    "plt.figure(figsize=(4,2))\n",
    "plt.scatter(df[\"date\"],df[\"avg price per metr\"], alpha=0.4)\n",
    "plt.xlabel(\"дата\")\n",
    "plt.ylabel(\"среденяя цена квадратного метра квартир представленных для продажи в комапании\")"
   ]
  },
  {
   "cell_type": "code",
   "execution_count": 56,
   "id": "527568e1-92c5-4855-900b-543b6407356e",
   "metadata": {},
   "outputs": [
    {
     "data": {
      "text/plain": [
       "<seaborn.axisgrid.PairGrid at 0x7f036e5262c0>"
      ]
     },
     "execution_count": 56,
     "metadata": {},
     "output_type": "execute_result"
    },
    {
     "data": {
      "image/png": "[encoded data removed]",
      "text/plain": [
       "<Figure size 1750x1750 with 56 Axes>"
      ]
     },
     "metadata": {},
     "output_type": "display_data"
    }
   ],
   "source": [
    "seaborn.pairplot(df)"
   ]
  },
  {
   "cell_type": "code",
   "execution_count": null,
   "id": "b49593bd-1a28-4624-bd5a-8895ef62f43d",
   "metadata": {},
   "outputs": [],
   "source": []
  }
 ],
 "metadata": {
  "kernelspec": {
   "display_name": "Python 3 (ipykernel)",
   "language": "python",
   "name": "python3"
  },
  "language_info": {
   "codemirror_mode": {
    "name": "ipython",
    "version": 3
   },
   "file_extension": ".py",
   "mimetype": "text/x-python",
   "name": "python",
   "nbconvert_exporter": "python",
   "pygments_lexer": "ipython3",
   "version": "3.10.10"
  }
 },
 "nbformat": 4,
 "nbformat_minor": 5
}
