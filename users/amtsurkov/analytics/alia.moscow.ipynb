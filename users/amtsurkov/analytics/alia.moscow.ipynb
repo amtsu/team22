{
 "cells": [
  {
   "cell_type": "code",
   "execution_count": 2,
   "id": "55a7b297-cc57-4621-807d-842713b69b22",
   "metadata": {},
   "outputs": [],
   "source": [
    "import re\n",
    "import urllib.request\n",
    "import urllib\n",
    "from bs4 import BeautifulSoup\n",
    "import json\n",
    "\n",
    "from multiprocessing import freeze_support\n",
    "freeze_support()\n",
    "\n",
    "import undetected_chromedriver as uc\n",
    "from selenium.webdriver.chrome.options import Options\n",
    "\n",
    "from selenium.webdriver.chrome.webdriver import WebDriver\n",
    "   \n",
    "import time\n",
    "\n",
    "\n",
    "class SamoletServiceProcessing:\n",
    "  \n",
    "    # def load_url_by_default(self):\n",
    "    #    self.__urls = [\n",
    "    #    \"https://samolet.ru/api_redesign/flats/?ordering=-order_manual,filter_price_package,pk&free=1\"\n",
    "    #    \"https://samolet.ru/api_redesign/flats/?ordering=-order_manual,filter_price_package,pk&free=1&offset=12&limit=12\"\n",
    "    #\n",
    "    #    \"https://samolet.ru/api_redesign/flats/200343/\"\n",
    "    #    ]\n",
    "\n",
    "    def __generate_jsons(self):\n",
    "        #for url_base in self.__urls:\n",
    "        #    next_url = url_base\n",
    "        #    while next_url:\n",
    "        #        url = next_url\n",
    "        #        next_url = \"\"\n",
    "        #        print(url)\n",
    "        #        #sessionid=kjw99ls6bcb4onofwazpcufjmwwa308x\n",
    "        #        a_request = urllib.request.Request(url)\n",
    "        #        #a_request.add_header(\"Cookie\", \"sessionid=kjw99ls6bcb4onofwazpcufjmwwa308x\")\n",
    "        #        #qrator_jsr=1701810731.684.adBf0Vn0XMh8G9sf-f67qh8uqbbmbh3a42siunqadovrbv0vp-00\n",
    "        #        a_request.add_header(\"Cookie\", \"qrator_jsr=1701810731.684.adBf0Vn0XMh8G9sf-f67qh8uqbbmbh3a42siunqadovrbv0vp-00; Max-Age=300; Path=/;\")\n",
    "        #        with urllib.request.urlopen(a_request) as response:\n",
    "        #        #with urllib.request.urlopen(url) as response:\n",
    "        #            self.__page = response.read()\n",
    "        #            jsons = json.loads(self.__page)\n",
    "        #            yield (jsons, url)\n",
    "        #            next_url = jsons.get(\"next\", \"\")\n",
    "\n",
    "        \n",
    "        # формируем настройки для хрома\n",
    "        options = Options()\n",
    "        options.add_argument('--no-sandbox')\n",
    "        options.add_argument('--disable-gpu')\n",
    "#        options.add_argument('--headless')  # отключает открытие браузера\n",
    "        options.add_argument('--window-size=1280x1696')\n",
    "        #options.add_argument('user-agent=Mozilla/5.0 (X11; Linux x86_64) AppleWebKit/537.36 (KHTML, like Gecko) Chrome/61.0.3163.100 Safari/537.36')\n",
    "        options.add_argument('user-agent=Mozilla/5.0 (Macintosh; Intel Mac OS X 10_15_7) AppleWebKit/537.36 (KHTML, like Gecko) Chrome/116.0.0.0 Safari/537.36') \n",
    "\n",
    "        options.add_argument('--disable-extensions')\n",
    "        options.add_argument('--disable-application-cache')\n",
    "        options.add_argument('--disable-gpu ')\n",
    "        options.add_argument('--no-sandbox')\n",
    "        options.add_argument('--disable-setuid-sandbox')\n",
    "        options.add_argument('--disable-dev-shm-usage')\n",
    "\n",
    "\n",
    "\n",
    "\n",
    "        \n",
    "        #options.binary_location = '/usr/bin/chromium-browser'\n",
    "        options.binary_location = '/usr/bin/chromedriver'\n",
    "\n",
    "        chrome = uc.Chrome(options=options, headless=True,use_subprocess=False )\n",
    "#        chrome = uc.Chrome(headless=True,use_subprocess=False )\n",
    "        #chrome = uc.Chrome()\n",
    "        \n",
    "    \n",
    "        #self.__list_dict = []\n",
    "        #for url in self.__urls:\n",
    "        #    for object_params in OnePage(url).list_dict():\n",
    "        #        self.__list_dict.append(object_params)\n",
    "        for url_base in self.__urls:\n",
    "            next_url = url_base\n",
    "            while next_url:\n",
    "                url = next_url\n",
    "                next_url = \"\"\n",
    "                print(url)\n",
    " \n",
    "                try:\n",
    "                    # пробуем получить страницу каталога\n",
    "                    chrome.get(url)\n",
    "                    # даем время на загрузку страницы\n",
    "                    time.sleep(3)\n",
    "                    # получаем html страницы\n",
    "                    page = chrome.page_source\n",
    "                    # варим суп\n",
    "                    #lenta_soup = BeautifulSoup(page, \"lxml\")\n",
    "                    \n",
    "                    print(page)\n",
    "                    self.__page = page \n",
    "                    jsons = json.loads(self.__page)\n",
    "                    yield (jsons, url)\n",
    "                    next_url = jsons.get(\"next\", \"\")\n",
    "\n",
    "                except AttributeError as e:\n",
    "                    print(f\"Неудалось получить общий каталог, ошибка - {e}\")\n",
    "\n",
    "\n",
    "                break\n",
    "\n",
    "    def process(self):\n",
    "        self.__urls = [\n",
    "            #\"https://samolet.ru/api_redesign/flats/?ordering=-order_manual,filter_price_package,pk&free=1\",\n",
    "            \"https://alia.moscow/flats/?newTypeFlat=209\",\n",
    "        ]\n",
    "\n",
    "        self.__list_dict = []\n",
    "        for jsons, source_url in self.__generate_jsons():\n",
    "            for e in jsons[\"results\"]:\n",
    "               \n",
    "                el = {}\n",
    "                el[\n",
    "                    \"title\"\n",
    "                ] = f\"{e['project']} {e['building']} {str(e['floor_number'])} {str(e['area'])}\"\n",
    "                el[\"quantity\"] = 1\n",
    "                el[\"price\"] = e[\"old_price_with_kitchen\"]\n",
    "                el[\"price_sale\"] = e[\"filter_price\"]\n",
    "                el[\"datetime_create\"] = \"1970-01-01T00:00:00.00Z\"\n",
    "                el[\"brand\"] = \"samolet.ru\"\n",
    "                el[\"brand_url\"] = \"alia.moscow\"\n",
    "                el[\"category\"] = \"Новостройки\"\n",
    "                el[\"url\"] = e[\"url\"]\n",
    "                el[\"image_url\"] = e[\"plan\"]\n",
    "                el[\"source_url\"] = source_url\n",
    "                el[\"apartment_area\"] = e[\"area\"]\n",
    "                el[\"apartment_floor\"] = int(e[\"floor_number\"])\n",
    "                if e.get(\"total_floors\"):\n",
    "                    el[\"apartment_floors_total\"] = int(e[\"total_floors\"])\n",
    "                else:\n",
    "                    print(\"not have floors_total in =\", source_url)\n",
    "                    el[\"apartment_floors_total\"] = None\n",
    "                el[\"apartment_room\"] = int(e[\"rooms\"])\n",
    "                el[\"apartment_ppm\"] = int(e[\"ppm\"])\n",
    "                el[\"apartment_address\"] = e[\"project\"]\n",
    "                #print(e[\"floor\"])\n",
    "                \n",
    "                self.__list_dict.append(el)\n",
    "            print(source_url)\n",
    "\n",
    "    # def pp(self):\n",
    "    #    return self.__list_dict\n",
    "\n",
    "    # def __create_file_name_with_current_datetime(self):\n",
    "    #    return 'lelev_fresh.json'\n",
    "\n",
    "    # def save_in_file_with_current_datetime(self):\n",
    "    #    json_string = json.dumps(self.__list_dict)\n",
    "    #    file_name = self.__create_file_name_with_current_datetime()\n",
    "    #    with open(file_name, 'w') as outfile:\n",
    "    #        json.dump(json_string, outfile)\n",
    "\n",
    "    def send_in_api(self):\n",
    "        configuration = openapi_client.Configuration(host=\"http://absrent.ru:8000\")\n",
    "\n",
    "        with openapi_client.ApiClient(configuration) as api_client:\n",
    "            api_instance = history_api.HistoryApi(api_client)\n",
    "            for e in self.__list_dict:\n",
    "                print(e)\n",
    "        \n",
    "            print(\"Count load object =\", len(self.__list_dict))"
   ]
  },
  {
   "cell_type": "code",
   "execution_count": null,
   "id": "8c9cf88e-82e1-48bd-95e6-9fee2cf2ceeb",
   "metadata": {},
   "outputs": [],
   "source": [
    "!ss -plnut"
   ]
  },
  {
   "cell_type": "code",
   "execution_count": null,
   "id": "73468369-52c5-44c8-8653-68fcff10ac57",
   "metadata": {},
   "outputs": [],
   "source": [
    "#!pip install undetected_chromedriver"
   ]
  },
  {
   "cell_type": "code",
   "execution_count": null,
   "id": "be909672-babe-48d3-a6f3-175ee9340cdc",
   "metadata": {},
   "outputs": [],
   "source": [
    "#!pip install undetected-chromedriver"
   ]
  },
  {
   "cell_type": "code",
   "execution_count": null,
   "id": "a373fc82-776d-4e0a-956b-689029499ce9",
   "metadata": {},
   "outputs": [],
   "source": [
    "!ls -la /home/jupyter-amtsu/.local/share/undetected_chromedriver/undetected_chromedriver"
   ]
  },
  {
   "cell_type": "code",
   "execution_count": null,
   "id": "f4bc67da-1633-4bce-929f-cdbaa1ffce52",
   "metadata": {},
   "outputs": [],
   "source": [
    "tssp = SamoletServiceProcessing()\n",
    "#tssp.load_url_by_default()\n",
    "tssp.process()\n",
    "tssp.send_in_api()"
   ]
  },
  {
   "cell_type": "code",
   "execution_count": null,
   "id": "8b1f6d75-f009-45b4-af23-7abd23ecbd6a",
   "metadata": {},
   "outputs": [],
   "source": []
  },
  {
   "cell_type": "code",
   "execution_count": null,
   "id": "fc02ca25-9515-41bb-a8d0-3dadeed1f21a",
   "metadata": {},
   "outputs": [],
   "source": []
  },
  {
   "cell_type": "code",
   "execution_count": null,
   "id": "c22b3912-bccb-4dc4-8d6d-9a9f4b02b6de",
   "metadata": {},
   "outputs": [],
   "source": [
    "options = uc.ChromeOptions()\n",
    "options.add_argument('--incognito')\n",
    "options.add_argument(\"--window-size=1920,1080\")\n",
    "options.add_argument(\"--start-maximized\")\n",
    "\n",
    "#added new options since issues in Jan 2023 #743\n",
    "options.add_argument(\"--disable-extensions\")\n",
    "options.add_argument(\"--disable-application-cache\")\n",
    "options.add_argument(\"--disable-gpu\")\n",
    "options.add_argument(\"--no-sandbox\")\n",
    "options.add_argument(\"--disable-setuid-sandbox\")\n",
    "options.add_argument(\"--disable-dev-shm-usage\")\n",
    "#options.add_argument(\"--headless\") #can enable or disable headless, up to your needs\n",
    "\n",
    "driver = uc.Chrome(use_subprocess=True,options = options)\n",
    "\n",
    "with driver:\n",
    "    driver.get('https://www.101katok.ru')"
   ]
  },
  {
   "cell_type": "code",
   "execution_count": 7,
   "id": "b265e8f4-5493-4de6-8194-aecf90f4f110",
   "metadata": {},
   "outputs": [],
   "source": [
    "#!curl https://alia.moscow/flats/?newTypeFlat=209"
   ]
  },
  {
   "cell_type": "code",
   "execution_count": 9,
   "id": "206085a0-4e6e-4497-8aaf-7273dc870799",
   "metadata": {},
   "outputs": [],
   "source": [
    "#driver = uc.Chrome()\n",
    "#driver.get('https://alia.moscow/flats/?newTypeFlat=209')"
   ]
  },
  {
   "cell_type": "code",
   "execution_count": null,
   "id": "cd64e5b4-5ac0-4c6f-8d93-c277805a7341",
   "metadata": {},
   "outputs": [],
   "source": [
    "options = uc.ChromeOptions()\n",
    "driver = uc.Chrome(options = options)\n",
    "driver.get('http://101katok.ru')"
   ]
  },
  {
   "cell_type": "code",
   "execution_count": null,
   "id": "1ca6cde6-9ca8-4b47-8486-4e41e91ba336",
   "metadata": {},
   "outputs": [],
   "source": [
    "options = uc.ChromeOptions()\n",
    "options.add_argument('--incognito')\n",
    "options.add_argument(\"--window-size=1920,1080\")\n",
    "options.add_argument(\"--start-maximized\")\n",
    "\n",
    "#added new options since issues in Jan 2023 #743\n",
    "options.add_argument(\"--disable-extensions\")\n",
    "options.add_argument(\"--disable-application-cache\")\n",
    "options.add_argument(\"--disable-gpu\")\n",
    "options.add_argument(\"--no-sandbox\")\n",
    "options.add_argument(\"--disable-setuid-sandbox\")\n",
    "options.add_argument(\"--disable-dev-shm-usage\")\n",
    "#options.add_argument(\"--headless\") #can enable or disable headless, up to your needs\n",
    "\n",
    "driver = uc.Chrome(use_subprocess=True,options = options)\n",
    "\n",
    "driver.get('http://101katok.ru')"
   ]
  },
  {
   "cell_type": "code",
   "execution_count": null,
   "id": "38910610-d8a0-4866-934c-f9a365e53d0e",
   "metadata": {},
   "outputs": [],
   "source": []
  },
  {
   "cell_type": "code",
   "execution_count": null,
   "id": "260ae2cf-1b7b-4dc6-91da-579da6da74c2",
   "metadata": {},
   "outputs": [],
   "source": []
  },
  {
   "cell_type": "code",
   "execution_count": null,
   "id": "490a7cd0-b112-42ea-913a-a7fec64421da",
   "metadata": {},
   "outputs": [],
   "source": [
    "options = uc.ChromeOptions()\n",
    "options.add_argument('--incognito')\n",
    "options.add_argument(\"--window-size=1920,1080\")\n",
    "options.add_argument(\"--start-maximized\")\n",
    "\n",
    "#added new options since issues in Jan 2023 #743\n",
    "options.add_argument(\"--disable-extensions\")\n",
    "options.add_argument(\"--disable-application-cache\")\n",
    "options.add_argument(\"--disable-gpu\")\n",
    "options.add_argument(\"--no-sandbox\")\n",
    "options.add_argument(\"--disable-setuid-sandbox\")\n",
    "options.add_argument(\"--disable-dev-shm-usage\")\n",
    "#options.add_argument(\"--headless\") #can enable or disable headless, up to your needs\n",
    "\n",
    "driver = uc.Chrome(use_subprocess=True,options = options)\n",
    "\n",
    "with driver:\n",
    "    driver.get('https://101katok.ru')"
   ]
  },
  {
   "cell_type": "code",
   "execution_count": null,
   "id": "1bb59ad3-08ce-48f9-92b0-ef4af167b645",
   "metadata": {},
   "outputs": [],
   "source": []
  },
  {
   "cell_type": "code",
   "execution_count": null,
   "id": "fbdebf5c-9722-4496-910b-12d00594d99b",
   "metadata": {},
   "outputs": [],
   "source": []
  },
  {
   "cell_type": "code",
   "execution_count": null,
   "id": "4b230bbc-3e3c-4e6e-96cc-7df55f6c0637",
   "metadata": {},
   "outputs": [],
   "source": [
    "\n",
    "\n",
    "options = uc.ChromeOptions()\n",
    "options.add_argument(\"--headless\")\n",
    "options.add_argument(\"--window-size=1920,1080\")\n",
    "\n",
    "# get ua from config file\n",
    "#ua = get_config_by_key(\"UA\", \"user_agent\")\n",
    "\n",
    "# update user-agent\n",
    "#chrome_options.add_argument(f\"--user-agent={ua}\")\n",
    "options.add_argument(\"--incognito\")\n",
    "\n",
    "options.add_argument(\"--disable-extensions\")\n",
    "options.add_argument(\"--disable-application-cache\")\n",
    "options.add_argument(\"--disable-gpu\")\n",
    "options.add_argument(\"--remote-debugging-port=9222\")\n",
    "options.add_argument(\"--port=19222\")\n",
    "options.add_argument(\"--no-sandbox\")\n",
    "options.add_argument(\"--disable-setuid-sandbox\")\n",
    "options.add_argument(\"--disable-dev-shm-usage\")\n",
    "options.add_argument(\"--disable-blink-features=AutomationControlled\")"
   ]
  },
  {
   "cell_type": "code",
   "execution_count": null,
   "id": "fb058d4f-0b70-4ea7-aa1c-46f4de250be5",
   "metadata": {},
   "outputs": [],
   "source": []
  },
  {
   "cell_type": "code",
   "execution_count": null,
   "id": "121cc852-e672-439f-88db-275d485bea96",
   "metadata": {},
   "outputs": [],
   "source": [
    "driver = uc.Chrome()"
   ]
  },
  {
   "cell_type": "code",
   "execution_count": null,
   "id": "ea893a59-ef12-46f6-98e8-201fdfb7859c",
   "metadata": {},
   "outputs": [],
   "source": [
    "driver = uc.Chrome(use_subprocess=True)"
   ]
  },
  {
   "cell_type": "markdown",
   "id": "5cad3bd1-4509-4420-949a-bbf34a7bfa70",
   "metadata": {},
   "source": [
    "#47565"
   ]
  },
  {
   "cell_type": "code",
   "execution_count": null,
   "id": "5b1754ee-4da8-46a1-b7af-4a26296cc16e",
   "metadata": {},
   "outputs": [],
   "source": [
    "driver = uc.Chrome(use_subprocess=False)"
   ]
  },
  {
   "cell_type": "code",
   "execution_count": null,
   "id": "b55890b8-ff00-4a9f-9ebb-68f671e88278",
   "metadata": {},
   "outputs": [],
   "source": [
    "driver = uc.Chrome(options = options)"
   ]
  },
  {
   "cell_type": "code",
   "execution_count": null,
   "id": "12db0e7e-2701-4286-8fd1-73831ff5b676",
   "metadata": {},
   "outputs": [],
   "source": [
    "driver = uc.Chrome(use_subprocess=True, options = options)"
   ]
  },
  {
   "cell_type": "code",
   "execution_count": null,
   "id": "5a7bbf1f-5dc0-4b4d-991a-f3e5cc1c9418",
   "metadata": {},
   "outputs": [],
   "source": [
    "#127.0.0.1:35573 "
   ]
  },
  {
   "cell_type": "code",
   "execution_count": null,
   "id": "30cf0f07-0444-4387-943d-03ae092c9916",
   "metadata": {},
   "outputs": [],
   "source": [
    "driver = uc.Chrome(use_subprocess=False,options = options)"
   ]
  },
  {
   "cell_type": "code",
   "execution_count": null,
   "id": "6d634e80-a1ef-4105-97e1-4e934834c44b",
   "metadata": {},
   "outputs": [],
   "source": [
    "driver.get('http://101katok.ru')"
   ]
  },
  {
   "cell_type": "code",
   "execution_count": null,
   "id": "ee4b04ed-8c80-4aab-b438-de1d293d0a1d",
   "metadata": {},
   "outputs": [],
   "source": []
  },
  {
   "cell_type": "code",
   "execution_count": null,
   "id": "7b6f4937-f256-4e76-a90e-004197337ec3",
   "metadata": {},
   "outputs": [],
   "source": []
  },
  {
   "cell_type": "markdown",
   "id": "5d0c9862-4f4a-4861-8b50-29cf6529a201",
   "metadata": {},
   "source": [
    "# пробуем на бьютифул чсоуп"
   ]
  },
  {
   "cell_type": "code",
   "execution_count": null,
   "id": "2c537bba-566c-4100-acdb-cdde137ba1d7",
   "metadata": {},
   "outputs": [],
   "source": []
  }
 ],
 "metadata": {
  "kernelspec": {
   "display_name": "Python 3 (ipykernel)",
   "language": "python",
   "name": "python3"
  },
  "language_info": {
   "codemirror_mode": {
    "name": "ipython",
    "version": 3
   },
   "file_extension": ".py",
   "mimetype": "text/x-python",
   "name": "python",
   "nbconvert_exporter": "python",
   "pygments_lexer": "ipython3",
   "version": "3.10.10"
  }
 },
 "nbformat": 4,
 "nbformat_minor": 5
}
