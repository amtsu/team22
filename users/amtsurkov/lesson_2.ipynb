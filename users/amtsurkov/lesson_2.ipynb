{
 "cells": [
  {
   "cell_type": "markdown",
   "metadata": {},
   "source": [
    "# Репозиорий с кодом github\n",
    "- что это такое и зачем\n",
    "- git@github.com:22malvina/team22.git\n",
    "- git clone git@github.com:22malvina/team22.git\n",
    "- branch\n",
    "- branch Name\n",
    "- checkout Name\n",
    "- add .\n",
    "- commit -m 'do'\n",
    "- push\n",
    "- merge\n",
    "- rebase\n"
   ]
  },
  {
   "cell_type": "code",
   "execution_count": 2,
   "metadata": {},
   "outputs": [],
   "source": [
    "#git@github.com:22malvina/team22.git"
   ]
  },
  {
   "cell_type": "markdown",
   "metadata": {},
   "source": [
    "…or create a new repository on the command line<br>\n",
    "echo \"# team22\" >> README.md<br>\n",
    "git init<br>\n",
    "git add README.md<br>\n",
    "git commit -m \"first commit\"<br>\n",
    "git branch -M main<br>\n",
    "git remote add origin git@github.com:22malvina/team22.git<br>\n",
    "git push -u origin main<br>\n",
    "<br>\n",
    "…or push an existing repository from the command line<br>\n",
    "git remote add origin git@github.com:22malvina/team22.git<br>\n",
    "git branch -M main<br>\n",
    "git push -u origin main<br>"
   ]
  },
  {
   "cell_type": "markdown",
   "metadata": {},
   "source": [
    "# Комрьютерная программа это набор инструкций, которые выполняет компьютер.\n",
    "\n",
    "- простые операции\n",
    "    8 * ( 2 + 3 )\n",
    "- переменные как замена числам\n",
    "- строки\n",
    "- многострочные коментари ''' la la la '''\n",
    "    \"la \\\"la la\"\n",
    "- подстановка \n",
    "    price = 300\n",
    "    sale = 'последняя цена: %s рублей'\n",
    "    print(sale % price)\n",
    "- операции с строками\n",
    "    print('la' * 3)\n",
    "- списки \n",
    "    поэлемнотное обращенеи\n",
    "    list_my[1]\n",
    "    list_my.append(4)\n",
    "    del list_my[3]\n",
    "    list_1 + list_2\n",
    "    list_1 * 3\n",
    "- срезы\n",
    "    list_my[2:4]\n",
    "- списки m * n * k *\n",
    "    list_my[1][5][0]\n",
    "- вложенные циклы\n",
    "- вложенные фцнкции\n",
    "- функции вызывающие функции\n",
    "- кортежи\n",
    "- словари\n",
    "    dict_1['ff'] = 1\n",
    "    del dict_1['lala']\n",
    "- множества\n",
    "- type \n",
    "    int\n",
    "    float\n",
    "    str\n",
    "- if elif elif else \n",
    "- for + while\n",
    "    break\n",
    "    continue\n",
    "- None\n",
    "- модули\n",
    "    import time\n",
    "    import sys\n",
    "    sys.stdin.readline()\n",
    "- встроенны ефункции\n",
    "    bool\n",
    "    dir\n",
    "    help\n",
    "    eval('10 - 5')\n",
    "    exec\n",
    "    len\n",
    "    max, min\n",
    "    range\n",
    "    sum\n",
    "- lambda\n",
    "- классы\n",
    "     class Things:\n",
    "              pass\n",
    "     class Inanimate(Things):\n",
    "              pass\n",
    "     reginald = Giraffes()\n",
    "     reginald.move()\n",
    "     def __ init__(self, spots):\n",
    "- обекты\n",
    "- if \\_\\_name__ == \"\\_\\_main__\":\n",
    "    hello()\n",
    "- работа с фалами\n",
    "    test_file = open('c:\\\\Users\\\\<ваше имя пользователя>\\\\\n",
    "                            test.txt')\n",
    "    text = test_file.read()\n",
    "    print(text)\n",
    "    \n",
    "    \n",
    "    test_file = open('c:\\\\myfile.txt', 'w')\n",
    "    test_file.write('это – тестовый файл')\n",
    "    \n",
    "    test_file.close()\n",
    "- copy\n",
    "- pickle\n",
    "- Интерпритаторы и комитяторы\n"
   ]
  },
  {
   "cell_type": "code",
   "execution_count": null,
   "metadata": {},
   "outputs": [],
   "source": []
  },
  {
   "cell_type": "markdown",
   "metadata": {},
   "source": [
    "Блоки\n",
    "<img src=\"https://cdn.100sp.ru/pictures/387322652\">"
   ]
  },
  {
   "cell_type": "markdown",
   "metadata": {},
   "source": [
    "Оператор\n",
    "Значение<br>\n",
    "\\==\n",
    "Равно<br>\n",
    "!=\n",
    "Не равно<br>\n",
    "\\>\n",
    "Больше<br>\n",
    "<\n",
    "Меньше<br>\n",
    "\\>=\n",
    "Больше или равно<br>\n",
    "<=\n",
    "Меньше или равно"
   ]
  },
  {
   "cell_type": "code",
   "execution_count": 4,
   "metadata": {},
   "outputs": [
    {
     "data": {
      "text/plain": [
       "u'/home/amtsurkov/lessons'"
      ]
     },
     "execution_count": 4,
     "metadata": {},
     "output_type": "execute_result"
    }
   ],
   "source": [
    "pwd"
   ]
  },
  {
   "cell_type": "code",
   "execution_count": null,
   "metadata": {},
   "outputs": [],
   "source": []
  },
  {
   "cell_type": "code",
   "execution_count": 3,
   "metadata": {},
   "outputs": [
    {
     "name": "stdout",
     "output_type": "stream",
     "text": [
      "total 76\r\n",
      "drwxr-xr-x  5 amtsurkov education  4096 Sep 14 19:30 \u001b[0m\u001b[01;34m.\u001b[0m/\r\n",
      "drwxr-xr-x 11 amtsurkov education  4096 Sep 14 19:31 \u001b[01;34m..\u001b[0m/\r\n",
      "drwxr-xr-x  2 amtsurkov education  4096 Sep 12 21:38 \u001b[01;34m.ipynb_checkpoints\u001b[0m/\r\n",
      "-rw-r--r--  1 amtsurkov education 25624 Sep  9 12:12 lesson_1.ipynb\r\n",
      "-rw-r--r--  1 amtsurkov education  5444 Sep 10 15:44 lesson_1_work_1.ipynb\r\n",
      "-rw-r--r--  1 amtsurkov education  8890 Sep 13 21:41 lesson_1_work_1_v2.ipynb\r\n",
      "drwxr-xr-x  3 amtsurkov education  4096 Sep 12 21:50 \u001b[01;34mlesson_1_work_done\u001b[0m/\r\n",
      "-rw-r--r--  1 amtsurkov education  5641 Sep 14 19:30 lesson_2.ipynb\r\n",
      "drwxr-xr-x  2 amtsurkov education  4096 Sep 10 15:43 \u001b[01;34mtest\u001b[0m/\r\n"
     ]
    }
   ],
   "source": [
    "ls -la"
   ]
  },
  {
   "cell_type": "code",
   "execution_count": 9,
   "metadata": {},
   "outputs": [],
   "source": [
    "!cp ../mulib.py mulib.py"
   ]
  },
  {
   "cell_type": "code",
   "execution_count": 10,
   "metadata": {},
   "outputs": [
    {
     "name": "stdout",
     "output_type": "stream",
     "text": [
      "total 80\r\n",
      "drwxr-xr-x  5 amtsurkov education  4096 Sep 14 19:32 .\r\n",
      "drwxr-xr-x 11 amtsurkov education  4096 Sep 14 19:33 ..\r\n",
      "drwxr-xr-x  2 amtsurkov education  4096 Sep 12 21:38 .ipynb_checkpoints\r\n",
      "-rw-r--r--  1 amtsurkov education 25624 Sep  9 12:12 lesson_1.ipynb\r\n",
      "-rw-r--r--  1 amtsurkov education  5444 Sep 10 15:44 lesson_1_work_1.ipynb\r\n",
      "-rw-r--r--  1 amtsurkov education  8890 Sep 13 21:41 lesson_1_work_1_v2.ipynb\r\n",
      "drwxr-xr-x  3 amtsurkov education  4096 Sep 12 21:50 lesson_1_work_done\r\n",
      "-rw-r--r--  1 amtsurkov education  5641 Sep 14 19:30 lesson_2.ipynb\r\n",
      "-rw-r--r--  1 amtsurkov education    79 Sep 14 19:33 mulib.py\r\n",
      "drwxr-xr-x  2 amtsurkov education  4096 Sep 10 15:43 test\r\n"
     ]
    }
   ],
   "source": [
    "!ls -la"
   ]
  },
  {
   "cell_type": "code",
   "execution_count": 11,
   "metadata": {},
   "outputs": [
    {
     "name": "stdout",
     "output_type": "stream",
     "text": [
      "def print_home():\r\n",
      "    print('home')\r\n",
      "    \r\n",
      "def sum_3(a,b,c):\r\n",
      "    return a + b + c"
     ]
    }
   ],
   "source": [
    "cat mulib.py"
   ]
  },
  {
   "cell_type": "code",
   "execution_count": 12,
   "metadata": {},
   "outputs": [
    {
     "ename": "NameError",
     "evalue": "name 'print_home' is not defined",
     "output_type": "error",
     "traceback": [
      "\u001b[0;31m---------------------------------------------------------------------------\u001b[0m",
      "\u001b[0;31mNameError\u001b[0m                                 Traceback (most recent call last)",
      "\u001b[0;32m<ipython-input-12-cee1b205e833>\u001b[0m in \u001b[0;36m<module>\u001b[0;34m()\u001b[0m\n\u001b[0;32m----> 1\u001b[0;31m \u001b[0mprint_home\u001b[0m\u001b[0;34m(\u001b[0m\u001b[0;34m)\u001b[0m\u001b[0;34m\u001b[0m\u001b[0m\n\u001b[0m",
      "\u001b[0;31mNameError\u001b[0m: name 'print_home' is not defined"
     ]
    }
   ],
   "source": [
    "print_home()"
   ]
  },
  {
   "cell_type": "code",
   "execution_count": 13,
   "metadata": {},
   "outputs": [
    {
     "ename": "NameError",
     "evalue": "name 'sum_3' is not defined",
     "output_type": "error",
     "traceback": [
      "\u001b[0;31m---------------------------------------------------------------------------\u001b[0m",
      "\u001b[0;31mNameError\u001b[0m                                 Traceback (most recent call last)",
      "\u001b[0;32m<ipython-input-13-1a094a4b21cd>\u001b[0m in \u001b[0;36m<module>\u001b[0;34m()\u001b[0m\n\u001b[0;32m----> 1\u001b[0;31m \u001b[0msum_3\u001b[0m\u001b[0;34m(\u001b[0m\u001b[0;36m1\u001b[0m\u001b[0;34m,\u001b[0m\u001b[0;36m2\u001b[0m\u001b[0;34m,\u001b[0m\u001b[0;36m4\u001b[0m\u001b[0;34m)\u001b[0m\u001b[0;34m\u001b[0m\u001b[0m\n\u001b[0m",
      "\u001b[0;31mNameError\u001b[0m: name 'sum_3' is not defined"
     ]
    }
   ],
   "source": [
    "sum_3(1,2,4)"
   ]
  },
  {
   "cell_type": "code",
   "execution_count": 14,
   "metadata": {},
   "outputs": [
    {
     "name": "stdout",
     "output_type": "stream",
     "text": [
      "total 84\r\n",
      "drwxr-xr-x  5 amtsurkov education  4096 Sep 14 19:36 .\r\n",
      "drwxr-xr-x 11 amtsurkov education  4096 Sep 14 19:33 ..\r\n",
      "drwxr-xr-x  2 amtsurkov education  4096 Sep 12 21:38 .ipynb_checkpoints\r\n",
      "-rw-r--r--  1 amtsurkov education 25624 Sep  9 12:12 lesson_1.ipynb\r\n",
      "-rw-r--r--  1 amtsurkov education  5444 Sep 10 15:44 lesson_1_work_1.ipynb\r\n",
      "-rw-r--r--  1 amtsurkov education  8890 Sep 13 21:41 lesson_1_work_1_v2.ipynb\r\n",
      "drwxr-xr-x  3 amtsurkov education  4096 Sep 12 21:50 lesson_1_work_done\r\n",
      "-rw-r--r--  1 amtsurkov education 10019 Sep 14 19:34 lesson_2.ipynb\r\n",
      "-rw-r--r--  1 amtsurkov education    79 Sep 14 19:33 mulib.py\r\n",
      "-rw-r--r--  1 amtsurkov education     0 Sep 14 19:36 mydef.py\r\n",
      "drwxr-xr-x  2 amtsurkov education  4096 Sep 10 15:43 test\r\n"
     ]
    }
   ],
   "source": [
    "!ls -la"
   ]
  },
  {
   "cell_type": "code",
   "execution_count": 17,
   "metadata": {},
   "outputs": [
    {
     "name": "stdout",
     "output_type": "stream",
     "text": [
      "def print_home():\r\n",
      "    print('home')\r\n",
      "    \r\n",
      "def sum_3(a,b,c):\r\n",
      "    return a + b + c\r\n",
      "    "
     ]
    }
   ],
   "source": [
    "!cat mydef.py"
   ]
  },
  {
   "cell_type": "code",
   "execution_count": 23,
   "metadata": {},
   "outputs": [
    {
     "ename": "NameError",
     "evalue": "name 'print_home' is not defined",
     "output_type": "error",
     "traceback": [
      "\u001b[0;31m---------------------------------------------------------------------------\u001b[0m",
      "\u001b[0;31mNameError\u001b[0m                                 Traceback (most recent call last)",
      "\u001b[0;32m<ipython-input-23-cee1b205e833>\u001b[0m in \u001b[0;36m<module>\u001b[0;34m()\u001b[0m\n\u001b[0;32m----> 1\u001b[0;31m \u001b[0mprint_home\u001b[0m\u001b[0;34m(\u001b[0m\u001b[0;34m)\u001b[0m\u001b[0;34m\u001b[0m\u001b[0m\n\u001b[0m",
      "\u001b[0;31mNameError\u001b[0m: name 'print_home' is not defined"
     ]
    }
   ],
   "source": [
    "print_home()"
   ]
  },
  {
   "cell_type": "code",
   "execution_count": 22,
   "metadata": {},
   "outputs": [
    {
     "ename": "NameError",
     "evalue": "name 'sum_3' is not defined",
     "output_type": "error",
     "traceback": [
      "\u001b[0;31m---------------------------------------------------------------------------\u001b[0m",
      "\u001b[0;31mNameError\u001b[0m                                 Traceback (most recent call last)",
      "\u001b[0;32m<ipython-input-22-1a094a4b21cd>\u001b[0m in \u001b[0;36m<module>\u001b[0;34m()\u001b[0m\n\u001b[0;32m----> 1\u001b[0;31m \u001b[0msum_3\u001b[0m\u001b[0;34m(\u001b[0m\u001b[0;36m1\u001b[0m\u001b[0;34m,\u001b[0m\u001b[0;36m2\u001b[0m\u001b[0;34m,\u001b[0m\u001b[0;36m4\u001b[0m\u001b[0;34m)\u001b[0m\u001b[0;34m\u001b[0m\u001b[0m\n\u001b[0m",
      "\u001b[0;31mNameError\u001b[0m: name 'sum_3' is not defined"
     ]
    }
   ],
   "source": [
    "sum_3(1,2,4)"
   ]
  },
  {
   "cell_type": "code",
   "execution_count": 20,
   "metadata": {},
   "outputs": [],
   "source": [
    "import mydef"
   ]
  },
  {
   "cell_type": "code",
   "execution_count": 25,
   "metadata": {},
   "outputs": [
    {
     "name": "stdout",
     "output_type": "stream",
     "text": [
      "home\n"
     ]
    }
   ],
   "source": [
    "mydef.print_home()"
   ]
  },
  {
   "cell_type": "code",
   "execution_count": 29,
   "metadata": {},
   "outputs": [],
   "source": [
    "#from mysupermodul.def2 import print_lolo"
   ]
  },
  {
   "cell_type": "code",
   "execution_count": 30,
   "metadata": {},
   "outputs": [],
   "source": [
    "h = mydef.sum_3(1,2,2)"
   ]
  },
  {
   "cell_type": "code",
   "execution_count": 31,
   "metadata": {},
   "outputs": [
    {
     "data": {
      "text/plain": [
       "5"
      ]
     },
     "execution_count": 31,
     "metadata": {},
     "output_type": "execute_result"
    }
   ],
   "source": [
    "h"
   ]
  },
  {
   "cell_type": "code",
   "execution_count": null,
   "metadata": {},
   "outputs": [],
   "source": [
    "\n",
    "\n"
   ]
  },
  {
   "cell_type": "code",
   "execution_count": 1,
   "metadata": {},
   "outputs": [
    {
     "ename": "NameError",
     "evalue": "name 'sum_3' is not defined",
     "output_type": "error",
     "traceback": [
      "\u001b[0;31m---------------------------------------------------------------------------\u001b[0m",
      "\u001b[0;31mNameError\u001b[0m                                 Traceback (most recent call last)",
      "\u001b[0;32m<ipython-input-1-1a094a4b21cd>\u001b[0m in \u001b[0;36m<module>\u001b[0;34m()\u001b[0m\n\u001b[0;32m----> 1\u001b[0;31m \u001b[0msum_3\u001b[0m\u001b[0;34m(\u001b[0m\u001b[0;36m1\u001b[0m\u001b[0;34m,\u001b[0m\u001b[0;36m2\u001b[0m\u001b[0;34m,\u001b[0m\u001b[0;36m4\u001b[0m\u001b[0;34m)\u001b[0m\u001b[0;34m\u001b[0m\u001b[0m\n\u001b[0m",
      "\u001b[0;31mNameError\u001b[0m: name 'sum_3' is not defined"
     ]
    }
   ],
   "source": [
    "sum_3(1,2,4)"
   ]
  },
  {
   "cell_type": "code",
   "execution_count": 2,
   "metadata": {},
   "outputs": [],
   "source": [
    "from mydef import sum_3"
   ]
  },
  {
   "cell_type": "code",
   "execution_count": 3,
   "metadata": {},
   "outputs": [
    {
     "data": {
      "text/plain": [
       "7"
      ]
     },
     "execution_count": 3,
     "metadata": {},
     "output_type": "execute_result"
    }
   ],
   "source": [
    "sum_3(1,2,4)"
   ]
  },
  {
   "cell_type": "code",
   "execution_count": 4,
   "metadata": {},
   "outputs": [
    {
     "ename": "NameError",
     "evalue": "name 'print_home' is not defined",
     "output_type": "error",
     "traceback": [
      "\u001b[0;31m---------------------------------------------------------------------------\u001b[0m",
      "\u001b[0;31mNameError\u001b[0m                                 Traceback (most recent call last)",
      "\u001b[0;32m<ipython-input-4-cee1b205e833>\u001b[0m in \u001b[0;36m<module>\u001b[0;34m()\u001b[0m\n\u001b[0;32m----> 1\u001b[0;31m \u001b[0mprint_home\u001b[0m\u001b[0;34m(\u001b[0m\u001b[0;34m)\u001b[0m\u001b[0;34m\u001b[0m\u001b[0m\n\u001b[0m",
      "\u001b[0;31mNameError\u001b[0m: name 'print_home' is not defined"
     ]
    }
   ],
   "source": [
    "print_home()"
   ]
  },
  {
   "cell_type": "code",
   "execution_count": 5,
   "metadata": {},
   "outputs": [],
   "source": [
    "from mydef import sum_3, print_home"
   ]
  },
  {
   "cell_type": "code",
   "execution_count": 6,
   "metadata": {},
   "outputs": [
    {
     "name": "stdout",
     "output_type": "stream",
     "text": [
      "home\n"
     ]
    }
   ],
   "source": [
    "print_home()"
   ]
  },
  {
   "cell_type": "code",
   "execution_count": 9,
   "metadata": {},
   "outputs": [
    {
     "name": "stdout",
     "output_type": "stream",
     "text": [
      "\u001b[33mDEPRECATION: Python 2.7 reached the end of its life on January 1st, 2020. Please upgrade your Python as Python 2.7 is no longer maintained. pip 21.0 will drop support for Python 2.7 in January 2021. More details about Python 2 support in pip can be found at https://pip.pypa.io/en/latest/development/release-process/#python-2-support pip 21.0 will remove support for this functionality.\u001b[0m\n",
      "Defaulting to user installation because normal site-packages is not writeable\n",
      "\u001b[31mERROR: Could not find a version that satisfies the requirement ddddddd (from versions: none)\u001b[0m\n",
      "\u001b[31mERROR: No matching distribution found for ddddddd\u001b[0m\n"
     ]
    }
   ],
   "source": [
    "!pip install ddddddd"
   ]
  },
  {
   "cell_type": "code",
   "execution_count": 12,
   "metadata": {},
   "outputs": [
    {
     "name": "stdout",
     "output_type": "stream",
     "text": [
      "-rw-r--r-- 1 aominakov education 14243 Sep 14 19:03 ../../aominakov/lesson_1_work_1_v2_minakov.ipynb\r\n"
     ]
    }
   ],
   "source": [
    "!ls -la ../../aominakov/lesson_1_work_1_v2_minakov.ipynb \n"
   ]
  },
  {
   "cell_type": "code",
   "execution_count": 13,
   "metadata": {},
   "outputs": [
    {
     "data": {
      "text/plain": [
       "u'/home/amtsurkov/lessons'"
      ]
     },
     "execution_count": 13,
     "metadata": {},
     "output_type": "execute_result"
    }
   ],
   "source": [
    "pwd"
   ]
  },
  {
   "cell_type": "code",
   "execution_count": 14,
   "metadata": {},
   "outputs": [],
   "source": [
    "cp ../../aominakov/lesson_1_work_1_v2_minakov.ipynb  lesson_1_work_1_v2_minakov_220914.ipynb  "
   ]
  },
  {
   "cell_type": "code",
   "execution_count": 15,
   "metadata": {},
   "outputs": [],
   "source": [
    "cp ../../kstimofeev/lesson_1_work_1_v2.ipynb lesson_1_work_1_v2_ktimofeev_220914.ipynb "
   ]
  },
  {
   "cell_type": "code",
   "execution_count": null,
   "metadata": {},
   "outputs": [],
   "source": []
  }
 ],
 "metadata": {
  "kernelspec": {
   "display_name": "Python 3 (ipykernel)",
   "language": "python",
   "name": "python3"
  },
  "language_info": {
   "codemirror_mode": {
    "name": "ipython",
    "version": 3
   },
   "file_extension": ".py",
   "mimetype": "text/x-python",
   "name": "python",
   "nbconvert_exporter": "python",
   "pygments_lexer": "ipython3",
   "version": "3.9.7"
  }
 },
 "nbformat": 4,
 "nbformat_minor": 2
}
