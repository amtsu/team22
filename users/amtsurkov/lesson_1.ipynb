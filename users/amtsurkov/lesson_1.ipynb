{
 "cells": [
  {
   "cell_type": "code",
   "execution_count": 1,
   "metadata": {},
   "outputs": [],
   "source": [
    "# -*- coding: utf-8 -*-"
   ]
  },
  {
   "cell_type": "markdown",
   "metadata": {},
   "source": [
    "Попрактикуемся с основами Python\n",
    "\n",
    "\n",
    "# 1. Основы Python\n",
    "\n",
    "**Python** - язык программирования общего назначения, т.е. на нем можно написать все, что угодно. \n",
    "\n",
    "1) Open-source, т.е. он свободно и бесплатно доступен \n",
    "2) Много библиотек, т.е. кода, для работы со специфическими задачами. "
   ]
  },
  {
   "cell_type": "markdown",
   "metadata": {},
   "source": [
    "### Где мы работаем\n",
    "\n",
    "Мы имеем дело с интерактивной средой, в которой можно не только писать код, а создавать полноценный аналитический документ с кодом, комментариями\n",
    "\n",
    "Файл, в котором мы работаем сейчас, называется **ноутбуком**. Его стандартное расширение .ipynb. Также его можно скачать в виде html-страницы или pdf-документа."
   ]
  },
  {
   "cell_type": "markdown",
   "metadata": {},
   "source": [
    "### Как устроен \n",
    "\n",
    "- Ноутбук состоит из ячеек. Даже текущий текст написан в ячейке."
   ]
  },
  {
   "cell_type": "markdown",
   "metadata": {},
   "source": [
    "### Изменение типа ячейки\n",
    "Ячейки бывают двух типов: \n",
    "    1) Кодовая\n",
    "    2) Текстовая"
   ]
  },
  {
   "cell_type": "markdown",
   "metadata": {},
   "source": [
    "### Стандартные функции языка\n",
    "\n",
    "Функции - это маленькие программки, которые умеют выполнять какую-то операцию \n",
    "\n",
    "Функции вызываются, после имени функции следуют круглые скобки, в которых указываются аргументы (над каким объектом будет выполнена операция) и параметры (с какими условиями)"
   ]
  },
  {
   "cell_type": "markdown",
   "metadata": {},
   "source": [
    "### print()\n",
    "Функция для вывода содержимого на экран. \n",
    "**Обязательно**: передать хотя бы какой-то объект, который нужно напечатать."
   ]
  },
  {
   "cell_type": "markdown",
   "metadata": {},
   "source": [
    "Посчитать количетсво птроаченых денег ва месц\n",
    "суум ввсех чеков"
   ]
  },
  {
   "cell_type": "code",
   "execution_count": 1,
   "metadata": {},
   "outputs": [
    {
     "name": "stdout",
     "output_type": "stream",
     "text": [
      "Hello, world Ivan!\n"
     ]
    }
   ],
   "source": [
    "print(\"Hello, world Ivan!\")"
   ]
  },
  {
   "cell_type": "code",
   "execution_count": 5,
   "metadata": {},
   "outputs": [
    {
     "name": "stdout",
     "output_type": "stream",
     "text": [
      "10001\n"
     ]
    }
   ],
   "source": [
    "print(10001)"
   ]
  },
  {
   "cell_type": "code",
   "execution_count": 8,
   "metadata": {},
   "outputs": [
    {
     "name": "stdout",
     "output_type": "stream",
     "text": [
      "3\n",
      "home\n"
     ]
    }
   ],
   "source": [
    "j = 1\n",
    "h = 2\n",
    "k = h + j\n",
    "print(k)\n",
    "h2 = \"home\"\n",
    "print(h2)"
   ]
  },
  {
   "cell_type": "code",
   "execution_count": 4,
   "metadata": {},
   "outputs": [
    {
     "name": "stdout",
     "output_type": "stream",
     "text": [
      "5\n"
     ]
    }
   ],
   "source": [
    "print(5)"
   ]
  },
  {
   "cell_type": "code",
   "execution_count": 8,
   "metadata": {},
   "outputs": [],
   "source": [
    "# -*- coding: utf-8 -*-"
   ]
  },
  {
   "cell_type": "markdown",
   "metadata": {},
   "source": [
    "### TODO Разобраться с русской раскладкой"
   ]
  },
  {
   "cell_type": "code",
   "execution_count": 9,
   "metadata": {},
   "outputs": [
    {
     "name": "stdout",
     "output_type": "stream",
     "text": [
      "('\\xd0\\xa0\\xd0\\xb0\\xd0\\xb1\\xd0\\xbe\\xd1\\x82\\xd0\\xb0\\xd0\\xb5\\xd0\\xbc \\xd1\\x81 \\xd1\\x87\\xd0\\xb8\\xd1\\x81\\xd0\\xbb\\xd0\\xb0\\xd0\\xbc\\xd0\\xb8', 5, '\\xd0\\xb8', 2)\n",
      "7\n",
      "3\n",
      "10\n"
     ]
    }
   ],
   "source": [
    "print('Работаем с числами', 5, 'и', 2)\n",
    "print(5 + 2)\n",
    "print(5 - 2)\n",
    "print(5 * 2)"
   ]
  },
  {
   "cell_type": "code",
   "execution_count": 6,
   "metadata": {},
   "outputs": [
    {
     "name": "stdout",
     "output_type": "stream",
     "text": [
      "('\\xd0\\xa6\\xd0\\xb5\\xd0\\xbb\\xd0\\xbe\\xd1\\x87\\xd0\\xb8\\xd1\\x81\\xd0\\xbb\\xd0\\xb5\\xd0\\xbd\\xd0\\xbd\\xd0\\xbe\\xd0\\xb5 \\xd0\\xb4\\xd0\\xb5\\xd0\\xbb\\xd0\\xb5\\xd0\\xbd\\xd0\\xb8\\xd0\\xb5:', 2)\n",
      "('\\xd0\\x9e\\xd1\\x81\\xd1\\x82\\xd0\\xb0\\xd1\\x82\\xd0\\xbe\\xd0\\xba \\xd0\\xbe\\xd1\\x82 \\xd0\\xb4\\xd0\\xb5\\xd0\\xbb\\xd0\\xb5\\xd0\\xbd\\xd0\\xb8\\xd1\\x8f:', 1)\n"
     ]
    }
   ],
   "source": [
    "print('Целочисленное деление:', 5 // 2)\n",
    "print('Остаток от деления:', 5 % 2)"
   ]
  },
  {
   "cell_type": "markdown",
   "metadata": {},
   "source": [
    "sum = plus(x, y)\n",
    "sum = x + y\n",
    "\n",
    "x + y + z \n",
    "plus(x, plus(y, z))\n",
    "\n",
    "# разбор интерпристорим комнад посдедовательнсоти\n",
    "\n",
    "\n"
   ]
  },
  {
   "cell_type": "markdown",
   "metadata": {},
   "source": [
    "### Переменные и типы переменных\n",
    "\n",
    "Результаты операций и манипуляций иногда нужно сохранять, поэтому мы определяем переменные - именованные объекты, которым присваиваем значения. "
   ]
  },
  {
   "cell_type": "code",
   "execution_count": 17,
   "metadata": {},
   "outputs": [],
   "source": [
    "savings_2017 = 2000\n",
    "savings_2016 = 1800\n",
    "increase = ((2000 - 1800) / 180) * 100"
   ]
  },
  {
   "cell_type": "code",
   "execution_count": 18,
   "metadata": {},
   "outputs": [
    {
     "name": "stdout",
     "output_type": "stream",
     "text": [
      "100\n"
     ]
    }
   ],
   "source": [
    "# Вывести на печать % роста накоплений\n",
    "# round() - функция округления числа\n",
    "print(increase)"
   ]
  },
  {
   "cell_type": "code",
   "execution_count": 19,
   "metadata": {},
   "outputs": [],
   "source": [
    "savings_2017 = savings_2016"
   ]
  },
  {
   "cell_type": "code",
   "execution_count": 20,
   "metadata": {},
   "outputs": [
    {
     "data": {
      "text/plain": [
       "1800"
      ]
     },
     "execution_count": 20,
     "metadata": {},
     "output_type": "execute_result"
    }
   ],
   "source": [
    "savings_2017"
   ]
  },
  {
   "cell_type": "markdown",
   "metadata": {},
   "source": [
    "### Типы переменных\n",
    "\n",
    "- int: целое число\n",
    "- float: число с дробной частью\n",
    "- str: текст\n",
    "- bool: логическая переменная"
   ]
  },
  {
   "cell_type": "markdown",
   "metadata": {},
   "source": [
    "### Список (list)\n",
    "\n",
    "В python списки хранят упорядоченный набор элементов, которые могут быть разных типов."
   ]
  },
  {
   "cell_type": "code",
   "execution_count": 21,
   "metadata": {},
   "outputs": [],
   "source": [
    "savings_family = [500, 1000, 746, 2000]\n",
    "\n",
    "savings_family = ['mom', 500,'dad', 1000, 'brother', 746, 'me', 2000]"
   ]
  },
  {
   "cell_type": "code",
   "execution_count": 22,
   "metadata": {},
   "outputs": [
    {
     "data": {
      "text/plain": [
       "['mom', 500, 'dad', 1000, 'brother', 746, 'me', 2000]"
      ]
     },
     "execution_count": 22,
     "metadata": {},
     "output_type": "execute_result"
    }
   ],
   "source": [
    "savings_family"
   ]
  },
  {
   "cell_type": "markdown",
   "metadata": {},
   "source": [
    "Одним из самых часто используемых методов (т.е. функций) для работы со списком является **append**: \n",
    "- list.append(x)\tДобавляет элемент в конец списка"
   ]
  },
  {
   "cell_type": "code",
   "execution_count": 23,
   "metadata": {},
   "outputs": [
    {
     "data": {
      "text/plain": [
       "['apple', 'lemon', 'pineapple']"
      ]
     },
     "execution_count": 23,
     "metadata": {},
     "output_type": "execute_result"
    }
   ],
   "source": [
    "list_words = ['apple', 'lemon', 'pineapple']\n",
    "\n",
    "list_words"
   ]
  },
  {
   "cell_type": "code",
   "execution_count": 24,
   "metadata": {},
   "outputs": [
    {
     "data": {
      "text/plain": [
       "['apple', 'lemon', 'pineapple', 'watermelon']"
      ]
     },
     "execution_count": 24,
     "metadata": {},
     "output_type": "execute_result"
    }
   ],
   "source": [
    "list_words.append('watermelon')\n",
    "\n",
    "list_words"
   ]
  },
  {
   "cell_type": "code",
   "execution_count": 25,
   "metadata": {},
   "outputs": [
    {
     "data": {
      "text/plain": [
       "4"
      ]
     },
     "execution_count": 25,
     "metadata": {},
     "output_type": "execute_result"
    }
   ],
   "source": [
    "len(list_words)"
   ]
  },
  {
   "cell_type": "markdown",
   "metadata": {},
   "source": [
    "### Логические выражения\n",
    "\n",
    "По аналогии с арифметическими выражениями существуют логические выражения, которые могут быть истинными или ложными. Простое логическое выражение имеет вид \n",
    "\n",
    "<арифметическое выражение> <знак сравнения> <арифметическое выражение>.  \n",
    "\n",
    "<center> \n",
    "    <table>\n",
    "        <tr>\n",
    "            <th>Логическое выражение </th>\n",
    "            <th> Значение </th>\n",
    "        </tr> \n",
    "        <tr><td>&lt;</td><td> Меньше</td></tr>\n",
    "        <tr><td>&gt;</td><td> Больше</td></tr>\n",
    "        <tr><td>&lt;=</td><td> Меньше или равно</td></tr>\n",
    "        <tr><td>&gt;=</td><td> Больше или равно</td></tr>\n",
    "        <tr><td>==</td><td> Равно </td></tr>\n",
    "        <tr><td>!=</td><td> Не равно</td></tr>\n",
    "    </table>\n",
    "</center>"
   ]
  },
  {
   "cell_type": "code",
   "execution_count": 28,
   "metadata": {},
   "outputs": [
    {
     "data": {
      "text/plain": [
       "False"
      ]
     },
     "execution_count": 28,
     "metadata": {},
     "output_type": "execute_result"
    }
   ],
   "source": [
    "10 > 33\n",
    "#True = srvni_bolsh(10,3)"
   ]
  },
  {
   "cell_type": "code",
   "execution_count": 29,
   "metadata": {},
   "outputs": [
    {
     "name": "stdout",
     "output_type": "stream",
     "text": [
      "<type 'bool'>\n",
      "False\n",
      "0\n"
     ]
    }
   ],
   "source": [
    "x = 1 > 2\n",
    "print(type(x)) # узнаем тип переменной\n",
    "print(x)\n",
    "print(int(x)) # приводим переменную к типу int\n"
   ]
  },
  {
   "cell_type": "code",
   "execution_count": 35,
   "metadata": {},
   "outputs": [
    {
     "name": "stdout",
     "output_type": "stream",
     "text": [
      "100010\n",
      "1010\n",
      "1010\n"
     ]
    },
    {
     "data": {
      "text/plain": [
       "1010"
      ]
     },
     "execution_count": 35,
     "metadata": {},
     "output_type": "execute_result"
    }
   ],
   "source": [
    "str1 = \"1000\"\n",
    "\n",
    "print(str1 + \"10\")\n",
    "print(int(str1) + int(\"10\"))\n",
    "print(int(str1) + 10)\n",
    "int(str1) + 10"
   ]
  },
  {
   "cell_type": "markdown",
   "metadata": {},
   "source": [
    "### Условный оператор\n",
    "\n",
    "Наиболее частое применение логические выражения находят в условных операторах.\n",
    "\n",
    "Синтаксис в питоне: \n",
    "**if** условие:\n",
    "    команда\n",
    "**else**: \n",
    "    команда"
   ]
  },
  {
   "cell_type": "code",
   "execution_count": 44,
   "metadata": {},
   "outputs": [
    {
     "name": "stdout",
     "output_type": "stream",
     "text": [
      "x больше y\n",
      "8\n"
     ]
    }
   ],
   "source": [
    "\n",
    "x = 15\n",
    "y = 7\n",
    "# количество услови бесконечно НО\n",
    "if (x > y and x > 30 and y < 12) or y > 6:\n",
    "    print('x больше y')\n",
    "    print(x - y)\n",
    "else:\n",
    "    print(' ')\n",
    "    print('y не меньше, чем x')"
   ]
  },
  {
   "cell_type": "code",
   "execution_count": null,
   "metadata": {},
   "outputs": [],
   "source": [
    "def is_calculte_sum_manth(x, y):\n",
    "     return (xsssd > ywd and xewdewd > 30 and home_may_fgamaly < 12) or y>6\n",
    "    \n",
    "x = 15\n",
    "y = 7\n",
    "# количество услови бесконечно НО\n",
    "if is_calculte_sum_manth(x, y):\n",
    "    print('x больше y')\n",
    "    print(x - y)\n",
    "else:\n",
    "    print(' ')\n",
    "    print('y не меньше, чем x')"
   ]
  },
  {
   "cell_type": "markdown",
   "metadata": {},
   "source": [
    "### Функция range(n)\n",
    "\n",
    "Функция создает объект, внутри которого содержится последовательность чисел в заданных диапазонах (start, stop). Число stop не включается в итоговую последовательность. \n",
    "Ее синтаксис:\n",
    "- range(start, stop)"
   ]
  },
  {
   "cell_type": "code",
   "execution_count": 51,
   "metadata": {
    "scrolled": true
   },
   "outputs": [
    {
     "name": "stdout",
     "output_type": "stream",
     "text": [
      "[0, 1, 2, 3, 4]\n"
     ]
    }
   ],
   "source": [
    "g = range(5)\n",
    "print(range(5))\n",
    "\n",
    "# запсутить нтрепритаро локалаьно "
   ]
  },
  {
   "cell_type": "code",
   "execution_count": 52,
   "metadata": {},
   "outputs": [
    {
     "name": "stdout",
     "output_type": "stream",
     "text": [
      "[0, 1, 2, 3, 4]\n",
      "[2, 3, 4, 5, 6]\n"
     ]
    }
   ],
   "source": [
    "print(range(5))\n",
    "print(list(range(2, 7)))"
   ]
  },
  {
   "cell_type": "markdown",
   "metadata": {},
   "source": [
    "Цикл for позволяет поочередно перебрать элементы.\n",
    "\n",
    "Ее синтаксис: \n",
    "**for** i **in** диапазон изменений i:\n",
    "     команда"
   ]
  },
  {
   "cell_type": "code",
   "execution_count": 56,
   "metadata": {},
   "outputs": [
    {
     "name": "stdout",
     "output_type": "stream",
     "text": [
      "1\n",
      "2\n",
      "3\n",
      "4\n",
      "5\n"
     ]
    }
   ],
   "source": [
    "n = 5\n",
    "for i in range(1,6):\n",
    "    print(i)"
   ]
  },
  {
   "cell_type": "code",
   "execution_count": null,
   "metadata": {},
   "outputs": [],
   "source": []
  },
  {
   "cell_type": "code",
   "execution_count": 57,
   "metadata": {},
   "outputs": [
    {
     "name": "stdout",
     "output_type": "stream",
     "text": [
      "red\n",
      "green\n",
      "yellow\n"
     ]
    }
   ],
   "source": [
    "for color in ['red', 'green', 'yellow']:\n",
    "    print(color)"
   ]
  },
  {
   "cell_type": "code",
   "execution_count": 2,
   "metadata": {
    "scrolled": true
   },
   "outputs": [
    {
     "name": "stdout",
     "output_type": "stream",
     "text": [
      "red color red\n",
      "green color green\n",
      "yellow color yellow\n",
      "pink color pink\n",
      "blue color blue\n"
     ]
    }
   ],
   "source": [
    "list_color = ['red', 'green', 'yellow']\n",
    "list_color.append('pink')\n",
    "list_color.append('blue')\n",
    "\n",
    "for color in list_color:\n",
    "    print(color + ' color ' + color )\n",
    "\n"
   ]
  },
  {
   "cell_type": "code",
   "execution_count": 3,
   "metadata": {},
   "outputs": [
    {
     "name": "stdout",
     "output_type": "stream",
     "text": [
      "['red', 'green', 'yellow', 'pink', 'blue']\n"
     ]
    }
   ],
   "source": [
    "print(list_color)"
   ]
  },
  {
   "cell_type": "code",
   "execution_count": 12,
   "metadata": {},
   "outputs": [
    {
     "name": "stdout",
     "output_type": "stream",
     "text": [
      "10\n",
      "9\n",
      "next\n",
      "9\n",
      "8\n",
      "next\n",
      "8\n",
      "7\n",
      "next\n",
      "7\n",
      "6\n",
      "next\n",
      "6\n",
      "5\n",
      "next\n",
      "5\n",
      "4\n",
      "next\n",
      "4\n",
      "3\n",
      "next\n",
      "3\n",
      "2\n",
      "next\n",
      "finish\n"
     ]
    }
   ],
   "source": [
    "i = 10\n",
    "while i > 2:\n",
    "    print (i)\n",
    "    i = i - 1\n",
    "    print(i)\n",
    "    print('next')\n",
    "print('finish')"
   ]
  },
  {
   "cell_type": "markdown",
   "metadata": {},
   "source": [
    "### Написание функций\n",
    "\n",
    "Если какие-то операции надо повторять из раза в раз и нет готовых функций, то можно создать свою. \n",
    "\n",
    "Синтаксис: \n",
    "**def** название функции(список аргументов):\n",
    "    команды\n",
    "     **return** результат выполнения функции"
   ]
  },
  {
   "cell_type": "code",
   "execution_count": 26,
   "metadata": {},
   "outputs": [
    {
     "name": "stdout",
     "output_type": "stream",
     "text": [
      "230\n",
      "230\n"
     ]
    }
   ],
   "source": [
    "def calc(number1, number2):\n",
    "    result = number1 * number2 + number1 + number2\n",
    "    print(result)\n",
    "    return result\n",
    "    \n",
    "\n",
    "def calc_2():\n",
    "    return 2\n",
    "    \n",
    "number1 = 10\n",
    "number2 = 20\n",
    "new_1 = calc(number1, number2)\n",
    "print(new_1)"
   ]
  },
  {
   "cell_type": "code",
   "execution_count": 22,
   "metadata": {},
   "outputs": [
    {
     "name": "stdout",
     "output_type": "stream",
     "text": [
      "1\n",
      "2\n",
      "11\n"
     ]
    }
   ],
   "source": [
    "def calc(x1, x2):\n",
    "    result = x1 * x2 + x1 + x2\n",
    "    #print(result)\n",
    "    print(x1)\n",
    "    print(x2)\n",
    "    if x1 > 2:\n",
    "        return result\n",
    "    else:\n",
    "        return 11\n",
    "    return None\n",
    "\n",
    "def calc_2():\n",
    "    return 2\n",
    "  \n",
    "#print(x1)\n",
    "    \n",
    "number1 = 10\n",
    "number2 = 20\n",
    "number3 = 30\n",
    "new_1 = calc(number1, number2)\n",
    "#new_1 = calc(10, 20)\n",
    "\n",
    "print(new_1)"
   ]
  },
  {
   "cell_type": "code",
   "execution_count": null,
   "metadata": {},
   "outputs": [],
   "source": [
    "#План выкопать яму\n"
   ]
  },
  {
   "cell_type": "markdown",
   "metadata": {},
   "source": [
    "### **Задание A**\n",
    "\n",
    "Напишите функцию, которая перебирает числа от 1 до 15 (включительно) и возвращает список из чисел кратных 3."
   ]
  },
  {
   "cell_type": "code",
   "execution_count": 28,
   "metadata": {},
   "outputs": [],
   "source": [
    "d = 'ddd'"
   ]
  },
  {
   "cell_type": "code",
   "execution_count": 29,
   "metadata": {},
   "outputs": [
    {
     "name": "stdout",
     "output_type": "stream",
     "text": [
      "ddd\n"
     ]
    }
   ],
   "source": [
    "print(d)"
   ]
  },
  {
   "cell_type": "code",
   "execution_count": 36,
   "metadata": {},
   "outputs": [],
   "source": [
    "s = 1\n",
    "k = s + 6"
   ]
  },
  {
   "cell_type": "code",
   "execution_count": 37,
   "metadata": {},
   "outputs": [
    {
     "name": "stdout",
     "output_type": "stream",
     "text": [
      "7\n"
     ]
    }
   ],
   "source": [
    "print(k)"
   ]
  },
  {
   "cell_type": "code",
   "execution_count": 38,
   "metadata": {},
   "outputs": [
    {
     "name": "stdout",
     "output_type": "stream",
     "text": [
      "lesson_1.ipynb\r\n"
     ]
    }
   ],
   "source": [
    "!ls"
   ]
  },
  {
   "cell_type": "code",
   "execution_count": 24,
   "metadata": {},
   "outputs": [],
   "source": [
    "# путь к текущй деректори"
   ]
  },
  {
   "cell_type": "code",
   "execution_count": 25,
   "metadata": {
    "scrolled": true
   },
   "outputs": [
    {
     "name": "stdout",
     "output_type": "stream",
     "text": [
      "/home/test22\r\n"
     ]
    }
   ],
   "source": [
    "!pwd"
   ]
  },
  {
   "cell_type": "code",
   "execution_count": 26,
   "metadata": {},
   "outputs": [
    {
     "name": "stdout",
     "output_type": "stream",
     "text": [
      "lesson_1.ipynb\r\n"
     ]
    }
   ],
   "source": [
    "!ls"
   ]
  },
  {
   "cell_type": "code",
   "execution_count": 27,
   "metadata": {},
   "outputs": [
    {
     "name": "stdout",
     "output_type": "stream",
     "text": [
      "total 68\r\n",
      "drwxr-xr-x  7 test22 education  4096 Sep  7 21:06 .\r\n",
      "drwxr-xr-x 19 root   root       4096 Sep  7 18:48 ..\r\n",
      "-rw-------  1 test22 education    93 Sep  7 19:10 .bash_history\r\n",
      "-rw-r--r--  1 test22 education   220 Sep  1  2015 .bash_logout\r\n",
      "-rw-r--r--  1 test22 education  3771 Sep  1  2015 .bashrc\r\n",
      "drwx------  2 test22 education  4096 Sep  7 18:50 .cache\r\n",
      "drwxr-xr-x  2 test22 education  4096 Sep  7 19:16 .ipynb_checkpoints\r\n",
      "drwxr-xr-x  5 test22 education  4096 Sep  7 19:16 .ipython\r\n",
      "drwxr-xr-x  2 test22 education  4096 Sep  7 19:19 .jupyter\r\n",
      "-rw-r--r--  1 test22 education 22470 Sep  7 21:06 lesson_1.ipynb\r\n",
      "drwx------  3 test22 education  4096 Sep  7 18:50 .local\r\n",
      "-rw-r--r--  1 test22 education   655 Jul 12  2019 .profile\r\n"
     ]
    }
   ],
   "source": [
    "!ls -la"
   ]
  },
  {
   "cell_type": "code",
   "execution_count": 28,
   "metadata": {},
   "outputs": [
    {
     "name": "stdout",
     "output_type": "stream",
     "text": [
      "/home/test22\r\n"
     ]
    }
   ],
   "source": [
    "!pwd"
   ]
  },
  {
   "cell_type": "code",
   "execution_count": 29,
   "metadata": {},
   "outputs": [],
   "source": [
    "!cp /home/test22/lesson_1.ipynb lesson_1_1.ipynb"
   ]
  },
  {
   "cell_type": "code",
   "execution_count": 30,
   "metadata": {},
   "outputs": [
    {
     "name": "stdout",
     "output_type": "stream",
     "text": [
      "total 92\r\n",
      "drwxr-xr-x  7 test22 education  4096 Sep  7 21:08 .\r\n",
      "drwxr-xr-x 19 root   root       4096 Sep  7 18:48 ..\r\n",
      "-rw-------  1 test22 education    93 Sep  7 19:10 .bash_history\r\n",
      "-rw-r--r--  1 test22 education   220 Sep  1  2015 .bash_logout\r\n",
      "-rw-r--r--  1 test22 education  3771 Sep  1  2015 .bashrc\r\n",
      "drwx------  2 test22 education  4096 Sep  7 18:50 .cache\r\n",
      "drwxr-xr-x  2 test22 education  4096 Sep  7 19:16 .ipynb_checkpoints\r\n",
      "drwxr-xr-x  5 test22 education  4096 Sep  7 19:16 .ipython\r\n",
      "drwxr-xr-x  2 test22 education  4096 Sep  7 19:19 .jupyter\r\n",
      "-rw-r--r--  1 test22 education 24017 Sep  7 21:08 lesson_1_1.ipynb\r\n",
      "-rw-r--r--  1 test22 education 24017 Sep  7 21:07 lesson_1.ipynb\r\n",
      "drwx------  3 test22 education  4096 Sep  7 18:50 .local\r\n",
      "-rw-r--r--  1 test22 education   655 Jul 12  2019 .profile\r\n"
     ]
    }
   ],
   "source": [
    "!ls -la"
   ]
  },
  {
   "cell_type": "code",
   "execution_count": null,
   "metadata": {},
   "outputs": [],
   "source": []
  }
 ],
 "metadata": {
  "kernelspec": {
   "display_name": "Python 3 (ipykernel)",
   "language": "python",
   "name": "python3"
  },
  "language_info": {
   "codemirror_mode": {
    "name": "ipython",
    "version": 3
   },
   "file_extension": ".py",
   "mimetype": "text/x-python",
   "name": "python",
   "nbconvert_exporter": "python",
   "pygments_lexer": "ipython3",
   "version": "3.9.7"
  }
 },
 "nbformat": 4,
 "nbformat_minor": 2
}
