{
 "cells": [
  {
   "cell_type": "code",
   "execution_count": 12,
   "metadata": {},
   "outputs": [
    {
     "name": "stdout",
     "output_type": "stream",
     "text": [
      "\u001b[33mDEPRECATION: Python 2.7 reached the end of its life on January 1st, 2020. Please upgrade your Python as Python 2.7 is no longer maintained. pip 21.0 will drop support for Python 2.7 in January 2021. More details about Python 2 support in pip can be found at https://pip.pypa.io/en/latest/development/release-process/#python-2-support pip 21.0 will remove support for this functionality.\u001b[0m\n",
      "Defaulting to user installation because normal site-packages is not writeable\n",
      "Requirement already satisfied: mysql.connector in /home/amtsurkov/.local/lib/python2.7/site-packages (2.2.9)\n"
     ]
    }
   ],
   "source": [
    "!pip install mysql.connector"
   ]
  },
  {
   "cell_type": "code",
   "execution_count": 14,
   "metadata": {},
   "outputs": [
    {
     "ename": "ImportError",
     "evalue": "No module named mysql.connector",
     "output_type": "error",
     "traceback": [
      "\u001b[0;31m---------------------------------------------------------------------------\u001b[0m",
      "\u001b[0;31mImportError\u001b[0m                               Traceback (most recent call last)",
      "\u001b[0;32m<ipython-input-14-a3779e3e91b7>\u001b[0m in \u001b[0;36m<module>\u001b[0;34m()\u001b[0m\n\u001b[0;32m----> 1\u001b[0;31m \u001b[0;32mimport\u001b[0m \u001b[0mmysql\u001b[0m\u001b[0;34m.\u001b[0m\u001b[0mconnector\u001b[0m\u001b[0;34m\u001b[0m\u001b[0m\n\u001b[0m\u001b[1;32m      2\u001b[0m \u001b[0;34m\u001b[0m\u001b[0m\n\u001b[1;32m      3\u001b[0m cnx = mysql.connector.connect(user='amtsurkov', password='qsc486fgh',\n\u001b[1;32m      4\u001b[0m                               \u001b[0mhost\u001b[0m\u001b[0;34m=\u001b[0m\u001b[0;34m'0.0.0.0'\u001b[0m\u001b[0;34m,\u001b[0m\u001b[0;34m\u001b[0m\u001b[0m\n\u001b[1;32m      5\u001b[0m                               database='team22')\n",
      "\u001b[0;31mImportError\u001b[0m: No module named mysql.connector"
     ]
    }
   ],
   "source": [
    "import mysql.connector\n",
    "\n",
    "cnx = mysql.connector.connect(user='amtsurkov', password='qsc486fgh',\n",
    "                              host='127.0.0.1',\n",
    "                              database='team22')\n",
    "cnx.close()"
   ]
  },
  {
   "cell_type": "code",
   "execution_count": null,
   "metadata": {},
   "outputs": [],
   "source": []
  },
  {
   "cell_type": "markdown",
   "metadata": {},
   "source": [
    "На входе у нас вес и коф. корекции на луне и коэф. g на земле с каждым годом.\n",
    "Хотим список с пречеслением годов от 1 до 5 и соответсвие веса каждому году."
   ]
  },
  {
   "cell_type": "code",
   "execution_count": 64,
   "metadata": {},
   "outputs": [
    {
     "name": "stdout",
     "output_type": "stream",
     "text": [
      "TEST 1 OK\n",
      "TEST 2 OK\n"
     ]
    }
   ],
   "source": [
    "def moonw(earthw, fat):\n",
    "    result = []   \n",
    "    for year in range (1, 6): \n",
    "        g = earthw * 0.165 \n",
    "        earthw = earthw + fat \n",
    "        result_corteg = (year, g)\n",
    "        result.append(result_corteg)\n",
    "    return result\n",
    "\n",
    "def test_1():\n",
    "    test_result = [\n",
    "        (1, 13.200000000000001),\n",
    "        (2, 13.365),\n",
    "        (3, 13.530000000000001),\n",
    "        (4, 13.695),\n",
    "        (5, 13.860000000000001)\n",
    "    ]\n",
    "    if test_result != moonw(80, 1):\n",
    "        print(moonw(80, 1))\n",
    "        assert False\n",
    "    else:\n",
    "        print('TEST 1 OK')\n",
    "test_1()\n",
    "\n",
    "def test_2():\n",
    "    test_result = [\n",
    "        (1, 13.200000000000001),\n",
    "        (2, 13.530000000000001),\n",
    "        (3, 13.860000000000001),\n",
    "        (4, 14.190000000000001),\n",
    "        (5, 14.520000000000001)\n",
    "    ]\n",
    "    if test_result != moonw(80, 2):\n",
    "        assert False\n",
    "    else:\n",
    "        print('TEST 2 OK')\n",
    "test_2()"
   ]
  },
  {
   "cell_type": "code",
   "execution_count": 80,
   "metadata": {},
   "outputs": [],
   "source": [
    "result_new = []"
   ]
  },
  {
   "cell_type": "code",
   "execution_count": 112,
   "metadata": {
    "scrolled": false
   },
   "outputs": [
    {
     "name": "stdout",
     "output_type": "stream",
     "text": [
      "TEST 1 OK\n",
      "[(1, 13.200000000000001), (2, 13.365), (3, 13.530000000000001), (4, 13.695), (5, 13.860000000000001), (1, 13.200000000000001), (2, 13.365), (3, 13.530000000000001), (4, 13.695), (5, 13.860000000000001), (1, 13.200000000000001), (2, 13.365), (3, 13.530000000000001), (4, 13.695), (5, 13.860000000000001), (1, 13.200000000000001), (2, 13.365), (3, 13.530000000000001), (4, 13.695), (5, 13.860000000000001), (1, 13.200000000000001), (2, 13.365), (3, 13.530000000000001), (4, 13.695), (5, 13.860000000000001), (1, 13.200000000000001), (2, 13.365), (3, 13.530000000000001), (4, 13.695), (5, 13.860000000000001)]\n"
     ]
    },
    {
     "ename": "AssertionError",
     "evalue": "",
     "output_type": "error",
     "traceback": [
      "\u001b[0;31m---------------------------------------------------------------------------\u001b[0m",
      "\u001b[0;31mAssertionError\u001b[0m                            Traceback (most recent call last)",
      "\u001b[0;32m<ipython-input-112-ae82750cd77f>\u001b[0m in \u001b[0;36m<module>\u001b[0;34m()\u001b[0m\n\u001b[1;32m     33\u001b[0m \u001b[0;34m\u001b[0m\u001b[0m\n\u001b[1;32m     34\u001b[0m \u001b[0mtest_1\u001b[0m\u001b[0;34m(\u001b[0m\u001b[0;34m)\u001b[0m\u001b[0;34m\u001b[0m\u001b[0m\n\u001b[0;32m---> 35\u001b[0;31m \u001b[0mtest_1\u001b[0m\u001b[0;34m(\u001b[0m\u001b[0;34m)\u001b[0m\u001b[0;34m\u001b[0m\u001b[0m\n\u001b[0m\u001b[1;32m     36\u001b[0m \u001b[0;34m\u001b[0m\u001b[0m\n\u001b[1;32m     37\u001b[0m \u001b[0;32mdef\u001b[0m \u001b[0mtest_2\u001b[0m\u001b[0;34m(\u001b[0m\u001b[0;34m)\u001b[0m\u001b[0;34m:\u001b[0m\u001b[0;34m\u001b[0m\u001b[0m\n",
      "\u001b[0;32m<ipython-input-112-ae82750cd77f>\u001b[0m in \u001b[0;36mtest_1\u001b[0;34m()\u001b[0m\n\u001b[1;32m     23\u001b[0m         \u001b[0mmoonw\u001b[0m\u001b[0;34m(\u001b[0m\u001b[0;36m80\u001b[0m\u001b[0;34m,\u001b[0m \u001b[0;36m1\u001b[0m\u001b[0;34m)\u001b[0m\u001b[0;34m\u001b[0m\u001b[0m\n\u001b[1;32m     24\u001b[0m         \u001b[0;32mprint\u001b[0m\u001b[0;34m(\u001b[0m\u001b[0mres\u001b[0m\u001b[0;34m)\u001b[0m\u001b[0;34m\u001b[0m\u001b[0m\n\u001b[0;32m---> 25\u001b[0;31m         \u001b[0;32massert\u001b[0m \u001b[0mFalse\u001b[0m\u001b[0;34m\u001b[0m\u001b[0m\n\u001b[0m\u001b[1;32m     26\u001b[0m     \u001b[0;32melse\u001b[0m\u001b[0;34m:\u001b[0m\u001b[0;34m\u001b[0m\u001b[0m\n\u001b[1;32m     27\u001b[0m         \u001b[0;32mprint\u001b[0m\u001b[0;34m(\u001b[0m\u001b[0;34m'TEST 1 OK'\u001b[0m\u001b[0;34m)\u001b[0m\u001b[0;34m\u001b[0m\u001b[0m\n",
      "\u001b[0;31mAssertionError\u001b[0m: "
     ]
    }
   ],
   "source": [
    "result_new = []\n",
    "def moonw(earthw, fat):\n",
    "    for year in range (1, 6): \n",
    "        g = earthw * 0.165 \n",
    "        earthw = earthw + fat \n",
    "        result_corteg = (year, g)\n",
    "        result_new.append(result_corteg)\n",
    "    return result_new\n",
    "\n",
    "def test_1():\n",
    "    test_result = [\n",
    "        (1, 13.200000000000001),\n",
    "        (2, 13.365),\n",
    "        (3, 13.530000000000001),\n",
    "        (4, 13.695),\n",
    "        (5, 13.860000000000001)\n",
    "    ]\n",
    "    res = moonw(80, 1)\n",
    "    if test_result != res:\n",
    "        print(res)\n",
    "        assert False\n",
    "    else:\n",
    "        print('TEST 1 OK')\n",
    "    #if test_result != moonw(80, 1):\n",
    "    #    print(moonw(80, 1))\n",
    "    #    assert False\n",
    "    #else:\n",
    "    #    print('TEST 1 OK')\n",
    "        \n",
    "test_1()\n",
    "test_1()\n",
    "\n",
    "def test_2():\n",
    "    test_result = [\n",
    "        (1, 13.200000000000001),\n",
    "        (2, 13.530000000000001),\n",
    "        (3, 13.860000000000001),\n",
    "        (4, 14.190000000000001),\n",
    "        (5, 14.520000000000001)\n",
    "    ]\n",
    "    res = moonw(80, 2)\n",
    "    if test_result != res:\n",
    "        print(res)\n",
    "        assert False\n",
    "    else:\n",
    "        print('TEST 2 OK')\n",
    "test_2()"
   ]
  },
  {
   "cell_type": "code",
   "execution_count": null,
   "metadata": {},
   "outputs": [],
   "source": []
  },
  {
   "cell_type": "code",
   "execution_count": null,
   "metadata": {},
   "outputs": [],
   "source": []
  },
  {
   "cell_type": "code",
   "execution_count": 57,
   "metadata": {},
   "outputs": [],
   "source": [
    "new_params = moonw(80,8)"
   ]
  },
  {
   "cell_type": "code",
   "execution_count": 58,
   "metadata": {},
   "outputs": [
    {
     "data": {
      "text/plain": [
       "[(1, 13.200000000000001),\n",
       " (2, 14.520000000000001),\n",
       " (3, 15.84),\n",
       " (4, 17.16),\n",
       " (5, 18.48)]"
      ]
     },
     "execution_count": 58,
     "metadata": {},
     "output_type": "execute_result"
    }
   ],
   "source": [
    "new_params"
   ]
  },
  {
   "cell_type": "code",
   "execution_count": null,
   "metadata": {},
   "outputs": [],
   "source": []
  },
  {
   "cell_type": "code",
   "execution_count": 52,
   "metadata": {},
   "outputs": [],
   "source": [
    "\n",
    "def moonw(earthw, fat):\n",
    "    for year in range (1, 16): \n",
    "        g = earthw * 0.165 \n",
    "        earthw = earthw + fat \n",
    "        #print (year, g)    \n",
    "        #return (year, g)\n",
    "        list_earthw.append(g)\n",
    "    \n",
    "moonw(80, 2)"
   ]
  },
  {
   "cell_type": "code",
   "execution_count": null,
   "metadata": {},
   "outputs": [],
   "source": []
  },
  {
   "cell_type": "code",
   "execution_count": 16,
   "metadata": {
    "scrolled": true
   },
   "outputs": [
    {
     "name": "stdout",
     "output_type": "stream",
     "text": [
      "(1, 13.200000000000001)\n",
      "(2, 13.365)\n",
      "(3, 13.530000000000001)\n",
      "(4, 13.695)\n",
      "(5, 13.860000000000001)\n",
      "(6, 14.025)\n",
      "(7, 14.190000000000001)\n",
      "(8, 14.355)\n",
      "(9, 14.520000000000001)\n",
      "(10, 14.685)\n",
      "(11, 14.850000000000001)\n",
      "(12, 15.015)\n",
      "(13, 15.180000000000001)\n",
      "(14, 15.345)\n",
      "(15, 15.510000000000002)\n"
     ]
    }
   ],
   "source": [
    "earthw = 80 \n",
    "moon = 0.165 \n",
    "for year in range (1,16): \n",
    "    g = earthw * moon \n",
    "    earthw = earthw + 1 \n",
    "    print (year, g)"
   ]
  },
  {
   "cell_type": "code",
   "execution_count": null,
   "metadata": {},
   "outputs": [],
   "source": []
  },
  {
   "cell_type": "code",
   "execution_count": null,
   "metadata": {},
   "outputs": [],
   "source": [
    "# тдд\n",
    "# "
   ]
  },
  {
   "cell_type": "code",
   "execution_count": null,
   "metadata": {},
   "outputs": [],
   "source": []
  }
 ],
 "metadata": {
  "kernelspec": {
   "display_name": "Python 3 (ipykernel)",
   "language": "python",
   "name": "python3"
  },
  "language_info": {
   "codemirror_mode": {
    "name": "ipython",
    "version": 3
   },
   "file_extension": ".py",
   "mimetype": "text/x-python",
   "name": "python",
   "nbconvert_exporter": "python",
   "pygments_lexer": "ipython3",
   "version": "3.9.7"
  }
 },
 "nbformat": 4,
 "nbformat_minor": 2
}
