{
 "cells": [
  {
   "cell_type": "code",
   "execution_count": 31,
   "id": "3504186d",
   "metadata": {},
   "outputs": [],
   "source": [
    "# абсолюьрынй и относитльный  путь  и доашняя директория\n",
    "# смена текущей пакпи в юпитре ноутбуке\n"
   ]
  },
  {
   "cell_type": "code",
   "execution_count": null,
   "id": "4317423f",
   "metadata": {},
   "outputs": [],
   "source": [
    "мой коп/с\n",
    "      /d/music/classic\n",
    "              /rock\n",
    "              /pop\n",
    "        /film\n",
    "        /photo\n",
    "        \n"
   ]
  },
  {
   "cell_type": "code",
   "execution_count": 6,
   "id": "6824d07c",
   "metadata": {},
   "outputs": [
    {
     "data": {
      "text/plain": [
       "'/home/jupyter-amtsu/github/team22/users/amtsurkov/lesson_230205_group_2'"
      ]
     },
     "execution_count": 6,
     "metadata": {},
     "output_type": "execute_result"
    }
   ],
   "source": [
    "pwd"
   ]
  },
  {
   "cell_type": "code",
   "execution_count": null,
   "id": "99c1cc39",
   "metadata": {},
   "outputs": [],
   "source": []
  },
  {
   "cell_type": "code",
   "execution_count": 7,
   "id": "90fc7247",
   "metadata": {},
   "outputs": [],
   "source": [
    "!cd /home/jupyter-amtsu/github/team22/users/amtsurkov/"
   ]
  },
  {
   "cell_type": "code",
   "execution_count": 9,
   "id": "d6bcd88a",
   "metadata": {},
   "outputs": [
    {
     "name": "stdout",
     "output_type": "stream",
     "text": [
      "/home/jupyter-amtsu/github/team22/users/amtsurkov\n"
     ]
    }
   ],
   "source": [
    "cd /home/jupyter-amtsu/github/team22/users/amtsurkov/"
   ]
  },
  {
   "cell_type": "code",
   "execution_count": 10,
   "id": "a409fe43",
   "metadata": {},
   "outputs": [
    {
     "data": {
      "text/plain": [
       "'/home/jupyter-amtsu/github/team22/users/amtsurkov'"
      ]
     },
     "execution_count": 10,
     "metadata": {},
     "output_type": "execute_result"
    }
   ],
   "source": [
    "pwd"
   ]
  },
  {
   "cell_type": "code",
   "execution_count": 4,
   "id": "b6a394cd",
   "metadata": {},
   "outputs": [
    {
     "name": "stdout",
     "output_type": "stream",
     "text": [
      "total 296\r\n",
      "drwxr-x--- 16 jupyter-amtsu jupyter-amtsu  4096 Feb  2 15:05 .\r\n",
      "drwxr-xr-x 33 root          root           4096 Jan 24 17:30 ..\r\n",
      "-rw-------  1 jupyter-amtsu jupyter-amtsu 83582 Feb  2 15:05 .bash_history\r\n",
      "-rw-r--r--  1 jupyter-amtsu jupyter-amtsu   220 Feb 25  2020 .bash_logout\r\n",
      "-rw-r--r--  1 jupyter-amtsu jupyter-amtsu  3771 Feb 25  2020 .bashrc\r\n",
      "drwxr-xr-x  9 jupyter-amtsu jupyter-amtsu  4096 Dec 18 18:44 .cache\r\n",
      "drwx------  4 jupyter-amtsu jupyter-amtsu  4096 Dec 18 18:42 .config\r\n",
      "drwxr-xr-x  2 jupyter-amtsu jupyter-amtsu  4096 Dec  6 15:35 .cookiecutter_replay\r\n",
      "drwxr-xr-x  3 jupyter-amtsu jupyter-amtsu  4096 Dec  6 15:35 .cookiecutters\r\n",
      "-rw-r--r--  1 jupyter-amtsu jupyter-amtsu    21 Nov 22 16:37 .gitconfig\r\n",
      "drwxr-xr-x  3 jupyter-amtsu jupyter-amtsu  4096 Nov 19 20:16 github\r\n",
      "-rw-r--r--  1 jupyter-amtsu jupyter-amtsu    13 Jan 22 20:37 index.html\r\n",
      "-rw-r--r--  1 jupyter-amtsu jupyter-amtsu    13 Jan 22 20:40 index.html.1\r\n",
      "-rw-r--r--  1 jupyter-amtsu jupyter-amtsu   225 Jan 22 20:58 index.html.2\r\n",
      "drwxr-xr-x  2 jupyter-amtsu jupyter-amtsu  4096 Jan 30 22:21 .ipynb_checkpoints\r\n",
      "drwxr-xr-x  3 jupyter-amtsu jupyter-amtsu  4096 Nov 19 20:38 .ipython\r\n",
      "drwxr-xr-x  3 jupyter-amtsu jupyter-amtsu  4096 Nov 19 20:54 .jupyter\r\n",
      "-rw-------  1 jupyter-amtsu jupyter-amtsu    97 Feb  1 20:46 .lesshst\r\n",
      "drwxr-xr-x  7 jupyter-amtsu jupyter-amtsu  4096 Jan 15 19:12 .local\r\n",
      "drwxr-xr-x 14 jupyter-amtsu jupyter-amtsu  4096 Nov 20 22:32 old_home\r\n",
      "-rw-r--r--  1 jupyter-amtsu jupyter-amtsu   838 Nov 26 17:00 .profile\r\n",
      "drwxr-xr-x 10 jupyter-amtsu jupyter-amtsu  4096 Dec  6 15:34 project\r\n",
      "-rw-------  1 jupyter-amtsu jupyter-amtsu  3100 Jan 24 14:22 .python_history\r\n",
      "drwx------  3 jupyter-amtsu jupyter-amtsu  4096 Nov 19 20:22 .ssh\r\n",
      "drwxr-xr-x  5 jupyter-amtsu jupyter-amtsu  4096 Jan 13 18:53 temp_delete\r\n",
      "-rw-r--r--  1 jupyter-amtsu jupyter-amtsu 21842 Nov 27 16:56 temp_delete_1\r\n",
      "-rw-r--r--  1 jupyter-amtsu jupyter-amtsu   951 Jan 30 22:23 temp_delete.ipynb\r\n",
      "-rw-r--r--  1 jupyter-amtsu jupyter-amtsu  5686 Dec 24 12:06 Untitled1.ipynb\r\n",
      "-rw-r--r--  1 jupyter-amtsu jupyter-amtsu  6152 Jan 12 11:51 Untitled2.ipynb\r\n",
      "-rw-r--r--  1 jupyter-amtsu jupyter-amtsu 26924 Dec 24 12:33 Untitled.ipynb\r\n",
      "drwxr-xr-x  2 jupyter-amtsu jupyter-amtsu  4096 Nov 22 16:17 .vim\r\n",
      "-rw-------  1 jupyter-amtsu jupyter-amtsu 34234 Feb  1 20:25 .viminfo\r\n",
      "-rw-r--r--  1 jupyter-amtsu jupyter-amtsu   168 Dec 24 10:36 .wget-hsts\r\n"
     ]
    }
   ],
   "source": [
    "!ls -la /home/jupyter-amtsu"
   ]
  },
  {
   "cell_type": "code",
   "execution_count": 12,
   "id": "1a24735e",
   "metadata": {},
   "outputs": [
    {
     "name": "stdout",
     "output_type": "stream",
     "text": [
      "/home/jupyter-amtsu/github/team22/users/amtsurkov/lesson_230205_group_2\n"
     ]
    }
   ],
   "source": [
    "cd /home/jupyter-amtsu/github/team22/users/amtsurkov/lesson_230205_group_2/"
   ]
  },
  {
   "cell_type": "code",
   "execution_count": 13,
   "id": "c7d1d4f9",
   "metadata": {},
   "outputs": [
    {
     "data": {
      "text/plain": [
       "'/home/jupyter-amtsu/github/team22/users/amtsurkov/lesson_230205_group_2'"
      ]
     },
     "execution_count": 13,
     "metadata": {},
     "output_type": "execute_result"
    }
   ],
   "source": [
    "pwd"
   ]
  },
  {
   "cell_type": "code",
   "execution_count": 15,
   "id": "93ea36e7",
   "metadata": {},
   "outputs": [
    {
     "name": "stdout",
     "output_type": "stream",
     "text": [
      "total 20\r\n",
      "drwxr-xr-x  3 jupyter-amtsu jupyter-amtsu 4096 Feb  5 10:23 \u001b[0m\u001b[01;34m.\u001b[0m/\r\n",
      "drwxr-xr-x 31 jupyter-amtsu jupyter-amtsu 4096 Feb  5 10:14 \u001b[01;34m..\u001b[0m/\r\n",
      "drwxr-xr-x  2 jupyter-amtsu jupyter-amtsu 4096 Feb  5 10:23 \u001b[01;34m.ipynb_checkpoints\u001b[0m/\r\n",
      "-rw-r--r--  1 jupyter-amtsu jupyter-amtsu 6013 Feb  5 10:23 lesson.ipynb\r\n"
     ]
    }
   ],
   "source": [
    "ls -la"
   ]
  },
  {
   "cell_type": "code",
   "execution_count": 16,
   "id": "d2d311ca",
   "metadata": {},
   "outputs": [
    {
     "name": "stdout",
     "output_type": "stream",
     "text": [
      "/home/jupyter-amtsu/github/team22/users/amtsurkov\n"
     ]
    }
   ],
   "source": [
    "cd .."
   ]
  },
  {
   "cell_type": "code",
   "execution_count": 18,
   "id": "bc4ba700",
   "metadata": {},
   "outputs": [],
   "source": [
    "#cat /home/jupyter-amtsu/github/team22/users/amtsurkov/lesson_230205_group_2/lesson.ipynb\n"
   ]
  },
  {
   "cell_type": "code",
   "execution_count": 20,
   "id": "c148b776",
   "metadata": {},
   "outputs": [],
   "source": [
    "#cat lesson_230205_group_2/lesson.ipynb"
   ]
  },
  {
   "cell_type": "code",
   "execution_count": 21,
   "id": "3fd64c44",
   "metadata": {},
   "outputs": [
    {
     "data": {
      "text/plain": [
       "'/home/jupyter-amtsu/github/team22/users/amtsurkov'"
      ]
     },
     "execution_count": 21,
     "metadata": {},
     "output_type": "execute_result"
    }
   ],
   "source": [
    "pwd"
   ]
  },
  {
   "cell_type": "code",
   "execution_count": 22,
   "id": "61e421d0",
   "metadata": {},
   "outputs": [
    {
     "name": "stdout",
     "output_type": "stream",
     "text": [
      "/home/jupyter-amtsu/github\n"
     ]
    }
   ],
   "source": [
    "cd ../../.."
   ]
  },
  {
   "cell_type": "code",
   "execution_count": 23,
   "id": "4f8f795a",
   "metadata": {},
   "outputs": [
    {
     "data": {
      "text/plain": [
       "'/home/jupyter-amtsu/github'"
      ]
     },
     "execution_count": 23,
     "metadata": {},
     "output_type": "execute_result"
    }
   ],
   "source": [
    "pwd"
   ]
  },
  {
   "cell_type": "code",
   "execution_count": 27,
   "id": "73183e06",
   "metadata": {},
   "outputs": [
    {
     "name": "stdout",
     "output_type": "stream",
     "text": [
      "/home/jupyter-amtsu/github/team22/users\n"
     ]
    }
   ],
   "source": [
    "cd /home/jupyter-amtsu/github/team22/users/"
   ]
  },
  {
   "cell_type": "code",
   "execution_count": 28,
   "id": "556bb71b",
   "metadata": {},
   "outputs": [
    {
     "data": {
      "text/plain": [
       "'/home/jupyter-amtsu/github/team22/users'"
      ]
     },
     "execution_count": 28,
     "metadata": {},
     "output_type": "execute_result"
    }
   ],
   "source": [
    "pwd"
   ]
  },
  {
   "cell_type": "code",
   "execution_count": 29,
   "id": "14439f2a",
   "metadata": {},
   "outputs": [
    {
     "name": "stdout",
     "output_type": "stream",
     "text": [
      "/home/jupyter-amtsu/github\n"
     ]
    }
   ],
   "source": [
    "cd ~/github"
   ]
  },
  {
   "cell_type": "code",
   "execution_count": 30,
   "id": "6978109f",
   "metadata": {},
   "outputs": [
    {
     "data": {
      "text/plain": [
       "'/home/jupyter-amtsu/github'"
      ]
     },
     "execution_count": 30,
     "metadata": {},
     "output_type": "execute_result"
    }
   ],
   "source": [
    "pwd"
   ]
  },
  {
   "cell_type": "code",
   "execution_count": null,
   "id": "e6505407",
   "metadata": {},
   "outputs": [],
   "source": []
  },
  {
   "cell_type": "code",
   "execution_count": 32,
   "id": "ee57598e",
   "metadata": {},
   "outputs": [],
   "source": [
    "# range"
   ]
  },
  {
   "cell_type": "code",
   "execution_count": 35,
   "id": "6ea47bd2",
   "metadata": {},
   "outputs": [
    {
     "data": {
      "text/plain": [
       "[0, 1, 2, 3, 4, 5, 6, 7, 8, 9]"
      ]
     },
     "execution_count": 35,
     "metadata": {},
     "output_type": "execute_result"
    }
   ],
   "source": [
    "list(range(10))"
   ]
  },
  {
   "cell_type": "code",
   "execution_count": 36,
   "id": "15e924cf",
   "metadata": {},
   "outputs": [
    {
     "data": {
      "text/plain": [
       "[3, 4, 5, 6, 7, 8, 9]"
      ]
     },
     "execution_count": 36,
     "metadata": {},
     "output_type": "execute_result"
    }
   ],
   "source": [
    "list(range(3,10))"
   ]
  },
  {
   "cell_type": "code",
   "execution_count": 37,
   "id": "fb3f2ea6",
   "metadata": {},
   "outputs": [
    {
     "data": {
      "text/plain": [
       "[3, 6, 9]"
      ]
     },
     "execution_count": 37,
     "metadata": {},
     "output_type": "execute_result"
    }
   ],
   "source": [
    "list(range(3,10,3))"
   ]
  },
  {
   "cell_type": "code",
   "execution_count": 39,
   "id": "72981825",
   "metadata": {},
   "outputs": [
    {
     "data": {
      "text/plain": [
       "[10, 9, 8, 7, 6, 5, 4]"
      ]
     },
     "execution_count": 39,
     "metadata": {},
     "output_type": "execute_result"
    }
   ],
   "source": [
    "list(range(10,3,-1))"
   ]
  },
  {
   "cell_type": "code",
   "execution_count": 40,
   "id": "209573ea",
   "metadata": {},
   "outputs": [],
   "source": [
    "# как range применять с списками"
   ]
  },
  {
   "cell_type": "code",
   "execution_count": 41,
   "id": "6bc8587b",
   "metadata": {},
   "outputs": [
    {
     "name": "stdout",
     "output_type": "stream",
     "text": [
      "1\n",
      "2\n",
      "3\n"
     ]
    }
   ],
   "source": [
    "for v in [1,2,3]:\n",
    "    print(v)"
   ]
  },
  {
   "cell_type": "code",
   "execution_count": 43,
   "id": "4ac4109e",
   "metadata": {},
   "outputs": [
    {
     "name": "stdout",
     "output_type": "stream",
     "text": [
      "1\n",
      "3\n"
     ]
    }
   ],
   "source": [
    "list_new = [1,2,3]\n",
    "#           0,1,2\n",
    "\n",
    "print(list_new[0])\n",
    "print(list_new[2])\n"
   ]
  },
  {
   "cell_type": "code",
   "execution_count": 3,
   "id": "df8bbb3a",
   "metadata": {},
   "outputs": [
    {
     "name": "stdout",
     "output_type": "stream",
     "text": [
      "0  :  1\n",
      "1  :  2\n",
      "2  :  4\n"
     ]
    }
   ],
   "source": [
    "list_new = [1,2,4]\n",
    "i = 0 \n",
    "while i < len(list_new):\n",
    "    print(i, ' : ', list_new[i])\n",
    "    i = i + 1"
   ]
  },
  {
   "cell_type": "code",
   "execution_count": 10,
   "id": "f52f189e",
   "metadata": {},
   "outputs": [
    {
     "name": "stdout",
     "output_type": "stream",
     "text": [
      "0\n",
      "value = 1\n",
      "1\n",
      "value = 2\n",
      "2\n",
      "value = 4\n"
     ]
    }
   ],
   "source": [
    "for i in range(3):\n",
    "    print(i)\n",
    "    print('value =', list_new[i])"
   ]
  },
  {
   "cell_type": "code",
   "execution_count": 9,
   "id": "c0861634",
   "metadata": {},
   "outputs": [
    {
     "name": "stdout",
     "output_type": "stream",
     "text": [
      "2\n",
      "value = 4\n",
      "1\n",
      "value = 2\n",
      "0\n",
      "value = 1\n"
     ]
    }
   ],
   "source": [
    "for i in range(2,-1,-1):\n",
    "    print(i)\n",
    "    print('value =', list_new[i])"
   ]
  },
  {
   "cell_type": "code",
   "execution_count": 11,
   "id": "097920f8",
   "metadata": {},
   "outputs": [],
   "source": [
    "# где и когда испольщовать range "
   ]
  },
  {
   "cell_type": "code",
   "execution_count": 12,
   "id": "5d412c7e",
   "metadata": {},
   "outputs": [
    {
     "data": {
      "text/plain": [
       "[1, 2, 4]"
      ]
     },
     "execution_count": 12,
     "metadata": {},
     "output_type": "execute_result"
    }
   ],
   "source": [
    "list_new"
   ]
  },
  {
   "cell_type": "code",
   "execution_count": 13,
   "id": "e16dc70e",
   "metadata": {},
   "outputs": [],
   "source": [
    "# как из текущего списка сдлать список [2,3,5] \n",
    "# доп ограничения   - списко из 1000000000, памятит на 2х элементов не хватит , ..."
   ]
  },
  {
   "cell_type": "code",
   "execution_count": 18,
   "id": "b6c75d95",
   "metadata": {},
   "outputs": [
    {
     "data": {
      "text/plain": [
       "3"
      ]
     },
     "execution_count": 18,
     "metadata": {},
     "output_type": "execute_result"
    }
   ],
   "source": [
    "len(list_new)"
   ]
  },
  {
   "cell_type": "code",
   "execution_count": 28,
   "id": "a31af81f",
   "metadata": {},
   "outputs": [
    {
     "name": "stdout",
     "output_type": "stream",
     "text": [
      "1\n",
      "2\n",
      "4\n",
      "[2, 3, 5]\n",
      "[1, 2, 4]\n",
      "list_new = [2, 3, 5]\n"
     ]
    }
   ],
   "source": [
    "list_new = [1,2,4]\n",
    "list_new2 = []\n",
    "#for i in range(len(list_new)):\n",
    "for i in list_new:\n",
    "    print(i)\n",
    "    list_new2.append(i + 1)\n",
    "print(list_new2)\n",
    "print(list_new)\n",
    "list_new = list_new2\n",
    "print('list_new =', list_new)\n"
   ]
  },
  {
   "cell_type": "code",
   "execution_count": 20,
   "id": "ea94713a",
   "metadata": {},
   "outputs": [
    {
     "data": {
      "text/plain": [
       "[1, 2, 3]"
      ]
     },
     "execution_count": 20,
     "metadata": {},
     "output_type": "execute_result"
    }
   ],
   "source": [
    "list_new2"
   ]
  },
  {
   "cell_type": "code",
   "execution_count": null,
   "id": "950220f9",
   "metadata": {},
   "outputs": [],
   "source": [
    "list_new = [1,2,4]\n",
    "for i in list_new:\n",
    "    print(i)\n",
    "    list_new.append(i + 1)\n",
    "print('list_new =', list_new)\n"
   ]
  },
  {
   "cell_type": "code",
   "execution_count": null,
   "id": "91d9740e",
   "metadata": {},
   "outputs": [],
   "source": []
  },
  {
   "cell_type": "code",
   "execution_count": 6,
   "id": "596825b1",
   "metadata": {},
   "outputs": [
    {
     "name": "stdout",
     "output_type": "stream",
     "text": [
      "[1, 2, 4]\n",
      "[1, 10, 4]\n"
     ]
    }
   ],
   "source": [
    "list_new = [1,2,4]\n",
    "print(list_new)\n",
    "list_new[1] = 10\n",
    "print(list_new)"
   ]
  },
  {
   "cell_type": "code",
   "execution_count": null,
   "id": "b36c1afa",
   "metadata": {},
   "outputs": [],
   "source": []
  },
  {
   "cell_type": "code",
   "execution_count": 8,
   "id": "6805145b",
   "metadata": {},
   "outputs": [
    {
     "name": "stdout",
     "output_type": "stream",
     "text": [
      "0\n",
      "1\n",
      "2\n",
      "[2, 3, 5]\n"
     ]
    }
   ],
   "source": [
    "list_new = [1,2,4]\n",
    "for i in range(len(list_new)):\n",
    "    print(i)\n",
    "    list_new[i] = list_new[i] + 1\n",
    "print(list_new)\n"
   ]
  },
  {
   "cell_type": "code",
   "execution_count": 12,
   "id": "cca8c088",
   "metadata": {},
   "outputs": [
    {
     "name": "stdout",
     "output_type": "stream",
     "text": [
      "{'l': 1}\n",
      "{'h': 33}\n",
      "{'d': 4}\n",
      "[{'l': 1, 'new_key': 100}, {'h': 33, 'new_key': 100}, {'d': 4, 'new_key': 100}]\n"
     ]
    }
   ],
   "source": [
    "# есть спсико словрей\n",
    "list_new = [\n",
    "    {'l':1},\n",
    "    {'h':33},\n",
    "    {'d':4},\n",
    "]\n",
    "for obj in list_new:\n",
    "    print(obj)\n",
    "    obj['new_key'] = 100\n",
    "    \n",
    "print(list_new)\n"
   ]
  },
  {
   "cell_type": "code",
   "execution_count": 13,
   "id": "7c3223db",
   "metadata": {},
   "outputs": [
    {
     "name": "stdout",
     "output_type": "stream",
     "text": [
      "[{'l': 1}, {'h': 33}, {'d': 4}]\n"
     ]
    }
   ],
   "source": [
    "# есть спсико словрей\n",
    "list_new = [\n",
    "    {'l':1},\n",
    "    {'h':33},\n",
    "    {'d':4},\n",
    "]\n",
    "for obj in list_new:\n",
    "    obj = 100\n",
    "    \n",
    "print(list_new)\n"
   ]
  },
  {
   "cell_type": "code",
   "execution_count": null,
   "id": "ae219915",
   "metadata": {},
   "outputs": [],
   "source": []
  },
  {
   "cell_type": "code",
   "execution_count": 9,
   "id": "1d9f9261",
   "metadata": {},
   "outputs": [],
   "source": [
    "list_new = [\n",
    "    {'l':1},\n",
    "    {'h':33},\n",
    "    {'d':4},\n",
    "]"
   ]
  },
  {
   "cell_type": "code",
   "execution_count": null,
   "id": "a63794be",
   "metadata": {},
   "outputs": [],
   "source": [
    "list_new = [\n",
    "    {'l':1},\n",
    "    {'h':33},\n",
    "    {'d':4},\n",
    "    {'g':6},\n",
    "]"
   ]
  },
  {
   "cell_type": "code",
   "execution_count": 11,
   "id": "5cf9e7d1",
   "metadata": {},
   "outputs": [
    {
     "data": {
      "text/plain": [
       "{'d': 4}"
      ]
     },
     "execution_count": 11,
     "metadata": {},
     "output_type": "execute_result"
    }
   ],
   "source": [
    "<<<<<<\n",
    "{'d':4}\n",
    "======\n",
    "{'d':4},\n",
    "{'g':6}\n",
    ">>>>>"
   ]
  },
  {
   "cell_type": "code",
   "execution_count": null,
   "id": "d1788bb6",
   "metadata": {},
   "outputs": [],
   "source": [
    "<<<<<<\n",
    "======\n",
    "{'g':6}\n",
    ">>>>>"
   ]
  },
  {
   "cell_type": "code",
   "execution_count": 15,
   "id": "0355a3aa",
   "metadata": {},
   "outputs": [
    {
     "name": "stdout",
     "output_type": "stream",
     "text": [
      "2\n",
      "3\n",
      "5\n",
      "[1, 2, 4]\n"
     ]
    }
   ],
   "source": [
    "# мы должны переобрать всае элем енты спсика \n",
    "list_n = [1,2,4]\n",
    "for element in list_n:\n",
    "    # и к какжломц эдлмементц привабить 1\n",
    "    element = element + 1\n",
    "    print(element)\n",
    "    \n",
    "print(list_n)"
   ]
  },
  {
   "cell_type": "code",
   "execution_count": 16,
   "id": "94eab06b",
   "metadata": {},
   "outputs": [
    {
     "name": "stdout",
     "output_type": "stream",
     "text": [
      "[2, 3, 5]\n"
     ]
    }
   ],
   "source": [
    "# мы должны перебрать все элементы списка \n",
    "list_n = [1,2,4]\n",
    "for i in range(len(list_n)):\n",
    "    # и к каждому элемементу привабить 1\n",
    "    list_n[i] = list_n[i] + 1\n",
    "print(list_n)"
   ]
  },
  {
   "cell_type": "code",
   "execution_count": 17,
   "id": "cc6a95a4",
   "metadata": {},
   "outputs": [],
   "source": [
    "# передача по ссылке и по значению"
   ]
  },
  {
   "cell_type": "code",
   "execution_count": 23,
   "id": "0a2e0a42",
   "metadata": {},
   "outputs": [],
   "source": [
    "# Функции\n",
    "# мы хотим напсиать фйункцию котрая сумирует 4 числав и возарщет это значенеи\n",
    "def sum_4_numbers(number_1 : int, number_2 : int, number_3 : int, number_4 : int) -> int:\n",
    "    \"\"\"\n",
    "    функцию котрая сумирует 4 числав и возарщет это значенеи\n",
    "    \"\"\"\n",
    "    sum_4_number = number_1 + number_2 + number_3 + number_4 \n",
    "    return sum_4_number"
   ]
  },
  {
   "cell_type": "code",
   "execution_count": 24,
   "id": "56cd48d6",
   "metadata": {},
   "outputs": [
    {
     "data": {
      "text/plain": [
       "10"
      ]
     },
     "execution_count": 24,
     "metadata": {},
     "output_type": "execute_result"
    }
   ],
   "source": [
    "sum_4_numbers(1,2,3,4)"
   ]
  },
  {
   "cell_type": "code",
   "execution_count": 25,
   "id": "d7a04e90",
   "metadata": {},
   "outputs": [
    {
     "data": {
      "text/plain": [
       "19"
      ]
     },
     "execution_count": 25,
     "metadata": {},
     "output_type": "execute_result"
    }
   ],
   "source": [
    "sum_4_numbers(2,3,4,10)"
   ]
  },
  {
   "cell_type": "code",
   "execution_count": 26,
   "id": "0f132f2c",
   "metadata": {},
   "outputs": [
    {
     "data": {
      "text/plain": [
       "8"
      ]
     },
     "execution_count": 26,
     "metadata": {},
     "output_type": "execute_result"
    }
   ],
   "source": [
    "sum_4_numbers(2,2,2,2)"
   ]
  },
  {
   "cell_type": "code",
   "execution_count": null,
   "id": "5b06df62",
   "metadata": {},
   "outputs": [],
   "source": [
    "#problem solving\n",
    "\n",
    "# текущее состояини\n",
    "# конечно состие \n",
    "# gap - какое измение надо сделать чтобы перейтиот текущего стосчяния в конечное\n",
    "\n",
    "\n",
    "Пример\n",
    "\n",
    "# текущее состояини\n",
    "number_1, number_2, number_3 , number_4\n",
    "\n",
    "# конечно состие\n",
    "sum_numbers\n",
    "\n",
    "# gap - ???"
   ]
  },
  {
   "cell_type": "code",
   "execution_count": null,
   "id": "11643646",
   "metadata": {},
   "outputs": [],
   "source": [
    "# фнкуия принимет оди аргумент(число) и определяет простоео он или составное?\n",
    "\n",
    "# что такое прстое число \n",
    " - число делсится на само себя и на 1\n",
    "    \n",
    "# составное\n",
    " - делится не толко на себя\n",
    "    \n",
    "\n",
    "def is_prime(x : int) -> bool:\n",
    "    \"\"\"\n",
    "    функция принимет оди аргумент(число) и определяет простоео он или составное\n",
    "    \n",
    "    # что такое прстое число \n",
    "    #    число делсится на само себя и на 1\n",
    "    \n",
    "    нужен числово ряд \n",
    "    из которог берем числа и \n",
    "    проыерям что наше число делится на цело на число из ряда, \n",
    "     если делится на цело тогда олно составное\n",
    "     \n",
    "    если брать числово й рядл то он будет ограничен\n",
    "    - чем ограничен?\n",
    "    \n",
    "    \"\"\"\n",
    "\n",
    "    # для прмера с 5\n",
    "    x = 5\n",
    "    # нужен числово ряд \n",
    "    chisla = [1,2,3,4,5]\n",
    "    # из которог берем числа и \n",
    "    for i in chisla:    \n",
    "        #проыерям что наше число делится на цело на число из ряда, \n",
    "        #  делене нашего числа х на число из ряд с остато долно равняться 0 больше чем в трех случах как миниму тогда это числоа составное\n",
    "        #      как узанать сколкьо случаев?\n",
    "        list_chisel_na_kotorye_delitsy_x = []\n",
    "        # все числа при деленеи х на которе получаем 0, складываем в список\n",
    "        if x % i == 0:\n",
    "            list_chisel_na_kotorye_delitsy_x.append(i)\n",
    "        \n",
    "        \n",
    "        #x % i\n",
    "        # если делится на цело тогда олно составное\n",
    "\n",
    "        \n",
    "    return is_prime_number \n",
    "\n",
    "def test_1_is_prime():\n",
    "    if is_prime(5) == True:\n",
    "        print('prostoe i eto verno')\n",
    "    else:\n",
    "        print('sostavnoe')"
   ]
  },
  {
   "cell_type": "code",
   "execution_count": 58,
   "id": "a46b0943",
   "metadata": {},
   "outputs": [
    {
     "name": "stdout",
     "output_type": "stream",
     "text": [
      "[1, 7]\n",
      "prostoe\n"
     ]
    }
   ],
   "source": [
    "# для прмера с 5\n",
    "#x = 5\n",
    "x = 7\n",
    "# нужен числово ряд \n",
    "#chisla = [1,2,3,4,5]\n",
    "# числовой ряд авист от х\n",
    "#chisla = [1,2,3,4,5,6,7,8,9]\n",
    "\n",
    "chisla = range(1, x + 1)\n",
    "\n",
    "# из которог берем числа и \n",
    "list_chisel_na_kotorye_delitsy_x = []\n",
    "for i in chisla:    \n",
    "    #проыерям что наше число делится на цело на число из ряда, \n",
    "    #  делене нашего числа х на число из ряд с остато долно равняться 0 больше чем в трех случах как миниму тогда это числоа составное\n",
    "    #      как узанать сколкьо случаев?\n",
    "    \n",
    "    # все числа при деленеи х на которе получаем 0, складываем в список\n",
    "    if x % i == 0:\n",
    "        list_chisel_na_kotorye_delitsy_x.append(i)\n",
    "        \n",
    "        \n",
    "print(list_chisel_na_kotorye_delitsy_x)\n",
    "\n",
    "if len(list_chisel_na_kotorye_delitsy_x) < 3:\n",
    "    print('prostoe')\n",
    "else:\n",
    "    print('sostavnoe')"
   ]
  },
  {
   "cell_type": "code",
   "execution_count": 60,
   "id": "4de4942b",
   "metadata": {},
   "outputs": [],
   "source": [
    "def is_prime(x : int) -> bool:\n",
    "    \"\"\"\n",
    "    функция принимет оди аргумент(число) и определяет простоео он или составное\n",
    "    \"\"\"\n",
    "    chisla = range(1, x + 1)\n",
    "    list_chisel_na_kotorye_delitsy_x = []\n",
    "    for i in chisla:    \n",
    "        if x % i == 0:\n",
    "            list_chisel_na_kotorye_delitsy_x.append(i)\n",
    "            \n",
    "    if len(list_chisel_na_kotorye_delitsy_x) < 3:\n",
    "        is_prime_number = True\n",
    "    else:\n",
    "        is_prime_number = False\n",
    "      \n",
    "    return is_prime_number "
   ]
  },
  {
   "cell_type": "code",
   "execution_count": 64,
   "id": "d3cee54f",
   "metadata": {},
   "outputs": [],
   "source": [
    "def is_prime(x : int) -> bool:\n",
    "    \"\"\"\n",
    "    функция принимет оди аргумент(число) и определяет простоео он или составное\n",
    "    \"\"\"\n",
    "    print('count')\n",
    "    chisla = range(1, x + 1)\n",
    "    count = 0\n",
    "    for i in chisla:    \n",
    "        if x % i == 0:\n",
    "            count += 1\n",
    "            \n",
    "    if count < 3:\n",
    "        is_prime_number = True\n",
    "    else:\n",
    "        is_prime_number = False\n",
    "      \n",
    "    return is_prime_number "
   ]
  },
  {
   "cell_type": "code",
   "execution_count": 65,
   "id": "6fafbce9",
   "metadata": {
    "scrolled": true
   },
   "outputs": [
    {
     "name": "stdout",
     "output_type": "stream",
     "text": [
      "count\n",
      "True\n",
      "count\n",
      "True\n",
      "count\n",
      "False\n",
      "count\n",
      "True\n",
      "count\n",
      "False\n",
      "count\n",
      "False\n",
      "count\n",
      "True\n",
      "count\n",
      "False\n"
     ]
    }
   ],
   "source": [
    "print(is_prime(3))\n",
    "print(is_prime(5))\n",
    "print(is_prime(6))\n",
    "print(is_prime(7))\n",
    "print(is_prime(8))\n",
    "print(is_prime(9))\n",
    "print(is_prime(11))\n",
    "print(is_prime(12))\n"
   ]
  },
  {
   "cell_type": "code",
   "execution_count": 73,
   "id": "8f8e281c",
   "metadata": {},
   "outputs": [],
   "source": [
    "def test_1_is_prime():\n",
    "    #assert is_prime(5) == True\n",
    "    assert is_prime(5)"
   ]
  },
  {
   "cell_type": "code",
   "execution_count": 74,
   "id": "4e77b252",
   "metadata": {},
   "outputs": [],
   "source": [
    "def test_2_is_prime():\n",
    "    #assert is_prime(12) == False\n",
    "    assert not is_prime(12)"
   ]
  },
  {
   "cell_type": "code",
   "execution_count": 75,
   "id": "e92e4f60",
   "metadata": {},
   "outputs": [
    {
     "name": "stdout",
     "output_type": "stream",
     "text": [
      "count\n"
     ]
    }
   ],
   "source": [
    "test_1_is_prime()"
   ]
  },
  {
   "cell_type": "code",
   "execution_count": 76,
   "id": "7c806341",
   "metadata": {},
   "outputs": [
    {
     "name": "stdout",
     "output_type": "stream",
     "text": [
      "count\n"
     ]
    }
   ],
   "source": [
    "test_2_is_prime()"
   ]
  },
  {
   "cell_type": "code",
   "execution_count": 77,
   "id": "d3900b95",
   "metadata": {},
   "outputs": [
    {
     "name": "stdout",
     "output_type": "stream",
     "text": [
      "0\n",
      "1\n",
      "2\n",
      "1\n",
      "0\n"
     ]
    }
   ],
   "source": [
    "print(5 % 5)\n",
    "print(5 % 4)\n",
    "print(5 % 3)\n",
    "print(5 % 2)\n",
    "print(5 % 1)"
   ]
  },
  {
   "cell_type": "code",
   "execution_count": 32,
   "id": "bf2180ed",
   "metadata": {},
   "outputs": [
    {
     "name": "stdout",
     "output_type": "stream",
     "text": [
      "0\n",
      "1\n",
      "2\n",
      "0\n",
      "0\n",
      "0\n"
     ]
    }
   ],
   "source": [
    "print(6 % 6)\n",
    "print(6 % 5)\n",
    "print(6 % 4)\n",
    "print(6 % 3)\n",
    "print(6 % 2)\n",
    "print(6 % 1)"
   ]
  },
  {
   "cell_type": "code",
   "execution_count": null,
   "id": "4d9e8e30",
   "metadata": {},
   "outputs": [],
   "source": []
  },
  {
   "cell_type": "code",
   "execution_count": 22,
   "id": "fc8a520b",
   "metadata": {},
   "outputs": [],
   "source": [
    "# Как создать тест"
   ]
  },
  {
   "cell_type": "code",
   "execution_count": 20,
   "id": "fa1f24b8",
   "metadata": {},
   "outputs": [],
   "source": [
    "# гит добавить удалить фаил"
   ]
  },
  {
   "cell_type": "code",
   "execution_count": null,
   "id": "f29698bf",
   "metadata": {},
   "outputs": [],
   "source": []
  }
 ],
 "metadata": {
  "kernelspec": {
   "display_name": "Python 3 (ipykernel)",
   "language": "python",
   "name": "python3"
  },
  "language_info": {
   "codemirror_mode": {
    "name": "ipython",
    "version": 3
   },
   "file_extension": ".py",
   "mimetype": "text/x-python",
   "name": "python",
   "nbconvert_exporter": "python",
   "pygments_lexer": "ipython3",
   "version": "3.9.7"
  }
 },
 "nbformat": 4,
 "nbformat_minor": 5
}
