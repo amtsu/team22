{
 "cells": [
  {
   "cell_type": "code",
   "execution_count": 21,
   "id": "d40b32b0",
   "metadata": {},
   "outputs": [],
   "source": [
    "# переменный по умлочаю в функции"
   ]
  },
  {
   "cell_type": "code",
   "execution_count": 28,
   "id": "f2a841ab",
   "metadata": {},
   "outputs": [],
   "source": [
    "def f1(x, z=['cc']):\n",
    "    print(z)\n",
    "    z.append(x)\n",
    "    print(z)\n"
   ]
  },
  {
   "cell_type": "code",
   "execution_count": 29,
   "id": "8913c250",
   "metadata": {},
   "outputs": [
    {
     "name": "stdout",
     "output_type": "stream",
     "text": [
      "['cc']\n",
      "['cc', '1']\n"
     ]
    }
   ],
   "source": [
    "f1('1')"
   ]
  },
  {
   "cell_type": "code",
   "execution_count": 33,
   "id": "eab4d91f",
   "metadata": {
    "scrolled": true
   },
   "outputs": [
    {
     "name": "stdout",
     "output_type": "stream",
     "text": [
      "['cc', '1', '2', '2', '2']\n",
      "['cc', '1', '2', '2', '2', '2']\n"
     ]
    }
   ],
   "source": [
    "f1('2')"
   ]
  },
  {
   "cell_type": "code",
   "execution_count": null,
   "id": "2b7b8689",
   "metadata": {},
   "outputs": [],
   "source": []
  },
  {
   "cell_type": "code",
   "execution_count": null,
   "id": "480d6e11-02b4-4e3f-8a35-afa045971c0b",
   "metadata": {},
   "outputs": [],
   "source": [
    "# join "
   ]
  },
  {
   "cell_type": "code",
   "execution_count": null,
   "id": "381614ba",
   "metadata": {},
   "outputs": [],
   "source": []
  },
  {
   "cell_type": "code",
   "execution_count": 36,
   "id": "01af0c51-92ca-434e-aa5d-42221afe1d5a",
   "metadata": {},
   "outputs": [],
   "source": [
    "import sqlite3\n",
    "connection = sqlite3.connect('/tmp/sql_dump/db.sqlite3')\n",
    "cursor = connection.cursor()\n"
   ]
  },
  {
   "cell_type": "code",
   "execution_count": 41,
   "id": "43cd5ab8",
   "metadata": {},
   "outputs": [
    {
     "name": "stdout",
     "output_type": "stream",
     "text": [
      "[('Мичуринский 2 27 39.8 Озерная ул., вл. 7 55.687726,37.471704', 19647884), ('Южнопортовая 1 31 68.7 ул. Южнопортовая, вл.28-28а 55.705727,37.696445', 24214830), ('Мичуринский 6 15 86.9 Озерная ул., вл. 7 55.687726,37.471704', 44826261)]\n"
     ]
    }
   ],
   "source": [
    "cursor.execute(\"\"\"\n",
    "select title, price\n",
    "from products_history \n",
    "where id in (1991, 1992, 1993 )\n",
    "\"\"\")\n",
    "\n",
    "print(cursor.fetchall())"
   ]
  },
  {
   "cell_type": "code",
   "execution_count": 47,
   "id": "8fcabf42",
   "metadata": {},
   "outputs": [
    {
     "name": "stdout",
     "output_type": "stream",
     "text": [
      "[(1, 'Vasya', 'Ivanov'), (2, 'Artem', 'Tsurkov')]\n"
     ]
    }
   ],
   "source": [
    "cursor.execute(\"\"\"\n",
    "select *\n",
    "from person_person \n",
    "\"\"\")\n",
    "\n",
    "print(cursor.fetchall())"
   ]
  },
  {
   "cell_type": "code",
   "execution_count": 46,
   "id": "b71e8f77-b627-4ab3-9639-e47c1a860b5f",
   "metadata": {},
   "outputs": [
    {
     "name": "stdout",
     "output_type": "stream",
     "text": [
      "[]\n"
     ]
    }
   ],
   "source": [
    "cursor.execute(\"\"\"\n",
    "insert into person_person(name, surname) values('Artem', 'Tsurkov')\n",
    "\"\"\")\n",
    "\n",
    "print(cursor.fetchall())"
   ]
  },
  {
   "cell_type": "code",
   "execution_count": 53,
   "id": "7d577301",
   "metadata": {},
   "outputs": [
    {
     "name": "stdout",
     "output_type": "stream",
     "text": [
      "[(1, 1, 1991, '2022-12-18 19:56:00', 13753518, 1, 13753518, 'Мичуринский 2 27 39.8'), (2, 1, 1991, '2022-12-18 19:57:00', 16950381, 1, 16950381, 'Южнопортовая 1 31 68.7 ул. Южнопортовая')]\n"
     ]
    }
   ],
   "source": [
    "cursor.execute(\"\"\"\n",
    "select id, person_id, offer_id, datetime, final_sum, quantity, price, title\n",
    "from person_check\n",
    "\"\"\")\n",
    "\n",
    "print(cursor.fetchall())"
   ]
  },
  {
   "cell_type": "code",
   "execution_count": 49,
   "id": "b13f9330",
   "metadata": {},
   "outputs": [
    {
     "name": "stdout",
     "output_type": "stream",
     "text": [
      "[]\n"
     ]
    }
   ],
   "source": [
    "cursor.execute(\"\"\"\n",
    "insert into person_check(person_id, offer_id, datetime, final_sum, quantity, price, title) values(1, 1991, \"2022-12-18 19:56:00\", 13753518.00, 1, 13753518.00, \"Мичуринский 2 27 39.8\")\n",
    "\"\"\")\n",
    "\n",
    "print(cursor.fetchall())"
   ]
  },
  {
   "cell_type": "code",
   "execution_count": 52,
   "id": "902c9a2a",
   "metadata": {},
   "outputs": [
    {
     "name": "stdout",
     "output_type": "stream",
     "text": [
      "[]\n"
     ]
    }
   ],
   "source": [
    "cursor.execute(\"\"\"\n",
    "insert into person_check(person_id, offer_id, datetime, final_sum, quantity, price, title) values(1, 1992, \"2022-12-18 19:57:00\", 16950381.00, 1, 16950381.00, \"Южнопортовая 1 31 68.7 ул. Южнопортовая\")\n",
    "\"\"\")\n",
    "\n",
    "print(cursor.fetchall())"
   ]
  },
  {
   "cell_type": "code",
   "execution_count": 95,
   "id": "40ac4562",
   "metadata": {},
   "outputs": [
    {
     "data": {
      "text/plain": [
       "[(1,\n",
       "  1,\n",
       "  1991,\n",
       "  '2022-12-18 19:56:00',\n",
       "  13753518,\n",
       "  1,\n",
       "  13753518,\n",
       "  'Мичуринский 2 27 39.8'),\n",
       " (2,\n",
       "  1,\n",
       "  1991,\n",
       "  '2022-12-18 19:57:00',\n",
       "  16950381,\n",
       "  1,\n",
       "  16950381,\n",
       "  'Южнопортовая 1 31 68.7 ул. Южнопортовая')]"
      ]
     },
     "execution_count": 95,
     "metadata": {},
     "output_type": "execute_result"
    }
   ],
   "source": [
    "cursor.execute(\"\"\"\n",
    "select id, person_id, offer_id, datetime, final_sum, quantity, price, title\n",
    "from person_check\n",
    "\"\"\")\n",
    "cursor.fetchall()"
   ]
  },
  {
   "cell_type": "code",
   "execution_count": 101,
   "id": "a31e6dd0",
   "metadata": {},
   "outputs": [
    {
     "name": "stdout",
     "output_type": "stream",
     "text": [
      "[]\n"
     ]
    }
   ],
   "source": [
    "cursor.execute(\"\"\" \n",
    "update person_check set  offer_id = 1991  where id = 1\n",
    "\"\"\")\n",
    "\n",
    "print(cursor.fetchall())"
   ]
  },
  {
   "cell_type": "code",
   "execution_count": 102,
   "id": "787fd88c",
   "metadata": {},
   "outputs": [
    {
     "data": {
      "text/plain": [
       "[(1,\n",
       "  1,\n",
       "  1991,\n",
       "  '2022-12-18 19:56:00',\n",
       "  13753518,\n",
       "  1,\n",
       "  13753518,\n",
       "  'Мичуринский 2 27 39.8'),\n",
       " (2,\n",
       "  1,\n",
       "  1992,\n",
       "  '2022-12-18 19:57:00',\n",
       "  16950381,\n",
       "  1,\n",
       "  16950381,\n",
       "  'Южнопортовая 1 31 68.7 ул. Южнопортовая')]"
      ]
     },
     "execution_count": 102,
     "metadata": {},
     "output_type": "execute_result"
    }
   ],
   "source": [
    "cursor.execute(\"\"\"\n",
    "select id, person_id, offer_id, datetime, final_sum, quantity, price, title\n",
    "from person_check\n",
    "\"\"\")\n",
    "cursor.fetchall()"
   ]
  },
  {
   "cell_type": "code",
   "execution_count": null,
   "id": "110be51f-5e95-4682-8c82-ba5832b734fa",
   "metadata": {},
   "outputs": [],
   "source": [
    "cursor.execute(\"\"\"\n",
    "select \n",
    "\"\"\")\n",
    "\n",
    "print(cursor.fetchall())"
   ]
  },
  {
   "cell_type": "code",
   "execution_count": 71,
   "id": "5eb9a67f",
   "metadata": {},
   "outputs": [
    {
     "data": {
      "text/plain": [
       "[(1, '2022-12-18 19:56:00', 1, 13753518, 1, 'Vasya', 'Ivanov'),\n",
       " (1, '2022-12-18 19:56:00', 1, 13753518, 2, 'Artem', 'Tsurkov'),\n",
       " (2, '2022-12-18 19:57:00', 1, 16950381, 1, 'Vasya', 'Ivanov'),\n",
       " (2, '2022-12-18 19:57:00', 1, 16950381, 2, 'Artem', 'Tsurkov')]"
      ]
     },
     "execution_count": 71,
     "metadata": {},
     "output_type": "execute_result"
    }
   ],
   "source": [
    "# все чеки с фио персон котрые их купили\n",
    "cursor.execute(\"\"\"\n",
    "select c.id, c.datetime, c.person_id, c.final_sum, person.id, person.name, person.surname\n",
    "from person_check as c join person_person as person\n",
    "\"\"\")\n",
    "\n",
    "cursor.fetchall()"
   ]
  },
  {
   "cell_type": "code",
   "execution_count": 80,
   "id": "21717593",
   "metadata": {},
   "outputs": [
    {
     "data": {
      "text/plain": [
       "[(1, '2022-12-18 19:56:00', 1, 13753518, 1, 'Vasya', 'Ivanov'),\n",
       " (2, '2022-12-18 19:57:00', 1, 16950381, 1, 'Vasya', 'Ivanov')]"
      ]
     },
     "execution_count": 80,
     "metadata": {},
     "output_type": "execute_result"
    }
   ],
   "source": [
    "# все чеки с фио персон котрые их купили\n",
    "cursor.execute(\"\"\"\n",
    "select c.id, c.datetime, c.person_id, c.final_sum, p1.id, p1.name, p1.surname\n",
    "from person_check as c join person_person as p1 \n",
    "    on c.person_id = p1.id \n",
    "\"\"\")\n",
    "\n",
    "cursor.fetchall()"
   ]
  },
  {
   "cell_type": "code",
   "execution_count": 86,
   "id": "89c51262",
   "metadata": {},
   "outputs": [
    {
     "data": {
      "text/plain": [
       "[(1, '2022-12-18 19:56:00', 1, 13753518, 1, 'Vasya', 'Ivanov'),\n",
       " (2, '2022-12-18 19:57:00', 1, 16950381, 1, 'Vasya', 'Ivanov')]"
      ]
     },
     "execution_count": 86,
     "metadata": {},
     "output_type": "execute_result"
    }
   ],
   "source": [
    "# все чеки с фио персон котрые их купили\n",
    "cursor.execute(\"\"\"\n",
    "select c.id, c.datetime, c.person_id, c.final_sum, p1.id, p1.name, p1.surname\n",
    "from person_person as p1  join  person_check as c \n",
    "    on c.person_id = p1.id \n",
    "\"\"\")\n",
    "\n",
    "cursor.fetchall()"
   ]
  },
  {
   "cell_type": "code",
   "execution_count": null,
   "id": "2a6d5b87",
   "metadata": {},
   "outputs": [],
   "source": [
    "#join inner, outher, left, right"
   ]
  },
  {
   "cell_type": "code",
   "execution_count": null,
   "id": "6c03e1e9",
   "metadata": {},
   "outputs": [],
   "source": [
    "# left join"
   ]
  },
  {
   "cell_type": "code",
   "execution_count": 81,
   "id": "351ff389",
   "metadata": {},
   "outputs": [
    {
     "data": {
      "text/plain": [
       "[(1, '2022-12-18 19:56:00', 1, 13753518, 1, 'Vasya', 'Ivanov'),\n",
       " (2, '2022-12-18 19:57:00', 1, 16950381, 1, 'Vasya', 'Ivanov')]"
      ]
     },
     "execution_count": 81,
     "metadata": {},
     "output_type": "execute_result"
    }
   ],
   "source": [
    "# все чеки с фио персон котрые их купили\n",
    "cursor.execute(\"\"\"\n",
    "select c.id, c.datetime, c.person_id, c.final_sum, p1.id, p1.name, p1.surname\n",
    "from person_check as c left join person_person as p1 \n",
    "    on c.person_id = p1.id \n",
    "\"\"\")\n",
    "\n",
    "cursor.fetchall()"
   ]
  },
  {
   "cell_type": "code",
   "execution_count": 83,
   "id": "c88c0b3c",
   "metadata": {},
   "outputs": [
    {
     "data": {
      "text/plain": [
       "[(1, 'Vasya', 'Ivanov', 1, '2022-12-18 19:56:00', 1, 13753518),\n",
       " (1, 'Vasya', 'Ivanov', 2, '2022-12-18 19:57:00', 1, 16950381),\n",
       " (2, 'Artem', 'Tsurkov', None, None, None, None)]"
      ]
     },
     "execution_count": 83,
     "metadata": {},
     "output_type": "execute_result"
    }
   ],
   "source": [
    "# все чеки с фио персон котрые их купили\n",
    "cursor.execute(\"\"\"\n",
    "select p1.id, p1.name, p1.surname, c.id, c.datetime, c.person_id, c.final_sum\n",
    "from person_person as p1 left join person_check as c \n",
    "    on c.person_id = p1.id \n",
    "\"\"\")\n",
    "\n",
    "cursor.fetchall()"
   ]
  },
  {
   "cell_type": "code",
   "execution_count": 90,
   "id": "9e2a0dd9",
   "metadata": {},
   "outputs": [
    {
     "data": {
      "text/plain": [
       "[(1, 'Vasya', 'Ivanov', 1, '2022-12-18 19:56:00', 1, 13753518),\n",
       " (1, 'Vasya', 'Ivanov', 2, '2022-12-18 19:57:00', 1, 16950381)]"
      ]
     },
     "execution_count": 90,
     "metadata": {},
     "output_type": "execute_result"
    }
   ],
   "source": [
    "# все чеки с фио персон котрые их купили\n",
    "cursor.execute(\"\"\"\n",
    "select p1.id, p1.name, p1.surname, c.id, c.datetime, c.person_id, c.final_sum\n",
    "from person_person as p1 inner join person_check as c \n",
    "    on c.person_id = p1.id \n",
    "\"\"\")\n",
    "\n",
    "cursor.fetchall()"
   ]
  },
  {
   "cell_type": "code",
   "execution_count": null,
   "id": "37cc2c9c",
   "metadata": {},
   "outputs": [],
   "source": [
    "#  join 3 таблиц"
   ]
  },
  {
   "cell_type": "code",
   "execution_count": 94,
   "id": "40f09d17",
   "metadata": {},
   "outputs": [
    {
     "data": {
      "text/plain": [
       "[(1,\n",
       "  'Vasya',\n",
       "  'Ivanov',\n",
       "  1,\n",
       "  'Мичуринский 2 27 39.8',\n",
       "  '2022-12-18 19:56:00',\n",
       "  1,\n",
       "  13753518,\n",
       "  1991,\n",
       "  13753518,\n",
       "  'Мичуринский 2 27 39.8 Озерная ул., вл. 7 55.687726,37.471704'),\n",
       " (1,\n",
       "  'Vasya',\n",
       "  'Ivanov',\n",
       "  2,\n",
       "  'Южнопортовая 1 31 68.7 ул. Южнопортовая',\n",
       "  '2022-12-18 19:57:00',\n",
       "  1,\n",
       "  16950381,\n",
       "  1991,\n",
       "  13753518,\n",
       "  'Мичуринский 2 27 39.8 Озерная ул., вл. 7 55.687726,37.471704')]"
      ]
     },
     "execution_count": 94,
     "metadata": {},
     "output_type": "execute_result"
    }
   ],
   "source": [
    "# все чеки с фио персон котрые их купили плюс превоналваыы офер\n",
    "cursor.execute(\"\"\"\n",
    "select p1.id, p1.name, p1.surname, c.id, c.title, c.datetime, c.person_id, c.final_sum, h.id, h.price_sale, h.title\n",
    "from person_person as p1 inner join person_check as c \n",
    "    on c.person_id = p1.id  join products_history as h on c.offer_id = h.id\n",
    "\"\"\") \n",
    "\n",
    "cursor.fetchall()"
   ]
  },
  {
   "cell_type": "code",
   "execution_count": 103,
   "id": "1e9f1dac",
   "metadata": {},
   "outputs": [
    {
     "data": {
      "text/plain": [
       "[(1,\n",
       "  'Vasya',\n",
       "  'Ivanov',\n",
       "  1,\n",
       "  'Мичуринский 2 27 39.8',\n",
       "  '2022-12-18 19:56:00',\n",
       "  1,\n",
       "  13753518,\n",
       "  1991,\n",
       "  13753518,\n",
       "  'Мичуринский 2 27 39.8 Озерная ул., вл. 7 55.687726,37.471704'),\n",
       " (1,\n",
       "  'Vasya',\n",
       "  'Ivanov',\n",
       "  2,\n",
       "  'Южнопортовая 1 31 68.7 ул. Южнопортовая',\n",
       "  '2022-12-18 19:57:00',\n",
       "  1,\n",
       "  16950381,\n",
       "  1992,\n",
       "  16950381,\n",
       "  'Южнопортовая 1 31 68.7 ул. Южнопортовая, вл.28-28а 55.705727,37.696445')]"
      ]
     },
     "execution_count": 103,
     "metadata": {},
     "output_type": "execute_result"
    }
   ],
   "source": [
    "# все чеки с фио персон котрые их купили плюс превоналваыы офер\n",
    "cursor.execute(\"\"\"\n",
    "select \n",
    "    p1.id, \n",
    "    p1.name, \n",
    "    p1.surname, \n",
    "    c.id, \n",
    "    c.title, \n",
    "    c.datetime, \n",
    "    c.person_id, \n",
    "    c.final_sum, \n",
    "    h.id, \n",
    "    h.price_sale, \n",
    "    h.title\n",
    "from person_person as p1 \n",
    "    inner join person_check as c \n",
    "        on c.person_id = p1.id  \n",
    "    join products_history as h \n",
    "        on c.offer_id = h.id\n",
    "\"\"\") \n",
    "\n",
    "cursor.fetchall()"
   ]
  },
  {
   "cell_type": "code",
   "execution_count": 134,
   "id": "b188683a",
   "metadata": {},
   "outputs": [
    {
     "name": "stdout",
     "output_type": "stream",
     "text": [
      "[]\n"
     ]
    }
   ],
   "source": [
    "cursor.execute(\"\"\" \n",
    "update person_check set  price = 15000000  where id = 3\n",
    "\"\"\")\n",
    "\n",
    "print(cursor.fetchall())\n",
    "\n",
    "\n",
    "\n"
   ]
  },
  {
   "cell_type": "code",
   "execution_count": 135,
   "id": "29982668",
   "metadata": {},
   "outputs": [
    {
     "data": {
      "text/plain": [
       "[(1, '2022-12-18 19:56:00', 1, 13753518),\n",
       " (2, '2022-12-18 19:57:00', 1, 16950381),\n",
       " (3, '2022-12-18 19:58:00', 3, 15000000)]"
      ]
     },
     "execution_count": 135,
     "metadata": {},
     "output_type": "execute_result"
    }
   ],
   "source": [
    "# все чеки с фио персон котрые их купили\n",
    "cursor.execute(\"\"\"\n",
    "select person_check.id, person_check.datetime,  person_check.person_id,  person_check.price\n",
    "from person_check \n",
    "\"\"\")\n",
    "\n",
    "cursor.fetchall()"
   ]
  },
  {
   "cell_type": "code",
   "execution_count": 104,
   "id": "f1801374",
   "metadata": {},
   "outputs": [],
   "source": [
    "#окнооные функции"
   ]
  },
  {
   "cell_type": "code",
   "execution_count": 126,
   "id": "0fc243bf",
   "metadata": {},
   "outputs": [
    {
     "data": {
      "text/plain": [
       "[(1, 2, 16950381), (3, 1, 100)]"
      ]
     },
     "execution_count": 126,
     "metadata": {},
     "output_type": "execute_result"
    }
   ],
   "source": [
    "# group\n",
    "\n",
    "cursor.execute(\"\"\"\n",
    "select person_id, count(1), max(price)\n",
    "from person_check\n",
    "group by person_id\n",
    "\"\"\")\n",
    "\n",
    "cursor.fetchall()"
   ]
  },
  {
   "cell_type": "code",
   "execution_count": null,
   "id": "7bc46fa3",
   "metadata": {},
   "outputs": [],
   "source": [
    "13753518"
   ]
  },
  {
   "cell_type": "code",
   "execution_count": 138,
   "id": "b7465abb",
   "metadata": {},
   "outputs": [
    {
     "data": {
      "text/plain": [
       "[(1, 2, '2022-12-18 19:57:00', 16950381, 1, 13753518, 0),\n",
       " (1, 1, '2022-12-18 19:56:00', 13753518, 2, 0, 16950381),\n",
       " (3, 3, '2022-12-18 19:58:00', 15000000, 1, 0, 0)]"
      ]
     },
     "execution_count": 138,
     "metadata": {},
     "output_type": "execute_result"
    }
   ],
   "source": [
    "#пронмуеруме записаи для каждо полльзователя\n",
    "cursor.execute(\"\"\"\n",
    "select person_id, \n",
    "    id,\n",
    "    datetime,  \n",
    "    price,\n",
    "    ROW_NUMBER() OVER(PARTITION BY person_id ORDER BY datetime desc) AS row_number,\n",
    "    LEAD(price,1,0) OVER (PARTITION BY person_id ORDER BY  datetime desc ) AS prev_price,\n",
    "    LAG(price,1,0) OVER (PARTITION BY person_id ORDER BY  datetime desc ) AS p_price\n",
    "from person_check\n",
    "\n",
    "\"\"\")\n",
    "\n",
    "cursor.fetchall()"
   ]
  },
  {
   "cell_type": "code",
   "execution_count": 137,
   "id": "9eca22b1",
   "metadata": {},
   "outputs": [
    {
     "data": {
      "text/plain": [
       "[(1, 2, '2022-12-18 19:57:00', 16950381, 1, 13753518, 0),\n",
       " (3, 3, '2022-12-18 19:58:00', 15000000, 1, 0, 0),\n",
       " (1, 1, '2022-12-18 19:56:00', 13753518, 2, 0, 16950381)]"
      ]
     },
     "execution_count": 137,
     "metadata": {},
     "output_type": "execute_result"
    }
   ],
   "source": [
    "#пронмуеруме записаи для каждо полльзователя\n",
    "cursor.execute(\"\"\"\n",
    "select person_id, \n",
    "    id,\n",
    "    datetime,  \n",
    "    price,\n",
    "    ROW_NUMBER() OVER(PARTITION BY person_id ORDER BY datetime desc) AS row_number,\n",
    "    LEAD(price,1,0) OVER (PARTITION BY person_id ORDER BY  datetime desc ) AS prev_price,\n",
    "    LAG(price,1,0) OVER (PARTITION BY person_id ORDER BY  datetime desc ) AS p_price\n",
    "from person_check\n",
    "\n",
    "order by price desc\n",
    "\"\"\")\n",
    "\n",
    "cursor.fetchall()"
   ]
  },
  {
   "cell_type": "code",
   "execution_count": 106,
   "id": "10e0d0f7",
   "metadata": {},
   "outputs": [
    {
     "name": "stdout",
     "output_type": "stream",
     "text": [
      "[]\n"
     ]
    }
   ],
   "source": [
    "cursor.execute(\"\"\"\n",
    "insert into person_check(person_id, offer_id, datetime, final_sum, quantity, price, title) \n",
    "values(3, 1993, \"2022-12-18 19:58:00\", 100, 1, 100, \"xyz\")\n",
    "\"\"\")\n",
    "\n",
    "print(cursor.fetchall())\n"
   ]
  },
  {
   "cell_type": "code",
   "execution_count": null,
   "id": "d512d4d1",
   "metadata": {},
   "outputs": [],
   "source": [
    "cursor.execute(\"\"\"\n",
    "            WITH sales_numbered AS (\n",
    "                SELECT \n",
    "                    id, \n",
    "                    title,\n",
    "                    price_sale,  \n",
    "                    LEAD(price_sale,1,0) OVER (PARTITION BY title, url ORDER BY  title, id desc ) AS prev_price_sale,  \n",
    "                    price_sale - LEAD(price_sale,1,0) OVER (PARTITION BY title, url  ORDER BY title, id desc ) AS diff,\n",
    "                    ROW_NUMBER() OVER(PARTITION BY title, url ORDER BY id desc) AS row_number\n",
    "                FROM products_history\n",
    "                where datetime_create >= \"{d.date()}\"\n",
    "                ORDER BY id desc\n",
    "                LIMIT 1000000\n",
    "            )\n",
    "            SELECT \n",
    "                id, \n",
    "                title,\n",
    "                price_sale,  \n",
    "                prev_price_sale,\n",
    "                diff,\n",
    "                ROUND(diff / price_sale * 100) as per,\n",
    "                row_number\n",
    "            FROM sales_numbered\n",
    "            WHERE row_number = 1 and diff !=0 and diff != price_sale and (diff + prev_price_sale) != 0\n",
    "            Order by per;\n",
    "\n",
    "        \"\"\")"
   ]
  },
  {
   "cell_type": "code",
   "execution_count": 105,
   "id": "82ca3a6a",
   "metadata": {},
   "outputs": [
    {
     "data": {
      "text/plain": [
       "[(893488,\n",
       "  'Соус бальзамический Monini Balsamic Glaze со вкусом инжира, 250 г',\n",
       "  786.99,\n",
       "  0,\n",
       "  786.99,\n",
       "  1),\n",
       " (893487,\n",
       "  'Топик-бра Pompea без боковых швов Brassiere Seam Nero, S/M',\n",
       "  599.99,\n",
       "  0,\n",
       "  599.99,\n",
       "  1),\n",
       " (893486,\n",
       "  'Маска-патчи для глаз Organic Kitchen Супер увлажняющие Чайные пакетики сенча жидкие, 100 мл',\n",
       "  212.99,\n",
       "  0,\n",
       "  212.99,\n",
       "  1),\n",
       " (893485, 'Филе тунца, вес', 1899, 0, 1899, 1),\n",
       " (893484,\n",
       "  'Масло магниевое Pure Bases для стройности тела, 150 мл',\n",
       "  323,\n",
       "  0,\n",
       "  323,\n",
       "  1),\n",
       " (893483,\n",
       "  'Устройство зарядное GP U411 4КК.АА/2700, 1 шт',\n",
       "  2039.99,\n",
       "  0,\n",
       "  2039.99,\n",
       "  1),\n",
       " (893482, 'Лопатка Atmosphere Voyage нейлоновая', 152.9, 0, 152.9, 1),\n",
       " (893481,\n",
       "  'Крем-краска для волос Syoss Color Интенсивный осветлитель тон 12-0',\n",
       "  472.99,\n",
       "  0,\n",
       "  472.99,\n",
       "  1),\n",
       " (893480,\n",
       "  'Саморез универсальный «Каждый день» 5,0x 50 желтый оцинкованный, 8шт',\n",
       "  39.99,\n",
       "  0,\n",
       "  39.99,\n",
       "  1),\n",
       " (893479,\n",
       "  'Пенка для лица очищающая Holika Holika Дейли Гарден рис, 120 мл',\n",
       "  449.99,\n",
       "  0,\n",
       "  449.99,\n",
       "  1)]"
      ]
     },
     "execution_count": 105,
     "metadata": {},
     "output_type": "execute_result"
    }
   ],
   "source": [
    "cursor.execute(\"\"\"\n",
    "SELECT \n",
    "    id, \n",
    "    title,\n",
    "    price_sale,  \n",
    "    LEAD(price_sale,1,0) OVER (PARTITION BY title, url ORDER BY  title, id desc ) AS prev_price_sale,  \n",
    "    price_sale - LEAD(price_sale,1,0) OVER (PARTITION BY title, url  ORDER BY title, id desc ) AS diff,\n",
    "    ROW_NUMBER() OVER(PARTITION BY title, url ORDER BY id desc) AS row_number\n",
    "FROM products_history\n",
    "where datetime_create >= \"2022-12-17\"\n",
    "ORDER BY id desc\n",
    "LIMIT 10     \n",
    "\"\"\")\n",
    "\n",
    "cursor.fetchall()\n"
   ]
  },
  {
   "cell_type": "code",
   "execution_count": null,
   "id": "123a1c2b",
   "metadata": {},
   "outputs": [],
   "source": []
  },
  {
   "cell_type": "code",
   "execution_count": null,
   "id": "8fdceb6d-7096-4b48-a5cd-1d0ca038c774",
   "metadata": {},
   "outputs": [],
   "source": [
    "# графики"
   ]
  },
  {
   "cell_type": "code",
   "execution_count": 8,
   "id": "caacbe5a-3e01-46a7-a86e-92996962eb5b",
   "metadata": {},
   "outputs": [
    {
     "name": "stdout",
     "output_type": "stream",
     "text": [
      "3.6.2\n",
      "module://matplotlib_inline.backend_inline\n"
     ]
    }
   ],
   "source": [
    "import matplotlib\n",
    "print(matplotlib.__version__)\n",
    "print(matplotlib.get_backend())"
   ]
  },
  {
   "cell_type": "code",
   "execution_count": 9,
   "id": "18cf2654-cd78-4c05-a9b3-22e67bc0a3bf",
   "metadata": {},
   "outputs": [
    {
     "data": {
      "image/png": "[encoded data removed]",
      "text/plain": [
       "<Figure size 640x480 with 1 Axes>"
      ]
     },
     "metadata": {},
     "output_type": "display_data"
    }
   ],
   "source": [
    "import matplotlib.pyplot as plt\n",
    "plt.plot([0, 1, 2, 3], [0, 3, 1, 2])\n",
    "plt.show()\n"
   ]
  },
  {
   "cell_type": "code",
   "execution_count": 7,
   "id": "02cbea83-3a93-49a0-aafa-cb0bfabcae0b",
   "metadata": {},
   "outputs": [
    {
     "data": {
      "image/png": "[encoded data removed]",
      "text/plain": [
       "<Figure size 640x480 with 1 Axes>"
      ]
     },
     "metadata": {},
     "output_type": "display_data"
    }
   ],
   "source": [
    "plt.plot([0, 1, 2, 3], [2, 1, 3, 0])\n",
    "plt.show()"
   ]
  },
  {
   "cell_type": "code",
   "execution_count": 9,
   "id": "049c8169-b557-44a7-8a8f-ff1ed94ae3ad",
   "metadata": {},
   "outputs": [
    {
     "data": {
      "image/png": "[encoded data removed]",
      "text/plain": [
       "<Figure size 640x480 with 1 Axes>"
      ]
     },
     "metadata": {},
     "output_type": "display_data"
    }
   ],
   "source": [
    "import numpy as np\n",
    "x = np.linspace(0, 4 * np.pi, 100)\n",
    "\n",
    "plt.figure()\n",
    "plt.plot(x, np.sin(x))\n",
    "plt.show()"
   ]
  },
  {
   "cell_type": "code",
   "execution_count": 11,
   "id": "e367ec26-8a54-4d05-b87f-b3e699125c99",
   "metadata": {},
   "outputs": [
    {
     "data": {
      "image/png": "[encoded data removed]",
      "text/plain": [
       "<Figure size 640x480 with 1 Axes>"
      ]
     },
     "metadata": {},
     "output_type": "display_data"
    }
   ],
   "source": [
    "x = np.linspace(0, 4 * np.pi, 100)\n",
    "\n",
    "plt.figure()\n",
    "plt.plot(x, np.sin(x))\n",
    "plt.plot([0, 1, 2, 3], [2, 1, 3, 0])\n",
    "plt.show()"
   ]
  },
  {
   "cell_type": "code",
   "execution_count": 20,
   "id": "67dc95ab-1b5c-49ad-847a-c3da8777566d",
   "metadata": {},
   "outputs": [
    {
     "data": {
      "image/png": "[encoded data removed]",
      "text/plain": [
       "<Figure size 640x480 with 1 Axes>"
      ]
     },
     "metadata": {},
     "output_type": "display_data"
    }
   ],
   "source": [
    "x = np.linspace(0, 4 * np.pi, 100)\n",
    "\n",
    "plt.figure()\n",
    "plt.plot(x, np.sin(x), linewidth=2, color='b',  dashes=[8, 4], label=r'sin x')\n",
    "plt.plot([0, 1, 2, 3], [2, 1, 3, 0], linewidth=2, color='r', dashes=[8, 4, 2, 4], label=r'x')\n",
    "plt.legend(fontsize=20, loc=1)\n",
    "plt.show()"
   ]
  },
  {
   "cell_type": "code",
   "execution_count": null,
   "id": "eea08454-c2ea-4170-8f19-2a6dacccffac",
   "metadata": {},
   "outputs": [],
   "source": []
  },
  {
   "cell_type": "code",
   "execution_count": 21,
   "id": "9aaf6ea2-d4b0-4fe7-ae70-dece6850d9fe",
   "metadata": {},
   "outputs": [],
   "source": [
    "# теперь попробуем соединить с нашими данными из бд"
   ]
  },
  {
   "cell_type": "code",
   "execution_count": 26,
   "id": "bf7aec52-22b4-41c6-a411-0468fc29388b",
   "metadata": {},
   "outputs": [
    {
     "name": "stdout",
     "output_type": "stream",
     "text": [
      "ls: cannot access '/tmp/sql_dump/db.sqlite3': No such file or directory\n"
     ]
    }
   ],
   "source": [
    "ls -la /tmp/sql_dump/db.sqlite3"
   ]
  },
  {
   "cell_type": "code",
   "execution_count": 32,
   "id": "a7f3b7e1-d33a-449b-8341-9d3e19a3d62f",
   "metadata": {},
   "outputs": [],
   "source": [
    "mkdir /tmp/sql_dump"
   ]
  },
  {
   "cell_type": "code",
   "execution_count": 116,
   "id": "d2fb42ff-5190-4c41-8abc-b1db99f03776",
   "metadata": {},
   "outputs": [],
   "source": [
    "cp /home/jupyter-amtsu/project/price_alert/db.sqlite3 /tmp/sql_dump/db.sqlite3"
   ]
  },
  {
   "cell_type": "code",
   "execution_count": 16,
   "id": "1bea9a93-68aa-4bea-adce-71ef3ae47fa2",
   "metadata": {},
   "outputs": [],
   "source": [
    "import sqlite3\n",
    "connection = sqlite3.connect('/tmp/sql_dump/db.sqlite3')\n",
    "cursor = connection.cursor()"
   ]
  },
  {
   "cell_type": "code",
   "execution_count": 17,
   "id": "42d4dd22-a233-4c09-9e1f-6bef9d269104",
   "metadata": {},
   "outputs": [
    {
     "ename": "OperationalError",
     "evalue": "near \".\": syntax error",
     "output_type": "error",
     "traceback": [
      "\u001b[0;31m---------------------------------------------------------------------------\u001b[0m",
      "\u001b[0;31mOperationalError\u001b[0m                          Traceback (most recent call last)",
      "Cell \u001b[0;32mIn [17], line 1\u001b[0m\n\u001b[0;32m----> 1\u001b[0m \u001b[43mcursor\u001b[49m\u001b[38;5;241;43m.\u001b[39;49m\u001b[43mexecute\u001b[49m\u001b[43m(\u001b[49m\u001b[38;5;124;43m\"\"\"\u001b[39;49m\n\u001b[1;32m      2\u001b[0m \u001b[38;5;124;43m.tables\u001b[39;49m\n\u001b[1;32m      3\u001b[0m \u001b[38;5;124;43m\"\"\"\u001b[39;49m\u001b[43m)\u001b[49m\n\u001b[1;32m      4\u001b[0m cursor\u001b[38;5;241m.\u001b[39mfetchall()\n",
      "\u001b[0;31mOperationalError\u001b[0m: near \".\": syntax error"
     ]
    }
   ],
   "source": [
    "cursor.execute(\"\"\"\n",
    ".tables\n",
    "\"\"\")\n",
    "cursor.fetchall()"
   ]
  },
  {
   "cell_type": "code",
   "execution_count": 18,
   "id": "e3ade2f4-3c53-49f4-881d-ad9999062c8b",
   "metadata": {},
   "outputs": [],
   "source": [
    "cursor.execute(\"\"\"\n",
    "select  price_sale, date(datetime_create)\n",
    "from products_history \n",
    "where price > 10000\n",
    "    and title like \"%куртка%\"\n",
    "order by  price asc\n",
    "limit 1000000\n",
    "\"\"\")\n",
    "\n",
    "x = []\n",
    "y = []\n",
    "for i in cursor.fetchall():\n",
    "    x.append(i[1])\n",
    "    y.append(i[0])"
   ]
  },
  {
   "cell_type": "code",
   "execution_count": 19,
   "id": "883e91a3-6ffc-4f37-9ee6-2ef78f26e14e",
   "metadata": {},
   "outputs": [
    {
     "name": "stdout",
     "output_type": "stream",
     "text": [
      "[('Батончик Nutella B-Ready 22г',), ('Паста Nutella Шоколадная 52г',), ('Паста Nutella Шоколадная 180г',), ('Паста Nutella Шоколадная 350г',), ('Паста Nutella Шоколадная 630г',), ('Паста Nutella ореховая с добавлением какао 350г',)]\n"
     ]
    }
   ],
   "source": [
    "\n",
    "cursor.execute(\"\"\"\n",
    "select  distinct(title)\n",
    "from products_history \n",
    "where title like \"%Nutella%\"\n",
    "limit 1000000\n",
    "\"\"\")\n",
    "\n",
    "print(cursor.fetchall())"
   ]
  },
  {
   "cell_type": "code",
   "execution_count": 20,
   "id": "514d83be-4184-456e-b3e0-dede6b6a5944",
   "metadata": {},
   "outputs": [
    {
     "name": "stdout",
     "output_type": "stream",
     "text": [
      "(389, '2022-12-06', 'Паста Nutella Шоколадная 350г')\n",
      "(389, '2022-12-07', 'Паста Nutella Шоколадная 350г')\n",
      "(389, '2022-12-07', 'Паста Nutella Шоколадная 350г')\n",
      "(359, '2022-12-08', 'Паста Nutella Шоколадная 350г')\n",
      "(499, '2022-12-09', 'Паста Nutella Шоколадная 350г')\n",
      "(499, '2022-12-10', 'Паста Nutella Шоколадная 350г')\n",
      "(499, '2022-12-11', 'Паста Nutella Шоколадная 350г')\n",
      "(499, '2022-12-12', 'Паста Nutella Шоколадная 350г')\n",
      "(499, '2022-12-13', 'Паста Nutella Шоколадная 350г')\n",
      "(349.99, '2022-12-14', 'Паста Nutella ореховая с добавлением какао 350г')\n",
      "(499, '2022-12-14', 'Паста Nutella Шоколадная 350г')\n",
      "(349.99, '2022-12-15', 'Паста Nutella ореховая с добавлением какао 350г')\n",
      "(455, '2022-12-15', 'Паста Nutella Шоколадная 350г')\n",
      "(349.99, '2022-12-16', 'Паста Nutella ореховая с добавлением какао 350г')\n",
      "(349.99, '2022-12-17', 'Паста Nutella ореховая с добавлением какао 350г')\n",
      "(349.99, '2022-12-18', 'Паста Nutella ореховая с добавлением какао 350г')\n"
     ]
    }
   ],
   "source": [
    "\n",
    "cursor.execute(\"\"\"\n",
    "select  price_sale, date(datetime_create) as d, title\n",
    "from products_history \n",
    "where title like \"%utella%\"\n",
    "    and title like \"%350%\"\n",
    "order by  d asc, price_sale asc\n",
    "limit 1000000\n",
    "\"\"\")\n",
    "\n",
    "#print(cursor.fetchall())\n",
    "x = []\n",
    "y = []\n",
    "for i in cursor.fetchall():\n",
    "    print(i)\n",
    "    x.append(i[1])\n",
    "    y.append(i[0])"
   ]
  },
  {
   "cell_type": "code",
   "execution_count": 13,
   "id": "6da7342b-966e-4550-8372-ebcb8f9c62ec",
   "metadata": {},
   "outputs": [
    {
     "data": {
      "image/png": "[encoded data removed]",
      "text/plain": [
       "<Figure size 640x480 with 1 Axes>"
      ]
     },
     "metadata": {},
     "output_type": "display_data"
    }
   ],
   "source": [
    "plt.figure()\n",
    "#plt.plot([0, 1, 2, 3], [2, 1, 3, 0])\n",
    "plt.plot(x, y)\n",
    "plt.show()"
   ]
  },
  {
   "cell_type": "code",
   "execution_count": 14,
   "id": "970e1d0f-8e6a-4fb0-bad0-1d3e158060f9",
   "metadata": {},
   "outputs": [
    {
     "name": "stdout",
     "output_type": "stream",
     "text": [
      "[('Набор Конфет Raffaello 70г',), ('Набор Конфет Raffaello 90г',), ('Набор Конфет Raffaello 150г',), ('Конфеты Raffaello 40г',), ('Набор Конфет Raffaello Тортик 100г',), ('Набор Конфет Raffaello Маракуйя 150г',), ('Набор Конфет Raffaello 240г',), ('Набор Конфет Raffaello Тортик 200г',), ('Набор Конфет Raffaello Сердце 300г',), ('НАБОР КОНФЕТ RAFFAELLO СУНДУЧОК 240г',), ('НАБОР КОНФЕТ RAFFAELLO 500Г',), ('Конфеты raffaello со вкусом маракуйи покрытые кокосовой стружкой с цельным миндальным орехом внутри 150г',)]\n"
     ]
    }
   ],
   "source": [
    "\n",
    "cursor.execute(\"\"\"\n",
    "select  distinct(title)\n",
    "from products_history \n",
    "where title like \"%raffaello%\"\n",
    "limit 1000000\n",
    "\"\"\")\n",
    "\n",
    "print(cursor.fetchall())"
   ]
  },
  {
   "cell_type": "code",
   "execution_count": 15,
   "id": "3704b0e1-8465-4a5a-b324-83d1b1f3415a",
   "metadata": {},
   "outputs": [
    {
     "data": {
      "image/png": "[encoded data removed]",
      "text/plain": [
       "<Figure size 640x480 with 1 Axes>"
      ]
     },
     "metadata": {},
     "output_type": "display_data"
    }
   ],
   "source": [
    "\n",
    "cursor.execute(\"\"\"\n",
    "select  price_sale, date(datetime_create) as d, title\n",
    "from products_history \n",
    "where title like \"%raffaello%\"\n",
    "    and title like \"%240%\"\n",
    "order by  d asc, price_sale asc, title asc\n",
    "limit 1000000\n",
    "\"\"\")\n",
    "\n",
    "#print(cursor.fetchall())\n",
    "x = []\n",
    "y = []\n",
    "for i in cursor.fetchall():\n",
    "    #print(i)\n",
    "    x.append(i[1])\n",
    "    y.append(i[0])\n",
    "    \n",
    "    \n",
    "\n",
    "cursor.execute(\"\"\"\n",
    "select  price_sale, date(datetime_create) as d, title\n",
    "from products_history \n",
    "where title like \"%raffaello%\"\n",
    "    and title like \"%150%\"\n",
    "order by  d asc, price_sale asc, title asc\n",
    "limit 1000000\n",
    "\"\"\")\n",
    "\n",
    "#print(cursor.fetchall())\n",
    "x2 = []\n",
    "y2 = []\n",
    "for i in cursor.fetchall():\n",
    "    #print(i)\n",
    "    x2.append(i[1])\n",
    "    y2.append(i[0])\n",
    "    \n",
    "plt.figure()\n",
    "#plt.plot([0, 1, 2, 3], [2, 1, 3, 0])\n",
    "plt.plot(x, y, label=r'240')\n",
    "plt.plot(x2, y2, label=r'150')\n",
    "plt.legend(fontsize=20, loc=1)\n",
    "plt.show()"
   ]
  },
  {
   "cell_type": "code",
   "execution_count": null,
   "id": "f0869011-79ca-4a8e-b6dd-16413fbba76d",
   "metadata": {},
   "outputs": [],
   "source": []
  },
  {
   "cell_type": "code",
   "execution_count": null,
   "id": "f48e0f50-7de2-45a9-95ef-2839122a0ef7",
   "metadata": {},
   "outputs": [],
   "source": []
  },
  {
   "cell_type": "code",
   "execution_count": null,
   "id": "cc2ecab3-490e-4d6f-9418-6c120e4a3e94",
   "metadata": {},
   "outputs": [],
   "source": []
  },
  {
   "cell_type": "code",
   "execution_count": null,
   "id": "47ee7eb2-c840-4e0c-b8a6-458b55445734",
   "metadata": {},
   "outputs": [],
   "source": []
  },
  {
   "cell_type": "code",
   "execution_count": null,
   "id": "b880d304-b153-49ee-9ff2-bbcea2316d69",
   "metadata": {},
   "outputs": [],
   "source": []
  }
 ],
 "metadata": {
  "kernelspec": {
   "display_name": "Python 3 (ipykernel)",
   "language": "python",
   "name": "python3"
  },
  "language_info": {
   "codemirror_mode": {
    "name": "ipython",
    "version": 3
   },
   "file_extension": ".py",
   "mimetype": "text/x-python",
   "name": "python",
   "nbconvert_exporter": "python",
   "pygments_lexer": "ipython3",
   "version": "3.9.7"
  }
 },
 "nbformat": 4,
 "nbformat_minor": 5
}
