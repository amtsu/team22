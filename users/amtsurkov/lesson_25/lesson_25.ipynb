{
 "cells": [
  {
   "cell_type": "code",
   "execution_count": null,
   "id": "d40b32b0",
   "metadata": {},
   "outputs": [],
   "source": [
    "# переменный по умлочаю в функции"
   ]
  },
  {
   "cell_type": "code",
   "execution_count": null,
   "id": "f2a841ab",
   "metadata": {},
   "outputs": [],
   "source": [
    "def f1(x, z=['cc']):\n",
    "    print(z)\n",
    "    z.append(x)\n",
    "    print(z)\n"
   ]
  },
  {
   "cell_type": "code",
   "execution_count": null,
   "id": "8913c250",
   "metadata": {},
   "outputs": [],
   "source": [
    "f1('1')"
   ]
  },
  {
   "cell_type": "code",
   "execution_count": null,
   "id": "eab4d91f",
   "metadata": {
    "scrolled": true
   },
   "outputs": [],
   "source": [
    "f1('2')"
   ]
  },
  {
   "cell_type": "code",
   "execution_count": null,
   "id": "2b7b8689",
   "metadata": {},
   "outputs": [],
   "source": []
  },
  {
   "cell_type": "code",
   "execution_count": null,
   "id": "480d6e11-02b4-4e3f-8a35-afa045971c0b",
   "metadata": {},
   "outputs": [],
   "source": [
    "# join "
   ]
  },
  {
   "cell_type": "code",
   "execution_count": null,
   "id": "381614ba",
   "metadata": {},
   "outputs": [],
   "source": [
    "ls -al  /tmp/sql_dump/db.sqlite3"
   ]
  },
  {
   "cell_type": "code",
   "execution_count": null,
   "id": "01af0c51-92ca-434e-aa5d-42221afe1d5a",
   "metadata": {},
   "outputs": [],
   "source": [
    "import sqlite3\n",
    "connection = sqlite3.connect('/tmp/sql_dump/db.sqlite3')\n",
    "cursor = connection.cursor()\n"
   ]
  },
  {
   "cell_type": "code",
   "execution_count": null,
   "id": "43cd5ab8",
   "metadata": {},
   "outputs": [],
   "source": [
    "cursor.execute(\"\"\"\n",
    "select title, price\n",
    "from products_history \n",
    "where id in (1991, 1992, 1993 )\n",
    "\"\"\")\n",
    "\n",
    "print(cursor.fetchall())"
   ]
  },
  {
   "cell_type": "code",
   "execution_count": null,
   "id": "8fcabf42",
   "metadata": {},
   "outputs": [],
   "source": [
    "cursor.execute(\"\"\"\n",
    "select *\n",
    "from person_person \n",
    "\"\"\")\n",
    "\n",
    "print(cursor.fetchall())"
   ]
  },
  {
   "cell_type": "code",
   "execution_count": null,
   "id": "b71e8f77-b627-4ab3-9639-e47c1a860b5f",
   "metadata": {},
   "outputs": [],
   "source": [
    "cursor.execute(\"\"\"\n",
    "insert into person_person(name, surname) values('Artem', 'Tsurkov')\n",
    "\"\"\")\n",
    "\n",
    "print(cursor.fetchall())"
   ]
  },
  {
   "cell_type": "code",
   "execution_count": null,
   "id": "7d577301",
   "metadata": {},
   "outputs": [],
   "source": [
    "cursor.execute(\"\"\"\n",
    "select id, person_id, offer_id, datetime, final_sum, quantity, price, title\n",
    "from person_check\n",
    "\"\"\")\n",
    "\n",
    "print(cursor.fetchall())"
   ]
  },
  {
   "cell_type": "code",
   "execution_count": null,
   "id": "b13f9330",
   "metadata": {},
   "outputs": [],
   "source": [
    "cursor.execute(\"\"\"\n",
    "insert into person_check(person_id, offer_id, datetime, final_sum, quantity, price, title) values(1, 1991, \"2022-12-18 19:56:00\", 13753518.00, 1, 13753518.00, \"Мичуринский 2 27 39.8\")\n",
    "\"\"\")\n",
    "\n",
    "print(cursor.fetchall())"
   ]
  },
  {
   "cell_type": "code",
   "execution_count": null,
   "id": "902c9a2a",
   "metadata": {},
   "outputs": [],
   "source": [
    "cursor.execute(\"\"\"\n",
    "insert into person_check(person_id, offer_id, datetime, final_sum, quantity, price, title) values(1, 1992, \"2022-12-18 19:57:00\", 16950381.00, 1, 16950381.00, \"Южнопортовая 1 31 68.7 ул. Южнопортовая\")\n",
    "\"\"\")\n",
    "\n",
    "print(cursor.fetchall())"
   ]
  },
  {
   "cell_type": "code",
   "execution_count": null,
   "id": "40ac4562",
   "metadata": {},
   "outputs": [],
   "source": [
    "cursor.execute(\"\"\"\n",
    "select id, person_id, offer_id, datetime, final_sum, quantity, price, title\n",
    "from person_check\n",
    "\"\"\")\n",
    "cursor.fetchall()"
   ]
  },
  {
   "cell_type": "code",
   "execution_count": null,
   "id": "a31e6dd0",
   "metadata": {},
   "outputs": [],
   "source": [
    "cursor.execute(\"\"\" \n",
    "update person_check set  offer_id = 1991  where id = 1\n",
    "\"\"\")\n",
    "\n",
    "print(cursor.fetchall())"
   ]
  },
  {
   "cell_type": "code",
   "execution_count": null,
   "id": "787fd88c",
   "metadata": {},
   "outputs": [],
   "source": [
    "cursor.execute(\"\"\"\n",
    "select id, person_id, offer_id, datetime, final_sum, quantity, price, title\n",
    "from person_check\n",
    "\"\"\")\n",
    "cursor.fetchall()"
   ]
  },
  {
   "cell_type": "code",
   "execution_count": null,
   "id": "110be51f-5e95-4682-8c82-ba5832b734fa",
   "metadata": {},
   "outputs": [],
   "source": [
    "cursor.execute(\"\"\"\n",
    "select \n",
    "\"\"\")\n",
    "\n",
    "print(cursor.fetchall())"
   ]
  },
  {
   "cell_type": "code",
   "execution_count": null,
   "id": "5eb9a67f",
   "metadata": {},
   "outputs": [],
   "source": [
    "# все чеки с фио персон котрые их купили\n",
    "cursor.execute(\"\"\"\n",
    "select c.id, c.datetime, c.person_id, c.final_sum, person.id, person.name, person.surname\n",
    "from person_check as c join person_person as person\n",
    "\"\"\")\n",
    "\n",
    "cursor.fetchall()"
   ]
  },
  {
   "cell_type": "code",
   "execution_count": null,
   "id": "21717593",
   "metadata": {},
   "outputs": [],
   "source": [
    "# все чеки с фио персон котрые их купили\n",
    "cursor.execute(\"\"\"\n",
    "select c.id, c.datetime, c.person_id, c.final_sum, p1.id, p1.name, p1.surname\n",
    "from person_check as c join person_person as p1 \n",
    "    on c.person_id = p1.id \n",
    "\"\"\")\n",
    "\n",
    "cursor.fetchall()"
   ]
  },
  {
   "cell_type": "code",
   "execution_count": null,
   "id": "89c51262",
   "metadata": {},
   "outputs": [],
   "source": [
    "# все чеки с фио персон котрые их купили\n",
    "cursor.execute(\"\"\"\n",
    "select c.id, c.datetime, c.person_id, c.final_sum, p1.id, p1.name, p1.surname\n",
    "from person_person as p1  join  person_check as c \n",
    "    on c.person_id = p1.id \n",
    "\"\"\")\n",
    "\n",
    "cursor.fetchall()"
   ]
  },
  {
   "cell_type": "code",
   "execution_count": null,
   "id": "2a6d5b87",
   "metadata": {},
   "outputs": [],
   "source": [
    "#join inner, outher, left, right"
   ]
  },
  {
   "cell_type": "code",
   "execution_count": null,
   "id": "6c03e1e9",
   "metadata": {},
   "outputs": [],
   "source": [
    "# left join"
   ]
  },
  {
   "cell_type": "code",
   "execution_count": null,
   "id": "351ff389",
   "metadata": {},
   "outputs": [],
   "source": [
    "# все чеки с фио персон котрые их купили\n",
    "cursor.execute(\"\"\"\n",
    "select c.id, c.datetime, c.person_id, c.final_sum, p1.id, p1.name, p1.surname\n",
    "from person_check as c left join person_person as p1 \n",
    "    on c.person_id = p1.id \n",
    "\"\"\")\n",
    "\n",
    "cursor.fetchall()"
   ]
  },
  {
   "cell_type": "code",
   "execution_count": null,
   "id": "c88c0b3c",
   "metadata": {},
   "outputs": [],
   "source": [
    "# все чеки с фио персон котрые их купили\n",
    "cursor.execute(\"\"\"\n",
    "select p1.id, p1.name, p1.surname, c.id, c.datetime, c.person_id, c.final_sum\n",
    "from person_person as p1 left join person_check as c \n",
    "    on c.person_id = p1.id \n",
    "\"\"\")\n",
    "\n",
    "cursor.fetchall()"
   ]
  },
  {
   "cell_type": "code",
   "execution_count": null,
   "id": "9e2a0dd9",
   "metadata": {},
   "outputs": [],
   "source": [
    "# все чеки с фио персон котрые их купили\n",
    "cursor.execute(\"\"\"\n",
    "select p1.id, p1.name, p1.surname, c.id, c.datetime, c.person_id, c.final_sum\n",
    "from person_person as p1 inner join person_check as c \n",
    "    on c.person_id = p1.id \n",
    "\"\"\")\n",
    "\n",
    "cursor.fetchall()"
   ]
  },
  {
   "cell_type": "code",
   "execution_count": null,
   "id": "37cc2c9c",
   "metadata": {},
   "outputs": [],
   "source": [
    "#  join 3 таблиц"
   ]
  },
  {
   "cell_type": "code",
   "execution_count": null,
   "id": "40f09d17",
   "metadata": {},
   "outputs": [],
   "source": [
    "# все чеки с фио персон котрые их купили плюс превоналваыы офер\n",
    "cursor.execute(\"\"\"\n",
    "select p1.id, p1.name, p1.surname, c.id, c.title, c.datetime, c.person_id, c.final_sum, h.id, h.price_sale, h.title\n",
    "from person_person as p1 inner join person_check as c \n",
    "    on c.person_id = p1.id  join products_history as h on c.offer_id = h.id\n",
    "\"\"\") \n",
    "\n",
    "cursor.fetchall()"
   ]
  },
  {
   "cell_type": "code",
   "execution_count": null,
   "id": "1e9f1dac",
   "metadata": {},
   "outputs": [],
   "source": [
    "# все чеки с фио персон котрые их купили плюс превоналваыы офер\n",
    "cursor.execute(\"\"\"\n",
    "select \n",
    "    p1.id, \n",
    "    p1.name, \n",
    "    p1.surname, \n",
    "    c.id, \n",
    "    c.title, \n",
    "    c.datetime, \n",
    "    c.person_id, \n",
    "    c.final_sum, \n",
    "    h.id, \n",
    "    h.price_sale, \n",
    "    h.title\n",
    "from person_person as p1 \n",
    "    inner join person_check as c \n",
    "        on c.person_id = p1.id  \n",
    "    join products_history as h \n",
    "        on c.offer_id = h.id\n",
    "\"\"\") \n",
    "\n",
    "cursor.fetchall()"
   ]
  },
  {
   "cell_type": "code",
   "execution_count": null,
   "id": "b188683a",
   "metadata": {},
   "outputs": [],
   "source": [
    "cursor.execute(\"\"\" \n",
    "update person_check set  price = 15000000  where id = 3\n",
    "\"\"\")\n",
    "\n",
    "print(cursor.fetchall())\n",
    "\n",
    "\n",
    "\n"
   ]
  },
  {
   "cell_type": "code",
   "execution_count": null,
   "id": "29982668",
   "metadata": {},
   "outputs": [],
   "source": [
    "# все чеки с фио персон котрые их купили\n",
    "cursor.execute(\"\"\"\n",
    "select person_check.id, person_check.datetime,  person_check.person_id,  person_check.price\n",
    "from person_check \n",
    "\"\"\")\n",
    "\n",
    "cursor.fetchall()"
   ]
  },
  {
   "cell_type": "code",
   "execution_count": null,
   "id": "f1801374",
   "metadata": {},
   "outputs": [],
   "source": [
    "#окнооные функции"
   ]
  },
  {
   "cell_type": "code",
   "execution_count": null,
   "id": "0fc243bf",
   "metadata": {},
   "outputs": [],
   "source": [
    "# group\n",
    "\n",
    "cursor.execute(\"\"\"\n",
    "select person_id, count(1), max(price)\n",
    "from person_check\n",
    "group by person_id\n",
    "\"\"\")\n",
    "\n",
    "cursor.fetchall()"
   ]
  },
  {
   "cell_type": "code",
   "execution_count": null,
   "id": "7bc46fa3",
   "metadata": {},
   "outputs": [],
   "source": [
    "13753518"
   ]
  },
  {
   "cell_type": "code",
   "execution_count": null,
   "id": "b7465abb",
   "metadata": {},
   "outputs": [],
   "source": [
    "#пронмуеруме записаи для каждо полльзователя\n",
    "cursor.execute(\"\"\"\n",
    "select person_id, \n",
    "    id,\n",
    "    datetime,  \n",
    "    price,\n",
    "    ROW_NUMBER() OVER(PARTITION BY person_id ORDER BY datetime desc) AS row_number,\n",
    "    LEAD(price,1,0) OVER (PARTITION BY person_id ORDER BY  datetime desc ) AS prev_price,\n",
    "    LAG(price,1,0) OVER (PARTITION BY person_id ORDER BY  datetime desc ) AS p_price\n",
    "from person_check\n",
    "\n",
    "\"\"\")\n",
    "\n",
    "cursor.fetchall()"
   ]
  },
  {
   "cell_type": "code",
   "execution_count": null,
   "id": "9eca22b1",
   "metadata": {},
   "outputs": [],
   "source": [
    "#пронмуеруме записаи для каждо полльзователя\n",
    "cursor.execute(\"\"\"\n",
    "select person_id, \n",
    "    id,\n",
    "    datetime,  \n",
    "    price,\n",
    "    ROW_NUMBER() OVER(PARTITION BY person_id ORDER BY datetime desc) AS row_number,\n",
    "    LEAD(price,1,0) OVER (PARTITION BY person_id ORDER BY  datetime desc ) AS prev_price,\n",
    "    LAG(price,1,0) OVER (PARTITION BY person_id ORDER BY  datetime desc ) AS p_price\n",
    "from person_check\n",
    "\n",
    "order by price desc\n",
    "\"\"\")\n",
    "\n",
    "cursor.fetchall()"
   ]
  },
  {
   "cell_type": "code",
   "execution_count": null,
   "id": "10e0d0f7",
   "metadata": {},
   "outputs": [],
   "source": [
    "cursor.execute(\"\"\"\n",
    "insert into person_check(person_id, offer_id, datetime, final_sum, quantity, price, title) \n",
    "values(3, 1993, \"2022-12-18 19:58:00\", 100, 1, 100, \"xyz\")\n",
    "\"\"\")\n",
    "\n",
    "print(cursor.fetchall())\n"
   ]
  },
  {
   "cell_type": "code",
   "execution_count": null,
   "id": "d512d4d1",
   "metadata": {},
   "outputs": [],
   "source": [
    "cursor.execute(\"\"\"\n",
    "            WITH sales_numbered AS (\n",
    "                SELECT \n",
    "                    id, \n",
    "                    title,\n",
    "                    price_sale,  \n",
    "                    LEAD(price_sale,1,0) OVER (PARTITION BY title, url ORDER BY  title, id desc ) AS prev_price_sale,  \n",
    "                    price_sale - LEAD(price_sale,1,0) OVER (PARTITION BY title, url  ORDER BY title, id desc ) AS diff,\n",
    "                    ROW_NUMBER() OVER(PARTITION BY title, url ORDER BY id desc) AS row_number\n",
    "                FROM products_history\n",
    "                where datetime_create >= \"{d.date()}\"\n",
    "                ORDER BY id desc\n",
    "                LIMIT 1000000\n",
    "            )\n",
    "            SELECT \n",
    "                id, \n",
    "                title,\n",
    "                price_sale,  \n",
    "                prev_price_sale,\n",
    "                diff,\n",
    "                ROUND(diff / price_sale * 100) as per,\n",
    "                row_number\n",
    "            FROM sales_numbered\n",
    "            WHERE row_number = 1 and diff !=0 and diff != price_sale and (diff + prev_price_sale) != 0\n",
    "            Order by per;\n",
    "\n",
    "        \"\"\")"
   ]
  },
  {
   "cell_type": "code",
   "execution_count": null,
   "id": "82ca3a6a",
   "metadata": {},
   "outputs": [],
   "source": [
    "cursor.execute(\"\"\"\n",
    "SELECT \n",
    "    id, \n",
    "    title,\n",
    "    price_sale,  \n",
    "    LEAD(price_sale,1,0) OVER (PARTITION BY title, url ORDER BY  title, id desc ) AS prev_price_sale,  \n",
    "    price_sale - LEAD(price_sale,1,0) OVER (PARTITION BY title, url  ORDER BY title, id desc ) AS diff,\n",
    "    ROW_NUMBER() OVER(PARTITION BY title, url ORDER BY id desc) AS row_number\n",
    "FROM products_history\n",
    "where datetime_create >= \"2022-12-17\"\n",
    "ORDER BY id desc\n",
    "LIMIT 10     \n",
    "\"\"\")\n",
    "\n",
    "cursor.fetchall()\n"
   ]
  },
  {
   "cell_type": "code",
   "execution_count": null,
   "id": "123a1c2b",
   "metadata": {},
   "outputs": [],
   "source": []
  },
  {
   "cell_type": "code",
   "execution_count": null,
   "id": "8fdceb6d-7096-4b48-a5cd-1d0ca038c774",
   "metadata": {},
   "outputs": [],
   "source": [
    "# графики"
   ]
  },
  {
   "cell_type": "code",
   "execution_count": null,
   "id": "caacbe5a-3e01-46a7-a86e-92996962eb5b",
   "metadata": {},
   "outputs": [],
   "source": [
    "import matplotlib\n",
    "print(matplotlib.__version__)\n",
    "print(matplotlib.get_backend())\n",
    "\n",
    "\n",
    "import matplotlib.pyplot as plt"
   ]
  },
  {
   "cell_type": "code",
   "execution_count": null,
   "id": "18cf2654-cd78-4c05-a9b3-22e67bc0a3bf",
   "metadata": {},
   "outputs": [],
   "source": [
    "import matplotlib\n",
    "print(matplotlib.__version__)\n",
    "print(matplotlib.get_backend())\n",
    "\n",
    "import matplotlib.pyplot as plt\n",
    "plt.plot([0, 1, 2, 3], [0, 3, 1, 2])\n",
    "plt.show()\n"
   ]
  },
  {
   "cell_type": "code",
   "execution_count": null,
   "id": "02cbea83-3a93-49a0-aafa-cb0bfabcae0b",
   "metadata": {},
   "outputs": [],
   "source": [
    "plt.plot([0, 1, 2, 3], [2, 1, 3, 0])\n",
    "plt.show()"
   ]
  },
  {
   "cell_type": "code",
   "execution_count": null,
   "id": "049c8169-b557-44a7-8a8f-ff1ed94ae3ad",
   "metadata": {},
   "outputs": [],
   "source": [
    "import numpy as np\n",
    "x = np.linspace(0, 4 * np.pi, 100)\n",
    "\n",
    "print(x)\n",
    "\n",
    "plt.figure()\n",
    "plt.plot(x, np.sin(x))\n",
    "plt.show()"
   ]
  },
  {
   "cell_type": "code",
   "execution_count": null,
   "id": "e367ec26-8a54-4d05-b87f-b3e699125c99",
   "metadata": {},
   "outputs": [],
   "source": [
    "x = np.linspace(0, 4 * np.pi, 100)\n",
    "\n",
    "plt.figure()\n",
    "plt.plot(x, np.sin(x))\n",
    "plt.plot([0, 1, 2, 3], [2, 1, 3, 0])\n",
    "plt.show()"
   ]
  },
  {
   "cell_type": "code",
   "execution_count": null,
   "id": "67dc95ab-1b5c-49ad-847a-c3da8777566d",
   "metadata": {},
   "outputs": [],
   "source": [
    "x = np.linspace(0, 4 * np.pi, 100)\n",
    "\n",
    "plt.figure()\n",
    "plt.plot(x, np.sin(x), linewidth=2, color='b',  dashes=[8, 4], label=r'sin x')\n",
    "plt.plot([0, 1, 2, 3], [2, 1, 3, 0], linewidth=2, color='r', dashes=[8, 4, 2, 4], label=r'x')\n",
    "plt.legend(fontsize=20, loc=1)\n",
    "plt.show()"
   ]
  },
  {
   "cell_type": "code",
   "execution_count": null,
   "id": "eea08454-c2ea-4170-8f19-2a6dacccffac",
   "metadata": {},
   "outputs": [],
   "source": []
  },
  {
   "cell_type": "code",
   "execution_count": null,
   "id": "9aaf6ea2-d4b0-4fe7-ae70-dece6850d9fe",
   "metadata": {},
   "outputs": [],
   "source": [
    "# теперь попробуем соединить с нашими данными из бд"
   ]
  },
  {
   "cell_type": "code",
   "execution_count": null,
   "id": "bf7aec52-22b4-41c6-a411-0468fc29388b",
   "metadata": {},
   "outputs": [],
   "source": [
    "ls -la /tmp/sql_dump/db.sqlite3"
   ]
  },
  {
   "cell_type": "code",
   "execution_count": null,
   "id": "8bd3aa88",
   "metadata": {},
   "outputs": [],
   "source": [
    "ls -la /home/jupyter-amtsu/project/price_alert/db.sqlite3"
   ]
  },
  {
   "cell_type": "code",
   "execution_count": null,
   "id": "a7f3b7e1-d33a-449b-8341-9d3e19a3d62f",
   "metadata": {},
   "outputs": [],
   "source": [
    "mkdir /tmp/sql_dump"
   ]
  },
  {
   "cell_type": "code",
   "execution_count": null,
   "id": "37e5b655",
   "metadata": {},
   "outputs": [],
   "source": [
    "ls -la /tmp"
   ]
  },
  {
   "cell_type": "code",
   "execution_count": null,
   "id": "73ceed73",
   "metadata": {},
   "outputs": [],
   "source": [
    "!df -h"
   ]
  },
  {
   "cell_type": "code",
   "execution_count": null,
   "id": "9408b799",
   "metadata": {},
   "outputs": [],
   "source": [
    "!sudo rm -rf /tmp/sql_dump/db.sqlite3"
   ]
  },
  {
   "cell_type": "code",
   "execution_count": null,
   "id": "d2fb42ff-5190-4c41-8abc-b1db99f03776",
   "metadata": {},
   "outputs": [],
   "source": [
    "!sudo cp /home/jupyter-amtsu/project/price_alert/db.sqlite3 /tmp/sql_dump/db.sqlite3"
   ]
  },
  {
   "cell_type": "code",
   "execution_count": null,
   "id": "55ed18ca",
   "metadata": {},
   "outputs": [],
   "source": [
    "ls -la /tmp/sql_dump/db.sqlite3"
   ]
  },
  {
   "cell_type": "code",
   "execution_count": null,
   "id": "54777b4a",
   "metadata": {},
   "outputs": [],
   "source": [
    "ls -la /home/jupyter-amtsu/project/price_alert/db.sqlite3"
   ]
  },
  {
   "cell_type": "code",
   "execution_count": null,
   "id": "62a68036",
   "metadata": {},
   "outputs": [],
   "source": [
    "!df -h"
   ]
  },
  {
   "cell_type": "code",
   "execution_count": null,
   "id": "53b4203c",
   "metadata": {},
   "outputs": [],
   "source": [
    "ls -lah /tmp/sql_dump/db.sqlite3"
   ]
  },
  {
   "cell_type": "code",
   "execution_count": null,
   "id": "1bea9a93-68aa-4bea-adce-71ef3ae47fa2",
   "metadata": {},
   "outputs": [],
   "source": [
    "import sqlite3\n",
    "connection = sqlite3.connect('/tmp/sql_dump/db.sqlite3')\n",
    "cursor = connection.cursor()"
   ]
  },
  {
   "cell_type": "code",
   "execution_count": null,
   "id": "5f34a45f",
   "metadata": {},
   "outputs": [],
   "source": [
    "cursor.execute(\"\"\"select distinct(seller) from products_history\"\"\")\n",
    "cursor.fetchall()"
   ]
  },
  {
   "cell_type": "code",
   "execution_count": null,
   "id": "42d4dd22-a233-4c09-9e1f-6bef9d269104",
   "metadata": {},
   "outputs": [],
   "source": [
    "cursor.execute(\"\"\"\n",
    ".tables\n",
    "\"\"\")\n",
    "cursor.fetchall()"
   ]
  },
  {
   "cell_type": "code",
   "execution_count": null,
   "id": "e3ade2f4-3c53-49f4-881d-ad9999062c8b",
   "metadata": {},
   "outputs": [],
   "source": [
    "cursor.execute(\"\"\"\n",
    "select  price_sale, date(datetime_create)\n",
    "from products_history \n",
    "where price > 10000\n",
    "    and title like \"%куртка%\"\n",
    "order by  price asc\n",
    "limit 1000000\n",
    "\"\"\")\n",
    "\n",
    "x = []\n",
    "y = []\n",
    "for i in cursor.fetchall():\n",
    "    x.append(i[1])\n",
    "    y.append(i[0])"
   ]
  },
  {
   "cell_type": "code",
   "execution_count": null,
   "id": "883e91a3-6ffc-4f37-9ee6-2ef78f26e14e",
   "metadata": {},
   "outputs": [],
   "source": [
    "\n",
    "cursor.execute(\"\"\"\n",
    "select  distinct(title)\n",
    "from products_history \n",
    "where title like \"%Nutella%\"\n",
    "limit 1000000\n",
    "\"\"\")\n",
    "\n",
    "print(cursor.fetchall())"
   ]
  },
  {
   "cell_type": "code",
   "execution_count": null,
   "id": "514d83be-4184-456e-b3e0-dede6b6a5944",
   "metadata": {},
   "outputs": [],
   "source": [
    "\n",
    "cursor.execute(\"\"\"\n",
    "select  price_sale, date(datetime_create) as d, title\n",
    "from products_history \n",
    "where title like \"%utella%\"\n",
    "    and title like \"%350%\"\n",
    "    and title  like \"%околадная%\"\n",
    "order by  d asc, price_sale asc\n",
    "limit 1000000\n",
    "\"\"\")\n",
    "\n",
    "#print(cursor.fetchall())\n",
    "x = []\n",
    "y = []\n",
    "for i in cursor.fetchall():\n",
    "    print(i)\n",
    "    x.append(i[1])\n",
    "    y.append(i[0])"
   ]
  },
  {
   "cell_type": "code",
   "execution_count": null,
   "id": "6da7342b-966e-4550-8372-ebcb8f9c62ec",
   "metadata": {},
   "outputs": [],
   "source": [
    "plt.figure()\n",
    "#plt.plot([0, 1, 2, 3], [2, 1, 3, 0])\n",
    "plt.plot(x, y)\n",
    "plt.show()"
   ]
  },
  {
   "cell_type": "code",
   "execution_count": null,
   "id": "970e1d0f-8e6a-4fb0-bad0-1d3e158060f9",
   "metadata": {},
   "outputs": [],
   "source": [
    "\n",
    "cursor.execute(\"\"\"\n",
    "select  distinct(title)\n",
    "from products_history \n",
    "where title like \"%raffaello%\"\n",
    "limit 1000000\n",
    "\"\"\")\n",
    "\n",
    "print(cursor.fetchall())"
   ]
  },
  {
   "cell_type": "code",
   "execution_count": null,
   "id": "3704b0e1-8465-4a5a-b324-83d1b1f3415a",
   "metadata": {},
   "outputs": [],
   "source": [
    "\n",
    "cursor.execute(\"\"\"\n",
    "select  price_sale, date(datetime_create) as d, title\n",
    "from products_history \n",
    "where title like \"%raffaello%\"\n",
    "    and title like \"%240%\"\n",
    "order by  d asc, price_sale asc, title asc\n",
    "limit 1000000\n",
    "\"\"\")\n",
    "\n",
    "#print(cursor.fetchall())\n",
    "x = []\n",
    "y = []\n",
    "for i in cursor.fetchall():\n",
    "    #print(i)\n",
    "    x.append(i[1])\n",
    "    y.append(i[0])\n",
    "    \n",
    "    \n",
    "\n",
    "cursor.execute(\"\"\"\n",
    "select  price_sale, date(datetime_create) as d, title\n",
    "from products_history \n",
    "where title like \"%raffaello%\"\n",
    "    and title like \"%150%\"\n",
    "order by  d asc, price_sale asc, title asc\n",
    "limit 1000000\n",
    "\"\"\")\n",
    "\n",
    "#print(cursor.fetchall())\n",
    "x2 = []\n",
    "y2 = []\n",
    "for i in cursor.fetchall():\n",
    "    #print(i)\n",
    "    x2.append(i[1])\n",
    "    y2.append(i[0])\n",
    "    \n",
    "plt.figure()\n",
    "#plt.plot([0, 1, 2, 3], [2, 1, 3, 0])\n",
    "plt.plot(x, y, label=r'240')\n",
    "plt.plot(x2, y2, label=r'150')\n",
    "plt.legend(fontsize=20, loc=1)\n",
    "plt.show()"
   ]
  },
  {
   "cell_type": "code",
   "execution_count": null,
   "id": "db81fc7e",
   "metadata": {},
   "outputs": [],
   "source": [
    "ls -la "
   ]
  },
  {
   "cell_type": "code",
   "execution_count": null,
   "id": "e4f68985",
   "metadata": {},
   "outputs": [],
   "source": [
    "import sqlite3\n",
    "#connection = sqlite3.connect('/home/jupyter-amtsu/project/price_alert/db.sqlite3')\n",
    "connection = sqlite3.connect('/tmp/sql_dump/db.sqlite3')\n",
    "cursor = connection.cursor()"
   ]
  },
  {
   "cell_type": "code",
   "execution_count": null,
   "id": "162b286a",
   "metadata": {},
   "outputs": [],
   "source": [
    "\n",
    "\n",
    "cursor.execute(\"\"\"\n",
    "select \n",
    "datetime_create, count(1)\n",
    "\n",
    "from products_history\n",
    "where url like \"%level.ru%\"\n",
    "    and datetime_create >  \"2022-12-07 00:05\" and  datetime_create <  \"2022-12-08\"\n",
    "--group by date(datetime_create)\n",
    "limit 100\n",
    "\"\"\")\n",
    "\n",
    "print(cursor.fetchall())"
   ]
  },
  {
   "cell_type": "code",
   "execution_count": null,
   "id": "24d233af",
   "metadata": {},
   "outputs": [],
   "source": []
  },
  {
   "cell_type": "code",
   "execution_count": null,
   "id": "a1dc2600",
   "metadata": {},
   "outputs": [],
   "source": []
  },
  {
   "cell_type": "code",
   "execution_count": null,
   "id": "a3945fc4",
   "metadata": {},
   "outputs": [],
   "source": [
    "# удалил лишние данные\n",
    "\n",
    "cursor.execute(\"\"\"\n",
    "delete\n",
    "from products_history \n",
    "where url like \"%level.ru%\"\n",
    "    and datetime_create >  \"2022-12-07 05:05\" and  datetime_create <  \"2022-12-08\"\n",
    "\"\"\")\n",
    "\n",
    "print(cursor.fetchall())"
   ]
  },
  {
   "cell_type": "code",
   "execution_count": null,
   "id": "f0869011-79ca-4a8e-b6dd-16413fbba76d",
   "metadata": {},
   "outputs": [],
   "source": [
    "# график количества доступных предложений на рынке\n",
    "\n",
    "cursor.execute(\"\"\"\n",
    "select \n",
    "strftime('%m%d', (datetime_create)), count(1)\n",
    "\n",
    "from products_history \n",
    "where url like \"%level.ru%\"\n",
    "    \n",
    "group by date(datetime_create)\n",
    "limit 1000\n",
    "\"\"\")\n",
    "\n",
    "x2 = []\n",
    "y2 = []\n",
    "for i in cursor.fetchall():\n",
    "    #print(i)\n",
    "    x2.append(i[0])\n",
    "    y2.append(i[1])\n",
    "    \n",
    "plt.figure()\n",
    "plt.plot(x2, y2)#, label=r'150')\n",
    "plt.legend(fontsize=10, loc=1)\n",
    "plt.show()\n",
    "\n",
    "#print(cursor.fetchall())"
   ]
  },
  {
   "cell_type": "code",
   "execution_count": null,
   "id": "4d89d701",
   "metadata": {},
   "outputs": [],
   "source": [
    "# график количества доступных предложений на рынке\n",
    "\n",
    "cursor.execute(\"\"\"\n",
    "select \n",
    "strftime('%m%d', (datetime_create)), count(1)\n",
    "\n",
    "from products_history \n",
    "where url like \"%level.ru%\"\n",
    "    \n",
    "group by date(datetime_create)\n",
    "limit 1000\n",
    "\"\"\")\n",
    "\n",
    "x2 = []\n",
    "y2 = []\n",
    "for i in cursor.fetchall():\n",
    "    #print(i)\n",
    "    x2.append(i[0])\n",
    "    y2.append(i[1])\n",
    "    \n",
    "plt.figure()\n",
    "plt.plot(x2, y2)#, label=r'150')\n",
    "plt.legend(fontsize=10, loc=1)\n",
    "plt.show()\n",
    "\n",
    "#print(cursor.fetchall())"
   ]
  },
  {
   "cell_type": "markdown",
   "id": "ea5ae495",
   "metadata": {},
   "source": [
    "# Пробую добавить экспоциию"
   ]
  },
  {
   "cell_type": "code",
   "execution_count": null,
   "id": "4977f622",
   "metadata": {},
   "outputs": [],
   "source": [
    "import sqlite3\n",
    "connection = sqlite3.connect('/tmp/sql_dump/db.sqlite3')\n",
    "cursor = connection.cursor()\n"
   ]
  },
  {
   "cell_type": "code",
   "execution_count": null,
   "id": "f42e6084",
   "metadata": {},
   "outputs": [],
   "source": [
    "cursor.execute(\"\"\"\n",
    "SELECT \n",
    "    id, \n",
    "    title,\n",
    "    apartment_area,\n",
    "    price_sale, \n",
    "    \n",
    "    LEAD(price_sale,1,0) OVER (PARTITION BY title, url ORDER BY  title, id desc ) AS prev_price_sale,  \n",
    "    price_sale - LEAD(price_sale,1,0) OVER (PARTITION BY title, url  ORDER BY title, id desc ) AS diff,\n",
    "    ROW_NUMBER() OVER(PARTITION BY title, url ORDER BY id desc) AS row_number\n",
    "FROM products_history\n",
    "where datetime_create >= \"2022-12-17\"\n",
    "    and url like \"%level.ru%\"\n",
    "    and title like \"%Нагатинская%\"\n",
    "    and apartment_floor = 13\n",
    "    and apartment_room = 1\n",
    "    and apartment_area = '30.5'\n",
    "ORDER BY id desc\n",
    "LIMIT 300     \n",
    "\"\"\")\n",
    "\n",
    "cursor.fetchall()"
   ]
  },
  {
   "cell_type": "code",
   "execution_count": null,
   "id": "8539df44",
   "metadata": {},
   "outputs": [],
   "source": [
    "cursor.execute(\"\"\"\n",
    "WITH sales_numbered AS (\n",
    "SELECT \n",
    "    id, \n",
    "    title,\n",
    "    price_sale,\n",
    "    --LEAD(price_sale,1,0) OVER (PARTITION BY title, url, apartment_floor, apartment_room, apartment_area ORDER BY  title, id desc ) AS prev_price_sale,  \n",
    "    apartment_area,\n",
    "    \"2022-12-17\" as date_start_import,\n",
    "    MIN(datetime_create) OVER (PARTITION BY title, url ) as datetime_create_min,\n",
    "    MAX(datetime_create) OVER (PARTITION BY title, url ) as datetime_create_max,\n",
    "    julianday(date(MAX(datetime_create) OVER (PARTITION BY title, url ))) - julianday(date(MIN(datetime_create) OVER (PARTITION BY title, url ))) as days_of_exposure,\n",
    "    \n",
    "    MIN(price_sale) OVER (PARTITION BY title, url ORDER BY title, id desc ROWS BETWEEN CURRENT ROW AND 6 FOLLOWING) as d7_min,\n",
    "    AVG(price_sale) OVER (PARTITION BY title, url ORDER BY title, id desc ROWS BETWEEN CURRENT ROW AND 6 FOLLOWING) as d7_avg,\n",
    "    MAX(price_sale) OVER (PARTITION BY title, url ORDER BY title, id desc ROWS BETWEEN CURRENT ROW AND 6 FOLLOWING) as d7_max,\n",
    "    \n",
    "    MIN(price_sale) OVER (PARTITION BY title, url ORDER BY title, id desc ROWS BETWEEN CURRENT ROW AND 29 FOLLOWING) as d30_min,\n",
    "    AVG(price_sale) OVER (PARTITION BY title, url ORDER BY title, id desc ROWS BETWEEN CURRENT ROW AND 29 FOLLOWING) as d30_avg,\n",
    "    MAX(price_sale) OVER (PARTITION BY title, url ORDER BY title, id desc ROWS BETWEEN CURRENT ROW AND 29 FOLLOWING) as d30_max,\n",
    "\n",
    "    MIN(price_sale) OVER (PARTITION BY title, url ORDER BY title, id desc ROWS BETWEEN CURRENT ROW AND 89 FOLLOWING) as d90_min,\n",
    "    AVG(price_sale) OVER (PARTITION BY title, url ORDER BY title, id desc ROWS BETWEEN CURRENT ROW AND 89 FOLLOWING) as d90_avg,\n",
    "    MAX(price_sale) OVER (PARTITION BY title, url ORDER BY title, id desc ROWS BETWEEN CURRENT ROW AND 89 FOLLOWING) as d90_max,\n",
    "\n",
    "    MIN(price_sale) OVER (PARTITION BY title, url ORDER BY title, id desc ROWS BETWEEN CURRENT ROW AND 364 FOLLOWING) as d365_min,\n",
    "    AVG(price_sale) OVER (PARTITION BY title, url ORDER BY title, id desc ROWS BETWEEN CURRENT ROW AND 364 FOLLOWING) as d365_avg,\n",
    "    MAX(price_sale) OVER (PARTITION BY title, url ORDER BY title, id desc ROWS BETWEEN CURRENT ROW AND 364 FOLLOWING) as d365_max,\n",
    "    \n",
    "    MIN(price_sale) OVER (PARTITION BY title, url ) as all_min,\n",
    "    AVG(price_sale) OVER (PARTITION BY title, url ) as all_avg,\n",
    "    MAX(price_sale) OVER (PARTITION BY title, url ) as all_max,\n",
    "\n",
    "    price_sale - LEAD(price_sale,1,0) OVER (PARTITION BY title, url  ORDER BY title, id desc ) AS diff,\n",
    "    ROW_NUMBER() OVER(PARTITION BY title, url ORDER BY id desc) AS row_number\n",
    "FROM products_history\n",
    "where datetime_create >= \"2022-01-17\"\n",
    "    and url like \"%level.ru%\"\n",
    "    and title like \"%Нагатинская%\"\n",
    "    --and apartment_floor = 13\n",
    "    --and apartment_room = 1\n",
    "    --and apartment_area = '30.5'\n",
    "ORDER BY id desc\n",
    "LIMIT 300     \n",
    ")\n",
    "SELECT \n",
    "\n",
    "    id, \n",
    "    title,\n",
    "    price_sale,\n",
    "    apartment_area,\n",
    "    date_start_import,\n",
    "    datetime_create_min,\n",
    "    datetime_create_max,\n",
    "    --date(datetime_create_max),\n",
    "    --datetime(datetime_create_max),\n",
    "    --julianday(date(datetime_create_max)) - julianday(date(datetime_create_min)) as days_of_exposure,\n",
    "    days_of_exposure,\n",
    "    CASE\n",
    "        WHEN days_of_exposure < 7 \n",
    "            THEN '1'\n",
    "    END AS d7_sale,\n",
    "    CASE\n",
    "        WHEN days_of_exposure >= 7 and days_of_exposure < 40 \n",
    "            THEN '1'\n",
    "    END AS d30_sale,\n",
    "    CASE\n",
    "        WHEN days_of_exposure >= 40 and days_of_exposure < 110 \n",
    "            THEN '1'\n",
    "    END AS d90_sale,\n",
    "    CASE\n",
    "        WHEN days_of_exposure >= 110 and days_of_exposure < 400 \n",
    "            THEN '1'\n",
    "    END AS d365_sale,\n",
    "\n",
    "    d7_min,\n",
    "    d7_avg,\n",
    "    d7_max,\n",
    "\n",
    "    d30_min,\n",
    "    d30_avg,\n",
    "    d30_max,\n",
    "\n",
    "    d90_min,\n",
    "    d90_avg,\n",
    "    d90_max,\n",
    "\n",
    "    d365_min,\n",
    "    d365_avg,\n",
    "    d365_max,\n",
    "\n",
    "    all_min,\n",
    "    all_avg,\n",
    "    all_max,\n",
    "\n",
    "    row_number\n",
    "FROM sales_numbered\n",
    "WHERE row_number = 1\n",
    "Order by days_of_exposure;\n",
    "\n",
    "\"\"\")\n",
    "\n",
    "cursor.fetchall()"
   ]
  },
  {
   "cell_type": "code",
   "execution_count": null,
   "id": "77c031fa",
   "metadata": {},
   "outputs": [],
   "source": []
  },
  {
   "cell_type": "code",
   "execution_count": null,
   "id": "23dd0f91",
   "metadata": {},
   "outputs": [],
   "source": []
  },
  {
   "cell_type": "code",
   "execution_count": null,
   "id": "f48e0f50-7de2-45a9-95ef-2839122a0ef7",
   "metadata": {},
   "outputs": [],
   "source": [
    "!df -h"
   ]
  },
  {
   "cell_type": "code",
   "execution_count": null,
   "id": "cc2ecab3-490e-4d6f-9418-6c120e4a3e94",
   "metadata": {},
   "outputs": [],
   "source": []
  },
  {
   "cell_type": "code",
   "execution_count": null,
   "id": "74f7c30f",
   "metadata": {},
   "outputs": [],
   "source": [
    "#connection.commit()"
   ]
  },
  {
   "cell_type": "code",
   "execution_count": null,
   "id": "47ee7eb2-c840-4e0c-b8a6-458b55445734",
   "metadata": {},
   "outputs": [],
   "source": [
    "#connection.close()"
   ]
  },
  {
   "cell_type": "code",
   "execution_count": null,
   "id": "b880d304-b153-49ee-9ff2-bbcea2316d69",
   "metadata": {},
   "outputs": [],
   "source": [
    "#нужен графки сколько новых обетов появилос + сколько страрых обектов ушло"
   ]
  },
  {
   "cell_type": "code",
   "execution_count": null,
   "id": "bcb35eff",
   "metadata": {},
   "outputs": [],
   "source": [
    "#почиать ли обекты которые имебт большге чем одно окно "
   ]
  },
  {
   "cell_type": "code",
   "execution_count": null,
   "id": "d0354cf5",
   "metadata": {},
   "outputs": [],
   "source": [
    "import sqlite3\n",
    "#connection = sqlite3.connect('/home/jupyter-amtsu/project/price_alert/db.sqlite3')\n",
    "connection = sqlite3.connect('/tmp/sql_dump/db.sqlite3')\n",
    "cursor = connection.cursor()"
   ]
  },
  {
   "cell_type": "code",
   "execution_count": null,
   "id": "75417af9",
   "metadata": {},
   "outputs": [],
   "source": [
    "import matplotlib\n",
    "print(matplotlib.__version__)\n",
    "print(matplotlib.get_backend())\n",
    "\n",
    "import matplotlib.pyplot as plt"
   ]
  },
  {
   "cell_type": "code",
   "execution_count": null,
   "id": "e7d065dd",
   "metadata": {},
   "outputs": [],
   "source": [
    "# посмотреть как менялось цена на разные отпарвиатиели\n",
    "\n",
    "cursor.execute(\"\"\"\n",
    "select \n",
    "title, url, price_sale, strftime('%m %d', (datetime_create))\n",
    "\n",
    "from products_history \n",
    "where (title like \"%отпари%\"\n",
    "    or category like \"%отпари%\"\n",
    "    or description like \"%отпари%\"\n",
    "    )\n",
    "    and price_sale != 0\n",
    "    \n",
    "order by datetime_create asc\n",
    "limit 10000\n",
    "\"\"\")\n",
    "\n",
    "plt.figure()\n",
    "\n",
    "x = {}\n",
    "y = {}\n",
    "z = {}\n",
    "for i in cursor.fetchall():\n",
    "    \n",
    "    if not x.get(i[0]):\n",
    "        x[i[0]] = []\n",
    "    if not y.get(i[0]):\n",
    "        y[i[0]] = []\n",
    "    if not z.get(i[0]):\n",
    "        z[i[0]] = set()        \n",
    "\n",
    "    x[i[0]].append(i[2])\n",
    "    y[i[0]].append(i[3])\n",
    "    z[i[0]].add(i[0][:30])\n",
    "      \n",
    "#print(x)        \n",
    "for k in x:\n",
    "    \n",
    "    x2 = x[k]\n",
    "    y2 = y[k]    \n",
    "    #print(k)\n",
    "    #print(x2)\n",
    "    #print(y2)\n",
    "    plt.plot(y2, x2, label=z[k]) #, label=r'150')\n",
    "    \n",
    "plt.legend(fontsize=5, loc=2)\n",
    "plt.show()\n",
    "\n",
    "\n",
    "#print(cursor.fetchall())"
   ]
  },
  {
   "cell_type": "code",
   "execution_count": null,
   "id": "bfa10182",
   "metadata": {},
   "outputs": [],
   "source": [
    "# посмотреть как менялось цена на разные отпарвиатиели\n",
    "\n",
    "cursor.execute(\"\"\"\n",
    "select \n",
    "title, url, price_sale, strftime('%m %d', (datetime_create))\n",
    "\n",
    "from products_history \n",
    "where (title like \"%utell%\"\n",
    "    or category like \"%utell%\"\n",
    "    or description like \"%utell%\"\n",
    "    )\n",
    "    and price_sale != 0\n",
    "    \n",
    "order by datetime_create asc\n",
    "limit 10000\n",
    "\"\"\")\n",
    "\n",
    "plt.figure()\n",
    "\n",
    "x = {}\n",
    "y = {}\n",
    "z = {}\n",
    "for i in cursor.fetchall():\n",
    "    \n",
    "    if not x.get(i[0]):\n",
    "        x[i[0]] = []\n",
    "    if not y.get(i[0]):\n",
    "        y[i[0]] = []\n",
    "    if not z.get(i[0]):\n",
    "        z[i[0]] = set()        \n",
    "\n",
    "    x[i[0]].append(i[2])\n",
    "    y[i[0]].append(i[3])\n",
    "    z[i[0]].add(i[0][:30])\n",
    "      \n",
    "#print(x)        \n",
    "for k in x:\n",
    "    \n",
    "    x2 = x[k]\n",
    "    y2 = y[k]    \n",
    "    #print(k)\n",
    "    #print(x2)\n",
    "    #print(y2)\n",
    "    plt.plot(y2, x2, label=z[k]) #, label=r'150')\n",
    "    \n",
    "plt.legend(fontsize=5, loc=2)\n",
    "plt.show()\n",
    "\n",
    "\n",
    "#print(cursor.fetchall())"
   ]
  },
  {
   "cell_type": "code",
   "execution_count": null,
   "id": "ed1ad07e",
   "metadata": {},
   "outputs": [],
   "source": [
    "# посмотреть как менялось цена на разные отпарвиатиели\n",
    "\n",
    "cursor.execute(\"\"\"\n",
    "select \n",
    "title, url, price_sale, strftime('%m %d', (datetime_create))\n",
    "\n",
    "from products_history \n",
    "where (title like \"%snickers%\"\n",
    "    or category like \"%snickers%\"\n",
    "    or description like \"%snickers%\"\n",
    "    )\n",
    "    and price_sale != 0\n",
    "    \n",
    "order by datetime_create asc\n",
    "limit 10000\n",
    "\"\"\")\n",
    "\n",
    "plt.figure()\n",
    "\n",
    "x = {}\n",
    "y = {}\n",
    "z = {}\n",
    "for i in cursor.fetchall():\n",
    "    \n",
    "    if not x.get(i[0]):\n",
    "        x[i[0]] = []\n",
    "    if not y.get(i[0]):\n",
    "        y[i[0]] = []\n",
    "    if not z.get(i[0]):\n",
    "        z[i[0]] = set()        \n",
    "\n",
    "    x[i[0]].append(i[2])\n",
    "    y[i[0]].append(i[3])\n",
    "    z[i[0]].add(i[0][:30])\n",
    "      \n",
    "#print(x)        \n",
    "for k in x:\n",
    "    \n",
    "    x2 = x[k]\n",
    "    y2 = y[k]    \n",
    "    #print(k)\n",
    "    #print(x2)\n",
    "    #print(y2)\n",
    "    plt.plot(y2, x2, label=z[k]) #, label=r'150')\n",
    "    \n",
    "plt.legend(fontsize=5, loc=2)\n",
    "plt.show()\n",
    "\n",
    "\n",
    "#print(cursor.fetchall())"
   ]
  },
  {
   "cell_type": "code",
   "execution_count": null,
   "id": "899af62b",
   "metadata": {},
   "outputs": [],
   "source": [
    "# посмотреть как менялось цена на разные отпарвиатиели\n",
    "\n",
    "cursor.execute(\"\"\"\n",
    "select \n",
    "title, url, price_sale, strftime('%m %d', (datetime_create))\n",
    "\n",
    "from products_history \n",
    "where (title like \"%Шпикачки АШАН Красная%\"\n",
    "    or category like \"%Шпикачки АШАН Красная%\"\n",
    "    or description like \"%Шпикачки АШАН Красная%\"\n",
    "    )\n",
    "    and price_sale != 0\n",
    "    \n",
    "order by datetime_create asc\n",
    "limit 10000\n",
    "\"\"\")\n",
    "\n",
    "plt.figure()\n",
    "\n",
    "x = {}\n",
    "y = {}\n",
    "z = {}\n",
    "for i in cursor.fetchall():\n",
    "    \n",
    "    if not x.get(i[0]):\n",
    "        x[i[0]] = []\n",
    "    if not y.get(i[0]):\n",
    "        y[i[0]] = []\n",
    "    if not z.get(i[0]):\n",
    "        z[i[0]] = set()        \n",
    "\n",
    "    x[i[0]].append(i[2])\n",
    "    y[i[0]].append(i[3])\n",
    "    z[i[0]].add(i[0][:30])\n",
    "      \n",
    "    #print(i)        \n",
    "for k in x:\n",
    "    \n",
    "    x2 = x[k]\n",
    "    y2 = y[k]    \n",
    "    #print(k)\n",
    "    #print(x2)\n",
    "    #print(y2)\n",
    "    plt.plot(y2, x2, label=z[k]) #, label=r'150')\n",
    "    \n",
    "plt.legend(fontsize=8, loc=2)\n",
    "plt.show()\n",
    "\n",
    "\n",
    "#print(cursor.fetchall())"
   ]
  },
  {
   "cell_type": "code",
   "execution_count": null,
   "id": "d3b28ed7",
   "metadata": {},
   "outputs": [],
   "source": [
    "#"
   ]
  },
  {
   "cell_type": "code",
   "execution_count": null,
   "id": "49862516",
   "metadata": {},
   "outputs": [],
   "source": [
    "# посмотреть как менялось цена на разные отпарвиатиели\n",
    "\n",
    "cursor.execute(\"\"\"\n",
    "select \n",
    "title, url, price_sale, strftime('%m %d', (datetime_create))\n",
    "\n",
    "from products_history \n",
    "where (title like \"%Кефир АШАН%\"\n",
    "    or category like \"%Кефир АШАН%\"\n",
    "    or description like \"%Кефир АШАН%\"\n",
    "    )\n",
    "    and price_sale != 0\n",
    "    \n",
    "order by datetime_create asc\n",
    "limit 10000\n",
    "\"\"\")\n",
    "\n",
    "plt.figure()\n",
    "\n",
    "x = {}\n",
    "y = {}\n",
    "z = {}\n",
    "for i in cursor.fetchall():\n",
    "    \n",
    "    if not x.get(i[0]):\n",
    "        x[i[0]] = []\n",
    "    if not y.get(i[0]):\n",
    "        y[i[0]] = []\n",
    "    if not z.get(i[0]):\n",
    "        z[i[0]] = set()        \n",
    "\n",
    "    x[i[0]].append(i[2])\n",
    "    y[i[0]].append(i[3])\n",
    "    z[i[0]].add(i[0][:40])\n",
    "      \n",
    "    #print(i)        \n",
    "for k in x:\n",
    "    \n",
    "    x2 = x[k]\n",
    "    y2 = y[k]    \n",
    "    #print(k)\n",
    "    #print(x2)\n",
    "    #print(y2)\n",
    "    plt.plot(y2, x2, label=z[k]) #, label=r'150')\n",
    "    \n",
    "plt.legend(fontsize=8, loc=2)\n",
    "plt.show()\n",
    "\n",
    "\n",
    "#print(cursor.fetchall())"
   ]
  },
  {
   "cell_type": "code",
   "execution_count": null,
   "id": "2e7b1630",
   "metadata": {},
   "outputs": [],
   "source": []
  },
  {
   "cell_type": "code",
   "execution_count": null,
   "id": "d4e3ec83",
   "metadata": {},
   "outputs": [],
   "source": [
    "# посмотреть как менялось цена на разные отпарвиатиели\n",
    "\n",
    "cursor.execute(\"\"\"\n",
    "select \n",
    "title, url, price_sale, strftime('%m %d', (datetime_create))\n",
    "\n",
    "from products_history \n",
    "where (title like \"%Маракуйя, 2 шт%\"\n",
    "    or category like \"%Маракуйя, 2 шт%\"\n",
    "    or description like \"%Маракуйя, 2 шт%\"\n",
    "    )\n",
    "    and price_sale != 0\n",
    "    \n",
    "order by datetime_create asc\n",
    "limit 10000\n",
    "\"\"\")\n",
    "\n",
    "plt.figure()\n",
    "\n",
    "x = {}\n",
    "y = {}\n",
    "z = {}\n",
    "for i in cursor.fetchall():\n",
    "    \n",
    "    if not x.get(i[0]):\n",
    "        x[i[0]] = []\n",
    "    if not y.get(i[0]):\n",
    "        y[i[0]] = []\n",
    "    if not z.get(i[0]):\n",
    "        z[i[0]] = set()        \n",
    "\n",
    "    x[i[0]].append(i[2])\n",
    "    y[i[0]].append(i[3])\n",
    "    z[i[0]].add(i[0][:40])\n",
    "      \n",
    "    #print(i)        \n",
    "for k in x:\n",
    "    \n",
    "    x2 = x[k]\n",
    "    y2 = y[k]    \n",
    "    #print(k)\n",
    "    #print(x2)\n",
    "    #print(y2)\n",
    "    plt.plot(y2, x2, label=z[k]) #, label=r'150')\n",
    "    \n",
    "plt.legend(fontsize=8, loc=2)\n",
    "plt.show()\n",
    "\n",
    "\n",
    "#print(cursor.fetchall())"
   ]
  },
  {
   "cell_type": "code",
   "execution_count": null,
   "id": "af441deb",
   "metadata": {},
   "outputs": [],
   "source": [
    "cursor.execute(\"\"\"\n",
    "select \n",
    "title, url, price_sale, strftime('%m %d', (datetime_create))\n",
    "\n",
    "from products_history \n",
    "where (title like \"%маракуйя 2%\"\n",
    "    or category like \"%маракуйя 2%\"\n",
    "    or description like \"%маракуйя 2%\"\n",
    "    )\n",
    "    and price_sale != 0\n",
    "    \n",
    "order by datetime_create asc\n",
    "limit 100000\n",
    "\"\"\")\n",
    "\n",
    "cursor.fetchall()"
   ]
  },
  {
   "cell_type": "code",
   "execution_count": null,
   "id": "9e584c16",
   "metadata": {},
   "outputs": [],
   "source": [
    "cursor.execute(\"\"\"\n",
    "select \n",
    "title, url, price_sale, strftime('%m %d', (datetime_create))\n",
    "\n",
    "from products_history \n",
    "where (title like \"%МАРАКУЙЯ\"\n",
    "    or category like \"%МАРАКУЙЯ%\"\n",
    "    or description like \"%МАРАКУЙЯ%\"\n",
    "    )\n",
    "    and price_sale != 0\n",
    "    \n",
    "order by datetime_create asc\n",
    "limit 100000\n",
    "\"\"\")\n",
    "\n",
    "cursor.fetchall()"
   ]
  },
  {
   "cell_type": "code",
   "execution_count": null,
   "id": "81276d93",
   "metadata": {},
   "outputs": [],
   "source": [
    "cursor.execute(\"\"\"\n",
    "select \n",
    "title, url, price_sale, strftime('%m %d', (datetime_create))\n",
    "\n",
    "from products_history \n",
    "where (title like \"%Маракуйя, 2 шт%\"\n",
    "    or category like \"%Маракуйя, 2 шт%\"\n",
    "    or description like \"%Маракуйя, 2 шт%\"\n",
    "    )\n",
    "    and price_sale != 0\n",
    "    \n",
    "order by datetime_create asc\n",
    "limit 100000\n",
    "\"\"\")\n",
    "\n",
    "cursor.fetchall()"
   ]
  },
  {
   "cell_type": "code",
   "execution_count": null,
   "id": "daa17b6c",
   "metadata": {},
   "outputs": [],
   "source": [
    "# посмотреть как менялось цена на разные отпарвиатиели\n",
    "\n",
    "cursor.execute(\"\"\"\n",
    "select \n",
    "title, url, price_sale, strftime('%m %d', (datetime_create))\n",
    "\n",
    "from products_history \n",
    "where (title like \"%Nutella%\"\n",
    "    or category like \"%Nutella%\"\n",
    "    or description like \"%Nutella%\"\n",
    "    )\n",
    "    and price_sale != 0\n",
    "    \n",
    "order by datetime_create asc\n",
    "limit 10000\n",
    "\"\"\")\n",
    "\n",
    "plt.figure()\n",
    "\n",
    "x = {}\n",
    "y = {}\n",
    "z = {}\n",
    "for i in cursor.fetchall():\n",
    "    \n",
    "    if not x.get(i[0]):\n",
    "        x[i[0]] = []\n",
    "    if not y.get(i[0]):\n",
    "        y[i[0]] = []\n",
    "    if not z.get(i[0]):\n",
    "        z[i[0]] = set()        \n",
    "\n",
    "    x[i[0]].append(i[2])\n",
    "    y[i[0]].append(i[3])\n",
    "    z[i[0]].add(i[0][:40])\n",
    "      \n",
    "    #print(i)        \n",
    "for k in x:\n",
    "    \n",
    "    x2 = x[k]\n",
    "    y2 = y[k]    \n",
    "    #print(k)\n",
    "    #print(x2)\n",
    "    #print(y2)\n",
    "    plt.plot(y2, x2, label=z[k]) #, label=r'150')\n",
    "    \n",
    "plt.legend(fontsize=8, loc=2)\n",
    "plt.show()\n",
    "\n",
    "\n",
    "#print(cursor.fetchall())"
   ]
  },
  {
   "cell_type": "code",
   "execution_count": null,
   "id": "54f5d5fc",
   "metadata": {},
   "outputs": [],
   "source": [
    "cursor.execute(\"\"\"\n",
    "select \n",
    "title, url, price_sale, strftime('%m %d', (datetime_create)), *\n",
    "\n",
    "from products_history \n",
    "where url = 'https://www.auchan.ru/product/marakuyya-2sht-1'\n",
    "    \n",
    "order by datetime_create asc\n",
    "limit 100000\n",
    "\"\"\")\n",
    "\n",
    "cursor.fetchall()"
   ]
  },
  {
   "cell_type": "code",
   "execution_count": null,
   "id": "3f4caf27",
   "metadata": {},
   "outputs": [],
   "source": []
  }
 ],
 "metadata": {
  "kernelspec": {
   "display_name": "Python 3 (ipykernel)",
   "language": "python",
   "name": "python3"
  },
  "language_info": {
   "codemirror_mode": {
    "name": "ipython",
    "version": 3
   },
   "file_extension": ".py",
   "mimetype": "text/x-python",
   "name": "python",
   "nbconvert_exporter": "python",
   "pygments_lexer": "ipython3",
   "version": "3.9.7"
  }
 },
 "nbformat": 4,
 "nbformat_minor": 5
}
