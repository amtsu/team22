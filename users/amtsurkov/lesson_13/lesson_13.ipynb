{
 "cells": [
  {
   "cell_type": "code",
   "execution_count": 1,
   "metadata": {},
   "outputs": [],
   "source": [
    "#ls -la ../lesson_12"
   ]
  },
  {
   "cell_type": "code",
   "execution_count": 2,
   "metadata": {},
   "outputs": [],
   "source": [
    "#cp ../lesson_12/delo.py delo.py"
   ]
  },
  {
   "cell_type": "code",
   "execution_count": 3,
   "metadata": {},
   "outputs": [],
   "source": [
    "#ls -la"
   ]
  },
  {
   "cell_type": "code",
   "execution_count": 4,
   "metadata": {},
   "outputs": [],
   "source": [
    "#cat delo.py"
   ]
  },
  {
   "cell_type": "code",
   "execution_count": 5,
   "metadata": {},
   "outputs": [],
   "source": [
    "# есть ли в списке дел повторющиеся дела ( если есть возращет True если нет то False)"
   ]
  },
  {
   "cell_type": "code",
   "execution_count": 6,
   "metadata": {},
   "outputs": [],
   "source": [
    "from delo import Delo"
   ]
  },
  {
   "cell_type": "code",
   "execution_count": 9,
   "metadata": {},
   "outputs": [],
   "source": [
    "object_delo_1 = Delo('feed cat', '19-10-2022', '21-10-2022')        \n",
    "object_delo_2 = Delo('go shop', '20-10-2022', '22-10-2022') \n",
    "object_delo_3 = Delo('drink', '11-10-2022', '11-10-2022') \n",
    "object_delo_4 = Delo('feed cat', '01-11-2022', '03-11-2022')"
   ]
  },
  {
   "cell_type": "code",
   "execution_count": 10,
   "metadata": {},
   "outputs": [],
   "source": [
    "list_del = [object_delo_1, object_delo_2, object_delo_3, object_delo_4]"
   ]
  },
  {
   "cell_type": "code",
   "execution_count": null,
   "metadata": {},
   "outputs": [],
   "source": []
  },
  {
   "cell_type": "code",
   "execution_count": 11,
   "metadata": {},
   "outputs": [
    {
     "name": "stdout",
     "output_type": "stream",
     "text": [
      "[feed cat=>19-10-2022=>21-10-2022, go shop=>20-10-2022=>22-10-2022, drink=>11-10-2022=>11-10-2022, feed cat=>01-11-2022=>03-11-2022]\n"
     ]
    }
   ],
   "source": [
    "print(list_del)"
   ]
  },
  {
   "cell_type": "code",
   "execution_count": null,
   "metadata": {},
   "outputs": [],
   "source": []
  },
  {
   "cell_type": "code",
   "execution_count": 12,
   "metadata": {},
   "outputs": [],
   "source": [
    "list_uniq_del = []\n",
    "for x in list_del:\n",
    "    if x not in list_uniq_del:\n",
    "        list_uniq_del.append(x)"
   ]
  },
  {
   "cell_type": "code",
   "execution_count": null,
   "metadata": {},
   "outputs": [],
   "source": [
    "# попытаемся разобрать ее подробнее\n",
    "#if x not in list_uniq_del:\n",
    "\n",
    "#x = feed cat=>19-10-2022=>21-10-2022\n",
    "#list_del = [feed cat=>19-10-2022=>21-10-2022, go shop=>20-10-2022=>22-10-2022, drink=>11-10-2022=>11-10-2022, feed cat=>01-11-2022=>03-11-2022]\n",
    "#list_uniq_del = [go shop=>20-10-2022=>22-10-2022,]\n",
    "#достаем из list_uniq_del первый обект go shop=>20-10-2022=>22-10-2022,\n",
    "#спавниваме обект Х  feed cat=>19-10-2022=>21-10-2022 с обктоим котрый go shop=>20-10-2022=>22-10-2022\n",
    "#если обекты равны то возраещем тру\n",
    "# и такое сравнеи длеаме для всех обектов в списке list_uniq_del\n",
    " \n",
    "if x == y:\n",
    "    pass\n",
    "\n",
    "if x.__eq__(y):\n",
    "    pass\n",
    "\n",
    "x.method(parametr)\n",
    "\n",
    "__eq__(self, object_2)"
   ]
  },
  {
   "cell_type": "code",
   "execution_count": null,
   "metadata": {},
   "outputs": [],
   "source": [
    "# отличие списков от множеств.\n",
    "#1.500.000\n",
    "# 500.000\n",
    "#в одном месте вместо set испольщовали list\n",
    "objects = set()\n",
    "append()\n",
    "add()\n",
    "\n",
    "[.......................]\n",
    "[1000101010101000010101]\n",
    "[1, 99, link_102]..................[2, 102,  link_X]...........[3, ***] \n",
    "[1, 99, link_102]..................[2, 102,  link_y]...........[3, ***]......[y, Y, link_X]\n",
    "\n",
    "[99, link_102][102,  link_X][***]\n",
    "\n",
    "3\n",
    "2.000.000.000\n",
    "10001010101000101010100010101011\n",
    "000000000000000000000000000000110000000000000000000000000000001100000000000000000000000000000010\n",
    "3,3,2\n",
    "32*(3-1) \n",
    "#if x in list_uniq_del:\n",
    "\n",
    "# set\n",
    "list_del - 4\n",
    "Хеш таблицы - 1000\n",
    "\n",
    "hash_chislo = hash ( feed cat=>19-10-2022=>21-10-2022 ) \n",
    "232149721498721\n",
    "\n",
    "\n",
    "#if x in set_uniq_del:\n",
    "chislo_x =  hash(x)\n",
    "\n",
    "chislo_x % 1000\n",
    "\n"
   ]
  },
  {
   "cell_type": "code",
   "execution_count": 27,
   "metadata": {},
   "outputs": [
    {
     "data": {
      "text/plain": [
       "721"
      ]
     },
     "execution_count": 27,
     "metadata": {},
     "output_type": "execute_result"
    }
   ],
   "source": [
    "232149721498721 % 1000"
   ]
  },
  {
   "cell_type": "code",
   "execution_count": 46,
   "metadata": {},
   "outputs": [],
   "source": [
    "dd = 'jon smiht'"
   ]
  },
  {
   "cell_type": "code",
   "execution_count": 37,
   "metadata": {},
   "outputs": [
    {
     "data": {
      "text/plain": [
       "<md5 HASH object @ 0x7fd2e4713990>"
      ]
     },
     "execution_count": 37,
     "metadata": {},
     "output_type": "execute_result"
    }
   ],
   "source": [
    "import hashlib\n",
    "\n",
    "m=hashlib.md5(dd)\n",
    "m"
   ]
  },
  {
   "cell_type": "code",
   "execution_count": 41,
   "metadata": {},
   "outputs": [
    {
     "name": "stdout",
     "output_type": "stream",
     "text": [
      "7a5627500050346c8e24aa62c61e2cad\n"
     ]
    }
   ],
   "source": [
    "print(m.hexdigest())"
   ]
  },
  {
   "cell_type": "code",
   "execution_count": 61,
   "metadata": {},
   "outputs": [
    {
     "data": {
      "text/plain": [
       "7L"
      ]
     },
     "execution_count": 61,
     "metadata": {},
     "output_type": "execute_result"
    }
   ],
   "source": [
    "int(hashlib.sha256('jon smiht asaaa').hexdigest(), 16) % 10"
   ]
  },
  {
   "cell_type": "code",
   "execution_count": 62,
   "metadata": {},
   "outputs": [
    {
     "data": {
      "text/plain": [
       "7L"
      ]
     },
     "execution_count": 62,
     "metadata": {},
     "output_type": "execute_result"
    }
   ],
   "source": [
    "int(hashlib.sha256('jon smiht').hexdigest(), 16) % 10"
   ]
  },
  {
   "cell_type": "code",
   "execution_count": 64,
   "metadata": {},
   "outputs": [
    {
     "data": {
      "text/plain": [
       "0L"
      ]
     },
     "execution_count": 64,
     "metadata": {},
     "output_type": "execute_result"
    }
   ],
   "source": [
    "int(hashlib.sha256('jon smiht adssaaa').hexdigest(), 16) % 10"
   ]
  },
  {
   "cell_type": "code",
   "execution_count": 65,
   "metadata": {},
   "outputs": [
    {
     "data": {
      "text/plain": [
       "7L"
      ]
     },
     "execution_count": 65,
     "metadata": {},
     "output_type": "execute_result"
    }
   ],
   "source": [
    "int(hashlib.sha256('jon smiht').hexdigest(), 16) % 20"
   ]
  },
  {
   "cell_type": "code",
   "execution_count": 66,
   "metadata": {},
   "outputs": [
    {
     "data": {
      "text/plain": [
       "10L"
      ]
     },
     "execution_count": 66,
     "metadata": {},
     "output_type": "execute_result"
    }
   ],
   "source": [
    "int(hashlib.sha256('jon smiht adssaaa').hexdigest(), 16) % 20"
   ]
  },
  {
   "cell_type": "code",
   "execution_count": 13,
   "metadata": {},
   "outputs": [
    {
     "data": {
      "text/plain": [
       "[feed cat=>19-10-2022=>21-10-2022,\n",
       " go shop=>20-10-2022=>22-10-2022,\n",
       " drink=>11-10-2022=>11-10-2022]"
      ]
     },
     "execution_count": 13,
     "metadata": {},
     "output_type": "execute_result"
    }
   ],
   "source": [
    "list_uniq_del"
   ]
  },
  {
   "cell_type": "code",
   "execution_count": 14,
   "metadata": {},
   "outputs": [],
   "source": [
    "object_delo_5 = Delo('feed cat', '01-11-2022', '03-11-2022') "
   ]
  },
  {
   "cell_type": "code",
   "execution_count": 15,
   "metadata": {},
   "outputs": [],
   "source": [
    "list_del.append(object_delo_5)"
   ]
  },
  {
   "cell_type": "code",
   "execution_count": 16,
   "metadata": {},
   "outputs": [
    {
     "data": {
      "text/plain": [
       "[feed cat=>19-10-2022=>21-10-2022,\n",
       " go shop=>20-10-2022=>22-10-2022,\n",
       " drink=>11-10-2022=>11-10-2022,\n",
       " feed cat=>01-11-2022=>03-11-2022,\n",
       " feed cat=>01-11-2022=>03-11-2022]"
      ]
     },
     "execution_count": 16,
     "metadata": {},
     "output_type": "execute_result"
    }
   ],
   "source": [
    "list_del"
   ]
  },
  {
   "cell_type": "code",
   "execution_count": 17,
   "metadata": {},
   "outputs": [],
   "source": [
    "list_uniq_del = []\n",
    "for x in list_del:\n",
    "    if x not in list_uniq_del:\n",
    "        list_uniq_del.append(x)"
   ]
  },
  {
   "cell_type": "code",
   "execution_count": 18,
   "metadata": {},
   "outputs": [
    {
     "data": {
      "text/plain": [
       "[feed cat=>19-10-2022=>21-10-2022,\n",
       " go shop=>20-10-2022=>22-10-2022,\n",
       " drink=>11-10-2022=>11-10-2022]"
      ]
     },
     "execution_count": 18,
     "metadata": {},
     "output_type": "execute_result"
    }
   ],
   "source": [
    "list_uniq_del"
   ]
  },
  {
   "cell_type": "code",
   "execution_count": 19,
   "metadata": {},
   "outputs": [
    {
     "data": {
      "text/plain": [
       "140543752452360"
      ]
     },
     "execution_count": 19,
     "metadata": {},
     "output_type": "execute_result"
    }
   ],
   "source": [
    "id(list_uniq_del[1])"
   ]
  },
  {
   "cell_type": "code",
   "execution_count": 20,
   "metadata": {},
   "outputs": [
    {
     "data": {
      "text/plain": [
       "140543752570424"
      ]
     },
     "execution_count": 20,
     "metadata": {},
     "output_type": "execute_result"
    }
   ],
   "source": [
    "id(list_uniq_del[2])"
   ]
  },
  {
   "cell_type": "code",
   "execution_count": 21,
   "metadata": {},
   "outputs": [
    {
     "ename": "TypeError",
     "evalue": "unhashable instance",
     "output_type": "error",
     "traceback": [
      "\u001b[0;31m---------------------------------------------------------------------------\u001b[0m",
      "\u001b[0;31mTypeError\u001b[0m                                 Traceback (most recent call last)",
      "\u001b[0;32m<ipython-input-21-d0b5b22c3356>\u001b[0m in \u001b[0;36m<module>\u001b[0;34m()\u001b[0m\n\u001b[1;32m      1\u001b[0m \u001b[0mset_uniq_del\u001b[0m \u001b[0;34m=\u001b[0m \u001b[0mset\u001b[0m\u001b[0;34m(\u001b[0m\u001b[0;34m)\u001b[0m\u001b[0;34m\u001b[0m\u001b[0m\n\u001b[1;32m      2\u001b[0m \u001b[0;32mfor\u001b[0m \u001b[0mx\u001b[0m \u001b[0;32min\u001b[0m \u001b[0mlist_del\u001b[0m\u001b[0;34m:\u001b[0m\u001b[0;34m\u001b[0m\u001b[0m\n\u001b[0;32m----> 3\u001b[0;31m     \u001b[0;32mif\u001b[0m \u001b[0mx\u001b[0m \u001b[0;32mnot\u001b[0m \u001b[0;32min\u001b[0m \u001b[0mset_uniq_del\u001b[0m\u001b[0;34m:\u001b[0m\u001b[0;34m\u001b[0m\u001b[0m\n\u001b[0m\u001b[1;32m      4\u001b[0m         \u001b[0mset_uniq_del\u001b[0m\u001b[0;34m.\u001b[0m\u001b[0madd\u001b[0m\u001b[0;34m(\u001b[0m\u001b[0mx\u001b[0m\u001b[0;34m)\u001b[0m\u001b[0;34m\u001b[0m\u001b[0m\n",
      "\u001b[0;31mTypeError\u001b[0m: unhashable instance"
     ]
    }
   ],
   "source": [
    "set_uniq_del = set()\n",
    "for x in list_del:\n",
    "    if x not in set_uniq_del:\n",
    "        set_uniq_del.add(x)"
   ]
  },
  {
   "cell_type": "code",
   "execution_count": 22,
   "metadata": {},
   "outputs": [
    {
     "data": {
      "text/plain": [
       "set()"
      ]
     },
     "execution_count": 22,
     "metadata": {},
     "output_type": "execute_result"
    }
   ],
   "source": [
    "set_uniq_del"
   ]
  },
  {
   "cell_type": "code",
   "execution_count": null,
   "metadata": {},
   "outputs": [],
   "source": [
    "# мы сейчас не можем сравнивать дела между собой"
   ]
  },
  {
   "cell_type": "code",
   "execution_count": null,
   "metadata": {},
   "outputs": [],
   "source": [
    "1 == 1"
   ]
  },
  {
   "cell_type": "code",
   "execution_count": null,
   "metadata": {},
   "outputs": [],
   "source": [
    "1 == 2"
   ]
  },
  {
   "cell_type": "code",
   "execution_count": null,
   "metadata": {},
   "outputs": [],
   "source": [
    "'aaa' == 'aaa'"
   ]
  },
  {
   "cell_type": "code",
   "execution_count": null,
   "metadata": {},
   "outputs": [],
   "source": [
    "'aaa' == 'aad'"
   ]
  },
  {
   "cell_type": "code",
   "execution_count": null,
   "metadata": {},
   "outputs": [],
   "source": []
  }
 ],
 "metadata": {
  "kernelspec": {
   "display_name": "Python 2",
   "language": "python",
   "name": "python2"
  },
  "language_info": {
   "codemirror_mode": {
    "name": "ipython",
    "version": 2
   },
   "file_extension": ".py",
   "mimetype": "text/x-python",
   "name": "python",
   "nbconvert_exporter": "python",
   "pygments_lexer": "ipython2",
   "version": "2.7.12"
  }
 },
 "nbformat": 4,
 "nbformat_minor": 2
}
