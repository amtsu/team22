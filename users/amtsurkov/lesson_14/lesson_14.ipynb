{
 "cells": [
  {
   "cell_type": "code",
   "execution_count": 1,
   "metadata": {},
   "outputs": [],
   "source": [
    "from delo import Delo"
   ]
  },
  {
   "cell_type": "code",
   "execution_count": 2,
   "metadata": {},
   "outputs": [],
   "source": [
    "object_delo_1 = Delo('feed cat', '19-10-2022', '21-10-2022')        \n",
    "object_delo_2 = Delo('go shop', '20-10-2022', '22-10-2022') \n",
    "object_delo_3 = Delo('drink', '11-10-2022', '11-10-2022') \n",
    "object_delo_4 = Delo('feed cat', '01-11-2022', '03-11-2022')"
   ]
  },
  {
   "cell_type": "code",
   "execution_count": 3,
   "metadata": {},
   "outputs": [],
   "source": [
    "list_del = [object_delo_1, object_delo_2, object_delo_3, object_delo_4]"
   ]
  },
  {
   "cell_type": "code",
   "execution_count": 4,
   "metadata": {},
   "outputs": [
    {
     "name": "stdout",
     "output_type": "stream",
     "text": [
      "[feed cat=>19-10-2022=>21-10-2022, go shop=>20-10-2022=>22-10-2022, drink=>11-10-2022=>11-10-2022, feed cat=>01-11-2022=>03-11-2022]\n"
     ]
    }
   ],
   "source": [
    "print(list_del)"
   ]
  },
  {
   "cell_type": "code",
   "execution_count": 5,
   "metadata": {},
   "outputs": [],
   "source": [
    "# вертуть true если в списке еать не уникальные(повторяющиеся дела)"
   ]
  },
  {
   "cell_type": "code",
   "execution_count": 6,
   "metadata": {},
   "outputs": [],
   "source": [
    "list_uniq_del = []\n",
    "for x in list_del:\n",
    "    if x not in list_uniq_del:\n",
    "        list_uniq_del.append(x)"
   ]
  },
  {
   "cell_type": "code",
   "execution_count": 7,
   "metadata": {},
   "outputs": [],
   "source": [
    "# *** нальтернативный метод - вернуться в конце"
   ]
  },
  {
   "cell_type": "code",
   "execution_count": 8,
   "metadata": {},
   "outputs": [],
   "source": [
    "# перебиравть все дела"
   ]
  },
  {
   "cell_type": "code",
   "execution_count": 9,
   "metadata": {},
   "outputs": [
    {
     "name": "stdout",
     "output_type": "stream",
     "text": [
      "We has delo\n"
     ]
    }
   ],
   "source": [
    "# пытаемся упросить и понять для одгого дела будет оно уникальным или нет.\n",
    "delo_0 = list_uniq_del[0]\n",
    "\n",
    "if delo_0 in list_del:\n",
    "    print('We has delo')"
   ]
  },
  {
   "cell_type": "code",
   "execution_count": 10,
   "metadata": {},
   "outputs": [],
   "source": [
    "#Чтобы понять дублируется ли дело в списке. Нужно почитать сколько раз это дело в спискке находится."
   ]
  },
  {
   "cell_type": "code",
   "execution_count": 11,
   "metadata": {},
   "outputs": [
    {
     "data": {
      "text/plain": [
       "2"
      ]
     },
     "execution_count": 11,
     "metadata": {},
     "output_type": "execute_result"
    }
   ],
   "source": [
    "count_del = 0\n",
    "for delo_from_list in list_del:\n",
    "    if delo_0 == delo_from_list:\n",
    "        count_del = count_del + 1\n",
    "count_del"
   ]
  },
  {
   "cell_type": "code",
   "execution_count": 12,
   "metadata": {},
   "outputs": [
    {
     "name": "stdout",
     "output_type": "stream",
     "text": [
      "0\n",
      "start for\n",
      "  iterate\n",
      "  delo_0 == delo_from_list\n",
      "('  ', feed cat=>19-10-2022=>21-10-2022, True, feed cat=>19-10-2022=>21-10-2022)\n",
      "    !!! delo_0 == delo_from_list !!!\n",
      "('    count_del =', 0)\n",
      "('    count_del + 1 =', 1)\n",
      "  iterate\n",
      "  delo_0 == delo_from_list\n",
      "('  ', feed cat=>19-10-2022=>21-10-2022, False, go shop=>20-10-2022=>22-10-2022)\n",
      "  iterate\n",
      "  delo_0 == delo_from_list\n",
      "('  ', feed cat=>19-10-2022=>21-10-2022, False, drink=>11-10-2022=>11-10-2022)\n",
      "  iterate\n",
      "  delo_0 == delo_from_list\n",
      "('  ', feed cat=>19-10-2022=>21-10-2022, True, feed cat=>01-11-2022=>03-11-2022)\n",
      "    !!! delo_0 == delo_from_list !!!\n",
      "('    count_del =', 1)\n",
      "('    count_del + 1 =', 2)\n",
      "finish for\n",
      "('count_del =', 2)\n"
     ]
    }
   ],
   "source": [
    "count_del = 0\n",
    "print(count_del)\n",
    "print('start for')\n",
    "for delo_from_list in list_del:\n",
    "    print('  iterate')\n",
    "    print('  delo_0 == delo_from_list')\n",
    "    print('  ', delo_0, delo_0 == delo_from_list, delo_from_list)\n",
    "    if delo_0 == delo_from_list:\n",
    "        print('    !!! delo_0 == delo_from_list !!!')\n",
    "        print('    count_del =', count_del)\n",
    "        count_del = count_del + 1\n",
    "        print('    count_del + 1 =', count_del)\n",
    "        #count_del += 1\n",
    "print('finish for')\n",
    "print('count_del =', count_del)"
   ]
  },
  {
   "cell_type": "code",
   "execution_count": 13,
   "metadata": {},
   "outputs": [
    {
     "data": {
      "text/plain": [
       "2"
      ]
     },
     "execution_count": 13,
     "metadata": {},
     "output_type": "execute_result"
    }
   ],
   "source": [
    "count_del"
   ]
  },
  {
   "cell_type": "code",
   "execution_count": 14,
   "metadata": {},
   "outputs": [
    {
     "name": "stdout",
     "output_type": "stream",
     "text": [
      "(feed cat=>19-10-2022=>21-10-2022, 2)\n",
      "True\n",
      "(go shop=>20-10-2022=>22-10-2022, 1)\n",
      "(drink=>11-10-2022=>11-10-2022, 1)\n"
     ]
    }
   ],
   "source": [
    "for delo_uniq in list_uniq_del:\n",
    "    count_del = 0\n",
    "    for delo_from_list in list_del:\n",
    "        if delo_uniq == delo_from_list:\n",
    "            count_del = count_del + 1\n",
    "    print(delo_uniq, count_del)\n",
    "    if count_del > 1:\n",
    "        print('True')"
   ]
  },
  {
   "cell_type": "code",
   "execution_count": 15,
   "metadata": {},
   "outputs": [],
   "source": [
    "def has_list_duplicate_dela(list_uniq_del, list_del):\n",
    "    for delo_uniq in list_uniq_del:\n",
    "        count_del = 0\n",
    "        for delo_from_list in list_del:\n",
    "            if delo_uniq == delo_from_list:\n",
    "                count_del = count_del + 1\n",
    "        #print(delo_uniq, count_del)\n",
    "        if count_del > 1:\n",
    "            return True\n",
    "        return False"
   ]
  },
  {
   "cell_type": "code",
   "execution_count": 16,
   "metadata": {},
   "outputs": [],
   "source": [
    "res = has_list_duplicate_dela(list_uniq_del, list_del)"
   ]
  },
  {
   "cell_type": "code",
   "execution_count": 17,
   "metadata": {},
   "outputs": [
    {
     "data": {
      "text/plain": [
       "True"
      ]
     },
     "execution_count": 17,
     "metadata": {},
     "output_type": "execute_result"
    }
   ],
   "source": [
    "res"
   ]
  },
  {
   "cell_type": "code",
   "execution_count": 18,
   "metadata": {},
   "outputs": [],
   "source": [
    "class SpisokDela():\n",
    "    \"\"\"\n",
    "    Прееделать с сипольщованием списков\n",
    "    \"\"\"\n",
    "    \n",
    "    def append(self, element): # add -\n",
    "        self.__list.append(element)\n",
    "        \n",
    "#    def v1_has_list_duplicate_dela(self):\n",
    "#        #print(__list)\n",
    "#        for delo_uniq in self.__uniq_list_del():\n",
    "#            count_del = 0\n",
    "#            for delo_from_list in self.__list:\n",
    "#                if delo_uniq == delo_from_list:\n",
    "#                    count_del = count_del + 1\n",
    "#            #print(delo_uniq, count_del)\n",
    "#            if count_del > 1:\n",
    "#                return True\n",
    "#            return False\n",
    "#        \n",
    "#    def has_list_duplicate_dela(self):\n",
    "#        for delo in self.__list:\n",
    "#            if self.__list.count(delo) > 1:\n",
    "#                return True\n",
    "#        return False\n",
    "#    \n",
    "#    def v3_has_list_duplicate_dela(self):\n",
    "#        return len(self.__list) != len(self.__uniq_list_del())\n",
    "\n",
    "    def has_list_duplicate_dela(self):\n",
    "        \"\"\"\n",
    "        if length not eq then list has duplicate\n",
    "        \"\"\"\n",
    "        return len(set(self.__list)) != len(self.__list)\n",
    "\n",
    "    def __init__(self, spisok):\n",
    "        self.__list = spisok   \n",
    "        #print(__list)\n",
    "        \n",
    "    def __uniq_list_del(self):\n",
    "        list_uniq_del = []\n",
    "        for x in self.__list:\n",
    "            if x not in list_uniq_del:\n",
    "                list_uniq_del.append(x)\n",
    "        return list_uniq_del\n",
    "    \n",
    "    def __str__(self):\n",
    "        r = ''\n",
    "        for d in self.__list:\n",
    "            r = r + str(d) + '__|__'\n",
    "        return r"
   ]
  },
  {
   "cell_type": "code",
   "execution_count": 19,
   "metadata": {},
   "outputs": [],
   "source": [
    "sp_dl = SpisokDela(list_del)"
   ]
  },
  {
   "cell_type": "code",
   "execution_count": 20,
   "metadata": {},
   "outputs": [],
   "source": [
    "#sp_dl = SpisokDela([object_delo_1, object_delo_2, object_delo_3, object_delo_4])"
   ]
  },
  {
   "cell_type": "code",
   "execution_count": 21,
   "metadata": {},
   "outputs": [
    {
     "data": {
      "text/plain": [
       "True"
      ]
     },
     "execution_count": 21,
     "metadata": {},
     "output_type": "execute_result"
    }
   ],
   "source": [
    "sp_dl.has_list_duplicate_dela()"
   ]
  },
  {
   "cell_type": "code",
   "execution_count": 22,
   "metadata": {},
   "outputs": [],
   "source": [
    "sp_dl.append(Delo('feed dog', '19-12-2022', '21-12-2022'))"
   ]
  },
  {
   "cell_type": "code",
   "execution_count": 23,
   "metadata": {},
   "outputs": [],
   "source": [
    "# так нельзя append(sp_dl, Delo('feed dog', '19-12-2022', '21-12-2022'))"
   ]
  },
  {
   "cell_type": "code",
   "execution_count": 24,
   "metadata": {},
   "outputs": [
    {
     "name": "stdout",
     "output_type": "stream",
     "text": [
      "feed cat=>19-10-2022=>21-10-2022__|__go shop=>20-10-2022=>22-10-2022__|__drink=>11-10-2022=>11-10-2022__|__feed cat=>01-11-2022=>03-11-2022__|__feed dog=>19-12-2022=>21-12-2022__|__\n"
     ]
    }
   ],
   "source": [
    "print(sp_dl)"
   ]
  },
  {
   "cell_type": "code",
   "execution_count": 25,
   "metadata": {},
   "outputs": [],
   "source": [
    "# рефакторинг"
   ]
  },
  {
   "cell_type": "code",
   "execution_count": 26,
   "metadata": {},
   "outputs": [],
   "source": [
    "# перед тем как рефакторить код нцжно написать тетсы"
   ]
  },
  {
   "cell_type": "code",
   "execution_count": 27,
   "metadata": {},
   "outputs": [],
   "source": [
    "def test_check_correct_work__has_list_duplicate_dela():\n",
    "    object_delo_1 = Delo('feed cat', '19-10-2022', '21-10-2022')        \n",
    "    object_delo_2 = Delo('go shop', '20-10-2022', '22-10-2022') \n",
    "    object_delo_3 = Delo('drink', '11-10-2022', '11-10-2022') \n",
    "    object_delo_4 = Delo('feed cat', '01-11-2022', '03-11-2022')\n",
    "    \n",
    "    list_del = [object_delo_1, object_delo_2, object_delo_3, object_delo_4]\n",
    "    \n",
    "    sd = SpisokDela(list_del)\n",
    "    \n",
    "    assert sd.has_list_duplicate_dela()"
   ]
  },
  {
   "cell_type": "code",
   "execution_count": 28,
   "metadata": {},
   "outputs": [],
   "source": [
    "def test_check_not_correct_work__has_list_duplicate_dela():\n",
    "    object_delo_1 = Delo('feed cat', '19-10-2022', '21-10-2022')        \n",
    "    object_delo_2 = Delo('go shop', '20-10-2022', '22-10-2022') \n",
    "    object_delo_3 = Delo('drink', '11-10-2022', '11-10-2022') \n",
    "    \n",
    "    list_del = [object_delo_1, object_delo_2, object_delo_3]\n",
    "    \n",
    "    sd = SpisokDela(list_del)\n",
    "    \n",
    "    assert not sd.has_list_duplicate_dela()"
   ]
  },
  {
   "cell_type": "code",
   "execution_count": 29,
   "metadata": {},
   "outputs": [],
   "source": [
    "test_check_correct_work__has_list_duplicate_dela()"
   ]
  },
  {
   "cell_type": "code",
   "execution_count": 30,
   "metadata": {},
   "outputs": [],
   "source": [
    "test_check_not_correct_work__has_list_duplicate_dela()"
   ]
  },
  {
   "cell_type": "code",
   "execution_count": 31,
   "metadata": {},
   "outputs": [],
   "source": [
    "# написали тетсытепреь можем пеоеходить к ихменению метода"
   ]
  },
  {
   "cell_type": "code",
   "execution_count": 32,
   "metadata": {},
   "outputs": [
    {
     "name": "stdout",
     "output_type": "stream",
     "text": [
      "Finish\n"
     ]
    }
   ],
   "source": [
    "print('Finish')"
   ]
  },
  {
   "cell_type": "code",
   "execution_count": null,
   "metadata": {},
   "outputs": [],
   "source": []
  }
 ],
 "metadata": {
  "kernelspec": {
   "display_name": "Python 2",
   "language": "python",
   "name": "python2"
  },
  "language_info": {
   "codemirror_mode": {
    "name": "ipython",
    "version": 2
   },
   "file_extension": ".py",
   "mimetype": "text/x-python",
   "name": "python",
   "nbconvert_exporter": "python",
   "pygments_lexer": "ipython2",
   "version": "2.7.12"
  }
 },
 "nbformat": 4,
 "nbformat_minor": 2
}
