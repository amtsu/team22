{
 "cells": [
  {
   "cell_type": "code",
   "execution_count": 1,
   "id": "c0e223e7-e2f0-4e4d-89e4-62904e62f896",
   "metadata": {},
   "outputs": [
    {
     "name": "stdout",
     "output_type": "stream",
     "text": [
      "in the first example, list_one and list_two are two different variables with a reference to different areas of memory, and in the second example, the variable list_two is a reference to the variable list_one, that is, to the same memory area\n"
     ]
    }
   ],
   "source": [
    "difference_explanation = 'in the first example, list_one and list_two are two different variables with a reference to different areas of memory, and in the second example, the variable list_two is a reference to the variable list_one, that is, to the same memory area'\n",
    "print(difference_explanation)"
   ]
  },
  {
   "cell_type": "code",
   "execution_count": 2,
   "id": "cd7051ba-7db7-4192-b5b8-e7a084326ac9",
   "metadata": {},
   "outputs": [
    {
     "name": "stdout",
     "output_type": "stream",
     "text": [
      "['З', 'а', ' ', 'с', 'т', 'е', 'к', 'л', 'о', 'м', ' ', 'л', 'е', 'ж', 'а', 'л', ' ', 'П', 'и', 'т', 'о', 'н', ',', '\\n', 'Б', 'о', 'л', 'ь', 'ш', 'о', 'й', ' ', 'и', ' ', 'т', 'о', 'л', 'с', 'т', 'ы', 'й', ',', ' ', 'к', 'а', 'к', ' ', 'б', 'а', 'т', 'о', 'н', '.', '\\n', 'В', 'в', 'е', 'р', 'х', ' ', 'п', 'о', 'п', 'о', 'л', 'з', ',', '\\n', 'З', 'а', 'т', 'е', 'м', ' ', 'в', 'е', 'р', 'н', 'у', 'л', 'с', 'я', ',', '\\n', 'К', 'р', 'у', 'г', 'л', 'ы', 'м', ' ', 'б', 'у', 'б', 'л', 'и', 'к', 'о', 'м', ' ', 'с', 'в', 'е', 'р', 'н', 'у', 'л', 'с', 'я', '.']\n",
      "111\n",
      "['За', 'стеклом', 'лежал', 'Питон,', 'Большой', 'и', 'толстый,', 'как', 'батон.', 'Вверх', 'пополз,', 'Затем', 'вернулся,', 'Круглым', 'бубликом', 'свернулся.']\n",
      "16\n",
      "['За стеклом лежал Питон,', 'Большой и толстый, как батон.', 'Вверх пополз,', 'Затем вернулся,', 'Круглым бубликом свернулся.']\n",
      "5\n"
     ]
    }
   ],
   "source": [
    "a_poem = 'За стеклом лежал Питон,\\nБольшой и толстый, как батон.\\nВверх пополз,\\nЗатем вернулся,\\nКруглым бубликом свернулся.'\n",
    "a_list = [*a_poem]\n",
    "another_list = a_poem.split()\n",
    "print(a_list)\n",
    "print(len(a_list))\n",
    "print(another_list)\n",
    "print(len(another_list))\n",
    "one_more_list = a_poem.split('\\n')\n",
    "print(one_more_list)\n",
    "print(len(one_more_list))"
   ]
  },
  {
   "cell_type": "code",
   "execution_count": 3,
   "id": "fa2978a4-c07f-4dc6-aec3-8a9d924e3713",
   "metadata": {},
   "outputs": [
    {
     "name": "stdout",
     "output_type": "stream",
     "text": [
      "['str', 8, 8.5, 1j, [1, 2, 3], (4, 5, 6), range(0, 7), {8: '8', 9: '9'}, {10, 11, 12}, True, None]\n",
      "11\n",
      "<class 'list'>\n"
     ]
    }
   ],
   "source": [
    "solyanka_list = ['str', 8, 8.5, 1j, [1, 2, 3], (4, 5, 6), range(7), {8 : \"8\", 9 : \"9\"}, {10, 11, 12}, True, None]\n",
    "print(solyanka_list)\n",
    "print(len(solyanka_list))\n",
    "print(type(solyanka_list[4]))\n",
    "solyanka_list.append([13])"
   ]
  },
  {
   "cell_type": "code",
   "execution_count": 4,
   "id": "5a880d4e-875f-4afe-9aab-5b627b0c71ef",
   "metadata": {},
   "outputs": [
    {
     "name": "stdout",
     "output_type": "stream",
     "text": [
      "23\n",
      "2\n",
      "exist\n",
      "not exist\n",
      "exist\n",
      "not exist\n"
     ]
    }
   ],
   "source": [
    "fibonacci_list = [0, 1, 1, 2, 3, 5, 8, 13, 21, 34, 55, 89, 144, 233, 377, 610, 987, 1597, 2584, 4181, 6765, 10946, 17711]\n",
    "print(len(fibonacci_list))\n",
    "print(fibonacci_list.count(1))\n",
    "print('exist') if 21 in fibonacci_list else print(\"not exist\")\n",
    "print('exist') if 33 in fibonacci_list else print(\"not exist\")\n",
    "print('exist') if 987 in fibonacci_list else print(\"not exist\")\n",
    "print('exist') if 9999 in fibonacci_list else print(\"not exist\")"
   ]
  },
  {
   "cell_type": "code",
   "execution_count": 5,
   "id": "f3678edc-8a36-4e09-9ea5-e0a5f6359d33",
   "metadata": {},
   "outputs": [
    {
     "name": "stdout",
     "output_type": "stream",
     "text": [
      "[1, 2, 5, 4, 3, 6]\n",
      "[1, 2, 3, 4, 5, 6]\n"
     ]
    }
   ],
   "source": [
    "a_list = [1,2,5,4,3,6]\n",
    "print(a_list)\n",
    "a_list[2], a_list[4] = a_list[4], a_list[2]\n",
    "print(a_list)"
   ]
  },
  {
   "cell_type": "code",
   "execution_count": 6,
   "id": "a01c6797-f5b5-43ec-a18f-2efc7b13e63d",
   "metadata": {},
   "outputs": [
    {
     "name": "stdout",
     "output_type": "stream",
     "text": [
      "[(1, 'Кто битым жизнью был,'), (2, 'тот большего добьётся,'), (3, 'Пуд соли съевший выше ценит мёд.'), (4, 'Кто слёзы лил, тот искренней смеётся,'), (5, 'Кто умирал, тот знает, что живёт.')]\n"
     ]
    }
   ],
   "source": [
    "poem = [(2, \"тот большего добьётся,\" ), (5, \"Кто умирал, тот знает, что живёт.\"), (1, \"Кто битым жизнью был,\" ), (3, \"Пуд соли съевший выше ценит мёд.\"), (4, \"Кто слёзы лил, тот искренней смеётся,\")]\n",
    "poem.sort()\n",
    "print(poem)"
   ]
  },
  {
   "cell_type": "code",
   "execution_count": 7,
   "id": "c1a3ae5c-36d2-40f7-9d26-9c12a4075a46",
   "metadata": {},
   "outputs": [
    {
     "name": "stdout",
     "output_type": "stream",
     "text": [
      "['Пуд багов съевший, выше ценит чистый код.']\n",
      "1\n",
      "['Пуд багов съевший, выше ценит чистый код.', 'Кто дошик ел, тот рейтинг ценит свой.']\n",
      "2\n",
      "['Пуд багов съевший, выше ценит чистый код.', 'Кто дошик ел, тот рейтинг ценит свой.', ['Кто дошик ел, тот рейтинг ценит свой.', 'Кто крашился, тот знает, что живой.']]\n",
      "3\n",
      "[]\n",
      "['Кто битым за дедлайн был,', 'Пуд багов съевший, выше ценит чистый код.', 'Кто дошик ел, тот рейтинг ценит свой.', []]\n",
      "4\n",
      "['Кто битым за дедлайн был,', 'Пуд багов съевший, выше ценит чистый код.', 'Кто дошик ел, тот рейтинг ценит свой.']\n",
      "3\n",
      "['Кто битым за дедлайн был,', 'тот больше не сольется.', 'Пуд багов съевший, выше ценит чистый код.', 'Кто дошик ел, тот рейтинг ценит свой.']\n",
      "4\n",
      "['Кто битым за дедлайн был,', 'тот больше не сольется.', 'Пуд багов съевший, выше ценит чистый код.', 'Кто дошик ел, тот рейтинг ценит свой.', 'Кто крашился, тот знает, что живой.', 'Кто крашился, тот знает, что живой.']\n",
      "6\n",
      "['Кто битым за дедлайн был,', 'тот больше не сольется.', 'Пуд багов съевший, выше ценит чистый код.', 'Кто дошик ел, тот рейтинг ценит свой.', 'Кто крашился, тот знает, что живой.']\n",
      "5\n"
     ]
    }
   ],
   "source": [
    "true_story_list = ['Пуд багов съевший, выше ценит чистый код.']\n",
    "print(true_story_list)\n",
    "print(len(true_story_list))\n",
    "true_story_list.append('Кто дошик ел, тот рейтинг ценит свой.')\n",
    "print(true_story_list)\n",
    "print(len(true_story_list))\n",
    "true_story_slice = ['Кто дошик ел, тот рейтинг ценит свой.', 'Кто крашился, тот знает, что живой.']\n",
    "true_story_list.append(true_story_slice)\n",
    "print(true_story_list)\n",
    "print(len(true_story_list))\n",
    "true_story_slice.clear()\n",
    "print(true_story_slice)\n",
    "true_story_list.insert(0, \"Кто битым за дедлайн был,\")\n",
    "print(true_story_list)\n",
    "print(len(true_story_list))\n",
    "true_story_list.pop()\n",
    "print(true_story_list)\n",
    "print(len(true_story_list))\n",
    "true_story_list.insert(1, 'тот больше не сольется.')\n",
    "print(true_story_list)\n",
    "print(len(true_story_list))\n",
    "true_story_tail = ['Кто крашился, тот знает, что живой.', 'Кто крашился, тот знает, что живой.']\n",
    "true_story_list = true_story_list + true_story_tail\n",
    "print(true_story_list)\n",
    "print(len(true_story_list))\n",
    "true_story_list.pop(4)\n",
    "print(true_story_list)\n",
    "print(len(true_story_list))"
   ]
  },
  {
   "cell_type": "code",
   "execution_count": null,
   "id": "f17c95e1-7e11-4a36-a616-bed2fe28da54",
   "metadata": {},
   "outputs": [],
   "source": []
  }
 ],
 "metadata": {
  "kernelspec": {
   "display_name": "Python 3 (ipykernel)",
   "language": "python",
   "name": "python3"
  },
  "language_info": {
   "codemirror_mode": {
    "name": "ipython",
    "version": 3
   },
   "file_extension": ".py",
   "mimetype": "text/x-python",
   "name": "python",
   "nbconvert_exporter": "python",
   "pygments_lexer": "ipython3",
   "version": "3.10.10"
  }
 },
 "nbformat": 4,
 "nbformat_minor": 5
}
