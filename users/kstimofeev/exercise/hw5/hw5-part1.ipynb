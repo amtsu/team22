{
 "cells": [
  {
   "cell_type": "code",
   "execution_count": 1,
   "id": "1aebc700-2b8f-4fc4-aa12-c0d10587cf46",
   "metadata": {},
   "outputs": [
    {
     "name": "stdout",
     "output_type": "stream",
     "text": [
      "True\n",
      "{1, 3, 4, 5, 6, 7, 8}\n",
      "{1, 3, 7, 8}\n"
     ]
    }
   ],
   "source": [
    "set1 = {1, 2, 3, 4, 5}\n",
    "set1.add(6)\n",
    "set1.remove(2)\n",
    "print(3 in set1)\n",
    "set2 = {4, 5, 6, 7, 8}\n",
    "print(set1.union(set2))\n",
    "print(set1.symmetric_difference(set2))\n"
   ]
  },
  {
   "cell_type": "code",
   "execution_count": 2,
   "id": "286cec36-292b-4a74-8b38-cff84d26cc16",
   "metadata": {},
   "outputs": [
    {
     "data": {
      "text/plain": [
       "21"
      ]
     },
     "execution_count": 2,
     "metadata": {},
     "output_type": "execute_result"
    }
   ],
   "source": [
    "person = {\"name\": \"Konstantin\", \"age\": 41, \"city\": \"Mestia\"}\n",
    "person[\"email\"] = \"kashak@outlook.com\"\n",
    "person.pop(\"city\")\n",
    "inventory = {\"яблоко\": 5, \"банан\": 10, \"апельсин\": 7}\n",
    "inventory[\"банан\"] = inventory[\"банан\"] + 3\n",
    "prices = {\"яблоко\": 1.5, \"банан\": 2, \"апельсин\": 1.2}\n",
    "students = {\"Иванов\": 22, \"Петрова\": 21, \"Сидоров\": 23}\n",
    "students[\"Смирнова\"] = 20\n",
    "students.pop(\"Петрова\")"
   ]
  },
  {
   "cell_type": "code",
   "execution_count": 7,
   "id": "c07c6f81-6114-4b58-aef1-9044ebffebd8",
   "metadata": {},
   "outputs": [
    {
     "name": "stdout",
     "output_type": "stream",
     "text": [
      "Совершеннолетний\n",
      "set2 > set1\n",
      "груша already exists in the inventory.\n",
      "{'яблоко': 5, 'банан': 13, 'апельсин': 7, 'груша': None}\n",
      "банан - Дорогой товар\n",
      "Совершеннолетний\n"
     ]
    }
   ],
   "source": [
    "print(\"Несовершеннолетний\") if person[\"age\"] < 18 else print(\"Совершеннолетний\")\n",
    "print(\"set1 > set2\") if set1 > set2 else print(\"set2 > set1\")\n",
    "inventory[\"груша\"] = 3 if \"груша\" not in inventory else print(\"груша already exists in the inventory.\")\n",
    "\n",
    "for item in prices:\n",
    "    if prices[item] > 1.5:\n",
    "        print(item, \"- Дорогой товар\")\n",
    "        \n",
    "print(\"Несовершеннолетний\") if students[\"Иванов\"] < 18 else print(\"Совершеннолетний\")"
   ]
  },
  {
   "cell_type": "code",
   "execution_count": 12,
   "id": "8b7aa11f-e232-40cb-a623-3794441fefa4",
   "metadata": {},
   "outputs": [
    {
     "name": "stdout",
     "output_type": "stream",
     "text": [
      "1\n",
      "3\n",
      "4\n",
      "5\n",
      "6\n",
      "1\n",
      "2\n",
      "3\n",
      "4\n",
      "5\n",
      "яблоко\n",
      "банан\n",
      "апельсин\n",
      "груша\n",
      "Иванов 22\n",
      "Сидоров 23\n",
      "Смирнова 20\n"
     ]
    }
   ],
   "source": [
    "for item in set1:\n",
    "    print(item)\n",
    "number = 1\n",
    "\n",
    "while number < 6:\n",
    "    print(number)\n",
    "    number += 1\n",
    "\n",
    "for item in inventory:\n",
    "    print(item)\n",
    "\n",
    "for student in students:\n",
    "    print(student, students[student])"
   ]
  },
  {
   "cell_type": "code",
   "execution_count": null,
   "id": "a9a9120a-9823-4993-b94b-55f66726f3ea",
   "metadata": {},
   "outputs": [],
   "source": []
  }
 ],
 "metadata": {
  "kernelspec": {
   "display_name": "Python 3 (ipykernel)",
   "language": "python",
   "name": "python3"
  },
  "language_info": {
   "codemirror_mode": {
    "name": "ipython",
    "version": 3
   },
   "file_extension": ".py",
   "mimetype": "text/x-python",
   "name": "python",
   "nbconvert_exporter": "python",
   "pygments_lexer": "ipython3",
   "version": "3.10.10"
  }
 },
 "nbformat": 4,
 "nbformat_minor": 5
}
