{
 "cells": [
  {
   "cell_type": "code",
   "execution_count": 1,
   "id": "c2582af7-9dc7-436e-9088-e812df250da0",
   "metadata": {},
   "outputs": [
    {
     "name": "stdout",
     "output_type": "stream",
     "text": [
      "80\n",
      "7.0\n",
      "32\n",
      "6\n",
      "1\n"
     ]
    }
   ],
   "source": [
    "print(10 * (5 + 3))\n",
    "print((20 - 6) / 2)\n",
    "print(2 ** 5)\n",
    "print(25 // 4)\n",
    "print(25 % 4)"
   ]
  },
  {
   "cell_type": "code",
   "execution_count": 2,
   "id": "7757a33b-c7d5-477c-a4d3-b73bc2f8fdd8",
   "metadata": {},
   "outputs": [
    {
     "name": "stdout",
     "output_type": "stream",
     "text": [
      "-3\n"
     ]
    }
   ],
   "source": [
    "number = -3.14\n",
    "print(round(number))"
   ]
  },
  {
   "cell_type": "code",
   "execution_count": 3,
   "id": "048c6d19-09a0-4695-b143-8f532a15126b",
   "metadata": {},
   "outputs": [
    {
     "name": "stdout",
     "output_type": "stream",
     "text": [
      "35\n"
     ]
    }
   ],
   "source": [
    "a = 5\n",
    "b = 7\n",
    "area = a * b\n",
    "print(area)"
   ]
  },
  {
   "cell_type": "code",
   "execution_count": 4,
   "id": "7688f4ed-1c02-458d-9ffe-3e1212a91760",
   "metadata": {},
   "outputs": [
    {
     "name": "stdout",
     "output_type": "stream",
     "text": [
      "145.70000000000002\n"
     ]
    }
   ],
   "source": [
    "living_room_width = 3.5\n",
    "living_room_length = 6.4\n",
    "bedroom_room_width = 3.4\n",
    "bedroom_room_length = 4\n",
    "rest_of_apartment = 11\n",
    "ceiling_height = 3.1\n",
    "living_room_area = living_room_width * living_room_length\n",
    "bedroom_room_area = bedroom_room_width * bedroom_room_length\n",
    "apartment_area = living_room_area + bedroom_room_area + rest_of_apartment\n",
    "apartment_volume = apartment_area * ceiling_height\n",
    "print(apartment_volume)"
   ]
  },
  {
   "cell_type": "code",
   "execution_count": 5,
   "id": "1f5a4ea6-dd28-4a6a-accc-1f14c87976e5",
   "metadata": {},
   "outputs": [
    {
     "name": "stdout",
     "output_type": "stream",
     "text": [
      "ax^2 + bx + c = 0\n",
      "-3.449489742783178 \n",
      " 1.4494897427831779\n"
     ]
    }
   ],
   "source": [
    "print('ax^2 + bx + c = 0')\n",
    "a = 2\n",
    "b = 4\n",
    "c = -10\n",
    "D = b ** 2 - 4 * a * c\n",
    "x1 = (-b - D ** 0.5) / (2 * a)\n",
    "x2 = (-b + D ** 0.5) / (2 * a)\n",
    "print(x1, '\\n', x2)"
   ]
  },
  {
   "cell_type": "code",
   "execution_count": 6,
   "id": "b45ddc0c-8482-479b-b6d7-2d46357b88df",
   "metadata": {},
   "outputs": [
    {
     "name": "stdout",
     "output_type": "stream",
     "text": [
      "Hello, world!\n"
     ]
    }
   ],
   "source": [
    "string1 = \"hello, \"\n",
    "string2 = \"world!\"\n",
    "united_string = string1 + string2\n",
    "print(united_string.capitalize())"
   ]
  },
  {
   "cell_type": "code",
   "execution_count": 7,
   "id": "a00fd845-14e4-4793-9e66-4c656a7e1c29",
   "metadata": {},
   "outputs": [
    {
     "name": "stdout",
     "output_type": "stream",
     "text": [
      "13\n"
     ]
    }
   ],
   "source": [
    "print(len(united_string))"
   ]
  },
  {
   "cell_type": "code",
   "execution_count": 8,
   "id": "0a9e026c-9bd2-4778-9e2b-6dcb6a2791a9",
   "metadata": {},
   "outputs": [
    {
     "name": "stdout",
     "output_type": "stream",
     "text": [
      "la\n",
      "la\n",
      "la\n",
      "la\n",
      "la\n",
      "la\n",
      "la\n",
      "la\n",
      "la\n",
      "la\n",
      "la\n",
      "la\n",
      "la\n",
      "la\n",
      "la\n",
      "la\n",
      "la\n",
      "la\n",
      "la\n",
      "la\n",
      "la\n",
      "la\n",
      "la\n",
      "la\n",
      "la\n",
      "\n"
     ]
    }
   ],
   "source": [
    "print('la\\n' * 25)"
   ]
  },
  {
   "cell_type": "code",
   "execution_count": 9,
   "id": "981e8fe9-f47c-4573-a3d5-c9812f96098d",
   "metadata": {},
   "outputs": [
    {
     "name": "stdout",
     "output_type": "stream",
     "text": [
      "hi\n",
      "[1, 'hi', 3, [8, 6, 4], 5]\n"
     ]
    }
   ],
   "source": [
    "numbers = [1, 2, 3, 4, 5]\n",
    "numbers[1] = \"hi\" \n",
    "print(numbers[1])\n",
    "numbers[3] =  [8, 6, 4]\n",
    "print(numbers)"
   ]
  },
  {
   "cell_type": "code",
   "execution_count": 10,
   "id": "f82c49d5-3cd8-4732-84e8-1ab96d0c846b",
   "metadata": {},
   "outputs": [
    {
     "name": "stdout",
     "output_type": "stream",
     "text": [
      "[3, 4, 5, 6, 7]\n"
     ]
    }
   ],
   "source": [
    "numbers = [1, 2, 3, 4, 5, 6, 7, 8, 9, 10]\n",
    "print(numbers[2:7])"
   ]
  },
  {
   "cell_type": "code",
   "execution_count": null,
   "id": "eb9c3344-486f-41ce-a9f0-c88c0ba79a56",
   "metadata": {},
   "outputs": [],
   "source": []
  }
 ],
 "metadata": {
  "kernelspec": {
   "display_name": "Python 3 (ipykernel)",
   "language": "python",
   "name": "python3"
  },
  "language_info": {
   "codemirror_mode": {
    "name": "ipython",
    "version": 3
   },
   "file_extension": ".py",
   "mimetype": "text/x-python",
   "name": "python",
   "nbconvert_exporter": "python",
   "pygments_lexer": "ipython3",
   "version": "3.10.10"
  }
 },
 "nbformat": 4,
 "nbformat_minor": 5
}
