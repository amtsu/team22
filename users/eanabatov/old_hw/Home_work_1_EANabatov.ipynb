total 16
drwxr-xr-x  2 jupyter-eanabatov jupyter-eanabatov 4096 Jan 28 22:30 .
drwxr-xr-x 22 jupyter-eanabatov jupyter-eanabatov 4096 Jan 28 21:53 ..
-rw-r--r--  1 jupyter-eanabatov jupyter-eanabatov  320 Jan 28 22:10 a1_EANabatov.txt
-rw-r--r--  1 jupyter-eanabatov jupyter-eanabatov    6 Jan 28 22:01 a2_EANabatov.txt
-rw-r--r--  1 jupyter-eanabatov jupyter-eanabatov    0 Jan 28 22:30 Home_work_1_EANabatov.ipynb
