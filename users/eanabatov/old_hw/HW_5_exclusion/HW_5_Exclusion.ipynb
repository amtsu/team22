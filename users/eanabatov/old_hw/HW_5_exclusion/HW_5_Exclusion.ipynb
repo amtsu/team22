{
 "cells": [
  {
   "cell_type": "markdown",
   "metadata": {},
   "source": [
    "# Упражнение - исключения"
   ]
  },
  {
   "cell_type": "markdown",
   "metadata": {},
   "source": [
    "Создать телефонный справочник на основе словаря Python."
   ]
  },
  {
   "cell_type": "code",
   "execution_count": 1,
   "metadata": {},
   "outputs": [],
   "source": [
    "dictionary = {\n",
    "    \"Alex\" : 8_915_356_6547,\n",
    "    \"John\" : 8_912_456_3456,\n",
    "    \"Cops\" : 911,\n",
    "    \"DnKr\" : 7_007_007_7777,\n",
    "}"
   ]
  },
  {
   "cell_type": "markdown",
   "metadata": {},
   "source": [
    "Попробовать найти в этом справочнике несуществующее имя. Исследовать полученное исключение."
   ]
  },
  {
   "cell_type": "code",
   "execution_count": null,
   "metadata": {},
   "outputs": [],
   "source": [
    "x = input('введите значение ')\n",
    "\n",
    "print(dictionary[x])"
   ]
  },
  {
   "cell_type": "markdown",
   "metadata": {},
   "source": [
    "- Реализовать телефонный справочник, который выводит сообщение «Такого имени нет» при попытке найти несуществующее имя.\n",
    "- Ввод имени пользователем реализуется функцией input()."
   ]
  },
  {
   "cell_type": "code",
   "execution_count": null,
   "metadata": {},
   "outputs": [],
   "source": [
    "#input('введите значение')"
   ]
  },
  {
   "cell_type": "code",
   "execution_count": null,
   "metadata": {},
   "outputs": [],
   "source": [
    "dictionary = {\n",
    "    \"Alex\" : 8_915_356_6547,\n",
    "    \"John\" : 8_912_456_3456,\n",
    "    \"Cops\" : 911,\n",
    "    \"DnKr\" : 7_007_007_7777,\n",
    "}\n",
    "\n",
    "def Search_by_name():\n",
    "    \"\"\"\n",
    "    Search by name in dictionary with exceptions\n",
    "    \"\"\"\n",
    "    x = input('введите значение ')\n",
    "\n",
    "    try:\n",
    "        print(dictionary[x]) \n",
    "        return(dictionary[x])\n",
    "    \n",
    "    except KeyError:\n",
    "        print('Такого имени нет')\n",
    "        \n",
    "Search_by_name()"
   ]
  },
  {
   "cell_type": "markdown",
   "metadata": {},
   "source": [
    "Реализовать телефонный справочник, который выводит сообщение «Такого имени нет» при попытке найти несуществующее имя и в любом случае в завершении выводит сообщение «Конец работы программы.»"
   ]
  },
  {
   "cell_type": "code",
   "execution_count": 9,
   "metadata": {},
   "outputs": [
    {
     "name": "stdout",
     "output_type": "stream",
     "text": [
      "введите значение Keks\n",
      "Такого имени нет\n",
      "Конец работы программы.\n"
     ]
    }
   ],
   "source": [
    "dictionary = {\n",
    "    \"Alex\" : 8_915_356_6547,\n",
    "    \"John\" : 8_912_456_3456,\n",
    "    \"Cops\" : 911,\n",
    "    \"DnKr\" : 7_007_007_7777,\n",
    "}\n",
    "\n",
    "def Search_by_name_ver_2():\n",
    "    \"\"\"\n",
    "    Search by name in dictionary with exceptions and output of the end of the program\n",
    "    \"\"\"\n",
    "    x = input('введите значение ')\n",
    "\n",
    "    try:\n",
    "        print(dictionary[x])\n",
    "        return(dictionary[x])\n",
    "    \n",
    "    except KeyError:\n",
    "        print('Такого имени нет')\n",
    "    \n",
    "    finally:\n",
    "        print('Конец работы программы.')\n",
    "        \n",
    "Search_by_name_ver_2()"
   ]
  },
  {
   "cell_type": "markdown",
   "metadata": {},
   "source": [
    "- Реализовать функцию safe_divide, которая принимает от пользователя два целых или вещественных числа и делит одно на другое. Предусмотреть обработку ошибки, возникающей при делении на 0.\n",
    "- Ввод числа пользователем реализуется функцией input().\n",
    "- Синтаксис преобразования типов:  \n",
    "    a = float(input(\"Делимое:\"))"
   ]
  },
  {
   "cell_type": "code",
   "execution_count": 20,
   "metadata": {},
   "outputs": [
    {
     "name": "stdout",
     "output_type": "stream",
     "text": [
      "Введите делимое: 23\n",
      "Введите делитель: 0\n",
      "На ноль делить нельзя\n"
     ]
    }
   ],
   "source": [
    "dividend = 0\n",
    "divider = 0\n",
    "\n",
    "def safe_divide():\n",
    "    \"\"\"\n",
    "    Takes two integer or float numbers to divide with exception ZeroDivisionError\n",
    "    \"\"\"\n",
    "    dividend = float(input(\"Введите делимое: \"))\n",
    "    divider = float(input(\"Введите делитель: \"))\n",
    "    \n",
    "    try:\n",
    "        result = dividend / divider\n",
    "        print(result)\n",
    "        return(result)\n",
    "    \n",
    "    except ZeroDivisionError:\n",
    "        print(\"На ноль делить нельзя\")\n",
    "\n",
    "safe_divide()"
   ]
  },
  {
   "cell_type": "markdown",
   "metadata": {},
   "source": [
    "Доработать функцию safe_divide, чтобы она также обрабатывала ошибки, возникающие при вводе нечисловых символов.\n",
    "\n",
    "подсказка\n",
    "\n",
    "\n",
    "- Чтобы проверить, какая ошибка возникает при вводе нечисловых символов, нужно воспроизвести эту ситуацию и посмотреть на класс ошибки в сообщении интерпретатора Python (обычно выделяется красным шрифтом).\n"
   ]
  },
  {
   "cell_type": "code",
   "execution_count": 6,
   "metadata": {},
   "outputs": [
    {
     "name": "stdout",
     "output_type": "stream",
     "text": [
      "Введите делимое: gh\n",
      "Принимаются только целые и вещественные числа\n"
     ]
    }
   ],
   "source": [
    "dividend = 0.0\n",
    "divider = 0.0\n",
    "\n",
    "def safe_divide_ver_2():\n",
    "    \"\"\"\n",
    "    Takes two integer or float numbers to divide with exceptions ZeroDivisionError and ValueError\n",
    "    \"\"\"\n",
    "    try:\n",
    "        dividend = float(input(\"Введите делимое: \"))\n",
    "        divider = float(input(\"Введите делитель: \"))\n",
    "    \n",
    "        result = dividend / divider\n",
    "        print(result)\n",
    "        return(result)\n",
    "    \n",
    "    except ZeroDivisionError:\n",
    "        print(\"На ноль делить нельзя\")\n",
    "    \n",
    "    except ValueError:\n",
    "        print(\"Принимаются только целые и вещественные числа\")\n",
    "\n",
    "safe_divide_ver_2()"
   ]
  },
  {
   "cell_type": "markdown",
   "metadata": {},
   "source": [
    "- Разработать интерактивный калькулятор: пользователь вводит формулу вида «12 + 8» или «15 - 10», программа вычисляет результат. Достаточно предусмотреть только сложение и вычитание. Предполагается, что первый операнд, знак операции и второй операнд обязательно должны быть разделены пробелами.\n",
    "- Программа должна выводить сообщения об ошибках, если введена неверная формула или нечисловые символы.\n",
    "- Ожидаемый результат и часть решения:"
   ]
  },
  {
   "cell_type": "code",
   "execution_count": 22,
   "metadata": {},
   "outputs": [
    {
     "name": "stdout",
     "output_type": "stream",
     "text": [
      "Введите вычисляемое выражение: 23 - 11\n",
      "12\n"
     ]
    },
    {
     "data": {
      "text/plain": [
       "12"
      ]
     },
     "execution_count": 22,
     "metadata": {},
     "output_type": "execute_result"
    }
   ],
   "source": [
    "def Interactive_calculator():\n",
    "    \"\"\"\n",
    "    A function that summarizes or subtracts two integers\n",
    "    \"\"\"\n",
    "    results = 0\n",
    "    \n",
    "    try:\n",
    "        input_box = input(\"Введите вычисляемое выражение: \")\n",
    "        spliting_box = input_box.split(\" \") # Разделяет полученное выражение на числа и математический оператор\n",
    "        \n",
    "        if len(spliting_box) != 3: #Проверка введенного выражения на корректность\n",
    "            print(\"\"\"Введено неверное выражение! \\nВыражение должно иметь вид: А +/- В ! \\nГде А и В целые числа! \\nЗнак математической операции должен быть отделен пробелами!\"\"\")\n",
    "        \n",
    "        else:\n",
    "    #TODO Realize summarizing and subtracting function\n",
    "            if spliting_box[1] == \"+\":\n",
    "                results = int(spliting_box[0]) + int(spliting_box[2])\n",
    "                print(int(results))\n",
    "                return(int(results))\n",
    "            \n",
    "            elif spliting_box[1] == \"-\":\n",
    "                results = int(spliting_box[0]) - int(spliting_box[2])\n",
    "                print(int(results))\n",
    "                return (int(results))\n",
    "            \n",
    "    except ValueError:\n",
    "        print(\"Необходимо ввести целые числа \")\n",
    "        \n",
    "Interactive_calculator()"
   ]
  },
  {
   "cell_type": "markdown",
   "metadata": {},
   "source": [
    "Доработать предыдущую программу, чтобы она распознавала операторы деления (/) и умножения (*), а также выводила сообщение в случае деления на 0.\n"
   ]
  },
  {
   "cell_type": "code",
   "execution_count": 23,
   "metadata": {},
   "outputs": [
    {
     "name": "stdout",
     "output_type": "stream",
     "text": [
      "Введите вычисляемое выражение: 23 / 0\n",
      "На ноль делить нельзя!\n"
     ]
    }
   ],
   "source": [
    "def Interactive_calculator_ver_2():\n",
    "    \"\"\"\n",
    "    A function that summarizes or subtracts or multiplies or divides two integers\n",
    "    \"\"\"\n",
    "    results = 0\n",
    "    \n",
    "    try:\n",
    "        input_box = input(\"Введите вычисляемое выражение: \")\n",
    "        spliting_box = input_box.split(\" \") # Разделяет полученное выражение на числа и математический оператор\n",
    "\n",
    "        if len(spliting_box) != 3: #Проверка введенного выражения на корректность\n",
    "            print(\"\"\"Введено неверное выражение! \\nВыражение должно иметь вид: А +/- В ! \\nГде А и В целые числа! \\nЗнак математической операции должен быть отделен пробелами!\"\"\")\n",
    "\n",
    "        else:\n",
    "            if spliting_box[1] == \"+\":\n",
    "                results = int(spliting_box[0]) + int(spliting_box[2])\n",
    "                print(int(results))\n",
    "                return(int(results))\n",
    "\n",
    "            elif spliting_box[1] == \"-\":\n",
    "                results = int(spliting_box[0]) - int(spliting_box[2])\n",
    "                print(int(results))\n",
    "                return (int(results))\n",
    "\n",
    "            elif spliting_box[1] == \"/\":\n",
    "                results = int(spliting_box[0]) / int(spliting_box[2])\n",
    "                print(results) # Выводим десятичное число для случаев деления с остатком\n",
    "                return(results)\n",
    "\n",
    "            elif spliting_box[1] == \"*\":\n",
    "                results = int(spliting_box[0]) * int(spliting_box[2])\n",
    "                print(int(results))\n",
    "                return (int(results))\n",
    "\n",
    "    except ValueError:\n",
    "        print(\"Необходимо ввести целые числа!\")\n",
    "        \n",
    "    except ZeroDivisionError:\n",
    "        print(\"На ноль делить нельзя!\")\n",
    "        \n",
    "Interactive_calculator_ver_2()"
   ]
  }
 ],
 "metadata": {
  "kernelspec": {
   "display_name": "Python 3 (ipykernel)",
   "language": "python",
   "name": "python3"
  },
  "language_info": {
   "codemirror_mode": {
    "name": "ipython",
    "version": 3
   },
   "file_extension": ".py",
   "mimetype": "text/x-python",
   "name": "python",
   "nbconvert_exporter": "python",
   "pygments_lexer": "ipython3",
   "version": "3.9.7"
  }
 },
 "nbformat": 4,
 "nbformat_minor": 2
}
