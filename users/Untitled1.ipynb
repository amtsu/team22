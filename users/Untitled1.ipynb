{
 "cells": [
  {
   "cell_type": "code",
   "execution_count": 15,
   "id": "0d9a1d1d-79f9-489c-9522-63fa11353ddb",
   "metadata": {},
   "outputs": [
    {
     "data": {
      "text/plain": [
       "(-0.14000000000000012, -3.0)"
      ]
     },
     "execution_count": 15,
     "metadata": {},
     "output_type": "execute_result"
    }
   ],
   "source": [
    "x = -3.14\n",
    "math.modf(x) "
   ]
  },
  {
   "cell_type": "code",
   "execution_count": 22,
   "id": "c4182387-fd48-42ec-87d0-58232f9020af",
   "metadata": {},
   "outputs": [
    {
     "name": "stdout",
     "output_type": "stream",
     "text": [
      "0.14000000000000012\n"
     ]
    }
   ],
   "source": [
    "x = 3.14\n",
    "fractional_part = x% 1\n",
    "print(fractional_part)"
   ]
  },
  {
   "cell_type": "code",
   "execution_count": 23,
   "id": "4dedaa0a-03d8-4830-9b36-6ec98cd57ea0",
   "metadata": {},
   "outputs": [
    {
     "name": "stdout",
     "output_type": "stream",
     "text": [
      "-0.14\n"
     ]
    }
   ],
   "source": [
    "from decimal import Decimal\n",
    "numb = -3.14\n",
    "decim = Decimal(str(numb))\n",
    "print(decim - decim.to_integral_exact())"
   ]
  },
  {
   "cell_type": "code",
   "execution_count": null,
   "id": "127c08e1-6b57-4d5f-8f73-8c899311144e",
   "metadata": {},
   "outputs": [],
   "source": [
    "fractional_part = x% 1"
   ]
  },
  {
   "cell_type": "code",
   "execution_count": null,
   "id": "6851aa9a-31f6-4096-b0de-2f564c125959",
   "metadata": {},
   "outputs": [],
   "source": [
    "x = -3.14\n",
    "fractional_part = x% 1"
   ]
  },
  {
   "cell_type": "code",
   "execution_count": null,
   "id": "cfbe018d-8bcb-4ab9-b583-b1721334e1ec",
   "metadata": {},
   "outputs": [],
   "source": [
    "fractional_part = x% 1"
   ]
  }
 ],
 "metadata": {
  "kernelspec": {
   "display_name": "Python 3 (ipykernel)",
   "language": "python",
   "name": "python3"
  },
  "language_info": {
   "codemirror_mode": {
    "name": "ipython",
    "version": 3
   },
   "file_extension": ".py",
   "mimetype": "text/x-python",
   "name": "python",
   "nbconvert_exporter": "python",
   "pygments_lexer": "ipython3",
   "version": "3.10.10"
  }
 },
 "nbformat": 4,
 "nbformat_minor": 5
}
