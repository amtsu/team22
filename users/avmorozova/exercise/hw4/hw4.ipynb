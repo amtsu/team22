{
 "cells": [
  {
   "cell_type": "code",
   "execution_count": 1,
   "id": "2b5cbfa7-174f-44cc-b070-af643d3568ea",
   "metadata": {},
   "outputs": [
    {
     "name": "stdout",
     "output_type": "stream",
     "text": [
      "[1, 2, 3, 4, 5, 6, 9]\n",
      "[1, 2, 3, 4, 5, 6, 9, 789]\n"
     ]
    }
   ],
   "source": [
    "list_one = [1, 2, 3, 4, 5, 6, 9]\n",
    "list_two = [1, 2, 3, 4, 5, 6, 9]\n",
    "list_two.append(789)\n",
    "print(list_one, list_two, sep='\\n') "
   ]
  },
  {
   "cell_type": "code",
   "execution_count": 2,
   "id": "3b5718e2-4469-4834-b8d5-f8fe2a42a7e3",
   "metadata": {},
   "outputs": [
    {
     "name": "stdout",
     "output_type": "stream",
     "text": [
      "[1, 2, 3, 4, 5, 6, 9, 789]\n",
      "[1, 2, 3, 4, 5, 6, 9, 789]\n"
     ]
    }
   ],
   "source": [
    "list_one = [1, 2, 3, 4, 5, 6, 9]\n",
    "list_two = list_one\n",
    "list_two.append(789)\n",
    "print(list_one, list_two, sep='\\n')\n"
   ]
  },
  {
   "cell_type": "code",
   "execution_count": 6,
   "id": "676bc67e-936a-41ae-ac0c-4f1e34c308f2",
   "metadata": {},
   "outputs": [
    {
     "data": {
      "text/plain": [
       "'в первом случае две переменные с \\nсамостоятельным значением каждая,а во втором случае две переменные,\\nкоторые имеют одно значение(сслыка на один и тот же список)'"
      ]
     },
     "execution_count": 6,
     "metadata": {},
     "output_type": "execute_result"
    }
   ],
   "source": [
    "difference_explanation = '''в первом случае две переменные с \n",
    "самостоятельным значением каждая,а во втором случае две переменные,\n",
    "которые имеют одно значение(сслыка на один и тот же список)'''\n",
    "difference_explanation\n"
   ]
  },
  {
   "cell_type": "code",
   "execution_count": 29,
   "id": "140445ed-0549-4c3f-83b9-6fba55e4eb58",
   "metadata": {},
   "outputs": [
    {
     "name": "stdout",
     "output_type": "stream",
     "text": [
      "['З', 'а', ' ', 'с', 'т', 'е', 'к', 'л', 'о', 'м', ' ', 'л', 'е', 'ж', 'а', 'л', ' ', 'П', 'и', 'т', 'о', 'н', ',', '\\n', 'Б', 'о', 'л', 'ь', 'ш', 'о', 'й', ' ', 'и', ' ', 'т', 'о', 'л', 'с', 'т', 'ы', 'й', ',', ' ', 'к', 'а', 'к', ' ', 'б', 'а', 'т', 'о', 'н', '.', '\\n', 'В', 'в', 'е', 'р', 'х', ' ', 'п', 'о', 'п', 'о', 'л', 'з', ',', '\\n', 'З', 'а', 'т', 'е', 'м', ' ', 'в', 'е', 'р', 'н', 'у', 'л', 'с', 'я', ',', '\\n', 'К', 'р', 'у', 'г', 'л', 'ы', 'м', ' ', 'б', 'у', 'б', 'л', 'и', 'к', 'о', 'м', ' ', 'с', 'в', 'е', 'р', 'н', 'у', 'л', 'с', 'я', '.'] 111\n",
      "['За', 'стеклом', 'лежал', 'Питон,', 'Большой', 'и', 'толстый,', 'как', 'батон.', 'Вверх', 'пополз,', 'Затем', 'вернулся,', 'Круглым', 'бубликом', 'свернулся.'] 16\n",
      "['За стеклом лежал Питон,', 'Большой и толстый, как батон.', 'Вверх пополз,', 'Затем вернулся,', 'Круглым бубликом свернулся.']\n",
      "количество элементов 5\n"
     ]
    }
   ],
   "source": [
    "a_poem = '''За стеклом лежал Питон,\n",
    "Большой и толстый, как батон.\n",
    "Вверх пополз,\n",
    "Затем вернулся,\n",
    "Круглым бубликом свернулся.'''\n",
    "a_list = list(a_poem)\n",
    "another_list = list(a_poem.split())\n",
    "print(a_list , len(a_list))\n",
    "print(another_list , len(another_list))\n",
    "one_more_list = list(a_poem.split('\\n'))\n",
    "print(one_more_list ,f'количество элементов {len(one_more_list)}',sep='\\n')\n",
    "\n"
   ]
  },
  {
   "cell_type": "code",
   "execution_count": 43,
   "id": "65997243-930a-47f9-a452-208b850054e9",
   "metadata": {},
   "outputs": [
    {
     "name": "stdout",
     "output_type": "stream",
     "text": [
      "[3, 3.14, 'строка', [], (), {}]\n",
      "<class 'tuple'>\n",
      "тип последнего элемента <class 'list'>\n"
     ]
    }
   ],
   "source": [
    "solyanka_list = [3 ,3.14,'строка',[],(),{}]\n",
    "print(solyanka_list)\n",
    "len(solyanka_list)\n",
    "print(type(solyanka_list[4]))\n",
    "solyanka_list.append(['a'])\n",
    "print ('тип последнего элемента',type(solyanka_list[-1]))"
   ]
  },
  {
   "cell_type": "code",
   "execution_count": 51,
   "id": "ad854c02-8cb7-446d-a6b4-212c692f813f",
   "metadata": {},
   "outputs": [
    {
     "name": "stdout",
     "output_type": "stream",
     "text": [
      "количество вхождений числа 1 : 2\n",
      "являются ли следущие числа числами ФИбоначи:\n",
      "21- True\n",
      "33- False\n",
      "987- True\n",
      "9999- False\n"
     ]
    }
   ],
   "source": [
    "fibonacci_list = [0, 1, 1, 2, 3, 5, 8, 13, 21, 34, 55, 89, 144, 233, 377, 610, 987, 1597, 2584, 4181, 6765, 10946, 17711]\n",
    "len(fibonacci_list)\n",
    "print('количество вхождений числа 1 :' , fibonacci_list.count(1))\n",
    "print('являются ли следущие числа числами ФИбоначи:')\n",
    "print('21-',21 in fibonacci_list)\n",
    "print('33-',33 in fibonacci_list)\n",
    "print('987-', 987 in fibonacci_list)\n",
    "print('9999-',9999 in fibonacci_list)"
   ]
  },
  {
   "cell_type": "code",
   "execution_count": 53,
   "id": "b005ec69-2d05-4319-a95d-9870b0b8bbaf",
   "metadata": {},
   "outputs": [
    {
     "name": "stdout",
     "output_type": "stream",
     "text": [
      "[1, 2, 3, 4, 5, 6]\n"
     ]
    }
   ],
   "source": [
    "a_list = [1,2,5,4,3,6]\n",
    "a_list\n",
    "a_list[2],a_list[4]=a_list[4],a_list[2]\n",
    "print(a_list)"
   ]
  },
  {
   "cell_type": "code",
   "execution_count": 66,
   "id": "647799a3-4c97-45b8-8aba-6fe2013ea892",
   "metadata": {},
   "outputs": [
    {
     "name": "stdout",
     "output_type": "stream",
     "text": [
      "(1, \"Кто битым жизнью был,\" )\n",
      "(2, \"тот большего добьётся,\" )\n",
      "(3, \"Пуд соли съевший выше ценит мёд.\")\n",
      "(4, \"Кто слёзы лил, тот искренней смеётся,\") \n",
      "(5, \"Кто умирал, тот знает, что живёт.\")\n"
     ]
    }
   ],
   "source": [
    "stih ='''(2, \"тот большего добьётся,\" )\n",
    "(5, \"Кто умирал, тот знает, что живёт.\")\n",
    "(1, \"Кто битым жизнью был,\" )\n",
    "(3, \"Пуд соли съевший выше ценит мёд.\")\n",
    "(4, \"Кто слёзы лил, тот искренней смеётся,\") '''\n",
    "n_stih = stih.split('\\n')\n",
    "n_stih.sort()\n",
    "print('\\n'.join(n_stih))\n"
   ]
  },
  {
   "cell_type": "code",
   "execution_count": 74,
   "id": "3d93b655-a45d-4433-af80-e4e4267d7ae0",
   "metadata": {},
   "outputs": [
    {
     "name": "stdout",
     "output_type": "stream",
     "text": [
      "['Кто дошик ел, тот рейтинг ценит свой.', 'Кто крашился, тот знает, что живой.', ['Пуд багов съевший, выше ценит чистый код.', 'Кто дошик ел, тот рейтинг ценит свой.']]\n",
      "Кто битым за дедлайн был,\n",
      "тот больше не сольется.\n",
      "Пуд багов съевший, выше ценит чистый код.\n",
      "Кто крашился, тот знает, что живой.\n"
     ]
    }
   ],
   "source": [
    "true_story_list = ['Пуд багов съевший, выше ценит чистый код.']\n",
    "true_story_list.append('Кто дошик ел, тот рейтинг ценит свой.')\n",
    "true_story_slice = ['Кто дошик ел, тот рейтинг ценит свой.','Кто крашился, тот знает, что живой.']\n",
    "true_story_slice.append(true_story_list)\n",
    "print(true_story_slice)\n",
    "true_story_list.insert(0,'Кто битым за дедлайн был,')\n",
    "del true_story_list[-1]\n",
    "true_story_list.insert(1,'тот больше не сольется.')\n",
    "true_story_tail = ['Кто крашился, тот знает, что живой.']*2\n",
    "true_story_list.extend(true_story_tail)\n",
    "del true_story_list[4]\n",
    "print('\\n'.join(true_story_list))\n",
    "\n"
   ]
  },
  {
   "cell_type": "code",
   "execution_count": null,
   "id": "0dcbc8ac-ef87-4a80-a563-fdfd2b2a756c",
   "metadata": {},
   "outputs": [],
   "source": []
  }
 ],
 "metadata": {
  "kernelspec": {
   "display_name": "Python 3 (ipykernel)",
   "language": "python",
   "name": "python3"
  },
  "language_info": {
   "codemirror_mode": {
    "name": "ipython",
    "version": 3
   },
   "file_extension": ".py",
   "mimetype": "text/x-python",
   "name": "python",
   "nbconvert_exporter": "python",
   "pygments_lexer": "ipython3",
   "version": "3.10.10"
  }
 },
 "nbformat": 4,
 "nbformat_minor": 5
}
