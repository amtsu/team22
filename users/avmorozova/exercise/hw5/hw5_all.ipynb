{
 "cells": [
  {
   "cell_type": "code",
   "execution_count": 2,
   "id": "a4cf6b2a-2df5-4058-9f2a-53cca2410552",
   "metadata": {},
   "outputs": [
    {
     "name": "stdout",
     "output_type": "stream",
     "text": [
      "несовршеннолетний\n"
     ]
    }
   ],
   "source": [
    "person = {'name':'Ann','age':33,'city':'SPb'}\n",
    "if person['age'] >= 18 :\n",
    "    print('несовршеннолетний') \n",
    "if person['age'] < 18:\n",
    "    print('несоврешеннолетний')\n",
    "    \n"
   ]
  },
  {
   "cell_type": "code",
   "execution_count": 5,
   "id": "7c699ec1-bf6f-41b9-b7c8-2be6a15184ba",
   "metadata": {},
   "outputs": [
    {
     "name": "stdout",
     "output_type": "stream",
     "text": [
      "set1 больше set2\n"
     ]
    }
   ],
   "source": [
    "set1 = {\"красный\", \"оранжевый\", \"желтый\", \"зеленый\", \"голубой\", \"синий\", \"фиолетовый\"}\n",
    "set2 = {\"оранжевый\", \"зеленый\", \"голубой\", \"синий\", \"Мальвиновый\"}\n",
    "if len(set1) > len(set2) :\n",
    "    print('set1 больше set2')\n",
    "if len(set1) < len(set2) :\n",
    "    print('set2 больше set1')\n",
    "if len(set1) == len(set2) :\n",
    "    print('set1 равно set2')"
   ]
  },
  {
   "cell_type": "code",
   "execution_count": 6,
   "id": "160aac52-ed43-4603-b0c8-40f73d6d2403",
   "metadata": {},
   "outputs": [
    {
     "name": "stdout",
     "output_type": "stream",
     "text": [
      "{'яблоко': 5, 'банан': 10, 'апельсин': 7, 'груша': 3}\n"
     ]
    }
   ],
   "source": [
    "#\n",
    "fruits_quantity = {\"яблоко\": 5, \"банан\": 10, \"апельсин\": 7} \n",
    "if not fruits_quantity.get('груша'):\n",
    "    fruits_quantity['груша'] = 3\n",
    "print(fruits_quantity)\n",
    "    \n"
   ]
  },
  {
   "cell_type": "code",
   "execution_count": 1,
   "id": "0e2bb1af-dccd-4f90-87b9-2ca2c958f60f",
   "metadata": {},
   "outputs": [
    {
     "name": "stdout",
     "output_type": "stream",
     "text": [
      "банан дорогой продукт\n"
     ]
    }
   ],
   "source": [
    "#Выведите сообщение \"Дорогой товар\" для продуктов, цена которых превышает 1.5.\n",
    "fruits_prices = {\"яблоко\": 1.5, \"банан\": 2, \"апельсин\": 1.2}\n",
    "for key, value in fruits_prices .items():\n",
    "    if value > 1.5:\n",
    "        print(f\"{key} дорогой продукт\")\n",
    "\n",
    "    "
   ]
  },
  {
   "cell_type": "code",
   "execution_count": 5,
   "id": "1895f492-7c28-4a25-a0f2-f77b7c9122b9",
   "metadata": {},
   "outputs": [
    {
     "name": "stdout",
     "output_type": "stream",
     "text": [
      "Муж купил 1 батон хлеба\n",
      "Муж  купил 10 яиц\n",
      "В магазине осталось 19 батонов хлеба и 30 яиц\n"
     ]
    }
   ],
   "source": [
    "#Задайте словарь Seven11 с таким содержанием {\"яйца\": 40, \"батон хлеба\" : 20}\n",
    "\t # Жена отправляет мужа-программиста в севенэлевен:\n",
    "\t #— Купи батон хлеба, если будут яйца — возьми десяток.\n",
    "\t#Выведите на экран, сколько хлеба купил муж-программист, и сколько хлеба и яиц осталось в магазине.\n",
    "\n",
    "Seven11 = {\"яйца\": 40, \"батон хлеба\" : 20}\n",
    "kol_hleba = 1\n",
    "if Seven11[\"батон хлеба\"] >= kol_hleba:\n",
    "    Seven11[\"батон хлеба\"] -= kol_hleba\n",
    "    print(f\"Муж купил {kol_hleba} батон хлеба\")\n",
    "if Seven11[\"яйца\"] >=10:\n",
    "     Seven11[\"яйца\"] -=10\n",
    "     print(\"Муж  купил 10 яиц\")\n",
    "else: print(\"В магазине не хватает яиц\")\n",
    "print(f\"В магазине осталось {Seven11['батон хлеба']} батонов хлеба и {Seven11['яйца']} яиц\")\n",
    "        "
   ]
  },
  {
   "cell_type": "code",
   "execution_count": 2,
   "id": "24feaa9a-1d21-4578-8bb9-e5e82abb8a5c",
   "metadata": {},
   "outputs": [
    {
     "name": "stdout",
     "output_type": "stream",
     "text": [
      "Совершеннолетний\n"
     ]
    }
   ],
   "source": [
    "#6 Напишите условие, которое проверяет возраст студента \"Иванова\" и выводит сообщение \"Совершеннолетний\" или \"Несовершеннолетний\".\n",
    "students = {\"Иванов\": 18, \"Сидорова\":13, \"Лавандов\": 3, \"Мукин\": 84}\n",
    "if \"Иванов\" in students:\n",
    "    age = students[\"Иванов\"]\n",
    "if age >= 18:\n",
    "    print(\"Совершеннолетний\")\n",
    "else:\n",
    "    print(\"Несовершеннолетний\")"
   ]
  },
  {
   "cell_type": "code",
   "execution_count": 4,
   "id": "4eff7cb9-a475-4302-b02d-10390f1dc5e4",
   "metadata": {},
   "outputs": [
    {
     "name": "stdout",
     "output_type": "stream",
     "text": [
      "1\n",
      "2\n",
      "3\n",
      "4\n",
      "5\n"
     ]
    }
   ],
   "source": [
    "#Напишите цикл for, который выводит все элементы множества set1.\n",
    "set1 = {1, 2, 3, 4, 5}\n",
    "for el in set1:\n",
    "    print(el)"
   ]
  },
  {
   "cell_type": "code",
   "execution_count": 6,
   "id": "cc5fdc1d-22c5-473d-b1f1-8b7f11c80a5d",
   "metadata": {},
   "outputs": [
    {
     "name": "stdout",
     "output_type": "stream",
     "text": [
      "1\n",
      "4\n",
      "9\n",
      "16\n",
      "25\n"
     ]
    }
   ],
   "source": [
    "#Напишите цикл while, который выводит квадраты чисел от 1 до 5.\n",
    "i = 1\n",
    "while i<=5:\n",
    "    print(i*i)\n",
    "    i+=1"
   ]
  },
  {
   "cell_type": "code",
   "execution_count": 8,
   "id": "c717fd9e-f1a6-4872-987e-cf6047147dba",
   "metadata": {},
   "outputs": [
    {
     "name": "stdout",
     "output_type": "stream",
     "text": [
      "яблоко\n",
      "банан\n",
      "апельсин\n"
     ]
    }
   ],
   "source": [
    "#Напишите цикл for, который перебирает все ключи словаря fruits_quantity и выводит каждый товар\n",
    "fruits_quantity = {\"яблоко\": 5, \"банан\": 10, \"апельсин\": 7}\n",
    "for el in fruits_quantity:\n",
    "    print(el)"
   ]
  },
  {
   "cell_type": "code",
   "execution_count": 9,
   "id": "b2d22309-294c-4dc5-addd-0a88583a9428",
   "metadata": {},
   "outputs": [
    {
     "name": "stdout",
     "output_type": "stream",
     "text": [
      "банан - дорогой товар\n"
     ]
    }
   ],
   "source": [
    "#Выведите сообщение \"%название фрукта% - дорогой товар\"\n",
    "#для фруктов из fruit_prices,цена которых превышает 1.5, \n",
    "#подставив вместо %название фрукта% название соответствующих \"дорогих\" фруктов\n",
    "fruits_prices = {\"яблоко\": 1.5, \"банан\": 2, \"апельсин\": 1.2}\n",
    "for key, value in fruits_prices .items():\n",
    "    if value > 1.5:\n",
    "     print(f\"{key} - дорогой товар\")"
   ]
  },
  {
   "cell_type": "code",
   "execution_count": 14,
   "id": "c701c1c4-e004-40c2-87c9-9e04c9eccfcc",
   "metadata": {},
   "outputs": [
    {
     "name": "stdout",
     "output_type": "stream",
     "text": [
      "35.9\n"
     ]
    }
   ],
   "source": [
    "#Посчитайте стоимость всех фруктов, имеющихся в наличии\n",
    "fruits_prices = {\"яблоко\": 1.5, \"банан\": 2, \"апельсин\": 1.2}\n",
    "fruits_quantity = {\"яблоко\": 5, \"банан\": 10, \"апельсин\": 7}\n",
    "total = 0\n",
    "for fruit, quantity in fruits_quantity .items():\n",
    "    if fruit in fruits_prices:\n",
    "     total += quantity * fruits_prices[fruit]\n",
    "print(total)"
   ]
  },
  {
   "cell_type": "code",
   "execution_count": 16,
   "id": "21f205ad-a869-4ecf-8b91-dec58a8251e6",
   "metadata": {},
   "outputs": [
    {
     "name": "stdout",
     "output_type": "stream",
     "text": [
      "Иванов - 22 лет\n",
      "Петрова - 21 лет\n",
      "Сидоров - 23 лет\n"
     ]
    }
   ],
   "source": [
    "#6 Используя цикл for, выведите всех студентов и их возраст из словаря students.\n",
    "students = {\"Иванов\": 22, \"Петрова\": 21, \"Сидоров\": 23}\n",
    "for name, age in students.items():\n",
    "    print(f\"{name} - {age} лет\")"
   ]
  },
  {
   "cell_type": "markdown",
   "id": "c02046a5-2b00-4290-ad4d-41ad0b7d4337",
   "metadata": {},
   "source": [
    "\n",
    "\r\n",
    "Создайте функции set_union и set_difference для операций объединения и разности множеств.\r\n",
    "   - Функции должны принимать два множества и возвращать соответствующий результат.\r\n",
    "Создайте функцию is_subset для проверки, является ли одно множество подмножеством другого.\r\n",
    "Создайте функцию для объединения нескольких множеств.\r\n",
    "Создайте функцию для удаления конкретного элемента из множества.\r\n",
    "Создайте функцию для поиска пересечения нескольких множеств.\r\n",
    "Создайте функцию для проверки на равенство двух множеств.\r\n",
    "Создайте функцию для нахождения объединения трех множеств.\r\n",
    "Создайте функцию для проверки, являются ли два множества дизъюнктными (не имеют общих элементов).\r\n",
    "Создайте функцию для нахождения разности двух множеств.\r\n",
    "Создайте функцию для определения симметрической разности двух множеств.\r\n",
    "Создайте функцию create_set для создания множества с заданными элементами.\r\n",
    "   - Функция должна принимать переменное количество аргументов и возвращать новое множество."
   ]
  },
  {
   "cell_type": "code",
   "execution_count": 17,
   "id": "b8005aac-d74e-4e39-86f7-5d3e00fa46d9",
   "metadata": {},
   "outputs": [
    {
     "name": "stdout",
     "output_type": "stream",
     "text": [
      "Объединение множеств: {1, 2, 3, 4, 5, 6, 7, 8}\n",
      "Разность множеств: {1, 2, 3}\n"
     ]
    }
   ],
   "source": [
    "#1 Создайте функции set_union и set_difference для операций объединения и разности множеств.\n",
    "set1 = {1, 2, 3, 4, 5}\n",
    "set2 = {4, 5, 6, 7, 8}\n",
    "def set_union(set1, set2):\n",
    "    return set1.union(set2)\n",
    "def set_difference(set1, set2):\n",
    "    return set1.difference(set2)\n",
    "print(\"Объединение множеств:\", set_union(set1, set2))\n",
    "print(\"Разность множеств:\", set_difference(set1, set2))"
   ]
  },
  {
   "cell_type": "code",
   "execution_count": 18,
   "id": "0f8d2b6f-f8f0-44da-8fcf-c0a5a479b508",
   "metadata": {},
   "outputs": [
    {
     "name": "stdout",
     "output_type": "stream",
     "text": [
      "set1 не является подмножеством set2\n"
     ]
    }
   ],
   "source": [
    "#2 Создайте функцию is_subset для проверки, является ли одно множество подмножеством другого\n",
    "def is_subset(set1, set2):\n",
    "    return set1.issubset(set2) #Эта функция использует метод `issubset`, который возвращает `True`, если все элементы множества `set1` также присутствуют в множестве `set2`, и `False` в противном случае.\n",
    "if is_subset(set1, set2):\n",
    "    print(\"set1 является подмножеством set2\")\n",
    "else:\n",
    "    print(\"set1 не является подмножеством set2\")\n",
    "    "
   ]
  },
  {
   "cell_type": "code",
   "execution_count": 19,
   "id": "0c57a887-8463-4f3e-b722-f90b1ef13fbe",
   "metadata": {},
   "outputs": [
    {
     "name": "stdout",
     "output_type": "stream",
     "text": [
      "{1, 2, 3, 4, 5, 6, 7, 8}\n"
     ]
    }
   ],
   "source": [
    "#3 Создайте функцию для объединения нескольких множеств.\n",
    "def set_union(set1, set2):\n",
    "    return set1 | set2\n",
    "result = set1 | set2\n",
    "print(result)"
   ]
  },
  {
   "cell_type": "code",
   "execution_count": 20,
   "id": "5291cafd-eb41-4da2-8e44-0b7242a23c2c",
   "metadata": {},
   "outputs": [
    {
     "name": "stdout",
     "output_type": "stream",
     "text": [
      "Исходное множество: {1, 2, 3, 4, 5}\n",
      "Элемент 3 успешно удален из множества.\n",
      "Обновленное множество: {1, 2, 4, 5}\n"
     ]
    }
   ],
   "source": [
    "#4 Создайте функцию для удаления конкретного элемента из множества.\n",
    "def remove_element(some_set, element):\n",
    "    if element in some_set:\n",
    "        some_set .remove(element)\n",
    "        return True\n",
    "    else:\n",
    "        return False\n",
    "set1 = {1, 2, 3, 4, 5}\n",
    "element_to_remove = 3\n",
    "print(\"Исходное множество:\", set1)\n",
    "if remove_element(set1, element_to_remove):\n",
    "    print(f\"Элемент {element_to_remove} успешно удален из множества.\")\n",
    "    print(\"Обновленное множество:\",set1)\n",
    "else:\n",
    "    print(f\"Элемент{element_to_remove} не найден в множестве\")"
   ]
  },
  {
   "cell_type": "code",
   "execution_count": 21,
   "id": "26007916-ba28-495f-96d3-78d042fc0578",
   "metadata": {},
   "outputs": [
    {
     "name": "stdout",
     "output_type": "stream",
     "text": [
      "{3, 4, 5}\n"
     ]
    }
   ],
   "source": [
    "#5 Создайте функцию для поиска пересечения нескольких множеств\n",
    "def find_intersection(set1, set2):\n",
    "    return set1 .intersection(set2)\n",
    "set1 = {1, 2, 3, 4, 5} \n",
    "set2 = {3, 4, 5, 6, 7}\n",
    "intersection_set = find_intersection(set1, set2)    \n",
    "print(intersection_set)"
   ]
  },
  {
   "cell_type": "code",
   "execution_count": 22,
   "id": "1c4be1ba-a648-4578-b398-2a81ea636ae7",
   "metadata": {},
   "outputs": [
    {
     "name": "stdout",
     "output_type": "stream",
     "text": [
      "False\n"
     ]
    }
   ],
   "source": [
    "#6 Создайте функцию для проверки на равенство двух множеств.\n",
    "def check_equality(set1, set2):\n",
    "    return set1 == set2\n",
    "set1 = {1, 2, 3}\n",
    "set1 = {3, 2, 1}\n",
    "result = check_equality(set1, set2)\n",
    "print(result)"
   ]
  },
  {
   "cell_type": "code",
   "execution_count": 24,
   "id": "a202e9e2-5b48-4553-b915-2741a1051fa6",
   "metadata": {},
   "outputs": [
    {
     "name": "stdout",
     "output_type": "stream",
     "text": [
      "{1, 2, 3, 4, 5, 6, 7}\n"
     ]
    }
   ],
   "source": [
    "#7 Создайте функцию для нахождения объединения трех множеств.\n",
    "def union_of_sets(set1, set2, set3):\n",
    "    return set1 .union(set1, set2, set3)\n",
    "set1 = {1, 2, 3}\n",
    "set2 = {3, 4, 5}\n",
    "set3 = {5, 6, 7}\n",
    "result = union_of_sets(set1, set2, set3)\n",
    "print(result)"
   ]
  },
  {
   "cell_type": "code",
   "execution_count": 25,
   "id": "cbee2bc7-a37d-42ab-9303-2f98bda749d6",
   "metadata": {},
   "outputs": [
    {
     "name": "stdout",
     "output_type": "stream",
     "text": [
      "Множества не дизъюктивны\n"
     ]
    }
   ],
   "source": [
    "#8 Создайте функцию для проверки, являются ли два множества дизъюнктными (не имеют общих элементов).\n",
    "def is_disJoint(set1, set2):\n",
    "    return set1 .isdisjoint(set2) \n",
    "set1 = {1, 2, 3}\n",
    "set2 = {3, 4, 5}\n",
    "if is_disJoint(set1, set2):\n",
    "    print(\"Множества дизъюктивны\")\n",
    "else:\n",
    "    print(\"Множества не дизъюктивны\")"
   ]
  },
  {
   "cell_type": "code",
   "execution_count": 27,
   "id": "d1391de5-9d55-49ef-808e-77c064d38e98",
   "metadata": {},
   "outputs": [
    {
     "name": "stdout",
     "output_type": "stream",
     "text": [
      "{1, 2}\n"
     ]
    }
   ],
   "source": [
    "#9 Создайте функцию для нахождения разности двух множеств.\n",
    "def set_difference(set1, set2):\n",
    "    return set1 - set2\n",
    "set1 = {1, 2, 3}\n",
    "set2 = {3, 4, 5}\n",
    "result = set_difference(set1, set2)\n",
    "print(result)"
   ]
  },
  {
   "cell_type": "code",
   "execution_count": 28,
   "id": "7868cab4-1162-4104-8269-db9cd722e557",
   "metadata": {},
   "outputs": [
    {
     "name": "stdout",
     "output_type": "stream",
     "text": [
      "{1, 2, 6, 7}\n"
     ]
    }
   ],
   "source": [
    "#10 Создайте функцию для определения симметрической разности двух множеств.\n",
    "def symmetric_difference(set1, set2):\n",
    "    return set1 .symmetric_difference(set2)\n",
    "set1 = {1, 2, 3, 4, 5} \n",
    "set2 = {3, 4, 5, 6, 7}    \n",
    "result = symmetric_difference(set1, set2)\n",
    "print(result)"
   ]
  },
  {
   "cell_type": "code",
   "execution_count": 29,
   "id": "80c76e6c-cafc-420d-8a0c-9d47d1d4b4c9",
   "metadata": {},
   "outputs": [
    {
     "name": "stdout",
     "output_type": "stream",
     "text": [
      "{1, 2, 3, 4, 5}\n"
     ]
    }
   ],
   "source": [
    "#11 Создайте функцию create_set для создания множества с заданными элементами.\n",
    "#- Функция должна принимать переменное количество аргументов и возвращать новое множество.\n",
    "def create_set(*elements):\n",
    "    return set(elements)\n",
    "set1 = create_set(1, 2, 3, 4, 5)  \n",
    "print(set1)"
   ]
  },
  {
   "cell_type": "code",
   "execution_count": null,
   "id": "8e82c640-6416-4b76-8cc6-c225476418d7",
   "metadata": {},
   "outputs": [],
   "source": []
  }
 ],
 "metadata": {
  "kernelspec": {
   "display_name": "Python 3 (ipykernel)",
   "language": "python",
   "name": "python3"
  },
  "language_info": {
   "codemirror_mode": {
    "name": "ipython",
    "version": 3
   },
   "file_extension": ".py",
   "mimetype": "text/x-python",
   "name": "python",
   "nbconvert_exporter": "python",
   "pygments_lexer": "ipython3",
   "version": "3.10.10"
  }
 },
 "nbformat": 4,
 "nbformat_minor": 5
}
