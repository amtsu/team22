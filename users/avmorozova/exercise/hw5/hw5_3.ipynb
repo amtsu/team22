{
 "cells": [
  {
   "cell_type": "code",
   "execution_count": 2,
   "id": "a4cf6b2a-2df5-4058-9f2a-53cca2410552",
   "metadata": {},
   "outputs": [
    {
     "name": "stdout",
     "output_type": "stream",
     "text": [
      "несовршеннолетний\n"
     ]
    }
   ],
   "source": [
    "person = {'name':'Ann','age':33,'city':'SPb'}\n",
    "if person['age'] >= 18 :\n",
    "    print('несовршеннолетний') \n",
    "if person['age'] < 18:\n",
    "    print('несоврешеннолетний')\n",
    "    \n"
   ]
  },
  {
   "cell_type": "code",
   "execution_count": 5,
   "id": "7c699ec1-bf6f-41b9-b7c8-2be6a15184ba",
   "metadata": {},
   "outputs": [
    {
     "name": "stdout",
     "output_type": "stream",
     "text": [
      "set1 больше set2\n"
     ]
    }
   ],
   "source": [
    "set1 = {\"красный\", \"оранжевый\", \"желтый\", \"зеленый\", \"голубой\", \"синий\", \"фиолетовый\"}\n",
    "set2 = {\"оранжевый\", \"зеленый\", \"голубой\", \"синий\", \"Мальвиновый\"}\n",
    "if len(set1) > len(set2) :\n",
    "    print('set1 больше set2')\n",
    "if len(set1) < len(set2) :\n",
    "    print('set2 больше set1')\n",
    "if len(set1) == len(set2) :\n",
    "    print('set1 равно set2')"
   ]
  },
  {
   "cell_type": "code",
   "execution_count": 6,
   "id": "160aac52-ed43-4603-b0c8-40f73d6d2403",
   "metadata": {},
   "outputs": [
    {
     "name": "stdout",
     "output_type": "stream",
     "text": [
      "{'яблоко': 5, 'банан': 10, 'апельсин': 7, 'груша': 3}\n"
     ]
    }
   ],
   "source": [
    "#\n",
    "fruits_quantity = {\"яблоко\": 5, \"банан\": 10, \"апельсин\": 7} \n",
    "if not fruits_quantity.get('груша'):\n",
    "    fruits_quantity['груша'] = 3\n",
    "print(fruits_quantity)\n",
    "    \n"
   ]
  },
  {
   "cell_type": "code",
   "execution_count": 20,
   "id": "0e2bb1af-dccd-4f90-87b9-2ca2c958f60f",
   "metadata": {},
   "outputs": [
    {
     "name": "stdout",
     "output_type": "stream",
     "text": [
      "{'яблоко': 1.5, 'банан': [2, 'дорогой товар'], 'апельсин': 1.2}\n"
     ]
    }
   ],
   "source": [
    "#Выведите сообщение \"Дорогой товар\" для продуктов, цена которых превышает 1.5.\n",
    "fruits_prices = {\"яблоко\": 1.5, \"банан\": 2, \"апельсин\": 1.2}\n",
    "for key in fruits_prices.keys():\n",
    "    if fruits_prices[key] > 1.5:\n",
    "        fruits_prices[key] = [fruits_prices[key],'дорогой товар']\n",
    "        print(fruits_prices)\n",
    "\n",
    "    "
   ]
  },
  {
   "cell_type": "code",
   "execution_count": 32,
   "id": "1895f492-7c28-4a25-a0f2-f77b7c9122b9",
   "metadata": {},
   "outputs": [],
   "source": [
    "#Задайте словарь Seven11 с таким содержанием {\"яйца\": 40, \"батон хлеба\" : 20}\n",
    "\t # Жена отправляет мужа-программиста в севенэлевен:\n",
    "\t #— Купи батон хлеба, если будут яйца — возьми десяток.\n",
    "\t#Выведите на экран, сколько хлеба купил муж-программист, и сколько хлеба и яиц осталось в магазине.\n",
    "\n",
    "seven11 = {\"яйца\": 40, \"батон хлеба\" : 20}\n",
    "for pop in seven11.keys() :\n",
    "    if seven11[pop] == \"батон хлеба\":\n",
    "        seven11[key] = [seven11[key] - 1]\n",
    "    if seven11[pop] == \"яйца\":\n",
    "        seven11[key] = [seven11[key] - 10]\n",
    "         \n",
    "        print(seven11)\n",
    "        "
   ]
  },
  {
   "cell_type": "code",
   "execution_count": null,
   "id": "24feaa9a-1d21-4578-8bb9-e5e82abb8a5c",
   "metadata": {},
   "outputs": [],
   "source": []
  }
 ],
 "metadata": {
  "kernelspec": {
   "display_name": "Python 3 (ipykernel)",
   "language": "python",
   "name": "python3"
  },
  "language_info": {
   "codemirror_mode": {
    "name": "ipython",
    "version": 3
   },
   "file_extension": ".py",
   "mimetype": "text/x-python",
   "name": "python",
   "nbconvert_exporter": "python",
   "pygments_lexer": "ipython3",
   "version": "3.10.10"
  }
 },
 "nbformat": 4,
 "nbformat_minor": 5
}
