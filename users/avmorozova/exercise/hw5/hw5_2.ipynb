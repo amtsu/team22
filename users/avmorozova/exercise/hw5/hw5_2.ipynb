{
 "cells": [
  {
   "cell_type": "code",
   "execution_count": 2,
   "id": "0eb63252-2a56-4e6b-ae94-3310c68fcf0b",
   "metadata": {},
   "outputs": [],
   "source": [
    "person = {\"name\":'Anna', \"age\":33, \"city\":'SPb'} \n"
   ]
  },
  {
   "cell_type": "code",
   "execution_count": 3,
   "id": "6f20af00-80b6-4602-90d2-5367c0e9d5b8",
   "metadata": {},
   "outputs": [
    {
     "data": {
      "text/plain": [
       "{'name': 'Anna', 'age': 33, 'city': 'SPb', 'email': 'anet676@mail.ru'}"
      ]
     },
     "execution_count": 3,
     "metadata": {},
     "output_type": "execute_result"
    }
   ],
   "source": [
    "person['email'] = 'anet676@mail.ru'\n",
    "person"
   ]
  },
  {
   "cell_type": "code",
   "execution_count": 4,
   "id": "66c957a1-d929-4b29-9345-025876db2698",
   "metadata": {},
   "outputs": [
    {
     "data": {
      "text/plain": [
       "{'name': 'Anna', 'age': 33, 'email': 'anet676@mail.ru'}"
      ]
     },
     "execution_count": 4,
     "metadata": {},
     "output_type": "execute_result"
    }
   ],
   "source": [
    "person.pop('city')\n",
    "person"
   ]
  },
  {
   "cell_type": "code",
   "execution_count": 5,
   "id": "2ec39aec-f71c-443b-b1ef-17cd0963e319",
   "metadata": {},
   "outputs": [],
   "source": [
    "interventory = {\"яблоко\": 5, \"банан\": 10, \"апельсин\": 7}"
   ]
  },
  {
   "cell_type": "code",
   "execution_count": 6,
   "id": "8bf09d61-9779-439e-a901-c675e630ea28",
   "metadata": {},
   "outputs": [
    {
     "data": {
      "text/plain": [
       "{'яблоко': 5, 'банан': 13, 'апельсин': 7}"
      ]
     },
     "execution_count": 6,
     "metadata": {},
     "output_type": "execute_result"
    }
   ],
   "source": [
    "interventory['банан'] = interventory['банан']+3\n",
    "interventory"
   ]
  },
  {
   "cell_type": "code",
   "execution_count": 7,
   "id": "f3c8290f-979a-4df9-9d7f-81a03f90ab2a",
   "metadata": {},
   "outputs": [],
   "source": [
    "price = {\"яблоко\": 1.5, \"банан\": 2, \"апельсин\": 1.2}"
   ]
  },
  {
   "cell_type": "code",
   "execution_count": 8,
   "id": "d5c2e92f-7e4d-4917-abaf-110ecdbb1e45",
   "metadata": {},
   "outputs": [],
   "source": [
    "students = {\"Иванов\": 22, \"Петрова\": 13, \"Сидоров\": 23}"
   ]
  },
  {
   "cell_type": "code",
   "execution_count": 9,
   "id": "94326fe1-02cb-43cf-89fe-a236419b1486",
   "metadata": {},
   "outputs": [
    {
     "data": {
      "text/plain": [
       "{'Иванов': 22, 'Петрова': 13, 'Сидоров': 23, 'смирнова': 20}"
      ]
     },
     "execution_count": 9,
     "metadata": {},
     "output_type": "execute_result"
    }
   ],
   "source": [
    "students['смирнова'] = 20\n",
    "students"
   ]
  },
  {
   "cell_type": "code",
   "execution_count": 10,
   "id": "8c486611-a139-457d-aaea-382773f542b4",
   "metadata": {},
   "outputs": [
    {
     "data": {
      "text/plain": [
       "{'Иванов': 22, 'Сидоров': 23, 'смирнова': 20}"
      ]
     },
     "execution_count": 10,
     "metadata": {},
     "output_type": "execute_result"
    }
   ],
   "source": [
    "students.pop('Петрова')\n",
    "students"
   ]
  },
  {
   "cell_type": "code",
   "execution_count": null,
   "id": "85f920bc-9fa9-4465-8895-71f1ae39ee22",
   "metadata": {},
   "outputs": [],
   "source": []
  }
 ],
 "metadata": {
  "kernelspec": {
   "display_name": "Python 3 (ipykernel)",
   "language": "python",
   "name": "python3"
  },
  "language_info": {
   "codemirror_mode": {
    "name": "ipython",
    "version": 3
   },
   "file_extension": ".py",
   "mimetype": "text/x-python",
   "name": "python",
   "nbconvert_exporter": "python",
   "pygments_lexer": "ipython3",
   "version": "3.10.10"
  }
 },
 "nbformat": 4,
 "nbformat_minor": 5
}
