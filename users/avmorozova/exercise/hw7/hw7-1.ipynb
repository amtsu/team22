{
 "cells": [
  {
   "cell_type": "code",
   "execution_count": 9,
   "id": "4d73779e-57bf-4dc7-a313-f16d30455c13",
   "metadata": {},
   "outputs": [
    {
     "name": "stdout",
     "output_type": "stream",
     "text": [
      "1\n",
      "2\n",
      "3\n",
      "4\n",
      "5\n",
      "6\n",
      "7\n",
      "8\n",
      "9\n"
     ]
    },
    {
     "data": {
      "text/plain": [
       "' for i in range(len(matrix))\\n        for j in range(len(matrix[i])\\n            print(matrix[i][j])'"
      ]
     },
     "execution_count": 9,
     "metadata": {},
     "output_type": "execute_result"
    }
   ],
   "source": [
    "'''Задание 1. Написать функцию для вывода двумерной матрицы по столбцам, \n",
    "#не используя индексацию (с помощью [] или любым другим способом получения\n",
    "элемента по заданному индексу).\n",
    "Функция должна принимать на вход список и ничего не возвращать\n",
    "'''\n",
    "def print_matrix(matrix):\n",
    "    '''\n",
    "    это функция, печатающая двумерный список matrix по столбцам\n",
    "    '''\n",
    "\n",
    "    num_cols = len(matrix[0])\n",
    "    num_rows = len(matrix)\n",
    "\n",
    "    for col in range(num_cols):\n",
    "        for row in range(num_rows):\n",
    "            print(matrix[row][col])\n",
    "            #print(\"=\"*30)\n",
    "\n",
    "matrix = [[1,4,7,],[2,5,8,],[3,6,9,]]\n",
    "\n",
    "print_matrix(matrix)\n",
    "#второй вариант\n",
    "''' for i in range(len(matrix))\n",
    "        for j in range(len(matrix[i])\n",
    "            print(matrix[i][j])'''\n",
    "  \n",
    "\n",
    "\n",
    "\n"
   ]
  },
  {
   "cell_type": "code",
   "execution_count": 2,
   "id": "bfc7b53c-dd3c-4c7b-92a5-35d55cd28597",
   "metadata": {},
   "outputs": [
    {
     "name": "stdout",
     "output_type": "stream",
     "text": [
      "Функция ten_times() вызвана 1 раз\n",
      "Функция ten_times() вызвана 2 раз\n",
      "Функция ten_times() вызвана 3 раз\n",
      "Функция ten_times() вызвана 4 раз\n",
      "Функция ten_times() вызвана 5 раз\n",
      "Функция ten_times() вызвана 6 раз\n",
      "Функция ten_times() вызвана 7 раз\n",
      "Функция ten_times() вызвана 8 раз\n",
      "Функция ten_times() вызвана 9 раз\n",
      "Функция ten_times() вызвана 10 раз\n"
     ]
    }
   ],
   "source": [
    "'''\n",
    "Задание 2. Напишите функцию, вызывающую саму себя 10 раз;\n",
    "функция должна вызываться как ten_times() и ничего не возвращать;\n",
    "'''\n",
    "\n",
    "def ten_times(i=0):\n",
    "    if i < 10:\n",
    "        print(\"Функция ten_times() вызвана {} раз\".format(i+1))\n",
    "        ten_times(i+1)\n",
    "\n",
    "ten_times()\n",
    "#проверка\n",
    "\n",
    "        "
   ]
  },
  {
   "cell_type": "code",
   "execution_count": null,
   "id": "fa54ce22-b11d-4e91-9293-e6dd2e03a16a",
   "metadata": {},
   "outputs": [],
   "source": [
    "Задание 3.\n",
    "'''\n",
    "# дан отрывок кода\n",
    "a_haiku = [\"Всё глазел на них\",\n",
    "\"Сакуры цветы, пока\",\n",
    "\"Шею не свело\"]\n",
    "\n",
    "def print_haiku(haiku):\n",
    "    for line in haiku:\n",
    "        print(line)\n",
    "\n",
    "print_haiku(a_haiku)\n",
    "\n",
    "'''\n",
    "Модифицируйте функцию print_haiku таким образом, чтобы можно было \n",
    "выполнять произвольное преобразование над выводом строк.\n",
    "Посторайтесь сильно не менять код print_haiku()\n",
    "Выведите с помощью модифицированной функции print_haiku все строки хайку :\n",
    " - заглавными буквами\n",
    " - только каждый третий символ строк\n",
    " - красным цветом (https://habr.com/ru/sandbox/158854/, первый раздел)'''"
   ]
  },
  {
   "cell_type": "code",
   "execution_count": 5,
   "id": "d4c3ca33-3835-4b6f-b728-39817872bc80",
   "metadata": {},
   "outputs": [
    {
     "name": "stdout",
     "output_type": "stream",
     "text": [
      "Всё глазел на них\n",
      "Сакуры цветы, пока\n",
      "Шею не свело\n"
     ]
    }
   ],
   "source": [
    "a_haiku = [\"Всё глазел на них\",\n",
    "\"Сакуры цветы, пока\",\n",
    "\"Шею не свело\"]\n",
    "\n",
    "def print_haiku(haiku):\n",
    "    for line in haiku:\n",
    "        print(line)\n",
    "\n",
    "print_haiku(a_haiku)"
   ]
  },
  {
   "cell_type": "code",
   "execution_count": 7,
   "id": "760e9f6c-af48-407e-950b-1ed4ac2a6ad1",
   "metadata": {},
   "outputs": [
    {
     "name": "stdout",
     "output_type": "stream",
     "text": [
      "ВСЁ ГЛАЗЕЛ НА НИХ\n",
      "САКУРЫ ЦВЕТЫ, ПОКА\n",
      "ШЕЮ НЕ СВЕЛО\n"
     ]
    }
   ],
   "source": [
    "a_haiku = [\"Всё глазел на них\",\n",
    "\"Сакуры цветы, пока\",\n",
    "\"Шею не свело\"]\n",
    "def print_haiku_up(haiku):\n",
    "    for line in haiku:\n",
    "        print(line.upper())\n",
    "\n",
    "print_haiku_up(a_haiku)"
   ]
  },
  {
   "cell_type": "code",
   "execution_count": 12,
   "id": "865c9a75-7d22-4919-87e0-57420061d797",
   "metadata": {},
   "outputs": [
    {
     "name": "stdout",
     "output_type": "stream",
     "text": [
      "ёленн\n",
      "кывыпа\n",
      "юево\n"
     ]
    }
   ],
   "source": [
    "a_haiku = [\"Всё глазел на них\",\n",
    "\"Сакуры цветы, пока\",\n",
    "\"Шею не свело\"]\n",
    "def print_haiku_3(haiku):\n",
    "    for line in haiku:\n",
    "       print(line[2::3])\n",
    "\n",
    "print_haiku_3(a_haiku)"
   ]
  },
  {
   "cell_type": "code",
   "execution_count": 13,
   "id": "15111046-eef8-4659-b1f9-ab0e6075cb40",
   "metadata": {},
   "outputs": [
    {
     "name": "stdout",
     "output_type": "stream",
     "text": [
      "\u001b[31mВсё глазел на них\n",
      "\u001b[31mСакуры цветы, пока\n",
      "\u001b[31mШею не свело\n"
     ]
    }
   ],
   "source": [
    "def print_haiku_cvet(haiku):\n",
    "    for line in haiku:\n",
    "        print(\"\\033[31m{}\".format(line))\n",
    "\n",
    "print_haiku_cvet(a_haiku)"
   ]
  },
  {
   "cell_type": "code",
   "execution_count": null,
   "id": "3d1c9a4e-1390-4930-9b86-6e9cce43ab73",
   "metadata": {},
   "outputs": [],
   "source": [
    "Задание 4. Напишите простой пользовательский интерфейс к заданию 3.\n",
    "Пользователю должно выдаваться сообщение о возможностях вывода (меню), и приглашение на ввод\n",
    "идентификатора действия или символа `q` для выхода, например:\n",
    "\n",
    "Возможные действия:\n",
    "1 - вывод хайку заглавными буквами\n",
    "2 - вывод только третьих символов каждой строки хайку\n",
    "3 - вывод хайку красным цветом\n",
    "Введите номер действия или q для выхода: \n",
    "\n",
    "После ввода идентификатора действия, необходимо выполнить соответствующее действие \n",
    "и снова вывести меню с запросом на ввод. в случае некорректного идентификатора действия \n",
    "вывести соответствующее сообщение и снова вывести меню. После ввода q завершить работу с\n",
    "простым пользовательским интрефейсом"
   ]
  },
  {
   "cell_type": "code",
   "execution_count": 23,
   "id": "f4e551ca-fb1d-44b7-bd35-989487a7f140",
   "metadata": {},
   "outputs": [
    {
     "name": "stdin",
     "output_type": "stream",
     "text": [
      " Введите номер действия или q для выхода:\n",
      "1 - вывод хайку заглавными буквами,\n",
      "2 - вывод только третьих символов каждой строки хайку,\n",
      "3 - вывод хайку красным цветом\n",
      " 3\n"
     ]
    },
    {
     "name": "stdout",
     "output_type": "stream",
     "text": [
      "\u001b[31mВсё глазел на них\n",
      "\u001b[31mСакуры цветы, пока\n",
      "\u001b[31mШею не свело\n"
     ]
    }
   ],
   "source": [
    "i = input( ''' Введите номер действия или q для выхода:\n",
    "1 - вывод хайку заглавными буквами,\n",
    "2 - вывод только третьих символов каждой строки хайку,\n",
    "3 - вывод хайку красным цветом\n",
    "''' )\n",
    "def manuala():\n",
    "    if i == '1':\n",
    "        print_haiku(a_haiku)\n",
    "    elif i == '2':\n",
    "        print_haiku_3(a_haiku)\n",
    "    elif i == '3':\n",
    "        print_haiku_cvet(a_haiku)\n",
    "    elif i == 'q':\n",
    "        print('Вы решили выйти.До свидания!')\n",
    "    else:\n",
    "        print('Вы ввели некорректное неправильное значение')\n",
    "manuala()\n",
    "    \n",
    "        \n",
    "        \n",
    "        \n",
    "        \n",
    "        \n"
   ]
  },
  {
   "cell_type": "code",
   "execution_count": null,
   "id": "ff1855c4-e06a-4a86-8664-108ea7fbd531",
   "metadata": {},
   "outputs": [],
   "source": [
    "'''\n",
    "Задание 5.\n",
    "Дополните функционал задания 3 одним из следующих способов вывода хайку:\n",
    "- каждое слово в строке различным цветом,\n",
    "- в каждой строке второе слово жирным шрифтом,\n",
    "- маленькими буквами синим цветом,\n",
    "при этом текст функции print_haiku() меняться не должен. Если такая доработка потребует\n",
    "его изменения, пересмотрите дизайн функции print_haiku(), чтобы расширение функионала вывода\n",
    "не требовало изменения print_haiku()\n",
    "Добавьте в интерфейс, созданный в задании 4 созданный новый способ вывода. Оцените объем и \n",
    "удобство модификации, при необходимости пересмотрите дизайн кода интерфейса для упрощения его \n",
    "изменекния.\n",
    "\n",
    "'''"
   ]
  },
  {
   "cell_type": "code",
   "execution_count": 30,
   "id": "a4b38e3c-869c-47d1-b96a-6c120ac9cb01",
   "metadata": {},
   "outputs": [],
   "source": []
  },
  {
   "cell_type": "code",
   "execution_count": null,
   "id": "f8404a47-8e5d-455e-8192-52a358cd3a8e",
   "metadata": {},
   "outputs": [],
   "source": []
  }
 ],
 "metadata": {
  "kernelspec": {
   "display_name": "Python 3 (ipykernel)",
   "language": "python",
   "name": "python3"
  },
  "language_info": {
   "codemirror_mode": {
    "name": "ipython",
    "version": 3
   },
   "file_extension": ".py",
   "mimetype": "text/x-python",
   "name": "python",
   "nbconvert_exporter": "python",
   "pygments_lexer": "ipython3",
   "version": "3.10.10"
  }
 },
 "nbformat": 4,
 "nbformat_minor": 5
}
