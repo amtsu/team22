{
 "cells": [
  {
   "cell_type": "code",
   "execution_count": 9,
   "id": "4d73779e-57bf-4dc7-a313-f16d30455c13",
   "metadata": {},
   "outputs": [
    {
     "name": "stdout",
     "output_type": "stream",
     "text": [
      "1\n",
      "2\n",
      "3\n",
      "4\n",
      "5\n",
      "6\n",
      "7\n",
      "8\n",
      "9\n"
     ]
    },
    {
     "data": {
      "text/plain": [
       "' for i in range(len(matrix))\\n        for j in range(len(matrix[i])\\n            print(matrix[i][j])'"
      ]
     },
     "execution_count": 9,
     "metadata": {},
     "output_type": "execute_result"
    }
   ],
   "source": [
    "'''Задание 1. Написать функцию для вывода двумерной матрицы по столбцам, \n",
    "#не используя индексацию (с помощью [] или любым другим способом получения\n",
    "элемента по заданному индексу).\n",
    "Функция должна принимать на вход список и ничего не возвращать\n",
    "'''\n",
    "def print_matrix(matrix):\n",
    "    '''\n",
    "    это функция, печатающая двумерный список matrix по столбцам\n",
    "    '''\n",
    "\n",
    "    num_cols = len(matrix[0])\n",
    "    num_rows = len(matrix)\n",
    "\n",
    "    for col in range(num_cols):\n",
    "        for row in range(num_rows):\n",
    "            print(matrix[row][col])\n",
    "            #print(\"=\"*30)\n",
    "\n",
    "matrix = [[1,4,7,],[2,5,8,],[3,6,9,]]\n",
    "\n",
    "print_matrix(matrix)\n",
    "#второй вариант\n",
    "''' for i in range(len(matrix))\n",
    "        for j in range(len(matrix[i])\n",
    "            print(matrix[i][j])'''\n",
    "  \n",
    "\n",
    "\n",
    "\n"
   ]
  },
  {
   "cell_type": "code",
   "execution_count": 12,
   "id": "bfc7b53c-dd3c-4c7b-92a5-35d55cd28597",
   "metadata": {},
   "outputs": [
    {
     "name": "stdout",
     "output_type": "stream",
     "text": [
      "Функция ten_times() вызвана 1 раз\n",
      "Функция ten_times() вызвана 2 раз\n",
      "Функция ten_times() вызвана 3 раз\n",
      "Функция ten_times() вызвана 4 раз\n",
      "Функция ten_times() вызвана 5 раз\n",
      "Функция ten_times() вызвана 6 раз\n",
      "Функция ten_times() вызвана 7 раз\n",
      "Функция ten_times() вызвана 8 раз\n",
      "Функция ten_times() вызвана 9 раз\n",
      "Функция ten_times() вызвана 10 раз\n"
     ]
    }
   ],
   "source": [
    "'''\n",
    "Задание 2. Напишите функцию, вызывающую саму себя 10 раз;\n",
    "функция должна вызываться как ten_times() и ничего не возвращать;\n",
    "'''\n",
    "\n",
    "def ten_times(i=0):\n",
    "    if i < 10:\n",
    "        print(\"Функция ten_times() вызвана {} раз\".format(i+1))\n",
    "        ten_times(i+1)\n",
    "\n",
    "ten_times()\n",
    "#проверка\n",
    "\n",
    "        "
   ]
  },
  {
   "cell_type": "code",
   "execution_count": null,
   "id": "fa54ce22-b11d-4e91-9293-e6dd2e03a16a",
   "metadata": {},
   "outputs": [],
   "source": []
  },
  {
   "cell_type": "code",
   "execution_count": null,
   "id": "d4c3ca33-3835-4b6f-b728-39817872bc80",
   "metadata": {},
   "outputs": [],
   "source": []
  }
 ],
 "metadata": {
  "kernelspec": {
   "display_name": "Python 3 (ipykernel)",
   "language": "python",
   "name": "python3"
  },
  "language_info": {
   "codemirror_mode": {
    "name": "ipython",
    "version": 3
   },
   "file_extension": ".py",
   "mimetype": "text/x-python",
   "name": "python",
   "nbconvert_exporter": "python",
   "pygments_lexer": "ipython3",
   "version": "3.10.10"
  }
 },
 "nbformat": 4,
 "nbformat_minor": 5
}
