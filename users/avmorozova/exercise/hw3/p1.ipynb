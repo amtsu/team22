{
 "cells": [
  {
   "cell_type": "code",
   "execution_count": 1,
   "id": "4c0cb423-d678-4786-915a-6a4d9ae31ddd",
   "metadata": {},
   "outputs": [
    {
     "data": {
      "text/plain": [
       "80"
      ]
     },
     "execution_count": 1,
     "metadata": {},
     "output_type": "execute_result"
    }
   ],
   "source": [
    "10 * (5 +3)"
   ]
  },
  {
   "cell_type": "code",
   "execution_count": 2,
   "id": "8b8786ce-7fe4-4aa1-b0f7-7ad0eb46d558",
   "metadata": {},
   "outputs": [
    {
     "data": {
      "text/plain": [
       "7.0"
      ]
     },
     "execution_count": 2,
     "metadata": {},
     "output_type": "execute_result"
    }
   ],
   "source": [
    "(20-6)/2"
   ]
  },
  {
   "cell_type": "code",
   "execution_count": 3,
   "id": "86cadaab-63b4-4480-8333-c09336de6616",
   "metadata": {},
   "outputs": [
    {
     "data": {
      "text/plain": [
       "32"
      ]
     },
     "execution_count": 3,
     "metadata": {},
     "output_type": "execute_result"
    }
   ],
   "source": [
    "2**5"
   ]
  },
  {
   "cell_type": "code",
   "execution_count": 4,
   "id": "596bf0e6-5401-425e-bb51-d3ca3cbd382c",
   "metadata": {},
   "outputs": [
    {
     "data": {
      "text/plain": [
       "6"
      ]
     },
     "execution_count": 4,
     "metadata": {},
     "output_type": "execute_result"
    }
   ],
   "source": [
    "25//4"
   ]
  },
  {
   "cell_type": "code",
   "execution_count": 5,
   "id": "f5931d4c-71dd-4642-95b5-2ce22629ae68",
   "metadata": {},
   "outputs": [
    {
     "data": {
      "text/plain": [
       "1"
      ]
     },
     "execution_count": 5,
     "metadata": {},
     "output_type": "execute_result"
    }
   ],
   "source": [
    "25%4"
   ]
  },
  {
   "cell_type": "code",
   "execution_count": 18,
   "id": "0f2f5df0-34cf-462f-9067-de4b7e18507f",
   "metadata": {},
   "outputs": [
    {
     "data": {
      "text/plain": [
       "-3"
      ]
     },
     "execution_count": 18,
     "metadata": {},
     "output_type": "execute_result"
    }
   ],
   "source": [
    "round(-3.14)"
   ]
  },
  {
   "cell_type": "code",
   "execution_count": 22,
   "id": "710cdc52-dbec-4b4b-8370-89665c72fe14",
   "metadata": {},
   "outputs": [
    {
     "name": "stdout",
     "output_type": "stream",
     "text": [
      "-3\n",
      "-0.14\n"
     ]
    }
   ],
   "source": [
    "n = -3.14\n",
    "print(int(n))\n",
    "print(round(n%-1,3))"
   ]
  },
  {
   "cell_type": "code",
   "execution_count": 23,
   "id": "9eb5464b-32e7-44aa-8439-3fa97ee85c16",
   "metadata": {},
   "outputs": [
    {
     "name": "stdout",
     "output_type": "stream",
     "text": [
      "35\n"
     ]
    }
   ],
   "source": [
    "a = 5\n",
    "b = 7\n",
    "print(a*b)"
   ]
  },
  {
   "cell_type": "code",
   "execution_count": 27,
   "id": "3131a165-c5c3-4da2-837d-ecdd4ab121be",
   "metadata": {},
   "outputs": [
    {
     "name": "stdout",
     "output_type": "stream",
     "text": [
      "145.70000000000002\n"
     ]
    }
   ],
   "source": [
    "print((3.5*6.4*3.1)+(3.4*4*3.1)+(11*3.1)) \n",
    "#d моем помещении нежилое-это кухня.Если подразумевалось,что это шкаф в комнате,\n",
    "#который съедает объем,то последние скобки вычесть"
   ]
  },
  {
   "cell_type": "code",
   "execution_count": 55,
   "id": "17e1c4ec-035a-4c7f-b456-8062a01e615e",
   "metadata": {},
   "outputs": [
    {
     "name": "stdout",
     "output_type": "stream",
     "text": [
      "89\n",
      "6.433981132056603\n",
      "-12.433981132056603\n"
     ]
    }
   ],
   "source": [
    "a = 2\n",
    "b = 3\n",
    "c = -10\n",
    "d = b**2 - 4*a*c\n",
    "print(d) #узнали дискримbнанту,значит у нас 2 корня\n",
    "import math\n",
    "x1 = ((-b+ math.sqrt(d)))/2*a\n",
    "print(x1)\n",
    "x2 =((-b- math.sqrt(d)))/2*a \n",
    "print(x2) \n",
    "\n"
   ]
  },
  {
   "cell_type": "code",
   "execution_count": null,
   "id": "c3d7f2b9-eb96-4c8e-af77-b8e1ae25a67a",
   "metadata": {},
   "outputs": [],
   "source": [
    "string1='hello'\n",
    "string2='world!'\n"
   ]
  }
 ],
 "metadata": {
  "kernelspec": {
   "display_name": "Python 3 (ipykernel)",
   "language": "python",
   "name": "python3"
  },
  "language_info": {
   "codemirror_mode": {
    "name": "ipython",
    "version": 3
   },
   "file_extension": ".py",
   "mimetype": "text/x-python",
   "name": "python",
   "nbconvert_exporter": "python",
   "pygments_lexer": "ipython3",
   "version": "3.10.10"
  }
 },
 "nbformat": 4,
 "nbformat_minor": 5
}
