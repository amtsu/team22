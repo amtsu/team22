{
 "cells": [
  {
   "cell_type": "markdown",
   "id": "a3366b9d",
   "metadata": {},
   "source": [
    "<h1>работа с классами</h1>\n",
    "план работы:<br>\n",
    " сделано:\n",
    " <ul>\n",
    "    <li> создать папку для домашки, создать ветку в гит \n",
    "    <li> сделать обзор класса UltraStripper\n",
    "    <li> сделать коммит\n",
    "    <li> написать пример его использования\n",
    "    <li> понять задачу, которую он должен был решить\n",
    "    <li> сделать ещё коммит\n",
    "    <li> написать процедуру (или функцию), которая выполняет ту же самую задачу\n",
    "    <li> написать пример её использования\n",
    "    <li> сравнить код\n",
    "    <li> сделать ещё коммит\n",
    "  </ul>      \n",
    " не сделано:\n",
    "  <ul>\n",
    "    <li> перевести код класса из ноутбука в .py-файл\n",
    "    <li> написать для него тесты\n",
    "  </ul>      \n",
    " дополнительно:\n",
    "  <ul>    \n",
    "    <li> немного про __dir__ и __call__\n",
    "    <li> сравнение __call__ и пользовательского метода\n",
    "  </ul>      "
   ]
  },
  {
   "cell_type": "code",
   "execution_count": 30,
   "id": "bba8733a",
   "metadata": {},
   "outputs": [],
   "source": [
    "# импортируем типы для хинтов питона\n",
    "from typing import List\n",
    "from typing import Any\n",
    "from typing import Tuple\n",
    "from urllib.parse import quote"
   ]
  },
  {
   "cell_type": "code",
   "execution_count": 31,
   "id": "256db94e",
   "metadata": {},
   "outputs": [],
   "source": [
    "# ===================================================================================\n",
    "class UltraStripper:\n",
    "    \"\"\"\n",
    "    удалить заданные символы из списка символов,формируемого при создании\n",
    "    \"\"\"\n",
    "\n",
    "    def __init__(self, trash_to_remove: Tuple[Any]) -> None:\n",
    "        \"\"\"\n",
    "        типа конструктор.\n",
    "        класс инициализируется списком, содержащим в себе всё что нужно будет\n",
    "        потом удалять\n",
    "        \"\"\"\n",
    "        self.__trash_to_remove = trash_to_remove\n",
    "\n",
    "    def __str__(self):\n",
    "        \"\"\"\n",
    "        конвертер UltraStripper в удобочитаемую строку, ну, вроде того\n",
    "        использует url-кодирование для непечатных символов\n",
    "        \"\"\"\n",
    "        quoted_params = \"\"\n",
    "        for item in self.__trash_to_remove:\n",
    "            quoted_params += quote(item) + \", \"                     \n",
    "        return f\"UltraStripper object instance that removes \\\"{quoted_params.strip()}\\\" from given string\"\n",
    "\n",
    "    def __repr__(self):\n",
    "        \"\"\"\n",
    "        репр возвращает строковое представление объекта, которое может помочь создать его копию\n",
    "        есть много мест типа https://pythonist.ru/repr-v-python/, в которых описано планируемое поведение __repr__,\n",
    "        официально на английском то же самое есть тут:\n",
    "        https://docs.python.org/3/reference/datamodel.html?highlight=__repr__#object.__repr__\n",
    "        \n",
    "        \"\"\"\n",
    "        return f\"{self.__class__.__name__}({self.__trash_to_remove})р\"\n",
    "\n",
    "    def __call__(self, input_data: str) -> str:\n",
    "        \"\"\"\n",
    "        превращает объект класса UltraStripper в callable\n",
    "        \"\"\"\n",
    "        return self.__do_damage(input_data)\n",
    "    \n",
    "    def do_cleaning(self, input_data: str) -> str:\n",
    "        \"\"\"\n",
    "        очищает данные\n",
    "        \"\"\"\n",
    "        return self.__do_damage(input_data)\n",
    "        \n",
    "    def __do_damage(self, input_data: str) -> str:\n",
    "        \"\"\"\n",
    "        скрытый метод, делающий всю работу по очистке входной строки от нежелательной\n",
    "        информации, в соответствии с данными, которыми класс был инициализирован\n",
    "        \"\"\"\n",
    "        result = input_data\n",
    "        for item in self.__trash_to_remove:\n",
    "            result = result.replace(item, \"\")\n",
    "        return result.strip()"
   ]
  },
  {
   "cell_type": "code",
   "execution_count": 32,
   "id": "c385d69e",
   "metadata": {},
   "outputs": [
    {
     "name": "stdout",
     "output_type": "stream",
     "text": [
      "34\n",
      "986\n"
     ]
    }
   ],
   "source": [
    "#стриппер для яблок\n",
    "apples_stripper = UltraStripper((\"i\",\" \",\"got\",\"apples\"))\n",
    "# стриппер для моркови\n",
    "carrots_stripper = UltraStripper((\"i\",\" \",\"got\",\"carrots\"))\n",
    "#грязные яблоки и морковь\n",
    "raw_data_apples = \"i got 34 apples\"\n",
    "raw_data_carrots = \"i got 986 carrots\"\n",
    "#clean_data_apples = apples_stripper(raw_data_carrots) # упс, почистили не то\n",
    "# чистим, печатаем результат\n",
    "clean_data_apples = apples_stripper(raw_data_apples)\n",
    "print(clean_data_apples)\n",
    "clean_data_carrots = carrots_stripper(raw_data_carrots)\n",
    "print(clean_data_carrots)"
   ]
  },
  {
   "cell_type": "code",
   "execution_count": 33,
   "id": "b59e4e1b",
   "metadata": {},
   "outputs": [
    {
     "name": "stdout",
     "output_type": "stream",
     "text": [
      "34\n",
      "986\n"
     ]
    }
   ],
   "source": [
    "# напишем то же самое в виде функции\n",
    "def function_ultra_stripper(input_data: str, things_to_remove: Tuple[Any]) -> str:\n",
    "    \"\"\"\n",
    "    скрытый метод, делающий всю работу по очистке входной строки от нежелательной\n",
    "    информации, в соответствии с данными, которыми класс был инициализирован\n",
    "    \"\"\"\n",
    "    result = input_data\n",
    "    for item in things_to_remove:\n",
    "        result = result.replace(item, \"\")\n",
    "    return result.strip()\n",
    "\n",
    "# пример работы\n",
    "# грязные яблоки и морковь\n",
    "raw_data_apples = \"i got 34 apples\"\n",
    "raw_data_carrots = \"i got 986 carrots\"\n",
    "# настройки функции очистки\n",
    "apples_stripper_settings = (\"i\",\" \",\"got\",\"apples\")\n",
    "carrots_stripper_settings = (\"i\",\" \",\"got\",\"carrots\")\n",
    "\n",
    "#clean_data_apples = function_ultra_stripper(raw_data_carrot, apples_stripper_settings) # упс, ошибочка\n",
    "# чистим, печатаем результат\n",
    "clean_data_apples = function_ultra_stripper(raw_data_apples, apples_stripper_settings)\n",
    "print(clean_data_apples)\n",
    "clean_data_carrots = function_ultra_stripper(raw_data_carrots, carrots_stripper_settings)\n",
    "print(clean_data_carrots)\n",
    "\n"
   ]
  },
  {
   "cell_type": "code",
   "execution_count": 34,
   "id": "3903963a",
   "metadata": {},
   "outputs": [
    {
     "name": "stdout",
     "output_type": "stream",
     "text": [
      "UltraStripper object instance that removes \"i, %20, got, apples, %F0%9F%98%B1,\" from given string\n"
     ]
    },
    {
     "data": {
      "text/plain": [
       "UltraStripper(('i', ' ', 'got', 'apples', '😱'))р"
      ]
     },
     "execution_count": 34,
     "metadata": {},
     "output_type": "execute_result"
    }
   ],
   "source": [
    "# этот блок для экспериментов\n",
    "#dir(UltraStripper)\n",
    "#UltraStripper.__dir__()\n",
    "# создали стриппер для яблок\n",
    "apples_stripper = UltraStripper((\"i\",\" \",\"got\",\"apples\",\"😱\"))\n",
    "print(apples_stripper) # вызывает apples_stripper.__str__()\n",
    "apples_stripper # вызывает apples_stripper.__repr__() (будет вызываться, если эта строчка последняя в блоке)"
   ]
  },
  {
   "cell_type": "code",
   "execution_count": 35,
   "id": "10fa6038",
   "metadata": {},
   "outputs": [
    {
     "name": "stdout",
     "output_type": "stream",
     "text": [
      "используем apple_stripper.__call__(): clean_data_apples='34'\n",
      "используем apple_stripper.do_cleaning(): clean_data_apples='34'\n",
      "чистим другие яблоки: clean_data_2='65.4'\n"
     ]
    }
   ],
   "source": [
    "#ещё один блок для экспериментов\n",
    "\n",
    "# чистим яблоки\n",
    "raw_data = \"i got 34 apples\"\n",
    "clean_data_apples = apples_stripper(raw_data) # использует apples_stripper.__call__()\n",
    "print(f\"используем apple_stripper.__call__(): {clean_data_apples=}\")\n",
    "clean_data_apples = apples_stripper.do_cleaning(raw_data) # использует apples_stripper.do_cleaning()\n",
    "print(f\"используем apple_stripper.do_cleaning(): {clean_data_apples=}\")\n",
    "#чистим другие яблоки\n",
    "raw_data_2 = \"i got 65.4 apples\"\n",
    "clean_data_2 = apples_stripper(raw_data_2)\n",
    "print(f\"чистим другие яблоки: {clean_data_2=}\")"
   ]
  }
 ],
 "metadata": {
  "kernelspec": {
   "display_name": "Python 3 (ipykernel)",
   "language": "python",
   "name": "python3"
  },
  "language_info": {
   "codemirror_mode": {
    "name": "ipython",
    "version": 3
   },
   "file_extension": ".py",
   "mimetype": "text/x-python",
   "name": "python",
   "nbconvert_exporter": "python",
   "pygments_lexer": "ipython3",
   "version": "3.9.7"
  }
 },
 "nbformat": 4,
 "nbformat_minor": 5
}
