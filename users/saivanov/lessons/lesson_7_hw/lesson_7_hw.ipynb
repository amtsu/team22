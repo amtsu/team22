{
 "cells": [
  {
   "cell_type": "code",
   "execution_count": 1,
   "metadata": {},
   "outputs": [],
   "source": [
    "#Доброе утро.\n",
    "#Пожалуйста, сегодня попрактикуйтесь и введите следующие команды, но перед тем как нажать enter подумайте что она вам должна выдать. А после получения ответа поймите почему получили такий результаты(задания взяты из книги). Будет очень здорово если здесь появятся вопросы: \n",
    "# печать списка в строку\n",
    "def sprint(some_list, delimiter='\\n'):\n",
    "    Out = '' \n",
    "    for item in some_list:\n",
    "        if(type(item) == type([])) :\n",
    "            sprint(item) \n",
    "        else:\n",
    "            Out += str(item) + delimiter\n",
    "    print(Out) \n",
    "    return None\n",
    "#печать словарей, блин ее\n",
    "def sprintd(some_dict, delimiter=' '):\n",
    "    Out = '' \n",
    "    for key in some_dict:\n",
    "        Out += 'key= ' +str(key) + ', item= ' +str(some_dict[key]) + delimiter\n",
    "    print(Out) \n",
    "    return None"
   ]
  },
  {
   "cell_type": "code",
   "execution_count": 2,
   "metadata": {},
   "outputs": [
    {
     "data": {
      "text/plain": [
       "list"
      ]
     },
     "execution_count": 2,
     "metadata": {},
     "output_type": "execute_result"
    }
   ],
   "source": [
    "type([1,2,3]) "
   ]
  },
  {
   "cell_type": "code",
   "execution_count": 3,
   "metadata": {},
   "outputs": [
    {
     "data": {
      "text/plain": [
       "70"
      ]
     },
     "execution_count": 3,
     "metadata": {},
     "output_type": "execute_result"
    }
   ],
   "source": [
    "((5 + 30) * 20) / 10 #70"
   ]
  },
  {
   "cell_type": "code",
   "execution_count": 4,
   "metadata": {},
   "outputs": [
    {
     "data": {
      "text/plain": [
       "65"
      ]
     },
     "execution_count": 4,
     "metadata": {},
     "output_type": "execute_result"
    }
   ],
   "source": [
    "5 + 30 * 20 / 10 #65"
   ]
  },
  {
   "cell_type": "code",
   "execution_count": 5,
   "metadata": {},
   "outputs": [
    {
     "name": "stdout",
     "output_type": "stream",
     "text": [
      "200\n"
     ]
    }
   ],
   "source": [
    "fred = 200\n",
    "john = fred\n",
    "print(john) #200"
   ]
  },
  {
   "cell_type": "code",
   "execution_count": 6,
   "metadata": {},
   "outputs": [
    {
     "data": {
      "text/plain": [
       "3514"
      ]
     },
     "execution_count": 6,
     "metadata": {},
     "output_type": "execute_result"
    }
   ],
   "source": [
    "20 + 10 * 365 - 3 * 52 #3670-156=3514"
   ]
  },
  {
   "cell_type": "code",
   "execution_count": 7,
   "metadata": {},
   "outputs": [
    {
     "data": {
      "text/plain": [
       "3514"
      ]
     },
     "execution_count": 7,
     "metadata": {},
     "output_type": "execute_result"
    }
   ],
   "source": [
    "found_coins = 20\n",
    "magic_coins = 10\n",
    "stolen_coins = 3\n",
    "found_coins + magic_coins * 365 - stolen_coins * 52 # то же самое"
   ]
  },
  {
   "cell_type": "code",
   "execution_count": 8,
   "metadata": {},
   "outputs": [
    {
     "name": "stdout",
     "output_type": "stream",
     "text": [
      "Что едят на полдник динозавры?\n",
      "ТиРекс-кекс!\n"
     ]
    }
   ],
   "source": [
    "fred = '''Что едят на полдник динозавры?\n",
    "ТиРекс-кекс!''' \n",
    "print(fred)"
   ]
  },
  {
   "cell_type": "code",
   "execution_count": 9,
   "metadata": {},
   "outputs": [
    {
     "name": "stdout",
     "output_type": "stream",
     "text": [
      "Мой счет: 1000 очков\n"
     ]
    }
   ],
   "source": [
    "myscore = 1000\n",
    "message = 'Мой счет: %s очков'\n",
    "print(message % myscore)"
   ]
  },
  {
   "cell_type": "code",
   "execution_count": 10,
   "metadata": {},
   "outputs": [
    {
     "name": "stdout",
     "output_type": "stream",
     "text": [
      "Коленка: приспособление для поиска мебели в темноте\n",
      "Лодыжка: приспособление для поиска мебели в темноте\n"
     ]
    }
   ],
   "source": [
    "joke_text = '%s: приспособление для поиска мебели в темноте'\n",
    "bodypart1 = 'Коленка'\n",
    "bodypart2 = 'Лодыжка'\n",
    "print(joke_text % bodypart1) \n",
    "print(joke_text % bodypart2)"
   ]
  },
  {
   "cell_type": "code",
   "execution_count": 11,
   "metadata": {},
   "outputs": [
    {
     "name": "stdout",
     "output_type": "stream",
     "text": [
      "Что сказало число 0 числу 8? Славный поясок!\n"
     ]
    }
   ],
   "source": [
    "nums = 'Что сказало число %s числу %s? Славный поясок!'\n",
    "print(nums % (0, 8))"
   ]
  },
  {
   "cell_type": "code",
   "execution_count": 12,
   "metadata": {},
   "outputs": [
    {
     "name": "stdout",
     "output_type": "stream",
     "text": [
      "aaaaaaaaaa\n"
     ]
    }
   ],
   "source": [
    "print(10 * 'a') #аааааааааа"
   ]
  },
  {
   "cell_type": "code",
   "execution_count": 13,
   "metadata": {},
   "outputs": [
    {
     "name": "stdout",
     "output_type": "stream",
     "text": [
      "глаз тритона\n"
     ]
    }
   ],
   "source": [
    "wizard_list = ['паучьи лапки', 'жабий палец', 'глаз тритона', 'крыло летучей мыши', 'жир слизня', 'перхоть змеи']\n",
    "print(wizard_list[2]) #глаз тритона\n"
   ]
  },
  {
   "cell_type": "code",
   "execution_count": 14,
   "metadata": {},
   "outputs": [
    {
     "name": "stdout",
     "output_type": "stream",
     "text": [
      "паучьи лапки, жабий палец, язык улитки, крыло летучей мыши, жир слизня, перхоть змеи\n"
     ]
    }
   ],
   "source": [
    "wizard_list[2] = 'язык улитки'\n",
    "print(', '.join(wizard_list)) #вместо глаза тритона - язык улитки"
   ]
  },
  {
   "cell_type": "code",
   "execution_count": 15,
   "metadata": {},
   "outputs": [
    {
     "name": "stdout",
     "output_type": "stream",
     "text": [
      "язык улитки; крыло летучей мыши; жир слизня\n"
     ]
    }
   ],
   "source": [
    "print('; '.join(wizard_list[2:5])) # 3, 4 и 5 элементы"
   ]
  },
  {
   "cell_type": "code",
   "execution_count": 16,
   "metadata": {},
   "outputs": [
    {
     "name": "stdout",
     "output_type": "stream",
     "text": [
      "7\n",
      "раз\n",
      "отпей\n",
      "1\n",
      "раз\n",
      "отъешь\n",
      "\n"
     ]
    }
   ],
   "source": [
    "numbers_and_strings = [7, 'раз', 'отпей', 1, 'раз', 'отъешь']\n",
    "sprint(numbers_and_strings) "
   ]
  },
  {
   "cell_type": "code",
   "execution_count": 17,
   "metadata": {},
   "outputs": [
    {
     "name": "stdout",
     "output_type": "stream",
     "text": [
      "1\n",
      "2\n",
      "3\n",
      "4\n",
      "5\n",
      "\n",
      "хватит\n",
      "циферки\n",
      "считать\n",
      "\n",
      "\n"
     ]
    }
   ],
   "source": [
    "numbers = [1, 2, 3, 4, 5]\n",
    "strings = ['хватит', 'циферки', 'считать']\n",
    "mylist = [numbers, strings]\n",
    "sprint(mylist)# список списков получился"
   ]
  },
  {
   "cell_type": "code",
   "execution_count": 18,
   "metadata": {},
   "outputs": [
    {
     "name": "stdout",
     "output_type": "stream",
     "text": [
      "паучьи лапки\n",
      "жабий палец\n",
      "язык улитки\n",
      "крыло летучей мыши\n",
      "жир слизня\n",
      "перхоть змеи\n",
      "медвежий коготь\n",
      "\n"
     ]
    }
   ],
   "source": [
    "wizard_list.append('медвежий коготь')\n",
    "sprint(wizard_list) # в конце списка медвежий коготь"
   ]
  },
  {
   "cell_type": "code",
   "execution_count": 19,
   "metadata": {},
   "outputs": [
    {
     "name": "stdout",
     "output_type": "stream",
     "text": [
      "паучьи лапки\n",
      "жабий палец\n",
      "язык улитки\n",
      "крыло летучей мыши\n",
      "жир слизня\n",
      "перхоть змеи\n",
      "медвежий коготь\n",
      "мандрагора\n",
      "болиголов\n",
      "болотный газ\n",
      "\n"
     ]
    }
   ],
   "source": [
    "wizard_list.append('мандрагора') \n",
    "wizard_list.append('болиголов')\n",
    "wizard_list.append('болотный газ') \n",
    "sprint(wizard_list)"
   ]
  },
  {
   "cell_type": "code",
   "execution_count": 20,
   "metadata": {},
   "outputs": [
    {
     "name": "stdout",
     "output_type": "stream",
     "text": [
      "паучьи лапки\n",
      "жабий палец\n",
      "язык улитки\n",
      "крыло летучей мыши\n",
      "жир слизня\n",
      "медвежий коготь\n",
      "мандрагора\n",
      "болиголов\n",
      "болотный газ\n",
      "\n"
     ]
    }
   ],
   "source": [
    "del wizard_list[5]\n",
    "sprint(wizard_list)"
   ]
  },
  {
   "cell_type": "code",
   "execution_count": 21,
   "metadata": {},
   "outputs": [
    {
     "name": "stdout",
     "output_type": "stream",
     "text": [
      "паучьи лапки\n",
      "жабий палец\n",
      "язык улитки\n",
      "крыло летучей мыши\n",
      "жир слизня\n",
      "медвежий коготь\n",
      "болотный газ\n",
      "\n"
     ]
    }
   ],
   "source": [
    "#del wizard_list[8]\n",
    "del wizard_list[7]\n",
    "del wizard_list[6]\n",
    "sprint(wizard_list)"
   ]
  },
  {
   "cell_type": "code",
   "execution_count": 22,
   "metadata": {},
   "outputs": [
    {
     "name": "stdout",
     "output_type": "stream",
     "text": [
      "1\n",
      "2\n",
      "3\n",
      "4\n",
      "5\n",
      "я\n",
      "забрался\n",
      "под\n",
      "кровать\n",
      "\n"
     ]
    }
   ],
   "source": [
    "list1 = [1, 2, 3, 4, 5]\n",
    "list2 = ['я', 'забрался', 'под', 'кровать']\n",
    "sprint(list1 + list2)"
   ]
  },
  {
   "cell_type": "code",
   "execution_count": 23,
   "metadata": {},
   "outputs": [
    {
     "name": "stdout",
     "output_type": "stream",
     "text": [
      "1, 2, 1, 2, 1, 2, 1, 2, 1, 2, \n"
     ]
    }
   ],
   "source": [
    "list1 = [1, 2]\n",
    "sprint(list1 * 5, ', ')"
   ]
  },
  {
   "cell_type": "code",
   "execution_count": 24,
   "metadata": {},
   "outputs": [],
   "source": [
    "favorite_sports = ['Ральф Уильямс, Футбол', \n",
    "'Майкл Типпетт, Баскетбол',\n",
    "'Эдвард Элгар, Бейсбол',\n",
    "'Ребекка Кларк, Нетбол', \n",
    "'Этель Смит, Бадминтон', 'Фрэнк Бридж, Регби'] "
   ]
  },
  {
   "cell_type": "code",
   "execution_count": 25,
   "metadata": {},
   "outputs": [],
   "source": [
    "favorite_sports = {'Ральф Уильямс': 'Футбол', 'Майкл Типпетт': 'Баскетбол',\n",
    "'Эдвард Элгар': 'Бейсбол',\n",
    "'Ребекка Кларк': 'Нетбол', \n",
    "'Этель Смит': 'Бадминтон', 'Фрэнк Бридж': 'Регби'} "
   ]
  },
  {
   "cell_type": "code",
   "execution_count": 26,
   "metadata": {},
   "outputs": [
    {
     "name": "stdout",
     "output_type": "stream",
     "text": [
      "Нетбол\n"
     ]
    }
   ],
   "source": [
    "print(favorite_sports['Ребекка Кларк'])"
   ]
  },
  {
   "cell_type": "code",
   "execution_count": 27,
   "metadata": {},
   "outputs": [],
   "source": [
    "del favorite_sports['Этель Смит']\n",
    "#print(favorite_sports)"
   ]
  },
  {
   "cell_type": "code",
   "execution_count": 28,
   "metadata": {},
   "outputs": [
    {
     "name": "stdout",
     "output_type": "stream",
     "text": [
      "key= Эдвард Элгар, item= Бейсбол key= Ребекка Кларк, item= Нетбол key= Ральф Уильямс, item= Хоккей на льду key= Майкл Типпетт, item= Баскетбол key= Фрэнк Бридж, item= Регби \n"
     ]
    }
   ],
   "source": [
    "favorite_sports['Ральф Уильямс'] = 'Хоккей на льду'\n",
    "sprintd(favorite_sports)"
   ]
  },
  {
   "cell_type": "code",
   "execution_count": null,
   "metadata": {},
   "outputs": [],
   "source": [
    "\n",
    "    "
   ]
  },
  {
   "cell_type": "code",
   "execution_count": 29,
   "metadata": {},
   "outputs": [],
   "source": [
    "age = 13\n",
    "if age > 20:\n",
    "    print('Как-то вы староваты!')\n"
   ]
  },
  {
   "cell_type": "code",
   "execution_count": 30,
   "metadata": {},
   "outputs": [],
   "source": [
    "age = 10\n",
    "if age > 10:\n",
    "    print('Вы слишком стары для моих шуток!')"
   ]
  },
  {
   "cell_type": "code",
   "execution_count": 31,
   "metadata": {},
   "outputs": [
    {
     "name": "stdout",
     "output_type": "stream",
     "text": [
      "Тсс! Это секрет.\n"
     ]
    }
   ],
   "source": [
    "age = 8\n",
    "if age == 12:\n",
    "    print(\"Свинья шлепнулась в грязь!\")\n",
    "else:\n",
    "    print(\"Тсс! Это секрет.\")"
   ]
  },
  {
   "cell_type": "code",
   "execution_count": 32,
   "metadata": {},
   "outputs": [
    {
     "name": "stdout",
     "output_type": "stream",
     "text": [
      "Что сказал 0 числу 8?\n",
      "Привет, ребята!\n"
     ]
    }
   ],
   "source": [
    "age = 12\n",
    "if age == 10:\n",
    "    print(\"Что выйдет, если клюква наденет штаны?\")\n",
    "    print(\"Брюква!\")\n",
    "elif age == 11:\n",
    "    print(\"Что сказала зеленая виноградина синей виноградине?\")\n",
    "    print(\"Дыши! Дыши!\") \n",
    "elif age == 12:\n",
    "    print(\"Что сказал 0 числу 8?\")\n",
    "    print(\"Привет, ребята!\")\n",
    "elif age == 13:\n",
    "    print(\"Что такое: напотолке сидит и хохочет?\")\n",
    "    print(\"Муха-хохотуха!\") \n",
    "else: \n",
    "    print(\"Что-что?\")"
   ]
  },
  {
   "cell_type": "code",
   "execution_count": 33,
   "metadata": {},
   "outputs": [
    {
     "name": "stdout",
     "output_type": "stream",
     "text": [
      "13 + 49 + 84 + 155 + 97: что получится? Головная боль!\n"
     ]
    }
   ],
   "source": [
    "if age == 10 or age == 11 or age == 12 or age == 13:\n",
    "    print('13 + 49 + 84 + 155 + 97: что получится? Головная боль!') \n",
    "else: \n",
    "    print('Что-что?')"
   ]
  },
  {
   "cell_type": "code",
   "execution_count": 34,
   "metadata": {},
   "outputs": [
    {
     "name": "stdout",
     "output_type": "stream",
     "text": [
      "13 + 49 + 84 + 155 + 97: что получится? Головная боль!\n"
     ]
    }
   ],
   "source": [
    "if age >= 10 and age <= 13:\n",
    "    print('13 + 49 + 84 + 155 + 97: что получится? Головная боль!') \n",
    "else: \n",
    "    print('Что-что?')"
   ]
  },
  {
   "cell_type": "code",
   "execution_count": 35,
   "metadata": {},
   "outputs": [
    {
     "name": "stdout",
     "output_type": "stream",
     "text": [
      "None\n"
     ]
    }
   ],
   "source": [
    "myval = None\n",
    "print(myval)#None\n"
   ]
  },
  {
   "cell_type": "code",
   "execution_count": 36,
   "metadata": {},
   "outputs": [
    {
     "name": "stdout",
     "output_type": "stream",
     "text": [
      "В переменной myval ничего нет\n"
     ]
    }
   ],
   "source": [
    "myval = None\n",
    "if myval == None:\n",
    "    print(\"В переменной myval ничего нет\")\n"
   ]
  },
  {
   "cell_type": "code",
   "execution_count": 37,
   "metadata": {},
   "outputs": [
    {
     "name": "stdout",
     "output_type": "stream",
     "text": [
      "Как лучше всего общаться с монстром?\n",
      "Издалека!\n"
     ]
    }
   ],
   "source": [
    "age = 10\n",
    "if age == 10: #сработает\n",
    "    print(\"Как лучше всего общаться с монстром?\") \n",
    "    print(\"Издалека!\")"
   ]
  },
  {
   "cell_type": "code",
   "execution_count": 38,
   "metadata": {},
   "outputs": [],
   "source": [
    "age = '10'\n",
    "if age == 10: # не сработает\n",
    "    print(\"Как лучше всего общаться с монстром?\")\n",
    "    print(\"Издалека!\") "
   ]
  },
  {
   "cell_type": "code",
   "execution_count": 39,
   "metadata": {},
   "outputs": [],
   "source": [
    "age = '10'\n",
    "converted_age = int(age)"
   ]
  },
  {
   "cell_type": "code",
   "execution_count": 40,
   "metadata": {},
   "outputs": [],
   "source": [
    "age = 10 \n",
    "converted_age = str(age)"
   ]
  },
  {
   "cell_type": "code",
   "execution_count": 41,
   "metadata": {},
   "outputs": [],
   "source": [
    "age = '10'\n",
    "converted_age = int(age)"
   ]
  },
  {
   "cell_type": "code",
   "execution_count": 42,
   "metadata": {},
   "outputs": [
    {
     "name": "stdout",
     "output_type": "stream",
     "text": [
      "Как лучше всего общаться с монстром?\n",
      "Издалека!\n"
     ]
    }
   ],
   "source": [
    "if converted_age == 10:\n",
    "    print(\"Как лучше всего общаться с монстром?\")\n",
    "    print(\"Издалека!\") "
   ]
  },
  {
   "cell_type": "code",
   "execution_count": 43,
   "metadata": {},
   "outputs": [],
   "source": [
    "#age = '10.5'\n",
    "#converted_age = int(age) #неожиданно закончилось с ошибкой"
   ]
  },
  {
   "cell_type": "code",
   "execution_count": 44,
   "metadata": {},
   "outputs": [
    {
     "name": "stdout",
     "output_type": "stream",
     "text": [
      "10.5\n"
     ]
    }
   ],
   "source": [
    "age = '10.5'\n",
    "converted_age = float(age)\n",
    "print(converted_age)"
   ]
  },
  {
   "cell_type": "code",
   "execution_count": 45,
   "metadata": {},
   "outputs": [],
   "source": [
    "#age = 'десять'\n",
    "#converted_age = int(age) # точно не сработает"
   ]
  },
  {
   "cell_type": "code",
   "execution_count": 46,
   "metadata": {},
   "outputs": [
    {
     "name": "stdout",
     "output_type": "stream",
     "text": [
      "привет\n",
      "привет\n",
      "привет\n",
      "привет\n",
      "привет\n"
     ]
    }
   ],
   "source": [
    "for x in range(0, 5): \n",
    "    print('привет') #5 раз привет"
   ]
  },
  {
   "cell_type": "code",
   "execution_count": 47,
   "metadata": {},
   "outputs": [
    {
     "name": "stdout",
     "output_type": "stream",
     "text": [
      "[10, 11, 12, 13, 14, 15, 16, 17, 18, 19]\n"
     ]
    }
   ],
   "source": [
    "print(list(range(10, 20))) # список от 10 до 19"
   ]
  },
  {
   "cell_type": "code",
   "execution_count": 48,
   "metadata": {},
   "outputs": [
    {
     "name": "stdout",
     "output_type": "stream",
     "text": [
      "привет 0\n",
      "привет 1\n",
      "привет 2\n",
      "привет 3\n",
      "привет 4\n"
     ]
    }
   ],
   "source": [
    "for x in range(0, 5):\n",
    "    print('привет %s' % x) # приветы с номерами от 0 до 4х"
   ]
  },
  {
   "cell_type": "code",
   "execution_count": 49,
   "metadata": {},
   "outputs": [
    {
     "name": "stdout",
     "output_type": "stream",
     "text": [
      "паучьи лапки\n",
      "жабиий палец\n",
      "язык улитки\n",
      "крыло летучей мыши\n",
      "жир слизня\n",
      "медвежий коготь\n"
     ]
    }
   ],
   "source": [
    "wizard_list = ['паучьи лапки', 'жабиий палец', 'язык улитки', 'крыло летучей мыши', 'жир слизня', 'медвежий коготь'] \n",
    "for i in wizard_list:\n",
    "    print(i) # печать элементов списка"
   ]
  },
  {
   "cell_type": "code",
   "execution_count": 50,
   "metadata": {},
   "outputs": [
    {
     "name": "stdout",
     "output_type": "stream",
     "text": [
      "огромные\n",
      "огромные\n",
      "волосатые\n",
      "штаны\n",
      "волосатые\n",
      "огромные\n",
      "волосатые\n",
      "штаны\n",
      "штаны\n",
      "огромные\n",
      "волосатые\n",
      "штаны\n"
     ]
    }
   ],
   "source": [
    "hugehairypants = ['огромные', 'волосатые', 'штаны']\n",
    "for i in hugehairypants:\n",
    "    print(i)\n",
    "    for j in hugehairypants:\n",
    "        print(j) # огромные овс волосатые овс штаны овс"
   ]
  },
  {
   "cell_type": "code",
   "execution_count": 51,
   "metadata": {},
   "outputs": [
    {
     "name": "stdout",
     "output_type": "stream",
     "text": [
      "Неделя 1 = 87\n",
      "Неделя 2 = 154\n",
      "Неделя 3 = 221\n",
      "Неделя 4 = 288\n"
     ]
    }
   ],
   "source": [
    "found_coins = 20\n",
    "magic_coins = 70\n",
    "stolen_coins = 3\n",
    "coins = found_coins\n",
    "for week in range(1, 5):#4 недели\n",
    "        coins = coins + magic_coins - stolen_coins\n",
    "        print('Неделя %s = %s' % (week, coins))\n"
   ]
  },
  {
   "cell_type": "code",
   "execution_count": 52,
   "metadata": {},
   "outputs": [
    {
     "name": "stdout",
     "output_type": "stream",
     "text": [
      "10\n"
     ]
    }
   ],
   "source": [
    "print(int(float(\"10.5\")))"
   ]
  },
  {
   "cell_type": "code",
   "execution_count": 53,
   "metadata": {},
   "outputs": [
    {
     "name": "stdout",
     "output_type": "stream",
     "text": [
      "Неделя 1 = 87\n",
      "Неделя 2 = 154\n",
      "Неделя 3 = 221\n",
      "Неделя 4 = 288\n"
     ]
    }
   ],
   "source": [
    "found_coins = 20\n",
    "magic_coins = 70\n",
    "stolen_coins = 3\n",
    "coins = found_coins\n",
    "for week in range(1, 5):\n",
    "        coins = coins + magic_coins - stolen_coins\n",
    "        print('Неделя %s = %s' % (week, coins))"
   ]
  },
  {
   "cell_type": "code",
   "execution_count": 54,
   "metadata": {},
   "outputs": [
    {
     "name": "stdout",
     "output_type": "stream",
     "text": [
      "(46, 81)\n",
      "(47, 82)\n",
      "(48, 83)\n",
      "(49, 84)\n",
      "(50, 85)\n"
     ]
    }
   ],
   "source": [
    "x = 45\n",
    "y = 80\n",
    "while x < 50 and y < 100: \n",
    "    x=x+ 1\n",
    "    y=y+ 1 \n",
    "    print(x, y)  #5 раз выведет"
   ]
  },
  {
   "cell_type": "code",
   "execution_count": 55,
   "metadata": {},
   "outputs": [
    {
     "name": "stdout",
     "output_type": "stream",
     "text": [
      "привет 0\n"
     ]
    }
   ],
   "source": [
    "for x in range(0, 20):\n",
    "    print('привет %s' % x)\n",
    "    if x < 9:\n",
    "        break #1 раз выведет"
   ]
  },
  {
   "cell_type": "code",
   "execution_count": 56,
   "metadata": {},
   "outputs": [
    {
     "name": "stdout",
     "output_type": "stream",
     "text": [
      "Привет, Серега\n"
     ]
    }
   ],
   "source": [
    "def testfunc(myname):\n",
    "    print('Привет, %s' % myname)\n",
    "testfunc('Серега')"
   ]
  },
  {
   "cell_type": "code",
   "execution_count": 57,
   "metadata": {},
   "outputs": [
    {
     "name": "stdout",
     "output_type": "stream",
     "text": [
      "Привет, Серега Иванов\n"
     ]
    }
   ],
   "source": [
    "def testfunc(fname, lname):\n",
    "              print('Привет, %s %s' % (fname, lname))\n",
    "testfunc('Серега', 'Иванов')"
   ]
  },
  {
   "cell_type": "code",
   "execution_count": 58,
   "metadata": {},
   "outputs": [
    {
     "name": "stdout",
     "output_type": "stream",
     "text": [
      "15\n"
     ]
    }
   ],
   "source": [
    "def savings(pocket_money, paper_route, spending):\n",
    "              return pocket_money + paper_route - spending\n",
    "print(savings(10, 10, 5)) #15"
   ]
  },
  {
   "cell_type": "code",
   "execution_count": 59,
   "metadata": {},
   "outputs": [
    {
     "name": "stdout",
     "output_type": "stream",
     "text": [
      "Wed Oct 12 02:59:34 2022\n"
     ]
    }
   ],
   "source": [
    "import time\n",
    "print(time.asctime())"
   ]
  },
  {
   "cell_type": "code",
   "execution_count": 60,
   "metadata": {},
   "outputs": [
    {
     "name": "stdout",
     "output_type": "stream",
     "text": [
      "gta SA\n",
      "CS1.6\n",
      "snowboard\n",
      "flan\n",
      "cake\n",
      "mac`n`cheese\n",
      "\n"
     ]
    }
   ],
   "source": [
    "#1 любимые вещи\n",
    "games=['gta SA','CS1.6','snowboard']\n",
    "foods=['flan','cake','mac`n`cheese']\n",
    "favourites = games + foods\n",
    "sprint(favourites)"
   ]
  },
  {
   "cell_type": "code",
   "execution_count": 61,
   "metadata": {},
   "outputs": [
    {
     "name": "stdout",
     "output_type": "stream",
     "text": [
      "всего воинов: 155\n"
     ]
    }
   ],
   "source": [
    "#подсет воинов\n",
    "print('всего воинов: '+str(3*25 + 2*40))"
   ]
  },
  {
   "cell_type": "code",
   "execution_count": 62,
   "metadata": {},
   "outputs": [
    {
     "name": "stdout",
     "output_type": "stream",
     "text": [
      "Привет, Серега Иванов\n"
     ]
    }
   ],
   "source": [
    "serg = 'Серега'\n",
    "iv = 'Иванов'\n",
    "print('Привет, %s %s' % (serg, iv))"
   ]
  },
  {
   "cell_type": "code",
   "execution_count": 63,
   "metadata": {},
   "outputs": [
    {
     "name": "stdout",
     "output_type": "stream",
     "text": [
      "слишком мало или слишком много\n"
     ]
    }
   ],
   "source": [
    "#упражнения 2\n",
    "twinkies = 101\n",
    "if ((twinkies>100) and (twinkies<500)):\n",
    "    print('слишком мало или слишком много')\n"
   ]
  },
  {
   "cell_type": "code",
   "execution_count": 64,
   "metadata": {},
   "outputs": [
    {
     "name": "stdout",
     "output_type": "stream",
     "text": [
      "Yes\n"
     ]
    }
   ],
   "source": [
    "money = 500\n",
    "if((money in range(100,501)) or (money in range(1000,5001)) ):\n",
    "    print('Yes')"
   ]
  },
  {
   "cell_type": "code",
   "execution_count": 65,
   "metadata": {},
   "outputs": [
    {
     "name": "stdout",
     "output_type": "stream",
     "text": [
      "Я одолею этих ниндзя!\n"
     ]
    }
   ],
   "source": [
    "ninjas =5\n",
    "if(ninjas < 10):\n",
    "    print('Я одолею этих ниндзя!')\n",
    "elif(ninjas < 30):\n",
    "    print('Будет непросто, но я с ними разделаюсь')\n",
    "elif(ninjas < 50):\n",
    "    print('Их слишком много')"
   ]
  },
  {
   "cell_type": "code",
   "execution_count": 66,
   "metadata": {},
   "outputs": [],
   "source": [
    "#Упражнения  3"
   ]
  },
  {
   "cell_type": "code",
   "execution_count": 67,
   "metadata": {},
   "outputs": [
    {
     "name": "stdout",
     "output_type": "stream",
     "text": [
      "привет 0\n"
     ]
    }
   ],
   "source": [
    "#выведет \"привет 0\"\n",
    "for x in range(0, 20):\n",
    "    print('привет %s' % x)\n",
    "    if x < 9:\n",
    "        break "
   ]
  },
  {
   "cell_type": "code",
   "execution_count": 68,
   "metadata": {},
   "outputs": [
    {
     "name": "stdout",
     "output_type": "stream",
     "text": [
      "2 4 6 8 10 12 14 16 18 20 22 24 26 28 30 32 34 36 38\n"
     ]
    }
   ],
   "source": [
    "odd = 2\n",
    "oddlist = []\n",
    "while(odd <= 38):\n",
    "    oddlist.append(str(odd))\n",
    "    odd += 2\n",
    "print(' '.join(oddlist))    "
   ]
  },
  {
   "cell_type": "code",
   "execution_count": 69,
   "metadata": {},
   "outputs": [
    {
     "name": "stdout",
     "output_type": "stream",
     "text": [
      "#1 слизни\n",
      "#2 пиявки\n",
      "#3 катышки из пупка гориллы\n",
      "#4 брови гусеницы\n",
      "#5 пальцы многоножки\n"
     ]
    }
   ],
   "source": [
    "ingredients = ['слизни', 'пиявки', 'катышки из пупка гориллы', 'брови гусеницы', 'пальцы многоножки']\n",
    "num = 1\n",
    "for item in ingredients:\n",
    "    print('#'+str(num)+' '+item)\n",
    "    num += 1"
   ]
  },
  {
   "cell_type": "code",
   "execution_count": 70,
   "metadata": {},
   "outputs": [
    {
     "name": "stdout",
     "output_type": "stream",
     "text": [
      "my moon weight is 17.325 kg\n"
     ]
    }
   ],
   "source": [
    "my_weight = 105\n",
    "my_moon_weight = my_weight*0.165\n",
    "print('my moon weight is '+str(my_moon_weight)+' kg')"
   ]
  },
  {
   "cell_type": "code",
   "execution_count": 71,
   "metadata": {},
   "outputs": [
    {
     "name": "stdout",
     "output_type": "stream",
     "text": [
      "my moon weight in 1 year is 17.49 kg\n",
      "my moon weight in 2 year is 17.655 kg\n",
      "my moon weight in 3 year is 17.82 kg\n",
      "my moon weight in 4 year is 17.985 kg\n",
      "my moon weight in 5 year is 18.15 kg\n",
      "my moon weight in 6 year is 18.315 kg\n",
      "my moon weight in 7 year is 18.48 kg\n",
      "my moon weight in 8 year is 18.645 kg\n",
      "my moon weight in 9 year is 18.81 kg\n",
      "my moon weight in 10 year is 18.975 kg\n",
      "my moon weight in 11 year is 19.14 kg\n",
      "my moon weight in 12 year is 19.305 kg\n",
      "my moon weight in 13 year is 19.47 kg\n",
      "my moon weight in 14 year is 19.635 kg\n",
      "my moon weight in 15 year is 19.8 kg\n"
     ]
    }
   ],
   "source": [
    "for i in range(1,16):\n",
    "   print('my moon weight in '+str(i)+' year is '+str((my_weight+i)*0.165)+' kg') "
   ]
  },
  {
   "cell_type": "code",
   "execution_count": 72,
   "metadata": {},
   "outputs": [
    {
     "data": {
      "text/plain": [
       "5.2"
      ]
     },
     "execution_count": 72,
     "metadata": {},
     "output_type": "execute_result"
    }
   ],
   "source": [
    "def moon_weight_1(weight, addon):\n",
    "    estimated_weight = weight*0.165+addon\n",
    "    return estimated_weight\n",
    "moon_weight_1(30,0.25)"
   ]
  },
  {
   "cell_type": "code",
   "execution_count": 73,
   "metadata": {},
   "outputs": [
    {
     "data": {
      "text/plain": [
       "16.1"
      ]
     },
     "execution_count": 73,
     "metadata": {},
     "output_type": "execute_result"
    }
   ],
   "source": [
    "def moon_weight_2(weight, addon, duration):\n",
    "    estimated_weight = weight*0.165+addon*duration\n",
    "    return estimated_weight\n",
    "moon_weight_2(90, 0.25, 5)"
   ]
  },
  {
   "cell_type": "code",
   "execution_count": null,
   "metadata": {},
   "outputs": [],
   "source": []
  },
  {
   "cell_type": "code",
   "execution_count": null,
   "metadata": {},
   "outputs": [],
   "source": []
  }
 ],
 "metadata": {
  "kernelspec": {
   "display_name": "Python 2",
   "language": "python",
   "name": "python2"
  },
  "language_info": {
   "codemirror_mode": {
    "name": "ipython",
    "version": 2
   },
   "file_extension": ".py",
   "mimetype": "text/x-python",
   "name": "python",
   "nbconvert_exporter": "python",
   "pygments_lexer": "ipython2",
   "version": "2.7.12"
  }
 },
 "nbformat": 4,
 "nbformat_minor": 2
}
