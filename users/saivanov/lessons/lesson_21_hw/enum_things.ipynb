{
 "cells": [
  {
   "cell_type": "code",
   "execution_count": null,
   "id": "a45b1799",
   "metadata": {},
   "outputs": [],
   "source": [
    "#https://docs.python.org/3/library/enum.html\n",
    "Инам - пользовательские перечисляемые типы\n",
    "Надстройка над целым типом"
   ]
  },
  {
   "cell_type": "code",
   "execution_count": 7,
   "id": "b94479b3",
   "metadata": {},
   "outputs": [],
   "source": [
    "from enum import Enum\n",
    "\n",
    "# class syntax\n",
    "\n",
    "class Color(Enum):\n",
    "\n",
    "    RED = 1\n",
    "\n",
    "    GREEN = 2\n",
    "\n",
    "    BLUE = 3\n",
    "\n",
    "# functional syntax\n",
    "\n",
    "fColor = Enum('Color', ['RED', 'GREEN', 'BLUE'])"
   ]
  },
  {
   "cell_type": "code",
   "execution_count": 8,
   "id": "2170f450",
   "metadata": {},
   "outputs": [
    {
     "name": "stdout",
     "output_type": "stream",
     "text": [
      "<enum 'Color'>\n"
     ]
    }
   ],
   "source": [
    "print(Color)"
   ]
  },
  {
   "cell_type": "code",
   "execution_count": 11,
   "id": "eafb93e8",
   "metadata": {},
   "outputs": [
    {
     "name": "stdout",
     "output_type": "stream",
     "text": [
      "RED\n"
     ]
    }
   ],
   "source": [
    "def color_foo(color):\n",
    "    if(color in Color):\n",
    "        print(color.name)\n",
    "    return   \n",
    "eRed = Color.RED\n",
    "fakeRed = 'RED'\n",
    "color_foo(eRed)\n",
    "#color_foo(fakeRed)"
   ]
  },
  {
   "cell_type": "code",
   "execution_count": null,
   "id": "392bcb76",
   "metadata": {},
   "outputs": [],
   "source": []
  }
 ],
 "metadata": {
  "kernelspec": {
   "display_name": "Python 3 (ipykernel)",
   "language": "python",
   "name": "python3"
  },
  "language_info": {
   "codemirror_mode": {
    "name": "ipython",
    "version": 3
   },
   "file_extension": ".py",
   "mimetype": "text/x-python",
   "name": "python",
   "nbconvert_exporter": "python",
   "pygments_lexer": "ipython3",
   "version": "3.9.7"
  }
 },
 "nbformat": 4,
 "nbformat_minor": 5
}
