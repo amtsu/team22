{
 "cells": [
  {
   "cell_type": "code",
   "execution_count": 42,
   "metadata": {},
   "outputs": [],
   "source": [
    "#листинг по test drive development"
   ]
  },
  {
   "cell_type": "code",
   "execution_count": 43,
   "metadata": {},
   "outputs": [],
   "source": [
    "#функция find_dupies - поиск повторяющихся элементов в списке\n",
    "#inputlist - входной список('список имен', например)\n",
    "# возвращает список из повторяющихся имен  \n",
    "def find_dupies(inputlist):\n",
    "    result ={} #словарь\n",
    "    for name in inputlist:\n",
    "        if name not in result:\n",
    "            result[name] = 1\n",
    "        else:\n",
    "            result[name] += 1\n",
    "        #print(result)    \n",
    "    names = [] #список\n",
    "    for name in result:\n",
    "        if result[name]>1:\n",
    "            names.append(name)\n",
    "    return set(names)"
   ]
  },
  {
   "cell_type": "code",
   "execution_count": 46,
   "metadata": {},
   "outputs": [],
   "source": [
    "#find_dupies(['Vasya','Zhenya','Petya','Petya', 'Zhenya'])"
   ]
  },
  {
   "cell_type": "code",
   "execution_count": 47,
   "metadata": {},
   "outputs": [
    {
     "name": "stdout",
     "output_type": "stream",
     "text": [
      "test #1 : passed\n",
      "test #2 : passed\n",
      "test #3 : passed\n",
      "test #4 : passed\n",
      "test #5 : passed\n",
      "test #6 : passed\n",
      "test #7 : test OK\n"
     ]
    }
   ],
   "source": [
    "#тесты для функции поиска повторов\n",
    "def test1():\n",
    "    \n",
    "    condition = (find_dupies(['alyona', 'alyona'])==set(['alyona']))\n",
    "    if condition:\n",
    "        return 'passed'\n",
    "    return 'FAILED'\n",
    "#-----------------------------------------\n",
    "def test2():\n",
    "    \n",
    "    condition = (find_dupies(['Vasya','Petya','Zhenya','Petya', 'Petya'])==set(['Petya']))\n",
    "    if condition:\n",
    "        return 'passed'\n",
    "    return 'FAILED'\n",
    "#-----------------------------------------------------------\n",
    "def test3():    \n",
    "    condition = (find_dupies(['Vasya','Petya','Zhenya','Petya', 'Zhenya'])==set(['Petya','Zhenya']))\n",
    "    if condition:\n",
    "        return 'passed'\n",
    "    return 'FAILED'\n",
    "\n",
    "def test4():    \n",
    "    condition = (set(find_dupies(['Vasya','Petya','Zhenya','Petya', 'Zhenya']))==set(['Petya','Zhenya']))\n",
    "    if condition:\n",
    "        return 'passed'\n",
    "    return 'FAILED'\n",
    "\n",
    "def test5():    \n",
    "    condition = (set(find_dupies(['Vasya','Petya','Zhenya','Petya', 'Zhenya']))==set(['Zhenya','Petya']))\n",
    "    if condition:\n",
    "        return 'passed'\n",
    "    return 'FAILED'\n",
    "\n",
    "def test6():    \n",
    "    condition = (find_dupies(['Vasya','Petya','Zhenya','Petya', 'Zhenya'])==set(['Zhenya','Petya']))\n",
    "    if condition:\n",
    "        return 'passed'\n",
    "    return 'FAILED'\n",
    "\n",
    "def test7():\n",
    "    test_result = set() # это set\n",
    "    test_result = find_dupies(['Vasya','Petya','Zhenya','Petya', 'Zhenya'])\n",
    "    #print(test_result)\n",
    "    if test_result == set(['Zhenya','Petya']): # если результат теста не соответствует ожиданиям\n",
    "            return('test OK') \n",
    "    else:\n",
    "            return 'не ОК'\n",
    "    return 'что-то'       \n",
    "#-----------------------------------------\n",
    "#оформление результата\n",
    "def print_test_result(test, testnumber):\n",
    "    print('test #' + str(testnumber) +' : '+ test())\n",
    "    return\n",
    "#-----------------------------------------\n",
    "#вызов всех тестов\n",
    "def do_testing():\n",
    "    print_test_result(test1,1)\n",
    "    print_test_result(test2,2)\n",
    "    print_test_result(test3,3)\n",
    "    print_test_result(test4,4)\n",
    "    print_test_result(test5,5)\n",
    "    print_test_result(test6,6)\n",
    "    print_test_result(test7,7)\n",
    "    return\n",
    "do_testing()"
   ]
  },
  {
   "cell_type": "code",
   "execution_count": null,
   "metadata": {},
   "outputs": [],
   "source": [
    "\n"
   ]
  },
  {
   "cell_type": "code",
   "execution_count": null,
   "metadata": {},
   "outputs": [],
   "source": []
  }
 ],
 "metadata": {
  "kernelspec": {
   "display_name": "Python 2",
   "language": "python",
   "name": "python2"
  },
  "language_info": {
   "codemirror_mode": {
    "name": "ipython",
    "version": 2
   },
   "file_extension": ".py",
   "mimetype": "text/x-python",
   "name": "python",
   "nbconvert_exporter": "python",
   "pygments_lexer": "ipython2",
   "version": "2.7.12"
  }
 },
 "nbformat": 4,
 "nbformat_minor": 2
}
