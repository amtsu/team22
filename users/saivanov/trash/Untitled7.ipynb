{
 "cells": [
  {
   "cell_type": "markdown",
   "id": "316c4ada-cbe9-4a44-bcca-abb0c4bd5683",
   "metadata": {},
   "source": [
    "<h3>hw8: assert, exceptions, tests</h3>"
   ]
  },
  {
   "cell_type": "code",
   "execution_count": 2,
   "id": "5b0703fc-e1ee-41c7-a193-4a497753e6fc",
   "metadata": {},
   "outputs": [
    {
     "ename": "AssertionError",
     "evalue": "",
     "output_type": "error",
     "traceback": [
      "\u001b[0;31m---------------------------------------------------------------------------\u001b[0m",
      "\u001b[0;31mAssertionError\u001b[0m                            Traceback (most recent call last)",
      "Cell \u001b[0;32mIn[2], line 3\u001b[0m\n\u001b[1;32m      1\u001b[0m a_number\u001b[38;5;241m=\u001b[39m \u001b[38;5;241m5\u001b[39m\n\u001b[1;32m      2\u001b[0m \u001b[38;5;28;01massert\u001b[39;00m \u001b[38;5;241m5\u001b[39m \u001b[38;5;241m==\u001b[39m a_number\n\u001b[0;32m----> 3\u001b[0m \u001b[38;5;28;01massert\u001b[39;00m \u001b[38;5;241m6\u001b[39m \u001b[38;5;241m==\u001b[39m a_number\n",
      "\u001b[0;31mAssertionError\u001b[0m: "
     ]
    }
   ],
   "source": [
    "a_number= 5\n",
    "assert 5 == a_number\n",
    "assert 6 == a_number"
   ]
  },
  {
   "cell_type": "code",
   "execution_count": 4,
   "id": "e31eea91-fbcf-42e0-8a41-f3c1c1571dfa",
   "metadata": {},
   "outputs": [
    {
     "ename": "AssertionError",
     "evalue": "",
     "output_type": "error",
     "traceback": [
      "\u001b[0;31m---------------------------------------------------------------------------\u001b[0m",
      "\u001b[0;31mAssertionError\u001b[0m                            Traceback (most recent call last)",
      "Cell \u001b[0;32mIn[4], line 4\u001b[0m\n\u001b[1;32m      2\u001b[0m     \u001b[38;5;28;01mraise\u001b[39;00m \u001b[38;5;167;01mAssertionError\u001b[39;00m\n\u001b[1;32m      3\u001b[0m \u001b[38;5;28;01mif\u001b[39;00m \u001b[38;5;129;01mnot\u001b[39;00m \u001b[38;5;241m6\u001b[39m \u001b[38;5;241m==\u001b[39m a_number:\n\u001b[0;32m----> 4\u001b[0m     \u001b[38;5;28;01mraise\u001b[39;00m \u001b[38;5;167;01mAssertionError\u001b[39;00m\n",
      "\u001b[0;31mAssertionError\u001b[0m: "
     ]
    }
   ],
   "source": [
    "if not 5 == a_number:\n",
    "    raise AssertionError\n",
    "if not 6 == a_number:\n",
    "    raise AssertionError\n",
    "    "
   ]
  },
  {
   "cell_type": "code",
   "execution_count": 32,
   "id": "99c34dd0-a2e1-458d-b29f-6fa1e06d5b6d",
   "metadata": {},
   "outputs": [
    {
     "name": "stdout",
     "output_type": "stream",
     "text": [
      "Thе triangle with sides (5, 4, 3) is right\n",
      "Thе triangle with sides (3, 4, 5) is right\n"
     ]
    }
   ],
   "source": [
    "def triangleCheckType(a: float, b: float, c: float) -> None:\n",
    "    triangle_exist = (a < (b + c)) and (b < (a + c)) and (c < (a + b))\n",
    "    if triangle_exist:\n",
    "        sides = [a, b, c]\n",
    "        sides.sort()\n",
    "        acuteTriangle = (sides[0]**2 + sides[1]**2) > sides[2]**2\n",
    "        obtuseTriangle = (sides[0]**2 + sides[1]**2) < sides[2]**2\n",
    "        rightTriangle = abs((sides[0]**2 + sides[1]**2) - sides[2]**2) <= 0.01\n",
    "\n",
    "        if acuteTriangle:\n",
    "            print(f\"Thе triangle with sides {a, b, c}  is acute\")\n",
    "        elif obtuseTriangle:\n",
    "            print(f\"Thе triangle with sides {a, b, c} is obtuse\")\n",
    "        elif rightTriangle:\n",
    "            print(f\"Thе triangle with sides {a, b, c} is right\")\n",
    "            \n",
    "    else:\n",
    "        print(f\"The triangle with sides {a, b, c} doesn't exist\")\n",
    "def triangleCheckType2(_a: float, _b: float, _c: float) -> None:\n",
    "    a,b,c = sorted([_a,_b,_c])\n",
    "    triangle_exist = (c < (a + b))\n",
    "    if triangle_exist:\n",
    "        acuteTriangle = (a**2 + b**2) > c**2\n",
    "        obtuseTriangle = (a**2 + b**2) < c**2\n",
    "        if acuteTriangle:\n",
    "            print(f\"Thе triangle with sides {a, b, c}  is acute\")\n",
    "        elif obtuseTriangle:\n",
    "            print(f\"Thе triangle with sides {a, b, c} is obtuse\")\n",
    "        else:\n",
    "            print(f\"Thе triangle with sides {a, b, c} is right\")           \n",
    "    else:\n",
    "        print(f\"The triangle with sides {a, b, c} doesn't exist\")\n",
    "a = 5\n",
    "b = 4\n",
    "c = 3\n",
    "\n",
    "triangleCheckType(a,b,c)\n",
    "triangleCheckType2(a,b,c)"
   ]
  },
  {
   "cell_type": "code",
   "execution_count": 2,
   "id": "5f3ea35a-7ee6-40f4-8db8-bcd23352c01a",
   "metadata": {},
   "outputs": [
    {
     "name": "stdout",
     "output_type": "stream",
     "text": [
      "('c', 0)\n"
     ]
    }
   ],
   "source": [
    "def max_element(dict):\n",
    "    max_value = max(dict.items())\n",
    "    return max_value\n",
    "\n",
    "dict = {'a': 10, 'b': 5, 'c': 0}\n",
    "max_value = max_element(dict)\n",
    "print(max_value)"
   ]
  },
  {
   "cell_type": "code",
   "execution_count": 6,
   "id": "5a743f36-4e7c-4043-8e87-e1732a0276e3",
   "metadata": {},
   "outputs": [
    {
     "name": "stdout",
     "output_type": "stream",
     "text": [
      "год 1900 - високосный\n",
      "год 2000 - високосный\n",
      "год 1904 - високосный\n",
      "год 2024 - високосный\n"
     ]
    }
   ],
   "source": [
    "def leap_ear(i):\n",
    "    if (i % 4 == 0 and i % 100 == 0) or i % 400 != 0:\n",
    "        return (\"високосный\")\n",
    "    else:\n",
    "        return (\"обычный\")\n",
    "#i = int(input())\n",
    "years = [1900, 2000, 1904, 2024]\n",
    "for year in years:\n",
    "    print(f\"год {year} - {leap_ear(year)}\")\n"
   ]
  },
  {
   "cell_type": "code",
   "execution_count": 9,
   "id": "7c240718-77b5-47ce-92f0-e3a788a7f9d6",
   "metadata": {},
   "outputs": [
    {
     "name": "stdin",
     "output_type": "stream",
     "text": [
      " swrferfe\n"
     ]
    },
    {
     "name": "stdout",
     "output_type": "stream",
     "text": [
      "True\n"
     ]
    }
   ],
   "source": [
    "def check_string(string):\n",
    "    ab = 'abcdefghijklmnopqrstuvwxyz'\n",
    "    return all([x.lower() in ab for x in string])\n",
    "res = check_string(input())\n",
    "print(res)"
   ]
  },
  {
   "cell_type": "code",
   "execution_count": 10,
   "id": "9dbca86a-5c99-449b-a603-220affb466aa",
   "metadata": {},
   "outputs": [
    {
     "name": "stdin",
     "output_type": "stream",
     "text": [
      " -1\n"
     ]
    },
    {
     "data": {
      "text/plain": [
       "'суббота'"
      ]
     },
     "execution_count": 10,
     "metadata": {},
     "output_type": "execute_result"
    }
   ],
   "source": [
    "def weekday():\n",
    "    res = [\"понедельник\", \"вторник\", \"среда\", \"четверг\", \"пятница\", \"суббота\", \"воскресенье\"]\n",
    "    return res[n-1]\n",
    "n = int(input()) \n",
    "weekday()\n"
   ]
  },
  {
   "cell_type": "code",
   "execution_count": 11,
   "id": "36aaccf1-8f94-4dd0-826d-03c7584c8da7",
   "metadata": {},
   "outputs": [
    {
     "name": "stdin",
     "output_type": "stream",
     "text": [
      " Ada\n"
     ]
    },
    {
     "data": {
      "text/plain": [
       "'не палиндром'"
      ]
     },
     "execution_count": 11,
     "metadata": {},
     "output_type": "execute_result"
    }
   ],
   "source": [
    "def isPalindrome(s): \n",
    "    rev = ''.join(reversed(s)) \n",
    "    if (s == rev): \n",
    "        return \"палиндром\"\n",
    "    return \"не палиндром\"\n",
    "\n",
    "s = input() \n",
    "isPalindrome(s)"
   ]
  },
  {
   "cell_type": "code",
   "execution_count": 3,
   "id": "fe8160af-bd87-49a5-8e53-b4e4fc9ec680",
   "metadata": {},
   "outputs": [
    {
     "name": "stdout",
     "output_type": "stream",
     "text": [
      "5\n",
      "5\n",
      "Какая-то херня\n"
     ]
    }
   ],
   "source": [
    "\n",
    "\n",
    "set1 = {1,2,3,4,5}\n",
    "set2 = {4,5,6,7,8}\n",
    "\n",
    "print(len(set1))\n",
    "print(len(set2))\n",
    "if set1>set2:\n",
    "    print(\"set1>set2\")\n",
    "elif set2>set1:\n",
    "    print(\"set2>set1\")\n",
    "elif set1 == set2:\n",
    "    print(\"Множества равны\")\n",
    "else:\n",
    "    print(\"Какая-то херня\")"
   ]
  },
  {
   "cell_type": "code",
   "execution_count": 5,
   "id": "1b021655-f093-4f13-99b6-51c0f7f820ce",
   "metadata": {},
   "outputs": [
    {
     "ename": "KeyError",
     "evalue": "-1",
     "output_type": "error",
     "traceback": [
      "\u001b[0;31m---------------------------------------------------------------------------\u001b[0m",
      "\u001b[0;31mKeyError\u001b[0m                                  Traceback (most recent call last)",
      "Cell \u001b[0;32mIn[5], line 11\u001b[0m\n\u001b[1;32m      2\u001b[0m     days \u001b[38;5;241m=\u001b[39m {\u001b[38;5;241m1\u001b[39m : \u001b[38;5;124m'\u001b[39m\u001b[38;5;124mПонедельник\u001b[39m\u001b[38;5;124m'\u001b[39m,\n\u001b[1;32m      3\u001b[0m            \u001b[38;5;241m2\u001b[39m : \u001b[38;5;124m'\u001b[39m\u001b[38;5;124mВторник\u001b[39m\u001b[38;5;124m'\u001b[39m,\n\u001b[1;32m      4\u001b[0m            \u001b[38;5;241m3\u001b[39m : \u001b[38;5;124m'\u001b[39m\u001b[38;5;124mСреда\u001b[39m\u001b[38;5;124m'\u001b[39m,\n\u001b[0;32m   (...)\u001b[0m\n\u001b[1;32m      7\u001b[0m            \u001b[38;5;241m6\u001b[39m : \u001b[38;5;124m'\u001b[39m\u001b[38;5;124mСуббота\u001b[39m\u001b[38;5;124m'\u001b[39m,\n\u001b[1;32m      8\u001b[0m            \u001b[38;5;241m7\u001b[39m : \u001b[38;5;124m'\u001b[39m\u001b[38;5;124mВоскресенье\u001b[39m\u001b[38;5;124m'\u001b[39m}\n\u001b[1;32m      9\u001b[0m     \u001b[38;5;28;01mreturn\u001b[39;00m days[n]\n\u001b[0;32m---> 11\u001b[0m \u001b[43mday_of_week\u001b[49m\u001b[43m(\u001b[49m\u001b[38;5;241;43m-\u001b[39;49m\u001b[38;5;241;43m1\u001b[39;49m\u001b[43m)\u001b[49m\n",
      "Cell \u001b[0;32mIn[5], line 9\u001b[0m, in \u001b[0;36mday_of_week\u001b[0;34m(n)\u001b[0m\n\u001b[1;32m      1\u001b[0m \u001b[38;5;28;01mdef\u001b[39;00m \u001b[38;5;21mday_of_week\u001b[39m(n):\n\u001b[1;32m      2\u001b[0m     days \u001b[38;5;241m=\u001b[39m {\u001b[38;5;241m1\u001b[39m : \u001b[38;5;124m'\u001b[39m\u001b[38;5;124mПонедельник\u001b[39m\u001b[38;5;124m'\u001b[39m,\n\u001b[1;32m      3\u001b[0m            \u001b[38;5;241m2\u001b[39m : \u001b[38;5;124m'\u001b[39m\u001b[38;5;124mВторник\u001b[39m\u001b[38;5;124m'\u001b[39m,\n\u001b[1;32m      4\u001b[0m            \u001b[38;5;241m3\u001b[39m : \u001b[38;5;124m'\u001b[39m\u001b[38;5;124mСреда\u001b[39m\u001b[38;5;124m'\u001b[39m,\n\u001b[0;32m   (...)\u001b[0m\n\u001b[1;32m      7\u001b[0m            \u001b[38;5;241m6\u001b[39m : \u001b[38;5;124m'\u001b[39m\u001b[38;5;124mСуббота\u001b[39m\u001b[38;5;124m'\u001b[39m,\n\u001b[1;32m      8\u001b[0m            \u001b[38;5;241m7\u001b[39m : \u001b[38;5;124m'\u001b[39m\u001b[38;5;124mВоскресенье\u001b[39m\u001b[38;5;124m'\u001b[39m}\n\u001b[0;32m----> 9\u001b[0m     \u001b[38;5;28;01mreturn\u001b[39;00m \u001b[43mdays\u001b[49m\u001b[43m[\u001b[49m\u001b[43mn\u001b[49m\u001b[43m]\u001b[49m\n",
      "\u001b[0;31mKeyError\u001b[0m: -1"
     ]
    }
   ],
   "source": [
    "def day_of_week(n):\n",
    "    days = {1 : 'Понедельник',\n",
    "           2 : 'Вторник',\n",
    "           3 : 'Среда',\n",
    "           4 : 'Четверг',\n",
    "           5 : 'Пятница',\n",
    "           6 : 'Суббота',\n",
    "           7 : 'Воскресенье'}\n",
    "    return days[n]\n",
    "\n",
    "day_of_week(-1)"
   ]
  },
  {
   "cell_type": "code",
   "execution_count": 7,
   "id": "4638c122-32c5-40da-a572-0031b47b4b08",
   "metadata": {},
   "outputs": [
    {
     "name": "stdout",
     "output_type": "stream",
     "text": [
      "Введите число-порог\n"
     ]
    },
    {
     "name": "stdin",
     "output_type": "stream",
     "text": [
      " 12\n"
     ]
    },
    {
     "name": "stdout",
     "output_type": "stream",
     "text": [
      "Введите число для сравнения\n"
     ]
    },
    {
     "name": "stdin",
     "output_type": "stream",
     "text": [
      " 1\n"
     ]
    },
    {
     "name": "stdout",
     "output_type": "stream",
     "text": [
      "Введите число для сравнения\n"
     ]
    },
    {
     "name": "stdin",
     "output_type": "stream",
     "text": [
      " 1\n"
     ]
    },
    {
     "name": "stdout",
     "output_type": "stream",
     "text": [
      "Введите число для сравнения\n"
     ]
    },
    {
     "name": "stdin",
     "output_type": "stream",
     "text": [
      " 2\n"
     ]
    },
    {
     "name": "stdout",
     "output_type": "stream",
     "text": [
      "Введите число для сравнения\n"
     ]
    },
    {
     "name": "stdin",
     "output_type": "stream",
     "text": [
      " 3\n"
     ]
    },
    {
     "name": "stdout",
     "output_type": "stream",
     "text": [
      "Введите число для сравнения\n"
     ]
    },
    {
     "name": "stdin",
     "output_type": "stream",
     "text": [
      " 4\n"
     ]
    },
    {
     "name": "stdout",
     "output_type": "stream",
     "text": [
      "Введите число для сравнения\n"
     ]
    },
    {
     "name": "stdin",
     "output_type": "stream",
     "text": [
      " 555\n"
     ]
    },
    {
     "name": "stdout",
     "output_type": "stream",
     "text": [
      "Число больше или равно порогу\n"
     ]
    }
   ],
   "source": [
    "def get_value_from_user():\n",
    "    print('Введите число-порог')\n",
    "    porog = int(input())\n",
    "    print('Введите число для сравнения')\n",
    "    i = int(input())\n",
    "    if i > porog or i == porog:\n",
    "        print('Число больше или равно порогу')\n",
    "    else:\n",
    "        while i <= porog:\n",
    "            print('Введите число для сравнения')\n",
    "            i = int(input())\n",
    "            if i > porog or i == porog:\n",
    "                print('Число больше или равно порогу')\n",
    "\n",
    "get_value_from_user()"
   ]
  },
  {
   "cell_type": "code",
   "execution_count": 10,
   "id": "fd70acc5-1d0c-4f5b-8313-a5f908058bdd",
   "metadata": {},
   "outputs": [
    {
     "data": {
      "text/plain": [
       "['5']"
      ]
     },
     "execution_count": 10,
     "metadata": {},
     "output_type": "execute_result"
    }
   ],
   "source": [
    "def double_symbols(stroka):\n",
    "    result = []\n",
    "    s = list(stroka.lower())\n",
    "    s.sort()\n",
    "    for i in range(len(s)-1):\n",
    "        if s[i] == s[i+1] and s[i] not in result:\n",
    "            result.append(s[i])\n",
    "    return result\n",
    "\n",
    "double_symbols(\"12345567890\")"
   ]
  }
 ],
 "metadata": {
  "kernelspec": {
   "display_name": "Python 3 (ipykernel)",
   "language": "python",
   "name": "python3"
  },
  "language_info": {
   "codemirror_mode": {
    "name": "ipython",
    "version": 3
   },
   "file_extension": ".py",
   "mimetype": "text/x-python",
   "name": "python",
   "nbconvert_exporter": "python",
   "pygments_lexer": "ipython3",
   "version": "3.10.10"
  }
 },
 "nbformat": 4,
 "nbformat_minor": 5
}
