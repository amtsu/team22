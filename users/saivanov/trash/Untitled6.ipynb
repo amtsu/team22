{
 "cells": [
  {
   "cell_type": "code",
   "execution_count": 2,
   "id": "39866b32-cfb4-4c54-8e87-de54431a49ca",
   "metadata": {},
   "outputs": [
    {
     "name": "stdout",
     "output_type": "stream",
     "text": [
      "\n",
      "Вас приветствует простой пользовательский интерфейс.\n",
      "Как вы хотите вывести хайку?\n",
      "Возможные действия:\n",
      "1 - вывод хайку заглавными буквами\n",
      "2 - вывод только третьих символов каждой строки хайку\n",
      "3 - вывод хайку красным цветом\n",
      "Введите номер действия или q для выхода: \n",
      "\n"
     ]
    },
    {
     "name": "stdin",
     "output_type": "stream",
     "text": [
      " 3\n"
     ]
    },
    {
     "name": "stdout",
     "output_type": "stream",
     "text": [
      "\u001b[31m Всё глазел на них \u001b[0m\n",
      "\u001b[31m Сакуры цветы, пока \u001b[0m\n",
      "\u001b[31m Шею не свело \u001b[0m\n",
      "\n",
      "Вас приветствует простой пользовательский интерфейс.\n",
      "Как вы хотите вывести хайку?\n",
      "Возможные действия:\n",
      "1 - вывод хайку заглавными буквами\n",
      "2 - вывод только третьих символов каждой строки хайку\n",
      "3 - вывод хайку красным цветом\n",
      "Введите номер действия или q для выхода: \n",
      "\n"
     ]
    },
    {
     "name": "stdin",
     "output_type": "stream",
     "text": [
      " й\n"
     ]
    },
    {
     "name": "stdout",
     "output_type": "stream",
     "text": [
      "Нет такого пробразования\n",
      "\n",
      "Вас приветствует простой пользовательский интерфейс.\n",
      "Как вы хотите вывести хайку?\n",
      "Возможные действия:\n",
      "1 - вывод хайку заглавными буквами\n",
      "2 - вывод только третьих символов каждой строки хайку\n",
      "3 - вывод хайку красным цветом\n",
      "Введите номер действия или q для выхода: \n",
      "\n"
     ]
    },
    {
     "name": "stdin",
     "output_type": "stream",
     "text": [
      " q\n"
     ]
    }
   ],
   "source": [
    "a_haiku = [\"Всё глазел на них\",\n",
    "\"Сакуры цветы, пока\",\n",
    "\"Шею не свело\"]\n",
    "\n",
    "def print_haiku(haiku):\n",
    "    instuction ='''\\nВас приветствует простой пользовательский интерфейс.\n",
    "Как вы хотите вывести хайку?\n",
    "Возможные действия:\n",
    "1 - вывод хайку заглавными буквами\n",
    "2 - вывод только третьих символов каждой строки хайку\n",
    "3 - вывод хайку красным цветом\n",
    "Введите номер действия или q для выхода: \\n'''\n",
    "    print (instuction)\n",
    "    preobrazovanie = (input())\n",
    "    for line in haiku:\n",
    "        if (preobrazovanie==\"0\"):\n",
    "            print(line)\n",
    "        elif(preobrazovanie==\"1\"):\n",
    "            print(line.upper())\n",
    "        elif(preobrazovanie==\"2\"):\n",
    "            print(line[::3])\n",
    "        elif(preobrazovanie==\"3\"):\n",
    "            print(\"\\033[31m\",line,\"\\033[0m\")\n",
    "        elif(preobrazovanie==\"q\"):\n",
    "            return;\n",
    "        else:\n",
    "            print(\"Нет такого пробразования\")\n",
    "            break\n",
    "    print_haiku(haiku)\n",
    "\n",
    "print_haiku(a_haiku)"
   ]
  },
  {
   "cell_type": "code",
   "execution_count": 3,
   "id": "57be5d7c-265f-4b66-a355-1733422eb6df",
   "metadata": {},
   "outputs": [
    {
     "name": "stdout",
     "output_type": "stream",
     "text": [
      "1\n",
      "4\n",
      "7\n",
      "2\n",
      "5\n",
      "8\n",
      "3\n",
      "6\n",
      "9\n",
      "\n",
      "==============================\n",
      "1\n",
      "4\n",
      "7\n",
      "10\n",
      "2\n",
      "5\n",
      "8\n",
      "11\n",
      "3\n",
      "6\n",
      "9\n",
      "12\n",
      "\n",
      "==============================\n",
      "1\n",
      "3\n",
      "5\n",
      "7\n",
      "2\n",
      "4\n",
      "6\n",
      "8\n",
      "\n",
      "==============================\n",
      "1\n",
      "2\n",
      "5\n",
      "6\n",
      "9\n",
      "10\n",
      "\n",
      "==============================\n",
      "1\n",
      "2\n",
      "3\n",
      "\n",
      "==============================\n",
      "\n"
     ]
    }
   ],
   "source": [
    "'''\n",
    "Задание 1. Написать функцию для вывода двумерной матрицы по столбцам, \n",
    "не используя индексацию (с помощью [] или любым другим способом получения\n",
    "элемента по заданному индексу).\n",
    "Функция должна принимать на вход список и ничего не возвращать\n",
    "'''\n",
    "def print_matrix(matrix):\n",
    "    '''\n",
    "    это функция, печатающая двумерный список matrix по столбцам\n",
    "    '''\n",
    "    #тело функции следует написать вот тут\n",
    "   \n",
    "    \n",
    "    output = \"\"\n",
    "    for row in matrix:\n",
    "        for element in row:\n",
    "            output += str(element) + \"\\n\"    #вывод только через переменную получился смотерть чуть ниже.\n",
    "    print( output)                            #по другому не cмогла найти решения без индексации  \n",
    "          \n",
    "#Эта функция принимает матрицу в виде списка списков и возвращает строку,\n",
    "#содержащую элементы матрицы, выведенные в столбец   \n",
    "\n",
    "            \n",
    "   \n",
    "   \n",
    " #проверка        \n",
    "matrix1 = [[1,4,7,],[2,5,8,],[3,6,9,]]\n",
    "matrix2 = [[1,4,7,10],[2,5,8,11],[3,6,9,12]]\n",
    "matrix3 = [[1,3,5,7],[2,4,6,8],]\n",
    "matrix4 = [[1,2,],[5,6,],[9,10,]]\n",
    "matrix5 = [[1,2,3],]\n",
    "matrix6 = []\n",
    "\n",
    "print_matrix(matrix1)\n",
    "print(\"=\"*30)\n",
    "print_matrix(matrix2)\n",
    "print(\"=\"*30)\n",
    "print_matrix(matrix3)\n",
    "print(\"=\"*30)\n",
    "print_matrix(matrix4)\n",
    "print(\"=\"*30)\n",
    "print_matrix(matrix5)\n",
    "print(\"=\"*30)\n",
    "print_matrix(matrix6)\n",
    "def print_matrix(matrix):\n",
    "    for row in matrix:\n",
    "        for element in row:\n",
    "            print(element)\n",
    "print_matrix(matrix6)"
   ]
  },
  {
   "cell_type": "code",
   "execution_count": 4,
   "id": "e618bddc-3b06-41b8-85cf-3523c63ee173",
   "metadata": {},
   "outputs": [
    {
     "ename": "NameError",
     "evalue": "name 'matrix' is not defined",
     "output_type": "error",
     "traceback": [
      "\u001b[0;31m---------------------------------------------------------------------------\u001b[0m",
      "\u001b[0;31mNameError\u001b[0m                                 Traceback (most recent call last)",
      "Cell \u001b[0;32mIn[4], line 8\u001b[0m\n\u001b[1;32m      5\u001b[0m             output \u001b[38;5;241m+\u001b[39m\u001b[38;5;241m=\u001b[39m \u001b[38;5;28mstr\u001b[39m(element) \u001b[38;5;241m+\u001b[39m \u001b[38;5;124m\"\u001b[39m\u001b[38;5;130;01m\\n\u001b[39;00m\u001b[38;5;124m\"\u001b[39m\n\u001b[1;32m      6\u001b[0m     \u001b[38;5;28;01mreturn\u001b[39;00m output\n\u001b[0;32m----> 8\u001b[0m result \u001b[38;5;241m=\u001b[39m print_matrix(\u001b[43mmatrix\u001b[49m)\n\u001b[1;32m      9\u001b[0m \u001b[38;5;28mprint\u001b[39m(result)\n",
      "\u001b[0;31mNameError\u001b[0m: name 'matrix' is not defined"
     ]
    }
   ],
   "source": [
    "def print_matrix(matrix):\n",
    "    output = \"\"\n",
    "    for row in matrix:\n",
    "        for element in row:\n",
    "            output += str(element) + \"\\n\"\n",
    "    return output\n",
    "\n",
    "result = print_matrix(matrix)\n",
    "print(result)"
   ]
  }
 ],
 "metadata": {
  "kernelspec": {
   "display_name": "Python 3 (ipykernel)",
   "language": "python",
   "name": "python3"
  },
  "language_info": {
   "codemirror_mode": {
    "name": "ipython",
    "version": 3
   },
   "file_extension": ".py",
   "mimetype": "text/x-python",
   "name": "python",
   "nbconvert_exporter": "python",
   "pygments_lexer": "ipython3",
   "version": "3.10.10"
  }
 },
 "nbformat": 4,
 "nbformat_minor": 5
}
