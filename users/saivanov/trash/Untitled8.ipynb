{
 "cells": [
  {
   "cell_type": "code",
   "execution_count": 2,
   "id": "b5a5af13-a8c7-423d-b479-933ac13206f6",
   "metadata": {},
   "outputs": [
    {
     "name": "stdout",
     "output_type": "stream",
     "text": [
      "[3, 4, 5, 6, 7]\n",
      "-3\n",
      "-3.0\n"
     ]
    }
   ],
   "source": [
    "numbers = [1, 2, 3, 4, 5, 6, 7, 8, 9, 10]\n",
    "sublist = numbers[2:7]\n",
    "print(sublist)\n",
    "\n",
    "\n",
    "\n",
    "a_number = -3.14\n",
    "print(round(a_number))\n",
    "print((a_number+0.5)//1)"
   ]
  },
  {
   "cell_type": "code",
   "execution_count": 8,
   "id": "5ccf6fd8-8f54-4176-a8ef-77aa8a31c163",
   "metadata": {},
   "outputs": [],
   "source": [
    "fibonacci_list = [0, 1,1, 2, 3, 5, 8, 13, 21, 34, 55, 89, 144, 233, 377, 610, 987, 1597, 2584, 4181, 6765, 10946, 17711]"
   ]
  },
  {
   "cell_type": "code",
   "execution_count": 9,
   "id": "3df25fca-dab9-4611-99ae-e3273f2b70be",
   "metadata": {},
   "outputs": [
    {
     "name": "stdout",
     "output_type": "stream",
     "text": [
      "3\n"
     ]
    }
   ],
   "source": [
    "count_1 = len(fibonacci_list) - len(set(fibonacci_list)) + 1\n",
    "print(count_1)"
   ]
  },
  {
   "cell_type": "code",
   "execution_count": 12,
   "id": "8c08694f-691c-4494-9de5-26953fddc552",
   "metadata": {},
   "outputs": [
    {
     "name": "stdout",
     "output_type": "stream",
     "text": [
      "(1, 'Кто битым жизнью был,')\n",
      "(2, 'тот большего добьётся,')\n",
      "(3, 'Пуд соли съевший выше ценит мёд.')\n",
      "(4, 'Кто слёзы лил, тот искренней смеётся,')\n",
      "(5, 'Кто умирал, тот знает, что живёт.')\n"
     ]
    }
   ],
   "source": [
    "poem_list = [(2, \"тот большего добьётся,\" ), (5, \"Кто умирал, тот знает, что живёт.\"), (1, \"Кто битым жизнью был,\" ), (3, \"Пуд соли съевший выше ценит мёд.\"), (4, \"Кто слёзы лил, тот искренней смеётся,\")]\n",
    "#выведите на экран строки Омара Хайама в правильном порядке, используя список.\n",
    "poem_list.sort()\n",
    "print(*poem_list, sep='\\n')"
   ]
  }
 ],
 "metadata": {
  "kernelspec": {
   "display_name": "Python 3 (ipykernel)",
   "language": "python",
   "name": "python3"
  },
  "language_info": {
   "codemirror_mode": {
    "name": "ipython",
    "version": 3
   },
   "file_extension": ".py",
   "mimetype": "text/x-python",
   "name": "python",
   "nbconvert_exporter": "python",
   "pygments_lexer": "ipython3",
   "version": "3.10.10"
  }
 },
 "nbformat": 4,
 "nbformat_minor": 5
}
