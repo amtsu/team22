{
 "cells": [
  {
   "cell_type": "code",
   "execution_count": 7,
   "id": "2086fc2f-d0d1-434d-82c1-d42dba74823c",
   "metadata": {},
   "outputs": [
    {
     "name": "stdout",
     "output_type": "stream",
     "text": [
      "la;la;la;la;la;la;la;la;lal;ala;la\n"
     ]
    }
   ],
   "source": [
    "str='la;la;la;la;la;la;la;la;lal;ala;la'\n",
    "print(str)"
   ]
  },
  {
   "cell_type": "code",
   "execution_count": 8,
   "id": "0fa7b2f8-0f8d-4c19-bd46-6b394ff4c3b8",
   "metadata": {},
   "outputs": [
    {
     "name": "stdout",
     "output_type": "stream",
     "text": [
      "['la', 'la', 'la', 'la', 'la', 'la', 'la', 'la', 'lal', 'ala', 'la']\n"
     ]
    }
   ],
   "source": [
    "parsed_str = str.split(';')\n",
    "print(parsed_str)"
   ]
  },
  {
   "cell_type": "code",
   "execution_count": 15,
   "id": "feaa63d4-73dd-4e3a-a1ae-3ac6bbe83069",
   "metadata": {},
   "outputs": [
    {
     "name": "stdout",
     "output_type": "stream",
     "text": [
      "[[1, '2', 3], [4, 5, '6'], [7, 8, 9]]\n",
      "1\n",
      "4\n",
      "7\n",
      "2\n",
      "5\n",
      "8\n",
      "3\n",
      "6\n",
      "9\n"
     ]
    }
   ],
   "source": [
    "matrix = [[1,'2',3],[4,5,'6'],[7,8,9]]\n",
    "print(matrix)\n",
    "\n",
    "for i in range(3):\n",
    "    for j in range(3):\n",
    "        print(matrix[j][i])"
   ]
  },
  {
   "cell_type": "code",
   "execution_count": 16,
   "id": "6a9530e5-42f4-4406-8621-becc2d578dd0",
   "metadata": {},
   "outputs": [
    {
     "name": "stdout",
     "output_type": "stream",
     "text": [
      "1\n",
      "2\n",
      "3\n",
      "4\n",
      "5\n",
      "6\n",
      "7\n",
      "8\n",
      "9\n"
     ]
    }
   ],
   "source": [
    "for string in matrix:\n",
    "    for element in string:\n",
    "        print(element)"
   ]
  },
  {
   "cell_type": "code",
   "execution_count": 18,
   "id": "d6de9c9c-04dc-4532-af01-7d2f5734beb1",
   "metadata": {},
   "outputs": [
    {
     "name": "stdout",
     "output_type": "stream",
     "text": [
      "Вперед Вперед Вперед Вперед Вперед Вперед Вперед Вперед Вперед Вперед Вперед Вперед Вперед Вперед Вперед Вперед Вперед Вперед Вперед Вперед Вперед Вперед Вперед Вперед Вперед Вперед Вперед Вперед Вперед Вперед Вперед Вперед Вперед Вперед Вперед Вперед Вперед Вперед Вперед Вперед Вперед Вперед Вперед Вперед Вперед Вперед Вперед Вперед Вперед Вперед \n"
     ]
    }
   ],
   "source": [
    "print(\"Вперед \"*50)"
   ]
  },
  {
   "cell_type": "code",
   "execution_count": 3,
   "id": "9dbfaa02-91b5-4df9-a0b1-0dcc322e9437",
   "metadata": {},
   "outputs": [
    {
     "data": {
      "text/plain": [
       "True"
      ]
     },
     "execution_count": 3,
     "metadata": {},
     "output_type": "execute_result"
    }
   ],
   "source": [
    "def prime_number(n):\n",
    "    d = 2\n",
    "    while d ** 2 <= n and n % d != 0:\n",
    "        d += 1\n",
    "    return d ** 2 > n\n",
    "    \n",
    "prime_number(0)"
   ]
  },
  {
   "cell_type": "code",
   "execution_count": 8,
   "id": "4a086218-452c-4a67-a769-c954c87755a3",
   "metadata": {},
   "outputs": [
    {
     "data": {
      "text/plain": [
       "True"
      ]
     },
     "execution_count": 8,
     "metadata": {},
     "output_type": "execute_result"
    }
   ],
   "source": [
    "def letters_in_str(str_s):\n",
    "    if not str_s.isalpha():\n",
    "        return False\n",
    "    else:\n",
    "        return True\n",
    "my_str='ckvfjna'\n",
    "letters_in_str(my_str)"
   ]
  },
  {
   "cell_type": "code",
   "execution_count": 9,
   "id": "41ee7011-fead-4ccd-9d65-e901b357200d",
   "metadata": {},
   "outputs": [
    {
     "data": {
      "text/plain": [
       "{'l': 2, 'a': 2, 'n': 2}"
      ]
     },
     "execution_count": 9,
     "metadata": {},
     "output_type": "execute_result"
    }
   ],
   "source": [
    "def mult_string(string1):\n",
    "    result = {}\n",
    "    s = list(string1.lower())  # Приведение к нижнему регистру\n",
    "\n",
    "    for symbol in s:\n",
    "        if symbol.isalpha(): #Проверка, является ли символ буквой\n",
    "            if symbol not in result:\n",
    "                result[symbol] = 1\n",
    "            else:\n",
    "                num = result[symbol] + 1\n",
    "                result[symbol] = num\n",
    "                \n",
    "    result = {symbol: count for symbol, count in result.items() if count > 1} #?\n",
    "    return result\n",
    "\n",
    "mult_string('Hello Anna')"
   ]
  },
  {
   "cell_type": "code",
   "execution_count": null,
   "id": "cfa9cf39-f9f2-4f2a-b5e7-98fbd150a767",
   "metadata": {},
   "outputs": [],
   "source": []
  }
 ],
 "metadata": {
  "kernelspec": {
   "display_name": "Python 3 (ipykernel)",
   "language": "python",
   "name": "python3"
  },
  "language_info": {
   "codemirror_mode": {
    "name": "ipython",
    "version": 3
   },
   "file_extension": ".py",
   "mimetype": "text/x-python",
   "name": "python",
   "nbconvert_exporter": "python",
   "pygments_lexer": "ipython3",
   "version": "3.10.10"
  }
 },
 "nbformat": 4,
 "nbformat_minor": 5
}
