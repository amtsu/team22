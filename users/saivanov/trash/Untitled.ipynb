{
 "cells": [
  {
   "cell_type": "code",
   "execution_count": 1,
   "id": "8266a2df-8534-4af4-8d2f-3d9df206fcf7",
   "metadata": {},
   "outputs": [
    {
     "name": "stdout",
     "output_type": "stream",
     "text": [
      "['З', 'а', ' ', 'с', 'т', 'е', 'к', 'л', 'о', 'м', ' ', 'л', 'е', 'ж', 'а', 'л', ' ', 'П', 'и', 'т', 'о', 'н', ',', '\\n', 'Б', 'о', 'л', 'ь', 'ш', 'о', 'й', ' ', 'и', ' ', 'т', 'о', 'л', 'с', 'т', 'ы', 'й', ',', ' ', 'к', 'а', 'к', ' ', 'б', 'а', 'т', 'о', 'н', '.', '\\n', 'В', 'в', 'е', 'р', 'х', ' ', 'п', 'о', 'п', 'о', 'л', 'з', ',', '\\n', 'З', 'а', 'т', 'е', 'м', ' ', 'в', 'е', 'р', 'н', 'у', 'л', 'с', 'я', ',', '\\n', 'К', 'р', 'у', 'г', 'л', 'ы', 'м', ' ', 'б', 'у', 'б', 'л', 'и', 'к', 'о', 'м', ' ', 'с', 'в', 'е', 'р', 'н', 'у', 'л', 'с', 'я', '.']\n"
     ]
    }
   ],
   "source": [
    "a_poem = '''За стеклом лежал Питон,\n",
    "Большой и толстый, как батон.\n",
    "Вверх пополз,\n",
    "Затем вернулся,\n",
    "Круглым бубликом свернулся.'''\n",
    "a_list = []\n",
    "a_list = list(a_poem)\n",
    "print(a_list)"
   ]
  },
  {
   "cell_type": "code",
   "execution_count": 2,
   "id": "d450b9a3-9e2a-48cb-90aa-56dac24d59ca",
   "metadata": {},
   "outputs": [
    {
     "name": "stdout",
     "output_type": "stream",
     "text": [
      "['(1, \"Кто битым жизнью был,\" )', '(2, \"тот большего добьётся,\" )', '(3, \"Пуд соли съевший выше ценит мёд.\")', '(4, \"Кто слёзы лил, тот искренней смеётся,\")', '(5, \"Кто умирал, тот знает, что живёт.\")']\n"
     ]
    }
   ],
   "source": [
    "stih = '''(2, \"тот большего добьётся,\" )\n",
    "(5, \"Кто умирал, тот знает, что живёт.\")\n",
    "(1, \"Кто битым жизнью был,\" )\n",
    "(3, \"Пуд соли съевший выше ценит мёд.\")\n",
    "(4, \"Кто слёзы лил, тот искренней смеётся,\")'''\n",
    "stih_list = stih.split('\\n')\n",
    "#стихотворение разбила по строкам и сохранила в список\n",
    "stih_list.sort()\n",
    "#отсортировала список по возрастанию, но так как в строке '2' текст с маленькой буквы начинается, то питон решил, что он будет стоять в конце\n",
    "#stih_list.insert(1, stih_list[4])\n",
    "#Вставила копию строки '2'. Аргументы(куда ставить(индекс), что ставим)\n",
    "#stih_list.pop(-1)\n",
    "#Удалила последний, лишний элемент\n",
    "print(stih_list)"
   ]
  },
  {
   "cell_type": "code",
   "execution_count": 3,
   "id": "ca62bfcf-6203-4eb7-a93d-ff7e0afacbe2",
   "metadata": {},
   "outputs": [
    {
     "name": "stdout",
     "output_type": "stream",
     "text": [
      "['З', 'а', ' ', 'с', 'т', 'е', 'к', 'л', 'о', 'м', ' ', 'л', 'е', 'ж', 'а', 'л', ' ', 'П', 'и', 'т', 'о', 'н', ',', '\\n', 'Б', 'о', 'л', 'ь', 'ш', 'о', 'й', ' ', 'и', ' ', 'т', 'о', 'л', 'с', 'т', 'ы', 'й', ',', ' ', 'к', 'а', 'к', ' ', 'б', 'а', 'т', 'о', 'н', '.', '\\n', 'В', 'в', 'е', 'р', 'х', ' ', 'п', 'о', 'п', 'о', 'л', 'з', ',', '\\n', 'З', 'а', 'т', 'е', 'м', ' ', 'в', 'е', 'р', 'н', 'у', 'л', 'с', 'я', ',', '\\n', 'К', 'р', 'у', 'г', 'л', 'ы', 'м', ' ', 'б', 'у', 'б', 'л', 'и', 'к', 'о', 'м', ' ', 'с', 'в', 'е', 'р', 'н', 'у', 'л', 'с', 'я', '.']\n"
     ]
    }
   ],
   "source": [
    "a_poem = \"За стеклом лежал Питон,\\nБольшой и толстый, как батон.\\nВверх пополз,\\nЗатем вернулся,\\nКруглым бубликом свернулся.\" #Задайте переменную a_poem типа строка, со следующим содержимым: \n",
    "a_list = []\n",
    "#for i in range(len(a_poem)):\n",
    "#    a_list = a_list + a_poem[i]\n",
    "\n",
    "a_list = []\n",
    "for i in a_poem:\n",
    "    a_list.append(i)\n",
    "\n",
    "print(a_list)"
   ]
  },
  {
   "cell_type": "code",
   "execution_count": 4,
   "id": "a21b6de6-a2df-4ce0-853b-c420759f540b",
   "metadata": {},
   "outputs": [
    {
     "name": "stdout",
     "output_type": "stream",
     "text": [
      "{'three': 3, 'two': 2, 'one': 1}\n",
      "{'two': 2, 'one': 1, 'three': 3}\n",
      "True\n",
      "{4: 'e', 1: 'a', 2: 'b', 3: 'd'}\n"
     ]
    }
   ],
   "source": [
    "li = [(4,'e'),(1,'a'),(2,'b'),(3,'d')]\n",
    "d = dict([('two', 2), ('one', 1), ('three', 3)])\n",
    "c = dict([('three', 3),('two', 2), ('one', 1),])\n",
    "e = dict(li)\n",
    "print(c)\n",
    "print(d)\n",
    "print (c == d)\n",
    "print(e)"
   ]
  },
  {
   "cell_type": "code",
   "execution_count": 5,
   "id": "ab924ddc-dd1f-4860-ad8b-5c8d2d71d97c",
   "metadata": {},
   "outputs": [
    {
     "name": "stdout",
     "output_type": "stream",
     "text": [
      "['Кто битым жизнью был,', 'тот большего добьётся,', 'Пуд соли съевший выше ценит мёд.', 'Кто слёзы лил, тот искренней смеётся,', 'Кто умирал, тот знает, что живёт.']\n"
     ]
    }
   ],
   "source": [
    "poem = [(2, \"тот большего добьётся,\"), (5, \"Кто умирал, тот знает, что живёт.\"),(1, \"Кто битым жизнью был,\" ),\n",
    "(3, \"Пуд соли съевший выше ценит мёд.\"),\n",
    "(4, \"Кто слёзы лил, тот искренней смеётся,\")]\n",
    "dict_poem = dict(poem)\n",
    "print\n",
    "a_poem = []\n",
    "a_poem.append(dict_poem[1])\n",
    "a_poem.append(dict_poem[2])\n",
    "a_poem.append(dict_poem[3])\n",
    "a_poem.append(dict_poem[4])\n",
    "a_poem.append(dict_poem[5])\n",
    "print(a_poem)"
   ]
  },
  {
   "cell_type": "code",
   "execution_count": 6,
   "id": "04f665e0-8cf2-4602-82f5-43423597b9b4",
   "metadata": {},
   "outputs": [
    {
     "data": {
      "text/plain": [
       "2.0"
      ]
     },
     "execution_count": 6,
     "metadata": {},
     "output_type": "execute_result"
    }
   ],
   "source": [
    "4**0.5"
   ]
  },
  {
   "cell_type": "code",
   "execution_count": 7,
   "id": "c471fd26-9f6f-4bc1-a108-966204b89c60",
   "metadata": {},
   "outputs": [
    {
     "data": {
      "text/plain": [
       "18"
      ]
     },
     "execution_count": 7,
     "metadata": {},
     "output_type": "execute_result"
    }
   ],
   "source": [
    "def some_sum(num1: int, num2: int) -> int:\n",
    "    return sum(list(range(num1, num2 + 1)))\n",
    "some_sum(3, 6)"
   ]
  },
  {
   "cell_type": "code",
   "execution_count": 8,
   "id": "68e6c6da-f14e-4b86-871a-8e39af92f94a",
   "metadata": {},
   "outputs": [
    {
     "data": {
      "text/plain": [
       "18"
      ]
     },
     "execution_count": 8,
     "metadata": {},
     "output_type": "execute_result"
    }
   ],
   "source": [
    "def some_sum(num1: int, num2: int) -> int:\n",
    "    res = 0\n",
    "    for i in range(num1, num2 + 1):\n",
    "        res += i\n",
    "    return res\n",
    "\n",
    "some_sum(3, 6)"
   ]
  },
  {
   "cell_type": "code",
   "execution_count": 9,
   "id": "8681112a-9e00-4e0c-8a50-18f807c37859",
   "metadata": {},
   "outputs": [
    {
     "name": "stdout",
     "output_type": "stream",
     "text": [
      "210 21\n"
     ]
    }
   ],
   "source": [
    "def get_nod(num1: int, num2: int) -> int:\n",
    "    while num2:\n",
    "        num1, num2 = num2, num1 % num2\n",
    "    return num1\n",
    "num1 = 210\n",
    "num2 = 21\n",
    "get_nod(num1,num2)    \n",
    "print(num1, num2)"
   ]
  },
  {
   "cell_type": "code",
   "execution_count": 10,
   "id": "ec5ac27a-e238-4e16-bf46-eebfbfbf8a88",
   "metadata": {},
   "outputs": [
    {
     "name": "stdout",
     "output_type": "stream",
     "text": [
      "{'яйца': 40, 'батон хлеба': 20}\n"
     ]
    }
   ],
   "source": [
    "seven11 = {\"яйца\": 40, \"батон хлеба\" : 20}\n",
    "for pop in seven11.keys() :\n",
    "    if seven11[pop] == \"батон хлеба\":\n",
    "        seven11[key] = [seven11[key] - 1]\n",
    "    if seven11[pop] == \"яйца\":\n",
    "        seven11[key] = [seven11[key] - 10]\n",
    "         \n",
    "print(seven11)"
   ]
  },
  {
   "cell_type": "code",
   "execution_count": 11,
   "id": "2423d104-6252-4200-bf7f-309459378352",
   "metadata": {},
   "outputs": [
    {
     "name": "stdout",
     "output_type": "stream",
     "text": [
      "set1={'синий', 'оранжевый', 'желтый', 'красный', 'голубой', 'фиолетовый', 'зеленый'}\n",
      "Set2 = {'синий', 'оранжевый', 'Мальвиновый', 'голубой', 'зеленый'}\n",
      "красный есть\n"
     ]
    }
   ],
   "source": [
    "set1 = {\"красный\", \"оранжевый\", \"желтый\", \"зеленый\", \"голубой\", \"синий\", \"фиолетовый\"}\n",
    "set2 = {\"оранжевый\", \"зеленый\", \"голубой\", \"синий\", \"Мальвиновый\"}\n",
    "print(f\"{set1=}\")\n",
    "print(f\"Set2 = {set2}\")\n",
    "if \"красный\" not in set1:\n",
    "    print (\"красного нет\")\n",
    "else:\n",
    "    print (\"красный есть\")"
   ]
  },
  {
   "cell_type": "code",
   "execution_count": 12,
   "id": "92b9fb87-76ea-482d-90e6-084737d7bca7",
   "metadata": {},
   "outputs": [
    {
     "name": "stdout",
     "output_type": "stream",
     "text": [
      "Множество set1 НЕ больше set2\n",
      "Множество set2 НЕ больше set1\n",
      "Множество set1 НЕ равно set2\n",
      "Множество set1 больше\n"
     ]
    }
   ],
   "source": [
    "# Вариант 1\n",
    "print('Множество set1 больше set2') if set1 > set2 else print('Множество set1 НЕ больше set2')\n",
    "print('Множество set2 больше set1') if set2 > set1 else print('Множество set2 НЕ больше set1')\n",
    "print('Множество set1 равно set2') if set1 == set2 else print('Множество set1 НЕ равно set2')\n",
    "\n",
    "# Вариант 2\n",
    "if len(set1) > len(set2):\n",
    "    print('Множество set1 больше')\n",
    "elif len(set1) == len(set2):\n",
    "    print('Множества равны')\n",
    "else:\n",
    "    print('Множество set2 больше')"
   ]
  },
  {
   "cell_type": "code",
   "execution_count": 13,
   "id": "f8cf6af1-e9ab-4962-88c3-f077dc92544d",
   "metadata": {},
   "outputs": [
    {
     "name": "stdout",
     "output_type": "stream",
     "text": [
      "True\n",
      "False\n",
      "True\n"
     ]
    }
   ],
   "source": [
    "def is_leap_year(year: int) -> bool:\n",
    "    if (year % 4 == 0 and year % 100 != 0) or year % 400 == 0:\n",
    "        return True\n",
    "    return False\n",
    "\n",
    "print(is_leap_year(2000))\n",
    "print(is_leap_year(2023))\n",
    "print(is_leap_year(1600))"
   ]
  },
  {
   "cell_type": "code",
   "execution_count": 14,
   "id": "8df5caca-c3c7-413e-8866-fc8918e783d0",
   "metadata": {},
   "outputs": [
    {
     "data": {
      "text/plain": [
       "42"
      ]
     },
     "execution_count": 14,
     "metadata": {},
     "output_type": "execute_result"
    }
   ],
   "source": [
    "def some_sum(num1: int, num2: int) -> int:\n",
    "    res = 0\n",
    "    for i in range(num1, num2 + 1):\n",
    "        res += i\n",
    "    return res\n",
    "\n",
    "some_sum(3, 9)"
   ]
  },
  {
   "cell_type": "code",
   "execution_count": 15,
   "id": "574e587c-f395-412f-b366-ea28910642e5",
   "metadata": {},
   "outputs": [
    {
     "name": "stdout",
     "output_type": "stream",
     "text": [
      "42\n"
     ]
    }
   ],
   "source": [
    "# Почему не работает в ноутбуке???\n",
    "def some_sum_2(num1: int, num2: int) -> int:\n",
    "    return sum(list(range(num1, num2 + 1)))\n",
    "\n",
    "\n",
    "print(some_sum_2(3, 9))"
   ]
  },
  {
   "cell_type": "code",
   "execution_count": 16,
   "id": "d8a2b5e4-9c40-4a61-b045-e0953f8028b2",
   "metadata": {},
   "outputs": [
    {
     "name": "stdout",
     "output_type": "stream",
     "text": [
      "3² = 9\n"
     ]
    }
   ],
   "source": [
    "n = 3\n",
    "print(f'{n}² = {n ** 2}')"
   ]
  },
  {
   "cell_type": "code",
   "execution_count": 17,
   "id": "cbae80a8-e3a0-46df-8bdd-240676e776ca",
   "metadata": {},
   "outputs": [
    {
     "name": "stdout",
     "output_type": "stream",
     "text": [
      "['За', 'стеклом', 'лежал', 'Питон,', 'Большой', 'и', 'толстый,', 'как', 'батон.', 'Вверх', 'пополз,', 'Затем', 'вернулся,', 'Круглым', 'бубликом', 'свернулся.']\n"
     ]
    }
   ],
   "source": [
    "def is_letter(\n",
    "    string\n",
    "):\n",
    "    '''Проверяет строку на наличие только буквенных симоволов\n",
    "    :param string: строка\n",
    "    :return: True or False\n",
    "    '''\n",
    "    for x in list(string):\n",
    "        if x.isnumeric():\n",
    "            return False\n",
    "    else:\n",
    "        return True\n",
    "\n",
    "a_poem = '''За стеклом лежал Питон,\n",
    "Большой и толстый, как батон.\n",
    "Вверх пополз,\n",
    "Затем вернулся,\n",
    "Круглым бубликом свернулся.'''\n",
    "\n",
    "print(a_poem.split())"
   ]
  },
  {
   "cell_type": "code",
   "execution_count": 18,
   "id": "e96afe15-11a4-4b71-8da9-032aa25d649f",
   "metadata": {},
   "outputs": [
    {
     "name": "stdout",
     "output_type": "stream",
     "text": [
      "равнобедренным\n"
     ]
    }
   ],
   "source": [
    "a = 1\n",
    "b = 1\n",
    "c = 1\n",
    "if (a == b) or (b == c) or (c == a):\n",
    "    type1 = 'равнобедренным'\n",
    "elif a == b and b == c:\n",
    "    type1 = 'равносторонним'\n",
    "else:\n",
    "    type1 = 'обычным'\n",
    "print(type1)"
   ]
  },
  {
   "cell_type": "code",
   "execution_count": 19,
   "id": "35cb4b24-a40c-49ac-8dc8-48c46ef47971",
   "metadata": {},
   "outputs": [
    {
     "name": "stdout",
     "output_type": "stream",
     "text": [
      "Треугольник со сторонами 3, 4, 12 является обычным и тупоугольным\n"
     ]
    }
   ],
   "source": [
    "def triangle_type(a, b, c):\n",
    "    \n",
    "    type1, type2 = '', ''\n",
    "\n",
    "    # нужно отсортировать a, b, c\n",
    "    l = [a, b, c]\n",
    "    l.sort()\n",
    "    a, b, c = l[0], l[1], l[2]\n",
    "    \n",
    "    if (a == b) or (b == c) or (c == a):\n",
    "        type1 = 'равнобедренным'\n",
    "    elif a == b and b == c:\n",
    "        type1 = 'равносторонним'\n",
    "    else:\n",
    "        type1 = 'обычным'\n",
    "\n",
    "    if (a**2 + b**2) < c**2:\n",
    "        type2 = 'тупоугольным'\n",
    "    elif (a**2 + b**2) == c**2:\n",
    "        type2 = 'прямoугольным'\n",
    "    elif (a**2 + b**2) > c**2:\n",
    "        type2 = 'остроугольным'\n",
    "    else:\n",
    "        print('Не является треугольником!')\n",
    "        return False\n",
    "    \n",
    "    return (type1, type2)\n",
    "a, b, c, = 3, 4, 12\n",
    "type1, type2 = triangle_type(a, b, c)\n",
    "print(f'Треугольник со сторонами {a}, {b}, {c} является {type1} и {type2}')"
   ]
  },
  {
   "cell_type": "code",
   "execution_count": 20,
   "id": "32b1f7f3-cb00-4a5d-857f-7265da20a857",
   "metadata": {},
   "outputs": [],
   "source": [
    "def is_pallindrom(stroka):\n",
    "    revers_str = stroka[::-1]\n",
    "    if revers_str == stroka:\n",
    "        print(f'Строка \"{stroka}\" является паллиндромом')\n",
    "    else:\n",
    "        print(f'Строка \"{stroka}\" НЕ является паллиндромом')"
   ]
  },
  {
   "cell_type": "code",
   "execution_count": 21,
   "id": "b6645de6-7a46-4cab-bb78-7b4ad07fc3d8",
   "metadata": {},
   "outputs": [
    {
     "name": "stdout",
     "output_type": "stream",
     "text": [
      "Строка \"rtyu\" НЕ является паллиндромом\n",
      "Строка \"шалаш\" является паллиндромом\n"
     ]
    }
   ],
   "source": [
    "is_pallindrom('rtyu')\n",
    "is_pallindrom('шалаш')"
   ]
  },
  {
   "cell_type": "code",
   "execution_count": 22,
   "id": "a75eebbf-9e8a-44ff-83f7-49e2ed37b4d7",
   "metadata": {},
   "outputs": [
    {
     "ename": "SyntaxError",
     "evalue": "invalid character '∫' (U+222B) (3190513773.py, line 1)",
     "output_type": "error",
     "traceback": [
      "\u001b[0;36m  Cell \u001b[0;32mIn[22], line 1\u001b[0;36m\u001b[0m\n\u001b[0;31m    ∫ = [1,2,3,\"WWW\"]\u001b[0m\n\u001b[0m    ^\u001b[0m\n\u001b[0;31mSyntaxError\u001b[0m\u001b[0;31m:\u001b[0m invalid character '∫' (U+222B)\n"
     ]
    }
   ],
   "source": [
    "∫ = [1,2,3,\"WWW\"]"
   ]
  },
  {
   "cell_type": "code",
   "execution_count": 23,
   "id": "fa942ed9-33c0-430f-ac58-a2d4b7943cc9",
   "metadata": {},
   "outputs": [
    {
     "name": "stdout",
     "output_type": "stream",
     "text": [
      "Четверг\n"
     ]
    }
   ],
   "source": [
    "def get_day(day_number):\n",
    "    days = ('Нульдельник','Понедельник','Вторник', 'Среда', 'Четверг','Пятница','Суббота',\n",
    "            'Воскресенье')\n",
    "    assert 1<=day_number<=7\n",
    "    return days[day_number]\n",
    "print(get_day(4))\n",
    "#print(get_day(-3))\n",
    "#print(get_day(10))"
   ]
  },
  {
   "cell_type": "code",
   "execution_count": 24,
   "id": "8b3e6897-f932-4ee2-94cb-c94c1d4115a5",
   "metadata": {},
   "outputs": [
    {
     "ename": "NameError",
     "evalue": "name 'students' is not defined",
     "output_type": "error",
     "traceback": [
      "\u001b[0;31m---------------------------------------------------------------------------\u001b[0m",
      "\u001b[0;31mNameError\u001b[0m                                 Traceback (most recent call last)",
      "Cell \u001b[0;32mIn[24], line 1\u001b[0m\n\u001b[0;32m----> 1\u001b[0m \u001b[38;5;28;01mif\u001b[39;00m \u001b[43mstudents\u001b[49m[\u001b[38;5;124m'\u001b[39m\u001b[38;5;124mИванов\u001b[39m\u001b[38;5;124m'\u001b[39m] \u001b[38;5;241m<\u001b[39m \u001b[38;5;241m18\u001b[39m:\n\u001b[1;32m      2\u001b[0m     \u001b[38;5;28mprint\u001b[39m(\u001b[38;5;124m'\u001b[39m\u001b[38;5;124mНесовершеннолетний\u001b[39m\u001b[38;5;124m'\u001b[39m)\n\u001b[1;32m      3\u001b[0m \u001b[38;5;28;01melse\u001b[39;00m:\n",
      "\u001b[0;31mNameError\u001b[0m: name 'students' is not defined"
     ]
    }
   ],
   "source": [
    "if students['Иванов'] < 18:\n",
    "    print('Несовершеннолетний')\n",
    "else:\n",
    "    print('Cовершеннолетний')"
   ]
  },
  {
   "cell_type": "code",
   "execution_count": 25,
   "id": "739ce46d-93f3-4e9f-ac2b-386f188290be",
   "metadata": {},
   "outputs": [
    {
     "name": "stdout",
     "output_type": "stream",
     "text": [
      "set1 = set2\n"
     ]
    }
   ],
   "source": [
    "set1 = {1, 2, 3, 4, 5, 11,12,13}\n",
    "set2 = {4, 5, 6, 7, 8}\n",
    "\n",
    "if set1 > set2:\n",
    "    print(\"set1 > set2\")\n",
    "elif set1 < set2:\n",
    "    print(\"set2 > set1\")\n",
    "else:\n",
    "    print(\"set1 = set2\")"
   ]
  },
  {
   "cell_type": "code",
   "execution_count": 26,
   "id": "56edec6a-4093-4f26-a5d8-ff29819599e2",
   "metadata": {},
   "outputs": [
    {
     "name": "stdout",
     "output_type": "stream",
     "text": [
      "{'яблоко': '5', 'банан': '10', 'апельсин': '7', 'груша': '3'}\n"
     ]
    }
   ],
   "source": [
    "inventory = {\n",
    "    \"яблоко\": \"5\",\n",
    "    \"банан\": \"10\",\n",
    "    \"апельсин\": \"7\"\n",
    "}\n",
    "if \"груша\" in inventory:\n",
    "    print(\"Есть\")\n",
    "else: \n",
    "    inventory[\"груша\"] = '3'\n",
    "    print(inventory)"
   ]
  },
  {
   "cell_type": "code",
   "execution_count": 27,
   "id": "4955c06a-e87b-41ae-a989-0c70654c6eee",
   "metadata": {},
   "outputs": [
    {
     "name": "stdout",
     "output_type": "stream",
     "text": [
      "<class 'set'>\n",
      "Множество set1 больше, чем множество set2\n"
     ]
    }
   ],
   "source": [
    "set1 = set([1, 2, 3, 4, 5,6])\n",
    "set2 = set([4, 5, 6, 7, 8])\n",
    "print(type(set1))\n",
    "if len(set1) > len(set2):\n",
    "    print('Множество set1 больше, чем множество set2')\n",
    "elif len(set1) < len(set2):\n",
    "    print('Множество set2 больше, чем множество set1')   \n",
    "else:\n",
    "    print('Множество set1 такое же по размеру, как множество set2') "
   ]
  },
  {
   "cell_type": "code",
   "execution_count": 29,
   "id": "44f7b180-6861-4016-8747-d1caa3bd44e0",
   "metadata": {},
   "outputs": [
    {
     "name": "stdout",
     "output_type": "stream",
     "text": [
      "1\n",
      "2\n",
      "3\n",
      "4\n",
      "5\n",
      "6\n"
     ]
    }
   ],
   "source": [
    "##list1 = list(set1)\n",
    "for i in set1:\n",
    "    print(i)"
   ]
  },
  {
   "cell_type": "code",
   "execution_count": 32,
   "id": "f62896a6-91ba-4fe3-b54a-f8d76a3fe3c1",
   "metadata": {},
   "outputs": [
    {
     "data": {
      "text/plain": [
       "'Petrov'"
      ]
     },
     "execution_count": 32,
     "metadata": {},
     "output_type": "execute_result"
    }
   ],
   "source": [
    "dict_test = {'Petrov': 20, 'Ivanov': 10, 'Apolon': 500, 'Aeus': 1000}\n",
    "\n",
    "def dict_max(dict_test):\n",
    "    return max(dict_test)\n",
    "dict_max(dict_test)"
   ]
  },
  {
   "cell_type": "code",
   "execution_count": 33,
   "id": "069be3dc-3ff1-418f-be6c-3058c8e74168",
   "metadata": {},
   "outputs": [
    {
     "name": "stdin",
     "output_type": "stream",
     "text": [
      " 31.02.2024\n"
     ]
    },
    {
     "name": "stdout",
     "output_type": "stream",
     "text": [
      "31.02.2024 введена корректно\n"
     ]
    }
   ],
   "source": [
    "#Создайте функцию, которая определяет, является ли введенная дата корректной.\n",
    "date = input().split('.')\n",
    "def correct_date(date):\n",
    "    if len(date) == 3 and int(date[0]) < 32 and int(date[0]) > 0 and int(date[1]) < 13 and int(date[1]) > 0 and ''.join(date).isdigit() == True:\n",
    "        print('.'.join(date), 'введена корректно')\n",
    "    else:\n",
    "        print('.'.join(date), 'введена некорректно')\n",
    "correct_date(date)"
   ]
  },
  {
   "cell_type": "code",
   "execution_count": 1,
   "id": "6f65bd86-b8ea-4381-9c75-52adf30a4561",
   "metadata": {},
   "outputs": [
    {
     "name": "stdin",
     "output_type": "stream",
     "text": [
      " 15\n"
     ]
    },
    {
     "name": "stdout",
     "output_type": "stream",
     "text": [
      "Будет непросто, но я с ними разделаюсь\n"
     ]
    }
   ],
   "source": [
    "ninjas = int(input())\n",
    "if ninjas < 10:\n",
    "    print('Я одолею этих ниндзя!')\n",
    "elif ninjas < 30:\n",
    "    print('Будет непросто, но я с ними разделаюсь')\n",
    "elif ninjas < 50:\n",
    "    print('Их слишком много')"
   ]
  }
 ],
 "metadata": {
  "kernelspec": {
   "display_name": "Python 3 (ipykernel)",
   "language": "python",
   "name": "python3"
  },
  "language_info": {
   "codemirror_mode": {
    "name": "ipython",
    "version": 3
   },
   "file_extension": ".py",
   "mimetype": "text/x-python",
   "name": "python",
   "nbconvert_exporter": "python",
   "pygments_lexer": "ipython3",
   "version": "3.10.10"
  }
 },
 "nbformat": 4,
 "nbformat_minor": 5
}
