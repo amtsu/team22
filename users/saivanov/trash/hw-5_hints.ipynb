{
 "cells": [
  {
   "cell_type": "markdown",
   "id": "a1850caa-4b10-43fe-a8cf-6607941a96aa",
   "metadata": {},
   "source": [
    "# Часть 1. Множества \n"
   ]
  },
  {
   "cell_type": "markdown",
   "id": "c0f0525a-3b70-4947-8c87-8e43bb8f3024",
   "metadata": {},
   "source": [
    "1. Создайте множество **set1** из целых чисел: 1, 2, 3, 4, 5.\n"
   ]
  },
  {
   "cell_type": "code",
   "execution_count": 13,
   "id": "423a97aa-ee5a-4421-8ccf-16d9dcb1b5ea",
   "metadata": {},
   "outputs": [
    {
     "name": "stdout",
     "output_type": "stream",
     "text": [
      "{1, 2, 3, 4, 5}\n"
     ]
    }
   ],
   "source": [
    "import pprint\n",
    "pp = pprint.PrettyPrinter(indent=4)\n",
    "set1 = {1,2,3,4,5}\n",
    "pp.pprint(set1)"
   ]
  },
  {
   "cell_type": "markdown",
   "id": "558268bc-73f0-4cf1-8fcc-b8ecc7182ae9",
   "metadata": {},
   "source": [
    "2. Добавьте в это множество элемент 6.\n"
   ]
  },
  {
   "cell_type": "code",
   "execution_count": 14,
   "id": "17313f2a-6525-4e64-8fca-43d48d76492f",
   "metadata": {},
   "outputs": [
    {
     "name": "stdout",
     "output_type": "stream",
     "text": [
      "{1, 2, 3, 4, 5, 6}\n"
     ]
    }
   ],
   "source": [
    "set1.update({6,})\n",
    "pp.pprint(set1)"
   ]
  },
  {
   "cell_type": "markdown",
   "id": "3909c160-fddb-4fda-8c56-63a6e0392ad7",
   "metadata": {},
   "source": [
    "3. Удалите элемент 2 из множества.\n"
   ]
  },
  {
   "cell_type": "code",
   "execution_count": 15,
   "id": "7ae2e268-2d6f-4321-a0fb-5561a745d047",
   "metadata": {},
   "outputs": [
    {
     "name": "stdout",
     "output_type": "stream",
     "text": [
      "{1, 3, 4, 5, 6}\n"
     ]
    }
   ],
   "source": [
    "set1.remove(2)\n",
    "pp.pprint(set1)"
   ]
  },
  {
   "cell_type": "markdown",
   "id": "162a7095-c591-4892-b763-fe76635fde90",
   "metadata": {},
   "source": [
    "4. Проверьте, содержит ли множество элемент 3.\n"
   ]
  },
  {
   "cell_type": "code",
   "execution_count": 16,
   "id": "cab6f1d4-26fb-4065-b8a4-944395d3805e",
   "metadata": {},
   "outputs": [
    {
     "name": "stdout",
     "output_type": "stream",
     "text": [
      "'Элемент 3 содержится в set1'\n"
     ]
    }
   ],
   "source": [
    "pp.pprint(\"Элемент 3 \"+ \"содержится в set1\" if 3 in set1 else \"не содержится в set1\")    "
   ]
  },
  {
   "cell_type": "markdown",
   "id": "73190ab8-b652-4061-bc9f-c47515fe681e",
   "metadata": {},
   "source": [
    "5. Создайте второе множество **set2** с элементами 4, 5, 6, 7, 8.\n"
   ]
  },
  {
   "cell_type": "code",
   "execution_count": 17,
   "id": "12e059b2-c8fc-4490-8252-8edaa247cb35",
   "metadata": {},
   "outputs": [
    {
     "name": "stdout",
     "output_type": "stream",
     "text": [
      "{4, 5, 6, 7, 8}\n"
     ]
    }
   ],
   "source": [
    "set2 = {4,5,6,7,8}\n",
    "pp.pprint(set2)"
   ]
  },
  {
   "cell_type": "markdown",
   "id": "3ad31069-26d0-411f-bcd7-b753856f6bd0",
   "metadata": {},
   "source": [
    "6. Найдите объединение множеств **set1** и **set2**.\n"
   ]
  },
  {
   "cell_type": "code",
   "execution_count": 18,
   "id": "e2a3340e-45f0-4fdb-bab9-56d5a1e109c3",
   "metadata": {},
   "outputs": [
    {
     "name": "stdout",
     "output_type": "stream",
     "text": [
      "{1, 3, 4, 5, 6, 7, 8}\n"
     ]
    }
   ],
   "source": [
    "set_union = set1.union(set2)\n",
    "pp.pprint(set_union)"
   ]
  },
  {
   "cell_type": "markdown",
   "id": "c30d10c9-7fdb-426b-8657-1118326987d0",
   "metadata": {},
   "source": [
    "7. Найдите разность множеств **set1** и **set2**.\n"
   ]
  },
  {
   "cell_type": "code",
   "execution_count": 19,
   "id": "1213f5d8-5914-4715-8402-f64e62bc0238",
   "metadata": {},
   "outputs": [
    {
     "name": "stdout",
     "output_type": "stream",
     "text": [
      "{1, 3}\n"
     ]
    }
   ],
   "source": [
    "set_difference = set1.difference(set2)\n",
    "pp.pprint(set_difference)"
   ]
  },
  {
   "cell_type": "markdown",
   "id": "50855226-2ee2-46ec-b236-13ff9d974eec",
   "metadata": {},
   "source": [
    "8. Создайте два множества:\n",
    " **set1** , содержащие цвета: \"красный\", \"оранжевый\", \"желтый\", \"зеленый\", \"голубой\",\n",
    "   и **set2**, содержащее цвета \"оранжевый\", \"желтый\", \"синий\", \"фиолетовый\".\n"
   ]
  },
  {
   "cell_type": "code",
   "execution_count": 20,
   "id": "3102c92c-48c3-4aa7-bd47-037009cb05d3",
   "metadata": {},
   "outputs": [
    {
     "name": "stdout",
     "output_type": "stream",
     "text": [
      "{'зеленый', 'красный', 'голубой', 'оранжевый', 'желтый'}\n",
      "{'фиолетовый', 'оранжевый', 'желтый', 'синий'}\n"
     ]
    }
   ],
   "source": [
    "set1 = {\"красный\", \"оранжевый\", \"желтый\", \"зеленый\", \"голубой\"}\n",
    "set2 = {\"оранжевый\", \"желтый\", \"синий\", \"фиолетовый\"}\n",
    "pp.pprint(set1)\n",
    "pp.pprint(set2)"
   ]
  },
  {
   "cell_type": "markdown",
   "id": "c4a8970f-59b1-4ae3-a291-abaa4dbfc1af",
   "metadata": {},
   "source": [
    "9. Найдите пересечение множеств **set1** и **set2**.\n"
   ]
  },
  {
   "cell_type": "code",
   "execution_count": 21,
   "id": "a0a49969-4a8b-4679-a60e-a8fbd8b5f480",
   "metadata": {},
   "outputs": [
    {
     "name": "stdout",
     "output_type": "stream",
     "text": [
      "{'оранжевый', 'желтый'}\n"
     ]
    }
   ],
   "source": [
    "set_intersection = set1.intersection(set2)\n",
    "pp.pprint(set_intersection)"
   ]
  },
  {
   "cell_type": "markdown",
   "id": "ab8eb385-fe71-4aa8-a0b1-3cac1fd208eb",
   "metadata": {},
   "source": [
    "10. Объедините множества **set1** и **set2** и сохраните результат в новое множество **rainbow_colors**."
   ]
  },
  {
   "cell_type": "code",
   "execution_count": 22,
   "id": "07c8a944-5fe0-4875-9c35-dc2e8bc3efed",
   "metadata": {},
   "outputs": [
    {
     "name": "stdout",
     "output_type": "stream",
     "text": [
      "{'фиолетовый', 'синий', 'оранжевый', 'зеленый', 'красный', 'голубой', 'желтый'}\n"
     ]
    }
   ],
   "source": [
    "rainbow_colors = set1.union(set2)\n",
    "print(rainbow_colors)"
   ]
  },
  {
   "cell_type": "markdown",
   "id": "b537fffb-1897-4d78-958c-b6ad453c0d24",
   "metadata": {},
   "source": [
    "# Часть 2. Словари"
   ]
  },
  {
   "cell_type": "markdown",
   "id": "47a7ed34-fd76-49c1-9411-8dd148cc296e",
   "metadata": {},
   "source": [
    "1. Создайте словарь **person** с ключами \"name\", \"age\" и \"city\" с вашими данными.\n"
   ]
  },
  {
   "cell_type": "code",
   "execution_count": 23,
   "id": "b43e31f8-fc54-447e-94a1-3423d137a79a",
   "metadata": {},
   "outputs": [
    {
     "name": "stdout",
     "output_type": "stream",
     "text": [
      "{'age': 40, 'city': 'moscow', 'name': 'serg'}\n"
     ]
    }
   ],
   "source": [
    "person = {\"name\":\"serg\", \"age\":40,\"city\":\"moscow\"}\n",
    "pp.pprint(person)"
   ]
  },
  {
   "cell_type": "markdown",
   "id": "a8132d21-d7d4-4632-9583-ac6f504b5fcc",
   "metadata": {},
   "source": [
    "2. Добавьте в словарь **person**  новый ключ \"e-mail\" со значением вашего электронного адреса."
   ]
  },
  {
   "cell_type": "code",
   "execution_count": 24,
   "id": "8283df3b-e08c-4981-b6fe-1ebed04cd91b",
   "metadata": {},
   "outputs": [
    {
     "name": "stdout",
     "output_type": "stream",
     "text": [
      "{'age': 40, 'city': 'moscow', 'e-mail': 'serg@serg.serg', 'name': 'serg'}\n"
     ]
    }
   ],
   "source": [
    "person[\"e-mail\"] = \"serg@serg.serg\"\n",
    "pp.pprint(person)"
   ]
  },
  {
   "cell_type": "markdown",
   "id": "09898bee-007c-493a-b682-4212c7ba1f22",
   "metadata": {},
   "source": [
    "3. Удалите ключ \"city\" из словаря **person** .\n"
   ]
  },
  {
   "cell_type": "code",
   "execution_count": 25,
   "id": "5bf7aaed-2a30-445c-a676-d3016917cc2a",
   "metadata": {},
   "outputs": [
    {
     "name": "stdout",
     "output_type": "stream",
     "text": [
      "{'age': 40, 'e-mail': 'serg@serg.serg', 'name': 'serg'}\n"
     ]
    }
   ],
   "source": [
    "person.pop(\"city\")\n",
    "pp.pprint(person)"
   ]
  },
  {
   "cell_type": "markdown",
   "id": "eee442d7-c4d5-4ed6-947a-fa34db472e34",
   "metadata": {},
   "source": [
    "4. Создайте словарь **fruits_quantity**, содержащий количество различных фруктов: {\"яблоко\": 5, \"банан\": 10, \"апельсин\": 7}."
   ]
  },
  {
   "cell_type": "code",
   "execution_count": 26,
   "id": "b03fb582-853b-427d-96b2-9138be9ad474",
   "metadata": {},
   "outputs": [
    {
     "name": "stdout",
     "output_type": "stream",
     "text": [
      "{'яблоко': 5, 'банан': 10, 'апельсин': 7}\n"
     ]
    }
   ],
   "source": [
    "fruits_quantity = {\"яблоко\": 5, \"банан\": 10, \"апельсин\": 7}\n",
    "print(fruits_quantity)"
   ]
  },
  {
   "cell_type": "markdown",
   "id": "e3372dce-5661-4a42-9904-19923e542d48",
   "metadata": {},
   "source": [
    "5. в словаре fruits_quantity увеличьте количество \"бананов\" на 3."
   ]
  },
  {
   "cell_type": "code",
   "execution_count": 27,
   "id": "dfdc4743-a7e5-44e0-83a4-ae4e8e8635dd",
   "metadata": {},
   "outputs": [
    {
     "name": "stdout",
     "output_type": "stream",
     "text": [
      "{'апельсин': 7, 'банан': 13, 'яблоко': 5}\n"
     ]
    }
   ],
   "source": [
    "fruits_quantity [\"банан\"] += 3\n",
    "pp.pprint(fruits_quantity)"
   ]
  },
  {
   "cell_type": "markdown",
   "id": "1901a74c-3f78-4e9d-96ea-3c389683d35d",
   "metadata": {},
   "source": [
    "6. Создайте новый словарь **fruits_prices**, где заданы цены одного фрукта для всех фруктов {\"яблоко\": 1.5, \"банан\": 2, \"апельсин\": 1.2}."
   ]
  },
  {
   "cell_type": "code",
   "execution_count": 28,
   "id": "4470415d-2180-4af5-ba8a-132809d5f309",
   "metadata": {},
   "outputs": [
    {
     "name": "stdout",
     "output_type": "stream",
     "text": [
      "{'апельсин': 1.2, 'банан': 2, 'яблоко': 1.5}\n"
     ]
    }
   ],
   "source": [
    "fruits_prices = {\"яблоко\": 1.5, \"банан\": 2, \"апельсин\": 1.2}\n",
    "pp.pprint(fruits_prices)"
   ]
  },
  {
   "cell_type": "markdown",
   "id": "9f33e0a5-3798-4483-9bd8-7fea2db81a73",
   "metadata": {},
   "source": [
    "8.* Посчитайте стоимость всех фруктов, имеющихся в наличии\n"
   ]
  },
  {
   "cell_type": "code",
   "execution_count": 29,
   "id": "e0c2ca7d-7d27-46d8-be5f-26e054b795d9",
   "metadata": {},
   "outputs": [
    {
     "name": "stdout",
     "output_type": "stream",
     "text": [
      "41.9\n"
     ]
    }
   ],
   "source": [
    "fruits_price = 0\n",
    "for fruit in fruits_quantity:\n",
    "    fruits_price += fruits_quantity[fruit] * fruits_prices[fruit]\n",
    "print(fruits_price)"
   ]
  },
  {
   "cell_type": "markdown",
   "id": "afca6bd4-0a58-4911-b435-85c2889aad97",
   "metadata": {},
   "source": [
    "9. Удалите \"Томат\" из словаря fruits_prices."
   ]
  },
  {
   "cell_type": "code",
   "execution_count": 30,
   "id": "c6a28d1e-2fa5-4b63-9a0d-89604ab5924f",
   "metadata": {},
   "outputs": [
    {
     "name": "stdout",
     "output_type": "stream",
     "text": [
      "Томатов в словаре нет, удалять нечего\n"
     ]
    }
   ],
   "source": [
    "try:\n",
    "    fruits_prices.pop(\"Томат\")\n",
    "except KeyError:\n",
    "    print(\"Томатов в словаре нет, удалять нечего\")"
   ]
  },
  {
   "cell_type": "markdown",
   "id": "3a3e511c-8c3e-4496-8555-39c324dfa7ca",
   "metadata": {},
   "source": [
    "# Часть 3. Условные операторы\n"
   ]
  },
  {
   "cell_type": "markdown",
   "id": "b445e525-2eb4-47b7-96b2-b73dcfb5123d",
   "metadata": {},
   "source": [
    "1. На основе значения возраста из словаря **person** из предыдущей части, выведите сообщение \"Совершеннолетний\" или \"Несовершеннолетний\".\n"
   ]
  },
  {
   "cell_type": "code",
   "execution_count": 31,
   "id": "1d0324dd-f959-4f32-b05d-e0f9817d3d8a",
   "metadata": {},
   "outputs": [
    {
     "name": "stdout",
     "output_type": "stream",
     "text": [
      "'Совершеннолетний'\n"
     ]
    }
   ],
   "source": [
    "pp.pprint(\"Совершеннолетний\" if person[\"age\"] >= 18 else \"Несовершеннолетний\")"
   ]
  },
  {
   "cell_type": "markdown",
   "id": "5d15e061-d387-4097-a483-9b3cacac6796",
   "metadata": {},
   "source": [
    "2. Сравните размер множества **set1** с размером множеством **set2** и выведите сообщение о том, какое из множеств больше.\n"
   ]
  },
  {
   "cell_type": "code",
   "execution_count": 32,
   "id": "3592aa35-885d-4fee-a9fa-d814e24c597d",
   "metadata": {},
   "outputs": [
    {
     "name": "stdout",
     "output_type": "stream",
     "text": [
      "'set1 больше set2'\n"
     ]
    }
   ],
   "source": [
    "pp.pprint(\"set1 больше set2\" if len(set1) > len(set2) else (\"set2 больше set1\" if len(set2) > len(set1) else \"\"))"
   ]
  },
  {
   "cell_type": "markdown",
   "id": "c2fd9e2b-b030-4653-acf0-2809ec1a43d4",
   "metadata": {},
   "source": [
    "3. Проверьте, есть ли  \"груша\" в словаре **fruits_quantity**, и если нет, добавьте \"грушу\" с количеством 3."
   ]
  },
  {
   "cell_type": "code",
   "execution_count": 33,
   "id": "d286e015-2d36-449d-a41c-c71869ee2363",
   "metadata": {},
   "outputs": [
    {
     "name": "stdout",
     "output_type": "stream",
     "text": [
      "{'апельсин': 7, 'банан': 13, 'груша': 3, 'яблоко': 5}\n"
     ]
    }
   ],
   "source": [
    "if(\"груша\" not in fruits_quantity):\n",
    "    fruits_quantity[\"груша\"] = 3\n",
    "pp.pprint(fruits_quantity)"
   ]
  },
  {
   "cell_type": "markdown",
   "id": "757051db-9f0b-4356-9430-9e5fee39647e",
   "metadata": {},
   "source": [
    "4. Если банан дороже яблока, но дешевле апельсина, задайте количество бананов равным 15.\n"
   ]
  },
  {
   "cell_type": "code",
   "execution_count": 34,
   "id": "068dbbea-5984-4ac2-a353-4e9d06e18a92",
   "metadata": {},
   "outputs": [
    {
     "name": "stdout",
     "output_type": "stream",
     "text": [
      "13\n"
     ]
    }
   ],
   "source": [
    "if(fruits_prices[\"банан\"] > fruits_prices[\"яблоко\"] and fruits_prices[\"банан\"] < fruits_prices[\"апельсин\"] ):\n",
    "    fruits_quantity[\"банан\"] = 15\n",
    "pp.pprint(fruits_quantity[\"банан\"])"
   ]
  },
  {
   "cell_type": "markdown",
   "id": "d8bdcc84-7064-4a77-b959-49e6157aa90c",
   "metadata": {},
   "source": [
    "5. Задайте словарь Seven11 с таким содержанием {\"яйца\": 40, \"батон хлеба\" : 20}\n",
    "  Жена отправляет мужа-программиста в севенэлевен:\n",
    " — Купи батон хлеба, если будут яйца — возьми десяток.\n",
    "Выведите на экран, сколько хлеба купил муж-программист, и сколько хлеба и яиц осталось в магазине."
   ]
  },
  {
   "cell_type": "code",
   "execution_count": 35,
   "id": "c6a7a1b3-58a9-4d18-a549-38190301c2ed",
   "metadata": {},
   "outputs": [
    {
     "name": "stdout",
     "output_type": "stream",
     "text": [
      "{'батон хлеба': 20, 'яйца': 40}\n",
      "{'батон хлеба': 0, 'яйца': 0}\n",
      "'муж-программист купил 10 батонов хлеба'\n",
      "'в магазине осталось 10 батонов хлеба и 40 яиц'\n"
     ]
    }
   ],
   "source": [
    "Seven11 = {\"яйца\": 40, \"батон хлеба\" : 20}\n",
    "Basket = {\"яйца\": 0, \"батон хлеба\" : 0}\n",
    "pp.pprint(Seven11)\n",
    "pp.pprint(Basket)\n",
    "if Seven11[\"яйца\"] > 0:\n",
    "    Basket[\"батон хлеба\"] = 10\n",
    "else:\n",
    "    Basket[\"батон хлеба\"] = 10\n",
    "pp.pprint(f\"муж-программист купил { Basket['батон хлеба'] } батонов хлеба\")\n",
    "pp.pprint(f\"в магазине осталось {Seven11['батон хлеба']  - Basket['батон хлеба']} батонов хлеба и {Seven11['яйца']  - Basket['яйца']} яиц\")\n"
   ]
  },
  {
   "cell_type": "markdown",
   "id": "8727cf2d-3ef8-4e10-a773-dc8c62f46167",
   "metadata": {},
   "source": [
    "# Часть 4. Циклы "
   ]
  },
  {
   "cell_type": "markdown",
   "id": "0cc79b02-4f14-4afc-a9da-5679d5aad696",
   "metadata": {},
   "source": [
    "1. Напишите цикл for, который выводит все элементы множества **set1**.\n"
   ]
  },
  {
   "cell_type": "code",
   "execution_count": 36,
   "id": "e6709032-140c-4ebe-b63b-211c948c0f78",
   "metadata": {},
   "outputs": [
    {
     "name": "stdout",
     "output_type": "stream",
     "text": [
      "зеленый\n",
      "красный\n",
      "голубой\n",
      "оранжевый\n",
      "желтый\n"
     ]
    }
   ],
   "source": [
    "for item in set1:\n",
    "    print(item)"
   ]
  },
  {
   "cell_type": "markdown",
   "id": "b11f675d-0fc2-4fa6-ab63-5bc90fedd0e9",
   "metadata": {},
   "source": [
    "2. Напишите цикл while, который выводит квадраты чисел от 1 до 5.\n"
   ]
  },
  {
   "cell_type": "code",
   "execution_count": 37,
   "id": "52196b4f-7639-4bf6-b33f-3edbde3d1fc8",
   "metadata": {},
   "outputs": [
    {
     "name": "stdout",
     "output_type": "stream",
     "text": [
      "1\n",
      "4\n",
      "9\n",
      "16\n",
      "25\n"
     ]
    }
   ],
   "source": [
    "base_num = 1\n",
    "while base_num < 6:\n",
    "    print(base_num**2)\n",
    "    base_num +=1"
   ]
  },
  {
   "cell_type": "markdown",
   "id": "08006861-c85e-4bca-9046-38464ccf582a",
   "metadata": {},
   "source": [
    "3. Напишите цикл for, который перебирает все записи из словаря **fruits_quantity** и выводит информацию о количестве каждого фрукта.\n"
   ]
  },
  {
   "cell_type": "code",
   "execution_count": 38,
   "id": "d156e778-7e8d-41d4-91b4-7e4bd4b2ae82",
   "metadata": {},
   "outputs": [
    {
     "name": "stdout",
     "output_type": "stream",
     "text": [
      "количество \"яблоко\" - 5 штук\n",
      "количество \"банан\" - 13 штук\n",
      "количество \"апельсин\" - 7 штук\n",
      "количество \"груша\" - 3 штук\n"
     ]
    }
   ],
   "source": [
    "for key in fruits_quantity:\n",
    "    print(f\"количество \\\"{key}\\\" - {fruits_quantity[key]} штук\")"
   ]
  },
  {
   "cell_type": "markdown",
   "id": "bf60f6c9-bc04-4116-a3e9-464233a4c5d1",
   "metadata": {},
   "source": [
    "4. Выведите сообщение \"%название фрукта% - дорогой товар\" для фруктов из **fruit_prices**, цена которых превышает 1.5, подставив вместо %название фрукта% название соответствующих \"дорогих\" фруктов"
   ]
  },
  {
   "cell_type": "code",
   "execution_count": 39,
   "id": "b28298bb-0a96-4344-9dfb-d25aa46ec8e2",
   "metadata": {},
   "outputs": [
    {
     "name": "stdout",
     "output_type": "stream",
     "text": [
      "банан - дорогой товар\n"
     ]
    }
   ],
   "source": [
    "for key in fruits_prices:\n",
    "    print(f\"{key} - дорогой товар\") if fruits_prices[key] > 1.5 else None"
   ]
  },
  {
   "cell_type": "markdown",
   "id": "fbc87167-02af-40c3-a0d9-d0b7a29a93e5",
   "metadata": {},
   "source": [
    " 5. Посчитайте стоимость всех фруктов, имеющихся в наличии"
   ]
  },
  {
   "cell_type": "code",
   "execution_count": 45,
   "id": "ff0b55a3-35b0-466b-969f-26b484cecb9d",
   "metadata": {},
   "outputs": [
    {
     "name": "stdout",
     "output_type": "stream",
     "text": [
      "41.9\n"
     ]
    }
   ],
   "source": [
    "price_total = 0\n",
    "for key in fruits_quantity:\n",
    "    if key in fruits_prices:\n",
    "        price_total += fruits_quantity[key] * fruits_prices[key]\n",
    "pp.pprint(price_total)"
   ]
  },
  {
   "cell_type": "markdown",
   "id": "e5e7b6e6-df34-44d4-8dce-ad5dbff8958b",
   "metadata": {},
   "source": [
    "# Часть 5 - Функции\n",
    "\n",
    "## Множества\n"
   ]
  },
  {
   "cell_type": "markdown",
   "id": "ebc29429-f37b-48f2-9e28-293ea449f065",
   "metadata": {},
   "source": [
    "1. Создайте функции **set_union** и **set_difference** для операций объединения и разности множеств.\n",
    "   - Функции должны принимать два множества и возвращать соответствующий результат.\n"
   ]
  },
  {
   "cell_type": "code",
   "execution_count": 49,
   "id": "a681b23a-0dd9-4d8f-843d-8a6c588230f0",
   "metadata": {},
   "outputs": [
    {
     "name": "stdout",
     "output_type": "stream",
     "text": [
      "{'фиолетовый', 'синий', 'оранжевый', 'зеленый', 'красный', 'голубой', 'желтый'}\n",
      "{'красный', 'голубой', 'зеленый'}\n"
     ]
    }
   ],
   "source": [
    "def set_union(set1, set2):\n",
    "    return set1.union(set2)\n",
    "def set_diffetence(set1, set2):\n",
    "    return set1.difference(set2)\n",
    "\n",
    "pp.pprint(set_union(set1, set2))\n",
    "pp.pprint(set_diffetence(set1, set2))\n",
    "          "
   ]
  },
  {
   "cell_type": "markdown",
   "id": "d684e5fc-2d58-4a2f-93d9-3e20e8b17b3b",
   "metadata": {},
   "source": [
    "2. Создайте функцию **is_subset** для проверки, является ли одно множество подмножеством другого.\n"
   ]
  },
  {
   "cell_type": "code",
   "execution_count": 53,
   "id": "c380ecc0-e207-4ee2-b9fb-d7386c0056e8",
   "metadata": {},
   "outputs": [
    {
     "name": "stdout",
     "output_type": "stream",
     "text": [
      "False\n"
     ]
    }
   ],
   "source": [
    "def is_subset(set1, set2):\n",
    "    return(set1.issubset(set2))\n",
    "\n",
    "print(is_subset(set1, set2))"
   ]
  },
  {
   "cell_type": "markdown",
   "id": "9e205e46-bcf9-42e5-a63d-4a4c48e66a24",
   "metadata": {},
   "source": [
    "3. Создайте функцию для объединения нескольких множеств."
   ]
  },
  {
   "cell_type": "code",
   "execution_count": 56,
   "id": "e595f37e-527a-4827-af91-a2b31ef4a477",
   "metadata": {},
   "outputs": [
    {
     "name": "stdout",
     "output_type": "stream",
     "text": [
      "{'фиолетовый', 'синий', 'оранжевый', 'зеленый', 'красный', 'голубой', 'желтый'}\n"
     ]
    }
   ],
   "source": [
    "def set_batch_union(set, *sets:tuple):\n",
    "    for item in sets:\n",
    "        set = set.union(item)\n",
    "    return set\n",
    "print(set_batch_union(set(),set1, set2))"
   ]
  },
  {
   "cell_type": "markdown",
   "id": "b5060f5e-5dce-4cef-8f97-c0d2dcee5d83",
   "metadata": {},
   "source": [
    "4. Создайте функцию для удаления конкретного элемента из множества.\n"
   ]
  },
  {
   "cell_type": "code",
   "execution_count": 58,
   "id": "9da1ec6a-24fd-49bc-829e-dc4ad63398fc",
   "metadata": {},
   "outputs": [
    {
     "name": "stdout",
     "output_type": "stream",
     "text": [
      "{1, 2, 3, 4}\n"
     ]
    }
   ],
   "source": [
    "def set_remove(set, element):\n",
    "    if element in set:\n",
    "        set.remove(element)\n",
    "test_set= {1,2,3,4,5}\n",
    "set_remove(test_set, 5)\n",
    "pp.pprint(test_set)"
   ]
  },
  {
   "cell_type": "markdown",
   "id": "c5107c2e-93ce-4683-bf80-150b07b38384",
   "metadata": {},
   "source": [
    "5. Создайте функцию для поиска пересечения нескольких множеств.\n"
   ]
  },
  {
   "cell_type": "code",
   "execution_count": 65,
   "id": "bd99a8a6-b0c0-4e2d-b804-289eb3205be0",
   "metadata": {},
   "outputs": [
    {
     "name": "stdout",
     "output_type": "stream",
     "text": [
      "{'фиолетовый', 'синий', 'оранжевый', 'зеленый', 'красный', 'голубой', 'желтый'}\n"
     ]
    }
   ],
   "source": [
    "def set_batch_intersection(set, *sets:tuple):\n",
    "    return set.intersecton(sets)\n",
    "print(set_batch_union(set(),set1, set2))"
   ]
  },
  {
   "cell_type": "markdown",
   "id": "1574ecbc-cc0f-48ca-8769-3986d78ca5ef",
   "metadata": {},
   "source": [
    "6. Создайте функцию для проверки на равенство двух множеств.\n"
   ]
  },
  {
   "cell_type": "code",
   "execution_count": 68,
   "id": "b2eacdd0-a8bd-41b1-a82e-599a2c4078fc",
   "metadata": {},
   "outputs": [
    {
     "name": "stdout",
     "output_type": "stream",
     "text": [
      "True\n",
      "False\n"
     ]
    }
   ],
   "source": [
    "def set_is_equal(set1, set2):\n",
    "    return set1 == set2\n",
    "print(set_is_equal({1,2,3}, {1,2,3}))\n",
    "print(set_is_equal({1,2,3}, {1,2,3,4}))"
   ]
  },
  {
   "cell_type": "markdown",
   "id": "f3a5f1f2-6905-43cf-abd0-9f96586770d7",
   "metadata": {},
   "source": [
    "7. Создайте функцию для нахождения объединения трех множеств.\n"
   ]
  },
  {
   "cell_type": "code",
   "execution_count": 69,
   "id": "dce6891e-bba6-4310-82bc-d6031e5742f9",
   "metadata": {},
   "outputs": [
    {
     "name": "stdout",
     "output_type": "stream",
     "text": [
      "{'фиолетовый', 'синий', 'оранжевый', 'зеленый', 'красный', 'голубой', 'желтый'}\n"
     ]
    }
   ],
   "source": [
    "def set_triple_union(set1, set2, set3):\n",
    "    return set_batch_union(set1, set2, set3);\n",
    "print(set_batch_union(set(),set1, set2))"
   ]
  },
  {
   "cell_type": "markdown",
   "id": "5ffb8044-0ec8-408a-b2e9-9c42e3d3c79d",
   "metadata": {},
   "source": [
    "8. Создайте функцию для проверки, являются ли два множества дизъюнктными (не имеют общих элементов).\n"
   ]
  },
  {
   "cell_type": "code",
   "execution_count": 71,
   "id": "4ecc877c-ee47-4b9d-b424-bd86e2ee2ff0",
   "metadata": {},
   "outputs": [
    {
     "name": "stdout",
     "output_type": "stream",
     "text": [
      "True\n",
      "False\n"
     ]
    }
   ],
   "source": [
    "def set_is_disjoint(set1, set2):\n",
    "    return set1.isdisjoint(set2)\n",
    "print(set_is_disjoint({1,2,3},{4,5,6}))\n",
    "print(set_is_disjoint({1,2,3},{1,4,5,6}))"
   ]
  },
  {
   "cell_type": "markdown",
   "id": "43a849db-49c8-4c6b-a015-fba7c097d05d",
   "metadata": {},
   "source": [
    "9. Создайте функцию для нахождения разности двух множеств.\n"
   ]
  },
  {
   "cell_type": "code",
   "execution_count": 72,
   "id": "e3ebff96-4e42-42c0-b56c-e35c1ee0fbda",
   "metadata": {},
   "outputs": [
    {
     "name": "stdout",
     "output_type": "stream",
     "text": [
      "{1, 2, 3}\n",
      "{2, 3}\n"
     ]
    }
   ],
   "source": [
    "def set_difference(set1, set2):\n",
    "    return set1 - set2\n",
    "print(set_difference({1,2,3},{4,5,6}))\n",
    "print(set_difference({1,2,3},{1,4,5,6}))   "
   ]
  },
  {
   "cell_type": "markdown",
   "id": "a3344764-fe59-4820-a488-87b0c86c7b69",
   "metadata": {},
   "source": [
    "10. Создайте функцию для определения симметрической разности двух множеств.\n"
   ]
  },
  {
   "cell_type": "code",
   "execution_count": 73,
   "id": "f736350b-a8d6-4e84-8d1b-e366ebe3b72c",
   "metadata": {},
   "outputs": [
    {
     "name": "stdout",
     "output_type": "stream",
     "text": [
      "{1, 2, 3, 4, 5, 6}\n",
      "{2, 3, 4, 5, 6}\n"
     ]
    }
   ],
   "source": [
    "def set_symmetric_difference(set1, set2):\n",
    "    return set1^set2\n",
    "print(set_symmetric_difference({1,2,3},{4,5,6}))\n",
    "print(set_symmetric_difference({1,2,3},{1,4,5,6}))  "
   ]
  },
  {
   "cell_type": "markdown",
   "id": "52e92a87-2a7b-4634-a258-f28848c3de46",
   "metadata": {},
   "source": [
    "11. Создайте функцию **create_set** для создания множества с заданными элементами.\n",
    "   - Функция должна принимать переменное количество аргументов и возвращать новое множество."
   ]
  },
  {
   "cell_type": "code",
   "execution_count": 77,
   "id": "d27ec175-7226-467b-a278-b2b667e60a42",
   "metadata": {},
   "outputs": [
    {
     "name": "stdout",
     "output_type": "stream",
     "text": [
      "{1, 2, 3, 4, 5, 6} <class 'set'>\n"
     ]
    }
   ],
   "source": [
    "def create_set(*elements:tuple):\n",
    "    data = set()\n",
    "    for element in elements:\n",
    "        data.add(element)\n",
    "    return data\n",
    "t = create_set(1,2,3,4,5,6)\n",
    "print(t, type(t))"
   ]
  },
  {
   "cell_type": "markdown",
   "id": "d2f1bbce-9bcf-4746-98f3-c844458fb444",
   "metadata": {},
   "source": [
    "## Словари"
   ]
  },
  {
   "cell_type": "markdown",
   "id": "afd4ab39-39e7-4e4e-b8c7-481676305aa5",
   "metadata": {},
   "source": [
    "1. Создайте функцию **create_dictionary** для создания словаря с заданными ключами и значениями.\n",
    "   - Функция должна принимать словарь в формате ключ-значение и возвращать созданный словарь."
   ]
  },
  {
   "cell_type": "code",
   "execution_count": null,
   "id": "5cea8acd-c749-40b8-b983-2dfd35e116c2",
   "metadata": {},
   "outputs": [],
   "source": []
  },
  {
   "cell_type": "markdown",
   "id": "61696b5a-096d-4557-a0b0-0f72b0f9a869",
   "metadata": {},
   "source": [
    "2. Напишите функции **add_fruit** и **remove_fruit** для добавления и удаления фруктов, их количества и стоимости в списки fruits_quantity и fruits_prices.\n",
    "   - Функции должны принимать словари и соответствующие данные для добавления и удаления."
   ]
  },
  {
   "cell_type": "code",
   "execution_count": null,
   "id": "7e599200-57fa-47d1-a30a-b671bb5b658f",
   "metadata": {},
   "outputs": [],
   "source": []
  },
  {
   "cell_type": "markdown",
   "id": "6b57614f-432e-428e-90aa-72fe4384ed88",
   "metadata": {},
   "source": [
    "    \n",
    "3. Создайте функцию для объединения двух словарей."
   ]
  },
  {
   "cell_type": "code",
   "execution_count": null,
   "id": "a63a6d3d-55eb-4948-943a-4c61758ec41e",
   "metadata": {},
   "outputs": [],
   "source": []
  },
  {
   "cell_type": "markdown",
   "id": "d47c1db5-b79b-43c6-aab4-2c1a227a7b06",
   "metadata": {},
   "source": [
    "4. Создайте функцию для удаления элемента из словаря по заданному ключу."
   ]
  },
  {
   "cell_type": "code",
   "execution_count": null,
   "id": "580948a9-d772-461a-88c9-20893b44481d",
   "metadata": {},
   "outputs": [],
   "source": []
  },
  {
   "cell_type": "markdown",
   "id": "f609f228-21af-42cb-9714-2c723f37f5eb",
   "metadata": {},
   "source": [
    "5. Создайте функцию для переворачивания значений и ключей в словаре (принимает на вход словарь, возвращает другой словарь, ключами которого являются значения входного словаря, а значениями - ключи."
   ]
  },
  {
   "cell_type": "code",
   "execution_count": null,
   "id": "fd90196c-2438-4eeb-8beb-cad200064044",
   "metadata": {},
   "outputs": [],
   "source": []
  },
  {
   "cell_type": "markdown",
   "id": "a1eda518-9d0c-4a7f-bb33-cb02ff3d36d4",
   "metadata": {},
   "source": [
    "6. Создайте функцию для сортировки словаря по ключам в обратном порядке."
   ]
  },
  {
   "cell_type": "code",
   "execution_count": null,
   "id": "9153fdb6-f3e0-4789-9d19-99b97c592f0d",
   "metadata": {},
   "outputs": [],
   "source": []
  },
  {
   "cell_type": "markdown",
   "id": "1f94e9ec-e6c8-4814-90bf-ddc3229aaa8b",
   "metadata": {},
   "source": [
    "7.  Создайте функцию возвращающую наибольшее значение элемента словаря."
   ]
  },
  {
   "cell_type": "code",
   "execution_count": 81,
   "id": "3684d4e9-498e-413b-96a4-c93dd6218c6a",
   "metadata": {},
   "outputs": [
    {
     "name": "stdout",
     "output_type": "stream",
     "text": [
      "15\n"
     ]
    }
   ],
   "source": [
    "def get_key_for_max_value(a_dict):\n",
    "    values = list(a_dict.values())\n",
    "    values.sort(reverse = True)\n",
    "    return values[0]\n",
    "print(get_key_for_max_value({\"normal\":5, \"small\": 1, \"big\":10,\"huge\":15}))    "
   ]
  },
  {
   "cell_type": "markdown",
   "id": "0b854077-79e9-4213-8bf9-91796b237695",
   "metadata": {},
   "source": [
    "## Условия и циклы"
   ]
  },
  {
   "cell_type": "markdown",
   "id": "119cf9f7-e390-4f4a-9d9d-2d345a7e4030",
   "metadata": {},
   "source": [
    "1. Создайте функцию **check_fruit_price** для проверки стоимости фрукта и вывода соответствующего сообщения.\n",
    "   - Функция должна принимать словарь цен на фрукты и название фрукта, а затем выводить сообщение \"дорогой товар\", если цена фрукта больше 1.5."
   ]
  },
  {
   "cell_type": "code",
   "execution_count": null,
   "id": "0b33880a-73da-4af8-954f-67dc1f84e655",
   "metadata": {},
   "outputs": [],
   "source": []
  },
  {
   "cell_type": "markdown",
   "id": "eaa6f99e-8786-4b77-8a3d-e9d1e2aaca24",
   "metadata": {},
   "source": [
    "2. Создайте функцию **compare_sets_length**, которая сравнивает длину двух множеств и выводит информацию о  том, какое из множеств длиннее.\n",
    "   - Функция должна принимать два множества и выводить соответствующее сообщение."
   ]
  },
  {
   "cell_type": "code",
   "execution_count": null,
   "id": "411e1b8a-82e0-4b02-9067-cf64a2682479",
   "metadata": {},
   "outputs": [],
   "source": []
  },
  {
   "cell_type": "markdown",
   "id": "672eadf2-c873-4a63-81e9-350d6f551658",
   "metadata": {},
   "source": [
    "3. Создайте функцию для определения четности или нечетности числа."
   ]
  },
  {
   "cell_type": "code",
   "execution_count": null,
   "id": "d256fe8f-4321-4695-ba84-a502e78c5fba",
   "metadata": {},
   "outputs": [],
   "source": []
  },
  {
   "cell_type": "markdown",
   "id": "425e16c4-bc07-4cd4-ab4d-0260a766c86b",
   "metadata": {},
   "source": [
    "4. Создайте функцию для определения високосного года. Функция должна принимать на вход год в виде числа и возвращать строку \"високосный\" или \"обычный\""
   ]
  },
  {
   "cell_type": "code",
   "execution_count": null,
   "id": "6ad0b0ac-4862-499d-8545-d0076197889a",
   "metadata": {},
   "outputs": [],
   "source": []
  },
  {
   "cell_type": "markdown",
   "id": "7bb8b1c9-fc2d-4195-bfa6-1c6eee2e4400",
   "metadata": {},
   "source": [
    "5. Создайте функцию для определения типа треугольника по длинам сторон (принимает длины сторон, возвращает \"остроугольный, прямоугольный, тупоугольный или не треугольник\")."
   ]
  },
  {
   "cell_type": "code",
   "execution_count": null,
   "id": "379ac74a-f8cf-4e8b-a7e0-7edec94eb982",
   "metadata": {},
   "outputs": [],
   "source": []
  },
  {
   "cell_type": "markdown",
   "id": "6ab1b749-bac8-45e0-872e-a290fa76ac1b",
   "metadata": {},
   "source": [
    "6. Создайте функцию для проверки, является ли строка палиндромом."
   ]
  },
  {
   "cell_type": "code",
   "execution_count": null,
   "id": "ab27f9b7-e0fb-447e-a8b3-caaf180f96ea",
   "metadata": {},
   "outputs": [],
   "source": []
  },
  {
   "cell_type": "markdown",
   "id": "046f869c-8e44-4f65-bc01-6d7efa7abf9b",
   "metadata": {},
   "source": [
    "7. Создайте функцию для определения времени суток по введенному времени ( принимает текущее время в формате часы, минуты, возвращает утро, день, вечер, ночь)."
   ]
  },
  {
   "cell_type": "code",
   "execution_count": null,
   "id": "08399224-c343-40fb-bebd-da4241f80678",
   "metadata": {},
   "outputs": [],
   "source": []
  },
  {
   "cell_type": "markdown",
   "id": "3fc2ca39-2831-49b0-8f07-0ff468f31719",
   "metadata": {},
   "source": [
    "8. Создайте функцию, которая определяет, является ли введенное число простым."
   ]
  },
  {
   "cell_type": "code",
   "execution_count": null,
   "id": "83c20a20-9201-4d47-b9f6-8b6055e3cd41",
   "metadata": {},
   "outputs": [],
   "source": []
  },
  {
   "cell_type": "markdown",
   "id": "a38ec9f4-ee92-40fa-8774-85d05d45d093",
   "metadata": {},
   "source": [
    "9. Создайте функцию для проверки входящей строки на наличие только буквенных символов."
   ]
  },
  {
   "cell_type": "code",
   "execution_count": null,
   "id": "e0e1a614-f1c7-43f3-aaa8-19616b84415a",
   "metadata": {},
   "outputs": [],
   "source": []
  },
  {
   "cell_type": "markdown",
   "id": "c0d15d83-cd03-492a-92f7-56cbc4c1c4c0",
   "metadata": {},
   "source": [
    "10. Создайте функцию, которая определяет, является ли введенная дата корректной (дата вводится в виде трех чисел, день, месяц, год. Корректной датой считается существующая комбинация этих трех чисел)."
   ]
  },
  {
   "cell_type": "code",
   "execution_count": null,
   "id": "52f40113-d902-4e56-8455-96cc9c545351",
   "metadata": {},
   "outputs": [],
   "source": []
  },
  {
   "cell_type": "markdown",
   "id": "04b5c0ad-f0f3-4e07-b5cf-f728a5940234",
   "metadata": {},
   "source": [
    "11. Создайте функцию, которая определяет, является ли введенное число палиндромом."
   ]
  },
  {
   "cell_type": "code",
   "execution_count": null,
   "id": "38d2c51c-eb90-4223-b3f5-d9ad4244ac06",
   "metadata": {},
   "outputs": [],
   "source": []
  },
  {
   "cell_type": "markdown",
   "id": "060504e0-9ca3-4823-a96f-b88ae9d4ea5b",
   "metadata": {},
   "source": [
    "12. Создайте функцию для определения дня недели по введенному номеру дня (1 - Понедельник, 2 - Вторник и т.д.)."
   ]
  },
  {
   "cell_type": "code",
   "execution_count": null,
   "id": "5b3b7a17-bdb4-49cd-a1a9-a8b85fc022c1",
   "metadata": {},
   "outputs": [],
   "source": []
  },
  {
   "cell_type": "markdown",
   "id": "be16171b-5031-4c46-9a1e-4be1cad838eb",
   "metadata": {},
   "source": [
    "13. Создайте функцию **print_fruits_info** для вывода информации о количестве и стоимости фруктов из словарей.\n",
    "   - Функция должна принимать словари с информацией \"фрукт:количество\" и \"фрукт:цена\" и выводить для каждого фрукта его стоимость и количество."
   ]
  },
  {
   "cell_type": "code",
   "execution_count": null,
   "id": "1e51771b-6aa9-4338-bf01-7aa7a55dd2ce",
   "metadata": {},
   "outputs": [],
   "source": []
  },
  {
   "cell_type": "markdown",
   "id": "37f7285a-6f68-4d64-94f0-612334340d78",
   "metadata": {},
   "source": [
    "14. Создайте функцию **print_squares_while**, которая использует цикл while для вывода квадратов чисел от 1 до 5."
   ]
  },
  {
   "cell_type": "code",
   "execution_count": null,
   "id": "2d9277ac-d855-4a12-961c-fd640b90f09b",
   "metadata": {},
   "outputs": [],
   "source": []
  },
  {
   "cell_type": "markdown",
   "id": "b7fe6aa8-6703-4476-b358-0159bf94d2b0",
   "metadata": {},
   "source": [
    "15. Создайте функцию для вывода факториала заданного числа."
   ]
  },
  {
   "cell_type": "code",
   "execution_count": null,
   "id": "ceb0cb29-a790-44d0-9a4f-c3ea8f436322",
   "metadata": {},
   "outputs": [],
   "source": []
  },
  {
   "cell_type": "markdown",
   "id": "fc0a7ad4-3835-47e3-944e-150fbe136c05",
   "metadata": {},
   "source": [
    "16. Создайте функцию для поиска суммы чисел в заданном диапазоне (принимает на вход два числа, возвращает сумму чисел находящихся между ними, включительно.)"
   ]
  },
  {
   "cell_type": "code",
   "execution_count": null,
   "id": "ecbf6b2f-9eeb-48de-a533-6f73c8c908a2",
   "metadata": {},
   "outputs": [],
   "source": []
  },
  {
   "cell_type": "markdown",
   "id": "801e74f3-b32c-4022-9ac5-b948ad32c486",
   "metadata": {},
   "source": [
    "17. Создайте функцию для генерации и вывода всех простых чисел до заданного числа."
   ]
  },
  {
   "cell_type": "code",
   "execution_count": null,
   "id": "dd34370b-02e3-4116-bc8e-d47caafd36ef",
   "metadata": {},
   "outputs": [],
   "source": []
  },
  {
   "cell_type": "markdown",
   "id": "31804032-0d13-44a9-b3ce-b34c4165324c",
   "metadata": {},
   "source": [
    "6. Создайте функцию для проверки строки на палиндромность без учёта регистра и знаков препинания."
   ]
  },
  {
   "cell_type": "code",
   "execution_count": null,
   "id": "1267b89e-9d9c-449a-914e-f7317db8a970",
   "metadata": {},
   "outputs": [],
   "source": []
  },
  {
   "cell_type": "markdown",
   "id": "ebae7aa3-94f2-49f1-91a8-d43eee321208",
   "metadata": {},
   "source": [
    "7. Создайте функцию для поиска наибольшего общего делителя (НОД) двух чисел."
   ]
  },
  {
   "cell_type": "code",
   "execution_count": null,
   "id": "18bce3a6-e4b0-426b-8855-10b78f7a88b9",
   "metadata": {},
   "outputs": [],
   "source": []
  },
  {
   "cell_type": "markdown",
   "id": "4c2596f8-e06f-49fa-972e-19d61f17e95c",
   "metadata": {},
   "source": [
    "## Общие "
   ]
  },
  {
   "cell_type": "markdown",
   "id": "29905a77-19ef-470a-9785-edcc052b5a03",
   "metadata": {},
   "source": [
    "1. Создайте функцию, которая будет запрашивать у пользователя его возраст.\n",
    "   - Если возраст меньше 18 лет, программа должна выводить сообщение о том, что пользователь несовершеннолетний.\n",
    "   - Если возраст от 18 до 65 лет, программа должна выводить сообщение о том, что пользователь взрослый.\n",
    "   - Если возраст больше 65 лет, программа должна выводить сообщение о том, что пользователь пенсионер."
   ]
  },
  {
   "cell_type": "code",
   "execution_count": null,
   "id": "97357f0a-6a24-495b-8db6-c7a6b99b6c12",
   "metadata": {},
   "outputs": [],
   "source": []
  },
  {
   "cell_type": "markdown",
   "id": "e49629de-0a92-4c65-af5e-2fbdb18128f7",
   "metadata": {},
   "source": [
    "2. Создайте функцию, которая будет проверять введенную пользователем строку на наличие повторяющихся символов.\n",
    "   - Если такие символы найдены, программа должна выводить их перечень и количество повторов для каждого."
   ]
  },
  {
   "cell_type": "code",
   "execution_count": null,
   "id": "78f7a3d5-8a2f-445b-94fb-d4e416d4d0f5",
   "metadata": {},
   "outputs": [],
   "source": []
  }
 ],
 "metadata": {
  "kernelspec": {
   "display_name": "Python 3 (ipykernel)",
   "language": "python",
   "name": "python3"
  },
  "language_info": {
   "codemirror_mode": {
    "name": "ipython",
    "version": 3
   },
   "file_extension": ".py",
   "mimetype": "text/x-python",
   "name": "python",
   "nbconvert_exporter": "python",
   "pygments_lexer": "ipython3",
   "version": "3.10.10"
  }
 },
 "nbformat": 4,
 "nbformat_minor": 5
}
