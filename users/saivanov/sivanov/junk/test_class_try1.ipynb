{
 "cells": [
  {
   "cell_type": "code",
   "execution_count": 13,
   "metadata": {},
   "outputs": [],
   "source": [
    "class test_father:\n",
    "    staticlistofentities = []\n",
    "    def __init__(self):\n",
    "        test_father.staticlistofentities.append(self)\n",
    "        return\n",
    "    def execute(self):\n",
    "        #фиг знает что тут с виртуализацией, посмотрим\n",
    "        print('test_father::execute() called')\n",
    "        return false\n",
    "    @staticmethod\n",
    "    def reset_list_of_entities():\n",
    "        test_father.staticlistofentities = []\n",
    "        return\n",
    "    @staticmethod\n",
    "    def do_all_tests():\n",
    "        for test in test_father.staticlistofentities:\n",
    "            if test.execute():\n",
    "                print('test done')\n",
    "            else:\n",
    "                print('failed')            \n",
    "        return\n",
    "    pass\n",
    "#test_ancestor.staticlistofentities = staticmethod(test_ancestor.staticlistofentities) "
   ]
  },
  {
   "cell_type": "code",
   "execution_count": 18,
   "metadata": {},
   "outputs": [],
   "source": [
    "class test(test_father):\n",
    "    def print_count_of_entities(self):\n",
    "        #print('если вызвать через self')\n",
    "        #print(self.staticlistofentities)\n",
    "        print('если вызвать через класс родителя')\n",
    "        print(test_father.staticlistofentities)\n",
    "    def execute(self):\n",
    "        #print('child execute called')\n",
    "        return True\n",
    "    \n",
    "    pass"
   ]
  },
  {
   "cell_type": "code",
   "execution_count": 21,
   "metadata": {},
   "outputs": [
    {
     "name": "stdout",
     "output_type": "stream",
     "text": [
      "test done\n",
      "test done\n",
      "test done\n",
      "test done\n",
      "test done\n",
      "test done\n",
      "test done\n",
      "test done\n",
      "test done\n",
      "test done\n"
     ]
    }
   ],
   "source": [
    "test_father.reset_list_of_entities()\n",
    "i=10\n",
    "while(i>0):\n",
    "    test()\n",
    "    i-=1\n",
    "test_father.do_all_tests()"
   ]
  },
  {
   "cell_type": "code",
   "execution_count": 56,
   "metadata": {},
   "outputs": [
    {
     "name": "stdout",
     "output_type": "stream",
     "text": [
      "This is a random class.\n",
      "This class will print random text.\n"
     ]
    }
   ],
   "source": [
    "# пример создания статического метода из https://www.delftstack.com/ru/howto/python/static-class-variable-in-python/\n",
    "class StaticVar:    \n",
    "    @staticmethod\n",
    "    def random(text):        \n",
    "        print(text)\n",
    "        print(\"This class will print random text.\")\n",
    "        return\n",
    "#StaticVar.random = staticmethod(StaticVar.random)\n",
    "StaticVar.random(\"This is a random class.\")\n"
   ]
  },
  {
   "cell_type": "code",
   "execution_count": 21,
   "metadata": {},
   "outputs": [
    {
     "name": "stdout",
     "output_type": "stream",
     "text": [
      "2\n",
      "5\n"
     ]
    }
   ],
   "source": [
    "#пример из https://pythonru.com/uroki/prisvoenie-tipa-peremennoj-uroki-po-python-dlja-nachinajushhih\n",
    "class MyClass:\n",
    "    static_var = 2\n",
    "    pass\n",
    "print (MyClass.static_var) #2\n",
    "MyClass.static_var = 5\n",
    "print ( MyClass.static_var ) #5"
   ]
  },
  {
   "cell_type": "code",
   "execution_count": null,
   "metadata": {},
   "outputs": [],
   "source": []
  }
 ],
 "metadata": {
  "kernelspec": {
   "display_name": "Python 2",
   "language": "python",
   "name": "python2"
  },
  "language_info": {
   "codemirror_mode": {
    "name": "ipython",
    "version": 2
   },
   "file_extension": ".py",
   "mimetype": "text/x-python",
   "name": "python",
   "nbconvert_exporter": "python",
   "pygments_lexer": "ipython2",
   "version": "2.7.12"
  }
 },
 "nbformat": 4,
 "nbformat_minor": 2
}
