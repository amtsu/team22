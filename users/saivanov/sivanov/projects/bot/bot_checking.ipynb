{
 "cells": [
  {
   "cell_type": "code",
   "execution_count": 1,
   "id": "8059530d",
   "metadata": {},
   "outputs": [],
   "source": [
    "import telebot\n",
    "import superhomosecret\n",
    "from datetime import datetime\n",
    "bot = telebot.TeleBot(superhomosecret.SUPERHOMOSECRET)"
   ]
  },
  {
   "cell_type": "code",
   "execution_count": 2,
   "id": "2f748930",
   "metadata": {},
   "outputs": [],
   "source": [
    "    for address in superhomosecret.GENERALINFOADDRESSEE:\n",
    "        bot.send_message(address, \"bot started\")\n"
   ]
  },
  {
   "cell_type": "code",
   "execution_count": 3,
   "id": "d33b6d4b",
   "metadata": {},
   "outputs": [],
   "source": [
    "#bot.polling(none_stop=True, interval=5)"
   ]
  },
  {
   "cell_type": "code",
   "execution_count": 4,
   "id": "fac8ec92",
   "metadata": {},
   "outputs": [],
   "source": [
    "@bot.message_handler(content_types=[\"text\"])\n",
    "def get_text_messages(message: telebot.types.Message) -> None:\n",
    "    \"\"\"\n",
    "    here is the text message handler\n",
    "    \"\"\"\n",
    "    # message_handler(message)\n",
    "    # --------------------------------------------------------------------------------------\n",
    "    # сообщения из facility\n",
    "    if message.chat.type == \"private\":\n",
    "        with open(superhomosecret.TESTBENCHLOGFILEPATH, \"a\", encoding=\"utf-8\") as fout:\n",
    "            print(\n",
    "                f\"{datetime.now()}: FROM {message.from_user.id} comes text: {message.text}\",\n",
    "                file=fout,\n",
    "            )\n",
    "        print(f\"message from {message.from_user.id} comes.\")\n",
    "\n",
    "        if message.text.lower() in (\"privet\", \"привет\"):\n",
    "            # bot.send_message(message.from_user.id,\"\")\n",
    "            bot.reply_to(message, f\"Привет {message.from_user.first_name}, ты красавчик\")\n",
    "        if message.from_user.id in superhomosecret.COMMANDERS:\n",
    "            if message.text.lower() == \"log\":\n",
    "                with open(\n",
    "                    superhomosecret.TESTBENCHLOGFILEPATH, \"r\", encoding=\"utf-8\"\n",
    "                ) as fin:\n",
    "                    file_contents = fin.read()\n",
    "                    bot.reply_to(message, file_contents[-4000:])\n",
    "    elif (\n",
    "        message.chat.type in (\"group\", \"supergroup\")\n",
    "    ):\n",
    "        # print(\"group chat message\")\n",
    "        print(message.id)\n",
    "        with open(superhomosecret.TESTBENCHLOGFILEPATH, \"a\", encoding=\"utf-8\") as fout:\n",
    "            print(\n",
    "                f\"{datetime.now()}: FROM {message.from_user.id} in\"\n",
    "                f\" {message.chat.id} comes text: {message.text}\",\n",
    "                file=fout,\n",
    "            )\n",
    "        if message.text.lower() in (\"privet\", \"привет\"):\n",
    "            bot.reply_to(message, f\"Привет {message.from_user.first_name}, ты красавчик!\")\n",
    "        print(f\"group message in {message.chat.id}\")\n",
    "    else:\n",
    "        print(\"unknown message\")\n"
   ]
  },
  {
   "cell_type": "code",
   "execution_count": 5,
   "id": "46e04585",
   "metadata": {},
   "outputs": [
    {
     "name": "stdout",
     "output_type": "stream",
     "text": [
      "bot.log\n"
     ]
    }
   ],
   "source": [
    "print(superhomosecret.TESTBENCHLOGFILEPATH)"
   ]
  },
  {
   "cell_type": "code",
   "execution_count": 6,
   "id": "fd52632a",
   "metadata": {},
   "outputs": [],
   "source": [
    "!touch bm.log\n",
    "!touch bot.log"
   ]
  },
  {
   "cell_type": "code",
   "execution_count": 7,
   "id": "c90a097f",
   "metadata": {},
   "outputs": [
    {
     "name": "stdout",
     "output_type": "stream",
     "text": [
      "message from 102739674 comes.\n",
      "message from 102739674 comes.\n"
     ]
    }
   ],
   "source": [
    "bot.polling(none_stop=True, interval=5)"
   ]
  },
  {
   "cell_type": "code",
   "execution_count": 8,
   "id": "7122855e",
   "metadata": {},
   "outputs": [],
   "source": []
  }
 ],
 "metadata": {
  "kernelspec": {
   "display_name": "Python 3 (ipykernel)",
   "language": "python",
   "name": "python3"
  },
  "language_info": {
   "codemirror_mode": {
    "name": "ipython",
    "version": 3
   },
   "file_extension": ".py",
   "mimetype": "text/x-python",
   "name": "python",
   "nbconvert_exporter": "python",
   "pygments_lexer": "ipython3",
   "version": "3.9.7"
  }
 },
 "nbformat": 4,
 "nbformat_minor": 5
}
