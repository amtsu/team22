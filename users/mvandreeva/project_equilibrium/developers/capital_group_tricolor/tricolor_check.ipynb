{
 "cells": [
  {
   "cell_type": "code",
   "execution_count": 1,
   "id": "a23b3039-c47d-4ae7-8b15-a38d8ba81f89",
   "metadata": {},
   "outputs": [],
   "source": [
    "import urllib\n",
    "import urllib.request\n",
    "from bs4 import BeautifulSoup\n",
    "from page_parsing import PagePerser\n",
    "from tricolor_parsing import TricolorParser, TricolorParserFFile"
   ]
  },
  {
   "cell_type": "code",
   "execution_count": 3,
   "id": "1e536fd3-4444-4cc9-9429-cd91ac78d23e",
   "metadata": {},
   "outputs": [],
   "source": [
    "import openapi_client\n",
    "from openapi_client.apis.tags import history_api\n",
    "from openapi_client.model.history import History\n",
    "from openapi_client.model.paginated_history_list import PaginatedHistoryList\n",
    "from openapi_client.model.patched_history import PatchedHistory\n",
    "from pprint import pprint"
   ]
  },
  {
   "cell_type": "code",
   "execution_count": 1,
   "id": "5d83ee52-0254-451b-81c6-d52d30cc57aa",
   "metadata": {},
   "outputs": [
    {
     "name": "stdout",
     "output_type": "stream",
     "text": [
      "s\n"
     ]
    }
   ],
   "source": [
    "a = \"smth\"\n",
    "print(a[0])\n"
   ]
  },
  {
   "cell_type": "code",
   "execution_count": 2,
   "id": "86fd05c8-a951-4390-96df-83eb9ebb8ee4",
   "metadata": {},
   "outputs": [
    {
     "name": "stdout",
     "output_type": "stream",
     "text": [
      "Help on _SpecialForm in module typing:\n",
      "\n",
      "typing.Optional\n",
      "    Optional type.\n",
      "    \n",
      "    Optional[X] is equivalent to Union[X, None].\n",
      "\n"
     ]
    }
   ],
   "source": [
    "from typing import Any, Dict, Union, Optional\n",
    "help(Optional)"
   ]
  },
  {
   "cell_type": "code",
   "execution_count": null,
   "id": "6cdaaf89-674f-4f05-8b82-1a8ec1c43504",
   "metadata": {},
   "outputs": [],
   "source": []
  },
  {
   "cell_type": "code",
   "execution_count": null,
   "id": "df375080-3f13-4aed-9605-7863ce97db69",
   "metadata": {},
   "outputs": [],
   "source": [
    "def test_tricolor_parsing_get_title():\n",
    "    flats_data = TricolorParser(\"https://cg-tricolor.ru/catalog/flats\")\n",
    "    flats_dict_list = flats_data.get_dict_list()\n",
    "    print(flats_dict_list)\n",
    "    assert not flats_dict_list == []\n",
    "\n",
    "test_tricolor_parsing_get_title()"
   ]
  },
  {
   "cell_type": "code",
   "execution_count": null,
   "id": "2e520ba1-2ae0-4172-a6df-aac0284c99e1",
   "metadata": {},
   "outputs": [],
   "source": [
    "def send_in_api(self):\n",
    "    configuration = openapi_client.Configuration(host=\"http://absrent.ru:8000\")\n",
    "\n",
    "    with openapi_client.ApiClient(configuration) as api_client:\n",
    "        api_instance = history_api.HistoryApi(api_client)\n",
    "        for e in self.__list_dict:\n",
    "            # print(e)\n",
    "            history = History(\n",
    "                pk=1,\n",
    "                title=e[\"title\"],\n",
    "                quantity=1,\n",
    "                price=str(e[\"price\"]),\n",
    "                price_sale=str(e[\"price_sale\"]),\n",
    "                datetime_create=\"1970-01-01T00:00:00.00Z\",\n",
    "                category=e[\"category\"],\n",
    "                brand=e[\"brand\"],\n",
    "                brand_url=e[\"brand_url\"],\n",
    "                url=e[\"url\"],\n",
    "                img_url=e[\"image_url\"],\n",
    "                description=e[\"description\"],\n",
    "                source_url=e[\"source_url\"],\n",
    "                apartment_area=e[\"apartment_area\"],\n",
    "                apartment_completion_quarter=e[\"apartment_completion_quarter\"],\n",
    "                apartment_completion_year=e[\"apartment_completion_year\"],\n",
    "                apartment_floor=e[\"apartment_floor\"],\n",
    "                apartment_floors_total=e[\"apartment_floors_total\"],\n",
    "                apartment_ceilingheight=e[\"apartment_ceilingheight\"],\n",
    "                apartment_room=e[\"apartment_room\"],\n",
    "                apartment_ppm=e[\"apartment_ppm\"],\n",
    "                apartment_address=e[\"apartment_address\"],\n",
    "                apartment_location=e[\"apartment_location\"],\n",
    "                apartment_location_lat=e[\"apartment_location_lat\"],\n",
    "                apartment_location_lon=e[\"apartment_location_lon\"],\n",
    "            )  # History |  (optional)\n",
    "\n",
    "            try:\n",
    "                api_response = api_instance.history_create(body=history)\n",
    "                # pprint(api_response)\n",
    "            except openapi_client.ApiException as e:\n",
    "                print(\"Exception when calling HistoryApi->history_create: %s\\n\" % e)\n",
    "        print(\"Count load object =\", len(self.__list_dict))"
   ]
  },
  {
   "cell_type": "code",
   "execution_count": 7,
   "id": "593bee4a-709d-444e-a114-8a091077fdfa",
   "metadata": {},
   "outputs": [
    {
     "ename": "ApiTypeError",
     "evalue": "Invalid type. Required value type is one of [NoneClass, str] and passed type was Decimal at ['args[0]']['title']",
     "output_type": "error",
     "traceback": [
      "\u001b[0;31m---------------------------------------------------------------------------\u001b[0m",
      "\u001b[0;31mApiTypeError\u001b[0m                              Traceback (most recent call last)",
      "Cell \u001b[0;32mIn [7], line 20\u001b[0m\n\u001b[1;32m     17\u001b[0m         \u001b[38;5;28;01mexcept\u001b[39;00m openapi_client\u001b[38;5;241m.\u001b[39mApiException \u001b[38;5;28;01mas\u001b[39;00m e:\n\u001b[1;32m     18\u001b[0m             \u001b[38;5;28mprint\u001b[39m(\u001b[38;5;124m\"\u001b[39m\u001b[38;5;124mException when calling HistoryApi->history_create: \u001b[39m\u001b[38;5;132;01m%s\u001b[39;00m\u001b[38;5;130;01m\\n\u001b[39;00m\u001b[38;5;124m\"\u001b[39m \u001b[38;5;241m%\u001b[39m e)\n\u001b[0;32m---> 20\u001b[0m \u001b[43msend_in_api\u001b[49m\u001b[43m(\u001b[49m\u001b[43m)\u001b[49m            \n",
      "Cell \u001b[0;32mIn [7], line 6\u001b[0m, in \u001b[0;36msend_in_api\u001b[0;34m()\u001b[0m\n\u001b[1;32m      4\u001b[0m \u001b[38;5;28;01mwith\u001b[39;00m openapi_client\u001b[38;5;241m.\u001b[39mApiClient(configuration) \u001b[38;5;28;01mas\u001b[39;00m api_client:\n\u001b[1;32m      5\u001b[0m     api_instance \u001b[38;5;241m=\u001b[39m history_api\u001b[38;5;241m.\u001b[39mHistoryApi(api_client)\n\u001b[0;32m----> 6\u001b[0m     history \u001b[38;5;241m=\u001b[39m \u001b[43mHistory\u001b[49m\u001b[43m(\u001b[49m\n\u001b[1;32m      7\u001b[0m \u001b[43m        \u001b[49m\u001b[43mpk\u001b[49m\u001b[38;5;241;43m=\u001b[39;49m\u001b[38;5;241;43m1\u001b[39;49m\u001b[43m,\u001b[49m\n\u001b[1;32m      8\u001b[0m \u001b[43m        \u001b[49m\u001b[38;5;66;43;03m# title = \"test_mary\",\u001b[39;49;00m\n\u001b[1;32m      9\u001b[0m \u001b[43m        \u001b[49m\u001b[43mtitle\u001b[49m\u001b[43m \u001b[49m\u001b[38;5;241;43m=\u001b[39;49m\u001b[43m \u001b[49m\u001b[38;5;241;43m3\u001b[39;49m\u001b[43m,\u001b[49m\n\u001b[1;32m     10\u001b[0m \u001b[43m        \u001b[49m\n\u001b[1;32m     11\u001b[0m \u001b[43m        \u001b[49m\u001b[43mdatetime_create\u001b[49m\u001b[38;5;241;43m=\u001b[39;49m\u001b[38;5;124;43m\"\u001b[39;49m\u001b[38;5;124;43m1970-01-01T00:00:00.00Z\u001b[39;49m\u001b[38;5;124;43m\"\u001b[39;49m\u001b[43m,\u001b[49m\n\u001b[1;32m     12\u001b[0m \u001b[43m    \u001b[49m\u001b[43m)\u001b[49m  \u001b[38;5;66;03m# History |  (optional)\u001b[39;00m\n\u001b[1;32m     14\u001b[0m     \u001b[38;5;28;01mtry\u001b[39;00m:\n\u001b[1;32m     15\u001b[0m         api_response \u001b[38;5;241m=\u001b[39m api_instance\u001b[38;5;241m.\u001b[39mhistory_create(body\u001b[38;5;241m=\u001b[39mhistory)\n",
      "File \u001b[0;32m/opt/tljh/user/lib/python3.9/site-packages/openapi_client/model/history.py:1125\u001b[0m, in \u001b[0;36mHistory.__new__\u001b[0;34m(cls, datetime_create, pk, title, quantity, price, price_sale, score, count_comments, count_likes, count_stars_all, count_stars_1, count_stars_2, count_stars_3, count_stars_4, count_stars_5, count_how_much_buy, count_questions, count_photo, category, category_url, brand, brand_url, day_to_delivery, sku, url, canonical_url, img_url, description, params, seller, seller_url, source_url, urls_other_products_on_the_page, worker, task, _configuration, *_args, **kwargs)\u001b[0m\n\u001b[1;32m   1084\u001b[0m \u001b[38;5;28;01mdef\u001b[39;00m \u001b[38;5;21m__new__\u001b[39m(\n\u001b[1;32m   1085\u001b[0m     \u001b[38;5;28mcls\u001b[39m,\n\u001b[1;32m   1086\u001b[0m     \u001b[38;5;241m*\u001b[39m_args: typing\u001b[38;5;241m.\u001b[39mUnion[\u001b[38;5;28mdict\u001b[39m, frozendict\u001b[38;5;241m.\u001b[39mfrozendict, ],\n\u001b[0;32m   (...)\u001b[0m\n\u001b[1;32m   1123\u001b[0m     \u001b[38;5;241m*\u001b[39m\u001b[38;5;241m*\u001b[39mkwargs: typing\u001b[38;5;241m.\u001b[39mUnion[schemas\u001b[38;5;241m.\u001b[39mAnyTypeSchema, \u001b[38;5;28mdict\u001b[39m, frozendict\u001b[38;5;241m.\u001b[39mfrozendict, \u001b[38;5;28mstr\u001b[39m, date, datetime, uuid\u001b[38;5;241m.\u001b[39mUUID, \u001b[38;5;28mint\u001b[39m, \u001b[38;5;28mfloat\u001b[39m, decimal\u001b[38;5;241m.\u001b[39mDecimal, \u001b[38;5;28;01mNone\u001b[39;00m, \u001b[38;5;28mlist\u001b[39m, \u001b[38;5;28mtuple\u001b[39m, \u001b[38;5;28mbytes\u001b[39m],\n\u001b[1;32m   1124\u001b[0m ) \u001b[38;5;241m-\u001b[39m\u001b[38;5;241m>\u001b[39m \u001b[38;5;124m'\u001b[39m\u001b[38;5;124mHistory\u001b[39m\u001b[38;5;124m'\u001b[39m:\n\u001b[0;32m-> 1125\u001b[0m     \u001b[38;5;28;01mreturn\u001b[39;00m \u001b[38;5;28;43msuper\u001b[39;49m\u001b[43m(\u001b[49m\u001b[43m)\u001b[49m\u001b[38;5;241;43m.\u001b[39;49m\u001b[38;5;21;43m__new__\u001b[39;49m\u001b[43m(\u001b[49m\n\u001b[1;32m   1126\u001b[0m \u001b[43m        \u001b[49m\u001b[38;5;28;43mcls\u001b[39;49m\u001b[43m,\u001b[49m\n\u001b[1;32m   1127\u001b[0m \u001b[43m        \u001b[49m\u001b[38;5;241;43m*\u001b[39;49m\u001b[43m_args\u001b[49m\u001b[43m,\u001b[49m\n\u001b[1;32m   1128\u001b[0m \u001b[43m        \u001b[49m\u001b[43mdatetime_create\u001b[49m\u001b[38;5;241;43m=\u001b[39;49m\u001b[43mdatetime_create\u001b[49m\u001b[43m,\u001b[49m\n\u001b[1;32m   1129\u001b[0m \u001b[43m        \u001b[49m\u001b[43mpk\u001b[49m\u001b[38;5;241;43m=\u001b[39;49m\u001b[43mpk\u001b[49m\u001b[43m,\u001b[49m\n\u001b[1;32m   1130\u001b[0m \u001b[43m        \u001b[49m\u001b[43mtitle\u001b[49m\u001b[38;5;241;43m=\u001b[39;49m\u001b[43mtitle\u001b[49m\u001b[43m,\u001b[49m\n\u001b[1;32m   1131\u001b[0m \u001b[43m        \u001b[49m\u001b[43mquantity\u001b[49m\u001b[38;5;241;43m=\u001b[39;49m\u001b[43mquantity\u001b[49m\u001b[43m,\u001b[49m\n\u001b[1;32m   1132\u001b[0m \u001b[43m        \u001b[49m\u001b[43mprice\u001b[49m\u001b[38;5;241;43m=\u001b[39;49m\u001b[43mprice\u001b[49m\u001b[43m,\u001b[49m\n\u001b[1;32m   1133\u001b[0m \u001b[43m        \u001b[49m\u001b[43mprice_sale\u001b[49m\u001b[38;5;241;43m=\u001b[39;49m\u001b[43mprice_sale\u001b[49m\u001b[43m,\u001b[49m\n\u001b[1;32m   1134\u001b[0m \u001b[43m        \u001b[49m\u001b[43mscore\u001b[49m\u001b[38;5;241;43m=\u001b[39;49m\u001b[43mscore\u001b[49m\u001b[43m,\u001b[49m\n\u001b[1;32m   1135\u001b[0m \u001b[43m        \u001b[49m\u001b[43mcount_comments\u001b[49m\u001b[38;5;241;43m=\u001b[39;49m\u001b[43mcount_comments\u001b[49m\u001b[43m,\u001b[49m\n\u001b[1;32m   1136\u001b[0m \u001b[43m        \u001b[49m\u001b[43mcount_likes\u001b[49m\u001b[38;5;241;43m=\u001b[39;49m\u001b[43mcount_likes\u001b[49m\u001b[43m,\u001b[49m\n\u001b[1;32m   1137\u001b[0m \u001b[43m        \u001b[49m\u001b[43mcount_stars_all\u001b[49m\u001b[38;5;241;43m=\u001b[39;49m\u001b[43mcount_stars_all\u001b[49m\u001b[43m,\u001b[49m\n\u001b[1;32m   1138\u001b[0m \u001b[43m        \u001b[49m\u001b[43mcount_stars_1\u001b[49m\u001b[38;5;241;43m=\u001b[39;49m\u001b[43mcount_stars_1\u001b[49m\u001b[43m,\u001b[49m\n\u001b[1;32m   1139\u001b[0m \u001b[43m        \u001b[49m\u001b[43mcount_stars_2\u001b[49m\u001b[38;5;241;43m=\u001b[39;49m\u001b[43mcount_stars_2\u001b[49m\u001b[43m,\u001b[49m\n\u001b[1;32m   1140\u001b[0m \u001b[43m        \u001b[49m\u001b[43mcount_stars_3\u001b[49m\u001b[38;5;241;43m=\u001b[39;49m\u001b[43mcount_stars_3\u001b[49m\u001b[43m,\u001b[49m\n\u001b[1;32m   1141\u001b[0m \u001b[43m        \u001b[49m\u001b[43mcount_stars_4\u001b[49m\u001b[38;5;241;43m=\u001b[39;49m\u001b[43mcount_stars_4\u001b[49m\u001b[43m,\u001b[49m\n\u001b[1;32m   1142\u001b[0m \u001b[43m        \u001b[49m\u001b[43mcount_stars_5\u001b[49m\u001b[38;5;241;43m=\u001b[39;49m\u001b[43mcount_stars_5\u001b[49m\u001b[43m,\u001b[49m\n\u001b[1;32m   1143\u001b[0m \u001b[43m        \u001b[49m\u001b[43mcount_how_much_buy\u001b[49m\u001b[38;5;241;43m=\u001b[39;49m\u001b[43mcount_how_much_buy\u001b[49m\u001b[43m,\u001b[49m\n\u001b[1;32m   1144\u001b[0m \u001b[43m        \u001b[49m\u001b[43mcount_questions\u001b[49m\u001b[38;5;241;43m=\u001b[39;49m\u001b[43mcount_questions\u001b[49m\u001b[43m,\u001b[49m\n\u001b[1;32m   1145\u001b[0m \u001b[43m        \u001b[49m\u001b[43mcount_photo\u001b[49m\u001b[38;5;241;43m=\u001b[39;49m\u001b[43mcount_photo\u001b[49m\u001b[43m,\u001b[49m\n\u001b[1;32m   1146\u001b[0m \u001b[43m        \u001b[49m\u001b[43mcategory\u001b[49m\u001b[38;5;241;43m=\u001b[39;49m\u001b[43mcategory\u001b[49m\u001b[43m,\u001b[49m\n\u001b[1;32m   1147\u001b[0m \u001b[43m        \u001b[49m\u001b[43mcategory_url\u001b[49m\u001b[38;5;241;43m=\u001b[39;49m\u001b[43mcategory_url\u001b[49m\u001b[43m,\u001b[49m\n\u001b[1;32m   1148\u001b[0m \u001b[43m        \u001b[49m\u001b[43mbrand\u001b[49m\u001b[38;5;241;43m=\u001b[39;49m\u001b[43mbrand\u001b[49m\u001b[43m,\u001b[49m\n\u001b[1;32m   1149\u001b[0m \u001b[43m        \u001b[49m\u001b[43mbrand_url\u001b[49m\u001b[38;5;241;43m=\u001b[39;49m\u001b[43mbrand_url\u001b[49m\u001b[43m,\u001b[49m\n\u001b[1;32m   1150\u001b[0m \u001b[43m        \u001b[49m\u001b[43mday_to_delivery\u001b[49m\u001b[38;5;241;43m=\u001b[39;49m\u001b[43mday_to_delivery\u001b[49m\u001b[43m,\u001b[49m\n\u001b[1;32m   1151\u001b[0m \u001b[43m        \u001b[49m\u001b[43msku\u001b[49m\u001b[38;5;241;43m=\u001b[39;49m\u001b[43msku\u001b[49m\u001b[43m,\u001b[49m\n\u001b[1;32m   1152\u001b[0m \u001b[43m        \u001b[49m\u001b[43murl\u001b[49m\u001b[38;5;241;43m=\u001b[39;49m\u001b[43murl\u001b[49m\u001b[43m,\u001b[49m\n\u001b[1;32m   1153\u001b[0m \u001b[43m        \u001b[49m\u001b[43mcanonical_url\u001b[49m\u001b[38;5;241;43m=\u001b[39;49m\u001b[43mcanonical_url\u001b[49m\u001b[43m,\u001b[49m\n\u001b[1;32m   1154\u001b[0m \u001b[43m        \u001b[49m\u001b[43mimg_url\u001b[49m\u001b[38;5;241;43m=\u001b[39;49m\u001b[43mimg_url\u001b[49m\u001b[43m,\u001b[49m\n\u001b[1;32m   1155\u001b[0m \u001b[43m        \u001b[49m\u001b[43mdescription\u001b[49m\u001b[38;5;241;43m=\u001b[39;49m\u001b[43mdescription\u001b[49m\u001b[43m,\u001b[49m\n\u001b[1;32m   1156\u001b[0m \u001b[43m        \u001b[49m\u001b[43mparams\u001b[49m\u001b[38;5;241;43m=\u001b[39;49m\u001b[43mparams\u001b[49m\u001b[43m,\u001b[49m\n\u001b[1;32m   1157\u001b[0m \u001b[43m        \u001b[49m\u001b[43mseller\u001b[49m\u001b[38;5;241;43m=\u001b[39;49m\u001b[43mseller\u001b[49m\u001b[43m,\u001b[49m\n\u001b[1;32m   1158\u001b[0m \u001b[43m        \u001b[49m\u001b[43mseller_url\u001b[49m\u001b[38;5;241;43m=\u001b[39;49m\u001b[43mseller_url\u001b[49m\u001b[43m,\u001b[49m\n\u001b[1;32m   1159\u001b[0m \u001b[43m        \u001b[49m\u001b[43msource_url\u001b[49m\u001b[38;5;241;43m=\u001b[39;49m\u001b[43msource_url\u001b[49m\u001b[43m,\u001b[49m\n\u001b[1;32m   1160\u001b[0m \u001b[43m        \u001b[49m\u001b[43murls_other_products_on_the_page\u001b[49m\u001b[38;5;241;43m=\u001b[39;49m\u001b[43murls_other_products_on_the_page\u001b[49m\u001b[43m,\u001b[49m\n\u001b[1;32m   1161\u001b[0m \u001b[43m        \u001b[49m\u001b[43mworker\u001b[49m\u001b[38;5;241;43m=\u001b[39;49m\u001b[43mworker\u001b[49m\u001b[43m,\u001b[49m\n\u001b[1;32m   1162\u001b[0m \u001b[43m        \u001b[49m\u001b[43mtask\u001b[49m\u001b[38;5;241;43m=\u001b[39;49m\u001b[43mtask\u001b[49m\u001b[43m,\u001b[49m\n\u001b[1;32m   1163\u001b[0m \u001b[43m        \u001b[49m\u001b[43m_configuration\u001b[49m\u001b[38;5;241;43m=\u001b[39;49m\u001b[43m_configuration\u001b[49m\u001b[43m,\u001b[49m\n\u001b[1;32m   1164\u001b[0m \u001b[43m        \u001b[49m\u001b[38;5;241;43m*\u001b[39;49m\u001b[38;5;241;43m*\u001b[39;49m\u001b[43mkwargs\u001b[49m\u001b[43m,\u001b[49m\n\u001b[1;32m   1165\u001b[0m \u001b[43m    \u001b[49m\u001b[43m)\u001b[49m\n",
      "File \u001b[0;32m/opt/tljh/user/lib/python3.9/site-packages/openapi_client/schemas.py:2452\u001b[0m, in \u001b[0;36mDictSchema.__new__\u001b[0;34m(cls, *_args, **kwargs)\u001b[0m\n\u001b[1;32m   2451\u001b[0m \u001b[38;5;28;01mdef\u001b[39;00m \u001b[38;5;21m__new__\u001b[39m(\u001b[38;5;28mcls\u001b[39m, \u001b[38;5;241m*\u001b[39m_args: typing\u001b[38;5;241m.\u001b[39mUnion[\u001b[38;5;28mdict\u001b[39m, frozendict\u001b[38;5;241m.\u001b[39mfrozendict], \u001b[38;5;241m*\u001b[39m\u001b[38;5;241m*\u001b[39mkwargs: typing\u001b[38;5;241m.\u001b[39mUnion[\u001b[38;5;28mdict\u001b[39m, frozendict\u001b[38;5;241m.\u001b[39mfrozendict, \u001b[38;5;28mlist\u001b[39m, \u001b[38;5;28mtuple\u001b[39m, decimal\u001b[38;5;241m.\u001b[39mDecimal, \u001b[38;5;28mfloat\u001b[39m, \u001b[38;5;28mint\u001b[39m, \u001b[38;5;28mstr\u001b[39m, date, datetime, \u001b[38;5;28mbool\u001b[39m, \u001b[38;5;28;01mNone\u001b[39;00m, \u001b[38;5;28mbytes\u001b[39m, Schema, Unset, ValidationMetadata]):\n\u001b[0;32m-> 2452\u001b[0m     \u001b[38;5;28;01mreturn\u001b[39;00m \u001b[38;5;28;43msuper\u001b[39;49m\u001b[43m(\u001b[49m\u001b[43m)\u001b[49m\u001b[38;5;241;43m.\u001b[39;49m\u001b[38;5;21;43m__new__\u001b[39;49m\u001b[43m(\u001b[49m\u001b[38;5;28;43mcls\u001b[39;49m\u001b[43m,\u001b[49m\u001b[43m \u001b[49m\u001b[38;5;241;43m*\u001b[39;49m\u001b[43m_args\u001b[49m\u001b[43m,\u001b[49m\u001b[43m \u001b[49m\u001b[38;5;241;43m*\u001b[39;49m\u001b[38;5;241;43m*\u001b[39;49m\u001b[43mkwargs\u001b[49m\u001b[43m)\u001b[49m\n",
      "File \u001b[0;32m/opt/tljh/user/lib/python3.9/site-packages/openapi_client/schemas.py:543\u001b[0m, in \u001b[0;36mSchema.__new__\u001b[0;34m(cls, _configuration, *_args, **kwargs)\u001b[0m\n\u001b[1;32m    539\u001b[0m __arg \u001b[38;5;241m=\u001b[39m cast_to_allowed_types(\n\u001b[1;32m    540\u001b[0m     __arg, __from_server, __validated_path_to_schemas)\n\u001b[1;32m    541\u001b[0m __validation_metadata \u001b[38;5;241m=\u001b[39m ValidationMetadata(\n\u001b[1;32m    542\u001b[0m     configuration\u001b[38;5;241m=\u001b[39m_configuration, from_server\u001b[38;5;241m=\u001b[39m__from_server, validated_path_to_schemas\u001b[38;5;241m=\u001b[39m__validated_path_to_schemas)\n\u001b[0;32m--> 543\u001b[0m __path_to_schemas \u001b[38;5;241m=\u001b[39m \u001b[38;5;28;43mcls\u001b[39;49m\u001b[38;5;241;43m.\u001b[39;49m\u001b[43m__get_new_cls\u001b[49m\u001b[43m(\u001b[49m\u001b[43m__arg\u001b[49m\u001b[43m,\u001b[49m\u001b[43m \u001b[49m\u001b[43m__validation_metadata\u001b[49m\u001b[43m)\u001b[49m\n\u001b[1;32m    544\u001b[0m __new_cls \u001b[38;5;241m=\u001b[39m __path_to_schemas[__validation_metadata\u001b[38;5;241m.\u001b[39mpath_to_item]\n\u001b[1;32m    545\u001b[0m \u001b[38;5;28;01mreturn\u001b[39;00m __new_cls\u001b[38;5;241m.\u001b[39m_get_new_instance_without_conversion_oapg(\n\u001b[1;32m    546\u001b[0m     __arg,\n\u001b[1;32m    547\u001b[0m     __validation_metadata\u001b[38;5;241m.\u001b[39mpath_to_item,\n\u001b[1;32m    548\u001b[0m     __path_to_schemas\n\u001b[1;32m    549\u001b[0m )\n",
      "File \u001b[0;32m/opt/tljh/user/lib/python3.9/site-packages/openapi_client/schemas.py:411\u001b[0m, in \u001b[0;36mSchema.__get_new_cls\u001b[0;34m(cls, arg, validation_metadata)\u001b[0m\n\u001b[1;32m    409\u001b[0m     add_deeper_validated_schemas(validation_metadata, _path_to_schemas)\n\u001b[1;32m    410\u001b[0m \u001b[38;5;28;01melse\u001b[39;00m:\n\u001b[0;32m--> 411\u001b[0m     other_path_to_schemas \u001b[38;5;241m=\u001b[39m \u001b[38;5;28;43mcls\u001b[39;49m\u001b[38;5;241;43m.\u001b[39;49m\u001b[43m_validate_oapg\u001b[49m\u001b[43m(\u001b[49m\u001b[43marg\u001b[49m\u001b[43m,\u001b[49m\u001b[43m \u001b[49m\u001b[43mvalidation_metadata\u001b[49m\u001b[38;5;241;43m=\u001b[39;49m\u001b[43mvalidation_metadata\u001b[49m\u001b[43m)\u001b[49m\n\u001b[1;32m    412\u001b[0m     update(_path_to_schemas, other_path_to_schemas)\n\u001b[1;32m    413\u001b[0m \u001b[38;5;66;03m# loop through it make a new class for each entry\u001b[39;00m\n\u001b[1;32m    414\u001b[0m \u001b[38;5;66;03m# do not modify the returned result because it is cached and we would be modifying the cached value\u001b[39;00m\n",
      "File \u001b[0;32m/opt/tljh/user/lib/python3.9/site-packages/openapi_client/schemas.py:1673\u001b[0m, in \u001b[0;36mDictBase._validate_oapg\u001b[0;34m(cls, arg, validation_metadata)\u001b[0m\n\u001b[1;32m   1671\u001b[0m     \u001b[38;5;28;01mreturn\u001b[39;00m _path_to_schemas\n\u001b[1;32m   1672\u001b[0m \u001b[38;5;28mcls\u001b[39m\u001b[38;5;241m.\u001b[39m__validate_arg_presence(arg)\n\u001b[0;32m-> 1673\u001b[0m other_path_to_schemas \u001b[38;5;241m=\u001b[39m \u001b[38;5;28;43mcls\u001b[39;49m\u001b[38;5;241;43m.\u001b[39;49m\u001b[43m__validate_args\u001b[49m\u001b[43m(\u001b[49m\u001b[43marg\u001b[49m\u001b[43m,\u001b[49m\u001b[43m \u001b[49m\u001b[43mvalidation_metadata\u001b[49m\u001b[38;5;241;43m=\u001b[39;49m\u001b[43mvalidation_metadata\u001b[49m\u001b[43m)\u001b[49m\n\u001b[1;32m   1674\u001b[0m update(_path_to_schemas, other_path_to_schemas)\n\u001b[1;32m   1675\u001b[0m \u001b[38;5;28;01mtry\u001b[39;00m:\n",
      "File \u001b[0;32m/opt/tljh/user/lib/python3.9/site-packages/openapi_client/schemas.py:1614\u001b[0m, in \u001b[0;36mDictBase.__validate_args\u001b[0;34m(cls, arg, validation_metadata)\u001b[0m\n\u001b[1;32m   1612\u001b[0m         add_deeper_validated_schemas(arg_validation_metadata, path_to_schemas)\n\u001b[1;32m   1613\u001b[0m         \u001b[38;5;28;01mcontinue\u001b[39;00m\n\u001b[0;32m-> 1614\u001b[0m     other_path_to_schemas \u001b[38;5;241m=\u001b[39m \u001b[43mschema\u001b[49m\u001b[38;5;241;43m.\u001b[39;49m\u001b[43m_validate_oapg\u001b[49m\u001b[43m(\u001b[49m\u001b[43mvalue\u001b[49m\u001b[43m,\u001b[49m\u001b[43m \u001b[49m\u001b[43mvalidation_metadata\u001b[49m\u001b[38;5;241;43m=\u001b[39;49m\u001b[43marg_validation_metadata\u001b[49m\u001b[43m)\u001b[49m\n\u001b[1;32m   1615\u001b[0m     update(path_to_schemas, other_path_to_schemas)\n\u001b[1;32m   1616\u001b[0m \u001b[38;5;28;01mreturn\u001b[39;00m path_to_schemas\n",
      "File \u001b[0;32m/opt/tljh/user/lib/python3.9/site-packages/openapi_client/schemas.py:1030\u001b[0m, in \u001b[0;36mStrBase._validate_oapg\u001b[0;34m(cls, arg, validation_metadata)\u001b[0m\n\u001b[1;32m   1028\u001b[0m \u001b[38;5;28;01mif\u001b[39;00m \u001b[38;5;28misinstance\u001b[39m(arg, \u001b[38;5;28mstr\u001b[39m):\n\u001b[1;32m   1029\u001b[0m     \u001b[38;5;28mcls\u001b[39m\u001b[38;5;241m.\u001b[39m__check_str_validations(arg, validation_metadata)\n\u001b[0;32m-> 1030\u001b[0m \u001b[38;5;28;01mreturn\u001b[39;00m \u001b[38;5;28;43msuper\u001b[39;49m\u001b[43m(\u001b[49m\u001b[43m)\u001b[49m\u001b[38;5;241;43m.\u001b[39;49m\u001b[43m_validate_oapg\u001b[49m\u001b[43m(\u001b[49m\u001b[43marg\u001b[49m\u001b[43m,\u001b[49m\u001b[43m \u001b[49m\u001b[43mvalidation_metadata\u001b[49m\u001b[38;5;241;43m=\u001b[39;49m\u001b[43mvalidation_metadata\u001b[49m\u001b[43m)\u001b[49m\n",
      "File \u001b[0;32m/opt/tljh/user/lib/python3.9/site-packages/openapi_client/schemas.py:350\u001b[0m, in \u001b[0;36mSchema._validate_oapg\u001b[0;34m(cls, arg, validation_metadata)\u001b[0m\n\u001b[1;32m    348\u001b[0m base_class \u001b[38;5;241m=\u001b[39m \u001b[38;5;28mtype\u001b[39m(arg)\n\u001b[1;32m    349\u001b[0m \u001b[38;5;28;01mif\u001b[39;00m base_class \u001b[38;5;129;01mnot\u001b[39;00m \u001b[38;5;129;01min\u001b[39;00m \u001b[38;5;28mcls\u001b[39m\u001b[38;5;241m.\u001b[39m_types:\n\u001b[0;32m--> 350\u001b[0m     \u001b[38;5;28;01mraise\u001b[39;00m \u001b[38;5;28mcls\u001b[39m\u001b[38;5;241m.\u001b[39m__get_type_error(\n\u001b[1;32m    351\u001b[0m         arg,\n\u001b[1;32m    352\u001b[0m         validation_metadata\u001b[38;5;241m.\u001b[39mpath_to_item,\n\u001b[1;32m    353\u001b[0m         \u001b[38;5;28mcls\u001b[39m\u001b[38;5;241m.\u001b[39m_types,\n\u001b[1;32m    354\u001b[0m         key_type\u001b[38;5;241m=\u001b[39m\u001b[38;5;28;01mFalse\u001b[39;00m,\n\u001b[1;32m    355\u001b[0m     )\n\u001b[1;32m    357\u001b[0m path_to_schemas \u001b[38;5;241m=\u001b[39m {validation_metadata\u001b[38;5;241m.\u001b[39mpath_to_item: \u001b[38;5;28mset\u001b[39m()}\n\u001b[1;32m    358\u001b[0m path_to_schemas[validation_metadata\u001b[38;5;241m.\u001b[39mpath_to_item]\u001b[38;5;241m.\u001b[39madd(\u001b[38;5;28mcls\u001b[39m)\n",
      "\u001b[0;31mApiTypeError\u001b[0m: Invalid type. Required value type is one of [NoneClass, str] and passed type was Decimal at ['args[0]']['title']"
     ]
    }
   ],
   "source": [
    "def send_in_api():\n",
    "    configuration = openapi_client.Configuration(host=\"http://absrent.ru:8000\")\n",
    "\n",
    "    with openapi_client.ApiClient(configuration) as api_client:\n",
    "        api_instance = history_api.HistoryApi(api_client)\n",
    "        history = History(\n",
    "            pk=1,\n",
    "            title = \"test_mary\",\n",
    "            # title = 3,\n",
    "            \n",
    "            datetime_create=\"1970-01-01T00:00:00.00Z\",\n",
    "        )  # History |  (optional)\n",
    "\n",
    "        try:\n",
    "            api_response = api_instance.history_create(body=history)\n",
    "            pprint(api_response)\n",
    "        except openapi_client.ApiException as e:\n",
    "            print(\"Exception when calling HistoryApi->history_create: %s\\n\" % e)\n",
    "\n",
    "send_in_api()            "
   ]
  },
  {
   "cell_type": "code",
   "execution_count": 2,
   "id": "7b23c193-b05b-4768-98d8-d068cd60e124",
   "metadata": {},
   "outputs": [
    {
     "name": "stdout",
     "output_type": "stream",
     "text": [
      "Help on package openapi_client:\n",
      "\n",
      "NAME\n",
      "    openapi_client - Your Project API\n",
      "\n",
      "DESCRIPTION\n",
      "    Your project description  # noqa: E501\n",
      "    \n",
      "    The version of the OpenAPI document: 1.0.0\n",
      "    Generated by: https://openapi-generator.tech\n",
      "\n",
      "PACKAGE CONTENTS\n",
      "    api_client\n",
      "    apis (package)\n",
      "    configuration\n",
      "    exceptions\n",
      "    model (package)\n",
      "    models (package)\n",
      "    paths (package)\n",
      "    rest\n",
      "    schemas\n",
      "\n",
      "VERSION\n",
      "    1.0.0\n",
      "\n",
      "FILE\n",
      "    /opt/tljh/user/lib/python3.9/site-packages/openapi_client/__init__.py\n",
      "\n",
      "\n"
     ]
    }
   ],
   "source": [
    "help(openapi_client)"
   ]
  },
  {
   "cell_type": "markdown",
   "id": "d8f5d1dd-d887-4779-bfab-7f0ca30db44b",
   "metadata": {},
   "source": []
  },
  {
   "cell_type": "code",
   "execution_count": 2,
   "id": "c9e65f61-bd36-408f-8936-918e9162c408",
   "metadata": {},
   "outputs": [
    {
     "name": "stdout",
     "output_type": "stream",
     "text": [
      "[{'bulding': 1, 'title': '3 – комнатная квартира 139,00м2 3 этаж №7 в корпусе 1', 'rooms': 3, 'floor': 3, 'area': 139, 'price': 37775845, 'url': 'https://cg-tricolor.ru/catalog/flat/8f18b3f8-cd61-e911-a2c5-005056ab5349', 'project': 'Триколор', 'full_address': 'Москва, Проспект Мира, 188Б, к.1-4', 'brand': 'Capital Group', 'brand_url': 'https://capitalgroup.ru/', 'category': 'Новостройки', 'price_sale': 37775845, 'plan': 'https://plans.capitalgroup.ru/TRICOLOR/1korp_1sekciya_3fl_7flat.png', 'apartment_completion_quarter': 4, 'apartment_completion_year': 2015, 'apartment_ceilingheight': 3, 'apartment_floors_total': 58, 'apartment_ppm': 271768.67, 'source_url': None}, {'bulding': 1, 'title': '2 – комнатная квартира 109,00м2 28 этаж №173 в корпусе 1', 'rooms': 2, 'floor': 28, 'area': 109, 'price': None, 'url': 'https://cg-tricolor.ru/catalog/flat/db19b3f8-cd61-e911-a2c5-005056ab5349', 'project': 'Триколор', 'full_address': 'Москва, Проспект Мира, 188Б, к.1-4', 'brand': 'Capital Group', 'brand_url': 'https://capitalgroup.ru/', 'category': 'Новостройки', 'price_sale': None, 'plan': 'https://plans.capitalgroup.ru/TRICOLOR/1korp_1sekciya_28fl_173flat.png', 'apartment_completion_quarter': 4, 'apartment_completion_year': 2015, 'apartment_ceilingheight': 3, 'apartment_floors_total': 58, 'source_url': None}, {'bulding': 1, 'title': '2 – комнатная квартира 109,00м2 31 этаж №193 в корпусе 1', 'rooms': 2, 'floor': 31, 'area': 109, 'price': None, 'url': 'https://cg-tricolor.ru/catalog/flat/031ab3f8-cd61-e911-a2c5-005056ab5349', 'project': 'Триколор', 'full_address': 'Москва, Проспект Мира, 188Б, к.1-4', 'brand': 'Capital Group', 'brand_url': 'https://capitalgroup.ru/', 'category': 'Новостройки', 'price_sale': None, 'plan': 'https://plans.capitalgroup.ru/TRICOLOR/1korp_1sekciya_31fl_193flat.png', 'apartment_completion_quarter': 4, 'apartment_completion_year': 2015, 'apartment_ceilingheight': 3, 'apartment_floors_total': 58, 'source_url': None}, {'bulding': 1, 'title': '2 – комнатная квартира 109,00м2 33 этаж №204 в корпусе 1', 'rooms': 2, 'floor': 33, 'area': 109, 'price': None, 'url': 'https://cg-tricolor.ru/catalog/flat/191ab3f8-cd61-e911-a2c5-005056ab5349', 'project': 'Триколор', 'full_address': 'Москва, Проспект Мира, 188Б, к.1-4', 'brand': 'Capital Group', 'brand_url': 'https://capitalgroup.ru/', 'category': 'Новостройки', 'price_sale': None, 'plan': 'https://plans.capitalgroup.ru/TRICOLOR/1korp_1sekciya_33fl_204flat.png', 'apartment_completion_quarter': 4, 'apartment_completion_year': 2015, 'apartment_ceilingheight': 3, 'apartment_floors_total': 58, 'source_url': None}, {'bulding': 1, 'title': '2 – комнатная квартира 109,00м2 34 этаж №211 в корпусе 1', 'rooms': 2, 'floor': 34, 'area': 109, 'price': None, 'url': 'https://cg-tricolor.ru/catalog/flat/271ab3f8-cd61-e911-a2c5-005056ab5349', 'project': 'Триколор', 'full_address': 'Москва, Проспект Мира, 188Б, к.1-4', 'brand': 'Capital Group', 'brand_url': 'https://capitalgroup.ru/', 'category': 'Новостройки', 'price_sale': None, 'plan': 'https://plans.capitalgroup.ru/TRICOLOR/1korp_1sekciya_34fl_211flat.png', 'apartment_completion_quarter': 4, 'apartment_completion_year': 2015, 'apartment_ceilingheight': 3, 'apartment_floors_total': 58, 'source_url': None}, {'bulding': 1, 'title': '2 – комнатная квартира 109,00м2 37 этаж №232 в корпусе 1', 'rooms': 2, 'floor': 37, 'area': 109, 'price': None, 'url': 'https://cg-tricolor.ru/catalog/flat/511ab3f8-cd61-e911-a2c5-005056ab5349', 'project': 'Триколор', 'full_address': 'Москва, Проспект Мира, 188Б, к.1-4', 'brand': 'Capital Group', 'brand_url': 'https://capitalgroup.ru/', 'category': 'Новостройки', 'price_sale': None, 'plan': 'https://plans.capitalgroup.ru/TRICOLOR/1korp_1sekciya_37fl_232flat.png', 'apartment_completion_quarter': 4, 'apartment_completion_year': 2015, 'apartment_ceilingheight': 3, 'apartment_floors_total': 58, 'source_url': None}, {'bulding': 1, 'title': '2 – комнатная квартира 128,00м2 37 этаж №234 в корпусе 1', 'rooms': 2, 'floor': 37, 'area': 128, 'price': None, 'url': 'https://cg-tricolor.ru/catalog/flat/551ab3f8-cd61-e911-a2c5-005056ab5349', 'project': 'Триколор', 'full_address': 'Москва, Проспект Мира, 188Б, к.1-4', 'brand': 'Capital Group', 'brand_url': 'https://capitalgroup.ru/', 'category': 'Новостройки', 'price_sale': None, 'plan': 'https://plans.capitalgroup.ru/TRICOLOR/1korp_1sekciya_37fl_234flat.png', 'apartment_completion_quarter': 4, 'apartment_completion_year': 2015, 'apartment_ceilingheight': 3, 'apartment_floors_total': 58, 'source_url': None}, {'bulding': 1, 'title': '2 – комнатная квартира 128,00м2 38 этаж №241 в корпусе 1', 'rooms': 2, 'floor': 38, 'area': 128, 'price': None, 'url': 'https://cg-tricolor.ru/catalog/flat/631ab3f8-cd61-e911-a2c5-005056ab5349', 'project': 'Триколор', 'full_address': 'Москва, Проспект Мира, 188Б, к.1-4', 'brand': 'Capital Group', 'brand_url': 'https://capitalgroup.ru/', 'category': 'Новостройки', 'price_sale': None, 'plan': 'https://plans.capitalgroup.ru/TRICOLOR/1korp_1sekciya_38fl_241flat.png', 'apartment_completion_quarter': 4, 'apartment_completion_year': 2015, 'apartment_ceilingheight': 3, 'apartment_floors_total': 58, 'source_url': None}, {'bulding': 1, 'title': '3 – комнатная квартира 143,00м2 39 этаж №245 в корпусе 1', 'rooms': 3, 'floor': 39, 'area': 143, 'price': None, 'url': 'https://cg-tricolor.ru/catalog/flat/6b1ab3f8-cd61-e911-a2c5-005056ab5349', 'project': 'Триколор', 'full_address': 'Москва, Проспект Мира, 188Б, к.1-4', 'brand': 'Capital Group', 'brand_url': 'https://capitalgroup.ru/', 'category': 'Новостройки', 'price_sale': None, 'plan': 'https://plans.capitalgroup.ru/TRICOLOR/1korp_1sekciya_39fl_245flat.png', 'apartment_completion_quarter': 4, 'apartment_completion_year': 2015, 'apartment_ceilingheight': 3, 'apartment_floors_total': 58, 'source_url': None}, {'bulding': 1, 'title': '2 – комнатная квартира 128,00м2 39 этаж №248 в корпусе 1', 'rooms': 2, 'floor': 39, 'area': 128, 'price': None, 'url': 'https://cg-tricolor.ru/catalog/flat/711ab3f8-cd61-e911-a2c5-005056ab5349', 'project': 'Триколор', 'full_address': 'Москва, Проспект Мира, 188Б, к.1-4', 'brand': 'Capital Group', 'brand_url': 'https://capitalgroup.ru/', 'category': 'Новостройки', 'price_sale': None, 'plan': 'https://plans.capitalgroup.ru/TRICOLOR/1korp_1sekciya_39fl_248flat.png', 'apartment_completion_quarter': 4, 'apartment_completion_year': 2015, 'apartment_ceilingheight': 3, 'apartment_floors_total': 58, 'source_url': None}, {'bulding': 1, 'title': '2 – комнатная квартира 109,00м2 40 этаж №253 в корпусе 1', 'rooms': 2, 'floor': 40, 'area': 109, 'price': None, 'url': 'https://cg-tricolor.ru/catalog/flat/7b1ab3f8-cd61-e911-a2c5-005056ab5349', 'project': 'Триколор', 'full_address': 'Москва, Проспект Мира, 188Б, к.1-4', 'brand': 'Capital Group', 'brand_url': 'https://capitalgroup.ru/', 'category': 'Новостройки', 'price_sale': None, 'plan': 'https://plans.capitalgroup.ru/TRICOLOR/1korp_1sekciya_40fl_253flat.png', 'apartment_completion_quarter': 4, 'apartment_completion_year': 2015, 'apartment_ceilingheight': 3, 'apartment_floors_total': 58, 'source_url': None}, {'bulding': 1, 'title': '2 – комнатная квартира 128,00м2 40 этаж №255 в корпусе 1', 'rooms': 2, 'floor': 40, 'area': 128, 'price': None, 'url': 'https://cg-tricolor.ru/catalog/flat/7f1ab3f8-cd61-e911-a2c5-005056ab5349', 'project': 'Триколор', 'full_address': 'Москва, Проспект Мира, 188Б, к.1-4', 'brand': 'Capital Group', 'brand_url': 'https://capitalgroup.ru/', 'category': 'Новостройки', 'price_sale': None, 'plan': 'https://plans.capitalgroup.ru/TRICOLOR/1korp_1sekciya_40fl_255flat.png', 'apartment_completion_quarter': 4, 'apartment_completion_year': 2015, 'apartment_ceilingheight': 3, 'apartment_floors_total': 58, 'source_url': None}, {'bulding': 1, 'title': '2 – комнатная квартира 109,00м2 41 этаж №260 в корпусе 1', 'rooms': 2, 'floor': 41, 'area': 109, 'price': None, 'url': 'https://cg-tricolor.ru/catalog/flat/891ab3f8-cd61-e911-a2c5-005056ab5349', 'project': 'Триколор', 'full_address': 'Москва, Проспект Мира, 188Б, к.1-4', 'brand': 'Capital Group', 'brand_url': 'https://capitalgroup.ru/', 'category': 'Новостройки', 'price_sale': None, 'plan': 'https://plans.capitalgroup.ru/TRICOLOR/1korp_1sekciya_41fl_260flat.png', 'apartment_completion_quarter': 4, 'apartment_completion_year': 2015, 'apartment_ceilingheight': 3, 'apartment_floors_total': 58, 'source_url': None}, {'bulding': 1, 'title': '2 – комнатная квартира 109,00м2 42 этаж №267 в корпусе 1', 'rooms': 2, 'floor': 42, 'area': 109, 'price': None, 'url': 'https://cg-tricolor.ru/catalog/flat/971ab3f8-cd61-e911-a2c5-005056ab5349', 'project': 'Триколор', 'full_address': 'Москва, Проспект Мира, 188Б, к.1-4', 'brand': 'Capital Group', 'brand_url': 'https://capitalgroup.ru/', 'category': 'Новостройки', 'price_sale': None, 'plan': 'https://plans.capitalgroup.ru/TRICOLOR/1korp_1sekciya_42fl_267flat.png', 'apartment_completion_quarter': 4, 'apartment_completion_year': 2015, 'apartment_ceilingheight': 3, 'apartment_floors_total': 58, 'source_url': None}, {'bulding': 1, 'title': '2 – комнатная квартира 109,00м2 46 этаж №295 в корпусе 1', 'rooms': 2, 'floor': 46, 'area': 109, 'price': None, 'url': 'https://cg-tricolor.ru/catalog/flat/cf1ab3f8-cd61-e911-a2c5-005056ab5349', 'project': 'Триколор', 'full_address': 'Москва, Проспект Мира, 188Б, к.1-4', 'brand': 'Capital Group', 'brand_url': 'https://capitalgroup.ru/', 'category': 'Новостройки', 'price_sale': None, 'plan': 'https://plans.capitalgroup.ru/TRICOLOR/1korp_1sekciya_46fl_295flat.png', 'apartment_completion_quarter': 4, 'apartment_completion_year': 2015, 'apartment_ceilingheight': 3, 'apartment_floors_total': 58, 'source_url': None}, {'bulding': 1, 'title': '2 – комнатная квартира 109,00м2 47 этаж №302 в корпусе 1', 'rooms': 2, 'floor': 47, 'area': 109, 'price': None, 'url': 'https://cg-tricolor.ru/catalog/flat/dd1ab3f8-cd61-e911-a2c5-005056ab5349', 'project': 'Триколор', 'full_address': 'Москва, Проспект Мира, 188Б, к.1-4', 'brand': 'Capital Group', 'brand_url': 'https://capitalgroup.ru/', 'category': 'Новостройки', 'price_sale': None, 'plan': 'https://plans.capitalgroup.ru/TRICOLOR/1korp_1sekciya_47fl_302flat.png', 'apartment_completion_quarter': 4, 'apartment_completion_year': 2015, 'apartment_ceilingheight': 3, 'apartment_floors_total': 58, 'source_url': None}, {'bulding': 1, 'title': '2 – комнатная квартира 109,00м2 49 этаж №316 в корпусе 1', 'rooms': 2, 'floor': 49, 'area': 109, 'price': None, 'url': 'https://cg-tricolor.ru/catalog/flat/f91ab3f8-cd61-e911-a2c5-005056ab5349', 'project': 'Триколор', 'full_address': 'Москва, Проспект Мира, 188Б, к.1-4', 'brand': 'Capital Group', 'brand_url': 'https://capitalgroup.ru/', 'category': 'Новостройки', 'price_sale': None, 'plan': 'https://plans.capitalgroup.ru/TRICOLOR/1korp_1sekciya_49fl_316flat.png', 'apartment_completion_quarter': 4, 'apartment_completion_year': 2015, 'apartment_ceilingheight': 3, 'apartment_floors_total': 58, 'source_url': None}, {'bulding': 1, 'title': '2 – комнатная квартира 110,00м2 50 этаж №323 в корпусе 1', 'rooms': 2, 'floor': 50, 'area': 110, 'price': None, 'url': 'https://cg-tricolor.ru/catalog/flat/071bb3f8-cd61-e911-a2c5-005056ab5349', 'project': 'Триколор', 'full_address': 'Москва, Проспект Мира, 188Б, к.1-4', 'brand': 'Capital Group', 'brand_url': 'https://capitalgroup.ru/', 'category': 'Новостройки', 'price_sale': None, 'plan': 'https://plans.capitalgroup.ru/TRICOLOR/1korp_1sekciya_50fl_323flat.png', 'apartment_completion_quarter': 4, 'apartment_completion_year': 2015, 'apartment_ceilingheight': 3, 'apartment_floors_total': 58, 'source_url': None}, {'bulding': 1, 'title': '2 – комнатная квартира 110,00м2 51 этаж №330 в корпусе 1', 'rooms': 2, 'floor': 51, 'area': 110, 'price': None, 'url': 'https://cg-tricolor.ru/catalog/flat/151bb3f8-cd61-e911-a2c5-005056ab5349', 'project': 'Триколор', 'full_address': 'Москва, Проспект Мира, 188Б, к.1-4', 'brand': 'Capital Group', 'brand_url': 'https://capitalgroup.ru/', 'category': 'Новостройки', 'price_sale': None, 'plan': 'https://plans.capitalgroup.ru/TRICOLOR/1korp_1sekciya_51fl_330flat.png', 'apartment_completion_quarter': 4, 'apartment_completion_year': 2015, 'apartment_ceilingheight': 3, 'apartment_floors_total': 58, 'source_url': None}, {'bulding': 1, 'title': '2 – комнатная квартира 109,00м2 51 этаж №334 в корпусе 1', 'rooms': 2, 'floor': 51, 'area': 109, 'price': None, 'url': 'https://cg-tricolor.ru/catalog/flat/1d1bb3f8-cd61-e911-a2c5-005056ab5349', 'project': 'Триколор', 'full_address': 'Москва, Проспект Мира, 188Б, к.1-4', 'brand': 'Capital Group', 'brand_url': 'https://capitalgroup.ru/', 'category': 'Новостройки', 'price_sale': None, 'plan': 'https://plans.capitalgroup.ru/TRICOLOR/1korp_1sekciya_51fl_334flat.png', 'apartment_completion_quarter': 4, 'apartment_completion_year': 2015, 'apartment_ceilingheight': 3, 'apartment_floors_total': 58, 'source_url': None}, {'bulding': 1, 'title': '2 – комнатная квартира 109,00м2 53 этаж №344 в корпусе 1', 'rooms': 2, 'floor': 53, 'area': 109, 'price': None, 'url': 'https://cg-tricolor.ru/catalog/flat/311bb3f8-cd61-e911-a2c5-005056ab5349', 'project': 'Триколор', 'full_address': 'Москва, Проспект Мира, 188Б, к.1-4', 'brand': 'Capital Group', 'brand_url': 'https://capitalgroup.ru/', 'category': 'Новостройки', 'price_sale': None, 'plan': 'https://plans.capitalgroup.ru/TRICOLOR/1korp_1sekciya_53fl_344flat.png', 'apartment_completion_quarter': 4, 'apartment_completion_year': 2015, 'apartment_ceilingheight': 3, 'apartment_floors_total': 58, 'source_url': None}, {'bulding': 1, 'title': '2 – комнатная квартира 109,00м2 53 этаж №348 в корпусе 1', 'rooms': 2, 'floor': 53, 'area': 109, 'price': None, 'url': 'https://cg-tricolor.ru/catalog/flat/391bb3f8-cd61-e911-a2c5-005056ab5349', 'project': 'Триколор', 'full_address': 'Москва, Проспект Мира, 188Б, к.1-4', 'brand': 'Capital Group', 'brand_url': 'https://capitalgroup.ru/', 'category': 'Новостройки', 'price_sale': None, 'plan': 'https://plans.capitalgroup.ru/TRICOLOR/1korp_1sekciya_53fl_348flat.png', 'apartment_completion_quarter': 4, 'apartment_completion_year': 2015, 'apartment_ceilingheight': 3, 'apartment_floors_total': 58, 'source_url': None}, {'bulding': 1, 'title': '2 – комнатная квартира 109,00м2 54 этаж №351 в корпусе 1', 'rooms': 2, 'floor': 54, 'area': 109, 'price': None, 'url': 'https://cg-tricolor.ru/catalog/flat/3f1bb3f8-cd61-e911-a2c5-005056ab5349', 'project': 'Триколор', 'full_address': 'Москва, Проспект Мира, 188Б, к.1-4', 'brand': 'Capital Group', 'brand_url': 'https://capitalgroup.ru/', 'category': 'Новостройки', 'price_sale': None, 'plan': 'https://plans.capitalgroup.ru/TRICOLOR/1korp_1sekciya_54fl_351flat.png', 'apartment_completion_quarter': 4, 'apartment_completion_year': 2015, 'apartment_ceilingheight': 3, 'apartment_floors_total': 58, 'source_url': None}, {'bulding': 1, 'title': '2 – комнатная квартира 109,00м2 55 этаж №358 в корпусе 1', 'rooms': 2, 'floor': 55, 'area': 109, 'price': None, 'url': 'https://cg-tricolor.ru/catalog/flat/4d1bb3f8-cd61-e911-a2c5-005056ab5349', 'project': 'Триколор', 'full_address': 'Москва, Проспект Мира, 188Б, к.1-4', 'brand': 'Capital Group', 'brand_url': 'https://capitalgroup.ru/', 'category': 'Новостройки', 'price_sale': None, 'plan': 'https://plans.capitalgroup.ru/TRICOLOR/1korp_1sekciya_55fl_358flat.png', 'apartment_completion_quarter': 4, 'apartment_completion_year': 2015, 'apartment_ceilingheight': 3, 'apartment_floors_total': 58, 'source_url': None}, {'bulding': 1, 'title': '2 – комнатная квартира 109,00м2 56 этаж №365 в корпусе 1', 'rooms': 2, 'floor': 56, 'area': 109, 'price': None, 'url': 'https://cg-tricolor.ru/catalog/flat/5b1bb3f8-cd61-e911-a2c5-005056ab5349', 'project': 'Триколор', 'full_address': 'Москва, Проспект Мира, 188Б, к.1-4', 'brand': 'Capital Group', 'brand_url': 'https://capitalgroup.ru/', 'category': 'Новостройки', 'price_sale': None, 'plan': 'https://plans.capitalgroup.ru/TRICOLOR/1korp_1sekciya_56fl_365flat.png', 'apartment_completion_quarter': 4, 'apartment_completion_year': 2015, 'apartment_ceilingheight': 3, 'apartment_floors_total': 58, 'source_url': None}, {'bulding': 1, 'title': '2 – комнатная квартира 109,00м2 56 этаж №369 в корпусе 1', 'rooms': 2, 'floor': 56, 'area': 109, 'price': None, 'url': 'https://cg-tricolor.ru/catalog/flat/631bb3f8-cd61-e911-a2c5-005056ab5349', 'project': 'Триколор', 'full_address': 'Москва, Проспект Мира, 188Б, к.1-4', 'brand': 'Capital Group', 'brand_url': 'https://capitalgroup.ru/', 'category': 'Новостройки', 'price_sale': None, 'plan': 'https://plans.capitalgroup.ru/TRICOLOR/1korp_1sekciya_56fl_369flat.png', 'apartment_completion_quarter': 4, 'apartment_completion_year': 2015, 'apartment_ceilingheight': 3, 'apartment_floors_total': 58, 'source_url': None}, {'bulding': 3, 'title': '2 – комнатная квартира 128,00м2 5 этаж №4 в корпусе 3', 'rooms': 2, 'floor': 5, 'area': 128, 'price': None, 'url': 'https://cg-tricolor.ru/catalog/flat/7f1bb3f8-cd61-e911-a2c5-005056ab5349', 'project': 'Триколор', 'full_address': 'Москва, Проспект Мира, 188Б, к.1-4', 'brand': 'Capital Group', 'brand_url': 'https://capitalgroup.ru/', 'category': 'Новостройки', 'price_sale': None, 'plan': 'https://plans.capitalgroup.ru/TRICOLOR/2korp_1sekciya_5fl_4flat.png', 'apartment_completion_quarter': 4, 'apartment_completion_year': 2015, 'apartment_ceilingheight': 3, 'apartment_floors_total': 58, 'source_url': None}, {'bulding': 3, 'title': '2 – комнатная квартира 126,00м2 7 этаж №18 в корпусе 3', 'rooms': 2, 'floor': 7, 'area': 126, 'price': None, 'url': 'https://cg-tricolor.ru/catalog/flat/9b1bb3f8-cd61-e911-a2c5-005056ab5349', 'project': 'Триколор', 'full_address': 'Москва, Проспект Мира, 188Б, к.1-4', 'brand': 'Capital Group', 'brand_url': 'https://capitalgroup.ru/', 'category': 'Новостройки', 'price_sale': None, 'plan': 'https://plans.capitalgroup.ru/TRICOLOR/2korp_1sekciya_5fl_4flat.png', 'apartment_completion_quarter': 4, 'apartment_completion_year': 2015, 'apartment_ceilingheight': 3, 'apartment_floors_total': 58, 'source_url': None}, {'bulding': 3, 'title': '2 – комнатная квартира 108,00м2 45 этаж №278 в корпусе 3', 'rooms': 2, 'floor': 45, 'area': 108, 'price': None, 'url': 'https://cg-tricolor.ru/catalog/flat/a31db3f8-cd61-e911-a2c5-005056ab5349', 'project': 'Триколор', 'full_address': 'Москва, Проспект Мира, 188Б, к.1-4', 'brand': 'Capital Group', 'brand_url': 'https://capitalgroup.ru/', 'category': 'Новостройки', 'price_sale': None, 'plan': 'https://plans.capitalgroup.ru/TRICOLOR/2korp_1sekciya_5fl_6flat.png', 'apartment_completion_quarter': 4, 'apartment_completion_year': 2015, 'apartment_ceilingheight': 3, 'apartment_floors_total': 58, 'source_url': None}, {'bulding': 3, 'title': '3 – комнатная квартира 144,00м2 46 этаж №286 в корпусе 3', 'rooms': 3, 'floor': 46, 'area': 144, 'price': None, 'url': 'https://cg-tricolor.ru/catalog/flat/b31db3f8-cd61-e911-a2c5-005056ab5349', 'project': 'Триколор', 'full_address': 'Москва, Проспект Мира, 188Б, к.1-4', 'brand': 'Capital Group', 'brand_url': 'https://capitalgroup.ru/', 'category': 'Новостройки', 'price_sale': None, 'plan': 'https://plans.capitalgroup.ru/TRICOLOR/2korp_1sekciya_5fl_7flat.png', 'apartment_completion_quarter': 4, 'apartment_completion_year': 2015, 'apartment_ceilingheight': 3, 'apartment_floors_total': 58, 'source_url': None}, {'bulding': 3, 'title': '2 – комнатная квартира 107,00м2 48 этаж №299 в корпусе 3', 'rooms': 2, 'floor': 48, 'area': 107, 'price': None, 'url': 'https://cg-tricolor.ru/catalog/flat/cd1db3f8-cd61-e911-a2c5-005056ab5349', 'project': 'Триколор', 'full_address': 'Москва, Проспект Мира, 188Б, к.1-4', 'brand': 'Capital Group', 'brand_url': 'https://capitalgroup.ru/', 'category': 'Новостройки', 'price_sale': None, 'plan': 'https://plans.capitalgroup.ru/TRICOLOR/2korp_1sekciya_5fl_6flat.png', 'apartment_completion_quarter': 4, 'apartment_completion_year': 2015, 'apartment_ceilingheight': 3, 'apartment_floors_total': 58, 'source_url': None}, {'bulding': 3, 'title': '2 – комнатная квартира 107,00м2 49 этаж №306 в корпусе 3', 'rooms': 2, 'floor': 49, 'area': 107, 'price': None, 'url': 'https://cg-tricolor.ru/catalog/flat/db1db3f8-cd61-e911-a2c5-005056ab5349', 'project': 'Триколор', 'full_address': 'Москва, Проспект Мира, 188Б, к.1-4', 'brand': 'Capital Group', 'brand_url': 'https://capitalgroup.ru/', 'category': 'Новостройки', 'price_sale': None, 'plan': 'https://plans.capitalgroup.ru/TRICOLOR/2korp_1sekciya_5fl_6flat.png', 'apartment_completion_quarter': 4, 'apartment_completion_year': 2015, 'apartment_ceilingheight': 3, 'apartment_floors_total': 58, 'source_url': None}, {'bulding': 3, 'title': '2 – комнатная квартира 107,00м2 50 этаж №313 в корпусе 3', 'rooms': 2, 'floor': 50, 'area': 107, 'price': None, 'url': 'https://cg-tricolor.ru/catalog/flat/e91db3f8-cd61-e911-a2c5-005056ab5349', 'project': 'Триколор', 'full_address': 'Москва, Проспект Мира, 188Б, к.1-4', 'brand': 'Capital Group', 'brand_url': 'https://capitalgroup.ru/', 'category': 'Новостройки', 'price_sale': None, 'plan': 'https://plans.capitalgroup.ru/TRICOLOR/2korp_1sekciya_5fl_6flat.png', 'apartment_completion_quarter': 4, 'apartment_completion_year': 2015, 'apartment_ceilingheight': 3, 'apartment_floors_total': 58, 'source_url': None}, {'bulding': 3, 'title': '2 – комнатная квартира 107,00м2 51 этаж №320 в корпусе 3', 'rooms': 2, 'floor': 51, 'area': 107, 'price': None, 'url': 'https://cg-tricolor.ru/catalog/flat/f71db3f8-cd61-e911-a2c5-005056ab5349', 'project': 'Триколор', 'full_address': 'Москва, Проспект Мира, 188Б, к.1-4', 'brand': 'Capital Group', 'brand_url': 'https://capitalgroup.ru/', 'category': 'Новостройки', 'price_sale': None, 'plan': 'https://plans.capitalgroup.ru/TRICOLOR/2korp_1sekciya_5fl_6flat.png', 'apartment_completion_quarter': 4, 'apartment_completion_year': 2015, 'apartment_ceilingheight': 3, 'apartment_floors_total': 58, 'source_url': None}, {'bulding': 3, 'title': '2 – комнатная квартира 107,00м2 54 этаж №341 в корпусе 3', 'rooms': 2, 'floor': 54, 'area': 107, 'price': None, 'url': 'https://cg-tricolor.ru/catalog/flat/211eb3f8-cd61-e911-a2c5-005056ab5349', 'project': 'Триколор', 'full_address': 'Москва, Проспект Мира, 188Б, к.1-4', 'brand': 'Capital Group', 'brand_url': 'https://capitalgroup.ru/', 'category': 'Новостройки', 'price_sale': None, 'plan': 'https://plans.capitalgroup.ru/TRICOLOR/2korp_1sekciya_5fl_6flat.png', 'apartment_completion_quarter': 4, 'apartment_completion_year': 2015, 'apartment_ceilingheight': 3, 'apartment_floors_total': 58, 'source_url': None}, {'bulding': 4, 'title': '2 – комнатная квартира 97,00м2 23 этаж №401 в корпусе 4', 'rooms': 2, 'floor': 23, 'area': 97, 'price': None, 'url': 'https://cg-tricolor.ru/catalog/flat/6d21b3f8-cd61-e911-a2c5-005056ab5349', 'project': 'Триколор', 'full_address': 'Москва, Проспект Мира, 188Б, к.1-4', 'brand': 'Capital Group', 'brand_url': 'https://capitalgroup.ru/', 'category': 'Новостройки', 'price_sale': None, 'plan': 'https://plans.capitalgroup.ru/TRICOLOR/3korp_2sekciya_6fl_251flat.png', 'apartment_completion_quarter': 4, 'apartment_completion_year': 2015, 'apartment_ceilingheight': 3, 'apartment_floors_total': 38, 'source_url': None}, {'bulding': 4, 'title': '2 – комнатная квартира 134,00м2 34 этаж №803 в корпусе 4', 'rooms': 2, 'floor': 34, 'area': 134, 'price': None, 'url': 'https://cg-tricolor.ru/catalog/flat/9124b3f8-cd61-e911-a2c5-005056ab5349', 'project': 'Триколор', 'full_address': 'Москва, Проспект Мира, 188Б, к.1-4', 'brand': 'Capital Group', 'brand_url': 'https://capitalgroup.ru/', 'category': 'Новостройки', 'price_sale': None, 'plan': 'https://plans.capitalgroup.ru/TRICOLOR/3korp_3sekciya_17fl_651flat.png', 'apartment_completion_quarter': 4, 'apartment_completion_year': 2015, 'apartment_ceilingheight': 3, 'apartment_floors_total': 38, 'source_url': None}, {'bulding': 4, 'title': '2 – комнатная квартира 134,00м2 35 этаж №812 в корпусе 4', 'rooms': 2, 'floor': 35, 'area': 134, 'price': None, 'url': 'https://cg-tricolor.ru/catalog/flat/a324b3f8-cd61-e911-a2c5-005056ab5349', 'project': 'Триколор', 'full_address': 'Москва, Проспект Мира, 188Б, к.1-4', 'brand': 'Capital Group', 'brand_url': 'https://capitalgroup.ru/', 'category': 'Новостройки', 'price_sale': None, 'plan': 'https://plans.capitalgroup.ru/TRICOLOR/3korp_3sekciya_17fl_651flat.png', 'apartment_completion_quarter': 4, 'apartment_completion_year': 2015, 'apartment_ceilingheight': 3, 'apartment_floors_total': 38, 'source_url': None}, {'bulding': 4, 'title': '2 – комнатная квартира 134,00м2 36 этаж №821 в корпусе 4', 'rooms': 2, 'floor': 36, 'area': 134, 'price': None, 'url': 'https://cg-tricolor.ru/catalog/flat/b524b3f8-cd61-e911-a2c5-005056ab5349', 'project': 'Триколор', 'full_address': 'Москва, Проспект Мира, 188Б, к.1-4', 'brand': 'Capital Group', 'brand_url': 'https://capitalgroup.ru/', 'category': 'Новостройки', 'price_sale': None, 'plan': 'https://plans.capitalgroup.ru/TRICOLOR/3korp_3sekciya_17fl_651flat.png', 'apartment_completion_quarter': 4, 'apartment_completion_year': 2015, 'apartment_ceilingheight': 3, 'apartment_floors_total': 38, 'source_url': None}]\n"
     ]
    }
   ],
   "source": [
    "def read_from_flie_tricolor():\n",
    "    text = ''\n",
    "    with open('sources/tricolor','rb') as response:\n",
    "        text = response.read() \n",
    "    return text\n",
    "text = read_from_flie_tricolor()\n",
    "\n",
    "def test_tricolor_parsing_get_title_ffile(read_from_flie_tricolor):\n",
    "    flats_data = TricolorParserFFile(read_from_flie_tricolor)\n",
    "    flats_dict_list = flats_data.get_dict_list()\n",
    "    print(flats_dict_list)\n",
    "    assert not flats_dict_list == []\n",
    "\n",
    "test_tricolor_parsing_get_title_ffile(text)"
   ]
  },
  {
   "cell_type": "code",
   "execution_count": null,
   "id": "f6a46bb4-d048-4bd5-b776-3cbe38e73376",
   "metadata": {},
   "outputs": [],
   "source": []
  }
 ],
 "metadata": {
  "kernelspec": {
   "display_name": "Python 3 (ipykernel)",
   "language": "python",
   "name": "python3"
  },
  "language_info": {
   "codemirror_mode": {
    "name": "ipython",
    "version": 3
   },
   "file_extension": ".py",
   "mimetype": "text/x-python",
   "name": "python",
   "nbconvert_exporter": "python",
   "pygments_lexer": "ipython3",
   "version": "3.9.7"
  }
 },
 "nbformat": 4,
 "nbformat_minor": 5
}
