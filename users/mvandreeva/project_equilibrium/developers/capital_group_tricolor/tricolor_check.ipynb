{
 "cells": [
  {
   "cell_type": "code",
   "execution_count": 1,
   "id": "a23b3039-c47d-4ae7-8b15-a38d8ba81f89",
   "metadata": {},
   "outputs": [],
   "source": [
    "import urllib\n",
    "import urllib.request\n",
    "from bs4 import BeautifulSoup\n",
    "from page_parsing import PagePerser\n",
    "from tricolor_parsing import TricolorParser, TricolorParserFFile"
   ]
  },
  {
   "cell_type": "code",
   "execution_count": 2,
   "id": "b1fb9f26-efde-46ee-bc96-3cb631db7bfb",
   "metadata": {},
   "outputs": [
    {
     "name": "stdout",
     "output_type": "stream",
     "text": [
      "[{'title': '3 – комнатная квартира 139,00м2, 3 этаж, №7 в корпусе 1', 'rooms': 3, 'bulding': 1, 'floor': 3, 'square': 139, 'price': 37775845, 'url': 'https://cg-tricolor.ru/catalog/flat/8f18b3f8-cd61-e911-a2c5-005056ab5349'}, {'title': '2 – комнатная квартира 109,00м2, 28 этаж, №173 в корпусе 1', 'rooms': 2, 'bulding': 1, 'floor': 28, 'square': 109, 'price': None, 'url': 'https://cg-tricolor.ru/catalog/flat/db19b3f8-cd61-e911-a2c5-005056ab5349'}, {'title': '2 – комнатная квартира 109,00м2, 31 этаж, №193 в корпусе 1', 'rooms': 2, 'bulding': 1, 'floor': 31, 'square': 109, 'price': None, 'url': 'https://cg-tricolor.ru/catalog/flat/031ab3f8-cd61-e911-a2c5-005056ab5349'}, {'title': '2 – комнатная квартира 109,00м2, 33 этаж, №204 в корпусе 1', 'rooms': 2, 'bulding': 1, 'floor': 33, 'square': 109, 'price': None, 'url': 'https://cg-tricolor.ru/catalog/flat/191ab3f8-cd61-e911-a2c5-005056ab5349'}, {'title': '2 – комнатная квартира 109,00м2, 34 этаж, №211 в корпусе 1', 'rooms': 2, 'bulding': 1, 'floor': 34, 'square': 109, 'price': None, 'url': 'https://cg-tricolor.ru/catalog/flat/271ab3f8-cd61-e911-a2c5-005056ab5349'}, {'title': '2 – комнатная квартира 109,00м2, 37 этаж, №232 в корпусе 1', 'rooms': 2, 'bulding': 1, 'floor': 37, 'square': 109, 'price': None, 'url': 'https://cg-tricolor.ru/catalog/flat/511ab3f8-cd61-e911-a2c5-005056ab5349'}, {'title': '2 – комнатная квартира 128,00м2, 37 этаж, №234 в корпусе 1', 'rooms': 2, 'bulding': 1, 'floor': 37, 'square': 128, 'price': None, 'url': 'https://cg-tricolor.ru/catalog/flat/551ab3f8-cd61-e911-a2c5-005056ab5349'}, {'title': '2 – комнатная квартира 128,00м2, 38 этаж, №241 в корпусе 1', 'rooms': 2, 'bulding': 1, 'floor': 38, 'square': 128, 'price': None, 'url': 'https://cg-tricolor.ru/catalog/flat/631ab3f8-cd61-e911-a2c5-005056ab5349'}, {'title': '2 – комнатная квартира 109,00м2, 40 этаж, №253 в корпусе 1', 'rooms': 2, 'bulding': 1, 'floor': 40, 'square': 109, 'price': None, 'url': 'https://cg-tricolor.ru/catalog/flat/7b1ab3f8-cd61-e911-a2c5-005056ab5349'}, {'title': '2 – комнатная квартира 109,00м2, 41 этаж, №260 в корпусе 1', 'rooms': 2, 'bulding': 1, 'floor': 41, 'square': 109, 'price': None, 'url': 'https://cg-tricolor.ru/catalog/flat/891ab3f8-cd61-e911-a2c5-005056ab5349'}, {'title': '2 – комнатная квартира 109,00м2, 42 этаж, №267 в корпусе 1', 'rooms': 2, 'bulding': 1, 'floor': 42, 'square': 109, 'price': None, 'url': 'https://cg-tricolor.ru/catalog/flat/971ab3f8-cd61-e911-a2c5-005056ab5349'}, {'title': '2 – комнатная квартира 109,00м2, 46 этаж, №295 в корпусе 1', 'rooms': 2, 'bulding': 1, 'floor': 46, 'square': 109, 'price': None, 'url': 'https://cg-tricolor.ru/catalog/flat/cf1ab3f8-cd61-e911-a2c5-005056ab5349'}, {'title': '2 – комнатная квартира 109,00м2, 47 этаж, №302 в корпусе 1', 'rooms': 2, 'bulding': 1, 'floor': 47, 'square': 109, 'price': None, 'url': 'https://cg-tricolor.ru/catalog/flat/dd1ab3f8-cd61-e911-a2c5-005056ab5349'}, {'title': '2 – комнатная квартира 109,00м2, 49 этаж, №316 в корпусе 1', 'rooms': 2, 'bulding': 1, 'floor': 49, 'square': 109, 'price': None, 'url': 'https://cg-tricolor.ru/catalog/flat/f91ab3f8-cd61-e911-a2c5-005056ab5349'}, {'title': '2 – комнатная квартира 110,00м2, 50 этаж, №323 в корпусе 1', 'rooms': 2, 'bulding': 1, 'floor': 50, 'square': 110, 'price': None, 'url': 'https://cg-tricolor.ru/catalog/flat/071bb3f8-cd61-e911-a2c5-005056ab5349'}, {'title': '2 – комнатная квартира 110,00м2, 51 этаж, №330 в корпусе 1', 'rooms': 2, 'bulding': 1, 'floor': 51, 'square': 110, 'price': None, 'url': 'https://cg-tricolor.ru/catalog/flat/151bb3f8-cd61-e911-a2c5-005056ab5349'}, {'title': '2 – комнатная квартира 109,00м2, 51 этаж, №334 в корпусе 1', 'rooms': 2, 'bulding': 1, 'floor': 51, 'square': 109, 'price': None, 'url': 'https://cg-tricolor.ru/catalog/flat/1d1bb3f8-cd61-e911-a2c5-005056ab5349'}, {'title': '2 – комнатная квартира 109,00м2, 53 этаж, №344 в корпусе 1', 'rooms': 2, 'bulding': 1, 'floor': 53, 'square': 109, 'price': None, 'url': 'https://cg-tricolor.ru/catalog/flat/311bb3f8-cd61-e911-a2c5-005056ab5349'}, {'title': '2 – комнатная квартира 109,00м2, 53 этаж, №348 в корпусе 1', 'rooms': 2, 'bulding': 1, 'floor': 53, 'square': 109, 'price': None, 'url': 'https://cg-tricolor.ru/catalog/flat/391bb3f8-cd61-e911-a2c5-005056ab5349'}, {'title': '2 – комнатная квартира 109,00м2, 54 этаж, №351 в корпусе 1', 'rooms': 2, 'bulding': 1, 'floor': 54, 'square': 109, 'price': None, 'url': 'https://cg-tricolor.ru/catalog/flat/3f1bb3f8-cd61-e911-a2c5-005056ab5349'}, {'title': '2 – комнатная квартира 109,00м2, 55 этаж, №358 в корпусе 1', 'rooms': 2, 'bulding': 1, 'floor': 55, 'square': 109, 'price': None, 'url': 'https://cg-tricolor.ru/catalog/flat/4d1bb3f8-cd61-e911-a2c5-005056ab5349'}, {'title': '2 – комнатная квартира 109,00м2, 56 этаж, №365 в корпусе 1', 'rooms': 2, 'bulding': 1, 'floor': 56, 'square': 109, 'price': None, 'url': 'https://cg-tricolor.ru/catalog/flat/5b1bb3f8-cd61-e911-a2c5-005056ab5349'}, {'title': '2 – комнатная квартира 109,00м2, 56 этаж, №369 в корпусе 1', 'rooms': 2, 'bulding': 1, 'floor': 56, 'square': 109, 'price': None, 'url': 'https://cg-tricolor.ru/catalog/flat/631bb3f8-cd61-e911-a2c5-005056ab5349'}, {'title': '2 – комнатная квартира 128,00м2, 5 этаж, №4 в корпусе 3', 'rooms': 2, 'bulding': 3, 'floor': 5, 'square': 128, 'price': None, 'url': 'https://cg-tricolor.ru/catalog/flat/7f1bb3f8-cd61-e911-a2c5-005056ab5349'}, {'title': '2 – комнатная квартира 126,00м2, 7 этаж, №18 в корпусе 3', 'rooms': 2, 'bulding': 3, 'floor': 7, 'square': 126, 'price': None, 'url': 'https://cg-tricolor.ru/catalog/flat/9b1bb3f8-cd61-e911-a2c5-005056ab5349'}, {'title': '2 – комнатная квартира 108,00м2, 45 этаж, №278 в корпусе 3', 'rooms': 2, 'bulding': 3, 'floor': 45, 'square': 108, 'price': None, 'url': 'https://cg-tricolor.ru/catalog/flat/a31db3f8-cd61-e911-a2c5-005056ab5349'}, {'title': '2 – комнатная квартира 107,00м2, 49 этаж, №306 в корпусе 3', 'rooms': 2, 'bulding': 3, 'floor': 49, 'square': 107, 'price': None, 'url': 'https://cg-tricolor.ru/catalog/flat/db1db3f8-cd61-e911-a2c5-005056ab5349'}, {'title': '2 – комнатная квартира 107,00м2, 50 этаж, №313 в корпусе 3', 'rooms': 2, 'bulding': 3, 'floor': 50, 'square': 107, 'price': None, 'url': 'https://cg-tricolor.ru/catalog/flat/e91db3f8-cd61-e911-a2c5-005056ab5349'}, {'title': '2 – комнатная квартира 107,00м2, 51 этаж, №320 в корпусе 3', 'rooms': 2, 'bulding': 3, 'floor': 51, 'square': 107, 'price': None, 'url': 'https://cg-tricolor.ru/catalog/flat/f71db3f8-cd61-e911-a2c5-005056ab5349'}, {'title': '2 – комнатная квартира 107,00м2, 54 этаж, №341 в корпусе 3', 'rooms': 2, 'bulding': 3, 'floor': 54, 'square': 107, 'price': None, 'url': 'https://cg-tricolor.ru/catalog/flat/211eb3f8-cd61-e911-a2c5-005056ab5349'}, {'title': '2 – комнатная квартира 97,00м2, 23 этаж, №401 в корпусе 4', 'rooms': 2, 'bulding': 4, 'floor': 23, 'square': 97, 'price': None, 'url': 'https://cg-tricolor.ru/catalog/flat/6d21b3f8-cd61-e911-a2c5-005056ab5349'}, {'title': '2 – комнатная квартира 134,00м2, 34 этаж, №803 в корпусе 4', 'rooms': 2, 'bulding': 4, 'floor': 34, 'square': 134, 'price': None, 'url': 'https://cg-tricolor.ru/catalog/flat/9124b3f8-cd61-e911-a2c5-005056ab5349'}, {'title': '2 – комнатная квартира 134,00м2, 35 этаж, №812 в корпусе 4', 'rooms': 2, 'bulding': 4, 'floor': 35, 'square': 134, 'price': None, 'url': 'https://cg-tricolor.ru/catalog/flat/a324b3f8-cd61-e911-a2c5-005056ab5349'}, {'title': '2 – комнатная квартира 134,00м2, 36 этаж, №821 в корпусе 4', 'rooms': 2, 'bulding': 4, 'floor': 36, 'square': 134, 'price': None, 'url': 'https://cg-tricolor.ru/catalog/flat/b524b3f8-cd61-e911-a2c5-005056ab5349'}]\n"
     ]
    }
   ],
   "source": [
    "def test_tricolor_parsing_get_title():\n",
    "    flats_data = TricolorParser(\"https://cg-tricolor.ru/catalog/flats\")\n",
    "    flats_dict_list = flats_data.get_dict_list()\n",
    "    print(flats_dict_list)\n",
    "    assert not flats_dict_list == []\n",
    "\n",
    "test_tricolor_parsing_get_title()"
   ]
  },
  {
   "cell_type": "code",
   "execution_count": 2,
   "id": "c9e65f61-bd36-408f-8936-918e9162c408",
   "metadata": {},
   "outputs": [
    {
     "name": "stdout",
     "output_type": "stream",
     "text": [
      "Error url = https://cg-tricolor.ru/catalog/flat/6b1ab3f8-cd61-e911-a2c5-005056ab5349\n",
      "Error url = https://cg-tricolor.ru/catalog/flat/711ab3f8-cd61-e911-a2c5-005056ab5349\n",
      "Error url = https://cg-tricolor.ru/catalog/flat/7f1ab3f8-cd61-e911-a2c5-005056ab5349\n",
      "Error url = https://cg-tricolor.ru/catalog/flat/b31db3f8-cd61-e911-a2c5-005056ab5349\n",
      "Error url = https://cg-tricolor.ru/catalog/flat/cd1db3f8-cd61-e911-a2c5-005056ab5349\n",
      "[{'title': '3 – комнатная квартира 139,00м2, 3 этаж, №7 в корпусе 1', 'rooms': 3, 'bulding': 1, 'floor': 3, 'square': 139, 'price': 37775845}, {'title': '2 – комнатная квартира 109,00м2, 28 этаж, №173 в корпусе 1', 'rooms': 2, 'bulding': 1, 'floor': 28, 'square': 109, 'price': None}, {'title': '2 – комнатная квартира 109,00м2, 31 этаж, №193 в корпусе 1', 'rooms': 2, 'bulding': 1, 'floor': 31, 'square': 109, 'price': None}, {'title': '2 – комнатная квартира 109,00м2, 33 этаж, №204 в корпусе 1', 'rooms': 2, 'bulding': 1, 'floor': 33, 'square': 109, 'price': None}, {'title': '2 – комнатная квартира 109,00м2, 34 этаж, №211 в корпусе 1', 'rooms': 2, 'bulding': 1, 'floor': 34, 'square': 109, 'price': None}, {'title': '2 – комнатная квартира 109,00м2, 37 этаж, №232 в корпусе 1', 'rooms': 2, 'bulding': 1, 'floor': 37, 'square': 109, 'price': None}, {'title': '2 – комнатная квартира 128,00м2, 37 этаж, №234 в корпусе 1', 'rooms': 2, 'bulding': 1, 'floor': 37, 'square': 128, 'price': None}, {'title': '2 – комнатная квартира 128,00м2, 38 этаж, №241 в корпусе 1', 'rooms': 2, 'bulding': 1, 'floor': 38, 'square': 128, 'price': None}, {'title': None, 'rooms': None, 'bulding': 1, 'floor': 39, 'square': 143, 'price': None}, {'title': None, 'rooms': None, 'bulding': 1, 'floor': 39, 'square': 128, 'price': None}, {'title': '2 – комнатная квартира 109,00м2, 40 этаж, №253 в корпусе 1', 'rooms': 2, 'bulding': 1, 'floor': 40, 'square': 109, 'price': None}, {'title': None, 'rooms': None, 'bulding': 1, 'floor': 40, 'square': 128, 'price': None}, {'title': '2 – комнатная квартира 109,00м2, 41 этаж, №260 в корпусе 1', 'rooms': 2, 'bulding': 1, 'floor': 41, 'square': 109, 'price': None}, {'title': '2 – комнатная квартира 109,00м2, 42 этаж, №267 в корпусе 1', 'rooms': 2, 'bulding': 1, 'floor': 42, 'square': 109, 'price': None}, {'title': '2 – комнатная квартира 109,00м2, 46 этаж, №295 в корпусе 1', 'rooms': 2, 'bulding': 1, 'floor': 46, 'square': 109, 'price': None}, {'title': '2 – комнатная квартира 109,00м2, 47 этаж, №302 в корпусе 1', 'rooms': 2, 'bulding': 1, 'floor': 47, 'square': 109, 'price': None}, {'title': '2 – комнатная квартира 109,00м2, 49 этаж, №316 в корпусе 1', 'rooms': 2, 'bulding': 1, 'floor': 49, 'square': 109, 'price': None}, {'title': '2 – комнатная квартира 110,00м2, 50 этаж, №323 в корпусе 1', 'rooms': 2, 'bulding': 1, 'floor': 50, 'square': 110, 'price': None}, {'title': '2 – комнатная квартира 110,00м2, 51 этаж, №330 в корпусе 1', 'rooms': 2, 'bulding': 1, 'floor': 51, 'square': 110, 'price': None}, {'title': '2 – комнатная квартира 109,00м2, 51 этаж, №334 в корпусе 1', 'rooms': 2, 'bulding': 1, 'floor': 51, 'square': 109, 'price': None}, {'title': '2 – комнатная квартира 109,00м2, 53 этаж, №344 в корпусе 1', 'rooms': 2, 'bulding': 1, 'floor': 53, 'square': 109, 'price': None}, {'title': '2 – комнатная квартира 109,00м2, 53 этаж, №348 в корпусе 1', 'rooms': 2, 'bulding': 1, 'floor': 53, 'square': 109, 'price': None}, {'title': '2 – комнатная квартира 109,00м2, 54 этаж, №351 в корпусе 1', 'rooms': 2, 'bulding': 1, 'floor': 54, 'square': 109, 'price': None}, {'title': '2 – комнатная квартира 109,00м2, 55 этаж, №358 в корпусе 1', 'rooms': 2, 'bulding': 1, 'floor': 55, 'square': 109, 'price': None}, {'title': '2 – комнатная квартира 109,00м2, 56 этаж, №365 в корпусе 1', 'rooms': 2, 'bulding': 1, 'floor': 56, 'square': 109, 'price': None}, {'title': '2 – комнатная квартира 109,00м2, 56 этаж, №369 в корпусе 1', 'rooms': 2, 'bulding': 1, 'floor': 56, 'square': 109, 'price': None}, {'title': '2 – комнатная квартира 128,00м2, 5 этаж, №4 в корпусе 3', 'rooms': 2, 'bulding': 3, 'floor': 5, 'square': 128, 'price': None}, {'title': '2 – комнатная квартира 126,00м2, 7 этаж, №18 в корпусе 3', 'rooms': 2, 'bulding': 3, 'floor': 7, 'square': 126, 'price': None}, {'title': '2 – комнатная квартира 108,00м2, 45 этаж, №278 в корпусе 3', 'rooms': 2, 'bulding': 3, 'floor': 45, 'square': 108, 'price': None}, {'title': None, 'rooms': None, 'bulding': 3, 'floor': 46, 'square': 144, 'price': None}, {'title': None, 'rooms': None, 'bulding': 3, 'floor': 48, 'square': 107, 'price': None}, {'title': '2 – комнатная квартира 107,00м2, 49 этаж, №306 в корпусе 3', 'rooms': 2, 'bulding': 3, 'floor': 49, 'square': 107, 'price': None}, {'title': '2 – комнатная квартира 107,00м2, 50 этаж, №313 в корпусе 3', 'rooms': 2, 'bulding': 3, 'floor': 50, 'square': 107, 'price': None}, {'title': '2 – комнатная квартира 107,00м2, 51 этаж, №320 в корпусе 3', 'rooms': 2, 'bulding': 3, 'floor': 51, 'square': 107, 'price': None}, {'title': '2 – комнатная квартира 107,00м2, 54 этаж, №341 в корпусе 3', 'rooms': 2, 'bulding': 3, 'floor': 54, 'square': 107, 'price': None}, {'title': '2 – комнатная квартира 97,00м2, 23 этаж, №401 в корпусе 4', 'rooms': 2, 'bulding': 4, 'floor': 23, 'square': 97, 'price': None}, {'title': '2 – комнатная квартира 134,00м2, 34 этаж, №803 в корпусе 4', 'rooms': 2, 'bulding': 4, 'floor': 34, 'square': 134, 'price': None}, {'title': '2 – комнатная квартира 134,00м2, 35 этаж, №812 в корпусе 4', 'rooms': 2, 'bulding': 4, 'floor': 35, 'square': 134, 'price': None}, {'title': '2 – комнатная квартира 134,00м2, 36 этаж, №821 в корпусе 4', 'rooms': 2, 'bulding': 4, 'floor': 36, 'square': 134, 'price': None}]\n"
     ]
    }
   ],
   "source": [
    "def read_from_flie_tricolor():\n",
    "    text = ''\n",
    "    with open('sources/tricolor','rb') as response:\n",
    "        text = response.read() \n",
    "    return text\n",
    "text = read_from_flie_tricolor()\n",
    "\n",
    "def test_tricolor_parsing_get_title_ffile(read_from_flie_tricolor):\n",
    "    flats_data = TricolorParserFFile(read_from_flie_tricolor)\n",
    "    flats_dict_list = flats_data.get_dict_list()\n",
    "    print(flats_dict_list)\n",
    "    assert not flats_dict_list == []\n",
    "\n",
    "test_tricolor_parsing_get_title_ffile(text)"
   ]
  },
  {
   "cell_type": "code",
   "execution_count": null,
   "id": "f6a46bb4-d048-4bd5-b776-3cbe38e73376",
   "metadata": {},
   "outputs": [],
   "source": []
  }
 ],
 "metadata": {
  "kernelspec": {
   "display_name": "Python 3 (ipykernel)",
   "language": "python",
   "name": "python3"
  },
  "language_info": {
   "codemirror_mode": {
    "name": "ipython",
    "version": 3
   },
   "file_extension": ".py",
   "mimetype": "text/x-python",
   "name": "python",
   "nbconvert_exporter": "python",
   "pygments_lexer": "ipython3",
   "version": "3.9.7"
  }
 },
 "nbformat": 4,
 "nbformat_minor": 5
}
