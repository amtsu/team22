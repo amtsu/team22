{
 "cells": [
  {
   "cell_type": "code",
   "execution_count": 1,
   "id": "d02cf89c-342d-4048-89c8-d4aafc184ccd",
   "metadata": {},
   "outputs": [],
   "source": [
    "import urllib\n",
    "import urllib.request\n",
    "from bs4 import BeautifulSoup\n",
    "\n",
    "#from developers/pik_parser import PagePerser, PIKParsing"
   ]
  },
  {
   "cell_type": "code",
   "execution_count": 4,
   "id": "c91393d6-f5be-48e8-9e92-061d29469454",
   "metadata": {},
   "outputs": [
    {
     "name": "stderr",
     "output_type": "stream",
     "text": [
      "IOPub data rate exceeded.\n",
      "The notebook server will temporarily stop sending output\n",
      "to the client in order to avoid crashing it.\n",
      "To change this limit, set the config variable\n",
      "`--NotebookApp.iopub_data_rate_limit`.\n",
      "\n",
      "Current values:\n",
      "NotebookApp.iopub_data_rate_limit=1000000.0 (bytes/sec)\n",
      "NotebookApp.rate_limit_window=3.0 (secs)\n",
      "\n"
     ]
    }
   ],
   "source": [
    "# ПИК \n",
    "url_check = \"https://www.pik.ru/search\"\n",
    "with urllib.request.urlopen(url_check) as page:\n",
    "    page_text = page.read()\n",
    "print(page_text)\n",
    "b_soup = BeautifulSoup(page_text, features=\"html.parser\")\n",
    "items_list = b_soup.findAll(\"a\", class_ = \"styles__FlatCardRow-izq3tk-0 bncElg\")\n",
    "#print(items_list) \n",
    "for item in items_list:\n",
    "    #item_dict = {}\n",
    "    title_data = item.findAll(\"div\", class_ = \"styles__RoomsArea-m4iiyq-1 mKsPL\")\n",
    "    #print(title_data)\n",
    "    title = title_data[0].text\n",
    "    #print(title)"
   ]
  },
  {
   "cell_type": "code",
   "execution_count": 7,
   "id": "3c2e22da-9c8c-40e7-9a71-f137cdd88d34",
   "metadata": {},
   "outputs": [
    {
     "name": "stdout",
     "output_type": "stream",
     "text": [
      "[]\n",
      "[<p>City Tower</p>]\n",
      "[<p>City Tower</p>]\n",
      "[<p>River Tower</p>]\n",
      "[<p>City Tower</p>]\n",
      "[<p>Park Tower</p>]\n",
      "[<p>River Tower</p>]\n",
      "[<p>Park Tower</p>]\n",
      "[<p>City Tower</p>]\n",
      "[<p>Park Tower</p>]\n",
      "[<p>City Tower</p>]\n",
      "[<p>River Tower</p>]\n",
      "[<p>City Tower</p>]\n",
      "[<p>River Tower</p>]\n",
      "[<p>City Tower</p>]\n",
      "[<p>City Tower</p>]\n",
      "[<p>City Tower</p>]\n",
      "[<p>City Tower</p>]\n",
      "[<p>City Tower</p>]\n",
      "[<p>River Tower</p>]\n",
      "[<p>City Tower</p>]\n"
     ]
    }
   ],
   "source": [
    "# CapitalGroup \n",
    "# Проект CapitalTowers\n",
    "url_check = \"https://capitaltowers.ru/catalog/flats/?FLOOR_min=6&FLOOR_max=66&AREA_min=46&AREA_max=208#\"\n",
    "with urllib.request.urlopen(url_check) as page:\n",
    "    page_text = page.read()\n",
    "#print(page_text)\n",
    "b_soup = BeautifulSoup(page_text, features=\"html.parser\")\n",
    "items_list = b_soup.findAll(\"div\", class_ = \"calculator__flat-row\")\n",
    "#print(items_list)\n",
    "# if not items_list == []: # ввела проверку, чтоб парсер не пытался скачать пустые траницы (чтоб жестко не привязываться к числу страниц раздела) \n",
    "for item in items_list:\n",
    "    #item_dict = {}\n",
    "    tower_data = item.findAll(\"div\", class_ = \"calculator__flat-tower\")\n",
    "    for tower_name_data in tower_data:\n",
    "        tower_name = tower_name_data.findAll(\"p\")\n",
    "        print(tower_name)"
   ]
  },
  {
   "cell_type": "code",
   "execution_count": 2,
   "id": "34893ea3-1ae9-425e-a98a-680c37ed475c",
   "metadata": {},
   "outputs": [
    {
     "ename": "HTTPError",
     "evalue": "HTTP Error 403: Forbidden",
     "output_type": "error",
     "traceback": [
      "\u001b[0;31m---------------------------------------------------------------------------\u001b[0m",
      "\u001b[0;31mHTTPError\u001b[0m                                 Traceback (most recent call last)",
      "Cell \u001b[0;32mIn [2], line 3\u001b[0m\n\u001b[1;32m      1\u001b[0m \u001b[38;5;66;03m# Донстрой\u001b[39;00m\n\u001b[1;32m      2\u001b[0m url_donstroy \u001b[38;5;241m=\u001b[39m \u001b[38;5;124m\"\u001b[39m\u001b[38;5;124mhttps://donstroy.moscow/full-search?params=\u001b[39m\u001b[38;5;124m%\u001b[39m\u001b[38;5;124m7B\u001b[39m\u001b[38;5;132;01m%22f\u001b[39;00m\u001b[38;5;124m%\u001b[39m\u001b[38;5;124m22:\u001b[39m\u001b[38;5;124m%\u001b[39m\u001b[38;5;124m7B\u001b[39m\u001b[38;5;124m%\u001b[39m\u001b[38;5;124m22min\u001b[39m\u001b[38;5;124m%\u001b[39m\u001b[38;5;124m22:1,\u001b[39m\u001b[38;5;124m%\u001b[39m\u001b[38;5;124m22max\u001b[39m\u001b[38;5;124m%\u001b[39m\u001b[38;5;124m22:52\u001b[39m\u001b[38;5;124m%\u001b[39m\u001b[38;5;124m7D,\u001b[39m\u001b[38;5;124m%\u001b[39m\u001b[38;5;124m22tc\u001b[39m\u001b[38;5;124m%\u001b[39m\u001b[38;5;124m22:\u001b[39m\u001b[38;5;124m%\u001b[39m\u001b[38;5;124m7B\u001b[39m\u001b[38;5;124m%\u001b[39m\u001b[38;5;124m22min\u001b[39m\u001b[38;5;124m%\u001b[39m\u001b[38;5;124m22:9500000,\u001b[39m\u001b[38;5;124m%\u001b[39m\u001b[38;5;124m22max\u001b[39m\u001b[38;5;124m%\u001b[39m\u001b[38;5;124m22:466000000\u001b[39m\u001b[38;5;124m%\u001b[39m\u001b[38;5;124m7D,\u001b[39m\u001b[38;5;132;01m%22s\u001b[39;00m\u001b[38;5;124mort\u001b[39m\u001b[38;5;124m%\u001b[39m\u001b[38;5;124m22:\u001b[39m\u001b[38;5;124m%\u001b[39m\u001b[38;5;124m22tc\u001b[39m\u001b[38;5;124m%\u001b[39m\u001b[38;5;124m22,\u001b[39m\u001b[38;5;132;01m%22r\u001b[39;00m\u001b[38;5;124meversed\u001b[39m\u001b[38;5;124m%\u001b[39m\u001b[38;5;124m22:false\u001b[39m\u001b[38;5;124m%\u001b[39m\u001b[38;5;124m7D\u001b[39m\u001b[38;5;124m\"\u001b[39m\n\u001b[0;32m----> 3\u001b[0m \u001b[38;5;28;01mwith\u001b[39;00m \u001b[43murllib\u001b[49m\u001b[38;5;241;43m.\u001b[39;49m\u001b[43mrequest\u001b[49m\u001b[38;5;241;43m.\u001b[39;49m\u001b[43murlopen\u001b[49m\u001b[43m(\u001b[49m\u001b[43murl_donstroy\u001b[49m\u001b[43m)\u001b[49m \u001b[38;5;28;01mas\u001b[39;00m page:\n\u001b[1;32m      4\u001b[0m     page_text \u001b[38;5;241m=\u001b[39m page\u001b[38;5;241m.\u001b[39mread()\n\u001b[1;32m      5\u001b[0m \u001b[38;5;28mprint\u001b[39m(page_text)\n",
      "File \u001b[0;32m/opt/tljh/user/lib/python3.9/urllib/request.py:214\u001b[0m, in \u001b[0;36murlopen\u001b[0;34m(url, data, timeout, cafile, capath, cadefault, context)\u001b[0m\n\u001b[1;32m    212\u001b[0m \u001b[38;5;28;01melse\u001b[39;00m:\n\u001b[1;32m    213\u001b[0m     opener \u001b[38;5;241m=\u001b[39m _opener\n\u001b[0;32m--> 214\u001b[0m \u001b[38;5;28;01mreturn\u001b[39;00m \u001b[43mopener\u001b[49m\u001b[38;5;241;43m.\u001b[39;49m\u001b[43mopen\u001b[49m\u001b[43m(\u001b[49m\u001b[43murl\u001b[49m\u001b[43m,\u001b[49m\u001b[43m \u001b[49m\u001b[43mdata\u001b[49m\u001b[43m,\u001b[49m\u001b[43m \u001b[49m\u001b[43mtimeout\u001b[49m\u001b[43m)\u001b[49m\n",
      "File \u001b[0;32m/opt/tljh/user/lib/python3.9/urllib/request.py:523\u001b[0m, in \u001b[0;36mOpenerDirector.open\u001b[0;34m(self, fullurl, data, timeout)\u001b[0m\n\u001b[1;32m    521\u001b[0m \u001b[38;5;28;01mfor\u001b[39;00m processor \u001b[38;5;129;01min\u001b[39;00m \u001b[38;5;28mself\u001b[39m\u001b[38;5;241m.\u001b[39mprocess_response\u001b[38;5;241m.\u001b[39mget(protocol, []):\n\u001b[1;32m    522\u001b[0m     meth \u001b[38;5;241m=\u001b[39m \u001b[38;5;28mgetattr\u001b[39m(processor, meth_name)\n\u001b[0;32m--> 523\u001b[0m     response \u001b[38;5;241m=\u001b[39m \u001b[43mmeth\u001b[49m\u001b[43m(\u001b[49m\u001b[43mreq\u001b[49m\u001b[43m,\u001b[49m\u001b[43m \u001b[49m\u001b[43mresponse\u001b[49m\u001b[43m)\u001b[49m\n\u001b[1;32m    525\u001b[0m \u001b[38;5;28;01mreturn\u001b[39;00m response\n",
      "File \u001b[0;32m/opt/tljh/user/lib/python3.9/urllib/request.py:632\u001b[0m, in \u001b[0;36mHTTPErrorProcessor.http_response\u001b[0;34m(self, request, response)\u001b[0m\n\u001b[1;32m    629\u001b[0m \u001b[38;5;66;03m# According to RFC 2616, \"2xx\" code indicates that the client's\u001b[39;00m\n\u001b[1;32m    630\u001b[0m \u001b[38;5;66;03m# request was successfully received, understood, and accepted.\u001b[39;00m\n\u001b[1;32m    631\u001b[0m \u001b[38;5;28;01mif\u001b[39;00m \u001b[38;5;129;01mnot\u001b[39;00m (\u001b[38;5;241m200\u001b[39m \u001b[38;5;241m<\u001b[39m\u001b[38;5;241m=\u001b[39m code \u001b[38;5;241m<\u001b[39m \u001b[38;5;241m300\u001b[39m):\n\u001b[0;32m--> 632\u001b[0m     response \u001b[38;5;241m=\u001b[39m \u001b[38;5;28;43mself\u001b[39;49m\u001b[38;5;241;43m.\u001b[39;49m\u001b[43mparent\u001b[49m\u001b[38;5;241;43m.\u001b[39;49m\u001b[43merror\u001b[49m\u001b[43m(\u001b[49m\n\u001b[1;32m    633\u001b[0m \u001b[43m        \u001b[49m\u001b[38;5;124;43m'\u001b[39;49m\u001b[38;5;124;43mhttp\u001b[39;49m\u001b[38;5;124;43m'\u001b[39;49m\u001b[43m,\u001b[49m\u001b[43m \u001b[49m\u001b[43mrequest\u001b[49m\u001b[43m,\u001b[49m\u001b[43m \u001b[49m\u001b[43mresponse\u001b[49m\u001b[43m,\u001b[49m\u001b[43m \u001b[49m\u001b[43mcode\u001b[49m\u001b[43m,\u001b[49m\u001b[43m \u001b[49m\u001b[43mmsg\u001b[49m\u001b[43m,\u001b[49m\u001b[43m \u001b[49m\u001b[43mhdrs\u001b[49m\u001b[43m)\u001b[49m\n\u001b[1;32m    635\u001b[0m \u001b[38;5;28;01mreturn\u001b[39;00m response\n",
      "File \u001b[0;32m/opt/tljh/user/lib/python3.9/urllib/request.py:561\u001b[0m, in \u001b[0;36mOpenerDirector.error\u001b[0;34m(self, proto, *args)\u001b[0m\n\u001b[1;32m    559\u001b[0m \u001b[38;5;28;01mif\u001b[39;00m http_err:\n\u001b[1;32m    560\u001b[0m     args \u001b[38;5;241m=\u001b[39m (\u001b[38;5;28mdict\u001b[39m, \u001b[38;5;124m'\u001b[39m\u001b[38;5;124mdefault\u001b[39m\u001b[38;5;124m'\u001b[39m, \u001b[38;5;124m'\u001b[39m\u001b[38;5;124mhttp_error_default\u001b[39m\u001b[38;5;124m'\u001b[39m) \u001b[38;5;241m+\u001b[39m orig_args\n\u001b[0;32m--> 561\u001b[0m     \u001b[38;5;28;01mreturn\u001b[39;00m \u001b[38;5;28;43mself\u001b[39;49m\u001b[38;5;241;43m.\u001b[39;49m\u001b[43m_call_chain\u001b[49m\u001b[43m(\u001b[49m\u001b[38;5;241;43m*\u001b[39;49m\u001b[43margs\u001b[49m\u001b[43m)\u001b[49m\n",
      "File \u001b[0;32m/opt/tljh/user/lib/python3.9/urllib/request.py:494\u001b[0m, in \u001b[0;36mOpenerDirector._call_chain\u001b[0;34m(self, chain, kind, meth_name, *args)\u001b[0m\n\u001b[1;32m    492\u001b[0m \u001b[38;5;28;01mfor\u001b[39;00m handler \u001b[38;5;129;01min\u001b[39;00m handlers:\n\u001b[1;32m    493\u001b[0m     func \u001b[38;5;241m=\u001b[39m \u001b[38;5;28mgetattr\u001b[39m(handler, meth_name)\n\u001b[0;32m--> 494\u001b[0m     result \u001b[38;5;241m=\u001b[39m \u001b[43mfunc\u001b[49m\u001b[43m(\u001b[49m\u001b[38;5;241;43m*\u001b[39;49m\u001b[43margs\u001b[49m\u001b[43m)\u001b[49m\n\u001b[1;32m    495\u001b[0m     \u001b[38;5;28;01mif\u001b[39;00m result \u001b[38;5;129;01mis\u001b[39;00m \u001b[38;5;129;01mnot\u001b[39;00m \u001b[38;5;28;01mNone\u001b[39;00m:\n\u001b[1;32m    496\u001b[0m         \u001b[38;5;28;01mreturn\u001b[39;00m result\n",
      "File \u001b[0;32m/opt/tljh/user/lib/python3.9/urllib/request.py:641\u001b[0m, in \u001b[0;36mHTTPDefaultErrorHandler.http_error_default\u001b[0;34m(self, req, fp, code, msg, hdrs)\u001b[0m\n\u001b[1;32m    640\u001b[0m \u001b[38;5;28;01mdef\u001b[39;00m \u001b[38;5;21mhttp_error_default\u001b[39m(\u001b[38;5;28mself\u001b[39m, req, fp, code, msg, hdrs):\n\u001b[0;32m--> 641\u001b[0m     \u001b[38;5;28;01mraise\u001b[39;00m HTTPError(req\u001b[38;5;241m.\u001b[39mfull_url, code, msg, hdrs, fp)\n",
      "\u001b[0;31mHTTPError\u001b[0m: HTTP Error 403: Forbidden"
     ]
    }
   ],
   "source": [
    "# Донстрой\n",
    "url_donstroy = \"https://donstroy.moscow/full-search?params=%7B%22f%22:%7B%22min%22:1,%22max%22:52%7D,%22tc%22:%7B%22min%22:9500000,%22max%22:466000000%7D,%22sort%22:%22tc%22,%22reversed%22:false%7D\"\n",
    "with urllib.request.urlopen(url_donstroy) as page:\n",
    "    page_text = page.read()\n",
    "print(page_text)"
   ]
  },
  {
   "cell_type": "code",
   "execution_count": null,
   "id": "148c5370-ba8f-4de7-bbb6-98b116554884",
   "metadata": {},
   "outputs": [],
   "source": []
  }
 ],
 "metadata": {
  "kernelspec": {
   "display_name": "Python 3 (ipykernel)",
   "language": "python",
   "name": "python3"
  },
  "language_info": {
   "codemirror_mode": {
    "name": "ipython",
    "version": 3
   },
   "file_extension": ".py",
   "mimetype": "text/x-python",
   "name": "python",
   "nbconvert_exporter": "python",
   "pygments_lexer": "ipython3",
   "version": "3.9.7"
  }
 },
 "nbformat": 4,
 "nbformat_minor": 5
}
