{
 "cells": [
  {
   "cell_type": "code",
   "execution_count": 1,
   "metadata": {},
   "outputs": [],
   "source": [
    "from deals import Deal"
   ]
  },
  {
   "cell_type": "code",
   "execution_count": 2,
   "metadata": {},
   "outputs": [],
   "source": [
    "from deals import DealList"
   ]
  },
  {
   "cell_type": "code",
   "execution_count": 3,
   "metadata": {},
   "outputs": [],
   "source": [
    "my_deal_list = DealList(Deal(0, 0, 0))"
   ]
  },
  {
   "cell_type": "code",
   "execution_count": 4,
   "metadata": {},
   "outputs": [
    {
     "name": "stdout",
     "output_type": "stream",
     "text": [
      "0 => 0 => 0\n",
      "\n"
     ]
    }
   ],
   "source": [
    "print my_deal_list"
   ]
  },
  {
   "cell_type": "code",
   "execution_count": 5,
   "metadata": {},
   "outputs": [
    {
     "name": "stdout",
     "output_type": "stream",
     "text": [
      "child to kindergarden => 30-08-2022 => 28-09-2022\n",
      "watch film => 30-08-2022 => 30-08-2022\n",
      "call friend => 30-08-2022 => 30-08-2022\n",
      "walk with children => 01-09-2022 => 01-09-2022\n",
      "buy products => 01-09-2022 => 29-08-2022\n",
      "cook meals => 01-09-2022 => 01-09-2022\n",
      "walk with children => 03-09-2022 => 02-09-2022\n",
      "wash floor => 03-09-2022 => 03-09-2022\n",
      "buy products => 03-09-2022 => 03-09-2022\n",
      "wash clothes => 05-09-2022 => 04-09-2022\n",
      "walk with children => 05-09-2022 => 05-09-2022\n",
      "buy products => 06-09-2022 => 05-09-2022\n",
      "cook meals => 06-09-2022 => 06-09-2022\n",
      "walk with children => 06-09-2022 => 06-09-2022\n",
      "cook meals => 07-09-2022 => 06-09-2022\n",
      "play with children => 07-09-2022 => 07-09-2022\n",
      "sleep => 07-09-2022 => 07-09-2022\n",
      "walk with dog => 08-09-2022 => 07-09-2022\n",
      "buy products => 08-09-2022 => 08-09-2022\n",
      "prepare hometask on python => 08-09-2022 => 08-09-2022\n",
      "child to kindergarden => 08-09-2022 => 09-09-2022\n",
      "cook meals => 08-09-2022 => 08-09-2022\n",
      "\n"
     ]
    }
   ],
   "source": [
    "my_deal_list = my_deal_list.read_file('deals_data.txt')\n",
    "print my_deal_list"
   ]
  },
  {
   "cell_type": "code",
   "execution_count": 6,
   "metadata": {},
   "outputs": [
    {
     "name": "stdout",
     "output_type": "stream",
     "text": [
      "passed\n",
      "-----------------------------------------------------------\n",
      "-----------------------------------------------------------\n",
      "all tests cheked\n"
     ]
    }
   ],
   "source": [
    "# тест записи в файл и чтения\n",
    "def test_1():\n",
    "    from deals import Deal\n",
    "    from deals import DealList\n",
    "    import pickle\n",
    "    deal_list = DealList(Deal(0, 0, 0))\n",
    "    file_write = deal_list.write_to_file('file_write_test')\n",
    "    file_read = deal_list.read_file('file_write_test')\n",
    "    if file_read == deal_list:\n",
    "        print 'passed'\n",
    "    else:\n",
    "        print 'FAILED'\n",
    "    print '-----------------------------------------------------------'\n",
    "\n",
    "def test_2():\n",
    "    from deals import Deal\n",
    "    from deals import DealList\n",
    "    import pickle\n",
    "    deal_list = DealList(Deal(0, 0, 0))\n",
    "    file_write = deal_list.write_to_file('file_write_test')\n",
    "    file_read = deal_list.read_file('file_write_test')\n",
    "    if not file_read == deal_list:\n",
    "        assert False\n",
    "    print '-----------------------------------------------------------'\n",
    "    \n",
    "def test_all():\n",
    "    test_1()\n",
    "    test_2()\n",
    "    print('all tests cheked')\n",
    "  \n",
    "test_all()"
   ]
  },
  {
   "cell_type": "code",
   "execution_count": 7,
   "metadata": {},
   "outputs": [],
   "source": [
    "#import pickle"
   ]
  },
  {
   "cell_type": "code",
   "execution_count": 4,
   "metadata": {},
   "outputs": [],
   "source": [
    "#with open('deals_data.txt', 'rb') as file_read:\n",
    "#    my_deal_list = pickle.load(file_read)"
   ]
  },
  {
   "cell_type": "code",
   "execution_count": 5,
   "metadata": {},
   "outputs": [],
   "source": [
    "#deal_1 = Deal('child to kindergarden', '30-08-2022', '28-09-2022')"
   ]
  },
  {
   "cell_type": "code",
   "execution_count": 6,
   "metadata": {},
   "outputs": [],
   "source": [
    "#print deal_1"
   ]
  },
  {
   "cell_type": "code",
   "execution_count": 7,
   "metadata": {},
   "outputs": [],
   "source": [
    "#deal_1.calc_len()"
   ]
  },
  {
   "cell_type": "code",
   "execution_count": 8,
   "metadata": {},
   "outputs": [],
   "source": [
    "#deal_1.is_finished_on_deadline()"
   ]
  },
  {
   "cell_type": "code",
   "execution_count": 9,
   "metadata": {},
   "outputs": [],
   "source": [
    "#deal_1.compare_deal('child to kindergarden')"
   ]
  },
  {
   "cell_type": "code",
   "execution_count": 10,
   "metadata": {},
   "outputs": [],
   "source": [
    "#my_deal_list = DealList(deal_1)"
   ]
  },
  {
   "cell_type": "code",
   "execution_count": 7,
   "metadata": {},
   "outputs": [
    {
     "data": {
      "text/plain": [
       "<deals.DealList instance at 0x7fc1a9e07ab8>"
      ]
     },
     "execution_count": 7,
     "metadata": {},
     "output_type": "execute_result"
    }
   ],
   "source": [
    "my_deal_list"
   ]
  },
  {
   "cell_type": "code",
   "execution_count": 8,
   "metadata": {},
   "outputs": [],
   "source": [
    "my_deal_list.append(Deal('watch film', '01-11-2022', '03-11-2022'))"
   ]
  },
  {
   "cell_type": "code",
   "execution_count": 9,
   "metadata": {},
   "outputs": [
    {
     "name": "stdout",
     "output_type": "stream",
     "text": [
      "child to kindergarden => 30-08-2022 => 28-09-2022\n",
      "watch film => 30-08-2022 => 30-08-2022\n",
      "call friend => 30-08-2022 => 30-08-2022\n",
      "walk with children => 01-09-2022 => 01-09-2022\n",
      "buy products => 01-09-2022 => 29-08-2022\n",
      "cook meals => 01-09-2022 => 01-09-2022\n",
      "walk with children => 03-09-2022 => 02-09-2022\n",
      "wash floor => 03-09-2022 => 03-09-2022\n",
      "buy products => 03-09-2022 => 03-09-2022\n",
      "wash clothes => 05-09-2022 => 04-09-2022\n",
      "walk with children => 05-09-2022 => 05-09-2022\n",
      "buy products => 06-09-2022 => 05-09-2022\n",
      "cook meals => 06-09-2022 => 06-09-2022\n",
      "walk with children => 06-09-2022 => 06-09-2022\n",
      "cook meals => 07-09-2022 => 06-09-2022\n",
      "play with children => 07-09-2022 => 07-09-2022\n",
      "sleep => 07-09-2022 => 07-09-2022\n",
      "walk with dog => 08-09-2022 => 07-09-2022\n",
      "buy products => 08-09-2022 => 08-09-2022\n",
      "prepare hometask on python => 08-09-2022 => 08-09-2022\n",
      "child to kindergarden => 08-09-2022 => 09-09-2022\n",
      "cook meals => 08-09-2022 => 08-09-2022\n",
      "watch film => 01-11-2022 => 03-11-2022\n",
      "\n"
     ]
    }
   ],
   "source": [
    "print my_deal_list"
   ]
  },
  {
   "cell_type": "code",
   "execution_count": 10,
   "metadata": {},
   "outputs": [
    {
     "data": {
      "text/plain": [
       "<deals.DealList instance at 0x7fc1a9e07ab8>"
      ]
     },
     "execution_count": 10,
     "metadata": {},
     "output_type": "execute_result"
    }
   ],
   "source": [
    "my_deal_list"
   ]
  },
  {
   "cell_type": "code",
   "execution_count": 11,
   "metadata": {},
   "outputs": [
    {
     "name": "stdout",
     "output_type": "stream",
     "text": [
      "23\n"
     ]
    }
   ],
   "source": [
    "#посчитать общее количество дел в списке\n",
    "print(my_deal_list.count_deals())"
   ]
  },
  {
   "cell_type": "code",
   "execution_count": 12,
   "metadata": {},
   "outputs": [
    {
     "name": "stdout",
     "output_type": "stream",
     "text": [
      "passed\n",
      "-----------------------------------------------------------\n",
      "passed\n",
      "-----------------------------------------------------------\n",
      "passed\n",
      "all tests cheked\n"
     ]
    }
   ],
   "source": [
    "def test_1():\n",
    "    deal_list = DealList([Deal('watch film', '30-08-2022', '30-08-2022'), Deal('call friend', '30-08-2022', '30-08-2022')])\n",
    "    if deal_list.count_deals() == 2: \n",
    "        print 'passed'\n",
    "    else:\n",
    "        print 'FAILED'\n",
    "    print '-----------------------------------------------------------'\n",
    "\n",
    "def test_2():\n",
    "    deal_list = DealList([Deal('watch film', '30-08-2022', '30-08-2022'), Deal('call friend', '30-08-2022', '30-08-2022')])\n",
    "    if deal_list.count_deals() != 2:\n",
    "        print 'FAILED'\n",
    "    else:\n",
    "        print 'passed'\n",
    "    print '-----------------------------------------------------------'\n",
    "    \n",
    "def test_3():\n",
    "    deal_list = DealList([Deal('watch film', '30-08-2022', '30-08-2022'), Deal('call friend', '30-08-2022', '30-08-2022')])\n",
    "    deal_list.append(Deal('walk with children', '09-11-2022', '09-11-2022'))\n",
    "    if deal_list.count_deals() == 3:\n",
    "        print 'passed'\n",
    "    else:\n",
    "        print 'FAILED'\n",
    "        \n",
    "def test_all():\n",
    "    test_1()\n",
    "    test_2()\n",
    "    test_3()\n",
    "    print('all tests cheked')\n",
    "    \n",
    "test_all()"
   ]
  },
  {
   "cell_type": "code",
   "execution_count": 13,
   "metadata": {},
   "outputs": [
    {
     "name": "stdout",
     "output_type": "stream",
     "text": [
      "child to kindergarden => 30-08-2022 => 28-09-2022\n",
      "watch film => 30-08-2022 => 30-08-2022\n",
      "call friend => 30-08-2022 => 30-08-2022\n",
      "walk with children => 01-09-2022 => 01-09-2022\n",
      "buy products => 01-09-2022 => 29-08-2022\n",
      "cook meals => 01-09-2022 => 01-09-2022\n",
      "walk with children => 03-09-2022 => 02-09-2022\n",
      "wash floor => 03-09-2022 => 03-09-2022\n",
      "buy products => 03-09-2022 => 03-09-2022\n",
      "wash clothes => 05-09-2022 => 04-09-2022\n",
      "walk with children => 05-09-2022 => 05-09-2022\n",
      "buy products => 06-09-2022 => 05-09-2022\n",
      "cook meals => 06-09-2022 => 06-09-2022\n",
      "walk with children => 06-09-2022 => 06-09-2022\n",
      "cook meals => 07-09-2022 => 06-09-2022\n",
      "play with children => 07-09-2022 => 07-09-2022\n",
      "sleep => 07-09-2022 => 07-09-2022\n",
      "walk with dog => 08-09-2022 => 07-09-2022\n",
      "buy products => 08-09-2022 => 08-09-2022\n",
      "prepare hometask on python => 08-09-2022 => 08-09-2022\n",
      "child to kindergarden => 08-09-2022 => 09-09-2022\n",
      "cook meals => 08-09-2022 => 08-09-2022\n",
      "watch film => 01-11-2022 => 03-11-2022\n",
      "\n"
     ]
    }
   ],
   "source": [
    "#Напечатать все дела\n",
    "print my_deal_list"
   ]
  },
  {
   "cell_type": "code",
   "execution_count": 14,
   "metadata": {},
   "outputs": [
    {
     "name": "stdout",
     "output_type": "stream",
     "text": [
      "cook meals => 01-09-2022 => 01-09-2022\n"
     ]
    }
   ],
   "source": [
    "print (my_deal_list[5])"
   ]
  },
  {
   "cell_type": "code",
   "execution_count": 15,
   "metadata": {},
   "outputs": [
    {
     "name": "stdout",
     "output_type": "stream",
     "text": [
      "passed\n",
      "passed\n",
      "passed\n",
      "passed\n",
      "all tests cheked\n"
     ]
    }
   ],
   "source": [
    "def test_1():\n",
    "    deal_list = DealList([Deal('watch film', '30-08-2022', '30-08-2022'), Deal('call friend', '30-08-2022', '30-08-2022')])\n",
    "    if deal_list[0] == Deal('watch film', '30-08-2022', '30-08-2022'):\n",
    "        print 'passed'\n",
    "    else:\n",
    "        print 'FAILED'\n",
    "        \n",
    "def test_2():\n",
    "    deal_list = DealList([Deal('watch film', '30-08-2022', '30-08-2022'), Deal('call friend', '30-08-2022', '30-08-2022')])\n",
    "    if deal_list[1] == Deal('call friend', '30-08-2022', '30-08-2022'):\n",
    "        print 'passed'\n",
    "    else:\n",
    "        print 'FAILED'\n",
    "        \n",
    "def test_3():\n",
    "#    print 'test 5'\n",
    "#    print my_deal_list[0]\n",
    "#    print my_deal_list[0] != Deal('child to kindergarden', '30-08-2022', '28-09-2022')\n",
    "#    print my_deal_list[0] == Deal('child to kindergarden', '30-08-2022', '28-09-2022')\n",
    "#    print Deal('child to kindergarden', '30-08-2022', '28-09-2022')\n",
    "    deal_list = DealList([Deal('watch film', '30-08-2022', '30-08-2022'), Deal('call friend', '30-08-2022', '30-08-2022')])\n",
    "    if not deal_list[0] == Deal('watch film', '30-08-2022', '30-08-2022'): # почему? (выдавало Failed? лечение - добавить в класс magic method \" __ne__ \" \n",
    "                                                                            #или использовать not вместо != ...\n",
    "        print 'FAILED'\n",
    "    else:\n",
    "        print 'passed'\n",
    "        \n",
    "def test_4():\n",
    "    deal_list = DealList([Deal('watch film', '30-08-2022', '30-08-2022'), Deal('call friend', '30-08-2022', '30-08-2022')])\n",
    "    deal_list.append(Deal('walk with children', '09-11-2022', '09-11-2022'))\n",
    "    if deal_list[2] == Deal('call friend', '30-08-2022', '28-09-2022'):\n",
    "        print 'FAILED'\n",
    "    else:\n",
    "        print 'passed'\n",
    "        \n",
    "\n",
    "        \n",
    "        \n",
    "def test_all():\n",
    "    test_1()\n",
    "    test_2()\n",
    "    test_3()\n",
    "    test_4()\n",
    "\n",
    "    print('all tests cheked')\n",
    "    \n",
    "test_all()"
   ]
  },
  {
   "cell_type": "code",
   "execution_count": 16,
   "metadata": {},
   "outputs": [
    {
     "name": "stdout",
     "output_type": "stream",
     "text": [
      "['No', 'No', 'Yes', 'No', 'No', 'No', 'No', 'No', 'No', 'No', 'No', 'No', 'No', 'No', 'No', 'No', 'No', 'No', 'No', 'No', 'No', 'No', 'No']\n"
     ]
    }
   ],
   "source": [
    "#Сравнить каждое дело из списка с строкой “buy bread” и если оно совпадает то напечатать YES\n",
    "print(my_deal_list.is_deal_name('call friend'))"
   ]
  },
  {
   "cell_type": "code",
   "execution_count": 17,
   "metadata": {},
   "outputs": [
    {
     "name": "stdout",
     "output_type": "stream",
     "text": [
      "passed\n",
      "-----------------------------------------------------------\n",
      "-----------------------------------------------------------\n",
      "passed\n",
      "-----------------------------------------------------------\n",
      "all tests cheked\n"
     ]
    }
   ],
   "source": [
    "def test_1():\n",
    "    deal_list = DealList([Deal('watch film', '30-08-2022', '30-08-2022'), Deal('call friend', '30-08-2022', '30-08-2022')])\n",
    "    if deal_list.is_deal_name('call friend') == ['No', 'Yes']:\n",
    "        print 'passed'\n",
    "    else:\n",
    "        print 'FAILED'\n",
    "    print '-----------------------------------------------------------'\n",
    "\n",
    "def test_2():\n",
    "    deal_list = DealList([Deal('watch film', '30-08-2022', '30-08-2022'), Deal('call friend', '30-08-2022', '30-08-2022')])\n",
    "    if deal_list.is_deal_name('call friend') != ['No', 'Yes']:\n",
    "        assert False\n",
    "    print '-----------------------------------------------------------'\n",
    "    \n",
    "def test_3():\n",
    "    deal_list = DealList([Deal('watch film', '30-08-2022', '30-08-2022'), Deal('call friend', '30-08-2022', '30-08-2022')])\n",
    "    if deal_list.is_deal_name('watch film') == ['Yes', 'No']:\n",
    "        print 'passed'\n",
    "    else:\n",
    "        print 'FAILED'\n",
    "    print '-----------------------------------------------------------'                 \n",
    "\n",
    "def test_all():\n",
    "    test_1()\n",
    "    test_2()\n",
    "    test_3()\n",
    "    print('all tests cheked')\n",
    "  \n",
    "test_all()"
   ]
  },
  {
   "cell_type": "code",
   "execution_count": 18,
   "metadata": {},
   "outputs": [
    {
     "name": "stdout",
     "output_type": "stream",
     "text": [
      "[21, 10, 11, 18, 12, 10, 18, 10, 12, 12, 18, 12, 10, 18, 10, 18, 5, 13, 12, 26, 21, 10, 10]\n"
     ]
    }
   ],
   "source": [
    "#Если каждое дело из списка ваших дела написано на английском и является строкой то вывести длину каждой из этих строк\n",
    "print(my_deal_list.calc_deals_len())"
   ]
  },
  {
   "cell_type": "code",
   "execution_count": 19,
   "metadata": {},
   "outputs": [
    {
     "name": "stdout",
     "output_type": "stream",
     "text": [
      "passed\n",
      "-----------------------------------------------------------\n",
      "-----------------------------------------------------------\n",
      "all tests cheked\n"
     ]
    }
   ],
   "source": [
    "def test_1():\n",
    "    deal_list = DealList([Deal('watch film', '30-08-2022', '30-08-2022'), Deal('call friend', '30-08-2022', '30-08-2022')])\n",
    "    if deal_list.calc_deals_len() == [10, 11]:\n",
    "        print 'passed'\n",
    "    else:\n",
    "        print 'FAILED'\n",
    "    print '-----------------------------------------------------------'\n",
    "                 \n",
    "def test_2():\n",
    "    deal_list = DealList([Deal('watch film', '30-08-2022', '30-08-2022'), Deal('call friend', '30-08-2022', '30-08-2022')])\n",
    "    if deal_list.calc_deals_len() != [10, 11]:\n",
    "        assert False \n",
    "    print '-----------------------------------------------------------'\n",
    "\n",
    "def test_all():\n",
    "    test_1()\n",
    "    test_2()\n",
    "    print('all tests cheked')\n",
    "  \n",
    "test_all()"
   ]
  },
  {
   "cell_type": "code",
   "execution_count": 20,
   "metadata": {},
   "outputs": [
    {
     "name": "stdout",
     "output_type": "stream",
     "text": [
      "['yes', 'no', 'yes', 'yes', 'yes', 'no', 'yes', 'no', 'yes', 'yes', 'yes', 'yes', 'no', 'yes', 'no', 'yes', 'no', 'yes', 'yes', 'yes', 'yes', 'no', 'no']\n",
      "['yes', 'no', 'no', 'no', 'no', 'no', 'no', 'no', 'no', 'no', 'no', 'no', 'no', 'no', 'no', 'no', 'no', 'no', 'no', 'yes', 'yes', 'no', 'no']\n"
     ]
    }
   ],
   "source": [
    "#Напечатать yes если длина строки в которой записано дело больше 10\n",
    "print(my_deal_list.does_deal_len_exceed(10))\n",
    "print(my_deal_list.does_deal_len_exceed(20))"
   ]
  },
  {
   "cell_type": "code",
   "execution_count": 21,
   "metadata": {},
   "outputs": [
    {
     "name": "stdout",
     "output_type": "stream",
     "text": [
      "passed\n",
      "-----------------------------------------------------------\n",
      "passed\n",
      "-----------------------------------------------------------\n",
      "all tests cheked\n"
     ]
    }
   ],
   "source": [
    "def test_1():\n",
    "    deal_list = DealList([Deal('watch film', '30-08-2022', '30-08-2022'), Deal('call friend', '30-08-2022', '30-08-2022')])\n",
    "    if deal_list.does_deal_len_exceed(10) == ['no', 'yes']:\n",
    "        print 'passed'\n",
    "    else:\n",
    "        print 'FAILED'\n",
    "    print '-----------------------------------------------------------'\n",
    "\n",
    "def test_2():\n",
    "    deal_list = DealList([Deal('watch film', '30-08-2022', '30-08-2022'), Deal('call friend', '30-08-2022', '30-08-2022')])\n",
    "    if deal_list.does_deal_len_exceed(20) == ['no', 'no']:\n",
    "        print 'passed'\n",
    "    else:\n",
    "        print 'FAILED'\n",
    "    print '-----------------------------------------------------------'\n",
    "\n",
    "def test_all():\n",
    "    test_1()\n",
    "    test_2()\n",
    "    print('all tests cheked')\n",
    "  \n",
    "test_all()"
   ]
  },
  {
   "cell_type": "code",
   "execution_count": 22,
   "metadata": {},
   "outputs": [
    {
     "name": "stdout",
     "output_type": "stream",
     "text": [
      "[child to kindergarden => 30-08-2022 => 28-09-2022, call friend => 30-08-2022 => 30-08-2022, buy products => 01-09-2022 => 29-08-2022, walk with children => 03-09-2022 => 02-09-2022, buy products => 03-09-2022 => 03-09-2022, walk with children => 05-09-2022 => 05-09-2022, cook meals => 06-09-2022 => 06-09-2022, cook meals => 07-09-2022 => 06-09-2022, sleep => 07-09-2022 => 07-09-2022, buy products => 08-09-2022 => 08-09-2022, child to kindergarden => 08-09-2022 => 09-09-2022, watch film => 01-11-2022 => 03-11-2022]\n"
     ]
    }
   ],
   "source": [
    "#Напечатать дела индекс которых в списке делится без остатка на 2\n",
    "print(my_deal_list.div_index_2())"
   ]
  },
  {
   "cell_type": "code",
   "execution_count": 23,
   "metadata": {},
   "outputs": [
    {
     "name": "stdout",
     "output_type": "stream",
     "text": [
      "passed\n",
      "-----------------------------------------------------------\n",
      "-----------------------------------------------------------\n",
      "all tests cheked\n"
     ]
    }
   ],
   "source": [
    "def test_1():\n",
    "    deal_list = DealList([Deal('watch film', '30-08-2022', '30-08-2022'), Deal('call friend', '30-08-2022', '30-08-2022')])\n",
    "    if deal_list.div_index_2() == [Deal('watch film', '30-08-2022', '30-08-2022')]:\n",
    "        print 'passed'\n",
    "    else:\n",
    "        print 'FAILED'\n",
    "    print '-----------------------------------------------------------'\n",
    "                  \n",
    "\n",
    "def test_2():\n",
    "    deal_list = DealList([Deal('watch film', '30-08-2022', '30-08-2022'), Deal('call friend', '30-08-2022', '30-08-2022')])\n",
    "    if deal_list.div_index_2() != [Deal('watch film', '30-08-2022', '30-08-2022')]:\n",
    "        assert False \n",
    "    print '-----------------------------------------------------------'\n",
    "                 \n",
    "def test_all():\n",
    "    test_1()\n",
    "    test_2()\n",
    "    print('all tests cheked')\n",
    "  \n",
    "test_all()"
   ]
  },
  {
   "cell_type": "code",
   "execution_count": 24,
   "metadata": {},
   "outputs": [
    {
     "name": "stdout",
     "output_type": "stream",
     "text": [
      "[watch film => 30-08-2022 => 30-08-2022, call friend => 30-08-2022 => 30-08-2022, walk with children => 01-09-2022 => 01-09-2022, cook meals => 01-09-2022 => 01-09-2022, wash floor => 03-09-2022 => 03-09-2022, buy products => 03-09-2022 => 03-09-2022, walk with children => 05-09-2022 => 05-09-2022, cook meals => 06-09-2022 => 06-09-2022, walk with children => 06-09-2022 => 06-09-2022, play with children => 07-09-2022 => 07-09-2022, sleep => 07-09-2022 => 07-09-2022, buy products => 08-09-2022 => 08-09-2022, prepare hometask on python => 08-09-2022 => 08-09-2022, cook meals => 08-09-2022 => 08-09-2022]\n"
     ]
    }
   ],
   "source": [
    "# Вывести только те дела которые вы сделали в тот же день в который их запланировали\n",
    "print(my_deal_list.display_done_as_planned())"
   ]
  },
  {
   "cell_type": "code",
   "execution_count": 25,
   "metadata": {},
   "outputs": [
    {
     "name": "stdout",
     "output_type": "stream",
     "text": [
      "passed\n",
      "-----------------------------------------------------------\n",
      "-----------------------------------------------------------\n",
      "all tests cheked\n"
     ]
    }
   ],
   "source": [
    "def test_1():\n",
    "    deal_list = DealList([Deal('watch film', '30-08-2022', '30-08-2022'), Deal('call friend', '30-08-2022', '30-08-2022')])\n",
    "    #print deal_list.display_done_as_planned()\n",
    "    if deal_list.display_done_as_planned() == [Deal('watch film', '30-08-2022', '30-08-2022'), Deal('call friend', '30-08-2022', '30-08-2022')]:\n",
    "        print 'passed'\n",
    "    else:\n",
    "        print 'FAILED'\n",
    "    print '-----------------------------------------------------------'\n",
    "\n",
    "\n",
    "def test_2():\n",
    "    deal_list = DealList([Deal('watch film', '30-08-2022', '30-08-2022'), Deal('call friend', '30-08-2022', '30-08-2022')])\n",
    "    if deal_list.display_done_as_planned() != [Deal('watch film', '30-08-2022', '30-08-2022'), Deal('call friend', '30-08-2022', '30-08-2022')]:\n",
    "        assert False\n",
    "    print '-----------------------------------------------------------'\n",
    "\n",
    "def test_all():\n",
    "    test_1()\n",
    "    test_2()\n",
    "    print('all tests cheked')\n",
    "  \n",
    "test_all()"
   ]
  },
  {
   "cell_type": "code",
   "execution_count": 26,
   "metadata": {},
   "outputs": [
    {
     "name": "stdout",
     "output_type": "stream",
     "text": [
      "[1, 2, 3, 5, 7, 8, 10, 12, 13, 15, 16, 18, 19, 21]\n"
     ]
    }
   ],
   "source": [
    "#Напечатать те индексы у которых значения в списке запланированных дат и списке реализованных дат равны друг другу\n",
    "print(my_deal_list.display_done_as_planned(True))\n",
    "\n",
    "# !!!!!!!!!! Как лучше реализовать метод? !!!!!!!!!!!!!!"
   ]
  },
  {
   "cell_type": "code",
   "execution_count": 27,
   "metadata": {},
   "outputs": [
    {
     "name": "stdout",
     "output_type": "stream",
     "text": [
      "{'buy products': 4, 'walk with children': 4, 'cook meals': 4, 'child to kindergarden': 2, 'watch film': 2}\n",
      "{'buy products': 4, 'walk with children': 4, 'cook meals': 4, 'child to kindergarden': 2, 'watch film': 3}\n"
     ]
    }
   ],
   "source": [
    "#Посчитать сколько дел у вас было одинаковых ( т.е. если есть запись “купить хлеб” 28-08-2022 и “купить хлеб” 14-08-2022 то финально нужно вывести “купить хлеб” 2 (можно сделать 2 варианта без использования словарей и с испольщованием словарям)\n",
    "print(my_deal_list.count_repeats())\n",
    "my_deal_list.append(Deal('watch film', '10-11-2022', 'None'))\n",
    "print(my_deal_list.count_repeats())\n"
   ]
  },
  {
   "cell_type": "code",
   "execution_count": 28,
   "metadata": {},
   "outputs": [
    {
     "name": "stdout",
     "output_type": "stream",
     "text": [
      "passed\n",
      "-----------------------------------------------------------\n",
      "passed\n",
      "-----------------------------------------------------------\n",
      "-----------------------------------------------------------\n",
      "all tests cheked\n"
     ]
    }
   ],
   "source": [
    "def test_1():\n",
    "    deal_list = DealList([Deal('watch film', '30-08-2022', '30-08-2022'), Deal('call friend', '30-08-2022', '30-08-2022')])\n",
    "    if deal_list.count_repeats() == {}:\n",
    "        print 'passed'\n",
    "    else:\n",
    "        print 'FAILED'\n",
    "    print '-----------------------------------------------------------'\n",
    "\n",
    "def test_2():\n",
    "    deal_list = DealList([Deal('watch film', '30-08-2022', '30-08-2022'), Deal('call friend', '30-08-2022', '30-08-2022'), Deal('watch film', '10-11-2022', 'None')])\n",
    "    if deal_list.count_repeats() == {'watch film': 2}:\n",
    "         print 'passed'\n",
    "    else:\n",
    "        print 'FAILED'\n",
    "    print '-----------------------------------------------------------'\n",
    "    \n",
    "def test_3():\n",
    "    deal_list = DealList([Deal('watch film', '30-08-2022', '30-08-2022'), Deal('call friend', '30-08-2022', '30-08-2022'), Deal('watch film', '10-11-2022', 'None')])\n",
    "    if deal_list.count_repeats() != {'watch film': 2}:\n",
    "        assert False\n",
    "    print '-----------------------------------------------------------'\n",
    "                 \n",
    "def test_all():\n",
    "    test_1()\n",
    "    test_2()\n",
    "    test_3()\n",
    "    print('all tests cheked')\n",
    "  \n",
    "test_all()"
   ]
  },
  {
   "cell_type": "code",
   "execution_count": null,
   "metadata": {},
   "outputs": [],
   "source": []
  },
  {
   "cell_type": "markdown",
   "metadata": {},
   "source": [
    "Также расширить его чтением записью  данных из фалов и тестами."
   ]
  },
  {
   "cell_type": "code",
   "execution_count": 29,
   "metadata": {},
   "outputs": [],
   "source": [
    "my_deal_list.write_to_file('deals_data.txt')"
   ]
  },
  {
   "cell_type": "code",
   "execution_count": 31,
   "metadata": {},
   "outputs": [],
   "source": [
    "#with open('deals_data.txt', 'wb') as file_write:\n",
    "#    pickle.dump(my_deals_list, file_write)"
   ]
  },
  {
   "cell_type": "code",
   "execution_count": null,
   "metadata": {},
   "outputs": [],
   "source": []
  },
  {
   "cell_type": "code",
   "execution_count": null,
   "metadata": {},
   "outputs": [],
   "source": []
  },
  {
   "cell_type": "code",
   "execution_count": null,
   "metadata": {},
   "outputs": [],
   "source": []
  }
 ],
 "metadata": {
  "kernelspec": {
   "display_name": "Python 2",
   "language": "python",
   "name": "python2"
  },
  "language_info": {
   "codemirror_mode": {
    "name": "ipython",
    "version": 2
   },
   "file_extension": ".py",
   "mimetype": "text/x-python",
   "name": "python",
   "nbconvert_exporter": "python",
   "pygments_lexer": "ipython2",
   "version": "2.7.12"
  }
 },
 "nbformat": 4,
 "nbformat_minor": 2
}
