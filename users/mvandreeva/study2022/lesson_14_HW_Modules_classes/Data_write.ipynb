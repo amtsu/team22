{
 "cells": [
  {
   "cell_type": "code",
   "execution_count": 2,
   "metadata": {},
   "outputs": [
    {
     "name": "stdout",
     "output_type": "stream",
     "text": [
      "[child to kindergarden => 30-08-2022 => 28-09-2022, watch film => 30-08-2022 => 30-08-2022, call friend => 30-08-2022 => 30-08-2022, walk with children => 01-09-2022 => 01-09-2022, buy products => 01-09-2022 => 29-08-2022, cook meals => 01-09-2022 => 01-09-2022, walk with children => 03-09-2022 => 02-09-2022, wash floor => 03-09-2022 => 03-09-2022, buy products => 03-09-2022 => 03-09-2022, wash clothes => 05-09-2022 => 04-09-2022, walk with children => 05-09-2022 => 05-09-2022, buy products => 06-09-2022 => 05-09-2022, cook meals => 06-09-2022 => 06-09-2022, walk with children => 06-09-2022 => 06-09-2022, cook meals => 07-09-2022 => 06-09-2022, play with children => 07-09-2022 => 07-09-2022, sleep => 07-09-2022 => 07-09-2022, walk with dog => 08-09-2022 => 07-09-2022, buy products => 08-09-2022 => 08-09-2022, prepare hometask on python => 08-09-2022 => 08-09-2022, child to kindergarden => 08-09-2022 => 09-09-2022, cook meals => 08-09-2022 => 08-09-2022]\n",
      "<type 'instance'>\n",
      "------------\n",
      "child to kindergarden => 30-08-2022 => 28-09-2022\n",
      "watch film => 30-08-2022 => 30-08-2022\n",
      "call friend => 30-08-2022 => 30-08-2022\n",
      "walk with children => 01-09-2022 => 01-09-2022\n",
      "buy products => 01-09-2022 => 29-08-2022\n",
      "cook meals => 01-09-2022 => 01-09-2022\n",
      "walk with children => 03-09-2022 => 02-09-2022\n",
      "wash floor => 03-09-2022 => 03-09-2022\n",
      "buy products => 03-09-2022 => 03-09-2022\n",
      "wash clothes => 05-09-2022 => 04-09-2022\n",
      "walk with children => 05-09-2022 => 05-09-2022\n",
      "buy products => 06-09-2022 => 05-09-2022\n",
      "cook meals => 06-09-2022 => 06-09-2022\n",
      "walk with children => 06-09-2022 => 06-09-2022\n",
      "cook meals => 07-09-2022 => 06-09-2022\n",
      "play with children => 07-09-2022 => 07-09-2022\n",
      "sleep => 07-09-2022 => 07-09-2022\n",
      "walk with dog => 08-09-2022 => 07-09-2022\n",
      "buy products => 08-09-2022 => 08-09-2022\n",
      "prepare hometask on python => 08-09-2022 => 08-09-2022\n",
      "child to kindergarden => 08-09-2022 => 09-09-2022\n",
      "cook meals => 08-09-2022 => 08-09-2022\n",
      "\n",
      "<type 'instance'>\n"
     ]
    }
   ],
   "source": [
    "to_do_list = [ 'child to kindergarden','watch film','call friend', 'walk with children','buy products', 'cook meals','walk with children', 'wash floor','buy products', 'wash clothes','walk with children','buy products', 'cook meals','walk with children', 'cook meals','play with children', 'sleep','walk with dog', 'buy products','prepare hometask on python', 'child to kindergarden', 'cook meals']\n",
    "deadline = ['30-08-2022', '30-08-2022', '30-08-2022', '01-09-2022', '01-09-2022', '01-09-2022', '03-09-2022', '03-09-2022',  '03-09-2022', '05-09-2022', '05-09-2022', '06-09-2022', '06-09-2022', '06-09-2022', '07-09-2022', '07-09-2022', '07-09-2022', '08-09-2022', '08-09-2022', '08-09-2022', '08-09-2022', '08-09-2022']\n",
    "finish_date = ['28-09-2022', '30-08-2022', '30-08-2022', '01-09-2022', '29-08-2022', '01-09-2022', '02-09-2022', '03-09-2022',  '03-09-2022', '04-09-2022', '05-09-2022', '05-09-2022', '06-09-2022', '06-09-2022', '06-09-2022', '07-09-2022', '07-09-2022', '07-09-2022', '08-09-2022', '08-09-2022', '09-09-2022', '08-09-2022']\n",
    "#-----------------------------------------------------------\n",
    "from deals import Deal\n",
    "from deals import DealList\n",
    "\n",
    "deals_list = []\n",
    "for i in range(len(to_do_list)):\n",
    "    deals_list.append(Deal(to_do_list[i], deadline[i], finish_date[i]))\n",
    "\n",
    "print(deals_list)\n",
    "print(type(deals_list[1]))\n",
    "\n",
    "\n",
    "my_deals_list = DealList(deals_list)\n",
    "print '------------'\n",
    "print(my_deals_list)\n",
    "print(type(my_deals_list))\n",
    "my_deals_list.write_to_file('deals_data.txt')\n",
    "#import pickle\n",
    "\n",
    "#with open('deals_data.txt', 'wb') as file_write:\n",
    "#    pickle.dump(my_deals_list, file_write)"
   ]
  },
  {
   "cell_type": "code",
   "execution_count": null,
   "metadata": {},
   "outputs": [],
   "source": [
    "\n",
    "    "
   ]
  },
  {
   "cell_type": "code",
   "execution_count": 2,
   "metadata": {},
   "outputs": [
    {
     "data": {
      "text/plain": [
       "<deals.DealList instance at 0x7fd575390830>"
      ]
     },
     "execution_count": 2,
     "metadata": {},
     "output_type": "execute_result"
    }
   ],
   "source": [
    "my_deals_list"
   ]
  },
  {
   "cell_type": "code",
   "execution_count": 3,
   "metadata": {},
   "outputs": [
    {
     "data": {
      "text/plain": [
       "watch film => 30-08-2022 => 30-08-2022"
      ]
     },
     "execution_count": 3,
     "metadata": {},
     "output_type": "execute_result"
    }
   ],
   "source": [
    "my_deals_list[1]"
   ]
  },
  {
   "cell_type": "code",
   "execution_count": 4,
   "metadata": {},
   "outputs": [
    {
     "data": {
      "text/plain": [
       "22"
      ]
     },
     "execution_count": 4,
     "metadata": {},
     "output_type": "execute_result"
    }
   ],
   "source": [
    "my_deals_list.count_deals()"
   ]
  },
  {
   "cell_type": "code",
   "execution_count": 5,
   "metadata": {},
   "outputs": [
    {
     "name": "stdout",
     "output_type": "stream",
     "text": [
      "child to kindergarden => 30-08-2022 => 28-09-2022\n",
      "watch film => 30-08-2022 => 30-08-2022\n",
      "call friend => 30-08-2022 => 30-08-2022\n",
      "walk with children => 01-09-2022 => 01-09-2022\n",
      "buy products => 01-09-2022 => 29-08-2022\n",
      "cook meals => 01-09-2022 => 01-09-2022\n",
      "walk with children => 03-09-2022 => 02-09-2022\n",
      "wash floor => 03-09-2022 => 03-09-2022\n",
      "buy products => 03-09-2022 => 03-09-2022\n",
      "wash clothes => 05-09-2022 => 04-09-2022\n",
      "walk with children => 05-09-2022 => 05-09-2022\n",
      "buy products => 06-09-2022 => 05-09-2022\n",
      "cook meals => 06-09-2022 => 06-09-2022\n",
      "walk with children => 06-09-2022 => 06-09-2022\n",
      "cook meals => 07-09-2022 => 06-09-2022\n",
      "play with children => 07-09-2022 => 07-09-2022\n",
      "sleep => 07-09-2022 => 07-09-2022\n",
      "walk with dog => 08-09-2022 => 07-09-2022\n",
      "buy products => 08-09-2022 => 08-09-2022\n",
      "prepare hometask on python => 08-09-2022 => 08-09-2022\n",
      "child to kindergarden => 08-09-2022 => 09-09-2022\n",
      "cook meals => 08-09-2022 => 08-09-2022\n",
      "\n"
     ]
    }
   ],
   "source": [
    "print(my_deals_list)"
   ]
  },
  {
   "cell_type": "code",
   "execution_count": null,
   "metadata": {},
   "outputs": [],
   "source": []
  }
 ],
 "metadata": {
  "kernelspec": {
   "display_name": "Python 2",
   "language": "python",
   "name": "python2"
  },
  "language_info": {
   "codemirror_mode": {
    "name": "ipython",
    "version": 2
   },
   "file_extension": ".py",
   "mimetype": "text/x-python",
   "name": "python",
   "nbconvert_exporter": "python",
   "pygments_lexer": "ipython2",
   "version": "2.7.12"
  }
 },
 "nbformat": 4,
 "nbformat_minor": 2
}
