{
 "cells": [
  {
   "cell_type": "code",
   "execution_count": 1,
   "id": "15c8d85d-0b28-45c7-a05b-bef1b322d2a0",
   "metadata": {},
   "outputs": [],
   "source": [
    "import sqlite3"
   ]
  },
  {
   "cell_type": "code",
   "execution_count": null,
   "id": "bef0a7f4-52a1-405f-bdf4-c09f43e379f7",
   "metadata": {},
   "outputs": [],
   "source": [
    "connection = sqlite3.connect('/tmp/sql_dump/db.sqlite3')\n",
    "cursor = connection.cursor()"
   ]
  },
  {
   "cell_type": "code",
   "execution_count": null,
   "id": "cf43f63a-c7b0-425b-a8d3-3abd0dca97c8",
   "metadata": {},
   "outputs": [],
   "source": [
    "cursor.execute(\"\"\"\n",
    "    CREATE TABLE IF NOT EXISTS mvandreeva_goods(\n",
    "        id INT NOT NULL PRIMARY KEY AUTO_INCREMENT,\n",
    "        product_name VARCHAR(255),\n",
    "        shop_name VARCHAR(255),\n",
    "        date DATETIME,\n",
    "        price INT,\n",
    "        available_amount INT\n",
    "\"\"\")\n",
    "\n",
    "print(cursor.fetchall())"
   ]
  },
  {
   "cell_type": "code",
   "execution_count": null,
   "id": "2afdfb83-73dd-450f-881d-ff8443bf90ea",
   "metadata": {},
   "outputs": [],
   "source": [
    "cursor.execute(\"\"\"\n",
    "    SELECT product_name, shop_name, AVG(price)\n",
    "    FROM mvandreeva_goods\n",
    "    WHERE product_name = 'Филе тунца, вес'\n",
    "    GROUP BY product_name\n",
    "\"\"\")\n",
    "\n",
    "print(cursor.fetchall())"
   ]
  },
  {
   "cell_type": "code",
   "execution_count": null,
   "id": "20c1ccbb-522e-464a-9f01-0f5406b8eef5",
   "metadata": {},
   "outputs": [],
   "source": [
    "cursor.execute(\"\"\"\n",
    "    SELECT \n",
    "        product_name, \n",
    "        shop_name, \n",
    "        price, \n",
    "        available_amount, \n",
    "        date\n",
    "    FROM mvandreeva_goods\n",
    "    ORDER BY product_name, date ASC \n",
    "    LIMIT 10\n",
    "\"\"\")\n",
    "\n",
    "print(cursor.fetchall())"
   ]
  },
  {
   "cell_type": "code",
   "execution_count": null,
   "id": "5aa8cc12-8d34-4609-8bcd-e23351bd9ace",
   "metadata": {},
   "outputs": [],
   "source": []
  },
  {
   "cell_type": "code",
   "execution_count": null,
   "id": "4d2cb585-d87c-402a-86fb-8cf79f9ed967",
   "metadata": {},
   "outputs": [],
   "source": [
    "cursor.execute(\"\"\"\n",
    "    CREATE TABLE IF NOT EXISTS mvandreeva_buyers(\n",
    "        id INT NOT NULL PRIMARY KEY AUTO_INCREMENT,\n",
    "        product_name VARCHAR(255),\n",
    "        shop_name VARCHAR(255),\n",
    "        date DATETIME,\n",
    "        price INT,\n",
    "        available_amount INT\n",
    "\"\"\")\n",
    "\n",
    "print(cursor.fetchall())"
   ]
  },
  {
   "cell_type": "code",
   "execution_count": null,
   "id": "6d188ddb-c10e-4b4f-8241-68fbf8581ccd",
   "metadata": {},
   "outputs": [],
   "source": []
  },
  {
   "cell_type": "code",
   "execution_count": null,
   "id": "f0d566dd-744d-47fe-a285-aea56818cb64",
   "metadata": {},
   "outputs": [],
   "source": []
  }
 ],
 "metadata": {
  "kernelspec": {
   "display_name": "Python 3 (ipykernel)",
   "language": "python",
   "name": "python3"
  },
  "language_info": {
   "codemirror_mode": {
    "name": "ipython",
    "version": 3
   },
   "file_extension": ".py",
   "mimetype": "text/x-python",
   "name": "python",
   "nbconvert_exporter": "python",
   "pygments_lexer": "ipython3",
   "version": "3.9.7"
  }
 },
 "nbformat": 4,
 "nbformat_minor": 5
}
