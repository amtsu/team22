{
 "cells": [
  {
   "cell_type": "code",
   "execution_count": 1,
   "metadata": {},
   "outputs": [],
   "source": [
    "from web_check import CheckPrice"
   ]
  },
  {
   "cell_type": "code",
   "execution_count": 2,
   "metadata": {},
   "outputs": [],
   "source": [
    "from web_check import ClearData"
   ]
  },
  {
   "cell_type": "code",
   "execution_count": 3,
   "metadata": {},
   "outputs": [],
   "source": [
    "from web_check import SendMail"
   ]
  },
  {
   "cell_type": "code",
   "execution_count": 4,
   "metadata": {},
   "outputs": [],
   "source": [
    "from web_check import ClearDataChitaiGorod"
   ]
  },
  {
   "cell_type": "code",
   "execution_count": 5,
   "metadata": {},
   "outputs": [],
   "source": [
    "#import urllib"
   ]
  },
  {
   "cell_type": "code",
   "execution_count": 6,
   "metadata": {},
   "outputs": [],
   "source": [
    "check_page = CheckPrice('https://quke.ru/shop/UID_70281___306_.html')"
   ]
  },
  {
   "cell_type": "code",
   "execution_count": 7,
   "metadata": {},
   "outputs": [
    {
     "data": {
      "text/plain": [
       "https://quke.ru/shop/UID_70281___306_.html"
      ]
     },
     "execution_count": 7,
     "metadata": {},
     "output_type": "execute_result"
    }
   ],
   "source": [
    "check_page"
   ]
  },
  {
   "cell_type": "code",
   "execution_count": 8,
   "metadata": {},
   "outputs": [
    {
     "name": "stdout",
     "output_type": "stream",
     "text": [
      "1 1 150\n",
      "2 за 1 150\n"
     ]
    },
    {
     "name": "stderr",
     "output_type": "stream",
     "text": [
      "/home/jupyter-andromary/github/team22/users/mvandreeva/lesson_15_HW_web_prices/web_check.py:13: GuessedAtParserWarning: No parser was explicitly specified, so I'm using the best available HTML parser for this system (\"html.parser\"). This usually isn't a problem, but if you run this code on another system, or in a different virtual environment, it may use a different parser and behave differently.\n",
      "\n",
      "The code that caused this warning is on line 13 of the file /home/jupyter-andromary/github/team22/users/mvandreeva/lesson_15_HW_web_prices/web_check.py. To get rid of this warning, pass the additional argument 'features=\"html.parser\"' to the BeautifulSoup constructor.\n",
      "\n",
      "  soup = BeautifulSoup(text)\n"
     ]
    },
    {
     "data": {
      "text/plain": [
       "['1 150', 'за 1 150']"
      ]
     },
     "execution_count": 8,
     "metadata": {},
     "output_type": "execute_result"
    }
   ],
   "source": [
    "check_page.get_price('span','price__value')"
   ]
  },
  {
   "cell_type": "code",
   "execution_count": 9,
   "metadata": {},
   "outputs": [
    {
     "name": "stdout",
     "output_type": "stream",
     "text": [
      "1 1 150\n",
      "2 за 1 150\n"
     ]
    }
   ],
   "source": [
    "prices = check_page.get_price('span','price__value')"
   ]
  },
  {
   "cell_type": "code",
   "execution_count": 10,
   "metadata": {},
   "outputs": [],
   "source": [
    "good_price = ClearData(prices[0]).clean_data(' ', True)"
   ]
  },
  {
   "cell_type": "code",
   "execution_count": 11,
   "metadata": {},
   "outputs": [
    {
     "data": {
      "text/plain": [
       "1150"
      ]
     },
     "execution_count": 11,
     "metadata": {},
     "output_type": "execute_result"
    }
   ],
   "source": [
    "good_price"
   ]
  },
  {
   "cell_type": "code",
   "execution_count": 11,
   "metadata": {},
   "outputs": [],
   "source": [
    "#куда лучше вводить почтовые адреса в класс или метод?\n",
    "#наверно в метод, чтоб проще было их заменять?"
   ]
  },
  {
   "cell_type": "code",
   "execution_count": 12,
   "metadata": {},
   "outputs": [],
   "source": [
    "discount_info = SendMail(good_price).is_discount( 750, 'mvandreeva@101katok.ru', 'Mariya.V.Andreeva@yandex.ru' )"
   ]
  },
  {
   "cell_type": "markdown",
   "metadata": {},
   "source": [
    "_________________________________________________________"
   ]
  },
  {
   "cell_type": "code",
   "execution_count": 4,
   "metadata": {},
   "outputs": [],
   "source": [
    "check_page = CheckPrice('https://quke.ru/shop/UID_72485__rekam_a310_.html')"
   ]
  },
  {
   "cell_type": "code",
   "execution_count": 5,
   "metadata": {},
   "outputs": [
    {
     "name": "stdout",
     "output_type": "stream",
     "text": [
      "(1, u'3 300')\n",
      "(2, u'\\u0437\\u0430 3 300')\n"
     ]
    },
    {
     "name": "stderr",
     "output_type": "stream",
     "text": [
      "web_check.py:13: GuessedAtParserWarning: No parser was explicitly specified, so I'm using the best available HTML parser for this system (\"html.parser\"). This usually isn't a problem, but if you run this code on another system, or in a different virtual environment, it may use a different parser and behave differently.\n",
      "\n",
      "The code that caused this warning is on line 13 of the file web_check.py. To get rid of this warning, pass the additional argument 'features=\"html.parser\"' to the BeautifulSoup constructor.\n",
      "\n",
      "  soup = BeautifulSoup(text)\n"
     ]
    }
   ],
   "source": [
    "prices = check_page.get_price('span','price__value')"
   ]
  },
  {
   "cell_type": "code",
   "execution_count": 6,
   "metadata": {},
   "outputs": [],
   "source": [
    "good_price = ClearData(prices[0]).clean_data(' ', True)"
   ]
  },
  {
   "cell_type": "code",
   "execution_count": 7,
   "metadata": {},
   "outputs": [
    {
     "data": {
      "text/plain": [
       "3300"
      ]
     },
     "execution_count": 7,
     "metadata": {},
     "output_type": "execute_result"
    }
   ],
   "source": [
    "good_price"
   ]
  },
  {
   "cell_type": "code",
   "execution_count": 8,
   "metadata": {},
   "outputs": [],
   "source": [
    "discount_info = SendMail(good_price).is_discount( 2000, 'mvandreeva@101katok.ru', 'Mariya.V.Andreeva@yandex.ru' )"
   ]
  },
  {
   "cell_type": "markdown",
   "metadata": {},
   "source": [
    "__________"
   ]
  },
  {
   "cell_type": "code",
   "execution_count": 9,
   "metadata": {},
   "outputs": [],
   "source": [
    "check_page = CheckPrice('https://www.detmir.ru/product/index/id/5036764/')"
   ]
  },
  {
   "cell_type": "code",
   "execution_count": 10,
   "metadata": {},
   "outputs": [
    {
     "name": "stdout",
     "output_type": "stream",
     "text": [
      "(1, u'13\\u2009999\\xa0\\u20bd')\n"
     ]
    },
    {
     "data": {
      "text/plain": [
       "[u'13\\u2009999\\xa0\\u20bd']"
      ]
     },
     "execution_count": 10,
     "metadata": {},
     "output_type": "execute_result"
    }
   ],
   "source": [
    "check_page.get_price('div','WT')"
   ]
  },
  {
   "cell_type": "code",
   "execution_count": 11,
   "metadata": {},
   "outputs": [
    {
     "name": "stdout",
     "output_type": "stream",
     "text": [
      "(1, u'13\\u2009999\\xa0\\u20bd')\n"
     ]
    }
   ],
   "source": [
    "prices = check_page.get_price('div','WT')"
   ]
  },
  {
   "cell_type": "code",
   "execution_count": 12,
   "metadata": {},
   "outputs": [],
   "source": [
    "price = ClearData(prices[0]).clean_data('1, ')"
   ]
  },
  {
   "cell_type": "code",
   "execution_count": 13,
   "metadata": {},
   "outputs": [
    {
     "data": {
      "text/plain": [
       "u'13\\u2009999\\xa0\\u20bd'"
      ]
     },
     "execution_count": 13,
     "metadata": {},
     "output_type": "execute_result"
    }
   ],
   "source": [
    "price"
   ]
  },
  {
   "cell_type": "code",
   "execution_count": 14,
   "metadata": {},
   "outputs": [],
   "source": [
    "price = ClearData(price).clean_data(u'\\u2009')"
   ]
  },
  {
   "cell_type": "code",
   "execution_count": 15,
   "metadata": {},
   "outputs": [
    {
     "data": {
      "text/plain": [
       "u'13999\\xa0\\u20bd'"
      ]
     },
     "execution_count": 15,
     "metadata": {},
     "output_type": "execute_result"
    }
   ],
   "source": [
    "price"
   ]
  },
  {
   "cell_type": "code",
   "execution_count": 18,
   "metadata": {},
   "outputs": [],
   "source": [
    "good_price = ClearData(price).clean_data(u'\\xa0\\u20bd', True)"
   ]
  },
  {
   "cell_type": "code",
   "execution_count": 19,
   "metadata": {},
   "outputs": [
    {
     "data": {
      "text/plain": [
       "13999"
      ]
     },
     "execution_count": 19,
     "metadata": {},
     "output_type": "execute_result"
    }
   ],
   "source": [
    "good_price"
   ]
  },
  {
   "cell_type": "code",
   "execution_count": 20,
   "metadata": {},
   "outputs": [],
   "source": [
    "discount_info = SendMail(good_price).is_discount( 7000, 'mvandreeva@101katok.ru', 'Mariya.V.Andreeva@yandex.ru' )"
   ]
  },
  {
   "cell_type": "markdown",
   "metadata": {},
   "source": [
    "___"
   ]
  },
  {
   "cell_type": "code",
   "execution_count": 4,
   "metadata": {},
   "outputs": [
    {
     "name": "stderr",
     "output_type": "stream",
     "text": [
      "web_check.py:13: GuessedAtParserWarning: No parser was explicitly specified, so I'm using the best available HTML parser for this system (\"html.parser\"). This usually isn't a problem, but if you run this code on another system, or in a different virtual environment, it may use a different parser and behave differently.\n",
      "\n",
      "The code that caused this warning is on line 13 of the file web_check.py. To get rid of this warning, pass the additional argument 'features=\"html.parser\"' to the BeautifulSoup constructor.\n",
      "\n",
      "  soup = BeautifulSoup(text)\n"
     ]
    },
    {
     "name": "stdout",
     "output_type": "stream",
     "text": [
      "(1, u'9\\u2009757\\xa0\\u20bd')\n",
      "9757 ₽\n",
      "9757\n"
     ]
    }
   ],
   "source": [
    "check_page = CheckPrice('https://www.detmir.ru/product/index/id/5147626/?variant_id=5147630')\n",
    "prices = check_page.get_price('div','WT')\n",
    "price = ClearData(prices[0]).clean_data('1, ')\n",
    "price = ClearData(price).clean_data(u'\\u2009')\n",
    "print(price)\n",
    "good_price = ClearData(price).clean_data(u'\\xa0\\u20bd', True)\n",
    "print(good_price)\n",
    "discount_info = SendMail(good_price).is_discount( 5000, 'mvandreeva@101katok.ru', 'Mariya.V.Andreeva@yandex.ru' )"
   ]
  },
  {
   "cell_type": "code",
   "execution_count": 9,
   "metadata": {},
   "outputs": [
    {
     "name": "stdout",
     "output_type": "stream",
     "text": [
      "('Page code: ', 200)\n",
      "(1, u'1 369')\n",
      "[u'1 369']\n",
      "(1, u'1 369')\n",
      "[u'1 369']\n",
      "1369\n"
     ]
    }
   ],
   "source": [
    "check_page = CheckPrice('https://www.akusherstvo.ru/catalog/1415660-active-varezhki-uteplennye-dzheki/3547226/?sda=eyJwbGF0Zm9ybV90eXBlIjoiZGVza3RvcCIsInJlZiI6eyJwYWdlX3R5cGUiOjIsInBhZ2VfaWQiOjgsImJsb2NrX3R5cGUiOjIsInNlYXJjaF92YWx1ZSI6bnVsbH0sImJ1dHRvbiI6eyJwYWdlX3R5cGUiOjIsInBhZ2VfaWQiOjgsImJsb2NrX3R5cGUiOjJ9LCJhYiI6eyJhYl9mYXN0X3NlYXJjaCI6ImFrdXNoZXJzdHZvIn19')\n",
    "text = check_page.read_page()\n",
    "#print(text)\n",
    "prices = check_page.get_price('span','tovar-price-1415660 valuePrice js-product-price')\n",
    "print(prices)\n",
    "print(check_page.get_price('span','tovar-price-1415660 valuePrice js-product-price'))\n",
    "good_price = ClearData(prices[0]).clean_data(' ', True)\n",
    "print(good_price)\n",
    "discount_info = SendMail(good_price).is_discount( 700, 'mvandreeva@101katok.ru', 'Mariya.V.Andreeva@yandex.ru' )"
   ]
  },
  {
   "cell_type": "code",
   "execution_count": 12,
   "metadata": {},
   "outputs": [
    {
     "name": "stdout",
     "output_type": "stream",
     "text": [
      "('Page code: ', 200)\n",
      "(1, u'1 450')\n",
      "[u'1 450']\n",
      "(1, u'1 450')\n",
      "[u'1 450']\n",
      "1450\n"
     ]
    }
   ],
   "source": [
    "check_page = CheckPrice('https://www.akusherstvo.ru/catalog/1411486-shlem-jeda/3535076/?sda=eyJwbGF0Zm9ybV90eXBlIjoiZGVza3RvcCIsInJlZiI6eyJwYWdlX3R5cGUiOjIsInBhZ2VfaWQiOjUsImJsb2NrX3R5cGUiOjIsInNlYXJjaF92YWx1ZSI6bnVsbH0sImJ1dHRvbiI6eyJwYWdlX3R5cGUiOjIsInBhZ2VfaWQiOjUsImJsb2NrX3R5cGUiOjJ9LCJhYiI6eyJhYl9mYXN0X3NlYXJjaCI6ImFrdXNoZXJzdHZvIn19')\n",
    "text = check_page.read_page()\n",
    "#print(text)\n",
    "prices = check_page.get_price('span','tovar-price-1411486 valuePrice js-product-price')\n",
    "print(prices)\n",
    "print(check_page.get_price('span','tovar-price-1411486 valuePrice js-product-price'))\n",
    "good_price = ClearData(prices[0]).clean_data(' ', True)\n",
    "print(good_price)\n",
    "discount_info = SendMail(good_price).is_discount( 800, 'mvandreeva@101katok.ru', 'Mariya.V.Andreeva@yandex.ru' )"
   ]
  },
  {
   "cell_type": "code",
   "execution_count": 18,
   "metadata": {},
   "outputs": [
    {
     "name": "stdout",
     "output_type": "stream",
     "text": [
      "('Page code: ', 200)\n",
      "(1, u'6 999 \\u0440.')\n",
      "(2, u'699 \\u0440.')\n",
      "(3, u'799 \\u0440.')\n",
      "(4, u'1 099 \\u0440.')\n",
      "(5, u'1 599 \\u0440.')\n",
      "(6, u'4 999 \\u0440.')\n",
      "(7, u'2 699\\u0440.')\n",
      "(8, u'2 799\\u0440.')\n",
      "(9, u'4 999\\u0440.')\n",
      "(10, u'6 999\\u0440.')\n",
      "(11, u'6 999\\u0440.')\n",
      "(12, u'5 299 \\u0440.')\n",
      "(13, u'4 999\\u0440.')\n",
      "(14, u'3 599\\u0440.')\n",
      "(15, u'5 499 \\u0440.')\n",
      "[u'6 999 \\u0440.', u'699 \\u0440.', u'799 \\u0440.', u'1 099 \\u0440.', u'1 599 \\u0440.', u'4 999 \\u0440.', u'2 699\\u0440.', u'2 799\\u0440.', u'4 999\\u0440.', u'6 999\\u0440.', u'6 999\\u0440.', u'5 299 \\u0440.', u'4 999\\u0440.', u'3 599\\u0440.', u'5 499 \\u0440.']\n",
      "(1, u'6 999 \\u0440.')\n",
      "(2, u'699 \\u0440.')\n",
      "(3, u'799 \\u0440.')\n",
      "(4, u'1 099 \\u0440.')\n",
      "(5, u'1 599 \\u0440.')\n",
      "(6, u'3 199\\u0440.')\n",
      "(7, u'6 999\\u0440.')\n",
      "(8, u'3 499\\u0440.')\n",
      "(9, u'3 599\\u0440.')\n",
      "(10, u'6 999\\u0440.')\n",
      "(11, u'4 999\\u0440.')\n",
      "(12, u'3 699\\u0440.')\n",
      "(13, u'2 799\\u0440.')\n",
      "(14, u'3 999\\u0440.')\n",
      "(15, u'2 799\\u0440.')\n",
      "[u'6 999 \\u0440.', u'699 \\u0440.', u'799 \\u0440.', u'1 099 \\u0440.', u'1 599 \\u0440.', u'3 199\\u0440.', u'6 999\\u0440.', u'3 499\\u0440.', u'3 599\\u0440.', u'6 999\\u0440.', u'4 999\\u0440.', u'3 699\\u0440.', u'2 799\\u0440.', u'3 999\\u0440.', u'2 799\\u0440.']\n",
      "6999\n"
     ]
    }
   ],
   "source": [
    "check_page = CheckPrice('https://www.crockid.ru/good/kurtka-zelenyi-moh-geometricheskie-linii-vk-36077n1-gr-zelen')\n",
    "text = check_page.read_page()\n",
    "#print(text)\n",
    "prices = check_page.get_price('span','cur')\n",
    "print(prices)\n",
    "print(check_page.get_price('span','cur'))\n",
    "price = ClearData(prices[0]).clean_data(u' ')\n",
    "good_price = ClearData(price).clean_data(u'\\u0440.', True)\n",
    "print(good_price)\n",
    "discount_info = SendMail(good_price).is_discount( 4000, 'mvandreeva@101katok.ru', 'Mariya.V.Andreeva@yandex.ru' )    "
   ]
  },
  {
   "cell_type": "code",
   "execution_count": 20,
   "metadata": {},
   "outputs": [
    {
     "name": "stdout",
     "output_type": "stream",
     "text": [
      "('Page code: ', 200)\n",
      "(1, u'4 299 \\u0440.')\n",
      "(2, u'799\\u0440.')\n",
      "(3, u'1 599 \\u0440.')\n",
      "(4, u'6 999 \\u0440.')\n",
      "(5, u'5 499 \\u0440.')\n",
      "(6, u'3 799 \\u0440.')\n",
      "(7, u'3 799 \\u0440.')\n",
      "(8, u'2 499\\u0440.')\n",
      "(9, u'3 299 \\u0440.')\n",
      "(10, u'4 299 \\u0440.')\n",
      "(11, u'3 999 \\u0440.')\n",
      "(12, u'3 799 \\u0440.')\n",
      "(13, u'3 999 \\u0440.')\n",
      "(14, u'3 799 \\u0440.')\n",
      "(15, u'3 999 \\u0440.')\n",
      "[u'4 299 \\u0440.', u'799\\u0440.', u'1 599 \\u0440.', u'6 999 \\u0440.', u'5 499 \\u0440.', u'3 799 \\u0440.', u'3 799 \\u0440.', u'2 499\\u0440.', u'3 299 \\u0440.', u'4 299 \\u0440.', u'3 999 \\u0440.', u'3 799 \\u0440.', u'3 999 \\u0440.', u'3 799 \\u0440.', u'3 999 \\u0440.']\n",
      "(1, u'4 299 \\u0440.')\n",
      "(2, u'799\\u0440.')\n",
      "(3, u'1 599 \\u0440.')\n",
      "(4, u'6 999 \\u0440.')\n",
      "(5, u'5 499 \\u0440.')\n",
      "(6, u'2 999 \\u0440.')\n",
      "(7, u'3 799 \\u0440.')\n",
      "(8, u'3 799 \\u0440.')\n",
      "(9, u'2 999 \\u0440.')\n",
      "(10, u'3 999 \\u0440.')\n",
      "(11, u'3 999 \\u0440.')\n",
      "(12, u'3 999 \\u0440.')\n",
      "(13, u'3 799 \\u0440.')\n",
      "(14, u'3 799 \\u0440.')\n",
      "(15, u'2 999 \\u0440.')\n",
      "[u'4 299 \\u0440.', u'799\\u0440.', u'1 599 \\u0440.', u'6 999 \\u0440.', u'5 499 \\u0440.', u'2 999 \\u0440.', u'3 799 \\u0440.', u'3 799 \\u0440.', u'2 999 \\u0440.', u'3 999 \\u0440.', u'3 999 \\u0440.', u'3 999 \\u0440.', u'3 799 \\u0440.', u'3 799 \\u0440.', u'2 999 \\u0440.']\n",
      "4299\n"
     ]
    }
   ],
   "source": [
    "check_page = CheckPrice('https://www.crockid.ru/good/bryuki-ugolnyi-seryi-vk-40008221-gr-temno-seryi')\n",
    "text = check_page.read_page()\n",
    "#print(text)\n",
    "prices = check_page.get_price('span','cur')\n",
    "print(prices)\n",
    "print(check_page.get_price('span','cur'))\n",
    "price = ClearData(prices[0]).clean_data(u' ')\n",
    "good_price = ClearData(price).clean_data(u'\\u0440.', True)\n",
    "print(good_price)\n",
    "discount_info = SendMail(good_price).is_discount( 2500, 'mvandreeva@101katok.ru', 'Mariya.V.Andreeva@yandex.ru' )   "
   ]
  },
  {
   "cell_type": "code",
   "execution_count": 10,
   "metadata": {},
   "outputs": [
    {
     "ename": "AttributeError",
     "evalue": "module 'urllib' has no attribute 'urlopen'",
     "output_type": "error",
     "traceback": [
      "\u001b[0;31m---------------------------------------------------------------------------\u001b[0m",
      "\u001b[0;31mAttributeError\u001b[0m                            Traceback (most recent call last)",
      "Cell \u001b[0;32mIn [10], line 2\u001b[0m\n\u001b[1;32m      1\u001b[0m check_page \u001b[38;5;241m=\u001b[39m CheckPrice(\u001b[38;5;124m'\u001b[39m\u001b[38;5;124mhttps://new.chitai-gorod.ru/product/master-klass-sovershennyy-kod-2047176?productShelf=&shelfIndex=0&productIndex=0\u001b[39m\u001b[38;5;124m'\u001b[39m)\n\u001b[0;32m----> 2\u001b[0m text \u001b[38;5;241m=\u001b[39m \u001b[43mcheck_page\u001b[49m\u001b[38;5;241;43m.\u001b[39;49m\u001b[43mread_page\u001b[49m\u001b[43m(\u001b[49m\u001b[43m)\u001b[49m\n\u001b[1;32m      3\u001b[0m \u001b[38;5;66;03m#print(text)\u001b[39;00m\n\u001b[1;32m      4\u001b[0m prices \u001b[38;5;241m=\u001b[39m check_page\u001b[38;5;241m.\u001b[39mget_price(\u001b[38;5;124m'\u001b[39m\u001b[38;5;124mdiv\u001b[39m\u001b[38;5;124m'\u001b[39m,\u001b[38;5;124m'\u001b[39m\u001b[38;5;124mproduct-offer__price-currency product-offer__price-currency--sale\u001b[39m\u001b[38;5;124m'\u001b[39m)\n",
      "File \u001b[0;32m~/github/team22/users/mvandreeva/lesson_15_HW_web_prices/web_check.py:26\u001b[0m, in \u001b[0;36mCheckPrice.read_page\u001b[0;34m(self)\u001b[0m\n\u001b[1;32m     25\u001b[0m \u001b[38;5;28;01mdef\u001b[39;00m \u001b[38;5;21mread_page\u001b[39m(\u001b[38;5;28mself\u001b[39m):\n\u001b[0;32m---> 26\u001b[0m     page \u001b[38;5;241m=\u001b[39m \u001b[43murllib\u001b[49m\u001b[38;5;241;43m.\u001b[39;49m\u001b[43murlopen\u001b[49m(\u001b[38;5;28mself\u001b[39m\u001b[38;5;241m.\u001b[39m__url)\n\u001b[1;32m     27\u001b[0m     \u001b[38;5;28mprint\u001b[39m (\u001b[38;5;124m'\u001b[39m\u001b[38;5;124mPage code: \u001b[39m\u001b[38;5;124m'\u001b[39m, page\u001b[38;5;241m.\u001b[39mgetcode())\n\u001b[1;32m     28\u001b[0m     text \u001b[38;5;241m=\u001b[39m page\u001b[38;5;241m.\u001b[39mread()\n",
      "\u001b[0;31mAttributeError\u001b[0m: module 'urllib' has no attribute 'urlopen'"
     ]
    }
   ],
   "source": [
    "check_page = CheckPrice('https://new.chitai-gorod.ru/product/master-klass-sovershennyy-kod-2047176?productShelf=&shelfIndex=0&productIndex=0')\n",
    "text = check_page.read_page()\n",
    "#print(text)\n",
    "prices = check_page.get_price('div','product-offer__price-currency product-offer__price-currency--sale')\n",
    "print(prices)\n",
    "print(check_page.get_price('div','product-offer__price-currency product-offer__price-currency--sale'))\n",
    "price = ClearData(prices[0]).clean_data(u'\\n          ')\n",
    "price = ClearData(price).clean_data(u'\\xa0')\n",
    "good_price = ClearData(price).clean_data(u'\\u20bd\\n', True)\n",
    "\n",
    "print(good_price)\n",
    "discount_info = SendMail(good_price).is_discount( 1500, 'mvandreeva@101katok.ru', 'Mariya.V.Andreeva@yandex.ru' )   "
   ]
  },
  {
   "cell_type": "code",
   "execution_count": 25,
   "metadata": {},
   "outputs": [
    {
     "name": "stdout",
     "output_type": "stream",
     "text": [
      "('Page code: ', 200)\n",
      "(1, u'\\n          1\\xa0233 \\u20bd\\n        ')\n",
      "[u'\\n          1\\xa0233 \\u20bd\\n        ']\n",
      "(1, u'\\n          1\\xa0233 \\u20bd\\n        ')\n",
      "[u'\\n          1\\xa0233 \\u20bd\\n        ']\n",
      "1233\n"
     ]
    }
   ],
   "source": [
    "check_page = CheckPrice('https://new.chitai-gorod.ru/product/osnovy-uchebnogo-akademicheskogo-risunka-1896366?productShelf=Лучшие%20продажи%20Разделы&shelfIndex=3&productIndex=1')\n",
    "text = check_page.read_page()\n",
    "#print(text)\n",
    "prices = check_page.get_price('div','product-offer__price-currency product-offer__price-currency--sale')\n",
    "print(prices)\n",
    "print(check_page.get_price('div','product-offer__price-currency product-offer__price-currency--sale'))\n",
    "price = ClearData(prices[0]).clean_data(u'\\n          ')\n",
    "price = ClearData(price).clean_data(u'\\xa0')\n",
    "good_price = ClearData(price).clean_data(u'\\u20bd\\n', True)\n",
    "\n",
    "print(good_price)\n",
    "discount_info = SendMail(good_price).is_discount( 800, 'mvandreeva@101katok.ru', 'Mariya.V.Andreeva@yandex.ru' )   "
   ]
  },
  {
   "cell_type": "markdown",
   "metadata": {},
   "source": [
    "__________"
   ]
  },
  {
   "cell_type": "code",
   "execution_count": 8,
   "metadata": {},
   "outputs": [
    {
     "name": "stdout",
     "output_type": "stream",
     "text": [
      "('Page code: ', 200)\n",
      "(1, u'\\n          899 \\u20bd\\n        ')\n",
      "899\n"
     ]
    }
   ],
   "source": [
    "check_page = CheckPrice('https://new.chitai-gorod.ru/product/kamennyy-vek-2720540?productShelf=&shelfIndex=0&productIndex=0')\n",
    "text = check_page.read_page()\n",
    "#print(text)\n",
    "prices = check_page.get_price('div','product-offer__price-currency product-offer__price-currency--sale')\n",
    "#print(prices)\n",
    "#print(check_page.get_price('div','product-offer__price-currency product-offer__price-currency--sale'))\n",
    "price = ClearDataChitaiGorod(prices[0]).clean_data_chitai_gorod()\n",
    "print price\n",
    "discount_info = SendMail(price).is_discount( 600, 'mvandreeva@101katok.ru', 'Mariya.V.Andreeva@yandex.ru' )  "
   ]
  },
  {
   "cell_type": "code",
   "execution_count": null,
   "metadata": {},
   "outputs": [],
   "source": []
  }
 ],
 "metadata": {
  "kernelspec": {
   "display_name": "Python 3 (ipykernel)",
   "language": "python",
   "name": "python3"
  },
  "language_info": {
   "codemirror_mode": {
    "name": "ipython",
    "version": 3
   },
   "file_extension": ".py",
   "mimetype": "text/x-python",
   "name": "python",
   "nbconvert_exporter": "python",
   "pygments_lexer": "ipython3",
   "version": "3.9.7"
  }
 },
 "nbformat": 4,
 "nbformat_minor": 2
}
