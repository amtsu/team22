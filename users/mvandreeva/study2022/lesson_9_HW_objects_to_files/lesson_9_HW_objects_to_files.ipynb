{
 "cells": [
  {
   "cell_type": "code",
   "execution_count": 2,
   "metadata": {},
   "outputs": [],
   "source": [
    "!touch file.txt"
   ]
  },
  {
   "cell_type": "code",
   "execution_count": 7,
   "metadata": {},
   "outputs": [],
   "source": [
    "import pickle\n",
    "# созадаем функцию которая записывает переданную ей переменую в фаил lesson_9/v1\n",
    "def func_write(file_name, data):\n",
    "    description_file = open(file_name, 'wb')\n",
    "    pickle.dump(data, description_file)\n",
    "    description_file.close()\n",
    "    \n",
    "file_name = 'file.txt'\n",
    "test_data = sport = {\n",
    "    'winter': 'ski_or_diy',\n",
    "    'summer': 'bike'\n",
    "}\n",
    "\n",
    "func_write(file_name, test_data)"
   ]
  },
  {
   "cell_type": "code",
   "execution_count": 8,
   "metadata": {},
   "outputs": [
    {
     "name": "stdout",
     "output_type": "stream",
     "text": [
      "{'summer': 'bike', 'winter': 'ski_or_diy'}\n"
     ]
    }
   ],
   "source": [
    "# ДЗ сделать функцию чтения\n",
    "def read_file(file_name):\n",
    "    description_file = open(file_name, 'rb')\n",
    "    new_data = pickle.load(description_file)\n",
    "    description_file.close()\n",
    "    return new_data\n",
    "    \n",
    "print read_file(file_name)"
   ]
  },
  {
   "cell_type": "code",
   "execution_count": null,
   "metadata": {},
   "outputs": [],
   "source": []
  }
 ],
 "metadata": {
  "kernelspec": {
   "display_name": "Python 2",
   "language": "python",
   "name": "python2"
  },
  "language_info": {
   "codemirror_mode": {
    "name": "ipython",
    "version": 2
   },
   "file_extension": ".py",
   "mimetype": "text/x-python",
   "name": "python",
   "nbconvert_exporter": "python",
   "pygments_lexer": "ipython2",
   "version": "2.7.12"
  }
 },
 "nbformat": 4,
 "nbformat_minor": 2
}
