{
 "cells": [
  {
   "cell_type": "code",
   "execution_count": 1,
   "metadata": {},
   "outputs": [
    {
     "data": {
      "text/plain": [
       "70"
      ]
     },
     "execution_count": 1,
     "metadata": {},
     "output_type": "execute_result"
    }
   ],
   "source": [
    "((5 + 30) * 20) / 10"
   ]
  },
  {
   "cell_type": "code",
   "execution_count": 2,
   "metadata": {},
   "outputs": [
    {
     "data": {
      "text/plain": [
       "65"
      ]
     },
     "execution_count": 2,
     "metadata": {},
     "output_type": "execute_result"
    }
   ],
   "source": [
    "5 + 30 * 20 / 10"
   ]
  },
  {
   "cell_type": "code",
   "execution_count": 3,
   "metadata": {},
   "outputs": [
    {
     "name": "stdout",
     "output_type": "stream",
     "text": [
      "200\n"
     ]
    }
   ],
   "source": [
    "fred = 200\n",
    "john = fred\n",
    "print(john)"
   ]
  },
  {
   "cell_type": "code",
   "execution_count": 5,
   "metadata": {},
   "outputs": [
    {
     "data": {
      "text/plain": [
       "3514"
      ]
     },
     "execution_count": 5,
     "metadata": {},
     "output_type": "execute_result"
    }
   ],
   "source": [
    "20 + 10 * 365 - 3 * 52"
   ]
  },
  {
   "cell_type": "code",
   "execution_count": 7,
   "metadata": {},
   "outputs": [
    {
     "data": {
      "text/plain": [
       "3514"
      ]
     },
     "execution_count": 7,
     "metadata": {},
     "output_type": "execute_result"
    }
   ],
   "source": [
    "found_coins = 20\n",
    "magic_coins = 10\n",
    "stolen_coins = 3\n",
    "found_coins + magic_coins * 365 - stolen_coins * 52"
   ]
  },
  {
   "cell_type": "code",
   "execution_count": 8,
   "metadata": {},
   "outputs": [
    {
     "name": "stdout",
     "output_type": "stream",
     "text": [
      "Что едят на полдник динозавры?\n",
      "ТиРекс-кекс!\n"
     ]
    }
   ],
   "source": [
    "fred = '''Что едят на полдник динозавры?\n",
    "ТиРекс-кекс!''' \n",
    "print(fred)"
   ]
  },
  {
   "cell_type": "code",
   "execution_count": 9,
   "metadata": {},
   "outputs": [
    {
     "name": "stdout",
     "output_type": "stream",
     "text": [
      "Мой счет: 1000 очков\n"
     ]
    }
   ],
   "source": [
    "myscore = 1000\n",
    "message = 'Мой счет: %s очков'\n",
    "print(message % myscore)"
   ]
  },
  {
   "cell_type": "code",
   "execution_count": 10,
   "metadata": {},
   "outputs": [
    {
     "name": "stdout",
     "output_type": "stream",
     "text": [
      "Коленка: приспособление для поиска мебели втемноте\n",
      "Лодыжка: приспособление для поиска мебели втемноте\n"
     ]
    }
   ],
   "source": [
    "joke_text = '%s: приспособление для поиска мебели втемноте'\n",
    "bodypart1 = 'Коленка'\n",
    "bodypart2 = 'Лодыжка'\n",
    "print(joke_text % bodypart1) \n",
    "print(joke_text % bodypart2)"
   ]
  },
  {
   "cell_type": "code",
   "execution_count": 11,
   "metadata": {},
   "outputs": [
    {
     "name": "stdout",
     "output_type": "stream",
     "text": [
      "Что сказало число 0 числу 8? Славный поясок!\n"
     ]
    }
   ],
   "source": [
    "nums = 'Что сказало число %s числу %s? Славный поясок!'\n",
    "print(nums % (0, 8))"
   ]
  },
  {
   "cell_type": "code",
   "execution_count": 12,
   "metadata": {},
   "outputs": [
    {
     "name": "stdout",
     "output_type": "stream",
     "text": [
      "aaaaaaaaaa\n"
     ]
    }
   ],
   "source": [
    "print(10 * 'a')"
   ]
  },
  {
   "cell_type": "code",
   "execution_count": 19,
   "metadata": {},
   "outputs": [
    {
     "name": "stdout",
     "output_type": "stream",
     "text": [
      "глаз тритона\n"
     ]
    }
   ],
   "source": [
    "wizard_list = ['паучьи лапки', 'жабий палец', 'глаз тритона', 'крыло летучей мыши', 'жир слизня', 'перхоть змеи']\n",
    "print(wizard_list[2])"
   ]
  },
  {
   "cell_type": "code",
   "execution_count": 20,
   "metadata": {},
   "outputs": [
    {
     "name": "stdout",
     "output_type": "stream",
     "text": [
      "['\\xd0\\xbf\\xd0\\xb0\\xd1\\x83\\xd1\\x87\\xd1\\x8c\\xd0\\xb8 \\xd0\\xbb\\xd0\\xb0\\xd0\\xbf\\xd0\\xba\\xd0\\xb8', '\\xd0\\xb6\\xd0\\xb0\\xd0\\xb1\\xd0\\xb8\\xd0\\xb8\\xcc\\x86 \\xd0\\xbf\\xd0\\xb0\\xd0\\xbb\\xd0\\xb5\\xd1\\x86', '\\xd1\\x8f\\xd0\\xb7\\xd1\\x8b\\xd0\\xba \\xd1\\x83\\xd0\\xbb\\xd0\\xb8\\xd1\\x82\\xd0\\xba\\xd0\\xb8', '\\xd0\\xba\\xd1\\x80\\xd1\\x8b\\xd0\\xbb\\xd0\\xbe \\xd0\\xbb\\xd0\\xb5\\xd1\\x82\\xd1\\x83\\xd1\\x87\\xd0\\xb5\\xd0\\xb8\\xcc\\x86 \\xd0\\xbc\\xd1\\x8b\\xd1\\x88\\xd0\\xb8', '\\xd0\\xb6\\xd0\\xb8\\xd1\\x80 \\xd1\\x81\\xd0\\xbb\\xd0\\xb8\\xd0\\xb7\\xd0\\xbd\\xd1\\x8f', '\\xd0\\xbf\\xd0\\xb5\\xd1\\x80\\xd1\\x85\\xd0\\xbe\\xd1\\x82\\xd1\\x8c \\xd0\\xb7\\xd0\\xbc\\xd0\\xb5\\xd0\\xb8']\n"
     ]
    }
   ],
   "source": [
    "wizard_list[2] = 'язык улитки'\n",
    "print(wizard_list)\n",
    "#['паучьи лапки', 'жабий палец', 'язык улитки', 'крыло летучей мыши', 'жир слизня', 'перхоть змеи']"
   ]
  },
  {
   "cell_type": "code",
   "execution_count": 16,
   "metadata": {},
   "outputs": [
    {
     "name": "stdout",
     "output_type": "stream",
     "text": [
      "[2, 3, 4]\n"
     ]
    }
   ],
   "source": [
    "#wizard_list = [0,1,2,3,4,5]\n",
    "print(wizard_list[2:5])\n",
    "#['язык улитки', 'крыло летучей мыши', 'жир слизня']"
   ]
  },
  {
   "cell_type": "code",
   "execution_count": 17,
   "metadata": {},
   "outputs": [
    {
     "name": "stdout",
     "output_type": "stream",
     "text": [
      "[7, '\\xd1\\x80\\xd0\\xb0\\xd0\\xb7', '\\xd0\\xbe\\xd1\\x82\\xd0\\xbf\\xd0\\xb5\\xd0\\xb8\\xcc\\x86', 1, '\\xd1\\x80\\xd0\\xb0\\xd0\\xb7', '\\xd0\\xbe\\xd1\\x82\\xd1\\x8a\\xd0\\xb5\\xd1\\x88\\xd1\\x8c']\n"
     ]
    }
   ],
   "source": [
    "numbers_and_strings = [7, 'раз', 'отпей', 1, 'раз', 'отъешь']\n",
    "print(numbers_and_strings)\n",
    "#[7, 'раз', 'отпей', 1, 'раз', 'отъешь']"
   ]
  },
  {
   "cell_type": "code",
   "execution_count": 18,
   "metadata": {},
   "outputs": [
    {
     "name": "stdout",
     "output_type": "stream",
     "text": [
      "[[1, 2, 3, 4, 5], ['\\xd1\\x85\\xd0\\xb2\\xd0\\xb0\\xd1\\x82\\xd0\\xb8\\xd1\\x82', '\\xd1\\x86\\xd0\\xb8\\xd1\\x84\\xd0\\xb5\\xd1\\x80\\xd0\\xba\\xd0\\xb8', '\\xd1\\x81\\xd1\\x87\\xd0\\xb8\\xd1\\x82\\xd0\\xb0\\xd1\\x82\\xd1\\x8c']]\n"
     ]
    }
   ],
   "source": [
    "numbers = [1, 2, 3, 4, 5]\n",
    "strings = ['хватит', 'циферки', 'считать']\n",
    "mylist = [numbers, strings]\n",
    "print(mylist)"
   ]
  },
  {
   "cell_type": "code",
   "execution_count": 21,
   "metadata": {},
   "outputs": [
    {
     "name": "stdout",
     "output_type": "stream",
     "text": [
      "['\\xd0\\xbf\\xd0\\xb0\\xd1\\x83\\xd1\\x87\\xd1\\x8c\\xd0\\xb8 \\xd0\\xbb\\xd0\\xb0\\xd0\\xbf\\xd0\\xba\\xd0\\xb8', '\\xd0\\xb6\\xd0\\xb0\\xd0\\xb1\\xd0\\xb8\\xd0\\xb8\\xcc\\x86 \\xd0\\xbf\\xd0\\xb0\\xd0\\xbb\\xd0\\xb5\\xd1\\x86', '\\xd1\\x8f\\xd0\\xb7\\xd1\\x8b\\xd0\\xba \\xd1\\x83\\xd0\\xbb\\xd0\\xb8\\xd1\\x82\\xd0\\xba\\xd0\\xb8', '\\xd0\\xba\\xd1\\x80\\xd1\\x8b\\xd0\\xbb\\xd0\\xbe \\xd0\\xbb\\xd0\\xb5\\xd1\\x82\\xd1\\x83\\xd1\\x87\\xd0\\xb5\\xd0\\xb8\\xcc\\x86 \\xd0\\xbc\\xd1\\x8b\\xd1\\x88\\xd0\\xb8', '\\xd0\\xb6\\xd0\\xb8\\xd1\\x80 \\xd1\\x81\\xd0\\xbb\\xd0\\xb8\\xd0\\xb7\\xd0\\xbd\\xd1\\x8f', '\\xd0\\xbf\\xd0\\xb5\\xd1\\x80\\xd1\\x85\\xd0\\xbe\\xd1\\x82\\xd1\\x8c \\xd0\\xb7\\xd0\\xbc\\xd0\\xb5\\xd0\\xb8', '\\xd0\\xbc\\xd0\\xb5\\xd0\\xb4\\xd0\\xb2\\xd0\\xb5\\xd0\\xb6\\xd0\\xb8\\xd0\\xb8\\xcc\\x86 \\xd0\\xba\\xd0\\xbe\\xd0\\xb3\\xd0\\xbe\\xd1\\x82\\xd1\\x8c']\n"
     ]
    }
   ],
   "source": [
    "wizard_list.append('медвежий коготь')\n",
    "print(wizard_list)\n",
    "#['паучьи лапки', 'жабий палец', 'язык улитки', 'крыло летучей мыши', 'жир слизня', 'перхоть змеи', 'медвежий коготь']"
   ]
  },
  {
   "cell_type": "code",
   "execution_count": 27,
   "metadata": {},
   "outputs": [
    {
     "name": "stdout",
     "output_type": "stream",
     "text": [
      "['\\xd0\\xbf\\xd0\\xb0\\xd1\\x83\\xd1\\x87\\xd1\\x8c\\xd0\\xb8 \\xd0\\xbb\\xd0\\xb0\\xd0\\xbf\\xd0\\xba\\xd0\\xb8', '\\xd0\\xb6\\xd0\\xb0\\xd0\\xb1\\xd0\\xb8\\xd0\\xb8\\xcc\\x86 \\xd0\\xbf\\xd0\\xb0\\xd0\\xbb\\xd0\\xb5\\xd1\\x86', '\\xd1\\x8f\\xd0\\xb7\\xd1\\x8b\\xd0\\xba \\xd1\\x83\\xd0\\xbb\\xd0\\xb8\\xd1\\x82\\xd0\\xba\\xd0\\xb8', '\\xd0\\xba\\xd1\\x80\\xd1\\x8b\\xd0\\xbb\\xd0\\xbe \\xd0\\xbb\\xd0\\xb5\\xd1\\x82\\xd1\\x83\\xd1\\x87\\xd0\\xb5\\xd0\\xb8\\xcc\\x86 \\xd0\\xbc\\xd1\\x8b\\xd1\\x88\\xd0\\xb8', '\\xd0\\xb6\\xd0\\xb8\\xd1\\x80 \\xd1\\x81\\xd0\\xbb\\xd0\\xb8\\xd0\\xb7\\xd0\\xbd\\xd1\\x8f', '\\xd0\\xbf\\xd0\\xb5\\xd1\\x80\\xd1\\x85\\xd0\\xbe\\xd1\\x82\\xd1\\x8c \\xd0\\xb7\\xd0\\xbc\\xd0\\xb5\\xd0\\xb8', '\\xd0\\xbc\\xd0\\xb5\\xd0\\xb4\\xd0\\xb2\\xd0\\xb5\\xd0\\xb6\\xd0\\xb8\\xd0\\xb8\\xcc\\x86 \\xd0\\xba\\xd0\\xbe\\xd0\\xb3\\xd0\\xbe\\xd1\\x82\\xd1\\x8c', '\\xd0\\xbc\\xd0\\xb0\\xd0\\xbd\\xd0\\xb4\\xd1\\x80\\xd0\\xb0\\xd0\\xb3\\xd0\\xbe\\xd1\\x80\\xd0\\xb0', '\\xd0\\xb1\\xd0\\xbe\\xd0\\xbb\\xd0\\xb8\\xd0\\xb3\\xd0\\xbe\\xd0\\xbb\\xd0\\xbe\\xd0\\xb2', '\\xd0\\xb1\\xd0\\xbe\\xd0\\xbb\\xd0\\xbe\\xd1\\x82\\xd0\\xbd\\xd1\\x8b\\xd0\\xb8\\xcc\\x86 \\xd0\\xb3\\xd0\\xb0\\xd0\\xb7']\n"
     ]
    }
   ],
   "source": [
    "wizard_list = ['паучьи лапки', 'жабий палец', 'язык улитки', 'крыло летучей мыши', 'жир слизня', 'перхоть змеи', 'медвежий коготь']\n",
    "wizard_list.append('мандрагора') \n",
    "wizard_list.append('болиголов')\n",
    "wizard_list.append('болотный газ') \n",
    "print(wizard_list)\n",
    "#['паучьи лапки', 'жабий палец', 'язык улитки', 'крыло летучей мыши', 'жир слизня', 'перхоть змеи', 'медвежий коготь','мандрагора','болиголов','болотный газ']"
   ]
  },
  {
   "cell_type": "code",
   "execution_count": null,
   "metadata": {},
   "outputs": [],
   "source": [
    "del wizard_list[5] # 'перхоть змеи'\n",
    "print(wizard_list)\n",
    "#['паучьи лапки', 'жабий палец', 'язык улитки', 'крыло летучей мыши', 'жир слизня', 'медвежий коготь','мандрагора','болиголов','болотный газ']"
   ]
  },
  {
   "cell_type": "code",
   "execution_count": 28,
   "metadata": {},
   "outputs": [
    {
     "name": "stdout",
     "output_type": "stream",
     "text": [
      "['\\xd0\\xbf\\xd0\\xb0\\xd1\\x83\\xd1\\x87\\xd1\\x8c\\xd0\\xb8 \\xd0\\xbb\\xd0\\xb0\\xd0\\xbf\\xd0\\xba\\xd0\\xb8', '\\xd0\\xb6\\xd0\\xb0\\xd0\\xb1\\xd0\\xb8\\xd0\\xb8\\xcc\\x86 \\xd0\\xbf\\xd0\\xb0\\xd0\\xbb\\xd0\\xb5\\xd1\\x86', '\\xd1\\x8f\\xd0\\xb7\\xd1\\x8b\\xd0\\xba \\xd1\\x83\\xd0\\xbb\\xd0\\xb8\\xd1\\x82\\xd0\\xba\\xd0\\xb8', '\\xd0\\xba\\xd1\\x80\\xd1\\x8b\\xd0\\xbb\\xd0\\xbe \\xd0\\xbb\\xd0\\xb5\\xd1\\x82\\xd1\\x83\\xd1\\x87\\xd0\\xb5\\xd0\\xb8\\xcc\\x86 \\xd0\\xbc\\xd1\\x8b\\xd1\\x88\\xd0\\xb8', '\\xd0\\xb6\\xd0\\xb8\\xd1\\x80 \\xd1\\x81\\xd0\\xbb\\xd0\\xb8\\xd0\\xb7\\xd0\\xbd\\xd1\\x8f', '\\xd0\\xbf\\xd0\\xb5\\xd1\\x80\\xd1\\x85\\xd0\\xbe\\xd1\\x82\\xd1\\x8c \\xd0\\xb7\\xd0\\xbc\\xd0\\xb5\\xd0\\xb8', '\\xd0\\xb1\\xd0\\xbe\\xd0\\xbb\\xd0\\xbe\\xd1\\x82\\xd0\\xbd\\xd1\\x8b\\xd0\\xb8\\xcc\\x86 \\xd0\\xb3\\xd0\\xb0\\xd0\\xb7']\n"
     ]
    }
   ],
   "source": [
    "del wizard_list[8]\n",
    "del wizard_list[7]\n",
    "del wizard_list[6]\n",
    "print(wizard_list)\n",
    "#['паучьи лапки', 'жабий палец', 'язык улитки', 'крыло летучей мыши', 'жир слизня', 'медвежий коготь']"
   ]
  },
  {
   "cell_type": "code",
   "execution_count": 29,
   "metadata": {},
   "outputs": [
    {
     "name": "stdout",
     "output_type": "stream",
     "text": [
      "[1, 2, 3, 4, 5, '\\xd1\\x8f', '\\xd0\\xb7\\xd0\\xb0\\xd0\\xb1\\xd1\\x80\\xd0\\xb0\\xd0\\xbb\\xd1\\x81\\xd1\\x8f', '\\xd0\\xbf\\xd0\\xbe\\xd0\\xb4', '\\xd0\\xba\\xd1\\x80\\xd0\\xbe\\xd0\\xb2\\xd0\\xb0\\xd1\\x82\\xd1\\x8c']\n"
     ]
    }
   ],
   "source": [
    "list1 = [1, 2, 3, 4, 5]\n",
    "list2 = ['я', 'забрался', 'под', 'кровать']\n",
    "print(list1 + list2)"
   ]
  },
  {
   "cell_type": "code",
   "execution_count": 30,
   "metadata": {},
   "outputs": [
    {
     "name": "stdout",
     "output_type": "stream",
     "text": [
      "[1, 2, 1, 2, 1, 2, 1, 2, 1, 2]\n"
     ]
    }
   ],
   "source": [
    "list1 = [1, 2]\n",
    "print(list1 * 5)"
   ]
  },
  {
   "cell_type": "code",
   "execution_count": 2,
   "metadata": {},
   "outputs": [],
   "source": [
    "favorite_sports = ['Ральф Уильямс, Футбол', \n",
    "'Майкл Типпетт, Баскетбол',\n",
    "'Эдвард Элгар, Бейсбол',\n",
    "'Ребекка Кларк, Нетбол', \n",
    "'Этель Смит, Бадминтон', 'Фрэнк Бридж, Регби']"
   ]
  },
  {
   "cell_type": "code",
   "execution_count": 3,
   "metadata": {},
   "outputs": [],
   "source": [
    "favorite_sports = {'Ральф Уильямс': 'Футбол', 'Майкл Типпетт': 'Баскетбол',\n",
    "'Эдвард Элгар': 'Бейсбол',\n",
    "'Ребекка Кларк': 'Нетбол', \n",
    "'Этель Смит': 'Бадминтон', 'Фрэнк Бридж': 'Регби'} "
   ]
  },
  {
   "cell_type": "code",
   "execution_count": 4,
   "metadata": {},
   "outputs": [
    {
     "name": "stdout",
     "output_type": "stream",
     "text": [
      "Нетбол\n"
     ]
    }
   ],
   "source": [
    "print(favorite_sports['Ребекка Кларк'])"
   ]
  },
  {
   "cell_type": "code",
   "execution_count": 5,
   "metadata": {},
   "outputs": [
    {
     "name": "stdout",
     "output_type": "stream",
     "text": [
      "{'\\xd0\\xad\\xd0\\xb4\\xd0\\xb2\\xd0\\xb0\\xd1\\x80\\xd0\\xb4 \\xd0\\xad\\xd0\\xbb\\xd0\\xb3\\xd0\\xb0\\xd1\\x80': '\\xd0\\x91\\xd0\\xb5\\xd0\\xb8\\xcc\\x86\\xd1\\x81\\xd0\\xb1\\xd0\\xbe\\xd0\\xbb', '\\xd0\\x9c\\xd0\\xb0\\xd0\\xb8\\xcc\\x86\\xd0\\xba\\xd0\\xbb \\xd0\\xa2\\xd0\\xb8\\xd0\\xbf\\xd0\\xbf\\xd0\\xb5\\xd1\\x82\\xd1\\x82': '\\xd0\\x91\\xd0\\xb0\\xd1\\x81\\xd0\\xba\\xd0\\xb5\\xd1\\x82\\xd0\\xb1\\xd0\\xbe\\xd0\\xbb', '\\xd0\\xa0\\xd0\\xb5\\xd0\\xb1\\xd0\\xb5\\xd0\\xba\\xd0\\xba\\xd0\\xb0 \\xd0\\x9a\\xd0\\xbb\\xd0\\xb0\\xd1\\x80\\xd0\\xba': '\\xd0\\x9d\\xd0\\xb5\\xd1\\x82\\xd0\\xb1\\xd0\\xbe\\xd0\\xbb', '\\xd0\\xa0\\xd0\\xb0\\xd0\\xbb\\xd1\\x8c\\xd1\\x84 \\xd0\\xa3\\xd0\\xb8\\xd0\\xbb\\xd1\\x8c\\xd1\\x8f\\xd0\\xbc\\xd1\\x81': '\\xd0\\xa4\\xd1\\x83\\xd1\\x82\\xd0\\xb1\\xd0\\xbe\\xd0\\xbb', '\\xd0\\xa4\\xd1\\x80\\xd1\\x8d\\xd0\\xbd\\xd0\\xba \\xd0\\x91\\xd1\\x80\\xd0\\xb8\\xd0\\xb4\\xd0\\xb6': '\\xd0\\xa0\\xd0\\xb5\\xd0\\xb3\\xd0\\xb1\\xd0\\xb8'}\n"
     ]
    }
   ],
   "source": [
    "del favorite_sports['Этель Смит']\n",
    "print(favorite_sports)\n",
    "#favorite_sports = {'Ральф Уильямс': 'Футбол', 'Майкл Типпетт': 'Баскетбол',\n",
    "#'Эдвард Элгар': 'Бейсбол',\n",
    "#'Ребекка Кларк': 'Нетбол', \n",
    "#'Фрэнк Бридж': 'Регби'} "
   ]
  },
  {
   "cell_type": "code",
   "execution_count": 7,
   "metadata": {},
   "outputs": [
    {
     "name": "stdout",
     "output_type": "stream",
     "text": [
      "{'\\xd0\\xad\\xd0\\xb4\\xd0\\xb2\\xd0\\xb0\\xd1\\x80\\xd0\\xb4 \\xd0\\xad\\xd0\\xbb\\xd0\\xb3\\xd0\\xb0\\xd1\\x80': '\\xd0\\x91\\xd0\\xb5\\xd0\\xb8\\xcc\\x86\\xd1\\x81\\xd0\\xb1\\xd0\\xbe\\xd0\\xbb', '\\xd0\\x9c\\xd0\\xb0\\xd0\\xb8\\xcc\\x86\\xd0\\xba\\xd0\\xbb \\xd0\\xa2\\xd0\\xb8\\xd0\\xbf\\xd0\\xbf\\xd0\\xb5\\xd1\\x82\\xd1\\x82': '\\xd0\\x91\\xd0\\xb0\\xd1\\x81\\xd0\\xba\\xd0\\xb5\\xd1\\x82\\xd0\\xb1\\xd0\\xbe\\xd0\\xbb', '\\xd0\\xa0\\xd0\\xb5\\xd0\\xb1\\xd0\\xb5\\xd0\\xba\\xd0\\xba\\xd0\\xb0 \\xd0\\x9a\\xd0\\xbb\\xd0\\xb0\\xd1\\x80\\xd0\\xba': '\\xd0\\x9d\\xd0\\xb5\\xd1\\x82\\xd0\\xb1\\xd0\\xbe\\xd0\\xbb', '\\xd0\\xa0\\xd0\\xb0\\xd0\\xbb\\xd1\\x8c\\xd1\\x84 \\xd0\\xa3\\xd0\\xb8\\xd0\\xbb\\xd1\\x8c\\xd1\\x8f\\xd0\\xbc\\xd1\\x81': '\\xd0\\xa5\\xd0\\xbe\\xd0\\xba\\xd0\\xba\\xd0\\xb5\\xd0\\xb8\\xcc\\x86 \\xd0\\xbd\\xd0\\xb0\\xd0\\xbb\\xd1\\x8c\\xd0\\xb4\\xd1\\x83', '\\xd0\\xa4\\xd1\\x80\\xd1\\x8d\\xd0\\xbd\\xd0\\xba \\xd0\\x91\\xd1\\x80\\xd0\\xb8\\xd0\\xb4\\xd0\\xb6': '\\xd0\\xa0\\xd0\\xb5\\xd0\\xb3\\xd0\\xb1\\xd0\\xb8'}\n"
     ]
    }
   ],
   "source": [
    "favorite_sports['Ральф Уильямс'] = 'Хоккей нальду'\n",
    "print(favorite_sports)\n",
    "#favorite_sports = {'Ральф Уильямс': 'Хоккей нальду', 'Майкл Типпетт': 'Баскетбол',\n",
    "#'Эдвард Элгар': 'Бейсбол',\n",
    "#'Ребекка Кларк': 'Нетбол', \n",
    "#'Фрэнк Бридж': 'Регби'} "
   ]
  },
  {
   "cell_type": "code",
   "execution_count": 8,
   "metadata": {},
   "outputs": [],
   "source": [
    "age = 13\n",
    "if age > 20:\n",
    "    print('Как-то вы староваты!')"
   ]
  },
  {
   "cell_type": "code",
   "execution_count": 9,
   "metadata": {},
   "outputs": [],
   "source": [
    "age = 10\n",
    "if age > 10:\n",
    "    print('Вы слишком стары для моих шуток!')"
   ]
  },
  {
   "cell_type": "code",
   "execution_count": 11,
   "metadata": {},
   "outputs": [
    {
     "name": "stdout",
     "output_type": "stream",
     "text": [
      "Тсс! Это секрет.\n"
     ]
    }
   ],
   "source": [
    "age = 8\n",
    "if age == 12:\n",
    "    print(\"Свинья шлепнулась в грязь!\")\n",
    "else:\n",
    "    print(\"Тсс! Это секрет.\")"
   ]
  },
  {
   "cell_type": "code",
   "execution_count": 12,
   "metadata": {},
   "outputs": [
    {
     "name": "stdout",
     "output_type": "stream",
     "text": [
      "Что сказал 0 числу 8?\n",
      "Привет, ребята!\n",
      "13 + 49 + 84 + 155 + 97: что получится? Головная боль!\n"
     ]
    }
   ],
   "source": [
    "age = 12\n",
    "if age == 10:\n",
    "    print(\"Что выйдет, если клюква наденет штаны?\")\n",
    "    print(\"Брюква!\")\n",
    "elif age == 11:\n",
    "    print(\"Что сказала зеленая виноградина синей виноградине?\")\n",
    "    print(\"Дыши! Дыши!\") \n",
    "elif age == 12:\n",
    "    print(\"Что сказал 0 числу 8?\")\n",
    "    print(\"Привет, ребята!\")\n",
    "elif age == 13:\n",
    "    print(\"Что такое: напотолке сидит ихохочет?\")\n",
    "    print(\"Муха-хохотуха!\") \n",
    "else: \n",
    "    print(\"Что-что?\")\n",
    "if age == 10 or age == 11 or age == 12 or age == 13:\n",
    "    print('13 + 49 + 84 + 155 + 97: что получится? Головная боль!') \n",
    "else: \n",
    "    print('Что-что?')"
   ]
  },
  {
   "cell_type": "code",
   "execution_count": 13,
   "metadata": {},
   "outputs": [
    {
     "name": "stdout",
     "output_type": "stream",
     "text": [
      "13 + 49 + 84 + 155 + 97: что получится? Головная боль!\n"
     ]
    }
   ],
   "source": [
    "if age >= 10 and age <= 13:\n",
    "    print('13 + 49 + 84 + 155 + 97: что получится? Головная боль!') \n",
    "else: \n",
    "    print('Что-что?')"
   ]
  },
  {
   "cell_type": "code",
   "execution_count": 14,
   "metadata": {},
   "outputs": [
    {
     "name": "stdout",
     "output_type": "stream",
     "text": [
      "None\n"
     ]
    }
   ],
   "source": [
    "myval = None\n",
    "print(myval)"
   ]
  },
  {
   "cell_type": "code",
   "execution_count": 15,
   "metadata": {},
   "outputs": [
    {
     "name": "stdout",
     "output_type": "stream",
     "text": [
      "В переменной myval ничего нет\n"
     ]
    }
   ],
   "source": [
    "myval = None\n",
    "if myval == None:\n",
    "    print(\"В переменной myval ничего нет\")"
   ]
  },
  {
   "cell_type": "code",
   "execution_count": 16,
   "metadata": {},
   "outputs": [
    {
     "name": "stdout",
     "output_type": "stream",
     "text": [
      "Как лучше всего общаться смонстром?\n",
      "Издалека!\n"
     ]
    }
   ],
   "source": [
    "age = 10\n",
    "if age == 10:\n",
    "    print(\"Как лучше всего общаться смонстром?\") \n",
    "    print(\"Издалека!\")"
   ]
  },
  {
   "cell_type": "code",
   "execution_count": 17,
   "metadata": {},
   "outputs": [],
   "source": [
    "age = '10'\n",
    "if age == 10:\n",
    "    print(\"Как лучше всего общаться смонстром?\")\n",
    "    print(\"Издалека!\") "
   ]
  },
  {
   "cell_type": "code",
   "execution_count": 18,
   "metadata": {},
   "outputs": [],
   "source": [
    "age = '10'\n",
    "converted_age = int(age)"
   ]
  },
  {
   "cell_type": "code",
   "execution_count": 19,
   "metadata": {},
   "outputs": [],
   "source": [
    "age = 10 \n",
    "converted_age = str(age)"
   ]
  },
  {
   "cell_type": "code",
   "execution_count": 20,
   "metadata": {},
   "outputs": [],
   "source": [
    "age = '10'\n",
    "converted_age = int(age)"
   ]
  },
  {
   "cell_type": "code",
   "execution_count": 21,
   "metadata": {},
   "outputs": [
    {
     "name": "stdout",
     "output_type": "stream",
     "text": [
      "Как лучше всего общаться смонстром?\n",
      "Издалека!\n"
     ]
    }
   ],
   "source": [
    "if converted_age == 10:\n",
    "    print(\"Как лучше всего общаться смонстром?\")\n",
    "    print(\"Издалека!\") "
   ]
  },
  {
   "cell_type": "code",
   "execution_count": 22,
   "metadata": {},
   "outputs": [
    {
     "ename": "ValueError",
     "evalue": "invalid literal for int() with base 10: '10.5'",
     "output_type": "error",
     "traceback": [
      "\u001b[0;31m---------------------------------------------------------------------------\u001b[0m",
      "\u001b[0;31mValueError\u001b[0m                                Traceback (most recent call last)",
      "\u001b[0;32m<ipython-input-22-23f06c29ed29>\u001b[0m in \u001b[0;36m<module>\u001b[0;34m()\u001b[0m\n\u001b[1;32m      1\u001b[0m \u001b[0mage\u001b[0m \u001b[0;34m=\u001b[0m \u001b[0;34m'10.5'\u001b[0m\u001b[0;34m\u001b[0m\u001b[0m\n\u001b[0;32m----> 2\u001b[0;31m \u001b[0mconverted_age\u001b[0m \u001b[0;34m=\u001b[0m \u001b[0mint\u001b[0m\u001b[0;34m(\u001b[0m\u001b[0mage\u001b[0m\u001b[0;34m)\u001b[0m\u001b[0;34m\u001b[0m\u001b[0m\n\u001b[0m",
      "\u001b[0;31mValueError\u001b[0m: invalid literal for int() with base 10: '10.5'"
     ]
    }
   ],
   "source": [
    "age = '10.5'\n",
    "converted_age = int(age)"
   ]
  },
  {
   "cell_type": "code",
   "execution_count": 23,
   "metadata": {},
   "outputs": [
    {
     "name": "stdout",
     "output_type": "stream",
     "text": [
      "10.5\n"
     ]
    }
   ],
   "source": [
    "age = '10.5'\n",
    "converted_age = float(age)\n",
    "print(converted_age)\n"
   ]
  },
  {
   "cell_type": "code",
   "execution_count": 26,
   "metadata": {},
   "outputs": [
    {
     "ename": "ValueError",
     "evalue": "invalid literal for int() with base 10: '\\xd0\\xb4\\xd0\\xb5\\xd1\\x81\\xd1\\x8f\\xd1\\x82\\xd1\\x8c'",
     "output_type": "error",
     "traceback": [
      "\u001b[0;31m---------------------------------------------------------------------------\u001b[0m",
      "\u001b[0;31mValueError\u001b[0m                                Traceback (most recent call last)",
      "\u001b[0;32m<ipython-input-26-6c00604430b9>\u001b[0m in \u001b[0;36m<module>\u001b[0;34m()\u001b[0m\n\u001b[1;32m      1\u001b[0m \u001b[0mage\u001b[0m \u001b[0;34m=\u001b[0m \u001b[0;34m'десять'\u001b[0m\u001b[0;34m\u001b[0m\u001b[0m\n\u001b[0;32m----> 2\u001b[0;31m \u001b[0mconverted_age\u001b[0m \u001b[0;34m=\u001b[0m \u001b[0mint\u001b[0m\u001b[0;34m(\u001b[0m\u001b[0mage\u001b[0m\u001b[0;34m)\u001b[0m\u001b[0;34m\u001b[0m\u001b[0m\n\u001b[0m",
      "\u001b[0;31mValueError\u001b[0m: invalid literal for int() with base 10: '\\xd0\\xb4\\xd0\\xb5\\xd1\\x81\\xd1\\x8f\\xd1\\x82\\xd1\\x8c'"
     ]
    }
   ],
   "source": [
    "age = 'десять'\n",
    "converted_age = int(age)"
   ]
  },
  {
   "cell_type": "code",
   "execution_count": 27,
   "metadata": {},
   "outputs": [
    {
     "name": "stdout",
     "output_type": "stream",
     "text": [
      "привет\n",
      "привет\n",
      "привет\n",
      "привет\n",
      "привет\n"
     ]
    }
   ],
   "source": [
    "for x in range(0, 5): \n",
    "    print('привет')"
   ]
  },
  {
   "cell_type": "code",
   "execution_count": 28,
   "metadata": {},
   "outputs": [
    {
     "name": "stdout",
     "output_type": "stream",
     "text": [
      "[10, 11, 12, 13, 14, 15, 16, 17, 18, 19]\n"
     ]
    }
   ],
   "source": [
    "print(list(range(10, 20)))"
   ]
  },
  {
   "cell_type": "code",
   "execution_count": 29,
   "metadata": {},
   "outputs": [
    {
     "name": "stdout",
     "output_type": "stream",
     "text": [
      "привет 0\n",
      "привет 1\n",
      "привет 2\n",
      "привет 3\n",
      "привет 4\n"
     ]
    }
   ],
   "source": [
    "for x in range(0, 5):\n",
    "    print('привет %s' % x)"
   ]
  },
  {
   "cell_type": "code",
   "execution_count": 30,
   "metadata": {},
   "outputs": [
    {
     "name": "stdout",
     "output_type": "stream",
     "text": [
      "паучьи лапки\n",
      "жабий палец\n",
      "язык улитки\n",
      "крыло летучей мыши\n",
      "жир слизня\n",
      "медвежий коготь\n"
     ]
    }
   ],
   "source": [
    "wizard_list = ['паучьи лапки', 'жабий палец', 'язык улитки', 'крыло летучей мыши', 'жир слизня', 'медвежий коготь'] \n",
    "for i in wizard_list:\n",
    "    print(i)"
   ]
  },
  {
   "cell_type": "code",
   "execution_count": 31,
   "metadata": {},
   "outputs": [
    {
     "name": "stdout",
     "output_type": "stream",
     "text": [
      "огромные\n",
      "огромные\n",
      "волосатые\n",
      "штаны\n",
      "волосатые\n",
      "огромные\n",
      "волосатые\n",
      "штаны\n",
      "штаны\n",
      "огромные\n",
      "волосатые\n",
      "штаны\n"
     ]
    }
   ],
   "source": [
    "hugehairypants = ['огромные', 'волосатые', 'штаны']\n",
    "for i in hugehairypants:\n",
    "    print(i)\n",
    "    for j in hugehairypants:\n",
    "        print(j)"
   ]
  },
  {
   "cell_type": "code",
   "execution_count": 32,
   "metadata": {},
   "outputs": [
    {
     "name": "stdout",
     "output_type": "stream",
     "text": [
      "Неделя 1 = 87\n",
      "Неделя 2 = 154\n",
      "Неделя 3 = 221\n",
      "Неделя 4 = 288\n"
     ]
    }
   ],
   "source": [
    "found_coins = 20\n",
    "magic_coins = 70\n",
    "stolen_coins = 3\n",
    "coins = found_coins\n",
    "for week in range(1, 5):\n",
    "        coins = coins + magic_coins - stolen_coins\n",
    "        print('Неделя %s = %s' % (week, coins))"
   ]
  },
  {
   "cell_type": "code",
   "execution_count": 33,
   "metadata": {},
   "outputs": [
    {
     "name": "stdout",
     "output_type": "stream",
     "text": [
      "(46, 81)\n",
      "(47, 82)\n",
      "(48, 83)\n",
      "(49, 84)\n",
      "(50, 85)\n"
     ]
    }
   ],
   "source": [
    "x = 45\n",
    "y = 80\n",
    "while x < 50 and y < 100: \n",
    "    x=x+ 1\n",
    "    y=y+ 1 \n",
    "    print(x, y) "
   ]
  },
  {
   "cell_type": "code",
   "execution_count": 34,
   "metadata": {},
   "outputs": [
    {
     "name": "stdout",
     "output_type": "stream",
     "text": [
      "привет 0\n"
     ]
    }
   ],
   "source": [
    "for x in range(0, 20):\n",
    "    print('привет %s' % x)\n",
    "    if x < 9:\n",
    "        break "
   ]
  },
  {
   "cell_type": "code",
   "execution_count": 35,
   "metadata": {},
   "outputs": [
    {
     "name": "stdout",
     "output_type": "stream",
     "text": [
      "Привет, Мэри\n"
     ]
    }
   ],
   "source": [
    "def testfunc(myname):\n",
    "              print('Привет, %s' % myname)\n",
    "testfunc('Мэри')"
   ]
  },
  {
   "cell_type": "code",
   "execution_count": 38,
   "metadata": {},
   "outputs": [
    {
     "name": "stdout",
     "output_type": "stream",
     "text": [
      "Привет, Мэри Смит\n"
     ]
    }
   ],
   "source": [
    "def testfunc(fname, lname):\n",
    "              print('Привет, %s %s' % (fname, lname))\n",
    "testfunc('Мэри', 'Смит')"
   ]
  },
  {
   "cell_type": "code",
   "execution_count": 39,
   "metadata": {},
   "outputs": [
    {
     "name": "stdout",
     "output_type": "stream",
     "text": [
      "Sat Oct  8 00:50:35 2022\n"
     ]
    }
   ],
   "source": [
    "import time\n",
    "print(time.asctime())"
   ]
  },
  {
   "cell_type": "code",
   "execution_count": 40,
   "metadata": {},
   "outputs": [
    {
     "name": "stdout",
     "output_type": "stream",
     "text": [
      "['sleeping', 'walking', 'syudy programming', 'rock climbing', 'chocolate', 'ice-cream', 'cheese', 'fruits']\n"
     ]
    }
   ],
   "source": [
    "#Создайте список своих любимых развлечений и сохраните его в пере- менной games. \n",
    "games = ['sleeping', 'walking', 'syudy programming', 'rock climbing']\n",
    "#Теперь создайте список любимых лакомств, сохранив его в переменной foods. \n",
    "foods = ['chocolate', 'ice-cream', 'cheese', 'fruits']\n",
    "#Объедините два этих списка, сохранив результат в переменной favorites, и напечатайте значение этой переменной. \n",
    "favorites = games + foods\n",
    "print favorites"
   ]
  },
  {
   "cell_type": "code",
   "execution_count": 41,
   "metadata": {},
   "outputs": [
    {
     "data": {
      "text/plain": [
       "155"
      ]
     },
     "execution_count": 41,
     "metadata": {},
     "output_type": "execute_result"
    }
   ],
   "source": [
    "#Есть 3 дома, на крыше каждого из которых прячутся по 25 ниндзя, и есть 2 туннеля, \n",
    "#в каждом из которых скрывается по 40 самураев. Сколько все- го воинов решили устроить заварушку? \n",
    "#(Ответ можно найти, введя в обо- лочке Python арифметическое выражение.)\n",
    "3*25+2*40\n"
   ]
  },
  {
   "cell_type": "code",
   "execution_count": 45,
   "metadata": {},
   "outputs": [
    {
     "name": "stdout",
     "output_type": "stream",
     "text": [
      "Привет, Mary Andreeva\n"
     ]
    }
   ],
   "source": [
    "#Создайте две переменные: пусть одна хранит ваше имя, а другая фами- лию. \n",
    "#Теперь с помощью строки с метками %s напечатайте приветствие вроде такого: «Привет, Брандо Икетт!». \n",
    "fname = 'Mary'\n",
    "lname = 'Andreeva'\n",
    "print 'Привет, %s %s' % (fname, lname)"
   ]
  },
  {
   "cell_type": "markdown",
   "metadata": {},
   "source": [
    "Упражнения  2\n",
    "\n",
    "Решите эти задачи, используя конструкции if и условия. "
   ]
  },
  {
   "cell_type": "code",
   "execution_count": 48,
   "metadata": {},
   "outputs": [
    {
     "name": "stdout",
     "output_type": "stream",
     "text": [
      "Я богат!\n"
     ]
    }
   ],
   "source": [
    "#Как думаете, что делает этот код? \n",
    "#Сначала попробуйте в этом разобраться, не вводя код в оболочку Python, а затем проверьте свой ответ. \n",
    "\n",
    "money = 2000\n",
    "if money > 1000:\n",
    "     print(\"Я богат!\")\n",
    "else: \n",
    "     print(\"Я не богат!\")\n",
    "     print(\"Может, когда-нибудь потом...\")"
   ]
  },
  {
   "cell_type": "code",
   "execution_count": 50,
   "metadata": {},
   "outputs": [],
   "source": [
    "#Создайте конструкцию if, которая проверяет, действительно ли количество бисквитов (которое задано в переменной twinkies) \n",
    "#меньше 100 или больше 500. Если это условие выполняется, пусть ваша программа напечатает сообщение \n",
    "#«Слишком мало или слишком много».\n",
    "\n",
    "twinkies = 200\n",
    "\n",
    "if twinkies < 100 or twinkies > 500:\n",
    "    print 'Слишком мало или слишком много'"
   ]
  },
  {
   "cell_type": "code",
   "execution_count": 55,
   "metadata": {},
   "outputs": [
    {
     "name": "stdout",
     "output_type": "stream",
     "text": [
      "от 1000 до 5000\n"
     ]
    }
   ],
   "source": [
    "#Создайте конструкцию if, которая проверяет, соответствует ли задан- ная в переменной money сумма денег \n",
    "#диапазону значений от 100 до 500 или диапазону значений от 1000 до 5000.\n",
    "\n",
    "money = 4000\n",
    "if money >= 100 and money <= 500:\n",
    "    print 'от 100 до 500'\n",
    "elif money >= 1000 and money <= 5000:\n",
    "    print 'от 1000 до 5000'"
   ]
  },
  {
   "cell_type": "code",
   "execution_count": 56,
   "metadata": {},
   "outputs": [
    {
     "name": "stdout",
     "output_type": "stream",
     "text": [
      "Их слишком много\n"
     ]
    }
   ],
   "source": [
    "#Создайте конструкцию if, которая печатает строку «Их слишком мно- го», если количество ниндзя (заданное в переменной ninjas) \n",
    "#меньше 50, печатает «Будет непросто, но я с ними разделаюсь», если это количество меньше 30, \n",
    "#и печатает «Я одолею этих ниндзя!», если количество мень- ше 10. Проверьте, как ваш код работает с таким значением: \n",
    "\n",
    "ninjas = 5\n",
    "\n",
    "if ninjas < 50:\n",
    "    print 'Их слишком много'\n",
    "elif ninjas < 30:\n",
    "    print 'Будет непросто, но я с ними разделаюсь'\n",
    "elif ninjas < 10:\n",
    "    print 'Я одолею этих ниндзя!'"
   ]
  },
  {
   "cell_type": "code",
   "execution_count": 57,
   "metadata": {},
   "outputs": [
    {
     "name": "stdout",
     "output_type": "stream",
     "text": [
      "привет 0\n"
     ]
    }
   ],
   "source": [
    "#Как вы считаете, что делает эта программа? Сперва придумайте вариант ответа, а потом запустите код и проверьте, угадали ли вы. \n",
    "\n",
    "for x in range(0, 20):\n",
    "    print('привет %s' % x)\n",
    "    if x < 9:\n",
    "        break "
   ]
  },
  {
   "cell_type": "code",
   "execution_count": 61,
   "metadata": {},
   "outputs": [
    {
     "name": "stdout",
     "output_type": "stream",
     "text": [
      "1\n",
      "3\n",
      "5\n",
      "7\n",
      "9\n",
      "11\n",
      "13\n",
      "15\n",
      "17\n",
      "19\n",
      "21\n",
      "23\n",
      "25\n",
      "27\n",
      "29\n",
      "31\n"
     ]
    }
   ],
   "source": [
    "#Создайте цикл, который печатает четные числа до тех пор, пока не выведет ваш возраст. \n",
    "#Если ваш возраст — нечетное число, создайте цикл, ко- торый печатает нечетные числа до совпадения с возрастом. \n",
    "#Программа должна выводить на экран нечто подобное: \n",
    "#2 4 6 8 10 12 14 \n",
    "for i in range(32):\n",
    "    if i % 2 != 0:\n",
    "        print i"
   ]
  },
  {
   "cell_type": "code",
   "execution_count": 3,
   "metadata": {},
   "outputs": [
    {
     "name": "stdout",
     "output_type": "stream",
     "text": [
      "1 butter\n",
      "2 cheese\n",
      "3 jam\n",
      "4 meat\n",
      "5 peanut butter\n"
     ]
    }
   ],
   "source": [
    "#Создайте список с пятью разными ингредиентами для бутерброда, наподобие: \n",
    "\n",
    "ingredients = ['слизни', 'пиявки', 'катышки изпупка гориллы', 'брови гусеницы', 'пальцы многоножки'] \n",
    "ingredients = ['butter', 'cheese', 'jam', 'meat', 'peanut butter']\n",
    "#Теперь создайте цикл, который печатает список ингредиентов с нумерацией: \n",
    "#1 слизни\n",
    "#2 пиявки\n",
    "#3 катышки изпупка гориллы \n",
    "#4 брови гусеницы\n",
    "#5 пальцы многоножки\n",
    "\n",
    "for i in range(len(ingredients)):\n",
    "    print i+1, ingredients[i]"
   ]
  },
  {
   "cell_type": "markdown",
   "metadata": {},
   "source": [
    "Если бы вы сейчас были на Луне, ваш вес составил бы 16,5 процентов от земного. Чтобы узнать, сколько это, умножьте свой земной вес на 0,165. \n",
    "\n",
    "Если бы каждый год в течение следующих 15 лет вы прибавляли по одному килограмму веса, каким бы оказался ваш лунный вес в каж- дый из ежегодных визитов на Луну вплоть до 15-го года? Напишите программу, которая с помощью цикла for печатает на экране ваш лунный вес в каждом году. "
   ]
  },
  {
   "cell_type": "code",
   "execution_count": 12,
   "metadata": {},
   "outputs": [
    {
     "name": "stdout",
     "output_type": "stream",
     "text": [
      "9.075\n",
      "--------------------------------------------------------------------------------------------------------------\n",
      "9.075\n",
      "9.24\n",
      "9.405\n",
      "9.57\n",
      "9.735\n",
      "9.9\n",
      "10.065\n",
      "10.23\n",
      "10.395\n",
      "10.56\n",
      "10.725\n",
      "10.89\n",
      "11.055\n",
      "11.22\n",
      "11.385\n",
      "11.55\n"
     ]
    }
   ],
   "source": [
    "earth_weight = 55\n",
    "moon_wieght = earth_weight * 0.165\n",
    "print moon_wieght\n",
    "print '--------------------------------------------------------------------------------------------------------------'\n",
    "\n",
    "for i in range(16):\n",
    "    moon_wieght = (earth_weight + i) * 0.165\n",
    "    print moon_wieght"
   ]
  },
  {
   "cell_type": "markdown",
   "metadata": {},
   "source": [
    "Одним из заданий к главе 6 было создание цикла for для расчета вашего веса на Луне в течение 15 лет. Этот цикл можно оформить в виде функции. Создайте функцию, ко- торая принимает начальный вес и величину, на которую вес увеличивается каждый год. Вызывать эту новую функ- цию нужно будет примерно так: \n",
    "\n",
    "    moon_weight(30, 0.25)"
   ]
  },
  {
   "cell_type": "code",
   "execution_count": 20,
   "metadata": {},
   "outputs": [
    {
     "name": "stdout",
     "output_type": "stream",
     "text": [
      "9.075\n",
      "9.24\n",
      "9.405\n",
      "9.57\n",
      "9.735\n",
      "9.9\n",
      "10.065\n",
      "10.23\n",
      "10.395\n",
      "10.56\n",
      "10.725\n",
      "10.89\n",
      "11.055\n",
      "11.22\n",
      "11.385\n",
      "11.55\n"
     ]
    }
   ],
   "source": [
    "def count_moonweight_15years(current_weight, gain_weight):\n",
    "    for i in range(16):\n",
    "        earth_weight = current_weight + gain_weight*i\n",
    "        moon_wieght = earth_weight * 0.165\n",
    "        print moon_wieght\n",
    "        \n",
    "count_moonweight_15years(55, 1)"
   ]
  },
  {
   "cell_type": "markdown",
   "metadata": {},
   "source": [
    "Измените функцию из предыдущего задания так, чтобы с ее помощью можно было рассчитывать вес для разного количества лет, например 5 или 20 лет. Пусть эта функция принимает три аргумента: начальный вес, прибавку веса в год и количество лет: \n",
    "\n",
    "      moon_weight(90, 0.25, 5)"
   ]
  },
  {
   "cell_type": "code",
   "execution_count": 24,
   "metadata": {},
   "outputs": [
    {
     "name": "stdout",
     "output_type": "stream",
     "text": [
      "9.075\n",
      "9.24\n",
      "9.405\n",
      "9.57\n",
      "9.735\n",
      "9.9\n",
      "10.065\n",
      "10.23\n",
      "10.395\n",
      "10.56\n",
      "10.725\n",
      "10.89\n",
      "11.055\n",
      "11.22\n",
      "11.385\n",
      "11.55\n",
      "11.715\n",
      "11.88\n",
      "12.045\n",
      "12.21\n",
      "12.375\n"
     ]
    }
   ],
   "source": [
    "def count_moonweight(current_weight, gain_weight, years_amount):\n",
    "    for i in range(years_amount + 1):\n",
    "        earth_weight = current_weight + gain_weight*i\n",
    "        moon_wieght = earth_weight * 0.165\n",
    "        print moon_wieght\n",
    "        \n",
    "count_moonweight(55, 1, 20)"
   ]
  },
  {
   "cell_type": "code",
   "execution_count": null,
   "metadata": {},
   "outputs": [],
   "source": []
  },
  {
   "cell_type": "code",
   "execution_count": null,
   "metadata": {},
   "outputs": [],
   "source": []
  }
 ],
 "metadata": {
  "kernelspec": {
   "display_name": "Python 2",
   "language": "python",
   "name": "python2"
  },
  "language_info": {
   "codemirror_mode": {
    "name": "ipython",
    "version": 2
   },
   "file_extension": ".py",
   "mimetype": "text/x-python",
   "name": "python",
   "nbconvert_exporter": "python",
   "pygments_lexer": "ipython2",
   "version": "2.7.12"
  }
 },
 "nbformat": 4,
 "nbformat_minor": 2
}
