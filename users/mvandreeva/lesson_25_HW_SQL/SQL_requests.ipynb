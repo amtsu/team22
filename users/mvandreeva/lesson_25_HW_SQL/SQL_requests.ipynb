{
 "cells": [
  {
   "cell_type": "code",
   "execution_count": 1,
   "id": "15c8d85d-0b28-45c7-a05b-bef1b322d2a0",
   "metadata": {},
   "outputs": [
    {
     "name": "stdout",
     "output_type": "stream",
     "text": [
      "3.6.3\n",
      "module://matplotlib_inline.backend_inline\n"
     ]
    }
   ],
   "source": [
    "import sqlite3\n",
    "import matplotlib\n",
    "print(matplotlib.__version__)\n",
    "print(matplotlib.get_backend())\n",
    "\n",
    "import matplotlib.pyplot as plt\n",
    "#plt.plot([0, 1, 2, 3], [0, 3, 1, 2])\n",
    "#plt.show()"
   ]
  },
  {
   "cell_type": "markdown",
   "id": "eb137658-44b0-486c-b122-14b48c94d5a9",
   "metadata": {},
   "source": [
    "Задание по sql:\n",
    "Нужно проанализировать информацию по продуктам. Представим что мы покупатели и наша цель выбрать подходящий момент для покупки, или мы продавец и нам надо понимать когда стоит повысить цену а когда ее снижать. Для этого нужно:\n",
    "\n",
    "+Понять среднюю цену на продукт в конкретном магазине, \n",
    "+посмотреть как цена и остатки  меняются в зависимости от даты обновления.\n",
    "\n",
    "+Для получения информации по цене надо построить таблицу содержащую следующие столбцы: название товара, магазин, дата, цена.\n",
    "\n",
    "Чтобы понять как быстро раскупают товары можно построить таблицу обратив внимание на столбец с остатками.\n",
    "\n",
    "Далее может добавить несколько покупателей, к ним добавить их траты. И проанализировать какой самый частый товар покупают, сколько в среднем каждый пользователь тратит на покупки, среднюю цену покупки. Вывести в одну таблицу сколько пользователь потратил в 1-ом квартале 22,  2-ом квартале 22,  3-ом квартале 22,  4-ом квартале 22."
   ]
  },
  {
   "cell_type": "code",
   "execution_count": 2,
   "id": "bef0a7f4-52a1-405f-bdf4-c09f43e379f7",
   "metadata": {},
   "outputs": [],
   "source": [
    "connection = sqlite3.connect('/tmp/sql_dump/db.sqlite3')\n",
    "cursor = connection.cursor()"
   ]
  },
  {
   "cell_type": "code",
   "execution_count": 11,
   "id": "cb19588b-2634-4e1d-9a54-a23e754df4b4",
   "metadata": {},
   "outputs": [
    {
     "name": "stdout",
     "output_type": "stream",
     "text": [
      "[('CREATE TABLE \"products_history\" (\"id\" integer NOT NULL PRIMARY KEY AUTOINCREMENT, \"datetime_create\" datetime NULL, \"description\" varchar(10000) NULL, \"params\" varchar(10000) NULL, \"price\" decimal NULL, \"task\" varchar(200) NULL, \"title\" varchar(200) NULL, \"price_sale\" decimal NULL, \"quantity\" integer NULL, \"brand\" varchar(1000) NULL, \"brand_url\" varchar(1000) NULL, \"canonical_url\" varchar(1000) NULL, \"category\" varchar(1000) NULL, \"category_url\" varchar(1000) NULL, \"count_comments\" integer NULL, \"count_how_much_buy\" integer NULL, \"count_likes\" integer NULL, \"count_photo\" integer NULL, \"count_questions\" integer NULL, \"count_stars_1\" integer NULL, \"count_stars_2\" integer NULL, \"count_stars_3\" integer NULL, \"count_stars_4\" integer NULL, \"count_stars_5\" integer NULL, \"count_stars_all\" integer NULL, \"day_to_delivery\" integer NULL, \"img_url\" varchar(1000) NULL, \"score\" decimal NULL, \"seller\" varchar(1000) NULL, \"seller_url\" varchar(1000) NULL, \"sku\" varchar(1000) NULL, \"source_url\" varchar(1000) NULL, \"url\" varchar(1000) NULL, \"urls_other_products_on_the_page\" varchar(10000) NULL, \"worker\" varchar(200) NULL)',)]\n"
     ]
    }
   ],
   "source": [
    "cursor.execute(\"\"\"\n",
    "    SELECT sql FROM sqlite_master\n",
    "    WHERE tbl_name = 'products_history' AND type = 'table'\n",
    "    \"\"\")\n",
    "\n",
    "print(cursor.fetchall())"
   ]
  },
  {
   "cell_type": "code",
   "execution_count": null,
   "id": "bf98fcbc-c36b-4e2f-becc-f601d401bbd1",
   "metadata": {},
   "outputs": [],
   "source": []
  },
  {
   "cell_type": "code",
   "execution_count": null,
   "id": "cf43f63a-c7b0-425b-a8d3-3abd0dca97c8",
   "metadata": {},
   "outputs": [],
   "source": []
  },
  {
   "cell_type": "code",
   "execution_count": 13,
   "id": "2afdfb83-73dd-450f-881d-ff8443bf90ea",
   "metadata": {},
   "outputs": [
    {
     "name": "stdout",
     "output_type": "stream",
     "text": [
      "[(None, None, None), ('', '', None), ('\"BOMBBAR\" Печенье неглазированное \"Вишня\" 40 гр.', None, 79.99), ('\"КЕШЬЮ\". Шоколад молочный c кусочками соленого кешью. 100г', None, 159.99), ('\"Липецкая-Лайт\" напиток безалк.на основе минеральной природной воды со вкусом лимона и лайма среднегазированный пастеризованный 1,5л', None, 59.99), ('\"Липецкая-Лайт\" напиток безалкогольный на основе минеральной природной воды со вкусом вишни среднегазированный пастеризованный 1,5л', None, 59.99), ('\"ЦЕЛЬНЫЙ МИНДАЛЬ\". Шоколад темный с цельным миндалем 100гр RITTER SPORT', None, 146.99), ('#Girlboss. Как я создала миллионный бизнес, не имея денег, офиса и высшего образования. София Аморузо', None, 0.0), ('#Топ-рецепты say7, Скрипкина А.Ю.', None, 0.0), ('10 разноцветных паучков', None, 0.0)]\n"
     ]
    }
   ],
   "source": [
    "# Понять среднюю цену на продукт в конкретном магазине\n",
    "# Как называется колонка с названием магазина? - выбрала \"seller\"\n",
    "cursor.execute(\"\"\"\n",
    "    SELECT title, seller, ROUND(AVG(price),2)\n",
    "    FROM products_history \n",
    "    GROUP BY title\n",
    "    \n",
    "\"\"\")\n",
    "\n",
    "print(cursor.fetchall())"
   ]
  },
  {
   "cell_type": "code",
   "execution_count": 18,
   "id": "20c1ccbb-522e-464a-9f01-0f5406b8eef5",
   "metadata": {},
   "outputs": [
    {
     "name": "stdout",
     "output_type": "stream",
     "text": [
      "('Паста Nutella Шоколадная 350г', 455, 1, '2022-12-15')\n",
      "455\n",
      "('Паста Nutella Шоколадная 350г', 499, 1, '2022-12-14')\n",
      "499\n",
      "('Паста Nutella Шоколадная 350г', 499, 1, '2022-12-13')\n",
      "499\n",
      "('Паста Nutella Шоколадная 350г', 499, 1, '2022-12-12')\n",
      "499\n",
      "('Паста Nutella Шоколадная 350г', 499, 1, '2022-12-11')\n",
      "499\n",
      "('Паста Nutella Шоколадная 350г', 499, 1, '2022-12-10')\n",
      "499\n",
      "('Паста Nutella Шоколадная 350г', 499, 1, '2022-12-09')\n",
      "499\n",
      "('Паста Nutella Шоколадная 350г', 359, 1, '2022-12-08')\n",
      "359\n",
      "('Паста Nutella Шоколадная 350г', 499, 1, '2022-12-07')\n",
      "499\n",
      "('Паста Nutella Шоколадная 350г', 499, 1, '2022-12-07')\n",
      "499\n",
      "('Паста Nutella Шоколадная 350г', 499, 1, '2022-12-06')\n",
      "499\n"
     ]
    },
    {
     "data": {
      "image/png": "[encoded data removed]",
      "text/plain": [
       "<Figure size 640x480 with 1 Axes>"
      ]
     },
     "metadata": {},
     "output_type": "display_data"
    }
   ],
   "source": [
    "# посмотреть как цена и остатки  меняются в зависимости от даты обновления\n",
    "cursor.execute(\"\"\"\n",
    "    SELECT \n",
    "        title, \n",
    "        price, \n",
    "        quantity, \n",
    "        DATE(datetime_create)\n",
    "    FROM products_history\n",
    "    WHERE title = \"Паста Nutella Шоколадная 350г\"\n",
    "    ORDER BY title, datetime_create DESC \n",
    "\"\"\")\n",
    "\n",
    "#print(cursor.fetchall())\n",
    "\n",
    "# сначала узнаем как менялась цена\n",
    "x = []\n",
    "x2 = []\n",
    "y = []\n",
    "y2 = []\n",
    "for i in cursor.fetchall():\n",
    "    print(i)\n",
    "    print(i[1])\n",
    "    y.append(i[1])\n",
    "    y2.append(i[2])\n",
    "    x.append(i[3])\n",
    "    x2.append(i[3])\n",
    "    \n",
    "plt.figure()\n",
    "plt.plot(x, y, label=r'Цена, р')\n",
    "plt.plot(x2, y2, label=r'Остаток, шт')\n",
    "plt.legend(fontsize=20, loc=1)\n",
    "plt.show()\n"
   ]
  },
  {
   "cell_type": "code",
   "execution_count": 5,
   "id": "5aa8cc12-8d34-4609-8bcd-e23351bd9ace",
   "metadata": {},
   "outputs": [
    {
     "name": "stdout",
     "output_type": "stream",
     "text": [
      "[('Первый тест', '', '2022-11-20', 150233.02), ('test 2', '', '2022-11-20', 2), ('', '', '2022-11-27', None), (None, None, '2022-11-27', None), (None, None, '2022-11-27', None), (None, None, '2022-11-27', None), (None, None, '2022-11-27', None), (None, None, '2022-11-27', None), ('title_example', 'seller_example', '2022-11-27', -8072), ('Блин вратаря DR X6 GOALIE BLOKER', None, '2022-11-27', None), ('Блин вратаря DR X6 GOALIE BLOKER', None, '2022-11-27', None), ('Блин вратаря DR X6 GOALIE BLOKER', None, '2022-11-27', 6864), ('Блин вратаря DR X6 GOALIE BLOKER', None, '2022-11-27', 6864), ('Блин вратаря DR X6 GOALIE BLOKER', None, '2022-11-27', 6864), ('Горнолыжные ботинки Dalbello CHAKRA ELEVATE 115 T.I. ID', None, '2022-11-27', 66142), ('Горнолыжные ботинки Dalbello LUPO AX 120', None, '2022-11-27', 68640), ('Горнолыжные ботинки Dalbello QUANTUM FREE 110', None, '2022-11-27', 69887), ('Горнолыжные ботинки Dalbello KRYPTON 130 T.I. ID', None, '2022-11-27', 74880), ('Горнолыжные ботинки Lange WORLD CUP RS ZB', None, '2022-11-27', 67120), ('Горнолыжные ботинки Rossignol ALLTRACK ELITE 130 LT GW', None, '2022-11-27', 62559)]\n"
     ]
    }
   ],
   "source": [
    "# Для получения информации по цене надо построить таблицу содержащую следующие столбцы: название товара, магазин, дата, цена\n",
    "cursor.execute(\"\"\"\n",
    "    SELECT \n",
    "        title,\n",
    "        seller,\n",
    "        DATE(datetime_create),\n",
    "        price \n",
    "    FROM products_history\n",
    "    LIMIT 20\n",
    "\"\"\")\n",
    "\n",
    "print(cursor.fetchall())"
   ]
  },
  {
   "cell_type": "code",
   "execution_count": 22,
   "id": "e0d3466d-10da-44f6-80e5-54a3b9b51da6",
   "metadata": {},
   "outputs": [
    {
     "name": "stdout",
     "output_type": "stream",
     "text": [
      "[('Хлеб «Хлебный Дом» Стройный рецепт, 350 г', None, 6, '2022-12-20'), ('Хлеб «Хлебный Дом» Стройный рецепт, 350 г', None, 3, '2022-12-22'), ('Хлеб «Хлебный Дом» Стройный рецепт, 350 г', None, 3, '2022-12-22'), ('Хлеб «Хлебный Дом» Стройный рецепт, 350 г', None, 9, '2022-12-23'), ('Хлеб «Хлебный Дом» Стройный рецепт, 350 г', None, 9, '2022-12-23'), ('Хлеб «Хлебный Дом» Стройный рецепт, 350 г', None, 1, '2022-12-25'), ('Хлеб «Хлебный Дом» Стройный рецепт, 350 г', None, 1, '2022-12-29'), ('Хлеб «Хлебный Дом» Стройный рецепт, 350 г', None, 4, '2022-12-30'), ('Хлеб «Хлебный Дом» Стройный рецепт, 350 г', None, 13, '2022-12-31'), ('Хлеб «Хлебный Дом» Стройный рецепт, 350 г', None, 9, '2023-01-01'), ('Хлеб «Хлебный Дом» Стройный рецепт, 350 г', None, 9, '2023-01-02'), ('Хлеб «Хлебный Дом» Стройный рецепт, 350 г', None, 2, '2023-01-04'), ('Хлеб «Хлебный Дом» Стройный рецепт, 350 г', None, 20, '2023-01-06'), ('Хлеб «Хлебный Дом» Стройный рецепт, 350 г', None, 8, '2023-01-07'), ('Хлеб «Хлебный Дом» Стройный рецепт, 350 г', None, 9, '2023-01-08'), ('Хлеб «Хлебный Дом» Стройный рецепт, 350 г', None, 6, '2023-01-09'), ('Хлеб «Хлебный Дом» Стройный рецепт, 350 г', None, 14, '2023-01-10'), ('Хлеб «Хлебный Дом» Стройный рецепт, 350 г', None, 20, '2023-01-11'), ('Хлеб «Хлебный Дом» Стройный рецепт, 350 г', None, 6, '2023-01-12'), ('Хлеб «Хлебный Дом» Стройный рецепт, 350 г', None, 4, '2023-01-13'), ('Хлеб «Хлебный Дом» Стройный рецепт, 350 г', None, 8, '2023-01-14'), ('Хлеб «Хлебный Дом» Стройный рецепт, 350 г', None, 3, '2023-01-15'), ('Хлеб «Хлебный Дом» Стройный рецепт, 350 г', None, 3, '2023-01-16'), ('Хлеб «Хлебный Дом» Стройный рецепт, 350 г', None, 4, '2023-01-17'), ('Хлеб «Хлебный Дом» Стройный рецепт, 350 г', None, 18, '2023-01-18'), ('Хлеб «Хлебный Дом» Стройный рецепт, 350 г', None, 7, '2023-01-19'), ('Хлеб «Хлебный Дом» Стройный рецепт, 350 г', None, 7, '2023-01-20'), ('Хлеб «Хлебный Дом» Стройный рецепт, 350 г', None, 6, '2023-01-21'), ('Хлеб «Хлебный Дом» Стройный рецепт, 350 г', None, 4, '2023-01-22'), ('Хлеб «Хлебный Дом» Стройный рецепт, 350 г', None, 9, '2023-01-23'), ('Хлеб «Хлебный Дом» Стройный рецепт, 350 г', None, 12, '2023-01-24'), ('Хлеб «Хлебный Дом» Стройный рецепт, 350 г', None, 9, '2023-01-25'), ('Хлеб «Хлебный Дом» Стройный рецепт, 350 г', None, 20, '2023-01-26'), ('Хлеб «Хлебный Дом» Стройный рецепт, 350 г', None, 30, '2023-01-27'), ('Хлеб «Хлебный Дом» Стройный рецепт, 350 г', None, 36, '2023-01-28'), ('Хлеб «Хлебный Дом» Стройный рецепт, 350 г', None, 12, '2023-01-31'), ('Хлеб «Хлебный Дом» Стройный рецепт, 350 г', None, 23, '2023-02-01'), ('Хлеб «Хлебный Дом» Стройный рецепт, 350 г', None, 12, '2023-02-03'), ('Хлеб «Хлебный Дом» Стройный рецепт, 350 г', None, 1, '2023-02-04'), ('Хлеб «Хлебный Дом» Стройный рецепт, 350 г', None, 1, '2023-02-05')]\n"
     ]
    }
   ],
   "source": [
    "# Чтобы понять как быстро раскупают товары можно построить таблицу обратив внимание на столбец с остатками.\n",
    "cursor.execute(\"\"\"\n",
    "    SELECT \n",
    "        title,\n",
    "        seller,\n",
    "        quantity,\n",
    "        DATE(datetime_create)\n",
    "    FROM products_history\n",
    "    WHERE title = \"Хлеб «Хлебный Дом» Стройный рецепт, 350 г\"\n",
    "    LIMIT 100\n",
    "\"\"\")\n",
    "\n",
    "print(cursor.fetchall())\n",
    "\n",
    "x = []\n",
    "y = []\n",
    "\n",
    "fot item in cursor.fetchall():\n",
    "    x.append(item[3])\n",
    "    y.append(item[2])"
   ]
  },
  {
   "cell_type": "code",
   "execution_count": null,
   "id": "4ab2679b-dba2-4845-aa94-30b69ba06eef",
   "metadata": {},
   "outputs": [],
   "source": []
  },
  {
   "cell_type": "code",
   "execution_count": null,
   "id": "80626bcd-caa2-4f8c-b707-40b1eac0ea16",
   "metadata": {},
   "outputs": [],
   "source": []
  },
  {
   "cell_type": "code",
   "execution_count": null,
   "id": "4d2cb585-d87c-402a-86fb-8cf79f9ed967",
   "metadata": {},
   "outputs": [],
   "source": [
    "cursor.execute(\"\"\"\n",
    "    CREATE TABLE IF NOT EXISTS mvandreeva_buyers(\n",
    "        id INT NOT NULL PRIMARY KEY AUTO_INCREMENT,\n",
    "        product_name VARCHAR(255),\n",
    "        shop_name VARCHAR(255),\n",
    "        date DATETIME,\n",
    "        price INT,\n",
    "        available_amount INT\n",
    "\"\"\")\n",
    "\n",
    "print(cursor.fetchall())"
   ]
  },
  {
   "cell_type": "code",
   "execution_count": null,
   "id": "6d188ddb-c10e-4b4f-8241-68fbf8581ccd",
   "metadata": {},
   "outputs": [],
   "source": []
  },
  {
   "cell_type": "code",
   "execution_count": null,
   "id": "f0d566dd-744d-47fe-a285-aea56818cb64",
   "metadata": {},
   "outputs": [],
   "source": []
  }
 ],
 "metadata": {
  "kernelspec": {
   "display_name": "Python 3 (ipykernel)",
   "language": "python",
   "name": "python3"
  },
  "language_info": {
   "codemirror_mode": {
    "name": "ipython",
    "version": 3
   },
   "file_extension": ".py",
   "mimetype": "text/x-python",
   "name": "python",
   "nbconvert_exporter": "python",
   "pygments_lexer": "ipython3",
   "version": "3.9.7"
  }
 },
 "nbformat": 4,
 "nbformat_minor": 5
}
