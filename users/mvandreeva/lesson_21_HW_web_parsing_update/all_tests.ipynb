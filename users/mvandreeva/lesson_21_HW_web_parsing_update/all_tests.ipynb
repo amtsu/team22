{
 "cells": [
  {
   "cell_type": "code",
   "execution_count": 1,
   "id": "07082cda-7543-4dfe-9fa8-fac97049bfe5",
   "metadata": {},
   "outputs": [],
   "source": [
    "from web_parsing import OnePageParsing\n",
    "from chitai_gorod_one_item import ChitaiGorodGetPrice, ChitaiGorodGetTitle, ChitaiGorodGetAuthor, ChitaiGorodGetAuthorURL\n",
    "from chitai_gorod_items_list import ChitaiGorodItemsList, ChitaiGorodURLConfiguration\n",
    "\n",
    "import urllib\n",
    "import urllib.request\n",
    "from bs4 import BeautifulSoup"
   ]
  },
  {
   "cell_type": "code",
   "execution_count": null,
   "id": "9ecf7fe4-156c-4a31-bed5-e625834337ce",
   "metadata": {},
   "outputs": [],
   "source": []
  },
  {
   "cell_type": "code",
   "execution_count": 2,
   "id": "c9ee3274-4433-4b3e-b7e3-7432ad247a17",
   "metadata": {},
   "outputs": [],
   "source": [
    "def test_one_page_parsing_read():\n",
    "    quke_one_page_parsing = OnePageParsing(\"https://quke.ru/shop/UID_70281___306_.html\").read_page()\n",
    "    with urllib.request.urlopen(\"https://quke.ru/shop/UID_70281___306_.html\") as page:\n",
    "        text = page.read()\n",
    "        soup = BeautifulSoup(text)\n",
    "    #print(quke_one_page_parsing)\n",
    "    #print(type(quke_one_page_parsing))\n",
    "    #print(\"********************\")\n",
    "    #print(soup)\n",
    "    if quke_one_page_parsing == soup:\n",
    "        return \"test_open_page_prepare_soup is passed\"\n",
    "    else:\n",
    "        assert False"
   ]
  },
  {
   "cell_type": "code",
   "execution_count": 3,
   "id": "dc139ed0-e164-4b17-b18b-6905ea48339b",
   "metadata": {},
   "outputs": [
    {
     "name": "stdout",
     "output_type": "stream",
     "text": [
      "Page code:  200\n"
     ]
    },
    {
     "data": {
      "text/plain": [
       "'test_open_page_prepare_soup is passed'"
      ]
     },
     "execution_count": 3,
     "metadata": {},
     "output_type": "execute_result"
    }
   ],
   "source": [
    "test_one_page_parsing_read()"
   ]
  },
  {
   "cell_type": "markdown",
   "id": "c9d30ed5-a27c-41cc-8591-c0ecd7bb97bb",
   "metadata": {},
   "source": [
    "--------------------------"
   ]
  },
  {
   "cell_type": "code",
   "execution_count": 5,
   "id": "6c4a40e2-544f-42d2-8fae-56b891670ed5",
   "metadata": {},
   "outputs": [
    {
     "name": "stdout",
     "output_type": "stream",
     "text": [
      "Page code:  200\n",
      "passed\n"
     ]
    }
   ],
   "source": [
    "# test_get_text для price из chitai_gorod_one_item - ChitaiGorodGetPrice\n",
    "def test_get_text_price_chitai_gorod():\n",
    "    get_text_price = ChitaiGorodGetPrice('https://new.chitai-gorod.ru/product/chistaya-arhitektura-iskusstvo-razrabotki-programmnogo-obespecheniya-2640391').get_text()\n",
    "    #print(\"text=\",get_text_price)\n",
    "    if get_text_price == \"\"\"\\n      1\\xa0100 ₽\\n    \"\"\":\n",
    "        print (\"passed\")\n",
    "    else:\n",
    "        assert False\n",
    "\n",
    "test_get_text_price_chitai_gorod()    "
   ]
  },
  {
   "cell_type": "code",
   "execution_count": 6,
   "id": "f00d5884-2046-4ac5-aedc-4a42175c4f5b",
   "metadata": {},
   "outputs": [
    {
     "name": "stdout",
     "output_type": "stream",
     "text": [
      "Page code:  200\n",
      "passed\n"
     ]
    }
   ],
   "source": [
    "# test_clean_data для price из chitai_gorod_one_item - ChitaiGorodGetPrice\n",
    "def test_clean_data_price_chitai_gorod():\n",
    "    price = ChitaiGorodGetPrice('https://new.chitai-gorod.ru/product/chistaya-arhitektura-iskusstvo-razrabotki-programmnogo-obespecheniya-2640391').clean_data()\n",
    "    if price == 1100:\n",
    "        print (\"passed\")\n",
    "    else:\n",
    "        assert False    \n",
    "    #print(type(price), price)\n",
    "    \n",
    "test_clean_data_price_chitai_gorod()\n"
   ]
  },
  {
   "cell_type": "markdown",
   "id": "7868c36a-993e-43e3-a233-9b49f3d2c931",
   "metadata": {},
   "source": [
    "-------------"
   ]
  },
  {
   "cell_type": "code",
   "execution_count": null,
   "id": "8c962c9a-f688-40ca-a0d1-e51d1cd33bcc",
   "metadata": {},
   "outputs": [],
   "source": [
    "# test_get_text для title из chitai_gorod_one_item - ChitaiGorodGetTitle\n",
    "def test_get_text_title_chitai_gorod(): # не работает (нет h1)\n",
    "    get_text_title = ChitaiGorodGetTitle('https://new.chitai-gorod.ru/product/chistaya-arhitektura-iskusstvo-razrabotki-programmnogo-obespecheniya-2640391').get_text()\n",
    "    #print(\"text=\",get_text_title)\n",
    "    if get_text_title == \"\"\"\\n      1\\xa0100 ₽\\n    \"\"\":\n",
    "        print (\"passed\")\n",
    "    else:\n",
    "        assert False\n",
    "\n",
    "test_get_text_title_chitai_gorod()    "
   ]
  },
  {
   "cell_type": "markdown",
   "id": "f3bb9da4-6f36-42e8-bc5f-8885b4c8f6d6",
   "metadata": {},
   "source": [
    "[<div class=\"product-detail-title\"><div><div class=\"product-detail-title__header vue-content-placeholders vue-content-placeholders-is-rounded vue-content-placeholders-is-animated\" itemprop=\"name\"><div class=\"app-title app-title--loading vue-content-placeholders-text\"><div class=\"vue-content-placeholders-text__line\"></div></div></div> <div class=\"product-detail-title__authors\"><a class=\"product-detail-title__author\" href=\"/author/martin-robert-s-586375\" itemprop=\"author\">\n",
    "          Роберт С. Мартин\n",
    "        </a></div></div></div>]\n",
    "1"
   ]
  },
  {
   "cell_type": "code",
   "execution_count": 11,
   "id": "9a70a5ff-9ccf-4dec-874a-2dab957b5148",
   "metadata": {},
   "outputs": [
    {
     "name": "stdout",
     "output_type": "stream",
     "text": [
      "Page code:  200\n",
      "[<div class=\"product-title__head\">\n",
      "    Чистая архитектура. Искусство разработки программного обеспечения\n",
      "  </div>]\n",
      "1\n",
      "\n",
      "    Чистая архитектура. Искусство разработки программного обеспечения\n",
      "  \n"
     ]
    },
    {
     "ename": "AssertionError",
     "evalue": "",
     "output_type": "error",
     "traceback": [
      "\u001b[0;31m---------------------------------------------------------------------------\u001b[0m",
      "\u001b[0;31mAssertionError\u001b[0m                            Traceback (most recent call last)",
      "Cell \u001b[0;32mIn [11], line 12\u001b[0m\n\u001b[1;32m      9\u001b[0m         \u001b[38;5;28;01massert\u001b[39;00m \u001b[38;5;28;01mFalse\u001b[39;00m    \n\u001b[1;32m     10\u001b[0m     \u001b[38;5;28mprint\u001b[39m(\u001b[38;5;28mtype\u001b[39m(title), title)\n\u001b[0;32m---> 12\u001b[0m \u001b[43mtest_clean_data_title_chitai_gorod\u001b[49m\u001b[43m(\u001b[49m\u001b[43m)\u001b[49m\n",
      "Cell \u001b[0;32mIn [11], line 9\u001b[0m, in \u001b[0;36mtest_clean_data_title_chitai_gorod\u001b[0;34m()\u001b[0m\n\u001b[1;32m      7\u001b[0m     \u001b[38;5;28mprint\u001b[39m (\u001b[38;5;124m\"\u001b[39m\u001b[38;5;124mpassed\u001b[39m\u001b[38;5;124m\"\u001b[39m)\n\u001b[1;32m      8\u001b[0m \u001b[38;5;28;01melse\u001b[39;00m:\n\u001b[0;32m----> 9\u001b[0m     \u001b[38;5;28;01massert\u001b[39;00m \u001b[38;5;28;01mFalse\u001b[39;00m    \n\u001b[1;32m     10\u001b[0m \u001b[38;5;28mprint\u001b[39m(\u001b[38;5;28mtype\u001b[39m(title), title)\n",
      "\u001b[0;31mAssertionError\u001b[0m: "
     ]
    }
   ],
   "source": [
    "# test_clean_data для title из chitai_gorod_one_item - ChitaiGorodGetTitle\n",
    "def test_clean_data_title_chitai_gorod():\n",
    "    title = ChitaiGorodGetTitle('https://new.chitai-gorod.ru/product/chistaya-arhitektura-iskusstvo-razrabotki-programmnogo-obespecheniya-2640391').clean_data()\n",
    "                                #https://www.chitai-gorod.ru/product/chistaya-arhitektura-iskusstvo-razrabotki-programmnogo-obespecheniya-2640391\n",
    "    print(title)\n",
    "    if title == 1:\n",
    "        print (\"passed\")\n",
    "    else:\n",
    "        assert False    \n",
    "    print(type(title), title)\n",
    "    \n",
    "test_clean_data_title_chitai_gorod()\n",
    "\n"
   ]
  },
  {
   "cell_type": "markdown",
   "id": "304ebf91-f570-4ba7-94b1-6ec15c076b22",
   "metadata": {},
   "source": [
    "---------------"
   ]
  },
  {
   "cell_type": "code",
   "execution_count": 2,
   "id": "6ac130b0-c240-4d78-99d8-6851f4296fde",
   "metadata": {},
   "outputs": [
    {
     "name": "stdout",
     "output_type": "stream",
     "text": [
      "Page code:  200\n"
     ]
    },
    {
     "ename": "AttributeError",
     "evalue": "'ChitaiGorodGetAuthor' object has no attribute 'get_text'",
     "output_type": "error",
     "traceback": [
      "\u001b[0;31m---------------------------------------------------------------------------\u001b[0m",
      "\u001b[0;31mAttributeError\u001b[0m                            Traceback (most recent call last)",
      "Cell \u001b[0;32mIn [2], line 9\u001b[0m\n\u001b[1;32m      6\u001b[0m     \u001b[38;5;28;01melse\u001b[39;00m:\n\u001b[1;32m      7\u001b[0m         \u001b[38;5;28;01massert\u001b[39;00m \u001b[38;5;28;01mFalse\u001b[39;00m\n\u001b[0;32m----> 9\u001b[0m \u001b[43mtest_get_text_author_chitai_gorod\u001b[49m\u001b[43m(\u001b[49m\u001b[43m)\u001b[49m  \n",
      "Cell \u001b[0;32mIn [2], line 3\u001b[0m, in \u001b[0;36mtest_get_text_author_chitai_gorod\u001b[0;34m()\u001b[0m\n\u001b[1;32m      2\u001b[0m \u001b[38;5;28;01mdef\u001b[39;00m \u001b[38;5;21mtest_get_text_author_chitai_gorod\u001b[39m():\n\u001b[0;32m----> 3\u001b[0m     get_text_author \u001b[38;5;241m=\u001b[39m \u001b[43mChitaiGorodGetAuthor\u001b[49m\u001b[43m(\u001b[49m\u001b[38;5;124;43m'\u001b[39;49m\u001b[38;5;124;43mhttps://new.chitai-gorod.ru/product/chistaya-arhitektura-iskusstvo-razrabotki-programmnogo-obespecheniya-2640391\u001b[39;49m\u001b[38;5;124;43m'\u001b[39;49m\u001b[43m)\u001b[49m\u001b[38;5;241;43m.\u001b[39;49m\u001b[43mget_text\u001b[49m()\n\u001b[1;32m      4\u001b[0m     \u001b[38;5;28;01mif\u001b[39;00m get_text_author \u001b[38;5;241m==\u001b[39m \u001b[38;5;124m\"\"\"\u001b[39m\u001b[38;5;130;01m\\n\u001b[39;00m\u001b[38;5;124m          Роберт С. Мартин\u001b[39m\u001b[38;5;130;01m\\n\u001b[39;00m\u001b[38;5;124m        \u001b[39m\u001b[38;5;124m\"\"\"\u001b[39m:\n\u001b[1;32m      5\u001b[0m         \u001b[38;5;28mprint\u001b[39m (\u001b[38;5;124m\"\u001b[39m\u001b[38;5;124mpassed\u001b[39m\u001b[38;5;124m\"\u001b[39m)\n",
      "\u001b[0;31mAttributeError\u001b[0m: 'ChitaiGorodGetAuthor' object has no attribute 'get_text'"
     ]
    }
   ],
   "source": [
    "# test_get_text для author из chitai_gorod_one_item - ChitaiGorodGetAuthor\n",
    "def test_get_text_author_chitai_gorod():\n",
    "    get_text_author = ChitaiGorodGetAuthor('https://new.chitai-gorod.ru/product/chistaya-arhitektura-iskusstvo-razrabotki-programmnogo-obespecheniya-2640391').get_text()\n",
    "    if get_text_author == \"\"\"\\n          Роберт С. Мартин\\n        \"\"\":\n",
    "        print (\"passed\")\n",
    "    else:\n",
    "        assert False\n",
    "\n",
    "test_get_text_author_chitai_gorod()  "
   ]
  },
  {
   "cell_type": "code",
   "execution_count": 4,
   "id": "73df69f9-a629-4bde-acdd-a61b55a90a02",
   "metadata": {},
   "outputs": [
    {
     "name": "stdout",
     "output_type": "stream",
     "text": [
      "Page code:  200\n",
      "passed\n"
     ]
    }
   ],
   "source": [
    "# test_clean_data для author из chitai_gorod_one_item - ChitaiGorodGetAuthor\n",
    "def test_clean_data_author_chitai_gorod():\n",
    "    author = ChitaiGorodGetAuthor('https://new.chitai-gorod.ru/product/chistaya-arhitektura-iskusstvo-razrabotki-programmnogo-obespecheniya-2640391').clean_data()\n",
    "    if author == \"Роберт С. Мартин\":\n",
    "        print (\"passed\")\n",
    "    else:\n",
    "        assert False    \n",
    "    #print(type(author), author)\n",
    "    \n",
    "test_clean_data_author_chitai_gorod()"
   ]
  },
  {
   "cell_type": "markdown",
   "id": "32da5e17-97b8-4009-ab6e-105982614a5c",
   "metadata": {},
   "source": [
    "--------"
   ]
  },
  {
   "cell_type": "code",
   "execution_count": 3,
   "id": "3f9d369a-77c1-476f-95c0-be5c44330596",
   "metadata": {},
   "outputs": [
    {
     "name": "stdout",
     "output_type": "stream",
     "text": [
      "Page code:  200\n",
      "passed\n"
     ]
    }
   ],
   "source": [
    "# test_get_text для author_url из chitai_gorod_one_item - ChitaiGorodGetAuthorURL\n",
    "def test_get_text_author_url_chitai_gorod():\n",
    "    get_text_author_url = ChitaiGorodGetAuthorURL('https://new.chitai-gorod.ru/product/chistaya-arhitektura-iskusstvo-razrabotki-programmnogo-obespecheniya-2640391').get_text()\n",
    "    #print(\"text=\",get_text_author_url)\n",
    "    if get_text_author_url == \"/author/martin-robert-s-586375\":\n",
    "        print (\"passed\")\n",
    "    else:\n",
    "        assert False\n",
    "\n",
    "test_get_text_author_url_chitai_gorod() "
   ]
  },
  {
   "cell_type": "code",
   "execution_count": null,
   "id": "4354d8fb-7206-4490-995c-898e738b54ff",
   "metadata": {},
   "outputs": [],
   "source": []
  },
  {
   "cell_type": "markdown",
   "id": "1669b0fa-b99c-478e-b6cc-1d462c9fc38f",
   "metadata": {},
   "source": [
    "---------------\n",
    "---------------"
   ]
  },
  {
   "cell_type": "code",
   "execution_count": null,
   "id": "f4245c6e-e427-4c4f-8376-e9dd3d1c1f8b",
   "metadata": {},
   "outputs": [],
   "source": []
  },
  {
   "cell_type": "code",
   "execution_count": 3,
   "id": "ca974f42-899f-4fbe-93d3-2b9350547d92",
   "metadata": {},
   "outputs": [
    {
     "name": "stdout",
     "output_type": "stream",
     "text": [
      "('en_US', 'ISO8859-1')\n",
      "('ru_RU', 'UTF-8')\n",
      "Page code:  200\n",
      "[]\n"
     ]
    },
    {
     "ename": "AssertionError",
     "evalue": "",
     "output_type": "error",
     "traceback": [
      "\u001b[0;31m---------------------------------------------------------------------------\u001b[0m",
      "\u001b[0;31mAssertionError\u001b[0m                            Traceback (most recent call last)",
      "Cell \u001b[0;32mIn [3], line 18\u001b[0m\n\u001b[1;32m     15\u001b[0m     \u001b[38;5;28;01melse\u001b[39;00m:\n\u001b[1;32m     16\u001b[0m         \u001b[38;5;28;01massert\u001b[39;00m \u001b[38;5;28;01mFalse\u001b[39;00m\n\u001b[0;32m---> 18\u001b[0m \u001b[43mtest_get_items_data_chitai_gorod\u001b[49m\u001b[43m(\u001b[49m\u001b[43m)\u001b[49m\n",
      "Cell \u001b[0;32mIn [3], line 16\u001b[0m, in \u001b[0;36mtest_get_items_data_chitai_gorod\u001b[0;34m()\u001b[0m\n\u001b[1;32m     14\u001b[0m     \u001b[38;5;28mprint\u001b[39m (\u001b[38;5;124m\"\u001b[39m\u001b[38;5;124mpassed\u001b[39m\u001b[38;5;124m\"\u001b[39m)\n\u001b[1;32m     15\u001b[0m \u001b[38;5;28;01melse\u001b[39;00m:\n\u001b[0;32m---> 16\u001b[0m     \u001b[38;5;28;01massert\u001b[39;00m \u001b[38;5;28;01mFalse\u001b[39;00m\n",
      "\u001b[0;31mAssertionError\u001b[0m: "
     ]
    }
   ],
   "source": [
    "import locale\n",
    "print(locale.getlocale())\n",
    "locale.setlocale(locale.LC_ALL, ('ru_RU', 'UTF-8'))\n",
    "print(locale.getlocale())\n",
    "\n",
    "# test_get_items_data из chitai_gorod_items_list\n",
    "def test_get_items_data_chitai_gorod():\n",
    "    items_data = ChitaiGorodItemsList(\"https://new.chitai-gorod.ru/catalog/books/nauka-i-tehnika-9170?sort=price&order=asc\").get_items_data()\n",
    "    print (items_data) # выдает последнюю позицию текущей страницы, а не первую\n",
    "    with open(\"t_e_s_t_get_items_data_chitai_gorod.txt\", \"rb\") as saved_data:\n",
    "        data_for_test = saved_data.read()\n",
    "    #print(data_for_test)\n",
    "    if items_data == data_for_test:\n",
    "        print (\"passed\")\n",
    "    else:\n",
    "        assert False\n",
    "        \n",
    "test_get_items_data_chitai_gorod()"
   ]
  },
  {
   "cell_type": "code",
   "execution_count": 3,
   "id": "58da8eae-91d6-4a86-9117-5b2777ea7c0c",
   "metadata": {},
   "outputs": [
    {
     "name": "stdout",
     "output_type": "stream",
     "text": [
      "https://new.chitai-gorod.ru/product/s-kogo-poshlo-russkoe-monashestvo-yunost-prepodobnogo-feodosiya-2473906\n",
      "Not find author in https://new.chitai-gorod.ru/product/s-kogo-poshlo-russkoe-monashestvo-yunost-prepodobnogo-feodosiya-2473906\n",
      "https://new.chitai-gorod.ru/product/starshiy-brat-blagovernogo-knyazya-aleksandra-nevskogo-otrochestvo-feodora-novgorodskogo-2473888\n",
      "https://new.chitai-gorod.ru/product/radetel-zemli-russkoy-detstvo-svyatitelya-aleksiya-moskovskogo-2473875\n",
      "Not find author in https://new.chitai-gorod.ru/product/radetel-zemli-russkoy-detstvo-svyatitelya-aleksiya-moskovskogo-2473875\n",
      "https://new.chitai-gorod.ru/product/dom-kotoryy-ne-razorit-detskie-gody-svyatitelya-arseniya-tverskogo-2473903\n",
      "https://new.chitai-gorod.ru/product/na-pomoshch-tvoyu-upovayu-detskie-gody-svyatitelya-feofana-zatvornika-2473889\n",
      "https://new.chitai-gorod.ru/product/otrok-bozhiy-rasskazy-o-yunyh-godah-svyatogo-gavriila-sedmiezerskogo-2492746\n",
      "https://new.chitai-gorod.ru/product/tereza-iz-lize-2691619\n",
      "Not find author in https://new.chitai-gorod.ru/product/tereza-iz-lize-2691619\n",
      "https://new.chitai-gorod.ru/product/detskiy-molitvoslov-ill-bystrovoy-m-chugunov-2492483\n",
      "https://new.chitai-gorod.ru/product/budte-svyaty-2587523\n",
      "Not find author in https://new.chitai-gorod.ru/product/budte-svyaty-2587523\n",
      "https://new.chitai-gorod.ru/product/kratkiy-molitvoslov-shkolnika-2540806\n",
      "Not find author in https://new.chitai-gorod.ru/product/kratkiy-molitvoslov-shkolnika-2540806\n",
      "https://new.chitai-gorod.ru/product/nabor-kartochek-uchim-dua-12-sht-2827414\n",
      "Not find author in https://new.chitai-gorod.ru/product/nabor-kartochek-uchim-dua-12-sht-2827414\n",
      "https://new.chitai-gorod.ru/product/novost-dlya-okeana-2662532\n",
      "Not find author in https://new.chitai-gorod.ru/product/novost-dlya-okeana-2662532\n",
      "https://new.chitai-gorod.ru/product/subbotniy-bloknot-ill-kostikovoy-i-dr-m-2626249\n",
      "Not find author in https://new.chitai-gorod.ru/product/subbotniy-bloknot-ill-kostikovoy-i-dr-m-2626249\n",
      "https://new.chitai-gorod.ru/product/strasti-2587589\n",
      "https://new.chitai-gorod.ru/product/dom-na-dereve-pritchi-hrista-rasskazannye-po-novomu-2940056\n",
      "https://new.chitai-gorod.ru/product/bogomater-smolenskaya-odigitriya-2420830\n",
      "https://new.chitai-gorod.ru/product/zosima-i-savvatiy-skaz-o-svyatyh-zemli-soloveckoy-2052004\n",
      "https://new.chitai-gorod.ru/product/ikona-bogomater-tihvinskaya-skaz-ob-obobretenii-chudotvornogo-obraza-2052005\n",
      "https://new.chitai-gorod.ru/product/molitvoslov-dlya-samyh-malenkih-2402340\n",
      "Not find author in https://new.chitai-gorod.ru/product/molitvoslov-dlya-samyh-malenkih-2402340\n",
      "https://new.chitai-gorod.ru/product/tainstva-cerkvi-v-izlozhenii-dlya-malyshey-2450996\n",
      "Not find author in https://new.chitai-gorod.ru/product/tainstva-cerkvi-v-izlozhenii-dlya-malyshey-2450996\n",
      "https://new.chitai-gorod.ru/product/kto-obidel-moyu-mamu-ili-kulichik-nash-pashalnyy-volk-mashuliny-rasskazy-2740519\n",
      "Not find author in https://new.chitai-gorod.ru/product/kto-obidel-moyu-mamu-ili-kulichik-nash-pashalnyy-volk-mashuliny-rasskazy-2740519\n",
      "https://new.chitai-gorod.ru/product/vera-lira-i-morozhenoe-2693828\n",
      "Not find author in https://new.chitai-gorod.ru/product/vera-lira-i-morozhenoe-2693828\n",
      "https://new.chitai-gorod.ru/product/tyu-i-morri-kto-letaet-v-more-2693837\n",
      "Not find author in https://new.chitai-gorod.ru/product/tyu-i-morri-kto-letaet-v-more-2693837\n",
      "https://new.chitai-gorod.ru/product/budte-kak-deti-52-rasskaza-dlya-propovedi-detyam-vypusk-1-2626248\n",
      "Not find author in https://new.chitai-gorod.ru/product/budte-kak-deti-52-rasskaza-dlya-propovedi-detyam-vypusk-1-2626248\n",
      "https://new.chitai-gorod.ru/product/proroki-poznavatelnaya-kniga-raskraska-2578074\n",
      "Not find author in https://new.chitai-gorod.ru/product/proroki-poznavatelnaya-kniga-raskraska-2578074\n",
      "https://new.chitai-gorod.ru/product/azbuka-dlya-pravoslavnyh-detey-2410883\n",
      "https://new.chitai-gorod.ru/product/detyam-o-sovesti-2824443\n",
      "Not find author in https://new.chitai-gorod.ru/product/detyam-o-sovesti-2824443\n",
      "https://new.chitai-gorod.ru/product/shag-za-shagom-so-hristom-2527722\n",
      "https://new.chitai-gorod.ru/product/zolotogo-detstva-dni-2693830\n",
      "https://new.chitai-gorod.ru/product/knizhka-raskraska-svyatye-mucheniki-kosma-i-damian-vrachi-bezmezdnye-2881230\n",
      "Not find author in https://new.chitai-gorod.ru/product/knizhka-raskraska-svyatye-mucheniki-kosma-i-damian-vrachi-bezmezdnye-2881230\n",
      "https://new.chitai-gorod.ru/product/knizhka-raskraska-svyatitel-spiridon-trimifuntskiy-chudotvorec-2881229\n",
      "Not find author in https://new.chitai-gorod.ru/product/knizhka-raskraska-svyatitel-spiridon-trimifuntskiy-chudotvorec-2881229\n",
      "https://new.chitai-gorod.ru/product/knizhka-raskraska-bibleyskaya-istoriya-prorok-iona-vo-chreve-kita-2881228\n",
      "Not find author in https://new.chitai-gorod.ru/product/knizhka-raskraska-bibleyskaya-istoriya-prorok-iona-vo-chreve-kita-2881228\n",
      "https://new.chitai-gorod.ru/product/zhemchuzhina-plemeni-kuraysh-2579228\n",
      "Not find author in https://new.chitai-gorod.ru/product/zhemchuzhina-plemeni-kuraysh-2579228\n",
      "https://new.chitai-gorod.ru/product/hozyain-doma-solnca-2579230\n",
      "Not find author in https://new.chitai-gorod.ru/product/hozyain-doma-solnca-2579230\n",
      "https://new.chitai-gorod.ru/product/neboskreby-ezhednevnye-chteniya-dlya-podrostkov-366-istoriy-2574915\n",
      "Not find author in https://new.chitai-gorod.ru/product/neboskreby-ezhednevnye-chteniya-dlya-podrostkov-366-istoriy-2574915\n",
      "https://new.chitai-gorod.ru/product/detyam-o-vere-2772969\n",
      "Not find author in https://new.chitai-gorod.ru/product/detyam-o-vere-2772969\n",
      "https://new.chitai-gorod.ru/product/picca-dlya-kazhdogo-2881394\n",
      "https://new.chitai-gorod.ru/product/detyam-o-uchenii-2824444\n",
      "Not find author in https://new.chitai-gorod.ru/product/detyam-o-uchenii-2824444\n",
      "https://new.chitai-gorod.ru/product/ya-segodnya-pomolyus-2854033\n",
      "Not find author in https://new.chitai-gorod.ru/product/ya-segodnya-pomolyus-2854033\n",
      "https://new.chitai-gorod.ru/product/detyam-o-zdorove-2824440\n",
      "Not find author in https://new.chitai-gorod.ru/product/detyam-o-zdorove-2824440\n",
      "https://new.chitai-gorod.ru/product/detyam-ob-angelah-2798482\n",
      "https://new.chitai-gorod.ru/product/pomnite-deti-pyatuyu-zapoved-2496497\n",
      "Not find author in https://new.chitai-gorod.ru/product/pomnite-deti-pyatuyu-zapoved-2496497\n",
      "https://new.chitai-gorod.ru/product/pervaya-molitva-2471024\n",
      "Not find author in https://new.chitai-gorod.ru/product/pervaya-molitva-2471024\n",
      "https://new.chitai-gorod.ru/product/detyam-o-slove-2625893\n",
      "Not find author in https://new.chitai-gorod.ru/product/detyam-o-slove-2625893\n",
      "https://new.chitai-gorod.ru/product/pustite-detey-prihodit-ko-mne-52-rasskaza-dlya-propovedi-detyam-vypusk-2-2704712\n",
      "Not find author in https://new.chitai-gorod.ru/product/pustite-detey-prihodit-ko-mne-52-rasskaza-dlya-propovedi-detyam-vypusk-2-2704712\n",
      "https://new.chitai-gorod.ru/product/nasledie-ot-gospoda-52-rasskaza-dlya-propovedi-detyam-vypusk-3-2783683\n",
      "https://new.chitai-gorod.ru/product/my-musulmane-stihi-o-malchike-i-devochke-2827428\n",
      "Not find author in https://new.chitai-gorod.ru/product/my-musulmane-stihi-o-malchike-i-devochke-2827428\n",
      "https://new.chitai-gorod.ru/product/neustrashimaya-dusha-2587365\n",
      "[{'url': 'https://new.chitai-gorod.ru/product/starshiy-brat-blagovernogo-knyazya-aleksandra-nevskogo-otrochestvo-feodora-novgorodskogo-2473888', 'title': 'Старший брат благоверного князя Александра Невского. Отрочество Феодора Новгородского', 'price': 48, 'author': 'Елена Еремина', 'author_url': '/author/eremina-elena-9055032', 'source_url': 'https://www.chitai-gorod.ru/catalog/books/knigi-dlya-detey-9072?sort=price&order=asc'}, {'url': 'https://new.chitai-gorod.ru/product/dom-kotoryy-ne-razorit-detskie-gody-svyatitelya-arseniya-tverskogo-2473903', 'title': 'Дом, который не разорить. Детские годы святителя Арсения Тверского', 'price': 52, 'author': 'Мария Волкова', 'author_url': '/author/volkova-mariya-431500', 'source_url': 'https://www.chitai-gorod.ru/catalog/books/knigi-dlya-detey-9072?sort=price&order=asc'}, {'url': 'https://new.chitai-gorod.ru/product/na-pomoshch-tvoyu-upovayu-detskie-gody-svyatitelya-feofana-zatvornika-2473889', 'title': 'На помощь твою уповаю. Детские годы святителя Феофана Затворника', 'price': 52, 'author': 'Мария Волкова', 'author_url': '/author/volkova-mariya-431500', 'source_url': 'https://www.chitai-gorod.ru/catalog/books/knigi-dlya-detey-9072?sort=price&order=asc'}, {'url': 'https://new.chitai-gorod.ru/product/otrok-bozhiy-rasskazy-o-yunyh-godah-svyatogo-gavriila-sedmiezerskogo-2492746', 'title': 'Отрок Божий. Рассказы о юных годах святого Гавриила Седмиезерского', 'price': 56, 'author': 'Наталия Скоробогатько', 'author_url': '/author/skorobogatko-nataliya-582770', 'source_url': 'https://www.chitai-gorod.ru/catalog/books/knigi-dlya-detey-9072?sort=price&order=asc'}, {'url': 'https://new.chitai-gorod.ru/product/detskiy-molitvoslov-ill-bystrovoy-m-chugunov-2492483', 'title': 'Детский молитвослов (илл. Быстровой) (м) Чугунов', 'price': 79, 'author': 'Владимир Чугунов', 'author_url': '/author/chugunov-vladimir-2227726', 'source_url': 'https://www.chitai-gorod.ru/catalog/books/knigi-dlya-detey-9072?sort=price&order=asc'}, {'url': 'https://new.chitai-gorod.ru/product/strasti-2587589', 'title': 'Страсти', 'price': 109, 'author': 'Николай Посадский', 'author_url': '/author/posadskiy-nikolay-599446', 'source_url': 'https://www.chitai-gorod.ru/catalog/books/knigi-dlya-detey-9072?sort=price&order=asc'}, {'url': 'https://new.chitai-gorod.ru/product/dom-na-dereve-pritchi-hrista-rasskazannye-po-novomu-2940056', 'title': 'Дом на дереве. Притчи Христа, рассказанные по-новому', 'price': 113, 'author': 'Чарльз Миллс', 'author_url': '/author/mills-charlz-8224595', 'source_url': 'https://www.chitai-gorod.ru/catalog/books/knigi-dlya-detey-9072?sort=price&order=asc'}, {'url': 'https://new.chitai-gorod.ru/product/bogomater-smolenskaya-odigitriya-2420830', 'title': 'Богоматерь Смоленская Одигитрия', 'price': 117, 'author': 'Наталия Скоробогатько', 'author_url': '/author/skorobogatko-nataliya-582770', 'source_url': 'https://www.chitai-gorod.ru/catalog/books/knigi-dlya-detey-9072?sort=price&order=asc'}, {'url': 'https://new.chitai-gorod.ru/product/zosima-i-savvatiy-skaz-o-svyatyh-zemli-soloveckoy-2052004', 'title': 'Зосима и Савватий: Сказ о святых земли соловецкой', 'price': 117, 'author': 'Наталия Скоробогатько', 'author_url': '/author/skorobogatko-nataliya-582770', 'source_url': 'https://www.chitai-gorod.ru/catalog/books/knigi-dlya-detey-9072?sort=price&order=asc'}, {'url': 'https://new.chitai-gorod.ru/product/ikona-bogomater-tihvinskaya-skaz-ob-obobretenii-chudotvornogo-obraza-2052005', 'title': 'Икона Богоматерь Тихвинская: Сказ об  обобретении чудотворного образа', 'price': 117, 'author': 'Наталия Скоробогатько', 'author_url': '/author/skorobogatko-nataliya-582770', 'source_url': 'https://www.chitai-gorod.ru/catalog/books/knigi-dlya-detey-9072?sort=price&order=asc'}, {'url': 'https://new.chitai-gorod.ru/product/azbuka-dlya-pravoslavnyh-detey-2410883', 'title': 'Азбука для православных детей', 'price': 150, 'author': 'Надежда Орлова', 'author_url': '/author/orlova-nadezhda-3612237', 'source_url': 'https://www.chitai-gorod.ru/catalog/books/knigi-dlya-detey-9072?sort=price&order=asc'}, {'url': 'https://new.chitai-gorod.ru/product/shag-za-shagom-so-hristom-2527722', 'title': 'Шаг за шагом со Христом', 'price': 158, 'author': 'Джерри Томас', 'author_url': '/author/tomas-dzherri-9089047', 'source_url': 'https://www.chitai-gorod.ru/catalog/books/knigi-dlya-detey-9072?sort=price&order=asc'}, {'url': 'https://new.chitai-gorod.ru/product/zolotogo-detstva-dni-2693830', 'title': 'Золотого детства дни', 'price': 158, 'author': 'Елена Долгих', 'author_url': '/author/dolgih-elena-6495244', 'source_url': 'https://www.chitai-gorod.ru/catalog/books/knigi-dlya-detey-9072?sort=price&order=asc'}, {'url': 'https://new.chitai-gorod.ru/product/picca-dlya-kazhdogo-2881394', 'title': 'Пицца для каждого', 'price': 169, 'author': 'Джош Макдауэлл, Дотти Макдауэлл', 'author_url': '/author/makdauell-dzhosh-500724', 'source_url': 'https://www.chitai-gorod.ru/catalog/books/knigi-dlya-detey-9072?sort=price&order=asc'}, {'url': 'https://new.chitai-gorod.ru/product/detyam-ob-angelah-2798482', 'title': 'Детям об Ангелах', 'price': 175, 'author': 'Татьяна Шипошина', 'author_url': '/author/shiposhina-tatyana-577097', 'source_url': 'https://www.chitai-gorod.ru/catalog/books/knigi-dlya-detey-9072?sort=price&order=asc'}, {'url': 'https://new.chitai-gorod.ru/product/nasledie-ot-gospoda-52-rasskaza-dlya-propovedi-detyam-vypusk-3-2783683', 'title': 'Наследие от Господа. 52 рассказа для проповеди детям. Выпуск 3', 'price': 179, 'author': 'Екатерина Бут', 'author_url': '/author/but-ekaterina-8245439', 'source_url': 'https://www.chitai-gorod.ru/catalog/books/knigi-dlya-detey-9072?sort=price&order=asc'}, {'url': 'https://new.chitai-gorod.ru/product/neustrashimaya-dusha-2587365', 'title': 'Неустрашимая Душа', 'price': 182, 'author': 'Дмитрий Харченко', 'author_url': '/author/harchenko-dmitriy-601220', 'source_url': 'https://www.chitai-gorod.ru/catalog/books/knigi-dlya-detey-9072?sort=price&order=asc'}]\n",
      "passed\n"
     ]
    }
   ],
   "source": [
    "# test_get_items_data из chitai_gorod_items_list\n",
    "# Проверка URL на автора\n",
    "def test_get_items_data_chitai_gorod_2():\n",
    "    items_data = ChitaiGorodItemsList(\"https://www.chitai-gorod.ru/catalog/books/knigi-dlya-detey-9072?sort=price&order=asc\").get_items_data()\n",
    "    print (items_data) # выдает последнюю позицию текущей страницы, а не первую\n",
    "    data_for_test = {'url': 'https://new.chitai-gorod.ru/product/starshiy-brat-blagovernogo-knyazya-aleksandra-nevskogo-otrochestvo-feodora-novgorodskogo-2473888', 'title': 'Старший брат благоверного князя Александра Невского. Отрочество Феодора Новгородского', 'price': 48, 'author': 'Елена Еремина', 'author_url': '/author/eremina-elena-9055032', 'source_url': 'https://www.chitai-gorod.ru/catalog/books/knigi-dlya-detey-9072?sort=price&order=asc'}\n",
    "    if data_for_test in items_data:\n",
    "        print (\"passed\")\n",
    "    else:\n",
    "        assert False\n",
    "        \n",
    "test_get_items_data_chitai_gorod_2()"
   ]
  },
  {
   "cell_type": "code",
   "execution_count": 3,
   "id": "6a30097a-edf4-4df0-8763-00ce6302951e",
   "metadata": {},
   "outputs": [],
   "source": [
    "\n"
   ]
  },
  {
   "cell_type": "code",
   "execution_count": null,
   "id": "0b7e3629-945d-4662-8065-ef4fb95cde28",
   "metadata": {},
   "outputs": [],
   "source": []
  },
  {
   "cell_type": "code",
   "execution_count": 2,
   "id": "84da6d5b-2d98-4b04-b9e1-4ebf375f8cfd",
   "metadata": {},
   "outputs": [
    {
     "name": "stdout",
     "output_type": "stream",
     "text": [
      "['https://new.chitai-gorod.ru/catalog/books/hudozhestvennaya-literatura-9657', 'https://new.chitai-gorod.ru/catalog/books/knigi-dlya-detey-9072']\n"
     ]
    },
    {
     "ename": "AssertionError",
     "evalue": "",
     "output_type": "error",
     "traceback": [
      "\u001b[0;31m---------------------------------------------------------------------------\u001b[0m",
      "\u001b[0;31mAssertionError\u001b[0m                            Traceback (most recent call last)",
      "Cell \u001b[0;32mIn [3], line 8\u001b[0m\n\u001b[1;32m      4\u001b[0m     \u001b[38;5;28mprint\u001b[39m(urls)\n\u001b[1;32m      5\u001b[0m     \u001b[38;5;28;01massert\u001b[39;00m urls \u001b[38;5;241m==\u001b[39m [\u001b[38;5;124m'\u001b[39m\u001b[38;5;124mhttps://new.chitai-gorod.ru/catalog/books/hudozhestvennaya-literatura-9657\u001b[39m\u001b[38;5;124m'\u001b[39m, \u001b[38;5;124m'\u001b[39m\u001b[38;5;124mhttps://new.chitai-gorod.ru/catalog/books/knigi-dlya-detey-9072\u001b[39m\u001b[38;5;124m'\u001b[39m]\n\u001b[0;32m----> 8\u001b[0m \u001b[43mtest_ChitaiGorodURLConfiguration_init\u001b[49m\u001b[43m(\u001b[49m\u001b[43m)\u001b[49m\n",
      "Cell \u001b[0;32mIn [3], line 5\u001b[0m, in \u001b[0;36mtest_ChitaiGorodURLConfiguration_init\u001b[0;34m()\u001b[0m\n\u001b[1;32m      3\u001b[0m urls \u001b[38;5;241m=\u001b[39m ChitaiGorodURLConfiguration([\u001b[38;5;124m\"\u001b[39m\u001b[38;5;124mhttps://new.chitai-gorod.ru/catalog/books/hudozhestvennaya-literatura-9657\u001b[39m\u001b[38;5;124m\"\u001b[39m, \u001b[38;5;124m\"\u001b[39m\u001b[38;5;124mhttps://new.chitai-gorod.ru/catalog/books/knigi-dlya-detey-9072\u001b[39m\u001b[38;5;124m\"\u001b[39m])\n\u001b[1;32m      4\u001b[0m \u001b[38;5;28mprint\u001b[39m(urls)\n\u001b[0;32m----> 5\u001b[0m \u001b[38;5;28;01massert\u001b[39;00m urls \u001b[38;5;241m==\u001b[39m [\u001b[38;5;124m'\u001b[39m\u001b[38;5;124mhttps://new.chitai-gorod.ru/catalog/books/hudozhestvennaya-literatura-9657\u001b[39m\u001b[38;5;124m'\u001b[39m, \u001b[38;5;124m'\u001b[39m\u001b[38;5;124mhttps://new.chitai-gorod.ru/catalog/books/knigi-dlya-detey-9072\u001b[39m\u001b[38;5;124m'\u001b[39m]\n",
      "\u001b[0;31mAssertionError\u001b[0m: "
     ]
    }
   ],
   "source": [
    "# test ChitaiGorodURLConfiguration как работает инициализация\n",
    "def test_ChitaiGorodURLConfiguration_init():\n",
    "    urls = ChitaiGorodURLConfiguration([\"https://new.chitai-gorod.ru/catalog/books/hudozhestvennaya-literatura-9657\", \"https://new.chitai-gorod.ru/catalog/books/knigi-dlya-detey-9072\"])\n",
    "    print(urls)\n",
    "    \n",
    "    \n",
    "test_ChitaiGorodURLConfiguration_init()"
   ]
  },
  {
   "cell_type": "code",
   "execution_count": 2,
   "id": "7424ae97-01bf-4efc-821d-ba378707a1ff",
   "metadata": {},
   "outputs": [
    {
     "name": "stdout",
     "output_type": "stream",
     "text": [
      "url_data.txt\n"
     ]
    }
   ],
   "source": [
    "# test ChitaiGorodURLConfiguration как работает инициализация\n",
    "def test_ChitaiGorodURLConfiguration_init():\n",
    "    urls = ChitaiGorodURLConfiguration(\"url_data.txt\")\n",
    "    print(urls)\n",
    "    \n",
    "    \n",
    "test_ChitaiGorodURLConfiguration_init()"
   ]
  },
  {
   "cell_type": "code",
   "execution_count": null,
   "id": "0db5bd68-693d-4e80-85b5-82b4e4c8c75b",
   "metadata": {},
   "outputs": [],
   "source": []
  }
 ],
 "metadata": {
  "kernelspec": {
   "display_name": "Python 3 (ipykernel)",
   "language": "python",
   "name": "python3"
  },
  "language_info": {
   "codemirror_mode": {
    "name": "ipython",
    "version": 3
   },
   "file_extension": ".py",
   "mimetype": "text/x-python",
   "name": "python",
   "nbconvert_exporter": "python",
   "pygments_lexer": "ipython3",
   "version": "3.9.7"
  }
 },
 "nbformat": 4,
 "nbformat_minor": 5
}
