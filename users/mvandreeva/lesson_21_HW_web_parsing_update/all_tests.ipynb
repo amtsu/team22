{
 "cells": [
  {
   "cell_type": "code",
   "execution_count": 1,
   "id": "07082cda-7543-4dfe-9fa8-fac97049bfe5",
   "metadata": {},
   "outputs": [],
   "source": [
    "from web_parsing import PageParsing\n",
    "from chitai_gorod_one_item import ChitaiGorodGetPrice, ChitaiGorodGetTitle, ChitaiGorodGetAuthor, ChitaiGorodGetAuthorURL\n",
    "from chitai_gorod_items_list import ChitaiGorodItemsList, ChitaiGorodURLConfiguration\n",
    "\n",
    "import urllib\n",
    "import urllib.request\n",
    "from bs4 import BeautifulSoup\n",
    "import json"
   ]
  },
  {
   "cell_type": "code",
   "execution_count": 2,
   "id": "c9ee3274-4433-4b3e-b7e3-7432ad247a17",
   "metadata": {},
   "outputs": [],
   "source": [
    "def test_page_parsing_read():\n",
    "    page = PageParsing(\"https://quke.ru/shop/UID_70281___306_.html\")\n",
    "    quke_one_page_parsing = page.get_page()\n",
    "    with urllib.request.urlopen(\"https://quke.ru/shop/UID_70281___306_.html\") as page:\n",
    "        text = page.read()\n",
    "        #soup = BeautifulSoup(text)\n",
    "    #print(quke_one_page_parsing)\n",
    "    #print(type(quke_one_page_parsing))\n",
    "    #print(\"********************\")\n",
    "    #print(soup)\n",
    "    if quke_one_page_parsing == text:\n",
    "        return \"test_open_page_prepare_soup is passed\"\n",
    "    else:\n",
    "        assert False"
   ]
  },
  {
   "cell_type": "code",
   "execution_count": 3,
   "id": "dc139ed0-e164-4b17-b18b-6905ea48339b",
   "metadata": {},
   "outputs": [
    {
     "data": {
      "text/plain": [
       "'test_open_page_prepare_soup is passed'"
      ]
     },
     "execution_count": 3,
     "metadata": {},
     "output_type": "execute_result"
    }
   ],
   "source": [
    "test_page_parsing_read()"
   ]
  },
  {
   "cell_type": "markdown",
   "id": "c9d30ed5-a27c-41cc-8591-c0ecd7bb97bb",
   "metadata": {},
   "source": [
    "--------------------------"
   ]
  },
  {
   "cell_type": "markdown",
   "id": "14b15a20-f0de-4b37-94a4-ec56c13820e1",
   "metadata": {},
   "source": [
    "# Скрыла метод get_text - не будет работать тест\n",
    "# test_get_text для price из chitai_gorod_one_item - ChitaiGorodGetPrice\n",
    "def test_get_text_price_chitai_gorod():\n",
    "    get_text_price = ChitaiGorodGetPrice('https://new.chitai-gorod.ru/product/chistaya-arhitektura-iskusstvo-razrabotki-programmnogo-obespecheniya-2640391').get_text()\n",
    "    #print(\"text=\",get_text_price)\n",
    "    if get_text_price == \"\"\"\\n      1\\xa0100 ₽\\n    \"\"\":\n",
    "        print (\"passed\")\n",
    "    else:\n",
    "        assert False\n",
    "\n",
    "test_get_text_price_chitai_gorod()    "
   ]
  },
  {
   "cell_type": "code",
   "execution_count": null,
   "id": "14a22dad-29de-4019-ae62-e4a474a65569",
   "metadata": {},
   "outputs": [],
   "source": [
    "# test_clean_data для price из chitai_gorod_one_item - ChitaiGorodGetPrice\n",
    "def test_clean_data_price_chitai_gorod():\n",
    "    page = PageParsing('https://new.chitai-gorod.ru/product/chistaya-arhitektura-iskusstvo-razrabotki-programmnogo-obespecheniya-2640391')\n",
    "    page_text = page.get_page()\n",
    "    page_url = page.get_url()\n",
    "    price = ChitaiGorodGetPrice(page_text, page_url).clean_data()\n",
    "    if price == 1100:\n",
    "        print (\"passed\")\n",
    "    else:\n",
    "        assert False    \n",
    "    #print(type(price), price)\n",
    "    \n",
    "test_clean_data_price_chitai_gorod()\n"
   ]
  },
  {
   "cell_type": "code",
   "execution_count": 4,
   "id": "d3dda5b5-4802-4b83-8ed4-35e5018a0884",
   "metadata": {},
   "outputs": [
    {
     "name": "stdout",
     "output_type": "stream",
     "text": [
      "passed\n"
     ]
    }
   ],
   "source": [
    "# test_clean_data для price из chitai_gorod_one_item - ChitaiGorodGetPrice\n",
    "def test_clean_data_price_chitai_gorod():\n",
    "    page = PageParsing('https://new.chitai-gorod.ru/product/chistaya-arhitektura-iskusstvo-razrabotki-programmnogo-obespecheniya-2640391')\n",
    "    page_text = page.get_page()\n",
    "    page_url = page.get_url()\n",
    "    chitai_gorod = ChitaiGorodGetPrice(page_text, page_url)\n",
    "    price = chitai_gorod.clean_data()\n",
    "    if isinstance(price, int):\n",
    "        print (\"passed\")\n",
    "    else:\n",
    "        assert False \n",
    "    #print(type(price), price)\n",
    "    \n",
    "test_clean_data_price_chitai_gorod()\n"
   ]
  },
  {
   "cell_type": "markdown",
   "id": "7868c36a-993e-43e3-a233-9b49f3d2c931",
   "metadata": {},
   "source": [
    "-------------"
   ]
  },
  {
   "cell_type": "markdown",
   "id": "89dc724c-ab06-45c1-b525-7f1bc5ec2dfd",
   "metadata": {},
   "source": [
    "# Скрыла метод get_text - не будет работать тест\n",
    "\n",
    "# test_get_text для title из chitai_gorod_one_item - ChitaiGorodGetTitle\n",
    "def test_get_text_title_chitai_gorod(): # не работает (нет h1)\n",
    "    get_text_title = ChitaiGorodGetTitle('https://new.chitai-gorod.ru/product/chistaya-arhitektura-iskusstvo-razrabotki-programmnogo-obespecheniya-2640391').get_text()\n",
    "    #print(\"text=\",get_text_title)\n",
    "    if get_text_title == \"\"\"\\n      1\\xa0100 ₽\\n    \"\"\":\n",
    "        print (\"passed\")\n",
    "    else:\n",
    "        assert False\n",
    "\n",
    "test_get_text_title_chitai_gorod()    "
   ]
  },
  {
   "cell_type": "markdown",
   "id": "f3bb9da4-6f36-42e8-bc5f-8885b4c8f6d6",
   "metadata": {},
   "source": [
    "[<div class=\"product-detail-title\"><div><div class=\"product-detail-title__header vue-content-placeholders vue-content-placeholders-is-rounded vue-content-placeholders-is-animated\" itemprop=\"name\"><div class=\"app-title app-title--loading vue-content-placeholders-text\"><div class=\"vue-content-placeholders-text__line\"></div></div></div> <div class=\"product-detail-title__authors\"><a class=\"product-detail-title__author\" href=\"/author/martin-robert-s-586375\" itemprop=\"author\">\n",
    "          Роберт С. Мартин\n",
    "        </a></div></div></div>]\n",
    "1"
   ]
  },
  {
   "cell_type": "code",
   "execution_count": null,
   "id": "0b678cc1-f399-4d43-aea5-f232906f76cf",
   "metadata": {},
   "outputs": [],
   "source": [
    "# не получается получить название, класс с title подгружается позже\n",
    "# test_clean_data для title из chitai_gorod_one_item - ChitaiGorodGetTitle\n",
    "def test_clean_data_title_chitai_gorod():\n",
    "    page = PageParsing('https://new.chitai-gorod.ru/product/chistaya-arhitektura-iskusstvo-razrabotki-programmnogo-obespecheniya-2640391')\n",
    "    page_text = page.get_page()\n",
    "    page_url = page.get_url()\n",
    "    chitai_gorod = ChitaiGorodGetTitle(page_text, page_url)\n",
    "    title = chitai_gorod.clean_data()\n",
    "    print(title)\n",
    "    if title == 1:\n",
    "        print (\"passed\")\n",
    "    else:\n",
    "        assert False    \n",
    "    print(type(title), title)\n",
    "    \n",
    "test_clean_data_title_chitai_gorod()\n",
    "\n"
   ]
  },
  {
   "cell_type": "markdown",
   "id": "304ebf91-f570-4ba7-94b1-6ec15c076b22",
   "metadata": {},
   "source": [
    "---------------"
   ]
  },
  {
   "cell_type": "markdown",
   "id": "cc00d2d4-e5c6-4bcb-9740-121f4d425bd6",
   "metadata": {},
   "source": [
    "# Скрыла метод get_text - не будет работать тест\n",
    "\n",
    "# test_get_text для author из chitai_gorod_one_item - ChitaiGorodGetAuthor\n",
    "def test_get_text_author_chitai_gorod():\n",
    "    get_text_author = ChitaiGorodGetAuthor('https://new.chitai-gorod.ru/product/chistaya-arhitektura-iskusstvo-razrabotki-programmnogo-obespecheniya-2640391').get_text()\n",
    "    if get_text_author == \"\"\"\\n          Роберт С. Мартин\\n        \"\"\":\n",
    "        print (\"passed\")\n",
    "    else:\n",
    "        assert False\n",
    "\n",
    "test_get_text_author_chitai_gorod()  "
   ]
  },
  {
   "cell_type": "code",
   "execution_count": 9,
   "id": "73df69f9-a629-4bde-acdd-a61b55a90a02",
   "metadata": {},
   "outputs": [
    {
     "name": "stdout",
     "output_type": "stream",
     "text": [
      "passed\n"
     ]
    }
   ],
   "source": [
    "# test_clean_data для author из chitai_gorod_one_item - ChitaiGorodGetAuthor\n",
    "def test_clean_data_author_chitai_gorod():\n",
    "    page = PageParsing('https://new.chitai-gorod.ru/product/chistaya-arhitektura-iskusstvo-razrabotki-programmnogo-obespecheniya-2640391')\n",
    "    page_text = page.get_page()\n",
    "    page_url = page.get_url()\n",
    "    chitai_gorod = ChitaiGorodGetAuthor(page_text, page_url)\n",
    "    author = chitai_gorod.clean_data()    \n",
    "    if author == \"Роберт С. Мартин\":\n",
    "        print (\"passed\")\n",
    "    else:\n",
    "        assert False    \n",
    "    #print(type(author), author)\n",
    "    \n",
    "test_clean_data_author_chitai_gorod()"
   ]
  },
  {
   "cell_type": "markdown",
   "id": "32da5e17-97b8-4009-ab6e-105982614a5c",
   "metadata": {},
   "source": [
    "--------"
   ]
  },
  {
   "cell_type": "markdown",
   "id": "0f193210-485c-4c71-bf60-e86eb8e35cd0",
   "metadata": {},
   "source": [
    "# Скрыла метод get_text - не будет работать тест\n",
    "\n",
    "# test_get_text для author_url из chitai_gorod_one_item - ChitaiGorodGetAuthorURL\n",
    "def test_get_text_author_url_chitai_gorod():\n",
    "    get_text_author_url = ChitaiGorodGetAuthorURL('https://new.chitai-gorod.ru/product/chistaya-arhitektura-iskusstvo-razrabotki-programmnogo-obespecheniya-2640391').get_text()\n",
    "    #print(\"text=\",get_text_author_url)\n",
    "    if get_text_author_url == \"/author/martin-robert-s-586375\":\n",
    "        print (\"passed\")\n",
    "    else:\n",
    "        assert False\n",
    "\n",
    "test_get_text_author_url_chitai_gorod() "
   ]
  },
  {
   "cell_type": "code",
   "execution_count": null,
   "id": "4354d8fb-7206-4490-995c-898e738b54ff",
   "metadata": {},
   "outputs": [],
   "source": []
  },
  {
   "cell_type": "markdown",
   "id": "1669b0fa-b99c-478e-b6cc-1d462c9fc38f",
   "metadata": {},
   "source": [
    "---------------\n",
    "---------------"
   ]
  },
  {
   "cell_type": "code",
   "execution_count": null,
   "id": "f4245c6e-e427-4c4f-8376-e9dd3d1c1f8b",
   "metadata": {},
   "outputs": [],
   "source": []
  },
  {
   "cell_type": "markdown",
   "id": "5b00c933-6fb4-483a-99d5-80f46520e5c5",
   "metadata": {},
   "source": [
    "import locale\n",
    "print(locale.getlocale())\n",
    "locale.setlocale(locale.LC_ALL, ('ru_RU', 'UTF-8'))\n",
    "print(locale.getlocale())\n",
    "\n",
    "# данные из файла загружаются абра-кадаброй, сбита кодировка\n",
    "# test_get_items_data из chitai_gorod_items_list\n",
    "def test_get_items_chitai_gorod_0():\n",
    "    page = PageParsing(\"https://new.chitai-gorod.ru/catalog/books/nauka-i-tehnika-9170?sort=price&order=asc\")\n",
    "    page_text = page.get_page()\n",
    "    page_url = page.get_url()\n",
    "    chitai_gorod_list = ChitaiGorodItemsList(page_text, page_url)\n",
    "    items_data = chitai_gorod_list.get_items_data()\n",
    "    print (items_data) # выдает последнюю позицию текущей страницы, а не первую\n",
    "    with open(\"t_e_s_t_get_items_data_chitai_gorod.txt\", \"rb\") as saved_data:\n",
    "        data_for_test = saved_data.read()\n",
    "    #print(data_for_test)\n",
    "    if items_data == data_for_test:\n",
    "        print (\"passed\")\n",
    "    else:\n",
    "        assert False\n",
    "        \n",
    "test_get_items_chitai_gorod()"
   ]
  },
  {
   "cell_type": "code",
   "execution_count": 4,
   "id": "58da8eae-91d6-4a86-9117-5b2777ea7c0c",
   "metadata": {},
   "outputs": [
    {
     "name": "stdout",
     "output_type": "stream",
     "text": [
      "passed\n"
     ]
    }
   ],
   "source": [
    "# test_get_items_data из chitai_gorod_items_list\n",
    "# Проверка URL на автора\n",
    "def test_get_items_chitai_gorod():\n",
    "    chitai_gorod_list = ChitaiGorodItemsList(\"https://new.chitai-gorod.ru/catalog/books/nauka-i-tehnika-9170?sort=price&order=asc\")\n",
    "    items_data = chitai_gorod_list.get_items_data()\n",
    "    #print (items_data) # выдает последнюю позицию текущей страницы, а не первую\n",
    "    data_for_test = {'url': 'https://new.chitai-gorod.ru/product/vospalenie-pridatkov-adneksit-sovremennyy-vzglyad-na-lechenie-i-profilaktiku-2069025', 'title': 'Воспаление придатков - аднексит. Современный взгляд на лечение и профилактику', 'price': 31, 'price_sale': 31, 'author': 'Виктория Россошанская', 'author_url': '/author/rossoshanskaya-viktoriya-7518434', 'source_url': 'https://new.chitai-gorod.ru/catalog/books/nauka-i-tehnika-9170?sort=price&order=asc'}\n",
    "    if data_for_test in items_data:\n",
    "        print (\"passed\")\n",
    "    else:\n",
    "        assert False\n",
    "        \n",
    "test_get_items_chitai_gorod()"
   ]
  },
  {
   "cell_type": "code",
   "execution_count": 2,
   "id": "84da6d5b-2d98-4b04-b9e1-4ebf375f8cfd",
   "metadata": {},
   "outputs": [
    {
     "name": "stdout",
     "output_type": "stream",
     "text": [
      "https://www.chitai-gorod.ru/catalog/souvenirs/pozdravitelnaya-atributika-10635?sort=price&order=asc&page=1\n",
      "[[{'url': 'https://new.chitai-gorod.ru/product/vse-svyazano-otkrytki-s-zadaniyami-kotorye-ozhivyat-mir-vokrug-tebya-ot-keri-smit-avtora-bestsellera-unichtozh-menya-2839480', 'title': 'Все связано! Открытки с\\xa0заданиями, которые оживят мир вокруг тебя (от Кери Смит, автора бестселлера Уничтожь меня!)', 'price': 277, 'price_sale': 277, 'author': 'Кери Смит', 'author_url': '/author/smit-keri-586726', 'source_url': 'https://www.chitai-gorod.ru/catalog/souvenirs/pozdravitelnaya-atributika-10635?sort=price&order=asc&page=1'}]]\n",
      "[[{'url': 'https://new.chitai-gorod.ru/product/vse-svyazano-otkrytki-s-zadaniyami-kotorye-ozhivyat-mir-vokrug-tebya-ot-keri-smit-avtora-bestsellera-unichtozh-menya-2839480', 'title': 'Все связано! Открытки с\\xa0заданиями, которые оживят мир вокруг тебя (от Кери Смит, автора бестселлера Уничтожь меня!)', 'price': 277, 'price_sale': 277, 'author': 'Кери Смит', 'author_url': '/author/smit-keri-586726', 'source_url': 'https://www.chitai-gorod.ru/catalog/souvenirs/pozdravitelnaya-atributika-10635?sort=price&order=asc&page=1'}]]\n"
     ]
    }
   ],
   "source": [
    "# test ChitaiGorodURLConfiguration как работает инициализация\n",
    "def test_ChitaiGorodURLConfiguration_init():\n",
    "    urls = ChitaiGorodURLConfiguration()\n",
    "    data = urls.get_urls_list()\n",
    "    print(data)\n",
    "    \n",
    "\n",
    "    \n",
    "test_ChitaiGorodURLConfiguration_init()"
   ]
  },
  {
   "cell_type": "code",
   "execution_count": 2,
   "id": "7424ae97-01bf-4efc-821d-ba378707a1ff",
   "metadata": {},
   "outputs": [
    {
     "name": "stdout",
     "output_type": "stream",
     "text": [
      "https://new.chitai-gorod.ru/catalog/books/knigi-s-avtografom-18265?sort=price&order=asc&page=1\n",
      "Error url = https://new.chitai-gorod.ru/product/sudba-neprinyatoy-proydet-s-avtografom-2905051\n",
      "Error in getting author_url, page is unavailable\n",
      "Error url = https://new.chitai-gorod.ru/product/pervye-iskry-s-avtografom-2929887\n",
      "Error in getting author_url, page is unavailable\n",
      "Error url = https://new.chitai-gorod.ru/product/enciklopediya-o-lyubvi-i-druzhbe-skazki-dlya-malyshey-s-avtografom-2941495\n",
      "Error in getting author_url, page is unavailable\n",
      "https://new.chitai-gorod.ru/catalog/books/knigi-s-avtografom-18265?sort=price&order=asc&page=2\n",
      "Error url = https://new.chitai-gorod.ru/product/psihologiya-stroynyh-ty-smozhesh-vse-s-avtografom-2905026\n",
      "Error in getting author_url, page is unavailable\n",
      "https://new.chitai-gorod.ru/catalog/books/knigi-s-avtografom-18265?sort=price&order=asc&page=3\n",
      "https://new.chitai-gorod.ru/catalog/books/knigi-s-avtografom-18265?sort=price&order=asc&page=4\n",
      "Error url = https://new.chitai-gorod.ru/product/kot-v-dome-hozyain-kak-ponyat-svoego-pitomca-podruzhitsya-i-ne-navredit-s-avtografom-2904962\n",
      "Error in getting author_url, page is unavailable\n",
      "https://new.chitai-gorod.ru/catalog/books/knigi-s-avtografom-18265?sort=price&order=asc&page=5\n",
      "[[{'url': 'https://new.chitai-gorod.ru/product/krugom-odni-nevesty-s-avtografom-2972190', 'title': 'Кругом одни невесты (с автографом)', 'price': 311, 'price_sale': 311, 'author': 'Юлия Набокова', 'author_url': '/author/nabokova-yuliya-589201', 'source_url': 'https://new.chitai-gorod.ru/catalog/books/knigi-s-avtografom-18265?sort=price&order=asc&page=1'}, {'url': 'https://new.chitai-gorod.ru/product/magazin-belye-tapochki-s-avtografom-2953947', 'title': 'Магазин Белые тапочки (с автографом)', 'price': 265, 'price_sale': 265, 'author': 'Елена Нестерина', 'author_url': '/author/nesterina-elena-584989', 'source_url': 'https://new.chitai-gorod.ru/catalog/books/knigi-s-avtografom-18265?sort=price&order=asc&page=1'}, {'url': 'https://new.chitai-gorod.ru/product/strasti-po-immunitetu-medicina-protiv-mediciny-2-e-izd-dopolnennoe-s-avtografom-2929074', 'title': 'Страсти по иммунитету. Медицина против медицины. 2-е изд., дополненное (с автографом)', 'price': 325, 'price_sale': 325, 'author': 'Сергей Бубновский', 'author_url': '/author/bubnovskiy-sergey-569825', 'source_url': 'https://new.chitai-gorod.ru/catalog/books/knigi-s-avtografom-18265?sort=price&order=asc&page=1'}, {'url': 'https://new.chitai-gorod.ru/product/iznanka-s-avtografom-2906393', 'title': 'Изнанка (с автографом)', 'price': 306, 'price_sale': 306, 'author': 'Лилия Волкова', 'author_url': '/author/volkova-liliya-581879', 'source_url': 'https://new.chitai-gorod.ru/catalog/books/knigi-s-avtografom-18265?sort=price&order=asc&page=1'}, {'url': 'https://new.chitai-gorod.ru/product/kak-legko-uchitsya-v-shkole-samostoyatelno-onlayn-uroki-i-ne-tolko-s-avtografom-2904950', 'title': 'Как легко учиться в школе самостоятельно. Онлайн-уроки и не только (с автографом)', 'price': 483, 'price_sale': 483, 'author': 'Анастасия Мизитова', 'author_url': '/author/mizitova-anastasiya-5941915', 'source_url': 'https://new.chitai-gorod.ru/catalog/books/knigi-s-avtografom-18265?sort=price&order=asc&page=1'}, {'url': 'https://new.chitai-gorod.ru/product/hochu-byt-mamoy-i-papoy-tozhe-vse-chto-nuzhno-znat-budushchim-roditelyam-ot-uchenogo-praktikuyushchego-psihologa-s-15-letnim-stazhem-s-avtografom-2905078', 'title': 'Хочу быть мамой, и папой тоже. Все, что нужно знать будущим родителям от ученого, практикующего психолога с 15-летним стажем (с автографом)', 'price': 499, 'price_sale': 499, 'author': 'Лена Фейгин', 'author_url': '/author/feygin-lena-6500805', 'source_url': 'https://new.chitai-gorod.ru/catalog/books/knigi-s-avtografom-18265?sort=price&order=asc&page=1'}, {'url': 'https://new.chitai-gorod.ru/product/esli-b-ne-bylo-tebya-s-avtografom-2905831', 'title': 'Если б не было тебя (с автографом)', 'price': 500, 'price_sale': 500, 'author': 'Диана Машкова', 'author_url': '/author/mashkova-diana-390923', 'source_url': 'https://new.chitai-gorod.ru/catalog/books/knigi-s-avtografom-18265?sort=price&order=asc&page=1'}, {'url': 'https://new.chitai-gorod.ru/product/ozernye-strasti-s-avtografom-2905007', 'title': 'Озерные страсти (с автографом)', 'price': 500, 'price_sale': 500, 'author': 'Татьяна Алюшина', 'author_url': '/author/alyushina-tatyana-571733', 'source_url': 'https://new.chitai-gorod.ru/catalog/books/knigi-s-avtografom-18265?sort=price&order=asc&page=1'}, {'url': 'https://new.chitai-gorod.ru/product/nashi-deti-azbuka-semi-s-avtografom-2904994', 'title': 'Наши дети. Азбука семьи (с автографом)', 'price': 500, 'price_sale': 500, 'author': 'Диана Машкова', 'author_url': '/author/mashkova-diana-390923', 'source_url': 'https://new.chitai-gorod.ru/catalog/books/knigi-s-avtografom-18265?sort=price&order=asc&page=1'}, {'url': 'https://new.chitai-gorod.ru/product/kak-vzorvat-mediaprostranstvo-iskusstvo-pr-s-avtografom-2904947', 'title': 'Как взорвать медиапространство. Искусство PR (с автографом)', 'price': 524, 'price_sale': 524, 'author': 'Роман Масленников', 'author_url': '/author/maslennikov-roman-378684', 'source_url': 'https://new.chitai-gorod.ru/catalog/books/knigi-s-avtografom-18265?sort=price&order=asc&page=1'}, {'url': 'https://new.chitai-gorod.ru/product/lyudi-neba-kak-oni-stali-monahami-s-avtografom-2904980', 'title': 'Люди неба. Как они стали монахами (с автографом)', 'price': 432, 'price_sale': 432, 'author': 'Юлия Варенцова', 'author_url': '/author/varencova-yuliya-5859904', 'source_url': 'https://new.chitai-gorod.ru/catalog/books/knigi-s-avtografom-18265?sort=price&order=asc&page=1'}, {'url': 'https://new.chitai-gorod.ru/product/nauka-zeliy-magiya-lyubvi-s-avtografom-2948233', 'title': 'Наука зелий, магия любви (с автографом)', 'price': 432, 'price_sale': 432, 'author': 'Ника Веймар', 'author_url': '/author/veymar-nika-5160505', 'source_url': 'https://new.chitai-gorod.ru/catalog/books/knigi-s-avtografom-18265?sort=price&order=asc&page=1'}, {'url': 'https://new.chitai-gorod.ru/product/gercoginya-ponevole-ili-proklyate-zverya-s-avtografom-2941491', 'title': 'Герцогиня поневоле, или Проклятье Зверя (с автографом)', 'price': 432, 'price_sale': 432, 'author': 'Евгения Александрова', 'author_url': '/author/aleksandrova-evgeniya-769579', 'source_url': 'https://new.chitai-gorod.ru/catalog/books/knigi-s-avtografom-18265?sort=price&order=asc&page=1'}, {'url': 'https://new.chitai-gorod.ru/product/fakultet-zakrytyh-znaniy-komanda-mechty-s-avtografom-2939104', 'title': 'Факультет закрытых знаний. Команда «мечты» (с автографом)', 'price': 432, 'price_sale': 432, 'author': 'Маргарита Блинова', 'author_url': '/author/blinova-margarita-469499', 'source_url': 'https://new.chitai-gorod.ru/catalog/books/knigi-s-avtografom-18265?sort=price&order=asc&page=1'}, {'url': 'https://new.chitai-gorod.ru/product/garpiya-v-akademii-s-avtografom-2939105', 'title': 'Гарпия в Академии (с автографом)', 'price': 432, 'price_sale': 432, 'author': 'Маргарита Блинова', 'author_url': '/author/blinova-margarita-469499', 'source_url': 'https://new.chitai-gorod.ru/catalog/books/knigi-s-avtografom-18265?sort=price&order=asc&page=1'}, {'url': 'https://new.chitai-gorod.ru/product/ochen-hotelos-solnca-s-avtografom-2956123', 'title': 'Очень хотелось солнца (с автографом)', 'price': 361, 'price_sale': 361, 'author': 'Мария Аверина', 'author_url': '/author/averina-mariya-563408', 'source_url': 'https://new.chitai-gorod.ru/catalog/books/knigi-s-avtografom-18265?sort=price&order=asc&page=1'}, {'url': 'https://new.chitai-gorod.ru/product/nomen-nescio-imya-neizvestno-s-avtografom-2905822', 'title': 'Nomen nescio. Имя неизвестно (с автографом)', 'price': 529, 'price_sale': 529, 'author': 'Олеся Проглядова', 'author_url': '/author/proglyadova-olesya-7495811', 'source_url': 'https://new.chitai-gorod.ru/catalog/books/knigi-s-avtografom-18265?sort=price&order=asc&page=1'}, {'url': 'https://new.chitai-gorod.ru/product/tayna-rektora-vecherney-akademii-s-avtografom-2905058', 'title': 'Тайна ректора Вечерней Академии (с автографом)', 'price': 529, 'price_sale': 529, 'author': 'Сильвия Лайм', 'author_url': '/author/laym-silviya-584732', 'source_url': 'https://new.chitai-gorod.ru/catalog/books/knigi-s-avtografom-18265?sort=price&order=asc&page=1'}, {'url': 'https://new.chitai-gorod.ru/product/gloriya-tri-znaka-smerti-s-avtografom-2929900', 'title': 'Глория. Три знака смерти (с автографом)', 'price': 450, 'price_sale': 450, 'author': 'Наталья Жильцова', 'author_url': '/author/zhilcova-natalya-569375', 'source_url': 'https://new.chitai-gorod.ru/catalog/books/knigi-s-avtografom-18265?sort=price&order=asc&page=1'}, {'url': 'https://new.chitai-gorod.ru/product/poka-medvedica-na-nebe-s-avtografom-2952045', 'title': 'Пока Медведица на небе (с автографом)', 'price': 450, 'price_sale': 450, 'author': 'Юлия Ефимова', 'author_url': '/author/efimova-yuliya-594601', 'source_url': 'https://new.chitai-gorod.ru/catalog/books/knigi-s-avtografom-18265?sort=price&order=asc&page=1'}, {'url': 'https://new.chitai-gorod.ru/product/neizvestnyy-psevdonim-boga-s-avtografom-2952044', 'title': 'Неизвестный псевдоним Бога (с автографом)', 'price': 450, 'price_sale': 450, 'author': 'Юлия Ефимова', 'author_url': '/author/efimova-yuliya-594601', 'source_url': 'https://new.chitai-gorod.ru/catalog/books/knigi-s-avtografom-18265?sort=price&order=asc&page=1'}, {'url': 'https://new.chitai-gorod.ru/product/robkiy-angel-vozmezdiya-s-avtografom-2929051', 'title': 'Робкий ангел возмездия (с автографом)', 'price': 450, 'price_sale': 450, 'author': 'Юлия Ефимова', 'author_url': '/author/efimova-yuliya-594601', 'source_url': 'https://new.chitai-gorod.ru/catalog/books/knigi-s-avtografom-18265?sort=price&order=asc&page=1'}, {'url': 'https://new.chitai-gorod.ru/product/russkaya-tayna-kazanovy-s-avtografom-2929052', 'title': 'Русская тайна Казановы (с автографом)', 'price': 450, 'price_sale': 450, 'author': 'Юлия Ефимова', 'author_url': '/author/efimova-yuliya-594601', 'source_url': 'https://new.chitai-gorod.ru/catalog/books/knigi-s-avtografom-18265?sort=price&order=asc&page=1'}, {'url': 'https://new.chitai-gorod.ru/product/zhena-arhimaga-s-avtografom-2906400', 'title': 'Жена архимага (с автографом)', 'price': 450, 'price_sale': 450, 'author': 'Алёна Медведева', 'author_url': '/author/medvedeva-alena-588736', 'source_url': 'https://new.chitai-gorod.ru/catalog/books/knigi-s-avtografom-18265?sort=price&order=asc&page=1'}, {'url': 'https://new.chitai-gorod.ru/product/pustaya-kolybel-s-avtografom-2911151', 'title': 'Пустая колыбель (с автографом)', 'price': 551, 'price_sale': 551, 'author': 'Вера Ард', 'author_url': '/author/ard-vera-571691', 'source_url': 'https://new.chitai-gorod.ru/catalog/books/knigi-s-avtografom-18265?sort=price&order=asc&page=1'}, {'url': 'https://new.chitai-gorod.ru/product/chto-ya-znayu-o-tebe-s-avtografom-2911150', 'title': 'Что я знаю о тебе? (с автографом)', 'price': 551, 'price_sale': 551, 'author': 'Вера Ард', 'author_url': '/author/ard-vera-571691', 'source_url': 'https://new.chitai-gorod.ru/catalog/books/knigi-s-avtografom-18265?sort=price&order=asc&page=1'}, {'url': 'https://new.chitai-gorod.ru/product/imeyushchiy-ushi-da-uslyshit-s-avtografom-2909029', 'title': 'Имеющий уши, да услышит (с автографом)', 'price': 551, 'price_sale': 551, 'author': 'Татьяна Степанова', 'author_url': '/author/stepanova-tatyana-569810', 'source_url': 'https://new.chitai-gorod.ru/catalog/books/knigi-s-avtografom-18265?sort=price&order=asc&page=1'}, {'url': 'https://new.chitai-gorod.ru/product/perekrestok-treh-dorog-s-avtografom-2909030', 'title': 'Перекресток трех дорог (с автографом)', 'price': 551, 'price_sale': 551, 'author': 'Татьяна Степанова', 'author_url': '/author/stepanova-tatyana-569810', 'source_url': 'https://new.chitai-gorod.ru/catalog/books/knigi-s-avtografom-18265?sort=price&order=asc&page=1'}, {'url': 'https://new.chitai-gorod.ru/product/poslednyaya-istina-poslednyaya-strast-s-avtografom-2909031', 'title': 'Последняя истина, последняя страсть (с автографом)', 'price': 551, 'price_sale': 551, 'author': 'Татьяна Степанова', 'author_url': '/author/stepanova-tatyana-569810', 'source_url': 'https://new.chitai-gorod.ru/catalog/books/knigi-s-avtografom-18265?sort=price&order=asc&page=1'}], [{'url': 'https://new.chitai-gorod.ru/product/eva-i-adam-s-avtografom-2947576', 'title': 'Ева и Адам (с автографом)', 'price': 474, 'price_sale': 474, 'author': 'Ольга Гуляева', 'author_url': '/author/gulyaeva-olga-593035', 'source_url': 'https://new.chitai-gorod.ru/catalog/books/knigi-s-avtografom-18265?sort=price&order=asc&page=2'}, {'url': 'https://new.chitai-gorod.ru/product/effekt-feniksa-kak-pereroditsya-i-stat-schastlivoy-za-7-dney-s-avtografom-2905091', 'title': 'Эффект Феникса: как переродиться и стать счастливой за 7 дней (с автографом)', 'price': 581, 'price_sale': 581, 'author': 'Анастасия Барашкова', 'author_url': '/author/barashkova-anastasiya-5155460', 'source_url': 'https://new.chitai-gorod.ru/catalog/books/knigi-s-avtografom-18265?sort=price&order=asc&page=2'}, {'url': 'https://new.chitai-gorod.ru/product/zemli-semi-imen-s-avtografom-2905833', 'title': 'Земли семи имён (с автографом)', 'price': 581, 'price_sale': 581, 'author': 'Дарина Стрельченко', 'author_url': '/author/strelchenko-darina-3368440', 'source_url': 'https://new.chitai-gorod.ru/catalog/books/knigi-s-avtografom-18265?sort=price&order=asc&page=2'}, {'url': 'https://new.chitai-gorod.ru/product/ili-ya-seychas-umru-ot-schastya-s-avtografom-2905836', 'title': 'Или я сейчас умру от счастья (с автографом)', 'price': 581, 'price_sale': 581, 'author': 'Маша Трауб', 'author_url': '/author/traub-masha-570635', 'source_url': 'https://new.chitai-gorod.ru/catalog/books/knigi-s-avtografom-18265?sort=price&order=asc&page=2'}, {'url': 'https://new.chitai-gorod.ru/product/kak-umirala-vera-s-avtografom-2904953', 'title': 'Как умирала Вера (с автографом)', 'price': 581, 'price_sale': 581, 'author': 'Ольга Гуляева', 'author_url': '/author/gulyaeva-olga-593035', 'source_url': 'https://new.chitai-gorod.ru/catalog/books/knigi-s-avtografom-18265?sort=price&order=asc&page=2'}, {'url': 'https://new.chitai-gorod.ru/product/kniga-aeda-s-avtografom-2904955', 'title': 'Книга аэда (с автографом)', 'price': 581, 'price_sale': 581, 'author': 'Гаянэ Степанян', 'author_url': '/author/stepanyan-gayane-9089818', 'source_url': 'https://new.chitai-gorod.ru/catalog/books/knigi-s-avtografom-18265?sort=price&order=asc&page=2'}, {'url': 'https://new.chitai-gorod.ru/product/bloknot-fud-fotografa-risunok-s-avtografom-2904890', 'title': 'Блокнот фуд-фотографа (рисунок) (с автографом)', 'price': 594, 'price_sale': 594, 'author': 'Анастасия Зурабова', 'author_url': '/author/zurabova-anastasiya-508938', 'source_url': 'https://new.chitai-gorod.ru/catalog/books/knigi-s-avtografom-18265?sort=price&order=asc&page=2'}, {'url': 'https://new.chitai-gorod.ru/product/bloknot-fud-fotografa-foto-s-avtografom-2904891', 'title': 'Блокнот фуд-фотографа (фото) (с автографом)', 'price': 594, 'price_sale': 594, 'author': 'Анастасия Зурабова', 'author_url': '/author/zurabova-anastasiya-508938', 'source_url': 'https://new.chitai-gorod.ru/catalog/books/knigi-s-avtografom-18265?sort=price&order=asc&page=2'}, {'url': 'https://new.chitai-gorod.ru/product/priklyucheniya-kota-sokrata-v-avstralii-s-avtografom-2905021', 'title': 'Приключения кота Сократа в Австралии (с автографом)', 'price': 492, 'price_sale': 492, 'author': 'Михаил Самарский', 'author_url': '/author/samarskiy-mihail-570458', 'source_url': 'https://new.chitai-gorod.ru/catalog/books/knigi-s-avtografom-18265?sort=price&order=asc&page=2'}, {'url': 'https://new.chitai-gorod.ru/product/drugaya-sestra-s-avtografom-2914953', 'title': 'Другая сестра (с автографом)', 'price': 492, 'price_sale': 492, 'author': 'Ольга Гуляева', 'author_url': '/author/gulyaeva-olga-593035', 'source_url': 'https://new.chitai-gorod.ru/catalog/books/knigi-s-avtografom-18265?sort=price&order=asc&page=2'}, {'url': 'https://new.chitai-gorod.ru/product/ni-lyubvi-ni-robotov-s-avtografom-2936941', 'title': 'Ни любви, ни роботов (с автографом)', 'price': 492, 'price_sale': 492, 'author': 'Артем Голиков', 'author_url': '/author/golikov-artem-1368713', 'source_url': 'https://new.chitai-gorod.ru/catalog/books/knigi-s-avtografom-18265?sort=price&order=asc&page=2'}, {'url': 'https://new.chitai-gorod.ru/product/sup-vtoroe-i-kompot-s-avtografom-2905053', 'title': 'Суп, второе и компот (с автографом)', 'price': 603, 'price_sale': 603, 'author': 'Маша Трауб', 'author_url': '/author/traub-masha-570635', 'source_url': 'https://new.chitai-gorod.ru/catalog/books/knigi-s-avtografom-18265?sort=price&order=asc&page=2'}, {'url': 'https://new.chitai-gorod.ru/product/plohaya-doch-s-avtografom-2905843', 'title': 'Плохая дочь (с автографом)', 'price': 603, 'price_sale': 603, 'author': 'Маша Трауб', 'author_url': '/author/traub-masha-570635', 'source_url': 'https://new.chitai-gorod.ru/catalog/books/knigi-s-avtografom-18265?sort=price&order=asc&page=2'}, {'url': 'https://new.chitai-gorod.ru/product/nevozvratnyy-bilet-s-avtografom-2960985', 'title': 'Невозвратный билет (с автографом)', 'price': 411, 'price_sale': 411, 'author': 'Маша Трауб', 'author_url': '/author/traub-masha-570635', 'source_url': 'https://new.chitai-gorod.ru/catalog/books/knigi-s-avtografom-18265?sort=price&order=asc&page=2'}, {'url': 'https://new.chitai-gorod.ru/product/chasy-idushchie-nazad-s-avtografom-2909032', 'title': 'Часы, идущие назад (с автографом)', 'price': 619, 'price_sale': 619, 'author': 'Татьяна Степанова', 'author_url': '/author/stepanova-tatyana-569810', 'source_url': 'https://new.chitai-gorod.ru/catalog/books/knigi-s-avtografom-18265?sort=price&order=asc&page=2'}, {'url': 'https://new.chitai-gorod.ru/product/sekretnyy-dnevnik-agenta-skazochnogo-patrulya-s-avtografom-2905914', 'title': 'Секретный дневник агента Сказочного патруля (с автографом)', 'price': 625, 'price_sale': 625, 'author': 'Олег Рой', 'author_url': '/author/roy-oleg-571004', 'source_url': 'https://new.chitai-gorod.ru/catalog/books/knigi-s-avtografom-18265?sort=price&order=asc&page=2'}, {'url': 'https://new.chitai-gorod.ru/product/doroga-na-annapurnu-s-avtografom-2909024', 'title': 'Дорога на Аннапурну (с автографом)', 'price': 625, 'price_sale': 625, 'author': 'Марина Москвина', 'author_url': '/author/moskvina-marina-3581', 'source_url': 'https://new.chitai-gorod.ru/catalog/books/knigi-s-avtografom-18265?sort=price&order=asc&page=2'}, {'url': 'https://new.chitai-gorod.ru/product/izgolove-iz-travy-s-avtografom-2905835', 'title': 'Изголовье из травы (с автографом)', 'price': 625, 'price_sale': 625, 'author': 'Марина Москвина', 'author_url': '/author/moskvina-marina-3581', 'source_url': 'https://new.chitai-gorod.ru/catalog/books/knigi-s-avtografom-18265?sort=price&order=asc&page=2'}, {'url': 'https://new.chitai-gorod.ru/product/proklyatyy-kapitan-skovat-shtorm-s-avtografom-2941490', 'title': 'Проклятый капитан. Сковать шторм (с автографом)', 'price': 516, 'price_sale': 516, 'author': 'Евгения Александрова', 'author_url': '/author/aleksandrova-evgeniya-769579', 'source_url': 'https://new.chitai-gorod.ru/catalog/books/knigi-s-avtografom-18265?sort=price&order=asc&page=2'}, {'url': 'https://new.chitai-gorod.ru/product/shest-dney-s-avtografom-2905088', 'title': 'Шесть дней (с автографом)', 'price': 632, 'price_sale': 632, 'author': 'Сергей Вересков', 'author_url': '/author/vereskov-sergey-6476077', 'source_url': 'https://new.chitai-gorod.ru/catalog/books/knigi-s-avtografom-18265?sort=price&order=asc&page=2'}, {'url': 'https://new.chitai-gorod.ru/product/bystrye-peremeny-s-avtografom-2963619', 'title': 'Быстрые перемены (с автографом)', 'price': 431, 'price_sale': 431, 'author': 'Вадим Панов', 'author_url': '/author/panov-vadim-570959', 'source_url': 'https://new.chitai-gorod.ru/catalog/books/knigi-s-avtografom-18265?sort=price&order=asc&page=2'}, {'url': 'https://new.chitai-gorod.ru/product/trio-neizvestnosti-s-avtografom-2963620', 'title': 'Трио неизвестности (с автографом)', 'price': 431, 'price_sale': 431, 'author': 'Вадим Панов', 'author_url': '/author/panov-vadim-570959', 'source_url': 'https://new.chitai-gorod.ru/catalog/books/knigi-s-avtografom-18265?sort=price&order=asc&page=2'}, {'url': 'https://new.chitai-gorod.ru/product/idealnaya-lyubov-neidealnyh-mam-s-avtografom-2906399', 'title': 'Идеальная любовь неидеальных мам (с автографом)', 'price': 534, 'price_sale': 534, 'author': 'Меседу Булач', 'author_url': '/author/bulach-mesedu-3369598', 'source_url': 'https://new.chitai-gorod.ru/catalog/books/knigi-s-avtografom-18265?sort=price&order=asc&page=2'}, {'url': 'https://new.chitai-gorod.ru/product/devochka-krasnaya-tapochka-s-avtografom-2948227', 'title': 'Девочка Красная Тапочка (с автографом)', 'price': 534, 'price_sale': 534, 'author': 'Дарья Донцова', 'author_url': '/author/doncova-darya-570569', 'source_url': 'https://new.chitai-gorod.ru/catalog/books/knigi-s-avtografom-18265?sort=price&order=asc&page=2'}, {'url': 'https://new.chitai-gorod.ru/product/ded-yaga-i-ego-deti-s-avtografom-2948228', 'title': 'Дед Яга и его дети (с автографом)', 'price': 534, 'price_sale': 534, 'author': 'Дарья Донцова', 'author_url': '/author/doncova-darya-570569', 'source_url': 'https://new.chitai-gorod.ru/catalog/books/knigi-s-avtografom-18265?sort=price&order=asc&page=2'}, {'url': 'https://new.chitai-gorod.ru/product/begemot-pod-mayonezom-s-avtografom-2948229', 'title': 'Бегемот под майонезом (с автографом)', 'price': 534, 'price_sale': 534, 'author': 'Дарья Донцова', 'author_url': '/author/doncova-darya-570569', 'source_url': 'https://new.chitai-gorod.ru/catalog/books/knigi-s-avtografom-18265?sort=price&order=asc&page=2'}, {'url': 'https://new.chitai-gorod.ru/product/kaktus-vtoroy-svezhesti-s-avtografom-2948230', 'title': 'Кактус второй свежести (с автографом)', 'price': 534, 'price_sale': 534, 'author': 'Дарья Донцова', 'author_url': '/author/doncova-darya-570569', 'source_url': 'https://new.chitai-gorod.ru/catalog/books/knigi-s-avtografom-18265?sort=price&order=asc&page=2'}, {'url': 'https://new.chitai-gorod.ru/product/neudachnaya-karera-megery-s-avtografom-2948231', 'title': 'Неудачная карьера мегеры (с автографом)', 'price': 534, 'price_sale': 534, 'author': 'Дарья Донцова', 'author_url': '/author/doncova-darya-570569', 'source_url': 'https://new.chitai-gorod.ru/catalog/books/knigi-s-avtografom-18265?sort=price&order=asc&page=2'}, {'url': 'https://new.chitai-gorod.ru/product/horoshie-manery-solovya-razboynika-s-avtografom-2905077', 'title': 'Хорошие манеры Соловья-разбойника (с автографом)', 'price': 534, 'price_sale': 534, 'author': 'Дарья Донцова', 'author_url': '/author/doncova-darya-570569', 'source_url': 'https://new.chitai-gorod.ru/catalog/books/knigi-s-avtografom-18265?sort=price&order=asc&page=2'}, {'url': 'https://new.chitai-gorod.ru/product/chugunnye-sapogi-skorohody-s-avtografom-2905085', 'title': 'Чугунные сапоги-скороходы (с автографом)', 'price': 534, 'price_sale': 534, 'author': 'Дарья Донцова', 'author_url': '/author/doncova-darya-570569', 'source_url': 'https://new.chitai-gorod.ru/catalog/books/knigi-s-avtografom-18265?sort=price&order=asc&page=2'}, {'url': 'https://new.chitai-gorod.ru/product/chuchelo-ot-pervogo-braka-s-avtografom-2905087', 'title': 'Чучело от первого брака (с автографом)', 'price': 534, 'price_sale': 534, 'author': 'Дарья Донцова', 'author_url': '/author/doncova-darya-570569', 'source_url': 'https://new.chitai-gorod.ru/catalog/books/knigi-s-avtografom-18265?sort=price&order=asc&page=2'}], [{'url': 'https://new.chitai-gorod.ru/product/mamasha-barmaley-s-avtografom-2905881', 'title': 'Мамаша Бармалей (с автографом)', 'price': 534, 'price_sale': 534, 'author': 'Дарья Донцова', 'author_url': '/author/doncova-darya-570569', 'source_url': 'https://new.chitai-gorod.ru/catalog/books/knigi-s-avtografom-18265?sort=price&order=asc&page=3'}, {'url': 'https://new.chitai-gorod.ru/product/igrozhur-velikiy-russkiy-roman-pro-igry-s-avtografom-2904942', 'title': 'Игрожур. Великий русский роман про игры (с автографом)', 'price': 646, 'price_sale': 646, 'author': 'Андрей Подшибякин', 'author_url': '/author/podshibyakin-andrey-157458', 'source_url': 'https://new.chitai-gorod.ru/catalog/books/knigi-s-avtografom-18265?sort=price&order=asc&page=3'}, {'url': 'https://new.chitai-gorod.ru/product/metod-teplyh-kotikov-vremya-ubrat-kogti-i-polyubit-sebya-s-otkrytkoy-s-avtografom-2966324', 'title': 'Метод теплых котиков. Время убрать когти и полюбить себя (с открыткой с автографом)', 'price': 446, 'price_sale': 446, 'author': 'Алена Трубицина', 'author_url': '/author/trubicina-alena-8288917', 'source_url': 'https://new.chitai-gorod.ru/catalog/books/knigi-s-avtografom-18265?sort=price&order=asc&page=3'}, {'url': 'https://new.chitai-gorod.ru/product/zhizn-v-epizodah-s-avtografom-2906379', 'title': 'Жизнь в эпизодах (с автографом)', 'price': 558, 'price_sale': 558, 'author': 'Катерина Шпица', 'author_url': '/author/shpica-katerina-5938488', 'source_url': 'https://new.chitai-gorod.ru/catalog/books/knigi-s-avtografom-18265?sort=price&order=asc&page=3'}, {'url': 'https://new.chitai-gorod.ru/product/progulki-po-neizvestnoy-moskve-s-avtografom-2929064', 'title': 'Прогулки по неизвестной Москве (с автографом)', 'price': 558, 'price_sale': 558, 'author': 'Дарья Булгакова', 'author_url': '/author/bulgakova-darya-1368860', 'source_url': 'https://new.chitai-gorod.ru/catalog/books/knigi-s-avtografom-18265?sort=price&order=asc&page=3'}, {'url': 'https://new.chitai-gorod.ru/product/spustitsya-s-nebes-s-avtografom-2905048', 'title': 'Спуститься с небес (с автографом)', 'price': 558, 'price_sale': 558, 'author': 'Михаил Самарский', 'author_url': '/author/samarskiy-mihail-570458', 'source_url': 'https://new.chitai-gorod.ru/catalog/books/knigi-s-avtografom-18265?sort=price&order=asc&page=3'}, {'url': 'https://new.chitai-gorod.ru/product/zhili-lyudi-kak-vsegda-zapiski-fedi-bulkina-s-avtografom-2905102', 'title': 'Жили люди как всегда: записки Феди Булкина (с автографом)', 'price': 558, 'price_sale': 558, 'author': 'Александра Николаенко', 'author_url': '/author/nikolaenko-aleksandra-364163', 'source_url': 'https://new.chitai-gorod.ru/catalog/books/knigi-s-avtografom-18265?sort=price&order=asc&page=3'}, {'url': 'https://new.chitai-gorod.ru/product/zloy-malchik-s-avtografom-2911146', 'title': 'Злой мальчик (с автографом)', 'price': 678, 'price_sale': 678, 'author': 'В. Печейкин', 'author_url': '/author/pecheykin-v-5932928', 'source_url': 'https://new.chitai-gorod.ru/catalog/books/knigi-s-avtografom-18265?sort=price&order=asc&page=3'}, {'url': 'https://new.chitai-gorod.ru/product/ulybka-smerti-na-ustah-s-avtografom-2905072', 'title': 'Улыбка смерти на устах (с автографом)', 'price': 684, 'price_sale': 684, 'author': 'Анна Литвинова', 'author_url': '/author/litvinova-anna-569831', 'source_url': 'https://new.chitai-gorod.ru/catalog/books/knigi-s-avtografom-18265?sort=price&order=asc&page=3'}, {'url': 'https://new.chitai-gorod.ru/product/formula-mechty-put-k-schastlivoy-zhizni-v-kotoroy-ispolnyayutsya-dazhe-samye-smelye-zhelaniya-s-avtografom-2905856', 'title': 'Формула мечты. Путь к счастливой жизни, в которой исполняются даже самые смелые желания (с автографом)', 'price': 684, 'price_sale': 684, 'author': 'Ирина Лилло', 'author_url': '/author/lillo-irina-3369109', 'source_url': 'https://new.chitai-gorod.ru/catalog/books/knigi-s-avtografom-18265?sort=price&order=asc&page=3'}, {'url': 'https://new.chitai-gorod.ru/product/an-chego-molchish-neostorozhnye-shagi-yunosti-s-avtografom-2904881', 'title': 'Ань, чего молчишь? Неосторожные шаги юности (с автографом)', 'price': 684, 'price_sale': 684, 'author': 'Анна Махлина', 'author_url': '/author/mahlina-anna-5157125', 'source_url': 'https://new.chitai-gorod.ru/catalog/books/knigi-s-avtografom-18265?sort=price&order=asc&page=3'}, {'url': 'https://new.chitai-gorod.ru/product/pritvoris-babochkoy-s-avtografom-2911942', 'title': 'Притворись бабочкой (с автографом)', 'price': 684, 'price_sale': 684, 'author': 'Тория Дрим', 'author_url': '/author/drim-toriya-570557', 'source_url': 'https://new.chitai-gorod.ru/catalog/books/knigi-s-avtografom-18265?sort=price&order=asc&page=3'}, {'url': 'https://new.chitai-gorod.ru/product/v-krayu-molochnyh-rek-s-avtografom-2926881', 'title': 'В краю молочных рек (с автографом)', 'price': 684, 'price_sale': 684, 'author': 'Сергей Вересков', 'author_url': '/author/vereskov-sergey-6476077', 'source_url': 'https://new.chitai-gorod.ru/catalog/books/knigi-s-avtografom-18265?sort=price&order=asc&page=3'}, {'url': 'https://new.chitai-gorod.ru/product/tri-storony-kamnya-s-avtografom-2909023', 'title': 'Три стороны камня (с автографом)', 'price': 695, 'price_sale': 695, 'author': 'Марина Москвина', 'author_url': '/author/moskvina-marina-3581', 'source_url': 'https://new.chitai-gorod.ru/catalog/books/knigi-s-avtografom-18265?sort=price&order=asc&page=3'}, {'url': 'https://new.chitai-gorod.ru/product/sobiratel-raya-s-avtografom-2952049', 'title': 'Собиратель рая (с автографом)', 'price': 516, 'price_sale': 516, 'author': 'Евгений Чижов', 'author_url': '/author/chizhov-evgeniy-435289', 'source_url': 'https://new.chitai-gorod.ru/catalog/books/knigi-s-avtografom-18265?sort=price&order=asc&page=3'}, {'url': 'https://new.chitai-gorod.ru/product/svobodnye-s-avtografom-2953460', 'title': 'Свободные (с автографом)', 'price': 576, 'price_sale': 576, 'author': 'Эшли Дьюал', 'author_url': '/author/dyual-eshli-512257', 'source_url': 'https://new.chitai-gorod.ru/catalog/books/knigi-s-avtografom-18265?sort=price&order=asc&page=3'}, {'url': 'https://new.chitai-gorod.ru/product/luchshie-lyudi-goroda-s-avtografom-2904978', 'title': 'Лучшие люди города (с автографом)', 'price': 695, 'price_sale': 695, 'author': 'Катерина Кожевина', 'author_url': '/author/kozhevina-katerina-5161046', 'source_url': 'https://new.chitai-gorod.ru/catalog/books/knigi-s-avtografom-18265?sort=price&order=asc&page=3'}, {'url': 'https://new.chitai-gorod.ru/product/chuzhie-igry-protivostoyanie-s-avtografom-2963618', 'title': 'Чужие игры: Противостояние (с автографом)', 'price': 481, 'price_sale': 481, 'author': 'Вадим Панов', 'author_url': '/author/panov-vadim-570959', 'source_url': 'https://new.chitai-gorod.ru/catalog/books/knigi-s-avtografom-18265?sort=price&order=asc&page=3'}, {'url': 'https://new.chitai-gorod.ru/product/trudnosti-perevoda-s-avtografom-2949896', 'title': 'Трудности перевода (с автографом)', 'price': 714, 'price_sale': 714, 'author': 'Олег Рой', 'author_url': '/author/roy-oleg-571004', 'source_url': 'https://new.chitai-gorod.ru/catalog/books/knigi-s-avtografom-18265?sort=price&order=asc&page=3'}, {'url': 'https://new.chitai-gorod.ru/product/deti-na-diete-kak-nakormit-allergika-kotoromu-nichego-nelzya-s-avtografom-2910253', 'title': 'Дети на диете. Как накормить аллергика, которому ничего нельзя (с автографом)', 'price': 720, 'price_sale': 720, 'author': 'Татьяна Зверева', 'author_url': '/author/zvereva-tatyana-6491336', 'source_url': 'https://new.chitai-gorod.ru/catalog/books/knigi-s-avtografom-18265?sort=price&order=asc&page=3'}, {'url': 'https://new.chitai-gorod.ru/product/portret-psihopata-profayler-o-seriynyh-ubiycah-s-avtografom-2926880', 'title': 'Портрет психопата. Профайлер о серийных убийцах (с автографом)', 'price': 722, 'price_sale': 722, 'author': 'Анна Кулик', 'author_url': '/author/kulik-anna-583439', 'source_url': 'https://new.chitai-gorod.ru/catalog/books/knigi-s-avtografom-18265?sort=price&order=asc&page=3'}, {'url': 'https://new.chitai-gorod.ru/product/vzlom-lica-fiziognomika-v-istoriyah-dengi-seks-i-politika-s-avtografom-2904902', 'title': 'Взлом лица. Физиогномика в историях: деньги, секс и политика (с автографом)', 'price': 722, 'price_sale': 722, 'author': 'Артем Павлов', 'author_url': '/author/pavlov-artem-5938251', 'source_url': 'https://new.chitai-gorod.ru/catalog/books/knigi-s-avtografom-18265?sort=price&order=asc&page=3'}, {'url': 'https://new.chitai-gorod.ru/product/samooborona-ot-a-do-ya-kak-pobedit-v-drake-na-ulice-ne-vladeya-boevymi-iskusstvami-s-avtografom-2911140', 'title': 'Самооборона от А до Я. Как победить в драке на улице, не владея боевыми искусствами (с автографом)', 'price': 724, 'price_sale': 724, 'author': 'Михаил Диденко', 'author_url': '/author/didenko-mihail-446368', 'source_url': 'https://new.chitai-gorod.ru/catalog/books/knigi-s-avtografom-18265?sort=price&order=asc&page=3'}, {'url': 'https://new.chitai-gorod.ru/product/neotlozhnaya-pomoshch-kniga-kotoraya-spasaet-zhizni-s-avtografom-2906401', 'title': 'Неотложная помощь. Книга, которая спасает жизни (с автографом)', 'price': 600, 'price_sale': 600, 'author': 'Сергей Вялов', 'author_url': '/author/vyalov-sergey-570497', 'source_url': 'https://new.chitai-gorod.ru/catalog/books/knigi-s-avtografom-18265?sort=price&order=asc&page=3'}, {'url': 'https://new.chitai-gorod.ru/product/eda-zhivaya-i-mertvaya-5-principov-zdorovogo-pitaniya-s-avtografom-2944115', 'title': 'Еда живая и мертвая. 5 принципов здорового питания (с автографом)', 'price': 600, 'price_sale': 600, 'author': 'Сергей Малоземов', 'author_url': '/author/malozemov-sergey-569954', 'source_url': 'https://new.chitai-gorod.ru/catalog/books/knigi-s-avtografom-18265?sort=price&order=asc&page=3'}, {'url': 'https://new.chitai-gorod.ru/product/eda-zhivaya-i-mertvaya-produkty-celiteli-i-produkty-ubiycy-s-avtografom-2944116', 'title': 'Еда живая и мертвая. Продукты-целители и продукты-убийцы (с автографом)', 'price': 600, 'price_sale': 600, 'author': 'Сергей Малоземов', 'author_url': '/author/malozemov-sergey-569954', 'source_url': 'https://new.chitai-gorod.ru/catalog/books/knigi-s-avtografom-18265?sort=price&order=asc&page=3'}, {'url': 'https://new.chitai-gorod.ru/product/chuzhaya-zhizn-s-avtografom-2953462', 'title': 'Чужая жизнь (с автографом)', 'price': 600, 'price_sale': 600, 'author': 'Елена Долгопят', 'author_url': '/author/dolgopyat-elena-505791', 'source_url': 'https://new.chitai-gorod.ru/catalog/books/knigi-s-avtografom-18265?sort=price&order=asc&page=3'}, {'url': 'https://new.chitai-gorod.ru/product/tayny-zhenskogo-tela-kak-vneshnyaya-krasota-zavisit-ot-vnutrennih-processov-noveyshie-nauchnye-otkrytiya-s-avtografom-2905059', 'title': 'Тайны женского тела. Как внешняя красота зависит от внутренних процессов - новейшие научные открытия (с автографом)', 'price': 735, 'price_sale': 735, 'author': 'Сергей Малоземов', 'author_url': '/author/malozemov-sergey-569954', 'source_url': 'https://new.chitai-gorod.ru/catalog/books/knigi-s-avtografom-18265?sort=price&order=asc&page=3'}, {'url': 'https://new.chitai-gorod.ru/product/tumannye-allei-s-avtografom-2905069', 'title': 'Туманные аллеи (с автографом)', 'price': 735, 'price_sale': 735, 'author': 'Алексей Слаповский', 'author_url': '/author/slapovskiy-aleksey-9854', 'source_url': 'https://new.chitai-gorod.ru/catalog/books/knigi-s-avtografom-18265?sort=price&order=asc&page=3'}, {'url': 'https://new.chitai-gorod.ru/product/legkiy-sposob-brosit-stradat-s-avtografom-2905098', 'title': 'Легкий способ бросить страдать (с автографом)', 'price': 735, 'price_sale': 735, 'author': 'Катя Гордон', 'author_url': '/author/gordon-katya-5306', 'source_url': 'https://new.chitai-gorod.ru/catalog/books/knigi-s-avtografom-18265?sort=price&order=asc&page=3'}, {'url': 'https://new.chitai-gorod.ru/product/ostansya-doma-i-strelyay-s-avtografom-2905821', 'title': '#останься дома и стреляй! (с автографом)', 'price': 735, 'price_sale': 735, 'author': 'Анна Литвинова', 'author_url': '/author/litvinova-anna-569831', 'source_url': 'https://new.chitai-gorod.ru/catalog/books/knigi-s-avtografom-18265?sort=price&order=asc&page=3'}, {'url': 'https://new.chitai-gorod.ru/product/ahill-ne-nosil-odnorazovyh-bahil-ponyatnoe-rukovodstvo-po-ekologichnomu-obrazu-zhizni-s-avtografom-2905824', 'title': 'Ахилл не носил одноразовых бахил. Понятное руководство по экологичному образу жизни (с автографом)', 'price': 735, 'price_sale': 735, 'author': 'Ольга Мироненко', 'author_url': '/author/mironenko-olga-7523177', 'source_url': 'https://new.chitai-gorod.ru/catalog/books/knigi-s-avtografom-18265?sort=price&order=asc&page=3'}, {'url': 'https://new.chitai-gorod.ru/product/lisy-i-volki-s-avtografom-2972918', 'title': 'Лисы и Волки (с автографом)', 'price': 735, 'price_sale': 735, 'author': 'Лиза Белоусова', 'author_url': '/author/belousova-liza-9063519', 'source_url': 'https://new.chitai-gorod.ru/catalog/books/knigi-s-avtografom-18265?sort=price&order=asc&page=3'}], [{'url': 'https://new.chitai-gorod.ru/product/kak-vospitat-pingvina-ili-priklyucheniya-cheyzi-i-zoi-s-avtografom-2962543', 'title': 'Как воспитать пингвина, или Приключения Чейзи и Зои (с автографом)', 'price': 743, 'price_sale': 743, 'author': 'Анастасия Хачатурова', 'author_url': '/author/hachaturova-anastasiya-9041679', 'source_url': 'https://new.chitai-gorod.ru/catalog/books/knigi-s-avtografom-18265?sort=price&order=asc&page=4'}, {'url': 'https://new.chitai-gorod.ru/product/materinskaya-lyubov-s-avtografom-2909027', 'title': 'Материнская любовь (с автографом)', 'price': 743, 'price_sale': 743, 'author': 'Андрей Некрасов', 'author_url': '/author/nekrasov-andrey-601064', 'source_url': 'https://new.chitai-gorod.ru/catalog/books/knigi-s-avtografom-18265?sort=price&order=asc&page=4'}, {'url': 'https://new.chitai-gorod.ru/product/azbuka-schastlivoy-semi-30-urokov-osoznannogo-roditelstva-s-avtografom-2904878', 'title': 'Азбука счастливой семьи. 30 уроков осознанного родительства (с автографом)', 'price': 743, 'price_sale': 743, 'author': 'Диана Машкова', 'author_url': '/author/mashkova-diana-390923', 'source_url': 'https://new.chitai-gorod.ru/catalog/books/knigi-s-avtografom-18265?sort=price&order=asc&page=4'}, {'url': 'https://new.chitai-gorod.ru/product/hroniki-zabytyh-snovideniy-s-avtografom-2953461', 'title': 'Хроники забытых сновидений (с автографом)', 'price': 618, 'price_sale': 618, 'author': 'Елена Долгопят', 'author_url': '/author/dolgopyat-elena-505791', 'source_url': 'https://new.chitai-gorod.ru/catalog/books/knigi-s-avtografom-18265?sort=price&order=asc&page=4'}, {'url': 'https://new.chitai-gorod.ru/product/biznes-na-vsyu-katushku-kak-postroit-svoe-delo-bez-startovogo-kapitala-s-avtografom-2904887', 'title': 'Бизнес на всю катушку. Как построить свое дело без стартового капитала (с автографом)', 'price': 770, 'price_sale': 770, 'author': 'Майя Драган', 'author_url': '/author/dragan-mayya-1586508', 'source_url': 'https://new.chitai-gorod.ru/catalog/books/knigi-s-avtografom-18265?sort=price&order=asc&page=4'}, {'url': 'https://new.chitai-gorod.ru/product/krug-zhizni-ritualy-perehoda-v-prirodnom-vedmovstve-s-avtografom-2904965', 'title': 'Круг жизни. Ритуалы перехода в природном ведьмовстве (с автографом)', 'price': 770, 'price_sale': 770, 'author': 'Полина Лопухина', 'author_url': '/author/lopuhina-polina-4913099', 'source_url': 'https://new.chitai-gorod.ru/catalog/books/knigi-s-avtografom-18265?sort=price&order=asc&page=4'}, {'url': 'https://new.chitai-gorod.ru/product/legko-byt-soboy-kak-pobedit-vnutrennego-kritika-izbavitsya-ot-trevog-i-stat-schastlivoy-s-avtografom-2904970', 'title': 'Легко быть собой. Как победить внутреннего критика, избавиться от тревог и стать счастливой (с автографом)', 'price': 772, 'price_sale': 772, 'author': 'Женя Донова', 'author_url': '/author/donova-zhenya-2544761', 'source_url': 'https://new.chitai-gorod.ru/catalog/books/knigi-s-avtografom-18265?sort=price&order=asc&page=4'}, {'url': 'https://new.chitai-gorod.ru/product/esh-i-molodey-kakie-sposoby-prodleniya-zhizni-praktikuyut-sami-uchenye-s-avtografom-2944113', 'title': 'Ешь и молодей! Какие способы продления жизни практикуют сами учёные? (с автографом)', 'price': 642, 'price_sale': 642, 'author': 'Сергей Малоземов', 'author_url': '/author/malozemov-sergey-569954', 'source_url': 'https://new.chitai-gorod.ru/catalog/books/knigi-s-avtografom-18265?sort=price&order=asc&page=4'}, {'url': 'https://new.chitai-gorod.ru/product/rukovodstvo-po-polzovaniyu-medicinoy-s-avtografom-2947579', 'title': 'Руководство по пользованию медициной (с автографом)', 'price': 642, 'price_sale': 642, 'author': 'Александр Мясников', 'author_url': '/author/myasnikov-aleksandr-585922', 'source_url': 'https://new.chitai-gorod.ru/catalog/books/knigi-s-avtografom-18265?sort=price&order=asc&page=4'}, {'url': 'https://new.chitai-gorod.ru/product/angel-mertveca-s-avtografom-2963621', 'title': 'Ангел мертвеца (с автографом)', 'price': 586, 'price_sale': 586, 'author': 'Вадим Панов', 'author_url': '/author/panov-vadim-570959', 'source_url': 'https://new.chitai-gorod.ru/catalog/books/knigi-s-avtografom-18265?sort=price&order=asc&page=4'}, {'url': 'https://new.chitai-gorod.ru/product/znakomsya-eto-ty-kak-ponimat-sebya-roditeley-i-druzey-s-avtografom-2936930', 'title': 'Знакомься, это ты! Как понимать себя, родителей и друзей (с автографом)', 'price': 629, 'price_sale': 629, 'author': 'Виктория Шиманская', 'author_url': '/author/shimanskaya-viktoriya-568955', 'source_url': 'https://new.chitai-gorod.ru/catalog/books/knigi-s-avtografom-18265?sort=price&order=asc&page=4'}, {'url': 'https://new.chitai-gorod.ru/product/yazyk-kino-kak-stat-prodvinutym-zritelem-s-avtografom-2939106', 'title': 'Язык кино. Как стать продвинутым зрителем (с автографом)', 'price': 660, 'price_sale': 660, 'author': 'Олег Курочкин', 'author_url': '/author/kurochkin-oleg-597217', 'source_url': 'https://new.chitai-gorod.ru/catalog/books/knigi-s-avtografom-18265?sort=price&order=asc&page=4'}, {'url': 'https://new.chitai-gorod.ru/product/dusha-moya-pavel-s-avtografom-2904921', 'title': 'Душа моя Павел (с автографом)', 'price': 660, 'price_sale': 660, 'author': 'Алексей Варламов', 'author_url': '/author/varlamov-aleksey-11474', 'source_url': 'https://new.chitai-gorod.ru/catalog/books/knigi-s-avtografom-18265?sort=price&order=asc&page=4'}, {'url': 'https://new.chitai-gorod.ru/product/ne-vidya-zvezd-s-avtografom-2904995', 'title': 'Не видя звёзд (с автографом)', 'price': 803, 'price_sale': 803, 'author': 'Вадим Панов', 'author_url': '/author/panov-vadim-570959', 'source_url': 'https://new.chitai-gorod.ru/catalog/books/knigi-s-avtografom-18265?sort=price&order=asc&page=4'}, {'url': 'https://new.chitai-gorod.ru/product/nehudeem-recepty-dlya-teh-kto-lyubit-vkusno-i-po-domashnemu-s-avtografom-2904872', 'title': '#Нехудеем. Рецепты для тех, кто любит вкусно и по-домашнему (с автографом)', 'price': 817, 'price_sale': 817, 'author': 'Олеся Фисенко', 'author_url': '/author/fisenko-olesya-5154041', 'source_url': 'https://new.chitai-gorod.ru/catalog/books/knigi-s-avtografom-18265?sort=price&order=asc&page=4'}, {'url': 'https://new.chitai-gorod.ru/product/kak-razbudit-v-sebe-shekspira-dramtrenirovka-dlya-pervoy-pesy-s-avtografom-2904952', 'title': 'Как разбудить в себе Шекспира. Драмтренировка для первой пьесы (с автографом)', 'price': 817, 'price_sale': 817, 'author': 'Юлия Тупикина', 'author_url': '/author/tupikina-yuliya-5645450', 'source_url': 'https://new.chitai-gorod.ru/catalog/books/knigi-s-avtografom-18265?sort=price&order=asc&page=4'}, {'url': 'https://new.chitai-gorod.ru/product/apokalipsis-srednevekovya-ieronim-bosh-ivan-groznyy-konec-sveta-s-avtografom-2972196', 'title': 'Апокалипсис Средневековья: Иероним Босх, Иван Грозный, Конец света (с автографом)', 'price': 817, 'price_sale': 817, 'author': 'Валерия Косякова', 'author_url': '/author/kosyakova-valeriya-541607', 'source_url': 'https://new.chitai-gorod.ru/catalog/books/knigi-s-avtografom-18265?sort=price&order=asc&page=4'}, {'url': 'https://new.chitai-gorod.ru/product/gormonichnyy-rebenok-rekomendacii-ot-praktikuyushchego-detskogo-endokrinologa-s-avtografom-2936928', 'title': 'Гормоничный ребенок. Рекомендации от практикующего детского эндокринолога (с автографом)', 'price': 684, 'price_sale': 684, 'author': 'Юлия Сидорова', 'author_url': '/author/sidorova-yuliya-6463271', 'source_url': 'https://new.chitai-gorod.ru/catalog/books/knigi-s-avtografom-18265?sort=price&order=asc&page=4'}, {'url': 'https://new.chitai-gorod.ru/product/pavel-chzhan-i-prochie-rechnye-tvari-s-avtografom-2936939', 'title': 'Павел Чжан и прочие речные твари (с автографом)', 'price': 684, 'price_sale': 684, 'author': 'Вера Богданова', 'author_url': '/author/bogdanova-vera-578009', 'source_url': 'https://new.chitai-gorod.ru/catalog/books/knigi-s-avtografom-18265?sort=price&order=asc&page=4'}, {'url': 'https://new.chitai-gorod.ru/product/legkaya-golova-s-avtografom-2947564', 'title': 'Легкая голова (с автографом)', 'price': 684, 'price_sale': 684, 'author': 'Ольга Славникова', 'author_url': '/author/slavnikova-olga-570599', 'source_url': 'https://new.chitai-gorod.ru/catalog/books/knigi-s-avtografom-18265?sort=price&order=asc&page=4'}, {'url': 'https://new.chitai-gorod.ru/product/ne-svoboda-s-avtografom-2942110', 'title': '(не)свобода (с автографом)', 'price': 702, 'price_sale': 702, 'author': 'Сергей Лебеденко', 'author_url': '/author/lebedenko-sergey-3613113', 'source_url': 'https://new.chitai-gorod.ru/catalog/books/knigi-s-avtografom-18265?sort=price&order=asc&page=4'}, {'url': 'https://new.chitai-gorod.ru/product/vareniki-i-ne-tolko-30-idealnyh-receptov-kotorye-vy-polyubite-s-avtografom-2904898', 'title': 'Вареники и не только. 30+ идеальных рецептов, которые вы полюбите (с автографом)', 'price': 864, 'price_sale': 864, 'author': 'А. Солодовиченко', 'author_url': '/author/solodovichenko-a-5933352', 'source_url': 'https://new.chitai-gorod.ru/catalog/books/knigi-s-avtografom-18265?sort=price&order=asc&page=4'}, {'url': 'https://new.chitai-gorod.ru/product/ohota-na-gornostaya-zelenyy-gambit-poceluy-uroborosa-s-avtografom-2967719', 'title': 'Охота на горностая. Зеленый гамбит. Поцелуй Уробороса (с автографом)', 'price': 726, 'price_sale': 726, 'author': 'Вадим Панов', 'author_url': '/author/panov-vadim-570959', 'source_url': 'https://new.chitai-gorod.ru/catalog/books/knigi-s-avtografom-18265?sort=price&order=asc&page=4'}, {'url': 'https://new.chitai-gorod.ru/product/rebus-galla-pautina-protivostoyaniya-golovokruzhenie-s-avtografom-2967720', 'title': 'Ребус Галла. Паутина противостояния. Головокружение (с автографом)', 'price': 726, 'price_sale': 726, 'author': 'Вадим Панов', 'author_url': '/author/panov-vadim-570959', 'source_url': 'https://new.chitai-gorod.ru/catalog/books/knigi-s-avtografom-18265?sort=price&order=asc&page=4'}, {'url': 'https://new.chitai-gorod.ru/product/den-drakona-zapah-straha-s-avtografom-2967721', 'title': 'День Дракона. Запах страха (с автографом)', 'price': 726, 'price_sale': 726, 'author': 'Вадим Панов', 'author_url': '/author/panov-vadim-570959', 'source_url': 'https://new.chitai-gorod.ru/catalog/books/knigi-s-avtografom-18265?sort=price&order=asc&page=4'}, {'url': 'https://new.chitai-gorod.ru/product/nasledie-velikanov-krasnaya-ugroza-porchennaya-krov-s-avtografom-2967723', 'title': 'Наследие великанов. Красная угроза. Порченная кровь (с автографом)', 'price': 726, 'price_sale': 726, 'author': 'Вадим Панов', 'author_url': '/author/panov-vadim-570959', 'source_url': 'https://new.chitai-gorod.ru/catalog/books/knigi-s-avtografom-18265?sort=price&order=asc&page=4'}, {'url': 'https://new.chitai-gorod.ru/product/chudesnyy-kamen-mayurmi-s-avtografom-2905086', 'title': 'Чудесный камень Маюрми (с автографом)', 'price': 726, 'price_sale': 726, 'author': 'Дарья Донцова', 'author_url': '/author/doncova-darya-570569', 'source_url': 'https://new.chitai-gorod.ru/catalog/books/knigi-s-avtografom-18265?sort=price&order=asc&page=4'}, {'url': 'https://new.chitai-gorod.ru/product/myslennyy-volk-s-avtografom-2947571', 'title': 'Мысленный волк (с автографом)', 'price': 726, 'price_sale': 726, 'author': 'Алексей Варламов', 'author_url': '/author/varlamov-aleksey-11474', 'source_url': 'https://new.chitai-gorod.ru/catalog/books/knigi-s-avtografom-18265?sort=price&order=asc&page=4'}, {'url': 'https://new.chitai-gorod.ru/product/funkcionalnaya-anatomiya-zdorovya-s-avtografom-2929070', 'title': 'Функциональная анатомия здоровья (с автографом)', 'price': 726, 'price_sale': 726, 'author': 'Сергей Бубновский', 'author_url': '/author/bubnovskiy-sergey-569825', 'source_url': 'https://new.chitai-gorod.ru/catalog/books/knigi-s-avtografom-18265?sort=price&order=asc&page=4'}, {'url': 'https://new.chitai-gorod.ru/product/zhizn-skvoz-smeh-realnaya-istoriya-nerealnoy-zhenshchiny-s-avtografom-2905097', 'title': 'Жизнь сквозь смех. Реальная история нереальной женщины (с автографом)', 'price': 884, 'price_sale': 884, 'author': 'Марина Федункив', 'author_url': '/author/fedunkiv-marina-5936989', 'source_url': 'https://new.chitai-gorod.ru/catalog/books/knigi-s-avtografom-18265?sort=price&order=asc&page=4'}, {'url': 'https://new.chitai-gorod.ru/product/umolyay-vedma-chast-2-s-avtografom-2929079', 'title': 'Умоляй, ведьма. Часть 2 (с автографом)', 'price': 893, 'price_sale': 893, 'author': 'Сильвия Лайм', 'author_url': '/author/laym-silviya-584732', 'source_url': 'https://new.chitai-gorod.ru/catalog/books/knigi-s-avtografom-18265?sort=price&order=asc&page=4'}, {'url': 'https://new.chitai-gorod.ru/product/shchiborshchi-schaste-est-doma-kniga-bystryh-zhiznennyh-receptov-dlya-nachinayushchih-s-avtografom-2909026', 'title': 'ЩиБорщи. Счастье есть дома. Книга быстрых жизненных рецептов для начинающих (с автографом)', 'price': 903, 'price_sale': 903, 'author': 'Владимир Инжуватов', 'author_url': '/author/inzhuvatov-vladimir-6483992', 'source_url': 'https://new.chitai-gorod.ru/catalog/books/knigi-s-avtografom-18265?sort=price&order=asc&page=4'}, {'url': 'https://new.chitai-gorod.ru/product/vkusnyy-zozh-50-poleznyh-privychek-na-kazhdyy-den-layfhaki-i-recepty-s-avtografom-2904904', 'title': 'Вкусный ЗОЖ. 50 полезных привычек на каждый день. Лайфхаки и рецепты (с автографом)', 'price': 911, 'price_sale': 911, 'author': 'Алена Макеева', 'author_url': '/author/makeeva-alena-516397', 'source_url': 'https://new.chitai-gorod.ru/catalog/books/knigi-s-avtografom-18265?sort=price&order=asc&page=4'}, {'url': 'https://new.chitai-gorod.ru/product/lider-na-katke-kak-byt-nastoyashchim-rukovoditelem-s-avtografom-2904974', 'title': 'Лидер на катке. Как быть настоящим руководителем (с автографом)', 'price': 911, 'price_sale': 911, 'author': 'Станислав Логунов', 'author_url': '/author/logunov-stanislav-517390', 'source_url': 'https://new.chitai-gorod.ru/catalog/books/knigi-s-avtografom-18265?sort=price&order=asc&page=4'}]]\n",
      "[[{'url': 'https://new.chitai-gorod.ru/product/krugom-odni-nevesty-s-avtografom-2972190', 'title': 'Кругом одни невесты (с автографом)', 'price': 311, 'price_sale': 311, 'author': 'Юлия Набокова', 'author_url': '/author/nabokova-yuliya-589201', 'source_url': 'https://new.chitai-gorod.ru/catalog/books/knigi-s-avtografom-18265?sort=price&order=asc&page=1'}, {'url': 'https://new.chitai-gorod.ru/product/magazin-belye-tapochki-s-avtografom-2953947', 'title': 'Магазин Белые тапочки (с автографом)', 'price': 265, 'price_sale': 265, 'author': 'Елена Нестерина', 'author_url': '/author/nesterina-elena-584989', 'source_url': 'https://new.chitai-gorod.ru/catalog/books/knigi-s-avtografom-18265?sort=price&order=asc&page=1'}, {'url': 'https://new.chitai-gorod.ru/product/strasti-po-immunitetu-medicina-protiv-mediciny-2-e-izd-dopolnennoe-s-avtografom-2929074', 'title': 'Страсти по иммунитету. Медицина против медицины. 2-е изд., дополненное (с автографом)', 'price': 325, 'price_sale': 325, 'author': 'Сергей Бубновский', 'author_url': '/author/bubnovskiy-sergey-569825', 'source_url': 'https://new.chitai-gorod.ru/catalog/books/knigi-s-avtografom-18265?sort=price&order=asc&page=1'}, {'url': 'https://new.chitai-gorod.ru/product/iznanka-s-avtografom-2906393', 'title': 'Изнанка (с автографом)', 'price': 306, 'price_sale': 306, 'author': 'Лилия Волкова', 'author_url': '/author/volkova-liliya-581879', 'source_url': 'https://new.chitai-gorod.ru/catalog/books/knigi-s-avtografom-18265?sort=price&order=asc&page=1'}, {'url': 'https://new.chitai-gorod.ru/product/kak-legko-uchitsya-v-shkole-samostoyatelno-onlayn-uroki-i-ne-tolko-s-avtografom-2904950', 'title': 'Как легко учиться в школе самостоятельно. Онлайн-уроки и не только (с автографом)', 'price': 483, 'price_sale': 483, 'author': 'Анастасия Мизитова', 'author_url': '/author/mizitova-anastasiya-5941915', 'source_url': 'https://new.chitai-gorod.ru/catalog/books/knigi-s-avtografom-18265?sort=price&order=asc&page=1'}, {'url': 'https://new.chitai-gorod.ru/product/hochu-byt-mamoy-i-papoy-tozhe-vse-chto-nuzhno-znat-budushchim-roditelyam-ot-uchenogo-praktikuyushchego-psihologa-s-15-letnim-stazhem-s-avtografom-2905078', 'title': 'Хочу быть мамой, и папой тоже. Все, что нужно знать будущим родителям от ученого, практикующего психолога с 15-летним стажем (с автографом)', 'price': 499, 'price_sale': 499, 'author': 'Лена Фейгин', 'author_url': '/author/feygin-lena-6500805', 'source_url': 'https://new.chitai-gorod.ru/catalog/books/knigi-s-avtografom-18265?sort=price&order=asc&page=1'}, {'url': 'https://new.chitai-gorod.ru/product/esli-b-ne-bylo-tebya-s-avtografom-2905831', 'title': 'Если б не было тебя (с автографом)', 'price': 500, 'price_sale': 500, 'author': 'Диана Машкова', 'author_url': '/author/mashkova-diana-390923', 'source_url': 'https://new.chitai-gorod.ru/catalog/books/knigi-s-avtografom-18265?sort=price&order=asc&page=1'}, {'url': 'https://new.chitai-gorod.ru/product/ozernye-strasti-s-avtografom-2905007', 'title': 'Озерные страсти (с автографом)', 'price': 500, 'price_sale': 500, 'author': 'Татьяна Алюшина', 'author_url': '/author/alyushina-tatyana-571733', 'source_url': 'https://new.chitai-gorod.ru/catalog/books/knigi-s-avtografom-18265?sort=price&order=asc&page=1'}, {'url': 'https://new.chitai-gorod.ru/product/nashi-deti-azbuka-semi-s-avtografom-2904994', 'title': 'Наши дети. Азбука семьи (с автографом)', 'price': 500, 'price_sale': 500, 'author': 'Диана Машкова', 'author_url': '/author/mashkova-diana-390923', 'source_url': 'https://new.chitai-gorod.ru/catalog/books/knigi-s-avtografom-18265?sort=price&order=asc&page=1'}, {'url': 'https://new.chitai-gorod.ru/product/kak-vzorvat-mediaprostranstvo-iskusstvo-pr-s-avtografom-2904947', 'title': 'Как взорвать медиапространство. Искусство PR (с автографом)', 'price': 524, 'price_sale': 524, 'author': 'Роман Масленников', 'author_url': '/author/maslennikov-roman-378684', 'source_url': 'https://new.chitai-gorod.ru/catalog/books/knigi-s-avtografom-18265?sort=price&order=asc&page=1'}, {'url': 'https://new.chitai-gorod.ru/product/lyudi-neba-kak-oni-stali-monahami-s-avtografom-2904980', 'title': 'Люди неба. Как они стали монахами (с автографом)', 'price': 432, 'price_sale': 432, 'author': 'Юлия Варенцова', 'author_url': '/author/varencova-yuliya-5859904', 'source_url': 'https://new.chitai-gorod.ru/catalog/books/knigi-s-avtografom-18265?sort=price&order=asc&page=1'}, {'url': 'https://new.chitai-gorod.ru/product/nauka-zeliy-magiya-lyubvi-s-avtografom-2948233', 'title': 'Наука зелий, магия любви (с автографом)', 'price': 432, 'price_sale': 432, 'author': 'Ника Веймар', 'author_url': '/author/veymar-nika-5160505', 'source_url': 'https://new.chitai-gorod.ru/catalog/books/knigi-s-avtografom-18265?sort=price&order=asc&page=1'}, {'url': 'https://new.chitai-gorod.ru/product/gercoginya-ponevole-ili-proklyate-zverya-s-avtografom-2941491', 'title': 'Герцогиня поневоле, или Проклятье Зверя (с автографом)', 'price': 432, 'price_sale': 432, 'author': 'Евгения Александрова', 'author_url': '/author/aleksandrova-evgeniya-769579', 'source_url': 'https://new.chitai-gorod.ru/catalog/books/knigi-s-avtografom-18265?sort=price&order=asc&page=1'}, {'url': 'https://new.chitai-gorod.ru/product/fakultet-zakrytyh-znaniy-komanda-mechty-s-avtografom-2939104', 'title': 'Факультет закрытых знаний. Команда «мечты» (с автографом)', 'price': 432, 'price_sale': 432, 'author': 'Маргарита Блинова', 'author_url': '/author/blinova-margarita-469499', 'source_url': 'https://new.chitai-gorod.ru/catalog/books/knigi-s-avtografom-18265?sort=price&order=asc&page=1'}, {'url': 'https://new.chitai-gorod.ru/product/garpiya-v-akademii-s-avtografom-2939105', 'title': 'Гарпия в Академии (с автографом)', 'price': 432, 'price_sale': 432, 'author': 'Маргарита Блинова', 'author_url': '/author/blinova-margarita-469499', 'source_url': 'https://new.chitai-gorod.ru/catalog/books/knigi-s-avtografom-18265?sort=price&order=asc&page=1'}, {'url': 'https://new.chitai-gorod.ru/product/ochen-hotelos-solnca-s-avtografom-2956123', 'title': 'Очень хотелось солнца (с автографом)', 'price': 361, 'price_sale': 361, 'author': 'Мария Аверина', 'author_url': '/author/averina-mariya-563408', 'source_url': 'https://new.chitai-gorod.ru/catalog/books/knigi-s-avtografom-18265?sort=price&order=asc&page=1'}, {'url': 'https://new.chitai-gorod.ru/product/nomen-nescio-imya-neizvestno-s-avtografom-2905822', 'title': 'Nomen nescio. Имя неизвестно (с автографом)', 'price': 529, 'price_sale': 529, 'author': 'Олеся Проглядова', 'author_url': '/author/proglyadova-olesya-7495811', 'source_url': 'https://new.chitai-gorod.ru/catalog/books/knigi-s-avtografom-18265?sort=price&order=asc&page=1'}, {'url': 'https://new.chitai-gorod.ru/product/tayna-rektora-vecherney-akademii-s-avtografom-2905058', 'title': 'Тайна ректора Вечерней Академии (с автографом)', 'price': 529, 'price_sale': 529, 'author': 'Сильвия Лайм', 'author_url': '/author/laym-silviya-584732', 'source_url': 'https://new.chitai-gorod.ru/catalog/books/knigi-s-avtografom-18265?sort=price&order=asc&page=1'}, {'url': 'https://new.chitai-gorod.ru/product/gloriya-tri-znaka-smerti-s-avtografom-2929900', 'title': 'Глория. Три знака смерти (с автографом)', 'price': 450, 'price_sale': 450, 'author': 'Наталья Жильцова', 'author_url': '/author/zhilcova-natalya-569375', 'source_url': 'https://new.chitai-gorod.ru/catalog/books/knigi-s-avtografom-18265?sort=price&order=asc&page=1'}, {'url': 'https://new.chitai-gorod.ru/product/poka-medvedica-na-nebe-s-avtografom-2952045', 'title': 'Пока Медведица на небе (с автографом)', 'price': 450, 'price_sale': 450, 'author': 'Юлия Ефимова', 'author_url': '/author/efimova-yuliya-594601', 'source_url': 'https://new.chitai-gorod.ru/catalog/books/knigi-s-avtografom-18265?sort=price&order=asc&page=1'}, {'url': 'https://new.chitai-gorod.ru/product/neizvestnyy-psevdonim-boga-s-avtografom-2952044', 'title': 'Неизвестный псевдоним Бога (с автографом)', 'price': 450, 'price_sale': 450, 'author': 'Юлия Ефимова', 'author_url': '/author/efimova-yuliya-594601', 'source_url': 'https://new.chitai-gorod.ru/catalog/books/knigi-s-avtografom-18265?sort=price&order=asc&page=1'}, {'url': 'https://new.chitai-gorod.ru/product/robkiy-angel-vozmezdiya-s-avtografom-2929051', 'title': 'Робкий ангел возмездия (с автографом)', 'price': 450, 'price_sale': 450, 'author': 'Юлия Ефимова', 'author_url': '/author/efimova-yuliya-594601', 'source_url': 'https://new.chitai-gorod.ru/catalog/books/knigi-s-avtografom-18265?sort=price&order=asc&page=1'}, {'url': 'https://new.chitai-gorod.ru/product/russkaya-tayna-kazanovy-s-avtografom-2929052', 'title': 'Русская тайна Казановы (с автографом)', 'price': 450, 'price_sale': 450, 'author': 'Юлия Ефимова', 'author_url': '/author/efimova-yuliya-594601', 'source_url': 'https://new.chitai-gorod.ru/catalog/books/knigi-s-avtografom-18265?sort=price&order=asc&page=1'}, {'url': 'https://new.chitai-gorod.ru/product/zhena-arhimaga-s-avtografom-2906400', 'title': 'Жена архимага (с автографом)', 'price': 450, 'price_sale': 450, 'author': 'Алёна Медведева', 'author_url': '/author/medvedeva-alena-588736', 'source_url': 'https://new.chitai-gorod.ru/catalog/books/knigi-s-avtografom-18265?sort=price&order=asc&page=1'}, {'url': 'https://new.chitai-gorod.ru/product/pustaya-kolybel-s-avtografom-2911151', 'title': 'Пустая колыбель (с автографом)', 'price': 551, 'price_sale': 551, 'author': 'Вера Ард', 'author_url': '/author/ard-vera-571691', 'source_url': 'https://new.chitai-gorod.ru/catalog/books/knigi-s-avtografom-18265?sort=price&order=asc&page=1'}, {'url': 'https://new.chitai-gorod.ru/product/chto-ya-znayu-o-tebe-s-avtografom-2911150', 'title': 'Что я знаю о тебе? (с автографом)', 'price': 551, 'price_sale': 551, 'author': 'Вера Ард', 'author_url': '/author/ard-vera-571691', 'source_url': 'https://new.chitai-gorod.ru/catalog/books/knigi-s-avtografom-18265?sort=price&order=asc&page=1'}, {'url': 'https://new.chitai-gorod.ru/product/imeyushchiy-ushi-da-uslyshit-s-avtografom-2909029', 'title': 'Имеющий уши, да услышит (с автографом)', 'price': 551, 'price_sale': 551, 'author': 'Татьяна Степанова', 'author_url': '/author/stepanova-tatyana-569810', 'source_url': 'https://new.chitai-gorod.ru/catalog/books/knigi-s-avtografom-18265?sort=price&order=asc&page=1'}, {'url': 'https://new.chitai-gorod.ru/product/perekrestok-treh-dorog-s-avtografom-2909030', 'title': 'Перекресток трех дорог (с автографом)', 'price': 551, 'price_sale': 551, 'author': 'Татьяна Степанова', 'author_url': '/author/stepanova-tatyana-569810', 'source_url': 'https://new.chitai-gorod.ru/catalog/books/knigi-s-avtografom-18265?sort=price&order=asc&page=1'}, {'url': 'https://new.chitai-gorod.ru/product/poslednyaya-istina-poslednyaya-strast-s-avtografom-2909031', 'title': 'Последняя истина, последняя страсть (с автографом)', 'price': 551, 'price_sale': 551, 'author': 'Татьяна Степанова', 'author_url': '/author/stepanova-tatyana-569810', 'source_url': 'https://new.chitai-gorod.ru/catalog/books/knigi-s-avtografom-18265?sort=price&order=asc&page=1'}], [{'url': 'https://new.chitai-gorod.ru/product/eva-i-adam-s-avtografom-2947576', 'title': 'Ева и Адам (с автографом)', 'price': 474, 'price_sale': 474, 'author': 'Ольга Гуляева', 'author_url': '/author/gulyaeva-olga-593035', 'source_url': 'https://new.chitai-gorod.ru/catalog/books/knigi-s-avtografom-18265?sort=price&order=asc&page=2'}, {'url': 'https://new.chitai-gorod.ru/product/effekt-feniksa-kak-pereroditsya-i-stat-schastlivoy-za-7-dney-s-avtografom-2905091', 'title': 'Эффект Феникса: как переродиться и стать счастливой за 7 дней (с автографом)', 'price': 581, 'price_sale': 581, 'author': 'Анастасия Барашкова', 'author_url': '/author/barashkova-anastasiya-5155460', 'source_url': 'https://new.chitai-gorod.ru/catalog/books/knigi-s-avtografom-18265?sort=price&order=asc&page=2'}, {'url': 'https://new.chitai-gorod.ru/product/zemli-semi-imen-s-avtografom-2905833', 'title': 'Земли семи имён (с автографом)', 'price': 581, 'price_sale': 581, 'author': 'Дарина Стрельченко', 'author_url': '/author/strelchenko-darina-3368440', 'source_url': 'https://new.chitai-gorod.ru/catalog/books/knigi-s-avtografom-18265?sort=price&order=asc&page=2'}, {'url': 'https://new.chitai-gorod.ru/product/ili-ya-seychas-umru-ot-schastya-s-avtografom-2905836', 'title': 'Или я сейчас умру от счастья (с автографом)', 'price': 581, 'price_sale': 581, 'author': 'Маша Трауб', 'author_url': '/author/traub-masha-570635', 'source_url': 'https://new.chitai-gorod.ru/catalog/books/knigi-s-avtografom-18265?sort=price&order=asc&page=2'}, {'url': 'https://new.chitai-gorod.ru/product/kak-umirala-vera-s-avtografom-2904953', 'title': 'Как умирала Вера (с автографом)', 'price': 581, 'price_sale': 581, 'author': 'Ольга Гуляева', 'author_url': '/author/gulyaeva-olga-593035', 'source_url': 'https://new.chitai-gorod.ru/catalog/books/knigi-s-avtografom-18265?sort=price&order=asc&page=2'}, {'url': 'https://new.chitai-gorod.ru/product/kniga-aeda-s-avtografom-2904955', 'title': 'Книга аэда (с автографом)', 'price': 581, 'price_sale': 581, 'author': 'Гаянэ Степанян', 'author_url': '/author/stepanyan-gayane-9089818', 'source_url': 'https://new.chitai-gorod.ru/catalog/books/knigi-s-avtografom-18265?sort=price&order=asc&page=2'}, {'url': 'https://new.chitai-gorod.ru/product/bloknot-fud-fotografa-risunok-s-avtografom-2904890', 'title': 'Блокнот фуд-фотографа (рисунок) (с автографом)', 'price': 594, 'price_sale': 594, 'author': 'Анастасия Зурабова', 'author_url': '/author/zurabova-anastasiya-508938', 'source_url': 'https://new.chitai-gorod.ru/catalog/books/knigi-s-avtografom-18265?sort=price&order=asc&page=2'}, {'url': 'https://new.chitai-gorod.ru/product/bloknot-fud-fotografa-foto-s-avtografom-2904891', 'title': 'Блокнот фуд-фотографа (фото) (с автографом)', 'price': 594, 'price_sale': 594, 'author': 'Анастасия Зурабова', 'author_url': '/author/zurabova-anastasiya-508938', 'source_url': 'https://new.chitai-gorod.ru/catalog/books/knigi-s-avtografom-18265?sort=price&order=asc&page=2'}, {'url': 'https://new.chitai-gorod.ru/product/priklyucheniya-kota-sokrata-v-avstralii-s-avtografom-2905021', 'title': 'Приключения кота Сократа в Австралии (с автографом)', 'price': 492, 'price_sale': 492, 'author': 'Михаил Самарский', 'author_url': '/author/samarskiy-mihail-570458', 'source_url': 'https://new.chitai-gorod.ru/catalog/books/knigi-s-avtografom-18265?sort=price&order=asc&page=2'}, {'url': 'https://new.chitai-gorod.ru/product/drugaya-sestra-s-avtografom-2914953', 'title': 'Другая сестра (с автографом)', 'price': 492, 'price_sale': 492, 'author': 'Ольга Гуляева', 'author_url': '/author/gulyaeva-olga-593035', 'source_url': 'https://new.chitai-gorod.ru/catalog/books/knigi-s-avtografom-18265?sort=price&order=asc&page=2'}, {'url': 'https://new.chitai-gorod.ru/product/ni-lyubvi-ni-robotov-s-avtografom-2936941', 'title': 'Ни любви, ни роботов (с автографом)', 'price': 492, 'price_sale': 492, 'author': 'Артем Голиков', 'author_url': '/author/golikov-artem-1368713', 'source_url': 'https://new.chitai-gorod.ru/catalog/books/knigi-s-avtografom-18265?sort=price&order=asc&page=2'}, {'url': 'https://new.chitai-gorod.ru/product/sup-vtoroe-i-kompot-s-avtografom-2905053', 'title': 'Суп, второе и компот (с автографом)', 'price': 603, 'price_sale': 603, 'author': 'Маша Трауб', 'author_url': '/author/traub-masha-570635', 'source_url': 'https://new.chitai-gorod.ru/catalog/books/knigi-s-avtografom-18265?sort=price&order=asc&page=2'}, {'url': 'https://new.chitai-gorod.ru/product/plohaya-doch-s-avtografom-2905843', 'title': 'Плохая дочь (с автографом)', 'price': 603, 'price_sale': 603, 'author': 'Маша Трауб', 'author_url': '/author/traub-masha-570635', 'source_url': 'https://new.chitai-gorod.ru/catalog/books/knigi-s-avtografom-18265?sort=price&order=asc&page=2'}, {'url': 'https://new.chitai-gorod.ru/product/nevozvratnyy-bilet-s-avtografom-2960985', 'title': 'Невозвратный билет (с автографом)', 'price': 411, 'price_sale': 411, 'author': 'Маша Трауб', 'author_url': '/author/traub-masha-570635', 'source_url': 'https://new.chitai-gorod.ru/catalog/books/knigi-s-avtografom-18265?sort=price&order=asc&page=2'}, {'url': 'https://new.chitai-gorod.ru/product/chasy-idushchie-nazad-s-avtografom-2909032', 'title': 'Часы, идущие назад (с автографом)', 'price': 619, 'price_sale': 619, 'author': 'Татьяна Степанова', 'author_url': '/author/stepanova-tatyana-569810', 'source_url': 'https://new.chitai-gorod.ru/catalog/books/knigi-s-avtografom-18265?sort=price&order=asc&page=2'}, {'url': 'https://new.chitai-gorod.ru/product/sekretnyy-dnevnik-agenta-skazochnogo-patrulya-s-avtografom-2905914', 'title': 'Секретный дневник агента Сказочного патруля (с автографом)', 'price': 625, 'price_sale': 625, 'author': 'Олег Рой', 'author_url': '/author/roy-oleg-571004', 'source_url': 'https://new.chitai-gorod.ru/catalog/books/knigi-s-avtografom-18265?sort=price&order=asc&page=2'}, {'url': 'https://new.chitai-gorod.ru/product/doroga-na-annapurnu-s-avtografom-2909024', 'title': 'Дорога на Аннапурну (с автографом)', 'price': 625, 'price_sale': 625, 'author': 'Марина Москвина', 'author_url': '/author/moskvina-marina-3581', 'source_url': 'https://new.chitai-gorod.ru/catalog/books/knigi-s-avtografom-18265?sort=price&order=asc&page=2'}, {'url': 'https://new.chitai-gorod.ru/product/izgolove-iz-travy-s-avtografom-2905835', 'title': 'Изголовье из травы (с автографом)', 'price': 625, 'price_sale': 625, 'author': 'Марина Москвина', 'author_url': '/author/moskvina-marina-3581', 'source_url': 'https://new.chitai-gorod.ru/catalog/books/knigi-s-avtografom-18265?sort=price&order=asc&page=2'}, {'url': 'https://new.chitai-gorod.ru/product/proklyatyy-kapitan-skovat-shtorm-s-avtografom-2941490', 'title': 'Проклятый капитан. Сковать шторм (с автографом)', 'price': 516, 'price_sale': 516, 'author': 'Евгения Александрова', 'author_url': '/author/aleksandrova-evgeniya-769579', 'source_url': 'https://new.chitai-gorod.ru/catalog/books/knigi-s-avtografom-18265?sort=price&order=asc&page=2'}, {'url': 'https://new.chitai-gorod.ru/product/shest-dney-s-avtografom-2905088', 'title': 'Шесть дней (с автографом)', 'price': 632, 'price_sale': 632, 'author': 'Сергей Вересков', 'author_url': '/author/vereskov-sergey-6476077', 'source_url': 'https://new.chitai-gorod.ru/catalog/books/knigi-s-avtografom-18265?sort=price&order=asc&page=2'}, {'url': 'https://new.chitai-gorod.ru/product/bystrye-peremeny-s-avtografom-2963619', 'title': 'Быстрые перемены (с автографом)', 'price': 431, 'price_sale': 431, 'author': 'Вадим Панов', 'author_url': '/author/panov-vadim-570959', 'source_url': 'https://new.chitai-gorod.ru/catalog/books/knigi-s-avtografom-18265?sort=price&order=asc&page=2'}, {'url': 'https://new.chitai-gorod.ru/product/trio-neizvestnosti-s-avtografom-2963620', 'title': 'Трио неизвестности (с автографом)', 'price': 431, 'price_sale': 431, 'author': 'Вадим Панов', 'author_url': '/author/panov-vadim-570959', 'source_url': 'https://new.chitai-gorod.ru/catalog/books/knigi-s-avtografom-18265?sort=price&order=asc&page=2'}, {'url': 'https://new.chitai-gorod.ru/product/idealnaya-lyubov-neidealnyh-mam-s-avtografom-2906399', 'title': 'Идеальная любовь неидеальных мам (с автографом)', 'price': 534, 'price_sale': 534, 'author': 'Меседу Булач', 'author_url': '/author/bulach-mesedu-3369598', 'source_url': 'https://new.chitai-gorod.ru/catalog/books/knigi-s-avtografom-18265?sort=price&order=asc&page=2'}, {'url': 'https://new.chitai-gorod.ru/product/devochka-krasnaya-tapochka-s-avtografom-2948227', 'title': 'Девочка Красная Тапочка (с автографом)', 'price': 534, 'price_sale': 534, 'author': 'Дарья Донцова', 'author_url': '/author/doncova-darya-570569', 'source_url': 'https://new.chitai-gorod.ru/catalog/books/knigi-s-avtografom-18265?sort=price&order=asc&page=2'}, {'url': 'https://new.chitai-gorod.ru/product/ded-yaga-i-ego-deti-s-avtografom-2948228', 'title': 'Дед Яга и его дети (с автографом)', 'price': 534, 'price_sale': 534, 'author': 'Дарья Донцова', 'author_url': '/author/doncova-darya-570569', 'source_url': 'https://new.chitai-gorod.ru/catalog/books/knigi-s-avtografom-18265?sort=price&order=asc&page=2'}, {'url': 'https://new.chitai-gorod.ru/product/begemot-pod-mayonezom-s-avtografom-2948229', 'title': 'Бегемот под майонезом (с автографом)', 'price': 534, 'price_sale': 534, 'author': 'Дарья Донцова', 'author_url': '/author/doncova-darya-570569', 'source_url': 'https://new.chitai-gorod.ru/catalog/books/knigi-s-avtografom-18265?sort=price&order=asc&page=2'}, {'url': 'https://new.chitai-gorod.ru/product/kaktus-vtoroy-svezhesti-s-avtografom-2948230', 'title': 'Кактус второй свежести (с автографом)', 'price': 534, 'price_sale': 534, 'author': 'Дарья Донцова', 'author_url': '/author/doncova-darya-570569', 'source_url': 'https://new.chitai-gorod.ru/catalog/books/knigi-s-avtografom-18265?sort=price&order=asc&page=2'}, {'url': 'https://new.chitai-gorod.ru/product/neudachnaya-karera-megery-s-avtografom-2948231', 'title': 'Неудачная карьера мегеры (с автографом)', 'price': 534, 'price_sale': 534, 'author': 'Дарья Донцова', 'author_url': '/author/doncova-darya-570569', 'source_url': 'https://new.chitai-gorod.ru/catalog/books/knigi-s-avtografom-18265?sort=price&order=asc&page=2'}, {'url': 'https://new.chitai-gorod.ru/product/horoshie-manery-solovya-razboynika-s-avtografom-2905077', 'title': 'Хорошие манеры Соловья-разбойника (с автографом)', 'price': 534, 'price_sale': 534, 'author': 'Дарья Донцова', 'author_url': '/author/doncova-darya-570569', 'source_url': 'https://new.chitai-gorod.ru/catalog/books/knigi-s-avtografom-18265?sort=price&order=asc&page=2'}, {'url': 'https://new.chitai-gorod.ru/product/chugunnye-sapogi-skorohody-s-avtografom-2905085', 'title': 'Чугунные сапоги-скороходы (с автографом)', 'price': 534, 'price_sale': 534, 'author': 'Дарья Донцова', 'author_url': '/author/doncova-darya-570569', 'source_url': 'https://new.chitai-gorod.ru/catalog/books/knigi-s-avtografom-18265?sort=price&order=asc&page=2'}, {'url': 'https://new.chitai-gorod.ru/product/chuchelo-ot-pervogo-braka-s-avtografom-2905087', 'title': 'Чучело от первого брака (с автографом)', 'price': 534, 'price_sale': 534, 'author': 'Дарья Донцова', 'author_url': '/author/doncova-darya-570569', 'source_url': 'https://new.chitai-gorod.ru/catalog/books/knigi-s-avtografom-18265?sort=price&order=asc&page=2'}], [{'url': 'https://new.chitai-gorod.ru/product/mamasha-barmaley-s-avtografom-2905881', 'title': 'Мамаша Бармалей (с автографом)', 'price': 534, 'price_sale': 534, 'author': 'Дарья Донцова', 'author_url': '/author/doncova-darya-570569', 'source_url': 'https://new.chitai-gorod.ru/catalog/books/knigi-s-avtografom-18265?sort=price&order=asc&page=3'}, {'url': 'https://new.chitai-gorod.ru/product/igrozhur-velikiy-russkiy-roman-pro-igry-s-avtografom-2904942', 'title': 'Игрожур. Великий русский роман про игры (с автографом)', 'price': 646, 'price_sale': 646, 'author': 'Андрей Подшибякин', 'author_url': '/author/podshibyakin-andrey-157458', 'source_url': 'https://new.chitai-gorod.ru/catalog/books/knigi-s-avtografom-18265?sort=price&order=asc&page=3'}, {'url': 'https://new.chitai-gorod.ru/product/metod-teplyh-kotikov-vremya-ubrat-kogti-i-polyubit-sebya-s-otkrytkoy-s-avtografom-2966324', 'title': 'Метод теплых котиков. Время убрать когти и полюбить себя (с открыткой с автографом)', 'price': 446, 'price_sale': 446, 'author': 'Алена Трубицина', 'author_url': '/author/trubicina-alena-8288917', 'source_url': 'https://new.chitai-gorod.ru/catalog/books/knigi-s-avtografom-18265?sort=price&order=asc&page=3'}, {'url': 'https://new.chitai-gorod.ru/product/zhizn-v-epizodah-s-avtografom-2906379', 'title': 'Жизнь в эпизодах (с автографом)', 'price': 558, 'price_sale': 558, 'author': 'Катерина Шпица', 'author_url': '/author/shpica-katerina-5938488', 'source_url': 'https://new.chitai-gorod.ru/catalog/books/knigi-s-avtografom-18265?sort=price&order=asc&page=3'}, {'url': 'https://new.chitai-gorod.ru/product/progulki-po-neizvestnoy-moskve-s-avtografom-2929064', 'title': 'Прогулки по неизвестной Москве (с автографом)', 'price': 558, 'price_sale': 558, 'author': 'Дарья Булгакова', 'author_url': '/author/bulgakova-darya-1368860', 'source_url': 'https://new.chitai-gorod.ru/catalog/books/knigi-s-avtografom-18265?sort=price&order=asc&page=3'}, {'url': 'https://new.chitai-gorod.ru/product/spustitsya-s-nebes-s-avtografom-2905048', 'title': 'Спуститься с небес (с автографом)', 'price': 558, 'price_sale': 558, 'author': 'Михаил Самарский', 'author_url': '/author/samarskiy-mihail-570458', 'source_url': 'https://new.chitai-gorod.ru/catalog/books/knigi-s-avtografom-18265?sort=price&order=asc&page=3'}, {'url': 'https://new.chitai-gorod.ru/product/zhili-lyudi-kak-vsegda-zapiski-fedi-bulkina-s-avtografom-2905102', 'title': 'Жили люди как всегда: записки Феди Булкина (с автографом)', 'price': 558, 'price_sale': 558, 'author': 'Александра Николаенко', 'author_url': '/author/nikolaenko-aleksandra-364163', 'source_url': 'https://new.chitai-gorod.ru/catalog/books/knigi-s-avtografom-18265?sort=price&order=asc&page=3'}, {'url': 'https://new.chitai-gorod.ru/product/zloy-malchik-s-avtografom-2911146', 'title': 'Злой мальчик (с автографом)', 'price': 678, 'price_sale': 678, 'author': 'В. Печейкин', 'author_url': '/author/pecheykin-v-5932928', 'source_url': 'https://new.chitai-gorod.ru/catalog/books/knigi-s-avtografom-18265?sort=price&order=asc&page=3'}, {'url': 'https://new.chitai-gorod.ru/product/ulybka-smerti-na-ustah-s-avtografom-2905072', 'title': 'Улыбка смерти на устах (с автографом)', 'price': 684, 'price_sale': 684, 'author': 'Анна Литвинова', 'author_url': '/author/litvinova-anna-569831', 'source_url': 'https://new.chitai-gorod.ru/catalog/books/knigi-s-avtografom-18265?sort=price&order=asc&page=3'}, {'url': 'https://new.chitai-gorod.ru/product/formula-mechty-put-k-schastlivoy-zhizni-v-kotoroy-ispolnyayutsya-dazhe-samye-smelye-zhelaniya-s-avtografom-2905856', 'title': 'Формула мечты. Путь к счастливой жизни, в которой исполняются даже самые смелые желания (с автографом)', 'price': 684, 'price_sale': 684, 'author': 'Ирина Лилло', 'author_url': '/author/lillo-irina-3369109', 'source_url': 'https://new.chitai-gorod.ru/catalog/books/knigi-s-avtografom-18265?sort=price&order=asc&page=3'}, {'url': 'https://new.chitai-gorod.ru/product/an-chego-molchish-neostorozhnye-shagi-yunosti-s-avtografom-2904881', 'title': 'Ань, чего молчишь? Неосторожные шаги юности (с автографом)', 'price': 684, 'price_sale': 684, 'author': 'Анна Махлина', 'author_url': '/author/mahlina-anna-5157125', 'source_url': 'https://new.chitai-gorod.ru/catalog/books/knigi-s-avtografom-18265?sort=price&order=asc&page=3'}, {'url': 'https://new.chitai-gorod.ru/product/pritvoris-babochkoy-s-avtografom-2911942', 'title': 'Притворись бабочкой (с автографом)', 'price': 684, 'price_sale': 684, 'author': 'Тория Дрим', 'author_url': '/author/drim-toriya-570557', 'source_url': 'https://new.chitai-gorod.ru/catalog/books/knigi-s-avtografom-18265?sort=price&order=asc&page=3'}, {'url': 'https://new.chitai-gorod.ru/product/v-krayu-molochnyh-rek-s-avtografom-2926881', 'title': 'В краю молочных рек (с автографом)', 'price': 684, 'price_sale': 684, 'author': 'Сергей Вересков', 'author_url': '/author/vereskov-sergey-6476077', 'source_url': 'https://new.chitai-gorod.ru/catalog/books/knigi-s-avtografom-18265?sort=price&order=asc&page=3'}, {'url': 'https://new.chitai-gorod.ru/product/tri-storony-kamnya-s-avtografom-2909023', 'title': 'Три стороны камня (с автографом)', 'price': 695, 'price_sale': 695, 'author': 'Марина Москвина', 'author_url': '/author/moskvina-marina-3581', 'source_url': 'https://new.chitai-gorod.ru/catalog/books/knigi-s-avtografom-18265?sort=price&order=asc&page=3'}, {'url': 'https://new.chitai-gorod.ru/product/sobiratel-raya-s-avtografom-2952049', 'title': 'Собиратель рая (с автографом)', 'price': 516, 'price_sale': 516, 'author': 'Евгений Чижов', 'author_url': '/author/chizhov-evgeniy-435289', 'source_url': 'https://new.chitai-gorod.ru/catalog/books/knigi-s-avtografom-18265?sort=price&order=asc&page=3'}, {'url': 'https://new.chitai-gorod.ru/product/svobodnye-s-avtografom-2953460', 'title': 'Свободные (с автографом)', 'price': 576, 'price_sale': 576, 'author': 'Эшли Дьюал', 'author_url': '/author/dyual-eshli-512257', 'source_url': 'https://new.chitai-gorod.ru/catalog/books/knigi-s-avtografom-18265?sort=price&order=asc&page=3'}, {'url': 'https://new.chitai-gorod.ru/product/luchshie-lyudi-goroda-s-avtografom-2904978', 'title': 'Лучшие люди города (с автографом)', 'price': 695, 'price_sale': 695, 'author': 'Катерина Кожевина', 'author_url': '/author/kozhevina-katerina-5161046', 'source_url': 'https://new.chitai-gorod.ru/catalog/books/knigi-s-avtografom-18265?sort=price&order=asc&page=3'}, {'url': 'https://new.chitai-gorod.ru/product/chuzhie-igry-protivostoyanie-s-avtografom-2963618', 'title': 'Чужие игры: Противостояние (с автографом)', 'price': 481, 'price_sale': 481, 'author': 'Вадим Панов', 'author_url': '/author/panov-vadim-570959', 'source_url': 'https://new.chitai-gorod.ru/catalog/books/knigi-s-avtografom-18265?sort=price&order=asc&page=3'}, {'url': 'https://new.chitai-gorod.ru/product/trudnosti-perevoda-s-avtografom-2949896', 'title': 'Трудности перевода (с автографом)', 'price': 714, 'price_sale': 714, 'author': 'Олег Рой', 'author_url': '/author/roy-oleg-571004', 'source_url': 'https://new.chitai-gorod.ru/catalog/books/knigi-s-avtografom-18265?sort=price&order=asc&page=3'}, {'url': 'https://new.chitai-gorod.ru/product/deti-na-diete-kak-nakormit-allergika-kotoromu-nichego-nelzya-s-avtografom-2910253', 'title': 'Дети на диете. Как накормить аллергика, которому ничего нельзя (с автографом)', 'price': 720, 'price_sale': 720, 'author': 'Татьяна Зверева', 'author_url': '/author/zvereva-tatyana-6491336', 'source_url': 'https://new.chitai-gorod.ru/catalog/books/knigi-s-avtografom-18265?sort=price&order=asc&page=3'}, {'url': 'https://new.chitai-gorod.ru/product/portret-psihopata-profayler-o-seriynyh-ubiycah-s-avtografom-2926880', 'title': 'Портрет психопата. Профайлер о серийных убийцах (с автографом)', 'price': 722, 'price_sale': 722, 'author': 'Анна Кулик', 'author_url': '/author/kulik-anna-583439', 'source_url': 'https://new.chitai-gorod.ru/catalog/books/knigi-s-avtografom-18265?sort=price&order=asc&page=3'}, {'url': 'https://new.chitai-gorod.ru/product/vzlom-lica-fiziognomika-v-istoriyah-dengi-seks-i-politika-s-avtografom-2904902', 'title': 'Взлом лица. Физиогномика в историях: деньги, секс и политика (с автографом)', 'price': 722, 'price_sale': 722, 'author': 'Артем Павлов', 'author_url': '/author/pavlov-artem-5938251', 'source_url': 'https://new.chitai-gorod.ru/catalog/books/knigi-s-avtografom-18265?sort=price&order=asc&page=3'}, {'url': 'https://new.chitai-gorod.ru/product/samooborona-ot-a-do-ya-kak-pobedit-v-drake-na-ulice-ne-vladeya-boevymi-iskusstvami-s-avtografom-2911140', 'title': 'Самооборона от А до Я. Как победить в драке на улице, не владея боевыми искусствами (с автографом)', 'price': 724, 'price_sale': 724, 'author': 'Михаил Диденко', 'author_url': '/author/didenko-mihail-446368', 'source_url': 'https://new.chitai-gorod.ru/catalog/books/knigi-s-avtografom-18265?sort=price&order=asc&page=3'}, {'url': 'https://new.chitai-gorod.ru/product/neotlozhnaya-pomoshch-kniga-kotoraya-spasaet-zhizni-s-avtografom-2906401', 'title': 'Неотложная помощь. Книга, которая спасает жизни (с автографом)', 'price': 600, 'price_sale': 600, 'author': 'Сергей Вялов', 'author_url': '/author/vyalov-sergey-570497', 'source_url': 'https://new.chitai-gorod.ru/catalog/books/knigi-s-avtografom-18265?sort=price&order=asc&page=3'}, {'url': 'https://new.chitai-gorod.ru/product/eda-zhivaya-i-mertvaya-5-principov-zdorovogo-pitaniya-s-avtografom-2944115', 'title': 'Еда живая и мертвая. 5 принципов здорового питания (с автографом)', 'price': 600, 'price_sale': 600, 'author': 'Сергей Малоземов', 'author_url': '/author/malozemov-sergey-569954', 'source_url': 'https://new.chitai-gorod.ru/catalog/books/knigi-s-avtografom-18265?sort=price&order=asc&page=3'}, {'url': 'https://new.chitai-gorod.ru/product/eda-zhivaya-i-mertvaya-produkty-celiteli-i-produkty-ubiycy-s-avtografom-2944116', 'title': 'Еда живая и мертвая. Продукты-целители и продукты-убийцы (с автографом)', 'price': 600, 'price_sale': 600, 'author': 'Сергей Малоземов', 'author_url': '/author/malozemov-sergey-569954', 'source_url': 'https://new.chitai-gorod.ru/catalog/books/knigi-s-avtografom-18265?sort=price&order=asc&page=3'}, {'url': 'https://new.chitai-gorod.ru/product/chuzhaya-zhizn-s-avtografom-2953462', 'title': 'Чужая жизнь (с автографом)', 'price': 600, 'price_sale': 600, 'author': 'Елена Долгопят', 'author_url': '/author/dolgopyat-elena-505791', 'source_url': 'https://new.chitai-gorod.ru/catalog/books/knigi-s-avtografom-18265?sort=price&order=asc&page=3'}, {'url': 'https://new.chitai-gorod.ru/product/tayny-zhenskogo-tela-kak-vneshnyaya-krasota-zavisit-ot-vnutrennih-processov-noveyshie-nauchnye-otkrytiya-s-avtografom-2905059', 'title': 'Тайны женского тела. Как внешняя красота зависит от внутренних процессов - новейшие научные открытия (с автографом)', 'price': 735, 'price_sale': 735, 'author': 'Сергей Малоземов', 'author_url': '/author/malozemov-sergey-569954', 'source_url': 'https://new.chitai-gorod.ru/catalog/books/knigi-s-avtografom-18265?sort=price&order=asc&page=3'}, {'url': 'https://new.chitai-gorod.ru/product/tumannye-allei-s-avtografom-2905069', 'title': 'Туманные аллеи (с автографом)', 'price': 735, 'price_sale': 735, 'author': 'Алексей Слаповский', 'author_url': '/author/slapovskiy-aleksey-9854', 'source_url': 'https://new.chitai-gorod.ru/catalog/books/knigi-s-avtografom-18265?sort=price&order=asc&page=3'}, {'url': 'https://new.chitai-gorod.ru/product/legkiy-sposob-brosit-stradat-s-avtografom-2905098', 'title': 'Легкий способ бросить страдать (с автографом)', 'price': 735, 'price_sale': 735, 'author': 'Катя Гордон', 'author_url': '/author/gordon-katya-5306', 'source_url': 'https://new.chitai-gorod.ru/catalog/books/knigi-s-avtografom-18265?sort=price&order=asc&page=3'}, {'url': 'https://new.chitai-gorod.ru/product/ostansya-doma-i-strelyay-s-avtografom-2905821', 'title': '#останься дома и стреляй! (с автографом)', 'price': 735, 'price_sale': 735, 'author': 'Анна Литвинова', 'author_url': '/author/litvinova-anna-569831', 'source_url': 'https://new.chitai-gorod.ru/catalog/books/knigi-s-avtografom-18265?sort=price&order=asc&page=3'}, {'url': 'https://new.chitai-gorod.ru/product/ahill-ne-nosil-odnorazovyh-bahil-ponyatnoe-rukovodstvo-po-ekologichnomu-obrazu-zhizni-s-avtografom-2905824', 'title': 'Ахилл не носил одноразовых бахил. Понятное руководство по экологичному образу жизни (с автографом)', 'price': 735, 'price_sale': 735, 'author': 'Ольга Мироненко', 'author_url': '/author/mironenko-olga-7523177', 'source_url': 'https://new.chitai-gorod.ru/catalog/books/knigi-s-avtografom-18265?sort=price&order=asc&page=3'}, {'url': 'https://new.chitai-gorod.ru/product/lisy-i-volki-s-avtografom-2972918', 'title': 'Лисы и Волки (с автографом)', 'price': 735, 'price_sale': 735, 'author': 'Лиза Белоусова', 'author_url': '/author/belousova-liza-9063519', 'source_url': 'https://new.chitai-gorod.ru/catalog/books/knigi-s-avtografom-18265?sort=price&order=asc&page=3'}], [{'url': 'https://new.chitai-gorod.ru/product/kak-vospitat-pingvina-ili-priklyucheniya-cheyzi-i-zoi-s-avtografom-2962543', 'title': 'Как воспитать пингвина, или Приключения Чейзи и Зои (с автографом)', 'price': 743, 'price_sale': 743, 'author': 'Анастасия Хачатурова', 'author_url': '/author/hachaturova-anastasiya-9041679', 'source_url': 'https://new.chitai-gorod.ru/catalog/books/knigi-s-avtografom-18265?sort=price&order=asc&page=4'}, {'url': 'https://new.chitai-gorod.ru/product/materinskaya-lyubov-s-avtografom-2909027', 'title': 'Материнская любовь (с автографом)', 'price': 743, 'price_sale': 743, 'author': 'Андрей Некрасов', 'author_url': '/author/nekrasov-andrey-601064', 'source_url': 'https://new.chitai-gorod.ru/catalog/books/knigi-s-avtografom-18265?sort=price&order=asc&page=4'}, {'url': 'https://new.chitai-gorod.ru/product/azbuka-schastlivoy-semi-30-urokov-osoznannogo-roditelstva-s-avtografom-2904878', 'title': 'Азбука счастливой семьи. 30 уроков осознанного родительства (с автографом)', 'price': 743, 'price_sale': 743, 'author': 'Диана Машкова', 'author_url': '/author/mashkova-diana-390923', 'source_url': 'https://new.chitai-gorod.ru/catalog/books/knigi-s-avtografom-18265?sort=price&order=asc&page=4'}, {'url': 'https://new.chitai-gorod.ru/product/hroniki-zabytyh-snovideniy-s-avtografom-2953461', 'title': 'Хроники забытых сновидений (с автографом)', 'price': 618, 'price_sale': 618, 'author': 'Елена Долгопят', 'author_url': '/author/dolgopyat-elena-505791', 'source_url': 'https://new.chitai-gorod.ru/catalog/books/knigi-s-avtografom-18265?sort=price&order=asc&page=4'}, {'url': 'https://new.chitai-gorod.ru/product/biznes-na-vsyu-katushku-kak-postroit-svoe-delo-bez-startovogo-kapitala-s-avtografom-2904887', 'title': 'Бизнес на всю катушку. Как построить свое дело без стартового капитала (с автографом)', 'price': 770, 'price_sale': 770, 'author': 'Майя Драган', 'author_url': '/author/dragan-mayya-1586508', 'source_url': 'https://new.chitai-gorod.ru/catalog/books/knigi-s-avtografom-18265?sort=price&order=asc&page=4'}, {'url': 'https://new.chitai-gorod.ru/product/krug-zhizni-ritualy-perehoda-v-prirodnom-vedmovstve-s-avtografom-2904965', 'title': 'Круг жизни. Ритуалы перехода в природном ведьмовстве (с автографом)', 'price': 770, 'price_sale': 770, 'author': 'Полина Лопухина', 'author_url': '/author/lopuhina-polina-4913099', 'source_url': 'https://new.chitai-gorod.ru/catalog/books/knigi-s-avtografom-18265?sort=price&order=asc&page=4'}, {'url': 'https://new.chitai-gorod.ru/product/legko-byt-soboy-kak-pobedit-vnutrennego-kritika-izbavitsya-ot-trevog-i-stat-schastlivoy-s-avtografom-2904970', 'title': 'Легко быть собой. Как победить внутреннего критика, избавиться от тревог и стать счастливой (с автографом)', 'price': 772, 'price_sale': 772, 'author': 'Женя Донова', 'author_url': '/author/donova-zhenya-2544761', 'source_url': 'https://new.chitai-gorod.ru/catalog/books/knigi-s-avtografom-18265?sort=price&order=asc&page=4'}, {'url': 'https://new.chitai-gorod.ru/product/esh-i-molodey-kakie-sposoby-prodleniya-zhizni-praktikuyut-sami-uchenye-s-avtografom-2944113', 'title': 'Ешь и молодей! Какие способы продления жизни практикуют сами учёные? (с автографом)', 'price': 642, 'price_sale': 642, 'author': 'Сергей Малоземов', 'author_url': '/author/malozemov-sergey-569954', 'source_url': 'https://new.chitai-gorod.ru/catalog/books/knigi-s-avtografom-18265?sort=price&order=asc&page=4'}, {'url': 'https://new.chitai-gorod.ru/product/rukovodstvo-po-polzovaniyu-medicinoy-s-avtografom-2947579', 'title': 'Руководство по пользованию медициной (с автографом)', 'price': 642, 'price_sale': 642, 'author': 'Александр Мясников', 'author_url': '/author/myasnikov-aleksandr-585922', 'source_url': 'https://new.chitai-gorod.ru/catalog/books/knigi-s-avtografom-18265?sort=price&order=asc&page=4'}, {'url': 'https://new.chitai-gorod.ru/product/angel-mertveca-s-avtografom-2963621', 'title': 'Ангел мертвеца (с автографом)', 'price': 586, 'price_sale': 586, 'author': 'Вадим Панов', 'author_url': '/author/panov-vadim-570959', 'source_url': 'https://new.chitai-gorod.ru/catalog/books/knigi-s-avtografom-18265?sort=price&order=asc&page=4'}, {'url': 'https://new.chitai-gorod.ru/product/znakomsya-eto-ty-kak-ponimat-sebya-roditeley-i-druzey-s-avtografom-2936930', 'title': 'Знакомься, это ты! Как понимать себя, родителей и друзей (с автографом)', 'price': 629, 'price_sale': 629, 'author': 'Виктория Шиманская', 'author_url': '/author/shimanskaya-viktoriya-568955', 'source_url': 'https://new.chitai-gorod.ru/catalog/books/knigi-s-avtografom-18265?sort=price&order=asc&page=4'}, {'url': 'https://new.chitai-gorod.ru/product/yazyk-kino-kak-stat-prodvinutym-zritelem-s-avtografom-2939106', 'title': 'Язык кино. Как стать продвинутым зрителем (с автографом)', 'price': 660, 'price_sale': 660, 'author': 'Олег Курочкин', 'author_url': '/author/kurochkin-oleg-597217', 'source_url': 'https://new.chitai-gorod.ru/catalog/books/knigi-s-avtografom-18265?sort=price&order=asc&page=4'}, {'url': 'https://new.chitai-gorod.ru/product/dusha-moya-pavel-s-avtografom-2904921', 'title': 'Душа моя Павел (с автографом)', 'price': 660, 'price_sale': 660, 'author': 'Алексей Варламов', 'author_url': '/author/varlamov-aleksey-11474', 'source_url': 'https://new.chitai-gorod.ru/catalog/books/knigi-s-avtografom-18265?sort=price&order=asc&page=4'}, {'url': 'https://new.chitai-gorod.ru/product/ne-vidya-zvezd-s-avtografom-2904995', 'title': 'Не видя звёзд (с автографом)', 'price': 803, 'price_sale': 803, 'author': 'Вадим Панов', 'author_url': '/author/panov-vadim-570959', 'source_url': 'https://new.chitai-gorod.ru/catalog/books/knigi-s-avtografom-18265?sort=price&order=asc&page=4'}, {'url': 'https://new.chitai-gorod.ru/product/nehudeem-recepty-dlya-teh-kto-lyubit-vkusno-i-po-domashnemu-s-avtografom-2904872', 'title': '#Нехудеем. Рецепты для тех, кто любит вкусно и по-домашнему (с автографом)', 'price': 817, 'price_sale': 817, 'author': 'Олеся Фисенко', 'author_url': '/author/fisenko-olesya-5154041', 'source_url': 'https://new.chitai-gorod.ru/catalog/books/knigi-s-avtografom-18265?sort=price&order=asc&page=4'}, {'url': 'https://new.chitai-gorod.ru/product/kak-razbudit-v-sebe-shekspira-dramtrenirovka-dlya-pervoy-pesy-s-avtografom-2904952', 'title': 'Как разбудить в себе Шекспира. Драмтренировка для первой пьесы (с автографом)', 'price': 817, 'price_sale': 817, 'author': 'Юлия Тупикина', 'author_url': '/author/tupikina-yuliya-5645450', 'source_url': 'https://new.chitai-gorod.ru/catalog/books/knigi-s-avtografom-18265?sort=price&order=asc&page=4'}, {'url': 'https://new.chitai-gorod.ru/product/apokalipsis-srednevekovya-ieronim-bosh-ivan-groznyy-konec-sveta-s-avtografom-2972196', 'title': 'Апокалипсис Средневековья: Иероним Босх, Иван Грозный, Конец света (с автографом)', 'price': 817, 'price_sale': 817, 'author': 'Валерия Косякова', 'author_url': '/author/kosyakova-valeriya-541607', 'source_url': 'https://new.chitai-gorod.ru/catalog/books/knigi-s-avtografom-18265?sort=price&order=asc&page=4'}, {'url': 'https://new.chitai-gorod.ru/product/gormonichnyy-rebenok-rekomendacii-ot-praktikuyushchego-detskogo-endokrinologa-s-avtografom-2936928', 'title': 'Гормоничный ребенок. Рекомендации от практикующего детского эндокринолога (с автографом)', 'price': 684, 'price_sale': 684, 'author': 'Юлия Сидорова', 'author_url': '/author/sidorova-yuliya-6463271', 'source_url': 'https://new.chitai-gorod.ru/catalog/books/knigi-s-avtografom-18265?sort=price&order=asc&page=4'}, {'url': 'https://new.chitai-gorod.ru/product/pavel-chzhan-i-prochie-rechnye-tvari-s-avtografom-2936939', 'title': 'Павел Чжан и прочие речные твари (с автографом)', 'price': 684, 'price_sale': 684, 'author': 'Вера Богданова', 'author_url': '/author/bogdanova-vera-578009', 'source_url': 'https://new.chitai-gorod.ru/catalog/books/knigi-s-avtografom-18265?sort=price&order=asc&page=4'}, {'url': 'https://new.chitai-gorod.ru/product/legkaya-golova-s-avtografom-2947564', 'title': 'Легкая голова (с автографом)', 'price': 684, 'price_sale': 684, 'author': 'Ольга Славникова', 'author_url': '/author/slavnikova-olga-570599', 'source_url': 'https://new.chitai-gorod.ru/catalog/books/knigi-s-avtografom-18265?sort=price&order=asc&page=4'}, {'url': 'https://new.chitai-gorod.ru/product/ne-svoboda-s-avtografom-2942110', 'title': '(не)свобода (с автографом)', 'price': 702, 'price_sale': 702, 'author': 'Сергей Лебеденко', 'author_url': '/author/lebedenko-sergey-3613113', 'source_url': 'https://new.chitai-gorod.ru/catalog/books/knigi-s-avtografom-18265?sort=price&order=asc&page=4'}, {'url': 'https://new.chitai-gorod.ru/product/vareniki-i-ne-tolko-30-idealnyh-receptov-kotorye-vy-polyubite-s-avtografom-2904898', 'title': 'Вареники и не только. 30+ идеальных рецептов, которые вы полюбите (с автографом)', 'price': 864, 'price_sale': 864, 'author': 'А. Солодовиченко', 'author_url': '/author/solodovichenko-a-5933352', 'source_url': 'https://new.chitai-gorod.ru/catalog/books/knigi-s-avtografom-18265?sort=price&order=asc&page=4'}, {'url': 'https://new.chitai-gorod.ru/product/ohota-na-gornostaya-zelenyy-gambit-poceluy-uroborosa-s-avtografom-2967719', 'title': 'Охота на горностая. Зеленый гамбит. Поцелуй Уробороса (с автографом)', 'price': 726, 'price_sale': 726, 'author': 'Вадим Панов', 'author_url': '/author/panov-vadim-570959', 'source_url': 'https://new.chitai-gorod.ru/catalog/books/knigi-s-avtografom-18265?sort=price&order=asc&page=4'}, {'url': 'https://new.chitai-gorod.ru/product/rebus-galla-pautina-protivostoyaniya-golovokruzhenie-s-avtografom-2967720', 'title': 'Ребус Галла. Паутина противостояния. Головокружение (с автографом)', 'price': 726, 'price_sale': 726, 'author': 'Вадим Панов', 'author_url': '/author/panov-vadim-570959', 'source_url': 'https://new.chitai-gorod.ru/catalog/books/knigi-s-avtografom-18265?sort=price&order=asc&page=4'}, {'url': 'https://new.chitai-gorod.ru/product/den-drakona-zapah-straha-s-avtografom-2967721', 'title': 'День Дракона. Запах страха (с автографом)', 'price': 726, 'price_sale': 726, 'author': 'Вадим Панов', 'author_url': '/author/panov-vadim-570959', 'source_url': 'https://new.chitai-gorod.ru/catalog/books/knigi-s-avtografom-18265?sort=price&order=asc&page=4'}, {'url': 'https://new.chitai-gorod.ru/product/nasledie-velikanov-krasnaya-ugroza-porchennaya-krov-s-avtografom-2967723', 'title': 'Наследие великанов. Красная угроза. Порченная кровь (с автографом)', 'price': 726, 'price_sale': 726, 'author': 'Вадим Панов', 'author_url': '/author/panov-vadim-570959', 'source_url': 'https://new.chitai-gorod.ru/catalog/books/knigi-s-avtografom-18265?sort=price&order=asc&page=4'}, {'url': 'https://new.chitai-gorod.ru/product/chudesnyy-kamen-mayurmi-s-avtografom-2905086', 'title': 'Чудесный камень Маюрми (с автографом)', 'price': 726, 'price_sale': 726, 'author': 'Дарья Донцова', 'author_url': '/author/doncova-darya-570569', 'source_url': 'https://new.chitai-gorod.ru/catalog/books/knigi-s-avtografom-18265?sort=price&order=asc&page=4'}, {'url': 'https://new.chitai-gorod.ru/product/myslennyy-volk-s-avtografom-2947571', 'title': 'Мысленный волк (с автографом)', 'price': 726, 'price_sale': 726, 'author': 'Алексей Варламов', 'author_url': '/author/varlamov-aleksey-11474', 'source_url': 'https://new.chitai-gorod.ru/catalog/books/knigi-s-avtografom-18265?sort=price&order=asc&page=4'}, {'url': 'https://new.chitai-gorod.ru/product/funkcionalnaya-anatomiya-zdorovya-s-avtografom-2929070', 'title': 'Функциональная анатомия здоровья (с автографом)', 'price': 726, 'price_sale': 726, 'author': 'Сергей Бубновский', 'author_url': '/author/bubnovskiy-sergey-569825', 'source_url': 'https://new.chitai-gorod.ru/catalog/books/knigi-s-avtografom-18265?sort=price&order=asc&page=4'}, {'url': 'https://new.chitai-gorod.ru/product/zhizn-skvoz-smeh-realnaya-istoriya-nerealnoy-zhenshchiny-s-avtografom-2905097', 'title': 'Жизнь сквозь смех. Реальная история нереальной женщины (с автографом)', 'price': 884, 'price_sale': 884, 'author': 'Марина Федункив', 'author_url': '/author/fedunkiv-marina-5936989', 'source_url': 'https://new.chitai-gorod.ru/catalog/books/knigi-s-avtografom-18265?sort=price&order=asc&page=4'}, {'url': 'https://new.chitai-gorod.ru/product/umolyay-vedma-chast-2-s-avtografom-2929079', 'title': 'Умоляй, ведьма. Часть 2 (с автографом)', 'price': 893, 'price_sale': 893, 'author': 'Сильвия Лайм', 'author_url': '/author/laym-silviya-584732', 'source_url': 'https://new.chitai-gorod.ru/catalog/books/knigi-s-avtografom-18265?sort=price&order=asc&page=4'}, {'url': 'https://new.chitai-gorod.ru/product/shchiborshchi-schaste-est-doma-kniga-bystryh-zhiznennyh-receptov-dlya-nachinayushchih-s-avtografom-2909026', 'title': 'ЩиБорщи. Счастье есть дома. Книга быстрых жизненных рецептов для начинающих (с автографом)', 'price': 903, 'price_sale': 903, 'author': 'Владимир Инжуватов', 'author_url': '/author/inzhuvatov-vladimir-6483992', 'source_url': 'https://new.chitai-gorod.ru/catalog/books/knigi-s-avtografom-18265?sort=price&order=asc&page=4'}, {'url': 'https://new.chitai-gorod.ru/product/vkusnyy-zozh-50-poleznyh-privychek-na-kazhdyy-den-layfhaki-i-recepty-s-avtografom-2904904', 'title': 'Вкусный ЗОЖ. 50 полезных привычек на каждый день. Лайфхаки и рецепты (с автографом)', 'price': 911, 'price_sale': 911, 'author': 'Алена Макеева', 'author_url': '/author/makeeva-alena-516397', 'source_url': 'https://new.chitai-gorod.ru/catalog/books/knigi-s-avtografom-18265?sort=price&order=asc&page=4'}, {'url': 'https://new.chitai-gorod.ru/product/lider-na-katke-kak-byt-nastoyashchim-rukovoditelem-s-avtografom-2904974', 'title': 'Лидер на катке. Как быть настоящим руководителем (с автографом)', 'price': 911, 'price_sale': 911, 'author': 'Станислав Логунов', 'author_url': '/author/logunov-stanislav-517390', 'source_url': 'https://new.chitai-gorod.ru/catalog/books/knigi-s-avtografom-18265?sort=price&order=asc&page=4'}]]\n"
     ]
    }
   ],
   "source": [
    "# test ChitaiGorodURLConfiguration как работает инициализация\n",
    "def test_ChitaiGorodURLConfiguration_init():\n",
    "    urls = ChitaiGorodURLConfiguration()\n",
    "    data = urls.get_urls_list(\"url_data.txt\")\n",
    "    print(data)\n",
    "    \n",
    "    \n",
    "test_ChitaiGorodURLConfiguration_init()"
   ]
  },
  {
   "cell_type": "code",
   "execution_count": 6,
   "id": "4686df45-5af0-49f4-8f27-1b7d9e629766",
   "metadata": {},
   "outputs": [
    {
     "name": "stdout",
     "output_type": "stream",
     "text": [
      "<class 'str'>\n",
      "[\"https://new.chitai-gorod.ru/catalog/books/hudozhestvennaya-literatura-9657\", \"https://new.chitai-gorod.ru/catalog/books/knigi-dlya-detey-9072\", \"https://new.chitai-gorod.ru/catalog/books/obrazovanie-9405\", \"https://new.chitai-gorod.ru/catalog/books/nauka-i-tehnika-9170\", \"https://new.chitai-gorod.ru/catalog/books/obshchestvo-9304\", \"https://new.chitai-gorod.ru/catalog/books/delovaya-literatura-8979\", \"https://new.chitai-gorod.ru/catalog/books/krasota-zdorove-sport-9116\", \"https://new.chitai-gorod.ru/catalog/books/uvlecheniya-9564\", \"https://new.chitai-gorod.ru/catalog/books/psihologiya-9530\", \"https://new.chitai-gorod.ru/catalog/books/ezoterika-9705\", \"https://new.chitai-gorod.ru/catalog/books/filosofiya-i-religiya-9645\", \"https://new.chitai-gorod.ru/catalog/books/iskusstvo-9035\", \"https://new.chitai-gorod.ru/catalog/books/podarochnye-izdaniya-9469\", \"https://new.chitai-gorod.ru/catalog/books/knigi-na-inostrannyh-yazykah-9154\", \"https://new.chitai-gorod.ru/catalog/books/knigi-s-avtografom-18265\", \"https://new.chitai-gorod.ru/catalog/kanctovars/bumazhnye-izdeliya-2856\", \"https://new.chitai-gorod.ru/catalog/kanctovars/galantereya-3438\", \"https://new.chitai-gorod.ru/catalog/kanctovars/prochie-kanctovary-3439\", \"https://new.chitai-gorod.ru/catalog/kanctovars/upakovka-3440\", \"https://new.chitai-gorod.ru/catalog/kanctovars/tovary-dlya-hudozhnikov-3441\", \"https://new.chitai-gorod.ru/catalog/kanctovars/elektrotovary-3442\", \"https://new.chitai-gorod.ru/catalog/kanctovars/penaly-10711\", \"https://new.chitai-gorod.ru/catalog/kanctovars/ofisnye-prinadlezhnosti-2921\", \"https://new.chitai-gorod.ru/catalog/kanctovars/pismennye-prinadlezhnosti-2963\", \"https://new.chitai-gorod.ru/catalog/kanctovars/chertezhnye-prinadlezhnosti-3005\", \"https://new.chitai-gorod.ru/catalog/kanctovars/shkolnye-tovary-3018\"]\n"
     ]
    }
   ],
   "source": [
    "with open(\"url_data.txt\", \"r\") as urls_saved:\n",
    "    urls_data = urls_saved.read()\n",
    "    \n",
    "print(type(urls_data))\n",
    "print(urls_data)\n"
   ]
  },
  {
   "cell_type": "code",
   "execution_count": 10,
   "id": "de50fab4-8610-4b95-bfa1-22820ea628bd",
   "metadata": {},
   "outputs": [],
   "source": [
    "urls_data = json.loads(urls_data)"
   ]
  },
  {
   "cell_type": "code",
   "execution_count": 11,
   "id": "b338436e-a95a-48c8-8ccf-682aad02c560",
   "metadata": {},
   "outputs": [
    {
     "data": {
      "text/plain": [
       "['https://new.chitai-gorod.ru/catalog/books/hudozhestvennaya-literatura-9657',\n",
       " 'https://new.chitai-gorod.ru/catalog/books/knigi-dlya-detey-9072',\n",
       " 'https://new.chitai-gorod.ru/catalog/books/obrazovanie-9405',\n",
       " 'https://new.chitai-gorod.ru/catalog/books/nauka-i-tehnika-9170',\n",
       " 'https://new.chitai-gorod.ru/catalog/books/obshchestvo-9304',\n",
       " 'https://new.chitai-gorod.ru/catalog/books/delovaya-literatura-8979',\n",
       " 'https://new.chitai-gorod.ru/catalog/books/krasota-zdorove-sport-9116',\n",
       " 'https://new.chitai-gorod.ru/catalog/books/uvlecheniya-9564',\n",
       " 'https://new.chitai-gorod.ru/catalog/books/psihologiya-9530',\n",
       " 'https://new.chitai-gorod.ru/catalog/books/ezoterika-9705',\n",
       " 'https://new.chitai-gorod.ru/catalog/books/filosofiya-i-religiya-9645',\n",
       " 'https://new.chitai-gorod.ru/catalog/books/iskusstvo-9035',\n",
       " 'https://new.chitai-gorod.ru/catalog/books/podarochnye-izdaniya-9469',\n",
       " 'https://new.chitai-gorod.ru/catalog/books/knigi-na-inostrannyh-yazykah-9154',\n",
       " 'https://new.chitai-gorod.ru/catalog/books/knigi-s-avtografom-18265',\n",
       " 'https://new.chitai-gorod.ru/catalog/kanctovars/bumazhnye-izdeliya-2856',\n",
       " 'https://new.chitai-gorod.ru/catalog/kanctovars/galantereya-3438',\n",
       " 'https://new.chitai-gorod.ru/catalog/kanctovars/prochie-kanctovary-3439',\n",
       " 'https://new.chitai-gorod.ru/catalog/kanctovars/upakovka-3440',\n",
       " 'https://new.chitai-gorod.ru/catalog/kanctovars/tovary-dlya-hudozhnikov-3441',\n",
       " 'https://new.chitai-gorod.ru/catalog/kanctovars/elektrotovary-3442',\n",
       " 'https://new.chitai-gorod.ru/catalog/kanctovars/penaly-10711',\n",
       " 'https://new.chitai-gorod.ru/catalog/kanctovars/ofisnye-prinadlezhnosti-2921',\n",
       " 'https://new.chitai-gorod.ru/catalog/kanctovars/pismennye-prinadlezhnosti-2963',\n",
       " 'https://new.chitai-gorod.ru/catalog/kanctovars/chertezhnye-prinadlezhnosti-3005',\n",
       " 'https://new.chitai-gorod.ru/catalog/kanctovars/shkolnye-tovary-3018']"
      ]
     },
     "execution_count": 11,
     "metadata": {},
     "output_type": "execute_result"
    }
   ],
   "source": [
    "urls_data"
   ]
  },
  {
   "cell_type": "code",
   "execution_count": 4,
   "id": "0db5bd68-693d-4e80-85b5-82b4e4c8c75b",
   "metadata": {},
   "outputs": [],
   "source": [
    "def smth(*args):\n",
    "    for v in args:\n",
    "        if isinstance(v, list):\n",
    "            for i in v:\n",
    "                print(i) \n",
    "        if isinstance(v, str):\n",
    "            print(v)\n",
    "        else:\n",
    "            assert False"
   ]
  },
  {
   "cell_type": "code",
   "execution_count": 16,
   "id": "538947f2-4eb1-4871-8c7c-5698dd0de734",
   "metadata": {},
   "outputs": [
    {
     "name": "stdout",
     "output_type": "stream",
     "text": [
      "<class 'list'>\n",
      "1\n",
      "2\n",
      "3\n"
     ]
    },
    {
     "ename": "AssertionError",
     "evalue": "",
     "output_type": "error",
     "traceback": [
      "\u001b[0;31m---------------------------------------------------------------------------\u001b[0m",
      "\u001b[0;31mAssertionError\u001b[0m                            Traceback (most recent call last)",
      "Cell \u001b[0;32mIn [16], line 4\u001b[0m\n\u001b[1;32m      1\u001b[0m l \u001b[38;5;241m=\u001b[39m [\u001b[38;5;241m1\u001b[39m,\u001b[38;5;241m2\u001b[39m,\u001b[38;5;241m3\u001b[39m]\n\u001b[1;32m      2\u001b[0m \u001b[38;5;28mprint\u001b[39m(\u001b[38;5;28mtype\u001b[39m(l))\n\u001b[0;32m----> 4\u001b[0m \u001b[38;5;28mprint\u001b[39m(\u001b[43msmth\u001b[49m\u001b[43m(\u001b[49m\u001b[43ml\u001b[49m\u001b[43m,\u001b[49m\u001b[43m \u001b[49m\u001b[38;5;124;43m\"\u001b[39;49m\u001b[38;5;124;43mstr\u001b[39;49m\u001b[38;5;124;43m\"\u001b[39;49m\u001b[43m,\u001b[49m\u001b[43m \u001b[49m\u001b[38;5;241;43m34\u001b[39;49m\u001b[43m)\u001b[49m)\n",
      "Cell \u001b[0;32mIn [11], line 9\u001b[0m, in \u001b[0;36msmth\u001b[0;34m(*args)\u001b[0m\n\u001b[1;32m      7\u001b[0m     \u001b[38;5;28mprint\u001b[39m(v)\n\u001b[1;32m      8\u001b[0m \u001b[38;5;28;01melse\u001b[39;00m:\n\u001b[0;32m----> 9\u001b[0m     \u001b[38;5;28;01massert\u001b[39;00m \u001b[38;5;28;01mFalse\u001b[39;00m\n",
      "\u001b[0;31mAssertionError\u001b[0m: "
     ]
    }
   ],
   "source": [
    "l = [1,2,3]\n",
    "print(type(l))\n",
    "\n",
    "print(smth(l, \"str\", 34))\n"
   ]
  },
  {
   "cell_type": "code",
   "execution_count": 14,
   "id": "c146ad08-4329-4cfc-ba30-06746f6b58b6",
   "metadata": {},
   "outputs": [
    {
     "name": "stdout",
     "output_type": "stream",
     "text": [
      "<class 'str'>\n",
      "little\n",
      "None\n"
     ]
    }
   ],
   "source": [
    "l = \"little\"\n",
    "print(type(l))\n",
    "\n",
    "print(smth(l))\n"
   ]
  },
  {
   "cell_type": "code",
   "execution_count": null,
   "id": "45403b1b-66d0-4a53-b38d-a3c060ae08b6",
   "metadata": {},
   "outputs": [],
   "source": []
  }
 ],
 "metadata": {
  "kernelspec": {
   "display_name": "Python 3 (ipykernel)",
   "language": "python",
   "name": "python3"
  },
  "language_info": {
   "codemirror_mode": {
    "name": "ipython",
    "version": 3
   },
   "file_extension": ".py",
   "mimetype": "text/x-python",
   "name": "python",
   "nbconvert_exporter": "python",
   "pygments_lexer": "ipython3",
   "version": "3.9.7"
  }
 },
 "nbformat": 4,
 "nbformat_minor": 5
}
