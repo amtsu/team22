{
 "cells": [
  {
   "cell_type": "code",
   "execution_count": 2,
   "id": "07082cda-7543-4dfe-9fa8-fac97049bfe5",
   "metadata": {},
   "outputs": [],
   "source": [
    "from web_parsing import OnePageParsing\n",
    "from chitai_gorod_one_item import ChitaiGorodGetPrice, ChitaiGorodGetTitle, ChitaiGorodGetAuthor, ChitaiGorodGetAuthorURL\n",
    "from chitai_gorod_items_list import ChitaiGorodItemsList\n",
    "\n",
    "import urllib\n",
    "import urllib.request\n",
    "from bs4 import BeautifulSoup"
   ]
  },
  {
   "cell_type": "code",
   "execution_count": 2,
   "id": "c9ee3274-4433-4b3e-b7e3-7432ad247a17",
   "metadata": {},
   "outputs": [],
   "source": [
    "def test_one_page_parsing_read():\n",
    "    quke_one_page_parsing = OnePageParsing(\"https://quke.ru/shop/UID_70281___306_.html\").read_page()\n",
    "    with urllib.request.urlopen(\"https://quke.ru/shop/UID_70281___306_.html\") as page:\n",
    "        text = page.read()\n",
    "        soup = BeautifulSoup(text)\n",
    "    #print(quke_one_page_parsing)\n",
    "    #print(type(quke_one_page_parsing))\n",
    "    #print(\"********************\")\n",
    "    #print(soup)\n",
    "    if quke_one_page_parsing == soup:\n",
    "        return \"test_open_page_prepare_soup is passed\"\n",
    "    else:\n",
    "        assert False"
   ]
  },
  {
   "cell_type": "code",
   "execution_count": 3,
   "id": "dc139ed0-e164-4b17-b18b-6905ea48339b",
   "metadata": {},
   "outputs": [
    {
     "name": "stdout",
     "output_type": "stream",
     "text": [
      "Page code:  200\n"
     ]
    },
    {
     "data": {
      "text/plain": [
       "'test_open_page_prepare_soup is passed'"
      ]
     },
     "execution_count": 3,
     "metadata": {},
     "output_type": "execute_result"
    }
   ],
   "source": [
    "test_one_page_parsing_read()"
   ]
  },
  {
   "cell_type": "markdown",
   "id": "c9d30ed5-a27c-41cc-8591-c0ecd7bb97bb",
   "metadata": {},
   "source": [
    "--------------------------"
   ]
  },
  {
   "cell_type": "code",
   "execution_count": 5,
   "id": "6c4a40e2-544f-42d2-8fae-56b891670ed5",
   "metadata": {},
   "outputs": [
    {
     "name": "stdout",
     "output_type": "stream",
     "text": [
      "Page code:  200\n",
      "passed\n"
     ]
    }
   ],
   "source": [
    "# test_get_text для price из chitai_gorod_one_item - ChitaiGorodGetPrice\n",
    "def test_get_text_price_chitai_gorod():\n",
    "    get_text_price = ChitaiGorodGetPrice('https://new.chitai-gorod.ru/product/chistaya-arhitektura-iskusstvo-razrabotki-programmnogo-obespecheniya-2640391').get_text()\n",
    "    #print(\"text=\",get_text_price)\n",
    "    if get_text_price == \"\"\"\\n      1\\xa0100 ₽\\n    \"\"\":\n",
    "        print (\"passed\")\n",
    "    else:\n",
    "        assert False\n",
    "\n",
    "test_get_text_price_chitai_gorod()    "
   ]
  },
  {
   "cell_type": "code",
   "execution_count": 6,
   "id": "f00d5884-2046-4ac5-aedc-4a42175c4f5b",
   "metadata": {},
   "outputs": [
    {
     "name": "stdout",
     "output_type": "stream",
     "text": [
      "Page code:  200\n",
      "passed\n"
     ]
    }
   ],
   "source": [
    "# test_clean_data для price из chitai_gorod_one_item - ChitaiGorodGetPrice\n",
    "def test_clean_data_price_chitai_gorod():\n",
    "    price = ChitaiGorodGetPrice('https://new.chitai-gorod.ru/product/chistaya-arhitektura-iskusstvo-razrabotki-programmnogo-obespecheniya-2640391').clean_data()\n",
    "    if price == 1100:\n",
    "        print (\"passed\")\n",
    "    else:\n",
    "        assert False    \n",
    "    #print(type(price), price)\n",
    "    \n",
    "test_clean_data_price_chitai_gorod()\n"
   ]
  },
  {
   "cell_type": "markdown",
   "id": "7868c36a-993e-43e3-a233-9b49f3d2c931",
   "metadata": {},
   "source": [
    "-------------"
   ]
  },
  {
   "cell_type": "code",
   "execution_count": null,
   "id": "8c962c9a-f688-40ca-a0d1-e51d1cd33bcc",
   "metadata": {},
   "outputs": [],
   "source": [
    "# test_get_text для title из chitai_gorod_one_item - ChitaiGorodGetTitle\n",
    "def test_get_text_title_chitai_gorod(): # не работает (нет h1)\n",
    "    get_text_title = ChitaiGorodGetTitle('https://new.chitai-gorod.ru/product/chistaya-arhitektura-iskusstvo-razrabotki-programmnogo-obespecheniya-2640391').get_text()\n",
    "    #print(\"text=\",get_text_title)\n",
    "    if get_text_title == \"\"\"\\n      1\\xa0100 ₽\\n    \"\"\":\n",
    "        print (\"passed\")\n",
    "    else:\n",
    "        assert False\n",
    "\n",
    "test_get_text_title_chitai_gorod()    "
   ]
  },
  {
   "cell_type": "markdown",
   "id": "f3bb9da4-6f36-42e8-bc5f-8885b4c8f6d6",
   "metadata": {},
   "source": [
    "[<div class=\"product-detail-title\"><div><div class=\"product-detail-title__header vue-content-placeholders vue-content-placeholders-is-rounded vue-content-placeholders-is-animated\" itemprop=\"name\"><div class=\"app-title app-title--loading vue-content-placeholders-text\"><div class=\"vue-content-placeholders-text__line\"></div></div></div> <div class=\"product-detail-title__authors\"><a class=\"product-detail-title__author\" href=\"/author/martin-robert-s-586375\" itemprop=\"author\">\n",
    "          Роберт С. Мартин\n",
    "        </a></div></div></div>]\n",
    "1"
   ]
  },
  {
   "cell_type": "code",
   "execution_count": null,
   "id": "9a70a5ff-9ccf-4dec-874a-2dab957b5148",
   "metadata": {},
   "outputs": [],
   "source": [
    "# test_clean_data для title из chitai_gorod_one_item - ChitaiGorodGetTitle\n",
    "def test_clean_data_title_chitai_gorod():\n",
    "    title = ChitaiGorodGetTitle('https://new.chitai-gorod.ru/product/chistaya-arhitektura-iskusstvo-razrabotki-programmnogo-obespecheniya-2640391').clean_data()\n",
    "    if title == 1100:\n",
    "        print (\"passed\")\n",
    "    else:\n",
    "        assert False    \n",
    "    #print(type(title), title)\n",
    "    \n",
    "test_clean_data_title_chitai_gorod()\n",
    "\n"
   ]
  },
  {
   "cell_type": "markdown",
   "id": "304ebf91-f570-4ba7-94b1-6ec15c076b22",
   "metadata": {},
   "source": [
    "---------------"
   ]
  },
  {
   "cell_type": "code",
   "execution_count": 2,
   "id": "6ac130b0-c240-4d78-99d8-6851f4296fde",
   "metadata": {},
   "outputs": [
    {
     "name": "stdout",
     "output_type": "stream",
     "text": [
      "Page code:  200\n",
      "passed\n"
     ]
    }
   ],
   "source": [
    "# test_get_text для author из chitai_gorod_one_item - ChitaiGorodGetAuthor\n",
    "def test_get_text_author_chitai_gorod():\n",
    "    get_text_author = ChitaiGorodGetAuthor('https://new.chitai-gorod.ru/product/chistaya-arhitektura-iskusstvo-razrabotki-programmnogo-obespecheniya-2640391').get_text()\n",
    "    if get_text_author == \"\"\"\\n          Роберт С. Мартин\\n        \"\"\":\n",
    "        print (\"passed\")\n",
    "    else:\n",
    "        assert False\n",
    "\n",
    "test_get_text_author_chitai_gorod()  "
   ]
  },
  {
   "cell_type": "code",
   "execution_count": 4,
   "id": "73df69f9-a629-4bde-acdd-a61b55a90a02",
   "metadata": {},
   "outputs": [
    {
     "name": "stdout",
     "output_type": "stream",
     "text": [
      "Page code:  200\n",
      "passed\n"
     ]
    }
   ],
   "source": [
    "# test_clean_data для author из chitai_gorod_one_item - ChitaiGorodGetAuthor\n",
    "def test_clean_data_author_chitai_gorod():\n",
    "    author = ChitaiGorodGetAuthor('https://new.chitai-gorod.ru/product/chistaya-arhitektura-iskusstvo-razrabotki-programmnogo-obespecheniya-2640391').clean_data()\n",
    "    if author == \"Роберт С. Мартин\":\n",
    "        print (\"passed\")\n",
    "    else:\n",
    "        assert False    \n",
    "    #print(type(author), author)\n",
    "    \n",
    "test_clean_data_author_chitai_gorod()"
   ]
  },
  {
   "cell_type": "markdown",
   "id": "32da5e17-97b8-4009-ab6e-105982614a5c",
   "metadata": {},
   "source": [
    "--------"
   ]
  },
  {
   "cell_type": "code",
   "execution_count": 3,
   "id": "3f9d369a-77c1-476f-95c0-be5c44330596",
   "metadata": {},
   "outputs": [
    {
     "name": "stdout",
     "output_type": "stream",
     "text": [
      "Page code:  200\n",
      "passed\n"
     ]
    }
   ],
   "source": [
    "# test_get_text для author_url из chitai_gorod_one_item - ChitaiGorodGetAuthorURL\n",
    "def test_get_text_author_url_chitai_gorod():\n",
    "    get_text_author_url = ChitaiGorodGetAuthorURL('https://new.chitai-gorod.ru/product/chistaya-arhitektura-iskusstvo-razrabotki-programmnogo-obespecheniya-2640391').get_text()\n",
    "    #print(\"text=\",get_text_author_url)\n",
    "    if get_text_author_url == \"/author/martin-robert-s-586375\":\n",
    "        print (\"passed\")\n",
    "    else:\n",
    "        assert False\n",
    "\n",
    "test_get_text_author_url_chitai_gorod() "
   ]
  },
  {
   "cell_type": "code",
   "execution_count": null,
   "id": "4354d8fb-7206-4490-995c-898e738b54ff",
   "metadata": {},
   "outputs": [],
   "source": []
  },
  {
   "cell_type": "markdown",
   "id": "1669b0fa-b99c-478e-b6cc-1d462c9fc38f",
   "metadata": {},
   "source": [
    "---------------\n",
    "---------------"
   ]
  },
  {
   "cell_type": "code",
   "execution_count": null,
   "id": "f4245c6e-e427-4c4f-8376-e9dd3d1c1f8b",
   "metadata": {},
   "outputs": [],
   "source": []
  },
  {
   "cell_type": "code",
   "execution_count": 2,
   "id": "ca974f42-899f-4fbe-93d3-2b9350547d92",
   "metadata": {},
   "outputs": [
    {
     "name": "stdout",
     "output_type": "stream",
     "text": [
      "('en_US', 'ISO8859-1')\n",
      "('ru_RU', 'UTF-8')\n",
      "Page code:  200\n",
      "Page code:  200\n",
      "Page code:  200\n",
      "Page code:  200\n",
      "Page code:  200\n",
      "Page code:  200\n",
      "Page code:  200\n"
     ]
    },
    {
     "ename": "IndexError",
     "evalue": "list index out of range",
     "output_type": "error",
     "traceback": [
      "\u001b[0;31m---------------------------------------------------------------------------\u001b[0m",
      "\u001b[0;31mIndexError\u001b[0m                                Traceback (most recent call last)",
      "Cell \u001b[0;32mIn [2], line 18\u001b[0m\n\u001b[1;32m     15\u001b[0m     \u001b[38;5;28;01melse\u001b[39;00m:\n\u001b[1;32m     16\u001b[0m         \u001b[38;5;28;01massert\u001b[39;00m \u001b[38;5;28;01mFalse\u001b[39;00m\n\u001b[0;32m---> 18\u001b[0m \u001b[43mtest_get_items_data_chitai_gorod\u001b[49m\u001b[43m(\u001b[49m\u001b[43m)\u001b[49m\n",
      "Cell \u001b[0;32mIn [2], line 8\u001b[0m, in \u001b[0;36mtest_get_items_data_chitai_gorod\u001b[0;34m()\u001b[0m\n\u001b[1;32m      7\u001b[0m \u001b[38;5;28;01mdef\u001b[39;00m \u001b[38;5;21mtest_get_items_data_chitai_gorod\u001b[39m():\n\u001b[0;32m----> 8\u001b[0m     items_data \u001b[38;5;241m=\u001b[39m \u001b[43mChitaiGorodItemsList\u001b[49m\u001b[43m(\u001b[49m\u001b[38;5;124;43m\"\u001b[39;49m\u001b[38;5;124;43mhttps://new.chitai-gorod.ru/catalog/books/nauka-i-tehnika-9170?sort=price&order=asc\u001b[39;49m\u001b[38;5;124;43m\"\u001b[39;49m\u001b[43m)\u001b[49m\u001b[38;5;241;43m.\u001b[39;49m\u001b[43mget_items_data\u001b[49m\u001b[43m(\u001b[49m\u001b[43m)\u001b[49m\n\u001b[1;32m      9\u001b[0m     \u001b[38;5;28mprint\u001b[39m (items_data) \u001b[38;5;66;03m# выдает последнюю позицию текущей страницы, а не первую\u001b[39;00m\n\u001b[1;32m     10\u001b[0m     \u001b[38;5;28;01mwith\u001b[39;00m \u001b[38;5;28mopen\u001b[39m(\u001b[38;5;124m\"\u001b[39m\u001b[38;5;124mt_e_s_t_get_items_data_chitai_gorod.txt\u001b[39m\u001b[38;5;124m\"\u001b[39m, \u001b[38;5;124m\"\u001b[39m\u001b[38;5;124mrb\u001b[39m\u001b[38;5;124m\"\u001b[39m) \u001b[38;5;28;01mas\u001b[39;00m saved_data:\n",
      "File \u001b[0;32m~/github/team22/users/mvandreeva/lesson_21_HW_web_parsing_update/chitai_gorod_items_list.py:42\u001b[0m, in \u001b[0;36mChitaiGorodItemsList.get_items_data\u001b[0;34m(self)\u001b[0m\n\u001b[1;32m     38\u001b[0m author \u001b[38;5;241m=\u001b[39m author_bad\u001b[38;5;241m.\u001b[39mreplace(\u001b[38;5;124m\"\u001b[39m\u001b[38;5;130;01m\\n\u001b[39;00m\u001b[38;5;124m  \u001b[39m\u001b[38;5;124m\"\u001b[39m, \u001b[38;5;124m\"\u001b[39m\u001b[38;5;124m\"\u001b[39m)\n\u001b[1;32m     40\u001b[0m item_url \u001b[38;5;241m=\u001b[39m \u001b[38;5;124m\"\u001b[39m\u001b[38;5;124mhttps://new.chitai-gorod.ru\u001b[39m\u001b[38;5;124m\"\u001b[39m \u001b[38;5;241m+\u001b[39m url\n\u001b[0;32m---> 42\u001b[0m author_url \u001b[38;5;241m=\u001b[39m \u001b[43mChitaiGorodGetAuthorURL\u001b[49m\u001b[43m(\u001b[49m\u001b[43mitem_url\u001b[49m\u001b[43m)\u001b[49m\u001b[38;5;241;43m.\u001b[39;49m\u001b[43mget_text\u001b[49m\u001b[43m(\u001b[49m\u001b[43m)\u001b[49m\n\u001b[1;32m     43\u001b[0m \u001b[38;5;66;03m#author_url_page = OnePageParsing(item_url).read_page()\u001b[39;00m\n\u001b[1;32m     44\u001b[0m \u001b[38;5;66;03m#author_url_data = author_url_page.findAll(\"a\", class_ = \"product-detail-title__author\")\u001b[39;00m\n\u001b[1;32m     45\u001b[0m \u001b[38;5;66;03m#author_url = author_url_data[0][\"href\"]\u001b[39;00m\n\u001b[0;32m   (...)\u001b[0m\n\u001b[1;32m     48\u001b[0m \u001b[38;5;66;03m#img_data = item.findAll(\"img\", class_ = \"product-picture__img _loaded lazyloaded\")\u001b[39;00m\n\u001b[1;32m     49\u001b[0m \u001b[38;5;66;03m#img_url = img_data[0][\"src\"]\u001b[39;00m\n\u001b[1;32m     54\u001b[0m dict_list\u001b[38;5;241m.\u001b[39mappend({\n\u001b[1;32m     55\u001b[0m         \u001b[38;5;124m\"\u001b[39m\u001b[38;5;124murl\u001b[39m\u001b[38;5;124m\"\u001b[39m: url,\n\u001b[1;32m     56\u001b[0m         \u001b[38;5;124m\"\u001b[39m\u001b[38;5;124mtitle\u001b[39m\u001b[38;5;124m\"\u001b[39m: title,\n\u001b[0;32m   (...)\u001b[0m\n\u001b[1;32m     63\u001b[0m         \u001b[38;5;124m\"\u001b[39m\u001b[38;5;124msource_url\u001b[39m\u001b[38;5;124m\"\u001b[39m: \u001b[38;5;28mself\u001b[39m\u001b[38;5;241m.\u001b[39m__url,\n\u001b[1;32m     64\u001b[0m     })\n",
      "File \u001b[0;32m~/github/team22/users/mvandreeva/lesson_21_HW_web_parsing_update/chitai_gorod_one_item.py:126\u001b[0m, in \u001b[0;36mChitaiGorodGetAuthorURL.get_text\u001b[0;34m(self)\u001b[0m\n\u001b[1;32m    123\u001b[0m data_list \u001b[38;5;241m=\u001b[39m \u001b[38;5;28mself\u001b[39m\u001b[38;5;241m.\u001b[39m__b_soup\u001b[38;5;241m.\u001b[39mfindAll(\u001b[38;5;124m'\u001b[39m\u001b[38;5;124ma\u001b[39m\u001b[38;5;124m'\u001b[39m, class_\u001b[38;5;241m=\u001b[39m\u001b[38;5;124m'\u001b[39m\u001b[38;5;124mproduct-detail-title__author\u001b[39m\u001b[38;5;124m'\u001b[39m)\n\u001b[1;32m    124\u001b[0m \u001b[38;5;66;03m#print (len(data_list))\u001b[39;00m\n\u001b[1;32m    125\u001b[0m \u001b[38;5;66;03m#assert len(data_list) == 1\u001b[39;00m\n\u001b[0;32m--> 126\u001b[0m element \u001b[38;5;241m=\u001b[39m \u001b[43mdata_list\u001b[49m\u001b[43m[\u001b[49m\u001b[38;5;241;43m0\u001b[39;49m\u001b[43m]\u001b[49m[\u001b[38;5;124m\"\u001b[39m\u001b[38;5;124mhref\u001b[39m\u001b[38;5;124m\"\u001b[39m]\n\u001b[1;32m    127\u001b[0m \u001b[38;5;66;03m#print(element)\u001b[39;00m\n\u001b[1;32m    128\u001b[0m \u001b[38;5;66;03m#data = [] # это и 4 строки ниже оставила чтоб смотреть символы для удаления\u001b[39;00m\n\u001b[1;32m    129\u001b[0m \u001b[38;5;66;03m#for index, element in enumerate(data_list):\u001b[39;00m\n\u001b[1;32m    130\u001b[0m \u001b[38;5;66;03m#    data.append(element.text)\u001b[39;00m\n\u001b[1;32m    131\u001b[0m \u001b[38;5;66;03m#    print((index + 1), element.text)\u001b[39;00m\n\u001b[1;32m    132\u001b[0m \u001b[38;5;66;03m#print(data)\u001b[39;00m\n\u001b[1;32m    133\u001b[0m \u001b[38;5;28;01mreturn\u001b[39;00m element\n",
      "\u001b[0;31mIndexError\u001b[0m: list index out of range"
     ]
    }
   ],
   "source": [
    "import locale\n",
    "print(locale.getlocale())\n",
    "locale.setlocale(locale.LC_ALL, ('ru_RU', 'UTF-8'))\n",
    "print(locale.getlocale())\n",
    "\n",
    "# test_get_items_data из chitai_gorod_items_list\n",
    "def test_get_items_data_chitai_gorod():\n",
    "    items_data = ChitaiGorodItemsList(\"https://new.chitai-gorod.ru/catalog/books/nauka-i-tehnika-9170?sort=price&order=asc\").get_items_data()\n",
    "    print (items_data) # выдает последнюю позицию текущей страницы, а не первую\n",
    "    with open(\"t_e_s_t_get_items_data_chitai_gorod.txt\", \"rb\") as saved_data:\n",
    "        data_for_test = saved_data.read()\n",
    "    #print(data_for_test)\n",
    "    if items_data == data_for_test:\n",
    "        print (\"passed\")\n",
    "    else:\n",
    "        assert False\n",
    "        \n",
    "test_get_items_data_chitai_gorod()"
   ]
  },
  {
   "cell_type": "code",
   "execution_count": 4,
   "id": "58da8eae-91d6-4a86-9117-5b2777ea7c0c",
   "metadata": {},
   "outputs": [
    {
     "name": "stdout",
     "output_type": "stream",
     "text": [
      "Page code:  200\n",
      "passed\n"
     ]
    }
   ],
   "source": [
    "# test_get_items_data из chitai_gorod_items_list\n",
    "def test_get_items_data_chitai_gorod_2():\n",
    "    items_data = ChitaiGorodItemsList(\"https://new.chitai-gorod.ru/catalog/books/nauka-i-tehnika-9170?sort=price&order=asc\").get_items_data()\n",
    "    #print (items_data) # выдает последнюю позицию текущей страницы, а не первую\n",
    "    data_for_test = {'url': 'https://new.chitai-gorod.ru/product/zadachi-seminara-2003-2004-2828128', 'title': 'Задачи семинара. 2003 - 2004', 'price': 35, 'author': 'Владимир Арнольд', 'source_url': 'https://new.chitai-gorod.ru/catalog/books/nauka-i-tehnika-9170?sort=price&order=asc'}\n",
    "    if data_for_test in items_data:\n",
    "        print (\"passed\")\n",
    "    else:\n",
    "        assert False\n",
    "        \n",
    "test_get_items_data_chitai_gorod_2()"
   ]
  },
  {
   "cell_type": "code",
   "execution_count": null,
   "id": "6a30097a-edf4-4df0-8763-00ce6302951e",
   "metadata": {},
   "outputs": [],
   "source": []
  }
 ],
 "metadata": {
  "kernelspec": {
   "display_name": "Python 3 (ipykernel)",
   "language": "python",
   "name": "python3"
  },
  "language_info": {
   "codemirror_mode": {
    "name": "ipython",
    "version": 3
   },
   "file_extension": ".py",
   "mimetype": "text/x-python",
   "name": "python",
   "nbconvert_exporter": "python",
   "pygments_lexer": "ipython3",
   "version": "3.9.7"
  }
 },
 "nbformat": 4,
 "nbformat_minor": 5
}
