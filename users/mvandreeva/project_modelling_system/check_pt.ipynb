{
 "cells": [
  {
   "cell_type": "code",
   "execution_count": 1,
   "id": "9899ffa0-0654-44cb-a7fa-3879ebb29115",
   "metadata": {},
   "outputs": [],
   "source": [
    "from plant_trees import PlantTrees, createinstance\n",
    "from plant_trees_pickle import pt_save_pickle"

   ]
  },
  {
   "cell_type": "code",
   "execution_count": 2,
   "id": "741bedb3-fcab-4e2a-a3e0-5dd18ee2071c",
   "metadata": {},
   "outputs": [],
   "source": [
    "plant_trees = pt_save_pickle(\"planting_data.txt\",50,5,4)"
   ]
  },
  {
   "cell_type": "code",
   "execution_count": 3,

   "id": "a4cb02de-4eec-43b1-9d27-17f55746a211",
   "metadata": {},
   "outputs": [
    {
     "name": "stdout",
     "output_type": "stream",
     "text": [
      "plant_trees\n",
      "<class 'str'>\n"
     ]
    }
   ],
   "source": [
    "trees = createinstance()\n",
    "name = trees.name()\n",
    "print(name)\n",
    "print(type(name))"
   ]
  },
  {
   "cell_type": "code",
   "execution_count": null,
   "id": "f664c81a-c7a8-433b-8ee8-578d372cb542",
   "metadata": {},
   "outputs": [],
   "source": []
  }
 ],
 "metadata": {
  "kernelspec": {
   "display_name": "Python 3 (ipykernel)",
   "language": "python",
   "name": "python3"
  },
  "language_info": {
   "codemirror_mode": {
    "name": "ipython",
    "version": 3
   },
   "file_extension": ".py",
   "mimetype": "text/x-python",
   "name": "python",
   "nbconvert_exporter": "python",
   "pygments_lexer": "ipython3",
   "version": "3.9.7"
  }
 },
 "nbformat": 4,
 "nbformat_minor": 5
}
