{
 "cells": [
  {
   "cell_type": "markdown",
   "metadata": {},
   "source": [
    "Задание 1\n",
    "Создайте простой тектосвый фаил \"in.txt\". Добавьие в него свои дела следующим образом. На каждой строчке одно дело.\n",
    "\n",
    "Пример: Помыть посуду Убраться Поработать Позвонить Убраться\n",
    "\n",
    "Далее напишить программу которая читает этот фаил. Находит в нем повторяющиеся дела. И записывает повторяющиеся дела в другой фаил \"out.txt\".\n",
    "\n",
    "Напишите тесты для проверки вашей программы."
   ]
  },
  {
   "cell_type": "code",
   "execution_count": 24,
   "metadata": {},
   "outputs": [
    {
     "name": "stdout",
     "output_type": "stream",
     "text": [
      "test passed\n",
      "test passed\n"
     ]
    }
   ],
   "source": [
    "\n",
    "def count_repeats(to_do_list):\n",
    "    repeats = {}\n",
    "    for deal in to_do_list:\n",
    "        repeats[deal] = 0\n",
    "        for i in range(0, len(to_do_list)):\n",
    "            if to_do_list[i] == deal:\n",
    "                repeats[deal] += 1\n",
    "    only_repeated = []            \n",
    "    for key, value in repeats.items():\n",
    "        if value > 1:\n",
    "            #print key, value\n",
    "            only_repeated.append(key)\n",
    "    return only_repeated\n",
    "input_file = 'in.txt'\n",
    "output_file = 'out.txt'\n",
    "\n",
    "def file_write_repeats(input_file, output_file):\n",
    "    file_read = open(input_file, 'r')\n",
    "    file_write = open(output_file, 'w')\n",
    "    deals = file_read.readlines()\n",
    "    repeted_deals = count_repeats(deals)\n",
    "    file_write.writelines(repeted_deals)\n",
    "    file_write.close()\n",
    "    file_read.close()\n",
    "file_write_repeats(input_file, output_file)\n",
    "\n",
    "def test_1():\n",
    "    file_read = open('out.txt', 'r')\n",
    "    repeted_deals = file_read.readlines()\n",
    "    if repeted_deals == ['walk with children\\n', 'buy products\\n', 'cook meals\\n', 'child to kindergarden\\n']:\n",
    "        print 'test passed'\n",
    "    else:\n",
    "        print 'FAILED'\n",
    "    \n",
    "    \n",
    "def test_2():\n",
    "    file_read = open('out.txt', 'r')\n",
    "    repeted_deals = file_read.readlines()\n",
    "    if repeted_deals != []:\n",
    "        print 'test passed'\n",
    "    else:\n",
    "        print 'FAILED'\n",
    "\n",
    "def test_all():\n",
    "    test_1()\n",
    "    test_2()\n",
    "    \n",
    "test_all()\n",
    "\n",
    "#clear_repeted_deals = list(map(repeted_deals.rstrip(\"\\n\")\n",
    "\n",
    "#print deals\n",
    "#print(result)\n",
    "#x.next() -> the next value, or raise StopIteration\n",
    "#readlines([size]) -> list of strings, each a line from the file.\n",
    "#writelines(...)\n",
    "    #writelines(sequence_of_strings) -> None.  Write the strings to the file.\n",
    "#help(file_read)"
   ]
  },
  {
   "cell_type": "markdown",
   "metadata": {},
   "source": [
    "Задание 2\n",
    "Создайте простой тектосвый фаил \"in.txt\". Добавьие в него свои траты следующим образом. На каждой строчке одно поуупка.\n",
    "\n",
    "Пример: -100 -200 -44000 -55 100000 -79\n",
    "\n",
    "Далее напишить программу которая читает этот фаил. Суммирует все траты. И записывает сумму в другой фаил \"out.txt\".\n",
    "\n",
    "Напишите тесты для проверки вашей программы."
   ]
  },
  {
   "cell_type": "code",
   "execution_count": 28,
   "metadata": {},
   "outputs": [
    {
     "name": "stdout",
     "output_type": "stream",
     "text": [
      "test passed\n",
      "test passed\n"
     ]
    }
   ],
   "source": [
    "def clean_movements(movements):\n",
    "    for movement in movements:\n",
    "        movement.rstrip(\"\\n\")\n",
    "    movements = list(map(int,movements))\n",
    "    return movements\n",
    "\n",
    "#print(clean_movements(['-50\\n', '-5000\\n', '80000\\n', '-30000\\n', '-600\\n', '10000\\n', '-50\\n', '-600\\n', '-600\\n']))\n",
    "\n",
    "\n",
    "def count_spendings(movements):\n",
    "    spendings = 0\n",
    "    clear_movements = clean_movements(movements)\n",
    "    for i in range(0, len(clear_movements)):\n",
    "        if clear_movements[i] < 0:\n",
    "            spendings+= clear_movements[i]\n",
    "    #print(spendings)\n",
    "    return spendings\n",
    "\n",
    "input_file = 'in2.txt'\n",
    "output_file = 'out2.txt'\n",
    "\n",
    "def file_write_sum_spendings(input_file, output_file):\n",
    "    file_read = open(input_file, 'r')\n",
    "    file_write = open(output_file, 'w')\n",
    "    movements = file_read.readlines()\n",
    "    #print movements\n",
    "    sum_spendings = count_spendings(movements)\n",
    "    #print sum_spendings\n",
    "    file_write.write(str(sum_spendings))\n",
    "    file_write.close()\n",
    "    file_read.close()\n",
    "    \n",
    "file_write_sum_spendings(input_file, output_file)\n",
    "\n",
    "#['-50\\n', '-5000\\n', '80000\\n', '-30000\\n', '-600\\n', '10000\\n', '-50\\n', '-600\\n', '-600\\n'] - список прочитан. из файла\n",
    "\n",
    "def test_1():\n",
    "    file_read = open('out2.txt', 'r')\n",
    "    sum_spendings = file_read.read()\n",
    "    if sum_spendings == '-36900':\n",
    "        print 'test passed'\n",
    "    else:\n",
    "        print 'FAILED'\n",
    "    \n",
    "test_1()\n",
    "    \n",
    "def test_2():\n",
    "    file_read = open('out2.txt', 'r')\n",
    "    sum_spendings = file_read.read()\n",
    "    if sum_spendings != 0:\n",
    "        print 'test passed'\n",
    "    else:\n",
    "        print 'FAILED'\n",
    "    \n",
    "test_2()\n",
    "\n",
    "#def test_all():\n",
    "    #test_1()\n",
    "    #test_2()\n",
    "    \n",
    "#test_all()"
   ]
  },
  {
   "cell_type": "code",
   "execution_count": 17,
   "metadata": {},
   "outputs": [
    {
     "data": {
      "text/plain": [
       "-10"
      ]
     },
     "execution_count": 17,
     "metadata": {},
     "output_type": "execute_result"
    }
   ],
   "source": [
    "int('-10')"
   ]
  }
 ],
 "metadata": {
  "kernelspec": {
   "display_name": "Python 2",
   "language": "python",
   "name": "python2"
  },
  "language_info": {
   "codemirror_mode": {
    "name": "ipython",
    "version": 2
   },
   "file_extension": ".py",
   "mimetype": "text/x-python",
   "name": "python",
   "nbconvert_exporter": "python",
   "pygments_lexer": "ipython2",
   "version": "2.7.12"
  }
 },
 "nbformat": 4,
 "nbformat_minor": 2
}
