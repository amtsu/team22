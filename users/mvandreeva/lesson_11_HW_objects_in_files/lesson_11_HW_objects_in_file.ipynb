{
 "cells": [
  {
   "cell_type": "code",
   "execution_count": 50,
   "metadata": {},
   "outputs": [
    {
     "name": "stdout",
     "output_type": "stream",
     "text": [
      "/home/mvandreeva/github/team22/users/mvandreeva/lesson_11_HW_objects_in_files\r\n"
     ]
    }
   ],
   "source": [
    "!pwd"
   ]
  },
  {
   "cell_type": "markdown",
   "metadata": {},
   "source": [
    "На первых уроках мы пробовали работаться с списками дел и трат.\n",
    "Теперь вам надо реализовать следующее:\n",
    "\n",
    "0) создать новую ветку\n",
    "\n",
    "1) сохранить ваши созданные списки в файл ( формат выбирайте сами)\n",
    "\n",
    "2) загрузить из из файла\n",
    "\n",
    "3) добавить несколько новых трат и дела в эти списки\n",
    "\n",
    "4) применить к ним все функции которые вы делали для работы с. этими списками \n",
    "\n",
    "5) сохранить в файлы расширенные списки(с вашими новыми элементами назад в файлы)\n",
    "\n",
    "6) добавить изменения в коммит, закомитить, запушить ветку, создать пул реквест"
   ]
  },
  {
   "cell_type": "code",
   "execution_count": 51,
   "metadata": {},
   "outputs": [
    {
     "name": "stdout",
     "output_type": "stream",
     "text": [
      "  main\u001b[m\r\n",
      "  mvandreeva\u001b[m\r\n",
      "* \u001b[32mmvandreeva_lesson_11_HW\u001b[m\r\n",
      "  mvandreeva_v2\u001b[m\r\n"
     ]
    }
   ],
   "source": [
    "!git branch"
   ]
  },
  {
   "cell_type": "code",
   "execution_count": 7,
   "metadata": {},
   "outputs": [],
   "source": [
    "#0) создать новую ветку"
   ]
  },
  {
   "cell_type": "code",
   "execution_count": 52,
   "metadata": {},
   "outputs": [],
   "source": [
    "!git branch mvandreeva_lesson_11_HW_v2"
   ]
  },
  {
   "cell_type": "code",
   "execution_count": 53,
   "metadata": {},
   "outputs": [
    {
     "name": "stdout",
     "output_type": "stream",
     "text": [
      "  main\u001b[m\r\n",
      "  mvandreeva\u001b[m\r\n",
      "* \u001b[32mmvandreeva_lesson_11_HW\u001b[m\r\n",
      "  mvandreeva_lesson_11_HW_v2\u001b[m\r\n",
      "  mvandreeva_v2\u001b[m\r\n"
     ]
    }
   ],
   "source": [
    "!git branch"
   ]
  },
  {
   "cell_type": "code",
   "execution_count": 54,
   "metadata": {},
   "outputs": [
    {
     "name": "stdout",
     "output_type": "stream",
     "text": [
      "M\tusers/mvandreeva/lesson_11_HW_objects_in_files/.ipynb_checkpoints/lesson_11_HW_objects_in_file-checkpoint.ipynb\r\n",
      "M\tusers/mvandreeva/lesson_11_HW_objects_in_files/lesson_11_HW_objects_in_file.ipynb\r\n",
      "M\tusers/mvandreeva/lesson_11_HW_objects_in_files/lists.txt\r\n",
      "M\tusers/mvandreeva/lesson_7_HW_from_book/.ipynb_checkpoints/lesson_7_HW_from_book-checkpoint.ipynb\r\n",
      "M\tusers/mvandreeva/lesson_7_HW_from_book/lesson_7_HW_from_book.ipynb\r\n",
      "M\tusers/mvandreeva/lesson_9_HW_objects_to_files/.ipynb_checkpoints/lesson_9_HW_objects_to_files-checkpoint.ipynb\r\n",
      "M\tusers/mvandreeva/lesson_9_HW_objects_to_files/lesson_9_HW_objects_to_files.ipynb\r\n",
      "Switched to branch 'mvandreeva_lesson_11_HW_v2'\r\n"
     ]
    }
   ],
   "source": [
    "!git checkout mvandreeva_lesson_11_HW_v2"
   ]
  },
  {
   "cell_type": "code",
   "execution_count": 55,
   "metadata": {},
   "outputs": [
    {
     "name": "stdout",
     "output_type": "stream",
     "text": [
      "  main\u001b[m\r\n",
      "  mvandreeva\u001b[m\r\n",
      "  mvandreeva_lesson_11_HW\u001b[m\r\n",
      "* \u001b[32mmvandreeva_lesson_11_HW_v2\u001b[m\r\n",
      "  mvandreeva_v2\u001b[m\r\n"
     ]
    }
   ],
   "source": [
    "!git branch"
   ]
  },
  {
   "cell_type": "code",
   "execution_count": null,
   "metadata": {},
   "outputs": [],
   "source": [
    "#1) сохранить ваши созданные списки в файл ( формат выбирайте сами)"
   ]
  },
  {
   "cell_type": "code",
   "execution_count": 13,
   "metadata": {},
   "outputs": [],
   "source": [
    "!touch lists.txt"
   ]
  },
  {
   "cell_type": "code",
   "execution_count": 57,
   "metadata": {},
   "outputs": [],
   "source": [
    "to_do_list = [ 'child to kindergarden','watch film','call friend', 'walk with children','buy products', 'cook meals','walk with children', 'wash floor','buy products', 'wash clothes','walk with children','buy products', 'cook meals','walk with children', 'cook meals','play with children', 'sleep','walk with dog', 'buy products','prepare hometask on python', 'child to kindergarden', 'cook meals']\n",
    "deadline = ['30-08-2022', '30-08-2022', '30-08-2022', '01-09-2022', '01-09-2022', '01-09-2022', '03-09-2022', '03-09-2022',  '03-09-2022', '05-09-2022', '05-09-2022', '06-09-2022', '06-09-2022', '06-09-2022', '07-09-2022', '07-09-2022', '07-09-2022', '08-09-2022', '08-09-2022', '08-09-2022', '08-09-2022', '08-09-2022']\n",
    "finish_date = ['28-09-2022', '30-08-2022', '30-08-2022', '01-09-2022', '29-08-2022', '01-09-2022', '02-09-2022', '03-09-2022',  '03-09-2022', '04-09-2022', '05-09-2022', '05-09-2022', '06-09-2022', '06-09-2022', '06-09-2022', '07-09-2022', '07-09-2022', '07-09-2022', '08-09-2022', '08-09-2022', '09-09-2022', '08-09-2022']\n",
    "#-----------------------------------------------------------\n",
    "actions = ['buy bread', 'buy boots', 'get salarry', 'buy phone', 'buy sweets', 'get salary','buy bread', 'buy sweets', 'buy sweets']\n",
    "account_movements = [-50, -5000, 80000, -30000, -600, 10000, -50, -600, -600,]"
   ]
  },
  {
   "cell_type": "code",
   "execution_count": 58,
   "metadata": {},
   "outputs": [],
   "source": [
    "# очищаем файл от содержимого\n",
    "f = open('lists.txt', 'w')\n",
    "f.close()"
   ]
  },
  {
   "cell_type": "code",
   "execution_count": 59,
   "metadata": {},
   "outputs": [],
   "source": [
    "import json"
   ]
  },
  {
   "cell_type": "markdown",
   "metadata": {},
   "source": [
    "#не сработало\n",
    "to_do_list_json = json.dumps(to_do_list)\n",
    "deadline_json = json.dumps(deadline)\n",
    "finish_date_json = json.dumps(finish_date)\n",
    "actions_json = json.dumps(actions)\n",
    "account_movements_json = json.dumps(account_movements)\n",
    "\n",
    "json_lists = [to_do_list_json, deadline_json, finish_date_json, actions_json, account_movements_json]\n",
    "print json_lists"
   ]
  },
  {
   "cell_type": "markdown",
   "metadata": {},
   "source": [
    "lists_file = open('lists.txt', 'wb')"
   ]
  },
  {
   "cell_type": "markdown",
   "metadata": {},
   "source": [
    "lists_file.writelines(json_lists)"
   ]
  },
  {
   "cell_type": "markdown",
   "metadata": {},
   "source": [
    "lists_file.close()"
   ]
  },
  {
   "cell_type": "markdown",
   "metadata": {},
   "source": [
    "with open('lists.txt', 'rb') as file_read:\n",
    "    new_lists_file = file_read.readlines()"
   ]
  },
  {
   "cell_type": "markdown",
   "metadata": {},
   "source": [
    "new_lists_file"
   ]
  },
  {
   "cell_type": "code",
   "execution_count": 60,
   "metadata": {},
   "outputs": [
    {
     "data": {
      "text/plain": [
       "{'account_movements': [-50,\n",
       "  -5000,\n",
       "  80000,\n",
       "  -30000,\n",
       "  -600,\n",
       "  10000,\n",
       "  -50,\n",
       "  -600,\n",
       "  -600],\n",
       " 'actions': ['buy bread',\n",
       "  'buy boots',\n",
       "  'get salarry',\n",
       "  'buy phone',\n",
       "  'buy sweets',\n",
       "  'get salary',\n",
       "  'buy bread',\n",
       "  'buy sweets',\n",
       "  'buy sweets'],\n",
       " 'deadline': ['30-08-2022',\n",
       "  '30-08-2022',\n",
       "  '30-08-2022',\n",
       "  '01-09-2022',\n",
       "  '01-09-2022',\n",
       "  '01-09-2022',\n",
       "  '03-09-2022',\n",
       "  '03-09-2022',\n",
       "  '03-09-2022',\n",
       "  '05-09-2022',\n",
       "  '05-09-2022',\n",
       "  '06-09-2022',\n",
       "  '06-09-2022',\n",
       "  '06-09-2022',\n",
       "  '07-09-2022',\n",
       "  '07-09-2022',\n",
       "  '07-09-2022',\n",
       "  '08-09-2022',\n",
       "  '08-09-2022',\n",
       "  '08-09-2022',\n",
       "  '08-09-2022',\n",
       "  '08-09-2022'],\n",
       " 'finish_date': ['28-09-2022',\n",
       "  '30-08-2022',\n",
       "  '30-08-2022',\n",
       "  '01-09-2022',\n",
       "  '29-08-2022',\n",
       "  '01-09-2022',\n",
       "  '02-09-2022',\n",
       "  '03-09-2022',\n",
       "  '03-09-2022',\n",
       "  '04-09-2022',\n",
       "  '05-09-2022',\n",
       "  '05-09-2022',\n",
       "  '06-09-2022',\n",
       "  '06-09-2022',\n",
       "  '06-09-2022',\n",
       "  '07-09-2022',\n",
       "  '07-09-2022',\n",
       "  '07-09-2022',\n",
       "  '08-09-2022',\n",
       "  '08-09-2022',\n",
       "  '09-09-2022',\n",
       "  '08-09-2022'],\n",
       " 'to_do_list': ['child to kindergarden',\n",
       "  'watch film',\n",
       "  'call friend',\n",
       "  'walk with children',\n",
       "  'buy products',\n",
       "  'cook meals',\n",
       "  'walk with children',\n",
       "  'wash floor',\n",
       "  'buy products',\n",
       "  'wash clothes',\n",
       "  'walk with children',\n",
       "  'buy products',\n",
       "  'cook meals',\n",
       "  'walk with children',\n",
       "  'cook meals',\n",
       "  'play with children',\n",
       "  'sleep',\n",
       "  'walk with dog',\n",
       "  'buy products',\n",
       "  'prepare hometask on python',\n",
       "  'child to kindergarden',\n",
       "  'cook meals']}"
      ]
     },
     "execution_count": 60,
     "metadata": {},
     "output_type": "execute_result"
    }
   ],
   "source": [
    "#1) сохранить ваши созданные списки в файл ( формат выбирайте сами)\n",
    "lists_data = {}\n",
    "lists_data['to_do_list'] = to_do_list\n",
    "lists_data['deadline'] = deadline\n",
    "lists_data['finish_date'] = finish_date\n",
    "lists_data['actions'] = actions\n",
    "lists_data['account_movements'] = account_movements\n",
    "\n",
    "lists_data"
   ]
  },
  {
   "cell_type": "code",
   "execution_count": 61,
   "metadata": {},
   "outputs": [],
   "source": [
    "#преобразуем полученные словари в json\n",
    "lists_data_json = json.dumps(lists_data)\n"
   ]
  },
  {
   "cell_type": "code",
   "execution_count": 62,
   "metadata": {},
   "outputs": [],
   "source": [
    "with open('lists.txt', 'wb') as file_write:\n",
    "    file_write.write(lists_data_json)"
   ]
  },
  {
   "cell_type": "code",
   "execution_count": 63,
   "metadata": {},
   "outputs": [
    {
     "data": {
      "text/plain": [
       "'{\"to_do_list\": [\"child to kindergarden\", \"watch film\", \"call friend\", \"walk with children\", \"buy products\", \"cook meals\", \"walk with children\", \"wash floor\", \"buy products\", \"wash clothes\", \"walk with children\", \"buy products\", \"cook meals\", \"walk with children\", \"cook meals\", \"play with children\", \"sleep\", \"walk with dog\", \"buy products\", \"prepare hometask on python\", \"child to kindergarden\", \"cook meals\"], \"account_movements\": [-50, -5000, 80000, -30000, -600, 10000, -50, -600, -600], \"deadline\": [\"30-08-2022\", \"30-08-2022\", \"30-08-2022\", \"01-09-2022\", \"01-09-2022\", \"01-09-2022\", \"03-09-2022\", \"03-09-2022\", \"03-09-2022\", \"05-09-2022\", \"05-09-2022\", \"06-09-2022\", \"06-09-2022\", \"06-09-2022\", \"07-09-2022\", \"07-09-2022\", \"07-09-2022\", \"08-09-2022\", \"08-09-2022\", \"08-09-2022\", \"08-09-2022\", \"08-09-2022\"], \"actions\": [\"buy bread\", \"buy boots\", \"get salarry\", \"buy phone\", \"buy sweets\", \"get salary\", \"buy bread\", \"buy sweets\", \"buy sweets\"], \"finish_date\": [\"28-09-2022\", \"30-08-2022\", \"30-08-2022\", \"01-09-2022\", \"29-08-2022\", \"01-09-2022\", \"02-09-2022\", \"03-09-2022\", \"03-09-2022\", \"04-09-2022\", \"05-09-2022\", \"05-09-2022\", \"06-09-2022\", \"06-09-2022\", \"06-09-2022\", \"07-09-2022\", \"07-09-2022\", \"07-09-2022\", \"08-09-2022\", \"08-09-2022\", \"09-09-2022\", \"08-09-2022\"]}'"
      ]
     },
     "execution_count": 63,
     "metadata": {},
     "output_type": "execute_result"
    }
   ],
   "source": [
    "#2) загрузить из из файла\n",
    "with open('lists.txt', 'rb') as file_read:\n",
    "    new_list_data_json = file_read.read()\n",
    "\n",
    "new_list_data_json"
   ]
  },
  {
   "cell_type": "code",
   "execution_count": 64,
   "metadata": {},
   "outputs": [
    {
     "data": {
      "text/plain": [
       "{u'account_movements': [-50,\n",
       "  -5000,\n",
       "  80000,\n",
       "  -30000,\n",
       "  -600,\n",
       "  10000,\n",
       "  -50,\n",
       "  -600,\n",
       "  -600],\n",
       " u'actions': [u'buy bread',\n",
       "  u'buy boots',\n",
       "  u'get salarry',\n",
       "  u'buy phone',\n",
       "  u'buy sweets',\n",
       "  u'get salary',\n",
       "  u'buy bread',\n",
       "  u'buy sweets',\n",
       "  u'buy sweets'],\n",
       " u'deadline': [u'30-08-2022',\n",
       "  u'30-08-2022',\n",
       "  u'30-08-2022',\n",
       "  u'01-09-2022',\n",
       "  u'01-09-2022',\n",
       "  u'01-09-2022',\n",
       "  u'03-09-2022',\n",
       "  u'03-09-2022',\n",
       "  u'03-09-2022',\n",
       "  u'05-09-2022',\n",
       "  u'05-09-2022',\n",
       "  u'06-09-2022',\n",
       "  u'06-09-2022',\n",
       "  u'06-09-2022',\n",
       "  u'07-09-2022',\n",
       "  u'07-09-2022',\n",
       "  u'07-09-2022',\n",
       "  u'08-09-2022',\n",
       "  u'08-09-2022',\n",
       "  u'08-09-2022',\n",
       "  u'08-09-2022',\n",
       "  u'08-09-2022'],\n",
       " u'finish_date': [u'28-09-2022',\n",
       "  u'30-08-2022',\n",
       "  u'30-08-2022',\n",
       "  u'01-09-2022',\n",
       "  u'29-08-2022',\n",
       "  u'01-09-2022',\n",
       "  u'02-09-2022',\n",
       "  u'03-09-2022',\n",
       "  u'03-09-2022',\n",
       "  u'04-09-2022',\n",
       "  u'05-09-2022',\n",
       "  u'05-09-2022',\n",
       "  u'06-09-2022',\n",
       "  u'06-09-2022',\n",
       "  u'06-09-2022',\n",
       "  u'07-09-2022',\n",
       "  u'07-09-2022',\n",
       "  u'07-09-2022',\n",
       "  u'08-09-2022',\n",
       "  u'08-09-2022',\n",
       "  u'09-09-2022',\n",
       "  u'08-09-2022'],\n",
       " u'to_do_list': [u'child to kindergarden',\n",
       "  u'watch film',\n",
       "  u'call friend',\n",
       "  u'walk with children',\n",
       "  u'buy products',\n",
       "  u'cook meals',\n",
       "  u'walk with children',\n",
       "  u'wash floor',\n",
       "  u'buy products',\n",
       "  u'wash clothes',\n",
       "  u'walk with children',\n",
       "  u'buy products',\n",
       "  u'cook meals',\n",
       "  u'walk with children',\n",
       "  u'cook meals',\n",
       "  u'play with children',\n",
       "  u'sleep',\n",
       "  u'walk with dog',\n",
       "  u'buy products',\n",
       "  u'prepare hometask on python',\n",
       "  u'child to kindergarden',\n",
       "  u'cook meals']}"
      ]
     },
     "execution_count": 64,
     "metadata": {},
     "output_type": "execute_result"
    }
   ],
   "source": [
    "new_list_data = json.loads(new_list_data_json)\n",
    "new_list_data"
   ]
  },
  {
   "cell_type": "code",
   "execution_count": 65,
   "metadata": {},
   "outputs": [
    {
     "name": "stdout",
     "output_type": "stream",
     "text": [
      "[[u'child to kindergarden', u'watch film', u'call friend', u'walk with children', u'buy products', u'cook meals', u'walk with children', u'wash floor', u'buy products', u'wash clothes', u'walk with children', u'buy products', u'cook meals', u'walk with children', u'cook meals', u'play with children', u'sleep', u'walk with dog', u'buy products', u'prepare hometask on python', u'child to kindergarden', u'cook meals'], [u'28-09-2022', u'30-08-2022', u'30-08-2022', u'01-09-2022', u'29-08-2022', u'01-09-2022', u'02-09-2022', u'03-09-2022', u'03-09-2022', u'04-09-2022', u'05-09-2022', u'05-09-2022', u'06-09-2022', u'06-09-2022', u'06-09-2022', u'07-09-2022', u'07-09-2022', u'07-09-2022', u'08-09-2022', u'08-09-2022', u'09-09-2022', u'08-09-2022'], [u'30-08-2022', u'30-08-2022', u'30-08-2022', u'01-09-2022', u'01-09-2022', u'01-09-2022', u'03-09-2022', u'03-09-2022', u'03-09-2022', u'05-09-2022', u'05-09-2022', u'06-09-2022', u'06-09-2022', u'06-09-2022', u'07-09-2022', u'07-09-2022', u'07-09-2022', u'08-09-2022', u'08-09-2022', u'08-09-2022', u'08-09-2022', u'08-09-2022'], [u'buy bread', u'buy boots', u'get salarry', u'buy phone', u'buy sweets', u'get salary', u'buy bread', u'buy sweets', u'buy sweets'], [-50, -5000, 80000, -30000, -600, 10000, -50, -600, -600]]\n",
      "<type 'list'>\n",
      "---------------------------------------\n",
      "child to kindergarden\n",
      "<type 'list'>\n",
      "---------------------------------------\n",
      "[[u'child to kindergarden', u'watch film', u'call friend', u'walk with children', u'buy products', u'cook meals', u'walk with children', u'wash floor', u'buy products', u'wash clothes', u'walk with children', u'buy products', u'cook meals', u'walk with children', u'cook meals', u'play with children', u'sleep', u'walk with dog', u'buy products', u'prepare hometask on python', u'child to kindergarden', u'cook meals', u'watch film', u'prepare hometask on python', u'play with children'], [u'28-09-2022', u'30-08-2022', u'30-08-2022', u'01-09-2022', u'29-08-2022', u'01-09-2022', u'02-09-2022', u'03-09-2022', u'03-09-2022', u'04-09-2022', u'05-09-2022', u'05-09-2022', u'06-09-2022', u'06-09-2022', u'06-09-2022', u'07-09-2022', u'07-09-2022', u'07-09-2022', u'08-09-2022', u'08-09-2022', u'09-09-2022', u'08-09-2022', u'25-10-2022', u'19-10-2022', u'18-10-2022'], [u'30-08-2022', u'30-08-2022', u'30-08-2022', u'01-09-2022', u'01-09-2022', u'01-09-2022', u'03-09-2022', u'03-09-2022', u'03-09-2022', u'05-09-2022', u'05-09-2022', u'06-09-2022', u'06-09-2022', u'06-09-2022', u'07-09-2022', u'07-09-2022', u'07-09-2022', u'08-09-2022', u'08-09-2022', u'08-09-2022', u'08-09-2022', u'08-09-2022', u'None', u'19-10-2022', u'18-10-2022'], [u'buy bread', u'buy boots', u'get salarry', u'buy phone', u'buy sweets', u'get salary', u'buy bread', u'buy sweets', u'buy sweets'], [-50, -5000, 80000, -30000, -600, 10000, -50, -600, -600]]\n"
     ]
    }
   ],
   "source": [
    "#3) добавить несколько новых трат и дела в эти списки\n",
    "#функция преобразования словаря обратно в списки:\n",
    "def convert_dict_to_lists_list(dictionary):\n",
    "    list_of_lists = []\n",
    "    for key, value in dictionary.items():\n",
    "        list_of_lists.append(value)\n",
    "    return list_of_lists\n",
    "\n",
    "list_of_lists = convert_dict_to_lists_list(new_list_data)\n",
    "print list_of_lists\n",
    "print type(list_of_lists)\n",
    "\n",
    "print '---------------------------------------'\n",
    "#string.lstrip([chars])\n",
    "\n",
    "#def clean_data(list_name, chars): # не удалось почистить данные, ошибка\n",
    "#    for item in list_name:\n",
    "#        item.strip(chars)\n",
    "#    return list_name\n",
    "\n",
    "#for element in list_of_lists:\n",
    "#    for i in range(len(element)):\n",
    "#        clean_data(element, 'u')\n",
    "        \n",
    "print list_of_lists[0][0] # работает и с 'u'\n",
    "print type(list_of_lists[0])\n",
    "print '---------------------------------------'\n",
    "\n",
    "#функция добавления новых дел в список дел\n",
    "def add_in_to_do_list(list_of_lists, deal_name, deadline, finish_date):\n",
    "    #deal_name = \n",
    "    list_of_lists[0].append(deal_name)\n",
    "    list_of_lists[1].append(deadline)\n",
    "    list_of_lists[2].append(finish_date)\n",
    "    return list_of_lists\n",
    "\n",
    "list_of_lists = add_in_to_do_list(list_of_lists, u'watch film', u'25-10-2022', u'None')\n",
    "list_of_lists = add_in_to_do_list(list_of_lists, u'prepare hometask on python', u'19-10-2022', u'19-10-2022')\n",
    "list_of_lists = add_in_to_do_list(list_of_lists, u'play with children', u'18-10-2022', u'18-10-2022')\n",
    "\n",
    "print list_of_lists\n",
    "    \n",
    "#print new_list_data[to_do_list]"
   ]
  },
  {
   "cell_type": "code",
   "execution_count": 66,
   "metadata": {},
   "outputs": [
    {
     "name": "stdout",
     "output_type": "stream",
     "text": [
      "[[u'child to kindergarden', u'watch film', u'call friend', u'walk with children', u'buy products', u'cook meals', u'walk with children', u'wash floor', u'buy products', u'wash clothes', u'walk with children', u'buy products', u'cook meals', u'walk with children', u'cook meals', u'play with children', u'sleep', u'walk with dog', u'buy products', u'prepare hometask on python', u'child to kindergarden', u'cook meals', u'watch film', u'prepare hometask on python', u'play with children'], [u'28-09-2022', u'30-08-2022', u'30-08-2022', u'01-09-2022', u'29-08-2022', u'01-09-2022', u'02-09-2022', u'03-09-2022', u'03-09-2022', u'04-09-2022', u'05-09-2022', u'05-09-2022', u'06-09-2022', u'06-09-2022', u'06-09-2022', u'07-09-2022', u'07-09-2022', u'07-09-2022', u'08-09-2022', u'08-09-2022', u'09-09-2022', u'08-09-2022', u'25-10-2022', u'19-10-2022', u'18-10-2022'], [u'30-08-2022', u'30-08-2022', u'30-08-2022', u'01-09-2022', u'01-09-2022', u'01-09-2022', u'03-09-2022', u'03-09-2022', u'03-09-2022', u'05-09-2022', u'05-09-2022', u'06-09-2022', u'06-09-2022', u'06-09-2022', u'07-09-2022', u'07-09-2022', u'07-09-2022', u'08-09-2022', u'08-09-2022', u'08-09-2022', u'08-09-2022', u'08-09-2022', u'None', u'19-10-2022', u'18-10-2022'], [u'buy bread', u'buy boots', u'get salarry', u'buy phone', u'buy sweets', u'get salary', u'buy bread', u'buy sweets', u'buy sweets', u'buy clothes', u'buy toys'], [-50, -5000, 80000, -30000, -600, 10000, -50, -600, -600, -5000, -1589]]\n"
     ]
    }
   ],
   "source": [
    "#функция добавления новых дел в список трат\n",
    "def add_in_movements_list_of_lists(list_of_lists, action, movement):\n",
    "    #deal_name = \n",
    "    list_of_lists[3].append(action)\n",
    "    list_of_lists[4].append(movement)\n",
    "    return list_of_lists\n",
    "\n",
    "list_of_lists = add_in_movements(list_of_lists, u'buy clothes', -5000)\n",
    "list_of_lists = add_in_movements(list_of_lists, u'buy toys', -1589)\n",
    "\n",
    "print list_of_lists"
   ]
  },
  {
   "cell_type": "code",
   "execution_count": 67,
   "metadata": {},
   "outputs": [
    {
     "name": "stdout",
     "output_type": "stream",
     "text": [
      "Total deal amount: 25\n",
      "--------------------------------------------\n"
     ]
    }
   ],
   "source": [
    "#4) применить к ним все функции которые вы делали для работы с этими списками\n",
    "\n",
    "#Функция подсчета количества дел (элементов в списке)\n",
    "def count_deal_amount(list_name):\n",
    "    deal_amount = len(list_name)\n",
    "    print 'Total deal amount:', len(list_name) \n",
    "    return deal_amount\n",
    "\n",
    "count_deal_amount(list_of_lists[0])\n",
    "\n",
    "print '--------------------------------------------'"
   ]
  },
  {
   "cell_type": "code",
   "execution_count": 68,
   "metadata": {},
   "outputs": [
    {
     "name": "stdout",
     "output_type": "stream",
     "text": [
      "child to kindergarden\n",
      "watch film\n",
      "call friend\n",
      "walk with children\n",
      "buy products\n",
      "cook meals\n",
      "walk with children\n",
      "wash floor\n",
      "buy products\n",
      "wash clothes\n",
      "walk with children\n",
      "buy products\n",
      "cook meals\n",
      "walk with children\n",
      "cook meals\n",
      "play with children\n",
      "sleep\n",
      "walk with dog\n",
      "buy products\n",
      "prepare hometask on python\n",
      "child to kindergarden\n",
      "cook meals\n",
      "watch film\n",
      "prepare hometask on python\n",
      "play with children\n"
     ]
    },
    {
     "data": {
      "text/plain": [
       "[u'child to kindergarden',\n",
       " u'watch film',\n",
       " u'call friend',\n",
       " u'walk with children',\n",
       " u'buy products',\n",
       " u'cook meals',\n",
       " u'walk with children',\n",
       " u'wash floor',\n",
       " u'buy products',\n",
       " u'wash clothes',\n",
       " u'walk with children',\n",
       " u'buy products',\n",
       " u'cook meals',\n",
       " u'walk with children',\n",
       " u'cook meals',\n",
       " u'play with children',\n",
       " u'sleep',\n",
       " u'walk with dog',\n",
       " u'buy products',\n",
       " u'prepare hometask on python',\n",
       " u'child to kindergarden',\n",
       " u'cook meals',\n",
       " u'watch film',\n",
       " u'prepare hometask on python',\n",
       " u'play with children']"
      ]
     },
     "execution_count": 68,
     "metadata": {},
     "output_type": "execute_result"
    }
   ],
   "source": [
    "#Напечатать все дела\n",
    "def print_elements(list_for_check):\n",
    "    if isinstance(list_for_check, list):\n",
    "        result = []\n",
    "        for element in list_for_check:\n",
    "            print element\n",
    "            result.append(element)\n",
    "        return result\n",
    "    else:\n",
    "        print 'type is not a list', type(list_for_check)\n",
    "        \n",
    "print_elements(list_of_lists[0])"
   ]
  },
  {
   "cell_type": "code",
   "execution_count": 69,
   "metadata": {},
   "outputs": [
    {
     "name": "stdout",
     "output_type": "stream",
     "text": [
      "[u'watch film', u'buy products']\n"
     ]
    },
    {
     "data": {
      "text/plain": [
       "[u'watch film', u'buy products']"
      ]
     },
     "execution_count": 69,
     "metadata": {},
     "output_type": "execute_result"
    }
   ],
   "source": [
    "# Напечатать только 2 и 5 дело\n",
    "def print_2_5(list_for_check):\n",
    "    result = []\n",
    "    if len(list_for_check) >= 5:\n",
    "        result.append(list_for_check[1])\n",
    "        result.append(list_for_check[4])\n",
    "    else:\n",
    "        print 'the list is too short'\n",
    "    print result\n",
    "    return result\n",
    "\n",
    "print_2_5(list_of_lists[0])"
   ]
  },
  {
   "cell_type": "code",
   "execution_count": 70,
   "metadata": {},
   "outputs": [
    {
     "data": {
      "text/plain": [
       "['NO',\n",
       " 'NO',\n",
       " 'NO',\n",
       " 'YES',\n",
       " 'NO',\n",
       " 'NO',\n",
       " 'YES',\n",
       " 'NO',\n",
       " 'NO',\n",
       " 'NO',\n",
       " 'YES',\n",
       " 'NO',\n",
       " 'NO',\n",
       " 'YES',\n",
       " 'NO',\n",
       " 'NO',\n",
       " 'NO',\n",
       " 'NO',\n",
       " 'NO',\n",
       " 'NO',\n",
       " 'NO',\n",
       " 'NO',\n",
       " 'NO',\n",
       " 'NO',\n",
       " 'NO']"
      ]
     },
     "execution_count": 70,
     "metadata": {},
     "output_type": "execute_result"
    }
   ],
   "source": [
    "#Сравнить каждое дело из списка с строкой “buy bread” и если оно совпадает то напечатать YES\n",
    "def is_deal_name(list_for_check, deal_name):\n",
    "    deal_name_compare_list = []\n",
    "    for element in list_for_check:\n",
    "        if element == deal_name:\n",
    "            deal_name_compare_list.append('YES')\n",
    "        else: \n",
    "            deal_name_compare_list.append('NO')\n",
    "    return deal_name_compare_list\n",
    "        \n",
    "is_deal_name(list_of_lists[0], 'walk with children')"
   ]
  },
  {
   "cell_type": "code",
   "execution_count": 71,
   "metadata": {},
   "outputs": [
    {
     "name": "stdout",
     "output_type": "stream",
     "text": [
      "[21, 10, 11, 18, 12, 10, 18, 10, 12, 12, 18, 12, 10, 18, 10, 18, 5, 13, 12, 26, 21, 10, 10, 26, 18]\n"
     ]
    },
    {
     "data": {
      "text/plain": [
       "[21,\n",
       " 10,\n",
       " 11,\n",
       " 18,\n",
       " 12,\n",
       " 10,\n",
       " 18,\n",
       " 10,\n",
       " 12,\n",
       " 12,\n",
       " 18,\n",
       " 12,\n",
       " 10,\n",
       " 18,\n",
       " 10,\n",
       " 18,\n",
       " 5,\n",
       " 13,\n",
       " 12,\n",
       " 26,\n",
       " 21,\n",
       " 10,\n",
       " 10,\n",
       " 26,\n",
       " 18]"
      ]
     },
     "execution_count": 71,
     "metadata": {},
     "output_type": "execute_result"
    }
   ],
   "source": [
    "#Если каждое дело из списка ваших дела написано на английском и является строкой то вывести длину каждой из этих строк\n",
    "def display_elements_len(list_for_check):\n",
    "    result = []\n",
    "    for element in list_for_check:\n",
    "        if isinstance(element, str):\n",
    "            result.append(len(element))\n",
    "        else:\n",
    "            element = str(element)\n",
    "            result.append(len(element))\n",
    "    if result == []:\n",
    "        print \"elements in list are not of type 'str'\"\n",
    "        print type(element)\n",
    "    print result\n",
    "    return result\n",
    "\n",
    "display_elements_len(list_of_lists[0])"
   ]
  },
  {
   "cell_type": "code",
   "execution_count": 72,
   "metadata": {},
   "outputs": [
    {
     "data": {
      "text/plain": [
       "['yes',\n",
       " 'no',\n",
       " 'yes',\n",
       " 'yes',\n",
       " 'yes',\n",
       " 'no',\n",
       " 'yes',\n",
       " 'no',\n",
       " 'yes',\n",
       " 'yes',\n",
       " 'yes',\n",
       " 'yes',\n",
       " 'no',\n",
       " 'yes',\n",
       " 'no',\n",
       " 'yes',\n",
       " 'no',\n",
       " 'yes',\n",
       " 'yes',\n",
       " 'yes',\n",
       " 'yes',\n",
       " 'no',\n",
       " 'no',\n",
       " 'yes',\n",
       " 'yes']"
      ]
     },
     "execution_count": 72,
     "metadata": {},
     "output_type": "execute_result"
    }
   ],
   "source": [
    "#Напечатать yes если длина строки в которой записано дело больше 10\n",
    "def does_exceed_10(list_for_check):\n",
    "    result = []\n",
    "    for element in list_for_check:\n",
    "        if len(element) > 10:\n",
    "            result.append('yes')\n",
    "        else:\n",
    "            result.append('no')\n",
    "    return result\n",
    "        \n",
    "does_exceed_10(list_of_lists[0])"
   ]
  },
  {
   "cell_type": "code",
   "execution_count": 73,
   "metadata": {},
   "outputs": [
    {
     "name": "stdout",
     "output_type": "stream",
     "text": [
      "child to kindergarden\n",
      "call friend\n",
      "buy products\n",
      "walk with children\n",
      "buy products\n",
      "walk with children\n",
      "cook meals\n",
      "cook meals\n",
      "sleep\n",
      "buy products\n",
      "child to kindergarden\n",
      "watch film\n",
      "play with children\n"
     ]
    },
    {
     "data": {
      "text/plain": [
       "[u'child to kindergarden',\n",
       " u'call friend',\n",
       " u'buy products',\n",
       " u'walk with children',\n",
       " u'buy products',\n",
       " u'walk with children',\n",
       " u'cook meals',\n",
       " u'cook meals',\n",
       " u'sleep',\n",
       " u'buy products',\n",
       " u'child to kindergarden',\n",
       " u'watch film',\n",
       " u'play with children']"
      ]
     },
     "execution_count": 73,
     "metadata": {},
     "output_type": "execute_result"
    }
   ],
   "source": [
    "#Напечатать дела индекс которых в списке делится без остатка на 2\n",
    "def div_index_2(list_for_check):\n",
    "    result = []\n",
    "    for i in range(len(list_for_check)):\n",
    "        if i % 2 == 0:\n",
    "            print list_for_check[i]\n",
    "            result.append(list_for_check[i])\n",
    "    return result\n",
    "\n",
    "div_index_2(list_of_lists[0])"
   ]
  },
  {
   "cell_type": "code",
   "execution_count": 74,
   "metadata": {},
   "outputs": [
    {
     "name": "stdout",
     "output_type": "stream",
     "text": [
      "[u'watch film', u'buy products']\n"
     ]
    },
    {
     "data": {
      "text/plain": [
       "[u'watch film', u'buy products']"
      ]
     },
     "execution_count": 74,
     "metadata": {},
     "output_type": "execute_result"
    }
   ],
   "source": [
    "#Напечатать дело с индексом 1 и 4 из списка запланированных дел\n",
    "def print_index_1_4(list_for_check):\n",
    "    result = []\n",
    "    if len(list_for_check) >= 5:\n",
    "        result.append(list_for_check[1])\n",
    "        result.append(list_for_check[4])\n",
    "    else:\n",
    "        print 'the list is too short'\n",
    "    print result\n",
    "    return result\n",
    "\n",
    "print_index_1_4(list_of_lists[0])"
   ]
  },
  {
   "cell_type": "code",
   "execution_count": 75,
   "metadata": {},
   "outputs": [
    {
     "data": {
      "text/plain": [
       "[1, 2, 3, 5, 7, 8, 10, 12, 13, 15, 16, 18, 19, 21, 23, 24]"
      ]
     },
     "execution_count": 75,
     "metadata": {},
     "output_type": "execute_result"
    }
   ],
   "source": [
    "#Напечатать те индексы у которых значения в списке запланированных дат и списке реализованных дат равны друг другу\n",
    "def display_index_done_when_planned(to_do_list, deadline, finish_date):\n",
    "    result = []\n",
    "    for i in range(0, len(to_do_list)):\n",
    "        if deadline[i] == finish_date[i]:\n",
    "            result.append(i)\n",
    "    return result\n",
    "\n",
    "display_index_done_when_planned(list_of_lists[0], list_of_lists[1], list_of_lists[2])"
   ]
  },
  {
   "cell_type": "code",
   "execution_count": 76,
   "metadata": {},
   "outputs": [
    {
     "data": {
      "text/plain": [
       "[u'watch film',\n",
       " u'call friend',\n",
       " u'walk with children',\n",
       " u'cook meals',\n",
       " u'wash floor',\n",
       " u'buy products',\n",
       " u'walk with children',\n",
       " u'cook meals',\n",
       " u'walk with children',\n",
       " u'play with children',\n",
       " u'sleep',\n",
       " u'buy products',\n",
       " u'prepare hometask on python',\n",
       " u'cook meals',\n",
       " u'prepare hometask on python',\n",
       " u'play with children']"
      ]
     },
     "execution_count": 76,
     "metadata": {},
     "output_type": "execute_result"
    }
   ],
   "source": [
    "# Вывести только те дела которые вы сделали в тот же день в который их запланировали\n",
    "def display_done_when_planned(to_do_list, deadline, finish_date):\n",
    "    result = []\n",
    "    for i in range(0, len(to_do_list)):\n",
    "        if deadline[i] == finish_date[i]:\n",
    "            #print(to_do_list[i])\n",
    "            result.append(to_do_list[i])\n",
    "    return result\n",
    "\n",
    "\n",
    "display_done_when_planned(list_of_lists[0], list_of_lists[1], list_of_lists[2])"
   ]
  },
  {
   "cell_type": "code",
   "execution_count": 77,
   "metadata": {},
   "outputs": [
    {
     "data": {
      "text/plain": [
       "{u'buy products': 4,\n",
       " u'child to kindergarden': 2,\n",
       " u'cook meals': 4,\n",
       " u'play with children': 2,\n",
       " u'prepare hometask on python': 2,\n",
       " u'walk with children': 4,\n",
       " u'watch film': 2}"
      ]
     },
     "execution_count": 77,
     "metadata": {},
     "output_type": "execute_result"
    }
   ],
   "source": [
    "#Посчитать сколько дел у вас было одинаковых ( т.е. если есть запись “купить хлеб” 28-08-2022 и “купить хлеб” 14-08-2022 то финально нужно вывести “купить хлеб” 2 (можно сделать 2 варианта без использования словарей и с испольщованием словарям)\n",
    "def count_repeats(list_for_check):\n",
    "    repeats = {}\n",
    "    for deal in list_for_check:\n",
    "        repeats[deal] = 0\n",
    "        for i in range(0, len(list_for_check)):\n",
    "            if list_for_check[i] == deal:\n",
    "                repeats[deal] += 1\n",
    "    result = {}            \n",
    "    for key, value in repeats.items():\n",
    "        if value > 1:\n",
    "            result[key] = value\n",
    "    return result\n",
    "\n",
    "count_repeats(list_of_lists[0])"
   ]
  },
  {
   "cell_type": "code",
   "execution_count": 78,
   "metadata": {},
   "outputs": [
    {
     "data": {
      "text/plain": [
       "43489"
      ]
     },
     "execution_count": 78,
     "metadata": {},
     "output_type": "execute_result"
    }
   ],
   "source": [
    "#посчитайте сколько всего вы потратили за все время\n",
    "def count_total_spendings(account_movements):\n",
    "    spendings = 0\n",
    "    for movement in account_movements:\n",
    "        if movement < 0:\n",
    "            spendings += movement\n",
    "    return abs(spendings)\n",
    "\n",
    "count_total_spendings(list_of_lists[4])"
   ]
  },
  {
   "cell_type": "code",
   "execution_count": 79,
   "metadata": {},
   "outputs": [
    {
     "name": "stdout",
     "output_type": "stream",
     "text": [
      "('sum less than 300 rub', 100)\n"
     ]
    },
    {
     "data": {
      "text/plain": [
       "100"
      ]
     },
     "execution_count": 79,
     "metadata": {},
     "output_type": "execute_result"
    }
   ],
   "source": [
    "#посчитать сколько трат было меньше 300 рублей (сумма трат меньше 300р я считала здесь)\n",
    "\n",
    "def sum_spendings_less300(account_movements):\n",
    "    small_spendings = 0\n",
    "    for movement in account_movements:\n",
    "        if movement > -300 and movement < 0:\n",
    "            small_spendings += movement\n",
    "    print('sum less than 300 rub', abs(small_spendings))    \n",
    "    return abs(small_spendings)\n",
    "\n",
    "sum_spendings_less300(list_of_lists[4])"
   ]
  },
  {
   "cell_type": "code",
   "execution_count": 80,
   "metadata": {},
   "outputs": [
    {
     "data": {
      "text/plain": [
       "30000"
      ]
     },
     "execution_count": 80,
     "metadata": {},
     "output_type": "execute_result"
    }
   ],
   "source": [
    "#посчитать сумму трат которые были больше 10000 рублей\n",
    "def sum_spendings_more10000(account_movements):\n",
    "    big_spendings = 0\n",
    "    for  movement in account_movements:\n",
    "        if movement < -10000:\n",
    "            big_spendings += movement\n",
    "    return abs(big_spendings)\n",
    "\n",
    "sum_spendings_more1000(list_of_lists[4])    "
   ]
  },
  {
   "cell_type": "code",
   "execution_count": 81,
   "metadata": {},
   "outputs": [
    {
     "data": {
      "text/plain": [
       "[1, 4, 7, 8, 9, 10]"
      ]
     },
     "execution_count": 81,
     "metadata": {},
     "output_type": "execute_result"
    }
   ],
   "source": [
    "#выдать номера трат которые находятся в диапазоне между 300 и 10000 рублей\n",
    "def show_index_300_to_10000_spendings(account_movements):\n",
    "    result = []\n",
    "    for i in range(len(account_movements)):\n",
    "        if account_movements[i] < -300 and account_movements[i] > -10000:\n",
    "            result.append(i)\n",
    "    return result\n",
    "\n",
    "show_index_300_to_10000_spendings(list_of_lists[4])"
   ]
  },
  {
   "cell_type": "code",
   "execution_count": 82,
   "metadata": {},
   "outputs": [
    {
     "data": {
      "text/plain": [
       "50"
      ]
     },
     "execution_count": 82,
     "metadata": {},
     "output_type": "execute_result"
    }
   ],
   "source": [
    "#выбрать из списка на втором шаге самую минимальную трату\n",
    "def min_spending(list):\n",
    "    spendings = []\n",
    "    for element in list:\n",
    "        if element < 0:\n",
    "            spendings.append(abs(element))\n",
    "    #print'minimum spending was', min(spendings), 'rubs'\n",
    "    return min(spendings)\n",
    "\n",
    "min_spending(list_of_lists[4])"
   ]
  },
  {
   "cell_type": "code",
   "execution_count": 83,
   "metadata": {},
   "outputs": [
    {
     "data": {
      "text/plain": [
       "2"
      ]
     },
     "execution_count": 83,
     "metadata": {},
     "output_type": "execute_result"
    }
   ],
   "source": [
    "#посчитать сколько трат было меньше 300 рублей (число трат)\n",
    "def count_spendings_less300(account_movements):\n",
    "    less_300_count = 0\n",
    "    for movement in account_movements:\n",
    "        if movement > -300 and movement < 0:\n",
    "            less_300_count += 1\n",
    "    return less_300_count\n",
    "    \n",
    "count_spendings_less300(list_of_lists[4])"
   ]
  },
  {
   "cell_type": "code",
   "execution_count": 84,
   "metadata": {},
   "outputs": [
    {
     "data": {
      "text/plain": [
       "90000"
      ]
     },
     "execution_count": 84,
     "metadata": {},
     "output_type": "execute_result"
    }
   ],
   "source": [
    "#посчитайте сколько заработали за все время\n",
    "def count_earnings(movements):\n",
    "    earned = 0\n",
    "    for i in range(0, len(movements)):\n",
    "        if movements[i] > 0:\n",
    "            earned+= movements[i]\n",
    "    #print 'total earned:', earned\n",
    "    return earned\n",
    "\n",
    "count_earnings(list_of_lists[4])"
   ]
  },
  {
   "cell_type": "code",
   "execution_count": 85,
   "metadata": {},
   "outputs": [
    {
     "name": "stdout",
     "output_type": "stream",
     "text": [
      "buy sweets 3\n",
      "buy bread 2\n"
     ]
    },
    {
     "data": {
      "text/plain": [
       "{u'buy boots': 1,\n",
       " u'buy bread': 2,\n",
       " u'buy clothes': 1,\n",
       " u'buy phone': 1,\n",
       " u'buy sweets': 3,\n",
       " u'buy toys': 1,\n",
       " u'get salarry': 1,\n",
       " u'get salary': 1}"
      ]
     },
     "execution_count": 85,
     "metadata": {},
     "output_type": "execute_result"
    }
   ],
   "source": [
    "#посчитайте какие самые частые у вас траты(можно попробовать с использованием словарей)\n",
    "def count_repeats(actions):\n",
    "    repeats = {}\n",
    "    for element in actions:\n",
    "        if element in repeats:\n",
    "            repeats[element] += 1\n",
    "        else:\n",
    "            repeats[element] = 1\n",
    "    for key, value in repeats.items():\n",
    "        if value > 1:\n",
    "            print key, value\n",
    "    return repeats\n",
    "\n",
    "count_repeats(list_of_lists[3])"
   ]
  },
  {
   "cell_type": "code",
   "execution_count": 86,
   "metadata": {},
   "outputs": [
    {
     "name": "stdout",
     "output_type": "stream",
     "text": [
      "[[u'child to kindergarden', u'watch film', u'call friend', u'walk with children', u'buy products', u'cook meals', u'walk with children', u'wash floor', u'buy products', u'wash clothes', u'walk with children', u'buy products', u'cook meals', u'walk with children', u'cook meals', u'play with children', u'sleep', u'walk with dog', u'buy products', u'prepare hometask on python', u'child to kindergarden', u'cook meals', u'watch film', u'prepare hometask on python', u'play with children'], [u'28-09-2022', u'30-08-2022', u'30-08-2022', u'01-09-2022', u'29-08-2022', u'01-09-2022', u'02-09-2022', u'03-09-2022', u'03-09-2022', u'04-09-2022', u'05-09-2022', u'05-09-2022', u'06-09-2022', u'06-09-2022', u'06-09-2022', u'07-09-2022', u'07-09-2022', u'07-09-2022', u'08-09-2022', u'08-09-2022', u'09-09-2022', u'08-09-2022', u'25-10-2022', u'19-10-2022', u'18-10-2022'], [u'30-08-2022', u'30-08-2022', u'30-08-2022', u'01-09-2022', u'01-09-2022', u'01-09-2022', u'03-09-2022', u'03-09-2022', u'03-09-2022', u'05-09-2022', u'05-09-2022', u'06-09-2022', u'06-09-2022', u'06-09-2022', u'07-09-2022', u'07-09-2022', u'07-09-2022', u'08-09-2022', u'08-09-2022', u'08-09-2022', u'08-09-2022', u'08-09-2022', u'None', u'19-10-2022', u'18-10-2022'], [u'buy bread', u'buy boots', u'get salarry', u'buy phone', u'buy sweets', u'get salary', u'buy bread', u'buy sweets', u'buy sweets', u'buy clothes', u'buy toys', u'pay bills', u'buy clothes', u'buy present'], [-50, -5000, 80000, -30000, -600, 10000, -50, -600, -600, -5000, -1589, -8764, -3260, -2700]]\n"
     ]
    }
   ],
   "source": [
    "#добавить к списку еще 3 действия\n",
    "def add_to_actions_movements(actions_list, movements_list, action, movement):\n",
    "    actions_list.append(action)\n",
    "    movements_list.append(movement)\n",
    "    \n",
    "add_to_actions_movements(list_of_lists[3], list_of_lists[4], u'pay bills', -8764)\n",
    "add_to_actions_movements(list_of_lists[3], list_of_lists[4], u'buy clothes', -3260)\n",
    "add_to_actions_movements(list_of_lists[3], list_of_lists[4], u'buy present', -2700)\n",
    "\n",
    "print list_of_lists"
   ]
  },
  {
   "cell_type": "code",
   "execution_count": 87,
   "metadata": {},
   "outputs": [
    {
     "data": {
      "text/plain": [
       "('max spending:', u'buy phone', 30000)"
      ]
     },
     "execution_count": 87,
     "metadata": {},
     "output_type": "execute_result"
    }
   ],
   "source": [
    "#Найти максимальную трату\n",
    "def max_spending(actions_list, movements_list):\n",
    "    for i in range(len(actions_list)):\n",
    "        if (movements_list[i] < 0) and (movements_list[i] == min(movements_list)):\n",
    "            return 'max spending:', actions_list[i], abs(movements_list[i])\n",
    "        \n",
    "max_spending(list_of_lists[3], list_of_lists[4])"
   ]
  },
  {
   "cell_type": "code",
   "execution_count": 88,
   "metadata": {},
   "outputs": [
    {
     "data": {
      "text/plain": [
       "10000"
      ]
     },
     "execution_count": 88,
     "metadata": {},
     "output_type": "execute_result"
    }
   ],
   "source": [
    "#Найти минимальный доход\n",
    "def min_income(movements_list):\n",
    "    income = []\n",
    "    for element in movements_list:\n",
    "        if element > 0:\n",
    "            income.append(element)\n",
    "    #print 'min salary:', min(income)\n",
    "    return min(income)\n",
    "\n",
    "min_income(list_of_lists[4])"
   ]
  },
  {
   "cell_type": "code",
   "execution_count": 89,
   "metadata": {},
   "outputs": [
    {
     "data": {
      "text/plain": [
       "4852"
      ]
     },
     "execution_count": 89,
     "metadata": {},
     "output_type": "execute_result"
    }
   ],
   "source": [
    "#Посчитать среднюю стоимость ваших трат\n",
    "def average_spending(movements_list):\n",
    "    spendings_list = []\n",
    "    for element in movements_list:\n",
    "        if element < 0:\n",
    "            spendings_list.append(element)\n",
    "    average_spendings = abs(sum(spendings_list)/len(spendings_list))\n",
    "    #print 'mean spendings:', average_spendings\n",
    "    return average_spendings\n",
    "\n",
    "average_spending(list_of_lists[4])"
   ]
  },
  {
   "cell_type": "code",
   "execution_count": 90,
   "metadata": {},
   "outputs": [],
   "source": [
    "# 5) сохранить в файлы расширенные списки(с вашими новыми элементами назад в файлы)\n",
    "\n",
    "# очищаем файл от содержимого\n",
    "f = open('lists.txt', 'w')\n",
    "f.close()\n",
    "\n",
    "#преобразуем полученный спсик списков в json\n",
    "list_of_lists_json = json.dumps(list_of_lists)\n",
    "\n",
    "with open('lists.txt', 'wb') as file_write_final:\n",
    "    file_write_final.write(list_of_lists_json)"
   ]
  },
  {
   "cell_type": "code",
   "execution_count": null,
   "metadata": {},
   "outputs": [],
   "source": []
  },
  {
   "cell_type": "code",
   "execution_count": 91,
   "metadata": {},
   "outputs": [
    {
     "name": "stdout",
     "output_type": "stream",
     "text": [
      "On branch mvandreeva_lesson_11_HW_v2\r\n",
      "Changes not staged for commit:\r\n",
      "  (use \"git add <file>...\" to update what will be committed)\r\n",
      "  (use \"git checkout -- <file>...\" to discard changes in working directory)\r\n",
      "\r\n",
      "\t\u001b[31mmodified:   .ipynb_checkpoints/lesson_11_HW_objects_in_file-checkpoint.ipynb\u001b[m\r\n",
      "\t\u001b[31mmodified:   lesson_11_HW_objects_in_file.ipynb\u001b[m\r\n",
      "\t\u001b[31mmodified:   lists.txt\u001b[m\r\n",
      "\t\u001b[31mmodified:   ../lesson_7_HW_from_book/.ipynb_checkpoints/lesson_7_HW_from_book-checkpoint.ipynb\u001b[m\r\n",
      "\t\u001b[31mmodified:   ../lesson_7_HW_from_book/lesson_7_HW_from_book.ipynb\u001b[m\r\n",
      "\t\u001b[31mmodified:   ../lesson_9_HW_objects_to_files/.ipynb_checkpoints/lesson_9_HW_objects_to_files-checkpoint.ipynb\u001b[m\r\n",
      "\t\u001b[31mmodified:   ../lesson_9_HW_objects_to_files/lesson_9_HW_objects_to_files.ipynb\u001b[m\r\n",
      "\r\n",
      "Untracked files:\r\n",
      "  (use \"git add <file>...\" to include in what will be committed)\r\n",
      "\r\n",
      "\t\u001b[31m../.ipynb_checkpoints/\u001b[m\r\n",
      "\t\u001b[31m../Untitled.ipynb\u001b[m\r\n",
      "\t\u001b[31m.ipynb_checkpoints/lesson_11_HW_objects_in_file_v2-checkpoint.ipynb\u001b[m\r\n",
      "\t\u001b[31mlesson_11_HW_objects_in_file_v2.ipynb\u001b[m\r\n",
      "\t\u001b[31mlists_v2.txt\u001b[m\r\n",
      "\r\n",
      "no changes added to commit (use \"git add\" and/or \"git commit -a\")\r\n"
     ]
    }
   ],
   "source": [
    "!git status"
   ]
  },
  {
   "cell_type": "code",
   "execution_count": 92,
   "metadata": {},
   "outputs": [
    {
     "data": {
      "text/plain": [
       "u'/home/mvandreeva/github/team22/users/mvandreeva/lesson_11_HW_objects_in_files'"
      ]
     },
     "execution_count": 92,
     "metadata": {},
     "output_type": "execute_result"
    }
   ],
   "source": [
    "pwd"
   ]
  },
  {
   "cell_type": "code",
   "execution_count": 93,
   "metadata": {},
   "outputs": [
    {
     "name": "stdout",
     "output_type": "stream",
     "text": [
      "/home/mvandreeva/github/team22/users/mvandreeva\n"
     ]
    }
   ],
   "source": [
    "cd ../"
   ]
  },
  {
   "cell_type": "code",
   "execution_count": 94,
   "metadata": {},
   "outputs": [
    {
     "name": "stdout",
     "output_type": "stream",
     "text": [
      "On branch mvandreeva_lesson_11_HW_v2\r\n",
      "Changes not staged for commit:\r\n",
      "  (use \"git add <file>...\" to update what will be committed)\r\n",
      "  (use \"git checkout -- <file>...\" to discard changes in working directory)\r\n",
      "\r\n",
      "\t\u001b[31mmodified:   lesson_11_HW_objects_in_files/.ipynb_checkpoints/lesson_11_HW_objects_in_file-checkpoint.ipynb\u001b[m\r\n",
      "\t\u001b[31mmodified:   lesson_11_HW_objects_in_files/lesson_11_HW_objects_in_file.ipynb\u001b[m\r\n",
      "\t\u001b[31mmodified:   lesson_11_HW_objects_in_files/lists.txt\u001b[m\r\n",
      "\t\u001b[31mmodified:   lesson_7_HW_from_book/.ipynb_checkpoints/lesson_7_HW_from_book-checkpoint.ipynb\u001b[m\r\n",
      "\t\u001b[31mmodified:   lesson_7_HW_from_book/lesson_7_HW_from_book.ipynb\u001b[m\r\n",
      "\t\u001b[31mmodified:   lesson_9_HW_objects_to_files/.ipynb_checkpoints/lesson_9_HW_objects_to_files-checkpoint.ipynb\u001b[m\r\n",
      "\t\u001b[31mmodified:   lesson_9_HW_objects_to_files/lesson_9_HW_objects_to_files.ipynb\u001b[m\r\n",
      "\r\n",
      "Untracked files:\r\n",
      "  (use \"git add <file>...\" to include in what will be committed)\r\n",
      "\r\n",
      "\t\u001b[31m.ipynb_checkpoints/\u001b[m\r\n",
      "\t\u001b[31mUntitled.ipynb\u001b[m\r\n",
      "\t\u001b[31mlesson_11_HW_objects_in_files/.ipynb_checkpoints/lesson_11_HW_objects_in_file_v2-checkpoint.ipynb\u001b[m\r\n",
      "\t\u001b[31mlesson_11_HW_objects_in_files/lesson_11_HW_objects_in_file_v2.ipynb\u001b[m\r\n",
      "\t\u001b[31mlesson_11_HW_objects_in_files/lists_v2.txt\u001b[m\r\n",
      "\r\n",
      "no changes added to commit (use \"git add\" and/or \"git commit -a\")\r\n"
     ]
    }
   ],
   "source": [
    "!git status"
   ]
  },
  {
   "cell_type": "code",
   "execution_count": 96,
   "metadata": {},
   "outputs": [],
   "source": [
    "!git checkout -- lesson_11_HW_objects_in_files/lesson_11_HW_objects_in_file.ipynb"
   ]
  },
  {
   "cell_type": "code",
   "execution_count": 20,
   "metadata": {},
   "outputs": [
    {
     "name": "stdout",
     "output_type": "stream",
     "text": [
      "[mvandreeva_lesson_11_HW 673acbe] add lesson 11 homework\r\n",
      " 3 files changed, 264 insertions(+)\r\n",
      " create mode 100644 users/mvandreeva/lesson_11_HW_objects_in_files/.ipynb_checkpoints/lesson_11_HW_objects_in_file-checkpoint.ipynb\r\n",
      " create mode 100644 users/mvandreeva/lesson_11_HW_objects_in_files/lesson_11_HW_objects_in_file.ipynb\r\n",
      " create mode 100644 users/mvandreeva/lesson_11_HW_objects_in_files/lists.txt\r\n"
     ]
    }
   ],
   "source": [
    "!git commit -m 'add lesson 11 homework'"
   ]
  },
  {
   "cell_type": "code",
   "execution_count": 22,
   "metadata": {},
   "outputs": [
    {
     "name": "stdout",
     "output_type": "stream",
     "text": [
      "Counting objects: 9, done.\n",
      "Compressing objects: 100% (9/9), done.\n",
      "Writing objects: 100% (9/9), 2.39 KiB | 0 bytes/s, done.\n",
      "Total 9 (delta 2), reused 0 (delta 0)\n",
      "remote: Resolving deltas: 100% (2/2), completed with 2 local objects.\u001b[K\n",
      "remote: \n",
      "remote: Create a pull request for 'mvandreeva_lesson_11_HW' on GitHub by visiting:\u001b[K\n",
      "remote:      https://github.com/amtsu/team22/pull/new/mvandreeva_lesson_11_HW\u001b[K\n",
      "remote: \n",
      "To git@github.com:amtsu/team22.git\n",
      " * [new branch]      mvandreeva_lesson_11_HW -> mvandreeva_lesson_11_HW\n",
      "Branch mvandreeva_lesson_11_HW set up to track remote branch mvandreeva_lesson_11_HW from origin.\n"
     ]
    }
   ],
   "source": [
    "!git push --set-upstream origin mvandreeva_lesson_11_HW"
   ]
  },
  {
   "cell_type": "code",
   "execution_count": null,
   "metadata": {},
   "outputs": [],
   "source": []
  }
 ],
 "metadata": {
  "kernelspec": {
   "display_name": "Python 2",
   "language": "python",
   "name": "python2"
  },
  "language_info": {
   "codemirror_mode": {
    "name": "ipython",
    "version": 2
   },
   "file_extension": ".py",
   "mimetype": "text/x-python",
   "name": "python",
   "nbconvert_exporter": "python",
   "pygments_lexer": "ipython2",
   "version": "2.7.12"
  }
 },
 "nbformat": 4,
 "nbformat_minor": 2
}
