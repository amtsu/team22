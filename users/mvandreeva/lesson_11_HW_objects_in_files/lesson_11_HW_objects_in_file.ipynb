{
 "cells": [
  {
   "cell_type": "code",
   "execution_count": 1,
   "metadata": {},
   "outputs": [
    {
     "name": "stdout",
     "output_type": "stream",
     "text": [
      "/home/mvandreeva/github/team22/users/mvandreeva/lesson_11_HW_objects_in_files\r\n"
     ]
    }
   ],
   "source": [
    "!pwd"
   ]
  },
  {
   "cell_type": "markdown",
   "metadata": {},
   "source": [
    "На первых уроках мы пробовали работаться с списками дел и трат.\n",
    "Теперь вам надо реализовать следующее:\n",
    "\n",
    "0) создать новую ветку\n",
    "\n",
    "1) сохранить ваши созданные списки в файл ( формат выбирайте сами)\n",
    "\n",
    "2) загрузить из из файла\n",
    "\n",
    "3) добавить несколько новых трат и дела в эти списки\n",
    "\n",
    "4) применить к ним все функции которые вы делали для работы с. этими списками \n",
    "\n",
    "5) сохранить в файлы расширенные списки(с вашими новыми элементами назад в файлы)\n",
    "\n",
    "6) добавить изменения в коммит, закомитить, запушить ветку, создать пул реквест"
   ]
  },
  {
   "cell_type": "code",
   "execution_count": 2,
   "metadata": {},
   "outputs": [
    {
     "name": "stdout",
     "output_type": "stream",
     "text": [
      "  main\u001b[m\r\n",
      "  mvandreeva\u001b[m\r\n",
      "* \u001b[32mmvandreeva_v2\u001b[m\r\n"
     ]
    }
   ],
   "source": [
    "!git branch"
   ]
  },
  {
   "cell_type": "code",
   "execution_count": 7,
   "metadata": {},
   "outputs": [],
   "source": [
    "#0) создать новую ветку"
   ]
  },
  {
   "cell_type": "code",
   "execution_count": 3,
   "metadata": {},
   "outputs": [],
   "source": [
    "!git branch mvandreeva_lesson_11_HW"
   ]
  },
  {
   "cell_type": "code",
   "execution_count": 4,
   "metadata": {},
   "outputs": [
    {
     "name": "stdout",
     "output_type": "stream",
     "text": [
      "  main\u001b[m\r\n",
      "  mvandreeva\u001b[m\r\n",
      "  mvandreeva_lesson_11_HW\u001b[m\r\n",
      "* \u001b[32mmvandreeva_v2\u001b[m\r\n"
     ]
    }
   ],
   "source": [
    "!git branch"
   ]
  },
  {
   "cell_type": "code",
   "execution_count": 5,
   "metadata": {},
   "outputs": [
    {
     "name": "stdout",
     "output_type": "stream",
     "text": [
      "M\tusers/mvandreeva/lesson_7_HW_from_book/.ipynb_checkpoints/lesson_7_HW_from_book-checkpoint.ipynb\r\n",
      "M\tusers/mvandreeva/lesson_7_HW_from_book/lesson_7_HW_from_book.ipynb\r\n",
      "Switched to branch 'mvandreeva_lesson_11_HW'\r\n"
     ]
    }
   ],
   "source": [
    "!git checkout mvandreeva_lesson_11_HW"
   ]
  },
  {
   "cell_type": "code",
   "execution_count": 6,
   "metadata": {},
   "outputs": [
    {
     "name": "stdout",
     "output_type": "stream",
     "text": [
      "  main\u001b[m\r\n",
      "  mvandreeva\u001b[m\r\n",
      "* \u001b[32mmvandreeva_lesson_11_HW\u001b[m\r\n",
      "  mvandreeva_v2\u001b[m\r\n"
     ]
    }
   ],
   "source": [
    "!git branch"
   ]
  },
  {
   "cell_type": "code",
   "execution_count": null,
   "metadata": {},
   "outputs": [],
   "source": [
    "#1) сохранить ваши созданные списки в файл ( формат выбирайте сами)"
   ]
  },
  {
   "cell_type": "code",
   "execution_count": 13,
   "metadata": {},
   "outputs": [],
   "source": [
    "!touch lists.txt"
   ]
  },
  {
   "cell_type": "code",
   "execution_count": 2,
   "metadata": {},
   "outputs": [],
   "source": [
    "to_do_list = [ 'child to kindergarden','watch film','call friend', 'walk with children','buy products', 'cook meals','walk with children', 'wash floor','buy products', 'wash clothes','walk with children','buy products', 'cook meals','walk with children', 'cook meals','play with children', 'sleep','walk with dog', 'buy products','prepare hometask on python', 'child to kindergarden', 'cook meals']\n",
    "deadline = ['30-08-2022', '30-08-2022', '30-08-2022', '01-09-2022', '01-09-2022', '01-09-2022', '03-09-2022', '03-09-2022',  '03-09-2022', '05-09-2022', '05-09-2022', '06-09-2022', '06-09-2022', '06-09-2022', '07-09-2022', '07-09-2022', '07-09-2022', '08-09-2022', '08-09-2022', '08-09-2022', '08-09-2022', '08-09-2022']\n",
    "finish_date = ['28-09-2022', '30-08-2022', '30-08-2022', '01-09-2022', '29-08-2022', '01-09-2022', '02-09-2022', '03-09-2022',  '03-09-2022', '04-09-2022', '05-09-2022', '05-09-2022', '06-09-2022', '06-09-2022', '06-09-2022', '07-09-2022', '07-09-2022', '07-09-2022', '08-09-2022', '08-09-2022', '09-09-2022', '08-09-2022']\n",
    "#-----------------------------------------------------------\n",
    "actions = ['buy bread', 'buy boots', 'get salarry', 'buy phone', 'buy sweets', 'get salary','buy bread', 'buy sweets', 'buy sweets']\n",
    "account_movements = [-50, -5000, 80000, -30000, -600, 10000, -50, -600, -600,]"
   ]
  },
  {
   "cell_type": "code",
   "execution_count": 1,
   "metadata": {},
   "outputs": [],
   "source": [
    "import json"
   ]
  },
  {
   "cell_type": "code",
   "execution_count": 9,
   "metadata": {},
   "outputs": [],
   "source": [
    "to_do_list_json = json.dumps(to_do_list)\n",
    "deadline_json = json.dumps(deadline)\n",
    "finish_date_json = json.dumps(finish_date)\n",
    "actions_json = json.dumps(actions)\n",
    "account_movements_json = json.dumps(account_movements)"
   ]
  },
  {
   "cell_type": "code",
   "execution_count": 10,
   "metadata": {},
   "outputs": [],
   "source": [
    "lists_file = open('lists.txt', 'wb')"
   ]
  },
  {
   "cell_type": "code",
   "execution_count": 12,
   "metadata": {},
   "outputs": [],
   "source": [
    "lists_file.write(to_do_list_json)"
   ]
  },
  {
   "cell_type": "code",
   "execution_count": 13,
   "metadata": {},
   "outputs": [],
   "source": [
    "lists_file.write(deadline_json)"
   ]
  },
  {
   "cell_type": "code",
   "execution_count": 14,
   "metadata": {},
   "outputs": [],
   "source": [
    "lists_file.close()"
   ]
  },
  {
   "cell_type": "code",
   "execution_count": null,
   "metadata": {},
   "outputs": [],
   "source": []
  }
 ],
 "metadata": {
  "kernelspec": {
   "display_name": "Python 2",
   "language": "python",
   "name": "python2"
  },
  "language_info": {
   "codemirror_mode": {
    "name": "ipython",
    "version": 2
   },
   "file_extension": ".py",
   "mimetype": "text/x-python",
   "name": "python",
   "nbconvert_exporter": "python",
   "pygments_lexer": "ipython2",
   "version": "2.7.12"
  }
 },
 "nbformat": 4,
 "nbformat_minor": 2
}
