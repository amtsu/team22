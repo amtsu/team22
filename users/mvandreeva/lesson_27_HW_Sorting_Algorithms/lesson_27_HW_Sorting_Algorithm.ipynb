{
 "cells": [
  {
   "cell_type": "markdown",
   "id": "35827b0c-62ae-4da9-a3e5-1396828d6730",
   "metadata": {},
   "source": [
    "реализовать следующих популярные сортировок.\n",
    "пузырьковая сортировка,\n",
    "сортировка выбором,\n",
    "сортировка вставкой,\n",
    "сортировка Шелла,\n",
    "быстрая сортировка,\n",
    "сортировка слиянием,\n",
    "сортировка подсчетом.\n",
    "\n",
    "Но вы пойдете дальше и не просто реализуем алгоритмы, а еще:\n",
    "- напишите тесты\n",
    "- посчитаете количество операций\n",
    "- построите графики  зависимости количества операций от количества элементов в списке\n",
    "- поведете замеры времени выполнения сортировок\n",
    "- для каждого типа объектов, построите графики  зависимости времени сортировки от количества элементов в списке\n",
    "\n",
    "Типы объектов:\n",
    "- целые числа\n",
    "- строки\n",
    "- ваш собственный класс\n",
    "\n",
    "Размеры списков для визуализации зависимостей : 5, 10, 20, 50, 100, 300, 1000, 10000, 100000 (если на предыдущем шаге время сортировки было больше 5 секунд то сортировку списков с большим числом не надо делать."
   ]
  },
  {
   "cell_type": "code",
   "execution_count": 4,
   "id": "9dd78eb0-f7b2-4269-a1ff-72a242b27b2b",
   "metadata": {},
   "outputs": [
    {
     "name": "stdout",
     "output_type": "stream",
     "text": [
      "[1, 2, 3, 4, 5, 6, 7, 8, 8, 9, 15]\n",
      "passed\n"
     ]
    }
   ],
   "source": [
    "# пузырьковая сортировка\n",
    "def bubble_sort (sorting_list):\n",
    "    for j in range(len(sorting_list) - 1):\n",
    "        for i in range(len(sorting_list) - 1):\n",
    "            if sorting_list[i] > sorting_list[i+1]:\n",
    "                sorting_list[i], sorting_list[i+1] = sorting_list[i+1], sorting_list[i]\n",
    "    return sorting_list\n",
    "\n",
    "def test_bubble_sort():\n",
    "    print(bubble_sort([7, 5, 9, 4, 8, 2, 6, 1, 3, 8, 15]))\n",
    "    if bubble_sort([7, 5, 9, 4, 8, 2, 6, 1, 3, 8, 15]) == ([1, 2, 3, 4, 5, 6, 7, 8, 8, 9, 15]):\n",
    "        print (\"passed\")\n",
    "    else:\n",
    "        assert False\n",
    "        \n",
    "test_bubble_sort()"
   ]
  },
  {
   "cell_type": "code",
   "execution_count": 16,
   "id": "9955c9d5-7ec3-46ad-bae2-c7c827d073e1",
   "metadata": {},
   "outputs": [
    {
     "name": "stdout",
     "output_type": "stream",
     "text": [
      "1\n",
      "2\n",
      "3\n"
     ]
    },
    {
     "ename": "IndexError",
     "evalue": "list index out of range",
     "output_type": "error",
     "traceback": [
      "\u001b[0;31m---------------------------------------------------------------------------\u001b[0m",
      "\u001b[0;31mIndexError\u001b[0m                                Traceback (most recent call last)",
      "Cell \u001b[0;32mIn [16], line 21\u001b[0m\n\u001b[1;32m     18\u001b[0m     \u001b[38;5;28;01melse\u001b[39;00m:\n\u001b[1;32m     19\u001b[0m         \u001b[38;5;28;01massert\u001b[39;00m \u001b[38;5;28;01mFalse\u001b[39;00m\n\u001b[0;32m---> 21\u001b[0m \u001b[43mtest_select_sort\u001b[49m\u001b[43m(\u001b[49m\u001b[43m)\u001b[49m    \n",
      "Cell \u001b[0;32mIn [16], line 15\u001b[0m, in \u001b[0;36mtest_select_sort\u001b[0;34m()\u001b[0m\n\u001b[1;32m     14\u001b[0m \u001b[38;5;28;01mdef\u001b[39;00m \u001b[38;5;21mtest_select_sort\u001b[39m():\n\u001b[0;32m---> 15\u001b[0m     \u001b[38;5;28mprint\u001b[39m(\u001b[43mselect_sort\u001b[49m\u001b[43m(\u001b[49m\u001b[43m[\u001b[49m\u001b[38;5;241;43m7\u001b[39;49m\u001b[43m,\u001b[49m\u001b[43m \u001b[49m\u001b[38;5;241;43m5\u001b[39;49m\u001b[43m,\u001b[49m\u001b[43m \u001b[49m\u001b[38;5;241;43m9\u001b[39;49m\u001b[43m,\u001b[49m\u001b[43m \u001b[49m\u001b[38;5;241;43m4\u001b[39;49m\u001b[43m,\u001b[49m\u001b[43m \u001b[49m\u001b[38;5;241;43m8\u001b[39;49m\u001b[43m,\u001b[49m\u001b[43m \u001b[49m\u001b[38;5;241;43m2\u001b[39;49m\u001b[43m,\u001b[49m\u001b[43m \u001b[49m\u001b[38;5;241;43m6\u001b[39;49m\u001b[43m,\u001b[49m\u001b[43m \u001b[49m\u001b[38;5;241;43m1\u001b[39;49m\u001b[43m,\u001b[49m\u001b[43m \u001b[49m\u001b[38;5;241;43m3\u001b[39;49m\u001b[43m,\u001b[49m\u001b[43m \u001b[49m\u001b[38;5;241;43m8\u001b[39;49m\u001b[43m,\u001b[49m\u001b[43m \u001b[49m\u001b[38;5;241;43m15\u001b[39;49m\u001b[43m]\u001b[49m\u001b[43m)\u001b[49m)\n\u001b[1;32m     16\u001b[0m     \u001b[38;5;28;01mif\u001b[39;00m select_sort([\u001b[38;5;241m7\u001b[39m, \u001b[38;5;241m5\u001b[39m, \u001b[38;5;241m9\u001b[39m, \u001b[38;5;241m4\u001b[39m, \u001b[38;5;241m8\u001b[39m, \u001b[38;5;241m2\u001b[39m, \u001b[38;5;241m6\u001b[39m, \u001b[38;5;241m1\u001b[39m, \u001b[38;5;241m3\u001b[39m, \u001b[38;5;241m8\u001b[39m, \u001b[38;5;241m15\u001b[39m]) \u001b[38;5;241m==\u001b[39m ([\u001b[38;5;241m1\u001b[39m, \u001b[38;5;241m2\u001b[39m, \u001b[38;5;241m3\u001b[39m, \u001b[38;5;241m4\u001b[39m, \u001b[38;5;241m5\u001b[39m, \u001b[38;5;241m6\u001b[39m, \u001b[38;5;241m7\u001b[39m, \u001b[38;5;241m8\u001b[39m, \u001b[38;5;241m8\u001b[39m, \u001b[38;5;241m9\u001b[39m, \u001b[38;5;241m15\u001b[39m]):\n\u001b[1;32m     17\u001b[0m         \u001b[38;5;28mprint\u001b[39m (\u001b[38;5;124m\"\u001b[39m\u001b[38;5;124mpassed\u001b[39m\u001b[38;5;124m\"\u001b[39m)\n",
      "Cell \u001b[0;32mIn [16], line 7\u001b[0m, in \u001b[0;36mselect_sort\u001b[0;34m(sorting_list)\u001b[0m\n\u001b[1;32m      5\u001b[0m \u001b[38;5;28;01mfor\u001b[39;00m j \u001b[38;5;129;01min\u001b[39;00m \u001b[38;5;28mrange\u001b[39m(\u001b[38;5;28mlen\u001b[39m(sorting_list)):\n\u001b[1;32m      6\u001b[0m     \u001b[38;5;28;01mfor\u001b[39;00m i \u001b[38;5;129;01min\u001b[39;00m \u001b[38;5;28mrange\u001b[39m(\u001b[38;5;28mlen\u001b[39m(sorting_list) \u001b[38;5;241m-\u001b[39m \u001b[38;5;241m1\u001b[39m):\n\u001b[0;32m----> 7\u001b[0m         \u001b[38;5;28;01mif\u001b[39;00m \u001b[43msorting_list\u001b[49m\u001b[43m[\u001b[49m\u001b[43mi\u001b[49m\u001b[43m]\u001b[49m \u001b[38;5;241m==\u001b[39m \u001b[38;5;28mmin\u001b[39m(sorting_list):\n\u001b[1;32m      8\u001b[0m             \u001b[38;5;28mprint\u001b[39m (sorting_list[i])\n\u001b[1;32m      9\u001b[0m             sorted_list\u001b[38;5;241m.\u001b[39mappend(sorting_list[i])\n",
      "\u001b[0;31mIndexError\u001b[0m: list index out of range"
     ]
    }
   ],
   "source": [
    "# сортировка выбором\n",
    "sorting_list = [5,2,3,4,1]\n",
    "def select_sort(sorting_list):\n",
    "    sorted_list = []\n",
    "    for j in range(len(sorting_list) - 1):\n",
    "        for i in range(len(sorting_list) - 1):\n",
    "            if sorting_list[i] == min(sorting_list):\n",
    "                print (sorting_list[i])\n",
    "                sorted_list.append(sorting_list[i])\n",
    "                sorting_list.pop(i)\n",
    "    return sorted_list\n",
    "                \n",
    "def test_select_sort():\n",
    "    print(select_sort([7, 5, 9, 4, 8, 2, 6, 1, 3, 8, 15]))\n",
    "    if select_sort([7, 5, 9, 4, 8, 2, 6, 1, 3, 8, 15]) == ([1, 2, 3, 4, 5, 6, 7, 8, 8, 9, 15]):\n",
    "        print (\"passed\")\n",
    "    else:\n",
    "        assert False\n",
    "    \n",
    "test_select_sort()    "
   ]
  },
  {
   "cell_type": "code",
   "execution_count": 18,
   "id": "fb844161-fba2-4dfe-b95e-bf1c3f1bcc6f",
   "metadata": {},
   "outputs": [
    {
     "name": "stdout",
     "output_type": "stream",
     "text": [
      "1\n",
      "2\n",
      "3\n"
     ]
    },
    {
     "ename": "IndexError",
     "evalue": "list index out of range",
     "output_type": "error",
     "traceback": [
      "\u001b[0;31m---------------------------------------------------------------------------\u001b[0m",
      "\u001b[0;31mIndexError\u001b[0m                                Traceback (most recent call last)",
      "Cell \u001b[0;32mIn [18], line 20\u001b[0m\n\u001b[1;32m     17\u001b[0m     \u001b[38;5;28;01melse\u001b[39;00m:\n\u001b[1;32m     18\u001b[0m         \u001b[38;5;28;01massert\u001b[39;00m \u001b[38;5;28;01mFalse\u001b[39;00m\n\u001b[0;32m---> 20\u001b[0m \u001b[43mtest_select_sort\u001b[49m\u001b[43m(\u001b[49m\u001b[43m)\u001b[49m  \n",
      "Cell \u001b[0;32mIn [17], line 14\u001b[0m, in \u001b[0;36mtest_select_sort\u001b[0;34m()\u001b[0m\n\u001b[1;32m     13\u001b[0m \u001b[38;5;28;01mdef\u001b[39;00m \u001b[38;5;21mtest_select_sort\u001b[39m():\n\u001b[0;32m---> 14\u001b[0m     \u001b[38;5;28mprint\u001b[39m(\u001b[43mselect_sort\u001b[49m\u001b[43m(\u001b[49m\u001b[43m[\u001b[49m\u001b[38;5;241;43m7\u001b[39;49m\u001b[43m,\u001b[49m\u001b[43m \u001b[49m\u001b[38;5;241;43m5\u001b[39;49m\u001b[43m,\u001b[49m\u001b[43m \u001b[49m\u001b[38;5;241;43m9\u001b[39;49m\u001b[43m,\u001b[49m\u001b[43m \u001b[49m\u001b[38;5;241;43m4\u001b[39;49m\u001b[43m,\u001b[49m\u001b[43m \u001b[49m\u001b[38;5;241;43m8\u001b[39;49m\u001b[43m,\u001b[49m\u001b[43m \u001b[49m\u001b[38;5;241;43m2\u001b[39;49m\u001b[43m,\u001b[49m\u001b[43m \u001b[49m\u001b[38;5;241;43m6\u001b[39;49m\u001b[43m,\u001b[49m\u001b[43m \u001b[49m\u001b[38;5;241;43m1\u001b[39;49m\u001b[43m,\u001b[49m\u001b[43m \u001b[49m\u001b[38;5;241;43m3\u001b[39;49m\u001b[43m,\u001b[49m\u001b[43m \u001b[49m\u001b[38;5;241;43m8\u001b[39;49m\u001b[43m,\u001b[49m\u001b[43m \u001b[49m\u001b[38;5;241;43m15\u001b[39;49m\u001b[43m]\u001b[49m\u001b[43m)\u001b[49m)\n\u001b[1;32m     15\u001b[0m     \u001b[38;5;28;01mif\u001b[39;00m select_sort([\u001b[38;5;241m7\u001b[39m, \u001b[38;5;241m5\u001b[39m, \u001b[38;5;241m9\u001b[39m, \u001b[38;5;241m4\u001b[39m, \u001b[38;5;241m8\u001b[39m, \u001b[38;5;241m2\u001b[39m, \u001b[38;5;241m6\u001b[39m, \u001b[38;5;241m1\u001b[39m, \u001b[38;5;241m3\u001b[39m, \u001b[38;5;241m8\u001b[39m, \u001b[38;5;241m15\u001b[39m]) \u001b[38;5;241m==\u001b[39m ([\u001b[38;5;241m1\u001b[39m, \u001b[38;5;241m2\u001b[39m, \u001b[38;5;241m3\u001b[39m, \u001b[38;5;241m4\u001b[39m, \u001b[38;5;241m5\u001b[39m, \u001b[38;5;241m6\u001b[39m, \u001b[38;5;241m7\u001b[39m, \u001b[38;5;241m8\u001b[39m, \u001b[38;5;241m8\u001b[39m, \u001b[38;5;241m9\u001b[39m, \u001b[38;5;241m15\u001b[39m]):\n\u001b[1;32m     16\u001b[0m         \u001b[38;5;28mprint\u001b[39m (\u001b[38;5;124m\"\u001b[39m\u001b[38;5;124mpassed\u001b[39m\u001b[38;5;124m\"\u001b[39m)\n",
      "Cell \u001b[0;32mIn [16], line 7\u001b[0m, in \u001b[0;36mselect_sort\u001b[0;34m(sorting_list)\u001b[0m\n\u001b[1;32m      5\u001b[0m \u001b[38;5;28;01mfor\u001b[39;00m j \u001b[38;5;129;01min\u001b[39;00m \u001b[38;5;28mrange\u001b[39m(\u001b[38;5;28mlen\u001b[39m(sorting_list)):\n\u001b[1;32m      6\u001b[0m     \u001b[38;5;28;01mfor\u001b[39;00m i \u001b[38;5;129;01min\u001b[39;00m \u001b[38;5;28mrange\u001b[39m(\u001b[38;5;28mlen\u001b[39m(sorting_list) \u001b[38;5;241m-\u001b[39m \u001b[38;5;241m1\u001b[39m):\n\u001b[0;32m----> 7\u001b[0m         \u001b[38;5;28;01mif\u001b[39;00m \u001b[43msorting_list\u001b[49m\u001b[43m[\u001b[49m\u001b[43mi\u001b[49m\u001b[43m]\u001b[49m \u001b[38;5;241m==\u001b[39m \u001b[38;5;28mmin\u001b[39m(sorting_list):\n\u001b[1;32m      8\u001b[0m             \u001b[38;5;28mprint\u001b[39m (sorting_list[i])\n\u001b[1;32m      9\u001b[0m             sorted_list\u001b[38;5;241m.\u001b[39mappend(sorting_list[i])\n",
      "\u001b[0;31mIndexError\u001b[0m: list index out of range"
     ]
    }
   ],
   "source": [
    "# сортировка выбором\n",
    "sorting_list = [5,2,6,3,4,1]\n",
    "def select_sort_2(sorting_list):\n",
    "    if len(sorting_list) > 1:\n",
    "        for j in range(len(sorting_list) - 1):\n",
    "            for i in range(len(sorting_list) - 1):\n",
    "                if sorting_list[i] == max(sorting_list):\n",
    "                    max_element = sorting_list[i]\n",
    "                    sorting_list.pop(i)\n",
    "                    sorting_list.append()\n",
    "    return sorting_list\n",
    "                \n",
    "def test_select_sort_2():\n",
    "    print(select_sort([7, 5, 9, 4, 8, 2, 6, 1, 3, 8, 15]))\n",
    "    if select_sort([7, 5, 9, 4, 8, 2, 6, 1, 3, 8, 15]) == ([1, 2, 3, 4, 5, 6, 7, 8, 8, 9, 15]):\n",
    "        print (\"passed\")\n",
    "    else:\n",
    "        assert False\n",
    "    \n",
    "test_select_sort()  "
   ]
  },
  {
   "cell_type": "markdown",
   "id": "2c22e642-a83b-4bfb-9416-43332bccafa3",
   "metadata": {},
   "source": [
    "# сортировка выбором\n",
    "sorting_list = [5,2,3,4,1] <br>\n",
    "нахожу максимальное значение списка, определяю его индекс.<br>\n",
    "записываю максимальное значение в новую переменную,<br>\n",
    "удаляю индекс из сортируемого списка<br>\n",
    "добавляю  максимальное значение в новой переменной в конец списка.<br>\n",
    "\n",
    "\n",
    "нахожу минимальное значение списка, определяю его индекс.<br>\n",
    "добавляю минимальное значение в новый список,<br>\n",
    "удаляю индекс из списка сортировки<br>\n",
    "\n",
    "нахожу минимальное значение обрезанного списка, определяю его индекс.<br>\n",
    "добавляю минимальное значение в новый список,<br>\n",
    "удаляю индекс из списка сортировки<br>\n",
    "\n",
    "продолжаю, пока список не окажется пуст"
   ]
  },
  {
   "cell_type": "code",
   "execution_count": 3,
   "id": "ad1fc922-a971-42c2-8c1b-6644f6a2402d",
   "metadata": {},
   "outputs": [
    {
     "name": "stdout",
     "output_type": "stream",
     "text": [
      "passed\n"
     ]
    }
   ],
   "source": [
    "# сортировка выбором\n",
    "sorting_list = [5,2,6,3,4,1]\n",
    "def select_sort(sorting_list):\n",
    "    sorted_list = []\n",
    "    while sorting_list != []:\n",
    "        min_value = min(sorting_list)\n",
    "        min_value_index = sorting_list.index(min_value)\n",
    "        #print (min_value)\n",
    "        sorted_list.append(min_value)\n",
    "        sorting_list.pop(min_value_index)\n",
    "    return sorted_list\n",
    "                \n",
    "def test_select_sort():\n",
    "    #print(select_sort([7, 5, 9, 4, 8, 2, 6, 1, 3, 8, 15]))\n",
    "    if select_sort([7, 5, 9, 4, 8, 2, 6, 1, 3, 8, 15]) == ([1, 2, 3, 4, 5, 6, 7, 8, 8, 9, 15]):\n",
    "        print (\"passed\")\n",
    "    else:\n",
    "        assert False\n",
    "    \n",
    "test_select_sort()  "
   ]
  },
  {
   "cell_type": "code",
   "execution_count": null,
   "id": "3c5e04e6-486f-4651-bef2-348c0c6e709a",
   "metadata": {},
   "outputs": [],
   "source": []
  }
 ],
 "metadata": {
  "kernelspec": {
   "display_name": "Python 3 (ipykernel)",
   "language": "python",
   "name": "python3"
  },
  "language_info": {
   "codemirror_mode": {
    "name": "ipython",
    "version": 3
   },
   "file_extension": ".py",
   "mimetype": "text/x-python",
   "name": "python",
   "nbconvert_exporter": "python",
   "pygments_lexer": "ipython3",
   "version": "3.9.7"
  }
 },
 "nbformat": 4,
 "nbformat_minor": 5
}
