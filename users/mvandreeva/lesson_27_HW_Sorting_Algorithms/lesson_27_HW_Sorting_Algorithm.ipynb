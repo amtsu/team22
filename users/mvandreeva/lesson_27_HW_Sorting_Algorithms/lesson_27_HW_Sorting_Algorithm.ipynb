{
 "cells": [
  {
   "cell_type": "markdown",
   "id": "35827b0c-62ae-4da9-a3e5-1396828d6730",
   "metadata": {},
   "source": [
    "реализовать следующие популярные сортировки.<br>\n",
    "+пузырьковая сортировка,<br>\n",
    "+сортировка выбором,<br>\n",
    "+сортировка вставкой,<br>\n",
    "+сортировка Шелла,<br>\n",
    "быстрая сортировка,<br>\n",
    "сортировка слиянием,<br>\n",
    "сортировка подсчетом.<br>\n",
    "\n",
    "Но вы пойдете дальше и не просто реализуем алгоритмы, а еще:\n",
    "- напишите тесты\n",
    "- посчитаете количество операций\n",
    "- построите графики  зависимости количества операций от количества элементов в списке\n",
    "- поведете замеры времени выполнения сортировок\n",
    "- для каждого типа объектов, построите графики  зависимости времени сортировки от количества элементов в списке\n",
    "\n",
    "Типы объектов:\n",
    "- целые числа\n",
    "- строки\n",
    "- ваш собственный класс\n",
    "\n",
    "Размеры списков для визуализации зависимостей : 5, 10, 20, 50, 100, 300, 1000, 10000, 100000 (если на предыдущем шаге время сортировки было больше 5 секунд то сортировку списков с большим числом не надо делать."
   ]
  },
  {
   "cell_type": "code",
   "execution_count": 1,
   "id": "18e4f49d-a5ec-4ef3-a430-cc29dcc014eb",
   "metadata": {},
   "outputs": [],
   "source": [
    "from math import floor\n",
    "from count_time import count_time, count_timeit\n",
    "from inspect import getsource"
   ]
  },
  {
   "cell_type": "code",
   "execution_count": 2,
   "id": "9dd78eb0-f7b2-4269-a1ff-72a242b27b2b",
   "metadata": {},
   "outputs": [],
   "source": [
    "# пузырьковая сортировка\n",
    "def bubble_sort (sorting_list):\n",
    "    for j in range(len(sorting_list) - 1):\n",
    "        for i in range(len(sorting_list) - 1 - j):\n",
    "            if sorting_list[i] > sorting_list[i+1]:\n",
    "                sorting_list[i], sorting_list[i+1] = sorting_list[i+1], sorting_list[i]\n",
    "    return sorting_list"
   ]
  },
  {
   "cell_type": "code",
   "execution_count": 3,
   "id": "5f6c3ed2-f751-4b6e-96ac-7cc3aa4b3051",
   "metadata": {},
   "outputs": [
    {
     "name": "stdout",
     "output_type": "stream",
     "text": [
      "[1, 2, 3, 4, 5, 6, 7, 8, 8, 9]\n",
      "passed\n",
      "['a', 'c', 'd', 'e', 'g', 'm', 'o', 's', 'w', 'w']\n",
      "passed\n",
      "['D', 'M', 'W', 'a', 'c', 'e', 'g', 'o', 's', 'w']\n"
     ]
    }
   ],
   "source": [
    "# тест пузырьковой сортировки\n",
    "def test_bubble_sort_10_int():\n",
    "    print(bubble_sort([7, 5, 9, 4, 8, 2, 6, 1, 3, 8]))\n",
    "    if bubble_sort([7, 5, 9, 4, 8, 2, 6, 1, 3, 8]) == ([1, 2, 3, 4, 5, 6, 7, 8, 8, 9]):\n",
    "        print (\"passed\")\n",
    "    else:\n",
    "        assert False\n",
    "        \n",
    "test_bubble_sort_10_int()\n",
    "\n",
    "# print(sorted(['c', 'd', 'g', 'w', 'm', 'e', 'o', 'w', 's', 'a']))\n",
    "def test_bubble_sort_10_str():\n",
    "    print(bubble_sort(['c', 'd', 'g', 'w', 'm', 'e', 'o', 'w', 's', 'a']))\n",
    "    if bubble_sort(['c', 'd', 'g', 'w', 'm', 'e', 'o', 'w', 's', 'a']) == (['a', 'c', 'd', 'e', 'g', 'm', 'o', 's', 'w', 'w']):\n",
    "        print (\"passed\")\n",
    "    else:\n",
    "        assert False\n",
    "\n",
    "test_bubble_sort_10_str()\n",
    "\n",
    "# а вот с регистром не знаю, как быть...\n",
    "print(bubble_sort(['c', 'D', 'g', 'w', 'M', 'e', 'o', 'W', 's', 'a']))\n"
   ]
  },
  {
   "cell_type": "code",
   "execution_count": 4,
   "id": "7adf2abb-10ea-4a7b-a46c-cb55879fb418",
   "metadata": {},
   "outputs": [
    {
     "name": "stdout",
     "output_type": "stream",
     "text": [
      "Время выполнения 'time()' (10): 2.384185791015625e-07\n",
      "def bubble_sort (sorting_list):\n",
      "    for j in range(len(sorting_list) - 1):\n",
      "        for i in range(len(sorting_list) - 1 - j):\n",
      "            if sorting_list[i] > sorting_list[i+1]:\n",
      "                sorting_list[i], sorting_list[i+1] = sorting_list[i+1], sorting_list[i]\n",
      "    return sorting_list\n",
      "\n",
      "__________________\n",
      "__________________\n",
      "Время выполнения 'time()' (51): 4.76837158203125e-07\n"
     ]
    },
    {
     "data": {
      "text/plain": [
       "4.76837158203125e-07"
      ]
     },
     "execution_count": 4,
     "metadata": {},
     "output_type": "execute_result"
    }
   ],
   "source": [
    "# рассчет времени сортировки\n",
    "#def count_time(func, num):\n",
    "#    start = time() # время начала\n",
    "#    execution = func\n",
    "#    end = time() # время завершения\n",
    "#    print(f\"Время выполнения ({num}): {end - start}\") # время выполнения\n",
    "#    return f\"Время выполнения ({num}): {end - start}\"\n",
    "\n",
    "count_time(bubble_sort([7, 5, 9, 4, 8, 2, 6, 1, 3, 8]), len([7, 5, 9, 4, 8, 2, 6, 1, 3, 8]))\n",
    "\n",
    "print(getsource(bubble_sort))\n",
    "print(\"__________________\")\n",
    "# через timeit\n",
    "#count_timeit(bubble_sort, [7, 5, 9, 4, 8, 2, 6, 1, 3, 8]) # не работает\n",
    "#count_timeit(getsource(bubble_sort), [7, 5, 9, 4, 8, 2, 6, 1, 3, 8]) # не работает\n",
    "\n",
    "#test_code = \"\"\"\n",
    "#def bubble_sort (sorting_list):\n",
    "#    for j in range(len(sorting_list) - 1):\n",
    "#        for i in range(len(sorting_list) - 1 - j):\n",
    "#            if sorting_list[i] > sorting_list[i+1]:\n",
    "#                sorting_list[i], sorting_list[i+1] = sorting_list[i+1], sorting_list[i]\n",
    "#    return sorting_list\n",
    "#bubble_sort([7, 5, 9, 4, 8, 2, 6, 1, 3, 8, 15])\n",
    "#\"\"\"\n",
    "#total_time = timeit(test_code, number=1)\n",
    "#print(\"Execution time of the program is-\", total_time)\n",
    "\n",
    "print(\"__________________\")\n",
    "\n",
    "# время начала\n",
    "#start = time()\n",
    "#sorted_list_50 = bubble_sort([i for i in range(50, -1, -1)])\n",
    "# время завершения\n",
    "#end = time()\n",
    "# время выполнения\n",
    "#print(\"Время выполнения (51): \", (end - start))\n",
    "\n",
    "count_time(bubble_sort([i for i in range(50, -1, -1)]), len([i for i in range(50, -1, -1)]))"
   ]
  },
  {
   "cell_type": "markdown",
   "id": "2c22e642-a83b-4bfb-9416-43332bccafa3",
   "metadata": {},
   "source": [
    "# сортировка выбором\n",
    "sorting_list = [5,2,3,4,1] <br>\n",
    "нахожу максимальное значение списка, определяю его индекс.<br>\n",
    "записываю максимальное значение в новую переменную,<br>\n",
    "удаляю индекс из сортируемого списка<br>\n",
    "добавляю  максимальное значение в новой переменной в конец списка.<br>\n",
    "\n",
    "\n",
    "нахожу минимальное значение списка, определяю его индекс.<br>\n",
    "добавляю минимальное значение в новый список,<br>\n",
    "удаляю индекс из списка сортировки<br>\n",
    "\n",
    "нахожу минимальное значение обрезанного списка, определяю его индекс.<br>\n",
    "добавляю минимальное значение в новый список,<br>\n",
    "удаляю индекс из списка сортировки<br>\n",
    "\n",
    "продолжаю, пока список не окажется пуст"
   ]
  },
  {
   "cell_type": "code",
   "execution_count": 2,
   "id": "ad1fc922-a971-42c2-8c1b-6644f6a2402d",
   "metadata": {},
   "outputs": [],
   "source": [
    "# сортировка выбором\n",
    "sorting_list = [5,2,6,3,4,1]\n",
    "def select_sort(sorting_list):\n",
    "    sorted_list = []\n",
    "    while sorting_list != []:\n",
    "        min_value = min(sorting_list)\n",
    "        min_value_index = sorting_list.index(min_value)\n",
    "        #print (min_value)\n",
    "        sorted_list.append(min_value)\n",
    "        sorting_list.pop(min_value_index)\n",
    "    return sorted_list"
   ]
  },
  {
   "cell_type": "code",
   "execution_count": 3,
   "id": "577f9f87-aed7-48e7-a471-a375e216a87d",
   "metadata": {},
   "outputs": [
    {
     "name": "stdout",
     "output_type": "stream",
     "text": [
      "passed\n",
      "passed\n"
     ]
    }
   ],
   "source": [
    "# тест сортировки выбором\n",
    "def test_select_sort_10_int():\n",
    "    #print(select_sort([7, 5, 9, 4, 8, 2, 6, 1, 3, 8]))\n",
    "    if select_sort([7, 5, 9, 4, 8, 2, 6, 1, 3, 8]) == ([1, 2, 3, 4, 5, 6, 7, 8, 8, 9]):\n",
    "        print (\"passed\")\n",
    "    else:\n",
    "        assert False\n",
    "    \n",
    "test_select_sort_10_int() \n",
    "\n",
    "def test_select_sort_10_str():\n",
    "    #print(select_sort(['c', 'd', 'g', 'w', 'm', 'e', 'o', 'w', 's', 'a']))\n",
    "    if select_sort(['c', 'd', 'g', 'w', 'm', 'e', 'o', 'w', 's', 'a']) == (['a', 'c', 'd', 'e', 'g', 'm', 'o', 's', 'w', 'w']):\n",
    "        print (\"passed\")\n",
    "    else:\n",
    "        assert False\n",
    "\n",
    "test_select_sort_10_str()"
   ]
  },
  {
   "cell_type": "code",
   "execution_count": 4,
   "id": "9f81e132-b538-42aa-99da-2976d24961dc",
   "metadata": {},
   "outputs": [
    {
     "name": "stdout",
     "output_type": "stream",
     "text": [
      "Время выполнения 'time()' (10): 2.384185791015625e-07\n",
      "Время выполнения 'time()' (str:10): 2.384185791015625e-07\n"
     ]
    },
    {
     "data": {
      "text/plain": [
       "2.384185791015625e-07"
      ]
     },
     "execution_count": 4,
     "metadata": {},
     "output_type": "execute_result"
    }
   ],
   "source": [
    "# рассчет времени выполнения\n",
    "count_time(select_sort([7, 5, 9, 4, 8, 2, 6, 1, 3, 8]), len([7, 5, 9, 4, 8, 2, 6, 1, 3, 8]))\n",
    "\n",
    "count_time(select_sort(['c', 'd', 'g', 'w', 'm', 'e', 'o', 'w', 's', 'a']), f\"str:{len(['c', 'd', 'g', 'w', 'm', 'e', 'o', 'w', 's', 'a'])}\")\n"
   ]
  },
  {
   "cell_type": "markdown",
   "id": "c7fad471-61d0-43e7-bda6-2a1474becea1",
   "metadata": {},
   "source": [
    "_________"
   ]
  },
  {
   "cell_type": "markdown",
   "id": "ef928226-5ebd-4044-928e-a0c914796189",
   "metadata": {},
   "source": [
    "# сортировка вставкой # неудачный алгоритм\n",
    "есть список.<br>\n",
    "создаем пустой список.<br>\n",
    "беру последний элемент сортируемого списка, [-1], <br>\n",
    "вырезаю его из списка.<br>\n",
    "вставляю в пустой список.<br>\n",
    "беру последний элемент сортируемого списка (уменьшенного)<br>\n",
    "вырезаю его из списка.<br>\n",
    "если элемент > элемента в отсортированном списке - вставляю в конец<br>\n",
    "если элемент < элемента в отсортированном списке - вставляю в начало<br>\n",
    "если элемент равен элемента в отсортированном списке (без разницы, но пусть будет правее)<br>\n",
    "беру последний элемент сортируемого списка (уменьшенного)<br>\n",
    "вырезаю его из списка.<br>\n",
    "сравниваю его со всеми элементами отсортированного массиваесли он:<br>\n",
    "    если > - сравниваю со следующим ... пока не закончится длина списка.<br>\n",
    "        если отсортированный список закончился, а элемент > всех - вставляем в конец<br>\n",
    "        если элемент < элемента [i] в списке, то вставляем на позиции [i - 1]<br>\n",
    "    если < элемента отсортированного списка - то вставляю в начало<br>\n",
    "    если = элемента [i] отсортированного списка - то вставляю в [i+1]<br>\n"
   ]
  },
  {
   "cell_type": "code",
   "execution_count": 17,
   "id": "655810f8-2673-4703-a382-6311370d617e",
   "metadata": {},
   "outputs": [],
   "source": [
    "# сортировка вставкой - неудачный\n",
    "sorting_list = [5,2,6,3,4,1]\n",
    "\n",
    "def insert_sort(sorting_list):\n",
    "    sorted_list = []\n",
    "    while sorting_list != []:\n",
    "        inserting_element = sorting_list[-1]      \n",
    "        if len(sorted_list) == 0:\n",
    "            sorted_list.append(inserting_element)\n",
    "        else:\n",
    "            for i in range(len(sorted_list)):\n",
    "                if i < len(sorted_list): #?????????????\n",
    "                    if inserting_element <= sorted_list[i]:\n",
    "                        sorted_list.insert(i, inserting_element)\n",
    "                        break\n",
    "                    else: \n",
    "                        #sorted_list.append(inserting_element)\n",
    "                        i = i + 1\n",
    "                else: \n",
    "                    sorted_list.append(inserting_element)\n",
    "        sorting_list.pop()\n",
    "    return sorted_list"
   ]
  },
  {
   "cell_type": "code",
   "execution_count": 18,
   "id": "91f710f9-1240-46c9-b82c-a73cea17efac",
   "metadata": {},
   "outputs": [
    {
     "ename": "AssertionError",
     "evalue": "",
     "output_type": "error",
     "traceback": [
      "\u001b[0;31m---------------------------------------------------------------------------\u001b[0m",
      "\u001b[0;31mAssertionError\u001b[0m                            Traceback (most recent call last)",
      "Cell \u001b[0;32mIn [20], line 9\u001b[0m\n\u001b[1;32m      6\u001b[0m     \u001b[38;5;28;01melse\u001b[39;00m:\n\u001b[1;32m      7\u001b[0m         \u001b[38;5;28;01massert\u001b[39;00m \u001b[38;5;28;01mFalse\u001b[39;00m\n\u001b[0;32m----> 9\u001b[0m \u001b[43mtest_insert_sort_10_int\u001b[49m\u001b[43m(\u001b[49m\u001b[43m)\u001b[49m  \n\u001b[1;32m     11\u001b[0m \u001b[38;5;28;01mdef\u001b[39;00m \u001b[38;5;21mtest_insert_sort_10_str\u001b[39m():\n\u001b[1;32m     12\u001b[0m     \u001b[38;5;28mprint\u001b[39m(insert_sort([\u001b[38;5;124m'\u001b[39m\u001b[38;5;124mc\u001b[39m\u001b[38;5;124m'\u001b[39m, \u001b[38;5;124m'\u001b[39m\u001b[38;5;124md\u001b[39m\u001b[38;5;124m'\u001b[39m, \u001b[38;5;124m'\u001b[39m\u001b[38;5;124mg\u001b[39m\u001b[38;5;124m'\u001b[39m, \u001b[38;5;124m'\u001b[39m\u001b[38;5;124mw\u001b[39m\u001b[38;5;124m'\u001b[39m, \u001b[38;5;124m'\u001b[39m\u001b[38;5;124mm\u001b[39m\u001b[38;5;124m'\u001b[39m, \u001b[38;5;124m'\u001b[39m\u001b[38;5;124me\u001b[39m\u001b[38;5;124m'\u001b[39m, \u001b[38;5;124m'\u001b[39m\u001b[38;5;124mo\u001b[39m\u001b[38;5;124m'\u001b[39m, \u001b[38;5;124m'\u001b[39m\u001b[38;5;124mw\u001b[39m\u001b[38;5;124m'\u001b[39m, \u001b[38;5;124m'\u001b[39m\u001b[38;5;124ms\u001b[39m\u001b[38;5;124m'\u001b[39m, \u001b[38;5;124m'\u001b[39m\u001b[38;5;124ma\u001b[39m\u001b[38;5;124m'\u001b[39m]))\n",
      "Cell \u001b[0;32mIn [20], line 7\u001b[0m, in \u001b[0;36mtest_insert_sort_10_int\u001b[0;34m()\u001b[0m\n\u001b[1;32m      5\u001b[0m     \u001b[38;5;28mprint\u001b[39m (\u001b[38;5;124m\"\u001b[39m\u001b[38;5;124mpassed\u001b[39m\u001b[38;5;124m\"\u001b[39m)\n\u001b[1;32m      6\u001b[0m \u001b[38;5;28;01melse\u001b[39;00m:\n\u001b[0;32m----> 7\u001b[0m     \u001b[38;5;28;01massert\u001b[39;00m \u001b[38;5;28;01mFalse\u001b[39;00m\n",
      "\u001b[0;31mAssertionError\u001b[0m: "
     ]
    }
   ],
   "source": [
    "# тест сортировки вставкой\n",
    "def test_insert_sort_10_int():\n",
    "    #print(insert_sort([7, 5, 9, 4, 8, 2, 6, 1, 3, 8, 15]))\n",
    "    if insert_sort([7, 5, 9, 4, 8, 2, 6, 1, 3, 8, 15]) == ([1, 2, 3, 4, 5, 6, 7, 8, 8, 9, 15]):\n",
    "        print (\"passed\")\n",
    "    else:\n",
    "        assert False\n",
    "    \n",
    "test_insert_sort_10_int()  \n",
    "\n",
    "def test_insert_sort_10_str():\n",
    "    print(insert_sort(['c', 'd', 'g', 'w', 'm', 'e', 'o', 'w', 's', 'a']))\n",
    "    if insert_sort(['c', 'd', 'g', 'w', 'm', 'e', 'o', 'w', 's', 'a']) == (['a', 'c', 'd', 'e', 'g', 'm', 'o', 's', 'w', 'w']):\n",
    "        print (\"passed\")\n",
    "    else:\n",
    "        assert False\n",
    "\n",
    "test_insert_sort_10_str()"
   ]
  },
  {
   "cell_type": "code",
   "execution_count": 9,
   "id": "3d76ac07-b9b0-4294-9e0b-c3b0df6983fa",
   "metadata": {},
   "outputs": [
    {
     "name": "stdout",
     "output_type": "stream",
     "text": [
      "Время выполнения 'time()' (10): 2.384185791015625e-07\n",
      "Время выполнения 'time()' (str:10): 0.0\n"
     ]
    },
    {
     "data": {
      "text/plain": [
       "0.0"
      ]
     },
     "execution_count": 9,
     "metadata": {},
     "output_type": "execute_result"
    }
   ],
   "source": [
    "# рассчет времени выполнения\n",
    "count_time(insert_sort([7, 5, 9, 4, 8, 2, 6, 1, 3, 8]), len([7, 5, 9, 4, 8, 2, 6, 1, 3, 8]))\n",
    "\n",
    "count_time(insert_sort(['c', 'd', 'g', 'w', 'm', 'e', 'o', 'w', 's', 'a']), f\"str:{len(['c', 'd', 'g', 'w', 'm', 'e', 'o', 'w', 's', 'a'])}\")\n"
   ]
  },
  {
   "cell_type": "markdown",
   "id": "5168ba46-c9a3-4be7-a355-6420a7f48b9d",
   "metadata": {},
   "source": []
  },
  {
   "cell_type": "code",
   "execution_count": 2,
   "id": "a50bf877-391d-4414-8121-d93c7eae029e",
   "metadata": {},
   "outputs": [],
   "source": [
    "# Сортировка вставками - рабочая версия\n",
    "def insert_sort(sorting_list):\n",
    "    j = 1\n",
    "    while j < len(sorting_list):\n",
    "        current_element = sorting_list[j]\n",
    "        a = 0\n",
    "        for i in range((j-1), -1, -1): \n",
    "            if current_element < sorting_list[i]:\n",
    "                sorting_list[i], sorting_list[j - a] = sorting_list[j - a], sorting_list[i]\n",
    "                a += 1\n",
    "            else:\n",
    "                continue\n",
    "        j = j + 1\n",
    "    return sorting_list"
   ]
  },
  {
   "cell_type": "code",
   "execution_count": 3,
   "id": "83df40e5-6ec2-4ed7-8a6b-dcf0f517c495",
   "metadata": {},
   "outputs": [
    {
     "name": "stdout",
     "output_type": "stream",
     "text": [
      "passed\n",
      "['a', 'c', 'd', 'e', 'g', 'm', 'o', 's', 'w', 'w']\n",
      "passed\n"
     ]
    }
   ],
   "source": [
    "# тест сортировки вставкой\n",
    "def test_insert_sort_10_int():\n",
    "    #print(insert_sort([7, 5, 9, 4, 8, 2, 6, 1, 3, 8, 15]))\n",
    "    if insert_sort([7, 5, 9, 4, 8, 2, 6, 1, 3, 8, 15]) == ([1, 2, 3, 4, 5, 6, 7, 8, 8, 9, 15]):\n",
    "        print (\"passed\")\n",
    "    else:\n",
    "        assert False\n",
    "    \n",
    "test_insert_sort_10_int()  \n",
    "\n",
    "def test_insert_sort_10_str():\n",
    "    print(insert_sort(['c', 'd', 'g', 'w', 'm', 'e', 'o', 'w', 's', 'a']))\n",
    "    if insert_sort(['c', 'd', 'g', 'w', 'm', 'e', 'o', 'w', 's', 'a']) == (['a', 'c', 'd', 'e', 'g', 'm', 'o', 's', 'w', 'w']):\n",
    "        print (\"passed\")\n",
    "    else:\n",
    "        assert False\n",
    "\n",
    "test_insert_sort_10_str()"
   ]
  },
  {
   "cell_type": "code",
   "execution_count": 4,
   "id": "f3fcdcf6-e549-4bd5-a16e-201b00d1b899",
   "metadata": {},
   "outputs": [
    {
     "name": "stdout",
     "output_type": "stream",
     "text": [
      "Время выполнения 'time()' (10): 2.384185791015625e-07\n",
      "Время выполнения 'time()' (str:10): 2.384185791015625e-07\n"
     ]
    },
    {
     "data": {
      "text/plain": [
       "2.384185791015625e-07"
      ]
     },
     "execution_count": 4,
     "metadata": {},
     "output_type": "execute_result"
    }
   ],
   "source": [
    "# рассчет времени выполнения\n",
    "count_time(insert_sort([7, 5, 9, 4, 8, 2, 6, 1, 3, 8]), len([7, 5, 9, 4, 8, 2, 6, 1, 3, 8]))\n",
    "\n",
    "count_time(insert_sort(['c', 'd', 'g', 'w', 'm', 'e', 'o', 'w', 's', 'a']), f\"str:{len(['c', 'd', 'g', 'w', 'm', 'e', 'o', 'w', 's', 'a'])}\")\n"
   ]
  },
  {
   "cell_type": "markdown",
   "id": "be0fc2fe-9bd8-4b09-88ce-256e64b511d1",
   "metadata": {},
   "source": [
    "# сортировка Шелла\n",
    "\n",
    "Максимальный шаг N/2^k, k>=1, N - число элементов (длина) списка. <br>\n",
    "1 Берем сортируемый список, находим длину этого списка.<br>\n",
    "2 Рассчитываем шаг для первой итерации сортировки N/2, k = 1, берем целую часть step = floor(N/2^1).<br>\n",
    "3 Сравниваем элементы списка, соответствующие граничным значениям интервала сортировки ([step+j] и [-step]) j = 0.<br>\n",
    "4 Если впереди стоящий элемент > стоящего после - меняем их местами.<br>\n",
    "5 Если впереди стоящий элемент < стоящего после - continue<br>\n",
    "6 Переходим к следующему элементу списка (j+1) [step+j], сравниваем его с элементом  [(step+j)-step] j = 1.<br>\n",
    "7 Если впереди стоящий элемент > стоящего после - меняем их местами.<br>\n",
    "8 Если впереди стоящий элемент < стоящего после - continue.<br>\n",
    "9 Продолжаем пока индекс проверяемого элемента [step+j] меньше < len(списка).<br>\n",
    "<br>\n",
    "10 Изменяем шаг для второй итеррации сортировки: k+1 (step = floor(N/2^2))<br>\n",
    "11 Сравниваем элементы списка, соответствующие граничным значениям интервала сортировки ([step+j] и [-step]) j = 0<br>\n",
    "12 Если впереди стоящий элемент > стоящего после - меняем их местами.<br>\n",
    "13 Если впереди стоящий элемент < стоящего после - continue<br>\n",
    "14 Переходим к следующему элементу списка (j+1) [step+j], \n",
    "сравниваем с элементами, индекс которых в диапазоне range(step+j 'текущий индекс',0,-step): <br>\n",
    "    14.1 записываем значение el[step+j] в переменную compared_el<br>\n",
    "    14.2 compared_el < el[step+j-step] меняем местами<br>\n",
    "    14.3 compared_el > el[step+j-step] оставляем на своем месте<br>\n",
    "    14.4 compared_el < el[step+j-2*step] меняем местами<br>\n",
    "    14.5 compared_el > el[step+j-2*step] меняем местами<br>\n",
    "    14.6 останавливаемся, когда закончатся элементы, стоящии перед el[i] с шагом -step (i 'текущий индекс',0,-step).<br>\n",
    "15 Переходим к следующему элементу, повторяем п.14-14.6<br>\n",
    "16 Останавливаемся когда step < 1<br>\n",
    "<br>\n",
    "<br><br>"
   ]
  },
  {
   "cell_type": "code",
   "execution_count": 6,
   "id": "ebb505d7-bc88-4f9e-ade4-cf48a3c82300",
   "metadata": {},
   "outputs": [],
   "source": [
    "# range(старт, стоп, шаг)\n",
    "def shell_sort(sorting_list):\n",
    "    n = len(sorting_list)\n",
    "    k = 1\n",
    "    step = floor(n/(2**k))\n",
    "    while step >= 1:\n",
    "        j = 0\n",
    "        while (step+j) < n:\n",
    "            current_element = sorting_list[step+j]\n",
    "            a = 0\n",
    "            for i in range((j), -1, (-step)): # range((step+j-step), 0, (-step)) беру не текущий элемент, а левый от него через step\n",
    "                if current_element < sorting_list[i]:\n",
    "                    sorting_list[i], sorting_list[step + j - (a*step)] = sorting_list[step + j - (a*step)], sorting_list[i]\n",
    "                    a += 1\n",
    "                else:\n",
    "                    continue\n",
    "            j = j + 1\n",
    "        k = k + 1\n",
    "        step = floor(n/(2**k))\n",
    "    return sorting_list\n",
    "    "
   ]
  },
  {
   "cell_type": "code",
   "execution_count": 7,
   "id": "55cab434-be3e-4fb5-bb75-901baabf25c6",
   "metadata": {},
   "outputs": [
    {
     "name": "stdout",
     "output_type": "stream",
     "text": [
      "[1, 2, 3, 4, 5, 6, 7, 8, 8, 9]\n",
      "passed\n",
      "['a', 'c', 'd', 'e', 'g', 'm', 'o', 's', 'w', 'w']\n",
      "passed\n"
     ]
    }
   ],
   "source": [
    "# тест сортировки Шелла\n",
    "def test_shell_sort_10_int():\n",
    "    print(shell_sort([7, 5, 9, 4, 8, 2, 6, 1, 3, 8]))\n",
    "    if shell_sort([7, 5, 9, 4, 8, 2, 6, 1, 3, 8]) == ([1, 2, 3, 4, 5, 6, 7, 8, 8, 9]):\n",
    "        print (\"passed\")\n",
    "    else:\n",
    "        assert False\n",
    "    \n",
    "test_shell_sort_10_int() \n",
    "\n",
    "def test_shell_sort_10_str():\n",
    "    print(shell_sort(['c', 'd', 'g', 'w', 'm', 'e', 'o', 'w', 's', 'a']))\n",
    "    if shell_sort(['c', 'd', 'g', 'w', 'm', 'e', 'o', 'w', 's', 'a']) == (['a', 'c', 'd', 'e', 'g', 'm', 'o', 's', 'w', 'w']):\n",
    "        print (\"passed\")\n",
    "    else:\n",
    "        assert False\n",
    "\n",
    "test_shell_sort_10_str()"
   ]
  },
  {
   "cell_type": "code",
   "execution_count": 11,
   "id": "b9b91126-9324-4b30-8b1e-100d92d6b0a6",
   "metadata": {},
   "outputs": [
    {
     "name": "stdout",
     "output_type": "stream",
     "text": [
      "[0, 1, 2, 3, 4, 5, 6, 7, 8, 9, 10, 11, 12, 13, 14, 15, 16, 17, 18, 19, 20, 21, 22, 23, 24, 25, 26, 27, 28, 29, 30, 31, 32, 33, 34, 35, 36, 37, 38, 39, 40, 41, 42, 43, 44, 45, 46, 47, 48, 49, 50]\n",
      "passed\n",
      "Время выполнения 'time()' (51): 2.384185791015625e-07\n"
     ]
    },
    {
     "data": {
      "text/plain": [
       "2.384185791015625e-07"
      ]
     },
     "execution_count": 11,
     "metadata": {},
     "output_type": "execute_result"
    }
   ],
   "source": [
    "def test_shell_sort():\n",
    "    print(shell_sort([i for i in range(50, -1, -1)]))\n",
    "    if shell_sort([i for i in range(50, -1, -1)]) == ([i for i in range(51)]):\n",
    "        print (\"passed\")\n",
    "    else:\n",
    "        assert False\n",
    "    \n",
    "test_shell_sort() \n",
    "count_time(shell_sort([i for i in range(50, -1, -1)]), len([i for i in range(50, -1, -1)]))"
   ]
  },
  {
   "cell_type": "code",
   "execution_count": 8,
   "id": "9ee8d794-c057-43f4-83c0-f24fe90a168a",
   "metadata": {},
   "outputs": [
    {
     "name": "stdout",
     "output_type": "stream",
     "text": [
      "Время выполнения 'time()' (10): 2.384185791015625e-07\n",
      "Время выполнения 'time()' (str:10): 2.384185791015625e-07\n"
     ]
    },
    {
     "data": {
      "text/plain": [
       "2.384185791015625e-07"
      ]
     },
     "execution_count": 8,
     "metadata": {},
     "output_type": "execute_result"
    }
   ],
   "source": [
    "# рассчет времени выполнения\n",
    "count_time(shell_sort([7, 5, 9, 4, 8, 2, 6, 1, 3, 8]), len([7, 5, 9, 4, 8, 2, 6, 1, 3, 8]))\n",
    "\n",
    "count_time(shell_sort(['c', 'd', 'g', 'w', 'm', 'e', 'o', 'w', 's', 'a']), f\"str:{len(['c', 'd', 'g', 'w', 'm', 'e', 'o', 'w', 's', 'a'])}\")\n"
   ]
  },
  {
   "cell_type": "code",
   "execution_count": 8,
   "id": "5db4a36c-7583-447d-a2ab-9d555f626960",
   "metadata": {},
   "outputs": [
    {
     "name": "stdout",
     "output_type": "stream",
     "text": [
      "0\n"
     ]
    }
   ],
   "source": [
    "#for i in range(0,-1,-3):\n",
    "#    print(i)"
   ]
  },
  {
   "cell_type": "code",
   "execution_count": null,
   "id": "79eee4a9-4986-413d-925b-ce36fd1be63e",
   "metadata": {},
   "outputs": [],
   "source": []
  }
 ],
 "metadata": {
  "kernelspec": {
   "display_name": "Python 3 (ipykernel)",
   "language": "python",
   "name": "python3"
  },
  "language_info": {
   "codemirror_mode": {
    "name": "ipython",
    "version": 3
   },
   "file_extension": ".py",
   "mimetype": "text/x-python",
   "name": "python",
   "nbconvert_exporter": "python",
   "pygments_lexer": "ipython3",
   "version": "3.9.7"
  }
 },
 "nbformat": 4,
 "nbformat_minor": 5
}
