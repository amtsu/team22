{
 "cells": [
  {
   "cell_type": "markdown",
   "id": "148a67cf-f3d5-4175-898e-a2201786ac66",
   "metadata": {},
   "source": [
    "# Создайте классы"
   ]
  },
  {
   "cell_type": "markdown",
   "id": "23644a8e-64cf-44a7-b736-1140e424d556",
   "metadata": {},
   "source": [
    "1. Создайте класс Car, который представляет автомобиль. У него должны быть атрибуты для хранения модели, года выпуска, цвета, количества дверей и текущей скорости. Добавьте методы которые возвращают год, марку, цвет и текущую скорость автомобиля."
   ]
  },
  {
   "cell_type": "code",
   "execution_count": 3,
   "id": "cd64a101-ee0d-4642-93a7-dde9bcf03e73",
   "metadata": {},
   "outputs": [
    {
     "name": "stdout",
     "output_type": "stream",
     "text": [
      "1972\n",
      "ВАЗ-2101\n",
      "red\n",
      "0\n"
     ]
    }
   ],
   "source": [
    "class Car:\n",
    "    \"\"\"\n",
    "    Класс представляет собой автомобиль.\n",
    "    Имеет атрибуты для хранения модели, года выпуска, цвета, количества дверей и текущей скорости,\n",
    "    методы которые возвращают год, марку, цвет и текущую скорость автомобиля\n",
    "    \"\"\"\n",
    "    def __init__(self, model, year, color, doors_num, current_speed = 0):\n",
    "        self.__model = model\n",
    "        self.__year = year\n",
    "        self.__color = color\n",
    "        self.__doors_num = doors_num\n",
    "        self.__current_speed = current_speed\n",
    "\n",
    "    def year(self):\n",
    "        return self.__year\n",
    "\n",
    "    def model(self):\n",
    "        return self.__model    \n",
    "\n",
    "    def color(self):\n",
    "        return self.__color\n",
    "\n",
    "    def current_speed(self):\n",
    "        return self.__current_speed\n",
    "\n",
    "my_car = Car(\"ВАЗ-2101\", 1972, \"red\", 4, 0)\n",
    "print(my_car.year())\n",
    "print(my_car.model())\n",
    "print(my_car.color())\n",
    "print(my_car.current_speed())\n"
   ]
  },
  {
   "cell_type": "markdown",
   "id": "c43d2bd0-de35-4b4d-a61c-c80515a4e778",
   "metadata": {},
   "source": [
    "2. Создайте класс Student, который представляет студент. У него должны быть атрибуты для хранения имени, фамилии, возраста, адреса и список оценок."
   ]
  },
  {
   "cell_type": "code",
   "execution_count": 5,
   "id": "1fb68b75-6bd2-47ac-a61b-6639c4d8eb31",
   "metadata": {},
   "outputs": [],
   "source": [
    "class Student:\n",
    "\n",
    "    def __init__(self, name, surname, age, address, record_book = []):\n",
    "        self.__name = name\n",
    "        self.__surname = surname\n",
    "        self.__age = age\n",
    "        self.__address = address\n",
    "        self.__record_book = record_book\n",
    "\n",
    "new_student = Student(\"Vasya\", \"Semenov\", 18, \"Moscow, lubyanka 1\")"
   ]
  },
  {
   "cell_type": "markdown",
   "id": "77f19efc-3227-4401-8f11-f3cac3c068dd",
   "metadata": {},
   "source": [
    "3. Создайте класс Book, который представляет книгу. У него должны быть атрибуты для хранения названия, автора, количества страниц и издательства. Добавьте методы для установки и получения этих атрибутов."
   ]
  },
  {
   "cell_type": "code",
   "execution_count": 6,
   "id": "6b149085-d391-44e4-b8ac-f1d46bf2296a",
   "metadata": {},
   "outputs": [
    {
     "name": "stdout",
     "output_type": "stream",
     "text": [
      "Как я изучала Python\n",
      "Я-я\n",
      "365\n",
      "AndroMary_PuB\n"
     ]
    }
   ],
   "source": [
    "class Book:\n",
    "\n",
    "    def __init__(self):\n",
    "        self.__title = \"\"\n",
    "        self.__author = \"\"\n",
    "        self.__pages_num = 0\n",
    "        self.__publisher = \"\"\n",
    "\n",
    "    def set_title(self, title):\n",
    "        self.__title = title\n",
    "\n",
    "    def set_author(self, author):\n",
    "        self.__author = author \n",
    "\n",
    "    def set_pages_num(self, pages_num):\n",
    "        self.__pages_num = pages_num\n",
    "\n",
    "    def set_publisher(self, publisher):\n",
    "        self.__publisher = publisher \n",
    "\n",
    "    def get_title(self, title):\n",
    "        return self.__title\n",
    "\n",
    "    def get_author(self, author):\n",
    "        return self.__author \n",
    "\n",
    "    def get_pages_num(self, pages_num):\n",
    "        return self.__pages_num\n",
    "\n",
    "    def get_publisher(self, publisher):\n",
    "        return self.__publisher\n",
    "\n",
    "my_book = Book()\n",
    "my_book.set_title(\"Как я изучала Python\")\n",
    "my_book.set_author(\"Я-я\")\n",
    "my_book.set_pages_num(365)\n",
    "my_book.set_publisher(\"AndroMary_PuB\")\n",
    "print(my_book.get_title(\"Как я изучала Python\"))\n",
    "print(my_book.get_author(\"Я-я\"))\n",
    "print(my_book.get_pages_num(365))\n",
    "print(my_book.get_publisher(\"AndroMary_PuB\"))"
   ]
  },
  {
   "cell_type": "markdown",
   "id": "c0262c46-df82-43aa-bb2c-728c1ba9bbd0",
   "metadata": {},
   "source": [
    "4. Создайте класс ShoppingCart, который представляет корзину покупок. У него должен быть атрибут для хранения списка товаров. Добавьте методы для добавления, удаления, отображения товаров в корзине и вычиckbnt стоимости всей корзины."
   ]
  },
  {
   "cell_type": "code",
   "execution_count": 7,
   "id": "ba40f81e-cf3b-403b-9f2f-b947e6d5bfbc",
   "metadata": {},
   "outputs": [
    {
     "name": "stdout",
     "output_type": "stream",
     "text": [
      "{'chocolate': 3, 'milk': 1, 'pizza': 1, 'bread': 1}\n",
      "==============================\n",
      "{'chocolate': 3, 'milk': 1, 'pizza': 1}\n",
      "==============================\n",
      "1270\n"
     ]
    }
   ],
   "source": [
    "class ShoppingCart:\n",
    "\n",
    "    def __init__(self):\n",
    "        self.__goods_list = {}\n",
    "        self.__pricelist = {}\n",
    "\n",
    "    def add_to_cart(self, goods_name, num = 1):\n",
    "        if goods_name in self.__goods_list:\n",
    "            self.__goods_list[goods_name] += num\n",
    "        else:\n",
    "            self.__goods_list[goods_name] = num\n",
    "\n",
    "    def del_from_cart(self, goods_name, num = 1):\n",
    "        if goods_name in self.__goods_list and self.__goods_list[goods_name] > num:\n",
    "            self.__goods_list[goods_name] -= num\n",
    "        elif goods_name in self.__goods_list and self.__goods_list[goods_name] <= num:\n",
    "            self.__goods_list.pop(goods_name)\n",
    "\n",
    "    def show_cart(self):\n",
    "        return self.__goods_list\n",
    "\n",
    "    def set_pricelist(self, price_dict):\n",
    "        self.__pricelist = price_dict\n",
    "\n",
    "    def count_cost(self):\n",
    "        total_cost = 0\n",
    "        if self.__pricelist and self.__goods_list:\n",
    "            for good in self.__goods_list:\n",
    "                total_cost += self.__goods_list[good] * self.__pricelist[good]\n",
    "        return total_cost\n",
    "\n",
    "pricelist = {\"chocolate\": 110, \"milk\": 90, \"pizza\": 850, \"bread\": 59}\n",
    "any_cart = ShoppingCart()\n",
    "any_cart.add_to_cart(\"chocolate\", 3)\n",
    "any_cart.add_to_cart(\"milk\", 1)\n",
    "any_cart.add_to_cart(\"pizza\", 1)\n",
    "any_cart.add_to_cart(\"bread\", 1)\n",
    "print(any_cart.show_cart())\n",
    "print(\"=\"*30)\n",
    "any_cart.del_from_cart(\"bread\")\n",
    "print(any_cart.show_cart())\n",
    "print(\"=\"*30)\n",
    "any_cart.set_pricelist(pricelist)\n",
    "print(any_cart.count_cost())\n",
    "        "
   ]
  },
  {
   "cell_type": "markdown",
   "id": "432cf6e3-ca93-43e4-9a48-e59bb4d6abd8",
   "metadata": {},
   "source": [
    "5. Создайте класс Circle, который представляет круг. У него должен быть атрибут для хранения радиуса и цвета. Добавьте методы для вычисления площади и периметра круга."
   ]
  },
  {
   "cell_type": "code",
   "execution_count": 4,
   "id": "d6951fc1-bb8e-49f7-93ef-68999a229e69",
   "metadata": {},
   "outputs": [
    {
     "name": "stdout",
     "output_type": "stream",
     "text": [
      "50.24\n",
      "25.12\n"
     ]
    }
   ],
   "source": [
    "class Circle:\n",
    "    \"\"\"\n",
    "    Класс, который представляет круг. \n",
    "    Имеет атрибуты для хранения радиуса и цвета. \n",
    "    Имеет методы для вычисления площади и периметра круга.\n",
    "    \"\"\"\n",
    "\n",
    "    def __init__(self, radius, color):\n",
    "        self.__radius = radius\n",
    "        self.__color = color\n",
    "\n",
    "    def count_area(self):\n",
    "        return 3.14 * (self.__radius ** 2)\n",
    "\n",
    "    def count_perimeter(self):\n",
    "        return 2 * 3.14 * self.__radius\n",
    "\n",
    "new_circle = Circle(4, 'red')\n",
    "print(new_circle.count_area())\n",
    "print(new_circle.count_perimeter())\n"
   ]
  },
  {
   "cell_type": "markdown",
   "id": "5ecd4418-059e-4fe8-a125-da74ce98fefd",
   "metadata": {},
   "source": [
    "6. Создайте класс Point, который представляет точку в двумерном пространстве. У него должны быть атрибуты для хранения координат x и y. Добавьте методы для вычисления расстояния между двумя точками."
   ]
  },
  {
   "cell_type": "code",
   "execution_count": 5,
   "id": "c44689ad-fa68-4405-861e-14225f5d0109",
   "metadata": {},
   "outputs": [
    {
     "name": "stdout",
     "output_type": "stream",
     "text": [
      "5.39\n"
     ]
    }
   ],
   "source": [
    "class Point:\n",
    "    \"\"\"\n",
    "    Класс Point, представляет точку в двумерном пространстве,\n",
    "    имеет атрибуты для хранения координат x и y\n",
    "    \"\"\"\n",
    "\n",
    "    def __init__(self, x, y):\n",
    "        self.x = x\n",
    "        self.y = y\n",
    "\n",
    "    def count_two_dots_distance(self, x2, y2):\n",
    "        \"\"\"\n",
    "        Метод для вычисления расстояний между точками\n",
    "        \"\"\"\n",
    "        distance = round((((self.x - x2)**2 + (self.y - y2)**2 )**0.5),2)\n",
    "        return distance\n",
    "\n",
    "smth = Point(1, 2)\n",
    "print(smth.count_two_dots_distance(3,7))"
   ]
  },
  {
   "cell_type": "markdown",
   "id": "2db5f269-f0d3-4ddf-ac39-8475e74c5653",
   "metadata": {},
   "source": [
    "7. Создайте класс Triangle, который представляет треугольник. У него должны быть атрибуты длины сторон. Добавьте методы для вычисления перимера треугольника и методы вычисления типа треугольника ( равностороннйи, равнобедренный, прямоуголный или разносторонний)."
   ]
  },
  {
   "cell_type": "code",
   "execution_count": 8,
   "id": "309d93f8-a11e-41dc-9db4-0d1e5b655450",
   "metadata": {},
   "outputs": [
    {
     "name": "stdout",
     "output_type": "stream",
     "text": [
      "Не треугольник\n",
      "None\n",
      "None\n",
      "==============================\n",
      "18\n",
      "['Равнобедренный треугольник']\n"
     ]
    }
   ],
   "source": [
    "class Triangle:\n",
    "    \"\"\"\n",
    "    Класс, который представляет треугольник. \n",
    "    Атрибуты - длины сторон.\n",
    "    Имеет методы для вычисления перимера треугольника и методы вычисления типа треугольника \n",
    "    ( равностороннйи, равнобедренный, прямоуголный или разносторонний)\n",
    "    \"\"\"\n",
    "    def __init__(self, a, b, c):\n",
    "        self.__triangle_flg = self.__is_triangle(a, b, c)\n",
    "        if self.__triangle_flg:\n",
    "            self.__a = a\n",
    "            self.__b = b\n",
    "            self.__c = c\n",
    "            self.__triangle_type = []\n",
    "        else: \n",
    "            print(\"Не треугольник\")\n",
    "\n",
    "    def __is_triangle(self, a, b, c):\n",
    "        triangle_exist = (a < (b + c)) and (b < (a + c)) and (c < (a + b))\n",
    "        if isinstance(a, (int, float)) and isinstance(b, (int, float)) and isinstance(c, (int, float)) and triangle_exist:\n",
    "            return True\n",
    "\n",
    "    def count_perimeter(self):\n",
    "        \"\"\"\n",
    "        Методы вычисления перимера треугольника\n",
    "        \"\"\"\n",
    "        if self.__triangle_flg:\n",
    "            perimeter = self.__a +  self.__b + self.__c\n",
    "            return perimeter\n",
    "\n",
    "    def define_type(self):\n",
    "        \"\"\"\n",
    "        Метод вычисления типа треугольника: равностороннйи, равнобедренный, прямоуголный или разносторонний\n",
    "        \"\"\"\n",
    "        if self.__triangle_flg:\n",
    "            sides_list = [self.__a, self.__b, self.__c]\n",
    "            max_side = max(sides_list)\n",
    "            less_sides_list = sides_list[:]\n",
    "            less_sides_list.remove(max_side)\n",
    "            if (max_side ** 2) == ((less_sides_list[0] ** 2) + (less_sides_list[1] ** 2)):\n",
    "                self.__triangle_type.append(\"Прямоугольный треугольник\")\n",
    "            if self.__a != self.__b and self.__a != c and self.__b != self.__c:\n",
    "                self.__triangle_type.append(\"Разносторонний треугольник\")\n",
    "            elif self.__a == self.__b and self.__a == self.__c:\n",
    "                self.__triangle_type.append(\"Равносторонний треугольник\")\n",
    "            else:\n",
    "                self.__triangle_type.append(\"Равнобедренный треугольник\")\n",
    "            return self.__triangle_type\n",
    "        \n",
    "some_triangle = Triangle(5, 5, 12)\n",
    "print(some_triangle.count_perimeter())\n",
    "print(some_triangle.define_type())  \n",
    "print(\"=\" * 30)\n",
    "some_triangle2 = Triangle(5, 5, 8)\n",
    "print(some_triangle2.count_perimeter())\n",
    "print(some_triangle2.define_type()) \n",
    "print(\"=\" * 30)\n",
    "some_triangle2 = Triangle(5, 5, 8)\n",
    "print(some_triangle2.count_perimeter())\n",
    "print(some_triangle2.define_type())"
   ]
  },
  {
   "cell_type": "markdown",
   "id": "8d07e3e4-f1f7-410a-bbe7-dbcf5e2d8ee7",
   "metadata": {},
   "source": [
    "8. Создайте класс BankAccount, который представляет банковский счет. У него должны быть атрибуты для хранения номера счета, имени владельца и баланса. Добавьте методы для внесения и снятия денег со счета."
   ]
  },
  {
   "cell_type": "code",
   "execution_count": 6,
   "id": "cf4c87b3-f08d-4c11-ada1-b82550f5c6eb",
   "metadata": {},
   "outputs": [
    {
     "name": "stdout",
     "output_type": "stream",
     "text": [
      "15789\n",
      "14211\n"
     ]
    }
   ],
   "source": [
    "class BankAccount:\n",
    "    \"\"\"\n",
    "    Класс, который представляет банковский счет. \n",
    "    Имеет атрибуты для хранения номера счета, имени владельца и баланса. \n",
    "    Имеет методы для внесения и снятия денег со счета.\n",
    "    \"\"\"\n",
    "    def __init__(self, account_num, owner_name, balance = 0):\n",
    "        self.__account = account_num\n",
    "        self.__owner = owner_name\n",
    "        self.__balance = balance\n",
    "\n",
    "    def add_to_acc(self, input_amount):\n",
    "        self.__balance += input_amount\n",
    "\n",
    "    def sub_from_acc(self, out_amount):\n",
    "        self.__balance -= out_amount\n",
    "\n",
    "    def show_balance(self):\n",
    "        return self.__balance\n",
    "    \n",
    "\n",
    "my_account = BankAccount(21687954, 'Mary')\n",
    "my_account.add_to_acc(15789)\n",
    "print(my_account.show_balance())\n",
    "my_account.sub_from_acc(1578)\n",
    "print(my_account.show_balance())\n"
   ]
  },
  {
   "cell_type": "markdown",
   "id": "2d849ca5-a527-41cc-9ebf-705f76799e49",
   "metadata": {},
   "source": [
    "9. Создайте класс Date, который представляет дату. У него должны быть атрибуты для хранения дня, месяца и года. Добавьте методы для сравнения двух дат и вычисления разницы между ними."
   ]
  },
  {
   "cell_type": "code",
   "execution_count": 18,
   "id": "20a41e33-90ab-40d0-8880-f3b9c301f646",
   "metadata": {},
   "outputs": [
    {
     "name": "stdout",
     "output_type": "stream",
     "text": [
      "2024-04-30\n",
      "2024-04-30\n",
      "Равны\n",
      "2331\n"
     ]
    }
   ],
   "source": [
    "from datetime import datetime, date\n",
    "\n",
    "class Date:\n",
    "    \"\"\"\n",
    "    Класс, который представляет дату. \n",
    "    У него должны быть атрибуты для хранения дня, месяца и года. \n",
    "    Добавьте методы для сравнения двух дат и вычисления разницы между ними\n",
    "    \"\"\"\n",
    "    def __init__(self, day, month, year):\n",
    "        self.__date = date(year, month, day)\n",
    "        print(self.__date)\n",
    "        self.__day = day\n",
    "        self.__month = month\n",
    "        self.__year = year\n",
    "\n",
    "    def compare_date(self, compared_date):\n",
    "        \"\"\"\n",
    "        Метод сравнения двух дат\n",
    "        \"\"\"\n",
    "        result = \"\"\n",
    "        if isinstance(compared_date, date):\n",
    "            if self.__date > compared_date:\n",
    "                result = \"Больше\"\n",
    "            elif self.__date < compared_date:\n",
    "                result = \"Меньше\"\n",
    "            elif self.__date == compared_date:\n",
    "                result = \"Равны\"\n",
    "        return result\n",
    "\n",
    "    def count_diff(self, compared_date):\n",
    "        \"\"\"\n",
    "        Метод  вычисления разницы между датами в днях\n",
    "        \"\"\"\n",
    "        if isinstance(compared_date, date):\n",
    "            result = abs(self.__date - compared_date).days\n",
    "            return result\n",
    "            \n",
    "current_date = Date(30,4,2024)\n",
    "new_date =  datetime.now().date()  #генерируем текущуюя дату и время, оставляем только дату\n",
    "print(current_date.compare_date(new_date))\n",
    "print(current_date.count_diff(date(2017,12,12)))\n"
   ]
  },
  {
   "cell_type": "markdown",
   "id": "1c196431-3d1f-472f-aedb-8627caa8a05c",
   "metadata": {},
   "source": [
    "# Оформите каждый класс в отдельный модуль и напишиет на эти классы тесты."
   ]
  },
  {
   "cell_type": "code",
   "execution_count": null,
   "id": "ee03bcad-9c0c-4a93-be63-f7c7bea3348d",
   "metadata": {},
   "outputs": [],
   "source": []
  }
 ],
 "metadata": {
  "kernelspec": {
   "display_name": "Python 3 (ipykernel)",
   "language": "python",
   "name": "python3"
  },
  "language_info": {
   "codemirror_mode": {
    "name": "ipython",
    "version": 3
   },
   "file_extension": ".py",
   "mimetype": "text/x-python",
   "name": "python",
   "nbconvert_exporter": "python",
   "pygments_lexer": "ipython3",
   "version": "3.10.10"
  }
 },
 "nbformat": 4,
 "nbformat_minor": 5
}
