{
 "cells": [
  {
   "cell_type": "markdown",
   "id": "148a67cf-f3d5-4175-898e-a2201786ac66",
   "metadata": {},
   "source": [
    "# Создайте классы"
   ]
  },
  {
   "cell_type": "markdown",
   "id": "23644a8e-64cf-44a7-b736-1140e424d556",
   "metadata": {},
   "source": [
    "1. Создайте класс Car, который представляет автомобиль. У него должны быть атрибуты для хранения модели, года выпуска, цвета, количества дверей и текущей скорости. Добавьте методы которые возвращают год, марку, цвет и текущую скорость автомобиля."
   ]
  },
  {
   "cell_type": "code",
   "execution_count": 3,
   "id": "cd64a101-ee0d-4642-93a7-dde9bcf03e73",
   "metadata": {},
   "outputs": [
    {
     "name": "stdout",
     "output_type": "stream",
     "text": [
      "1972\n",
      "ВАЗ-2101\n",
      "red\n",
      "0\n"
     ]
    }
   ],
   "source": [
    "class Car:\n",
    "    \"\"\"\n",
    "    Класс представляет собой автомобиль.\n",
    "    Имеет атрибуты для хранения модели, года выпуска, цвета, количества дверей и текущей скорости,\n",
    "    методы которые возвращают год, марку, цвет и текущую скорость автомобиля\n",
    "    \"\"\"\n",
    "    def __init__(self, model, year, color, doors_num, current_speed = 0):\n",
    "        self.__model = model\n",
    "        self.__year = year\n",
    "        self.__color = color\n",
    "        self.__doors_num = doors_num\n",
    "        self.__current_speed = current_speed\n",
    "\n",
    "    def year(self):\n",
    "        return self.__year\n",
    "\n",
    "    def model(self):\n",
    "        return self.__model    \n",
    "\n",
    "    def color(self):\n",
    "        return self.__color\n",
    "\n",
    "    def current_speed(self):\n",
    "        return self.__current_speed\n",
    "\n",
    "my_car = Car(\"ВАЗ-2101\", 1972, \"red\", 4, 0)\n",
    "print(my_car.year())\n",
    "print(my_car.model())\n",
    "print(my_car.color())\n",
    "print(my_car.current_speed())\n"
   ]
  },
  {
   "cell_type": "markdown",
   "id": "c43d2bd0-de35-4b4d-a61c-c80515a4e778",
   "metadata": {},
   "source": [
    "2. Создайте класс Student, который представляет студент. У него должны быть атрибуты для хранения имени, фамилии, возраста, адреса и список оценок."
   ]
  },
  {
   "cell_type": "code",
   "execution_count": 5,
   "id": "1fb68b75-6bd2-47ac-a61b-6639c4d8eb31",
   "metadata": {},
   "outputs": [],
   "source": [
    "class Student:\n",
    "\n",
    "    def __init__(self, name, surname, age, address, record_book = []):\n",
    "        self.__name = name\n",
    "        self.__surname = surname\n",
    "        self.__age = age\n",
    "        self.__address = address\n",
    "        self.__record_book = record_book\n",
    "\n",
    "new_student = Student(\"Vasya\", \"Semenov\", 18, \"Moscow, lubyanka 1\")"
   ]
  },
  {
   "cell_type": "markdown",
   "id": "77f19efc-3227-4401-8f11-f3cac3c068dd",
   "metadata": {},
   "source": [
    "3. Создайте класс Book, который представляет книгу. У него должны быть атрибуты для хранения названия, автора, количества страниц и издательства. Добавьте методы для установки и получения этих атрибутов."
   ]
  },
  {
   "cell_type": "code",
   "execution_count": 6,
   "id": "6b149085-d391-44e4-b8ac-f1d46bf2296a",
   "metadata": {},
   "outputs": [
    {
     "name": "stdout",
     "output_type": "stream",
     "text": [
      "Как я изучала Python\n",
      "Я-я\n",
      "365\n",
      "AndroMary_PuB\n"
     ]
    }
   ],
   "source": [
    "class Book:\n",
    "\n",
    "    def __init__(self):\n",
    "        self.__title = \"\"\n",
    "        self.__author = \"\"\n",
    "        self.__pages_num = 0\n",
    "        self.__publisher = \"\"\n",
    "\n",
    "    def set_title(self, title):\n",
    "        self.__title = title\n",
    "\n",
    "    def set_author(self, author):\n",
    "        self.__author = author \n",
    "\n",
    "    def set_pages_num(self, pages_num):\n",
    "        self.__pages_num = pages_num\n",
    "\n",
    "    def set_publisher(self, publisher):\n",
    "        self.__publisher = publisher \n",
    "\n",
    "    def get_title(self, title):\n",
    "        return self.__title\n",
    "\n",
    "    def get_author(self, author):\n",
    "        return self.__author \n",
    "\n",
    "    def get_pages_num(self, pages_num):\n",
    "        return self.__pages_num\n",
    "\n",
    "    def get_publisher(self, publisher):\n",
    "        return self.__publisher\n",
    "\n",
    "my_book = Book()\n",
    "my_book.set_title(\"Как я изучала Python\")\n",
    "my_book.set_author(\"Я-я\")\n",
    "my_book.set_pages_num(365)\n",
    "my_book.set_publisher(\"AndroMary_PuB\")\n",
    "print(my_book.get_title(\"Как я изучала Python\"))\n",
    "print(my_book.get_author(\"Я-я\"))\n",
    "print(my_book.get_pages_num(365))\n",
    "print(my_book.get_publisher(\"AndroMary_PuB\"))"
   ]
  },
  {
   "cell_type": "markdown",
   "id": "c0262c46-df82-43aa-bb2c-728c1ba9bbd0",
   "metadata": {},
   "source": [
    "4. Создайте класс ShoppingCart, который представляет корзину покупок. У него должен быть атрибут для хранения списка товаров. Добавьте методы для добавления, удаления, отображения товаров в корзине и вычиckbnt стоимости всей корзины."
   ]
  },
  {
   "cell_type": "code",
   "execution_count": 7,
   "id": "ba40f81e-cf3b-403b-9f2f-b947e6d5bfbc",
   "metadata": {},
   "outputs": [
    {
     "name": "stdout",
     "output_type": "stream",
     "text": [
      "{'chocolate': 3, 'milk': 1, 'pizza': 1, 'bread': 1}\n",
      "==============================\n",
      "{'chocolate': 3, 'milk': 1, 'pizza': 1}\n",
      "==============================\n",
      "1270\n"
     ]
    }
   ],
   "source": [
    "class ShoppingCart:\n",
    "\n",
    "    def __init__(self):\n",
    "        self.__goods_list = {}\n",
    "        self.__pricelist = {}\n",
    "\n",
    "    def add_to_cart(self, goods_name, num = 1):\n",
    "        if goods_name in self.__goods_list:\n",
    "            self.__goods_list[goods_name] += num\n",
    "        else:\n",
    "            self.__goods_list[goods_name] = num\n",
    "\n",
    "    def del_from_cart(self, goods_name, num = 1):\n",
    "        if goods_name in self.__goods_list and self.__goods_list[goods_name] > num:\n",
    "            self.__goods_list[goods_name] -= num\n",
    "        elif goods_name in self.__goods_list and self.__goods_list[goods_name] <= num:\n",
    "            self.__goods_list.pop(goods_name)\n",
    "\n",
    "    def show_cart(self):\n",
    "        return self.__goods_list\n",
    "\n",
    "    def set_pricelist(self, price_dict):\n",
    "        self.__pricelist = price_dict\n",
    "\n",
    "    def count_cost(self):\n",
    "        total_cost = 0\n",
    "        if self.__pricelist and self.__goods_list:\n",
    "            for good in self.__goods_list:\n",
    "                total_cost += self.__goods_list[good] * self.__pricelist[good]\n",
    "        return total_cost\n",
    "\n",
    "pricelist = {\"chocolate\": 110, \"milk\": 90, \"pizza\": 850, \"bread\": 59}\n",
    "any_cart = ShoppingCart()\n",
    "any_cart.add_to_cart(\"chocolate\", 3)\n",
    "any_cart.add_to_cart(\"milk\", 1)\n",
    "any_cart.add_to_cart(\"pizza\", 1)\n",
    "any_cart.add_to_cart(\"bread\", 1)\n",
    "print(any_cart.show_cart())\n",
    "print(\"=\"*30)\n",
    "any_cart.del_from_cart(\"bread\")\n",
    "print(any_cart.show_cart())\n",
    "print(\"=\"*30)\n",
    "any_cart.set_pricelist(pricelist)\n",
    "print(any_cart.count_cost())\n",
    "        "
   ]
  },
  {
   "cell_type": "markdown",
   "id": "432cf6e3-ca93-43e4-9a48-e59bb4d6abd8",
   "metadata": {},
   "source": [
    "5. Создайте класс Circle, который представляет круг. У него должен быть атрибут для хранения радиуса и цвета. Добавьте методы для вычисления площади и периметра круга."
   ]
  },
  {
   "cell_type": "markdown",
   "id": "5ecd4418-059e-4fe8-a125-da74ce98fefd",
   "metadata": {},
   "source": [
    "6. Создайте класс Point, который представляет точку в двумерном пространстве. У него должны быть атрибуты для хранения координат x и y. Добавьте методы для вычисления расстояния между двумя точками."
   ]
  },
  {
   "cell_type": "markdown",
   "id": "2db5f269-f0d3-4ddf-ac39-8475e74c5653",
   "metadata": {},
   "source": [
    "7. Создайте класс Triangle, который представляет треугольник. У него должны быть атрибуты длины сторон. Добавьте методы для вычисления перимера треугольника и методы вычисления типа треугольника ( равностороннйи, павнобедренный, прямоуголный или разносторонний)."
   ]
  },
  {
   "cell_type": "markdown",
   "id": "8d07e3e4-f1f7-410a-bbe7-dbcf5e2d8ee7",
   "metadata": {},
   "source": [
    "8. Создайте класс BankAccount, который представляет банковский счет. У него должны быть атрибуты для хранения номера счета, имени владельца и баланса. Добавьте методы для внесения и снятия денег со счета."
   ]
  },
  {
   "cell_type": "markdown",
   "id": "2d849ca5-a527-41cc-9ebf-705f76799e49",
   "metadata": {},
   "source": [
    "9. Создайте класс Date, который представляет дату. У него должны быть атрибуты для хранения дня, месяца и года. Добавьте методы для сравнения двух дат и вычисления разницы между ними."
   ]
  },
  {
   "cell_type": "markdown",
   "id": "1c196431-3d1f-472f-aedb-8627caa8a05c",
   "metadata": {},
   "source": [
    "# Оформите каждый класс в отдельный модуль и напишиет на эти классы тесты."
   ]
  },
  {
   "cell_type": "code",
   "execution_count": null,
   "id": "ee03bcad-9c0c-4a93-be63-f7c7bea3348d",
   "metadata": {},
   "outputs": [],
   "source": []
  }
 ],
 "metadata": {
  "kernelspec": {
   "display_name": "Python 3 (ipykernel)",
   "language": "python",
   "name": "python3"
  },
  "language_info": {
   "codemirror_mode": {
    "name": "ipython",
    "version": 3
   },
   "file_extension": ".py",
   "mimetype": "text/x-python",
   "name": "python",
   "nbconvert_exporter": "python",
   "pygments_lexer": "ipython3",
   "version": "3.10.10"
  }
 },
 "nbformat": 4,
 "nbformat_minor": 5
}
