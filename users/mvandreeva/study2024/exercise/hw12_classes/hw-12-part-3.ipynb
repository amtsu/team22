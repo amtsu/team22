{
 "cells": [
  {
   "cell_type": "markdown",
   "id": "3d9836bc-7997-40b7-9b21-9050fdc61629",
   "metadata": {},
   "source": [
    "# Реализуйте задния"
   ]
  },
  {
   "cell_type": "markdown",
   "id": "1ed5fa52-84c4-46c6-8bfa-2a0a059e580c",
   "metadata": {},
   "source": [
    "1. Созлдайте класс для работы с матрицами. Который будет представлять матрицы и поддреживать основные операции сложение, вычитание умножение транспонирование. Затем добавьте методы для вычисления определителя матрицы и вычисления обраной матрицы."
   ]
  },
  {
   "cell_type": "markdown",
   "id": "05415b79-4d98-42b4-b76e-eb712b121285",
   "metadata": {},
   "source": [
    "2. Разарботайте классы Warehouse Product Order для управления складскими запасами. Реализуйте функцонал по добавлению и списанию остатков, учету остатокво на складе и формированию заказа."
   ]
  },
  {
   "cell_type": "code",
   "execution_count": null,
   "id": "ee03bcad-9c0c-4a93-be63-f7c7bea3348d",
   "metadata": {},
   "outputs": [],
   "source": []
  }
 ],
 "metadata": {
  "kernelspec": {
   "display_name": "Python 3 (ipykernel)",
   "language": "python",
   "name": "python3"
  },
  "language_info": {
   "codemirror_mode": {
    "name": "ipython",
    "version": 3
   },
   "file_extension": ".py",
   "mimetype": "text/x-python",
   "name": "python",
   "nbconvert_exporter": "python",
   "pygments_lexer": "ipython3",
   "version": "3.10.10"
  }
 },
 "nbformat": 4,
 "nbformat_minor": 5
}
