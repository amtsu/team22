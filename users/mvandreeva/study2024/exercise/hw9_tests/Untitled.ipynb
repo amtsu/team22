{
 "cells": [
  {
   "cell_type": "code",
   "execution_count": 7,
   "id": "fdaef004-b413-457f-b67e-56630a48967f",
   "metadata": {},
   "outputs": [
    {
     "name": "stdout",
     "output_type": "stream",
     "text": [
      "[<function <listcomp>.<lambda> at 0x7fa4641a6440>, <function <listcomp>.<lambda> at 0x7fa4641a68c0>, <function <listcomp>.<lambda> at 0x7fa4641a67a0>, <function <listcomp>.<lambda> at 0x7fa4641a6170>, <function <listcomp>.<lambda> at 0x7fa4641a69e0>]\n",
      "<list_iterator object at 0x7fa45c6a5660>\n",
      "<function <listcomp>.<lambda> at 0x7fa4641a6440>\n"
     ]
    }
   ],
   "source": [
    "x = [lambda _: 10+i for i in range(5)]\n",
    "print(x)\n",
    "print(iter(x))\n",
    "print(next(iter(x)))"
   ]
  },
  {
   "cell_type": "code",
   "execution_count": 1,
   "id": "2004d016-0e8b-4be0-8b1a-b6ebec8d9b05",
   "metadata": {},
   "outputs": [
    {
     "ename": "TypeError",
     "evalue": "unsupported operand type(s) for *: 'float' and 'NoneType'",
     "output_type": "error",
     "traceback": [
      "\u001b[0;31m---------------------------------------------------------------------------\u001b[0m",
      "\u001b[0;31mTypeError\u001b[0m                                 Traceback (most recent call last)",
      "Cell \u001b[0;32mIn[1], line 12\u001b[0m\n\u001b[1;32m      9\u001b[0m         result \u001b[38;5;241m=\u001b[39m num \u001b[38;5;241m*\u001b[39m count_factorial(num \u001b[38;5;241m-\u001b[39m \u001b[38;5;241m1\u001b[39m)\n\u001b[1;32m     10\u001b[0m     \u001b[38;5;28;01mreturn\u001b[39;00m result\n\u001b[0;32m---> 12\u001b[0m \u001b[43mcount_factorial\u001b[49m\u001b[43m(\u001b[49m\u001b[38;5;241;43m3.5\u001b[39;49m\u001b[43m)\u001b[49m\n",
      "Cell \u001b[0;32mIn[1], line 9\u001b[0m, in \u001b[0;36mcount_factorial\u001b[0;34m(num)\u001b[0m\n\u001b[1;32m      7\u001b[0m     result \u001b[38;5;241m=\u001b[39m \u001b[38;5;241m1\u001b[39m\n\u001b[1;32m      8\u001b[0m \u001b[38;5;28;01melif\u001b[39;00m num \u001b[38;5;241m>\u001b[39m \u001b[38;5;241m1\u001b[39m:\n\u001b[0;32m----> 9\u001b[0m     result \u001b[38;5;241m=\u001b[39m num \u001b[38;5;241m*\u001b[39m \u001b[43mcount_factorial\u001b[49m\u001b[43m(\u001b[49m\u001b[43mnum\u001b[49m\u001b[43m \u001b[49m\u001b[38;5;241;43m-\u001b[39;49m\u001b[43m \u001b[49m\u001b[38;5;241;43m1\u001b[39;49m\u001b[43m)\u001b[49m\n\u001b[1;32m     10\u001b[0m \u001b[38;5;28;01mreturn\u001b[39;00m result\n",
      "Cell \u001b[0;32mIn[1], line 9\u001b[0m, in \u001b[0;36mcount_factorial\u001b[0;34m(num)\u001b[0m\n\u001b[1;32m      7\u001b[0m     result \u001b[38;5;241m=\u001b[39m \u001b[38;5;241m1\u001b[39m\n\u001b[1;32m      8\u001b[0m \u001b[38;5;28;01melif\u001b[39;00m num \u001b[38;5;241m>\u001b[39m \u001b[38;5;241m1\u001b[39m:\n\u001b[0;32m----> 9\u001b[0m     result \u001b[38;5;241m=\u001b[39m num \u001b[38;5;241m*\u001b[39m \u001b[43mcount_factorial\u001b[49m\u001b[43m(\u001b[49m\u001b[43mnum\u001b[49m\u001b[43m \u001b[49m\u001b[38;5;241;43m-\u001b[39;49m\u001b[43m \u001b[49m\u001b[38;5;241;43m1\u001b[39;49m\u001b[43m)\u001b[49m\n\u001b[1;32m     10\u001b[0m \u001b[38;5;28;01mreturn\u001b[39;00m result\n",
      "Cell \u001b[0;32mIn[1], line 9\u001b[0m, in \u001b[0;36mcount_factorial\u001b[0;34m(num)\u001b[0m\n\u001b[1;32m      7\u001b[0m     result \u001b[38;5;241m=\u001b[39m \u001b[38;5;241m1\u001b[39m\n\u001b[1;32m      8\u001b[0m \u001b[38;5;28;01melif\u001b[39;00m num \u001b[38;5;241m>\u001b[39m \u001b[38;5;241m1\u001b[39m:\n\u001b[0;32m----> 9\u001b[0m     result \u001b[38;5;241m=\u001b[39m \u001b[43mnum\u001b[49m\u001b[43m \u001b[49m\u001b[38;5;241;43m*\u001b[39;49m\u001b[43m \u001b[49m\u001b[43mcount_factorial\u001b[49m\u001b[43m(\u001b[49m\u001b[43mnum\u001b[49m\u001b[43m \u001b[49m\u001b[38;5;241;43m-\u001b[39;49m\u001b[43m \u001b[49m\u001b[38;5;241;43m1\u001b[39;49m\u001b[43m)\u001b[49m\n\u001b[1;32m     10\u001b[0m \u001b[38;5;28;01mreturn\u001b[39;00m result\n",
      "\u001b[0;31mTypeError\u001b[0m: unsupported operand type(s) for *: 'float' and 'NoneType'"
     ]
    }
   ],
   "source": [
    "def count_factorial(num):\n",
    "    \"\"\"\n",
    "    Функция вывода факториала заданного числа\n",
    "    \"\"\"\n",
    "    result = None\n",
    "    if num in (0, 1):\n",
    "        result = 1\n",
    "    elif num > 1:\n",
    "        result = num * count_factorial(num - 1)\n",
    "    return result\n",
    "\n",
    "count_factorial(3.5)"
   ]
  },
  {
   "cell_type": "code",
   "execution_count": 4,
   "id": "774d6cef-524d-4be4-9c66-ac77bc427d21",
   "metadata": {},
   "outputs": [
    {
     "data": {
      "text/plain": [
       "['голубой', 'желтый', 'зеленый', 'красный', 'оранжевый']"
      ]
     },
     "execution_count": 4,
     "metadata": {},
     "output_type": "execute_result"
    }
   ],
   "source": [
    "sorted({'зеленый', 'желтый', 'оранжевый', 'красный', 'голубой'})"
   ]
  },
  {
   "cell_type": "code",
   "execution_count": 6,
   "id": "a1cb8e7b-15c4-47af-b6a0-fd92bda1027e",
   "metadata": {},
   "outputs": [
    {
     "data": {
      "text/plain": [
       "['Мальвиновый', 'желтый', 'оранжевый', 'синий', 'фиолетовый']"
      ]
     },
     "execution_count": 6,
     "metadata": {},
     "output_type": "execute_result"
    }
   ],
   "source": [
    "sorted({'желтый', 'фиолетовый', 'синий', 'оранжевый', 'Мальвиновый'})"
   ]
  },
  {
   "cell_type": "code",
   "execution_count": 8,
   "id": "3dcc9021-d064-445e-9ae7-8cbc6cc4bf41",
   "metadata": {},
   "outputs": [
    {
     "data": {
      "text/plain": [
       "['голубой', 'желтый', 'зеленый', 'красный', 'оранжевый']"
      ]
     },
     "execution_count": 8,
     "metadata": {},
     "output_type": "execute_result"
    }
   ],
   "source": [
    "sorted({\"красный\", \"оранжевый\", \"желтый\", \"зеленый\", \"голубой\"})"
   ]
  },
  {
   "cell_type": "code",
   "execution_count": 7,
   "id": "59d747cc-50ac-4611-9f7e-b03c379d3c72",
   "metadata": {},
   "outputs": [
    {
     "data": {
      "text/plain": [
       "['желтый', 'оранжевый', 'синий', 'фиолетовый']"
      ]
     },
     "execution_count": 7,
     "metadata": {},
     "output_type": "execute_result"
    }
   ],
   "source": [
    "sorted({'желтый', 'оранжевый', 'фиолетовый', 'синий'})"
   ]
  },
  {
   "cell_type": "code",
   "execution_count": 4,
   "id": "85a0c94e-e3f1-43bc-b576-5722cbad8b07",
   "metadata": {},
   "outputs": [
    {
     "name": "stdout",
     "output_type": "stream",
     "text": [
      "14:40\n",
      "<class 'str'>\n",
      "None\n",
      "00\n",
      "0\n"
     ]
    }
   ],
   "source": [
    "import time \n",
    "t = time.localtime() \n",
    "current_time = time.strftime(\"%H:%M\", t)\n",
    "print(current_time)\n",
    "print(type(current_time))\n",
    "\n",
    "\n",
    "def define_day_part(any_time):\n",
    "    hours_str = any_time[:2]\n",
    "    hours = int(hours_str)\n",
    "    if hours >= 0 and hours <5:\n",
    "        result = \"Ночь\"\n",
    "    elif hours >= 5 and hours <12:\n",
    "        result = \"Утро\"\n",
    "    elif hours >= 12 and hours <17:\n",
    "        result = \"День\"\n",
    "    elif hours >= 17 and hours <24:\n",
    "        result = \"Вечер\"\n",
    "print(define_day_part(current_time))\n",
    "\n",
    "current_time = \"00:00\"\n",
    "hours_str = current_time[:2]\n",
    "print(hours_str)\n",
    "hours = int(hours_str)\n",
    "print(hours)\n"
   ]
  },
  {
   "cell_type": "code",
   "execution_count": 1,
   "id": "14250a63-4c24-485e-8882-1edf319133f9",
   "metadata": {},
   "outputs": [
    {
     "ename": "ValueError",
     "evalue": "invalid literal for int() with base 10: 'про'",
     "output_type": "error",
     "traceback": [
      "\u001b[0;31m---------------------------------------------------------------------------\u001b[0m",
      "\u001b[0;31mValueError\u001b[0m                                Traceback (most recent call last)",
      "Cell \u001b[0;32mIn[1], line 2\u001b[0m\n\u001b[1;32m      1\u001b[0m user_input \u001b[38;5;241m=\u001b[39m \u001b[38;5;124m'\u001b[39m\u001b[38;5;124mпро\u001b[39m\u001b[38;5;124m'\u001b[39m\n\u001b[0;32m----> 2\u001b[0m ui_int \u001b[38;5;241m=\u001b[39m \u001b[38;5;28;43mint\u001b[39;49m\u001b[43m(\u001b[49m\u001b[43muser_input\u001b[49m\u001b[43m)\u001b[49m\n",
      "\u001b[0;31mValueError\u001b[0m: invalid literal for int() with base 10: 'про'"
     ]
    }
   ],
   "source": [
    "user_input = 'про'\n",
    "ui_int = int(user_input)"
   ]
  },
  {
   "cell_type": "code",
   "execution_count": 2,
   "id": "485ce73d-20ab-436e-aa39-ba2ffd4d32f5",
   "metadata": {},
   "outputs": [
    {
     "ename": "ValueError",
     "evalue": "invalid literal for int() with base 10: ''",
     "output_type": "error",
     "traceback": [
      "\u001b[0;31m---------------------------------------------------------------------------\u001b[0m",
      "\u001b[0;31mValueError\u001b[0m                                Traceback (most recent call last)",
      "Cell \u001b[0;32mIn[2], line 2\u001b[0m\n\u001b[1;32m      1\u001b[0m i \u001b[38;5;241m=\u001b[39m \u001b[38;5;124m'\u001b[39m\u001b[38;5;124m'\u001b[39m\n\u001b[0;32m----> 2\u001b[0m \u001b[38;5;28;43mint\u001b[39;49m\u001b[43m(\u001b[49m\u001b[43mi\u001b[49m\u001b[43m)\u001b[49m\n",
      "\u001b[0;31mValueError\u001b[0m: invalid literal for int() with base 10: ''"
     ]
    }
   ],
   "source": [
    "i = ''\n",
    "int(i)"
   ]
  },
  {
   "cell_type": "code",
   "execution_count": 3,
   "id": "dff02d42-88b3-4716-a40d-c1628923b293",
   "metadata": {},
   "outputs": [
    {
     "name": "stdout",
     "output_type": "stream",
     "text": [
      "3800\n"
     ]
    }
   ],
   "source": [
    "class Library:\n",
    "    \n",
    "    def __init__(self, books_list):\n",
    "        self.__book_list = books_list\n",
    "        \n",
    "    def count_pages(self):\n",
    "        pages = []\n",
    "        # pages.append(book[\"pages\"])\n",
    "        for book in self.__book_list:\n",
    "            pages.append(book[\"pages\"])\n",
    "            # for k, v in book.items():\n",
    "            #     if k == \"pages\":\n",
    "            #         pages.append(v)\n",
    "        sum_pages = sum(pages)\n",
    "        print(sum_pages)\n",
    "        return sum_pages\n",
    "    \n",
    "    def count_avg_pages(self):\n",
    "        avg_pages = self.count_pages()/len(self.__book_list)\n",
    "        return avg_pages\n",
    "        \n",
    "def test_count_pages():\n",
    "    new_library = Library([{\"name\": \"War and peace\",\"author\": \"Tolstoy\", \"pages\": 3000}, {\"name\": \"Idiot\",\"author\": \"Dostoevskiy\", \"pages\": 800}])\n",
    "    count_p = new_library.count_pages()\n",
    "    assert count_p == 3800\n",
    "    \n",
    "test_count_pages()\n"
   ]
  },
  {
   "cell_type": "code",
   "execution_count": 4,
   "id": "c9652355-356e-491e-b51d-8e5995aeaddb",
   "metadata": {},
   "outputs": [
    {
     "name": "stdout",
     "output_type": "stream",
     "text": [
      "3800\n"
     ]
    }
   ],
   "source": [
    "def test_count_avg_pages():\n",
    "    new_library = Library([{\"name\": \"War and peace\",\"author\": \"Tolstoy\", \"pages\": 3000}, {\"name\": \"Idiot\",\"author\": \"Dostoevskiy\", \"pages\": 800}])\n",
    "    count_p = new_library.count_avg_pages()\n",
    "    assert count_p == 1900\n",
    "\n",
    "test_count_avg_pages()"
   ]
  },
  {
   "cell_type": "code",
   "execution_count": 4,
   "id": "5f179010-3fac-4ea7-9540-aea4910ac7d6",
   "metadata": {},
   "outputs": [
    {
     "name": "stdout",
     "output_type": "stream",
     "text": [
      "['Студент: Иванов, возраст: 22 годик(ов)', 'Студент: Петрова, возраст: 13 годик(ов)', 'Студент: Сидоров, возраст: 23 годик(ов)']\n",
      "['Студент: , возраст: 30 годик(ов)']\n",
      "['Студент: 30, возраст: None годик(ов)']\n"
     ]
    },
    {
     "ename": "AttributeError",
     "evalue": "'NoneType' object has no attribute 'keys'",
     "output_type": "error",
     "traceback": [
      "\u001b[0;31m---------------------------------------------------------------------------\u001b[0m",
      "\u001b[0;31mAttributeError\u001b[0m                            Traceback (most recent call last)",
      "Cell \u001b[0;32mIn[4], line 10\u001b[0m\n\u001b[1;32m      8\u001b[0m \u001b[38;5;28mprint\u001b[39m(print_students({\u001b[38;5;124m\"\u001b[39m\u001b[38;5;124m\"\u001b[39m: \u001b[38;5;241m30\u001b[39m}))\n\u001b[1;32m      9\u001b[0m \u001b[38;5;28mprint\u001b[39m(print_students({\u001b[38;5;241m30\u001b[39m: \u001b[38;5;28;01mNone\u001b[39;00m}))\n\u001b[0;32m---> 10\u001b[0m \u001b[38;5;28mprint\u001b[39m(\u001b[43mprint_students\u001b[49m\u001b[43m(\u001b[49m\u001b[38;5;28;43;01mNone\u001b[39;49;00m\u001b[43m)\u001b[49m)\n",
      "Cell \u001b[0;32mIn[4], line 3\u001b[0m, in \u001b[0;36mprint_students\u001b[0;34m(student_dict)\u001b[0m\n\u001b[1;32m      1\u001b[0m \u001b[38;5;28;01mdef\u001b[39;00m \u001b[38;5;21mprint_students\u001b[39m(student_dict):\n\u001b[1;32m      2\u001b[0m     student_info_list \u001b[38;5;241m=\u001b[39m []\n\u001b[0;32m----> 3\u001b[0m     \u001b[38;5;28;01mfor\u001b[39;00m student \u001b[38;5;129;01min\u001b[39;00m \u001b[43mstudent_dict\u001b[49m\u001b[38;5;241;43m.\u001b[39;49m\u001b[43mkeys\u001b[49m():\n\u001b[1;32m      4\u001b[0m         student_info_list\u001b[38;5;241m.\u001b[39mappend(\u001b[38;5;124mf\u001b[39m\u001b[38;5;124m\"\u001b[39m\u001b[38;5;124mСтудент: \u001b[39m\u001b[38;5;132;01m{\u001b[39;00mstudent\u001b[38;5;132;01m}\u001b[39;00m\u001b[38;5;124m, возраст: \u001b[39m\u001b[38;5;132;01m{\u001b[39;00mstudent_dict[student]\u001b[38;5;132;01m}\u001b[39;00m\u001b[38;5;124m годик(ов)\u001b[39m\u001b[38;5;124m\"\u001b[39m)\n\u001b[1;32m      5\u001b[0m     \u001b[38;5;28;01mreturn\u001b[39;00m student_info_list\n",
      "\u001b[0;31mAttributeError\u001b[0m: 'NoneType' object has no attribute 'keys'"
     ]
    }
   ],
   "source": [
    "def print_students(student_dict):\n",
    "    student_info_list = []\n",
    "    for student in student_dict.keys():\n",
    "        student_info_list.append(f\"Студент: {student}, возраст: {student_dict[student]} годик(ов)\")\n",
    "    return student_info_list\n",
    "\n",
    "print(print_students({\"Иванов\": 22, \"Петрова\": 13, \"Сидоров\": 23}))\n",
    "print(print_students({\"\": 30}))\n",
    "print(print_students({30: None}))\n",
    "print(print_students(None))\n"
   ]
  },
  {
   "cell_type": "code",
   "execution_count": 11,
   "id": "425c9621-6f03-4d94-aec6-9ee124b377e7",
   "metadata": {},
   "outputs": [
    {
     "name": "stdout",
     "output_type": "stream",
     "text": [
      "[2, 3, 5, 7, 11, 13, 17, 19]\n",
      "[]\n",
      "[]\n"
     ]
    },
    {
     "ename": "TypeError",
     "evalue": "'float' object cannot be interpreted as an integer",
     "output_type": "error",
     "traceback": [
      "\u001b[0;31m---------------------------------------------------------------------------\u001b[0m",
      "\u001b[0;31mTypeError\u001b[0m                                 Traceback (most recent call last)",
      "Cell \u001b[0;32mIn[11], line 24\u001b[0m\n\u001b[1;32m     22\u001b[0m \u001b[38;5;28mprint\u001b[39m(generate_prime(\u001b[38;5;241m0\u001b[39m))\n\u001b[1;32m     23\u001b[0m \u001b[38;5;28mprint\u001b[39m(generate_prime(\u001b[38;5;241m-\u001b[39m\u001b[38;5;241m5\u001b[39m))\n\u001b[0;32m---> 24\u001b[0m \u001b[38;5;28mprint\u001b[39m(\u001b[43mgenerate_prime\u001b[49m\u001b[43m(\u001b[49m\u001b[38;5;241;43m5.5\u001b[39;49m\u001b[43m)\u001b[49m)\n",
      "Cell \u001b[0;32mIn[11], line 16\u001b[0m, in \u001b[0;36mgenerate_prime\u001b[0;34m(num)\u001b[0m\n\u001b[1;32m     14\u001b[0m \u001b[38;5;28;01mdef\u001b[39;00m \u001b[38;5;21mgenerate_prime\u001b[39m(num):\n\u001b[1;32m     15\u001b[0m     prime_list \u001b[38;5;241m=\u001b[39m []\n\u001b[0;32m---> 16\u001b[0m     \u001b[38;5;28;01mfor\u001b[39;00m i \u001b[38;5;129;01min\u001b[39;00m \u001b[38;5;28;43mrange\u001b[39;49m\u001b[43m(\u001b[49m\u001b[38;5;241;43m2\u001b[39;49m\u001b[43m,\u001b[49m\u001b[43m \u001b[49m\u001b[43mnum\u001b[49m\u001b[43m)\u001b[49m:\n\u001b[1;32m     17\u001b[0m         \u001b[38;5;28;01mif\u001b[39;00m is_prime(i):\n\u001b[1;32m     18\u001b[0m            prime_list\u001b[38;5;241m.\u001b[39mappend(i) \n",
      "\u001b[0;31mTypeError\u001b[0m: 'float' object cannot be interpreted as an integer"
     ]
    }
   ],
   "source": [
    "def is_prime(any_num):\n",
    "    result = False\n",
    "    if 0 <= any_num < 2: \n",
    "        pass\n",
    "    else:\n",
    "        divider_list = []\n",
    "        for i in range (2, any_num): \n",
    "            if any_num % i == 0:\n",
    "                divider_list.append(i)\n",
    "        if divider_list == []:\n",
    "            result = True\n",
    "    return result\n",
    "\n",
    "def generate_prime(num):\n",
    "    prime_list = []\n",
    "    for i in range(2, num):\n",
    "        if is_prime(i):\n",
    "           prime_list.append(i) \n",
    "    return prime_list\n",
    "\n",
    "print(generate_prime(22))\n",
    "print(generate_prime(0))\n",
    "print(generate_prime(-5))\n",
    "print(generate_prime(5.5))\n"
   ]
  },
  {
   "cell_type": "code",
   "execution_count": 4,
   "id": "6648e14c-475a-471b-9bde-afbc131e1172",
   "metadata": {},
   "outputs": [
    {
     "name": "stdout",
     "output_type": "stream",
     "text": [
      "15\n",
      "464\n",
      "0\n",
      "0\n",
      "-15\n"
     ]
    }
   ],
   "source": [
    "def sum_cummulat(num1, num2):\n",
    "    cu_sum = 0\n",
    "    for i in range(num1, (num2 + 1)):\n",
    "        cu_sum += i\n",
    "    return cu_sum\n",
    "\n",
    "print(sum_cummulat(1,5))\n",
    "print(sum_cummulat(2,30))\n",
    "print(sum_cummulat(0,0))\n",
    "print(sum_cummulat(5,0))\n",
    "print(sum_cummulat(-5,-1))\n",
    "\n"
   ]
  },
  {
   "cell_type": "code",
   "execution_count": 8,
   "id": "ebec03fd-2847-48f8-8f30-9c1cbd2f1fdb",
   "metadata": {},
   "outputs": [
    {
     "name": "stdout",
     "output_type": "stream",
     "text": [
      "3628800\n",
      "None\n",
      "13.125\n"
     ]
    }
   ],
   "source": [
    "def count_factorial(num):\n",
    "    \"\"\"\n",
    "    Функция вывода факториала заданного числа\n",
    "    \"\"\"\n",
    "    result = None\n",
    "    if num >= 0 and num <= 1:\n",
    "        result = 1\n",
    "    elif num > 1:\n",
    "        result = num * count_factorial(num - 1)\n",
    "    return result\n",
    "print(count_factorial(10))\n",
    "print(count_factorial(-3))\n",
    "print(count_factorial(3.5))\n",
    "\n"
   ]
  },
  {
   "cell_type": "code",
   "execution_count": null,
   "id": "396fe5bb-8547-4b4e-b9af-0e9bf126a1e8",
   "metadata": {},
   "outputs": [],
   "source": []
  }
 ],
 "metadata": {
  "kernelspec": {
   "display_name": "Python 3 (ipykernel)",
   "language": "python",
   "name": "python3"
  },
  "language_info": {
   "codemirror_mode": {
    "name": "ipython",
    "version": 3
   },
   "file_extension": ".py",
   "mimetype": "text/x-python",
   "name": "python",
   "nbconvert_exporter": "python",
   "pygments_lexer": "ipython3",
   "version": "3.10.10"
  }
 },
 "nbformat": 4,
 "nbformat_minor": 5
}
