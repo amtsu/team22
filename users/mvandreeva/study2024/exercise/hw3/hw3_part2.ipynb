{
 "cells": [
  {
   "cell_type": "markdown",
   "id": "f112527d-1ca6-411a-8d5e-a243e9600472",
   "metadata": {},
   "source": [
    "Прошли математику и строки.\n",
    "\n",
    "Вторая часть задания решите используя язык питон.\n",
    "\n",
    "Вычислить результат следующих операций:"
   ]
  },
  {
   "cell_type": "code",
   "execution_count": 2,
   "id": "958d75e6-209b-4a93-9eb2-e75d07404c27",
   "metadata": {},
   "outputs": [
    {
     "data": {
      "text/plain": [
       "80"
      ]
     },
     "execution_count": 2,
     "metadata": {},
     "output_type": "execute_result"
    }
   ],
   "source": [
    "10 * (5 + 3)"
   ]
  },
  {
   "cell_type": "code",
   "execution_count": 3,
   "id": "c285bfeb-aba0-44a3-b27f-9b9e2b5246d8",
   "metadata": {},
   "outputs": [
    {
     "data": {
      "text/plain": [
       "7.0"
      ]
     },
     "execution_count": 3,
     "metadata": {},
     "output_type": "execute_result"
    }
   ],
   "source": [
    "(20 - 6) / 2"
   ]
  },
  {
   "cell_type": "code",
   "execution_count": 4,
   "id": "9d124901-1f3d-45ba-9780-f28df8a86167",
   "metadata": {},
   "outputs": [
    {
     "data": {
      "text/plain": [
       "32"
      ]
     },
     "execution_count": 4,
     "metadata": {},
     "output_type": "execute_result"
    }
   ],
   "source": [
    "2 ** 5"
   ]
  },
  {
   "cell_type": "code",
   "execution_count": 5,
   "id": "1e40bd35-7ae1-4c5d-8fa0-7112bc251b46",
   "metadata": {},
   "outputs": [
    {
     "data": {
      "text/plain": [
       "6"
      ]
     },
     "execution_count": 5,
     "metadata": {},
     "output_type": "execute_result"
    }
   ],
   "source": [
    "25 // 4"
   ]
  },
  {
   "cell_type": "code",
   "execution_count": 6,
   "id": "06f327bc-0bf3-4aa9-94cd-0e6911442304",
   "metadata": {},
   "outputs": [
    {
     "data": {
      "text/plain": [
       "1"
      ]
     },
     "execution_count": 6,
     "metadata": {},
     "output_type": "execute_result"
    }
   ],
   "source": [
    "25 % 4"
   ]
  },
  {
   "cell_type": "code",
   "execution_count": 7,
   "id": "beb7dbfb-4fbd-48ea-9fa0-cf921f0c5843",
   "metadata": {},
   "outputs": [],
   "source": [
    "number = -3.14"
   ]
  },
  {
   "cell_type": "code",
   "execution_count": 24,
   "id": "5f1c785d-f369-48e2-9976-d3c22f0d6bcb",
   "metadata": {},
   "outputs": [
    {
     "data": {
      "text/plain": [
       "3.0"
      ]
     },
     "execution_count": 24,
     "metadata": {},
     "output_type": "execute_result"
    }
   ],
   "source": [
    "#Округлите число до целого.\n",
    "int_part = number // -1\n",
    "int_part"
   ]
  },
  {
   "cell_type": "code",
   "execution_count": 26,
   "id": "1ac1463d-8008-46d1-a8d0-2fcc0dfcddc1",
   "metadata": {},
   "outputs": [
    {
     "data": {
      "text/plain": [
       "-3"
      ]
     },
     "execution_count": 26,
     "metadata": {},
     "output_type": "execute_result"
    }
   ],
   "source": [
    "int_part = int(number)\n",
    "int_part"
   ]
  },
  {
   "cell_type": "code",
   "execution_count": 34,
   "id": "92191582-1dbf-461d-b96e-daf93dc3b07a",
   "metadata": {},
   "outputs": [
    {
     "data": {
      "text/plain": [
       "-0.14000000000000012"
      ]
     },
     "execution_count": 34,
     "metadata": {},
     "output_type": "execute_result"
    }
   ],
   "source": [
    "#Возьмите остаток числа.\n",
    "rem = number % (-3)\n",
    "rem"
   ]
  },
  {
   "cell_type": "code",
   "execution_count": 27,
   "id": "36e263a7-83fc-43a0-ba9b-96a4993b9396",
   "metadata": {},
   "outputs": [
    {
     "data": {
      "text/plain": [
       "-0.14000000000000012"
      ]
     },
     "execution_count": 27,
     "metadata": {},
     "output_type": "execute_result"
    }
   ],
   "source": [
    "rem = number + 3\n",
    "rem"
   ]
  },
  {
   "cell_type": "code",
   "execution_count": 36,
   "id": "a3850599-35c0-4f61-8609-cd86477e7c27",
   "metadata": {},
   "outputs": [
    {
     "data": {
      "text/plain": [
       "-0.14"
      ]
     },
     "execution_count": 36,
     "metadata": {},
     "output_type": "execute_result"
    }
   ],
   "source": [
    "r_rem = round(rem,2)\n",
    "r_rem"
   ]
  },
  {
   "cell_type": "markdown",
   "id": "cabd960b-6f24-495d-9ca2-45805618a6e6",
   "metadata": {},
   "source": [
    "Даны стороны прямоугольника: a = 5, b = 7.\n",
    "Вычислить площадь прямоугольника и вывести результат на экран."
   ]
  },
  {
   "cell_type": "code",
   "execution_count": 37,
   "id": "2602259c-636f-49b2-8439-b5ef5b00f873",
   "metadata": {},
   "outputs": [
    {
     "data": {
      "text/plain": [
       "35"
      ]
     },
     "execution_count": 37,
     "metadata": {},
     "output_type": "execute_result"
    }
   ],
   "source": [
    "a = 5\n",
    "b = 7\n",
    "sq = a*b\n",
    "sq"
   ]
  },
  {
   "cell_type": "markdown",
   "id": "0ac4960a-2c3d-43cc-a846-8bf7a16c0b35",
   "metadata": {},
   "source": [
    "На какой объем воздуха должен быть расчитан кондиционер, если с его помощью хотят охлаждать квартиру в которой размер гостинной 3.5 на 6.4 метра, спальни 3.4 на 4 метра и площадь не жилой части 11 метров. При том что высота потолков 3,1 метр."
   ]
  },
  {
   "cell_type": "code",
   "execution_count": 44,
   "id": "730e4cbc-e6bb-4da2-81f2-2200166b1b0b",
   "metadata": {},
   "outputs": [
    {
     "data": {
      "text/plain": [
       "145.70000000000002"
      ]
     },
     "execution_count": 44,
     "metadata": {},
     "output_type": "execute_result"
    }
   ],
   "source": [
    "lr_s1 = 3.5\n",
    "lr_s2 = 6.4\n",
    "br_s1 = 3.4\n",
    "br_s2 = 4\n",
    "oth = 11\n",
    "h = 3.1\n",
    "cond_vol_min = (lr_s1 * lr_s2 * h) + (br_s1 * br_s2 * h) + (oth * h)\n",
    "cond_vol_min"
   ]
  },
  {
   "cell_type": "markdown",
   "id": "8b5f216b-5847-4dcd-a73e-a68dfc681e32",
   "metadata": {},
   "source": [
    "Дано квадратное уравнение вида ax^2 + bx + c = 0.\n",
    "Найти его решения, используя формулу дискриминанта.\n",
    "a номер текущего месяца\n",
    "b номер вашей группы\n",
    "c минус десять (-10)"
   ]
  },
  {
   "cell_type": "code",
   "execution_count": 54,
   "id": "298bd4ce-be4a-4c5a-ad5b-01dd81b85b54",
   "metadata": {},
   "outputs": [
    {
     "name": "stdout",
     "output_type": "stream",
     "text": [
      "X1 = 2.0, X2 = -2.5\n"
     ]
    },
    {
     "data": {
      "text/plain": [
       "(2.0, -2.5)"
      ]
     },
     "execution_count": 54,
     "metadata": {},
     "output_type": "execute_result"
    }
   ],
   "source": [
    "a = 2\n",
    "b = 1\n",
    "c = -10\n",
    "def solve_q_eq (a, b,c):\n",
    "    D = (b ** 2) - (4 * a * c)\n",
    "    if D > 0:\n",
    "        x1 = (-1 * b + D ** 0.5) / (2 * a)\n",
    "        x2 = (-1 * b - D ** 0.5) / (2 * a)\n",
    "        print(\"X1 = %s, X2 = %s\" % (x1, x2))\n",
    "        return (x1, x2)\n",
    "    elif D == 0:\n",
    "        x = (-1 * b) / (2 * a)\n",
    "        print(\"X = %s\" %x)\n",
    "        return(x)\n",
    "    elif D < 0:\n",
    "        print ( \"Корней нет\" )\n",
    "        return None\n",
    "\n",
    "solve_q_eq (a, b, c)\n",
    "    "
   ]
  },
  {
   "cell_type": "markdown",
   "id": "a3071ecd-57ea-4de7-9382-f8db0427e2df",
   "metadata": {},
   "source": [
    "Даны строки:\n",
    "string1 = \"hello, \"\n",
    "string2 = \"world!\"\n",
    "Объединить строки string1 и string2 и результат вывести на экран так чтобы первая буква в предложении стала заглавной."
   ]
  },
  {
   "cell_type": "code",
   "execution_count": 55,
   "id": "66f81b34-b9da-4ff5-b1bf-9b3c9e0ef351",
   "metadata": {},
   "outputs": [
    {
     "name": "stdout",
     "output_type": "stream",
     "text": [
      "Hello, world!\n"
     ]
    }
   ],
   "source": [
    "string1 = \"hello, \" \n",
    "string2 = \"world!\"\n",
    "hw = (string1 + string2)\n",
    "hw_c = hw.capitalize()\n",
    "print (hw_c)"
   ]
  },
  {
   "cell_type": "markdown",
   "id": "c549d35c-faa4-4bd9-ab2c-0a3443765cb1",
   "metadata": {},
   "source": [
    "Сколько символов было в предыдущей строке?"
   ]
  },
  {
   "cell_type": "code",
   "execution_count": 57,
   "id": "fb079c29-96d8-4f88-970c-b7ef0e924dc1",
   "metadata": {},
   "outputs": [
    {
     "data": {
      "text/plain": [
       "13"
      ]
     },
     "execution_count": 57,
     "metadata": {},
     "output_type": "execute_result"
    }
   ],
   "source": [
    "len(hw_c)"
   ]
  },
  {
   "cell_type": "markdown",
   "id": "e1a17798-7c03-4589-a44c-02b2cba649a9",
   "metadata": {},
   "source": [
    "Выведите на экран строку la 25 раз."
   ]
  },
  {
   "cell_type": "code",
   "execution_count": 59,
   "id": "fe825524-0784-4844-bc1c-99ed007036d8",
   "metadata": {},
   "outputs": [
    {
     "data": {
      "text/plain": [
       "'lalalalalalalalalalalalalalalalalalalalalalalalala'"
      ]
     },
     "execution_count": 59,
     "metadata": {},
     "output_type": "execute_result"
    }
   ],
   "source": [
    "s = \"la\"\n",
    "s25 = s * 25\n",
    "s25"
   ]
  },
  {
   "cell_type": "markdown",
   "id": "ebc694ef-868d-4ff2-ae9b-4fccdcbe788f",
   "metadata": {},
   "source": [
    "Дан список чисел:\n",
    "numbers = [1, 2, 3, 4, 5]\n",
    "Выполнить следующие операции:\n",
    "1. Измените число 2 на строку \"hi\" \n",
    "2. Выведите значение, находящееся на позиции 2.\n",
    "3. Изменить значение на позиции 4 на список из 3 элементов [8, 6, 4].\n",
    "Результаты вывести на экран."
   ]
  },
  {
   "cell_type": "code",
   "execution_count": 61,
   "id": "f34fc81c-6d5b-43ef-9a25-a092b046a79d",
   "metadata": {},
   "outputs": [
    {
     "data": {
      "text/plain": [
       "[1, 'hi', 3, 4, 5]"
      ]
     },
     "execution_count": 61,
     "metadata": {},
     "output_type": "execute_result"
    }
   ],
   "source": [
    "numbers = [1, 2, 3, 4, 5]\n",
    "numbers[1] = 'hi'\n",
    "numbers"
   ]
  },
  {
   "cell_type": "code",
   "execution_count": 65,
   "id": "159cde7a-06e5-4467-9072-19e4a5b8cb68",
   "metadata": {},
   "outputs": [
    {
     "name": "stdout",
     "output_type": "stream",
     "text": [
      "3\n"
     ]
    }
   ],
   "source": [
    "el_i3 = numbers[2]\n",
    "print (el_i3)"
   ]
  },
  {
   "cell_type": "code",
   "execution_count": 64,
   "id": "5ee429e1-9812-43dc-bf2d-2ecebb2bead6",
   "metadata": {},
   "outputs": [
    {
     "data": {
      "text/plain": [
       "[1, 'hi', 3, 4, [8, 6, 4]]"
      ]
     },
     "execution_count": 64,
     "metadata": {},
     "output_type": "execute_result"
    }
   ],
   "source": [
    "l = [8, 6, 4]\n",
    "numbers[4] = l\n",
    "print(numbers)"
   ]
  },
  {
   "cell_type": "markdown",
   "id": "44b872b5-089a-4ffd-bbe5-11e18e7323d5",
   "metadata": {},
   "source": [
    "Дан список чисел:\n",
    "numbers = [1, 2, 3, 4, 5, 6, 7, 8, 9, 10]\n",
    "Извлеките подсписок с 3-го по 7-й элемент включительно."
   ]
  },
  {
   "cell_type": "code",
   "execution_count": 66,
   "id": "b3764192-18f4-4f92-8cb9-06f000a72c98",
   "metadata": {},
   "outputs": [
    {
     "data": {
      "text/plain": [
       "[3, 4, 5, 6, 7]"
      ]
     },
     "execution_count": 66,
     "metadata": {},
     "output_type": "execute_result"
    }
   ],
   "source": [
    "numbers = [1, 2, 3, 4, 5, 6, 7, 8, 9, 10]\n",
    "num_extr = numbers [2:7]\n",
    "num_extr"
   ]
  }
 ],
 "metadata": {
  "kernelspec": {
   "display_name": "Python 3 (ipykernel)",
   "language": "python",
   "name": "python3"
  },
  "language_info": {
   "codemirror_mode": {
    "name": "ipython",
    "version": 3
   },
   "file_extension": ".py",
   "mimetype": "text/x-python",
   "name": "python",
   "nbconvert_exporter": "python",
   "pygments_lexer": "ipython3",
   "version": "3.10.10"
  }
 },
 "nbformat": 4,
 "nbformat_minor": 5
}
