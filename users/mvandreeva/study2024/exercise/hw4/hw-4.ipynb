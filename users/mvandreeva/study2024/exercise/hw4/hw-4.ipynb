{
 "cells": [
  {
   "cell_type": "markdown",
   "id": "bdda8c75-105b-4f24-8862-673bcc68f447",
   "metadata": {},
   "source": [
    "Домашнее задание №4. \n",
    "Списки и операции с ними."
   ]
  },
  {
   "cell_type": "markdown",
   "id": "de36547c-88dd-4997-a12c-cdeb1e9e6ac8",
   "metadata": {},
   "source": [
    "Задание 1.\n",
    "выполните следующий код\n",
    "<code>\n",
    "list_one = [1, 2, 3, 4, 5, 6, 9]\n",
    "list_two = [1, 2, 3, 4, 5, 6, 9]\n",
    "list_two.append(789)\n",
    "print(list_one, list_two, sep='\\n') \n",
    "</code>\n",
    "затем выполните код \n",
    "<code>\n",
    "list_one = [1, 2, 3, 4, 5, 6, 9]\n",
    "list_two = list_one\n",
    "list_two.append(789)\n",
    "print(list_one, list_two, sep='\\n')     \n",
    "</code>\n",
    "запишите объяснения разницы в выполнении кода в переменную difference_explanation и выведите ее на экран"
   ]
  },
  {
   "cell_type": "code",
   "execution_count": 1,
   "id": "680d9e95-a34c-4f6c-8693-3a72207219b5",
   "metadata": {},
   "outputs": [
    {
     "name": "stdout",
     "output_type": "stream",
     "text": [
      "[1, 2, 3, 4, 5, 6, 9]\n",
      "[1, 2, 3, 4, 5, 6, 9, 789]\n"
     ]
    }
   ],
   "source": [
    "list_one = [1, 2, 3, 4, 5, 6, 9]\n",
    "list_two = [1, 2, 3, 4, 5, 6, 9]\n",
    "list_two.append(789)\n",
    "print(list_one, list_two, sep='\\n') "
   ]
  },
  {
   "cell_type": "code",
   "execution_count": 2,
   "id": "80fe5492-2630-425a-abd6-b98b3fcc6d0e",
   "metadata": {},
   "outputs": [
    {
     "name": "stdout",
     "output_type": "stream",
     "text": [
      "[1, 2, 3, 4, 5, 6, 9, 789]\n",
      "[1, 2, 3, 4, 5, 6, 9, 789]\n"
     ]
    }
   ],
   "source": [
    "list_one = [1, 2, 3, 4, 5, 6, 9]\n",
    "list_two = list_one\n",
    "list_two.append(789)\n",
    "print(list_one, list_two, sep='\\n')"
   ]
  },
  {
   "cell_type": "code",
   "execution_count": 1,
   "id": "db7a6d34-c438-4045-a795-bfec907e0084",
   "metadata": {},
   "outputs": [
    {
     "data": {
      "text/plain": [
       "'В первом случае переменным list_one и list_two присваиваются раздельные значения, которые хрвнятся в разных ячейках памяти. Во стором случае в переменную list_two переприсваивается по ссылке значение из переменной list_one, поэтому при изменении одного из списков меняется и второй.'"
      ]
     },
     "execution_count": 1,
     "metadata": {},
     "output_type": "execute_result"
    }
   ],
   "source": [
    "difference_explanation = \"В первом случае переменным list_one и list_two присваиваются раздельные значения, которые хрвнятся в разных ячейках памяти. Во стором случае в переменную list_two переприсваивается по ссылке значение из переменной list_one, поэтому при изменении одного из списков меняется и второй.\"\n",
    "difference_explanation "
   ]
  },
  {
   "cell_type": "markdown",
   "id": "9062939d-6f44-44cf-9b28-5854ebeb1594",
   "metadata": {},
   "source": [
    "Задание 2.\n",
    "Задайте переменную a_poem типа строка, со следующим содержимым:\n",
    "<code>\n",
    "За стеклом лежал Питон,\n",
    "Большой и толстый, как батон.\n",
    "Вверх пополз,\n",
    "Затем вернулся,\n",
    "Круглым бубликом свернулся.\n",
    "</code>\n",
    "- Создайте переменную a_list типа список, заполнив ее содержимым строки a_poem так, чтобы каждый символ строки a_poem стал отдельным элементом списка a_list\n",
    "- Создайте переменную another_list типа список, заполнив ее содержимым строки a_poem так, чтобы каждое слово строки a_poem стал отдельным элементом списка another_list. Знаки препинания прилипнут к словам, не страшно.\n",
    "- Выведите на экран элементы и их количество для списков a_list и another_list.\n",
    "- Создайте переменную one_more_list типа список, каждым элементом которой является отдельная строка строфы из a_poem. Выведите на экран элементы one_more_list и их количество."
   ]
  },
  {
   "cell_type": "code",
   "execution_count": 3,
   "id": "ac243f9a-2a7a-49aa-b58b-993fea424ec4",
   "metadata": {},
   "outputs": [
    {
     "data": {
      "text/plain": [
       "'За стеклом лежал Питон,\\nБольшой и толстый, как батон.\\nВверх пополз,\\nЗатем вернулся,\\nКруглым бубликом свернулся.'"
      ]
     },
     "execution_count": 3,
     "metadata": {},
     "output_type": "execute_result"
    }
   ],
   "source": [
    "a_poem = \"\"\"За стеклом лежал Питон,\n",
    "Большой и толстый, как батон.\n",
    "Вверх пополз,\n",
    "Затем вернулся,\n",
    "Круглым бубликом свернулся.\"\"\"\n",
    "a_poem"
   ]
  },
  {
   "cell_type": "code",
   "execution_count": 4,
   "id": "93eda024-b90d-443b-9927-e069576dcc4c",
   "metadata": {},
   "outputs": [
    {
     "name": "stdout",
     "output_type": "stream",
     "text": [
      "['З', 'а', ' ', 'с', 'т', 'е', 'к', 'л', 'о', 'м', ' ', 'л', 'е', 'ж', 'а', 'л', ' ', 'П', 'и', 'т', 'о', 'н', ',', '\\n', 'Б', 'о', 'л', 'ь', 'ш', 'о', 'й', ' ', 'и', ' ', 'т', 'о', 'л', 'с', 'т', 'ы', 'й', ',', ' ', 'к', 'а', 'к', ' ', 'б', 'а', 'т', 'о', 'н', '.', '\\n', 'В', 'в', 'е', 'р', 'х', ' ', 'п', 'о', 'п', 'о', 'л', 'з', ',', '\\n', 'З', 'а', 'т', 'е', 'м', ' ', 'в', 'е', 'р', 'н', 'у', 'л', 'с', 'я', ',', '\\n', 'К', 'р', 'у', 'г', 'л', 'ы', 'м', ' ', 'б', 'у', 'б', 'л', 'и', 'к', 'о', 'м', ' ', 'с', 'в', 'е', 'р', 'н', 'у', 'л', 'с', 'я', '.']\n"
     ]
    }
   ],
   "source": [
    "a_list = list(a_poem)\n",
    "print(a_list)"
   ]
  },
  {
   "cell_type": "code",
   "execution_count": 5,
   "id": "0afac558-df7c-4c1f-aa4c-202209e59de6",
   "metadata": {},
   "outputs": [
    {
     "data": {
      "text/plain": [
       "['За',\n",
       " 'стеклом',\n",
       " 'лежал',\n",
       " 'Питон,',\n",
       " 'Большой',\n",
       " 'и',\n",
       " 'толстый,',\n",
       " 'как',\n",
       " 'батон.',\n",
       " 'Вверх',\n",
       " 'пополз,',\n",
       " 'Затем',\n",
       " 'вернулся,',\n",
       " 'Круглым',\n",
       " 'бубликом',\n",
       " 'свернулся.']"
      ]
     },
     "execution_count": 5,
     "metadata": {},
     "output_type": "execute_result"
    }
   ],
   "source": [
    "another_list = a_poem.split()\n",
    "another_list"
   ]
  },
  {
   "cell_type": "code",
   "execution_count": 6,
   "id": "c5252c03-764c-4a07-bd0c-f94250a46e1f",
   "metadata": {},
   "outputs": [
    {
     "name": "stdout",
     "output_type": "stream",
     "text": [
      "['З', 'а', ' ', 'с', 'т', 'е', 'к', 'л', 'о', 'м', ' ', 'л', 'е', 'ж', 'а', 'л', ' ', 'П', 'и', 'т', 'о', 'н', ',', '\\n', 'Б', 'о', 'л', 'ь', 'ш', 'о', 'й', ' ', 'и', ' ', 'т', 'о', 'л', 'с', 'т', 'ы', 'й', ',', ' ', 'к', 'а', 'к', ' ', 'б', 'а', 'т', 'о', 'н', '.', '\\n', 'В', 'в', 'е', 'р', 'х', ' ', 'п', 'о', 'п', 'о', 'л', 'з', ',', '\\n', 'З', 'а', 'т', 'е', 'м', ' ', 'в', 'е', 'р', 'н', 'у', 'л', 'с', 'я', ',', '\\n', 'К', 'р', 'у', 'г', 'л', 'ы', 'м', ' ', 'б', 'у', 'б', 'л', 'и', 'к', 'о', 'м', ' ', 'с', 'в', 'е', 'р', 'н', 'у', 'л', 'с', 'я', '.'] \n",
      " 111 \n",
      " ['За', 'стеклом', 'лежал', 'Питон,', 'Большой', 'и', 'толстый,', 'как', 'батон.', 'Вверх', 'пополз,', 'Затем', 'вернулся,', 'Круглым', 'бубликом', 'свернулся.'] \n",
      " 16\n"
     ]
    }
   ],
   "source": [
    "print(a_list,\"\\n\", len(a_list),\"\\n\", another_list,\"\\n\", len(another_list))"
   ]
  },
  {
   "cell_type": "code",
   "execution_count": 8,
   "id": "aadb2ba5-9b94-4841-9695-9da80134ae32",
   "metadata": {},
   "outputs": [
    {
     "data": {
      "text/plain": [
       "['За стеклом лежал Питон,',\n",
       " 'Большой и толстый, как батон.',\n",
       " 'Вверх пополз,',\n",
       " 'Затем вернулся,',\n",
       " 'Круглым бубликом свернулся.']"
      ]
     },
     "execution_count": 8,
     "metadata": {},
     "output_type": "execute_result"
    }
   ],
   "source": [
    "one_more_list = a_poem.split(\"\\n\")\n",
    "one_more_list"
   ]
  },
  {
   "cell_type": "code",
   "execution_count": 9,
   "id": "27298721-692e-4db6-8767-f5aaeea38503",
   "metadata": {},
   "outputs": [
    {
     "data": {
      "text/plain": [
       "5"
      ]
     },
     "execution_count": 9,
     "metadata": {},
     "output_type": "execute_result"
    }
   ],
   "source": [
    "len(one_more_list)"
   ]
  },
  {
   "cell_type": "markdown",
   "id": "2b39f64c-c7d4-4eb5-907e-d0d9f598c33f",
   "metadata": {},
   "source": [
    "Задание 3.\n",
    "- Создайте список solyanka_list, в качестве его элементов добавьте значения каждого из известных вам типов данных python.\n",
    "- Выведите на экран содержимое списка solyanka_list.\n",
    "- Посчитайте количество элементов списка solyanka_list.\n",
    "- Выведите на экран тип пятого от начала списка элемента.\n",
    "- Добавьте в конец списка solyanka_list элемент типа \"список\" из одного элемента\n",
    "- Выведите на экран тип последнего элемента списка solyanka_list "
   ]
  },
  {
   "cell_type": "code",
   "execution_count": 12,
   "id": "1317a98b-5c29-4cb5-b0cf-9dc94a030f08",
   "metadata": {},
   "outputs": [
    {
     "name": "stdout",
     "output_type": "stream",
     "text": [
      "[7, 'hi', 6.8, True, [3, 8, 9], (1, 4, 6), {'name': 'Vasya', 'age': 32}, {1, 2, 3}, None]\n",
      "9\n"
     ]
    }
   ],
   "source": [
    "solyanka_list = [7,\"hi\", 6.8, True, [3, 8, 9], (1, 4, 6), {\"name\": \"Vasya\", \"age\": 32}, {1,2,3}, None]\n",
    "print(solyanka_list)\n",
    "print(len(solyanka_list))"
   ]
  },
  {
   "cell_type": "code",
   "execution_count": 13,
   "id": "95691be6-2a89-431a-9612-f3ac26ded9e6",
   "metadata": {},
   "outputs": [
    {
     "name": "stdout",
     "output_type": "stream",
     "text": [
      "<class 'list'>\n"
     ]
    }
   ],
   "source": [
    "print(type(solyanka_list[4]))"
   ]
  },
  {
   "cell_type": "code",
   "execution_count": 14,
   "id": "6db9b422-76c5-416d-a6d3-87398c61320a",
   "metadata": {},
   "outputs": [
    {
     "name": "stdout",
     "output_type": "stream",
     "text": [
      "<class 'list'>\n"
     ]
    }
   ],
   "source": [
    "solyanka_list.append([7])\n",
    "print(type(solyanka_list[-1]))"
   ]
  },
  {
   "cell_type": "markdown",
   "id": "1c3f95c6-cd6a-4ce5-b70b-654e896551fa",
   "metadata": {},
   "source": [
    "Задание 4.\n",
    "Дана последовательности чисел Фибоначчи из нескольких элементов:\n",
    "<code>\n",
    "0, 1, 1, 2, 3, 5, 8, 13, 21, 34, 55, 89, 144, 233, 377, 610, 987, 1597, 2584, 4181, 6765, 10946, 17711\n",
    "</code>\n",
    "- Создайте список fibonacci_list, элементами которого будут числа Фибонначи из задания.\n",
    "- Посчитайте и выведите на экран, сколько чисел Фибоначчи в последовательности из задания\n",
    "- Посчитайте и выведите на экран, сколько раз число 1 входит в заданную последовательность Фибоначчи.\n",
    "- Проверьте и выведите на экран результат, является ли число 21 числом Фибоначчи. Число 33? Число 987? число 9999?\n",
    "использование оператора if возможно, но не является необходимым\n"
   ]
  },
  {
   "cell_type": "code",
   "execution_count": 15,
   "id": "ea8bb03d-b06c-4f60-af8a-dcf862bc80d0",
   "metadata": {},
   "outputs": [
    {
     "name": "stdout",
     "output_type": "stream",
     "text": [
      "23\n"
     ]
    }
   ],
   "source": [
    "fibonacci_list = [0, 1, 1, 2, 3, 5, 8, 13, 21, 34, 55, 89, 144, 233, 377, 610, 987, 1597, 2584, 4181, 6765, 10946, 17711]\n",
    "print(len(fibonacci_list))"
   ]
  },
  {
   "cell_type": "code",
   "execution_count": 19,
   "id": "4a1a9dca-f1e2-4780-a8e4-16c2ff517320",
   "metadata": {},
   "outputs": [
    {
     "name": "stdout",
     "output_type": "stream",
     "text": [
      "2\n"
     ]
    }
   ],
   "source": [
    "count_1 = fibonacci_list.count(1)\n",
    "print(count_1)"
   ]
  },
  {
   "cell_type": "code",
   "execution_count": 25,
   "id": "0bb9ab8f-ffab-49bf-86ed-3d2965b17068",
   "metadata": {},
   "outputs": [
    {
     "name": "stdout",
     "output_type": "stream",
     "text": [
      "21:  True\n",
      "33:  False\n",
      "987:  True\n",
      "9999:  False\n"
     ]
    }
   ],
   "source": [
    "num_check = [21, 33, 987, 9999]\n",
    "for i in num_check:\n",
    "    print('%s: ' %i, (i in fibonacci_list))"
   ]
  },
  {
   "cell_type": "markdown",
   "id": "dcdad8af-7eb3-4141-9ddf-fe563743c56b",
   "metadata": {},
   "source": [
    "Задание 5.\n",
    "Задайте переменную a_list типа \"список\" со следующим содержимым:\n",
    "<code>\n",
    "1,2,5,4,3,6\n",
    "</code>\n",
    "- выведите содержимое a_list на экран\n",
    "- поменяйте местами третий и пятый элементы a_list и выведите результат на экран"
   ]
  },
  {
   "cell_type": "code",
   "execution_count": 26,
   "id": "bda69f95-b8b5-4129-b0cb-d4ccbedc60c7",
   "metadata": {},
   "outputs": [
    {
     "name": "stdout",
     "output_type": "stream",
     "text": [
      "[1, 2, 5, 4, 3, 6]\n",
      "[1, 2, 3, 4, 5, 6]\n"
     ]
    }
   ],
   "source": [
    "a_list = [1,2,5,4,3,6]\n",
    "print(a_list)\n",
    "a_list[2],a_list[4] = a_list[4], a_list[2]\n",
    "print(a_list)"
   ]
  },
  {
   "cell_type": "markdown",
   "id": "15144689-623a-43a5-80ca-0483f66017a1",
   "metadata": {},
   "source": [
    "Задание 6.\n",
    "    Кто-то перепутал строчки в стихотворении, хорошо что они были пронумерованы.\n",
    "<code>\n",
    "    (2, \"тот большего добьётся,\" )\n",
    "    (5, \"Кто умирал, тот знает, что живёт.\")\n",
    "    (1, \"Кто битым жизнью был,\" )\n",
    "    (3, \"Пуд соли съевший выше ценит мёд.\")\n",
    "    (4, \"Кто слёзы лил, тот искренней смеётся,\") \n",
    "</code>\n",
    "    выведите на экран строки Омара Хайама в правильном порядке, используя список."
   ]
  },
  {
   "cell_type": "code",
   "execution_count": 27,
   "id": "e85d1901-5856-41e1-bfb8-382e8489f86b",
   "metadata": {},
   "outputs": [
    {
     "data": {
      "text/plain": [
       "[(1, 'Кто битым жизнью был,'),\n",
       " (2, 'тот большего добьётся,'),\n",
       " (3, 'Пуд соли съевший выше ценит мёд.'),\n",
       " (4, 'Кто слёзы лил, тот искренней смеётся,'),\n",
       " (5, 'Кто умирал, тот знает, что живёт.')]"
      ]
     },
     "execution_count": 27,
     "metadata": {},
     "output_type": "execute_result"
    }
   ],
   "source": [
    "omar = [(2, \"тот большего добьётся,\" ),\n",
    "    (5, \"Кто умирал, тот знает, что живёт.\"),\n",
    "    (1, \"Кто битым жизнью был,\" ),\n",
    "    (3, \"Пуд соли съевший выше ценит мёд.\"),\n",
    "    (4, \"Кто слёзы лил, тот искренней смеётся,\") ]\n",
    "omar.sort()\n",
    "omar"
   ]
  },
  {
   "cell_type": "markdown",
   "id": "d1eaace5-016a-4564-b189-33876e6c0e20",
   "metadata": {},
   "source": [
    "Задание 7.\n",
    "<code>\n",
    "Кто битым за дедлайн был,\n",
    "тот больше не сольется.\n",
    "Пуд багов съевший, выше ценит чистый код.\n",
    "Кто дошик ел, тот рейтинг ценит свой.\n",
    "Кто крашился, тот знает, что живой.\n",
    "</code>\n",
    "В данном задании после каждой операции выводите на экран содержимое true_story_list и количество его элементов.\n",
    "- Создайте переменную true_story_list типа список, занесите в неё третью строку из стихотворения выше.\n",
    "- Добавьте четвертую строку в конец списка true_story_list.\n",
    "- Создайте переменную true_story_slice типа список, занесите в неё четвертую и пятую строки из стихотворения выше. Добавьте содержимое true_story_slice как один последний элемент списка true_story_list.\n",
    "- Очистите весь список true_story_slice, выведите его содержимое на экран.\n",
    "- Добавьте первую строку из стихотворение в начало списка true_story_list\n",
    "- Удалите из true_story_list все элементы.\n",
    "- Удалите последний элемент списка true_story_list\n",
    "- Добавьте вторым элементом списка true_story_list вторую строчку стихотворения\n",
    "- Создайте переменную true_story_tail типа список, занесите в него пятую строку стихотворения дважды. Скопируйте элементы списка true_story_tail в конец списка true_story_list.\n",
    "- Удалите 5 элемент списка true_story_list.\n",
    "- *Выведите список true_story_list красиво в виде стихотворения. (кажется, это ещё не проходили, но попробовать стоит)"
   ]
  },
  {
   "cell_type": "code",
   "execution_count": 28,
   "id": "f022d5b0-5d91-4662-9bf2-6bc20fb1b269",
   "metadata": {},
   "outputs": [
    {
     "data": {
      "text/plain": [
       "['Кто битым за дедлайн был,',\n",
       " 'тот больше не сольется.',\n",
       " 'Пуд багов съевший, выше ценит чистый код.',\n",
       " 'Кто дошик ел, тот рейтинг ценит свой.',\n",
       " 'Кто крашился, тот знает, что живой.']"
      ]
     },
     "execution_count": 28,
     "metadata": {},
     "output_type": "execute_result"
    }
   ],
   "source": [
    "poem = \"\"\"Кто битым за дедлайн был,\n",
    "тот больше не сольется.\n",
    "Пуд багов съевший, выше ценит чистый код.\n",
    "Кто дошик ел, тот рейтинг ценит свой.\n",
    "Кто крашился, тот знает, что живой.\"\"\"\n",
    "poem_list = poem.split('\\n')\n",
    "poem_list"
   ]
  },
  {
   "cell_type": "code",
   "execution_count": 30,
   "id": "f40fa775-8879-4f17-b419-94e0abf64173",
   "metadata": {},
   "outputs": [
    {
     "name": "stdout",
     "output_type": "stream",
     "text": [
      "['Пуд багов съевший, выше ценит чистый код.'] \n",
      " 1\n"
     ]
    }
   ],
   "source": [
    "true_story_list = [poem_list[2]]\n",
    "print(true_story_list,\"\\n\",len(true_story_list))"
   ]
  },
  {
   "cell_type": "code",
   "execution_count": 31,
   "id": "ba376ff2-cda9-4d31-8513-f1779293f7e7",
   "metadata": {},
   "outputs": [
    {
     "name": "stdout",
     "output_type": "stream",
     "text": [
      "['Пуд багов съевший, выше ценит чистый код.', 'Кто дошик ел, тот рейтинг ценит свой.'] \n",
      " 2\n"
     ]
    }
   ],
   "source": [
    "true_story_list.append(poem_list[3])\n",
    "print(true_story_list,\"\\n\",len(true_story_list))"
   ]
  },
  {
   "cell_type": "code",
   "execution_count": 39,
   "id": "6efd6837-aa97-458c-956e-6ab3567ec45d",
   "metadata": {},
   "outputs": [
    {
     "name": "stdout",
     "output_type": "stream",
     "text": [
      "['Кто битым за дедлайн был,', 'Пуд багов съевший, выше ценит чистый код.', 'Кто дошик ел, тот рейтинг ценит свой.', ['Кто дошик ел, тот рейтинг ценит свой.', 'Кто крашился, тот знает, что живой.']] \n",
      " 4\n"
     ]
    }
   ],
   "source": [
    "true_story_slice = poem_list[3:5]\n",
    "true_story_list.append(true_story_slice)\n",
    "print(true_story_list,\"\\n\",len(true_story_list))"
   ]
  },
  {
   "cell_type": "code",
   "execution_count": 40,
   "id": "7b246f9b-483a-41f9-8195-f722fabb8171",
   "metadata": {},
   "outputs": [
    {
     "data": {
      "text/plain": [
       "[]"
      ]
     },
     "execution_count": 40,
     "metadata": {},
     "output_type": "execute_result"
    }
   ],
   "source": [
    "true_story_slice.clear()\n",
    "true_story_slice"
   ]
  },
  {
   "cell_type": "code",
   "execution_count": 41,
   "id": "1035d8a9-f0c2-4b33-9dc3-19868010adee",
   "metadata": {},
   "outputs": [
    {
     "name": "stdout",
     "output_type": "stream",
     "text": [
      "['Кто битым за дедлайн был,', 'Кто битым за дедлайн был,', 'Пуд багов съевший, выше ценит чистый код.', 'Кто дошик ел, тот рейтинг ценит свой.', []] \n",
      " 5\n"
     ]
    }
   ],
   "source": [
    "true_story_list.insert(0, poem_list[0])\n",
    "print(true_story_list,\"\\n\",len(true_story_list))"
   ]
  },
  {
   "cell_type": "code",
   "execution_count": 45,
   "id": "c1451706-cb60-473b-b075-2b84c448b69f",
   "metadata": {},
   "outputs": [
    {
     "name": "stdout",
     "output_type": "stream",
     "text": [
      "['Кто битым за дедлайн был,', 'Кто битым за дедлайн был,', 'Пуд багов съевший, выше ценит чистый код.', 'Кто дошик ел, тот рейтинг ценит свой.', ['Кто дошик ел, тот рейтинг ценит свой.', 'Кто крашился, тот знает, что живой.']] \n",
      " 5\n",
      "[]\n",
      "['Кто битым за дедлайн был,', 'Кто битым за дедлайн был,', 'Пуд багов съевший, выше ценит чистый код.', 'Кто дошик ел, тот рейтинг ценит свой.', ['Кто дошик ел, тот рейтинг ценит свой.', 'Кто крашился, тот знает, что живой.']] \n",
      " 5\n"
     ]
    }
   ],
   "source": [
    "true_story_slice = poem_list[3:5]\n",
    "true_story_list.append(true_story_slice)\n",
    "print(true_story_list,\"\\n\",len(true_story_list))\n",
    "true_story_slice = [] #разный результат. при использовании метода clear, после очистки списка он очистился и в true_story_list, а здесь остался! \n",
    "print(true_story_slice)\n",
    "print(true_story_list,\"\\n\",len(true_story_list))\n",
    "true_story_list.pop()"
   ]
  },
  {
   "cell_type": "code",
   "execution_count": 35,
   "id": "66e2ecb6-5bcc-41b7-afd1-48ce1b6bec2c",
   "metadata": {},
   "outputs": [],
   "source": [
    "# Удалите из true_story_list все элементы. \n",
    "pass"
   ]
  },
  {
   "cell_type": "code",
   "execution_count": 46,
   "id": "c8863bad-d785-4e84-974a-09e488789916",
   "metadata": {},
   "outputs": [
    {
     "name": "stdout",
     "output_type": "stream",
     "text": [
      "['Кто битым за дедлайн был,', 'Кто битым за дедлайн был,', 'Пуд багов съевший, выше ценит чистый код.', 'Кто дошик ел, тот рейтинг ценит свой.'] \n",
      " 4\n"
     ]
    }
   ],
   "source": [
    "true_story_list.pop()\n",
    "print(true_story_list,\"\\n\",len(true_story_list))"
   ]
  },
  {
   "cell_type": "code",
   "execution_count": 47,
   "id": "ff5d7fe6-637b-4660-b53d-9d019946015e",
   "metadata": {},
   "outputs": [
    {
     "name": "stdout",
     "output_type": "stream",
     "text": [
      "['Кто битым за дедлайн был,', 'тот больше не сольется.', 'Пуд багов съевший, выше ценит чистый код.', 'Кто дошик ел, тот рейтинг ценит свой.'] \n",
      " 4\n"
     ]
    }
   ],
   "source": [
    "true_story_list[1] = poem_list[1]\n",
    "print(true_story_list,\"\\n\",len(true_story_list))"
   ]
  },
  {
   "cell_type": "code",
   "execution_count": 48,
   "id": "dad94728-216e-4226-be3b-2ed93edf726f",
   "metadata": {},
   "outputs": [
    {
     "name": "stdout",
     "output_type": "stream",
     "text": [
      "['Кто крашился, тот знает, что живой.', 'Кто крашился, тот знает, что живой.']\n",
      "['Кто битым за дедлайн был,', 'тот больше не сольется.', 'Пуд багов съевший, выше ценит чистый код.', 'Кто дошик ел, тот рейтинг ценит свой.', 'Кто крашился, тот знает, что живой.', 'Кто крашился, тот знает, что живой.'] \n",
      " 6\n"
     ]
    }
   ],
   "source": [
    "true_story_tail = [poem_list[4]]\n",
    "true_story_tail.append(poem_list[4])\n",
    "print(true_story_tail)\n",
    "true_story_list.extend(true_story_tail)\n",
    "print(true_story_list,\"\\n\",len(true_story_list))"
   ]
  },
  {
   "cell_type": "code",
   "execution_count": 49,
   "id": "c05f2ab9-c214-4c06-bfaf-be07723abe8d",
   "metadata": {},
   "outputs": [
    {
     "name": "stdout",
     "output_type": "stream",
     "text": [
      "['Кто битым за дедлайн был,', 'тот больше не сольется.', 'Пуд багов съевший, выше ценит чистый код.', 'Кто дошик ел, тот рейтинг ценит свой.', 'Кто крашился, тот знает, что живой.'] \n",
      " 5\n"
     ]
    }
   ],
   "source": [
    "true_story_list.pop(4)\n",
    "print(true_story_list,\"\\n\",len(true_story_list))"
   ]
  },
  {
   "cell_type": "code",
   "execution_count": 53,
   "id": "15af4255-fcb2-4d9b-963b-3cac75606e2d",
   "metadata": {},
   "outputs": [
    {
     "name": "stdout",
     "output_type": "stream",
     "text": [
      "Кто битым за дедлайн был,\n",
      "тот больше не сольется.\n",
      "Пуд багов съевший, выше ценит чистый код.\n",
      "Кто дошик ел, тот рейтинг ценит свой.\n",
      "Кто крашился, тот знает, что живой.\n"
     ]
    }
   ],
   "source": [
    "true_story_poem = \"\\n\".join(true_story_list)\n",
    "print(true_story_poem)"
   ]
  },
  {
   "cell_type": "code",
   "execution_count": null,
   "id": "a910445c-ddd8-4c3f-83d5-e511095538bf",
   "metadata": {},
   "outputs": [],
   "source": []
  }
 ],
 "metadata": {
  "kernelspec": {
   "display_name": "Python 3 (ipykernel)",
   "language": "python",
   "name": "python3"
  },
  "language_info": {
   "codemirror_mode": {
    "name": "ipython",
    "version": 3
   },
   "file_extension": ".py",
   "mimetype": "text/x-python",
   "name": "python",
   "nbconvert_exporter": "python",
   "pygments_lexer": "ipython3",
   "version": "3.10.10"
  }
 },
 "nbformat": 4,
 "nbformat_minor": 5
}
