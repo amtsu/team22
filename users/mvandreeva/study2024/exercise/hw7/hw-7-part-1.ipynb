{
 "cells": [
  {
   "cell_type": "markdown",
   "id": "60d60ab7-f77e-4fb9-ac63-856dfc605f3b",
   "metadata": {},
   "source": [
    "<h1>Функции, циклы, условные операторы </h1>"
   ]
  },
  {
   "cell_type": "code",
   "execution_count": 4,
   "id": "27be4249-58a1-470b-9113-843386a9848b",
   "metadata": {},
   "outputs": [
    {
     "name": "stdout",
     "output_type": "stream",
     "text": [
      "1\n",
      "2\n",
      "3\n",
      "4\n",
      "5\n",
      "6\n",
      "7\n",
      "8\n",
      "9\n",
      "==============================\n",
      "1\n",
      "2\n",
      "3\n",
      "4\n",
      "5\n",
      "6\n",
      "7\n",
      "8\n",
      "9\n",
      "10\n",
      "11\n",
      "12\n",
      "==============================\n",
      "1\n",
      "2\n",
      "3\n",
      "4\n",
      "5\n",
      "6\n",
      "7\n",
      "8\n",
      "==============================\n",
      "1\n",
      "5\n",
      "9\n",
      "2\n",
      "6\n",
      "10\n",
      "==============================\n",
      "1\n",
      "2\n",
      "3\n",
      "==============================\n"
     ]
    }
   ],
   "source": [
    "'''\n",
    "Задание 1. Написать функцию для вывода двумерной матрицы по столбцам, \n",
    "не используя индексацию (с помощью [] или любым другим способом получения\n",
    "элемента по заданному индексу).\n",
    "Функция должна принимать на вход список и ничего не возвращать\n",
    "'''\n",
    "def print_matrix(matrix):\n",
    "    '''\n",
    "    это функция, печатающая двумерный список matrix по столбцам\n",
    "    '''\n",
    "    #тело функции следует написать вот тут\n",
    "    zipped_rows = zip(*matrix)\n",
    "    transpose_matrix = [list(row) for row in zipped_rows]\n",
    "    for item in transpose_matrix:\n",
    "        for i in item:\n",
    "            print(i)\n",
    "                      \n",
    "\n",
    "    # k = 0\n",
    "    # for el in matrix:\n",
    "    #     el_length = len(el)\n",
    "    #     for i in range(k, el_length, len(el)+1-k):\n",
    "    #         print(el)\n",
    "    # for row in matrix:\n",
    "    #     for j in row:\n",
    "    #         print(j, '   ', )\n",
    "    #     print(str(i), '\\n')\n",
    "#проверка        \n",
    "matrix1 = [[1,4,7,],[2,5,8,],[3,6,9,]]\n",
    "matrix2 = [[1,4,7,10],[2,5,8,11],[3,6,9,12]]\n",
    "matrix3 = [[1,3,5,7],[2,4,6,8],]\n",
    "matrix4 = [[1,2,],[5,6,],[9,10,]]\n",
    "matrix5 = [[1,2,3],]\n",
    "matrix6 = []\n",
    "\n",
    "print_matrix(matrix1)\n",
    "print(\"=\"*30)\n",
    "print_matrix(matrix2)\n",
    "print(\"=\"*30)\n",
    "print_matrix(matrix3)\n",
    "print(\"=\"*30)\n",
    "print_matrix(matrix4)\n",
    "print(\"=\"*30)\n",
    "print_matrix(matrix5)\n",
    "print(\"=\"*30)\n",
    "print_matrix(matrix6)"
   ]
  },
  {
   "cell_type": "code",
   "execution_count": 1,
   "id": "c7d22f24-8643-40a8-a8ad-c0a8bc40301b",
   "metadata": {},
   "outputs": [
    {
     "name": "stdout",
     "output_type": "stream",
     "text": [
      "10\n",
      "9\n",
      "8\n",
      "7\n",
      "6\n",
      "5\n",
      "4\n",
      "3\n",
      "2\n",
      "1\n"
     ]
    }
   ],
   "source": [
    "'''\n",
    "Задание 2. Напишите функцию, вызывающую саму себя 10 раз;\n",
    "функция должна вызываться как ten_times() и ничего не возвращать;\n",
    "'''\n",
    "def ten_times(i):\n",
    "    if i > 0:\n",
    "        print(i)\n",
    "        ten_times(i-1)\n",
    "\n",
    "#проверка\n",
    "ten_times(10)"
   ]
  },
  {
   "cell_type": "code",
   "execution_count": 52,
   "id": "b5bc6f9c-b98b-44d6-87e2-8b2c1d68893d",
   "metadata": {},
   "outputs": [
    {
     "data": {
      "text/plain": [
       "'\\nМодифицируйте функцию print_haiku таким образом, чтобы можно было \\nвыполнять произвольное преобразование над выводом строк.\\nПосторайтесь сильно не менять код print_haiku()\\nВыведите с помощью модифицированной функции print_haiku все строки хайку :\\n - заглавными буквами\\n - только каждый третий символ строк\\n - красным цветом (https://habr.com/ru/sandbox/158854/, первый раздел)\\n '"
      ]
     },
     "execution_count": 52,
     "metadata": {},
     "output_type": "execute_result"
    }
   ],
   "source": [
    "'''\n",
    "Задание 3.\n",
    "'''\n",
    "# дан отрывок кода\n",
    "a_haiku = [\"Всё глазел на них\",\n",
    "\"Сакуры цветы, пока\",\n",
    "\"Шею не свело\"]\n",
    "\n",
    "def print_haiku(haiku, func_name):\n",
    "    for line in haiku:\n",
    "        print(func_name(line))\n",
    "\n",
    "# print_haiku(a_haiku)\n",
    "\n",
    "\n",
    "'''\n",
    "Модифицируйте функцию print_haiku таким образом, чтобы можно было \n",
    "выполнять произвольное преобразование над выводом строк.\n",
    "Посторайтесь сильно не менять код print_haiku()\n",
    "Выведите с помощью модифицированной функции print_haiku все строки хайку :\n",
    " - заглавными буквами\n",
    " - только каждый третий символ строк\n",
    " - красным цветом (https://habr.com/ru/sandbox/158854/, первый раздел)\n",
    " '''"
   ]
  },
  {
   "cell_type": "code",
   "execution_count": 68,
   "id": "6ed9a8a4-43c6-4727-a1e5-6c73daf2454b",
   "metadata": {},
   "outputs": [],
   "source": [
    "def to_upper(line):\n",
    "    line = line.upper()\n",
    "    return line\n",
    "\n",
    "def select_third_letter(line):\n",
    "    line = line[::3]\n",
    "    return line\n",
    "\n",
    "def color_red(line):\n",
    "    line = \"\\033[31m{}\".format(line)\n",
    "    return line\n",
    "\n",
    "def color_diff(line):\n",
    "    line_words = line.split()\n",
    "    color = 31\n",
    "    new_line = \"\"\n",
    "    for word in line_words:\n",
    "        word = (\"\\033[\"+str((color)) + \"m{}\").format(word)\n",
    "        if color == 37:\n",
    "            color = 31\n",
    "        else:\n",
    "            color +=1\n",
    "        new_line =  new_line + \" \" + word \n",
    "    return new_line\n",
    "\n",
    "def to_bold_2nd(line):\n",
    "    line_words = line.split()\n",
    "    line_words[1] = \"\\033[1m{}\\033[0m\".format(line_words[1])\n",
    "    new_line = \" \".join(line_words)\n",
    "    return new_line\n",
    "\n",
    "def to_lower_blue(line):\n",
    "    line = \"\\033[34m{}\".format(line.lower())\n",
    "    return line\n",
    "        "
   ]
  },
  {
   "cell_type": "code",
   "execution_count": null,
   "id": "2942ff5e-80a1-4245-aad6-3aca355745ad",
   "metadata": {},
   "outputs": [],
   "source": [
    "'''\n",
    "Задание 4. Напишите простой пользовательский интерфейс к заданию 3.\n",
    "Пользователю должно выдаваться сообщение о возможностях вывода (меню), и приглашение на ввод\n",
    "идентификатора действия или символа `q` для выхода, например:\n",
    "\n",
    "Возможные действия:\n",
    "1 - вывод хайку заглавными буквами\n",
    "2 - вывод только третьих символов каждой строки хайку\n",
    "3 - вывод хайку красным цветом\n",
    "Введите номер действия или q для выхода: \n",
    "\n",
    "После ввода идентификатора действия, необходимо выполнить соответствующее действие \n",
    "и снова вывести меню с запросом на ввод. в случае некорректного идентификатора действия \n",
    "вывести соответствующее сообщение и снова вывести меню. После ввода q завершить работу с\n",
    "простым пользовательским интрефейсом\n",
    "\n",
    "'''"
   ]
  },
  {
   "cell_type": "code",
   "execution_count": 69,
   "id": "d85e902d-5104-4464-a4db-365d92cda67e",
   "metadata": {},
   "outputs": [
    {
     "name": "stdin",
     "output_type": "stream",
     "text": [
      "Введите номер действия:\n",
      "    1 - вывод хайку заглавными буквами\n",
      "    2 - вывод только третьих символов каждой строки хайку\n",
      "    3 - вывод хайку красным цветом\n",
      "    4 - каждое слово в строке различным цветом\n",
      "    5 - в каждой строке второе слово жирным шрифтом\n",
      "    6 - маленькими буквами синим цветом\n",
      "    q - выход\n",
      "      6\n"
     ]
    },
    {
     "name": "stdout",
     "output_type": "stream",
     "text": [
      "\u001b[34mвсё глазел на них\n",
      "\u001b[34mсакуры цветы, пока\n",
      "\u001b[34mшею не свело\n"
     ]
    }
   ],
   "source": [
    "def input_data():\n",
    "    user_input = input(\"\"\"Введите номер действия:\n",
    "    1 - вывод хайку заглавными буквами\n",
    "    2 - вывод только третьих символов каждой строки хайку\n",
    "    3 - вывод хайку красным цветом\n",
    "    4 - каждое слово в строке различным цветом\n",
    "    5 - в каждой строке второе слово жирным шрифтом\n",
    "    6 - маленькими буквами синим цветом\n",
    "    q - выход\n",
    "     \"\"\")\n",
    "    return user_input\n",
    "\n",
    "user_input = input_data()\n",
    "func_dict = {\"1\": to_upper, \"2\": select_third_letter, \"3\": color_red, \"4\": color_diff, \"5\": to_bold_2nd, \"6\": to_lower_blue}\n",
    "if user_input not in (func_dict.keys()):\n",
    "    print(\"\\033[1m\\033[31m{}\".format(\"Неверный ввод\"))\n",
    "    user_input = input_data()\n",
    "elif user_input == \"q\":\n",
    "    print(\"Вы вышли из приложения\")\n",
    "else:\n",
    "    print_haiku(a_haiku, func_dict[user_input])"
   ]
  },
  {
   "cell_type": "code",
   "execution_count": null,
   "id": "1de803b6-b90d-4710-bc57-71d0960bbeee",
   "metadata": {},
   "outputs": [],
   "source": [
    "'''\n",
    "Задание 5.\n",
    "Дополните функционал задания 3 одним из следующих способов вывода хайку:\n",
    "- каждое слово в строке различным цветом,\n",
    "- в каждой строке второе слово жирным шрифтом,\n",
    "- маленькими буквами синим цветом,\n",
    "при этом текст функции print_haiku() меняться не должен. Если такая доработка потребует\n",
    "его изменения, пересмотрите дизайн функции print_haiku(), чтобы расширение функионала вывода\n",
    "не требовало изменения print_haiku()\n",
    "Добавьте в интерфейс, созданный в задании 4 созданный новый способ вывода. Оцените объем и \n",
    "удобство модификации, при необходимости пересмотрите дизайн кода интерфейса для упрощения его \n",
    "изменекния.\n",
    "\n",
    "'''"
   ]
  }
 ],
 "metadata": {
  "kernelspec": {
   "display_name": "Python 3 (ipykernel)",
   "language": "python",
   "name": "python3"
  },
  "language_info": {
   "codemirror_mode": {
    "name": "ipython",
    "version": 3
   },
   "file_extension": ".py",
   "mimetype": "text/x-python",
   "name": "python",
   "nbconvert_exporter": "python",
   "pygments_lexer": "ipython3",
   "version": "3.10.10"
  }
 },
 "nbformat": 4,
 "nbformat_minor": 5
}
