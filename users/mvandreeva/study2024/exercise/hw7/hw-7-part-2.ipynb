{
 "cells": [
  {
   "cell_type": "markdown",
   "id": "8b297e4b-5c57-4031-8477-6852f9969a5a",
   "metadata": {},
   "source": [
    "# Упражнения  1"
   ]
  },
  {
   "cell_type": "markdown",
   "id": "6d1f2730-c3fe-48c4-8146-52ea02dee954",
   "metadata": {},
   "source": [
    "#1. Любимые вещи \n",
    "\n",
    "Создайте список своих любимых развлечений и сохраните его в переменной games. Теперь создайте список любимых лакомств, сохранив его в переменной foods. Объедините два этих списка, сохранив результат в переменной favorites, и напечатайте значение этой переменной. "
   ]
  },
  {
   "cell_type": "code",
   "execution_count": 3,
   "id": "14196bcb-387b-44a4-8468-03d8072e3ed4",
   "metadata": {},
   "outputs": [
    {
     "name": "stdout",
     "output_type": "stream",
     "text": [
      "['sleeping', 'walking', 'study programming', 'swimming', 'chocolate', 'ice-cream', 'cheese', 'fruits']\n"
     ]
    }
   ],
   "source": [
    "games = ['sleeping', 'walking', 'study programming', 'swimming']\n",
    "foods = ['chocolate', 'ice-cream', 'cheese', 'fruits']\n",
    "favorites = games + foods\n",
    "print (favorites)"
   ]
  },
  {
   "cell_type": "markdown",
   "id": "f55e90dd-f196-4444-9ade-271f2a3035e3",
   "metadata": {},
   "source": [
    "#2. Подсчет воинов \n",
    "\n",
    "Есть 3 дома, на крыше каждого из которых прячутся по 25 ниндзя, и есть 2 туннеля, в каждом из которых скрывается по 40 самураев. Сколько всего воинов решили устроить заварушку? (Ответ можно найти, введя в оболочке Python арифметическое выражение.) "
   ]
  },
  {
   "cell_type": "code",
   "execution_count": 5,
   "id": "a2ba554d-7f57-4616-a66f-e7816f1ac7f1",
   "metadata": {},
   "outputs": [
    {
     "name": "stdout",
     "output_type": "stream",
     "text": [
      "155\n"
     ]
    }
   ],
   "source": [
    "roof_amount = 3\n",
    "one_roof_ninja = 25\n",
    "tonnel_amount = 2\n",
    "one_tonnel_samurai = 40\n",
    "total_warrior = roof_amount * one_roof_ninja + tonnel_amount * one_tonnel_samurai\n",
    "print(total_warrior)"
   ]
  },
  {
   "cell_type": "markdown",
   "id": "c0aed4b8-cfae-4122-a1a4-2ac301e230f3",
   "metadata": {},
   "source": [
    "#3. Приветствие \n",
    "\n",
    "Создайте две переменные: пусть одна хранит ваше имя, а другая фамилию. Теперь с помощью строки с метками %s напечатайте приветствие вроде такого: «Привет, Брандо Икетт!». "
   ]
  },
  {
   "cell_type": "code",
   "execution_count": 7,
   "id": "3537208e-70dc-4415-b56d-881ff01a6e70",
   "metadata": {},
   "outputs": [
    {
     "name": "stdout",
     "output_type": "stream",
     "text": [
      "Привет, Mary Andreeva\n"
     ]
    }
   ],
   "source": [
    "fname = 'Mary'\n",
    "lname = 'Andreeva'\n",
    "print ('Привет, %s %s' % (fname, lname))"
   ]
  },
  {
   "cell_type": "markdown",
   "id": "a8184374-86ca-44d2-bd6d-7b8e977e1414",
   "metadata": {},
   "source": [
    "# Упражнения  2"
   ]
  },
  {
   "cell_type": "markdown",
   "id": "aff0b705-69b3-46a7-a507-84ef59251ed9",
   "metadata": {},
   "source": [
    "Решите эти задачи, используя конструкции if и условия. "
   ]
  },
  {
   "cell_type": "markdown",
   "id": "89d1f11b-2cc5-4c43-abfc-acd93c96af98",
   "metadata": {},
   "source": [
    "#1. Вы богаты? \n",
    "\n",
    "Как думаете, что делает этот код? Сначала попробуйте в этом разобраться, не вводя код в оболочку Python, а затем проверьте свой ответ. \n",
    "\n",
    "money = 2000\n",
    "if money > 1000:\n",
    "     print(\"Я богат!\")\n",
    "else: \n",
    "     print(\"Я не богат!\")\n",
    "     print(\"Может, когда-нибудь потом...\")"
   ]
  },
  {
   "cell_type": "code",
   "execution_count": 8,
   "id": "481712ad-56a7-4814-bb52-6b7cb4578ebf",
   "metadata": {},
   "outputs": [
    {
     "name": "stdout",
     "output_type": "stream",
     "text": [
      "Я богат!\n"
     ]
    }
   ],
   "source": [
    "money = 2000\n",
    "if money > 1000:\n",
    "     print(\"Я богат!\")\n",
    "else: \n",
    "     print(\"Я не богат!\")\n",
    "     print(\"Может, когда-нибудь потом...\")"
   ]
  },
  {
   "cell_type": "markdown",
   "id": "1183331f-c46e-4893-bf55-2bdb670e255e",
   "metadata": {},
   "source": [
    "#2. Бисквитики! \n",
    "\n",
    "Создайте конструкцию if, которая проверяет, действительно ли количество бисквитов (которое задано в переменной twinkies) меньше 100 или больше 500. Если это условие выполняется, пусть ваша программа напечатает сообщение «Слишком мало или слишком много». "
   ]
  },
  {
   "cell_type": "code",
   "execution_count": 9,
   "id": "b7ae935e-333d-4985-9f74-bfeef77ccb7a",
   "metadata": {},
   "outputs": [],
   "source": [
    "twinkies = 200\n",
    "\n",
    "if twinkies < 100 or twinkies > 500:\n",
    "    print ('Слишком мало или слишком много')"
   ]
  },
  {
   "cell_type": "markdown",
   "id": "fb539c2b-233a-4742-9b90-62d49976c1fc",
   "metadata": {},
   "source": [
    "#3. Подходящая сумма \n",
    "\n",
    "Создайте конструкцию if, которая проверяет, соответствует ли заданная в переменной money сумма денег диапазону значений от 100 до 500 или диапазону значений от 1000 до 5000. \n"
   ]
  },
  {
   "cell_type": "code",
   "execution_count": 11,
   "id": "4150ee4e-6d84-4753-82bc-20df7f9d4483",
   "metadata": {},
   "outputs": [
    {
     "name": "stdout",
     "output_type": "stream",
     "text": [
      "от 1000 до 5000\n"
     ]
    }
   ],
   "source": [
    "money = 4000\n",
    "if money >= 100 and money <= 500:\n",
    "    print ('от 100 до 500')\n",
    "elif money >= 1000 and money <= 5000:\n",
    "    print ('от 1000 до 5000')"
   ]
  },
  {
   "cell_type": "markdown",
   "id": "b45acc03-9cac-488e-9e0a-7a1016d6ac44",
   "metadata": {},
   "source": [
    "#4. Я одолею этих ниндзя! \n",
    "\n",
    "Создайте конструкцию if, которая печатает строку «Их слишком много», если количество ниндзя (заданное в переменной ninjas) меньше 50, печатает «Будет непросто, но я с ними разделаюсь», если это количество меньше 30, и печатает «Я одолею этих ниндзя!», если количество меньше 10. Проверьте, как ваш код работает с таким значением: \n",
    "\n",
    "ninjas = 5 \n"
   ]
  },
  {
   "cell_type": "code",
   "execution_count": 15,
   "id": "ef11d81a-7844-4a20-88e2-5a8cc914aeda",
   "metadata": {},
   "outputs": [
    {
     "name": "stdout",
     "output_type": "stream",
     "text": [
      "Их слишком много\n"
     ]
    }
   ],
   "source": [
    "ninjas = 40\n",
    "\n",
    "if ninjas < 10:\n",
    "    print ('Я одолею этих ниндзя!')\n",
    "elif ninjas < 30:\n",
    "    print ('Будет непросто, но я с ними разделаюсь')\n",
    "elif ninjas < 50:\n",
    "    print ('Их слишком много')"
   ]
  },
  {
   "cell_type": "markdown",
   "id": "a8ce929f-9301-4ef5-ba8b-995cdca327be",
   "metadata": {},
   "source": [
    "# Упражнения  3"
   ]
  },
  {
   "cell_type": "markdown",
   "id": "a329ee3c-f1ba-474e-8522-9c22cba41c39",
   "metadata": {},
   "source": [
    "#1. Цикл с приветом \n",
    "\n",
    "Как вы считаете, что делает эта программа? Сперва придумайте вариант ответа, а потом запустите код и проверьте, угадали ли вы. \n",
    "\n",
    "for x in range(0, 20):\n",
    "    print('привет %s' % x)\n",
    "    if x < 9:\n",
    "        break "
   ]
  },
  {
   "cell_type": "code",
   "execution_count": 16,
   "id": "c869424b-478b-4da9-923e-7261ff3245e8",
   "metadata": {},
   "outputs": [
    {
     "name": "stdout",
     "output_type": "stream",
     "text": [
      "привет 0\n"
     ]
    }
   ],
   "source": [
    "for x in range(0, 20):\n",
    "    print('привет %s' % x)\n",
    "    if x < 9:\n",
    "        break "
   ]
  },
  {
   "cell_type": "markdown",
   "id": "aa377f2e-0bdd-4cc9-b37b-6e4afbc8403f",
   "metadata": {},
   "source": [
    "#2. Четные числа \n",
    "\n",
    "Создайте цикл, который печатает четные числа до тех пор, пока не выведет ваш возраст. Если ваш возраст — нечетное число, создайте цикл, который печатает нечетные числа до совпадения с возрастом. Программа должна выводить на экран нечто подобное: \n",
    "\n",
    "2 4 6 8 10 12 14 "
   ]
  },
  {
   "cell_type": "code",
   "execution_count": 18,
   "id": "4d22ac04-9b1e-4718-88e8-e85897de1f8a",
   "metadata": {},
   "outputs": [
    {
     "name": "stdout",
     "output_type": "stream",
     "text": [
      "0\n",
      "2\n",
      "4\n",
      "6\n",
      "8\n",
      "10\n",
      "12\n",
      "14\n",
      "16\n",
      "18\n",
      "20\n",
      "22\n",
      "24\n",
      "26\n",
      "28\n",
      "30\n",
      "32\n"
     ]
    }
   ],
   "source": [
    "for i in range(33):\n",
    "    if i % 2 == 0:\n",
    "        print (i)"
   ]
  },
  {
   "cell_type": "markdown",
   "id": "cd4c3457-59d6-40e0-a108-563c4c77a537",
   "metadata": {},
   "source": [
    "#3. Пять любимых ингредиентов \n",
    "\n",
    "Создайте список с пятью разными ингредиентами для бутерброда, наподобие: \n",
    "\n",
    "ingredients = ['слизни', 'пиявки', 'катышки изпупка гориллы', 'брови гусеницы', 'пальцы многоножки'] \n",
    "\n",
    "Теперь создайте цикл, который печатает список ингредиентов с нумерацией: \n",
    "\n",
    "1 слизни\n",
    "2 пиявки\n",
    "3 катышки изпупка гориллы \n",
    "4 брови гусеницы\n",
    "5 пальцы многоножки"
   ]
  },
  {
   "cell_type": "code",
   "execution_count": 22,
   "id": "db8682b5-972c-44b0-be01-bdf5db2e1f4c",
   "metadata": {},
   "outputs": [
    {
     "name": "stdout",
     "output_type": "stream",
     "text": [
      "1 butter\n",
      "2 cheese\n",
      "3 jam\n",
      "4 meat\n",
      "5 peanut butter\n"
     ]
    }
   ],
   "source": [
    "ingredients = ['butter', 'cheese', 'jam', 'meat', 'peanut butter']\n",
    "for i, element in enumerate(ingredients):\n",
    "    print (i+1, element)"
   ]
  },
  {
   "cell_type": "markdown",
   "id": "d7125cd4-c7b2-4660-9663-9c0bcfb50035",
   "metadata": {},
   "source": [
    "#4. Ваш лунный вес \n",
    "\n",
    "Если бы вы сейчас были на Луне, ваш вес составил бы 16,5 процентов от земного. Чтобы узнать, сколько это, умножьте свой земной вес на 0,165. \n",
    "\n",
    "Если бы каждый год в течение следующих 15 лет вы прибавляли по одному килограмму веса, каким бы оказался ваш лунный вес в каждый из ежегодных визитов на Луну вплоть до 15-го года? Напишите программу, которая с помощью цикла for печатает на экране ваш лунный \n",
    "\n",
    "вес в каждом году. "
   ]
  },
  {
   "cell_type": "code",
   "execution_count": 23,
   "id": "c34b2f43-c943-43b4-a582-06ee9a24052a",
   "metadata": {},
   "outputs": [
    {
     "name": "stdout",
     "output_type": "stream",
     "text": [
      "8.91\n",
      "==============================\n",
      "8.91\n",
      "9.075000000000001\n",
      "9.24\n",
      "9.405000000000001\n",
      "9.57\n",
      "9.735000000000001\n",
      "9.9\n",
      "10.065000000000001\n",
      "10.23\n",
      "10.395000000000001\n",
      "10.56\n",
      "10.725\n",
      "10.89\n",
      "11.055\n",
      "11.22\n",
      "11.385\n"
     ]
    }
   ],
   "source": [
    "earth_weight = 54\n",
    "moon_wieght = earth_weight * 0.165\n",
    "print(moon_wieght)\n",
    "print(30*\"=\")\n",
    "\n",
    "for i in range(16):\n",
    "    moon_wieght = (earth_weight + i) * 0.165\n",
    "    print(moon_wieght)"
   ]
  },
  {
   "cell_type": "markdown",
   "id": "1c91e73f-5a93-41ed-8c5e-9e9f488d04cb",
   "metadata": {},
   "source": [
    "# Упражнения  4"
   ]
  },
  {
   "cell_type": "markdown",
   "id": "a0fa4a4d-2624-4715-b015-c4a02b2ee4f5",
   "metadata": {},
   "source": [
    "Вот несколько упражнений по созданию ваших собственных функций. "
   ]
  },
  {
   "cell_type": "markdown",
   "id": "5cf4b869-1746-42c4-9aef-b49d7e3896ee",
   "metadata": {},
   "source": [
    "#1. Функция лунного веса \n",
    "\n",
    "Одним из предыдущих заданий было создание цикла for для расчета вашего веса на Луне в течение 15 лет. Этот цикл можно оформить в виде функции. Создайте функцию, которая принимает начальный вес и величину, на которую вес увеличивается каждый год. Вызывать эту новую функцию нужно будет примерно так: \n",
    "\n",
    "    moon_weight(30, 0.25)"
   ]
  },
  {
   "cell_type": "code",
   "execution_count": 25,
   "id": "1b113274-9695-4e00-8254-5168b351e222",
   "metadata": {},
   "outputs": [
    {
     "name": "stdout",
     "output_type": "stream",
     "text": [
      "8.91\n",
      "9.075000000000001\n",
      "9.24\n",
      "9.405000000000001\n",
      "9.57\n",
      "9.735000000000001\n",
      "9.9\n",
      "10.065000000000001\n",
      "10.23\n",
      "10.395000000000001\n",
      "10.56\n",
      "10.725\n",
      "10.89\n",
      "11.055\n",
      "11.22\n",
      "11.385\n"
     ]
    }
   ],
   "source": [
    "def count_moonweight_15years(current_weight, gain_weight):\n",
    "    for i in range(16):\n",
    "        earth_weight = current_weight + gain_weight*i\n",
    "        moon_wieght = earth_weight * 0.165\n",
    "        print(moon_wieght)\n",
    "        \n",
    "count_moonweight_15years(54, 1)"
   ]
  },
  {
   "cell_type": "markdown",
   "id": "0eb1d6b8-e319-4fa2-b6a5-30d6faee9513",
   "metadata": {},
   "source": [
    "#2. Функция лунного веса и количество лет \n",
    "\n",
    "Измените функцию из предыдущего задания так, чтобы с ее помощью можно было рассчитывать вес для разного количества лет, например 5 или 20 лет. Пусть эта функция принимает три аргумента: начальный вес, прибавку веса в год и количество лет: \n",
    "\n",
    "      moon_weight(90, 0.25, 5)"
   ]
  },
  {
   "cell_type": "code",
   "execution_count": 26,
   "id": "58d80b9b-2108-4ba8-ad87-04799569178c",
   "metadata": {},
   "outputs": [
    {
     "name": "stdout",
     "output_type": "stream",
     "text": [
      "8.91\n",
      "9.075000000000001\n",
      "9.24\n",
      "9.405000000000001\n",
      "9.57\n",
      "9.735000000000001\n",
      "9.9\n",
      "10.065000000000001\n",
      "10.23\n",
      "10.395000000000001\n",
      "10.56\n",
      "10.725\n",
      "10.89\n",
      "11.055\n",
      "11.22\n",
      "11.385\n",
      "11.55\n",
      "11.715\n",
      "11.88\n",
      "12.045\n",
      "12.21\n"
     ]
    }
   ],
   "source": [
    "def count_moonweight(current_weight, gain_weight, years_amount):\n",
    "    for i in range(years_amount + 1):\n",
    "        earth_weight = current_weight + gain_weight*i\n",
    "        moon_wieght = earth_weight * 0.165\n",
    "        print(moon_wieght)\n",
    "        \n",
    "count_moonweight(54, 1, 20)"
   ]
  },
  {
   "cell_type": "code",
   "execution_count": null,
   "id": "ab57cb3c-5f31-4d9f-81aa-ee0d7fe1f321",
   "metadata": {},
   "outputs": [],
   "source": []
  },
  {
   "cell_type": "code",
   "execution_count": null,
   "id": "2bff448c-e3a7-4807-aac4-c853d76b24ab",
   "metadata": {},
   "outputs": [],
   "source": []
  },
  {
   "cell_type": "code",
   "execution_count": null,
   "id": "a270cf65-b29a-4ea1-9f88-4fedd37f8a4e",
   "metadata": {},
   "outputs": [],
   "source": []
  }
 ],
 "metadata": {
  "kernelspec": {
   "display_name": "Python 3 (ipykernel)",
   "language": "python",
   "name": "python3"
  },
  "language_info": {
   "codemirror_mode": {
    "name": "ipython",
    "version": 3
   },
   "file_extension": ".py",
   "mimetype": "text/x-python",
   "name": "python",
   "nbconvert_exporter": "python",
   "pygments_lexer": "ipython3",
   "version": "3.10.10"
  }
 },
 "nbformat": 4,
 "nbformat_minor": 5
}
