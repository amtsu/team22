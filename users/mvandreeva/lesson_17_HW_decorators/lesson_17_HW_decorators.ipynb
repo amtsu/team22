{
 "cells": [
  {
   "cell_type": "code",
   "execution_count": 1,
   "id": "832f5317",
   "metadata": {},
   "outputs": [],
   "source": [
    "def clean_data_chitai_gorod(function):\n",
    "    def wrapper(data):\n",
    "        result = function(data, u'\\n          ')\n",
    "        result = function(result, u'\\xa0')\n",
    "        result = function(result, u'\\u20bd\\n', True)\n",
    "        return result\n",
    "    return wrapper"
   ]
  },
  {
   "cell_type": "code",
   "execution_count": 2,
   "id": "7af05ce6",
   "metadata": {},
   "outputs": [],
   "source": [
    "@clean_data_chitai_gorod\n",
    "def clean_data(data, remove, to_int = False):\n",
    "        if to_int:\n",
    "            data = data.replace(remove, '')\n",
    "            data = int(data)\n",
    "        else:\n",
    "            data = data.replace(remove, '')\n",
    "        return data"
   ]
  },
  {
   "cell_type": "code",
   "execution_count": 3,
   "id": "3b7ed7de",
   "metadata": {},
   "outputs": [
    {
     "name": "stdout",
     "output_type": "stream",
     "text": [
      "1654\n"
     ]
    }
   ],
   "source": [
    "price = u'\\n          1\\xa0654 \\u20bd\\n        '\n",
    "good_price = clean_data(price)\n",
    "print (good_price)"
   ]
  },
  {
   "cell_type": "markdown",
   "id": "12310291",
   "metadata": {},
   "source": [
    "______"
   ]
  },
  {
   "cell_type": "code",
   "execution_count": 10,
   "id": "ab11f521",
   "metadata": {},
   "outputs": [],
   "source": [
    "import smtplib\n",
    "from email.mime.text import MIMEText\n",
    "\n",
    "def define_me_you(function):\n",
    "    def wrapper(price):\n",
    "        discount_price = 0.55*price\n",
    "        send_mail = function(price, discount_price, 'mvandreeva@101katok.ru', 'Mariya.V.Andreeva@yandex.ru', '45% discount')\n",
    "    return wrapper"
   ]
  },
  {
   "cell_type": "code",
   "execution_count": 11,
   "id": "53500aec",
   "metadata": {},
   "outputs": [],
   "source": [
    "@define_me_you\n",
    "def is_discount(price, discount_price, from_whom, to_whom, subject = 'The price discount test'):\n",
    "        if price < discount_price:\n",
    "            msg = MIMEText('Price less then %s' % discount_price)\n",
    "        else:\n",
    "            msg = MIMEText('Price is higher then %s' % discount_price)\n",
    "\n",
    "        me = from_whom\n",
    "        you = to_whom\n",
    "\n",
    "        msg['Subject'] = subject\n",
    "        msg['From'] = me\n",
    "        msg['To'] = you\n",
    "\n",
    "        s = smtplib.SMTP('localhost')\n",
    "        s.sendmail(me, [you], msg.as_string())\n",
    "        s.quit()"
   ]
  },
  {
   "cell_type": "code",
   "execution_count": 12,
   "id": "0dd5c325",
   "metadata": {},
   "outputs": [
    {
     "ename": "SMTPRecipientsRefused",
     "evalue": "{'Mariya.V.Andreeva@yandex.ru': (550, b'relay not permitted')}",
     "output_type": "error",
     "traceback": [
      "\u001b[0;31m---------------------------------------------------------------------------\u001b[0m",
      "\u001b[0;31mSMTPRecipientsRefused\u001b[0m                     Traceback (most recent call last)",
      "Cell \u001b[0;32mIn [12], line 1\u001b[0m\n\u001b[0;32m----> 1\u001b[0m send_mail \u001b[38;5;241m=\u001b[39m \u001b[43mis_discount\u001b[49m\u001b[43m(\u001b[49m\u001b[38;5;241;43m7500\u001b[39;49m\u001b[43m)\u001b[49m\n",
      "Cell \u001b[0;32mIn [10], line 7\u001b[0m, in \u001b[0;36mdefine_me_you.<locals>.wrapper\u001b[0;34m(price)\u001b[0m\n\u001b[1;32m      5\u001b[0m \u001b[38;5;28;01mdef\u001b[39;00m \u001b[38;5;21mwrapper\u001b[39m(price):\n\u001b[1;32m      6\u001b[0m     discount_price \u001b[38;5;241m=\u001b[39m \u001b[38;5;241m0.55\u001b[39m\u001b[38;5;241m*\u001b[39mprice\n\u001b[0;32m----> 7\u001b[0m     send_mail \u001b[38;5;241m=\u001b[39m \u001b[43mfunction\u001b[49m\u001b[43m(\u001b[49m\u001b[43mprice\u001b[49m\u001b[43m,\u001b[49m\u001b[43m \u001b[49m\u001b[43mdiscount_price\u001b[49m\u001b[43m,\u001b[49m\u001b[43m \u001b[49m\u001b[38;5;124;43m'\u001b[39;49m\u001b[38;5;124;43mmvandreeva@101katok.ru\u001b[39;49m\u001b[38;5;124;43m'\u001b[39;49m\u001b[43m,\u001b[49m\u001b[43m \u001b[49m\u001b[38;5;124;43m'\u001b[39;49m\u001b[38;5;124;43mMariya.V.Andreeva@yandex.ru\u001b[39;49m\u001b[38;5;124;43m'\u001b[39;49m\u001b[43m,\u001b[49m\u001b[43m \u001b[49m\u001b[38;5;124;43m'\u001b[39;49m\u001b[38;5;124;43m45\u001b[39;49m\u001b[38;5;132;43;01m% d\u001b[39;49;00m\u001b[38;5;124;43miscount\u001b[39;49m\u001b[38;5;124;43m'\u001b[39;49m\u001b[43m)\u001b[49m\n",
      "Cell \u001b[0;32mIn [11], line 16\u001b[0m, in \u001b[0;36mis_discount\u001b[0;34m(price, discount_price, from_whom, to_whom, subject)\u001b[0m\n\u001b[1;32m     13\u001b[0m msg[\u001b[38;5;124m'\u001b[39m\u001b[38;5;124mTo\u001b[39m\u001b[38;5;124m'\u001b[39m] \u001b[38;5;241m=\u001b[39m you\n\u001b[1;32m     15\u001b[0m s \u001b[38;5;241m=\u001b[39m smtplib\u001b[38;5;241m.\u001b[39mSMTP(\u001b[38;5;124m'\u001b[39m\u001b[38;5;124mlocalhost\u001b[39m\u001b[38;5;124m'\u001b[39m)\n\u001b[0;32m---> 16\u001b[0m \u001b[43ms\u001b[49m\u001b[38;5;241;43m.\u001b[39;49m\u001b[43msendmail\u001b[49m\u001b[43m(\u001b[49m\u001b[43mme\u001b[49m\u001b[43m,\u001b[49m\u001b[43m \u001b[49m\u001b[43m[\u001b[49m\u001b[43myou\u001b[49m\u001b[43m]\u001b[49m\u001b[43m,\u001b[49m\u001b[43m \u001b[49m\u001b[43mmsg\u001b[49m\u001b[38;5;241;43m.\u001b[39;49m\u001b[43mas_string\u001b[49m\u001b[43m(\u001b[49m\u001b[43m)\u001b[49m\u001b[43m)\u001b[49m\n\u001b[1;32m     17\u001b[0m s\u001b[38;5;241m.\u001b[39mquit()\n",
      "File \u001b[0;32m/opt/tljh/user/lib/python3.9/smtplib.py:901\u001b[0m, in \u001b[0;36mSMTP.sendmail\u001b[0;34m(self, from_addr, to_addrs, msg, mail_options, rcpt_options)\u001b[0m\n\u001b[1;32m    898\u001b[0m \u001b[38;5;28;01mif\u001b[39;00m \u001b[38;5;28mlen\u001b[39m(senderrs) \u001b[38;5;241m==\u001b[39m \u001b[38;5;28mlen\u001b[39m(to_addrs):\n\u001b[1;32m    899\u001b[0m     \u001b[38;5;66;03m# the server refused all our recipients\u001b[39;00m\n\u001b[1;32m    900\u001b[0m     \u001b[38;5;28mself\u001b[39m\u001b[38;5;241m.\u001b[39m_rset()\n\u001b[0;32m--> 901\u001b[0m     \u001b[38;5;28;01mraise\u001b[39;00m SMTPRecipientsRefused(senderrs)\n\u001b[1;32m    902\u001b[0m (code, resp) \u001b[38;5;241m=\u001b[39m \u001b[38;5;28mself\u001b[39m\u001b[38;5;241m.\u001b[39mdata(msg)\n\u001b[1;32m    903\u001b[0m \u001b[38;5;28;01mif\u001b[39;00m code \u001b[38;5;241m!=\u001b[39m \u001b[38;5;241m250\u001b[39m:\n",
      "\u001b[0;31mSMTPRecipientsRefused\u001b[0m: {'Mariya.V.Andreeva@yandex.ru': (550, b'relay not permitted')}"
     ]
    }
   ],
   "source": [
    "send_mail = is_discount(7500)"
   ]
  },
  {
   "cell_type": "code",
   "execution_count": null,
   "id": "cc00f22f",
   "metadata": {},
   "outputs": [],
   "source": []
  }
 ],
 "metadata": {
  "kernelspec": {
   "display_name": "Python 3 (ipykernel)",
   "language": "python",
   "name": "python3"
  },
  "language_info": {
   "codemirror_mode": {
    "name": "ipython",
    "version": 3
   },
   "file_extension": ".py",
   "mimetype": "text/x-python",
   "name": "python",
   "nbconvert_exporter": "python",
   "pygments_lexer": "ipython3",
   "version": "3.9.7"
  }
 },
 "nbformat": 4,
 "nbformat_minor": 5
}
