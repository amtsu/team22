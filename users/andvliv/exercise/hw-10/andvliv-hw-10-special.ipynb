{
 "cells": [
  {
   "cell_type": "markdown",
   "id": "eb226510-fc98-41be-a297-cdefc58bfd7d",
   "metadata": {},
   "source": [
    "в списке нет дел с приоритетом 'а' тест\r\n",
    "дело\r\n",
    "    название\r\n",
    "    приорите\r\n",
    "    время запланированное\r\n",
    "    время до которого сделать дело"
   ]
  },
  {
   "cell_type": "markdown",
   "id": "35ac5746-f39c-451d-979b-8c9fceb2cf28",
   "metadata": {},
   "source": [
    "Задача 1:\n",
    "Создать список дел. У каждого дела будет описание и приоритет от А (высокое) до С (низкое). Вывести самое приоритетное для вас дело"
   ]
  },
  {
   "cell_type": "code",
   "execution_count": 7,
   "id": "7d55b095-e2c0-4d18-9f55-5986129e2b8d",
   "metadata": {},
   "outputs": [
    {
     "data": {
      "text/plain": [
       "'breakfast'"
      ]
     },
     "execution_count": 7,
     "metadata": {},
     "output_type": "execute_result"
    }
   ],
   "source": [
    "#1\n",
    "deeds_prior = {'a': ['breakfast', 'lunch', 'diiner', 'supper'], 'b': ['feed cats', \"cats toilet clean\"], 'c': ['study', 'buy food in the store'], 'd': 'play with cat'}\n",
    "def priority(the_dict):\n",
    "    for key in sorted(the_dict): #используем метод sorted() на тот случай, если приоритеты поменяются\n",
    "        return the_dict[key][0]\n",
    "priority(deeds_prior)"
   ]
  },
  {
   "cell_type": "code",
   "execution_count": 9,
   "id": "cd4dfc7c-594e-4302-a38f-95015724ad1b",
   "metadata": {},
   "outputs": [],
   "source": [
    "#Дополнение_1, кто справился: Написать тест к задаче 1\n",
    "def test_priority_a():\n",
    "    deeds_prior = {'a': ['breakfast', 'lunch', 'diiner', 'supper'], 'b': ['feed cats', \"cats toilet clean\"], 'c': ['study', 'buy food in the store'], 'd': 'play with cat'}\n",
    "    assert priority(deeds_prior) == 'breakfast'\n",
    "\n",
    "test_priority_a()\n",
    "\n",
    "def test_priority_b():\n",
    "    deeds_prior = {'e': ['breakfast', 'lunch', 'diiner', 'supper'], 'b': ['feed cats', \"cats toilet clean\"], 'c': ['study', 'buy food in the store'], 'd': 'play with cat'}\n",
    "    assert priority(deeds_prior) == 'feed cats'\n",
    "\n",
    "test_priority_b()\n"
   ]
  },
  {
   "cell_type": "code",
   "execution_count": 10,
   "id": "ad3eef56-4b27-493c-ae8e-b9a772d2589d",
   "metadata": {},
   "outputs": [
    {
     "data": {
      "text/plain": [
       "('breakfast', (20, '10:00'))"
      ]
     },
     "execution_count": 10,
     "metadata": {},
     "output_type": "execute_result"
    }
   ],
   "source": [
    "# дело\n",
    "#    название\n",
    "#    приорите\n",
    "#    время запланированное\n",
    "#    время до которого сделать дело\n",
    "\n",
    "#делаем вложенный в словарь словарь\n",
    "dict_priority_deeds_time = {'a': {'breakfast': (20, '10:00'), 'lunch': (30, '15:00'), \n",
    "                                  'dinner': (45, '21:00'), 'supper': (20, '23:00')}, 'b': {'feed cats': (10, '11:00'), 'cats toilet clean': (15, '11:00')}}\n",
    "def priority(big_dict):\n",
    "    for key in sorted(big_dict):\n",
    "        for deeper_key in big_dict[key]:\n",
    "            return deeper_key, big_dict[key][deeper_key] #возвращаем дело, время на выполнение и время, до которого нужно сделать\n",
    "priority(dict_priority_deeds_time)"
   ]
  },
  {
   "cell_type": "code",
   "execution_count": 11,
   "id": "991737cc-f2b7-4e9c-9787-9dfc523791d4",
   "metadata": {},
   "outputs": [
    {
     "data": {
      "text/plain": [
       "('breakfast', '10:00')"
      ]
     },
     "execution_count": 11,
     "metadata": {},
     "output_type": "execute_result"
    }
   ],
   "source": [
    "#реализуем другой вариант - ключом словаря будет даже время, затраченное на выполнение дела\n",
    "dict_priority_deeds_time = {'a': {'breakfast': {20: '10:00'}, 'lunch': {30: '15:00'}, \n",
    "                                  'dinner': {45: '21:00'}, 'supper': {20: '23:00'}}, 'b': {'feed cats': {10: '11:00'}, 'cats toilet clean': {15: '11:00'}}}\n",
    "def priority(big_dict):\n",
    "    for key in sorted(big_dict):\n",
    "        for deeper_key in big_dict[key]:\n",
    "            for deeper_deeper_key in big_dict[key][deeper_key]:\n",
    "                return deeper_key, big_dict[key][deeper_key][deeper_deeper_key] #возвращаем дело и время, до которого нужно сделать\n",
    "priority(dict_priority_deeds_time)"
   ]
  },
  {
   "cell_type": "code",
   "execution_count": null,
   "id": "c9c65f82-1ac1-48b1-a981-e024f5b8e315",
   "metadata": {},
   "outputs": [],
   "source": []
  },
  {
   "cell_type": "code",
   "execution_count": null,
   "id": "2dae6995-b53c-4a50-920f-211f3b97146f",
   "metadata": {},
   "outputs": [],
   "source": []
  },
  {
   "cell_type": "code",
   "execution_count": null,
   "id": "7ed32b79-30cd-4a00-a396-bbd3191d49f9",
   "metadata": {},
   "outputs": [],
   "source": []
  }
 ],
 "metadata": {
  "kernelspec": {
   "display_name": "Python 3 (ipykernel)",
   "language": "python",
   "name": "python3"
  },
  "language_info": {
   "codemirror_mode": {
    "name": "ipython",
    "version": 3
   },
   "file_extension": ".py",
   "mimetype": "text/x-python",
   "name": "python",
   "nbconvert_exporter": "python",
   "pygments_lexer": "ipython3",
   "version": "3.10.10"
  }
 },
 "nbformat": 4,
 "nbformat_minor": 5
}
