{
 "cells": [
  {
   "cell_type": "markdown",
   "id": "7b7a3fcf-653b-4414-b3ff-23d024f708a4",
   "metadata": {},
   "source": [
    "Сложность алгоритмов\n",
    "Определите асимптотическую сложность данной программы O(...).\n",
    "Предложите способы уменьшения асимптотической сложности, если возможно.\n",
    "Сложность методов встроенных структур данных python, поищите в интернете."
   ]
  },
  {
   "cell_type": "code",
   "execution_count": 1,
   "id": "9fa0cf6f-8fe4-45bd-8f81-b966c0b63a88",
   "metadata": {},
   "outputs": [],
   "source": [
    "# 1 Сосчитать количество уникальных элементов в списке\n",
    "\n",
    "def count_unique(values):\n",
    "    unique = set()\n",
    "    for value in values:\n",
    "        unique.add(value)\n",
    "    return len(unique)"
   ]
  },
  {
   "cell_type": "markdown",
   "id": "0bee61f8-77ae-4aa1-a1b5-668259494406",
   "metadata": {},
   "source": [
    "Ассимптотическая сложность метода добавления элемента в множество - O(1)\n",
    "В данном случае сложность - O(len(values))"
   ]
  },
  {
   "cell_type": "code",
   "execution_count": 2,
   "id": "cb955c58-c1f3-4da7-9beb-643f23d4a232",
   "metadata": {},
   "outputs": [],
   "source": [
    "# 2 Найти дубликаты в списке\n",
    "\n",
    "def find_duplicates(arr):\n",
    "    duplicates = []\n",
    "    for i in range(len(arr)):\n",
    "        for j in range(i + 1, len(arr)):\n",
    "            if arr[i] == arr[j] and arr[i] not in duplicates:\n",
    "                duplicates.append(arr[i])\n",
    "    return duplicates"
   ]
  },
  {
   "cell_type": "markdown",
   "id": "5eacd19c-a148-4f7b-8d78-acc571840004",
   "metadata": {},
   "source": [
    "Асимптотическая сложность в данном случае - O(i * j)\n",
    "Её можно уменьшить, еслм сделать из списка arr множество и последовательно вычитать из списка arr элементы множества один цикл с помощью метода remove\n",
    "Таким образом останутся только дубликаты в списке\n",
    "\n",
    "Получается, что ассимптотическая сложность уменьшится до O(i)"
   ]
  },
  {
   "cell_type": "code",
   "execution_count": 3,
   "id": "f2ad7ac9-4743-466a-83f2-550fcf9bfd35",
   "metadata": {},
   "outputs": [
    {
     "data": {
      "text/plain": [
       "[1, 2, 1, 2]"
      ]
     },
     "execution_count": 3,
     "metadata": {},
     "output_type": "execute_result"
    }
   ],
   "source": [
    "def find_duplicates(arr):\n",
    "    arr_set = set(arr)\n",
    "    for i in arr_set:\n",
    "        arr.remove(i)\n",
    "    return arr\n",
    "\n",
    "find_duplicates([1, 2, 3, 1, 2, 4, 5, 1, 2])"
   ]
  },
  {
   "cell_type": "code",
   "execution_count": 4,
   "id": "10345ab9-13ae-4ee5-b0ac-71a26502efec",
   "metadata": {},
   "outputs": [],
   "source": [
    "# 3 поиском троек чисел, которые в сумме дают ноль\n",
    "def find_triplets(arr):\n",
    "    n = len(arr)\n",
    "    triplets = []\n",
    "    for i in range(n):\n",
    "        for j in range(i + 1, n):\n",
    "            for k in range(j + 1, n):\n",
    "                if arr[i] + arr[j] + arr[k] == 0:\n",
    "                    triplet = sorted([arr[i], arr[j], arr[k]])\n",
    "                    if triplet not in triplets:\n",
    "                        triplets.append(triplet)\n",
    "    return triplets"
   ]
  },
  {
   "cell_type": "markdown",
   "id": "6495ca4b-20bb-40b6-b79e-c03db2666643",
   "metadata": {},
   "source": [
    "Похоже, что ассимптотическая сложность функции равна O(n3), так как в ней 3 цикла.\n",
    "Про улучшения не уверен."
   ]
  },
  {
   "cell_type": "code",
   "execution_count": 5,
   "id": "e30b258a-5837-43fc-9e67-c44b91faaa8e",
   "metadata": {},
   "outputs": [],
   "source": [
    "# вычисления числа Фибоначчи\n",
    "def fibonacci(n):\n",
    "    if n <= 1:\n",
    "        return n\n",
    "    else:\n",
    "        return fibonacci(n-1) + fibonacci(n-2)"
   ]
  },
  {
   "cell_type": "markdown",
   "id": "c374ae68-1cb1-4d5f-b80a-e31464927919",
   "metadata": {},
   "source": [
    "Ассимптотическая сложность функции = (2 ** n), так как это рекурсия.\n",
    "Про улучшения не уверен..."
   ]
  },
  {
   "cell_type": "code",
   "execution_count": null,
   "id": "39c08a29-2a89-4091-9d63-1905a3305856",
   "metadata": {},
   "outputs": [],
   "source": []
  },
  {
   "cell_type": "markdown",
   "id": "a42831f3-4c40-4fee-a72a-b033b5006a31",
   "metadata": {},
   "source": [
    "\n",
    "Сортировка списков\n",
    "1. Выучить наизусть сортировку пузырьком и быструю сортировку.\n",
    "2. Реализовать дополнительно 2 любые сортировки кроме вышеуказанных. Написать тесты на эти функции.\n",
    "3. Создать список из 10000 случайных чисел с плавающей запятой.\n",
    "4. Замерить и вывести время выполнения, пузырьком, быстрой сортировки, ваших 2 сортировок и встроенной сортировки python.\n",
    "5. Создать список из 20000 случайных чисел с плавающей запятой. Сравните как изменилось время выполнения. (если на вашем компьютере это выполняется слишком долго больше минуты или не хватает памяти 6. возьмите меньшее число элементов, например 2000 / 4000)\n",
    "6. Сделайте выводы по результатам, они достаточно интересные. Если будут вопросы спросите преподавателя."
   ]
  },
  {
   "cell_type": "markdown",
   "id": "091d649c-8663-47fb-a482-5f51d8302fd5",
   "metadata": {},
   "source": [
    "#2. Реализовать дополнительно 2 любые сортировки кроме вышеуказанных. Написать тесты на эти функции.\n",
    "1. Сортировка вставками\n",
    "2. Сортировка выбором\n",
    "  --------------\n",
    "   Код ниже"
   ]
  },
  {
   "cell_type": "code",
   "execution_count": 6,
   "id": "94090c38-ed9a-4a6b-a41f-54a98d1f0e59",
   "metadata": {},
   "outputs": [],
   "source": [
    "# Сортировка вставками\n",
    "\n",
    "def insertion_sort(array):\n",
    "    n = len(array)\n",
    "    for i in range(1, n):\n",
    "        x = array[i]\n",
    "        j = i\n",
    "\n",
    "        while j > 0 and array[j - 1] > x:\n",
    "            array[j] = array[j - 1]\n",
    "            j -= 1\n",
    "\n",
    "        array[j] = x\n",
    "\n",
    "    return array"
   ]
  },
  {
   "cell_type": "code",
   "execution_count": 7,
   "id": "f4db97c4-9d87-4894-a4d1-176bcb75df61",
   "metadata": {},
   "outputs": [],
   "source": [
    "import random\n",
    "\n",
    "def test_insertion_sort():\n",
    "    array1 = [1, 4, 5, 6, 8, 9, 6, 4, 2, 1, 14, 765, 325, 124, 111]\n",
    "\n",
    "    assert test_insertion_sort(array1) == [1, 1, 2, 4, 4, 5, 6, 6, 8, 9, 14, 111, 124, 325, 765]"
   ]
  },
  {
   "cell_type": "code",
   "execution_count": 8,
   "id": "a4ecb773-e53c-40bd-92c2-903e85c674ab",
   "metadata": {},
   "outputs": [],
   "source": [
    "#Сортировка выбором\n",
    "\n",
    "def selection_sort(array):\n",
    "    for i in range(len(array)):\n",
    "        min_idx = i\n",
    "        for j in range(i+1, len(array)):\n",
    "            if array[j] < array[min_idx]:\n",
    "                min_idx = j\n",
    "        array[i], array[min_idx] = array[min_idx], array[i]\n"
   ]
  },
  {
   "cell_type": "code",
   "execution_count": 9,
   "id": "5aa3b115-2d09-4e43-8074-be31d2fead39",
   "metadata": {},
   "outputs": [],
   "source": [
    "def test_selection_sort():\n",
    "    array1 = [1, 4, 5, 6, 8, 9, 6, 4, 2, 1, 14, 765, 325, 124, 111]\n",
    "\n",
    "    assert test_insertion_sort(array1) == [1, 1, 2, 4, 4, 5, 6, 6, 8, 9, 14, 111, 124, 325, 765]"
   ]
  },
  {
   "cell_type": "code",
   "execution_count": 10,
   "id": "54c7e18d-f6b3-4a7c-a016-9befd9f45398",
   "metadata": {},
   "outputs": [],
   "source": [
    "#Создаём для следующих заданий словарь, где ключи - метод сортировки, а значения - время сортировки массива\n",
    "d_sort_methods = {'insertion_sort': [], 'selection_sort': [], 'sorted': [], 'bubble_sort': [], 'quick_sort': []}"
   ]
  },
  {
   "cell_type": "code",
   "execution_count": 22,
   "id": "b2679724-5384-4456-8e52-7beb4ed04a1b",
   "metadata": {},
   "outputs": [],
   "source": [
    "#Создать список из 10000 случайных чисел с плавающей запятой.\n",
    "#пцсть будет интервал от -1000 до 1000\n",
    "\n",
    "numbers = [random.uniform(-1000, 1000) for _ in range(10000)]"
   ]
  },
  {
   "cell_type": "code",
   "execution_count": 12,
   "id": "2defeb88-65ff-40e2-9114-37083a7aa2d1",
   "metadata": {},
   "outputs": [
    {
     "name": "stdout",
     "output_type": "stream",
     "text": [
      "Сортировка вставками - 3.2989604473114014 seconds\n"
     ]
    }
   ],
   "source": [
    "#Замерить и вывести время выполнения, пузырьком, быстрой сортировки, ваших 2 сортировок и встроенной сортировки python.\n",
    "\n",
    "import time\n",
    "\n",
    "start_time = time.time()\n",
    "sorted_numbers1 = insertion_sort(numbers)\n",
    "end_time = time.time()\n",
    "\n",
    "execution_time = end_time - start_time\n",
    "print(f\"Сортировка вставками - {execution_time} seconds\")\n",
    "d_sort_methods['insertion_sort'].append(execution_time)"
   ]
  },
  {
   "cell_type": "code",
   "execution_count": 13,
   "id": "51affdeb-b87f-4e47-9d4b-da3286904f30",
   "metadata": {},
   "outputs": [
    {
     "name": "stdout",
     "output_type": "stream",
     "text": [
      "Сортировка выбором - 3.0719966888427734 seconds\n"
     ]
    }
   ],
   "source": [
    "#Замерить и вывести время выполнения, пузырьком, быстрой сортировки, ваших 2 сортировок и встроенной сортировки python.\n",
    "\n",
    "import time\n",
    "\n",
    "start_time = time.time()\n",
    "sorted_numbers1 = selection_sort(numbers)\n",
    "end_time = time.time()\n",
    "\n",
    "execution_time = end_time - start_time\n",
    "print(f\"Сортировка выбором - {execution_time} seconds\")\n",
    "d_sort_methods['selection_sort'].append(execution_time)"
   ]
  },
  {
   "cell_type": "code",
   "execution_count": 14,
   "id": "9728f30c-1ebf-4c92-83ff-db34de02fcfe",
   "metadata": {},
   "outputs": [
    {
     "name": "stdout",
     "output_type": "stream",
     "text": [
      "Сортировка в python - 0.0002319812774658203 seconds\n"
     ]
    }
   ],
   "source": [
    "#Замерить и вывести время выполнения, пузырьком, быстрой сортировки, ваших 2 сортировок и встроенной сортировки python.\n",
    "\n",
    "import time\n",
    "\n",
    "start_time = time.time()\n",
    "sorted_numbers1 = sorted(numbers)\n",
    "end_time = time.time()\n",
    "\n",
    "execution_time = end_time - start_time\n",
    "print(f\"Сортировка в python - {execution_time} seconds\")\n",
    "d_sort_methods['sorted'].append(execution_time)"
   ]
  },
  {
   "cell_type": "code",
   "execution_count": 15,
   "id": "b4645b46-f1a8-4686-be8c-4738aefc8706",
   "metadata": {},
   "outputs": [],
   "source": [
    "#Сортировка пузырьком\n",
    "\n",
    "def bubble_sort(array):\n",
    "    N = len(array)\n",
    "    for i in range(N-1):\n",
    "        for j in range(N-1-i):\n",
    "            if array[j] > array[j+1]:\n",
    "                array[j], a[j+1] = array[j+1], array[j]\n",
    "    return array\n",
    "    "
   ]
  },
  {
   "cell_type": "code",
   "execution_count": 16,
   "id": "b3291e05-24f6-4489-8f67-b2686cb6ef71",
   "metadata": {},
   "outputs": [
    {
     "name": "stdout",
     "output_type": "stream",
     "text": [
      "Сортировка пузырьком - 4.218562364578247 seconds\n"
     ]
    }
   ],
   "source": [
    "#Замерить и вывести время выполнения, пузырьком, быстрой сортировки, ваших 2 сортировок и встроенной сортировки python.\n",
    "\n",
    "import time\n",
    "\n",
    "start_time = time.time()\n",
    "sorted_numbers1 = bubble_sort(numbers)\n",
    "end_time = time.time()\n",
    "\n",
    "execution_time = end_time - start_time\n",
    "print(f\"Сортировка пузырьком - {execution_time} seconds\")\n",
    "d_sort_methods['bubble_sort'].append(execution_time)"
   ]
  },
  {
   "cell_type": "code",
   "execution_count": 17,
   "id": "5e074bcc-11cc-4c47-ae2b-2af6c1623a8b",
   "metadata": {},
   "outputs": [],
   "source": [
    "#Быстрая сортировка\n",
    "\n",
    "def quick_sort(arr):\n",
    "    if len(arr) <= 1:\n",
    "        return arr\n",
    "    else:\n",
    "        pivot = arr[len(arr) // 2]\n",
    "        left = [x for x in arr if x < pivot]\n",
    "        middle = [x for x in arr if x == pivot]\n",
    "        right = [x for x in arr if x > pivot]\n",
    "        return quick_sort(left) + middle + quick_sort(right)"
   ]
  },
  {
   "cell_type": "code",
   "execution_count": 18,
   "id": "408526be-e207-443a-b4b7-a2d1f292836c",
   "metadata": {},
   "outputs": [
    {
     "name": "stdout",
     "output_type": "stream",
     "text": [
      "Быстрая сортировка - 0.019407987594604492 seconds\n"
     ]
    }
   ],
   "source": [
    "#Замерить и вывести время выполнения, пузырьком, быстрой сортировки, ваших 2 сортировок и встроенной сортировки python.\n",
    "\n",
    "import time\n",
    "\n",
    "start_time = time.time()\n",
    "sorted_numbers1 = quick_sort(numbers)\n",
    "end_time = time.time()\n",
    "\n",
    "execution_time = end_time - start_time\n",
    "print(f\"Быстрая сортировка - {execution_time} seconds\")\n",
    "d_sort_methods['quick_sort'].append(execution_time)"
   ]
  },
  {
   "cell_type": "code",
   "execution_count": 19,
   "id": "7e0cf100-f139-4ffb-bfda-c8de628f6559",
   "metadata": {},
   "outputs": [
    {
     "name": "stdout",
     "output_type": "stream",
     "text": [
      "{'insertion_sort': [3.2989604473114014], 'selection_sort': [3.0719966888427734], 'sorted': [0.0002319812774658203], 'bubble_sort': [4.218562364578247], 'quick_sort': [0.019407987594604492]}\n"
     ]
    }
   ],
   "source": [
    "print(d_sort_methods)"
   ]
  },
  {
   "cell_type": "code",
   "execution_count": 21,
   "id": "f0e15f33-3443-42a8-bc3e-7e2b04218632",
   "metadata": {},
   "outputs": [],
   "source": [
    "#Создать список из 20000 случайных чисел с плавающей запятой. Сравните как изменилось время выполнения. (если на вашем компьютере это выполняется слишком долго больше минуты или не хватает памяти 6. \n",
    "# возьмите меньшее число элементов, например 2000 / 4000)\n",
    "\n",
    "numbers2 = [random.uniform(-1000, 1000) for _ in range(20000)]"
   ]
  },
  {
   "cell_type": "code",
   "execution_count": 23,
   "id": "3983985a-fe7e-49a3-a82a-ce45b68f6ff4",
   "metadata": {},
   "outputs": [
    {
     "name": "stdout",
     "output_type": "stream",
     "text": [
      "Сортировка вставками - 13.27378225326538 seconds\n"
     ]
    }
   ],
   "source": [
    "#Сортировка вставками для 20000 чисел\n",
    "\n",
    "import time\n",
    "\n",
    "start_time = time.time()\n",
    "sorted_numbers1 = insertion_sort(numbers2)\n",
    "end_time = time.time()\n",
    "\n",
    "execution_time = end_time - start_time\n",
    "print(f\"Сортировка вставками - {execution_time} seconds\")\n",
    "d_sort_methods['insertion_sort'].append(execution_time)"
   ]
  },
  {
   "cell_type": "code",
   "execution_count": 24,
   "id": "877a4ff0-439a-4577-bf2e-fb407c1f4c1b",
   "metadata": {},
   "outputs": [
    {
     "name": "stdout",
     "output_type": "stream",
     "text": [
      "Сортировка выбором - 11.41667628288269 seconds\n"
     ]
    }
   ],
   "source": [
    "#Сортировка выбором для 20000 чисел\n",
    "\n",
    "import time\n",
    "\n",
    "start_time = time.time()\n",
    "sorted_numbers1 = selection_sort(numbers2)\n",
    "end_time = time.time()\n",
    "\n",
    "execution_time = end_time - start_time\n",
    "print(f\"Сортировка выбором - {execution_time} seconds\")\n",
    "d_sort_methods['selection_sort'].append(execution_time)"
   ]
  },
  {
   "cell_type": "code",
   "execution_count": 25,
   "id": "437550b8-ef87-498c-8e4b-7209d7c55644",
   "metadata": {},
   "outputs": [
    {
     "name": "stdout",
     "output_type": "stream",
     "text": [
      "Сортировка в python - 0.0003578662872314453 seconds\n"
     ]
    }
   ],
   "source": [
    "#Сортировка в python для 20000 чисел\n",
    "\n",
    "import time\n",
    "\n",
    "start_time = time.time()\n",
    "sorted_numbers1 = sorted(numbers2)\n",
    "end_time = time.time()\n",
    "\n",
    "execution_time = end_time - start_time\n",
    "print(f\"Сортировка в python - {execution_time} seconds\")\n",
    "d_sort_methods['sorted'].append(execution_time)"
   ]
  },
  {
   "cell_type": "code",
   "execution_count": 26,
   "id": "6b081fb4-341e-4b09-b9bd-05bd1706e0eb",
   "metadata": {},
   "outputs": [
    {
     "name": "stdout",
     "output_type": "stream",
     "text": [
      "Сортировка пузырьком - 15.67668604850769 seconds\n"
     ]
    }
   ],
   "source": [
    "#Сортировка пузырьком для 20000 чисел\n",
    "\n",
    "import time\n",
    "\n",
    "start_time = time.time()\n",
    "sorted_numbers1 = bubble_sort(numbers2)\n",
    "end_time = time.time()\n",
    "\n",
    "execution_time = end_time - start_time\n",
    "print(f\"Сортировка пузырьком - {execution_time} seconds\")\n",
    "d_sort_methods['bubble_sort'].append(execution_time)"
   ]
  },
  {
   "cell_type": "code",
   "execution_count": 28,
   "id": "6d652e44-e812-4d78-883e-f9efaaf99650",
   "metadata": {},
   "outputs": [
    {
     "name": "stdout",
     "output_type": "stream",
     "text": [
      "Быстрая сортировка - 0.03882861137390137 seconds\n"
     ]
    }
   ],
   "source": [
    "#Быстрая сортировка для 20000 чисел\n",
    "\n",
    "import time\n",
    "\n",
    "start_time = time.time()\n",
    "sorted_numbers1 = quick_sort(numbers2)\n",
    "end_time = time.time()\n",
    "\n",
    "execution_time = end_time - start_time\n",
    "print(f\"Быстрая сортировка - {execution_time} seconds\")\n",
    "d_sort_methods['quick_sort'].append(execution_time)"
   ]
  },
  {
   "cell_type": "code",
   "execution_count": 29,
   "id": "8672d935-c086-41a6-930c-417637337852",
   "metadata": {},
   "outputs": [
    {
     "name": "stdout",
     "output_type": "stream",
     "text": [
      "{'insertion_sort': [3.2989604473114014, 13.27378225326538], 'selection_sort': [3.0719966888427734, 11.41667628288269], 'sorted': [0.0002319812774658203, 0.0003578662872314453], 'bubble_sort': [4.218562364578247, 15.67668604850769], 'quick_sort': [0.019407987594604492, 0.03882861137390137]}\n"
     ]
    }
   ],
   "source": [
    "print(d_sort_methods)"
   ]
  },
  {
   "cell_type": "code",
   "execution_count": 30,
   "id": "886ba92c-1641-4195-bb35-1c1816f56b87",
   "metadata": {},
   "outputs": [
    {
     "name": "stdout",
     "output_type": "stream",
     "text": [
      "   insertion_sort  selection_sort    sorted  bubble_sort  quick_sort\n",
      "0        3.298960        3.071997  0.000232     4.218562    0.019408\n",
      "1       13.273782       11.416676  0.000358    15.676686    0.038829\n"
     ]
    }
   ],
   "source": [
    "#Создаём таблицу из словаря\n",
    "\n",
    "import pandas as pd\n",
    "\n",
    "df = pd.DataFrame(d_sort_methods)\n",
    "\n",
    "print(df)"
   ]
  },
  {
   "cell_type": "markdown",
   "id": "376fa719-641c-478d-9825-6da52db2613e",
   "metadata": {},
   "source": [
    "Выводы:\n",
    "1. \"Медленные\" виды сортировки (где ассимптотическая сложность O(n2)) работают на подобных массивах относительно долго и при увеличении размера массива, время растёт непропорционально больше (то есть быстрее, чем количество)\n",
    "2. \"Быстрые\" виды сортировки увеличивают время выполнения пропорционально увеличению размера массива. Встроенный метод взят из C++ - в принципе более быстрого языка, чем Python (других подробностей не знаю)"
   ]
  }
 ],
 "metadata": {
  "kernelspec": {
   "display_name": "Python 3 (ipykernel)",
   "language": "python",
   "name": "python3"
  },
  "language_info": {
   "codemirror_mode": {
    "name": "ipython",
    "version": 3
   },
   "file_extension": ".py",
   "mimetype": "text/x-python",
   "name": "python",
   "nbconvert_exporter": "python",
   "pygments_lexer": "ipython3",
   "version": "3.10.10"
  }
 },
 "nbformat": 4,
 "nbformat_minor": 5
}
