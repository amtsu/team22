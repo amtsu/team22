{
 "cells": [
  {
   "cell_type": "code",
   "execution_count": null,
   "id": "59e7fa60-ee16-437a-8832-7cf5cf872dab",
   "metadata": {},
   "outputs": [],
   "source": [
    "#Вычислить результат следующих операций:"
   ]
  },
  {
   "cell_type": "code",
   "execution_count": 1,
   "id": "5b9a1a79-dbfe-4af4-ac49-6586444b948f",
   "metadata": {},
   "outputs": [
    {
     "data": {
      "text/plain": [
       "80"
      ]
     },
     "execution_count": 1,
     "metadata": {},
     "output_type": "execute_result"
    }
   ],
   "source": [
    "10 * (5 + 3)"
   ]
  },
  {
   "cell_type": "code",
   "execution_count": 2,
   "id": "05c88ea0-6103-42fc-87af-808ed26142b5",
   "metadata": {},
   "outputs": [
    {
     "data": {
      "text/plain": [
       "7.0"
      ]
     },
     "execution_count": 2,
     "metadata": {},
     "output_type": "execute_result"
    }
   ],
   "source": [
    "(20 - 6) / 2"
   ]
  },
  {
   "cell_type": "code",
   "execution_count": 3,
   "id": "b6734a8a-1bf1-4341-a771-f103aacac38e",
   "metadata": {},
   "outputs": [
    {
     "data": {
      "text/plain": [
       "32"
      ]
     },
     "execution_count": 3,
     "metadata": {},
     "output_type": "execute_result"
    }
   ],
   "source": [
    "2 ** 5"
   ]
  },
  {
   "cell_type": "code",
   "execution_count": 4,
   "id": "372163cc-8e82-43f3-9c6d-1e1c44927771",
   "metadata": {},
   "outputs": [
    {
     "data": {
      "text/plain": [
       "6"
      ]
     },
     "execution_count": 4,
     "metadata": {},
     "output_type": "execute_result"
    }
   ],
   "source": [
    "25 // 4"
   ]
  },
  {
   "cell_type": "code",
   "execution_count": 5,
   "id": "b296b512-d11b-4946-bf35-156f20b64eb5",
   "metadata": {},
   "outputs": [
    {
     "data": {
      "text/plain": [
       "1"
      ]
     },
     "execution_count": 5,
     "metadata": {},
     "output_type": "execute_result"
    }
   ],
   "source": [
    "25 % 4"
   ]
  },
  {
   "cell_type": "code",
   "execution_count": 7,
   "id": "d9e49187-71d8-4a14-a832-3bb72d706003",
   "metadata": {},
   "outputs": [],
   "source": [
    "number = -3.14"
   ]
  },
  {
   "cell_type": "code",
   "execution_count": 8,
   "id": "9b3ebfb1-f5ef-4072-8f92-50e4de935c8a",
   "metadata": {},
   "outputs": [
    {
     "data": {
      "text/plain": [
       "-3"
      ]
     },
     "execution_count": 8,
     "metadata": {},
     "output_type": "execute_result"
    }
   ],
   "source": [
    "round(number)"
   ]
  },
  {
   "cell_type": "code",
   "execution_count": 9,
   "id": "00ba8660-1679-48f1-9bef-fd224cb0ab57",
   "metadata": {},
   "outputs": [
    {
     "data": {
      "text/plain": [
       "-0.14000000000000012"
      ]
     },
     "execution_count": 9,
     "metadata": {},
     "output_type": "execute_result"
    }
   ],
   "source": [
    "number - round(number)"
   ]
  },
  {
   "cell_type": "code",
   "execution_count": null,
   "id": "548dcb62-8acd-400e-ab8b-ba82a6d05165",
   "metadata": {},
   "outputs": [],
   "source": [
    "#Даны стороны прямоугольника: a = 5, b = 7.\n",
    "Вычислить площадь прямоугольника и вывести результат на экран."
   ]
  },
  {
   "cell_type": "code",
   "execution_count": 12,
   "id": "4dfab6ed-8e60-4491-8d64-c89388894a96",
   "metadata": {},
   "outputs": [
    {
     "name": "stdout",
     "output_type": "stream",
     "text": [
      "35\n"
     ]
    }
   ],
   "source": [
    "a = 5\n",
    "b = 7\n",
    "s = a * b\n",
    "print(s)"
   ]
  },
  {
   "cell_type": "code",
   "execution_count": null,
   "id": "4ba01032-b850-4739-86e0-1e0b827aeb2a",
   "metadata": {},
   "outputs": [],
   "source": [
    "#На какой объем воздуха должен быть расчитан кондиционер, если с его помощью хотят охлаждать квартиру в которой размер гостинной 3.5 на 6.4 метра, спальни 3.4 на 4 метра и площадь не жилой части 11 метров. При том что высота потолков 3,1 метр."
   ]
  },
  {
   "cell_type": "code",
   "execution_count": 15,
   "id": "8df155ef-c4d8-4a8f-a508-0b304c95fa41",
   "metadata": {},
   "outputs": [
    {
     "name": "stdout",
     "output_type": "stream",
     "text": [
      "145.70000000000002\n"
     ]
    }
   ],
   "source": [
    "a = 3.5 * 6.4\n",
    "b = 3.4 * 4\n",
    "c = 11\n",
    "h = 3.1\n",
    "volume = (a + b + c) * h\n",
    "print(volume)"
   ]
  },
  {
   "cell_type": "code",
   "execution_count": null,
   "id": "6d1e9815-ac1f-4b46-bba9-962b2327a7d6",
   "metadata": {},
   "outputs": [],
   "source": [
    "#Дано квадратное уравнение вида ax^2 + bx + c = 0.\n",
    "Найти его решения, используя формулу дискриминанта.\n",
    "a номер текущего месяца\n",
    "b номер вашей группы\n",
    "c минус десять (-10)"
   ]
  },
  {
   "cell_type": "code",
   "execution_count": 18,
   "id": "d4f57a09-a57e-441a-aee8-62ea9599c573",
   "metadata": {},
   "outputs": [
    {
     "name": "stdout",
     "output_type": "stream",
     "text": [
      "1.3117376914898995\n",
      "-3.8117376914898995\n"
     ]
    }
   ],
   "source": [
    "a = 2\n",
    "b = 5\n",
    "c = -10\n",
    "d = b ** 2 - 4 * a * c\n",
    "x1 = (-b + d ** 0.5) / (2 * a)\n",
    "x2 = (-b - d ** 0.5) / (2 * a)\n",
    "print(x1)\n",
    "print(x2)"
   ]
  },
  {
   "cell_type": "code",
   "execution_count": null,
   "id": "58c301f6-628c-49e5-bdc5-23c1852675b1",
   "metadata": {},
   "outputs": [],
   "source": [
    "#Даны строки:\n",
    "string1 = \"hello, \"\n",
    "string2 = \"world!\"\n",
    "Объединить строки string1 и string2 и результат вывести на экран так чтобы первая буква в предложении стала заглавной."
   ]
  },
  {
   "cell_type": "code",
   "execution_count": 19,
   "id": "c00520a6-2ece-41b8-8ae3-fd2e610ce7e7",
   "metadata": {},
   "outputs": [
    {
     "name": "stdout",
     "output_type": "stream",
     "text": [
      "Hello, world!\n"
     ]
    }
   ],
   "source": [
    "string1 = \"hello, \"\n",
    "string2 = \"world!\"\n",
    "string_full = string1 + string2\n",
    "print(string_full.capitalize())"
   ]
  },
  {
   "cell_type": "code",
   "execution_count": 21,
   "id": "7f193901-d83b-48c3-92ed-63d417d6a618",
   "metadata": {},
   "outputs": [
    {
     "name": "stdout",
     "output_type": "stream",
     "text": [
      "13\n"
     ]
    }
   ],
   "source": [
    "#Сколько символов было в предыдущей строке?\n",
    "print(len(string_full))"
   ]
  },
  {
   "cell_type": "code",
   "execution_count": 24,
   "id": "1bc9d9df-9984-460a-9dde-f82d5e2d9658",
   "metadata": {},
   "outputs": [
    {
     "name": "stdout",
     "output_type": "stream",
     "text": [
      "lalalalalalalalalalalalalalalalalalalalalalalalala\n"
     ]
    }
   ],
   "source": [
    "#Выведите на экран строку la 25 раз.\n",
    "string = 'la'\n",
    "print(string*25)"
   ]
  },
  {
   "cell_type": "code",
   "execution_count": null,
   "id": "0783692d-292b-47ef-befb-ca447d4bcc28",
   "metadata": {},
   "outputs": [],
   "source": [
    "#Дан список чисел:\n",
    "numbers = [1, 2, 3, 4, 5]\n",
    "Выполнить следующие операции:\n",
    "1. Измените число 2 на строку \"hi\" \n",
    "2. Выведите значение, находящееся на позиции 2.\n",
    "3. Изменить значение на позиции 4 на список из 3 элементов [8, 6, 4].\n",
    "Результаты вывести на экран."
   ]
  },
  {
   "cell_type": "code",
   "execution_count": 25,
   "id": "190fcffb-b5a0-42da-8224-6367dcbe9d84",
   "metadata": {},
   "outputs": [
    {
     "name": "stdout",
     "output_type": "stream",
     "text": [
      "hi\n",
      "[1, 'hi', 3, [8, 6, 4], 5]\n"
     ]
    }
   ],
   "source": [
    "numbers = [1, 2, 3, 4, 5]\n",
    "numbers[1] = 'hi'\n",
    "print(numbers[1])\n",
    "numbers[3] = [8, 6, 4]\n",
    "print(numbers)"
   ]
  },
  {
   "cell_type": "code",
   "execution_count": 27,
   "id": "691b25aa-e748-4e0b-b542-bd0c8e8d9800",
   "metadata": {},
   "outputs": [
    {
     "name": "stdout",
     "output_type": "stream",
     "text": [
      "[3, 4, 5, 6, 7]\n"
     ]
    }
   ],
   "source": [
    "#Дан список чисел:\n",
    "numbers = [1, 2, 3, 4, 5, 6, 7, 8, 9, 10]\n",
    "#Извлеките подсписок с 3-го по 7-й элемент включительно.\n",
    "print(numbers[2:7])"
   ]
  },
  {
   "cell_type": "code",
   "execution_count": null,
   "id": "68de312e-9658-4b4b-af4b-25e62266adbe",
   "metadata": {},
   "outputs": [],
   "source": []
  }
 ],
 "metadata": {
  "kernelspec": {
   "display_name": "Python 3 (ipykernel)",
   "language": "python",
   "name": "python3"
  },
  "language_info": {
   "codemirror_mode": {
    "name": "ipython",
    "version": 3
   },
   "file_extension": ".py",
   "mimetype": "text/x-python",
   "name": "python",
   "nbconvert_exporter": "python",
   "pygments_lexer": "ipython3",
   "version": "3.10.10"
  }
 },
 "nbformat": 4,
 "nbformat_minor": 5
}
