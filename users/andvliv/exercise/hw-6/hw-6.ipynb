{
 "cells": [
  {
   "cell_type": "markdown",
   "id": "2b0d3e26-e577-46f9-b9fb-b1ecda9c236b",
   "metadata": {},
   "source": [
    "Домашнее задание №6"
   ]
  },
  {
   "cell_type": "markdown",
   "id": "c31e684b-c242-43c0-b3a4-8ddd2c63dad8",
   "metadata": {},
   "source": [
    "1. Разберите предложенным на занятии методом (составление модели —\r\n",
    "алгоритм — программа — анализ результата) одно из заданий предыдущих\r\n",
    "домашних работ, вызвавшее сложности при решении."
   ]
  },
  {
   "cell_type": "markdown",
   "id": "38e20f25-f775-481a-aec5-54da04f5a4ad",
   "metadata": {},
   "source": [
    "#Создайте функцию для генерации и вывода всех простых чисел до заданного числа.\n",
    "n = int(input())\n",
    "def all_prime_numbers(n):\n",
    "    for i in range(1, n):\n",
    "        counter = 0\n",
    "        for j in range(1, i):   \n",
    "            if i % j == 0:\n",
    "                counter += 1\n",
    "        if counter <= 1:\n",
    "            print(i)\n",
    "all_prime_numbers(n)"
   ]
  },
  {
   "cell_type": "markdown",
   "id": "0d345a69-446c-414d-aa9e-24a9e9bf72ee",
   "metadata": {},
   "source": [
    "модель решения задачи:\n",
    "нужно сгенерировать все простые числа до вводимого числа(n) и вывести их на экран\n",
    "алгоритм:\n",
    "ввод числа - перебор всех чисел до введённого числа  - вывод простых чисел до n\n",
    "программа:\n",
    "n = int(input()) - for i in range(1, i) - print i if i % (range(2, i)) != 0\n",
    "анализ результата:\n",
    "в результате не выдавались те числа, которые были задуманы, так как синтаксически было записано неправильно\n",
    "Изменения в алгоритме:\n",
    "добавил вложенный цикл для проверки числа i на то, является ли оно простым или нет\n",
    "добавил счётчик в начале первого цикла, чтобы он показывал, является ли число простым(counter <= 1), а также обновлялся перед каждым новым вложенным циклом(проверка числа i на то, является ли оно простым)\n",
    "Программа:\n",
    "n = int(input()) - for i in range(1, i) - counter = 0 - for j in range(1, i) - if i % j == 0: counter += 1 - if counter <= 1: print(i)\n",
    "анализ результата: функция all_prime_numbers(n) выводит все простые числа до n, использую вложенный цикл и счётчик, что соответствует условиям задачи"
   ]
  },
  {
   "cell_type": "markdown",
   "id": "544052a9-541e-4f99-bb13-50e6e0cfb165",
   "metadata": {},
   "source": [
    "2. Напишите программу для робота, который сходит за хлебом из дома в\r\n",
    "булочную. Робот умеет поворачивать направо на 90 градусов командой «Поворот»\r\n",
    "и передвигаться на 0.5 ми командой «Вперед». Больше ничего не умеет. Булочник\r\n",
    "сам положит в него хлеб. Нужно добраться до булочной и вернуться."
   ]
  },
  {
   "cell_type": "markdown",
   "id": "366bfcc9-7095-45fd-83ba-f525fd176baf",
   "metadata": {},
   "source": [
    "Вперёд - поворот - вперёд * 51 - поворот - вперёд * 47 - поворот - вперёд * 17 - поворот - вперёд - поворот *2 - вперёд - поворот * 3 - Вперёд - поворот * 3 - вперёд * 51 - поворот * 3 - вперёд * 47 - поворот * 3 - вперёд * 17\n",
    "\n",
    "#Использую поворот * 3 для поворота налево"
   ]
  },
  {
   "cell_type": "markdown",
   "id": "f2de7496-4974-4e2d-a266-ae035d8d19b1",
   "metadata": {},
   "source": [
    "3. Напишите программу для робота, который сходит за хлебом из дома в\r\n",
    "булочную. Робот умеет поворачивать направо на 90 градусов командой «Поворот»\r\n",
    "и передвигаться на 0.5 ми командой «Вперед». Робот имеет язык\r\n",
    "программирования с поддержкой переменных, математических операторов,\r\n",
    "операторов условий и циклов. Булочник сам положит в него хлеб. Нужно\r\n",
    "добраться до булочной и верну робот"
   ]
  },
  {
   "cell_type": "markdown",
   "id": "0abf0f90-6550-4c77-9b92-328952c0bacb",
   "metadata": {},
   "source": [
    "f = forward 0.5m\n",
    "r = 90 degree right turn\n",
    "n = int(input()) - first wall lenght\n",
    "m = int(input()) - second wall lenght\n",
    "k = int(input()) - third wall lenght\n",
    "def to_bulochnaya(n, m, k):\n",
    "    start = f, r\n",
    "    for a in range(n + m + k):\n",
    "        while a /  f  <  n:\r",
    "            ai += 1        \r\n",
    "ia i f.> < n            r\n",
    "    for b in range(n + m + k):\n",
    "        while b /  f  <  n:\n",
    "            b += 1\n",
    "        if b / f > n:\n",
    "            rо    for c in range(n + m + k):\n",
    "        while c /  f  <  n:\n",
    "            c += 1\n",
    "        if c / f > n:\n",
    "            r\n",
    "    finish = f, r\n",
    "    return (start, a, b, c, finish)\n",
    "to_bulochnaya(n, m, k)\n",
    "def from_bulochnaya(n, m, k):\n",
    "    for a in range(n + m + k):\n",
    "        while a /  f  <  n:\n",
    "            a += 1\n",
    "        if a / f > n:\n",
    "            3 * r\n",
    "    for b in range(n + m + k):\n",
    "        while b /  f  <  n:\n",
    "            b += 1\n",
    "        if b / f > n:\n",
    "            3 * r\n",
    "    for c in range(n + m + k):\n",
    "        while c /  f  <  n:\n",
    "            c += 1\n",
    "        if c / f > n:\n",
    "            3 * r\n",
    "    finish = f, 3 * r\n",
    "    return (a, b, c, finish)\n",
    "from_bulochnaya(n, m, k))\r\n",
    "?"
   ]
  },
  {
   "cell_type": "markdown",
   "id": "991c8112-371a-4ade-90e9-2736ae76ba6b",
   "metadata": {},
   "source": [
    "Напишите программу для робота, который сходит за хлебом из дома в\r\n",
    "булочную. Робот умеет поворачивать на заданное число градусов, двигаться\r\n",
    "вперед со скоростью 0.2м/с, имеет встроенный счетчик времени. Булочник сам\r\n",
    "положит в него хлеб. Нужно добраться до булочной и вернуться."
   ]
  },
  {
   "cell_type": "markdown",
   "id": "b580442c-722d-49ae-92f7-ac0f8c79b5fa",
   "metadata": {},
   "source": [
    "f = forward 0.2m\n",
    "r = 90 degree right turn\n",
    "n = int(input()) - first wall lenght\n",
    "m = int(input()) - second wall lenght\n",
    "k = int(input()) - third wall lenght\n",
    "def to_bulochnaya(n, m, k):\n",
    "    t_counter = 0\n",
    "    start = f, r\n",
    "    for a in range(n + m + k):\n",
    "        while a /  f  <  n:\n",
    "            a += 1\n",
    "            t_counter += 1\n",
    "        if a / f > n:\n",
    "            r\n",
    "    for b in range(n + m + k):\n",
    "        while b /  f  <  n:\n",
    "            b += 1\n",
    "            t_counter += 1\n",
    "        if b / f > n:\n",
    "            r\n",
    "    for c in range(n + m + k):\n",
    "        while c /  f  <  n:\n",
    "            c += 1\n",
    "            t_counter += 1\n",
    "        if c / f > n:\n",
    "            r\n",
    "    finish = f, r\n",
    "    return (start, a, b, c, finish, t_counter)\n",
    "to_bulochnaya(n, m, k)\n",
    "def from_bulochnaya(n, m, k):\n",
    "    for a in range(n + m + k):\n",
    "        while a /  f  <  n:\n",
    "            a += 1\n",
    "            counter += 1\n",
    "        if a / f > n:\n",
    "            3 * r\n",
    "    for b in range(n + m + k):\n",
    "        while b /  f  <  n:\n",
    "            b += 1\n",
    "            counter += 1\n",
    "        if b / f > n:\n",
    "            3 * r\n",
    "    for c in range(n + m + k):\n",
    "        while c /  f  <  n:\n",
    "            c += 1\n",
    "            counter += 1\n",
    "        if c / f > n:\n",
    "            3 * r\n",
    "    finish = f, 3 * r\n",
    "    return (a, b, c, finish, t_counter)\n",
    "from_bulochnaya(n, m, k)"
   ]
  },
  {
   "cell_type": "markdown",
   "id": "419cb477-a430-4fb5-8e3d-ccfead97e9f1",
   "metadata": {},
   "source": [
    "5. Напишите инструкцию для участника наших курсов по работе с git при\r\n",
    "выполнении одной домашней работы."
   ]
  },
  {
   "cell_type": "markdown",
   "id": "8ee8bc8a-87a9-4ac7-acf9-82e410bd954f",
   "metadata": {},
   "source": [
    "Для входа в консоль git откройте новое окно в jupiter и нажмите на чёрный квадрат, подписанный Terminal\n",
    "Проверьте, в какой директории вы находитесь - команда pwd\n",
    "Перейдите в директорию ~/github/team22/ с помощью команды cd ~/github/team22/\n",
    "Создайте ветку, название которой соответствует вашему логину в Git и номеру домашнего задания, например andvliv-hw-6 - с помощью команды git branch НАЗВАНИЕ ВЕТКИ\n",
    "Перейдите в папку users, далее в вашу папку, затем в папку exercise, там создайте папку с номером дз, например, hw-6 - с помощью команды mkdir НАЗВАНИЕ ПАПКИ\n",
    "Перейдите в эту папку и создайте в ней файл с названием домашнего задания и расширением .ipynb, с помощью команды touch НАЗВАНИЕ ФАЙЛА\n",
    "Сделайте домашнее задание\n",
    "Снова откройте консоль, проверьте, что система видит новый файл с помощью команды git status\n",
    "Можно так же проверить, на какой ветке вы находитесь с помощью команды git branch\n",
    "Добавьте файл в обновления с помощью команды git add ПУТЬ К ФАЙЛУ И ЕГО НАЗВАНИЕ, например ~/github/team22/users/andvliv/exercise/hw-5/hw-5.ipynb\n",
    "Создайте коммит с помощью команды git commit -m 'ВАШ КОММЕНТАРИЙ'\n",
    "Отправьте изменения на главную ветку с помощью команды git push --set-upstream origin 'НАЗВАНИЕ ВАШЕЙ ВЕТКИ'\n",
    "Перейдите на github.com и, находясь в репозитории amtsu/team22 создайте pull request\n",
    "При создании pull request выберете ветку, с которой будет отправляться файл (она будет справа) и в качестве reviewers укажите всех участников вашей мини-группы, а также преподавателей курса\n",
    "Успехов!"
   ]
  }
 ],
 "metadata": {
  "kernelspec": {
   "display_name": "Python 3 (ipykernel)",
   "language": "python",
   "name": "python3"
  },
  "language_info": {
   "codemirror_mode": {
    "name": "ipython",
    "version": 3
   },
   "file_extension": ".py",
   "mimetype": "text/x-python",
   "name": "python",
   "nbconvert_exporter": "python",
   "pygments_lexer": "ipython3",
   "version": "3.10.10"
  }
 },
 "nbformat": 4,
 "nbformat_minor": 5
}
