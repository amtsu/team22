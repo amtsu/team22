{
 "cells": [
  {
   "cell_type": "markdown",
   "id": "de1bd520-91c7-4a33-bcc6-33d5b82dd773",
   "metadata": {},
   "source": [
    "1 - UNICODE"
   ]
  },
  {
   "cell_type": "code",
   "execution_count": 7,
   "id": "d6307687-94f3-4413-b9a8-21a28c4d98b5",
   "metadata": {},
   "outputs": [
    {
     "name": "stdout",
     "output_type": "stream",
     "text": [
      "a b c d e f g h i j k l m n o p q r s t u v w x y z "
     ]
    }
   ],
   "source": [
    "#Вывести английский алфавит в строку (подсказка - в английском алфавите 26 букв)\n",
    "for i in range(97, 123):\n",
    "    print(chr(i), end=' ')"
   ]
  },
  {
   "cell_type": "code",
   "execution_count": 8,
   "id": "ab9a630e-e2df-4f56-8e8a-d46f3f5af4af",
   "metadata": {},
   "outputs": [
    {
     "name": "stdout",
     "output_type": "stream",
     "text": [
      "aa ab ac ad ae af ag ah ai aj ak al am an ao ap aq ar as at au av aw ax ay az\n",
      "ba bb bc bd be bf bg bh bi bj bk bl bm bn bo bp bq br bs bt bu bv bw bx by bz\n",
      "ca cb cc cd ce cf cg ch ci cj ck cl cm cn co cp cq cr cs ct cu cv cw cx cy cz\n",
      "da db dc dd de df dg dh di dj dk dl dm dn do dp dq dr ds dt du dv dw dx dy dz\n",
      "ea eb ec ed ee ef eg eh ei ej ek el em en eo ep eq er es et eu ev ew ex ey ez\n",
      "fa fb fc fd fe ff fg fh fi fj fk fl fm fn fo fp fq fr fs ft fu fv fw fx fy fz\n",
      "ga gb gc gd ge gf gg gh gi gj gk gl gm gn go gp gq gr gs gt gu gv gw gx gy gz\n",
      "ha hb hc hd he hf hg hh hi hj hk hl hm hn ho hp hq hr hs ht hu hv hw hx hy hz\n",
      "ia ib ic id ie if ig ih ii ij ik il im in io ip iq ir is it iu iv iw ix iy iz\n",
      "ja jb jc jd je jf jg jh ji jj jk jl jm jn jo jp jq jr js jt ju jv jw jx jy jz\n",
      "ka kb kc kd ke kf kg kh ki kj kk kl km kn ko kp kq kr ks kt ku kv kw kx ky kz\n",
      "la lb lc ld le lf lg lh li lj lk ll lm ln lo lp lq lr ls lt lu lv lw lx ly lz\n",
      "ma mb mc md me mf mg mh mi mj mk ml mm mn mo mp mq mr ms mt mu mv mw mx my mz\n",
      "na nb nc nd ne nf ng nh ni nj nk nl nm nn no np nq nr ns nt nu nv nw nx ny nz\n",
      "oa ob oc od oe of og oh oi oj ok ol om on oo op oq or os ot ou ov ow ox oy oz\n",
      "pa pb pc pd pe pf pg ph pi pj pk pl pm pn po pp pq pr ps pt pu pv pw px py pz\n",
      "qa qb qc qd qe qf qg qh qi qj qk ql qm qn qo qp qq qr qs qt qu qv qw qx qy qz\n",
      "ra rb rc rd re rf rg rh ri rj rk rl rm rn ro rp rq rr rs rt ru rv rw rx ry rz\n",
      "sa sb sc sd se sf sg sh si sj sk sl sm sn so sp sq sr ss st su sv sw sx sy sz\n",
      "ta tb tc td te tf tg th ti tj tk tl tm tn to tp tq tr ts tt tu tv tw tx ty tz\n",
      "ua ub uc ud ue uf ug uh ui uj uk ul um un uo up uq ur us ut uu uv uw ux uy uz\n",
      "va vb vc vd ve vf vg vh vi vj vk vl vm vn vo vp vq vr vs vt vu vv vw vx vy vz\n",
      "wa wb wc wd we wf wg wh wi wj wk wl wm wn wo wp wq wr ws wt wu wv ww wx wy wz\n",
      "xa xb xc xd xe xf xg xh xi xj xk xl xm xn xo xp xq xr xs xt xu xv xw xx xy xz\n",
      "ya yb yc yd ye yf yg yh yi yj yk yl ym yn yo yp yq yr ys yt yu yv yw yx yy yz\n",
      "za zb zc zd ze zf zg zh zi zj zk zl zm zn zo zp zq zr zs zt zu zv zw zx zy zz\n"
     ]
    }
   ],
   "source": [
    "#Cгенерировать все возможные комбинации строчных букв английского алфавита длиной два символа. Выведите сочетания для каждой буквы на 1 месте на отдельной строке.\n",
    "for i in range(97, 123):\n",
    "    un_list = []      \n",
    "    for j in range(97, 123):\n",
    "        un_list.append(chr(i)+chr(j))\n",
    "    print(*un_list)"
   ]
  },
  {
   "cell_type": "code",
   "execution_count": 12,
   "id": "c898a443-8728-47a7-a3f5-4490e5af2800",
   "metadata": {},
   "outputs": [
    {
     "name": "stdout",
     "output_type": "stream",
     "text": [
      "aa ab ac ad ae af ag ah ai aj ak al am an ao ap aq ar as at au av aw ax ay az\n",
      "ba bb bc bd be bf bg bh bi bj bk bl bm bn bo bp bq br bs bt bu bv bw bx by bz\n",
      "ca cb cc cd ce cf cg ch ci cj ck cl cm cn co cp cq cr cs ct cu cv cw cx cy cz\n",
      "da db dc dd de df dg dh di dj dk dl dm dn do dp dq dr ds dt du dv dw dx dy dz\n",
      "ea eb ec ed ee ef eg eh ei ej ek el em en eo ep eq er es et eu ev ew ex ey ez\n",
      "fa fb fc fd fe ff fg fh fi fj fk fl fm fn fo fp fq fr fs ft fu fv fw fx fy fz\n",
      "ga gb gc gd ge gf gg gh gi gj gk gl gm gn go gp gq gr gs gt gu gv gw gx gy gz\n",
      "ha hb hc hd he hf hg hh hi hj hk hl hm hn ho hp hq hr hs ht hu hv hw hx hy hz\n",
      "ia ib ic id ie if ig ih ii ij ik il im in io ip iq ir is it iu iv iw ix iy iz\n",
      "ja jb jc jd je jf jg jh ji jj jk jl jm jn jo jp jq jr js jt ju jv jw jx jy jz\n",
      "ka kb kc kd ke kf kg kh ki kj kk kl km kn ko kp kq kr ks kt ku kv kw kx ky kz\n",
      "la lb lc ld le lf lg lh li lj lk ll lm ln lo lp lq lr ls lt lu lv lw lx ly lz\n",
      "ma mb mc md me mf\n"
     ]
    }
   ],
   "source": [
    "#Cгенерировать последовательно двухбуквенные строки по алфавиту до строки «mf».\n",
    "for i in range(97, 110):\n",
    "    un_list = []      \n",
    "    for j in range(97, 123):\n",
    "        un_list.append(chr(i)+chr(j))\n",
    "        if chr(i)+chr(j) == 'mf':\n",
    "            break\n",
    "    print(*un_list)"
   ]
  },
  {
   "cell_type": "code",
   "execution_count": 16,
   "id": "609d81ea-7d63-44bb-b3f2-c2152913cb0e",
   "metadata": {},
   "outputs": [
    {
     "name": "stdout",
     "output_type": "stream",
     "text": [
      "ab ac ad ae af ag ah ai aj ak al am an ao ap aq ar as at au av aw ax ay az\n",
      "ba bc bd be bf bg bh bi bj bk bl bm bn bo bp bq br bs bt bu bv bw bx by bz\n",
      "ca cb cd ce cf cg ch ci cj ck cl cm cn co cp cq cr cs ct cu cv cw cx cy cz\n",
      "da db dc de df dg dh di dj dk dl dm dn do dp dq dr ds dt du dv dw dx dy dz\n",
      "ea eb ec ed ef eg eh ei ej ek el em en eo ep eq er es et eu ev ew ex ey ez\n",
      "fa fb fc fd fe fg fh fi fj fk fl fm fn fo fp fq fr fs ft fu fv fw fx fy fz\n",
      "ga gb gc gd ge gf gh gi gj gk gl gm gn go gp gq gr gs gt gu gv gw gx gy gz\n",
      "ha hb hc hd he hf hg hi hj hk hl hm hn ho hp hq hr hs ht hu hv hw hx hy hz\n",
      "ia ib ic id ie if ig ih ij ik il im in io ip iq ir is it iu iv iw ix iy iz\n",
      "ja jb jc jd je jf jg jh ji jk jl jm jn jo jp jq jr js jt ju jv jw jx jy jz\n",
      "ka kb kc kd ke kf kg kh ki kj kl km kn ko kp kq kr ks kt ku kv kw kx ky kz\n",
      "la lb lc ld le lf lg lh li lj lk lm ln lo lp lq lr ls lt lu lv lw lx ly lz\n",
      "ma mb mc md me mf mg mh mi mj mk ml mn mo mp mq mr ms mt mu mv mw mx my mz\n",
      "na nb nc nd ne nf ng nh ni nj nk nl nm no np nq nr ns nt nu nv nw nx ny nz\n",
      "oa ob oc od oe of og oh oi oj ok ol om on op oq or os ot ou ov ow ox oy oz\n",
      "pa pb pc pd pe pf pg ph pi pj pk pl pm pn po pq pr ps pt pu pv pw px py pz\n",
      "qa qb qc qd qe qf qg qh qi qj qk ql qm qn qo qp qr qs qt qu qv qw qx qy qz\n",
      "ra rb rc rd re rf rg rh ri rj rk rl rm rn ro rp rq rs rt ru rv rw rx ry rz\n",
      "sa sb sc sd se sf sg sh si sj sk sl sm sn so sp sq sr st su sv sw sx sy sz\n",
      "ta tb tc td te tf tg th ti tj tk tl tm tn to tp tq tr ts tu tv tw tx ty tz\n",
      "ua ub uc ud ue uf ug uh ui uj uk ul um un uo up uq ur us ut uv uw ux uy uz\n",
      "va vb vc vd ve vf vg vh vi vj vk vl vm vn vo vp vq vr vs vt vu vw vx vy vz\n",
      "wa wb wc wd we wf wg wh wi wj wk wl wm wn wo wp wq wr ws wt wu wv wx wy wz\n",
      "xa xb xc xd xe xf xg xh xi xj xk xl xm xn xo xp xq xr xs xt xu xv xw xy xz\n",
      "ya yb yc yd ye yf yg yh yi yj yk yl ym yn yo yp yq yr ys yt yu yv yw yx yz\n",
      "za zb zc zd ze zf zg zh zi zj zk zl zm zn zo zp zq zr zs zt zu zv zw zx zy\n"
     ]
    }
   ],
   "source": [
    "#Cгенерировать все возможные комбинации строчных букв английского алфавита длиной два символа, но не выводить комбинации с одинаковыми буквами («aa», «bb» и т. д.):\n",
    "for i in range(97, 123):\n",
    "    un_list = []      \n",
    "    for j in range(97, 123):\n",
    "        if chr(i) != chr(j):\n",
    "            un_list.append(chr(i)+chr(j))\n",
    "    print(*un_list)"
   ]
  },
  {
   "cell_type": "code",
   "execution_count": 8,
   "id": "bf0689ce-7efe-4dae-a20e-dee69be94037",
   "metadata": {},
   "outputs": [
    {
     "name": "stdin",
     "output_type": "stream",
     "text": [
      " caesarz12\n"
     ]
    },
    {
     "name": "stdout",
     "output_type": "stream",
     "text": [
      "geiwevd12\n"
     ]
    },
    {
     "name": "stdin",
     "output_type": "stream",
     "text": [
      " geiwevd12\n"
     ]
    },
    {
     "name": "stdout",
     "output_type": "stream",
     "text": [
      "caesarz12\n"
     ]
    }
   ],
   "source": [
    "#Напишите две функции: caesar_crypt(key) одна будет шифровать введенный ей через input() текст шифром Цезаря. Другая расшифровывать caesar_decrypt(key). Аргумент функций - цифра сдвига для кодировки.\n",
    "def caesar_crypt(key):\n",
    "    word = input()\n",
    "    new_word = ''\n",
    "    for i in word:\n",
    "        if i in 'abcdefghijklmnopqrstuvwxyz':\n",
    "            i = chr(ord(i) + key)\n",
    "            if ord(i) > 122:\n",
    "                i = chr(ord(i) - 26)\n",
    "        new_word += i\n",
    "    return new_word\n",
    "print(caesar_crypt(4))\n",
    "\n",
    "def caesar_decrypt(key):\n",
    "    word = input()\n",
    "    new_word = ''\n",
    "    for i in word:\n",
    "        if i in 'abcdefghijklmnopqrstuvwxyz':\n",
    "            i = chr(ord(i) - key)\n",
    "            if ord(i) < 97:\n",
    "                i = chr(ord(i) + 26)\n",
    "        new_word += i\n",
    "    return new_word\n",
    "print(caesar_decrypt(4))"
   ]
  },
  {
   "cell_type": "markdown",
   "id": "b0d328de-0282-4b14-b6cf-eb9e0ea5854b",
   "metadata": {},
   "source": [
    "2 - F-СТРОКИ"
   ]
  },
  {
   "cell_type": "markdown",
   "id": "7e0dc15d-8937-4ae3-a286-60ab94d4ef7c",
   "metadata": {},
   "source": [
    "1. Напечать чек с помощью f-строки. Ввод можно сделать через input или кортеж\r\n",
    "Ввод:\r\n",
    "название товара;\r\n",
    "цена товара;\r\n",
    "вес товара;\r\n",
    "количество денег у пользователя.\r\n",
    "\r\n",
    "Вывод:\r\n",
    "Чек\r\n",
    "<название товара> - <вес>кг - <цена>руб/кг\r\n",
    "Итого: <итоговая стоимость>руб\r\n",
    "Внесено: <количество денег от пользователя>руб\r\n",
    "Сдача: <сдача>руб"
   ]
  },
  {
   "cell_type": "code",
   "execution_count": 15,
   "id": "d70b308b-c49f-4ffe-a4fe-b5297c5201bf",
   "metadata": {},
   "outputs": [
    {
     "name": "stdout",
     "output_type": "stream",
     "text": [
      "Чек\n",
      "<chocolate> - <0.1> - <1000>руб/кг\n",
      "Итого: <100.0>руб\n",
      "Внесено: <500>руб\n",
      "Сдача: <400.0>руб\n"
     ]
    }
   ],
   "source": [
    "def receipt(item, price, weight, money):\n",
    "    total = price * weight\n",
    "    change = money - total\n",
    "    if change < 0:\n",
    "        return f'Не хватает денег для оплаты'\n",
    "    return f\"Чек\\n<{item}> - <{weight}> - <{price}>руб/кг\\nИтого: <{total}>руб\\nВнесено: <{money}>руб\\nСдача: <{change}>руб\"\n",
    "print(receipt('chocolate', 1000, 0.1, 500))"
   ]
  },
  {
   "cell_type": "markdown",
   "id": "05b7a1d0-d599-43d5-be6e-8bc4ea2d41e2",
   "metadata": {},
   "source": [
    "2. Сделать для предыдущей задачи красивый вывод в виде:\r\n",
    "================Чек================\r\n",
    "Товар:                    <продукт>\r\n",
    "Цена:     <число>кг * <число>руб/кг\r\n",
    "Итого:                   <число>руб\r\n",
    "Внесено:                 <число>руб\r\n",
    "Сдача:                   <число>руб\r\n",
    "==================================="
   ]
  },
  {
   "cell_type": "code",
   "execution_count": 57,
   "id": "1bb2491e-4b36-4442-83c2-c18e737fa40b",
   "metadata": {},
   "outputs": [
    {
     "name": "stdout",
     "output_type": "stream",
     "text": [
      "================Чек================\n",
      "Товар:                  <chocolate>\n",
      "Цена:        <0.1> *   <1000>руб/кг\n",
      "Итого:                   <100.0>руб\n",
      "Внесено:                   <500>руб\n",
      "Сдача:                   <400.0>руб\n",
      "===================================\n"
     ]
    }
   ],
   "source": [
    "def receipt(item, price, weight, money):\n",
    "    total = price * weight\n",
    "    change = money - total\n",
    "    if change < 0:\n",
    "        return f'Не хватает денег для оплаты'\n",
    "    return (f\"================Чек================\\nТовар: {f'<{item}>':>28}\\nЦена: {f'<{weight}>':>12} * {f'<{price}>':>8}руб/кг\\nИтого: {f'<{total}>':>25}руб\\nВнесено: {f'<{money}>':>23}руб\\nСдача: {f'<{change}>':>25}руб\\n===================================\")\n",
    "print(receipt('chocolate', 1000, 0.1, 500))"
   ]
  },
  {
   "cell_type": "code",
   "execution_count": 32,
   "id": "f1ad3967-529c-4419-af16-00ec283a569a",
   "metadata": {},
   "outputs": [
    {
     "name": "stdin",
     "output_type": "stream",
     "text": [
      " 5\n"
     ]
    },
    {
     "name": "stdout",
     "output_type": "stream",
     "text": [
      "      1 \n",
      "     1 1 \n",
      "    1 2 1 \n",
      "   1 3 3 1 \n",
      "  1 4 6 4 1 \n"
     ]
    }
   ],
   "source": [
    "#Вывести трегуольник паскаля в красивом виде. В этом треугольнике на вершине и по бокам стоят единицы. Каждое число равно сумме двух расположенных над ним чисел.\n",
    "#Строки треугольника симметричны относительно вертикальной оси. (не использовать многострочное форматирование)\n",
    "# put your python code here\n",
    "n = int(input())\n",
    "tr_list = []\n",
    "for i in range(1, n+1):\n",
    "    tr_list.append([1] * i)\n",
    "if n > 1:\n",
    "    for i in range(2, n):\n",
    "        for j in range(1, i):\n",
    "            tr_list[i][j] = tr_list[i-1][j-1]+tr_list[i-1][j]\n",
    "max_length = n - 1\n",
    "empty_list = [[' ' * i] for i in range(max_length + 1, 0, -1)]\n",
    "final_list = []\n",
    "for i in range(len(empty_list)):\n",
    "    final_list.append(empty_list[i] + tr_list[i])\n",
    "for row in final_list:\n",
    "    for elem in row:\n",
    "            print(elem, end=' ')\n",
    "    print()"
   ]
  },
  {
   "cell_type": "code",
   "execution_count": 66,
   "id": "83463c09-4f87-457c-a90f-ed0cd4ad7645",
   "metadata": {},
   "outputs": [
    {
     "ename": "SyntaxError",
     "evalue": "f-string: cannot use starred expression here (2097094426.py, line 5)",
     "output_type": "error",
     "traceback": [
      "\u001b[0;36m  Cell \u001b[0;32mIn[66], line 5\u001b[0;36m\u001b[0m\n\u001b[0;31m    print(f'Все пары кортежей - {*ab}')\u001b[0m\n\u001b[0m     ^\u001b[0m\n\u001b[0;31mSyntaxError\u001b[0m\u001b[0;31m:\u001b[0m f-string: cannot use starred expression here\n"
     ]
    }
   ],
   "source": [
    "#Выполните ячейку и объясните результат выполнения. Потом поправьте чтобы сработали оба принта.\n",
    "a = [1,2,3]\n",
    "b = [3,2,1]\n",
    "ab = zip(a,b)\n",
    "print(f'Все пары кортежей - {*ab}')\n",
    "print(f'Хочу вывести первую пару - {next(ab)}')\n",
    "#в первом случае f-строка не выводит итератор\n",
    "#во втором не выводит, так как программа уже прошлась по zip-у в предыдущем принте"
   ]
  },
  {
   "cell_type": "code",
   "execution_count": 67,
   "id": "457abbc2-6059-4db6-927f-0c802057cbeb",
   "metadata": {},
   "outputs": [
    {
     "name": "stdout",
     "output_type": "stream",
     "text": [
      "Все пары кортежей - (1, 3) (2, 2) (3, 1)\n",
      "Хочу вывести первую пару - (1, 3)\n"
     ]
    }
   ],
   "source": [
    "#поправка к коду\n",
    "a = [1,2,3]\n",
    "b = [3,2,1]\n",
    "ab = zip(a,b)\n",
    "print('Все пары кортежей -', *ab)\n",
    "ab = zip(a,b)\n",
    "print(f'Хочу вывести первую пару - {next(ab)}')"
   ]
  },
  {
   "cell_type": "markdown",
   "id": "cdf4ad26-e7c5-466c-9d97-7d8e2f47faf0",
   "metadata": {},
   "source": [
    "3 - РАБОТА С ФАЙЛАМИ"
   ]
  },
  {
   "cell_type": "code",
   "execution_count": 8,
   "id": "addff518-decc-498d-b9e1-e3c709cdcd1f",
   "metadata": {},
   "outputs": [],
   "source": [
    "#Возьмите массив двухбуквенных сочетаний из задания 1.2 и запишите построчно этот массив в file1.txt\n",
    "with open('file1.txt', 'a') as file:\n",
    "    for i in range(97, 123):\n",
    "        un_list = []      \n",
    "        for j in range(97, 123):\n",
    "            un_list.extend(chr(i)+chr(j) + ' ')\n",
    "        file.writelines(un_list)\n",
    "        file.write('\\n')\n",
    "    file.close()"
   ]
  },
  {
   "cell_type": "code",
   "execution_count": 10,
   "id": "314bdf34-91a8-43b2-9326-d8acff1f4ad2",
   "metadata": {},
   "outputs": [
    {
     "name": "stdout",
     "output_type": "stream",
     "text": [
      "ua ub uc ud ue uf ug uh ui uj uk ul um un uo up uq ur us ut uu uv uw ux uy uz\n",
      "va vb vc vd ve vf vg vh vi vj vk vl vm vn vo vp vq vr vs vt vu vv vw vx vy vz\n",
      "wa wb wc wd we wf wg wh wi wj wk wl wm wn wo wp wq wr ws wt wu wv ww wx wy wz\n",
      "xa xb xc xd xe xf xg xh xi xj xk xl xm xn xo xp xq xr xs xt xu xv xw xx xy xz\n",
      "ya yb yc yd ye yf yg yh yi yj yk yl ym yn yo yp yq yr ys yt yu yv yw yx yy yz\n"
     ]
    }
   ],
   "source": [
    "#Напишите функцию read_last(lines, file), которая будет открывать файл (в нашем случае file1.txt) \n",
    "# и выводить на печать построчно последние строки в количестве lines (на всякий случай проверим, что задано положительное целое число)\n",
    "def read_last(num_lines, file):\n",
    "    with open(file) as f_file:\n",
    "        lines = f_file.readlines()\n",
    "        list_lines = []\n",
    "        for i in range(-num_lines-1, -1):\n",
    "            list_lines.append(lines[i].strip())\n",
    "        print(*list_lines, sep = '\\n')\n",
    "    f_file.close()\n",
    "read_last(5, 'file1.txt')"
   ]
  },
  {
   "cell_type": "code",
   "execution_count": 34,
   "id": "369cf089-4eef-4d3e-ab38-e456e94139a8",
   "metadata": {},
   "outputs": [
    {
     "name": "stdout",
     "output_type": "stream",
     "text": [
      "aa ab ac ad ae af ag ah ai aj ak al am an ao ap aq ar as at au av aw ax ay az ba bb bc bd be bf bg bh bi bj bk bl bm bn bo bp bq br bs bt bu bv bw bx by bz ca cb cc cd ce cf cg ch ci cj ck cl cm cn co cp cq cr cs ct cu cv cw cx cy cz da db dc dd de df dg dh di dj dk dl dm dn do dp dq dr ds dt du dv dw dx dy dz ea eb ec ed ee ef eg eh ei ej ek el em en eo ep eq er es et eu ev ew ex ey ez fa fb fc fd fe ff fg fh fi fj fk fl fm fn fo fp fq fr fs ft fu fv fw fx fy fz ga gb gc gd ge gf gg gh gi gj gk gl gm gn go gp gq gr gs gt gu gv gw gx gy gz ha hb hc hd he hf hg hh hi hj hk hl hm hn ho hp hq hr hs ht hu hv hw hx hy hz ia ib ic id ie if ig ih ii ij ik il im in io ip iq ir is it iu iv iw ix iy iz ja jb jc jd je jf jg jh ji jj jk jl jm jn jo jp jq jr js jt ju jv jw jx jy jz ka kb kc kd ke kf kg kh ki kj kk kl km kn ko kp kq kr ks kt ku kv kw kx ky kz la lb lc ld le lf lg lh li lj lk ll lm ln lo lp lq lr ls lt lu lv lw lx ly lz ma mb mc md me mf mg mh mi mj mk ml mm mn mo mp mq mr ms mt mu mv mw mx my mz na nb nc nd ne nf ng nh ni nj nk nl nm nn no np nq nr ns nt nu nv nw nx ny nz oa ob oc od oe of og oh oi oj ok ol om on oo op oq or os ot ou ov ow ox oy oz pa pb pc pd pe pf pg ph pi pj pk pl pm pn po pp pq pr ps pt pu pv pw px py pz qa qb qc qd qe qf qg qh qi qj qk ql qm qn qo qp qq qr qs qt qu qv qw qx qy qz ra rb rc rd re rf rg rh ri rj rk rl rm rn ro rp rq rr rs rt ru rv rw rx ry rz sa sb sc sd se sf sg sh si sj sk sl sm sn so sp sq sr ss st su sv sw sx sy sz ta tb tc td te tf tg th ti tj tk tl tm tn to tp tq tr ts tt tu tv tw tx ty tz ua ub uc ud ue uf ug uh ui uj uk ul um un uo up uq ur us ut uu uv uw ux uy uz va vb vc vd ve vf vg vh vi vj vk vl vm vn vo vp vq vr vs vt vu vv vw vx vy vz wa wb wc wd we wf wg wh wi wj wk wl wm wn wo wp wq wr ws wt wu wv ww wx wy wz xa xb xc xd xe xf xg xh xi xj xk xl xm xn xo xp xq xr xs xt xu xv xw xx xy xz ya yb yc yd ye yf yg yh yi yj yk yl ym yn yo yp yq yr ys yt yu yv yw yx yy yz za zb zc zd ze zf zg zh zi zj zk zl zm zn zo zp zq zr zs zt zu zv zw zx zy zz\n"
     ]
    }
   ],
   "source": [
    "#Напишите функцию longest_words(file), которая выводит слово, имеющее максимальную длину (или список слов, если таковых несколько).\n",
    "def longest_words(file):\n",
    "    with open(file) as f_file:\n",
    "        words = f_file.read().split()\n",
    "        max_length = max(len(word) for word in words)\n",
    "        longest_words = [word for word in words if len(word) == max_length]\n",
    "        return longest_words\n",
    "print(*longest_words('file1.txt'))"
   ]
  },
  {
   "cell_type": "code",
   "execution_count": 9,
   "id": "1d4770d8-ee95-447b-bbea-38799afc4df5",
   "metadata": {},
   "outputs": [],
   "source": [
    "#Напишите функцию file_even_odd(file), которая будет принимать файл, считывать его построчно и запишисывать в file2n1.txt только нечетные строки, а в file2n.txt только четные\n",
    "def file_even_odd(file):\n",
    "    with open(file) as f_file:\n",
    "        lines = [line for line in f_file.readlines()]\n",
    "        with open('file2n1.txt', 'w') as file_1:\n",
    "            file_1.writelines(lines[::2])\n",
    "        with open('file2n2.txt', 'w') as file_2:\n",
    "            file_2.writelines(lines[1::2])\n",
    "file_even_odd('file1.txt')"
   ]
  },
  {
   "cell_type": "code",
   "execution_count": null,
   "id": "35698f8e-2fef-4bf6-8963-17d40d903475",
   "metadata": {},
   "outputs": [],
   "source": [
    "#Напишите функцию file_merge(file_1, file_2), которая будет принимать на вход два файла и выводить из них строки поочерди (то есть в начале 1 строка 1 файла, потом 1 строка 2 файла и тд)\n",
    "def file_merge(file_1, file_2):\n",
    "    with open(file_1) as f1:  \n",
    "        length = len(f1.readlines())\n",
    "        f1.close()\n",
    "    for i in range(1, length):\n",
    "        with open(file1) as f1:\n",
    "            f1.readlines()[i]\n",
    "        with open(file2) as f2:\n",
    "            f1.readlines()[i]\n",
    "#не получилось, не фартануло..."
   ]
  },
  {
   "cell_type": "code",
   "execution_count": 10,
   "id": "b1a00c47-a866-4f18-8d70-79b8c7e80e8b",
   "metadata": {},
   "outputs": [
    {
     "name": "stdout",
     "output_type": "stream",
     "text": [
      "a\n",
      "b\n",
      "c\n",
      "d\n",
      "e\n"
     ]
    }
   ],
   "source": [
    "#Возьмите из 1.1 массив с английским алфавитом, и выведите первые 5 элементов с помощью next()\n",
    "alphabet = 'a b c d e f g h i j k l m n o p q r s t u v w x y z'\n",
    "alphabet_list = iter(alphabet.split(' '))\n",
    "for i in range(5):\n",
    "    print(next(alphabet_list))"
   ]
  },
  {
   "cell_type": "code",
   "execution_count": 38,
   "id": "933d01f3-d550-4e95-b30e-b8f400151323",
   "metadata": {},
   "outputs": [],
   "source": [
    "#Проверить функции list(), open(), zip(), - является ли то, что они выдают итератором\n"
   ]
  },
  {
   "cell_type": "code",
   "execution_count": null,
   "id": "6c598728-1f43-4e23-99c4-d4b6782fab52",
   "metadata": {},
   "outputs": [],
   "source": [
    "#Как мы проверили в задание 4.4 функция open тоже реализует протокл итератора. Возьмите файл с двухбуквенными сочетаниями из задания 3.1 и выведите все его строки с помощью итератора\n"
   ]
  },
  {
   "cell_type": "code",
   "execution_count": 1,
   "id": "6f85d306-4ae5-499c-abba-7b038cf86542",
   "metadata": {},
   "outputs": [
    {
     "name": "stdout",
     "output_type": "stream",
     "text": [
      "True\n",
      "1 4 9 16 25\n",
      "True\n",
      "1 4 9 16 25\n"
     ]
    }
   ],
   "source": [
    "#Объяснить, чем отличается ячейка-раз от ячеек два, три, четыре и что за магия там происходит\n",
    "#ячейка-раз\n",
    "numbers = [1,2,3,4,5]\n",
    "squared_numbers = [number**2 for number in numbers]\n",
    "print(4 in squared_numbers)\n",
    "print(*squared_numbers)\n",
    "print(4 in squared_numbers)\n",
    "print(*squared_numbers)"
   ]
  },
  {
   "cell_type": "code",
   "execution_count": 2,
   "id": "e04fdd54-1485-479b-bb49-4e1ca422b0cc",
   "metadata": {},
   "outputs": [
    {
     "name": "stdout",
     "output_type": "stream",
     "text": [
      "True\n",
      "False\n"
     ]
    }
   ],
   "source": [
    "#ячейка-два\n",
    "numbers = [1,2,3,4,5]\n",
    "squared_numbers = (number**2 for number in numbers)\n",
    "print(4 in squared_numbers)\n",
    "print(4 in squared_numbers)"
   ]
  },
  {
   "cell_type": "code",
   "execution_count": 3,
   "id": "e3016ae1-1b37-41ff-acd7-8e13d8311ccf",
   "metadata": {},
   "outputs": [
    {
     "name": "stdout",
     "output_type": "stream",
     "text": [
      "1 4 9 16 25\n",
      "\n"
     ]
    }
   ],
   "source": [
    "#ячейка-три\n",
    "numbers = [1,2,3,4,5]\n",
    "squared_numbers = (number**2 for number in numbers)\n",
    "print(*squared_numbers)\n",
    "print(*squared_numbers)"
   ]
  },
  {
   "cell_type": "code",
   "execution_count": 4,
   "id": "4ec3fc20-b91c-462d-9109-97d65d0678ae",
   "metadata": {},
   "outputs": [
    {
     "name": "stdout",
     "output_type": "stream",
     "text": [
      "True\n",
      "9 16 25\n"
     ]
    }
   ],
   "source": [
    "#ячейка-четыре\n",
    "numbers = [1,2,3,4,5]\n",
    "squared_numbers = (number**2 for number in numbers)\n",
    "print(4 in squared_numbers)\n",
    "print(*squared_numbers)"
   ]
  },
  {
   "cell_type": "markdown",
   "id": "fb6ac7be-8f11-4e2a-bd3f-30cf343bbd43",
   "metadata": {},
   "source": [
    "В первой ячейке в первом принте выводится, есть ли 4 в сгенерированном списке кадратов чисел (True)\n",
    "Во втором принте сам список, в третьем и четвёртом действия повторяются, так как итерация прошла полный цикл и начинается заново, то результат повторяется\n",
    "\n",
    "Во второй ячейке в первом принте 4 в списке есть, далее итерация продолжается по списку до конца, но 4 в оставшейся части списка уже нет\n",
    "\n",
    "Дальше ХЗ"
   ]
  },
  {
   "cell_type": "code",
   "execution_count": 8,
   "id": "6b3377b2-7f75-40cc-a471-23d5c07f369e",
   "metadata": {},
   "outputs": [],
   "source": [
    "#Напишите функцию yrange(n) аналогичную по работе функции range, которая по запросу next выдает следующий элмент последовательности от 0 до n\n",
    "def yrange(n):\n",
    "    numbers = [i for i in range(n)]\n",
    "    return iter(numbers)"
   ]
  },
  {
   "cell_type": "code",
   "execution_count": 6,
   "id": "99b05f33-af32-4dce-8f18-b5ee472f7b68",
   "metadata": {},
   "outputs": [
    {
     "name": "stdout",
     "output_type": "stream",
     "text": [
      "0 1 4 9 16 25 36 49 64 81\n"
     ]
    }
   ],
   "source": [
    "#Cформировать список из квадратов целых чисел от 0 до N - обычными циклами и условиями\n",
    "square_list = []\n",
    "n = 10\n",
    "for i in range(n):\n",
    "    square_list.append(i ** 2)\n",
    "print(*square_list)"
   ]
  },
  {
   "cell_type": "code",
   "execution_count": 7,
   "id": "da2ca91a-7919-4d4a-98c7-e22e84ff2b60",
   "metadata": {},
   "outputs": [
    {
     "name": "stdout",
     "output_type": "stream",
     "text": [
      "0 1 4 9 16 25 36 49 64 81\n"
     ]
    }
   ],
   "source": [
    "#Cформировать список из квадратов целых чисел от 0 до N - с помощью list-comprehenshion\n",
    "square_list = [i ** 2 for i in range(n)]\n",
    "n = 10\n",
    "print(*square_list)"
   ]
  },
  {
   "cell_type": "code",
   "execution_count": 8,
   "id": "74938c37-8101-4998-b4c1-c924952891f3",
   "metadata": {},
   "outputs": [
    {
     "name": "stdout",
     "output_type": "stream",
     "text": [
      "1 2 3 4 5 6 7 8 9 10 11 12 13 14 15 16 17 18 19 20 21 22 23 24 25 26\n"
     ]
    }
   ],
   "source": [
    "#Cформировать список из чисел от 1 до 26 с помощью генератора массивов\n",
    "numbers = [i for i in range(1, 27)]\n",
    "print(*numbers)"
   ]
  },
  {
   "cell_type": "code",
   "execution_count": 10,
   "id": "e1f08c2c-98e9-4293-b621-62b22b054c54",
   "metadata": {},
   "outputs": [
    {
     "name": "stdout",
     "output_type": "stream",
     "text": [
      "0 4 16 36 64\n"
     ]
    }
   ],
   "source": [
    "#Cформировать список из квадратов целых чисел от 0 до N, только если эти значения являются четными - с помощью list-comprehenshion\n",
    "even_square_list = [i ** 2 for i in range(n) if i % 2 == 0]\n",
    "n = 10\n",
    "print(*even_square_list)"
   ]
  },
  {
   "cell_type": "code",
   "execution_count": 12,
   "id": "32dcfe0b-ea20-4c4e-8fdf-6bcdc5bdcad4",
   "metadata": {},
   "outputs": [
    {
     "name": "stdin",
     "output_type": "stream",
     "text": [
      " 5\n",
      " 3\n",
      " 2\n",
      " 6\n",
      " 7\n",
      " 8\n"
     ]
    },
    {
     "name": "stdout",
     "output_type": "stream",
     "text": [
      "6 7 8\n"
     ]
    }
   ],
   "source": [
    "#Программа должна считывать первую строку с целым числом X.\n",
    "#А потом должна запросить у пользователя X раз ввести целое число. На выходе напечатать список ,\n",
    "#в котором будут только числа, значение которых больше среднего арифметического всех введённых чисел. (Считывание производить с помощью list comprehension)\n",
    "x = int(input())\n",
    "input_list = [int(input()) for _ in range(x)]\n",
    "input_list_mean = sum(input_list) / len(input_list)\n",
    "final_list = [i for i in input_list if i > input_list_mean]\n",
    "print(*final_list)"
   ]
  },
  {
   "cell_type": "code",
   "execution_count": 22,
   "id": "debaeaac-08b6-474e-9829-9b045ab185c8",
   "metadata": {},
   "outputs": [
    {
     "name": "stdin",
     "output_type": "stream",
     "text": [
      " 2\n",
      " 3\n"
     ]
    },
    {
     "name": "stdout",
     "output_type": "stream",
     "text": [
      "0 0 0 \n",
      "0 0 0 \n"
     ]
    }
   ],
   "source": [
    "#На вход подаются два числа через пробел, обозначающие размеры матрицы (m - количество строк, n - количество столбцов).\n",
    "#Создать матрицу m на n, заполненую нулями. Сделать красивый вывод матрицы.\n",
    "m = int(input())\n",
    "n = int(input())\n",
    "matrix = [[0]*n for _ in range(m)]\n",
    "for r in range(m):\n",
    "    for c in range(n):\n",
    "        print(matrix[r][c], end=' ')\n",
    "    print()"
   ]
  },
  {
   "cell_type": "code",
   "execution_count": 1,
   "id": "9717efc3-4154-4843-bd5b-0f8fe05dbf7b",
   "metadata": {},
   "outputs": [
    {
     "name": "stdin",
     "output_type": "stream",
     "text": [
      " 3 4\n"
     ]
    },
    {
     "name": "stdout",
     "output_type": "stream",
     "text": [
      "(0,0)  (0,1)  (0,2)  (0,3)  \n",
      "(1,0)  (1,1)  (1,2)  (1,3)  \n",
      "(2,0)  (2,1)  (2,2)  (2,3)  \n"
     ]
    }
   ],
   "source": [
    "#На вход подаются два числа через пробел, обозначающие размеры матрицы (m - количество строк, n - количество столбцов). Создать матрицу m на n, заполненую координатами элементов матрицы. (те для первого элемента это будет (0,0) , для второго (0,1) и так далее)\n",
    "#Сделать красивый вывод матрицы.\n",
    "m, n = input().split()\n",
    "m = int(m)\n",
    "n = int(n)\n",
    "matrix = [[0, 0] * n for i in range(m)]\n",
    "for i in range(m):\n",
    "    for j in range(n):\n",
    "        matrix[i][j] = [i, j]\n",
    "        print('(', matrix[i][j][0], ',', matrix[i][j][1], ')', sep='', end='  ')\n",
    "    print()"
   ]
  },
  {
   "cell_type": "code",
   "execution_count": 54,
   "id": "504c99c5-058e-4557-a95f-d4a4dd2d30cf",
   "metadata": {},
   "outputs": [
    {
     "name": "stdout",
     "output_type": "stream",
     "text": [
      "Hello World Python OpenAI Artificial Intelligence Machine Learning Data Science Computer Programming\n",
      "42 3.14 2.71 100 -3.0 -123 0.007 987654 3.14159 -987 0.123 123456 2.71828\n",
      "True [1, 2, 3] {'key': 'value'} None False [4, 5, 6] {'foo': 'bar'} {'a': 1, 'b': 2} True [7, 8, 9] {'x': 10, 'y': 20} False [10, 20, 30] [11, 22, 33] {'alpha': 0, 'beta': 1} True [55, 66, 77]\n"
     ]
    }
   ],
   "source": [
    "#Используя list comprehension, выберите из списка строки и добавьте их в первый массив; int, float во второй; в переменной my_list оставьте элементы, которые не вошли в первые два.\n",
    "my_list = [42, \"Hello\", 3.14, True, [1, 2, 3], {\"key\": \"value\"}, None, \"World\", 2.71, False, [4, 5, 6], {\"foo\": \"bar\"}, \"Python\", 100, -3.0, \"OpenAI\", {\"a\": 1, \"b\": 2}, True, [7, 8, 9], \"Artificial\", -123, 0.007, \"Intelligence\", {\"x\": 10, \"y\": 20}, False, [10, 20, 30], \"Machine\", 987654, 3.14159, \"Learning\", [11, 22, 33], \"Data\", -987, 0.123, \"Science\", {\"alpha\": 0, \"beta\": 1}, True, [55, 66, 77], \"Computer\", 123456, 2.71828, \"Programming\"]\n",
    "str_list = [i for i in my_list if type(i) == str]\n",
    "int_float_list = [i for i in my_list if type(i) == int or type(i) == float]\n",
    "my_list = [i for i in my_list if i not in str_list and i not in int_float_list]\n",
    "print(*str_list)\n",
    "print(*int_float_list)\n",
    "print(*my_list)"
   ]
  },
  {
   "cell_type": "code",
   "execution_count": 55,
   "id": "96056702-252d-4d16-a75f-ddcf7f9a24e4",
   "metadata": {},
   "outputs": [
    {
     "name": "stdout",
     "output_type": "stream",
     "text": [
      "\"{0}\" \"{1}\" \"{4}\" \"{9}\" \"{16}\" \"{25}\" \"{36}\" \"{49}\" \"{64}\" \"{81}\" \"{100}\" \"{121}\" \"{144}\" \"{169}\" \"{196}\" \"{225}\" \"{256}\" \"{289}\" \"{324}\" \"{361}\" \"{400}\"\n"
     ]
    }
   ],
   "source": [
    "#Напишите в одну строку( один print) вывод списка из квадратов целых чисел от 0 до 20, каждое число должно быть в фигурных скобках, между числами должна быть двойная кавычка\n",
    "print('\"' + '\" \"'.join(f\"{{{i ** 2}}}\" for i in range(21)) + '\"')"
   ]
  },
  {
   "cell_type": "code",
   "execution_count": null,
   "id": "5c296ab4-5630-4039-b65c-a6cd48c921e0",
   "metadata": {},
   "outputs": [],
   "source": []
  },
  {
   "cell_type": "code",
   "execution_count": null,
   "id": "32fe057f-385a-45f5-887d-b16605de73f4",
   "metadata": {},
   "outputs": [],
   "source": []
  },
  {
   "cell_type": "code",
   "execution_count": null,
   "id": "1229aa16-7f9a-4453-bb43-068ee9801262",
   "metadata": {},
   "outputs": [],
   "source": []
  },
  {
   "cell_type": "code",
   "execution_count": null,
   "id": "bc025c78-04ba-4a66-8c19-de7f2c36ae9e",
   "metadata": {},
   "outputs": [],
   "source": []
  }
 ],
 "metadata": {
  "kernelspec": {
   "display_name": "Python 3 (ipykernel)",
   "language": "python",
   "name": "python3"
  },
  "language_info": {
   "codemirror_mode": {
    "name": "ipython",
    "version": 3
   },
   "file_extension": ".py",
   "mimetype": "text/x-python",
   "name": "python",
   "nbconvert_exporter": "python",
   "pygments_lexer": "ipython3",
   "version": "3.10.10"
  }
 },
 "nbformat": 4,
 "nbformat_minor": 5
}
