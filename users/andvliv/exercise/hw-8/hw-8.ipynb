{
 "cells": [
  {
   "cell_type": "markdown",
   "id": "c2c714c1-d53c-4e0f-86c5-c9887d7eca49",
   "metadata": {},
   "source": [
    "Тесты для функции triangle_type():\r\n",
    "Написать достаточное количество позитивных тестов;\r\n",
    "Написать два-три негативных теста;\r\n",
    "Вызвать все тесты (вручную), убедиться в их работоспособности."
   ]
  },
  {
   "cell_type": "code",
   "execution_count": 1,
   "id": "1c660569-6040-46d7-84f3-79ba4c3f01be",
   "metadata": {},
   "outputs": [
    {
     "data": {
      "text/plain": [
       "'не треугольник'"
      ]
     },
     "execution_count": 1,
     "metadata": {},
     "output_type": "execute_result"
    }
   ],
   "source": [
    "def triangle_type(a: float, b: float, c: float) -> str:\n",
    "    \"\"\"\n",
    "    Функция, определяющая тип треугольника по длинам его сторон\n",
    "    \"\"\"\n",
    "    result = \"не треугольник\"\n",
    "    triangle_exist = (a < (b + c)) and (b < (a + c)) and (c < (a + b))\n",
    "    if triangle_exist:\n",
    "        sides = [a, b, c]\n",
    "        sides.sort()\n",
    "        acuteTriangle = (sides[0]**2 + sides[1]**2) > sides[2]**2\n",
    "        obtuseTriangle = (sides[0]**2 + sides[1]**2) < sides[2]**2\n",
    "        rightTriangle = abs((sides[0]**2 + sides[1]**2) - sides[2]**2) <= 0.01\n",
    "\n",
    "        if acuteTriangle:\n",
    "            result = \"остроугольный\"\n",
    "        elif obtuseTriangle:\n",
    "            result = \"тупоугольный\"\n",
    "        elif rightTriangle:\n",
    "            result  = \"прямоугольный\"\n",
    "    return result\n",
    "triangle_type(10, 4, 5)"
   ]
  },
  {
   "cell_type": "markdown",
   "id": "a537eb7e-0eeb-426e-afd0-1f7ab91f3555",
   "metadata": {},
   "source": [
    "Теперь задание hw8:\r\n",
    "\r\n",
    "Тесты для функции triangle_type():\r\n",
    "Написать достаточное количество позитивных тестов;\r\n",
    "Написать два-три негативных теста;\r\n",
    "Вызвать все тесты (вручную), убедиться в их работоспособности."
   ]
  },
  {
   "cell_type": "code",
   "execution_count": 2,
   "id": "e757ad67-ec5f-44bc-926d-123c3a4284b0",
   "metadata": {},
   "outputs": [],
   "source": [
    "def test_acute_1(): #Тест из текста ДЗ\n",
    "    input = [12,12,5] # такие стороны у остроугольного треугольника \n",
    "    expected =  \"остроугольный\"\n",
    "    assert expected == triangle_type(*input)\n",
    "test_acute_1()"
   ]
  },
  {
   "cell_type": "code",
   "execution_count": 3,
   "id": "c14501cb-c099-4a96-8846-4d5d267b5f15",
   "metadata": {},
   "outputs": [],
   "source": [
    "def test_obtuse_1(): #Берём ELIF-ы из функции\n",
    "    input = [9, 5, 5] # такие стороны у остроугольного треугольника \n",
    "    expected =  \"тупоугольный\"\n",
    "    assert expected == triangle_type(*input)\n",
    "test_obtuse_1()"
   ]
  },
  {
   "cell_type": "code",
   "execution_count": 4,
   "id": "02ba39f4-0d0c-4592-b9ab-a2050f80027a",
   "metadata": {},
   "outputs": [],
   "source": [
    "def test_right_1(): #Берём ELIF-ы из функции\n",
    "    input = [3, 4, 5] # такие стороны у остроугольного треугольника \n",
    "    expected =  \"прямоугольный\"\n",
    "    assert expected == triangle_type(*input)\n",
    "test_right_1()"
   ]
  },
  {
   "cell_type": "code",
   "execution_count": 5,
   "id": "8f2a777e-06a4-4952-a818-2693bf3895eb",
   "metadata": {},
   "outputs": [],
   "source": [
    "#тест на то, трегольник ли вообще\n",
    "def test_is_triangle_1():\n",
    "    input = [10, 4, 5] # такие стороны у остроугольного треугольника \n",
    "    expected =  \"не треугольник\"\n",
    "    assert expected == triangle_type(*input)\n",
    "test_is_triangle_1()"
   ]
  },
  {
   "cell_type": "code",
   "execution_count": 6,
   "id": "85b7480a-6a28-490a-8dac-ac265bb39c89",
   "metadata": {},
   "outputs": [],
   "source": [
    "#тест на то, трегольник ли вообще\n",
    "def test_is_triangle_2():\n",
    "    input = [0, 0, 0] # введём нулевые значения \n",
    "    expected =  \"не треугольник\"\n",
    "    assert expected == triangle_type(*input)\n",
    "test_is_triangle_2()"
   ]
  },
  {
   "cell_type": "code",
   "execution_count": 7,
   "id": "69f18239-e335-4a52-ad99-14109d03d6d2",
   "metadata": {},
   "outputs": [],
   "source": [
    "#тест на то, трегольник ли вообще с отрицательными значениями\n",
    "def test_is_triangle_3():\n",
    "    input = [-4, 5, 5] # введём отрицательное значение\n",
    "    expected =  \"не треугольник\"\n",
    "    assert expected == triangle_type(*input)\n",
    "test_is_triangle_3()"
   ]
  },
  {
   "cell_type": "code",
   "execution_count": 8,
   "id": "c3f320fb-81cf-4f9b-bc15-8e156eeb7c0d",
   "metadata": {},
   "outputs": [],
   "source": [
    "def test_acute_2(): #поменяем вводные данные\n",
    "    input = [20,20,8] # такие стороны у остроугольного треугольника \n",
    "    expected =  \"остроугольный\"\n",
    "    assert expected == triangle_type(*input)\n",
    "test_acute_2()"
   ]
  },
  {
   "cell_type": "code",
   "execution_count": 9,
   "id": "40ce219a-2699-4644-a923-9eabb751c3af",
   "metadata": {},
   "outputs": [],
   "source": [
    "def test_obtuse_2(): #меняем вводные данные\n",
    "    input = [7, 4, 4] # такие стороны у остроугольного треугольника \n",
    "    expected =  \"тупоугольный\"\n",
    "    assert expected == triangle_type(*input)\n",
    "test_obtuse_2()"
   ]
  },
  {
   "cell_type": "code",
   "execution_count": 10,
   "id": "ec118faa-0a8c-4f53-a455-0fd59e8abc40",
   "metadata": {},
   "outputs": [],
   "source": [
    "def test_right_2(): #меняем вводные данные\n",
    "    input = [6, 8, 10] # такие стороны у остроугольного треугольника \n",
    "    expected =  \"прямоугольный\"\n",
    "    assert expected == triangle_type(*input)\n",
    "test_right_2()"
   ]
  },
  {
   "cell_type": "markdown",
   "id": "87d25462-cde4-40fe-94b3-1570bb0480f2",
   "metadata": {},
   "source": [
    "Негативные тесты"
   ]
  },
  {
   "cell_type": "code",
   "execution_count": 18,
   "id": "e76cf217-7176-47c9-a500-8218b623ab98",
   "metadata": {},
   "outputs": [
    {
     "ename": "AssertionError",
     "evalue": "",
     "output_type": "error",
     "traceback": [
      "\u001b[0;31m---------------------------------------------------------------------------\u001b[0m",
      "\u001b[0;31mAssertionError\u001b[0m                            Traceback (most recent call last)",
      "Cell \u001b[0;32mIn[18], line 6\u001b[0m\n\u001b[1;32m      4\u001b[0m     expected \u001b[38;5;241m=\u001b[39m  \u001b[38;5;124m\"\u001b[39m\u001b[38;5;124mне треугольник\u001b[39m\u001b[38;5;124m\"\u001b[39m\n\u001b[1;32m      5\u001b[0m     \u001b[38;5;28;01massert\u001b[39;00m expected \u001b[38;5;241m==\u001b[39m triangle_type(\u001b[38;5;241m*\u001b[39m\u001b[38;5;28minput\u001b[39m)\n\u001b[0;32m----> 6\u001b[0m \u001b[43mtest_is_triangle_4\u001b[49m\u001b[43m(\u001b[49m\u001b[43m)\u001b[49m\n",
      "Cell \u001b[0;32mIn[18], line 5\u001b[0m, in \u001b[0;36mtest_is_triangle_4\u001b[0;34m()\u001b[0m\n\u001b[1;32m      3\u001b[0m \u001b[38;5;28minput\u001b[39m \u001b[38;5;241m=\u001b[39m [\u001b[38;5;241m1\u001b[39m, \u001b[38;5;241m1\u001b[39m, \u001b[38;5;124m'\u001b[39m\u001b[38;5;124m1\u001b[39m\u001b[38;5;124m'\u001b[39m] \u001b[38;5;66;03m#вводим строковые данны\u001b[39;00m\n\u001b[1;32m      4\u001b[0m expected \u001b[38;5;241m=\u001b[39m  \u001b[38;5;124m\"\u001b[39m\u001b[38;5;124mне треугольник\u001b[39m\u001b[38;5;124m\"\u001b[39m\n\u001b[0;32m----> 5\u001b[0m \u001b[38;5;28;01massert\u001b[39;00m expected \u001b[38;5;241m==\u001b[39m triangle_type(\u001b[38;5;241m*\u001b[39m\u001b[38;5;28minput\u001b[39m)\n",
      "\u001b[0;31mAssertionError\u001b[0m: "
     ]
    }
   ],
   "source": [
    "#Тестируем правильность ввода строковых данных\n",
    "def test_is_triangle_4():\n",
    "    input = [1, 1, '1'] #вводим строковые данны\n",
    "    expected =  \"не треугольник\"\n",
    "    assert expected == triangle_type(*input)\n",
    "test_is_triangle_4()"
   ]
  },
  {
   "cell_type": "code",
   "execution_count": 12,
   "id": "e632cb0e-aca8-4673-9895-874e116c561e",
   "metadata": {},
   "outputs": [
    {
     "ename": "TypeError",
     "evalue": "triangle_type() takes 3 positional arguments but 4 were given",
     "output_type": "error",
     "traceback": [
      "\u001b[0;31m---------------------------------------------------------------------------\u001b[0m",
      "\u001b[0;31mTypeError\u001b[0m                                 Traceback (most recent call last)",
      "Cell \u001b[0;32mIn[12], line 6\u001b[0m\n\u001b[1;32m      4\u001b[0m     expected \u001b[38;5;241m=\u001b[39m  \u001b[38;5;124m\"\u001b[39m\u001b[38;5;124mне треугольник\u001b[39m\u001b[38;5;124m\"\u001b[39m\n\u001b[1;32m      5\u001b[0m     \u001b[38;5;28;01massert\u001b[39;00m expected \u001b[38;5;241m==\u001b[39m triangle_type(\u001b[38;5;241m*\u001b[39m\u001b[38;5;28minput\u001b[39m)\n\u001b[0;32m----> 6\u001b[0m \u001b[43mtest_is_triangle_5\u001b[49m\u001b[43m(\u001b[49m\u001b[43m)\u001b[49m\n",
      "Cell \u001b[0;32mIn[12], line 5\u001b[0m, in \u001b[0;36mtest_is_triangle_5\u001b[0;34m()\u001b[0m\n\u001b[1;32m      3\u001b[0m \u001b[38;5;28minput\u001b[39m \u001b[38;5;241m=\u001b[39m [\u001b[38;5;241m2\u001b[39m, \u001b[38;5;241m3\u001b[39m, \u001b[38;5;241m4\u001b[39m, \u001b[38;5;241m5\u001b[39m] \u001b[38;5;66;03m#вводим строковые данны\u001b[39;00m\n\u001b[1;32m      4\u001b[0m expected \u001b[38;5;241m=\u001b[39m  \u001b[38;5;124m\"\u001b[39m\u001b[38;5;124mне треугольник\u001b[39m\u001b[38;5;124m\"\u001b[39m\n\u001b[0;32m----> 5\u001b[0m \u001b[38;5;28;01massert\u001b[39;00m expected \u001b[38;5;241m==\u001b[39m \u001b[43mtriangle_type\u001b[49m\u001b[43m(\u001b[49m\u001b[38;5;241;43m*\u001b[39;49m\u001b[38;5;28;43minput\u001b[39;49m\u001b[43m)\u001b[49m\n",
      "\u001b[0;31mTypeError\u001b[0m: triangle_type() takes 3 positional arguments but 4 were given"
     ]
    }
   ],
   "source": [
    "#Тестируем правильность ввода большего числа элементов в списке\n",
    "def test_is_triangle_5():\n",
    "    input = [2, 3, 4, 5] #вводим строковые данны\n",
    "    expected =  \"не треугольник\"\n",
    "    assert expected == triangle_type(*input)\n",
    "test_is_triangle_5()"
   ]
  },
  {
   "cell_type": "markdown",
   "id": "1a1e9843-025e-4b08-adeb-4be3a95e7680",
   "metadata": {},
   "source": [
    "Нужно написать функцию, выполняющую роль \"системы тестирования\". Данная функция должна:\r\n",
    "Вызвать все созданные вами на предыдущем этапе функции-тесты;\r\n",
    "В случае, если какой-то тест не выполнен, выдать соответствующее сообщение, и продолжить вызов оставшихся тестов;\r\n",
    "В случае, если какой-то тест выполнен, выдать соответствующее сообщение;\r\n",
    "* Выдать статистику выполненных/не выполненных тестов (например, \"выполнено столько-то тестов, не выполнено столько-то\")."
   ]
  },
  {
   "cell_type": "code",
   "execution_count": 13,
   "id": "92072510-73f5-4bd6-90f2-96a939236a81",
   "metadata": {},
   "outputs": [
    {
     "name": "stdout",
     "output_type": "stream",
     "text": [
      "test_acute_1 пройден успешно\n",
      "test_acute_2 пройден успешно\n",
      "test_obtuse_1 пройден успешно\n",
      "test_obtuse_2 пройден успешно\n",
      "test_right_1 пройден успешно\n",
      "test_right_2 пройден успешно\n",
      "test_is_triangle_1 пройден успешно\n",
      "test_is_triangle_2 пройден успешно\n",
      "test_is_triangle_3 пройден успешно\n",
      "test_is_triangle_4 не пройден\n",
      "test_is_triangle_5 не пройден\n",
      "Выполнено тестов 9\n",
      "Не выполнено тестов 2\n"
     ]
    }
   ],
   "source": [
    "def test_system(triangle_tests):\n",
    "    positive_counter = 0\n",
    "    negative_counter = 0 \n",
    "    for tests in triangle_tests:\n",
    "        try:\n",
    "            tests()\n",
    "            print(tests.__name__, 'пройден успешно')\n",
    "            positive_counter += 1\n",
    "        except:\n",
    "            print(tests.__name__, 'не пройден')\n",
    "            negative_counter += 1\n",
    "    print('Выполнено тестов', positive_counter)\n",
    "    print('Не выполнено тестов', negative_counter)\n",
    "triangle_tests = [test_acute_1, test_acute_2, test_obtuse_1, test_obtuse_2, test_right_1, test_right_2, test_is_triangle_1, test_is_triangle_2, test_is_triangle_3, test_is_triangle_4, test_is_triangle_5]\n",
    "test_system(triangle_tests)"
   ]
  },
  {
   "cell_type": "code",
   "execution_count": null,
   "id": "42d47a06-cbff-41a9-97c1-fde2b90661df",
   "metadata": {},
   "outputs": [],
   "source": []
  },
  {
   "cell_type": "code",
   "execution_count": 14,
   "id": "fdd358e3-43f4-4f01-90fb-37aca25433e0",
   "metadata": {},
   "outputs": [
    {
     "data": {
      "text/plain": [
       "'остроугольный'"
      ]
     },
     "execution_count": 14,
     "metadata": {},
     "output_type": "execute_result"
    }
   ],
   "source": [
    "#Сломанная функция - убираем сортировку сторон\n",
    "def triangle_type(a: float, b: float, c: float) -> str:\n",
    "    \"\"\"\n",
    "    Функция, определяющая тип треугольника по длинам его сторон\n",
    "    \"\"\"\n",
    "    result = \"не треугольник\"\n",
    "    triangle_exist = (a < (b + c)) and (b < (a + c)) and (c < (a + b))\n",
    "    if triangle_exist:\n",
    "        sides = [a, b, c]\n",
    "        acuteTriangle = (sides[0]**2 + sides[1]**2) > sides[2]**2\n",
    "        obtuseTriangle = (sides[0]**2 + sides[1]**2) < sides[2]**2\n",
    "        rightTriangle = abs((sides[0]**2 + sides[1]**2) - sides[2]**2) <= 0.01\n",
    "\n",
    "        if acuteTriangle:\n",
    "            result = \"остроугольный\"\n",
    "        elif obtuseTriangle:\n",
    "            result = \"тупоугольный\"\n",
    "        elif rightTriangle:\n",
    "            result  = \"прямоугольный\"\n",
    "    return result\n",
    "triangle_type(5, 4, 3)\n",
    "#Теперь функция выдаёт неправильный результат"
   ]
  },
  {
   "cell_type": "code",
   "execution_count": 15,
   "id": "e9002a21-a7a7-4af6-9489-865aa0e195d4",
   "metadata": {},
   "outputs": [
    {
     "name": "stdout",
     "output_type": "stream",
     "text": [
      "test_acute_1 пройден успешно\n",
      "test_acute_2 пройден успешно\n",
      "test_obtuse_1 не пройден\n",
      "test_obtuse_2 не пройден\n",
      "test_right_1 пройден успешно\n",
      "test_right_2 пройден успешно\n",
      "test_is_triangle_1 пройден успешно\n",
      "test_is_triangle_2 пройден успешно\n",
      "test_is_triangle_3 пройден успешно\n",
      "test_is_triangle_4 не пройден\n",
      "test_is_triangle_5 не пройден\n",
      "Выполнено тестов 7\n",
      "Не выполнено тестов 4\n"
     ]
    }
   ],
   "source": [
    "#Тестируем сломанную функцию\n",
    "def test_system(triangle_tests):\n",
    "    positive_counter = 0\n",
    "    negative_counter = 0 \n",
    "    for tests in triangle_tests:\n",
    "        try:\n",
    "            tests()\n",
    "            print(tests.__name__, 'пройден успешно')\n",
    "            positive_counter += 1\n",
    "        except:\n",
    "            print(tests.__name__, 'не пройден')\n",
    "            negative_counter += 1\n",
    "    print('Выполнено тестов', positive_counter)\n",
    "    print('Не выполнено тестов', negative_counter)\n",
    "triangle_tests = [test_acute_1, test_acute_2, test_obtuse_1, test_obtuse_2, test_right_1, test_right_2, test_is_triangle_1, test_is_triangle_2, test_is_triangle_3, test_is_triangle_4, test_is_triangle_5]\n",
    "test_system(triangle_tests)"
   ]
  },
  {
   "cell_type": "code",
   "execution_count": 23,
   "id": "ca5490ad-f462-44c8-a7d8-608eee3b1517",
   "metadata": {},
   "outputs": [
    {
     "data": {
      "text/plain": [
       "'неправильный ввод данных'"
      ]
     },
     "execution_count": 23,
     "metadata": {},
     "output_type": "execute_result"
    }
   ],
   "source": [
    "#попытка улучшения функции для прохождения тестов\n",
    "#Попробуем добавить проверку ввода типа аргументов\n",
    "def triangle_type(a: float, b: float, c: float) -> str:\n",
    "    \"\"\"\n",
    "    Функция, определяющая тип треугольника по длинам его сторон\n",
    "    \"\"\"\n",
    "    result = 'неправильный ввод данных'\n",
    "    correct_input = (type(a) == float or type(a) == int) and (type(b) == float or type(b) == int) and (type(c) == float or type(c) == int)\n",
    "    if correct_input:\n",
    "        result = \"не треугольник\"\n",
    "        triangle_exist = (a < (b + c)) and (b < (a + c)) and (c < (a + b))\n",
    "        if triangle_exist:\n",
    "            sides = [a, b, c]\n",
    "            sides.sort()\n",
    "            acuteTriangle = (sides[0]**2 + sides[1]**2) > sides[2]**2\n",
    "            obtuseTriangle = (sides[0]**2 + sides[1]**2) < sides[2]**2\n",
    "            rightTriangle = abs((sides[0]**2 + sides[1]**2) - sides[2]**2) <= 0.01\n",
    "\n",
    "            if acuteTriangle:\n",
    "                result = \"остроугольный\"\n",
    "            elif obtuseTriangle:\n",
    "                result = \"тупоугольный\"\n",
    "            elif rightTriangle:\n",
    "                result  = \"прямоугольный\"\n",
    "    return result\n",
    "triangle_type(3, 4, '10')"
   ]
  },
  {
   "cell_type": "code",
   "execution_count": 24,
   "id": "19634aca-43c7-425e-b613-59f6c7768239",
   "metadata": {},
   "outputs": [
    {
     "name": "stdout",
     "output_type": "stream",
     "text": [
      "test_acute_1 пройден успешно\n",
      "test_acute_2 пройден успешно\n",
      "test_obtuse_1 пройден успешно\n",
      "test_obtuse_2 пройден успешно\n",
      "test_right_1 пройден успешно\n",
      "test_right_2 пройден успешно\n",
      "test_is_triangle_1 пройден успешно\n",
      "test_is_triangle_2 пройден успешно\n",
      "test_is_triangle_3 пройден успешно\n",
      "test_is_triangle_4 не пройден\n",
      "test_is_triangle_5 не пройден\n",
      "Выполнено тестов 9\n",
      "Не выполнено тестов 2\n"
     ]
    }
   ],
   "source": [
    "#Тестируем улучшенную функцию\n",
    "def test_system(triangle_tests):\n",
    "    positive_counter = 0\n",
    "    negative_counter = 0 \n",
    "    for tests in triangle_tests:\n",
    "        try:\n",
    "            tests()\n",
    "            print(tests.__name__, 'пройден успешно')\n",
    "            positive_counter += 1\n",
    "        except:\n",
    "            print(tests.__name__, 'не пройден')\n",
    "            negative_counter += 1\n",
    "    print('Выполнено тестов', positive_counter)\n",
    "    print('Не выполнено тестов', negative_counter)\n",
    "triangle_tests = [test_acute_1, test_acute_2, test_obtuse_1, test_obtuse_2, test_right_1, test_right_2, test_is_triangle_1, test_is_triangle_2, test_is_triangle_3, test_is_triangle_4, test_is_triangle_5]\n",
    "test_system(triangle_tests)"
   ]
  },
  {
   "cell_type": "code",
   "execution_count": null,
   "id": "f9825a43-cdc2-4714-ba82-04d52e72068f",
   "metadata": {},
   "outputs": [],
   "source": []
  }
 ],
 "metadata": {
  "kernelspec": {
   "display_name": "Python 3 (ipykernel)",
   "language": "python",
   "name": "python3"
  },
  "language_info": {
   "codemirror_mode": {
    "name": "ipython",
    "version": 3
   },
   "file_extension": ".py",
   "mimetype": "text/x-python",
   "name": "python",
   "nbconvert_exporter": "python",
   "pygments_lexer": "ipython3",
   "version": "3.10.10"
  }
 },
 "nbformat": 4,
 "nbformat_minor": 5
}
