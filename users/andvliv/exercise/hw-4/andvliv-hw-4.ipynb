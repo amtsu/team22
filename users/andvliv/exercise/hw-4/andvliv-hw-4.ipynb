{
 "cells": [
  {
   "cell_type": "code",
   "execution_count": 1,
   "id": "4156e3fe-3f6c-4037-9d78-97298c5b4907",
   "metadata": {},
   "outputs": [
    {
     "name": "stdout",
     "output_type": "stream",
     "text": [
      "[1, 2, 3, 4, 5, 6, 9]\n",
      "[1, 2, 3, 4, 5, 6, 9, 789]\n"
     ]
    }
   ],
   "source": [
    "#Задание 1. выполните следующий код \n",
    "list_one = [1, 2, 3, 4, 5, 6, 9]\n",
    "list_two = [1, 2, 3, 4, 5, 6, 9]\n",
    "list_two.append(789)\n",
    "print(list_one, list_two, sep='\\n')"
   ]
  },
  {
   "cell_type": "code",
   "execution_count": 2,
   "id": "3038ed3b-8fcb-40d5-876d-03f01c4777a4",
   "metadata": {},
   "outputs": [
    {
     "name": "stdout",
     "output_type": "stream",
     "text": [
      "[1, 2, 3, 4, 5, 6, 9, 789]\n",
      "[1, 2, 3, 4, 5, 6, 9, 789]\n"
     ]
    }
   ],
   "source": [
    "#затем выполните код \n",
    "list_one = [1, 2, 3, 4, 5, 6, 9]\n",
    "list_two = list_one\n",
    "list_two.append(789)\n",
    "print(list_one, list_two, sep='\\n')"
   ]
  },
  {
   "cell_type": "code",
   "execution_count": 3,
   "id": "260902a1-b970-49ad-8b66-8ce26d965243",
   "metadata": {},
   "outputs": [
    {
     "name": "stdout",
     "output_type": "stream",
     "text": [
      "В первом случае элемент \"789\" добавляется только во второй список, во втором случае то же самое, но первый список приравнивается ко второму, поэтому изменяются оба списка\n"
     ]
    }
   ],
   "source": [
    "#запишите объяснения разницы в выполнении кода в переменную difference_explanation и выведите ее на экран\n",
    "difference_explanation = 'В первом случае элемент \"789\" добавляется только во второй список, во втором случае то же самое, но первый список приравнивается ко второму, поэтому изменяются оба списка'\n",
    "print(difference_explanation)"
   ]
  },
  {
   "cell_type": "code",
   "execution_count": 76,
   "id": "4b4f428a-d7a2-4001-bbba-cc2f719659d0",
   "metadata": {},
   "outputs": [],
   "source": [
    "#Задача на строку\n",
    "a_poem = 'За стеклом лежал Питон, Большой и толстый, как батон. Вверх пополз, Затем вернулся, Круглым бубликом свернулся.'"
   ]
  },
  {
   "cell_type": "code",
   "execution_count": 78,
   "id": "beab9d8e-5517-469f-99cf-07dca705d5b6",
   "metadata": {},
   "outputs": [
    {
     "name": "stdout",
     "output_type": "stream",
     "text": [
      "['З', 'а', ' ', 'с', 'т', 'е', 'к', 'л', 'о', 'м', ' ', 'л', 'е', 'ж', 'а', 'л', ' ', 'П', 'и', 'т', 'о', 'н', ',', ' ', 'Б', 'о', 'л', 'ь', 'ш', 'о', 'й', ' ', 'и', ' ', 'т', 'о', 'л', 'с', 'т', 'ы', 'й', ',', ' ', 'к', 'а', 'к', ' ', 'б', 'а', 'т', 'о', 'н', '.', ' ', 'В', 'в', 'е', 'р', 'х', ' ', 'п', 'о', 'п', 'о', 'л', 'з', ',', ' ', 'З', 'а', 'т', 'е', 'м', ' ', 'в', 'е', 'р', 'н', 'у', 'л', 'с', 'я', ',', ' ', 'К', 'р', 'у', 'г', 'л', 'ы', 'м', ' ', 'б', 'у', 'б', 'л', 'и', 'к', 'о', 'м', ' ', 'с', 'в', 'е', 'р', 'н', 'у', 'л', 'с', 'я', '.']\n",
      "111\n",
      "['За', 'стеклом', 'лежал', 'Питон,', 'Большой', 'и', 'толстый,', 'как', 'батон.', 'Вверх', 'пополз,', 'Затем', 'вернулся,', 'Круглым', 'бубликом', 'свернулся.']\n",
      "16\n",
      "['За стеклом лежал Питон, ', ' Большой и толстый, как батон. ', ' Вверх пополз, ', ' Затем вернулся, ', ' Круглым бубликом свернулся.']\n",
      "5\n"
     ]
    }
   ],
   "source": [
    "s = a_poem\n",
    "a_list = list(a_poem)\n",
    "another_list = a_poem.split()\n",
    "print(a_list)\n",
    "print(len(a_list))\n",
    "print(another_list)\n",
    "print(len(another_list))\n",
    "a_poem = 'За стеклом лежал Питон, \\n Большой и толстый, как батон. \\n Вверх пополз, \\n Затем вернулся, \\n Круглым бубликом свернулся.'\n",
    "one_more_list = a_poem.split('\\n')\n",
    "print(one_more_list)\n",
    "print(len(one_more_list))"
   ]
  },
  {
   "cell_type": "code",
   "execution_count": 24,
   "id": "506da4b3-d90c-49e9-8469-80a673673856",
   "metadata": {},
   "outputs": [
    {
     "name": "stdout",
     "output_type": "stream",
     "text": [
      "[12, 1.5, 'Triangular', True, (1, '5', 'abc'), {1, 2, 3}, ['tam', 'zdes']]\n",
      "7\n",
      "(1, '5', 'abc')\n",
      "<class 'list'>\n"
     ]
    }
   ],
   "source": [
    "#Задание 3.\n",
    "solyanka_list = [12, 1.5, 'Triangular', True, (1, '5', 'abc'), {1, 2, 3}, ['tam', 'zdes']]\n",
    "print(solyanka_list)\n",
    "print(len(solyanka_list))\n",
    "print(solyanka_list[4])\n",
    "solyanka_list.append([5])\n",
    "print(type(solyanka_list[-1]))"
   ]
  },
  {
   "cell_type": "code",
   "execution_count": 31,
   "id": "aac95bfc-2ff6-4b07-855d-aae3eb7d2ea2",
   "metadata": {},
   "outputs": [
    {
     "name": "stdout",
     "output_type": "stream",
     "text": [
      "23\n",
      "число вхождений 1 = 2\n",
      "21:  yes\n",
      "33:  no\n",
      "987:  yes\n",
      "9999:  no\n"
     ]
    }
   ],
   "source": [
    "#Задание 4\n",
    "fibonacci_list = [0, 1, 1, 2, 3, 5, 8, 13, 21, 34, 55, 89, 144, 233, 377, 610, 987, 1597, 2584, 4181, 6765, 10946, 17711]\n",
    "print(len(fibonacci_list))\n",
    "counter = 0\n",
    "for i in range(len(fibonacci_list)):\n",
    "    if fibonacci_list[i] == 1:\n",
    "        counter += 1\n",
    "print('число вхождений 1 =', counter) #вывод счётчика вхождений числа 1 в лист чисел Фибоначчи\n",
    "#Проверьте и выведите на экран результат, является ли число 21 числом Фибоначчи. Число 33? Число 987? число 9999? использование оператора if возможно, но не является необходимым\n",
    "if 21 in fibonacci_list:\n",
    "    print('21: ', 'yes')\n",
    "else:\n",
    "    print('21: ', 'no')\n",
    "if 33 in fibonacci_list:\n",
    "    print('33: ', 'yes')\n",
    "else:\n",
    "    print('33: ', 'no')\n",
    "if 987 in fibonacci_list:\n",
    "    print('987: ', 'yes')\n",
    "else:\n",
    "    print('987: ', 'no')\n",
    "if 9999 in fibonacci_list:\n",
    "    print('9999: ', 'yes')\n",
    "else:\n",
    "    print('9999: ', 'no')"
   ]
  },
  {
   "cell_type": "code",
   "execution_count": 32,
   "id": "f542a2f6-a792-487f-a098-6c00ce925363",
   "metadata": {},
   "outputs": [
    {
     "name": "stdout",
     "output_type": "stream",
     "text": [
      "[1, 2, 3, 4, 5, 6]\n",
      "[1, 2, 5, 4, 3, 6]\n"
     ]
    }
   ],
   "source": [
    "#Задание 5\n",
    "a_list = [1, 2, 3, 4, 5, 6]\n",
    "print(a_list)\n",
    "a_list[2], a_list[4] = a_list[4], a_list[2]\n",
    "print(a_list)"
   ]
  },
  {
   "cell_type": "code",
   "execution_count": 45,
   "id": "0b217550-0891-4cef-a30c-9b2f7f93352f",
   "metadata": {},
   "outputs": [
    {
     "name": "stdout",
     "output_type": "stream",
     "text": [
      "(1, 'Кто битым жизнью был,')\n",
      "(2, 'тот большего добьётся,')\n",
      "(3, 'Пуд соли съевший выше ценит мёд.')\n",
      "(4, 'Кто слёзы лил, тот искренней смеётся,')\n",
      "(5, 'Кто умирал, тот знает, что живёт.')\n"
     ]
    }
   ],
   "source": [
    "#Задание 6\n",
    "poem_list = [(2, \"тот большего добьётся,\" ), (5, \"Кто умирал, тот знает, что живёт.\"), (1, \"Кто битым жизнью был,\" ), (3, \"Пуд соли съевший выше ценит мёд.\"), (4, \"Кто слёзы лил, тот искренней смеётся,\")]\n",
    "#выведите на экран строки Омара Хайама в правильном порядке, используя список.\n",
    "poem_list.sort()\n",
    "print(*poem_list, sep='\\n')"
   ]
  },
  {
   "cell_type": "code",
   "execution_count": 53,
   "id": "961a9aea-f1c6-4ced-be17-5329353e18c4",
   "metadata": {},
   "outputs": [
    {
     "name": "stdout",
     "output_type": "stream",
     "text": [
      "['Пуд багов съевший, выше ценит чистый код.']\n",
      "['Пуд багов съевший, выше ценит чистый код.', 'Кто дошик ел, тот рейтинг ценит свой.']\n",
      "['Пуд багов съевший, выше ценит чистый код.', 'Кто дошик ел, тот рейтинг ценит свой.', ['Кто дошик ел, тот рейтинг ценит свой.', 'Кто крашился, тот знает, что живой.']]\n",
      "[]\n",
      "['Кто битым за дедлайн был,', 'Пуд багов съевший, выше ценит чистый код.', 'Кто дошик ел, тот рейтинг ценит свой.', []]\n",
      "['Кто битым за дедлайн был,', 'Пуд багов съевший, выше ценит чистый код.', 'Кто дошик ел, тот рейтинг ценит свой.']\n",
      "['Кто битым за дедлайн был,', 'тот больше не сольется.', 'Пуд багов съевший, выше ценит чистый код.', 'Кто дошик ел, тот рейтинг ценит свой.']\n",
      "['Кто битым за дедлайн был,', 'тот больше не сольется.', 'Пуд багов съевший, выше ценит чистый код.', 'Кто дошик ел, тот рейтинг ценит свой.', 'Кто крашился, тот знает, что живой.', 'Кто крашился, тот знает, что живой.']\n",
      "Кто битым за дедлайн был,\n",
      "тот больше не сольется.\n",
      "Пуд багов съевший, выше ценит чистый код.\n",
      "Кто дошик ел, тот рейтинг ценит свой.\n",
      "Кто крашился, тот знает, что живой.\n"
     ]
    }
   ],
   "source": [
    "#Задание 7\n",
    "true_story_list = ['Пуд багов съевший, выше ценит чистый код.']\n",
    "print(true_story_list)\n",
    "true_story_list.append('Кто дошик ел, тот рейтинг ценит свой.')\n",
    "print(true_story_list)\n",
    "true_story_slice = ['Кто дошик ел, тот рейтинг ценит свой.', 'Кто крашился, тот знает, что живой.']\n",
    "true_story_list.append(true_story_slice)\n",
    "print(true_story_list)\n",
    "true_story_slice.clear()\n",
    "print(true_story_slice)\n",
    "true_story_list.insert(0, 'Кто битым за дедлайн был,')\n",
    "print(true_story_list)\n",
    "del true_story_list[-1]\n",
    "print(true_story_list)\n",
    "true_story_list.insert(1, 'тот больше не сольется.')\n",
    "print(true_story_list)\n",
    "true_story_tail = ['Кто крашился, тот знает, что живой.', 'Кто крашился, тот знает, что живой.']\n",
    "true_story_list.append(true_story_tail[0])\n",
    "true_story_list.append(true_story_tail[1])\n",
    "print(true_story_list)\n",
    "del true_story_list[4]\n",
    "print(*true_story_list, sep ='\\n')"
   ]
  },
  {
   "cell_type": "code",
   "execution_count": null,
   "id": "84b67c1a-5fdc-46f1-96c4-a7b332df6884",
   "metadata": {},
   "outputs": [],
   "source": []
  }
 ],
 "metadata": {
  "kernelspec": {
   "display_name": "Python 3 (ipykernel)",
   "language": "python",
   "name": "python3"
  },
  "language_info": {
   "codemirror_mode": {
    "name": "ipython",
    "version": 3
   },
   "file_extension": ".py",
   "mimetype": "text/x-python",
   "name": "python",
   "nbconvert_exporter": "python",
   "pygments_lexer": "ipython3",
   "version": "3.10.10"
  }
 },
 "nbformat": 4,
 "nbformat_minor": 5
}
