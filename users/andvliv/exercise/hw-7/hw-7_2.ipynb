{
 "cells": [
  {
   "cell_type": "markdown",
   "id": "8fac65dc-a53a-47a4-99b4-8749341806b8",
   "metadata": {},
   "source": [
    "1. Любимые вещи\r\n",
    "Создайте список своих любимых развлечений и сохраните его в переменной games. Теперь создайте список любимых лакомств, сохранив его в переменной foods. Объедините два этих списка, сохранив результат в переменной favorites, и напечатайте значение этой переменной."
   ]
  },
  {
   "cell_type": "code",
   "execution_count": 2,
   "id": "3ac9a62f-6343-4e0a-aa4a-5e95a46e632e",
   "metadata": {},
   "outputs": [
    {
     "name": "stdout",
     "output_type": "stream",
     "text": [
      "['climbing', 'play with cat', 'hiking', 'meat', 'chocolate', 'orange']\n"
     ]
    }
   ],
   "source": [
    "games = ['climbing', 'play with cat', 'hiking']\n",
    "foods = ['meat', 'chocolate', 'orange']\n",
    "favorites = games + foods\n",
    "print(favorites)"
   ]
  },
  {
   "cell_type": "markdown",
   "id": "c6f56bd7-e2a6-484a-874d-755684f2b02e",
   "metadata": {},
   "source": [
    "2. Подсчет воинов\r\n",
    "Есть 3 дома, на крыше каждого из которых прячутся по 25 ниндзя, и есть 2 туннеля, в каждом из которых скрывается по 40 самураев. Сколько всего воинов решили устроить заварушку? (Ответ можно найти, введя в оболочке Python арифметическое выражение.)"
   ]
  },
  {
   "cell_type": "code",
   "execution_count": 3,
   "id": "21a70f19-2c80-47a2-9d41-e20153acba87",
   "metadata": {},
   "outputs": [
    {
     "data": {
      "text/plain": [
       "155"
      ]
     },
     "execution_count": 3,
     "metadata": {},
     "output_type": "execute_result"
    }
   ],
   "source": [
    "house = 25\n",
    "tunnel = 40\n",
    "total = 3 * house + 2 * tunnel\n",
    "total"
   ]
  },
  {
   "cell_type": "markdown",
   "id": "e2620516-7e74-41a9-a4d1-cc78cd7eaacd",
   "metadata": {},
   "source": [
    "3. Приветствие\r\n",
    "Создайте две переменные: пусть одна хранит ваше имя, а другая фамилию. Теперь с помощью строки с метками %s напечатайте приветствие вроде такого: «Привет, Брандо Икетт!»."
   ]
  },
  {
   "cell_type": "code",
   "execution_count": 35,
   "id": "c640e44d-d5bc-4d56-81f3-cfe7f9171f07",
   "metadata": {},
   "outputs": [
    {
     "name": "stdout",
     "output_type": "stream",
     "text": [
      "Привет, Andrey Ivanchenko\n"
     ]
    }
   ],
   "source": [
    "name = 'Andrey'\n",
    "surname = 'Ivanchenko'\n",
    "print('Привет, %s %s' % (name, surname))"
   ]
  },
  {
   "cell_type": "markdown",
   "id": "88a3046f-e916-4b74-961e-2a18b15a48f1",
   "metadata": {},
   "source": [
    "Упражнения 2\r\n",
    "Решите эти задачи, используя конструкции if и условия.\r\n",
    "\r\n",
    "1. Вы богаты?\r\n",
    "Как думаете, что делает этот код? Сначала попробуйте в этом разобраться, не вводя код в оболочку Python, а затем проверьте свой ответ.\r\n",
    "\r\n",
    "money = 2000 if money > 1000: print(\"Я богат!\") else: print(\"Я не богат!\") print(\"Может, когда-нибудь пото\n",
    "\n",
    "Ответ: код проверяет, есть ли у человека сумма больше 1000\n",
    "так как есть 2000, то выведет \"Я богат!\"м...\")"
   ]
  },
  {
   "cell_type": "code",
   "execution_count": 4,
   "id": "3a7858b1-7fc6-444a-8abf-e767bd01b5ee",
   "metadata": {},
   "outputs": [
    {
     "name": "stdout",
     "output_type": "stream",
     "text": [
      "Я богат!\n"
     ]
    }
   ],
   "source": [
    "money = 2000\n",
    "if money > 1000:\n",
    "    print(\"Я богат!\")\n",
    "else:\n",
    "    print(\"Я не богат!\")\n",
    "    print(\"Может, когда-нибудь потом...\")"
   ]
  },
  {
   "cell_type": "markdown",
   "id": "3ea3cb00-141d-4b29-98af-a0880200a281",
   "metadata": {},
   "source": [
    "2. Бисквитики!\r\n",
    "Создайте конструкцию if, которая проверяет, действительно ли количество бисквитов (которое задано в переменной twinkies) меньше 100 или больше 500. Если это условие выполняется, пусть ваша программа напечатает сообщение «Слишком мало или слишком много»."
   ]
  },
  {
   "cell_type": "code",
   "execution_count": 5,
   "id": "0ac82575-f9e8-4c8c-bd36-75adeca38eda",
   "metadata": {},
   "outputs": [
    {
     "name": "stdin",
     "output_type": "stream",
     "text": [
      " 95\n"
     ]
    },
    {
     "name": "stdout",
     "output_type": "stream",
     "text": [
      "Слишком мало или слишком много\n"
     ]
    }
   ],
   "source": [
    "twinkies = int(input())\n",
    "if twinkies < 100 or twinkies > 500:\n",
    "    print('Слишком мало или слишком много')\n",
    "else:\n",
    "    print('То, что надо')"
   ]
  },
  {
   "cell_type": "markdown",
   "id": "4adcf0a8-b128-49a9-95da-823398b9a9e0",
   "metadata": {},
   "source": [
    "3. Подходящая сумма\r\n",
    "Создайте конструкцию if, которая проверяет, соответствует ли заданная в переменной money сумма денег диапазону значений от 100 до 500 или диапазону значений от 1000 до 5000."
   ]
  },
  {
   "cell_type": "code",
   "execution_count": 1,
   "id": "5de8cfd6-aff0-477a-ada4-832ec65612d9",
   "metadata": {},
   "outputs": [
    {
     "name": "stdin",
     "output_type": "stream",
     "text": [
      " 900\n"
     ]
    },
    {
     "name": "stdout",
     "output_type": "stream",
     "text": [
      "Not good\n"
     ]
    }
   ],
   "source": [
    "money = int(input())\n",
    "if (money > 100 and money < 500) or (money > 1000 and money < 5000):\n",
    "    print('All right')\n",
    "else:\n",
    "    print('Not good')"
   ]
  },
  {
   "cell_type": "markdown",
   "id": "9277b7de-0e97-40a8-8260-a644275824fa",
   "metadata": {},
   "source": [
    "4. Я одолею этих ниндзя!\r\n",
    "Создайте конструкцию if, которая печатает строку «Их слишком много», если количество ниндзя (заданное в переменной ninjas) меньше 50, печатает «Будет непросто, но я с ними разделаюсь», если это количество меньше 30, и печатает «Я одолею этих ниндзя!», если количество меньше 10. Проверьте, как ваш код работает с таким значением:\r\n",
    "\r\n",
    "ninjas = 5"
   ]
  },
  {
   "cell_type": "code",
   "execution_count": 10,
   "id": "7ecfd82f-c617-4ad5-a908-e32dba73e686",
   "metadata": {},
   "outputs": [
    {
     "name": "stdin",
     "output_type": "stream",
     "text": [
      " 5\n"
     ]
    },
    {
     "name": "stdout",
     "output_type": "stream",
     "text": [
      "Я одолею этих ниндзя!\n"
     ]
    }
   ],
   "source": [
    "ninjas = int(input())\n",
    "if ninjas < 10:\n",
    "    print('Я одолею этих ниндзя!')\n",
    "elif ninjas < 30:\n",
    "    print('Будет непросто, но я с ними разделаюсь')\n",
    "elif ninjas < 50:\n",
    "    print('Их слишком много')"
   ]
  },
  {
   "cell_type": "markdown",
   "id": "85835429-3e6a-4241-aa0c-c29dbb5f4b69",
   "metadata": {},
   "source": [
    "Упражнения 3\r\n",
    "1. Цикл с приветом\r\n",
    "Как вы считаете, что делает эта программа? Сперва придумайте вариант ответа, а потом запустите код и проверьте, угадали ли вы.\r\n",
    "\r\n",
    "for x in range(0, 20): print('привет %s' % x) if x < 9: b\n",
    "\n",
    "Ответ:\n",
    "Берётся x в цикле от 0 до 19, выводится print(), если x < 9, то цикл прерывается\n",
    "Таким образом, один раз выведется:\n",
    "привет 0reak"
   ]
  },
  {
   "cell_type": "code",
   "execution_count": 36,
   "id": "e1ed9ba4-6095-4ecb-a646-9bc8b17d05dd",
   "metadata": {},
   "outputs": [
    {
     "name": "stdout",
     "output_type": "stream",
     "text": [
      "привет 0\n"
     ]
    }
   ],
   "source": [
    "for x in range(0, 20):\n",
    "    print('привет %s' % x)\n",
    "    if x < 9: break"
   ]
  },
  {
   "cell_type": "markdown",
   "id": "f04a9ad4-bf6e-4bca-aee1-ed4fbd91ee27",
   "metadata": {},
   "source": [
    "2. Четные числа\r\n",
    "Создайте цикл, который печатает четные числа до тех пор, пока не выведет ваш возраст. Если ваш возраст — нечетное число, создайте цикл, который печатает нечетные числа до совпадения с возрастом. Программа должна выводить на экран нечто подобное:\r\n",
    "\r\n",
    "2 4 6 8 10 12 14"
   ]
  },
  {
   "cell_type": "code",
   "execution_count": 12,
   "id": "df6843ff-51ae-4d1e-83eb-7d89152a50d0",
   "metadata": {},
   "outputs": [
    {
     "name": "stdin",
     "output_type": "stream",
     "text": [
      " 35\n"
     ]
    },
    {
     "name": "stdout",
     "output_type": "stream",
     "text": [
      "1\n",
      "3\n",
      "5\n",
      "7\n",
      "9\n",
      "11\n",
      "13\n",
      "15\n",
      "17\n",
      "19\n",
      "21\n",
      "23\n",
      "25\n",
      "27\n",
      "29\n",
      "31\n",
      "33\n",
      "35\n"
     ]
    }
   ],
   "source": [
    "age = int(input())\n",
    "if age % 2 != 0:\n",
    "    for i in range(age + 1):\n",
    "        if i % 2 != 0:\n",
    "            print(i)\n",
    "if age % 2 == 0:\n",
    "    for i in range(age):\n",
    "        if i % 2 == 0:\n",
    "            print(i)"
   ]
  },
  {
   "cell_type": "markdown",
   "id": "91078887-3682-46ae-bad1-29ceea29a7a3",
   "metadata": {},
   "source": [
    "3. Пять любимых ингредиентов\r\n",
    "Создайте список с пятью разными ингредиентами для бутерброда, наподобие:\r\n",
    "\r\n",
    "ingredients = ['слизни', 'пиявки', 'катышки изпупка гориллы', 'брови гусеницы', 'пальцы многоножки']\r\n",
    "\r\n",
    "Теперь создайте цикл, который печатает список ингредиентов с нумерацией:\r\n",
    "\r\n",
    "1 слизни 2 пиявки 3 катышки изпупка гориллы 4 брови гусеницы 5 пальцы многоножки"
   ]
  },
  {
   "cell_type": "code",
   "execution_count": 19,
   "id": "766152a2-3f63-4588-9439-ec8ddae60acb",
   "metadata": {},
   "outputs": [
    {
     "name": "stdout",
     "output_type": "stream",
     "text": [
      "1 bread 2 butter 3 salmon 4 salad 5 salt "
     ]
    }
   ],
   "source": [
    "ingridients = ['bread', 'butter', 'salmon', 'salad', 'salt']\n",
    "for i in range(len(ingridients)):\n",
    "    print(i + 1, ingridients[i], end = ' ')"
   ]
  },
  {
   "cell_type": "markdown",
   "id": "f6155708-a5c6-41ab-bc42-c0be32f0b69a",
   "metadata": {},
   "source": [
    "4. Ваш лунный вес\r\n",
    "Если бы вы сейчас были на Луне, ваш вес составил бы 16,5 процентов от земного. Чтобы узнать, сколько это, умножьте свой земной вес на 0,165.\r\n",
    "\r\n",
    "Если бы каждый год в течение следующих 15 лет вы прибавляли по одному килограмму веса, каким бы оказался ваш лунный вес в каждый из ежегодных визитов на Луну вплоть до 15-го года? Напишите программу, которая с помощью цикла for печатает на экране ваш лунный\r\n",
    "\r\n",
    "вес в каждом году."
   ]
  },
  {
   "cell_type": "code",
   "execution_count": 1,
   "id": "8e4cdc41-7843-4f6e-aa66-212c48df7f10",
   "metadata": {},
   "outputs": [
    {
     "name": "stdin",
     "output_type": "stream",
     "text": [
      " 2024\n",
      " 79\n"
     ]
    },
    {
     "name": "stdout",
     "output_type": "stream",
     "text": [
      "2025 13.2\n",
      "2026 13.365\n",
      "2027 13.53\n",
      "2028 13.695\n",
      "2029 13.86\n",
      "2030 14.025\n",
      "2031 14.19\n",
      "2032 14.355\n",
      "2033 14.52\n",
      "2034 14.685\n",
      "2035 14.85\n",
      "2036 15.015\n",
      "2037 15.18\n",
      "2038 15.345\n",
      "2039 15.51\n"
     ]
    }
   ],
   "source": [
    "year = int(input())\n",
    "weight = float(input())\n",
    "for i in range(1, 16):\n",
    "    new_weight = weight * 0.165 + i * 0.165\n",
    "    year += 1\n",
    "    print(year, new_weight)"
   ]
  },
  {
   "cell_type": "markdown",
   "id": "01e75721-33b7-4405-b03e-fbfb4e0727ee",
   "metadata": {},
   "source": [
    "Упражнения 4\r\n",
    "Вот несколько упражнений по созданию ваших собственных функций.\r\n",
    "\r\n",
    "1. Функция лунного веса\r\n",
    "Одним из предыдущих заданий было создание цикла for для расчета вашего веса на Луне в течение 15 лет. Этот цикл можно оформить в виде функции. Создайте функцию, которая принимает начальный вес и величину, на которую вес увеличивается каждый год. Вызывать эту новую функцию нужно будет примерно так:\r\n",
    "\r\n",
    "moon_weight(30, 0.25)"
   ]
  },
  {
   "cell_type": "code",
   "execution_count": 12,
   "id": "307c5848-8fcf-43d4-9453-be87d4ea7fc1",
   "metadata": {},
   "outputs": [
    {
     "name": "stdin",
     "output_type": "stream",
     "text": [
      " 30\n",
      " 0.25\n"
     ]
    },
    {
     "name": "stdout",
     "output_type": "stream",
     "text": [
      "2025 13.07625\n",
      "2026 13.1175\n",
      "2027 13.15875\n",
      "2028 13.2\n",
      "2029 13.24125\n",
      "2030 13.2825\n",
      "2031 13.32375\n",
      "2032 13.365\n",
      "2033 13.40625\n",
      "2034 13.4475\n",
      "2035 13.48875\n",
      "2036 13.53\n",
      "2037 13.571250000000001\n",
      "2038 13.6125\n",
      "2039 13.65375\n",
      "2040 13.695\n",
      "2041 13.73625\n",
      "2042 13.7775\n",
      "2043 13.81875\n",
      "2044 13.86\n",
      "2045 13.901250000000001\n",
      "2046 13.9425\n",
      "2047 13.98375\n",
      "2048 14.025\n",
      "2049 14.06625\n",
      "2050 14.1075\n",
      "2051 14.14875\n",
      "2052 14.19\n",
      "2053 14.23125\n",
      "2054 14.2725\n"
     ]
    }
   ],
   "source": [
    "period = int(input())\n",
    "weight_raise = float(input())\n",
    "year = 2024\n",
    "weight_earth = 79\n",
    "def moon_weight(period, weight_raise):\n",
    "    year = 2024\n",
    "    weight_earth = 79\n",
    "    for i in range(1, period + 1):\n",
    "        new_weight = weight_earth * 0.165 + weight_raise * i *0.165\n",
    "        year += 1\n",
    "        print(year, new_weight)\n",
    "moon_weight(30, 0.25)"
   ]
  },
  {
   "cell_type": "markdown",
   "id": "d6d7c5ed-1486-460e-a98d-42bc44e280be",
   "metadata": {},
   "source": [
    "2. Функция лунного веса и количество лет\r\n",
    "Измените функцию из предыдущего задания так, чтобы с ее помощью можно было рассчитывать вес для разного количества лет, например 5 или 20 лет. Пусть эта функция принимает три аргумента: начальный вес, прибавку веса в год и количество лет:\r\n",
    "\r\n",
    "  moon_weight(90, 0.25, 5)"
   ]
  },
  {
   "cell_type": "code",
   "execution_count": 31,
   "id": "226370a3-845e-42aa-a6a2-885b23820b13",
   "metadata": {},
   "outputs": [
    {
     "name": "stdin",
     "output_type": "stream",
     "text": [
      " 90\n",
      " 0.25\n",
      " 5\n"
     ]
    },
    {
     "name": "stdout",
     "output_type": "stream",
     "text": [
      "2025 90.25\n",
      "2026 90.5\n",
      "2027 90.75\n",
      "2028 91.0\n",
      "2029 91.25\n"
     ]
    }
   ],
   "source": [
    "#пока не получилось\n",
    "weight = float(input())\n",
    "weight_raise = float(input())\n",
    "period = int(input())\n",
    "year = 2024\n",
    "def moon_weight(weight, weight_raise, period):\n",
    "    year = 2024\n",
    "    for i in range(1, period + 1):\n",
    "        new_weight = weight + i * weight_raise\n",
    "        year +=1\n",
    "        print(year, new_weight)\n",
    "moon_weight(weight, weight_raise, period)"
   ]
  },
  {
   "cell_type": "code",
   "execution_count": null,
   "id": "d68d8a64-c42d-41d6-b068-cd8de2ae1cb2",
   "metadata": {},
   "outputs": [],
   "source": []
  }
 ],
 "metadata": {
  "kernelspec": {
   "display_name": "Python 3 (ipykernel)",
   "language": "python",
   "name": "python3"
  },
  "language_info": {
   "codemirror_mode": {
    "name": "ipython",
    "version": 3
   },
   "file_extension": ".py",
   "mimetype": "text/x-python",
   "name": "python",
   "nbconvert_exporter": "python",
   "pygments_lexer": "ipython3",
   "version": "3.10.10"
  }
 },
 "nbformat": 4,
 "nbformat_minor": 5
}
