{
 "cells": [
  {
   "cell_type": "code",
   "execution_count": null,
   "id": "071143bf-ebdf-4593-991c-4aaf136e9168",
   "metadata": {},
   "outputs": [],
   "source": [
    "#Задание 1. Написать функцию для вывода двумерной матрицы по столбцам, \n",
    "#не используя индексацию (с помощью [] или любым другим способом получения\n",
    "#элемента по заданному индексу).\n",
    "#Функция должна принимать на вход список и ничего не возвращать\n",
    "#'''\n",
    "#def print_matrix(matrix):\n",
    "#    '''\n",
    " #   это функция, печатающая двумерный список matrix по столбцам"
   ]
  },
  {
   "cell_type": "code",
   "execution_count": 4,
   "id": "4e14bfd7-6ac3-4522-b9a7-85b0494d4371",
   "metadata": {},
   "outputs": [
    {
     "name": "stdout",
     "output_type": "stream",
     "text": [
      "1\n",
      "5\n",
      "9\n",
      "2\n",
      "6\n",
      "10\n"
     ]
    }
   ],
   "source": [
    "\n",
    "def print_matrix(matrix):\n",
    "    if len(matrix) == 0:\n",
    "        trans_matrix = []\n",
    "    if len(matrix) > 0:\n",
    "        rows = len(matrix)\n",
    "        for i in matrix:\n",
    "            cols = len(i)\n",
    "        trans_matrix = []\n",
    "        for c in range(cols):\n",
    "            for r in range(rows):\n",
    "                trans_matrix.append(matrix[r][c])\n",
    "    return print(*trans_matrix, sep = '\\n')\n",
    "matrix1 = [[1,4,7,],[2,5,8,],[3,6,9,]]\n",
    "matrix2 = [[1,4,7,10],[2,5,8,11],[3,6,9,12]]\n",
    "matrix3 = [[1,3,5,7],[2,4,6,8],]\n",
    "matrix4 = [[1,2,],[5,6,],[9,10,]]\n",
    "matrix5 = [[1,2,3],]\n",
    "matrix6 = []\n",
    "print_matrix(matrix4)"
   ]
  },
  {
   "cell_type": "code",
   "execution_count": null,
   "id": "4364fba4-4080-4a1a-8c8e-8ec5026ac530",
   "metadata": {},
   "outputs": [],
   "source": [
    "#Задание 2. Напишите функцию, вызывающую саму себя 10 раз;\n",
    "#функция должна вызываться как ten_times() и ничего не возвращать;\n",
    "#'''\n",
    "#def ten_times\n",
    "\n",
    "#проверка\n",
    "#ten_times()"
   ]
  },
  {
   "cell_type": "code",
   "execution_count": 3,
   "id": "477a753a-8154-4fc9-8338-be93741c884d",
   "metadata": {},
   "outputs": [
    {
     "name": "stdout",
     "output_type": "stream",
     "text": [
      "0\n",
      "1\n",
      "2\n",
      "3\n",
      "4\n",
      "5\n",
      "6\n",
      "7\n",
      "8\n",
      "9\n"
     ]
    }
   ],
   "source": [
    "def ten_times():\n",
    "    for i in range(10):\n",
    "        print(i)\n",
    "ten_times()"
   ]
  },
  {
   "cell_type": "markdown",
   "id": "75f11b21-6e19-43b8-bf83-9b4a1fd62f80",
   "metadata": {},
   "source": [
    "Задание 3.\r\n",
    "'''\r\n",
    "# дан отрывок кода\r\n",
    "a_haiku = [\"Всё глазел на них\",\r\n",
    "\"Сакуры цветы, пока\",\r\n",
    "\"Шею не свело\"]\r\n",
    "\r\n",
    "def print_haiku(haiku):\r\n",
    "    for line in haiku:\r\n",
    "        print(line)\r\n",
    "\r\n",
    "print_haiku(a_haiku)\r\n",
    "\r\n",
    "'''\r\n",
    "Модифицируйте функцию функцией print_haiku таким образом, чтобы можно было \r\n",
    "выполнять произвольное преобразование над выводом строк.\r\n",
    "Посторайтесь сильно не менять код print_haiku()\r\n",
    "Выведите с помощью модифицированной функции print_haiku все строки хайку :\r\n",
    " - заглавными буквами\r\n",
    " - только каждый третий символ строк\r\n",
    " - красным цветом (https://habr.com/ru/sandbox/158854/, первый раздел)"
   ]
  },
  {
   "cell_type": "code",
   "execution_count": 4,
   "id": "0bf8800d-3aac-4f79-9f40-5eadfbb5ecfe",
   "metadata": {},
   "outputs": [
    {
     "name": "stdout",
     "output_type": "stream",
     "text": [
      "ВСЁ ГЛАЗЕЛ НА НИХ\n",
      "САКУРЫ ЦВЕТЫ, ПОКА\n",
      "ШЕЮ НЕ СВЕЛО\n"
     ]
    }
   ],
   "source": [
    "# - заглавными буквами\n",
    "\n",
    "a_haiku = [\"Всё глазел на них\",\n",
    "\"Сакуры цветы, пока\",\n",
    "\"Шею не свело\"]\n",
    "\n",
    "\n",
    "\n",
    "\n",
    "def print_haiku_upper(haiku):\n",
    "    for line in haiku:\n",
    "        line = line.upper()\n",
    "        print(line)\n",
    "\n",
    "print_haiku_upper(a_haiku)"
   ]
  },
  {
   "cell_type": "code",
   "execution_count": 2,
   "id": "685510ce-773b-45d9-b383-990928e8845c",
   "metadata": {},
   "outputs": [
    {
     "name": "stdout",
     "output_type": "stream",
     "text": [
      "ёленн\n",
      "кывыпа\n",
      "юево\n"
     ]
    }
   ],
   "source": [
    "# - только каждый третий символ строк\n",
    "a_haiku = [\"Всё глазел на них\",\n",
    "\"Сакуры цветы, пока\",\n",
    "\"Шею не свело\"]\n",
    "\n",
    "def print_haiku_3(haiku):\n",
    "    for line in haiku:\n",
    "        print(line[2::3])\n",
    "\n",
    "print_haiku_3(a_haiku)"
   ]
  },
  {
   "cell_type": "code",
   "execution_count": 5,
   "id": "276b551d-d21e-4871-abba-5814b6268999",
   "metadata": {},
   "outputs": [
    {
     "name": "stdout",
     "output_type": "stream",
     "text": [
      "\u001b[31m Всё глазел на них\n",
      "\u001b[31m Сакуры цветы, пока\n",
      "\u001b[31m Шею не свело\n"
     ]
    }
   ],
   "source": [
    "# - красным цветом (https://habr.com/ru/sandbox/158854/, первый раздел)\n",
    "a_haiku = [\"Всё глазел на них\",\n",
    "\"Сакуры цветы, пока\",\n",
    "\"Шею не свело\"]\n",
    "\n",
    "def print_haiku_red(haiku):\n",
    "    for line in haiku:\n",
    "        print(\"\\033[31m {}\" .format(line))\n",
    "\n",
    "print_haiku_red(a_haiku)"
   ]
  },
  {
   "cell_type": "markdown",
   "id": "41b8f9e1-b3f0-47b9-a1a9-c0165297c38b",
   "metadata": {},
   "source": [
    "'''\r\n",
    "Задание 4. Напишите простой пользовательский интерфейс к заданию 3.\r\n",
    "Пользователю должно выдаваться сообщение о возможностях вывода (меню), и приглашение на ввод\r\n",
    "идентификатора действия или символа `q` для выхода, например\r\n",
    "\r\n",
    "Возможные действия:\r\n",
    "1 - вывод хайку заглавными буквами\r\n",
    "2 - вывод только третьих символов каждой строки хайку\r\n",
    "3 - вывод хайку красным цветом\r\n",
    "Введите номер действия или q для выхода: \r\n",
    "\r\n",
    "После ввода идентификатора действия, необходимо выполнить соответствующее действие \r\n",
    "и снова вывести меню с запросом на ввод. в случае некорректного идентификатора действия \r\n",
    "вывести соответствующее сообщение и снова вывести меню. После ввода q завершить работу с\r\n",
    "простым пользовательским интрефейсом"
   ]
  },
  {
   "cell_type": "code",
   "execution_count": 11,
   "id": "bf0eef5f-5978-4163-9c3c-35f7a794224d",
   "metadata": {},
   "outputs": [
    {
     "name": "stdin",
     "output_type": "stream",
     "text": [
      "Выберите вариант ввода:                    1 - Заглавными буквами,                    2 - Каждый третий символ,                    3 - красным цветом,                    q - выход из меню  1\n"
     ]
    },
    {
     "name": "stdout",
     "output_type": "stream",
     "text": [
      "ВСЁ ГЛАЗЕЛ НА НИХ\n",
      "САКУРЫ ЦВЕТЫ, ПОКА\n",
      "ШЕЮ НЕ СВЕЛО\n"
     ]
    }
   ],
   "source": [
    "a_haiku = [\"Всё глазел на них\",\n",
    "\"Сакуры цветы, пока\",\n",
    "\"Шею не свело\"]\n",
    "\n",
    "invite_menu = input(\"Выберите вариант ввода:\\\n",
    "                    1 - Заглавными буквами,\\\n",
    "                    2 - Каждый третий символ,\\\n",
    "                    3 - красным цветом,\\\n",
    "                    q - выход из меню \\\n",
    "\")\n",
    "def print_haiku(haiku):\n",
    "    if '1' in invite_menu:\n",
    "        print_haiku_upper(haiku)\n",
    "    if '2' in invite_menu:\n",
    "        print_haiku_3(a_haiku)\n",
    "    if '3' in invite_menu:\n",
    "        print_haiku_red(a_haiku)\n",
    "    if  'q' in invite_menu:\n",
    "        print('Вы вышли из меню')\n",
    "print_haiku(a_haiku)"
   ]
  },
  {
   "cell_type": "markdown",
   "id": "40644117-af8c-4f26-9464-6668cbb351d5",
   "metadata": {},
   "source": [
    "'''\r\n",
    "Задание 5.\r\n",
    "Дополните функционал задания 3 одним из следующих способов вывода хайку:\r\n",
    "- каждое слово в строке различным цветом,\r\n",
    "- в каждой строке второе слово жирным шрифтом,\r\n",
    "- маленькими буквами синим цветом,\r\n",
    "при этом текст функции print_haiku() меняться не должен. Если такая доработка потребует\r\n",
    "его изменения, пересмотрите дизайн функции print_haiku(), чтобы расширение функионала вывода\r\n",
    "не требовало изменения print_haiku()\r\n",
    "Добавьте в интерфейс, созданный в задании 4 созданный новый способ вывода. Оцените объем и \r\n",
    "удобство модификации, при необходимости пересмотрите дизайн кода интерфейса для упрощения его \r\n",
    "изменекния.\r\n"
   ]
  },
  {
   "cell_type": "code",
   "execution_count": 13,
   "id": "b057c585-0eee-4abc-94c2-1e472363bffd",
   "metadata": {},
   "outputs": [
    {
     "name": "stdout",
     "output_type": "stream",
     "text": [
      "Всё глазел на них\n",
      "Сакуры цветы, пока\n",
      "Шею не свело\n",
      "Всё \u001b[1m глазел \u001b[0m на них\n",
      "Сакуры \u001b[1m цветы, \u001b[0m пока\n",
      "Шею \u001b[1m не \u001b[0m свело\n"
     ]
    }
   ],
   "source": [
    "#в каждой строке второе слово жирным шрифтом,\n",
    "a_haiku = [\"Всё глазел на них\",\n",
    "\"Сакуры цветы, пока\",\n",
    "\"Шею не свело\"]\n",
    "\n",
    "a_haiku = [\"Всё глазел на них\", \"Сакуры цветы, пока\", \"Шею не свело\"]\n",
    "\n",
    "def print_haiku(haiku):\n",
    "    for line in haiku:\n",
    "        print(line)\n",
    "\n",
    "print_haiku(a_haiku)\n",
    "def print_haiku_fat_2(haiku):\n",
    "    for line in haiku:\n",
    "        str_line = line.split()\n",
    "        str_line[1] = \"\\033[1m {}\" .format(str_line[1])\n",
    "        str_line[2] = \"\\033[0m {}\" .format(str_line[2])\n",
    "        line_edit = ' '.join(str_line)\n",
    "        print(line_edit)\n",
    "print_haiku_fat_2(a_haiku)"
   ]
  },
  {
   "cell_type": "code",
   "execution_count": 14,
   "id": "929bf6ea-2295-42f0-8780-ea5932417416",
   "metadata": {},
   "outputs": [
    {
     "name": "stdout",
     "output_type": "stream",
     "text": [
      "\u001b[34m всё глазел на них\n",
      "\u001b[34m сакуры цветы, пока\n",
      "\u001b[34m шею не свело\n"
     ]
    }
   ],
   "source": [
    "#- маленькими буквами синим цветом,\n",
    "a_haiku = [\"Всё глазел на них\",\n",
    "\"Сакуры цветы, пока\",\n",
    "\"Шею не свело\"]\n",
    "def print_haiku_blue_lower(haiku):\n",
    "    for i in range(len(haiku)):\n",
    "        haiku[i] = haiku[i].lower()\n",
    "    for line in haiku:\n",
    "        print(\"\\033[34m {}\" .format(line))\n",
    "print_haiku_blue_lower(a_haiku)"
   ]
  },
  {
   "cell_type": "code",
   "execution_count": 21,
   "id": "6211452c-e8d3-4ad8-9e48-325352d51436",
   "metadata": {},
   "outputs": [
    {
     "name": "stdout",
     "output_type": "stream",
     "text": [
      "\u001b[31m Всё \u001b[32m глазел \u001b[33m на \u001b[34m них\n",
      "\u001b[31m Сакуры \u001b[32m цветы, \u001b[33m пока\n",
      "\u001b[31m Шею \u001b[32m не \u001b[33m свело\n"
     ]
    }
   ],
   "source": [
    "a_haiku = [\"Всё глазел на них\",\n",
    "\"Сакуры цветы, пока\",\n",
    "\"Шею не свело\"]\n",
    "def print_haiku_diff_col(haiku):\n",
    "    colors = [\"\\033[31m {}\", \"\\033[32m {}\", \"\\033[33m {}\", \"\\033[34m {}\", \"\\033[35m {}\", \"\\033[36m {}\"]\n",
    "    for line in haiku:\n",
    "        words_haiku = line.split()\n",
    "        for i in range(len(words_haiku)):\n",
    "            for j in range(len(colors)):\n",
    "                if i % 6 == j:\n",
    "                    words_haiku[i] = colors[j]. format(words_haiku[i])\n",
    "            line = ' '.join(words_haiku)\n",
    "        print(line)\n",
    "print_haiku_diff_col(a_haiku)"
   ]
  },
  {
   "cell_type": "markdown",
   "id": "378a4f98-43b8-4cde-ace4-13348e7fd6cf",
   "metadata": {},
   "source": []
  },
  {
   "cell_type": "code",
   "execution_count": 22,
   "id": "87a47277-9df7-42bd-978f-6002b8b1e18e",
   "metadata": {},
   "outputs": [
    {
     "name": "stdin",
     "output_type": "stream",
     "text": [
      "Выберите вариант ввода:                    1 - Заглавными буквами,                    2 - Каждый третий символ,                    3 - Красным цветом,                    4 - Каждое второе слово жирным шрифтом,                     5 - Маленькими буквами синим цветом,                     6 - Каждое слово в строке различным цветом,                     q - выход из меню  6\n"
     ]
    },
    {
     "name": "stdout",
     "output_type": "stream",
     "text": [
      "\u001b[31m Всё \u001b[32m глазел \u001b[33m на \u001b[34m них\n",
      "\u001b[31m Сакуры \u001b[32m цветы, \u001b[33m пока\n",
      "\u001b[31m Шею \u001b[32m не \u001b[33m свело\n"
     ]
    }
   ],
   "source": [
    "a_haiku = [\"Всё глазел на них\",\n",
    "\"Сакуры цветы, пока\",\n",
    "\"Шею не свело\"]\n",
    "\n",
    "invite_menu = input(\"Выберите вариант ввода:\\\n",
    "                    1 - Заглавными буквами,\\\n",
    "                    2 - Каждый третий символ,\\\n",
    "                    3 - Красным цветом,\\\n",
    "                    4 - Каждое второе слово жирным шрифтом, \\\n",
    "                    5 - Маленькими буквами синим цветом, \\\n",
    "                    6 - Каждое слово в строке различным цветом, \\\n",
    "                    q - выход из меню \\\n",
    "\")\n",
    "def print_haiku(haiku):\n",
    "    if '1' in invite_menu:\n",
    "        print_haiku_upper(haiku)\n",
    "    if '2' in invite_menu:\n",
    "        print_haiku_3(a_haiku)\n",
    "    if '3' in invite_menu:\n",
    "        print_haiku_red(a_haiku)\n",
    "    if '3' in invite_menu:\n",
    "        print_haiku_red(a_haiku)\n",
    "    if '4' in invite_menu:\n",
    "        print_haiku_fat_2(a_haiku)\n",
    "    if '5' in invite_menu:\n",
    "        print_haiku_blue_lower(a_haiku)\n",
    "    if '6' in invite_menu:\n",
    "        print_haiku_diff_col(a_haiku)\n",
    "    if  'q' in invite_menu:\n",
    "        print('Вы вышли из меню')\n",
    "print_haiku(a_haiku)"
   ]
  },
  {
   "cell_type": "code",
   "execution_count": null,
   "id": "782193c6-879f-4e5f-aaa2-1113791cbf46",
   "metadata": {},
   "outputs": [],
   "source": []
  }
 ],
 "metadata": {
  "kernelspec": {
   "display_name": "Python 3 (ipykernel)",
   "language": "python",
   "name": "python3"
  },
  "language_info": {
   "codemirror_mode": {
    "name": "ipython",
    "version": 3
   },
   "file_extension": ".py",
   "mimetype": "text/x-python",
   "name": "python",
   "nbconvert_exporter": "python",
   "pygments_lexer": "ipython3",
   "version": "3.10.10"
  }
 },
 "nbformat": 4,
 "nbformat_minor": 5
}
