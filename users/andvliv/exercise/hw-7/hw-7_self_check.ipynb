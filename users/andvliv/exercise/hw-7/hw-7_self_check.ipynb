{
 "cells": [
  {
   "cell_type": "code",
   "execution_count": 2,
   "id": "43b6ef54-a23d-4349-8942-48bc3d6c7236",
   "metadata": {},
   "outputs": [
    {
     "data": {
      "text/plain": [
       "70.0"
      ]
     },
     "execution_count": 2,
     "metadata": {},
     "output_type": "execute_result"
    }
   ],
   "source": [
    "((5 + 30) * 20) / 10\n",
    "#Предварительный ответ: 70\n",
    "#1"
   ]
  },
  {
   "cell_type": "code",
   "execution_count": 3,
   "id": "dbf4cd62-bcba-4902-a178-2be7ea7cad48",
   "metadata": {},
   "outputs": [
    {
     "data": {
      "text/plain": [
       "65.0"
      ]
     },
     "execution_count": 3,
     "metadata": {},
     "output_type": "execute_result"
    }
   ],
   "source": [
    "5 + 30 * 20 / 10\n",
    "# = 65\n",
    "#1"
   ]
  },
  {
   "cell_type": "code",
   "execution_count": 4,
   "id": "164f1415-16ec-4a9e-8c0b-5020a7ba520a",
   "metadata": {},
   "outputs": [
    {
     "name": "stdout",
     "output_type": "stream",
     "text": [
      "200\n"
     ]
    }
   ],
   "source": [
    "fred = 200\n",
    "john = fred\n",
    "print(john)\n",
    "# = 200\n",
    "#1"
   ]
  },
  {
   "cell_type": "code",
   "execution_count": 6,
   "id": "a5391002-8b3e-47b7-8257-eb072f8400b5",
   "metadata": {},
   "outputs": [
    {
     "data": {
      "text/plain": [
       "3514"
      ]
     },
     "execution_count": 6,
     "metadata": {},
     "output_type": "execute_result"
    }
   ],
   "source": [
    "20 + 10 * 365 - 3 * 52\n",
    "# = 3670 - 156 = 3514\n",
    "#1"
   ]
  },
  {
   "cell_type": "code",
   "execution_count": 8,
   "id": "8f2ad2a5-a3cc-459f-b4cd-31609f3e839b",
   "metadata": {},
   "outputs": [
    {
     "data": {
      "text/plain": [
       "3514"
      ]
     },
     "execution_count": 8,
     "metadata": {},
     "output_type": "execute_result"
    }
   ],
   "source": [
    "found_coins = 20\n",
    "magic_coins = 10\n",
    "stolen_coins = 3\n",
    "found_coins + magic_coins * 365 - stolen_coins * 52\n",
    "# = 3514\n",
    "#1"
   ]
  },
  {
   "cell_type": "code",
   "execution_count": 9,
   "id": "17988d8b-38e1-4f49-88b6-e4b37bf39069",
   "metadata": {},
   "outputs": [
    {
     "name": "stdout",
     "output_type": "stream",
     "text": [
      "Что едят на полдник динозавры?\n",
      "ТиРекс-кекс!\n"
     ]
    }
   ],
   "source": [
    "fred = '''Что едят на полдник динозавры?\n",
    "ТиРекс-кекс!''' \n",
    "print(fred)\n",
    "# Что едят на полдник динозавры?\n",
    "#ТиРекс-кекс!\n",
    "#1"
   ]
  },
  {
   "cell_type": "code",
   "execution_count": 10,
   "id": "3895017b-b408-4662-a55f-20ec48ac2f1d",
   "metadata": {},
   "outputs": [
    {
     "name": "stdout",
     "output_type": "stream",
     "text": [
      "Мой счет: 1000 очков\n"
     ]
    }
   ],
   "source": [
    "myscore = 1000\n",
    "message = 'Мой счет: %s очков'\n",
    "print(message % myscore)\n",
    "# Мой счет: 1000 очков\n",
    "#1"
   ]
  },
  {
   "cell_type": "code",
   "execution_count": 11,
   "id": "9a5a836a-4085-4b3e-8751-363183277164",
   "metadata": {},
   "outputs": [
    {
     "name": "stdout",
     "output_type": "stream",
     "text": [
      "Коленка: приспособление для поиска мебели втемноте\n",
      "Лодыжка: приспособление для поиска мебели втемноте\n"
     ]
    }
   ],
   "source": [
    "joke_text = '%s: приспособление для поиска мебели втемноте'\n",
    "bodypart1 = 'Коленка'\n",
    "bodypart2 = 'Лодыжка'\n",
    "print(joke_text % bodypart1) \n",
    "print(joke_text % bodypart2)\n",
    "# Коленка: приспособление для поиска мебели втемноте\n",
    "# Лодыжка: приспособление для поиска мебели втемноте\n",
    "#1"
   ]
  },
  {
   "cell_type": "code",
   "execution_count": 12,
   "id": "d36fe9e8-a875-47a8-94f3-ace0269deace",
   "metadata": {},
   "outputs": [
    {
     "name": "stdout",
     "output_type": "stream",
     "text": [
      "Что сказало число 0 числу 8? Славный поясок!\n"
     ]
    }
   ],
   "source": [
    "nums = 'Что сказало число %s числу %s? Славный поясок!'\n",
    "print(nums % (0, 8))\n",
    "# Что сказало число 0 числу 8? Славный поясок!\n",
    "#1"
   ]
  },
  {
   "cell_type": "code",
   "execution_count": 13,
   "id": "7c3bacf4-1405-4d85-96e6-8df50b69829c",
   "metadata": {},
   "outputs": [
    {
     "name": "stdout",
     "output_type": "stream",
     "text": [
      "aaaaaaaaaa\n"
     ]
    }
   ],
   "source": [
    "print(10 * 'a')\n",
    "# aaaaaaaaaa\n",
    "#1"
   ]
  },
  {
   "cell_type": "code",
   "execution_count": 14,
   "id": "7a892ec3-40ef-4df8-b767-80208b43f3cb",
   "metadata": {},
   "outputs": [
    {
     "name": "stdout",
     "output_type": "stream",
     "text": [
      "глаз тритона\n"
     ]
    }
   ],
   "source": [
    "wizard_list = ['паучьи лапки', 'жабий палец', 'глаз тритона', 'крыло летучей мыши', 'жир слизня', 'перхоть змеи']\n",
    "print(wizard_list[2])\n",
    "# глаз тритона\n",
    "#1"
   ]
  },
  {
   "cell_type": "code",
   "execution_count": 15,
   "id": "c0e15e3b-841c-479b-adfb-00100fce66d8",
   "metadata": {},
   "outputs": [
    {
     "name": "stdout",
     "output_type": "stream",
     "text": [
      "['паучьи лапки', 'жабий палец', 'язык улитки', 'крыло летучей мыши', 'жир слизня', 'перхоть змеи']\n"
     ]
    }
   ],
   "source": [
    "wizard_list[2] = 'язык улитки'\n",
    "print(wizard_list)\n",
    "# ['паучьи лапки', 'жабий палец', 'язык улитки', 'крыло летучей мыши', 'жир слизня', 'перхоть змеи']\n",
    "#1"
   ]
  },
  {
   "cell_type": "code",
   "execution_count": 17,
   "id": "412abe84-c824-48f7-a865-352bd41db719",
   "metadata": {},
   "outputs": [
    {
     "name": "stdout",
     "output_type": "stream",
     "text": [
      "['язык улитки', 'крыло летучей мыши', 'жир слизня']\n"
     ]
    }
   ],
   "source": [
    "print(wizard_list[2:5])\n",
    "# ['язык улитки', 'крыло летучей мыши', 'жир слизня']\n",
    "#1"
   ]
  },
  {
   "cell_type": "code",
   "execution_count": 18,
   "id": "11d31ba6-81be-425c-956c-dc69b257e650",
   "metadata": {},
   "outputs": [
    {
     "name": "stdout",
     "output_type": "stream",
     "text": [
      "[7, 'раз', 'отпей', 1, 'раз', 'отъешь']\n"
     ]
    }
   ],
   "source": [
    "numbers_and_strings = [7, 'раз', 'отпей', 1, 'раз', 'отъешь']\n",
    "print(numbers_and_strings)\n",
    "# [7, 'раз', 'отпей', 1, 'раз', 'отъешь']\n",
    "#1"
   ]
  },
  {
   "cell_type": "code",
   "execution_count": 19,
   "id": "ad6a1531-e898-4315-ae81-49f239908067",
   "metadata": {},
   "outputs": [
    {
     "name": "stdout",
     "output_type": "stream",
     "text": [
      "[[1, 2, 3, 4, 5], ['хватит', 'циферки', 'считать']]\n"
     ]
    }
   ],
   "source": [
    "numbers = [1, 2, 3, 4, 5]\n",
    "strings = ['хватит', 'циферки', 'считать']\n",
    "mylist = [numbers, strings]\n",
    "print(mylist)\n",
    "# [[1, 2, 3, 4, 5], ['хватит', 'циферки', 'считать']]\n",
    "#1"
   ]
  },
  {
   "cell_type": "code",
   "execution_count": 20,
   "id": "800f28d4-3114-494d-a71f-1812e2004049",
   "metadata": {},
   "outputs": [
    {
     "name": "stdout",
     "output_type": "stream",
     "text": [
      "['паучьи лапки', 'жабий палец', 'язык улитки', 'крыло летучей мыши', 'жир слизня', 'перхоть змеи', 'медвежий коготь']\n"
     ]
    }
   ],
   "source": [
    "wizard_list.append('медвежий коготь')\n",
    "print(wizard_list)\n",
    "# 'паучьи лапки', 'жабий палец', 'язык улитки', 'крыло летучей мыши', 'жир слизня', 'перхоть змеи', 'медвежий коготь']\n",
    "#1"
   ]
  },
  {
   "cell_type": "code",
   "execution_count": 21,
   "id": "c64e05f3-dc19-4dd4-bc24-2b4d099e2209",
   "metadata": {},
   "outputs": [
    {
     "name": "stdout",
     "output_type": "stream",
     "text": [
      "['паучьи лапки', 'жабий палец', 'язык улитки', 'крыло летучей мыши', 'жир слизня', 'перхоть змеи', 'медвежий коготь', 'мандрагора', 'болиголов', 'болотный газ']\n"
     ]
    }
   ],
   "source": [
    "wizard_list.append('мандрагора') \n",
    "wizard_list.append('болиголов')\n",
    "wizard_list.append('болотный газ') \n",
    "print(wizard_list)\n",
    "# ['паучьи лапки', 'жабий палец', 'язык улитки', 'крыло летучей мыши', 'жир слизня', 'перхоть змеи', 'медвежий коготь', 'мандрагора', 'болиголов', 'болотный газ']\n",
    "#1"
   ]
  },
  {
   "cell_type": "code",
   "execution_count": 22,
   "id": "650adf9a-d581-4de4-9ca6-3d06841ce6e8",
   "metadata": {},
   "outputs": [
    {
     "name": "stdout",
     "output_type": "stream",
     "text": [
      "['паучьи лапки', 'жабий палец', 'язык улитки', 'крыло летучей мыши', 'жир слизня', 'медвежий коготь', 'мандрагора', 'болиголов', 'болотный газ']\n"
     ]
    }
   ],
   "source": [
    "del wizard_list[5]\n",
    "print(wizard_list)\n",
    "# ['паучьи лапки', 'жабий палец', 'язык улитки', 'крыло летучей мыши', 'жир слизня', 'медвежий коготь', 'мандрагора', 'болиголов', 'болотный газ']\n",
    "#1"
   ]
  },
  {
   "cell_type": "code",
   "execution_count": 23,
   "id": "aeced554-488e-4c5a-83b6-0c0e7ec80fb8",
   "metadata": {},
   "outputs": [
    {
     "name": "stdout",
     "output_type": "stream",
     "text": [
      "['паучьи лапки', 'жабий палец', 'язык улитки', 'крыло летучей мыши', 'жир слизня', 'медвежий коготь']\n"
     ]
    }
   ],
   "source": [
    "del wizard_list[8]\n",
    "del wizard_list[7]\n",
    "del wizard_list[6]\n",
    "print(wizard_list)\n",
    "#['паучьи лапки', 'жабий палец', 'язык улитки', 'крыло летучей мыши', 'жир слизня', 'медвежий коготь']\n",
    "#1"
   ]
  },
  {
   "cell_type": "code",
   "execution_count": 24,
   "id": "e06d16f8-d528-4a9f-8f19-13cc1885d4f8",
   "metadata": {},
   "outputs": [
    {
     "name": "stdout",
     "output_type": "stream",
     "text": [
      "[1, 2, 3, 4, 5, 'я', 'забрался', 'под', 'кровать']\n"
     ]
    }
   ],
   "source": [
    "list1 = [1, 2, 3, 4, 5]\n",
    "list2 = ['я', 'забрался', 'под', 'кровать']\n",
    "print(list1 + list2)\n",
    "# [1, 2, 3, 4, 5, 'я', 'забрался', 'под', 'кровать']\n",
    "#1"
   ]
  },
  {
   "cell_type": "code",
   "execution_count": 25,
   "id": "ffaa961e-34a1-41b9-8ea2-b3bc88d15c08",
   "metadata": {},
   "outputs": [
    {
     "name": "stdout",
     "output_type": "stream",
     "text": [
      "[1, 2, 1, 2, 1, 2, 1, 2, 1, 2]\n"
     ]
    }
   ],
   "source": [
    "list1 = [1, 2]\n",
    "print(list1 * 5)\n",
    "# [1, 2, 1, 2, 1, 2, 1, 2, 1, 2]\n",
    "#1"
   ]
  },
  {
   "cell_type": "code",
   "execution_count": 27,
   "id": "c27d9cfe-979c-46bc-9915-fb4bae48ff62",
   "metadata": {},
   "outputs": [],
   "source": [
    "favorite_sports = ['Ральф Уильямс, Футбол', \n",
    "'Майкл Типпетт, Баскетбол',\n",
    "'Эдвард Элгар, Бейсбол',\n",
    "'Ребекка Кларк, Нетбол', \n",
    "'Этель Смит, Бадминтон', 'Фрэнк Бридж, Регби'] "
   ]
  },
  {
   "cell_type": "code",
   "execution_count": 28,
   "id": "1fb0ea7a-fdbd-4c83-b650-cf85d0d35fb0",
   "metadata": {},
   "outputs": [],
   "source": [
    "favorite_sports = {'Ральф Уильямс': 'Футбол', 'Майкл Типпетт': 'Баскетбол',\n",
    "'Эдвард Элгар': 'Бейсбол',\n",
    "'Ребекка Кларк': 'Нетбол', \n",
    "'Этель Смит': 'Бадминтон', 'Фрэнк Бридж': 'Регби'} \n"
   ]
  },
  {
   "cell_type": "code",
   "execution_count": 29,
   "id": "555e9f99-a4a4-4c29-84d9-8f93357adfda",
   "metadata": {},
   "outputs": [
    {
     "name": "stdout",
     "output_type": "stream",
     "text": [
      "Нетбол\n"
     ]
    }
   ],
   "source": [
    "print(favorite_sports['Ребекка Кларк'])\n",
    "# Нетбол\n",
    "#1"
   ]
  },
  {
   "cell_type": "code",
   "execution_count": 30,
   "id": "5f1ceeb6-745f-4d1b-aaae-4f44b9712996",
   "metadata": {},
   "outputs": [
    {
     "name": "stdout",
     "output_type": "stream",
     "text": [
      "{'Ральф Уильямс': 'Футбол', 'Майкл Типпетт': 'Баскетбол', 'Эдвард Элгар': 'Бейсбол', 'Ребекка Кларк': 'Нетбол', 'Фрэнк Бридж': 'Регби'}\n"
     ]
    }
   ],
   "source": [
    "del favorite_sports['Этель Смит']\n",
    "print(favorite_sports)\n",
    "#{'Ральф Уильямс': 'Футбол', 'Майкл Типпетт': 'Баскетбол','Эдвард Элгар': 'Бейсбол', 'Ребекка Кларк': 'Нетбол', 'Фрэнк Бридж': 'Регби'} \n",
    "#1"
   ]
  },
  {
   "cell_type": "code",
   "execution_count": 31,
   "id": "37cd79f8-2647-4155-a0a9-b097216ffc59",
   "metadata": {},
   "outputs": [
    {
     "name": "stdout",
     "output_type": "stream",
     "text": [
      "{'Ральф Уильямс': 'Хоккей нальду', 'Майкл Типпетт': 'Баскетбол', 'Эдвард Элгар': 'Бейсбол', 'Ребекка Кларк': 'Нетбол', 'Фрэнк Бридж': 'Регби'}\n"
     ]
    }
   ],
   "source": [
    "favorite_sports['Ральф Уильямс'] = 'Хоккей нальду'\n",
    "print(favorite_sports)\n",
    "#{'Ральф Уильямс': 'Хоккей нальду', 'Майкл Типпетт': 'Баскетбол','Эдвард Элгар': 'Бейсбол', 'Ребекка Кларк': 'Нетбол', 'Фрэнк Бридж': 'Регби'}\n",
    "#1"
   ]
  },
  {
   "cell_type": "code",
   "execution_count": 32,
   "id": "1e548a31-350b-4d07-a2a9-53b1b91ffc76",
   "metadata": {},
   "outputs": [],
   "source": [
    "age = 13\n",
    "if age > 20:\n",
    "    print('Как-то вы староваты!')\n",
    "# Ничего не выведет\n",
    "#1"
   ]
  },
  {
   "cell_type": "code",
   "execution_count": 33,
   "id": "8847c526-746d-48bf-b483-74b4fc718c72",
   "metadata": {},
   "outputs": [],
   "source": [
    "age = 10\n",
    "if age > 10:\n",
    "    print('Вы слишком стары для моих шуток!')\n",
    "# Ничего не выведет\n",
    "#1"
   ]
  },
  {
   "cell_type": "code",
   "execution_count": 34,
   "id": "c9dc8a43-e4b4-40c9-a551-7129ab886a50",
   "metadata": {},
   "outputs": [
    {
     "name": "stdout",
     "output_type": "stream",
     "text": [
      "Тсс! Это секрет.\n"
     ]
    }
   ],
   "source": [
    "age = 8\n",
    "if age == 12:\n",
    "    print(\"Свинья шлепнулась в грязь!\")\n",
    "else:\n",
    "    print(\"Тсс! Это секрет.\")\n",
    "#Тсс! Это секрет.\n",
    "#1"
   ]
  },
  {
   "cell_type": "code",
   "execution_count": 35,
   "id": "b5fc994c-3f20-4aa6-ba78-763929eed54e",
   "metadata": {},
   "outputs": [
    {
     "name": "stdout",
     "output_type": "stream",
     "text": [
      "Что сказал 0 числу 8?\n",
      "Привет, ребята!\n",
      "13 + 49 + 84 + 155 + 97: что получится? Головная боль!\n"
     ]
    }
   ],
   "source": [
    "age = 12\n",
    "if age == 10:\n",
    "    print(\"Что выйдет, если клюква наденет штаны?\")\n",
    "    print(\"Брюква!\")\n",
    "elif age == 11:\n",
    "    print(\"Что сказала зеленая виноградина синей виноградине?\")\n",
    "    print(\"Дыши! Дыши!\") \n",
    "elif age == 12:\n",
    "    print(\"Что сказал 0 числу 8?\")\n",
    "    print(\"Привет, ребята!\")\n",
    "elif age == 13:\n",
    "    print(\"Что такое: напотолке сидит ихохочет?\")\n",
    "    print(\"Муха-хохотуха!\") \n",
    "else: \n",
    "    print(\"Что-что?\")\n",
    "if age == 10 or age == 11 or age == 12 or age == 13:\n",
    "    print('13 + 49 + 84 + 155 + 97: что получится? Головная боль!') \n",
    "else: \n",
    "    print('Что-что?')\n",
    "#Что сказал 0 числу 8?\n",
    "#Привет, ребята!\n",
    "#13 + 49 + 84 + 155 + 97: что получится? Головная боль!\n",
    "#1"
   ]
  },
  {
   "cell_type": "code",
   "execution_count": 36,
   "id": "879fd1dc-5e51-49bd-ac41-e844ab9264e5",
   "metadata": {},
   "outputs": [
    {
     "name": "stdout",
     "output_type": "stream",
     "text": [
      "13 + 49 + 84 + 155 + 97: что получится? Головная боль!\n"
     ]
    }
   ],
   "source": [
    "if age >= 10 and age <= 13:\n",
    "    print('13 + 49 + 84 + 155 + 97: что получится? Головная боль!') \n",
    "else: \n",
    "    print('Что-что?')\n",
    "#13 + 49 + 84 + 155 + 97: что получится? Головная боль!\n",
    "#1"
   ]
  },
  {
   "cell_type": "code",
   "execution_count": 37,
   "id": "9b54685c-d9e5-4142-bd81-62433928fee2",
   "metadata": {},
   "outputs": [
    {
     "name": "stdout",
     "output_type": "stream",
     "text": [
      "None\n"
     ]
    }
   ],
   "source": [
    "myval = None\n",
    "print(myval)\n",
    "#ничего не выведет\n",
    "#2"
   ]
  },
  {
   "cell_type": "code",
   "execution_count": 38,
   "id": "9579b12f-b476-4fb1-bf9c-620161add0a1",
   "metadata": {},
   "outputs": [
    {
     "name": "stdout",
     "output_type": "stream",
     "text": [
      "В переменной myval ничего нет\n"
     ]
    }
   ],
   "source": [
    "myval = None\n",
    "if myval == None:\n",
    "    print(\"В переменной myval ничего нет\")\n",
    "#В переменной myval ничего нет\n",
    "#1"
   ]
  },
  {
   "cell_type": "code",
   "execution_count": 39,
   "id": "e36c32c8-991c-4151-87d1-6b09e77d2b23",
   "metadata": {},
   "outputs": [
    {
     "name": "stdout",
     "output_type": "stream",
     "text": [
      "Как лучше всего общаться смонстром?\n",
      "Издалека!\n"
     ]
    }
   ],
   "source": [
    "age = 10\n",
    "if age == 10:\n",
    "    print(\"Как лучше всего общаться смонстром?\") \n",
    "    print(\"Издалека!\")\n",
    "#Как лучше всего общаться смонстром?\n",
    "#Издалека!\n",
    "#1"
   ]
  },
  {
   "cell_type": "code",
   "execution_count": 40,
   "id": "7f0f20b7-ae92-4107-a8af-7042e6c9a6a3",
   "metadata": {},
   "outputs": [],
   "source": [
    "age = '10'\n",
    "if age == 10:\n",
    "    print(\"Как лучше всего общаться смонстром?\")\n",
    "    print(\"Издалека!\") \n",
    "#ничего не выведет\n",
    "#1"
   ]
  },
  {
   "cell_type": "code",
   "execution_count": 42,
   "id": "65753e3c-3c9c-46cd-998f-5f386b5ea42c",
   "metadata": {},
   "outputs": [],
   "source": [
    "age = '10'\n",
    "converted_age = int(age)\n",
    "#Из строчного age в целочисленный conv_age"
   ]
  },
  {
   "cell_type": "code",
   "execution_count": 43,
   "id": "105bb73b-0e43-48d5-ac97-d7abcbed6fa5",
   "metadata": {},
   "outputs": [],
   "source": [
    "age = 10 \n",
    "converted_age = str(age)\n",
    "#наоборот"
   ]
  },
  {
   "cell_type": "code",
   "execution_count": 44,
   "id": "c6ecafd3-a54c-4236-9efa-39cb7f4050d1",
   "metadata": {},
   "outputs": [],
   "source": [
    "age = '10'\n",
    "converted_age = int(age)\n",
    "#Из строчного age в целочисленный conv_age"
   ]
  },
  {
   "cell_type": "code",
   "execution_count": 45,
   "id": "33503179-0471-4d0a-a05e-7a9c39c2be57",
   "metadata": {},
   "outputs": [
    {
     "name": "stdout",
     "output_type": "stream",
     "text": [
      "Как лучше всего общаться смонстром?\n",
      "Издалека!\n"
     ]
    }
   ],
   "source": [
    "if converted_age == 10:\n",
    "    print(\"Как лучше всего общаться смонстром?\")\n",
    "    print(\"Издалека!\") \n",
    "#Как лучше всего общаться смонстром?\n",
    "#Издалека!\n",
    "#1"
   ]
  },
  {
   "cell_type": "code",
   "execution_count": 46,
   "id": "587b19c3-cae0-4bad-be5c-7483fa628820",
   "metadata": {},
   "outputs": [
    {
     "ename": "ValueError",
     "evalue": "invalid literal for int() with base 10: '10.5'",
     "output_type": "error",
     "traceback": [
      "\u001b[0;31m---------------------------------------------------------------------------\u001b[0m",
      "\u001b[0;31mValueError\u001b[0m                                Traceback (most recent call last)",
      "Cell \u001b[0;32mIn[46], line 2\u001b[0m\n\u001b[1;32m      1\u001b[0m age \u001b[38;5;241m=\u001b[39m \u001b[38;5;124m'\u001b[39m\u001b[38;5;124m10.5\u001b[39m\u001b[38;5;124m'\u001b[39m\n\u001b[0;32m----> 2\u001b[0m converted_age \u001b[38;5;241m=\u001b[39m \u001b[38;5;28;43mint\u001b[39;49m\u001b[43m(\u001b[49m\u001b[43mage\u001b[49m\u001b[43m)\u001b[49m\n",
      "\u001b[0;31mValueError\u001b[0m: invalid literal for int() with base 10: '10.5'"
     ]
    }
   ],
   "source": [
    "age = '10.5'\n",
    "converted_age = int(age)\n",
    "#выдаст ошибку\n",
    "#1"
   ]
  },
  {
   "cell_type": "code",
   "execution_count": 47,
   "id": "7e72e8c2-7e0e-4ace-b7dd-26e55e40c4b3",
   "metadata": {},
   "outputs": [
    {
     "name": "stdout",
     "output_type": "stream",
     "text": [
      "10.5\n"
     ]
    }
   ],
   "source": [
    "age = '10.5'\n",
    "converted_age = float(age)\n",
    "print(converted_age)\n",
    "#10.5\n",
    "#1"
   ]
  },
  {
   "cell_type": "code",
   "execution_count": 48,
   "id": "c203a7ce-07be-459b-8407-1ea903034802",
   "metadata": {},
   "outputs": [
    {
     "ename": "ValueError",
     "evalue": "invalid literal for int() with base 10: 'десять'",
     "output_type": "error",
     "traceback": [
      "\u001b[0;31m---------------------------------------------------------------------------\u001b[0m",
      "\u001b[0;31mValueError\u001b[0m                                Traceback (most recent call last)",
      "Cell \u001b[0;32mIn[48], line 2\u001b[0m\n\u001b[1;32m      1\u001b[0m age \u001b[38;5;241m=\u001b[39m \u001b[38;5;124m'\u001b[39m\u001b[38;5;124mдесять\u001b[39m\u001b[38;5;124m'\u001b[39m\n\u001b[0;32m----> 2\u001b[0m converted_age \u001b[38;5;241m=\u001b[39m \u001b[38;5;28;43mint\u001b[39;49m\u001b[43m(\u001b[49m\u001b[43mage\u001b[49m\u001b[43m)\u001b[49m\n\u001b[1;32m      3\u001b[0m \u001b[38;5;66;03m#выдаст ошибку\u001b[39;00m\n",
      "\u001b[0;31mValueError\u001b[0m: invalid literal for int() with base 10: 'десять'"
     ]
    }
   ],
   "source": [
    "age = 'десять'\n",
    "converted_age = int(age)\n",
    "#выдаст ошибку\n",
    "#1"
   ]
  },
  {
   "cell_type": "code",
   "execution_count": 49,
   "id": "f57dde92-dbc6-4152-9c30-3ea9368b47f8",
   "metadata": {},
   "outputs": [
    {
     "name": "stdout",
     "output_type": "stream",
     "text": [
      "привет\n",
      "привет\n",
      "привет\n",
      "привет\n",
      "привет\n"
     ]
    }
   ],
   "source": [
    "for x in range(0, 5): \n",
    "    print('привет')\n",
    "#ничего не выдаст (пардон, затупил))\n",
    "#2"
   ]
  },
  {
   "cell_type": "code",
   "execution_count": 50,
   "id": "7f551e0b-fc8e-4dbb-8569-07b2a5d6e822",
   "metadata": {},
   "outputs": [
    {
     "name": "stdout",
     "output_type": "stream",
     "text": [
      "[10, 11, 12, 13, 14, 15, 16, 17, 18, 19]\n"
     ]
    }
   ],
   "source": [
    "print(list(range(10, 20)))\n",
    "# [10, 11, 12, 13, 14, 15, 16, 17, 18, 19]\n",
    "#1"
   ]
  },
  {
   "cell_type": "code",
   "execution_count": 51,
   "id": "db0cd2ce-71c6-4d66-b35b-0a11e53609ea",
   "metadata": {},
   "outputs": [
    {
     "name": "stdout",
     "output_type": "stream",
     "text": [
      "привет 0\n",
      "привет 1\n",
      "привет 2\n",
      "привет 3\n",
      "привет 4\n"
     ]
    }
   ],
   "source": [
    "for x in range(0, 5):\n",
    "    print('привет %s' % x)\n",
    "# привет %s 0\n",
    "# привет %s 1\n",
    "# привет %s 2\n",
    "# привет %s 3\n",
    "# привет %s 4\n",
    "#1"
   ]
  },
  {
   "cell_type": "code",
   "execution_count": 52,
   "id": "47d6fdb1-e852-4eb0-8890-409b53ca8a2b",
   "metadata": {},
   "outputs": [
    {
     "name": "stdout",
     "output_type": "stream",
     "text": [
      "паучьи лапки\n",
      "жабий палец\n",
      "язык улитки\n",
      "крыло летучей мыши\n",
      "жир слизня\n",
      "медвежий коготь\n"
     ]
    }
   ],
   "source": [
    "wizard_list = ['паучьи лапки', 'жабий палец', 'язык улитки', 'крыло летучей мыши', 'жир слизня', 'медвежий коготь'] \n",
    "for i in wizard_list:\n",
    "    print(i)\n",
    "# паучьи лапки\n",
    "# жабий палец\n",
    "# язык улитки\n",
    "# крыло летучей мыши\n",
    "# жир слизня\n",
    "# медвежий коготь\n",
    "#1"
   ]
  },
  {
   "cell_type": "code",
   "execution_count": 53,
   "id": "55b4c692-2093-4280-83b5-b5d658b63c0d",
   "metadata": {},
   "outputs": [
    {
     "name": "stdout",
     "output_type": "stream",
     "text": [
      "огромные\n",
      "огромные\n",
      "волосатые\n",
      "штаны\n",
      "волосатые\n",
      "огромные\n",
      "волосатые\n",
      "штаны\n",
      "штаны\n",
      "огромные\n",
      "волосатые\n",
      "штаны\n"
     ]
    }
   ],
   "source": [
    "hugehairypants = ['огромные', 'волосатые', 'штаны']\n",
    "for i in hugehairypants:\n",
    "    print(i)\n",
    "    for j in hugehairypants:\n",
    "        print(j)\n",
    "# огромные огромные волосатые штаны\n",
    "# волосатые огромные волосатые штаны\n",
    "# штаны огромные волосатые штаны\n",
    "#2"
   ]
  },
  {
   "cell_type": "code",
   "execution_count": 55,
   "id": "b3b92f74-aace-4f11-9694-fcf7add112e5",
   "metadata": {},
   "outputs": [
    {
     "name": "stdout",
     "output_type": "stream",
     "text": [
      "Неделя 1 = 87\n",
      "Неделя 2 = 154\n",
      "Неделя 3 = 221\n",
      "Неделя 4 = 288\n"
     ]
    }
   ],
   "source": [
    "found_coins = 20\n",
    "magic_coins = 70\n",
    "stolen_coins = 3\n",
    "coins = found_coins\n",
    "for week in range(1, 5):\n",
    "        coins = coins + magic_coins - stolen_coins\n",
    "        print('Неделя %s = %s' % (week, coins))\n",
    "# Неделя 1 = 87\n",
    "# Неделя 2 = 174\n",
    "# Неделя 3 = 261\n",
    "# Неделя 4 = 348\n",
    "#2"
   ]
  },
  {
   "cell_type": "code",
   "execution_count": 56,
   "id": "65216ed8-5519-4837-8960-4b159a59c1ac",
   "metadata": {},
   "outputs": [
    {
     "name": "stdout",
     "output_type": "stream",
     "text": [
      "46 81\n",
      "47 82\n",
      "48 83\n",
      "49 84\n",
      "50 85\n"
     ]
    }
   ],
   "source": [
    "x = 45\n",
    "y = 80\n",
    "while x < 50 and y < 100: \n",
    "    x=x+ 1\n",
    "    y=y+ 1 \n",
    "    print(x, y) \n",
    "# 46 81\n",
    "# 47 82\n",
    "# 48 83\n",
    "# 49 84\n",
    "#2"
   ]
  },
  {
   "cell_type": "code",
   "execution_count": 57,
   "id": "47df4131-d933-4c23-a483-df822fb22934",
   "metadata": {},
   "outputs": [
    {
     "name": "stdout",
     "output_type": "stream",
     "text": [
      "привет 0\n"
     ]
    }
   ],
   "source": [
    "for x in range(0, 20):\n",
    "    print('привет %s' % x)\n",
    "    if x < 9:\n",
    "        break \n",
    "#привет 0\n",
    "#1"
   ]
  },
  {
   "cell_type": "code",
   "execution_count": 58,
   "id": "b8f4423c-784f-4b39-8f69-bc6d7a8bf9f0",
   "metadata": {},
   "outputs": [
    {
     "name": "stdout",
     "output_type": "stream",
     "text": [
      "Привет, Мэри\n"
     ]
    }
   ],
   "source": [
    "def testfunc(myname):\n",
    "              print('Привет, %s' % myname)\n",
    "testfunc('Мэри')\n",
    "#Привет, Мэри\n",
    "#1"
   ]
  },
  {
   "cell_type": "code",
   "execution_count": 59,
   "id": "3520ad8e-1bc4-46e5-823e-e836fe4a54f7",
   "metadata": {},
   "outputs": [
    {
     "name": "stdout",
     "output_type": "stream",
     "text": [
      "Привет, Мэри Смит\n"
     ]
    }
   ],
   "source": [
    "def testfunc(fname, lname):\n",
    "              print('Привет, %s %s' % (fname, lname))\n",
    "testfunc('Мэри', 'Смит')\n",
    "#Привет, Мэри Смит\n",
    "#1"
   ]
  },
  {
   "cell_type": "code",
   "execution_count": 61,
   "id": "5e4483c0-1531-4b91-96fa-986dcb4a925f",
   "metadata": {},
   "outputs": [
    {
     "name": "stdout",
     "output_type": "stream",
     "text": [
      "15\n"
     ]
    }
   ],
   "source": [
    "def savings(pocket_money, paper_route, spending):\n",
    "              return pocket_money + paper_route - spending\n",
    "print(savings(10, 10, 5))\n",
    "#15\n",
    "#1"
   ]
  },
  {
   "cell_type": "code",
   "execution_count": 62,
   "id": "96f5bac1-643e-40af-b112-65493a78cdec",
   "metadata": {},
   "outputs": [
    {
     "name": "stdout",
     "output_type": "stream",
     "text": [
      "Sun Mar  3 23:09:59 2024\n"
     ]
    }
   ],
   "source": [
    "\n",
    "import time\n",
    "print(time.asctime())\n",
    "#выдаст текущие дату и время\n",
    "#1"
   ]
  },
  {
   "cell_type": "code",
   "execution_count": null,
   "id": "1ee80ec8-3b8e-41b5-81f2-5b223b6a5aa1",
   "metadata": {},
   "outputs": [],
   "source": []
  }
 ],
 "metadata": {
  "kernelspec": {
   "display_name": "Python 3 (ipykernel)",
   "language": "python",
   "name": "python3"
  },
  "language_info": {
   "codemirror_mode": {
    "name": "ipython",
    "version": 3
   },
   "file_extension": ".py",
   "mimetype": "text/x-python",
   "name": "python",
   "nbconvert_exporter": "python",
   "pygments_lexer": "ipython3",
   "version": "3.10.10"
  }
 },
 "nbformat": 4,
 "nbformat_minor": 5
}
