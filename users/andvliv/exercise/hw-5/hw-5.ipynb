{
 "cells": [
  {
   "cell_type": "code",
   "execution_count": 1,
   "id": "c973b8a7-68f6-4029-881e-a944edc01a62",
   "metadata": {},
   "outputs": [
    {
     "name": "stdout",
     "output_type": "stream",
     "text": [
      "{1, 3, 4, 5, 6}\n",
      "YES\n"
     ]
    }
   ],
   "source": [
    "#PART1\n",
    "#Множества \n",
    "#Создайте множество set1 из целых чисел: 1, 2, 3, 4, 5.\n",
    "set1 = {1, 2, 3, 4, 5}\n",
    "#Добавьте в это множество элемент 6.\n",
    "set1.add(6)\n",
    "#Удалите элемент 2 из множества.\n",
    "set1.discard(2)\n",
    "#Проверьте, содержит ли множество элемент 3.\n",
    "print(set1)\n",
    "if 3 in set1:\n",
    "    print('YES')\n",
    "else:\n",
    "    print('множество не содержит 3')"
   ]
  },
  {
   "cell_type": "code",
   "execution_count": 2,
   "id": "bfd92510-6ff0-414e-b56c-f7a13889bff4",
   "metadata": {},
   "outputs": [
    {
     "name": "stdout",
     "output_type": "stream",
     "text": [
      "{1, 3, 4, 5, 6, 7, 8}\n",
      "{1, 3}\n"
     ]
    }
   ],
   "source": [
    "#Создайте второе множество set2 с элементами 4, 5, 6, 7, 8.\n",
    "set2 = {4, 5, 6, 7, 8}\n",
    "#Найдите объединение множеств set1 и set2.\n",
    "set_union = set1 | set2\n",
    "print(set_union)\n",
    "#Найдите разность множеств set1 и set2.\n",
    "print(set1 - set2)\n"
   ]
  },
  {
   "cell_type": "code",
   "execution_count": 3,
   "id": "13a14362-12ee-4206-a22c-16d83075bcf5",
   "metadata": {},
   "outputs": [
    {
     "name": "stdout",
     "output_type": "stream",
     "text": [
      "{'оранжевый', 'зеленый', 'синий', 'голубой'}\n",
      "{'оранжевый', 'фиолетовый', 'желтый', 'красный', 'зеленый', 'синий', 'Мальвиновый', 'голубой'}\n"
     ]
    }
   ],
   "source": [
    "#Создайте два множества set1 и set2, содержащие цвета радуги: \"красный\", \"оранжевый\", \"желтый\", \"зеленый\", \"голубой\", \"синий\", \"фиолетовый\" и  \"оранжевый\", \"зеленый\", \"голубой\", \"синий\", \"Мальвиновый\".\n",
    "set_words_1 = {\"красный\", \"оранжевый\", \"желтый\", \"зеленый\", \"голубой\", \"синий\", \"фиолетовый\"}\n",
    "set_words_2 = {\"оранжевый\", \"зеленый\", \"голубой\", \"синий\", \"Мальвиновый\"}\n",
    "#Найдите пересечение множеств set1 и set2.\n",
    "print(set_words_1 & set_words_2)\n",
    "rainbow_color = set_words_1 | set_words_2\n",
    "print(rainbow_color)"
   ]
  },
  {
   "cell_type": "code",
   "execution_count": 1,
   "id": "9c84be1a-c095-4d98-b9c7-97992a8a8c1b",
   "metadata": {},
   "outputs": [
    {
     "name": "stdout",
     "output_type": "stream",
     "text": [
      "{'name': 'Andrey', 'age': 35, 'email': 'andrey.ivanchenko7@gmail.com'}\n"
     ]
    }
   ],
   "source": [
    "#PART2\n",
    "#Словари\n",
    "#Создайте словарь person с ключами \"name\", \"age\" и \"city\" с вашими данными\n",
    "person = {'name': 'Andrey', 'age': 35, 'city': 'Tbilisi'}\n",
    "#Добавьте в словарь новый ключ \"email\" со значением вашего электронного адреса.\n",
    "person['email'] = 'andrey.ivanchenko7@gmail.com'\n",
    "#Удалите ключ \"city\" из словаря.\n",
    "del person['city']\n",
    "print(person)"
   ]
  },
  {
   "cell_type": "code",
   "execution_count": 5,
   "id": "c814ac41-04f8-43b4-b619-d31c91fbcd36",
   "metadata": {},
   "outputs": [
    {
     "name": "stdout",
     "output_type": "stream",
     "text": [
      "{'яблоко': 5, 'банан': 13, 'апельсин': 7}\n"
     ]
    }
   ],
   "source": [
    "#Создайте словарь inventory с товарами \"яблоко\": 5, \"банан\": 10, \"апельсин\": 7.\n",
    "inventory = {\"яблоко\": 5, \"банан\": 10, \"апельсин\": 7}\n",
    "#Увеличьте количество \"бананов\" в инвентаре на 3.\n",
    "inventory['банан'] = 13\n",
    "print(inventory)"
   ]
  },
  {
   "cell_type": "code",
   "execution_count": 4,
   "id": "46a62241-fb81-4791-8c2c-9885f2e67bc2",
   "metadata": {},
   "outputs": [
    {
     "name": "stdout",
     "output_type": "stream",
     "text": [
      "яблоко 1.5\n",
      "банан 2\n",
      "апельсин 1.2\n"
     ]
    },
    {
     "ename": "KeyError",
     "evalue": "'томат'",
     "output_type": "error",
     "traceback": [
      "\u001b[0;31m---------------------------------------------------------------------------\u001b[0m",
      "\u001b[0;31mKeyError\u001b[0m                                  Traceback (most recent call last)",
      "Cell \u001b[0;32mIn[4], line 7\u001b[0m\n\u001b[1;32m      5\u001b[0m \u001b[38;5;28;01mfor\u001b[39;00m i \u001b[38;5;129;01min\u001b[39;00m fruits_prices:\n\u001b[1;32m      6\u001b[0m     \u001b[38;5;28mprint\u001b[39m(i, fruits_prices[i])\n\u001b[0;32m----> 7\u001b[0m \u001b[38;5;28;01mdel\u001b[39;00m fruits_prices[\u001b[38;5;124m'\u001b[39m\u001b[38;5;124mтомат\u001b[39m\u001b[38;5;124m'\u001b[39m]\n\u001b[1;32m      8\u001b[0m fruits_prices\n",
      "\u001b[0;31mKeyError\u001b[0m: 'томат'"
     ]
    }
   ],
   "source": [
    "#Создайте новый словарь prices, где цена для каждого продукта задана {\"яблоко\": 1.5, \"банан\": 2, \"апельсин\": 1.2}.\n",
    "fruits_prices = {\"яблоко\": 1.5, \"банан\": 2, \"апельсин\": 1.2}\n",
    "#Посчитайте стоимость всех фруктов, имеющихся в наличии\n",
    "#Удалите \"Томат\" из словаря fruits_prices.\n",
    "for i in fruits_prices:\n",
    "    print(i, fruits_prices[i])\n",
    "del fruits_prices['томат']\n",
    "fruits_prices"
   ]
  },
  {
   "cell_type": "code",
   "execution_count": 5,
   "id": "a5a17cab-726c-4c15-a2b9-45bd8f144428",
   "metadata": {},
   "outputs": [
    {
     "data": {
      "text/plain": [
       "{'Иванов': 22, 'Сидоров': 23, 'Смирнов': 20}"
      ]
     },
     "execution_count": 5,
     "metadata": {},
     "output_type": "execute_result"
    }
   ],
   "source": [
    "#Создайте словарь students с данными о студентах {\"Иванов\": 22, \"Петрова\": 13, \"Сидоров\": 23}.\n",
    "students = {\"Иванов\": 22, \"Петров\": 13, \"Сидоров\": 23}\n",
    "#Добавьте нового студента \"Смирнова\" возрастом 20 лет в словарь.\n",
    "students['Смирнов'] = 20\n",
    "del students['Петров']\n",
    "students"
   ]
  },
  {
   "cell_type": "code",
   "execution_count": 7,
   "id": "5899529f-a951-41ca-ba00-b667d5a500b3",
   "metadata": {},
   "outputs": [
    {
     "name": "stdout",
     "output_type": "stream",
     "text": [
      "Иванов Совершеннолетний\n",
      "Сидоров Совершеннолетний\n",
      "Смирнов Совершеннолетний\n"
     ]
    }
   ],
   "source": [
    "#PART 3\n",
    "#Условные операторы \n",
    "#На основе значения возраста из словаря person, выведите сообщение \"Совершеннолетний\" или \"Несовершеннолетний\".\n",
    "# Comment: видимо, имеется ввиду словарь students?\n",
    "for i in students:\n",
    "    if students[i] > 17:\n",
    "        print(i, 'Совершеннолетний')\n",
    "    else:\n",
    "        print(i, 'Несовершеннолетний')"
   ]
  },
  {
   "cell_type": "code",
   "execution_count": 8,
   "id": "1b7cb662-8334-4527-a39c-904a81f8b3d8",
   "metadata": {},
   "outputs": [
    {
     "name": "stdout",
     "output_type": "stream",
     "text": [
      "Множества равны\n"
     ]
    }
   ],
   "source": [
    "#Сравните длину множества set1 с другим множеством set2 и выведите сообщение о том, какое из множеств больше.\n",
    "if len(set1) > len(set2):\n",
    "    print('set1 больше set2')\n",
    "elif len(set1) == len(set2):\n",
    "    print('Множества равны')\n",
    "else:\n",
    "    print('set2 больше set1')"
   ]
  },
  {
   "cell_type": "code",
   "execution_count": 9,
   "id": "2902df58-b0a8-49f5-9f80-8f0e1a000b63",
   "metadata": {},
   "outputs": [
    {
     "data": {
      "text/plain": [
       "{'яблоко': 5, 'банан': 13, 'апельсин': 7, 'груша': 3}"
      ]
     },
     "execution_count": 9,
     "metadata": {},
     "output_type": "execute_result"
    }
   ],
   "source": [
    "#Напишите условие, которое проверяет, есть ли \"груша\" в словаре inventory, и если нет, добавляет \"грушу\" с количеством 3.\n",
    "if 'груша' in inventory:\n",
    "    print('груша уже есть')\n",
    "if 'груша' not in inventory:\n",
    "    inventory['груша'] = 3\n",
    "inventory"
   ]
  },
  {
   "cell_type": "code",
   "execution_count": 10,
   "id": "f7f5b628-bd7d-4073-827e-8acc0be856ce",
   "metadata": {},
   "outputs": [
    {
     "name": "stdout",
     "output_type": "stream",
     "text": [
      "банан дорогой товар\n"
     ]
    }
   ],
   "source": [
    "#Выведите сообщение \"Дорогой товар\" для продуктов, цена которых превышает 1.5.\n",
    "for key in prices:\n",
    "    if prices[key] > 1.5:\n",
    "        print(key, 'дорогой товар')"
   ]
  },
  {
   "cell_type": "code",
   "execution_count": 11,
   "id": "087b418b-5249-40cd-97bd-cfd2f6333af8",
   "metadata": {},
   "outputs": [
    {
     "name": "stdout",
     "output_type": "stream",
     "text": [
      "Совершеннолетний\n"
     ]
    }
   ],
   "source": [
    "#Напишите условие, которое проверяет возраст студента \"Иванова\" и выводит сообщение \"Совершеннолетний\" или \"Несовершеннолетний\".\n",
    "if students['Иванов'] >= 18:\n",
    "    print(\"Совершеннолетний\")\n",
    "else:\n",
    "    print(\"Несовершеннолетний\")"
   ]
  },
  {
   "cell_type": "code",
   "execution_count": 12,
   "id": "8139adf2-5578-4ed3-85f1-12b43033d95a",
   "metadata": {},
   "outputs": [
    {
     "name": "stdout",
     "output_type": "stream",
     "text": [
      "1\n",
      "3\n",
      "4\n",
      "5\n",
      "6\n"
     ]
    }
   ],
   "source": [
    "#PART4\n",
    "#Циклы \n",
    "#Напишите цикл for, который выводит все элементы множества set1.\n",
    "list1 = list(set1)\n",
    "for i in range(len(list1)):\n",
    "    print(list1[i])"
   ]
  },
  {
   "cell_type": "code",
   "execution_count": 13,
   "id": "64d6bbea-3a8e-442c-9522-45934a179381",
   "metadata": {},
   "outputs": [
    {
     "name": "stdout",
     "output_type": "stream",
     "text": [
      "1\n",
      "4\n",
      "9\n",
      "16\n",
      "25\n"
     ]
    }
   ],
   "source": [
    "#Напишите цикл while, который выводит квадраты чисел от 1 до 5.\n",
    "i = 1\n",
    "while i < 6:\n",
    "    print(i**2)\n",
    "    i += 1"
   ]
  },
  {
   "cell_type": "code",
   "execution_count": 14,
   "id": "92a7a762-ea6e-48d2-8c29-27009b1aa215",
   "metadata": {},
   "outputs": [
    {
     "name": "stdout",
     "output_type": "stream",
     "text": [
      "яблоко\n",
      "банан\n",
      "апельсин\n",
      "груша\n"
     ]
    }
   ],
   "source": [
    "#Напишите цикл for, который перебирает все ключи словаря inventory и выводит каждый товар.\n",
    "list_inv = list(inventory)\n",
    "for i in range(len(list_inv)):\n",
    "    print(list_inv[i])"
   ]
  },
  {
   "cell_type": "code",
   "execution_count": 15,
   "id": "ad15c82c-e84e-433c-9514-cfbc105f82f8",
   "metadata": {},
   "outputs": [
    {
     "name": "stdout",
     "output_type": "stream",
     "text": [
      "Иванов 22\n",
      "Сидоров 23\n",
      "Смирнов 20\n"
     ]
    }
   ],
   "source": [
    "#Используя цикл for, выведите всех студентов и их возраст из словаря students.\n",
    "list_students = list(students.items())\n",
    "for i in range(len(list_students)):\n",
    "    print(*list_students[i])"
   ]
  },
  {
   "cell_type": "code",
   "execution_count": 24,
   "id": "25d9799f-7186-42b7-a72d-b5cce7ba12fe",
   "metadata": {},
   "outputs": [
    {
     "data": {
      "text/plain": [
       "{1, 2, 3, 4, 5, 6, 7, 8}"
      ]
     },
     "execution_count": 24,
     "metadata": {},
     "output_type": "execute_result"
    }
   ],
   "source": [
    "#PART 5\n",
    "#Функции\n",
    "#Множества\n",
    "#Создайте функции set_union и set_difference для операций объединения и разности множеств.\n",
    "#  - Функции должны принимать два множества и возвращать соответствующий результат.\n",
    "set1 = {1, 2, 3, 4, 5}\n",
    "set2 = {4, 5, 6, 7, 8}\n",
    "def set_union(set1, set2):\n",
    "    return set1 | set2\n",
    "set_union(set1, set2)"
   ]
  },
  {
   "cell_type": "code",
   "execution_count": 25,
   "id": "8c60502e-b9b1-4b6b-bc59-6de9a008a9ef",
   "metadata": {},
   "outputs": [
    {
     "data": {
      "text/plain": [
       "{1, 2, 3}"
      ]
     },
     "execution_count": 25,
     "metadata": {},
     "output_type": "execute_result"
    }
   ],
   "source": [
    "def set_difference(set1, set2):\n",
    "    return set1 - set2\n",
    "set_difference(set1, set2)"
   ]
  },
  {
   "cell_type": "code",
   "execution_count": 17,
   "id": "bea64d26-8448-485b-8ebb-71c391480b23",
   "metadata": {},
   "outputs": [
    {
     "data": {
      "text/plain": [
       "'no'"
      ]
     },
     "execution_count": 17,
     "metadata": {},
     "output_type": "execute_result"
    }
   ],
   "source": [
    "#Создайте функцию для проверки, является ли одно множество подмножеством другого.\n",
    "def set_subset(set1, set2):\n",
    "    result = 0\n",
    "    if set1 >= set2:\n",
    "        result = 'yes'\n",
    "    else:\n",
    "        result = 'no'\n",
    "    return result\n",
    "set_subset(set1, set2)"
   ]
  },
  {
   "cell_type": "code",
   "execution_count": 10,
   "id": "57dd5548-2f94-4719-a9a5-081d2d839294",
   "metadata": {},
   "outputs": [
    {
     "name": "stdin",
     "output_type": "stream",
     "text": [
      " 3\n",
      " 1 2 3\n",
      " 2 3 4\n",
      " 4 5 6\n"
     ]
    },
    {
     "data": {
      "text/plain": [
       "{'1', '2', '3', '4', '5', '6'}"
      ]
     },
     "execution_count": 10,
     "metadata": {},
     "output_type": "execute_result"
    }
   ],
   "source": [
    "#Создайте функцию для объединения нескольких множеств.\n",
    "n = int(input())\n",
    "union_set = set()\n",
    "sets = []\n",
    "def sets_union(n):\n",
    "    for i in range(n):\n",
    "        set_i = set(input().split())\n",
    "        sets.append(set_i)\n",
    "    union_set = set(sets[0])\n",
    "    for k in range(1, len(sets)):\n",
    "        union_set = union_set | sets[k]\n",
    "    return union_set\n",
    "sets_union(n)"
   ]
  },
  {
   "cell_type": "code",
   "execution_count": 26,
   "id": "e5684c2d-7135-4ec8-894a-c488abc1247e",
   "metadata": {},
   "outputs": [
    {
     "name": "stdin",
     "output_type": "stream",
     "text": [
      " 1\n"
     ]
    },
    {
     "data": {
      "text/plain": [
       "{2, 3, 4, 5}"
      ]
     },
     "execution_count": 26,
     "metadata": {},
     "output_type": "execute_result"
    }
   ],
   "source": [
    "#Создайте функцию для удаления конкретного элемента из множества.\n",
    "n = int(input())\n",
    "def set_remove(set1):\n",
    "    set1.discard(n)\n",
    "    return set1\n",
    "set_remove(set1)"
   ]
  },
  {
   "cell_type": "code",
   "execution_count": 18,
   "id": "6b71369f-1f31-42d2-a3fa-ebabe384c555",
   "metadata": {},
   "outputs": [
    {
     "name": "stdin",
     "output_type": "stream",
     "text": [
      " 3\n",
      " 1 2 3 4\n",
      " 2 3 4 5\n",
      " 3 4 5 6\n"
     ]
    },
    {
     "data": {
      "text/plain": [
       "{'3', '4'}"
      ]
     },
     "execution_count": 18,
     "metadata": {},
     "output_type": "execute_result"
    }
   ],
   "source": [
    "#Создайте функцию для поиска пересечения нескольких множеств.\n",
    "n = int(input())\n",
    "sets = []\n",
    "def inter_sets(n):\n",
    "    for i in range(n):\n",
    "        set_i = set(input().split())\n",
    "        sets.append(set_i)\n",
    "    inter_set = set(sets[0])\n",
    "    for k in range(1, len(sets)):\n",
    "        inter_set = inter_set & sets[k]\n",
    "    return inter_set\n",
    "inter_sets(n)"
   ]
  },
  {
   "cell_type": "code",
   "execution_count": 11,
   "id": "1b80cefb-bb91-4360-b263-a6a2fd69c850",
   "metadata": {},
   "outputs": [
    {
     "name": "stdout",
     "output_type": "stream",
     "text": [
      "множества не равны\n"
     ]
    }
   ],
   "source": [
    "#Создайте функцию для проверки на равенство двух множеств.\n",
    "set1 = {1, 2, 3, 4, 5}\n",
    "set2 = {1, 2, 4, 5, 6}\n",
    "def set_same(set1, set2):\n",
    "    if set1 == set2:\n",
    "        print('множества равны')\n",
    "    else:\n",
    "        print('множества не равны')\n",
    "set_same(set1, set2)"
   ]
  },
  {
   "cell_type": "code",
   "execution_count": 22,
   "id": "9a1604d8-7798-427f-ac4e-e776ac4bb643",
   "metadata": {},
   "outputs": [
    {
     "data": {
      "text/plain": [
       "{1, 2, 3, 4, 5, 6, 7, 8, 10, 11, 12, 13}"
      ]
     },
     "execution_count": 22,
     "metadata": {},
     "output_type": "execute_result"
    }
   ],
   "source": [
    "#Создайте функцию для нахождения объединения трех множеств.\n",
    "set1 = {1, 2, 3, 4, 5}\n",
    "set2 = {4, 5, 6, 7, 8}\n",
    "set3 = {10, 11, 12, 13}\n",
    "def sets3_union(set1, set2, set3):\n",
    "    return set1 | set2 | set3\n",
    "sets3_union(set1, set2, set3)"
   ]
  },
  {
   "cell_type": "code",
   "execution_count": 30,
   "id": "504d21d0-e34d-43db-92ce-b83d0b7e568f",
   "metadata": {},
   "outputs": [
    {
     "data": {
      "text/plain": [
       "'not disjoint'"
      ]
     },
     "execution_count": 30,
     "metadata": {},
     "output_type": "execute_result"
    }
   ],
   "source": [
    "#Создайте функцию для проверки, являются ли два множества дизъюнктными (не имеют общих элементов).\n",
    "def sets_disjoint(set1, set2):\n",
    "    if set1.isdisjoint(set2):\n",
    "        result = 'yes, disjoint'\n",
    "    else:\n",
    "        result = 'not disjoint'\n",
    "    return result\n",
    "sets_disjoint(set1, set2)"
   ]
  },
  {
   "cell_type": "code",
   "execution_count": 31,
   "id": "ee58a45f-0c35-404b-ba3d-6197a2547990",
   "metadata": {},
   "outputs": [
    {
     "data": {
      "text/plain": [
       "{2, 3}"
      ]
     },
     "execution_count": 31,
     "metadata": {},
     "output_type": "execute_result"
    }
   ],
   "source": [
    "#Создайте функцию для нахождения разности двух множеств.\n",
    "def sets_diff(set1, set2):\n",
    "    return set1 - set2\n",
    "sets_diff(set1, set2)"
   ]
  },
  {
   "cell_type": "code",
   "execution_count": 32,
   "id": "cbb41e4a-1dea-4abe-864b-733ae3b88042",
   "metadata": {},
   "outputs": [
    {
     "data": {
      "text/plain": [
       "{2, 3, 6, 7, 8}"
      ]
     },
     "execution_count": 32,
     "metadata": {},
     "output_type": "execute_result"
    }
   ],
   "source": [
    "#Создайте функцию для определения симметрической разности двух множеств.\n",
    "def sets_symm_diff(set1, set2):\n",
    "    return set1 ^ set2\n",
    "sets_symm_diff(set1, set2)"
   ]
  },
  {
   "cell_type": "code",
   "execution_count": 33,
   "id": "14fa0094-470d-4639-907f-2718af7539d2",
   "metadata": {},
   "outputs": [
    {
     "name": "stdin",
     "output_type": "stream",
     "text": [
      " 3\n",
      " 3\n",
      " 4\n",
      " 5\n"
     ]
    },
    {
     "data": {
      "text/plain": [
       "{3, 4, 5}"
      ]
     },
     "execution_count": 33,
     "metadata": {},
     "output_type": "execute_result"
    }
   ],
   "source": [
    "#Создайте функцию create_set для создания множества с заданными элементами.\n",
    "#   - Функция должна принимать переменное количество аргументов и возвращать новое множество.\n",
    "n = int(input())\n",
    "set_new = set()\n",
    "def create_set(set_new):\n",
    "    for i in range(n):\n",
    "        set_new.add(int(input()))\n",
    "    return set_new\n",
    "create_set(set_new)"
   ]
  },
  {
   "cell_type": "code",
   "execution_count": 34,
   "id": "c6848878-d125-49be-854f-ed2f9f626836",
   "metadata": {},
   "outputs": [
    {
     "name": "stdin",
     "output_type": "stream",
     "text": [
      " 2\n",
      " 1\n",
      " Petrov\n",
      " None\n",
      " Andrey\n"
     ]
    },
    {
     "data": {
      "text/plain": [
       "{'Petrov': '1', 'Andrey': 'None'}"
      ]
     },
     "execution_count": 34,
     "metadata": {},
     "output_type": "execute_result"
    }
   ],
   "source": [
    "#Словари\n",
    "#Создайте функцию create_dictionary для создания словаря с заданными ключами и значениями.\n",
    "#   - Функция должна принимать словарь в формате ключ-значение и возвращать созданный словарь.\n",
    "n = int(input())\n",
    "new_dict = {}\n",
    "def create_dictionary(new_dict):\n",
    "    for i in range(n):\n",
    "        new_dict[input()] = input()\n",
    "    return new_dict\n",
    "create_dictionary(new_dict)"
   ]
  },
  {
   "cell_type": "code",
   "execution_count": null,
   "id": "dda9b9c3-ddd4-4d63-a8ca-83f57541f34f",
   "metadata": {},
   "outputs": [],
   "source": [
    "#Напишите функции add_student и remove_student для добавления и удаления студентов из словаря.\n",
    "  # - Функции должны принимать словарь студентов и соответствующие данные для добавления и удаления.\n",
    "n = int(input())\n",
    "m = int(input())\n",
    "add_stud = {}\n",
    "def add_student(add_stud):\n",
    "    for i in range(n):\n",
    "        add_stud[input()] = input()\n",
    "    return add_stud\n",
    "add_student(add_stud)\n",
    "def remove_student(add_stud):\n",
    "    for i in range(m):\n",
    "        del add_stud[input()]\n",
    "    return add_stud\n",
    "remove_student(add_stud)"
   ]
  },
  {
   "cell_type": "code",
   "execution_count": 10,
   "id": "7c2ef140-dcc3-4b7d-a533-88f19a9e47d2",
   "metadata": {},
   "outputs": [
    {
     "data": {
      "text/plain": [
       "{'Petrov': 'happy', 'Ivanov': 'hungry', 'Sidorov': 'angry'}"
      ]
     },
     "execution_count": 10,
     "metadata": {},
     "output_type": "execute_result"
    }
   ],
   "source": [
    "#Создайте функцию для объединения двух словарей.\n",
    "dict1 = {'Petrov': 'fat', 'Ivanov': 'hungry'}\n",
    "dict2 = {'Sidorov': 'angry', 'Petrov': 'happy'}\n",
    "def sets_union(dict1, dict2):\n",
    "    dict1.update(dict2)\n",
    "    return dict1\n",
    "sets_union(dict1, dict2)"
   ]
  },
  {
   "cell_type": "code",
   "execution_count": 11,
   "id": "44fbf733-822a-4fcd-a363-f9d739953677",
   "metadata": {},
   "outputs": [
    {
     "name": "stdin",
     "output_type": "stream",
     "text": [
      " Sidorov\n"
     ]
    },
    {
     "data": {
      "text/plain": [
       "{'Petrov': 'happy', 'Ivanov': 'hungry'}"
      ]
     },
     "execution_count": 11,
     "metadata": {},
     "output_type": "execute_result"
    }
   ],
   "source": [
    "#Создайте функцию для удаления элемента из словаря по заданному ключу.\n",
    "def del_by_key(dict1):\n",
    "    del dict1[input()]\n",
    "    return dict1\n",
    "del_by_key(dict1)"
   ]
  },
  {
   "cell_type": "code",
   "execution_count": 12,
   "id": "9dabc489-a1b1-4ddf-a52d-8c5308954942",
   "metadata": {},
   "outputs": [
    {
     "data": {
      "text/plain": [
       "{'happy': 'Petrov', 'hungry': 'Ivanov'}"
      ]
     },
     "execution_count": 12,
     "metadata": {},
     "output_type": "execute_result"
    }
   ],
   "source": [
    "#Создайте функцию для переворачивания значений и ключей в словаре.\n",
    "new_dict = {}\n",
    "def key_value_reverse(dict1):\n",
    "    for i in dict1:\n",
    "        return {dict1[i]:i for i in dict1}\n",
    "key_value_reverse(dict1)"
   ]
  },
  {
   "cell_type": "code",
   "execution_count": 22,
   "id": "c260ee35-e7cd-413e-b7f5-e517780df085",
   "metadata": {},
   "outputs": [
    {
     "data": {
      "text/plain": [
       "{'Zeus': 1000, 'Petrov': 20, 'Ivanov': 10, 'Apolon': 500}"
      ]
     },
     "execution_count": 22,
     "metadata": {},
     "output_type": "execute_result"
    }
   ],
   "source": [
    "#Создайте функцию для сортировки словаря по ключам в обратном порядке.\n",
    "dict_test = {'Petrov': 20, 'Ivanov': 10, 'Apolon': 500, 'Zeus': 1000}\n",
    "def sort_reverse(dict_test):\n",
    "    sort_dict = {}\n",
    "    return dict(sorted(dict_test.items(), key=lambda x: x[0], reverse = True))\n",
    "sort_reverse(dict_test)"
   ]
  },
  {
   "cell_type": "code",
   "execution_count": 25,
   "id": "359a236d-6545-4bd5-89dd-003a294c4566",
   "metadata": {},
   "outputs": [
    {
     "data": {
      "text/plain": [
       "1000"
      ]
     },
     "execution_count": 25,
     "metadata": {},
     "output_type": "execute_result"
    }
   ],
   "source": [
    "#Создайте функцию для поиска наибольшего значения в словаре.\n",
    "def dict_max(dict_test):\n",
    "    max_v = 0\n",
    "    for i in dict_test:\n",
    "        if dict_test[i] > max_v:\n",
    "            max_v = dict_test[i]\n",
    "    return max_v\n",
    "dict_max(dict_test)"
   ]
  },
  {
   "cell_type": "code",
   "execution_count": 40,
   "id": "473a8adb-b558-4579-8ad7-03bb8a5fca86",
   "metadata": {},
   "outputs": [
    {
     "name": "stdout",
     "output_type": "stream",
     "text": [
      "Иванов Совершеннолетний\n",
      "Петрова Несовершеннолетний\n",
      "Сидоров Совершеннолетний\n"
     ]
    }
   ],
   "source": [
    "#Условия\n",
    "#Создайте функцию check_age для проверки возраста студента и вывода соответствующего сообщения.\n",
    "#   - Функция должна принимать словарь студентов и имя студента, а затем выводить сообщение о совершеннолетии или несовершеннолетии.\n",
    "students = {\"Иванов\": 22, \"Петрова\": 13, \"Сидоров\": 23}\n",
    "def check_age(students):\n",
    "    for i in students:\n",
    "        if students[i] >= 18:\n",
    "            print(i, 'Совершеннолетний')\n",
    "        else:\n",
    "            print(i, 'Несовершеннолетний')\n",
    "check_age(students)"
   ]
  },
  {
   "cell_type": "code",
   "execution_count": 41,
   "id": "2c3b4247-4435-43ad-a2fb-10b2f73b3dac",
   "metadata": {},
   "outputs": [
    {
     "name": "stdout",
     "output_type": "stream",
     "text": [
      "Длина множество set1 равна длине множества set2\n"
     ]
    }
   ],
   "source": [
    "#Создайте функцию compare_sets_length, которая сравнивает длину двух множеств и выводит информацию о  том, какое из множеств длиннее.\n",
    "#   - Функция должна принимать два множества и выводить соответствующее сообщение.\n",
    "set1 = {1, 2, 3, 4, 5}\n",
    "set2 = {4, 5, 6, 7, 8}\n",
    "def compare_sets_length(set1, set2):\n",
    "    if len(set1) > len(set2):\n",
    "        print('Множество set1 длиннее множества set2')\n",
    "    elif len(set1) == len(set2):\n",
    "        print('Длина множество set1 равна длине множества set2')\n",
    "    elif len(set1) < len(set2):\n",
    "        print('Множество set1 короче множества set2')\n",
    "compare_sets_length(set1, set2)"
   ]
  },
  {
   "cell_type": "code",
   "execution_count": 42,
   "id": "feebef57-1561-42d9-8c08-d183cc24b8a0",
   "metadata": {},
   "outputs": [
    {
     "name": "stdin",
     "output_type": "stream",
     "text": [
      " 5\n"
     ]
    },
    {
     "name": "stdout",
     "output_type": "stream",
     "text": [
      "число n нечётное\n"
     ]
    }
   ],
   "source": [
    "#Создайте функцию для определения четности или нечетности числа.\n",
    "n = int(input())\n",
    "def even_or_no(n):\n",
    "    if n % 2 == 0:\n",
    "        print('число n чётное')\n",
    "    elif n % 2 == 1:\n",
    "        print('число n нечётное')\n",
    "even_or_no(n)"
   ]
  },
  {
   "cell_type": "code",
   "execution_count": 44,
   "id": "0520d73a-8a1a-4be0-80fe-953a77b3b4cc",
   "metadata": {},
   "outputs": [
    {
     "name": "stdin",
     "output_type": "stream",
     "text": [
      " 2024\n"
     ]
    },
    {
     "name": "stdout",
     "output_type": "stream",
     "text": [
      "2024 - високосный год\n"
     ]
    }
   ],
   "source": [
    "#Создайте функцию для определения високосного года.\n",
    "age = int(input())\n",
    "def visokos_age(age):\n",
    "    if age % 4 == 0:\n",
    "        print(age, '- високосный год')\n",
    "    elif age % 4 != 0:\n",
    "        print(age, '- не високосный год')\n",
    "visokos_age(age)"
   ]
  },
  {
   "cell_type": "code",
   "execution_count": 45,
   "id": "bbe92adb-75b1-4c13-8c57-fc57b559db80",
   "metadata": {},
   "outputs": [
    {
     "name": "stdin",
     "output_type": "stream",
     "text": [
      " 4\n",
      " 4\n",
      " 6\n"
     ]
    },
    {
     "name": "stdout",
     "output_type": "stream",
     "text": [
      "Треугольник является равнобедренным\n"
     ]
    }
   ],
   "source": [
    "#Создайте функцию для определения типа треугольника по длинам сторон.\n",
    "s1, s2, s3 = float(input()), float(input()), float(input())\n",
    "def triangle_type(s1, s2, s3):\n",
    "    if s1 == s2 and s2 == s3 and s3 == s1:\n",
    "        print('Треугольник является равносторонним')\n",
    "    elif s1 == s2 or s2 == s3 or s3 == s1:\n",
    "        print('Треугольник является равнобедренным')\n",
    "    elif s1**2 + s2**2 == s3**2 or s2**2 + s3**2 == s1**2 or s1**2 + s3**2 == s2**2:\n",
    "        print('Треугольник является прямоугольным')\n",
    "    elif s1 != s2 and s2 != s3 and s1 != s3:\n",
    "        print('Треугольник является разносторонним')\n",
    "triangle_type(s1, s2, s3)"
   ]
  },
  {
   "cell_type": "code",
   "execution_count": 19,
   "id": "6955b04a-85b9-4de6-80d1-b6202174587a",
   "metadata": {},
   "outputs": [
    {
     "name": "stdin",
     "output_type": "stream",
     "text": [
      " А роза упала на лапу Азора\n"
     ]
    },
    {
     "name": "stdout",
     "output_type": "stream",
     "text": [
      "Yes, palindrom\n"
     ]
    }
   ],
   "source": [
    "#Создайте функцию для проверки, является ли строка палиндромом.\n",
    "sentence = input().lower()\n",
    "sentence = sentence.split()\n",
    "sentence = ''.join(sentence)\n",
    "def palindrom_li(sentence):\n",
    "    if sentence == sentence[::-1]:\n",
    "        print('Yes, palindrom')\n",
    "    else:\n",
    "        print('No, not palindrom')\n",
    "palindrom_li(sentence)"
   ]
  },
  {
   "cell_type": "code",
   "execution_count": 20,
   "id": "b39503c8-f4cf-40d5-8936-4423a59600a9",
   "metadata": {},
   "outputs": [
    {
     "name": "stdin",
     "output_type": "stream",
     "text": [
      " 18:00\n"
     ]
    },
    {
     "name": "stdout",
     "output_type": "stream",
     "text": [
      "день\n"
     ]
    }
   ],
   "source": [
    "#Создайте функцию для определения времени суток по введенному времени (утро, день, вечер, ночь).\n",
    "time = input().split(':')\n",
    "def period_time(time):\n",
    "    if int(time[0]) >= 0 and int(time[0]) < 6:\n",
    "        print('ночь')\n",
    "    elif int(time[0]) >= 6 and int(time[0]) < 10:\n",
    "        print('утро')\n",
    "    elif int(time[0]) >= 10 and int(time[0]) < 19:\n",
    "        print('день')\n",
    "    elif int(time[0]) >= 19 and int(time[0]) < 24:\n",
    "        print('вечер')\n",
    "period_time(time)"
   ]
  },
  {
   "cell_type": "code",
   "execution_count": 21,
   "id": "21ec8661-e9c6-4ca2-b266-15296ede7e03",
   "metadata": {},
   "outputs": [
    {
     "name": "stdin",
     "output_type": "stream",
     "text": [
      " 37\n"
     ]
    },
    {
     "name": "stdout",
     "output_type": "stream",
     "text": [
      "Число 37 простое\n"
     ]
    }
   ],
   "source": [
    "#Создайте функцию, которая определяет, является ли введенное число простым.\n",
    "n = int(input())\n",
    "def prime_number(n):\n",
    "    counter = 0\n",
    "    for i in range(1, n):\n",
    "        if n % i == 0:\n",
    "            counter += 1\n",
    "    if counter <= 1:\n",
    "        print('Число', n, 'простое')\n",
    "    else:\n",
    "        print('Число', n, 'не является простым')\n",
    "prime_number(n)"
   ]
  },
  {
   "cell_type": "code",
   "execution_count": 22,
   "id": "dabc2ff4-8daf-49dc-a04a-d599f2e0862d",
   "metadata": {},
   "outputs": [
    {
     "name": "stdin",
     "output_type": "stream",
     "text": [
      " qwerty\n"
     ]
    },
    {
     "name": "stdout",
     "output_type": "stream",
     "text": [
      "В строке qwerty есть только буквы\n"
     ]
    }
   ],
   "source": [
    "#Создайте функцию для проверки входящей строки на наличие только буквенных символов.\n",
    "s = input()\n",
    "def only_letters(s):\n",
    "    if s.isalpha() == True:\n",
    "        print('В строке', s, 'есть только буквы')\n",
    "    else:\n",
    "        print('В строке', s, 'не только буквы')\n",
    "only_letters(s)"
   ]
  },
  {
   "cell_type": "code",
   "execution_count": null,
   "id": "70c1772c-19c8-4d67-906d-d7c0f654a9e1",
   "metadata": {},
   "outputs": [],
   "source": []
  },
  {
   "cell_type": "code",
   "execution_count": 1,
   "id": "c65b1134-bea1-4adf-a02b-da118debf0ab",
   "metadata": {},
   "outputs": [
    {
     "name": "stdin",
     "output_type": "stream",
     "text": [
      " А роза упала на лапу Азора\n"
     ]
    },
    {
     "name": "stdout",
     "output_type": "stream",
     "text": [
      "Yes, palindrom\n"
     ]
    }
   ],
   "source": [
    "#Создайте функцию, которая определяет, является ли введенное число палиндромом.\n",
    "s = input().lower()\n",
    "s = s.split()\n",
    "s = ''.join(s)\n",
    "def palindrom_li(s):\n",
    "    if s == s[::-1]:\n",
    "        print('Yes, palindrom')\n",
    "    else:\n",
    "        print('No, not palindrom')\n",
    "palindrom_li(s)"
   ]
  },
  {
   "cell_type": "code",
   "execution_count": 25,
   "id": "3a8e7c50-72b8-4d06-8b5a-53166f5fb723",
   "metadata": {},
   "outputs": [
    {
     "name": "stdin",
     "output_type": "stream",
     "text": [
      " 1\n"
     ]
    },
    {
     "data": {
      "text/plain": [
       "'Понедельник'"
      ]
     },
     "execution_count": 25,
     "metadata": {},
     "output_type": "execute_result"
    }
   ],
   "source": [
    "#Создайте функцию для определения дня недели по введенному номеру дня (1 - Понедельник, 2 - Вторник и т.д.)\n",
    "n = int(input())\n",
    "week_set = {1: 'Понедельник', 2: 'Вторник', 3: 'Среда', 4: 'Четверг', 5: 'Пятница', 6: 'Суббота', 7: 'Воскресенье'}\n",
    "def whats_theday(week_set):\n",
    "    return week_set[n]\n",
    "whats_theday(week_set)"
   ]
  },
  {
   "cell_type": "code",
   "execution_count": 26,
   "id": "766bab6a-4a38-48ec-9771-d1fd6ac8040b",
   "metadata": {},
   "outputs": [
    {
     "name": "stdout",
     "output_type": "stream",
     "text": [
      "Иванов 22\n",
      "Сидоров 23\n",
      "Смирнов 20\n"
     ]
    }
   ],
   "source": [
    "#Циклы\n",
    "#Создайте функцию print_students для вывода информации о студентах из словаря.\n",
    "#   - Функция должна принимать словарь студентов и выводить их имена и возраст.\n",
    "def print_students(students):\n",
    "    for key in students:\n",
    "        print(key, students[key])\n",
    "print_students(students)"
   ]
  },
  {
   "cell_type": "code",
   "execution_count": 27,
   "id": "7d3505c1-b90e-41e3-bfa0-f029e96d46ad",
   "metadata": {},
   "outputs": [
    {
     "name": "stdout",
     "output_type": "stream",
     "text": [
      "1\n",
      "4\n",
      "9\n",
      "16\n",
      "25\n"
     ]
    }
   ],
   "source": [
    "#Создайте функцию print_squares_while, которая использует цикл while для вывода квадратов чисел от 1 до 5.\n",
    "n = 1\n",
    "def print_squares_while(n):\n",
    "    while n < 6:\n",
    "        print(n**2)\n",
    "        n += 1   \n",
    "print_squares_while(n)"
   ]
  },
  {
   "cell_type": "code",
   "execution_count": 28,
   "id": "12c39e3e-74fa-49ac-909a-2373330ff6da",
   "metadata": {},
   "outputs": [
    {
     "name": "stdin",
     "output_type": "stream",
     "text": [
      " 5\n"
     ]
    },
    {
     "name": "stdout",
     "output_type": "stream",
     "text": [
      "120\n"
     ]
    }
   ],
   "source": [
    "#Создайте функцию для вывода факториала заданного числа.\n",
    "n = int(input())\n",
    "fact = 1\n",
    "def factorial(n, fact):\n",
    "    while n > 1:\n",
    "        fact = fact*n\n",
    "        n -= 1\n",
    "    print(fact)\n",
    "factorial(n, fact)"
   ]
  },
  {
   "cell_type": "code",
   "execution_count": 29,
   "id": "9a38c51b-f713-4341-b1bd-4d265f974282",
   "metadata": {},
   "outputs": [
    {
     "name": "stdin",
     "output_type": "stream",
     "text": [
      " 4\n",
      " 6\n"
     ]
    },
    {
     "data": {
      "text/plain": [
       "15"
      ]
     },
     "execution_count": 29,
     "metadata": {},
     "output_type": "execute_result"
    }
   ],
   "source": [
    "#Создайте функцию для поиска суммы чисел в заданном диапазоне.\n",
    "x = int(input())\n",
    "y = int(input())\n",
    "def sum_numb(x, y, sum):\n",
    "    sum = 0\n",
    "    if x < y:\n",
    "        for i in range(x, y + 1):\n",
    "            sum += i\n",
    "    elif x > y:\n",
    "        for i in range(y, x + 1):\n",
    "            sum += i\n",
    "    if x == y:\n",
    "        sum = y\n",
    "    return sum\n",
    "sum_numb(x, y, sum)"
   ]
  },
  {
   "cell_type": "code",
   "execution_count": 1,
   "id": "04f3377f-6d3f-4677-b355-edcf13487b1a",
   "metadata": {},
   "outputs": [
    {
     "name": "stdin",
     "output_type": "stream",
     "text": [
      " 13\n"
     ]
    },
    {
     "name": "stdout",
     "output_type": "stream",
     "text": [
      "1\n",
      "2\n",
      "3\n",
      "5\n",
      "7\n",
      "11\n"
     ]
    }
   ],
   "source": [
    "#Создайте функцию для генерации и вывода всех простых чисел до заданного числа.\n",
    "n = int(input())\n",
    "def all_prime_numbers(n):\n",
    "    for i in range(1, n):\n",
    "        counter = 0\n",
    "        for j in range(1, i):   \n",
    "            if i % j == 0:\n",
    "                counter += 1\n",
    "        if counter <= 1:\n",
    "            print(i)\n",
    "all_prime_numbers(n)"
   ]
  },
  {
   "cell_type": "code",
   "execution_count": 59,
   "id": "9b50c21b-71e6-4002-8883-6f719aaf142d",
   "metadata": {},
   "outputs": [
    {
     "name": "stdin",
     "output_type": "stream",
     "text": [
      " aaa BB ,. bb Aaa\n"
     ]
    },
    {
     "name": "stdout",
     "output_type": "stream",
     "text": [
      "Yes, palindrom\n"
     ]
    }
   ],
   "source": [
    "#Создайте функцию для проверки строки на палиндромность без учёта регистра и знаков препинания.\n",
    "s = input().lower()\n",
    "list_s = list(s)\n",
    "def pal_li(s):\n",
    "    s_free_list = []\n",
    "    for i in range(len(list_s)):\n",
    "        if str(list_s[i]).isalnum() == True:\n",
    "           s_free_list.append(list_s[i])\n",
    "    s_free = ''.join(s_free_list)\n",
    "    if s_free == s_free[::-1]:\n",
    "        print('Yes, palindrom')\n",
    "    else:\n",
    "        print('No, not palindrom')\n",
    "pal_li(s)"
   ]
  },
  {
   "cell_type": "code",
   "execution_count": 46,
   "id": "ba593f4e-cab4-435b-81af-43e52d49c1f1",
   "metadata": {},
   "outputs": [
    {
     "name": "stdin",
     "output_type": "stream",
     "text": [
      " 20\n",
      " 25\n"
     ]
    },
    {
     "data": {
      "text/plain": [
       "5"
      ]
     },
     "execution_count": 46,
     "metadata": {},
     "output_type": "execute_result"
    }
   ],
   "source": [
    "#Создайте функцию для поиска наибольшего общего делителя (НОД) двух чисел.\n",
    "n, m = int(input()), int(input())\n",
    "set_n = set()\n",
    "set_m = set()\n",
    "def nod(n, m):\n",
    "    for i in range(1, n + 1):\n",
    "        if n % i == 0:\n",
    "            set_n.add(i)\n",
    "    for k in range(1, m + 1):\n",
    "        if m % k == 0:\n",
    "            set_m.add(k)\n",
    "    return(max(set_n & set_m))\n",
    "nod(n, m)"
   ]
  },
  {
   "cell_type": "code",
   "execution_count": 52,
   "id": "21994031-25e3-4494-8feb-660a27511709",
   "metadata": {},
   "outputs": [
    {
     "name": "stdout",
     "output_type": "stream",
     "text": [
      "Подрасти\n",
      "ещё не старый\n",
      "ещё не старый\n",
      "Дед, заканчивай с политикой\n",
      "Дед, заканчивай с политикой\n",
      "Дед, заканчивай с политикой\n"
     ]
    }
   ],
   "source": [
    "#Общие\n",
    "#Создайте функцию, которая будет запрашивать у пользователя его возраст.\n",
    "#   - Если возраст меньше 18 лет, программа должна выводить сообщение о том, что пользователь несовершеннолетний.\n",
    "#   - Если возраст от 18 до 65 лет, программа должна выводить сообщение о том, что пользователь взрослый.\n",
    "#   - Если возраст больше 65 лет, программа должна выводить сообщение о том, что пользователь пенсионер.\n",
    "people = {'Mark': 15, 'Neil': 22, 'Frank': 35, 'Joe': 82, 'Donald': 79, 'Vladimir': 70}\n",
    "def adult(people):\n",
    "    for value in people.values():\n",
    "        if value < 18:\n",
    "            print('Подрасти')\n",
    "        elif value >= 18 and value <= 65:\n",
    "            print('ещё не старый')\n",
    "        else:\n",
    "            print('Дед, заканчивай с политикой')\n",
    "adult(people)"
   ]
  },
  {
   "cell_type": "code",
   "execution_count": 58,
   "id": "a1b2b547-cbc7-421c-bc05-2d27db96fc89",
   "metadata": {},
   "outputs": [
    {
     "name": "stdin",
     "output_type": "stream",
     "text": [
      " 11 qwer aa ss dd 22\n"
     ]
    },
    {
     "name": "stdout",
     "output_type": "stream",
     "text": [
      "{'1', ' ', '2', 'a', 'd', 's'}\n"
     ]
    }
   ],
   "source": [
    "#Создайте функцию, которая будет проверять введенную пользователем строку на наличие повторяющихся символов.\n",
    "#   - Если такие символы найдены, программа должна выводить их список.\n",
    "s = list(input())\n",
    "set_same = set()\n",
    "def same_symbol(s):\n",
    "    for i in range(len(s)):\n",
    "        for j in range(i + 1, len(s)):\n",
    "            if s[i] == s[j]:\n",
    "                set_same.add(s[j])\n",
    "    print(set_same)\n",
    "same_symbol(s)"
   ]
  },
  {
   "cell_type": "code",
   "execution_count": null,
   "id": "1a001f3e-b53e-4546-b9c6-34a7d96bea45",
   "metadata": {},
   "outputs": [],
   "source": []
  },
  {
   "cell_type": "code",
   "execution_count": null,
   "id": "255a25af-d91d-4777-a95d-e08878bbf325",
   "metadata": {},
   "outputs": [],
   "source": [
    "#ВСЁ, ЧТО БЫЛО НЕДОГРУЖЕНО|НЕДОДЕЛАНО"
   ]
  },
  {
   "cell_type": "code",
   "execution_count": 9,
   "id": "8e7d1236-808c-4a36-a018-36dd96fbe021",
   "metadata": {},
   "outputs": [
    {
     "name": "stdout",
     "output_type": "stream",
     "text": [
      "{'яйца': 40, 'батон хлеба': 10}\n"
     ]
    }
   ],
   "source": [
    "#Задайте словарь Seven11 с таким содержанием {\"яйца\": 40, \"батон хлеба\" : 20}\n",
    "#\t  Жена отправляет мужа-программиста в севенэлевен:\n",
    "#\t — Купи батон хлеба, если будут яйца — возьми десяток.\n",
    "#\tВыведите на экран, сколько хлеба купил муж-программист, и сколько хлеба и яиц осталось в магазине.\n",
    "seven11 = {\"яйца\": 40, \"батон хлеба\" : 20}\n",
    "if seven11['яйца'] > 1:\n",
    "    seven11['батон хлеба'] -= 10\n",
    "print(seven11)"
   ]
  },
  {
   "cell_type": "code",
   "execution_count": 16,
   "id": "8666afd4-e838-44df-8954-9a4025a2424a",
   "metadata": {},
   "outputs": [
    {
     "name": "stdin",
     "output_type": "stream",
     "text": [
      " orange 5 2.5\n"
     ]
    },
    {
     "data": {
      "text/plain": [
       "({'apple': 5, 'banana': 8, 'kiwi': 2, 'lemon': 3, 'orange': 5},\n",
       " {'apple': 2, 'banana': 3, 'kiwi': 3.5, 'lemon': 3.1, 'orange': 2.5})"
      ]
     },
     "execution_count": 16,
     "metadata": {},
     "output_type": "execute_result"
    }
   ],
   "source": [
    "#Напишите функции add_fruit и remove_fruit для добавления и удаления фруктов, их количества и стоимости в списки fruits_quantity и fruits_prices.\n",
    "#   - Функции должны принимать словари и соответствующие данные для добавления и удаления.\n",
    "fruits_quantity = {'apple': 5, 'banana': 8, 'kiwi': 2, 'lemon': 3}\n",
    "fruits_prices = {'apple': 2, 'banana': 3, 'kiwi': 3.5, 'lemon': 3.1}\n",
    "def add_fruits(fruits_quantity, fruits_prices):\n",
    "    new_fruit = input().split()\n",
    "    for i in new_fruit:\n",
    "        fruits_quantity[new_fruit[0]] = int(new_fruit[1])\n",
    "        fruits_prices[new_fruit[0]] = float(new_fruit[2])\n",
    "    return fruits_quantity, fruits_prices\n",
    "add_fruits(fruits_quantity, fruits_prices)"
   ]
  },
  {
   "cell_type": "code",
   "execution_count": 18,
   "id": "0ee1d348-e5d6-45f8-961b-a4ea3a9ff88b",
   "metadata": {},
   "outputs": [
    {
     "name": "stdin",
     "output_type": "stream",
     "text": [
      " apple\n"
     ]
    },
    {
     "data": {
      "text/plain": [
       "({'banana': 8, 'kiwi': 2, 'lemon': 3, 'orange': 5},\n",
       " {'banana': 3, 'kiwi': 3.5, 'lemon': 3.1, 'orange': 2.5})"
      ]
     },
     "execution_count": 18,
     "metadata": {},
     "output_type": "execute_result"
    }
   ],
   "source": [
    "fruits_quantity = {'apple': 5, 'banana': 8, 'kiwi': 2, 'lemon': 3, 'orange': 5}\n",
    "fruits_prices = {'apple': 2, 'banana': 3, 'kiwi': 3.5, 'lemon': 3.1, 'orange': 2.5}\n",
    "def remove_fruits(fruits_quantity, fruits_prices):\n",
    "    del_fruit = input().split()\n",
    "    for i in del_fruit:\n",
    "        del fruits_quantity[del_fruit[0]]\n",
    "        del fruits_prices[del_fruit[0]]\n",
    "    return fruits_quantity, fruits_prices\n",
    "remove_fruits(fruits_quantity, fruits_prices)"
   ]
  },
  {
   "cell_type": "code",
   "execution_count": 29,
   "id": "3d01e1c2-d721-4446-b5ac-ec808e6b2e28",
   "metadata": {},
   "outputs": [
    {
     "data": {
      "text/plain": [
       "1000"
      ]
     },
     "execution_count": 29,
     "metadata": {},
     "output_type": "execute_result"
    }
   ],
   "source": [
    "#Создайте функцию для поиска наибольшего значения в словаре.\n",
    "def dict_max(dict_test):\n",
    "    max_v = 0\n",
    "    for i in dict_test:\n",
    "        if dict_test[i] > max_v:\n",
    "            max_v = dict_test[i]\n",
    "    return max_v\n",
    "dict_max(dict_test)"
   ]
  },
  {
   "cell_type": "code",
   "execution_count": 21,
   "id": "9d6f252a-f05c-4528-8b18-fbae920148ad",
   "metadata": {},
   "outputs": [
    {
     "name": "stdin",
     "output_type": "stream",
     "text": [
      " 30.2.2000\n"
     ]
    },
    {
     "name": "stdout",
     "output_type": "stream",
     "text": [
      "30.2.2000 введена некорректно\n"
     ]
    }
   ],
   "source": [
    "#Создайте функцию, которая определяет, является ли введенная дата корректной.\n",
    "date = input().split('.')\n",
    "def correct_date(date):\n",
    "    months = {'1': 31, '2': 28, '3': 31, '4': 30, '5': 31, '6': 30, '7': 31, '8': 31, '9': 30, '10': 31, '11': 30, '12': 31}\n",
    "    if len(date) == 3 and int(date[0]) <= months[date[1]] and int(date[0]) > 0 and int(date[1]) < 13 and int(date[1]) > 0 and ''.join(date).isdigit() == True:\n",
    "        print('.'.join(date), 'введена корректно')\n",
    "    else:\n",
    "        print('.'.join(date), 'введена некорректно')\n",
    "correct_date(date)"
   ]
  },
  {
   "cell_type": "code",
   "execution_count": 37,
   "id": "d45344ad-71ce-4ec0-bb0c-6cf2d013bbfe",
   "metadata": {},
   "outputs": [
    {
     "name": "stdout",
     "output_type": "stream",
     "text": [
      "apple 5 2 banana 8 3 kiwi 2 3.5 lemon 3 3.1 orange 5 2.5\n"
     ]
    }
   ],
   "source": [
    "#Создайте функцию print_fruits_info для вывода информации о количестве и стоимости фруктов из словарей.\n",
    "#   - Функция должна принимать словари с информацией \"фрукт:количество\" и \"фрукт:цена\" и выводить для каждого фрукта его стоимость и количество.\n",
    "fruits_quantity = {'apple': 5, 'banana': 8, 'kiwi': 2, 'lemon': 3, 'orange': 5}\n",
    "fruits_prices = {'apple': 2, 'banana': 3, 'kiwi': 3.5, 'lemon': 3.1, 'orange': 2.5}\n",
    "def fruits_quan_price(fruits_quantity, fruits_prices):\n",
    "    fruits = []\n",
    "    for fr in fruits_quantity:\n",
    "        fruits.append(fr)\n",
    "        fruits.append(fruits_quantity[fr])\n",
    "        fruits.append(fruits_prices[fr])\n",
    "    print(*fruits)\n",
    "fruits_quan_price(fruits_quantity, fruits_prices)"
   ]
  },
  {
   "cell_type": "code",
   "execution_count": 17,
   "id": "aa3db33a-9579-46c1-ad7c-cefcb1a59cd2",
   "metadata": {},
   "outputs": [
    {
     "name": "stdin",
     "output_type": "stream",
     "text": [
      " 5\n",
      " 1\n"
     ]
    },
    {
     "name": "stdout",
     "output_type": "stream",
     "text": [
      "число 1 слишком маленькое\n"
     ]
    },
    {
     "name": "stdin",
     "output_type": "stream",
     "text": [
      " 3\n"
     ]
    },
    {
     "name": "stdout",
     "output_type": "stream",
     "text": [
      "число 3 слишком маленькое\n"
     ]
    },
    {
     "name": "stdin",
     "output_type": "stream",
     "text": [
      " 5\n"
     ]
    },
    {
     "name": "stdout",
     "output_type": "stream",
     "text": [
      "число 5 достаточно большое\n"
     ]
    }
   ],
   "source": [
    "#Создайте функцию get_value_from_user, принимающую на вход одно число (\"порог\"), и запрашивающую у пользователя ввод числа до тех пор, пока он не введет число выше \"порога\".\n",
    "n = int(input())\n",
    "def get_value_from_user(n):\n",
    "    k = int(input())\n",
    "    while k < n:\n",
    "        print('число', k, 'слишком маленькое')\n",
    "        k = int(input())\n",
    "    if k >= n:\n",
    "        print('число', k, 'достаточно большое')\n",
    "get_value_from_user(n)"
   ]
  },
  {
   "cell_type": "code",
   "execution_count": null,
   "id": "96b03e42-9290-4ff8-8ef1-b30532ae294e",
   "metadata": {},
   "outputs": [],
   "source": []
  }
 ],
 "metadata": {
  "kernelspec": {
   "display_name": "Python 3 (ipykernel)",
   "language": "python",
   "name": "python3"
  },
  "language_info": {
   "codemirror_mode": {
    "name": "ipython",
    "version": 3
   },
   "file_extension": ".py",
   "mimetype": "text/x-python",
   "name": "python",
   "nbconvert_exporter": "python",
   "pygments_lexer": "ipython3",
   "version": "3.10.10"
  }
 },
 "nbformat": 4,
 "nbformat_minor": 5
}
