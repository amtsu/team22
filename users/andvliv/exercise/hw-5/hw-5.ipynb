{
 "cells": [
  {
   "cell_type": "code",
   "execution_count": 5,
   "id": "c973b8a7-68f6-4029-881e-a944edc01a62",
   "metadata": {},
   "outputs": [
    {
     "name": "stdout",
     "output_type": "stream",
     "text": [
      "YES\n"
     ]
    }
   ],
   "source": [
    "#PART1\n",
    "#Множества \n",
    "#Создайте множество set1 из целых чисел: 1, 2, 3, 4, 5.\n",
    "set1 = {1, 2, 3, 4, 5}\n",
    "#Добавьте в это множество элемент 6.\n",
    "set1.add(6)\n",
    "#Удалите элемент 2 из множества.\n",
    "set1.discard(2)\n",
    "#Проверьте, содержит ли множество элемент 3.\n",
    "print(set1)\n",
    "if 3 in set1:\n",
    "    print('YES')\n",
    "else:\n",
    "    print('множество не содержит 3')"
   ]
  },
  {
   "cell_type": "code",
   "execution_count": 6,
   "id": "bfd92510-6ff0-414e-b56c-f7a13889bff4",
   "metadata": {},
   "outputs": [
    {
     "name": "stdout",
     "output_type": "stream",
     "text": [
      "{1, 3, 4, 5, 6, 7, 8}\n",
      "{1, 3}\n"
     ]
    }
   ],
   "source": [
    "#Создайте второе множество set2 с элементами 4, 5, 6, 7, 8.\n",
    "set2 = {4, 5, 6, 7, 8}\n",
    "#Найдите объединение множеств set1 и set2.\n",
    "set_union = set1 | set2\n",
    "print(set_union)\n",
    "#Найдите разность множеств set1 и set2.\n",
    "print(set1 - set2)\n"
   ]
  },
  {
   "cell_type": "code",
   "execution_count": 8,
   "id": "13a14362-12ee-4206-a22c-16d83075bcf5",
   "metadata": {},
   "outputs": [
    {
     "name": "stdout",
     "output_type": "stream",
     "text": [
      "{'синий', 'оранжевый', 'голубой', 'зеленый'}\n",
      "{'Мальвиновый', 'желтый', 'зеленый', 'синий', 'красный', 'оранжевый', 'фиолетовый', 'голубой'}\n"
     ]
    }
   ],
   "source": [
    "#Создайте два множества set1 и set2, содержащие цвета радуги: \"красный\", \"оранжевый\", \"желтый\", \"зеленый\", \"голубой\", \"синий\", \"фиолетовый\" и  \"оранжевый\", \"зеленый\", \"голубой\", \"синий\", \"Мальвиновый\".\n",
    "set_words_1 = {\"красный\", \"оранжевый\", \"желтый\", \"зеленый\", \"голубой\", \"синий\", \"фиолетовый\"}\n",
    "set_words_2 = {\"оранжевый\", \"зеленый\", \"голубой\", \"синий\", \"Мальвиновый\"}\n",
    "#Найдите пересечение множеств set1 и set2.\n",
    "print(set_words_1 & set_words_2)\n",
    "rainbow_color = set_words_1 | set_words_2\n",
    "print(rainbow_color)"
   ]
  },
  {
   "cell_type": "code",
   "execution_count": 10,
   "id": "9c84be1a-c095-4d98-b9c7-97992a8a8c1b",
   "metadata": {},
   "outputs": [
    {
     "name": "stdout",
     "output_type": "stream",
     "text": [
      "{'name': 'Andrey', 'age': 35, 'email': 'andrey.ivanchenko7@gmail.com'}\n"
     ]
    }
   ],
   "source": [
    "#PART2\n",
    "#Словари\n",
    "#Создайте словарь person с ключами \"name\", \"age\" и \"city\" с вашими данными\n",
    "mydict = {'name': 'Andrey', 'age': 35, 'city': 'Tbilisi'}\n",
    "#Добавьте в словарь новый ключ \"email\" со значением вашего электронного адреса.\n",
    "mydict['email'] = 'andrey.ivanchenko7@gmail.com'\n",
    "#Удалите ключ \"city\" из словаря.\n",
    "del mydict['city']\n",
    "print(mydict)"
   ]
  },
  {
   "cell_type": "code",
   "execution_count": 12,
   "id": "c814ac41-04f8-43b4-b619-d31c91fbcd36",
   "metadata": {},
   "outputs": [
    {
     "name": "stdout",
     "output_type": "stream",
     "text": [
      "{'яблоко': 5, 'банан': 13, 'апельсин': 7}\n"
     ]
    }
   ],
   "source": [
    "#Создайте словарь inventory с товарами \"яблоко\": 5, \"банан\": 10, \"апельсин\": 7.\n",
    "inventory = {\"яблоко\": 5, \"банан\": 10, \"апельсин\": 7}\n",
    "#Увеличьте количество \"бананов\" в инвентаре на 3.\n",
    "inventory['банан'] = 13\n",
    "print(inventory)"
   ]
  },
  {
   "cell_type": "code",
   "execution_count": 15,
   "id": "46a62241-fb81-4791-8c2c-9885f2e67bc2",
   "metadata": {},
   "outputs": [
    {
     "data": {
      "text/plain": [
       "{'Иванов': 22, 'Сидоров': 23, 'Смирнов': 20}"
      ]
     },
     "execution_count": 15,
     "metadata": {},
     "output_type": "execute_result"
    }
   ],
   "source": [
    "#Создайте новый словарь prices, где цена для каждого продукта задана {\"яблоко\": 1.5, \"банан\": 2, \"апельсин\": 1.2}.\n",
    "prices = {\"яблоко\": 1.5, \"банан\": 2, \"апельсин\": 1.2}\n",
    "prices\n",
    "#Создайте словарь students с данными о студентах {\"Иванов\": 22, \"Петрова\": 13, \"Сидоров\": 23}.\n",
    "students = {\"Иванов\": 22, \"Петров\": 13, \"Сидоров\": 23}\n",
    "#Добавьте нового студента \"Смирнова\" возрастом 20 лет в словарь.\n",
    "students['Смирнов'] = 20\n",
    "del students['Петров']\n",
    "students"
   ]
  },
  {
   "cell_type": "code",
   "execution_count": 23,
   "id": "5899529f-a951-41ca-ba00-b667d5a500b3",
   "metadata": {},
   "outputs": [
    {
     "ename": "TypeError",
     "evalue": "int() argument must be a string, a bytes-like object or a real number, not 'dict_values'",
     "output_type": "error",
     "traceback": [
      "\u001b[0;31m---------------------------------------------------------------------------\u001b[0m",
      "\u001b[0;31mTypeError\u001b[0m                                 Traceback (most recent call last)",
      "Cell \u001b[0;32mIn[23], line 5\u001b[0m\n\u001b[1;32m      1\u001b[0m \u001b[38;5;66;03m#PART 3\u001b[39;00m\n\u001b[1;32m      2\u001b[0m \u001b[38;5;66;03m#Условные операторы \u001b[39;00m\n\u001b[1;32m      3\u001b[0m \u001b[38;5;66;03m#На основе значения возраста из словаря person, выведите сообщение \"Совершеннолетний\" или \"Несовершеннолетний\".\u001b[39;00m\n\u001b[1;32m      4\u001b[0m \u001b[38;5;66;03m# Comment: видимо, имеется ввиду словарь students?\u001b[39;00m\n\u001b[0;32m----> 5\u001b[0m \u001b[38;5;28;01mif\u001b[39;00m \u001b[38;5;28;43mint\u001b[39;49m\u001b[43m(\u001b[49m\u001b[43mstudents\u001b[49m\u001b[38;5;241;43m.\u001b[39;49m\u001b[43mvalues\u001b[49m\u001b[43m(\u001b[49m\u001b[43m)\u001b[49m\u001b[43m)\u001b[49m \u001b[38;5;241m>\u001b[39m\u001b[38;5;241m=\u001b[39m \u001b[38;5;241m17\u001b[39m:\n\u001b[1;32m      6\u001b[0m     \u001b[38;5;28mprint\u001b[39m(\u001b[38;5;124m'\u001b[39m\u001b[38;5;124mСовершеннолетний\u001b[39m\u001b[38;5;124m'\u001b[39m)\n\u001b[1;32m      7\u001b[0m \u001b[38;5;28;01melse\u001b[39;00m:\n",
      "\u001b[0;31mTypeError\u001b[0m: int() argument must be a string, a bytes-like object or a real number, not 'dict_values'"
     ]
    }
   ],
   "source": [
    "#PART 3\n",
    "#Условные операторы \n",
    "#На основе значения возраста из словаря person, выведите сообщение \"Совершеннолетний\" или \"Несовершеннолетний\".\n",
    "# Comment: видимо, имеется ввиду словарь students?\n",
    "if students.values()) >= 17:\n",
    "    print('Совершеннолетний')\n",
    "else:\n",
    "    print('Несовершеннолетний')"
   ]
  },
  {
   "cell_type": "code",
   "execution_count": 25,
   "id": "1b7cb662-8334-4527-a39c-904a81f8b3d8",
   "metadata": {},
   "outputs": [
    {
     "name": "stdout",
     "output_type": "stream",
     "text": [
      "Множества равны\n"
     ]
    }
   ],
   "source": [
    "#Сравните длину множества set1 с другим множеством set2 и выведите сообщение о том, какое из множеств больше.\n",
    "if len(set1) > len(set2):\n",
    "    print('set1 больше set2')\n",
    "elif len(set1) == len(set2):\n",
    "    print('Множества равны')\n",
    "else:\n",
    "    print('set2 больше set1')"
   ]
  },
  {
   "cell_type": "code",
   "execution_count": 26,
   "id": "2902df58-b0a8-49f5-9f80-8f0e1a000b63",
   "metadata": {},
   "outputs": [
    {
     "data": {
      "text/plain": [
       "{'яблоко': 5, 'банан': 13, 'апельсин': 7, 'груша': 3}"
      ]
     },
     "execution_count": 26,
     "metadata": {},
     "output_type": "execute_result"
    }
   ],
   "source": [
    "#Напишите условие, которое проверяет, есть ли \"груша\" в словаре inventory, и если нет, добавляет \"грушу\" с количеством 3.\n",
    "if 'груша' in inventory:\n",
    "    print('груша уже есть')\n",
    "if 'груша' not in inventory:\n",
    "    inventory['груша'] = 3\n",
    "inventory"
   ]
  },
  {
   "cell_type": "code",
   "execution_count": 30,
   "id": "f7f5b628-bd7d-4073-827e-8acc0be856ce",
   "metadata": {},
   "outputs": [
    {
     "ename": "SyntaxError",
     "evalue": "invalid syntax (1753456241.py, line 2)",
     "output_type": "error",
     "traceback": [
      "\u001b[0;36m  Cell \u001b[0;32mIn[30], line 2\u001b[0;36m\u001b[0m\n\u001b[0;31m    for key in prices.items() if value > 1.5:\u001b[0m\n\u001b[0m                                            ^\u001b[0m\n\u001b[0;31mSyntaxError\u001b[0m\u001b[0;31m:\u001b[0m invalid syntax\n"
     ]
    }
   ],
   "source": [
    "#Выведите сообщение \"Дорогой товар\" для продуктов, цена которых превышает 1.5.\n",
    "for key in prices.items() if value > 1.5:\n",
    "    print(key, 'дорогой товар')"
   ]
  },
  {
   "cell_type": "code",
   "execution_count": 32,
   "id": "087b418b-5249-40cd-97bd-cfd2f6333af8",
   "metadata": {},
   "outputs": [
    {
     "name": "stdout",
     "output_type": "stream",
     "text": [
      "Совершеннолетний\n"
     ]
    }
   ],
   "source": [
    "#Напишите условие, которое проверяет возраст студента \"Иванова\" и выводит сообщение \"Совершеннолетний\" или \"Несовершеннолетний\".\n",
    "if students['Иванов'] >= 18:\n",
    "    print(\"Совершеннолетний\")\n",
    "else:\n",
    "    print(\"Несовершеннолетний\")"
   ]
  },
  {
   "cell_type": "code",
   "execution_count": 35,
   "id": "8139adf2-5578-4ed3-85f1-12b43033d95a",
   "metadata": {},
   "outputs": [
    {
     "name": "stdout",
     "output_type": "stream",
     "text": [
      "1\n",
      "3\n",
      "4\n",
      "5\n",
      "6\n"
     ]
    }
   ],
   "source": [
    "#PART4\n",
    "#Циклы \n",
    "#Напишите цикл for, который выводит все элементы множества set1.\n",
    "list1 = list(set1)\n",
    "for i in range(len(list1)):\n",
    "    print(list1[i])"
   ]
  },
  {
   "cell_type": "code",
   "execution_count": 38,
   "id": "64d6bbea-3a8e-442c-9522-45934a179381",
   "metadata": {},
   "outputs": [
    {
     "name": "stdout",
     "output_type": "stream",
     "text": [
      "1\n",
      "4\n",
      "9\n",
      "16\n",
      "25\n"
     ]
    }
   ],
   "source": [
    "#Напишите цикл while, который выводит квадраты чисел от 1 до 5.\n",
    "i = 1\n",
    "while i < 6:\n",
    "    print(i**2)\n",
    "    i += 1"
   ]
  },
  {
   "cell_type": "code",
   "execution_count": 43,
   "id": "92a7a762-ea6e-48d2-8c29-27009b1aa215",
   "metadata": {},
   "outputs": [
    {
     "name": "stdout",
     "output_type": "stream",
     "text": [
      "яблоко\n",
      "банан\n",
      "апельсин\n",
      "груша\n"
     ]
    }
   ],
   "source": [
    "#Напишите цикл for, который перебирает все ключи словаря inventory и выводит каждый товар.\n",
    "list_inv = list(inventory)\n",
    "for i in range(len(list_inv)):\n",
    "    print(list_inv[i])"
   ]
  },
  {
   "cell_type": "code",
   "execution_count": 46,
   "id": "ad15c82c-e84e-433c-9514-cfbc105f82f8",
   "metadata": {},
   "outputs": [
    {
     "name": "stdout",
     "output_type": "stream",
     "text": [
      "Иванов 22\n",
      "Сидоров 23\n",
      "Смирнов 20\n"
     ]
    }
   ],
   "source": [
    "#Используя цикл for, выведите всех студентов и их возраст из словаря students.\n",
    "list_students = list(students.items())\n",
    "for i in range(len(list_students)):\n",
    "    print(*list_students[i])"
   ]
  },
  {
   "cell_type": "code",
   "execution_count": 55,
   "id": "25d9799f-7186-42b7-a72d-b5cce7ba12fe",
   "metadata": {},
   "outputs": [
    {
     "data": {
      "text/plain": [
       "{1, 2, 3, 4, 5, 6, 7, 8}"
      ]
     },
     "execution_count": 55,
     "metadata": {},
     "output_type": "execute_result"
    }
   ],
   "source": [
    "#PART 5\n",
    "#Функции\n",
    "#Множества\n",
    "#Создайте функции set_union и set_difference для операций объединения и разности множеств.\n",
    "#  - Функции должны принимать два множества и возвращать соответствующий результат.\n",
    "set1 = {1, 2, 3, 4, 5}\n",
    "set2 = {4, 5, 6, 7, 8}\n",
    "def set_union(set1, set2):\n",
    "    return set1 | set2\n",
    "set_union(set1, set2)"
   ]
  },
  {
   "cell_type": "code",
   "execution_count": 72,
   "id": "bea64d26-8448-485b-8ebb-71c391480b23",
   "metadata": {},
   "outputs": [
    {
     "data": {
      "text/plain": [
       "'no'"
      ]
     },
     "execution_count": 72,
     "metadata": {},
     "output_type": "execute_result"
    }
   ],
   "source": [
    "#Создайте функцию для проверки, является ли одно множество подмножеством другого.\n",
    "def set_subset(set1, set2):\n",
    "    result = 0\n",
    "    if set1 >= set2:\n",
    "        result = 'yes'\n",
    "    else:\n",
    "        result = 'no'\n",
    "    return result\n",
    "set_subset(set1, set2)"
   ]
  },
  {
   "cell_type": "code",
   "execution_count": null,
   "id": "57dd5548-2f94-4719-a9a5-081d2d839294",
   "metadata": {},
   "outputs": [],
   "source": [
    "#Создайте функцию для объединения нескольких множеств.\n",
    "set1 = {1, 2, 3, 4, 5}\n",
    "set2 = {4, 5, 6, 7, 8}\n",
    "set3 = {10, 11, 12, 13}\n",
    "n = int(input())\n",
    "def sets_union( ):\n"
   ]
  },
  {
   "cell_type": "code",
   "execution_count": 73,
   "id": "e5684c2d-7135-4ec8-894a-c488abc1247e",
   "metadata": {},
   "outputs": [
    {
     "name": "stdin",
     "output_type": "stream",
     "text": [
      " 2\n"
     ]
    },
    {
     "data": {
      "text/plain": [
       "{1, 3, 4, 5}"
      ]
     },
     "execution_count": 73,
     "metadata": {},
     "output_type": "execute_result"
    }
   ],
   "source": [
    "#Создайте функцию для удаления конкретного элемента из множества.\n",
    "n = int(input())\n",
    "def set_remove(set1):\n",
    "    set1.discard(n)\n",
    "    return set1\n",
    "set_remove(set1)"
   ]
  },
  {
   "cell_type": "code",
   "execution_count": null,
   "id": "6b71369f-1f31-42d2-a3fa-ebabe384c555",
   "metadata": {},
   "outputs": [],
   "source": [
    "#Создайте функцию для поиска пересечения нескольких множеств."
   ]
  },
  {
   "cell_type": "code",
   "execution_count": 74,
   "id": "1b80cefb-bb91-4360-b263-a6a2fd69c850",
   "metadata": {},
   "outputs": [
    {
     "data": {
      "text/plain": [
       "{4, 5}"
      ]
     },
     "execution_count": 74,
     "metadata": {},
     "output_type": "execute_result"
    }
   ],
   "source": [
    "#Создайте функцию для проверки на равенство двух множеств.\n",
    "def set_inter(set1, set2):\n",
    "    return set1 & set2\n",
    "set_inter(set1, set2)"
   ]
  },
  {
   "cell_type": "code",
   "execution_count": 77,
   "id": "9a1604d8-7798-427f-ac4e-e776ac4bb643",
   "metadata": {},
   "outputs": [
    {
     "data": {
      "text/plain": [
       "{1, 2, 3, 4, 5, 6, 7, 8, 10, 11, 12, 13}"
      ]
     },
     "execution_count": 77,
     "metadata": {},
     "output_type": "execute_result"
    }
   ],
   "source": [
    "#Создайте функцию для нахождения объединения трех множеств.\n",
    "set1 = {1, 2, 3, 4, 5}\n",
    "set2 = {4, 5, 6, 7, 8}\n",
    "set3 = {10, 11, 12, 13}\n",
    "def sets3_union(set1, set2, set3):\n",
    "    return set1 | set2 | set3\n",
    "sets3_union(set1, set2, set3)"
   ]
  },
  {
   "cell_type": "code",
   "execution_count": 79,
   "id": "504d21d0-e34d-43db-92ce-b83d0b7e568f",
   "metadata": {},
   "outputs": [
    {
     "data": {
      "text/plain": [
       "'no'"
      ]
     },
     "execution_count": 79,
     "metadata": {},
     "output_type": "execute_result"
    }
   ],
   "source": [
    "#Создайте функцию для проверки, являются ли два множества дизъюнктными (не имеют общих элементов).\n",
    "def sets_disjoint(set1, set2):\n",
    "    if set1.isdisjoint(set2):\n",
    "        result = 'yes'\n",
    "    else:\n",
    "        result = 'no'\n",
    "    return result\n",
    "set_subset(set1, set2)"
   ]
  },
  {
   "cell_type": "code",
   "execution_count": 80,
   "id": "ee58a45f-0c35-404b-ba3d-6197a2547990",
   "metadata": {},
   "outputs": [
    {
     "data": {
      "text/plain": [
       "{1, 2, 3}"
      ]
     },
     "execution_count": 80,
     "metadata": {},
     "output_type": "execute_result"
    }
   ],
   "source": [
    "#Создайте функцию для нахождения разности двух множеств.\n",
    "def sets_diff(set1, set2):\n",
    "    return set1 - set2\n",
    "sets_diff(set1, set2)"
   ]
  },
  {
   "cell_type": "code",
   "execution_count": 81,
   "id": "cbb41e4a-1dea-4abe-864b-733ae3b88042",
   "metadata": {},
   "outputs": [
    {
     "data": {
      "text/plain": [
       "{1, 2, 3, 6, 7, 8}"
      ]
     },
     "execution_count": 81,
     "metadata": {},
     "output_type": "execute_result"
    }
   ],
   "source": [
    "#Создайте функцию для определения симметрической разности двух множеств.\n",
    "def sets_symm_diff(set1, set2):\n",
    "    return set1 ^ set2\n",
    "sets_symm_diff(set1, set2)"
   ]
  },
  {
   "cell_type": "code",
   "execution_count": null,
   "id": "14fa0094-470d-4639-907f-2718af7539d2",
   "metadata": {},
   "outputs": [],
   "source": [
    "#Создайте функцию create_set для создания множества с заданными элементами.\n",
    "#   - Функция должна принимать переменное количество аргументов и возвращать новое множество.\n",
    "n = int(input())"
   ]
  },
  {
   "cell_type": "code",
   "execution_count": null,
   "id": "c6848878-d125-49be-854f-ed2f9f626836",
   "metadata": {},
   "outputs": [],
   "source": []
  }
 ],
 "metadata": {
  "kernelspec": {
   "display_name": "Python 3 (ipykernel)",
   "language": "python",
   "name": "python3"
  },
  "language_info": {
   "codemirror_mode": {
    "name": "ipython",
    "version": 3
   },
   "file_extension": ".py",
   "mimetype": "text/x-python",
   "name": "python",
   "nbconvert_exporter": "python",
   "pygments_lexer": "ipython3",
   "version": "3.10.10"
  }
 },
 "nbformat": 4,
 "nbformat_minor": 5
}
