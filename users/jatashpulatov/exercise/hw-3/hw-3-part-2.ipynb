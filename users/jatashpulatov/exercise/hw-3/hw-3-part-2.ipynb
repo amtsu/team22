{
 "cells": [
  {
   "cell_type": "markdown",
   "id": "55143e2a-3a4f-4f1f-b14d-69111a8e6647",
   "metadata": {},
   "source": [
    "<b>HW3-Part2"
   ]
  },
  {
   "cell_type": "markdown",
   "id": "75806b26-fa27-4945-94f1-15a9a84525c5",
   "metadata": {},
   "source": [
    "1. Вычислить результат следующих операций:"
   ]
  },
  {
   "cell_type": "code",
   "execution_count": 1,
   "id": "3852a70b-4bfc-4ec2-a601-39289e04630a",
   "metadata": {},
   "outputs": [
    {
     "data": {
      "text/plain": [
       "80"
      ]
     },
     "execution_count": 1,
     "metadata": {},
     "output_type": "execute_result"
    }
   ],
   "source": [
    "10 * (5 + 3)"
   ]
  },
  {
   "cell_type": "code",
   "execution_count": 2,
   "id": "4978eb64-3875-4dfc-9f77-b6c013ce4170",
   "metadata": {},
   "outputs": [
    {
     "data": {
      "text/plain": [
       "7.0"
      ]
     },
     "execution_count": 2,
     "metadata": {},
     "output_type": "execute_result"
    }
   ],
   "source": [
    "(20 - 6) / 2"
   ]
  },
  {
   "cell_type": "code",
   "execution_count": 7,
   "id": "aee46013-048d-4883-b3e2-5d62bd41e868",
   "metadata": {},
   "outputs": [
    {
     "data": {
      "text/plain": [
       "32"
      ]
     },
     "execution_count": 7,
     "metadata": {},
     "output_type": "execute_result"
    }
   ],
   "source": [
    "2 ** 5 #возведение 2 в 5-ю степень"
   ]
  },
  {
   "cell_type": "code",
   "execution_count": 8,
   "id": "d7ac5f6b-fe3f-4d67-a43b-736e840b849f",
   "metadata": {},
   "outputs": [
    {
     "data": {
      "text/plain": [
       "6"
      ]
     },
     "execution_count": 8,
     "metadata": {},
     "output_type": "execute_result"
    }
   ],
   "source": [
    "25 // 4 #целая часть от деления"
   ]
  },
  {
   "cell_type": "code",
   "execution_count": 9,
   "id": "9244e7f7-43d4-4420-a752-407b083ccaab",
   "metadata": {},
   "outputs": [
    {
     "data": {
      "text/plain": [
       "1"
      ]
     },
     "execution_count": 9,
     "metadata": {},
     "output_type": "execute_result"
    }
   ],
   "source": [
    "25 % 4 #остаток от деления"
   ]
  },
  {
   "cell_type": "markdown",
   "id": "9d747864-0dae-4679-9d36-a8b36da876da",
   "metadata": {},
   "source": [
    "2. Дано дробное число:\n",
    "number = -3.14\n",
    "Выполнить следующие операции:"
   ]
  },
  {
   "cell_type": "code",
   "execution_count": 11,
   "id": "014c4515-df62-4777-a36b-fab9019092a4",
   "metadata": {},
   "outputs": [
    {
     "data": {
      "text/plain": [
       "-3"
      ]
     },
     "execution_count": 11,
     "metadata": {},
     "output_type": "execute_result"
    }
   ],
   "source": [
    "#Округлить число до целого\n",
    "number = -3.14\n",
    "round(number)"
   ]
  },
  {
   "cell_type": "code",
   "execution_count": 14,
   "id": "5237e580-8511-483f-9405-a64c363bf735",
   "metadata": {},
   "outputs": [
    {
     "data": {
      "text/plain": [
       "-0.14"
      ]
     },
     "execution_count": 14,
     "metadata": {},
     "output_type": "execute_result"
    }
   ],
   "source": [
    "#Возьмите остаток числа\n",
    "round(number - round(number), 2)"
   ]
  },
  {
   "cell_type": "markdown",
   "id": "2fe01316-f581-4cb2-9720-b071423b2d0d",
   "metadata": {},
   "source": [
    "3. Даны стороны прямоугольника: a = 5, b = 7. Вычислить площадь прямоугольника и вывести результат на экран"
   ]
  },
  {
   "cell_type": "code",
   "execution_count": 32,
   "id": "f5496a8e-69f7-481d-bb48-22d0b571ffbd",
   "metadata": {},
   "outputs": [],
   "source": [
    "#Дано\n",
    "a = 5\n",
    "b = 7"
   ]
  },
  {
   "cell_type": "code",
   "execution_count": 33,
   "id": "b7a94a40-aaf4-4d3b-afe5-855c0b941ceb",
   "metadata": {},
   "outputs": [
    {
     "name": "stdout",
     "output_type": "stream",
     "text": [
      "Площадь прямоугольника равна  35\n"
     ]
    }
   ],
   "source": [
    "#Расчитаем площадь прямоугольника\n",
    "S = a * b\n",
    "print('Площадь прямоугольника равна ', S)"
   ]
  },
  {
   "cell_type": "markdown",
   "id": "95281f74-3185-4b73-b801-e0971cf8c2cc",
   "metadata": {},
   "source": [
    "4. На какой объём воздуха должен быть расчитан кондиционер, если с его помощью хотят охлаждать квартиру в которой размер гостинной 3.5 на 6.4 метра, спальни 3.4 на 4 метра и площадь не жилой части 11 метров. При том что высота потолков 3,1 метр."
   ]
  },
  {
   "cell_type": "markdown",
   "id": "9ec6b986-bf95-4144-bff3-325e3689f4cd",
   "metadata": {},
   "source": [
    "#Дано\n",
    "a_living_room = 3.5\n",
    "b_living_room = 6.4\n",
    "a_bedroom = 3.4\n",
    "b_bedroom = 4\n",
    "S_other = 11\n",
    "H = 3.1"
   ]
  },
  {
   "cell_type": "code",
   "execution_count": 35,
   "id": "87120fdb-847f-4d93-bbc6-2560d8c92bac",
   "metadata": {},
   "outputs": [],
   "source": [
    "#Расчёт объёма каждого помещения\n",
    "V_living_room = a_living_room * b_living_room * H\n",
    "V_bedroom = a_bedroom * b_bedroom * H\n",
    "V_other = S_other * H"
   ]
  },
  {
   "cell_type": "markdown",
   "id": "11848e19-d336-4ee1-ae4b-ee9fe093f450",
   "metadata": {},
   "source": [
    "#Общий объём квартиры\n",
    "V_sum = V_living_room + V_bedroom + V_other\n",
    "print('Кондиционер расчитан на ', round(V_sum, 1), 'м3')"
   ]
  },
  {
   "cell_type": "markdown",
   "id": "9d3e930c-528e-41e7-9553-089c1fd6d958",
   "metadata": {},
   "source": [
    "5. Дано квадратное уравнение вида ax^2 + bx + c = 0.\n",
    "Найти его решения, используя формулу дискриминанта.\n",
    "a номер текущего месяца\n",
    "b номер вашей группы\n",
    "c минус десять (-10)"
   ]
  },
  {
   "cell_type": "code",
   "execution_count": 38,
   "id": "59b1b2e1-d8dc-4200-b0de-032759b8c5ad",
   "metadata": {},
   "outputs": [],
   "source": [
    "#Дано\n",
    "a = 2\n",
    "b = 3\n",
    "c = -10"
   ]
  },
  {
   "cell_type": "code",
   "execution_count": 44,
   "id": "6edc63b9-ec7d-4ef0-a20a-03c6e895d785",
   "metadata": {},
   "outputs": [
    {
     "name": "stdout",
     "output_type": "stream",
     "text": [
      "Ответ: x1 = 1.61 ; x2 = -3.11\n"
     ]
    }
   ],
   "source": [
    "#Решаем уровнение через дискриминант\n",
    "d = b ** 2 - 4 * a * c\n",
    "x1 = (-b + d ** 0.5) / (2 * a)\n",
    "x2 = (-b - d ** 0.5) / (2 * a)\n",
    "print('Ответ: x1 =', round(x1, 2), '; x2 =', round(x2, 2))"
   ]
  },
  {
   "cell_type": "markdown",
   "id": "57f36c3d-262b-4cdc-96e3-ccdac7f0ed0f",
   "metadata": {},
   "source": [
    "6. Даны строки:\n",
    "string1 = \"hello, \"\n",
    "string2 = \"world!\"\n",
    "Объединить строки string1 и string2 и результат вывести на экран так чтобы первая буква в предложении стала заглавной."
   ]
  },
  {
   "cell_type": "code",
   "execution_count": 47,
   "id": "098d3bbd-7cf1-40c0-8807-a16efd99bfee",
   "metadata": {},
   "outputs": [],
   "source": [
    "string1 = \"hello, \"\n",
    "string2 = \"world!\""
   ]
  },
  {
   "cell_type": "code",
   "execution_count": 48,
   "id": "b47236f1-7d46-4c7a-a12f-53be56ab6ef4",
   "metadata": {},
   "outputs": [
    {
     "name": "stdout",
     "output_type": "stream",
     "text": [
      "Hello, world!\n"
     ]
    }
   ],
   "source": [
    "print((string1 + string2).capitalize()) "
   ]
  },
  {
   "cell_type": "markdown",
   "id": "8209f759-b34f-45e0-b778-2971ed726762",
   "metadata": {},
   "source": [
    "7. Сколько символов было в предыдущей строке?"
   ]
  },
  {
   "cell_type": "code",
   "execution_count": 50,
   "id": "63550323-914a-475d-b1db-5fabb7b3de3e",
   "metadata": {},
   "outputs": [
    {
     "name": "stdout",
     "output_type": "stream",
     "text": [
      "Количество символов в предыдущей строке - 13\n"
     ]
    }
   ],
   "source": [
    "print('Количество символов в предыдущей строке -', len(string1 + string2))"
   ]
  },
  {
   "cell_type": "markdown",
   "id": "d14d9fbc-136e-4f22-91d3-12442fe4b1ea",
   "metadata": {},
   "source": [
    "8. Выведите на экран строку la 25 раз."
   ]
  },
  {
   "cell_type": "code",
   "execution_count": 51,
   "id": "1222688e-dd8e-47da-98b2-5a41eaf0cecb",
   "metadata": {},
   "outputs": [
    {
     "name": "stdout",
     "output_type": "stream",
     "text": [
      "lalalalalalalalalalalalalalalalalalalalalalalalala\n"
     ]
    }
   ],
   "source": [
    "print('la' * 25)"
   ]
  },
  {
   "cell_type": "markdown",
   "id": "00f726c1-ee0f-4df9-b7f9-d9fc46671ec9",
   "metadata": {},
   "source": [
    "9. Дан список чисел:\n",
    "numbers = [1, 2, 3, 4, 5]\n",
    "Выполнить следующие операции:\n",
    "1) Измените число 2 на строку \"hi\" \n",
    "2) Выведите значение, находящееся на позиции 2.\n",
    "3) Изменить значение на позиции 4 на список из 3 элементов [8, 6, 4].\n",
    "Результаты вывести на экран."
   ]
  },
  {
   "cell_type": "code",
   "execution_count": 52,
   "id": "6d3857a0-24b6-4533-8a5c-37f799ee67c4",
   "metadata": {},
   "outputs": [],
   "source": [
    "numbers = [1, 2, 3, 4, 5]"
   ]
  },
  {
   "cell_type": "code",
   "execution_count": 54,
   "id": "0e33e375-a099-4f52-9cc3-81410907a981",
   "metadata": {},
   "outputs": [],
   "source": [
    "#1. Изменяем число 2 на строку \"hi\"\n",
    "numbers[1] = 'hi'"
   ]
  },
  {
   "cell_type": "code",
   "execution_count": 56,
   "id": "5b028c41-1aad-4288-8b66-f359210124d3",
   "metadata": {},
   "outputs": [
    {
     "name": "stdout",
     "output_type": "stream",
     "text": [
      "hi\n"
     ]
    }
   ],
   "source": [
    "#2. Выводим значение, находящееся на позиции 2\n",
    "print(numbers[1])"
   ]
  },
  {
   "cell_type": "code",
   "execution_count": 57,
   "id": "1dfb3057-d67a-47bd-9612-0eb13cacc337",
   "metadata": {},
   "outputs": [],
   "source": [
    "#3. Изменяем значение на позиции 4 на список из 3 элементов [8, 6, 4]\n",
    "numbers[3] = [8, 6, 4]"
   ]
  },
  {
   "cell_type": "code",
   "execution_count": 58,
   "id": "1b80afb3-16fa-43bb-8049-20ae05a60ff6",
   "metadata": {},
   "outputs": [
    {
     "name": "stdout",
     "output_type": "stream",
     "text": [
      "[1, 'hi', 3, [8, 6, 4], 5]\n"
     ]
    }
   ],
   "source": [
    "print(numbers)"
   ]
  },
  {
   "cell_type": "markdown",
   "id": "2a45e0de-1546-461b-9075-fb5ba1b39419",
   "metadata": {},
   "source": [
    "10. Дан список чисел:\n",
    "numbers = [1, 2, 3, 4, 5, 6, 7, 8, 9, 10]\n",
    "Извлеките подсписок с 3-го по 7-й элемент включительно."
   ]
  },
  {
   "cell_type": "code",
   "execution_count": 60,
   "id": "a42a64e2-af6e-4ac2-a0f5-1776388eef39",
   "metadata": {},
   "outputs": [
    {
     "name": "stdout",
     "output_type": "stream",
     "text": [
      "[3, 4, 5, 6, 7]\n"
     ]
    }
   ],
   "source": [
    "numbers = [1, 2, 3, 4, 5, 6, 7, 8, 9, 10]\n",
    "print(numbers[2:7])"
   ]
  }
 ],
 "metadata": {
  "kernelspec": {
   "display_name": "Python 3 (ipykernel)",
   "language": "python",
   "name": "python3"
  },
  "language_info": {
   "codemirror_mode": {
    "name": "ipython",
    "version": 3
   },
   "file_extension": ".py",
   "mimetype": "text/x-python",
   "name": "python",
   "nbconvert_exporter": "python",
   "pygments_lexer": "ipython3",
   "version": "3.10.10"
  }
 },
 "nbformat": 4,
 "nbformat_minor": 5
}
