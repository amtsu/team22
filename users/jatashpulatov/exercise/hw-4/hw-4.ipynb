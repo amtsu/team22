{
 "cells": [
  {
   "cell_type": "markdown",
   "id": "bdda8c75-105b-4f24-8862-673bcc68f447",
   "metadata": {},
   "source": [
    "Домашнее задание №4. \n",
    "Списки и операции с ними."
   ]
  },
  {
   "cell_type": "markdown",
   "id": "de36547c-88dd-4997-a12c-cdeb1e9e6ac8",
   "metadata": {},
   "source": [
    "Задание 1.\n",
    "выполните следующий код\n",
    "<code>\n",
    "list_one = [1, 2, 3, 4, 5, 6, 9]\n",
    "list_two = [1, 2, 3, 4, 5, 6, 9]\n",
    "list_two.append(789)\n",
    "print(list_one, list_two, sep='\\n') \n",
    "</code>\n",
    "затем выполните код \n",
    "<code>\n",
    "list_one = [1, 2, 3, 4, 5, 6, 9]\n",
    "list_two = list_one\n",
    "list_two.append(789)\n",
    "print(list_one, list_two, sep='\\n')     \n",
    "</code>\n",
    "запишите объяснения разницы в выполнении кода в переменную difference_explanation и выведите ее на экран"
   ]
  },
  {
   "cell_type": "code",
   "execution_count": 3,
   "id": "680d9e95-a34c-4f6c-8693-3a72207219b5",
   "metadata": {},
   "outputs": [
    {
     "name": "stdout",
     "output_type": "stream",
     "text": [
      "[1, 2, 3, 4, 5, 6, 9]\n",
      "[1, 2, 3, 4, 5, 6, 9, 789]\n"
     ]
    }
   ],
   "source": [
    "#код №1\n",
    "list_one = [1, 2, 3, 4, 5, 6, 9]\n",
    "list_two = [1, 2, 3, 4, 5, 6, 9]\n",
    "list_two.append(789)\n",
    "print(list_one, list_two, sep='\\n') "
   ]
  },
  {
   "cell_type": "code",
   "execution_count": 4,
   "id": "8f9124c7-9d98-4b1f-a4e3-b2746fb262c8",
   "metadata": {},
   "outputs": [
    {
     "name": "stdout",
     "output_type": "stream",
     "text": [
      "[1, 2, 3, 4, 5, 6, 9, 789]\n",
      "[1, 2, 3, 4, 5, 6, 9, 789]\n"
     ]
    }
   ],
   "source": [
    "#код №2\n",
    "list_one = [1, 2, 3, 4, 5, 6, 9]\n",
    "list_two = list_one\n",
    "list_two.append(789)\n",
    "print(list_one, list_two, sep='\\n')  "
   ]
  },
  {
   "cell_type": "code",
   "execution_count": 8,
   "id": "31ef36fd-4258-4af7-95ee-fe0032523d7b",
   "metadata": {},
   "outputs": [
    {
     "name": "stdout",
     "output_type": "stream",
     "text": [
      "\n",
      "В коде №1 list_one и list_two ссылаются на 2 разных объекта. \n",
      "Изменяя один из них, второй останется без изменений.\n",
      "В коде №2 обе переменные ссылаются на один объект.\n",
      "При изменении одного меняется и второй.\n",
      "\n"
     ]
    }
   ],
   "source": [
    "difference_explanation = '''\n",
    "В коде №1 list_one и list_two ссылаются на 2 разных объекта. \n",
    "Изменяя один из них, второй останется без изменений.\n",
    "В коде №2 обе переменные ссылаются на один объект.\n",
    "При изменении одного меняется и второй.\n",
    "'''\n",
    "print(difference_explanation)"
   ]
  },
  {
   "cell_type": "markdown",
   "id": "9062939d-6f44-44cf-9b28-5854ebeb1594",
   "metadata": {},
   "source": [
    "Задание 2.\n",
    "Задайте переменную a_poem типа строка, со следующим содержимым:\n",
    "<code>\n",
    "За стеклом лежал Питон,\n",
    "Большой и толстый, как батон.\n",
    "Вверх пополз,\n",
    "Затем вернулся,\n",
    "Круглым бубликом свернулся.\n",
    "</code>\n",
    "- Создайте переменную a_list типа список, заполнив ее содержимым строки a_poem так, чтобы каждый символ строки a_poem стал отдельным элементом списка a_list\n",
    "- Создайте переменную another_list типа список, заполнив ее содержимым строки a_poem так, чтобы каждое слово строки a_poem стал отдельным элементом списка another_list. Знаки препинания прилипнут к словам, не страшно.\n",
    "- Выведите на экран элементы и их количество для списков a_list и another_list.\n",
    "- Создайте переменную one_more_list типа список, каждым элементом которой является отдельная строка строфы из a_poem. Выведите на экран элементы one_more_list и их количество."
   ]
  },
  {
   "cell_type": "code",
   "execution_count": 35,
   "id": "ac243f9a-2a7a-49aa-b58b-993fea424ec4",
   "metadata": {},
   "outputs": [],
   "source": [
    "a_poem = '''За стеклом лежал Питон,\n",
    "Большой и толстый, как батон.\n",
    "Вверх пополз,\n",
    "Затем вернулся,\n",
    "Круглым бубликом свернулся.\n",
    "'''"
   ]
  },
  {
   "cell_type": "code",
   "execution_count": 52,
   "id": "89995b63-5151-4dd3-874e-712f799042bf",
   "metadata": {},
   "outputs": [],
   "source": [
    "a_list = list(a_poem)"
   ]
  },
  {
   "cell_type": "code",
   "execution_count": 53,
   "id": "54672402-e956-4ea7-b742-6d41e97b806f",
   "metadata": {},
   "outputs": [],
   "source": [
    "another_list = a_poem.split()"
   ]
  },
  {
   "cell_type": "code",
   "execution_count": 57,
   "id": "64a8d3b4-f315-4591-9ea7-b6beea0c6f52",
   "metadata": {},
   "outputs": [
    {
     "name": "stdout",
     "output_type": "stream",
     "text": [
      "----------Список a_list-----------------\n",
      "['З', 'а', ' ', 'с', 'т', 'е', 'к', 'л', 'о', 'м', ' ', 'л', 'е', 'ж', 'а', 'л', ' ', 'П', 'и', 'т', 'о', 'н', ',', '\\n', 'Б', 'о', 'л', 'ь', 'ш', 'о', 'й', ' ', 'и', ' ', 'т', 'о', 'л', 'с', 'т', 'ы', 'й', ',', ' ', 'к', 'а', 'к', ' ', 'б', 'а', 'т', 'о', 'н', '.', '\\n', 'В', 'в', 'е', 'р', 'х', ' ', 'п', 'о', 'п', 'о', 'л', 'з', ',', '\\n', 'З', 'а', 'т', 'е', 'м', ' ', 'в', 'е', 'р', 'н', 'у', 'л', 'с', 'я', ',', '\\n', 'К', 'р', 'у', 'г', 'л', 'ы', 'м', ' ', 'б', 'у', 'б', 'л', 'и', 'к', 'о', 'м', ' ', 'с', 'в', 'е', 'р', 'н', 'у', 'л', 'с', 'я', '.', '\\n']\n",
      "Количество элементов списка a_list - 112\n"
     ]
    }
   ],
   "source": [
    "print('----------Список a_list-----------------')\n",
    "print(a_list)\n",
    "print('Количество элементов списка a_list -', len(a_list))"
   ]
  },
  {
   "cell_type": "code",
   "execution_count": 58,
   "id": "e2a7658c-981d-42a4-91b0-a8a8760a0bae",
   "metadata": {},
   "outputs": [
    {
     "name": "stdout",
     "output_type": "stream",
     "text": [
      "----------Список another_list-----------\n",
      "['За', 'стеклом', 'лежал', 'Питон,', 'Большой', 'и', 'толстый,', 'как', 'батон.', 'Вверх', 'пополз,', 'Затем', 'вернулся,', 'Круглым', 'бубликом', 'свернулся.']\n",
      "Количество элементов списка another_list - 16\n"
     ]
    }
   ],
   "source": [
    "print('----------Список another_list-----------')\n",
    "print(another_list)\n",
    "print('Количество элементов списка another_list -', len(another_list))"
   ]
  },
  {
   "cell_type": "code",
   "execution_count": 59,
   "id": "c8e0717b-ee3a-4661-abf9-7e1fea54cfef",
   "metadata": {},
   "outputs": [
    {
     "name": "stdout",
     "output_type": "stream",
     "text": [
      "----------Список one_more_list-----------\n",
      "['За стеклом лежал Питон,', 'Большой и толстый, как батон.', 'Вверх пополз,', 'Затем вернулся,', 'Круглым бубликом свернулся.', '']\n",
      "Количество элементов списка one_more_list - 6\n"
     ]
    }
   ],
   "source": [
    "one_more_list = a_poem.split('\\n')\n",
    "print('----------Список one_more_list-----------')\n",
    "print(one_more_list)\n",
    "print('Количество элементов списка one_more_list -', len(one_more_list))"
   ]
  },
  {
   "cell_type": "markdown",
   "id": "2b39f64c-c7d4-4eb5-907e-d0d9f598c33f",
   "metadata": {},
   "source": [
    "Задание 3.\n",
    "- Создайте список solyanka_list, в качестве его элементов добавьте значения каждого из известных вам типов данных python.\n",
    "- Выведите на экран содержимое списка solyanka_list.\n",
    "- Посчитайте количество элементов списка solyanka_list.\n",
    "- Выведите на экран тип пятого от начала списка элемента.\n",
    "- Добавьте в конец списка solyanka_list элемент типа \"список\" из одного элемента\n",
    "- Выведите на экран тип последнего элемента списка solyanka_list "
   ]
  },
  {
   "cell_type": "code",
   "execution_count": 63,
   "id": "1317a98b-5c29-4cb5-b0cf-9dc94a030f08",
   "metadata": {},
   "outputs": [
    {
     "name": "stdout",
     "output_type": "stream",
     "text": [
      "[275, 7.5, 'adventure', ['uno', 'two', 'uch', 'четыре', 5], {'Mike': '8-999-111-11-11', 'Ann': '8-999-222-22-22'}, True]\n"
     ]
    }
   ],
   "source": [
    "solyanka_list = [275, 7.5, 'adventure', ['uno', 'two', 'uch', 'четыре', 5], {'Mike': '8-999-111-11-11', 'Ann': '8-999-222-22-22'}, True]\n",
    "print(solyanka_list)"
   ]
  },
  {
   "cell_type": "code",
   "execution_count": 67,
   "id": "49a43391-137f-4ee6-a3ec-a3b68161e100",
   "metadata": {},
   "outputs": [
    {
     "name": "stdout",
     "output_type": "stream",
     "text": [
      "Количество элементов списка solyanka_list - 6\n"
     ]
    }
   ],
   "source": [
    "print('Количество элементов списка solyanka_list -', len(solyanka_list))"
   ]
  },
  {
   "cell_type": "code",
   "execution_count": 68,
   "id": "971768db-744b-4d6d-8f54-32d9c776f110",
   "metadata": {},
   "outputs": [
    {
     "name": "stdout",
     "output_type": "stream",
     "text": [
      "Тип пятого элемента списка (от начала) - <class 'dict'>\n"
     ]
    }
   ],
   "source": [
    "print('Тип пятого элемента списка (от начала) -', type(solyanka_list[4]))"
   ]
  },
  {
   "cell_type": "code",
   "execution_count": 74,
   "id": "55d6e56b-3c51-4517-b2c8-494a10f6f068",
   "metadata": {},
   "outputs": [
    {
     "name": "stdout",
     "output_type": "stream",
     "text": [
      "Тип последнего элемента списка - <class 'list'>\n"
     ]
    }
   ],
   "source": [
    "solyanka_list.append(['the last element'])\n",
    "print('Тип последнего элемента списка -', type(solyanka_list[-1]))"
   ]
  },
  {
   "cell_type": "markdown",
   "id": "1c3f95c6-cd6a-4ce5-b70b-654e896551fa",
   "metadata": {},
   "source": [
    "Задание 4.\n",
    "Дана последовательности чисел Фибоначчи из нескольких элементов:\n",
    "<code>\n",
    "0, 1, 1, 2, 3, 5, 8, 13, 21, 34, 55, 89, 144, 233, 377, 610, 987, 1597, 2584, 4181, 6765, 10946, 17711\n",
    "</code>\n",
    "- Создайте список fibonacci_list, элементами которого будут числа Фибонначи из задания.\n",
    "- Посчитайте и выведите на экран, сколько чисел Фибоначчи в последовательности из задания\n",
    "- Посчитайте и выведите на экран, сколько раз число 1 входит в заданную последовательность Фибоначчи.\n",
    "- Проверьте и выведите на экран результат, является ли число 21 числом Фибоначчи. Число 33? Число 987? число 9999?\n",
    "использование оператора if возможно, но не является необходимым\n"
   ]
  },
  {
   "cell_type": "code",
   "execution_count": 78,
   "id": "ea8bb03d-b06c-4f60-af8a-dcf862bc80d0",
   "metadata": {},
   "outputs": [
    {
     "name": "stdout",
     "output_type": "stream",
     "text": [
      "Количество чисел Фибоначчи в списке fibonacci_list - 23\n"
     ]
    }
   ],
   "source": [
    "fibonacci_list = [0, 1, 1, 2, 3, 5, 8, 13, 21, 34, 55, 89, 144, 233, 377, 610, 987, 1597, 2584, 4181, 6765, 10946, 17711]\n",
    "print('Количество чисел Фибоначчи в списке fibonacci_list -', len(fibonacci_list))"
   ]
  },
  {
   "cell_type": "code",
   "execution_count": 80,
   "id": "b7cef88e-9066-49f4-b6a9-2ab440a5780e",
   "metadata": {},
   "outputs": [
    {
     "name": "stdout",
     "output_type": "stream",
     "text": [
      "Количество вхождений числа 1 в список fibonacci_list - 2\n"
     ]
    }
   ],
   "source": [
    "print('Количество вхождений числа 1 в список fibonacci_list -', fibonacci_list.count(1))"
   ]
  },
  {
   "cell_type": "code",
   "execution_count": 96,
   "id": "da83376f-1c81-4341-856d-b77a021ef8a4",
   "metadata": {},
   "outputs": [
    {
     "name": "stdout",
     "output_type": "stream",
     "text": [
      "21 является числом Фибоначчи\n",
      "33 не является числом Фибоначчи\n",
      "987 является числом Фибоначчи\n",
      "9999 не является числом Фибоначчи\n"
     ]
    }
   ],
   "source": [
    "def number_in_fibonacci_list(number, list):\n",
    "    if number in list:\n",
    "        print(number, 'является числом Фибоначчи')\n",
    "    else:\n",
    "        print(number, 'не является числом Фибоначчи')\n",
    "\n",
    "number_in_fibonacci_list(21, fibonacci_list)\n",
    "number_in_fibonacci_list(33, fibonacci_list)\n",
    "number_in_fibonacci_list(987, fibonacci_list)\n",
    "number_in_fibonacci_list(9999, fibonacci_list)"
   ]
  },
  {
   "cell_type": "markdown",
   "id": "dcdad8af-7eb3-4141-9ddf-fe563743c56b",
   "metadata": {},
   "source": [
    "Задание 5.\n",
    "Задайте переменную a_list типа \"список\" со следующим содержимым:\n",
    "<code>\n",
    "1,2,5,4,3,6\n",
    "</code>\n",
    "- выведите содержимое a_list на экран\n",
    "- поменяйте местами третий и пятый элементы a_list и выведите результат на экран"
   ]
  },
  {
   "cell_type": "code",
   "execution_count": 12,
   "id": "bda69f95-b8b5-4129-b0cb-d4ccbedc60c7",
   "metadata": {},
   "outputs": [],
   "source": [
    "#решение можно писать тут"
   ]
  },
  {
   "cell_type": "markdown",
   "id": "15144689-623a-43a5-80ca-0483f66017a1",
   "metadata": {},
   "source": [
    "Задание 6.\n",
    "    Кто-то перепутал строчки в стихотворении, хорошо что они были пронумерованы.\n",
    "<code>\n",
    "    (2, \"тот большего добьётся,\" )\n",
    "    (5, \"Кто умирал, тот знает, что живёт.\")\n",
    "    (1, \"Кто битым жизнью был,\" )\n",
    "    (3, \"Пуд соли съевший выше ценит мёд.\")\n",
    "    (4, \"Кто слёзы лил, тот искренней смеётся,\") \n",
    "</code>\n",
    "    выведите на экран строки Омара Хайама в правильном порядке, используя список."
   ]
  },
  {
   "cell_type": "code",
   "execution_count": 13,
   "id": "e85d1901-5856-41e1-bfb8-382e8489f86b",
   "metadata": {},
   "outputs": [],
   "source": [
    "#решение можно писать тут"
   ]
  },
  {
   "cell_type": "markdown",
   "id": "d1eaace5-016a-4564-b189-33876e6c0e20",
   "metadata": {},
   "source": [
    "Задание 7.\n",
    "<code>\n",
    "Кто битым за дедлайн был,\n",
    "тот больше не сольется.\n",
    "Пуд багов съевший, выше ценит чистый код.\n",
    "Кто дошик ел, тот рейтинг ценит свой.\n",
    "Кто крашился, тот знает, что живой.\n",
    "</code>\n",
    "В данном задании после каждой операции выводите на экран содержимое true_story_list и количество его элементов.\n",
    "- Создайте переменную true_story_list типа список, занесите в неё третью строку из стихотворения выше.\n",
    "- Добавьте четвертую строку в конец списка true_story_list.\n",
    "- Создайте переменную true_story_slice типа список, занесите в неё четвертую и пятую строки из стихотворения выше. Добавьте содержимое true_story_slice как один последний элемент списка true_story_list.\n",
    "- Очистите весь список true_story_slice, выведите его содержимое на экран.\n",
    "- Добавьте первую строку из стихотворение в начало списка true_story_list\n",
    "- Удалите из true_story_list все элементы.\n",
    "- Удалите последний элемент списка true_story_list\n",
    "- Добавьте вторым элементом списка true_story_list вторую строчку стихотворения\n",
    "- Создайте переменную true_story_tail типа список, занесите в него пятую строку стихотворения дважды. Скопируйте элементы списка true_story_tail в конец списка true_story_list.\n",
    "- Удалите 5 элемент списка true_story_list.\n",
    "- *Выведите список true_story_list красиво в виде стихотворения. (кажется, это ещё не проходили, но попробовать стоит)"
   ]
  },
  {
   "cell_type": "code",
   "execution_count": 14,
   "id": "f022d5b0-5d91-4662-9bf2-6bc20fb1b269",
   "metadata": {},
   "outputs": [],
   "source": [
    "#решение можно писать тут"
   ]
  },
  {
   "cell_type": "code",
   "execution_count": null,
   "id": "f40fa775-8879-4f17-b419-94e0abf64173",
   "metadata": {},
   "outputs": [],
   "source": []
  }
 ],
 "metadata": {
  "kernelspec": {
   "display_name": "Python 3 (ipykernel)",
   "language": "python",
   "name": "python3"
  },
  "language_info": {
   "codemirror_mode": {
    "name": "ipython",
    "version": 3
   },
   "file_extension": ".py",
   "mimetype": "text/x-python",
   "name": "python",
   "nbconvert_exporter": "python",
   "pygments_lexer": "ipython3",
   "version": "3.10.10"
  }
 },
 "nbformat": 4,
 "nbformat_minor": 5
}
