{
 "cells": [
  {
   "cell_type": "markdown",
   "id": "a5acc644",
   "metadata": {},
   "source": [
    "# Упражнения"
   ]
  },
  {
   "cell_type": "markdown",
   "id": "41c284eb",
   "metadata": {},
   "source": [
    "Написать функцию, которая превращает любую переданную ей строку в такую же строку, записанную два раза."
   ]
  },
  {
   "cell_type": "code",
   "execution_count": 1,
   "id": "b54afa5c",
   "metadata": {},
   "outputs": [
    {
     "name": "stdout",
     "output_type": "stream",
     "text": [
      "asdfasdf\n"
     ]
    }
   ],
   "source": [
    "def double_string(string):\n",
    "    return string * 2\n",
    "\n",
    "print(double_string(\"asdf\"))"
   ]
  },
  {
   "cell_type": "markdown",
   "id": "d7025e42",
   "metadata": {},
   "source": [
    "Сделать в предыдущей задаче так, чтобы два повторения строки разделялись пробелами."
   ]
  },
  {
   "cell_type": "code",
   "execution_count": 2,
   "id": "7fae247f",
   "metadata": {},
   "outputs": [
    {
     "name": "stdout",
     "output_type": "stream",
     "text": [
      "asdf asdf\n"
     ]
    }
   ],
   "source": [
    "def double_string(string):\n",
    "    return string + \" \" + string\n",
    "\n",
    "#print(double_string(\"asdf\"), end=\", \")\n",
    "print(double_string(\"asdf\"))"
   ]
  },
  {
   "cell_type": "code",
   "execution_count": 3,
   "id": "fc214b2e",
   "metadata": {},
   "outputs": [
    {
     "name": "stdout",
     "output_type": "stream",
     "text": [
      "asdf asdf\n",
      "['a', 'f a', 'f']\n"
     ]
    }
   ],
   "source": [
    "def double_string(string):\n",
    "    return ' '.join([string]*2)\n",
    "\n",
    "st = double_string(\"asdf\")\n",
    "print(st)\n",
    "list_new = st.split('sd')\n",
    "print(list_new)"
   ]
  },
  {
   "cell_type": "code",
   "execution_count": null,
   "id": "2436eb0c",
   "metadata": {},
   "outputs": [],
   "source": []
  },
  {
   "cell_type": "markdown",
   "id": "4602d641",
   "metadata": {},
   "source": [
    "Реализовать функцию, вычисляющую сумму квадратов двух переданных ей аргументов."
   ]
  },
  {
   "cell_type": "code",
   "execution_count": 5,
   "id": "b381ee30",
   "metadata": {},
   "outputs": [
    {
     "name": "stdout",
     "output_type": "stream",
     "text": [
      "5\n"
     ]
    }
   ],
   "source": [
    "def a(x, y):\n",
    "    return x**2 + y**2\n",
    "\n",
    "print(a(1,2))"
   ]
  },
  {
   "cell_type": "markdown",
   "id": "3d62189a",
   "metadata": {},
   "source": [
    "Реализовать функцию, вычисляющую длину гипотенузы прямоугольного треугольника. Параметры – длины катетов.\n",
    "\n"
   ]
  },
  {
   "cell_type": "code",
   "execution_count": 6,
   "id": "daf70447",
   "metadata": {},
   "outputs": [],
   "source": [
    "# plan_time_take = 10"
   ]
  },
  {
   "cell_type": "markdown",
   "id": "7722f651",
   "metadata": {},
   "source": [
    "Перепешите функцию из предыдущего задания используя следующие вводные:\n",
    "\n",
    "<li>Указание: для вычисления квадратного корня можно возвести число в степень 0,5.\n",
    "<li>Можно использовать функцию, написанную в предыдущей задаче."
   ]
  },
  {
   "cell_type": "code",
   "execution_count": 7,
   "id": "24218c18",
   "metadata": {},
   "outputs": [],
   "source": [
    "# plan_time_take = 10"
   ]
  },
  {
   "cell_type": "markdown",
   "id": "444aefe2",
   "metadata": {},
   "source": [
    "Написать функцию arithmetic, принимающую 3 аргумента: первые два - числа, третий - операция, которая должна быть произведена над ними.\n",
    "\n",
    "<li>Если третий аргумент равен ‘+’, сложить их; ‘—’ -вычесть; ‘*’ — умножить; ‘/’ — разделить. В остальных случаях вернуть строку \"Неизвестная операция\".\n",
    "<li>Ожидаемый результат:"
   ]
  },
  {
   "cell_type": "code",
   "execution_count": null,
   "id": "dca52290",
   "metadata": {},
   "outputs": [],
   "source": [
    "# plan_time_take = 15"
   ]
  },
  {
   "cell_type": "markdown",
   "id": "fcd65f12",
   "metadata": {},
   "source": [
    "Написать функцию square_parameters, принимающую 1 аргумент — сторону квадрата, и возвращающую 3 значения: периметр квадрата, площадь квадрата и диагональ квадрата."
   ]
  },
  {
   "cell_type": "code",
   "execution_count": 8,
   "id": "03d60f50",
   "metadata": {},
   "outputs": [],
   "source": [
    "# plan_time_take = 15"
   ]
  },
  {
   "cell_type": "markdown",
   "id": "835141b4",
   "metadata": {},
   "source": [
    "Написать функцию is_prime, принимающую 1 аргумент — число, и определяющее, простое оно или составное.\n",
    "\n",
    "<li>Простые числа делятся без остатка только на 1 и на самого себя. Если число делится без остатка на какое-то другое число, то оно составное."
   ]
  },
  {
   "cell_type": "code",
   "execution_count": null,
   "id": "1e337081",
   "metadata": {},
   "outputs": [],
   "source": [
    "# plan_time_take = 15"
   ]
  },
  {
   "cell_type": "markdown",
   "id": "82c00f1c",
   "metadata": {},
   "source": [
    "Написать функцию is_palindrome, принимающую 1 аргумент — строку (без пробелов, строчные буквы), и определяющее, является ли она палиндромом, т.е. читается одинаково слева направо и справа налево. Если да, вернуть True, иначе False."
   ]
  },
  {
   "cell_type": "code",
   "execution_count": null,
   "id": "a8ca34cd",
   "metadata": {},
   "outputs": [],
   "source": [
    "# plan_time_take = 15"
   ]
  },
  {
   "cell_type": "markdown",
   "id": "a67a15f9",
   "metadata": {},
   "source": [
    "Как решить предыдущую задачу с помощью срезов?"
   ]
  },
  {
   "cell_type": "code",
   "execution_count": null,
   "id": "a9f6f601",
   "metadata": {},
   "outputs": [],
   "source": [
    "# plan_time_take = 20"
   ]
  },
  {
   "cell_type": "markdown",
   "id": "73adfe76",
   "metadata": {},
   "source": [
    "Как решить предыдущую задачу если сразу вернуть результат?\n",
    "\n"
   ]
  },
  {
   "cell_type": "code",
   "execution_count": null,
   "id": "058e3f95",
   "metadata": {},
   "outputs": [],
   "source": [
    "# plan_time_take = 20"
   ]
  },
  {
   "cell_type": "markdown",
   "id": "e613930a",
   "metadata": {},
   "source": [
    "Усовершенствовать предыдущую функцию, чтобы проверяемая строка могла содержать пробелы, а также прописные и строчные буквы.\n",
    "\n",
    "<li>Кидал в зубра арбуз Вадик"
   ]
  },
  {
   "cell_type": "code",
   "execution_count": null,
   "id": "77289023",
   "metadata": {},
   "outputs": [],
   "source": [
    "# plan_time_take = 20"
   ]
  }
 ],
 "metadata": {
  "kernelspec": {
   "display_name": "Python 3 (ipykernel)",
   "language": "python",
   "name": "python3"
  },
  "language_info": {
   "codemirror_mode": {
    "name": "ipython",
    "version": 3
   },
   "file_extension": ".py",
   "mimetype": "text/x-python",
   "name": "python",
   "nbconvert_exporter": "python",
   "pygments_lexer": "ipython3",
   "version": "3.9.7"
  }
 },
 "nbformat": 4,
 "nbformat_minor": 5
}
