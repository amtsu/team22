{
 "cells": [
  {
   "cell_type": "markdown",
   "id": "a8c9d507",
   "metadata": {},
   "source": [
    "# HW"
   ]
  },
  {
   "cell_type": "markdown",
   "id": "819cd36a",
   "metadata": {},
   "source": [
    "Ответьте на вопросы:\n",
    "- что такое программа?\n",
    "- зачем нужны программы?\n",
    "- зачем нужен язык программирования?\n",
    "- что могу программы?\n",
    "- из чего состоят программы?"
   ]
  },
  {
   "cell_type": "code",
   "execution_count": null,
   "id": "bd074cba",
   "metadata": {},
   "outputs": [],
   "source": []
  },
  {
   "cell_type": "markdown",
   "id": "6efaaa15",
   "metadata": {},
   "source": [
    "# Type Integer"
   ]
  },
  {
   "cell_type": "markdown",
   "id": "d4e5b63d",
   "metadata": {},
   "source": [
    "Попробовать попользоваться питоном как калькулятором\n",
    "- сложите 13 и 22 (done)\n",
    "- перемножте 31 и 7 (done)\n",
    "- найдите целую часть от деления 132423 на 32 (done)\n",
    "- найдите остаток от деления 23423 на 43 (done)\n",
    "- возвеите в 4 стень число 5 (done)"
   ]
  },
  {
   "cell_type": "code",
   "execution_count": null,
   "id": "8ec56e87",
   "metadata": {},
   "outputs": [],
   "source": []
  },
  {
   "cell_type": "code",
   "execution_count": 4,
   "id": "0f8e87b9",
   "metadata": {},
   "outputs": [
    {
     "name": "stdout",
     "output_type": "stream",
     "text": [
      "35\n"
     ]
    }
   ],
   "source": [
    "# сложите 13 и 22\n",
    "\n",
    "a = 13 + 22\n",
    "print(a)"
   ]
  },
  {
   "cell_type": "code",
   "execution_count": 6,
   "id": "7eb9ab75",
   "metadata": {},
   "outputs": [
    {
     "name": "stdout",
     "output_type": "stream",
     "text": [
      "217\n"
     ]
    }
   ],
   "source": [
    "# перемножте 31 и 7\n",
    "\n",
    "b = 31 * 7\n",
    "print(b)"
   ]
  },
  {
   "cell_type": "code",
   "execution_count": 7,
   "id": "e64fb8d6",
   "metadata": {},
   "outputs": [
    {
     "name": "stdout",
     "output_type": "stream",
     "text": [
      "4138\n"
     ]
    }
   ],
   "source": [
    "# найдите целую часть от деления 132423 на 32\n",
    "\n",
    "c = 132423 // 32\n",
    "print(c)"
   ]
  },
  {
   "cell_type": "code",
   "execution_count": 1,
   "id": "ff0a16aa",
   "metadata": {},
   "outputs": [
    {
     "name": "stdout",
     "output_type": "stream",
     "text": [
      "31\n"
     ]
    }
   ],
   "source": [
    "# найдите остаток от деления 23423 на 43\n",
    "\n",
    "d = 23423 % 43\n",
    "print(d)"
   ]
  },
  {
   "cell_type": "code",
   "execution_count": 2,
   "id": "d72d217d",
   "metadata": {},
   "outputs": [
    {
     "name": "stdout",
     "output_type": "stream",
     "text": [
      "625\n"
     ]
    }
   ],
   "source": [
    "# возвеите в 4 стень число 5\n",
    "\n",
    "e = 5 ** 4\n",
    "print(e)"
   ]
  },
  {
   "cell_type": "markdown",
   "id": "bcea6d12",
   "metadata": {},
   "source": [
    "# Type List"
   ]
  },
  {
   "cell_type": "markdown",
   "id": "12e35747",
   "metadata": {},
   "source": [
    "# №1 Задание: создайте список дел.\n",
    "\n",
    "**Пример списка с 2 делами:**\n",
    "\n",
    "\n",
    "<center> \n",
    "    <table>\n",
    "        <tr>\n",
    "            <td>\n",
    "                №\n",
    "            </td>\n",
    "            <td>\n",
    "                Дело\n",
    "            </td>\n",
    "            <td>\n",
    "                Дата до котрой нужно сделать\n",
    "            </td>            \n",
    "            <td>\n",
    "                Дата когда было сделано\n",
    "            </td>            \n",
    "        </tr>\n",
    "        <tr>\n",
    "            <td>\n",
    "                Дело №1\n",
    "            </td>\n",
    "            <td>\n",
    "                купить хлеб\n",
    "            </td>\n",
    "            <td>\n",
    "                28-08-2022\n",
    "            </td>\n",
    "            <td>\n",
    "                28-08-2022\n",
    "            </td>            \n",
    "        </tr>\n",
    "        <tr>\n",
    "            <td>\n",
    "                Дело №2\n",
    "            </td>\n",
    "            <td>\n",
    "                помыть полы\n",
    "            </td>\n",
    "            <td>\n",
    "                28-08-2022\n",
    "            </td>\n",
    "            <td>\n",
    "                -\n",
    "            </td>\n",
    "        </tr>\n",
    "    </table>\n",
    "</center> \n",
    "\n",
    "Рекомендуемый размер списка 22 элемента.\n",
    "\n",
    "После создания списка дел. \n",
    "* Нужно посчитать общее количество дел в списке.\n",
    "* Напечатать все дела\n",
    "* Напечатать только 2 и 5 дело\n",
    "\n",
    "# Это еще не проходили\n",
    "* Сравнить каждое дело из списка с строкой “buy bread”  и если оно совпадает то напечатать YES\n",
    "* Если каждое дело из списка ваших дела написано на английском и является строкой то вывести длину каждой из этих строк\n",
    "* Напечатать yes если длина строки в которой записано дело больше 10\n",
    "* Напечатать дела индекс которых в списке делится без остатка на 2\n",
    "* Напечатать дело с индексом 1 и 4 из списка запланированных дел\n",
    "* Напечатать те индексы у которых значения в списке запланированных дат и списке реализованных дат равны друг другу \n",
    "* Вывести только те дела которые вы сделали в тот же день в который их запланировали\n",
    "* Посчитать сколько дел у вас было одинаковых ( т.е. если есть запись “купить хлеб” 28-08-2022 и “купить хлеб” 14-08-2022 то финально нужно вывести “купить хлеб” 2 (можно сделать 2 варианта без использования словарей и с испольщованием словарям)\n"
   ]
  },
  {
   "cell_type": "code",
   "execution_count": null,
   "id": "c21e7aed",
   "metadata": {},
   "outputs": [],
   "source": []
  },
  {
   "cell_type": "markdown",
   "id": "4b3e08a5",
   "metadata": {},
   "source": [
    "# №2 Задание: создайте список расхдов и доходов.\n",
    "\n",
    "**Пример списка доходов и расходов**\n",
    "\n",
    "<center> \n",
    "    <table>\n",
    "        <tr>\n",
    "            <td>\n",
    "                №\n",
    "            </td>\n",
    "            <td>\n",
    "                Описание\n",
    "            </td>\n",
    "            <td>\n",
    "                Сумма\n",
    "            </td>\n",
    "            <td>\n",
    "                Дата\n",
    "            </td>\n",
    "        </tr>\n",
    "        <tr>\n",
    "            <td>\n",
    "                №1 \n",
    "            </td>            \n",
    "            <td>\n",
    "                купил хлеб\n",
    "            </td>\n",
    "            <td>\n",
    "                -50\n",
    "            </td>\n",
    "            <td>\n",
    "                09-08-2022\n",
    "            </td>\n",
    "        </tr>\n",
    "        <tr>\n",
    "            <td>\n",
    "                №2 \n",
    "            </td>            \n",
    "            <td>\n",
    "                купил тапочки\n",
    "            </td>\n",
    "            <td>\n",
    "                -200\n",
    "            </td>\n",
    "            <td>\n",
    "                11-08-2022\n",
    "            </td>\n",
    "        </tr>\n",
    "        <tr>\n",
    "            <td>\n",
    "                №3 \n",
    "            </td>            \n",
    "            <td>\n",
    "                получил зп\n",
    "            </td>\n",
    "            <td>\n",
    "                50000\n",
    "            </td>\n",
    "            <td>\n",
    "                28-08-2022\n",
    "            </td>\n",
    "        </tr>\n",
    "    </table>\n",
    "</center> \n",
    "\n",
    "* Рекомендуемый размер списка 22 элемента.\n",
    "* добавить к списку еще 2 действия\n",
    "* посчитать сколько всего действий в вашем списке\n",
    "\n",
    "\n",
    "\n",
    "# Это еще не проходили\n",
    "\n",
    "* посчитайте сколько всего вы потратили за все время\n",
    "* посчитать сколько трат было меньше 300 рублей\n",
    "* посчитать сколько сумму трат которые были больше 10000 рублей\n",
    "* выдать номера трат которые находятся в диапазоне между 300 и 10000 рублей\n",
    "* выбрать из списка на втором шаге самую минимальную трату\n",
    "* посчитать сколько трат было меньше 300 рублей\n",
    "* посчитайте сколько заработали за все время\n",
    "* посчитайте какие самые частые у вас траты(можно попробовать с использованием словарей)\n",
    "* добавить к списку еще 3 действия\n",
    "* Найти максимальную трату\n",
    "* Найти минимальный доход\n",
    "* Посчитать среднюю стоимость ваших трат"
   ]
  },
  {
   "cell_type": "code",
   "execution_count": null,
   "id": "1293ae64",
   "metadata": {},
   "outputs": [],
   "source": []
  },
  {
   "cell_type": "markdown",
   "id": "e04ea746",
   "metadata": {},
   "source": [
    "# Type string"
   ]
  },
  {
   "cell_type": "markdown",
   "id": "76e75f68",
   "metadata": {},
   "source": [
    "Пусть дана фраза \"i love to travel\". Напишите код для вычисление:\n",
    "- какой индекс будет у первой буквы t (done)\n",
    "- какой индекс будет у буквы r (done)\n",
    "- как вывести из строки слова с 2 по 6 индекс\n",
    "- какой какие индексы нужно указать в срезе чтобы вывести to\n",
    "- что будет если строку умножить на число 5\n",
    "- как понять содержит ли наша строка подстроку ral\n",
    "- с какого индекса начинается подстрока to\n",
    "- какая длину строки\n",
    "- измените первый символ в строке на заглавный\n",
    "- прибавьте к строке строку \" Hello!\""
   ]
  },
  {
   "cell_type": "code",
   "execution_count": 3,
   "id": "01e61e14",
   "metadata": {},
   "outputs": [
    {
     "name": "stdout",
     "output_type": "stream",
     "text": [
      "i love to travel\n"
     ]
    }
   ],
   "source": [
    "# дана фраза \"i love to travel\"\n",
    "\n",
    "fraza = 'i love to travel'\n",
    "print(fraza)"
   ]
  },
  {
   "cell_type": "code",
   "execution_count": 4,
   "id": "777deebe",
   "metadata": {},
   "outputs": [
    {
     "name": "stdout",
     "output_type": "stream",
     "text": [
      "7\n"
     ]
    }
   ],
   "source": [
    "# какой индекс будет у первой буквы t?\n",
    "\n",
    "print(fraza.find('t'))"
   ]
  },
  {
   "cell_type": "code",
   "execution_count": 6,
   "id": "45eca4cc",
   "metadata": {},
   "outputs": [
    {
     "name": "stdout",
     "output_type": "stream",
     "text": [
      "11\n"
     ]
    }
   ],
   "source": [
    "# какой индекс будет у буквы r?\n",
    "\n",
    "print(fraza.find('r'))"
   ]
  },
  {
   "cell_type": "code",
   "execution_count": 11,
   "id": "c838d81a",
   "metadata": {},
   "outputs": [
    {
     "name": "stdout",
     "output_type": "stream",
     "text": [
      "love \n"
     ]
    }
   ],
   "source": [
    "# как вывести из строки слова с 2 по 6 индекс?\n",
    "\n",
    "print(fraza[2:7])"
   ]
  },
  {
   "cell_type": "code",
   "execution_count": 27,
   "id": "96310fa2",
   "metadata": {},
   "outputs": [
    {
     "name": "stdout",
     "output_type": "stream",
     "text": [
      "Начальный индекс to - 7\n",
      "Конечный индекс to - 9\n",
      "to\n"
     ]
    }
   ],
   "source": [
    "# какой какие индексы нужно указать в срезе чтобы вывести to?\n",
    "\n",
    "start_index_of_to = fraza.find('to')\n",
    "final_index_of_to = start_index_of_to + len('to')\n",
    "print('Начальный индекс to - %s' % start_index_of_to)\n",
    "print('Конечный индекс to - %s' % final_index_of_to)\n",
    "print(fraza[start_index_of_to:final_index_of_to])"
   ]
  },
  {
   "cell_type": "code",
   "execution_count": 28,
   "id": "bb81104a",
   "metadata": {},
   "outputs": [
    {
     "name": "stdout",
     "output_type": "stream",
     "text": [
      "i love to traveli love to traveli love to traveli love to traveli love to travel\n"
     ]
    }
   ],
   "source": [
    "# что будет если строку умножить на число 5?\n",
    "\n",
    "new_fraza = fraza * 5\n",
    "print(new_fraza)"
   ]
  },
  {
   "cell_type": "code",
   "execution_count": 33,
   "id": "64a8930a",
   "metadata": {},
   "outputs": [
    {
     "name": "stdout",
     "output_type": "stream",
     "text": [
      "11\n",
      "11\n",
      "11\n",
      "11\n",
      "11\n",
      "11\n",
      "11\n",
      "11\n",
      "11\n",
      "11\n",
      "11\n",
      "11\n",
      "11\n",
      "11\n",
      "11\n",
      "11\n"
     ]
    }
   ],
   "source": [
    "# как понять содержит ли наша строка подстроку ral?\n",
    "\n",
    "for i in fraza:\n",
    "    if fraza.find('rav') > -1:\n",
    "        print(fraza.find('rav'))\n",
    "    else:\n",
    "        print('Такая подстрока не найдена в данной строке')"
   ]
  },
  {
   "cell_type": "code",
   "execution_count": 29,
   "id": "5efb6074",
   "metadata": {},
   "outputs": [
    {
     "name": "stdout",
     "output_type": "stream",
     "text": [
      "Начальный индекс to - 7\n"
     ]
    }
   ],
   "source": [
    "# с какого индекса начинается подстрока to?\n",
    "\n",
    "print('Начальный индекс to - %s' % start_index_of_to) - # рассмотрел в примере выше"
   ]
  },
  {
   "cell_type": "code",
   "execution_count": null,
   "id": "000ba645",
   "metadata": {},
   "outputs": [],
   "source": [
    "# какая длину строки"
   ]
  },
  {
   "cell_type": "code",
   "execution_count": null,
   "id": "33aede8b",
   "metadata": {},
   "outputs": [],
   "source": [
    "# измените первый символ в строке на заглавный"
   ]
  },
  {
   "cell_type": "code",
   "execution_count": null,
   "id": "f5fb171d",
   "metadata": {},
   "outputs": [],
   "source": [
    "# прибавьте к строке строку \" Hello!\""
   ]
  },
  {
   "cell_type": "code",
   "execution_count": null,
   "id": "85039d34",
   "metadata": {},
   "outputs": [],
   "source": []
  }
 ],
 "metadata": {
  "kernelspec": {
   "display_name": "Python 3 (ipykernel)",
   "language": "python",
   "name": "python3"
  },
  "language_info": {
   "codemirror_mode": {
    "name": "ipython",
    "version": 3
   },
   "file_extension": ".py",
   "mimetype": "text/x-python",
   "name": "python",
   "nbconvert_exporter": "python",
   "pygments_lexer": "ipython3",
   "version": "3.9.7"
  }
 },
 "nbformat": 4,
 "nbformat_minor": 5
}
