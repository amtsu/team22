{
 "cells": [
  {
   "cell_type": "code",
   "execution_count": 1,
   "id": "14246b62",
   "metadata": {},
   "outputs": [
    {
     "data": {
      "text/plain": [
       "'/home/jupyter-jatashpulatov/github/team22/users/jatashpulatov/folder'"
      ]
     },
     "execution_count": 1,
     "metadata": {},
     "output_type": "execute_result"
    }
   ],
   "source": [
    "pwd"
   ]
  },
  {
   "cell_type": "code",
   "execution_count": 14,
   "id": "3074fb83",
   "metadata": {},
   "outputs": [
    {
     "name": "stdout",
     "output_type": "stream",
     "text": [
      "/home/jupyter-jatashpulatov/github/team22\n"
     ]
    }
   ],
   "source": [
    "cd ~/github/team22"
   ]
  },
  {
   "cell_type": "code",
   "execution_count": 15,
   "id": "c9f755e1",
   "metadata": {},
   "outputs": [
    {
     "data": {
      "text/plain": [
       "'/home/jupyter-jatashpulatov/github/team22'"
      ]
     },
     "execution_count": 15,
     "metadata": {},
     "output_type": "execute_result"
    }
   ],
   "source": [
    "pwd"
   ]
  },
  {
   "cell_type": "markdown",
   "id": "d8d375c4",
   "metadata": {},
   "source": [
    "Переключаемся на main"
   ]
  },
  {
   "cell_type": "code",
   "execution_count": 16,
   "id": "1065dd43",
   "metadata": {},
   "outputs": [
    {
     "name": "stdout",
     "output_type": "stream",
     "text": [
      "M\tlibrary/theory/type_integer.ipynb\r\n",
      "M\tlibrary/theory/type_string.ipynb\r\n",
      "M\tlibrary/theory/variables.ipynb\r\n",
      "Already on 'main'\r\n",
      "Your branch is up to date with 'origin/main'.\r\n"
     ]
    }
   ],
   "source": [
    "!git checkout main"
   ]
  },
  {
   "cell_type": "markdown",
   "id": "9d2494cf",
   "metadata": {},
   "source": [
    "Забираем последние изменения из main"
   ]
  },
  {
   "cell_type": "code",
   "execution_count": 17,
   "id": "291eb9da",
   "metadata": {},
   "outputs": [
    {
     "name": "stdout",
     "output_type": "stream",
     "text": [
      "Already up to date.\r\n"
     ]
    }
   ],
   "source": [
    "!git pull"
   ]
  },
  {
   "cell_type": "markdown",
   "id": "8523b253",
   "metadata": {},
   "source": [
    "Далее создаем ветку под новю задачу.\n",
    "В нашем случае это код решаемых примеров, значит назовём новую ветку home_work_2_jatashpulatov"
   ]
  },
  {
   "cell_type": "code",
   "execution_count": 2,
   "id": "f12f499e",
   "metadata": {},
   "outputs": [
    {
     "name": "stdout",
     "output_type": "stream",
     "text": [
      "fatal: A branch named 'home_work_2_jatashpulatov' already exists.\r\n"
     ]
    }
   ],
   "source": [
    "!git branch home_work_2_jatashpulatov"
   ]
  },
  {
   "cell_type": "markdown",
   "id": "615150a9",
   "metadata": {},
   "source": [
    "После создания ветки нужно на нее переключится"
   ]
  },
  {
   "cell_type": "code",
   "execution_count": 11,
   "id": "d30618bf",
   "metadata": {},
   "outputs": [
    {
     "name": "stdout",
     "output_type": "stream",
     "text": [
      "  home_work_2_jatashpulatov\u001b[m\r\n",
      "* \u001b[32mmain\u001b[m\r\n"
     ]
    }
   ],
   "source": [
    "!git branch"
   ]
  },
  {
   "cell_type": "code",
   "execution_count": 18,
   "id": "0d3fd81a",
   "metadata": {},
   "outputs": [
    {
     "name": "stdout",
     "output_type": "stream",
     "text": [
      "M\tlibrary/theory/type_integer.ipynb\r\n",
      "M\tlibrary/theory/type_string.ipynb\r\n",
      "M\tlibrary/theory/variables.ipynb\r\n",
      "Switched to branch 'home_work_2_jatashpulatov'\r\n"
     ]
    }
   ],
   "source": [
    "!git checkout home_work_2_jatashpulatov"
   ]
  },
  {
   "cell_type": "markdown",
   "id": "be30a522",
   "metadata": {},
   "source": [
    "Теперь мы готовы к написанию кода\n",
    "\n",
    "Перешли в свою проектную папку users/amtsurkov"
   ]
  },
  {
   "cell_type": "code",
   "execution_count": 29,
   "id": "521638ae",
   "metadata": {},
   "outputs": [
    {
     "name": "stdout",
     "output_type": "stream",
     "text": [
      "/home/jupyter-jatashpulatov/github/team22/users/jatashpulatov\n"
     ]
    }
   ],
   "source": [
    "cd users/jatashpulatov"
   ]
  },
  {
   "cell_type": "markdown",
   "id": "6f324d96",
   "metadata": {},
   "source": [
    "Сделали новая фаил.\n",
    "Внесли изменения(отправим в фаил содержиммой домашней директории)"
   ]
  },
  {
   "cell_type": "code",
   "execution_count": 4,
   "id": "fa9aafa6",
   "metadata": {},
   "outputs": [],
   "source": [
    "ls -la ~ > a1.txt"
   ]
  },
  {
   "cell_type": "markdown",
   "id": "5b3bb15b",
   "metadata": {},
   "source": [
    "Проверим что фаил появился"
   ]
  },
  {
   "cell_type": "code",
   "execution_count": 5,
   "id": "77793e4a",
   "metadata": {},
   "outputs": [
    {
     "name": "stdout",
     "output_type": "stream",
     "text": [
      "-rw-r--r-- 1 jupyter-jatashpulatov jupyter-jatashpulatov 1469 Jan 22 18:47 a1.txt\r\n"
     ]
    }
   ],
   "source": [
    "ls -la a1.txt"
   ]
  },
  {
   "cell_type": "markdown",
   "id": "e3b2d971",
   "metadata": {},
   "source": [
    "Создали еще фаил\n",
    "Отправим туда вывод команды uname"
   ]
  },
  {
   "cell_type": "code",
   "execution_count": 7,
   "id": "6e5c54a8",
   "metadata": {},
   "outputs": [],
   "source": [
    "!uname > a2.txt"
   ]
  },
  {
   "cell_type": "code",
   "execution_count": 8,
   "id": "374df8ce",
   "metadata": {},
   "outputs": [
    {
     "name": "stdout",
     "output_type": "stream",
     "text": [
      "-rw-r--r-- 1 jupyter-jatashpulatov jupyter-jatashpulatov 6 Jan 22 18:48 a2.txt\r\n"
     ]
    }
   ],
   "source": [
    "ls -la a2.txt"
   ]
  },
  {
   "cell_type": "markdown",
   "id": "e19fd16a",
   "metadata": {},
   "source": [
    "Получили работающий код.\n",
    "Чтобы потом иметь возможность откатиться к этому состоянию мы решаем сохраниться.\n",
    "Для этого нужно указать изменения в каких фалах нам интересны для сохаранения.\n",
    "Для того чтобы посмотреть какие фалы подверглись изменениям нужно вести команду"
   ]
  },
  {
   "cell_type": "code",
   "execution_count": 14,
   "id": "c589c3c9",
   "metadata": {},
   "outputs": [
    {
     "name": "stdout",
     "output_type": "stream",
     "text": [
      "On branch home_work_2_jatashpulatov\r\n",
      "Changes not staged for commit:\r\n",
      "  (use \"git add <file>...\" to update what will be committed)\r\n",
      "  (use \"git restore <file>...\" to discard changes in working directory)\r\n",
      "\t\u001b[31mmodified:   ../../../library/theory/type_integer.ipynb\u001b[m\r\n",
      "\t\u001b[31mmodified:   ../../../library/theory/type_string.ipynb\u001b[m\r\n",
      "\t\u001b[31mmodified:   ../../../library/theory/variables.ipynb\u001b[m\r\n",
      "\r\n",
      "Untracked files:\r\n",
      "  (use \"git add <file>...\" to include in what will be committed)\r\n",
      "\t\u001b[31m../\u001b[m\r\n",
      "\r\n",
      "no changes added to commit (use \"git add\" and/or \"git commit -a\")\r\n"
     ]
    }
   ],
   "source": [
    "!git status"
   ]
  },
  {
   "cell_type": "markdown",
   "id": "64220d95",
   "metadata": {},
   "source": [
    "К примеру по нашей логике нам важен только Файл a1.txt\n",
    "Тогда мы сначала добавляем этот фаил к коммиту"
   ]
  },
  {
   "cell_type": "code",
   "execution_count": 15,
   "id": "9f439751",
   "metadata": {},
   "outputs": [],
   "source": [
    "!git add a1.txt"
   ]
  },
  {
   "cell_type": "code",
   "execution_count": 16,
   "id": "f0885b91",
   "metadata": {},
   "outputs": [
    {
     "name": "stdout",
     "output_type": "stream",
     "text": [
      "On branch home_work_2_jatashpulatov\r\n",
      "Changes to be committed:\r\n",
      "  (use \"git restore --staged <file>...\" to unstage)\r\n",
      "\t\u001b[32mnew file:   a1.txt\u001b[m\r\n",
      "\r\n",
      "Changes not staged for commit:\r\n",
      "  (use \"git add <file>...\" to update what will be committed)\r\n",
      "  (use \"git restore <file>...\" to discard changes in working directory)\r\n",
      "\t\u001b[31mmodified:   ../../../library/theory/type_integer.ipynb\u001b[m\r\n",
      "\t\u001b[31mmodified:   ../../../library/theory/type_string.ipynb\u001b[m\r\n",
      "\t\u001b[31mmodified:   ../../../library/theory/variables.ipynb\u001b[m\r\n",
      "\r\n",
      "Untracked files:\r\n",
      "  (use \"git add <file>...\" to include in what will be committed)\r\n",
      "\t\u001b[31ma2.txt\u001b[m\r\n",
      "\t\u001b[31mhm_3_git_base.ipynb\u001b[m\r\n",
      "\t\u001b[31m../hw_1/\u001b[m\r\n",
      "\t\u001b[31m../hw_2/\u001b[m\r\n",
      "\r\n"
     ]
    }
   ],
   "source": [
    "!git status"
   ]
  },
  {
   "cell_type": "markdown",
   "id": "8e53a4da",
   "metadata": {},
   "source": [
    "И теперь сохраняя"
   ]
  },
  {
   "cell_type": "code",
   "execution_count": 19,
   "id": "d45141d8",
   "metadata": {},
   "outputs": [
    {
     "name": "stdout",
     "output_type": "stream",
     "text": [
      "[home_work_2_jatashpulatov b50d61d] my first commit\r\n",
      " 1 file changed, 16 insertions(+)\r\n",
      " create mode 100644 users/jatashpulatov/folder/a1.txt\r\n"
     ]
    }
   ],
   "source": [
    "!git commit -m 'my first commit'"
   ]
  },
  {
   "cell_type": "markdown",
   "id": "61f1377f",
   "metadata": {},
   "source": [
    "-m ключ команды укрывающий что комментарии будет идти в кавычках 'my first commit' - зарь указывает коротко что вы хотели добиться этим комиком. Крайне делительно писать в повелительной форме.\n",
    "\n",
    "К примеру : Исправить ошибку с типами\n",
    "\n",
    "Или: Сохранить данные в фаил"
   ]
  },
  {
   "cell_type": "code",
   "execution_count": 18,
   "id": "ae5d31b4",
   "metadata": {},
   "outputs": [],
   "source": [
    "!git config --global user.name \"jatashpulatov\"\n",
    "!git config --global user.email djpj_jama@mail.ru"
   ]
  },
  {
   "cell_type": "code",
   "execution_count": null,
   "id": "a91a1684",
   "metadata": {},
   "outputs": [],
   "source": []
  },
  {
   "cell_type": "code",
   "execution_count": 20,
   "id": "1b10b639",
   "metadata": {},
   "outputs": [],
   "source": [
    "ls -la /home/jupyter-jatashpulatov/github/team22/users/jatashpulatov/ > a1.txt"
   ]
  },
  {
   "cell_type": "code",
   "execution_count": 21,
   "id": "a194f6b8",
   "metadata": {},
   "outputs": [
    {
     "name": "stdout",
     "output_type": "stream",
     "text": [
      "On branch home_work_2_jatashpulatov\r\n",
      "Changes not staged for commit:\r\n",
      "  (use \"git add <file>...\" to update what will be committed)\r\n",
      "  (use \"git restore <file>...\" to discard changes in working directory)\r\n",
      "\t\u001b[31mmodified:   ../../../library/theory/type_integer.ipynb\u001b[m\r\n",
      "\t\u001b[31mmodified:   ../../../library/theory/type_string.ipynb\u001b[m\r\n",
      "\t\u001b[31mmodified:   ../../../library/theory/variables.ipynb\u001b[m\r\n",
      "\t\u001b[31mmodified:   a1.txt\u001b[m\r\n",
      "\r\n",
      "Untracked files:\r\n",
      "  (use \"git add <file>...\" to include in what will be committed)\r\n",
      "\t\u001b[31ma2.txt\u001b[m\r\n",
      "\t\u001b[31mhm_3_git_base.ipynb\u001b[m\r\n",
      "\t\u001b[31m../hw_1/\u001b[m\r\n",
      "\t\u001b[31m../hw_2/\u001b[m\r\n",
      "\r\n",
      "no changes added to commit (use \"git add\" and/or \"git commit -a\")\r\n"
     ]
    }
   ],
   "source": [
    "!git status"
   ]
  },
  {
   "cell_type": "code",
   "execution_count": 22,
   "id": "6df488c7",
   "metadata": {},
   "outputs": [
    {
     "name": "stdout",
     "output_type": "stream",
     "text": [
      "\u001b[1mdiff --git a/library/theory/type_integer.ipynb b/library/theory/type_integer.ipynb\u001b[m\r\n",
      "\u001b[1mindex 9e1cb17..471cbaa 100644\u001b[m\r\n",
      "\u001b[1m--- a/library/theory/type_integer.ipynb\u001b[m\r\n",
      "\u001b[1m+++ b/library/theory/type_integer.ipynb\u001b[m\r\n",
      "\u001b[36m@@ -178,10 +178,103 @@\u001b[m\r\n",
      "   },\u001b[m\r\n",
      "   {\u001b[m\r\n",
      "    \"cell_type\": \"code\",\u001b[m\r\n",
      "\u001b[31m-   \"execution_count\": null,\u001b[m\r\n",
      "\u001b[32m+\u001b[m\u001b[32m   \"execution_count\": 1,\u001b[m\r\n",
      "    \"metadata\": {},\u001b[m\r\n",
      "\u001b[31m-   \"outputs\": [],\u001b[m\r\n",
      "\u001b[31m-   \"source\": []\u001b[m\r\n",
      "\u001b[32m+\u001b[m\u001b[32m   \"outputs\": [\u001b[m\r\n",
      "\u001b[32m+\u001b[m\u001b[32m    {\u001b[m\r\n",
      "\u001b[32m+\u001b[m\u001b[32m     \"data\": {\u001b[m\r\n",
      "\u001b[32m+\u001b[m\u001b[32m      \"text/plain\": [\u001b[m\r\n",
      "\u001b[32m+\u001b[m\u001b[32m       \"35\"\u001b[m\r\n",
      "\u001b[32m+\u001b[m\u001b[32m      ]\u001b[m\r\n",
      "\u001b[32m+\u001b[m\u001b[32m     },\u001b[m\r\n",
      "\u001b[32m+\u001b[m\u001b[32m     \"execution_count\": 1,\u001b[m\r\n",
      "\u001b[32m+\u001b[m\u001b[32m     \"metadata\": {},\u001b[m\r\n",
      "\u001b[32m+\u001b[m\u001b[32m     \"output_type\": \"execute_result\"\u001b[m\r\n",
      "\u001b[32m+\u001b[m\u001b[32m    }\u001b[m\r\n",
      "\u001b[32m+\u001b[m\u001b[32m   ],\u001b[m\r\n",
      "\u001b[32m+\u001b[m\u001b[32m   \"source\": [\u001b[m\r\n",
      "\u001b[32m+\u001b[m\u001b[32m    \"13 + 22\"\u001b[m\r\n",
      "\u001b[32m+\u001b[m\u001b[32m   ]\u001b[m\r\n",
      "\u001b[32m+\u001b[m\u001b[32m  },\u001b[m\r\n",
      "\u001b[32m+\u001b[m\u001b[32m  {\u001b[m\r\n",
      "\u001b[32m+\u001b[m\u001b[32m   \"cell_type\": \"code\",\u001b[m\r\n",
      "\u001b[32m+\u001b[m\u001b[32m   \"execution_count\": 2,\u001b[m\r\n",
      "\u001b[32m+\u001b[m\u001b[32m   \"metadata\": {},\u001b[m\r\n",
      "\u001b[32m+\u001b[m\u001b[32m   \"outputs\": [\u001b[m\r\n",
      "\u001b[32m+\u001b[m\u001b[32m    {\u001b[m\r\n",
      "\u001b[32m+\u001b[m\u001b[32m     \"data\": {\u001b[m\r\n",
      "\u001b[32m+\u001b[m\u001b[32m      \"text/plain\": [\u001b[m\r\n",
      "\u001b[32m+\u001b[m\u001b[32m       \"217\"\u001b[m\r\n",
      "\u001b[32m+\u001b[m\u001b[32m      ]\u001b[m\r\n",
      "\u001b[32m+\u001b[m\u001b[32m     },\u001b[m\r\n",
      "\u001b[32m+\u001b[m\u001b[32m     \"execution_count\": 2,\u001b[m\r\n",
      "\u001b[32m+\u001b[m\u001b[32m     \"metadata\": {},\u001b[m\r\n",
      "\u001b[32m+\u001b[m\u001b[32m     \"output_type\": \"execute_result\"\u001b[m\r\n",
      "\u001b[32m+\u001b[m\u001b[32m    }\u001b[m\r\n",
      "\u001b[32m+\u001b[m\u001b[32m   ],\u001b[m\r\n",
      "\u001b[32m+\u001b[m\u001b[32m   \"source\": [\u001b[m\r\n",
      "\u001b[32m+\u001b[m\u001b[32m    \"31 * 7\"\u001b[m\r\n",
      "\u001b[32m+\u001b[m\u001b[32m   ]\u001b[m\r\n",
      "\u001b[32m+\u001b[m\u001b[32m  },\u001b[m\r\n",
      "\u001b[32m+\u001b[m\u001b[32m  {\u001b[m\r\n",
      "\u001b[32m+\u001b[m\u001b[32m   \"cell_type\": \"code\",\u001b[m\r\n",
      "\u001b[32m+\u001b[m\u001b[32m   \"execution_count\": 4,\u001b[m\r\n",
      "\u001b[32m+\u001b[m\u001b[32m   \"metadata\": {},\u001b[m\r\n",
      "\u001b[32m+\u001b[m\u001b[32m   \"outputs\": [\u001b[m\r\n",
      "\u001b[32m+\u001b[m\u001b[32m    {\u001b[m\r\n",
      "\u001b[32m+\u001b[m\u001b[32m     \"data\": {\u001b[m\r\n",
      "\u001b[32m+\u001b[m\u001b[32m      \"text/plain\": [\u001b[m\r\n",
      "\u001b[32m+\u001b[m\u001b[32m       \"4138\"\u001b[m\r\n",
      "\u001b[32m+\u001b[m\u001b[32m      ]\u001b[m\r\n",
      "\u001b[32m+\u001b[m\u001b[32m     },\u001b[m\r\n",
      "\u001b[32m+\u001b[m\u001b[32m     \"execution_count\": 4,\u001b[m\r\n",
      "\u001b[32m+\u001b[m\u001b[32m     \"metadata\": {},\u001b[m\r\n",
      "\u001b[32m+\u001b[m\u001b[32m     \"output_type\": \"execute_result\"\u001b[m\r\n",
      "\u001b[32m+\u001b[m\u001b[32m    }\u001b[m\r\n",
      "\u001b[32m+\u001b[m\u001b[32m   ],\u001b[m\r\n",
      "\u001b[32m+\u001b[m\u001b[32m   \"source\": [\u001b[m\r\n",
      "\u001b[32m+\u001b[m\u001b[32m    \"132423 // 32\"\u001b[m\r\n",
      "\u001b[32m+\u001b[m\u001b[32m   ]\u001b[m\r\n",
      "\u001b[32m+\u001b[m\u001b[32m  },\u001b[m\r\n",
      "\u001b[32m+\u001b[m\u001b[32m  {\u001b[m\r\n",
      "\u001b[32m+\u001b[m\u001b[32m   \"cell_type\": \"code\",\u001b[m\r\n",
      "\u001b[32m+\u001b[m\u001b[32m   \"execution_count\": 5,\u001b[m\r\n",
      "\u001b[32m+\u001b[m\u001b[32m   \"metadata\": {},\u001b[m\r\n",
      "\u001b[32m+\u001b[m\u001b[32m   \"outputs\": [\u001b[m\r\n",
      "\u001b[32m+\u001b[m\u001b[32m    {\u001b[m\r\n",
      "\u001b[32m+\u001b[m\u001b[32m     \"data\": {\u001b[m\r\n",
      "\u001b[32m+\u001b[m\u001b[32m      \"text/plain\": [\u001b[m\r\n",
      "\u001b[32m+\u001b[m\u001b[32m       \"31\"\u001b[m\r\n",
      "\u001b[32m+\u001b[m\u001b[32m      ]\u001b[m\r\n",
      "\u001b[32m+\u001b[m\u001b[32m     },\u001b[m\r\n",
      "\u001b[32m+\u001b[m\u001b[32m     \"execution_count\": 5,\u001b[m\r\n",
      "\u001b[32m+\u001b[m\u001b[32m     \"metadata\": {},\u001b[m\r\n",
      "\u001b[32m+\u001b[m\u001b[32m     \"output_type\": \"execute_result\"\u001b[m\r\n",
      "\u001b[32m+\u001b[m\u001b[32m    }\u001b[m\r\n",
      "\u001b[32m+\u001b[m\u001b[32m   ],\u001b[m\r\n",
      "\u001b[32m+\u001b[m\u001b[32m   \"source\": [\u001b[m\r\n",
      "\u001b[32m+\u001b[m\u001b[32m    \"23423 % 43\"\u001b[m\r\n",
      "\u001b[32m+\u001b[m\u001b[32m   ]\u001b[m\r\n",
      "\u001b[32m+\u001b[m\u001b[32m  },\u001b[m\r\n",
      "\u001b[32m+\u001b[m\u001b[32m  {\u001b[m\r\n",
      "\u001b[32m+\u001b[m\u001b[32m   \"cell_type\": \"code\",\u001b[m\r\n",
      "\u001b[32m+\u001b[m\u001b[32m   \"execution_count\": 6,\u001b[m\r\n",
      "\u001b[32m+\u001b[m\u001b[32m   \"metadata\": {},\u001b[m\r\n",
      "\u001b[32m+\u001b[m\u001b[32m   \"outputs\": [\u001b[m\r\n",
      "\u001b[32m+\u001b[m\u001b[32m    {\u001b[m\r\n",
      "\u001b[32m+\u001b[m\u001b[32m     \"data\": {\u001b[m\r\n",
      "\u001b[32m+\u001b[m\u001b[32m      \"text/plain\": [\u001b[m\r\n",
      "\u001b[32m+\u001b[m\u001b[32m       \"625\"\u001b[m\r\n",
      "\u001b[32m+\u001b[m\u001b[32m      ]\u001b[m\r\n",
      "\u001b[32m+\u001b[m\u001b[32m     },\u001b[m\r\n",
      "\u001b[32m+\u001b[m\u001b[32m     \"execution_count\": 6,\u001b[m\r\n",
      "\u001b[32m+\u001b[m\u001b[32m     \"metadata\": {},\u001b[m\r\n",
      "\u001b[32m+\u001b[m\u001b[32m     \"output_type\": \"execute_result\"\u001b[m\r\n",
      "\u001b[32m+\u001b[m\u001b[32m    }\u001b[m\r\n",
      "\u001b[32m+\u001b[m\u001b[32m   ],\u001b[m\r\n",
      "\u001b[32m+\u001b[m\u001b[32m   \"source\": [\u001b[m\r\n",
      "\u001b[32m+\u001b[m\u001b[32m    \"5 ** 4\"\u001b[m\r\n",
      "\u001b[32m+\u001b[m\u001b[32m   ]\u001b[m\r\n",
      "   }\u001b[m\r\n",
      "  ],\u001b[m\r\n",
      "  \"metadata\": {\u001b[m\r\n",
      "\u001b[1mdiff --git a/library/theory/type_string.ipynb b/library/theory/type_string.ipynb\u001b[m\r\n",
      "\u001b[1mindex 1a3a32e..5c9b7c1 100644\u001b[m\r\n",
      "\u001b[1m--- a/library/theory/type_string.ipynb\u001b[m\r\n",
      "\u001b[1m+++ b/library/theory/type_string.ipynb\u001b[m\r\n",
      "\u001b[36m@@ -1205,17 +1205,203 @@\u001b[m\r\n",
      "   },\u001b[m\r\n",
      "   {\u001b[m\r\n",
      "    \"cell_type\": \"code\",\u001b[m\r\n",
      "\u001b[31m-   \"execution_count\": null,\u001b[m\r\n",
      "\u001b[32m+\u001b[m\u001b[32m   \"execution_count\": 6,\u001b[m\r\n",
      "    \"metadata\": {},\u001b[m\r\n",
      "\u001b[31m-   \"outputs\": [],\u001b[m\r\n",
      "\u001b[31m-   \"source\": []\u001b[m\r\n",
      "\u001b[32m+\u001b[m\u001b[32m   \"outputs\": [\u001b[m\r\n",
      "\u001b[32m+\u001b[m\u001b[32m    {\u001b[m\r\n",
      "\u001b[32m+\u001b[m\u001b[32m     \"data\": {\u001b[m\r\n",
      "\u001b[32m+\u001b[m\u001b[32m      \"text/plain\": [\u001b[m\r\n",
      "\u001b[32m+\u001b[m\u001b[32m       \"7\"\u001b[m\r\n",
      "\u001b[32m+\u001b[m\u001b[32m      ]\u001b[m\r\n",
      "\u001b[32m+\u001b[m\u001b[32m     },\u001b[m\r\n",
      "\u001b[32m+\u001b[m\u001b[32m     \"execution_count\": 6,\u001b[m\r\n",
      "\u001b[32m+\u001b[m\u001b[32m     \"metadata\": {},\u001b[m\r\n",
      "\u001b[32m+\u001b[m\u001b[32m     \"output_type\": \"execute_result\"\u001b[m\r\n",
      "\u001b[32m+\u001b[m\u001b[32m    }\u001b[m\r\n",
      "\u001b[32m+\u001b[m\u001b[32m   ],\u001b[m\r\n",
      "\u001b[32m+\u001b[m\u001b[32m   \"source\": [\u001b[m\r\n",
      "\u001b[32m+\u001b[m\u001b[32m    \"\\\"i love to travel\\\".find(\\\"t\\\") # ÐºÐ°ÐºÐ¾Ð¹ Ð¸Ð½Ð´ÐµÐºÑ Ð±ÑÐ´ÐµÑ Ñ Ð¿ÐµÑÐ²Ð¾Ð¹ Ð±ÑÐºÐ²Ñ t\"\u001b[m\r\n",
      "\u001b[32m+\u001b[m\u001b[32m   ]\u001b[m\r\n",
      "   },\u001b[m\r\n",
      "   {\u001b[m\r\n",
      "    \"cell_type\": \"code\",\u001b[m\r\n",
      "\u001b[31m-   \"execution_count\": null,\u001b[m\r\n",
      "\u001b[32m+\u001b[m\u001b[32m   \"execution_count\": 2,\u001b[m\r\n",
      "    \"metadata\": {},\u001b[m\r\n",
      "\u001b[31m-   \"outputs\": [],\u001b[m\r\n",
      "\u001b[31m-   \"source\": []\u001b[m\r\n",
      "\u001b[32m+\u001b[m\u001b[32m   \"outputs\": [\u001b[m\r\n",
      "\u001b[32m+\u001b[m\u001b[32m    {\u001b[m\r\n",
      "\u001b[32m+\u001b[m\u001b[32m     \"data\": {\u001b[m\r\n",
      "\u001b[32m+\u001b[m\u001b[32m      \"text/plain\": [\u001b[m\r\n",
      "\u001b[32m+\u001b[m\u001b[32m       \"11\"\u001b[m\r\n",
      "\u001b[32m+\u001b[m\u001b[32m      ]\u001b[m\r\n",
      "\u001b[32m+\u001b[m\u001b[32m     },\u001b[m\r\n",
      "\u001b[32m+\u001b[m\u001b[32m     \"execution_count\": 2,\u001b[m\r\n",
      "\u001b[32m+\u001b[m\u001b[32m     \"metadata\": {},\u001b[m\r\n",
      "\u001b[32m+\u001b[m\u001b[32m     \"output_type\": \"execute_result\"\u001b[m\r\n",
      "\u001b[32m+\u001b[m\u001b[32m    }\u001b[m\r\n",
      "\u001b[32m+\u001b[m\u001b[32m   ],\u001b[m\r\n",
      "\u001b[32m+\u001b[m\u001b[32m   \"source\": [\u001b[m\r\n",
      "\u001b[32m+\u001b[m\u001b[32m    \"\\\"i love to travel\\\".find(\\\"r\\\") # ÐºÐ°ÐºÐ¾Ð¹ Ð¸Ð½Ð´ÐµÐºÑ Ð±ÑÐ´ÐµÑ Ñ Ð±ÑÐºÐ²Ñ r\"\u001b[m\r\n",
      "\u001b[32m+\u001b[m\u001b[32m   ]\u001b[m\r\n",
      "\u001b[32m+\u001b[m\u001b[32m  },\u001b[m\r\n",
      "\u001b[32m+\u001b[m\u001b[32m  {\u001b[m\r\n",
      "\u001b[32m+\u001b[m\u001b[32m   \"cell_type\": \"code\",\u001b[m\r\n",
      "\u001b[32m+\u001b[m\u001b[32m   \"execution_count\": 3,\u001b[m\r\n",
      "\u001b[32m+\u001b[m\u001b[32m   \"metadata\": {},\u001b[m\r\n",
      "\u001b[32m+\u001b[m\u001b[32m   \"outputs\": [\u001b[m\r\n",
      "\u001b[32m+\u001b[m\u001b[32m    {\u001b[m\r\n",
      "\u001b[32m+\u001b[m\u001b[32m     \"data\": {\u001b[m\r\n",
      "\u001b[32m+\u001b[m\u001b[32m      \"text/plain\": [\u001b[m\r\n",
      "\u001b[32m+\u001b[m\u001b[32m       \"'love'\"\u001b[m\r\n",
      "\u001b[32m+\u001b[m\u001b[32m      ]\u001b[m\r\n",
      "\u001b[32m+\u001b[m\u001b[32m     },\u001b[m\r\n",
      "\u001b[32m+\u001b[m\u001b[32m     \"execution_count\": 3,\u001b[m\r\n",
      "\u001b[32m+\u001b[m\u001b[32m     \"metadata\": {},\u001b[m\r\n",
      "\u001b[32m+\u001b[m\u001b[32m     \"output_type\": \"execute_result\"\u001b[m\r\n",
      "\u001b[32m+\u001b[m\u001b[32m    }\u001b[m\r\n",
      "\u001b[32m+\u001b[m\u001b[32m   ],\u001b[m\r\n",
      "\u001b[32m+\u001b[m\u001b[32m   \"source\": [\u001b[m\r\n",
      "\u001b[32m+\u001b[m\u001b[32m    \"\\\"i love to travel\\\"[2:6] # ÐºÐ°Ðº Ð²ÑÐ²ÐµÑÑÐ¸ Ð¸Ð· ÑÑÑÐ¾ÐºÐ¸ ÑÐ»Ð¾Ð²Ð° Ñ 2 Ð¿Ð¾ 6 Ð¸Ð½Ð´ÐµÐºÑ\"\u001b[m\r\n",
      "\u001b[32m+\u001b[m\u001b[32m   ]\u001b[m\r\n",
      "\u001b[32m+\u001b[m\u001b[32m  },\u001b[m\r\n",
      "\u001b[32m+\u001b[m\u001b[32m  {\u001b[m\r\n",
      "\u001b[32m+\u001b[m\u001b[32m   \"cell_type\": \"code\",\u001b[m\r\n",
      "\u001b[32m+\u001b[m\u001b[32m   \"execution_count\": 4,\u001b[m\r\n",
      "\u001b[32m+\u001b[m\u001b[32m   \"metadata\": {},\u001b[m\r\n",
      "\u001b[32m+\u001b[m\u001b[32m   \"outputs\": [\u001b[m\r\n",
      "\u001b[32m+\u001b[m\u001b[32m    {\u001b[m\r\n",
      "\u001b[32m+\u001b[m\u001b[32m     \"data\": {\u001b[m\r\n",
      "\u001b[32m+\u001b[m\u001b[32m      \"text/plain\": [\u001b[m\r\n",
      "\u001b[32m+\u001b[m\u001b[32m       \"'to'\"\u001b[m\r\n",
      "\u001b[32m+\u001b[m\u001b[32m      ]\u001b[m\r\n",
      "\u001b[32m+\u001b[m\u001b[32m     },\u001b[m\r\n",
      "\u001b[32m+\u001b[m\u001b[32m     \"execution_count\": 4,\u001b[m\r\n",
      "\u001b[32m+\u001b[m\u001b[32m     \"metadata\": {},\u001b[m\r\n",
      "\u001b[32m+\u001b[m\u001b[32m     \"output_type\": \"execute_result\"\u001b[m\r\n",
      "\u001b[32m+\u001b[m\u001b[32m    }\u001b[m\r\n",
      "\u001b[32m+\u001b[m\u001b[32m   ],\u001b[m\r\n",
      "\u001b[32m+\u001b[m\u001b[32m   \"source\": [\u001b[m\r\n",
      "\u001b[32m+\u001b[m\u001b[32m    \"\\\"i love to travel\\\"[7:9] # ÐºÐ°ÐºÐ¾Ð¹ ÐºÐ°ÐºÐ¸Ðµ Ð¸Ð½Ð´ÐµÐºÑÑ Ð½ÑÐ¶Ð½Ð¾ ÑÐºÐ°Ð·Ð°ÑÑ Ð² ÑÑÐµÐ·Ðµ ÑÑÐ¾Ð±Ñ Ð²ÑÐ²ÐµÑÑÐ¸ to (Ð·Ð½Ð°Ñ, ÑÑÐ¾ Ð¿ÐµÑÐ²Ð°Ñ t Ð½Ð°ÑÐ¸Ð½Ð°ÐµÑÑÑ Ñ 7)\"\u001b[m\r\n",
      "\u001b[32m+\u001b[m\u001b[32m   ]\u001b[m\r\n",
      "\u001b[32m+\u001b[m\u001b[32m  },\u001b[m\r\n",
      "\u001b[32m+\u001b[m\u001b[32m  {\u001b[m\r\n",
      "\u001b[32m+\u001b[m\u001b[32m   \"cell_type\": \"code\",\u001b[m\r\n",
      "\u001b[32m+\u001b[m\u001b[32m   \"execution_count\": 5,\u001b[m\r\n",
      "\u001b[32m+\u001b[m\u001b[32m   \"metadata\": {},\u001b[m\r\n",
      "\u001b[32m+\u001b[m\u001b[32m   \"outputs\": [\u001b[m\r\n",
      "\u001b[32m+\u001b[m\u001b[32m    {\u001b[m\r\n",
      "\u001b[32m+\u001b[m\u001b[32m     \"data\": {\u001b[m\r\n",
      "\u001b[32m+\u001b[m\u001b[32m      \"text/plain\": [\u001b[m\r\n",
      "\u001b[32m+\u001b[m\u001b[32m       \"'i love to traveli love to traveli love to traveli love to traveli love to travel'\"\u001b[m\r\n",
      "\u001b[32m+\u001b[m\u001b[32m      ]\u001b[m\r\n",
      "\u001b[32m+\u001b[m\u001b[32m     },\u001b[m\r\n",
      "\u001b[32m+\u001b[m\u001b[32m     \"execution_count\": 5,\u001b[m\r\n",
      "\u001b[32m+\u001b[m\u001b[32m     \"metadata\": {},\u001b[m\r\n",
      "\u001b[32m+\u001b[m\u001b[32m     \"output_type\": \"execute_result\"\u001b[m\r\n",
      "\u001b[32m+\u001b[m\u001b[32m    }\u001b[m\r\n",
      "\u001b[32m+\u001b[m\u001b[32m   ],\u001b[m\r\n",
      "\u001b[32m+\u001b[m\u001b[32m   \"source\": [\u001b[m\r\n",
      "\u001b[32m+\u001b[m\u001b[32m    \"\\\"i love to travel\\\" * 5 # ÑÑÐ¾ Ð±ÑÐ´ÐµÑ ÐµÑÐ»Ð¸ ÑÑÑÐ¾ÐºÑ ÑÐ¼Ð½Ð¾Ð¶Ð¸ÑÑ Ð½Ð° ÑÐ¸ÑÐ»Ð¾ 5\"\u001b[m\r\n",
      "\u001b[32m+\u001b[m\u001b[32m   ]\u001b[m\r\n",
      "\u001b[32m+\u001b[m\u001b[32m  },\u001b[m\r\n",
      "\u001b[32m+\u001b[m\u001b[32m  {\u001b[m\r\n",
      "\u001b[32m+\u001b[m\u001b[32m   \"cell_type\": \"code\",\u001b[m\r\n",
      "\u001b[32m+\u001b[m\u001b[32m   \"execution_count\": 7,\u001b[m\r\n",
      "\u001b[32m+\u001b[m\u001b[32m   \"metadata\": {},\u001b[m\r\n",
      "\u001b[32m+\u001b[m\u001b[32m   \"outputs\": [\u001b[m\r\n",
      "\u001b[32m+\u001b[m\u001b[32m    {\u001b[m\r\n",
      "\u001b[32m+\u001b[m\u001b[32m     \"data\": {\u001b[m\r\n",
      "\u001b[32m+\u001b[m\u001b[32m      \"text/plain\": [\u001b[m\r\n",
      "\u001b[32m+\u001b[m\u001b[32m       \"-1\"\u001b[m\r\n",
      "\u001b[32m+\u001b[m\u001b[32m      ]\u001b[m\r\n",
      "\u001b[32m+\u001b[m\u001b[32m     },\u001b[m\r\n",
      "\u001b[32m+\u001b[m\u001b[32m     \"execution_count\": 7,\u001b[m\r\n",
      "\u001b[32m+\u001b[m\u001b[32m     \"metadata\": {},\u001b[m\r\n",
      "\u001b[32m+\u001b[m\u001b[32m     \"output_type\": \"execute_result\"\u001b[m\r\n",
      "\u001b[32m+\u001b[m\u001b[32m    }\u001b[m\r\n",
      "\u001b[32m+\u001b[m\u001b[32m   ],\u001b[m\r\n",
      "\u001b[32m+\u001b[m\u001b[32m   \"source\": [\u001b[m\r\n",
      "\u001b[32m+\u001b[m\u001b[32m    \"\\\"i love to travel\\\".find(\\\"ral\\\") # ÐºÐ°Ðº Ð¿Ð¾Ð½ÑÑÑ ÑÐ¾Ð´ÐµÑÐ¶Ð¸Ñ Ð»Ð¸ Ð½Ð°ÑÐ° ÑÑÑÐ¾ÐºÐ° Ð¿Ð¾Ð´ÑÑÑÐ¾ÐºÑ ral\"\u001b[m\r\n",
      "\u001b[32m+\u001b[m\u001b[32m   ]\u001b[m\r\n",
      "\u001b[32m+\u001b[m\u001b[32m  },\u001b[m\r\n",
      "\u001b[32m+\u001b[m\u001b[32m  {\u001b[m\r\n",
      "\u001b[32m+\u001b[m\u001b[32m   \"cell_type\": \"code\",\u001b[m\r\n",
      "\u001b[32m+\u001b[m\u001b[32m   \"execution_count\": 8,\u001b[m\r\n",
      "\u001b[32m+\u001b[m\u001b[32m   \"metadata\": {},\u001b[m\r\n",
      "\u001b[32m+\u001b[m\u001b[32m   \"outputs\": [\u001b[m\r\n",
      "\u001b[32m+\u001b[m\u001b[32m    {\u001b[m\r\n",
      "\u001b[32m+\u001b[m\u001b[32m     \"data\": {\u001b[m\r\n",
      "\u001b[32m+\u001b[m\u001b[32m      \"text/plain\": [\u001b[m\r\n",
      "\u001b[32m+\u001b[m\u001b[32m       \"7\"\u001b[m\r\n",
      "\u001b[32m+\u001b[m\u001b[32m      ]\u001b[m\r\n",
      "\u001b[32m+\u001b[m\u001b[32m     },\u001b[m\r\n",
      "\u001b[32m+\u001b[m\u001b[32m     \"execution_count\": 8,\u001b[m\r\n",
      "\u001b[32m+\u001b[m\u001b[32m     \"metadata\": {},\u001b[m\r\n",
      "\u001b[32m+\u001b[m\u001b[32m     \"output_type\": \"execute_result\"\u001b[m\r\n",
      "\u001b[32m+\u001b[m\u001b[32m    }\u001b[m\r\n",
      "\u001b[32m+\u001b[m\u001b[32m   ],\u001b[m\r\n",
      "\u001b[32m+\u001b[m\u001b[32m   \"source\": [\u001b[m\r\n",
      "\u001b[32m+\u001b[m\u001b[32m    \"\\\"i love to travel\\\".find(\\\"to\\\") # Ñ ÐºÐ°ÐºÐ¾Ð³Ð¾ Ð¸Ð½Ð´ÐµÐºÑÐ° Ð½Ð°ÑÐ¸Ð½Ð°ÐµÑÑÑ Ð¿Ð¾Ð´ÑÑÑÐ¾ÐºÐ° to\"\u001b[m\r\n",
      "\u001b[32m+\u001b[m\u001b[32m   ]\u001b[m\r\n",
      "\u001b[32m+\u001b[m\u001b[32m  },\u001b[m\r\n",
      "\u001b[32m+\u001b[m\u001b[32m  {\u001b[m\r\n",
      "\u001b[32m+\u001b[m\u001b[32m   \"cell_type\": \"code\",\u001b[m\r\n",
      "\u001b[32m+\u001b[m\u001b[32m   \"execution_count\": 9,\u001b[m\r\n",
      "\u001b[32m+\u001b[m\u001b[32m   \"metadata\": {},\u001b[m\r\n",
      "\u001b[32m+\u001b[m\u001b[32m   \"outputs\": [\u001b[m\r\n",
      "\u001b[32m+\u001b[m\u001b[32m    {\u001b[m\r\n",
      "\u001b[32m+\u001b[m\u001b[32m     \"data\": {\u001b[m\r\n",
      "\u001b[32m+\u001b[m\u001b[32m      \"text/plain\": [\u001b[m\r\n",
      "\u001b[32m+\u001b[m\u001b[32m       \"16\"\u001b[m\r\n",
      "\u001b[32m+\u001b[m\u001b[32m      ]\u001b[m\r\n",
      "\u001b[32m+\u001b[m\u001b[32m     },\u001b[m\r\n",
      "\u001b[32m+\u001b[m\u001b[32m     \"execution_count\": 9,\u001b[m\r\n",
      "\u001b[32m+\u001b[m\u001b[32m     \"metadata\": {},\u001b[m\r\n",
      "\u001b[32m+\u001b[m\u001b[32m     \"output_type\": \"execute_result\"\u001b[m\r\n",
      "\u001b[32m+\u001b[m\u001b[32m    }\u001b[m\r\n",
      "\u001b[32m+\u001b[m\u001b[32m   ],\u001b[m\r\n",
      "\u001b[32m+\u001b[m\u001b[32m   \"source\": [\u001b[m\r\n",
      "\u001b[32m+\u001b[m\u001b[32m    \"len(\\\"i love to travel\\\") # ÐºÐ°ÐºÐ°Ñ Ð´Ð»Ð¸Ð½Ñ ÑÑÑÐ¾ÐºÐ¸\"\u001b[m\r\n",
      "\u001b[32m+\u001b[m\u001b[32m   ]\u001b[m\r\n",
      "\u001b[32m+\u001b[m\u001b[32m  },\u001b[m\r\n",
      "\u001b[32m+\u001b[m\u001b[32m  {\u001b[m\r\n",
      "\u001b[32m+\u001b[m\u001b[32m   \"cell_type\": \"code\",\u001b[m\r\n",
      "\u001b[32m+\u001b[m\u001b[32m   \"execution_count\": 12,\u001b[m\r\n",
      "\u001b[32m+\u001b[m\u001b[32m   \"metadata\": {},\u001b[m\r\n",
      "\u001b[32m+\u001b[m\u001b[32m   \"outputs\": [\u001b[m\r\n",
      "\u001b[32m+\u001b[m\u001b[32m    {\u001b[m\r\n",
      "\u001b[32m+\u001b[m\u001b[32m     \"data\": {\u001b[m\r\n",
      "\u001b[32m+\u001b[m\u001b[32m      \"text/plain\": [\u001b[m\r\n",
      "\u001b[32m+\u001b[m\u001b[32m       \"'I love to travel'\"\u001b[m\r\n",
      "\u001b[32m+\u001b[m\u001b[32m      ]\u001b[m\r\n",
      "\u001b[32m+\u001b[m\u001b[32m     },\u001b[m\r\n",
      "\u001b[32m+\u001b[m\u001b[32m     \"execution_count\": 12,\u001b[m\r\n",
      "\u001b[32m+\u001b[m\u001b[32m     \"metadata\": {},\u001b[m\r\n",
      "\u001b[32m+\u001b[m\u001b[32m     \"output_type\": \"execute_result\"\u001b[m\r\n",
      "\u001b[32m+\u001b[m\u001b[32m    }\u001b[m\r\n",
      "\u001b[32m+\u001b[m\u001b[32m   ],\u001b[m\r\n",
      "\u001b[32m+\u001b[m\u001b[32m   \"source\": [\u001b[m\r\n",
      "\u001b[32m+\u001b[m\u001b[32m    \"\\\"i love to travel\\\".capitalize() # Ð¸Ð·Ð¼ÐµÐ½Ð¸ÑÐµ Ð¿ÐµÑÐ²ÑÐ¹ ÑÐ¸Ð¼Ð²Ð¾Ð» Ð² ÑÑÑÐ¾ÐºÐµ Ð½Ð° Ð·Ð°Ð³Ð»Ð°Ð²Ð½ÑÐ¹\"\u001b[m\r\n",
      "\u001b[32m+\u001b[m\u001b[32m   ]\u001b[m\r\n",
      "\u001b[32m+\u001b[m\u001b[32m  },\u001b[m\r\n",
      "\u001b[32m+\u001b[m\u001b[32m  {\u001b[m\r\n",
      "\u001b[32m+\u001b[m\u001b[32m   \"cell_type\": \"code\",\u001b[m\r\n",
      "\u001b[32m+\u001b[m\u001b[32m   \"execution_count\": 13,\u001b[m\r\n",
      "\u001b[32m+\u001b[m\u001b[32m   \"metadata\": {},\u001b[m\r\n",
      "\u001b[32m+\u001b[m\u001b[32m   \"outputs\": [\u001b[m\r\n",
      "\u001b[32m+\u001b[m\u001b[32m    {\u001b[m\r\n",
      "\u001b[32m+\u001b[m\u001b[32m     \"data\": {\u001b[m\r\n",
      "\u001b[32m+\u001b[m\u001b[32m      \"text/plain\": [\u001b[m\r\n",
      "\u001b[32m+\u001b[m\u001b[32m       \"' Hello!i love to travel'\"\u001b[m\r\n",
      "\u001b[32m+\u001b[m\u001b[32m      ]\u001b[m\r\n",
      "\u001b[32m+\u001b[m\u001b[32m     },\u001b[m\r\n",
      "\u001b[32m+\u001b[m\u001b[32m     \"execution_count\": 13,\u001b[m\r\n",
      "\u001b[32m+\u001b[m\u001b[32m     \"metadata\": {},\u001b[m\r\n",
      "\u001b[32m+\u001b[m\u001b[32m     \"output_type\": \"execute_result\"\u001b[m\r\n",
      "\u001b[32m+\u001b[m\u001b[32m    }\u001b[m\r\n",
      "\u001b[32m+\u001b[m\u001b[32m   ],\u001b[m\r\n",
      "\u001b[32m+\u001b[m\u001b[32m   \"source\": [\u001b[m\r\n",
      "\u001b[32m+\u001b[m\u001b[32m    \"\\\" Hello!\\\" + \\\"i love to travel\\\" # Ð¿ÑÐ¸Ð±Ð°Ð²ÑÑÐµ Ðº ÑÑÑÐ¾ÐºÐµ ÑÑÑÐ¾ÐºÑ \\\" Hello!\\\"\"\u001b[m\r\n",
      "\u001b[32m+\u001b[m\u001b[32m   ]\u001b[m\r\n",
      "   }\u001b[m\r\n",
      "  ],\u001b[m\r\n",
      "  \"metadata\": {\u001b[m\r\n",
      "\u001b[1mdiff --git a/library/theory/variables.ipynb b/library/theory/variables.ipynb\u001b[m\r\n",
      "\u001b[1mindex bc7094f..a9c4dbe 100644\u001b[m\r\n",
      "\u001b[1m--- a/library/theory/variables.ipynb\u001b[m\r\n",
      "\u001b[1m+++ b/library/theory/variables.ipynb\u001b[m\r\n",
      "\u001b[36m@@ -655,10 +655,15 @@\u001b[m\r\n",
      "    \"source\": [\u001b[m\r\n",
      "     \"# HW\\n\",\u001b[m\r\n",
      "     \"- Ð·Ð°ÑÐµÐ¼ Ð½ÑÐ¶Ð½Ñ Ð¿ÐµÑÐµÐ¼ÐµÐ½Ð½ÑÐµ\\n\",\u001b[m\r\n",
      "\u001b[32m+\u001b[m\u001b[32m    \"    <br>ÐÑÐ²ÐµÑ: ÐÐµÑÐµÐ¼ÐµÐ½Ð½ÑÐµ Ð½ÑÐ¶Ð½Ñ Ð´Ð»Ñ Ð²ÑÐµÐ¼ÐµÐ½Ð½Ð¾Ð³Ð¾ Ñ",
      "ÑÐ°Ð½ÐµÐ½Ð¸Ñ Ð¸Ð½ÑÐ¾ÑÐ¼Ð°ÑÐ¸Ð¸ Ð² Ð¾Ð±Ð»Ð°ÑÑÐ¸ Ð¿Ð°Ð¼ÑÑÐ¸ Ð´Ð»Ñ Ð´Ð°Ð»ÑÐ½ÐµÐ¹ÑÐµÐ³Ð¾ ÐµÐ³Ð¾ Ð¸ÑÐ¿Ð¾Ð»ÑÐ·Ð¾Ð²Ð°Ð½Ð¸Ñ.\\n\",\u001b[m\r\n",
      "     \"- Ð·Ð°ÑÐµÐ¼ Ð½ÑÐ¶Ð½Ð¾ Ð¸Ð¼Ñ Ñ Ð¿ÐµÑÐµÐ¼ÐµÐ½Ð½Ð¾Ð¹\\n\",\u001b[m\r\n",
      "\u001b[32m+\u001b[m\u001b[32m    \"    <br>ÐÑÐ²ÐµÑ: ÐÐ¼Ñ Ð¿ÐµÑÐµÐ¼ÐµÐ½Ð½Ð¾Ð¹ Ð½ÑÐ¶Ð½Ð¾ Ð´Ð»Ñ Ð¿Ð¾Ð½Ð¸Ð¼Ð°Ð½Ð¸Ñ ÑÐ¾Ð´ÐµÑÐ¶Ð°ÑÐµÐ¹ÑÑ Ð² Ð½ÐµÐ¹ Ð¸Ð½ÑÐ¾ÑÐ¼Ð°ÑÐ¸Ð¸ Ð¸ Ð½Ðµ Ð´Ð¾Ð»Ð¶Ð½Ð¾ ÑÐ¾Ð²Ð¿Ð°Ð´Ð°ÑÑ Ñ Ð½Ð°Ð·Ð²Ð°Ð½Ð¸ÑÐ¼Ð¸ ÐºÐ¾Ð¼Ð°Ð½Ð´.\\n\",\u001b[m\r\n",
      "     \"- ÐºÐ°Ðº ÑÐ·Ð½Ð°ÑÑ ÑÐ¸Ð¿ Ð¿ÐµÑÐµÐ¼ÐµÐ½Ð½Ð¾Ð¹\\n\",\u001b[m\r\n",
      "\u001b[32m+\u001b[m\u001b[32m    \"    <br>ÐÑÐ²ÐµÑ: Ð¢Ð¸Ð¿ Ð¿ÐµÑÐµÐ¼ÐµÐ½Ð½Ð¾Ð¹ Ð¼Ð¾Ð¶Ð½Ð¾ ÑÐ·Ð½Ð°ÑÑ Ñ Ð¿Ð¾Ð¼Ð¾ÑÑÑ ÐºÐ¾Ð¼Ð°Ð½Ð´Ñ type().\\n\",\u001b[m\r\n",
      "     \"- Ð¼Ð¾Ð¶Ð½Ð¾ Ð»Ð¸ Ð¿ÑÐµÐ¾Ð±ÑÐ°Ð·Ð¾Ð²Ð°ÑÑ ÑÑÑÐ¾Ðº Ð² ÑÐ¸ÑÐ»Ð¾? Ð ÐµÑÐ»Ð¸ Ð´Ð° ÑÐ¾ Ð² ÐºÐ°ÐºÐ¸Ñ",
      " ÑÐ»ÑÑÐ°ÑÑ",
      "?\\n\",\u001b[m\r\n",
      "\u001b[31m-    \"- Ð¼Ð¾Ð¶Ð½Ð¾ Ð»Ð¸ Ð¿ÑÐµÐ¾Ð±ÑÐ°Ð·Ð¾Ð²Ð°ÑÑ ÑÐ¸ÑÐ»Ð¾ Ð² ÑÑÑÐ¾ÐºÑ? Ð ÐµÑÐ»Ð¸ Ð´Ð° ÑÐ¾ Ð² ÐºÐ°ÐºÐ¸Ñ",
      " ÑÐ»ÑÑÐ°ÑÑ",
      "?\"\u001b[m\r\n",
      "\u001b[32m+\u001b[m\u001b[32m    \"    <br>ÐÑÐ²ÐµÑ: Ð¡ÑÑÐ¾ÐºÐ¸ Ð¼Ð¾Ð¶Ð½Ð¾ Ð¿ÑÐµÐ¾Ð±ÑÐ°Ð·Ð¾Ð²Ð°ÑÑ Ð² ÑÐ¸ÑÐ»Ð¾, ÐµÑÐ»Ð¸ ÑÐ¸Ð¼Ð²Ð¾Ð»Ð°Ð¼Ð¸ ÑÐ²Ð»ÑÑÑÑÑ ÑÐ¾Ð»ÑÐºÐ¾ ÑÐ¸ÑÑÑ. Ð¢Ð°ÐºÐ¶Ðµ Ð¼Ð¾Ð¶ÐµÑ Ð¿ÑÐ¸ÑÑÑÑÑÐ²Ð¾Ð²Ð°ÑÑ Ð·Ð½Ð°Ðº Ð¿ÑÐ¾Ð±ÐµÐ»Ð° Ð² Ð½Ð°ÑÐ°Ð»Ðµ Ð¸/Ð¸Ð»Ð¸ Ð² ÐºÐ¾Ð½ÑÐµ ÑÑÑÐ¾ÐºÐ¸.\\n\",\u001b[m\r\n",
      "\u001b[32m+\u001b[m\u001b[32m    \"- Ð¼Ð¾Ð¶Ð½Ð¾ Ð»Ð¸ Ð¿ÑÐµÐ¾Ð±ÑÐ°Ð·Ð¾Ð²Ð°ÑÑ ÑÐ¸ÑÐ»Ð¾ Ð² ÑÑÑÐ¾ÐºÑ? Ð ÐµÑÐ»Ð¸ Ð´Ð° ÑÐ¾ Ð² ÐºÐ°ÐºÐ¸Ñ",
      " ÑÐ»ÑÑÐ°ÑÑ",
      "?\\n\",\u001b[m\r\n",
      "\u001b[32m+\u001b[m\u001b[32m    \"    <br>ÐÑÐ²ÐµÑ: Ð§Ð¸ÑÐ»Ð¾ Ð¼Ð¾Ð¶Ð½Ð¾ Ð¿ÑÐµÐ¾Ð±ÑÐ°Ð·Ð¾Ð²Ð°ÑÑ Ð² ÑÑÑÐ¾ÐºÑ Ð² Ð»ÑÐ±ÑÑ",
      " ÑÐ»ÑÑÐ°ÑÑ",
      ".\"\u001b[m\r\n",
      "    ]\u001b[m\r\n",
      "   },\u001b[m\r\n",
      "   {\u001b[m\r\n",
      "\u001b[1mdiff --git a/users/jatashpulatov/folder/a1.txt b/users/jatashpulatov/folder/a1.txt\u001b[m\r\n",
      "\u001b[1mindex b8de683..2e95b34 100644\u001b[m\r\n",
      "\u001b[1m--- a/users/jatashpulatov/folder/a1.txt\u001b[m\r\n",
      "\u001b[1m+++ b/users/jatashpulatov/folder/a1.txt\u001b[m\r\n",
      "\u001b[36m@@ -1,16 +1,7 @@\u001b[m\r\n",
      "\u001b[31m-total 152\u001b[m\r\n",
      "\u001b[31m-drwxr-x--- 10 jupyter-jatashpulatov jupyter-jatashpulatov  4096 Jan 11 00:35 \u001b[0m\u001b[01;34m.\u001b[0m/\u001b[m\r\n",
      "\u001b[31m-drwxr-xr-x 32 root                  root                   4096 Jan 18 17:52 \u001b[01;34m..\u001b[0m/\u001b[m\r\n",
      "\u001b[31m--rw-------  1 jupyter-jatashpulatov jupyter-jatashpulatov  1129 Dec 27 11:31 .bash_history\u001b[m\r\n",
      "\u001b[31m--rw-r--r--  1 jupyter-jatashpulatov jupyter-jatashpulatov   220 Feb 25  2020 .bash_logout\u001b[m\r\n",
      "\u001b[31m--rw-r--r--  1 jupyter-jatashpulatov jupyter-jatashpulatov  3771 Feb 25  2020 .bashrc\u001b[m\r\n",
      "\u001b[31m-drwxr-xr-x  4 jupyter-jatashpulatov jupyter-jatashpulatov  4096 Dec 26 11:39 \u001b[01;34m.cache\u001b[0m/\u001b[m\r\n",
      "\u001b[31m-drwxr-xr-x  4 jupyter-jatashpulatov jupyter-jatashpulatov  4096 Dec 25 23:50 \u001b[01;34mdont_pay_attention_i_cant_remove_it) \u001b[0m/\u001b[m\r\n",
      "\u001b[31m-drwxr-xr-x  3 jupyter-jatashpulatov jupyter-jatashpulatov  4096 Dec 26 10:27 \u001b[01;34mgithub\u001b[0m/\u001b[m\r\n",
      "\u001b[31m-drwxr-xr-x  2 jupyter-jatashpulatov jupyter-jatashpulatov  4096 Dec 21 22:30 \u001b[01;34m.ipynb_checkpoints\u001b[0m/\u001b[m\r\n",
      "\u001b[31m-drwxr-xr-x  3 jupyter-jatashpulatov jupyter-jatashpulatov  4096 Dec 21 22:30 \u001b[01;34m.ipython\u001b[0m/\u001b[m\r\n",
      "\u001b[31m-drwxr-xr-x  2 jupyter-jatashpulatov jupyter-jatashpulatov  4096 Dec 21 16:20 \u001b[01;34m.jupyter\u001b[0m/\u001b[m\r\n",
      "\u001b[31m-drwxr-xr-x  3 jupyter-jatashpulatov jupyter-jatashpulatov  4096 Dec 21 16:04 \u001b[01;34m.local\u001b[0m/\u001b[m\r\n",
      "\u001b[31m--rw-r--r--  1 jupyter-jatashpulatov jupyter-jatashpulatov   807 Feb 25  2020 .profile\u001b[m\r\n",
      "\u001b[31m--rw-r--r--  1 root                  root                  96167 Dec 21 22:17 python_basics.ipynb\u001b[m\r\n",
      "\u001b[31m-drwx------  2 jupyter-jatashpulatov jupyter-jatashpulatov  4096 Dec 25 23:50 \u001b[01;34m.ssh\u001b[0m/\u001b[m\r\n",
      "\u001b[32m+\u001b[m\u001b[32mtotal 24\u001b[m\r\n",
      "\u001b[32m+\u001b[m\u001b[32mdrwxr-xr-x  6 jupyter-jatashpulatov jupyter-jatashpulatov 4096 Jan 17 19:52 \u001b[0m\u001b[01;34m.\u001b[0m/\u001b[m\r\n",
      "\u001b[32m+\u001b[m\u001b[32mdrwxr-xr-x 19 jupyter-jatashpulatov jupyter-jatashpulatov 4096 Jan 22 17:22 \u001b[01;34m..\u001b[0m/\u001b[m\r\n",
      "\u001b[32m+\u001b[m\u001b[32mdrwxr-xr-x  3 jupyter-jatashpulatov jupyter-jatashpulatov 4096 Jan 22 19:04 \u001b[01;34mfolder\u001b[0m/\u001b[m\r\n",
      "\u001b[32m+\u001b[m\u001b[32mdrwxr-xr-x  3 jupyter-jatashpulatov jupyter-jatashpulatov 4096 Dec 27 21:59 \u001b[01;34mhw_1\u001b[0m/\u001b[m\r\n",
      "\u001b[32m+\u001b[m\u001b[32mdrwxr-xr-x  3 jupyter-jatashpulatov jupyter-jatashpulatov 4096 Jan 22 16:03 \u001b[01;34mhw_2\u001b[0m/\u001b[m\r\n",
      "\u001b[32m+\u001b[m\u001b[32mdrwxr-xr-x  2 jupyter-jatashpulatov jupyter-jatashpulatov 4096 Dec 27 21:58 \u001b[01;34m.ipynb_checkpoints\u001b[0m/\u001b[m\r\n"
     ]
    }
   ],
   "source": [
    "!git diff"
   ]
  },
  {
   "cell_type": "code",
   "execution_count": 23,
   "id": "00e866fc",
   "metadata": {},
   "outputs": [],
   "source": [
    "!git add a1.txt"
   ]
  },
  {
   "cell_type": "code",
   "execution_count": 24,
   "id": "d7016b84",
   "metadata": {},
   "outputs": [
    {
     "name": "stdout",
     "output_type": "stream",
     "text": [
      "[home_work_2_jatashpulatov e4a0da3] my first changed commit\r\n",
      " 1 file changed, 7 insertions(+), 16 deletions(-)\r\n",
      " rewrite users/jatashpulatov/folder/a1.txt (100%)\r\n"
     ]
    }
   ],
   "source": [
    "!git commit -m 'my first changed commit'"
   ]
  },
  {
   "cell_type": "code",
   "execution_count": 25,
   "id": "f60332b3",
   "metadata": {},
   "outputs": [
    {
     "name": "stdout",
     "output_type": "stream",
     "text": [
      "fatal: The current branch home_work_2_jatashpulatov has no upstream branch.\r\n",
      "To push the current branch and set the remote as upstream, use\r\n",
      "\r\n",
      "    git push --set-upstream origin home_work_2_jatashpulatov\r\n",
      "\r\n"
     ]
    }
   ],
   "source": [
    "!git push"
   ]
  },
  {
   "cell_type": "code",
   "execution_count": 26,
   "id": "fe88cd74",
   "metadata": {},
   "outputs": [
    {
     "name": "stdout",
     "output_type": "stream",
     "text": [
      "Enumerating objects: 14, done.\n",
      "Counting objects: 100% (14/14), done.\n",
      "Delta compression using up to 2 threads\n",
      "Compressing objects: 100% (8/8), done.\n",
      "Writing objects: 100% (12/12), 1.29 KiB | 1.29 MiB/s, done.\n",
      "Total 12 (delta 5), reused 0 (delta 0)\n",
      "remote: Resolving deltas: 100% (5/5), completed with 2 local objects.\u001b[K\n",
      "remote: \n",
      "remote: Create a pull request for 'home_work_2_jatashpulatov' on GitHub by visiting:\u001b[K\n",
      "remote:      https://github.com/amtsu/team22/pull/new/home_work_2_jatashpulatov\u001b[K\n",
      "remote: \n",
      "To github.com:amtsu/team22.git\n",
      " * [new branch]      home_work_2_jatashpulatov -> home_work_2_jatashpulatov\n",
      "Branch 'home_work_2_jatashpulatov' set up to track remote branch 'home_work_2_jatashpulatov' from 'origin'.\n"
     ]
    }
   ],
   "source": [
    "!git push --set-upstream origin home_work_2_jatashpulatov"
   ]
  },
  {
   "cell_type": "code",
   "execution_count": null,
   "id": "10a0e7e8",
   "metadata": {},
   "outputs": [],
   "source": []
  },
  {
   "cell_type": "code",
   "execution_count": null,
   "id": "f7c8339e",
   "metadata": {},
   "outputs": [],
   "source": []
  },
  {
   "cell_type": "code",
   "execution_count": null,
   "id": "91cd3b92",
   "metadata": {},
   "outputs": [],
   "source": []
  }
 ],
 "metadata": {
  "kernelspec": {
   "display_name": "Python 3 (ipykernel)",
   "language": "python",
   "name": "python3"
  },
  "language_info": {
   "codemirror_mode": {
    "name": "ipython",
    "version": 3
   },
   "file_extension": ".py",
   "mimetype": "text/x-python",
   "name": "python",
   "nbconvert_exporter": "python",
   "pygments_lexer": "ipython3",
   "version": "3.9.7"
  }
 },
 "nbformat": 4,
 "nbformat_minor": 5
}
