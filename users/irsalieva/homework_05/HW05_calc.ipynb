{
 "cells": [
  {
   "cell_type": "code",
   "execution_count": 4,
   "id": "00b47200",
   "metadata": {},
   "outputs": [
    {
     "name": "stdout",
     "output_type": "stream",
     "text": [
      "Введите имяPetya\n",
      "01\n"
     ]
    }
   ],
   "source": [
    "d = {'Petya': '01', 'Vasya': '02'}\n",
    "name = input('Введите имя')\n",
    "\n",
    "try:\n",
    "    print(d[name])\n",
    "except:\n",
    "    print('Такого имени нет')"
   ]
  },
  {
   "cell_type": "code",
   "execution_count": 5,
   "id": "6ebdbc0b",
   "metadata": {},
   "outputs": [
    {
     "name": "stdout",
     "output_type": "stream",
     "text": [
      "Введите имяMisha\n",
      "Такого имени нет\n"
     ]
    }
   ],
   "source": [
    "d = {'Petya': '01', 'Vasya': '02'}\n",
    "name = input('Введите имя')\n",
    "\n",
    "try:\n",
    "    print(d[name])\n",
    "except KeyError:\n",
    "    print('Такого имени нет')"
   ]
  },
  {
   "cell_type": "code",
   "execution_count": 8,
   "id": "821f073c",
   "metadata": {},
   "outputs": [
    {
     "name": "stdout",
     "output_type": "stream",
     "text": [
      "Введите целое число: 2.2\n",
      "Вы ввели не целое число\n",
      "Закончили программу\n"
     ]
    }
   ],
   "source": [
    "try:\n",
    "    n = input('Введите целое число: ')\n",
    "    n = int(n)\n",
    "except ValueError: \n",
    "    print('Вы ввели не целое число')\n",
    "else: # выполняется, если в блоке трай не возникло исключений\n",
    "    print('Вы ввели целое число')\n",
    "finally: # выполняется в любом случае\n",
    "    print('Закончили программу')"
   ]
  },
  {
   "cell_type": "code",
   "execution_count": null,
   "id": "15f7d5ca",
   "metadata": {},
   "outputs": [],
   "source": [
    "d = {'Petya': '01', 'Vasya': '02'}\n",
    "name = input('Введите имя')\n",
    "\n",
    "try:\n",
    "    print(d[name])\n",
    "except KeyError:\n",
    "    print('Такого имени нет')\n",
    "finally:\n",
    "    print('Конец работы программы')"
   ]
  },
  {
   "cell_type": "code",
   "execution_count": 13,
   "id": "e7c7ef41",
   "metadata": {},
   "outputs": [
    {
     "name": "stdout",
     "output_type": "stream",
     "text": [
      "Делимое: 1\n",
      "Делитель: 1\n",
      "1.0\n"
     ]
    }
   ],
   "source": [
    "a = float(input('Делимое: '))\n",
    "b = float(input('Делитель: '))\n",
    "# def safe_divide(x, y)\n",
    "\n",
    "try:\n",
    "    print(a / b)\n",
    "except ZeroDivisionError:\n",
    "        print('На ноль делить нельзя')\n"
   ]
  },
  {
   "cell_type": "code",
   "execution_count": 17,
   "id": "0263e0dd",
   "metadata": {},
   "outputs": [
    {
     "name": "stdout",
     "output_type": "stream",
     "text": [
      "Делимое: ффф\n"
     ]
    },
    {
     "ename": "ValueError",
     "evalue": "could not convert string to float: 'ффф'",
     "output_type": "error",
     "traceback": [
      "\u001b[0;31m---------------------------------------------------------------------------\u001b[0m",
      "\u001b[0;31mValueError\u001b[0m                                Traceback (most recent call last)",
      "Cell \u001b[0;32mIn [17], line 1\u001b[0m\n\u001b[0;32m----> 1\u001b[0m a \u001b[38;5;241m=\u001b[39m \u001b[38;5;28;43mfloat\u001b[39;49m\u001b[43m(\u001b[49m\u001b[38;5;28;43minput\u001b[39;49m\u001b[43m(\u001b[49m\u001b[38;5;124;43m'\u001b[39;49m\u001b[38;5;124;43mДелимое: \u001b[39;49m\u001b[38;5;124;43m'\u001b[39;49m\u001b[43m)\u001b[49m\u001b[43m)\u001b[49m\n\u001b[1;32m      2\u001b[0m b \u001b[38;5;241m=\u001b[39m \u001b[38;5;28mfloat\u001b[39m(\u001b[38;5;28minput\u001b[39m(\u001b[38;5;124m'\u001b[39m\u001b[38;5;124mДелитель: \u001b[39m\u001b[38;5;124m'\u001b[39m))\n\u001b[1;32m      4\u001b[0m \u001b[38;5;28;01mtry\u001b[39;00m:    \n",
      "\u001b[0;31mValueError\u001b[0m: could not convert string to float: 'ффф'"
     ]
    }
   ],
   "source": [
    "a = float(input('Делимое: '))\n",
    "b = float(input('Делитель: '))\n",
    "\n",
    "try:    \n",
    "    print(a / b)\n",
    "except ZeroDivisionError:\n",
    "    print('На ноль делить нельзя')\n",
    "except ValueError:\n",
    "    print('Можно вводить только числа')"
   ]
  },
  {
   "cell_type": "code",
   "execution_count": 18,
   "id": "f307c066",
   "metadata": {},
   "outputs": [
    {
     "name": "stdout",
     "output_type": "stream",
     "text": [
      "Делимое: ффф\n",
      "Можно вводить только числа\n"
     ]
    }
   ],
   "source": [
    "try:\n",
    "    a = float(input('Делимое: '))\n",
    "    b = float(input('Делитель: '))\n",
    "    \n",
    "    print(a / b)\n",
    "except ZeroDivisionError:\n",
    "    print('На ноль делить нельзя')\n",
    "except ValueError:\n",
    "    print('Можно вводить только числа')"
   ]
  },
  {
   "cell_type": "code",
   "execution_count": 22,
   "id": "52574509",
   "metadata": {},
   "outputs": [
    {
     "name": "stdout",
     "output_type": "stream",
     "text": [
      "Делимое: a\n",
      "Делитель: 2\n",
      "Доступны только числа\n"
     ]
    }
   ],
   "source": [
    "x = input('Делимое: ')\n",
    "y = input('Делитель: ')\n",
    "\n",
    "if x.isdigit() and y.isdigit(): # условия в and  проверяются в порядке следования\n",
    "    if int(y) != 0 :\n",
    "        print(int(x) / int(y))\n",
    "    else:\n",
    "        print('На ноль делить нельзя')\n",
    "else:\n",
    "    print('Доступны только числа')"
   ]
  },
  {
   "cell_type": "markdown",
   "id": "c589f6b1",
   "metadata": {},
   "source": [
    "# Вызов исключений"
   ]
  },
  {
   "cell_type": "code",
   "execution_count": 23,
   "id": "d812e90f",
   "metadata": {},
   "outputs": [
    {
     "ename": "NameError",
     "evalue": "My ex",
     "output_type": "error",
     "traceback": [
      "\u001b[0;31m---------------------------------------------------------------------------\u001b[0m",
      "\u001b[0;31mNameError\u001b[0m                                 Traceback (most recent call last)",
      "Cell \u001b[0;32mIn [23], line 1\u001b[0m\n\u001b[0;32m----> 1\u001b[0m \u001b[38;5;28;01mraise\u001b[39;00m \u001b[38;5;167;01mNameError\u001b[39;00m(\u001b[38;5;124m'\u001b[39m\u001b[38;5;124mMy ex\u001b[39m\u001b[38;5;124m'\u001b[39m)\n",
      "\u001b[0;31mNameError\u001b[0m: My ex"
     ]
    }
   ],
   "source": [
    "raise NameError('My ex')"
   ]
  },
  {
   "cell_type": "code",
   "execution_count": 25,
   "id": "517f0e72",
   "metadata": {},
   "outputs": [],
   "source": [
    "class MyExNew(Exception):\n",
    "    pass "
   ]
  },
  {
   "cell_type": "code",
   "execution_count": 28,
   "id": "9b0f730f",
   "metadata": {},
   "outputs": [
    {
     "ename": "SyntaxError",
     "evalue": "invalid syntax (4076287488.py, line 12)",
     "output_type": "error",
     "traceback": [
      "\u001b[0;36m  Cell \u001b[0;32mIn [28], line 12\u001b[0;36m\u001b[0m\n\u001b[0;31m    if d.get(check[1], False)\u001b[0m\n\u001b[0m                             ^\u001b[0m\n\u001b[0;31mSyntaxError\u001b[0m\u001b[0;31m:\u001b[0m invalid syntax\n"
     ]
    }
   ],
   "source": [
    "formula = input('Введите формулу: ')\n",
    "check = formula.split(' ')\n",
    "\n",
    "if len(check) != 3:\n",
    "    print('Неверная формула')\n",
    "    \n",
    "dict = {'+': check[0] + check[2],\n",
    "        '-': check[0] - check[2],\n",
    "        }\n",
    "    \n",
    "try:\n",
    "    if d.get(check[1], False)\n",
    "        pass\n",
    " \n",
    "except:\n",
    "    pass\n",
    "\n",
    "#if check[0]"
   ]
  },
  {
   "cell_type": "code",
   "execution_count": 9,
   "id": "3991ec7d",
   "metadata": {},
   "outputs": [
    {
     "name": "stdout",
     "output_type": "stream",
     "text": [
      "Введите формулу: 1 + 3\n",
      "4\n"
     ]
    }
   ],
   "source": [
    "# калькулятор, который рассчитывает формулу по типу \"2 + 3\"\n",
    "# калькулятор умеет проверять все введённые элементы на адекватность\n",
    "\n",
    "formula = input('Введите формулу: ')\n",
    "check = formula.split(' ')\n",
    "operator = ['+', '-']\n",
    "\n",
    "try:\n",
    "    # print(check)\n",
    "    # print(len(check))\n",
    "    \n",
    "    if len(check) == 3: # 0  блок\n",
    "        \n",
    "        # print('Зашел в 0')\n",
    "        \n",
    "        try: # 1 блок\n",
    "            \n",
    "            # print('Зашел в 1')\n",
    "            \n",
    "            x = int(check[0])\n",
    "            \n",
    "            try: # 2 блок\n",
    "                \n",
    "                # print('Зашел в 2')\n",
    "                \n",
    "                y = int(check[2])\n",
    "                \n",
    "                if check[1] in operator: # 3 блок\n",
    "                    \n",
    "                    # print('Зашел в 3')\n",
    "                    \n",
    "                    if check[1] == operator[0]:\n",
    "                        print(int(check[0]) + int(check[2]))\n",
    "                        \n",
    "                    elif check[1] == operator[1]:\n",
    "                        print(int(check[0]) - int(check[2]))\n",
    "                        \n",
    "                    else:\n",
    "                        print('Не определена')\n",
    "                        \n",
    "                else:\n",
    "                    print('Такого оператора нет')\n",
    "\n",
    "\n",
    "            except ValueError:\n",
    "                print('Неверный 2 параметр формулы')\n",
    "\n",
    "        except ValueError:\n",
    "            print('Неверный 1 параметр формулы')\n",
    "        \n",
    "    else:\n",
    "        print('Неверное количество элементов формулы, введи строку вида \"2 + 3\" ')\n",
    "        \n",
    "except:\n",
    "    print('Неверное количество элементов формулы, введи строку вида \"2 + 3\" ')\n",
    "        \n",
    "    \n"
   ]
  },
  {
   "cell_type": "code",
   "execution_count": 9,
   "id": "ba46fe7c",
   "metadata": {},
   "outputs": [
    {
     "name": "stdout",
     "output_type": "stream",
     "text": [
      "Введите формулу: 1 + 3\n",
      "3\n"
     ]
    }
   ],
   "source": [
    "formula = input('Введите формулу: ')\n",
    "check = formula.split(' ')\n",
    "\n",
    "if len(check) != 3:\n",
    "    print('не 3')"
   ]
  },
  {
   "cell_type": "code",
   "execution_count": 30,
   "id": "7c061005",
   "metadata": {},
   "outputs": [
    {
     "name": "stdout",
     "output_type": "stream",
     "text": [
      "Введите формулу: dss\n"
     ]
    },
    {
     "ename": "ValueError",
     "evalue": "invalid literal for int() with base 10: 'dss'",
     "output_type": "error",
     "traceback": [
      "\u001b[0;31m---------------------------------------------------------------------------\u001b[0m",
      "\u001b[0;31mValueError\u001b[0m                                Traceback (most recent call last)",
      "Cell \u001b[0;32mIn [30], line 1\u001b[0m\n\u001b[0;32m----> 1\u001b[0m x \u001b[38;5;241m=\u001b[39m \u001b[38;5;28;43mint\u001b[39;49m\u001b[43m(\u001b[49m\u001b[38;5;28;43minput\u001b[39;49m\u001b[43m(\u001b[49m\u001b[38;5;124;43m'\u001b[39;49m\u001b[38;5;124;43mВведите формулу: \u001b[39;49m\u001b[38;5;124;43m'\u001b[39;49m\u001b[43m)\u001b[49m\u001b[43m)\u001b[49m\n",
      "\u001b[0;31mValueError\u001b[0m: invalid literal for int() with base 10: 'dss'"
     ]
    }
   ],
   "source": [
    "x = int(input('Введите формулу: '))\n"
   ]
  },
  {
   "cell_type": "code",
   "execution_count": null,
   "id": "a1f6cbe4",
   "metadata": {},
   "outputs": [],
   "source": [
    "# не дописан\n",
    "\n",
    "elif int(check[0])\n",
    "    \n",
    "    \n",
    "dict = {'+': check[0] + check[2],\n",
    "        '-': check[0] - check[2],\n",
    "        }\n",
    "    \n",
    "try:\n",
    "    if d.get(check[1], False)\n",
    "        pass\n",
    " \n",
    "except:\n",
    "    pass"
   ]
  },
  {
   "cell_type": "code",
   "execution_count": 33,
   "id": "e5d50606",
   "metadata": {},
   "outputs": [
    {
     "name": "stdout",
     "output_type": "stream",
     "text": [
      "Введите формулу: 1 + 2\n",
      "3\n"
     ]
    }
   ],
   "source": [
    "formula = input('Введите формулу: ')\n",
    "\n",
    "check = formula.split(' ')\n",
    "\n",
    "try:\n",
    "    x = int(check[0])\n",
    "    \n",
    "    if check[1] == '+':\n",
    "        print(int(check[0]) + int(check[2]))\n",
    "    elif check[1] == '-':\n",
    "        print(int(check[0]) - int(check[2]))"
   ]
  },
  {
   "cell_type": "code",
   "execution_count": null,
   "id": "87482f37",
   "metadata": {},
   "outputs": [],
   "source": []
  }
 ],
 "metadata": {
  "kernelspec": {
   "display_name": "Python 3 (ipykernel)",
   "language": "python",
   "name": "python3"
  },
  "language_info": {
   "codemirror_mode": {
    "name": "ipython",
    "version": 3
   },
   "file_extension": ".py",
   "mimetype": "text/x-python",
   "name": "python",
   "nbconvert_exporter": "python",
   "pygments_lexer": "ipython3",
   "version": "3.9.7"
  }
 },
 "nbformat": 4,
 "nbformat_minor": 5
}
