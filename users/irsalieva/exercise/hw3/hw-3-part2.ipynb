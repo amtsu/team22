{
 "cells": [
  {
   "cell_type": "markdown",
   "id": "b9b969ea-e5cf-48fb-be7f-30f46c0134ae",
   "metadata": {},
   "source": [
    "Вычислить результат следующих операций:\n",
    "10 * (5 + 3)\n",
    "(20 - 6) / 2\n",
    "2 ** 5 (возведение 2 в 5-ю степень)\n",
    "25 // 4 (целая часть от деления)\n",
    "25 % 4 (остаток от деления)\n"
   ]
  },
  {
   "cell_type": "code",
   "execution_count": 1,
   "id": "00b3396a-034a-40e8-82a2-27fb9ed3cf27",
   "metadata": {},
   "outputs": [
    {
     "data": {
      "text/plain": [
       "80"
      ]
     },
     "execution_count": 1,
     "metadata": {},
     "output_type": "execute_result"
    }
   ],
   "source": [
    "10 * (5 + 3)"
   ]
  },
  {
   "cell_type": "code",
   "execution_count": 2,
   "id": "a2ee2840-1292-4f91-be52-2a8658e77b9a",
   "metadata": {},
   "outputs": [
    {
     "data": {
      "text/plain": [
       "7.0"
      ]
     },
     "execution_count": 2,
     "metadata": {},
     "output_type": "execute_result"
    }
   ],
   "source": [
    "(20 - 6) / 2"
   ]
  },
  {
   "cell_type": "code",
   "execution_count": 3,
   "id": "da510d17-0cad-411f-9fc1-add15dfb6b6b",
   "metadata": {},
   "outputs": [
    {
     "data": {
      "text/plain": [
       "32"
      ]
     },
     "execution_count": 3,
     "metadata": {},
     "output_type": "execute_result"
    }
   ],
   "source": [
    "2 ** 5"
   ]
  },
  {
   "cell_type": "code",
   "execution_count": 4,
   "id": "8a3300c2-66b7-4635-860f-7f9538e39aad",
   "metadata": {},
   "outputs": [
    {
     "data": {
      "text/plain": [
       "6"
      ]
     },
     "execution_count": 4,
     "metadata": {},
     "output_type": "execute_result"
    }
   ],
   "source": [
    "25 // 4"
   ]
  },
  {
   "cell_type": "code",
   "execution_count": 5,
   "id": "eebe35bb-a3b8-43b8-bb07-1d34eb1bdd18",
   "metadata": {},
   "outputs": [
    {
     "data": {
      "text/plain": [
       "1"
      ]
     },
     "execution_count": 5,
     "metadata": {},
     "output_type": "execute_result"
    }
   ],
   "source": [
    "25 % 4"
   ]
  },
  {
   "cell_type": "markdown",
   "id": "044ede5b-f10b-4f1b-80a0-fe42d4d78c76",
   "metadata": {},
   "source": [
    "Дано дробное число:\n",
    "number = -3.14\n",
    "Выполнить следующие операции:\n",
    "Округлите число до целого.\n",
    "Возьмите остаток числа."
   ]
  },
  {
   "cell_type": "code",
   "execution_count": 45,
   "id": "e1689b27-ed42-44ce-af63-65fff6eece45",
   "metadata": {},
   "outputs": [
    {
     "name": "stdout",
     "output_type": "stream",
     "text": [
      "Целое:  -3 \n",
      "Остаток от деления:  -0.14\n"
     ]
    }
   ],
   "source": [
    "number = -3.14\n",
    "number_round = round(number)\n",
    "number_mod = round(number % number_round, 2)\n",
    "\n",
    "print('Целое: ', number_round, '\\nОстаток от деления: ', number_mod)\n"
   ]
  },
  {
   "cell_type": "markdown",
   "id": "b9de3407-cbbf-4be2-a16e-5fdf18ecdd59",
   "metadata": {},
   "source": [
    "Даны стороны прямоугольника: a = 5, b = 7.\n",
    "Вычислить площадь прямоугольника и вывести результат на экран."
   ]
  },
  {
   "cell_type": "code",
   "execution_count": 26,
   "id": "b4912855-3d5b-4621-ad59-1ccb7797c1f5",
   "metadata": {},
   "outputs": [
    {
     "name": "stdout",
     "output_type": "stream",
     "text": [
      "Площадь прямоугольника →  35\n"
     ]
    }
   ],
   "source": [
    "a = 5\n",
    "b = 7\n",
    "S = a * b\n",
    "print('Площадь прямоугольника → ', S)"
   ]
  },
  {
   "cell_type": "markdown",
   "id": "98d24498-c4e3-4839-802c-abb2087fd49b",
   "metadata": {},
   "source": [
    "На какой объем воздуха должен быть расчитан кондиционер, если с его помощью хотят охлаждать квартиру в которой размер гостинной 3.5 на 6.4 метра, спальни 3.4 на 4 метра и площадь не жилой части 11 метров. При том что высота потолков 3,1 метр."
   ]
  },
  {
   "cell_type": "code",
   "execution_count": 34,
   "id": "148fb679-9976-4f36-a117-6c683c1e49aa",
   "metadata": {},
   "outputs": [
    {
     "name": "stdout",
     "output_type": "stream",
     "text": [
      "Объем воздуха для кондиционера →  145.7\n"
     ]
    }
   ],
   "source": [
    "gostinnaya_length = 3.5\n",
    "gostinnaya_width = 6.4\n",
    "\n",
    "spalnya_length = 3.4\n",
    "spalnya_width = 4\n",
    "\n",
    "ploschad_nezhilaya = 11\n",
    "\n",
    "visota_potolkov = 3.1\n",
    "\n",
    "obyem_vozduha = (gostinnaya_length * gostinnaya_width + spalnya_length * spalnya_width + ploschad_nezhilaya) * visota_potolkov\n",
    "\n",
    "print('Объем воздуха для кондиционера → ', round(obyem_vozduha, 2))"
   ]
  },
  {
   "cell_type": "markdown",
   "id": "ecff8963-c1ed-41d2-88df-0c769d62d47c",
   "metadata": {},
   "source": [
    "Дано квадратное уравнение вида ax^2 + bx + c = 0.\n",
    "Найти его решения, используя формулу дискриминанта.\n",
    "a номер текущего месяца\n",
    "b номер вашей группы\n",
    "c минус десять (-10)"
   ]
  },
  {
   "cell_type": "code",
   "execution_count": 63,
   "id": "30d7c64b-1e53-43b3-b016-3b683ee553c3",
   "metadata": {},
   "outputs": [
    {
     "name": "stdout",
     "output_type": "stream",
     "text": [
      "X1 =  1.0 \n",
      "X2 =  -5.0\n"
     ]
    }
   ],
   "source": [
    "a = 2\n",
    "b = 8\n",
    "c = -10\n",
    "\n",
    "d = b ** 2 - 4 * a * c\n",
    "\n",
    "x1 = (- b + d ** 0.5) / (2 * a)\n",
    "x2 = (- b - d ** 0.5) / (2 * a)\n",
    "\n",
    "print('X1 = ', x1, '\\nX2 = ', x2)"
   ]
  },
  {
   "cell_type": "markdown",
   "id": "2c0a4c00-b2a0-4a5b-ab82-9ef35345a71f",
   "metadata": {},
   "source": [
    "Даны строки:\n",
    "string1 = \"hello, \"\n",
    "string2 = \"world!\"\n",
    "Объединить строки string1 и string2 и результат вывести на экран так чтобы первая буква в предложении стала заглавной."
   ]
  },
  {
   "cell_type": "code",
   "execution_count": 64,
   "id": "5e597374-529a-41ad-b2a4-3b721485cbbb",
   "metadata": {},
   "outputs": [
    {
     "name": "stdout",
     "output_type": "stream",
     "text": [
      "Hello, world!\n"
     ]
    }
   ],
   "source": [
    "string1 = \"hello, \"\n",
    "string2 = \"world!\"\n",
    "\n",
    "string_concat = string1 + string2\n",
    "\n",
    "print(string_concat.capitalize())"
   ]
  },
  {
   "cell_type": "code",
   "execution_count": null,
   "id": "d3f5819a-9af8-429a-b01b-16b80a7868f9",
   "metadata": {},
   "outputs": [],
   "source": [
    "Сколько символов было в предыдущей строке?"
   ]
  },
  {
   "cell_type": "code",
   "execution_count": 68,
   "id": "8ea2a7b2-22ee-4b99-b48e-912592687eb0",
   "metadata": {},
   "outputs": [
    {
     "name": "stdout",
     "output_type": "stream",
     "text": [
      "Число символов в строке — 13\n"
     ]
    }
   ],
   "source": [
    "string1 = \"hello, \"\n",
    "string2 = \"world!\"\n",
    "\n",
    "string_concat = string1 + string2\n",
    "\n",
    "print('Число символов в строке —', len(string_concat))"
   ]
  },
  {
   "cell_type": "markdown",
   "id": "310c7010-5583-4f22-9bfd-0005c802d323",
   "metadata": {},
   "source": [
    "Выведите на экран строку la 25 раз."
   ]
  },
  {
   "cell_type": "code",
   "execution_count": 73,
   "id": "f2b609fe-4d45-442b-9224-3d202174a563",
   "metadata": {},
   "outputs": [
    {
     "name": "stdout",
     "output_type": "stream",
     "text": [
      "lalalalalalalalalalalalalalalalalalalalalalalalala\n"
     ]
    }
   ],
   "source": [
    "stroka = 'la'\n",
    "\n",
    "print(stroka * 25) \n",
    "##print((stroka + '\\n') * 25) # 25 строк la :)\n"
   ]
  },
  {
   "cell_type": "markdown",
   "id": "47676ac5-a209-4248-8780-4b8aaf10e477",
   "metadata": {},
   "source": [
    "Дан список чисел:\n",
    "numbers = [1, 2, 3, 4, 5]\n",
    "Выполнить следующие операции:\n",
    "1. Измените число 2 на строку \"hi\" \n",
    "2. Выведите значение, находящееся на позиции 2.\n",
    "3. Изменить значение на позиции 4 на список из 3 элементов [8, 6, 4].\n",
    "Результаты вывести на экран."
   ]
  },
  {
   "cell_type": "code",
   "execution_count": 83,
   "id": "9eaf68a6-d7b6-42b6-b415-e2f6992ce7a5",
   "metadata": {},
   "outputs": [
    {
     "name": "stdout",
     "output_type": "stream",
     "text": [
      "Первичный список:  [1, 2, 3, 4, 5] \n",
      "(1):  [1, 'hi', 3, 4, 5] \n",
      "(2):  3 \n",
      "(3):  [1, 'hi', 3, 4, [8, 6, 4]]\n"
     ]
    }
   ],
   "source": [
    "numbers = [1, 2, 3, 4, 5]\n",
    "\n",
    "numbers_new = numbers[:]\n",
    "numbers_new[1] = 'hi'\n",
    "\n",
    "numbers_new2 = numbers_new[:]\n",
    "numbers_new2[4] = [8, 6, 4]\n",
    "\n",
    "print('Первичный список: ', numbers, '\\n(1): ', numbers_new, '\\n(2): ', numbers_new[2], '\\n(3): ', numbers_new2)"
   ]
  },
  {
   "cell_type": "markdown",
   "id": "ef58aaf6-0cc8-4053-aeb5-21981950ca55",
   "metadata": {},
   "source": [
    "Дан список чисел:\n",
    "numbers = [1, 2, 3, 4, 5, 6, 7, 8, 9, 10]\n",
    "Извлеките подсписок с 3-го по 7-й элемент включительно."
   ]
  },
  {
   "cell_type": "code",
   "execution_count": 85,
   "id": "580cbba6-6f23-435e-9f77-d44167b5cd3e",
   "metadata": {},
   "outputs": [
    {
     "name": "stdout",
     "output_type": "stream",
     "text": [
      "Подсписок с 3-го по 7-й элемент включительно:  [3, 4, 5, 6, 7]\n"
     ]
    }
   ],
   "source": [
    "numbers = [1, 2, 3, 4, 5, 6, 7, 8, 9, 10]\n",
    "\n",
    "print('Подсписок с 3-го по 7-й элемент включительно: ', numbers[2:7])"
   ]
  }
 ],
 "metadata": {
  "kernelspec": {
   "display_name": "Python 3 (ipykernel)",
   "language": "python",
   "name": "python3"
  },
  "language_info": {
   "codemirror_mode": {
    "name": "ipython",
    "version": 3
   },
   "file_extension": ".py",
   "mimetype": "text/x-python",
   "name": "python",
   "nbconvert_exporter": "python",
   "pygments_lexer": "ipython3",
   "version": "3.10.10"
  }
 },
 "nbformat": 4,
 "nbformat_minor": 5
}
