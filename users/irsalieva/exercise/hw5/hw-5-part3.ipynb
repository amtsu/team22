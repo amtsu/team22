{
 "cells": [
  {
   "cell_type": "markdown",
   "id": "3a3e511c-8c3e-4496-8555-39c324dfa7ca",
   "metadata": {},
   "source": [
    "# Часть 3. Условные операторы\n"
   ]
  },
  {
   "cell_type": "markdown",
   "id": "b445e525-2eb4-47b7-96b2-b73dcfb5123d",
   "metadata": {},
   "source": [
    "1. На основе значения возраста из словаря **person** из предыдущей части, выведите сообщение \"Совершеннолетний\" или \"Несовершеннолетний\".\n"
   ]
  },
  {
   "cell_type": "code",
   "execution_count": 2,
   "id": "1d0324dd-f959-4f32-b05d-e0f9817d3d8a",
   "metadata": {},
   "outputs": [
    {
     "name": "stdout",
     "output_type": "stream",
     "text": [
      "Совершеннолетний\n"
     ]
    }
   ],
   "source": [
    "person = dict()\n",
    "\n",
    "person['name'] = 'Indira'\n",
    "person['age'] = 35\n",
    "person['city'] = 'Moscow'\n",
    "\n",
    "\n",
    "if person['age'] >= 18:\n",
    "    print(\"Совершеннолетний\")\n",
    "else:\n",
    "    print(\"Несовершеннолетний\")"
   ]
  },
  {
   "cell_type": "markdown",
   "id": "5d15e061-d387-4097-a483-9b3cacac6796",
   "metadata": {},
   "source": [
    "2. Сравните размер множества **set1** с размером множеством **set2** и выведите сообщение о том, какое из множеств больше.\n"
   ]
  },
  {
   "cell_type": "code",
   "execution_count": 10,
   "id": "3592aa35-885d-4fee-a9fa-d814e24c597d",
   "metadata": {},
   "outputs": [
    {
     "name": "stdout",
     "output_type": "stream",
     "text": [
      "Множество set1 такое же по размеру, как множество set2\n"
     ]
    }
   ],
   "source": [
    "set1 = set([1, 2, 3, 4, 5])\n",
    "set2 = set([4, 5, 6, 7, 8])\n",
    "\n",
    "if len(set1) > len(set2):\n",
    "    print('Множество set1 больше, чем множество set2')\n",
    "elif len(set1) < len(set2):\n",
    "    print('Множество set2 больше, чем множество set1')   \n",
    "else:\n",
    "    print('Множество set1 такое же по размеру, как множество set2') "
   ]
  },
  {
   "cell_type": "markdown",
   "id": "c2fd9e2b-b030-4653-acf0-2809ec1a43d4",
   "metadata": {},
   "source": [
    "3. Проверьте, есть ли  \"груша\" в словаре **fruits_quantity**, и если нет, добавьте \"грушу\" с количеством 3."
   ]
  },
  {
   "cell_type": "code",
   "execution_count": 27,
   "id": "d286e015-2d36-449d-a41c-c71869ee2363",
   "metadata": {},
   "outputs": [
    {
     "name": "stdout",
     "output_type": "stream",
     "text": [
      "'груша' отсутствует в словаре fruits_quantity, добавили 'грушу':\n",
      "{'яблоко': 5, 'банан': 10, 'апельсин': 7, 'груша': 3}\n"
     ]
    }
   ],
   "source": [
    "fruits_quantity = dict()\n",
    "\n",
    "fruits_quantity['яблоко'] = 5\n",
    "fruits_quantity['банан'] = 10\n",
    "fruits_quantity['апельсин'] = 7\n",
    "\n",
    "if 'груша' in fruits_quantity.keys():\n",
    "    print(\"'груша' есть в словаре fruits_quantity\" )\n",
    "elif 'груша' not in fruits_quantity.keys():\n",
    "    fruits_quantity['груша'] = 3\n",
    "    print(\"'груша' отсутствует в словаре fruits_quantity, добавили 'грушу':\", fruits_quantity, sep = '\\n')\n"
   ]
  },
  {
   "cell_type": "markdown",
   "id": "757051db-9f0b-4356-9430-9e5fee39647e",
   "metadata": {},
   "source": [
    "4. Если банан дороже яблока, но дешевле апельсина, задайте количество бананов равным 15.\n"
   ]
  },
  {
   "cell_type": "code",
   "execution_count": 35,
   "id": "068dbbea-5984-4ac2-a353-4e9d06e18a92",
   "metadata": {},
   "outputs": [
    {
     "name": "stdout",
     "output_type": "stream",
     "text": [
      "банан дороже яблока, но дешевле апельсина\n",
      "{'яблоко': 5, 'банан': 15, 'апельсин': 7, 'груша': 3}\n"
     ]
    }
   ],
   "source": [
    "fruits_prices = dict()\n",
    "\n",
    "fruits_prices['яблоко'] = 1.5\n",
    "fruits_prices['банан'] = 2\n",
    "fruits_prices['апельсин'] = 5 #1.2 \n",
    "\n",
    "if fruits_prices['банан'] > fruits_prices['яблоко']:\n",
    "    if fruits_prices['банан'] < fruits_prices['апельсин']:\n",
    "        fruits_quantity['банан'] = 15\n",
    "        print('банан дороже яблока, но дешевле апельсина', fruits_quantity, sep = '\\n')\n",
    "    else:\n",
    "        print('банан дороже яблока и дороже апельсина', fruits_quantity, sep = '\\n')\n",
    "elif fruits_prices['банан'] < fruits_prices['яблоко']:\n",
    "    if fruits_prices['банан'] < fruits_prices['апельсин']:\n",
    "        print('банан дешевле яблока и дешевле апельсина', fruits_quantity, sep = '\\n')\n",
    "    else:\n",
    "        print('банан дешевле яблока, но не дешевле апельсина', fruits_quantity, sep = '\\n')\n",
    "\n",
    "#print('Создала словарь fruits_prices, где заданы цены одного фрукта: ', fruits_prices, sep = '\\n')"
   ]
  },
  {
   "cell_type": "markdown",
   "id": "d8bdcc84-7064-4a77-b959-49e6157aa90c",
   "metadata": {},
   "source": [
    "5. Задайте словарь Seven11 с таким содержанием {\"яйца\": 40, \"батон хлеба\" : 20}  \n",
    "  Жена отправляет мужа-программиста в севенэлевен:  \n",
    " — Купи батон хлеба, если будут яйца — возьми десяток.  \n",
    "Выведите на экран, сколько хлеба купил муж-программист, и сколько хлеба и яиц осталось в магазине."
   ]
  },
  {
   "cell_type": "code",
   "execution_count": 42,
   "id": "c6a7a1b3-58a9-4d18-a549-38190301c2ed",
   "metadata": {},
   "outputs": [
    {
     "name": "stdout",
     "output_type": "stream",
     "text": [
      "Муж купил хлеба батон и десяток яиц\n",
      "Остаток продуктов в магазине:\n",
      "{'яйца': 30, 'батон хлеба': 19}\n"
     ]
    }
   ],
   "source": [
    "Seven11 = dict()\n",
    "\n",
    "Seven11['яйца'] = 40 \n",
    "Seven11['батон хлеба'] = 20\n",
    "\n",
    "if Seven11['батон хлеба'] > 0:\n",
    "    Seven11['батон хлеба'] -= 1\n",
    "    if Seven11['яйца'] > 10:\n",
    "        Seven11['яйца'] -= 10\n",
    "        print('Муж купил хлеба батон и десяток яиц'\n",
    "              , 'Остаток продуктов в магазине:'\n",
    "              , Seven11\n",
    "              , sep = '\\n')\n",
    "    else:\n",
    "        print('Муж купил хлеба батон, яиц меньше 10 — их не взял'\n",
    "              , 'Остаток продуктов в магазине:'\n",
    "              , Seven11\n",
    "              , sep = '\\n')\n",
    "elif Seven11['батон хлеба'] == 0:\n",
    "    if Seven11['яйца'] > 10:\n",
    "        Seven11['яйца'] -= 10\n",
    "        print('Хлеба нет, зато есть десяток яиц'\n",
    "              , 'Остаток продуктов в магазине:'\n",
    "              , Seven11\n",
    "              , sep = '\\n')\n",
    "    else:\n",
    "        print('Хлеба нет, яиц меньше 10 — их не взял'\n",
    "              , 'Остаток продуктов в магазине:'\n",
    "              , Seven11\n",
    "              , sep = '\\n')\n",
    "\n"
   ]
  },
  {
   "cell_type": "markdown",
   "id": "a8202eb3-04e4-4c9b-bc37-d93a5eef3e13",
   "metadata": {},
   "source": [
    "6. Напишите условие, которое проверяет возраст студента \"Иванова\" и выводит сообщение \"Совершеннолетний\" или \"Несовершеннолетний\"."
   ]
  },
  {
   "cell_type": "code",
   "execution_count": 47,
   "id": "831eb710-b3ff-4825-985d-e53f1b35aa34",
   "metadata": {},
   "outputs": [
    {
     "name": "stdout",
     "output_type": "stream",
     "text": [
      "Студент \"Иванова\" отсутствует\n"
     ]
    }
   ],
   "source": [
    "students = dict()\n",
    "\n",
    "students['Иванов'] = 22\n",
    "students['Петрова'] = 13\n",
    "students['Сидоров'] = 23\n",
    "#students['Иванова'] = 25 \n",
    "\n",
    "if \"Иванова\" in students.keys():\n",
    "    if students['Иванова'] >= 18:\n",
    "        print('Студент \"Иванова\" совершеннолетний(-яя)')\n",
    "    else:\n",
    "        print('Студент \"Иванова\" несовершеннолетний(-яя)')\n",
    "else:\n",
    "    print('Студент \"Иванова\" отсутствует')"
   ]
  }
 ],
 "metadata": {
  "kernelspec": {
   "display_name": "Python 3 (ipykernel)",
   "language": "python",
   "name": "python3"
  },
  "language_info": {
   "codemirror_mode": {
    "name": "ipython",
    "version": 3
   },
   "file_extension": ".py",
   "mimetype": "text/x-python",
   "name": "python",
   "nbconvert_exporter": "python",
   "pygments_lexer": "ipython3",
   "version": "3.10.10"
  }
 },
 "nbformat": 4,
 "nbformat_minor": 5
}
