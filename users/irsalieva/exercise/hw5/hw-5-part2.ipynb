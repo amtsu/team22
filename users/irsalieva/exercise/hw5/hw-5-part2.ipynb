{
 "cells": [
  {
   "cell_type": "markdown",
   "id": "b537fffb-1897-4d78-958c-b6ad453c0d24",
   "metadata": {},
   "source": [
    "# Часть 2. Словари"
   ]
  },
  {
   "cell_type": "markdown",
   "id": "47a7ed34-fd76-49c1-9411-8dd148cc296e",
   "metadata": {},
   "source": [
    "1. Создайте словарь **person** с ключами \"name\", \"age\" и \"city\" с вашими данными.\n"
   ]
  },
  {
   "cell_type": "code",
   "execution_count": 17,
   "id": "b43e31f8-fc54-447e-94a1-3423d137a79a",
   "metadata": {},
   "outputs": [
    {
     "name": "stdout",
     "output_type": "stream",
     "text": [
      "Создала словарь person:\n",
      "{'name': 'Indira', 'age': 35, 'city': 'Moscow'}\n"
     ]
    }
   ],
   "source": [
    "person = dict()\n",
    "\n",
    "person['name'] = 'Indira'\n",
    "person['age'] = 35\n",
    "person['city'] = 'Moscow'\n",
    "\n",
    "print('Создала словарь person:', person, sep = '\\n')"
   ]
  },
  {
   "cell_type": "markdown",
   "id": "a8132d21-d7d4-4632-9583-ac6f504b5fcc",
   "metadata": {},
   "source": [
    "2. Добавьте в словарь **person**  новый ключ \"e-mail\" со значением вашего электронного адреса."
   ]
  },
  {
   "cell_type": "code",
   "execution_count": 18,
   "id": "8283df3b-e08c-4981-b6fe-1ebed04cd91b",
   "metadata": {},
   "outputs": [
    {
     "name": "stdout",
     "output_type": "stream",
     "text": [
      "Добавила в словарь person новый ключ \"e-mail\":\n",
      "{'name': 'Indira', 'age': 35, 'city': 'Moscow', 'e-mail': 'indira@mail.ru'}\n"
     ]
    }
   ],
   "source": [
    "person['e-mail'] = 'indira@mail.ru'\n",
    "\n",
    "print('Добавила в словарь person новый ключ \"e-mail\":', person, sep = '\\n')"
   ]
  },
  {
   "cell_type": "markdown",
   "id": "09898bee-007c-493a-b682-4212c7ba1f22",
   "metadata": {},
   "source": [
    "3. Удалите ключ \"city\" из словаря **person** .\n"
   ]
  },
  {
   "cell_type": "code",
   "execution_count": 19,
   "id": "5bf7aaed-2a30-445c-a676-d3016917cc2a",
   "metadata": {},
   "outputs": [
    {
     "name": "stdout",
     "output_type": "stream",
     "text": [
      "Удалила ключ \"city\" из словаря person:\n",
      "{'name': 'Indira', 'age': 35, 'e-mail': 'indira@mail.ru'}\n"
     ]
    }
   ],
   "source": [
    "person.pop('city')\n",
    "\n",
    "print('Удалила ключ \"city\" из словаря person:', person, sep = '\\n')"
   ]
  },
  {
   "cell_type": "markdown",
   "id": "eee442d7-c4d5-4ed6-947a-fa34db472e34",
   "metadata": {},
   "source": [
    "4. Создайте словарь **fruits_quantity**, содержащий количество различных фруктов: {\"яблоко\": 5, \"банан\": 10, \"апельсин\": 7}."
   ]
  },
  {
   "cell_type": "code",
   "execution_count": 27,
   "id": "b03fb582-853b-427d-96b2-9138be9ad474",
   "metadata": {},
   "outputs": [
    {
     "name": "stdout",
     "output_type": "stream",
     "text": [
      "Создала словарь fruits_quantity, содержащий количество различных фруктов: \n",
      "{'яблоко': 5, 'банан': 10, 'апельсин': 7}\n"
     ]
    }
   ],
   "source": [
    "fruits_quantity = dict()\n",
    "\n",
    "fruits_quantity['яблоко'] = 5\n",
    "fruits_quantity['банан'] = 10\n",
    "fruits_quantity['апельсин'] = 7\n",
    "\n",
    "print('Создала словарь fruits_quantity, содержащий количество различных фруктов: ', fruits_quantity, sep = '\\n')"
   ]
  },
  {
   "cell_type": "markdown",
   "id": "e3372dce-5661-4a42-9904-19923e542d48",
   "metadata": {},
   "source": [
    "5. в словаре fruits_quantity увеличьте количество \"бананов\" на 3."
   ]
  },
  {
   "cell_type": "code",
   "execution_count": 28,
   "id": "dfdc4743-a7e5-44e0-83a4-ae4e8e8635dd",
   "metadata": {},
   "outputs": [
    {
     "name": "stdout",
     "output_type": "stream",
     "text": [
      "В словаре fruits_quantity увеличила количество \"бананов\" на 3: \n",
      "{'яблоко': 5, 'банан': 13, 'апельсин': 7}\n"
     ]
    }
   ],
   "source": [
    "fruits_quantity['банан'] += 3\n",
    "\n",
    "print('В словаре fruits_quantity увеличила количество \"бананов\" на 3: ', fruits_quantity, sep = '\\n')"
   ]
  },
  {
   "cell_type": "markdown",
   "id": "1901a74c-3f78-4e9d-96ea-3c389683d35d",
   "metadata": {},
   "source": [
    "6. Создайте новый словарь **fruits_prices**, где заданы цены одного фрукта для всех фруктов {\"яблоко\": 1.5, \"банан\": 2, \"апельсин\": 1.2}."
   ]
  },
  {
   "cell_type": "code",
   "execution_count": 29,
   "id": "4470415d-2180-4af5-ba8a-132809d5f309",
   "metadata": {},
   "outputs": [
    {
     "name": "stdout",
     "output_type": "stream",
     "text": [
      "Создала словарь fruits_prices, где заданы цены одного фрукта: \n",
      "{'яблоко': 1.5, 'банан': 2, 'апельсин': 1.2}\n"
     ]
    }
   ],
   "source": [
    "fruits_prices = dict()\n",
    "\n",
    "fruits_prices['яблоко'] = 1.5\n",
    "fruits_prices['банан'] = 2\n",
    "fruits_prices['апельсин'] = 1.2\n",
    "\n",
    "print('Создала словарь fruits_prices, где заданы цены одного фрукта: ', fruits_prices, sep = '\\n')"
   ]
  },
  {
   "cell_type": "markdown",
   "id": "9f33e0a5-3798-4483-9bd8-7fea2db81a73",
   "metadata": {},
   "source": [
    "7.* Посчитайте стоимость всех фруктов, имеющихся в наличии\n"
   ]
  },
  {
   "cell_type": "code",
   "execution_count": 43,
   "id": "e0c2ca7d-7d27-46d8-be5f-26e054b795d9",
   "metadata": {},
   "outputs": [
    {
     "name": "stdout",
     "output_type": "stream",
     "text": [
      "Стоимость всех фруктов, имеющихся в наличии:\n",
      "41.9\n"
     ]
    }
   ],
   "source": [
    "fruits_summ = 0\n",
    "\n",
    "for key in fruits_prices.keys():\n",
    "    fruits_summ += fruits_prices[key] * fruits_quantity[key]\n",
    "\n",
    "print('Стоимость всех фруктов, имеющихся в наличии:', fruits_summ, sep = '\\n')\n"
   ]
  },
  {
   "cell_type": "markdown",
   "id": "afca6bd4-0a58-4911-b435-85c2889aad97",
   "metadata": {},
   "source": [
    "8. Удалите \"Томат\" из словаря fruits_prices."
   ]
  },
  {
   "cell_type": "code",
   "execution_count": 44,
   "id": "c6a28d1e-2fa5-4b63-9a0d-89604ab5924f",
   "metadata": {},
   "outputs": [
    {
     "ename": "KeyError",
     "evalue": "'Томат'",
     "output_type": "error",
     "traceback": [
      "\u001b[0;31m---------------------------------------------------------------------------\u001b[0m",
      "\u001b[0;31mKeyError\u001b[0m                                  Traceback (most recent call last)",
      "Cell \u001b[0;32mIn[44], line 1\u001b[0m\n\u001b[0;32m----> 1\u001b[0m \u001b[38;5;28;01mdel\u001b[39;00m fruits_quantity[\u001b[38;5;124m\"\u001b[39m\u001b[38;5;124mТомат\u001b[39m\u001b[38;5;124m\"\u001b[39m]\n",
      "\u001b[0;31mKeyError\u001b[0m: 'Томат'"
     ]
    }
   ],
   "source": [
    "del fruits_quantity[\"Томат\"]"
   ]
  },
  {
   "cell_type": "markdown",
   "id": "a4649447-0461-4999-9b88-2bec055d6481",
   "metadata": {},
   "source": [
    "9. Создайте словарь students с данными о студентах {\"Иванов\": 22, \"Петрова\": 13, \"Сидоров\": 23}."
   ]
  },
  {
   "cell_type": "code",
   "execution_count": 45,
   "id": "4c974d34-6b8a-4d01-ae2f-695fa45dc2a0",
   "metadata": {},
   "outputs": [
    {
     "name": "stdout",
     "output_type": "stream",
     "text": [
      "Создала словарь students с данными о студентах: \n",
      "{'Иванов': 22, 'Петрова': 13, 'Сидоров': 23}\n"
     ]
    }
   ],
   "source": [
    "students = dict()\n",
    "\n",
    "students['Иванов'] = 22\n",
    "students['Петрова'] = 13\n",
    "students['Сидоров'] = 23\n",
    "\n",
    "print('Создала словарь students с данными о студентах: ', students, sep = '\\n')"
   ]
  },
  {
   "cell_type": "markdown",
   "id": "bf5aefc5-5509-41ff-984e-77088ba8626e",
   "metadata": {},
   "source": [
    "10. Добавьте нового студента \"Смирнова\" возрастом 20 лет в словарь."
   ]
  },
  {
   "cell_type": "code",
   "execution_count": 46,
   "id": "6d2a8899-f596-4eb1-b9d9-7afa2fbf9835",
   "metadata": {},
   "outputs": [
    {
     "name": "stdout",
     "output_type": "stream",
     "text": [
      "Добавила нового студента \"Смирнова\" возрастом 20 лет в словарь students: \n",
      "{'Иванов': 22, 'Петрова': 13, 'Сидоров': 23, 'Смирнова': 20}\n"
     ]
    }
   ],
   "source": [
    "students['Смирнова'] = 20\n",
    "\n",
    "print('Добавила нового студента \"Смирнова\" возрастом 20 лет в словарь students: ', students, sep = '\\n')"
   ]
  },
  {
   "cell_type": "markdown",
   "id": "d3bbb12b-a690-426d-be4e-ac14bd461e0e",
   "metadata": {},
   "source": [
    "11. Удалите студента \"Петрова\" из словаря."
   ]
  },
  {
   "cell_type": "code",
   "execution_count": 47,
   "id": "14685ac6-f780-40d3-ba93-1b6b1508c71a",
   "metadata": {},
   "outputs": [
    {
     "name": "stdout",
     "output_type": "stream",
     "text": [
      "Удалила студента \"Петрова\" из словаря students: \n",
      "{'Иванов': 22, 'Сидоров': 23, 'Смирнова': 20}\n"
     ]
    }
   ],
   "source": [
    "del students['Петрова']\n",
    "\n",
    "print('Удалила студента \"Петрова\" из словаря students: ', students, sep = '\\n')"
   ]
  }
 ],
 "metadata": {
  "kernelspec": {
   "display_name": "Python 3 (ipykernel)",
   "language": "python",
   "name": "python3"
  },
  "language_info": {
   "codemirror_mode": {
    "name": "ipython",
    "version": 3
   },
   "file_extension": ".py",
   "mimetype": "text/x-python",
   "name": "python",
   "nbconvert_exporter": "python",
   "pygments_lexer": "ipython3",
   "version": "3.10.10"
  }
 },
 "nbformat": 4,
 "nbformat_minor": 5
}
