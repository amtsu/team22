{
 "cells": [
  {
   "cell_type": "markdown",
   "id": "8727cf2d-3ef8-4e10-a773-dc8c62f46167",
   "metadata": {},
   "source": [
    "# Часть 4. Циклы "
   ]
  },
  {
   "cell_type": "markdown",
   "id": "0cc79b02-4f14-4afc-a9da-5679d5aad696",
   "metadata": {},
   "source": [
    "1. Напишите цикл for, который выводит все элементы множества **set1**.\n"
   ]
  },
  {
   "cell_type": "code",
   "execution_count": 8,
   "id": "e6709032-140c-4ebe-b63b-211c948c0f78",
   "metadata": {},
   "outputs": [
    {
     "name": "stdout",
     "output_type": "stream",
     "text": [
      "Элементы множества set1:\n",
      "1\n",
      "2\n",
      "3\n",
      "4\n",
      "5\n"
     ]
    }
   ],
   "source": [
    "set1 = {1, 2, 3, 4, 5}\n",
    "\n",
    "print('Элементы множества set1:')\n",
    "for elem in set1:\n",
    "    print(elem, sep = '\\n')\n"
   ]
  },
  {
   "cell_type": "markdown",
   "id": "b11f675d-0fc2-4fa6-ab63-5bc90fedd0e9",
   "metadata": {},
   "source": [
    "2. Напишите цикл while, который выводит квадраты чисел от 1 до 5.\n"
   ]
  },
  {
   "cell_type": "code",
   "execution_count": 13,
   "id": "52196b4f-7639-4bf6-b33f-3edbde3d1fc8",
   "metadata": {},
   "outputs": [
    {
     "name": "stdout",
     "output_type": "stream",
     "text": [
      "Квадрат числа 1: 1\n",
      "Квадрат числа 2: 4\n",
      "Квадрат числа 3: 9\n",
      "Квадрат числа 4: 16\n",
      "Квадрат числа 5: 25\n"
     ]
    }
   ],
   "source": [
    "x = 1\n",
    "\n",
    "while 0 < x <= 5:\n",
    "    print(f'Квадрат числа {x}:', x**2)\n",
    "    x += 1"
   ]
  },
  {
   "cell_type": "markdown",
   "id": "08006861-c85e-4bca-9046-38464ccf582a",
   "metadata": {},
   "source": [
    "3. Напишите цикл for, который перебирает все записи из словаря **fruits_quantity** и выводит информацию о количестве каждого фрукта.\n"
   ]
  },
  {
   "cell_type": "code",
   "execution_count": 22,
   "id": "d156e778-7e8d-41d4-91b4-7e4bd4b2ae82",
   "metadata": {},
   "outputs": [
    {
     "name": "stdout",
     "output_type": "stream",
     "text": [
      "яблоко — 5 шт.\n",
      "банан — 10 шт.\n",
      "апельсин — 7 шт.\n"
     ]
    }
   ],
   "source": [
    "fruits_quantity = dict()\n",
    "\n",
    "fruits_quantity['яблоко'] = 5\n",
    "fruits_quantity['банан'] = 10\n",
    "fruits_quantity['апельсин'] = 7\n",
    "\n",
    "for elem in fruits_quantity.keys():\n",
    "    print(elem, '—', fruits_quantity[elem], 'шт.')"
   ]
  },
  {
   "cell_type": "markdown",
   "id": "bf60f6c9-bc04-4116-a3e9-464233a4c5d1",
   "metadata": {},
   "source": [
    "4. Выведите сообщение \"%название фрукта% - дорогой товар\" для фруктов из **fruit_prices**, цена которых превышает 1.5, подставив вместо %название фрукта% название соответствующих \"дорогих\" фруктов"
   ]
  },
  {
   "cell_type": "code",
   "execution_count": 24,
   "id": "b28298bb-0a96-4344-9dfb-d25aa46ec8e2",
   "metadata": {},
   "outputs": [
    {
     "name": "stdout",
     "output_type": "stream",
     "text": [
      "банан — дорогой товар\n",
      "апельсин — дорогой товар\n"
     ]
    }
   ],
   "source": [
    "fruits_prices = dict()\n",
    "\n",
    "fruits_prices['яблоко'] = 1.5\n",
    "fruits_prices['банан'] = 2\n",
    "fruits_prices['апельсин'] = 1.7 #1.2 \n",
    "\n",
    "for elem in fruits_prices.keys():\n",
    "    if fruits_prices[elem] > 1.5:\n",
    "        print(f'{elem} — дорогой товар')"
   ]
  },
  {
   "cell_type": "markdown",
   "id": "fbc87167-02af-40c3-a0d9-d0b7a29a93e5",
   "metadata": {},
   "source": [
    " 5. Посчитайте стоимость всех фруктов, имеющихся в наличии"
   ]
  },
  {
   "cell_type": "code",
   "execution_count": 25,
   "id": "ff0b55a3-35b0-466b-969f-26b484cecb9d",
   "metadata": {},
   "outputs": [
    {
     "name": "stdout",
     "output_type": "stream",
     "text": [
      "Стоимость всех фруктов, имеющихся в наличии:\n",
      "39.4\n"
     ]
    }
   ],
   "source": [
    "fruits_summ = 0\n",
    "\n",
    "for key in fruits_prices.keys():\n",
    "    fruits_summ += fruits_prices[key] * fruits_quantity[key]\n",
    "\n",
    "print('Стоимость всех фруктов, имеющихся в наличии:', fruits_summ, sep = '\\n')\n",
    "        "
   ]
  },
  {
   "cell_type": "markdown",
   "id": "dbf8baf6-ca73-4ee4-8594-e2e0441be351",
   "metadata": {},
   "source": [
    "6. Используя цикл for, выведите всех студентов и их возраст из словаря students."
   ]
  },
  {
   "cell_type": "code",
   "execution_count": 31,
   "id": "54edea6a-f321-4bb7-8fc7-30fc4be4ce32",
   "metadata": {},
   "outputs": [
    {
     "name": "stdout",
     "output_type": "stream",
     "text": [
      "Иванов — 22\n",
      "Петрова — 13\n",
      "Сидоров — 23\n"
     ]
    }
   ],
   "source": [
    "students = dict()\n",
    "\n",
    "students['Иванов'] = 22\n",
    "students['Петрова'] = 13\n",
    "students['Сидоров'] = 23\n",
    "\n",
    "for stud in students.keys():\n",
    "    print(f'{stud} — {students[stud]}')"
   ]
  }
 ],
 "metadata": {
  "kernelspec": {
   "display_name": "Python 3 (ipykernel)",
   "language": "python",
   "name": "python3"
  },
  "language_info": {
   "codemirror_mode": {
    "name": "ipython",
    "version": 3
   },
   "file_extension": ".py",
   "mimetype": "text/x-python",
   "name": "python",
   "nbconvert_exporter": "python",
   "pygments_lexer": "ipython3",
   "version": "3.10.10"
  }
 },
 "nbformat": 4,
 "nbformat_minor": 5
}
