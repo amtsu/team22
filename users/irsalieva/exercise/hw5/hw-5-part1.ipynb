{
 "cells": [
  {
   "cell_type": "markdown",
   "id": "a1850caa-4b10-43fe-a8cf-6607941a96aa",
   "metadata": {},
   "source": [
    "# Часть 1. Множества \n"
   ]
  },
  {
   "cell_type": "markdown",
   "id": "c0f0525a-3b70-4947-8c87-8e43bb8f3024",
   "metadata": {},
   "source": [
    "1. Создайте множество **set1** из целых чисел: 1, 2, 3, 4, 5.\n"
   ]
  },
  {
   "cell_type": "code",
   "execution_count": 30,
   "id": "423a97aa-ee5a-4421-8ccf-16d9dcb1b5ea",
   "metadata": {},
   "outputs": [
    {
     "name": "stdout",
     "output_type": "stream",
     "text": [
      "Множество set1:\n",
      "{1, 2, 3, 4, 5}\n"
     ]
    }
   ],
   "source": [
    "set1 = {1, 2, 3, 4, 5}\n",
    "\n",
    "print('Множество set1:', set1, sep = '\\n')"
   ]
  },
  {
   "cell_type": "markdown",
   "id": "558268bc-73f0-4cf1-8fcc-b8ecc7182ae9",
   "metadata": {},
   "source": [
    "2. Добавьте в это множество элемент 6.\n"
   ]
  },
  {
   "cell_type": "code",
   "execution_count": 31,
   "id": "17313f2a-6525-4e64-8fca-43d48d76492f",
   "metadata": {},
   "outputs": [
    {
     "name": "stdout",
     "output_type": "stream",
     "text": [
      "В множество set1 добавили элемент 6:\n",
      "{1, 2, 3, 4, 5, 6}\n"
     ]
    }
   ],
   "source": [
    "set1.add(6)\n",
    "\n",
    "print('В множество set1 добавили элемент 6:', set1, sep = '\\n')"
   ]
  },
  {
   "cell_type": "markdown",
   "id": "3909c160-fddb-4fda-8c56-63a6e0392ad7",
   "metadata": {},
   "source": [
    "3. Удалите элемент 2 из множества.\n"
   ]
  },
  {
   "cell_type": "code",
   "execution_count": 32,
   "id": "7ae2e268-2d6f-4321-a0fb-5561a745d047",
   "metadata": {},
   "outputs": [
    {
     "name": "stdout",
     "output_type": "stream",
     "text": [
      "Из множества set1 удалили элемент 2:\n",
      "{1, 3, 4, 5, 6}\n"
     ]
    }
   ],
   "source": [
    "set1.remove(2)\n",
    "\n",
    "print('Из множества set1 удалили элемент 2:', set1, sep = '\\n')"
   ]
  },
  {
   "cell_type": "markdown",
   "id": "162a7095-c591-4892-b763-fe76635fde90",
   "metadata": {},
   "source": [
    "4. Проверьте, содержит ли множество элемент 3.\n"
   ]
  },
  {
   "cell_type": "code",
   "execution_count": 33,
   "id": "cab6f1d4-26fb-4065-b8a4-944395d3805e",
   "metadata": {},
   "outputs": [
    {
     "name": "stdout",
     "output_type": "stream",
     "text": [
      "Множество содержит элемент 3\n"
     ]
    }
   ],
   "source": [
    "if 3 in set1:\n",
    "    print('Множество содержит элемент 3')\n",
    "elif 3 not in set1:\n",
    "    print('Множество не содержит элемент 3')"
   ]
  },
  {
   "cell_type": "markdown",
   "id": "73190ab8-b652-4061-bc9f-c47515fe681e",
   "metadata": {},
   "source": [
    "5. Создайте второе множество **set2** с элементами 4, 5, 6, 7, 8.\n"
   ]
  },
  {
   "cell_type": "code",
   "execution_count": 34,
   "id": "12e059b2-c8fc-4490-8252-8edaa247cb35",
   "metadata": {},
   "outputs": [
    {
     "name": "stdout",
     "output_type": "stream",
     "text": [
      "Множество set2:\n",
      "{4, 5, 6, 7, 8}\n"
     ]
    }
   ],
   "source": [
    "set2 = {4, 5, 6, 7, 8}\n",
    "\n",
    "print('Множество set2:', set2, sep = '\\n')"
   ]
  },
  {
   "cell_type": "markdown",
   "id": "3ad31069-26d0-411f-bcd7-b753856f6bd0",
   "metadata": {},
   "source": [
    "6. Найдите объединение множеств **set1** и **set2**.\n"
   ]
  },
  {
   "cell_type": "code",
   "execution_count": 35,
   "id": "e2a3340e-45f0-4fdb-bab9-56d5a1e109c3",
   "metadata": {},
   "outputs": [
    {
     "name": "stdout",
     "output_type": "stream",
     "text": [
      "Объединение множество set1 и set2:\n",
      "{1, 3, 4, 5, 6, 7, 8}\n"
     ]
    }
   ],
   "source": [
    "set_union = set1.union(set2)\n",
    "\n",
    "print('Объединение множество set1 и set2:', set_union, sep = '\\n')"
   ]
  },
  {
   "cell_type": "markdown",
   "id": "c30d10c9-7fdb-426b-8657-1118326987d0",
   "metadata": {},
   "source": [
    "7. Найдите разность множеств **set1** и **set2**.\n"
   ]
  },
  {
   "cell_type": "code",
   "execution_count": 36,
   "id": "1213f5d8-5914-4715-8402-f64e62bc0238",
   "metadata": {},
   "outputs": [
    {
     "name": "stdout",
     "output_type": "stream",
     "text": [
      "Разность множеств set1 и set2:\n",
      "{1, 3}\n"
     ]
    }
   ],
   "source": [
    "set_diff = set1.difference(set2)\n",
    "\n",
    "print('Разность множеств set1 и set2:', set_diff, sep = '\\n')"
   ]
  },
  {
   "cell_type": "markdown",
   "id": "50855226-2ee2-46ec-b236-13ff9d974eec",
   "metadata": {},
   "source": [
    "8. Создайте два множества:\n",
    " **set1** , содержащие цвета: \"красный\", \"оранжевый\", \"желтый\", \"зеленый\", \"голубой\",\n",
    "   и **set2**, содержащее цвета \"оранжевый\", \"желтый\", \"синий\", \"фиолетовый\", \"Мальвиновый\".\n"
   ]
  },
  {
   "cell_type": "code",
   "execution_count": 37,
   "id": "3102c92c-48c3-4aa7-bd47-037009cb05d3",
   "metadata": {},
   "outputs": [
    {
     "name": "stdout",
     "output_type": "stream",
     "text": [
      "Множество set1_colors:\n",
      "{'красный', 'голубой', 'зеленый', 'желтый', 'оранжевый'}\n",
      "Множество set2_colors:\n",
      "{'синий', 'Мальвиновый', 'желтый', 'фиолетовый', 'оранжевый'}\n"
     ]
    }
   ],
   "source": [
    "set1_colors = set([\"красный\", \"оранжевый\", \"желтый\", \"зеленый\", \"голубой\"])\n",
    "set2_colors = set([\"оранжевый\", \"желтый\", \"синий\", \"фиолетовый\", \"Мальвиновый\"])\n",
    "\n",
    "print('Множество set1_colors:', set1_colors, 'Множество set2_colors:', set2_colors, sep = '\\n')"
   ]
  },
  {
   "cell_type": "markdown",
   "id": "c4a8970f-59b1-4ae3-a291-abaa4dbfc1af",
   "metadata": {},
   "source": [
    "9. Найдите пересечение множеств **set1** и **set2**.\n"
   ]
  },
  {
   "cell_type": "code",
   "execution_count": 38,
   "id": "a0a49969-4a8b-4679-a60e-a8fbd8b5f480",
   "metadata": {},
   "outputs": [
    {
     "name": "stdout",
     "output_type": "stream",
     "text": [
      "Пересечение множеств set1_colors и set2_colors: {'оранжевый', 'желтый'}\n"
     ]
    }
   ],
   "source": [
    "set_intersection = set1_colors.intersection(set2_colors)\n",
    "\n",
    "print('Пересечение множеств set1_colors и set2_colors:', set_intersection)"
   ]
  },
  {
   "cell_type": "markdown",
   "id": "ab8eb385-fe71-4aa8-a0b1-3cac1fd208eb",
   "metadata": {},
   "source": [
    "10. Объедините множества **set1** и **set2** и сохраните результат в новое множество **rainbow_colors**."
   ]
  },
  {
   "cell_type": "code",
   "execution_count": 39,
   "id": "07c8a944-5fe0-4875-9c35-dc2e8bc3efed",
   "metadata": {},
   "outputs": [
    {
     "name": "stdout",
     "output_type": "stream",
     "text": [
      "Сохранила объединение множеств set1_colors и set2_colors в новое rainbow_colors:\n",
      "{'красный', 'синий', 'Мальвиновый', 'голубой', 'зеленый', 'желтый', 'фиолетовый', 'оранжевый'}\n"
     ]
    }
   ],
   "source": [
    "rainbow_colors = set1_colors.union(set2_colors)\n",
    "\n",
    "print('Сохранила объединение множеств set1_colors и set2_colors в новое rainbow_colors:', rainbow_colors, sep = '\\n')"
   ]
  }
 ],
 "metadata": {
  "kernelspec": {
   "display_name": "Python 3 (ipykernel)",
   "language": "python",
   "name": "python3"
  },
  "language_info": {
   "codemirror_mode": {
    "name": "ipython",
    "version": 3
   },
   "file_extension": ".py",
   "mimetype": "text/x-python",
   "name": "python",
   "nbconvert_exporter": "python",
   "pygments_lexer": "ipython3",
   "version": "3.10.10"
  }
 },
 "nbformat": 4,
 "nbformat_minor": 5
}
