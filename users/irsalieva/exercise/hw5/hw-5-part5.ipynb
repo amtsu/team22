{
 "cells": [
  {
   "cell_type": "markdown",
   "id": "e5e7b6e6-df34-44d4-8dce-ad5dbff8958b",
   "metadata": {},
   "source": [
    "# Часть 5 - Функции\n",
    "\n",
    "## Множества\n"
   ]
  },
  {
   "cell_type": "markdown",
   "id": "ebc29429-f37b-48f2-9e28-293ea449f065",
   "metadata": {},
   "source": [
    "1. Создайте функции **set_union** и **set_difference** для операций объединения и разности множеств.\n",
    "   - Функции должны принимать два множества и возвращать соответствующий результат.\n"
   ]
  },
  {
   "cell_type": "code",
   "execution_count": 2,
   "id": "a681b23a-0dd9-4d8f-843d-8a6c588230f0",
   "metadata": {},
   "outputs": [
    {
     "name": "stdin",
     "output_type": "stream",
     "text": [
      "Введите элементы множества (через пробел) для param1:  8 aaa 12\n",
      "Введите элементы множества (через пробел) для param2:  bbb cc\n"
     ]
    },
    {
     "name": "stdout",
     "output_type": "stream",
     "text": [
      "\n",
      "Объединение множества param1 = {'8', '12', 'aaa'} и param2 = {'cc', 'bbb'}\n",
      "{'cc', '12', 'bbb', '8', 'aaa'}\n"
     ]
    }
   ],
   "source": [
    "def set_union(param1, param2):\n",
    "    result = param1.union(param2)\n",
    "    return result\n",
    "\n",
    "param1 = set(input('Введите элементы множества (через пробел) для param1: ').split())\n",
    "param2 = set(input('Введите элементы множества (через пробел) для param2: ').split())\n",
    "\n",
    "param_union = set_union(param1, param2)\n",
    "\n",
    "print(f'\\nОбъединение множества param1 = {param1} и param2 = {param2}', param_union, sep = '\\n')\n"
   ]
  },
  {
   "cell_type": "code",
   "execution_count": 5,
   "id": "de460c12-cc88-49cc-9985-4a77815943e6",
   "metadata": {},
   "outputs": [
    {
     "name": "stdin",
     "output_type": "stream",
     "text": [
      "Введите элементы множества (через пробел) для param1:  Привет всем Чебурашка 123\n",
      "Введите элементы множества (через пробел) для param2:  Чебурашка 333 Мандарин\n"
     ]
    },
    {
     "name": "stdout",
     "output_type": "stream",
     "text": [
      "\n",
      "Разность множества param1 = {'Чебурашка', 'Привет', 'всем', '123'} и param2 = {'Мандарин', 'Чебурашка', '333'}\n",
      "{'Привет', 'Чебурашка', '333', '123', 'всем', 'Мандарин'}\n"
     ]
    }
   ],
   "source": [
    "def set_difference(param1, param2):\n",
    "    result = param1.difference(param2)\n",
    "    return result\n",
    "\n",
    "param1 = set(input('Введите элементы множества (через пробел) для param1: ').split())\n",
    "param2 = set(input('Введите элементы множества (через пробел) для param2: ').split())\n",
    "\n",
    "param_union = set_union(param1, param2)\n",
    "\n",
    "print(f'\\nРазность множества param1 = {param1} и param2 = {param2}', param_union, sep = '\\n')"
   ]
  },
  {
   "cell_type": "markdown",
   "id": "d684e5fc-2d58-4a2f-93d9-3e20e8b17b3b",
   "metadata": {},
   "source": [
    "2. Создайте функцию **is_subset** для проверки, является ли одно множество подмножеством другого.\n"
   ]
  },
  {
   "cell_type": "code",
   "execution_count": 6,
   "id": "71b7f783-18da-4f79-b4ee-32cde026862c",
   "metadata": {},
   "outputs": [
    {
     "name": "stdin",
     "output_type": "stream",
     "text": [
      "Введите элементы множества (через пробел) для param1:  23 45\n",
      "Введите элементы множества (через пробел) для param2:  56 78 45 222 1 23\n"
     ]
    },
    {
     "name": "stdout",
     "output_type": "stream",
     "text": [
      "Множество {'23', '45'} является подмножеством {'23', '56', '1', '222', '78', '45'}\n"
     ]
    }
   ],
   "source": [
    "def is_subset(param1, param2):\n",
    "    result = param1.issubset(param2)\n",
    "    return result\n",
    "\n",
    "param1 = set(input('Введите элементы множества (через пробел) для param1: ').split())\n",
    "param2 = set(input('Введите элементы множества (через пробел) для param2: ').split())\n",
    "\n",
    "\n",
    "if is_subset(param1, param2) == True:\n",
    "    print(f'Множество {param1} является подмножеством {param2}')\n",
    "else:\n",
    "    print(f'Множество {param1} не является подмножеством {param2}')\n",
    "\n"
   ]
  },
  {
   "cell_type": "markdown",
   "id": "9e205e46-bcf9-42e5-a63d-4a4c48e66a24",
   "metadata": {},
   "source": [
    "3. Создайте функцию для объединения нескольких множеств."
   ]
  },
  {
   "cell_type": "code",
   "execution_count": 7,
   "id": "e595f37e-527a-4827-af91-a2b31ef4a477",
   "metadata": {},
   "outputs": [
    {
     "name": "stdout",
     "output_type": "stream",
     "text": [
      "Множества:\n",
      "{1, 3, 'блинчик'}\n",
      "{5, 'круассан'}\n",
      "{8, 6, 7}\n",
      "\n",
      "Объединение:\n",
      "{1, 3, 7, 'блинчик', 5, 6, 8, 'круассан'}\n"
     ]
    }
   ],
   "source": [
    "def set_union_args(*args):\n",
    "    result = set()\n",
    "    for x in args:\n",
    "        result = result.union(x)\n",
    "    return result\n",
    "\n",
    "\n",
    "set1 = {1,'блинчик',3}\n",
    "set2 = {5,'круассан'}\n",
    "set3 = {6,7,8}\n",
    "\n",
    "\n",
    "res_union = set_union_args(set1, set2, set3)\n",
    "\n",
    "print('Множества:', set1, set2, set3, '\\nОбъединение:', res_union, sep = '\\n')"
   ]
  },
  {
   "cell_type": "markdown",
   "id": "b5060f5e-5dce-4cef-8f97-c0d2dcee5d83",
   "metadata": {},
   "source": [
    "4. Создайте функцию для удаления конкретного элемента из множества.\n"
   ]
  },
  {
   "cell_type": "code",
   "execution_count": 8,
   "id": "9da1ec6a-24fd-49bc-829e-dc4ad63398fc",
   "metadata": {},
   "outputs": [
    {
     "name": "stdin",
     "output_type": "stream",
     "text": [
      "Введите элементы множества (через пробел) для param2:  сосиска колбаска яблоко сарделька\n",
      "Введите элемент для удаления из множества:  яблоко\n"
     ]
    },
    {
     "name": "stdout",
     "output_type": "stream",
     "text": [
      "Элемент \"яблоко\" удалён из множества {'сосиска', 'сарделька', 'яблоко', 'колбаска'}\n",
      "{'сосиска', 'сарделька', 'колбаска'}\n",
      "Результат:\n",
      " {'сосиска', 'сарделька', 'колбаска'}\n"
     ]
    }
   ],
   "source": [
    "def del_spec_element_of_set(param_elem, param_set):\n",
    "    if param_elem in param_set:\n",
    "        print(f'Элемент \"{param_elem}\" удалён из множества {param_set}')\n",
    "        param_set.remove(param_elem)\n",
    "    else:\n",
    "        print(f'Элемент \"{param_elem}\" отсутствует в множестве {param_set}')\n",
    "    return param_set\n",
    "\n",
    "set_new = set(input('Введите элементы множества (через пробел) для param2: ').split())\n",
    "element = input('Введите элемент для удаления из множества: ')\n",
    "\n",
    "res = del_spec_element_of_set(element, set_new)\n",
    "\n",
    "print(res, f'Результат:\\n {set_new}', sep = '\\n')\n",
    "\n"
   ]
  },
  {
   "cell_type": "markdown",
   "id": "c5107c2e-93ce-4683-bf80-150b07b38384",
   "metadata": {},
   "source": [
    "5. Создайте функцию для поиска пересечения нескольких множеств.\n"
   ]
  },
  {
   "cell_type": "code",
   "execution_count": 9,
   "id": "bd99a8a6-b0c0-4e2d-b804-289eb3205be0",
   "metadata": {},
   "outputs": [
    {
     "name": "stdout",
     "output_type": "stream",
     "text": [
      "Множества:\n",
      "{'чемодан', 333, 'сумка'}\n",
      "{'кетчуп', 57, 333, 'песня'}\n",
      "{17, 18, 333, 'песня'}\n",
      "\n",
      "Пересечения:\n",
      "{333}\n"
     ]
    }
   ],
   "source": [
    "def set_intersection(*args):\n",
    "    result = args[0]\n",
    "    for x in args:\n",
    "        result = result.intersection(x)\n",
    "    return result\n",
    "\n",
    "set1 = {'чемодан', 'сумка', 333}\n",
    "set2 = {57, 'кетчуп', 'песня', 333}\n",
    "set3 = {'песня', 17, 18, 333}\n",
    "\n",
    "\n",
    "res_intersection = set_intersection(set1, set2, set3)\n",
    "\n",
    "print('Множества:', set1, set2, set3, '\\nПересечения:', res_intersection, sep = '\\n')\n"
   ]
  },
  {
   "cell_type": "markdown",
   "id": "1574ecbc-cc0f-48ca-8769-3986d78ca5ef",
   "metadata": {},
   "source": [
    "6. Создайте функцию для проверки на равенство двух множеств.\n"
   ]
  },
  {
   "cell_type": "code",
   "execution_count": 10,
   "id": "b2eacdd0-a8bd-41b1-a82e-599a2c4078fc",
   "metadata": {},
   "outputs": [
    {
     "name": "stdin",
     "output_type": "stream",
     "text": [
      "Введите элементы множества (через пробел) для param2:  1 2 3\n",
      "Введите элементы множества (через пробел) для param2:  2 3 1\n"
     ]
    },
    {
     "name": "stdout",
     "output_type": "stream",
     "text": [
      "Множество \"{'3', '1', '2'}\" не равно множеству {'3', '1', '2'}\n"
     ]
    }
   ],
   "source": [
    "def equal_set(param_set1, param_set2):\n",
    "    if len(param_set1) == len(param_set2) and param_set1.union(param_set2) == True:\n",
    "        print(f'Множество \"{param_set1}\" равно множеству {param_set2}')\n",
    "    else:\n",
    "        print(f'Множество \"{param_set1}\" не равно множеству {param_set2}')\n",
    "    return\n",
    "\n",
    "param_set1_inp = set(input('Введите элементы множества (через пробел) для param2: ').split())\n",
    "param_set2_inp = set(input('Введите элементы множества (через пробел) для param2: ').split())\n",
    "\n",
    "\n",
    "res = equal_set(param_set1_inp, param_set2_inp)\n",
    "\n",
    "res\n",
    "#print(res, f'Результат:\\n {set_new}', sep = '\\n')\n"
   ]
  },
  {
   "cell_type": "markdown",
   "id": "f3a5f1f2-6905-43cf-abd0-9f96586770d7",
   "metadata": {},
   "source": [
    "7. Создайте функцию для нахождения объединения трех множеств.\n"
   ]
  },
  {
   "cell_type": "code",
   "execution_count": 11,
   "id": "dce6891e-bba6-4310-82bc-d6031e5742f9",
   "metadata": {},
   "outputs": [
    {
     "name": "stdout",
     "output_type": "stream",
     "text": [
      "Множества:\n",
      "{'чемодан', 333, 'сумка'}\n",
      "{'кетчуп', 57, 333, 'песня'}\n",
      "{17, 18, 333, 'песня'}\n",
      "\n",
      "Объединение 3-ёх множеств:\n",
      "{'сумка', 'чемодан', 333, 17, 18, 'песня', 'кетчуп', 57}\n"
     ]
    }
   ],
   "source": [
    "def intersection_of_3_sets (param_set1, param_set2, param_set3):\n",
    "    return param_set1 | param_set2 | param_set3\n",
    "\n",
    "param_set1 = {'чемодан', 'сумка', 333}\n",
    "param_set2 = {57, 'кетчуп', 'песня', 333}\n",
    "param_set3 = {'песня', 17, 18, 333}\n",
    "\n",
    "\n",
    "res_intersection = intersection_of_3_sets(param_set1, param_set2, param_set3)\n",
    "\n",
    "print('Множества:', param_set1, param_set2, param_set3\n",
    "      , '\\nОбъединение 3-ёх множеств:', res_intersection, sep = '\\n')"
   ]
  },
  {
   "cell_type": "markdown",
   "id": "5ffb8044-0ec8-408a-b2e9-9c42e3d3c79d",
   "metadata": {},
   "source": [
    "8. Создайте функцию для проверки, являются ли два множества дизъюнктными (не имеют общих элементов).\n"
   ]
  },
  {
   "cell_type": "code",
   "execution_count": 12,
   "id": "4ecc877c-ee47-4b9d-b424-bd86e2ee2ff0",
   "metadata": {},
   "outputs": [
    {
     "name": "stdout",
     "output_type": "stream",
     "text": [
      "Множества:\n",
      "{'чемодан', 'сумка'}\n",
      "{'кетчуп', 57, 333, 'песня'}\n",
      "являются дизъюнктивными\n"
     ]
    }
   ],
   "source": [
    "def is_set_no_intersections(param_set1, param_set2):\n",
    "    result_str = ''\n",
    "    result = param_set1.intersection(param_set2)\n",
    "    if result == set():\n",
    "        result_str = 'являются дизъюнктивными'\n",
    "    else:\n",
    "        result_str = 'не являются дизъюнктивными'\n",
    "        \n",
    "    return result_str\n",
    "\n",
    "param_set1 = {'чемодан', 'сумка'}\n",
    "param_set2 = {57, 'кетчуп', 'песня', 333}\n",
    "\n",
    "res_no_intersections = is_set_no_intersections(param_set1, param_set2)\n",
    "\n",
    "print('Множества:', param_set1, param_set2, res_no_intersections, sep = '\\n')"
   ]
  },
  {
   "cell_type": "markdown",
   "id": "43a849db-49c8-4c6b-a015-fba7c097d05d",
   "metadata": {},
   "source": [
    "9. Создайте функцию для нахождения разности двух множеств.\n"
   ]
  },
  {
   "cell_type": "code",
   "execution_count": 14,
   "id": "e3ebff96-4e42-42c0-b56c-e35c1ee0fbda",
   "metadata": {},
   "outputs": [
    {
     "name": "stdout",
     "output_type": "stream",
     "text": [
      "Разность множеств:\n",
      "{'кетчуп', 57, 333, 'песня'}\n",
      "{17, 18, 333, 'песня'}\n",
      "Ответ:\n",
      "{'кетчуп', 57}\n"
     ]
    }
   ],
   "source": [
    "def difference_of_2_sets(param_set1, param_set2):\n",
    "    return param_set1 - param_set2\n",
    "\n",
    "param_set1 = {57, 'кетчуп', 'песня', 333}\n",
    "param_set2 = {'песня', 17, 18, 333}\n",
    "\n",
    "res_difference = difference_of_2_sets(param_set1, param_set2)\n",
    "\n",
    "print('Разность множеств:', param_set1, param_set2, 'Ответ:', res_difference, sep = '\\n')"
   ]
  },
  {
   "cell_type": "markdown",
   "id": "a3344764-fe59-4820-a488-87b0c86c7b69",
   "metadata": {},
   "source": [
    "10. Создайте функцию для определения симметрической разности двух множеств.\n"
   ]
  },
  {
   "cell_type": "code",
   "execution_count": 15,
   "id": "f736350b-a8d6-4e84-8d1b-e366ebe3b72c",
   "metadata": {},
   "outputs": [
    {
     "name": "stdout",
     "output_type": "stream",
     "text": [
      "Симметрическая разность множеств:\n",
      "{'кетчуп', 57, 333, 'песня'}\n",
      "{17, 18, 333, 'песня'}\n",
      "Ответ:\n",
      "{'кетчуп', 57, 18, 17}\n"
     ]
    }
   ],
   "source": [
    "def symmetric_difference_of_2_sets(param_set1, param_set2):\n",
    "    result1 = param_set1 - param_set2\n",
    "    result2 = param_set2 - param_set1\n",
    "\n",
    "    return result1 | result2\n",
    "\n",
    "param_set1 = {57, 'кетчуп', 'песня', 333}\n",
    "param_set2 = {'песня', 17, 18, 333}\n",
    "\n",
    "res_symm_difference = symmetric_difference_of_2_sets(param_set1, param_set2)\n",
    "\n",
    "print('Симметрическая разность множеств:', param_set1, param_set2, 'Ответ:', res_symm_difference, sep = '\\n')\n",
    "    "
   ]
  },
  {
   "cell_type": "markdown",
   "id": "52e92a87-2a7b-4634-a258-f28848c3de46",
   "metadata": {},
   "source": [
    "11. Создайте функцию **create_set** для создания множества с заданными элементами.\n",
    "   - Функция должна принимать переменное количество аргументов и возвращать новое множество."
   ]
  },
  {
   "cell_type": "code",
   "execution_count": 18,
   "id": "d27ec175-7226-467b-a278-b2b667e60a42",
   "metadata": {},
   "outputs": [
    {
     "name": "stdout",
     "output_type": "stream",
     "text": [
      "Создание множества из аргументов:\n",
      "1\n",
      "блинчик\n",
      "5\n",
      "True\n",
      "\n",
      "Новое множество:\n",
      "{1, 5, 'блинчик'}\n"
     ]
    }
   ],
   "source": [
    "def create_set(*args):\n",
    "    result = []\n",
    "    for x in args:\n",
    "        result.append(x)\n",
    "    return set(result)\n",
    "\n",
    "\n",
    "arg1 = 1\n",
    "arg2 = 'блинчик'\n",
    "arg3 = 5\n",
    "arg5 = True\n",
    "\n",
    "res_create_set = create_set(arg1, arg2, arg3, arg5)   \n",
    "\n",
    "print('Создание множества из аргументов:', arg1, arg2, arg3, arg5\n",
    "      , '\\nНовое множество:', res_create_set, sep = '\\n')"
   ]
  },
  {
   "cell_type": "markdown",
   "id": "d2f1bbce-9bcf-4746-98f3-c844458fb444",
   "metadata": {},
   "source": [
    "## Словари"
   ]
  },
  {
   "cell_type": "markdown",
   "id": "afd4ab39-39e7-4e4e-b8c7-481676305aa5",
   "metadata": {},
   "source": [
    "1. Создайте функцию **create_dictionary** для создания словаря с заданными ключами и значениями.\n",
    "   - Функция должна принимать словарь в формате ключ-значение и возвращать созданный словарь."
   ]
  },
  {
   "cell_type": "code",
   "execution_count": 19,
   "id": "5cea8acd-c749-40b8-b983-2dfd35e116c2",
   "metadata": {},
   "outputs": [
    {
     "name": "stdout",
     "output_type": "stream",
     "text": [
      "Создание словаря с заданными ключами dict_key = ('name', 'age', 'city') и значениями dict_value = ('Indira', 35, 'Moscow')\n",
      "\n",
      "Созданный словарь:\n",
      "{'name': 'Indira', 'age': 35, 'city': 'Moscow'}\n"
     ]
    }
   ],
   "source": [
    "def create_dictionary(dict_key, dict_value):\n",
    "    result = dict()\n",
    "    for x in range(len(dict_key)):\n",
    "        result[dict_key[x]] = dict_value[x]\n",
    "        \n",
    "    return result\n",
    "\n",
    "dict_key = ('name', 'age', 'city')\n",
    "dict_value = ('Indira', 35, 'Moscow')\n",
    "\n",
    "res_create_dict = create_dictionary(dict_key, dict_value)\n",
    "\n",
    "print(f'Создание словаря с заданными ключами dict_key = {dict_key} и значениями dict_value = {dict_value}'\n",
    "      , '\\nСозданный словарь:', res_create_dict, sep = '\\n')"
   ]
  },
  {
   "cell_type": "markdown",
   "id": "d1650ef0-449b-4793-960b-2dd5307bfa6a",
   "metadata": {},
   "source": [
    "2. Напишите функции add_student и remove_student для добавления и удаления студентов из словаря.\n",
    "   - Функции должны принимать словарь студентов и соответствующие данные для добавления и удаления."
   ]
  },
  {
   "cell_type": "code",
   "execution_count": 20,
   "id": "fa56fb0a-f396-47fe-8d18-3406cb02d1be",
   "metadata": {},
   "outputs": [
    {
     "name": "stdout",
     "output_type": "stream",
     "text": [
      "В словарь студентов dict_students = {'Petrov': 'Tambov'} добавляем\n",
      "    ключи dict_key = ('Sidorov', 'Salieva', 'Zhdun')\n",
      "    и значения dict_value = ('Leningrad', 'Moscow', 'Krasnodar') .\n",
      "Новый словарь студентов\n",
      "{'Petrov': 'Tambov', 'Sidorov': 'Leningrad', 'Salieva': 'Moscow', 'Zhdun': 'Krasnodar'}\n"
     ]
    }
   ],
   "source": [
    "def add_student(dict_students, dict_key, dict_value):\n",
    "    for x in range(len(dict_key)):\n",
    "        dict_students[dict_key[x]] = dict_value[x]\n",
    "    return dict_students\n",
    "\n",
    "dict_students = {'Petrov':'Tambov'}\n",
    "dict_students_before_add = dict_students.copy()\n",
    "dict_key = ('Sidorov', 'Salieva', 'Zhdun')\n",
    "dict_value = ('Leningrad', 'Moscow', 'Krasnodar')\n",
    "\n",
    "res_new_dict_students = add_student(dict_students, dict_key, dict_value)\n",
    "\n",
    "print(f'''В словарь студентов dict_students = {dict_students_before_add} добавляем\n",
    "    ключи dict_key = {dict_key}\n",
    "    и значения dict_value = {dict_value} .'''\n",
    "    ,f'Новый словарь студентов', res_new_dict_students\n",
    "    ,sep = '\\n')"
   ]
  },
  {
   "cell_type": "code",
   "execution_count": 21,
   "id": "d72fcaea-57d3-45c3-aa6b-1f4cee2c9e48",
   "metadata": {},
   "outputs": [
    {
     "name": "stdout",
     "output_type": "stream",
     "text": [
      "Из словаря студентов dict_students = {'Petrov': 'Tambov', 'Sidorov': 'Leningrad', 'Salieva': 'Moscow', 'Zhdun': 'Krasnodar'} \n",
      "    удаляем студента по ключу dict_key = ['Salieva'] .\n",
      "Новый словарь студентов\n",
      "{'Petrov': 'Tambov', 'Sidorov': 'Leningrad', 'Zhdun': 'Krasnodar'}\n"
     ]
    }
   ],
   "source": [
    "def remove_student(dict_students, dict_key):\n",
    "    for x in range(len(dict_key)):\n",
    "        dict_students.pop(dict_key[x], None)\n",
    "    return dict_students\n",
    "\n",
    "dict_key = ('Salieva',)\n",
    "dict_students_before_remove = dict_students.copy()\n",
    "\n",
    "res_new_dict_students = remove_student(dict_students, dict_key)\n",
    "\n",
    "print(f'''Из словаря студентов dict_students = {dict_students_before_remove} \n",
    "    удаляем студента по ключу dict_key = {list(dict_key)} .'''\n",
    "    ,f'Новый словарь студентов', res_new_dict_students\n",
    "    ,sep = '\\n')"
   ]
  },
  {
   "cell_type": "markdown",
   "id": "61696b5a-096d-4557-a0b0-0f72b0f9a869",
   "metadata": {},
   "source": [
    "3. Напишите функции **add_fruit** и **remove_fruit** для добавления и удаления фруктов, их количества и стоимости в списки fruits_quantity и fruits_prices.\n",
    "   - Функции должны принимать словари и соответствующие данные для добавления и удаления."
   ]
  },
  {
   "cell_type": "code",
   "execution_count": 22,
   "id": "7e599200-57fa-47d1-a30a-b671bb5b658f",
   "metadata": {},
   "outputs": [
    {
     "name": "stdout",
     "output_type": "stream",
     "text": [
      "В словари fruits_quantity и fruits_prices добавляем новые фрукты ('Pineapple', 'Mango', 'Watermelon'),\n",
      "    их количество (12, 5, 7)\n",
      "    и их стоимость (250, 320, 180) .\n",
      "Новые словари fruits_quantity и fruits_prices\n",
      "{'Apple': 7, 'Banana': 3, 'Orange': 15, 'Pineapple': 12, 'Mango': 5, 'Watermelon': 7}\n",
      "{'Apple': 50, 'Banana': 100, 'Orange': 80, 'Pineapple': 250, 'Mango': 320, 'Watermelon': 180}\n"
     ]
    }
   ],
   "source": [
    "def add_fruit(dict_fruits, dict_key, dict_value):\n",
    "    for x in range(len(dict_key)):\n",
    "        dict_fruits[dict_key[x]] = dict_value[x]\n",
    "    return dict_fruits\n",
    "\n",
    "fruits_quantity = {'Apple':7\n",
    "                  ,'Banana':3\n",
    "                  ,'Orange':15\n",
    "                  }\n",
    "fruits_prices = {'Apple':50\n",
    "                  ,'Banana':100\n",
    "                  ,'Orange':80\n",
    "                  }\n",
    "\n",
    "dict_key = ('Pineapple', 'Mango', 'Watermelon')\n",
    "dict_quantity_value = (12, 5, 7)\n",
    "dict_prices_value = (250, 320, 180)\n",
    "\n",
    "res_dict_quantity = add_fruit(fruits_quantity, dict_key, dict_quantity_value)\n",
    "res_dict_prices = add_fruit(fruits_prices, dict_key, dict_prices_value)\n",
    "\n",
    "print(f'''В словари fruits_quantity и fruits_prices добавляем новые фрукты {dict_key},\n",
    "    их количество {dict_quantity_value}\n",
    "    и их стоимость {dict_prices_value} .'''\n",
    "    , 'Новые словари fruits_quantity и fruits_prices'\n",
    "    , res_dict_quantity, res_dict_prices\n",
    "    ,sep = '\\n')"
   ]
  },
  {
   "cell_type": "code",
   "execution_count": 23,
   "id": "53a94d40-a080-42da-8d49-6adde2472f0d",
   "metadata": {},
   "outputs": [
    {
     "name": "stdout",
     "output_type": "stream",
     "text": [
      "Из словарей fruits_quantity и fruits_prices удаляем фрукты ('Banana', 'Mango')\n",
      "Новые словари fruits_quantity и fruits_prices\n",
      "{'Apple': 7, 'Orange': 15, 'Pineapple': 12, 'Watermelon': 7}\n",
      "{'Apple': 50, 'Orange': 80, 'Pineapple': 250, 'Watermelon': 180}\n"
     ]
    }
   ],
   "source": [
    "def remove_fruit(dict_fruits, dict_key):\n",
    "    for x in range(len(dict_key)):\n",
    "        dict_fruits.pop(dict_key[x], None)\n",
    "    return dict_fruits\n",
    "\n",
    "\n",
    "dict_key = ('Banana', 'Mango')\n",
    "\n",
    "res_dict_quantity_new = remove_fruit(fruits_quantity, dict_key)\n",
    "res_dict_prices_new = remove_fruit(fruits_prices, dict_key)\n",
    "\n",
    "print(f'Из словарей fruits_quantity и fruits_prices удаляем фрукты {dict_key}'\n",
    "    ,'Новые словари fruits_quantity и fruits_prices'\n",
    "    , res_dict_quantity_new, res_dict_prices_new\n",
    "    , sep = '\\n')"
   ]
  },
  {
   "cell_type": "markdown",
   "id": "6b57614f-432e-428e-90aa-72fe4384ed88",
   "metadata": {},
   "source": [
    "    \n",
    "4. Создайте функцию для объединения двух словарей."
   ]
  },
  {
   "cell_type": "code",
   "execution_count": 24,
   "id": "a63a6d3d-55eb-4948-943a-4c61758ec41e",
   "metadata": {},
   "outputs": [
    {
     "name": "stdout",
     "output_type": "stream",
     "text": [
      "Объединение словарей:\n",
      "    dict_1 = {'Fedor': 35, 'Anna': 28, 'Olga': 19} \n",
      "    и dict_2 = {'Nikita': '79261112233', 'Leonid': '79035648113'}\n",
      "Новый словарь:\n",
      "{'Fedor': 35, 'Anna': 28, 'Olga': 19, 'Nikita': '79261112233', 'Leonid': '79035648113'}\n"
     ]
    }
   ],
   "source": [
    "def dict_union(dict_1, dict_2):\n",
    "    return dict_1 | dict_2\n",
    "\n",
    "dict_1 ={\n",
    "    'Fedor': 35\n",
    "    ,'Anna': 28\n",
    "    ,'Olga': 19\n",
    "}\n",
    "dict_2 ={\n",
    "    'Nikita': '79261112233'\n",
    "    ,'Leonid': '79035648113'\n",
    "}\n",
    "\n",
    "res_dict_union = dict_union(dict_1, dict_2)\n",
    "\n",
    "print(f'''Объединение словарей:\n",
    "    dict_1 = {dict_1} \n",
    "    и dict_2 = {dict_2}'''\n",
    "    ,'Новый словарь:'\n",
    "    , res_dict_union\n",
    "    , sep = '\\n')"
   ]
  },
  {
   "cell_type": "markdown",
   "id": "d47c1db5-b79b-43c6-aab4-2c1a227a7b06",
   "metadata": {},
   "source": [
    "5. Создайте функцию для удаления элемента из словаря по заданному ключу."
   ]
  },
  {
   "cell_type": "code",
   "execution_count": 25,
   "id": "580948a9-d772-461a-88c9-20893b44481d",
   "metadata": {},
   "outputs": [
    {
     "name": "stdout",
     "output_type": "stream",
     "text": [
      "Из словаря dict_my = {'Petrov': 26, 'Ivanov': 37, 'Zhdun': 21, 'Stepanov': 19} \n",
      "    удаляем элементы ('Stepanov', 'Petrov')\n",
      "Новый словарь:\n",
      "{'Ivanov': 37, 'Zhdun': 21}\n"
     ]
    }
   ],
   "source": [
    "def remove_elem_dict_by_key(param_dict, param_key):\n",
    "    for x in range(len(param_key)):\n",
    "        param_dict.pop(param_key[x], None)\n",
    "    return param_dict\n",
    "\n",
    "dict_my = {\n",
    "    'Petrov': 26\n",
    "    ,'Ivanov': 37\n",
    "    ,'Zhdun': 21  \n",
    "    ,'Stepanov': 19  \n",
    "}\n",
    "\n",
    "dict_my_before_remove = dict_my.copy()\n",
    "key_4_remove = ('Stepanov', 'Petrov')\n",
    "\n",
    "res_remove_elem = remove_elem_dict_by_key(dict_my, key_4_remove)\n",
    "\n",
    "print(f'''Из словаря dict_my = {dict_my_before_remove} \n",
    "    удаляем элементы {key_4_remove}'''\n",
    "    ,'Новый словарь:'\n",
    "    , res_remove_elem\n",
    "    , sep = '\\n')"
   ]
  },
  {
   "cell_type": "markdown",
   "id": "f609f228-21af-42cb-9714-2c723f37f5eb",
   "metadata": {},
   "source": [
    "6. Создайте функцию для переворачивания значений и ключей в словаре (принимает на вход словарь, возвращает другой словарь, ключами которого являются значения входного словаря, а значениями - ключи."
   ]
  },
  {
   "cell_type": "code",
   "execution_count": 26,
   "id": "fd90196c-2438-4eeb-8beb-cad200064044",
   "metadata": {},
   "outputs": [
    {
     "name": "stdout",
     "output_type": "stream",
     "text": [
      "В словаре меняем ключи и значения местам. \n",
      "Новый словарь:\n",
      "{26: 'Petrov', 37: 'Ivanov', 21: 'Zhdun', 19: 'Stepanov'}\n"
     ]
    }
   ],
   "source": [
    "def reverse_dict(dict_param):\n",
    "    result = {}\n",
    "    for k,v in dict_my.items():\n",
    "        result[v] = k\n",
    "    return result\n",
    "\n",
    "dict_my = {\n",
    "    'Petrov': 26\n",
    "    ,'Ivanov': 37\n",
    "    ,'Zhdun': 21  \n",
    "    ,'Stepanov': 19  \n",
    "}\n",
    "\n",
    "dict_reversed = reverse_dict(dict_my)\n",
    "\n",
    "print('В словаре меняем ключи и значения местам. \\nНовый словарь:'\n",
    "     , dict_reversed\n",
    "     , sep = '\\n'\n",
    "     )\n"
   ]
  },
  {
   "cell_type": "markdown",
   "id": "a1eda518-9d0c-4a7f-bb33-cb02ff3d36d4",
   "metadata": {},
   "source": [
    "7. Создайте функцию для сортировки словаря по ключам в обратном порядке."
   ]
  },
  {
   "cell_type": "code",
   "execution_count": 27,
   "id": "9153fdb6-f3e0-4789-9d19-99b97c592f0d",
   "metadata": {},
   "outputs": [
    {
     "name": "stdout",
     "output_type": "stream",
     "text": [
      "Заданый словарь сортируем по ключам в обратном порядке. \n",
      "Новый словарь:\n",
      "{4: 'Stepanov', 3: 'Zhdun', 2: 'Ivanov', 1: 'Petrov'}\n"
     ]
    }
   ],
   "source": [
    "def sorted_by_keys(dict_param):\n",
    "    result = dict(sorted(dict_param.items(), reverse = True))\n",
    "    return result\n",
    "\n",
    "dict_my = {\n",
    "    1:'Petrov'\n",
    "    ,2:'Ivanov'\n",
    "    ,3:'Zhdun' \n",
    "    ,4:'Stepanov' \n",
    "}\n",
    "\n",
    "dict_sorted_by_key = sorted_by_keys(dict_my)\n",
    "\n",
    "print('Заданый словарь сортируем по ключам в обратном порядке. \\nНовый словарь:'\n",
    "     , dict_sorted_by_key\n",
    "     , sep = '\\n'\n",
    "     )"
   ]
  },
  {
   "cell_type": "markdown",
   "id": "1f94e9ec-e6c8-4814-90bf-ddc3229aaa8b",
   "metadata": {},
   "source": [
    "8.  Создайте функцию возвращающую наибольшее значение элемента словаря."
   ]
  },
  {
   "cell_type": "code",
   "execution_count": 28,
   "id": "3684d4e9-498e-413b-96a4-c93dd6218c6a",
   "metadata": {},
   "outputs": [
    {
     "name": "stdout",
     "output_type": "stream",
     "text": [
      "Выводим наибольший элемент (среди ключей и значений) словаря в заданном словаре. \n",
      "Элемент словаря:\n",
      "Zhdun\n"
     ]
    }
   ],
   "source": [
    "def find_max_element_of_dict(dict_param):\n",
    "    dict_list = []\n",
    "    for k,v in dict_param.items():\n",
    "        dict_list.append(str(k))\n",
    "        dict_list.append(str(v))\n",
    "    return max(dict_list)\n",
    "\n",
    "res_max_element = find_max_element_of_dict(dict_my)\n",
    "\n",
    "print('Выводим наибольший элемент (среди ключей и значений) словаря в заданном словаре. \\nЭлемент словаря:'\n",
    "     , res_max_element\n",
    "     , sep = '\\n'\n",
    "     )\n",
    "        "
   ]
  },
  {
   "cell_type": "markdown",
   "id": "ffc2af8c-1c88-42a6-9973-67176b30b8a9",
   "metadata": {},
   "source": [
    "9. Создайте функцию для поиска наибольшего значения в словаре."
   ]
  },
  {
   "cell_type": "code",
   "execution_count": 29,
   "id": "08f03bb7-63de-439c-a043-9b056992cae2",
   "metadata": {},
   "outputs": [
    {
     "name": "stdout",
     "output_type": "stream",
     "text": [
      "Выводим наибольшее значение словаря в заданном словаре. \n",
      "Элемент словаря:\n",
      "Zhdun\n"
     ]
    }
   ],
   "source": [
    "def find_max_value_in_dict(dict_param):\n",
    "    dict_list = []\n",
    "    for v in dict_param.values():\n",
    "        dict_list.append(str(v))\n",
    "    return max(dict_list)\n",
    "\n",
    "\n",
    "res_max_value = find_max_value_in_dict(dict_my)\n",
    "\n",
    "print('Выводим наибольшее значение словаря в заданном словаре. \\nЭлемент словаря:'\n",
    "     , res_max_value\n",
    "     , sep = '\\n'\n",
    "     )"
   ]
  },
  {
   "cell_type": "markdown",
   "id": "0b854077-79e9-4213-8bf9-91796b237695",
   "metadata": {},
   "source": [
    "## Условия и циклы"
   ]
  },
  {
   "cell_type": "markdown",
   "id": "119cf9f7-e390-4f4a-9d9d-2d345a7e4030",
   "metadata": {},
   "source": [
    "1. Создайте функцию **check_fruit_price** для проверки стоимости фрукта и вывода соответствующего сообщения.\n",
    "   - Функция должна принимать словарь цен на фрукты и название фрукта, а затем выводить сообщение \"дорогой товар\", если цена фрукта больше 1.5."
   ]
  },
  {
   "cell_type": "code",
   "execution_count": 30,
   "id": "c1c09497-f536-4dbd-8331-5298da095ab3",
   "metadata": {},
   "outputs": [
    {
     "name": "stdout",
     "output_type": "stream",
     "text": [
      "Фрукт mango — дорогой товар\n"
     ]
    }
   ],
   "source": [
    "def check_fruit_price(dict_param, dict_key):\n",
    "    if dict_key in dict_param:\n",
    "        if dict_param[dict_key] > 1.5:\n",
    "            return f'Фрукт {dict_key} — дорогой товар'\n",
    "    else:\n",
    "        return f'Фрукт {dict_key} отсутствует в словаре'\n",
    "           \n",
    "\n",
    "\n",
    "fruits_prices = {'apple': 1.5\n",
    "                  ,'banana':1.7\n",
    "                  ,'orange':1.3\n",
    "                  ,'mango':1.9\n",
    "                  ,'pineapple':1.2\n",
    "                  }    \n",
    "\n",
    "res_check_fruit = check_fruit_price(fruits_prices, 'mango')\n",
    "\n",
    "print(res_check_fruit)\n"
   ]
  },
  {
   "cell_type": "markdown",
   "id": "25a662b1-4bb9-4fbe-9dba-7f1794af8208",
   "metadata": {},
   "source": [
    "2. Создайте функцию check_age для проверки возраста студента и вывода соответствующего сообщения.\n",
    "   - Функция должна принимать словарь студентов и имя студента, а затем выводить сообщение о совершеннолетии или несовершеннолетии."
   ]
  },
  {
   "cell_type": "code",
   "execution_count": 31,
   "id": "0b33880a-73da-4af8-954f-67dc1f84e655",
   "metadata": {},
   "outputs": [
    {
     "name": "stdout",
     "output_type": "stream",
     "text": [
      "Студент \"Zhdun\" — совершеннолетний!\n"
     ]
    }
   ],
   "source": [
    "def check_age(dict_param, dict_key):\n",
    "    if dict_key in dict_param:\n",
    "        if dict_param[dict_key] >= 18:\n",
    "            return f'Студент \"{dict_key}\" — совершеннолетний!'\n",
    "        else:\n",
    "            return f'Студент \"{dict_key}\" — не совершеннолетний!'\n",
    "    else:\n",
    "        return f'Студент \"{dict_key}\" отсутствует в словаре!'\n",
    "           \n",
    "\n",
    "\n",
    "dict_students = {'Petrov': 18\n",
    "                  ,'Ivanov':17\n",
    "                  ,'Sidoroc':16\n",
    "                  ,'Zhdun':19\n",
    "                  ,'Egorov':21\n",
    "                  }    \n",
    "\n",
    "res_check_age = check_age(dict_students, 'Zhdun')\n",
    "\n",
    "print(res_check_age)"
   ]
  },
  {
   "cell_type": "markdown",
   "id": "eaa6f99e-8786-4b77-8a3d-e9d1e2aaca24",
   "metadata": {},
   "source": [
    "3. Создайте функцию **compare_sets_length**, которая сравнивает длину двух множеств и выводит информацию о  том, какое из множеств длиннее.\n",
    "   - Функция должна принимать два множества и выводить соответствующее сообщение."
   ]
  },
  {
   "cell_type": "code",
   "execution_count": 32,
   "id": "411e1b8a-82e0-4b02-9067-cf64a2682479",
   "metadata": {},
   "outputs": [
    {
     "name": "stdout",
     "output_type": "stream",
     "text": [
      "Длина множества ('Petrov', 'Ivanov', 'Sidorov') меньше длины множества (1, 2, 3, 4)\n"
     ]
    }
   ],
   "source": [
    "def compare_sets_length(set_1, set_2):\n",
    "    if len(set_1) > len(set_2):\n",
    "        return f'Длина множества {set_1} больше длины множества {set_2}'\n",
    "    elif len(set_1) < len(set_2):\n",
    "        return f'Длина множества {set_1} меньше длины множества {set_2}'\n",
    "    else:\n",
    "        return f'Длина множества {set_1} равна длине множества {set_2}'\n",
    "\n",
    "set_1 = ('Petrov', 'Ivanov', 'Sidorov')\n",
    "set_2 = (1, 2, 3, 4)\n",
    "\n",
    "res_compare_sets = compare_sets_length(set_1, set_2)\n",
    "\n",
    "print(res_compare_sets)"
   ]
  },
  {
   "cell_type": "markdown",
   "id": "672eadf2-c873-4a63-81e9-350d6f551658",
   "metadata": {},
   "source": [
    "4. Создайте функцию для определения четности или нечетности числа."
   ]
  },
  {
   "cell_type": "code",
   "execution_count": 33,
   "id": "d256fe8f-4321-4695-ba84-a502e78c5fba",
   "metadata": {},
   "outputs": [
    {
     "name": "stdout",
     "output_type": "stream",
     "text": [
      "Hello — не является числом в формате int\n",
      "Число 255 — является нечётным\n",
      "255.5 — не является числом в формате int\n",
      "Число 36 — является чётным\n"
     ]
    }
   ],
   "source": [
    "def is_parity_number(num_param):\n",
    "    if isinstance(num_param, (int)) == True:\n",
    "        if num_param % 2 == 0:\n",
    "            return f'Число {num_param} — является чётным'\n",
    "        else:\n",
    "            return f'Число {num_param} — является нечётным'\n",
    "    else:\n",
    "        return f'{num_param} — не является числом в формате int'\n",
    "\n",
    "print(is_parity_number('Hello'))\n",
    "print(is_parity_number(255))\n",
    "print(is_parity_number(255.5))\n",
    "print(is_parity_number(36))\n"
   ]
  },
  {
   "cell_type": "markdown",
   "id": "425e16c4-bc07-4cd4-ab4d-0260a766c86b",
   "metadata": {},
   "source": [
    "5. Создайте функцию для определения високосного года. Функция должна принимать на вход год в виде числа и возвращать строку \"високосный\" или \"обычный\""
   ]
  },
  {
   "cell_type": "code",
   "execution_count": 39,
   "id": "6ad0b0ac-4862-499d-8545-d0076197889a",
   "metadata": {},
   "outputs": [
    {
     "name": "stdout",
     "output_type": "stream",
     "text": [
      "Hello — не является числом в формате int\n",
      "255 год — не является високосным\n",
      "255.5 — не является числом в формате int\n",
      "2020 год — является високосным\n",
      "2100 год — не является високосным\n",
      "2000 год — является високосным\n"
     ]
    }
   ],
   "source": [
    "def is_leap_year(param_year):\n",
    "    if isinstance(param_year, (int)) == True:\n",
    "        if (param_year % 4 == 0  and param_year % 100 != 0) or param_year % 400 == 0:\n",
    "            return f'{param_year} год — является високосным'\n",
    "        else:\n",
    "            return f'{param_year} год — не является високосным'\n",
    "    else:\n",
    "        return f'{param_year} — не является числом в формате int'\n",
    "\n",
    "\n",
    "print(is_leap_year('Hello'))\n",
    "print(is_leap_year(255))\n",
    "print(is_leap_year(255.5))\n",
    "print(is_leap_year(2020))\n",
    "print(is_leap_year(2100))\n",
    "print(is_leap_year(2000))"
   ]
  },
  {
   "cell_type": "markdown",
   "id": "7bb8b1c9-fc2d-4195-bfa6-1c6eee2e4400",
   "metadata": {},
   "source": [
    "6. Создайте функцию для определения типа треугольника по длинам сторон (принимает длины сторон, возвращает \"остроугольный, прямоугольный, тупоугольный или не треугольник\")."
   ]
  },
  {
   "cell_type": "code",
   "execution_count": 66,
   "id": "379ac74a-f8cf-4e8b-a7e0-7edec94eb982",
   "metadata": {},
   "outputs": [
    {
     "name": "stdout",
     "output_type": "stream",
     "text": [
      "Треугольник со сторонами 3, 4, \"Привет\" —  Стороны треугольника не являются числовыми значеними в формате float или int\n",
      "Треугольник со сторонами 3, 4, 5 —  Прямоугольный треугольник\n",
      "Треугольник со сторонами 3, 4, 4.7 —  Остроугольный треугольник\n",
      "Треугольник со сторонами 3, 0, 3 —  Не является треугольником\n",
      "Треугольник со сторонами 3, 4.2, 6 —  Тупоугольный треугольник\n"
     ]
    }
   ],
   "source": [
    "def type_of_triangle(a_param, b_param, c_param):\n",
    "    \n",
    "    if isinstance(a_param, (int, float)) != True or isinstance(b_param, (int, float)) != True or isinstance(c_param, (int, float)) != True:\n",
    "        return 'Стороны треугольника не являются числовыми значеними в формате float или int'\n",
    "    else:\n",
    "        abc_list = sorted([a_param, b_param, c_param])\n",
    "        [min_side, middle_side, max_side] = abc_list[:]\n",
    "        if max_side >= min_side + middle_side:\n",
    "            return 'Не является треугольником'\n",
    "        elif max_side ** 2 == min_side ** 2 + middle_side ** 2:\n",
    "            return 'Прямоугольный треугольник'\n",
    "        elif max_side ** 2 < min_side ** 2 + middle_side ** 2:\n",
    "            return 'Остроугольный треугольник'\n",
    "        else: # max_side ** 2 > min_side ** 2 + middle_side ** 2:\n",
    "            return 'Тупоугольный треугольник'\n",
    "\n",
    "print(f'Треугольник со сторонами 3, 4, \"Привет\" — ', type_of_triangle(3, 4, 'Привет'))        \n",
    "print(f'Треугольник со сторонами 3, 4, 5 — ', type_of_triangle(3, 4, 5))    \n",
    "print(f'Треугольник со сторонами 3, 4, 4.7 — ', type_of_triangle(3, 4, 4.7))     \n",
    "print(f'Треугольник со сторонами 3, 0, 3 — ', type_of_triangle(3, 0, 3))  \n",
    "print(f'Треугольник со сторонами 3, 4.2, 6 — ', type_of_triangle(3, 4.2, 6))\n"
   ]
  },
  {
   "cell_type": "markdown",
   "id": "6ab1b749-bac8-45e0-872e-a290fa76ac1b",
   "metadata": {},
   "source": [
    "7. Создайте функцию для проверки, является ли строка палиндромом."
   ]
  },
  {
   "cell_type": "code",
   "execution_count": 73,
   "id": "ab27f9b7-e0fb-447e-a8b3-caaf180f96ea",
   "metadata": {},
   "outputs": [
    {
     "name": "stdout",
     "output_type": "stream",
     "text": [
      "Строка \"Привет\" — не является палиндромом\n",
      "Строка \"шалаш\" — является палиндромом\n",
      "Строка \"Шалаш\" — не является палиндромом\n",
      "Строка \"\" — является палиндромом\n"
     ]
    }
   ],
   "source": [
    "def is_palindrome(str_param):\n",
    "    if isinstance(str_param, (str)) != True:\n",
    "        return 'Введённое значение не является строкой в формате str'\n",
    "    else:\n",
    "        str_param_reversed = str_param[::-1]\n",
    "        if str_param == str_param_reversed:\n",
    "            return f'Строка {str_param} — является палиндромом'\n",
    "        else:\n",
    "            return f'Строка {str_param} — не является палиндромом'\n",
    "\n",
    "print(is_palindrome('\"Привет\"'))  \n",
    "print(is_palindrome('\"шалаш\"')) \n",
    "print(is_palindrome('\"Шалаш\"')) \n",
    "print(is_palindrome('\"\"')) \n",
    "        "
   ]
  },
  {
   "cell_type": "markdown",
   "id": "046f869c-8e44-4f65-bc01-6d7efa7abf9b",
   "metadata": {},
   "source": [
    "8. Создайте функцию для определения времени суток по введенному времени ( принимает текущее время в формате часы, минуты, возвращает утро, день, вечер, ночь)."
   ]
  },
  {
   "cell_type": "code",
   "execution_count": 89,
   "id": "08399224-c343-40fb-bebd-da4241f80678",
   "metadata": {},
   "outputs": [
    {
     "name": "stdout",
     "output_type": "stream",
     "text": [
      "Время некорректно введено, введите через \":\"\n",
      "Время некорректно введено, введите время в виде строки (str) через \":\"\n",
      "Время некорректно введено, введите через \":\"\n",
      "Время 22:30 — это вечер\n",
      "Время 05:30 — это утро\n",
      "Часы могут принимать значение от 0 до 23, минуты — от 0 до 59\n",
      "Часы могут принимать значение от 0 до 23, минуты — от 0 до 59\n"
     ]
    }
   ],
   "source": [
    "def part_of_day(time_param):\n",
    "\n",
    "    if isinstance(time_param, (str)) != True:\n",
    "        return 'Время некорректно введено, введите время в виде строки (str) через \":\"'\n",
    "    elif ':' not in time_param:\n",
    "        return 'Время некорректно введено, введите через \":\"'\n",
    "    else:\n",
    "        time_param_list = time_param.split(':')\n",
    "        hours = int(time_param_list[0])\n",
    "        minutes = int(time_param_list[1])\n",
    "        if hours >= 24 or minutes >= 61 or hours < 0 or minutes < 0:\n",
    "            return 'Часы могут принимать значение от 0 до 23, минуты — от 0 до 59'\n",
    "        else:\n",
    "            if 0 <= hours <= 4:\n",
    "                return f'Время {time_param} — это ночь'\n",
    "            elif hours <= 11:\n",
    "                return f'Время {time_param} — это утро'\n",
    "            elif hours <= 16:\n",
    "                return f'Время {time_param} — это день'\n",
    "            elif 17 <= hours <= 23:\n",
    "                return f'Время {time_param} — это вечер'\n",
    "            else:\n",
    "                return f'Время {time_param} — часы не могут принимать значение больше 23'\n",
    "            \n",
    "print(part_of_day('\"Привет\"'))  \n",
    "print(part_of_day(123)) \n",
    "print(part_of_day('22 30'))  \n",
    "print(part_of_day('22:30'))  \n",
    "print(part_of_day('05:30'))   \n",
    "print(part_of_day('75:30'))  \n",
    "print(part_of_day('75:-30')) \n"
   ]
  },
  {
   "cell_type": "markdown",
   "id": "3fc2ca39-2831-49b0-8f07-0ff468f31719",
   "metadata": {},
   "source": [
    "9. Создайте функцию, которая определяет, является ли введенное число простым."
   ]
  },
  {
   "cell_type": "code",
   "execution_count": 109,
   "id": "83c20a20-9201-4d47-b9f6-8b6055e3cd41",
   "metadata": {},
   "outputs": [
    {
     "name": "stdout",
     "output_type": "stream",
     "text": [
      "Число \"Привет\" — не является целочисленным значением (int)\n",
      "Число \"1\" — должно быть > 1\n",
      "Число \"2\" — является простым\n",
      "Число \"4\" — не является простым\n",
      "Число \"7\" — является простым\n",
      "Число \"9\" — не является простым\n"
     ]
    }
   ],
   "source": [
    "def is_simple_num(num_param):\n",
    "    if isinstance(num_param, (int)) != True:\n",
    "        return f'Число \"{num_param}\" — не является целочисленным значением (int)'\n",
    "    else:\n",
    "        if num_param > 1:\n",
    "            for x in range(2, num_param ):\n",
    "                if num_param % x == 0:\n",
    "                    return f'Число \"{num_param}\" — не является простым'\n",
    "            \n",
    "            return f'Число \"{num_param}\" — является простым'\n",
    "        else:\n",
    "            return f'Число \"{num_param}\" — должно быть > 1'\n",
    "\n",
    "print(is_simple_num(\"Привет\"))\n",
    "print(is_simple_num(1))\n",
    "print(is_simple_num(2))\n",
    "print(is_simple_num(4))\n",
    "print(is_simple_num(7))\n",
    "print(is_simple_num(9))\n",
    "    "
   ]
  },
  {
   "cell_type": "markdown",
   "id": "a38ec9f4-ee92-40fa-8774-85d05d45d093",
   "metadata": {},
   "source": [
    "10. Создайте функцию для проверки входящей строки на наличие только буквенных символов."
   ]
  },
  {
   "cell_type": "code",
   "execution_count": 118,
   "id": "e0e1a614-f1c7-43f3-aaa8-19616b84415a",
   "metadata": {},
   "outputs": [
    {
     "name": "stdout",
     "output_type": "stream",
     "text": [
      "Введённое значение \"Пр!вет\" состоит не только из буквенных символов\n",
      "Введённое значение \"Привет\" состоит только из буквенных символов\n",
      "Введённое значение \"При123вет\" состоит не только из буквенных символов\n"
     ]
    }
   ],
   "source": [
    "def is_alpha_in_str(str_param):\n",
    "    if isinstance(str_param, (str)) != True:\n",
    "        return f'Введённое значение \"{str_param}\" не является строкй в формате (str)'\n",
    "    else:\n",
    "        if str_param.isalpha() == True:\n",
    "            return f'Введённое значение \"{str_param}\" состоит только из буквенных символов'\n",
    "        else: # str_param.isalpha() != True:\n",
    "            return f'Введённое значение \"{str_param}\" состоит не только из буквенных символов'\n",
    "\n",
    "\n",
    "print(is_alpha_in_str('Пр!вет'))\n",
    "print(is_alpha_in_str('Привет'))\n",
    "print(is_alpha_in_str('При123вет'))"
   ]
  },
  {
   "cell_type": "markdown",
   "id": "c0d15d83-cd03-492a-92f7-56cbc4c1c4c0",
   "metadata": {},
   "source": [
    "11. Создайте функцию, которая определяет, является ли введенная дата корректной (дата вводится в виде трех чисел, день, месяц, год. Корректной датой считается существующая комбинация этих трех чисел)."
   ]
  },
  {
   "cell_type": "code",
   "execution_count": 19,
   "id": "52f40113-d902-4e56-8455-96cc9c545351",
   "metadata": {},
   "outputs": [
    {
     "name": "stdout",
     "output_type": "stream",
     "text": [
      "Дата \"29 2 2024\" введена корректно\n",
      "Дата \"30 2 2024\" введена не корректно\n",
      "Дата \"32 13 2024\" введена не корректно\n"
     ]
    }
   ],
   "source": [
    "def is_correct_date(day_param, month_param, year_param):\n",
    "    if isinstance(day_param, (int)) != True and isinstance(month_param, (int)) != True and isinstance(year_param, (int)) != True:\n",
    "        return False # f'Одно или несколько введённых значений \"{day_param}\", \"{month_param}\", \"{year_param}\" не является числом (int)'\n",
    "    else:\n",
    "        result_true = f'Дата \"{day_param} {month_param} {year_param}\" введена корректно'\n",
    "        result_false = f'Дата \"{day_param} {month_param} {year_param}\" введена не корректно'\n",
    "        if 1 <= day_param <= 31 and 1 <= month_param <= 12 and year_param >= 1:\n",
    "            if month_param in (1, 3, 5, 7, 8, 10, 12) and day_param <= 31:\n",
    "                return result_true\n",
    "            elif month_param in (4, 6, 9, 11) and day_param <= 30:\n",
    "                return result_true\n",
    "            elif month_param in ([2]):\n",
    "                if (year_param % 4 == 0  and year_param % 100 != 0) or year_param % 400 == 0:\n",
    "                    if day_param <= 29:\n",
    "                        return result_true # f'Дата \"{day_param} {month_param} {year_param}\" введена корректно'\n",
    "                    else:\n",
    "                        return result_false\n",
    "                else:\n",
    "                    return result_false\n",
    "            else:\n",
    "                return result_false\n",
    "        else:\n",
    "            return result_false\n",
    "\n",
    "\n",
    "print(is_correct_date(29, 2, 2024))\n",
    "print(is_correct_date(30, 2, 2024))\n",
    "print(is_correct_date(32, 13, 2024))\n",
    "                \n",
    "\n",
    "            \n",
    "        "
   ]
  },
  {
   "cell_type": "markdown",
   "id": "04b5c0ad-f0f3-4e07-b5cf-f728a5940234",
   "metadata": {},
   "source": [
    "12. Создайте функцию, которая определяет, является ли введенное число палиндромом."
   ]
  },
  {
   "cell_type": "code",
   "execution_count": 28,
   "id": "38d2c51c-eb90-4223-b3f5-d9ad4244ac06",
   "metadata": {},
   "outputs": [
    {
     "name": "stdout",
     "output_type": "stream",
     "text": [
      "Число 123 — не является палиндромом\n",
      "Число 323 — является палиндромом\n",
      "Число 1 — является палиндромом\n",
      "Число 1111 — является палиндромом\n"
     ]
    }
   ],
   "source": [
    "def is_num_palindrome(num_param):\n",
    "    if isinstance(num_param, (int)) != True:\n",
    "        return 'Введённое значение не является числом в формате int'\n",
    "    else:\n",
    "        num_param_reversed = int(str(num_param)[::-1])\n",
    "        if num_param == num_param_reversed:\n",
    "            return f'Число {num_param} — является палиндромом'\n",
    "        else:\n",
    "            return f'Число {num_param} — не является палиндромом'\n",
    "\n",
    "print(is_num_palindrome(123))  \n",
    "print(is_num_palindrome(323)) \n",
    "print(is_num_palindrome(1))\n",
    "print(is_num_palindrome(1111)) "
   ]
  },
  {
   "cell_type": "markdown",
   "id": "060504e0-9ca3-4823-a96f-b88ae9d4ea5b",
   "metadata": {},
   "source": [
    "13. Создайте функцию для определения дня недели по введенному номеру дня (1 - Понедельник, 2 - Вторник и т.д.)."
   ]
  },
  {
   "cell_type": "code",
   "execution_count": 35,
   "id": "5b3b7a17-bdb4-49cd-a1a9-a8b85fc022c1",
   "metadata": {},
   "outputs": [
    {
     "name": "stdout",
     "output_type": "stream",
     "text": [
      "Пятница\n",
      "В неделе только 7 дней\n",
      "Введённое значение не является числом в формате int\n"
     ]
    }
   ],
   "source": [
    "def find_day_of_week(num_week_param):\n",
    "    if isinstance(num_week_param, (int)) != True:\n",
    "        return 'Введённое значение не является числом в формате int'\n",
    "    else:\n",
    "        if 1 <= num_week_param <= 7:\n",
    "            day_of_week = {1: 'Понедельник'\n",
    "                          ,2: 'Вторник'\n",
    "                          ,3: 'Среда'\n",
    "                          ,4: 'Четверг'\n",
    "                          ,5: 'Пятница'\n",
    "                          ,6: 'Суббота'\n",
    "                          ,7: 'Воскресенье'                      \n",
    "                          }\n",
    "            return day_of_week[num_week_param]\n",
    "        else:\n",
    "            return 'В неделе только 7 дней'\n",
    "\n",
    "\n",
    "print(find_day_of_week(5))\n",
    "print(find_day_of_week(8))\n",
    "print(find_day_of_week('Привет'))\n"
   ]
  },
  {
   "cell_type": "markdown",
   "id": "be16171b-5031-4c46-9a1e-4be1cad838eb",
   "metadata": {},
   "source": [
    "14. Создайте функцию **print_fruits_info** для вывода информации о количестве и стоимости фруктов из словарей.\n",
    "   - Функция должна принимать словари с информацией \"фрукт:количество\" и \"фрукт:цена\" и выводить для каждого фрукта его стоимость и количество."
   ]
  },
  {
   "cell_type": "code",
   "execution_count": 42,
   "id": "1e51771b-6aa9-4338-bf01-7aa7a55dd2ce",
   "metadata": {},
   "outputs": [
    {
     "name": "stdout",
     "output_type": "stream",
     "text": [
      "apple: количество → 25, цена → 1.5\n",
      "banana: количество → 12, цена → 1.7\n",
      "orange: количество → 17, цена → 1.3\n",
      "mango: количество → 7, цена → 1.9\n",
      "pineapple: количество → 5, цена → 1.2\n"
     ]
    }
   ],
   "source": [
    "def show_fruit_count_and_price (dict_count_param, dict_price_param):\n",
    "    for fruit in dict_count_param.keys():\n",
    "        print(f'{fruit}: количество → {dict_count_param[fruit]}, цена → {dict_price_param[fruit]}')\n",
    "\n",
    "\n",
    "fruits_prices = {'apple': 1.5\n",
    "                  ,'banana':1.7\n",
    "                  ,'orange':1.3\n",
    "                  ,'mango':1.9\n",
    "                  ,'pineapple':1.2\n",
    "                  }    \n",
    "\n",
    "fruits_counts = {'apple': 25\n",
    "                  ,'banana':12\n",
    "                  ,'orange':17\n",
    "                  ,'mango':7\n",
    "                  ,'pineapple':5\n",
    "                  }   \n",
    "\n",
    "show_fruit_count_and_price(fruits_counts, fruits_prices)\n",
    "        "
   ]
  },
  {
   "cell_type": "markdown",
   "id": "37f7285a-6f68-4d64-94f0-612334340d78",
   "metadata": {},
   "source": [
    "15. Создайте функцию **print_squares_while**, которая использует цикл while для вывода квадратов чисел от 1 до 5."
   ]
  },
  {
   "cell_type": "code",
   "execution_count": 51,
   "id": "2d9277ac-d855-4a12-961c-fd640b90f09b",
   "metadata": {},
   "outputs": [
    {
     "name": "stdout",
     "output_type": "stream",
     "text": [
      "1^2 = 1\n",
      "2^2 = 4\n",
      "3^2 = 9\n",
      "4^2 = 16\n",
      "5^2 = 25\n"
     ]
    }
   ],
   "source": [
    "def print_squares_while():\n",
    "    i = 1\n",
    "    while i <= 5:\n",
    "        print(f'{i}^2 = {i ** 2}')\n",
    "        i += 1\n",
    "    return\n",
    "\n",
    "print_squares_while()"
   ]
  },
  {
   "cell_type": "markdown",
   "id": "b7fe6aa8-6703-4476-b358-0159bf94d2b0",
   "metadata": {},
   "source": [
    "16. Создайте функцию для вывода факториала заданного числа."
   ]
  },
  {
   "cell_type": "code",
   "execution_count": 64,
   "id": "ceb0cb29-a790-44d0-9a4f-c3ea8f436322",
   "metadata": {},
   "outputs": [
    {
     "name": "stdout",
     "output_type": "stream",
     "text": [
      "1! = 1\n",
      "2! = 2\n",
      "3! = 6\n",
      "5! = 120\n"
     ]
    }
   ],
   "source": [
    "def print_factorial(num_param):\n",
    "    if isinstance(num_param, (int)) != True:\n",
    "        return 'Введённое значение не является числом в формате int'\n",
    "    else:\n",
    "        i = 1\n",
    "        result = 1\n",
    "        while i <= num_param:\n",
    "            result *= i \n",
    "            i += 1\n",
    "        return result\n",
    "\n",
    "print(f'1! =', print_factorial(1))\n",
    "print(f'2! =', print_factorial(2))\n",
    "print(f'3! =', print_factorial(3))\n",
    "print(f'5! =', print_factorial(5))"
   ]
  },
  {
   "cell_type": "markdown",
   "id": "fc0a7ad4-3835-47e3-944e-150fbe136c05",
   "metadata": {},
   "source": [
    "17. Создайте функцию для поиска суммы чисел в заданном диапазоне (принимает на вход два числа, возвращает сумму чисел находящихся между ними, включительно.)"
   ]
  },
  {
   "cell_type": "code",
   "execution_count": 72,
   "id": "ecbf6b2f-9eeb-48de-a533-6f73c8c908a2",
   "metadata": {},
   "outputs": [
    {
     "name": "stdout",
     "output_type": "stream",
     "text": [
      "Сумма чисел от 1 по 2 (включительно) = 6\n",
      "Сумма чисел от 0 по 0 (включительно) = 0\n",
      "Сумма чисел от 5 по 9 (включительно) = 35\n"
     ]
    }
   ],
   "source": [
    "def summ_of_massive(num_start_param, num_end_param):\n",
    "    if isinstance(num_start_param, (int)) != True or isinstance(num_end_param, (int)) != True :\n",
    "        return f'Введённое значение {num_start_param} или {num_end_param} не является числом в формате int'\n",
    "    else:\n",
    "        i = num_start_param\n",
    "        result = 0\n",
    "        while i <= num_end_param:\n",
    "            result += i\n",
    "            i += 1\n",
    "    return result\n",
    "\n",
    "print(f'Сумма чисел от 1 по 2 (включительно) =', summ_of_massive(1, 3)) \n",
    "print(f'Сумма чисел от 0 по 0 (включительно) =', summ_of_massive(0, 0))\n",
    "print(f'Сумма чисел от 5 по 9 (включительно) =', summ_of_massive(5, 9))\n",
    "        "
   ]
  },
  {
   "cell_type": "markdown",
   "id": "801e74f3-b32c-4022-9ac5-b948ad32c486",
   "metadata": {},
   "source": [
    "18. Создайте функцию для генерации и вывода всех простых чисел до заданного числа."
   ]
  },
  {
   "cell_type": "code",
   "execution_count": 12,
   "id": "dd34370b-02e3-4116-bc8e-d47caafd36ef",
   "metadata": {},
   "outputs": [
    {
     "name": "stdout",
     "output_type": "stream",
     "text": [
      "Сгенерированный список всех простых чисел до 25 = [2, 3, 5, 7, 11, 13, 17, 19, 23]\n"
     ]
    }
   ],
   "source": [
    "def gen_simple_num(num_param):\n",
    "    if isinstance(num_param, (int)) != True:\n",
    "        return f'Число \"{num_param}\" — не является целочисленным значением (int)'\n",
    "    elif num_param < 2:\n",
    "        return f'Для генерации простых чисел значение заданного \"{num_param}\" должно быть не меньше 2'\n",
    "    else:\n",
    "        i = 2\n",
    "        result = [] \n",
    "        while i <= num_param: \n",
    "            cnt_devide = 0           \n",
    "            for x in range(2, i):\n",
    "                if i % x == 0:\n",
    "                    cnt_devide += 1\n",
    "            if cnt_devide == 0:\n",
    "                result.append(i) \n",
    "\n",
    "            i += 1\n",
    "    return result\n",
    "\n",
    "num_param = 25\n",
    "print(f'Сгенерированный список всех простых чисел до {num_param} =', gen_simple_num(num_param))\n",
    "\n",
    "\n",
    "  "
   ]
  },
  {
   "cell_type": "markdown",
   "id": "31804032-0d13-44a9-b3ce-b34c4165324c",
   "metadata": {},
   "source": [
    "19. Создайте функцию для проверки строки на палиндромность без учёта регистра и знаков препинания."
   ]
  },
  {
   "cell_type": "code",
   "execution_count": 39,
   "id": "1267b89e-9d9c-449a-914e-f7317db8a970",
   "metadata": {},
   "outputs": [
    {
     "name": "stdout",
     "output_type": "stream",
     "text": [
      "Строка \"Привет я чебурашка\" — не является палиндромом\n",
      "Строка \"Шалаш\" — является палиндромом\n",
      "Строка \"А роза упала на лапу Азора\" — является палиндромом\n",
      "Строка \"\" — является палиндромом\n"
     ]
    }
   ],
   "source": [
    "def is_palindrome_new(str_param):\n",
    "    if isinstance(str_param, (str)) != True:\n",
    "        return 'Введённое значение не является строкой в формате str'\n",
    "    else:\n",
    "        lst = [',', '.', ' ', '!', '?']\n",
    "        str_param_tmp = str_param\n",
    "        for i in lst:\n",
    "            str_param_tmp = str_param_tmp.replace(i, '')\n",
    "            \n",
    "        str_param_reversed = str_param_tmp[::-1]\n",
    "        \n",
    "        if str_param_tmp.lower() == str_param_reversed.lower():\n",
    "            return f'Строка {str_param} — является палиндромом'\n",
    "        else:\n",
    "            return f'Строка {str_param} — не является палиндромом'\n",
    "\n",
    "print(is_palindrome_new('\"Привет я чебурашка\"'))  \n",
    "print(is_palindrome_new('\"Шалаш\"')) \n",
    "print(is_palindrome_new('\"А роза упала на лапу Азора\"')) \n",
    "print(is_palindrome_new('\"\"')) "
   ]
  },
  {
   "cell_type": "markdown",
   "id": "ebae7aa3-94f2-49f1-91a8-d43eee321208",
   "metadata": {},
   "source": [
    "20. Создайте функцию для поиска наибольшего общего делителя (НОД) двух чисел."
   ]
  },
  {
   "cell_type": "code",
   "execution_count": 48,
   "id": "18bce3a6-e4b0-426b-8855-10b78f7a88b9",
   "metadata": {},
   "outputs": [
    {
     "name": "stdout",
     "output_type": "stream",
     "text": [
      "НОД для чисел 3 и 5 → 1\n",
      "НОД для чисел 5 и 25 → 5\n",
      "НОД для чисел 12 и 18 → 6\n",
      "НОД для чисел 12 и 24 → 12\n"
     ]
    }
   ],
   "source": [
    "def is_nod(a_param, b_param):\n",
    "    if isinstance(a_param, (int)) != True or isinstance(b_param, (int)) != True:\n",
    "        return 'Введённые значение не являются числом в формате int'\n",
    "    else:\n",
    "        param_min = b_param\n",
    "        if a_param < b_param:\n",
    "            param_min = a_param\n",
    "\n",
    "        param_nod = 0\n",
    "        for i in range(1, param_min + 1):\n",
    "            if a_param % i == 0 and b_param % i == 0:\n",
    "                param_nod = i\n",
    "        \n",
    "        return param_nod\n",
    "\n",
    "\n",
    "print('НОД для чисел 3 и 5 →', is_nod(3, 5))\n",
    "print('НОД для чисел 5 и 25 →', is_nod(5, 25))\n",
    "print('НОД для чисел 12 и 18 →', is_nod(12, 18))\n",
    "print('НОД для чисел 12 и 24 →', is_nod(12, 24))"
   ]
  },
  {
   "cell_type": "markdown",
   "id": "3b0b5eaf-c67a-424c-911d-c44922b0aee2",
   "metadata": {},
   "source": [
    "21. Создайте функцию print_students для вывода информации о студентах из словаря.\n",
    "   - Функция должна принимать словарь студентов и выводить их имена и возраст."
   ]
  },
  {
   "cell_type": "code",
   "execution_count": 56,
   "id": "eec802e5-d594-4f5d-8b24-9b11cd73b07f",
   "metadata": {},
   "outputs": [
    {
     "name": "stdout",
     "output_type": "stream",
     "text": [
      "Имя студента → Petrov, возраст → 26\n",
      "Имя студента → Ivanov, возраст → 17\n",
      "Имя студента → Zhdun, возраст → 21\n",
      "Имя студента → Stepanov, возраст → 19\n",
      "\n"
     ]
    }
   ],
   "source": [
    "def print_students(dict_param):\n",
    "    stud_info = ''\n",
    "    for k, v in dict_param.items():\n",
    "        stud_info += f'Имя студента → {k}, возраст → {v}\\n'\n",
    "    return stud_info\n",
    "\n",
    "dict_students = {\n",
    "    'Petrov': 26\n",
    "    ,'Ivanov': 17\n",
    "    ,'Zhdun': 21  \n",
    "    ,'Stepanov': 19  \n",
    "}\n",
    "\n",
    "print(print_students(dict_students))"
   ]
  },
  {
   "cell_type": "markdown",
   "id": "6c0cda34-d327-497b-8462-dc38a5b21bd8",
   "metadata": {},
   "source": [
    "22. Создайте функцию get_value_from_user, принимающую на вход одно число (\"порог\"), и запрашивающую у пользователя ввод числа до тех пор, пока он не введет число выше \"порога\"."
   ]
  },
  {
   "cell_type": "code",
   "execution_count": 61,
   "id": "41a7c3cb-8717-44d2-8c32-78f14ad7b08d",
   "metadata": {},
   "outputs": [
    {
     "name": "stdin",
     "output_type": "stream",
     "text": [
      "Введите число не выше заданного \"порога\" = 10:  1\n",
      "Введите число не выше заданного \"порога\" = 10:  3\n",
      "Введите число не выше заданного \"порога\" = 10:  5\n",
      "Введите число не выше заданного \"порога\" = 10:  7\n",
      "Введите число не выше заданного \"порога\" = 10:  9\n",
      "Введите число не выше заданного \"порога\" = 10:  10\n",
      "Введите число не выше заданного \"порога\" = 10:  11\n"
     ]
    }
   ],
   "source": [
    "def get_value_from_user(limit_param):\n",
    "    \n",
    "    limit_param_input = int(input(f'Введите число не выше заданного \"порога\" = {limit_param}: '))\n",
    "    while limit_param_input <= limit_param:\n",
    "        limit_param_input = int(input(f'Введите число не выше заданного \"порога\" = {limit_param}: '))\n",
    "\n",
    "get_value_from_user(10)\n",
    "    "
   ]
  },
  {
   "cell_type": "markdown",
   "id": "4c2596f8-e06f-49fa-972e-19d61f17e95c",
   "metadata": {},
   "source": [
    "## Общие "
   ]
  },
  {
   "cell_type": "markdown",
   "id": "29905a77-19ef-470a-9785-edcc052b5a03",
   "metadata": {},
   "source": [
    "1. Создайте функцию, которая будет запрашивать у пользователя его возраст.\n",
    "   - Если возраст меньше 18 лет, программа должна выводить сообщение о том, что пользователь несовершеннолетний.\n",
    "   - Если возраст от 18 до 65 лет, программа должна выводить сообщение о том, что пользователь взрослый.\n",
    "   - Если возраст больше 65 лет, программа должна выводить сообщение о том, что пользователь пенсионер."
   ]
  },
  {
   "cell_type": "code",
   "execution_count": 67,
   "id": "97357f0a-6a24-495b-8db6-c7a6b99b6c12",
   "metadata": {},
   "outputs": [
    {
     "name": "stdin",
     "output_type": "stream",
     "text": [
      "Введите Ваш возраст :  75\n"
     ]
    },
    {
     "name": "stdout",
     "output_type": "stream",
     "text": [
      "Пользователь пенсионер\n"
     ]
    },
    {
     "name": "stdin",
     "output_type": "stream",
     "text": [
      "Введите Ваш возраст :  33\n"
     ]
    },
    {
     "name": "stdout",
     "output_type": "stream",
     "text": [
      "Пользователь взрослый\n"
     ]
    },
    {
     "name": "stdin",
     "output_type": "stream",
     "text": [
      "Введите Ваш возраст :  12\n"
     ]
    },
    {
     "name": "stdout",
     "output_type": "stream",
     "text": [
      "Пользователь несовершеннолетний\n"
     ]
    }
   ],
   "source": [
    "def get_value_from_user():\n",
    "    age_param = int(input(f'Введите Ваш возраст : '))\n",
    "    if age_param >= 65:\n",
    "        return f'Пользователь пенсионер'\n",
    "    elif 18 <= age_param < 65:\n",
    "        return f'Пользователь взрослый'\n",
    "    else: # age_param < 18\n",
    "        return f'Пользователь несовершеннолетний'\n",
    "\n",
    "\n",
    "i = 1\n",
    "while i <= 3:\n",
    "    print(get_value_from_user())\n",
    "    i += 1\n"
   ]
  },
  {
   "cell_type": "markdown",
   "id": "e49629de-0a92-4c65-af5e-2fbdb18128f7",
   "metadata": {},
   "source": [
    "2. Создайте функцию, которая будет проверять введенную пользователем строку на наличие повторяющихся символов.\n",
    "   - Если такие символы найдены, программа должна выводить их перечень и количество повторов для каждого."
   ]
  },
  {
   "cell_type": "code",
   "execution_count": 73,
   "id": "78f7a3d5-8a2f-445b-94fb-d4e416d4d0f5",
   "metadata": {},
   "outputs": [
    {
     "name": "stdout",
     "output_type": "stream",
     "text": [
      "В строке \"Всем приветики\" cимвол \" \" встречается 1 раз\n",
      "В строке \"Всем приветики\" cимвол \"т\" встречается 1 раз\n",
      "В строке \"Всем приветики\" cимвол \"м\" встречается 1 раз\n",
      "В строке \"Всем приветики\" cимвол \"е\" встречается 2 раз\n",
      "В строке \"Всем приветики\" cимвол \"и\" встречается 3 раз\n",
      "В строке \"Всем приветики\" cимвол \"в\" встречается 1 раз\n",
      "В строке \"Всем приветики\" cимвол \"с\" встречается 1 раз\n",
      "В строке \"Всем приветики\" cимвол \"В\" встречается 1 раз\n",
      "В строке \"Всем приветики\" cимвол \"п\" встречается 1 раз\n",
      "В строке \"Всем приветики\" cимвол \"к\" встречается 1 раз\n",
      "В строке \"Всем приветики\" cимвол \"р\" встречается 1 раз\n"
     ]
    }
   ],
   "source": [
    "def find_repeat_symbols(str_param):\n",
    "    str_param_list = list(str_param)\n",
    "    str_param_set = set(str_param)\n",
    "\n",
    "   \n",
    "    for i in str_param_set:\n",
    "        cnt = 0\n",
    "        for j in str_param_list:\n",
    "            if i == j:\n",
    "                cnt += 1\n",
    "        print(f'В строке \"{str_param}\" cимвол \"{i}\" встречается {cnt} раз')\n",
    "   # return str_param_set\n",
    "\n",
    "find_repeat_symbols('Всем приветики')"
   ]
  }
 ],
 "metadata": {
  "kernelspec": {
   "display_name": "Python 3 (ipykernel)",
   "language": "python",
   "name": "python3"
  },
  "language_info": {
   "codemirror_mode": {
    "name": "ipython",
    "version": 3
   },
   "file_extension": ".py",
   "mimetype": "text/x-python",
   "name": "python",
   "nbconvert_exporter": "python",
   "pygments_lexer": "ipython3",
   "version": "3.10.10"
  }
 },
 "nbformat": 4,
 "nbformat_minor": 5
}
