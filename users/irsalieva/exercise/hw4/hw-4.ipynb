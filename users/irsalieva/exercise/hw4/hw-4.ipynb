{
 "cells": [
  {
   "cell_type": "markdown",
   "id": "bdda8c75-105b-4f24-8862-673bcc68f447",
   "metadata": {},
   "source": [
    "Домашнее задание №4. \n",
    "Списки и операции с ними."
   ]
  },
  {
   "cell_type": "markdown",
   "id": "cee25c30-e329-4fd8-b45a-c6f07a7b95e0",
   "metadata": {},
   "source": [
    "Задание 1. выполните следующий код\n",
    "<code>\n",
    "list_one = [1, 2, 3, 4, 5, 6, 9]\n",
    "list_two = [1, 2, 3, 4, 5, 6, 9]\n",
    "list_two.append(789)\n",
    "print(list_one, list_two, sep='\\n') \n",
    "</code>\n"
   ]
  },
  {
   "cell_type": "code",
   "execution_count": 4,
   "id": "97da088b-c8bd-4bff-82f1-d18fd4942d41",
   "metadata": {},
   "outputs": [
    {
     "name": "stdout",
     "output_type": "stream",
     "text": [
      "[1, 2, 3, 4, 5, 6, 9]\n",
      "[1, 2, 3, 4, 5, 6, 9, 789]\n"
     ]
    }
   ],
   "source": [
    "list_one = [1, 2, 3, 4, 5, 6, 9]\n",
    "list_two = [1, 2, 3, 4, 5, 6, 9]\n",
    "list_two.append(789)\n",
    "print(list_one, list_two, sep='\\n')"
   ]
  },
  {
   "cell_type": "markdown",
   "id": "eb444245-1654-4650-810d-fd6fd98ebab2",
   "metadata": {},
   "source": [
    "затем выполните код \n",
    "<code>\n",
    "list_one = [1, 2, 3, 4, 5, 6, 9]\n",
    "list_two = list_one\n",
    "list_two.append(789)\n",
    "print(list_one, list_two, sep='\\n')     \n",
    "</code>"
   ]
  },
  {
   "cell_type": "code",
   "execution_count": 5,
   "id": "70538942-5267-40e8-8d0d-4b2b645ac887",
   "metadata": {},
   "outputs": [
    {
     "name": "stdout",
     "output_type": "stream",
     "text": [
      "[1, 2, 3, 4, 5, 6, 9, 789]\n",
      "[1, 2, 3, 4, 5, 6, 9, 789]\n"
     ]
    }
   ],
   "source": [
    "list_one = [1, 2, 3, 4, 5, 6, 9]\n",
    "list_two = list_one\n",
    "list_two.append(789)\n",
    "print(list_one, list_two, sep='\\n')"
   ]
  },
  {
   "cell_type": "markdown",
   "id": "472521a4-7d61-4e76-9b8b-dad61d4b7ca4",
   "metadata": {},
   "source": [
    "запишите объяснения разницы в выполнении кода в переменную difference_explanation и выведите ее на экран"
   ]
  },
  {
   "cell_type": "code",
   "execution_count": 7,
   "id": "680d9e95-a34c-4f6c-8693-3a72207219b5",
   "metadata": {},
   "outputs": [
    {
     "name": "stdout",
     "output_type": "stream",
     "text": [
      "В 1 случае выделяются 2 различных раздела памяти и новый элемент списка добавляется только в список list_two. \n",
      "Во втором случае — список list_two ссылается на тот же раздел памяти, что и список list_one, поэтому новый элемент списка добавляется в оба списка\n"
     ]
    }
   ],
   "source": [
    "#решение можно писать тут\n",
    "difference_explanation = 'В 1 случае выделяются 2 различных раздела памяти и новый элемент списка добавляется только в список list_two. \\nВо втором случае — список list_two ссылается на тот же раздел памяти, что и список list_one, поэтому новый элемент списка добавляется в оба списка'\n",
    "\n",
    "print(difference_explanation)"
   ]
  },
  {
   "cell_type": "markdown",
   "id": "9062939d-6f44-44cf-9b28-5854ebeb1594",
   "metadata": {},
   "source": [
    "Задание 2.\n",
    "Задайте переменную a_poem типа строка, со следующим содержимым:\n",
    "<code>\n",
    "За стеклом лежал Питон,\n",
    "Большой и толстый, как батон.\n",
    "Вверх пополз,\n",
    "Затем вернулся,\n",
    "Круглым бубликом свернулся.\n",
    "</code>\n",
    "- Создайте переменную a_list типа список, заполнив ее содержимым строки a_poem так, чтобы каждый символ строки a_poem стал отдельным элементом списка a_list\n",
    "- Создайте переменную another_list типа список, заполнив ее содержимым строки a_poem так, чтобы каждое слово строки a_poem стал отдельным элементом списка another_list. Знаки препинания прилипнут к словам, не страшно.\n",
    "- Выведите на экран элементы и их количество для списков a_list и another_list.\n",
    "- Создайте переменную one_more_list типа список, каждым элементом которой является отдельная строка строфы из a_poem. Выведите на экран элементы one_more_list и их количество."
   ]
  },
  {
   "cell_type": "code",
   "execution_count": 19,
   "id": "1e024977-d4dc-4072-b54f-d42af3ed15ee",
   "metadata": {},
   "outputs": [
    {
     "name": "stdout",
     "output_type": "stream",
     "text": [
      "За стеклом лежал Питон,\n",
      "Большой и толстый, как батон.\n",
      "Вверх пополз,\n",
      "Затем вернулся,\n",
      "Круглым бубликом свернулся.\n"
     ]
    }
   ],
   "source": [
    "#Задайте переменную a_poem типа строка, со следующим содержимым:\n",
    "#a_poem = 'За стеклом лежал Питон,\\nБольшой и толстый, как батон.\\nВверх пополз,\\nЗатем вернулся,\\nКруглым бубликом свернулся.'\n",
    "a_poem = '''За стеклом лежал Питон,\n",
    "Большой и толстый, как батон.\n",
    "Вверх пополз,\n",
    "Затем вернулся,\n",
    "Круглым бубликом свернулся.'''\n",
    "\n",
    "print(a_poem)"
   ]
  },
  {
   "cell_type": "code",
   "execution_count": 20,
   "id": "a89c8995-3c27-4581-b2da-21940fdde686",
   "metadata": {},
   "outputs": [
    {
     "name": "stdout",
     "output_type": "stream",
     "text": [
      "['З', 'а', ' ', 'с', 'т', 'е', 'к', 'л', 'о', 'м', ' ', 'л', 'е', 'ж', 'а', 'л', ' ', 'П', 'и', 'т', 'о', 'н', ',', '\\n', 'Б', 'о', 'л', 'ь', 'ш', 'о', 'й', ' ', 'и', ' ', 'т', 'о', 'л', 'с', 'т', 'ы', 'й', ',', ' ', 'к', 'а', 'к', ' ', 'б', 'а', 'т', 'о', 'н', '.', '\\n', 'В', 'в', 'е', 'р', 'х', ' ', 'п', 'о', 'п', 'о', 'л', 'з', ',', '\\n', 'З', 'а', 'т', 'е', 'м', ' ', 'в', 'е', 'р', 'н', 'у', 'л', 'с', 'я', ',', '\\n', 'К', 'р', 'у', 'г', 'л', 'ы', 'м', ' ', 'б', 'у', 'б', 'л', 'и', 'к', 'о', 'м', ' ', 'с', 'в', 'е', 'р', 'н', 'у', 'л', 'с', 'я', '.']\n"
     ]
    }
   ],
   "source": [
    "#Создайте переменную a_list типа список, заполнив ее содержимым строки a_poem так, чтобы каждый символ строки a_poem стал отдельным элементом списка a_list\n",
    "a_list = list(a_poem)\n",
    "print(a_list)"
   ]
  },
  {
   "cell_type": "code",
   "execution_count": 23,
   "id": "c67df272-e0ad-42b1-9255-a8b5da52059b",
   "metadata": {},
   "outputs": [
    {
     "name": "stdout",
     "output_type": "stream",
     "text": [
      "['За', 'стеклом', 'лежал', 'Питон,', 'Большой', 'и', 'толстый,', 'как', 'батон.', 'Вверх', 'пополз,', 'Затем', 'вернулся,', 'Круглым', 'бубликом', 'свернулся.']\n"
     ]
    }
   ],
   "source": [
    "#Создайте переменную another_list типа список, заполнив ее содержимым строки a_poem так, чтобы каждое слово строки a_poem стал отдельным элементом списка another_list. Знаки препинания прилипнут к словам, не страшно.\n",
    "another_list  = a_poem.split()\n",
    "\n",
    "print(another_list)\n"
   ]
  },
  {
   "cell_type": "code",
   "execution_count": 29,
   "id": "3dae00fd-a3a2-4d14-92ed-2ced2d37af5f",
   "metadata": {},
   "outputs": [
    {
     "name": "stdout",
     "output_type": "stream",
     "text": [
      "Список a_list: ['З', 'а', ' ', 'с', 'т', 'е', 'к', 'л', 'о', 'м', ' ', 'л', 'е', 'ж', 'а', 'л', ' ', 'П', 'и', 'т', 'о', 'н', ',', '\\n', 'Б', 'о', 'л', 'ь', 'ш', 'о', 'й', ' ', 'и', ' ', 'т', 'о', 'л', 'с', 'т', 'ы', 'й', ',', ' ', 'к', 'а', 'к', ' ', 'б', 'а', 'т', 'о', 'н', '.', '\\n', 'В', 'в', 'е', 'р', 'х', ' ', 'п', 'о', 'п', 'о', 'л', 'з', ',', '\\n', 'З', 'а', 'т', 'е', 'м', ' ', 'в', 'е', 'р', 'н', 'у', 'л', 'с', 'я', ',', '\\n', 'К', 'р', 'у', 'г', 'л', 'ы', 'м', ' ', 'б', 'у', 'б', 'л', 'и', 'к', 'о', 'м', ' ', 'с', 'в', 'е', 'р', 'н', 'у', 'л', 'с', 'я', '.'] \n",
      "Количество элементов a_list: 111 \n",
      "\n",
      "Список another_list: ['За', 'стеклом', 'лежал', 'Питон,', 'Большой', 'и', 'толстый,', 'как', 'батон.', 'Вверх', 'пополз,', 'Затем', 'вернулся,', 'Круглым', 'бубликом', 'свернулся.'] \n",
      "Количество элементов another_list: 16\n"
     ]
    }
   ],
   "source": [
    "#Выведите на экран элементы и их количество для списков a_list и another_list.\n",
    "a_list_cnt = len(a_list)\n",
    "another_list_cnt = len(another_list)\n",
    "\n",
    "print('Список a_list:', a_list, '\\nКоличество элементов a_list:', a_list_cnt, '\\n\\nСписок another_list:', another_list, '\\nКоличество элементов another_list:', another_list_cnt)"
   ]
  },
  {
   "cell_type": "code",
   "execution_count": 36,
   "id": "2a6622fd-4609-4770-8d9d-0d83bc6a1e0b",
   "metadata": {},
   "outputs": [
    {
     "name": "stdout",
     "output_type": "stream",
     "text": [
      "Список one_more_list: ['За стеклом лежал Питон,', 'Большой и толстый, как батон.', 'Вверх пополз,', 'Затем вернулся,', 'Круглым бубликом свернулся.'] \n",
      "Количество элементов one_more_list: 5\n"
     ]
    }
   ],
   "source": [
    "#Создайте переменную one_more_list типа список, каждым элементом которой является отдельная строка строфы из a_poem. Выведите на экран элементы one_more_list и их количество.\n",
    "one_more_list = a_poem.split('\\n')\n",
    "one_more_list_cnt = len(one_more_list)\n",
    "\n",
    "print('Список one_more_list:', one_more_list, '\\nКоличество элементов one_more_list:', one_more_list_cnt)"
   ]
  },
  {
   "cell_type": "markdown",
   "id": "2b39f64c-c7d4-4eb5-907e-d0d9f598c33f",
   "metadata": {},
   "source": [
    "Задание 3.\n",
    "- Создайте список solyanka_list, в качестве его элементов добавьте значения каждого из известных вам типов данных python.\n",
    "- Выведите на экран содержимое списка solyanka_list.\n",
    "- Посчитайте количество элементов списка solyanka_list.\n",
    "- Выведите на экран тип пятого от начала списка элемента.\n",
    "- Добавьте в конец списка solyanka_list элемент типа \"список\" из одного элемента\n",
    "- Выведите на экран тип последнего элемента списка solyanka_list "
   ]
  },
  {
   "cell_type": "code",
   "execution_count": 74,
   "id": "1317a98b-5c29-4cb5-b0cf-9dc94a030f08",
   "metadata": {},
   "outputs": [],
   "source": [
    "#Создайте список solyanka_list, в качестве его элементов добавьте значения каждого из известных вам типов данных python.\n",
    "solyanka_list = [7, 7.7, True, 'seven', (1, 2, 3), {'city': 'Moscow'}, [7, 9, 11]]"
   ]
  },
  {
   "cell_type": "code",
   "execution_count": 75,
   "id": "eec942a6-212c-471d-8122-233aa7ccc0c3",
   "metadata": {},
   "outputs": [
    {
     "name": "stdout",
     "output_type": "stream",
     "text": [
      "[7, 7.7, True, 'seven', (1, 2, 3), {'city': 'Moscow'}, [7, 9, 11]]\n"
     ]
    }
   ],
   "source": [
    "#Выведите на экран содержимое списка solyanka_list.\n",
    "print(solyanka_list)"
   ]
  },
  {
   "cell_type": "code",
   "execution_count": 76,
   "id": "686c0dc8-c29c-4ae3-893c-2cfed6c2255d",
   "metadata": {},
   "outputs": [
    {
     "name": "stdout",
     "output_type": "stream",
     "text": [
      "Количество элементов списка solyanka_list: 7\n"
     ]
    }
   ],
   "source": [
    "#Посчитайте количество элементов списка solyanka_list.\n",
    "solyanka_list_cnt = len(solyanka_list)\n",
    "\n",
    "print('Количество элементов списка solyanka_list:', solyanka_list_cnt)"
   ]
  },
  {
   "cell_type": "code",
   "execution_count": 77,
   "id": "b1e145bc-7923-4e0d-8dc8-d6b6c477512d",
   "metadata": {},
   "outputs": [
    {
     "name": "stdout",
     "output_type": "stream",
     "text": [
      "<class 'tuple'>\n"
     ]
    }
   ],
   "source": [
    "#Выведите на экран тип пятого от начала списка элемента.\n",
    "solyanka_list_type_5el = type(solyanka_list[4])\n",
    "\n",
    "print(solyanka_list_type_5el)"
   ]
  },
  {
   "cell_type": "code",
   "execution_count": 78,
   "id": "ac666190-335d-43ca-919c-5e09f6a6c5fb",
   "metadata": {},
   "outputs": [],
   "source": [
    "#Добавьте в конец списка solyanka_list элемент типа \"список\" из одного элемента\n",
    "solyanka_list.append(['one element'])"
   ]
  },
  {
   "cell_type": "code",
   "execution_count": 91,
   "id": "cb48f78f-2357-4133-9b83-f5afba123d0a",
   "metadata": {},
   "outputs": [
    {
     "name": "stdout",
     "output_type": "stream",
     "text": [
      "Тип последнего элемента ( ['one element'] ) списка solyanka_list: <class 'list'>\n"
     ]
    }
   ],
   "source": [
    "#Выведите на экран тип последнего элемента списка solyanka_list \n",
    "solyanka_list_type_last_el = type(solyanka_list[-1])\n",
    "\n",
    "print('Тип последнего элемента (', solyanka_list[-1], ') списка solyanka_list:', solyanka_list_type_last_el)"
   ]
  },
  {
   "cell_type": "markdown",
   "id": "1c3f95c6-cd6a-4ce5-b70b-654e896551fa",
   "metadata": {},
   "source": [
    "Задание 4.\n",
    "Дана последовательности чисел Фибоначчи из нескольких элементов:\n",
    "<code>\n",
    "0, 1, 1, 2, 3, 5, 8, 13, 21, 34, 55, 89, 144, 233, 377, 610, 987, 1597, 2584, 4181, 6765, 10946, 17711\n",
    "</code>\n",
    "- Создайте список fibonacci_list, элементами которого будут числа Фибонначи из задания.\n",
    "- Посчитайте и выведите на экран, сколько чисел Фибоначчи в последовательности из задания\n",
    "- Посчитайте и выведите на экран, сколько раз число 1 входит в заданную последовательность Фибоначчи.\n",
    "- Проверьте и выведите на экран результат, является ли число 21 числом Фибоначчи. Число 33? Число 987? число 9999?\n",
    "использование оператора if возможно, но не является необходимым\n"
   ]
  },
  {
   "cell_type": "code",
   "execution_count": 97,
   "id": "ea8bb03d-b06c-4f60-af8a-dcf862bc80d0",
   "metadata": {},
   "outputs": [
    {
     "name": "stdout",
     "output_type": "stream",
     "text": [
      "[0, 1, 1, 2, 3, 5, 8, 13, 21, 34, 55, 89, 144, 233, 377, 610, 987, 1597, 2584, 4181, 6765, 10946, 17711]\n"
     ]
    }
   ],
   "source": [
    "#Создайте список fibonacci_list, элементами которого будут числа Фибонначи из задания.\n",
    "fibonacci_list = [0, 1, 1, 2, 3, 5, 8, 13, 21, 34, 55, 89, 144, 233, 377, 610, 987, 1597, 2584, 4181, 6765, 10946, 17711]\n",
    "\n",
    "print(fibonacci_list)"
   ]
  },
  {
   "cell_type": "code",
   "execution_count": 98,
   "id": "14e5f11e-cfe9-4894-b6e0-f250fccbe367",
   "metadata": {},
   "outputs": [
    {
     "name": "stdout",
     "output_type": "stream",
     "text": [
      "Количество чисел Фибоначчи в последовательности из задания: 23\n"
     ]
    }
   ],
   "source": [
    "#Посчитайте и выведите на экран, сколько чисел Фибоначчи в последовательности из задания\n",
    "fibonacci_list_cnt = len(fibonacci_list)\n",
    "\n",
    "print('Количество чисел Фибоначчи в последовательности из задания:', fibonacci_list_cnt)"
   ]
  },
  {
   "cell_type": "code",
   "execution_count": 100,
   "id": "f2d099dd-9983-44be-8d22-beedbbf12fb1",
   "metadata": {},
   "outputs": [
    {
     "name": "stdout",
     "output_type": "stream",
     "text": [
      "Количество вхождений 1 в заданную последовательность Фибоначчи: 2\n"
     ]
    }
   ],
   "source": [
    "#Посчитайте и выведите на экран, сколько раз число 1 входит в заданную последовательность Фибоначчи.\n",
    "fibonacci_list_cnt_of_1 = fibonacci_list.count(1)\n",
    "\n",
    "print('Количество вхождений 1 в заданную последовательность Фибоначчи:', fibonacci_list_cnt_of_1)"
   ]
  },
  {
   "cell_type": "code",
   "execution_count": 117,
   "id": "919fc342-acca-4851-a398-9a9394aa8a78",
   "metadata": {},
   "outputs": [
    {
     "name": "stdout",
     "output_type": "stream",
     "text": [
      "Является ли число 21 числом Фибоначчи? True\n",
      "Является ли число 33 числом Фибоначчи? False\n",
      "Является ли число 987 числом Фибоначчи? True\n",
      "Является ли число 9999 числом Фибоначчи? False\n"
     ]
    }
   ],
   "source": [
    "#Проверьте и выведите на экран результат, является ли число 21 числом Фибоначчи. Число 33? Число 987? число 9999? использование оператора if возможно, но не является необходимым\n",
    "print('Является ли число 21 числом Фибоначчи?', 21 in fibonacci_list)\n",
    "print('Является ли число 33 числом Фибоначчи?', 33 in fibonacci_list)\n",
    "print('Является ли число 987 числом Фибоначчи?', 987 in fibonacci_list)\n",
    "print('Является ли число 9999 числом Фибоначчи?', 9999 in fibonacci_list)"
   ]
  },
  {
   "cell_type": "markdown",
   "id": "dcdad8af-7eb3-4141-9ddf-fe563743c56b",
   "metadata": {},
   "source": [
    "Задание 5.\n",
    "Задайте переменную a_list типа \"список\" со следующим содержимым:\n",
    "<code>\n",
    "1,2,5,4,3,6\n",
    "</code>\n",
    "- выведите содержимое a_list на экран\n",
    "- поменяйте местами третий и пятый элементы a_list и выведите результат на экран"
   ]
  },
  {
   "cell_type": "code",
   "execution_count": 118,
   "id": "bda69f95-b8b5-4129-b0cb-d4ccbedc60c7",
   "metadata": {},
   "outputs": [
    {
     "name": "stdout",
     "output_type": "stream",
     "text": [
      "[1, 2, 5, 4, 3, 6]\n"
     ]
    }
   ],
   "source": [
    "#Задайте переменную a_list типа \"список\" со следующим содержимым: \n",
    "#1,2,5,4,3,6\n",
    "#выведите содержимое a_list на экран\n",
    "\n",
    "a_list = [1,2,5,4,3,6]\n",
    "\n",
    "print(a_list)\n"
   ]
  },
  {
   "cell_type": "code",
   "execution_count": 119,
   "id": "69f66822-81be-47b8-aad1-828ce8c4cdf8",
   "metadata": {},
   "outputs": [
    {
     "name": "stdout",
     "output_type": "stream",
     "text": [
      "[1, 2, 3, 4, 5, 6]\n"
     ]
    }
   ],
   "source": [
    "#поменяйте местами третий и пятый элементы a_list и выведите результат на экран\n",
    "\n",
    "a_list_new_3el = a_list[4]\n",
    "a_list_new_5el = a_list[2]\n",
    "\n",
    "a_list[2] = a_list_new_3el\n",
    "a_list[4] = a_list_new_5el\n",
    "\n",
    "print(a_list)"
   ]
  },
  {
   "cell_type": "markdown",
   "id": "15144689-623a-43a5-80ca-0483f66017a1",
   "metadata": {},
   "source": [
    "Задание 6.\n",
    "    Кто-то перепутал строчки в стихотворении, хорошо что они были пронумерованы.\n",
    "<code>\n",
    "    (2, \"тот большего добьётся,\" )\n",
    "    (5, \"Кто умирал, тот знает, что живёт.\")\n",
    "    (1, \"Кто битым жизнью был,\" )\n",
    "    (3, \"Пуд соли съевший выше ценит мёд.\")\n",
    "    (4, \"Кто слёзы лил, тот искренней смеётся,\") \n",
    "</code>\n",
    "    выведите на экран строки Омара Хайама в правильном порядке, используя список."
   ]
  },
  {
   "cell_type": "code",
   "execution_count": 126,
   "id": "e85d1901-5856-41e1-bfb8-382e8489f86b",
   "metadata": {},
   "outputs": [
    {
     "data": {
      "text/plain": [
       "['(1, \"Кто битым жизнью был,\" )',\n",
       " '(2, \"тот большего добьётся,\" )',\n",
       " '(3, \"Пуд соли съевший выше ценит мёд.\")',\n",
       " '(4, \"Кто слёзы лил, тот искренней смеётся,\")',\n",
       " '(5, \"Кто умирал, тот знает, что живёт.\")']"
      ]
     },
     "execution_count": 126,
     "metadata": {},
     "output_type": "execute_result"
    }
   ],
   "source": [
    "omar_hayam_poem = '''(2, \"тот большего добьётся,\" )\n",
    "(5, \"Кто умирал, тот знает, что живёт.\")\n",
    "(1, \"Кто битым жизнью был,\" )\n",
    "(3, \"Пуд соли съевший выше ценит мёд.\")\n",
    "(4, \"Кто слёзы лил, тот искренней смеётся,\")'''\n",
    "\n",
    "omar_hayam_poem_splitted = omar_hayam_poem.split('\\n')\n",
    "omar_hayam_poem_splitted.sort()\n",
    "\n",
    "omar_hayam_poem_splitted"
   ]
  },
  {
   "cell_type": "markdown",
   "id": "c0b987b3-c0e2-4bd5-8ff0-0cc9029118e6",
   "metadata": {},
   "source": [
    "Задание 7.\n",
    "<code>\n",
    "Кто битым за дедлайн был,\n",
    "тот больше не сольется.\n",
    "Пуд багов съевший, выше ценит чистый код.\n",
    "Кто дошик ел, тот рейтинг ценит свой.\n",
    "Кто крашился, тот знает, что живой.\n",
    "</code>\n",
    "В данном задании после каждой операции выводите на экран содержимое true_story_list и количество его элементов.\n",
    "- Создайте переменную true_story_list типа список, занесите в неё третью строку из стихотворения выше.\n",
    "- Добавьте четвертую строку в конец списка true_story_list.\n",
    "- Создайте переменную true_story_slice типа список, занесите в неё четвертую и пятую строки из стихотворения выше. Добавьте содержимое true_story_slice как один последний элемент списка true_story_list.\n",
    "- Очистите весь список true_story_slice, выведите его содержимое на экран.\n",
    "- Добавьте первую строку из стихотворение в начало списка true_story_list\n",
    "- Удалите из true_story_list все элементы. (НЕ НУЖНО ДЕЛАТЬ)\n",
    "- Удалите последний элемент списка true_story_list\n",
    "- Добавьте вторым элементом списка true_story_list вторую строчку стихотворения\n",
    "- Создайте переменную true_story_tail типа список, занесите в него пятую строку стихотворения дважды. Скопируйте элементы списка true_story_tail в конец списка true_story_list.\n",
    "- Удалите 5 элемент списка true_story_list.\n",
    "- *Выведите список true_story_list красиво в виде стихотворения. (кажется, это ещё не проходили, но попробовать стоит)"
   ]
  },
  {
   "cell_type": "code",
   "execution_count": 196,
   "id": "f022d5b0-5d91-4662-9bf2-6bc20fb1b269",
   "metadata": {},
   "outputs": [
    {
     "data": {
      "text/plain": [
       "'Кто битым за дедлайн был,\\nтот больше не сольется.\\nПуд багов съевший, выше ценит чистый код.\\nКто дошик ел, тот рейтинг ценит свой.\\nКто крашился, тот знает, что живой.'"
      ]
     },
     "execution_count": 196,
     "metadata": {},
     "output_type": "execute_result"
    }
   ],
   "source": [
    "true_story = '''Кто битым за дедлайн был,\n",
    "тот больше не сольется.\n",
    "Пуд багов съевший, выше ценит чистый код.\n",
    "Кто дошик ел, тот рейтинг ценит свой.\n",
    "Кто крашился, тот знает, что живой.'''\n",
    "\n",
    "true_story"
   ]
  },
  {
   "cell_type": "code",
   "execution_count": 197,
   "id": "337fb519-a1d6-4ce7-9d6b-95804dbf1231",
   "metadata": {},
   "outputs": [
    {
     "name": "stdout",
     "output_type": "stream",
     "text": [
      "Содержимое списка true_story_list:\n",
      " ['Пуд багов съевший, выше ценит чистый код.'] \n",
      "Количество элементов списка true_story_list:\n",
      " 1\n"
     ]
    }
   ],
   "source": [
    "#Создайте переменную true_story_list типа список, занесите в неё третью строку из стихотворения выше.\n",
    "true_story_list_full = []\n",
    "true_story_list_full = true_story.split('\\n')\n",
    "\n",
    "true_story_list = []\n",
    "true_story_list.append(true_story_list_full[2])\n",
    "\n",
    "print('Содержимое списка true_story_list:\\n', true_story_list, '\\nКоличество элементов списка true_story_list:\\n', len(true_story_list))"
   ]
  },
  {
   "cell_type": "code",
   "execution_count": 198,
   "id": "28522ce3-513d-4cf0-8ebb-eb998318a98f",
   "metadata": {},
   "outputs": [
    {
     "name": "stdout",
     "output_type": "stream",
     "text": [
      "Содержимое списка true_story_list:\n",
      " ['Пуд багов съевший, выше ценит чистый код.', 'Кто дошик ел, тот рейтинг ценит свой.'] \n",
      "Количество элементов списка true_story_list:\n",
      " 2\n"
     ]
    }
   ],
   "source": [
    "#Добавьте четвертую строку в конец списка true_story_list.\n",
    "true_story_list.append(true_story_list_full[3])\n",
    "\n",
    "print('Содержимое списка true_story_list:\\n', true_story_list, '\\nКоличество элементов списка true_story_list:\\n', len(true_story_list))\n"
   ]
  },
  {
   "cell_type": "code",
   "execution_count": 199,
   "id": "f40fa775-8879-4f17-b419-94e0abf64173",
   "metadata": {},
   "outputs": [
    {
     "name": "stdout",
     "output_type": "stream",
     "text": [
      "Содержимое списка true_story_list:\n",
      " ['Пуд багов съевший, выше ценит чистый код.', 'Кто дошик ел, тот рейтинг ценит свой.', [['Кто дошик ел, тот рейтинг ценит свой.', 'Кто крашился, тот знает, что живой.']]] \n",
      "Количество элементов списка true_story_list:\n",
      " 3\n"
     ]
    }
   ],
   "source": [
    "#Создайте переменную true_story_slice типа список, занесите в неё четвертую и пятую строки из стихотворения выше. Добавьте содержимое true_story_slice как один последний элемент списка true_story_list.\n",
    "true_story_slice = []\n",
    "true_story_slice.append(true_story_list_full[3:5])\n",
    "\n",
    "true_story_list.append(true_story_slice)\n",
    "\n",
    "print('Содержимое списка true_story_list:\\n', true_story_list, '\\nКоличество элементов списка true_story_list:\\n', len(true_story_list))"
   ]
  },
  {
   "cell_type": "code",
   "execution_count": 200,
   "id": "46bad16d-b381-4755-b8d8-609f2d033d72",
   "metadata": {},
   "outputs": [
    {
     "name": "stdout",
     "output_type": "stream",
     "text": [
      "[]\n",
      "Содержимое списка true_story_list:\n",
      " ['Пуд багов съевший, выше ценит чистый код.', 'Кто дошик ел, тот рейтинг ценит свой.', []] \n",
      "Количество элементов списка true_story_list:\n",
      " 3\n"
     ]
    }
   ],
   "source": [
    "#Очистите весь список true_story_slice, выведите его содержимое на экран.\n",
    "true_story_slice.clear()\n",
    "\n",
    "print(true_story_slice)\n",
    "\n",
    "print('Содержимое списка true_story_list:\\n', true_story_list, '\\nКоличество элементов списка true_story_list:\\n', len(true_story_list))"
   ]
  },
  {
   "cell_type": "code",
   "execution_count": 201,
   "id": "6d2fcf4f-56e2-43c6-9234-f045313801d2",
   "metadata": {},
   "outputs": [
    {
     "name": "stdout",
     "output_type": "stream",
     "text": [
      "Содержимое списка true_story_list:\n",
      " ['Кто битым за дедлайн был,', 'Пуд багов съевший, выше ценит чистый код.', 'Кто дошик ел, тот рейтинг ценит свой.', []] \n",
      "Количество элементов списка true_story_list:\n",
      " 4\n"
     ]
    }
   ],
   "source": [
    "#Добавьте первую строку из стихотворение в начало списка true_story_list\n",
    "true_story_list.insert(0, true_story_list_full[0])\n",
    "\n",
    "print('Содержимое списка true_story_list:\\n', true_story_list, '\\nКоличество элементов списка true_story_list:\\n', len(true_story_list))"
   ]
  },
  {
   "cell_type": "code",
   "execution_count": 202,
   "id": "1b0d517c-a4a5-4a4f-aa72-2069765a32f2",
   "metadata": {},
   "outputs": [
    {
     "name": "stdout",
     "output_type": "stream",
     "text": [
      "Содержимое списка true_story_list:\n",
      " ['Кто битым за дедлайн был,', 'Пуд багов съевший, выше ценит чистый код.', 'Кто дошик ел, тот рейтинг ценит свой.'] \n",
      "Количество элементов списка true_story_list:\n",
      " 3\n"
     ]
    }
   ],
   "source": [
    "#Удалите последний элемент списка true_story_list\n",
    "true_story_list.pop(-1)\n",
    "\n",
    "print('Содержимое списка true_story_list:\\n', true_story_list, '\\nКоличество элементов списка true_story_list:\\n', len(true_story_list))"
   ]
  },
  {
   "cell_type": "code",
   "execution_count": 203,
   "id": "30652140-5fa3-4a09-8224-34f50d4a22b2",
   "metadata": {},
   "outputs": [
    {
     "name": "stdout",
     "output_type": "stream",
     "text": [
      "Содержимое списка true_story_list:\n",
      " ['Кто битым за дедлайн был,', 'тот больше не сольется.', 'Пуд багов съевший, выше ценит чистый код.', 'Кто дошик ел, тот рейтинг ценит свой.'] \n",
      "Количество элементов списка true_story_list:\n",
      " 4\n"
     ]
    }
   ],
   "source": [
    "#Добавьте вторым элементом списка true_story_list вторую строчку стихотворения\n",
    "true_story_list.insert(1, true_story_list_full[1])\n",
    "\n",
    "print('Содержимое списка true_story_list:\\n', true_story_list, '\\nКоличество элементов списка true_story_list:\\n', len(true_story_list))"
   ]
  },
  {
   "cell_type": "code",
   "execution_count": 204,
   "id": "aa56e9cd-309b-49a7-949c-b78e0972e8ba",
   "metadata": {},
   "outputs": [
    {
     "name": "stdout",
     "output_type": "stream",
     "text": [
      "Содержимое списка true_story_list:\n",
      " ['Кто битым за дедлайн был,', 'тот больше не сольется.', 'Пуд багов съевший, выше ценит чистый код.', 'Кто дошик ел, тот рейтинг ценит свой.', 'Кто крашился, тот знает, что живой.', 'Кто крашился, тот знает, что живой.'] \n",
      "Количество элементов списка true_story_list:\n",
      " 6\n"
     ]
    }
   ],
   "source": [
    "#Создайте переменную true_story_tail типа список, занесите в него пятую строку стихотворения дважды. Скопируйте элементы списка true_story_tail в конец списка true_story_list.\n",
    "true_story_tail = []\n",
    "true_story_tail.append(true_story_list_full[4])\n",
    "true_story_tail.append(true_story_list_full[4])\n",
    "\n",
    "true_story_list.extend(true_story_tail)\n",
    "\n",
    "print('Содержимое списка true_story_list:\\n', true_story_list, '\\nКоличество элементов списка true_story_list:\\n', len(true_story_list))"
   ]
  },
  {
   "cell_type": "code",
   "execution_count": 205,
   "id": "398f3125-d910-4877-9e51-18f23b7926ce",
   "metadata": {},
   "outputs": [
    {
     "name": "stdout",
     "output_type": "stream",
     "text": [
      "Содержимое списка true_story_list:\n",
      " ['Кто битым за дедлайн был,', 'тот больше не сольется.', 'Пуд багов съевший, выше ценит чистый код.', 'Кто дошик ел, тот рейтинг ценит свой.', 'Кто крашился, тот знает, что живой.'] \n",
      "Количество элементов списка true_story_list:\n",
      " 5\n"
     ]
    }
   ],
   "source": [
    "#Удалите 5 элемент списка true_story_list.\n",
    "true_story_list.pop(4)\n",
    "\n",
    "print('Содержимое списка true_story_list:\\n', true_story_list, '\\nКоличество элементов списка true_story_list:\\n', len(true_story_list))"
   ]
  },
  {
   "cell_type": "code",
   "execution_count": 209,
   "id": "da4e306d-e4a6-4193-96af-d107c6ded90e",
   "metadata": {},
   "outputs": [
    {
     "name": "stdout",
     "output_type": "stream",
     "text": [
      "Кто битым за дедлайн был,\n",
      "тот больше не сольется.\n",
      "Пуд багов съевший, выше ценит чистый код.\n",
      "Кто дошик ел, тот рейтинг ценит свой.\n",
      "Кто крашился, тот знает, что живой.\n"
     ]
    }
   ],
   "source": [
    "#*Выведите список true_story_list красиво в виде стихотворения. (кажется, это ещё не проходили, но попробовать стоит)\n",
    "for x in true_story_list:\n",
    "    print(x)"
   ]
  },
  {
   "cell_type": "code",
   "execution_count": null,
   "id": "80782179-29ae-4eda-91a6-7126e1aeaf12",
   "metadata": {},
   "outputs": [],
   "source": []
  }
 ],
 "metadata": {
  "kernelspec": {
   "display_name": "Python 3 (ipykernel)",
   "language": "python",
   "name": "python3"
  },
  "language_info": {
   "codemirror_mode": {
    "name": "ipython",
    "version": 3
   },
   "file_extension": ".py",
   "mimetype": "text/x-python",
   "name": "python",
   "nbconvert_exporter": "python",
   "pygments_lexer": "ipython3",
   "version": "3.10.10"
  }
 },
 "nbformat": 4,
 "nbformat_minor": 5
}
