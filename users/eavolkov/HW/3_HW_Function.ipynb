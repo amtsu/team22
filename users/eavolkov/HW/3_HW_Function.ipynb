{
 "cells": [
  {
   "cell_type": "markdown",
   "id": "e93c9ed6",
   "metadata": {},
   "source": [
    "## Упражнения\n",
    "\n"
   ]
  },
  {
   "cell_type": "markdown",
   "id": "7e6740a0",
   "metadata": {},
   "source": [
    "## Написать функцию, которая превращает любую переданную ей строку в такую же строку, записанную два раза."
   ]
  },
  {
   "cell_type": "code",
   "execution_count": 3,
   "id": "031650b2",
   "metadata": {},
   "outputs": [
    {
     "name": "stdout",
     "output_type": "stream",
     "text": [
      "abcabc\n"
     ]
    }
   ],
   "source": [
    "def double_string(string):\n",
    "    return string * 2\n",
    "\n",
    "print(double_string(\"abc\"))"
   ]
  },
  {
   "cell_type": "code",
   "execution_count": null,
   "id": "b7d1e2f6",
   "metadata": {},
   "outputs": [],
   "source": []
  },
  {
   "cell_type": "code",
   "execution_count": null,
   "id": "f1bc825f",
   "metadata": {},
   "outputs": [],
   "source": []
  },
  {
   "cell_type": "code",
   "execution_count": null,
   "id": "becf6009",
   "metadata": {},
   "outputs": [],
   "source": []
  },
  {
   "cell_type": "markdown",
   "id": "5fa7a9c7",
   "metadata": {},
   "source": [
    "## Сделать в предыдущей задаче так, чтобы два повторения строки разделялись пробелами."
   ]
  },
  {
   "cell_type": "code",
   "execution_count": 9,
   "id": "c337449c",
   "metadata": {},
   "outputs": [
    {
     "name": "stdout",
     "output_type": "stream",
     "text": [
      "abc abc\n"
     ]
    }
   ],
   "source": [
    "def double_string(string):\n",
    "    return string + ' ' + string\n",
    "\n",
    "print(double_string(\"abc\"))"
   ]
  },
  {
   "cell_type": "code",
   "execution_count": null,
   "id": "4cf4d83c",
   "metadata": {},
   "outputs": [],
   "source": []
  },
  {
   "cell_type": "code",
   "execution_count": null,
   "id": "0d6c913a",
   "metadata": {},
   "outputs": [],
   "source": []
  },
  {
   "cell_type": "markdown",
   "id": "c54a9cb8",
   "metadata": {},
   "source": [
    "## Реализовать функцию, вычисляющую сумму квадратов двух переданных ей аргументов."
   ]
  },
  {
   "cell_type": "code",
   "execution_count": 13,
   "id": "ef8a7286",
   "metadata": {},
   "outputs": [
    {
     "name": "stdout",
     "output_type": "stream",
     "text": [
      "5\n"
     ]
    }
   ],
   "source": [
    "def a (x,y):\n",
    "    return (x**2 + y**2)\n",
    "print(a(1,2))\n"
   ]
  },
  {
   "cell_type": "code",
   "execution_count": 14,
   "id": "b9226535",
   "metadata": {},
   "outputs": [
    {
     "name": "stdout",
     "output_type": "stream",
     "text": [
      "89\n"
     ]
    }
   ],
   "source": [
    "i = 2\n",
    "j = 3\n",
    "def b (i,j):\n",
    "    return i**3 + j**4\n",
    "print(b(i,j))"
   ]
  },
  {
   "cell_type": "code",
   "execution_count": null,
   "id": "82c58ed6",
   "metadata": {},
   "outputs": [],
   "source": []
  },
  {
   "cell_type": "markdown",
   "id": "7542234f",
   "metadata": {},
   "source": [
    "## Реализовать функцию, вычисляющую длину гипотенузы прямоугольного треугольника. Параметры – длины катетов."
   ]
  },
  {
   "cell_type": "code",
   "execution_count": 18,
   "id": "23a4de9d",
   "metadata": {},
   "outputs": [],
   "source": [
    "plan_time_take = 5\n",
    "\n",
    "def gipotez (c,d):\n",
    "    return (c**2 + b**2)**(1/2)\n"
   ]
  },
  {
   "cell_type": "code",
   "execution_count": 19,
   "id": "fe00ae0c",
   "metadata": {},
   "outputs": [
    {
     "name": "stdout",
     "output_type": "stream",
     "text": [
      "diff =-2\n"
     ]
    }
   ],
   "source": [
    "fact_time_take = 3\n",
    "\n",
    "print('diff =%s' %(fact_time_take - plan_time_take))"
   ]
  },
  {
   "cell_type": "code",
   "execution_count": 22,
   "id": "ea02a791",
   "metadata": {},
   "outputs": [
    {
     "name": "stdout",
     "output_type": "stream",
     "text": [
      "perncent_fact_plan = 60.0\n"
     ]
    }
   ],
   "source": [
    "print('perncent_fact_plan = %s' %(fact_time_take / plan_time_take * 100))\n",
    "      "
   ]
  },
  {
   "cell_type": "code",
   "execution_count": null,
   "id": "7dee756b",
   "metadata": {},
   "outputs": [],
   "source": []
  },
  {
   "cell_type": "code",
   "execution_count": null,
   "id": "9216a07d",
   "metadata": {},
   "outputs": [],
   "source": []
  },
  {
   "cell_type": "code",
   "execution_count": null,
   "id": "908a849f",
   "metadata": {},
   "outputs": [],
   "source": []
  },
  {
   "cell_type": "markdown",
   "id": "c0e9dbe2",
   "metadata": {},
   "source": [
    "## Перепешите функцию из предыдущего задания используя следующие воодные:"
   ]
  },
  {
   "cell_type": "code",
   "execution_count": 1,
   "id": "bce23d57",
   "metadata": {},
   "outputs": [],
   "source": [
    "## не понял как делать, разбираюсь"
   ]
  },
  {
   "cell_type": "code",
   "execution_count": null,
   "id": "79b4fe85",
   "metadata": {},
   "outputs": [],
   "source": []
  },
  {
   "cell_type": "code",
   "execution_count": null,
   "id": "5f78a836",
   "metadata": {},
   "outputs": [],
   "source": []
  },
  {
   "cell_type": "markdown",
   "id": "f8b879c6",
   "metadata": {},
   "source": [
    "## Написать функцию arithmetic, принимающую 3 аргумента: первые два - числа, третий - операция, которая должна быть произведена над ними."
   ]
  },
  {
   "cell_type": "code",
   "execution_count": null,
   "id": "c07795e7",
   "metadata": {},
   "outputs": [],
   "source": [
    "## не понял как делать, разбираюсь"
   ]
  },
  {
   "cell_type": "code",
   "execution_count": null,
   "id": "b0c3cc84",
   "metadata": {},
   "outputs": [],
   "source": []
  },
  {
   "cell_type": "code",
   "execution_count": null,
   "id": "75f90953",
   "metadata": {},
   "outputs": [],
   "source": []
  },
  {
   "cell_type": "markdown",
   "id": "81512941",
   "metadata": {},
   "source": [
    "## Написать функцию square_parameters, принимающую 1 аргумент — сторону квадрата, и возвращающую 3 значения: периметр квадрата, площадь квадрата и диагональ квадрата."
   ]
  },
  {
   "cell_type": "code",
   "execution_count": null,
   "id": "e0085bdc",
   "metadata": {},
   "outputs": [],
   "source": [
    "## не понял как делать, разбираюсь"
   ]
  },
  {
   "cell_type": "code",
   "execution_count": null,
   "id": "c160f7f1",
   "metadata": {},
   "outputs": [],
   "source": []
  },
  {
   "cell_type": "code",
   "execution_count": null,
   "id": "4ecdf015",
   "metadata": {},
   "outputs": [],
   "source": []
  },
  {
   "cell_type": "markdown",
   "id": "939fcffc",
   "metadata": {},
   "source": [
    "## Написать функцию is_prime, принимающую 1 аргумент — число, и определяющее, простое оно или составное."
   ]
  },
  {
   "cell_type": "code",
   "execution_count": null,
   "id": "ac6bbbee",
   "metadata": {},
   "outputs": [],
   "source": [
    "## не понял как делать, разбираюсь"
   ]
  },
  {
   "cell_type": "code",
   "execution_count": null,
   "id": "45664f99",
   "metadata": {},
   "outputs": [],
   "source": []
  },
  {
   "cell_type": "code",
   "execution_count": null,
   "id": "925520d3",
   "metadata": {},
   "outputs": [],
   "source": []
  },
  {
   "cell_type": "markdown",
   "id": "c944bef4",
   "metadata": {},
   "source": [
    "## Написать функцию is_palindrome, принимающую 1 аргумент — строку (без пробелов, строчные буквы), и определяющее, является ли она палиндромом, т.е. читается одинаково слева направо и справа налево. Если да, вернуть True, иначе False."
   ]
  },
  {
   "cell_type": "code",
   "execution_count": null,
   "id": "66014506",
   "metadata": {},
   "outputs": [],
   "source": [
    "## не понял как делать, разбираюсь"
   ]
  },
  {
   "cell_type": "code",
   "execution_count": null,
   "id": "4fb26d6e",
   "metadata": {},
   "outputs": [],
   "source": []
  },
  {
   "cell_type": "code",
   "execution_count": null,
   "id": "67a1f7e4",
   "metadata": {},
   "outputs": [],
   "source": []
  },
  {
   "cell_type": "markdown",
   "id": "93201471",
   "metadata": {},
   "source": [
    "## Как решить предыдущую задачу с помощью срезов?"
   ]
  },
  {
   "cell_type": "code",
   "execution_count": null,
   "id": "61309534",
   "metadata": {},
   "outputs": [],
   "source": [
    "## не понял как делать, разбираюсь"
   ]
  },
  {
   "cell_type": "code",
   "execution_count": null,
   "id": "baf4eb72",
   "metadata": {},
   "outputs": [],
   "source": []
  },
  {
   "cell_type": "code",
   "execution_count": null,
   "id": "28127890",
   "metadata": {},
   "outputs": [],
   "source": []
  },
  {
   "cell_type": "markdown",
   "id": "629de3d3",
   "metadata": {},
   "source": [
    "## Как решить предыдущую задачу если сразу вернуть результат?"
   ]
  },
  {
   "cell_type": "code",
   "execution_count": null,
   "id": "0e808023",
   "metadata": {},
   "outputs": [],
   "source": [
    "## не понял как делать, разбираюсь"
   ]
  },
  {
   "cell_type": "code",
   "execution_count": null,
   "id": "11b6db3c",
   "metadata": {},
   "outputs": [],
   "source": []
  },
  {
   "cell_type": "code",
   "execution_count": null,
   "id": "aa5c5675",
   "metadata": {},
   "outputs": [],
   "source": []
  },
  {
   "cell_type": "code",
   "execution_count": null,
   "id": "1bd5be57",
   "metadata": {},
   "outputs": [],
   "source": []
  }
 ],
 "metadata": {
  "kernelspec": {
   "display_name": "Python 3 (ipykernel)",
   "language": "python",
   "name": "python3"
  },
  "language_info": {
   "codemirror_mode": {
    "name": "ipython",
    "version": 3
   },
   "file_extension": ".py",
   "mimetype": "text/x-python",
   "name": "python",
   "nbconvert_exporter": "python",
   "pygments_lexer": "ipython3",
   "version": "3.9.7"
  }
 },
 "nbformat": 4,
 "nbformat_minor": 5
}
