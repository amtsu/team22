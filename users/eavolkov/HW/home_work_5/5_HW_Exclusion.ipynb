{
 "cells": [
  {
   "cell_type": "markdown",
   "id": "5dd79b55",
   "metadata": {},
   "source": [
    "# Упражнение - исключения"
   ]
  },
  {
   "cell_type": "markdown",
   "id": "5d5aebe0",
   "metadata": {},
   "source": [
    "## Создать телефонный справочник на основе словаря Python."
   ]
  },
  {
   "cell_type": "code",
   "execution_count": 6,
   "id": "d67f5795",
   "metadata": {},
   "outputs": [],
   "source": [
    "spravochnik = {\n",
    "    \"Victor\" : 89211234354,\n",
    "    \"Mike\"   : 89134332167,\n",
    "    \"Sam\"    : 89777872356,\n",
    "    \"Nick\"   : 89785671267,\n",
    "}"
   ]
  },
  {
   "cell_type": "markdown",
   "id": "0c420523",
   "metadata": {},
   "source": [
    "Попробовать найти в этом справочнике несуществующее имя. Исследовать полученное исключение."
   ]
  },
  {
   "cell_type": "code",
   "execution_count": 9,
   "id": "2d32ed27",
   "metadata": {},
   "outputs": [
    {
     "name": "stdout",
     "output_type": "stream",
     "text": [
      "Введите значениеsam\n"
     ]
    },
    {
     "ename": "KeyError",
     "evalue": "'sam'",
     "output_type": "error",
     "traceback": [
      "\u001b[0;31m---------------------------------------------------------------------------\u001b[0m",
      "\u001b[0;31mKeyError\u001b[0m                                  Traceback (most recent call last)",
      "Cell \u001b[0;32mIn [9], line 2\u001b[0m\n\u001b[1;32m      1\u001b[0m x \u001b[38;5;241m=\u001b[39m \u001b[38;5;28minput\u001b[39m(\u001b[38;5;124m'\u001b[39m\u001b[38;5;124mВведите значение\u001b[39m\u001b[38;5;124m'\u001b[39m)\n\u001b[0;32m----> 2\u001b[0m \u001b[38;5;28mprint\u001b[39m(\u001b[43mspravochnik\u001b[49m\u001b[43m[\u001b[49m\u001b[43mx\u001b[49m\u001b[43m]\u001b[49m)\n",
      "\u001b[0;31mKeyError\u001b[0m: 'sam'"
     ]
    }
   ],
   "source": [
    "x = input('Введите значение')\n",
    "print(spravochnik[x])"
   ]
  },
  {
   "cell_type": "markdown",
   "id": "31e2111f",
   "metadata": {},
   "source": [
    "- Реализовать телефонный справочник, который выводит сообщение «Такого имени нет» при попытке найти несуществующее имя.\n",
    "- Ввод имени пользователем реализуется функцией input()."
   ]
  },
  {
   "cell_type": "code",
   "execution_count": 10,
   "id": "5ce4a68a",
   "metadata": {},
   "outputs": [],
   "source": [
    "#input('введите значение')"
   ]
  },
  {
   "cell_type": "code",
   "execution_count": 13,
   "id": "b989316d",
   "metadata": {
    "scrolled": true
   },
   "outputs": [
    {
     "name": "stdout",
     "output_type": "stream",
     "text": [
      "Введите значениеAllo\n",
      "Такого имени нет\n"
     ]
    }
   ],
   "source": [
    "x = input('Введите значение')\n",
    "try:\n",
    "    print(spravochnik[x])\n",
    "except KeyError:\n",
    "    print('Такого имени нет')"
   ]
  },
  {
   "cell_type": "markdown",
   "id": "1775e1b6",
   "metadata": {},
   "source": [
    "Реализовать телефонный справочник, который выводит сообщение «Такого имени нет» при попытке найти несуществующее имя и в любом случае в завершении выводит сообщение «Конец работы программы.»"
   ]
  },
  {
   "cell_type": "code",
   "execution_count": 14,
   "id": "17582506",
   "metadata": {},
   "outputs": [
    {
     "name": "stdout",
     "output_type": "stream",
     "text": [
      "Введите значениецц\n",
      "Такого имени нет\n",
      "Конец работы программы\n"
     ]
    }
   ],
   "source": [
    "x = input('Введите значение')\n",
    "try:\n",
    "    print(spravochnik[x])\n",
    "except KeyError:\n",
    "    print('Такого имени нет')\n",
    "finally:\n",
    "    print('Конец работы программы')"
   ]
  },
  {
   "cell_type": "markdown",
   "id": "578d4f41",
   "metadata": {},
   "source": [
    "- Реализовать функцию safe_divide, которая принимает от пользователя два целых или вещественных числа и делит одно на другое.    - Предусмотреть обработку ошибки, возникающей при делении на 0.\n",
    "- Ввод числа пользователем реализуется функцией input().\n",
    "- Синтаксис преобразования типов:\n",
    "a = float(input(\"Делимое:\"))"
   ]
  },
  {
   "cell_type": "code",
   "execution_count": 24,
   "id": "d7019e2c",
   "metadata": {},
   "outputs": [
    {
     "name": "stdout",
     "output_type": "stream",
     "text": [
      "Делимое:4\n",
      "Делитель:2\n",
      "2.0\n"
     ]
    },
    {
     "data": {
      "text/plain": [
       "2.0"
      ]
     },
     "execution_count": 24,
     "metadata": {},
     "output_type": "execute_result"
    }
   ],
   "source": [
    "def safe_divide():\n",
    "    num1 = float(input(\"Делимое:\"))\n",
    "    num2 = float(input(\"Делитель:\"))\n",
    "\n",
    "    try:\n",
    "        result = num1 / num2\n",
    "        print(result)\n",
    "        return result\n",
    "    except ZeroDivisionError:\n",
    "        print(\"На 0 делить нельзя\")\n",
    "        return \"На 0 делить нельзя\"\n",
    "safe_divide()"
   ]
  },
  {
   "cell_type": "markdown",
   "id": "d0db140d",
   "metadata": {},
   "source": [
    "- Доработать функцию safe_divide, чтобы она также обрабатывала ошибки, возникающие при вводе нечисловых символов.\n",
    "\n",
    "- подсказка\n",
    "\n",
    "- Чтобы проверить, какая ошибка возникает при вводе нечисловых символов, нужно воспроизвести эту ситуацию и посмотреть на класс ошибки в сообщении интерпретатора Python (обычно выделяется красным шрифтом)."
   ]
  },
  {
   "cell_type": "code",
   "execution_count": 30,
   "id": "d7b5948e",
   "metadata": {},
   "outputs": [
    {
     "name": "stdout",
     "output_type": "stream",
     "text": [
      "Делимое:fef\n",
      "Делитель:rg\n",
      "Нужно вводить числа!\n"
     ]
    }
   ],
   "source": [
    "def safe_divide(num1, num2):\n",
    "    try:\n",
    "        return float(num1)/float(num2)\n",
    "    except ValueError:\n",
    "        print(\"Нужно вводить числа!\")\n",
    "    except ZeroDivisionError:\n",
    "        print(\"Делить на 0 нельзя!\")\n",
    "\n",
    "safe_divide(input(\"Делимое:\"), input(\"Делитель:\"))"
   ]
  },
  {
   "cell_type": "markdown",
   "id": "ec04411d",
   "metadata": {},
   "source": [
    "- Разработать интерактивный калькулятор: пользователь вводит формулу вида «12 + 8» или «15 - 10», программа вычисляет результат. Достаточно предусмотреть только сложение и вычитание. Предполагается, что первый операнд, знак операции и второй операнд обязательно должны быть разделены пробелами.\n",
    "- Программа должна выводить сообщения об ошибках, если введена неверная формула или нечисловые символы.\n",
    "- Ожидаемый результат и часть решения:"
   ]
  },
  {
   "cell_type": "code",
   "execution_count": null,
   "id": "180a96fd",
   "metadata": {},
   "outputs": [],
   "source": []
  },
  {
   "cell_type": "code",
   "execution_count": null,
   "id": "2d0b7a74",
   "metadata": {},
   "outputs": [],
   "source": []
  },
  {
   "cell_type": "code",
   "execution_count": null,
   "id": "7b72df4c",
   "metadata": {},
   "outputs": [],
   "source": []
  },
  {
   "cell_type": "markdown",
   "id": "504ba0ca",
   "metadata": {},
   "source": [
    "- Доработать предыдущую программу, чтобы она распознавала операторы деления (/) и умножения (*), а также выводила сообщение в случае деления на 0."
   ]
  },
  {
   "cell_type": "code",
   "execution_count": null,
   "id": "10614d10",
   "metadata": {},
   "outputs": [],
   "source": []
  },
  {
   "cell_type": "code",
   "execution_count": null,
   "id": "be6dadf4",
   "metadata": {},
   "outputs": [],
   "source": []
  },
  {
   "cell_type": "code",
   "execution_count": null,
   "id": "0b5f933e",
   "metadata": {},
   "outputs": [],
   "source": []
  }
 ],
 "metadata": {
  "kernelspec": {
   "display_name": "Python 3 (ipykernel)",
   "language": "python",
   "name": "python3"
  },
  "language_info": {
   "codemirror_mode": {
    "name": "ipython",
    "version": 3
   },
   "file_extension": ".py",
   "mimetype": "text/x-python",
   "name": "python",
   "nbconvert_exporter": "python",
   "pygments_lexer": "ipython3",
   "version": "3.9.7"
  }
 },
 "nbformat": 4,
 "nbformat_minor": 5
}
