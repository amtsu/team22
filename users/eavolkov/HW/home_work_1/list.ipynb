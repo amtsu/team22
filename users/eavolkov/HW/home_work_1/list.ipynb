{
 "cells": [
  {
   "cell_type": "markdown",
   "id": "070c7c60",
   "metadata": {},
   "source": [
    "## Работа со списками"
   ]
  },
  {
   "cell_type": "code",
   "execution_count": null,
   "id": "4172856e",
   "metadata": {},
   "outputs": [],
   "source": []
  },
  {
   "cell_type": "code",
   "execution_count": null,
   "id": "dddafeeb",
   "metadata": {},
   "outputs": [],
   "source": []
  },
  {
   "cell_type": "code",
   "execution_count": null,
   "id": "1f75c46d",
   "metadata": {},
   "outputs": [],
   "source": []
  },
  {
   "cell_type": "code",
   "execution_count": null,
   "id": "9657edec",
   "metadata": {},
   "outputs": [],
   "source": [
    "delo_1 = ['сделать задание']\n",
    "delo_2 = ['посмотреть как работает задание']\n",
    "delo_3 = ['попробовать методы']\n",
    "delo_4 = ['проверить правильно ли все работает']\n",
    "delo_1.append(5)"
   ]
  },
  {
   "cell_type": "code",
   "execution_count": 2,
   "id": "f3717602",
   "metadata": {},
   "outputs": [
    {
     "data": {
      "text/plain": [
       "['сделать задание', 5]"
      ]
     },
     "execution_count": 2,
     "metadata": {},
     "output_type": "execute_result"
    }
   ],
   "source": [
    "delo_1"
   ]
  },
  {
   "cell_type": "code",
   "execution_count": 3,
   "id": "f0315e0e",
   "metadata": {},
   "outputs": [],
   "source": [
    "delo_1.append('написать функцию')"
   ]
  },
  {
   "cell_type": "code",
   "execution_count": 4,
   "id": "be6d0a3e",
   "metadata": {},
   "outputs": [
    {
     "data": {
      "text/plain": [
       "['сделать задание', 5, 'написать функцию']"
      ]
     },
     "execution_count": 4,
     "metadata": {},
     "output_type": "execute_result"
    }
   ],
   "source": [
    "delo_1"
   ]
  },
  {
   "cell_type": "code",
   "execution_count": 6,
   "id": "9114baea",
   "metadata": {},
   "outputs": [
    {
     "data": {
      "text/plain": [
       "3"
      ]
     },
     "execution_count": 6,
     "metadata": {},
     "output_type": "execute_result"
    }
   ],
   "source": [
    "len(delo_1)"
   ]
  },
  {
   "cell_type": "code",
   "execution_count": 7,
   "id": "b06f80a4",
   "metadata": {},
   "outputs": [],
   "source": [
    "list_del = [\"delo_1\", \"delo_2\", \"delo_3\"]\n"
   ]
  },
  {
   "cell_type": "code",
   "execution_count": 8,
   "id": "6084a366",
   "metadata": {},
   "outputs": [
    {
     "data": {
      "text/plain": [
       "['delo_1', 'delo_2', 'delo_3']"
      ]
     },
     "execution_count": 8,
     "metadata": {},
     "output_type": "execute_result"
    }
   ],
   "source": [
    "list_del\n"
   ]
  },
  {
   "cell_type": "code",
   "execution_count": 9,
   "id": "c8261edb",
   "metadata": {},
   "outputs": [],
   "source": [
    "list_del.extend(delo_4)"
   ]
  },
  {
   "cell_type": "code",
   "execution_count": 10,
   "id": "530ee73f",
   "metadata": {},
   "outputs": [
    {
     "data": {
      "text/plain": [
       "['delo_1', 'delo_2', 'delo_3', 'проверить правильно ли все работает']"
      ]
     },
     "execution_count": 10,
     "metadata": {},
     "output_type": "execute_result"
    }
   ],
   "source": [
    "list_del"
   ]
  },
  {
   "cell_type": "code",
   "execution_count": 11,
   "id": "77f30b56",
   "metadata": {},
   "outputs": [
    {
     "data": {
      "text/plain": [
       "4"
      ]
     },
     "execution_count": 11,
     "metadata": {},
     "output_type": "execute_result"
    }
   ],
   "source": [
    "len(list_del)"
   ]
  },
  {
   "cell_type": "code",
   "execution_count": 12,
   "id": "b56eb86a",
   "metadata": {},
   "outputs": [],
   "source": [
    "list_del.append(delo_1)"
   ]
  },
  {
   "cell_type": "code",
   "execution_count": 13,
   "id": "4bbf8e99",
   "metadata": {},
   "outputs": [
    {
     "data": {
      "text/plain": [
       "['delo_1',\n",
       " 'delo_2',\n",
       " 'delo_3',\n",
       " 'проверить правильно ли все работает',\n",
       " ['сделать задание', 5, 'написать функцию']]"
      ]
     },
     "execution_count": 13,
     "metadata": {},
     "output_type": "execute_result"
    }
   ],
   "source": [
    "list_del"
   ]
  },
  {
   "cell_type": "code",
   "execution_count": 16,
   "id": "1499da19",
   "metadata": {},
   "outputs": [],
   "source": [
    "list_del.append(delo_2)"
   ]
  },
  {
   "cell_type": "code",
   "execution_count": 17,
   "id": "4811fe07",
   "metadata": {},
   "outputs": [
    {
     "data": {
      "text/plain": [
       "['delo_1',\n",
       " 'delo_2',\n",
       " 'delo_3',\n",
       " 'проверить правильно ли все работает',\n",
       " ['сделать задание', 5, 'написать функцию'],\n",
       " ['посмотреть как работает задание']]"
      ]
     },
     "execution_count": 17,
     "metadata": {},
     "output_type": "execute_result"
    }
   ],
   "source": [
    "list_del"
   ]
  },
  {
   "cell_type": "code",
   "execution_count": 18,
   "id": "ba895f1e",
   "metadata": {},
   "outputs": [
    {
     "name": "stdout",
     "output_type": "stream",
     "text": [
      "['delo_1', 'delo_2', 'delo_3', 'проверить правильно ли все работает', ['сделать задание', 5, 'написать функцию'], ['посмотреть как работает задание']]\n"
     ]
    }
   ],
   "source": [
    "print(list_del)"
   ]
  },
  {
   "cell_type": "code",
   "execution_count": 20,
   "id": "9a7aadfb",
   "metadata": {},
   "outputs": [],
   "source": [
    "new_list_big = []"
   ]
  },
  {
   "cell_type": "code",
   "execution_count": 21,
   "id": "373b33cf",
   "metadata": {},
   "outputs": [
    {
     "data": {
      "text/plain": [
       "[]"
      ]
     },
     "execution_count": 21,
     "metadata": {},
     "output_type": "execute_result"
    }
   ],
   "source": [
    "new_list_big"
   ]
  },
  {
   "cell_type": "code",
   "execution_count": 22,
   "id": "2724c963",
   "metadata": {},
   "outputs": [],
   "source": [
    "new_list_big.append(delo_1)"
   ]
  },
  {
   "cell_type": "code",
   "execution_count": 23,
   "id": "d0655453",
   "metadata": {},
   "outputs": [],
   "source": [
    "new_list_big.append(delo_2)"
   ]
  },
  {
   "cell_type": "code",
   "execution_count": 24,
   "id": "c6bd3a8d",
   "metadata": {},
   "outputs": [],
   "source": [
    "new_list_big.append(delo_3)"
   ]
  },
  {
   "cell_type": "code",
   "execution_count": 25,
   "id": "b8fe07f6",
   "metadata": {},
   "outputs": [],
   "source": [
    "new_list_big.append(delo_4)"
   ]
  },
  {
   "cell_type": "code",
   "execution_count": 26,
   "id": "6331cb46",
   "metadata": {},
   "outputs": [
    {
     "data": {
      "text/plain": [
       "[['сделать задание', 5, 'написать функцию'],\n",
       " ['посмотреть как работает задание'],\n",
       " ['попробовать методы'],\n",
       " ['проверить правильно ли все работает']]"
      ]
     },
     "execution_count": 26,
     "metadata": {},
     "output_type": "execute_result"
    }
   ],
   "source": [
    "new_list_big"
   ]
  },
  {
   "cell_type": "code",
   "execution_count": 27,
   "id": "f1b39ee5",
   "metadata": {},
   "outputs": [
    {
     "data": {
      "text/plain": [
       "4"
      ]
     },
     "execution_count": 27,
     "metadata": {},
     "output_type": "execute_result"
    }
   ],
   "source": [
    "len(new_list_big)"
   ]
  },
  {
   "cell_type": "code",
   "execution_count": 28,
   "id": "3cd3573f",
   "metadata": {},
   "outputs": [
    {
     "data": {
      "text/plain": [
       "['сделать задание', 5, 'написать функцию']"
      ]
     },
     "execution_count": 28,
     "metadata": {},
     "output_type": "execute_result"
    }
   ],
   "source": [
    "new_list_big[0]"
   ]
  },
  {
   "cell_type": "code",
   "execution_count": 29,
   "id": "37a1a342",
   "metadata": {},
   "outputs": [
    {
     "data": {
      "text/plain": [
       "3"
      ]
     },
     "execution_count": 29,
     "metadata": {},
     "output_type": "execute_result"
    }
   ],
   "source": [
    "len(new_list_big[0])"
   ]
  },
  {
   "cell_type": "code",
   "execution_count": 31,
   "id": "cb16ba82",
   "metadata": {},
   "outputs": [
    {
     "data": {
      "text/plain": [
       "['проверить правильно ли все работает']"
      ]
     },
     "execution_count": 31,
     "metadata": {},
     "output_type": "execute_result"
    }
   ],
   "source": [
    "new_list_big[3]"
   ]
  },
  {
   "cell_type": "code",
   "execution_count": 32,
   "id": "ff0002ac",
   "metadata": {},
   "outputs": [
    {
     "data": {
      "text/plain": [
       "1"
      ]
     },
     "execution_count": 32,
     "metadata": {},
     "output_type": "execute_result"
    }
   ],
   "source": [
    "len(new_list_big[3])"
   ]
  },
  {
   "cell_type": "code",
   "execution_count": null,
   "id": "99fbe4dd",
   "metadata": {},
   "outputs": [],
   "source": [
    "new_list_2 = []"
   ]
  }
 ],
 "metadata": {
  "kernelspec": {
   "display_name": "Python 3 (ipykernel)",
   "language": "python",
   "name": "python3"
  },
  "language_info": {
   "codemirror_mode": {
    "name": "ipython",
    "version": 3
   },
   "file_extension": ".py",
   "mimetype": "text/x-python",
   "name": "python",
   "nbconvert_exporter": "python",
   "pygments_lexer": "ipython3",
   "version": "3.9.7"
  }
 },
 "nbformat": 4,
 "nbformat_minor": 5
}
