{
 "cells": [
  {
   "cell_type": "markdown",
   "id": "070c7c60",
   "metadata": {},
   "source": [
    "## Работа со списками"
   ]
  },
  {
   "cell_type": "markdown",
   "id": "6d38df47",
   "metadata": {},
   "source": [
    "## №1 Задание: создайте список дел.\n",
    "\n",
    "- Пример списка с 2 делами:\n",
    "\n",
    "- № Дело Дата до котрой нужно сделать Дата когда было сделано Дело №1 купить хлеб 28-08-2022 28-08-2022 Дело №2 помыть полы 28-08-2022 - Рекомендуемый размер списка 22 элемента.\n",
    "\n",
    "- После создания списка дел. Нужно посчитать общее количество дел в списке. Напечатать все дела Напечатать только 2 и 5 дело"
   ]
  },
  {
   "cell_type": "code",
   "execution_count": 58,
   "id": "a44db878",
   "metadata": {},
   "outputs": [
    {
     "name": "stdout",
     "output_type": "stream",
     "text": [
      "5\n"
     ]
    }
   ],
   "source": [
    "# создать список \n",
    "delo_1 = [\"сделать задание\", \"01-01-2023\", \"01-01-2023\"]\n",
    "delo_2 = [\"посмотреть как работает задание\", \"01.01.2023\",\"01.01.2023\"]\n",
    "delo_3 = [\"попробовать методы\", \"01-01-2023\", \"01-01-2023\"]\n",
    "delo_4 = [\"проверить правильно ли все работает\", \"01-01-2023\", \"01-01-2023\"]\n",
    "delo_5 = [\"купить икру\", \"01-01-2023\", \"01-01-2023\"]\n",
    "# подсчет количества дел в списке \n",
    "list_del = [delo_1, delo_2, delo_3, delo_4, delo_5]\n",
    "print(len(list_del))"
   ]
  },
  {
   "cell_type": "code",
   "execution_count": 59,
   "id": "2c6a0c8c",
   "metadata": {},
   "outputs": [
    {
     "name": "stdout",
     "output_type": "stream",
     "text": [
      "[['сделать задание', '01-01-2023', '01-01-2023'], ['посмотреть как работает задание', '01.01.2023', '01.01.2023'], ['попробовать методы', '01-01-2023', '01-01-2023'], ['проверить правильно ли все работает', '01-01-2023', '01-01-2023'], ['купить икру', '01-01-2023', '01-01-2023']]\n"
     ]
    }
   ],
   "source": [
    "# напечатать все дела\n",
    "print(list_del)"
   ]
  },
  {
   "cell_type": "code",
   "execution_count": 60,
   "id": "f7063c93",
   "metadata": {},
   "outputs": [
    {
     "name": "stdout",
     "output_type": "stream",
     "text": [
      "['посмотреть как работает задание', '01.01.2023', '01.01.2023'] ['купить икру', '01-01-2023', '01-01-2023']\n"
     ]
    }
   ],
   "source": [
    "# напчечатать дело 2 и 5\n",
    "print(delo_2, delo_5)"
   ]
  },
  {
   "cell_type": "markdown",
   "id": "979d64b2",
   "metadata": {},
   "source": [
    "## 1/1\n",
    "- Сравнить каждое дело из списка с строкой “buy bread” и если оно совпадает то напечатать YES\n",
    "\n",
    "- Если каждое дело из списка ваших дела написано на английском и является строкой то вывести длину каждой из этих строк\n",
    "\n",
    "- Напечатать yes если длина строки в которой записано дело больше 10\n",
    "\n",
    "- Напечатать дела индекс которых в списке делится без остатка на 2\n",
    "\n",
    "- Напечатать дело с индексом 1 и 4 из списка запланированных дел\n",
    "\n",
    "- Напечатать те индексы у которых значения в списке запланированных дат и списке реализованных дат равны друг другу\n",
    "\n",
    "- Вывести только те дела которые вы сделали в тот же день в который их запланировали\n",
    "\n",
    "- Посчитать сколько дел у вас было одинаковых ( т.е. если есть запись “купить хлеб” 28-08-2022 и “купить хлеб” 14-08-2022 то финально нужно вывести “купить хлеб” 2 (можно сделать 2 варианта без использования словарей и с испольщованием словарям)"
   ]
  },
  {
   "cell_type": "code",
   "execution_count": 61,
   "id": "eb4f2dca",
   "metadata": {},
   "outputs": [
    {
     "data": {
      "text/plain": [
       "[['сделать задание', '01-01-2023', '01-01-2023'],\n",
       " ['посмотреть как работает задание', '01.01.2023', '01.01.2023'],\n",
       " ['попробовать методы', '01-01-2023', '01-01-2023'],\n",
       " ['проверить правильно ли все работает', '01-01-2023', '01-01-2023'],\n",
       " ['купить икру', '01-01-2023', '01-01-2023']]"
      ]
     },
     "execution_count": 61,
     "metadata": {},
     "output_type": "execute_result"
    }
   ],
   "source": [
    "list_del"
   ]
  },
  {
   "cell_type": "code",
   "execution_count": 62,
   "id": "7f19148c",
   "metadata": {},
   "outputs": [],
   "source": [
    "a = \"купить икру\"\n",
    "for b in list_del:\n",
    "    if a == b:\n",
    "        print(a, \"yes\")"
   ]
  },
  {
   "cell_type": "code",
   "execution_count": null,
   "id": "0f4e244d",
   "metadata": {},
   "outputs": [],
   "source": []
  },
  {
   "cell_type": "code",
   "execution_count": null,
   "id": "f45a5f88",
   "metadata": {},
   "outputs": [],
   "source": []
  },
  {
   "cell_type": "markdown",
   "id": "fe82f01b",
   "metadata": {},
   "source": [
    "# №2 Задание: создайте список расхдов и доходов.\n",
    "\n",
    "#### -Пример списка доходов и расходов № Описание Сумма Дата №1 купил хлеб -50 09-08-2022 №2 купил тапочки -200 11-08-2022 №3 получил зп 50000 28-08-2022 Рекомендуемый размер списка 22 элемента. добавить к списку еще 2 действия посчитать сколько всего действий в вашем списке\n",
    "\n",
    "#### Это еще не проходили\n",
    "\n",
    "- посчитайте сколько всего вы потратили за все время\n",
    "\n",
    "- посчитать сколько трат было меньше 300 рублей\n",
    "\n",
    "- посчитать сколько сумму трат которые были больше 10000 рублей\n",
    "\n",
    "- выдать номера трат которые находятся в диапазоне между 300 и 10000 рублей\n",
    "\n",
    "- выбрать из списка на втором шаге самую минимальную трату\n",
    "\n",
    "- посчитать сколько трат было меньше 300 рублей\n",
    "\n",
    "- посчитайте сколько заработали за все время\n",
    "\n",
    "- посчитайте какие самые частые у вас траты(можно попробовать с использованием словарей)\n",
    "\n",
    "- добавить к списку еще 3 действия\n",
    "\n",
    "- Найти максимальную трату\n",
    "\n",
    "- Найти минимальный доход\n",
    "\n",
    "- Посчитать среднюю стоимость ваших трат"
   ]
  },
  {
   "cell_type": "code",
   "execution_count": null,
   "id": "9801e569",
   "metadata": {},
   "outputs": [],
   "source": []
  },
  {
   "cell_type": "code",
   "execution_count": null,
   "id": "a8cbf2eb",
   "metadata": {},
   "outputs": [],
   "source": []
  },
  {
   "cell_type": "code",
   "execution_count": null,
   "id": "10e88be6",
   "metadata": {},
   "outputs": [],
   "source": []
  },
  {
   "cell_type": "code",
   "execution_count": null,
   "id": "446200ae",
   "metadata": {},
   "outputs": [],
   "source": []
  },
  {
   "cell_type": "code",
   "execution_count": null,
   "id": "9e6fdd7b",
   "metadata": {},
   "outputs": [],
   "source": [
    "# индекс элемента:"
   ]
  },
  {
   "cell_type": "code",
   "execution_count": null,
   "id": "b9eb586d",
   "metadata": {},
   "outputs": [],
   "source": [
    "            #   -4           -3                -2                -1\n",
    "            #    0            1                 2                 3"
   ]
  },
  {
   "cell_type": "code",
   "execution_count": 6,
   "id": "7f16f13f",
   "metadata": {},
   "outputs": [],
   "source": [
    "list_1 = [\"Выпить кофе\", \"Изучить Python\", \"Захватить мир\", \"Купить хлеба\"]"
   ]
  },
  {
   "cell_type": "code",
   "execution_count": 8,
   "id": "4172856e",
   "metadata": {},
   "outputs": [
    {
     "name": "stdout",
     "output_type": "stream",
     "text": [
      "Выпить кофе\n",
      "Купить хлеба\n"
     ]
    }
   ],
   "source": [
    "print(list_1[0])\n",
    "print(list_1[-1])"
   ]
  },
  {
   "cell_type": "code",
   "execution_count": 9,
   "id": "4b79e25a",
   "metadata": {},
   "outputs": [
    {
     "name": "stdout",
     "output_type": "stream",
     "text": [
      "4\n"
     ]
    }
   ],
   "source": [
    "print(len(list_1))"
   ]
  },
  {
   "cell_type": "code",
   "execution_count": 20,
   "id": "cf7ae163",
   "metadata": {
    "scrolled": true
   },
   "outputs": [
    {
     "name": "stdout",
     "output_type": "stream",
     "text": [
      "['Выпить кофе', 'Изучить Python', 'Захватить мир']\n"
     ]
    }
   ],
   "source": [
    "# срезы\n",
    "\n",
    "print(list_1[0:3])"
   ]
  },
  {
   "cell_type": "code",
   "execution_count": 21,
   "id": "238f0b88",
   "metadata": {
    "scrolled": true
   },
   "outputs": [
    {
     "name": "stdout",
     "output_type": "stream",
     "text": [
      "['Выпить кофе', 'Изучить Python', 'Захватить мир', 'Купить хлеба', 'Купить билеты в Тайланд']\n"
     ]
    }
   ],
   "source": [
    "# .append добавление элемента в конце списка\n",
    "\n",
    "list_1.append(\"Купить билеты в Тайланд\")\n",
    "print(list_1)"
   ]
  },
  {
   "cell_type": "code",
   "execution_count": 22,
   "id": "4f20abd9",
   "metadata": {},
   "outputs": [
    {
     "name": "stdout",
     "output_type": "stream",
     "text": [
      "['Выпить кофе', 'Принять душ', 'Изучить Python', 'Захватить мир', 'Купить хлеба', 'Купить билеты в Тайланд']\n"
     ]
    }
   ],
   "source": [
    "# .insert добавление элемента на место указзанного индекса\n",
    "\n",
    "list_1.insert(1, \"Принять душ\")\n",
    "print(list_1)"
   ]
  },
  {
   "cell_type": "code",
   "execution_count": 24,
   "id": "42cecd53",
   "metadata": {},
   "outputs": [
    {
     "name": "stdout",
     "output_type": "stream",
     "text": [
      "['Выпить кофе', 'Принять душ', 'Изучить Python', 'Захватить мир', 'Купить билеты в Тайланд']\n"
     ]
    }
   ],
   "source": [
    "# .pop удаляет и возвращает из списка элемент с указыанным индексом\n",
    "\n",
    "list_1.pop(-2)\n",
    "print(list_1)"
   ]
  },
  {
   "cell_type": "code",
   "execution_count": 26,
   "id": "bd0d7c33",
   "metadata": {},
   "outputs": [
    {
     "name": "stdout",
     "output_type": "stream",
     "text": [
      "['Выпить кофе', 'Принять душ', 'Изучить Python', 'Захватить мир', 'Купить билеты в Тайланд', 'Сходить в бассейн', 'Пожарить шашлыки', 'Сходить в бассейн', 'Пожарить шашлыки']\n"
     ]
    }
   ],
   "source": [
    "# .extend расширяет список добавляя в его конец элементы из другого списка\n",
    "\n",
    "list_2 = [ \"Сходить в бассейн\", \"Пожарить шашлыки\"]\n",
    "list_1.extend(list_2)\n",
    "print(list_1)"
   ]
  },
  {
   "cell_type": "code",
   "execution_count": 27,
   "id": "26462813",
   "metadata": {},
   "outputs": [
    {
     "name": "stdout",
     "output_type": "stream",
     "text": [
      "['Сходить в бассейн']\n"
     ]
    }
   ],
   "source": [
    "# .remove удаляет элемент с переданным значением\n",
    "\n",
    "list_2.remove(\"Пожарить шашлыки\")\n",
    "print(list_2)"
   ]
  },
  {
   "cell_type": "code",
   "execution_count": 28,
   "id": "9a955729",
   "metadata": {},
   "outputs": [
    {
     "name": "stdout",
     "output_type": "stream",
     "text": [
      "2\n"
     ]
    }
   ],
   "source": [
    "# .count возвращает количество элементов с переданными в его значением\n",
    "\n",
    "print(list_1.count(\"Сходить в бассейн\"))"
   ]
  },
  {
   "cell_type": "code",
   "execution_count": 29,
   "id": "8959d5f3",
   "metadata": {},
   "outputs": [
    {
     "name": "stdout",
     "output_type": "stream",
     "text": [
      "3\n"
     ]
    }
   ],
   "source": [
    "# .index возвращает индекс заданного элемента\n",
    "\n",
    "print(list_1.index(\"Захватить мир\"))"
   ]
  },
  {
   "cell_type": "code",
   "execution_count": 31,
   "id": "2abf9f33",
   "metadata": {},
   "outputs": [
    {
     "name": "stdout",
     "output_type": "stream",
     "text": [
      "[0, 3, 23, 54, 998]\n"
     ]
    }
   ],
   "source": [
    "# .sort сортирует список на основе функций \n",
    "\n",
    "n_list = [3, 23, 54, 0, 998]\n",
    "n_list.sort()\n",
    "print(n_list)"
   ]
  },
  {
   "cell_type": "code",
   "execution_count": 32,
   "id": "588f8173",
   "metadata": {
    "scrolled": true
   },
   "outputs": [
    {
     "name": "stdout",
     "output_type": "stream",
     "text": [
      "[998, 54, 23, 3, 0]\n"
     ]
    }
   ],
   "source": [
    "# .reverse возвращает список в обратном порядке (переворачивает)\n",
    "\n",
    "n_list.reverse()\n",
    "print(n_list)"
   ]
  },
  {
   "cell_type": "code",
   "execution_count": null,
   "id": "962d4b44",
   "metadata": {},
   "outputs": [],
   "source": []
  },
  {
   "cell_type": "code",
   "execution_count": null,
   "id": "f59e6fe2",
   "metadata": {},
   "outputs": [],
   "source": []
  },
  {
   "cell_type": "code",
   "execution_count": null,
   "id": "103c2ab7",
   "metadata": {},
   "outputs": [],
   "source": []
  },
  {
   "cell_type": "code",
   "execution_count": null,
   "id": "70884441",
   "metadata": {},
   "outputs": [],
   "source": []
  },
  {
   "cell_type": "code",
   "execution_count": null,
   "id": "5f85d926",
   "metadata": {},
   "outputs": [],
   "source": []
  },
  {
   "cell_type": "code",
   "execution_count": null,
   "id": "99df035d",
   "metadata": {},
   "outputs": [],
   "source": []
  },
  {
   "cell_type": "code",
   "execution_count": null,
   "id": "782577bb",
   "metadata": {},
   "outputs": [],
   "source": []
  },
  {
   "cell_type": "code",
   "execution_count": null,
   "id": "be5e7674",
   "metadata": {},
   "outputs": [],
   "source": []
  },
  {
   "cell_type": "code",
   "execution_count": null,
   "id": "1f75c46d",
   "metadata": {},
   "outputs": [],
   "source": []
  },
  {
   "cell_type": "code",
   "execution_count": null,
   "id": "9657edec",
   "metadata": {},
   "outputs": [],
   "source": [
    "delo_1 = ['сделать задание']\n",
    "delo_2 = ['посмотреть как работает задание']\n",
    "delo_3 = ['попробовать методы']\n",
    "delo_4 = ['проверить правильно ли все работает']\n",
    "delo_1.append(5)"
   ]
  },
  {
   "cell_type": "code",
   "execution_count": 2,
   "id": "f3717602",
   "metadata": {},
   "outputs": [
    {
     "data": {
      "text/plain": [
       "['сделать задание', 5]"
      ]
     },
     "execution_count": 2,
     "metadata": {},
     "output_type": "execute_result"
    }
   ],
   "source": [
    "delo_1"
   ]
  },
  {
   "cell_type": "code",
   "execution_count": 3,
   "id": "f0315e0e",
   "metadata": {},
   "outputs": [],
   "source": [
    "delo_1.append('написать функцию')"
   ]
  },
  {
   "cell_type": "code",
   "execution_count": 4,
   "id": "be6d0a3e",
   "metadata": {},
   "outputs": [
    {
     "data": {
      "text/plain": [
       "['сделать задание', 5, 'написать функцию']"
      ]
     },
     "execution_count": 4,
     "metadata": {},
     "output_type": "execute_result"
    }
   ],
   "source": [
    "delo_1"
   ]
  },
  {
   "cell_type": "code",
   "execution_count": 6,
   "id": "9114baea",
   "metadata": {},
   "outputs": [
    {
     "data": {
      "text/plain": [
       "3"
      ]
     },
     "execution_count": 6,
     "metadata": {},
     "output_type": "execute_result"
    }
   ],
   "source": [
    "len(delo_1)"
   ]
  },
  {
   "cell_type": "code",
   "execution_count": 7,
   "id": "b06f80a4",
   "metadata": {},
   "outputs": [],
   "source": [
    "list_del = [\"delo_1\", \"delo_2\", \"delo_3\"]\n"
   ]
  },
  {
   "cell_type": "code",
   "execution_count": 8,
   "id": "6084a366",
   "metadata": {},
   "outputs": [
    {
     "data": {
      "text/plain": [
       "['delo_1', 'delo_2', 'delo_3']"
      ]
     },
     "execution_count": 8,
     "metadata": {},
     "output_type": "execute_result"
    }
   ],
   "source": [
    "list_del\n"
   ]
  },
  {
   "cell_type": "code",
   "execution_count": 9,
   "id": "c8261edb",
   "metadata": {},
   "outputs": [],
   "source": [
    "list_del.extend(delo_4)"
   ]
  },
  {
   "cell_type": "code",
   "execution_count": 10,
   "id": "530ee73f",
   "metadata": {},
   "outputs": [
    {
     "data": {
      "text/plain": [
       "['delo_1', 'delo_2', 'delo_3', 'проверить правильно ли все работает']"
      ]
     },
     "execution_count": 10,
     "metadata": {},
     "output_type": "execute_result"
    }
   ],
   "source": [
    "list_del"
   ]
  },
  {
   "cell_type": "code",
   "execution_count": 11,
   "id": "77f30b56",
   "metadata": {},
   "outputs": [
    {
     "data": {
      "text/plain": [
       "4"
      ]
     },
     "execution_count": 11,
     "metadata": {},
     "output_type": "execute_result"
    }
   ],
   "source": [
    "len(list_del)"
   ]
  },
  {
   "cell_type": "code",
   "execution_count": 12,
   "id": "b56eb86a",
   "metadata": {},
   "outputs": [],
   "source": [
    "list_del.append(delo_1)"
   ]
  },
  {
   "cell_type": "code",
   "execution_count": 13,
   "id": "4bbf8e99",
   "metadata": {},
   "outputs": [
    {
     "data": {
      "text/plain": [
       "['delo_1',\n",
       " 'delo_2',\n",
       " 'delo_3',\n",
       " 'проверить правильно ли все работает',\n",
       " ['сделать задание', 5, 'написать функцию']]"
      ]
     },
     "execution_count": 13,
     "metadata": {},
     "output_type": "execute_result"
    }
   ],
   "source": [
    "list_del"
   ]
  },
  {
   "cell_type": "code",
   "execution_count": 16,
   "id": "1499da19",
   "metadata": {},
   "outputs": [],
   "source": [
    "list_del.append(delo_2)"
   ]
  },
  {
   "cell_type": "code",
   "execution_count": 17,
   "id": "4811fe07",
   "metadata": {},
   "outputs": [
    {
     "data": {
      "text/plain": [
       "['delo_1',\n",
       " 'delo_2',\n",
       " 'delo_3',\n",
       " 'проверить правильно ли все работает',\n",
       " ['сделать задание', 5, 'написать функцию'],\n",
       " ['посмотреть как работает задание']]"
      ]
     },
     "execution_count": 17,
     "metadata": {},
     "output_type": "execute_result"
    }
   ],
   "source": [
    "list_del"
   ]
  },
  {
   "cell_type": "code",
   "execution_count": 18,
   "id": "ba895f1e",
   "metadata": {},
   "outputs": [
    {
     "name": "stdout",
     "output_type": "stream",
     "text": [
      "['delo_1', 'delo_2', 'delo_3', 'проверить правильно ли все работает', ['сделать задание', 5, 'написать функцию'], ['посмотреть как работает задание']]\n"
     ]
    }
   ],
   "source": [
    "print(list_del)"
   ]
  },
  {
   "cell_type": "code",
   "execution_count": 20,
   "id": "9a7aadfb",
   "metadata": {},
   "outputs": [],
   "source": [
    "new_list_big = []"
   ]
  },
  {
   "cell_type": "code",
   "execution_count": 21,
   "id": "373b33cf",
   "metadata": {},
   "outputs": [
    {
     "data": {
      "text/plain": [
       "[]"
      ]
     },
     "execution_count": 21,
     "metadata": {},
     "output_type": "execute_result"
    }
   ],
   "source": [
    "new_list_big"
   ]
  },
  {
   "cell_type": "code",
   "execution_count": 22,
   "id": "2724c963",
   "metadata": {},
   "outputs": [],
   "source": [
    "new_list_big.append(delo_1)"
   ]
  },
  {
   "cell_type": "code",
   "execution_count": 23,
   "id": "d0655453",
   "metadata": {},
   "outputs": [],
   "source": [
    "new_list_big.append(delo_2)"
   ]
  },
  {
   "cell_type": "code",
   "execution_count": 24,
   "id": "c6bd3a8d",
   "metadata": {},
   "outputs": [],
   "source": [
    "new_list_big.append(delo_3)"
   ]
  },
  {
   "cell_type": "code",
   "execution_count": 25,
   "id": "b8fe07f6",
   "metadata": {},
   "outputs": [],
   "source": [
    "new_list_big.append(delo_4)"
   ]
  },
  {
   "cell_type": "code",
   "execution_count": 26,
   "id": "6331cb46",
   "metadata": {},
   "outputs": [
    {
     "data": {
      "text/plain": [
       "[['сделать задание', 5, 'написать функцию'],\n",
       " ['посмотреть как работает задание'],\n",
       " ['попробовать методы'],\n",
       " ['проверить правильно ли все работает']]"
      ]
     },
     "execution_count": 26,
     "metadata": {},
     "output_type": "execute_result"
    }
   ],
   "source": [
    "new_list_big"
   ]
  },
  {
   "cell_type": "code",
   "execution_count": 27,
   "id": "f1b39ee5",
   "metadata": {},
   "outputs": [
    {
     "data": {
      "text/plain": [
       "4"
      ]
     },
     "execution_count": 27,
     "metadata": {},
     "output_type": "execute_result"
    }
   ],
   "source": [
    "len(new_list_big)"
   ]
  },
  {
   "cell_type": "code",
   "execution_count": 28,
   "id": "3cd3573f",
   "metadata": {},
   "outputs": [
    {
     "data": {
      "text/plain": [
       "['сделать задание', 5, 'написать функцию']"
      ]
     },
     "execution_count": 28,
     "metadata": {},
     "output_type": "execute_result"
    }
   ],
   "source": [
    "new_list_big[0]"
   ]
  },
  {
   "cell_type": "code",
   "execution_count": 29,
   "id": "37a1a342",
   "metadata": {},
   "outputs": [
    {
     "data": {
      "text/plain": [
       "3"
      ]
     },
     "execution_count": 29,
     "metadata": {},
     "output_type": "execute_result"
    }
   ],
   "source": [
    "len(new_list_big[0])"
   ]
  },
  {
   "cell_type": "code",
   "execution_count": 31,
   "id": "cb16ba82",
   "metadata": {},
   "outputs": [
    {
     "data": {
      "text/plain": [
       "['проверить правильно ли все работает']"
      ]
     },
     "execution_count": 31,
     "metadata": {},
     "output_type": "execute_result"
    }
   ],
   "source": [
    "new_list_big[3]"
   ]
  },
  {
   "cell_type": "code",
   "execution_count": 32,
   "id": "ff0002ac",
   "metadata": {},
   "outputs": [
    {
     "data": {
      "text/plain": [
       "1"
      ]
     },
     "execution_count": 32,
     "metadata": {},
     "output_type": "execute_result"
    }
   ],
   "source": [
    "len(new_list_big[3])"
   ]
  },
  {
   "cell_type": "code",
   "execution_count": null,
   "id": "99fbe4dd",
   "metadata": {},
   "outputs": [],
   "source": [
    "new_list_2 = []"
   ]
  }
 ],
 "metadata": {
  "kernelspec": {
   "display_name": "Python 3 (ipykernel)",
   "language": "python",
   "name": "python3"
  },
  "language_info": {
   "codemirror_mode": {
    "name": "ipython",
    "version": 3
   },
   "file_extension": ".py",
   "mimetype": "text/x-python",
   "name": "python",
   "nbconvert_exporter": "python",
   "pygments_lexer": "ipython3",
   "version": "3.9.7"
  }
 },
 "nbformat": 4,
 "nbformat_minor": 5
}
