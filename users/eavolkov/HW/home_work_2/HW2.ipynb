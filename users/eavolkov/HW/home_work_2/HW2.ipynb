{
 "cells": [
  {
   "cell_type": "markdown",
   "id": "bcd9f39f",
   "metadata": {},
   "source": [
    "## Упражнения"
   ]
  },
  {
   "cell_type": "markdown",
   "id": "c8abd519",
   "metadata": {},
   "source": [
    "## 1. Любимые вещи\n",
    "\n",
    "Создайте список своих любимых развлечений и сохраните его в пере- менной games. Теперь создайте список любимых лакомств, сохранив его в переменной foods. Объедините два этих списка, сохранив результат в переменной favorites, и напечатайте значение этой переменной."
   ]
  },
  {
   "cell_type": "code",
   "execution_count": 21,
   "id": "c7a97965",
   "metadata": {},
   "outputs": [
    {
     "name": "stdout",
     "output_type": "stream",
     "text": [
      "[['sport', 'fly', 'drink', 'sweet', 'meat', 'whiskey']]\n"
     ]
    }
   ],
   "source": [
    "games = ['sport', 'fly', 'drink'] \n",
    "foods = ['sweet', 'meat', 'whiskey']\n",
    "favorites = [games + foods]\n",
    "print(favorites)"
   ]
  },
  {
   "cell_type": "code",
   "execution_count": null,
   "id": "aade51ec",
   "metadata": {},
   "outputs": [],
   "source": []
  },
  {
   "cell_type": "code",
   "execution_count": null,
   "id": "c6ad8fe4",
   "metadata": {},
   "outputs": [],
   "source": []
  },
  {
   "cell_type": "markdown",
   "id": "191c29cd",
   "metadata": {},
   "source": [
    "## 2. Подсчет воинов\n",
    "\n",
    "Есть 3 дома, на крыше каждого из которых прячутся по 25 ниндзя, и есть 2 туннеля, в каждом из которых скрывается по 40 самураев. Сколько все- го воинов решили устроить заварушку? (Ответ можно найти, введя в обо- лочке Python арифметическое выражение.)"
   ]
  },
  {
   "cell_type": "code",
   "execution_count": 1,
   "id": "5d1f68b6",
   "metadata": {},
   "outputs": [
    {
     "name": "stdout",
     "output_type": "stream",
     "text": [
      "155\n"
     ]
    }
   ],
   "source": [
    "home = 3\n",
    "ninja = 25\n",
    "tunnel = 2\n",
    "samurai = 40\n",
    "ninja2 = home * ninja\n",
    "samurai2 = tunnel * samurai\n",
    "print (ninja2 + samurai2)"
   ]
  },
  {
   "cell_type": "code",
   "execution_count": null,
   "id": "0e882d1f",
   "metadata": {},
   "outputs": [],
   "source": []
  },
  {
   "cell_type": "code",
   "execution_count": null,
   "id": "abb63260",
   "metadata": {},
   "outputs": [],
   "source": []
  },
  {
   "cell_type": "markdown",
   "id": "fbdaba5a",
   "metadata": {},
   "source": [
    "## 3. Приветствие\n",
    "\n",
    "Создайте две переменные: пусть одна хранит ваше имя, а другая фами- лию. Теперь с помощью строки с метками %s напечатайте приветствие вроде такого: «Привет, Брандо Икетт!»."
   ]
  },
  {
   "cell_type": "code",
   "execution_count": 26,
   "id": "8315d01e",
   "metadata": {},
   "outputs": [
    {
     "name": "stdout",
     "output_type": "stream",
     "text": [
      "«Привет, Eduard Volkov!»\n"
     ]
    }
   ],
   "source": [
    "def func (name, surname):\n",
    "    print('«Привет, %s %s!»' % (name, surname))\n",
    "func ('Eduard', 'Volkov')"
   ]
  },
  {
   "cell_type": "code",
   "execution_count": null,
   "id": "6aff94fa",
   "metadata": {},
   "outputs": [],
   "source": []
  },
  {
   "cell_type": "code",
   "execution_count": null,
   "id": "92ee9316",
   "metadata": {},
   "outputs": [],
   "source": []
  },
  {
   "cell_type": "code",
   "execution_count": null,
   "id": "122c819e",
   "metadata": {},
   "outputs": [],
   "source": []
  },
  {
   "cell_type": "markdown",
   "id": "81906c80",
   "metadata": {},
   "source": [
    "## Упражнение 2\n"
   ]
  },
  {
   "cell_type": "markdown",
   "id": "d414b857",
   "metadata": {},
   "source": [
    "Решите эти задачи, используя конструкции if и условия. \n",
    "\n",
    "## 1. Вы богаты? \n",
    "\n",
    "Как думаете, что делает этот код? Сначала попробуйте в этом разобрать- ся, не вводя код в оболочку Python, а затем проверьте свой ответ. "
   ]
  },
  {
   "cell_type": "code",
   "execution_count": 18,
   "id": "922ef101",
   "metadata": {
    "scrolled": true
   },
   "outputs": [
    {
     "name": "stdout",
     "output_type": "stream",
     "text": [
      "Я богат!\n"
     ]
    }
   ],
   "source": [
    "money = 2000\n",
    "if money > 1999:                            ## Если заданное значение больше интересующего 2000>1999, то\n",
    "     print(\"Я богат!\")                      ## Выполняется данный вывод \n",
    "else:                                       ## Если заданное значение меньше интересующего 2000>2001, то\n",
    "     print(\"Я не богат!\")                   ## Выполняется данный вывод \n",
    "     print(\"Может, когда-нибудь потом...\")"
   ]
  },
  {
   "cell_type": "code",
   "execution_count": null,
   "id": "43daf8e6",
   "metadata": {},
   "outputs": [],
   "source": []
  },
  {
   "cell_type": "code",
   "execution_count": null,
   "id": "a524279e",
   "metadata": {},
   "outputs": [],
   "source": []
  },
  {
   "cell_type": "code",
   "execution_count": null,
   "id": "a4f20bd0",
   "metadata": {},
   "outputs": [],
   "source": []
  },
  {
   "cell_type": "markdown",
   "id": "f160f0fa",
   "metadata": {},
   "source": [
    "## 2. Бисквитики!\n",
    "\n",
    "Создайте конструкцию if, которая проверяет, действительно ли коли- чество бисквитов (которое задано в переменной twinkies) меньше 100 или больше 500. Если это условие выполняется, пусть ваша программа напечатает сообщение «Слишком мало или слишком много»."
   ]
  },
  {
   "cell_type": "code",
   "execution_count": 36,
   "id": "d593481f",
   "metadata": {},
   "outputs": [
    {
     "name": "stdout",
     "output_type": "stream",
     "text": [
      "слишком мало\n"
     ]
    }
   ],
   "source": [
    "twinkies = 500\n",
    "if twinkies > 100:\n",
    "    print('слишком мало')\n",
    "else:\n",
    "    print('слишком много')\n",
    "    "
   ]
  },
  {
   "cell_type": "code",
   "execution_count": 33,
   "id": "b14e345c",
   "metadata": {},
   "outputs": [
    {
     "name": "stdout",
     "output_type": "stream",
     "text": [
      "слишком много\n"
     ]
    }
   ],
   "source": [
    "twinkies = 500\n",
    "if twinkies < 100:\n",
    "    print('слишком мало')\n",
    "else:\n",
    "    print('слишком много')"
   ]
  },
  {
   "cell_type": "code",
   "execution_count": 42,
   "id": "dd63234d",
   "metadata": {},
   "outputs": [
    {
     "name": "stdout",
     "output_type": "stream",
     "text": [
      "слишком мало\n"
     ]
    }
   ],
   "source": [
    "twinkies = 500\n",
    "if twinkies > 100:\n",
    "    print('слишком мало')\n",
    "if twinkies < 100:\n",
    "    print('слишком много')"
   ]
  },
  {
   "cell_type": "code",
   "execution_count": 49,
   "id": "7010e7b0",
   "metadata": {},
   "outputs": [
    {
     "name": "stdout",
     "output_type": "stream",
     "text": [
      "слишком много\n"
     ]
    }
   ],
   "source": [
    "twinkies = 102\n",
    "if twinkies > 500 and twinkies < 100:\n",
    "    print('слишком мало')\n",
    "else:\n",
    "    print('слишком много')"
   ]
  },
  {
   "cell_type": "markdown",
   "id": "71b58322",
   "metadata": {},
   "source": [
    "## 3. Подходящая сумма\n",
    "\n",
    "Создайте конструкцию if, которая проверяет, соответствует ли задан- ная в переменной money сумма денег диапазону значений от 100 до 500 или диапазону значений от 1000 до 5000."
   ]
  },
  {
   "cell_type": "code",
   "execution_count": 51,
   "id": "9c7a0560",
   "metadata": {},
   "outputs": [
    {
     "name": "stdout",
     "output_type": "stream",
     "text": [
      "подходит\n",
      "не подходит\n"
     ]
    }
   ],
   "source": [
    "money = 200\n",
    "if money > 100 and money < 500:\n",
    "    print('подходит')\n",
    "else:\n",
    "    print('не подходит')\n",
    "    \n",
    "money = 200\n",
    "if money > 1000 and money < 5000:\n",
    "     print('подходит')\n",
    "else:\n",
    "    print('не подходит')"
   ]
  },
  {
   "cell_type": "code",
   "execution_count": 52,
   "id": "a089a40b",
   "metadata": {},
   "outputs": [
    {
     "name": "stdout",
     "output_type": "stream",
     "text": [
      "подходит\n"
     ]
    }
   ],
   "source": [
    "money = 200\n",
    "if (money > 100 and money < 500) or (money > 1000 and money < 5000):\n",
    "    print('подходит')\n",
    "else:\n",
    "    print('не подходит')"
   ]
  },
  {
   "cell_type": "code",
   "execution_count": null,
   "id": "be8f4186",
   "metadata": {},
   "outputs": [],
   "source": []
  },
  {
   "cell_type": "markdown",
   "id": "db0e33a9",
   "metadata": {},
   "source": [
    "## 4. Я одолею этих ниндзя!\n",
    "\n",
    "Создайте конструкцию if, которая печатает строку «Их слишком мно- го», если количество ниндзя (заданное в переменной ninjas) меньше 50, печатает «Будет непросто, но я с ними разделаюсь», если это количество меньше 30, и печатает «Я одолею этих ниндзя!», если количество мень- ше 10. Проверьте, как ваш код работает с таким значением:\n",
    "\n",
    "ninjas = 5"
   ]
  },
  {
   "cell_type": "code",
   "execution_count": 56,
   "id": "a1545244",
   "metadata": {},
   "outputs": [
    {
     "name": "stdout",
     "output_type": "stream",
     "text": [
      "Я одолею этих ниндзя!\n"
     ]
    }
   ],
   "source": [
    "ninjas = 5\n",
    "if ninjas < 50 and ninjas < 30 and ninjas < 10:\n",
    "    print('Я одолею этих ниндзя!')\n",
    "elif ninjas < 50 and ninjas < 30:   \n",
    "    print('Будет непросто, но я с ними разделаюсь')\n",
    "elif ninjas < 50:\n",
    "    print('Их слишком много')"
   ]
  },
  {
   "cell_type": "code",
   "execution_count": 57,
   "id": "596841c3",
   "metadata": {},
   "outputs": [
    {
     "name": "stdout",
     "output_type": "stream",
     "text": [
      "Я одолею этих ниндзя!\n"
     ]
    }
   ],
   "source": [
    "ninjas = 5\n",
    "if ninjas < 10:\n",
    "    print('Я одолею этих ниндзя!')\n",
    "elif ninjas < 30:   \n",
    "    print('Будет непросто, но я с ними разделаюсь')\n",
    "elif ninjas < 50:\n",
    "    print('Их слишком много')"
   ]
  },
  {
   "cell_type": "code",
   "execution_count": null,
   "id": "94b4ed96",
   "metadata": {},
   "outputs": [],
   "source": []
  },
  {
   "cell_type": "markdown",
   "id": "1d49fc7c",
   "metadata": {},
   "source": [
    "## Упражнение 3"
   ]
  },
  {
   "cell_type": "markdown",
   "id": "da0ecc6c",
   "metadata": {},
   "source": [
    "## 1. Цикл с приветом\n",
    "\n",
    "Как вы считаете, что делает эта программа? Сперва придумайте вариант ответа, а потом запустите код и проверьте, угадали ли вы."
   ]
  },
  {
   "cell_type": "code",
   "execution_count": 59,
   "id": "22a40742",
   "metadata": {},
   "outputs": [
    {
     "name": "stdout",
     "output_type": "stream",
     "text": [
      "привет 0\n"
     ]
    }
   ],
   "source": [
    "for x in range(0, 20): \n",
    "    print('привет %s' % x) \n",
    "    if x < 9: \n",
    "        break"
   ]
  },
  {
   "cell_type": "code",
   "execution_count": null,
   "id": "5e535401",
   "metadata": {},
   "outputs": [],
   "source": []
  },
  {
   "cell_type": "markdown",
   "id": "334d3754",
   "metadata": {},
   "source": [
    "## 2. Четные числа"
   ]
  },
  {
   "cell_type": "markdown",
   "id": "1c46f578",
   "metadata": {},
   "source": [
    "Создайте цикл, который печатает четные числа до тех пор, пока не выве- дет ваш возраст. Если ваш возраст — нечетное число, создайте цикл, ко- торый печатает нечетные числа до совпадения с возрастом. Программа должна выводить на экран нечто подобное:\n",
    "\n",
    "2 4 6 8 10 12 14"
   ]
  },
  {
   "cell_type": "code",
   "execution_count": 62,
   "id": "845114b1",
   "metadata": {
    "scrolled": true
   },
   "outputs": [
    {
     "name": "stdout",
     "output_type": "stream",
     "text": [
      "1\n",
      "3\n",
      "5\n",
      "7\n",
      "9\n",
      "11\n",
      "13\n",
      "15\n",
      "17\n",
      "19\n",
      "21\n",
      "23\n",
      "25\n",
      "27\n"
     ]
    }
   ],
   "source": [
    "x = 1\n",
    "while x <= 27:\n",
    "    print(x)\n",
    "    x = x + 2"
   ]
  },
  {
   "cell_type": "code",
   "execution_count": null,
   "id": "279e5fbe",
   "metadata": {},
   "outputs": [],
   "source": []
  },
  {
   "cell_type": "markdown",
   "id": "d45d6e9f",
   "metadata": {},
   "source": [
    "## 3. Пять любимых ингредиентов"
   ]
  },
  {
   "cell_type": "markdown",
   "id": "82b309a7",
   "metadata": {},
   "source": [
    "Создайте список с пятью разными ингредиентами для бутерброда, напо- добие:\n",
    "\n",
    "ingredients = ['слизни', 'пиявки', 'катышки изпупка гориллы', 'брови гусеницы', 'пальцы многоножки']\n",
    "\n",
    "Теперь создайте цикл, который печатает список ингредиентов с нуме- рацией:\n",
    "\n",
    "1 слизни 2 пиявки 3 катышки изпупка гориллы 4 брови гусеницы 5 пальцы многоножки"
   ]
  },
  {
   "cell_type": "code",
   "execution_count": 12,
   "id": "4557df83",
   "metadata": {},
   "outputs": [
    {
     "name": "stdout",
     "output_type": "stream",
     "text": [
      "1 колбаса\n",
      "2 сыр\n",
      "3 хлеб\n",
      "4 помидор\n",
      "5 майонез\n"
     ]
    }
   ],
   "source": [
    "ingredients = ['колбаса', 'сыр', 'хлеб', 'помидор', 'майонез']\n",
    "for i in range(len(ingredients)):\n",
    "    print(\"%d %s\" % (i + 1, ingredients[i]))"
   ]
  },
  {
   "cell_type": "code",
   "execution_count": null,
   "id": "1d50edf5",
   "metadata": {},
   "outputs": [],
   "source": []
  },
  {
   "cell_type": "code",
   "execution_count": null,
   "id": "e0640c00",
   "metadata": {},
   "outputs": [],
   "source": []
  },
  {
   "cell_type": "markdown",
   "id": "dc1d4407",
   "metadata": {},
   "source": [
    "## 4. Ваш лунный вес"
   ]
  },
  {
   "cell_type": "markdown",
   "id": "d12178f8",
   "metadata": {},
   "source": [
    "Если бы вы сейчас были на Луне, ваш вес составил бы 16,5 процентов от земного. Чтобы узнать, сколько это, умножьте свой земной вес на 0,165.\n",
    "\n",
    "Если бы каждый год в течение следующих 15 лет вы прибавляли по одному килограмму веса, каким бы оказался ваш лунный вес в каж- дый из ежегодных визитов на Луну вплоть до 15-го года? Напишите про- грамму, которая с помощью цикла for печатает на экране ваш лунный\n",
    "\n",
    "вес в каждом году.\n",
    "\n"
   ]
  },
  {
   "cell_type": "code",
   "execution_count": null,
   "id": "288aab9d",
   "metadata": {},
   "outputs": [],
   "source": []
  },
  {
   "cell_type": "code",
   "execution_count": null,
   "id": "5d1846c6",
   "metadata": {},
   "outputs": [],
   "source": []
  },
  {
   "cell_type": "code",
   "execution_count": null,
   "id": "5dd45362",
   "metadata": {},
   "outputs": [],
   "source": []
  },
  {
   "cell_type": "markdown",
   "id": "889f5026",
   "metadata": {},
   "source": [
    "## Упражнения 4"
   ]
  },
  {
   "cell_type": "markdown",
   "id": "99e0cab6",
   "metadata": {},
   "source": [
    "## 1. Функция лунного веса"
   ]
  },
  {
   "cell_type": "markdown",
   "id": "2dcd4d2a",
   "metadata": {},
   "source": [
    "Измените функцию из предыдущего задания так, чтобы с ее помощью можно было рассчитывать вес для разного количества лет, например 5 или 20 лет. Пусть эта функция принимает три аргумента: начальный вес, прибавку веса в год и количество лет:\n",
    "\n",
    "  moon_weight(90, 0.25, 5)"
   ]
  },
  {
   "cell_type": "code",
   "execution_count": null,
   "id": "3d31b13e",
   "metadata": {},
   "outputs": [],
   "source": []
  },
  {
   "cell_type": "code",
   "execution_count": null,
   "id": "e93ce679",
   "metadata": {},
   "outputs": [],
   "source": []
  },
  {
   "cell_type": "code",
   "execution_count": null,
   "id": "65d28c41",
   "metadata": {},
   "outputs": [],
   "source": []
  },
  {
   "cell_type": "code",
   "execution_count": null,
   "id": "eb6f84d2",
   "metadata": {},
   "outputs": [],
   "source": []
  }
 ],
 "metadata": {
  "kernelspec": {
   "display_name": "Python 3 (ipykernel)",
   "language": "python",
   "name": "python3"
  },
  "language_info": {
   "codemirror_mode": {
    "name": "ipython",
    "version": 3
   },
   "file_extension": ".py",
   "mimetype": "text/x-python",
   "name": "python",
   "nbconvert_exporter": "python",
   "pygments_lexer": "ipython3",
   "version": "3.9.7"
  }
 },
 "nbformat": 4,
 "nbformat_minor": 5
}
