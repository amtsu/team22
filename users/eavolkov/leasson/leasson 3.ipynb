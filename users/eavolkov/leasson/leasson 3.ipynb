{
 "cells": [
  {
   "cell_type": "code",
   "execution_count": 9,
   "id": "5b0b971c",
   "metadata": {},
   "outputs": [
    {
     "name": "stdout",
     "output_type": "stream",
     "text": [
      "{'ann': '+714555555', 'nick': '+703529555', 'jon': '+7835235355', 'mike': '+73532535', 'sun': '+753253532'}\n"
     ]
    }
   ],
   "source": [
    "phones = {'ann': '+714555555',\n",
    "          'nick': '+703529555',\n",
    "          'jon': '+7835235355',\n",
    "          'mike': '+73532535',\n",
    "         'sun': '+753253532',        \n",
    "         }\n",
    "print(phones)"
   ]
  },
  {
   "cell_type": "code",
   "execution_count": 11,
   "id": "f4b35313",
   "metadata": {},
   "outputs": [
    {
     "ename": "IndentationError",
     "evalue": "expected an indented block (3966692209.py, line 3)",
     "output_type": "error",
     "traceback": [
      "\u001b[0;36m  Cell \u001b[0;32mIn [11], line 3\u001b[0;36m\u001b[0m\n\u001b[0;31m    print (phones[k])\u001b[0m\n\u001b[0m    ^\u001b[0m\n\u001b[0;31mIndentationError\u001b[0m\u001b[0;31m:\u001b[0m expected an indented block\n"
     ]
    }
   ],
   "source": [
    "for k in phones.keys():\n",
    "    \n",
    "    "
   ]
  },
  {
   "cell_type": "code",
   "execution_count": null,
   "id": "fb68c461",
   "metadata": {},
   "outputs": [],
   "source": [
    "matrix_1 = []"
   ]
  }
 ],
 "metadata": {
  "kernelspec": {
   "display_name": "Python 3 (ipykernel)",
   "language": "python",
   "name": "python3"
  },
  "language_info": {
   "codemirror_mode": {
    "name": "ipython",
    "version": 3
   },
   "file_extension": ".py",
   "mimetype": "text/x-python",
   "name": "python",
   "nbconvert_exporter": "python",
   "pygments_lexer": "ipython3",
   "version": "3.9.7"
  }
 },
 "nbformat": 4,
 "nbformat_minor": 5
}
