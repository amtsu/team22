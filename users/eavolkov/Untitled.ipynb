{
 "cells": [
  {
   "cell_type": "code",
   "execution_count": 1,
   "id": "3991537e",
   "metadata": {},
   "outputs": [
    {
     "data": {
      "text/plain": [
       "'/home/jupyter-eawolkov/github/team22/users/eavolkov'"
      ]
     },
     "execution_count": 1,
     "metadata": {},
     "output_type": "execute_result"
    }
   ],
   "source": [
    "pwd"
   ]
  },
  {
   "cell_type": "code",
   "execution_count": 2,
   "id": "6481ebb2",
   "metadata": {},
   "outputs": [
    {
     "name": "stdout",
     "output_type": "stream",
     "text": [
      "/home/jupyter-eawolkov/github/team22\n"
     ]
    }
   ],
   "source": [
    "cd ~/github/team22"
   ]
  },
  {
   "cell_type": "code",
   "execution_count": 3,
   "id": "41762493",
   "metadata": {},
   "outputs": [
    {
     "data": {
      "text/plain": [
       "'/home/jupyter-eawolkov/github/team22'"
      ]
     },
     "execution_count": 3,
     "metadata": {},
     "output_type": "execute_result"
    }
   ],
   "source": [
    "pwd"
   ]
  },
  {
   "cell_type": "code",
   "execution_count": 4,
   "id": "8e5b04ec",
   "metadata": {},
   "outputs": [
    {
     "name": "stdout",
     "output_type": "stream",
     "text": [
      "M\tlibrary/theory/introduction.ipynb\r\n",
      "M\tlibrary/theory/type_integer.ipynb\r\n",
      "M\tlibrary/theory/type_list.ipynb\r\n",
      "M\tlibrary/theory/type_string.ipynb\r\n",
      "M\tlibrary/theory/variables.ipynb\r\n",
      "Already on 'main'\r\n",
      "Your branch is up to date with 'origin/main'.\r\n"
     ]
    }
   ],
   "source": [
    "!git checkout main"
   ]
  },
  {
   "cell_type": "code",
   "execution_count": 5,
   "id": "eeece8df",
   "metadata": {},
   "outputs": [
    {
     "name": "stdout",
     "output_type": "stream",
     "text": [
      "Warning: Permanently added the ECDSA host key for IP address '140.82.121.4' to the list of known hosts.\n",
      "remote: Enumerating objects: 154, done.\u001b[K\n",
      "remote: Counting objects: 100% (154/154), done.\u001b[K\n",
      "remote: Compressing objects: 100% (61/61), done.\u001b[K\n",
      "remote: Total 154 (delta 86), reused 147 (delta 79), pack-reused 0\u001b[K\n",
      "Receiving objects: 100% (154/154), 629.86 KiB | 294.00 KiB/s, done.\n",
      "Resolving deltas: 100% (86/86), completed with 11 local objects.\n",
      "From github.com:amtsu/team22\n",
      "   9ece637..faccc35  main                   -> origin/main\n",
      "   f7dc21c..0f82881  andreev-aleksey        -> origin/andreev-aleksey\n",
      "   da1b4a4..83c191d  andreev-alexander      -> origin/andreev-alexander\n",
      " * [new branch]      ersaliev               -> origin/ersaliev\n",
      " * [new branch]      home_work_03_andreev-aleksey -> origin/home_work_03_andreev-aleksey\n",
      " * [new branch]      home_work_03_andreev-alexander -> origin/home_work_03_andreev-alexander\n",
      " * [new branch]      home_work_1_adkazdym   -> origin/home_work_1_adkazdym\n",
      " * [new branch]      home_work_1_alzharin   -> origin/home_work_1_alzharin\n",
      " * [new branch]      home_work_1_amtsurkov  -> origin/home_work_1_amtsurkov\n",
      " * [new branch]      home_work_2_alzharin   -> origin/home_work_2_alzharin\n",
      " * [new branch]      home_work_2_vssachenko -> origin/home_work_2_vssachenko\n",
      " * [new branch]      home_work_spiski_ADKazdym -> origin/home_work_spiski_ADKazdym\n",
      " * [new branch]      homework_1_AndVlIv     -> origin/homework_1_AndVlIv\n",
      " * [new branch]      irsalieva              -> origin/irsalieva\n",
      "   6b2cc8c..382bae2  sivanov_bot            -> origin/sivanov_bot\n",
      "Updating 9ece637..faccc35\n",
      "Fast-forward\n",
      " library/theory/python_basics.ipynb                 | 3905 \u001b[32m+++++++++++++\u001b[m\n",
      " library/theory/python_basics_2.ipynb               | 5960 \u001b[32m++++++++++++++++++++\u001b[m\n",
      " users/amtsurkov/lesson_1.ipynb                     |    2 \u001b[32m+\u001b[m\u001b[31m-\u001b[m\n",
      " users/amtsurkov/lesson_1_work_1_v3.ipynb           |   10 \u001b[32m+\u001b[m\u001b[31m-\u001b[m\n",
      " users/amtsurkov/lesson_2.ipynb                     |   10 \u001b[32m+\u001b[m\u001b[31m-\u001b[m\n",
      " .../amtsurkov/lesson_22/dags/SparPageProcessing.py |   22 \u001b[32m+\u001b[m\n",
      " users/amtsurkov/lesson_24/lesson_24.ipynb          |   28 \u001b[32m+\u001b[m\u001b[31m-\u001b[m\n",
      " users/amtsurkov/lesson_25/lesson_25.ipynb          |  596 \u001b[32m+\u001b[m\u001b[31m-\u001b[m\n",
      " .../lesson_22_hw/dag_sivanov_do_parse_22.py        |   46 \u001b[32m+\u001b[m\n",
      " .../lessons/lesson_22_hw/dag_sivanov_test1.py      |   30 \u001b[32m+\u001b[m\n",
      " .../lessons/lesson_22_hw/lesson_21_hw_new.ipynb    |  513 \u001b[32m++\u001b[m\n",
      " .../lessons/lesson_22_hw/parsers/.gitignore        |    3 \u001b[32m+\u001b[m\n",
      " .../lessons/lesson_22_hw/parsers/__init__.py       |   11 \u001b[32m+\u001b[m\n",
      " .../lessons/lesson_22_hw/parsers/do_parse.py       |  142 \u001b[32m+\u001b[m\n",
      " .../lessons/lesson_22_hw/parsers/getdatafrom.py    |  509 \u001b[32m++\u001b[m\n",
      " .../lessons/lesson_22_hw/parsers/json/ctlnk1.json  |   33 \u001b[32m+\u001b[m\n",
      " .../lesson_22_hw/parsers/json/metrocc1.json        |   33 \u001b[32m+\u001b[m\n",
      " .../lesson_22_hw/parsers/json/parse_220v1.json     |   33 \u001b[32m+\u001b[m\n",
      " .../lesson_22_hw/parsers/json/parse_220v2.json     |   33 \u001b[32m+\u001b[m\n",
      " .../lesson_22_hw/parsers/json/parse_smara1.json    |   33 \u001b[32m+\u001b[m\n",
      " .../lesson_22_hw/parsers/json/parse_smara2.json    |   33 \u001b[32m+\u001b[m\n",
      " .../lesson_22_hw/parsers/json/parse_smstr1.json    |   33 \u001b[32m+\u001b[m\n",
      " .../lesson_22_hw/parsers/json/parse_tkturin1.json  |   33 \u001b[32m+\u001b[m\n",
      " .../lesson_22_hw/parsers/json/parse_tkturin2.json  |   33 \u001b[32m+\u001b[m\n",
      " .../lesson_22_hw/parsers/json/parse_uley1.json     |   33 \u001b[32m+\u001b[m\n",
      " .../lesson_22_hw/parsers/json/parse_uley2.json     |   33 \u001b[32m+\u001b[m\n",
      " .../lessons/lesson_22_hw/parsers/json/smstr2.json  |   33 \u001b[32m+\u001b[m\n",
      " .../lessons/lesson_22_hw/parsers/json/trsprt1.json |   33 \u001b[32m+\u001b[m\n",
      " .../lesson_22_hw/parsers/test_getdatafrom.py       |  314 \u001b[32m++\u001b[m\n",
      " .../lessons/lesson_22_hw/parsers/usefulstuff.py    |  109 \u001b[32m+\u001b[m\n",
      " 30 files changed, 12587 insertions(+), 52 deletions(-)\n",
      " create mode 100644 library/theory/python_basics.ipynb\n",
      " create mode 100644 library/theory/python_basics_2.ipynb\n",
      " create mode 100644 users/sivanov/lessons/lesson_22_hw/dag_sivanov_do_parse_22.py\n",
      " create mode 100755 users/sivanov/lessons/lesson_22_hw/dag_sivanov_test1.py\n",
      " create mode 100644 users/sivanov/lessons/lesson_22_hw/lesson_21_hw_new.ipynb\n",
      " create mode 100644 users/sivanov/lessons/lesson_22_hw/parsers/.gitignore\n",
      " create mode 100644 users/sivanov/lessons/lesson_22_hw/parsers/__init__.py\n",
      " create mode 100644 users/sivanov/lessons/lesson_22_hw/parsers/do_parse.py\n",
      " create mode 100644 users/sivanov/lessons/lesson_22_hw/parsers/getdatafrom.py\n",
      " create mode 100644 users/sivanov/lessons/lesson_22_hw/parsers/json/ctlnk1.json\n",
      " create mode 100644 users/sivanov/lessons/lesson_22_hw/parsers/json/metrocc1.json\n",
      " create mode 100644 users/sivanov/lessons/lesson_22_hw/parsers/json/parse_220v1.json\n",
      " create mode 100644 users/sivanov/lessons/lesson_22_hw/parsers/json/parse_220v2.json\n",
      " create mode 100644 users/sivanov/lessons/lesson_22_hw/parsers/json/parse_smara1.json\n",
      " create mode 100644 users/sivanov/lessons/lesson_22_hw/parsers/json/parse_smara2.json\n",
      " create mode 100644 users/sivanov/lessons/lesson_22_hw/parsers/json/parse_smstr1.json\n",
      " create mode 100644 users/sivanov/lessons/lesson_22_hw/parsers/json/parse_tkturin1.json\n",
      " create mode 100644 users/sivanov/lessons/lesson_22_hw/parsers/json/parse_tkturin2.json\n",
      " create mode 100644 users/sivanov/lessons/lesson_22_hw/parsers/json/parse_uley1.json\n",
      " create mode 100644 users/sivanov/lessons/lesson_22_hw/parsers/json/parse_uley2.json\n",
      " create mode 100644 users/sivanov/lessons/lesson_22_hw/parsers/json/smstr2.json\n",
      " create mode 100644 users/sivanov/lessons/lesson_22_hw/parsers/json/trsprt1.json\n",
      " create mode 100644 users/sivanov/lessons/lesson_22_hw/parsers/test_getdatafrom.py\n",
      " create mode 100644 users/sivanov/lessons/lesson_22_hw/parsers/usefulstuff.py\n"
     ]
    }
   ],
   "source": [
    "!git pull"
   ]
  },
  {
   "cell_type": "code",
   "execution_count": 6,
   "id": "c2fc5dc6",
   "metadata": {},
   "outputs": [],
   "source": [
    "!git branch home_work_1_eavolkov"
   ]
  },
  {
   "cell_type": "code",
   "execution_count": 7,
   "id": "70d0dbe2",
   "metadata": {},
   "outputs": [
    {
     "name": "stdout",
     "output_type": "stream",
     "text": [
      "  home_work_1_eavolkov\u001b[m\r\n",
      "* \u001b[32mmain\u001b[m\r\n"
     ]
    }
   ],
   "source": [
    "!git branch"
   ]
  },
  {
   "cell_type": "code",
   "execution_count": 8,
   "id": "811e8726",
   "metadata": {},
   "outputs": [
    {
     "name": "stdout",
     "output_type": "stream",
     "text": [
      "M\tlibrary/theory/introduction.ipynb\r\n",
      "M\tlibrary/theory/type_integer.ipynb\r\n",
      "M\tlibrary/theory/type_list.ipynb\r\n",
      "M\tlibrary/theory/type_string.ipynb\r\n",
      "M\tlibrary/theory/variables.ipynb\r\n",
      "Switched to branch 'home_work_1_eavolkov'\r\n"
     ]
    }
   ],
   "source": [
    "!git checkout home_work_1_eavolkov"
   ]
  },
  {
   "cell_type": "code",
   "execution_count": 9,
   "id": "467e74fe",
   "metadata": {},
   "outputs": [
    {
     "name": "stdout",
     "output_type": "stream",
     "text": [
      "/home/jupyter-eawolkov/github/team22/users/eavolkov\n"
     ]
    }
   ],
   "source": [
    "cd users/eavolkov/"
   ]
  },
  {
   "cell_type": "code",
   "execution_count": 10,
   "id": "6eaa4a04",
   "metadata": {},
   "outputs": [],
   "source": [
    "ls -la ~ > a1.txt"
   ]
  },
  {
   "cell_type": "code",
   "execution_count": 11,
   "id": "fbbf1bde",
   "metadata": {},
   "outputs": [
    {
     "name": "stdout",
     "output_type": "stream",
     "text": [
      "-rw-r--r-- 1 jupyter-eawolkov jupyter-eawolkov 1283 Jan 18 14:41 a1.txt\r\n"
     ]
    }
   ],
   "source": [
    "ls -la a1.txt"
   ]
  },
  {
   "cell_type": "code",
   "execution_count": 12,
   "id": "c969c26d",
   "metadata": {},
   "outputs": [],
   "source": [
    "!uname > a2.txt"
   ]
  },
  {
   "cell_type": "code",
   "execution_count": 13,
   "id": "312381d2",
   "metadata": {},
   "outputs": [
    {
     "name": "stdout",
     "output_type": "stream",
     "text": [
      "-rw-r--r-- 1 jupyter-eawolkov jupyter-eawolkov 6 Jan 18 14:42 a2.txt\r\n"
     ]
    }
   ],
   "source": [
    "ls -la a2.txt"
   ]
  },
  {
   "cell_type": "code",
   "execution_count": 14,
   "id": "1711d8bd",
   "metadata": {},
   "outputs": [
    {
     "name": "stdout",
     "output_type": "stream",
     "text": [
      "On branch home_work_1_eavolkov\r\n",
      "Changes not staged for commit:\r\n",
      "  (use \"git add <file>...\" to update what will be committed)\r\n",
      "  (use \"git restore <file>...\" to discard changes in working directory)\r\n",
      "\t\u001b[31mmodified:   ../../library/theory/introduction.ipynb\u001b[m\r\n",
      "\t\u001b[31mmodified:   ../../library/theory/type_integer.ipynb\u001b[m\r\n",
      "\t\u001b[31mmodified:   ../../library/theory/type_list.ipynb\u001b[m\r\n",
      "\t\u001b[31mmodified:   ../../library/theory/type_string.ipynb\u001b[m\r\n",
      "\t\u001b[31mmodified:   ../../library/theory/variables.ipynb\u001b[m\r\n",
      "\r\n",
      "Untracked files:\r\n",
      "  (use \"git add <file>...\" to include in what will be committed)\r\n",
      "\t\u001b[31m./\u001b[m\r\n",
      "\r\n",
      "no changes added to commit (use \"git add\" and/or \"git commit -a\")\r\n"
     ]
    }
   ],
   "source": [
    "!git status"
   ]
  },
  {
   "cell_type": "code",
   "execution_count": 15,
   "id": "32b3969f",
   "metadata": {},
   "outputs": [
    {
     "name": "stdout",
     "output_type": "stream",
     "text": [
      "On branch home_work_1_eavolkov\r\n",
      "Changes not staged for commit:\r\n",
      "  (use \"git add <file>...\" to update what will be committed)\r\n",
      "  (use \"git restore <file>...\" to discard changes in working directory)\r\n",
      "\t\u001b[31mmodified:   ../../library/theory/introduction.ipynb\u001b[m\r\n",
      "\t\u001b[31mmodified:   ../../library/theory/type_integer.ipynb\u001b[m\r\n",
      "\t\u001b[31mmodified:   ../../library/theory/type_list.ipynb\u001b[m\r\n",
      "\t\u001b[31mmodified:   ../../library/theory/type_string.ipynb\u001b[m\r\n",
      "\t\u001b[31mmodified:   ../../library/theory/variables.ipynb\u001b[m\r\n",
      "\r\n",
      "Untracked files:\r\n",
      "  (use \"git add <file>...\" to include in what will be committed)\r\n",
      "\t\u001b[31m./\u001b[m\r\n",
      "\r\n",
      "no changes added to commit (use \"git add\" and/or \"git commit -a\")\r\n"
     ]
    }
   ],
   "source": [
    "!git status"
   ]
  },
  {
   "cell_type": "code",
   "execution_count": 1,
   "id": "7859d1ea",
   "metadata": {},
   "outputs": [
    {
     "data": {
      "text/plain": [
       "'/home/jupyter-eawolkov/github/team22/users/eavolkov'"
      ]
     },
     "execution_count": 1,
     "metadata": {},
     "output_type": "execute_result"
    }
   ],
   "source": [
    "pwd"
   ]
  },
  {
   "cell_type": "code",
   "execution_count": 3,
   "id": "fd6251e3",
   "metadata": {},
   "outputs": [
    {
     "name": "stdout",
     "output_type": "stream",
     "text": [
      "warning: could not open directory 'users/eavolkov/users/': No such file or directory\r\n",
      "fatal: pathspec 'users/eavolkov' did not match any files\r\n"
     ]
    }
   ],
   "source": [
    "!git add users/eavolkov"
   ]
  },
  {
   "cell_type": "code",
   "execution_count": null,
   "id": "162d5093",
   "metadata": {},
   "outputs": [],
   "source": []
  }
 ],
 "metadata": {
  "kernelspec": {
   "display_name": "Python 3 (ipykernel)",
   "language": "python",
   "name": "python3"
  },
  "language_info": {
   "codemirror_mode": {
    "name": "ipython",
    "version": 3
   },
   "file_extension": ".py",
   "mimetype": "text/x-python",
   "name": "python",
   "nbconvert_exporter": "python",
   "pygments_lexer": "ipython3",
   "version": "3.9.7"
  }
 },
 "nbformat": 4,
 "nbformat_minor": 5
}
