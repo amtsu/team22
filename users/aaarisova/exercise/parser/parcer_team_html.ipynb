{
 "cells": [
  {
   "cell_type": "markdown",
   "id": "bdb3dc42-5b9e-4642-89bb-1ae5a050d14e",
   "metadata": {},
   "source": [
    "Задания на уроке:\n",
    "- скачать страницу http://absda.ru:15000/team22/users/base/team.html\n",
    "- вытащить никнеймы тех, у кого есть ссылки\n",
    "  \n",
    "Д/з:\n",
    "- скачать страницу http://absda.ru:15000/team22/users/base/team.html\n",
    "- автоматом вытащить все ссылки\n",
    "- дальше пройти по вытащенным ссылкам\n",
    "- вытащить имя и емаил страниц по всем ссылка"
   ]
  },
  {
   "cell_type": "code",
   "execution_count": 11,
   "id": "4091494d-a1cc-4fee-b0ec-eb9fcd3a666b",
   "metadata": {},
   "outputs": [
    {
     "name": "stdout",
     "output_type": "stream",
     "text": [
      "<br>AAEltsov\n",
      "<br>AAKesareva\n",
      "<br>ADBukreev\n",
      "<br>ADKazdym\n",
      "<br>Aldnoa19\n",
      "<br>ALZharin\n",
      "<br>AMAbduhanov\n",
      "<br>amtsu\n",
      "<br>andreev-aleksey\n",
      "<br>andreev-alexander\n",
      "<br>Andreyvolodinpro\n",
      "<br><a href=\"/team22/users/andromary/index.html\">Andromary</a>\n",
      "<br><a href=\"/team22/users/andvliv/my_page.html\">AndVlIv</a>\n",
      "<br><a href=\"/team22/users/annamargolina/cvAnna.html\">AnnaMargolina</a>\n",
      "<br>AnnMorozova676\n",
      "<br><a href=\"/team22/users/anton-kuvalda/Anton_kuvalda.Resume4.html\">anton-kuvalda</a>\n",
      "<br>Anzhela-Volodina\n",
      "<br><a href=\"/team22/users/aaarisova/ArisovaA_zarplata_ru.html\">arisova</a>\n",
      "<br>AVGorbatenko\n",
      "<br>boberushka\n",
      "<br>cipperOK\n",
      "<br>deep4ik\n",
      "<br>dimer404\n",
      "<br>DN151991\n",
      "<br>drrryfox\n",
      "<br>EANabatov\n",
      "<br>EAWolkov\n",
      "<br>ekaterinacu\n",
      "<br>ERSaliev\n",
      "<br>find-y\n",
      "<br>il-62\n",
      "<br>irsalieva\n",
      "<br>IRSalieva\n",
      "<br>isergy\n",
      "<br>JATashpulatov\n",
      "<br>Jetfriday\n",
      "<br>jutkaris\n",
      "<br>koshakm5\n",
      "<br>mari-grisha\n",
      "<br>Mcroosh\n",
      "<br>misterdx\n",
      "<br>okorch\n",
      "<br>Optovik0\n",
      "<br>p1em4g\n",
      "<br>ParnishkaTony\n",
      "<br>ptdltt\n",
      "<br>PterOculus\n",
      "<br><a href=\"/team22/users/re-gi-na/about_me.html\">re-gi-na</a>\n",
      "<br><a href=\"/team22/users/romantarasov91/aboutmeee.html\">RomanTarasov91</a>\n",
      "<br>ruslanyunusov\n",
      "<br>ruslan-yusupov-open\n",
      "<br>SAMalcev\n",
      "<br>ScherbakovaTA\n",
      "<br>Sergey-1990\n",
      "<br><a href=\"/team22/users/slash3086/kaanikin_resume.html\">Slash3086</a>\n",
      "<br>StasGri\n",
      "<br>SVAlekseyeva\n",
      "<br>ValliTim\n",
      "<br><a href=\"/team22/users/aemareev/about.html\">theRate</a>\n",
      "<br>VeraYohanga\n",
      "<br>VladimirVBykov\n",
      "<br>vssachenko\n",
      "<br>Rikacom\n",
      "\n"
     ]
    }
   ],
   "source": [
    "from urllib.request import urlopen\n",
    "\n",
    "response = urlopen(\"http://absda.ru:15000/team22/users/base/team.html\")\n",
    "html = response.read().decode(\"utf-8\")\n",
    "\n",
    "print(html)"
   ]
  },
  {
   "cell_type": "code",
   "execution_count": 35,
   "id": "aae3e7b8-4857-409d-af5c-46bf4f71e4fb",
   "metadata": {},
   "outputs": [
    {
     "name": "stdout",
     "output_type": "stream",
     "text": [
      "Andromary\n",
      "AndVlIv\n",
      "AnnaMargolina\n",
      "anton-kuvalda\n",
      "arisova\n",
      "re-gi-na\n",
      "RomanTarasov91\n",
      "Slash3086\n",
      "theRate\n"
     ]
    }
   ],
   "source": [
    "#I способ - регулярные выражения\n",
    "\n",
    "import re\n",
    "\n",
    "links = re.findall(r'html\">(.*)<', html)\n",
    "print(*links, sep='\\n')\n"
   ]
  },
  {
   "cell_type": "code",
   "execution_count": 37,
   "id": "3d99f365-df8f-40f9-ac99-8a76e75cb74d",
   "metadata": {},
   "outputs": [
    {
     "name": "stdout",
     "output_type": "stream",
     "text": [
      "Andromary\n",
      "AndVlIv\n",
      "AnnaMargolina\n",
      "anton-kuvalda\n",
      "arisova\n",
      "re-gi-na\n",
      "RomanTarasov91\n",
      "Slash3086\n",
      "theRate\n"
     ]
    }
   ],
   "source": [
    "from urllib.request import urlopen\n",
    "from bs4 import BeautifulSoup\n",
    "\n",
    "url = \"http://absda.ru:15000/team22/users/base/team.html\"\n",
    "response = urlopen(url)\n",
    "html = response.read().decode(\"utf-8\")\n",
    "soup = BeautifulSoup(html, 'html.parser')\n",
    "# Найдите все заголовки a\n",
    "h1_tags = soup.find_all('a')\n",
    "# Выведите текст заголовков\n",
    "for h1 in h1_tags:    \n",
    "     print(h1.text)"
   ]
  },
  {
   "cell_type": "code",
   "execution_count": 124,
   "id": "cfe242f3-1729-45ef-973a-1a5e9b21b36a",
   "metadata": {},
   "outputs": [
    {
     "name": "stdout",
     "output_type": "stream",
     "text": [
      "http://absda.ru:15000/team22/users/andromary/index.html\n",
      "http://absda.ru:15000/team22/users/andvliv/my_page.html\n",
      "http://absda.ru:15000/team22/users/annamargolina/cvAnna.html\n",
      "http://absda.ru:15000/team22/users/anton-kuvalda/Anton_kuvalda.Resume4.html\n",
      "http://absda.ru:15000/team22/users/aaarisova/ArisovaA_zarplata_ru.html\n",
      "http://absda.ru:15000/team22/users/re-gi-na/about_me.html\n",
      "http://absda.ru:15000/team22/users/romantarasov91/aboutmeee.html\n",
      "http://absda.ru:15000/team22/users/slash3086/kaanikin_resume.html\n",
      "http://absda.ru:15000/team22/users/aemareev/about.html\n"
     ]
    }
   ],
   "source": [
    "#вытащить все ссылки\n",
    "from urllib.request import urlopen\n",
    "from bs4 import BeautifulSoup\n",
    "from urllib.parse import urljoin\n",
    "\n",
    "url = \"http://absda.ru:15000/team22/users/base/team.html\"\n",
    "\n",
    "response = urlopen(url)\n",
    "html = response.read().decode(\"utf-8\")\n",
    "soup = BeautifulSoup(html, 'html.parser')\n",
    "\n",
    "h1_tags = soup.find_all('a') #находим все заголовки/теги <a>\n",
    "\n",
    "\n",
    "# Проходим по всем тегам <a> и извлекаем href\n",
    "links = []\n",
    "for link in h1_tags:\n",
    "    href = link.get('href')\n",
    "    if href:\n",
    "        full_url = urljoin(url, href)\n",
    "        links.append(full_url)\n",
    "\n",
    "for link in links:\n",
    "    print(link) "
   ]
  },
  {
   "cell_type": "code",
   "execution_count": 133,
   "id": "290ee6fd-002e-40c5-812d-100d2eea32b5",
   "metadata": {},
   "outputs": [
    {
     "name": "stdout",
     "output_type": "stream",
     "text": [
      "('Andrey Ivanchenko', None)\n",
      "('Anna  Margolina', 'annamargo@mail.ru')\n",
      "('Непочатый Антон', 'kuvaldabikes@gmail.com')\n",
      "(None, 'anna.arisova@example.com')\n",
      "('Regina Marfenkova', 'hogo88@mail.ru')\n",
      "('Тарасов Роман Сергеевич', 'RomanTarasov91@yandex.ru')\n",
      "(None, 'kostia.anikin@gmail.com')\n",
      "('Александр Мареев', 'aemareev@gmail.com')\n"
     ]
    }
   ],
   "source": [
    "#вытащить имя и емаил страниц по всем ссылка\n",
    "\n",
    "def data_extraction(url_user):\n",
    "    response = urlopen(url_user)\n",
    "    html = response.read().decode(\"utf-8\")\n",
    "    soup = BeautifulSoup(html, 'html.parser')\n",
    "\n",
    "    name = None\n",
    "    email = None\n",
    "\n",
    "\n",
    "    # name = re.findall(r\"<h1>(.*?)</h1>\", html) - выводит с лишними символами\n",
    "    # email = re.search(r'\\b[A-Za-z0-9._%+-]+@[A-Za-z0-9.-]+\\.[A-Z|a-z]{2,}\\b', html) - выводит с лишними символами\n",
    "\n",
    "    name = soup.find('h1')\n",
    "    if name:\n",
    "        name = name.text.strip()  # Извлекает текст и удаляет лишние пробелы\n",
    "\n",
    "    email = re.search(r'\\b[A-Za-z0-9._%+-]+@[A-Za-z0-9.-]+\\.[A-Z|a-z]{2,}\\b', html)\n",
    "    if email:\n",
    "        email = email.group()  # Извлекаем только найденный email\n",
    "\n",
    "    return name, email\n",
    "\n",
    "urls_users = [\"http://absda.ru:15000/team22/users/andvliv/my_page.html\", \n",
    "        \"http://absda.ru:15000/team22/users/annamargolina/cvAnna.html\", \n",
    "        \"http://absda.ru:15000/team22/users/anton-kuvalda/Anton_kuvalda.Resume4.html\", \n",
    "        \"http://absda.ru:15000/team22/users/aaarisova/ArisovaA_zarplata_ru.html\", \n",
    "        \"http://absda.ru:15000/team22/users/re-gi-na/about_me.html\", \n",
    "        \"http://absda.ru:15000/team22/users/romantarasov91/aboutmeee.html\", \n",
    "        \"http://absda.ru:15000/team22/users/slash3086/kaanikin_resume.html\", \n",
    "        \"http://absda.ru:15000/team22/users/aemareev/about.html\"\n",
    "       ]  \n",
    "#url_2 = 'http://absda.ru:15000/team22/users/andromary/index.html' - 404\n",
    "result = []\n",
    "for item in urls_users:\n",
    "   result.append(data_extraction(item))\n",
    "\n",
    "print(*result, sep='\\n')  \n",
    "\n"
   ]
  }
 ],
 "metadata": {
  "kernelspec": {
   "display_name": "Python 3 (ipykernel)",
   "language": "python",
   "name": "python3"
  },
  "language_info": {
   "codemirror_mode": {
    "name": "ipython",
    "version": 3
   },
   "file_extension": ".py",
   "mimetype": "text/x-python",
   "name": "python",
   "nbconvert_exporter": "python",
   "pygments_lexer": "ipython3",
   "version": "3.10.10"
  }
 },
 "nbformat": 4,
 "nbformat_minor": 5
}
