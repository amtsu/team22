{
 "cells": [
  {
   "cell_type": "code",
   "execution_count": 1,
   "id": "363e1f20-bfb4-4085-b8fe-7a5c16ea40b3",
   "metadata": {},
   "outputs": [],
   "source": [
    "class Book():\n",
    "    \n",
    "    def __init__(self, title, author, pages, publisher):\n",
    "        self.__book_title = title\n",
    "        self.__author = author\n",
    "        self.__pages = pages\n",
    "        self.__publisher = publisher\n",
    "\n",
    "    \n",
    "    @property   \n",
    "    def title(self):\n",
    "        '''Декоратор @property создает метод получения атрибутов, который представляет собой свойство класса.'''\n",
    "        return self.__book_title \n",
    "\n",
    "    @title.setter\n",
    "    def title(self,title):  \n",
    "        '''Метод setter устанавливает значение атрибута класса, который можно изменить извне класса.'''\n",
    "        self.__book_title = title\n",
    "\n",
    "    @property \n",
    "    def author(self):\n",
    "        return self.__author\n",
    "\n",
    "    @author.setter\n",
    "    def author(self,author):\n",
    "        self.__author = author\n",
    "        \n",
    "    @property    \n",
    "    def pages(self):\n",
    "        return self.__pages\n",
    "\n",
    "    @pages.setter\n",
    "    def pages(self, pages):\n",
    "        if isinstance(pages, int) and pages > 0:\n",
    "            self.__pages = pages\n",
    "        else:\n",
    "            raise ValueError('Количество страниц должно быть положительным целым числом.')\n",
    "    \n",
    "    @property   \n",
    "    def publisher(self):\n",
    "        return self.__publisher\n",
    "        \n",
    "    @publisher.setter\n",
    "    def publisher(self, publisher):\n",
    "        self.__publisher = publisher\n",
    "\n",
    "   "
   ]
  },
  {
   "cell_type": "code",
   "execution_count": 8,
   "id": "48ba682b-431a-48c2-8ddf-6e103a27a012",
   "metadata": {},
   "outputs": [
    {
     "name": "stdout",
     "output_type": "stream",
     "text": [
      "True\n",
      "True\n",
      "True\n",
      "True\n"
     ]
    }
   ],
   "source": [
    "\n",
    "book1 = Book('Ведьмак', 'А.Сапкоовский', -320, 'ACT')\n",
    "print(book1.title == 'Ведьмак')\n",
    "print(book1.author == 'А.Сапкоовский')\n",
    "print(book1.publisher == 'ACT')\n",
    "print(book1.pages == -320)\n",
    "  \n",
    "# with pytest.raises(ValueError):\n",
    "#     book1 = Book('Ведьмак', 'А.Сапкоовский', -320, 'ACT')\n",
    "\n"
   ]
  },
  {
   "cell_type": "code",
   "execution_count": null,
   "id": "44ccb1d7-3cb3-453f-b225-f69fd4e2f203",
   "metadata": {},
   "outputs": [],
   "source": []
  }
 ],
 "metadata": {
  "kernelspec": {
   "display_name": "Python 3 (ipykernel)",
   "language": "python",
   "name": "python3"
  },
  "language_info": {
   "codemirror_mode": {
    "name": "ipython",
    "version": 3
   },
   "file_extension": ".py",
   "mimetype": "text/x-python",
   "name": "python",
   "nbconvert_exporter": "python",
   "pygments_lexer": "ipython3",
   "version": "3.10.10"
  }
 },
 "nbformat": 4,
 "nbformat_minor": 5
}
