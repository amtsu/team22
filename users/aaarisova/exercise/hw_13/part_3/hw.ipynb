{
 "cells": [
  {
   "cell_type": "markdown",
   "id": "ce506d77-9ddd-47b8-957b-2b6a27a5ae45",
   "metadata": {},
   "source": [
    "1. Загрузить файл с посещаемостью и процентами выполненных заданий."
   ]
  },
  {
   "cell_type": "code",
   "execution_count": 42,
   "id": "157cfb27-0412-434d-8740-b4938142f8da",
   "metadata": {},
   "outputs": [],
   "source": [
    "import csv\n",
    "\n",
    "def load_file(file):\n",
    "    '''Функция загрузки файла (с посещаемостью и процентами выполненных заданий.)'''\n",
    "    with open(file, 'r') as f:\n",
    "        for line in f:\n",
    "            print(line)\n"
   ]
  },
  {
   "cell_type": "code",
   "execution_count": 43,
   "id": "c2c8a948-326c-4779-bbd9-7a16a1ef4214",
   "metadata": {},
   "outputs": [
    {
     "name": "stdout",
     "output_type": "stream",
     "text": [
      "login in git hub,home folder in project,17-01-2024,20-01-2024,24-01-2024,31-01-2024,7-02-2024,14-02-2024,21-02-2024,28-02-2024,06-03-2024,13-03-2024,20-03-2024,27-03-2024,03-04-2024,10-04-2024,24-04-2024,01-05-2024,08-05-2024,15-05-2024,22-05-2024,29-05-2024,05-06-2024,12-06-2024,19-06-2024,26-06-2024,03-07-2024,10-07-2024,17-07-2024,24-07-2024,31-07-2024,07-08-2024,14-08-2024,21-08-2024,28-08-2024,04-09-2024,11-09-2024,18-09-2024,25-09-2024,02-10-2024,09-10-2024,16-10-2024,23-10-2024,30-10-2024,06-11-2024,13-11-2024,20-11-2024,27-11-2024,04-12-2024,11-12-2024,18-12-2024,25-12-2024\n",
      "\n",
      "22malvina,,,,,,,,,,,,,,,,,,,,,,,,,,,,,,,,,,,,,,,,,,,,,,,,,,,\n",
      "\n",
      "AAEltsov,,,,,,,,,,,,,,,,,,,,,,,,,,,,,,,,,,,,,,,,,,,,,,,,,,,\n",
      "\n",
      "AAKesareva,,,,,,,,,,,,,,,,,,,,,,,,,,,,,,,,,,,,,,,,,,,,,,,,,,,\n",
      "\n",
      "ADBukreev,,,,,,,,,,,,,,,,,,,,,,,,,,,,,,,,,,,,,,,,,,,,,,,,,,,\n",
      "\n",
      "ADKazdym,,1,0,1,1,1,1,1,1,,,,,,,,,,,,,,,,,,,,,,,,,,,,,,,,,,,,,,,,,,\n",
      "\n",
      "Aldnoa19,vpetrov,1,1,1,1,1,1,1,1,1,,,,,,,,,,,,,,,,,,,,,,,,,,,,,,,,,,,,,,,,,\n",
      "\n",
      "ALZharin,,,,,,,,,,,,,,,,,,,,,,,,,,,,,,,,,,,,,,,,,,,,,,,,,,,\n",
      "\n",
      "AMAbduhanov,,,,,,,,,,,,,,,,,,,,,,,,,,,,,,,,,,,,,,,,,,,,,,,,,,,\n",
      "\n",
      "amtsu,AMTsurkov,1,1,1,1,1,,,,,,,,,,,,,,,,,,,,,,,,,,,,,,,,,,,,,,,,,,,,,\n",
      "\n",
      "andreev-aleksey,,,,,,,,,,,,,,,,,,,,,,,,,,,,,,,,,,,,,,,,,,,,,,,,,,,\n",
      "\n",
      "andreev-alexander,,,,,,,,,,,,,,,,,,,,,,,,,,,,,,,,,,,,,,,,,,,,,,,,,,,\n",
      "\n",
      "Andreyvolodinpro,,1,1,1,1,1,1,1,1,1,1,1,,,,,,,,,,,,,,,,,,,,,,,,,,,,,,,,,,,,,,,\n",
      "\n",
      "Andromary,mvandreeva,1,0.5,0.5,0.5,1,1,1,1,0,1,1,,,,,,,,,,,,,,,,,,,,,,,,,,,,,,,,,,,,,,,\n",
      "\n",
      "AndVlIv,,1,1,1,1,1,,,,,,,,,,,,,,,,,,,,,,,,,,,,,,,,,,,,,,,,,,,,,\n",
      "\n",
      "AnnaMargolina,aomargolina,0,1,1,1,1,1,1,1,,,,,,,,,,,,,,,,,,,,,,,,,,,,,,,,,,,,,,,,,,\n",
      "\n",
      "ANNMorozova676,avmorozova,1,1,1,0,1,1,1,0,1,0,8,1,1,0,,,,,,,,,,,,,,,,,,,,,,,,,,,,,,,,,,,,\n",
      "\n",
      "anton-kuvalda,,,,,,,,,,,,,,,,,,,,,,,,,,,,,,,,,,,,,,,,,,,,,,,,,,,\n",
      "\n",
      "Anzhela-Volodina,,1,1,1,1,1,1,1,1,1,1,1,,,,,,,,,,,,,,,,,,,,,,,,,,,,,,,,,,,,,,,\n",
      "\n",
      "arisova,\"aaarisova,\",1,1,1,1,1,1,1,1,1,1,,,,,,,,,,,,,,,,,,,,,,,,,,,,,,,,,,,,,,,,\n",
      "\n",
      "arisova,,,,,,,,,,,,,,,,,,,,,,,,,,,,,,,,,,,,,,,,,,,,,,,,,,,\n",
      "\n",
      "AVGorbatenko,,,,,,,,,,,,,,,,,,,,,,,,,,,,,,,,,,,,,,,,,,,,,,,,,,,\n",
      "\n",
      "boberushka,,,,,,,,,,,,,,,,,,,,,,,,,,,,,,,,,,,,,,,,,,,,,,,,,,,\n",
      "\n",
      "cipperOK,,,,,,,,,,,,,,,,,,,,,,,,,,,,,,,,,,,,,,,,,,,,,,,,,,,\n",
      "\n",
      "deep4ik,,,,,,,,,,,,,,,,,,,,,,,,,,,,,,,,,,,,,,,,,,,,,,,,,,,\n",
      "\n",
      "dimer404,,,,,,,,,,,,,,,,,,,,,,,,,,,,,,,,,,,,,,,,,,,,,,,,,,,\n",
      "\n",
      "DN151991,,,,,,,,,,,,,,,,,,,,,,,,,,,,,,,,,,,,,,,,,,,,,,,,,,,\n",
      "\n",
      "drrryfox,,,,,,,,,,,,,,,,,,,,,,,,,,,,,,,,,,,,,,,,,,,,,,,,,,,\n",
      "\n",
      "EANabatov,eanabatov,1,1,1,1,1,1,1,1,,,,,,,,,,,,,,,,,,,,,,,,,,,,,,,,,,,,,,,,,,\n",
      "\n",
      "EAWolkov,,,,,,,,,,,,,,,,,,,,,,,,,,,,,,,,,,,,,,,,,,,,,,,,,,,\n",
      "\n",
      "ekaterinacu,,,,,,,,,,,,,,,,,,,,,,,,,,,,,,,,,,,,,,,,,,,,,,,,,,,\n",
      "\n",
      "ERSaliev,,,,,,,,,,,,,,,,,,,,,,,,,,,,,,,,,,,,,,,,,,,,,,,,,,,\n",
      "\n",
      "find-y,yaasuster,0,0,1,1,1,,,,,,,,,,,,,,,,,,,,,,,,,,,,,,,,,,,,,,,,,,,,,\n",
      "\n",
      "il-62,,,,,,,,,,,,,,,,,,,,,,,,,,,,,,,,,,,,,,,,,,,,,,,,,,,\n",
      "\n",
      "irsalieva,irsalieva,0,1,1,1,,,,,,,,,,,,,,,,,,,,,,,,,,,,,,,,,,,,,,,,,,,,,,\n",
      "\n",
      "IRSalieva,,,,,,,,,,,,,,,,,,,,,,,,,,,,,,,,,,,,,,,,,,,,,,,,,,,\n",
      "\n",
      "isergy,saivanov,0,0,0,1,1,1,1,,,,,,,,,,,,,,,,,,,,,,,,,,,,,,,,,,,,,,,,,,,\n",
      "\n",
      "JATashpulatov,jatashpulatov,1,1,1,1,1,1,1,1,1,1,1,1,,,,,,,,,,,,,,,,,,,,,,,,,,,,,,,,,,,,,,\n",
      "\n",
      "Jetfriday,,,,,,,,,,,,,,,,,,,,,,,,,,,,,,,,,,,,,,,,,,,,,,,,,,,\n",
      "\n",
      "jutkaris,,,,,,,,,,,,,,,,,,,,,,,,,,,,,,,,,,,,,,,,,,,,,,,,,,,\n",
      "\n",
      "koshakm5,,,,,,,,,,,,,,,,,,,,,,,,,,,,,,,,,,,,,,,,,,,,,,,,,,,\n",
      "\n",
      "mari-grisha,,,,,,,,,,,,,,,,,,,,,,,,,,,,,,,,,,,,,,,,,,,,,,,,,,,\n",
      "\n",
      "Mcroosh,,,,,,,,,,,,,,,,,,,,,,,,,,,,,,,,,,,,,,,,,,,,,,,,,,,\n",
      "\n",
      "misterdx,avlotsmanov,0,1,1,1,1,1,1,0,1,1,1,1,1,1,,,,,,,,,,,,,,,,,,,,,,,,,,,,,,,,,,,,\n",
      "\n",
      "okorch,oekorchevaya,0,1,0,0,1,0,1,0,0,1,0,1,0,0,,,,,,,,,,,,,,,,,,,,,,,,,,,,,,,,,,,,\n",
      "\n",
      "Optovik210,,,,,,,,,,,,,,,,,,,,,,,,,,,,,,,,,,,,,,,,,,,,,,,,,,,\n",
      "\n",
      "p1em4g,,,,,,,,,,,,,,,,,,,,,,,,,,,,,,,,,,,,,,,,,,,,,,,,,,,\n",
      "\n",
      "ParnishkaTony,,,,,,,,,,,,,,,,,,,,,,,,,,,,,,,,,,,,,,,,,,,,,,,,,,,\n",
      "\n",
      "ptdltt,dptimofeev,1,1,1,1,0,1,1,1,1,1,,,,,,,,,,,,,,,,,,,,,,,,,,,,,,,,,,,,,,,,\n",
      "\n",
      "PterOculus,iaalexeev,1,1,1,1,1,,,,,,,,,,,,,,,,,,,,,,,,,,,,,,,,,,,,,,,,,,,,,\n",
      "\n",
      "Re-gi-na,rmarfenkova,1,1,1,1,1,1,1,1,1,1,1,1,1,1,,,,,,,,,,,,,,,,,,,,,,,,,,,,,,,,,,,,\n",
      "\n",
      "RomanTarasov91,rstarasov,1,0,1,1,1,1,1,1,1,1,1,1,,,,,,,,,,,,,,,,,,,,,,,,,,,,,,,,,,,,,,\n",
      "\n",
      "ruslanyunusov,,1,1,1,1,,,,,,,,,,,,,,,,,,,,,,,,,,,,,,,,,,,,,,,,,,,,,,\n",
      "\n",
      "ruslan-yusupov-open,,1,1,1,1,1,1,0,1,1,1,1,1,,,,,,,,,,,,,,,,,,,,,,,,,,,,,,,,,,,,,,\n",
      "\n",
      "SAMalcev,,,,,,,,,,,,,,,,,,,,,,,,,,,,,,,,,,,,,,,,,,,,,,,,,,,\n",
      "\n",
      "ScherbakovaTA,,,,,,,,,,,,,,,,,,,,,,,,,,,,,,,,,,,,,,,,,,,,,,,,,,,\n",
      "\n",
      "Sergey-1990,salyashenko,1,1,1,1,1,,,,,,,,,,,,,,,,,,,,,,,,,,,,,,,,,,,,,,,,,,,,,\n",
      "\n",
      "Slash3086,kaanikin,0,1,1,1,1,0,1,1,1,,,,,,,,,,,,,,,,,,,,,,,,,,,,,,,,,,,,,,,,,\n",
      "\n",
      "StasGri,,,,,,,,,,,,,,,,,,,,,,,,,,,,,,,,,,,,,,,,,,,,,,,,,,,\n",
      "\n",
      "SVAlekseyeva,,,,,,,,,,,,,,,,,,,,,,,,,,,,,,,,,,,,,,,,,,,,,,,,,,,\n",
      "\n",
      "ValliTim,vstimofeeva,1,1,1,1,1,,,,,,,,,,,,,,,,,,,,,,,,,,,,,,,,,,,,,,,,,,,,,\n",
      "\n",
      "theRate,aemareev,1,1,1,1,1,1,1,1,1,1,1,1,1,1,,,,,,,,,,,,,,,,,,,,,,,,,,,,,,,,,,,,\n",
      "\n",
      "VeraYohanga,vstarasova,0,0,1,1,0,1,1,1,1,1,,,,,,,,,,,,,,,,,,,,,,,,,,,,,,,,,,,,,,,,\n",
      "\n",
      "VladimirVBykov,vvbykov,1,1,0.7,1,1,1,1,1,,,,,,,,,,,,,,,,,,,,,,,,,,,,,,,,,,,,,,,,,,\n",
      "\n",
      "vssachenko,VSSachenko,1,0,1,0,-,,,,,,,,,,,,,,,,,,,,,,,,,,,,,,,,,,,,,,,,,,,,,\n",
      "\n",
      "Rikacom,ismatrosova,0,0,0,0,1,1,1,1,1,1,,,,,,,,,,,,,,,,,,,,,,,,,,,,,,,,,,,,,,,,\n",
      "\n"
     ]
    }
   ],
   "source": [
    "load_file('visits_status.csv')"
   ]
  },
  {
   "cell_type": "code",
   "execution_count": 44,
   "id": "f13bdf54-41ef-4710-92b1-6aaea64e1afa",
   "metadata": {},
   "outputs": [
    {
     "name": "stdout",
     "output_type": "stream",
     "text": [
      "login in github,home folder in project,hw-1,hw-2,hw-3,hw-4,hw-5,hw-6,hw-7,hw-8,hw-9,hw-11,hw-12,hw-13,hw-14,hw-15,hw-16,hw-17,hw-18,hw-19,hw-20,hw-21,hw-22,hw-23,hw-24,hw-25,hw-26,hw-27,hw-28,hw-29,hw-30\n",
      "\n",
      "22malvina,,,,,,,,,,,,,,,,,,,,,,,,,,,,,,\n",
      "\n",
      "AAEltsov,,,,,,,,,,,,,,,,,,,,,,,,,,,,,,\n",
      "\n",
      "AAKesareva,,,,,,,,,,,,,,,,,,,,,,,,,,,,,,\n",
      "\n",
      "ADBukreev,,,,,,,,,,,,,,,,,,,,,,,,,,,,,,\n",
      "\n",
      "ADKazdym,,95%,100%,100%,100%,55,0,0,,,,,,,,,,,,,,,,,,,,,,\n",
      "\n",
      "Aldnoa19,vpetrov,100,100,100,100,75,0,0,0,,,,,,,,,,,,,,,,,,,,,\n",
      "\n",
      "ALZharin,,,,,,,,,,,,,,,,,,,,,,,,,,,,,,\n",
      "\n",
      "AMAbduhanov,,,,,,,,,,,,,,,,,,,,,,,,,,,,,,\n",
      "\n",
      "amtsu,AMTsurkov,0,0,0,,,,,,,,,,,,,,,,,,,,,,,,,,\n",
      "\n",
      "andreev-aleksey,,,,,,,,,,,,,,,,,,,,,,,,,,,,,,\n",
      "\n",
      "andreev-alexander,,,,,,,,,,,,,,,,,,,,,,,,,,,,,,\n",
      "\n",
      "Andreyvolodinpro,,100%,100%,100%,100%,100%,100%,100,100,0,,,,,,,,,,,,,,,,,,,,\n",
      "\n",
      "Andromary,mvandreeva,100,100,100,100,100,100,100,100,10,,,,,,,,,,,,,,,,,,,,\n",
      "\n",
      "AndVlIv,,80%,70%,100%,100%,100%,90%,,,,,,,,,,,,,,,,,,,,,,,\n",
      "\n",
      "AnnaMargolina,aomargolina,100%,100%,100%,100%,82%,10%,30%,0%,,,,,,,,,,,,,,,,,,,,,\n",
      "\n",
      "AnnMorozova676,avmorozova,100%,100%,100%,100,100%,100%,97,0%,100%,100,0,,,,,,,,,,,,,,,,,,\n",
      "\n",
      "anton-kuvalda,,,,,,,,,,,,,,,,,,,,,,,,,,,,,,\n",
      "\n",
      "Anzhela-Volodina,,100,100,100,100,100,30,100,100,10,,,,,,,,,,,,,,,,,,,,\n",
      "\n",
      "arisova,aaarisova,100,100,100,100,100,100,100,100,90,0,80,0,,,,,,,,,,,,,,,,,\n",
      "\n",
      "AVGorbatenko,,,,,,,,,,,,,,,,,,,,,,,,,,,,,,\n",
      "\n",
      "boberushka,,,,,,,,,,,,,,,,,,,,,,,,,,,,,,\n",
      "\n",
      "cipperOK,,,,,,,,,,,,,,,,,,,,,,,,,,,,,,\n",
      "\n",
      "deep4ik,,,,,,,,,,,,,,,,,,,,,,,,,,,,,,\n",
      "\n",
      "dimer404,,,,,,,,,,,,,,,,,,,,,,,,,,,,,,\n",
      "\n",
      "DN151991,,,,,,,,,,,,,,,,,,,,,,,,,,,,,,\n",
      "\n",
      "drrryfox,,,,,,,,,,,,,,,,,,,,,,,,,,,,,,\n",
      "\n",
      "EANabatov,eanabatov,100,100,100,100,100,,,,,,,,,,,,,,,,,,,,,,,,\n",
      "\n",
      "EAWolkov,,,,,,,,,,,,,,,,,,,,,,,,,,,,,,\n",
      "\n",
      "ekaterinacu,,,,,,,,,,,,,,,,,,,,,,,,,,,,,,\n",
      "\n",
      "ERSaliev,,,,,,,,,,,,,,,,,,,,,,,,,,,,,,\n",
      "\n",
      "find-y,yaasuster,1,0.7,1,,,,,,,,,,,,,,,,,,,,,,,,,,\n",
      "\n",
      "il-62,,,,,,,,,,,,,,,,,,,,,,,,,,,,,,\n",
      "\n",
      "irsalieva,irsalieva,100%,100%,100%,100%,,,,,,,,,,,,,,,,,,,,,,,,,\n",
      "\n",
      "IRSalieva,,,,,,,,,,,,,,,,,,,,,,,,,,,,,,\n",
      "\n",
      "isergy,saivanov,100,100,0,0,0,0,,,,,,,,,,,,,,,,,,,,,,,\n",
      "\n",
      "JATashpulatov,jatashpulatov,100,100,100,100,50,0,100,0,0,,,,,,,,,,,,,,,,,,,,\n",
      "\n",
      "Jetfriday,,,,,,,,,,,,,,,,,,,,,,,,,,,,,,\n",
      "\n",
      "jutkaris,,,,,,,,,,,,,,,,,,,,,,,,,,,,,,\n",
      "\n",
      "koshakm5,kstimofeev,100,50,50,100,,,,,,,,,,,,,,,,,,,,,,,,,\n",
      "\n",
      "mari-grisha,,,,,,,,,,,,,,,,,,,,,,,,,,,,,,\n",
      "\n",
      "Mcroosh,,,,,,,,,,,,,,,,,,,,,,,,,,,,,,\n",
      "\n",
      "misterdx,avlotsmanov,100,100,100,100,100,100,100,100,100,0,0,0,,,,,,,,,,,,,,,,,\n",
      "\n",
      "okorch,oekorchevaya,100,100,100,100,100,90,100,100,15,0,40,0,,,,,,,,,,,,,,,,,\n",
      "\n",
      "Optovik0,,,,,,,,,,,,,,,,,,,,,,,,,,,,,,\n",
      "\n",
      "p1em4g,,,,,,,,,,,,,,,,,,,,,,,,,,,,,,\n",
      "\n",
      "ParnishkaTony,,,,,,,,,,,,,,,,,,,,,,,,,,,,,,\n",
      "\n",
      "ptdltt,dptimofeev,100,100,100,100,,,,,,,,,,,,,,,,,,,,,,,,,\n",
      "\n",
      "PterOculus,iaalexeev,100%,100%,100%,100%,100%,100%,100%,50%,,,,,,,,,,,,,,,,,,,,,\n",
      "\n",
      "Re-gi-na,rmarfenkova,100,100,100,100,100,100,100,100,100,0,0,80,,,,,,,,,,,,,,,,,\n",
      "\n",
      "RomanTarasov91,rstarasov,100,100,100,100,100,100,100,100,,,,,,,,,,,,,,,,,,,,,\n",
      "\n",
      "ruslanyunusov,rnyunusov,100,100,100,100,100,0,10,,,,,,,,,,,,,,,,,,,,,,\n",
      "\n",
      "ruslan-yusupov-open,,100%,100%,100%,100%,100%,100%,100%,100%,100%,,,,,,,,,,,,,,,,,,,,\n",
      "\n",
      "SAMalcev,,,,,,,,,,,,,,,,,,,,,,,,,,,,,,\n",
      "\n",
      "ScherbakovaTA,tascherbakova,100%,100%,100%,0%,,,,,,,,,,,,,,,,,,,,,,,,,\n",
      "\n",
      "Sergey-1990,salyashenko,100%,100%,100%,100%,25%,,,,,,,,,,,,,,,,,,,,,,,,\n",
      "\n",
      "Slash3086,kaanikin,100,100,100,100,100,100,100,100,,,,,,,,,,,,,,,,,,,,,\n",
      "\n",
      "StasGri,,,,,,,,,,,,,,,,,,,,,,,,,,,,,,\n",
      "\n",
      "SVAlekseyeva,,,,,,,,,,,,,,,,,,,,,,,,,,,,,,\n",
      "\n",
      "ValliTim,vstimofeeva,100,40,100,100,85,,,,,,,,,,,,,,,,,,,,,,,,\n",
      "\n",
      "theRate,aemareev,100,100,100,100,100,100,100,100,100,100,80,,,,,,,,,,,,,,,,,,\n",
      "\n",
      "VeraYohanga,vstarasova,100%,100%,100%,100%,100%,70%,100%,100%,50%,0%,,,,,,,,,,,,,,,,,,,\n",
      "\n",
      "VladimirVBykov,vvbykov,100,100,100,100,100,100,,,,,,,,,,,,,,,,,,,,,,,\n",
      "\n",
      "vssachenko,VSSachenko,100%,100%,100%,0,0,,,,,,,,,,,,,,,,,,,,,,,,\n",
      "\n",
      "Rikacom,ismatrosova,90%,100%,100%,100%,100%,100%,100%,100%,100%,,,,,,,,,,,,,,,,,,,,\n",
      "\n"
     ]
    }
   ],
   "source": [
    "load_file('hw_status.csv')"
   ]
  },
  {
   "cell_type": "markdown",
   "id": "5a36fe57-9544-4484-ad92-0734fffea984",
   "metadata": {},
   "source": [
    "2. Реализовать функцию которая на вход получает дату или номер лекции и возвращает количество человек,\n",
    "которые были на этой лекции в этот день."
   ]
  },
  {
   "cell_type": "code",
   "execution_count": 45,
   "id": "949ae895-66aa-4029-9fbe-a2328814c0ec",
   "metadata": {},
   "outputs": [],
   "source": [
    "# I способ\n",
    "def get_lecture_attendance(date: str) ->  int:\n",
    "    '''функция возвращает количество человек, которые были на лекции в определенный день'''\n",
    "    attendance = 0  #посещаемость\n",
    "    with open('visits_status.csv', 'r') as f:\n",
    "        reader = csv.reader(f) \n",
    "        #reader = csv.DictReader(f)\n",
    "        headers = next(reader)\n",
    "        \n",
    "        if date not in headers:\n",
    "            raise ValueError(f'Даты: {date}  - нет в заголовках')\n",
    "            \n",
    "        date_index = headers.index(date)   #получаю индекс столбца с указанной датой    \n",
    "        for row in reader:\n",
    "            i = row[date_index].strip()\n",
    "            if i == '1':\n",
    "                attendance += 1\n",
    "        return attendance\n"
   ]
  },
  {
   "cell_type": "code",
   "execution_count": 46,
   "id": "2e0192d4-5aac-415f-b461-991eb0b29ced",
   "metadata": {},
   "outputs": [
    {
     "name": "stdout",
     "output_type": "stream",
     "text": [
      "4\n"
     ]
    }
   ],
   "source": [
    "print(get_lecture_attendance('03-04-2024'))"
   ]
  },
  {
   "cell_type": "code",
   "execution_count": 47,
   "id": "173cfe1e-77e5-4c2c-a551-92c3ac2f3f49",
   "metadata": {},
   "outputs": [
    {
     "data": {
      "text/plain": [
       "26"
      ]
     },
     "execution_count": 47,
     "metadata": {},
     "output_type": "execute_result"
    }
   ],
   "source": [
    "get_lecture_attendance('31-01-2024')"
   ]
  },
  {
   "cell_type": "code",
   "execution_count": 48,
   "id": "6ff921f7-c794-4bbe-a8b4-218a6cad719c",
   "metadata": {},
   "outputs": [
    {
     "ename": "ValueError",
     "evalue": "Даты: 31-08-2025  - нет в заголовках",
     "output_type": "error",
     "traceback": [
      "\u001b[0;31m---------------------------------------------------------------------------\u001b[0m",
      "\u001b[0;31mValueError\u001b[0m                                Traceback (most recent call last)",
      "Cell \u001b[0;32mIn[48], line 1\u001b[0m\n\u001b[0;32m----> 1\u001b[0m \u001b[43mget_lecture_attendance\u001b[49m\u001b[43m(\u001b[49m\u001b[38;5;124;43m'\u001b[39;49m\u001b[38;5;124;43m31-08-2025\u001b[39;49m\u001b[38;5;124;43m'\u001b[39;49m\u001b[43m)\u001b[49m\n",
      "Cell \u001b[0;32mIn[45], line 11\u001b[0m, in \u001b[0;36mget_lecture_attendance\u001b[0;34m(date)\u001b[0m\n\u001b[1;32m      8\u001b[0m headers \u001b[38;5;241m=\u001b[39m \u001b[38;5;28mnext\u001b[39m(reader)\n\u001b[1;32m     10\u001b[0m \u001b[38;5;28;01mif\u001b[39;00m date \u001b[38;5;129;01mnot\u001b[39;00m \u001b[38;5;129;01min\u001b[39;00m headers:\n\u001b[0;32m---> 11\u001b[0m     \u001b[38;5;28;01mraise\u001b[39;00m \u001b[38;5;167;01mValueError\u001b[39;00m(\u001b[38;5;124mf\u001b[39m\u001b[38;5;124m'\u001b[39m\u001b[38;5;124mДаты: \u001b[39m\u001b[38;5;132;01m{\u001b[39;00mdate\u001b[38;5;132;01m}\u001b[39;00m\u001b[38;5;124m  - нет в заголовках\u001b[39m\u001b[38;5;124m'\u001b[39m)\n\u001b[1;32m     13\u001b[0m date_index \u001b[38;5;241m=\u001b[39m headers\u001b[38;5;241m.\u001b[39mindex(date)   \u001b[38;5;66;03m#получаю индекс столбца с указанной датой    \u001b[39;00m\n\u001b[1;32m     14\u001b[0m \u001b[38;5;28;01mfor\u001b[39;00m row \u001b[38;5;129;01min\u001b[39;00m reader:\n",
      "\u001b[0;31mValueError\u001b[0m: Даты: 31-08-2025  - нет в заголовках"
     ]
    }
   ],
   "source": [
    "get_lecture_attendance('31-08-2025')"
   ]
  },
  {
   "cell_type": "code",
   "execution_count": 49,
   "id": "9135f911-c724-4861-92c1-589cc8f0ba3e",
   "metadata": {},
   "outputs": [],
   "source": [
    "# II способ:\n",
    "\n",
    "def get_lecture_attendance_2(date: str) ->  int:\n",
    "    '''количество человек на лекции в указанный день'''\n",
    "    attendance = 0\n",
    "    with open('visits_status.csv', 'r') as f:\n",
    "        reader = csv.DictReader(f) #читает стр из файла и возвр их в виде словарей,ключи-заголовки столбцов,знач.-данные столб-в\n",
    "        \n",
    "        for row in reader:\n",
    "            item = row[date].strip()\n",
    "            if item == '1':\n",
    "                attendance += 1\n",
    "    return attendance\n"
   ]
  },
  {
   "cell_type": "code",
   "execution_count": 50,
   "id": "a4da260d-d9e4-4b13-8bec-ad9ffbb3942b",
   "metadata": {},
   "outputs": [
    {
     "data": {
      "text/plain": [
       "4"
      ]
     },
     "execution_count": 50,
     "metadata": {},
     "output_type": "execute_result"
    }
   ],
   "source": [
    "get_lecture_attendance_2('03-04-2024')"
   ]
  },
  {
   "cell_type": "markdown",
   "id": "a966652e-e13b-4717-baf5-c0ece58af0f1",
   "metadata": {},
   "source": [
    "3. Реализовать функцию которая получает номер задания и возвращает то сколько человек приступали к этому заданию."
   ]
  },
  {
   "cell_type": "code",
   "execution_count": 51,
   "id": "376e7abc-4d9a-431b-af85-8fcaa51c5370",
   "metadata": {},
   "outputs": [],
   "source": [
    "def count_people_started_hw(hw):\n",
    "    '''функция подсчета человек,приступивших к указанному заданию'''\n",
    "    people = 0\n",
    "    with open('hw_status.csv', 'r') as f:\n",
    "        reader = csv.DictReader(f)\n",
    "        # if hw is not reader:\n",
    "        #     raise ValueError(f'Задания {hw} нет в таблице')\n",
    "\n",
    "        for row in reader:\n",
    "            i = row[hw].strip().replace('%', '')\n",
    "            if i:\n",
    "                if i != '0':\n",
    "                    people += 1\n",
    "    return people"
   ]
  },
  {
   "cell_type": "code",
   "execution_count": 52,
   "id": "07f14595-d339-4c46-a6e1-5eed900e3e9f",
   "metadata": {},
   "outputs": [
    {
     "data": {
      "text/plain": [
       "2"
      ]
     },
     "execution_count": 52,
     "metadata": {},
     "output_type": "execute_result"
    }
   ],
   "source": [
    "count_people_started_hw('hw-11')"
   ]
  },
  {
   "cell_type": "markdown",
   "id": "44aaf7b6-da6c-4790-bafd-b7770a38af15",
   "metadata": {},
   "source": [
    "4. Реализовать функцию которая получает номер задания и возвращает средний процент выполнения задания у всех кто к нему приступал."
   ]
  },
  {
   "cell_type": "code",
   "execution_count": 53,
   "id": "b760a550-f631-4c35-9177-3eb5476e3824",
   "metadata": {},
   "outputs": [],
   "source": [
    "def get_average_completion_rate(hw):\n",
    "    '''функция подсчета среднего процента выполнения задания у всех кто к нему приступал.'''\n",
    "    sum_rate = 0\n",
    "    count = count_people_started_hw(hw)\n",
    "\n",
    "    if count == 0:\n",
    "        return 0 \n",
    "            \n",
    "    with open('hw_status.csv', 'r') as f:\n",
    "        reader = csv.DictReader(f)\n",
    "         \n",
    "        for row in reader:\n",
    "            value = row[hw].strip().replace('%', '')\n",
    "            if value:\n",
    "                rate = float(value)\n",
    "                if rate > 0:\n",
    "                    sum_rate += rate\n",
    "\n",
    "    avg_completion_rate = sum_rate / count\n",
    "    \n",
    "    return avg_completion_rate\n",
    "    "
   ]
  },
  {
   "cell_type": "code",
   "execution_count": 54,
   "id": "42ee89e8-f741-4e50-b429-b3a003ca1cd3",
   "metadata": {},
   "outputs": [
    {
     "data": {
      "text/plain": [
       "100.0"
      ]
     },
     "execution_count": 54,
     "metadata": {},
     "output_type": "execute_result"
    }
   ],
   "source": [
    "get_average_completion_rate('hw-11')"
   ]
  },
  {
   "cell_type": "code",
   "execution_count": 55,
   "id": "b1b933d6-36e1-4e52-90f0-117e43f3d7ec",
   "metadata": {},
   "outputs": [
    {
     "data": {
      "text/plain": [
       "70.45454545454545"
      ]
     },
     "execution_count": 55,
     "metadata": {},
     "output_type": "execute_result"
    }
   ],
   "source": [
    "get_average_completion_rate('hw-9')"
   ]
  },
  {
   "cell_type": "code",
   "execution_count": 56,
   "id": "3f237700-90ba-4388-a861-801095266ea3",
   "metadata": {},
   "outputs": [
    {
     "data": {
      "text/plain": [
       "0"
      ]
     },
     "execution_count": 56,
     "metadata": {},
     "output_type": "execute_result"
    }
   ],
   "source": [
    "get_average_completion_rate('hw-14')"
   ]
  },
  {
   "cell_type": "markdown",
   "id": "4f568220-ae91-414c-81c2-1361cf7e9796",
   "metadata": {},
   "source": [
    "5. Вывести топ 5 тех кто делал подход к заданиям отсортировав их по количеству заданий выполненных на 100 %"
   ]
  },
  {
   "cell_type": "code",
   "execution_count": 57,
   "id": "33d751fe-a1af-42a1-bd11-fecc05c0aeb5",
   "metadata": {},
   "outputs": [],
   "source": [
    "import csv\n",
    "\n",
    "def top_five_users(file_name):\n",
    "    '''Функция вывода топ 5 пользователей, кто сделал больше всего заданий на 100 %'''\n",
    "    with open(file_name, \"r\") as file:\n",
    "        reader = csv.DictReader(file)\n",
    "        completed_assignments = {}\n",
    "\n",
    "        for user in reader:\n",
    "            login = user.get('login in github')  # Получаем имя пользователя\n",
    "            assignments = {key: value for key, value in user.items() if key.startswith('hw-') and ('100' in value or '100%' in value)}\n",
    "        \n",
    "# user.items() - перебираю все ключ-значение в словаре user.\n",
    "# for key, value in ... - для каждой пары ключ-значение в словаре:\n",
    "# if key.startswith('hw-') - если ключ начинается с 'hw-', что обычно означает, что это задание.\n",
    "# ('100' in value or '100%' in value) - если значение содержит '100' или '100%', что обозначает выполнение задания на 100%.\n",
    "# {key: value for ...} - создаем словарь, где ключами будут задания, а значениями - их статус выполнения.\n",
    "# Т.о., создаю словарь assignments, где ключами являются задания (в формате \"hw-№\"), а значениями - статусы их выполнения.\n",
    "            \n",
    "            completed_assignments[login] = len(assignments) \n",
    "            # completed_assignments - это словарь, ключи - логины пользователей,значения - кол-во выполн.на 100% заданий.\n",
    "            # каждый логин соответствует количеству выполненных заданий на 100%.\n",
    "\n",
    "\n",
    "    # Сортируем пользователей по количеству выполненных на 100% заданий\n",
    "    sorted_users = sorted(completed_assignments.items(), key=lambda x: x[1], reverse=True)\n",
    "    \n",
    "    # Формируем список результатов для вывода\n",
    "    result = []\n",
    "    for i, (login, completed) in enumerate(sorted_users[:5], 1): \n",
    "        # цикл for, который проходит по первым пяти элементам отсортированного списка sorted_users. \n",
    "        # Функция enumerate() добавляет к каждому элементу индекс, начиная с 1. \n",
    "        # Переменная i будет содержать этот индекс, \n",
    "        # (login, completed) - значения логина и количества выполненных заданий на 100%\n",
    "        #формируем строку с инфо о пользователе(login), кол-ве вып.заданий(completed),добавляем ее в список result\n",
    "        result.append(f\"{i}. {login}: {completed} заданий выполненных на 100%\")\n",
    "    \n",
    "    return result\n"
   ]
  },
  {
   "cell_type": "code",
   "execution_count": 58,
   "id": "aea5cd56-28f2-4a15-99e6-dfaefc825ce7",
   "metadata": {},
   "outputs": [
    {
     "data": {
      "text/plain": [
       "['1. theRate: 10 заданий выполненных на 100%',\n",
       " '2. misterdx: 9 заданий выполненных на 100%',\n",
       " '3. Re-gi-na: 9 заданий выполненных на 100%',\n",
       " '4. ruslan-yusupov-open: 9 заданий выполненных на 100%',\n",
       " '5. Andreyvolodinpro: 8 заданий выполненных на 100%']"
      ]
     },
     "execution_count": 58,
     "metadata": {},
     "output_type": "execute_result"
    }
   ],
   "source": [
    "top_five_users(\"hw_status.csv\")"
   ]
  },
  {
   "cell_type": "markdown",
   "id": "9c862e37-08fd-4aed-8661-8e1a8e494559",
   "metadata": {},
   "source": [
    "6. Вывести с 11 по 15 позиции тех кто делал подход к заданиям отсортировав их по количеству заданий выполненных на 100 %."
   ]
  },
  {
   "cell_type": "code",
   "execution_count": 59,
   "id": "142cf004-5d91-4790-b904-be87544b6cc1",
   "metadata": {},
   "outputs": [],
   "source": [
    "import csv\n",
    "\n",
    "def users_completed_hw_from_to(file):\n",
    "    '''Функция вывода пользователей, которые занимают 11-15 места по кол-ву выполненных заданий на 100%'''\n",
    "    with open(file, 'r') as f:\n",
    "        reader = csv.DictReader(f)\n",
    "        completed_tasks = {}\n",
    "\n",
    "        for user in reader:\n",
    "            login = user.get('login in github')\n",
    "            tasks = {key: value for key, value in user.items() if key.startswith('hw-') and ('100' in value or '100%' in value)}\n",
    "            completed_tasks[login] = len(tasks)\n",
    "    \n",
    "    sorted_users = sorted(completed_tasks.items(), key=lambda x: x[1], reverse=True)\n",
    "   \n",
    "    result = []\n",
    "    for i, (login, comleted_hw) in enumerate(sorted_users[10:15], 11):\n",
    "        result.append(f'{i}. {login}: {comleted_hw} выполненных заданий на 100%')\n",
    "    \n",
    "    return result\n"
   ]
  },
  {
   "cell_type": "code",
   "execution_count": 60,
   "id": "cfaa439c-b455-4ded-9737-c56382c11f73",
   "metadata": {},
   "outputs": [
    {
     "data": {
      "text/plain": [
       "['11. Rikacom: 8 выполненных заданий на 100%',\n",
       " '12. Anzhela-Volodina: 7 выполненных заданий на 100%',\n",
       " '13. okorch: 7 выполненных заданий на 100%',\n",
       " '14. PterOculus: 7 выполненных заданий на 100%',\n",
       " '15. VeraYohanga: 7 выполненных заданий на 100%']"
      ]
     },
     "execution_count": 60,
     "metadata": {},
     "output_type": "execute_result"
    }
   ],
   "source": [
    "users_completed_hw_from_to(\"hw_status.csv\")\n"
   ]
  },
  {
   "cell_type": "markdown",
   "id": "21a161ad-5018-4542-a5a1-20dd03611202",
   "metadata": {},
   "source": [
    "7. Вернуть позицию в рейтинге по выполненным заданиям для конкретного участника, используя его логин на гитхабе."
   ]
  },
  {
   "cell_type": "code",
   "execution_count": 61,
   "id": "9eccc9dd-a12c-4b36-a16a-6bf8744eff5c",
   "metadata": {},
   "outputs": [],
   "source": [
    "import csv\n",
    "\n",
    "def user_rank_by_login(file_hw, username):\n",
    "    '''Функция возврата позиции в рейтинге по выполненным заданиям для конкретного участника по его логину'''\n",
    "    with open(file_hw, 'r') as f:\n",
    "        reader = csv.DictReader(f)\n",
    "        completed_tasks = {}\n",
    "\n",
    "        for row in reader:\n",
    "            user = row.get('login in github')\n",
    "            if user:\n",
    "                tasks = {key: value for key, value in row.items() if key.startswith('hw-') and ('100' in value or '100%' in value)}\n",
    "                completed_tasks[user] = len(tasks)\n",
    "    \n",
    "    sorted_users = sorted(completed_tasks.items(), key=lambda x: x[1], reverse=True)\n",
    "    \n",
    "    for rank, (login, completed_hw) in enumerate(sorted_users, 1):  # Рейтинг начинается с 1\n",
    "        if login == username:\n",
    "            return f'{login} занимает {rank} место с {completed_hw} выполненными заданиями на 100%'\n",
    "    \n",
    "    return f'Пользователь с логином {username} не найден.'\n"
   ]
  },
  {
   "cell_type": "code",
   "execution_count": 62,
   "id": "93ef3861-6762-4791-84db-40b058150f7d",
   "metadata": {},
   "outputs": [
    {
     "name": "stdout",
     "output_type": "stream",
     "text": [
      "arisova занимает 8 место с 8 выполненными заданиями на 100%\n"
     ]
    }
   ],
   "source": [
    "user1 = user_rank_by_login('hw_status.csv', 'arisova')\n",
    "print(user1)"
   ]
  },
  {
   "cell_type": "markdown",
   "id": "c9cca9b0-bcdc-4515-b7ab-64de3eb583f6",
   "metadata": {},
   "source": [
    "8. Вернуть позицию в рейтинге по выполненным заданиям для конкретного участника и количество занятий на которых он был, используя его логин на гитхабе."
   ]
  },
  {
   "cell_type": "code",
   "execution_count": 63,
   "id": "e033f82a-0ba8-48f5-b4eb-a156622c8134",
   "metadata": {},
   "outputs": [],
   "source": [
    "import csv\n",
    "\n",
    "def position_and_lectures_of_user(file_visit_status, file_hw, username):\n",
    "    '''Функция возвращает позицию в рейтинге и количество выполненных заданий для пользователя'''\n",
    "    with open(file_visit_status, \"r\") as file:\n",
    "        reader = csv.reader(file)\n",
    "        \n",
    "        count = 0\n",
    "        for row in reader:\n",
    "            if row[0] == username:\n",
    "                for value in row[2:]:\n",
    "                    if value and value != '0' and value != '-':\n",
    "                        count += 1\n",
    "\n",
    "    # Получаем позицию в рейтинге по выполненным заданиям, используя функцию, написанную ранее \n",
    "    position = user_rank_by_login(file_hw, username)\n",
    "    \n",
    "    if position is not None:\n",
    "        return f\"Пользователь {position}. Количество занятий, на которых был: {count}\"\n",
    "    else:\n",
    "        return f\"Пользователь {username} не найден в рейтинге.\"\n"
   ]
  },
  {
   "cell_type": "code",
   "execution_count": 64,
   "id": "d88b7737-f4f4-4c8b-b7aa-b2925c4ebc2b",
   "metadata": {},
   "outputs": [
    {
     "name": "stdout",
     "output_type": "stream",
     "text": [
      "Пользователь okorch занимает 13 место с 7 выполненными заданиями на 100%. Количество занятий, на которых был: 5\n"
     ]
    }
   ],
   "source": [
    "print(position_and_lectures_of_user(\"visits_status.csv\", 'hw_status.csv', \"okorch\"))"
   ]
  },
  {
   "cell_type": "markdown",
   "id": "3f8d31d2-9ad5-4e72-b9bf-f7e1262c47a6",
   "metadata": {},
   "source": [
    "9. Посчитать медиану по количеству выполненных заданий среди тех кто делал подход к заданиям."
   ]
  },
  {
   "cell_type": "code",
   "execution_count": 65,
   "id": "1eb3d51e-8b21-4de7-b4a1-a8f454078f01",
   "metadata": {},
   "outputs": [],
   "source": [
    "import csv\n",
    "import statistics\n",
    "\n",
    "def convert_percentage(value):\n",
    "    '''функция преобразования %'''\n",
    "    if value.endswith('%'):\n",
    "        return float(value.strip('%'))\n",
    "    try:\n",
    "        return float(value)\n",
    "    except ValueError:\n",
    "        return 0\n",
    "        \n",
    "\n",
    "def process_csv_file(file_name):\n",
    "    '''Функция подсчета медианы по количеству выполненных заданий среди тех, кто делал подход к заданиям.'''\n",
    "    completed_tasks = []\n",
    "    \n",
    "    with open(file_name, 'r') as file:\n",
    "        reader = csv.reader(file, delimiter=',')\n",
    "        headers = next(reader)  # Пропустить заголовок\n",
    "        for row in reader:\n",
    "            task_counts = [convert_percentage(cell) for cell in row[2:]]\n",
    "            completed_task_count = sum(1 for task in task_counts if task > 0)\n",
    "            if completed_task_count > 0:\n",
    "                completed_tasks.append(completed_task_count)\n",
    "    median_completed_tasks = statistics.median(completed_tasks)\n",
    "    # print(completed_tasks)\n",
    "    sorted_completed_tasks = sorted(completed_tasks)\n",
    "    # print(len(completed_tasks))\n",
    "    #return str(median_completed_tasks) + '- медиана. Отсортированный список: ' + ' '.join(map(str, sorted_completed_tasks))\n",
    "    #return median_completed_tasks, sorted_completed_tasks\n",
    "    sorted_tasks_str = ' '.join(str(task) for task in sorted_completed_tasks)\n",
    "    return f\"{median_completed_tasks} - медиана. Отсортированный список: {sorted_tasks_str}\"\n"
   ]
  },
  {
   "cell_type": "code",
   "execution_count": 66,
   "id": "edcfde28-ca1e-42f8-87c9-9131fbcd1a70",
   "metadata": {},
   "outputs": [
    {
     "data": {
      "text/plain": [
       "'6.5 - медиана. Отсортированный список: 2 3 3 3 4 4 4 5 5 5 5 5 6 6 6 6 7 8 8 8 8 9 9 9 9 9 9 9 10 10 10 11'"
      ]
     },
     "execution_count": 66,
     "metadata": {},
     "output_type": "execute_result"
    }
   ],
   "source": [
    "process_csv_file('hw_status.csv')\n"
   ]
  },
  {
   "cell_type": "markdown",
   "id": "27d9a29a-cd12-40d1-9d26-6d37aa039123",
   "metadata": {},
   "source": [
    "\n",
    "10. Узнать в какой часть медианы ( левой или правой) находится участник используя логин гитхаба.'''\n"
   ]
  },
  {
   "cell_type": "code",
   "execution_count": 107,
   "id": "f9ded0d8-67bc-45db-a196-a17078abd10b",
   "metadata": {},
   "outputs": [],
   "source": [
    "def process_csv_file(file_name, username):\n",
    "    '''Функция подсчета медианы по количеству выполненных заданий и определение положения участника по отношению к медиане.'''\n",
    "    completed_tasks = []\n",
    "    \n",
    "    with open(file_name, 'r') as file:\n",
    "        reader = csv.reader(file, delimiter=',')\n",
    "        headers = next(reader)  # Пропустить заголовок\n",
    "        for row in reader:\n",
    "            user = row[0]\n",
    "            if user == username:\n",
    "                task_counts = [convert_percentage(cell) for cell in row[2:]]\n",
    "                completed_task_count = sum(1 for task in task_counts if task > 0)\n",
    "                if completed_task_count > 0:\n",
    "                    completed_tasks.append(completed_task_count)\n",
    "    \n",
    "    if completed_tasks:\n",
    "        median_completed_tasks = statistics.median(completed_tasks)\n",
    "        user_completed_tasks = completed_tasks[0]\n",
    "        \n",
    "        if user_completed_tasks < median_completed_tasks:\n",
    "            return f\"{username} находится в левой части списка медианы выполненных заданий.\"\n",
    "        elif user_completed_tasks > median_completed_tasks:\n",
    "            return f\"{username} находится в правой части списка медианы выполненных заданий.\"\n",
    "        else:\n",
    "            return f\"{username} находится в середине списка медианы выполненных заданий.\"\n",
    "    else:\n",
    "        return f\"Участник с логином {username} не найден или у него нет выполненных заданий.\"\n",
    "\n"
   ]
  },
  {
   "cell_type": "code",
   "execution_count": 108,
   "id": "24c72a84-02e4-453e-b084-8028ecc012d8",
   "metadata": {},
   "outputs": [
    {
     "name": "stdout",
     "output_type": "stream",
     "text": [
      "ADKazdym находится в середине списка медианы выполненных заданий.\n"
     ]
    }
   ],
   "source": [
    "file_name = \"hw_status.csv\"  \n",
    "username = \"ADKazdym\" \n",
    "\n",
    "result = process_csv_file(file_name, username)\n",
    "print(result)\n"
   ]
  },
  {
   "cell_type": "code",
   "execution_count": null,
   "id": "fa71e20f-f319-403a-8471-8569d80e7c4d",
   "metadata": {},
   "outputs": [],
   "source": []
  }
 ],
 "metadata": {
  "kernelspec": {
   "display_name": "Python 3 (ipykernel)",
   "language": "python",
   "name": "python3"
  },
  "language_info": {
   "codemirror_mode": {
    "name": "ipython",
    "version": 3
   },
   "file_extension": ".py",
   "mimetype": "text/x-python",
   "name": "python",
   "nbconvert_exporter": "python",
   "pygments_lexer": "ipython3",
   "version": "3.10.10"
  }
 },
 "nbformat": 4,
 "nbformat_minor": 5
}
