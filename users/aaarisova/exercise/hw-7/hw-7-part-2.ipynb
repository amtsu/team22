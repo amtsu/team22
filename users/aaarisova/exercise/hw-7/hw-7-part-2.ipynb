{
 "cells": [
  {
   "cell_type": "markdown",
   "id": "8b297e4b-5c57-4031-8477-6852f9969a5a",
   "metadata": {},
   "source": [
    "# Упражнения  1"
   ]
  },
  {
   "cell_type": "markdown",
   "id": "6d1f2730-c3fe-48c4-8146-52ea02dee954",
   "metadata": {},
   "source": [
    "#1. Любимые вещи \n",
    "\n",
    "Создайте список своих любимых развлечений и сохраните его в переменной games. Теперь создайте список любимых лакомств, сохранив его в переменной foods. Объедините два этих списка, сохранив результат в переменной favorites, и напечатайте значение этой переменной. "
   ]
  },
  {
   "cell_type": "code",
   "execution_count": 5,
   "id": "ea1d315e-7e42-4d66-ba7a-65522a0a1ede",
   "metadata": {},
   "outputs": [
    {
     "name": "stdout",
     "output_type": "stream",
     "text": [
      "['fallout', 'Ведьмак', 'Red Dead Redemption', 'Берти Боттс', 'бульквасень', 'Жвачка-обед из трёх блюд']\n"
     ]
    }
   ],
   "source": [
    "my_favorite_games = [\"fallout\", \"Ведьмак\", \"Red Dead Redemption\"]\n",
    "games = my_favorite_games\n",
    "\n",
    "my_favorite_sweeet = ['Берти Боттс', 'бульквасень', 'Жвачка-обед из трёх блюд']\n",
    "foods = my_favorite_sweeet\n",
    "\n",
    "favorites = games + foods\n",
    "print(favorites)\n"
   ]
  },
  {
   "cell_type": "markdown",
   "id": "f55e90dd-f196-4444-9ade-271f2a3035e3",
   "metadata": {},
   "source": [
    "#2. Подсчет воинов \n",
    "\n",
    "Есть 3 дома, на крыше каждого из которых прячутся по 25 ниндзя, и есть 2 туннеля, в каждом из которых скрывается по 40 самураев. Сколько всего воинов решили устроить заварушку? (Ответ можно найти, введя в оболочке Python арифметическое выражение.) "
   ]
  },
  {
   "cell_type": "code",
   "execution_count": 6,
   "id": "48d70103-c81f-4a12-b97b-5b0d4052d1c7",
   "metadata": {},
   "outputs": [
    {
     "name": "stdout",
     "output_type": "stream",
     "text": [
      "155\n"
     ]
    }
   ],
   "source": [
    "houses = 3\n",
    "ninja = 25\n",
    "tunnels = 2\n",
    "samurai = 40\n",
    "\n",
    "total_warriors = houses * ninja + tunnels * samurai\n",
    "print(total_warriors)\n"
   ]
  },
  {
   "cell_type": "markdown",
   "id": "c0aed4b8-cfae-4122-a1a4-2ac301e230f3",
   "metadata": {},
   "source": [
    "#3. Приветствие \n",
    "\n",
    "Создайте две переменные: пусть одна хранит ваше имя, а другая фамилию. Теперь с помощью строки с метками %s напечатайте приветствие вроде такого: «Привет, Брандо Икетт!». "
   ]
  },
  {
   "cell_type": "code",
   "execution_count": 12,
   "id": "135378dc-e343-4fd3-b135-27dea679d26b",
   "metadata": {},
   "outputs": [
    {
     "name": "stdout",
     "output_type": "stream",
     "text": [
      "Привет, Anna Arisova!\n"
     ]
    }
   ],
   "source": [
    "my_name = \"Anna\"\n",
    "my_surname = \"Arisova\"\n",
    "\n",
    "print('Привет, %s %s!' % (my_name,my_surname))\n"
   ]
  },
  {
   "cell_type": "markdown",
   "id": "a8184374-86ca-44d2-bd6d-7b8e977e1414",
   "metadata": {},
   "source": [
    "# Упражнения  2"
   ]
  },
  {
   "cell_type": "markdown",
   "id": "aff0b705-69b3-46a7-a507-84ef59251ed9",
   "metadata": {},
   "source": [
    "Решите эти задачи, используя конструкции if и условия. "
   ]
  },
  {
   "cell_type": "markdown",
   "id": "89d1f11b-2cc5-4c43-abfc-acd93c96af98",
   "metadata": {},
   "source": [
    "#1. Вы богаты? \n",
    "\n",
    "Как думаете, что делает этот код? Сначала попробуйте в этом разобраться, не вводя код в оболочку Python, а затем проверьте свой ответ. \n",
    "\n",
    "money = 2000\n",
    "if money > 1000:\n",
    "     print(\"Я богат!\")\n",
    "else: \n",
    "     print(\"Я не богат!\")\n",
    "     print(\"Может, когда-нибудь потом...\")"
   ]
  },
  {
   "cell_type": "code",
   "execution_count": 14,
   "id": "1f496883-36ef-4b16-9ce0-4a9b37f2d522",
   "metadata": {},
   "outputs": [
    {
     "name": "stdout",
     "output_type": "stream",
     "text": [
      "Я богат!\n"
     ]
    }
   ],
   "source": [
    "money = 2000 \n",
    "if money > 1000: \n",
    "    print(\"Я богат!\") \n",
    "else: \n",
    "    print(\"Я не богат!\") \n",
    "    print(\"Может, когда-нибудь потом...\")\n"
   ]
  },
  {
   "cell_type": "markdown",
   "id": "1183331f-c46e-4893-bf55-2bdb670e255e",
   "metadata": {},
   "source": [
    "#2. Бисквитики! \n",
    "\n",
    "Создайте конструкцию if, которая проверяет, действительно ли количество бисквитов (которое задано в переменной twinkies) меньше 100 или больше 500. Если это условие выполняется, пусть ваша программа напечатает сообщение «Слишком мало или слишком много». "
   ]
  },
  {
   "cell_type": "code",
   "execution_count": 18,
   "id": "843ce7cf-4ab7-4535-bbbc-47c73a114b44",
   "metadata": {},
   "outputs": [
    {
     "name": "stdout",
     "output_type": "stream",
     "text": [
      "Слишком мало или слишком много\n"
     ]
    }
   ],
   "source": [
    "twinkies = 50\n",
    "if 100 > twinkies or twinkies > 500:\n",
    "    print(\"Слишком мало или слишком много\")\n",
    "else:\n",
    "    print(\"достаточно\")\n"
   ]
  },
  {
   "cell_type": "markdown",
   "id": "fb539c2b-233a-4742-9b90-62d49976c1fc",
   "metadata": {},
   "source": [
    "#3. Подходящая сумма \n",
    "\n",
    "Создайте конструкцию if, которая проверяет, соответствует ли заданная в переменной money сумма денег диапазону значений от 100 до 500 или диапазону значений от 1000 до 5000. \n"
   ]
  },
  {
   "cell_type": "code",
   "execution_count": 20,
   "id": "047c7ab4-a1bf-4dae-90ff-91f51baf9150",
   "metadata": {},
   "outputs": [
    {
     "name": "stdout",
     "output_type": "stream",
     "text": [
      "соответствует диапазону\n"
     ]
    }
   ],
   "source": [
    "money = 2000\n",
    "if 100 <= money <= 500 or 1000 <= money <= 5000:\n",
    "    print('соответствует диапазону')\n",
    "else:\n",
    "    print('не соответствует диапазону')\n",
    "    "
   ]
  },
  {
   "cell_type": "markdown",
   "id": "b45acc03-9cac-488e-9e0a-7a1016d6ac44",
   "metadata": {},
   "source": [
    "#4. Я одолею этих ниндзя! \n",
    "\n",
    "Создайте конструкцию if, которая печатает строку «Их слишком много», если количество ниндзя (заданное в переменной ninjas) меньше 50, печатает «Будет непросто, но я с ними разделаюсь», если это количество меньше 30, и печатает «Я одолею этих ниндзя!», если количество меньше 10. Проверьте, как ваш код работает с таким значением: \n",
    "\n",
    "ninjas = 5 \n"
   ]
  },
  {
   "cell_type": "code",
   "execution_count": 23,
   "id": "e1230967-5d4f-4eed-8ce6-c87d1b4a8a23",
   "metadata": {},
   "outputs": [
    {
     "name": "stdout",
     "output_type": "stream",
     "text": [
      "Я одолею этих ниндзя!\n",
      "Будет непросто, но я с ними разделаюсь\n",
      "Их слишком много\n"
     ]
    }
   ],
   "source": [
    "ninjas = 5\n",
    "\n",
    "if ninjas < 10:\n",
    "    print('Я одолею этих ниндзя!')\n",
    "if ninjas < 30:\n",
    "    print('Будет непросто, но я с ними разделаюсь')\n",
    "if ninjas < 50:\n",
    "    print('Их слишком много')\n",
    "\n"
   ]
  },
  {
   "cell_type": "markdown",
   "id": "a8ce929f-9301-4ef5-ba8b-995cdca327be",
   "metadata": {},
   "source": [
    "# Упражнения  3"
   ]
  },
  {
   "cell_type": "markdown",
   "id": "a329ee3c-f1ba-474e-8522-9c22cba41c39",
   "metadata": {},
   "source": [
    "#1. Цикл с приветом \n",
    "\n",
    "Как вы считаете, что делает эта программа? Сперва придумайте вариант ответа, а потом запустите код и проверьте, угадали ли вы. \n",
    "\n",
    "for x in range(0, 20):\n",
    "    print('привет %s' % x)\n",
    "    if x < 9:\n",
    "        break "
   ]
  },
  {
   "cell_type": "code",
   "execution_count": 30,
   "id": "08548a7c-a261-425d-bd34-a299a5f0fb4d",
   "metadata": {},
   "outputs": [
    {
     "name": "stdout",
     "output_type": "stream",
     "text": [
      "привет 0\n"
     ]
    }
   ],
   "source": [
    "for x in range(0, 20): \n",
    "    print('привет %s' % x) \n",
    "    if x < 9: \n",
    "        break"
   ]
  },
  {
   "cell_type": "markdown",
   "id": "aa377f2e-0bdd-4cc9-b37b-6e4afbc8403f",
   "metadata": {},
   "source": [
    "#2. Четные числа \n",
    "\n",
    "Создайте цикл, который печатает четные числа до тех пор, пока не выведет ваш возраст. Если ваш возраст — нечетное число, создайте цикл, который печатает нечетные числа до совпадения с возрастом. Программа должна выводить на экран нечто подобное: \n",
    "\n",
    "2 4 6 8 10 12 14 "
   ]
  },
  {
   "cell_type": "code",
   "execution_count": 37,
   "id": "64808506-2ee5-44e3-933f-f2fa5cdfbb7b",
   "metadata": {},
   "outputs": [
    {
     "name": "stdout",
     "output_type": "stream",
     "text": [
      "2\n",
      "4\n",
      "6\n",
      "8\n",
      "10\n",
      "12\n",
      "14\n",
      "16\n",
      "18\n"
     ]
    }
   ],
   "source": [
    "for x in range(0,45):\n",
    "    if x%2 == 0 and x != 0:\n",
    "        print(x)\n",
    "    if x == 18:\n",
    "        break\n"
   ]
  },
  {
   "cell_type": "markdown",
   "id": "cd4c3457-59d6-40e0-a108-563c4c77a537",
   "metadata": {},
   "source": [
    "#3. Пять любимых ингредиентов \n",
    "\n",
    "Создайте список с пятью разными ингредиентами для бутерброда, наподобие: \n",
    "\n",
    "ingredients = ['слизни', 'пиявки', 'катышки изпупка гориллы', 'брови гусеницы', 'пальцы многоножки'] \n",
    "\n",
    "Теперь создайте цикл, который печатает список ингредиентов с нумерацией: \n",
    "\n",
    "1 слизни\n",
    "2 пиявки\n",
    "3 катышки изпупка гориллы \n",
    "4 брови гусеницы\n",
    "5 пальцы многоножки"
   ]
  },
  {
   "cell_type": "code",
   "execution_count": 43,
   "id": "a30db66d-3707-44f5-aefc-b0f5072865e2",
   "metadata": {},
   "outputs": [
    {
     "name": "stdout",
     "output_type": "stream",
     "text": [
      "1 сало\n",
      "2 шпроты\n",
      "3 чеснок\n",
      "4 масло\n",
      "5 майонез\n"
     ]
    }
   ],
   "source": [
    "ingredients = ['сало', 'шпроты', 'чеснок', 'масло', 'майонез']\n",
    "\n",
    "count = 1\n",
    "for x in ingredients:\n",
    "    print(str(count) + ' ' + x)\n",
    "    count += 1"
   ]
  },
  {
   "cell_type": "markdown",
   "id": "d7125cd4-c7b2-4660-9663-9c0bcfb50035",
   "metadata": {},
   "source": [
    "#4. Ваш лунный вес \n",
    "\n",
    "Если бы вы сейчас были на Луне, ваш вес составил бы 16,5 процентов от земного. Чтобы узнать, сколько это, умножьте свой земной вес на 0,165. \n",
    "\n",
    "Если бы каждый год в течение следующих 15 лет вы прибавляли по одному килограмму веса, каким бы оказался ваш лунный вес в каждый из ежегодных визитов на Луну вплоть до 15-го года? Напишите программу, которая с помощью цикла for печатает на экране ваш лунный \n",
    "\n",
    "вес в каждом году. "
   ]
  },
  {
   "cell_type": "code",
   "execution_count": 69,
   "id": "ad861507-f573-40c6-aa95-ac6b24467b5a",
   "metadata": {},
   "outputs": [
    {
     "name": "stdout",
     "output_type": "stream",
     "text": [
      "16.5\n",
      "16.665\n",
      "16.830000000000002\n",
      "16.995\n",
      "17.16\n",
      "17.325\n",
      "17.490000000000002\n",
      "17.655\n",
      "17.82\n",
      "17.985\n",
      "18.150000000000002\n",
      "18.315\n",
      "18.48\n",
      "18.645\n",
      "18.810000000000002\n"
     ]
    }
   ],
   "source": [
    "earth_weigth = 100\n",
    "\n",
    "for year in range(0,15):\n",
    "    moon_weight = earth_weigth * 0.165\n",
    "    print (moon_weight)\n",
    "    earth_weigth += 1\n",
    "    \n"
   ]
  },
  {
   "cell_type": "markdown",
   "id": "1c91e73f-5a93-41ed-8c5e-9e9f488d04cb",
   "metadata": {},
   "source": [
    "# Упражнения  4"
   ]
  },
  {
   "cell_type": "markdown",
   "id": "a0fa4a4d-2624-4715-b015-c4a02b2ee4f5",
   "metadata": {},
   "source": [
    "Вот несколько упражнений по созданию ваших собственных функций. "
   ]
  },
  {
   "cell_type": "markdown",
   "id": "5cf4b869-1746-42c4-9aef-b49d7e3896ee",
   "metadata": {},
   "source": [
    "#1. Функция лунного веса \n",
    "\n",
    "Одним из предыдущих заданий было создание цикла for для расчета вашего веса на Луне в течение 15 лет. Этот цикл можно оформить в виде функции. Создайте функцию, которая принимает начальный вес и величину, на которую вес увеличивается каждый год. Вызывать эту новую функцию нужно будет примерно так: \n",
    "\n",
    "    moon_weight(30, 0.25)"
   ]
  },
  {
   "cell_type": "code",
   "execution_count": 78,
   "id": "372677e1-02cb-47da-b9a9-4c3676f497ca",
   "metadata": {},
   "outputs": [
    {
     "name": "stdout",
     "output_type": "stream",
     "text": [
      "16.5\n",
      "16.665\n",
      "16.830000000000002\n",
      "16.995\n",
      "17.16\n",
      "17.325\n",
      "17.490000000000002\n",
      "17.655\n",
      "17.82\n",
      "17.985\n",
      "18.150000000000002\n",
      "18.315\n",
      "18.48\n",
      "18.645\n",
      "18.810000000000002\n"
     ]
    }
   ],
   "source": [
    "def moon_weight(kg, value):\n",
    "    for year in range(0,15):\n",
    "        moon_weight = kg * value\n",
    "        print (moon_weight)\n",
    "        kg += 1\n",
    "\n",
    "\n",
    "moon_weight(100, 0.165)"
   ]
  },
  {
   "cell_type": "markdown",
   "id": "0eb1d6b8-e319-4fa2-b6a5-30d6faee9513",
   "metadata": {},
   "source": [
    "#2. Функция лунного веса и количество лет \n",
    "\n",
    "Измените функцию из предыдущего задания так, чтобы с ее помощью можно было рассчитывать вес для разного количества лет, например 5 или 20 лет. Пусть эта функция принимает три аргумента: начальный вес, прибавку веса в год и количество лет: \n",
    "\n",
    "      moon_weight(90, 0.25, 5)"
   ]
  },
  {
   "cell_type": "code",
   "execution_count": 88,
   "id": "58d80b9b-2108-4ba8-ad87-04799569178c",
   "metadata": {},
   "outputs": [
    {
     "name": "stdout",
     "output_type": "stream",
     "text": [
      "16.995\n",
      "17.490000000000002\n"
     ]
    }
   ],
   "source": [
    "def moon_weight(firs_weight, add_kg, years):  #?\n",
    "    for year in range(1, years+1):\n",
    "        moon_weight = (firs_weight + add_kg * year) * 0.165\n",
    "        print (moon_weight)\n",
    "\n",
    "\n",
    "moon_weight(100, 3, 2)  \n"
   ]
  },
  {
   "cell_type": "code",
   "execution_count": null,
   "id": "93e4e174-efd9-4ee7-ad88-b8f770a2782a",
   "metadata": {},
   "outputs": [],
   "source": []
  }
 ],
 "metadata": {
  "kernelspec": {
   "display_name": "Python 3 (ipykernel)",
   "language": "python",
   "name": "python3"
  },
  "language_info": {
   "codemirror_mode": {
    "name": "ipython",
    "version": 3
   },
   "file_extension": ".py",
   "mimetype": "text/x-python",
   "name": "python",
   "nbconvert_exporter": "python",
   "pygments_lexer": "ipython3",
   "version": "3.10.10"
  }
 },
 "nbformat": 4,
 "nbformat_minor": 5
}
