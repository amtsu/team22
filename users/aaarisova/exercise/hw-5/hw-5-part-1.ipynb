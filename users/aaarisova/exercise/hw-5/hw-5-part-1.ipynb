{
 "cells": [
  {
   "cell_type": "markdown",
   "id": "f78084ef-7bf5-47a8-8353-7b9ddbdfcba2",
   "metadata": {},
   "source": [
    "Множества"
   ]
  },
  {
   "cell_type": "code",
   "execution_count": 5,
   "id": "f856fb1b-43eb-4a51-ae4b-e7b88683b819",
   "metadata": {},
   "outputs": [
    {
     "name": "stdout",
     "output_type": "stream",
     "text": [
      "{1, 2, 3, 4, 5}\n"
     ]
    }
   ],
   "source": [
    "#1. Создайте множество set1 из целых чисел: 1, 2, 3, 4, 5.\n",
    "\n",
    "set1 = {1, 2, 3, 4, 5}\n",
    "print(set1)\n"
   ]
  },
  {
   "cell_type": "code",
   "execution_count": 6,
   "id": "962e4e5c-8562-4c61-bf26-4e95d5060ab2",
   "metadata": {},
   "outputs": [
    {
     "name": "stdout",
     "output_type": "stream",
     "text": [
      "{1, 2, 3, 4, 5, 6}\n"
     ]
    }
   ],
   "source": [
    "#2. Добавьте в это множество элемент 6.\n",
    "\n",
    "set1.add(6)\n",
    "print(set1)\n"
   ]
  },
  {
   "cell_type": "code",
   "execution_count": 7,
   "id": "e4c1b7ce-792c-4edf-b043-ebca1b3c47c6",
   "metadata": {},
   "outputs": [
    {
     "name": "stdout",
     "output_type": "stream",
     "text": [
      "{1, 3, 4, 5, 6}\n"
     ]
    }
   ],
   "source": [
    "#3. Удалите элемент 2 из множества.\n",
    "\n",
    "set1.remove(2)\n",
    "print(set1)\n"
   ]
  },
  {
   "cell_type": "code",
   "execution_count": 10,
   "id": "f463c90a-2b84-4f21-8ffd-4b300d206ebd",
   "metadata": {},
   "outputs": [
    {
     "name": "stdout",
     "output_type": "stream",
     "text": [
      "True\n"
     ]
    }
   ],
   "source": [
    "#4. Проверьте, содержит ли множество элемент 3.\n",
    "\n",
    "x = 3\n",
    "result = x in set1\n",
    "print(result)\n"
   ]
  },
  {
   "cell_type": "code",
   "execution_count": 13,
   "id": "16981047-2053-413d-aaab-31c36436e0b0",
   "metadata": {},
   "outputs": [
    {
     "name": "stdout",
     "output_type": "stream",
     "text": [
      "{4, 5, 6, 7, 8}\n"
     ]
    }
   ],
   "source": [
    "#5. Создайте второе множество set2 с элементами 4, 5, 6, 7, 8.\n",
    "\n",
    "set2 = {4, 5, 6, 7, 8}\n",
    "print(set2)\n"
   ]
  },
  {
   "cell_type": "code",
   "execution_count": 16,
   "id": "c841d1b1-93c4-4bd0-ab13-d60b9d7b2fa1",
   "metadata": {},
   "outputs": [
    {
     "name": "stdout",
     "output_type": "stream",
     "text": [
      "{1, 3, 4, 5, 6, 7, 8}\n"
     ]
    }
   ],
   "source": [
    "#6. Найдите объединение множеств set1 и set2.\n",
    "\n",
    "combine_set = set1 | set2\n",
    "print(combine_set)\n"
   ]
  },
  {
   "cell_type": "code",
   "execution_count": 17,
   "id": "250f3c0e-2b44-4fcd-9226-10746b17ba72",
   "metadata": {},
   "outputs": [
    {
     "name": "stdout",
     "output_type": "stream",
     "text": [
      "{1, 3}\n"
     ]
    }
   ],
   "source": [
    "#7. Найдите разность множеств set1 и set2.\n",
    "\n",
    "difference = set1 - set2\n",
    "print(difference)\n"
   ]
  },
  {
   "cell_type": "code",
   "execution_count": 23,
   "id": "d704eb72-8314-4894-9bf3-07fd3eec1833",
   "metadata": {},
   "outputs": [
    {
     "name": "stdout",
     "output_type": "stream",
     "text": [
      "{'красный', 'желтый', 'оранжевый', 'зеленый', 'синий', 'фиолетовый', 'голубой'}\n",
      "{'Мальвиновый', 'оранжевый', 'зеленый', 'синий', 'голубой'}\n"
     ]
    }
   ],
   "source": [
    "#8. Создайте два множества set1 и set2, содержащие цвета радуги: \n",
    "#\"красный\", \"оранжевый\", \"желтый\", \"зеленый\", \"голубой\", \"синий\", \"фиолетовый\" \n",
    "#и \"оранжевый\", \"зеленый\", \"голубой\", \"синий\", \"Мальвиновый\".\n",
    "\n",
    "set1 = {\"красный\", \"оранжевый\", \"желтый\", \"зеленый\", \"голубой\", \"синий\", \"фиолетовый\"}\n",
    "set2 = {\"оранжевый\", \"зеленый\", \"голубой\", \"синий\", \"Мальвиновый\"}\n",
    "\n",
    "print(set1, set2, sep='\\n')\n"
   ]
  },
  {
   "cell_type": "code",
   "execution_count": 27,
   "id": "f8d5ae0c-8086-4948-8f25-26809a2fce11",
   "metadata": {},
   "outputs": [
    {
     "name": "stdout",
     "output_type": "stream",
     "text": [
      "{'зеленый', 'синий', 'голубой', 'оранжевый'}\n"
     ]
    }
   ],
   "source": [
    "#9. Найдите пересечение множеств set1 и set2.\n",
    "\n",
    "intersection_set = set1 & set2\n",
    "#intersection_set = set1.intersection(set2)\n",
    "print(intersection_set)\n"
   ]
  },
  {
   "cell_type": "code",
   "execution_count": 31,
   "id": "166a1d40-739c-4053-ba93-4bb6321f220f",
   "metadata": {},
   "outputs": [
    {
     "name": "stdout",
     "output_type": "stream",
     "text": [
      "{'желтый', 'оранжевый', 'зеленый', 'голубой', 'красный', 'Мальвиновый', 'фиолетовый', 'синий'}\n"
     ]
    }
   ],
   "source": [
    "#10. Объедините множества set1 и set2 и сохраните результат в новое множество rainbow_colors.\n",
    "\n",
    "rainbow_colors = set1 | set2\n",
    "print(rainbow_colors)\n"
   ]
  }
 ],
 "metadata": {
  "kernelspec": {
   "display_name": "Python 3 (ipykernel)",
   "language": "python",
   "name": "python3"
  },
  "language_info": {
   "codemirror_mode": {
    "name": "ipython",
    "version": 3
   },
   "file_extension": ".py",
   "mimetype": "text/x-python",
   "name": "python",
   "nbconvert_exporter": "python",
   "pygments_lexer": "ipython3",
   "version": "3.10.10"
  }
 },
 "nbformat": 4,
 "nbformat_minor": 5
}
