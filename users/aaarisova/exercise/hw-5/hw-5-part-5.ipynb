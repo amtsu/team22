{
 "cells": [
  {
   "cell_type": "markdown",
   "id": "1901a74c-3f78-4e9d-96ea-3c389683d35d",
   "metadata": {},
   "source": [
    "Часть 5 - Функции\n",
    "\n",
    "**Множества**\n"
   ]
  },
  {
   "cell_type": "markdown",
   "id": "ebc29429-f37b-48f2-9e28-293ea449f065",
   "metadata": {},
   "source": [
    "1. Создайте функции **set_union** и **set_difference** для операций объединения и разности множеств.\n",
    "   - Функции должны принимать два множества и возвращать соответствующий результат.\n"
   ]
  },
  {
   "cell_type": "code",
   "execution_count": 32,
   "id": "a681b23a-0dd9-4d8f-843d-8a6c588230f0",
   "metadata": {},
   "outputs": [
    {
     "name": "stdout",
     "output_type": "stream",
     "text": [
      "Объединение множеств: {0, 1, 2, 3, 4, 7, 8}\n",
      "Разница множеств: {8, 1, 2}\n"
     ]
    }
   ],
   "source": [
    "set1 = {2, 1, 8, 3}\n",
    "set2 = {0, 4, 3, 7}\n",
    "\n",
    "def set_union(set1, set2):\n",
    "    return set1.union(set2)\n",
    "    \n",
    "def set_difference(set1, set2):\n",
    "    return set1.difference(set2) \n",
    "\n",
    "result_union = set_union(set1, set2) #вызов функций\n",
    "result_difference = set_difference(set1, set2)\n",
    "\n",
    "print('Объединение множеств: ' +  str(result_union))\n",
    "print('Разница множеств: ' + str(result_difference))\n"
   ]
  },
  {
   "cell_type": "markdown",
   "id": "d684e5fc-2d58-4a2f-93d9-3e20e8b17b3b",
   "metadata": {},
   "source": [
    "2. Создайте функцию **is_subset** для проверки, является ли одно множество подмножеством другого.\n"
   ]
  },
  {
   "cell_type": "code",
   "execution_count": 31,
   "id": "c380ecc0-e207-4ee2-b9fb-d7386c0056e8",
   "metadata": {},
   "outputs": [
    {
     "name": "stdout",
     "output_type": "stream",
     "text": [
      "set2 является подмножеством set1\n"
     ]
    }
   ],
   "source": [
    "set1 = {1,2,3,4}\n",
    "set2 = {3,4}\n",
    "\n",
    "def is_subset(set1, set2):\n",
    "    if set1.issubset(set2):\n",
    "        print('set1 является подмножеством set2')\n",
    "    if set2.issubset(set1):\n",
    "        print('set2 является подмножеством set1')\n",
    "    else:\n",
    "        print('set1 и set2 не являются взаимными подмножествами.')\n",
    "        \n",
    "is_subset(set1, set2)\n"
   ]
  },
  {
   "cell_type": "markdown",
   "id": "9e205e46-bcf9-42e5-a63d-4a4c48e66a24",
   "metadata": {},
   "source": [
    "3. Создайте функцию для объединения нескольких множеств."
   ]
  },
  {
   "cell_type": "code",
   "execution_count": 1,
   "id": "e595f37e-527a-4827-af91-a2b31ef4a477",
   "metadata": {},
   "outputs": [
    {
     "name": "stdout",
     "output_type": "stream",
     "text": [
      "{1, 2, 3, 4, 5, 6, 7, 8, 9}\n"
     ]
    }
   ],
   "source": [
    "def set_union(*sets):\n",
    "    result_set = set()\n",
    "    \n",
    "    for s in sets:\n",
    "        result_set = result_set | s\n",
    "        \n",
    "    return result_set\n",
    "\n",
    "\n",
    "#For example:\n",
    "\n",
    "a = {1,2,3}\n",
    "b = {4,5,6}\n",
    "c = {7,8,9}\n",
    "\n",
    "result = set_union(a,b,c)\n",
    "print(result)\n"
   ]
  },
  {
   "cell_type": "markdown",
   "id": "b5060f5e-5dce-4cef-8f97-c0d2dcee5d83",
   "metadata": {},
   "source": [
    "4. Создайте функцию для удаления конкретного элемента из множества.\n"
   ]
  },
  {
   "cell_type": "code",
   "execution_count": 21,
   "id": "9da1ec6a-24fd-49bc-829e-dc4ad63398fc",
   "metadata": {},
   "outputs": [
    {
     "name": "stdout",
     "output_type": "stream",
     "text": [
      "{5, 6, 7}\n"
     ]
    }
   ],
   "source": [
    "def del_element(my_set, element):\n",
    "    my_set.remove(element)\n",
    "\n",
    "\n",
    "#For example:\n",
    "\n",
    "my_set = {2,5,6,7}\n",
    "element_to_remove = 2\n",
    "\n",
    "del_element(my_set, element_to_remove)\n",
    "print(my_set)\n"
   ]
  },
  {
   "cell_type": "markdown",
   "id": "c5107c2e-93ce-4683-bf80-150b07b38384",
   "metadata": {},
   "source": [
    "5. Создайте функцию для поиска пересечения нескольких множеств.\n"
   ]
  },
  {
   "cell_type": "code",
   "execution_count": 42,
   "id": "bd99a8a6-b0c0-4e2d-b804-289eb3205be0",
   "metadata": {},
   "outputs": [
    {
     "name": "stdout",
     "output_type": "stream",
     "text": [
      "{3}\n"
     ]
    }
   ],
   "source": [
    "def set_intersection(set1, *sets):\n",
    "    result = set1.intersection(*sets)\n",
    "    return result\n",
    "\n",
    "\n",
    "#For example:\n",
    "\n",
    "set1 = {1,2,3}\n",
    "set2 = {4,3,6}\n",
    "set3 = {7,8,3}\n",
    "\n",
    "result = set_intersection(set1,set2,set3)\n",
    "print(result)\n"
   ]
  },
  {
   "cell_type": "markdown",
   "id": "1574ecbc-cc0f-48ca-8769-3986d78ca5ef",
   "metadata": {},
   "source": [
    "6. Создайте функцию для проверки на равенство двух множеств.\n"
   ]
  },
  {
   "cell_type": "code",
   "execution_count": 8,
   "id": "b2eacdd0-a8bd-41b1-a82e-599a2c4078fc",
   "metadata": {},
   "outputs": [
    {
     "name": "stdout",
     "output_type": "stream",
     "text": [
      "True\n",
      "False\n"
     ]
    }
   ],
   "source": [
    "def sets_equal(set1, set2):\n",
    "    return set1 == set2\n",
    "\n",
    "\n",
    "#For example_1:\n",
    "set1 = {1, 2, 3}\n",
    "set2 = {3, 2, 1}\n",
    "\n",
    "result = sets_equal(set1, set2)\n",
    "print(result)\n",
    "\n",
    "\n",
    "#For example_2:\n",
    "set1 = {1, 2, 3}\n",
    "set2 = {5, 2, 1}\n",
    "\n",
    "result = sets_equal(set1, set2)\n",
    "print(result)\n"
   ]
  },
  {
   "cell_type": "markdown",
   "id": "f3a5f1f2-6905-43cf-abd0-9f96586770d7",
   "metadata": {},
   "source": [
    "7. Создайте функцию для нахождения объединения трех множеств.\n"
   ]
  },
  {
   "cell_type": "code",
   "execution_count": 16,
   "id": "dce6891e-bba6-4310-82bc-d6031e5742f9",
   "metadata": {},
   "outputs": [
    {
     "name": "stdout",
     "output_type": "stream",
     "text": [
      "{2, 4, 5, 6, 8, 9}\n"
     ]
    }
   ],
   "source": [
    "def sets_union(set1, set2, set3):\n",
    "    return set1.union(set2, set3)\n",
    "\n",
    "#For example:\n",
    "a = {5, 2, 6}\n",
    "b = {4, 2, 6}\n",
    "c = {6, 5, 4, 8, 9}\n",
    "\n",
    "result = sets_union(a, b, c)\n",
    "print(result)\n"
   ]
  },
  {
   "cell_type": "markdown",
   "id": "5ffb8044-0ec8-408a-b2e9-9c42e3d3c79d",
   "metadata": {},
   "source": [
    "8. Создайте функцию для проверки, являются ли два множества дизъюнктными (не имеют общих элементов).\n"
   ]
  },
  {
   "cell_type": "code",
   "execution_count": 11,
   "id": "4ecc877c-ee47-4b9d-b424-bd86e2ee2ff0",
   "metadata": {},
   "outputs": [
    {
     "name": "stdout",
     "output_type": "stream",
     "text": [
      "Множества дизъюнктные: True\n",
      "Множества дизъюнктные: False\n"
     ]
    }
   ],
   "source": [
    "def sets_disjoint(set1, set2):\n",
    "    return set1.isdisjoint(set2)\n",
    "\n",
    "#For example:\n",
    "a = {5, 2, 6}\n",
    "b = {4, 3, 1}\n",
    "\n",
    "c = {5, 2, 6}\n",
    "d = {4, 5, 1}\n",
    "\n",
    "result_ab = sets_disjoint(a, b)\n",
    "result_cd = sets_disjoint(c, d)\n",
    "\n",
    "if result_ab:\n",
    "    print('Множества дизъюнктные: ' + str(result_ab))\n",
    "else:\n",
    "    print('Множества дизъюнктные: ' + str(result_ab))\n",
    "\n",
    "if result_cd:\n",
    "    print('Множества дизъюнктные: ' + str(result_cd))\n",
    "else:\n",
    "    print('Множества дизъюнктные: ' + str(result_cd))\n",
    "\n"
   ]
  },
  {
   "cell_type": "markdown",
   "id": "43a849db-49c8-4c6b-a015-fba7c097d05d",
   "metadata": {},
   "source": [
    "9. Создайте функцию для нахождения разности двух множеств.\n"
   ]
  },
  {
   "cell_type": "code",
   "execution_count": 4,
   "id": "e3ebff96-4e42-42c0-b56c-e35c1ee0fbda",
   "metadata": {},
   "outputs": [
    {
     "name": "stdout",
     "output_type": "stream",
     "text": [
      "{5, 6}\n"
     ]
    }
   ],
   "source": [
    "def sets_diff(set1, set2):\n",
    "    return set1.difference(set2)\n",
    "\n",
    "#For example:\n",
    "a = {5, 2, 6, 3}\n",
    "b = {4, 2, 7, 3}\n",
    "\n",
    "result = sets_diff(a, b)\n",
    "print(result)\n"
   ]
  },
  {
   "cell_type": "markdown",
   "id": "a3344764-fe59-4820-a488-87b0c86c7b69",
   "metadata": {},
   "source": [
    "10. Создайте функцию для определения симметрической разности двух множеств.\n"
   ]
  },
  {
   "cell_type": "code",
   "execution_count": 5,
   "id": "f736350b-a8d6-4e84-8d1b-e366ebe3b72c",
   "metadata": {},
   "outputs": [
    {
     "name": "stdout",
     "output_type": "stream",
     "text": [
      "{4, 5, 6, 7}\n"
     ]
    }
   ],
   "source": [
    "def symmetric_diff(set1, set2):\n",
    "    return set1.symmetric_difference(set2)\n",
    "\n",
    "#For example:\n",
    "x = {5, 2, 6, 3}\n",
    "y = {4, 2, 7, 3}\n",
    "\n",
    "result = symmetric_diff(x, y)\n",
    "print(result)"
   ]
  },
  {
   "cell_type": "markdown",
   "id": "52e92a87-2a7b-4634-a258-f28848c3de46",
   "metadata": {},
   "source": [
    "11. Создайте функцию **create_set** для создания множества с заданными элементами.\n",
    "   - Функция должна принимать переменное количество аргументов и возвращать новое множество."
   ]
  },
  {
   "cell_type": "code",
   "execution_count": 6,
   "id": "d27ec175-7226-467b-a278-b2b667e60a42",
   "metadata": {},
   "outputs": [
    {
     "name": "stdout",
     "output_type": "stream",
     "text": [
      "{8, 2, 4, 6}\n"
     ]
    }
   ],
   "source": [
    "def create_set(*elements):\n",
    "    return set(elements)\n",
    "\n",
    "my_set = create_set(2,4,6,8)\n",
    "print(my_set)\n"
   ]
  },
  {
   "cell_type": "markdown",
   "id": "d2f1bbce-9bcf-4746-98f3-c844458fb444",
   "metadata": {},
   "source": [
    "## Словари"
   ]
  },
  {
   "cell_type": "markdown",
   "id": "afd4ab39-39e7-4e4e-b8c7-481676305aa5",
   "metadata": {},
   "source": [
    "1. Создайте функцию **create_dictionary** для создания словаря с заданными ключами и значениями.\n",
    "   - Функция должна принимать словарь в формате ключ-значение и возвращать созданный словарь."
   ]
  },
  {
   "cell_type": "code",
   "execution_count": 8,
   "id": "5cea8acd-c749-40b8-b983-2dfd35e116c2",
   "metadata": {},
   "outputs": [],
   "source": [
    "#решение можно писать тут"
   ]
  },
  {
   "cell_type": "markdown",
   "id": "d1650ef0-449b-4793-960b-2dd5307bfa6a",
   "metadata": {},
   "source": [
    "2. Напишите функции add_student и remove_student для добавления и удаления студентов из словаря.\n",
    "   - Функции должны принимать словарь студентов и соответствующие данные для добавления и удаления."
   ]
  },
  {
   "cell_type": "code",
   "execution_count": 24,
   "id": "fa56fb0a-f396-47fe-8d18-3406cb02d1be",
   "metadata": {},
   "outputs": [],
   "source": [
    "#решение можно писать тут"
   ]
  },
  {
   "cell_type": "markdown",
   "id": "61696b5a-096d-4557-a0b0-0f72b0f9a869",
   "metadata": {},
   "source": [
    "3. Напишите функции **add_fruit** и **remove_fruit** для добавления и удаления фруктов, их количества и стоимости в списки fruits_quantity и fruits_prices.\n",
    "   - Функции должны принимать словари и соответствующие данные для добавления и удаления."
   ]
  },
  {
   "cell_type": "code",
   "execution_count": 41,
   "id": "7e599200-57fa-47d1-a30a-b671bb5b658f",
   "metadata": {},
   "outputs": [],
   "source": [
    "#решение можно писать тут"
   ]
  },
  {
   "cell_type": "markdown",
   "id": "6b57614f-432e-428e-90aa-72fe4384ed88",
   "metadata": {},
   "source": [
    "    \n",
    "4. Создайте функцию для объединения двух словарей."
   ]
  },
  {
   "cell_type": "code",
   "execution_count": 42,
   "id": "a63a6d3d-55eb-4948-943a-4c61758ec41e",
   "metadata": {},
   "outputs": [],
   "source": [
    "#решение можно писать тут"
   ]
  },
  {
   "cell_type": "markdown",
   "id": "d47c1db5-b79b-43c6-aab4-2c1a227a7b06",
   "metadata": {},
   "source": [
    "5. Создайте функцию для удаления элемента из словаря по заданному ключу."
   ]
  },
  {
   "cell_type": "code",
   "execution_count": 43,
   "id": "580948a9-d772-461a-88c9-20893b44481d",
   "metadata": {},
   "outputs": [],
   "source": [
    "#решение можно писать тут"
   ]
  },
  {
   "cell_type": "markdown",
   "id": "f609f228-21af-42cb-9714-2c723f37f5eb",
   "metadata": {},
   "source": [
    "6. Создайте функцию для переворачивания значений и ключей в словаре (принимает на вход словарь, возвращает другой словарь, ключами которого являются значения входного словаря, а значениями - ключи."
   ]
  },
  {
   "cell_type": "code",
   "execution_count": 25,
   "id": "fd90196c-2438-4eeb-8beb-cad200064044",
   "metadata": {},
   "outputs": [],
   "source": [
    "#решение можно писать тут"
   ]
  },
  {
   "cell_type": "markdown",
   "id": "a1eda518-9d0c-4a7f-bb33-cb02ff3d36d4",
   "metadata": {},
   "source": [
    "7. Создайте функцию для сортировки словаря по ключам в обратном порядке."
   ]
  },
  {
   "cell_type": "code",
   "execution_count": 45,
   "id": "9153fdb6-f3e0-4789-9d19-99b97c592f0d",
   "metadata": {},
   "outputs": [],
   "source": [
    "#решение можно писать тут"
   ]
  },
  {
   "cell_type": "markdown",
   "id": "1f94e9ec-e6c8-4814-90bf-ddc3229aaa8b",
   "metadata": {},
   "source": [
    "8.  Создайте функцию возвращающую наибольшее значение элемента словаря."
   ]
  },
  {
   "cell_type": "code",
   "execution_count": 46,
   "id": "3684d4e9-498e-413b-96a4-c93dd6218c6a",
   "metadata": {},
   "outputs": [],
   "source": [
    "#решение можно писать тут"
   ]
  },
  {
   "cell_type": "markdown",
   "id": "ffc2af8c-1c88-42a6-9973-67176b30b8a9",
   "metadata": {},
   "source": [
    "9. Создайте функцию для поиска наибольшего значения в словаре."
   ]
  },
  {
   "cell_type": "code",
   "execution_count": 26,
   "id": "08f03bb7-63de-439c-a043-9b056992cae2",
   "metadata": {},
   "outputs": [],
   "source": [
    "#решение можно писать тут"
   ]
  },
  {
   "cell_type": "markdown",
   "id": "0b854077-79e9-4213-8bf9-91796b237695",
   "metadata": {},
   "source": [
    "## Условия и циклы"
   ]
  },
  {
   "cell_type": "markdown",
   "id": "119cf9f7-e390-4f4a-9d9d-2d345a7e4030",
   "metadata": {},
   "source": [
    "1. Создайте функцию **check_fruit_price** для проверки стоимости фрукта и вывода соответствующего сообщения.\n",
    "   - Функция должна принимать словарь цен на фрукты и название фрукта, а затем выводить сообщение \"дорогой товар\", если цена фрукта больше 1.5."
   ]
  },
  {
   "cell_type": "code",
   "execution_count": 27,
   "id": "c1c09497-f536-4dbd-8331-5298da095ab3",
   "metadata": {},
   "outputs": [],
   "source": [
    "#решение можно писать тут"
   ]
  },
  {
   "cell_type": "markdown",
   "id": "25a662b1-4bb9-4fbe-9dba-7f1794af8208",
   "metadata": {},
   "source": [
    "2. Создайте функцию check_age для проверки возраста студента и вывода соответствующего сообщения.\n",
    "   - Функция должна принимать словарь студентов и имя студента, а затем выводить сообщение о совершеннолетии или несовершеннолетии."
   ]
  },
  {
   "cell_type": "code",
   "execution_count": 47,
   "id": "0b33880a-73da-4af8-954f-67dc1f84e655",
   "metadata": {},
   "outputs": [],
   "source": [
    "#решение можно писать тут"
   ]
  },
  {
   "cell_type": "markdown",
   "id": "eaa6f99e-8786-4b77-8a3d-e9d1e2aaca24",
   "metadata": {},
   "source": [
    "3. Создайте функцию **compare_sets_length**, которая сравнивает длину двух множеств и выводит информацию о  том, какое из множеств длиннее.\n",
    "   - Функция должна принимать два множества и выводить соответствующее сообщение."
   ]
  },
  {
   "cell_type": "code",
   "execution_count": 48,
   "id": "411e1b8a-82e0-4b02-9067-cf64a2682479",
   "metadata": {},
   "outputs": [],
   "source": [
    "#решение можно писать тут"
   ]
  },
  {
   "cell_type": "markdown",
   "id": "672eadf2-c873-4a63-81e9-350d6f551658",
   "metadata": {},
   "source": [
    "4. Создайте функцию для определения четности или нечетности числа."
   ]
  },
  {
   "cell_type": "code",
   "execution_count": 49,
   "id": "d256fe8f-4321-4695-ba84-a502e78c5fba",
   "metadata": {},
   "outputs": [],
   "source": [
    "#решение можно писать тут"
   ]
  },
  {
   "cell_type": "markdown",
   "id": "425e16c4-bc07-4cd4-ab4d-0260a766c86b",
   "metadata": {},
   "source": [
    "5. Создайте функцию для определения високосного года. Функция должна принимать на вход год в виде числа и возвращать строку \"високосный\" или \"обычный\""
   ]
  },
  {
   "cell_type": "code",
   "execution_count": 50,
   "id": "6ad0b0ac-4862-499d-8545-d0076197889a",
   "metadata": {},
   "outputs": [],
   "source": [
    "#решение можно писать тут"
   ]
  },
  {
   "cell_type": "markdown",
   "id": "7bb8b1c9-fc2d-4195-bfa6-1c6eee2e4400",
   "metadata": {},
   "source": [
    "6. Создайте функцию для определения типа треугольника по длинам сторон (принимает длины сторон, возвращает \"остроугольный, прямоугольный, тупоугольный или не треугольник\")."
   ]
  },
  {
   "cell_type": "code",
   "execution_count": 51,
   "id": "379ac74a-f8cf-4e8b-a7e0-7edec94eb982",
   "metadata": {},
   "outputs": [],
   "source": [
    "#решение можно писать тут"
   ]
  },
  {
   "cell_type": "markdown",
   "id": "6ab1b749-bac8-45e0-872e-a290fa76ac1b",
   "metadata": {},
   "source": [
    "7. Создайте функцию для проверки, является ли строка палиндромом."
   ]
  },
  {
   "cell_type": "code",
   "execution_count": 52,
   "id": "ab27f9b7-e0fb-447e-a8b3-caaf180f96ea",
   "metadata": {},
   "outputs": [],
   "source": [
    "#решение можно писать тут"
   ]
  },
  {
   "cell_type": "markdown",
   "id": "046f869c-8e44-4f65-bc01-6d7efa7abf9b",
   "metadata": {},
   "source": [
    "8. Создайте функцию для определения времени суток по введенному времени ( принимает текущее время в формате часы, минуты, возвращает утро, день, вечер, ночь)."
   ]
  },
  {
   "cell_type": "code",
   "execution_count": 53,
   "id": "08399224-c343-40fb-bebd-da4241f80678",
   "metadata": {},
   "outputs": [],
   "source": [
    "#решение можно писать тут"
   ]
  },
  {
   "cell_type": "markdown",
   "id": "3fc2ca39-2831-49b0-8f07-0ff468f31719",
   "metadata": {},
   "source": [
    "9. Создайте функцию, которая определяет, является ли введенное число простым."
   ]
  },
  {
   "cell_type": "code",
   "execution_count": 54,
   "id": "83c20a20-9201-4d47-b9f6-8b6055e3cd41",
   "metadata": {},
   "outputs": [],
   "source": [
    "#решение можно писать тут"
   ]
  },
  {
   "cell_type": "markdown",
   "id": "a38ec9f4-ee92-40fa-8774-85d05d45d093",
   "metadata": {},
   "source": [
    "10. Создайте функцию для проверки входящей строки на наличие только буквенных символов."
   ]
  },
  {
   "cell_type": "code",
   "execution_count": 55,
   "id": "e0e1a614-f1c7-43f3-aaa8-19616b84415a",
   "metadata": {},
   "outputs": [],
   "source": [
    "#решение можно писать тут"
   ]
  },
  {
   "cell_type": "markdown",
   "id": "c0d15d83-cd03-492a-92f7-56cbc4c1c4c0",
   "metadata": {},
   "source": [
    "11. Создайте функцию, которая определяет, является ли введенная дата корректной (дата вводится в виде трех чисел, день, месяц, год. Корректной датой считается существующая комбинация этих трех чисел)."
   ]
  },
  {
   "cell_type": "code",
   "execution_count": 56,
   "id": "52f40113-d902-4e56-8455-96cc9c545351",
   "metadata": {},
   "outputs": [],
   "source": [
    "#решение можно писать тут"
   ]
  },
  {
   "cell_type": "markdown",
   "id": "04b5c0ad-f0f3-4e07-b5cf-f728a5940234",
   "metadata": {},
   "source": [
    "12. Создайте функцию, которая определяет, является ли введенное число палиндромом."
   ]
  },
  {
   "cell_type": "code",
   "execution_count": 28,
   "id": "38d2c51c-eb90-4223-b3f5-d9ad4244ac06",
   "metadata": {},
   "outputs": [],
   "source": [
    "#решение можно писать тут"
   ]
  },
  {
   "cell_type": "markdown",
   "id": "060504e0-9ca3-4823-a96f-b88ae9d4ea5b",
   "metadata": {},
   "source": [
    "13. Создайте функцию для определения дня недели по введенному номеру дня (1 - Понедельник, 2 - Вторник и т.д.)."
   ]
  },
  {
   "cell_type": "code",
   "execution_count": 58,
   "id": "5b3b7a17-bdb4-49cd-a1a9-a8b85fc022c1",
   "metadata": {},
   "outputs": [],
   "source": [
    "#решение можно писать тут"
   ]
  },
  {
   "cell_type": "markdown",
   "id": "be16171b-5031-4c46-9a1e-4be1cad838eb",
   "metadata": {},
   "source": [
    "14. Создайте функцию **print_fruits_info** для вывода информации о количестве и стоимости фруктов из словарей.\n",
    "   - Функция должна принимать словари с информацией \"фрукт:количество\" и \"фрукт:цена\" и выводить для каждого фрукта его стоимость и количество."
   ]
  },
  {
   "cell_type": "code",
   "execution_count": 59,
   "id": "1e51771b-6aa9-4338-bf01-7aa7a55dd2ce",
   "metadata": {},
   "outputs": [],
   "source": [
    "#решение можно писать тут"
   ]
  },
  {
   "cell_type": "markdown",
   "id": "37f7285a-6f68-4d64-94f0-612334340d78",
   "metadata": {},
   "source": [
    "15. Создайте функцию **print_squares_while**, которая использует цикл while для вывода квадратов чисел от 1 до 5."
   ]
  },
  {
   "cell_type": "code",
   "execution_count": 60,
   "id": "2d9277ac-d855-4a12-961c-fd640b90f09b",
   "metadata": {},
   "outputs": [],
   "source": [
    "#решение можно писать тут"
   ]
  },
  {
   "cell_type": "markdown",
   "id": "b7fe6aa8-6703-4476-b358-0159bf94d2b0",
   "metadata": {},
   "source": [
    "16. Создайте функцию для вывода факториала заданного числа."
   ]
  },
  {
   "cell_type": "code",
   "execution_count": 61,
   "id": "ceb0cb29-a790-44d0-9a4f-c3ea8f436322",
   "metadata": {},
   "outputs": [],
   "source": [
    "#решение можно писать тут"
   ]
  },
  {
   "cell_type": "markdown",
   "id": "fc0a7ad4-3835-47e3-944e-150fbe136c05",
   "metadata": {},
   "source": [
    "17. Создайте функцию для поиска суммы чисел в заданном диапазоне (принимает на вход два числа, возвращает сумму чисел находящихся между ними, включительно.)"
   ]
  },
  {
   "cell_type": "code",
   "execution_count": 62,
   "id": "ecbf6b2f-9eeb-48de-a533-6f73c8c908a2",
   "metadata": {},
   "outputs": [],
   "source": [
    "#решение можно писать тут"
   ]
  },
  {
   "cell_type": "markdown",
   "id": "801e74f3-b32c-4022-9ac5-b948ad32c486",
   "metadata": {},
   "source": [
    "18. Создайте функцию для генерации и вывода всех простых чисел до заданного числа."
   ]
  },
  {
   "cell_type": "code",
   "execution_count": 63,
   "id": "dd34370b-02e3-4116-bc8e-d47caafd36ef",
   "metadata": {},
   "outputs": [],
   "source": [
    "#решение можно писать тут"
   ]
  },
  {
   "cell_type": "markdown",
   "id": "31804032-0d13-44a9-b3ce-b34c4165324c",
   "metadata": {},
   "source": [
    "19. Создайте функцию для проверки строки на палиндромность без учёта регистра и знаков препинания."
   ]
  },
  {
   "cell_type": "code",
   "execution_count": 64,
   "id": "1267b89e-9d9c-449a-914e-f7317db8a970",
   "metadata": {},
   "outputs": [],
   "source": [
    "#решение можно писать тут"
   ]
  },
  {
   "cell_type": "markdown",
   "id": "ebae7aa3-94f2-49f1-91a8-d43eee321208",
   "metadata": {},
   "source": [
    "20. Создайте функцию для поиска наибольшего общего делителя (НОД) двух чисел."
   ]
  },
  {
   "cell_type": "code",
   "execution_count": 65,
   "id": "18bce3a6-e4b0-426b-8855-10b78f7a88b9",
   "metadata": {},
   "outputs": [],
   "source": [
    "#решение можно писать тут"
   ]
  },
  {
   "cell_type": "markdown",
   "id": "3b0b5eaf-c67a-424c-911d-c44922b0aee2",
   "metadata": {},
   "source": [
    "21. Создайте функцию print_students для вывода информации о студентах из словаря.\n",
    "   - Функция должна принимать словарь студентов и выводить их имена и возраст."
   ]
  },
  {
   "cell_type": "code",
   "execution_count": 29,
   "id": "eec802e5-d594-4f5d-8b24-9b11cd73b07f",
   "metadata": {},
   "outputs": [],
   "source": [
    "#решение можно писать тут"
   ]
  },
  {
   "cell_type": "markdown",
   "id": "6c0cda34-d327-497b-8462-dc38a5b21bd8",
   "metadata": {},
   "source": [
    "22. Создайте функцию get_value_from_user, принимающую на вход одно число (\"порог\"), и запрашивающую у пользователя ввод числа до тех пор, пока он не введет число выше \"порога\"."
   ]
  },
  {
   "cell_type": "code",
   "execution_count": 30,
   "id": "41a7c3cb-8717-44d2-8c32-78f14ad7b08d",
   "metadata": {},
   "outputs": [],
   "source": [
    "#решение можно писать тут"
   ]
  },
  {
   "cell_type": "markdown",
   "id": "4c2596f8-e06f-49fa-972e-19d61f17e95c",
   "metadata": {},
   "source": [
    "## Общие "
   ]
  },
  {
   "cell_type": "markdown",
   "id": "29905a77-19ef-470a-9785-edcc052b5a03",
   "metadata": {},
   "source": [
    "1. Создайте функцию, которая будет запрашивать у пользователя его возраст.\n",
    "   - Если возраст меньше 18 лет, программа должна выводить сообщение о том, что пользователь несовершеннолетний.\n",
    "   - Если возраст от 18 до 65 лет, программа должна выводить сообщение о том, что пользователь взрослый.\n",
    "   - Если возраст больше 65 лет, программа должна выводить сообщение о том, что пользователь пенсионер."
   ]
  },
  {
   "cell_type": "code",
   "execution_count": 66,
   "id": "97357f0a-6a24-495b-8db6-c7a6b99b6c12",
   "metadata": {},
   "outputs": [],
   "source": [
    "#решение можно писать тут"
   ]
  },
  {
   "cell_type": "markdown",
   "id": "e49629de-0a92-4c65-af5e-2fbdb18128f7",
   "metadata": {},
   "source": [
    "2. Создайте функцию, которая будет проверять введенную пользователем строку на наличие повторяющихся символов.\n",
    "   - Если такие символы найдены, программа должна выводить их перечень и количество повторов для каждого."
   ]
  },
  {
   "cell_type": "code",
   "execution_count": 67,
   "id": "78f7a3d5-8a2f-445b-94fb-d4e416d4d0f5",
   "metadata": {},
   "outputs": [],
   "source": [
    "#решение можно писать тут"
   ]
  }
 ],
 "metadata": {
  "kernelspec": {
   "display_name": "Python 3 (ipykernel)",
   "language": "python",
   "name": "python3"
  },
  "language_info": {
   "codemirror_mode": {
    "name": "ipython",
    "version": 3
   },
   "file_extension": ".py",
   "mimetype": "text/x-python",
   "name": "python",
   "nbconvert_exporter": "python",
   "pygments_lexer": "ipython3",
   "version": "3.10.10"
  }
 },
 "nbformat": 4,
 "nbformat_minor": 5
}
