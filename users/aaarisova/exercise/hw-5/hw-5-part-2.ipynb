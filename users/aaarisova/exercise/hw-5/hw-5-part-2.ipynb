{
 "cells": [
  {
   "cell_type": "markdown",
   "id": "e1bde3db-e5b3-4b48-89b1-b3d136cc314c",
   "metadata": {},
   "source": [
    "Словари"
   ]
  },
  {
   "cell_type": "code",
   "execution_count": 8,
   "id": "d245c27d-6480-4384-b603-e5afeba903a0",
   "metadata": {},
   "outputs": [
    {
     "name": "stdout",
     "output_type": "stream",
     "text": [
      "{'name': 'Ivan', 'age': '26', 'city': 'Moscow'}\n"
     ]
    }
   ],
   "source": [
    "#1. Создайте словарь person с ключами \"name\", \"age\" и \"city\" с вашими данными.\n",
    "\n",
    "person = {\n",
    "    \"name\": \"Ivan\", \n",
    "    \"age\": \"26\", \n",
    "    \"city\": \"Moscow\",    \n",
    "    }\n",
    "print(person)\n"
   ]
  },
  {
   "cell_type": "code",
   "execution_count": 9,
   "id": "0bb62a9f-7198-4888-9bdb-305abb941ec2",
   "metadata": {},
   "outputs": [
    {
     "name": "stdout",
     "output_type": "stream",
     "text": [
      "{'name': 'Ivan', 'age': '26', 'city': 'Moscow', 'email': 'anna.arisova@gmail.com'}\n"
     ]
    }
   ],
   "source": [
    "#2. Добавьте в словарь person новый ключ \"email\" со значением вашего электронного адреса.\n",
    "person[\"email\"] = \"anna.arisova@gmail.com\"\n",
    "print(person)\n"
   ]
  },
  {
   "cell_type": "code",
   "execution_count": 10,
   "id": "912bb8f7-7b27-4a0e-89f7-880093003aa3",
   "metadata": {},
   "outputs": [
    {
     "name": "stdout",
     "output_type": "stream",
     "text": [
      "{'name': 'Ivan', 'age': '26', 'email': 'anna.arisova@gmail.com'}\n"
     ]
    }
   ],
   "source": [
    "#3. Удалите ключ \"city\" из словаря.\n",
    "del person[\"city\"]\n",
    "print(person)\n"
   ]
  },
  {
   "cell_type": "code",
   "execution_count": 5,
   "id": "bdbd1d4f-0e95-44cf-bdb5-cf13b59ae8b0",
   "metadata": {},
   "outputs": [
    {
     "name": "stdout",
     "output_type": "stream",
     "text": [
      "{'яблоко': 5, 'банан': 10, 'апельсин': 7}\n"
     ]
    }
   ],
   "source": [
    "#4. Создайте словарь fruits_quantity с товарами \"яблоко\": 5, \"банан\": 10, \"апельсин\": 7.\n",
    "\n",
    "fruits_quantity = {\n",
    "    \"яблоко\": 5, \n",
    "    \"банан\": 10, \n",
    "    \"апельсин\": 7\n",
    "}\n",
    "print(fruits_quantity)\n"
   ]
  },
  {
   "cell_type": "code",
   "execution_count": 6,
   "id": "39eb7105-fc63-490f-8c37-afa1635c97f6",
   "metadata": {},
   "outputs": [
    {
     "name": "stdout",
     "output_type": "stream",
     "text": [
      "{'яблоко': 5, 'банан': 13, 'апельсин': 7}\n"
     ]
    }
   ],
   "source": [
    "#5. Увеличьте количество \"бананов\" в инвентаре на 3.\n",
    "\n",
    "#fruits_quantity[\"банан\"] += 3 увеличивает на 3 при каждом запуске кода\n",
    "\n",
    "if fruits_quantity[\"банан\"] == 10:\n",
    "    fruits_quantity[\"банан\"] += 3 \n",
    "\n",
    "print(fruits_quantity)\n"
   ]
  },
  {
   "cell_type": "code",
   "execution_count": 9,
   "id": "0552cbbf-ae2e-481c-9ebc-ae18228bc31b",
   "metadata": {},
   "outputs": [
    {
     "name": "stdout",
     "output_type": "stream",
     "text": [
      "{'яблоко': 1.5, 'банан': 2, 'апельсин': 1.2}\n"
     ]
    }
   ],
   "source": [
    "#6. Создайте новый словарь fruits_prices, где цена для каждого продукта задана {\"яблоко\": 1.5, \"банан\": 2, \"апельсин\": 1.2}.\n",
    "\n",
    "fruits_prices = {\n",
    "    \"яблоко\": 1.5, \n",
    "    \"банан\": 2, \n",
    "    \"апельсин\": 1.2\n",
    "}\n",
    "print(fruits_prices)\n"
   ]
  },
  {
   "cell_type": "code",
   "execution_count": 13,
   "id": "a345bf29-b885-43fe-ae50-ccd57d5de6d2",
   "metadata": {},
   "outputs": [
    {
     "name": "stdout",
     "output_type": "stream",
     "text": [
      "41.9\n"
     ]
    }
   ],
   "source": [
    "#7. Посчитайте стоимость всех фруктов, имеющихся в наличии\n",
    "total_cost = sum(fruits_quantity[fruit] * fruits_prices[fruit] for fruit in fruits_quantity)\n",
    "print(total_cost)\n"
   ]
  },
  {
   "cell_type": "code",
   "execution_count": 21,
   "id": "ecf0396c-f68e-4075-ba6b-34996b703b8d",
   "metadata": {},
   "outputs": [
    {
     "ename": "KeyError",
     "evalue": "'Томат'",
     "output_type": "error",
     "traceback": [
      "\u001b[0;31m---------------------------------------------------------------------------\u001b[0m",
      "\u001b[0;31mKeyError\u001b[0m                                  Traceback (most recent call last)",
      "Cell \u001b[0;32mIn[21], line 2\u001b[0m\n\u001b[1;32m      1\u001b[0m \u001b[38;5;66;03m#8. Удалите \"Томат\" из словаря fruits_prices.\u001b[39;00m\n\u001b[0;32m----> 2\u001b[0m \u001b[43mfruits_prices\u001b[49m\u001b[38;5;241;43m.\u001b[39;49m\u001b[43mpop\u001b[49m\u001b[43m(\u001b[49m\u001b[38;5;124;43m\"\u001b[39;49m\u001b[38;5;124;43mТомат\u001b[39;49m\u001b[38;5;124;43m\"\u001b[39;49m\u001b[43m)\u001b[49m\n",
      "\u001b[0;31mKeyError\u001b[0m: 'Томат'"
     ]
    }
   ],
   "source": [
    "#8. Удалите \"Томат\" из словаря fruits_prices.\n",
    "fruits_prices.pop(\"Томат\")\n"
   ]
  },
  {
   "cell_type": "code",
   "execution_count": 18,
   "id": "9509a74b-4210-41c2-9ea1-ef2e98ed7353",
   "metadata": {},
   "outputs": [
    {
     "name": "stdout",
     "output_type": "stream",
     "text": [
      "{'Иванов': 22, 'Петрова': 13, 'Сидоров': 23}\n"
     ]
    }
   ],
   "source": [
    "#9. Создайте словарь students с данными о студентах {\"Иванов\": 22, \"Петрова\": 13, \"Сидоров\": 23}.\n",
    "\n",
    "students = {\"Иванов\": 22, \"Петрова\": 13, \"Сидоров\": 23}\n",
    "print(students)\n"
   ]
  },
  {
   "cell_type": "code",
   "execution_count": 19,
   "id": "51c7eb91-250d-4536-8189-3e8ec31ba744",
   "metadata": {},
   "outputs": [
    {
     "name": "stdout",
     "output_type": "stream",
     "text": [
      "{'Иванов': 22, 'Петрова': 13, 'Сидоров': 23, 'Смирнова': '20'}\n"
     ]
    }
   ],
   "source": [
    "#10. Добавьте нового студента \"Смирнова\" возрастом 20 лет в словарь.\n",
    "students[\"Смирнова\"] = \"20\"\n",
    "print(students)\n"
   ]
  },
  {
   "cell_type": "code",
   "execution_count": 20,
   "id": "96252399-1c5e-4cdd-bb8f-700215e54d38",
   "metadata": {},
   "outputs": [
    {
     "name": "stdout",
     "output_type": "stream",
     "text": [
      "{'Иванов': 22, 'Сидоров': 23, 'Смирнова': '20'}\n"
     ]
    }
   ],
   "source": [
    "#11. Удалите студента \"Петрова\" из словаря.\n",
    "\n",
    "del students[\"Петрова\"]\n",
    "print(students)\n"
   ]
  }
 ],
 "metadata": {
  "kernelspec": {
   "display_name": "Python 3 (ipykernel)",
   "language": "python",
   "name": "python3"
  },
  "language_info": {
   "codemirror_mode": {
    "name": "ipython",
    "version": 3
   },
   "file_extension": ".py",
   "mimetype": "text/x-python",
   "name": "python",
   "nbconvert_exporter": "python",
   "pygments_lexer": "ipython3",
   "version": "3.10.10"
  }
 },
 "nbformat": 4,
 "nbformat_minor": 5
}
