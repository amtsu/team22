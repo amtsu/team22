{
 "cells": [
  {
   "cell_type": "markdown",
   "id": "cdfcce99-90af-4a0f-9a71-7e5053650370",
   "metadata": {
    "editable": true,
    "slideshow": {
     "slide_type": ""
    },
    "tags": []
   },
   "source": [
    "Циклы "
   ]
  },
  {
   "cell_type": "code",
   "execution_count": 1,
   "id": "ee11e88b-268d-407c-b251-922bb443739b",
   "metadata": {
    "editable": true,
    "slideshow": {
     "slide_type": ""
    },
    "tags": []
   },
   "outputs": [
    {
     "name": "stdout",
     "output_type": "stream",
     "text": [
      "{'желтый', 'голубой', 'синий', 'красный', 'зеленый', 'оранжевый', 'фиолетовый'}\n",
      "{'яблоко': 5, 'банан': 10, 'апельсин': 7}\n",
      "{'яблоко': 1.5, 'банан': 2, 'апельсин': 1.2}\n",
      "{'Иванов': 22, 'Петрова': 13, 'Сидоров': 23}\n"
     ]
    }
   ],
   "source": [
    "set1 = {\"красный\", \"оранжевый\", \"желтый\", \"зеленый\", \"голубой\", \"синий\", \"фиолетовый\"}\n",
    "\n",
    "fruits_quantity = {\"яблоко\": 5, \"банан\": 10, \"апельсин\": 7} #банан без изм +3\n",
    "fruits_prices = {\"яблоко\": 1.5, \"банан\": 2, \"апельсин\": 1.2}\n",
    "students = {\"Иванов\": 22, \"Петрова\": 13, \"Сидоров\": 23}\n",
    "\n",
    "print(set1, fruits_quantity, fruits_prices, students, sep='\\n')\n"
   ]
  },
  {
   "cell_type": "code",
   "execution_count": 2,
   "id": "9ab85d18-5c55-420a-9bbe-d4b14de7d958",
   "metadata": {
    "editable": true,
    "slideshow": {
     "slide_type": "notes"
    },
    "tags": []
   },
   "outputs": [
    {
     "name": "stdout",
     "output_type": "stream",
     "text": [
      "желтый\n",
      "голубой\n",
      "синий\n",
      "красный\n",
      "зеленый\n",
      "оранжевый\n",
      "фиолетовый\n"
     ]
    }
   ],
   "source": [
    "#1 Напишите цикл for, который выводит все элементы множества set1.\n",
    "\n",
    "for elements in set1:\n",
    "    print(elements)\n",
    "    "
   ]
  },
  {
   "cell_type": "code",
   "execution_count": 3,
   "id": "718f4cfc-a579-482e-8a01-a7bea54d0333",
   "metadata": {
    "editable": false,
    "slideshow": {
     "slide_type": ""
    },
    "tags": []
   },
   "outputs": [
    {
     "name": "stdout",
     "output_type": "stream",
     "text": [
      "1\n",
      "4\n",
      "9\n",
      "16\n",
      "25\n"
     ]
    }
   ],
   "source": [
    "#2 Напишите цикл while, который выводит квадраты чисел от 1 до 5.\n",
    "\n",
    "number = 1\n",
    "while number <= 5:\n",
    "    sq_numbers = number ** 2\n",
    "    print(sq_numbers)\n",
    "    number += 1\n",
    "    "
   ]
  },
  {
   "cell_type": "code",
   "execution_count": 4,
   "id": "39534973-827f-45a4-8620-6300ecf2c533",
   "metadata": {},
   "outputs": [
    {
     "name": "stdout",
     "output_type": "stream",
     "text": [
      "яблоко\n",
      "банан\n",
      "апельсин\n"
     ]
    }
   ],
   "source": [
    "#3 Напишите цикл for, который перебирает все ключи словаря fruits_quantity и выводит каждый товар.\n",
    "\n",
    "for key_dictionary in fruits_quantity:\n",
    "    print(key_dictionary)\n"
   ]
  },
  {
   "cell_type": "code",
   "execution_count": 14,
   "id": "c186919a-bbea-4525-aaec-12f3945a735f",
   "metadata": {},
   "outputs": [
    {
     "name": "stdout",
     "output_type": "stream",
     "text": [
      "банан - дорогой фрукт\n"
     ]
    }
   ],
   "source": [
    "#4 Выведите сообщение \"%название фрукта% - дорогой товар\" для фруктов из fruit_prices, \n",
    "#цена которых превышает 1.5, подставив вместо %название фрукта% название \n",
    "#соответствующих \"дорогих\" фруктов\n",
    "\n",
    "for fruit, price in fruits_prices.items():\n",
    "    if price > 1.5:\n",
    "        print(f'{fruit} - дорогой фрукт')\n",
    "    "
   ]
  },
  {
   "cell_type": "code",
   "execution_count": 24,
   "id": "1b0ae190-b8c4-435d-abc0-f97cd3db4ded",
   "metadata": {},
   "outputs": [
    {
     "name": "stdout",
     "output_type": "stream",
     "text": [
      "35.9\n"
     ]
    }
   ],
   "source": [
    "#5 Посчитайте стоимость всех фруктов, имеющихся в наличии\n",
    "\n",
    "total = 0\n",
    "\n",
    "for fruit, quantity in fruits_quantity.items():\n",
    "    if fruit in fruits_prices:\n",
    "        total += quantity * fruits_prices[fruit]\n",
    "print(total)\n"
   ]
  },
  {
   "cell_type": "code",
   "execution_count": 26,
   "id": "940e9f0d-1c54-4f69-a0f4-ee39ad403598",
   "metadata": {},
   "outputs": [
    {
     "name": "stdout",
     "output_type": "stream",
     "text": [
      "Иванов 22\n",
      "Петрова 13\n",
      "Сидоров 23\n"
     ]
    }
   ],
   "source": [
    "#6 Используя цикл for, выведите всех студентов и их возраст из словаря students.\n",
    "\n",
    "for people, ages in students.items():\n",
    "    print(people, ages)"
   ]
  },
  {
   "cell_type": "code",
   "execution_count": null,
   "id": "703c7729-52e3-4ae8-aaa1-953c4ed9ea9b",
   "metadata": {},
   "outputs": [],
   "source": []
  }
 ],
 "metadata": {
  "kernelspec": {
   "display_name": "Python 3 (ipykernel)",
   "language": "python",
   "name": "python3"
  },
  "language_info": {
   "codemirror_mode": {
    "name": "ipython",
    "version": 3
   },
   "file_extension": ".py",
   "mimetype": "text/x-python",
   "name": "python",
   "nbconvert_exporter": "python",
   "pygments_lexer": "ipython3",
   "version": "3.10.10"
  }
 },
 "nbformat": 4,
 "nbformat_minor": 5
}
