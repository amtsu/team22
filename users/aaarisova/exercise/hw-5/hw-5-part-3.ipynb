{
 "cells": [
  {
   "cell_type": "markdown",
   "id": "6e15f40d-9393-403a-a779-de453e448846",
   "metadata": {},
   "source": [
    "Условные операторы "
   ]
  },
  {
   "cell_type": "code",
   "execution_count": 96,
   "id": "5fd34a97-5c9f-405a-b575-11dd439e88b3",
   "metadata": {},
   "outputs": [
    {
     "name": "stdout",
     "output_type": "stream",
     "text": [
      "{'голубой', 'синий', 'красный', 'фиолетовый', 'зеленый', 'желтый', 'оранжевый'}\n",
      "{'голубой', 'Мальвиновый', 'синий', 'зеленый', 'оранжевый'}\n",
      "{'name': 'Ivan', 'age': '26', 'city': 'Moscow'}\n",
      "{'яблоко': 5, 'банан': 10, 'апельсин': 7}\n",
      "{'яблоко': 1.5, 'банан': 2, 'апельсин': 1.2}\n",
      "{'Иванов': 22, 'Петрова': 13, 'Сидоров': 23}\n"
     ]
    }
   ],
   "source": [
    "set1 = {\"красный\", \"оранжевый\", \"желтый\", \"зеленый\", \"голубой\", \"синий\", \"фиолетовый\"}\n",
    "set2 = {\"оранжевый\", \"зеленый\", \"голубой\", \"синий\", \"Мальвиновый\"}\n",
    "\n",
    "person = {\"name\": \"Ivan\", \"age\": \"26\", \"city\": \"Moscow\"}\n",
    "fruits_quantity = {\"яблоко\": 5, \"банан\": 10, \"апельсин\": 7} #банан без изм +3\n",
    "fruits_prices = {\"яблоко\": 1.5, \"банан\": 2, \"апельсин\": 1.2}\n",
    "students = {\"Иванов\": 22, \"Петрова\": 13, \"Сидоров\": 23}\n",
    "\n",
    "print(set1, set2, person, fruits_quantity, fruits_prices, students, sep='\\n')\n"
   ]
  },
  {
   "cell_type": "code",
   "execution_count": 8,
   "id": "a95c0236-3edc-4353-8459-f7219b1cee01",
   "metadata": {},
   "outputs": [
    {
     "name": "stdout",
     "output_type": "stream",
     "text": [
      "Совершеннолетний\n"
     ]
    }
   ],
   "source": [
    "#1 На основе значения возраста из словаря person, \n",
    "# выведите сообщение \"Совершеннолетний\" или \"Несовершеннолетний\".\n",
    "\n",
    "age = int(person['age'])\n",
    "\n",
    "if age >= 18:\n",
    "    print('Совершеннолетний')\n",
    "else:\n",
    "    print(\"Несовершеннолетний\")\n",
    "    "
   ]
  },
  {
   "cell_type": "code",
   "execution_count": 9,
   "id": "2cdfda32-ed2c-414d-a91e-b2c508097cce",
   "metadata": {},
   "outputs": [
    {
     "name": "stdout",
     "output_type": "stream",
     "text": [
      "set1 > set2\n"
     ]
    }
   ],
   "source": [
    "#2 Сравните длину множества set1 с другим множеством set2 и \n",
    "# выведите сообщение о том, какое из множеств больше.\n",
    "\n",
    "x = len(set1) \n",
    "y = len(set2)\n",
    "\n",
    "if x > y:\n",
    "    print(\"set1 > set2\")\n",
    "elif x < y:\n",
    "    print(\"set1 < set2\")\n",
    "else:\n",
    "    print(\"set1 = set2\")\n"
   ]
  },
  {
   "cell_type": "code",
   "execution_count": 11,
   "id": "aa33c8d9-b827-4f06-a99c-7f9ee2936ded",
   "metadata": {},
   "outputs": [
    {
     "name": "stdout",
     "output_type": "stream",
     "text": [
      "{'яблоко': 5, 'банан': 10, 'апельсин': 7, 'груша': 3}\n"
     ]
    }
   ],
   "source": [
    "#3 Напишите условие, которое проверяет, есть ли \"груша\" в словаре fruits_quantity, \n",
    "# и если нет, добавляет \"грушу\" с количеством 3.\n",
    "\n",
    "pear = \"груша\"\n",
    "\n",
    "if pear in fruits_quantity:\n",
    "    print(\"Груша есть в словаре\")\n",
    "else:\n",
    "    fruits_quantity[pear] = 3\n",
    "    print(fruits_quantity)\n",
    "    "
   ]
  },
  {
   "cell_type": "code",
   "execution_count": 24,
   "id": "475972a3-6f63-4335-9f7d-64ef40dcad56",
   "metadata": {},
   "outputs": [
    {
     "name": "stdout",
     "output_type": "stream",
     "text": [
      "Дорогой товар: банан\n"
     ]
    }
   ],
   "source": [
    "#4 Выведите сообщение \"Дорогой товар\" для продуктов, цена которых превышает 1.5.\n",
    "\n",
    "for fruit, price in fruits_prices.items(): \n",
    "    if price > 1.5:\n",
    "        print(f\"Дорогой товар: {fruit}\")\n",
    "\n"
   ]
  },
  {
   "cell_type": "code",
   "execution_count": 101,
   "id": "c1706b4e-2087-49cf-bb1c-55f3fecf7106",
   "metadata": {},
   "outputs": [
    {
     "name": "stdout",
     "output_type": "stream",
     "text": [
      "{'яйца': 40, 'батон хлеба': 20}\n"
     ]
    }
   ],
   "source": [
    "#5 Задайте словарь Seven11 с таким содержанием {\"яйца\": 40, \"батон хлеба\" : 20}\n",
    "\n",
    "Seven11 = {\"яйца\": 40, \"батон хлеба\" : 20}\n",
    "print(Seven11)\n"
   ]
  },
  {
   "cell_type": "code",
   "execution_count": 102,
   "id": "a668a88e-bcb1-48b4-9819-2c49543048a3",
   "metadata": {},
   "outputs": [
    {
     "name": "stdout",
     "output_type": "stream",
     "text": [
      "Муж купил 1 батон хлеба\n",
      "В магазине осталось 19 батонов хлеба и 30 яиц\n"
     ]
    }
   ],
   "source": [
    "#6\t  Жена отправляет мужа-программиста в севенэлевен:\n",
    "# — Купи батон хлеба, если будут яйца — возьми десяток.\n",
    "# Выведите на экран, сколько хлеба купил муж-программист, \n",
    "# и сколько хлеба и яиц осталось в магазине.\n",
    "\n",
    "\n",
    "if Seven11[\"батон хлеба\"] > 0:\n",
    "    Seven11[\"батон хлеба\"] -= 1\n",
    "    print(\"Муж купил 1 батон хлеба\")\n",
    "    \n",
    "if Seven11['яйца'] >= 10:\n",
    "    Seven11['яйца'] -= 10\n",
    "\n",
    "print(f\"В магазине осталось {Seven11['батон хлеба']} батонов хлеба и {Seven11['яйца']} яиц\")"
   ]
  },
  {
   "cell_type": "code",
   "execution_count": 97,
   "id": "57dc7079-09e6-4353-a5f0-bbe62aad3a88",
   "metadata": {},
   "outputs": [
    {
     "name": "stdout",
     "output_type": "stream",
     "text": [
      "Cовершеннолетний\n"
     ]
    }
   ],
   "source": [
    "#7 Напишите условие, которое проверяет возраст студента \"Иванова\" \n",
    "# и выводит сообщение \"Совершеннолетний\" или \"Несовершеннолетний\".\n",
    "\n",
    "if students['Иванов'] < 18:\n",
    "    print('Несовершеннолетний')\n",
    "else:\n",
    "    print('Cовершеннолетний')\n"
   ]
  }
 ],
 "metadata": {
  "kernelspec": {
   "display_name": "Python 3 (ipykernel)",
   "language": "python",
   "name": "python3"
  },
  "language_info": {
   "codemirror_mode": {
    "name": "ipython",
    "version": 3
   },
   "file_extension": ".py",
   "mimetype": "text/x-python",
   "name": "python",
   "nbconvert_exporter": "python",
   "pygments_lexer": "ipython3",
   "version": "3.10.10"
  }
 },
 "nbformat": 4,
 "nbformat_minor": 5
}
