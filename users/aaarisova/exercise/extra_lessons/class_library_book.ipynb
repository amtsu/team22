{
 "cells": [
  {
   "cell_type": "code",
   "execution_count": 12,
   "id": "4208e10e-3d81-4623-b948-54c91eab34d8",
   "metadata": {},
   "outputs": [],
   "source": [
    "#############################################################\n",
    "#Árisova\n",
    "\n",
    "class Book():\n",
    "    \n",
    "    def __init__(self, name, genre, author, pages):  #genre - жанр\n",
    "        self.name = name \n",
    "        self.genre = genre\n",
    "        self.author = author\n",
    "        self.pages = pages\n",
    "\n",
    "    def __str__(self):\n",
    "        return f\"{self.name}, {self.genre}, {self.author}, {self.pages}\"\n",
    "\n",
    "\n",
    "class Library():\n",
    "    \n",
    "    def __init__(self):\n",
    "        self.books = []\n",
    "\n",
    "    def __str__(self): \n",
    "        book_strings = [str(book) for book in self.books]  # Создаем список строковых представлений книг\n",
    "        return '\\n'.join(book_strings) \n",
    "        \n",
    "    def book_add(self, book):\n",
    "        '''метод добавления книги в библиотеку'''\n",
    "        self.books.append(book)\n",
    "    \n",
    "    def all_books(self): \n",
    "        '''метод подсчета кол-ва книг всего в библиотеке'''\n",
    "        return len(self.books)\n",
    "        \n",
    "    def sum_pages(self): \n",
    "        '''метод подсчета общего кол-во страниц в библиотеке (в списке книг)'''\n",
    "        total = 0\n",
    "        for book in self.books:\n",
    "            total += book.pages\n",
    "        return total \n",
    "        \n",
    "    def avg_pages(self):\n",
    "        '''среднее кол-во страниц в книгах в библиотеке'''\n",
    "        #book_add(self, book) - в тесте пришлось добавлять. хорошо бы сразу тут ?\n",
    "        avg_p = self.sum_pages()/self.all_books() \n",
    "        return avg_p\n",
    "      \n",
    "    def search_book_name(self, name): \n",
    "        '''метод поиска книг по библиотеке (по названию)'''\n",
    "        find_genre = []\n",
    "        for book in self.books:\n",
    "            if book.name == name:\n",
    "                find_genre.append(book)\n",
    "        return find_genre \n",
    "    \n",
    "    def search_book_author(self, author): \n",
    "        '''метод поиска книг по библиотеке (по автору)''' \n",
    "        find_author = []\n",
    "        for book in self.books:\n",
    "            if book.author == author:\n",
    "                find_author.append(book)\n",
    "        return find_author \n",
    "     \n",
    "    def search_book_genre(self, genre): \n",
    "        '''метод поиска книг по библиотеке (по жанру)''' \n",
    "        find_genre = []\n",
    "        for book in self.books:\n",
    "            if book.genre == genre:\n",
    "                find_genre.append(book)\n",
    "        return find_genre \n",
    "        \n",
    "    def choosed_books(self, name, author, genre):\n",
    "        '''Метод выбора книг по названию, автору и жанру'''\n",
    "        choosed_books = []\n",
    "        for book in self.books:\n",
    "            if book.name == name or book.author == author or book.genre == genre: #можно and, тогда все критерии должны сопадать\n",
    "                choosed_books.append(book)\n",
    "        return choosed_books\n",
    "               \n",
    "    # def choosed_books(self, name, author, genre):\n",
    "    #     '''метод объединения поиска по имени, жанру, автору'''\n",
    "    #     book_author = self.search_book_author(author) \n",
    "    #     book_genre = self.search_book_genre(genre)\n",
    "    #     book_name = self.search_book_name(name)\n",
    "    #     choosed_books = book_author + book_genre + book_name\n",
    "    #     unique_books = list(set(choosed_books))        \n",
    "    #     return unique_books\n",
    "\n",
    "\n",
    "class User():\n",
    "    \n",
    "    def __init__(self, name):\n",
    "        self.name = name\n",
    "        self.user_list_book = []\n",
    "\n",
    "    def __str__(self):\n",
    "        user_str = [str(book) for book in self.user_list_book]\n",
    "        return '\\n'.join(user_str)\n",
    "        \n",
    "    def take_book(self, library: Library, name, author, genre): \n",
    "        find_list = library.choosed_books(name, author, genre) \n",
    "        books_to_add = min(5, len(find_list))\n",
    "        if len(self.user_list_book) + books_to_add <= 5: \n",
    "            for i in range(books_to_add): \n",
    "                self.user_list_book.append(find_list[i])\n",
    "            return f'Книги успешно добавлены пользователю'\n",
    "        else:\n",
    "            return f'Вы превысили лимит выдачи книг'\n",
    "       \n",
    "    def count(self):       \n",
    "        return len(self.user_list_book)\n",
    "\n",
    "\n",
    "# if name == self.name.choosed_books() and author == self.author.choosed_books() and genre == self.genre.choosed_books():             \n",
    "###################################################################"
   ]
  },
  {
   "cell_type": "code",
   "execution_count": 18,
   "id": "dbdc1fb9-a7ef-40d0-89ad-de6446b95bae",
   "metadata": {},
   "outputs": [
    {
     "name": "stdout",
     "output_type": "stream",
     "text": [
      "ВластКол, Fantasy, Толк, 1000\n",
      "ВластКол, Fantasy, Толк, 1000\n",
      "ВластКол, Fantasy, Толк, 1000\n",
      "ВластКол, Fantasy, Толк, 1000\n",
      "ВластКол, Fantasy, Толк, 1000\n",
      "5\n"
     ]
    }
   ],
   "source": [
    "user1 = User('Ильф')\n",
    "book1 = Book('ВластКол', 'Fantasy', 'Толк', 1000)\n",
    "book2 = Book('ВластКол', 'Fantasy', 'Толк', 1000)\n",
    "book3 = Book('ВластКол', 'Fantasy', 'Толк', 1000)\n",
    "book4 = Book('ВластКол', 'Fantasy', 'Толк', 1000)\n",
    "book5 = Book('ВластКол', 'Fantasy', 'Толк', 1000)\n",
    "book6 = Book('ВластКол', 'Fantasy', 'Толк', 1000)\n",
    "my_library = Library()\n",
    "my_library.book_add(book1)\n",
    "my_library.book_add(book2)\n",
    "my_library.book_add(book3)\n",
    "my_library.book_add(book4)\n",
    "my_library.book_add(book5)\n",
    "my_library.book_add(book6)\n",
    "user1.take_book(my_library, 'ВластКол', 'Толк', 'Fantasy')\n",
    "print(user1)\n",
    "print(user1.count())\n"
   ]
  },
  {
   "cell_type": "code",
   "execution_count": 17,
   "id": "1d81b4b5-e4ab-46f4-9326-3811f055c3a0",
   "metadata": {},
   "outputs": [
    {
     "name": "stdout",
     "output_type": "stream",
     "text": [
      "ВластКол, Fantasy, Толк, 1000\n",
      "ВолшИзумрГор, Fantasy, Волков, 400\n",
      "ВолшИзумрГор, Fantasy, Волков, 400\n"
     ]
    }
   ],
   "source": [
    "book1 = Book('ВластКол', 'Fantasy', 'Толк', 1000)\n",
    "book2 = Book('ВолшИзумрГор', 'Fantasy', 'Волков', 400)\n",
    "#print(book1)\n",
    "my_library = Library()\n",
    "my_library.book_add(book1)\n",
    "my_library.book_add(book2)\n",
    "#print(my_library.search_book_author('Волков'))\n",
    "#print(my_library.search_book_genre('Fantasy'))\n",
    "for book in my_library.search_book_genre('Fantasy'):\n",
    "    print(book)\n",
    "for book in my_library.search_book_author('Волков'):\n",
    "    print(book)"
   ]
  },
  {
   "cell_type": "code",
   "execution_count": 16,
   "id": "da52131e-12fd-4926-9363-be03df871327",
   "metadata": {},
   "outputs": [
    {
     "name": "stdout",
     "output_type": "stream",
     "text": [
      "ВластКол, Fantasy, Толк, 1000\n",
      "ВолшИзумрГор, Fantasy, Волков, 400\n"
     ]
    }
   ],
   "source": [
    "book1 = Book('ВластКол', 'Fantasy', 'Толк', 1000)\n",
    "book2 = Book('ВолшИзумрГор', 'Fantasy', 'Волков', 400)\n",
    "#print(book1)\n",
    "my_library = Library()\n",
    "my_library.book_add(book1)\n",
    "my_library.book_add(book2)\n",
    "for book in my_library.choosed_books('ВолшИзумрГор', 'Волков', 'Fantasy'):\n",
    "    print(book)\n"
   ]
  },
  {
   "cell_type": "code",
   "execution_count": 14,
   "id": "fda2f9c4-77b7-4288-ac64-0b040c706f13",
   "metadata": {},
   "outputs": [
    {
     "name": "stdout",
     "output_type": "stream",
     "text": [
      "Книги успешно добавлены пользователю\n",
      "3\n"
     ]
    }
   ],
   "source": [
    "user1 = User('Ильф')\n",
    "book_1 = Book('ВластКол', 'Fantasy', 'Толк', 1000)\n",
    "book_2 = Book('1', 'Fantasy', 'Волков', 400)\n",
    "book_3 = Book('a', '1', '1', 100)\n",
    "book_4 = Book('ВластКол', '1', 'c', 10)\n",
    "book_5 = Book('ВластКол', 'a', 'd', 1)\n",
    "book_6 = Book('e', 'f', 'Толк', 300)\n",
    "my_library = Library()\n",
    "my_library.book_add(book_1)\n",
    "my_library.book_add(book_2)\n",
    "my_library.book_add(book_3)\n",
    "my_library.book_add(book_4)\n",
    "my_library.book_add(book_5)\n",
    "my_library.book_add(book_6)\n",
    "my_library.choosed_books('ВластКол', 'Fantasy', 'Толк')\n",
    "my_library.choosed_books('ВолшИзумрГор', 'Fantasy', 'Волков')\n",
    "my_library.choosed_books('a', 'Fantasy', 'Толк')\n",
    "my_library.choosed_books('e', 'f', 'Толк')\n",
    "\n",
    "print(user1.take_book(my_library,'ВластКол', 'Fantasy', 'Толк'))\n",
    "print(user1.count())"
   ]
  },
  {
   "cell_type": "code",
   "execution_count": 15,
   "id": "a3a4f410-bf3c-4561-907d-a7b206fecb2a",
   "metadata": {},
   "outputs": [
    {
     "name": "stdout",
     "output_type": "stream",
     "text": [
      "Книги успешно добавлены пользователю\n",
      "1\n"
     ]
    }
   ],
   "source": [
    "user1 = User('Ильф')\n",
    "book3 = Book('ВластКол', 'Fantasy', 'Толк', 1000)\n",
    "my_library = Library()\n",
    "my_library.book_add(book3)\n",
    "print(user1.take_book(my_library,'ВластКол', 'Fantasy', 'Толк'))\n",
    "print(user1.count())"
   ]
  },
  {
   "cell_type": "code",
   "execution_count": 3,
   "id": "e33b79a0-dab4-4652-89e7-c60e2db54b75",
   "metadata": {},
   "outputs": [],
   "source": [
    "#import pytest\n",
    "\n",
    "# def test_all_books():\n",
    "#     '''тест проверяет кол-во книг в библ'''\n",
    "#     book1 = Book('ВластКол', 'Fantasy', 'Толк', 1000)\n",
    "#     book2 = Book('ВолшИзумрГор', 'Fantasy', 'Волков', 400)\n",
    "#     my_library = Library()\n",
    "#     my_library.book_add(book1)\n",
    "#     my_library.book_add(book2)\n",
    "#     assert my_library.all_books() == 2\n",
    "\n",
    "# test_all_books()\n",
    "\n"
   ]
  },
  {
   "cell_type": "code",
   "execution_count": null,
   "id": "4512de76-991a-420a-94d9-1a39b553c647",
   "metadata": {},
   "outputs": [],
   "source": [
    "# def test_avg_pages():\n",
    "#     '''тест проверяет среднее кол-во стр в книгах'''\n",
    "#     book1 = Book('ВластКол', 'Fantasy', 'Толк', 1000)\n",
    "#     book2 = Book('ВолшИзумрГор', 'Fantasy', 'Волков', 400)\n",
    "#     my_library = Library()\n",
    "#     my_library.book_add(book1)\n",
    "#     my_library.book_add(book2)\n",
    "#     assert my_library.avg_pages() == 700\n",
    "\n"
   ]
  },
  {
   "cell_type": "code",
   "execution_count": null,
   "id": "19806465-e796-4568-8871-015171eac025",
   "metadata": {},
   "outputs": [],
   "source": [
    "# def test_search_book_author():\n",
    "#     book1 = Book('ВластКол', 'Fantasy', 'Толк', 1000)\n",
    "#     book2 = Book('ВолшИзумрГор', 'Fantasy', 'Волков', 400)\n",
    "#     my_library = Library()\n",
    "#     my_library.book_add(book1)\n",
    "#     my_library.book_add(book2)\n",
    "#     assert len(my_library.search_book_author('Волков')) == 1\n",
    "    \n"
   ]
  },
  {
   "cell_type": "code",
   "execution_count": null,
   "id": "dc71cef0-591c-4eec-a413-f28a864ba187",
   "metadata": {},
   "outputs": [],
   "source": [
    "# def test_search_book_genre():\n",
    "#     book1 = Book('ВластКол', 'Fantasy', 'Толк', 1000)\n",
    "#     book2 = Book('ВолшИзумрГор', 'Fantasy', 'Волков', 400)\n",
    "#     my_library = Library()\n",
    "#     my_library.book_add(book1)\n",
    "#     my_library.book_add(book2)\n",
    "#     assert len(my_library.search_book_genre('Fantasy')) == 2\n",
    "    \n"
   ]
  }
 ],
 "metadata": {
  "kernelspec": {
   "display_name": "Python 3 (ipykernel)",
   "language": "python",
   "name": "python3"
  },
  "language_info": {
   "codemirror_mode": {
    "name": "ipython",
    "version": 3
   },
   "file_extension": ".py",
   "mimetype": "text/x-python",
   "name": "python",
   "nbconvert_exporter": "python",
   "pygments_lexer": "ipython3",
   "version": "3.10.10"
  }
 },
 "nbformat": 4,
 "nbformat_minor": 5
}
