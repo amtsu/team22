{
 "cells": [
  {
   "cell_type": "markdown",
   "id": "2faf0f6e-3484-4d19-ad26-0b4c1f6c0567",
   "metadata": {},
   "source": [
    "# Немного интересных и полезных функций Python"
   ]
  },
  {
   "cell_type": "markdown",
   "id": "7f5bf2a8-d891-4038-980f-573c0d6035e9",
   "metadata": {},
   "source": [
    "## 1. Кодировка Unicode"
   ]
  },
  {
   "cell_type": "code",
   "execution_count": 3,
   "id": "60d4c838-0073-4777-a65c-7af8257b9445",
   "metadata": {},
   "outputs": [
    {
     "data": {
      "text/plain": [
       "97"
      ]
     },
     "execution_count": 3,
     "metadata": {},
     "output_type": "execute_result"
    }
   ],
   "source": [
    "#Возвращает целое число — номер из таблицы символов Unicode\n",
    "ord('a')"
   ]
  },
  {
   "cell_type": "code",
   "execution_count": 6,
   "id": "006572a7-0748-412c-b873-fbf882761521",
   "metadata": {},
   "outputs": [
    {
     "data": {
      "text/plain": [
       "'a'"
      ]
     },
     "execution_count": 6,
     "metadata": {},
     "output_type": "execute_result"
    }
   ],
   "source": [
    "#Возвращает символ Unicode, соответствующий этому числу\n",
    "chr(97)"
   ]
  },
  {
   "cell_type": "markdown",
   "id": "00b66d9c-33a7-4aa0-bd04-0fc11d8442b8",
   "metadata": {},
   "source": [
    "1. Вывести английский алфавит в строку (подсказка - в английском алфавите 26 букв)"
   ]
  },
  {
   "cell_type": "code",
   "execution_count": 98,
   "id": "5283a6ff-3eaa-429e-8303-1a3d64f9c8d7",
   "metadata": {},
   "outputs": [
    {
     "name": "stdout",
     "output_type": "stream",
     "text": [
      "a b c d e f g h i j k l m n o p q r s t u v w x y z "
     ]
    }
   ],
   "source": [
    "#I способ:\n",
    "\n",
    "for i in range(97,97+26):\n",
    "    print(chr(i), end = ' ')\n",
    "    "
   ]
  },
  {
   "cell_type": "code",
   "execution_count": 99,
   "id": "695f289a-34b4-44b3-a20e-c9ea8f3c2043",
   "metadata": {},
   "outputs": [
    {
     "name": "stdout",
     "output_type": "stream",
     "text": [
      "a b c d e f g h i j k l m n o p q r s t u v w x y "
     ]
    }
   ],
   "source": [
    "#II способ:\n",
    "\n",
    "for item in range(ord('a'),ord('z')):\n",
    "    print(chr(item), end = ' ')"
   ]
  },
  {
   "cell_type": "code",
   "execution_count": 100,
   "id": "6561ce86-bc83-4b30-a782-61e80ee93451",
   "metadata": {},
   "outputs": [
    {
     "name": "stdout",
     "output_type": "stream",
     "text": [
      "['a', 'b', 'c', 'd', 'e', 'f', 'g', 'h', 'i', 'j', 'k', 'l', 'm', 'n', 'o', 'p', 'q', 'r', 's', 't', 'u', 'v', 'w', 'x', 'y', 'z', 'A', 'B', 'C', 'D', 'E', 'F', 'G', 'H', 'I', 'J', 'K', 'L', 'M', 'N', 'O', 'P', 'Q', 'R', 'S', 'T', 'U', 'V', 'W', 'X', 'Y', 'Z']\n"
     ]
    }
   ],
   "source": [
    "#III способ:\n",
    "\n",
    "import string  \n",
    "\n",
    "alphabets = list(string.ascii_letters) \n",
    "print(alphabets)\n"
   ]
  },
  {
   "cell_type": "markdown",
   "id": "1a650e81-9ded-45f6-8c48-b417714ceac0",
   "metadata": {},
   "source": [
    "2. Cгенерировать все возможные комбинации строчных букв английского алфавита длиной два символа. Выведите сочетания для каждой буквы на 1 месте на отдельной строке."
   ]
  },
  {
   "cell_type": "code",
   "execution_count": 101,
   "id": "90c06cfd-3381-4075-a378-d647d9554e63",
   "metadata": {},
   "outputs": [
    {
     "name": "stdout",
     "output_type": "stream",
     "text": [
      "aa ab ac ad ae af ag ah ai aj ak al am an ao ap aq ar as at au av aw ax ay az \n",
      "\n",
      "ba bb bc bd be bf bg bh bi bj bk bl bm bn bo bp bq br bs bt bu bv bw bx by bz \n",
      "\n",
      "ca cb cc cd ce cf cg ch ci cj ck cl cm cn co cp cq cr cs ct cu cv cw cx cy cz \n",
      "\n",
      "da db dc dd de df dg dh di dj dk dl dm dn do dp dq dr ds dt du dv dw dx dy dz \n",
      "\n",
      "ea eb ec ed ee ef eg eh ei ej ek el em en eo ep eq er es et eu ev ew ex ey ez \n",
      "\n",
      "fa fb fc fd fe ff fg fh fi fj fk fl fm fn fo fp fq fr fs ft fu fv fw fx fy fz \n",
      "\n",
      "ga gb gc gd ge gf gg gh gi gj gk gl gm gn go gp gq gr gs gt gu gv gw gx gy gz \n",
      "\n",
      "ha hb hc hd he hf hg hh hi hj hk hl hm hn ho hp hq hr hs ht hu hv hw hx hy hz \n",
      "\n",
      "ia ib ic id ie if ig ih ii ij ik il im in io ip iq ir is it iu iv iw ix iy iz \n",
      "\n",
      "ja jb jc jd je jf jg jh ji jj jk jl jm jn jo jp jq jr js jt ju jv jw jx jy jz \n",
      "\n",
      "ka kb kc kd ke kf kg kh ki kj kk kl km kn ko kp kq kr ks kt ku kv kw kx ky kz \n",
      "\n",
      "la lb lc ld le lf lg lh li lj lk ll lm ln lo lp lq lr ls lt lu lv lw lx ly lz \n",
      "\n",
      "ma mb mc md me mf mg mh mi mj mk ml mm mn mo mp mq mr ms mt mu mv mw mx my mz \n",
      "\n",
      "na nb nc nd ne nf ng nh ni nj nk nl nm nn no np nq nr ns nt nu nv nw nx ny nz \n",
      "\n",
      "oa ob oc od oe of og oh oi oj ok ol om on oo op oq or os ot ou ov ow ox oy oz \n",
      "\n",
      "pa pb pc pd pe pf pg ph pi pj pk pl pm pn po pp pq pr ps pt pu pv pw px py pz \n",
      "\n",
      "qa qb qc qd qe qf qg qh qi qj qk ql qm qn qo qp qq qr qs qt qu qv qw qx qy qz \n",
      "\n",
      "ra rb rc rd re rf rg rh ri rj rk rl rm rn ro rp rq rr rs rt ru rv rw rx ry rz \n",
      "\n",
      "sa sb sc sd se sf sg sh si sj sk sl sm sn so sp sq sr ss st su sv sw sx sy sz \n",
      "\n",
      "ta tb tc td te tf tg th ti tj tk tl tm tn to tp tq tr ts tt tu tv tw tx ty tz \n",
      "\n",
      "ua ub uc ud ue uf ug uh ui uj uk ul um un uo up uq ur us ut uu uv uw ux uy uz \n",
      "\n",
      "va vb vc vd ve vf vg vh vi vj vk vl vm vn vo vp vq vr vs vt vu vv vw vx vy vz \n",
      "\n",
      "wa wb wc wd we wf wg wh wi wj wk wl wm wn wo wp wq wr ws wt wu wv ww wx wy wz \n",
      "\n",
      "xa xb xc xd xe xf xg xh xi xj xk xl xm xn xo xp xq xr xs xt xu xv xw xx xy xz \n",
      "\n",
      "ya yb yc yd ye yf yg yh yi yj yk yl ym yn yo yp yq yr ys yt yu yv yw yx yy yz \n",
      "\n",
      "za zb zc zd ze zf zg zh zi zj zk zl zm zn zo zp zq zr zs zt zu zv zw zx zy zz \n",
      "\n"
     ]
    }
   ],
   "source": [
    "#I способ: \n",
    "\n",
    "def combination_double():\n",
    "    for item1 in range(97,97+26):\n",
    "        for item2 in range(97,97+26):\n",
    "            item = chr(item1) + chr(item2)\n",
    "            print(item, end = ' ')\n",
    "        print('\\n')\n",
    "\n",
    "combination_double()    \n"
   ]
  },
  {
   "cell_type": "code",
   "execution_count": 102,
   "id": "80864598-91d3-4467-a1c4-dd284c63cb2a",
   "metadata": {},
   "outputs": [
    {
     "name": "stdout",
     "output_type": "stream",
     "text": [
      "'a': aa ab ac ad ae af ag ah ai aj ak al am an ao ap aq ar as at au av aw ax ay az\n",
      "'b': ba bb bc bd be bf bg bh bi bj bk bl bm bn bo bp bq br bs bt bu bv bw bx by bz\n",
      "'c': ca cb cc cd ce cf cg ch ci cj ck cl cm cn co cp cq cr cs ct cu cv cw cx cy cz\n",
      "'d': da db dc dd de df dg dh di dj dk dl dm dn do dp dq dr ds dt du dv dw dx dy dz\n",
      "'e': ea eb ec ed ee ef eg eh ei ej ek el em en eo ep eq er es et eu ev ew ex ey ez\n",
      "'f': fa fb fc fd fe ff fg fh fi fj fk fl fm fn fo fp fq fr fs ft fu fv fw fx fy fz\n",
      "'g': ga gb gc gd ge gf gg gh gi gj gk gl gm gn go gp gq gr gs gt gu gv gw gx gy gz\n",
      "'h': ha hb hc hd he hf hg hh hi hj hk hl hm hn ho hp hq hr hs ht hu hv hw hx hy hz\n",
      "'i': ia ib ic id ie if ig ih ii ij ik il im in io ip iq ir is it iu iv iw ix iy iz\n",
      "'j': ja jb jc jd je jf jg jh ji jj jk jl jm jn jo jp jq jr js jt ju jv jw jx jy jz\n",
      "'k': ka kb kc kd ke kf kg kh ki kj kk kl km kn ko kp kq kr ks kt ku kv kw kx ky kz\n",
      "'l': la lb lc ld le lf lg lh li lj lk ll lm ln lo lp lq lr ls lt lu lv lw lx ly lz\n",
      "'m': ma mb mc md me mf mg mh mi mj mk ml mm mn mo mp mq mr ms mt mu mv mw mx my mz\n",
      "'n': na nb nc nd ne nf ng nh ni nj nk nl nm nn no np nq nr ns nt nu nv nw nx ny nz\n",
      "'o': oa ob oc od oe of og oh oi oj ok ol om on oo op oq or os ot ou ov ow ox oy oz\n",
      "'p': pa pb pc pd pe pf pg ph pi pj pk pl pm pn po pp pq pr ps pt pu pv pw px py pz\n",
      "'q': qa qb qc qd qe qf qg qh qi qj qk ql qm qn qo qp qq qr qs qt qu qv qw qx qy qz\n",
      "'r': ra rb rc rd re rf rg rh ri rj rk rl rm rn ro rp rq rr rs rt ru rv rw rx ry rz\n",
      "'s': sa sb sc sd se sf sg sh si sj sk sl sm sn so sp sq sr ss st su sv sw sx sy sz\n",
      "'t': ta tb tc td te tf tg th ti tj tk tl tm tn to tp tq tr ts tt tu tv tw tx ty tz\n",
      "'u': ua ub uc ud ue uf ug uh ui uj uk ul um un uo up uq ur us ut uu uv uw ux uy uz\n",
      "'v': va vb vc vd ve vf vg vh vi vj vk vl vm vn vo vp vq vr vs vt vu vv vw vx vy vz\n",
      "'w': wa wb wc wd we wf wg wh wi wj wk wl wm wn wo wp wq wr ws wt wu wv ww wx wy wz\n",
      "'x': xa xb xc xd xe xf xg xh xi xj xk xl xm xn xo xp xq xr xs xt xu xv xw xx xy xz\n",
      "'y': ya yb yc yd ye yf yg yh yi yj yk yl ym yn yo yp yq yr ys yt yu yv yw yx yy yz\n",
      "'z': za zb zc zd ze zf zg zh zi zj zk zl zm zn zo zp zq zr zs zt zu zv zw zx zy zz\n"
     ]
    }
   ],
   "source": [
    "#тут решение комбинации двух символов\n",
    "#пример: 1 строка aa ab ...\n",
    "#пример: 2 строка ba bb ...\n",
    "# II способ:\n",
    "\n",
    "import string  \n",
    "\n",
    "def a_combinations_let():\n",
    "    lower_letters = list(string.ascii_lowercase) #American Standard Code for Information Interchange\n",
    "    a_combinations = {}\n",
    "    for l in range(len(lower_letters)):\n",
    "        a_combinations[lower_letters[l]] = []\n",
    "        for index in range(len(lower_letters)): \n",
    "            a_combinations[lower_letters[l]].append(lower_letters[l] + lower_letters[index])\n",
    "    return a_combinations\n",
    "\n",
    "combinations = a_combinations_let()\n",
    "for key, value in combinations.items():\n",
    "    print(f\"'{key}': {' '.join(value)}\")\n"
   ]
  },
  {
   "cell_type": "markdown",
   "id": "7992c147-613b-41cb-9ce7-8dacb0891c0a",
   "metadata": {},
   "source": [
    "3. Cгенерировать последовательно двухбуквенные строки по алфавиту до строки «mf»."
   ]
  },
  {
   "cell_type": "code",
   "execution_count": 103,
   "id": "ac8e147f-3e47-4ef8-9405-c04dc71442c1",
   "metadata": {},
   "outputs": [
    {
     "name": "stdout",
     "output_type": "stream",
     "text": [
      "aa ab ac ad ae af ag ah ai aj ak al am an ao ap aq ar as at au av aw ax ay az \n",
      "\n",
      "ba bb bc bd be bf bg bh bi bj bk bl bm bn bo bp bq br bs bt bu bv bw bx by bz \n",
      "\n",
      "ca cb cc cd ce cf cg ch ci cj ck cl cm cn co cp cq cr cs ct cu cv cw cx cy cz \n",
      "\n",
      "da db dc dd de df dg dh di dj dk dl dm dn do dp dq dr ds dt du dv dw dx dy dz \n",
      "\n",
      "ea eb ec ed ee ef eg eh ei ej ek el em en eo ep eq er es et eu ev ew ex ey ez \n",
      "\n",
      "fa fb fc fd fe ff fg fh fi fj fk fl fm fn fo fp fq fr fs ft fu fv fw fx fy fz \n",
      "\n",
      "ga gb gc gd ge gf gg gh gi gj gk gl gm gn go gp gq gr gs gt gu gv gw gx gy gz \n",
      "\n",
      "ha hb hc hd he hf hg hh hi hj hk hl hm hn ho hp hq hr hs ht hu hv hw hx hy hz \n",
      "\n",
      "ia ib ic id ie if ig ih ii ij ik il im in io ip iq ir is it iu iv iw ix iy iz \n",
      "\n",
      "ja jb jc jd je jf jg jh ji jj jk jl jm jn jo jp jq jr js jt ju jv jw jx jy jz \n",
      "\n",
      "ka kb kc kd ke kf kg kh ki kj kk kl km kn ko kp kq kr ks kt ku kv kw kx ky kz \n",
      "\n",
      "la lb lc ld le lf lg lh li lj lk ll lm ln lo lp lq lr ls lt lu lv lw lx ly lz \n",
      "\n",
      "ma mb mc md me mf "
     ]
    }
   ],
   "source": [
    "# I сопособ:\n",
    "def gen_until_mf():  #из задания выше\n",
    "    for item1 in range(ord('a'), ord('z') + 1):\n",
    "        for item2 in range(ord('a'), ord('z') + 1):\n",
    "            item = chr(item1) + chr(item2)\n",
    "            print(item, end = ' ')\n",
    "            if item == 'mf':\n",
    "                return\n",
    "               # yield item - не понимаю как с yield\n",
    "        print('\\n')\n",
    "\n",
    "gen_until_mf()   \n"
   ]
  },
  {
   "cell_type": "code",
   "execution_count": 34,
   "id": "57038cc3-7ef7-46b0-8cc3-ff66cdfcaed4",
   "metadata": {},
   "outputs": [
    {
     "name": "stdout",
     "output_type": "stream",
     "text": [
      "['aa', 'ab', 'ac', 'ad', 'ae', 'af', 'ag', 'ah', 'ai', 'aj', 'ak', 'al', 'am', 'an', 'ao', 'ap', 'aq', 'ar', 'as', 'at', 'au', 'av', 'aw', 'ax', 'ay', 'az', 'ba', 'bb', 'bc', 'bd', 'be', 'bf', 'bg', 'bh', 'bi', 'bj', 'bk', 'bl', 'bm', 'bn', 'bo', 'bp', 'bq', 'br', 'bs', 'bt', 'bu', 'bv', 'bw', 'bx', 'by', 'bz', 'ca', 'cb', 'cc', 'cd', 'ce', 'cf', 'cg', 'ch', 'ci', 'cj', 'ck', 'cl', 'cm', 'cn', 'co', 'cp', 'cq', 'cr', 'cs', 'ct', 'cu', 'cv', 'cw', 'cx', 'cy', 'cz', 'da', 'db', 'dc', 'dd', 'de', 'df', 'dg', 'dh', 'di', 'dj', 'dk', 'dl', 'dm', 'dn', 'do', 'dp', 'dq', 'dr', 'ds', 'dt', 'du', 'dv', 'dw', 'dx', 'dy', 'dz', 'ea', 'eb', 'ec', 'ed', 'ee', 'ef', 'eg', 'eh', 'ei', 'ej', 'ek', 'el', 'em', 'en', 'eo', 'ep', 'eq', 'er', 'es', 'et', 'eu', 'ev', 'ew', 'ex', 'ey', 'ez', 'fa', 'fb', 'fc', 'fd', 'fe', 'ff', 'fg', 'fh', 'fi', 'fj', 'fk', 'fl', 'fm', 'fn', 'fo', 'fp', 'fq', 'fr', 'fs', 'ft', 'fu', 'fv', 'fw', 'fx', 'fy', 'fz', 'ga', 'gb', 'gc', 'gd', 'ge', 'gf', 'gg', 'gh', 'gi', 'gj', 'gk', 'gl', 'gm', 'gn', 'go', 'gp', 'gq', 'gr', 'gs', 'gt', 'gu', 'gv', 'gw', 'gx', 'gy', 'gz', 'ha', 'hb', 'hc', 'hd', 'he', 'hf', 'hg', 'hh', 'hi', 'hj', 'hk', 'hl', 'hm', 'hn', 'ho', 'hp', 'hq', 'hr', 'hs', 'ht', 'hu', 'hv', 'hw', 'hx', 'hy', 'hz', 'ia', 'ib', 'ic', 'id', 'ie', 'if', 'ig', 'ih', 'ii', 'ij', 'ik', 'il', 'im', 'in', 'io', 'ip', 'iq', 'ir', 'is', 'it', 'iu', 'iv', 'iw', 'ix', 'iy', 'iz', 'ja', 'jb', 'jc', 'jd', 'je', 'jf', 'jg', 'jh', 'ji', 'jj', 'jk', 'jl', 'jm', 'jn', 'jo', 'jp', 'jq', 'jr', 'js', 'jt', 'ju', 'jv', 'jw', 'jx', 'jy', 'jz', 'ka', 'kb', 'kc', 'kd', 'ke', 'kf', 'kg', 'kh', 'ki', 'kj', 'kk', 'kl', 'km', 'kn', 'ko', 'kp', 'kq', 'kr', 'ks', 'kt', 'ku', 'kv', 'kw', 'kx', 'ky', 'kz', 'la', 'lb', 'lc', 'ld', 'le', 'lf', 'lg', 'lh', 'li', 'lj', 'lk', 'll', 'lm', 'ln', 'lo', 'lp', 'lq', 'lr', 'ls', 'lt', 'lu', 'lv', 'lw', 'lx', 'ly', 'lz', 'ma', 'mb', 'mc', 'md', 'me', 'mf']\n"
     ]
    }
   ],
   "source": [
    "# II способ:\n",
    "\n",
    "def combination_until_mf():\n",
    "    eng_alph = list(string.ascii_lowercase)\n",
    "    combination_letters=[]\n",
    "    for l1 in eng_alph:\n",
    "        for l2 in eng_alph:\n",
    "            l1_l2 = l1 + l2\n",
    "            combination_letters.append(l1_l2)\n",
    "            if l1_l2 == 'mf':\n",
    "                return combination_letters\n",
    "    return combination_letters\n",
    "\n",
    "my_alph = combination_until_mf()\n",
    "print(my_alph)"
   ]
  },
  {
   "cell_type": "markdown",
   "id": "de5695b1-5b0d-477f-b87a-eb13ec3cf55d",
   "metadata": {},
   "source": [
    "4. Cгенерировать все возможные комбинации строчных букв английского алфавита длиной два символа, но не выводить комбинации с одинаковыми буквами («aa», «bb» и т. д.):"
   ]
  },
  {
   "cell_type": "code",
   "execution_count": 104,
   "id": "5fd5a41b-1f44-4599-bac8-2dc678cf0ab1",
   "metadata": {},
   "outputs": [
    {
     "name": "stdout",
     "output_type": "stream",
     "text": [
      "['ab', 'ac', 'ad', 'ae', 'af', 'ag', 'ah', 'ai', 'aj', 'ak', 'al', 'am', 'an', 'ao', 'ap', 'aq', 'ar', 'as', 'at', 'au', 'av', 'aw', 'ax', 'ay', 'az', 'ba', 'bc', 'bd', 'be', 'bf', 'bg', 'bh', 'bi', 'bj', 'bk', 'bl', 'bm', 'bn', 'bo', 'bp', 'bq', 'br', 'bs', 'bt', 'bu', 'bv', 'bw', 'bx', 'by', 'bz', 'ca', 'cb', 'cd', 'ce', 'cf', 'cg', 'ch', 'ci', 'cj', 'ck', 'cl', 'cm', 'cn', 'co', 'cp', 'cq', 'cr', 'cs', 'ct', 'cu', 'cv', 'cw', 'cx', 'cy', 'cz', 'da', 'db', 'dc', 'de', 'df', 'dg', 'dh', 'di', 'dj', 'dk', 'dl', 'dm', 'dn', 'do', 'dp', 'dq', 'dr', 'ds', 'dt', 'du', 'dv', 'dw', 'dx', 'dy', 'dz', 'ea', 'eb', 'ec', 'ed', 'ef', 'eg', 'eh', 'ei', 'ej', 'ek', 'el', 'em', 'en', 'eo', 'ep', 'eq', 'er', 'es', 'et', 'eu', 'ev', 'ew', 'ex', 'ey', 'ez', 'fa', 'fb', 'fc', 'fd', 'fe', 'fg', 'fh', 'fi', 'fj', 'fk', 'fl', 'fm', 'fn', 'fo', 'fp', 'fq', 'fr', 'fs', 'ft', 'fu', 'fv', 'fw', 'fx', 'fy', 'fz', 'ga', 'gb', 'gc', 'gd', 'ge', 'gf', 'gh', 'gi', 'gj', 'gk', 'gl', 'gm', 'gn', 'go', 'gp', 'gq', 'gr', 'gs', 'gt', 'gu', 'gv', 'gw', 'gx', 'gy', 'gz', 'ha', 'hb', 'hc', 'hd', 'he', 'hf', 'hg', 'hi', 'hj', 'hk', 'hl', 'hm', 'hn', 'ho', 'hp', 'hq', 'hr', 'hs', 'ht', 'hu', 'hv', 'hw', 'hx', 'hy', 'hz', 'ia', 'ib', 'ic', 'id', 'ie', 'if', 'ig', 'ih', 'ij', 'ik', 'il', 'im', 'in', 'io', 'ip', 'iq', 'ir', 'is', 'it', 'iu', 'iv', 'iw', 'ix', 'iy', 'iz', 'ja', 'jb', 'jc', 'jd', 'je', 'jf', 'jg', 'jh', 'ji', 'jk', 'jl', 'jm', 'jn', 'jo', 'jp', 'jq', 'jr', 'js', 'jt', 'ju', 'jv', 'jw', 'jx', 'jy', 'jz', 'ka', 'kb', 'kc', 'kd', 'ke', 'kf', 'kg', 'kh', 'ki', 'kj', 'kl', 'km', 'kn', 'ko', 'kp', 'kq', 'kr', 'ks', 'kt', 'ku', 'kv', 'kw', 'kx', 'ky', 'kz', 'la', 'lb', 'lc', 'ld', 'le', 'lf', 'lg', 'lh', 'li', 'lj', 'lk', 'lm', 'ln', 'lo', 'lp', 'lq', 'lr', 'ls', 'lt', 'lu', 'lv', 'lw', 'lx', 'ly', 'lz', 'ma', 'mb', 'mc', 'md', 'me', 'mf', 'mg', 'mh', 'mi', 'mj', 'mk', 'ml', 'mn', 'mo', 'mp', 'mq', 'mr', 'ms', 'mt', 'mu', 'mv', 'mw', 'mx', 'my', 'mz', 'na', 'nb', 'nc', 'nd', 'ne', 'nf', 'ng', 'nh', 'ni', 'nj', 'nk', 'nl', 'nm', 'no', 'np', 'nq', 'nr', 'ns', 'nt', 'nu', 'nv', 'nw', 'nx', 'ny', 'nz', 'oa', 'ob', 'oc', 'od', 'oe', 'of', 'og', 'oh', 'oi', 'oj', 'ok', 'ol', 'om', 'on', 'op', 'oq', 'or', 'os', 'ot', 'ou', 'ov', 'ow', 'ox', 'oy', 'oz', 'pa', 'pb', 'pc', 'pd', 'pe', 'pf', 'pg', 'ph', 'pi', 'pj', 'pk', 'pl', 'pm', 'pn', 'po', 'pq', 'pr', 'ps', 'pt', 'pu', 'pv', 'pw', 'px', 'py', 'pz', 'qa', 'qb', 'qc', 'qd', 'qe', 'qf', 'qg', 'qh', 'qi', 'qj', 'qk', 'ql', 'qm', 'qn', 'qo', 'qp', 'qr', 'qs', 'qt', 'qu', 'qv', 'qw', 'qx', 'qy', 'qz', 'ra', 'rb', 'rc', 'rd', 're', 'rf', 'rg', 'rh', 'ri', 'rj', 'rk', 'rl', 'rm', 'rn', 'ro', 'rp', 'rq', 'rs', 'rt', 'ru', 'rv', 'rw', 'rx', 'ry', 'rz', 'sa', 'sb', 'sc', 'sd', 'se', 'sf', 'sg', 'sh', 'si', 'sj', 'sk', 'sl', 'sm', 'sn', 'so', 'sp', 'sq', 'sr', 'st', 'su', 'sv', 'sw', 'sx', 'sy', 'sz', 'ta', 'tb', 'tc', 'td', 'te', 'tf', 'tg', 'th', 'ti', 'tj', 'tk', 'tl', 'tm', 'tn', 'to', 'tp', 'tq', 'tr', 'ts', 'tu', 'tv', 'tw', 'tx', 'ty', 'tz', 'ua', 'ub', 'uc', 'ud', 'ue', 'uf', 'ug', 'uh', 'ui', 'uj', 'uk', 'ul', 'um', 'un', 'uo', 'up', 'uq', 'ur', 'us', 'ut', 'uv', 'uw', 'ux', 'uy', 'uz', 'va', 'vb', 'vc', 'vd', 've', 'vf', 'vg', 'vh', 'vi', 'vj', 'vk', 'vl', 'vm', 'vn', 'vo', 'vp', 'vq', 'vr', 'vs', 'vt', 'vu', 'vw', 'vx', 'vy', 'vz', 'wa', 'wb', 'wc', 'wd', 'we', 'wf', 'wg', 'wh', 'wi', 'wj', 'wk', 'wl', 'wm', 'wn', 'wo', 'wp', 'wq', 'wr', 'ws', 'wt', 'wu', 'wv', 'wx', 'wy', 'wz', 'xa', 'xb', 'xc', 'xd', 'xe', 'xf', 'xg', 'xh', 'xi', 'xj', 'xk', 'xl', 'xm', 'xn', 'xo', 'xp', 'xq', 'xr', 'xs', 'xt', 'xu', 'xv', 'xw', 'xy', 'xz', 'ya', 'yb', 'yc', 'yd', 'ye', 'yf', 'yg', 'yh', 'yi', 'yj', 'yk', 'yl', 'ym', 'yn', 'yo', 'yp', 'yq', 'yr', 'ys', 'yt', 'yu', 'yv', 'yw', 'yx', 'yz', 'za', 'zb', 'zc', 'zd', 'ze', 'zf', 'zg', 'zh', 'zi', 'zj', 'zk', 'zl', 'zm', 'zn', 'zo', 'zp', 'zq', 'zr', 'zs', 'zt', 'zu', 'zv', 'zw', 'zx', 'zy']\n"
     ]
    }
   ],
   "source": [
    "# I \n",
    "\n",
    "def combination_no_duplicates():\n",
    "    combination = []\n",
    "    for i1 in range(ord('a'), ord('z') + 1):\n",
    "        for i2 in range(ord('a'), ord('z') + 1):\n",
    "            letters = chr(i1) + chr(i2)\n",
    "            if chr(i1) != chr(i2):\n",
    "                combination.append(letters) \n",
    "    return combination \n",
    "\n",
    "my = combination_no_duplicates()\n",
    "print(my)\n",
    "\n",
    "#куда вставить  print('\\n') в функцию, чтобы сроки разделялись?????"
   ]
  },
  {
   "cell_type": "code",
   "execution_count": 105,
   "id": "456aa32e-89b7-42a3-b2e7-01fc1e5f8a59",
   "metadata": {},
   "outputs": [
    {
     "name": "stdout",
     "output_type": "stream",
     "text": [
      "['ab', 'ac', 'ad', 'ae', 'af', 'ag', 'ah', 'ai', 'aj', 'ak', 'al', 'am', 'an', 'ao', 'ap', 'aq', 'ar', 'as', 'at', 'au', 'av', 'aw', 'ax', 'ay', 'az', 'ba', 'bc', 'bd', 'be', 'bf', 'bg', 'bh', 'bi', 'bj', 'bk', 'bl', 'bm', 'bn', 'bo', 'bp', 'bq', 'br', 'bs', 'bt', 'bu', 'bv', 'bw', 'bx', 'by', 'bz', 'ca', 'cb', 'cd', 'ce', 'cf', 'cg', 'ch', 'ci', 'cj', 'ck', 'cl', 'cm', 'cn', 'co', 'cp', 'cq', 'cr', 'cs', 'ct', 'cu', 'cv', 'cw', 'cx', 'cy', 'cz', 'da', 'db', 'dc', 'de', 'df', 'dg', 'dh', 'di', 'dj', 'dk', 'dl', 'dm', 'dn', 'do', 'dp', 'dq', 'dr', 'ds', 'dt', 'du', 'dv', 'dw', 'dx', 'dy', 'dz', 'ea', 'eb', 'ec', 'ed', 'ef', 'eg', 'eh', 'ei', 'ej', 'ek', 'el', 'em', 'en', 'eo', 'ep', 'eq', 'er', 'es', 'et', 'eu', 'ev', 'ew', 'ex', 'ey', 'ez', 'fa', 'fb', 'fc', 'fd', 'fe', 'fg', 'fh', 'fi', 'fj', 'fk', 'fl', 'fm', 'fn', 'fo', 'fp', 'fq', 'fr', 'fs', 'ft', 'fu', 'fv', 'fw', 'fx', 'fy', 'fz', 'ga', 'gb', 'gc', 'gd', 'ge', 'gf', 'gh', 'gi', 'gj', 'gk', 'gl', 'gm', 'gn', 'go', 'gp', 'gq', 'gr', 'gs', 'gt', 'gu', 'gv', 'gw', 'gx', 'gy', 'gz', 'ha', 'hb', 'hc', 'hd', 'he', 'hf', 'hg', 'hi', 'hj', 'hk', 'hl', 'hm', 'hn', 'ho', 'hp', 'hq', 'hr', 'hs', 'ht', 'hu', 'hv', 'hw', 'hx', 'hy', 'hz', 'ia', 'ib', 'ic', 'id', 'ie', 'if', 'ig', 'ih', 'ij', 'ik', 'il', 'im', 'in', 'io', 'ip', 'iq', 'ir', 'is', 'it', 'iu', 'iv', 'iw', 'ix', 'iy', 'iz', 'ja', 'jb', 'jc', 'jd', 'je', 'jf', 'jg', 'jh', 'ji', 'jk', 'jl', 'jm', 'jn', 'jo', 'jp', 'jq', 'jr', 'js', 'jt', 'ju', 'jv', 'jw', 'jx', 'jy', 'jz', 'ka', 'kb', 'kc', 'kd', 'ke', 'kf', 'kg', 'kh', 'ki', 'kj', 'kl', 'km', 'kn', 'ko', 'kp', 'kq', 'kr', 'ks', 'kt', 'ku', 'kv', 'kw', 'kx', 'ky', 'kz', 'la', 'lb', 'lc', 'ld', 'le', 'lf', 'lg', 'lh', 'li', 'lj', 'lk', 'lm', 'ln', 'lo', 'lp', 'lq', 'lr', 'ls', 'lt', 'lu', 'lv', 'lw', 'lx', 'ly', 'lz', 'ma', 'mb', 'mc', 'md', 'me', 'mf', 'mg', 'mh', 'mi', 'mj', 'mk', 'ml', 'mn', 'mo', 'mp', 'mq', 'mr', 'ms', 'mt', 'mu', 'mv', 'mw', 'mx', 'my', 'mz', 'na', 'nb', 'nc', 'nd', 'ne', 'nf', 'ng', 'nh', 'ni', 'nj', 'nk', 'nl', 'nm', 'no', 'np', 'nq', 'nr', 'ns', 'nt', 'nu', 'nv', 'nw', 'nx', 'ny', 'nz', 'oa', 'ob', 'oc', 'od', 'oe', 'of', 'og', 'oh', 'oi', 'oj', 'ok', 'ol', 'om', 'on', 'op', 'oq', 'or', 'os', 'ot', 'ou', 'ov', 'ow', 'ox', 'oy', 'oz', 'pa', 'pb', 'pc', 'pd', 'pe', 'pf', 'pg', 'ph', 'pi', 'pj', 'pk', 'pl', 'pm', 'pn', 'po', 'pq', 'pr', 'ps', 'pt', 'pu', 'pv', 'pw', 'px', 'py', 'pz', 'qa', 'qb', 'qc', 'qd', 'qe', 'qf', 'qg', 'qh', 'qi', 'qj', 'qk', 'ql', 'qm', 'qn', 'qo', 'qp', 'qr', 'qs', 'qt', 'qu', 'qv', 'qw', 'qx', 'qy', 'qz', 'ra', 'rb', 'rc', 'rd', 're', 'rf', 'rg', 'rh', 'ri', 'rj', 'rk', 'rl', 'rm', 'rn', 'ro', 'rp', 'rq', 'rs', 'rt', 'ru', 'rv', 'rw', 'rx', 'ry', 'rz', 'sa', 'sb', 'sc', 'sd', 'se', 'sf', 'sg', 'sh', 'si', 'sj', 'sk', 'sl', 'sm', 'sn', 'so', 'sp', 'sq', 'sr', 'st', 'su', 'sv', 'sw', 'sx', 'sy', 'sz', 'ta', 'tb', 'tc', 'td', 'te', 'tf', 'tg', 'th', 'ti', 'tj', 'tk', 'tl', 'tm', 'tn', 'to', 'tp', 'tq', 'tr', 'ts', 'tu', 'tv', 'tw', 'tx', 'ty', 'tz', 'ua', 'ub', 'uc', 'ud', 'ue', 'uf', 'ug', 'uh', 'ui', 'uj', 'uk', 'ul', 'um', 'un', 'uo', 'up', 'uq', 'ur', 'us', 'ut', 'uv', 'uw', 'ux', 'uy', 'uz', 'va', 'vb', 'vc', 'vd', 've', 'vf', 'vg', 'vh', 'vi', 'vj', 'vk', 'vl', 'vm', 'vn', 'vo', 'vp', 'vq', 'vr', 'vs', 'vt', 'vu', 'vw', 'vx', 'vy', 'vz', 'wa', 'wb', 'wc', 'wd', 'we', 'wf', 'wg', 'wh', 'wi', 'wj', 'wk', 'wl', 'wm', 'wn', 'wo', 'wp', 'wq', 'wr', 'ws', 'wt', 'wu', 'wv', 'wx', 'wy', 'wz', 'xa', 'xb', 'xc', 'xd', 'xe', 'xf', 'xg', 'xh', 'xi', 'xj', 'xk', 'xl', 'xm', 'xn', 'xo', 'xp', 'xq', 'xr', 'xs', 'xt', 'xu', 'xv', 'xw', 'xy', 'xz', 'ya', 'yb', 'yc', 'yd', 'ye', 'yf', 'yg', 'yh', 'yi', 'yj', 'yk', 'yl', 'ym', 'yn', 'yo', 'yp', 'yq', 'yr', 'ys', 'yt', 'yu', 'yv', 'yw', 'yx', 'yz', 'za', 'zb', 'zc', 'zd', 'ze', 'zf', 'zg', 'zh', 'zi', 'zj', 'zk', 'zl', 'zm', 'zn', 'zo', 'zp', 'zq', 'zr', 'zs', 'zt', 'zu', 'zv', 'zw', 'zx', 'zy']\n"
     ]
    }
   ],
   "source": [
    "# II\n",
    "\n",
    "def combination_except_doubles():\n",
    "    eng_alph = list(string.ascii_lowercase)\n",
    "    combination_letters=[]\n",
    "    for l1 in eng_alph:\n",
    "        for l2 in eng_alph:\n",
    "            if l1 != l2:\n",
    "                l1_l2 = l1 + l2\n",
    "                combination_letters.append(l1_l2)\n",
    "    return combination_letters\n",
    "\n",
    "my_alph = combination_except_doubles()\n",
    "print(my_alph)"
   ]
  },
  {
   "cell_type": "markdown",
   "id": "2ce7d44f-80ae-4340-b029-c4787009ec89",
   "metadata": {},
   "source": [
    "5. Напишите две функции: caesar_crypt(key) одна будет шифровать введенный ей через input() текст шифром Цезаря. Другая расшифровывать caesar_decrypt(key). Аргумент функций - цифра сдвига для кодировки."
   ]
  },
  {
   "cell_type": "markdown",
   "id": "bbb6cac8-def7-4fce-9fde-f91f46f6e333",
   "metadata": {},
   "source": [
    "Шифр Цeзаря (шифр сдвига, код Цезаря) – такой простой вид шифрования текста, при котором все символы в тексте заменяются символами, сдвинутыми по алфавиту на правее или левее на постоянное количество позиций. Например, при сдвиге на 1 буква А заменяется на Б, Б на В и т.д"
   ]
  },
  {
   "cell_type": "code",
   "execution_count": 106,
   "id": "74280880-c4c1-4e58-890d-340de8d908c1",
   "metadata": {},
   "outputs": [
    {
     "name": "stdin",
     "output_type": "stream",
     "text": [
      "Please input your text:\n",
      " Hello! My name is Anna.\n"
     ]
    },
    {
     "name": "stdout",
     "output_type": "stream",
     "text": [
      "Jgnnq! Oa pcog ku Cppc.\n"
     ]
    },
    {
     "name": "stdin",
     "output_type": "stream",
     "text": [
      "Please input your text:\n",
      " Jgnnq! Oa pcog ku Cppc.\n"
     ]
    },
    {
     "name": "stdout",
     "output_type": "stream",
     "text": [
      "Hello! My name is Anna.\n"
     ]
    }
   ],
   "source": [
    "def caesar_crypt(key:int):\n",
    "    text = input('Please input your text:\\n')\n",
    "    words = []\n",
    "    letter = ''\n",
    "    for i in text:\n",
    "        if ord(i) >= 65 and ord(i) <= 90:\n",
    "            letter = chr((((ord(i)- 65) + key) % 26) + 65)\n",
    "            words.append(letter)\n",
    "        elif ord(i) >= 97 and ord(i) <= 122:\n",
    "            letter = chr((((ord(i)- 97) + key) % 26) + 97)\n",
    "            words.append(letter)\n",
    "        else:\n",
    "            words.append(i)\n",
    "    return ''.join(words)\n",
    "\n",
    "\n",
    "print(caesar_crypt(2))\n",
    "\n",
    "    \n",
    "def caesar_decrypt(key: int):\n",
    "    text = input('Please input your text:\\n')\n",
    "    words = []\n",
    "    letter = ''\n",
    "    for i in text:\n",
    "        if ord(i) >= 65 and ord(i) <= 90:\n",
    "            letter = chr((((ord(i)- 65) - key) % 26) + 65)\n",
    "            words.append(letter)\n",
    "        elif ord(i) >= 97 and ord(i) <= 122:\n",
    "            letter = chr((((ord(i)- 97) - key) % 26) + 97)\n",
    "            words.append(letter)\n",
    "        else:\n",
    "            words.append(i)\n",
    "    return ''.join(words)\n",
    "\n",
    "\n",
    "print(caesar_decrypt(2))\n",
    "\n"
   ]
  },
  {
   "cell_type": "markdown",
   "id": "7aba5087-9cbc-4417-bbf9-0369b32e8319",
   "metadata": {},
   "source": [
    "## 2. f-string"
   ]
  },
  {
   "cell_type": "markdown",
   "id": "e22f2001-67d5-414b-9dda-2e1c953d56ca",
   "metadata": {},
   "source": [
    "Чтобы задать **f-строку**, необходимо поставить букву f перед открывающей кавычкой строки. Далее f-строка записывается как единое целое, с учётом правил её форматирования, и закрывается соответствующей кавычкой"
   ]
  },
  {
   "cell_type": "markdown",
   "id": "21b17421-e247-4363-b756-50a8dbe80a6b",
   "metadata": {},
   "source": [
    "Немного теории можно прочитать на нашей wiki  -  https://github.com/amtsu/team22/wiki/Python:-Вывод-данных-в-консоль"
   ]
  },
  {
   "cell_type": "code",
   "execution_count": 17,
   "id": "591ffa62-d49e-4124-a485-6f031b1b7ab4",
   "metadata": {},
   "outputs": [
    {
     "name": "stdout",
     "output_type": "stream",
     "text": [
      "Добрый день, Пользователь.\n"
     ]
    }
   ],
   "source": [
    "#пример\n",
    "name = \"Пользователь\"\n",
    "print(f\"Добрый день, {name}.\")"
   ]
  },
  {
   "cell_type": "raw",
   "id": "84d5fed6-a2f1-48d6-936e-2db1ab59db68",
   "metadata": {},
   "source": [
    "1. Напечать чек с помощью f-строки. Ввод можно сделать через input или кортеж\n",
    "Ввод:\n",
    "название товара;\n",
    "цена товара;\n",
    "вес товара;\n",
    "количество денег у пользователя.\n",
    "\n",
    "Вывод:\n",
    "Чек\n",
    "<название товара> - <вес>кг - <цена>руб/кг\n",
    "Итого: <итоговая стоимость>руб\n",
    "Внесено: <количество денег от пользователя>руб\n",
    "Сдача: <сдача>руб"
   ]
  },
  {
   "cell_type": "code",
   "execution_count": 15,
   "id": "c88c288b-1654-4509-b814-bd12b3523323",
   "metadata": {},
   "outputs": [
    {
     "name": "stdin",
     "output_type": "stream",
     "text": [
      "Название продукта: \n",
      " молоко\n",
      "Цена продукта: \n",
      " 10\n",
      "Вес товара: \n",
      " 2\n",
      "Количество денег у пользователя: \n",
      " 50\n"
     ]
    },
    {
     "name": "stdout",
     "output_type": "stream",
     "text": [
      "Чек\n",
      "молоко - 2.0кг - 10.0 руб/кг\n",
      "Итого: 20.0руб \n",
      "Внесено: 50.0руб \n",
      "Сдача: 30.0 руб\n"
     ]
    }
   ],
   "source": [
    "product_name = input('Название продукта: \\n')\n",
    "product_price = float(input('Цена продукта: \\n'))\n",
    "product_weight = float(input('Вес товара: \\n'))\n",
    "money_of_buyer = float(input('Количество денег у пользователя: \\n'))\n",
    "product_sum = product_price*product_weight\n",
    "change_money = money_of_buyer - product_sum\n",
    "\n",
    "print (f\"Чек\\n{product_name} - {product_weight}кг - {product_price} руб/кг\\nИтого: {product_sum}руб \\nВнесено: {money_of_buyer}руб \\nСдача: {change_money} руб\")\n"
   ]
  },
  {
   "cell_type": "raw",
   "id": "32439e3c-90a9-40c1-85fa-49bc20881159",
   "metadata": {},
   "source": [
    "2. Сделать для предыдущей задачи красивый вывод в виде:\n",
    "================Чек================\n",
    "Товар:                    <продукт>\n",
    "Цена:     <число>кг * <число>руб/кг\n",
    "Итого:                   <число>руб\n",
    "Внесено:                 <число>руб\n",
    "Сдача:                   <число>руб\n",
    "==================================="
   ]
  },
  {
   "cell_type": "code",
   "execution_count": 32,
   "id": "c94a01c3-eb05-4120-9334-9d13a0657772",
   "metadata": {},
   "outputs": [
    {
     "name": "stdin",
     "output_type": "stream",
     "text": [
      "Название продукта: \n",
      " сахар\n",
      "Цена продукта: \n",
      " 50\n",
      "Вес товара: \n",
      " 2\n",
      "Количество денег у пользователя: \n",
      " 500\n"
     ]
    },
    {
     "name": "stdout",
     "output_type": "stream",
     "text": [
      "================Чек================\n",
      "Товар:                        сахар\n",
      "Цена:              2.0кг*50.0руб/кг\n",
      "Итого:                        100.0\n",
      "Внесено:                      500.0\n",
      "Сдача:                        400.0\n",
      "===================================\n"
     ]
    }
   ],
   "source": [
    "product_name = input('Название продукта: \\n')\n",
    "product_price = float(input('Цена продукта: \\n'))\n",
    "product_weight = float(input('Вес товара: \\n'))\n",
    "money_of_buyer = float(input('Количество денег у пользователя: \\n'))\n",
    "product_sum = product_price*product_weight\n",
    "change_money = money_of_buyer - product_sum\n",
    "\n",
    "\n",
    "print(f\"{'Чек':=^35}\",\n",
    "      f\"{'Товар:':<10}{product_name:>25}\",\n",
    "      f\"{'Цена:':10}{f'{product_weight}кг*{product_price}руб/кг':>25}\",\n",
    "      f\"{'Итого:':<10}{product_sum:>25}\",\n",
    "      f\"{'Внесено:':<10}{money_of_buyer:>25}\",\n",
    "      f\"{'Сдача:':<10}{change_money:>25}\", \n",
    "      f\"{'='*35}\", sep='\\n')\n",
    "\n"
   ]
  },
  {
   "cell_type": "markdown",
   "id": "75ad0171-3953-44f3-9734-2ff12aff8868",
   "metadata": {},
   "source": [
    "3. Вывести трегуольник паскаля в красивом виде. В этом треугольнике на вершине и по бокам стоят единицы. Каждое число равно сумме двух расположенных над ним чисел. Строки треугольника симметричны относительно вертикальной оси. (не использовать многострочное форматирование)"
   ]
  },
  {
   "cell_type": "code",
   "execution_count": 182,
   "id": "c1fa3823-99c0-4c0c-914c-8a93ae538967",
   "metadata": {},
   "outputs": [
    {
     "name": "stdout",
     "output_type": "stream",
     "text": [
      "                      1 \n",
      "                    1    1 \n",
      "                  1    2    1 \n",
      "                1    3    3    1 \n",
      "              1    4    6    4    1 \n",
      "            1    5   10   10    5    1 \n",
      "          1    6   15   20   15    6    1 \n",
      "        1    7   21   35   35   21    7    1 \n",
      "      1    8   28   56   70   56   28    8    1 \n",
      "    1    9   36   84  126  126   84   36    9    1 \n"
     ]
    }
   ],
   "source": [
    "def pascal_triangle():\n",
    "    n = 9\n",
    "    triangle = []\n",
    "    for i in range(n+1):\n",
    "        triangle.append([1]+[0]*n)\n",
    "\n",
    "    for i in range(1, n+1):\n",
    "        for j in range(1, i+1):\n",
    "            triangle[i][j] = triangle[i-1][j-1]+triangle[i-1][j]\n",
    "\n",
    "\n",
    "    for i in range(0, n+1):\n",
    "        print(\" \" * (n-i) * 2, end=\" \")  #?\n",
    "        for j in range(0, i+1):\n",
    "            print(str(triangle[i][j]).rjust(4), end=' ') #?\n",
    "        print() \n",
    "\n",
    "pascal_triangle()\n",
    "\n",
    "#Метод rjust() является методом строк в Python. \n",
    "#для выравнивания строки по правому краю, \n",
    "#добавляя при необходимости пробелы слева до достижения указанной ширины."
   ]
  },
  {
   "cell_type": "markdown",
   "id": "ac3f4ee8-9ebb-46c9-89a5-b79c3f95e6a4",
   "metadata": {},
   "source": [
    "## 3. Работа с файлами"
   ]
  },
  {
   "cell_type": "markdown",
   "id": "f7292ea7-d7c6-4e63-877b-8e53c1552351",
   "metadata": {},
   "source": [
    "Немного теории можно прочитать на нашей wiki  - https://github.com/amtsu/team22/wiki/Python:-Базовая-работа-с-файлами"
   ]
  },
  {
   "cell_type": "markdown",
   "id": "22aa895a-147e-4db0-936c-ff595f29e2ef",
   "metadata": {},
   "source": [
    "1. Возьмите массив двухбуквенных сочетаний из задания 1.2 и запишите построчно этот массив в file1.txt"
   ]
  },
  {
   "cell_type": "code",
   "execution_count": 117,
   "id": "73b06257-98d5-4ffc-a22c-f75ce62d2043",
   "metadata": {},
   "outputs": [
    {
     "name": "stdout",
     "output_type": "stream",
     "text": [
      "'a': aa ab ac ad ae af ag ah ai aj ak al am an ao ap aq ar as at au av aw ax ay az\n",
      "'b': ba bb bc bd be bf bg bh bi bj bk bl bm bn bo bp bq br bs bt bu bv bw bx by bz\n",
      "'c': ca cb cc cd ce cf cg ch ci cj ck cl cm cn co cp cq cr cs ct cu cv cw cx cy cz\n",
      "'d': da db dc dd de df dg dh di dj dk dl dm dn do dp dq dr ds dt du dv dw dx dy dz\n",
      "'e': ea eb ec ed ee ef eg eh ei ej ek el em en eo ep eq er es et eu ev ew ex ey ez\n",
      "'f': fa fb fc fd fe ff fg fh fi fj fk fl fm fn fo fp fq fr fs ft fu fv fw fx fy fz\n",
      "'g': ga gb gc gd ge gf gg gh gi gj gk gl gm gn go gp gq gr gs gt gu gv gw gx gy gz\n",
      "'h': ha hb hc hd he hf hg hh hi hj hk hl hm hn ho hp hq hr hs ht hu hv hw hx hy hz\n",
      "'i': ia ib ic id ie if ig ih ii ij ik il im in io ip iq ir is it iu iv iw ix iy iz\n",
      "'j': ja jb jc jd je jf jg jh ji jj jk jl jm jn jo jp jq jr js jt ju jv jw jx jy jz\n",
      "'k': ka kb kc kd ke kf kg kh ki kj kk kl km kn ko kp kq kr ks kt ku kv kw kx ky kz\n",
      "'l': la lb lc ld le lf lg lh li lj lk ll lm ln lo lp lq lr ls lt lu lv lw lx ly lz\n",
      "'m': ma mb mc md me mf mg mh mi mj mk ml mm mn mo mp mq mr ms mt mu mv mw mx my mz\n",
      "'n': na nb nc nd ne nf ng nh ni nj nk nl nm nn no np nq nr ns nt nu nv nw nx ny nz\n",
      "'o': oa ob oc od oe of og oh oi oj ok ol om on oo op oq or os ot ou ov ow ox oy oz\n",
      "'p': pa pb pc pd pe pf pg ph pi pj pk pl pm pn po pp pq pr ps pt pu pv pw px py pz\n",
      "'q': qa qb qc qd qe qf qg qh qi qj qk ql qm qn qo qp qq qr qs qt qu qv qw qx qy qz\n",
      "'r': ra rb rc rd re rf rg rh ri rj rk rl rm rn ro rp rq rr rs rt ru rv rw rx ry rz\n",
      "'s': sa sb sc sd se sf sg sh si sj sk sl sm sn so sp sq sr ss st su sv sw sx sy sz\n",
      "'t': ta tb tc td te tf tg th ti tj tk tl tm tn to tp tq tr ts tt tu tv tw tx ty tz\n",
      "'u': ua ub uc ud ue uf ug uh ui uj uk ul um un uo up uq ur us ut uu uv uw ux uy uz\n",
      "'v': va vb vc vd ve vf vg vh vi vj vk vl vm vn vo vp vq vr vs vt vu vv vw vx vy vz\n",
      "'w': wa wb wc wd we wf wg wh wi wj wk wl wm wn wo wp wq wr ws wt wu wv ww wx wy wz\n",
      "'x': xa xb xc xd xe xf xg xh xi xj xk xl xm xn xo xp xq xr xs xt xu xv xw xx xy xz\n",
      "'y': ya yb yc yd ye yf yg yh yi yj yk yl ym yn yo yp yq yr ys yt yu yv yw yx yy yz\n",
      "'z': za zb zc zd ze zf zg zh zi zj zk zl zm zn zo zp zq zr zs zt zu zv zw zx zy zz\n"
     ]
    }
   ],
   "source": [
    "combinations = a_combinations_let() \n",
    "\n",
    "with open('file1.txt', 'w') as file: \n",
    "    for key, value in combinations.items():\n",
    "        file.write(f\"'{key}': {' '.join(value)}\\n\")\n",
    "\n",
    "with open('file1.txt', 'r') as file:\n",
    "    for line in file:\n",
    "        print(line.strip()) #strip удаляет 'лишн' символы"
   ]
  },
  {
   "cell_type": "markdown",
   "id": "bf13b25a-eaf0-4ada-8745-3f4e5a87a109",
   "metadata": {},
   "source": [
    "2. Напишите функцию read_last(lines, file), которая будет открывать файл (в нашем случае file1.txt) и выводить на печать построчно последние строки в количестве lines (на всякий случай проверим, что задано положительное целое число)"
   ]
  },
  {
   "cell_type": "code",
   "execution_count": 128,
   "id": "a09075af-f568-47f5-8926-8f3f2890e3f4",
   "metadata": {},
   "outputs": [
    {
     "name": "stdout",
     "output_type": "stream",
     "text": [
      "'y': ya yb yc yd ye yf yg yh yi yj yk yl ym yn yo yp yq yr ys yt yu yv yw yx yy yz\n",
      "\n",
      "'z': za zb zc zd ze zf zg zh zi zj zk zl zm zn zo zp zq zr zs zt zu zv zw zx zy zz\n",
      "\n"
     ]
    }
   ],
   "source": [
    "def read_last(lines, file):\n",
    "    with open(file, 'r') as f:\n",
    "        all_lines = f.readlines()\n",
    "        if len(all_lines) > 0:\n",
    "            for line in all_lines[-lines:]:\n",
    "                print(line)\n",
    "        \n",
    "read_last(2, 'file1.txt')\n"
   ]
  },
  {
   "cell_type": "markdown",
   "id": "4b848caa-53f6-4806-b841-febbb552e42a",
   "metadata": {},
   "source": [
    "3. Напишите функцию longest_words(file), которая выводит слово, имеющее максимальную длину (или список слов, если таковых несколько)."
   ]
  },
  {
   "cell_type": "code",
   "execution_count": 35,
   "id": "0e505b8f-e6e4-485a-84ef-65d208503ef7",
   "metadata": {},
   "outputs": [
    {
     "name": "stdout",
     "output_type": "stream",
     "text": [
      "произведения\n"
     ]
    }
   ],
   "source": [
    "def longest_words(file):\n",
    "    with open(file, 'r') as file:\n",
    "        longest_word = ''\n",
    "        for line in file:\n",
    "            words = line.split()\n",
    "            for word in words:\n",
    "                if len(word) > len(longest_word):\n",
    "                    longest_word = word\n",
    "        return longest_word\n",
    "\n",
    "    \n",
    "my_longest_word = longest_words('file2.txt')\n",
    "print(my_longest_word)\n"
   ]
  },
  {
   "cell_type": "markdown",
   "id": "df62e68b-f456-4f20-9118-bb5d2fd45a0b",
   "metadata": {},
   "source": [
    "4. Напишите функцию file_even_odd(file), которая будет принимать файл, считывать его построчно и запишисывать в file2n1.txt только нечетные строки, а в file2n.txt только четные"
   ]
  },
  {
   "cell_type": "code",
   "execution_count": 10,
   "id": "9304b430-4eb9-497b-ae6e-61c66816495a",
   "metadata": {},
   "outputs": [],
   "source": [
    "\n",
    "def file_even_odd(file):\n",
    "    with open(file, 'r') as f:\n",
    "        lines = f.readlines()\n",
    "\n",
    "        with open('file2n.txt', 'w') as f_even:\n",
    "                index = 0\n",
    "                for line in lines:\n",
    "                    if index % 2 == 0:\n",
    "                        f_even.write(line)\n",
    "                    index += 1\n",
    "\n",
    "        with open('file1n.txt', 'w') as f_odd:\n",
    "                index = 0\n",
    "                for line in lines:\n",
    "                    if index % 2 == 1:\n",
    "                        f_odd.write(line)\n",
    "                    index += 1\n",
    "\n",
    "                \n",
    "file_even_odd('file2.txt')"
   ]
  },
  {
   "cell_type": "markdown",
   "id": "6ef28dcb-ef48-41b1-ab75-4ded078383d6",
   "metadata": {},
   "source": [
    "5. Напишите функцию file_merge(file_1, file_2), которая будет принимать на вход два файла и выводить из них строки поочерди (то есть в начале 1 строка 1 файла, потом 1 строка 2 файла и тд)"
   ]
  },
  {
   "cell_type": "code",
   "execution_count": 85,
   "id": "c9717e20-ad28-410f-8985-12759aeb7563",
   "metadata": {},
   "outputs": [],
   "source": [
    "#I способ\n",
    "\n",
    "def file_merge(file_1, file_2):\n",
    "    with open(file_1, 'r') as f1:\n",
    "        lines1 = f1.readlines()\n",
    "                            \n",
    "    with open(file_2, 'r') as f2:\n",
    "        lines2 = f2.readlines()\n",
    "\n",
    "    with open('file_merge.txt', 'w') as file_m:\n",
    "        for i in range(min(len(lines2),len(lines1))):\n",
    "            new_lines = lines2[i] + lines1[i]\n",
    "            file_m.write(new_lines)\n",
    " \n",
    "my_f_merge = file_merge('file1n.txt', 'file2n.txt')        \n",
    "\n",
    "#должны быть файлы одной длины \n"
   ]
  },
  {
   "cell_type": "code",
   "execution_count": 84,
   "id": "45b27a0f-f558-4da0-96db-684bd698d682",
   "metadata": {},
   "outputs": [],
   "source": [
    "#II способ = сокращенный Iй\n",
    "\n",
    "def file_merge(file_1, file_2):\n",
    "    with open(file_1, 'r') as f1, open(file_2, 'r') as f2, open('file_merge.txt', 'w') as fm:\n",
    "        lines1 = f1.readlines()\n",
    "        lines2 = f2.readlines()\n",
    "        \n",
    "        for i in range(min(len(lines2),len(lines1))):\n",
    "            all_lines = lines2[i] + lines1[i]\n",
    "        fm.write(all_lines)\n",
    "\n",
    "#должны быть файлы одной длины "
   ]
  },
  {
   "cell_type": "code",
   "execution_count": 83,
   "id": "b1f2aba3-eefa-45e5-8b75-ad1500bb3672",
   "metadata": {},
   "outputs": [],
   "source": [
    "#III способ с zip\n",
    "\n",
    "def file_merge(file_1, file_2):\n",
    "    with open(file_1, 'r') as f1, open(file_2, 'r') as f2, open('file_merge.txt', 'w') as file_m:\n",
    "        for line1, line2 in zip(f1, f2):\n",
    "            file_m.write(line1)\n",
    "            file_m.write(line2)\n",
    "\n",
    "\n",
    "#Метод zip()используется для объединения двух или более итерируемых объектов попарно. \n",
    "#Cоздает итератор,кот-й генерирует кортежи,содержащ.эл-ты из каждой переданной ему последовательностей\n"
   ]
  },
  {
   "cell_type": "markdown",
   "id": "741a5308-88e3-489e-adc4-72ca1736ca12",
   "metadata": {},
   "source": [
    "## 4. Итераторы Генераторы"
   ]
  },
  {
   "cell_type": "markdown",
   "id": "b4893684-f90e-4a0c-9b5b-5dfaf593369c",
   "metadata": {},
   "source": [
    "Немного теории можно прочитать на нашей wiki  - https://github.com/amtsu/team22/wiki/Python:-Итераторы"
   ]
  },
  {
   "cell_type": "markdown",
   "id": "8dcee596-b425-43c9-8b1d-85171ac14017",
   "metadata": {},
   "source": [
    "1. Выполните ячейку и объясните результат выполнения. Потом поправьте чтобы сработали оба принта."
   ]
  },
  {
   "cell_type": "code",
   "execution_count": 51,
   "id": "d5b7616b-8383-4b40-9212-e8967ed12875",
   "metadata": {},
   "outputs": [
    {
     "ename": "SyntaxError",
     "evalue": "f-string: cannot use starred expression here (2714321864.py, line 4)",
     "output_type": "error",
     "traceback": [
      "\u001b[0;36m  Cell \u001b[0;32mIn[51], line 4\u001b[0;36m\u001b[0m\n\u001b[0;31m    print(f'Все пары кортежей -, {*ab}')\u001b[0m\n\u001b[0m     ^\u001b[0m\n\u001b[0;31mSyntaxError\u001b[0m\u001b[0;31m:\u001b[0m f-string: cannot use starred expression here\n"
     ]
    }
   ],
   "source": [
    "a = [1,2,3]\n",
    "b = [3,2,1]\n",
    "ab = zip(a,b)\n",
    "print(f'Все пары кортежей -, {*ab}')\n",
    "print(f'Хочу вывести первую пару - {next(ab)}')"
   ]
  },
  {
   "cell_type": "code",
   "execution_count": 56,
   "id": "30f62de2-1d4f-4d83-908b-33fdc1066aab",
   "metadata": {},
   "outputs": [
    {
     "name": "stdout",
     "output_type": "stream",
     "text": [
      "Все пары кортежей - (1, 3) (2, 2) (3, 1)\n",
      "Хочу вывести первую пару - (1, 3)\n"
     ]
    }
   ],
   "source": [
    "#исправленный вариант\n",
    "\n",
    "a = [1,2,3]\n",
    "b = [3,2,1]\n",
    "ab = zip(a,b)\n",
    "i = iter(zip(a,b))\n",
    "print('Все пары кортежей -', *ab)\n",
    "print(f'Хочу вывести первую пару - {next(zip(a,b))}')\n"
   ]
  },
  {
   "cell_type": "markdown",
   "id": "650a910e-fe5c-4ad1-9401-70d96d53ac3b",
   "metadata": {},
   "source": [
    "2. Возьмите из 1.1 массив с английским алфавитом, и выведите первые 5 элементов с помощью next()"
   ]
  },
  {
   "cell_type": "code",
   "execution_count": 81,
   "id": "596660d9-d8e9-40f2-abe9-200c678c4699",
   "metadata": {},
   "outputs": [
    {
     "name": "stdout",
     "output_type": "stream",
     "text": [
      "a\n",
      "b\n",
      "c\n",
      "d\n"
     ]
    }
   ],
   "source": [
    "def letters_output(n):\n",
    "    alph = ['a', 'b', 'c', 'd', 'e', 'f', 'g', 'h', 'i', 'j', 'k', 'l', 'm', 'n', 'o', 'p', 'q', 'r', 's', 't', 'u', 'v', 'w', 'x', 'y', 'z']\n",
    "#    generator = (alph[i] for i in range(n))\n",
    "    for i in range(n):\n",
    "        yield alph[i]\n",
    "\n",
    "my_letters_output = letters_output(5)\n",
    "print(next(my_letters_output))\n",
    "print(next(my_letters_output))\n",
    "print(next(my_letters_output))\n",
    "print(next(my_letters_output))\n"
   ]
  },
  {
   "cell_type": "markdown",
   "id": "0ceb98e0-c916-4ccd-9c17-1ae539c19586",
   "metadata": {},
   "source": [
    "3. Проверить функции list(), open(), zip(),  - является ли то, что они выдают итератором"
   ]
  },
  {
   "cell_type": "code",
   "execution_count": 82,
   "id": "83737c01-a1fd-4e3d-b367-c0416d094aa6",
   "metadata": {},
   "outputs": [
    {
     "ename": "TypeError",
     "evalue": "'list' object is not an iterator",
     "output_type": "error",
     "traceback": [
      "\u001b[0;31m---------------------------------------------------------------------------\u001b[0m",
      "\u001b[0;31mTypeError\u001b[0m                                 Traceback (most recent call last)",
      "Cell \u001b[0;32mIn[82], line 4\u001b[0m\n\u001b[1;32m      2\u001b[0m a \u001b[38;5;241m=\u001b[39m \u001b[38;5;28mlist\u001b[39m(\u001b[38;5;124m'\u001b[39m\u001b[38;5;124mHello, world!\u001b[39m\u001b[38;5;124m'\u001b[39m)\n\u001b[1;32m      3\u001b[0m i \u001b[38;5;241m=\u001b[39m \u001b[38;5;28miter\u001b[39m(a)\n\u001b[0;32m----> 4\u001b[0m \u001b[38;5;28mprint\u001b[39m(\u001b[38;5;28;43mnext\u001b[39;49m\u001b[43m(\u001b[49m\u001b[43ma\u001b[49m\u001b[43m)\u001b[49m)\n",
      "\u001b[0;31mTypeError\u001b[0m: 'list' object is not an iterator"
     ]
    }
   ],
   "source": [
    "#решение к заданию 4.3 тут\n",
    "a = list('Hello, world!')\n",
    "i = iter(a)\n",
    "print(next(a))\n"
   ]
  },
  {
   "cell_type": "code",
   "execution_count": 90,
   "id": "f9e7e2f2-4e20-482b-9a69-c21f8630b302",
   "metadata": {},
   "outputs": [
    {
     "name": "stdout",
     "output_type": "stream",
     "text": [
      "Танец злобного гения\n",
      "\n"
     ]
    }
   ],
   "source": [
    "with open('file_merge.txt', 'r') as f:\n",
    "    lines = iter(f)\n",
    "    print(next(lines))\n"
   ]
  },
  {
   "cell_type": "code",
   "execution_count": 103,
   "id": "03e625f3-76c2-49b1-9d18-52c43cad3f85",
   "metadata": {},
   "outputs": [
    {
     "name": "stdout",
     "output_type": "stream",
     "text": [
      "('п', 'р')\n"
     ]
    }
   ],
   "source": [
    "a = ['п', 'и', 'е']\n",
    "b = ['р', 'в', 'т']\n",
    "ab = zip(a,b)\n",
    "hello = iter(ab)\n",
    "print(next(hello))\n"
   ]
  },
  {
   "cell_type": "markdown",
   "id": "cd2dbb3a-c53a-454f-9ead-3150afb1360b",
   "metadata": {},
   "source": [
    "4. Как мы проверили в задании 4.3 функция open тоже реализует протокл итератора. Возьмите файл с двухбуквенными сочетаниями из задания 3.1 и выведите все его строки с помощью итератора"
   ]
  },
  {
   "cell_type": "code",
   "execution_count": 110,
   "id": "544672fd-85db-4a72-bb9d-b4a43e46817f",
   "metadata": {},
   "outputs": [
    {
     "name": "stdout",
     "output_type": "stream",
     "text": [
      "'a': aa ab ac ad ae af ag ah ai aj ak al am an ao ap aq ar as at au av aw ax ay az\n",
      " 'b': ba bb bc bd be bf bg bh bi bj bk bl bm bn bo bp bq br bs bt bu bv bw bx by bz\n",
      " 'c': ca cb cc cd ce cf cg ch ci cj ck cl cm cn co cp cq cr cs ct cu cv cw cx cy cz\n",
      " 'd': da db dc dd de df dg dh di dj dk dl dm dn do dp dq dr ds dt du dv dw dx dy dz\n",
      " 'e': ea eb ec ed ee ef eg eh ei ej ek el em en eo ep eq er es et eu ev ew ex ey ez\n",
      " 'f': fa fb fc fd fe ff fg fh fi fj fk fl fm fn fo fp fq fr fs ft fu fv fw fx fy fz\n",
      " 'g': ga gb gc gd ge gf gg gh gi gj gk gl gm gn go gp gq gr gs gt gu gv gw gx gy gz\n",
      " 'h': ha hb hc hd he hf hg hh hi hj hk hl hm hn ho hp hq hr hs ht hu hv hw hx hy hz\n",
      " 'i': ia ib ic id ie if ig ih ii ij ik il im in io ip iq ir is it iu iv iw ix iy iz\n",
      " 'j': ja jb jc jd je jf jg jh ji jj jk jl jm jn jo jp jq jr js jt ju jv jw jx jy jz\n",
      " 'k': ka kb kc kd ke kf kg kh ki kj kk kl km kn ko kp kq kr ks kt ku kv kw kx ky kz\n",
      " 'l': la lb lc ld le lf lg lh li lj lk ll lm ln lo lp lq lr ls lt lu lv lw lx ly lz\n",
      " 'm': ma mb mc md me mf mg mh mi mj mk ml mm mn mo mp mq mr ms mt mu mv mw mx my mz\n",
      " 'n': na nb nc nd ne nf ng nh ni nj nk nl nm nn no np nq nr ns nt nu nv nw nx ny nz\n",
      " 'o': oa ob oc od oe of og oh oi oj ok ol om on oo op oq or os ot ou ov ow ox oy oz\n",
      " 'p': pa pb pc pd pe pf pg ph pi pj pk pl pm pn po pp pq pr ps pt pu pv pw px py pz\n",
      " 'q': qa qb qc qd qe qf qg qh qi qj qk ql qm qn qo qp qq qr qs qt qu qv qw qx qy qz\n",
      " 'r': ra rb rc rd re rf rg rh ri rj rk rl rm rn ro rp rq rr rs rt ru rv rw rx ry rz\n",
      " 's': sa sb sc sd se sf sg sh si sj sk sl sm sn so sp sq sr ss st su sv sw sx sy sz\n",
      " 't': ta tb tc td te tf tg th ti tj tk tl tm tn to tp tq tr ts tt tu tv tw tx ty tz\n",
      " 'u': ua ub uc ud ue uf ug uh ui uj uk ul um un uo up uq ur us ut uu uv uw ux uy uz\n",
      " 'v': va vb vc vd ve vf vg vh vi vj vk vl vm vn vo vp vq vr vs vt vu vv vw vx vy vz\n",
      " 'w': wa wb wc wd we wf wg wh wi wj wk wl wm wn wo wp wq wr ws wt wu wv ww wx wy wz\n",
      " 'x': xa xb xc xd xe xf xg xh xi xj xk xl xm xn xo xp xq xr xs xt xu xv xw xx xy xz\n",
      " 'y': ya yb yc yd ye yf yg yh yi yj yk yl ym yn yo yp yq yr ys yt yu yv yw yx yy yz\n",
      " 'z': za zb zc zd ze zf zg zh zi zj zk zl zm zn zo zp zq zr zs zt zu zv zw zx zy zz\n",
      "\n"
     ]
    }
   ],
   "source": [
    "with open('file1.txt', 'r') as f:\n",
    "    my_iter = iter(i for i in f)\n",
    "    #result = f.readlines(my_iter)\n",
    "    print(*my_iter)\n"
   ]
  },
  {
   "cell_type": "markdown",
   "id": "638bdadc-f410-4a8e-a392-6c1f3e283faf",
   "metadata": {},
   "source": [
    "5. Объяснить, чем отличается ячейка-раз от ячеек два, три, четыре и что за магия там происходит"
   ]
  },
  {
   "cell_type": "code",
   "execution_count": 7,
   "id": "15e5c560-64b8-4d6a-a164-9b49c2cfb39d",
   "metadata": {},
   "outputs": [],
   "source": [
    "'''\n",
    "1. ячейка-раз \n",
    "используя заданную переменную создали список, где возвели элементы данной выше переменной в квадрат. \n",
    "проверили есть ли 4ка в созданной переменной \n",
    "вывели весь список\n",
    "продублировали 2 вывода - они остались неизменными.\n",
    "\n",
    "2.ячейка-два\n",
    "здесь воспользовались итератором. Iй вывод-есть 4ка, во втором нет, \n",
    "потому что объект уже был итерирован и все элементы были извлчены, т е он пуст)\n",
    "\n",
    "3. вывел один раз, как и с \"ячейка-два\" ко второму вводу элементы перебраны и список пуст\n",
    "\n",
    "4. в первом выводе итератор перебрал нам до элемента 2^2 (т е 4) и написал True - остановился.\n",
    "во втором выводе при запросе вывести все элементы начал с того места, где остановился \n",
    "(до 4ки включительно уже список пуст)\n",
    "'''\n"
   ]
  },
  {
   "cell_type": "code",
   "execution_count": 61,
   "id": "0fa630b8-1a34-46a9-a0c0-f1622f3d39dd",
   "metadata": {},
   "outputs": [
    {
     "name": "stdout",
     "output_type": "stream",
     "text": [
      "True\n",
      "1 4 9 16 25\n",
      "True\n",
      "1 4 9 16 25\n"
     ]
    }
   ],
   "source": [
    "#ячейка-раз\n",
    "numbers = [1,2,3,4,5]\n",
    "squared_numbers = [number**2 for number in numbers]\n",
    "print(4 in squared_numbers)\n",
    "print(*squared_numbers)\n",
    "print(4 in squared_numbers)\n",
    "print(*squared_numbers)"
   ]
  },
  {
   "cell_type": "code",
   "execution_count": 112,
   "id": "f05563e9-cbad-44d1-85b1-3e551823315f",
   "metadata": {},
   "outputs": [
    {
     "name": "stdout",
     "output_type": "stream",
     "text": [
      "True\n",
      "False\n",
      "\n"
     ]
    }
   ],
   "source": [
    "#ячейка-два\n",
    "numbers = [1,2,3,4,5]\n",
    "squared_numbers = (number**2 for number in numbers)\n",
    "print(4 in squared_numbers)\n",
    "print(4 in squared_numbers)"
   ]
  },
  {
   "cell_type": "code",
   "execution_count": 63,
   "id": "10f00426-11fe-42da-82bd-ae40aa602e00",
   "metadata": {},
   "outputs": [
    {
     "name": "stdout",
     "output_type": "stream",
     "text": [
      "1 4 9 16 25\n",
      "\n"
     ]
    }
   ],
   "source": [
    "#ячейка-три\n",
    "numbers = [1,2,3,4,5]\n",
    "squared_numbers = (number**2 for number in numbers)\n",
    "print(*squared_numbers)\n",
    "print(*squared_numbers)"
   ]
  },
  {
   "cell_type": "code",
   "execution_count": 207,
   "id": "e5d7ec3d-29b3-4f61-a66f-986925d9a41c",
   "metadata": {},
   "outputs": [
    {
     "name": "stdout",
     "output_type": "stream",
     "text": [
      "True\n",
      "9 16 25\n"
     ]
    }
   ],
   "source": [
    "#ячейка-четыре\n",
    "numbers = [1,2,3,4,5]\n",
    "squared_numbers = (number**2 for number in numbers)\n",
    "print(4 in squared_numbers)\n",
    "print(*squared_numbers)"
   ]
  },
  {
   "cell_type": "markdown",
   "id": "384e32fe-50ee-4c4a-b939-79344419f4b6",
   "metadata": {},
   "source": [
    "6. Напишите функцию yrange(n) аналогичную по работе функции range, которая по запросу next  выдает следующий элмент последовательности от 0 до n"
   ]
  },
  {
   "cell_type": "code",
   "execution_count": 3,
   "id": "7eda51db-2f15-4f47-a4a3-b130e3994477",
   "metadata": {},
   "outputs": [],
   "source": [
    "def yrange(n):\n",
    "    i = 0\n",
    "    while i < n:\n",
    "        yield i\n",
    "        i += 1\n"
   ]
  },
  {
   "cell_type": "code",
   "execution_count": 4,
   "id": "2af1ce4f-de47-4b04-8b60-77228d46e8cc",
   "metadata": {},
   "outputs": [
    {
     "name": "stdout",
     "output_type": "stream",
     "text": [
      "0\n",
      "1\n",
      "2\n",
      "3\n",
      "4\n",
      "5\n",
      "6\n",
      "7\n",
      "8\n",
      "9\n"
     ]
    }
   ],
   "source": [
    "#проверка тут\n",
    "a = yrange(20)\n",
    "#код должен вывести цифры от 0 до 9\n",
    "for i in range(10):\n",
    "    print(next(a))\n",
    "    "
   ]
  },
  {
   "cell_type": "markdown",
   "id": "8c7244d3-e78d-415c-80d6-27aeeba6430b",
   "metadata": {},
   "source": [
    "7. Создайте массив alph - из букв английского алфавита(можно взять из задания 1.1), возьмите массив с числами из задания 5.3.\n",
    "\n",
    "Напишите функцию которая принимает на вход два массива и выдает третий с сочетаниями букв и их номеров (a1, b2 и тд) (склеивайте массивы с помощью zip)"
   ]
  },
  {
   "cell_type": "code",
   "execution_count": 27,
   "id": "b3d6025b-056a-4e0e-b14f-244a4d800096",
   "metadata": {},
   "outputs": [
    {
     "name": "stdout",
     "output_type": "stream",
     "text": [
      "a b c d e f g h i j k l m n o p q r s t u v w x y z\n",
      "1 2 3 4 5 6 7 8 9 10 11 12 13 14 15 16 17 18 19 20 21 22 23 24 25 26\n",
      "a1 b2 c3 d4 e5 f6 g7 h8 i9 j10 k11 l12 m13 n14 o15 p16 q17 r18 s19 t20 u21 v22 w23 x24 y25 z26\n"
     ]
    }
   ],
   "source": [
    "alph = [chr(i) for i in range(ord('a'),ord('z')+1)]\n",
    "numbers = [n for n in range(1,27)]\n",
    "\n",
    "print(*alph)\n",
    "print(*numbers)\n",
    "\n",
    "\n",
    "def glue(a, n):    \n",
    "    return [f'{a}{n}' for a, n in zip(a, n)]\n",
    "\n",
    "print(*glue(alph, numbers))"
   ]
  },
  {
   "cell_type": "markdown",
   "id": "2415c89c-540e-455a-b613-39768b4a279e",
   "metadata": {},
   "source": [
    "## 5. List comprehenshion"
   ]
  },
  {
   "cell_type": "markdown",
   "id": "fc5f1f33-0672-403a-8737-c3ca6c5356ba",
   "metadata": {},
   "source": [
    "Немного теории можно прочитать на нашей wiki - https://github.com/amtsu/team22/wiki/Python:-Генератор-списков"
   ]
  },
  {
   "cell_type": "markdown",
   "id": "be7d53ee-2fa7-4ef2-93b0-703f59c4d49d",
   "metadata": {},
   "source": [
    "1. Cформировать список из квадратов целых чисел от 0 до N - обычными циклами и условиями"
   ]
  },
  {
   "cell_type": "code",
   "execution_count": 64,
   "id": "f4c2945d-1b56-45f2-b8e4-8edc6ade6323",
   "metadata": {},
   "outputs": [
    {
     "name": "stdout",
     "output_type": "stream",
     "text": [
      "[0, 1, 4, 9, 16, 25]\n"
     ]
    }
   ],
   "source": [
    "def sqr_list(n):\n",
    "    your_sqr_list = []\n",
    "    for i in range(n):\n",
    "        sqr_num = i**2\n",
    "        your_sqr_list.append(sqr_num)\n",
    "    return your_sqr_list\n",
    "\n",
    "\n",
    "print(sqr_list(6))"
   ]
  },
  {
   "cell_type": "markdown",
   "id": "92cfcb85-4c53-4e19-bf58-7fa74b0d3b7c",
   "metadata": {},
   "source": [
    "2. Cформировать список из квадратов целых чисел от 0 до N - с помощью list-comprehenshion"
   ]
  },
  {
   "cell_type": "code",
   "execution_count": 86,
   "id": "ae1258db-b61b-4c14-a3d7-db11c66ceb89",
   "metadata": {
    "jupyter": {
     "source_hidden": true
    }
   },
   "outputs": [
    {
     "name": "stdout",
     "output_type": "stream",
     "text": [
      "[0, 1, 4, 9, 16]\n"
     ]
    }
   ],
   "source": [
    "def square_num(n):\n",
    "    sqr_list = [i**2 for i in range(n)]\n",
    "    return sqr_list\n",
    "\n",
    "print(square_num(5))"
   ]
  },
  {
   "cell_type": "markdown",
   "id": "2987e607-a9f7-4f5b-b9cf-4e12cf8879f5",
   "metadata": {},
   "source": [
    "3. Cформировать список из чисел от 1 до 26 с помощью генератора массивов"
   ]
  },
  {
   "cell_type": "code",
   "execution_count": 89,
   "id": "ffe0727e-e057-4bcb-927a-ec75a2175def",
   "metadata": {},
   "outputs": [
    {
     "name": "stdout",
     "output_type": "stream",
     "text": [
      "[1, 2, 3, 4, 5, 6, 7, 8, 9, 10, 11, 12, 13, 14, 15, 16, 17, 18, 19, 20, 21, 22, 23, 24, 25, 26]\n"
     ]
    }
   ],
   "source": [
    "list_numbers = [n for n in range(1,27)]\n",
    "print(list_numbers)"
   ]
  },
  {
   "cell_type": "markdown",
   "id": "42279072-b92b-4222-bf35-5ed51ce8ffb7",
   "metadata": {},
   "source": [
    "3. Cформировать список из квадратов целых чисел от 0 до N, только если эти значения являются четными - с помощью list-comprehenshion"
   ]
  },
  {
   "cell_type": "code",
   "execution_count": 98,
   "id": "67191182-a5d3-429f-b0f9-d93152f80181",
   "metadata": {},
   "outputs": [
    {
     "name": "stdout",
     "output_type": "stream",
     "text": [
      "[0, 4, 16, 36]\n"
     ]
    }
   ],
   "source": [
    "n = 7\n",
    "sqr_numbers_even = [i**2 for i in range(0,n) if i % 2 == 0]\n",
    "print(sqr_numbers_even)"
   ]
  },
  {
   "cell_type": "markdown",
   "id": "20ec6862-954a-4db0-8d18-12dbeb87ea65",
   "metadata": {},
   "source": [
    "4. Программа должна считывать первую строку с целым числом X. А потом должна запросить у пользователя X раз ввести целое число. На выходе напечатать список , в котором будут только числа, значение которых больше среднего арифметического всех введённых чисел. (Считывание производить с помощью list comprehension)"
   ]
  },
  {
   "cell_type": "code",
   "execution_count": 181,
   "id": "0a927f76-d2c5-4952-ad22-b468e0f20379",
   "metadata": {},
   "outputs": [
    {
     "name": "stdin",
     "output_type": "stream",
     "text": [
      "Введите целое число (кол-во):  3\n",
      "Введите целое число:  10\n",
      "Введите целое число:  12\n",
      "Введите целое число:  5\n"
     ]
    },
    {
     "name": "stdout",
     "output_type": "stream",
     "text": [
      "[10, 12]\n"
     ]
    }
   ],
   "source": [
    "x = int(input('Введите целое число (кол-во): '))\n",
    "times_x = [int(input('Введите целое число: ')) for _ in range(x)]\n",
    "print([i for i in times_x if i > sum(times_x)/len(times_x)])\n",
    "\n",
    "\n",
    "#average этих чисел = (10 + 12 + 5) / 3 = 9.\n",
    "#Числа 10 и 12 больше среднего арифметического 9."
   ]
  },
  {
   "cell_type": "markdown",
   "id": "e78a876a-f98e-48d2-837a-8cd77a59d117",
   "metadata": {},
   "source": [
    "5. На вход подаются два числа через пробел, обозначающие размеры матрицы (m - количество строк, n - количество столбцов). Создать матрицу m на n, заполненую нулями. Сделать красивый вывод матрицы."
   ]
  },
  {
   "cell_type": "code",
   "execution_count": 132,
   "id": "af97efed-d7c2-4e75-9672-aab9ab6b429d",
   "metadata": {},
   "outputs": [
    {
     "name": "stdout",
     "output_type": "stream",
     "text": [
      "[0, 0, 0]\n",
      "[0, 0, 0]\n",
      "[0, 0, 0]\n",
      "[0, 0, 0]\n"
     ]
    }
   ],
   "source": [
    "m = 3 \n",
    "n = 4\n",
    "\n",
    "matrix = [[0 for i in range(m)] for j in range(n)]\n",
    "print('\\n'.join([str(row) for row in matrix]))"
   ]
  },
  {
   "cell_type": "markdown",
   "id": "4e77b96e-44c7-4f7f-a342-a8fca9098a1c",
   "metadata": {},
   "source": [
    "6. На вход подаются два числа через пробел, обозначающие размеры матрицы (m - количество строк, n - количество столбцов). Создать матрицу m на n, заполненую координатами элементов матрицы. (те для первого элемента это будет (0,0) , для второго (0,1) и так далее) Сделать красивый вывод матрицы."
   ]
  },
  {
   "cell_type": "code",
   "execution_count": 145,
   "id": "13c5db98-6609-4878-9c92-716a09e2beb5",
   "metadata": {},
   "outputs": [
    {
     "name": "stdout",
     "output_type": "stream",
     "text": [
      "[[0, 0], [0, 1], [0, 2]]\n",
      "[[1, 0], [1, 1], [1, 2]]\n",
      "[[2, 0], [2, 1], [2, 2]]\n",
      "[[3, 0], [3, 1], [3, 2]]\n",
      "[[4, 0], [4, 1], [4, 2]]\n"
     ]
    }
   ],
   "source": [
    "def matrix(m,n):\n",
    "    matrix = [[[i,j]for j in range(n)] for i in range(m)] \n",
    "    return ('\\n'.join([str(row) for row in matrix]))\n",
    "    \n",
    "print(matrix(5,3))"
   ]
  },
  {
   "cell_type": "markdown",
   "id": "488ff7b9-60b2-4da7-bc9f-11f5c2db5e6d",
   "metadata": {},
   "source": [
    "7. Используя list comprehension, выберите из списка строки и добавьте их в первый массив; int, float во второй; в переменной my_list оставьте элементы, которые не вошли в первые два."
   ]
  },
  {
   "cell_type": "code",
   "execution_count": 146,
   "id": "5c1fbfae-3775-4357-a25c-530c4aa1c269",
   "metadata": {},
   "outputs": [],
   "source": [
    "my_list = [42, \"Hello\", 3.14, True, [1, 2, 3], {\"key\": \"value\"}, None, \"World\", 2.71, False, [4, 5, 6], {\"foo\": \"bar\"}, \"Python\", 100, -3.0, \"OpenAI\", {\"a\": 1, \"b\": 2}, True, [7, 8, 9], \"Artificial\", -123, 0.007, \"Intelligence\", {\"x\": 10, \"y\": 20}, False, [10, 20, 30], \"Machine\", 987654, 3.14159, \"Learning\", [11, 22, 33], \"Data\", -987, 0.123, \"Science\", {\"alpha\": 0, \"beta\": 1}, True, [55, 66, 77], \"Computer\", 123456, 2.71828, \"Programming\"]\n"
   ]
  },
  {
   "cell_type": "code",
   "execution_count": 157,
   "id": "3adfe1ee-1572-4af2-ab81-601c63fc9b87",
   "metadata": {},
   "outputs": [
    {
     "name": "stdout",
     "output_type": "stream",
     "text": [
      "['Hello', 'World', 'Python', 'OpenAI', 'Artificial', 'Intelligence', 'Machine', 'Learning', 'Data', 'Science', 'Computer', 'Programming'] \n",
      "\n",
      "[42, 3.14, 2.71, 100, -3.0, -123, 0.007, 987654, 3.14159, -987, 0.123, 123456, 2.71828] \n",
      "\n",
      "[True, [1, 2, 3], {'key': 'value'}, None, False, [4, 5, 6], {'foo': 'bar'}, {'a': 1, 'b': 2}, True, [7, 8, 9], {'x': 10, 'y': 20}, False, [10, 20, 30], [11, 22, 33], {'alpha': 0, 'beta': 1}, True, [55, 66, 77]]\n"
     ]
    }
   ],
   "source": [
    "my_list_str = [i for i in my_list if isinstance(i, str)]\n",
    "my_list_numbers = [i for i in my_list if type(i) in (int, float)]\n",
    "my_list_other = [i for i in my_list if i not in my_list_str and i not in my_list_numbers]\n",
    "\n",
    "print(my_list_str, '\\n')\n",
    "print(my_list_numbers, '\\n')\n",
    "print(my_list_other)"
   ]
  },
  {
   "cell_type": "markdown",
   "id": "92e77527-80c3-4203-b762-6d28a7f7fc6a",
   "metadata": {},
   "source": [
    "8. Напишите в одну строку( один print) вывод списка из квадратов целых чисел от 0 до 20, каждое число должно быть в фигурных скобках, между числами должна быть двойная кавычка "
   ]
  },
  {
   "cell_type": "code",
   "execution_count": 168,
   "id": "4ab45e8b-12b6-4fa5-914d-6eec64f75b7a",
   "metadata": {},
   "outputs": [
    {
     "name": "stdout",
     "output_type": "stream",
     "text": [
      "{0}\"{1}\"{4}\"{9}\"{16}\"{25}\"{36}\"{49}\"{64}\"{81}\"{100}\"{121}\"{144}\"{169}\"{196}\"{225}\"{256}\"{289}\"{324}\"{361}\n"
     ]
    }
   ],
   "source": [
    "#one_string = [int(i)**2 for i in range(20)]\n",
    "print('\"'.join([f'{{{int(i)**2}}}' for i in range(20)]))\n",
    "#используй f-string + list"
   ]
  }
 ],
 "metadata": {
  "kernelspec": {
   "display_name": "Python 3 (ipykernel)",
   "language": "python",
   "name": "python3"
  },
  "language_info": {
   "codemirror_mode": {
    "name": "ipython",
    "version": 3
   },
   "file_extension": ".py",
   "mimetype": "text/x-python",
   "name": "python",
   "nbconvert_exporter": "python",
   "pygments_lexer": "ipython3",
   "version": "3.10.10"
  }
 },
 "nbformat": 4,
 "nbformat_minor": 5
}
