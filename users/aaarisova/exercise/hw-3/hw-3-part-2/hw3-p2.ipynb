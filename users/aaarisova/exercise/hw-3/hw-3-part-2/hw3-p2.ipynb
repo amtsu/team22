{
 "cells": [
  {
   "cell_type": "code",
   "execution_count": 1,
   "id": "c648a534-3424-45b3-9e25-7fe42f680ba5",
   "metadata": {},
   "outputs": [
    {
     "data": {
      "text/plain": [
       "80"
      ]
     },
     "execution_count": 1,
     "metadata": {},
     "output_type": "execute_result"
    }
   ],
   "source": [
    "10 * (5 + 3)"
   ]
  },
  {
   "cell_type": "code",
   "execution_count": 2,
   "id": "796c6a32-b20c-43b7-bce3-3b7f94905687",
   "metadata": {},
   "outputs": [
    {
     "data": {
      "text/plain": [
       "7.0"
      ]
     },
     "execution_count": 2,
     "metadata": {},
     "output_type": "execute_result"
    }
   ],
   "source": [
    "(20 - 6) / 2"
   ]
  },
  {
   "cell_type": "code",
   "execution_count": 3,
   "id": "f0518d7c-39c8-4108-a19e-2b33f5cd1917",
   "metadata": {},
   "outputs": [
    {
     "data": {
      "text/plain": [
       "32"
      ]
     },
     "execution_count": 3,
     "metadata": {},
     "output_type": "execute_result"
    }
   ],
   "source": [
    "2 ** 5"
   ]
  },
  {
   "cell_type": "code",
   "execution_count": 4,
   "id": "73527a1d-b9e3-4719-837c-3581ba16aa1d",
   "metadata": {},
   "outputs": [
    {
     "data": {
      "text/plain": [
       "6"
      ]
     },
     "execution_count": 4,
     "metadata": {},
     "output_type": "execute_result"
    }
   ],
   "source": [
    "25 // 4"
   ]
  },
  {
   "cell_type": "code",
   "execution_count": 5,
   "id": "7ebeee3e-f702-4450-b7e0-249a5852ec81",
   "metadata": {},
   "outputs": [
    {
     "data": {
      "text/plain": [
       "1"
      ]
     },
     "execution_count": 5,
     "metadata": {},
     "output_type": "execute_result"
    }
   ],
   "source": [
    "25 % 4 "
   ]
  },
  {
   "cell_type": "code",
   "execution_count": 6,
   "id": "cd471c60-b846-40ae-b272-177c1b694ba1",
   "metadata": {},
   "outputs": [
    {
     "name": "stdout",
     "output_type": "stream",
     "text": [
      "Округлено число до целогоro:  3\n",
      "Остаток числа:  0.14000000000000012\n"
     ]
    }
   ],
   "source": [
    "number = 3.14\n",
    "rounded_number = round(number)\n",
    "print(\"Округлено число до целогоro: \", rounded_number)\n",
    "\n",
    "remainder_number = number % 1\n",
    "print(\"Остаток числа: \", remainder_number)\n"
   ]
  },
  {
   "cell_type": "code",
   "execution_count": 11,
   "id": "c563d82e-f70d-4ac1-b1f2-2f21595b83f7",
   "metadata": {
    "scrolled": true
   },
   "outputs": [
    {
     "name": "stdout",
     "output_type": "stream",
     "text": [
      "Площадь прямоугольника =  35\n"
     ]
    }
   ],
   "source": [
    "a = 5 \n",
    "b = 7\n",
    "S = a*b\n",
    "print(\"Площадь прямоугольника = \", S)\n"
   ]
  },
  {
   "cell_type": "code",
   "execution_count": 15,
   "id": "a03f246f-c9ad-4ecf-8774-fa4d4d93021c",
   "metadata": {},
   "outputs": [
    {
     "name": "stdout",
     "output_type": "stream",
     "text": [
      "Общий объем воздуха =  145.70000000000002  м3\n"
     ]
    }
   ],
   "source": [
    "\n",
    "# размеры гостинной:\n",
    "a_g = 3.5 \n",
    "b_g = 6.4\n",
    "\n",
    "# размеры спальни:\n",
    "a_s = 3.4 \n",
    "b_s = 4 \n",
    "\n",
    "# нежилая часть:\n",
    "s_ost = 11 #м2\n",
    "\n",
    "# высота потолка:\n",
    "h_potol = 3.1 \n",
    "\n",
    "#объем воздуха:\n",
    "v = ((a_g * b_g) + (a_s * b_s) + s_ost) * h_potol\n",
    "\n",
    "print(\"Общий объем воздуха = \", v, \" м3\")\n"
   ]
  },
  {
   "cell_type": "code",
   "execution_count": null,
   "id": "181a753c-8631-42d2-a5e0-fa94de20f14a",
   "metadata": {},
   "outputs": [],
   "source": [
    "ax^2 + bx + c = 0 #квадратное уравнение \n",
    "\n",
    "a = 2  # месяц\n",
    "b = 7  # группа\n",
    "c = -10 \n"
   ]
  },
  {
   "cell_type": "code",
   "execution_count": 14,
   "id": "bb8c0975-f158-402f-843e-05fc5aed0fa3",
   "metadata": {},
   "outputs": [
    {
     "name": "stdout",
     "output_type": "stream",
     "text": [
      "Уравнение имеет 2 корня при D > 0: \n",
      "x1 =  1.0894541729001368\n",
      "x2 =  -4.589454172900137\n"
     ]
    }
   ],
   "source": [
    "import math\n",
    "a = 2\n",
    "b = 7\n",
    "c = -10\n",
    "D = b ** 2 - 4 * a * c\n",
    "\n",
    "if D > 0:\n",
    "    x1 = (-b + math.sqrt(D))/(2 * a)\n",
    "    x2 = (-b - math.sqrt(D))/(2 * a)\n",
    "    print(\"Уравнение имеет 2 корня. D > 0: \")\n",
    "    print(\"x1 = \", x1)\n",
    "    print(\"x2 = \", x2)\n",
    "\n",
    "elif D == 0:\n",
    "    x = -b / (2*a)\n",
    "    print(\"Уравнение имеет 1 корень. D == 0: \")\n",
    "    print(\"x = \", x)\n",
    "\n",
    "else:\n",
    "    print(\"Уравнение не имеет корней. D < 0. \")\n"
   ]
  },
  {
   "cell_type": "code",
   "execution_count": 22,
   "id": "9e1ff76d-acc4-4303-8f81-92f13d6b0eaf",
   "metadata": {},
   "outputs": [
    {
     "name": "stdout",
     "output_type": "stream",
     "text": [
      "Hello, world!\n",
      "Длина строки:  13\n"
     ]
    }
   ],
   "source": [
    "string1 = \"hello, \"\n",
    "string2 = \"world!\"\n",
    "result = (string1 + string2).capitalize()\n",
    "print(result)\n",
    "print(\"Длина строки: \", len(result))\n"
   ]
  },
  {
   "cell_type": "code",
   "execution_count": 27,
   "id": "ca3a8f62-ede1-43f3-973b-e9ebf785fc67",
   "metadata": {},
   "outputs": [
    {
     "name": "stdout",
     "output_type": "stream",
     "text": [
      "la la la la la la la la la la la la la la la la la la la la la la la la la \n"
     ]
    }
   ],
   "source": [
    "string_la = \"la \"\n",
    "result = string_la * 25\n",
    "print(result)\n"
   ]
  },
  {
   "cell_type": "code",
   "execution_count": 41,
   "id": "4afe717a-02fb-4f65-a12a-0815f6319d90",
   "metadata": {},
   "outputs": [
    {
     "name": "stdout",
     "output_type": "stream",
     "text": [
      "[1, 'hi', 3, [8, 6, 4], 5]\n",
      "Значение на позиции 2:  3\n",
      "Значение на позиции 4 (список) :  [8, 6, 4]\n"
     ]
    }
   ],
   "source": [
    "numbers = [1, 2, 3, 4, 5]\n",
    "numbers[1] = \"hi\"\n",
    "numbers[3] = [8, 6, 4]\n",
    "print(numbers)\n",
    "print(\"Значение на позиции 2: \", numbers[2])\n",
    "print(\"Значение на позиции 4 (список) : \", numbers[3])\n"
   ]
  },
  {
   "cell_type": "code",
   "execution_count": 46,
   "id": "a40da7c6-2108-4c30-9484-039a5e700d8a",
   "metadata": {},
   "outputs": [
    {
     "name": "stdout",
     "output_type": "stream",
     "text": [
      "[4, 5, 6, 7, 8]\n"
     ]
    }
   ],
   "source": [
    "numbers = [1, 2, 3, 4, 5, 6, 7, 8, 9, 10]\n",
    "sublist = numbers[3:8]\n",
    "print(sublist)\n",
    "\n"
   ]
  },
  {
   "cell_type": "code",
   "execution_count": null,
   "id": "fdd959fe-4983-4f5c-b1b9-a88b1726c74a",
   "metadata": {},
   "outputs": [],
   "source": []
  }
 ],
 "metadata": {
  "kernelspec": {
   "display_name": "Python 3 (ipykernel)",
   "language": "python",
   "name": "python3"
  },
  "language_info": {
   "codemirror_mode": {
    "name": "ipython",
    "version": 3
   },
   "file_extension": ".py",
   "mimetype": "text/x-python",
   "name": "python",
   "nbconvert_exporter": "python",
   "pygments_lexer": "ipython3",
   "version": "3.10.10"
  }
 },
 "nbformat": 4,
 "nbformat_minor": 5
}
