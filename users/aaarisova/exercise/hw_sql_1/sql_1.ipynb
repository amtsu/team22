{
 "cells": [
  {
   "cell_type": "markdown",
   "id": "8bd91857-f498-4f67-a9a5-7e84a7b369d6",
   "metadata": {},
   "source": [
    "# SQL\n"
   ]
  },
  {
   "cell_type": "markdown",
   "id": "1885ef9b-5664-4498-94f2-f07aa5e63dbb",
   "metadata": {},
   "source": [
    "Для анализа дан небольшой фаил размеров в 240 Мб содержащий только информацию о новостройках. Содержит срезы на каждый день(кроме дней поломок - простоя сервиса) Т.е. есть по каждому обекту есть информация за каждый день. Подучатеся в год(365 дней) информация об обект дублируется 365 раз. Учтите что сложный селект может работать не быстро.\n",
    "\n"
   ]
  },
  {
   "cell_type": "markdown",
   "id": "61b26e3d-a72c-43dc-aca9-808d78e9b737",
   "metadata": {},
   "source": [
    "Для анализа использовать фаил с базой /home/synchronize_data/price_analytics/24.db.copied"
   ]
  },
  {
   "cell_type": "code",
   "execution_count": 2,
   "id": "5093db3b-bc08-4ab7-aa1c-5df80ef9c848",
   "metadata": {},
   "outputs": [
    {
     "name": "stdout",
     "output_type": "stream",
     "text": [
      "-rw-r--r-- 1 synchronize_data synchronize_data 254582784 Jun  4 08:29 /home/synchronize_data/price_analytics/24.db.copied\n"
     ]
    }
   ],
   "source": [
    "!ls -la /home/synchronize_data/price_analytics/24.db.copied"
   ]
  },
  {
   "cell_type": "code",
   "execution_count": 3,
   "id": "db02f297-5632-4185-9361-c140d4e61568",
   "metadata": {},
   "outputs": [],
   "source": [
    "#pip install matplotlib\n",
    "#sqlite3 /home/synchronize_data/price_analytics/24.db.copied\n"
   ]
  },
  {
   "cell_type": "markdown",
   "id": "7a0d9987-481e-40b8-8330-5e97e46d1699",
   "metadata": {},
   "source": [
    "# Пример использования: задача вывести самую дорогую квартиру из имеющихся."
   ]
  },
  {
   "cell_type": "markdown",
   "id": "7294fe0a-7f78-4323-a07d-4ab249558efb",
   "metadata": {},
   "source": [
    "Запустите следующие 6 строчек, они должны отработать корректно."
   ]
  },
  {
   "cell_type": "code",
   "execution_count": 4,
   "id": "bfd8ec36-668b-482d-974d-fd8a639da5a8",
   "metadata": {},
   "outputs": [],
   "source": [
    "import matplotlib.pyplot as plt  \n",
    "import sqlite3\n",
    "import json"
   ]
  },
  {
   "cell_type": "code",
   "execution_count": 5,
   "id": "de5e8561-2dda-4f3d-ae34-2a12ffcb2bcb",
   "metadata": {},
   "outputs": [],
   "source": [
    "connection = sqlite3.connect('/home/synchronize_data/price_analytics/24.db.copied')\n",
    "cursor = connection.cursor()"
   ]
  },
  {
   "cell_type": "code",
   "execution_count": 6,
   "id": "0f6e3489-2c60-43e3-ba6d-89436b053066",
   "metadata": {},
   "outputs": [
    {
     "data": {
      "text/plain": [
       "<sqlite3.Cursor at 0x7f541b8d0ac0>"
      ]
     },
     "execution_count": 6,
     "metadata": {},
     "output_type": "execute_result"
    }
   ],
   "source": [
    "cursor.execute(\"\"\"\n",
    "SELECT \n",
    "    *\n",
    "FROM copied\n",
    "where \n",
    "    category = \"Новостройки\" \n",
    "    or category =\"Реновация\"\n",
    "ORDER BY price desc\n",
    "LIMIT 1\n",
    "\"\"\")"
   ]
  },
  {
   "cell_type": "code",
   "execution_count": 7,
   "id": "cb7f0c16-e5d6-4b3b-aca9-b2ba0a66ba10",
   "metadata": {},
   "outputs": [],
   "source": [
    "flat = cursor.fetchall()"
   ]
  },
  {
   "cell_type": "code",
   "execution_count": 8,
   "id": "74e2b383-edff-49d9-b133-414f7baa4660",
   "metadata": {},
   "outputs": [
    {
     "data": {
      "text/plain": [
       "[(44871689,\n",
       "  'Саввинская 27 | 27 | 2 | 340.9 | Саввинская 27 | 55.730824,37.557959 | 1',\n",
       "  847419076,\n",
       "  847419076,\n",
       "  '2024-06-02 06:13:37.130681',\n",
       "  'Новостройки',\n",
       "  'level.ru',\n",
       "  'https://level.ru/old/sav27/apartment/6room/5-1/',\n",
       "  340.9,\n",
       "  2,\n",
       "  6,\n",
       "  6,\n",
       "  2485829)]"
      ]
     },
     "execution_count": 8,
     "metadata": {},
     "output_type": "execute_result"
    }
   ],
   "source": [
    "flat"
   ]
  },
  {
   "cell_type": "markdown",
   "id": "e22de9e5-19ae-4fff-8d81-21391deb95b5",
   "metadata": {},
   "source": [
    "Поля рекомендованные:\n",
    "\n",
    "id, \"title\", \"price\", \"price_sale\", date(datetime_create) as date, \n",
    "\"brand\", \"apartment_area\", \"apartment_floor\", \"apartment_floors_total\", \"apartment_room\", \"apartment_ppm\"\n",
    "\n",
    "id: уникальный идентификатор квартиры в базе данных.\n",
    "\n",
    "title: адрес квартиры.\n",
    "\n",
    "price: цена квартиры.\n",
    "\n",
    "price_sale: цена квартиры со скидкой (если есть).\n",
    "\n",
    "date(datetime_create): дата и время создания записи о квартире.\n",
    "\n",
    "brand: бренд или название компании, предлагающей эту квартиру.\n",
    "\n",
    "apartment_area: площадь квартиры.\n",
    "\n",
    "apartment_floor: номер этажа, на котором расположена квартира.\n",
    "\n",
    "apartment_floors_total: общее количество этажей в доме.\n",
    "\n",
    "apartment_room: количество комнат в квартире.\n",
    "\n",
    "apartment_ppm: - цена за 1 м2"
   ]
  },
  {
   "cell_type": "markdown",
   "id": "1ab19f4b-9fcf-4175-89dd-5c1105fad73a",
   "metadata": {},
   "source": [
    "# Задачи:\n",
    "sqlite3 /home/synchronize_data/price_analytics/24.db.copied\\\n",
    "\n",
    ".tables\n",
    "\n",
    "SELECT * FROM copied limit 10;"
   ]
  },
  {
   "cell_type": "code",
   "execution_count": 9,
   "id": "b1a4a383-4bda-49a3-aa53-dbc0077c96da",
   "metadata": {},
   "outputs": [],
   "source": [
    "# ставлю релоад вместо лоад чтобы можно было перезапускать весь ноутбук. комментарий на отдельной строчке, по другому не надо\n",
    "#pip install ipython-sql"
   ]
  },
  {
   "cell_type": "code",
   "execution_count": 10,
   "id": "eae90530-df0e-4c30-b992-46ee2d60354e",
   "metadata": {},
   "outputs": [],
   "source": [
    "%reload_ext sql"
   ]
  },
  {
   "cell_type": "code",
   "execution_count": 11,
   "id": "3bf87f74-260d-40fe-ad42-386016453baa",
   "metadata": {},
   "outputs": [],
   "source": [
    "%config SqlMagic.displaycon = False\n"
   ]
  },
  {
   "cell_type": "code",
   "execution_count": 12,
   "id": "168fb21c-e2a3-4167-8fec-8b7c2d3ddd54",
   "metadata": {},
   "outputs": [],
   "source": [
    "%config SqlMagic.feedback = False"
   ]
  },
  {
   "cell_type": "code",
   "execution_count": 13,
   "id": "d414b235-0788-4864-81cb-9c947dc13425",
   "metadata": {},
   "outputs": [],
   "source": [
    "%sql sqlite:////home/synchronize_data/price_analytics/24.db.copied\n",
    "#%sql sqlite:///24.db.copied"
   ]
  },
  {
   "cell_type": "code",
   "execution_count": 14,
   "id": "41b94af8-1851-45fc-b33a-e4fb40a9daad",
   "metadata": {},
   "outputs": [
    {
     "data": {
      "text/html": [
       "<table>\n",
       "    <thead>\n",
       "        <tr>\n",
       "            <th>id</th>\n",
       "            <th>title</th>\n",
       "            <th>price</th>\n",
       "            <th>price_sale</th>\n",
       "            <th>datetime_create</th>\n",
       "            <th>category</th>\n",
       "            <th>brand</th>\n",
       "            <th>url</th>\n",
       "            <th>apartment_area</th>\n",
       "            <th>apartment_floor</th>\n",
       "            <th>apartment_floors_total</th>\n",
       "            <th>apartment_room</th>\n",
       "            <th>apartment_ppm</th>\n",
       "        </tr>\n",
       "    </thead>\n",
       "    <tbody>\n",
       "        <tr>\n",
       "            <td>598</td>\n",
       "            <td>Причальный Bосток 29 65.3 Причальный пр., д. 8 55.76018,37.517482</td>\n",
       "            <td>37527037</td>\n",
       "            <td>26268925</td>\n",
       "            <td>2022-12-05 13:38:36.641439</td>\n",
       "            <td>Новостройки</td>\n",
       "            <td>level.ru</td>\n",
       "            <td>url_example</td>\n",
       "            <td>None</td>\n",
       "            <td>None</td>\n",
       "            <td>None</td>\n",
       "            <td>None</td>\n",
       "            <td>None</td>\n",
       "        </tr>\n",
       "        <tr>\n",
       "            <td>599</td>\n",
       "            <td>Саввинская 17 17 4 82.5  55.734600731695195,37.565715889000494</td>\n",
       "            <td>202359478</td>\n",
       "            <td>202359478</td>\n",
       "            <td>2022-12-05 13:38:36.652957</td>\n",
       "            <td>Новостройки</td>\n",
       "            <td>level.ru</td>\n",
       "            <td>url_example</td>\n",
       "            <td>None</td>\n",
       "            <td>None</td>\n",
       "            <td>None</td>\n",
       "            <td>None</td>\n",
       "            <td>None</td>\n",
       "        </tr>\n",
       "    </tbody>\n",
       "</table>"
      ],
      "text/plain": [
       "[(598, 'Причальный Bосток 29 65.3 Причальный пр., д. 8 55.76018,37.517482', 37527037, 26268925, '2022-12-05 13:38:36.641439', 'Новостройки', 'level.ru', 'url_example', None, None, None, None, None),\n",
       " (599, 'Саввинская 17 17 4 82.5  55.734600731695195,37.565715889000494', 202359478, 202359478, '2022-12-05 13:38:36.652957', 'Новостройки', 'level.ru', 'url_example', None, None, None, None, None)]"
      ]
     },
     "execution_count": 14,
     "metadata": {},
     "output_type": "execute_result"
    }
   ],
   "source": [
    "#далее можно вот так писать sql запросы и даже передавать результаты их выполнения в переменные - смотрите по ссылке вверху этого ноутбука\n",
    "%sql SELECT * from copied WHERE id<600"
   ]
  },
  {
   "cell_type": "markdown",
   "id": "8ed94de7-c16b-4afa-9cf7-a6fc6866bd16",
   "metadata": {},
   "source": [
    "#status-доступна есть https://api.gkosnova.tech/public/api/v1/building-objects/17/properties?detail=0\n",
    "\n",
    "1. Выведите список новостроек в порядке убывания количества доступных к покупке квартир.\n",
    "\n",
    "2. Найдите среднюю цену квадратного метра по всем новостройкам\n",
    "\n",
    "3. Выведите список новостроек в порядке убывания общего количества квартир.\n",
    "\n",
    "4. Найдите среднюю площадь квартир в новостройках с количеством комнат больше 3\n",
    "\n",
    "5. Найдите среднюю цену квадратного метра по всем новостройкам на конкретный день.\n",
    "\n",
    "6. Найдите среднюю цен за квадратный метр в новостройках с количеством этажей больше 15.\n",
    "\n",
    "7. Найти все новостройки которые появились в 2023 году\n",
    "\n",
    "8. Найти все новостройки которые имеют больше 50 квартир\n",
    "\n",
    "9. Найдите максимальную и минимальную цену среди всех новостроек\n",
    "\n",
    "10. Найти все новостройки в которых есть квартиры площадью больше 100 кв метров\n",
    "\n",
    "11. Найти новостройки котрые были построекны застройщщиком Донстрой\n",
    "\n",
    "12. Найти всех застройщиков которые построили более 5 новостроек в 2023 году\n",
    "\n",
    "13. Вывести список жилых комплексов с наибольшим количеством проданных квартир за последние 3 месяца. Вывести количество проданных квартир и процент от общего количества квартир этого комплекса"
   ]
  },
  {
   "cell_type": "markdown",
   "id": "48a24178-d673-4ed9-8bfb-8641f598a2e9",
   "metadata": {},
   "source": [
    "1. Выведите список новостроек в порядке убывания количества доступных к покупке квартир.\n"
   ]
  },
  {
   "cell_type": "code",
   "execution_count": 15,
   "id": "8ede30f2-bb01-4391-82ac-a743ece2f4df",
   "metadata": {},
   "outputs": [
    {
     "data": {
      "text/html": [
       "<table>\n",
       "    <thead>\n",
       "        <tr>\n",
       "            <th>title</th>\n",
       "            <th>кол_во_кв_продажа</th>\n",
       "        </tr>\n",
       "    </thead>\n",
       "    <tbody>\n",
       "        <tr>\n",
       "            <td>1 1 1 -1 13.25 0</td>\n",
       "            <td>11450</td>\n",
       "        </tr>\n",
       "        <tr>\n",
       "            <td>14 1 1 -2 13.25 0</td>\n",
       "            <td>8273</td>\n",
       "        </tr>\n",
       "        <tr>\n",
       "            <td>10 1 1 -1 13.25 0</td>\n",
       "            <td>5192</td>\n",
       "        </tr>\n",
       "        <tr>\n",
       "            <td>14 1 1 -1 13.25 0</td>\n",
       "            <td>4847</td>\n",
       "        </tr>\n",
       "    </tbody>\n",
       "</table>"
      ],
      "text/plain": [
       "[('1 1 1 -1 13.25 0', 11450),\n",
       " ('14 1 1 -2 13.25 0', 8273),\n",
       " ('10 1 1 -1 13.25 0', 5192),\n",
       " ('14 1 1 -1 13.25 0', 4847)]"
      ]
     },
     "execution_count": 15,
     "metadata": {},
     "output_type": "execute_result"
    }
   ],
   "source": [
    "%%sql\n",
    "SELECT \n",
    "    title, count(*) as кол_во_кв_продажа\n",
    "FROM copied\n",
    "WHERE \n",
    "    category = 'Новостройки'\n",
    "    AND (price IS NOT NULL OR price_sale IS NOT NULL and price > 0)\n",
    "GROUP BY title\n",
    "ORDER BY \n",
    "    кол_во_кв_продажа DESC   \n",
    "LIMIT 4;\n"
   ]
  },
  {
   "cell_type": "markdown",
   "id": "4732dd0e-8035-4639-824a-64bcdb3b057e",
   "metadata": {},
   "source": [
    "2. Найдите среднюю цену квадратного метра по всем новостройкам."
   ]
  },
  {
   "cell_type": "code",
   "execution_count": 16,
   "id": "2ff3b484-31b5-49dc-a759-c2610150be9c",
   "metadata": {},
   "outputs": [
    {
     "data": {
      "text/html": [
       "<table>\n",
       "    <thead>\n",
       "        <tr>\n",
       "            <th>average_price_per_meter</th>\n",
       "        </tr>\n",
       "    </thead>\n",
       "    <tbody>\n",
       "        <tr>\n",
       "            <td>361418.78797071613</td>\n",
       "        </tr>\n",
       "    </tbody>\n",
       "</table>"
      ],
      "text/plain": [
       "[(361418.78797071613,)]"
      ]
     },
     "execution_count": 16,
     "metadata": {},
     "output_type": "execute_result"
    }
   ],
   "source": [
    "%%sql\n",
    "SELECT \n",
    "    avg(apartment_ppm) as average_price_per_meter\n",
    "FROM copied\n",
    "where \n",
    "    category = \"Новостройки\" \n"
   ]
  },
  {
   "cell_type": "markdown",
   "id": "03b33030-d22a-440a-9e3b-76a981c6105e",
   "metadata": {},
   "source": [
    "3. Выведите список новостроек в порядке убывания общего количества квартир.\n"
   ]
  },
  {
   "cell_type": "code",
   "execution_count": 17,
   "id": "2beceacc-aff3-4bb8-92da-5fe2029e8504",
   "metadata": {},
   "outputs": [
    {
     "data": {
      "text/html": [
       "<table>\n",
       "    <thead>\n",
       "        <tr>\n",
       "            <th>title</th>\n",
       "            <th>total_apartments</th>\n",
       "        </tr>\n",
       "    </thead>\n",
       "    <tbody>\n",
       "        <tr>\n",
       "            <td>1 1 1 -1 13.25 0</td>\n",
       "            <td>11450</td>\n",
       "        </tr>\n",
       "        <tr>\n",
       "            <td>14 1 1 -2 13.25 0</td>\n",
       "            <td>8273</td>\n",
       "        </tr>\n",
       "        <tr>\n",
       "            <td>10 1 1 -1 13.25 0</td>\n",
       "            <td>5192</td>\n",
       "        </tr>\n",
       "        <tr>\n",
       "            <td>14 1 1 -1 13.25 0</td>\n",
       "            <td>4847</td>\n",
       "        </tr>\n",
       "        <tr>\n",
       "            <td>10 1 1 2 13.25 0</td>\n",
       "            <td>4253</td>\n",
       "        </tr>\n",
       "        <tr>\n",
       "            <td>10 1 1 1 13.25 0</td>\n",
       "            <td>4165</td>\n",
       "        </tr>\n",
       "        <tr>\n",
       "            <td>12 1 1 -2 13.25 0</td>\n",
       "            <td>3555</td>\n",
       "        </tr>\n",
       "    </tbody>\n",
       "</table>"
      ],
      "text/plain": [
       "[('1 1 1 -1 13.25 0', 11450),\n",
       " ('14 1 1 -2 13.25 0', 8273),\n",
       " ('10 1 1 -1 13.25 0', 5192),\n",
       " ('14 1 1 -1 13.25 0', 4847),\n",
       " ('10 1 1 2 13.25 0', 4253),\n",
       " ('10 1 1 1 13.25 0', 4165),\n",
       " ('12 1 1 -2 13.25 0', 3555)]"
      ]
     },
     "execution_count": 17,
     "metadata": {},
     "output_type": "execute_result"
    }
   ],
   "source": [
    "%%sql\n",
    "select title, count(*) as total_apartments\n",
    "from copied\n",
    "where category = 'Новостройки'\n",
    "group by title\n",
    "order by total_apartments desc\n",
    "limit 7;\n"
   ]
  },
  {
   "cell_type": "markdown",
   "id": "2aaed891-15c5-49d7-bbbb-197eb6060687",
   "metadata": {},
   "source": [
    "4. Найдите среднюю площадь квартир в новостройках с количеством комнат больше 3."
   ]
  },
  {
   "cell_type": "code",
   "execution_count": 18,
   "id": "a52a1992-5aa4-467b-9139-5d8b00d1b1ce",
   "metadata": {},
   "outputs": [
    {
     "data": {
      "text/html": [
       "<table>\n",
       "    <thead>\n",
       "        <tr>\n",
       "            <th>average_area_flate</th>\n",
       "        </tr>\n",
       "    </thead>\n",
       "    <tbody>\n",
       "        <tr>\n",
       "            <td>119.94</td>\n",
       "        </tr>\n",
       "    </tbody>\n",
       "</table>"
      ],
      "text/plain": [
       "[(119.94,)]"
      ]
     },
     "execution_count": 18,
     "metadata": {},
     "output_type": "execute_result"
    }
   ],
   "source": [
    "%%sql\n",
    "select \n",
    "    round(avg(apartment_area),2) as average_area_flate\n",
    "from copied\n",
    "where\n",
    "    category = \"Новостройки\" and apartment_room > 3\n"
   ]
  },
  {
   "cell_type": "markdown",
   "id": "bdb2f499-84ea-47c9-8f6e-1598214013ce",
   "metadata": {},
   "source": [
    "5. Найдите среднюю цену квадратного метра по всем новостройкам на конкретный день."
   ]
  },
  {
   "cell_type": "code",
   "execution_count": 19,
   "id": "fe758af0-1b46-4c7b-9eef-72db6e82bda3",
   "metadata": {},
   "outputs": [
    {
     "data": {
      "text/html": [
       "<table>\n",
       "    <thead>\n",
       "        <tr>\n",
       "            <th>date(datetime_create)</th>\n",
       "            <th>average_price_date</th>\n",
       "        </tr>\n",
       "    </thead>\n",
       "    <tbody>\n",
       "        <tr>\n",
       "            <td>2024-02-05</td>\n",
       "            <td>600898.7923076923</td>\n",
       "        </tr>\n",
       "    </tbody>\n",
       "</table>"
      ],
      "text/plain": [
       "[('2024-02-05', 600898.7923076923)]"
      ]
     },
     "execution_count": 19,
     "metadata": {},
     "output_type": "execute_result"
    }
   ],
   "source": [
    "%%sql\n",
    "select \n",
    "    date(datetime_create), avg(apartment_ppm) as average_price_date\n",
    "from copied\n",
    "where\n",
    "    category = \"Новостройки\" and date(datetime_create) = '2024-02-05'\n"
   ]
  },
  {
   "cell_type": "markdown",
   "id": "fb52c917-b66a-463b-a847-3e256de065fd",
   "metadata": {},
   "source": [
    "6. Найдите среднюю цен за квадратный метр в новостройках с количеством этажей больше 15."
   ]
  },
  {
   "cell_type": "code",
   "execution_count": 20,
   "id": "1af0705d-ee53-4f03-bd72-c92fa69a52bd",
   "metadata": {},
   "outputs": [
    {
     "data": {
      "text/html": [
       "<table>\n",
       "    <thead>\n",
       "        <tr>\n",
       "            <th>average_ppm</th>\n",
       "        </tr>\n",
       "    </thead>\n",
       "    <tbody>\n",
       "        <tr>\n",
       "            <td>424140.18</td>\n",
       "        </tr>\n",
       "    </tbody>\n",
       "</table>"
      ],
      "text/plain": [
       "[(424140.18,)]"
      ]
     },
     "execution_count": 20,
     "metadata": {},
     "output_type": "execute_result"
    }
   ],
   "source": [
    "%%sql\n",
    "select\n",
    "    round(avg(apartment_ppm),2) as average_ppm\n",
    "from copied\n",
    "where category = \"Новостройки\" and apartment_floors_total > 15\n"
   ]
  },
  {
   "cell_type": "markdown",
   "id": "6eb61ba4-1d8f-4544-befd-74ae92500ba4",
   "metadata": {},
   "source": [
    "7. Найти все новостройки которые появились в 2023 году"
   ]
  },
  {
   "cell_type": "code",
   "execution_count": 80,
   "id": "dcac003f-481f-4cb5-a79c-953e62f38fcd",
   "metadata": {},
   "outputs": [
    {
     "data": {
      "text/html": [
       "<table>\n",
       "    <thead>\n",
       "        <tr>\n",
       "            <th>title</th>\n",
       "            <th>date</th>\n",
       "        </tr>\n",
       "    </thead>\n",
       "    <tbody>\n",
       "        <tr>\n",
       "            <td>Павелецкая Сити 9 2 23.8 ул. Дубининская, д. 59-69 55.71962004653103,37.63727228350035</td>\n",
       "            <td>2023-01-01</td>\n",
       "        </tr>\n",
       "        <tr>\n",
       "            <td>Селигерская 1 3 17.8 пр-д Ильменский, вл. 12 55.859441,37.545155</td>\n",
       "            <td>2023-01-01</td>\n",
       "        </tr>\n",
       "        <tr>\n",
       "            <td>Стрешнево Север 2 45.1 Волоколамское ш., д. 81, корп. 2 55.82495356307498,37.411886931513436</td>\n",
       "            <td>2023-01-01</td>\n",
       "        </tr>\n",
       "        <tr>\n",
       "            <td>Южнопортовая 6 8 55.3 Г. Москва, ул. Южнопортовая, вл.28-28а 55.705727,37.696445</td>\n",
       "            <td>2023-01-01</td>\n",
       "        </tr>\n",
       "        <tr>\n",
       "            <td>Южнопортовая 1 39 78.3 Г. Москва, ул. Южнопортовая, вл.28-28а 55.705727,37.696445</td>\n",
       "            <td>2023-01-01</td>\n",
       "        </tr>\n",
       "    </tbody>\n",
       "</table>"
      ],
      "text/plain": [
       "[('Павелецкая Сити 9 2 23.8 ул. Дубининская, д. 59-69 55.71962004653103,37.63727228350035', '2023-01-01'),\n",
       " ('Селигерская 1 3 17.8 пр-д Ильменский, вл. 12 55.859441,37.545155', '2023-01-01'),\n",
       " ('Стрешнево Север 2 45.1 Волоколамское ш., д. 81, корп. 2 55.82495356307498,37.411886931513436', '2023-01-01'),\n",
       " ('Южнопортовая 6 8 55.3 Г. Москва, ул. Южнопортовая, вл.28-28а 55.705727,37.696445', '2023-01-01'),\n",
       " ('Южнопортовая 1 39 78.3 Г. Москва, ул. Южнопортовая, вл.28-28а 55.705727,37.696445', '2023-01-01')]"
      ]
     },
     "execution_count": 80,
     "metadata": {},
     "output_type": "execute_result"
    }
   ],
   "source": [
    "%%sql\n",
    "select\n",
    "    title, date(datetime_create) as date\n",
    "from copied\n",
    "where category = \"Новостройки\" and date like '2023%'\n",
    "limit 5;\n"
   ]
  },
  {
   "cell_type": "markdown",
   "id": "c7eed7b8-81cc-4c20-94b9-70ffc7e3d659",
   "metadata": {},
   "source": [
    "8. Найти все новостройки которые имеют больше 50 квартир"
   ]
  },
  {
   "cell_type": "code",
   "execution_count": 86,
   "id": "fef3260a-fe7d-48bf-a6b1-81ef0fd2028b",
   "metadata": {},
   "outputs": [
    {
     "data": {
      "text/html": [
       "<table>\n",
       "    <thead>\n",
       "        <tr>\n",
       "            <th>title</th>\n",
       "            <th>кол_во_кв</th>\n",
       "        </tr>\n",
       "    </thead>\n",
       "    <tbody>\n",
       "        <tr>\n",
       "            <td>1 1 1 -1 13.25 0</td>\n",
       "            <td>11450</td>\n",
       "        </tr>\n",
       "        <tr>\n",
       "            <td>1 1 1 10 29.16 S</td>\n",
       "            <td>76</td>\n",
       "        </tr>\n",
       "        <tr>\n",
       "            <td>1 1 1 11 40.01 S</td>\n",
       "            <td>92</td>\n",
       "        </tr>\n",
       "        <tr>\n",
       "            <td>1 1 1 13 112.04 E4</td>\n",
       "            <td>92</td>\n",
       "        </tr>\n",
       "        <tr>\n",
       "            <td>1 1 1 13 70.55 2</td>\n",
       "            <td>93</td>\n",
       "        </tr>\n",
       "        <tr>\n",
       "            <td>1 1 1 14 40.02 S</td>\n",
       "            <td>92</td>\n",
       "        </tr>\n",
       "        <tr>\n",
       "            <td>1 1 1 14 70.55 2</td>\n",
       "            <td>74</td>\n",
       "        </tr>\n",
       "    </tbody>\n",
       "</table>"
      ],
      "text/plain": [
       "[('1 1 1 -1 13.25 0', 11450),\n",
       " ('1 1 1 10 29.16 S', 76),\n",
       " ('1 1 1 11 40.01 S', 92),\n",
       " ('1 1 1 13 112.04 E4', 92),\n",
       " ('1 1 1 13 70.55 2', 93),\n",
       " ('1 1 1 14 40.02 S', 92),\n",
       " ('1 1 1 14 70.55 2', 74)]"
      ]
     },
     "execution_count": 86,
     "metadata": {},
     "output_type": "execute_result"
    }
   ],
   "source": [
    "%%sql \n",
    "select title, count(*) as кол_во_кв\n",
    "from copied\n",
    "where category = 'Новостройки'\n",
    "group by title\n",
    "having кол_во_кв > 50\n",
    "limit 7\n",
    "\n"
   ]
  },
  {
   "cell_type": "markdown",
   "id": "7b9f81ca-0616-4e42-b890-72ea7356e751",
   "metadata": {},
   "source": [
    "9. Найдите максимальную и минимальную цену среди всех новостроек "
   ]
  },
  {
   "cell_type": "code",
   "execution_count": 87,
   "id": "b9480d50-0cb7-4a97-bae4-d121430eeb9c",
   "metadata": {},
   "outputs": [
    {
     "data": {
      "text/html": [
       "<table>\n",
       "    <thead>\n",
       "        <tr>\n",
       "            <th>max(price)</th>\n",
       "            <th>min(price)</th>\n",
       "        </tr>\n",
       "    </thead>\n",
       "    <tbody>\n",
       "        <tr>\n",
       "            <td>847419076</td>\n",
       "            <td>551000</td>\n",
       "        </tr>\n",
       "    </tbody>\n",
       "</table>"
      ],
      "text/plain": [
       "[(847419076, 551000)]"
      ]
     },
     "execution_count": 87,
     "metadata": {},
     "output_type": "execute_result"
    }
   ],
   "source": [
    "%%sql\n",
    "select max(price), min(price) \n",
    "from copied \n",
    "where category = \"Новостройки\" and price != 0\n"
   ]
  },
  {
   "cell_type": "markdown",
   "id": "98c3d3d8-9d65-49db-9a3e-c722c391db4f",
   "metadata": {},
   "source": [
    "10. Найти все новостройки в которых есть квартиры площадью больше 100 кв метров"
   ]
  },
  {
   "cell_type": "code",
   "execution_count": 90,
   "id": "ab743c91-9469-4d9b-9321-a5d88cb784ec",
   "metadata": {},
   "outputs": [
    {
     "data": {
      "text/html": [
       "<table>\n",
       "    <thead>\n",
       "        <tr>\n",
       "            <th>id</th>\n",
       "            <th>title</th>\n",
       "            <th>price</th>\n",
       "            <th>price_sale</th>\n",
       "            <th>datetime_create</th>\n",
       "            <th>category</th>\n",
       "            <th>brand</th>\n",
       "            <th>url</th>\n",
       "            <th>apartment_area</th>\n",
       "            <th>apartment_floor</th>\n",
       "            <th>apartment_floors_total</th>\n",
       "            <th>apartment_room</th>\n",
       "            <th>apartment_ppm</th>\n",
       "        </tr>\n",
       "    </thead>\n",
       "    <tbody>\n",
       "        <tr>\n",
       "            <td>649</td>\n",
       "            <td>Саввинская 27 27 2 137.5 Саввинская 27 55.730669,37.557942</td>\n",
       "            <td>209072374</td>\n",
       "            <td>209072374</td>\n",
       "            <td>2022-12-05 13:50:46.382455</td>\n",
       "            <td>Новостройки</td>\n",
       "            <td>level.ru</td>\n",
       "            <td>https://level.ru/sav27/apartment/3room/4-1/</td>\n",
       "            <td>137.5</td>\n",
       "            <td>None</td>\n",
       "            <td>None</td>\n",
       "            <td>None</td>\n",
       "            <td>None</td>\n",
       "        </tr>\n",
       "        <tr>\n",
       "            <td>651</td>\n",
       "            <td>Саввинская 27 27 3 139.5 Саввинская 27 55.730669,37.557942</td>\n",
       "            <td>238985532</td>\n",
       "            <td>238985532</td>\n",
       "            <td>2022-12-05 13:50:46.400989</td>\n",
       "            <td>Новостройки</td>\n",
       "            <td>level.ru</td>\n",
       "            <td>https://level.ru/sav27/apartment/3room/4-4/</td>\n",
       "            <td>139.5</td>\n",
       "            <td>None</td>\n",
       "            <td>None</td>\n",
       "            <td>None</td>\n",
       "            <td>None</td>\n",
       "        </tr>\n",
       "        <tr>\n",
       "            <td>653</td>\n",
       "            <td>Саввинская 17 17 4 110.5  55.734600731695195,37.565715889000494</td>\n",
       "            <td>269713058</td>\n",
       "            <td>269713058</td>\n",
       "            <td>2022-12-05 13:50:46.465808</td>\n",
       "            <td>Новостройки</td>\n",
       "            <td>level.ru</td>\n",
       "            <td>https://level.ru/sav17/flat/3room/2-9/</td>\n",
       "            <td>110.5</td>\n",
       "            <td>None</td>\n",
       "            <td>None</td>\n",
       "            <td>None</td>\n",
       "            <td>None</td>\n",
       "        </tr>\n",
       "        <tr>\n",
       "            <td>655</td>\n",
       "            <td>Саввинская 27 27 6 189.9 Саввинская 27 55.730669,37.557942</td>\n",
       "            <td>564747927</td>\n",
       "            <td>564747927</td>\n",
       "            <td>2022-12-05 13:50:46.527201</td>\n",
       "            <td>Новостройки</td>\n",
       "            <td>level.ru</td>\n",
       "            <td>https://level.ru/sav27/apartment/3room/1-11/</td>\n",
       "            <td>189.9</td>\n",
       "            <td>None</td>\n",
       "            <td>None</td>\n",
       "            <td>None</td>\n",
       "            <td>None</td>\n",
       "        </tr>\n",
       "        <tr>\n",
       "            <td>662</td>\n",
       "            <td>Мичуринский 6 15 112.3 Озерная ул., вл. 7 55.687726,37.471704</td>\n",
       "            <td>59713584</td>\n",
       "            <td>41799508</td>\n",
       "            <td>2022-12-05 13:53:27.017773</td>\n",
       "            <td>Новостройки</td>\n",
       "            <td>level.ru</td>\n",
       "            <td>https://level.ru/michur/flat/6room/6-2-51/</td>\n",
       "            <td>112.3</td>\n",
       "            <td>None</td>\n",
       "            <td>None</td>\n",
       "            <td>None</td>\n",
       "            <td>None</td>\n",
       "        </tr>\n",
       "    </tbody>\n",
       "</table>"
      ],
      "text/plain": [
       "[(649, 'Саввинская 27 27 2 137.5 Саввинская 27 55.730669,37.557942', 209072374, 209072374, '2022-12-05 13:50:46.382455', 'Новостройки', 'level.ru', 'https://level.ru/sav27/apartment/3room/4-1/', 137.5, None, None, None, None),\n",
       " (651, 'Саввинская 27 27 3 139.5 Саввинская 27 55.730669,37.557942', 238985532, 238985532, '2022-12-05 13:50:46.400989', 'Новостройки', 'level.ru', 'https://level.ru/sav27/apartment/3room/4-4/', 139.5, None, None, None, None),\n",
       " (653, 'Саввинская 17 17 4 110.5  55.734600731695195,37.565715889000494', 269713058, 269713058, '2022-12-05 13:50:46.465808', 'Новостройки', 'level.ru', 'https://level.ru/sav17/flat/3room/2-9/', 110.5, None, None, None, None),\n",
       " (655, 'Саввинская 27 27 6 189.9 Саввинская 27 55.730669,37.557942', 564747927, 564747927, '2022-12-05 13:50:46.527201', 'Новостройки', 'level.ru', 'https://level.ru/sav27/apartment/3room/1-11/', 189.9, None, None, None, None),\n",
       " (662, 'Мичуринский 6 15 112.3 Озерная ул., вл. 7 55.687726,37.471704', 59713584, 41799508, '2022-12-05 13:53:27.017773', 'Новостройки', 'level.ru', 'https://level.ru/michur/flat/6room/6-2-51/', 112.3, None, None, None, None)]"
      ]
     },
     "execution_count": 90,
     "metadata": {},
     "output_type": "execute_result"
    }
   ],
   "source": [
    "%%sql\n",
    "select *\n",
    "from copied\n",
    "where category = 'Новостройки' and apartment_area > 100\n",
    "limit 5"
   ]
  },
  {
   "cell_type": "markdown",
   "id": "00a76f8a-27d9-4492-b66e-a06886197a60",
   "metadata": {},
   "source": [
    "11. Найти новостройки котрые были построекны застройщщиком Донстрой (# можно было title like \"%donstroy%\")"
   ]
  },
  {
   "cell_type": "code",
   "execution_count": 91,
   "id": "bc4b7875-1031-459c-ac09-5c657b7e45d2",
   "metadata": {},
   "outputs": [
    {
     "data": {
      "text/html": [
       "<table>\n",
       "    <thead>\n",
       "        <tr>\n",
       "            <th>id</th>\n",
       "            <th>title</th>\n",
       "            <th>brand</th>\n",
       "            <th>date</th>\n",
       "        </tr>\n",
       "    </thead>\n",
       "    <tbody>\n",
       "        <tr>\n",
       "            <td>29629804</td>\n",
       "            <td>Символ Независимость Корпус 19, 2 секц 4 27.1</td>\n",
       "            <td>donstroy.moscow</td>\n",
       "            <td>2024-02-09</td>\n",
       "        </tr>\n",
       "        <tr>\n",
       "            <td>29629805</td>\n",
       "            <td>Символ Независимость Корпус 19, 2 секц 3 28.3</td>\n",
       "            <td>donstroy.moscow</td>\n",
       "            <td>2024-02-09</td>\n",
       "        </tr>\n",
       "        <tr>\n",
       "            <td>29629806</td>\n",
       "            <td>Символ Независимость Корпус 19, 2 секц 4 27.1</td>\n",
       "            <td>donstroy.moscow</td>\n",
       "            <td>2024-02-09</td>\n",
       "        </tr>\n",
       "        <tr>\n",
       "            <td>29629807</td>\n",
       "            <td>Символ Независимость Корпус 19, 2 секц 3 29.9</td>\n",
       "            <td>donstroy.moscow</td>\n",
       "            <td>2024-02-09</td>\n",
       "        </tr>\n",
       "        <tr>\n",
       "            <td>29629808</td>\n",
       "            <td>Символ Независимость Корпус 19, 2 секц 5 27.1</td>\n",
       "            <td>donstroy.moscow</td>\n",
       "            <td>2024-02-09</td>\n",
       "        </tr>\n",
       "        <tr>\n",
       "            <td>29629809</td>\n",
       "            <td>Символ Независимость Корпус 19, 2 секц 5 29.4</td>\n",
       "            <td>donstroy.moscow</td>\n",
       "            <td>2024-02-09</td>\n",
       "        </tr>\n",
       "        <tr>\n",
       "            <td>29629810</td>\n",
       "            <td>Символ Независимость Корпус 19, 2 секц 5 27.1</td>\n",
       "            <td>donstroy.moscow</td>\n",
       "            <td>2024-02-09</td>\n",
       "        </tr>\n",
       "    </tbody>\n",
       "</table>"
      ],
      "text/plain": [
       "[(29629804, 'Символ Независимость Корпус 19, 2 секц 4 27.1', 'donstroy.moscow', '2024-02-09'),\n",
       " (29629805, 'Символ Независимость Корпус 19, 2 секц 3 28.3', 'donstroy.moscow', '2024-02-09'),\n",
       " (29629806, 'Символ Независимость Корпус 19, 2 секц 4 27.1', 'donstroy.moscow', '2024-02-09'),\n",
       " (29629807, 'Символ Независимость Корпус 19, 2 секц 3 29.9', 'donstroy.moscow', '2024-02-09'),\n",
       " (29629808, 'Символ Независимость Корпус 19, 2 секц 5 27.1', 'donstroy.moscow', '2024-02-09'),\n",
       " (29629809, 'Символ Независимость Корпус 19, 2 секц 5 29.4', 'donstroy.moscow', '2024-02-09'),\n",
       " (29629810, 'Символ Независимость Корпус 19, 2 секц 5 27.1', 'donstroy.moscow', '2024-02-09')]"
      ]
     },
     "execution_count": 91,
     "metadata": {},
     "output_type": "execute_result"
    }
   ],
   "source": [
    "%%sql\n",
    "select id, title, brand, date(datetime_create) as date\n",
    "from copied\n",
    "where category = 'Новостройки' and brand = 'donstroy.moscow'\n",
    "limit 7"
   ]
  },
  {
   "cell_type": "markdown",
   "id": "40d1c427-602b-4cb6-940e-2e601d3a854d",
   "metadata": {},
   "source": [
    "12. Найти всех застройщиков которые построили более 5 новостроек в 2023 году"
   ]
  },
  {
   "cell_type": "code",
   "execution_count": 92,
   "id": "1c168d12-83b4-46de-bed1-4210130b00d5",
   "metadata": {},
   "outputs": [
    {
     "data": {
      "text/html": [
       "<table>\n",
       "    <thead>\n",
       "        <tr>\n",
       "            <th>brand</th>\n",
       "            <th>count(*)</th>\n",
       "        </tr>\n",
       "    </thead>\n",
       "    <tbody>\n",
       "        <tr>\n",
       "            <td>Capital Group</td>\n",
       "            <td>3932</td>\n",
       "        </tr>\n",
       "        <tr>\n",
       "            <td>level.ru</td>\n",
       "            <td>346656</td>\n",
       "        </tr>\n",
       "        <tr>\n",
       "            <td>Галс-Девелопмент</td>\n",
       "            <td>872</td>\n",
       "        </tr>\n",
       "    </tbody>\n",
       "</table>"
      ],
      "text/plain": [
       "[('Capital Group', 3932), ('level.ru', 346656), ('Галс-Девелопмент', 872)]"
      ]
     },
     "execution_count": 92,
     "metadata": {},
     "output_type": "execute_result"
    }
   ],
   "source": [
    "%%sql\n",
    "SELECT brand, count(*)\n",
    "FROM copied\n",
    "WHERE category = 'Новостройки' \n",
    "    AND datetime_create LIKE '2023%' \n",
    "GROUP BY brand\n",
    "HAVING count(*) > 5\n"
   ]
  },
  {
   "cell_type": "code",
   "execution_count": 93,
   "id": "3df37056-d24c-4595-9bd2-968fec975393",
   "metadata": {},
   "outputs": [
    {
     "data": {
      "text/html": [
       "<table>\n",
       "    <thead>\n",
       "        <tr>\n",
       "            <th>brand</th>\n",
       "            <th>count(*)</th>\n",
       "        </tr>\n",
       "    </thead>\n",
       "    <tbody>\n",
       "        <tr>\n",
       "            <td>Capital Group</td>\n",
       "            <td>3932</td>\n",
       "        </tr>\n",
       "        <tr>\n",
       "            <td>level.ru</td>\n",
       "            <td>346656</td>\n",
       "        </tr>\n",
       "        <tr>\n",
       "            <td>Галс-Девелопмент</td>\n",
       "            <td>872</td>\n",
       "        </tr>\n",
       "    </tbody>\n",
       "</table>"
      ],
      "text/plain": [
       "[('Capital Group', 3932), ('level.ru', 346656), ('Галс-Девелопмент', 872)]"
      ]
     },
     "execution_count": 93,
     "metadata": {},
     "output_type": "execute_result"
    }
   ],
   "source": [
    "#12. Найти всех застройщиков которые построили более 5 новостроек в 2023 году\n",
    "%sql SELECT brand, count(*) FROM copied WHERE category = 'Новостройки' and datetime_create LIKE '2023%' GROUP BY brand HAVING count(*) > 5"
   ]
  },
  {
   "cell_type": "markdown",
   "id": "affc2723-7004-432a-a08a-c2e2298dc832",
   "metadata": {},
   "source": [
    "13. Вывести список жилых комплексов с наибольшим количеством проданных квартир за последние 3 месяца. Вывести количество проданных квартир и процент от общего количества квартир этого комплекса"
   ]
  },
  {
   "cell_type": "code",
   "execution_count": 32,
   "id": "82de4ec6-16c8-4dc3-a3d2-25c378568377",
   "metadata": {},
   "outputs": [],
   "source": [
    "# cursor.execute(\"\"\"\n",
    "# SELECT \n",
    "    \n",
    "# FROM copied\n",
    "# where \n",
    "#     category = \"Новостройки\" \n",
    "# \"\"\")\n",
    "# cursor.fetchall()"
   ]
  },
  {
   "cell_type": "code",
   "execution_count": 95,
   "id": "682c1792-bf47-4fc9-9580-b6130cf7582a",
   "metadata": {},
   "outputs": [
    {
     "data": {
      "text/html": [
       "<table>\n",
       "    <thead>\n",
       "        <tr>\n",
       "            <th>id</th>\n",
       "            <th>title</th>\n",
       "            <th>price</th>\n",
       "            <th>price_sale</th>\n",
       "            <th>datetime_create</th>\n",
       "            <th>category</th>\n",
       "            <th>brand</th>\n",
       "            <th>url</th>\n",
       "            <th>apartment_area</th>\n",
       "            <th>apartment_floor</th>\n",
       "            <th>apartment_floors_total</th>\n",
       "            <th>apartment_room</th>\n",
       "            <th>apartment_ppm</th>\n",
       "        </tr>\n",
       "    </thead>\n",
       "    <tbody>\n",
       "        <tr>\n",
       "            <td>26513533</td>\n",
       "            <td>кв. 49_Вилиса Лациса ул., д. 38, к. 2 vilisa-latsisa-ul-d-38-k-1-2 8 57.4 Вилиса Лациса ул., д. 38, к. 1, 2</td>\n",
       "            <td>14200760</td>\n",
       "            <td>14200760</td>\n",
       "            <td>2024-01-20 05:33:23.754343</td>\n",
       "            <td>Реновация</td>\n",
       "            <td>fr.mos.ru</td>\n",
       "            <td>https://investmoscow.ru/tenders/tender/19151571</td>\n",
       "            <td>57.4</td>\n",
       "            <td>8</td>\n",
       "            <td>17</td>\n",
       "            <td>2</td>\n",
       "            <td>247400</td>\n",
       "        </tr>\n",
       "        <tr>\n",
       "            <td>26513534</td>\n",
       "            <td>кв. 88_Вилиса Лациса ул., д. 38, к. 2 vilisa-latsisa-ul-d-38-k-1-2 12 57.2 Вилиса Лациса ул., д. 38, к. 1, 2</td>\n",
       "            <td>14294280</td>\n",
       "            <td>14294280</td>\n",
       "            <td>2024-01-20 05:33:23.763560</td>\n",
       "            <td>Реновация</td>\n",
       "            <td>fr.mos.ru</td>\n",
       "            <td>https://investmoscow.ru/tenders/tender/19151613</td>\n",
       "            <td>57.2</td>\n",
       "            <td>12</td>\n",
       "            <td>17</td>\n",
       "            <td>2</td>\n",
       "            <td>249900</td>\n",
       "        </tr>\n",
       "        <tr>\n",
       "            <td>26513535</td>\n",
       "            <td>кв. 96_Вилиса Лациса ул., д. 38, к. 2 vilisa-latsisa-ul-d-38-k-1-2 13 57.4 Вилиса Лациса ул., д. 38, к. 1, 2</td>\n",
       "            <td>14344260</td>\n",
       "            <td>14344260</td>\n",
       "            <td>2024-01-20 05:33:23.771348</td>\n",
       "            <td>Реновация</td>\n",
       "            <td>fr.mos.ru</td>\n",
       "            <td>https://investmoscow.ru/tenders/tender/19146214</td>\n",
       "            <td>57.4</td>\n",
       "            <td>13</td>\n",
       "            <td>17</td>\n",
       "            <td>2</td>\n",
       "            <td>249900</td>\n",
       "        </tr>\n",
       "        <tr>\n",
       "            <td>26513536</td>\n",
       "            <td>кв. 105_Вилиса Лациса ул., д. 38, к. 2 vilisa-latsisa-ul-d-38-k-1-2 15 57.6 Вилиса Лациса ул., д. 38, к. 1, 2</td>\n",
       "            <td>14394240</td>\n",
       "            <td>14394240</td>\n",
       "            <td>2024-01-20 05:33:23.779571</td>\n",
       "            <td>Реновация</td>\n",
       "            <td>fr.mos.ru</td>\n",
       "            <td>https://investmoscow.ru/tenders/tender/19146237</td>\n",
       "            <td>57.6</td>\n",
       "            <td>15</td>\n",
       "            <td>17</td>\n",
       "            <td>2</td>\n",
       "            <td>249900</td>\n",
       "        </tr>\n",
       "    </tbody>\n",
       "</table>"
      ],
      "text/plain": [
       "[(26513533, 'кв. 49_Вилиса Лациса ул., д. 38, к. 2 vilisa-latsisa-ul-d-38-k-1-2 8 57.4 Вилиса Лациса ул., д. 38, к. 1, 2', 14200760, 14200760, '2024-01-20 05:33:23.754343', 'Реновация', 'fr.mos.ru', 'https://investmoscow.ru/tenders/tender/19151571', 57.4, 8, 17, 2, 247400),\n",
       " (26513534, 'кв. 88_Вилиса Лациса ул., д. 38, к. 2 vilisa-latsisa-ul-d-38-k-1-2 12 57.2 Вилиса Лациса ул., д. 38, к. 1, 2', 14294280, 14294280, '2024-01-20 05:33:23.763560', 'Реновация', 'fr.mos.ru', 'https://investmoscow.ru/tenders/tender/19151613', 57.2, 12, 17, 2, 249900),\n",
       " (26513535, 'кв. 96_Вилиса Лациса ул., д. 38, к. 2 vilisa-latsisa-ul-d-38-k-1-2 13 57.4 Вилиса Лациса ул., д. 38, к. 1, 2', 14344260, 14344260, '2024-01-20 05:33:23.771348', 'Реновация', 'fr.mos.ru', 'https://investmoscow.ru/tenders/tender/19146214', 57.4, 13, 17, 2, 249900),\n",
       " (26513536, 'кв. 105_Вилиса Лациса ул., д. 38, к. 2 vilisa-latsisa-ul-d-38-k-1-2 15 57.6 Вилиса Лациса ул., д. 38, к. 1, 2', 14394240, 14394240, '2024-01-20 05:33:23.779571', 'Реновация', 'fr.mos.ru', 'https://investmoscow.ru/tenders/tender/19146237', 57.6, 15, 17, 2, 249900)]"
      ]
     },
     "execution_count": 95,
     "metadata": {},
     "output_type": "execute_result"
    }
   ],
   "source": [
    "#для себя посмотреть вывод табл кв за 2024 - столбцы\n",
    "%sql select * from copied where datetime_create like '2024%' limit 4\n"
   ]
  },
  {
   "cell_type": "markdown",
   "id": "46fa3ff9-e759-4022-870c-8d1b4e2bdd0e",
   "metadata": {},
   "source": [
    "# Задачи с обогащением:"
   ]
  },
  {
   "cell_type": "markdown",
   "id": "35198d26-625c-4c9c-8075-219b91898500",
   "metadata": {},
   "source": [
    "\n",
    "1. Построить месячный график количества продаж новостроек за последний год.\n",
    "\n",
    "2. Выведите список новостроек в западном районе.\n",
    "\n",
    "3. Найти все новостройки в ЗАО и СЗАО которые имеют больше 10 этажей\n",
    "\n",
    "4. Найти самый популярный размер квартир в каждом округе Москвы, и посчитать количеств продаж каждого размера ( сейчас за размер принимаем количество комнат)\n",
    "\n",
    "5. Найти все новостройки в пределах заданного радиуса от опеределнного места. И определить расстояние от каждой новостройки до заданного места, распределив их по возрастанию расстояния до заданного места.\n",
    "\n",
    "6. Построить график средней стоимости квадратного метра по месяцам, начиная с q2 2023 по q2 2024\n",
    "\n",
    "7. Найти все новостройки в которых есть квартиры с видом на определенный объект ( например парк, реку, останкинскую телебашню, москва сити или другую достопримечательность).\n",
    "\n",
    "8. Показать информацию о количестве квартир с таким видом их средние площади и стоимости.\n",
    "\n",
    "9. Вывести список жилых комплексов с наибольшей разницей между стоимостью квартир в них и среденей стоимостью квартир в районе. Рассчитать процентное отклонение цены каждой квартиры от средней цены по району.\n",
    "\n",
    "10. Начиная с 2023 года, построить несколько графиков по месяцам : стоимости кв метра квартир, курса доллара(сколько рублей за один доллар), ключевой ставки, уровень безработиц, численность населения в городе, среднее количество детей в семье, количество сделок по ипотеке, количество сделок по льготным ипотечным программам,\n",
    "\n",
    "11. Найти все новостройки информация о которых появилась в 2023 году имеют рейтинг выше среднего по городу. Вывести список этих новостроек, среднее, минимальное и максимальное количество этажей в них, в разрезе типа квартир ( тип это количество комнат ) с количеством квартир.\n",
    "\n",
    "12. Вывести весь жк квартиры в которых были введены в эксплуатацию с чистовой отделкой в 2024 году\n",
    "\n",
    "13. вывести список жк бизнес класса в ВАО города Москвы района Измайлово, ключи от которых владельцы получили в 2023\n",
    "\n",
    "14. Выведите жк где соотношение количества квартир к количеств парковочных мест меньше 2.5\n",
    "\n",
    "15. Введите количество квартир в кирпичных домах города Москвы\n",
    "\n",
    "16. Определите среднее время оживания лита в домах застройщика level\n",
    "\n",
    "17. Выведите список жк от которых до ближайшей станции метро 10 минут пешком\n",
    "\n",
    "18. Выведите общее число объектов застройщиков которые больше 20 лет на рынке, и при качестве объектов выше среднего.\n",
    "\n"
   ]
  },
  {
   "cell_type": "code",
   "execution_count": null,
   "id": "f204301b-1e5a-42d7-9d51-d50387986dc1",
   "metadata": {},
   "outputs": [],
   "source": [
    "#1. Построить месячный график количества продаж новостроек за последний год."
   ]
  },
  {
   "cell_type": "code",
   "execution_count": null,
   "id": "ba9965db-b081-483a-bb39-fd8a2ef14a8c",
   "metadata": {},
   "outputs": [],
   "source": []
  },
  {
   "cell_type": "code",
   "execution_count": null,
   "id": "37450ec8-88c7-40ca-b5ae-362610f6c5c2",
   "metadata": {},
   "outputs": [],
   "source": []
  },
  {
   "cell_type": "code",
   "execution_count": null,
   "id": "e35a610a-4cc3-496b-a1d7-2d788ae2cd4a",
   "metadata": {},
   "outputs": [],
   "source": []
  },
  {
   "cell_type": "code",
   "execution_count": null,
   "id": "d7f8fdb5-10fd-4e4c-b6de-d67df299b22f",
   "metadata": {},
   "outputs": [],
   "source": []
  },
  {
   "cell_type": "code",
   "execution_count": null,
   "id": "ada81f89-5f79-4bfa-b9c6-d2f9278eb57c",
   "metadata": {},
   "outputs": [],
   "source": []
  },
  {
   "cell_type": "code",
   "execution_count": null,
   "id": "da3fb0fb-09b1-4f9b-90a6-8c22a36bf92e",
   "metadata": {},
   "outputs": [],
   "source": []
  },
  {
   "cell_type": "code",
   "execution_count": null,
   "id": "5943c776-9864-43f2-a348-2c8a87a79b5a",
   "metadata": {},
   "outputs": [],
   "source": []
  },
  {
   "cell_type": "code",
   "execution_count": null,
   "id": "bd30cbcd-1de1-4367-9f9b-e7a17e36cdd0",
   "metadata": {},
   "outputs": [],
   "source": []
  },
  {
   "cell_type": "code",
   "execution_count": null,
   "id": "353a714d-2250-483f-a07b-ce5601894bff",
   "metadata": {},
   "outputs": [],
   "source": []
  },
  {
   "cell_type": "code",
   "execution_count": null,
   "id": "b32c8bde-fa71-40ca-85d1-3659e2259fd6",
   "metadata": {},
   "outputs": [],
   "source": []
  },
  {
   "cell_type": "code",
   "execution_count": null,
   "id": "1cb56beb-461b-406a-b173-9a86c40574bb",
   "metadata": {},
   "outputs": [],
   "source": []
  },
  {
   "cell_type": "code",
   "execution_count": null,
   "id": "70ed0dc1-6128-418c-bea8-61149cf5dd4f",
   "metadata": {},
   "outputs": [],
   "source": []
  },
  {
   "cell_type": "code",
   "execution_count": null,
   "id": "d69e11ed-3ad8-42b3-b2b1-e8c9c4423a74",
   "metadata": {},
   "outputs": [],
   "source": []
  },
  {
   "cell_type": "code",
   "execution_count": null,
   "id": "2a48d07e-594b-4d5d-993a-345916a97102",
   "metadata": {},
   "outputs": [],
   "source": []
  },
  {
   "cell_type": "code",
   "execution_count": null,
   "id": "d1d72f62-49e5-4abb-b551-a11e2ba9a1cc",
   "metadata": {},
   "outputs": [],
   "source": []
  },
  {
   "cell_type": "code",
   "execution_count": null,
   "id": "fe2afc5a-ba18-461c-a36a-b583f6099623",
   "metadata": {},
   "outputs": [],
   "source": []
  },
  {
   "cell_type": "code",
   "execution_count": null,
   "id": "1ee741a6-37a4-4280-81c1-f8c1f73f335d",
   "metadata": {},
   "outputs": [],
   "source": []
  },
  {
   "cell_type": "markdown",
   "id": "382e96ab-7db8-4b87-b6ac-1b11792ad32d",
   "metadata": {},
   "source": [
    "# Задачи на подумать и предложить Выдвинуть 10 гипотез и проверить их на основе данных ( если данных не хватает то добавить данными из интернета)\n"
   ]
  },
  {
   "cell_type": "code",
   "execution_count": null,
   "id": "3f3dce1e-2ed1-4bc7-8d31-4829b12045f2",
   "metadata": {},
   "outputs": [],
   "source": [
    "Гипотеза 1 - стоимость квартиры зависит от площади\n",
    "\n",
    "Гипотеза 2 - стоимость квартиры зависит от расстояния до центра города\n",
    "\n",
    "Гипотеза 3 -"
   ]
  }
 ],
 "metadata": {
  "kernelspec": {
   "display_name": "Python 3 (ipykernel)",
   "language": "python",
   "name": "python3"
  },
  "language_info": {
   "codemirror_mode": {
    "name": "ipython",
    "version": 3
   },
   "file_extension": ".py",
   "mimetype": "text/x-python",
   "name": "python",
   "nbconvert_exporter": "python",
   "pygments_lexer": "ipython3",
   "version": "3.10.10"
  }
 },
 "nbformat": 4,
 "nbformat_minor": 5
}
