{
 "cells": [
  {
   "cell_type": "markdown",
   "id": "ef8c1d772546cb58",
   "metadata": {},
   "source": [
    "### Сортировка списков"
   ]
  },
  {
   "cell_type": "markdown",
   "id": "41c848f20b9b94a6",
   "metadata": {},
   "source": [
    "1) Выучить наизусть сортировку пузырьком и быструю сортировку.\n"
   ]
  },
  {
   "cell_type": "markdown",
   "id": "e78da886442e612a",
   "metadata": {},
   "source": [
    "# 1.1. Сортировка пузырьком.(Bubble Sort)"
   ]
  },
  {
   "cell_type": "code",
   "execution_count": 5,
   "id": "aef52f51-e0cc-4b7c-a996-616af5ac9364",
   "metadata": {},
   "outputs": [
    {
     "data": {
      "text/plain": [
       "[1, 4, 5, 7, 8]"
      ]
     },
     "execution_count": 5,
     "metadata": {},
     "output_type": "execute_result"
    }
   ],
   "source": [
    "def bubble_sort(arr) -> list:\n",
    "    n = len(arr)\n",
    "    for i in range(n-1):\n",
    "        swapped = False \n",
    "        for j in range(n-1-i):\n",
    "            if arr[j] > arr[j+1]:\n",
    "                arr[j],arr[j+1] = arr[j+1],arr[j] \n",
    "                swapped = True\n",
    "                \n",
    "        if not swapped:\n",
    "            break # Выход из цикла, если не было обменов\n",
    "            \n",
    "    return arr\n",
    "\n",
    "bubble_sort([8,5,1,4,7])\n",
    "                         "
   ]
  },
  {
   "cell_type": "markdown",
   "id": "9b5aae31-2a5a-4721-8771-d8e79f1b1d20",
   "metadata": {},
   "source": [
    "# 1.2. Быстрая сортировка.(Quick Sort)"
   ]
  },
  {
   "cell_type": "code",
   "execution_count": 6,
   "id": "30b40190-0ea7-48d3-9db2-2a35f965cc5b",
   "metadata": {},
   "outputs": [
    {
     "data": {
      "text/plain": [
       "[1, 4, 5, 7, 8]"
      ]
     },
     "execution_count": 6,
     "metadata": {},
     "output_type": "execute_result"
    }
   ],
   "source": [
    "import random \n",
    "\n",
    "def quick_sort(arr) -> list:\n",
    "    if len(arr) <= 1:\n",
    "        return arr\n",
    "    else:\n",
    "        pivot = random.choice(arr)\n",
    "        left = [i for i in arr if i < pivot]\n",
    "        centre = [i for i in arr if i == pivot]\n",
    "        right = [i for i in arr if i > pivot]\n",
    "    return quick_sort(left) + centre + quick_sort(right)\n",
    "\n",
    "quick_sort([8,5,1,4,7])"
   ]
  },
  {
   "cell_type": "markdown",
   "id": "693d9609-21de-4337-a43d-d6b788c279f4",
   "metadata": {},
   "source": [
    "2) Реализовать дополнительно 2 любые сортировки кроме вышеуказанных. Написать тесты на эти функции.\n"
   ]
  },
  {
   "cell_type": "markdown",
   "id": "be2f4415-1603-45ae-99af-85658bb2b40a",
   "metadata": {},
   "source": [
    "# 2.1. Сортировка вставками (Insertion Sort)"
   ]
  },
  {
   "cell_type": "code",
   "execution_count": 7,
   "id": "1f980091-6acf-4316-b659-106582f16eb6",
   "metadata": {},
   "outputs": [
    {
     "data": {
      "text/plain": [
       "[1, 4, 5, 7, 8]"
      ]
     },
     "execution_count": 7,
     "metadata": {},
     "output_type": "execute_result"
    }
   ],
   "source": [
    "def insertion_sort(arr) -> list:\n",
    "    n = len(arr)\n",
    "    if len(arr) <= 1:\n",
    "        return arr\n",
    "    else:\n",
    "        for i in range(1,n): #проходит до конца со второго(1) элемента массива\n",
    "            for j in range(i, 0, -1): #j стартует от элемнета i и в обратном направлении пробегает массив\n",
    "                if arr[j] < arr[j-1]:\n",
    "                     arr[j], arr[j-1] = arr[j-1], arr[j]\n",
    "                else:\n",
    "                    break\n",
    "    return arr\n",
    "\n",
    "insertion_sort([8,5,1,4,7])"
   ]
  },
  {
   "cell_type": "markdown",
   "id": "49b0f7a7-82b6-42a8-b983-886e99734414",
   "metadata": {},
   "source": [
    "# 2.2. Сортировка выбором (Selection Sort)"
   ]
  },
  {
   "cell_type": "code",
   "execution_count": 8,
   "id": "a2f4cce0-48c4-4bc0-a037-7067e9f88b60",
   "metadata": {},
   "outputs": [
    {
     "data": {
      "text/plain": [
       "[1, 4, 5, 7, 8]"
      ]
     },
     "execution_count": 8,
     "metadata": {},
     "output_type": "execute_result"
    }
   ],
   "source": [
    "def selection_sort(arr) -> list:\n",
    "    n = len(arr)\n",
    "    for i in range(n-1):\n",
    "        min_idx = i # предполагаем, что текущий индекс содержит минимальный элемент\n",
    "        for j in range(i+1,n):\n",
    "            if arr[j] < arr[min_idx]:\n",
    "                min_idx = j\n",
    "        if min_idx != i:\n",
    "            arr[i], arr[min_idx] = arr[min_idx], arr[i]\n",
    "    return arr \n",
    "            \n",
    "selection_sort([8,5,1,4,7])               "
   ]
  },
  {
   "cell_type": "markdown",
   "id": "b0b47c64-73f5-435c-8bf3-c57fc83b88f8",
   "metadata": {},
   "source": [
    "3) Создать список из 10000 случайных чисел с плавающей запятой.\n",
    "4) Замерить и вывести время выполнения, пузырьком, быстрой сортировки, ваших 2 сортировок и встроенной сортировки python.\n"
   ]
  },
  {
   "cell_type": "code",
   "execution_count": 12,
   "id": "dc311bab-d787-4b33-bd4e-14cd41d18f7a",
   "metadata": {},
   "outputs": [
    {
     "name": "stdout",
     "output_type": "stream",
     "text": [
      "Время выполнения пузырьковой сортировки: 6.123228222131729\n",
      "Время выполнения быстрой сортировки: 0.023336709942668676\n",
      "Время выполнения сортировки вставками: 3.858578613959253\n",
      "Время выполнения сортировки выбором: 2.537172146141529\n"
     ]
    }
   ],
   "source": [
    "import random\n",
    "import time\n",
    "\n",
    "random_numbers = [random.uniform(-10000, 80000) for _ in range(10000)]\n",
    "\n",
    "\n",
    "def measure_sort_time(sort_func, arr):\n",
    "    'функция для измерения времени сортировки'\n",
    "    start_time = time.perf_counter()\n",
    "    sort_func(arr.copy())\n",
    "    end_time = time.perf_counter()\n",
    "    return end_time - start_time\n",
    "\n",
    "bubble_sort_time = measure_sort_time(bubble_sort, random_numbers)\n",
    "print(f'Время выполнения пузырьковой сортировки: {bubble_sort_time}')\n",
    "\n",
    "quick_sort_time = measure_sort_time(quick_sort, random_numbers)\n",
    "print(f'Время выполнения быстрой сортировки: {quick_sort_time}')\n",
    "\n",
    "insertion_sort_time = measure_sort_time(insertion_sort, random_numbers)\n",
    "print(f'Время выполнения сортировки вставками: {insertion_sort_time}')\n",
    "\n",
    "selection_sort_time = measure_sort_time(selection_sort, random_numbers)\n",
    "print(f'Время выполнения сортировки выбором: {selection_sort_time}')\n"
   ]
  },
  {
   "cell_type": "markdown",
   "id": "84e818bb-577b-421e-a7c3-53c633c40f1e",
   "metadata": {},
   "source": [
    "5) Создать список из 20000 случайных чисел с плавающей запятой. Сравните как изменилось время выполнения. \n",
    "(если на вашем компьютере это выполняется слишком долго больше минуты или не хватает памяти возьмите меньшее число элементов, например 2000 / 4000)\n"
   ]
  },
  {
   "cell_type": "code",
   "execution_count": 13,
   "id": "6bda11e4-3503-4b75-ada5-ef1255c27868",
   "metadata": {},
   "outputs": [
    {
     "name": "stdout",
     "output_type": "stream",
     "text": [
      "Время выполнения пузырьковой сортировки: 31.07508710795082\n",
      "Время выполнения быстрой сортировки: 0.05862255999818444\n",
      "Время выполнения сортировки вставками: 18.79863842506893\n",
      "Время выполнения сортировки выбором: 11.787069213110954\n"
     ]
    }
   ],
   "source": [
    "import random\n",
    "\n",
    "random_numbers_2 = [random.uniform(-10000, 80000) for _ in range(20000)]\n",
    "\n",
    "bubble_sort_time = measure_sort_time(bubble_sort, random_numbers_2)\n",
    "print(f'Время выполнения пузырьковой сортировки: {bubble_sort_time}')\n",
    "\n",
    "quick_sort_time = measure_sort_time(quick_sort, random_numbers_2)\n",
    "print(f'Время выполнения быстрой сортировки: {quick_sort_time}')\n",
    "\n",
    "insertion_sort_time = measure_sort_time(insertion_sort, random_numbers_2)\n",
    "print(f'Время выполнения сортировки вставками: {insertion_sort_time}')\n",
    "\n",
    "selection_sort_time = measure_sort_time(selection_sort, random_numbers_2)\n",
    "print(f'Время выполнения сортировки выбором: {selection_sort_time}')\n"
   ]
  },
  {
   "cell_type": "markdown",
   "id": "60f24e2f-a1d5-4689-aaee-682406e20311",
   "metadata": {},
   "source": [
    "6) Сделайте выводы по результатам, они достаточно интересные. Если будут вопросы спросите преподавателя."
   ]
  },
  {
   "cell_type": "markdown",
   "id": "bad29568-40d2-4ec2-862c-c5c1c502e145",
   "metadata": {},
   "source": [
    "При увеличении нагрузки в 2 раза время обработок сортировок изменилось следующим образом:\n",
    "пузырьковая - время обработки увеличилось в 5 раз \n",
    "быстрая - время обработки увеличилось в 2.5 раза  \n",
    "вставками - время обработки увеличилось в 5 раз \n",
    "выбором - время обработки увеличилось в 4.5 раза \n",
    "\n",
    "Медленее всего растет время затрат для быстрой сортировки, а значит она лучшая для сортировки больших массивов.\n",
    "самая неэффективная для обработки больших объемов пузырьковая, так как время затрат выше, чем у всех остальных сортировок."
   ]
  }
 ],
 "metadata": {
  "kernelspec": {
   "display_name": "Python 3 (ipykernel)",
   "language": "python",
   "name": "python3"
  },
  "language_info": {
   "codemirror_mode": {
    "name": "ipython",
    "version": 3
   },
   "file_extension": ".py",
   "mimetype": "text/x-python",
   "name": "python",
   "nbconvert_exporter": "python",
   "pygments_lexer": "ipython3",
   "version": "3.10.10"
  }
 },
 "nbformat": 4,
 "nbformat_minor": 5
}
