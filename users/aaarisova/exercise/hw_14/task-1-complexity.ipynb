{
 "cells": [
  {
   "cell_type": "markdown",
   "id": "ac94897bc01b610f",
   "metadata": {},
   "source": [
    "### Сложность алгоритмов\n",
    "\n",
    "    Определите асимптотическую сложность данной программы O(...).\n",
    "    Предложите способы уменьшения асимптотической сложности, если возможно.\n",
    "    Сложность методов встроенных структур данных python, поищите в интернете."
   ]
  },
  {
   "cell_type": "code",
   "execution_count": 2,
   "id": "ed417262caef05ea",
   "metadata": {},
   "outputs": [
    {
     "data": {
      "text/plain": [
       "8"
      ]
     },
     "execution_count": 2,
     "metadata": {},
     "output_type": "execute_result"
    }
   ],
   "source": [
    "# 1 Сосчитать количество уникальных элементов в списке\n",
    "\n",
    "def count_unique(values):\n",
    "    unique = set()\n",
    "    for value in values:\n",
    "        unique.add(value)\n",
    "    return len(unique)\n",
    "\n",
    "#count_unique([1,1,2,3,3,4,4,4,5,6,7,7,8])"
   ]
  },
  {
   "cell_type": "code",
   "execution_count": null,
   "id": "a2c28af3-41ef-45c4-b641-3bbd332d2397",
   "metadata": {},
   "outputs": [],
   "source": [
    "# O(n) - линейный рост"
   ]
  },
  {
   "cell_type": "code",
   "execution_count": 4,
   "id": "a6edbb14bed302da",
   "metadata": {},
   "outputs": [
    {
     "name": "stdout",
     "output_type": "stream",
     "text": [
      "8\n"
     ]
    }
   ],
   "source": [
    "def count_unique_2(values):\n",
    "    unique = set(values)\n",
    "    return len(unique)\n",
    "\n",
    "print(count_unique_2([1,1,2,3,3,4,4,4,5,6,7,7,8]))"
   ]
  },
  {
   "cell_type": "code",
   "execution_count": 4,
   "id": "58cc1efadd17f96f",
   "metadata": {},
   "outputs": [
    {
     "data": {
      "text/plain": [
       "[1, 2, 3, 4, 5]"
      ]
     },
     "execution_count": 4,
     "metadata": {},
     "output_type": "execute_result"
    }
   ],
   "source": [
    "# 2 Найти дубликаты в списке\n",
    "\n",
    "def find_duplicates(arr):\n",
    "    duplicates = []\n",
    "    for i in range(len(arr)):\n",
    "        for j in range(i + 1, len(arr)):\n",
    "            if arr[i] == arr[j] and arr[i] not in duplicates:\n",
    "                duplicates.append(arr[i])\n",
    "    return duplicates\n",
    "# find_duplicates([1,1,2,2,3,3,4,4,5,5,6])"
   ]
  },
  {
   "cell_type": "code",
   "execution_count": null,
   "id": "438296d1-5ddc-4fc8-b54d-f502c4f03238",
   "metadata": {},
   "outputs": [],
   "source": [
    "# O(n^2) - два цикла for"
   ]
  },
  {
   "cell_type": "code",
   "execution_count": 17,
   "id": "c325182fbc756c60",
   "metadata": {},
   "outputs": [
    {
     "name": "stdout",
     "output_type": "stream",
     "text": [
      "[1, 2, 3, 4, 5]\n"
     ]
    }
   ],
   "source": [
    "\n",
    "#упростила до O(n):\n",
    "\n",
    "def find_duplicates_2(spisok):\n",
    "    dublicates = []\n",
    "    uniq = set()\n",
    "    for i in spisok:\n",
    "        if i in uniq and i not in dublicates: \n",
    "           dublicates.append(i)\n",
    "        uniq.add(i)\n",
    "    return dublicates\n",
    "    \n",
    "print(find_duplicates_2([1,1,2,2,3,3,4,4,5,5,6]))\n"
   ]
  },
  {
   "cell_type": "code",
   "execution_count": null,
   "id": "155f626a4df71f3b",
   "metadata": {},
   "outputs": [],
   "source": [
    "# 3 поиском троек чисел, которые в сумме дают ноль"
   ]
  },
  {
   "cell_type": "code",
   "execution_count": 16,
   "id": "e11789817f8436c8",
   "metadata": {},
   "outputs": [
    {
     "data": {
      "text/plain": [
       "[[-3, 1, 2], [-5, 1, 4], [-3, -1, 4], [-5, -1, 6], [-5, 2, 3]]"
      ]
     },
     "execution_count": 16,
     "metadata": {},
     "output_type": "execute_result"
    }
   ],
   "source": [
    "def find_triplets(arr):\n",
    "    n = len(arr)\n",
    "    triplets = []\n",
    "    for i in range(n):\n",
    "        for j in range(i + 1, n):\n",
    "            for k in range(j + 1, n):\n",
    "                if arr[i] + arr[j] + arr[k] == 0:\n",
    "                    triplet = sorted([arr[i], arr[j], arr[k]])\n",
    "                    if triplet not in triplets:\n",
    "                        triplets.append(triplet)\n",
    "    return triplets\n",
    "\n",
    "#find_triplets([1,-1,2,2,-3,3,4,4,5,-5,6])\n"
   ]
  },
  {
   "cell_type": "code",
   "execution_count": null,
   "id": "9f40bc2b-8c53-43db-8a65-7481be2dba9f",
   "metadata": {},
   "outputs": [],
   "source": [
    "#O(n^3) - три вложенных цикла"
   ]
  },
  {
   "cell_type": "code",
   "execution_count": 19,
   "id": "2081d1eb-1149-4cdf-9798-6c0f9708fb70",
   "metadata": {},
   "outputs": [
    {
     "name": "stdout",
     "output_type": "stream",
     "text": [
      "{(-3, -1, 4), (-5, 2, 3), (-5, 1, 4), (-3, 1, 2), (-5, -1, 6)}\n"
     ]
    }
   ],
   "source": [
    "def find_triplets_2(arr: list):\n",
    "    arr.sort() \n",
    "    n = len(arr)\n",
    "    result = set()\n",
    "    for i in range(n - 1):\n",
    "        left = i + 1\n",
    "        right = n - 1\n",
    "        while left != right:\n",
    "            if arr[i] + arr[left] + arr[right] > 0:\n",
    "                right -= 1\n",
    "            elif arr[i] + arr[left] + arr[right] < 0:\n",
    "                left += 1\n",
    "            else:\n",
    "                result.add((arr[i], arr[left], arr[right]))\n",
    "                left += 1\n",
    "\n",
    "    return result\n",
    "\n",
    "print(find_triplets_2([1,-1,2,2,-3,3,4,4,5,-5,6]))\n"
   ]
  },
  {
   "cell_type": "code",
   "execution_count": null,
   "id": "960d6066-dc31-4634-8e6a-8693a5c3fd4b",
   "metadata": {},
   "outputs": [],
   "source": [
    "'''\n",
    "arr.sort(): сортируется - необходимо для использования метода двух указателей (left и right).\n",
    "for i in range(n - 1): Внешний цикл проходит по элементам массива, за исключением последнего элемента, \n",
    "потому что для поиска троек нам нужно минимум три элемента.\n",
    "left = i + 1: Указатель left инициализируется на элемент сразу после текущего элемента i.\n",
    "right = n - 1: Указатель right инициализируется на последний элемент массива.\n",
    "\n",
    "while left != right: Цикл работает до тех пор, пока указатели не встретятся.\n",
    "if arr[i] + arr[left] + arr[right] > 0:: Если сумма трех чисел больше нуля, сдвигаем right влево.\n",
    "elif arr[i] + arr[left] + arr[right] < 0:: Если сумма трех чисел меньше нуля, сдвигаем left вправо.\n",
    "else:: Если сумма трех чисел равна нулю, добавляем кортеж (arr[i], arr[left], arr[right]) в множество result.\n",
    "\n",
    "result = set(): Множество используется для хранения уникальных троек.\n",
    "\n",
    "#слабо поняла реализацию :-(\n",
    "\n",
    "Сложность 𝑂(𝑛^2)'''"
   ]
  },
  {
   "cell_type": "code",
   "execution_count": null,
   "id": "8abe6982df6615e2",
   "metadata": {},
   "outputs": [],
   "source": [
    "# вычисления числа Фибоначчи\n",
    "def fibonacci(n):\n",
    "    if n <= 1:\n",
    "        return n\n",
    "    else:\n",
    "        return fibonacci(n-1) + fibonacci(n-2)"
   ]
  },
  {
   "cell_type": "code",
   "execution_count": null,
   "id": "528bd6e72508e16f",
   "metadata": {},
   "outputs": [],
   "source": [
    "O(2^n) - рекурсивный подход"
   ]
  },
  {
   "cell_type": "code",
   "execution_count": 28,
   "id": "93bc01d7-bfcd-42da-a78a-35e64ad4913a",
   "metadata": {},
   "outputs": [
    {
     "data": {
      "text/plain": [
       "3"
      ]
     },
     "execution_count": 28,
     "metadata": {},
     "output_type": "execute_result"
    }
   ],
   "source": [
    "#Итеративный подход O(n):\n",
    "\n",
    "def fibonacci_2(n):\n",
    "    if n <= 1:\n",
    "        return n\n",
    "    a, b = 0, 1\n",
    "    for _ in range(2, n+1):\n",
    "        a, b = b, a + b\n",
    "    return b\n",
    "    \n",
    "fibonacci_2(4)"
   ]
  }
 ],
 "metadata": {
  "kernelspec": {
   "display_name": "Python 3 (ipykernel)",
   "language": "python",
   "name": "python3"
  },
  "language_info": {
   "codemirror_mode": {
    "name": "ipython",
    "version": 3
   },
   "file_extension": ".py",
   "mimetype": "text/x-python",
   "name": "python",
   "nbconvert_exporter": "python",
   "pygments_lexer": "ipython3",
   "version": "3.10.10"
  }
 },
 "nbformat": 4,
 "nbformat_minor": 5
}
