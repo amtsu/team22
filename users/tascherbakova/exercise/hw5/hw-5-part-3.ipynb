{
 "cells": [
  {
   "cell_type": "code",
   "execution_count": 22,
   "id": "5e80081a-ebe5-4589-bab3-36388b8fd4dd",
   "metadata": {},
   "outputs": [
    {
     "name": "stdout",
     "output_type": "stream",
     "text": [
      "Совершеннолетний\n"
     ]
    }
   ],
   "source": [
    "person = {\"name\":\"Tata\",\"age\":39,\"city\":\"Moscow\"}\n",
    "if person[\"age\"] >= 18:\n",
    "    print(\"Совершеннолетний\")\n",
    "else:\n",
    "    print(\"Несовершеннолетний\")"
   ]
  },
  {
   "cell_type": "code",
   "execution_count": 6,
   "id": "96b62ade-9b36-415e-8c47-2a2d0344f224",
   "metadata": {},
   "outputs": [
    {
     "name": "stdout",
     "output_type": "stream",
     "text": [
      "Одинаковые по длине\n"
     ]
    }
   ],
   "source": [
    "set1 = {1, 2, 3, 4, 5}\n",
    "set2 = {4, 5, 6, 7, 8}\n",
    "if len(set1) > len(set2):\n",
    "    print(\"set1 больше\")\n",
    "elif len(set1) < len(set2):\n",
    "    print(\"set2 больше\")\n",
    "else:\n",
    "    print(\"Одинаковые по длине\")"
   ]
  },
  {
   "cell_type": "code",
   "execution_count": 7,
   "id": "9b4d7cb2-62be-4bcb-9fab-364514bbca0c",
   "metadata": {},
   "outputs": [
    {
     "name": "stdout",
     "output_type": "stream",
     "text": [
      "{'яблоко': 5, 'банан': 10, 'апельсин': 7, 'груша': 3}\n"
     ]
    }
   ],
   "source": [
    "fruits_quantity = {\"яблоко\": 5, \"банан\": 10, \"апельсин\": 7}\n",
    "if \"груша\" not in fruits_quantity:\n",
    "     fruits_quantity[\"груша\"] = 3\n",
    "print(fruits_quantity)"
   ]
  },
  {
   "cell_type": "code",
   "execution_count": 15,
   "id": "031235e5-2021-421a-a3bf-011467e63dce",
   "metadata": {},
   "outputs": [
    {
     "name": "stdout",
     "output_type": "stream",
     "text": [
      "банан - дорогой товар\n"
     ]
    }
   ],
   "source": [
    "fruits_prices = {\"яблоко\": 1.5, \"банан\": 2, \"апельсин\": 1.2}\n",
    "for fruit in fruits_prices:\n",
    "    if fruits_prices[fruit]>1.5:\n",
    "        print(fruit + \" - дорогой товар\") "
   ]
  },
  {
   "cell_type": "code",
   "execution_count": 39,
   "id": "dada27ee-42c6-4cc4-8f3a-b5d194f8a5f8",
   "metadata": {},
   "outputs": [
    {
     "name": "stdout",
     "output_type": "stream",
     "text": [
      "Программист купил 2 батонов хлеба\n",
      "В магазине осталось {'яйца': 40, 'батон хлеба': 0}\n"
     ]
    }
   ],
   "source": [
    "Seven11 = {\"яйца\": 40, \"батон хлеба\" : 2}\n",
    "if \"яйца\" in Seven11:\n",
    "    bread = min(Seven11[\"батон хлеба\"], 10)\n",
    "else:\n",
    "    bread = 1\n",
    "Seven11[\"батон хлеба\"] -=  bread\n",
    "print (\"Программист купил \" + str(bread) + \" батонов хлеба\")\n",
    "print(\"В магазине осталось \" + str(Seven11))"
   ]
  },
  {
   "cell_type": "code",
   "execution_count": 40,
   "id": "41f2bd75-5f22-4610-8fcc-1a5975daa62f",
   "metadata": {},
   "outputs": [
    {
     "name": "stdout",
     "output_type": "stream",
     "text": [
      "Совершеннолетний\n"
     ]
    }
   ],
   "source": [
    "students = {\"Иванов\": 22, \"Петрова\": 13, \"Сидоров\": 23}\n",
    "if students[\"Иванов\"] >= 18:\n",
    "    print(\"Совершеннолетний\")\n",
    "else:\n",
    "    print(\"Несовершеннолетний\")"
   ]
  }
 ],
 "metadata": {
  "kernelspec": {
   "display_name": "Python 3 (ipykernel)",
   "language": "python",
   "name": "python3"
  },
  "language_info": {
   "codemirror_mode": {
    "name": "ipython",
    "version": 3
   },
   "file_extension": ".py",
   "mimetype": "text/x-python",
   "name": "python",
   "nbconvert_exporter": "python",
   "pygments_lexer": "ipython3",
   "version": "3.10.10"
  }
 },
 "nbformat": 4,
 "nbformat_minor": 5
}
