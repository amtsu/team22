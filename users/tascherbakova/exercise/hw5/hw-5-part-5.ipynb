{
 "cells": [
  {
   "cell_type": "code",
   "execution_count": 32,
   "id": "7646ca24-919a-4ba5-99b4-857a1ef59eea",
   "metadata": {},
   "outputs": [
    {
     "name": "stdout",
     "output_type": "stream",
     "text": [
      "{1, 2, 3, 4, 5, 6, 7, 8}\n",
      "{1, 2, 3}\n"
     ]
    }
   ],
   "source": [
    "#1.Объединение и разность множеств\n",
    "set1 = {1, 2, 3, 4, 5}\n",
    "set2 = {4, 5, 6, 7, 8}\n",
    "\n",
    "def set_union(s1, s2):\n",
    "    return s1.union(s2)\n",
    "\n",
    "\n",
    "def set_difference(s1, s2):\n",
    "    return s1.difference(s2)\n",
    "    \n",
    "print(set_union(set1, set2))\n",
    "print(set_difference(set1, set2))"
   ]
  },
  {
   "cell_type": "code",
   "execution_count": 6,
   "id": "024dd8fb-7e0f-433d-b0cd-600061c6fa58",
   "metadata": {},
   "outputs": [
    {
     "name": "stdout",
     "output_type": "stream",
     "text": [
      "True\n"
     ]
    }
   ],
   "source": [
    "#2. Проверка, является ли одно множество подмножеством другого\n",
    "set1 = {1, 2, 3, 4, 5}\n",
    "set2 = {3, 4, 5}\n",
    "\n",
    "def is_subset(s1, s2):\n",
    "    return s1.issubset(s2) or s2.issubset(s1)\n",
    "    \n",
    "print(is_subset(set1,set2))"
   ]
  },
  {
   "cell_type": "code",
   "execution_count": 11,
   "id": "d78c5139-8da1-48c5-a44a-10665112bc9d",
   "metadata": {},
   "outputs": [
    {
     "name": "stdout",
     "output_type": "stream",
     "text": [
      "{1, 2, 3, 4, 5, 6, 7, 8}\n"
     ]
    }
   ],
   "source": [
    "#3. Функция для объединения нескольких множеств\n",
    "set1 = {1, 2, 3, 4, 5}\n",
    "set2 = {4, 5, 6, 7, 8}\n",
    "set3 = {8, 9, 10, 11}\n",
    "\n",
    "def set_union(*args):\n",
    "    res = set()\n",
    "    for s in args:\n",
    "        res = res.union(s)\n",
    "    return res  \n",
    "\n",
    "print(set_union(set1, set2, set3))"
   ]
  },
  {
   "cell_type": "code",
   "execution_count": 17,
   "id": "47808e33-9646-415e-85ce-91fabed2d4f5",
   "metadata": {},
   "outputs": [
    {
     "name": "stdout",
     "output_type": "stream",
     "text": [
      "{1, 2, 3, 5}\n"
     ]
    }
   ],
   "source": [
    "#4. Функция для удаления конкретного элемента из множества\n",
    "set1 = {1, 2, 3, 4, 5}\n",
    "\n",
    "def discard(s1, elem):\n",
    "    s1.discard(elem) \n",
    "    return s1\n",
    "    \n",
    "print(discard(set1,4))"
   ]
  },
  {
   "cell_type": "code",
   "execution_count": 26,
   "id": "24188fcd-b8e3-4bea-ae53-573d7385bac8",
   "metadata": {},
   "outputs": [
    {
     "name": "stdout",
     "output_type": "stream",
     "text": [
      "set()\n"
     ]
    }
   ],
   "source": [
    "#5. Функция для поиска пересечения нескольких множеств\n",
    "set1 = {1, 2, 3, 4, 5}\n",
    "set2 = {4, 5, 6, 7, 8}\n",
    "set3 = {4, 5, 6}\n",
    "intersection_set = set().intersection(set1).intersection(set2).intersection(set3)\n",
    "print(intersection_set)"
   ]
  },
  {
   "cell_type": "code",
   "execution_count": 25,
   "id": "5e80081a-ebe5-4589-bab3-36388b8fd4dd",
   "metadata": {},
   "outputs": [
    {
     "name": "stdout",
     "output_type": "stream",
     "text": [
      "1\n",
      "2\n",
      "3\n",
      "4\n",
      "5\n"
     ]
    }
   ],
   "source": [
    "#6. Функция для проверки на равенство двух множеств\n"
   ]
  },
  {
   "cell_type": "code",
   "execution_count": null,
   "id": "509b3c1e-239e-4d66-a938-1ed5972602ea",
   "metadata": {},
   "outputs": [],
   "source": []
  },
  {
   "cell_type": "code",
   "execution_count": null,
   "id": "09b0fc81-e65f-4b27-9c25-d5b0a411cfb1",
   "metadata": {},
   "outputs": [],
   "source": []
  },
  {
   "cell_type": "code",
   "execution_count": 3,
   "id": "96b62ade-9b36-415e-8c47-2a2d0344f224",
   "metadata": {},
   "outputs": [
    {
     "name": "stdout",
     "output_type": "stream",
     "text": [
      "1\n",
      "4\n",
      "9\n",
      "16\n",
      "25\n"
     ]
    }
   ],
   "source": [
    "#квадраты чисел от 1 до 5\n",
    "a = 1\n",
    "while a <= 5:\n",
    "    print(a*a)\n",
    "    a = a+1"
   ]
  },
  {
   "cell_type": "code",
   "execution_count": 4,
   "id": "9b4d7cb2-62be-4bcb-9fab-364514bbca0c",
   "metadata": {},
   "outputs": [
    {
     "name": "stdout",
     "output_type": "stream",
     "text": [
      "яблоко\n",
      "банан\n",
      "апельсин\n"
     ]
    }
   ],
   "source": [
    "fruits_quantity = {\"яблоко\": 5, \"банан\": 10, \"апельсин\": 7}\n",
    "for fruit in fruits_quantity:\n",
    "    print(fruit)"
   ]
  },
  {
   "cell_type": "code",
   "execution_count": 15,
   "id": "031235e5-2021-421a-a3bf-011467e63dce",
   "metadata": {},
   "outputs": [
    {
     "name": "stdout",
     "output_type": "stream",
     "text": [
      "банан - дорогой товар\n"
     ]
    }
   ],
   "source": [
    "fruits_prices = {\"яблоко\": 1.5, \"банан\": 2, \"апельсин\": 1.2}\n",
    "for fruit in fruits_prices:\n",
    "    if fruits_prices[fruit]>1.5:\n",
    "        print(fruit + \" - дорогой товар\") "
   ]
  },
  {
   "cell_type": "code",
   "execution_count": 9,
   "id": "edb6f5ba-40a9-455e-b3fe-4f00c3783e6a",
   "metadata": {},
   "outputs": [
    {
     "name": "stdout",
     "output_type": "stream",
     "text": [
      "Стоимость всех фруктов: 35.9\n"
     ]
    }
   ],
   "source": [
    "fruits_prices = {\"яблоко\": 1.5, \"банан\": 2, \"апельсин\": 1.2}\n",
    "fruits_quantity = {\"яблоко\": 5, \"банан\": 10, \"апельсин\": 7}\n",
    "totalCost = 0\n",
    "for fruit in fruits_prices:\n",
    "    totalCost += fruits_quantity[fruit] * fruits_prices[fruit]\n",
    "print(\"Стоимость всех фруктов: \" + str(totalCost))"
   ]
  },
  {
   "cell_type": "code",
   "execution_count": 25,
   "id": "dada27ee-42c6-4cc4-8f3a-b5d194f8a5f8",
   "metadata": {},
   "outputs": [
    {
     "name": "stdout",
     "output_type": "stream",
     "text": [
      "Иванов - 21 год\n",
      "Петрова - 13 лет\n",
      "Сидоров - 23 года\n",
      "Смирнова - 20 лет\n"
     ]
    }
   ],
   "source": [
    "def ageDefiner(age):\n",
    "    if age > 20 or age < 5: \n",
    "        if age % 10 == 1:\n",
    "            return ' год'\n",
    "        elif age % 10 < 5 and age % 10 != 0:\n",
    "            return ' года'\n",
    "    \n",
    "    return ' лет'\n",
    "\n",
    "students = {'Иванов': 21, 'Петрова': 13, 'Сидоров': 23, 'Смирнова': 20}\n",
    "for surname in students:\n",
    "    print(surname + \" - \" + str(students[surname]) + ageDefiner(students[surname]))"
   ]
  },
  {
   "cell_type": "code",
   "execution_count": null,
   "id": "d28bfe7a-4456-4e4c-9719-e1c4ac5393db",
   "metadata": {},
   "outputs": [],
   "source": []
  }
 ],
 "metadata": {
  "kernelspec": {
   "display_name": "Python 3 (ipykernel)",
   "language": "python",
   "name": "python3"
  },
  "language_info": {
   "codemirror_mode": {
    "name": "ipython",
    "version": 3
   },
   "file_extension": ".py",
   "mimetype": "text/x-python",
   "name": "python",
   "nbconvert_exporter": "python",
   "pygments_lexer": "ipython3",
   "version": "3.10.10"
  }
 },
 "nbformat": 4,
 "nbformat_minor": 5
}
