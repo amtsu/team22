{
 "cells": [
  {
   "cell_type": "code",
   "execution_count": 1,
   "id": "5e80081a-ebe5-4589-bab3-36388b8fd4dd",
   "metadata": {},
   "outputs": [
    {
     "name": "stdout",
     "output_type": "stream",
     "text": [
      "1\n",
      "2\n",
      "3\n",
      "4\n",
      "5\n"
     ]
    }
   ],
   "source": [
    "set1 = {1, 2, 3, 4, 5}\n",
    "for n in set1:\n",
    "    print(n)"
   ]
  },
  {
   "cell_type": "code",
   "execution_count": 3,
   "id": "96b62ade-9b36-415e-8c47-2a2d0344f224",
   "metadata": {},
   "outputs": [
    {
     "name": "stdout",
     "output_type": "stream",
     "text": [
      "1\n",
      "4\n",
      "9\n",
      "16\n",
      "25\n"
     ]
    }
   ],
   "source": [
    "#квадраты чисел от 1 до 5\n",
    "a = 1\n",
    "while a <= 5:\n",
    "    print(a*a)\n",
    "    a = a+1"
   ]
  },
  {
   "cell_type": "code",
   "execution_count": 4,
   "id": "9b4d7cb2-62be-4bcb-9fab-364514bbca0c",
   "metadata": {},
   "outputs": [
    {
     "name": "stdout",
     "output_type": "stream",
     "text": [
      "яблоко\n",
      "банан\n",
      "апельсин\n"
     ]
    }
   ],
   "source": [
    "fruits_quantity = {\"яблоко\": 5, \"банан\": 10, \"апельсин\": 7}\n",
    "for fruit in fruits_quantity:\n",
    "    print(fruit)"
   ]
  },
  {
   "cell_type": "code",
   "execution_count": 15,
   "id": "031235e5-2021-421a-a3bf-011467e63dce",
   "metadata": {},
   "outputs": [
    {
     "name": "stdout",
     "output_type": "stream",
     "text": [
      "банан - дорогой товар\n"
     ]
    }
   ],
   "source": [
    "fruits_prices = {\"яблоко\": 1.5, \"банан\": 2, \"апельсин\": 1.2}\n",
    "for fruit in fruits_prices:\n",
    "    if fruits_prices[fruit]>1.5:\n",
    "        print(fruit + \" - дорогой товар\") "
   ]
  },
  {
   "cell_type": "code",
   "execution_count": 9,
   "id": "edb6f5ba-40a9-455e-b3fe-4f00c3783e6a",
   "metadata": {},
   "outputs": [
    {
     "name": "stdout",
     "output_type": "stream",
     "text": [
      "Стоимость всех фруктов: 35.9\n"
     ]
    }
   ],
   "source": [
    "fruits_prices = {\"яблоко\": 1.5, \"банан\": 2, \"апельсин\": 1.2}\n",
    "fruits_quantity = {\"яблоко\": 5, \"банан\": 10, \"апельсин\": 7}\n",
    "totalCost = 0\n",
    "for fruit in fruits_prices:\n",
    "    totalCost += fruits_quantity[fruit] * fruits_prices[fruit]\n",
    "print(\"Стоимость всех фруктов: \" + str(totalCost))"
   ]
  },
  {
   "cell_type": "code",
   "execution_count": 25,
   "id": "dada27ee-42c6-4cc4-8f3a-b5d194f8a5f8",
   "metadata": {},
   "outputs": [
    {
     "name": "stdout",
     "output_type": "stream",
     "text": [
      "Иванов - 21 год\n",
      "Петрова - 13 лет\n",
      "Сидоров - 23 года\n",
      "Смирнова - 20 лет\n"
     ]
    }
   ],
   "source": [
    "def ageDefiner(age):\n",
    "    if age > 20 or age < 5: \n",
    "        if age % 10 == 1:\n",
    "            return ' год'\n",
    "        elif age % 10 < 5 and age % 10 != 0:\n",
    "            return ' года'\n",
    "    \n",
    "    return ' лет'\n",
    "\n",
    "students = {'Иванов': 21, 'Петрова': 13, 'Сидоров': 23, 'Смирнова': 20}\n",
    "for surname in students:\n",
    "    print(surname + \" - \" + str(students[surname]) + ageDefiner(students[surname]))"
   ]
  },
  {
   "cell_type": "code",
   "execution_count": null,
   "id": "d28bfe7a-4456-4e4c-9719-e1c4ac5393db",
   "metadata": {},
   "outputs": [],
   "source": []
  }
 ],
 "metadata": {
  "kernelspec": {
   "display_name": "Python 3 (ipykernel)",
   "language": "python",
   "name": "python3"
  },
  "language_info": {
   "codemirror_mode": {
    "name": "ipython",
    "version": 3
   },
   "file_extension": ".py",
   "mimetype": "text/x-python",
   "name": "python",
   "nbconvert_exporter": "python",
   "pygments_lexer": "ipython3",
   "version": "3.10.10"
  }
 },
 "nbformat": 4,
 "nbformat_minor": 5
}
