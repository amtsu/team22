{
 "cells": [
  {
   "cell_type": "code",
   "execution_count": 20,
   "id": "5e80081a-ebe5-4589-bab3-36388b8fd4dd",
   "metadata": {},
   "outputs": [
    {
     "name": "stdout",
     "output_type": "stream",
     "text": [
      "{'name': 'Tata', 'age': 39, 'city': 'Moscow', 'email': 'krisdzm@gmail.com'}\n",
      "{'name': 'Tata', 'age': 39, 'email': 'krisdzm@gmail.com'}\n",
      "{'яблоко': 5, 'банан': 13, 'апельсин': 7}\n",
      "41.9\n",
      "{'яблоко': 1.5, 'банан': 2, 'апельсин': 1.2}\n",
      "{'Иванов': 22, 'Петрова': 13, 'Сидоров': 23, 'Смирнова': 20}\n",
      "{'Иванов': 22, 'Сидоров': 23, 'Смирнова': 20}\n"
     ]
    }
   ],
   "source": [
    "person = {\"name\":\"Tata\",\"age\":39,\"city\":\"Moscow\"}\n",
    "person[\"email\"] = \"krisdzm@gmail.com\"\n",
    "print(person)\n",
    "person.pop(\"city\")\n",
    "print(person)\n",
    "fruits_quantity = {\"яблоко\": 5, \"банан\": 10, \"апельсин\": 7}\n",
    "fruits_quantity[\"банан\"] += 3\n",
    "print(fruits_quantity)\n",
    "fruits_prices = {\"яблоко\": 1.5, \"банан\": 2, \"апельсин\": 1.2}\n",
    "totalcost = fruits_quantity[\"яблоко\"] * fruits_prices[\"яблоко\"] + fruits_quantity[\"банан\"] * fruits_prices[\"банан\"] + fruits_quantity[\"апельсин\"] * fruits_prices[\"апельсин\"]\n",
    "print(totalcost)\n",
    "fruits_prices.pop(\"Томат\", None)\n",
    "print(fruits_prices)\n",
    "students = {\"Иванов\": 22, \"Петрова\": 13, \"Сидоров\": 23}\n",
    "students[\"Смирнова\"] = 20\n",
    "print(students)\n",
    "students.pop(\"Петрова\")\n",
    "print(students)\n"
   ]
  },
  {
   "cell_type": "code",
   "execution_count": null,
   "id": "805096d5-7545-4ba3-a149-4d008f495251",
   "metadata": {},
   "outputs": [],
   "source": []
  }
 ],
 "metadata": {
  "kernelspec": {
   "display_name": "Python 3 (ipykernel)",
   "language": "python",
   "name": "python3"
  },
  "language_info": {
   "codemirror_mode": {
    "name": "ipython",
    "version": 3
   },
   "file_extension": ".py",
   "mimetype": "text/x-python",
   "name": "python",
   "nbconvert_exporter": "python",
   "pygments_lexer": "ipython3",
   "version": "3.10.10"
  }
 },
 "nbformat": 4,
 "nbformat_minor": 5
}
