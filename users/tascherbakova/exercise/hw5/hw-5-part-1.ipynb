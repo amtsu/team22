{
 "cells": [
  {
   "cell_type": "code",
   "execution_count": 12,
   "id": "7e4d7323-878b-48e7-8a58-77f247f9b645",
   "metadata": {},
   "outputs": [
    {
     "name": "stdout",
     "output_type": "stream",
     "text": [
      "<class 'set'>\n",
      "{1, 2, 3, 4, 5, 6}\n",
      "{1, 3, 4, 5, 6}\n"
     ]
    }
   ],
   "source": [
    "set1 = {1, 2, 3, 4, 5}\n",
    "print(type(set1))\n",
    "set1.add(6)\n",
    "print(set1)\n",
    "set1.discard(2)\n",
    "print(set1)\n",
    "3 in set1"
   ]
  },
  {
   "cell_type": "code",
   "execution_count": 15,
   "id": "f8d0c626-f9aa-4906-bad4-f5d1b6b5447d",
   "metadata": {},
   "outputs": [
    {
     "name": "stdout",
     "output_type": "stream",
     "text": [
      "{1, 3, 4, 5, 6, 7, 8}\n",
      "{1, 3}\n"
     ]
    }
   ],
   "source": [
    "set2 = {4, 5, 6, 7, 8}\n",
    "print(set1 | set2)\n",
    "print(set1 - set2)\n"
   ]
  },
  {
   "cell_type": "code",
   "execution_count": 22,
   "id": "f4a09ddf-be1a-45a5-b425-f7e4978e2f72",
   "metadata": {},
   "outputs": [
    {
     "name": "stdout",
     "output_type": "stream",
     "text": [
      "{'синий', 'оранжевый', 'голубой', 'зеленый'}\n",
      "{'синий', 'оранжевый', 'желтый', 'голубой', 'красный', 'фиолетовый', 'Мальвиновый', 'зеленый'}\n"
     ]
    }
   ],
   "source": [
    "set1 = {\"красный\", \"оранжевый\", \"желтый\", \"зеленый\", \"голубой\", \"синий\", \"фиолетовый\"}\n",
    "set2 = {\"оранжевый\", \"зеленый\", \"голубой\", \"синий\", \"Мальвиновый\"}\n",
    "print(set1 & set2)\n",
    "rainbow_colors = set1 | set2\n",
    "print(rainbow_colors)"
   ]
  }
 ],
 "metadata": {
  "kernelspec": {
   "display_name": "Python 3 (ipykernel)",
   "language": "python",
   "name": "python3"
  },
  "language_info": {
   "codemirror_mode": {
    "name": "ipython",
    "version": 3
   },
   "file_extension": ".py",
   "mimetype": "text/x-python",
   "name": "python",
   "nbconvert_exporter": "python",
   "pygments_lexer": "ipython3",
   "version": "3.10.10"
  }
 },
 "nbformat": 4,
 "nbformat_minor": 5
}
