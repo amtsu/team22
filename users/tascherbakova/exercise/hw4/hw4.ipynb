{
 "cells": [
  {
   "cell_type": "code",
   "execution_count": 1,
   "id": "9baf22bb-4672-4fbf-833a-a1fb36a4f7f7",
   "metadata": {},
   "outputs": [
    {
     "name": "stdout",
     "output_type": "stream",
     "text": [
      "[1, 2, 3, 4, 5, 6, 9]\n",
      "[1, 2, 3, 4, 5, 6, 9, 789]\n"
     ]
    }
   ],
   "source": [
    "list_one = [1, 2, 3, 4, 5, 6, 9]\n",
    "list_two = [1, 2, 3, 4, 5, 6, 9]\n",
    "list_two.append(789)\n",
    "print(list_one, list_two, sep='\\n')"
   ]
  },
  {
   "cell_type": "code",
   "execution_count": 2,
   "id": "68b72966-e213-455a-8ae1-3290d0856d7c",
   "metadata": {},
   "outputs": [
    {
     "name": "stdout",
     "output_type": "stream",
     "text": [
      "[1, 2, 3, 4, 5, 6, 9, 789]\n",
      "[1, 2, 3, 4, 5, 6, 9, 789]\n"
     ]
    }
   ],
   "source": [
    "list_one = [1, 2, 3, 4, 5, 6, 9]\n",
    "list_two = list_one\n",
    "list_two.append(789)\n",
    "print(list_one, list_two, sep='\\n')"
   ]
  },
  {
   "cell_type": "code",
   "execution_count": 3,
   "id": "be3ce1f0-2796-46c5-912b-bf02f8e5fe0e",
   "metadata": {},
   "outputs": [
    {
     "name": "stdout",
     "output_type": "stream",
     "text": [
      "Разница в выполнении кода в том, что в 1-м случае присвоение 1-го и 2-го листа происходит по значению: каждый раз в памяти создается отдельный массив. Во 2-м случае list_two присваивается по ссылке на list_one, поэтому при изменении list_two меняются значения list_one.\n"
     ]
    }
   ],
   "source": [
    "difference_explanation = 'Разница в выполнении кода в том, что в 1-м случае присвоение 1-го и 2-го листа происходит по значению: каждый раз в памяти создается отдельный массив. Во 2-м случае list_two присваивается по ссылке на list_one, поэтому при изменении list_two меняются значения list_one.'\n",
    "print(difference_explanation)"
   ]
  },
  {
   "cell_type": "code",
   "execution_count": 8,
   "id": "da32fb03-3a69-4ef1-90b1-a7fadf3a087c",
   "metadata": {},
   "outputs": [
    {
     "name": "stdout",
     "output_type": "stream",
     "text": [
      "['З', 'а', ' ', 'с', 'т', 'е', 'к', 'л', 'о', 'м', ' ', 'л', 'е', 'ж', 'а', 'л', ' ', 'П', 'и', 'т', 'о', 'н', ',', ' ', '\\n', 'Б', 'о', 'л', 'ь', 'ш', 'о', 'й', ' ', 'и', ' ', 'т', 'о', 'л', 'с', 'т', 'ы', 'й', ',', ' ', 'к', 'а', 'к', ' ', 'б', 'а', 'т', 'о', 'н', '.', ' ', '\\n', 'В', 'в', 'е', 'р', 'х', ' ', 'п', 'о', 'п', 'о', 'л', 'з', ',', ' ', '\\n', 'З', 'а', 'т', 'е', 'м', ' ', 'в', 'е', 'р', 'н', 'у', 'л', 'с', 'я', ',', ' ', '\\n', 'К', 'р', 'у', 'г', 'л', 'ы', 'м', ' ', 'б', 'у', 'б', 'л', 'и', 'к', 'о', 'м', ' ', 'с', 'в', 'е', 'р', 'н', 'у', 'л', 'с', 'я', '.']\n",
      "115\n"
     ]
    }
   ],
   "source": [
    "a_poem = \"За стеклом лежал Питон, \\nБольшой и толстый, как батон. \\nВверх пополз, \\nЗатем вернулся, \\nКруглым бубликом свернулся.\"\n",
    "a_list = []\n",
    "a_list = list(a_poem)\n",
    "print(a_list)\n",
    "print(len(a_list))"
   ]
  },
  {
   "cell_type": "code",
   "execution_count": 9,
   "id": "317cf4b0-f0f2-4bdb-acca-0b24e28ab7db",
   "metadata": {},
   "outputs": [
    {
     "name": "stdout",
     "output_type": "stream",
     "text": [
      "['За', 'стеклом', 'лежал', 'Питон,', 'Большой', 'и', 'толстый,', 'как', 'батон.', 'Вверх', 'пополз,', 'Затем', 'вернулся,', 'Круглым', 'бубликом', 'свернулся.']\n",
      "16\n"
     ]
    }
   ],
   "source": [
    "another_list = a_poem.split()\n",
    "print(another_list)\n",
    "print(len(another_list))"
   ]
  },
  {
   "cell_type": "code",
   "execution_count": 10,
   "id": "5a59c29e-8e58-4f2b-98fc-9b4cdeed0ffd",
   "metadata": {},
   "outputs": [
    {
     "name": "stdout",
     "output_type": "stream",
     "text": [
      "['За стеклом лежал Питон, ', 'Большой и толстый, как батон. ', 'Вверх пополз, ', 'Затем вернулся, ', 'Круглым бубликом свернулся.']\n",
      "5\n"
     ]
    }
   ],
   "source": [
    "one_more_list = a_poem.split('\\n')\n",
    "print(one_more_list)\n",
    "print(len(one_more_list))"
   ]
  },
  {
   "cell_type": "code",
   "execution_count": 23,
   "id": "e0f693a3-3ba9-432b-8c8c-eacb38612c76",
   "metadata": {},
   "outputs": [
    {
     "name": "stdout",
     "output_type": "stream",
     "text": [
      "[1, 1.0, 'Hello', [1, 1.0, 'hello'], {'tree': '5-2-1', 'dog': '+20-1-1'}, {'a', 'b'}]\n",
      "6\n",
      "<class 'dict'>\n",
      "[1, 1.0, 'Hello', [1, 1.0, 'hello'], {'tree': '5-2-1', 'dog': '+20-1-1'}, {'a', 'b'}, [100]]\n",
      "<class 'list'>\n"
     ]
    }
   ],
   "source": [
    "solyanka_list = [1, 1.0, 'Hello',[1,1.0,'hello'], {\"tree\" : \"5-2-1\", \"dog\" : \"+20-1-1\"}, {\"a\", \"b\"}]\n",
    "print(solyanka_list)\n",
    "print(len(solyanka_list))\n",
    "print(type(solyanka_list[4]))\n",
    "solyanka_list.append([100])\n",
    "print(solyanka_list)\n",
    "print(type(solyanka_list[-1]))"
   ]
  },
  {
   "cell_type": "code",
   "execution_count": 29,
   "id": "585468cc-e524-41ac-8c53-9aa0da9f8816",
   "metadata": {},
   "outputs": [
    {
     "name": "stdout",
     "output_type": "stream",
     "text": [
      "23\n",
      "2\n",
      "True\n",
      "False\n",
      "True\n",
      "False\n"
     ]
    }
   ],
   "source": [
    "fibonacci_list = [0, 1, 1, 2, 3, 5, 8, 13, 21, 34, 55, 89, 144, 233, 377, 610, 987, 1597, 2584, 4181, 6765, 10946, 17711]\n",
    "print(len(fibonacci_list))\n",
    "print(fibonacci_list.count(1))\n",
    "print(21 in fibonacci_list)\n",
    "print(33 in fibonacci_list)\n",
    "print(987 in fibonacci_list)\n",
    "print(9999 in fibonacci_list)"
   ]
  },
  {
   "cell_type": "code",
   "execution_count": 31,
   "id": "565026d0-91be-42af-967c-f71eec420c79",
   "metadata": {},
   "outputs": [
    {
     "name": "stdout",
     "output_type": "stream",
     "text": [
      "[1, 2, 5, 4, 3, 6]\n"
     ]
    }
   ],
   "source": [
    "a_list = [1,2,5,4,3,6]\n",
    "print(a_list)"
   ]
  },
  {
   "cell_type": "code",
   "execution_count": 33,
   "id": "a5dd984f-9e63-420c-924b-440ebedbae51",
   "metadata": {},
   "outputs": [
    {
     "name": "stdout",
     "output_type": "stream",
     "text": [
      "[1, 2, 3, 4, 5, 6]\n"
     ]
    }
   ],
   "source": [
    "buffer = a_list[2]\n",
    "a_list[2] = a_list[4]\n",
    "a_list[4] = buffer\n",
    "print(a_list)"
   ]
  },
  {
   "cell_type": "code",
   "execution_count": 39,
   "id": "226abf13-07f0-4565-a8e6-0cedf0106dd3",
   "metadata": {},
   "outputs": [
    {
     "name": "stdout",
     "output_type": "stream",
     "text": [
      "['Кто битым жизнью был,', 'тот большего добьётся,', 'Пуд соли съевший выше ценит мёд.', 'Кто слёзы лил, тот искренней смеётся,', 'Кто умирал, тот знает, что живёт.']\n"
     ]
    }
   ],
   "source": [
    "poem = [(2, \"тот большего добьётся,\"), (5, \"Кто умирал, тот знает, что живёт.\"),(1, \"Кто битым жизнью был,\" ),\n",
    "(3, \"Пуд соли съевший выше ценит мёд.\"),\n",
    "(4, \"Кто слёзы лил, тот искренней смеётся,\")]\n",
    "dict_poem = dict(poem)\n",
    "a_poem = []\n",
    "a_poem.append(dict_poem[1])\n",
    "a_poem.append(dict_poem[2])\n",
    "a_poem.append(dict_poem[3])\n",
    "a_poem.append(dict_poem[4])\n",
    "a_poem.append(dict_poem[5])\n",
    "print(a_poem)"
   ]
  },
  {
   "cell_type": "code",
   "execution_count": 62,
   "id": "5e3bcd6b-6ecc-44fd-9be4-b102cc7d8660",
   "metadata": {},
   "outputs": [
    {
     "name": "stdout",
     "output_type": "stream",
     "text": [
      "['Пуд багов съевший, выше ценит чистый код.']\n",
      "1\n"
     ]
    }
   ],
   "source": [
    "story_list = []\n",
    "story_list.append('Кто битым за дедлайн был,')\n",
    "story_list.append('тот больше не сольется.')\n",
    "story_list.append('Пуд багов съевший, выше ценит чистый код.')\n",
    "story_list.append('Кто дошик ел, тот рейтинг ценит свой.')\n",
    "story_list.append('Кто крашился, тот знает, что живой.')\n",
    "\n",
    "true_story_list = [story_list[2]]\n",
    "print(true_story_list)\n",
    "print(len(true_story_list))"
   ]
  },
  {
   "cell_type": "code",
   "execution_count": 63,
   "id": "bcea3ff5-1156-425b-b68c-d60df8240417",
   "metadata": {},
   "outputs": [
    {
     "name": "stdout",
     "output_type": "stream",
     "text": [
      "['Пуд багов съевший, выше ценит чистый код.', 'Кто дошик ел, тот рейтинг ценит свой.']\n",
      "2\n"
     ]
    }
   ],
   "source": [
    "true_story_list.append(story_list[3])\n",
    "print(true_story_list)\n",
    "print(len(true_story_list))"
   ]
  },
  {
   "cell_type": "code",
   "execution_count": 65,
   "id": "c744d78e-b4a8-439c-9b33-d3be4ea56e95",
   "metadata": {},
   "outputs": [
    {
     "name": "stdout",
     "output_type": "stream",
     "text": [
      "['Кто дошик ел, тот рейтинг ценит свой.', 'Кто крашился, тот знает, что живой.']\n",
      "['Пуд багов съевший, выше ценит чистый код.', 'Кто дошик ел, тот рейтинг ценит свой.', ['Кто дошик ел, тот рейтинг ценит свой.', 'Кто крашился, тот знает, что живой.']]\n",
      "3\n"
     ]
    }
   ],
   "source": [
    "true_story_slice = [story_list[3],story_list[4]]\n",
    "print(true_story_slice)\n",
    "true_story_list.append(true_story_slice)\n",
    "print(true_story_list)\n",
    "print(len(true_story_list))"
   ]
  },
  {
   "cell_type": "code",
   "execution_count": 66,
   "id": "f32275ab-a152-4fb3-b38d-330559ed66ed",
   "metadata": {},
   "outputs": [
    {
     "name": "stdout",
     "output_type": "stream",
     "text": [
      "[]\n"
     ]
    }
   ],
   "source": [
    "true_story_slice = []\n",
    "print(true_story_slice)"
   ]
  },
  {
   "cell_type": "code",
   "execution_count": 68,
   "id": "e9500c7b-0951-40a1-91ab-55135a5f662a",
   "metadata": {},
   "outputs": [
    {
     "name": "stdout",
     "output_type": "stream",
     "text": [
      "['Кто битым за дедлайн был,', 'Кто битым за дедлайн был,', 'Пуд багов съевший, выше ценит чистый код.', 'Кто дошик ел, тот рейтинг ценит свой.', ['Кто дошик ел, тот рейтинг ценит свой.', 'Кто крашился, тот знает, что живой.']]\n",
      "5\n"
     ]
    }
   ],
   "source": [
    "true_story_list = [story_list[0]] + true_story_list\n",
    "print(true_story_list)\n",
    "print(len(true_story_list))"
   ]
  },
  {
   "cell_type": "code",
   "execution_count": 73,
   "id": "0810e138-ea99-4206-98af-c5f8849e713d",
   "metadata": {},
   "outputs": [
    {
     "name": "stdout",
     "output_type": "stream",
     "text": [
      "[]\n",
      "0\n"
     ]
    }
   ],
   "source": [
    "del true_story_list[:]\n",
    "print(true_story_list)\n",
    "print(len(true_story_list))"
   ]
  },
  {
   "cell_type": "code",
   "execution_count": 74,
   "id": "4536ddcc-a7b6-40a5-bf57-897094e92d2d",
   "metadata": {},
   "outputs": [
    {
     "ename": "IndexError",
     "evalue": "list assignment index out of range",
     "output_type": "error",
     "traceback": [
      "\u001b[0;31m---------------------------------------------------------------------------\u001b[0m",
      "\u001b[0;31mIndexError\u001b[0m                                Traceback (most recent call last)",
      "Cell \u001b[0;32mIn[74], line 1\u001b[0m\n\u001b[0;32m----> 1\u001b[0m \u001b[38;5;28;01mdel\u001b[39;00m true_story_list[\u001b[38;5;241m-\u001b[39m\u001b[38;5;241m1\u001b[39m]\n",
      "\u001b[0;31mIndexError\u001b[0m: list assignment index out of range"
     ]
    }
   ],
   "source": [
    "del true_story_list[-1]"
   ]
  },
  {
   "cell_type": "code",
   "execution_count": null,
   "id": "7a5742bf-3cb7-41ac-825e-3bffbd786cb1",
   "metadata": {},
   "outputs": [],
   "source": []
  }
 ],
 "metadata": {
  "kernelspec": {
   "display_name": "Python 3 (ipykernel)",
   "language": "python",
   "name": "python3"
  },
  "language_info": {
   "codemirror_mode": {
    "name": "ipython",
    "version": 3
   },
   "file_extension": ".py",
   "mimetype": "text/x-python",
   "name": "python",
   "nbconvert_exporter": "python",
   "pygments_lexer": "ipython3",
   "version": "3.10.10"
  }
 },
 "nbformat": 4,
 "nbformat_minor": 5
}
