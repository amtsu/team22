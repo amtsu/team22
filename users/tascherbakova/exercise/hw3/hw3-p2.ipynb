{
 "cells": [
  {
   "cell_type": "code",
   "execution_count": 1,
   "id": "d00a5bf2-a0d5-45eb-96d2-d91f4702ca42",
   "metadata": {},
   "outputs": [
    {
     "data": {
      "text/plain": [
       "80"
      ]
     },
     "execution_count": 1,
     "metadata": {},
     "output_type": "execute_result"
    }
   ],
   "source": [
    "10 * (5 + 3)"
   ]
  },
  {
   "cell_type": "code",
   "execution_count": 2,
   "id": "9f69754d-3647-40d7-82d2-4791cfc97fb6",
   "metadata": {},
   "outputs": [
    {
     "data": {
      "text/plain": [
       "7.0"
      ]
     },
     "execution_count": 2,
     "metadata": {},
     "output_type": "execute_result"
    }
   ],
   "source": [
    "(20 - 6) / 2"
   ]
  },
  {
   "cell_type": "code",
   "execution_count": 3,
   "id": "efb40110-72ee-41c8-9a34-c88451305833",
   "metadata": {},
   "outputs": [
    {
     "data": {
      "text/plain": [
       "32"
      ]
     },
     "execution_count": 3,
     "metadata": {},
     "output_type": "execute_result"
    }
   ],
   "source": [
    "2 ** 5"
   ]
  },
  {
   "cell_type": "code",
   "execution_count": 4,
   "id": "0573df6c-cc20-46a5-bd9f-05faa51df748",
   "metadata": {},
   "outputs": [
    {
     "data": {
      "text/plain": [
       "6"
      ]
     },
     "execution_count": 4,
     "metadata": {},
     "output_type": "execute_result"
    }
   ],
   "source": [
    "25 // 4"
   ]
  },
  {
   "cell_type": "code",
   "execution_count": 5,
   "id": "0898b6a5-69ef-45e1-ab78-ec7d73a8376f",
   "metadata": {},
   "outputs": [
    {
     "data": {
      "text/plain": [
       "1"
      ]
     },
     "execution_count": 5,
     "metadata": {},
     "output_type": "execute_result"
    }
   ],
   "source": [
    "25 % 4"
   ]
  },
  {
   "cell_type": "code",
   "execution_count": 7,
   "id": "763f450f-b6ec-4f70-9df8-af3ac8d7c680",
   "metadata": {},
   "outputs": [
    {
     "data": {
      "text/plain": [
       "-4.0"
      ]
     },
     "execution_count": 7,
     "metadata": {},
     "output_type": "execute_result"
    }
   ],
   "source": [
    "number = -3.14\n",
    "number // 1"
   ]
  },
  {
   "cell_type": "code",
   "execution_count": 8,
   "id": "1d01aa00-da9b-4a2c-87ec-b1808414733a",
   "metadata": {},
   "outputs": [
    {
     "data": {
      "text/plain": [
       "0.8599999999999999"
      ]
     },
     "execution_count": 8,
     "metadata": {},
     "output_type": "execute_result"
    }
   ],
   "source": [
    "number % 1"
   ]
  },
  {
   "cell_type": "code",
   "execution_count": 10,
   "id": "6d65301b-f4c6-45ad-bb94-b0fa8bb45f15",
   "metadata": {},
   "outputs": [
    {
     "data": {
      "text/plain": [
       "35"
      ]
     },
     "execution_count": 10,
     "metadata": {},
     "output_type": "execute_result"
    }
   ],
   "source": [
    "a = 5\n",
    "b = 7\n",
    "a * b"
   ]
  },
  {
   "cell_type": "code",
   "execution_count": 11,
   "id": "30b37688-4904-48c2-9051-568ee2918b6d",
   "metadata": {},
   "outputs": [
    {
     "data": {
      "text/plain": [
       "145.70000000000002"
      ]
     },
     "execution_count": 11,
     "metadata": {},
     "output_type": "execute_result"
    }
   ],
   "source": [
    "a = 3.5\n",
    "b = 6.4\n",
    "c = 3.4\n",
    "d = 4\n",
    "S = 11\n",
    "h = 3.1\n",
    "a * b * h + c * d * h + S * h"
   ]
  },
  {
   "cell_type": "code",
   "execution_count": 18,
   "id": "37b37e46-d6b9-484e-8c91-a72637ac0b53",
   "metadata": {},
   "outputs": [
    {
     "data": {
      "text/plain": [
       "(1.0, -5.0)"
      ]
     },
     "execution_count": 18,
     "metadata": {},
     "output_type": "execute_result"
    }
   ],
   "source": [
    "a = 2\n",
    "b = 8\n",
    "c = -10\n",
    "D = b ** 2 - 4 * a * c\n",
    "x1 = (- b + D ** 0.5) / (2 * a)\n",
    "x2 = (- b - D ** 0.5) / (2 * a)\n",
    "x1, x2\n",
    "\n"
   ]
  },
  {
   "cell_type": "code",
   "execution_count": 1,
   "id": "86e04e48-e2ac-4cc1-a7c0-fbe3bbe0f8aa",
   "metadata": {},
   "outputs": [
    {
     "name": "stdout",
     "output_type": "stream",
     "text": [
      "Hello world!\n"
     ]
    }
   ],
   "source": [
    "string1 = \"hello\"\n",
    "string2 = \"world!\"\n",
    "string3 = string1[0].upper() + string1[1:] + ' ' + string2\n",
    "print(string3)"
   ]
  },
  {
   "cell_type": "code",
   "execution_count": 3,
   "id": "0c343f2f-a0e6-4d2c-bf84-05a77fa52a8c",
   "metadata": {},
   "outputs": [
    {
     "name": "stdout",
     "output_type": "stream",
     "text": [
      "12\n"
     ]
    }
   ],
   "source": [
    "print(len(string3))"
   ]
  },
  {
   "cell_type": "code",
   "execution_count": 7,
   "id": "cd161f6e-44a8-49a6-944d-ede43f3d912a",
   "metadata": {},
   "outputs": [
    {
     "name": "stdout",
     "output_type": "stream",
     "text": [
      "lalalalalalalalalalalalalalalalalalalalalalalalala\n"
     ]
    }
   ],
   "source": [
    "print('la'*25)"
   ]
  },
  {
   "cell_type": "code",
   "execution_count": 14,
   "id": "09543074-44eb-40d2-a7fc-b054be99e8e8",
   "metadata": {},
   "outputs": [
    {
     "name": "stdout",
     "output_type": "stream",
     "text": [
      "[1, 'hi', 3, 4, 5]\n"
     ]
    }
   ],
   "source": [
    "numbers = [1, 2, 3, 4, 5]\n",
    "numbers[1] = 'hi'\n",
    "print (numbers)"
   ]
  },
  {
   "cell_type": "code",
   "execution_count": 15,
   "id": "cad5566e-783d-416e-8ac9-ea8bce608764",
   "metadata": {},
   "outputs": [
    {
     "name": "stdout",
     "output_type": "stream",
     "text": [
      "3\n"
     ]
    }
   ],
   "source": [
    "print(numbers[2])"
   ]
  },
  {
   "cell_type": "code",
   "execution_count": 16,
   "id": "eb918465-1c75-4ca3-b6a1-3e423ce49cc0",
   "metadata": {},
   "outputs": [
    {
     "name": "stdout",
     "output_type": "stream",
     "text": [
      "[1, 'hi', 3, 4, [8, 6, 4]]\n"
     ]
    }
   ],
   "source": [
    "numbers[4] = [8, 6, 4]\n",
    "print(numbers)"
   ]
  },
  {
   "cell_type": "code",
   "execution_count": 11,
   "id": "85495ba3-1a40-4b49-b256-d2bf169cffd5",
   "metadata": {},
   "outputs": [
    {
     "name": "stdout",
     "output_type": "stream",
     "text": [
      "[3, 4, 5, 6]\n"
     ]
    }
   ],
   "source": [
    "numbers = [1, 2, 3, 4, 5, 6, 7, 8, 9, 10]\n",
    "print(numbers[2:6])"
   ]
  },
  {
   "cell_type": "code",
   "execution_count": null,
   "id": "e56ce6b9-6b02-4e46-adeb-417768fa0228",
   "metadata": {},
   "outputs": [],
   "source": []
  }
 ],
 "metadata": {
  "kernelspec": {
   "display_name": "Python 3 (ipykernel)",
   "language": "python",
   "name": "python3"
  },
  "language_info": {
   "codemirror_mode": {
    "name": "ipython",
    "version": 3
   },
   "file_extension": ".py",
   "mimetype": "text/x-python",
   "name": "python",
   "nbconvert_exporter": "python",
   "pygments_lexer": "ipython3",
   "version": "3.10.10"
  }
 },
 "nbformat": 4,
 "nbformat_minor": 5
}
