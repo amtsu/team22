{
 "cells": [
  {
   "cell_type": "code",
   "execution_count": 2,
   "id": "1b058d96-7454-4659-b3e4-735b81c3da13",
   "metadata": {},
   "outputs": [
    {
     "data": {
      "text/plain": [
       "'eip ekil i'"
      ]
     },
     "execution_count": 2,
     "metadata": {},
     "output_type": "execute_result"
    }
   ],
   "source": [
    "l = [1,2,"
   ]
  },
  {
   "cell_type": "code",
   "execution_count": null,
   "id": "71782f9c-cffb-49f9-b320-ad4cc1685da6",
   "metadata": {},
   "outputs": [],
   "source": []
  }
 ],
 "metadata": {
  "kernelspec": {
   "display_name": "Python 3 (ipykernel)",
   "language": "python",
   "name": "python3"
  },
  "language_info": {
   "codemirror_mode": {
    "name": "ipython",
    "version": 3
   },
   "file_extension": ".py",
   "mimetype": "text/x-python",
   "name": "python",
   "nbconvert_exporter": "python",
   "pygments_lexer": "ipython3",
   "version": "3.10.10"
  }
 },
 "nbformat": 4,
 "nbformat_minor": 5
}
