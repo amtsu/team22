{
 "cells": [
  {
   "cell_type": "markdown",
   "metadata": {
    "id": "gErDVUhdfTfQ"
   },
   "source": [
    "# Команданя строка        \n",
    "- консольные команды\n",
    "- фаловая система (/ и root  ~ нет дисков C, D, ...)\n",
    "- работа с фалами в консоли\n",
    "- папка(директория)\n",
    "\n",
    "\n"
   ]
  },
  {
   "cell_type": "markdown",
   "metadata": {
    "id": "5KKY05xofTfQ"
   },
   "source": [
    "<img src=\"https://serverspace.ru/wp-content/uploads/2020/01/66_fhs.png\">"
   ]
  },
  {
   "cell_type": "markdown",
   "metadata": {
    "id": "C4dqYtNjR4tI"
   },
   "source": [
    "Зачем уметь работать в консоли и знать команды:\n",
    "\n",
    "- доступ на сервера осуществяется в основном с помощью консоли\n",
    "- на серверах вам может понадобиться запускать разные приложения, изменять файлы конфигов программ, анализировать логи программ, осуществялть контроль ресурсов достпых на сервере таких как процессор, память, диск, сеть, гпу"
   ]
  },
  {
   "cell_type": "markdown",
   "metadata": {
    "id": "EmklGX227V8C"
   },
   "source": [
    "Команды по группам"
   ]
  },
  {
   "cell_type": "markdown",
   "metadata": {
    "id": "TvNuzMwF7Zzs"
   },
   "source": [
    "Дерево катлогов и перемещение по дереву:  \n",
    "\n",
    "- ls  \n",
    "посмотреть содеримое текущей директории(папки)\n",
    "\n",
    "- ls -la  \n",
    "расширенный вывод\n",
    "\n",
    "- pwd  \n",
    "посмотреть текущий путь\n",
    "\n",
    "- cd /etc\n",
    "изменение рабочеого каталога (перейти в папку /etc)\n",
    "\n",
    "- cd ..  \n",
    "поднять на директорию выше вверх по дерево\n",
    "\n",
    "- cd -  \n",
    "перейти в предыдущий рабочий каталог ( если вы были в /home, затем выподнлили несоколько команд и потом перешли перешли в /usr/src, то введя команду /home вы веренетесь назад в каталог /home)\n",
    "\n",
    "- .  \n",
    "так обозначается текущий каталог\n",
    "\n",
    "- /  \n",
    "это корень деерева каталогов(аналог \"мой компьютер в виндоус\")\n",
    "\n",
    "- ~  \n",
    "обозначение домашнего каталог для вашего пользователя"
   ]
  },
  {
   "cell_type": "markdown",
   "metadata": {
    "id": "fvDWnrGw_N8M"
   },
   "source": [
    "Задание:  \n",
    "\n",
    " - Выведите путь к каталогу в котором сейчас находитесь(он также называется рабочий каталог)\n",
    " - Выведите какие файлы в нем содержатся\n",
    " - Выведите содержимое корня\n",
    " - Перейдите в папку(директорию) /home\n",
    " - Вывкдите содержимое папки с информацией о размере файлов и дате их последней модификации"
   ]
  },
  {
   "cell_type": "markdown",
   "metadata": {
    "id": "bM54CrZE9Z6x"
   },
   "source": [
    "Базовая команды по работе с фалами и директориями по их созданию, и размещению на файловой системе\n",
    "\n",
    "- mkdir github  \n",
    "для создания дериктории(папки) с именем github в текущем рабочем каталоге (обработке внимание что большие и маленькие буквы это разные символы и одноверемнно в одном месте могут быть 2 папки TeSt и test)\n",
    "\n",
    "- touch empty.txt  \n",
    "создать пустой empty.txt\n",
    "\n",
    "- cp empty.txt copy_empty.txt  \n",
    "скопировать empty.txt в фаил с новым именем copy_empty.txt\n",
    "\n",
    "- cp empty.txt github/copy_empty.txt  \n",
    "скопировать empty.txt в фаил папку github с именем copy_empty.txt\n",
    "\n",
    "- cp -r github test/last  \n",
    "скопировать папку с ее содерджимы в папку test с новым именем для копируемой папки last\n",
    "\n",
    "- mv copy_empty.txt copy_2_empty.txt  \n",
    "перемещение файлов, а если в рамках одной папки то это аналог переименованию\n",
    "\n",
    "- mv copy_2_empty.txt new/copy_2_empty.txt\n",
    "перемещение файлы в папку new\n",
    "\n",
    "- rm empty.txt  \n",
    "удалить фаил empty.txt\n",
    "\n",
    "- rm -r github\n",
    "удалить папку с всем содержимым\n",
    "\n",
    "- rm -rf github\n",
    "удалить папку с всем содержимым без пожтвреждений\n"
   ]
  },
  {
   "cell_type": "markdown",
   "metadata": {
    "id": "jhccXZpwBxKE"
   },
   "source": [
    "Задание:  \n",
    "- создайте папку с именем home_work_1\n",
    "- создайте в папке home_work_1 фаил с именем file_1\n",
    "- создайте в папке home_work_1 папку work_dir\n",
    "- скопируйте фаил file_1 в папку work_dir чтобы в папке он появился с новым именем file_1_copy\n",
    "- скопируйте папку work_dir с всем ее содержимым в папку work_dir_new\n",
    "- переименуйте фаил file_1 в file_1_new_name\n",
    "- удалите file_1_new_name\n",
    "- удалите папку work_dir_new"
   ]
  },
  {
   "cell_type": "markdown",
   "metadata": {
    "id": "qwPMofYbfLJR"
   },
   "source": [
    "Полезные команды\n",
    "\n",
    "- echo 'test 1 2 3'  \n",
    "выводит на экран строку 'test 1 2 3'\n",
    "\n",
    "- history\n",
    "вверх вниз\n",
    "таб\n",
    "histotory | grep\n",
    "ctrl + r\n",
    "\tлево\n",
    "history  \n",
    "!1\n",
    "!1:p"
   ]
  },
  {
   "cell_type": "markdown",
   "metadata": {
    "id": "K5kqrp0pUIEI"
   },
   "source": [
    "Консольные редакторы\n",
    "\n",
    "vi (или vim) - текстовые редакторы\n",
    "\n",
    "- vi file1  \n",
    "откроет фаил для того чтобы внести в фаил изменния, сейчас реадактор находится в реиме команд\n",
    "\n",
    "- для того чтобы что добавить что то в фаил нужно перейти в редим в ставки, для этого нажать i, и можно вводить текст\n",
    "\n",
    "- после внесния ихмений надо сохрать измения и выйти из файла, для этого нажмите esc (это позволит выйти из режима редактирования), введите :, затем wq\n",
    "\n",
    "- если нехотите сохранть изменния нажмите esc, введите :, введите q!\n",
    "\n",
    "\n",
    "nano  \n",
    "- еще один редактор\n",
    "\n",
    "\n",
    "mc\n",
    "- файловый менеджер, можно в нем радктрировать файлы, просматривать каталоги, перемещать удалять файлы"
   ]
  },
  {
   "cell_type": "markdown",
   "metadata": {
    "id": "hbbSX6mBZTfA"
   },
   "source": [
    "Задание:\n",
    "\n",
    "- создайте текстовый фаил file1 и добавьте в этот фаил 3 строки:  \n",
    "hello world  \n",
    "Hi  \n",
    "2000 + 11\n",
    "\n",
    "- создайте текстовый фаил file2 и добавьте в этот фаил 4 строки:  \n",
    "::1 - - [20/Jan/2024:12:14:04 +0000] \"GET /empty.test HTTP/1.1\" 200 0 \"-\" \"curl/7.29.0\" \"-\" 0.000  \n",
    "::1 - - [20/Jan/2024:12:14:04 +0000] \"GET /1mb.test HTTP/1.1\" 200 1048576 \"-\" \"curl/7.29.0\" \"-\" 0.000  \n",
    "::1 - - [20/Jan/2024:12:14:07 +0000] \"GET /10mb.test HTTP/1.1\" 200 10485760 \"-\" \"curl/7.29.0\" \"-\" 2.063  \n",
    "::1 - - [20/Jan/2024:12:15:10 +0000] \"GET /100mb.test HTTP/1.1\" 200 104857600 \"-\" \"curl/7.29.0\" \"-\" 47.318\n",
    "\n"
   ]
  },
  {
   "cell_type": "markdown",
   "metadata": {
    "id": "g6xSpqHaOgh0"
   },
   "source": [
    "Вывод содержимого файлов\n",
    "\n",
    "- cat file1  \n",
    "вывод содержимого файла file1 в консоль\n",
    "\n",
    "- head file1  \n",
    "вывод первых 10 строчек файла в консоль\n",
    "\n",
    "- tail -n3 file2  \n",
    "вывод последних 3(можно указать люьбое число) строчек в консоль\n",
    "\n",
    "- tail -f file1  \n",
    "запскет процесс вывода полсдених строчек файла в коносль, если в этот момент любая другая программа что то запишет в фаил то содержимое файла выведется на экран(очень полезно для анализа логов) чтобы выйти из режима нажмите ctrl + c\n",
    "\n",
    "- less file1  \n",
    "выводит на экран фаил не целеком а чатсями, можно использовать стрелки вверх и вниз чтобы перемещаться по файлу, или нажать пробел чтобы оторбазить следюущую страницу, чтобы выйти из этого режимоа нажмите q"
   ]
  },
  {
   "cell_type": "markdown",
   "metadata": {
    "id": "-6OLM6kBqWUL"
   },
   "source": [
    "Задание\n",
    "\n",
    "- выведите на экран file1\n",
    "- выведите первые 2 строки file1\n",
    "- выведите последние 2 строки file1"
   ]
  },
  {
   "cell_type": "markdown",
   "metadata": {
    "id": "k_Uhr5Q9PUYq"
   },
   "source": [
    "Фильтрация и сортировка вывод содержимого файлов\n",
    "\n",
    "- find /home/ -name \"d12\"  \n",
    "искать все файлы в подпапках папки /home/ у которых в названии присутсвует d12\n",
    "\n",
    "- grep 'NOV' file1  \n",
    "выводить на экран строчки из файла только те которые содержат подстроку NOV\n",
    "\n",
    "- grep -rni 'NOV' home_work_1  \n",
    "вывеси на экран все строчки из всех фалов, которые содержатся в всех папках и подпапках папки home_work_1\n",
    "\n",
    "- awk -F' ' '{print $1 ,$3}' home_work_1/test.txt  \n",
    "команда разобьет каждую строку по пробелам и выведет 1 и 3 элемнт каждой строки  \n",
    "\n",
    "- sort file1  \n",
    "сортирует все строчки файла file1 и выводит их на экран\n",
    "\n",
    "- uniq -n  \n",
    "выводит на экран уникальные строчки из файла с указанием числа повторяющихся строк, учитываются только соседние одинаковые строчки\n",
    "\n",
    "- diff file1 file2  \n",
    "сравнивает два фйла и выводит различие в файлах\n",
    "\n",
    "- wc -l file1  \n",
    "выводит на экран число строк в файле file1"
   ]
  },
  {
   "cell_type": "markdown",
   "metadata": {
    "id": "6x47TMpar4jC"
   },
   "source": [
    "Задание\n",
    "- найдите файлы с названием fil в /home\n",
    "- выведеите только размеры файлов в ваше директории\n",
    "- найдите строки в файлах из домашней дитерктории, которые содеражат подстроку GET\n",
    "\n"
   ]
  },
  {
   "cell_type": "markdown",
   "metadata": {
    "id": "DGQGKCkrRWg4"
   },
   "source": [
    "Пренаправление ввода вывод\n",
    "\n",
    "- ls -la > save_ls_la.\n",
    "сохраняет вывод команды ls -la в фаил save_ls_la (все содердимое файла перезпишится данными вывода команды ls -la)\n",
    "\n",
    "- ls -la >> save_ls_la  \n",
    "в данном случае вывод комнады ls -la добавится в конец файла save_ls_la, и содержимое файла расширится новыми данными\n",
    "\n",
    "- echo 'test 1 2 3' > save_echo\n",
    "выводит в фаил строку 'test 1 2 3'\n",
    "\n",
    "- sort < save_ls_la  \n",
    "подаст содержимое файла save_ls_la на стандартный поток ввода команды sort, команда sort отсортирует поданные данные и выведет на экран"
   ]
  },
  {
   "cell_type": "markdown",
   "metadata": {
    "id": "N4HWA-0FtrBE"
   },
   "source": [
    "Задание\n",
    "\n",
    "- сохарините в фаил все части URI полученные на предыдущем шаге"
   ]
  },
  {
   "cell_type": "markdown",
   "metadata": {
    "id": "HQVbQCS_BxQo"
   },
   "source": [
    "Организация последовательности выподенния команд:\n",
    "\n",
    "- ;  \n",
    "разделитель используется когда нужно выполнить все команды подрят не смотря на то успешно они выподнятся или нет.  \n",
    "pwd; ls -la; cd test  \n",
    "данная последовательность команд сначал выполнит команду pwd выведет на экран путь к рабочему каталогу, затем выполнит команду ls -la выведет на экран содержимое рабочего каталог, и уже потом будет выполнен переход в папку cd test\n",
    "\n",
    "- &&  \n",
    "если команжы обеденены таким образом то последующая команда выполнится только при условии что предыдущаю выполниласьт успешно\n",
    "\n",
    "- ||  \n",
    "в данном случае следующая команда выподнится только если первая команда завершилась ошибкой"
   ]
  },
  {
   "cell_type": "markdown",
   "metadata": {
    "id": "nrpmtK9yuXzI"
   },
   "source": [
    "Задачи\n",
    "\n",
    "- выполните команды   \n",
    "ls -la && rm test123 && pwd  \n",
    "ls -la; rm test123; pwd  \n",
    "и объясните азхницу в их работе"
   ]
  },
  {
   "cell_type": "markdown",
   "metadata": {
    "id": "ek_bxEnvdU6a"
   },
   "source": [
    "Перенаправления вывода команд, т.е. вывод одной команды направляем на вход другой команды\n",
    "\n",
    "- |  \n",
    "ls -la | grep Jan | sort  \n",
    "сначала выполнится команда ls -la и вместо того чтобы выводить на экран она отравит вывод на вход команды grep, в свою очередб команда grep возьмет поданный ей фаил выберет в нем все строки содеражшие Jan и отправит их на вход команде sort, и вот уже команда sort возьмет все строки с предыдущего шага, отсортирует их и выведет на экран  \n",
    "ls -la | awk '{print $6}' | sort | uniq -c\n"
   ]
  },
  {
   "cell_type": "markdown",
   "metadata": {
    "id": "qhsyJev2t6NW"
   },
   "source": [
    "Задачи\n",
    "\n",
    "- найдите строки в файлах из домашней дитерктории, которые содеражат подстроку GET, выведите только часть URI(/empty.test  - это то что находится между GET и HTTP) в найденых файлах и отсортируйте их по возратсанию\n",
    "- посчитай сколько получилось таких частей URI"
   ]
  },
  {
   "cell_type": "markdown",
   "metadata": {
    "id": "RGI015GHe1cf"
   },
   "source": [
    "Переменные окружения\n",
    "\n",
    "- env  \n",
    "выводит все переменные окружения\n",
    "\n",
    "- echo $PATH  \n",
    "выводит занчение переменной PATH - в ней содержатся все пути по которым ищется команжа которую вы ввели в консоли, если в данных папках нет указканной команды то выдается ошибка"
   ]
  },
  {
   "cell_type": "markdown",
   "metadata": {
    "id": "7V_0Xrl-uyOi"
   },
   "source": [
    "Задачи\n",
    "\n",
    "- выведите все параметры которые содержат символ А"
   ]
  },
  {
   "cell_type": "markdown",
   "metadata": {
    "id": "QCfEfYRvhCdf"
   },
   "source": [
    "Разные\n",
    "\n",
    "- clear  \n",
    "очистить экран\n",
    "\n",
    "- man ls\n",
    "показывает документацию по команде ls (можно передать любую другую)\n",
    "\n",
    "- #\n",
    "поставив решетку, все что следует после нее считаетсчя коментарием и не учитвается при выполнении команды\n",
    "\n"
   ]
  },
  {
   "cell_type": "markdown",
   "metadata": {
    "id": "6pKxlNlPL6A8"
   },
   "source": [
    "Получение страниц с веб ресурсов\n",
    "\n",
    "- curl https://finance.rambler.ru/currencies/USD/ -o test.html  \n",
    "данной командой получаем содержимое страницы https://finance.rambler.ru/currencies/USD/ и сохраняем ее в фаил\n",
    "\n",
    "- wget https://finance.rambler.ru/currencies/USD/    "
   ]
  },
  {
   "cell_type": "markdown",
   "metadata": {
    "id": "Iqbl5vtOu5yM"
   },
   "source": [
    "Задача:\n",
    "\n",
    "- получить информацию по текущему курсу доларов и евро для рубля с сайта https://finance.rambler.ru/currencies/ и вывести ее на экран\n",
    "\n",
    "- получить самую послежнюю дату изменния файла в вашей домашней директории"
   ]
  },
  {
   "cell_type": "markdown",
   "metadata": {
    "id": "Fo3i-oDnL6Dh"
   },
   "source": [
    "Доступ на удаленный сервер\n",
    "\n",
    "- ssh user@test.ru\n",
    "\n",
    "- scp temp user@test.ru:temp  \n",
    "копирует локальный фаил на удаленный сервер"
   ]
  },
  {
   "cell_type": "markdown",
   "metadata": {
    "id": "eLZaOrX9L6HG"
   },
   "source": [
    "Создание и распаковка архивов\n",
    "\n",
    "- tar -cvf archive.tar file1  \n",
    "\n",
    "- tar -xvf archive.tar  \n",
    "\n",
    "\n",
    "- gzip file1\tсжимает файл 'file1'  \n",
    "- gunzip file1.gz\tразжимает файл 'file1.gz'  "
   ]
  },
  {
   "cell_type": "markdown",
   "metadata": {
    "id": "gD5UB8fbm_fO"
   },
   "source": [
    "Информация о системе\n",
    "\n",
    "- free -mt\n",
    "- df -h\n",
    "- du -h -s /*\n",
    "- du -h -s /*/  "
   ]
  },
  {
   "cell_type": "markdown",
   "metadata": {
    "id": "ocpQuATxL6NS"
   },
   "source": [
    "Работа с процессами\n",
    "\n",
    "- ps -Af | grep 1234\n",
    "- ps -axuww\n",
    "- top  \n",
    "h\tlaad awerage  \n",
    "z\t1/5/15 minut  \n",
    "shit + v\tколичетво работающих процессов и кодичетсво процесосв назхожящихся в воемени  \n",
    "\n",
    "- htop  \n",
    " ctrl + c\n",
    "\n",
    "- kill  \n",
    "- kill -9  \n",
    "- killall -s 9  \n",
    "название процесса"
   ]
  },
  {
   "cell_type": "markdown",
   "metadata": {
    "id": "dtyfIyWjL6QW"
   },
   "source": [
    "Информация о системы\n",
    "\n",
    "- uname -r  \n",
    "- who  \n",
    "- w  \n",
    "- whoami  \n",
    "- uptime   \n",
    "- uptime  -p  \n",
    "- uptime -s  "
   ]
  },
  {
   "cell_type": "markdown",
   "metadata": {
    "id": "2P4g3hNnntw_"
   },
   "source": [
    "Сеть\n",
    "\n",
    "ip\n",
    "\tifconfig\n",
    "ip a\n",
    "\n",
    "netstat -nlp\n",
    "\tотрыте порты\n"
   ]
  },
  {
   "cell_type": "markdown",
   "metadata": {
    "id": "ul1v2LuPn9MP"
   },
   "source": [
    "sudo\n",
    "\n",
    "- sudo apt install mc\n",
    "установка mc\n",
    "\n"
   ]
  },
  {
   "cell_type": "markdown",
   "metadata": {
    "id": "PREEpuJro79S"
   },
   "source": [
    "работа с правами\n",
    "\n",
    "chmode"
   ]
  },
  {
   "cell_type": "markdown",
   "metadata": {
    "id": "RB163DCZpJ6m"
   },
   "source": [
    "- sed  \n",
    "заменят одну подстроку другой  \n",
    "sed 's/ello/ii/' file1"
   ]
  },
  {
   "cell_type": "markdown",
   "metadata": {
    "id": "ZzPZPn7ZpU3W"
   },
   "source": [
    "- cron\n",
    "запуск фоновых задач"
   ]
  },
  {
   "cell_type": "markdown",
   "metadata": {
    "id": "lZUnVv9dfTfR"
   },
   "source": [
    "# Добавить популярные консольные команыд"
   ]
  },
  {
   "cell_type": "markdown",
   "metadata": {
    "id": "YhEUl-n-fTfR"
   },
   "source": [
    "### Если используете команды консоли в ноутбуке то в почти всегда ставьте !  перед командой. Сейчас для вас есть толкьот одно исключение когда хотите сменить текущюу папку."
   ]
  },
  {
   "cell_type": "markdown",
   "metadata": {
    "id": "1kc3-6ktfTfR"
   },
   "source": [
    "Примеры работы команд"
   ]
  },
  {
   "cell_type": "code",
   "execution_count": null,
   "metadata": {
    "id": "_eLe8Co0fTfR",
    "outputId": "aa987a0a-cac0-44b0-ac97-a511bbb48a2e",
    "scrolled": true
   },
   "outputs": [
    {
     "name": "stdout",
     "output_type": "stream",
     "text": [
      "/home/jupyter-amtsu\n"
     ]
    }
   ],
   "source": [
    "cd ~"
   ]
  },
  {
   "cell_type": "code",
   "execution_count": null,
   "metadata": {
    "id": "hqi69GtzfTfR",
    "outputId": "497b41e7-a326-431e-9daf-5c8964a021c1"
   },
   "outputs": [
    {
     "name": "stdout",
     "output_type": "stream",
     "text": [
      " github     project\t  temp_delete_1     Untitled1.ipynb  'Untitled Folder'\r\n",
      " old_home   temp_delete   test_for_delete   Untitled2.ipynb   Untitled.ipynb\r\n"
     ]
    }
   ],
   "source": [
    "!ls"
   ]
  },
  {
   "cell_type": "code",
   "execution_count": null,
   "metadata": {
    "id": "qlLIMg2qfTfR",
    "outputId": "4be180e4-ff8b-4f53-fac0-dc6d8d571f8a"
   },
   "outputs": [
    {
     "name": "stdout",
     "output_type": "stream",
     "text": [
      "total 292\r\n",
      "drwxr-x--- 19 jupyter-amtsu jupyter-amtsu  4096 Jan 11 21:15  .\r\n",
      "drwxr-xr-x 30 root          root           4096 Jan  4 20:26  ..\r\n",
      "-rw-------  1 jupyter-amtsu jupyter-amtsu 83614 Jan 11 18:26  .bash_history\r\n",
      "-rw-r--r--  1 jupyter-amtsu jupyter-amtsu   220 Feb 25  2020  .bash_logout\r\n",
      "-rw-r--r--  1 jupyter-amtsu jupyter-amtsu  3771 Feb 25  2020  .bashrc\r\n",
      "drwxr-xr-x  9 jupyter-amtsu jupyter-amtsu  4096 Dec 18 18:44  .cache\r\n",
      "drwx------  4 jupyter-amtsu jupyter-amtsu  4096 Dec 18 18:42  .config\r\n",
      "drwxr-xr-x  2 jupyter-amtsu jupyter-amtsu  4096 Dec  6 15:35  .cookiecutter_replay\r\n",
      "drwxr-xr-x  3 jupyter-amtsu jupyter-amtsu  4096 Dec  6 15:35  .cookiecutters\r\n",
      "-rw-r--r--  1 jupyter-amtsu jupyter-amtsu    21 Nov 22 16:37  .gitconfig\r\n",
      "drwxr-xr-x  3 jupyter-amtsu jupyter-amtsu  4096 Nov 19 20:16  github\r\n",
      "drwxr-xr-x  2 jupyter-amtsu jupyter-amtsu  4096 Dec 25 12:17  .ipynb_checkpoints\r\n",
      "drwxr-xr-x  3 jupyter-amtsu jupyter-amtsu  4096 Nov 19 20:38  .ipython\r\n",
      "drwxr-xr-x  3 jupyter-amtsu jupyter-amtsu  4096 Nov 19 20:54  .jupyter\r\n",
      "-rw-------  1 jupyter-amtsu jupyter-amtsu    78 Dec 24 10:31  .lesshst\r\n",
      "drwxr-xr-x  6 jupyter-amtsu jupyter-amtsu  4096 Dec  3 20:41  .local\r\n",
      "drwxr-xr-x 14 jupyter-amtsu jupyter-amtsu  4096 Nov 20 22:32  old_home\r\n",
      "-rw-r--r--  1 jupyter-amtsu jupyter-amtsu   838 Nov 26 17:00  .profile\r\n",
      "drwxr-xr-x 10 jupyter-amtsu jupyter-amtsu  4096 Dec  6 15:34  project\r\n",
      "-rw-------  1 jupyter-amtsu jupyter-amtsu  3100 Dec 11 15:34  .python_history\r\n",
      "drwx------  3 jupyter-amtsu jupyter-amtsu  4096 Nov 19 20:22  .ssh\r\n",
      "drwxr-xr-x  5 jupyter-amtsu jupyter-amtsu  4096 Jan 11 20:56  temp_delete\r\n",
      "-rw-r--r--  1 jupyter-amtsu jupyter-amtsu 21842 Nov 27 16:56  temp_delete_1\r\n",
      "drwxr-xr-x  3 jupyter-amtsu jupyter-amtsu  4096 Dec 27 15:58  test_for_delete\r\n",
      "drwxr-xr-x  2 jupyter-amtsu jupyter-amtsu  4096 Jan 11 21:15  test_for_delete_1\r\n",
      "-rw-r--r--  1 jupyter-amtsu jupyter-amtsu  5686 Dec 24 12:06  Untitled1.ipynb\r\n",
      "-rw-r--r--  1 jupyter-amtsu jupyter-amtsu    72 Dec 25 12:17  Untitled2.ipynb\r\n",
      "drwxr-xr-x  2 jupyter-amtsu jupyter-amtsu  4096 Nov 22 16:17 'Untitled Folder'\r\n",
      "-rw-r--r--  1 jupyter-amtsu jupyter-amtsu 26924 Dec 24 12:33  Untitled.ipynb\r\n",
      "drwxr-xr-x  2 jupyter-amtsu jupyter-amtsu  4096 Nov 22 16:17  .vim\r\n",
      "-rw-------  1 jupyter-amtsu jupyter-amtsu 33313 Jan 11 21:01  .viminfo\r\n",
      "-rw-r--r--  1 jupyter-amtsu jupyter-amtsu   168 Dec 24 10:36  .wget-hsts\r\n"
     ]
    }
   ],
   "source": [
    "!ls -la"
   ]
  },
  {
   "cell_type": "code",
   "execution_count": null,
   "metadata": {
    "id": "HHDYXGTLfTfS"
   },
   "outputs": [],
   "source": [
    "!mkdir test_for_delete_1"
   ]
  },
  {
   "cell_type": "code",
   "execution_count": null,
   "metadata": {
    "id": "bt4hdeVOfTfS",
    "outputId": "8e8016a5-3fc6-4c1e-ce42-df81254a522e"
   },
   "outputs": [
    {
     "name": "stdout",
     "output_type": "stream",
     "text": [
      "/home/jupyter-amtsu\r\n"
     ]
    }
   ],
   "source": [
    "!pwd"
   ]
  },
  {
   "cell_type": "code",
   "execution_count": null,
   "metadata": {
    "id": "xa26O4wyfTfS"
   },
   "outputs": [],
   "source": [
    "!cd test_for_delete_1"
   ]
  },
  {
   "cell_type": "code",
   "execution_count": null,
   "metadata": {
    "id": "o-5akrFGfTfS",
    "outputId": "f282a49d-186e-4f7f-cecc-24c4e584f1af"
   },
   "outputs": [
    {
     "name": "stdout",
     "output_type": "stream",
     "text": [
      "/home/jupyter-amtsu\r\n"
     ]
    }
   ],
   "source": [
    "!pwd"
   ]
  },
  {
   "cell_type": "code",
   "execution_count": null,
   "metadata": {
    "id": "7ZUfOhY0fTfS"
   },
   "outputs": [],
   "source": [
    "#но если убрать !"
   ]
  },
  {
   "cell_type": "code",
   "execution_count": null,
   "metadata": {
    "id": "1QMyFdtdfTfS",
    "outputId": "6b79ad4d-59c3-4b68-a182-0082ddb58803"
   },
   "outputs": [
    {
     "name": "stdout",
     "output_type": "stream",
     "text": [
      "/home/jupyter-amtsu/test_for_delete_1\n"
     ]
    }
   ],
   "source": [
    "cd test_for_delete_1"
   ]
  },
  {
   "cell_type": "code",
   "execution_count": null,
   "metadata": {
    "id": "UpsbKGFDfTfT",
    "outputId": "e7ff86ea-bdb6-4591-f708-bd30dbdbd5ae"
   },
   "outputs": [
    {
     "name": "stdout",
     "output_type": "stream",
     "text": [
      "/home/jupyter-amtsu/test_for_delete_1\r\n"
     ]
    }
   ],
   "source": [
    "!pwd"
   ]
  },
  {
   "cell_type": "code",
   "execution_count": null,
   "metadata": {
    "id": "-PstFW4mfTfT",
    "outputId": "9ddad05e-90b0-4373-db30-06d2a4cc045e"
   },
   "outputs": [
    {
     "name": "stdout",
     "output_type": "stream",
     "text": [
      "# team22\r\n",
      "Big team\r\n"
     ]
    }
   ],
   "source": [
    "!cat ~/github/team22/README.md"
   ]
  },
  {
   "cell_type": "code",
   "execution_count": null,
   "metadata": {
    "id": "Q4AK23lAfTfT"
   },
   "outputs": [],
   "source": [
    "!touch empty.txt"
   ]
  },
  {
   "cell_type": "code",
   "execution_count": null,
   "metadata": {
    "id": "tl_glrHffTfT",
    "outputId": "64270f86-d3e6-4e63-c92c-e65c48fec9df"
   },
   "outputs": [
    {
     "name": "stdout",
     "output_type": "stream",
     "text": [
      "empty.txt\r\n"
     ]
    }
   ],
   "source": [
    "!ls"
   ]
  },
  {
   "cell_type": "code",
   "execution_count": null,
   "metadata": {
    "id": "wq3PxsyFfTfT"
   },
   "outputs": [],
   "source": [
    "!cp empty.txt copy_empty.txt"
   ]
  },
  {
   "cell_type": "code",
   "execution_count": null,
   "metadata": {
    "id": "tBf8qzNLfTfT",
    "outputId": "b7fdd1dd-3430-4595-a6a3-482b77d91606"
   },
   "outputs": [
    {
     "name": "stdout",
     "output_type": "stream",
     "text": [
      "copy_empty.txt\tempty.txt\r\n"
     ]
    }
   ],
   "source": [
    "!ls"
   ]
  },
  {
   "cell_type": "code",
   "execution_count": null,
   "metadata": {
    "id": "AO3hTd4ZfTfT"
   },
   "outputs": [],
   "source": [
    "!rm empty.txt"
   ]
  },
  {
   "cell_type": "code",
   "execution_count": null,
   "metadata": {
    "id": "roe_8rE5fTfU",
    "outputId": "292a334c-2b44-40e1-d858-6c74d9eea34d"
   },
   "outputs": [
    {
     "name": "stdout",
     "output_type": "stream",
     "text": [
      "copy_empty.txt\r\n"
     ]
    }
   ],
   "source": [
    "!ls"
   ]
  },
  {
   "cell_type": "code",
   "execution_count": null,
   "metadata": {
    "id": "_uQC_CaqfTfU"
   },
   "outputs": [],
   "source": [
    "!mv copy_empty.txt copy_2_empty.txt"
   ]
  },
  {
   "cell_type": "code",
   "execution_count": null,
   "metadata": {
    "id": "SDCJTrJwfTfU"
   },
   "outputs": [],
   "source": [
    "!mkdir new"
   ]
  },
  {
   "cell_type": "markdown",
   "metadata": {
    "id": "ehgKeRlbfTfU"
   },
   "source": [
    "!mv copy_2_empty.txt new/copy_2_empty.txt"
   ]
  },
  {
   "cell_type": "code",
   "execution_count": null,
   "metadata": {
    "id": "3iez_JazfTfU",
    "outputId": "34d0bba0-5eb5-48da-95b0-0b061da458ba"
   },
   "outputs": [
    {
     "name": "stdout",
     "output_type": "stream",
     "text": [
      "copy_2_empty.txt  new\r\n"
     ]
    }
   ],
   "source": [
    "!ls"
   ]
  },
  {
   "cell_type": "code",
   "execution_count": null,
   "metadata": {
    "id": "_7jwGALcfTfU",
    "outputId": "2be961fb-1a90-4dff-9e14-25bd4de0b852"
   },
   "outputs": [
    {
     "name": "stdout",
     "output_type": "stream",
     "text": [
      "ls: cannot access 'new/': No such file or directory\r\n"
     ]
    }
   ],
   "source": [
    "!ls new/"
   ]
  }
 ],
 "metadata": {
  "colab": {
   "provenance": []
  },
  "kernelspec": {
   "display_name": "Python 3 (ipykernel)",
   "language": "python",
   "name": "python3"
  },
  "language_info": {
   "codemirror_mode": {
    "name": "ipython",
    "version": 3
   },
   "file_extension": ".py",
   "mimetype": "text/x-python",
   "name": "python",
   "nbconvert_exporter": "python",
   "pygments_lexer": "ipython3",
   "version": "3.10.10"
  }
 },
 "nbformat": 4,
 "nbformat_minor": 4
}
