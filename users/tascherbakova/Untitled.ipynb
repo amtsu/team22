{
 "cells": [
  {
   "cell_type": "code",
   "execution_count": null,
   "id": "590dda80-e86c-43f0-b9ef-e2a00b8c6d47",
   "metadata": {},
   "outputs": [],
   "source": []
  },
  {
   "cell_type": "code",
   "execution_count": 1,
   "id": "30efaf08-75da-4e7b-9fcf-04af2feb96f3",
   "metadata": {},
   "outputs": [
    {
     "data": {
      "text/plain": [
       "3"
      ]
     },
     "execution_count": 1,
     "metadata": {},
     "output_type": "execute_result"
    }
   ],
   "source": [
    "1+2"
   ]
  },
  {
   "cell_type": "code",
   "execution_count": 2,
   "id": "7b86f69b-f030-4958-b875-daf962320855",
   "metadata": {},
   "outputs": [
    {
     "data": {
      "text/plain": [
       "66"
      ]
     },
     "execution_count": 2,
     "metadata": {},
     "output_type": "execute_result"
    }
   ],
   "source": [
    "33*2"
   ]
  },
  {
   "cell_type": "code",
   "execution_count": null,
   "id": "29dbcccd-1887-426d-8bb9-afbcd6f8cde0",
   "metadata": {},
   "outputs": [],
   "source": []
  },
  {
   "cell_type": "code",
   "execution_count": 4,
   "id": "be68b8ff-9abb-4f8b-a515-716ad2b1ec01",
   "metadata": {},
   "outputs": [],
   "source": [
    "new_p = 1\n",
    "d = new_p + 1"
   ]
  },
  {
   "cell_type": "code",
   "execution_count": null,
   "id": "aa98e788-11aa-400e-b1eb-36f458ca52d4",
   "metadata": {},
   "outputs": [],
   "source": []
  },
  {
   "cell_type": "code",
   "execution_count": null,
   "id": "9d0dcbb8-65f3-4501-9b5f-051b1f34ebb9",
   "metadata": {},
   "outputs": [],
   "source": []
  },
  {
   "cell_type": "code",
   "execution_count": null,
   "id": "7433e91f-cefe-45fe-a3e2-ec2a34341826",
   "metadata": {},
   "outputs": [],
   "source": []
  },
  {
   "cell_type": "code",
   "execution_count": null,
   "id": "d95b4d4b-c659-4cd2-9b47-7d311bb0e941",
   "metadata": {},
   "outputs": [],
   "source": []
  },
  {
   "cell_type": "code",
   "execution_count": null,
   "id": "191dc13b-2e34-41ef-ba24-518d371a8117",
   "metadata": {},
   "outputs": [],
   "source": []
  },
  {
   "cell_type": "code",
   "execution_count": null,
   "id": "bae4d2cf-7d27-4dfe-9022-61aed5d41166",
   "metadata": {},
   "outputs": [],
   "source": []
  }
 ],
 "metadata": {
  "kernelspec": {
   "display_name": "Python 3 (ipykernel)",
   "language": "python",
   "name": "python3"
  },
  "language_info": {
   "codemirror_mode": {
    "name": "ipython",
    "version": 3
   },
   "file_extension": ".py",
   "mimetype": "text/x-python",
   "name": "python",
   "nbconvert_exporter": "python",
   "pygments_lexer": "ipython3",
   "version": "3.10.10"
  }
 },
 "nbformat": 4,
 "nbformat_minor": 5
}
