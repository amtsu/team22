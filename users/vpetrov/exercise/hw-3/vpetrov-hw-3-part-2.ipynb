{
 "cells": [
  {
   "cell_type": "markdown",
   "id": "0f0782a2-44a3-4b74-807f-2cbb193a2722",
   "metadata": {},
   "source": [
    "Вычислить результат следующих операций:\n",
    "10 * (5 + 3)\n",
    "(20 - 6) / 2\n",
    "2 ** 5 (возведение 2 в 5-ю степень)\n",
    "25 // 4 (целая часть от деления)\n",
    "25 % 4 (остаток от деления)"
   ]
  },
  {
   "cell_type": "code",
   "execution_count": 19,
   "id": "5d5ae547-b2a9-40a1-abc7-a9aa2ca590d3",
   "metadata": {},
   "outputs": [
    {
     "data": {
      "text/plain": [
       "80"
      ]
     },
     "execution_count": 19,
     "metadata": {},
     "output_type": "execute_result"
    }
   ],
   "source": [
    "10 * (5 + 3)"
   ]
  },
  {
   "cell_type": "code",
   "execution_count": 2,
   "id": "c6e2aa7c-620e-47e9-94a4-5b5f3a96a427",
   "metadata": {},
   "outputs": [
    {
     "data": {
      "text/plain": [
       "7.0"
      ]
     },
     "execution_count": 2,
     "metadata": {},
     "output_type": "execute_result"
    }
   ],
   "source": [
    "(20 - 6) / 2"
   ]
  },
  {
   "cell_type": "code",
   "execution_count": 3,
   "id": "9de7a761-c64f-4ee6-91c1-6b51290b2ac0",
   "metadata": {},
   "outputs": [
    {
     "data": {
      "text/plain": [
       "32"
      ]
     },
     "execution_count": 3,
     "metadata": {},
     "output_type": "execute_result"
    }
   ],
   "source": [
    "2 ** 5"
   ]
  },
  {
   "cell_type": "code",
   "execution_count": 4,
   "id": "1d04bb9a-a381-4dbe-b332-86c1289a706e",
   "metadata": {},
   "outputs": [
    {
     "data": {
      "text/plain": [
       "6"
      ]
     },
     "execution_count": 4,
     "metadata": {},
     "output_type": "execute_result"
    }
   ],
   "source": [
    "25 // 4"
   ]
  },
  {
   "cell_type": "code",
   "execution_count": 5,
   "id": "9d16be3c-7028-464b-a4de-ed6dbf32d703",
   "metadata": {},
   "outputs": [
    {
     "data": {
      "text/plain": [
       "1"
      ]
     },
     "execution_count": 5,
     "metadata": {},
     "output_type": "execute_result"
    }
   ],
   "source": [
    "25 % 4"
   ]
  },
  {
   "cell_type": "markdown",
   "id": "1132efb6-4f1f-4cfa-8af7-a35a65266347",
   "metadata": {},
   "source": [
    "Дано дробное число:\n",
    "number = -3.14\n",
    "Выполнить следующие операции:\n",
    "Округлите число до целого.\n",
    "Возьмите остаток числа."
   ]
  },
  {
   "cell_type": "code",
   "execution_count": 9,
   "id": "296d54e4-4a30-495d-88f7-4cc84bbbc88d",
   "metadata": {},
   "outputs": [
    {
     "data": {
      "text/plain": [
       "-3"
      ]
     },
     "execution_count": 9,
     "metadata": {},
     "output_type": "execute_result"
    }
   ],
   "source": [
    "number = -3.14\n",
    "round(number)"
   ]
  },
  {
   "cell_type": "code",
   "execution_count": 2,
   "id": "adc23aa0-b803-4955-91e5-86491b0ff211",
   "metadata": {},
   "outputs": [
    {
     "data": {
      "text/plain": [
       "-0.14000000000000012"
      ]
     },
     "execution_count": 2,
     "metadata": {},
     "output_type": "execute_result"
    }
   ],
   "source": [
    "number = -3.14\n",
    "okrugl_number = round(number)\n",
    "number - okrugl_number"
   ]
  },
  {
   "cell_type": "markdown",
   "id": "a292b96a-f403-423a-926c-eb5cb2a3067e",
   "metadata": {},
   "source": [
    "Даны стороны прямоугольника: a = 5, b = 7.\n",
    "Вычислить площадь прямоугольника и вывести результат на экран."
   ]
  },
  {
   "cell_type": "code",
   "execution_count": 11,
   "id": "bd9cade9-8be5-40a5-bbc0-865ee8aee3f2",
   "metadata": {},
   "outputs": [
    {
     "data": {
      "text/plain": [
       "35"
      ]
     },
     "execution_count": 11,
     "metadata": {},
     "output_type": "execute_result"
    }
   ],
   "source": [
    "a = 5\n",
    "b = 7\n",
    "a * b"
   ]
  },
  {
   "cell_type": "markdown",
   "id": "7f071cca-646e-47a5-b6ba-bec98414536f",
   "metadata": {},
   "source": [
    "На какой объем воздуха должен быть расчитан кондиционер, если с его помощью хотят охлаждать квартиру в которой размер гостинной 3.5 на 6.4 метра, спальни 3.4 на 4 метра и площадь не жилой части 11 метров. При том что высота потолков 3,1 метр."
   ]
  },
  {
   "cell_type": "code",
   "execution_count": 18,
   "id": "bb91e25a-1daf-4b15-bad8-4fabd920823b",
   "metadata": {},
   "outputs": [
    {
     "data": {
      "text/plain": [
       "145.70000000000002"
      ]
     },
     "execution_count": 18,
     "metadata": {},
     "output_type": "execute_result"
    }
   ],
   "source": [
    "gostx = 3.5\n",
    "gosty = 6.4\n",
    "\n",
    "spalx = 3.4\n",
    "spaly = 4\n",
    "\n",
    "nonlive_s = 11\n",
    "\n",
    "height = 3.1\n",
    "\n",
    "gostvol = gostx * gosty * height\n",
    "spalvol = spalx * spaly * height\n",
    "nonlivevol = nonlive_s * height\n",
    "\n",
    "gostvol + spalvol + nonlivevol"
   ]
  },
  {
   "cell_type": "markdown",
   "id": "72459f45-712d-4c07-ab4f-913c62d160a1",
   "metadata": {},
   "source": [
    "Дано квадратное уравнение вида ax^2 + bx + c = 0.\n",
    "Найти его решения, используя формулу дискриминанта.\n",
    "a номер текущего месяца\n",
    "b номер вашей группы\n",
    "c минус десять (-10)"
   ]
  },
  {
   "cell_type": "code",
   "execution_count": 27,
   "id": "17fe0a5d-5583-4da4-aa76-f6f238b0fc36",
   "metadata": {},
   "outputs": [
    {
     "name": "stdout",
     "output_type": "stream",
     "text": [
      "116\n"
     ]
    }
   ],
   "source": [
    "a = 2\n",
    "b = 6\n",
    "c = -10\n",
    "\n",
    "d = b ** 2 - 4 * a * c\n",
    "print(d)"
   ]
  },
  {
   "cell_type": "code",
   "execution_count": 36,
   "id": "f2d7e487-e25d-45d2-a3a8-1ec16a5c9e0d",
   "metadata": {},
   "outputs": [],
   "source": [
    "import math\n",
    "x1 = (-b + math.sqrt(d)) / (2 * a)\n",
    "x2 = (-b - math.sqrt(d)) / (2 * a)"
   ]
  },
  {
   "cell_type": "code",
   "execution_count": 37,
   "id": "fea1671f-3762-4f4b-8c25-893fe7a87f27",
   "metadata": {},
   "outputs": [
    {
     "name": "stdout",
     "output_type": "stream",
     "text": [
      "1.1925824035672519\n"
     ]
    }
   ],
   "source": [
    "print(x1)"
   ]
  },
  {
   "cell_type": "code",
   "execution_count": 38,
   "id": "28030941-e29d-4c78-9d13-1d8d6fda8161",
   "metadata": {},
   "outputs": [
    {
     "name": "stdout",
     "output_type": "stream",
     "text": [
      "-4.192582403567252\n"
     ]
    }
   ],
   "source": [
    "print(x2)"
   ]
  },
  {
   "cell_type": "markdown",
   "id": "c688baaa-ceb5-4306-bc30-24f8f99d38d2",
   "metadata": {},
   "source": [
    "Даны строки:\n",
    "string1 = \"hello, \"\n",
    "string2 = \"world!\"\n",
    "Объединить строки string1 и string2 и результат вывести на экран так чтобы первая буква в предложении стала заглавной."
   ]
  },
  {
   "cell_type": "code",
   "execution_count": 42,
   "id": "56dace96-6cef-4935-a9e4-4bc3996c6f3a",
   "metadata": {},
   "outputs": [
    {
     "name": "stdout",
     "output_type": "stream",
     "text": [
      "Hello, world!\n"
     ]
    }
   ],
   "source": [
    "string1 = \"hello, \"\n",
    "string2 = \"world!\"\n",
    "print((string1 + string2).capitalize())"
   ]
  },
  {
   "cell_type": "markdown",
   "id": "6f67c364-f44e-4764-b2fc-ed30008c240e",
   "metadata": {},
   "source": [
    "Сколько символов было в предыдущей строке?"
   ]
  },
  {
   "cell_type": "code",
   "execution_count": 48,
   "id": "66fbc3ca-7d16-47bc-8a8a-f24935edb79a",
   "metadata": {},
   "outputs": [
    {
     "data": {
      "text/plain": [
       "13"
      ]
     },
     "execution_count": 48,
     "metadata": {},
     "output_type": "execute_result"
    }
   ],
   "source": [
    "len(\"Hello, world!\")"
   ]
  },
  {
   "cell_type": "markdown",
   "id": "984317cd-5bf5-4c37-b6ed-d471bb2360fc",
   "metadata": {},
   "source": [
    "Выведите на экран строку la 25 раз."
   ]
  },
  {
   "cell_type": "code",
   "execution_count": 49,
   "id": "cb97536c-8997-4e35-ad99-02f7b0905d3a",
   "metadata": {},
   "outputs": [
    {
     "name": "stdout",
     "output_type": "stream",
     "text": [
      "la\n",
      "la\n",
      "la\n",
      "la\n",
      "la\n",
      "la\n",
      "la\n",
      "la\n",
      "la\n",
      "la\n",
      "la\n",
      "la\n",
      "la\n",
      "la\n",
      "la\n",
      "la\n",
      "la\n",
      "la\n",
      "la\n",
      "la\n",
      "la\n",
      "la\n",
      "la\n",
      "la\n",
      "la\n",
      "\n"
     ]
    }
   ],
   "source": [
    "print(\"la\\n\" * 25)"
   ]
  },
  {
   "cell_type": "markdown",
   "id": "2d8ff8fc-e648-49e0-ac47-3dfa1c2062c1",
   "metadata": {},
   "source": [
    "Дан список чисел:\n",
    "numbers = [1, 2, 3, 4, 5]\n",
    "Выполнить следующие операции:\n",
    "1. Измените число 2 на строку \"hi\" \n",
    "2. Выведите значение, находящееся на позиции 2.\n",
    "3. Изменить значение на позиции 4 на список из 3 элементов [8, 6, 4].\n",
    "Результаты вывести на экран."
   ]
  },
  {
   "cell_type": "code",
   "execution_count": 59,
   "id": "0e154245-2900-47d9-ad81-b79dfeb1a2bf",
   "metadata": {},
   "outputs": [
    {
     "data": {
      "text/plain": [
       "[1, 'hi', 3, 4, 5]"
      ]
     },
     "execution_count": 59,
     "metadata": {},
     "output_type": "execute_result"
    }
   ],
   "source": [
    "numbers = [1, 2, 3, 4, 5]\n",
    "numbers [1] = \"hi\"\n",
    "numbers"
   ]
  },
  {
   "cell_type": "code",
   "execution_count": 61,
   "id": "646881b4-06bd-48af-b877-99cae113f5cc",
   "metadata": {},
   "outputs": [
    {
     "data": {
      "text/plain": [
       "'hi'"
      ]
     },
     "execution_count": 61,
     "metadata": {},
     "output_type": "execute_result"
    }
   ],
   "source": [
    "numbers [1]"
   ]
  },
  {
   "cell_type": "code",
   "execution_count": 62,
   "id": "a668996e-eaad-44fd-90e2-cc20861ad9ce",
   "metadata": {},
   "outputs": [
    {
     "data": {
      "text/plain": [
       "[1, 'hi', 3, [8, 6, 4], 5]"
      ]
     },
     "execution_count": 62,
     "metadata": {},
     "output_type": "execute_result"
    }
   ],
   "source": [
    "numbers [3] = [8, 6, 4]\n",
    "numbers"
   ]
  },
  {
   "cell_type": "markdown",
   "id": "61f7d803-70cf-4f5d-8bd1-bcead0dfcd9a",
   "metadata": {},
   "source": [
    "Дан список чисел:\n",
    "numbers = [1, 2, 3, 4, 5, 6, 7, 8, 9, 10]\n",
    "Извлеките подсписок с 3-го по 7-й элемент включительно."
   ]
  },
  {
   "cell_type": "code",
   "execution_count": 3,
   "id": "58b3d7b3-65bd-42f4-b656-cc6ec4df9aa7",
   "metadata": {},
   "outputs": [
    {
     "data": {
      "text/plain": [
       "[3, 4, 5, 6, 7]"
      ]
     },
     "execution_count": 3,
     "metadata": {},
     "output_type": "execute_result"
    }
   ],
   "source": [
    "numbers = [1, 2, 3, 4, 5, 6, 7, 8, 9, 10]\n",
    "\n",
    "numbers [2:7]"
   ]
  }
 ],
 "metadata": {
  "kernelspec": {
   "display_name": "Python 3 (ipykernel)",
   "language": "python",
   "name": "python3"
  },
  "language_info": {
   "codemirror_mode": {
    "name": "ipython",
    "version": 3
   },
   "file_extension": ".py",
   "mimetype": "text/x-python",
   "name": "python",
   "nbconvert_exporter": "python",
   "pygments_lexer": "ipython3",
   "version": "3.10.10"
  }
 },
 "nbformat": 4,
 "nbformat_minor": 5
}
