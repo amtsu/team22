{
 "cells": [
  {
   "cell_type": "markdown",
   "id": "bdda8c75-105b-4f24-8862-673bcc68f447",
   "metadata": {},
   "source": [
    "Домашнее задание №4. \n",
    "Списки и операции с ними."
   ]
  },
  {
   "cell_type": "markdown",
   "id": "de36547c-88dd-4997-a12c-cdeb1e9e6ac8",
   "metadata": {},
   "source": [
    "Задание 1.\n",
    "выполните следующий код\n",
    "<code>\n",
    "list_one = [1, 2, 3, 4, 5, 6, 9]\n",
    "list_two = [1, 2, 3, 4, 5, 6, 9]\n",
    "list_two.append(789)\n",
    "print(list_one, list_two, sep='\\n') \n",
    "</code>\n",
    "затем выполните код \n",
    "<code>\n",
    "list_one = [1, 2, 3, 4, 5, 6, 9]\n",
    "list_two = list_one\n",
    "list_two.append(789)\n",
    "print(list_one, list_two, sep='\\n')     \n",
    "</code>\n",
    "запишите объяснения разницы в выполнении кода в переменную difference_explanation и выведите ее на экран"
   ]
  },
  {
   "cell_type": "code",
   "execution_count": 7,
   "id": "680d9e95-a34c-4f6c-8693-3a72207219b5",
   "metadata": {},
   "outputs": [
    {
     "name": "stdout",
     "output_type": "stream",
     "text": [
      "[1, 2, 3, 4, 5, 6, 9]\n",
      "[1, 2, 3, 4, 5, 6, 9, 789]\n"
     ]
    }
   ],
   "source": [
    "list_one = [1, 2, 3, 4, 5, 6, 9]\n",
    "list_two = [1, 2, 3, 4, 5, 6, 9]\n",
    "list_two.append(789)\n",
    "print(list_one, list_two, sep='\\n') "
   ]
  },
  {
   "cell_type": "code",
   "execution_count": 8,
   "id": "0a0f9c7b-6aef-4b8e-aeca-40b881525904",
   "metadata": {},
   "outputs": [
    {
     "name": "stdout",
     "output_type": "stream",
     "text": [
      "[1, 2, 3, 4, 5, 6, 9, 789]\n",
      "[1, 2, 3, 4, 5, 6, 9, 789]\n"
     ]
    }
   ],
   "source": [
    "list_one = [1, 2, 3, 4, 5, 6, 9]\n",
    "list_two = list_one\n",
    "list_two.append(789)\n",
    "print(list_one, list_two, sep='\\n')"
   ]
  },
  {
   "cell_type": "code",
   "execution_count": 9,
   "id": "e7ff04ee-7bbc-4495-88ec-589c62273e07",
   "metadata": {},
   "outputs": [
    {
     "name": "stdout",
     "output_type": "stream",
     "text": [
      "В первом случае мы добавляем еще одну 'полку' в конце списка с цифрами 789 только ко второму списку, а во втором мы сначала приравниваем переменную list_two к list_one, потом добавляем ко второму списку цифры 789, но т.к. мы приравняли переменные, то для них выводится одинаковое значение\n"
     ]
    }
   ],
   "source": [
    "difference_explanation = \"В первом случае мы добавляем еще одну 'полку' в конце списка с цифрами 789 только ко второму списку, а во втором мы сначала приравниваем переменную list_two к list_one, потом добавляем ко второму списку цифры 789, но т.к. мы приравняли переменные, то для них выводится одинаковое значение\"\n",
    "print(difference_explanation)"
   ]
  },
  {
   "cell_type": "markdown",
   "id": "9062939d-6f44-44cf-9b28-5854ebeb1594",
   "metadata": {},
   "source": [
    "Задание 2.\n",
    "Задайте переменную a_poem типа строка, со следующим содержимым:\n",
    "<code>\n",
    "За стеклом лежал Питон,\n",
    "Большой и толстый, как батон.\n",
    "Вверх пополз,\n",
    "Затем вернулся,\n",
    "Круглым бубликом свернулся.\n",
    "</code>\n",
    "- Создайте переменную a_list типа список, заполнив ее содержимым строки a_poem так, чтобы каждый символ строки a_poem стал отдельным элементом списка a_list\n",
    "- Создайте переменную another_list типа список, заполнив ее содержимым строки a_poem так, чтобы каждое слово строки a_poem стал отдельным элементом списка another_list. Знаки препинания прилипнут к словам, не страшно.\n",
    "- Выведите на экран элементы и их количество для списков a_list и another_list.\n",
    "- Создайте переменную one_more_list типа список, каждым элементом которой является отдельная строка строфы из a_poem. Выведите на экран элементы one_more_list и их количество."
   ]
  },
  {
   "cell_type": "code",
   "execution_count": 49,
   "id": "ac243f9a-2a7a-49aa-b58b-993fea424ec4",
   "metadata": {},
   "outputs": [
    {
     "name": "stdout",
     "output_type": "stream",
     "text": [
      "За стеклом лежал Питон, \n",
      "Большой и толстый, как батон. \n",
      "Вверх пополз, \n",
      "Затем вернулся, \n",
      "Круглым бубликом свернулся.\n"
     ]
    }
   ],
   "source": [
    "a_poem = \"За стеклом лежал Питон, \\nБольшой и толстый, как батон. \\nВверх пополз, \\nЗатем вернулся, \\nКруглым бубликом свернулся.\"\n",
    "\n",
    "print(a_poem)"
   ]
  },
  {
   "cell_type": "code",
   "execution_count": 56,
   "id": "1b2f7e1c-7dd5-4540-972d-cbccfd4e096b",
   "metadata": {},
   "outputs": [
    {
     "name": "stdout",
     "output_type": "stream",
     "text": [
      "['З', 'а', ' ', 'с', 'т', 'е', 'к', 'л', 'о', 'м', ' ', 'л', 'е', 'ж', 'а', 'л', ' ', 'П', 'и', 'т', 'о', 'н', ',', ' ', '\\n', 'Б', 'о', 'л', 'ь', 'ш', 'о', 'й', ' ', 'и', ' ', 'т', 'о', 'л', 'с', 'т', 'ы', 'й', ',', ' ', 'к', 'а', 'к', ' ', 'б', 'а', 'т', 'о', 'н', '.', ' ', '\\n', 'В', 'в', 'е', 'р', 'х', ' ', 'п', 'о', 'п', 'о', 'л', 'з', ',', ' ', '\\n', 'З', 'а', 'т', 'е', 'м', ' ', 'в', 'е', 'р', 'н', 'у', 'л', 'с', 'я', ',', ' ', '\\n', 'К', 'р', 'у', 'г', 'л', 'ы', 'м', ' ', 'б', 'у', 'б', 'л', 'и', 'к', 'о', 'м', ' ', 'с', 'в', 'е', 'р', 'н', 'у', 'л', 'с', 'я', '.']\n"
     ]
    }
   ],
   "source": [
    "a_list = list(a_poem)\n",
    "\n",
    "print(a_list)"
   ]
  },
  {
   "cell_type": "code",
   "execution_count": 57,
   "id": "66cadf92-02d9-47d1-aef0-fe029e404938",
   "metadata": {},
   "outputs": [
    {
     "name": "stdout",
     "output_type": "stream",
     "text": [
      "['За', 'стеклом', 'лежал', 'Питон,', 'Большой', 'и', 'толстый,', 'как', 'батон.', 'Вверх', 'пополз,', 'Затем', 'вернулся,', 'Круглым', 'бубликом', 'свернулся.']\n"
     ]
    }
   ],
   "source": [
    "another_list = a_poem.replace('\\n', '').split(' ')\n",
    "print(another_list)"
   ]
  },
  {
   "cell_type": "code",
   "execution_count": 58,
   "id": "dfa76007-aa35-4919-b2ac-a729ac06f2a9",
   "metadata": {},
   "outputs": [
    {
     "name": "stdout",
     "output_type": "stream",
     "text": [
      "['З', 'а', ' ', 'с', 'т', 'е', 'к', 'л', 'о', 'м', ' ', 'л', 'е', 'ж', 'а', 'л', ' ', 'П', 'и', 'т', 'о', 'н', ',', ' ', '\\n', 'Б', 'о', 'л', 'ь', 'ш', 'о', 'й', ' ', 'и', ' ', 'т', 'о', 'л', 'с', 'т', 'ы', 'й', ',', ' ', 'к', 'а', 'к', ' ', 'б', 'а', 'т', 'о', 'н', '.', ' ', '\\n', 'В', 'в', 'е', 'р', 'х', ' ', 'п', 'о', 'п', 'о', 'л', 'з', ',', ' ', '\\n', 'З', 'а', 'т', 'е', 'м', ' ', 'в', 'е', 'р', 'н', 'у', 'л', 'с', 'я', ',', ' ', '\\n', 'К', 'р', 'у', 'г', 'л', 'ы', 'м', ' ', 'б', 'у', 'б', 'л', 'и', 'к', 'о', 'м', ' ', 'с', 'в', 'е', 'р', 'н', 'у', 'л', 'с', 'я', '.']\n",
      "\n",
      "Количество элементов в списке a_list: 115\n",
      "\n",
      " ['За', 'стеклом', 'лежал', 'Питон,', 'Большой', 'и', 'толстый,', 'как', 'батон.', 'Вверх', 'пополз,', 'Затем', 'вернулся,', 'Круглым', 'бубликом', 'свернулся.']\n",
      "\n",
      "Количество элементов в списке another_list: 16\n"
     ]
    }
   ],
   "source": [
    "#выводит на экран список a_list\n",
    "print(a_list)\n",
    "#считает количество элементов в списке a_list и выводит с текстом\n",
    "number_of_elements = len(a_list)\n",
    "print('\\nКоличество элементов в списке a_list:', number_of_elements)\n",
    "\n",
    "#выводит на экран список a_list с новой строки\n",
    "print('\\n',another_list)\n",
    "#считает количество элементов в списке another_list и выводит с текстом\n",
    "number_of_elements_another_list = len(another_list)\n",
    "print('\\nКоличество элементов в списке another_list:', number_of_elements_another_list)"
   ]
  },
  {
   "cell_type": "code",
   "execution_count": 59,
   "id": "e308eb67-0480-447b-9c6b-0259d0e1fbb9",
   "metadata": {},
   "outputs": [
    {
     "name": "stdout",
     "output_type": "stream",
     "text": [
      "['За стеклом лежал Питон, ', 'Большой и толстый, как батон. ', 'Вверх пополз, ', 'Затем вернулся, ', 'Круглым бубликом свернулся.']\n",
      "\n",
      "Количество элементов в списке one_more_list: 5\n"
     ]
    }
   ],
   "source": [
    "#Создайте переменную one_more_list типа список, каждым элементом которой является отдельная строка\n",
    "#строфы из a_poem. Выведите на экран элементы one_more_list и их количество.\n",
    "\n",
    "one_more_list = []\n",
    "one_more_list = a_poem.split('\\n')\n",
    "print(one_more_list)\n",
    "#считает количество элементов в списке one_more_list и выводит с текстом\n",
    "number_of_elements_one_more_list = len(one_more_list)\n",
    "print('\\nКоличество элементов в списке one_more_list:', number_of_elements_one_more_list)"
   ]
  },
  {
   "cell_type": "markdown",
   "id": "4fb94656-4bfb-40a0-a611-97af1006f0a1",
   "metadata": {},
   "source": [
    "Задание 3.\n",
    "- Создайте список solyanka_list, в качестве его элементов добавьте значения каждого из известных вам типов данных python.\n",
    "- Выведите на экран содержимое списка solyanka_list.\n",
    "- Посчитайте количество элементов списка solyanka_list.\n",
    "- Выведите на экран тип пятого от начала списка элемента.\n",
    "- Добавьте в конец списка solyanka_list элемент типа \"список\" из одного элемента\n",
    "- Выведите на экран тип последнего элемента списка solyanka_list "
   ]
  },
  {
   "cell_type": "code",
   "execution_count": 60,
   "id": "1317a98b-5c29-4cb5-b0cf-9dc94a030f08",
   "metadata": {},
   "outputs": [
    {
     "name": "stdout",
     "output_type": "stream",
     "text": [
      "[[1, 2], 'эникибеники', (1, 2), 1222, 14.3]\n"
     ]
    }
   ],
   "source": [
    "#решение можно писать тут\n",
    "solyanka_list = []\n",
    "#solyanka_list.append('int', 'str', 'float')\n",
    "#список, строка, кортеж, число, число с плавающей запятой\n",
    "solyanka_list.append([1,2])\n",
    "solyanka_list.append('эникибеники')\n",
    "solyanka_list.append((1,2))\n",
    "solyanka_list.append(1222)\n",
    "solyanka_list.append(14.3)\n",
    "\n",
    "print(solyanka_list)"
   ]
  },
  {
   "cell_type": "code",
   "execution_count": 61,
   "id": "82b0ca83-4df4-4da3-a831-6755593330f9",
   "metadata": {},
   "outputs": [
    {
     "data": {
      "text/plain": [
       "5"
      ]
     },
     "execution_count": 61,
     "metadata": {},
     "output_type": "execute_result"
    }
   ],
   "source": [
    "#количество элементов списка\n",
    "len(solyanka_list)"
   ]
  },
  {
   "cell_type": "code",
   "execution_count": 62,
   "id": "ca149922-cc8b-4f18-918f-359c0e29fe75",
   "metadata": {},
   "outputs": [
    {
     "name": "stdout",
     "output_type": "stream",
     "text": [
      "<class 'float'>\n"
     ]
    }
   ],
   "source": [
    "#вывод на экран 5го элемента от начала списка, его индекс 4\n",
    "print(type(solyanka_list[4]))"
   ]
  },
  {
   "cell_type": "code",
   "execution_count": 97,
   "id": "cb635065-a971-422b-ac2c-65b81115a822",
   "metadata": {},
   "outputs": [
    {
     "name": "stdout",
     "output_type": "stream",
     "text": [
      "['список', 'строка', 'кортеж', 'число', 'число с плавающей запятой', ['эникибеники']]\n",
      "\n",
      "Тип последнего элемента списка solyanka_list: <class 'list'>\n"
     ]
    }
   ],
   "source": [
    "element_new = ['эникибеники']\n",
    "#print(element_new)\n",
    "solyanka_list.append(element_new)\n",
    "print(solyanka_list)\n",
    "print('\\nТип последнего элемента списка solyanka_list:',type(solyanka_list[5]))"
   ]
  },
  {
   "cell_type": "markdown",
   "id": "1c3f95c6-cd6a-4ce5-b70b-654e896551fa",
   "metadata": {},
   "source": [
    "Задание 4.\n",
    "Дана последовательности чисел Фибоначчи из нескольких элементов:\n",
    "<code>\n",
    "0, 1, 1, 2, 3, 5, 8, 13, 21, 34, 55, 89, 144, 233, 377, 610, 987, 1597, 2584, 4181, 6765, 10946, 17711\n",
    "</code>\n",
    "- Создайте список fibonacci_list, элементами которого будут числа Фибонначи из задания.\n",
    "- Посчитайте и выведите на экран, сколько чисел Фибоначчи в последовательности из задания\n",
    "- Посчитайте и выведите на экран, сколько раз число 1 входит в заданную последовательность Фибоначчи.\n",
    "- Проверьте и выведите на экран результат, является ли число 21 числом Фибоначчи. Число 33? Число 987? число 9999?\n",
    "использование оператора if возможно, но не является необходимым\n"
   ]
  },
  {
   "cell_type": "code",
   "execution_count": 100,
   "id": "ea8bb03d-b06c-4f60-af8a-dcf862bc80d0",
   "metadata": {},
   "outputs": [
    {
     "name": "stdout",
     "output_type": "stream",
     "text": [
      "[0, 1, 1, 2, 3, 5, 8, 13, 21, 34, 55, 89, 144, 233, 377, 610, 987, 1597, 2584, 4181, 6765, 10946, 17711]\n"
     ]
    }
   ],
   "source": [
    "fibonacci_list = [0, 1, 1, 2, 3, 5, 8, 13, 21, 34, 55, 89, 144, 233, 377, 610, 987, 1597, 2584, 4181, 6765, 10946, 17711]\n",
    "print(fibonacci_list)\n",
    "#print(type(fibonacci_list))"
   ]
  },
  {
   "cell_type": "code",
   "execution_count": 102,
   "id": "7e2fcfce-f831-4507-a07e-0426c4f6bc0b",
   "metadata": {},
   "outputs": [
    {
     "data": {
      "text/plain": [
       "23"
      ]
     },
     "execution_count": 102,
     "metadata": {},
     "output_type": "execute_result"
    }
   ],
   "source": [
    "len(fibonacci_list)"
   ]
  },
  {
   "cell_type": "code",
   "execution_count": 103,
   "id": "ebc5c920-94b0-48d4-8f3f-45baf207680a",
   "metadata": {},
   "outputs": [
    {
     "data": {
      "text/plain": [
       "2"
      ]
     },
     "execution_count": 103,
     "metadata": {},
     "output_type": "execute_result"
    }
   ],
   "source": [
    "fibonacci_list.count(1)"
   ]
  },
  {
   "cell_type": "code",
   "execution_count": 109,
   "id": "d3896231-460a-421e-9724-6a057de8a29d",
   "metadata": {},
   "outputs": [
    {
     "name": "stdout",
     "output_type": "stream",
     "text": [
      "\n",
      "Проверка является ли число 21 числом Фибоначчи: True\n",
      "\n",
      "Проверка является ли число 33 числом Фибоначчи: False\n",
      "\n",
      "Проверка является ли число 987 числом Фибоначчи: True\n",
      "\n",
      "Проверка является ли число 9999 числом Фибоначчи: False\n"
     ]
    }
   ],
   "source": [
    "#search_list = [21, 33, 987, 9999]\n",
    "number1 = 21\n",
    "number2 = 33\n",
    "number3 = 987\n",
    "number4 = 9999\n",
    "\n",
    "print('\\nПроверка является ли число', number1,'числом Фибоначчи:',number1 in fibonacci_list)\n",
    "print('\\nПроверка является ли число', number2,'числом Фибоначчи:',number2 in fibonacci_list)\n",
    "print('\\nПроверка является ли число', number3,'числом Фибоначчи:',number3 in fibonacci_list)\n",
    "print('\\nПроверка является ли число', number4,'числом Фибоначчи:',number4 in fibonacci_list)"
   ]
  },
  {
   "cell_type": "markdown",
   "id": "dcdad8af-7eb3-4141-9ddf-fe563743c56b",
   "metadata": {},
   "source": [
    "Задание 5.\n",
    "Задайте переменную a_list типа \"список\" со следующим содержимым:\n",
    "<code>\n",
    "1,2,5,4,3,6\n",
    "</code>\n",
    "- выведите содержимое a_list на экран\n",
    "- поменяйте местами третий и пятый элементы a_list и выведите результат на экран"
   ]
  },
  {
   "cell_type": "code",
   "execution_count": 2,
   "id": "bda69f95-b8b5-4129-b0cb-d4ccbedc60c7",
   "metadata": {},
   "outputs": [
    {
     "name": "stdout",
     "output_type": "stream",
     "text": [
      "[1, 2, 5, 4, 3, 6]\n"
     ]
    }
   ],
   "source": [
    "a_list = [1,2,5,4,3,6]\n",
    "print(a_list)"
   ]
  },
  {
   "cell_type": "code",
   "execution_count": 132,
   "id": "4a388f24-1cd7-4882-a312-29f47d2e3478",
   "metadata": {},
   "outputs": [],
   "source": [
    "#a_list[2:5] = a_list[5:2]\n",
    "#print(a_list)"
   ]
  },
  {
   "cell_type": "code",
   "execution_count": 3,
   "id": "a84faf76-9977-47e2-a6ba-5d596c4e178c",
   "metadata": {},
   "outputs": [
    {
     "name": "stdout",
     "output_type": "stream",
     "text": [
      "[1, 2, 3, 4, 5, 6]\n"
     ]
    }
   ],
   "source": [
    "a_list[2], a_list[4] = a_list[4], a_list[2]\n",
    "print(a_list)"
   ]
  },
  {
   "cell_type": "markdown",
   "id": "15144689-623a-43a5-80ca-0483f66017a1",
   "metadata": {},
   "source": [
    "Задание 6.\n",
    "    Кто-то перепутал строчки в стихотворении, хорошо что они были пронумерованы.\n",
    "<code>\n",
    "    (2, \"тот большего добьётся,\" )\n",
    "    (5, \"Кто умирал, тот знает, что живёт.\")\n",
    "    (1, \"Кто битым жизнью был,\" )\n",
    "    (3, \"Пуд соли съевший выше ценит мёд.\")\n",
    "    (4, \"Кто слёзы лил, тот искренней смеётся,\") \n",
    "</code>\n",
    "    выведите на экран строки Омара Хайама в правильном порядке, используя список."
   ]
  },
  {
   "cell_type": "code",
   "execution_count": 142,
   "id": "e85d1901-5856-41e1-bfb8-382e8489f86b",
   "metadata": {},
   "outputs": [
    {
     "name": "stdout",
     "output_type": "stream",
     "text": [
      "[(1, 'Кто битым жизнью был,'), (2, 'тот большего добьётся,'), (3, 'Пуд соли съевший выше ценит мёд.'), (4, 'Кто слёзы лил, тот искренней смеётся,'), (5, 'Кто умирал, тот знает, что живёт.')]\n"
     ]
    }
   ],
   "source": [
    "omar_list = [(2, \"тот большего добьётся,\" ),\n",
    "(5, \"Кто умирал, тот знает, что живёт.\"),\n",
    "(1, \"Кто битым жизнью был,\" ),\n",
    "(3, \"Пуд соли съевший выше ценит мёд.\"),\n",
    "(4, \"Кто слёзы лил, тот искренней смеётся,\")]\n",
    "\n",
    "omar_list.sort()\n",
    "\n",
    "print(omar_list)"
   ]
  },
  {
   "cell_type": "markdown",
   "id": "d1eaace5-016a-4564-b189-33876e6c0e20",
   "metadata": {},
   "source": [
    "Задание 7.\n",
    "<code>\n",
    "Кто битым за дедлайн был,\n",
    "тот больше не сольется.\n",
    "Пуд багов съевший, выше ценит чистый код.\n",
    "Кто дошик ел, тот рейтинг ценит свой.\n",
    "Кто крашился, тот знает, что живой.\n",
    "</code>\n",
    "В данном задании после каждой операции выводите на экран содержимое true_story_list и количество его элементов.\n",
    "- Создайте переменную true_story_list типа список, занесите в неё третью строку из стихотворения выше.\n",
    "- Добавьте четвертую строку в конец списка true_story_list.\n",
    "- Создайте переменную true_story_slice типа список, занесите в неё четвертую и пятую строки из стихотворения выше. Добавьте содержимое true_story_slice как один последний элемент списка true_story_list.\n",
    "- Очистите весь список true_story_slice, выведите его содержимое на экран.\n",
    "- Добавьте первую строку из стихотворение в начало списка true_story_list\n",
    "- Удалите из true_story_list все элементы.\n",
    "- Удалите последний элемент списка true_story_list\n",
    "- Добавьте вторым элементом списка true_story_list вторую строчку стихотворения\n",
    "- Создайте переменную true_story_tail типа список, занесите в него пятую строку стихотворения дважды. Скопируйте элементы списка true_story_tail в конец списка true_story_list.\n",
    "- Удалите 5 элемент списка true_story_list.\n",
    "- *Выведите список true_story_list красиво в виде стихотворения. (кажется, это ещё не проходили, но попробовать стоит)"
   ]
  },
  {
   "cell_type": "code",
   "execution_count": 33,
   "id": "f022d5b0-5d91-4662-9bf2-6bc20fb1b269",
   "metadata": {},
   "outputs": [
    {
     "name": "stdout",
     "output_type": "stream",
     "text": [
      "['Пуд багов съевший, выше ценит чистый код.']\n",
      "Количество элементов: 1\n"
     ]
    }
   ],
   "source": [
    "true_story_list = []\n",
    "true_story_list = ['Пуд багов съевший, выше ценит чистый код.']\n",
    "\n",
    "print(true_story_list)\n",
    "print('Количество элементов:',len(true_story_list))"
   ]
  },
  {
   "cell_type": "code",
   "execution_count": 34,
   "id": "131970ee-ac87-4400-80ba-a2b1ea7d6a12",
   "metadata": {},
   "outputs": [
    {
     "name": "stdout",
     "output_type": "stream",
     "text": [
      "['Пуд багов съевший, выше ценит чистый код.', 'Кто дошик ел, тот рейтинг ценит свой.']\n",
      "Количество элементов: 2\n"
     ]
    }
   ],
   "source": [
    "true_story_list.append('Кто дошик ел, тот рейтинг ценит свой.')\n",
    "\n",
    "print(true_story_list)\n",
    "print('Количество элементов:',len(true_story_list))"
   ]
  },
  {
   "cell_type": "code",
   "execution_count": 35,
   "id": "9e472751-9760-4849-903c-c0c9d5c51d42",
   "metadata": {},
   "outputs": [
    {
     "name": "stdout",
     "output_type": "stream",
     "text": [
      "['Пуд багов съевший, выше ценит чистый код.', 'Кто дошик ел, тот рейтинг ценит свой.', ['Кто дошик ел, тот рейтинг ценит свой.', 'Кто крашился, тот знает, что живой.']]\n",
      "Количество элементов: 3\n"
     ]
    }
   ],
   "source": [
    "true_story_slice = []\n",
    "true_story_slice = ['Кто дошик ел, тот рейтинг ценит свой.', 'Кто крашился, тот знает, что живой.']\n",
    "\n",
    "true_story_list.append(true_story_slice)\n",
    "\n",
    "print(true_story_list)\n",
    "print('Количество элементов:',len(true_story_list))"
   ]
  },
  {
   "cell_type": "code",
   "execution_count": 36,
   "id": "7445d7e0-60b6-4067-a1dc-b2f42f30490c",
   "metadata": {},
   "outputs": [
    {
     "name": "stdout",
     "output_type": "stream",
     "text": [
      "[]\n"
     ]
    }
   ],
   "source": [
    "true_story_slice.clear()\n",
    "print(true_story_slice)"
   ]
  },
  {
   "cell_type": "code",
   "execution_count": 37,
   "id": "c7433ee9-2f32-4cfa-86ac-df0cf7ce0d8c",
   "metadata": {},
   "outputs": [
    {
     "name": "stdout",
     "output_type": "stream",
     "text": [
      "['Кто битым за дедлайн был,', 'Пуд багов съевший, выше ценит чистый код.', 'Кто дошик ел, тот рейтинг ценит свой.', []]\n",
      "Количество элементов: 4\n"
     ]
    }
   ],
   "source": [
    "true_story_list.insert(0,'Кто битым за дедлайн был,')\n",
    "\n",
    "print(true_story_list)\n",
    "print('Количество элементов:',len(true_story_list))"
   ]
  },
  {
   "cell_type": "code",
   "execution_count": 38,
   "id": "e2645db5-08f1-4162-84a3-0423c7802052",
   "metadata": {},
   "outputs": [
    {
     "name": "stdout",
     "output_type": "stream",
     "text": [
      "['Кто битым за дедлайн был,', 'Пуд багов съевший, выше ценит чистый код.', 'Кто дошик ел, тот рейтинг ценит свой.']\n",
      "Количество элементов: 3\n"
     ]
    }
   ],
   "source": [
    "true_story_list.pop()\n",
    "\n",
    "print(true_story_list)\n",
    "print('Количество элементов:',len(true_story_list))"
   ]
  },
  {
   "cell_type": "code",
   "execution_count": 39,
   "id": "3e5e9b6e-1c34-4f18-b96f-151880384c9b",
   "metadata": {},
   "outputs": [
    {
     "name": "stdout",
     "output_type": "stream",
     "text": [
      "['Кто битым за дедлайн был,', 'тот больше не сольется.', 'Пуд багов съевший, выше ценит чистый код.', 'Кто дошик ел, тот рейтинг ценит свой.']\n",
      "Количество элементов: 4\n"
     ]
    }
   ],
   "source": [
    "true_story_list.insert(1, 'тот больше не сольется.')\n",
    "\n",
    "print(true_story_list)\n",
    "print('Количество элементов:',len(true_story_list))"
   ]
  },
  {
   "cell_type": "code",
   "execution_count": 40,
   "id": "f41e58ef-9413-4427-b35b-7f006c3889f4",
   "metadata": {},
   "outputs": [
    {
     "name": "stdout",
     "output_type": "stream",
     "text": [
      "['Кто битым за дедлайн был,', 'тот больше не сольется.', 'Пуд багов съевший, выше ценит чистый код.', 'Кто дошик ел, тот рейтинг ценит свой.', 'Кто крашился, тот знает, что живой.', 'Кто крашился, тот знает, что живой.']\n",
      "Количество элементов: 6\n"
     ]
    }
   ],
   "source": [
    "true_story_tail = []\n",
    "true_story_tail = ['Кто крашился, тот знает, что живой.', 'Кто крашился, тот знает, что живой.']\n",
    "\n",
    "true_story_list.extend(true_story_tail)\n",
    "\n",
    "print(true_story_list)\n",
    "print('Количество элементов:',len(true_story_list))"
   ]
  },
  {
   "cell_type": "code",
   "execution_count": 41,
   "id": "f3dd9187-d8bf-4115-b1af-2cb80b10298c",
   "metadata": {},
   "outputs": [
    {
     "name": "stdout",
     "output_type": "stream",
     "text": [
      "['Кто битым за дедлайн был,', 'тот больше не сольется.', 'Пуд багов съевший, выше ценит чистый код.', 'Кто дошик ел, тот рейтинг ценит свой.', 'Кто крашился, тот знает, что живой.', 'Кто крашился, тот знает, что живой.']\n",
      "Количество элементов: 6\n"
     ]
    }
   ],
   "source": [
    "print(true_story_list)\n",
    "print('Количество элементов:',len(true_story_list))\n",
    "#print(type(true_story_list[1]))"
   ]
  },
  {
   "cell_type": "code",
   "execution_count": 42,
   "id": "e03aceca-88d5-41f4-b2af-860ab3e5af11",
   "metadata": {},
   "outputs": [
    {
     "name": "stdout",
     "output_type": "stream",
     "text": [
      "['Кто битым за дедлайн был,', 'тот больше не сольется.', 'Пуд багов съевший, выше ценит чистый код.', 'Кто дошик ел, тот рейтинг ценит свой.', 'Кто крашился, тот знает, что живой.']\n",
      "Количество элементов: 5\n"
     ]
    }
   ],
   "source": [
    "#true_story_list[1].pop(0)\n",
    "#true_story_list.remove(4)\n",
    "del true_story_list[4]\n",
    "\n",
    "print(true_story_list)\n",
    "print('Количество элементов:',len(true_story_list))"
   ]
  }
 ],
 "metadata": {
  "kernelspec": {
   "display_name": "Python 3 (ipykernel)",
   "language": "python",
   "name": "python3"
  },
  "language_info": {
   "codemirror_mode": {
    "name": "ipython",
    "version": 3
   },
   "file_extension": ".py",
   "mimetype": "text/x-python",
   "name": "python",
   "nbconvert_exporter": "python",
   "pygments_lexer": "ipython3",
   "version": "3.10.10"
  }
 },
 "nbformat": 4,
 "nbformat_minor": 5
}
