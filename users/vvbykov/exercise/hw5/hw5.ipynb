{
 "cells": [
  {
   "cell_type": "code",
   "execution_count": 13,
   "id": "37682f41-7959-4d5d-af6e-fb3097aac452",
   "metadata": {},
   "outputs": [
    {
     "name": "stdout",
     "output_type": "stream",
     "text": [
      "Set1 = {1, 2, 3, 4, 5}\n",
      "\n",
      "Set1 = {1, 3, 4, 5, 6}\n",
      "It is True that set1 contains 3\n",
      "\n",
      "Set1 = {1, 3, 4, 5, 6}\n",
      "Set2 = {4, 5, 6, 7, 8}\n",
      "A union of the set1 and set2 is {1, 3, 4, 5, 6, 7, 8}\n",
      "A difference of the set1 and set2 is {1, 3}\n",
      "\n",
      "Set1 = {'синий', 'желтый', 'красный', 'фиолетовый', 'зеленый', 'оранжевый', 'голубой'}\n",
      "Set2 = {'синий', 'Мальвиновый', 'зеленый', 'оранжевый', 'голубой'}\n",
      "An intersection of the set1 and set2 is {'синий', 'зеленый', 'оранжевый', 'голубой'}\n",
      "\n",
      "Rainbow_set = {'синий', 'фиолетовый', 'зеленый', 'красный', 'Мальвиновый', 'желтый', 'оранжевый', 'голубой'}\n"
     ]
    }
   ],
   "source": [
    "set1 = {1, 2, 3, 4, 5}\n",
    "print(f\"Set1 = {set1}\")\n",
    "print(\"\")\n",
    "\n",
    "set1.add(6)\n",
    "set1.remove(2)\n",
    "print(f\"Set1 = {set1}\")\n",
    "print(f\"It is {3 in set1} that set1 contains 3\")\n",
    "print(\"\")\n",
    "\n",
    "set2 = {4, 5, 6, 7, 8}\n",
    "print(f\"Set1 = {set1}\")\n",
    "print(f\"Set2 = {set2}\")\n",
    "print(f\"A union of the set1 and set2 is {set1.union(set2)}\")\n",
    "print(f\"A difference of the set1 and set2 is {set1 - set2}\")\n",
    "print(\"\")\n",
    "\n",
    "set1 = {\"красный\", \"оранжевый\", \"желтый\", \"зеленый\", \"голубой\", \"синий\", \"фиолетовый\"}\n",
    "set2 = {\"оранжевый\", \"зеленый\", \"голубой\", \"синий\", \"Мальвиновый\"}\n",
    "print(f\"Set1 = {set1}\")\n",
    "print(f\"Set2 = {set2}\")\n",
    "print(f\"An intersection of the set1 and set2 is {set1.intersection(set2)}\")\n",
    "print(\"\")\n",
    "\n",
    "rainbow_set = set1.union(set2)\n",
    "print(f\"Rainbow_set = {rainbow_set}\")\n",
    "\n"
   ]
  },
  {
   "cell_type": "code",
   "execution_count": null,
   "id": "253529b2-8fd4-4c01-b420-221960454c11",
   "metadata": {},
   "outputs": [],
   "source": []
  }
 ],
 "metadata": {
  "kernelspec": {
   "display_name": "Python 3 (ipykernel)",
   "language": "python",
   "name": "python3"
  },
  "language_info": {
   "codemirror_mode": {
    "name": "ipython",
    "version": 3
   },
   "file_extension": ".py",
   "mimetype": "text/x-python",
   "name": "python",
   "nbconvert_exporter": "python",
   "pygments_lexer": "ipython3",
   "version": "3.10.10"
  }
 },
 "nbformat": 4,
 "nbformat_minor": 5
}
