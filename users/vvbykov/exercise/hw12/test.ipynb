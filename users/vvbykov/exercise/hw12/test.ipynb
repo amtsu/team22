{
 "cells": [
  {
   "cell_type": "code",
   "execution_count": 2,
   "id": "44b4a140-d489-4bfc-b462-6207b5430f84",
   "metadata": {},
   "outputs": [
    {
     "name": "stdout",
     "output_type": "stream",
     "text": [
      "geely 0\n",
      "geely 40\n",
      "geely 0\n"
     ]
    }
   ],
   "source": [
    "from car import *\n",
    "\n",
    "my_car = Car(\"geely\", \"white\", 2015, 4)\n",
    "\n",
    "print(my_car.model, my_car.speed)\n",
    "my_car.go()\n",
    "print(my_car.model, my_car.speed)\n",
    "my_car.stop()\n",
    "print(my_car.model, my_car.speed)\n",
    "\n"
   ]
  },
  {
   "cell_type": "code",
   "execution_count": 3,
   "id": "a0092a29-0221-4b6b-8992-2ebd738701fb",
   "metadata": {},
   "outputs": [
    {
     "name": "stdout",
     "output_type": "stream",
     "text": [
      "2024-04-30\n"
     ]
    }
   ],
   "source": [
    "import datetime\n",
    "\n",
    "x = datetime.datetime.now()\n",
    "type(x.year)\n",
    "print(x.date())"
   ]
  },
  {
   "cell_type": "code",
   "execution_count": 2,
   "id": "b12077af-03ed-4184-92a2-a19e79bd0c4b",
   "metadata": {},
   "outputs": [
    {
     "name": "stdout",
     "output_type": "stream",
     "text": [
      "0\n",
      "ID \t Full name \t Avr. mark\n",
      "========================================\n",
      "5\tPetr Ivanov\t-1\n",
      "6\tVarvara Bykova\t-1\n",
      "7\tMarfa Bykova\t-1\n",
      "8\tTsurkov Artem\t-1\n",
      "\n",
      "4\n",
      "ID \t Full name \t Avr. mark\n",
      "========================================\n",
      "5\tPetr Ivanov\t-1\n",
      "6\tVarvara Bykova\t-1\n",
      "8\tTsurkov Artem\t-1\n",
      "\n",
      "3\n"
     ]
    }
   ],
   "source": [
    "from student import *\n",
    "from institution import *\n",
    "import datetime\n",
    "\n",
    "s1 = Student(\"Petr\", \"Ivanov\", 21, \"Khimki\")\n",
    "s2 = Student(\"Varvara\", \"Bykova\", 19, \"Khimki\")\n",
    "s3 = Student(\"Marfa\", \"Bykova\", 18, \"Khimki\")\n",
    "s4 = Student(\"Tsurkov\", \"Artem\", 23, \"Moscow\")\n",
    "\n",
    "print(len(s1))\n",
    "\n",
    "\n",
    "\n",
    "inst = Institution()\n",
    "inst.admit(s1)\n",
    "inst.admit(s2)\n",
    "inst.admit(s3)\n",
    "inst.admit(s4)\n",
    "\n",
    "print(inst)\n",
    "print(len(inst))\n",
    "\n",
    "inst.exclude(s3.id)\n",
    "\n",
    "print(inst)\n",
    "print(len(inst))\n"
   ]
  },
  {
   "cell_type": "code",
   "execution_count": 5,
   "id": "cbb395af-ff13-45a7-9a4e-406be5e1d11e",
   "metadata": {},
   "outputs": [
    {
     "name": "stdout",
     "output_type": "stream",
     "text": [
      "True\n"
     ]
    }
   ],
   "source": [
    "pages = 1\n",
    "print(type(pages) is int)"
   ]
  },
  {
   "cell_type": "code",
   "execution_count": 6,
   "id": "bddb3fca-acc8-44a2-a30f-4b678e2175e3",
   "metadata": {},
   "outputs": [
    {
     "name": "stdout",
     "output_type": "stream",
     "text": [
      "Arthur Conan Doyle\n",
      "162\n",
      "Ward Lock & Co\n"
     ]
    }
   ],
   "source": [
    "from book import *\n",
    "\n",
    "b1 = Book(\"A Study in Scarlet\", \"Arthur Conan Doyle\", 162, \"Ward Lock & Co\")\n",
    "\n",
    "print(b1.author)\n",
    "print(b1.pages)\n",
    "print(b1.publisher)\n",
    "\n",
    "\n"
   ]
  },
  {
   "cell_type": "code",
   "execution_count": 2,
   "id": "035ee9af-fc35-4432-94e1-a07f10fed328",
   "metadata": {
    "scrolled": true
   },
   "outputs": [
    {
     "name": "stdout",
     "output_type": "stream",
     "text": [
      "Stok is empty\n",
      "\n",
      "Remaining stocks\n",
      "Art. \t Title \t Qnty \n",
      "========================================\n",
      "12051\tTable\t10\n",
      "12052\tChair\t10\n",
      "12053\tCabinet\t5\n",
      "\n",
      "Art.\tItem\tQnty\tPrice\tCost\n",
      "============================================================\n",
      "12051\tTable\t1\t1500.0\t1500.0\n",
      "12052\tChair\t4\t450.0\t1800.0\n",
      "12053\tCabinet\t1\t4550.0\t4550.0\n",
      "\n",
      "Total 7850.0\n",
      "\n",
      "created\n",
      "paid\n",
      "\n",
      "ready\n",
      "\n",
      "Remaining stocks\n",
      "Art. \t Title \t Qnty \n",
      "========================================\n",
      "12051\tTable\t9\n",
      "12052\tChair\t6\n",
      "12053\tCabinet\t4\n",
      "\n",
      "\n",
      "compleated\n"
     ]
    }
   ],
   "source": [
    "from shoppingcart import *\n",
    "from shop import * \n",
    "\n",
    "pr1 = Product(12051, \"Table\", 10)\n",
    "pr2 = Product(12052, \"Chair\", 10)\n",
    "pr3 = Product(12053, \"Cabinet\", 5)\n",
    "\n",
    "stock = Warehouse()\n",
    "print(stock)\n",
    "print()\n",
    "\n",
    "stock.recive(pr1)\n",
    "stock.recive(pr2)\n",
    "stock.recive(pr3)\n",
    "\n",
    "print(stock)\n",
    "\n",
    "p1 = ShoppingItem(12051, \"Table\", 1, 1500.00)\n",
    "p2 = ShoppingItem(12052, \"Chair\", 4, 450.00)\n",
    "p3 = ShoppingItem(12053, \"Cabinet\", 1, 4550.00)\n",
    "\n",
    "cm = ShoppingCart()\n",
    "\n",
    "cm.cart_add(p1)\n",
    "cm.cart_add(p2)\n",
    "cm.cart_add(p3)\n",
    "\n",
    "cm.cart_print()\n",
    "\n",
    "order = Order(cm)\n",
    "print()\n",
    "print(order.state)\n",
    "\n",
    "# Проверка оплаты заказа\n",
    "order.change_state_to_paid()\n",
    "print(order.state)\n",
    "\n",
    "# Проверка оплаты заказа\n",
    "for item in order.items:\n",
    "    stock.writeoff(item.art, item.qnty)\n",
    "\n",
    "print()\n",
    "order.change_state_to_ready()\n",
    "print(order.state)\n",
    "\n",
    "print()\n",
    "print(stock)\n",
    "\n",
    "print()\n",
    "order.change_state_to_compleated()\n",
    "print(order.state)\n",
    "\n",
    "    "
   ]
  },
  {
   "cell_type": "code",
   "execution_count": 8,
   "id": "3fd03ffb-9f7e-4227-a6cb-c1e37bd355b6",
   "metadata": {},
   "outputs": [
    {
     "name": "stdout",
     "output_type": "stream",
     "text": [
      "blue\n",
      "213.63\n",
      "3631.68\n"
     ]
    }
   ],
   "source": [
    "from circle import *\n",
    "\n",
    "c = Circle(\"blue\", 34)\n",
    "\n",
    "print(c.colour)\n",
    "print(c.perimeter)\n",
    "print(c.area)"
   ]
  },
  {
   "cell_type": "code",
   "execution_count": 9,
   "id": "3f0500db-a0d5-457d-b12b-28fa18bdd15b",
   "metadata": {},
   "outputs": [
    {
     "name": "stdout",
     "output_type": "stream",
     "text": [
      "7.07\n"
     ]
    }
   ],
   "source": [
    "from point import *\n",
    "\n",
    "p1 = Point(-1, 3)\n",
    "p2 = Point(6, 2)\n",
    "\n",
    "print(Calculator.distance_between_points(p1, p2))"
   ]
  },
  {
   "cell_type": "code",
   "execution_count": 10,
   "id": "c67f004a-d843-49f7-9111-1e1dc4d44510",
   "metadata": {},
   "outputs": [
    {
     "name": "stdout",
     "output_type": "stream",
     "text": [
      "12\n",
      "прямоугольный\n",
      "140098493592336\n"
     ]
    }
   ],
   "source": [
    "from triangle import *\n",
    "t1 = Triangle(3, 4, 5)\n",
    "print(t1.perimeter)\n",
    "print(t1.triangle_type)\n",
    "print(id(t1))\n"
   ]
  },
  {
   "cell_type": "code",
   "execution_count": 11,
   "id": "2cbd347f-d76f-40de-a308-d9fd8a084f6e",
   "metadata": {},
   "outputs": [
    {
     "name": "stdout",
     "output_type": "stream",
     "text": [
      "100\n",
      "60\n"
     ]
    }
   ],
   "source": [
    "from bankaccount import *\n",
    "b1 = BankAccount(1, \"Vaily\", \"Ivanov\")\n",
    "b2 = BankAccount(2, \"Serafim\", \"Petrov\")\n",
    "b1.deposit(100)\n",
    "print (b1.balance)\n",
    "b1.withdraw(40)\n",
    "print (b1.balance)"
   ]
  },
  {
   "cell_type": "code",
   "execution_count": 3,
   "id": "fca8e9f8-5b6a-4cde-9a87-e5bf53a66847",
   "metadata": {},
   "outputs": [
    {
     "name": "stdout",
     "output_type": "stream",
     "text": [
      "2024-5-4\n",
      "2024-5-1\n",
      "3\n"
     ]
    }
   ],
   "source": [
    "from mydate import *\n",
    "d1 = MyDate(2024, 5, 4)\n",
    "d2 = MyDate(2024, 5, 1)\n",
    "print(d1)\n",
    "print(d2)\n",
    "print(d1 - d2)"
   ]
  },
  {
   "cell_type": "code",
   "execution_count": 7,
   "id": "2c8d607a-899e-4749-b6a1-55b5dcde7fc7",
   "metadata": {},
   "outputs": [
    {
     "data": {
      "text/plain": [
       "213.62830044410595"
      ]
     },
     "execution_count": 7,
     "metadata": {},
     "output_type": "execute_result"
    }
   ],
   "source": [
    "2 * 3.141592653589793 * 34"
   ]
  },
  {
   "cell_type": "code",
   "execution_count": 1,
   "id": "a52faf52-5d17-4dda-8552-7afe21cfa67c",
   "metadata": {},
   "outputs": [
    {
     "name": "stdout",
     "output_type": "stream",
     "text": [
      "22.93\n",
      "30.0\n"
     ]
    }
   ],
   "source": [
    "from polygone import *\n",
    "\n",
    "#p1 = Point(1, 3)\n",
    "#p2 = Point(4, 3)\n",
    "#p3 = Point(4, 7)\n",
    "\n",
    "p1 = Point(5, 7)\n",
    "p2 = Point(9, 7)\n",
    "p3 = Point(10, 2)\n",
    "p4 = Point(2, 2)\n",
    "\n",
    "poly = Polygone(\"red\", [p1, p2, p3, p4])\n",
    "print(poly.perimeter)\n",
    "print(poly.area)\n"
   ]
  },
  {
   "cell_type": "code",
   "execution_count": 1,
   "id": "11ba90ed-3749-46fe-b24d-6d3cc17308a8",
   "metadata": {},
   "outputs": [
    {
     "name": "stdout",
     "output_type": "stream",
     "text": [
      "[[5, 5, 6], [7, 7, 10], [12, 12, 13]]\n",
      "[[-3, -1, 0], [3, 5, 4], [2, 0, -3]]\n",
      "[[23, 23, 33], [67, 63, 89], [65, 57, 79]]\n",
      "[[1, 5, 7], [2, 6, 6], [3, 7, 5]]\n",
      "-22.0\n",
      "[[0.45, 0.27, -0.27], [0.05, -0.77, 0.27], [-0.32, 0.41, 0.09]]\n"
     ]
    }
   ],
   "source": [
    "from matrix import *\n",
    "\n",
    "m1 = Matrix([[1, 2, 3], [5, 6, 7], [7, 6, 5]])\n",
    "m2 = Matrix([[4, 3, 3], [2, 1, 3], [5, 6, 8]])\n",
    "\n",
    "print(m1 + m2)\n",
    "print(m1 - m2)\n",
    "print(m1*m2)\n",
    "print(m1.trans())\n",
    "print(m2.det())\n",
    "print(m2.inv())\n"
   ]
  },
  {
   "cell_type": "code",
   "execution_count": 2,
   "id": "67942174-48b6-4443-a940-487ac35a8e78",
   "metadata": {},
   "outputs": [
    {
     "name": "stdout",
     "output_type": "stream",
     "text": [
      "[[0, 0], [0, 0], [0, 0]]\n"
     ]
    }
   ],
   "source": [
    "N = 3\n",
    "M = 2\n",
    "A = [ [0]*M for i in range(N) ]\n",
    "\n",
    "print(A)"
   ]
  },
  {
   "cell_type": "code",
   "execution_count": null,
   "id": "d571125f-7a70-4812-9e64-d15018326eaf",
   "metadata": {},
   "outputs": [],
   "source": []
  }
 ],
 "metadata": {
  "kernelspec": {
   "display_name": "Python 3 (ipykernel)",
   "language": "python",
   "name": "python3"
  },
  "language_info": {
   "codemirror_mode": {
    "name": "ipython",
    "version": 3
   },
   "file_extension": ".py",
   "mimetype": "text/x-python",
   "name": "python",
   "nbconvert_exporter": "python",
   "pygments_lexer": "ipython3",
   "version": "3.10.10"
  }
 },
 "nbformat": 4,
 "nbformat_minor": 5
}
