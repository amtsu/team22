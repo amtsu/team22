{
 "cells": [
  {
   "cell_type": "markdown",
   "id": "60d60ab7-f77e-4fb9-ac63-856dfc605f3b",
   "metadata": {},
   "source": [
    "<h1>Функции, циклы, условные операторы </h1>"
   ]
  },
  {
   "cell_type": "code",
   "execution_count": 52,
   "id": "27be4249-58a1-470b-9113-843386a9848b",
   "metadata": {},
   "outputs": [
    {
     "name": "stdout",
     "output_type": "stream",
     "text": [
      "1 2 3\n",
      "4 5 6\n",
      "7 8 9\n",
      "==============================\n",
      "1 2 3\n",
      "4 5 6\n",
      "7 8 9\n",
      "10 11 12\n",
      "==============================\n",
      "1 2\n",
      "3 4\n",
      "5 6\n",
      "7 8\n",
      "==============================\n",
      "1 5 9\n",
      "2 6 10\n",
      "==============================\n",
      "1\n",
      "2\n",
      "3\n",
      "==============================\n"
     ]
    }
   ],
   "source": [
    "'''\n",
    "Задание 1. Написать функцию для вывода двумерной матрицы по столбцам, \n",
    "не используя индексацию (с помощью [] или любым другим способом получения\n",
    "элемента по заданному индексу).\n",
    "Функция должна принимать на вход список и ничего не возвращать\n",
    "'''\n",
    "def print_matrix(matrix):\n",
    "    t_rows = list(zip(*matrix))\n",
    "    for i in t_rows:\n",
    "        print(*i)\n",
    "    \n",
    "    \n",
    "#проверка        \n",
    "matrix1 = [[1,4,7,],[2,5,8,],[3,6,9,]]\n",
    "matrix2 = [[1,4,7,10],[2,5,8,11],[3,6,9,12]]\n",
    "matrix3 = [[1,3,5,7],[2,4,6,8],]\n",
    "matrix4 = [[1,2,],[5,6,],[9,10,]]\n",
    "matrix5 = [[1,2,3],]\n",
    "matrix6 = []\n",
    "\n",
    "print_matrix(matrix1)\n",
    "print(\"=\"*30)\n",
    "print_matrix(matrix2)\n",
    "print(\"=\"*30)\n",
    "print_matrix(matrix3)\n",
    "print(\"=\"*30)\n",
    "print_matrix(matrix4)\n",
    "print(\"=\"*30)\n",
    "print_matrix(matrix5)\n",
    "print(\"=\"*30)\n",
    "print_matrix(matrix6)"
   ]
  },
  {
   "cell_type": "code",
   "execution_count": 59,
   "id": "f90963ba-c3e6-406c-9ec5-d9b71d933ff1",
   "metadata": {},
   "outputs": [
    {
     "name": "stdout",
     "output_type": "stream",
     "text": [
      "Call of the function #1\n",
      "Call of the function #2\n",
      "Call of the function #3\n",
      "Call of the function #4\n",
      "Call of the function #5\n",
      "Call of the function #6\n",
      "Call of the function #7\n",
      "Call of the function #8\n",
      "Call of the function #9\n",
      "Call of the function #10\n"
     ]
    }
   ],
   "source": [
    "'''\n",
    "Задание 2. Напишите функцию, вызывающую саму себя 10 раз;\n",
    "функция должна вызываться как ten_times() и ничего не возвращать;\n",
    "'''\n",
    "def ten_times(n: int = 0) -> None:\n",
    "    if n < 10: \n",
    "        print(f'Call of the function #{n + 1}')\n",
    "        n += 1\n",
    "        ten_times(n)\n",
    "\n",
    "\n",
    "#проверка\n",
    "ten_times()"
   ]
  },
  {
   "cell_type": "code",
   "execution_count": 36,
   "id": "b5bc6f9c-b98b-44d6-87e2-8b2c1d68893d",
   "metadata": {},
   "outputs": [
    {
     "name": "stdout",
     "output_type": "stream",
     "text": [
      "ВСЁ ГЛАЗЕЛ НА НИХ\n",
      "САКУРЫ ЦВЕТЫ, ПОКА\n",
      "ШЕЮ НЕ СВЕЛО\n",
      "\n",
      "ё\n",
      "к\n",
      "ю\n",
      "\n",
      "\u001b[31mВсё глазел на них\u001b[0m\n",
      "\u001b[31mСакуры цветы, пока\u001b[0m\n",
      "\u001b[31mШею не свело\u001b[0m\n",
      "\n",
      "\u001b[31mВсё \u001b[32mглазел \u001b[33mна \u001b[34mних \u001b[0m\n",
      "\u001b[31mСакуры \u001b[32mцветы, \u001b[33mпока \u001b[0m\n",
      "\u001b[31mШею \u001b[32mне \u001b[33mсвело \u001b[0m\n",
      "\n",
      "Всё \u001b[1mглазел\u001b[0m на них\n",
      "Сакуры \u001b[1mцветы,\u001b[0m пока\n",
      "Шею \u001b[1mне\u001b[0m свело\n",
      "\n",
      "\u001b[34mвсё глазел на них\u001b[0m\n",
      "\u001b[34mсакуры цветы, пока\u001b[0m\n",
      "\u001b[34mшею не свело\u001b[0m\n",
      "\n"
     ]
    },
    {
     "data": {
      "text/plain": [
       "'\\nМодифицируйте функцию print_haiku таким образом, чтобы можно было \\nвыполнять произвольное преобразование над выводом строк.\\nПосторайтесь сильно не менять код print_haiku()\\nВыведите с помощью модифицированной функции print_haiku все строки хайку :\\n - заглавными буквами\\n - только каждый третий символ строк\\n - красным цветом (https://habr.com/ru/sandbox/158854/, первый раздел)\\n\\n'"
      ]
     },
     "execution_count": 36,
     "metadata": {},
     "output_type": "execute_result"
    }
   ],
   "source": [
    "'''\n",
    "Задание 3.\n",
    "'''\n",
    "# дан отрывок кода\n",
    "a_haiku = [\"Всё глазел на них\",\n",
    "\"Сакуры цветы, пока\",\n",
    "\"Шею не свело\"]\n",
    "\n",
    "def print_line_method01(s1: str) -> str:\n",
    "    return s1.upper()\n",
    "\n",
    "\n",
    "def print_line_method02(s1: str) -> str:\n",
    "    return s1[2]\n",
    "\n",
    "\n",
    "def print_line_method03(s1: str) -> str:\n",
    "    return f\"\\033[31m{s1}\\033[0m\"\n",
    "\n",
    "\n",
    "def print_line_method04(s1: str) -> str:\n",
    "    words = s1.split()\n",
    "    color = 31\n",
    "    for i in range(len(words)):\n",
    "        words[i] = f\"\\033[{color}m{words[i]}\"\n",
    "        color += 1\n",
    "        if color > 37:\n",
    "            color = 31\n",
    "    words.append(\"\\033[0m\")\n",
    "    return \" \".join(words)\n",
    "\n",
    "\n",
    "def print_line_method05(s1: str) -> str:\n",
    "    words = s1.split()\n",
    "    words[1] = f\"\\033[1m{words[1]}\\033[0m\"    \n",
    "    return \" \".join(words)\n",
    "\n",
    "def print_line_method06(s1: str) -> str:\n",
    "    return f\"\\033[34m{s1.lower()}\\033[0m\"\n",
    "\n",
    "def print_haiku(haiku, func):\n",
    "    for line in haiku:\n",
    "        print(func(line))\n",
    "    print(\"\")\n",
    "\n",
    "print_haiku(a_haiku, print_line_method01)\n",
    "print_haiku(a_haiku, print_line_method02)\n",
    "print_haiku(a_haiku, print_line_method03)\n",
    "print_haiku(a_haiku, print_line_method04)\n",
    "print_haiku(a_haiku, print_line_method05)\n",
    "print_haiku(a_haiku, print_line_method06)\n",
    "\n",
    "'''\n",
    "Модифицируйте функцию print_haiku таким образом, чтобы можно было \n",
    "выполнять произвольное преобразование над выводом строк.\n",
    "Посторайтесь сильно не менять код print_haiku()\n",
    "Выведите с помощью модифицированной функции print_haiku все строки хайку :\n",
    " - заглавными буквами\n",
    " - только каждый третий символ строк\n",
    " - красным цветом (https://habr.com/ru/sandbox/158854/, первый раздел)\n",
    "\n",
    "'''\n"
   ]
  },
  {
   "cell_type": "code",
   "execution_count": 12,
   "id": "2942ff5e-80a1-4245-aad6-3aca355745ad",
   "metadata": {},
   "outputs": [
    {
     "name": "stdin",
     "output_type": "stream",
     "text": [
      "Enter the method number >> 1\n"
     ]
    },
    {
     "name": "stdout",
     "output_type": "stream",
     "text": [
      "ВСЁ ГЛАЗЕЛ НА НИХ\n",
      "САКУРЫ ЦВЕТЫ, ПОКА\n",
      "ШЕЮ НЕ СВЕЛО\n",
      "\n"
     ]
    },
    {
     "name": "stdin",
     "output_type": "stream",
     "text": [
      "Enter the method number >> q\n"
     ]
    },
    {
     "name": "stdout",
     "output_type": "stream",
     "text": [
      "Bye-bye for now\n"
     ]
    }
   ],
   "source": [
    "'''\n",
    "Задание 4. Напишите простой пользовательский интерфейс к заданию 3.\n",
    "Пользователю должно выдаваться сообщение о возможностях вывода (меню), и приглашение на ввод\n",
    "идентификатора действия или символа `q` для выхода, например:\n",
    "\n",
    "Возможные действия:\n",
    "1 - вывод хайку заглавными буквами\n",
    "2 - вывод только третьих символов каждой строки хайку\n",
    "3 - вывод хайку красным цветом\n",
    "Введите номер действия или q для выхода: \n",
    "\n",
    "После ввода идентификатора действия, необходимо выполнить соответствующее действие \n",
    "и снова вывести меню с запросом на ввод. в случае некорректного идентификатора действия \n",
    "вывести соответствующее сообщение и снова вывести меню. После ввода q завершить работу с\n",
    "простым пользовательским интрефейсом\n",
    "'''\n",
    "user_choiсe = ''\n",
    "method_codes = ['1', '2', '3']\n",
    "while user_choiсe != 'q':\n",
    "    user_choiсe = input('Enter the method number >>')\n",
    "    if user_choiсe in method_codes:\n",
    "        match int(user_choiсe):\n",
    "            case 1: \n",
    "                print_haiku(a_haiku, print_line_method01)\n",
    "            case 2:\n",
    "                print_haiku(a_haiku, print_line_method02)\n",
    "            case 3:\n",
    "                print_haiku(a_haiku, print_line_method03)\n",
    "    elif user_choiсe != 'q':\n",
    "        print('There is no such method, try again')\n",
    "        print('')\n",
    "print('Bye-bye for now')\n",
    "    "
   ]
  },
  {
   "cell_type": "code",
   "execution_count": null,
   "id": "1de803b6-b90d-4710-bc57-71d0960bbeee",
   "metadata": {},
   "outputs": [
    {
     "name": "stdin",
     "output_type": "stream",
     "text": [
      "Enter the method number >> 1\n"
     ]
    },
    {
     "name": "stdout",
     "output_type": "stream",
     "text": [
      "ВСЁ ГЛАЗЕЛ НА НИХ\n",
      "САКУРЫ ЦВЕТЫ, ПОКА\n",
      "ШЕЮ НЕ СВЕЛО\n",
      "\n"
     ]
    },
    {
     "name": "stdin",
     "output_type": "stream",
     "text": [
      "Enter the method number >> 2\n"
     ]
    },
    {
     "name": "stdout",
     "output_type": "stream",
     "text": [
      "ё\n",
      "к\n",
      "ю\n",
      "\n"
     ]
    },
    {
     "name": "stdin",
     "output_type": "stream",
     "text": [
      "Enter the method number >> 3\n"
     ]
    },
    {
     "name": "stdout",
     "output_type": "stream",
     "text": [
      "\u001b[31mВсё глазел на них\u001b[0m\n",
      "\u001b[31mСакуры цветы, пока\u001b[0m\n",
      "\u001b[31mШею не свело\u001b[0m\n",
      "\n"
     ]
    },
    {
     "name": "stdin",
     "output_type": "stream",
     "text": [
      "Enter the method number >> 4\n"
     ]
    },
    {
     "name": "stdout",
     "output_type": "stream",
     "text": [
      "\u001b[31mВсё \u001b[32mглазел \u001b[33mна \u001b[34mних \u001b[0m\n",
      "\u001b[31mСакуры \u001b[32mцветы, \u001b[33mпока \u001b[0m\n",
      "\u001b[31mШею \u001b[32mне \u001b[33mсвело \u001b[0m\n",
      "\n"
     ]
    },
    {
     "name": "stdin",
     "output_type": "stream",
     "text": [
      "Enter the method number >> 5\n"
     ]
    },
    {
     "name": "stdout",
     "output_type": "stream",
     "text": [
      "Всё \u001b[1mглазел\u001b[0m на них\n",
      "Сакуры \u001b[1mцветы,\u001b[0m пока\n",
      "Шею \u001b[1mне\u001b[0m свело\n",
      "\n"
     ]
    },
    {
     "name": "stdin",
     "output_type": "stream",
     "text": [
      "Enter the method number >> 6\n"
     ]
    },
    {
     "name": "stdout",
     "output_type": "stream",
     "text": [
      "\u001b[34mвсё глазел на них\u001b[0m\n",
      "\u001b[34mсакуры цветы, пока\u001b[0m\n",
      "\u001b[34mшею не свело\u001b[0m\n",
      "\n"
     ]
    }
   ],
   "source": [
    "'''\n",
    "Задание 5.\n",
    "Дополните функционал задания 3 одним из следующих способов вывода хайку:\n",
    "- каждое слово в строке различным цветом,\n",
    "- в каждой строке второе слово жирным шрифтом,\n",
    "- маленькими буквами синим цветом,\n",
    "при этом текст функции print_haiku() меняться не должен. Если такая доработка потребует\n",
    "его изменения, пересмотрите дизайн функции print_haiku(), чтобы расширение функионала вывода\n",
    "не требовало изменения print_haiku()\n",
    "Добавьте в интерфейс, созданный в задании 4 созданный новый способ вывода. Оцените объем и \n",
    "удобство модификации, при необходимости пересмотрите дизайн кода интерфейса для упрощения его \n",
    "изменекния.\n",
    "\n",
    "'''\n",
    "\n",
    "user_choiсe = ''\n",
    "method_codes = ['1', '2', '3', '4', '5', '6']\n",
    "while user_choiсe != 'q':\n",
    "    user_choiсe = input('Enter the method number >>')\n",
    "    if user_choiсe in method_codes:\n",
    "        match int(user_choiсe):\n",
    "            case 1: \n",
    "                print_haiku(a_haiku, print_line_method01)\n",
    "            case 2:\n",
    "                print_haiku(a_haiku, print_line_method02)\n",
    "            case 3:\n",
    "                print_haiku(a_haiku, print_line_method03)\n",
    "            case 4:\n",
    "                print_haiku(a_haiku, print_line_method04)\n",
    "            case 5:\n",
    "                print_haiku(a_haiku, print_line_method05)\n",
    "            case 6:\n",
    "                print_haiku(a_haiku, print_line_method06)\n",
    "                \n",
    "    elif user_choiсe != 'q':\n",
    "        print('There is no such method, try again')\n",
    "        print('')\n",
    "print('Bye-bye for now')\n"
   ]
  },
  {
   "cell_type": "code",
   "execution_count": null,
   "id": "92d84acc-6796-4e95-8aa5-ff9b6baefe9c",
   "metadata": {},
   "outputs": [],
   "source": []
  }
 ],
 "metadata": {
  "kernelspec": {
   "display_name": "Python 3 (ipykernel)",
   "language": "python",
   "name": "python3"
  },
  "language_info": {
   "codemirror_mode": {
    "name": "ipython",
    "version": 3
   },
   "file_extension": ".py",
   "mimetype": "text/x-python",
   "name": "python",
   "nbconvert_exporter": "python",
   "pygments_lexer": "ipython3",
   "version": "3.10.10"
  }
 },
 "nbformat": 4,
 "nbformat_minor": 5
}
