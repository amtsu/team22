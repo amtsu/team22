{
 "cells": [
  {
   "cell_type": "markdown",
   "id": "8b297e4b-5c57-4031-8477-6852f9969a5a",
   "metadata": {},
   "source": [
    "# Упражнения  1"
   ]
  },
  {
   "cell_type": "markdown",
   "id": "6d1f2730-c3fe-48c4-8146-52ea02dee954",
   "metadata": {},
   "source": [
    "#1. Любимые вещи \n",
    "\n",
    "Создайте список своих любимых развлечений и сохраните его в переменной games. Теперь создайте список любимых лакомств, сохранив его в переменной foods. Объедините два этих списка, сохранив результат в переменной favorites, и напечатайте значение этой переменной. "
   ]
  },
  {
   "cell_type": "code",
   "execution_count": 4,
   "id": "1567335a-2f24-46f9-8f20-85fe517c6c96",
   "metadata": {},
   "outputs": [
    {
     "name": "stdout",
     "output_type": "stream",
     "text": [
      "['ski', 'climb', 'bike', 'running', 'barbecue', 'coffee', 'chocolate']\n"
     ]
    }
   ],
   "source": [
    "games = [\"ski\", \"climb\", \"bike\", \"running\"]\n",
    "foods = [\"barbecue\", \"coffee\", \"chocolate\"]\n",
    "favorites = games + foods\n",
    "print(favorites)"
   ]
  },
  {
   "cell_type": "markdown",
   "id": "f55e90dd-f196-4444-9ade-271f2a3035e3",
   "metadata": {},
   "source": [
    "#2. Подсчет воинов \n",
    "\n",
    "Есть 3 дома, на крыше каждого из которых прячутся по 25 ниндзя, и есть 2 туннеля, в каждом из которых скрывается по 40 самураев. Сколько всего воинов решили устроить заварушку? (Ответ можно найти, введя в оболочке Python арифметическое выражение.) "
   ]
  },
  {
   "cell_type": "code",
   "execution_count": 8,
   "id": "617cdd63-1c10-46e9-a456-524956c7b1e6",
   "metadata": {},
   "outputs": [
    {
     "name": "stdout",
     "output_type": "stream",
     "text": [
      "warriors = 205\n"
     ]
    }
   ],
   "source": [
    "warriors = 5*25 + 2*40\n",
    "print(f\"{warriors = }\")"
   ]
  },
  {
   "cell_type": "markdown",
   "id": "c0aed4b8-cfae-4122-a1a4-2ac301e230f3",
   "metadata": {},
   "source": [
    "#3. Приветствие \n",
    "\n",
    "Создайте две переменные: пусть одна хранит ваше имя, а другая фамилию. Теперь с помощью строки с метками %s напечатайте приветствие вроде такого: «Привет, Брандо Икетт!». "
   ]
  },
  {
   "cell_type": "code",
   "execution_count": 9,
   "id": "63e2f392-a36f-4b44-b4e5-a95e3b6521b2",
   "metadata": {},
   "outputs": [
    {
     "name": "stdout",
     "output_type": "stream",
     "text": [
      "Hello, Vladimir Bykov\n"
     ]
    }
   ],
   "source": [
    "first_name = \"Vladimir\"\n",
    "last_name = \"Bykov\"\n",
    "print(\"Hello, %s %s\" % (first_name, last_name))\n"
   ]
  },
  {
   "cell_type": "markdown",
   "id": "a8184374-86ca-44d2-bd6d-7b8e977e1414",
   "metadata": {},
   "source": [
    "# Упражнения  2"
   ]
  },
  {
   "cell_type": "markdown",
   "id": "aff0b705-69b3-46a7-a507-84ef59251ed9",
   "metadata": {},
   "source": [
    "Решите эти задачи, используя конструкции if и условия. "
   ]
  },
  {
   "cell_type": "markdown",
   "id": "89d1f11b-2cc5-4c43-abfc-acd93c96af98",
   "metadata": {},
   "source": [
    "#1. Вы богаты? \n",
    "\n",
    "Как думаете, что делает этот код? Сначала попробуйте в этом разобраться, не вводя код в оболочку Python, а затем проверьте свой ответ. \n",
    "\n",
    "money = 2000\n",
    "if money > 1000:\n",
    "     print(\"Я богат!\")\n",
    "else: \n",
    "     print(\"Я не богат!\")\n",
    "     print(\"Может, когда-нибудь потом...\")"
   ]
  },
  {
   "cell_type": "markdown",
   "id": "ebee2c59-88f1-434b-b135-8ba87881b330",
   "metadata": {},
   "source": [
    "Ответ: Я богат!"
   ]
  },
  {
   "cell_type": "code",
   "execution_count": 10,
   "id": "b3a98c9f-0546-4f0c-bf3e-773489064316",
   "metadata": {},
   "outputs": [
    {
     "name": "stdout",
     "output_type": "stream",
     "text": [
      "Я богат!\n"
     ]
    }
   ],
   "source": [
    "money = 2000\n",
    "if money > 1000:\n",
    "     print(\"Я богат!\")\n",
    "else: \n",
    "     print(\"Я не богат!\")\n",
    "     print(\"Может, когда-нибудь потом...\")"
   ]
  },
  {
   "cell_type": "markdown",
   "id": "1183331f-c46e-4893-bf55-2bdb670e255e",
   "metadata": {},
   "source": [
    "#2. Бисквитики! \n",
    "\n",
    "Создайте конструкцию if, которая проверяет, действительно ли количество бисквитов (которое задано в переменной twinkies) меньше 100 или больше 500. Если это условие выполняется, пусть ваша программа напечатает сообщение «Слишком мало или слишком много». "
   ]
  },
  {
   "cell_type": "code",
   "execution_count": 13,
   "id": "bc15de5b-38fa-4078-bfe6-f2a1f011a9ca",
   "metadata": {},
   "outputs": [
    {
     "name": "stdin",
     "output_type": "stream",
     "text": [
      "Input the number of biscuits 250\n"
     ]
    },
    {
     "name": "stdout",
     "output_type": "stream",
     "text": [
      "Enough\n"
     ]
    }
   ],
   "source": [
    "twinkies = input(\"Enter the number of biscuits\")\n",
    "if int(twinkies) < 100:\n",
    "    print(\"To few\")\n",
    "elif int(twinkies) > 500:\n",
    "    print(\"To much\")\n",
    "else:\n",
    "    print(\"Enough\")"
   ]
  },
  {
   "cell_type": "markdown",
   "id": "fb539c2b-233a-4742-9b90-62d49976c1fc",
   "metadata": {},
   "source": [
    "#3. Подходящая сумма \n",
    "\n",
    "Создайте конструкцию if, которая проверяет, соответствует ли заданная в переменной money сумма денег диапазону значений от 100 до 500 или диапазону значений от 1000 до 5000. \n"
   ]
  },
  {
   "cell_type": "code",
   "execution_count": 15,
   "id": "72993f4c-5935-4b44-ad59-b489e115978e",
   "metadata": {},
   "outputs": [
    {
     "name": "stdin",
     "output_type": "stream",
     "text": [
      "Enter the amount of money 50\n"
     ]
    },
    {
     "name": "stdout",
     "output_type": "stream",
     "text": [
      "The range isn't define\n"
     ]
    }
   ],
   "source": [
    "money = int(input(\"Enter the amount of money\"))\n",
    "from_100_to_500 = (money >= 100) and (money <= 500)\n",
    "from_1000_to_5000 = (money >= 100) and (money <= 500)\n",
    "if from_100_to_500:\n",
    "    print(\"It's between 100 and 500\")\n",
    "elif from_1000_to_5000:\n",
    "    print(\"It's between 1000 and 5000\")\n",
    "else:\n",
    "    print(\"The range isn't define\")"
   ]
  },
  {
   "cell_type": "markdown",
   "id": "b45acc03-9cac-488e-9e0a-7a1016d6ac44",
   "metadata": {},
   "source": [
    "#4. Я одолею этих ниндзя! \n",
    "\n",
    "Создайте конструкцию if, которая печатает строку «Их слишком много», если количество ниндзя (заданное в переменной ninjas) меньше 50, печатает «Будет непросто, но я с ними разделаюсь», если это количество меньше 30, и печатает «Я одолею этих ниндзя!», если количество меньше 10. Проверьте, как ваш код работает с таким значением: \n",
    "\n",
    "ninjas = 5 \n"
   ]
  },
  {
   "cell_type": "code",
   "execution_count": 19,
   "id": "f7464c90-4c35-4a53-b15a-ec855a0f5d63",
   "metadata": {},
   "outputs": [
    {
     "name": "stdin",
     "output_type": "stream",
     "text": [
      "Enter the number of ninja 5\n"
     ]
    },
    {
     "name": "stdout",
     "output_type": "stream",
     "text": [
      "Я одолею этих ниндзя!\n"
     ]
    }
   ],
   "source": [
    "ninja = int(input(\"Enter the number of ninja\"))\n",
    "hard = (ninja > 30) and (ninja <= 50)\n",
    "medium = (ninja > 10) and (ninja <= 30)\n",
    "easy = ninja < 10\n",
    "if hard:\n",
    "    print(\"Их слишком много\")\n",
    "elif medium:\n",
    "    print(\"Будет непросто, но я с ними разделаюсь\")\n",
    "elif easy:\n",
    "    print(\"Я одолею этих ниндзя!\")\n",
    "else:\n",
    "    print(\"Нет информации\")"
   ]
  },
  {
   "cell_type": "markdown",
   "id": "a8ce929f-9301-4ef5-ba8b-995cdca327be",
   "metadata": {},
   "source": [
    "# Упражнения  3"
   ]
  },
  {
   "cell_type": "markdown",
   "id": "a329ee3c-f1ba-474e-8522-9c22cba41c39",
   "metadata": {},
   "source": [
    "#1. Цикл с приветом \n",
    "\n",
    "Как вы считаете, что делает эта программа? Сперва придумайте вариант ответа, а потом запустите код и проверьте, угадали ли вы. \n",
    "\n",
    "for x in range(0, 20):\n",
    "    print('привет %s' % x)\n",
    "    if x < 9:\n",
    "        break \n",
    "Ответ: Привет 0"
   ]
  },
  {
   "cell_type": "code",
   "execution_count": 20,
   "id": "d1690b9b-d12f-48f7-8d61-f7da6b2496d3",
   "metadata": {},
   "outputs": [
    {
     "name": "stdout",
     "output_type": "stream",
     "text": [
      "привет 0\n"
     ]
    }
   ],
   "source": [
    "for x in range(0, 20):\n",
    "    print('привет %s' % x)\n",
    "    if x < 9:\n",
    "        break "
   ]
  },
  {
   "cell_type": "markdown",
   "id": "aa377f2e-0bdd-4cc9-b37b-6e4afbc8403f",
   "metadata": {},
   "source": [
    "#2. Четные числа \n",
    "\n",
    "Создайте цикл, который печатает четные числа до тех пор, пока не выведет ваш возраст. Если ваш возраст — нечетное число, создайте цикл, который печатает нечетные числа до совпадения с возрастом. Программа должна выводить на экран нечто подобное: \n",
    "\n",
    "2 4 6 8 10 12 14 "
   ]
  },
  {
   "cell_type": "code",
   "execution_count": 21,
   "id": "3905c1f0-f6cb-4a7b-8fec-8b8cf7eba4ec",
   "metadata": {},
   "outputs": [
    {
     "name": "stdout",
     "output_type": "stream",
     "text": [
      "1 3 5 7 9 11 13 15 17 19 21 23 25 27 29 31 33 35 37 39 \n"
     ]
    }
   ],
   "source": [
    "age = 1\n",
    "s = \"\"\n",
    "while age < 40:\n",
    "    s = s + str(age) + \" \"\n",
    "    age += 2\n",
    "print(s)"
   ]
  },
  {
   "cell_type": "markdown",
   "id": "cd4c3457-59d6-40e0-a108-563c4c77a537",
   "metadata": {},
   "source": [
    "#3. Пять любимых ингредиентов \n",
    "\n",
    "Создайте список с пятью разными ингредиентами для бутерброда, наподобие: \n",
    "\n",
    "ingredients = ['слизни', 'пиявки', 'катышки изпупка гориллы', 'брови гусеницы', 'пальцы многоножки'] \n",
    "\n",
    "Теперь создайте цикл, который печатает список ингредиентов с нумерацией: \n",
    "\n",
    "1 слизни\n",
    "2 пиявки\n",
    "3 катышки изпупка гориллы \n",
    "4 брови гусеницы\n",
    "5 пальцы многоножки"
   ]
  },
  {
   "cell_type": "code",
   "execution_count": 23,
   "id": "ee1a0d21-52dc-4afa-8400-4b17dd98b642",
   "metadata": {},
   "outputs": [
    {
     "name": "stdout",
     "output_type": "stream",
     "text": [
      "0  слизни\n",
      "1  пиявки\n",
      "2  катышки изпупка гориллы\n",
      "3  брови гусеницы\n",
      "4  пальцы многоножки\n"
     ]
    }
   ],
   "source": [
    "ingredients = ['слизни', 'пиявки', 'катышки изпупка гориллы', 'брови гусеницы', 'пальцы многоножки']\n",
    "for i, value in enumerate(ingredients):\n",
    "    print(f\"{i}  {value}\")"
   ]
  },
  {
   "cell_type": "markdown",
   "id": "d7125cd4-c7b2-4660-9663-9c0bcfb50035",
   "metadata": {},
   "source": [
    "#4. Ваш лунный вес \n",
    "\n",
    "Если бы вы сейчас были на Луне, ваш вес составил бы 16,5 процентов от земного. Чтобы узнать, сколько это, умножьте свой земной вес на 0,165. \n",
    "\n",
    "Если бы каждый год в течение следующих 15 лет вы прибавляли по одному килограмму веса, каким бы оказался ваш лунный вес в каждый из ежегодных визитов на Луну вплоть до 15-го года? Напишите программу, которая с помощью цикла for печатает на экране ваш лунный \n",
    "\n",
    "вес в каждом году. "
   ]
  },
  {
   "cell_type": "code",
   "execution_count": 26,
   "id": "7ef76984-0775-48d2-b123-abf19350e593",
   "metadata": {},
   "outputs": [
    {
     "name": "stdout",
     "output_type": "stream",
     "text": [
      " Year\t Weight\n",
      "====================\n",
      "1 \t 11.55\n",
      "2 \t 11.71\n",
      "3 \t 11.88\n",
      "4 \t 12.04\n",
      "5 \t 12.21\n",
      "6 \t 12.38\n",
      "7 \t 12.54\n",
      "8 \t 12.71\n",
      "9 \t 12.87\n",
      "10 \t 13.04\n",
      "11 \t 13.20\n",
      "12 \t 13.37\n",
      "13 \t 13.53\n",
      "14 \t 13.70\n",
      "15 \t 13.86\n"
     ]
    }
   ],
   "source": [
    "weight = 70\n",
    "year = 1\n",
    "print(\" Year\\t Weight\")\n",
    "print(\"=\"*20)\n",
    "while year < 16:\n",
    "    print(f\"{year} \\t {weight*0.165:.2f}\")\n",
    "    year += 1\n",
    "    weight += 1"
   ]
  },
  {
   "cell_type": "markdown",
   "id": "1c91e73f-5a93-41ed-8c5e-9e9f488d04cb",
   "metadata": {},
   "source": [
    "# Упражнения  4"
   ]
  },
  {
   "cell_type": "markdown",
   "id": "a0fa4a4d-2624-4715-b015-c4a02b2ee4f5",
   "metadata": {},
   "source": [
    "Вот несколько упражнений по созданию ваших собственных функций. "
   ]
  },
  {
   "cell_type": "markdown",
   "id": "5cf4b869-1746-42c4-9aef-b49d7e3896ee",
   "metadata": {},
   "source": [
    "#1. Функция лунного веса \n",
    "\n",
    "Одним из предыдущих заданий было создание цикла for для расчета вашего веса на Луне в течение 15 лет. Этот цикл можно оформить в виде функции. Создайте функцию, которая принимает начальный вес и величину, на которую вес увеличивается каждый год. Вызывать эту новую функцию нужно будет примерно так: \n",
    "\n",
    "    moon_weight(30, 0.25)"
   ]
  },
  {
   "cell_type": "code",
   "execution_count": 27,
   "id": "5e01cdf5-8a27-43da-a1a7-3dc3fc8f5ccd",
   "metadata": {},
   "outputs": [
    {
     "name": "stdout",
     "output_type": "stream",
     "text": [
      " Year\t Weight\n",
      "====================\n",
      "1 \t 4.95\n",
      "2 \t 4.99\n",
      "3 \t 5.03\n",
      "4 \t 5.07\n",
      "5 \t 5.12\n",
      "6 \t 5.16\n",
      "7 \t 5.20\n",
      "8 \t 5.24\n",
      "9 \t 5.28\n",
      "10 \t 5.32\n",
      "11 \t 5.36\n",
      "12 \t 5.40\n",
      "13 \t 5.45\n",
      "14 \t 5.49\n",
      "15 \t 5.53\n"
     ]
    }
   ],
   "source": [
    "def moon_weight(start_weight: float, growth: float) -> None:\n",
    "    weight = start_weight\n",
    "    year = 1\n",
    "    print(\" Year\\t Weight\")\n",
    "    print(\"=\"*20)\n",
    "    while year < 16:\n",
    "        print(f\"{year} \\t {weight*0.165:.2f}\")\n",
    "        year += 1\n",
    "        weight += growth\n",
    "\n",
    "moon_weight(30, 0.25)"
   ]
  },
  {
   "cell_type": "markdown",
   "id": "0eb1d6b8-e319-4fa2-b6a5-30d6faee9513",
   "metadata": {},
   "source": [
    "#2. Функция лунного веса и количество лет \n",
    "\n",
    "Измените функцию из предыдущего задания так, чтобы с ее помощью можно было рассчитывать вес для разного количества лет, например 5 или 20 лет. Пусть эта функция принимает три аргумента: начальный вес, прибавку веса в год и количество лет: \n",
    "\n",
    "      moon_weight(90, 0.25, 5)"
   ]
  },
  {
   "cell_type": "code",
   "execution_count": 28,
   "id": "58d80b9b-2108-4ba8-ad87-04799569178c",
   "metadata": {},
   "outputs": [
    {
     "name": "stdout",
     "output_type": "stream",
     "text": [
      " Year\t Weight\n",
      "====================\n",
      "1 \t 14.85\n",
      "2 \t 14.89\n",
      "3 \t 14.93\n",
      "4 \t 14.97\n",
      "5 \t 15.02\n"
     ]
    }
   ],
   "source": [
    "def moon_weight_v2(start_weight: float, growth: float, duration: int) -> None:\n",
    "    weight = start_weight\n",
    "    year = 1\n",
    "    print(\" Year\\t Weight\")\n",
    "    print(\"=\"*20)\n",
    "    while year < duration + 1:\n",
    "        print(f\"{year} \\t {weight*0.165:.2f}\")\n",
    "        year += 1\n",
    "        weight += growth\n",
    "\n",
    "moon_weight_v2(90, 0.25, 5)"
   ]
  },
  {
   "cell_type": "code",
   "execution_count": null,
   "id": "ab57cb3c-5f31-4d9f-81aa-ee0d7fe1f321",
   "metadata": {},
   "outputs": [],
   "source": []
  },
  {
   "cell_type": "code",
   "execution_count": null,
   "id": "2bff448c-e3a7-4807-aac4-c853d76b24ab",
   "metadata": {},
   "outputs": [],
   "source": []
  },
  {
   "cell_type": "code",
   "execution_count": null,
   "id": "a270cf65-b29a-4ea1-9f88-4fedd37f8a4e",
   "metadata": {},
   "outputs": [],
   "source": []
  }
 ],
 "metadata": {
  "kernelspec": {
   "display_name": "Python 3 (ipykernel)",
   "language": "python",
   "name": "python3"
  },
  "language_info": {
   "codemirror_mode": {
    "name": "ipython",
    "version": 3
   },
   "file_extension": ".py",
   "mimetype": "text/x-python",
   "name": "python",
   "nbconvert_exporter": "python",
   "pygments_lexer": "ipython3",
   "version": "3.10.10"
  }
 },
 "nbformat": 4,
 "nbformat_minor": 5
}
