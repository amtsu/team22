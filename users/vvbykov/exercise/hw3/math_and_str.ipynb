{
 "cells": [
  {
   "cell_type": "code",
   "execution_count": 1,
   "id": "d649f00c-f519-400f-9843-22832462a8d0",
   "metadata": {},
   "outputs": [
    {
     "data": {
      "text/plain": [
       "80"
      ]
     },
     "execution_count": 1,
     "metadata": {},
     "output_type": "execute_result"
    }
   ],
   "source": [
    "10 * (5 + 3)"
   ]
  },
  {
   "cell_type": "code",
   "execution_count": 4,
   "id": "40d505a2-76c8-40ce-808c-f37fcb38ed52",
   "metadata": {},
   "outputs": [
    {
     "data": {
      "text/plain": [
       "7.0"
      ]
     },
     "execution_count": 4,
     "metadata": {},
     "output_type": "execute_result"
    }
   ],
   "source": [
    "(20 - 6) / 2"
   ]
  },
  {
   "cell_type": "code",
   "execution_count": 5,
   "id": "cb77e898-ea58-426f-8a5a-5d5001b30756",
   "metadata": {},
   "outputs": [
    {
     "data": {
      "text/plain": [
       "32"
      ]
     },
     "execution_count": 5,
     "metadata": {},
     "output_type": "execute_result"
    }
   ],
   "source": [
    "2 ** 5"
   ]
  },
  {
   "cell_type": "code",
   "execution_count": 6,
   "id": "8cb0db3c-eabe-4ff0-8e03-95a2250714e8",
   "metadata": {},
   "outputs": [
    {
     "data": {
      "text/plain": [
       "6"
      ]
     },
     "execution_count": 6,
     "metadata": {},
     "output_type": "execute_result"
    }
   ],
   "source": [
    "25 // 4"
   ]
  },
  {
   "cell_type": "code",
   "execution_count": 7,
   "id": "d5a56c9e-d19c-4526-9a04-5292be13e633",
   "metadata": {},
   "outputs": [
    {
     "data": {
      "text/plain": [
       "1"
      ]
     },
     "execution_count": 7,
     "metadata": {},
     "output_type": "execute_result"
    }
   ],
   "source": [
    "25 % 4"
   ]
  },
  {
   "cell_type": "code",
   "execution_count": 32,
   "id": "e696d1e3-328a-431a-8f29-54be89c0fbef",
   "metadata": {},
   "outputs": [
    {
     "name": "stdout",
     "output_type": "stream",
     "text": [
      "Целое 3; Остаток 14\n"
     ]
    }
   ],
   "source": [
    "number = 3.14\n",
    "n1 = int(number)\n",
    "n2 = int(100 * (number - int(number)))\n",
    "print(f\"Целое {n1}; Остаток {n2}\")"
   ]
  },
  {
   "cell_type": "code",
   "execution_count": 18,
   "id": "b1afbed5-6b1d-4c51-bf7d-cc3adda388a2",
   "metadata": {},
   "outputs": [
    {
     "name": "stdout",
     "output_type": "stream",
     "text": [
      "Площадь прямоугольника = 35\n"
     ]
    }
   ],
   "source": [
    "a = 5\n",
    "b = 7\n",
    "s = a * b\n",
    "print(f\"Площадь прямоугольника = {s}\")"
   ]
  },
  {
   "cell_type": "code",
   "execution_count": 21,
   "id": "19ba0cb0-5a97-4d00-80e7-0f663cd7816c",
   "metadata": {},
   "outputs": [
    {
     "name": "stdout",
     "output_type": "stream",
     "text": [
      "Cooling air volume = 145.70 m^3\n"
     ]
    }
   ],
   "source": [
    "livingRoomSideA = 3.5\n",
    "livingRoomSideB = 6.4\n",
    "bedRoomSideA = 3.4\n",
    "bedRoomSideB = 4.0\n",
    "nonLivingSpace = 11.0\n",
    "ceilingHeight = 3.1\n",
    "coolingAirVolume = 0.0;\n",
    "\n",
    "coolingAirVolume = ceilingHeight * (livingRoomSideA * livingRoomSideB + bedRoomSideA * bedRoomSideB + nonLivingSpace)\n",
    "print(f'Cooling air volume = {coolingAirVolume:.2f} m^3')\n"
   ]
  },
  {
   "cell_type": "code",
   "execution_count": 26,
   "id": "fbc4f276-d7ed-4875-9e51-3740e770cce5",
   "metadata": {},
   "outputs": [
    {
     "name": "stdout",
     "output_type": "stream",
     "text": [
      "x1 = 6.43\n",
      "x2 = -12.43\n"
     ]
    }
   ],
   "source": [
    "a = 2.0\n",
    "b = 3.0\n",
    "c = -10.0\n",
    "\n",
    "d = b**2 - 4*a*c\n",
    "x1 = (-1)*b + d**0.5\n",
    "x2 = (-1)*b - d**0.5\n",
    "\n",
    "print(f\"x1 = {x1:.2f}\")\n",
    "print(f\"x2 = {x2:.2f}\")"
   ]
  },
  {
   "cell_type": "code",
   "execution_count": 33,
   "id": "deb70189-b0bd-4a9f-860a-1133f6bbc453",
   "metadata": {},
   "outputs": [
    {
     "name": "stdout",
     "output_type": "stream",
     "text": [
      "Hello, world!\n",
      "Количество символов = 13\n"
     ]
    }
   ],
   "source": [
    "string1 = \"hello, \"\n",
    "string2 = \"world!\"\n",
    "\n",
    "result = string1.capitalize() + string2\n",
    "print(result)\n",
    "print(f\"Количество символов = {len(result)}\")\n"
   ]
  },
  {
   "cell_type": "code",
   "execution_count": 35,
   "id": "55770fe0-76ff-448b-af84-bf29ea02dc79",
   "metadata": {},
   "outputs": [
    {
     "name": "stdout",
     "output_type": "stream",
     "text": [
      "lalalalalalalalalalalalalalalalalalalalalalalalala\n"
     ]
    }
   ],
   "source": [
    "string1 = \"la\"\n",
    "string1 = string1 * 25\n",
    "\n",
    "print(string1)"
   ]
  },
  {
   "cell_type": "code",
   "execution_count": 43,
   "id": "441ab71a-793e-47fe-b8fd-099df7367cda",
   "metadata": {},
   "outputs": [
    {
     "name": "stdout",
     "output_type": "stream",
     "text": [
      "Значение на позиции 2 = 3\n",
      "Result list is [1, 'hi', 3, 4, [8, 6, 4]]\n"
     ]
    }
   ],
   "source": [
    "numbers = [1, 2, 3, 4, 5]\n",
    "numbers[1] = \"hi\"\n",
    "print(\"Значение на позиции 2 = \" + str(numbers[2]))\n",
    "subNumbers = [8, 6, 4]\n",
    "numbers[4] = subNumbers\n",
    "\n",
    "print(f\"Result list is {numbers}\")"
   ]
  },
  {
   "cell_type": "code",
   "execution_count": 45,
   "id": "271eb854-0890-46a8-adec-a795f908ab34",
   "metadata": {},
   "outputs": [
    {
     "name": "stdout",
     "output_type": "stream",
     "text": [
      "Подсписок = [4, 5, 6, 7, 8]\n"
     ]
    }
   ],
   "source": [
    "numbers = [1, 2, 3, 4, 5, 6, 7, 8, 9, 10]\n",
    "subNumbers = numbers[3:8]\n",
    "\n",
    "print(f\"Подсписок = {subNumbers}\")"
   ]
  },
  {
   "cell_type": "code",
   "execution_count": null,
   "id": "558b922d-1335-44fd-b93f-ea680be88b01",
   "metadata": {},
   "outputs": [],
   "source": []
  }
 ],
 "metadata": {
  "kernelspec": {
   "display_name": "Python 3 (ipykernel)",
   "language": "python",
   "name": "python3"
  },
  "language_info": {
   "codemirror_mode": {
    "name": "ipython",
    "version": 3
   },
   "file_extension": ".py",
   "mimetype": "text/x-python",
   "name": "python",
   "nbconvert_exporter": "python",
   "pygments_lexer": "ipython3",
   "version": "3.10.10"
  }
 },
 "nbformat": 4,
 "nbformat_minor": 5
}
