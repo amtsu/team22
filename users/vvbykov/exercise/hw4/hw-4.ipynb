{
 "cells": [
  {
   "cell_type": "markdown",
   "id": "bdda8c75-105b-4f24-8862-673bcc68f447",
   "metadata": {},
   "source": [
    "Домашнее задание №4. \n",
    "Списки и операции с ними."
   ]
  },
  {
   "cell_type": "markdown",
   "id": "de36547c-88dd-4997-a12c-cdeb1e9e6ac8",
   "metadata": {},
   "source": [
    "Задание 1.\n",
    "выполните следующий код\n",
    "<code>\n",
    "list_one = [1, 2, 3, 4, 5, 6, 9]\n",
    "list_two = [1, 2, 3, 4, 5, 6, 9]\n",
    "list_two.append(789)\n",
    "print(list_one, list_two, sep='\\n') \n",
    "</code>\n",
    "затем выполните код \n",
    "<code>\n",
    "list_one = [1, 2, 3, 4, 5, 6, 9]\n",
    "list_two = list_one\n",
    "list_two.append(789)\n",
    "print(list_one, list_two, sep='\\n')     \n",
    "</code>\n",
    "запишите объяснения разницы в выполнении кода в переменную difference_explanation и выведите ее на экран"
   ]
  },
  {
   "cell_type": "code",
   "execution_count": 16,
   "id": "680d9e95-a34c-4f6c-8693-3a72207219b5",
   "metadata": {},
   "outputs": [
    {
     "name": "stdout",
     "output_type": "stream",
     "text": [
      "Case 1\n",
      "[1, 2, 3, 4, 5, 6, 9]\n",
      "[1, 2, 3, 4, 5, 6, 9, 789]\n",
      "\n",
      "Case 2\n",
      "[1, 2, 3, 4, 5, 6, 9, 789]\n",
      "[1, 2, 3, 4, 5, 6, 9, 789]\n",
      "\n",
      "Variable \"list_one\" contains a reference (address) to an object with value [1, 2, ...]. \n",
      "When variable \"list_two\" assigns \"list_one\" it copies the reference to the object, not the value.\n",
      "Both variables contain the reference to one object\n"
     ]
    }
   ],
   "source": [
    "list_one = [1, 2, 3, 4, 5, 6, 9]\n",
    "list_two = [1, 2, 3, 4, 5, 6, 9]\n",
    "list_two.append(789)\n",
    "print('Case 1', list_one, list_two, sep = '\\n')\n",
    "print('')\n",
    "\n",
    "list_one = [1, 2, 3, 4, 5, 6, 9]\n",
    "list_two = list_one\n",
    "list_two.append(789)\n",
    "print('Case 2', list_one, list_two, sep = '\\n')\n",
    "print('')\n",
    "\n",
    "difference_explanation = '''Variable \"list_one\" contains a reference (address) to an object with value [1, 2, ...]. \n",
    "When variable \"list_two\" assigns \"list_one\" it copies the reference to the object, not the value.\n",
    "Both variables contain the reference to one object'''\n",
    "print(difference_explanation)\n"
   ]
  },
  {
   "cell_type": "markdown",
   "id": "9062939d-6f44-44cf-9b28-5854ebeb1594",
   "metadata": {},
   "source": [
    "Задание 2.\n",
    "Задайте переменную a_poem типа строка, со следующим содержимым:\n",
    "<code>\n",
    "За стеклом лежал Питон,\n",
    "Большой и толстый, как батон.\n",
    "Вверх пополз,\n",
    "Затем вернулся,\n",
    "Круглым бубликом свернулся.\n",
    "</code>\n",
    "- Создайте переменную a_list типа список, заполнив ее содержимым строки a_poem так, чтобы каждый символ строки a_poem стал отдельным элементом списка a_list\n",
    "- Создайте переменную another_list типа список, заполнив ее содержимым строки a_poem так, чтобы каждое слово строки a_poem стал отдельным элементом списка another_list. Знаки препинания прилипнут к словам, не страшно.\n",
    "- Выведите на экран элементы и их количество для списков a_list и another_list.\n",
    "- Создайте переменную one_more_list типа список, каждым элементом которой является отдельная строка строфы из a_poem. Выведите на экран элементы one_more_list и их количество."
   ]
  },
  {
   "cell_type": "code",
   "execution_count": 17,
   "id": "ac243f9a-2a7a-49aa-b58b-993fea424ec4",
   "metadata": {},
   "outputs": [
    {
     "name": "stdout",
     "output_type": "stream",
     "text": [
      "За стеклом лежал Питон,     \n",
      "Большой и толстый, как батон.    \n",
      "Вверх пополз,    \n",
      "Затем вернулся,    \n",
      "Круглым бубликом свернулся.\n",
      "\n",
      "['З', 'а', ' ', 'с', 'т', 'е', 'к', 'л', 'о', 'м', ' ', 'л', 'е', 'ж', 'а', 'л', ' ', 'П', 'и', 'т', 'о', 'н', ',', ' ', ' ', ' ', ' ', ' ', '\\n', 'Б', 'о', 'л', 'ь', 'ш', 'о', 'й', ' ', 'и', ' ', 'т', 'о', 'л', 'с', 'т', 'ы', 'й', ',', ' ', 'к', 'а', 'к', ' ', 'б', 'а', 'т', 'о', 'н', '.', ' ', ' ', ' ', ' ', '\\n', 'В', 'в', 'е', 'р', 'х', ' ', 'п', 'о', 'п', 'о', 'л', 'з', ',', ' ', ' ', ' ', ' ', '\\n', 'З', 'а', 'т', 'е', 'м', ' ', 'в', 'е', 'р', 'н', 'у', 'л', 'с', 'я', ',', ' ', ' ', ' ', ' ', '\\n', 'К', 'р', 'у', 'г', 'л', 'ы', 'м', ' ', 'б', 'у', 'б', 'л', 'и', 'к', 'о', 'м', ' ', 'с', 'в', 'е', 'р', 'н', 'у', 'л', 'с', 'я', '.']\n",
      "Amount of elements is 128\n",
      "\n",
      "['За', 'стеклом', 'лежал', 'Питон,', 'Большой', 'и', 'толстый,', 'как', 'батон.', 'Вверх', 'пополз,', 'Затем', 'вернулся,', 'Круглым', 'бубликом', 'свернулся.']\n",
      "Amount of elements is 16\n",
      "\n",
      "['За стеклом лежал Питон,     ', 'Большой и толстый, как батон.    ', 'Вверх пополз,    ', 'Затем вернулся,    ', 'Круглым бубликом свернулся.']\n",
      "Amount of elements is 5\n",
      "\n"
     ]
    }
   ],
   "source": [
    "a_poem = 'За стеклом лежал Питон, \\\n",
    "    \\nБольшой и толстый, как батон.\\\n",
    "    \\nВверх пополз,\\\n",
    "    \\nЗатем вернулся,\\\n",
    "    \\nКруглым бубликом свернулся.'\n",
    "\n",
    "print(a_poem)\n",
    "print('')\n",
    "\n",
    "a_list = list(a_poem)\n",
    "print(a_list)\n",
    "print(f'Amount of elements is {len(a_list)}')\n",
    "print('');\n",
    "\n",
    "another_list = a_poem.split()\n",
    "print(another_list)\n",
    "print(f'Amount of elements is {len(another_list)}')\n",
    "print('')\n",
    "\n",
    "one_more_list = a_poem.split('\\n')\n",
    "print(one_more_list)\n",
    "print(f'Amount of elements is {len(one_more_list)}')\n",
    "print('')\n"
   ]
  },
  {
   "cell_type": "markdown",
   "id": "2b39f64c-c7d4-4eb5-907e-d0d9f598c33f",
   "metadata": {},
   "source": [
    "Задание 3.\n",
    "- Создайте список solyanka_list, в качестве его элементов добавьте значения каждого из известных вам типов данных python.\n",
    "- Выведите на экран содержимое списка solyanka_list.\n",
    "- Посчитайте количество элементов списка solyanka_list.\n",
    "- Выведите на экран тип пятого от начала списка элемента.\n",
    "- Добавьте в конец списка solyanka_list элемент типа \"список\" из одного элемента\n",
    "- Выведите на экран тип последнего элемента списка solyanka_list "
   ]
  },
  {
   "cell_type": "code",
   "execution_count": 57,
   "id": "1317a98b-5c29-4cb5-b0cf-9dc94a030f08",
   "metadata": {},
   "outputs": [
    {
     "name": "stdout",
     "output_type": "stream",
     "text": [
      "[1, 2.0, '3', 'four', [5, 6, 7], (8, 9, 10), False]\n",
      "Amount of elements is 7\n",
      "The 5th element is [5, 6, 7]\n",
      "\n",
      "[1, 2.0, '3', 'four', [5, 6, 7], (8, 9, 10), False, [12]]\n",
      "A type of the last element is <class 'list'>\n",
      "\n"
     ]
    }
   ],
   "source": [
    "solyanka_list = [1, 2.0, \"3\", \"four\", [5, 6, 7], (8, 9, 10), False]\n",
    "print(solyanka_list)\n",
    "print(f'Amount of elements is {len(solyanka_list)}')\n",
    "print(f'The 5th element is {solyanka_list[4]}')\n",
    "print('')\n",
    "\n",
    "solyanka_list.append([12])\n",
    "print(solyanka_list)\n",
    "print(f'A type of the last element is {type(solyanka_list[-1])}')\n",
    "print('')\n",
    "\n"
   ]
  },
  {
   "cell_type": "markdown",
   "id": "1c3f95c6-cd6a-4ce5-b70b-654e896551fa",
   "metadata": {},
   "source": [
    "Задание 4.\n",
    "Дана последовательности чисел Фибоначчи из нескольких элементов:\n",
    "<code>\n",
    "0, 1, 1, 2, 3, 5, 8, 13, 21, 34, 55, 89, 144, 233, 377, 610, 987, 1597, 2584, 4181, 6765, 10946, 17711\n",
    "</code>\n",
    "- Создайте список fibonacci_list, элементами которого будут числа Фибонначи из задания.\n",
    "- Посчитайте и выведите на экран, сколько чисел Фибоначчи в последовательности из задания\n",
    "- Посчитайте и выведите на экран, сколько раз число 1 входит в заданную последовательность Фибоначчи.\n",
    "- Проверьте и выведите на экран результат, является ли число 21 числом Фибоначчи. Число 33? Число 987? число 9999?\n",
    "использование оператора if возможно, но не является необходимым\n"
   ]
  },
  {
   "cell_type": "code",
   "execution_count": 74,
   "id": "ea8bb03d-b06c-4f60-af8a-dcf862bc80d0",
   "metadata": {},
   "outputs": [
    {
     "name": "stdout",
     "output_type": "stream",
     "text": [
      "[0, 1, 1, 2, 3, 5, 8, 13, 21, 34, 55, 89, 144, 233, 377, 610, 987, 1597, 2584, 4181, 6765, 10946, 17711]\n",
      "Amount of elements is 23\n",
      "Amount of elements with number 1 is 2\n",
      "\n",
      "It is True that 21 is a Fibonacci number\n",
      "It is False that 33 is a Fibonacci number\n",
      "It is True that 987 is a Fibonacci number\n",
      "It is False 9999 is a Fibonacci number\n",
      "\n"
     ]
    }
   ],
   "source": [
    "fibonacci_list = [0, 1, 1, 2, 3, 5, 8, 13, 21, 34, 55, 89, 144, 233, 377, 610, 987, 1597, 2584, 4181, 6765, 10946, 17711]\n",
    "print(fibonacci_list)\n",
    "print(f'Amount of elements is {len(fibonacci_list)}')\n",
    "\n",
    "filtered_list = filter(lambda item: item == 1, fibonacci_list)\n",
    "print(f\"Amount of elements with number 1 is {len(list(filtered_list))}\")\n",
    "print('')\n",
    "\n",
    "print(f\"It is {21 in fibonacci_list} that 21 is a Fibonacci number\")\n",
    "print(f\"It is {33 in fibonacci_list} that 33 is a Fibonacci number\")\n",
    "print(f\"It is {987 in fibonacci_list} that 987 is a Fibonacci number\")\n",
    "print(f\"It is {9999 in fibonacci_list} 9999 is a Fibonacci number\")\n",
    "print('')"
   ]
  },
  {
   "cell_type": "markdown",
   "id": "dcdad8af-7eb3-4141-9ddf-fe563743c56b",
   "metadata": {},
   "source": [
    "Задание 5.\n",
    "Задайте переменную a_list типа \"список\" со следующим содержимым:\n",
    "<code>\n",
    "1,2,5,4,3,6\n",
    "</code>\n",
    "- выведите содержимое a_list на экран\n",
    "- поменяйте местами третий и пятый элементы a_list и выведите результат на экран"
   ]
  },
  {
   "cell_type": "code",
   "execution_count": 18,
   "id": "bda69f95-b8b5-4129-b0cb-d4ccbedc60c7",
   "metadata": {},
   "outputs": [
    {
     "name": "stdout",
     "output_type": "stream",
     "text": [
      "[1, 2, 3, 4, 5, 6]\n",
      "Swapped list:\n",
      "[1, 2, 3, 6, 5, 4]\n",
      "\n"
     ]
    }
   ],
   "source": [
    "a_list = [1, 2, 3, 4, 5, 6]\n",
    "print(a_list)\n",
    "\n",
    "a_list[3], a_list[5] = a_list[5], a_list[3]\n",
    "print('Swapped list:')\n",
    "print(a_list)\n",
    "print('')"
   ]
  },
  {
   "cell_type": "markdown",
   "id": "15144689-623a-43a5-80ca-0483f66017a1",
   "metadata": {},
   "source": [
    "Задание 6.\n",
    "    Кто-то перепутал строчки в стихотворении, хорошо что они были пронумерованы.\n",
    "<code>\n",
    "    (2, \"тот большего добьётся,\" )\n",
    "    (5, \"Кто умирал, тот знает, что живёт.\")\n",
    "    (1, \"Кто битым жизнью был,\" )\n",
    "    (3, \"Пуд соли съевший выше ценит мёд.\")\n",
    "    (4, \"Кто слёзы лил, тот искренней смеётся,\") \n",
    "</code>\n",
    "    выведите на экран строки Омара Хайама в правильном порядке, используя список."
   ]
  },
  {
   "cell_type": "code",
   "execution_count": 25,
   "id": "e85d1901-5856-41e1-bfb8-382e8489f86b",
   "metadata": {},
   "outputs": [
    {
     "name": "stdout",
     "output_type": "stream",
     "text": [
      "(1, \"Кто битым жизнью был,\" )\n",
      "(2, \"тот большего добьётся,\" )\n",
      "(3, \"Пуд соли съевший выше ценит мёд.\")\n",
      "(4, \"Кто слёзы лил, тот искренней смеётся,\")\n",
      "(5, \"Кто умирал, тот знает, что живёт.\")\n",
      "\n"
     ]
    }
   ],
   "source": [
    "hayamPoemList = []\n",
    "hayamPoemList.append('(2, \"тот большего добьётся,\" )')\n",
    "hayamPoemList.append('(5, \"Кто умирал, тот знает, что живёт.\")')\n",
    "hayamPoemList.append('(1, \"Кто битым жизнью был,\" )')\n",
    "hayamPoemList.append('(3, \"Пуд соли съевший выше ценит мёд.\")')\n",
    "hayamPoemList.append('(4, \"Кто слёзы лил, тот искренней смеётся,\")')\n",
    "\n",
    "hayamPoemList.sort()\n",
    "hayamPoem = '\\n'.join(hayamPoemList)\n",
    "\n",
    "print(hayamPoem)\n",
    "print('')"
   ]
  },
  {
   "cell_type": "markdown",
   "id": "d1eaace5-016a-4564-b189-33876e6c0e20",
   "metadata": {},
   "source": [
    "Задание 7.\n",
    "<code>\n",
    "Кто битым за дедлайн был,\n",
    "тот больше не сольется.\n",
    "Пуд багов съевший, выше ценит чистый код.\n",
    "Кто дошик ел, тот рейтинг ценит свой.\n",
    "Кто крашился, тот знает, что живой.\n",
    "</code>\n",
    "В данном задании после каждой операции выводите на экран содержимое true_story_list и количество его элементов.\n",
    "- Создайте переменную true_story_list типа список, занесите в неё третью строку из стихотворения выше.\n",
    "- Добавьте четвертую строку в конец списка true_story_list.\n",
    "- Создайте переменную true_story_slice типа список, занесите в неё четвертую и пятую строки из стихотворения выше. Добавьте содержимое true_story_slice как один последний элемент списка true_story_list.\n",
    "- Очистите весь список true_story_slice, выведите его содержимое на экран.\n",
    "- Добавьте первую строку из стихотворение в начало списка true_story_list\n",
    "- Удалите из true_story_list все элементы.\n",
    "- Удалите последний элемент списка true_story_list\n",
    "- Добавьте вторым элементом списка true_story_list вторую строчку стихотворения\n",
    "- Создайте переменную true_story_tail типа список, занесите в него пятую строку стихотворения дважды. Скопируйте элементы списка true_story_tail в конец списка true_story_list.\n",
    "- Удалите 5 элемент списка true_story_list.\n",
    "- *Выведите список true_story_list красиво в виде стихотворения. (кажется, это ещё не проходили, но попробовать стоит)"
   ]
  },
  {
   "cell_type": "code",
   "execution_count": 44,
   "id": "f022d5b0-5d91-4662-9bf2-6bc20fb1b269",
   "metadata": {},
   "outputs": [
    {
     "name": "stdout",
     "output_type": "stream",
     "text": [
      "1.\n",
      "true_story_list = ['Пуд багов съевший, выше ценит чистый код.']\n",
      "Number of the elements of the list is 1\n",
      "\n",
      "2.\n",
      "true_story_list = ['Пуд багов съевший, выше ценит чистый код.', 'Кто дошик ел, тот рейтинг ценит свой.']\n",
      "Number of the elements of the list is 2\n",
      "\n",
      "3.\n",
      "true_story_list = ['Пуд багов съевший, выше ценит чистый код.', 'Кто дошик ел, тот рейтинг ценит свой.', ['Кто дошик ел, тот рейтинг ценит свой.', 'Кто крашился, тот знает, что живой.']]\n",
      "Number of the elements of the list is 3\n",
      "\n",
      "4.\n",
      "true_story_slice = []\n",
      "true_story_list = ['Пуд багов съевший, выше ценит чистый код.', 'Кто дошик ел, тот рейтинг ценит свой.', []]\n",
      "Number of the elements of the list is 3\n",
      "\n",
      "5.\n",
      "true_story_list = ['Кто битым за дедлайн был,', 'Пуд багов съевший, выше ценит чистый код.', 'Кто дошик ел, тот рейтинг ценит свой.', []]\n",
      "Number of the elements of the list is 4\n",
      "\n",
      "6.\n",
      "true_story_list = ['Кто битым за дедлайн был,', 'Пуд багов съевший, выше ценит чистый код.', 'Кто дошик ел, тот рейтинг ценит свой.']\n",
      "Number of the elements of the list is 3\n",
      "\n",
      "7.\n",
      "true_story_list = ['Кто битым за дедлайн был,', 'тот больше не сольется.', 'Пуд багов съевший, выше ценит чистый код.', 'Кто дошик ел, тот рейтинг ценит свой.']\n",
      "Number of the elements of the list is 4\n",
      "\n",
      "8.\n",
      "true_story_list = ['Кто битым за дедлайн был,', 'тот больше не сольется.', 'Пуд багов съевший, выше ценит чистый код.', 'Кто дошик ел, тот рейтинг ценит свой.', 'Кто крашился, тот знает, что живой.', 'Кто крашился, тот знает, что живой.']\n",
      "Number of the elements of the list is 6\n",
      "\n",
      "9.\n",
      "true_story_list = ['Кто битым за дедлайн был,', 'тот больше не сольется.', 'Пуд багов съевший, выше ценит чистый код.', 'Кто дошик ел, тот рейтинг ценит свой.', 'Кто крашился, тот знает, что живой.']\n",
      "Number of the elements of the list is 5\n",
      "\n",
      "10.\n",
      "Кто битым за дедлайн был,\n",
      "тот больше не сольется.\n",
      "Пуд багов съевший, выше ценит чистый код.\n",
      "Кто дошик ел, тот рейтинг ценит свой.\n",
      "Кто крашился, тот знает, что живой.\n"
     ]
    }
   ],
   "source": [
    "true_story_list = []\n",
    "true_story_list.append(\"Пуд багов съевший, выше ценит чистый код.\")\n",
    "print(\"1.\")\n",
    "print(f\"true_story_list = {true_story_list}\")\n",
    "print(f\"Number of the elements of the list is {len(true_story_list)}\")\n",
    "print('')\n",
    "\n",
    "true_story_list.append(\"Кто дошик ел, тот рейтинг ценит свой.\")\n",
    "print(\"2.\")\n",
    "print(f\"true_story_list = {true_story_list}\")\n",
    "print(f\"Number of the elements of the list is {len(true_story_list)}\")\n",
    "print('')\n",
    "\n",
    "\n",
    "true_story_slice = []\n",
    "true_story_slice.append(\"Кто дошик ел, тот рейтинг ценит свой.\")\n",
    "true_story_slice.append(\"Кто крашился, тот знает, что живой.\")\n",
    "true_story_list.append(true_story_slice)\n",
    "print(\"3.\")\n",
    "print(f\"true_story_list = {true_story_list}\")\n",
    "print(f\"Number of the elements of the list is {len(true_story_list)}\")\n",
    "print('')\n",
    "\n",
    "true_story_slice.clear()\n",
    "print(\"4.\")\n",
    "print(f\"true_story_slice = {true_story_slice}\")\n",
    "print(f\"true_story_list = {true_story_list}\")\n",
    "print(f\"Number of the elements of the list is {len(true_story_list)}\")\n",
    "print('')\n",
    "\n",
    "true_story_list.insert(0, \"Кто битым за дедлайн был,\")\n",
    "print(\"5.\")\n",
    "print(f\"true_story_list = {true_story_list}\")\n",
    "print(f\"Number of the elements of the list is {len(true_story_list)}\")\n",
    "print('')\n",
    "\n",
    "true_story_list.pop(-1)\n",
    "print(\"6.\")\n",
    "print(f\"true_story_list = {true_story_list}\")\n",
    "print(f\"Number of the elements of the list is {len(true_story_list)}\")\n",
    "print('')\n",
    "\n",
    "true_story_list.insert(1, \"тот больше не сольется.\")\n",
    "print(\"7.\")\n",
    "print(f\"true_story_list = {true_story_list}\")\n",
    "print(f\"Number of the elements of the list is {len(true_story_list)}\")\n",
    "print('')\n",
    "\n",
    "true_story_tail = []\n",
    "true_story_tail.append(\"Кто крашился, тот знает, что живой.\")\n",
    "true_story_tail = true_story_tail * 2\n",
    "true_story_list.extend(true_story_tail)\n",
    "print(\"8.\")\n",
    "print(f\"true_story_list = {true_story_list}\")\n",
    "print(f\"Number of the elements of the list is {len(true_story_list)}\")\n",
    "print('')\n",
    "\n",
    "true_story_list.pop(4)\n",
    "print(\"9.\")\n",
    "print(f\"true_story_list = {true_story_list}\")\n",
    "print(f\"Number of the elements of the list is {len(true_story_list)}\")\n",
    "print('')\n",
    "\n",
    "print(\"10.\")\n",
    "print(\"\\n\".join(true_story_list))\n",
    "\n"
   ]
  },
  {
   "cell_type": "code",
   "execution_count": null,
   "id": "f40fa775-8879-4f17-b419-94e0abf64173",
   "metadata": {},
   "outputs": [],
   "source": []
  }
 ],
 "metadata": {
  "kernelspec": {
   "display_name": "Python 3 (ipykernel)",
   "language": "python",
   "name": "python3"
  },
  "language_info": {
   "codemirror_mode": {
    "name": "ipython",
    "version": 3
   },
   "file_extension": ".py",
   "mimetype": "text/x-python",
   "name": "python",
   "nbconvert_exporter": "python",
   "pygments_lexer": "ipython3",
   "version": "3.10.10"
  }
 },
 "nbformat": 4,
 "nbformat_minor": 5
}
