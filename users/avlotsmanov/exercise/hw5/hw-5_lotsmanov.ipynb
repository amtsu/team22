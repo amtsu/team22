{
 "cells": [
  {
   "cell_type": "markdown",
   "id": "a1850caa-4b10-43fe-a8cf-6607941a96aa",
   "metadata": {
    "jp-MarkdownHeadingCollapsed": true
   },
   "source": [
    "# Часть 1. Множества \n"
   ]
  },
  {
   "cell_type": "markdown",
   "id": "c0f0525a-3b70-4947-8c87-8e43bb8f3024",
   "metadata": {},
   "source": [
    "1. Создайте множество **set1** из целых чисел: 1, 2, 3, 4, 5.\n"
   ]
  },
  {
   "cell_type": "code",
   "execution_count": 1,
   "id": "423a97aa-ee5a-4421-8ccf-16d9dcb1b5ea",
   "metadata": {},
   "outputs": [
    {
     "name": "stdout",
     "output_type": "stream",
     "text": [
      "{1, 2, 3, 4, 5}\n"
     ]
    }
   ],
   "source": [
    "set1 = set([ 1, 2, 3, 4, 5])\n",
    "print(set1)"
   ]
  },
  {
   "cell_type": "markdown",
   "id": "558268bc-73f0-4cf1-8fcc-b8ecc7182ae9",
   "metadata": {},
   "source": [
    "2. Добавьте в это множество элемент 6.\n"
   ]
  },
  {
   "cell_type": "code",
   "execution_count": 2,
   "id": "17313f2a-6525-4e64-8fca-43d48d76492f",
   "metadata": {},
   "outputs": [
    {
     "name": "stdout",
     "output_type": "stream",
     "text": [
      "{1, 2, 3, 4, 5, 6}\n"
     ]
    }
   ],
   "source": [
    "set1.add(6)\n",
    "print(set1)"
   ]
  },
  {
   "cell_type": "markdown",
   "id": "3909c160-fddb-4fda-8c56-63a6e0392ad7",
   "metadata": {},
   "source": [
    "3. Удалите элемент 2 из множества.\n"
   ]
  },
  {
   "cell_type": "code",
   "execution_count": 3,
   "id": "7ae2e268-2d6f-4321-a0fb-5561a745d047",
   "metadata": {},
   "outputs": [
    {
     "name": "stdout",
     "output_type": "stream",
     "text": [
      "{1, 3, 4, 5, 6}\n"
     ]
    }
   ],
   "source": [
    "set1.remove(2)\n",
    "print(set1)"
   ]
  },
  {
   "cell_type": "markdown",
   "id": "162a7095-c591-4892-b763-fe76635fde90",
   "metadata": {},
   "source": [
    "4. Проверьте, содержит ли множество элемент 3.\n"
   ]
  },
  {
   "cell_type": "code",
   "execution_count": 4,
   "id": "cab6f1d4-26fb-4065-b8a4-944395d3805e",
   "metadata": {},
   "outputs": [
    {
     "name": "stdout",
     "output_type": "stream",
     "text": [
      "True\n"
     ]
    }
   ],
   "source": [
    "x = 3\n",
    "print(x in set1)"
   ]
  },
  {
   "cell_type": "markdown",
   "id": "73190ab8-b652-4061-bc9f-c47515fe681e",
   "metadata": {},
   "source": [
    "5. Создайте второе множество **set2** с элементами 4, 5, 6, 7, 8.\n"
   ]
  },
  {
   "cell_type": "code",
   "execution_count": 5,
   "id": "12e059b2-c8fc-4490-8252-8edaa247cb35",
   "metadata": {},
   "outputs": [
    {
     "name": "stdout",
     "output_type": "stream",
     "text": [
      "{4, 5, 6, 7, 8}\n"
     ]
    }
   ],
   "source": [
    "set2 = set([4, 5, 6, 7, 8])\n",
    "print(set2)"
   ]
  },
  {
   "cell_type": "markdown",
   "id": "3ad31069-26d0-411f-bcd7-b753856f6bd0",
   "metadata": {},
   "source": [
    "6. Найдите объединение множеств **set1** и **set2**.\n"
   ]
  },
  {
   "cell_type": "code",
   "execution_count": 6,
   "id": "e2a3340e-45f0-4fdb-bab9-56d5a1e109c3",
   "metadata": {},
   "outputs": [
    {
     "name": "stdout",
     "output_type": "stream",
     "text": [
      "{1, 3, 4, 5, 6, 7, 8}\n",
      "{1, 3, 4, 5, 6, 7, 8}\n"
     ]
    }
   ],
   "source": [
    "#объединение множеств способ 1\n",
    "print (set1 | set2)\n",
    "#объединение множеств способ 2\n",
    "print (set1.union(set2))"
   ]
  },
  {
   "cell_type": "markdown",
   "id": "c30d10c9-7fdb-426b-8657-1118326987d0",
   "metadata": {},
   "source": [
    "7. Найдите разность множеств **set1** и **set2**.\n"
   ]
  },
  {
   "cell_type": "code",
   "execution_count": 7,
   "id": "1213f5d8-5914-4715-8402-f64e62bc0238",
   "metadata": {},
   "outputs": [
    {
     "name": "stdout",
     "output_type": "stream",
     "text": [
      "{1, 3}\n",
      "{8, 7}\n",
      "\n",
      "{1, 3}\n",
      "{8, 7}\n"
     ]
    }
   ],
   "source": [
    "#разница множеств способ 1\n",
    "print(set1-set2)\n",
    "print(set2-set1)\n",
    "print()\n",
    "#разница множеств способ 1\n",
    "print(set1.difference(set2))\n",
    "print(set2.difference(set1))"
   ]
  },
  {
   "cell_type": "markdown",
   "id": "50855226-2ee2-46ec-b236-13ff9d974eec",
   "metadata": {},
   "source": [
    "8. Создайте два множества **set1** и **set2**, содержащие цвета радуги: \"красный\", \"оранжевый\", \"желтый\", \"зеленый\", \"голубой\", \"синий\", \"фиолетовый\".\n"
   ]
  },
  {
   "cell_type": "code",
   "execution_count": 8,
   "id": "3102c92c-48c3-4aa7-bd47-037009cb05d3",
   "metadata": {},
   "outputs": [
    {
     "name": "stdout",
     "output_type": "stream",
     "text": [
      "{'голубой', 'оранжевый', 'зеленый', 'желтый', 'красный'}\n",
      "{'синий', 'желтый', 'оранжевый', 'фиолетовый', 'Мальвиновый'}\n"
     ]
    }
   ],
   "source": [
    "#вариант понимания задачи что два одинаковых множества\n",
    "st1 = {\"красный\", \"оранжевый\", \"желтый\", \"зеленый\", \"голубой\"}\n",
    "st2 = {\"оранжевый\", \"желтый\", \"синий\", \"фиолетовый\", \"Мальвиновый\"}\n",
    "print(st1, st2, sep = '\\n')"
   ]
  },
  {
   "cell_type": "markdown",
   "id": "c4a8970f-59b1-4ae3-a291-abaa4dbfc1af",
   "metadata": {},
   "source": [
    "9. Найдите пересечение множеств **set1** и **set2**.\n"
   ]
  },
  {
   "cell_type": "code",
   "execution_count": 9,
   "id": "a0a49969-4a8b-4679-a60e-a8fbd8b5f480",
   "metadata": {},
   "outputs": [
    {
     "name": "stdout",
     "output_type": "stream",
     "text": [
      "{'желтый', 'оранжевый'}\n"
     ]
    }
   ],
   "source": [
    "#дубляжи удаляются\n",
    "print (st1 & st2)"
   ]
  },
  {
   "cell_type": "markdown",
   "id": "ab8eb385-fe71-4aa8-a0b1-3cac1fd208eb",
   "metadata": {},
   "source": [
    "10. Объедините множества **set1** и **set2** и сохраните результат в новое множество **rainbow_colors**."
   ]
  },
  {
   "cell_type": "code",
   "execution_count": 10,
   "id": "07c8a944-5fe0-4875-9c35-dc2e8bc3efed",
   "metadata": {},
   "outputs": [
    {
     "name": "stdout",
     "output_type": "stream",
     "text": [
      "{'синий', 'голубой', 'оранжевый', 'Мальвиновый', 'фиолетовый', 'зеленый', 'желтый', 'красный'}\n"
     ]
    }
   ],
   "source": [
    "rainbow_colors = st1.union(st2)\n",
    "print(rainbow_colors)"
   ]
  },
  {
   "cell_type": "markdown",
   "id": "b537fffb-1897-4d78-958c-b6ad453c0d24",
   "metadata": {
    "jp-MarkdownHeadingCollapsed": true
   },
   "source": [
    "# Часть 2. Словари"
   ]
  },
  {
   "cell_type": "markdown",
   "id": "47a7ed34-fd76-49c1-9411-8dd148cc296e",
   "metadata": {},
   "source": [
    "1. Создайте словарь **person** с ключами \"name\", \"age\" и \"city\" с вашими данными.\n"
   ]
  },
  {
   "cell_type": "code",
   "execution_count": 11,
   "id": "b43e31f8-fc54-447e-94a1-3423d137a79a",
   "metadata": {},
   "outputs": [
    {
     "name": "stdout",
     "output_type": "stream",
     "text": [
      "\u001b[93mЭлементы словаря  person:\u001b[0m\n",
      "('name', 'Alexander')\n",
      "('age', 33)\n",
      "('city', 'Dolgoprudniy')\n",
      "\n",
      " <class 'dict'>\n"
     ]
    }
   ],
   "source": [
    "person = {\n",
    "    'name':'Alexander',\n",
    "    'age':33,\n",
    "    'city':'Dolgoprudniy'\n",
    "}\n",
    "print('\\033[93mЭлементы словаря  person:\\033[0m', *person.items(), sep = '\\n')\n",
    "print('\\n', type(person))"
   ]
  },
  {
   "cell_type": "markdown",
   "id": "a8132d21-d7d4-4632-9583-ac6f504b5fcc",
   "metadata": {},
   "source": [
    "2. Добавьте в словарь новый ключ \"email\" со значением вашего электронного адреса.\n"
   ]
  },
  {
   "cell_type": "code",
   "execution_count": 12,
   "id": "8283df3b-e08c-4981-b6fe-1ebed04cd91b",
   "metadata": {},
   "outputs": [
    {
     "name": "stdout",
     "output_type": "stream",
     "text": [
      "\u001b[93mЭлементы словаря  person:\u001b[0m\n",
      "('name', 'Alexander')\n",
      "('age', 33)\n",
      "('city', 'Dolgoprudniy')\n",
      "('email', 'misterdx1990@gmail.com')\n"
     ]
    }
   ],
   "source": [
    "person['email'] = 'misterdx1990@gmail.com'\n",
    "print('\\033[93mЭлементы словаря  person:\\033[0m', *person.items(), sep = '\\n')"
   ]
  },
  {
   "cell_type": "markdown",
   "id": "09898bee-007c-493a-b682-4212c7ba1f22",
   "metadata": {},
   "source": [
    "3. Удалите ключ \"city\" из словаря.\n"
   ]
  },
  {
   "cell_type": "code",
   "execution_count": 13,
   "id": "5bf7aaed-2a30-445c-a676-d3016917cc2a",
   "metadata": {},
   "outputs": [
    {
     "name": "stdout",
     "output_type": "stream",
     "text": [
      "\u001b[93mЭлементы словаря  person:\u001b[0m\n",
      "('name', 'Alexander')\n",
      "('age', 33)\n",
      "('email', 'misterdx1990@gmail.com')\n"
     ]
    }
   ],
   "source": [
    "del person['city']\n",
    "print('\\033[93mЭлементы словаря  person:\\033[0m', *person.items(), sep = '\\n')"
   ]
  },
  {
   "cell_type": "markdown",
   "id": "eee442d7-c4d5-4ed6-947a-fa34db472e34",
   "metadata": {},
   "source": [
    "4. Создайте словарь **fruits_quantity** с товарами \"яблоко\": 5, \"банан\": 10, \"апельсин\": 7.\n"
   ]
  },
  {
   "cell_type": "code",
   "execution_count": 14,
   "id": "b03fb582-853b-427d-96b2-9138be9ad474",
   "metadata": {},
   "outputs": [
    {
     "name": "stdout",
     "output_type": "stream",
     "text": [
      "\u001b[93mЭлементы словаря fruits_quantity:\u001b[0m\n",
      "('яблоко', 5)\n",
      "('банан', 10)\n",
      "('апельсин', 7)\n"
     ]
    }
   ],
   "source": [
    "fruits_quantity = {\n",
    "    \"яблоко\": 5,\n",
    "    \"банан\": 10,\n",
    "    \"апельсин\": 7\n",
    "}\n",
    "print('\\033[93mЭлементы словаря fruits_quantity:\\033[0m', *fruits_quantity.items(), sep = '\\n')"
   ]
  },
  {
   "cell_type": "markdown",
   "id": "e3372dce-5661-4a42-9904-19923e542d48",
   "metadata": {},
   "source": [
    "5. Увеличьте количество \"бананов\" в словаре fruits_quantity на 3.\n"
   ]
  },
  {
   "cell_type": "code",
   "execution_count": 15,
   "id": "dfdc4743-a7e5-44e0-83a4-ae4e8e8635dd",
   "metadata": {},
   "outputs": [
    {
     "name": "stdout",
     "output_type": "stream",
     "text": [
      "\u001b[93mЭлементы словаря fruits_quantity:\u001b[0m\n",
      "('яблоко', 5)\n",
      "('банан', 11)\n",
      "('апельсин', 7)\n"
     ]
    }
   ],
   "source": [
    "fruits_quantity['банан'] = fruits_quantity['банан'] + 1\n",
    "print('\\033[93mЭлементы словаря fruits_quantity:\\033[0m', *fruits_quantity.items(), sep = '\\n')"
   ]
  },
  {
   "cell_type": "markdown",
   "id": "1901a74c-3f78-4e9d-96ea-3c389683d35d",
   "metadata": {},
   "source": [
    "6. Создайте новый словарь **prices**, где цена для каждого продукта задана {\"яблоко\": 1.5, \"банан\": 2, \"апельсин\": 1.2}.\n"
   ]
  },
  {
   "cell_type": "code",
   "execution_count": 16,
   "id": "ec3b7145-dc85-42b8-b0df-fc5d5ddd0df3",
   "metadata": {},
   "outputs": [
    {
     "name": "stdout",
     "output_type": "stream",
     "text": [
      "\u001b[93mЭлементы словаря fruits_prices:\u001b[0m\n",
      "('яблоко', 1.5)\n",
      "('банан', 2)\n",
      "('апельсин', 1.2)\n"
     ]
    }
   ],
   "source": [
    "fruits_prices = {\n",
    "    \"яблоко\": 1.5,\n",
    "    \"банан\": 2,\n",
    "    \"апельсин\": 1.2\n",
    "}\n",
    "print('\\033[93mЭлементы словаря fruits_prices:\\033[0m', *fruits_prices.items(), sep = '\\n')"
   ]
  },
  {
   "cell_type": "markdown",
   "id": "f9a8e906-f66d-4754-b990-78604bc1622c",
   "metadata": {},
   "source": [
    "6.* Посчитайте стоимость всех фруктов, имеющихся в наличии"
   ]
  },
  {
   "cell_type": "code",
   "execution_count": 17,
   "id": "73a49438-a6b9-41ce-8263-99efc278611b",
   "metadata": {},
   "outputs": [
    {
     "name": "stdout",
     "output_type": "stream",
     "text": [
      "\u001b[93mСтоимость фруктов из наличия:\u001b[0m 37.9\n"
     ]
    }
   ],
   "source": [
    "a = 0\n",
    "for key in fruits_quantity:\n",
    "    a += fruits_quantity[key] * fruits_prices[key]\n",
    "print('\\033[93mСтоимость фруктов из наличия:\\033[0m', a)"
   ]
  },
  {
   "cell_type": "markdown",
   "id": "1b9e294c-128e-4e10-965a-61a6caac0c77",
   "metadata": {},
   "source": [
    "6.** Удалите \"Томат\" из словаря fruits_prices."
   ]
  },
  {
   "cell_type": "code",
   "execution_count": 18,
   "id": "6d952e6e-2c72-42ec-a985-9d35ea26d9be",
   "metadata": {},
   "outputs": [
    {
     "data": {
      "text/plain": [
       "'Такого ключа нет в словаре!'"
      ]
     },
     "execution_count": 18,
     "metadata": {},
     "output_type": "execute_result"
    }
   ],
   "source": [
    "fruits_prices.pop('Томат', 'Такого ключа нет в словаре!')"
   ]
  },
  {
   "cell_type": "markdown",
   "id": "8020e1ad-f90a-4d2a-98ee-82aa16931126",
   "metadata": {},
   "source": [
    "7. Создайте словарь **students** с данными о студентах {\"Иванов\": 22, \"Петрова\": 21, \"Сидоров\": 23}.\n"
   ]
  },
  {
   "cell_type": "code",
   "execution_count": 19,
   "id": "99bcc856-95ea-4888-82a6-66862f35b1c9",
   "metadata": {},
   "outputs": [
    {
     "name": "stdout",
     "output_type": "stream",
     "text": [
      "\u001b[93mЭлементы словаря Students:\u001b[0m\n",
      "('Иванов', 22)\n",
      "('Петрова', 21)\n",
      "('Сидоров', 23)\n"
     ]
    }
   ],
   "source": [
    "students = {\n",
    "    \"Иванов\": 22,\n",
    "    \"Петрова\": 21,\n",
    "    \"Сидоров\": 23\n",
    "}\n",
    "print('\\033[93mЭлементы словаря Students:\\033[0m', *students.items(), sep = '\\n')"
   ]
  },
  {
   "cell_type": "markdown",
   "id": "9f33e0a5-3798-4483-9bd8-7fea2db81a73",
   "metadata": {},
   "source": [
    "8. Добавьте нового студента \"Смирнова\" возрастом 20 лет в словарь.\n"
   ]
  },
  {
   "cell_type": "code",
   "execution_count": 20,
   "id": "e0c2ca7d-7d27-46d8-be5f-26e054b795d9",
   "metadata": {},
   "outputs": [
    {
     "name": "stdout",
     "output_type": "stream",
     "text": [
      "\u001b[93mЭлементы словаря Students:\u001b[0m\n",
      "('Иванов', 22)\n",
      "('Петрова', 21)\n",
      "('Сидоров', 23)\n",
      "('Смирнова', 20)\n"
     ]
    }
   ],
   "source": [
    "students['Смирнова'] = 20\n",
    "print('\\033[93mЭлементы словаря Students:\\033[0m', *students.items(), sep = '\\n')"
   ]
  },
  {
   "cell_type": "markdown",
   "id": "afca6bd4-0a58-4911-b435-85c2889aad97",
   "metadata": {},
   "source": [
    "9. Удалите студента \"Петрова\" из словаря."
   ]
  },
  {
   "cell_type": "code",
   "execution_count": 21,
   "id": "c6a28d1e-2fa5-4b63-9a0d-89604ab5924f",
   "metadata": {},
   "outputs": [
    {
     "name": "stdout",
     "output_type": "stream",
     "text": [
      "\u001b[93mЭлементы словаря Students:\u001b[0m\n",
      "('Иванов', 22)\n",
      "('Сидоров', 23)\n",
      "('Смирнова', 20)\n"
     ]
    }
   ],
   "source": [
    "del students['Петрова']\n",
    "print('\\033[93mЭлементы словаря Students:\\033[0m', *students.items(), sep = '\\n')"
   ]
  },
  {
   "cell_type": "markdown",
   "id": "3a3e511c-8c3e-4496-8555-39c324dfa7ca",
   "metadata": {
    "jp-MarkdownHeadingCollapsed": true
   },
   "source": [
    "# Часть 3. Условные операторы\n"
   ]
  },
  {
   "cell_type": "markdown",
   "id": "b445e525-2eb4-47b7-96b2-b73dcfb5123d",
   "metadata": {},
   "source": [
    "1. На основе значения возраста из словаря **person**, выведите сообщение \"Совершеннолетний\" или \"Несовершеннолетний\".\n"
   ]
  },
  {
   "cell_type": "code",
   "execution_count": 22,
   "id": "1d0324dd-f959-4f32-b05d-e0f9817d3d8a",
   "metadata": {},
   "outputs": [
    {
     "name": "stdout",
     "output_type": "stream",
     "text": [
      "Совершеннолетний\n"
     ]
    }
   ],
   "source": [
    "if person['age'] >= 18:\n",
    "    print ('Совершеннолетний')\n",
    "elif person['age'] <= 0:\n",
    "    print('Error')\n",
    "else:\n",
    "    print('Несовершеннолетний')"
   ]
  },
  {
   "cell_type": "markdown",
   "id": "5d15e061-d387-4097-a483-9b3cacac6796",
   "metadata": {},
   "source": [
    "2. Сравните длину множества **set1** с другим множеством **set2** и выведите сообщение о том, какое из множеств больше.\n"
   ]
  },
  {
   "cell_type": "code",
   "execution_count": 23,
   "id": "3592aa35-885d-4fee-a9fa-d814e24c597d",
   "metadata": {},
   "outputs": [
    {
     "name": "stdout",
     "output_type": "stream",
     "text": [
      "Длины множеств \u001b[93mset1\u001b[0m и \u001b[93mset2\u001b[0m равны\n"
     ]
    }
   ],
   "source": [
    "x = len(set1) - len(set2)\n",
    "if x > 0:\n",
    "    print('Длина множества \\033[93mset1\\033[0m больше длины множества \\033[93mset2\\033[0m')\n",
    "elif x < 0:\n",
    "    print('Длина множества \\033[93mset2\\033[0m больше длины множества \\033[93mset1\\033[0m')\n",
    "else:\n",
    "    print('Длины множеств \\033[93mset1\\033[0m и \\033[93mset2\\033[0m равны')"
   ]
  },
  {
   "cell_type": "markdown",
   "id": "c2fd9e2b-b030-4653-acf0-2809ec1a43d4",
   "metadata": {},
   "source": [
    "3. Напишите условие, которое проверяет, есть ли \"груша\" в словаре fruits_quantity, и если нет, добавляет \"грушу\" с количеством 3.\n"
   ]
  },
  {
   "cell_type": "code",
   "execution_count": 24,
   "id": "d286e015-2d36-449d-a41c-c71869ee2363",
   "metadata": {},
   "outputs": [
    {
     "name": "stdout",
     "output_type": "stream",
     "text": [
      "Элемент с ключом \"груша\" в словаре \u001b[93mfruits_quantity\u001b[0m не найден\n",
      "\n",
      "В словарь \u001b[93mfruits_quantity\u001b[0m добавлен элемент с ключом  \"груша\" и значением 3\n",
      "\n",
      "\u001b[93mЭлементы словаря  fruits_quantity:\u001b[0m\n",
      "('яблоко', 5)\n",
      "('банан', 11)\n",
      "('апельсин', 7)\n",
      "('груша', 3)\n"
     ]
    }
   ],
   "source": [
    "#вариант с условием\n",
    "if 'груша' in fruits_quantity.keys():\n",
    "    print('Элемент c ключом \"груша\" в словаре \\033[93mfruits_quantity\\033[0m найден')\n",
    "    print(f\"Его значение - {fruits_quantity['груша']}\") \n",
    "else:\n",
    "    print('Элемент с ключом \"груша\" в словаре \\033[93mfruits_quantity\\033[0m не найден\\n')\n",
    "    fruits_quantity['груша'] = 3\n",
    "    print('В словарь \\033[93mfruits_quantity\\033[0m добавлен элемент с ключом  \"груша\" и значением 3\\n')\n",
    "print('\\033[93mЭлементы словаря  fruits_quantity:\\033[0m', *fruits_quantity.items(), sep = '\\n')"
   ]
  },
  {
   "cell_type": "code",
   "execution_count": 25,
   "id": "5993c766-9d31-4329-951b-dc39f342aa9c",
   "metadata": {},
   "outputs": [
    {
     "name": "stdout",
     "output_type": "stream",
     "text": [
      "Элемент c ключом \"груша\" в словаре \u001b[93mfruits_quantity\u001b[0m найден\n",
      "\u001b[93mЭлементы словаря  fruits_quantity:\u001b[0m\n",
      "('яблоко', 5)\n",
      "('банан', 11)\n",
      "('апельсин', 7)\n"
     ]
    }
   ],
   "source": [
    "#вариант с обраобткой ошибки, для себя\n",
    "try:\n",
    "    fruits_quantity.pop('груша')\n",
    "    print('Элемент c ключом \"груша\" в словаре \\033[93mfruits_quantity\\033[0m найден')\n",
    "except KeyError:\n",
    "    print('Элемент с ключом \"груша\" в словаре \\033[93mfruits_quantity\\033[0m не найден\\n')\n",
    "    fruits_quantity['груша'] = 3\n",
    "    print('В словарь \\033[93mfruits_quantity\\033[0m добавлен элемент с ключом  \"груша\" и значением 3\\n')\n",
    "print('\\033[93mЭлементы словаря  fruits_quantity:\\033[0m', *fruits_quantity.items(), sep = '\\n')"
   ]
  },
  {
   "cell_type": "markdown",
   "id": "757051db-9f0b-4356-9430-9e5fee39647e",
   "metadata": {},
   "source": [
    "4. Если банан дороже яблока, но дешевле апельсина, задайте количество бананов равным 15.\n"
   ]
  },
  {
   "cell_type": "code",
   "execution_count": 26,
   "id": "d862d64b-5f88-4f77-9971-b8b5988172cc",
   "metadata": {},
   "outputs": [
    {
     "name": "stdout",
     "output_type": "stream",
     "text": [
      "\u001b[93mЭлементы словаря  fruits_quantity:\u001b[0m\n",
      "('яблоко', 5)\n",
      "('банан', 11)\n",
      "('апельсин', 7)\n"
     ]
    }
   ],
   "source": [
    "if fruits_prices['банан'] > fruits_prices['яблоко'] and fruits_prices['банан'] < fruits_prices['апельсин']:\n",
    "    fruits_quantity['банан'] = 15\n",
    "print('\\033[93mЭлементы словаря  fruits_quantity:\\033[0m', *fruits_quantity.items(), sep = '\\n')"
   ]
  },
  {
   "cell_type": "markdown",
   "id": "f25aed81-0216-4cd3-8545-08b4682107a4",
   "metadata": {},
   "source": [
    "5. Задайте словарь Seven11 с таким содержанием {\"яйца\": 40, \"батон хлеба\" : 20}  \n",
    "  Жена отправляет мужа-программиста в севенэлевен:  \n",
    " — Купи батон хлеба, если будут яйца — возьми десяток.  \n",
    "Выведите на экран, сколько хлеба купил муж-программист, и сколько хлеба и яиц осталось в магазине."
   ]
  },
  {
   "cell_type": "code",
   "execution_count": 27,
   "id": "a0f7173b-1293-4dbc-bdba-2a5e5a0b90ae",
   "metadata": {},
   "outputs": [
    {
     "name": "stdout",
     "output_type": "stream",
     "text": [
      "Товара \u001b[93m\"десяток\"\u001b[0m нет в магазине!\n",
      "\u001b[93mИтоговая корзина мужа программиста:\u001b[0m\n",
      "батон хлеба - 1\n"
     ]
    }
   ],
   "source": [
    "seven11 = {\n",
    "    'яйца' : 40,\n",
    "    'батон хлеба' : 20,\n",
    "}\n",
    "husband_bug = dict()\n",
    "if 'батон хлеба' in seven11.keys():\n",
    "    try:\n",
    "        husband_bug['батон хлеба'] += 1\n",
    "    except KeyError:\n",
    "        husband_bug['батон хлеба'] = 1\n",
    "    seven11['батон хлеба'] -= 1\n",
    "else:\n",
    "    print('Товара \"батон хлеба\" нет в магазине!')\n",
    "if 'яйца' in seven11.keys():\n",
    "    if 'десяток' in seven11.keys():\n",
    "        try:\n",
    "            husband_bug['десяток'] += 1\n",
    "        except KeyError:\n",
    "            husband_bug['десяток'] = 1\n",
    "        seven11['десяток'] -= 1\n",
    "    else:\n",
    "        print('Товара \\033[93m\"десяток\"\\033[0m нет в магазине!')\n",
    "        \n",
    "khleb = husband_bug['батон хлеба']\n",
    "\n",
    "print('\\033[93mИтоговая корзина мужа программиста:\\033[0m')\n",
    "for key in husband_bug:\n",
    "    print(f'{key} - {husband_bug[key]}')"
   ]
  },
  {
   "cell_type": "markdown",
   "id": "4ff799f5-f823-4af9-bb54-8ed4d3441c9f",
   "metadata": {},
   "source": [
    "6. Напишите условие, которое проверяет возраст студента \"Иванова\" и выводит сообщение \"Совершеннолетний\" или \"Несовершеннолетний\".\n"
   ]
  },
  {
   "cell_type": "code",
   "execution_count": 28,
   "id": "c6a7a1b3-58a9-4d18-a549-38190301c2ed",
   "metadata": {},
   "outputs": [
    {
     "name": "stdout",
     "output_type": "stream",
     "text": [
      "Иванов - Совершеннолетний\n"
     ]
    }
   ],
   "source": [
    "key = 'Иванов'\n",
    "if students[key] >= 18:\n",
    "    print (f'{key} - Совершеннолетний')\n",
    "elif person['age'] <= 0:\n",
    "    print('Error')\n",
    "else:\n",
    "    print(f'{key} - Несовершеннолетний')"
   ]
  },
  {
   "cell_type": "markdown",
   "id": "8727cf2d-3ef8-4e10-a773-dc8c62f46167",
   "metadata": {
    "jp-MarkdownHeadingCollapsed": true
   },
   "source": [
    "# Часть 4. Циклы "
   ]
  },
  {
   "cell_type": "markdown",
   "id": "0cc79b02-4f14-4afc-a9da-5679d5aad696",
   "metadata": {},
   "source": [
    "1. Напишите цикл for, который выводит все элементы множества **set1**.\n"
   ]
  },
  {
   "cell_type": "code",
   "execution_count": 29,
   "id": "e6709032-140c-4ebe-b63b-211c948c0f78",
   "metadata": {},
   "outputs": [
    {
     "name": "stdout",
     "output_type": "stream",
     "text": [
      "\u001b[93mЭлементы множества set1:\u001b[0m\n",
      "1 3 4 5 6 "
     ]
    }
   ],
   "source": [
    "print('\\033[93mЭлементы множества set1:\\033[0m')\n",
    "for s in set1:\n",
    "    print(s, end = ' ')"
   ]
  },
  {
   "cell_type": "markdown",
   "id": "b11f675d-0fc2-4fa6-ab63-5bc90fedd0e9",
   "metadata": {},
   "source": [
    "2. Напишите цикл while, который выводит квадраты чисел от 1 до 5.\n"
   ]
  },
  {
   "cell_type": "code",
   "execution_count": 30,
   "id": "52196b4f-7639-4bf6-b33f-3edbde3d1fc8",
   "metadata": {},
   "outputs": [
    {
     "name": "stdout",
     "output_type": "stream",
     "text": [
      "\u001b[93mКвадрат числа 1\u001b[0m - 1\n",
      "\u001b[93mКвадрат числа 2\u001b[0m - 4\n",
      "\u001b[93mКвадрат числа 3\u001b[0m - 9\n",
      "\u001b[93mКвадрат числа 4\u001b[0m - 16\n",
      "\u001b[93mКвадрат числа 5\u001b[0m - 25\n"
     ]
    }
   ],
   "source": [
    "i = 1\n",
    "while i <= 5:\n",
    "    print(f'\\033[93mКвадрат числа {i}\\033[0m - {i*i}')\n",
    "    i += 1"
   ]
  },
  {
   "cell_type": "markdown",
   "id": "08006861-c85e-4bca-9046-38464ccf582a",
   "metadata": {},
   "source": [
    "3. Напишите цикл for, который перебирает все ключи словаря **fruits_qauntity** и выводит каждый товар.\n"
   ]
  },
  {
   "cell_type": "code",
   "execution_count": 31,
   "id": "d156e778-7e8d-41d4-91b4-7e4bd4b2ae82",
   "metadata": {},
   "outputs": [
    {
     "name": "stdout",
     "output_type": "stream",
     "text": [
      "Товары, из словаря \u001b[93mfruits_quantity\u001b[0m:\n",
      "яблоко\n",
      "банан\n",
      "апельсин\n"
     ]
    }
   ],
   "source": [
    "print(f'Товары, из словаря \\033[93mfruits_quantity\\033[0m:')\n",
    "for key in fruits_quantity.keys():\n",
    "    print(key)"
   ]
  },
  {
   "cell_type": "markdown",
   "id": "b946f95c-18ac-4632-bc42-cb32d84c2c86",
   "metadata": {},
   "source": [
    "4. Выведите сообщение \"%название фрукта% - дорогой товар\" для фруктов из **fruit_prices**, цена которых превышает 1.5, подставив вместо %название фрукта% название соответствующих \"дорогих\" фруктов"
   ]
  },
  {
   "cell_type": "code",
   "execution_count": 32,
   "id": "f245c83e-9c7c-432e-ad41-edd560ce6ded",
   "metadata": {},
   "outputs": [
    {
     "name": "stdout",
     "output_type": "stream",
     "text": [
      "банан - \u001b[93mдорогой товар\u001b[0m\n"
     ]
    }
   ],
   "source": [
    "for fruit in fruits_prices.keys():\n",
    "    if fruits_prices[fruit] > 1.5:\n",
    "            print(f'{fruit} - \\033[93mдорогой товар\\033[0m')"
   ]
  },
  {
   "cell_type": "markdown",
   "id": "bf60f6c9-bc04-4116-a3e9-464233a4c5d1",
   "metadata": {},
   "source": [
    "4. Используя цикл for, выведите всех студентов и их возраст из словаря **students**."
   ]
  },
  {
   "cell_type": "code",
   "execution_count": 33,
   "id": "b28298bb-0a96-4344-9dfb-d25aa46ec8e2",
   "metadata": {},
   "outputs": [
    {
     "name": "stdout",
     "output_type": "stream",
     "text": [
      "\u001b[93mФамилия  - Возраст\u001b[0m\n",
      "Иванов   -   22\n",
      "Сидоров  -   23\n",
      "Смирнова -   20\n"
     ]
    }
   ],
   "source": [
    "print('\\033[93mФамилия  - Возраст\\033[0m')\n",
    "for key, value in students.items():\n",
    "    print(f'{key:8} - {value:4}')"
   ]
  },
  {
   "cell_type": "markdown",
   "id": "e5e7b6e6-df34-44d4-8dce-ad5dbff8958b",
   "metadata": {},
   "source": [
    "# Часть 5"
   ]
  },
  {
   "cell_type": "markdown",
   "id": "61bf3628-f26a-4160-9bd0-97d8fe272382",
   "metadata": {
    "jp-MarkdownHeadingCollapsed": true
   },
   "source": [
    "## Множества"
   ]
  },
  {
   "cell_type": "markdown",
   "id": "ebc29429-f37b-48f2-9e28-293ea449f065",
   "metadata": {},
   "source": [
    "1. Создайте функции **set_union** и **set_difference** для операций объединения и разности множеств.\n",
    "   - Функции должны принимать два множества и возвращать соответствующий результат.\n"
   ]
  },
  {
   "cell_type": "code",
   "execution_count": 34,
   "id": "5e862232-f538-4553-baa1-ab7766169614",
   "metadata": {},
   "outputs": [],
   "source": [
    "set3 = {0,1,2,3,4,5,6,8}\n",
    "set4 = {3,4,5,6,7,8,9,10,11,12,13}"
   ]
  },
  {
   "cell_type": "code",
   "execution_count": 35,
   "id": "a681b23a-0dd9-4d8f-843d-8a6c588230f0",
   "metadata": {},
   "outputs": [],
   "source": [
    "'''непонятно на сколько хардкорно надо делать,\n",
    "можно сделать без add'''\n",
    "#используем add - он не добавляет дубликаты\n",
    "def set_union(\n",
    "    set_1,\n",
    "    set_2\n",
    "):\n",
    "    '''Операция объединения двух множеств\n",
    "    :param set1: первое множество\n",
    "    :param set2: второе множество\n",
    "    :return: объединенное множество\n",
    "    '''\n",
    "    sum_set = set([])\n",
    "    for s1 in set_1:\n",
    "        sum_set.add(s1)\n",
    "    for s2 in set_2:\n",
    "        sum_set.add(s2)\n",
    "    return sum_set  "
   ]
  },
  {
   "cell_type": "code",
   "execution_count": 36,
   "id": "d6d124dd-dc24-4c5c-a17d-81a9ceff91c2",
   "metadata": {},
   "outputs": [
    {
     "data": {
      "text/plain": [
       "{0, 1, 2, 3, 4, 5, 6, 7, 8, 9, 10, 11, 12, 13}"
      ]
     },
     "execution_count": 36,
     "metadata": {},
     "output_type": "execute_result"
    }
   ],
   "source": [
    "set_union(set3, set4)"
   ]
  },
  {
   "cell_type": "code",
   "execution_count": 37,
   "id": "331f3a32-bb16-4c69-9e78-ee0e1bd126ed",
   "metadata": {},
   "outputs": [],
   "source": [
    "# хардкор вариант\n",
    "def set_union1(\n",
    "    set_1,\n",
    "    set_2\n",
    "):\n",
    "    '''Операция объединения двух множеств\n",
    "    :param set1: первое множество\n",
    "    :param set2: второе множество\n",
    "    :return: объединенное множество\n",
    "    '''\n",
    "    sum_set = []\n",
    "    for s1 in set_1:\n",
    "        sum_set += [s1]\n",
    "    for s2 in set_2:\n",
    "        if s2 in sum_set:\n",
    "            continue\n",
    "        else:\n",
    "            sum_set += [s2]\n",
    "    return set(sum_set)  "
   ]
  },
  {
   "cell_type": "code",
   "execution_count": 38,
   "id": "5595d45e-1741-4c08-8286-7e39b1ac55fd",
   "metadata": {},
   "outputs": [
    {
     "data": {
      "text/plain": [
       "{0, 1, 2, 3, 4, 5, 6, 7, 8, 9, 10, 11, 12, 13}"
      ]
     },
     "execution_count": 38,
     "metadata": {},
     "output_type": "execute_result"
    }
   ],
   "source": [
    "set_union1(set3, set4)"
   ]
  },
  {
   "cell_type": "code",
   "execution_count": 39,
   "id": "c0d91c23-d72e-4051-b1f3-1806bc3b632e",
   "metadata": {},
   "outputs": [],
   "source": [
    "#разница двух множеств\n",
    "def set_difference(\n",
    "    set_1,\n",
    "    set_2\n",
    "):\n",
    "    '''Операция разности двух множеств\n",
    "    :param set1: первое множество\n",
    "    :param set2: второе множество\n",
    "    :return: разность множеств в виде множества\n",
    "    '''\n",
    "    dif_set = []\n",
    "    for s1 in set_1:\n",
    "        dif_set += [s1]\n",
    "    for s2 in set_2:\n",
    "        if s2 in dif_set:\n",
    "            dif_set.remove(s2)\n",
    "        else:\n",
    "           continue\n",
    "    return set(dif_set)"
   ]
  },
  {
   "cell_type": "code",
   "execution_count": 40,
   "id": "76384d8d-45cc-41b7-9bdf-25856cede7b4",
   "metadata": {},
   "outputs": [
    {
     "data": {
      "text/plain": [
       "{0, 1, 2}"
      ]
     },
     "execution_count": 40,
     "metadata": {},
     "output_type": "execute_result"
    }
   ],
   "source": [
    "set_difference(set3, set4)"
   ]
  },
  {
   "cell_type": "code",
   "execution_count": 41,
   "id": "059bc25b-956c-4940-be4a-dc2702a15999",
   "metadata": {},
   "outputs": [
    {
     "data": {
      "text/plain": [
       "{7, 9, 10, 11, 12, 13}"
      ]
     },
     "execution_count": 41,
     "metadata": {},
     "output_type": "execute_result"
    }
   ],
   "source": [
    "set_difference(set4, set3)"
   ]
  },
  {
   "cell_type": "markdown",
   "id": "d684e5fc-2d58-4a2f-93d9-3e20e8b17b3b",
   "metadata": {},
   "source": [
    "2. Создайте функцию **is_subset** для проверки, является ли одно множество подмножеством другого.\n"
   ]
  },
  {
   "cell_type": "code",
   "execution_count": 42,
   "id": "c380ecc0-e207-4ee2-b9fb-d7386c0056e8",
   "metadata": {},
   "outputs": [],
   "source": [
    "def is_subset (\n",
    "    set_1, \n",
    "    set_2\n",
    "):\n",
    "    '''Проверяет является ли первое множество подмножеством второго\n",
    "    :param set1: первое множество\n",
    "    :param set2: второе множество\n",
    "    :return:\n",
    "    '''    \n",
    "    if len(set_1) <= len(set_2):\n",
    "        temp_set = set_1 - set_2\n",
    "        if len(temp_set) == 0:\n",
    "            print(f'Множество {set_1} является подмножеством {set_2}')\n",
    "        else:\n",
    "            print(f'Множество {set_1} не является подмножеством {set_2}')\n",
    "    else:\n",
    "        temp_set = set_2 - set_1\n",
    "        if len(temp_set) == 0:\n",
    "            print(f'Множество {set_2} является подмножеством {set_1}')\n",
    "        else:\n",
    "            print(f'Множество {set_2} не является подмножеством {set_1}')\n",
    "        return"
   ]
  },
  {
   "cell_type": "code",
   "execution_count": 43,
   "id": "b1dae3e7-41cf-41d6-a86c-b7506d5261bd",
   "metadata": {},
   "outputs": [
    {
     "name": "stdout",
     "output_type": "stream",
     "text": [
      "Множество {8, 6, 7} является подмножеством {3, 4, 5, 6, 7, 8, 9, 10, 11, 12, 13}\n"
     ]
    }
   ],
   "source": [
    "set1 = {6, 7, 8}\n",
    "set2 = {3, 4, 5, 6, 7, 8, 9, 10, 11, 12, 13}\n",
    "\n",
    "is_subset(set1, set2)"
   ]
  },
  {
   "cell_type": "markdown",
   "id": "9e205e46-bcf9-42e5-a63d-4a4c48e66a24",
   "metadata": {},
   "source": [
    "3. Создайте функцию для объединения нескольких множеств."
   ]
  },
  {
   "cell_type": "code",
   "execution_count": 44,
   "id": "e595f37e-527a-4827-af91-a2b31ef4a477",
   "metadata": {},
   "outputs": [],
   "source": [
    "def combine_sets(\n",
    "    *sets\n",
    "):\n",
    "    '''Объединенияет нескольких множеств\n",
    "    :param *set: некоторое количество множеств\n",
    "    :return: объединенное множество\n",
    "    '''    \n",
    "    sum_set = set()\n",
    "    for s in sets:\n",
    "        sum_set = sum_set.union(s)\n",
    "    return sum_set"
   ]
  },
  {
   "cell_type": "code",
   "execution_count": 45,
   "id": "6c873fa5-cd8e-49cd-9b1c-ea8f8dd67132",
   "metadata": {},
   "outputs": [
    {
     "data": {
      "text/plain": [
       "{0, 1, 2, 3, 4, 5, 6, 7, 8, 9, 10, 11, 12, 13}"
      ]
     },
     "execution_count": 45,
     "metadata": {},
     "output_type": "execute_result"
    }
   ],
   "source": [
    "combine_sets(set1, set2, set3, set4)"
   ]
  },
  {
   "cell_type": "markdown",
   "id": "b5060f5e-5dce-4cef-8f97-c0d2dcee5d83",
   "metadata": {},
   "source": [
    "4. Создайте функцию для удаления конкретного элемента из множества.\n"
   ]
  },
  {
   "cell_type": "code",
   "execution_count": 46,
   "id": "9da1ec6a-24fd-49bc-829e-dc4ad63398fc",
   "metadata": {},
   "outputs": [],
   "source": [
    "#извращенный способ на разнице множест d, можно просто discard\n",
    "def delete_value(\n",
    "    x,\n",
    "    set1\n",
    "):\n",
    "    '''Удаляет заданный элемент из множества\n",
    "    :param x:   элемент, который надо удалить\n",
    "    :param set: некоторое количество множеств\n",
    "    :return: множество без заданного элемента\n",
    "    '''  \n",
    "    for s in set1:\n",
    "        if s == x:\n",
    "            set2 = set1 - set([x])\n",
    "        else:\n",
    "            continue\n",
    "    return set2"
   ]
  },
  {
   "cell_type": "code",
   "execution_count": 47,
   "id": "678b6ba7-e868-4bcd-b272-a430fa392a8f",
   "metadata": {},
   "outputs": [
    {
     "data": {
      "text/plain": [
       "{7, 8}"
      ]
     },
     "execution_count": 47,
     "metadata": {},
     "output_type": "execute_result"
    }
   ],
   "source": [
    "set1 = {6, 7, 8}\n",
    "delete_value(6, set1)"
   ]
  },
  {
   "cell_type": "markdown",
   "id": "c5107c2e-93ce-4683-bf80-150b07b38384",
   "metadata": {},
   "source": [
    "5. Создайте функцию для поиска пересечения нескольких множеств.\n"
   ]
  },
  {
   "cell_type": "code",
   "execution_count": 48,
   "id": "bd99a8a6-b0c0-4e2d-b804-289eb3205be0",
   "metadata": {},
   "outputs": [],
   "source": [
    "def intersect_sets(\n",
    "    *sets\n",
    "):\n",
    "    '''Ищет пересечение нескольких множеств\n",
    "    :param *set: некоторое количество множеств\n",
    "    :return: Пересечение нескольких множеств\n",
    "    ''' \n",
    "    sum_set = set()\n",
    "    for s in sets:\n",
    "        sum_set = sum_set.union(s)\n",
    "    for s in sets:\n",
    "        sum_set = sum_set & s\n",
    "    return sum_set"
   ]
  },
  {
   "cell_type": "code",
   "execution_count": 49,
   "id": "bf3fc5a9-a41f-4541-84a7-a31c1c935495",
   "metadata": {},
   "outputs": [
    {
     "name": "stdout",
     "output_type": "stream",
     "text": [
      "{8, 6, 7}\n",
      "{3, 4, 5, 6, 7, 8, 9, 10, 11, 12, 13}\n",
      "{0, 1, 2, 3, 4, 5, 6, 8}\n",
      "{3, 4, 5, 6, 7, 8, 9, 10, 11, 12, 13}\n"
     ]
    },
    {
     "data": {
      "text/plain": [
       "{6, 8}"
      ]
     },
     "execution_count": 49,
     "metadata": {},
     "output_type": "execute_result"
    }
   ],
   "source": [
    "print(set1, set2, set3, set4, sep = '\\n')\n",
    "intersect_sets(set1, set2, set3, set4)"
   ]
  },
  {
   "cell_type": "markdown",
   "id": "1574ecbc-cc0f-48ca-8769-3986d78ca5ef",
   "metadata": {},
   "source": [
    "6. Создайте функцию для проверки на равенство двух множеств.\n"
   ]
  },
  {
   "cell_type": "code",
   "execution_count": 50,
   "id": "b2eacdd0-a8bd-41b1-a82e-599a2c4078fc",
   "metadata": {},
   "outputs": [],
   "source": [
    "# можно просто сделать if set1 == set2 - но зачем тогда функция\n",
    "def equal_sets(\n",
    "    set_1,\n",
    "    set_2\n",
    "):\n",
    "    '''Проверяет равны ли два множества\n",
    "    :param set1: первое множество\n",
    "    :param set2: второе множество\n",
    "    :return: True or False\n",
    "    ''' \n",
    "    if len(set_1) >= len(set_2):\n",
    "        x = len(set_1 - set_2)\n",
    "    else:\n",
    "        x = len(set_2 - set_1)\n",
    "    if x == 0 and len(set_1) != 0:\n",
    "        print(f'Множества {set_1} и {set_2} равны')\n",
    "        return True\n",
    "    elif len(set_1) == 0 and len(set_2) == 0:\n",
    "        print(f'Множества {set_1} и {set_2} равны, они пустые')\n",
    "        return True\n",
    "    else:\n",
    "        print(f'Множества {set_1} и {set_2} не равны')\n",
    "        return False"
   ]
  },
  {
   "cell_type": "code",
   "execution_count": 51,
   "id": "ed3b3e17-85fa-4ee4-93b7-f004ee2b8570",
   "metadata": {},
   "outputs": [
    {
     "name": "stdout",
     "output_type": "stream",
     "text": [
      "Множества {8, 6, 7} и {8, 6, 7} равны\n",
      "Множества {8, 6, 7} и set() не равны\n",
      "Множества set() и set() равны, они пустые\n",
      "Множества {8, 6, 7} и {'b', 'c', 'a'} не равны\n"
     ]
    },
    {
     "data": {
      "text/plain": [
       "False"
      ]
     },
     "execution_count": 51,
     "metadata": {},
     "output_type": "execute_result"
    }
   ],
   "source": [
    "set5 = {6,7,8}\n",
    "set6 = {6,7,8}\n",
    "set7 = set()\n",
    "set8 = set()\n",
    "set9 = {'a', 'b', 'c'}\n",
    "equal_sets(set5, set6)\n",
    "equal_sets(set5, set7)\n",
    "equal_sets(set7, set8)\n",
    "equal_sets(set5, set9)"
   ]
  },
  {
   "cell_type": "markdown",
   "id": "f3a5f1f2-6905-43cf-abd0-9f96586770d7",
   "metadata": {},
   "source": [
    "7. Создайте функцию для нахождения объединения трех множеств.\n"
   ]
  },
  {
   "cell_type": "code",
   "execution_count": 52,
   "id": "dce6891e-bba6-4310-82bc-d6031e5742f9",
   "metadata": {},
   "outputs": [],
   "source": [
    "# лень что то придумывать, тк уже сделали норм для любого числа множеств\n",
    "def combine_3sets(\n",
    "    set1,\n",
    "    set2,\n",
    "    set3\n",
    "):\n",
    "    sum_set = set1 | set2 | set3\n",
    "    return sum_set"
   ]
  },
  {
   "cell_type": "code",
   "execution_count": 53,
   "id": "1feb5514-9083-44f1-ab59-6c3a1f361e93",
   "metadata": {},
   "outputs": [
    {
     "data": {
      "text/plain": [
       "{6, 7, 8, 'a', 'b', 'c'}"
      ]
     },
     "execution_count": 53,
     "metadata": {},
     "output_type": "execute_result"
    }
   ],
   "source": [
    "combine_3sets(set5,set6,set9)"
   ]
  },
  {
   "cell_type": "markdown",
   "id": "5ffb8044-0ec8-408a-b2e9-9c42e3d3c79d",
   "metadata": {},
   "source": [
    "8. Создайте функцию для проверки, являются ли два множества дизъюнктными (не имеют общих элементов).\n"
   ]
  },
  {
   "cell_type": "code",
   "execution_count": 54,
   "id": "4ecc877c-ee47-4b9d-b424-bd86e2ee2ff0",
   "metadata": {},
   "outputs": [],
   "source": [
    "def diffrent_sets(\n",
    "    set1,\n",
    "    set2\n",
    "):\n",
    "    '''Проверяет являются ли два множества дизъюнктивными\n",
    "    :param set1: первое множество\n",
    "    :param set2: второе множество\n",
    "    :return: True or False\n",
    "    ''' \n",
    "    dif_set = set1 - set2\n",
    "    if len(dif_set) == len(set1):\n",
    "        print(f'Множества {set1} и {set2} являются дизъюнктивными')\n",
    "        return True\n",
    "    else:\n",
    "        print(f'Множества {set1} и {set2} не являются дизъюнктивными')\n",
    "        return  False"
   ]
  },
  {
   "cell_type": "code",
   "execution_count": 55,
   "id": "2c4ec4c2-99bb-484b-94d6-d9c2da64e58d",
   "metadata": {},
   "outputs": [
    {
     "name": "stdout",
     "output_type": "stream",
     "text": [
      "Множества {8, 6, 7} и {8, 6, 7} не являются дизъюнктивными\n",
      "Множества {8, 6, 7} и {'b', 'c', 'a'} являются дизъюнктивными\n",
      "Множества {8, 6, 7} и set() являются дизъюнктивными\n"
     ]
    },
    {
     "data": {
      "text/plain": [
       "True"
      ]
     },
     "execution_count": 55,
     "metadata": {},
     "output_type": "execute_result"
    }
   ],
   "source": [
    "diffrent_sets(set5, set6)\n",
    "diffrent_sets(set5, set9)\n",
    "diffrent_sets(set5, set7)"
   ]
  },
  {
   "cell_type": "markdown",
   "id": "43a849db-49c8-4c6b-a015-fba7c097d05d",
   "metadata": {},
   "source": [
    "9. Создайте функцию для нахождения разности двух множеств.\n"
   ]
  },
  {
   "cell_type": "code",
   "execution_count": 56,
   "id": "e3ebff96-4e42-42c0-b56c-e35c1ee0fbda",
   "metadata": {},
   "outputs": [],
   "source": [
    "#уже делали ж в пункте 5.1"
   ]
  },
  {
   "cell_type": "markdown",
   "id": "a3344764-fe59-4820-a488-87b0c86c7b69",
   "metadata": {},
   "source": [
    "10. Создайте функцию для определения симметрической разности двух множеств.\n"
   ]
  },
  {
   "cell_type": "code",
   "execution_count": 57,
   "id": "f736350b-a8d6-4e84-8d1b-e366ebe3b72c",
   "metadata": {},
   "outputs": [],
   "source": [
    "def symm_difference_sets(\n",
    "    set1,\n",
    "    set2\n",
    "):\n",
    "    '''Ищет симметричную разность двух множеств\n",
    "    :param set1: первое множество\n",
    "    :param set2: второе множество\n",
    "    :return: Симметричная разность двух множеств\n",
    "    ''' \n",
    "    dif_set = (set1 - set2) | (set2 - set1)\n",
    "    return dif_set"
   ]
  },
  {
   "cell_type": "code",
   "execution_count": 58,
   "id": "9a755161-1f87-48a9-abae-17088ea6639e",
   "metadata": {},
   "outputs": [
    {
     "data": {
      "text/plain": [
       "{0, 1, 2, 7, 9, 10, 11, 12, 13}"
      ]
     },
     "execution_count": 58,
     "metadata": {},
     "output_type": "execute_result"
    }
   ],
   "source": [
    "symm_difference_sets(set3, set4)"
   ]
  },
  {
   "cell_type": "markdown",
   "id": "52e92a87-2a7b-4634-a258-f28848c3de46",
   "metadata": {},
   "source": [
    "11. Создайте функцию **create_set** для создания множества с заданными элементами.\n",
    "   - Функция должна принимать переменное количество аргументов и возвращать новое множество."
   ]
  },
  {
   "cell_type": "code",
   "execution_count": 59,
   "id": "d27ec175-7226-467b-a278-b2b667e60a42",
   "metadata": {},
   "outputs": [],
   "source": [
    "def create_set(*values):\n",
    "    '''Содает множество из заданных элементов\n",
    "    :param *set1: элементы\n",
    "    :return: множество переданных элементов\n",
    "    ''' \n",
    "    m = []\n",
    "    for value in values:\n",
    "        m.append(value)\n",
    "    return set(m)"
   ]
  },
  {
   "cell_type": "code",
   "execution_count": 60,
   "id": "0e9a944e-80ec-48b4-a030-5dbe9100f442",
   "metadata": {},
   "outputs": [
    {
     "data": {
      "text/plain": [
       "{1, '1234', 2, 3, 4, 5, 6, 7}"
      ]
     },
     "execution_count": 60,
     "metadata": {},
     "output_type": "execute_result"
    }
   ],
   "source": [
    "create_set(1,2,3,4,5,6,7,'1234')"
   ]
  },
  {
   "cell_type": "markdown",
   "id": "d2f1bbce-9bcf-4746-98f3-c844458fb444",
   "metadata": {
    "jp-MarkdownHeadingCollapsed": true
   },
   "source": [
    "## Словари"
   ]
  },
  {
   "cell_type": "markdown",
   "id": "afd4ab39-39e7-4e4e-b8c7-481676305aa5",
   "metadata": {},
   "source": [
    "1. Создайте функцию **create_dictionary** для создания словаря с заданными ключами и значениями.\n",
    "   - Функция должна принимать словарь в формате ключ-значение и возвращать созданный словарь."
   ]
  },
  {
   "cell_type": "code",
   "execution_count": 61,
   "id": "5cea8acd-c749-40b8-b983-2dfd35e116c2",
   "metadata": {},
   "outputs": [],
   "source": [
    "def create_dictionary(\n",
    "    tuple_keys, \n",
    "    tuple_values\n",
    "):\n",
    "    ''' Создает словарь из переданных элементов\n",
    "    :param tuple_keys: кортеж с ключами\n",
    "    :param tuple_values: кортеж с значениями\n",
    "    '''\n",
    "    new_dict = dict()\n",
    "    if len(tuple_keys) != len(tuple_values):\n",
    "        print('Error - повторите ввод, кортежи должны быть одинаковых размеров')\n",
    "    else:\n",
    "        for i in range(len(tuple_keys)):\n",
    "            new_dict[tuple_keys[i]] = tuple_values[i]\n",
    "    return new_dict"
   ]
  },
  {
   "cell_type": "code",
   "execution_count": 62,
   "id": "ea4e8a01-5acf-4e65-948d-29e00a359ae1",
   "metadata": {},
   "outputs": [
    {
     "data": {
      "text/plain": [
       "{1: 'e', 2: 'b', 3: 'c', 4: 'd', 5: 'e'}"
      ]
     },
     "execution_count": 62,
     "metadata": {},
     "output_type": "execute_result"
    }
   ],
   "source": [
    "tuple_keys = (1, 2, 3, 4, 5, 1)\n",
    "tuple_values = ('a', 'b', 'c', 'd', 'e', 'e')\n",
    "create_dictionary(tuple_keys, tuple_values)"
   ]
  },
  {
   "cell_type": "markdown",
   "id": "61696b5a-096d-4557-a0b0-0f72b0f9a869",
   "metadata": {},
   "source": [
    "2. Напишите функции **add_student** и **remove_student** для добавления и удаления студентов из словаря.\n",
    "   - Функции должны принимать словарь студентов и соответствующие данные для добавления и удаления."
   ]
  },
  {
   "cell_type": "code",
   "execution_count": 63,
   "id": "7e599200-57fa-47d1-a30a-b671bb5b658f",
   "metadata": {},
   "outputs": [],
   "source": [
    "def add_students(\n",
    "    students_dict,\n",
    "    tuple_keys,\n",
    "    tuple_values\n",
    "):\n",
    "    '''Добавления студентов и их возрастов в словарь\n",
    "    :param students_dict: словарь студентов в формате {фамилия:возраст}\n",
    "    :param tuple_keys: кортеж с фамилиями\n",
    "    :param tuple_values: кортеж с возрастом\n",
    "    '''\n",
    "    if len(tuple_keys) != len(tuple_values):\n",
    "        print('Error - повторите ввод, кортежи должны быть одинаковых размеров')\n",
    "    else:\n",
    "        for i in range(len(tuple_keys)):\n",
    "            students_dict[tuple_keys[i]] = tuple_values[i]\n",
    "    return students_dict"
   ]
  },
  {
   "cell_type": "code",
   "execution_count": 64,
   "id": "95bb3c54-0900-4f76-b923-641853d7d047",
   "metadata": {},
   "outputs": [
    {
     "data": {
      "text/plain": [
       "{'Иванов': 22, 'Сидоров': 23, 'Смирнова': 20, 'Лоцманов': 33, 'Корчевая': 21}"
      ]
     },
     "execution_count": 64,
     "metadata": {},
     "output_type": "execute_result"
    }
   ],
   "source": [
    "tuple_names = ('Лоцманов', 'Корчевая')\n",
    "tuple_age = (33, 21)\n",
    "add_students(students, tuple_names, tuple_age)"
   ]
  },
  {
   "cell_type": "code",
   "execution_count": 65,
   "id": "3c37c0fa-f26c-4580-a36d-b00dbf28c615",
   "metadata": {},
   "outputs": [],
   "source": [
    "def remove_students(\n",
    "    students_dict,\n",
    "    tuple_keys,\n",
    "    tuple_values\n",
    "):\n",
    "    ''' Удаление студентов из словаря\n",
    "    :param students_dict: словарь студентов в формате {фамилия:возраст}\n",
    "    :param tuple_keys: кортеж с фамилиями\n",
    "    '''\n",
    "    for i in range(len(tuple_keys)):\n",
    "            del students_dict[tuple_keys[i]]\n",
    "    return students_dict"
   ]
  },
  {
   "cell_type": "code",
   "execution_count": 66,
   "id": "58685b45-2040-4ee5-ae9a-abf54c2eccc3",
   "metadata": {},
   "outputs": [
    {
     "data": {
      "text/plain": [
       "{'Иванов': 22, 'Сидоров': 23, 'Смирнова': 20}"
      ]
     },
     "execution_count": 66,
     "metadata": {},
     "output_type": "execute_result"
    }
   ],
   "source": [
    "tuple_names = ('Лоцманов', 'Корчевая')\n",
    "remove_students(students,tuple_names, tuple_age)"
   ]
  },
  {
   "cell_type": "markdown",
   "id": "6b57614f-432e-428e-90aa-72fe4384ed88",
   "metadata": {},
   "source": [
    "    \n",
    "3. Создайте функцию для объединения двух словарей."
   ]
  },
  {
   "cell_type": "code",
   "execution_count": 67,
   "id": "a63a6d3d-55eb-4948-943a-4c61758ec41e",
   "metadata": {},
   "outputs": [],
   "source": [
    "def merge_dict(\n",
    "    dict1,\n",
    "    dict2\n",
    "):\n",
    "    '''Объединяет два словаря\n",
    "    :param dict1: первый словарь    \n",
    "    :param dict2: второй словарь\n",
    "    :return: объединенный словарь\n",
    "    '''\n",
    "    dict12 = dict()\n",
    "    for key in dict1.keys():\n",
    "        dict12[key] = dict1[key]\n",
    "    for key in dict2.keys():\n",
    "        dict12[key] = dict2[key]\n",
    "    return dict12"
   ]
  },
  {
   "cell_type": "code",
   "execution_count": 70,
   "id": "77c3dc5e-a1d1-4d8d-afbb-58820e020540",
   "metadata": {},
   "outputs": [
    {
     "data": {
      "text/plain": [
       "{'яблоко': 1.5,\n",
       " 'банан': 2,\n",
       " 'апельсин': 1.2,\n",
       " 'Иванов': 22,\n",
       " 'Сидоров': 23,\n",
       " 'Смирнова': 20}"
      ]
     },
     "execution_count": 70,
     "metadata": {},
     "output_type": "execute_result"
    }
   ],
   "source": [
    "merge_dict(fruits_prices,students)"
   ]
  },
  {
   "cell_type": "markdown",
   "id": "d47c1db5-b79b-43c6-aab4-2c1a227a7b06",
   "metadata": {},
   "source": [
    "4. Создайте функцию для удаления элемента из словаря по заданному ключу."
   ]
  },
  {
   "cell_type": "code",
   "execution_count": 71,
   "id": "580948a9-d772-461a-88c9-20893b44481d",
   "metadata": {},
   "outputs": [],
   "source": [
    "def delete_item(\n",
    "    dict1,\n",
    "    keys\n",
    "):\n",
    "    '''Удаляет элемент из словаря по заданному ключу\n",
    "    :param dict1: словарь    \n",
    "    :param key: ключ элемента который надо удалить\n",
    "    :return:\n",
    "    '''\n",
    "    for key in keys:\n",
    "        dict1.pop(key)\n",
    "    return"
   ]
  },
  {
   "cell_type": "code",
   "execution_count": 75,
   "id": "87b5fa0b-8a4c-4164-bada-804d20363f76",
   "metadata": {},
   "outputs": [
    {
     "name": "stdout",
     "output_type": "stream",
     "text": [
      "{'Вишня': 1, 'Петрова': 21, 'Сидоров': 23}\n"
     ]
    }
   ],
   "source": [
    "test_dict = {\n",
    "    'яблоко':17,\n",
    "    'банан':120,\n",
    "    'Вишня':1,\n",
    "    \"Иванов\": 22,\n",
    "    \"Петрова\": 21,\n",
    "    \"Сидоров\": 23\n",
    "}\n",
    "del_keys = ['яблоко', 'банан', 'Иванов']\n",
    "delete_item(test_dict, del_keys)\n",
    "print(test_dict)"
   ]
  },
  {
   "cell_type": "markdown",
   "id": "f609f228-21af-42cb-9714-2c723f37f5eb",
   "metadata": {},
   "source": [
    "5. Создайте функцию для переворачивания значений и ключей в словаре (принимает на вход словарь, возвращает другой словарь, ключами которого являются значения входного словаря, а значениями - ключи."
   ]
  },
  {
   "cell_type": "code",
   "execution_count": 76,
   "id": "fd90196c-2438-4eeb-8beb-cad200064044",
   "metadata": {},
   "outputs": [],
   "source": [
    "def reverse_dict(dict1):\n",
    "    '''Разворачивает словарь\n",
    "    :param dict1: словарь    \n",
    "    :return: развернутый словарь\n",
    "    '''\n",
    "    reverse_dict = dict()\n",
    "    for key in dict1.keys():\n",
    "        reverse_dict[dict1[key]] = key\n",
    "    return reverse_dict"
   ]
  },
  {
   "cell_type": "code",
   "execution_count": 77,
   "id": "f4472f6c-5f71-4a45-96e0-3478358821fb",
   "metadata": {},
   "outputs": [
    {
     "data": {
      "text/plain": [
       "{1: 'Вишня', 21: 'Петрова', 23: 'Сидоров'}"
      ]
     },
     "execution_count": 77,
     "metadata": {},
     "output_type": "execute_result"
    }
   ],
   "source": [
    "reverse_dict(test_dict)"
   ]
  },
  {
   "cell_type": "markdown",
   "id": "a1eda518-9d0c-4a7f-bb33-cb02ff3d36d4",
   "metadata": {},
   "source": [
    "6. Создайте функцию для сортировки словаря по ключам в обратном порядке."
   ]
  },
  {
   "cell_type": "code",
   "execution_count": 273,
   "id": "6773f3c4-ccd8-4c67-bbc1-6bc01dda32b9",
   "metadata": {},
   "outputs": [],
   "source": [
    "def reverse_sort_dict(dict1):\n",
    "    '''Сортирует словарь по ключам в обратном порядке\n",
    "    :param dict1: словарь    \n",
    "    :return: сортированный словарь\n",
    "    '''\n",
    "    reverse_sorted_dict = dict(sorted(dict1.items(), reverse=True))\n",
    "    return reverse_sorted_dict"
   ]
  },
  {
   "cell_type": "code",
   "execution_count": 274,
   "id": "a1191d4c-86fa-474a-8318-3824ffaaf3af",
   "metadata": {},
   "outputs": [
    {
     "name": "stdout",
     "output_type": "stream",
     "text": [
      "{'Сидоров': 23, 'Петрова': 21, 'Вишня': 1}\n",
      "{'Вишня': 1, 'Петрова': 21, 'Сидоров': 23}\n"
     ]
    }
   ],
   "source": [
    "print(reverse_sort_dict(test_dict))\n",
    "print(dict(sorted(test_dict.items())))"
   ]
  },
  {
   "cell_type": "markdown",
   "id": "f0e8c3e2-8e15-46df-88d0-4ab6f1e85fcc",
   "metadata": {},
   "source": [
    "7.  Создайте функцию для поиска наибольшего значения в словаре."
   ]
  },
  {
   "cell_type": "code",
   "execution_count": 78,
   "id": "3684d4e9-498e-413b-96a4-c93dd6218c6a",
   "metadata": {},
   "outputs": [],
   "source": [
    "def max_value_in_dict(dict1):\n",
    "    '''Ищет наибольшее значение в словаре\n",
    "    :param dict1: словарь    \n",
    "    :return: наибольшее значение\n",
    "    '''\n",
    "    max_value = max(dict1.values())\n",
    "    return max_value"
   ]
  },
  {
   "cell_type": "code",
   "execution_count": 79,
   "id": "af00b67d-e385-4d6d-ba1f-6dcc087528f7",
   "metadata": {},
   "outputs": [
    {
     "data": {
      "text/plain": [
       "23"
      ]
     },
     "execution_count": 79,
     "metadata": {},
     "output_type": "execute_result"
    }
   ],
   "source": [
    "max_value_in_dict(test_dict)"
   ]
  },
  {
   "cell_type": "markdown",
   "id": "0b854077-79e9-4213-8bf9-91796b237695",
   "metadata": {
    "jp-MarkdownHeadingCollapsed": true
   },
   "source": [
    "## Условия"
   ]
  },
  {
   "cell_type": "markdown",
   "id": "dc611057-d76a-4516-8f7c-2232e6753416",
   "metadata": {},
   "source": [
    "1. Создайте функцию **check_fruit_price** для проверки стоимости фрукта и вывода соответствующего сообщения.\n",
    "   - Функция должна принимать словарь цен на фрукты и название фрукта, а затем выводить сообщение \"дорогой товар\", если цена фрукта больше 1.5."
   ]
  },
  {
   "cell_type": "code",
   "execution_count": 80,
   "id": "f2f8e55a-7132-4221-9ddc-152eacdfa469",
   "metadata": {},
   "outputs": [],
   "source": [
    "def check_fruit_price(\n",
    "    prices_dict,\n",
    "    fruit\n",
    "):\n",
    "    '''Функция выводит сообщение о том, что товар дорогой, если его цена больше 1.5\n",
    "    :param prices_dict: Словарь с парами фрукт - цена (название фруктов следует писать с заглавной буквы)\n",
    "    :param fruit: название фрукта для поиска в словаре (следует писать с заглавной буквы)\n",
    "    :return:\n",
    "    '''\n",
    "    if fruit not in prices_fruit.keys():\n",
    "        print('\\033[91mОшибка!\\033[0m Такого фрукта в словаре не существует')\n",
    "    else:\n",
    "        if prices_fruit[fruit.capitalize()] > 1.5:\n",
    "            print(f'{fruit} - \\033[93mдорогой товар\\033[0m (цена - {prices_fruit[fruit]})')\n",
    "        else:\n",
    "            print(f'Цена на {fruit} - {prices_fruit[fruit]}')\n",
    "    return"
   ]
  },
  {
   "cell_type": "code",
   "execution_count": 81,
   "id": "dfbb981c-f819-4059-ab1e-b5c58abe86ad",
   "metadata": {},
   "outputs": [
    {
     "name": "stdout",
     "output_type": "stream",
     "text": [
      "Цена на Яблоки - 1\n",
      "Мандарин - \u001b[93mдорогой товар\u001b[0m (цена - 2)\n"
     ]
    }
   ],
   "source": [
    "prices_fruit = {\n",
    "    'Яблоки' : 1,\n",
    "    'Виноград' : 1.2,\n",
    "    'Вишня' : 1.5,\n",
    "    \"Груша\" : 1.85, \n",
    "    \"Апельсин\" : 3,\n",
    "    \"Мандарин\" : 2\n",
    "}\n",
    "fruit = 'Яблоки'\n",
    "check_fruit_price(prices_fruit, fruit)\n",
    "check_fruit_price(prices_fruit, 'Мандарин')"
   ]
  },
  {
   "cell_type": "markdown",
   "id": "119cf9f7-e390-4f4a-9d9d-2d345a7e4030",
   "metadata": {},
   "source": [
    "2. Создайте функцию check_age для проверки возраста студента и вывода соответствующего сообщения.\n",
    "   - Функция должна принимать словарь студентов и имя студента, а затем выводить сообщение о совершеннолетии или несовершеннолетии."
   ]
  },
  {
   "cell_type": "code",
   "execution_count": 285,
   "id": "0b33880a-73da-4af8-954f-67dc1f84e655",
   "metadata": {},
   "outputs": [],
   "source": [
    "def check_age(\n",
    "    students,\n",
    "    name  \n",
    "):\n",
    "    '''Функция выводит сообщение о том, Является ли запрашиваемый студент совершеннолетним\n",
    "    :param students: Словарь с парами фамилия стдуента - возраст (фамилии следует писать с заглавной буквы)\n",
    "    :param name: фамилия студента (следует писать с заглавной буквы)\n",
    "    :return:\n",
    "    '''\n",
    "    if name not in students.keys():\n",
    "        print('\\033[91mОшибка!\\033[0m Такого студента в словаре не существует')\n",
    "    else:\n",
    "        if students[name] >= 18:\n",
    "            print (f'{name} - Совершеннолетний')\n",
    "        elif students[name] <= 0:\n",
    "            print('\\033[91mОшибка!\\033[0m')\n",
    "        else:\n",
    "            print(f'{name} - Несовершеннолетний')\n",
    "    return"
   ]
  },
  {
   "cell_type": "code",
   "execution_count": 286,
   "id": "91dbf7c3-8220-4ed6-b0c4-e598ae836511",
   "metadata": {},
   "outputs": [
    {
     "name": "stdout",
     "output_type": "stream",
     "text": [
      "Лоцманов - Совершеннолетний\n"
     ]
    }
   ],
   "source": [
    "students_age = {\n",
    "    \"Иванов\": 22,\n",
    "    \"Петрова\": 21,\n",
    "    \"Сидоров\": 23,\n",
    "    'Лоцманов' : 33\n",
    "}\n",
    "name = 'Лоцманов'\n",
    "check_age(students_age, name)"
   ]
  },
  {
   "cell_type": "markdown",
   "id": "eaa6f99e-8786-4b77-8a3d-e9d1e2aaca24",
   "metadata": {},
   "source": [
    "3. Создайте функцию **compare_sets_length**, которая сравнивает длину двух множеств и выводит информацию о  том, какое из множеств длиннее.\n",
    "   - Функция должна принимать два множества и выводить соответствующее сообщение."
   ]
  },
  {
   "cell_type": "code",
   "execution_count": 287,
   "id": "411e1b8a-82e0-4b02-9067-cf64a2682479",
   "metadata": {},
   "outputs": [],
   "source": [
    "def compare_sets_length(\n",
    "    set1,\n",
    "    set2\n",
    "):\n",
    "    '''Сравнивает длину двух множеств\n",
    "    :param set1: первое множество\n",
    "    :param set2: второе множество\n",
    "    :return:\n",
    "    '''\n",
    "    if len(set1) > len(set2):\n",
    "        print('Первое множество длинее')\n",
    "    elif len(set2) > len(set1):\n",
    "        print('Второе множество длинее')\n",
    "    else:\n",
    "        print('Длины множеств равны')\n",
    "    return"
   ]
  },
  {
   "cell_type": "code",
   "execution_count": 288,
   "id": "d5e8e5c1-67e6-489e-8c08-977622a5bef8",
   "metadata": {},
   "outputs": [
    {
     "name": "stdout",
     "output_type": "stream",
     "text": [
      "Второе множество длинее\n"
     ]
    }
   ],
   "source": [
    "set_f = set('12111111134522222226')\n",
    "set_s = set('12345fdwqln6')\n",
    "\n",
    "compare_sets_length(set_f, set_s)"
   ]
  },
  {
   "cell_type": "markdown",
   "id": "672eadf2-c873-4a63-81e9-350d6f551658",
   "metadata": {},
   "source": [
    "4. Создайте функцию для определения четности или нечетности числа."
   ]
  },
  {
   "cell_type": "code",
   "execution_count": 289,
   "id": "d256fe8f-4321-4695-ba84-a502e78c5fba",
   "metadata": {},
   "outputs": [],
   "source": [
    "def even_odd(n):\n",
    "    '''Проверяет является ли число четным\n",
    "    :param n: целое число\n",
    "    :return: True or False\n",
    "    '''\n",
    "    if str(n).isnumeric():\n",
    "        if n % 2 == 0:\n",
    "            answer = 'Четное'\n",
    "        else:\n",
    "            answer = 'нечетное'\n",
    "    else:\n",
    "        print('Передано не число')\n",
    "    return answer"
   ]
  },
  {
   "cell_type": "code",
   "execution_count": 290,
   "id": "d876f747-ebb8-4d96-a623-732fc8869766",
   "metadata": {},
   "outputs": [
    {
     "name": "stdout",
     "output_type": "stream",
     "text": [
      "Четное\n",
      "Четное\n",
      "нечетное\n"
     ]
    }
   ],
   "source": [
    "print(\n",
    "    even_odd(0),\n",
    "    even_odd(22224),\n",
    "    even_odd(1111),\n",
    "    sep = '\\n'\n",
    ")"
   ]
  },
  {
   "cell_type": "markdown",
   "id": "425e16c4-bc07-4cd4-ab4d-0260a766c86b",
   "metadata": {},
   "source": [
    "5. Создайте функцию для определения високосного года. Функция должна принимать на вход год в виде числа и возвращать строку \"високосный\" или \"обычный\""
   ]
  },
  {
   "cell_type": "code",
   "execution_count": 291,
   "id": "6ad0b0ac-4862-499d-8545-d0076197889a",
   "metadata": {},
   "outputs": [],
   "source": [
    "def leap_year(n):\n",
    "    '''Проверяет является ли год високосным\n",
    "    :param n: вещественное число\n",
    "    :return: Строка 'високосный' или 'обычный' \n",
    "    '''\n",
    "    if n <= 45:\n",
    "        a = 'Обычный'\n",
    "    elif n % 4 == 0 and n % 100 != 0:\n",
    "        a = 'Високосный'\n",
    "    else:\n",
    "        if n % 400 == 0:\n",
    "            a = 'Високосный'\n",
    "        else:\n",
    "            a = 'Обычный'\n",
    "    return a"
   ]
  },
  {
   "cell_type": "code",
   "execution_count": 302,
   "id": "7a17a414-5f45-424e-8d3d-79cd347c1725",
   "metadata": {},
   "outputs": [
    {
     "name": "stdout",
     "output_type": "stream",
     "text": [
      "2024 -  Високосный \n",
      "2023 -  Обычный \n",
      "1900 -  Обычный \n",
      "1600 -  Високосный\n"
     ]
    }
   ],
   "source": [
    "print(\n",
    "    '2024 - ', leap_year(2024),'\\n2023 - ', leap_year(2023),\n",
    "    '\\n1900 - ', leap_year(1900),'\\n1600 - ', leap_year(1600)\n",
    ")"
   ]
  },
  {
   "cell_type": "markdown",
   "id": "7bb8b1c9-fc2d-4195-bfa6-1c6eee2e4400",
   "metadata": {},
   "source": [
    "6. Создайте функцию для определения типа треугольника по длинам сторон (принимает длины сторон, возвращает \"остроугольный, прямоугольный, тупоугольный или не треугольник\")."
   ]
  },
  {
   "cell_type": "code",
   "execution_count": 314,
   "id": "894027aa-fc4d-4c63-8781-b1073ee4ce3d",
   "metadata": {},
   "outputs": [],
   "source": [
    "def triangle_type(a, b, c):\n",
    "    '''\n",
    "    '''\n",
    "    if a + b < c or a + c < b or b + c < a:\n",
    "        return 'Такие числа не могут образовать треугольник!'\n",
    "    tmp = [a, b, c]\n",
    "    tmp.sort(reverse = True)\n",
    "    \n",
    "    if tmp[0] ** 2 > tmp[1] ** 2 + tmp[2] ** 2:\n",
    "        return \"Тупоугольный\"\n",
    "    elif tmp[0] ** 2 == tmp[1] ** 2 + tmp[2] ** 2:\n",
    "        return \"Прямоугольный\"\n",
    "    else:\n",
    "        return \"Остроугольный\""
   ]
  },
  {
   "cell_type": "code",
   "execution_count": 304,
   "id": "f8d14864-9a00-4960-a6d7-9ae799986541",
   "metadata": {},
   "outputs": [
    {
     "name": "stdout",
     "output_type": "stream",
     "text": [
      "Тупоугольный\n",
      "Остроугольный\n",
      "Прямоугольный\n"
     ]
    }
   ],
   "source": [
    "print(triangle_type( 1, 6, 5))\n",
    "print(triangle_type( 1, 5, 5))\n",
    "print(triangle_type( 3, 4, 5))"
   ]
  },
  {
   "cell_type": "markdown",
   "id": "6ab1b749-bac8-45e0-872e-a290fa76ac1b",
   "metadata": {},
   "source": [
    "7. Создайте функцию для проверки, является ли строка палиндромом."
   ]
  },
  {
   "cell_type": "code",
   "execution_count": 87,
   "id": "ab27f9b7-e0fb-447e-a8b3-caaf180f96ea",
   "metadata": {},
   "outputs": [],
   "source": [
    "def is_pallindrom(string):\n",
    "    '''Проверяет является ли строка палиндромом\n",
    "    :param string: строка\n",
    "    :return: True or False\n",
    "    '''\n",
    "    if string == string[::-1]:\n",
    "        return True\n",
    "    else:\n",
    "        return False"
   ]
  },
  {
   "cell_type": "code",
   "execution_count": 89,
   "id": "28e71ca3-d317-4b95-acb9-13624b23365e",
   "metadata": {},
   "outputs": [
    {
     "data": {
      "text/plain": [
       "False"
      ]
     },
     "execution_count": 89,
     "metadata": {},
     "output_type": "execute_result"
    }
   ],
   "source": [
    "is_pallindrom('qwer tyytrewq')"
   ]
  },
  {
   "cell_type": "markdown",
   "id": "046f869c-8e44-4f65-bc01-6d7efa7abf9b",
   "metadata": {},
   "source": [
    "8. Создайте функцию для определения времени суток по введенному времени ( принимает текущее время в формате часы, минуты, возвращает утро, день, вечер, ночь)."
   ]
  },
  {
   "cell_type": "code",
   "execution_count": 312,
   "id": "08399224-c343-40fb-bebd-da4241f80678",
   "metadata": {},
   "outputs": [],
   "source": [
    "#сделал лишку =D\n",
    "def time_of_day(time):\n",
    "    '''Определяет время суток по введенному времени\n",
    "    :param time:  текущее время в формате часы, минуты через пробел\n",
    "    :return:\n",
    "    '''\n",
    "    t = time.split()\n",
    "    minute = int(t[0]) * 60 + int(t[1])\n",
    "    if 0 <= minute < 180 or 1260 <= minute <= 1440:\n",
    "        print('Ночь')\n",
    "    if 180 <= minute < 540:\n",
    "        print('Утро')\n",
    "    if 540 <= minute < 900:\n",
    "        print('День')\n",
    "    if 900 <= minute < 1260:\n",
    "        print('Вечер')\n",
    "    return"
   ]
  },
  {
   "cell_type": "code",
   "execution_count": 309,
   "id": "d0786363-ff3c-4371-8f79-0e61fd003df8",
   "metadata": {},
   "outputs": [
    {
     "name": "stdout",
     "output_type": "stream",
     "text": [
      "Ночь\n"
     ]
    }
   ],
   "source": [
    "time = '21 00'\n",
    "time_of_day(time)"
   ]
  },
  {
   "cell_type": "markdown",
   "id": "3fc2ca39-2831-49b0-8f07-0ff468f31719",
   "metadata": {},
   "source": [
    "9. Создайте функцию, которая определяет, является ли введенное число простым."
   ]
  },
  {
   "cell_type": "code",
   "execution_count": 311,
   "id": "83c20a20-9201-4d47-b9f6-8b6055e3cd41",
   "metadata": {},
   "outputs": [],
   "source": [
    "def is_prime(n):\n",
    "    '''Проверяет является ли число простым\n",
    "    :param n: целое число\n",
    "    :return: True or False\n",
    "    '''\n",
    "    if n <= 1 or n % 2 == 0:\n",
    "        return False\n",
    "    if n == 2 or n == 3 or n == 5 or n == 7:\n",
    "        return True\n",
    "    for i in range(3, int(n**0.5)+1, 2):\n",
    "        if n % i == 0:\n",
    "            return False\n",
    "        return True "
   ]
  },
  {
   "cell_type": "code",
   "execution_count": 222,
   "id": "5e618db3-043b-43f0-b9fc-3e4ecf1dfade",
   "metadata": {},
   "outputs": [
    {
     "data": {
      "text/plain": [
       "True"
      ]
     },
     "execution_count": 222,
     "metadata": {},
     "output_type": "execute_result"
    }
   ],
   "source": [
    "is_prime(7)"
   ]
  },
  {
   "cell_type": "markdown",
   "id": "a38ec9f4-ee92-40fa-8774-85d05d45d093",
   "metadata": {},
   "source": [
    "10. Создайте функцию для проверки входящей строки на наличие только буквенных символов."
   ]
  },
  {
   "cell_type": "code",
   "execution_count": 97,
   "id": "e0e1a614-f1c7-43f3-aaa8-19616b84415a",
   "metadata": {},
   "outputs": [],
   "source": [
    "#сделано без учета пробелов и переносов строк\n",
    "def is_letter(\n",
    "    string\n",
    "):\n",
    "    '''Проверяет строку на наличие только буквенных симоволов\n",
    "    :param string: строка\n",
    "    :return: True or False\n",
    "    '''\n",
    "    if string.isalpha():\n",
    "        return True\n",
    "    else:\n",
    "        return False"
   ]
  },
  {
   "cell_type": "code",
   "execution_count": 98,
   "id": "e1c10982-a81b-4f21-b05e-8a7bdfc944d5",
   "metadata": {},
   "outputs": [
    {
     "name": "stdout",
     "output_type": "stream",
     "text": [
      "Строка x - False \n",
      "Строка y - True\n"
     ]
    }
   ],
   "source": [
    "x = '12qwewqe'\n",
    "y = 'qwerty'\n",
    "print('Строка x -', is_letter(x),'\\nСтрока y -', is_letter(y))"
   ]
  },
  {
   "cell_type": "markdown",
   "id": "c0d15d83-cd03-492a-92f7-56cbc4c1c4c0",
   "metadata": {},
   "source": [
    "11. Создайте функцию, которая определяет, является ли введенная дата корректной (дата вводится в виде трех чисел, день, месяц, год. Корректной датой считается существующая комбинация этих трех чисел)."
   ]
  },
  {
   "cell_type": "code",
   "execution_count": 319,
   "id": "52f40113-d902-4e56-8455-96cc9c545351",
   "metadata": {},
   "outputs": [],
   "source": [
    "def is_date_correct(\n",
    "):\n",
    "    '''Проверяет является ли дата корректной\n",
    "    :param:\n",
    "    :return: True or False\n",
    "    '''\n",
    "    i = 0\n",
    "    date = [int(i) for i in input('Введите дату(через пробел):\\n').split()]\n",
    "    d = date[0]\n",
    "    m = date[1]\n",
    "    y = date[2]\n",
    "    answer = True\n",
    "    if d > 31 or d < 1 or m > 12 or m < 1 or 45 >= y:\n",
    "        answer = False\n",
    "    else:\n",
    "        if m == 4 or m ==6 or m == 9 or m == 11:\n",
    "            if d == 31:\n",
    "                answer = False\n",
    "    if y % 4 == 0 and y % 100 != 0:\n",
    "        if m == 2 and (d == 30 or d == 31):\n",
    "            answer = False\n",
    "    else:\n",
    "        if y % 400 == 0 and m == 2 and (d == 30 or d == 31):\n",
    "            answer = False\n",
    "        else:\n",
    "            if m == 2 and (d == 29 or d == 30 or d == 31):\n",
    "                answer = False\n",
    "    return answer"
   ]
  },
  {
   "cell_type": "code",
   "execution_count": 320,
   "id": "66cc9155-b642-4794-bae8-32977a2a20cf",
   "metadata": {},
   "outputs": [
    {
     "name": "stdin",
     "output_type": "stream",
     "text": [
      "Введите дату(через пробел):\n",
      " 29 02 2024\n"
     ]
    },
    {
     "data": {
      "text/plain": [
       "True"
      ]
     },
     "execution_count": 320,
     "metadata": {},
     "output_type": "execute_result"
    }
   ],
   "source": [
    "is_date_correct()"
   ]
  },
  {
   "cell_type": "markdown",
   "id": "04b5c0ad-f0f3-4e07-b5cf-f728a5940234",
   "metadata": {},
   "source": [
    "12. Создайте функцию, которая определяет, является ли введенное число палиндромом."
   ]
  },
  {
   "cell_type": "code",
   "execution_count": 323,
   "id": "38d2c51c-eb90-4223-b3f5-d9ad4244ac06",
   "metadata": {},
   "outputs": [],
   "source": [
    "def is_dig_pallindrom(i):\n",
    "    '''Проверяет является ли число палиндромом\n",
    "    :param i: натуральное число\n",
    "    :return: True or False\n",
    "    '''\n",
    "    if str(i).isnumeric():\n",
    "        if str(i) == (str(i))[::-1]:\n",
    "            return True\n",
    "        else:\n",
    "            return False\n",
    "    else:\n",
    "        print('Передано не число')"
   ]
  },
  {
   "cell_type": "code",
   "execution_count": 324,
   "id": "69bc46fe-d604-482c-9dca-294fa85a184f",
   "metadata": {},
   "outputs": [
    {
     "name": "stdout",
     "output_type": "stream",
     "text": [
      "Число s1 - True \n",
      "Число s2 - False\n"
     ]
    }
   ],
   "source": [
    "s1 = 1234567887654321\n",
    "s2 = 78612890\n",
    "print('Число s1 -', is_dig_pallindrom(s1), '\\nЧисло s2 -', is_dig_pallindrom(s2))"
   ]
  },
  {
   "cell_type": "markdown",
   "id": "060504e0-9ca3-4823-a96f-b88ae9d4ea5b",
   "metadata": {},
   "source": [
    "13. Создайте функцию для определения дня недели по введенному номеру дня (1 - Понедельник, 2 - Вторник и т.д.)."
   ]
  },
  {
   "cell_type": "code",
   "execution_count": 326,
   "id": "5b3b7a17-bdb4-49cd-a1a9-a8b85fc022c1",
   "metadata": {},
   "outputs": [],
   "source": [
    "def d_o_w(n):\n",
    "    '''Определяет день недели по введенному номеру дня\n",
    "    :param n: числа от 1 до 7\n",
    "    :return: день недели\n",
    "    '''\n",
    "    if n < 1 or n > 7:\n",
    "        print('Такого дня не существует')\n",
    "    else:\n",
    "        day = {\n",
    "            '1':'Понедельник', '2':'Вторник', '3':'Среда',\n",
    "            '4':'Четверг', '5':'Пятница', '6':'Суббота', '7':'Воскресенье'\n",
    "              }\n",
    "    return day[str(n)]"
   ]
  },
  {
   "cell_type": "code",
   "execution_count": 327,
   "id": "0824a6f1-4bbb-4af5-9a98-30b5481e9a39",
   "metadata": {},
   "outputs": [
    {
     "name": "stdout",
     "output_type": "stream",
     "text": [
      "Понедельник\n",
      "Вторник\n",
      "Среда\n",
      "Четверг\n",
      "Пятница\n",
      "Суббота\n",
      "Воскресенье\n"
     ]
    }
   ],
   "source": [
    "for i in range(1,8):\n",
    "    print(d_o_w(i))"
   ]
  },
  {
   "cell_type": "markdown",
   "id": "2929102f-e6e9-4f73-ab3f-998e3e779f4a",
   "metadata": {},
   "source": [
    "## Циклы"
   ]
  },
  {
   "cell_type": "markdown",
   "id": "5cd08602-2d4b-49b5-9383-4333e9c5b0ea",
   "metadata": {},
   "source": [
    "0. Создайте функцию **print_fruits_info** для вывода информации о количестве и стоимости фруктов из словарей.\n",
    "   - Функция должна принимать словари с информацией \"фрукт:количество\" и \"фрукт:цена\" и выводить для каждого фрукта его стоимость и количество."
   ]
  },
  {
   "cell_type": "code",
   "execution_count": 336,
   "id": "6819e4b8-a2ca-44d0-b143-79dc3f61333f",
   "metadata": {},
   "outputs": [],
   "source": [
    "def print_fruits_info(\n",
    "    dict_quant, \n",
    "    dict_price\n",
    "):\n",
    "    '''На вход функция принимает два словаря с равным количеством пар\n",
    "    :param dict_quant: \"фрукт:количество\"\n",
    "    :param dict_price: \"фрукт:цена\"\n",
    "    :return:\n",
    "    '''\n",
    "    print(f' Фрукт\\t  цена \\t  количество')\n",
    "    for key in dict_quant.keys():\n",
    "        print(f'{key:^8} \\033[93m{dict_price[key]:^8}\\033[0m \\033[93m{dict_quant[key]:^8}\\033[0m')\n",
    "    return"
   ]
  },
  {
   "cell_type": "code",
   "execution_count": 337,
   "id": "e58b39fe-fcd5-41c6-8cbe-4211cfa38636",
   "metadata": {},
   "outputs": [
    {
     "name": "stdout",
     "output_type": "stream",
     "text": [
      " Фрукт\t  цена \t  количество\n",
      " Яблоки  \u001b[93m   99   \u001b[0m \u001b[93m   7    \u001b[0m\n",
      "Виноград \u001b[93m  199   \u001b[0m \u001b[93m   2    \u001b[0m\n",
      " Вишня   \u001b[93m  299   \u001b[0m \u001b[93m   10   \u001b[0m\n",
      " Груша   \u001b[93m  249   \u001b[0m \u001b[93m   8    \u001b[0m\n",
      "Апельсин \u001b[93m  119   \u001b[0m \u001b[93m   12   \u001b[0m\n",
      "Мандарин \u001b[93m  129   \u001b[0m \u001b[93m   24   \u001b[0m\n"
     ]
    }
   ],
   "source": [
    "dict_quant = {\n",
    "    'Яблоки' : 7,\n",
    "    'Виноград' : 2,\n",
    "    'Вишня' : 10,\n",
    "    \"Груша\" : 8,\n",
    "    \"Апельсин\" : 12,\n",
    "    \"Мандарин\" : 24\n",
    "}\n",
    "dict_price = {\n",
    "    'Яблоки' : 99,\n",
    "    'Виноград' : 199,\n",
    "    'Вишня' : 299,\n",
    "    \"Груша\" : 249,\n",
    "    \"Апельсин\" : 119,\n",
    "    \"Мандарин\" : 129\n",
    "}\n",
    "print_fruits_info(dict_quant, dict_price)"
   ]
  },
  {
   "cell_type": "markdown",
   "id": "9b194de6-9cdd-4151-8ff6-ab5fb0541da6",
   "metadata": {},
   "source": [
    "1. Создайте функцию **print_students** для вывода информации о студентах из словаря.\n",
    "   - Функция должна принимать словарь студентов и выводить их имена и возраст."
   ]
  },
  {
   "cell_type": "code",
   "execution_count": 338,
   "id": "1e51771b-6aa9-4338-bf01-7aa7a55dd2ce",
   "metadata": {},
   "outputs": [],
   "source": [
    "def print_students(\n",
    "    dict\n",
    "):\n",
    "    for key in dict.keys():\n",
    "        print(key,' - ', dict[key])\n",
    "    return"
   ]
  },
  {
   "cell_type": "code",
   "execution_count": 339,
   "id": "840803f8-ed6c-4d55-9993-a49efbd08f82",
   "metadata": {},
   "outputs": [
    {
     "name": "stdout",
     "output_type": "stream",
     "text": [
      "Суханов  -  17\n",
      "Кукушкин  -  19\n",
      "Лоцманов  -  33\n",
      "Иванов  -  22\n",
      "Петрова  -  21\n",
      "Сидоров  -  23\n"
     ]
    }
   ],
   "source": [
    "students_dict = {\n",
    "    'Суханов' : 17, \n",
    "    'Кукушкин' : 19,\n",
    "    'Лоцманов' : 33,\n",
    "    \"Иванов\" : 22, \n",
    "    \"Петрова\" : 21,\n",
    "    \"Сидоров\" : 23\n",
    "}\n",
    "print_students(students_dict)"
   ]
  },
  {
   "cell_type": "markdown",
   "id": "37f7285a-6f68-4d64-94f0-612334340d78",
   "metadata": {},
   "source": [
    "2. Создайте функцию **print_squares_while**, которая использует цикл while для вывода квадратов чисел от 1 до 5."
   ]
  },
  {
   "cell_type": "code",
   "execution_count": 8,
   "id": "2d9277ac-d855-4a12-961c-fd640b90f09b",
   "metadata": {},
   "outputs": [],
   "source": [
    "#выводит квадраты натуральных чисел от 1 до n\n",
    "def print_squares_while(n):\n",
    "    i = 1\n",
    "    while i <= n:\n",
    "        print(f'\\033[93mКвадрат числа {i}\\033[0m - {i*i}')\n",
    "        i += 1\n",
    "    return"
   ]
  },
  {
   "cell_type": "code",
   "execution_count": 11,
   "id": "cb4994da-1ff9-4132-9391-e28474a89df7",
   "metadata": {},
   "outputs": [
    {
     "name": "stdout",
     "output_type": "stream",
     "text": [
      "\u001b[93mКвадрат числа 1\u001b[0m - 1\n",
      "\u001b[93mКвадрат числа 2\u001b[0m - 4\n",
      "\u001b[93mКвадрат числа 3\u001b[0m - 9\n",
      "\u001b[93mКвадрат числа 4\u001b[0m - 16\n",
      "\u001b[93mКвадрат числа 5\u001b[0m - 25\n",
      "\u001b[93mКвадрат числа 6\u001b[0m - 36\n",
      "\u001b[93mКвадрат числа 7\u001b[0m - 49\n"
     ]
    }
   ],
   "source": [
    "print_squares_while(7)"
   ]
  },
  {
   "cell_type": "markdown",
   "id": "b7fe6aa8-6703-4476-b358-0159bf94d2b0",
   "metadata": {},
   "source": [
    "3. Создайте функцию для вывода факториала заданного числа."
   ]
  },
  {
   "cell_type": "code",
   "execution_count": 82,
   "id": "ceb0cb29-a790-44d0-9a4f-c3ea8f436322",
   "metadata": {},
   "outputs": [],
   "source": [
    "def print_factorial(n):\n",
    "    i = 1\n",
    "    f = 1\n",
    "    if n < 0:\n",
    "        print('\\033[91mОшибка!\\033[0m Отрицательное число')\n",
    "    elif n == 0:\n",
    "        print(f'\\033[93mФакториал числа {n}\\033[0m - 1')\n",
    "    else:\n",
    "        while i <= n:\n",
    "            f = f * i\n",
    "            i += 1\n",
    "        print(f'\\033[93mФакториал числа {n}\\033[0m - {f}')\n",
    "    return"
   ]
  },
  {
   "cell_type": "code",
   "execution_count": 85,
   "id": "040a1295-3eb4-43b8-aad6-b299b4c92dc7",
   "metadata": {},
   "outputs": [
    {
     "name": "stdout",
     "output_type": "stream",
     "text": [
      "\u001b[93mФакториал числа 9\u001b[0m - 362880\n"
     ]
    }
   ],
   "source": [
    "print_factorial(9)"
   ]
  },
  {
   "cell_type": "markdown",
   "id": "fc0a7ad4-3835-47e3-944e-150fbe136c05",
   "metadata": {},
   "source": [
    "4. Создайте функцию для поиска суммы чисел в заданном диапазоне."
   ]
  },
  {
   "cell_type": "code",
   "execution_count": 347,
   "id": "ecbf6b2f-9eeb-48de-a533-6f73c8c908a2",
   "metadata": {},
   "outputs": [],
   "source": [
    "def sum_in_range(\n",
    "    n1,\n",
    "    n2\n",
    "):\n",
    "    sum = 0\n",
    "    i = n1\n",
    "    while i <= n2:\n",
    "        sum += i\n",
    "        i += 1\n",
    "    return sum"
   ]
  },
  {
   "cell_type": "code",
   "execution_count": 348,
   "id": "c60262e3-7f4c-4460-8029-0a266d23350e",
   "metadata": {},
   "outputs": [
    {
     "data": {
      "text/plain": [
       "493479"
      ]
     },
     "execution_count": 348,
     "metadata": {},
     "output_type": "execute_result"
    }
   ],
   "source": [
    "sum_in_range(119, 1000)"
   ]
  },
  {
   "cell_type": "markdown",
   "id": "801e74f3-b32c-4022-9ac5-b948ad32c486",
   "metadata": {},
   "source": [
    "5. Создайте функцию для генерации и вывода всех простых чисел до заданного числа."
   ]
  },
  {
   "cell_type": "code",
   "execution_count": 349,
   "id": "dd34370b-02e3-4116-bc8e-d47caafd36ef",
   "metadata": {},
   "outputs": [],
   "source": [
    "def primes(N):\n",
    "    primes = []\n",
    "    for n in range(2, N):\n",
    "        for d in range(2, n):\n",
    "            if n % d == 0:\n",
    "                break\n",
    "        else:\n",
    "            primes.append(n)\n",
    "    print(f'Простые числа до {N}: {primes}')\n",
    "    return"
   ]
  },
  {
   "cell_type": "code",
   "execution_count": 350,
   "id": "744717ab-f051-4888-ac61-de2416d0d5c1",
   "metadata": {},
   "outputs": [
    {
     "name": "stdout",
     "output_type": "stream",
     "text": [
      "Простые числа до 33: [2, 3, 5, 7, 11, 13, 17, 19, 23, 29, 31]\n"
     ]
    }
   ],
   "source": [
    "primes(33)"
   ]
  },
  {
   "cell_type": "markdown",
   "id": "31804032-0d13-44a9-b3ce-b34c4165324c",
   "metadata": {},
   "source": [
    "6. Создайте функцию для проверки строки на палиндромность без учёта регистра и знаков препинания."
   ]
  },
  {
   "cell_type": "code",
   "execution_count": 163,
   "id": "1267b89e-9d9c-449a-914e-f7317db8a970",
   "metadata": {},
   "outputs": [],
   "source": [
    "def is_it_pallindrom(string1):\n",
    "    string2 = []\n",
    "    for char in string1.lower():\n",
    "        if str(char).isalnum() == True:\n",
    "            string2.append(char)\n",
    "        else: \n",
    "            continue\n",
    "    if ''.join(string2[::-1]) == ''.join(string2):\n",
    "        print(f'Cтрока \"{string1}\"- \\033[93mпаллиндром\\033[0m')\n",
    "    else:\n",
    "        print(f'Cтрока \"{string1}\" - \\033[93mне паллиндром\\033[0m')\n",
    "    return"
   ]
  },
  {
   "cell_type": "code",
   "execution_count": 164,
   "id": "61669cd4-5c90-4e9a-ac48-e95c1d909ef2",
   "metadata": {},
   "outputs": [
    {
     "name": "stdout",
     "output_type": "stream",
     "text": [
      "Cтрока \"1asDfg hhgfds,a1\"- \u001b[93mпаллиндром\u001b[0m\n",
      "Cтрока \"asdfghhgfdfdfdsa\" - \u001b[93mне паллиндром\u001b[0m\n"
     ]
    }
   ],
   "source": [
    "string1 = '1asDfg hhgfds,a1'\n",
    "string2 = 'asdfghhgfdfdfdsa'\n",
    "is_it_pallindrom(string1)\n",
    "is_it_pallindrom(string2)"
   ]
  },
  {
   "cell_type": "markdown",
   "id": "ebae7aa3-94f2-49f1-91a8-d43eee321208",
   "metadata": {},
   "source": [
    "7. Создайте функцию для поиска наибольшего общего делителя (НОД) двух чисел."
   ]
  },
  {
   "cell_type": "code",
   "execution_count": 184,
   "id": "18bce3a6-e4b0-426b-8855-10b78f7a88b9",
   "metadata": {},
   "outputs": [],
   "source": [
    "def gsv (\n",
    "    num1, \n",
    "    num2\n",
    "):\n",
    "    '''Функция для поиска наибольшего общего делителя\n",
    "    :param num1: целое число\n",
    "    :param num2: целое число\n",
    "    :return: наибольший общий делитель\n",
    "    '''\n",
    "    i = 1\n",
    "    nod = []\n",
    "    while i <= min(num1, num2):\n",
    "        if num1 % i == 0 and num2 % i == 0:\n",
    "            nod.append(i)\n",
    "        sorted(nod)\n",
    "        i += 1\n",
    "    print(f\"\\033[93mНОД\\033[0m чисел {num1}, {num2}: {nod[-1]}\")\n",
    "    return nod[-1]"
   ]
  },
  {
   "cell_type": "code",
   "execution_count": 185,
   "id": "1a2bf39b-6719-45af-8fdc-e6ac3c4eb012",
   "metadata": {},
   "outputs": [
    {
     "name": "stdout",
     "output_type": "stream",
     "text": [
      "\u001b[93mНОД\u001b[0m чисел 25, 225: 25\n"
     ]
    },
    {
     "data": {
      "text/plain": [
       "25"
      ]
     },
     "execution_count": 185,
     "metadata": {},
     "output_type": "execute_result"
    }
   ],
   "source": [
    "gsv(25, 225)"
   ]
  },
  {
   "cell_type": "markdown",
   "id": "4c2596f8-e06f-49fa-972e-19d61f17e95c",
   "metadata": {
    "jp-MarkdownHeadingCollapsed": true
   },
   "source": [
    "## Общие "
   ]
  },
  {
   "cell_type": "markdown",
   "id": "29905a77-19ef-470a-9785-edcc052b5a03",
   "metadata": {},
   "source": [
    "1. Создайте функцию, которая будет запрашивать у пользователя его возраст.\n",
    "   - Если возраст меньше 18 лет, программа должна выводить сообщение о том, что пользователь несовершеннолетний.\n",
    "   - Если возраст от 18 до 65 лет, программа должна выводить сообщение о том, что пользователь взрослый.\n",
    "   - Если возраст больше 65 лет, программа должна выводить сообщение о том, что пользователь пенсионер."
   ]
  },
  {
   "cell_type": "code",
   "execution_count": 177,
   "id": "97357f0a-6a24-495b-8db6-c7a6b99b6c12",
   "metadata": {},
   "outputs": [],
   "source": [
    "def age():\n",
    "    '''Запрашивает у пользователя возраст до тех пор, \n",
    "    пока он не будет введен в виде вещественного числа\n",
    "    Выводит сообщение в зависиомсти от возраста\n",
    "    :return:\n",
    "    '''\n",
    "    while True:\n",
    "        n  = input(\"Введите свой возраст\\n\")\n",
    "        if n.isnumeric() and int(n) > 0:\n",
    "            break\n",
    "        else:\n",
    "            print ('\\033[91mОшибка!\\033[0m Ввод должен быть вещественным числом')\n",
    "            continue\n",
    "    if 0 < int(n) < 18:\n",
    "        print ('Пользователь несовершеннолетний')\n",
    "    elif 18 <= int(n) <= 65:\n",
    "        print ('Пользователь взрослый')\n",
    "    elif 123 >= int(n) > 65:\n",
    "        print ('Пользователь пенсионер')\n",
    "    elif int(n) > 123:\n",
    "        print ('Столько не живут!')\n",
    "    return"
   ]
  },
  {
   "cell_type": "code",
   "execution_count": 178,
   "id": "b9b2f524-49b8-4718-be62-f8f6e4f0505d",
   "metadata": {},
   "outputs": [
    {
     "name": "stdin",
     "output_type": "stream",
     "text": [
      "Введите свой возраст\n",
      " -1\n"
     ]
    },
    {
     "name": "stdout",
     "output_type": "stream",
     "text": [
      "\u001b[91mОшибка!\u001b[0m Ввод должен быть вещественным числом\n"
     ]
    },
    {
     "name": "stdin",
     "output_type": "stream",
     "text": [
      "Введите свой возраст\n",
      " 0\n"
     ]
    },
    {
     "name": "stdout",
     "output_type": "stream",
     "text": [
      "\u001b[91mОшибка!\u001b[0m Ввод должен быть вещественным числом\n"
     ]
    },
    {
     "name": "stdin",
     "output_type": "stream",
     "text": [
      "Введите свой возраст\n",
      " qwe\n"
     ]
    },
    {
     "name": "stdout",
     "output_type": "stream",
     "text": [
      "\u001b[91mОшибка!\u001b[0m Ввод должен быть вещественным числом\n"
     ]
    },
    {
     "name": "stdin",
     "output_type": "stream",
     "text": [
      "Введите свой возраст\n",
      " 129\n"
     ]
    },
    {
     "name": "stdout",
     "output_type": "stream",
     "text": [
      "Столько не живут!\n"
     ]
    }
   ],
   "source": [
    "age()"
   ]
  },
  {
   "cell_type": "markdown",
   "id": "e49629de-0a92-4c65-af5e-2fbdb18128f7",
   "metadata": {},
   "source": [
    "2. Создайте функцию, которая будет проверять введенную пользователем строку на наличие повторяющихся символов.\n",
    "   - Если такие символы найдены, программа должна выводить их перечень и количество повторов для каждого."
   ]
  },
  {
   "cell_type": "code",
   "execution_count": 175,
   "id": "78f7a3d5-8a2f-445b-94fb-d4e416d4d0f5",
   "metadata": {},
   "outputs": [],
   "source": [
    "def duplicate_char_in_string():\n",
    "    '''Запрашивает у пользователя строку, считает дубляж символов с учетом регистра\n",
    "    :return:\n",
    "    '''\n",
    "    a = dict()\n",
    "    n  = input(\"Введите строку для проверки:\\n\")\n",
    "    for char in n:\n",
    "        a[char]= n.lower().count(char)\n",
    "    print('\\033[93mСимвол\\tКоличество повторов\\033[0m')\n",
    "    for sym in a.keys():\n",
    "        if a[sym] > 1:\n",
    "            print(f'{sym:^8}\\t{a[sym]:^8}')\n",
    "    return"
   ]
  },
  {
   "cell_type": "code",
   "execution_count": 176,
   "id": "88838b47-d5b0-4e72-a075-b4e328aca9dd",
   "metadata": {},
   "outputs": [
    {
     "name": "stdin",
     "output_type": "stream",
     "text": [
      "Введите строку для проверки:\n",
      " Каждый охотник желает знать где сидит фазан 11 22 33 123 4\n"
     ]
    },
    {
     "name": "stdout",
     "output_type": "stream",
     "text": [
      "\u001b[93mСимвол\tКоличество повторов\u001b[0m\n",
      "   а    \t   5    \n",
      "   ж    \t   2    \n",
      "   д    \t   3    \n",
      "        \t   11   \n",
      "   о    \t   2    \n",
      "   т    \t   4    \n",
      "   н    \t   3    \n",
      "   и    \t   3    \n",
      "   к    \t   2    \n",
      "   е    \t   3    \n",
      "   з    \t   2    \n",
      "   1    \t   3    \n",
      "   2    \t   3    \n",
      "   3    \t   3    \n"
     ]
    }
   ],
   "source": [
    "duplicate_char_in_string()"
   ]
  }
 ],
 "metadata": {
  "kernelspec": {
   "display_name": "Python 3 (ipykernel)",
   "language": "python",
   "name": "python3"
  },
  "language_info": {
   "codemirror_mode": {
    "name": "ipython",
    "version": 3
   },
   "file_extension": ".py",
   "mimetype": "text/x-python",
   "name": "python",
   "nbconvert_exporter": "python",
   "pygments_lexer": "ipython3",
   "version": "3.10.10"
  }
 },
 "nbformat": 4,
 "nbformat_minor": 5
}
