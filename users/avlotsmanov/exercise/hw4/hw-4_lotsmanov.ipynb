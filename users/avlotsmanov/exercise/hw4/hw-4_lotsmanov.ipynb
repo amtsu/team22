{
 "cells": [
  {
   "cell_type": "markdown",
   "id": "bdda8c75-105b-4f24-8862-673bcc68f447",
   "metadata": {},
   "source": [
    "Домашнее задание №4. \n",
    "Списки и операции с ними."
   ]
  },
  {
   "cell_type": "markdown",
   "id": "de36547c-88dd-4997-a12c-cdeb1e9e6ac8",
   "metadata": {},
   "source": [
    "Задание 1.\n",
    "выполните следующий код\n",
    "<code>\n",
    "list_one = [1, 2, 3, 4, 5, 6, 9]\n",
    "list_two = [1, 2, 3, 4, 5, 6, 9]\n",
    "list_two.append(789)\n",
    "print(list_one, list_two, sep='\\n') \n",
    "</code>\n",
    "затем выполните код \n",
    "<code>\n",
    "list_one = [1, 2, 3, 4, 5, 6, 9]\n",
    "list_two = list_one\n",
    "list_two.append(789)\n",
    "print(list_one, list_two, sep='\\n')     \n",
    "</code>\n",
    "запишите объяснения разницы в выполнении кода в переменную difference_explanation и выведите ее на экран"
   ]
  },
  {
   "cell_type": "code",
   "execution_count": 1,
   "id": "680d9e95-a34c-4f6c-8693-3a72207219b5",
   "metadata": {},
   "outputs": [
    {
     "name": "stdout",
     "output_type": "stream",
     "text": [
      "[1, 2, 3, 4, 5, 6, 9]\n",
      "[1, 2, 3, 4, 5, 6, 9, 789]\n"
     ]
    }
   ],
   "source": [
    "list_one = [1, 2, 3, 4, 5, 6, 9]\n",
    "list_two = [1, 2, 3, 4, 5, 6, 9]\n",
    "list_two.append(789)\n",
    "print(list_one, list_two, sep='\\n')"
   ]
  },
  {
   "cell_type": "code",
   "execution_count": 2,
   "id": "e9891d66-2e34-490a-9180-5b07433c7a7a",
   "metadata": {},
   "outputs": [
    {
     "name": "stdout",
     "output_type": "stream",
     "text": [
      "[1, 2, 3, 4, 5, 6, 9, 789]\n",
      "[1, 2, 3, 4, 5, 6, 9, 789]\n"
     ]
    }
   ],
   "source": [
    "list_one = [1, 2, 3, 4, 5, 6, 9]\n",
    "list_two = list_one\n",
    "list_two.append(789)\n",
    "print(list_one, list_two, sep='\\n')"
   ]
  },
  {
   "cell_type": "code",
   "execution_count": 19,
   "id": "5ac476a9-ed6a-493e-9120-325e2a70a32e",
   "metadata": {},
   "outputs": [
    {
     "data": {
      "text/plain": [
       "'В первом случае под каждый список выделяется два отдельных места в памяти, при втором снитаксисе обасписка ссылаются на один и тот же участок памяти и изменение одного из них ведет к изменению второго тоже'"
      ]
     },
     "execution_count": 19,
     "metadata": {},
     "output_type": "execute_result"
    }
   ],
   "source": [
    "difference_explanation = 'В первом случае под каждый список выделяется два отдельных места в памяти, при втором снитаксисе оба\\\n",
    "списка ссылаются на один и тот же участок памяти и изменение одного из них ведет к изменению второго тоже'\n",
    "difference_explanation"
   ]
  },
  {
   "cell_type": "markdown",
   "id": "9062939d-6f44-44cf-9b28-5854ebeb1594",
   "metadata": {},
   "source": [
    "Задание 2.\n",
    "Задайте переменную a_poem типа строка, со следующим содержимым:\n",
    "<code>\n",
    "За стеклом лежал Питон,\n",
    "Большой и толстый, как батон.\n",
    "Вверх пополз,\n",
    "Затем вернулся,\n",
    "Круглым бубликом свернулся.\n",
    "</code>\n",
    "- Создайте переменную a_list типа список, заполнив ее содержимым строки a_poem так, чтобы каждый символ строки a_poem стал отдельным элементом списка a_list\n",
    "- Создайте переменную another_list типа список, заполнив ее содержимым строки a_poem так, чтобы каждое слово строки a_poem стал отдельным элементом списка another_list. Знаки препинания прилипнут к словам, не страшно.\n",
    "- Выведите на экран элементы и их количество для списков a_list и another_list.\n",
    "- Создайте переменную one_more_list типа список, каждым элементом которой является отдельная строка строфы из a_poem. Выведите на экран элементы one_more_list и их количество."
   ]
  },
  {
   "cell_type": "code",
   "execution_count": 61,
   "id": "ac243f9a-2a7a-49aa-b58b-993fea424ec4",
   "metadata": {},
   "outputs": [
    {
     "name": "stdout",
     "output_type": "stream",
     "text": [
      "\u001b[93mМассив a_list:\u001b[0m\n",
      "['З', 'а', ' ', 'с', 'т', 'е', 'к', 'л', 'о', 'м', ' ', 'л', 'е', 'ж', 'а', 'л', ' ', 'П', 'и', 'т', 'о', 'н', ',', '\\n', 'Б', 'о', 'л', 'ь', 'ш', 'о', 'й', ' ', 'и', ' ', 'т', 'о', 'л', 'с', 'т', 'ы', 'й', ',', ' ', 'к', 'а', 'к', ' ', 'б', 'а', 'т', 'о', 'н', '.', '\\n', 'В', 'в', 'е', 'р', 'х', ' ', 'п', 'о', 'п', 'о', 'л', 'з', ',', '\\n', 'З', 'а', 'т', 'е', 'м', ' ', 'в', 'е', 'р', 'н', 'у', 'л', 'с', 'я', ',', '\\n', 'К', 'р', 'у', 'г', 'л', 'ы', 'м', ' ', 'б', 'у', 'б', 'л', 'и', 'к', 'о', 'м', ' ', 'с', 'в', 'е', 'р', 'н', 'у', 'л', 'с', 'я', '.']\n",
      "\u001b[93mКоличество элементов в a_list:\u001b[0m\n",
      "111\n",
      "\u001b[93mМассив another_list:\u001b[0m\n",
      "['За', 'стеклом', 'лежал', 'Питон,', 'Большой', 'и', 'толстый,', 'как', 'батон.', 'Вверх', 'пополз,', 'Затем', 'вернулся,', 'Круглым', 'бубликом', 'свернулся.']\n",
      "\u001b[93mКоличество элементов в another_list:\u001b[0m\n",
      "16\n",
      "\u001b[93mМассив one_more_list:\u001b[0m\n",
      "['За стеклом лежал Питон,', 'Большой и толстый, как батон.', 'Вверх пополз,', 'Затем вернулся,', 'Круглым бубликом свернулся.']\n",
      "\u001b[93mКоличество элементов в one_more_list:\u001b[0m\n",
      "5\n"
     ]
    }
   ],
   "source": [
    "a_poem = '''За стеклом лежал Питон,\n",
    "Большой и толстый, как батон.\n",
    "Вверх пополз,\n",
    "Затем вернулся,\n",
    "Круглым бубликом свернулся.'''\n",
    "a_list = list(a_poem) #вариант разделения list\n",
    "a_list1 = [elem for elem in a_poem] # вариант list comprehension\n",
    "\n",
    "another_list = a_poem.split()\n",
    "\n",
    "one_more_list = a_poem.split('\\n')\n",
    "\n",
    "print('\\033[93mМассив a_list:\\033[0m', a_list,\n",
    "      '\\033[93mКоличество элементов в a_list:\\033[0m', len(a_list), sep = '\\n')\n",
    "print ( '\\033[93mМассив another_list:\\033[0m', another_list,\n",
    "       '\\033[93mКоличество элементов в another_list:\\033[0m', len(another_list), sep = '\\n')\n",
    "print('\\033[93mМассив one_more_list:\\033[0m', one_more_list,\n",
    "      '\\033[93mКоличество элементов в one_more_list:\\033[0m', len(one_more_list), sep = '\\n')"
   ]
  },
  {
   "cell_type": "markdown",
   "id": "2b39f64c-c7d4-4eb5-907e-d0d9f598c33f",
   "metadata": {},
   "source": [
    "Задание 3.\n",
    "- Создайте список solyanka_list, в качестве его элементов добавьте значения каждого из известных вам типов данных python.\n",
    "- Выведите на экран содержимое списка solyanka_list.\n",
    "- Посчитайте количество элементов списка solyanka_list.\n",
    "- Выведите на экран тип пятого от начала списка элемента.\n",
    "- Добавьте в конец списка solyanka_list элемент типа \"список\" из одного элемента\n",
    "- Выведите на экран тип последнего элемента списка solyanka_list "
   ]
  },
  {
   "cell_type": "code",
   "execution_count": 144,
   "id": "1317a98b-5c29-4cb5-b0cf-9dc94a030f08",
   "metadata": {},
   "outputs": [
    {
     "name": "stdout",
     "output_type": "stream",
     "text": [
      "\u001b[93mМассив solyanka_list:\u001b[0m\n",
      "['Hello', 1, 3.14, [1, 2, 8, 16], True, None, {'c', 'a', 'b'}, ('x', 1, 'y', 2), {'Alex': 'Lots'}, range(0, 3)]\n",
      "\u001b[93mКоличество элементов solyanka_list:\u001b[0m\n",
      "10\n",
      "\u001b[93mТип пятого элемента массива solyanka_list:\u001b[0m\n",
      "<class 'bool'>\n",
      "\u001b[93mТип последнего элемента массива solyanka_list:\u001b[0m\n",
      "<class 'list'>\n",
      "\u001b[93mТипы всех элементов:\u001b[0m\n",
      "<class 'str'>\n",
      "<class 'int'>\n",
      "<class 'float'>\n",
      "<class 'list'>\n",
      "<class 'bool'>\n",
      "<class 'NoneType'>\n",
      "<class 'set'>\n",
      "<class 'tuple'>\n",
      "<class 'dict'>\n",
      "<class 'range'>\n",
      "<class 'list'>\n"
     ]
    }
   ],
   "source": [
    "#str, int, float, Bool, list, set, tup, dict, Nonetype, range\n",
    "solyanka_list = []\n",
    "solyanka_list.append('Hello')\n",
    "solyanka_list.append(1)\n",
    "solyanka_list.append(3.14)\n",
    "solyanka_list.append([1, 2, 8, 16])\n",
    "solyanka_list.append(True)\n",
    "solyanka_list.append(None)\n",
    "solyanka_list.append({'a', 'b', 'c'})\n",
    "solyanka_list.append(('x', 1, 'y', 2))\n",
    "solyanka_list.append({'Alex':'Lots'})\n",
    "solyanka_list.append(range(3))\n",
    "\n",
    "print('\\033[93mМассив solyanka_list:\\033[0m', solyanka_list, sep = '\\n')\n",
    "print('\\033[93mКоличество элементов solyanka_list:\\033[0m', len(solyanka_list), sep = '\\n')\n",
    "print('\\033[93mТип пятого элемента массива solyanka_list:\\033[0m', type(solyanka_list[4]), sep = '\\n')\n",
    "\n",
    "solyanka_list.append([1])\n",
    "print('\\033[93mТип последнего элемента массива solyanka_list:\\033[0m', type(solyanka_list[-1]), sep = '\\n')\n",
    "print('\\033[93mТипы всех элементов:\\033[0m')\n",
    "for i in range(len(solyanka_list)):\n",
    "    print(type(solyanka_list[i]))"
   ]
  },
  {
   "cell_type": "markdown",
   "id": "1c3f95c6-cd6a-4ce5-b70b-654e896551fa",
   "metadata": {},
   "source": [
    "Задание 4.\n",
    "Дана последовательности чисел Фибоначчи из нескольких элементов:\n",
    "<code>\n",
    "0, 1, 1, 2, 3, 5, 8, 13, 21, 34, 55, 89, 144, 233, 377, 610, 987, 1597, 2584, 4181, 6765, 10946, 17711\n",
    "</code>\n",
    "- Создайте список fibonacci_list, элементами которого будут числа Фибонначи из задания.\n",
    "- Посчитайте и выведите на экран, сколько чисел Фибоначчи в последовательности из задания\n",
    "- Посчитайте и выведите на экран, сколько раз число 1 входит в заданную последовательность Фибоначчи.\n",
    "- Проверьте и выведите на экран результат, является ли число 21 числом Фибоначчи. Число 33? Число 987? число 9999?\n",
    "использование оператора if возможно, но не является необходимым\n"
   ]
  },
  {
   "cell_type": "code",
   "execution_count": 127,
   "id": "ea8bb03d-b06c-4f60-af8a-dcf862bc80d0",
   "metadata": {},
   "outputs": [
    {
     "name": "stdout",
     "output_type": "stream",
     "text": [
      "\u001b[93mМассив fibonacci_list:\u001b[0m\n",
      "[0, 1, 1, 2, 3, 5, 8, 13, 21, 34, 55, 89, 144, 233, 377, 610, 987, 1597, 2584, 4181, 6765, 10946, 17711]\n",
      "\u001b[93mДлина массива fibonacci_list:\u001b[0m\n",
      "23\n",
      "\u001b[93mКоличество вхождений элемента 1 в массив fibonacci_list:\u001b[0m\n",
      "2\n",
      "\u001b[93mЯвляется ли число 21 числом фибоначчи:\u001b[0m\n",
      "True\n",
      "\u001b[93mЯвляется ли число 33 числом фибоначчи:\u001b[0m\n",
      "False\n",
      "\u001b[93mЯвляется ли число 987 числом фибоначчи:\u001b[0m\n",
      "True\n",
      "\u001b[93mЯвляется ли число 9999 числом фибоначчи:\u001b[0m\n",
      "False\n"
     ]
    }
   ],
   "source": [
    "fibonacci_list = [0, 1, 1, 2, 3, 5, 8, 13, 21, 34, 55, 89, 144, 233, 377, 610, 987, 1597, 2584, 4181, 6765, 10946, 17711]\n",
    "b = [21, 33, 987, 9999]\n",
    "\n",
    "print('\\033[93mМассив fibonacci_list:\\033[0m', fibonacci_list, sep = '\\n')\n",
    "print('\\033[93mДлина массива fibonacci_list:\\033[0m', len(fibonacci_list), sep = '\\n')\n",
    "print('\\033[93mКоличество вхождений элемента 1 в массив fibonacci_list:\\033[0m', fibonacci_list.count(1), sep = '\\n')\n",
    "\n",
    "for i in b:\n",
    "    print(f'\\033[93mЯвляется ли число {i} числом фибоначчи:\\033[0m', i in fibonacci_list, sep = '\\n')"
   ]
  },
  {
   "cell_type": "markdown",
   "id": "dcdad8af-7eb3-4141-9ddf-fe563743c56b",
   "metadata": {},
   "source": [
    "Задание 5.\n",
    "Задайте переменную a_list типа \"список\" со следующим содержимым:\n",
    "<code>\n",
    "1,2,5,4,3,6\n",
    "</code>\n",
    "- выведите содержимое a_list на экран\n",
    "- поменяйте местами третий и пятый элементы a_list и выведите результат на экран"
   ]
  },
  {
   "cell_type": "code",
   "execution_count": 113,
   "id": "bda69f95-b8b5-4129-b0cb-d4ccbedc60c7",
   "metadata": {},
   "outputs": [
    {
     "name": "stdout",
     "output_type": "stream",
     "text": [
      "\u001b[93mМассив a_list:\u001b[0m\n",
      "[1, 2, 5, 4, 3, 6]\n",
      "\u001b[93mПоменяны местами третий и пятый элементы:\u001b[0m\n",
      "[1, 2, 3, 4, 5, 6]\n"
     ]
    }
   ],
   "source": [
    "a_list = [1,2,5,4,3,6]\n",
    "print('\\033[93mМассив a_list:\\033[0m', a_list, sep = '\\n')\n",
    "a_list.insert(2,a_list[4])\n",
    "a_list[4] = a_list.pop(3)\n",
    "print('\\033[93mПоменяны местами третий и пятый элементы:\\033[0m', a_list, sep = '\\n')"
   ]
  },
  {
   "cell_type": "markdown",
   "id": "15144689-623a-43a5-80ca-0483f66017a1",
   "metadata": {},
   "source": [
    "Задание 6.\n",
    "    Кто-то перепутал строчки в стихотворении, хорошо что они были пронумерованы.\n",
    "<code>\n",
    "    (2, \"тот большего добьётся,\" )\n",
    "    (5, \"Кто умирал, тот знает, что живёт.\")\n",
    "    (1, \"Кто битым жизнью был,\" )\n",
    "    (3, \"Пуд соли съевший выше ценит мёд.\")\n",
    "    (4, \"Кто слёзы лил, тот искренней смеётся,\") \n",
    "</code>\n",
    "    выведите на экран строки Омара Хайама в правильном порядке, используя список."
   ]
  },
  {
   "cell_type": "code",
   "execution_count": 180,
   "id": "e85d1901-5856-41e1-bfb8-382e8489f86b",
   "metadata": {},
   "outputs": [
    {
     "name": "stdout",
     "output_type": "stream",
     "text": [
      "\u001b[93mОтсортированное стихотворение Омара Хайама:\u001b[0m\n",
      "Кто битым жизнью был,\n",
      "тот большего добьётся,\n",
      "Пуд соли съевший выше ценит мёд.\n",
      "Кто слёзы лил, тот искренней смеётся,\n",
      "Кто умирал, тот знает, что живёт.\n"
     ]
    }
   ],
   "source": [
    "stih = [(2, \"тот большего добьётся,\" ), \n",
    "        (5, \"Кто умирал, тот знает, что живёт.\"), \n",
    "        (1, \"Кто битым жизнью был,\" ), \n",
    "        (3, \"Пуд соли съевший выше ценит мёд.\"),\n",
    "        (4, \"Кто слёзы лил, тот искренней смеётся,\")]\n",
    "sorted_stih = sorted(stih)\n",
    "print('\\033[93mОтсортированное стихотворение Омара Хайама:\\033[0m')\n",
    "for stroka in sorted_stih:\n",
    "    print(stroka[1])"
   ]
  },
  {
   "cell_type": "markdown",
   "id": "d1eaace5-016a-4564-b189-33876e6c0e20",
   "metadata": {},
   "source": [
    "Задание 7.\n",
    "<code>\n",
    "Кто битым за дедлайн был,\n",
    "тот больше не сольется.\n",
    "Пуд багов съевший, выше ценит чистый код.\n",
    "Кто дошик ел, тот рейтинг ценит свой.\n",
    "Кто крашился, тот знает, что живой.\n",
    "</code>\n",
    "В данном задании после каждой операции выводите на экран содержимое true_story_list и количество его элементов.\n",
    "- Создайте переменную true_story_list типа список, занесите в неё третью строку из стихотворения выше.\n",
    "- Добавьте четвертую строку в конец списка true_story_list.\n",
    "- Создайте переменную true_story_slice типа список, занесите в неё четвертую и пятую строки из стихотворения выше. Добавьте содержимое true_story_slice как один последний элемент списка true_story_list.\n",
    "- Очистите весь список true_story_slice, выведите его содержимое на экран.\n",
    "- Добавьте первую строку из стихотворение в начало списка true_story_list\n",
    "- Удалите из true_story_list все элементы.\n",
    "- Удалите последний элемент списка true_story_list\n",
    "- Добавьте вторым элементом списка true_story_list вторую строчку стихотворения\n",
    "- Создайте переменную true_story_tail типа список, занесите в него пятую строку стихотворения дважды. Скопируйте элементы списка true_story_tail в конец списка true_story_list.\n",
    "- Удалите 5 элемент списка true_story_list.\n",
    "- *Выведите список true_story_list красиво в виде стихотворения. (кажется, это ещё не проходили, но попробовать стоит)"
   ]
  },
  {
   "cell_type": "code",
   "execution_count": 178,
   "id": "f022d5b0-5d91-4662-9bf2-6bc20fb1b269",
   "metadata": {},
   "outputs": [
    {
     "name": "stdout",
     "output_type": "stream",
     "text": [
      "\u001b[93mМассив true_story_list:\u001b[0m\n",
      "['Пуд багов съевший, выше ценит чистый код.']\n",
      "\u001b[93mКоличество элементов true_story_list:\u001b[0m\n",
      "1\n",
      "\u001b[93mМассив true_story_list:\u001b[0m\n",
      "['Пуд багов съевший, выше ценит чистый код.', 'Кто дошик ел, тот рейтинг ценит свой.']\n",
      "\u001b[93mКоличество элементов true_story_list:\u001b[0m\n",
      "2\n",
      "\u001b[93mМассив true_story_list:\u001b[0m\n",
      "['Пуд багов съевший, выше ценит чистый код.', 'Кто дошик ел, тот рейтинг ценит свой.', ['Кто дошик ел, тот рейтинг ценит свой.', 'Кто крашился, тот знает, что живой.']]\n",
      "\u001b[93mКоличество элементов true_story_list:\u001b[0m\n",
      "3\n",
      "\u001b[93mМассив true_story_slice:\u001b[0m\n",
      "[]\n",
      "\u001b[93mМассив true_story_list:\u001b[0m\n",
      "['Пуд багов съевший, выше ценит чистый код.', 'Кто дошик ел, тот рейтинг ценит свой.', []]\n",
      "\u001b[93mКоличество элементов true_story_list:\u001b[0m\n",
      "3\n",
      "\u001b[93mМассив true_story_list:\u001b[0m\n",
      "['Кто битым за дедлайн был,', 'Пуд багов съевший, выше ценит чистый код.', 'Кто дошик ел, тот рейтинг ценит свой.', []]\n",
      "\u001b[93mКоличество элементов true_story_list:\u001b[0m\n",
      "4\n",
      "\u001b[93mМассив true_story_list:\u001b[0m\n",
      "['Кто битым за дедлайн был,', 'Пуд багов съевший, выше ценит чистый код.', 'Кто дошик ел, тот рейтинг ценит свой.']\n",
      "\u001b[93mКоличество элементов true_story_list:\u001b[0m\n",
      "3\n",
      "\u001b[93mМассив true_story_list:\u001b[0m\n",
      "['Кто битым за дедлайн был,', 'тот больше не сольется.', 'Пуд багов съевший, выше ценит чистый код.', 'Кто дошик ел, тот рейтинг ценит свой.']\n",
      "\u001b[93mКоличество элементов true_story_list:\u001b[0m\n",
      "4\n",
      "\u001b[93mМассив true_story_list:\u001b[0m\n",
      "['Кто битым за дедлайн был,', 'тот больше не сольется.', 'Пуд багов съевший, выше ценит чистый код.', 'Кто дошик ел, тот рейтинг ценит свой.', 'Кто крашился, тот знает, что живой.', 'Кто крашился, тот знает, что живой.']\n",
      "\u001b[93mКоличество элементов true_story_list:\u001b[0m\n",
      "6\n",
      "\u001b[93mМассив true_story_list:\u001b[0m\n",
      "Кто битым за дедлайн был,\n",
      "тот больше не сольется.\n",
      "Пуд багов съевший, выше ценит чистый код.\n",
      "Кто дошик ел, тот рейтинг ценит свой.\n",
      "Кто крашился, тот знает, что живой.\n",
      "\u001b[93mКоличество элементов true_story_list:\u001b[0m\n",
      "5\n"
     ]
    }
   ],
   "source": [
    "stih = '''Кто битым за дедлайн был,\n",
    "тот больше не сольется.\n",
    "Пуд багов съевший, выше ценит чистый код.\n",
    "Кто дошик ел, тот рейтинг ценит свой.\n",
    "Кто крашился, тот знает, что живой.'''\n",
    "stroki = stih.split('\\n')\n",
    "\n",
    "true_story_list = []\n",
    "\n",
    "true_story_list.append (stroki[2])\n",
    "print('\\033[93mМассив true_story_list:\\033[0m', true_story_list, sep = '\\n')\n",
    "print('\\033[93mКоличество элементов true_story_list:\\033[0m', len(true_story_list), sep = '\\n')\n",
    "\n",
    "true_story_list.append(stroki[3])\n",
    "print('\\033[93mМассив true_story_list:\\033[0m', true_story_list, sep = '\\n')\n",
    "print('\\033[93mКоличество элементов true_story_list:\\033[0m', len(true_story_list), sep = '\\n')\n",
    "\n",
    "true_story_slice = []\n",
    "true_story_slice.append(stroki[3])\n",
    "true_story_slice.append(stroki[4])\n",
    "\n",
    "true_story_list.append(true_story_slice)\n",
    "print('\\033[93mМассив true_story_list:\\033[0m', true_story_list, sep = '\\n')\n",
    "print('\\033[93mКоличество элементов true_story_list:\\033[0m', len(true_story_list), sep = '\\n')\n",
    "\n",
    "true_story_slice.clear()\n",
    "print('\\033[93mМассив true_story_slice:\\033[0m', true_story_slice, sep = '\\n')\n",
    "print('\\033[93mМассив true_story_list:\\033[0m', true_story_list, sep = '\\n')\n",
    "print('\\033[93mКоличество элементов true_story_list:\\033[0m', len(true_story_list), sep = '\\n')\n",
    "\n",
    "true_story_list.insert(0, stroki[0])\n",
    "print('\\033[93mМассив true_story_list:\\033[0m', true_story_list, sep = '\\n')\n",
    "print('\\033[93mКоличество элементов true_story_list:\\033[0m', len(true_story_list), sep = '\\n')\n",
    "\n",
    "del true_story_list[-1]\n",
    "print('\\033[93mМассив true_story_list:\\033[0m', true_story_list, sep = '\\n')\n",
    "print('\\033[93mКоличество элементов true_story_list:\\033[0m', len(true_story_list), sep = '\\n')\n",
    "\n",
    "true_story_list.insert(1, stroki[1])\n",
    "print('\\033[93mМассив true_story_list:\\033[0m', true_story_list, sep = '\\n')\n",
    "print('\\033[93mКоличество элементов true_story_list:\\033[0m', len(true_story_list), sep = '\\n')\n",
    "\n",
    "true_story_tail = []\n",
    "\n",
    "true_story_tail.append(stroki[-1])\n",
    "true_story_tail.append(stroki[-1])\n",
    "true_story_list += true_story_tail\n",
    "print('\\033[93mМассив true_story_list:\\033[0m', true_story_list, sep = '\\n')\n",
    "print('\\033[93mКоличество элементов true_story_list:\\033[0m', len(true_story_list), sep = '\\n')\n",
    "\n",
    "del true_story_list[4]\n",
    "print('\\033[93mМассив true_story_list:\\033[0m', *true_story_list, sep = '\\n')\n",
    "print('\\033[93mКоличество элементов true_story_list:\\033[0m', len(true_story_list), sep = '\\n')"
   ]
  },
  {
   "cell_type": "code",
   "execution_count": null,
   "id": "f40fa775-8879-4f17-b419-94e0abf64173",
   "metadata": {},
   "outputs": [],
   "source": []
  }
 ],
 "metadata": {
  "kernelspec": {
   "display_name": "Python 3 (ipykernel)",
   "language": "python",
   "name": "python3"
  },
  "language_info": {
   "codemirror_mode": {
    "name": "ipython",
    "version": 3
   },
   "file_extension": ".py",
   "mimetype": "text/x-python",
   "name": "python",
   "nbconvert_exporter": "python",
   "pygments_lexer": "ipython3",
   "version": "3.10.10"
  }
 },
 "nbformat": 4,
 "nbformat_minor": 5
}
