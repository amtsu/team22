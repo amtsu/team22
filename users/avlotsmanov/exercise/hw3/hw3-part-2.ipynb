{
 "cells": [
  {
   "cell_type": "markdown",
   "id": "da2af17a-082e-4ba1-a575-930f3a870469",
   "metadata": {},
   "source": [
    "# Блок 1:\n",
    "\n",
    "Вычислить результат следующих операций:\\\n",
    "10 * (5 + 3)\\\n",
    "(20 - 6) / 2\\\n",
    "2 ** 5 (возведение 2 в 5-ю степень)\\\n",
    "25 // 4 (целая часть от деления)\\\n",
    "25 % 4 (остаток от деления)"
   ]
  },
  {
   "cell_type": "code",
   "execution_count": 1,
   "id": "e4df6360-580e-4b3f-af9f-4f2d2aa98d6d",
   "metadata": {},
   "outputs": [
    {
     "name": "stdout",
     "output_type": "stream",
     "text": [
      "80\n",
      "7.0\n",
      "32\n",
      "6\n",
      "1\n"
     ]
    }
   ],
   "source": [
    "print(10 * (5 + 3))\n",
    "print((20 - 6) / 2)\n",
    "print(2 ** 5)\n",
    "print(25 // 4)\n",
    "print(25 % 4)"
   ]
  },
  {
   "cell_type": "markdown",
   "id": "6fe9ca73-9166-4c61-80fc-da70f1d796ec",
   "metadata": {},
   "source": [
    "# Блок 2:\n",
    "\n",
    "Дано дробное число:\\\n",
    "number = -3.14\\\n",
    "Выполнить следующие операции:\\\n",
    "Округлите число до целого.\\\n",
    "Возьмите остаток числа."
   ]
  },
  {
   "cell_type": "code",
   "execution_count": 53,
   "id": "9ce31a5b-644b-4def-a51d-9e325a80ce33",
   "metadata": {},
   "outputs": [
    {
     "name": "stdout",
     "output_type": "stream",
     "text": [
      "Округленное -  -3\n",
      "Остаток -      -0.14\n"
     ]
    }
   ],
   "source": [
    "number = -3.14\n",
    "print('Округленное - ', round(number))\n",
    "print('Остаток - ', \"%9.2f\"%(number % round(number))) #Получаем остаток от деления данного числа на его же округленное, используем вывод нужного количества символов (столько же, сколько в данном числе), чтобы не выводил ошибку вычислений"
   ]
  },
  {
   "cell_type": "markdown",
   "id": "b7d10065-1a32-4e46-9e62-75d4c3088d50",
   "metadata": {},
   "source": [
    "# Блок 3:\n",
    "\n",
    "Даны стороны прямоугольника: a = 5, b = 7.\\\n",
    "Вычислить площадь прямоугольника и вывести результат на экран"
   ]
  },
  {
   "cell_type": "code",
   "execution_count": 54,
   "id": "9c127e0e-49fe-4deb-927b-8c1f598dcbbf",
   "metadata": {},
   "outputs": [
    {
     "name": "stdout",
     "output_type": "stream",
     "text": [
      "Площадь прямоугольника со сторонами 5 и 7 равна 35\n"
     ]
    }
   ],
   "source": [
    "a = 5\n",
    "b = 7\n",
    "S = a * b #площадь прямоугольника\n",
    "print(f'Площадь прямоугольника со сторонами {a} и {b} равна {S}') #Выводим ответ с помощью f - строки"
   ]
  },
  {
   "cell_type": "markdown",
   "id": "fd7df3ea-c1a9-40d3-a793-9c1272a50b6d",
   "metadata": {},
   "source": [
    "# Блок 4:\n",
    "\n",
    "На какой объем воздуха должен быть расчитан кондиционер, если с его помощью хотят охлаждать квартиру в которой размер гостинной 3.5 на 6.4 метра, спальни 3.4 на 4 метра и площадь нежилой части 11 метров.\\\n",
    "При том, что высота потолков - 3,1 метра."
   ]
  },
  {
   "cell_type": "code",
   "execution_count": 75,
   "id": "2bf0f6d7-bd4d-4676-b9b2-6f48e48be27f",
   "metadata": {},
   "outputs": [
    {
     "name": "stdout",
     "output_type": "stream",
     "text": [
      "Кондиционер должен быть расчитан на объем не менее, чем в 145.7 кубических метров.\n"
     ]
    }
   ],
   "source": [
    "a1, b1 = 3.5, 6.4 #стороны первой комнаты, м\n",
    "a2, b2 = 3.4, 4 #стороны второй комнаты, м\n",
    "S1 = 11 #площадь нежилого помещения, м\n",
    "h = 3.1 #высота потолков, м\n",
    "S = a1 * b1 + a2 * b2 + S1 #считаем площадь квартиры, м2\n",
    "V = S * h #считаем объем квартиры, м3\n",
    "print (f'Кондиционер должен быть расчитан на объем не менее, чем в {\"%.1f\"%V} кубических метров.')   #Выводим ответ с помощью f - строки"
   ]
  },
  {
   "cell_type": "markdown",
   "id": "a4c94317-dce3-4708-bbad-3a719ae0ae33",
   "metadata": {},
   "source": [
    "# Блок 5:\n",
    "\n",
    "Дано квадратное уравнение вида ax^2 + bx + c = 0.\\\n",
    "Найти его решения, используя формулу дискриминанта.\\\n",
    "a - номер текущего месяца\\\n",
    "b - номер вашей группы\\\n",
    "c - минус десять (-10)"
   ]
  },
  {
   "cell_type": "code",
   "execution_count": 30,
   "id": "a2b5d7d5-f6d2-42d7-a6d2-fa502c7f2c1b",
   "metadata": {},
   "outputs": [
    {
     "name": "stdout",
     "output_type": "stream",
     "text": [
      "Корни данного квадратного уравнения следующие:\n",
      " x1 = 1.0 \n",
      " x2 = -5.0\n"
     ]
    }
   ],
   "source": [
    "import math\n",
    "a = 2 #номер текущего месяца\n",
    "b = 8 #номер вашей группы\n",
    "c = -10 #минус десять\n",
    "D = b ** 2 - 4 * a * c #формула дискриминанта\n",
    "x1 = (- b + D ** 0.5) / (2 * a) #корни уравнения, считаем корень возвездением в дробную степень\n",
    "x2 = (- b - math.sqrt(D)) / (2 * a) #корни уравнения, считаем корень с помощью модуля math\n",
    "print (f'Корни данного квадратного уравнения следующие:\\n x1 = {x1} \\n x2 = {x2}')  #Выводим корни уравнения с помощью f - строки"
   ]
  },
  {
   "cell_type": "markdown",
   "id": "abe65a22-a6f8-4769-ae1c-a0eb0316f6c4",
   "metadata": {},
   "source": [
    "# Блок 6:\n",
    "\n",
    "Даны строки:\\\n",
    "string1 = \"hello, \"\\\n",
    "string2 = \"world!\"\\\n",
    "Объединить строки string1 и string2 и результат вывести на экран так чтобы первая буква в предложении стала заглавной.\n",
    "\n",
    "Сколько символов было в предыдущей строке?"
   ]
  },
  {
   "cell_type": "code",
   "execution_count": 43,
   "id": "6eaae28e-f905-40d3-b9c9-c2ea79460df1",
   "metadata": {},
   "outputs": [
    {
     "name": "stdout",
     "output_type": "stream",
     "text": [
      "Hello, world!\n",
      "Количество символов в строке \"Hello, world!\" - 13\n"
     ]
    }
   ],
   "source": [
    "string1 = \"hello, \"\n",
    "string2 = \"world!\"\n",
    "print ((string1 + string2).capitalize()) #Конкатенируем две строки и выводим с заглавной буквы\n",
    "print(f'Количество символов в строке \"{(string1 + string2).capitalize()}\" - {len(string1 + string2)}') #Ф-цией len() считаем длину строки и выводим на экран"
   ]
  },
  {
   "cell_type": "markdown",
   "id": "f0c07a0d-6c7b-407a-bc1e-63d49f2f7b91",
   "metadata": {},
   "source": [
    "# Блок 7:\n",
    "\n",
    "Выведите на экран строку la 25 раз."
   ]
  },
  {
   "cell_type": "code",
   "execution_count": 38,
   "id": "6954f182-29fc-4a3a-8169-3464b1a3ae8a",
   "metadata": {},
   "outputs": [
    {
     "name": "stdout",
     "output_type": "stream",
     "text": [
      "lalalalalalalalalalalalalalalalalalalalalalalalala\n"
     ]
    }
   ],
   "source": [
    "print ('la' * 25)"
   ]
  },
  {
   "cell_type": "markdown",
   "id": "a8ef931a-3c6b-42ee-8cff-bdbc3d2a1f52",
   "metadata": {},
   "source": [
    "# Блок 8:\n",
    "\n",
    "Дан список чисел:\\\n",
    "numbers = [1, 2, 3, 4, 5]\\\n",
    "Выполнить следующие операции:\n",
    "1. Измените число 2 на строку \"hi\"\n",
    "2. Выведите значение, находящееся на позиции 2.\n",
    "3. Изменить значение на позиции 4 на список из 3 элементов [8, 6, 4].\n",
    "\n",
    "Результаты вывести на экран."
   ]
  },
  {
   "cell_type": "code",
   "execution_count": 73,
   "id": "5fcc981b-984a-4bd0-a1b1-bc0aa159d01a",
   "metadata": {},
   "outputs": [
    {
     "name": "stdout",
     "output_type": "stream",
     "text": [
      "Элемент находящийся на позиции 2 - 3\n",
      "Итоговый массив - [1, 'hi', 3, 4, [8, 6, 4]]\n"
     ]
    }
   ],
   "source": [
    "numbers = [1, 2, 3, 4, 5] #дано\n",
    "numbers[1] = 'hi' #заменяем второй элемент массива (с индексом 1)\n",
    "print (f'Элемент находящийся на позиции 2 - {numbers[2]}') #выводим элемент с индексом 2\n",
    "numbers[4] = [8, 6, 4]  #Заменяем 4 элемент на список из 3х элементов\n",
    "print (f'Итоговый массив - {numbers}') #Выводим итоговый массив на экран"
   ]
  },
  {
   "cell_type": "markdown",
   "id": "4c0ade34-3407-4842-a098-838f321c3f4b",
   "metadata": {},
   "source": [
    "# Блок 9:\n",
    "\n",
    "Дан список чисел:\\\n",
    "numbers = [1, 2, 3, 4, 5, 6, 7, 8, 9, 10]\n",
    "Извлеките подсписок с 3-го по 7-й элемент включительно."
   ]
  },
  {
   "cell_type": "code",
   "execution_count": 71,
   "id": "66930947-a28b-409f-ba30-355440a3dcfe",
   "metadata": {},
   "outputs": [
    {
     "name": "stdout",
     "output_type": "stream",
     "text": [
      "Подсписок с \u001b[33m3\u001b[0m по \u001b[33m7\u001b[0m элемент включительно: [4, 5, 6, 7, 8]\n"
     ]
    }
   ],
   "source": [
    "numbers = [1, 2, 3, 4, 5, 6, 7, 8, 9, 10]\n",
    "print (f'Подсписок с \\033[33m3\\033[0m по \\033[33m7\\033[0m элемент включительно: {numbers[3:8]}') #вывод среза на экран"
   ]
  }
 ],
 "metadata": {
  "kernelspec": {
   "display_name": "Python 3 (ipykernel)",
   "language": "python",
   "name": "python3"
  },
  "language_info": {
   "codemirror_mode": {
    "name": "ipython",
    "version": 3
   },
   "file_extension": ".py",
   "mimetype": "text/x-python",
   "name": "python",
   "nbconvert_exporter": "python",
   "pygments_lexer": "ipython3",
   "version": "3.10.10"
  }
 },
 "nbformat": 4,
 "nbformat_minor": 5
}
