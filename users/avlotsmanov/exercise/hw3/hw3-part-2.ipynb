{
 "cells": [
  {
   "cell_type": "raw",
   "id": "e5a7963e-9719-4c95-88a9-0a8b83ff53e1",
   "metadata": {},
   "source": [
    "Блок 1:\n",
    "\n",
    "Вычислить результат следующих операций:\n",
    "10 * (5 + 3)\n",
    "(20 - 6) / 2\n",
    "2 ** 5 (возведение 2 в 5-ю степень)\n",
    "25 // 4 (целая часть от деления)\n",
    "25 % 4 (остаток от деления)"
   ]
  },
  {
   "cell_type": "code",
   "execution_count": 1,
   "id": "e4df6360-580e-4b3f-af9f-4f2d2aa98d6d",
   "metadata": {},
   "outputs": [
    {
     "name": "stdout",
     "output_type": "stream",
     "text": [
      "80\n",
      "7.0\n",
      "32\n",
      "6\n",
      "1\n"
     ]
    }
   ],
   "source": [
    "print(10 * (5 + 3))\n",
    "print((20 - 6) / 2)\n",
    "print(2 ** 5)\n",
    "print(25 // 4)\n",
    "print(25 % 4)"
   ]
  },
  {
   "cell_type": "raw",
   "id": "480e90a6-867c-4ccb-ae86-84e40c1d62eb",
   "metadata": {},
   "source": [
    "Блок 2: \n",
    "\n",
    "Дано дробное число:\n",
    "number = -3.14\n",
    "Выполнить следующие операции:\n",
    "Округлите число до целого.\n",
    "Возьмите остаток числа."
   ]
  },
  {
   "cell_type": "code",
   "execution_count": 5,
   "id": "9ce31a5b-644b-4def-a51d-9e325a80ce33",
   "metadata": {},
   "outputs": [
    {
     "name": "stdout",
     "output_type": "stream",
     "text": [
      "-0.14\n"
     ]
    }
   ],
   "source": [
    "number = -3.14\n",
    "print(\"%3.2f\"%(number % round(number))) #Получаем остаток от деления данного числа на его же округленное, используем вывод нужного количества символов (столько же, сколько в данном числе), чтобы не выводил ошибку вычислений"
   ]
  },
  {
   "cell_type": "raw",
   "id": "5038ef4e-178b-4734-921c-e0798c9678d6",
   "metadata": {},
   "source": [
    "Блок 3:\n",
    "\n",
    "Даны стороны прямоугольника: a = 5, b = 7.\n",
    "Вычислить площадь прямоугольника и вывести результат на экран"
   ]
  },
  {
   "cell_type": "code",
   "execution_count": 7,
   "id": "9c127e0e-49fe-4deb-927b-8c1f598dcbbf",
   "metadata": {},
   "outputs": [
    {
     "name": "stdout",
     "output_type": "stream",
     "text": [
      "Площадь прямоугольника со сторонами 5 и  7 равна 35\n"
     ]
    }
   ],
   "source": [
    "a = 5\n",
    "b = 7\n",
    "S = a * b #площадь прямоугольника\n",
    "print(f'Площадь прямоугольника со сторонами {a} и  {b} равна {S}') #Выводим ответ с помощью f - строки"
   ]
  },
  {
   "cell_type": "raw",
   "id": "493103ee-e87a-445f-991c-7522d41f5aa2",
   "metadata": {},
   "source": [
    "Блок 4:\n",
    "\n",
    "На какой объем воздуха должен быть расчитан кондиционер, если с его помощью хотят охлаждать квартиру в которой размер гостинной 3.5 на 6.4 метра, спальни 3.4 на 4 метра и площадь не жилой части 11 метров. При том что высота потолков 3,1 метр."
   ]
  },
  {
   "cell_type": "code",
   "execution_count": 14,
   "id": "2bf0f6d7-bd4d-4676-b9b2-6f48e48be27f",
   "metadata": {},
   "outputs": [
    {
     "name": "stdout",
     "output_type": "stream",
     "text": [
      "Кондиционер должен быть расчитан на объем не менее, чем в 47.0 кубических метров.\n"
     ]
    }
   ],
   "source": [
    "a1, b1 = 3.5, 6.4 #стороны первой комнаты\n",
    "a2, b2 = 3.4, 4 #стороны второй комнаты\n",
    "S1 = 11 #площадь нежилого помещения\n",
    "h = 3.1 #высота потолков\n",
    "S = a1 * b1 + a2 * b2 + S1 #считаем площадь квартиры\n",
    "V = S * h #считаем объем квартиры\n",
    "print (f'Кондиционер должен быть расчитан на объем не менее, чем в {S} кубических метров.')   #Выводим ответ с помощью f - строки"
   ]
  },
  {
   "cell_type": "raw",
   "id": "0a69821c-706e-43dd-8c19-d7c74dd9b3f1",
   "metadata": {},
   "source": [
    "Блок 5:\n",
    "\n",
    "Дано квадратное уравнение вида ax^2 + bx + c = 0.\n",
    "Найти его решения, используя формулу дискриминанта.\n",
    "a номер текущего месяца\n",
    "b номер вашей группы\n",
    "c минус десять (-10)"
   ]
  },
  {
   "cell_type": "code",
   "execution_count": 4,
   "id": "a2b5d7d5-f6d2-42d7-a6d2-fa502c7f2c1b",
   "metadata": {},
   "outputs": [
    {
     "name": "stdout",
     "output_type": "stream",
     "text": [
      "Корни данного квадратного уравнения следующие:\n",
      " x1 = 4.0 \n",
      " x2 = -20.0\n"
     ]
    }
   ],
   "source": [
    "import math\n",
    "a = 2 #номер текущего месяца\n",
    "b = 8 #номер вашей группы\n",
    "c = -10 #минус десять\n",
    "D = b ** 2 - 4 * a * c #формула дискриминанта\n",
    "x1 = (- b + D ** 0.5) / 2 * a #корни уравнения\n",
    "x2 = (- b - math.sqrt(D)) / 2 * a #корни уравнения\n",
    "print (f'Корни данного квадратного уравнения следующие:\\n x1 = {x1} \\n x2 = {x2}')  #Выводим корни уравнения с помощью f - строки"
   ]
  },
  {
   "cell_type": "raw",
   "id": "1a58d9bf-c182-4a71-9cd3-fe200cffa495",
   "metadata": {},
   "source": [
    "Блок 6:\n",
    "\n",
    "Даны строки:\n",
    "string1 = \"hello, \"\n",
    "string2 = \"world!\"\n",
    "Объединить строки string1 и string2 и результат вывести на экран так чтобы первая буква в предложении стала заглавной.\n",
    "\n",
    "Сколько символов было в предыдущей строке?"
   ]
  },
  {
   "cell_type": "code",
   "execution_count": 43,
   "id": "6eaae28e-f905-40d3-b9c9-c2ea79460df1",
   "metadata": {},
   "outputs": [
    {
     "name": "stdout",
     "output_type": "stream",
     "text": [
      "Hello, world!\n",
      "Количество символов в строке \"Hello, world!\" - 13\n"
     ]
    }
   ],
   "source": [
    "string1 = \"hello, \"\n",
    "string2 = \"world!\"\n",
    "print ((string1 + string2).capitalize()) #Конкатенируем две строки и выводим с заглавной буквы\n",
    "print(f'Количество символов в строке \"{(string1 + string2).capitalize()}\" - {len(string1 + string2)}') #Ф-цией len() считаем длину строки и выводим на экран"
   ]
  },
  {
   "cell_type": "raw",
   "id": "953005db-533d-4381-a376-2618cb371d64",
   "metadata": {},
   "source": [
    "Блок 7:\n",
    "\n",
    "Выведите на экран строку la 25 раз."
   ]
  },
  {
   "cell_type": "code",
   "execution_count": 38,
   "id": "6954f182-29fc-4a3a-8169-3464b1a3ae8a",
   "metadata": {},
   "outputs": [
    {
     "name": "stdout",
     "output_type": "stream",
     "text": [
      "lalalalalalalalalalalalalalalalalalalalalalalalala\n"
     ]
    }
   ],
   "source": [
    "print ('la' * 25)"
   ]
  },
  {
   "cell_type": "raw",
   "id": "06c93011-d464-4fe5-983b-d574fae02d41",
   "metadata": {},
   "source": [
    "Блок 8:\n",
    "\n",
    "Дан список чисел:\n",
    "numbers = [1, 2, 3, 4, 5]\n",
    "Выполнить следующие операции:\n",
    "1. Измените число 2 на строку \"hi\" \n",
    "2. Выведите значение, находящееся на позиции 2.\n",
    "3. Изменить значение на позиции 4 на список из 3 элементов [8, 6, 4].\n",
    "Результаты вывести на экран."
   ]
  },
  {
   "cell_type": "code",
   "execution_count": 54,
   "id": "5fcc981b-984a-4bd0-a1b1-bc0aa159d01a",
   "metadata": {},
   "outputs": [
    {
     "name": "stdout",
     "output_type": "stream",
     "text": [
      "Элемент находящийся на позиции 2 - 3\n",
      "Итоговый массив - [1, 'hi', 3, 4, [8, 6, 4]]\n"
     ]
    }
   ],
   "source": [
    "numbers = [1, 2, 3, 4, 5] #дано\n",
    "numbers[1] = 'hi' #заменяем второй элемент массива (с индексом 1)\n",
    "print (f'Элемент находящийся на позиции 2 - {numbers[2]}') #выводим элемент с индексом 2\n",
    "numbers[4] = [8, 6, 4]  #Заменяем 4 элемент на список из 3х элементов\n",
    "print (f'Итоговый массив - {numbers}') #Выводим итоговый массив на экран"
   ]
  },
  {
   "cell_type": "raw",
   "id": "4d600879-674d-49ea-9f5c-add8dcb343b7",
   "metadata": {},
   "source": [
    "Блок 9:\n",
    "\n",
    "Дан список чисел:\n",
    "numbers = [1, 2, 3, 4, 5, 6, 7, 8, 9, 10]\n",
    "Извлеките подсписок с 3-го по 7-й элемент включительно."
   ]
  },
  {
   "cell_type": "code",
   "execution_count": 59,
   "id": "66930947-a28b-409f-ba30-355440a3dcfe",
   "metadata": {},
   "outputs": [
    {
     "name": "stdout",
     "output_type": "stream",
     "text": [
      "Подсписок с 3 по 7 элемент включительно: [4, 5, 6, 7, 8]\n"
     ]
    }
   ],
   "source": [
    "numbers = [1, 2, 3, 4, 5, 6, 7, 8, 9, 10]\n",
    "print (f'Подсписок с 3 по 7 элемент включительно: {numbers[3:8]}') #вывод среза на экран"
   ]
  },
  {
   "cell_type": "code",
   "execution_count": null,
   "id": "f1e659e5-dd64-42fa-b459-55f2fa855b45",
   "metadata": {},
   "outputs": [],
   "source": []
  }
 ],
 "metadata": {
  "kernelspec": {
   "display_name": "Python 3 (ipykernel)",
   "language": "python",
   "name": "python3"
  },
  "language_info": {
   "codemirror_mode": {
    "name": "ipython",
    "version": 3
   },
   "file_extension": ".py",
   "mimetype": "text/x-python",
   "name": "python",
   "nbconvert_exporter": "python",
   "pygments_lexer": "ipython3",
   "version": "3.10.10"
  }
 },
 "nbformat": 4,
 "nbformat_minor": 5
}
