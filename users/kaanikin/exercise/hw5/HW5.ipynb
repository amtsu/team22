{
 "cells": [
  {
   "cell_type": "markdown",
   "id": "a6e2b9f9-cff5-4e11-bed1-181af10ad15e",
   "metadata": {},
   "source": [
    "# Часть 1. Множества"
   ]
  },
  {
   "cell_type": "markdown",
   "id": "aec59efb-cf4d-4f61-a549-74d41c44d1a1",
   "metadata": {},
   "source": [
    "Создайте множество set1 из целых чисел: 1, 2, 3, 4, 5"
   ]
  },
  {
   "cell_type": "code",
   "execution_count": 2,
   "id": "61f7dce5-e610-44b8-9877-c08e77747ba2",
   "metadata": {},
   "outputs": [
    {
     "data": {
      "text/plain": [
       "{1, 2, 3, 4, 5}"
      ]
     },
     "execution_count": 2,
     "metadata": {},
     "output_type": "execute_result"
    }
   ],
   "source": [
    "set1 = {1, 2, 3, 4, 5}\n",
    "set1"
   ]
  },
  {
   "cell_type": "markdown",
   "id": "b62a6a54-5af1-40a9-bb32-3e12957ca84d",
   "metadata": {},
   "source": [
    "Добавьте в это множество элемент 6."
   ]
  },
  {
   "cell_type": "code",
   "execution_count": 3,
   "id": "daf2db04-4634-4612-915b-5a9260635d60",
   "metadata": {},
   "outputs": [
    {
     "data": {
      "text/plain": [
       "{1, 2, 3, 4, 5, 6}"
      ]
     },
     "execution_count": 3,
     "metadata": {},
     "output_type": "execute_result"
    }
   ],
   "source": [
    "set1.add(6)\n",
    "set1"
   ]
  },
  {
   "cell_type": "markdown",
   "id": "1943100b-30a2-4535-b360-ba87e294121e",
   "metadata": {},
   "source": [
    "Удалите элемент 2 из множества."
   ]
  },
  {
   "cell_type": "code",
   "execution_count": 4,
   "id": "f090db90-97b7-4a73-b05c-79593012924c",
   "metadata": {},
   "outputs": [
    {
     "data": {
      "text/plain": [
       "{1, 3, 4, 5, 6}"
      ]
     },
     "execution_count": 4,
     "metadata": {},
     "output_type": "execute_result"
    }
   ],
   "source": [
    "set1.remove(2)\n",
    "set1"
   ]
  },
  {
   "cell_type": "markdown",
   "id": "3020f676-1336-4210-aff1-b5931433ff12",
   "metadata": {},
   "source": [
    "Проверьте, содержит ли множество элемент 3.\n"
   ]
  },
  {
   "cell_type": "code",
   "execution_count": 5,
   "id": "e0647e16-3383-40bd-abca-70c45f5575d1",
   "metadata": {},
   "outputs": [
    {
     "data": {
      "text/plain": [
       "True"
      ]
     },
     "execution_count": 5,
     "metadata": {},
     "output_type": "execute_result"
    }
   ],
   "source": [
    "3 in set1"
   ]
  },
  {
   "cell_type": "markdown",
   "id": "89ecaa9a-2e72-4df4-ad0b-51afcfe0d575",
   "metadata": {},
   "source": [
    "Создайте второе множество set2 с элементами 4, 5, 6, 7, 8."
   ]
  },
  {
   "cell_type": "code",
   "execution_count": 6,
   "id": "7e5ed1d1-e646-4a87-a04a-246648933158",
   "metadata": {},
   "outputs": [
    {
     "data": {
      "text/plain": [
       "{4, 5, 6, 7, 8}"
      ]
     },
     "execution_count": 6,
     "metadata": {},
     "output_type": "execute_result"
    }
   ],
   "source": [
    "set2 = {4, 5, 6, 7, 8}\n",
    "set2"
   ]
  },
  {
   "cell_type": "markdown",
   "id": "cda7e711-9c41-4c3b-b924-b393baed2c00",
   "metadata": {},
   "source": [
    "Найдите объединение множеств set1 и set2"
   ]
  },
  {
   "cell_type": "code",
   "execution_count": 7,
   "id": "b892a547-1d15-4f1e-9022-98e22a1127c9",
   "metadata": {},
   "outputs": [
    {
     "data": {
      "text/plain": [
       "{1, 3, 4, 5, 6, 7, 8}"
      ]
     },
     "execution_count": 7,
     "metadata": {},
     "output_type": "execute_result"
    }
   ],
   "source": [
    "set1.union(set2)"
   ]
  },
  {
   "cell_type": "markdown",
   "id": "06d8515f-5ccf-485c-84a0-fc480cd740dd",
   "metadata": {},
   "source": [
    "Найдите разность множеств set1 и set2."
   ]
  },
  {
   "cell_type": "code",
   "execution_count": 8,
   "id": "f212d218-73a5-46d6-b754-2e8e34850753",
   "metadata": {},
   "outputs": [
    {
     "data": {
      "text/plain": [
       "{1, 3}"
      ]
     },
     "execution_count": 8,
     "metadata": {},
     "output_type": "execute_result"
    }
   ],
   "source": [
    "set1.difference(set2)"
   ]
  },
  {
   "cell_type": "markdown",
   "id": "0176c96b-c9eb-46ba-a8fb-00fc4e4d46f7",
   "metadata": {},
   "source": [
    "Создайте два множества set1 и set2, содержащие цвета радуги: \"красный\", \"оранжевый\", \"желтый\", \"зеленый\", \"голубой\", \"синий\", \"фиолетовый\" и  \"оранжевый\", \"зеленый\", \"голубой\", \"синий\", \"Мальвиновый\"."
   ]
  },
  {
   "cell_type": "code",
   "execution_count": 10,
   "id": "050d128a-06d3-4d38-837b-df65b8ee3d4b",
   "metadata": {},
   "outputs": [
    {
     "name": "stdout",
     "output_type": "stream",
     "text": [
      "{'фиолетовый', 'красный', 'желтый', 'оранжевый', 'синий', 'зеленый', 'голубой'}\n",
      "{'синий', 'Мальвиновый', 'оранжевый', 'зеленый', 'голубой'}\n"
     ]
    }
   ],
   "source": [
    "set1 = {\"красный\", \"оранжевый\", \"желтый\", \"зеленый\", \"голубой\", \"синий\", \"фиолетовый\"}\n",
    "set2 = {\"оранжевый\", \"зеленый\", \"голубой\", \"синий\", \"Мальвиновый\"}\n",
    "print(set1)\n",
    "print(set2)"
   ]
  },
  {
   "cell_type": "markdown",
   "id": "03fbab57-3e88-4d57-a73a-c29191e26bcc",
   "metadata": {},
   "source": [
    "Найдите пересечение множеств set1 и set2."
   ]
  },
  {
   "cell_type": "code",
   "execution_count": 11,
   "id": "decb9138-7a93-4dc8-b308-02d16c2b2e83",
   "metadata": {},
   "outputs": [
    {
     "data": {
      "text/plain": [
       "{'голубой', 'зеленый', 'оранжевый', 'синий'}"
      ]
     },
     "execution_count": 11,
     "metadata": {},
     "output_type": "execute_result"
    }
   ],
   "source": [
    "set1.intersection(set2)"
   ]
  },
  {
   "cell_type": "markdown",
   "id": "252cc77c-4ddc-46c9-a348-4cad018d6bd2",
   "metadata": {},
   "source": [
    "Объедините множества set1 и set2 и сохраните результат в новое множество rainbow_colors."
   ]
  },
  {
   "cell_type": "code",
   "execution_count": 12,
   "id": "6a8926a4-89a8-4eee-9dca-737abab1eafc",
   "metadata": {},
   "outputs": [
    {
     "data": {
      "text/plain": [
       "{'Мальвиновый',\n",
       " 'голубой',\n",
       " 'желтый',\n",
       " 'зеленый',\n",
       " 'красный',\n",
       " 'оранжевый',\n",
       " 'синий',\n",
       " 'фиолетовый'}"
      ]
     },
     "execution_count": 12,
     "metadata": {},
     "output_type": "execute_result"
    }
   ],
   "source": [
    "rainbow_colors = set1.union(set2)\n",
    "rainbow_colors"
   ]
  },
  {
   "cell_type": "code",
   "execution_count": null,
   "id": "bec4ae1f-acfd-42fa-8ba8-87743b1b0c5c",
   "metadata": {},
   "outputs": [],
   "source": []
  },
  {
   "cell_type": "markdown",
   "id": "6ea6d058-b5ce-4d54-a4e4-696adc93352d",
   "metadata": {},
   "source": [
    "# Часть 2. Словари"
   ]
  },
  {
   "cell_type": "code",
   "execution_count": null,
   "id": "14aa15db-61cd-470f-966a-8d3f5394efdb",
   "metadata": {},
   "outputs": [],
   "source": []
  }
 ],
 "metadata": {
  "kernelspec": {
   "display_name": "Python 3 (ipykernel)",
   "language": "python",
   "name": "python3"
  },
  "language_info": {
   "codemirror_mode": {
    "name": "ipython",
    "version": 3
   },
   "file_extension": ".py",
   "mimetype": "text/x-python",
   "name": "python",
   "nbconvert_exporter": "python",
   "pygments_lexer": "ipython3",
   "version": "3.10.10"
  }
 },
 "nbformat": 4,
 "nbformat_minor": 5
}
