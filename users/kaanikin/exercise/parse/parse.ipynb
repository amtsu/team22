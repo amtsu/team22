{
 "cells": [
  {
   "cell_type": "code",
   "execution_count": 9,
   "id": "ee77f29f-c4ca-4007-8f69-9037c5c49fa9",
   "metadata": {},
   "outputs": [
    {
     "name": "stdout",
     "output_type": "stream",
     "text": [
      "['http://absda.ru:15000/team22/users/andromary/index.html', 'http://absda.ru:15000/team22/users/andvliv/my_page.html', 'http://absda.ru:15000/team22/users/annamargolina/cv.html', 'http://absda.ru:15000/team22/users/anton-kuvalda/Anton_kuvalda.Resume4.html', 'http://absda.ru:15000/team22/users/aaarisova/ArisovaA_zarplata_ru.html', 'http://absda.ru:15000/team22/users/re-gi-na/about_me.html', 'http://absda.ru:15000/team22/users/romantarasov91/aboutmeee.html', 'http://absda.ru:15000/team22/users/slash3086/kaanikin_resume.html', 'http://absda.ru:15000/team22/users/aemareev/about.html']\n"
     ]
    }
   ],
   "source": [
    "from urllib.request import urlopen\n",
    "from bs4 import BeautifulSoup\n",
    "url = \"http://absda.ru:15000/team22/users/base/team.html\"\n",
    "response = urlopen(url)\n",
    "html = response.read().decode(\"utf-8\")\n",
    "soup = BeautifulSoup(html, 'html.parser')\n",
    "# Найдите все заголовки a\n",
    "h1_tags = soup.find_all('a')\n",
    "    # Выведите текст заголовков\n",
    "    #for h1 in h1_tags:    \n",
    "    #    print(h1.text)\n",
    "url_temp = []\n",
    "for link in soup.find_all('a'):\n",
    "    student_links = link.get('href') \n",
    "    url_temp.append(student_links)\n",
    "\n",
    "\n",
    "urls_list = []\n",
    "for item in url_temp:\n",
    "    new_url = str('http://absda.ru:15000' + item)\n",
    "    urls_list.append(new_url)\n",
    "print(urls_list)\n",
    "\n",
    "\n",
    "\n",
    "# Найдите все заголовки a\n",
    "h1_tags = soup.find_all('a')\n",
    "# Выведите текст заголовков\n",
    "#for h1 in h1_tags:    \n",
    "    #print(h1.text)\n",
    "\n",
    "url_temp = []\n",
    "for link in soup.find_all('a'):\n",
    "    student_links = link.get('href') \n",
    "    url_temp.append(student_links)\n",
    "#print(url_temp)\n",
    "#получили перечень страниц"
   ]
  },
  {
   "cell_type": "code",
   "execution_count": 5,
   "id": "36a68c61-674f-4db6-86cd-b2df7338be33",
   "metadata": {},
   "outputs": [],
   "source": [
    "def url_pars(url):\n",
    "    \"\"\"print(url)\"\"\"\n",
    "    response = urlopen(url)\n",
    "    try:\n",
    "        response = urlopen(url)\n",
    "    except urlib.error.HTTPError:\n",
    "        print(\"Страница не открывается\")\n",
    "        pass\n",
    "    html = response.read().decode(\"utf-8\")\n",
    "    soup = BeautifulSoup(html, 'html.parser')\n",
    "   \n",
    "    result = []\n",
    "    tags_list = ['p', 'a']\n",
    "    for tag in tags_list:    \n",
    "        p_tags = soup.find_all(tag)\n",
    "        for p in p_tags:    \n",
    "            txt = p.text\n",
    "            email = re.findall(r'[a-zA-Z0-9._%+-]+@[a-zA-Z0-9.-]+\\.[a-zA-Z]{2,}', txt)\n",
    "            if email not in result and email != []:\n",
    "                result.append(email[0])\n",
    "    \n",
    "    return result  "
   ]
  },
  {
   "cell_type": "code",
   "execution_count": null,
   "id": "dee2d7ca-01a3-4268-a379-4dae0f926950",
   "metadata": {},
   "outputs": [],
   "source": [
    "def name_pars(url):\n",
    "    "
   ]
  },
  {
   "cell_type": "code",
   "execution_count": 6,
   "id": "2e59b1ad-2a2c-49b8-af78-78611c119c9d",
   "metadata": {},
   "outputs": [
    {
     "name": "stdout",
     "output_type": "stream",
     "text": [
      "[['kuvaldabikes@gmail.com'], ['anna.arisova@example.com'], ['hogo88@mail.ru'], ['RomanTarasov91@yandex.ru', 'RomanTarasov91@yandex.ru'], ['aemareev@gmail.com', 'aemareev@gmail.com']]\n"
     ]
    }
   ],
   "source": [
    "urls_list = ['http://absda.ru:15000/team22/users/anton-kuvalda/Anton_kuvalda.Resume4.html', 'http://absda.ru:15000/team22/users/aaarisova/ArisovaA_zarplata_ru.html', 'http://absda.ru:15000/team22/users/re-gi-na/about_me.html', 'http://absda.ru:15000/team22/users/romantarasov91/aboutmeee.html', 'http://absda.ru:15000/team22/users/aemareev/about.html']\n",
    "sample_result = []\n",
    "for item in urls_list:\n",
    "   sample_result.append(url_pars(item))\n",
    "\n",
    "print(sample_result)  "
   ]
  },
  {
   "cell_type": "code",
   "execution_count": null,
   "id": "82e96a40-7832-41fd-bcbf-6a1d1fd13343",
   "metadata": {},
   "outputs": [],
   "source": []
  }
 ],
 "metadata": {
  "kernelspec": {
   "display_name": "Python 3 (ipykernel)",
   "language": "python",
   "name": "python3"
  },
  "language_info": {
   "codemirror_mode": {
    "name": "ipython",
    "version": 3
   },
   "file_extension": ".py",
   "mimetype": "text/x-python",
   "name": "python",
   "nbconvert_exporter": "python",
   "pygments_lexer": "ipython3",
   "version": "3.10.10"
  }
 },
 "nbformat": 4,
 "nbformat_minor": 5
}
