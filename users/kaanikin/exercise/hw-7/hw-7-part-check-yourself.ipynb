{
 "cells": [
  {
   "cell_type": "markdown",
   "id": "10ba548c-ddfc-4c01-8adf-1b32b498ecc3",
   "metadata": {},
   "source": [
    "Попрактикуйтесь и введите следующие команды, но перед тем как нажать enter подумайте что она вам должна выдать. А после получения ответа поймите почему получили такий результаты(задания взяты из книги). Будет очень здорово если здесь появятся вопросы: "
   ]
  },
  {
   "cell_type": "code",
   "execution_count": 1,
   "id": "5b47ca92-577c-4064-9399-65ef45047674",
   "metadata": {},
   "outputs": [
    {
     "data": {
      "text/plain": [
       "70.0"
      ]
     },
     "execution_count": 1,
     "metadata": {},
     "output_type": "execute_result"
    }
   ],
   "source": [
    "((5 + 30) * 20) / 10"
   ]
  },
  {
   "cell_type": "code",
   "execution_count": null,
   "id": "d7e1751c-661e-4d7a-afea-36e8582744b8",
   "metadata": {},
   "outputs": [],
   "source": [
    "1"
   ]
  },
  {
   "cell_type": "code",
   "execution_count": 2,
   "id": "ea9112f0-bb53-4ff1-a306-cc5d87e3ca34",
   "metadata": {},
   "outputs": [
    {
     "data": {
      "text/plain": [
       "65.0"
      ]
     },
     "execution_count": 2,
     "metadata": {},
     "output_type": "execute_result"
    }
   ],
   "source": [
    "5 + 30 * 20 / 10"
   ]
  },
  {
   "cell_type": "markdown",
   "id": "284655f5-f916-4bc2-8b51-0e7f3231c860",
   "metadata": {},
   "source": [
    "1"
   ]
  },
  {
   "cell_type": "code",
   "execution_count": 3,
   "id": "08ced524-6940-4e92-8092-06a2903ae657",
   "metadata": {},
   "outputs": [
    {
     "name": "stdout",
     "output_type": "stream",
     "text": [
      "200\n"
     ]
    }
   ],
   "source": [
    "fred = 200\n",
    "john = fred\n",
    "print(john)"
   ]
  },
  {
   "cell_type": "code",
   "execution_count": null,
   "id": "8114e7ac-8e84-4ee2-830c-95a68724bd9c",
   "metadata": {},
   "outputs": [],
   "source": [
    "1"
   ]
  },
  {
   "cell_type": "code",
   "execution_count": 1,
   "id": "65b52ff2-b6d6-4599-bc87-7723bb38e573",
   "metadata": {},
   "outputs": [
    {
     "data": {
      "text/plain": [
       "3514"
      ]
     },
     "execution_count": 1,
     "metadata": {},
     "output_type": "execute_result"
    }
   ],
   "source": [
    "20 + 10 * 365 - 3 * 52"
   ]
  },
  {
   "cell_type": "code",
   "execution_count": null,
   "id": "4e1adefa-a455-46ea-a4e9-7af9b2649123",
   "metadata": {},
   "outputs": [],
   "source": [
    "1"
   ]
  },
  {
   "cell_type": "code",
   "execution_count": 2,
   "id": "505f854a-b7b2-4c57-87d8-e086523339d7",
   "metadata": {},
   "outputs": [
    {
     "data": {
      "text/plain": [
       "3514"
      ]
     },
     "execution_count": 2,
     "metadata": {},
     "output_type": "execute_result"
    }
   ],
   "source": [
    "found_coins = 20\n",
    "magic_coins = 10\n",
    "stolen_coins = 3\n",
    "found_coins + magic_coins * 365 - stolen_coins * 52"
   ]
  },
  {
   "cell_type": "code",
   "execution_count": null,
   "id": "58b3c1f7-1216-4025-906a-a9c20d866390",
   "metadata": {},
   "outputs": [],
   "source": [
    "1"
   ]
  },
  {
   "cell_type": "code",
   "execution_count": 7,
   "id": "f42ef5ad-e1ee-4bca-972d-6b8ae15038d7",
   "metadata": {},
   "outputs": [
    {
     "name": "stdout",
     "output_type": "stream",
     "text": [
      "Что едят на полдник динозавры?\n",
      "ТиРекс-кекс!\n"
     ]
    }
   ],
   "source": [
    "fred = '''Что едят на полдник динозавры?\n",
    "ТиРекс-кекс!''' \n",
    "print(fred)"
   ]
  },
  {
   "cell_type": "code",
   "execution_count": null,
   "id": "5444572a-7f95-416a-9205-3df24a5cdc0c",
   "metadata": {},
   "outputs": [],
   "source": [
    "1"
   ]
  },
  {
   "cell_type": "code",
   "execution_count": 3,
   "id": "1319140a-3a9d-452a-a214-030a73dcc5d5",
   "metadata": {},
   "outputs": [
    {
     "name": "stdout",
     "output_type": "stream",
     "text": [
      "Мой счет: 1000 очков\n"
     ]
    }
   ],
   "source": [
    "myscore = 1000\n",
    "message = 'Мой счет: %s очков'\n",
    "print(message % myscore)"
   ]
  },
  {
   "cell_type": "code",
   "execution_count": null,
   "id": "49301670-5aee-4dd3-82ab-ea5b8dd9b14a",
   "metadata": {},
   "outputs": [],
   "source": [
    "1"
   ]
  },
  {
   "cell_type": "code",
   "execution_count": 4,
   "id": "fec340a4-c595-4cd8-8d89-2023a851158a",
   "metadata": {},
   "outputs": [
    {
     "name": "stdout",
     "output_type": "stream",
     "text": [
      "Коленка: приспособление для поиска мебели втемноте\n",
      "Лодыжка: приспособление для поиска мебели втемноте\n"
     ]
    }
   ],
   "source": [
    "joke_text = '%s: приспособление для поиска мебели втемноте'\n",
    "bodypart1 = 'Коленка'\n",
    "bodypart2 = 'Лодыжка'\n",
    "print(joke_text % bodypart1) \n",
    "print(joke_text % bodypart2)"
   ]
  },
  {
   "cell_type": "code",
   "execution_count": null,
   "id": "d973d34e-c6f7-4dcf-b489-6ea3886fb429",
   "metadata": {},
   "outputs": [],
   "source": [
    "1"
   ]
  },
  {
   "cell_type": "code",
   "execution_count": 5,
   "id": "7d6f9e37-31e3-4a67-b8a1-309c7b219909",
   "metadata": {},
   "outputs": [
    {
     "name": "stdout",
     "output_type": "stream",
     "text": [
      "Что сказало число 0 числу 8? Славный поясок!\n"
     ]
    }
   ],
   "source": [
    "nums = 'Что сказало число %s числу %s? Славный поясок!'\n",
    "print(nums % (0, 8))"
   ]
  },
  {
   "cell_type": "code",
   "execution_count": null,
   "id": "665c1db4-e922-4a2e-aaaa-c128f3587fdd",
   "metadata": {},
   "outputs": [],
   "source": [
    "1"
   ]
  },
  {
   "cell_type": "code",
   "execution_count": 6,
   "id": "ca3d1e8b-782d-4b3b-b031-56172065b9de",
   "metadata": {},
   "outputs": [
    {
     "name": "stdout",
     "output_type": "stream",
     "text": [
      "aaaaaaaaaa\n"
     ]
    }
   ],
   "source": [
    "print(10 * 'a')"
   ]
  },
  {
   "cell_type": "code",
   "execution_count": null,
   "id": "8d5d495c-1f00-44b0-a3e4-ae81323f1133",
   "metadata": {},
   "outputs": [],
   "source": [
    "1"
   ]
  },
  {
   "cell_type": "code",
   "execution_count": 7,
   "id": "d1271dcc-e0d6-4bde-94f3-525e32f82885",
   "metadata": {},
   "outputs": [
    {
     "name": "stdout",
     "output_type": "stream",
     "text": [
      "глаз тритона\n"
     ]
    }
   ],
   "source": [
    "wizard_list = ['паучьи лапки', 'жабий палец', 'глаз тритона', 'крыло летучей мыши', 'жир слизня', 'перхоть змеи']\n",
    "print(wizard_list[2])"
   ]
  },
  {
   "cell_type": "code",
   "execution_count": null,
   "id": "9e7060d5-47b1-48a7-bb02-09fc85f7387d",
   "metadata": {},
   "outputs": [],
   "source": [
    "1"
   ]
  },
  {
   "cell_type": "code",
   "execution_count": 8,
   "id": "fec2716b-f64d-41d7-bf34-46eb133d3b86",
   "metadata": {},
   "outputs": [
    {
     "name": "stdout",
     "output_type": "stream",
     "text": [
      "['паучьи лапки', 'жабий палец', 'язык улитки', 'крыло летучей мыши', 'жир слизня', 'перхоть змеи']\n"
     ]
    }
   ],
   "source": [
    "wizard_list[2] = 'язык улитки'\n",
    "print(wizard_list)"
   ]
  },
  {
   "cell_type": "code",
   "execution_count": null,
   "id": "1f297bb4-17ed-42c2-93a7-b2d2118fc9c7",
   "metadata": {},
   "outputs": [],
   "source": [
    "1"
   ]
  },
  {
   "cell_type": "code",
   "execution_count": 9,
   "id": "ef14ea2f-4e5c-44d2-90ab-b97cbd8aa34c",
   "metadata": {},
   "outputs": [
    {
     "name": "stdout",
     "output_type": "stream",
     "text": [
      "['язык улитки', 'крыло летучей мыши', 'жир слизня']\n"
     ]
    }
   ],
   "source": [
    "print(wizard_list[2:5])"
   ]
  },
  {
   "cell_type": "code",
   "execution_count": null,
   "id": "0bc0384c-0952-4279-bc4d-ccc6d8a26048",
   "metadata": {},
   "outputs": [],
   "source": [
    "1"
   ]
  },
  {
   "cell_type": "code",
   "execution_count": 10,
   "id": "bf5565ff-dc29-4fb2-93f4-12137d77d689",
   "metadata": {},
   "outputs": [
    {
     "name": "stdout",
     "output_type": "stream",
     "text": [
      "[7, 'раз', 'отпей', 1, 'раз', 'отъешь']\n"
     ]
    }
   ],
   "source": [
    "numbers_and_strings = [7, 'раз', 'отпей', 1, 'раз', 'отъешь']\n",
    "print(numbers_and_strings)"
   ]
  },
  {
   "cell_type": "code",
   "execution_count": null,
   "id": "73f87bc2-60cc-4c15-ae9a-78b2dbac9fa8",
   "metadata": {},
   "outputs": [],
   "source": [
    "1"
   ]
  },
  {
   "cell_type": "code",
   "execution_count": 11,
   "id": "9a1d6131-bd16-4240-8206-6e4600252380",
   "metadata": {},
   "outputs": [
    {
     "name": "stdout",
     "output_type": "stream",
     "text": [
      "[[1, 2, 3, 4, 5], ['хватит', 'циферки', 'считать']]\n"
     ]
    }
   ],
   "source": [
    "numbers = [1, 2, 3, 4, 5]\n",
    "strings = ['хватит', 'циферки', 'считать']\n",
    "mylist = [numbers, strings]\n",
    "print(mylist)"
   ]
  },
  {
   "cell_type": "code",
   "execution_count": null,
   "id": "0d029b83-7bf0-4ebf-8634-41b3813f1d71",
   "metadata": {},
   "outputs": [],
   "source": [
    "1"
   ]
  },
  {
   "cell_type": "code",
   "execution_count": 12,
   "id": "0648a971-6fa6-466d-8ed8-f8a370022a61",
   "metadata": {},
   "outputs": [
    {
     "name": "stdout",
     "output_type": "stream",
     "text": [
      "['паучьи лапки', 'жабий палец', 'язык улитки', 'крыло летучей мыши', 'жир слизня', 'перхоть змеи', 'медвежий коготь']\n"
     ]
    }
   ],
   "source": [
    "wizard_list.append('медвежий коготь')\n",
    "print(wizard_list)"
   ]
  },
  {
   "cell_type": "code",
   "execution_count": null,
   "id": "fe707daa-7825-4670-917e-4a9ea50de127",
   "metadata": {},
   "outputs": [],
   "source": [
    "1"
   ]
  },
  {
   "cell_type": "code",
   "execution_count": 13,
   "id": "d109de8c-eab5-4dfc-bfb6-69cd71af72de",
   "metadata": {},
   "outputs": [
    {
     "name": "stdout",
     "output_type": "stream",
     "text": [
      "['паучьи лапки', 'жабий палец', 'язык улитки', 'крыло летучей мыши', 'жир слизня', 'перхоть змеи', 'медвежий коготь', 'мандрагора', 'болиголов', 'болотный газ']\n"
     ]
    }
   ],
   "source": [
    "wizard_list.append('мандрагора') \n",
    "wizard_list.append('болиголов')\n",
    "wizard_list.append('болотный газ') \n",
    "print(wizard_list)"
   ]
  },
  {
   "cell_type": "code",
   "execution_count": null,
   "id": "a4fd277a-d5bc-4954-9aa6-bb0018221e88",
   "metadata": {},
   "outputs": [],
   "source": [
    "1"
   ]
  },
  {
   "cell_type": "code",
   "execution_count": 14,
   "id": "1069cf2e-4077-42d0-926d-8f69d933844e",
   "metadata": {},
   "outputs": [
    {
     "name": "stdout",
     "output_type": "stream",
     "text": [
      "['паучьи лапки', 'жабий палец', 'язык улитки', 'крыло летучей мыши', 'жир слизня', 'медвежий коготь', 'мандрагора', 'болиголов', 'болотный газ']\n"
     ]
    }
   ],
   "source": [
    "del wizard_list[5]\n",
    "print(wizard_list)"
   ]
  },
  {
   "cell_type": "code",
   "execution_count": null,
   "id": "851697aa-91de-4cb3-88cd-52a480c5fbb9",
   "metadata": {},
   "outputs": [],
   "source": [
    "2"
   ]
  },
  {
   "cell_type": "code",
   "execution_count": 15,
   "id": "d028b3f1-0853-457b-8002-588def672031",
   "metadata": {},
   "outputs": [
    {
     "name": "stdout",
     "output_type": "stream",
     "text": [
      "['паучьи лапки', 'жабий палец', 'язык улитки', 'крыло летучей мыши', 'жир слизня', 'медвежий коготь']\n"
     ]
    }
   ],
   "source": [
    "del wizard_list[8]\n",
    "del wizard_list[7]\n",
    "del wizard_list[6]\n",
    "print(wizard_list)"
   ]
  },
  {
   "cell_type": "code",
   "execution_count": null,
   "id": "8488709b-228b-45e8-bae0-64b69c79a8a1",
   "metadata": {},
   "outputs": [],
   "source": [
    "1"
   ]
  },
  {
   "cell_type": "code",
   "execution_count": 16,
   "id": "fa06db26-a562-4ec1-ba6b-f6b5363fb184",
   "metadata": {},
   "outputs": [
    {
     "name": "stdout",
     "output_type": "stream",
     "text": [
      "[1, 2, 3, 4, 5, 'я', 'забрался', 'под', 'кровать']\n"
     ]
    }
   ],
   "source": [
    "list1 = [1, 2, 3, 4, 5]\n",
    "list2 = ['я', 'забрался', 'под', 'кровать']\n",
    "print(list1 + list2)"
   ]
  },
  {
   "cell_type": "code",
   "execution_count": null,
   "id": "98eaddb1-8186-4170-9203-236cb7141377",
   "metadata": {},
   "outputs": [],
   "source": [
    "1"
   ]
  },
  {
   "cell_type": "code",
   "execution_count": 17,
   "id": "2d04d898-5237-4b57-a6de-1513a46a0249",
   "metadata": {},
   "outputs": [
    {
     "name": "stdout",
     "output_type": "stream",
     "text": [
      "[1, 2, 1, 2, 1, 2, 1, 2, 1, 2]\n"
     ]
    }
   ],
   "source": [
    "list1 = [1, 2]\n",
    "print(list1 * 5)"
   ]
  },
  {
   "cell_type": "code",
   "execution_count": null,
   "id": "e00f6116-9111-4c9e-a1e5-6977f219c824",
   "metadata": {},
   "outputs": [],
   "source": [
    "1"
   ]
  },
  {
   "cell_type": "code",
   "execution_count": 2,
   "id": "8f7f3701-4afc-417a-9813-0e90333e2d80",
   "metadata": {},
   "outputs": [],
   "source": [
    "favorite_sports = ['Ральф Уильямс, Футбол', \n",
    "'Майкл Типпетт, Баскетбол',\n",
    "'Эдвард Элгар, Бейсбол',\n",
    "'Ребекка Кларк, Нетбол', \n",
    "'Этель Смит, Бадминтон', 'Фрэнк Бридж, Регби'] "
   ]
  },
  {
   "cell_type": "code",
   "execution_count": 3,
   "id": "1747f932-5a67-4b83-8c20-ab1920b3d15c",
   "metadata": {},
   "outputs": [],
   "source": [
    "favorite_sports = {'Ральф Уильямс': 'Футбол', 'Майкл Типпетт': 'Баскетбол',\n",
    "'Эдвард Элгар': 'Бейсбол',\n",
    "'Ребекка Кларк': 'Нетбол', \n",
    "'Этель Смит': 'Бадминтон', 'Фрэнк Бридж': 'Регби'} "
   ]
  },
  {
   "cell_type": "code",
   "execution_count": 4,
   "id": "4d7e219e-1473-441c-9139-67bffc07dbae",
   "metadata": {},
   "outputs": [
    {
     "name": "stdout",
     "output_type": "stream",
     "text": [
      "Нетбол\n"
     ]
    }
   ],
   "source": [
    "print(favorite_sports['Ребекка Кларк'])"
   ]
  },
  {
   "cell_type": "code",
   "execution_count": null,
   "id": "b37db935-89fd-4699-8edf-43a8475a7b93",
   "metadata": {},
   "outputs": [],
   "source": [
    "1"
   ]
  },
  {
   "cell_type": "code",
   "execution_count": 5,
   "id": "a851808a-efec-4dfa-8996-ac4b514202e0",
   "metadata": {},
   "outputs": [
    {
     "name": "stdout",
     "output_type": "stream",
     "text": [
      "{'Ральф Уильямс': 'Футбол', 'Майкл Типпетт': 'Баскетбол', 'Эдвард Элгар': 'Бейсбол', 'Ребекка Кларк': 'Нетбол', 'Фрэнк Бридж': 'Регби'}\n"
     ]
    }
   ],
   "source": [
    "del favorite_sports['Этель Смит']\n",
    "print(favorite_sports)"
   ]
  },
  {
   "cell_type": "code",
   "execution_count": null,
   "id": "5e8f3bef-f13d-4edc-9d67-b91f6dd169d6",
   "metadata": {},
   "outputs": [],
   "source": [
    "1"
   ]
  },
  {
   "cell_type": "code",
   "execution_count": 6,
   "id": "0df336a0-d9e3-4745-9b8a-0df3ac9e9299",
   "metadata": {},
   "outputs": [
    {
     "name": "stdout",
     "output_type": "stream",
     "text": [
      "{'Ральф Уильямс': 'Хоккей нальду', 'Майкл Типпетт': 'Баскетбол', 'Эдвард Элгар': 'Бейсбол', 'Ребекка Кларк': 'Нетбол', 'Фрэнк Бридж': 'Регби'}\n"
     ]
    }
   ],
   "source": [
    "favorite_sports['Ральф Уильямс'] = 'Хоккей нальду'\n",
    "print(favorite_sports)"
   ]
  },
  {
   "cell_type": "code",
   "execution_count": null,
   "id": "fe564371-ef09-4f53-b55e-7ed964bb6e07",
   "metadata": {},
   "outputs": [],
   "source": [
    "1"
   ]
  },
  {
   "cell_type": "code",
   "execution_count": 7,
   "id": "6da93e6f-6bb9-4018-8f77-177ffc525752",
   "metadata": {},
   "outputs": [],
   "source": [
    "age = 13\n",
    "if age > 20:\n",
    "    print('Как-то вы староваты!')"
   ]
  },
  {
   "cell_type": "code",
   "execution_count": null,
   "id": "8827295b-cbe1-44cc-9715-fa7c99b3b5c6",
   "metadata": {},
   "outputs": [],
   "source": [
    "1"
   ]
  },
  {
   "cell_type": "code",
   "execution_count": 8,
   "id": "c832b6d6-e359-4128-abfd-13cd39adc09c",
   "metadata": {},
   "outputs": [],
   "source": [
    "age = 10\n",
    "if age > 10:\n",
    "    print('Вы слишком стары для моих шуток!')"
   ]
  },
  {
   "cell_type": "code",
   "execution_count": null,
   "id": "a71e9f88-f543-4c5b-8039-7071cb9591fc",
   "metadata": {},
   "outputs": [],
   "source": [
    "1"
   ]
  },
  {
   "cell_type": "code",
   "execution_count": 9,
   "id": "a90194bf-56f7-496e-a23f-531409413479",
   "metadata": {},
   "outputs": [
    {
     "name": "stdout",
     "output_type": "stream",
     "text": [
      "Тсс! Это секрет.\n"
     ]
    }
   ],
   "source": [
    "age = 8\n",
    "if age == 12:\n",
    "    print(\"Свинья шлепнулась в грязь!\")\n",
    "else:\n",
    "    print(\"Тсс! Это секрет.\")"
   ]
  },
  {
   "cell_type": "code",
   "execution_count": null,
   "id": "996d8441-92ee-48cd-9701-cfc711c64a2f",
   "metadata": {},
   "outputs": [],
   "source": [
    "1"
   ]
  },
  {
   "cell_type": "code",
   "execution_count": 10,
   "id": "9594e354-680e-4b94-a22f-4cffe433735c",
   "metadata": {},
   "outputs": [
    {
     "name": "stdout",
     "output_type": "stream",
     "text": [
      "Что сказал 0 числу 8?\n",
      "Привет, ребята!\n",
      "13 + 49 + 84 + 155 + 97: что получится? Головная боль!\n"
     ]
    }
   ],
   "source": [
    "age = 12\n",
    "if age == 10:\n",
    "    print(\"Что выйдет, если клюква наденет штаны?\")\n",
    "    print(\"Брюква!\")\n",
    "elif age == 11:\n",
    "    print(\"Что сказала зеленая виноградина синей виноградине?\")\n",
    "    print(\"Дыши! Дыши!\") \n",
    "elif age == 12:\n",
    "    print(\"Что сказал 0 числу 8?\")\n",
    "    print(\"Привет, ребята!\")\n",
    "elif age == 13:\n",
    "    print(\"Что такое: напотолке сидит ихохочет?\")\n",
    "    print(\"Муха-хохотуха!\") \n",
    "else: \n",
    "    print(\"Что-что?\")\n",
    "if age == 10 or age == 11 or age == 12 or age == 13:\n",
    "    print('13 + 49 + 84 + 155 + 97: что получится? Головная боль!') \n",
    "else: \n",
    "    print('Что-что?')"
   ]
  },
  {
   "cell_type": "code",
   "execution_count": null,
   "id": "6041216c-c5f2-457c-9c8b-0fa5bebc809e",
   "metadata": {},
   "outputs": [],
   "source": [
    "1"
   ]
  },
  {
   "cell_type": "code",
   "execution_count": 11,
   "id": "f1f2089a-bdc6-41a3-9bff-3a85344d8e19",
   "metadata": {},
   "outputs": [
    {
     "name": "stdout",
     "output_type": "stream",
     "text": [
      "13 + 49 + 84 + 155 + 97: что получится? Головная боль!\n"
     ]
    }
   ],
   "source": [
    "if age >= 10 and age <= 13:\n",
    "    print('13 + 49 + 84 + 155 + 97: что получится? Головная боль!') \n",
    "else: \n",
    "    print('Что-что?')"
   ]
  },
  {
   "cell_type": "code",
   "execution_count": null,
   "id": "eafbcb81-2845-40dd-afbd-9aae1af4a215",
   "metadata": {},
   "outputs": [],
   "source": [
    "1"
   ]
  },
  {
   "cell_type": "code",
   "execution_count": 12,
   "id": "d4977e74-5ddf-472b-ac31-7de2389351ac",
   "metadata": {},
   "outputs": [
    {
     "name": "stdout",
     "output_type": "stream",
     "text": [
      "None\n"
     ]
    }
   ],
   "source": [
    "myval = None\n",
    "print(myval)"
   ]
  },
  {
   "cell_type": "code",
   "execution_count": null,
   "id": "1e2d3bde-2b71-4f31-856b-f839aeaeceb3",
   "metadata": {},
   "outputs": [],
   "source": [
    "1"
   ]
  },
  {
   "cell_type": "code",
   "execution_count": 13,
   "id": "5fb3ba5b-51c9-476e-a192-2a15718eac8d",
   "metadata": {},
   "outputs": [
    {
     "name": "stdout",
     "output_type": "stream",
     "text": [
      "В переменной myval ничего нет\n"
     ]
    }
   ],
   "source": [
    "myval = None\n",
    "if myval == None:\n",
    "    print(\"В переменной myval ничего нет\")"
   ]
  },
  {
   "cell_type": "code",
   "execution_count": null,
   "id": "48d32113-a5ab-4d06-9ccd-7fede79a50f7",
   "metadata": {},
   "outputs": [],
   "source": [
    "1"
   ]
  },
  {
   "cell_type": "code",
   "execution_count": 14,
   "id": "8e87b8b2-30f3-4c18-be04-5f61285a4246",
   "metadata": {},
   "outputs": [
    {
     "name": "stdout",
     "output_type": "stream",
     "text": [
      "Как лучше всего общаться смонстром?\n",
      "Издалека!\n"
     ]
    }
   ],
   "source": [
    "age = 10\n",
    "if age == 10:\n",
    "    print(\"Как лучше всего общаться смонстром?\") \n",
    "    print(\"Издалека!\")"
   ]
  },
  {
   "cell_type": "code",
   "execution_count": null,
   "id": "cb3f1ffd-e7f7-47e8-9f24-9c7a9def7f8f",
   "metadata": {},
   "outputs": [],
   "source": [
    "1"
   ]
  },
  {
   "cell_type": "code",
   "execution_count": null,
   "id": "5158580e-3ac5-44e4-b1d9-af43102e4c26",
   "metadata": {},
   "outputs": [],
   "source": [
    "age = '10'\n",
    "if age == 10:\n",
    "    print(\"Как лучше всего общаться смонстром?\")\n",
    "    print(\"Издалека!\") "
   ]
  },
  {
   "cell_type": "code",
   "execution_count": null,
   "id": "2a5843c3-f4fb-4bc7-95ae-fff3b0cac933",
   "metadata": {},
   "outputs": [],
   "source": [
    "1"
   ]
  },
  {
   "cell_type": "code",
   "execution_count": 17,
   "id": "b3044349-80d6-4118-a303-83714f06bc5e",
   "metadata": {},
   "outputs": [],
   "source": [
    "age = '10'\n",
    "converted_age = int(age)"
   ]
  },
  {
   "cell_type": "code",
   "execution_count": 18,
   "id": "fec6ed90-2240-455e-88ca-e9a8c7721197",
   "metadata": {},
   "outputs": [],
   "source": [
    "age = 10 \n",
    "converted_age = str(age)"
   ]
  },
  {
   "cell_type": "code",
   "execution_count": 19,
   "id": "3ac19ce6-1605-4cb8-a4bb-72a76eb5e754",
   "metadata": {},
   "outputs": [],
   "source": [
    "age = '10'\n",
    "converted_age = int(age)"
   ]
  },
  {
   "cell_type": "code",
   "execution_count": 20,
   "id": "61de8f4f-83b9-476f-80a5-eb4aebed83cc",
   "metadata": {},
   "outputs": [
    {
     "name": "stdout",
     "output_type": "stream",
     "text": [
      "Как лучше всего общаться смонстром?\n",
      "Издалека!\n"
     ]
    }
   ],
   "source": [
    "if converted_age == 10:\n",
    "    print(\"Как лучше всего общаться смонстром?\")\n",
    "    print(\"Издалека!\") "
   ]
  },
  {
   "cell_type": "code",
   "execution_count": null,
   "id": "bcfa5f27-ae93-4890-a5dd-955d5b316b2b",
   "metadata": {},
   "outputs": [],
   "source": [
    "1"
   ]
  },
  {
   "cell_type": "code",
   "execution_count": 21,
   "id": "19fb4075-a1e4-4fa5-9215-05d7356ac506",
   "metadata": {},
   "outputs": [
    {
     "ename": "ValueError",
     "evalue": "invalid literal for int() with base 10: '10.5'",
     "output_type": "error",
     "traceback": [
      "\u001b[0;31m---------------------------------------------------------------------------\u001b[0m",
      "\u001b[0;31mValueError\u001b[0m                                Traceback (most recent call last)",
      "Cell \u001b[0;32mIn[21], line 2\u001b[0m\n\u001b[1;32m      1\u001b[0m age \u001b[38;5;241m=\u001b[39m \u001b[38;5;124m'\u001b[39m\u001b[38;5;124m10.5\u001b[39m\u001b[38;5;124m'\u001b[39m\n\u001b[0;32m----> 2\u001b[0m converted_age \u001b[38;5;241m=\u001b[39m \u001b[38;5;28;43mint\u001b[39;49m\u001b[43m(\u001b[49m\u001b[43mage\u001b[49m\u001b[43m)\u001b[49m\n",
      "\u001b[0;31mValueError\u001b[0m: invalid literal for int() with base 10: '10.5'"
     ]
    }
   ],
   "source": [
    "age = '10.5'\n",
    "converted_age = int(age)"
   ]
  },
  {
   "cell_type": "code",
   "execution_count": null,
   "id": "dbc78eb7-b596-4fc8-9302-aa9cac643f37",
   "metadata": {},
   "outputs": [],
   "source": [
    "1"
   ]
  },
  {
   "cell_type": "code",
   "execution_count": 22,
   "id": "2469ba09-943d-4915-94d3-9f17148467cb",
   "metadata": {},
   "outputs": [
    {
     "name": "stdout",
     "output_type": "stream",
     "text": [
      "10.5\n"
     ]
    }
   ],
   "source": [
    "age = '10.5'\n",
    "converted_age = float(age)\n",
    "print(converted_age)"
   ]
  },
  {
   "cell_type": "code",
   "execution_count": null,
   "id": "56618a26-ef4a-488c-8fe7-02722f999376",
   "metadata": {},
   "outputs": [],
   "source": [
    "1"
   ]
  },
  {
   "cell_type": "code",
   "execution_count": 23,
   "id": "66078443-9016-4a93-bf61-4709de8f2959",
   "metadata": {},
   "outputs": [
    {
     "ename": "ValueError",
     "evalue": "invalid literal for int() with base 10: 'десять'",
     "output_type": "error",
     "traceback": [
      "\u001b[0;31m---------------------------------------------------------------------------\u001b[0m",
      "\u001b[0;31mValueError\u001b[0m                                Traceback (most recent call last)",
      "Cell \u001b[0;32mIn[23], line 2\u001b[0m\n\u001b[1;32m      1\u001b[0m age \u001b[38;5;241m=\u001b[39m \u001b[38;5;124m'\u001b[39m\u001b[38;5;124mдесять\u001b[39m\u001b[38;5;124m'\u001b[39m\n\u001b[0;32m----> 2\u001b[0m converted_age \u001b[38;5;241m=\u001b[39m \u001b[38;5;28;43mint\u001b[39;49m\u001b[43m(\u001b[49m\u001b[43mage\u001b[49m\u001b[43m)\u001b[49m\n",
      "\u001b[0;31mValueError\u001b[0m: invalid literal for int() with base 10: 'десять'"
     ]
    }
   ],
   "source": [
    "age = 'десять'\n",
    "converted_age = int(age)"
   ]
  },
  {
   "cell_type": "code",
   "execution_count": null,
   "id": "e3f18f30-160e-43e0-9227-c1a2eaf97352",
   "metadata": {},
   "outputs": [],
   "source": [
    "1"
   ]
  },
  {
   "cell_type": "code",
   "execution_count": 24,
   "id": "865a9fc5-1b4f-430b-805a-1da856a01b8d",
   "metadata": {},
   "outputs": [
    {
     "name": "stdout",
     "output_type": "stream",
     "text": [
      "привет\n",
      "привет\n",
      "привет\n",
      "привет\n",
      "привет\n"
     ]
    }
   ],
   "source": [
    "for x in range(0, 5): \n",
    "    print('привет')"
   ]
  },
  {
   "cell_type": "code",
   "execution_count": null,
   "id": "0b01d49e-ea25-4241-9fb5-63cd717e0d08",
   "metadata": {},
   "outputs": [],
   "source": [
    "1"
   ]
  },
  {
   "cell_type": "code",
   "execution_count": 25,
   "id": "b6917883-2349-471e-8749-0447f68efee7",
   "metadata": {},
   "outputs": [
    {
     "name": "stdout",
     "output_type": "stream",
     "text": [
      "[10, 11, 12, 13, 14, 15, 16, 17, 18, 19]\n"
     ]
    }
   ],
   "source": [
    "print(list(range(10, 20)))"
   ]
  },
  {
   "cell_type": "code",
   "execution_count": null,
   "id": "14a9a540-1002-4080-a5db-9a60b5f9a5a3",
   "metadata": {},
   "outputs": [],
   "source": [
    "1"
   ]
  },
  {
   "cell_type": "code",
   "execution_count": 26,
   "id": "cbcad933-c227-469c-850b-16cb9520b4b0",
   "metadata": {},
   "outputs": [
    {
     "name": "stdout",
     "output_type": "stream",
     "text": [
      "привет 0\n",
      "привет 1\n",
      "привет 2\n",
      "привет 3\n",
      "привет 4\n"
     ]
    }
   ],
   "source": [
    "for x in range(0, 5):\n",
    "    print('привет %s' % x)"
   ]
  },
  {
   "cell_type": "code",
   "execution_count": null,
   "id": "1b036fb7-a573-46f7-b072-e5fa13af48c8",
   "metadata": {},
   "outputs": [],
   "source": [
    "1"
   ]
  },
  {
   "cell_type": "code",
   "execution_count": 27,
   "id": "0d76b23e-019c-4efe-a956-41039d623d6c",
   "metadata": {},
   "outputs": [
    {
     "name": "stdout",
     "output_type": "stream",
     "text": [
      "паучьи лапки\n",
      "жабий палец\n",
      "язык улитки\n",
      "крыло летучей мыши\n",
      "жир слизня\n",
      "медвежий коготь\n"
     ]
    }
   ],
   "source": [
    "wizard_list = ['паучьи лапки', 'жабий палец', 'язык улитки', 'крыло летучей мыши', 'жир слизня', 'медвежий коготь'] \n",
    "for i in wizard_list:\n",
    "    print(i)"
   ]
  },
  {
   "cell_type": "code",
   "execution_count": null,
   "id": "33311237-e7e5-4047-a9e9-1ab7294cb7fd",
   "metadata": {},
   "outputs": [],
   "source": [
    "1"
   ]
  },
  {
   "cell_type": "code",
   "execution_count": 28,
   "id": "0071c4d9-1943-48d8-82fe-5c0632f84f7b",
   "metadata": {},
   "outputs": [
    {
     "name": "stdout",
     "output_type": "stream",
     "text": [
      "огромные\n",
      "огромные\n",
      "волосатые\n",
      "штаны\n",
      "волосатые\n",
      "огромные\n",
      "волосатые\n",
      "штаны\n",
      "штаны\n",
      "огромные\n",
      "волосатые\n",
      "штаны\n"
     ]
    }
   ],
   "source": [
    "hugehairypants = ['огромные', 'волосатые', 'штаны']\n",
    "for i in hugehairypants:\n",
    "    print(i)\n",
    "    for j in hugehairypants:\n",
    "        print(j)"
   ]
  },
  {
   "cell_type": "code",
   "execution_count": null,
   "id": "14418d4b-37ee-4781-a6c2-c3164f61d7d7",
   "metadata": {},
   "outputs": [],
   "source": [
    "2"
   ]
  },
  {
   "cell_type": "code",
   "execution_count": 30,
   "id": "872466e6-cd54-4944-9821-6d8d5b99608c",
   "metadata": {},
   "outputs": [
    {
     "name": "stdout",
     "output_type": "stream",
     "text": [
      "Неделя 1 = 87\n",
      "Неделя 2 = 154\n",
      "Неделя 3 = 221\n",
      "Неделя 4 = 288\n"
     ]
    }
   ],
   "source": [
    "found_coins = 20\n",
    "magic_coins = 70\n",
    "stolen_coins = 3\n",
    "coins = found_coins\n",
    "for week in range(1, 5):\n",
    "        coins = coins + magic_coins - stolen_coins\n",
    "        print('Неделя %s = %s' % (week, coins))"
   ]
  },
  {
   "cell_type": "code",
   "execution_count": null,
   "id": "db35d26c-5b04-4e70-8034-021957cef393",
   "metadata": {},
   "outputs": [],
   "source": [
    "2"
   ]
  },
  {
   "cell_type": "code",
   "execution_count": 31,
   "id": "0f33fb23-5a0b-46c6-b5af-b9af59134a71",
   "metadata": {},
   "outputs": [
    {
     "name": "stdout",
     "output_type": "stream",
     "text": [
      "46 81\n",
      "47 82\n",
      "48 83\n",
      "49 84\n",
      "50 85\n"
     ]
    }
   ],
   "source": [
    "x = 45\n",
    "y = 80\n",
    "while x < 50 and y < 100: \n",
    "    x=x+ 1\n",
    "    y=y+ 1 \n",
    "    print(x, y) "
   ]
  },
  {
   "cell_type": "code",
   "execution_count": null,
   "id": "69fbcd43-7b35-45f9-8d87-35be893d0698",
   "metadata": {},
   "outputs": [],
   "source": [
    "1"
   ]
  },
  {
   "cell_type": "code",
   "execution_count": 32,
   "id": "d4d3f356-9f38-46c3-970b-04f981e77c83",
   "metadata": {},
   "outputs": [
    {
     "name": "stdout",
     "output_type": "stream",
     "text": [
      "привет 0\n"
     ]
    }
   ],
   "source": [
    "for x in range(0, 20):\n",
    "    print('привет %s' % x)\n",
    "    if x < 9:\n",
    "        break "
   ]
  },
  {
   "cell_type": "code",
   "execution_count": null,
   "id": "f416b80a-135c-4ba4-85ec-dda51d531b64",
   "metadata": {},
   "outputs": [],
   "source": [
    "1"
   ]
  },
  {
   "cell_type": "code",
   "execution_count": 33,
   "id": "8440985f-56fc-42f3-9543-91c28caef012",
   "metadata": {},
   "outputs": [
    {
     "name": "stdout",
     "output_type": "stream",
     "text": [
      "Привет, Мэри\n"
     ]
    }
   ],
   "source": [
    "def testfunc(myname):\n",
    "              print('Привет, %s' % myname)\n",
    "testfunc('Мэри')"
   ]
  },
  {
   "cell_type": "code",
   "execution_count": null,
   "id": "93c75c68-4dca-4fd1-8c04-54ff813cac63",
   "metadata": {},
   "outputs": [],
   "source": [
    "1"
   ]
  },
  {
   "cell_type": "code",
   "execution_count": 34,
   "id": "fec7c5b0-b30e-4063-9a27-b8a3f9330486",
   "metadata": {},
   "outputs": [
    {
     "name": "stdout",
     "output_type": "stream",
     "text": [
      "Привет, Мэри Смит\n"
     ]
    }
   ],
   "source": [
    "def testfunc(fname, lname):\n",
    "              print('Привет, %s %s' % (fname, lname))\n",
    "testfunc('Мэри', 'Смит')"
   ]
  },
  {
   "cell_type": "code",
   "execution_count": null,
   "id": "0ac7cbe3-dcf0-4c53-a833-08f138d9c093",
   "metadata": {},
   "outputs": [],
   "source": [
    "1"
   ]
  },
  {
   "cell_type": "code",
   "execution_count": 36,
   "id": "e3ed37cd-0d92-4927-8445-3a67b2694283",
   "metadata": {},
   "outputs": [
    {
     "name": "stdout",
     "output_type": "stream",
     "text": [
      "15\n"
     ]
    }
   ],
   "source": [
    "def savings(pocket_money, paper_route, spending):\n",
    "              return pocket_money + paper_route - spending\n",
    "print(savings(10, 10, 5))"
   ]
  },
  {
   "cell_type": "code",
   "execution_count": null,
   "id": "5e6fc815-4ad0-410a-94e6-659c1a7f8b30",
   "metadata": {},
   "outputs": [],
   "source": [
    "1"
   ]
  },
  {
   "cell_type": "code",
   "execution_count": 37,
   "id": "fc7e9939-e6cf-4a36-93fe-5424e5da0e70",
   "metadata": {},
   "outputs": [
    {
     "name": "stdout",
     "output_type": "stream",
     "text": [
      "Wed Mar 13 16:59:23 2024\n"
     ]
    }
   ],
   "source": [
    "import time\n",
    "print(time.asctime())"
   ]
  },
  {
   "cell_type": "code",
   "execution_count": null,
   "id": "386b9724-bf52-4fc3-9403-9a78bc93249c",
   "metadata": {},
   "outputs": [],
   "source": [
    "2"
   ]
  }
 ],
 "metadata": {
  "kernelspec": {
   "display_name": "Python 3 (ipykernel)",
   "language": "python",
   "name": "python3"
  },
  "language_info": {
   "codemirror_mode": {
    "name": "ipython",
    "version": 3
   },
   "file_extension": ".py",
   "mimetype": "text/x-python",
   "name": "python",
   "nbconvert_exporter": "python",
   "pygments_lexer": "ipython3",
   "version": "3.10.10"
  }
 },
 "nbformat": 4,
 "nbformat_minor": 5
}
