{
 "cells": [
  {
   "cell_type": "code",
   "execution_count": null,
   "id": "5151880a-89a1-4678-8b8d-9c3842abba38",
   "metadata": {},
   "outputs": [],
   "source": [
    "Вычислить результат следующих операций:\n",
    "10 * (5 + 3)\n",
    "(20 - 6) / 2\n",
    "2 ** 5 (возведение 2 в 5-ю степень)\n",
    "25 // 4 (целая часть от деления)\n",
    "25 % 4 (остаток от деления)\n"
   ]
  },
  {
   "cell_type": "code",
   "execution_count": 4,
   "id": "bfc43d43-9fc2-4ee8-9fb7-39fb022be595",
   "metadata": {},
   "outputs": [
    {
     "name": "stdout",
     "output_type": "stream",
     "text": [
      "80\n"
     ]
    }
   ],
   "source": [
    "S = 10 * (5 + 3)\n",
    "print (S)"
   ]
  },
  {
   "cell_type": "code",
   "execution_count": 6,
   "id": "392a0238-02b2-428b-8049-db28d40d10df",
   "metadata": {},
   "outputs": [
    {
     "name": "stdout",
     "output_type": "stream",
     "text": [
      "7.0\n"
     ]
    }
   ],
   "source": [
    "S = (20 - 6) / 2\n",
    "print (S)"
   ]
  },
  {
   "cell_type": "code",
   "execution_count": 7,
   "id": "60ffa94c-e3b8-40ea-b832-18e956879af2",
   "metadata": {
    "scrolled": true
   },
   "outputs": [
    {
     "name": "stdout",
     "output_type": "stream",
     "text": [
      "32\n"
     ]
    }
   ],
   "source": [
    "S = 2 ** 5\n",
    "print (S)"
   ]
  },
  {
   "cell_type": "code",
   "execution_count": 8,
   "id": "50ddf859-e851-41e8-8398-94f637804f18",
   "metadata": {},
   "outputs": [
    {
     "name": "stdout",
     "output_type": "stream",
     "text": [
      "6\n"
     ]
    }
   ],
   "source": [
    "S = 25 // 4\n",
    "print (S)"
   ]
  },
  {
   "cell_type": "code",
   "execution_count": 9,
   "id": "70ffb54a-5454-4c47-9d3f-cce98fab83bc",
   "metadata": {},
   "outputs": [
    {
     "name": "stdout",
     "output_type": "stream",
     "text": [
      "1\n"
     ]
    }
   ],
   "source": [
    "S = 25 % 4\n",
    "print (S)"
   ]
  },
  {
   "cell_type": "code",
   "execution_count": null,
   "id": "fd3f5df2-d3d6-45a5-98b3-f6f702349928",
   "metadata": {},
   "outputs": [],
   "source": [
    "Дано дробное число:\n",
    "number = -3.14\n",
    "Выполнить следующие операции:\n",
    "Округлите число до целого.\n",
    "Возьмите остаток числа.\n"
   ]
  },
  {
   "cell_type": "code",
   "execution_count": 5,
   "id": "940e0ac0-8687-4337-9056-d733d3fdaa09",
   "metadata": {},
   "outputs": [
    {
     "name": "stdout",
     "output_type": "stream",
     "text": [
      "-3\n"
     ]
    }
   ],
   "source": [
    "number = -3.14\n",
    "print (int(number)) "
   ]
  },
  {
   "cell_type": "code",
   "execution_count": 16,
   "id": "3e128fe6-e2b7-4c48-9b1f-e4df4b985bd5",
   "metadata": {},
   "outputs": [
    {
     "name": "stdout",
     "output_type": "stream",
     "text": [
      "0.86\n"
     ]
    }
   ],
   "source": [
    "number = -3.14\n",
    "print (round((number%1.0),2)) # берем число и делим на единицу типа float и берем остаток "
   ]
  },
  {
   "cell_type": "markdown",
   "id": "45ddae7b-206a-40af-bbce-7023173935a6",
   "metadata": {},
   "source": [
    "Даны стороны прямоугольника: a = 5, b = 7.\n",
    "Вычислить площадь прямоугольника и вывести результат на экран.\n"
   ]
  },
  {
   "cell_type": "code",
   "execution_count": 12,
   "id": "d4eaf7c7-9f5d-4a0a-8f8b-d0ca5214d53d",
   "metadata": {},
   "outputs": [
    {
     "name": "stdout",
     "output_type": "stream",
     "text": [
      "35\n"
     ]
    }
   ],
   "source": [
    "a = 5\n",
    "b = 7\n",
    "S = a * b #учебник по математике 3 класс\n",
    "print (S)"
   ]
  },
  {
   "cell_type": "code",
   "execution_count": null,
   "id": "8e994483-9027-4974-9861-28661f0a195e",
   "metadata": {},
   "outputs": [],
   "source": [
    "На какой обьем воздуха должен быть расчитан кондиционер, если с его помощью хотят охлаждать квартиру \n",
    "в которой размер гостинной 3.5 на 6.4 метра, спальни 3.4 на 4 метра и площадь не жилой части 11 метров. \n",
    "При том что высота потолков 3,1 метр."
   ]
  },
  {
   "cell_type": "code",
   "execution_count": 17,
   "id": "fa18a201-9fc5-4f3d-b258-c1e0254e6c41",
   "metadata": {},
   "outputs": [
    {
     "name": "stdout",
     "output_type": "stream",
     "text": [
      "122.6\n"
     ]
    }
   ],
   "source": [
    "livng_room_length = 6.4\n",
    "living_room_width = 3.5\n",
    "bedroom_length = 3.4\n",
    "bedroom_width = 4\n",
    "closet_square = 11\n",
    "height = 3.1\n",
    "air_volume = height*((livng_room_length*living_room_width)+(bedroom_length*bedroom_width)) + closet_square\n",
    "print(round(air_volume,2)) #перемножаем высоту на площадь гостинной и спальни добавляем площадь нежилого помещения (уточнить!)\n",
    "\n"
   ]
  },
  {
   "cell_type": "code",
   "execution_count": null,
   "id": "bbec23bb-0c3c-4077-aa4f-bcdaed1bbde3",
   "metadata": {},
   "outputs": [],
   "source": [
    "Дано квадратное уравнение вида ax^2 + bx + c = 0.\n",
    "Найти его решения, используя формулу дискриминанта.\n",
    "a номер текущего месяца\n",
    "b номер вашей группы\n",
    "c минус десять (-10)\n"
   ]
  },
  {
   "cell_type": "code",
   "execution_count": 29,
   "id": "09c121ae-c850-439c-ba72-f00e61a0ef01",
   "metadata": {},
   "outputs": [
    {
     "name": "stdout",
     "output_type": "stream",
     "text": [
      "Корень уравнения 1 = 0.92   Корень уравнения 2 = -5.42\n"
     ]
    }
   ],
   "source": [
    "a = 2\n",
    "b = 9 \n",
    "c= -10\n",
    "descriminant = b**2 - 4*a*c \n",
    "if descriminant > 0:\n",
    "        x1 = (-b + descriminant**0.5) / (2*a)\n",
    "        x2 = (-b - descriminant**0.5) / (2*a)\n",
    "        print ('Корень уравнения 1 = ' + str(round(x1,2)) + '   ' + 'Корень уравнения 2 = ' + str(round(x2,2)))\n",
    "elif descriminant == 0:\n",
    "        x1 = -b / (2*a)\n",
    "        print ('Корень уравнения ' + str(x1))\n",
    "else:\n",
    "        print ('Корней нет')"
   ]
  },
  {
   "cell_type": "code",
   "execution_count": null,
   "id": "f854ddbc-74f2-4515-aadb-6fd324009eb3",
   "metadata": {},
   "outputs": [],
   "source": [
    "Даны строки:\n",
    "string1 = \"hello, \"\n",
    "string2 = \"world!\"\n",
    "Объединить строки string1 и string2 и результат вывести на экран так чтобы первая буква в предложент стала заглавной.\n",
    "\n",
    "Сколько символов было в предыдущей строке?"
   ]
  },
  {
   "cell_type": "code",
   "execution_count": 35,
   "id": "5e1ef32c-a272-49ac-9fda-13252ac92794",
   "metadata": {},
   "outputs": [
    {
     "name": "stdout",
     "output_type": "stream",
     "text": [
      "Hello, world!\n",
      "Длина строки = 13\n"
     ]
    }
   ],
   "source": [
    "string1 = \"hello, \"\n",
    "string2 = \"world!\"\n",
    "result = (string1 + string2) #конкотинация строк\n",
    "print(result.capitalize()) #выводим результат с заглавным первым символом\n",
    "print('Длина строки = ' + str(len(result)))"
   ]
  },
  {
   "cell_type": "code",
   "execution_count": null,
   "id": "7ca811bd-1824-4842-87d4-68caa6d1bd14",
   "metadata": {},
   "outputs": [],
   "source": [
    "Выведите на экран строку la 25 раз."
   ]
  },
  {
   "cell_type": "code",
   "execution_count": 42,
   "id": "5a4e3330-354a-4b24-ba4c-2ecf12b4ab84",
   "metadata": {},
   "outputs": [
    {
     "name": "stdout",
     "output_type": "stream",
     "text": [
      "la \n",
      "la \n",
      "la \n",
      "la \n",
      "la \n",
      "la \n",
      "la \n",
      "la \n",
      "la \n",
      "la \n",
      "la \n",
      "la \n",
      "la \n",
      "la \n",
      "la \n",
      "la \n",
      "la \n",
      "la \n",
      "la \n",
      "la \n",
      "la \n",
      "la \n",
      "la \n",
      "la \n",
      "la \n",
      "\n"
     ]
    }
   ],
   "source": [
    "print(('la ' + \"\\n\") * 25)"
   ]
  },
  {
   "cell_type": "code",
   "execution_count": null,
   "id": "d788a242-f2ef-4f59-836f-0dc561e3e657",
   "metadata": {},
   "outputs": [],
   "source": [
    "Дан список чисел:\n",
    "numbers = [1, 2, 3, 4, 5]\n",
    "Выполнить следующие операции:\n",
    "1. Измените число 2 на строку \"hi\" \n",
    "2. Выведите значение, находящееся на позиции 2.\n",
    "3. Изменить значение на позиции 4 на список из 3 элементов [8, 6, 4].\n",
    "Результаты вывести на экран.\n"
   ]
  },
  {
   "cell_type": "code",
   "execution_count": 44,
   "id": "95c6738c-6853-413c-a32f-7232d2b04c0b",
   "metadata": {},
   "outputs": [
    {
     "name": "stdout",
     "output_type": "stream",
     "text": [
      "hi\n",
      "[1, 'hi', 3, [8, 6, 4], 5]\n"
     ]
    }
   ],
   "source": [
    "numbers = [1, 2, 3, 4, 5]\n",
    "numbers[1] = \"hi\" \n",
    "print (numbers[1])\n",
    "numbers[3] = [8, 6, 4]\n",
    "print (numbers)"
   ]
  },
  {
   "cell_type": "code",
   "execution_count": null,
   "id": "f1de8934-7184-4054-88de-6e28bf59a8c9",
   "metadata": {},
   "outputs": [],
   "source": [
    "Дан список чисел:\n",
    "numbers = [1, 2, 3, 4, 5, 6, 7, 8, 9, 10]\n",
    "Извлеките подсписок с 3-го по 7-й элемент включительно.\n"
   ]
  },
  {
   "cell_type": "code",
   "execution_count": 48,
   "id": "7fa287bf-e79e-4ae6-b321-b3cccc40823a",
   "metadata": {},
   "outputs": [
    {
     "name": "stdout",
     "output_type": "stream",
     "text": [
      "[3, 4, 5, 6, 7]\n"
     ]
    }
   ],
   "source": [
    "numbers = [1, 2, 3, 4, 5, 6, 7, 8, 9, 10]\n",
    "n = 2\n",
    "new_numbers = []\n",
    "for i in range(5):\n",
    "    new_numbers.append(numbers[i+n])\n",
    "\n",
    "print(new_numbers)\n",
    "\n"
   ]
  },
  {
   "cell_type": "code",
   "execution_count": null,
   "id": "d53d5121-004d-4f7d-9d25-694bac9ea925",
   "metadata": {},
   "outputs": [],
   "source": []
  }
 ],
 "metadata": {
  "kernelspec": {
   "display_name": "Python 3 (ipykernel)",
   "language": "python",
   "name": "python3"
  },
  "language_info": {
   "codemirror_mode": {
    "name": "ipython",
    "version": 3
   },
   "file_extension": ".py",
   "mimetype": "text/x-python",
   "name": "python",
   "nbconvert_exporter": "python",
   "pygments_lexer": "ipython3",
   "version": "3.10.10"
  }
 },
 "nbformat": 4,
 "nbformat_minor": 5
}
