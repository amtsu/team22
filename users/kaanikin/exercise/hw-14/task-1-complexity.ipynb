{
 "cells": [
  {
   "cell_type": "markdown",
   "id": "ac94897bc01b610f",
   "metadata": {},
   "source": [
    "### Сложность алгоритмов\n",
    "\n",
    "    Определите асимптотическую сложность данной программы O(...).\n",
    "    Предложите способы уменьшения асимптотической сложности, если возможно.\n",
    "    Сложность методов встроенных структур данных python, поищите в интернете."
   ]
  },
  {
   "cell_type": "code",
   "execution_count": null,
   "id": "ed417262caef05ea",
   "metadata": {},
   "outputs": [],
   "source": [
    "# 1 Сосчитать количество уникальных элементов в списке\n",
    "\n",
    "def count_unique(values):\n",
    "    unique = set()\n",
    "    for value in values:\n",
    "        unique.add(value)\n",
    "    return len(unique)\n"
   ]
  },
  {
   "cell_type": "markdown",
   "id": "ed6b21b4-0008-4199-8877-772b0155984c",
   "metadata": {},
   "source": [
    "O(N), т.к. цикл for имеет сложность O(N), остальные операции O(1)"
   ]
  },
  {
   "cell_type": "code",
   "execution_count": null,
   "id": "58cc1efadd17f96f",
   "metadata": {},
   "outputs": [],
   "source": [
    "# 2 Найти дубликаты в списке\n",
    "\n",
    "def find_duplicates(arr):\n",
    "    duplicates = []\n",
    "    for i in range(len(arr)):\n",
    "        for j in range(i + 1, len(arr)):\n",
    "            if arr[i] == arr[j] and arr[i] not in duplicates:\n",
    "                duplicates.append(arr[i])\n",
    "    return duplicates\n"
   ]
  },
  {
   "cell_type": "markdown",
   "id": "41635c7e-2778-4d8d-b3f5-7c557ad20978",
   "metadata": {},
   "source": [
    "O(N^2),  т.к. имеем два вложенных цикла. Уходим к одному циклу, получаем O(N)"
   ]
  },
  {
   "cell_type": "code",
   "execution_count": null,
   "id": "9968afa9-9ae0-42c0-a9ac-0162f7122020",
   "metadata": {},
   "outputs": [],
   "source": [
    "def find_duplicates(arr):\n",
    "    duplicates = []\n",
    "    temp = set()\n",
    "    for element in arr:\n",
    "        if element in temp and element not in duplicates: # позволяет ублать цикл тк поиск O(n)\n",
    "            duplicates.append(element)\n",
    "        else:\n",
    "            temp.add(element)\n",
    "    return duplicates"
   ]
  },
  {
   "cell_type": "code",
   "execution_count": null,
   "id": "155f626a4df71f3b",
   "metadata": {},
   "outputs": [],
   "source": [
    "# 3 поиском троек чисел, которые в сумме дают ноль"
   ]
  },
  {
   "cell_type": "code",
   "execution_count": null,
   "id": "e11789817f8436c8",
   "metadata": {},
   "outputs": [],
   "source": [
    "def find_triplets(arr):\n",
    "    n = len(arr)\n",
    "    triplets = []\n",
    "    for i in range(n):\n",
    "        for j in range(i + 1, n):\n",
    "            for k in range(j + 1, n):\n",
    "                if arr[i] + arr[j] + arr[k] == 0:\n",
    "                    triplet = sorted([arr[i], arr[j], arr[k]])\n",
    "                    if triplet not in triplets:\n",
    "                        triplets.append(triplet)\n",
    "    return triplets"
   ]
  },
  {
   "cell_type": "markdown",
   "id": "42a5cd4d-09dd-4527-9f6e-d7ce0e866b47",
   "metadata": {},
   "source": [
    "O(N^3), т.к. три вложенных цикла"
   ]
  },
  {
   "cell_type": "code",
   "execution_count": null,
   "id": "8abe6982df6615e2",
   "metadata": {},
   "outputs": [],
   "source": [
    "# вычисления числа Фибоначчи\n",
    "def fibonacci(n):\n",
    "    if n <= 1:\n",
    "        return n\n",
    "    else:\n",
    "        return fibonacci(n-1) + fibonacci(n-2)"
   ]
  },
  {
   "cell_type": "markdown",
   "id": "3b9481df-3bd4-4d30-a44c-ccd86f4f9e60",
   "metadata": {},
   "source": [
    "O(2^n), из-за рекурсии. Если уйти от рекурсии к циклу, можно получить гораздо более дешевый алгоритм O(N)"
   ]
  },
  {
   "cell_type": "code",
   "execution_count": null,
   "id": "f7b8a614-f893-4a5a-ab92-d3ec058210bb",
   "metadata": {},
   "outputs": [],
   "source": [
    "def fibonacci(n):\n",
    "    fib1 = 1\n",
    "    fib2 = 1\n",
    "    \n",
    "    i = 0\n",
    "    while i < n - 2:\n",
    "        fib_sum = fib1 + fib2\n",
    "        fib1 = fib2\n",
    "        fib2 = fib_sum\n",
    "        i = i + 1\n",
    "    \n",
    "    return fib2"
   ]
  }
 ],
 "metadata": {
  "kernelspec": {
   "display_name": "Python 3 (ipykernel)",
   "language": "python",
   "name": "python3"
  },
  "language_info": {
   "codemirror_mode": {
    "name": "ipython",
    "version": 3
   },
   "file_extension": ".py",
   "mimetype": "text/x-python",
   "name": "python",
   "nbconvert_exporter": "python",
   "pygments_lexer": "ipython3",
   "version": "3.10.10"
  }
 },
 "nbformat": 4,
 "nbformat_minor": 5
}
