{
 "cells": [
  {
   "cell_type": "markdown",
   "id": "ef8c1d772546cb58",
   "metadata": {},
   "source": [
    "### Сортировка списков"
   ]
  },
  {
   "cell_type": "markdown",
   "id": "bfebc2b045f8d82a",
   "metadata": {},
   "source": []
  },
  {
   "cell_type": "markdown",
   "id": "41c848f20b9b94a6",
   "metadata": {},
   "source": [
    "1) Выучить наизусть сортировку пузырьком и быструю сортировку.\n",
    "2) Реализовать дополнительно 2 любые сортировки кроме вышеуказанных. Написать тесты на эти функции.\n",
    "3) Создать список из 10000 случайных чисел с плавающей запятой.\n",
    "4) Замерить и вывести время выполнения, пузырьком, быстрой сортировки, ваших 2 сортировок и встроенной сортировки python.\n",
    "5) Создать список из 20000 случайных чисел с плавающей запятой. Сравните как изменилось время выполнения. \n",
    "(если на вашем компьютере это выполняется слишком долго больше минуты или не хватает памяти возьмите меньшее число элементов, например 2000 / 4000)\n",
    "6) Сделайте выводы по результатам, они достаточно интересные. Если будут вопросы спросите преподавателя."
   ]
  },
  {
   "cell_type": "markdown",
   "id": "64605fb8-b37b-4df1-940d-e559a7cf6af6",
   "metadata": {},
   "source": [
    "## Сортировка пузырьком"
   ]
  },
  {
   "cell_type": "code",
   "execution_count": 3,
   "id": "84cacd3e-4260-41eb-9a7f-0c83238aec03",
   "metadata": {
    "scrolled": true
   },
   "outputs": [
    {
     "data": {
      "text/plain": [
       "[-10, -2, 1, 1, 4, 7, 9]"
      ]
     },
     "execution_count": 3,
     "metadata": {},
     "output_type": "execute_result"
    }
   ],
   "source": [
    "def bubble_sort(arr):\n",
    "    n = len(arr)\n",
    "    for i in range(n-1):\n",
    "        swapped = False\n",
    "        for j in range(0, n-i-1):\n",
    "            if arr[j] > arr[j + 1]:\n",
    "                swapped = True\n",
    "                arr[j], arr[j + 1] = arr[j + 1], arr[j]\n",
    "\n",
    "        if not swapped:\n",
    "           return arr\n",
    "\n",
    "data = [1, 7, 4, 1, -10, 9, -2]\n",
    " \n",
    "bubble_sort(data)"
   ]
  },
  {
   "cell_type": "markdown",
   "id": "df148373-5999-4cae-82f4-5851550faf26",
   "metadata": {},
   "source": [
    "## Быстрая сортировка"
   ]
  },
  {
   "cell_type": "code",
   "execution_count": 13,
   "id": "5d4e80a7-fd03-4fcd-8c93-c3e5c2b0751b",
   "metadata": {
    "scrolled": true
   },
   "outputs": [],
   "source": [
    "def quick_sort(A, l, r):\n",
    "    if l >= r:\n",
    "        return \n",
    "    else:\n",
    "        q = random.choice(A[l:r + 1]) \n",
    "        i = l\n",
    "        j = r\n",
    "        while i <= j:\n",
    "            while A[i] < q:\n",
    "                i += 1\n",
    "            while A[j] > q:\n",
    "                j -= 1\n",
    "            if i <= j:\n",
    "                A[i], A[j] = A[j], A[i]\n",
    "                i += 1\n",
    "                j -= 1\n",
    "        quick_sort(A, l, j)\n",
    "        quick_sort(A, i, r)\n",
    "    return A\n",
    "\n",
    " \n"
   ]
  },
  {
   "cell_type": "markdown",
   "id": "2de0fa50-1562-4208-a4fe-c715c4e954cb",
   "metadata": {},
   "source": [
    "## Сортировка слиянием"
   ]
  },
  {
   "cell_type": "code",
   "execution_count": 5,
   "id": "36ab29e0-4134-4f1b-a15e-3df5cc036ebd",
   "metadata": {},
   "outputs": [
    {
     "data": {
      "text/plain": [
       "[45, 68, 120, 176, 250]"
      ]
     },
     "execution_count": 5,
     "metadata": {},
     "output_type": "execute_result"
    }
   ],
   "source": [
    "def merge(left_list, right_list):  \n",
    "    sorted_list = []\n",
    "    left_list_index = right_list_index = 0\n",
    "\n",
    "    # Т. к. длина списков применяется часто, создадим для удобства переменные\n",
    "    left_list_length, right_list_length = len(left_list), len(right_list)\n",
    "\n",
    "    for _ in range(left_list_length + right_list_length):\n",
    "        if left_list_index < left_list_length and right_list_index < right_list_length:\n",
    "            # Сравниваем первые элементы в начале каждого списка\n",
    "            # Если 1-й элемент левого подсписка меньше, добавляем его\n",
    "            # в сортированный массив\n",
    "            if left_list[left_list_index] <= right_list[right_list_index]:\n",
    "                sorted_list.append(left_list[left_list_index])\n",
    "                left_list_index += 1\n",
    "            # Если 1-й элемент правого подсписка меньше, добавляем его\n",
    "            # в сортированный массив\n",
    "            else:\n",
    "                sorted_list.append(right_list[right_list_index])\n",
    "                right_list_index += 1\n",
    "\n",
    "        # Когда достигнут конец левого списка, добавляем элементы правого списка\n",
    "        # в конец результирующего списка\n",
    "        elif left_list_index == left_list_length:\n",
    "            sorted_list.append(right_list[right_list_index])\n",
    "            right_list_index += 1\n",
    "        # Когда достигнут конец правого списка, добавляем элементы левого списка\n",
    "        # в сортированный массив\n",
    "        elif right_list_index == right_list_length:\n",
    "            sorted_list.append(left_list[left_list_index])\n",
    "            left_list_index += 1\n",
    "\n",
    "    return sorted_list\n",
    "\n",
    "def merge_sort(nums):  \n",
    "    # Возвращаем список, когда он состоит из одного элемента\n",
    "    if len(nums) <= 1:\n",
    "        return nums\n",
    "\n",
    "    # Чтобы найти середину списка, применяем деление без остатка\n",
    "    # Индексы должны быть integer\n",
    "    mid = len(nums) // 2\n",
    "\n",
    "    # Сортируем и объединяем подсписки\n",
    "    left_list = merge_sort(nums[:mid])\n",
    "    right_list = merge_sort(nums[mid:])\n",
    "\n",
    "    # Объединяем сортированные списки в результирующий\n",
    "    return merge(left_list, right_list)\n",
    "\n",
    "# Проверяем, что всё работает\n",
    "data = [120, 45, 68, 250, 176]  \n",
    "merge_sort(data)  \n",
    "\n",
    "\n",
    "\n",
    " \n",
    " \n"
   ]
  },
  {
   "cell_type": "markdown",
   "id": "fd8d2204-c6eb-4a0a-aeb0-41571b93956e",
   "metadata": {},
   "source": [
    "## Сортировка вставкой"
   ]
  },
  {
   "cell_type": "code",
   "execution_count": 6,
   "id": "85b8b556-e751-4c5a-80a7-455787e63e5d",
   "metadata": {},
   "outputs": [
    {
     "data": {
      "text/plain": [
       "[5, 6, 11, 12, 13]"
      ]
     },
     "execution_count": 6,
     "metadata": {},
     "output_type": "execute_result"
    }
   ],
   "source": [
    "def insertion_sort(arr):\n",
    "    n = len(arr)  \n",
    "      \n",
    "    if n <= 1:\n",
    "        return  \n",
    " \n",
    "    for i in range(1, n):  \n",
    "        key = arr[i]  \n",
    "        j = i-1\n",
    "        while j >= 0 and key < arr[j]: \n",
    "            arr[j+1] = arr[j]  \n",
    "            j -= 1\n",
    "        arr[j+1] = key \n",
    "    return arr\n",
    "  \n",
    "\n",
    "data = [12, 11, 13, 5, 6]\n",
    "insertion_sort(data)\n"
   ]
  },
  {
   "cell_type": "markdown",
   "id": "eb13b78b-82c6-499e-b964-5a8f5e4be715",
   "metadata": {},
   "source": [
    "## Сортировка выбором"
   ]
  },
  {
   "cell_type": "code",
   "execution_count": 7,
   "id": "7b6ed9e7-0d24-48dd-8e9d-e18f767c881e",
   "metadata": {},
   "outputs": [
    {
     "data": {
      "text/plain": [
       "[-9, -2, 0, 11, 45]"
      ]
     },
     "execution_count": 7,
     "metadata": {},
     "output_type": "execute_result"
    }
   ],
   "source": [
    "def selection_sort(arr):\n",
    "    size = len(data)    \n",
    "    for step in range(size):\n",
    "        min_idx = step\n",
    "\n",
    "        for i in range(step + 1, size):\n",
    "         \n",
    "            # to sort in descending order, change > to < in this line\n",
    "            # select the minimum element in each loop\n",
    "            if arr[i] < arr[min_idx]:\n",
    "                min_idx = i\n",
    "         \n",
    "        # put min at the correct position\n",
    "        (arr[step], arr[min_idx]) = (arr[min_idx], arr[step])\n",
    "    return arr\n",
    "\n",
    "data = [-2, 45, 0, 11, -9]\n",
    "selection_sort(data)\n",
    "\n"
   ]
  },
  {
   "cell_type": "code",
   "execution_count": null,
   "id": "357a0a72-ce36-4be9-9e58-16ecd1cf90ed",
   "metadata": {},
   "outputs": [],
   "source": []
  },
  {
   "cell_type": "code",
   "execution_count": 8,
   "id": "d158a1e0-2bab-4479-b83d-d35238873e82",
   "metadata": {},
   "outputs": [
    {
     "ename": "SyntaxError",
     "evalue": "incomplete input (1497700599.py, line 5)",
     "output_type": "error",
     "traceback": [
      "\u001b[0;36m  Cell \u001b[0;32mIn[8], line 5\u001b[0;36m\u001b[0m\n\u001b[0;31m    \u001b[0m\n\u001b[0m    ^\u001b[0m\n\u001b[0;31mSyntaxError\u001b[0m\u001b[0;31m:\u001b[0m incomplete input\n"
     ]
    }
   ],
   "source": [
    "\n",
    "    "
   ]
  },
  {
   "cell_type": "code",
   "execution_count": 21,
   "id": "32399228-5307-4877-8758-fff2f3806cee",
   "metadata": {},
   "outputs": [],
   "source": [
    "import random\n",
    "import time\n",
    "\n",
    "def track_time(n):\n",
    "    random_floats = [random.uniform(0, 500) for i in range(n)]\n",
    "    \n",
    "    functions = [bubble_sort, quick_sort, merge_sort, insertion_sort, selection_sort]\n",
    "    \n",
    "    result_time = {}\n",
    "    for func in functions:\n",
    "        start_time = time.time()\n",
    "        if func.__name__ == 'quick_sort':\n",
    "            sorted_floats = func(random_floats, 0, len(random_floats)-1)\n",
    "        else: \n",
    "            sorted_floats = func(random_floats)\n",
    "        \n",
    "        end_time = time.time()\n",
    "        execution_time = end_time - start_time\n",
    "        print(func.__name__, execution_time)\n",
    "        \n",
    "        result_time[func.__name__] = execution_time\n",
    "    return result_time"
   ]
  },
  {
   "cell_type": "code",
   "execution_count": 22,
   "id": "3d0118cd-0650-47b1-b0d6-e05669352473",
   "metadata": {},
   "outputs": [
    {
     "name": "stdout",
     "output_type": "stream",
     "text": [
      "bubble_sort 6.6057233810424805\n",
      "quick_sort 0.01695990562438965\n",
      "merge_sort 0.02325153350830078\n",
      "insertion_sort 0.0011305809020996094\n",
      "selection_sort 6.198883056640625e-06\n"
     ]
    }
   ],
   "source": [
    "time1 = track_time(10000)"
   ]
  },
  {
   "cell_type": "code",
   "execution_count": null,
   "id": "7ded91b7-e37c-4a6c-a978-42ab4a0bd6d7",
   "metadata": {},
   "outputs": [],
   "source": [
    "time1 = track_time(20000)"
   ]
  },
  {
   "cell_type": "markdown",
   "id": "d54c3e2a-530b-43ce-b092-89d523db6a89",
   "metadata": {},
   "source": [
    "Выводы:\n",
    "1) Сортировка пузырьком самая медленная\n",
    "2) Сортировка выбором на близка к пузырьку\n",
    "3) Сортировки быстрая и слиянием быстрее на три порядка\n",
    "4) Самая быстрая сортиовка вставкой"
   ]
  },
  {
   "cell_type": "code",
   "execution_count": null,
   "id": "8b1d829f-6f50-420c-b1b6-422a94123ca2",
   "metadata": {},
   "outputs": [],
   "source": []
  }
 ],
 "metadata": {
  "kernelspec": {
   "display_name": "Python 3 (ipykernel)",
   "language": "python",
   "name": "python3"
  },
  "language_info": {
   "codemirror_mode": {
    "name": "ipython",
    "version": 3
   },
   "file_extension": ".py",
   "mimetype": "text/x-python",
   "name": "python",
   "nbconvert_exporter": "python",
   "pygments_lexer": "ipython3",
   "version": "3.10.10"
  }
 },
 "nbformat": 4,
 "nbformat_minor": 5
}
