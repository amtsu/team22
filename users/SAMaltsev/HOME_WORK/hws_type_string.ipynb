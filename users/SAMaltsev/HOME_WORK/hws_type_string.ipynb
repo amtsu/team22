{
 "cells": [
  {
   "cell_type": "markdown",
   "id": "ff815536",
   "metadata": {},
   "source": [
    "## Пусть дана фраза \"i love to travel\". Напишите код для вычисление:\n",
    "\n",
    "### какой индекс будет у первой буквы t\n",
    "### какой индекс будет у буквы r\n",
    "### как вывести из строки слова с 2 по 6 индекс\n",
    "### какой какие индексы нужно указать в срезе чтобы вывести to\n",
    "### что будет если строку умножить на число 5\n",
    "### как понять содержит ли наша строка подстроку ral\n",
    "### с какого индекса начинается подстрока to\n",
    "### какая длину строки\n",
    "### измените первый символ в строке на заглавный\n",
    "### прибавьте к строке строку \" Hello!\""
   ]
  },
  {
   "cell_type": "code",
   "execution_count": 4,
   "id": "9b1b6b3d",
   "metadata": {},
   "outputs": [
    {
     "data": {
      "text/plain": [
       "7"
      ]
     },
     "execution_count": 4,
     "metadata": {},
     "output_type": "execute_result"
    }
   ],
   "source": [
    "\"I love to travel\".find(\"t\")"
   ]
  },
  {
   "cell_type": "code",
   "execution_count": 5,
   "id": "6eb83f3f",
   "metadata": {},
   "outputs": [
    {
     "data": {
      "text/plain": [
       "11"
      ]
     },
     "execution_count": 5,
     "metadata": {},
     "output_type": "execute_result"
    }
   ],
   "source": [
    "\"I love to travel\".find(\"r\")"
   ]
  },
  {
   "cell_type": "code",
   "execution_count": 6,
   "id": "8f6645a1",
   "metadata": {},
   "outputs": [],
   "source": [
    "text = (\"I love to travel\")"
   ]
  },
  {
   "cell_type": "code",
   "execution_count": 8,
   "id": "759c79b2",
   "metadata": {},
   "outputs": [
    {
     "name": "stdout",
     "output_type": "stream",
     "text": [
      "love\n"
     ]
    }
   ],
   "source": [
    "print(text[2:6])"
   ]
  },
  {
   "cell_type": "code",
   "execution_count": 10,
   "id": "6d2edb23",
   "metadata": {},
   "outputs": [
    {
     "name": "stdout",
     "output_type": "stream",
     "text": [
      "to\n"
     ]
    }
   ],
   "source": [
    "print(text[7:9])"
   ]
  },
  {
   "cell_type": "code",
   "execution_count": 2,
   "id": "2fed3941",
   "metadata": {},
   "outputs": [
    {
     "data": {
      "text/plain": [
       "'text text text text text '"
      ]
     },
     "execution_count": 2,
     "metadata": {},
     "output_type": "execute_result"
    }
   ],
   "source": [
    "\"text \" * 5"
   ]
  },
  {
   "cell_type": "code",
   "execution_count": 3,
   "id": "df45ce54",
   "metadata": {},
   "outputs": [
    {
     "data": {
      "text/plain": [
       "-1"
      ]
     },
     "execution_count": 3,
     "metadata": {},
     "output_type": "execute_result"
    }
   ],
   "source": [
    "\"I love to travel\".find(\"ral\")"
   ]
  },
  {
   "cell_type": "code",
   "execution_count": 4,
   "id": "c47270a0",
   "metadata": {},
   "outputs": [
    {
     "data": {
      "text/plain": [
       "11"
      ]
     },
     "execution_count": 4,
     "metadata": {},
     "output_type": "execute_result"
    }
   ],
   "source": [
    "\"I love to travel\".find(\"rav\")"
   ]
  },
  {
   "cell_type": "code",
   "execution_count": 6,
   "id": "7ab2c598",
   "metadata": {},
   "outputs": [
    {
     "data": {
      "text/plain": [
       "7"
      ]
     },
     "execution_count": 6,
     "metadata": {},
     "output_type": "execute_result"
    }
   ],
   "source": [
    "\"I love to travel\".find(\"to\")"
   ]
  },
  {
   "cell_type": "code",
   "execution_count": 7,
   "id": "0f620540",
   "metadata": {},
   "outputs": [
    {
     "data": {
      "text/plain": [
       "16"
      ]
     },
     "execution_count": 7,
     "metadata": {},
     "output_type": "execute_result"
    }
   ],
   "source": [
    "len(\"I love to travel\")"
   ]
  },
  {
   "cell_type": "code",
   "execution_count": 21,
   "id": "f4cb114c",
   "metadata": {},
   "outputs": [
    {
     "data": {
      "text/plain": [
       "'I love to travel'"
      ]
     },
     "execution_count": 21,
     "metadata": {},
     "output_type": "execute_result"
    }
   ],
   "source": [
    "\"i love to travel\".capitalize()"
   ]
  },
  {
   "cell_type": "code",
   "execution_count": 22,
   "id": "a040de94",
   "metadata": {},
   "outputs": [
    {
     "data": {
      "text/plain": [
       "'Hello, I love to travel'"
      ]
     },
     "execution_count": 22,
     "metadata": {},
     "output_type": "execute_result"
    }
   ],
   "source": [
    "\"Hello, \"+\"I love to travel\""
   ]
  },
  {
   "cell_type": "code",
   "execution_count": null,
   "id": "edae4cbd",
   "metadata": {},
   "outputs": [],
   "source": []
  }
 ],
 "metadata": {
  "kernelspec": {
   "display_name": "Python 3 (ipykernel)",
   "language": "python",
   "name": "python3"
  },
  "language_info": {
   "codemirror_mode": {
    "name": "ipython",
    "version": 3
   },
   "file_extension": ".py",
   "mimetype": "text/x-python",
   "name": "python",
   "nbconvert_exporter": "python",
   "pygments_lexer": "ipython3",
   "version": "3.9.7"
  }
 },
 "nbformat": 4,
 "nbformat_minor": 5
}
