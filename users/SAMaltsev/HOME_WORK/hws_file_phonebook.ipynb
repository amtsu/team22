{
 "cells": [
  {
   "cell_type": "code",
   "execution_count": 1,
   "id": "f0663f2d",
   "metadata": {},
   "outputs": [],
   "source": [
    "phone_book = [\n",
    "    {\n",
    "        'phone': '+79165556688',\n",
    "        'city': 'Ulitsa lenina d 1',\n",
    "        'name': 'Artem',\n",
    "        'year': 1912,\n",
    "        'hobby': ['sport', 'programming']\n",
    "    },\n",
    "]"
   ]
  },
  {
   "cell_type": "code",
   "execution_count": 3,
   "id": "4e0b65ad",
   "metadata": {},
   "outputs": [
    {
     "name": "stdout",
     "output_type": "stream",
     "text": [
      "[{'phone': '+79165556688', 'city': 'Ulitsa lenina d 1', 'name': 'Artem', 'year': 1912, 'hobby': ['sport', 'programming']}]\n"
     ]
    }
   ],
   "source": [
    "print(phone_book)"
   ]
  },
  {
   "cell_type": "code",
   "execution_count": null,
   "id": "c742498f",
   "metadata": {},
   "outputs": [],
   "source": []
  },
  {
   "cell_type": "code",
   "execution_count": null,
   "id": "f6c8f642",
   "metadata": {},
   "outputs": [],
   "source": []
  }
 ],
 "metadata": {
  "kernelspec": {
   "display_name": "Python 3 (ipykernel)",
   "language": "python",
   "name": "python3"
  },
  "language_info": {
   "codemirror_mode": {
    "name": "ipython",
    "version": 3
   },
   "file_extension": ".py",
   "mimetype": "text/x-python",
   "name": "python",
   "nbconvert_exporter": "python",
   "pygments_lexer": "ipython3",
   "version": "3.9.7"
  }
 },
 "nbformat": 4,
 "nbformat_minor": 5
}
