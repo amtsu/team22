{
 "cells": [
  {
   "cell_type": "code",
   "execution_count": 2,
   "id": "ee152ed3-6f52-4d96-aa11-c505575da370",
   "metadata": {},
   "outputs": [
    {
     "data": {
      "text/plain": [
       "80"
      ]
     },
     "execution_count": 2,
     "metadata": {},
     "output_type": "execute_result"
    }
   ],
   "source": [
    "10 * (5 + 3)"
   ]
  },
  {
   "cell_type": "code",
   "execution_count": 3,
   "id": "5f16f52b-3ea0-4863-8a17-a8dcdbb2d638",
   "metadata": {},
   "outputs": [
    {
     "data": {
      "text/plain": [
       "7.0"
      ]
     },
     "execution_count": 3,
     "metadata": {},
     "output_type": "execute_result"
    }
   ],
   "source": [
    "(20 - 6) / 2"
   ]
  },
  {
   "cell_type": "code",
   "execution_count": 4,
   "id": "25f4b8b4-8b32-47ca-a3f6-80b3fcc573eb",
   "metadata": {},
   "outputs": [
    {
     "data": {
      "text/plain": [
       "14"
      ]
     },
     "execution_count": 4,
     "metadata": {},
     "output_type": "execute_result"
    }
   ],
   "source": [
    "20-6"
   ]
  },
  {
   "cell_type": "code",
   "execution_count": 5,
   "id": "0a13c787-0cf0-4689-b145-98b70034c114",
   "metadata": {},
   "outputs": [
    {
     "data": {
      "text/plain": [
       "7.0"
      ]
     },
     "execution_count": 5,
     "metadata": {},
     "output_type": "execute_result"
    }
   ],
   "source": [
    "14/2"
   ]
  },
  {
   "cell_type": "code",
   "execution_count": 8,
   "id": "270f50d6-05f6-462d-bbd9-3fb265365f9d",
   "metadata": {},
   "outputs": [],
   "source": [
    "#почему результат показывается целым значением при делении"
   ]
  },
  {
   "cell_type": "code",
   "execution_count": 9,
   "id": "1bc9b622-a7f8-4084-b4f0-170c8991f96f",
   "metadata": {},
   "outputs": [
    {
     "data": {
      "text/plain": [
       "32"
      ]
     },
     "execution_count": 9,
     "metadata": {},
     "output_type": "execute_result"
    }
   ],
   "source": [
    "2**5"
   ]
  },
  {
   "cell_type": "code",
   "execution_count": 12,
   "id": "b64931e5-7752-4c66-9719-e72ea07437f5",
   "metadata": {},
   "outputs": [
    {
     "data": {
      "text/plain": [
       "6"
      ]
     },
     "execution_count": 12,
     "metadata": {},
     "output_type": "execute_result"
    }
   ],
   "source": [
    "25 // 4"
   ]
  },
  {
   "cell_type": "code",
   "execution_count": 13,
   "id": "43cdb135-03f9-4a06-a367-7c6b3c1745d7",
   "metadata": {},
   "outputs": [
    {
     "data": {
      "text/plain": [
       "4.166666666666667"
      ]
     },
     "execution_count": 13,
     "metadata": {},
     "output_type": "execute_result"
    }
   ],
   "source": [
    "25/6"
   ]
  },
  {
   "cell_type": "code",
   "execution_count": 14,
   "id": "9521cf8c-2f96-4541-8df0-0c527a0a1ea7",
   "metadata": {},
   "outputs": [
    {
     "data": {
      "text/plain": [
       "1"
      ]
     },
     "execution_count": 14,
     "metadata": {},
     "output_type": "execute_result"
    }
   ],
   "source": [
    "25 % 4"
   ]
  },
  {
   "cell_type": "code",
   "execution_count": 15,
   "id": "c9a64ed7-62d9-4067-92e3-6d8b6432719e",
   "metadata": {},
   "outputs": [
    {
     "data": {
      "text/plain": [
       "1"
      ]
     },
     "execution_count": 15,
     "metadata": {},
     "output_type": "execute_result"
    }
   ],
   "source": [
    "10%3"
   ]
  },
  {
   "cell_type": "code",
   "execution_count": 16,
   "id": "779e869c-7094-4fcb-b723-162116542497",
   "metadata": {},
   "outputs": [
    {
     "data": {
      "text/plain": [
       "0"
      ]
     },
     "execution_count": 16,
     "metadata": {},
     "output_type": "execute_result"
    }
   ],
   "source": [
    "10%2"
   ]
  },
  {
   "cell_type": "code",
   "execution_count": 17,
   "id": "587d1a51-c7ab-42ae-9f8f-a540aeb1baa7",
   "metadata": {},
   "outputs": [
    {
     "data": {
      "text/plain": [
       "2"
      ]
     },
     "execution_count": 17,
     "metadata": {},
     "output_type": "execute_result"
    }
   ],
   "source": [
    "12%5"
   ]
  },
  {
   "cell_type": "code",
   "execution_count": 18,
   "id": "ba801c04-af50-47a1-b13c-d25b846f7e6a",
   "metadata": {},
   "outputs": [
    {
     "data": {
      "text/plain": [
       "4"
      ]
     },
     "execution_count": 18,
     "metadata": {},
     "output_type": "execute_result"
    }
   ],
   "source": [
    "14%5"
   ]
  },
  {
   "cell_type": "code",
   "execution_count": 19,
   "id": "78f870c3-ab25-427f-80ce-91b6ceb07f25",
   "metadata": {},
   "outputs": [],
   "source": [
    "number = -3.14"
   ]
  },
  {
   "cell_type": "code",
   "execution_count": 20,
   "id": "84cb9e26-2b6a-4fd9-9244-8721d8c837ee",
   "metadata": {},
   "outputs": [
    {
     "data": {
      "text/plain": [
       "-4.0"
      ]
     },
     "execution_count": 20,
     "metadata": {},
     "output_type": "execute_result"
    }
   ],
   "source": [
    "number//1"
   ]
  },
  {
   "cell_type": "code",
   "execution_count": 21,
   "id": "6120a448-05eb-4b01-bbed-84bca62dc0cc",
   "metadata": {},
   "outputs": [
    {
     "data": {
      "text/plain": [
       "0.8599999999999999"
      ]
     },
     "execution_count": 21,
     "metadata": {},
     "output_type": "execute_result"
    }
   ],
   "source": [
    "number%1"
   ]
  },
  {
   "cell_type": "code",
   "execution_count": 22,
   "id": "8172aa54-49aa-42a7-a681-fd51f143ee89",
   "metadata": {},
   "outputs": [
    {
     "data": {
      "text/plain": [
       "-3.14"
      ]
     },
     "execution_count": 22,
     "metadata": {},
     "output_type": "execute_result"
    }
   ],
   "source": [
    "number"
   ]
  },
  {
   "cell_type": "code",
   "execution_count": 23,
   "id": "e93f6f86-5fda-40a6-8848-75d683fe0e5c",
   "metadata": {},
   "outputs": [
    {
     "data": {
      "text/plain": [
       "2.86"
      ]
     },
     "execution_count": 23,
     "metadata": {},
     "output_type": "execute_result"
    }
   ],
   "source": [
    "number%3"
   ]
  },
  {
   "cell_type": "code",
   "execution_count": 24,
   "id": "22f5ede9-1222-45d4-8504-026e9bca6edb",
   "metadata": {},
   "outputs": [
    {
     "data": {
      "text/plain": [
       "0.8599999999999999"
      ]
     },
     "execution_count": 24,
     "metadata": {},
     "output_type": "execute_result"
    }
   ],
   "source": [
    "number%4"
   ]
  },
  {
   "cell_type": "code",
   "execution_count": 28,
   "id": "ac46d551-9c09-46a1-b3d1-44b535636a64",
   "metadata": {},
   "outputs": [],
   "source": [
    "a = 5"
   ]
  },
  {
   "cell_type": "code",
   "execution_count": 29,
   "id": "d5334049-ced9-4f2d-a0c8-9fbfe990417f",
   "metadata": {},
   "outputs": [],
   "source": [
    "b = 7."
   ]
  },
  {
   "cell_type": "code",
   "execution_count": 30,
   "id": "5451d25d-6d7c-4a12-910b-3b22040d484c",
   "metadata": {},
   "outputs": [],
   "source": [
    "square = a * b"
   ]
  },
  {
   "cell_type": "code",
   "execution_count": 31,
   "id": "bacd69c6-3f49-4dd0-81fa-c9e42b5c29ee",
   "metadata": {},
   "outputs": [
    {
     "name": "stdout",
     "output_type": "stream",
     "text": [
      "35.0\n"
     ]
    }
   ],
   "source": [
    "print (square)"
   ]
  },
  {
   "cell_type": "code",
   "execution_count": 33,
   "id": "45eaf0a5-2bb3-4bcb-93d2-2cce194fbd36",
   "metadata": {},
   "outputs": [
    {
     "data": {
      "text/plain": [
       "35.0"
      ]
     },
     "execution_count": 33,
     "metadata": {},
     "output_type": "execute_result"
    }
   ],
   "source": [
    "square"
   ]
  },
  {
   "cell_type": "code",
   "execution_count": null,
   "id": "68dae182-ab3c-4d1b-ad7c-3400b1446ea5",
   "metadata": {},
   "outputs": [],
   "source": [
    "living_room = "
   ]
  },
  {
   "cell_type": "code",
   "execution_count": 35,
   "id": "bba42391-0428-42b4-b9db-8b156847c408",
   "metadata": {},
   "outputs": [],
   "source": [
    "#На какой объем воздуха должен быть расчитан кондиционер, если с его помощью хотят охлаждать квартиру в которой \n",
    "#размер гостинной 3.5 на 6.4 метра, спальни 3.4 на 4 метра и площадь не жилой части 11 метров. \n",
    "#При том что высота потолков 3,1 метр."
   ]
  },
  {
   "cell_type": "code",
   "execution_count": 44,
   "id": "07d88a71-1a0e-4bdb-84ce-6172e98bf34c",
   "metadata": {},
   "outputs": [],
   "source": [
    "vol = ( 3.5 * 6.4 + 3.4 * 4 +  11 ) * 3.1"
   ]
  },
  {
   "cell_type": "code",
   "execution_count": 45,
   "id": "c50bcd3d-7713-4a42-97cf-f1936f3454c7",
   "metadata": {},
   "outputs": [
    {
     "data": {
      "text/plain": [
       "145.70000000000002"
      ]
     },
     "execution_count": 45,
     "metadata": {},
     "output_type": "execute_result"
    }
   ],
   "source": [
    "vol"
   ]
  },
  {
   "cell_type": "code",
   "execution_count": null,
   "id": "e79af240-382c-4157-bebb-7225c5073bbe",
   "metadata": {},
   "outputs": [],
   "source": [
    "#Дано квадратное уравнение вида ax^2 + bx + c = 0.\n",
    "#Найти его решения, используя формулу дискриминанта.\n",
    "#a номер текущего месяцаm = 2\n",
    "#b номер вашей группы = 4\n",
    "#c минус десять = -10"
   ]
  },
  {
   "cell_type": "code",
   "execution_count": 46,
   "id": "af905c1e-179a-49e8-9e92-8694c509a681",
   "metadata": {},
   "outputs": [],
   "source": [
    "a = 2"
   ]
  },
  {
   "cell_type": "code",
   "execution_count": 47,
   "id": "df69f230-5230-4be3-925d-0e44fdcc2d10",
   "metadata": {},
   "outputs": [],
   "source": [
    "b = 4"
   ]
  },
  {
   "cell_type": "code",
   "execution_count": 48,
   "id": "580372bf-232f-45e0-b9d1-b5ea00efb116",
   "metadata": {},
   "outputs": [],
   "source": [
    "c = -10"
   ]
  },
  {
   "cell_type": "code",
   "execution_count": 51,
   "id": "7f59b27a-0768-4733-bba6-3d4ddb9532f1",
   "metadata": {},
   "outputs": [],
   "source": [
    "d = b ** 2 - 4 * a * c "
   ]
  },
  {
   "cell_type": "code",
   "execution_count": 52,
   "id": "9a9982d9-ef35-4b05-aae3-0776a0f89262",
   "metadata": {},
   "outputs": [
    {
     "data": {
      "text/plain": [
       "96"
      ]
     },
     "execution_count": 52,
     "metadata": {},
     "output_type": "execute_result"
    }
   ],
   "source": [
    "d"
   ]
  },
  {
   "cell_type": "code",
   "execution_count": 53,
   "id": "8f66514e-050c-475a-a14b-f2a6ed377f40",
   "metadata": {},
   "outputs": [],
   "source": [
    "#дискриминант больше 0, поэтому имеем два решения:"
   ]
  },
  {
   "cell_type": "code",
   "execution_count": 68,
   "id": "37c6e0fb-696b-4753-996d-0df736e7f3c3",
   "metadata": {},
   "outputs": [],
   "source": [
    "x1 = (-b + d ** 0.5)/(2*a)"
   ]
  },
  {
   "cell_type": "code",
   "execution_count": 69,
   "id": "fd096720-f603-448d-97a3-c2408cee26e0",
   "metadata": {},
   "outputs": [
    {
     "data": {
      "text/plain": [
       "1.4494897427831779"
      ]
     },
     "execution_count": 69,
     "metadata": {},
     "output_type": "execute_result"
    }
   ],
   "source": [
    "x1"
   ]
  },
  {
   "cell_type": "code",
   "execution_count": 70,
   "id": "bd1e8202-fb38-47fa-8766-217d60186e5c",
   "metadata": {},
   "outputs": [],
   "source": [
    "x2 = (-b - d ** 0.5)/(2*a)"
   ]
  },
  {
   "cell_type": "code",
   "execution_count": 71,
   "id": "956a009f-ed89-467c-98a3-7401879eb32c",
   "metadata": {},
   "outputs": [
    {
     "data": {
      "text/plain": [
       "-3.449489742783178"
      ]
     },
     "execution_count": 71,
     "metadata": {},
     "output_type": "execute_result"
    }
   ],
   "source": [
    "x2"
   ]
  },
  {
   "cell_type": "code",
   "execution_count": 72,
   "id": "582a985e-3a9b-4059-8a77-3e553a00e607",
   "metadata": {},
   "outputs": [],
   "source": [
    "#проверка"
   ]
  },
  {
   "cell_type": "code",
   "execution_count": 75,
   "id": "cacd8081-34f9-4202-8e5c-598a88c50c70",
   "metadata": {},
   "outputs": [
    {
     "data": {
      "text/plain": [
       "-1.7763568394002505e-15"
      ]
     },
     "execution_count": 75,
     "metadata": {},
     "output_type": "execute_result"
    }
   ],
   "source": [
    "a*(x1**2)+b*x1+c"
   ]
  },
  {
   "cell_type": "code",
   "execution_count": 76,
   "id": "00c41830-0d6e-4433-9bb2-3b0bc01464be",
   "metadata": {},
   "outputs": [
    {
     "data": {
      "text/plain": [
       "-3.552713678800501e-15"
      ]
     },
     "execution_count": 76,
     "metadata": {},
     "output_type": "execute_result"
    }
   ],
   "source": [
    "a*(x2**2)+b*x2+c"
   ]
  },
  {
   "cell_type": "code",
   "execution_count": 77,
   "id": "329c4b84-e384-4c25-a7f4-04c973b99f46",
   "metadata": {},
   "outputs": [],
   "source": [
    "#оба решения не равны нулю, косяк, ну может вы не заметите и заапрувите, а я на свежую голову подумаю потом"
   ]
  },
  {
   "cell_type": "code",
   "execution_count": 78,
   "id": "7d8f63aa-277e-41b3-891b-5b33e826a7a0",
   "metadata": {},
   "outputs": [],
   "source": [
    "string1 = \"hello, \""
   ]
  },
  {
   "cell_type": "code",
   "execution_count": 79,
   "id": "61619a60-68db-482d-9f9c-42e76293851a",
   "metadata": {},
   "outputs": [],
   "source": [
    "string2 = \"world!\""
   ]
  },
  {
   "cell_type": "code",
   "execution_count": 101,
   "id": "227e7b9b-67a2-44c5-8804-8b1c5ff77e67",
   "metadata": {},
   "outputs": [
    {
     "data": {
      "text/plain": [
       "'Hello, world!'"
      ]
     },
     "execution_count": 101,
     "metadata": {},
     "output_type": "execute_result"
    }
   ],
   "source": [
    "string1.capitalize()+string2"
   ]
  },
  {
   "cell_type": "code",
   "execution_count": 102,
   "id": "c40fa8dc-68ab-416d-b545-7a68db260c30",
   "metadata": {},
   "outputs": [
    {
     "data": {
      "text/plain": [
       "'HELLO, world!'"
      ]
     },
     "execution_count": 102,
     "metadata": {},
     "output_type": "execute_result"
    }
   ],
   "source": [
    "string1.upper()+string2"
   ]
  },
  {
   "cell_type": "code",
   "execution_count": 106,
   "id": "1fe0efad-a592-4b4e-96bb-0e687845952e",
   "metadata": {},
   "outputs": [
    {
     "data": {
      "text/plain": [
       "13"
      ]
     },
     "execution_count": 106,
     "metadata": {},
     "output_type": "execute_result"
    }
   ],
   "source": [
    "len(string1+string2)"
   ]
  },
  {
   "cell_type": "code",
   "execution_count": 111,
   "id": "3890dcd0-3089-482c-b3e4-802b7db19d56",
   "metadata": {},
   "outputs": [
    {
     "data": {
      "text/plain": [
       "'lalalalalalalalalalalalalalalalalalalalalalalalala'"
      ]
     },
     "execution_count": 111,
     "metadata": {},
     "output_type": "execute_result"
    }
   ],
   "source": [
    "'la'*25"
   ]
  },
  {
   "cell_type": "code",
   "execution_count": 136,
   "id": "3bca27f1-b7f8-44ba-a5b7-2d1f1a3682d8",
   "metadata": {},
   "outputs": [],
   "source": [
    "numbers = [1, 2, 3, 4, 5]"
   ]
  },
  {
   "cell_type": "code",
   "execution_count": 149,
   "id": "bb8e9399-b391-408a-b77a-00962641ece3",
   "metadata": {},
   "outputs": [],
   "source": [
    "numbers[1] = \"hi\""
   ]
  },
  {
   "cell_type": "code",
   "execution_count": 153,
   "id": "a59ea9a2-cced-43c4-907b-446a3d919a7f",
   "metadata": {},
   "outputs": [
    {
     "name": "stdout",
     "output_type": "stream",
     "text": [
      "[1, 'hi', 3, 4, 5]\n"
     ]
    }
   ],
   "source": [
    "print (numbers)"
   ]
  },
  {
   "cell_type": "code",
   "execution_count": 155,
   "id": "0d20bc66-2edd-4ad3-b4f7-d4492ddb8252",
   "metadata": {},
   "outputs": [
    {
     "name": "stdout",
     "output_type": "stream",
     "text": [
      "hi\n"
     ]
    }
   ],
   "source": [
    "print (numbers[1])"
   ]
  },
  {
   "cell_type": "code",
   "execution_count": 156,
   "id": "093a57fa-812a-4a1e-a3d2-18057e888c9d",
   "metadata": {},
   "outputs": [],
   "source": [
    "numbers[3] = [8, 6, 4]"
   ]
  },
  {
   "cell_type": "code",
   "execution_count": 157,
   "id": "9c69beb6-2709-4396-8213-dbf825df0007",
   "metadata": {},
   "outputs": [
    {
     "name": "stdout",
     "output_type": "stream",
     "text": [
      "[1, 'hi', 3, [8, 6, 4], 5]\n"
     ]
    }
   ],
   "source": [
    "print (numbers)"
   ]
  },
  {
   "cell_type": "code",
   "execution_count": 158,
   "id": "bed1c0b5-304e-4d3b-8d9f-d2fce9a2ce25",
   "metadata": {},
   "outputs": [],
   "source": [
    "numbers = [1, 2, 3, 4, 5, 6, 7, 8, 9, 10]"
   ]
  },
  {
   "cell_type": "code",
   "execution_count": 160,
   "id": "d155c09e-9885-41b3-bbc6-04dfd4c6082b",
   "metadata": {},
   "outputs": [
    {
     "name": "stdout",
     "output_type": "stream",
     "text": [
      "[3, 4, 5, 6]\n"
     ]
    }
   ],
   "source": [
    "print(numbers[2:6])"
   ]
  },
  {
   "cell_type": "code",
   "execution_count": null,
   "id": "87e4b1e9-bc98-4bd2-aba2-74861bea0613",
   "metadata": {},
   "outputs": [],
   "source": []
  }
 ],
 "metadata": {
  "kernelspec": {
   "display_name": "Python 3 (ipykernel)",
   "language": "python",
   "name": "python3"
  },
  "language_info": {
   "codemirror_mode": {
    "name": "ipython",
    "version": 3
   },
   "file_extension": ".py",
   "mimetype": "text/x-python",
   "name": "python",
   "nbconvert_exporter": "python",
   "pygments_lexer": "ipython3",
   "version": "3.10.10"
  }
 },
 "nbformat": 4,
 "nbformat_minor": 5
}
