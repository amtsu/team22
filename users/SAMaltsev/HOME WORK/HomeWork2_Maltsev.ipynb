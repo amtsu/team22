{
 "cells": [
  {
   "cell_type": "code",
   "execution_count": 1,
   "id": "51f39ed6",
   "metadata": {},
   "outputs": [
    {
     "data": {
      "text/plain": [
       "70.0"
      ]
     },
     "execution_count": 1,
     "metadata": {},
     "output_type": "execute_result"
    }
   ],
   "source": [
    "((5 + 30) * 20) / 10"
   ]
  },
  {
   "cell_type": "code",
   "execution_count": 2,
   "id": "6f6220dc",
   "metadata": {},
   "outputs": [
    {
     "data": {
      "text/plain": [
       "65.0"
      ]
     },
     "execution_count": 2,
     "metadata": {},
     "output_type": "execute_result"
    }
   ],
   "source": [
    "5 + 30 * 20 / 10"
   ]
  },
  {
   "cell_type": "code",
   "execution_count": 4,
   "id": "e73d7e9e",
   "metadata": {},
   "outputs": [],
   "source": [
    "fred = 200 "
   ]
  },
  {
   "cell_type": "code",
   "execution_count": 5,
   "id": "cf2ef217",
   "metadata": {},
   "outputs": [],
   "source": [
    "john = fred"
   ]
  },
  {
   "cell_type": "code",
   "execution_count": 6,
   "id": "475aabf6",
   "metadata": {},
   "outputs": [
    {
     "name": "stdout",
     "output_type": "stream",
     "text": [
      "200\n"
     ]
    }
   ],
   "source": [
    " print(john)"
   ]
  },
  {
   "cell_type": "code",
   "execution_count": 8,
   "id": "9bd3596a",
   "metadata": {},
   "outputs": [
    {
     "data": {
      "text/plain": [
       "10"
      ]
     },
     "execution_count": 8,
     "metadata": {},
     "output_type": "execute_result"
    }
   ],
   "source": [
    "20-10"
   ]
  },
  {
   "cell_type": "code",
   "execution_count": 2,
   "id": "19236fa4",
   "metadata": {},
   "outputs": [
    {
     "data": {
      "text/plain": [
       "3514"
      ]
     },
     "execution_count": 2,
     "metadata": {},
     "output_type": "execute_result"
    }
   ],
   "source": [
    "20 + 10 * 365 - 3 * 52"
   ]
  },
  {
   "cell_type": "code",
   "execution_count": null,
   "id": "d740aa70",
   "metadata": {},
   "outputs": [],
   "source": []
  },
  {
   "cell_type": "code",
   "execution_count": null,
   "id": "b9092393",
   "metadata": {},
   "outputs": [],
   "source": []
  },
  {
   "cell_type": "code",
   "execution_count": 9,
   "id": "c27cc9ef",
   "metadata": {},
   "outputs": [
    {
     "data": {
      "text/plain": [
       "30"
      ]
     },
     "execution_count": 9,
     "metadata": {},
     "output_type": "execute_result"
    }
   ],
   "source": [
    "10*3"
   ]
  },
  {
   "cell_type": "code",
   "execution_count": 10,
   "id": "a68399a8",
   "metadata": {},
   "outputs": [
    {
     "data": {
      "text/plain": [
       "3514"
      ]
     },
     "execution_count": 10,
     "metadata": {},
     "output_type": "execute_result"
    }
   ],
   "source": [
    "20+10*365-3*52"
   ]
  },
  {
   "cell_type": "code",
   "execution_count": 11,
   "id": "a1b29119",
   "metadata": {},
   "outputs": [],
   "source": [
    "found_coins = 20\n",
    "magic_coins = 10\n",
    "stolen_coins = 3"
   ]
  },
  {
   "cell_type": "code",
   "execution_count": 12,
   "id": "1c8816fd",
   "metadata": {},
   "outputs": [
    {
     "data": {
      "text/plain": [
       "3514"
      ]
     },
     "execution_count": 12,
     "metadata": {},
     "output_type": "execute_result"
    }
   ],
   "source": [
    "found_coins + magic_coins * 365 - stolen_coins * 52"
   ]
  },
  {
   "cell_type": "code",
   "execution_count": 13,
   "id": "ebb75bfb",
   "metadata": {},
   "outputs": [],
   "source": [
    "fred = '''Что едят на полдник динозавры?\n",
    "ТиРекс-кекс!'''"
   ]
  },
  {
   "cell_type": "code",
   "execution_count": 14,
   "id": "91d02e73",
   "metadata": {},
   "outputs": [
    {
     "name": "stdout",
     "output_type": "stream",
     "text": [
      "Что едят на полдник динозавры?\n",
      "ТиРекс-кекс!\n"
     ]
    }
   ],
   "source": [
    "print(fred)"
   ]
  },
  {
   "cell_type": "code",
   "execution_count": 30,
   "id": "54340c82",
   "metadata": {},
   "outputs": [
    {
     "ename": "SyntaxError",
     "evalue": "EOL while scanning string literal (100287087.py, line 1)",
     "output_type": "error",
     "traceback": [
      "\u001b[0;36m  Cell \u001b[0;32mIn [30], line 1\u001b[0;36m\u001b[0m\n\u001b[0;31m    fred = \"Что\u001b[0m\n\u001b[0m               ^\u001b[0m\n\u001b[0;31mSyntaxError\u001b[0m\u001b[0;31m:\u001b[0m EOL while scanning string literal\n"
     ]
    }
   ],
   "source": [
    "fred = \"Что\n",
    "кекс!\""
   ]
  },
  {
   "cell_type": "code",
   "execution_count": 33,
   "id": "c864a1cd",
   "metadata": {},
   "outputs": [],
   "source": [
    "fred = '''Что\n",
    "кекс в пальто!'''"
   ]
  },
  {
   "cell_type": "code",
   "execution_count": null,
   "id": "1673e58f",
   "metadata": {},
   "outputs": [],
   "source": []
  },
  {
   "cell_type": "code",
   "execution_count": 34,
   "id": "159e4d69",
   "metadata": {},
   "outputs": [
    {
     "name": "stdout",
     "output_type": "stream",
     "text": [
      "Что\n",
      "кекс в пальто!\n"
     ]
    }
   ],
   "source": [
    "print(fred)"
   ]
  },
  {
   "cell_type": "code",
   "execution_count": 1,
   "id": "87384c70",
   "metadata": {},
   "outputs": [
    {
     "name": "stdout",
     "output_type": "stream",
     "text": [
      "Мой счет: 1000 очков\n"
     ]
    }
   ],
   "source": [
    "myscore = 1000\n",
    "message = 'Мой счет: %s очков'\n",
    "print(message % myscore)"
   ]
  },
  {
   "cell_type": "code",
   "execution_count": 7,
   "id": "d70f4582",
   "metadata": {},
   "outputs": [
    {
     "name": "stdout",
     "output_type": "stream",
     "text": [
      "Зима: 50 снежинок\n"
     ]
    }
   ],
   "source": [
    "bill = 50\n",
    "mes = 'Зима: %s снежинок'\n",
    "print(mes % bill)"
   ]
  },
  {
   "cell_type": "code",
   "execution_count": 10,
   "id": "b1861f96",
   "metadata": {},
   "outputs": [
    {
     "name": "stdout",
     "output_type": "stream",
     "text": [
      "Коленка: приспособление для поиска мебели в темноте\n"
     ]
    }
   ],
   "source": [
    "joke_text = '%s: приспособление для поиска мебели в темноте'\n",
    "bodypart1 = 'Коленка'\n",
    "bodypart2 = 'Лодыжка'\n",
    "print(joke_text % bodypart1) "
   ]
  },
  {
   "cell_type": "code",
   "execution_count": 11,
   "id": "199ec724",
   "metadata": {},
   "outputs": [
    {
     "name": "stdout",
     "output_type": "stream",
     "text": [
      "Лодыжка: приспособление для поиска мебели в темноте\n"
     ]
    }
   ],
   "source": [
    "print(joke_text % bodypart2)"
   ]
  },
  {
   "cell_type": "code",
   "execution_count": 17,
   "id": "a24bccf7",
   "metadata": {},
   "outputs": [
    {
     "name": "stdout",
     "output_type": "stream",
     "text": [
      "лох: Игнат\n"
     ]
    }
   ],
   "source": [
    "a='%s: Игнат'\n",
    "b='лох'\n",
    "print(a %b)"
   ]
  },
  {
   "cell_type": "code",
   "execution_count": 20,
   "id": "eb9c2104",
   "metadata": {},
   "outputs": [
    {
     "name": "stdout",
     "output_type": "stream",
     "text": [
      "Коленка: приспособление для поиска мебели в темноте\n",
      "Лодыжка: приспособление для поиска мебели в темноте\n"
     ]
    }
   ],
   "source": [
    "print(joke_text % bodypart1) \n",
    "print(joke_text % bodypart2)"
   ]
  },
  {
   "cell_type": "code",
   "execution_count": 28,
   "id": "7d37b1bc",
   "metadata": {},
   "outputs": [
    {
     "name": "stdout",
     "output_type": "stream",
     "text": [
      "Что сказало число 1 числу 8 числа 9? Славны поясок!\n"
     ]
    }
   ],
   "source": [
    "nums = 'Что сказало число %s числу %s числа %s? Славны поясок!'\n",
    "print(nums % (1, 8, 9))"
   ]
  },
  {
   "cell_type": "code",
   "execution_count": 29,
   "id": "248dbd89",
   "metadata": {},
   "outputs": [
    {
     "name": "stdout",
     "output_type": "stream",
     "text": [
      "aaaaaaaaaa\n"
     ]
    }
   ],
   "source": [
    "print (10* 'a')"
   ]
  },
  {
   "cell_type": "code",
   "execution_count": 33,
   "id": "64919dd5",
   "metadata": {},
   "outputs": [
    {
     "name": "stdout",
     "output_type": "stream",
     "text": [
      " a b a b a b a b a b a b a b a b a b a b\n"
     ]
    }
   ],
   "source": [
    "print (10* ' a b')"
   ]
  },
  {
   "cell_type": "code",
   "execution_count": 41,
   "id": "3aa673c6",
   "metadata": {},
   "outputs": [
    {
     "name": "stdout",
     "output_type": "stream",
     "text": [
      "8\n"
     ]
    }
   ],
   "source": [
    "wizard_list = ['паучьи лапки', 8 , 'жабий палец', 'глаз тритона', 'крыло летучей мыши', 'жир слизня', 'перхоть змеи']\n",
    "print(wizard_list[1])"
   ]
  },
  {
   "cell_type": "code",
   "execution_count": 42,
   "id": "81fb597e",
   "metadata": {},
   "outputs": [
    {
     "name": "stdout",
     "output_type": "stream",
     "text": [
      "['паучьи лапки', 8, 'язык улитки', 'глаз тритона', 'крыло летучей мыши', 'жир слизня', 'перхоть змеи']\n"
     ]
    }
   ],
   "source": [
    "wizard_list[2] = 'язык улитки'\n",
    "print (wizard_list)"
   ]
  },
  {
   "cell_type": "code",
   "execution_count": 43,
   "id": "5d2e84b3",
   "metadata": {},
   "outputs": [
    {
     "name": "stdout",
     "output_type": "stream",
     "text": [
      "[8, 'язык улитки', 'глаз тритона']\n"
     ]
    }
   ],
   "source": [
    "print(wizard_list[1:4])"
   ]
  },
  {
   "cell_type": "code",
   "execution_count": 44,
   "id": "3024387d",
   "metadata": {},
   "outputs": [
    {
     "name": "stdout",
     "output_type": "stream",
     "text": [
      "[7, 'раз', 'отпей', 1, 'раз', 'отъешь']\n"
     ]
    }
   ],
   "source": [
    "numbers_and_strings = [7, 'раз', 'отпей', 1, 'раз', 'отъешь'] \n",
    "print(numbers_and_strings)"
   ]
  },
  {
   "cell_type": "code",
   "execution_count": 50,
   "id": "ebcfd35d",
   "metadata": {},
   "outputs": [
    {
     "name": "stdout",
     "output_type": "stream",
     "text": [
      "(7, 'раз', 'отпей', 1, 'раз', 'отъешь')\n"
     ]
    }
   ],
   "source": [
    "numbers_and_strings = 7, 'раз', 'отпей', 1, 'раз', 'отъешь'\n",
    "print(numbers_and_strings)"
   ]
  },
  {
   "cell_type": "code",
   "execution_count": 51,
   "id": "5f214ba2",
   "metadata": {},
   "outputs": [
    {
     "name": "stdout",
     "output_type": "stream",
     "text": [
      "(7, 'раз', 'отпей', 1, 'раз', 'отъешь')\n"
     ]
    }
   ],
   "source": [
    "numbers_and_strings = (7, 'раз', 'отпей', 1, 'раз', 'отъешь')\n",
    "print(numbers_and_strings)"
   ]
  },
  {
   "cell_type": "code",
   "execution_count": 54,
   "id": "78244c25",
   "metadata": {},
   "outputs": [
    {
     "name": "stdout",
     "output_type": "stream",
     "text": [
      "[[1, 2, 3, 4, 5], ['хватит', 'циферки', 'считать']]\n"
     ]
    }
   ],
   "source": [
    "num = [1, 2, 3, 4, 5]\n",
    "str = ['хватит', 'циферки', 'считать']\n",
    "mylist = [num, str]\n",
    "print(mylist)"
   ]
  },
  {
   "cell_type": "code",
   "execution_count": 55,
   "id": "c104088c",
   "metadata": {},
   "outputs": [
    {
     "name": "stdout",
     "output_type": "stream",
     "text": [
      "[[1, 2, 3, 4, 5], ['хватит', 'циферки', 'считать']]\n"
     ]
    }
   ],
   "source": [
    "print([num, str])"
   ]
  },
  {
   "cell_type": "code",
   "execution_count": 56,
   "id": "26c6bdc6",
   "metadata": {},
   "outputs": [
    {
     "name": "stdout",
     "output_type": "stream",
     "text": [
      "[1, 2, 3, 4, 5] ['хватит', 'циферки', 'считать']\n"
     ]
    }
   ],
   "source": [
    "print(num, str)"
   ]
  },
  {
   "cell_type": "code",
   "execution_count": 57,
   "id": "80d9a79a",
   "metadata": {},
   "outputs": [
    {
     "name": "stdout",
     "output_type": "stream",
     "text": [
      "['паучьи лапки', 8, 'язык улитки', 'глаз тритона', 'крыло летучей мыши', 'жир слизня', 'перхоть змеи', 'медвежий коготь']\n"
     ]
    }
   ],
   "source": [
    "wizard_list.append('медвежий коготь') \n",
    "print(wizard_list)"
   ]
  },
  {
   "cell_type": "code",
   "execution_count": 58,
   "id": "e84ad0d7",
   "metadata": {},
   "outputs": [
    {
     "name": "stdout",
     "output_type": "stream",
     "text": [
      "['паучьи лапки', 8, 'язык улитки', 'глаз тритона', 'крыло летучей мыши', 'жир слизня', 'перхоть змеи', 'медвежий коготь', 'мандрагора', 'болиголов', 'болотный газ']\n"
     ]
    }
   ],
   "source": [
    "wizard_list.append('мандрагора')\n",
    "wizard_list.append('болиголов')\n",
    "wizard_list.append('болотный газ')\n",
    "print(wizard_list)"
   ]
  },
  {
   "cell_type": "markdown",
   "id": "00a3bfb3",
   "metadata": {},
   "source": [
    "### не понял почему пробел и запятая добавляются выше"
   ]
  },
  {
   "cell_type": "code",
   "execution_count": 61,
   "id": "3a613020",
   "metadata": {},
   "outputs": [
    {
     "name": "stdout",
     "output_type": "stream",
     "text": [
      "['паучьи лапки', 'глаз тритона', 'крыло летучей мыши', 'перхоть змеи', 'медвежий коготь', 'мандрагора', 'болиголов', 'болотный газ']\n"
     ]
    }
   ],
   "source": [
    "del wizard_list[1]\n",
    "print (wizard_list)"
   ]
  },
  {
   "cell_type": "code",
   "execution_count": 63,
   "id": "60a75b86",
   "metadata": {},
   "outputs": [
    {
     "name": "stdout",
     "output_type": "stream",
     "text": [
      "['паучьи лапки', 'глаз тритона', 'крыло летучей мыши', 'перхоть змеи', 'медвежий коготь', 'мандрагора']\n"
     ]
    }
   ],
   "source": [
    "\n",
    "del wizard_list[7] \n",
    "del wizard_list[6] \n",
    "print(wizard_list)"
   ]
  },
  {
   "cell_type": "code",
   "execution_count": 64,
   "id": "a5f04433",
   "metadata": {},
   "outputs": [
    {
     "name": "stdout",
     "output_type": "stream",
     "text": [
      "[1, 2, 3, 4, 5, 'я', 'забрался', 'под', 'кровать']\n"
     ]
    }
   ],
   "source": [
    "list1 = [1, 2, 3, 4, 5]\n",
    "list2 = ['я', 'забрался', 'под', 'кровать']\n",
    "print(list1 + list2)"
   ]
  },
  {
   "cell_type": "code",
   "execution_count": 72,
   "id": "f5e2ed77",
   "metadata": {},
   "outputs": [
    {
     "name": "stdout",
     "output_type": "stream",
     "text": [
      "[1, 2, 3, 1, 2, 3, 1, 2, 3, 1, 2, 3, 1, 2, 3]\n"
     ]
    }
   ],
   "source": [
    "list1 = [1,2,3] \n",
    "print(list1 * 5)"
   ]
  },
  {
   "cell_type": "code",
   "execution_count": 73,
   "id": "be962580",
   "metadata": {},
   "outputs": [
    {
     "name": "stdout",
     "output_type": "stream",
     "text": [
      "['я', 'забрался', 'под', 'кровать', 'я', 'забрался', 'под', 'кровать', 'я', 'забрался', 'под', 'кровать', 'я', 'забрался', 'под', 'кровать', 'я', 'забрался', 'под', 'кровать']\n"
     ]
    }
   ],
   "source": [
    "print(list2 * 5)"
   ]
  },
  {
   "cell_type": "code",
   "execution_count": 80,
   "id": "a293559e",
   "metadata": {},
   "outputs": [
    {
     "ename": "TypeError",
     "evalue": "list indices must be integers or slices, not str",
     "output_type": "error",
     "traceback": [
      "\u001b[0;31m---------------------------------------------------------------------------\u001b[0m",
      "\u001b[0;31mTypeError\u001b[0m                                 Traceback (most recent call last)",
      "Cell \u001b[0;32mIn [80], line 2\u001b[0m\n\u001b[1;32m      1\u001b[0m favorite_sports \u001b[38;5;241m=\u001b[39m [\u001b[38;5;124m'\u001b[39m\u001b[38;5;124mРальф Уильямс, Футбол\u001b[39m\u001b[38;5;124m'\u001b[39m, \u001b[38;5;124m'\u001b[39m\u001b[38;5;124mМакл Типпетт, Баскетбол\u001b[39m\u001b[38;5;124m'\u001b[39m, \u001b[38;5;124m'\u001b[39m\u001b[38;5;124mЭдвард Элгар, Беи‌сбол\u001b[39m\u001b[38;5;124m'\u001b[39m, \u001b[38;5;124m'\u001b[39m\u001b[38;5;124mРебекка Кларк, Нетбол\u001b[39m\u001b[38;5;124m'\u001b[39m, \u001b[38;5;124m'\u001b[39m\u001b[38;5;124mЭтель Смит, Бадминтон\u001b[39m\u001b[38;5;124m'\u001b[39m, \u001b[38;5;124m'\u001b[39m\u001b[38;5;124mФрэнк Бридж, Регби\u001b[39m\u001b[38;5;124m'\u001b[39m]\n\u001b[0;32m----> 2\u001b[0m \u001b[38;5;28mprint\u001b[39m(\u001b[43mfavorite_sports\u001b[49m\u001b[43m[\u001b[49m\u001b[38;5;124;43m'\u001b[39;49m\u001b[38;5;124;43mРебекка Кларк\u001b[39;49m\u001b[38;5;124;43m'\u001b[39;49m\u001b[43m]\u001b[49m)\n",
      "\u001b[0;31mTypeError\u001b[0m: list indices must be integers or slices, not str"
     ]
    }
   ],
   "source": [
    "favorite_sports = ['Ральф Уильямс, Футбол', 'Макл Типпетт, Баскетбол', 'Эдвард Элгар, Беи‌сбол', 'Ребекка Кларк, Нетбол', 'Этель Смит, Бадминтон', 'Фрэнк Бридж, Регби']\n",
    "print(favorite_sports['Ребекка Кларк'])"
   ]
  },
  {
   "cell_type": "code",
   "execution_count": null,
   "id": "97cb17c9",
   "metadata": {},
   "outputs": [],
   "source": []
  },
  {
   "cell_type": "code",
   "execution_count": 82,
   "id": "b214bf06",
   "metadata": {},
   "outputs": [
    {
     "name": "stdout",
     "output_type": "stream",
     "text": [
      "Нетбол\n"
     ]
    }
   ],
   "source": [
    "favorite_sports = {'Ральф Уильямс': 'Футбол', 'Майкл Типпетт': 'Баскетбол', 'Эдвард Элгар': 'Бейсбол', 'Ребекка Кларк': 'Нетбол', 'Этель Смит': 'Бадминтон', 'Фрэнк Бридж': 'Регби'}\n",
    "print(favorite_sports['Ребекка Кларк'])"
   ]
  },
  {
   "cell_type": "code",
   "execution_count": 79,
   "id": "d564ef48",
   "metadata": {},
   "outputs": [
    {
     "name": "stdout",
     "output_type": "stream",
     "text": [
      "Ребекка Кларк, Нетбол\n"
     ]
    }
   ],
   "source": [
    "f_sports = ['Ральф Уильямс, Футбол', 'Майкл Типпетт, Баскетбол', 'Эдвард Элгар, Бейсбол', 'Ребекка Кларк, Нетбол', 'Этель Смит, Бадминтон', 'Фрэнк Бридж, Регби']\n",
    "print(f_sports[3])"
   ]
  },
  {
   "cell_type": "code",
   "execution_count": null,
   "id": "85b0b1a9",
   "metadata": {},
   "outputs": [],
   "source": []
  },
  {
   "cell_type": "code",
   "execution_count": 77,
   "id": "382b11b0",
   "metadata": {},
   "outputs": [
    {
     "name": "stdout",
     "output_type": "stream",
     "text": [
      "Нетбол\n"
     ]
    }
   ],
   "source": [
    "fav_sports = {'Ральф Уильямс': 'Футбол', 'Маи‌кл Типпетт': 'Баскетбол', 'Эдвард Элгар': 'Беи‌сбол', 'Ребекка Кларк': 'Нетбол', 'Этель Смит': 'Бадминтон', 'Фрэнк Бридж': 'Регби'}\n",
    "print(fav_sports['Ребекка Кларк'])"
   ]
  },
  {
   "cell_type": "code",
   "execution_count": 83,
   "id": "672352a1",
   "metadata": {},
   "outputs": [
    {
     "name": "stdout",
     "output_type": "stream",
     "text": [
      "{'Ральф Уильямс': 'Футбол', 'Майкл Типпетт': 'Баскетбол', 'Эдвард Элгар': 'Бейсбол', 'Ребекка Кларк': 'Нетбол', 'Фрэнк Бридж': 'Регби'}\n"
     ]
    }
   ],
   "source": [
    "del favorite_sports['Этель Смит']\n",
    "print(favorite_sports)"
   ]
  },
  {
   "cell_type": "code",
   "execution_count": 84,
   "id": "7747fb31",
   "metadata": {},
   "outputs": [
    {
     "name": "stdout",
     "output_type": "stream",
     "text": [
      "{'Ральф Уильямс': 'Хоккей на льду', 'Майкл Типпетт': 'Баскетбол', 'Эдвард Элгар': 'Бейсбол', 'Ребекка Кларк': 'Нетбол', 'Фрэнк Бридж': 'Регби'}\n"
     ]
    }
   ],
   "source": [
    "favorite_sports['Ральф Уильямс'] = 'Хоккей на льду' \n",
    "print(favorite_sports)"
   ]
  },
  {
   "cell_type": "code",
   "execution_count": 96,
   "id": "ad6ea61b",
   "metadata": {},
   "outputs": [
    {
     "name": "stdout",
     "output_type": "stream",
     "text": [
      "Как-то вы староваты!\n"
     ]
    }
   ],
   "source": [
    "age = 21\n",
    "if age > 20:\n",
    "    print('Как-то вы староваты!')"
   ]
  },
  {
   "cell_type": "code",
   "execution_count": 97,
   "id": "6c8e27f8",
   "metadata": {},
   "outputs": [
    {
     "name": "stdout",
     "output_type": "stream",
     "text": [
      "Вы слишком стары для моих шуток!\n"
     ]
    }
   ],
   "source": [
    "age = 10\n",
    "if age >= 10:\n",
    "    print('Вы слишком стары для моих шуток!')"
   ]
  },
  {
   "cell_type": "code",
   "execution_count": 100,
   "id": "f7420f36",
   "metadata": {},
   "outputs": [
    {
     "name": "stdout",
     "output_type": "stream",
     "text": [
      "Тсс! Это секрет.\n"
     ]
    }
   ],
   "source": [
    "age = 8\n",
    "if age == 12:\n",
    "    print(\"Свинья шлепнулась в грязь!\")\n",
    "else:\n",
    "    print(\"Тсс! Это секрет.\")"
   ]
  },
  {
   "cell_type": "code",
   "execution_count": 110,
   "id": "525a0068",
   "metadata": {},
   "outputs": [
    {
     "name": "stdout",
     "output_type": "stream",
     "text": [
      "Что сказал 0 числу 8?\n",
      "Привет, ребята!\n",
      "Что-что?\n"
     ]
    }
   ],
   "source": [
    "age = 12\n",
    "if age == 10:\n",
    "    print(\"Что выи‌дет, если клюква наденет штаны?\")\n",
    "    print(\"Брюква!\")\n",
    "elif age == 11:\n",
    "    print(\"Что сказала зеленая виноградина синеи‌ виноградине?\")\n",
    "    print(\"Дыши! Дыши!\")\n",
    "elif age == 12:\n",
    "    print(\"Что сказал 0 числу 8?\")\n",
    "    print(\"Привет, ребята!\")\n",
    "elif age == 13:\n",
    "    print(\"Что такое: напотолке сидит ихохочет?\")\n",
    "    print(\"Муха-хохотуха!\")\n",
    "else:\n",
    "    print(\"Что-что?\")\n",
    "if age == 10 or age == 11 or age == 14 or age == 13:\n",
    "    print('13 + 49 + 84 + 155 + 97: что получится? Головная боль!')\n",
    "else:\n",
    "    print('Что-что?')\n",
    " "
   ]
  },
  {
   "cell_type": "code",
   "execution_count": 111,
   "id": "a4d505a0",
   "metadata": {},
   "outputs": [
    {
     "name": "stdout",
     "output_type": "stream",
     "text": [
      "13 + 49 + 84 + 155 + 97: что получится? Головная боль!\n"
     ]
    }
   ],
   "source": [
    "if age >= 10 and age <= 13:\n",
    "    print('13 + 49 + 84 + 155 + 97: что получится? Головная боль!')\n",
    "else:\n",
    "    print('Что-что?')"
   ]
  },
  {
   "cell_type": "code",
   "execution_count": 119,
   "id": "bc036914",
   "metadata": {},
   "outputs": [
    {
     "name": "stdout",
     "output_type": "stream",
     "text": [
      "None\n"
     ]
    }
   ],
   "source": [
    "myval = None\n",
    "print(myval)"
   ]
  },
  {
   "cell_type": "code",
   "execution_count": 120,
   "id": "27949c8b",
   "metadata": {},
   "outputs": [
    {
     "name": "stdout",
     "output_type": "stream",
     "text": [
      "В переменнои‌ myval ничего нет\n"
     ]
    }
   ],
   "source": [
    "myval = None\n",
    "if myval == None:\n",
    "    print(\"В переменнои‌ myval ничего нет\")"
   ]
  },
  {
   "cell_type": "code",
   "execution_count": 121,
   "id": "a18ce444",
   "metadata": {},
   "outputs": [
    {
     "name": "stdout",
     "output_type": "stream",
     "text": [
      "Как лучше всего общаться смонстром?\n",
      "Издалека!\n"
     ]
    }
   ],
   "source": [
    "age = 10\n",
    "if age == 10:\n",
    "    print(\"Как лучше всего общаться смонстром?\")\n",
    "    print(\"Издалека!\")"
   ]
  },
  {
   "cell_type": "code",
   "execution_count": 122,
   "id": "a32cb153",
   "metadata": {},
   "outputs": [],
   "source": [
    "age = '10'\n",
    "if age == 10:\n",
    "    print(\"Как лучше всего общаться смонстром?\")\n",
    "    print(\"Издалека!\")"
   ]
  },
  {
   "cell_type": "code",
   "execution_count": 128,
   "id": "840ba8f7",
   "metadata": {},
   "outputs": [],
   "source": [
    "age = '10'\n",
    "converted_age = int(age)"
   ]
  },
  {
   "cell_type": "code",
   "execution_count": 130,
   "id": "bd07a329",
   "metadata": {},
   "outputs": [
    {
     "ename": "TypeError",
     "evalue": "'list' object is not callable",
     "output_type": "error",
     "traceback": [
      "\u001b[0;31m---------------------------------------------------------------------------\u001b[0m",
      "\u001b[0;31mTypeError\u001b[0m                                 Traceback (most recent call last)",
      "Cell \u001b[0;32mIn [130], line 2\u001b[0m\n\u001b[1;32m      1\u001b[0m age \u001b[38;5;241m=\u001b[39m \u001b[38;5;241m10\u001b[39m\n\u001b[0;32m----> 2\u001b[0m converted_age \u001b[38;5;241m=\u001b[39m \u001b[38;5;28;43mstr\u001b[39;49m\u001b[43m(\u001b[49m\u001b[43mage\u001b[49m\u001b[43m)\u001b[49m\n",
      "\u001b[0;31mTypeError\u001b[0m: 'list' object is not callable"
     ]
    }
   ],
   "source": [
    "age = 10\n",
    "converted_age = str(age)"
   ]
  },
  {
   "cell_type": "code",
   "execution_count": 131,
   "id": "1e5a9f65",
   "metadata": {},
   "outputs": [],
   "source": [
    "age = '10'\n",
    "converted_age = int(age)"
   ]
  },
  {
   "cell_type": "code",
   "execution_count": 132,
   "id": "4a8c9c62",
   "metadata": {},
   "outputs": [
    {
     "name": "stdout",
     "output_type": "stream",
     "text": [
      "Как лучше всего общаться смонстром?\n",
      "Издалека!\n"
     ]
    }
   ],
   "source": [
    "if converted_age == 10:\n",
    "    print(\"Как лучше всего общаться смонстром?\")\n",
    "    print(\"Издалека!\")"
   ]
  },
  {
   "cell_type": "code",
   "execution_count": 1,
   "id": "639e4b96",
   "metadata": {},
   "outputs": [],
   "source": [
    "age = 13\n",
    "if age >20:\n",
    "    print ('как то вы староваты')"
   ]
  },
  {
   "cell_type": "code",
   "execution_count": 2,
   "id": "24573ee5",
   "metadata": {},
   "outputs": [
    {
     "name": "stdout",
     "output_type": "stream",
     "text": [
      "как то вы староваты\n"
     ]
    }
   ],
   "source": [
    "age = 13\n",
    "if age >10:\n",
    "    print ('как то вы староваты')"
   ]
  },
  {
   "cell_type": "code",
   "execution_count": 8,
   "id": "185c483e",
   "metadata": {},
   "outputs": [
    {
     "name": "stdout",
     "output_type": "stream",
     "text": [
      "раз\n"
     ]
    }
   ],
   "source": [
    "age = 10\n",
    "if age == 10:\n",
    "    print (\"раз\")"
   ]
  },
  {
   "cell_type": "code",
   "execution_count": 3,
   "id": "32687d40",
   "metadata": {},
   "outputs": [
    {
     "name": "stdout",
     "output_type": "stream",
     "text": [
      "два\n"
     ]
    }
   ],
   "source": [
    "age = 10\n",
    "if age == 12:\n",
    "    print (\"раз\")\n",
    "else:\n",
    "    print(\"два\")\n",
    "    "
   ]
  },
  {
   "cell_type": "code",
   "execution_count": 4,
   "id": "97cfb749",
   "metadata": {},
   "outputs": [
    {
     "name": "stdout",
     "output_type": "stream",
     "text": [
      "Тсс! Это секрет.\n"
     ]
    }
   ],
   "source": [
    "age = 8\n",
    "if age == 12:\n",
    "    print(\"Свинья шлепнулась в грязь!\")\n",
    "else:\n",
    "    print(\"Тсс! Это секрет.\")"
   ]
  },
  {
   "cell_type": "code",
   "execution_count": 6,
   "id": "a6991030",
   "metadata": {},
   "outputs": [
    {
     "name": "stdout",
     "output_type": "stream",
     "text": [
      "Что сказал 0 числу 8?\n",
      "Привет, ребята!\n",
      "13 + 49 + 84 + 155 + 97: что получится? Головная боль!\n"
     ]
    }
   ],
   "source": [
    "age = 12\n",
    "if age == 10:\n",
    "    print(\"Что выи‌дет, если клюква наденет штаны?\")\n",
    "    print(\"Брюква!\")\n",
    "elif age == 11:\n",
    "    print(\"Что сказала зеленая виноградина синеи‌ виноградине?\")\n",
    "    print(\"Дыши! Дыши!\")\n",
    "elif age == 12:\n",
    "    print(\"Что сказал 0 числу 8?\")\n",
    "    print(\"Привет, ребята!\")\n",
    "elif age == 13:\n",
    "    print(\"Что такое: напотолке сидит ихохочет?\")\n",
    "    print(\"Муха-хохотуха!\")\n",
    "else:\n",
    "    print(\"Что-что?\")\n",
    "if age == 10 or age == 11 or age == 12 or age == 13:\n",
    "    print('13 + 49 + 84 + 155 + 97: что получится? Головная боль!')\n",
    "else:\n",
    "    print('Что-что?')"
   ]
  },
  {
   "cell_type": "markdown",
   "id": "8eb983e4",
   "metadata": {},
   "source": [
    "## почему не печатается \"что-то\""
   ]
  },
  {
   "cell_type": "code",
   "execution_count": 7,
   "id": "38355cec",
   "metadata": {},
   "outputs": [
    {
     "name": "stdout",
     "output_type": "stream",
     "text": [
      "13 + 49 + 84 + 155 + 97: что получится? Головная боль!\n"
     ]
    }
   ],
   "source": [
    "if age >= 10 and age <= 13:\n",
    "    print('13 + 49 + 84 + 155 + 97: что получится? Головная боль!')\n",
    "else:\n",
    "    print('Что-что?')"
   ]
  },
  {
   "cell_type": "code",
   "execution_count": 16,
   "id": "65d81422",
   "metadata": {},
   "outputs": [
    {
     "name": "stdout",
     "output_type": "stream",
     "text": [
      "hello\n"
     ]
    }
   ],
   "source": [
    "x = 5\n",
    "if x == 5:\n",
    "   print (\"hello\")"
   ]
  },
  {
   "cell_type": "code",
   "execution_count": 15,
   "id": "0aac741b",
   "metadata": {},
   "outputs": [
    {
     "name": "stdout",
     "output_type": "stream",
     "text": [
      "Что сказал 0 числу 8?\n",
      "Привет, ребята!\n"
     ]
    }
   ],
   "source": [
    "x = 12\n",
    "if x == 10:\n",
    "    print(\"Что выи‌дет, если клюква наденет штаны?\")\n",
    "elif x == 12:\n",
    "    print(\"Что сказал 0 числу 8?\")\n",
    "    print(\"Привет, ребята!\")"
   ]
  },
  {
   "cell_type": "code",
   "execution_count": 21,
   "id": "272121c8",
   "metadata": {},
   "outputs": [
    {
     "name": "stdout",
     "output_type": "stream",
     "text": [
      "hi\n"
     ]
    }
   ],
   "source": [
    "x = 3\n",
    "if x>=3:\n",
    "    print ('hi')"
   ]
  },
  {
   "cell_type": "code",
   "execution_count": 22,
   "id": "3812baff",
   "metadata": {},
   "outputs": [
    {
     "name": "stdout",
     "output_type": "stream",
     "text": [
      "None\n"
     ]
    }
   ],
   "source": [
    "myval = None\n",
    "print(myval)"
   ]
  },
  {
   "cell_type": "code",
   "execution_count": null,
   "id": "c6c12c1a",
   "metadata": {},
   "outputs": [],
   "source": [
    "myval = None\n",
    "if myval == None:\n",
    "    print(\"В переменноq myval ничего нет\")"
   ]
  },
  {
   "cell_type": "code",
   "execution_count": 24,
   "id": "75354b82",
   "metadata": {},
   "outputs": [
    {
     "name": "stdout",
     "output_type": "stream",
     "text": [
      "ничего\n"
     ]
    }
   ],
   "source": [
    "x = None\n",
    "if x == None:\n",
    "    print ('ничего')"
   ]
  },
  {
   "cell_type": "code",
   "execution_count": 25,
   "id": "184320a4",
   "metadata": {},
   "outputs": [
    {
     "name": "stdout",
     "output_type": "stream",
     "text": [
      "Как лучше всего общаться с монстром?\n",
      "Издалека!\n"
     ]
    }
   ],
   "source": [
    "age = 10\n",
    "if age == 10:\n",
    "    print(\"Как лучше всего общаться с монстром?\")\n",
    "    print(\"Издалека!\")"
   ]
  },
  {
   "cell_type": "code",
   "execution_count": 29,
   "id": "5a58daae",
   "metadata": {},
   "outputs": [],
   "source": [
    "age = '10'\n",
    "if age == 10:\n",
    "    print(\"Как лучше всего общаться смонстром?\")\n",
    "    print(\"Издалека!\")"
   ]
  },
  {
   "cell_type": "code",
   "execution_count": 32,
   "id": "28b7224e",
   "metadata": {},
   "outputs": [],
   "source": [
    "age = '10'\n",
    "converted_age = int(age)\n",
    "if age == 10:\n",
    "    print(\"Издалека!\")"
   ]
  },
  {
   "cell_type": "code",
   "execution_count": 35,
   "id": "eb328f63",
   "metadata": {},
   "outputs": [
    {
     "name": "stdout",
     "output_type": "stream",
     "text": [
      "10\n"
     ]
    }
   ],
   "source": [
    "print (age)"
   ]
  },
  {
   "cell_type": "code",
   "execution_count": 41,
   "id": "be292953",
   "metadata": {},
   "outputs": [
    {
     "name": "stdout",
     "output_type": "stream",
     "text": [
      "ok\n"
     ]
    }
   ],
   "source": [
    "if converted_age == 10:\n",
    "    print ('ok')"
   ]
  },
  {
   "cell_type": "code",
   "execution_count": 38,
   "id": "c42add04",
   "metadata": {},
   "outputs": [],
   "source": [
    "age = 10\n",
    "converted_age = str(age)"
   ]
  },
  {
   "cell_type": "code",
   "execution_count": 39,
   "id": "25df126b",
   "metadata": {},
   "outputs": [],
   "source": [
    "age = '10'\n",
    "converted_age = int(age)"
   ]
  },
  {
   "cell_type": "code",
   "execution_count": 40,
   "id": "713c868c",
   "metadata": {},
   "outputs": [
    {
     "name": "stdout",
     "output_type": "stream",
     "text": [
      "Как лучше всего общаться смонстром?\n",
      "Издалека!\n"
     ]
    }
   ],
   "source": [
    "if converted_age == 10:\n",
    "    print(\"Как лучше всего общаться смонстром?\")\n",
    "    print(\"Издалека!\")"
   ]
  },
  {
   "cell_type": "code",
   "execution_count": 42,
   "id": "8b735f89",
   "metadata": {},
   "outputs": [
    {
     "ename": "ValueError",
     "evalue": "invalid literal for int() with base 10: '10.5'",
     "output_type": "error",
     "traceback": [
      "\u001b[0;31m---------------------------------------------------------------------------\u001b[0m",
      "\u001b[0;31mValueError\u001b[0m                                Traceback (most recent call last)",
      "Cell \u001b[0;32mIn [42], line 2\u001b[0m\n\u001b[1;32m      1\u001b[0m age \u001b[38;5;241m=\u001b[39m \u001b[38;5;124m'\u001b[39m\u001b[38;5;124m10.5\u001b[39m\u001b[38;5;124m'\u001b[39m\n\u001b[0;32m----> 2\u001b[0m converted_age \u001b[38;5;241m=\u001b[39m \u001b[38;5;28;43mint\u001b[39;49m\u001b[43m(\u001b[49m\u001b[43mage\u001b[49m\u001b[43m)\u001b[49m\n",
      "\u001b[0;31mValueError\u001b[0m: invalid literal for int() with base 10: '10.5'"
     ]
    }
   ],
   "source": [
    "age = '10.5'\n",
    "converted_age = int(age)"
   ]
  },
  {
   "cell_type": "code",
   "execution_count": 43,
   "id": "a96e2d32",
   "metadata": {},
   "outputs": [
    {
     "name": "stdout",
     "output_type": "stream",
     "text": [
      "10.5\n"
     ]
    }
   ],
   "source": [
    "age = '10.5'\n",
    "converted_age = float(age)\n",
    "print(converted_age)"
   ]
  },
  {
   "cell_type": "code",
   "execution_count": 44,
   "id": "ba2dc301",
   "metadata": {},
   "outputs": [
    {
     "ename": "ValueError",
     "evalue": "invalid literal for int() with base 10: 'десять'",
     "output_type": "error",
     "traceback": [
      "\u001b[0;31m---------------------------------------------------------------------------\u001b[0m",
      "\u001b[0;31mValueError\u001b[0m                                Traceback (most recent call last)",
      "Cell \u001b[0;32mIn [44], line 2\u001b[0m\n\u001b[1;32m      1\u001b[0m age \u001b[38;5;241m=\u001b[39m \u001b[38;5;124m'\u001b[39m\u001b[38;5;124mдесять\u001b[39m\u001b[38;5;124m'\u001b[39m\n\u001b[0;32m----> 2\u001b[0m converted_age \u001b[38;5;241m=\u001b[39m \u001b[38;5;28;43mint\u001b[39;49m\u001b[43m(\u001b[49m\u001b[43mage\u001b[49m\u001b[43m)\u001b[49m\n",
      "\u001b[0;31mValueError\u001b[0m: invalid literal for int() with base 10: 'десять'"
     ]
    }
   ],
   "source": [
    "age = 'десять'\n",
    "converted_age = int(age)"
   ]
  },
  {
   "cell_type": "code",
   "execution_count": 45,
   "id": "1df174d7",
   "metadata": {},
   "outputs": [
    {
     "name": "stdout",
     "output_type": "stream",
     "text": [
      "привет\n",
      "привет\n",
      "привет\n",
      "привет\n",
      "привет\n"
     ]
    }
   ],
   "source": [
    "for x in range(0, 5):\n",
    "    print('привет')"
   ]
  },
  {
   "cell_type": "code",
   "execution_count": 46,
   "id": "341d1989",
   "metadata": {},
   "outputs": [
    {
     "name": "stdout",
     "output_type": "stream",
     "text": [
      "[10, 11, 12, 13, 14, 15, 16, 17, 18, 19]\n"
     ]
    }
   ],
   "source": [
    "print(list(range(10, 20)))"
   ]
  },
  {
   "cell_type": "code",
   "execution_count": 47,
   "id": "feb9f1ea",
   "metadata": {},
   "outputs": [
    {
     "name": "stdout",
     "output_type": "stream",
     "text": [
      "привет 0\n",
      "привет 1\n",
      "привет 2\n",
      "привет 3\n",
      "привет 4\n"
     ]
    }
   ],
   "source": [
    "for x in range(0, 5):\n",
    "    print('привет %s' % x)"
   ]
  },
  {
   "cell_type": "code",
   "execution_count": 3,
   "id": "3eb2877d",
   "metadata": {},
   "outputs": [
    {
     "name": "stdout",
     "output_type": "stream",
     "text": [
      "паучьи лапки\n",
      "жабий палец\n",
      "язык улитки\n",
      "крыло летучеи‌ мыши\n",
      "жир слизня\n",
      "медвежий коготь\n"
     ]
    }
   ],
   "source": [
    "wizard_list = ['паучьи лапки', 'жабий палец', 'язык улитки', 'крыло летучеи‌ мыши', 'жир слизня', 'медвежий коготь']\n",
    "for i in wizard_list:\n",
    "    print (i)"
   ]
  },
  {
   "cell_type": "code",
   "execution_count": 4,
   "id": "af1ad7e9",
   "metadata": {},
   "outputs": [
    {
     "name": "stdout",
     "output_type": "stream",
     "text": [
      "паучьи лапки\n",
      "жабий палец\n"
     ]
    }
   ],
   "source": [
    "name = ['паучьи лапки', 'жабий палец']\n",
    "for z in name:\n",
    "    print (z)"
   ]
  },
  {
   "cell_type": "code",
   "execution_count": 5,
   "id": "0a44b102",
   "metadata": {},
   "outputs": [
    {
     "name": "stdout",
     "output_type": "stream",
     "text": [
      "огромные\n",
      "огромные\n",
      "волосатые\n",
      "штаны\n",
      "волосатые\n",
      "огромные\n",
      "волосатые\n",
      "штаны\n",
      "штаны\n",
      "огромные\n",
      "волосатые\n",
      "штаны\n"
     ]
    }
   ],
   "source": [
    "hugehairypants = ['огромные', 'волосатые', 'штаны']\n",
    "for i in hugehairypants:\n",
    "    print(i)\n",
    "    for j in hugehairypants:\n",
    "        print(j)"
   ]
  },
  {
   "cell_type": "markdown",
   "id": "279bac96",
   "metadata": {},
   "source": [
    "## не понял, почуму дубли и такая последовательностьound_coins = 20\n",
    "magic_coins = 70\n",
    "stolen_coins = 3\n",
    "coins = found_coins\n",
    "for week in range(1, 5):\n",
    "        coins = coins + magic_coins — stolen_coins\n",
    "        print('Неделя %s = %s' % (week, coins))"
   ]
  },
  {
   "cell_type": "code",
   "execution_count": 6,
   "id": "9037ffdc",
   "metadata": {},
   "outputs": [
    {
     "name": "stdout",
     "output_type": "stream",
     "text": [
      "огромные\n",
      "волосатые\n",
      "штаны\n"
     ]
    }
   ],
   "source": [
    "hugehairypants = ['огромные', 'волосатые', 'штаны']\n",
    "for i in hugehairypants:\n",
    "    print(i)"
   ]
  },
  {
   "cell_type": "code",
   "execution_count": 7,
   "id": "a30cbee2",
   "metadata": {},
   "outputs": [
    {
     "name": "stdout",
     "output_type": "stream",
     "text": [
      "огромные\n",
      "волосатые\n",
      "штаны\n"
     ]
    }
   ],
   "source": [
    " for j in hugehairypants:\n",
    "        print(j)"
   ]
  },
  {
   "cell_type": "code",
   "execution_count": 8,
   "id": "41737f00",
   "metadata": {},
   "outputs": [
    {
     "ename": "SyntaxError",
     "evalue": "invalid character '—' (U+2014) (2098578523.py, line 6)",
     "output_type": "error",
     "traceback": [
      "\u001b[0;36m  Cell \u001b[0;32mIn [8], line 6\u001b[0;36m\u001b[0m\n\u001b[0;31m    coins = coins + magic_coins — stolen_coins\u001b[0m\n\u001b[0m                                ^\u001b[0m\n\u001b[0;31mSyntaxError\u001b[0m\u001b[0;31m:\u001b[0m invalid character '—' (U+2014)\n"
     ]
    }
   ],
   "source": [
    "found_coins = 20\n",
    "magic_coins = 70\n",
    "stolen_coins = 3\n",
    "coins = found_coins\n",
    "for week in range(1, 5):\n",
    "        coins = coins + magic_coins — stolen_coins\n",
    "        print('Неделя %s = %s' % (week, coins))"
   ]
  },
  {
   "cell_type": "markdown",
   "id": "bab9362b",
   "metadata": {},
   "source": [
    "## где ошибка ?"
   ]
  },
  {
   "cell_type": "code",
   "execution_count": null,
   "id": "11feac3b",
   "metadata": {},
   "outputs": [],
   "source": []
  },
  {
   "cell_type": "code",
   "execution_count": null,
   "id": "e853bab6",
   "metadata": {},
   "outputs": [],
   "source": [
    "\n",
    "\n",
    "age = 13 if age > 20: print('Как-то вы староваты!')\n",
    "\n",
    "age = 10 if age > 10: print('Вы слишком стары для моих шуток!')\n",
    "\n",
    "age = 8 if age == 12: print(\"Свинья шлепнулась в грязь!\") else: print(\"Тсс! Это секрет.\")\n",
    "\n",
    "age = 12 if age == 10: print(\"Что выи‌дет, если клюква наденет штаны?\") print(\"Брюква!\") elif age == 11: print(\"Что сказала зеленая виноградина синеи‌ виноградине?\") print(\"Дыши! Дыши!\") elif age == 12: print(\"Что сказал 0 числу 8?\") print(\"Привет, ребята!\") elif age == 13: print(\"Что такое: напотолке сидит ихохочет?\") print(\"Муха-хохотуха!\") else: print(\"Что-что?\") if age == 10 or age == 11 or age == 12 or age == 13: print('13 + 49 + 84 + 155 + 97: что получится? Головная боль!') else: print('Что-что?')\n",
    "\n",
    "if age >= 10 and age <= 13: print('13 + 49 + 84 + 155 + 97: что получится? Головная боль!') else: print('Что-что?')\n",
    "\n",
    "myval = None print(myval)\n",
    "\n",
    "myval = None if myval == None: print(\"В переменнои‌ myval ничего нет\")\n",
    "\n",
    "age = 10 if age == 10: print(\"Как лучше всего общаться смонстром?\") print(\"Издалека!\")\n",
    "\n",
    "age = '10' if age == 10: print(\"Как лучше всего общаться смонстром?\") print(\"Издалека!\")\n",
    "\n",
    "age = '10' converted_age = int(age)\n",
    "\n",
    "age = 10 converted_age = str(age)\n",
    "\n",
    "age = '10' converted_age = int(age)\n",
    "\n",
    "if converted_age == 10: print(\"Как лучше всего общаться смонстром?\") print(\"Издалека!\")\n",
    "\n",
    "age = '10.5' converted_age = int(age)\n",
    "\n",
    "age = '10.5' converted_age = float(age) print(converted_age)\n",
    "\n",
    "age = 'десять' converted_age = int(age)\n",
    "\n",
    "for x in range(0, 5): print('привет')\n",
    "\n",
    "print(list(range(10, 20)))\n",
    "\n",
    "for x in range(0, 5): print('привет %s' % x)\n",
    "\n",
    "wizard_list = ['паучьи лапки', 'жабии‌ палец', 'язык улитки', 'крыло летучеи‌ мыши', 'жир слизня', 'медвежии‌ коготь'] for i in wizard_list:\n",
    "\n",
    "print\n",
    "\n",
    "(i)\n",
    "\n",
    "hugehairypants = ['огромные', 'волосатые', 'штаны'] for i in hugehairypants: print(i) for j in hugehairypants: print(j)\n",
    "\n",
    "found_coins = 20 magic_coins = 70 stolen_coins = 3 coins = found_coins for week in range(1, 5): coins = coins + magic_coins — stolen_coins print('Неделя %s = %s' % (week, coins))\n",
    "\n",
    "x = 45 y = 80 while x < 50 and y < 100: x=x+ 1 y=y+ 1 print(x, y)\n",
    "\n",
    "for x in range(0, 20): print('привет %s' % x) if x < 9: break\n",
    "\n",
    "def testfunc(myname): print('Привет, %s' % myname) testfunc('Мэри')\n",
    "\n",
    "def testfunc(fname, lname): print('Привет, %s %s' % (fname, lname)) testfunc('Мэри', 'Смит')\n",
    "\n",
    "def savings(pocket_money, paper_route, spending): return pocket_money + paper_route – spending print(savings(10, 10, 5))\n",
    "\n",
    "import time print(time.asctime())\n",
    "\n",
    "=================\n",
    "\n",
    "Упражнения 1\n",
    "\n",
    "#1. Любимые вещи\n",
    "\n",
    "Создаи‌те список своих любимых развлечении‌ и сохраните его в пере- меннои‌ games. Теперь создаи‌те список любимых лакомств, сохранив его в переменнои‌ foods. Объедините два этих списка, сохранив результат в переменнои‌ favorites, и напечатаи‌те значение этои‌ переменнои‌.\n",
    "\n",
    "#2. Подсчет воинов\n",
    "\n",
    "Есть 3 дома, на крыше каждого из которых прячутся по 25 ниндзя, и есть 2 туннеля, в каждом из которых скрывается по 40 самураев. Сколько все- го воинов решили устроить заварушку? (Ответ можно наи‌ти, введя в обо- лочке Python арифметическое выражение.)\n",
    "\n",
    "#3. Приветствие\n",
    "\n",
    "Создаи‌те две переменные: пусть одна хранит ваше имя, а другая фами- лию. Теперь с помощью строки с метками %s напечатаи‌те приветствие вроде такого: «Привет, Брандо Икетт!».\n",
    "\n",
    "=================\n",
    "\n",
    "Упражнения 2\n",
    "\n",
    "Решите эти задачи, используя конструкции if и условия.\n",
    "\n",
    "#1. Вы богаты?\n",
    "\n",
    "Как думаете, что делает этот код? Сначала попробуи‌те в этом разобрать- ся, не вводя код в оболочку Python, а затем проверьте свои‌ ответ.\n",
    "\n",
    "money = 2000 if money > 1000: print(\"Я богат!\") else: print(\"Я не богат!\") print(\"Может, когда-нибудь потом...\")\n",
    "\n",
    "#2. Бисквитики!\n",
    "\n",
    "Создаи‌те конструкцию if, которая проверяет, деи‌ствительно ли коли- чество бисквитов (которое задано в переменнои‌ twinkies) меньше 100 или больше 500. Если это условие выполняется, пусть ваша программа напечатает сообщение «Слишком мало или слишком много».\n",
    "\n",
    "#3. Подходящая сумма\n",
    "\n",
    "Создаи‌те конструкцию if, которая проверяет, соответствует ли задан- ная в переменнои‌ money сумма денег диапазону значении‌ от 100 до 500 или диапазону значении‌ от 1000 до 5000.\n",
    "\n",
    "#4. Я одолею этих ниндзя!\n",
    "\n",
    "Создаи‌те конструкцию if, которая печатает строку «Их слишком мно- го», если количество ниндзя (заданное в переменнои‌ ninjas) меньше 50, печатает «Будет непросто, но я с ними разделаюсь», если это количество меньше 30, и печатает «Я одолею этих ниндзя!», если количество мень- ше 10. Проверьте, как ваш код работает с таким значением:\n",
    "\n",
    "ninjas = 5\n",
    "\n",
    "=================\n",
    "\n",
    "Упражнения 3\n",
    "\n",
    "#1. Цикл с приветом\n",
    "\n",
    "Как вы считаете, что делает эта программа? Сперва придумаи‌те вариант ответа, а потом запустите код и проверьте, угадали ли вы.\n",
    "\n",
    "for x in range(0, 20): print('привет %s' % x) if x < 9: break\n",
    "\n",
    "#2. Четные числа\n",
    "\n",
    "Создаи‌те цикл, которыи‌ печатает четные числа до тех пор, пока не выве- дет ваш возраст. Если ваш возраст — нечетное число, создаи‌те цикл, ко- торыи‌ печатает нечетные числа до совпадения с возрастом. Программа должна выводить на экран нечто подобное:\n",
    "\n",
    "2 4 6 8 10 12 14\n",
    "\n",
    "#3. Пять любимых ингредиентов\n",
    "\n",
    "Создаи‌те список с пятью разными ингредиентами для бутерброда, напо- добие:\n",
    "\n",
    "ingredients = ['слизни', 'пиявки', 'катышки изпупка гориллы', 'брови гусеницы', 'пальцы многоножки']\n",
    "\n",
    "Теперь создаи‌те цикл, которыи‌ печатает список ингредиентов с нуме- рациеи‌:\n",
    "\n",
    "1 слизни 2 пиявки 3 катышки изпупка гориллы 4 брови гусеницы 5 пальцы многоножки\n",
    "\n",
    "#4. Ваш лунныи‌ вес\n",
    "\n",
    "Если бы вы сеи‌час были на Луне, ваш вес составил бы 16,5 процентов от земного. Чтобы узнать, сколько это, умножьте свои‌ земнои‌ вес на 0,165.\n",
    "\n",
    "Если бы каждыи‌ год в течение следующих 15 лет вы прибавляли по одному килограмму веса,\n",
    "\n",
    "каким бы оказался ваш лунныи‌ вес в каж- дыи‌ из ежегодных визитов на Луну вплоть до 15-го года? Напишите про- грамму, которая с помощью цикла for печатает на экране ваш лунныи‌\n",
    "\n",
    "вес в каждом году.\n",
    "\n",
    "=================\n",
    "\n",
    "Упражнения 4\n",
    "\n",
    "Вот несколько упражнении‌ по созданию ваших соб- ственных функции‌.\n",
    "\n",
    "#1. Функция лунного веса\n",
    "\n",
    "Одним из задании‌ к главе 6 было создание цикла for для расчета вашего веса на Луне в течение 15 лет. Этот цикл можно оформить в виде функции. Создаи‌те функцию, ко- торая принимает начальныи‌ вес и величину, на которую вес увеличивается каждыи‌ год. Вызывать эту новую функ- цию нужно будет примерно так:\n",
    "\n",
    "moon_weight(30, 0.25)\n",
    "#2. Функция лунного веса и количество лет\n",
    "\n",
    "Измените функцию из предыдущего задания так, чтобы с ее помощью можно было рассчитывать вес для разного количества лет, например 5 или 20 лет. Пусть эта функция принимает три аргумента: начальныи‌ вес, прибавку веса в год и количество лет:\n",
    "\n",
    "  moon_weight(90, 0.25, 5)"
   ]
  },
  {
   "cell_type": "code",
   "execution_count": null,
   "id": "ff206794",
   "metadata": {},
   "outputs": [],
   "source": []
  },
  {
   "cell_type": "code",
   "execution_count": null,
   "id": "4b2e7f1b",
   "metadata": {},
   "outputs": [],
   "source": []
  },
  {
   "cell_type": "code",
   "execution_count": null,
   "id": "71a955bf",
   "metadata": {},
   "outputs": [],
   "source": []
  }
 ],
 "metadata": {
  "kernelspec": {
   "display_name": "Python 3 (ipykernel)",
   "language": "python",
   "name": "python3"
  },
  "language_info": {
   "codemirror_mode": {
    "name": "ipython",
    "version": 3
   },
   "file_extension": ".py",
   "mimetype": "text/x-python",
   "name": "python",
   "nbconvert_exporter": "python",
   "pygments_lexer": "ipython3",
   "version": "3.9.7"
  }
 },
 "nbformat": 4,
 "nbformat_minor": 5
}
