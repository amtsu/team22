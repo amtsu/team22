{
 "cells": [
  {
   "cell_type": "code",
   "execution_count": 2,
   "id": "53c66a49",
   "metadata": {},
   "outputs": [
    {
     "data": {
      "text/plain": [
       "'/home/jupyter-samalcev/github/team22/users/SAMaltsev/HOME WORK'"
      ]
     },
     "execution_count": 2,
     "metadata": {},
     "output_type": "execute_result"
    }
   ],
   "source": [
    "pwd"
   ]
  },
  {
   "cell_type": "code",
   "execution_count": 4,
   "id": "9ccd8071",
   "metadata": {},
   "outputs": [
    {
     "name": "stdout",
     "output_type": "stream",
     "text": [
      "/home/jupyter-samalcev/github/team22\n"
     ]
    }
   ],
   "source": [
    "cd ~/github/team22"
   ]
  },
  {
   "cell_type": "code",
   "execution_count": 5,
   "id": "676668a0",
   "metadata": {},
   "outputs": [
    {
     "data": {
      "text/plain": [
       "'/home/jupyter-samalcev/github/team22'"
      ]
     },
     "execution_count": 5,
     "metadata": {},
     "output_type": "execute_result"
    }
   ],
   "source": [
    "pwd"
   ]
  },
  {
   "cell_type": "code",
   "execution_count": 6,
   "id": "389f4c22",
   "metadata": {},
   "outputs": [
    {
     "name": "stdout",
     "output_type": "stream",
     "text": [
      "Already on 'main'\r\n",
      "Your branch is up to date with 'origin/main'.\r\n"
     ]
    }
   ],
   "source": [
    "!git checkout main"
   ]
  },
  {
   "cell_type": "code",
   "execution_count": 7,
   "id": "8c48fc93",
   "metadata": {},
   "outputs": [
    {
     "name": "stdout",
     "output_type": "stream",
     "text": [
      "Warning: Permanently added the ECDSA host key for IP address '140.82.121.3' to the list of known hosts.\n",
      "remote: Enumerating objects: 142, done.\u001b[K\n",
      "remote: Counting objects: 100% (142/142), done.\u001b[K\n",
      "remote: Compressing objects: 100% (74/74), done.\u001b[K\n",
      "remote: Total 142 (delta 69), reused 115 (delta 53), pack-reused 0\u001b[K\n",
      "Receiving objects: 100% (142/142), 1.06 MiB | 2.25 MiB/s, done.\n",
      "Resolving deltas: 100% (69/69), completed with 14 local objects.\n",
      "From github.com:amtsu/team22\n",
      "   0ef99ce..1a7fff5  main                   -> origin/main\n",
      "   f7dc21c..0f82881  andreev-aleksey        -> origin/andreev-aleksey\n",
      "   da1b4a4..83c191d  andreev-alexander      -> origin/andreev-alexander\n",
      " * [new branch]      ersaliev               -> origin/ersaliev\n",
      " * [new branch]      home_work_2_vssachenko -> origin/home_work_2_vssachenko\n",
      " * [new branch]      home_work_spiski_ADKazdym -> origin/home_work_spiski_ADKazdym\n",
      " * [new branch]      homework_1_AndVlIv     -> origin/homework_1_AndVlIv\n",
      "   fa8a120..f613f2d  irsalieva              -> origin/irsalieva\n",
      "   6b2cc8c..382bae2  sivanov_bot            -> origin/sivanov_bot\n",
      " * [new branch]      sivanov_sql            -> origin/sivanov_sql\n",
      "Updating 0ef99ce..1a7fff5\n",
      "Fast-forward\n",
      " library/theory/git_base.ipynb                      |  852 \u001b[32m+++\u001b[m\n",
      " library/theory/python_basics.ipynb                 | 3905 \u001b[32m++++++++++\u001b[m\n",
      " library/theory/python_basics_2.ipynb               | 4600 \u001b[32m+++++++++++\u001b[m\n",
      " users/ADKazdym/a1.txt                              |   10 \u001b[32m+\u001b[m\n",
      " users/alzharin/homework_1.ipynb                    |  953 \u001b[32m+++\u001b[m\n",
      " users/alzharin/homework_2.ipynb                    | 1505 \u001b[32m++++\u001b[m\n",
      " users/amtsurkov/a1.txt                             |   40 \u001b[32m+\u001b[m\n",
      " users/amtsurkov/lesson_1.ipynb                     |    2 \u001b[32m+\u001b[m\u001b[31m-\u001b[m\n",
      " users/amtsurkov/lesson_1_work_1_v3.ipynb           |   10 \u001b[32m+\u001b[m\u001b[31m-\u001b[m\n",
      " users/amtsurkov/lesson_2.ipynb                     |   10 \u001b[32m+\u001b[m\u001b[31m-\u001b[m\n",
      " .../amtsurkov/lesson_22/dags/SparPageProcessing.py |   22 \u001b[32m+\u001b[m\n",
      " users/amtsurkov/lesson_24/lesson_24.ipynb          |   28 \u001b[32m+\u001b[m\u001b[31m-\u001b[m\n",
      " users/amtsurkov/lesson_25/lesson_25.ipynb          |  817 \u001b[32m+\u001b[m\u001b[31m-\u001b[m\n",
      " users/andreev-aleksey/lesson_03/git_base.ipynb     |  852 \u001b[32m+++\u001b[m\n",
      " .../andreev-alexander/lesson_01/introduction.ipynb |  426 \u001b[32m++\u001b[m\n",
      " .../andreev-alexander/lesson_01/type_integer.ipynb |  301 \u001b[32m+\u001b[m\n",
      " users/andreev-alexander/lesson_01/type_list.ipynb  |  966 \u001b[32m+++\u001b[m\n",
      " .../andreev-alexander/lesson_01/type_string.ipynb  | 1271 \u001b[32m++++\u001b[m\n",
      " users/andreev-alexander/lesson_01/variables.ipynb  |  710 \u001b[32m++\u001b[m\n",
      " .../lesson_02/python_basics_2.ipynb                | 7971 \u001b[32m++++++++++++++++++++\u001b[m\n",
      " users/andreev-alexander/lesson_03/git_base.ipynb   |    0\n",
      " .../lesson_15_HW_web_prices.ipynb                  |   10 \u001b[32m+\u001b[m\u001b[31m-\u001b[m\n",
      " .../lesson_15_HW_web_prices/test_web_check.ipynb   |   79 \u001b[32m+\u001b[m\u001b[31m-\u001b[m\n",
      " .../lesson_15_HW_web_prices/web_check.py           |   24 \u001b[32m+\u001b[m\u001b[31m-\u001b[m\n",
      " .../changes_mypy_black.diff                        |  147 \u001b[32m+\u001b[m\n",
      " .../lesson_23_HW_mypy_black_pylint/web_check_v2.py |  121 \u001b[32m+\u001b[m\n",
      " 26 files changed, 25436 insertions(+), 196 deletions(-)\n",
      " create mode 100644 library/theory/git_base.ipynb\n",
      " create mode 100644 library/theory/python_basics.ipynb\n",
      " create mode 100644 library/theory/python_basics_2.ipynb\n",
      " create mode 100644 users/ADKazdym/a1.txt\n",
      " create mode 100644 users/alzharin/homework_1.ipynb\n",
      " create mode 100644 users/alzharin/homework_2.ipynb\n",
      " create mode 100644 users/amtsurkov/a1.txt\n",
      " create mode 100644 users/andreev-aleksey/lesson_03/git_base.ipynb\n",
      " create mode 100644 users/andreev-alexander/lesson_01/introduction.ipynb\n",
      " create mode 100644 users/andreev-alexander/lesson_01/type_integer.ipynb\n",
      " create mode 100644 users/andreev-alexander/lesson_01/type_list.ipynb\n",
      " create mode 100644 users/andreev-alexander/lesson_01/type_string.ipynb\n",
      " create mode 100644 users/andreev-alexander/lesson_01/variables.ipynb\n",
      " create mode 100644 users/andreev-alexander/lesson_02/python_basics_2.ipynb\n",
      " create mode 100644 users/andreev-alexander/lesson_03/git_base.ipynb\n",
      " create mode 100644 users/mvandreeva/lesson_23_HW_mypy_black_pylint/changes_mypy_black.diff\n",
      " create mode 100644 users/mvandreeva/lesson_23_HW_mypy_black_pylint/web_check_v2.py\n"
     ]
    }
   ],
   "source": [
    "!git pull"
   ]
  },
  {
   "cell_type": "code",
   "execution_count": 8,
   "id": "ecdf0c9f",
   "metadata": {},
   "outputs": [],
   "source": [
    "!git branch home_work_1_samaltsev"
   ]
  },
  {
   "cell_type": "code",
   "execution_count": 9,
   "id": "01e35f53",
   "metadata": {},
   "outputs": [
    {
     "name": "stdout",
     "output_type": "stream",
     "text": [
      "  home_work_1_samaltsev\u001b[m\r\n",
      "* \u001b[32mmain\u001b[m\r\n"
     ]
    }
   ],
   "source": [
    "!git branch"
   ]
  },
  {
   "cell_type": "code",
   "execution_count": 10,
   "id": "879435ec",
   "metadata": {},
   "outputs": [
    {
     "name": "stdout",
     "output_type": "stream",
     "text": [
      "Switched to branch 'home_work_1_samaltsev'\r\n"
     ]
    }
   ],
   "source": [
    "!git checkout home_work_1_samaltsev"
   ]
  },
  {
   "cell_type": "code",
   "execution_count": 11,
   "id": "3557d9f4",
   "metadata": {},
   "outputs": [
    {
     "name": "stdout",
     "output_type": "stream",
     "text": [
      "/home/jupyter-samalcev/github/team22/users/SAMaltsev\n"
     ]
    }
   ],
   "source": [
    "cd users/SAMaltsev"
   ]
  },
  {
   "cell_type": "code",
   "execution_count": 12,
   "id": "7b1c5039",
   "metadata": {},
   "outputs": [
    {
     "name": "stdout",
     "output_type": "stream",
     "text": [
      "ls: cannot access 'aa1.txt': No such file or directory\r\n"
     ]
    }
   ],
   "source": [
    "ls -la aa1.txt"
   ]
  },
  {
   "cell_type": "code",
   "execution_count": 13,
   "id": "8eb7031b",
   "metadata": {},
   "outputs": [],
   "source": [
    "ls -la ~>aa1.txt"
   ]
  },
  {
   "cell_type": "code",
   "execution_count": 14,
   "id": "83180ce1",
   "metadata": {},
   "outputs": [
    {
     "name": "stdout",
     "output_type": "stream",
     "text": [
      "-rw-r--r-- 1 jupyter-samalcev jupyter-samalcev 1449 Jan 18 18:01 aa1.txt\r\n"
     ]
    }
   ],
   "source": [
    "ls -la aa1.txt"
   ]
  },
  {
   "cell_type": "code",
   "execution_count": 15,
   "id": "3bd3d3f2",
   "metadata": {},
   "outputs": [],
   "source": [
    "!uname > aa2.txt"
   ]
  },
  {
   "cell_type": "code",
   "execution_count": 16,
   "id": "29b61161",
   "metadata": {},
   "outputs": [
    {
     "name": "stdout",
     "output_type": "stream",
     "text": [
      "-rw-r--r-- 1 jupyter-samalcev jupyter-samalcev 6 Jan 18 18:02 aa2.txt\r\n"
     ]
    }
   ],
   "source": [
    "ls -la aa2.txt"
   ]
  },
  {
   "cell_type": "code",
   "execution_count": 17,
   "id": "88d51d33",
   "metadata": {},
   "outputs": [
    {
     "ename": "SyntaxError",
     "evalue": "invalid syntax (2366666683.py, line 1)",
     "output_type": "error",
     "traceback": [
      "\u001b[0;36m  Cell \u001b[0;32mIn [17], line 1\u001b[0;36m\u001b[0m\n\u001b[0;31m    git add\u001b[0m\n\u001b[0m        ^\u001b[0m\n\u001b[0;31mSyntaxError\u001b[0m\u001b[0;31m:\u001b[0m invalid syntax\n"
     ]
    }
   ],
   "source": [
    "git add"
   ]
  },
  {
   "cell_type": "code",
   "execution_count": 18,
   "id": "c11333e9",
   "metadata": {},
   "outputs": [
    {
     "name": "stdout",
     "output_type": "stream",
     "text": [
      "total 24\r\n",
      "drwxr-xr-x  4 jupyter-samalcev jupyter-samalcev 4096 Jan 18 18:02  \u001b[0m\u001b[01;34m.\u001b[0m/\r\n",
      "drwxr-xr-x 19 jupyter-samalcev jupyter-samalcev 4096 Jan 18 17:55  \u001b[01;34m..\u001b[0m/\r\n",
      "-rw-r--r--  1 jupyter-samalcev jupyter-samalcev 1449 Jan 18 18:01  aa1.txt\r\n",
      "-rw-r--r--  1 jupyter-samalcev jupyter-samalcev    6 Jan 18 18:02  aa2.txt\r\n",
      "drwxr-xr-x  3 jupyter-samalcev jupyter-samalcev 4096 Jan 18 18:02 \u001b[01;34m'HOME WORK'\u001b[0m/\r\n",
      "drwxr-xr-x  2 jupyter-samalcev jupyter-samalcev 4096 Dec 28 09:22  \u001b[01;34m.ipynb_checkpoints\u001b[0m/\r\n"
     ]
    }
   ],
   "source": [
    "ls -la"
   ]
  },
  {
   "cell_type": "code",
   "execution_count": 19,
   "id": "0c5060be",
   "metadata": {},
   "outputs": [
    {
     "name": "stdout",
     "output_type": "stream",
     "text": [
      "fatal: pathspec 'aa1.py' did not match any files\r\n"
     ]
    }
   ],
   "source": [
    "!git add aa1.py"
   ]
  },
  {
   "cell_type": "code",
   "execution_count": 20,
   "id": "6fc8038e",
   "metadata": {},
   "outputs": [],
   "source": [
    "!git add aa1.txt"
   ]
  },
  {
   "cell_type": "code",
   "execution_count": 21,
   "id": "4a4d59aa",
   "metadata": {},
   "outputs": [
    {
     "name": "stdout",
     "output_type": "stream",
     "text": [
      "On branch home_work_1_samaltsev\r\n",
      "Changes to be committed:\r\n",
      "  (use \"git restore --staged <file>...\" to unstage)\r\n",
      "\t\u001b[32mnew file:   aa1.txt\u001b[m\r\n",
      "\r\n",
      "Untracked files:\r\n",
      "  (use \"git add <file>...\" to include in what will be committed)\r\n",
      "\t\u001b[31mHOME WORK/\u001b[m\r\n",
      "\t\u001b[31maa2.txt\u001b[m\r\n",
      "\r\n"
     ]
    }
   ],
   "source": [
    "!git status"
   ]
  },
  {
   "cell_type": "code",
   "execution_count": 22,
   "id": "1b1c1ca1",
   "metadata": {},
   "outputs": [
    {
     "name": "stdout",
     "output_type": "stream",
     "text": [
      "\r\n",
      "*** Please tell me who you are.\r\n",
      "\r\n",
      "Run\r\n",
      "\r\n",
      "  git config --global user.email \"you@example.com\"\r\n",
      "  git config --global user.name \"Your Name\"\r\n",
      "\r\n",
      "to set your account's default identity.\r\n",
      "Omit --global to set the identity only in this repository.\r\n",
      "\r\n",
      "fatal: empty ident name (for <jupyter-samalcev@vm6.template>) not allowed\r\n"
     ]
    }
   ],
   "source": [
    "!git commit -m 'save dir content'"
   ]
  },
  {
   "cell_type": "code",
   "execution_count": 23,
   "id": "d536e46b",
   "metadata": {},
   "outputs": [],
   "source": [
    "!git config --global user.name \"SAMaltsev\""
   ]
  },
  {
   "cell_type": "code",
   "execution_count": 24,
   "id": "ba22f469",
   "metadata": {},
   "outputs": [],
   "source": [
    "!git config --global user.email serggps@gmail.com"
   ]
  },
  {
   "cell_type": "code",
   "execution_count": 25,
   "id": "ee2caa8d",
   "metadata": {},
   "outputs": [
    {
     "name": "stdout",
     "output_type": "stream",
     "text": [
      "ls: cannot access '/home/jupyter-samalcev/github/users/SAMaltsev': No such file or directory\r\n"
     ]
    }
   ],
   "source": [
    "ls -la ~/github/users/SAMaltsev > aa1.txt"
   ]
  },
  {
   "cell_type": "code",
   "execution_count": 26,
   "id": "f6ec3d62",
   "metadata": {},
   "outputs": [
    {
     "name": "stdout",
     "output_type": "stream",
     "text": [
      "fatal: The current branch home_work_1_samaltsev has no upstream branch.\r\n",
      "To push the current branch and set the remote as upstream, use\r\n",
      "\r\n",
      "    git push --set-upstream origin home_work_1_samaltsev\r\n",
      "\r\n"
     ]
    }
   ],
   "source": [
    "!git push"
   ]
  },
  {
   "cell_type": "code",
   "execution_count": 27,
   "id": "c1f3a510",
   "metadata": {},
   "outputs": [
    {
     "name": "stdout",
     "output_type": "stream",
     "text": [
      "Total 0 (delta 0), reused 0 (delta 0)\n",
      "remote: \n",
      "remote: Create a pull request for 'home_work_1_samaltsev' on GitHub by visiting:\u001b[K\n",
      "remote:      https://github.com/amtsu/team22/pull/new/home_work_1_samaltsev\u001b[K\n",
      "remote: \n",
      "To github.com:amtsu/team22.git\n",
      " * [new branch]      home_work_1_samaltsev -> home_work_1_samaltsev\n",
      "Branch 'home_work_1_samaltsev' set up to track remote branch 'home_work_1_samaltsev' from 'origin'.\n"
     ]
    }
   ],
   "source": [
    "!git push --set-upstream origin home_work_1_samaltsev"
   ]
  },
  {
   "cell_type": "code",
   "execution_count": 28,
   "id": "e1560df8",
   "metadata": {},
   "outputs": [
    {
     "name": "stdout",
     "output_type": "stream",
     "text": [
      "ls: cannot access '/home/jupyter-amsu/github/team22/users/SAMaltsev/': No such file or directory\r\n"
     ]
    }
   ],
   "source": [
    "ls -la /home/jupyter-amsu/github/team22/users/SAMaltsev/ > aa1.txt"
   ]
  },
  {
   "cell_type": "code",
   "execution_count": 29,
   "id": "b481b45a",
   "metadata": {},
   "outputs": [
    {
     "name": "stdout",
     "output_type": "stream",
     "text": [
      "ls: cannot access '/home/jupyter-amtsu/github/team22/users/SAMaltsev/': Permission denied\r\n"
     ]
    }
   ],
   "source": [
    "ls -la /home/jupyter-amtsu/github/team22/users/SAMaltsev/ > aa1.txt"
   ]
  },
  {
   "cell_type": "code",
   "execution_count": 30,
   "id": "cd72833a",
   "metadata": {},
   "outputs": [
    {
     "name": "stdout",
     "output_type": "stream",
     "text": [
      "Everything up-to-date\r\n"
     ]
    }
   ],
   "source": [
    "!git push"
   ]
  },
  {
   "cell_type": "code",
   "execution_count": 31,
   "id": "3369640f",
   "metadata": {},
   "outputs": [
    {
     "name": "stdout",
     "output_type": "stream",
     "text": [
      "error: pathspec 'dir' did not match any file(s) known to git\r\n"
     ]
    }
   ],
   "source": [
    "!git commit -m change dir"
   ]
  },
  {
   "cell_type": "code",
   "execution_count": 32,
   "id": "1fe5e8a9",
   "metadata": {},
   "outputs": [
    {
     "name": "stdout",
     "output_type": "stream",
     "text": [
      "Branch 'home_work_1_samaltsev' set up to track remote branch 'home_work_1_samaltsev' from 'origin'.\r\n",
      "Everything up-to-date\r\n"
     ]
    }
   ],
   "source": [
    "!git push --set-upstream origin home_work_1_samaltsev"
   ]
  },
  {
   "cell_type": "code",
   "execution_count": null,
   "id": "670915b8",
   "metadata": {},
   "outputs": [],
   "source": []
  },
  {
   "cell_type": "code",
   "execution_count": null,
   "id": "7c9f93eb",
   "metadata": {},
   "outputs": [],
   "source": []
  }
 ],
 "metadata": {
  "kernelspec": {
   "display_name": "Python 3 (ipykernel)",
   "language": "python",
   "name": "python3"
  },
  "language_info": {
   "codemirror_mode": {
    "name": "ipython",
    "version": 3
   },
   "file_extension": ".py",
   "mimetype": "text/x-python",
   "name": "python",
   "nbconvert_exporter": "python",
   "pygments_lexer": "ipython3",
   "version": "3.9.7"
  }
 },
 "nbformat": 4,
 "nbformat_minor": 5
}
