{
 "cells": [
  {
   "cell_type": "code",
   "execution_count": 14,
   "id": "270c42ab",
   "metadata": {},
   "outputs": [],
   "source": [
    " ## (Целые числа integer)"
   ]
  },
  {
   "cell_type": "code",
   "execution_count": 8,
   "id": "5069f7c7",
   "metadata": {},
   "outputs": [
    {
     "data": {
      "text/plain": [
       "35"
      ]
     },
     "execution_count": 8,
     "metadata": {},
     "output_type": "execute_result"
    }
   ],
   "source": [
    "13+22"
   ]
  },
  {
   "cell_type": "code",
   "execution_count": 9,
   "id": "e3691ea3",
   "metadata": {},
   "outputs": [
    {
     "data": {
      "text/plain": [
       "217"
      ]
     },
     "execution_count": 9,
     "metadata": {},
     "output_type": "execute_result"
    }
   ],
   "source": [
    "31*7"
   ]
  },
  {
   "cell_type": "code",
   "execution_count": 11,
   "id": "30fe2a80",
   "metadata": {},
   "outputs": [
    {
     "data": {
      "text/plain": [
       "4138"
      ]
     },
     "execution_count": 11,
     "metadata": {},
     "output_type": "execute_result"
    }
   ],
   "source": [
    "132423//32"
   ]
  },
  {
   "cell_type": "code",
   "execution_count": 12,
   "id": "d5f0426d",
   "metadata": {},
   "outputs": [
    {
     "data": {
      "text/plain": [
       "31"
      ]
     },
     "execution_count": 12,
     "metadata": {},
     "output_type": "execute_result"
    }
   ],
   "source": [
    "23423 % 43"
   ]
  },
  {
   "cell_type": "code",
   "execution_count": 1,
   "id": "b0a60295",
   "metadata": {},
   "outputs": [
    {
     "data": {
      "text/plain": [
       "625"
      ]
     },
     "execution_count": 1,
     "metadata": {},
     "output_type": "execute_result"
    }
   ],
   "source": [
    "5 ** 4"
   ]
  },
  {
   "cell_type": "code",
   "execution_count": null,
   "id": "00e57dbe",
   "metadata": {},
   "outputs": [],
   "source": [
    " ## (type_list.ipynb)"
   ]
  },
  {
   "cell_type": "code",
   "execution_count": 14,
   "id": "8aeeb22c",
   "metadata": {},
   "outputs": [],
   "source": [
    "matrix_delo = [['Дело №1', 'купить хлеб', '28-08-2022' , '28-08-2022'] , [ 'Дело №2' , 'помыть полы' , '28-08-2022' , \"-\" ], ['Дело №3', 'включить телевизор', '28-08-2022' , '28-08-2022'],['Дело №4', 'прыгнуть в окно', '28-08-2022' , '28-08-2022'],['Дело №5', 'выпить с соседом', '28-08-2022' , '28-08-2022']]"
   ]
  },
  {
   "cell_type": "code",
   "execution_count": 19,
   "id": "a07cf6a7",
   "metadata": {},
   "outputs": [
    {
     "data": {
      "text/plain": [
       "'помыть полы'"
      ]
     },
     "execution_count": 19,
     "metadata": {},
     "output_type": "execute_result"
    }
   ],
   "source": [
    "matrix_delo [1][1]"
   ]
  },
  {
   "cell_type": "code",
   "execution_count": 5,
   "id": "a01948d5",
   "metadata": {},
   "outputs": [
    {
     "data": {
      "text/plain": [
       "'выпить с соседом'"
      ]
     },
     "execution_count": 5,
     "metadata": {},
     "output_type": "execute_result"
    }
   ],
   "source": [
    "matrix_delo [4][1]"
   ]
  },
  {
   "cell_type": "code",
   "execution_count": 6,
   "id": "804f54ca",
   "metadata": {},
   "outputs": [
    {
     "data": {
      "text/plain": [
       "5"
      ]
     },
     "execution_count": 6,
     "metadata": {},
     "output_type": "execute_result"
    }
   ],
   "source": [
    "len (matrix_delo)"
   ]
  },
  {
   "cell_type": "code",
   "execution_count": 7,
   "id": "513b4429",
   "metadata": {},
   "outputs": [
    {
     "name": "stdout",
     "output_type": "stream",
     "text": [
      "[['Дело №1', 'купить хлеб', '28-08-2022', '28-08-2022'], ['Дело №2', 'помыть полы', '28-08-2022', '-'], ['Дело №3', 'включить телевизор', '28-08-2022', '28-08-2022'], ['Дело №4', 'прыгнуть в окно', '28-08-2022', '28-08-2022'], ['Дело №5', 'выпить с соседом', '28-08-2022', '28-08-2022']]\n"
     ]
    }
   ],
   "source": [
    "print (matrix_delo)"
   ]
  },
  {
   "cell_type": "code",
   "execution_count": 25,
   "id": "89154a3b",
   "metadata": {},
   "outputs": [
    {
     "data": {
      "text/plain": [
       "(['Дело №2', 'помыть полы', '28-08-2022', '-'],\n",
       " ['Дело №5', 'выпить с соседом', '28-08-2022', '28-08-2022'])"
      ]
     },
     "execution_count": 25,
     "metadata": {},
     "output_type": "execute_result"
    }
   ],
   "source": [
    "matrix_delo[1],matrix_delo[4]"
   ]
  },
  {
   "cell_type": "code",
   "execution_count": 26,
   "id": "75a64772",
   "metadata": {},
   "outputs": [],
   "source": [
    "## type_string.ipynb"
   ]
  },
  {
   "cell_type": "code",
   "execution_count": 1,
   "id": "024d524e",
   "metadata": {},
   "outputs": [
    {
     "data": {
      "text/plain": [
       "'h'"
      ]
     },
     "execution_count": 1,
     "metadata": {},
     "output_type": "execute_result"
    }
   ],
   "source": [
    "\"hello world\"[0]"
   ]
  },
  {
   "cell_type": "code",
   "execution_count": null,
   "id": "df075e9d",
   "metadata": {},
   "outputs": [],
   "source": [
    "## Пусть дана фраза \"i love to travel\". Напишите код для вычисление:\n",
    "\n",
    "какой индекс будет у первой буквы t\n",
    "какой индекс будет у буквы r\n",
    "как вывести из строки слова с 2 по 6 индекс\n",
    "какой какие индексы нужно указать в срезе чтобы вывести to\n",
    "что будет если строку умножить на число 5\n",
    "как понять содержит ли наша строка подстроку ral\n",
    "с какого индекса начинается подстрока to\n",
    "какая длину строки\n",
    "измените первый символ в строке на заглавный\n",
    "прибавьте к строке строку \" Hello!\""
   ]
  },
  {
   "cell_type": "code",
   "execution_count": 2,
   "id": "bbab3d9f",
   "metadata": {},
   "outputs": [
    {
     "data": {
      "text/plain": [
       "'t'"
      ]
     },
     "execution_count": 2,
     "metadata": {},
     "output_type": "execute_result"
    }
   ],
   "source": [
    "\"i love to travel\"[7]"
   ]
  },
  {
   "cell_type": "code",
   "execution_count": 5,
   "id": "929f68a8",
   "metadata": {},
   "outputs": [
    {
     "data": {
      "text/plain": [
       "'r'"
      ]
     },
     "execution_count": 5,
     "metadata": {},
     "output_type": "execute_result"
    }
   ],
   "source": [
    "\"i love to travel\"[11]"
   ]
  },
  {
   "cell_type": "code",
   "execution_count": 7,
   "id": "8b84292c",
   "metadata": {},
   "outputs": [
    {
     "data": {
      "text/plain": [
       "' love'"
      ]
     },
     "execution_count": 7,
     "metadata": {},
     "output_type": "execute_result"
    }
   ],
   "source": [
    "\"i love to travel\"[1:6]"
   ]
  },
  {
   "cell_type": "code",
   "execution_count": 9,
   "id": "8e81f233",
   "metadata": {},
   "outputs": [
    {
     "data": {
      "text/plain": [
       "'to'"
      ]
     },
     "execution_count": 9,
     "metadata": {},
     "output_type": "execute_result"
    }
   ],
   "source": [
    "\"i love to travel\"[7:9]"
   ]
  },
  {
   "cell_type": "code",
   "execution_count": 11,
   "id": "a87370fd",
   "metadata": {},
   "outputs": [
    {
     "data": {
      "text/plain": [
       "'i love to travel i love to travel i love to travel i love to travel i love to travel '"
      ]
     },
     "execution_count": 11,
     "metadata": {},
     "output_type": "execute_result"
    }
   ],
   "source": [
    "\"i love to travel \"*5"
   ]
  },
  {
   "cell_type": "code",
   "execution_count": 15,
   "id": "e4549884",
   "metadata": {},
   "outputs": [
    {
     "data": {
      "text/plain": [
       "-1"
      ]
     },
     "execution_count": 15,
     "metadata": {},
     "output_type": "execute_result"
    }
   ],
   "source": [
    "\"i love to travel\".find(\"ral\")"
   ]
  },
  {
   "cell_type": "code",
   "execution_count": 16,
   "id": "2f70858d",
   "metadata": {},
   "outputs": [
    {
     "data": {
      "text/plain": [
       "7"
      ]
     },
     "execution_count": 16,
     "metadata": {},
     "output_type": "execute_result"
    }
   ],
   "source": [
    "\"i love to travel\".find(\"to\")"
   ]
  },
  {
   "cell_type": "code",
   "execution_count": 17,
   "id": "3e946891",
   "metadata": {},
   "outputs": [
    {
     "data": {
      "text/plain": [
       "16"
      ]
     },
     "execution_count": 17,
     "metadata": {},
     "output_type": "execute_result"
    }
   ],
   "source": [
    "len(\"i love to travel\")"
   ]
  },
  {
   "cell_type": "code",
   "execution_count": 21,
   "id": "49c6760b",
   "metadata": {},
   "outputs": [
    {
     "data": {
      "text/plain": [
       "'I love to travel'"
      ]
     },
     "execution_count": 21,
     "metadata": {},
     "output_type": "execute_result"
    }
   ],
   "source": [
    "\"i love to travel\".capitalize()"
   ]
  },
  {
   "cell_type": "code",
   "execution_count": 24,
   "id": "4c210a74",
   "metadata": {},
   "outputs": [
    {
     "data": {
      "text/plain": [
       "'i love to travel Hello!'"
      ]
     },
     "execution_count": 24,
     "metadata": {},
     "output_type": "execute_result"
    }
   ],
   "source": [
    "\"i love to travel\"+\" Hello!\""
   ]
  },
  {
   "cell_type": "code",
   "execution_count": 25,
   "id": "29e97dbc",
   "metadata": {},
   "outputs": [],
   "source": [
    "## variables.ipynb"
   ]
  },
  {
   "cell_type": "code",
   "execution_count": 28,
   "id": "4202aa79",
   "metadata": {},
   "outputs": [],
   "source": [
    "my_old = \"hello\""
   ]
  },
  {
   "cell_type": "code",
   "execution_count": 29,
   "id": "f00a9902",
   "metadata": {},
   "outputs": [
    {
     "data": {
      "text/plain": [
       "'hello'"
      ]
     },
     "execution_count": 29,
     "metadata": {},
     "output_type": "execute_result"
    }
   ],
   "source": [
    "my_old"
   ]
  },
  {
   "cell_type": "code",
   "execution_count": 30,
   "id": "248e53cb",
   "metadata": {},
   "outputs": [
    {
     "data": {
      "text/plain": [
       "str"
      ]
     },
     "execution_count": 30,
     "metadata": {},
     "output_type": "execute_result"
    }
   ],
   "source": [
    "type(my_old)"
   ]
  },
  {
   "cell_type": "code",
   "execution_count": 31,
   "id": "c9dc879f",
   "metadata": {},
   "outputs": [
    {
     "data": {
      "text/plain": [
       "int"
      ]
     },
     "execution_count": 31,
     "metadata": {},
     "output_type": "execute_result"
    }
   ],
   "source": [
    "type(10)"
   ]
  },
  {
   "cell_type": "code",
   "execution_count": 32,
   "id": "3953c978",
   "metadata": {},
   "outputs": [],
   "source": [
    "x=1"
   ]
  },
  {
   "cell_type": "code",
   "execution_count": 33,
   "id": "5d13a1ab",
   "metadata": {},
   "outputs": [
    {
     "data": {
      "text/plain": [
       "int"
      ]
     },
     "execution_count": 33,
     "metadata": {},
     "output_type": "execute_result"
    }
   ],
   "source": [
    "type(x)"
   ]
  },
  {
   "cell_type": "code",
   "execution_count": 34,
   "id": "47f0e3f8",
   "metadata": {},
   "outputs": [],
   "source": [
    "y=2.0"
   ]
  },
  {
   "cell_type": "code",
   "execution_count": 35,
   "id": "95ff094d",
   "metadata": {},
   "outputs": [
    {
     "data": {
      "text/plain": [
       "float"
      ]
     },
     "execution_count": 35,
     "metadata": {},
     "output_type": "execute_result"
    }
   ],
   "source": [
    "type(y)"
   ]
  },
  {
   "cell_type": "code",
   "execution_count": 37,
   "id": "14143988",
   "metadata": {},
   "outputs": [],
   "source": [
    "z = x+y"
   ]
  },
  {
   "cell_type": "code",
   "execution_count": 39,
   "id": "8adf2a40",
   "metadata": {},
   "outputs": [
    {
     "name": "stdout",
     "output_type": "stream",
     "text": [
      "3.0\n"
     ]
    }
   ],
   "source": [
    "print (z)"
   ]
  },
  {
   "cell_type": "code",
   "execution_count": 40,
   "id": "21364897",
   "metadata": {},
   "outputs": [
    {
     "data": {
      "text/plain": [
       "float"
      ]
     },
     "execution_count": 40,
     "metadata": {},
     "output_type": "execute_result"
    }
   ],
   "source": [
    "type(z)"
   ]
  },
  {
   "cell_type": "code",
   "execution_count": 46,
   "id": "66b4553f",
   "metadata": {},
   "outputs": [],
   "source": [
    "w=\"9.0\""
   ]
  },
  {
   "cell_type": "code",
   "execution_count": 47,
   "id": "049d3c14",
   "metadata": {},
   "outputs": [
    {
     "data": {
      "text/plain": [
       "str"
      ]
     },
     "execution_count": 47,
     "metadata": {},
     "output_type": "execute_result"
    }
   ],
   "source": [
    "type(w)"
   ]
  },
  {
   "cell_type": "code",
   "execution_count": 48,
   "id": "b8c49789",
   "metadata": {},
   "outputs": [
    {
     "data": {
      "text/plain": [
       "9.0"
      ]
     },
     "execution_count": 48,
     "metadata": {},
     "output_type": "execute_result"
    }
   ],
   "source": [
    "float(w)"
   ]
  },
  {
   "cell_type": "code",
   "execution_count": 50,
   "id": "12a21eb7",
   "metadata": {},
   "outputs": [
    {
     "data": {
      "text/plain": [
       "'9.0'"
      ]
     },
     "execution_count": 50,
     "metadata": {},
     "output_type": "execute_result"
    }
   ],
   "source": [
    "w"
   ]
  },
  {
   "cell_type": "code",
   "execution_count": 51,
   "id": "13524409",
   "metadata": {},
   "outputs": [
    {
     "data": {
      "text/plain": [
       "float"
      ]
     },
     "execution_count": 51,
     "metadata": {},
     "output_type": "execute_result"
    }
   ],
   "source": [
    "type(float(w))"
   ]
  },
  {
   "cell_type": "code",
   "execution_count": 52,
   "id": "5adfd1cf",
   "metadata": {},
   "outputs": [
    {
     "data": {
      "text/plain": [
       "10.0"
      ]
     },
     "execution_count": 52,
     "metadata": {},
     "output_type": "execute_result"
    }
   ],
   "source": [
    "x+float(w)"
   ]
  },
  {
   "cell_type": "code",
   "execution_count": 53,
   "id": "800a0a01",
   "metadata": {},
   "outputs": [
    {
     "data": {
      "text/plain": [
       "'9.0'"
      ]
     },
     "execution_count": 53,
     "metadata": {},
     "output_type": "execute_result"
    }
   ],
   "source": [
    "w"
   ]
  },
  {
   "cell_type": "code",
   "execution_count": 59,
   "id": "ebe7f6aa",
   "metadata": {},
   "outputs": [],
   "source": [
    "d=\"abc.\""
   ]
  },
  {
   "cell_type": "code",
   "execution_count": 60,
   "id": "9ccf07fb",
   "metadata": {},
   "outputs": [
    {
     "data": {
      "text/plain": [
       "'abc.2.0'"
      ]
     },
     "execution_count": 60,
     "metadata": {},
     "output_type": "execute_result"
    }
   ],
   "source": [
    "d+str(y)"
   ]
  },
  {
   "cell_type": "code",
   "execution_count": null,
   "id": "dd177b3e",
   "metadata": {},
   "outputs": [],
   "source": []
  },
  {
   "cell_type": "code",
   "execution_count": null,
   "id": "74ca71a3",
   "metadata": {},
   "outputs": [],
   "source": []
  },
  {
   "cell_type": "code",
   "execution_count": null,
   "id": "381cf899",
   "metadata": {},
   "outputs": [],
   "source": []
  },
  {
   "cell_type": "code",
   "execution_count": null,
   "id": "c37b447e",
   "metadata": {},
   "outputs": [],
   "source": []
  },
  {
   "cell_type": "code",
   "execution_count": null,
   "id": "fd713503",
   "metadata": {},
   "outputs": [],
   "source": []
  },
  {
   "cell_type": "code",
   "execution_count": null,
   "id": "9e64aab2",
   "metadata": {},
   "outputs": [],
   "source": []
  },
  {
   "cell_type": "code",
   "execution_count": null,
   "id": "92cb89d5",
   "metadata": {},
   "outputs": [],
   "source": []
  },
  {
   "cell_type": "code",
   "execution_count": null,
   "id": "a0e87cfd",
   "metadata": {},
   "outputs": [],
   "source": []
  },
  {
   "cell_type": "code",
   "execution_count": null,
   "id": "b492135a",
   "metadata": {},
   "outputs": [],
   "source": []
  },
  {
   "cell_type": "code",
   "execution_count": null,
   "id": "38894762",
   "metadata": {},
   "outputs": [],
   "source": []
  },
  {
   "cell_type": "code",
   "execution_count": null,
   "id": "7565fd63",
   "metadata": {},
   "outputs": [],
   "source": []
  },
  {
   "cell_type": "code",
   "execution_count": null,
   "id": "cec876e6",
   "metadata": {},
   "outputs": [],
   "source": []
  },
  {
   "cell_type": "code",
   "execution_count": null,
   "id": "44aabcdc",
   "metadata": {},
   "outputs": [],
   "source": []
  },
  {
   "cell_type": "code",
   "execution_count": null,
   "id": "7a4757c7",
   "metadata": {},
   "outputs": [],
   "source": []
  },
  {
   "cell_type": "code",
   "execution_count": null,
   "id": "c3ff2146",
   "metadata": {},
   "outputs": [],
   "source": []
  },
  {
   "cell_type": "code",
   "execution_count": null,
   "id": "5fcdb03f",
   "metadata": {},
   "outputs": [],
   "source": []
  },
  {
   "cell_type": "code",
   "execution_count": null,
   "id": "f3da7003",
   "metadata": {},
   "outputs": [],
   "source": []
  },
  {
   "cell_type": "code",
   "execution_count": null,
   "id": "9ab7a347",
   "metadata": {},
   "outputs": [],
   "source": []
  },
  {
   "cell_type": "code",
   "execution_count": null,
   "id": "6430aa15",
   "metadata": {},
   "outputs": [],
   "source": []
  },
  {
   "cell_type": "code",
   "execution_count": null,
   "id": "654057db",
   "metadata": {},
   "outputs": [],
   "source": []
  },
  {
   "cell_type": "code",
   "execution_count": null,
   "id": "d9a1384c",
   "metadata": {},
   "outputs": [],
   "source": []
  },
  {
   "cell_type": "code",
   "execution_count": null,
   "id": "907d3c87",
   "metadata": {},
   "outputs": [],
   "source": []
  },
  {
   "cell_type": "code",
   "execution_count": null,
   "id": "128f1bcf",
   "metadata": {},
   "outputs": [],
   "source": []
  },
  {
   "cell_type": "code",
   "execution_count": null,
   "id": "6b49e04d",
   "metadata": {},
   "outputs": [],
   "source": []
  },
  {
   "cell_type": "code",
   "execution_count": null,
   "id": "37269227",
   "metadata": {},
   "outputs": [],
   "source": []
  },
  {
   "cell_type": "code",
   "execution_count": null,
   "id": "e877dccd",
   "metadata": {},
   "outputs": [],
   "source": []
  },
  {
   "cell_type": "code",
   "execution_count": null,
   "id": "0a956841",
   "metadata": {},
   "outputs": [],
   "source": []
  },
  {
   "cell_type": "code",
   "execution_count": null,
   "id": "065f75dd",
   "metadata": {},
   "outputs": [],
   "source": []
  },
  {
   "cell_type": "code",
   "execution_count": null,
   "id": "9514d32c",
   "metadata": {},
   "outputs": [],
   "source": []
  },
  {
   "cell_type": "code",
   "execution_count": null,
   "id": "fa0315a0",
   "metadata": {},
   "outputs": [],
   "source": []
  },
  {
   "cell_type": "code",
   "execution_count": null,
   "id": "79c4d103",
   "metadata": {},
   "outputs": [],
   "source": []
  },
  {
   "cell_type": "code",
   "execution_count": null,
   "id": "c75bc94c",
   "metadata": {},
   "outputs": [],
   "source": []
  },
  {
   "cell_type": "code",
   "execution_count": null,
   "id": "1607f207",
   "metadata": {},
   "outputs": [],
   "source": []
  },
  {
   "cell_type": "code",
   "execution_count": null,
   "id": "4753e7fd",
   "metadata": {},
   "outputs": [],
   "source": []
  },
  {
   "cell_type": "code",
   "execution_count": null,
   "id": "bf82d690",
   "metadata": {},
   "outputs": [],
   "source": []
  },
  {
   "cell_type": "code",
   "execution_count": null,
   "id": "6f187fb8",
   "metadata": {},
   "outputs": [],
   "source": []
  },
  {
   "cell_type": "code",
   "execution_count": null,
   "id": "65cd2cae",
   "metadata": {},
   "outputs": [],
   "source": []
  },
  {
   "cell_type": "code",
   "execution_count": null,
   "id": "df167ab7",
   "metadata": {},
   "outputs": [],
   "source": []
  },
  {
   "cell_type": "code",
   "execution_count": null,
   "id": "04f82323",
   "metadata": {},
   "outputs": [],
   "source": []
  },
  {
   "cell_type": "code",
   "execution_count": null,
   "id": "f9cdc639",
   "metadata": {},
   "outputs": [],
   "source": []
  },
  {
   "cell_type": "code",
   "execution_count": null,
   "id": "e5581498",
   "metadata": {},
   "outputs": [],
   "source": []
  },
  {
   "cell_type": "code",
   "execution_count": 12,
   "id": "08ee32b0",
   "metadata": {},
   "outputs": [],
   "source": [
    "## здесь я не смог вывести список из матрицы, поэтому вывожу задачи из списка"
   ]
  },
  {
   "cell_type": "code",
   "execution_count": 1,
   "id": "1b1401cc",
   "metadata": {},
   "outputs": [
    {
     "ename": "NameError",
     "evalue": "name 'matrix_delo' is not defined",
     "output_type": "error",
     "traceback": [
      "\u001b[0;31m---------------------------------------------------------------------------\u001b[0m",
      "\u001b[0;31mNameError\u001b[0m                                 Traceback (most recent call last)",
      "Cell \u001b[0;32mIn [1], line 1\u001b[0m\n\u001b[0;32m----> 1\u001b[0m \u001b[43mmatrix_delo\u001b[49m [\u001b[38;5;241m3\u001b[39m][\u001b[38;5;241m1\u001b[39m]\n",
      "\u001b[0;31mNameError\u001b[0m: name 'matrix_delo' is not defined"
     ]
    }
   ],
   "source": [
    "matrix_delo [3][1]"
   ]
  },
  {
   "cell_type": "code",
   "execution_count": null,
   "id": "2a6ce7d7",
   "metadata": {},
   "outputs": [],
   "source": []
  },
  {
   "cell_type": "code",
   "execution_count": null,
   "id": "61ffb87b",
   "metadata": {},
   "outputs": [],
   "source": []
  },
  {
   "cell_type": "code",
   "execution_count": 2,
   "id": "ef28fabe",
   "metadata": {},
   "outputs": [],
   "source": [
    "tasks = ['купить хлеб','помыть полы','включить телевизор', 'прыгнуть в окно', 'выпить с соседом']"
   ]
  },
  {
   "cell_type": "code",
   "execution_count": 3,
   "id": "995ab6b3",
   "metadata": {},
   "outputs": [
    {
     "data": {
      "text/plain": [
       "5"
      ]
     },
     "execution_count": 3,
     "metadata": {},
     "output_type": "execute_result"
    }
   ],
   "source": [
    "len(tasks)"
   ]
  },
  {
   "cell_type": "code",
   "execution_count": 4,
   "id": "78d97d82",
   "metadata": {},
   "outputs": [
    {
     "name": "stdout",
     "output_type": "stream",
     "text": [
      "['купить хлеб', 'помыть полы', 'включить телевизор', 'прыгнуть в окно', 'выпить с соседом']\n"
     ]
    }
   ],
   "source": [
    "print(tasks)"
   ]
  },
  {
   "cell_type": "code",
   "execution_count": 10,
   "id": "f4aacab0",
   "metadata": {},
   "outputs": [
    {
     "data": {
      "text/plain": [
       "['помыть полы', 'включить телевизор']"
      ]
     },
     "execution_count": 10,
     "metadata": {},
     "output_type": "execute_result"
    }
   ],
   "source": [
    "tasks[1:3]"
   ]
  },
  {
   "cell_type": "code",
   "execution_count": 1,
   "id": "080fcb31",
   "metadata": {},
   "outputs": [],
   "source": [
    "fred = 200"
   ]
  },
  {
   "cell_type": "code",
   "execution_count": 3,
   "id": "70aa8bce",
   "metadata": {},
   "outputs": [
    {
     "name": "stdout",
     "output_type": "stream",
     "text": [
      "200\n"
     ]
    }
   ],
   "source": [
    "print(fred)"
   ]
  },
  {
   "cell_type": "code",
   "execution_count": 11,
   "id": "2bded899",
   "metadata": {},
   "outputs": [
    {
     "name": "stdout",
     "output_type": "stream",
     "text": [
      "200\n"
     ]
    }
   ],
   "source": [
    "John = fred\n",
    "print(John)"
   ]
  },
  {
   "cell_type": "code",
   "execution_count": 12,
   "id": "d6ecd0e3",
   "metadata": {},
   "outputs": [
    {
     "ename": "NameError",
     "evalue": "name 'Print' is not defined",
     "output_type": "error",
     "traceback": [
      "\u001b[0;31m---------------------------------------------------------------------------\u001b[0m",
      "\u001b[0;31mNameError\u001b[0m                                 Traceback (most recent call last)",
      "Cell \u001b[0;32mIn [12], line 2\u001b[0m\n\u001b[1;32m      1\u001b[0m bill \u001b[38;5;241m=\u001b[39m \u001b[38;5;241m300\u001b[39m\n\u001b[0;32m----> 2\u001b[0m \u001b[43mPrint\u001b[49m(\u001b[38;5;124m\"\u001b[39m\u001b[38;5;124mThis is\u001b[39m\u001b[38;5;124m%\u001b[39m\u001b[38;5;124m bill\u001b[39m\u001b[38;5;124m\"\u001b[39m)\n",
      "\u001b[0;31mNameError\u001b[0m: name 'Print' is not defined"
     ]
    }
   ],
   "source": [
    "bill = 300\n",
    "This is \"\"\n",
    "Print(\"This is% bill\")"
   ]
  },
  {
   "cell_type": "code",
   "execution_count": null,
   "id": "9ba1dba3",
   "metadata": {},
   "outputs": [],
   "source": []
  },
  {
   "cell_type": "code",
   "execution_count": null,
   "id": "e6f17879",
   "metadata": {},
   "outputs": [],
   "source": []
  },
  {
   "cell_type": "code",
   "execution_count": null,
   "id": "dbd51a70",
   "metadata": {},
   "outputs": [],
   "source": []
  },
  {
   "cell_type": "code",
   "execution_count": null,
   "id": "c42ef6e2",
   "metadata": {},
   "outputs": [],
   "source": []
  },
  {
   "cell_type": "code",
   "execution_count": 8,
   "id": "c08811d9",
   "metadata": {},
   "outputs": [
    {
     "ename": "NameError",
     "evalue": "name 'john' is not defined",
     "output_type": "error",
     "traceback": [
      "\u001b[0;31m---------------------------------------------------------------------------\u001b[0m",
      "\u001b[0;31mNameError\u001b[0m                                 Traceback (most recent call last)",
      "Cell \u001b[0;32mIn [8], line 1\u001b[0m\n\u001b[0;32m----> 1\u001b[0m \u001b[38;5;28mprint\u001b[39m(\u001b[43mjohn\u001b[49m)\n",
      "\u001b[0;31mNameError\u001b[0m: name 'john' is not defined"
     ]
    }
   ],
   "source": [
    "print(john)"
   ]
  },
  {
   "cell_type": "code",
   "execution_count": null,
   "id": "ff2372e3",
   "metadata": {},
   "outputs": [],
   "source": []
  },
  {
   "cell_type": "code",
   "execution_count": null,
   "id": "15fb4975",
   "metadata": {},
   "outputs": [],
   "source": []
  },
  {
   "cell_type": "code",
   "execution_count": null,
   "id": "3216af70",
   "metadata": {},
   "outputs": [],
   "source": []
  },
  {
   "cell_type": "code",
   "execution_count": null,
   "id": "41693bdb",
   "metadata": {},
   "outputs": [],
   "source": []
  },
  {
   "cell_type": "code",
   "execution_count": null,
   "id": "8fad43a4",
   "metadata": {},
   "outputs": [],
   "source": []
  },
  {
   "cell_type": "code",
   "execution_count": null,
   "id": "bf355423",
   "metadata": {},
   "outputs": [],
   "source": []
  },
  {
   "cell_type": "code",
   "execution_count": null,
   "id": "f20f5bc4",
   "metadata": {},
   "outputs": [],
   "source": []
  },
  {
   "cell_type": "code",
   "execution_count": null,
   "id": "91e95aed",
   "metadata": {},
   "outputs": [],
   "source": []
  },
  {
   "cell_type": "code",
   "execution_count": null,
   "id": "eb98e305",
   "metadata": {},
   "outputs": [],
   "source": []
  },
  {
   "cell_type": "code",
   "execution_count": null,
   "id": "9ac27b9f",
   "metadata": {},
   "outputs": [],
   "source": []
  },
  {
   "cell_type": "code",
   "execution_count": null,
   "id": "369eeb3c",
   "metadata": {},
   "outputs": [],
   "source": []
  },
  {
   "cell_type": "code",
   "execution_count": null,
   "id": "00b2f375",
   "metadata": {},
   "outputs": [],
   "source": []
  },
  {
   "cell_type": "code",
   "execution_count": null,
   "id": "d748e599",
   "metadata": {},
   "outputs": [],
   "source": []
  },
  {
   "cell_type": "code",
   "execution_count": null,
   "id": "c2208b18",
   "metadata": {},
   "outputs": [],
   "source": []
  }
 ],
 "metadata": {
  "kernelspec": {
   "display_name": "Python 3 (ipykernel)",
   "language": "python",
   "name": "python3"
  },
  "language_info": {
   "codemirror_mode": {
    "name": "ipython",
    "version": 3
   },
   "file_extension": ".py",
   "mimetype": "text/x-python",
   "name": "python",
   "nbconvert_exporter": "python",
   "pygments_lexer": "ipython3",
   "version": "3.9.7"
  }
 },
 "nbformat": 4,
 "nbformat_minor": 5
}
