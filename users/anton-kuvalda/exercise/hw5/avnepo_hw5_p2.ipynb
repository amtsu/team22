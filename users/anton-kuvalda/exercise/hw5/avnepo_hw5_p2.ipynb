{
 "cells": [
  {
   "cell_type": "code",
   "execution_count": 6,
   "id": "ea6a69e1-a246-4eec-8e5d-60a45e3f8711",
   "metadata": {},
   "outputs": [
    {
     "data": {
      "text/plain": [
       "{'name': 'Anton', 'age': '31', 'city': 'Tbilisi'}"
      ]
     },
     "execution_count": 6,
     "metadata": {},
     "output_type": "execute_result"
    }
   ],
   "source": [
    "person = {'name':'Anton',\n",
    "          'age':'31',\n",
    "          'city':'Tbilisi',\n",
    "    \n",
    "}\n",
    "person"
   ]
  },
  {
   "cell_type": "code",
   "execution_count": 7,
   "id": "89b28483-a2d8-4c18-b443-b5663694d21b",
   "metadata": {},
   "outputs": [
    {
     "data": {
      "text/plain": [
       "{'name': 'Anton', 'age': '31'}"
      ]
     },
     "execution_count": 7,
     "metadata": {},
     "output_type": "execute_result"
    }
   ],
   "source": [
    "del person['city']\n",
    "person"
   ]
  },
  {
   "cell_type": "code",
   "execution_count": 8,
   "id": "619b6f62-68c1-4c15-8f10-2e205307d123",
   "metadata": {},
   "outputs": [
    {
     "data": {
      "text/plain": [
       "{'яблоко': 5, 'банан': 10, 'апельсин': 7}"
      ]
     },
     "execution_count": 8,
     "metadata": {},
     "output_type": "execute_result"
    }
   ],
   "source": [
    "fruits_quantity = {\"яблоко\": 5, \"банан\": 10, \"апельсин\": 7}\n",
    "fruits_quantity"
   ]
  },
  {
   "cell_type": "code",
   "execution_count": 12,
   "id": "bb6f8524-42e8-4321-b47a-c59d34b6aa8d",
   "metadata": {},
   "outputs": [
    {
     "data": {
      "text/plain": [
       "{'яблоко': 5, 'банан': 13, 'апельсин': 7}"
      ]
     },
     "execution_count": 12,
     "metadata": {},
     "output_type": "execute_result"
    }
   ],
   "source": [
    "fruits_quantity['банан'] = 13\n",
    "fruits_quantity"
   ]
  },
  {
   "cell_type": "code",
   "execution_count": 16,
   "id": "a226daa8-0001-4808-ae39-7c0347842e37",
   "metadata": {},
   "outputs": [
    {
     "data": {
      "text/plain": [
       "{'яблоко': '1.5', 'банан': '2', 'апельсин': '1.2'}"
      ]
     },
     "execution_count": 16,
     "metadata": {},
     "output_type": "execute_result"
    }
   ],
   "source": [
    "fruits_prices = {\"яблоко\": '1.5', \"банан\": '2', \"апельсин\": '1.2'}\n",
    "fruits_prices"
   ]
  },
  {
   "cell_type": "code",
   "execution_count": 29,
   "id": "f3dfd40d-9996-4e23-babc-afaf2c1e9195",
   "metadata": {},
   "outputs": [
    {
     "data": {
      "text/plain": [
       "4.7"
      ]
     },
     "execution_count": 29,
     "metadata": {},
     "output_type": "execute_result"
    }
   ],
   "source": [
    "float (fruits_prices ['яблоко']) + float (fruits_prices['банан']) + float (fruits_prices['апельсин'])\n"
   ]
  },
  {
   "cell_type": "code",
   "execution_count": 35,
   "id": "75829ed1-859a-4fe5-b404-e0ad6814ba26",
   "metadata": {},
   "outputs": [
    {
     "ename": "KeyError",
     "evalue": "'Томат'",
     "output_type": "error",
     "traceback": [
      "\u001b[0;31m---------------------------------------------------------------------------\u001b[0m",
      "\u001b[0;31mKeyError\u001b[0m                                  Traceback (most recent call last)",
      "Cell \u001b[0;32mIn[35], line 1\u001b[0m\n\u001b[0;32m----> 1\u001b[0m \u001b[38;5;28;01mdel\u001b[39;00m fruits_prices [\u001b[38;5;124m'\u001b[39m\u001b[38;5;124mТомат\u001b[39m\u001b[38;5;124m'\u001b[39m]\n\u001b[1;32m      2\u001b[0m fruits_prices\n",
      "\u001b[0;31mKeyError\u001b[0m: 'Томат'"
     ]
    }
   ],
   "source": [
    "del fruits_prices ['Томат']\n",
    "fruits_prices"
   ]
  },
  {
   "cell_type": "code",
   "execution_count": 51,
   "id": "ea8eae59-9a33-48f3-a9be-eb65e7e2c4ab",
   "metadata": {},
   "outputs": [
    {
     "data": {
      "text/plain": [
       "{'Иванов': 22, 'Петрова': 13, 'Сидоров': 23}"
      ]
     },
     "execution_count": 51,
     "metadata": {},
     "output_type": "execute_result"
    }
   ],
   "source": [
    "students = {\"Иванов\": 22, \"Петрова\": 13, \"Сидоров\": 23}\n",
    "students"
   ]
  },
  {
   "cell_type": "code",
   "execution_count": 52,
   "id": "ff2bd8bf-5bca-4547-9dbf-45614969bd6a",
   "metadata": {},
   "outputs": [
    {
     "data": {
      "text/plain": [
       "{'Иванов': 22, 'Петрова': 13, 'Сидоров': 23, 'Смирнов': 20}"
      ]
     },
     "execution_count": 52,
     "metadata": {},
     "output_type": "execute_result"
    }
   ],
   "source": [
    "students ['Смирнов'] = 20\n",
    "students"
   ]
  },
  {
   "cell_type": "code",
   "execution_count": 53,
   "id": "a83a7fc8-3464-414b-aa08-ca8866777a95",
   "metadata": {},
   "outputs": [
    {
     "data": {
      "text/plain": [
       "{'Иванов': 22, 'Сидоров': 23, 'Смирнов': 20}"
      ]
     },
     "execution_count": 53,
     "metadata": {},
     "output_type": "execute_result"
    }
   ],
   "source": [
    "del students['Петрова']\n",
    "students"
   ]
  },
  {
   "cell_type": "code",
   "execution_count": null,
   "id": "f1487506-60a9-46ee-b685-18706f387ea8",
   "metadata": {},
   "outputs": [],
   "source": []
  }
 ],
 "metadata": {
  "kernelspec": {
   "display_name": "Python 3 (ipykernel)",
   "language": "python",
   "name": "python3"
  },
  "language_info": {
   "codemirror_mode": {
    "name": "ipython",
    "version": 3
   },
   "file_extension": ".py",
   "mimetype": "text/x-python",
   "name": "python",
   "nbconvert_exporter": "python",
   "pygments_lexer": "ipython3",
   "version": "3.10.10"
  }
 },
 "nbformat": 4,
 "nbformat_minor": 5
}
