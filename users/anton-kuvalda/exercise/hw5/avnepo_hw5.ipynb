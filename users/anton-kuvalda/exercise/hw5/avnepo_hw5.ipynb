{
 "cells": [
  {
   "cell_type": "code",
   "execution_count": 12,
   "id": "24f09ae3-7b96-4e3a-80de-13f4d289962e",
   "metadata": {},
   "outputs": [
    {
     "data": {
      "text/plain": [
       "{1, 2, 3, 4, 5}"
      ]
     },
     "execution_count": 12,
     "metadata": {},
     "output_type": "execute_result"
    }
   ],
   "source": [
    "set1 = {1, 2, 3, 4, 5}\n",
    "set1"
   ]
  },
  {
   "cell_type": "code",
   "execution_count": 13,
   "id": "74eacbdb-adc1-47eb-a3a2-16664b1d3122",
   "metadata": {},
   "outputs": [
    {
     "data": {
      "text/plain": [
       "{1, 2, 3, 4, 5, 6}"
      ]
     },
     "execution_count": 13,
     "metadata": {},
     "output_type": "execute_result"
    }
   ],
   "source": [
    "set1.add(6)\n",
    "set1"
   ]
  },
  {
   "cell_type": "code",
   "execution_count": 14,
   "id": "9cbfd229-735f-42ec-89c4-2d73e10ab2fc",
   "metadata": {},
   "outputs": [
    {
     "data": {
      "text/plain": [
       "{1, 3, 4, 5, 6}"
      ]
     },
     "execution_count": 14,
     "metadata": {},
     "output_type": "execute_result"
    }
   ],
   "source": [
    "set1.remove(2)\n",
    "set1"
   ]
  },
  {
   "cell_type": "code",
   "execution_count": 15,
   "id": "b11591fe-0962-4ff9-9b76-5f184235ea8c",
   "metadata": {},
   "outputs": [
    {
     "data": {
      "text/plain": [
       "True"
      ]
     },
     "execution_count": 15,
     "metadata": {},
     "output_type": "execute_result"
    }
   ],
   "source": [
    "3 in set1"
   ]
  },
  {
   "cell_type": "code",
   "execution_count": 18,
   "id": "e0e30821-2a3e-4004-88ed-ea725b969d92",
   "metadata": {},
   "outputs": [],
   "source": [
    "set2 = {4, 5, 6, 7, 8}"
   ]
  },
  {
   "cell_type": "code",
   "execution_count": 19,
   "id": "bafc4bf9-7525-4f5b-94f8-151899f6fa27",
   "metadata": {},
   "outputs": [
    {
     "data": {
      "text/plain": [
       "False"
      ]
     },
     "execution_count": 19,
     "metadata": {},
     "output_type": "execute_result"
    }
   ],
   "source": [
    "set1 in set2"
   ]
  },
  {
   "cell_type": "code",
   "execution_count": 20,
   "id": "62db6345-c061-43a3-abff-ac098e5f389c",
   "metadata": {},
   "outputs": [
    {
     "data": {
      "text/plain": [
       "{1, 3, 4, 5, 6, 7, 8}"
      ]
     },
     "execution_count": 20,
     "metadata": {},
     "output_type": "execute_result"
    }
   ],
   "source": [
    "set3 = set1 | set2\n",
    "set3"
   ]
  },
  {
   "cell_type": "code",
   "execution_count": 21,
   "id": "6a8f374a-9e0a-4522-bbdd-da6fbde4ec60",
   "metadata": {},
   "outputs": [
    {
     "data": {
      "text/plain": [
       "{4, 5, 6}"
      ]
     },
     "execution_count": 21,
     "metadata": {},
     "output_type": "execute_result"
    }
   ],
   "source": [
    "set4 = set1 & set2\n",
    "set4"
   ]
  },
  {
   "cell_type": "code",
   "execution_count": 22,
   "id": "938cea13-7718-4dba-b7e5-692e77ae3e17",
   "metadata": {},
   "outputs": [
    {
     "name": "stdout",
     "output_type": "stream",
     "text": [
      "{'фиолетовый', 'желтый', 'оранжевый', 'зеленый', 'голубой', 'синий', 'красный'}\n",
      "{'Мальвиновый', 'оранжевый', 'зеленый', 'голубой', 'синий'}\n"
     ]
    }
   ],
   "source": [
    "set1 = {'красный', \"оранжевый\", \"желтый\", \"зеленый\", \"голубой\", \"синий\", \"фиолетовый\"}\n",
    "set2 = {\"оранжевый\", \"зеленый\", \"голубой\", \"синий\", \"Мальвиновый\"}\n",
    "print (set1)\n",
    "print (set2)"
   ]
  },
  {
   "cell_type": "code",
   "execution_count": 23,
   "id": "8f007970-e476-4d77-9d0a-e05d672acced",
   "metadata": {},
   "outputs": [
    {
     "data": {
      "text/plain": [
       "{'голубой', 'зеленый', 'оранжевый', 'синий'}"
      ]
     },
     "execution_count": 23,
     "metadata": {},
     "output_type": "execute_result"
    }
   ],
   "source": [
    "set1 & set2"
   ]
  },
  {
   "cell_type": "code",
   "execution_count": 27,
   "id": "661db354-6152-4577-ab85-bced99e3e733",
   "metadata": {},
   "outputs": [
    {
     "data": {
      "text/plain": [
       "{'Мальвиновый',\n",
       " 'голубой',\n",
       " 'желтый',\n",
       " 'зеленый',\n",
       " 'красный',\n",
       " 'оранжевый',\n",
       " 'синий',\n",
       " 'фиолетовый'}"
      ]
     },
     "execution_count": 27,
     "metadata": {},
     "output_type": "execute_result"
    }
   ],
   "source": [
    "rainbow_colors = set1 | set2\n",
    "rainbow_colors"
   ]
  },
  {
   "cell_type": "code",
   "execution_count": null,
   "id": "18c574ed-72d0-4e71-bfe2-c9e0e59e24c8",
   "metadata": {},
   "outputs": [],
   "source": []
  }
 ],
 "metadata": {
  "kernelspec": {
   "display_name": "Python 3 (ipykernel)",
   "language": "python",
   "name": "python3"
  },
  "language_info": {
   "codemirror_mode": {
    "name": "ipython",
    "version": 3
   },
   "file_extension": ".py",
   "mimetype": "text/x-python",
   "name": "python",
   "nbconvert_exporter": "python",
   "pygments_lexer": "ipython3",
   "version": "3.10.10"
  }
 },
 "nbformat": 4,
 "nbformat_minor": 5
}
