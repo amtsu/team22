{
 "cells": [
  {
   "cell_type": "code",
   "execution_count": 4,
   "id": "5cf27a62-d48c-4779-8a0a-6f43c6828a65",
   "metadata": {},
   "outputs": [
    {
     "name": "stdout",
     "output_type": "stream",
     "text": [
      "Сумма покупок = 68\n",
      "OK\n",
      "Сумма покупок = 68\n"
     ]
    },
    {
     "ename": "AssertionError",
     "evalue": "",
     "output_type": "error",
     "traceback": [
      "\u001b[0;31m---------------------------------------------------------------------------\u001b[0m",
      "\u001b[0;31mAssertionError\u001b[0m                            Traceback (most recent call last)",
      "Cell \u001b[0;32mIn[4], line 35\u001b[0m\n\u001b[1;32m     33\u001b[0m     \u001b[38;5;28;01massert\u001b[39;00m pursh_list_sum(pursh_list_1) \u001b[38;5;241m==\u001b[39m \u001b[38;5;124m'\u001b[39m\u001b[38;5;124mСумма покупок = 68\u001b[39m\u001b[38;5;124m'\u001b[39m\n\u001b[1;32m     34\u001b[0m     \u001b[38;5;28mprint\u001b[39m (\u001b[38;5;124m'\u001b[39m\u001b[38;5;124mOK\u001b[39m\u001b[38;5;124m'\u001b[39m)\n\u001b[0;32m---> 35\u001b[0m \u001b[43mtest_pursh_list_sum\u001b[49m\u001b[43m(\u001b[49m\u001b[43m)\u001b[49m\n\u001b[1;32m     38\u001b[0m \u001b[38;5;66;03m# ANTON_KUVALDA_END_____________________________\u001b[39;00m\n",
      "Cell \u001b[0;32mIn[4], line 33\u001b[0m, in \u001b[0;36mtest_pursh_list_sum\u001b[0;34m()\u001b[0m\n\u001b[1;32m     32\u001b[0m \u001b[38;5;28;01mdef\u001b[39;00m \u001b[38;5;21mtest_pursh_list_sum\u001b[39m():\n\u001b[0;32m---> 33\u001b[0m     \u001b[38;5;28;01massert\u001b[39;00m pursh_list_sum(pursh_list_1) \u001b[38;5;241m==\u001b[39m \u001b[38;5;124m'\u001b[39m\u001b[38;5;124mСумма покупок = 68\u001b[39m\u001b[38;5;124m'\u001b[39m\n\u001b[1;32m     34\u001b[0m     \u001b[38;5;28mprint\u001b[39m (\u001b[38;5;124m'\u001b[39m\u001b[38;5;124mOK\u001b[39m\u001b[38;5;124m'\u001b[39m)\n",
      "\u001b[0;31mAssertionError\u001b[0m: "
     ]
    }
   ],
   "source": [
    "# ANTON_KUVALDA_START_____________________________\n",
    "\n",
    "pursh_list_1 = [['potato', 1], ['strings', 50], ['pick', 2]]\n",
    "new_pursh_1 = ['khinkali', 15]\n",
    "\n",
    "def add_pursh(pursh_list, new_pursh):\n",
    "    pursh_list.append(new_pursh)\n",
    "    #print (pursh_list)\n",
    "    return pursh_list\n",
    "    \n",
    "add_pursh(pursh_list_1, new_pursh_1)\n",
    "\n",
    "\n",
    "#сложить вторые элементы каждого вложеного списка\n",
    "def pursh_list_sum(any_pursh_list):\n",
    "    x = 0\n",
    "    for a in any_pursh_list:\n",
    "        #print (a[1])\n",
    "        x = x + a[1]\n",
    "    return print ('Сумма покупок =', x)\n",
    "    \n",
    "pursh_list_sum(pursh_list_1)\n",
    "\n",
    "#TESTS____\n",
    "def test_add_pursh():\n",
    "    pursh_list_1 = [['potato', 1], ['strings', 50], ['pick', 2]]\n",
    "    new_pursh_1 = ['khinkali', 15]\n",
    "    assert add_pursh(pursh_list_1, new_pursh_1) == [['potato', 1], ['strings', 50], ['pick', 2], ['khinkali', 15]]\n",
    "    print ('OK')\n",
    "test_add_pursh()\n",
    "\n",
    "def test_pursh_list_sum():\n",
    "    assert pursh_list_sum(pursh_list_1) == 'Сумма покупок = 68'\n",
    "    print ('OK')\n",
    "test_pursh_list_sum()\n",
    "\n",
    "\n",
    "# ANTON_KUVALDA_END_____________________________"
   ]
  },
  {
   "cell_type": "code",
   "execution_count": 5,
   "id": "b3e394d7-63aa-40b4-9f46-4436371a0c5b",
   "metadata": {},
   "outputs": [
    {
     "name": "stdout",
     "output_type": "stream",
     "text": [
      "OK\n"
     ]
    }
   ],
   "source": [
    "def test_add_pursh():\n",
    "    pursh_list_1 = [['potato', 1], ['strings', 50], ['pick', 1]]\n",
    "    new_pursh_1 = ['khinkali', 15]\n",
    "    assert add_pursh(pursh_list_1, new_pursh_1) == [['potato', 1], ['strings', 50], ['pick', 1], ['khinkali', 15]]\n",
    "    print ('OK')\n",
    "test_add_pursh()"
   ]
  },
  {
   "cell_type": "code",
   "execution_count": 55,
   "id": "17e46711-7887-4443-a610-c4d7b54a63a3",
   "metadata": {},
   "outputs": [
    {
     "name": "stdout",
     "output_type": "stream",
     "text": [
      "[['potato', 1, [['25'], ['05'], ['2024']]], ['strings', 50, [['01'], ['07'], ['2024']]], ['pick', 2, [['42'], ['06'], ['2024']]], ['khinkali', 15, [['94'], ['11'], ['2024']]]]\n",
      "Сумма за январь = 0\n",
      "Сумма за февраль = 0\n",
      "Сумма за март = 0\n",
      "Сумма за апрель = 0\n",
      "Сумма за май = 1\n",
      "Сумма за июнь = 2\n",
      "Сумма за июль = 50\n",
      "Сумма за август = 0\n",
      "Сумма за сентябрь = 0\n",
      "Сумма за октябрь = 0\n",
      "Сумма за ноябрь = 15\n",
      "Сумма за декабрь = 0\n"
     ]
    },
    {
     "data": {
      "text/plain": [
       "\"\\n#TESTS____\\ndef test_add_pursh():\\n    pursh_list_1 = [['potato', 1], ['strings', 50], ['pick', 2]]\\n    new_pursh_1 = ['khinkali', 15]\\n    assert add_pursh(pursh_list_1, new_pursh_1) == [['potato', 1], ['strings', 50], ['pick', 2], ['khinkali', 15]]\\n    print ('OK')\\n#test_add_pursh()\\n\\ndef test_pursh_list_sum():\\n    assert pursh_list_sum(pursh_list_1) == 'Сумма покупок = 68'\\n    print ('OK')\\n#test_pursh_list_sum()\\n\""
      ]
     },
     "execution_count": 55,
     "metadata": {},
     "output_type": "execute_result"
    }
   ],
   "source": [
    "# ANTON_KUVALDA_START_____________________________\n",
    "\n",
    "pursh_list = [['potato', 1, [['25'],['05'],['2024']]], \n",
    "                ['strings', 50, [['01'],['07'],['2024']]], \n",
    "                ['pick', 2, [['42'],['06'],['2024']]]]\n",
    "new_pursh_1 = ['khinkali', 15, [['94'],['11'],['2024']]]\n",
    "\n",
    "#добавляем новую позицию в список покупок\n",
    "def add_pursh(pursh_list, new_pursh):\n",
    "    pursh_list.append(new_pursh)\n",
    "    #print (pursh_list)\n",
    "    return pursh_list\n",
    "    \n",
    "pursh_list = add_pursh(pursh_list, new_pursh_1)\n",
    "print (pursh_list)\n",
    "\n",
    "'''\n",
    "#выдодим общую сумму покупок\n",
    "def pursh_list_sum(any_pursh_list):\n",
    "    x = 0\n",
    "    for a in any_pursh_list:\n",
    "        #print (a[1])\n",
    "        x = x + a[1]\n",
    "    return print ('Сумма покупок =', x)\n",
    "    \n",
    "pursh_list_sum(pursh_list)\n",
    "'''\n",
    "\n",
    "new_pursh_3 = ['khinkali', 15, [['01'],['04'],['2024']]]\n",
    "\n",
    "#выдодим суммы покупок по месяцам\n",
    "def pursh_list_month_sum(any_pursh_list):\n",
    "    sum_jan = 0\n",
    "    sum_feb = 0\n",
    "    sum_mar = 0\n",
    "    sum_apr = 0\n",
    "    sum_may = 0\n",
    "    sum_jun = 0\n",
    "    sum_jul = 0\n",
    "    sum_aug = 0\n",
    "    sum_sep = 0\n",
    "    sum_oct = 0\n",
    "    sum_nov = 0\n",
    "    sum_dec = 0\n",
    "    for a in any_pursh_list:\n",
    "        #print (a[2][1])\n",
    "        if (a[2][1]) == ['01']:\n",
    "            sum_jan = sum_jan + (a[1])\n",
    "        elif (a[2][1]) == ['02']:\n",
    "            sum_feb = sum_feb + (a[1])\n",
    "        elif (a[2][1]) == ['03']:\n",
    "            sum_mar = sum_mar + (a[1])\n",
    "        elif (a[2][1]) == ['04']:\n",
    "            sum_apr = sum_apr + (a[1])\n",
    "        elif (a[2][1]) == ['05']:\n",
    "            sum_may = sum_may + (a[1])\n",
    "        elif (a[2][1]) == ['06']:\n",
    "            sum_jun = sum_jun + (a[1])\n",
    "        elif (a[2][1]) == ['07']:\n",
    "            sum_jul = sum_jul + (a[1])\n",
    "        elif (a[2][1]) == ['08']:\n",
    "            sum_aug = sum_aug + (a[1])\n",
    "        elif (a[2][1]) == ['09']:\n",
    "            sum_sep = sum_sep + (a[1])\n",
    "        elif (a[2][1]) == ['10']:\n",
    "            sum_oct = sum_oct + (a[1])\n",
    "        elif (a[2][1]) == ['11']:\n",
    "            sum_nov = sum_nov + (a[1])\n",
    "        elif (a[2][1]) == ['12']:\n",
    "            sum_dec = sum_dec + (a[1])\n",
    "            \n",
    "    print ('Сумма за январь =', sum_jan)\n",
    "    print ('Сумма за февраль =', sum_feb)\n",
    "    print ('Сумма за март =', sum_mar)\n",
    "    print ('Сумма за апрель =', sum_apr)\n",
    "    print ('Сумма за май =', sum_may)\n",
    "    print ('Сумма за июнь =', sum_jun)\n",
    "    print ('Сумма за июль =', sum_jul)\n",
    "    print ('Сумма за август =', sum_aug)\n",
    "    print ('Сумма за сентябрь =', sum_sep)\n",
    "    print ('Сумма за октябрь =', sum_oct)\n",
    "    print ('Сумма за ноябрь =', sum_nov)\n",
    "    print ('Сумма за декабрь =', sum_dec)\n",
    "    \n",
    "pursh_list_month_sum(pursh_list)\n",
    "\n",
    "'''\n",
    "#TESTS____\n",
    "def test_add_pursh():\n",
    "    pursh_list_1 = [['potato', 1], ['strings', 50], ['pick', 2]]\n",
    "    new_pursh_1 = ['khinkali', 15]\n",
    "    assert add_pursh(pursh_list_1, new_pursh_1) == [['potato', 1], ['strings', 50], ['pick', 2], ['khinkali', 15]]\n",
    "    print ('OK')\n",
    "#test_add_pursh()\n",
    "\n",
    "def test_pursh_list_sum():\n",
    "    assert pursh_list_sum(pursh_list_1) == 'Сумма покупок = 68'\n",
    "    print ('OK')\n",
    "#test_pursh_list_sum()\n",
    "'''\n",
    "\n",
    "# ANTON_KUVALDA_END_____________________________"
   ]
  },
  {
   "cell_type": "code",
   "execution_count": null,
   "id": "bb6fcbaa-f87e-4a33-9b98-ff4a652529b8",
   "metadata": {},
   "outputs": [],
   "source": []
  }
 ],
 "metadata": {
  "kernelspec": {
   "display_name": "Python 3 (ipykernel)",
   "language": "python",
   "name": "python3"
  },
  "language_info": {
   "codemirror_mode": {
    "name": "ipython",
    "version": 3
   },
   "file_extension": ".py",
   "mimetype": "text/x-python",
   "name": "python",
   "nbconvert_exporter": "python",
   "pygments_lexer": "ipython3",
   "version": "3.10.10"
  }
 },
 "nbformat": 4,
 "nbformat_minor": 5
}
