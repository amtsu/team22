{
 "cells": [
  {
   "cell_type": "code",
   "execution_count": 11,
   "id": "69ed4843-4619-4d52-9265-2deeede66b63",
   "metadata": {},
   "outputs": [
    {
     "name": "stdout",
     "output_type": "stream",
     "text": [
      "[1, 2, 3, 4, 5, 6, 9]\n",
      "[1, 2, 3, 4, 5, 6, 9, 789]\n"
     ]
    }
   ],
   "source": [
    "list_one = [1, 2, 3, 4, 5, 6, 9]\n",
    "list_two = [1, 2, 3, 4, 5, 6, 9]\n",
    "list_two.append(789)\n",
    "print(list_one, list_two, sep='\\n')"
   ]
  },
  {
   "cell_type": "code",
   "execution_count": 12,
   "id": "c3acc600-a6d5-40e1-be64-386a54027a9a",
   "metadata": {},
   "outputs": [
    {
     "name": "stdout",
     "output_type": "stream",
     "text": [
      "[1, 2, 3, 4, 5, 6, 9, 789]\n",
      "[1, 2, 3, 4, 5, 6, 9, 789]\n"
     ]
    }
   ],
   "source": [
    "list_one = [1, 2, 3, 4, 5, 6, 9]\n",
    "list_two = list_one\n",
    "list_two.append(789)\n",
    "print(list_one, list_two, sep='\\n')"
   ]
  },
  {
   "cell_type": "code",
   "execution_count": null,
   "id": "5b48279f-56f8-4cab-8d42-e0a506effc2f",
   "metadata": {},
   "outputs": [],
   "source": [
    "# 1 - добавили в конец списка 789\n",
    "# 2 - добавили к обоим спискам 789, тк списки приравняны."
   ]
  },
  {
   "cell_type": "code",
   "execution_count": 17,
   "id": "7fbcdbcb-eefe-4485-9bed-a5569604344a",
   "metadata": {},
   "outputs": [
    {
     "data": {
      "text/plain": [
       "'За стеклом лежал Питон, Большой и толстый, как батон. Вверх пополз, Затем вернулся, Круглым бубликом свернулся.'"
      ]
     },
     "execution_count": 17,
     "metadata": {},
     "output_type": "execute_result"
    }
   ],
   "source": [
    "a_poem = 'За стеклом лежал Питон, Большой и толстый, как батон. Вверх пополз, Затем вернулся, Круглым бубликом свернулся.'\n",
    "a_poem"
   ]
  },
  {
   "cell_type": "code",
   "execution_count": 20,
   "id": "d2cae344-9a61-4038-bb4b-da7d4507098a",
   "metadata": {},
   "outputs": [
    {
     "name": "stdout",
     "output_type": "stream",
     "text": [
      "['З', 'а', ' ', 'с', 'т', 'е', 'к', 'л', 'о', 'м', ' ', 'л', 'е', 'ж', 'а', 'л', ' ', 'П', 'и', 'т', 'о', 'н', ',', ' ', 'Б', 'о', 'л', 'ь', 'ш', 'о', 'й', ' ', 'и', ' ', 'т', 'о', 'л', 'с', 'т', 'ы', 'й', ',', ' ', 'к', 'а', 'к', ' ', 'б', 'а', 'т', 'о', 'н', '.', ' ', 'В', 'в', 'е', 'р', 'х', ' ', 'п', 'о', 'п', 'о', 'л', 'з', ',', ' ', 'З', 'а', 'т', 'е', 'м', ' ', 'в', 'е', 'р', 'н', 'у', 'л', 'с', 'я', ',', ' ', 'К', 'р', 'у', 'г', 'л', 'ы', 'м', ' ', 'б', 'у', 'б', 'л', 'и', 'к', 'о', 'м', ' ', 'с', 'в', 'е', 'р', 'н', 'у', 'л', 'с', 'я', '.']\n"
     ]
    }
   ],
   "source": [
    "a_list = list(a_poem)\n",
    "print(a_list)"
   ]
  },
  {
   "cell_type": "code",
   "execution_count": 21,
   "id": "8e9552de-0cec-4716-90d8-6824a804d4da",
   "metadata": {},
   "outputs": [
    {
     "name": "stdout",
     "output_type": "stream",
     "text": [
      "['За', 'стеклом', 'лежал', 'Питон,', 'Большой', 'и', 'толстый,', 'как', 'батон.', 'Вверх', 'пополз,', 'Затем', 'вернулся,', 'Круглым', 'бубликом', 'свернулся.']\n"
     ]
    }
   ],
   "source": [
    "another_list = a_poem.split( )\n",
    "print(another_list)"
   ]
  },
  {
   "cell_type": "code",
   "execution_count": 23,
   "id": "788aaf54-114d-4e68-ae5b-b56a66124d7b",
   "metadata": {},
   "outputs": [
    {
     "data": {
      "text/plain": [
       "['З',\n",
       " 'а',\n",
       " ' ',\n",
       " 'с',\n",
       " 'т',\n",
       " 'е',\n",
       " 'к',\n",
       " 'л',\n",
       " 'о',\n",
       " 'м',\n",
       " ' ',\n",
       " 'л',\n",
       " 'е',\n",
       " 'ж',\n",
       " 'а',\n",
       " 'л',\n",
       " ' ',\n",
       " 'П',\n",
       " 'и',\n",
       " 'т',\n",
       " 'о',\n",
       " 'н',\n",
       " ',',\n",
       " ' ',\n",
       " 'Б',\n",
       " 'о',\n",
       " 'л',\n",
       " 'ь',\n",
       " 'ш',\n",
       " 'о',\n",
       " 'й',\n",
       " ' ',\n",
       " 'и',\n",
       " ' ',\n",
       " 'т',\n",
       " 'о',\n",
       " 'л',\n",
       " 'с',\n",
       " 'т',\n",
       " 'ы',\n",
       " 'й',\n",
       " ',',\n",
       " ' ',\n",
       " 'к',\n",
       " 'а',\n",
       " 'к',\n",
       " ' ',\n",
       " 'б',\n",
       " 'а',\n",
       " 'т',\n",
       " 'о',\n",
       " 'н',\n",
       " '.',\n",
       " ' ',\n",
       " 'В',\n",
       " 'в',\n",
       " 'е',\n",
       " 'р',\n",
       " 'х',\n",
       " ' ',\n",
       " 'п',\n",
       " 'о',\n",
       " 'п',\n",
       " 'о',\n",
       " 'л',\n",
       " 'з',\n",
       " ',',\n",
       " ' ',\n",
       " 'З',\n",
       " 'а',\n",
       " 'т',\n",
       " 'е',\n",
       " 'м',\n",
       " ' ',\n",
       " 'в',\n",
       " 'е',\n",
       " 'р',\n",
       " 'н',\n",
       " 'у',\n",
       " 'л',\n",
       " 'с',\n",
       " 'я',\n",
       " ',',\n",
       " ' ',\n",
       " 'К',\n",
       " 'р',\n",
       " 'у',\n",
       " 'г',\n",
       " 'л',\n",
       " 'ы',\n",
       " 'м',\n",
       " ' ',\n",
       " 'б',\n",
       " 'у',\n",
       " 'б',\n",
       " 'л',\n",
       " 'и',\n",
       " 'к',\n",
       " 'о',\n",
       " 'м',\n",
       " ' ',\n",
       " 'с',\n",
       " 'в',\n",
       " 'е',\n",
       " 'р',\n",
       " 'н',\n",
       " 'у',\n",
       " 'л',\n",
       " 'с',\n",
       " 'я',\n",
       " '.']"
      ]
     },
     "execution_count": 23,
     "metadata": {},
     "output_type": "execute_result"
    }
   ],
   "source": [
    "a_list"
   ]
  },
  {
   "cell_type": "code",
   "execution_count": 26,
   "id": "b18446ad-bbc3-4429-b81f-534d9654a0e1",
   "metadata": {},
   "outputs": [
    {
     "data": {
      "text/plain": [
       "['За',\n",
       " 'стеклом',\n",
       " 'лежал',\n",
       " 'Питон,',\n",
       " 'Большой',\n",
       " 'и',\n",
       " 'толстый,',\n",
       " 'как',\n",
       " 'батон.',\n",
       " 'Вверх',\n",
       " 'пополз,',\n",
       " 'Затем',\n",
       " 'вернулся,',\n",
       " 'Круглым',\n",
       " 'бубликом',\n",
       " 'свернулся.']"
      ]
     },
     "execution_count": 26,
     "metadata": {},
     "output_type": "execute_result"
    }
   ],
   "source": [
    "another_list"
   ]
  },
  {
   "cell_type": "code",
   "execution_count": 40,
   "id": "d75c4323-e220-4ff2-a89a-8ca701e2acaa",
   "metadata": {},
   "outputs": [
    {
     "data": {
      "text/plain": [
       "111"
      ]
     },
     "execution_count": 40,
     "metadata": {},
     "output_type": "execute_result"
    }
   ],
   "source": [
    "len (a_list)"
   ]
  },
  {
   "cell_type": "code",
   "execution_count": 41,
   "id": "75f3eab2-742e-4eb5-8ab7-060eb0fc437a",
   "metadata": {},
   "outputs": [
    {
     "data": {
      "text/plain": [
       "16"
      ]
     },
     "execution_count": 41,
     "metadata": {},
     "output_type": "execute_result"
    }
   ],
   "source": [
    "len (another_list)"
   ]
  },
  {
   "cell_type": "code",
   "execution_count": 61,
   "id": "a31dc0b2-1fe6-4934-8f92-aa3295d43c2a",
   "metadata": {},
   "outputs": [
    {
     "data": {
      "text/plain": [
       "['За стеклом лежал Питон',\n",
       " 'Большой и толстый',\n",
       " 'как батон. Вверх пополз',\n",
       " 'Затем вернулся',\n",
       " 'Круглым бубликом свернулся.']"
      ]
     },
     "execution_count": 61,
     "metadata": {},
     "output_type": "execute_result"
    }
   ],
   "source": [
    "one_more_list = a_poem.split(', ')\n",
    "one_more_list"
   ]
  },
  {
   "cell_type": "code",
   "execution_count": 64,
   "id": "45264daa-5054-4895-879d-6435768a4b1a",
   "metadata": {},
   "outputs": [
    {
     "data": {
      "text/plain": [
       "5"
      ]
     },
     "execution_count": 64,
     "metadata": {},
     "output_type": "execute_result"
    }
   ],
   "source": [
    "len (one_more_list)"
   ]
  },
  {
   "cell_type": "code",
   "execution_count": 119,
   "id": "d0e0a680-1572-41e7-a314-784d0ad99a7f",
   "metadata": {},
   "outputs": [
    {
     "data": {
      "text/plain": [
       "list"
      ]
     },
     "execution_count": 119,
     "metadata": {},
     "output_type": "execute_result"
    }
   ],
   "source": [
    "solyanka_list = ['int', 'float', 'tuple', 'list', 'bool', 'matrix', 'dict', 'set']\n",
    "type(solyanka_list)"
   ]
  },
  {
   "cell_type": "code",
   "execution_count": 120,
   "id": "d292e388-a407-4464-85b2-d8f9b09de6b3",
   "metadata": {},
   "outputs": [
    {
     "data": {
      "text/plain": [
       "8"
      ]
     },
     "execution_count": 120,
     "metadata": {},
     "output_type": "execute_result"
    }
   ],
   "source": [
    "len (solyanka_list)"
   ]
  },
  {
   "cell_type": "code",
   "execution_count": 121,
   "id": "1f13ebe3-eadf-4f67-b0a1-c5ae7c0e728d",
   "metadata": {},
   "outputs": [
    {
     "name": "stdout",
     "output_type": "stream",
     "text": [
      "<class 'str'>\n"
     ]
    },
    {
     "data": {
      "text/plain": [
       "['int', 'float', 'tuple', 'list', 'bool', 'matrix', 'dict', 'set']"
      ]
     },
     "execution_count": 121,
     "metadata": {},
     "output_type": "execute_result"
    }
   ],
   "source": [
    "print (type (solyanka_list[6]))\n",
    "solyanka_list"
   ]
  },
  {
   "cell_type": "code",
   "execution_count": 122,
   "id": "32d83e6d-bc00-4cc0-8e50-c1d7aabe1322",
   "metadata": {},
   "outputs": [
    {
     "data": {
      "text/plain": [
       "['int', 'float', 'tuple', 'list', 'bool', 'matrix', 'dict', 'set', [3, 2]]"
      ]
     },
     "execution_count": 122,
     "metadata": {},
     "output_type": "execute_result"
    }
   ],
   "source": [
    "list_1 = [3, 2]\n",
    "solyanka_list.append(list_1)\n",
    "solyanka_list"
   ]
  },
  {
   "cell_type": "code",
   "execution_count": 124,
   "id": "5e831d77-0aba-42dd-bf1a-332d605c7fb3",
   "metadata": {},
   "outputs": [
    {
     "name": "stdout",
     "output_type": "stream",
     "text": [
      "<class 'list'>\n"
     ]
    }
   ],
   "source": [
    "print (type (solyanka_list[8]))"
   ]
  },
  {
   "cell_type": "code",
   "execution_count": null,
   "id": "a9d3b6c1-ea56-4f13-b840-5c52ebe4a83c",
   "metadata": {},
   "outputs": [],
   "source": []
  }
 ],
 "metadata": {
  "kernelspec": {
   "display_name": "Python 3 (ipykernel)",
   "language": "python",
   "name": "python3"
  },
  "language_info": {
   "codemirror_mode": {
    "name": "ipython",
    "version": 3
   },
   "file_extension": ".py",
   "mimetype": "text/x-python",
   "name": "python",
   "nbconvert_exporter": "python",
   "pygments_lexer": "ipython3",
   "version": "3.10.10"
  }
 },
 "nbformat": 4,
 "nbformat_minor": 5
}
