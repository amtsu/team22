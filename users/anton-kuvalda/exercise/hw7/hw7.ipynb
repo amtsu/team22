{
 "cells": [
  {
   "cell_type": "code",
   "execution_count": null,
   "id": "5021faec-c4c0-451a-b25a-c844b22ca71e",
   "metadata": {},
   "outputs": [],
   "source": [
    "#Задание 2.####################"
   ]
  },
  {
   "cell_type": "code",
   "execution_count": 115,
   "id": "d47df369-5c0b-456d-9b16-494b67c93cf7",
   "metadata": {},
   "outputs": [
    {
     "name": "stdout",
     "output_type": "stream",
     "text": [
      "1\n",
      "242\n",
      "3\n",
      "4\n",
      "5\n",
      "6\n",
      "7\n",
      "8\n",
      "9\n",
      "10\n"
     ]
    }
   ],
   "source": [
    "def ten_times ():\n",
    "    for i in [1, 242, 3, 4, 5, 6, 7, 8, 9, 10]:\n",
    "        print(i)\n",
    "\n",
    "ten_times()"
   ]
  },
  {
   "cell_type": "code",
   "execution_count": null,
   "id": "e89dec78-2a2b-4534-94ac-5cfaa7830e96",
   "metadata": {},
   "outputs": [],
   "source": [
    "'''\n",
    "Задание 3.####################\n",
    "\n",
    "# дан отрывок кода\n",
    "a_haiku = [\"Всё глазел на них\",\n",
    "\"Сакуры цветы, пока\",\n",
    "\"Шею не свело\"]\n",
    "\n",
    "def print_haiku(haiku):\n",
    "    for line in haiku:\n",
    "        print(line)\n",
    "\n",
    "print_haiku(a_haiku)\n",
    "\n",
    "\n",
    "Модифицируйте функцию print_haiku таким образом, чтобы можно было \n",
    "выполнять произвольное преобразование над выводом строк.\n",
    "Посторайтесь сильно не менять код print_haiku()\n",
    "Выведите с помощью модифицированной функции print_haiku все строки хайку :\n",
    " - заглавными буквами\n",
    " - только каждый третий символ строк\n",
    " - красным цветом (https://habr.com/ru/sandbox/158854/, первый раздел)\n",
    "'''"
   ]
  },
  {
   "cell_type": "code",
   "execution_count": 127,
   "id": "b04992f7-4c60-441a-9fd9-74bd001da664",
   "metadata": {},
   "outputs": [
    {
     "name": "stdout",
     "output_type": "stream",
     "text": [
      "Всё глазел на них\n",
      "Сакуры цветы, пока\n",
      "Шею не свело\n"
     ]
    }
   ],
   "source": [
    "a_haiku = [\"Всё глазел на них\", \n",
    "           \"Сакуры цветы, пока\",\n",
    "           \"Шею не свело\"]\n",
    "\n",
    "def print_haiku(haiku):\n",
    "    for line in haiku:\n",
    "        print(line)\n",
    "\n",
    "print_haiku(a_haiku)"
   ]
  },
  {
   "cell_type": "code",
   "execution_count": 141,
   "id": "cea1deb6-78d7-4696-a208-cc7e11c9f08a",
   "metadata": {},
   "outputs": [
    {
     "name": "stdout",
     "output_type": "stream",
     "text": [
      "ВСЁ ГЛАЗЕЛ НА НИХ\n",
      "САКУРЫ ЦВЕТЫ, ПОКА\n",
      "ШЕЮ НЕ СВЕЛО\n"
     ]
    }
   ],
   "source": [
    "a_haiku = [\"Всё глазел на них\", \n",
    "           \"Сакуры цветы, пока\",\n",
    "           \"Шею не свело\"]\n",
    "\n",
    "def print_haiku_upper(haiku):\n",
    "    for line in haiku:\n",
    "        print(line.upper())\n",
    "\n",
    "print_haiku_upper(a_haiku)"
   ]
  },
  {
   "cell_type": "code",
   "execution_count": 5,
   "id": "69758c5d-0c48-45d2-8967-f5a45ea39478",
   "metadata": {},
   "outputs": [
    {
     "name": "stdout",
     "output_type": "stream",
     "text": [
      "В\n",
      "с\n",
      "ё\n",
      " \n",
      "г\n",
      "л\n",
      "а\n",
      "з\n",
      "е\n",
      "л\n",
      " \n",
      "н\n",
      "а\n",
      " \n",
      "н\n",
      "и\n",
      "х\n",
      "С\n",
      "а\n",
      "к\n",
      "у\n",
      "р\n",
      "ы\n",
      " \n",
      "ц\n",
      "в\n",
      "е\n",
      "т\n",
      "ы\n",
      ",\n",
      " \n",
      "п\n",
      "о\n",
      "к\n",
      "а\n",
      "Ш\n",
      "е\n",
      "ю\n",
      " \n",
      "н\n",
      "е\n",
      " \n",
      "с\n",
      "в\n",
      "е\n",
      "л\n",
      "о\n"
     ]
    }
   ],
   "source": [
    "a_haiku = [\"Всё глазел на них\", \n",
    "           \"Сакуры цветы, пока\",\n",
    "           \"Шею не свело\"]\n",
    "\n",
    "def print_haiku_3(haiku):\n",
    "    for line in haiku:\n",
    "        for x in line:\n",
    "            #if line.index(x) % 3 == 0 and line.index(x) != 0:\n",
    "                #print ( line.index (x) )\n",
    "                print (x)\n",
    "\n",
    "print_haiku_3(a_haiku)"
   ]
  },
  {
   "cell_type": "code",
   "execution_count": 88,
   "id": "05a0bbc3-f620-4697-9be7-43e4e17b2bcf",
   "metadata": {},
   "outputs": [
    {
     "name": "stdout",
     "output_type": "stream",
     "text": [
      "\u001b[45mВсё глазел на них\n",
      "\u001b[45mСакуры цветы, пока\n",
      "\u001b[45mШею не свело\n"
     ]
    }
   ],
   "source": [
    "def out_red(text):\n",
    "    print(\"\\033[45m{}\".format(text))\n",
    "    return (text)\n",
    "\n",
    "#out_red(\"ПРИВЕТ\")\n",
    "\n",
    "a_haiku = [\"Всё глазел на них\",\n",
    "\"Сакуры цветы, пока\",\n",
    "\"Шею не свело\"]\n",
    "\n",
    "def print_haiku (haiku) :\n",
    "    for line in haiku :\n",
    "        out_red (line)\n",
    "        #print(\"\\033[45m{}\".format(line))\n",
    "\n",
    "print_haiku (a_haiku)"
   ]
  },
  {
   "cell_type": "code",
   "execution_count": null,
   "id": "96fe70c8-f140-493d-b722-5f0e87048ab3",
   "metadata": {},
   "outputs": [],
   "source": [
    "'''\n",
    "Задание 4.#################### \n",
    "Напишите простой пользовательский интерфейс к заданию 3.\n",
    "Пользователю должно выдаваться сообщение о возможностях вывода (меню), и приглашение на ввод\n",
    "идентификатора действия или символа `q` для выхода, например:\n",
    "\n",
    "Возможные действия:\n",
    "1 - вывод хайку заглавными буквами\n",
    "2 - вывод только третьих символов каждой строки хайку\n",
    "3 - вывод хайку красным цветом\n",
    "Введите номер действия или q для выхода: \n",
    "\n",
    "После ввода идентификатора действия, необходимо выполнить соответствующее действие \n",
    "и снова вывести меню с запросом на ввод. в случае некорректного идентификатора действия \n",
    "вывести соответствующее сообщение и снова вывести меню. После ввода q завершить работу с\n",
    "простым пользовательским интрефейсом\n",
    "\n",
    "'''"
   ]
  },
  {
   "cell_type": "code",
   "execution_count": 2,
   "id": "0d9c8d8b-c764-4924-b8eb-68a5a3897aee",
   "metadata": {},
   "outputs": [
    {
     "name": "stdin",
     "output_type": "stream",
     "text": [
      " Чего пожелаете, Повелитель?\n",
      "1 - вывод хайку заглавными буквами,\n",
      "2 - вывод только третьих символов каждой строки хайку, \n",
      "3 - вывод хайку красным цветом\n",
      "Введите номер действия или q для выхода: \n",
      "\n",
      " q\n"
     ]
    },
    {
     "name": "stdout",
     "output_type": "stream",
     "text": [
      "Всё, ты вышел, короче)\n"
     ]
    }
   ],
   "source": [
    "inp = input(''' Чего пожелаете, Повелитель?\n",
    "1 - вывод хайку заглавными буквами,\n",
    "2 - вывод только третьих символов каждой строки хайку, \n",
    "3 - вывод хайку красным цветом\n",
    "Введите номер действия или q для выхода: \n",
    "\n",
    "''')\n",
    "\n",
    "#######\n",
    "def out_red(text):\n",
    "    print(\"\\033[45m{}\".format(text))\n",
    "    return (text)\n",
    "\n",
    "a_haiku = [\"Всё глазел на них\",\n",
    "\"Сакуры цветы, пока\",\n",
    "\"Шею не свело\"]\n",
    "\n",
    "def print_haiku_red (haiku) :\n",
    "    for line in haiku :\n",
    "        out_red (line)\n",
    "#######        \n",
    "\n",
    "#######\n",
    "a_haiku = [\"Всё глазел на них\", \n",
    "           \"Сакуры цветы, пока\",\n",
    "           \"Шею не свело\"]\n",
    "\n",
    "def print_haiku_upper(haiku):\n",
    "    for line in haiku:\n",
    "        print(line.upper())\n",
    "\n",
    "#######\n",
    "\n",
    "#######\n",
    "a_haiku = [\"Всё глазел на них\", \n",
    "           \"Сакуры цветы, пока\",\n",
    "           \"Шею не свело\"]\n",
    "\n",
    "def print_haiku_3(haiku):\n",
    "    for line in haiku:\n",
    "        for x in line:\n",
    "            if line.index(x) % 3 == 0 and line.index(x) != 0:\n",
    "                #print ( line.index (x) )\n",
    "                print (x)\n",
    "\n",
    "#######\n",
    "\n",
    "if inp == '1':\n",
    "    print_haiku_upper (a_haiku)\n",
    "\n",
    "if inp == '2':\n",
    "    print_haiku_3 (a_haiku)\n",
    "\n",
    "if inp == '3':\n",
    "    print_haiku_red (a_haiku)\n",
    "\n",
    "if inp == 'q':\n",
    "    print ('Всё, ты вышел, короче)')"
   ]
  },
  {
   "cell_type": "code",
   "execution_count": null,
   "id": "295154ad-1fe0-4efe-9ddd-9978ef089116",
   "metadata": {},
   "outputs": [],
   "source": [
    "'''\n",
    "Задание 5.####################\n",
    "\n",
    "\n",
    "Дополните функционал задания 3 одним из следующих способов вывода хайку:\n",
    "- каждое слово в строке различным цветом,\n",
    "- в каждой строке второе слово жирным шрифтом,\n",
    "- маленькими буквами синим цветом,\n",
    "при этом текст функции print_haiku() меняться не должен. Если такая доработка потребует\n",
    "его изменения, пересмотрите дизайн функции print_haiku(), чтобы расширение функионала вывода\n",
    "не требовало изменения print_haiku()\n",
    "Добавьте в интерфейс, созданный в задании 4 созданный новый способ вывода. Оцените объем и \n",
    "удобство модификации, при необходимости пересмотрите дизайн кода интерфейса для упрощения его \n",
    "изменекния.\n",
    "\n",
    "'''"
   ]
  },
  {
   "cell_type": "code",
   "execution_count": null,
   "id": "9483cc1a-776b-4384-9e8f-a80fa354e087",
   "metadata": {},
   "outputs": [],
   "source": [
    "inp = input(''' Чего пожелаете, Повелитель?\n",
    "1 - вывод хайку заглавными буквами,\n",
    "2 - вывод только третьих символов каждой строки хайку, \n",
    "3 - вывод хайку красным цветом\n",
    "4 - Карнавал! Каждое слово в строке различным цветом\n",
    "Введите номер действия или q для выхода: \n",
    "''') \n",
    "#######\n",
    "\n",
    "a_haiku = [\"Всё глазел на них\", \n",
    "           \"Сакуры цветы, пока\",\n",
    "           \"Шею не свело\"]\n",
    "\n",
    "def print_haiku(t):\n",
    "    \n",
    "    if inp == '1':\n",
    "        for line in a_haiku:\n",
    "            print(line.upper())\n",
    "\n",
    "    if inp == '2':\n",
    "        for line in a_haiku:\n",
    "            for x in line:\n",
    "                if line.index(x) % 3 == 0 and line.index(x) != 0:\n",
    "                #print ( line.index (x) )\n",
    "                    print (x)\n",
    "\n",
    "    if inp == '3':\n",
    "        for line in a_haiku :\n",
    "            print(\"\\033[45m{}\".format(line))    \n",
    "            \n",
    "\n",
    "    if inp == '4':\n",
    "        for line in a_haiku :\n",
    "            col = '\\033[45m{}'\n",
    "            slovo = str(line.split(' '))\n",
    "            #print (type(slovo))\n",
    "            print(col.format(slovo))\n",
    "            \n",
    "            #for sym in line :\n",
    "               # print(col.format(sym))\n",
    "\n",
    "   \n",
    "    if inp == 'q':\n",
    "        print ('Всё, ты вышел)')\n",
    "\n",
    "    else:\n",
    "        print ('Ваще хз что ты ввёл...')\n",
    "\n",
    "print_haiku(inp)"
   ]
  },
  {
   "cell_type": "code",
   "execution_count": null,
   "id": "81c23427-db29-41ce-9d66-99e65e069b01",
   "metadata": {},
   "outputs": [],
   "source": []
  }
 ],
 "metadata": {
  "kernelspec": {
   "display_name": "Python 3 (ipykernel)",
   "language": "python",
   "name": "python3"
  },
  "language_info": {
   "codemirror_mode": {
    "name": "ipython",
    "version": 3
   },
   "file_extension": ".py",
   "mimetype": "text/x-python",
   "name": "python",
   "nbconvert_exporter": "python",
   "pygments_lexer": "ipython3",
   "version": "3.10.10"
  }
 },
 "nbformat": 4,
 "nbformat_minor": 5
}
