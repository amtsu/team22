{
 "cells": [
  {
   "cell_type": "code",
   "execution_count": 67,
   "id": "6dfe9bc3-bf43-42f0-b186-13234a37e185",
   "metadata": {},
   "outputs": [],
   "source": [
    "def triangle_type(a: float, b: float, c: float) -> str:\n",
    "    \"\"\"\n",
    "    Функция, определяющая тип треугольника по длинам его сторон\n",
    "    \"\"\"\n",
    "    result = \"не треугольник\"\n",
    "    triangle_exist = (a < (b + c)) and (b < (a + c)) and (c < (a + b))\n",
    "    if triangle_exist:\n",
    "        sides = [a, b, c]\n",
    "        sides.sort()\n",
    "        acuteTriangle = (sides[0]**2 + sides[1]**2) > sides[2]**2\n",
    "        obtuseTriangle = (sides[0]**2 + sides[1]**2) < sides[2]**2\n",
    "        rightTriangle = abs((sides[0]**2 + sides[1]**2) - sides[2]**2) <= 0.01\n",
    "\n",
    "        if acuteTriangle:\n",
    "            result = \"остроугольный\"\n",
    "        elif obtuseTriangle:\n",
    "            result = \"тупоугольный\"\n",
    "        elif rightTriangle:\n",
    "            result  = \"прямоугольный\"\n",
    "\n",
    "    print (result)\n",
    "    return result"
   ]
  },
  {
   "cell_type": "code",
   "execution_count": 59,
   "id": "1a6e3729-a199-40ba-bb6d-d9b6a9783512",
   "metadata": {},
   "outputs": [
    {
     "name": "stdout",
     "output_type": "stream",
     "text": [
      "остроугольный\n"
     ]
    }
   ],
   "source": [
    "def test_acute():\n",
    "    \"\"\"\n",
    "    тестируем остроугольность треугольника\n",
    "    \"\"\"\n",
    "    input = [12,12,5] # такие стороны у остроугольного треугольника \n",
    "    expected =  \"остроугольный\"\n",
    "    assert expected == triangle_type(*input)\n",
    "test_acute()"
   ]
  },
  {
   "cell_type": "code",
   "execution_count": 33,
   "id": "449038bb-d2e1-45e4-809e-05c5e5fd3c27",
   "metadata": {},
   "outputs": [
    {
     "name": "stdout",
     "output_type": "stream",
     "text": [
      "тупоугольный\n"
     ]
    }
   ],
   "source": [
    "def test_obtuse():\n",
    "    \"\"\"\n",
    "    тестируем тупоугольность треугольника\n",
    "    \"\"\"\n",
    "    input = [12,12,20] # такие стороны у тупоугольного треугольника \n",
    "    expected =  \"тупоугольный\"\n",
    "    assert expected == triangle_type(*input)\n",
    "test_obtuse()"
   ]
  },
  {
   "cell_type": "code",
   "execution_count": 34,
   "id": "4c6d8d7a-63d7-4e45-8b6e-1e57aabd102c",
   "metadata": {},
   "outputs": [
    {
     "name": "stdout",
     "output_type": "stream",
     "text": [
      "прямоугольный\n"
     ]
    }
   ],
   "source": [
    "def test_right():\n",
    "    \"\"\"\n",
    "    тестируем прямоугольность треугольника\n",
    "    \"\"\"\n",
    "    input = [3,4,5] # такие стороны у прямоугольного треугольника \n",
    "    expected =  \"прямоугольный\"\n",
    "    assert expected == triangle_type(*input)\n",
    "test_right()"
   ]
  },
  {
   "cell_type": "code",
   "execution_count": 35,
   "id": "7b9b16da-bdba-4cf7-8b61-fa6465ecfa01",
   "metadata": {},
   "outputs": [
    {
     "name": "stdout",
     "output_type": "stream",
     "text": [
      "не треугольник\n"
     ]
    }
   ],
   "source": [
    "def test_untriangle():\n",
    "    \"\"\"\n",
    "    тестируем НЕтреугольниковость треугольника\n",
    "    \"\"\"\n",
    "    input = [1,2,500] # такие стороны у НЕ треугольника \n",
    "    expected =  \"не треугольник\"\n",
    "    assert expected == triangle_type(*input)\n",
    "test_untriangle()"
   ]
  },
  {
   "cell_type": "code",
   "execution_count": 46,
   "id": "3ed8627f-428c-44ef-8316-7fc4aa6ae8ba",
   "metadata": {},
   "outputs": [
    {
     "name": "stdout",
     "output_type": "stream",
     "text": [
      "не треугольник\n"
     ]
    }
   ],
   "source": [
    "def test_inp_minus():\n",
    "    \"\"\"\n",
    "    подаём отрицательные числа на вход\n",
    "    \"\"\"\n",
    "    input = [-1,0,-500] # отрицательные числа на вход \n",
    "    expected =  \"не треугольник\"\n",
    "    assert expected == triangle_type(*input)\n",
    "test_inp_minus()"
   ]
  },
  {
   "cell_type": "code",
   "execution_count": 69,
   "id": "43db562e-7dc0-406b-a9c7-79c05d71cb07",
   "metadata": {},
   "outputs": [
    {
     "name": "stdout",
     "output_type": "stream",
     "text": [
      "не треугольник\n"
     ]
    }
   ],
   "source": [
    "def test_inp_str():\n",
    "    \"\"\"\n",
    "    подаём str на вход\n",
    "    \"\"\"\n",
    "    input = ['ыва','veg','34'] # str на вход \n",
    "    type(input)\n",
    "    expected =  \"не треугольник\"\n",
    "    assert expected == triangle_type(*input)\n",
    "test_inp_str()"
   ]
  },
  {
   "cell_type": "code",
   "execution_count": null,
   "id": "4894c001-4bc2-42e9-af75-694e1e52905c",
   "metadata": {},
   "outputs": [],
   "source": []
  },
  {
   "cell_type": "code",
   "execution_count": null,
   "id": "8882992d-36bb-49dd-a4d3-0a5c08ef0a59",
   "metadata": {},
   "outputs": [],
   "source": []
  }
 ],
 "metadata": {
  "kernelspec": {
   "display_name": "Python 3 (ipykernel)",
   "language": "python",
   "name": "python3"
  },
  "language_info": {
   "codemirror_mode": {
    "name": "ipython",
    "version": 3
   },
   "file_extension": ".py",
   "mimetype": "text/x-python",
   "name": "python",
   "nbconvert_exporter": "python",
   "pygments_lexer": "ipython3",
   "version": "3.10.10"
  }
 },
 "nbformat": 4,
 "nbformat_minor": 5
}
