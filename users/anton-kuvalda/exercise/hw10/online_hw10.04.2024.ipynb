{
 "cells": [
  {
   "cell_type": "code",
   "execution_count": 35,
   "id": "175a6063-0b9a-4ec9-816b-63281ea612cd",
   "metadata": {},
   "outputs": [
    {
     "name": "stdout",
     "output_type": "stream",
     "text": [
      "554\n",
      "184.66666666666666\n"
     ]
    }
   ],
   "source": [
    "# ANTON_KUVALDA_START_____________________________\n",
    "\n",
    "books_list = [['W and P', 'Tolstoy', 70], ['Lukomorie', 'Pushkin', 234], ['Dead souls_2', 'Gogol', 250]]\n",
    "\n",
    "#print (books_list[0][2])\n",
    "              \n",
    "def sheets_quantity (some_list):\n",
    "    x = 0\n",
    "    for a in some_list:\n",
    "        x = x + a[2]\n",
    "    #print (x)\n",
    "    return x\n",
    "                  \n",
    "print (sheets_quantity (books_list))\n",
    "\n",
    "def average_sheets_quantity (some_list):\n",
    "    ave = sheets_quantity ((books_list)) / (len (books_list))\n",
    "    return ave\n",
    "    \n",
    "print (average_sheets_quantity (books_list))\n",
    "\n",
    "#TEST\n",
    "\n",
    "def test_sheets_quantity ():\n",
    "    assert sheets_quantity (books_list) == 554\n",
    "\n",
    "test_sheets_quantity ()\n",
    "\n",
    "\n",
    "def test_average_sheets_quantity ():\n",
    "    assert average_sheets_quantity (books_list) == 184.66666666666666\n",
    "    \n",
    "test_average_sheets_quantity ()\n",
    "\n",
    "              \n",
    "# ANTON_KUVALDA_END________________"
   ]
  },
  {
   "cell_type": "code",
   "execution_count": null,
   "id": "29318d1c-1367-4cf8-9e74-d13cd9094cca",
   "metadata": {},
   "outputs": [],
   "source": []
  }
 ],
 "metadata": {
  "kernelspec": {
   "display_name": "Python 3 (ipykernel)",
   "language": "python",
   "name": "python3"
  },
  "language_info": {
   "codemirror_mode": {
    "name": "ipython",
    "version": 3
   },
   "file_extension": ".py",
   "mimetype": "text/x-python",
   "name": "python",
   "nbconvert_exporter": "python",
   "pygments_lexer": "ipython3",
   "version": "3.10.10"
  }
 },
 "nbformat": 4,
 "nbformat_minor": 5
}
