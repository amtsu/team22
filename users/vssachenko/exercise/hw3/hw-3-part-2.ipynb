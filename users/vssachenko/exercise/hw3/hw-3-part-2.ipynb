{
 "cells": [
  {
   "cell_type": "markdown",
   "id": "dbe0b566-8d38-491a-ac80-e7e9886d0e02",
   "metadata": {},
   "source": [
    "Вычислить результат следующих операций:"
   ]
  },
  {
   "cell_type": "code",
   "execution_count": 1,
   "id": "54bedb98-f962-43a7-b9d5-2b5d12d2bf16",
   "metadata": {},
   "outputs": [
    {
     "data": {
      "text/plain": [
       "80"
      ]
     },
     "execution_count": 1,
     "metadata": {},
     "output_type": "execute_result"
    }
   ],
   "source": [
    "10 * (5 + 3) # ответ будет 80"
   ]
  },
  {
   "cell_type": "code",
   "execution_count": 2,
   "id": "a863b61f-742b-4922-8765-28357e1e4615",
   "metadata": {},
   "outputs": [
    {
     "data": {
      "text/plain": [
       "7.0"
      ]
     },
     "execution_count": 2,
     "metadata": {},
     "output_type": "execute_result"
    }
   ],
   "source": [
    "(20 - 6) / 2 # ответ будет 7"
   ]
  },
  {
   "cell_type": "code",
   "execution_count": 4,
   "id": "a0f6fec4-e97b-4dfe-9ce2-91f0a21f5048",
   "metadata": {},
   "outputs": [
    {
     "data": {
      "text/plain": [
       "32"
      ]
     },
     "execution_count": 4,
     "metadata": {},
     "output_type": "execute_result"
    }
   ],
   "source": [
    "2 ** 5 # ответ будет 32"
   ]
  },
  {
   "cell_type": "code",
   "execution_count": 5,
   "id": "fa42beaa-ebb6-4eac-a0dd-af1f431fcbf3",
   "metadata": {},
   "outputs": [
    {
     "data": {
      "text/plain": [
       "6"
      ]
     },
     "execution_count": 5,
     "metadata": {},
     "output_type": "execute_result"
    }
   ],
   "source": [
    "25 // 4 # ответ будет 6 (целая часть от деления)"
   ]
  },
  {
   "cell_type": "code",
   "execution_count": 12,
   "id": "83d3ef11-c037-4746-b467-efc73e2c86ec",
   "metadata": {},
   "outputs": [
    {
     "data": {
      "text/plain": [
       "1"
      ]
     },
     "execution_count": 12,
     "metadata": {},
     "output_type": "execute_result"
    }
   ],
   "source": [
    "25 % 4 # ответ будет 1 (остаток от деления)"
   ]
  },
  {
   "cell_type": "markdown",
   "id": "60eee314-b4a0-4700-b3c6-682d52594585",
   "metadata": {},
   "source": [
    "Выполнить следующие операции:\n",
    "Округлите число до целого.\n",
    "Возьмите остаток числа."
   ]
  },
  {
   "cell_type": "code",
   "execution_count": 14,
   "id": "7d527f19-b432-4bbf-892d-5c31e1343b42",
   "metadata": {},
   "outputs": [
    {
     "data": {
      "text/plain": [
       "-3"
      ]
     },
     "execution_count": 14,
     "metadata": {},
     "output_type": "execute_result"
    }
   ],
   "source": [
    "number = -3.14\n",
    "int(number)"
   ]
  },
  {
   "cell_type": "code",
   "execution_count": 17,
   "id": "55d4f388-28bb-431e-9d5c-af37c8682dec",
   "metadata": {},
   "outputs": [
    {
     "data": {
      "text/plain": [
       "-0.14000000000000012"
      ]
     },
     "execution_count": 17,
     "metadata": {},
     "output_type": "execute_result"
    }
   ],
   "source": [
    "number - int(number)"
   ]
  },
  {
   "cell_type": "markdown",
   "id": "a19a1cd6-577a-4846-8d1b-5c208e4df3d4",
   "metadata": {},
   "source": [
    "Даны стороны прямоугольника: a = 5, b = 7.\r\n",
    "Вычислить площадь прямоугольника и вывести результат на экран."
   ]
  },
  {
   "cell_type": "code",
   "execution_count": 22,
   "id": "09192456-4ffc-4869-8e33-d70c3260b640",
   "metadata": {},
   "outputs": [
    {
     "data": {
      "text/plain": [
       "35"
      ]
     },
     "execution_count": 22,
     "metadata": {},
     "output_type": "execute_result"
    }
   ],
   "source": [
    "a = 5\n",
    "b = 7\n",
    "a*b"
   ]
  },
  {
   "cell_type": "markdown",
   "id": "4f2ea441-9504-4382-a0f7-89eb97c0d958",
   "metadata": {},
   "source": [
    "На какой объем воздуха должен быть расчитан кондиционер, если с его помощью хотят охлаждать квартиру в которой размер гостинной 3.5 на 6.4 метра, спальни 3.4 на 4 метра и площадь не жилой части 11 метров. При том что высота потолков 3,1 метр."
   ]
  },
  {
   "cell_type": "code",
   "execution_count": 32,
   "id": "f9075986-0a1f-42b4-b070-99e078c5b7b0",
   "metadata": {},
   "outputs": [
    {
     "name": "stdout",
     "output_type": "stream",
     "text": [
      "69.44000000000001 42.16 11\n"
     ]
    }
   ],
   "source": [
    "sitting_room = 3.5 * 6.4 * 3.1\n",
    "bad_room = 3.4 * 4 * 3.1\n",
    "room = 11\n",
    "print(sitting_room, bad_room, room)"
   ]
  },
  {
   "cell_type": "code",
   "execution_count": 31,
   "id": "a682a515-96bc-4c88-9013-bb11c5e6a795",
   "metadata": {},
   "outputs": [
    {
     "name": "stdout",
     "output_type": "stream",
     "text": [
      "122.60000000000001\n"
     ]
    }
   ],
   "source": [
    "volume = sitting_room + bad_room + room\n",
    "print(volume)"
   ]
  },
  {
   "cell_type": "markdown",
   "id": "69e21dd7-8f04-49a5-941c-63c2ba206e9e",
   "metadata": {},
   "source": [
    "Дано квадратное уравнение вида ax^2 + bx + c = 0.\n",
    "Найти его решения, используя формулу дискриминанта.\n",
    "a номер текущего месяца\n",
    "b номер вашей группы\n",
    "c минус десять (-10)"
   ]
  },
  {
   "cell_type": "code",
   "execution_count": 38,
   "id": "87f5bd15-c8c5-4c9b-be7d-1369b60a47c1",
   "metadata": {},
   "outputs": [
    {
     "name": "stdout",
     "output_type": "stream",
     "text": [
      "5.3808315196468595 -13.38083151964686\n"
     ]
    }
   ],
   "source": [
    "# 2x^2 + 4x - 10 = 0\n",
    "D = (4 * 2) - (4 * 2 * -10)\n",
    "x_1 = (-4 + 88 ** 0.5) / 2 * 2\n",
    "x_2 = (-4 - 88 ** 0.5) / 2 * 2\n",
    "print(x_1, x_2)"
   ]
  },
  {
   "cell_type": "markdown",
   "id": "53630877-99d1-4d26-abf2-99ac6076e03d",
   "metadata": {},
   "source": [
    "Даны строки:\n",
    "string1 = \"hello, \"\n",
    "string2 = \"world!\"\n",
    "Объединить строки string1 и string2 и результат вывести на экран так чтобы первая буква в предложении стала заглавной."
   ]
  },
  {
   "cell_type": "code",
   "execution_count": 51,
   "id": "c3b57c68-c175-4f90-80d6-4cab381f2af9",
   "metadata": {},
   "outputs": [
    {
     "name": "stdout",
     "output_type": "stream",
     "text": [
      "Hello, world!\n"
     ]
    }
   ],
   "source": [
    "string1 = \"hello, \"\n",
    "string2 = \"world!\"\n",
    "string = string1[0].upper() + string1[1:7] + string2\n",
    "print(string)"
   ]
  },
  {
   "cell_type": "markdown",
   "id": "e6c09d52-ebaf-4f44-8b79-699459ce179b",
   "metadata": {},
   "source": [
    "Сколько символов было в предыдущей строке?"
   ]
  },
  {
   "cell_type": "code",
   "execution_count": 54,
   "id": "4fc911fe-98a7-4b91-9cd9-278fb7e825b8",
   "metadata": {},
   "outputs": [
    {
     "data": {
      "text/plain": [
       "13"
      ]
     },
     "execution_count": 54,
     "metadata": {},
     "output_type": "execute_result"
    }
   ],
   "source": [
    "len(string)"
   ]
  },
  {
   "cell_type": "markdown",
   "id": "e0256234-05b4-4026-8121-cb6a139cbe86",
   "metadata": {},
   "source": [
    "Выведите на экран строку la 25 раз."
   ]
  },
  {
   "cell_type": "code",
   "execution_count": 56,
   "id": "3f9c1c4b-8f18-44e2-bc24-62205a1b58ec",
   "metadata": {},
   "outputs": [
    {
     "data": {
      "text/plain": [
       "'lalalalalalalalalalalalalalalalalalalalalalalalala'"
      ]
     },
     "execution_count": 56,
     "metadata": {},
     "output_type": "execute_result"
    }
   ],
   "source": [
    "\"la\" * 25"
   ]
  },
  {
   "cell_type": "markdown",
   "id": "a36729ff-58d9-425f-acd4-20388b847ffb",
   "metadata": {},
   "source": [
    "numbers = [1, 2, 3, 4, 5]\n",
    "Выполнить следующие операции:\n",
    "1. Измените число 2 на строку \"hi\" \n",
    "2. Выведите значение, находящееся на позиции 2.\n",
    "3. Изменить значение на позиции 4 на список из 3 элементов [8, 6, 4].\n",
    "Результаты вывести на экран."
   ]
  },
  {
   "cell_type": "code",
   "execution_count": 61,
   "id": "00515f77-d348-4205-8d3d-6a67a630324c",
   "metadata": {},
   "outputs": [
    {
     "name": "stdout",
     "output_type": "stream",
     "text": [
      "[1, 'i', 3, 4, 5]\n"
     ]
    }
   ],
   "source": [
    "numbers = [1, 2, 3, 4, 5]\n",
    "numbers[1] = 'i'\n",
    "print(numbers)"
   ]
  },
  {
   "cell_type": "code",
   "execution_count": null,
   "id": "925ddb90-207a-4d3b-b5f4-8ac3aa3c8943",
   "metadata": {},
   "outputs": [],
   "source": []
  },
  {
   "cell_type": "code",
   "execution_count": null,
   "id": "96544166-1ca5-4ecf-80c5-fa80d9a5a593",
   "metadata": {},
   "outputs": [],
   "source": []
  },
  {
   "cell_type": "markdown",
   "id": "888245e7-ab19-4d27-b4c0-e5116a7a181e",
   "metadata": {},
   "source": [
    "numbers = [1, 2, 3, 4, 5, 6, 7, 8, 9, 10]\n",
    "Извлеките подсписок с 3-го по 7-й элемент включительно."
   ]
  },
  {
   "cell_type": "code",
   "execution_count": 58,
   "id": "6f3c3cda-7c42-4f77-9a67-5e7a00486a2e",
   "metadata": {},
   "outputs": [
    {
     "data": {
      "text/plain": [
       "[3, 4, 5, 6, 7]"
      ]
     },
     "execution_count": 58,
     "metadata": {},
     "output_type": "execute_result"
    }
   ],
   "source": [
    "numbers = [1, 2, 3, 4, 5, 6, 7, 8, 9, 10]\n",
    "numbers[2:7]"
   ]
  }
 ],
 "metadata": {
  "kernelspec": {
   "display_name": "Python 3 (ipykernel)",
   "language": "python",
   "name": "python3"
  },
  "language_info": {
   "codemirror_mode": {
    "name": "ipython",
    "version": 3
   },
   "file_extension": ".py",
   "mimetype": "text/x-python",
   "name": "python",
   "nbconvert_exporter": "python",
   "pygments_lexer": "ipython3",
   "version": "3.10.10"
  }
 },
 "nbformat": 4,
 "nbformat_minor": 5
}
