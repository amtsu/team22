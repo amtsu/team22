{
 "cells": [
  {
   "cell_type": "markdown",
   "id": "73c290ac",
   "metadata": {},
   "source": [
    "Реализовать на python базу данных по персоналу с двумя таблицами из занятия."
   ]
  },
  {
   "cell_type": "code",
   "execution_count": 31,
   "id": "eb709562",
   "metadata": {},
   "outputs": [],
   "source": [
    "import sqlite3"
   ]
  },
  {
   "cell_type": "code",
   "execution_count": 67,
   "id": "091ff5f7",
   "metadata": {},
   "outputs": [],
   "source": [
    "# Создание файла базы данных \n",
    "sqlite_connection = sqlite3.connect(\"inform.db\")\n",
    "cursor = sqlite_connection.cursor()"
   ]
  },
  {
   "cell_type": "code",
   "execution_count": 55,
   "id": "59a18763",
   "metadata": {},
   "outputs": [
    {
     "data": {
      "text/plain": [
       "<sqlite3.Cursor at 0x7fd1a44c3dc0>"
      ]
     },
     "execution_count": 55,
     "metadata": {},
     "output_type": "execute_result"
    }
   ],
   "source": [
    "# Создание таблицы department \n",
    "create_table_department = \"\"\"CREATE TABLE department(\n",
    "id integer, \n",
    "name varchar(15)\n",
    ")\"\"\"\n",
    "cursor.execute(create_table_department)"
   ]
  },
  {
   "cell_type": "code",
   "execution_count": 56,
   "id": "232ada0c",
   "metadata": {},
   "outputs": [
    {
     "data": {
      "text/plain": [
       "<sqlite3.Cursor at 0x7fd1a44c3dc0>"
      ]
     },
     "execution_count": 56,
     "metadata": {},
     "output_type": "execute_result"
    }
   ],
   "source": [
    "# Создание таблицы employees\n",
    "create_table_employees = \"\"\"CREATE TABLE employees(\n",
    "id integer, \n",
    "name varchar(12), \n",
    "surname varchar(15), \n",
    "department_id integer, \n",
    "salary integer\n",
    ")\"\"\"\n",
    "cursor.execute(create_table_employees)"
   ]
  },
  {
   "cell_type": "markdown",
   "id": "309dbad9",
   "metadata": {},
   "source": [
    "Заполнить таблицу данными."
   ]
  },
  {
   "cell_type": "code",
   "execution_count": 57,
   "id": "a35cd921",
   "metadata": {},
   "outputs": [
    {
     "data": {
      "text/plain": [
       "[]"
      ]
     },
     "execution_count": 57,
     "metadata": {},
     "output_type": "execute_result"
    }
   ],
   "source": [
    "# Наполнение таблицы department данными\n",
    "cursor.execute(\"\"\"INSERT INTO department (id, name) \n",
    "VALUES \n",
    "('1', 'Маркетинг'),\n",
    "('2', 'Продажи'),\n",
    "('3', 'Бухгалтерия'),\n",
    "('4', 'Менеджмент')\"\"\")\n",
    "cursor.fetchall()        "
   ]
  },
  {
   "cell_type": "code",
   "execution_count": 58,
   "id": "25f6d8cb",
   "metadata": {},
   "outputs": [
    {
     "data": {
      "text/plain": [
       "[]"
      ]
     },
     "execution_count": 58,
     "metadata": {},
     "output_type": "execute_result"
    }
   ],
   "source": [
    "# Наполнение таблицы employees данными\n",
    "cursor.execute(\"\"\"INSERT INTO employees (id, name, surname, department_id, salary)\n",
    "VALUES \n",
    "('1', 'Иван', 'Иванов', '1', '5000'),\n",
    "('2', 'Света', 'Сидорова', '1', '4500'),\n",
    "('3', 'Илья', 'Макаров', '2', '4500'),\n",
    "('4', 'Марина', 'Федорова', '2', '6000'),\n",
    "('5', 'Вадим', 'Ильин', '3', '7000'),\n",
    "('6', 'Илья', 'Филатов', '4', '5500'), \n",
    "('7', 'Марина', 'Сидорова', '2', '9000'),\n",
    "('8', 'Вадим', 'Ильин', '3', '7000')\"\"\")\n",
    "cursor.fetchall() "
   ]
  },
  {
   "cell_type": "markdown",
   "id": "635a872e",
   "metadata": {},
   "source": [
    "Написать select который вернет таблицу содержащую названия отделов, среднюю зарплату в отделе, отсортированных по убыванию средне зп."
   ]
  },
  {
   "cell_type": "code",
   "execution_count": 59,
   "id": "a286176e",
   "metadata": {},
   "outputs": [
    {
     "data": {
      "text/plain": [
       "[(1, 'Иван', 'Иванов', 1, 5000, 1, 'Маркетинг'),\n",
       " (2, 'Света', 'Сидорова', 1, 4500, 1, 'Маркетинг'),\n",
       " (3, 'Илья', 'Макаров', 2, 4500, 2, 'Продажи'),\n",
       " (4, 'Марина', 'Федорова', 2, 6000, 2, 'Продажи'),\n",
       " (5, 'Вадим', 'Ильин', 3, 7000, 3, 'Бухгалтерия'),\n",
       " (6, 'Илья', 'Филатов', 4, 5500, 4, 'Менеджмент'),\n",
       " (7, 'Марина', 'Сидорова', 2, 9000, 2, 'Продажи'),\n",
       " (8, 'Вадим', 'Ильин', 3, 7000, 3, 'Бухгалтерия')]"
      ]
     },
     "execution_count": 59,
     "metadata": {},
     "output_type": "execute_result"
    }
   ],
   "source": [
    "# Этап 1. Объединенние таблиц\n",
    "cursor.execute(\"SELECT * FROM employees JOIN department ON employees.department_id = department.id\")\n",
    "cursor.fetchall()"
   ]
  },
  {
   "cell_type": "code",
   "execution_count": 60,
   "id": "c8021b4f",
   "metadata": {},
   "outputs": [
    {
     "data": {
      "text/plain": [
       "[('Маркетинг',),\n",
       " ('Маркетинг',),\n",
       " ('Продажи',),\n",
       " ('Продажи',),\n",
       " ('Бухгалтерия',),\n",
       " ('Менеджмент',),\n",
       " ('Продажи',),\n",
       " ('Бухгалтерия',)]"
      ]
     },
     "execution_count": 60,
     "metadata": {},
     "output_type": "execute_result"
    }
   ],
   "source": [
    "# Этап 2. Выведение названий отделов\n",
    "cursor.execute(\"SELECT department.name FROM employees JOIN department ON employees.department_id = department.id\")\n",
    "cursor.fetchall()"
   ]
  },
  {
   "cell_type": "code",
   "execution_count": 61,
   "id": "a7d2cee2",
   "metadata": {},
   "outputs": [
    {
     "data": {
      "text/plain": [
       "[('Бухгалтерия', 7000.0),\n",
       " ('Менеджмент', 5500.0),\n",
       " ('Маркетинг', 4750.0),\n",
       " ('Продажи', 6500.0)]"
      ]
     },
     "execution_count": 61,
     "metadata": {},
     "output_type": "execute_result"
    }
   ],
   "source": [
    "# Этап 3. + средняя зарплата в отделе и сортировка по убыванию\n",
    "# Полное решение\n",
    "cursor.execute(\"\"\"\n",
    "SELECT department.name, AVG(salary) \n",
    "FROM employees JOIN department ON employees.department_id = department.id\n",
    "GROUP BY department.name\n",
    "ORDER BY salary DESC\"\"\")\n",
    "cursor.fetchall()"
   ]
  },
  {
   "cell_type": "markdown",
   "id": "bc6f8365",
   "metadata": {},
   "source": [
    "Добавить в первый отдел еще одно сотрудника с ЗП 1000 и посмотреть как изменится результат."
   ]
  },
  {
   "cell_type": "code",
   "execution_count": 62,
   "id": "c5559cab",
   "metadata": {},
   "outputs": [
    {
     "data": {
      "text/plain": [
       "[]"
      ]
     },
     "execution_count": 62,
     "metadata": {},
     "output_type": "execute_result"
    }
   ],
   "source": [
    "# Добавление сотрудника\n",
    "cursor.execute(\"\"\"INSERT INTO employees (id, name, surname, department_id, salary)\n",
    "VALUES ('9', 'Надя', 'Павленко', '1', '6500')\n",
    "\"\"\")\n",
    "cursor.fetchall()"
   ]
  },
  {
   "cell_type": "code",
   "execution_count": 68,
   "id": "4dea4ddb",
   "metadata": {},
   "outputs": [
    {
     "data": {
      "text/plain": [
       "[('Бухгалтерия', 7000.0),\n",
       " ('Менеджмент', 5500.0),\n",
       " ('Маркетинг', 5333.333333333333),\n",
       " ('Продажи', 6500.0)]"
      ]
     },
     "execution_count": 68,
     "metadata": {},
     "output_type": "execute_result"
    }
   ],
   "source": [
    "# Изменения в таблице со средней зп\n",
    "cursor.execute(\"\"\"SELECT department.name, AVG(salary) \n",
    "FROM employees JOIN department ON employees.department_id = department.id\n",
    "GROUP BY department.name\n",
    "ORDER BY salary DESC\"\"\")\n",
    "cursor.fetchall()"
   ]
  },
  {
   "cell_type": "code",
   "execution_count": 69,
   "id": "8869411b",
   "metadata": {},
   "outputs": [],
   "source": [
    "sqlite_connection.commit()"
   ]
  },
  {
   "cell_type": "code",
   "execution_count": 70,
   "id": "e3633f25",
   "metadata": {},
   "outputs": [],
   "source": [
    "sqlite_connection.close()"
   ]
  }
 ],
 "metadata": {
  "kernelspec": {
   "display_name": "Python 3 (ipykernel)",
   "language": "python",
   "name": "python3"
  },
  "language_info": {
   "codemirror_mode": {
    "name": "ipython",
    "version": 3
   },
   "file_extension": ".py",
   "mimetype": "text/x-python",
   "name": "python",
   "nbconvert_exporter": "python",
   "pygments_lexer": "ipython3",
   "version": "3.9.7"
  }
 },
 "nbformat": 4,
 "nbformat_minor": 5
}
