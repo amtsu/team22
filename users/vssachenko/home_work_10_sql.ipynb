{
 "cells": [
  {
   "cell_type": "code",
   "execution_count": 1,
   "id": "aed2cf7a",
   "metadata": {},
   "outputs": [],
   "source": [
    "import sqlite3"
   ]
  },
  {
   "cell_type": "code",
   "execution_count": 2,
   "id": "d5afbc0c",
   "metadata": {},
   "outputs": [],
   "source": [
    "connection = sqlite3.connect('/tmp/db_mini.sqlite3')\n",
    "cursor = connection.cursor()"
   ]
  },
  {
   "cell_type": "markdown",
   "id": "76f7e7e3",
   "metadata": {},
   "source": [
    "1. Разобраться, что есть в базе"
   ]
  },
  {
   "cell_type": "code",
   "execution_count": 5,
   "id": "58d21be6",
   "metadata": {},
   "outputs": [
    {
     "data": {
      "text/plain": [
       "[('table',\n",
       "  'products_history',\n",
       "  'products_history',\n",
       "  2,\n",
       "  'CREATE TABLE products_history(\"id\" integer NOT NULL PRIMARY KEY AUTOINCREMENT, \"datetime_create\" datetime NULL, \"title\" varchar(200) NULL, \"price_sale\" decimal NULL, \"url\" varchar(1000) NULL)'),\n",
       " ('table',\n",
       "  'sqlite_sequence',\n",
       "  'sqlite_sequence',\n",
       "  3,\n",
       "  'CREATE TABLE sqlite_sequence(name,seq)')]"
      ]
     },
     "execution_count": 5,
     "metadata": {},
     "output_type": "execute_result"
    }
   ],
   "source": [
    "# Просмотр существующих в базе таблиц. sqlite_master - хранит информацию о таблицах бд\n",
    "cursor.execute(\"SELECT * FROM sqlite_master WHERE type = 'table'\")\n",
    "cursor.fetchall()"
   ]
  },
  {
   "cell_type": "code",
   "execution_count": 7,
   "id": "e63f16a1",
   "metadata": {},
   "outputs": [
    {
     "data": {
      "text/plain": [
       "[('table',\n",
       "  'products_history',\n",
       "  'products_history',\n",
       "  2,\n",
       "  'CREATE TABLE products_history(\"id\" integer NOT NULL PRIMARY KEY AUTOINCREMENT, \"datetime_create\" datetime NULL, \"title\" varchar(200) NULL, \"price_sale\" decimal NULL, \"url\" varchar(1000) NULL)'),\n",
       " ('table',\n",
       "  'sqlite_sequence',\n",
       "  'sqlite_sequence',\n",
       "  3,\n",
       "  'CREATE TABLE sqlite_sequence(name,seq)')]"
      ]
     },
     "execution_count": 7,
     "metadata": {},
     "output_type": "execute_result"
    }
   ],
   "source": [
    "# sqlite_master и sqlite_schema одно и то же?\n",
    "cursor.execute(\"SELECT * FROM sqlite_schema\")\n",
    "cursor.fetchall()"
   ]
  },
  {
   "cell_type": "code",
   "execution_count": 8,
   "id": "12c3716f",
   "metadata": {},
   "outputs": [
    {
     "data": {
      "text/plain": [
       "[(0, 'id', 'integer', 1, None, 1),\n",
       " (1, 'datetime_create', 'datetime', 0, None, 0),\n",
       " (2, 'title', 'varchar(200)', 0, None, 0),\n",
       " (3, 'price_sale', 'decimal', 0, None, 0),\n",
       " (4, 'url', 'varchar(1000)', 0, None, 0)]"
      ]
     },
     "execution_count": 8,
     "metadata": {},
     "output_type": "execute_result"
    }
   ],
   "source": [
    "# Информация о столбцах таблицы products_history. Выводит номер столбца, название, тип переменой?\n",
    "cursor.execute(\"PRAGMA table_info(products_history)\")\n",
    "cursor.fetchall()"
   ]
  },
  {
   "cell_type": "code",
   "execution_count": 10,
   "id": "2d4a6af6",
   "metadata": {},
   "outputs": [
    {
     "data": {
      "text/plain": [
       "[(2870,\n",
       "  '2022-12-06 15:35:11.590625',\n",
       "  'Игрушка-конструктор COGO Боевой корабль',\n",
       "  2817.99,\n",
       "  'https://www.auchan.ru/product/konstruktor-760-det')]"
      ]
     },
     "execution_count": 10,
     "metadata": {},
     "output_type": "execute_result"
    }
   ],
   "source": [
    "# Вывод 1 строки из таблицы products_history\n",
    "cursor.execute(\"SELECT * FROM products_history limit 1\")\n",
    "cursor.fetchall()"
   ]
  },
  {
   "cell_type": "code",
   "execution_count": 13,
   "id": "461b1d54",
   "metadata": {},
   "outputs": [
    {
     "data": {
      "text/plain": [
       "[('products_history', 651800)]"
      ]
     },
     "execution_count": 13,
     "metadata": {},
     "output_type": "execute_result"
    }
   ],
   "source": [
    "# Вывод 1 строки из таблицы sqlite_sequence\n",
    "cursor.execute(\"SELECT * FROM sqlite_sequence limit 1\")\n",
    "cursor.fetchall()\n",
    "# Не понятно как связаны таблицы products_history и sqlite_sequence"
   ]
  },
  {
   "cell_type": "markdown",
   "id": "df39efcc",
   "metadata": {},
   "source": [
    "2. Выполнение запросов (40 шт.)"
   ]
  },
  {
   "cell_type": "code",
   "execution_count": null,
   "id": "a543137e",
   "metadata": {},
   "outputs": [],
   "source": [
    "# 1."
   ]
  },
  {
   "cell_type": "code",
   "execution_count": null,
   "id": "1668baaf",
   "metadata": {},
   "outputs": [],
   "source": [
    "# 2."
   ]
  },
  {
   "cell_type": "code",
   "execution_count": null,
   "id": "b12e4184",
   "metadata": {},
   "outputs": [],
   "source": [
    "# 3."
   ]
  },
  {
   "cell_type": "code",
   "execution_count": null,
   "id": "51f0d61a",
   "metadata": {},
   "outputs": [],
   "source": [
    "# 4."
   ]
  },
  {
   "cell_type": "code",
   "execution_count": null,
   "id": "f87aebc5",
   "metadata": {},
   "outputs": [],
   "source": [
    "# 5."
   ]
  },
  {
   "cell_type": "code",
   "execution_count": null,
   "id": "c87ee211",
   "metadata": {},
   "outputs": [],
   "source": [
    "# 6. Вывести названия товаров в которые содержат слова молоко и стоимостью больше 50 рублей"
   ]
  },
  {
   "cell_type": "code",
   "execution_count": null,
   "id": "cf9770c0",
   "metadata": {},
   "outputs": [],
   "source": [
    "# 7. Посчитать общее количество товарных позиций"
   ]
  },
  {
   "cell_type": "code",
   "execution_count": null,
   "id": "fab03b9d",
   "metadata": {},
   "outputs": [],
   "source": [
    "# 8. Посчитать количество товаров когда товаром является молоко размером 1 литр"
   ]
  },
  {
   "cell_type": "code",
   "execution_count": null,
   "id": "c3ea1482",
   "metadata": {},
   "outputs": [],
   "source": [
    "# 9. Посчитать среднюю стоимость литрового пакет молока"
   ]
  },
  {
   "cell_type": "code",
   "execution_count": null,
   "id": "9b1b2977",
   "metadata": {},
   "outputs": [],
   "source": [
    "# 10. В одном запросе вывести среднюю стоимость для пакетов молока 1 литр 950 и 900 миллилитров"
   ]
  },
  {
   "cell_type": "code",
   "execution_count": null,
   "id": "eedaa7d4",
   "metadata": {},
   "outputs": [],
   "source": [
    "# 11. Выбрать 50 товаров, цена которых больше 50'000 и отсортировать по убыванию по цене."
   ]
  },
  {
   "cell_type": "code",
   "execution_count": null,
   "id": "24d3bf54",
   "metadata": {},
   "outputs": [],
   "source": [
    "# 12. Изменить все названия в которых есть слово \"Вино\" в столбце \"title\" на \"Винишко\"."
   ]
  },
  {
   "cell_type": "code",
   "execution_count": null,
   "id": "2465131a",
   "metadata": {},
   "outputs": [],
   "source": [
    "# 13. Посчитать сумму стоимости товаров с id от 2877 до 2922."
   ]
  },
  {
   "cell_type": "code",
   "execution_count": null,
   "id": "99301469",
   "metadata": {},
   "outputs": [],
   "source": [
    "# 14. Добавить столбец \"Количество товаров в магазине\"."
   ]
  },
  {
   "cell_type": "code",
   "execution_count": null,
   "id": "c69fab32",
   "metadata": {},
   "outputs": [],
   "source": [
    "# 15. Посчитать количество товаров в названиях которых есть \"Лыжный комплект\" и \"Игрушка для собак\"."
   ]
  },
  {
   "cell_type": "code",
   "execution_count": null,
   "id": "53fb465f",
   "metadata": {},
   "outputs": [],
   "source": [
    "# 16. Вывести среднюю стоимость товаров типа виски"
   ]
  },
  {
   "cell_type": "code",
   "execution_count": null,
   "id": "208edf35",
   "metadata": {},
   "outputs": [],
   "source": [
    "# 17.  Вывести товары совпадающие по типу"
   ]
  },
  {
   "cell_type": "code",
   "execution_count": null,
   "id": "bc552185",
   "metadata": {},
   "outputs": [],
   "source": [
    "# 18. Вывести товары весом меньше 50г"
   ]
  },
  {
   "cell_type": "code",
   "execution_count": null,
   "id": "93fad2c2",
   "metadata": {},
   "outputs": [],
   "source": [
    "# 19. Упорядочить товары по цене"
   ]
  },
  {
   "cell_type": "code",
   "execution_count": null,
   "id": "71a8606e",
   "metadata": {},
   "outputs": [],
   "source": [
    "# 20. Вывести 5 самых дорогих и самых дешевых товара"
   ]
  },
  {
   "cell_type": "code",
   "execution_count": null,
   "id": "03fe086a",
   "metadata": {},
   "outputs": [],
   "source": [
    "# 21. "
   ]
  },
  {
   "cell_type": "code",
   "execution_count": null,
   "id": "cfa4d7fd",
   "metadata": {},
   "outputs": [],
   "source": [
    "# 22."
   ]
  },
  {
   "cell_type": "code",
   "execution_count": null,
   "id": "d24a3516",
   "metadata": {},
   "outputs": [],
   "source": [
    "# 23."
   ]
  },
  {
   "cell_type": "code",
   "execution_count": null,
   "id": "8bfa4071",
   "metadata": {},
   "outputs": [],
   "source": [
    "# 23."
   ]
  },
  {
   "cell_type": "code",
   "execution_count": null,
   "id": "24ba6e9b",
   "metadata": {},
   "outputs": [],
   "source": [
    "# 24."
   ]
  },
  {
   "cell_type": "code",
   "execution_count": null,
   "id": "67ed1270",
   "metadata": {},
   "outputs": [],
   "source": [
    "# 25."
   ]
  },
  {
   "cell_type": "code",
   "execution_count": null,
   "id": "4fa77ab5",
   "metadata": {},
   "outputs": [],
   "source": [
    "# 26."
   ]
  },
  {
   "cell_type": "code",
   "execution_count": null,
   "id": "80229092",
   "metadata": {},
   "outputs": [],
   "source": [
    "# 27."
   ]
  },
  {
   "cell_type": "code",
   "execution_count": null,
   "id": "8aa6c629",
   "metadata": {},
   "outputs": [],
   "source": [
    "# 28."
   ]
  },
  {
   "cell_type": "code",
   "execution_count": null,
   "id": "5b3fe7a3",
   "metadata": {},
   "outputs": [],
   "source": [
    "# 29."
   ]
  },
  {
   "cell_type": "code",
   "execution_count": null,
   "id": "6a9f02a2",
   "metadata": {},
   "outputs": [],
   "source": [
    "# 30."
   ]
  },
  {
   "cell_type": "code",
   "execution_count": null,
   "id": "16f54353",
   "metadata": {},
   "outputs": [],
   "source": [
    "# 31."
   ]
  },
  {
   "cell_type": "code",
   "execution_count": null,
   "id": "5acbdc59",
   "metadata": {},
   "outputs": [],
   "source": [
    "# 32."
   ]
  },
  {
   "cell_type": "code",
   "execution_count": null,
   "id": "5f0a7fc0",
   "metadata": {},
   "outputs": [],
   "source": [
    "# 33."
   ]
  },
  {
   "cell_type": "code",
   "execution_count": null,
   "id": "30a56329",
   "metadata": {},
   "outputs": [],
   "source": [
    "# 34."
   ]
  },
  {
   "cell_type": "code",
   "execution_count": null,
   "id": "acf6aeb1",
   "metadata": {},
   "outputs": [],
   "source": [
    "# 35."
   ]
  },
  {
   "cell_type": "code",
   "execution_count": null,
   "id": "f7a337b1",
   "metadata": {},
   "outputs": [],
   "source": [
    "# 36."
   ]
  },
  {
   "cell_type": "code",
   "execution_count": null,
   "id": "a2804460",
   "metadata": {},
   "outputs": [],
   "source": [
    "# 37."
   ]
  },
  {
   "cell_type": "code",
   "execution_count": null,
   "id": "2022f972",
   "metadata": {},
   "outputs": [],
   "source": [
    "# 38."
   ]
  },
  {
   "cell_type": "code",
   "execution_count": null,
   "id": "9b1f7696",
   "metadata": {},
   "outputs": [],
   "source": [
    "# 39."
   ]
  },
  {
   "cell_type": "code",
   "execution_count": null,
   "id": "5e00f7c4",
   "metadata": {},
   "outputs": [],
   "source": [
    "# 40."
   ]
  }
 ],
 "metadata": {
  "kernelspec": {
   "display_name": "Python 3 (ipykernel)",
   "language": "python",
   "name": "python3"
  },
  "language_info": {
   "codemirror_mode": {
    "name": "ipython",
    "version": 3
   },
   "file_extension": ".py",
   "mimetype": "text/x-python",
   "name": "python",
   "nbconvert_exporter": "python",
   "pygments_lexer": "ipython3",
   "version": "3.9.7"
  }
 },
 "nbformat": 4,
 "nbformat_minor": 5
}
