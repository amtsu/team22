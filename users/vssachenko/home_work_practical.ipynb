{
 "cells": [
  {
   "cell_type": "markdown",
   "id": "f265ddaf",
   "metadata": {},
   "source": [
    "# ДЗ. Вывести телефоны, где Д в имени и старше 10 лет."
   ]
  },
  {
   "cell_type": "markdown",
   "id": "528d4f12",
   "metadata": {},
   "source": [
    "# Вариант 1 (список)"
   ]
  },
  {
   "cell_type": "code",
   "execution_count": 2,
   "id": "4aedfa2f",
   "metadata": {},
   "outputs": [
    {
     "name": "stdout",
     "output_type": "stream",
     "text": [
      "19.03.1989\n",
      "No\n",
      "1.1.2222\n",
      "YES\n",
      "12.12.2221\n",
      "No\n"
     ]
    }
   ],
   "source": [
    "phone_items = [\n",
    "    [\"89037911526\", \"19.03.1989\", \"ANdrey\"],\n",
    "    [\"89168600096\", \"1.1.2222\", \"dima\"],\n",
    "    [\"812132112\", \"12.12.2221\", \"stepan\"]\n",
    "]\n",
    "\n",
    "for i in phone_items:\n",
    "    print(i[1])\n",
    "    str_d_b = i[1]    \n",
    "    # str_year_b = str_d_b.split('.')[2] (можно через [-4:])\n",
    "    # int_year_b = int(str_year_b)\n",
    "    # age = 2023 - int_year_b\n",
    "    # print(age)\n",
    "    # is_yanger_10 = age < 10\n",
    "    # print('is_yanger_10 =', is_yanger_10)\n",
    "    if i[2].upper().find(\"D\") > -1 and (2023 - int(str_d_b.split('.')[2])) < 10: \n",
    "        print('YES')\n",
    "    else:\n",
    "        print('No')"
   ]
  },
  {
   "cell_type": "markdown",
   "id": "2690c244",
   "metadata": {},
   "source": [
    "# Вариант 2 (словарь)"
   ]
  },
  {
   "cell_type": "code",
   "execution_count": 2,
   "id": "c4a1d1ee",
   "metadata": {},
   "outputs": [
    {
     "name": "stdout",
     "output_type": "stream",
     "text": [
      "89168600096\n"
     ]
    }
   ],
   "source": [
    "phone_items_dict = [\n",
    "    {\n",
    "        \"phone\": \"89037911526\",\n",
    "        \"b_date\": \"19.03.1989\",\n",
    "        \"name\": \"ANdrey\"\n",
    "    },\n",
    "    {\n",
    "        \"phone\": \"89168600096\",\n",
    "        \"b_date\": \"1.1.2222\",\n",
    "        \"name\": \"dima\"\n",
    "    },\n",
    "    {\n",
    "        \"phone\": \"812132112\",\n",
    "        \"b_date\": \"12.12.2221\",\n",
    "        \"name\": \"stepan\"\n",
    "    }\n",
    "]\n",
    "\n",
    "'''Вывести телефон, где Д в имени и старше 10 лет'''\n",
    "\n",
    "for i in phone_items_dict:\n",
    "    if i[\"name\"].upper().find(\"D\") > -1 and 2023 - int(i[\"b_date\"].split('.')[2]) < 10:\n",
    "        print(i[\"phone\"])   \n",
    "# 2013 год всегда придется задавать вручную в теле кода. Можно автоматизировать? Через input и исключения или if? "
   ]
  },
  {
   "cell_type": "markdown",
   "id": "543a956c",
   "metadata": {},
   "source": [
    "# Вариант 3 (функция + список) \n",
    "Функция должна принимать строку в имеи и возраст, младше которого надо. \n",
    "аргументы: подстрока, которую надо искать в имени, дата рождения, номер телефона (?)"
   ]
  },
  {
   "cell_type": "code",
   "execution_count": 5,
   "id": "c577cfb6",
   "metadata": {},
   "outputs": [],
   "source": [
    "phone_items = [\n",
    "    [\"89037911526\", \"19.03.1989\", \"ANdrey\"],\n",
    "    [\"89168600096\", \"1.1.2222\", \"dima\"],\n",
    "    [\"812132112\", \"12.12.2221\", \"stepan\"]\n",
    "]\n",
    "\n",
    "def phone_number(name, d_bithday, phone_number):\n",
    "    for element in phone_items:\n",
    "        if"
   ]
  },
  {
   "cell_type": "markdown",
   "id": "1eadf2a8",
   "metadata": {},
   "source": [
    "# Вариант 4 (функция + словарь)"
   ]
  },
  {
   "cell_type": "code",
   "execution_count": 12,
   "id": "f3cf8874",
   "metadata": {},
   "outputs": [
    {
     "ename": "AttributeError",
     "evalue": "'dict' object has no attribute 'lower'",
     "output_type": "error",
     "traceback": [
      "\u001b[0;31m---------------------------------------------------------------------------\u001b[0m",
      "\u001b[0;31mAttributeError\u001b[0m                            Traceback (most recent call last)",
      "Cell \u001b[0;32mIn [12], line 19\u001b[0m\n\u001b[1;32m      1\u001b[0m phones \u001b[38;5;241m=\u001b[39m [\n\u001b[1;32m      2\u001b[0m     {\n\u001b[1;32m      3\u001b[0m         \u001b[38;5;124m\"\u001b[39m\u001b[38;5;124mphone\u001b[39m\u001b[38;5;124m\"\u001b[39m: \u001b[38;5;124m\"\u001b[39m\u001b[38;5;124m8-929-903-65-89\u001b[39m\u001b[38;5;124m\"\u001b[39m,\n\u001b[0;32m   (...)\u001b[0m\n\u001b[1;32m     15\u001b[0m         \u001b[38;5;124m\"\u001b[39m\u001b[38;5;124mcity\u001b[39m\u001b[38;5;124m\"\u001b[39m: \u001b[38;5;124m\"\u001b[39m\u001b[38;5;124mVladimir\u001b[39m\u001b[38;5;124m\"\u001b[39m\n\u001b[1;32m     16\u001b[0m     }]\n\u001b[1;32m     18\u001b[0m \u001b[38;5;28;01mfor\u001b[39;00m element \u001b[38;5;129;01min\u001b[39;00m phones:\n\u001b[0;32m---> 19\u001b[0m     \u001b[43melement\u001b[49m\u001b[38;5;241;43m.\u001b[39;49m\u001b[43mlower\u001b[49m\n\u001b[1;32m     20\u001b[0m     \u001b[38;5;28;01mif\u001b[39;00m element[\u001b[38;5;124m\"\u001b[39m\u001b[38;5;124mname\u001b[39m\u001b[38;5;124m\"\u001b[39m][\u001b[38;5;241m0\u001b[39m] \u001b[38;5;241m==\u001b[39m \u001b[38;5;124m\"\u001b[39m\u001b[38;5;124mv\u001b[39m\u001b[38;5;124m\"\u001b[39m:\n\u001b[1;32m     21\u001b[0m         \u001b[38;5;28mprint\u001b[39m(element[\u001b[38;5;124m\"\u001b[39m\u001b[38;5;124mphone\u001b[39m\u001b[38;5;124m\"\u001b[39m])\n",
      "\u001b[0;31mAttributeError\u001b[0m: 'dict' object has no attribute 'lower'"
     ]
    }
   ],
   "source": [
    "phones = [\n",
    "    {\n",
    "        \"phone\": \"8-929-903-65-89\",\n",
    "        \"name\": \"Ivan\",\n",
    "        \"city\": \"Moscow\"\n",
    "    },\n",
    "    {\n",
    "        \"phone\": \"8-929-903-35-40\",\n",
    "        \"name\": \"Vlad\",\n",
    "        \"city\": \"Moscow\"\n",
    "    },\n",
    "    {\n",
    "        \"phone\": \"8-929-907-89-38\",\n",
    "        \"name\": \"Nina\",\n",
    "        \"city\": \"Vladimir\"\n",
    "    }]\n",
    "    \n",
    "for element in phones:\n",
    "    element.lower\n",
    "    if element[\"name\"][0] == \"v\":\n",
    "        print(element[\"phone\"])"
   ]
  },
  {
   "cell_type": "code",
   "execution_count": null,
   "id": "f2a19c3d",
   "metadata": {},
   "outputs": [],
   "source": []
  }
 ],
 "metadata": {
  "kernelspec": {
   "display_name": "Python 3 (ipykernel)",
   "language": "python",
   "name": "python3"
  },
  "language_info": {
   "codemirror_mode": {
    "name": "ipython",
    "version": 3
   },
   "file_extension": ".py",
   "mimetype": "text/x-python",
   "name": "python",
   "nbconvert_exporter": "python",
   "pygments_lexer": "ipython3",
   "version": "3.9.7"
  }
 },
 "nbformat": 4,
 "nbformat_minor": 5
}
