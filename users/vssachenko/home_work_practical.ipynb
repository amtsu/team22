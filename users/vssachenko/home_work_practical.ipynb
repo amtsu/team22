{
 "cells": [
  {
   "cell_type": "markdown",
   "id": "f265ddaf",
   "metadata": {},
   "source": [
    "# ДЗ. Вывести телефоны, где Д в имени и старше 10 лет."
   ]
  },
  {
   "cell_type": "markdown",
   "id": "528d4f12",
   "metadata": {},
   "source": [
    "# Вариант 1 (список)"
   ]
  },
  {
   "cell_type": "code",
   "execution_count": 2,
   "id": "4aedfa2f",
   "metadata": {},
   "outputs": [
    {
     "name": "stdout",
     "output_type": "stream",
     "text": [
      "19.03.1989\n",
      "No\n",
      "1.1.2222\n",
      "YES\n",
      "12.12.2221\n",
      "No\n"
     ]
    }
   ],
   "source": [
    "phone_items = [\n",
    "    [\"89037911526\", \"19.03.1989\", \"ANdrey\"],\n",
    "    [\"89168600096\", \"1.1.2222\", \"dima\"],\n",
    "    [\"812132112\", \"12.12.2221\", \"stepan\"]\n",
    "]\n",
    "\n",
    "for i in phone_items:\n",
    "    print(i[1])\n",
    "    str_d_b = i[1]    \n",
    "    # str_year_b = str_d_b.split('.')[2] (можно через [-4:])\n",
    "    # int_year_b = int(str_year_b)\n",
    "    # age = 2023 - int_year_b\n",
    "    # print(age)\n",
    "    # is_yanger_10 = age < 10\n",
    "    # print('is_yanger_10 =', is_yanger_10)\n",
    "    if i[2].upper().find(\"D\") > -1 and (2023 - int(str_d_b.split('.')[2])) < 10: \n",
    "        print('YES')\n",
    "    else:\n",
    "        print('No')"
   ]
  },
  {
   "cell_type": "markdown",
   "id": "2690c244",
   "metadata": {},
   "source": [
    "# Вариант 2 (словарь)"
   ]
  },
  {
   "cell_type": "code",
   "execution_count": 2,
   "id": "c4a1d1ee",
   "metadata": {},
   "outputs": [
    {
     "name": "stdout",
     "output_type": "stream",
     "text": [
      "89168600096\n"
     ]
    }
   ],
   "source": [
    "phone_items_dict = [\n",
    "    {\n",
    "        \"phone\": \"89037911526\",\n",
    "        \"b_date\": \"19.03.1989\",\n",
    "        \"name\": \"ANdrey\"\n",
    "    },\n",
    "    {\n",
    "        \"phone\": \"89168600096\",\n",
    "        \"b_date\": \"1.1.2222\",\n",
    "        \"name\": \"dima\"\n",
    "    },\n",
    "    {\n",
    "        \"phone\": \"812132112\",\n",
    "        \"b_date\": \"12.12.2221\",\n",
    "        \"name\": \"stepan\"\n",
    "    }\n",
    "]\n",
    "\n",
    "'''Вывести телефон, где Д в имени и старше 10 лет'''\n",
    "\n",
    "for i in phone_items_dict:\n",
    "    if i[\"name\"].upper().find(\"D\") > -1 and 2023 - int(i[\"b_date\"].split('.')[2]) < 10:\n",
    "        print(i[\"phone\"])   \n",
    "# 2013 год всегда придется задавать вручную в теле кода. Можно автоматизировать? Через input и исключения или if? "
   ]
  },
  {
   "cell_type": "markdown",
   "id": "543a956c",
   "metadata": {},
   "source": [
    "# Вариант 3 (функция + список) \n",
    "Функция должна принимать строку в имеи и возраст, младше которого надо. \n",
    "аргументы: подстрока, которую надо искать в имени, дата рождения, номер телефона (?)"
   ]
  },
  {
   "cell_type": "code",
   "execution_count": 5,
   "id": "c577cfb6",
   "metadata": {},
   "outputs": [],
   "source": [
    "phone_items = [\n",
    "    [\"89037911526\", \"19.03.1989\", \"ANdrey\"],\n",
    "    [\"89168600096\", \"1.1.2222\", \"dima\"],\n",
    "    [\"812132112\", \"12.12.2221\", \"stepan\"]\n",
    "]\n",
    "\n",
    "def phone_number(name, d_bithday, phone_number):\n"
   ]
  },
  {
   "cell_type": "markdown",
   "id": "1eadf2a8",
   "metadata": {},
   "source": [
    "# Вариант 4 (функция + словарь)"
   ]
  }
 ],
 "metadata": {
  "kernelspec": {
   "display_name": "Python 3 (ipykernel)",
   "language": "python",
   "name": "python3"
  },
  "language_info": {
   "codemirror_mode": {
    "name": "ipython",
    "version": 3
   },
   "file_extension": ".py",
   "mimetype": "text/x-python",
   "name": "python",
   "nbconvert_exporter": "python",
   "pygments_lexer": "ipython3",
   "version": "3.9.7"
  }
 },
 "nbformat": 4,
 "nbformat_minor": 5
}
