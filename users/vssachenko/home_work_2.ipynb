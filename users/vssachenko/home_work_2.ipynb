{
 "cells": [
  {
   "cell_type": "markdown",
   "id": "98f349f2",
   "metadata": {},
   "source": [
    "# Упражнения из книги. \n",
    "Попрактикуйтесь и введите следующие команды, но перед тем как нажать enter подумайте что она вам должна выдать. А после получения ответа поймите почему получили такий результаты(задания взяты из книги)."
   ]
  },
  {
   "cell_type": "code",
   "execution_count": 1,
   "id": "72a0c31d",
   "metadata": {},
   "outputs": [
    {
     "data": {
      "text/plain": [
       "70.0"
      ]
     },
     "execution_count": 1,
     "metadata": {},
     "output_type": "execute_result"
    }
   ],
   "source": [
    "((5 + 30) * 20) / 10\n",
    "# Выведется значение выражения = 70"
   ]
  },
  {
   "cell_type": "code",
   "execution_count": 2,
   "id": "70db2435",
   "metadata": {},
   "outputs": [
    {
     "data": {
      "text/plain": [
       "65.0"
      ]
     },
     "execution_count": 2,
     "metadata": {},
     "output_type": "execute_result"
    }
   ],
   "source": [
    "5 + 30 * 20 / 10\n",
    "# Выведется значение выражения = 65.0"
   ]
  },
  {
   "cell_type": "code",
   "execution_count": 3,
   "id": "947b5270",
   "metadata": {},
   "outputs": [
    {
     "name": "stdout",
     "output_type": "stream",
     "text": [
      "200\n"
     ]
    }
   ],
   "source": [
    "fred = 200\n",
    "john = fred\n",
    "print(john)\n",
    "# Выведется 200"
   ]
  },
  {
   "cell_type": "code",
   "execution_count": 5,
   "id": "72d95272",
   "metadata": {},
   "outputs": [
    {
     "data": {
      "text/plain": [
       "3514"
      ]
     },
     "execution_count": 5,
     "metadata": {},
     "output_type": "execute_result"
    }
   ],
   "source": [
    "20 + 10 * 365 - 3 * 52\n",
    "# Выведется значение выражения = 3514"
   ]
  },
  {
   "cell_type": "code",
   "execution_count": 8,
   "id": "75f32791",
   "metadata": {},
   "outputs": [
    {
     "data": {
      "text/plain": [
       "3514"
      ]
     },
     "execution_count": 8,
     "metadata": {},
     "output_type": "execute_result"
    }
   ],
   "source": [
    "found_coins = 20\n",
    "magic_coins = 10\n",
    "stolen_coins = 3\n",
    "found_coins + magic_coins * 365 - stolen_coins * 52\n",
    "# Выведется значение выражения = 10794"
   ]
  },
  {
   "cell_type": "code",
   "execution_count": 9,
   "id": "3f7196e4",
   "metadata": {},
   "outputs": [
    {
     "name": "stdout",
     "output_type": "stream",
     "text": [
      "Что едят на полдник динозавры?\n",
      "ТиРекс-кекс!\n"
     ]
    }
   ],
   "source": [
    "fred = '''Что едят на полдник динозавры?\n",
    "ТиРекс-кекс!''' \n",
    "print(fred)\n",
    "# Выведется Что едят на полдник динозавры? ТиРекс-кекс"
   ]
  },
  {
   "cell_type": "code",
   "execution_count": 10,
   "id": "db488feb",
   "metadata": {},
   "outputs": [
    {
     "name": "stdout",
     "output_type": "stream",
     "text": [
      "Мой счет: 1000 очков\n"
     ]
    }
   ],
   "source": [
    "myscore = 1000\n",
    "message = 'Мой счет: %s очков'\n",
    "print(message % myscore)\n",
    "# Выведется Мой счет: 1000 очков"
   ]
  },
  {
   "cell_type": "code",
   "execution_count": 11,
   "id": "4dc2727c",
   "metadata": {},
   "outputs": [
    {
     "name": "stdout",
     "output_type": "stream",
     "text": [
      "Коленка: приспособление для поиска мебели в темноте\n",
      "Лодыжка: приспособление для поиска мебели в темноте\n"
     ]
    }
   ],
   "source": [
    "joke_text = '%s: приспособление для поиска мебели в темноте'\n",
    "bodypart1 = 'Коленка'\n",
    "bodypart2 = 'Лодыжка'\n",
    "print(joke_text % bodypart1) \n",
    "print(joke_text % bodypart2)\n",
    "# Выведется Коленка: приспособление для поиска мебели втемноте\n",
    "# Выведется Лодыжка: приспособление для поиска мебели втемноте"
   ]
  },
  {
   "cell_type": "code",
   "execution_count": 1,
   "id": "76876f45",
   "metadata": {},
   "outputs": [
    {
     "name": "stdout",
     "output_type": "stream",
     "text": [
      "Что сказало число 0 числу 8? Славный поясок!\n"
     ]
    }
   ],
   "source": [
    "nums = 'Что сказало число %s числу %s? Славный поясок!'\n",
    "print(nums % (0, 8))\n",
    "# Выведется: Что сказало число 0 числу 8? Славный поясок!"
   ]
  },
  {
   "cell_type": "code",
   "execution_count": 12,
   "id": "2416b39b",
   "metadata": {},
   "outputs": [
    {
     "name": "stdout",
     "output_type": "stream",
     "text": [
      "aaaaaaaaaa\n"
     ]
    }
   ],
   "source": [
    "print(10 * 'a')\n",
    "# Выведется: aaaaaaaaaa"
   ]
  },
  {
   "cell_type": "code",
   "execution_count": 13,
   "id": "6d38c0b4",
   "metadata": {},
   "outputs": [
    {
     "name": "stdout",
     "output_type": "stream",
     "text": [
      "глаз тритона\n"
     ]
    }
   ],
   "source": [
    "wizard_list = ['паучьи лапки', 'жабий палец', 'глаз тритона', 'крыло летучей мыши', 'жир слизня', 'перхоть змеи']\n",
    "print(wizard_list[2])\n",
    "# Выведется: жабий палец"
   ]
  },
  {
   "cell_type": "code",
   "execution_count": 14,
   "id": "3e78a86f",
   "metadata": {},
   "outputs": [
    {
     "name": "stdout",
     "output_type": "stream",
     "text": [
      "['паучьи лапки', 'жабий палец', 'язык улитки', 'крыло летучей мыши', 'жир слизня', 'перхоть змеи']\n"
     ]
    }
   ],
   "source": [
    "wizard_list[2] = 'язык улитки'\n",
    "print(wizard_list)\n",
    "# Выведется: паучьи лапки, жабий палец, язык улитки, крыло летучей мыши, жир слизня"
   ]
  },
  {
   "cell_type": "code",
   "execution_count": 17,
   "id": "c066c3bf",
   "metadata": {},
   "outputs": [
    {
     "name": "stdout",
     "output_type": "stream",
     "text": [
      "['язык улитки', 'крыло летучей мыши', 'жир слизня']\n"
     ]
    }
   ],
   "source": [
    "print(wizard_list[2:5])\n",
    "# Выведется: язык улитки, крыло летучей мыши, жир слизня"
   ]
  },
  {
   "cell_type": "code",
   "execution_count": 18,
   "id": "4d0e6812",
   "metadata": {},
   "outputs": [
    {
     "name": "stdout",
     "output_type": "stream",
     "text": [
      "[7, 'раз', 'отпей', 1, 'раз', 'отъешь']\n"
     ]
    }
   ],
   "source": [
    "numbers_and_strings = [7, 'раз', 'отпей', 1, 'раз', 'отъешь']\n",
    "print(numbers_and_strings)\n",
    "# Выведется: 7, раз, отпей, 1, раз, отъешь"
   ]
  },
  {
   "cell_type": "code",
   "execution_count": 21,
   "id": "f2626312",
   "metadata": {},
   "outputs": [
    {
     "name": "stdout",
     "output_type": "stream",
     "text": [
      "[[1, 2, 3, 4, 5], ['хватит', 'циферки', 'считать']]\n"
     ]
    }
   ],
   "source": [
    "numbers = [1, 2, 3, 4, 5]\n",
    "strings = ['хватит', 'циферки', 'считать']\n",
    "mylist = [numbers, strings]\n",
    "print(mylist)\n",
    "# Выведется: [[1, 2, 3, 4, 5], ['хватит', 'циферки', 'считать]]"
   ]
  },
  {
   "cell_type": "code",
   "execution_count": 22,
   "id": "c2a1125c",
   "metadata": {},
   "outputs": [
    {
     "name": "stdout",
     "output_type": "stream",
     "text": [
      "['паучьи лапки', 'жабий палец', 'язык улитки', 'крыло летучей мыши', 'жир слизня', 'перхоть змеи', 'медвежий коготь']\n"
     ]
    }
   ],
   "source": [
    "wizard_list.append('медвежий коготь')\n",
    "print(wizard_list)\n",
    "# Выведется: ['паучьи лапки', 'жабий палец', 'язык улитки', 'крыло летучей мыши', 'жир слизня', 'перхоть змеи', 'медвежий коготь']"
   ]
  },
  {
   "cell_type": "code",
   "execution_count": 23,
   "id": "264aff12",
   "metadata": {},
   "outputs": [
    {
     "name": "stdout",
     "output_type": "stream",
     "text": [
      "['паучьи лапки', 'жабий палец', 'язык улитки', 'крыло летучей мыши', 'жир слизня', 'перхоть змеи', 'медвежий коготь', 'мандрагора', 'болиголов', 'болотный газ']\n"
     ]
    }
   ],
   "source": [
    "wizard_list.append('мандрагора') \n",
    "wizard_list.append('болиголов')\n",
    "wizard_list.append('болотный газ') \n",
    "print(wizard_list)\n",
    "# Выведется: ['паучьи лапки', 'жабий палец', 'язык улитки', 'крыло летучей мыши', 'жир слизня', 'перхоть змеи', 'медвежий коготь', 'мандрагора', 'болиголов', 'болотный газ']"
   ]
  },
  {
   "cell_type": "code",
   "execution_count": 24,
   "id": "21e734f2",
   "metadata": {},
   "outputs": [
    {
     "name": "stdout",
     "output_type": "stream",
     "text": [
      "['паучьи лапки', 'жабий палец', 'язык улитки', 'крыло летучей мыши', 'жир слизня', 'медвежий коготь', 'мандрагора', 'болиголов', 'болотный газ']\n"
     ]
    }
   ],
   "source": [
    "del wizard_list[5]\n",
    "print(wizard_list)\n",
    "# Выведется: ['паучьи лапки', 'жабий палец', 'язык улитки', 'крыло летучей мыши', 'жир слизня', 'медвежий коготь', 'мандрагора', 'болиголов', 'болотный газ']"
   ]
  },
  {
   "cell_type": "code",
   "execution_count": 25,
   "id": "cae171f9",
   "metadata": {},
   "outputs": [
    {
     "name": "stdout",
     "output_type": "stream",
     "text": [
      "['паучьи лапки', 'жабий палец', 'язык улитки', 'крыло летучей мыши', 'жир слизня', 'медвежий коготь']\n"
     ]
    }
   ],
   "source": [
    "del wizard_list[8]\n",
    "del wizard_list[7]\n",
    "del wizard_list[6]\n",
    "print(wizard_list)\n",
    "# Выведется: ['паучьи лапки', 'жабий палец', 'язык улитки', 'крыло летучей мыши', 'жир слизня', 'медвежий коготь']"
   ]
  },
  {
   "cell_type": "code",
   "execution_count": 26,
   "id": "e2bec96f",
   "metadata": {},
   "outputs": [
    {
     "name": "stdout",
     "output_type": "stream",
     "text": [
      "[1, 2, 3, 4, 5, 'я', 'забрался', 'под', 'кровать']\n"
     ]
    }
   ],
   "source": [
    "list1 = [1, 2, 3, 4, 5]\n",
    "list2 = ['я', 'забрался', 'под', 'кровать']\n",
    "print(list1 + list2)\n",
    "# Выведется: [1, 2, 3, 4, 5, 'я', 'забрался', 'под', 'кровать']"
   ]
  },
  {
   "cell_type": "code",
   "execution_count": 27,
   "id": "55b2eb02",
   "metadata": {},
   "outputs": [
    {
     "name": "stdout",
     "output_type": "stream",
     "text": [
      "[1, 2, 1, 2, 1, 2, 1, 2, 1, 2]\n"
     ]
    }
   ],
   "source": [
    "list1 = [1, 2]\n",
    "print(list1 * 5)\n",
    "# Выведется: [1, 2, 1, 2, 1, 2, 1, 2, 1, 2]"
   ]
  },
  {
   "cell_type": "code",
   "execution_count": 6,
   "id": "32f8e195",
   "metadata": {},
   "outputs": [],
   "source": [
    "favorite_sports = ['Ральф Уильямс, Футбол', 'Майкл Типпетт, Баскетбол', 'Эдвард Элгар, Бейсбол', 'Ребекка Кларк, Нетбол',  'Этель Смит, Бадминтон', 'Фрэнк Бридж, Регби']"
   ]
  },
  {
   "cell_type": "code",
   "execution_count": 7,
   "id": "57546d9d",
   "metadata": {},
   "outputs": [
    {
     "ename": "TypeError",
     "evalue": "list indices must be integers or slices, not str",
     "output_type": "error",
     "traceback": [
      "\u001b[0;31m---------------------------------------------------------------------------\u001b[0m",
      "\u001b[0;31mTypeError\u001b[0m                                 Traceback (most recent call last)",
      "Cell \u001b[0;32mIn [7], line 2\u001b[0m\n\u001b[1;32m      1\u001b[0m \u001b[38;5;66;03m# !!!!!!!!!!!!!!!!!!!!!!!!!!!!!!!!!!!!!!!!!!!!!\u001b[39;00m\n\u001b[0;32m----> 2\u001b[0m \u001b[38;5;28mprint\u001b[39m(\u001b[43mfavorite_sports\u001b[49m\u001b[43m[\u001b[49m\u001b[38;5;124;43m'\u001b[39;49m\u001b[38;5;124;43mРебекка Кларк\u001b[39;49m\u001b[38;5;124;43m'\u001b[39;49m\u001b[43m]\u001b[49m)\n\u001b[1;32m      3\u001b[0m \u001b[38;5;66;03m# Выведется: Ребекка Кларк\u001b[39;00m\n",
      "\u001b[0;31mTypeError\u001b[0m: list indices must be integers or slices, not str"
     ]
    }
   ],
   "source": [
    "# !!!!!!!!!!!!!!!!!!!!!!!!!!!!!!!!!!!!!!!!!!!!!\n",
    "print(favorite_sports['Ребекка Кларк'])\n",
    "# Выведется: Ребекка Кларк"
   ]
  },
  {
   "cell_type": "code",
   "execution_count": 8,
   "id": "751d9a8e",
   "metadata": {},
   "outputs": [
    {
     "ename": "TypeError",
     "evalue": "list indices must be integers or slices, not str",
     "output_type": "error",
     "traceback": [
      "\u001b[0;31m---------------------------------------------------------------------------\u001b[0m",
      "\u001b[0;31mTypeError\u001b[0m                                 Traceback (most recent call last)",
      "Cell \u001b[0;32mIn [8], line 2\u001b[0m\n\u001b[1;32m      1\u001b[0m \u001b[38;5;66;03m# !!!!!!!!!!!!!!!!!!!!!!!!!!!!!!!!!!!!!!!!!!!!!\u001b[39;00m\n\u001b[0;32m----> 2\u001b[0m \u001b[38;5;28;01mdel\u001b[39;00m favorite_sports[\u001b[38;5;124m'\u001b[39m\u001b[38;5;124mЭтель Смит\u001b[39m\u001b[38;5;124m'\u001b[39m]\n\u001b[1;32m      3\u001b[0m \u001b[38;5;28mprint\u001b[39m(favorite_sports)\n\u001b[1;32m      4\u001b[0m \u001b[38;5;66;03m# Выведется: ['Ральф Уильямс, Футбол', 'Майкл Типпетт, Баскетбол', 'Эдвард Элгар, Бейсбол', 'Ребекка Кларк, Нетбол', 'Фрэнк Бридж, Регби']\u001b[39;00m\n",
      "\u001b[0;31mTypeError\u001b[0m: list indices must be integers or slices, not str"
     ]
    }
   ],
   "source": [
    "# !!!!!!!!!!!!!!!!!!!!!!!!!!!!!!!!!!!!!!!!!!!!!\n",
    "del favorite_sports['Этель Смит']\n",
    "print(favorite_sports)\n",
    "# Выведется: ['Ральф Уильямс, Футбол', 'Майкл Типпетт, Баскетбол', 'Эдвард Элгар, Бейсбол', 'Ребекка Кларк, Нетбол', 'Фрэнк Бридж, Регби']"
   ]
  },
  {
   "cell_type": "code",
   "execution_count": 9,
   "id": "53e85a87",
   "metadata": {},
   "outputs": [
    {
     "ename": "TypeError",
     "evalue": "list indices must be integers or slices, not str",
     "output_type": "error",
     "traceback": [
      "\u001b[0;31m---------------------------------------------------------------------------\u001b[0m",
      "\u001b[0;31mTypeError\u001b[0m                                 Traceback (most recent call last)",
      "Cell \u001b[0;32mIn [9], line 1\u001b[0m\n\u001b[0;32m----> 1\u001b[0m \u001b[43mfavorite_sports\u001b[49m\u001b[43m[\u001b[49m\u001b[38;5;124;43m'\u001b[39;49m\u001b[38;5;124;43mРальф Уильямс\u001b[39;49m\u001b[38;5;124;43m'\u001b[39;49m\u001b[43m]\u001b[49m \u001b[38;5;241m=\u001b[39m \u001b[38;5;124m'\u001b[39m\u001b[38;5;124mХоккей нальду\u001b[39m\u001b[38;5;124m'\u001b[39m\n\u001b[1;32m      2\u001b[0m \u001b[38;5;28mprint\u001b[39m(favorite_sports)\n\u001b[1;32m      3\u001b[0m \u001b[38;5;66;03m# Выведется: ошибка\u001b[39;00m\n",
      "\u001b[0;31mTypeError\u001b[0m: list indices must be integers or slices, not str"
     ]
    }
   ],
   "source": [
    "# !!!!!!!!!!!!!!!!!!!!!!!!!!!!!!!!!!!!!!!!!!!!!\n",
    "favorite_sports['Ральф Уильямс'] = 'Хоккей нальду'\n",
    "print(favorite_sports)\n",
    "# Выведется: ошибка"
   ]
  },
  {
   "cell_type": "code",
   "execution_count": 10,
   "id": "ed1ed100",
   "metadata": {},
   "outputs": [],
   "source": [
    "favorite_sports = {'Ральф Уильямс': 'Футбол', 'Майкл Типпетт': 'Баскетбол', 'Эдвард Элгар': 'Бейсбол', 'Ребекка Кларк': 'Нетбол',  'Этель Смит': 'Бадминтон',  'Фрэнк Бридж': 'Регби'}"
   ]
  },
  {
   "cell_type": "code",
   "execution_count": 13,
   "id": "85486515",
   "metadata": {},
   "outputs": [
    {
     "name": "stdout",
     "output_type": "stream",
     "text": [
      "Нетбол\n"
     ]
    }
   ],
   "source": [
    "print(favorite_sports['Ребекка Кларк'])\n",
    "# Выведется: Нетбол"
   ]
  },
  {
   "cell_type": "code",
   "execution_count": 12,
   "id": "e286765a",
   "metadata": {},
   "outputs": [
    {
     "name": "stdout",
     "output_type": "stream",
     "text": [
      "{'Ральф Уильямс': 'Футбол', 'Майкл Типпетт': 'Баскетбол', 'Эдвард Элгар': 'Бейсбол', 'Ребекка Кларк': 'Нетбол', 'Фрэнк Бридж': 'Регби'}\n"
     ]
    }
   ],
   "source": [
    "del favorite_sports['Этель Смит']\n",
    "print(favorite_sports)\n",
    "# Выведется: все, но удалится 'Этель Смит': 'Бадминтон'"
   ]
  },
  {
   "cell_type": "code",
   "execution_count": 14,
   "id": "69f326ea",
   "metadata": {},
   "outputs": [
    {
     "name": "stdout",
     "output_type": "stream",
     "text": [
      "{'Ральф Уильямс': 'Хоккей нальду', 'Майкл Типпетт': 'Баскетбол', 'Эдвард Элгар': 'Бейсбол', 'Ребекка Кларк': 'Нетбол', 'Фрэнк Бридж': 'Регби'}\n"
     ]
    }
   ],
   "source": [
    "favorite_sports['Ральф Уильямс'] = 'Хоккей нальду'\n",
    "print(favorite_sports)\n",
    "# Выведется: 'Ральф Уильямс': 'Хоккей нальду', 'Майкл Типпетт': 'Баскетбол', 'Эдвард Элгар': 'Бейсбол', 'Ребекка Кларк': 'Нетбол', 'Фрэнк Бридж': 'Регби'"
   ]
  },
  {
   "cell_type": "code",
   "execution_count": 15,
   "id": "88cd0184",
   "metadata": {},
   "outputs": [],
   "source": [
    "age = 13\n",
    "if age > 20:\n",
    "    print('Как-то вы староваты!')\n",
    "# Выведется: ничего"
   ]
  },
  {
   "cell_type": "code",
   "execution_count": 16,
   "id": "2d55ea33",
   "metadata": {},
   "outputs": [],
   "source": [
    "age = 10\n",
    "if age > 10:\n",
    "    print('Вы слишком стары для моих шуток!')\n",
    "# Выведется: ничего"
   ]
  },
  {
   "cell_type": "code",
   "execution_count": 17,
   "id": "cdbb1be1",
   "metadata": {},
   "outputs": [
    {
     "name": "stdout",
     "output_type": "stream",
     "text": [
      "Тсс! Это секрет.\n"
     ]
    }
   ],
   "source": [
    "age = 8\n",
    "if age == 12:\n",
    "    print(\"Свинья шлепнулась в грязь!\")\n",
    "else:\n",
    "    print(\"Тсс! Это секрет.\")\n",
    "# Выведется: Тсс! Это секрет."
   ]
  },
  {
   "cell_type": "code",
   "execution_count": 19,
   "id": "fab3ef40",
   "metadata": {},
   "outputs": [
    {
     "name": "stdout",
     "output_type": "stream",
     "text": [
      "Что сказал 0 числу 8?\n",
      "Привет, ребята!\n"
     ]
    }
   ],
   "source": [
    "age = 12\n",
    "if age == 10:\n",
    "    print(\"Что выйдет, если клюква наденет штаны?\")\n",
    "    print(\"Брюква!\")\n",
    "elif age == 11:\n",
    "    print(\"Что сказала зеленая виноградина синей виноградине?\")\n",
    "    print(\"Дыши! Дыши!\") \n",
    "elif age == 12:\n",
    "    print(\"Что сказал 0 числу 8?\")\n",
    "    print(\"Привет, ребята!\")\n",
    "elif age == 13:\n",
    "    print(\"Что такое: напотолке сидит ихохочет?\")\n",
    "    print(\"Муха-хохотуха!\") \n",
    "else: \n",
    "    print(\"Что-что?\")\n",
    "# Выведется: \"Что сказал 0 числу 8?\" \n",
    "# \"Привет, ребята!\""
   ]
  },
  {
   "cell_type": "code",
   "execution_count": 20,
   "id": "f8d10654",
   "metadata": {},
   "outputs": [
    {
     "name": "stdout",
     "output_type": "stream",
     "text": [
      "13 + 49 + 84 + 155 + 97: что получится? Головная боль!\n"
     ]
    }
   ],
   "source": [
    "if age == 10 or age == 11 or age == 12 or age == 13:\n",
    "    print('13 + 49 + 84 + 155 + 97: что получится? Головная боль!') \n",
    "else: \n",
    "    print('Что-что?')\n",
    "# Выведется: 13 + 49 + 84 + 155 + 97: что получится? Головная боль!"
   ]
  },
  {
   "cell_type": "code",
   "execution_count": 21,
   "id": "ae779f34",
   "metadata": {},
   "outputs": [
    {
     "name": "stdout",
     "output_type": "stream",
     "text": [
      "13 + 49 + 84 + 155 + 97: что получится? Головная боль!\n"
     ]
    }
   ],
   "source": [
    "if age >= 10 and age <= 13:\n",
    "    print('13 + 49 + 84 + 155 + 97: что получится? Головная боль!') \n",
    "else: \n",
    "    print('Что-что?')\n",
    "# Выведется: '13 + 49 + 84 + 155 + 97: что получится? Головная боль!'"
   ]
  },
  {
   "cell_type": "code",
   "execution_count": 22,
   "id": "7c7b26bc",
   "metadata": {},
   "outputs": [
    {
     "name": "stdout",
     "output_type": "stream",
     "text": [
      "None\n"
     ]
    }
   ],
   "source": [
    "myval = None\n",
    "print(myval)\n",
    "# Выведется: None"
   ]
  },
  {
   "cell_type": "code",
   "execution_count": 23,
   "id": "3531a4d8",
   "metadata": {},
   "outputs": [
    {
     "name": "stdout",
     "output_type": "stream",
     "text": [
      "В переменной myval ничего нет\n"
     ]
    }
   ],
   "source": [
    "myval = None\n",
    "if myval == None:\n",
    "    print(\"В переменной myval ничего нет\")\n",
    "# Выведется: В переменной myval ничего нет"
   ]
  },
  {
   "cell_type": "code",
   "execution_count": 24,
   "id": "74adb27b",
   "metadata": {},
   "outputs": [
    {
     "name": "stdout",
     "output_type": "stream",
     "text": [
      "Как лучше всего общаться смонстром?\n",
      "Издалека!\n"
     ]
    }
   ],
   "source": [
    "age = 10\n",
    "if age == 10:\n",
    "    print(\"Как лучше всего общаться смонстром?\") \n",
    "    print(\"Издалека!\")\n",
    "# Выведется: Как лучше всего общаться смонстром?\" \"Издалека!\""
   ]
  },
  {
   "cell_type": "code",
   "execution_count": 2,
   "id": "1b1e531e",
   "metadata": {},
   "outputs": [],
   "source": [
    "age = '10'\n",
    "if age == 10:\n",
    "    print(\"Как лучше всего общаться смонстром?\")\n",
    "    print(\"Издалека!\") \n",
    "# Выведется: ничего"
   ]
  },
  {
   "cell_type": "code",
   "execution_count": 3,
   "id": "4b3077ee",
   "metadata": {},
   "outputs": [],
   "source": [
    "age = '10'\n",
    "converted_age = int(age)\n",
    "# Выведется: ничего, но 10 станет числом"
   ]
  },
  {
   "cell_type": "code",
   "execution_count": 5,
   "id": "8ac28e1a",
   "metadata": {},
   "outputs": [],
   "source": [
    "age = 10 \n",
    "converted_age = str(age)\n",
    "# Выведется: ничего, но 10 станет строкой"
   ]
  },
  {
   "cell_type": "code",
   "execution_count": 4,
   "id": "ba938471",
   "metadata": {},
   "outputs": [],
   "source": [
    "age = '10'\n",
    "converted_age = int(age)\n",
    "# Выведется: ничего, но 10 станет числом"
   ]
  },
  {
   "cell_type": "code",
   "execution_count": 7,
   "id": "9c6d1954",
   "metadata": {},
   "outputs": [],
   "source": [
    "if converted_age == 10:\n",
    "    print(\"Как лучше всего общаться смонстром?\")\n",
    "    print(\"Издалека!\") \n",
    "# Выведется: ничего, т.к. 10 - строка"
   ]
  },
  {
   "cell_type": "code",
   "execution_count": 8,
   "id": "e6f52215",
   "metadata": {},
   "outputs": [
    {
     "ename": "ValueError",
     "evalue": "invalid literal for int() with base 10: '10.5'",
     "output_type": "error",
     "traceback": [
      "\u001b[0;31m---------------------------------------------------------------------------\u001b[0m",
      "\u001b[0;31mValueError\u001b[0m                                Traceback (most recent call last)",
      "Cell \u001b[0;32mIn [8], line 2\u001b[0m\n\u001b[1;32m      1\u001b[0m age \u001b[38;5;241m=\u001b[39m \u001b[38;5;124m'\u001b[39m\u001b[38;5;124m10.5\u001b[39m\u001b[38;5;124m'\u001b[39m\n\u001b[0;32m----> 2\u001b[0m converted_age \u001b[38;5;241m=\u001b[39m \u001b[38;5;28;43mint\u001b[39;49m\u001b[43m(\u001b[49m\u001b[43mage\u001b[49m\u001b[43m)\u001b[49m\n\u001b[1;32m      3\u001b[0m \u001b[38;5;66;03m# Выведется: ошибка\u001b[39;00m\n",
      "\u001b[0;31mValueError\u001b[0m: invalid literal for int() with base 10: '10.5'"
     ]
    }
   ],
   "source": [
    "age = '10.5'\n",
    "converted_age = int(age)\n",
    "# Выведется: ошибка"
   ]
  },
  {
   "cell_type": "code",
   "execution_count": 11,
   "id": "91bcf0fd",
   "metadata": {},
   "outputs": [
    {
     "name": "stdout",
     "output_type": "stream",
     "text": [
      "10.5\n"
     ]
    }
   ],
   "source": [
    "age = '10.5'\n",
    "converted_age = float(age)\n",
    "print(converted_age)\n",
    "# Выведется: 10.5, ставшее нецелым числом"
   ]
  },
  {
   "cell_type": "code",
   "execution_count": 9,
   "id": "cea82b62",
   "metadata": {},
   "outputs": [
    {
     "ename": "ValueError",
     "evalue": "invalid literal for int() with base 10: 'десять'",
     "output_type": "error",
     "traceback": [
      "\u001b[0;31m---------------------------------------------------------------------------\u001b[0m",
      "\u001b[0;31mValueError\u001b[0m                                Traceback (most recent call last)",
      "Cell \u001b[0;32mIn [9], line 2\u001b[0m\n\u001b[1;32m      1\u001b[0m age \u001b[38;5;241m=\u001b[39m \u001b[38;5;124m'\u001b[39m\u001b[38;5;124mдесять\u001b[39m\u001b[38;5;124m'\u001b[39m\n\u001b[0;32m----> 2\u001b[0m converted_age \u001b[38;5;241m=\u001b[39m \u001b[38;5;28;43mint\u001b[39;49m\u001b[43m(\u001b[49m\u001b[43mage\u001b[49m\u001b[43m)\u001b[49m\n\u001b[1;32m      3\u001b[0m \u001b[38;5;66;03m# Выведется: ошибка\u001b[39;00m\n",
      "\u001b[0;31mValueError\u001b[0m: invalid literal for int() with base 10: 'десять'"
     ]
    }
   ],
   "source": [
    "age = 'десять'\n",
    "converted_age = int(age)\n",
    "# Выведется: ошибка"
   ]
  },
  {
   "cell_type": "code",
   "execution_count": 13,
   "id": "a0e4ee60",
   "metadata": {},
   "outputs": [
    {
     "name": "stdout",
     "output_type": "stream",
     "text": [
      "привет\n",
      "привет\n",
      "привет\n",
      "привет\n",
      "привет\n"
     ]
    }
   ],
   "source": [
    "for x in range(0, 5): \n",
    "    print('привет')\n",
    "# Выведется: привет 5 раз"
   ]
  },
  {
   "cell_type": "code",
   "execution_count": 15,
   "id": "6ab72a18",
   "metadata": {},
   "outputs": [
    {
     "name": "stdout",
     "output_type": "stream",
     "text": [
      "[10, 11, 12, 13, 14, 15, 16, 17, 18, 19]\n"
     ]
    }
   ],
   "source": [
    "print(list(range(10, 20)))\n",
    "# Выведется: список чисел от 10 до 19"
   ]
  },
  {
   "cell_type": "code",
   "execution_count": 17,
   "id": "744b32f9",
   "metadata": {},
   "outputs": [
    {
     "name": "stdout",
     "output_type": "stream",
     "text": [
      "привет 0\n",
      "привет 1\n",
      "привет 2\n",
      "привет 3\n",
      "привет 4\n"
     ]
    }
   ],
   "source": [
    "for x in range(0, 5):\n",
    "    print('привет %s' % x)\n",
    "# Выведется: привет 0, привет 1, привет 2, привет 3, привет 4 в столбик"
   ]
  },
  {
   "cell_type": "code",
   "execution_count": 18,
   "id": "1f03cd32",
   "metadata": {},
   "outputs": [
    {
     "name": "stdout",
     "output_type": "stream",
     "text": [
      "паучьи лапки\n",
      "жабий палец\n",
      "язык улитки\n",
      "крыло летучей мыши\n",
      "жир слизня\n",
      "медвежий коготь\n"
     ]
    }
   ],
   "source": [
    "wizard_list = ['паучьи лапки', 'жабий палец', 'язык улитки', 'крыло летучей мыши', 'жир слизня', 'медвежий коготь'] \n",
    "for i in wizard_list:\n",
    "    print (i)\n",
    "# Выведется: паучьи лапки, жабий палец, язык улитки, крыло летучей мыши, жир слизня, медвежий коготь в столбец"
   ]
  },
  {
   "cell_type": "code",
   "execution_count": 1,
   "id": "da201da1",
   "metadata": {},
   "outputs": [
    {
     "name": "stdout",
     "output_type": "stream",
     "text": [
      "огромные\n",
      "огромные\n",
      "волосатые\n",
      "штаны\n",
      "волосатые\n",
      "огромные\n",
      "волосатые\n",
      "штаны\n",
      "штаны\n",
      "огромные\n",
      "волосатые\n",
      "штаны\n"
     ]
    }
   ],
   "source": [
    "hugehairypants = ['огромные', 'волосатые', 'штаны']\n",
    "for i in hugehairypants:\n",
    "    print(i)\n",
    "    for j in hugehairypants:\n",
    "        print(j)\n",
    "# Выведется: огромные огромные волосатые штаны волосатые огромные волосатые штаны штаны огромные волосатые штаны"
   ]
  },
  {
   "cell_type": "code",
   "execution_count": 20,
   "id": "0aab34a0",
   "metadata": {},
   "outputs": [
    {
     "name": "stdout",
     "output_type": "stream",
     "text": [
      "Неделя 1 = 87\n",
      "Неделя 2 = 154\n",
      "Неделя 3 = 221\n",
      "Неделя 4 = 288\n"
     ]
    }
   ],
   "source": [
    "found_coins = 20\n",
    "magic_coins = 70\n",
    "stolen_coins = 3\n",
    "coins = found_coins\n",
    "for week in range(1, 5):\n",
    "        coins = coins + magic_coins - stolen_coins\n",
    "        print('Неделя %s = %s' % (week, coins))\n",
    "# Выведется: Неделя 1 = 87 Неделя 2 = 154 Неделя 3 =221 Неделя 4 = 228 "
   ]
  },
  {
   "cell_type": "code",
   "execution_count": 21,
   "id": "8a77689b",
   "metadata": {},
   "outputs": [
    {
     "name": "stdout",
     "output_type": "stream",
     "text": [
      "46 81\n",
      "47 82\n",
      "48 83\n",
      "49 84\n",
      "50 85\n"
     ]
    }
   ],
   "source": [
    "x = 45\n",
    "y = 80\n",
    "while x < 50 and y < 100: \n",
    "    x=x+ 1\n",
    "    y=y+ 1 \n",
    "    print(x, y) \n",
    "# Выведется: 46 81, 47 82, 48 83, 49 84, 50 85"
   ]
  },
  {
   "cell_type": "code",
   "execution_count": null,
   "id": "d424dbff",
   "metadata": {},
   "outputs": [],
   "source": [
    "for x in range(0, 20):\n",
    "    print('привет %s' % x)\n",
    "    if x < 9:\n",
    "        break \n",
    "# Выведется: привет 0"
   ]
  },
  {
   "cell_type": "code",
   "execution_count": 2,
   "id": "66507136",
   "metadata": {},
   "outputs": [
    {
     "name": "stdout",
     "output_type": "stream",
     "text": [
      "Привет, Мэри\n"
     ]
    }
   ],
   "source": [
    "def testfunc(myname):\n",
    "              print('Привет, %s' % myname)\n",
    "testfunc('Мэри')\n",
    "# Выведется: Привет, Мэри"
   ]
  },
  {
   "cell_type": "code",
   "execution_count": 3,
   "id": "34247b42",
   "metadata": {},
   "outputs": [
    {
     "name": "stdout",
     "output_type": "stream",
     "text": [
      "Привет, Мэри Смит\n"
     ]
    }
   ],
   "source": [
    "def testfunc(fname, lname):\n",
    "              print('Привет, %s %s' % (fname, lname))\n",
    "testfunc('Мэри', 'Смит')\n",
    "# Выведется: Привет, Мэри Смит"
   ]
  },
  {
   "cell_type": "code",
   "execution_count": 22,
   "id": "b5efff32",
   "metadata": {},
   "outputs": [
    {
     "name": "stdout",
     "output_type": "stream",
     "text": [
      "15\n"
     ]
    }
   ],
   "source": [
    "def savings(pocket_money, paper_route, spending):\n",
    "              return pocket_money + paper_route - spending\n",
    "print(savings(10, 10, 5))\n",
    "# Выведется: 15"
   ]
  },
  {
   "cell_type": "code",
   "execution_count": 23,
   "id": "700285b9",
   "metadata": {},
   "outputs": [
    {
     "name": "stdout",
     "output_type": "stream",
     "text": [
      "Mon Apr 10 22:04:24 2023\n"
     ]
    }
   ],
   "source": [
    "import time\n",
    "print(time.asctime())\n",
    "# Выведется: время. Вывелся еще день недели число, месяц и год"
   ]
  },
  {
   "cell_type": "markdown",
   "id": "8902641e",
   "metadata": {},
   "source": [
    "# Упражнения 1"
   ]
  },
  {
   "cell_type": "markdown",
   "id": "4853a3dd",
   "metadata": {},
   "source": [
    "#1. Любимые вещи \n",
    "Создайте список своих любимых развлечений и сохраните его в переменной games. Теперь создайте список любимых лакомств, сохранив его в переменной foods. Объедините два этих списка, сохранив результат в переменной favorites, и напечатайте значение этой переменной. "
   ]
  },
  {
   "cell_type": "code",
   "execution_count": 28,
   "id": "8f2c7bf9",
   "metadata": {},
   "outputs": [
    {
     "name": "stdout",
     "output_type": "stream",
     "text": [
      "['катание на велике', 'просмотр фильмов', 'прыжки на батуте', 'рисование', 'мороженное', 'апельсиновый сок', 'пироженное', 'клубника', 'голубика']\n"
     ]
    }
   ],
   "source": [
    "games = [\"катание на велике\", \"просмотр фильмов\", \"прыжки на батуте\", \"рисование\"]\n",
    "foods = [\"мороженное\", \"апельсиновый сок\", \"пироженное\", \"клубника\", \"голубика\"]\n",
    "favorites = games + foods\n",
    "print(favorites)"
   ]
  },
  {
   "cell_type": "markdown",
   "id": "ef341814",
   "metadata": {},
   "source": [
    "#2. Подсчет воинов \n",
    "Есть 3 дома, на крыше каждого из которых прячутся по 25 ниндзя, и есть 2 туннеля, в каждом из которых скрывается по 40 самураев. Сколько всего воинов решили устроить заварушку? (Ответ можно найти, введя в оболочке Python арифметическое выражение.) "
   ]
  },
  {
   "cell_type": "code",
   "execution_count": 30,
   "id": "ad49d545",
   "metadata": {},
   "outputs": [
    {
     "name": "stdout",
     "output_type": "stream",
     "text": [
      "155 воинов решили устроить заварушку\n"
     ]
    }
   ],
   "source": [
    "num_voins = \"%s воинов решили устроить заварушку\"\n",
    "voins = 3 * 25 + (2 * 40)\n",
    "print(num_voins % voins)"
   ]
  },
  {
   "cell_type": "markdown",
   "id": "36852812",
   "metadata": {},
   "source": [
    "#3. Приветствие \n",
    "Создайте две переменные: пусть одна хранит ваше имя, а другая фамилию. Теперь с помощью строки с метками %s напечатайте приветствие вроде такого: «Привет, Брандо Икетт!»"
   ]
  },
  {
   "cell_type": "code",
   "execution_count": 34,
   "id": "ad5fe9dd",
   "metadata": {},
   "outputs": [
    {
     "name": "stdout",
     "output_type": "stream",
     "text": [
      "Привет, Vasilisa Sachenko!\n"
     ]
    }
   ],
   "source": [
    "pr = \"Привет, %s!\"\n",
    "first_name = \"Vasilisa\"\n",
    "last_name = \" Sachenko\"\n",
    "first_and_last_name = first_name + last_name\n",
    "print(pr % first_and_last_name)"
   ]
  },
  {
   "cell_type": "markdown",
   "id": "a17959ec",
   "metadata": {},
   "source": [
    "# Упражнения  2\n",
    "Решите эти задачи, используя конструкции if и условия."
   ]
  },
  {
   "cell_type": "markdown",
   "id": "a4c279b3",
   "metadata": {},
   "source": [
    "#1. Вы богаты? \n",
    "Как думаете, что делает этот код? Сначала попробуйте в этом разобраться, не вводя код в оболочку Python, а затем проверьте свой ответ. \n",
    "\n",
    "money = 2000\n",
    "if money > 1000:\n",
    "     print(\"Я богат!\")\n",
    "else: \n",
    "     print(\"Я не богат!\")\n",
    "     print(\"Может, когда-нибудь потом...\")"
   ]
  },
  {
   "cell_type": "code",
   "execution_count": 1,
   "id": "18ef3550",
   "metadata": {},
   "outputs": [
    {
     "name": "stdout",
     "output_type": "stream",
     "text": [
      "Я богат!\n"
     ]
    }
   ],
   "source": [
    "# Если значение переменной money больше 1000, выводится \"Я богат!\", если < или = 1000, выводится \"Я не богат!\" \"Может, когда-нибудь потом...\"\n",
    "money = 2000\n",
    "if money > 1000:\n",
    "     print(\"Я богат!\")\n",
    "else: \n",
    "     print(\"Я не богат!\")\n",
    "     print(\"Может, когда-нибудь потом...\")"
   ]
  },
  {
   "cell_type": "markdown",
   "id": "16e7849a",
   "metadata": {},
   "source": [
    "#2. Бисквитики! \n",
    "Создайте конструкцию if, которая проверяет, действительно ли количество бисквитов (которое задано в переменной twinkies) меньше 100 или больше 500. Если это условие выполняется, пусть ваша программа напечатает сообщение «Слишком мало или слишком много». "
   ]
  },
  {
   "cell_type": "code",
   "execution_count": 6,
   "id": "be3ae1c8",
   "metadata": {},
   "outputs": [
    {
     "name": "stdout",
     "output_type": "stream",
     "text": [
      "Слишком много\n"
     ]
    }
   ],
   "source": [
    "twinkies = 600\n",
    "if twinkies < 100:\n",
    "    print(\"Слишком мало\")\n",
    "elif twinkies > 500:\n",
    "    print(\"Слишком много\")"
   ]
  },
  {
   "cell_type": "markdown",
   "id": "eeaf2fe3",
   "metadata": {},
   "source": [
    "#3. Подходящая сумма \n",
    "Создайте конструкцию if, которая проверяет, соответствует ли заданная в переменной money сумма денег диапазону значений от 100 до 500 или диапазону значений от 1000 до 5000. "
   ]
  },
  {
   "cell_type": "code",
   "execution_count": 11,
   "id": "a73f9f42",
   "metadata": {},
   "outputs": [
    {
     "name": "stdout",
     "output_type": "stream",
     "text": [
      "No\n"
     ]
    }
   ],
   "source": [
    "money = 700\n",
    "if money > 100 and money < 500:\n",
    "    print(\"Yes\")\n",
    "elif money > 1000 and money < 5000:\n",
    "    print(\"Yes\")\n",
    "else:\n",
    "    print(\"No\")"
   ]
  },
  {
   "cell_type": "markdown",
   "id": "5bf25592",
   "metadata": {},
   "source": [
    "#4. Я одолею этих ниндзя! \n",
    "Создайте конструкцию if, которая печатает строку «Их слишком много», если количество ниндзя (заданное в переменной ninjas) меньше 50, печатает «Будет непросто, но я с ними разделаюсь», если это количество меньше 30, и печатает «Я одолею этих ниндзя!», если количество меньше 10. Проверьте, как ваш код работает с таким значением: ninjas = 5"
   ]
  },
  {
   "cell_type": "code",
   "execution_count": 1,
   "id": "81c49d7d",
   "metadata": {},
   "outputs": [
    {
     "name": "stdout",
     "output_type": "stream",
     "text": [
      "Будет непросто, но я с ними разделаюсь\n"
     ]
    }
   ],
   "source": [
    "ninjas = 25\n",
    "if ninjas < 10:\n",
    "    print(\"Я одолею этих ниндзя!\")\n",
    "elif ninjas < 30:\n",
    "    print(\"Будет непросто, но я с ними разделаюсь\")\n",
    "elif ninjas < 50:\n",
    "    print(\"Их слишком много\")"
   ]
  },
  {
   "cell_type": "markdown",
   "id": "38954b9e",
   "metadata": {},
   "source": [
    "# Упражнения  3"
   ]
  },
  {
   "cell_type": "markdown",
   "id": "5fc9662e",
   "metadata": {},
   "source": [
    "#1. Цикл с приветом \n",
    "Как вы считаете, что делает эта программа? Сперва придумайте вариант ответа, а потом запустите код и проверьте, угадали ли вы. \n",
    "\n",
    "for x in range(0, 20):\n",
    "    print('привет %s' % x)\n",
    "    if x < 9:\n",
    "        break "
   ]
  },
  {
   "cell_type": "code",
   "execution_count": 24,
   "id": "ddf54194",
   "metadata": {},
   "outputs": [
    {
     "name": "stdout",
     "output_type": "stream",
     "text": [
      "привет 0\n"
     ]
    }
   ],
   "source": [
    "# Выведется ноль\n",
    "for x in range(0, 20):\n",
    "    print('привет %s' % x)\n",
    "    if x < 9:\n",
    "        break"
   ]
  },
  {
   "cell_type": "markdown",
   "id": "693d3f1f",
   "metadata": {},
   "source": [
    "#2. Четные числа. \n",
    "Создайте цикл, который печатает четные числа до тех пор, пока не выведет ваш возраст. Если ваш возраст — нечетное число, создайте цикл, который печатает нечетные числа до совпадения с возрастом. Программа должна выводить на экран нечто подобное:  2 4 6 8 10 12 14 "
   ]
  },
  {
   "cell_type": "code",
   "execution_count": 2,
   "id": "5c0f18fa",
   "metadata": {},
   "outputs": [
    {
     "name": "stdout",
     "output_type": "stream",
     "text": [
      "3\n",
      "5\n",
      "7\n",
      "9\n",
      "11\n",
      "13\n",
      "15\n",
      "17\n",
      "19\n",
      "21\n"
     ]
    }
   ],
   "source": [
    "age = 21\n",
    "chislo = 1\n",
    "while chislo < age: \n",
    "    chislo += 2\n",
    "    print(chislo)"
   ]
  },
  {
   "cell_type": "markdown",
   "id": "3a83732b",
   "metadata": {},
   "source": [
    "#3. Пять любимых ингредиентов \n",
    "Создайте список с пятью разными ингредиентами для бутерброда, наподобие: ingredients = ['слизни', 'пиявки', 'катышки изпупка гориллы', 'брови гусеницы', 'пальцы многоножки'] \n",
    "Теперь создайте цикл, который печатает список ингредиентов с нумерацией: \n",
    "1 слизни\n",
    "2 пиявки\n",
    "3 катышки изпупка гориллы \n",
    "4 брови гусеницы\n",
    "5 пальцы многоножки"
   ]
  },
  {
   "cell_type": "code",
   "execution_count": 5,
   "id": "2897c821",
   "metadata": {},
   "outputs": [
    {
     "name": "stdout",
     "output_type": "stream",
     "text": [
      "1 хлеб\n",
      "2 масло\n",
      "3 сыр\n",
      "4 колбаса\n",
      "5 помидор\n"
     ]
    }
   ],
   "source": [
    "# Вариант 1\n",
    "ingredients = [\"хлеб\", \"масло\", \"сыр\", \"колбаса\", \"помидор\"]\n",
    "count = 0\n",
    "for el in ingredients:\n",
    "    count += 1\n",
    "    print(count, el)"
   ]
  },
  {
   "cell_type": "code",
   "execution_count": 24,
   "id": "b2f8de6d",
   "metadata": {},
   "outputs": [
    {
     "name": "stdout",
     "output_type": "stream",
     "text": [
      "1 хлеб\n",
      "2 масло\n",
      "3 сыр\n",
      "4 колбаса\n",
      "5 помидор\n"
     ]
    }
   ],
   "source": [
    "# Вариант 2\n",
    "ingredients = [\"хлеб\", \"масло\", \"сыр\", \"колбаса\", \"помидор\"]\n",
    "for el, number in enumerate(ingredients, 1):\n",
    "    print(el, number)"
   ]
  },
  {
   "cell_type": "markdown",
   "id": "6d5bb4a9",
   "metadata": {},
   "source": [
    "#4. Ваш лунный вес. \n",
    "Если бы вы сейчас были на Луне, ваш вес составил бы 16,5 процентов от земного. Чтобы узнать, сколько это, умножьте свой земной вес на 0,165. Если бы каждый год в течение следующих 15 лет вы прибавляли по одному килограмму веса, каким бы оказался ваш лунный вес в каж- дый из ежегодных визитов на Луну вплоть до 15-го года? Напишите программу, которая с помощью цикла for печатает на экране ваш лунный вес в каждом году."
   ]
  },
  {
   "cell_type": "code",
   "execution_count": 8,
   "id": "9d88d092",
   "metadata": {},
   "outputs": [
    {
     "name": "stdout",
     "output_type": "stream",
     "text": [
      "Вес = 9.57\n",
      "Вес = 9.735000000000001\n",
      "Вес = 9.9\n",
      "Вес = 10.065000000000001\n",
      "Вес = 10.23\n",
      "Вес = 10.395000000000001\n",
      "Вес = 10.56\n",
      "Вес = 10.725\n",
      "Вес = 10.89\n",
      "Вес = 11.055\n",
      "Вес = 11.22\n",
      "Вес = 11.385\n",
      "Вес = 11.55\n",
      "Вес = 11.715\n",
      "Вес = 11.88\n"
     ]
    }
   ],
   "source": [
    "# Без вывода года\n",
    "my_weight = 58\n",
    "for year in range(15):\n",
    "    weight_luna = my_weight * 0.165\n",
    "    my_weight += 1\n",
    "    print(\"Вес =\", weight_luna)"
   ]
  },
  {
   "cell_type": "code",
   "execution_count": 23,
   "id": "01e025a7",
   "metadata": {},
   "outputs": [
    {
     "name": "stdout",
     "output_type": "stream",
     "text": [
      "Год: 2023 Вес = 9.57\n",
      "Год: 2024 Вес = 9.735000000000001\n",
      "Год: 2025 Вес = 9.9\n",
      "Год: 2026 Вес = 10.065000000000001\n",
      "Год: 2027 Вес = 10.23\n",
      "Год: 2028 Вес = 10.395000000000001\n",
      "Год: 2029 Вес = 10.56\n",
      "Год: 2030 Вес = 10.725\n",
      "Год: 2031 Вес = 10.89\n",
      "Год: 2032 Вес = 11.055\n",
      "Год: 2033 Вес = 11.22\n",
      "Год: 2034 Вес = 11.385\n",
      "Год: 2035 Вес = 11.55\n",
      "Год: 2036 Вес = 11.715\n",
      "Год: 2037 Вес = 11.88\n"
     ]
    }
   ],
   "source": [
    "# С выводом года\n",
    "my_weight = 58\n",
    "for el in range(2023, 2023 + 15):\n",
    "    weight_luna = my_weight * 0.165\n",
    "    my_weight += 1\n",
    "    print(\"Год:\", el,\"Вес =\", weight_luna)"
   ]
  },
  {
   "cell_type": "markdown",
   "id": "398dfeec",
   "metadata": {},
   "source": [
    "# Упражнения  4"
   ]
  },
  {
   "cell_type": "markdown",
   "id": "bc3ca79e",
   "metadata": {},
   "source": [
    "#1. Функция лунного веса \n",
    "Одним из заданий к главе 6 было создание цикла for для расчета вашего веса на Луне в течение 15 лет. Этот цикл можно оформить в виде функции. Создайте функцию, которая принимает начальный вес и величину, на которую вес увеличивается каждый год. Вызывать эту новую функ- цию нужно будет примерно так: moon_weight(30, 0.25)"
   ]
  },
  {
   "cell_type": "code",
   "execution_count": 19,
   "id": "ac5949d4",
   "metadata": {},
   "outputs": [
    {
     "name": "stdout",
     "output_type": "stream",
     "text": [
      "[9.57, 10.065000000000001, 10.56, 11.055, 11.55, 12.045, 12.540000000000001, 13.035, 13.530000000000001, 14.025, 14.520000000000001, 15.015, 15.510000000000002, 16.005, 16.5]\n"
     ]
    }
   ],
   "source": [
    "def moon_weight(my_weight, velichina):\n",
    "    spisok = []\n",
    "    for year in range(15):\n",
    "        weight_luna = my_weight * 0.165\n",
    "        my_weight += velichina\n",
    "        spisok.append(weight_luna)\n",
    "    return(spisok)\n",
    "\n",
    "print(moon_weight(58, 3))"
   ]
  },
  {
   "cell_type": "markdown",
   "id": "7e008147",
   "metadata": {},
   "source": [
    "#2. Функция лунного веса и количество лет \n",
    "Измените функцию из предыдущего задания так, чтобы с ее помощью можно было рассчитывать вес для разного количества лет, например 5 или 20 лет. Пусть эта функция принимает три аргумента: начальный вес, прибавку веса в год и количество лет: moon_weight(90, 0.25, 5)"
   ]
  },
  {
   "cell_type": "code",
   "execution_count": 21,
   "id": "97fd63fa",
   "metadata": {},
   "outputs": [
    {
     "name": "stdout",
     "output_type": "stream",
     "text": [
      "[9.57, 10.065000000000001, 10.56, 11.055, 11.55, 12.045, 12.540000000000001]\n"
     ]
    }
   ],
   "source": [
    "def moon_weight(my_weight, velichina, year):\n",
    "    spisok = []\n",
    "    for year in range(year):\n",
    "        weight_luna = my_weight * 0.165\n",
    "        my_weight += velichina\n",
    "        spisok.append(weight_luna)\n",
    "    return(spisok)\n",
    "\n",
    "print(moon_weight(58, 3, 7))"
   ]
  }
 ],
 "metadata": {
  "kernelspec": {
   "display_name": "Python 3 (ipykernel)",
   "language": "python",
   "name": "python3"
  },
  "language_info": {
   "codemirror_mode": {
    "name": "ipython",
    "version": 3
   },
   "file_extension": ".py",
   "mimetype": "text/x-python",
   "name": "python",
   "nbconvert_exporter": "python",
   "pygments_lexer": "ipython3",
   "version": "3.9.7"
  }
 },
 "nbformat": 4,
 "nbformat_minor": 5
}
