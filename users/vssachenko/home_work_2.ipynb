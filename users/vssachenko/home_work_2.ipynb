total 156
drwxr-x---  9 jupyter-vssachenko jupyter-vssachenko  4096 Jan 16 23:34 [0m[01;34m.[0m/
drwxr-xr-x 31 root               root                4096 Jan 14 17:40 [01;34m..[0m/
-rw-------  1 jupyter-vssachenko jupyter-vssachenko   825 Jan  8 22:18 .bash_history
-rw-r--r--  1 jupyter-vssachenko jupyter-vssachenko   220 Feb 25  2020 .bash_logout
-rw-r--r--  1 jupyter-vssachenko jupyter-vssachenko  3771 Feb 25  2020 .bashrc
drwxr-xr-x  3 jupyter-vssachenko jupyter-vssachenko  4096 Dec 21 18:24 [01;34m.cache[0m/
-rw-r--r--  1 jupyter-vssachenko jupyter-vssachenko    59 Jan 16 23:34 .gitconfig
drwxr-xr-x  3 jupyter-vssachenko jupyter-vssachenko  4096 Dec 26 13:23 [01;34mgithub[0m/
drwxr-xr-x  2 jupyter-vssachenko jupyter-vssachenko  4096 Dec 26 13:04 [01;34m.ipynb_checkpoints[0m/
drwxr-xr-x  3 jupyter-vssachenko jupyter-vssachenko  4096 Dec 22 22:35 [01;34m.ipython[0m/
drwxr-xr-x  2 jupyter-vssachenko jupyter-vssachenko  4096 Dec 22 22:34 [01;34m.jupyter[0m/
drwxr-xr-x  3 jupyter-vssachenko jupyter-vssachenko  4096 Dec 21 18:23 [01;34m.local[0m/
-rw-r--r--  1 jupyter-vssachenko jupyter-vssachenko   807 Feb 25  2020 .profile
-rw-r--r--  1 root               root               96167 Dec 21 22:17 python_basics.ipynb
drwx------  2 jupyter-vssachenko jupyter-vssachenko  4096 Dec 26 12:38 [01;34m.ssh[0m/
-rw-r--r--  1 jupyter-vssachenko jupyter-vssachenko  1566 Dec 26 13:22 Untitled.ipynb
